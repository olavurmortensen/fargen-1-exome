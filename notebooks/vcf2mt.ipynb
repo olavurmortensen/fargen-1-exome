{
 "cells": [
  {
   "cell_type": "markdown",
   "metadata": {},
   "source": [
    "# Convert VCF to MatrixTable"
   ]
  },
  {
   "cell_type": "code",
   "execution_count": 1,
   "metadata": {},
   "outputs": [
    {
     "name": "stderr",
     "output_type": "stream",
     "text": [
      "Running on Apache Spark version 2.4.6\n",
      "SparkUI available at http://hms-beagle-5466c684ff-2l8nm:4045\n",
      "Welcome to\n",
      "     __  __     <>__\n",
      "    / /_/ /__  __/ /\n",
      "   / __  / _ `/ / /\n",
      "  /_/ /_/\\_,_/_/_/   version 0.2.58-3f304aae6ce2\n",
      "LOGGING: writing to /home/olavur/experiments/2020-11-13_fargen1_exome_analysis/fargen-1-exome/notebooks/hail-20201203-1131-0.2.58-3f304aae6ce2.log\n"
     ]
    }
   ],
   "source": [
    "import hail as hl\n",
    "hl.init()"
   ]
  },
  {
   "cell_type": "code",
   "execution_count": 4,
   "metadata": {},
   "outputs": [],
   "source": [
    "vcf_path = '/home/olavur/experiments/2020-11-13_fargen1_exome_analysis/data/vcf/test_48_samples/vcf_renamed/variants.vcf.bgz'"
   ]
  },
  {
   "cell_type": "code",
   "execution_count": 5,
   "metadata": {},
   "outputs": [],
   "source": [
    "mt = hl.import_vcf(vcf_path, reference_genome='GRCh38', array_elements_required=False)"
   ]
  },
  {
   "cell_type": "code",
   "execution_count": 15,
   "metadata": {},
   "outputs": [
    {
     "name": "stderr",
     "output_type": "stream",
     "text": [
      "2020-11-17 14:53:20 Hail: INFO: Coerced sorted dataset\n",
      "2020-11-17 14:55:21 Hail: INFO: wrote matrix table with 948549 rows and 48 columns in 5 partitions to data/mt/variants.mt\n",
      "    Total size: 619.74 MiB\n",
      "    * Rows/entries: 619.74 MiB\n",
      "    * Columns: 221.00 B\n",
      "    * Globals: 11.00 B\n",
      "    * Smallest partition: 188020 rows (123.79 MiB)\n",
      "    * Largest partition:  193332 rows (124.15 MiB)\n"
     ]
    }
   ],
   "source": [
    "mt.write('data/mt/variants.mt', overwrite=True)"
   ]
  },
  {
   "cell_type": "markdown",
   "metadata": {},
   "source": [
    "## Filter variants\n",
    "\n",
    "Keep only variants in the VQSR tranche between 99.9 and 100, both SNPs and indels."
   ]
  },
  {
   "cell_type": "code",
   "execution_count": 11,
   "metadata": {},
   "outputs": [],
   "source": [
    "mt_filtered = mt.filter_rows(mt.filters.contains('VQSRTrancheSNP99.90to100.00') | mt.filters.contains('VQSRTrancheINDEL99.90to100.00'))"
   ]
  },
  {
   "cell_type": "code",
   "execution_count": 12,
   "metadata": {},
   "outputs": [
    {
     "name": "stderr",
     "output_type": "stream",
     "text": [
      "2020-12-03 11:36:23 Hail: INFO: Coerced sorted dataset\n"
     ]
    },
    {
     "data": {
      "text/plain": [
       "(185771, 48)"
      ]
     },
     "execution_count": 12,
     "metadata": {},
     "output_type": "execute_result"
    }
   ],
   "source": [
    "mt_filtered.count()"
   ]
  },
  {
   "cell_type": "code",
   "execution_count": 9,
   "metadata": {},
   "outputs": [
    {
     "name": "stderr",
     "output_type": "stream",
     "text": [
      "2020-12-03 11:34:05 Hail: INFO: Coerced sorted dataset\n"
     ]
    },
    {
     "data": {
      "text/plain": [
       "(948549, 48)"
      ]
     },
     "execution_count": 9,
     "metadata": {},
     "output_type": "execute_result"
    }
   ],
   "source": [
    "mt.count()"
   ]
  },
  {
   "cell_type": "markdown",
   "metadata": {},
   "source": [
    "Write the filtered variants to file."
   ]
  },
  {
   "cell_type": "code",
   "execution_count": 14,
   "metadata": {},
   "outputs": [
    {
     "name": "stderr",
     "output_type": "stream",
     "text": [
      "2020-12-03 14:40:51 Hail: INFO: Coerced sorted dataset\n",
      "2020-12-03 14:42:18 Hail: INFO: wrote matrix table with 185771 rows and 48 columns in 5 partitions to data/mt/filtered.mt\n",
      "    Total size: 110.51 MiB\n",
      "    * Rows/entries: 110.51 MiB\n",
      "    * Columns: 221.00 B\n",
      "    * Globals: 11.00 B\n",
      "    * Smallest partition: 36459 rows (21.72 MiB)\n",
      "    * Largest partition:  37814 rows (22.68 MiB)\n"
     ]
    }
   ],
   "source": [
    "mt_filtered.write('/home/olavur/experiments/2020-11-13_fargen1_exome_analysis/data/mt/filtered.mt', overwrite=True)"
   ]
  },
  {
   "cell_type": "code",
   "execution_count": null,
   "metadata": {},
   "outputs": [],
   "source": []
  }
 ],
 "metadata": {
  "kernelspec": {
   "display_name": "Python 3",
   "language": "python",
   "name": "python3"
  },
  "language_info": {
   "codemirror_mode": {
    "name": "ipython",
    "version": 3
   },
   "file_extension": ".py",
   "mimetype": "text/x-python",
   "name": "python",
   "nbconvert_exporter": "python",
   "pygments_lexer": "ipython3",
   "version": "3.6.11"
  }
 },
 "nbformat": 4,
 "nbformat_minor": 4
}
