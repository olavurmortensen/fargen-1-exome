{
 "cells": [
  {
   "cell_type": "markdown",
   "metadata": {},
   "source": [
    "# Convert VCF to MatrixTable"
   ]
  },
  {
   "cell_type": "code",
   "execution_count": 2,
   "metadata": {},
   "outputs": [
    {
     "name": "stderr",
     "output_type": "stream",
     "text": [
      "Running on Apache Spark version 2.4.6\n",
      "SparkUI available at http://hms-beagle-5466c684ff-d8mgh:4040\n",
      "Welcome to\n",
      "     __  __     <>__\n",
      "    / /_/ /__  __/ /\n",
      "   / __  / _ `/ / /\n",
      "  /_/ /_/\\_,_/_/_/   version 0.2.58-3f304aae6ce2\n",
      "LOGGING: writing to /home/olavur/experiments/2020-11-13_fargen1_exome_analysis/hail-20201117-1439-0.2.58-3f304aae6ce2.log\n"
     ]
    }
   ],
   "source": [
    "import hail as hl\n",
    "hl.init()"
   ]
  },
  {
   "cell_type": "code",
   "execution_count": 13,
   "metadata": {},
   "outputs": [],
   "source": [
    "vcf_path = 'data/vcf/test_48_samples/vcf_renamed/variants.vcf.bgz'"
   ]
  },
  {
   "cell_type": "code",
   "execution_count": 14,
   "metadata": {},
   "outputs": [],
   "source": [
    "mt = hl.import_vcf(vcf_path, reference_genome='GRCh38', array_elements_required=False)"
   ]
  },
  {
   "cell_type": "code",
   "execution_count": 15,
   "metadata": {},
   "outputs": [
    {
     "name": "stderr",
     "output_type": "stream",
     "text": [
      "2020-11-17 14:53:20 Hail: INFO: Coerced sorted dataset\n",
      "2020-11-17 14:55:21 Hail: INFO: wrote matrix table with 948549 rows and 48 columns in 5 partitions to data/mt/variants.mt\n",
      "    Total size: 619.74 MiB\n",
      "    * Rows/entries: 619.74 MiB\n",
      "    * Columns: 221.00 B\n",
      "    * Globals: 11.00 B\n",
      "    * Smallest partition: 188020 rows (123.79 MiB)\n",
      "    * Largest partition:  193332 rows (124.15 MiB)\n"
     ]
    }
   ],
   "source": [
    "mt.write('data/mt/variants.mt', overwrite=True)"
   ]
  }
 ],
 "metadata": {
  "kernelspec": {
   "display_name": "Python 3",
   "language": "python",
   "name": "python3"
  },
  "language_info": {
   "codemirror_mode": {
    "name": "ipython",
    "version": 3
   },
   "file_extension": ".py",
   "mimetype": "text/x-python",
   "name": "python",
   "nbconvert_exporter": "python",
   "pygments_lexer": "ipython3",
   "version": "3.6.11"
  }
 },
 "nbformat": 4,
 "nbformat_minor": 4
}
