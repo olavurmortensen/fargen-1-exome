{
 "cells": [
  {
   "cell_type": "markdown",
   "metadata": {},
   "source": [
    "# Gene statistic aggregation"
   ]
  },
  {
   "cell_type": "code",
   "execution_count": 1,
   "metadata": {},
   "outputs": [
    {
     "name": "stderr",
     "output_type": "stream",
     "text": [
      "Running on Apache Spark version 2.4.6\n",
      "SparkUI available at http://hms-beagle-5466c684ff-2l8nm:4042\n",
      "Welcome to\n",
      "     __  __     <>__\n",
      "    / /_/ /__  __/ /\n",
      "   / __  / _ `/ / /\n",
      "  /_/ /_/\\_,_/_/_/   version 0.2.58-3f304aae6ce2\n",
      "LOGGING: writing to /home/olavur/experiments/2020-11-13_fargen1_exome_analysis/fargen-1-exome/notebooks/hail-20201202-1110-0.2.58-3f304aae6ce2.log\n"
     ]
    }
   ],
   "source": [
    "import hail as hl\n",
    "hl.init()"
   ]
  },
  {
   "cell_type": "code",
   "execution_count": 2,
   "metadata": {},
   "outputs": [
    {
     "data": {
      "text/html": [
       "\n",
       "    <div class=\"bk-root\">\n",
       "        <a href=\"https://bokeh.pydata.org\" target=\"_blank\" class=\"bk-logo bk-logo-small bk-logo-notebook\"></a>\n",
       "        <span id=\"1001\">Loading BokehJS ...</span>\n",
       "    </div>"
      ]
     },
     "metadata": {},
     "output_type": "display_data"
    },
    {
     "data": {
      "application/javascript": [
       "\n",
       "(function(root) {\n",
       "  function now() {\n",
       "    return new Date();\n",
       "  }\n",
       "\n",
       "  var force = true;\n",
       "\n",
       "  if (typeof root._bokeh_onload_callbacks === \"undefined\" || force === true) {\n",
       "    root._bokeh_onload_callbacks = [];\n",
       "    root._bokeh_is_loading = undefined;\n",
       "  }\n",
       "\n",
       "  var JS_MIME_TYPE = 'application/javascript';\n",
       "  var HTML_MIME_TYPE = 'text/html';\n",
       "  var EXEC_MIME_TYPE = 'application/vnd.bokehjs_exec.v0+json';\n",
       "  var CLASS_NAME = 'output_bokeh rendered_html';\n",
       "\n",
       "  /**\n",
       "   * Render data to the DOM node\n",
       "   */\n",
       "  function render(props, node) {\n",
       "    var script = document.createElement(\"script\");\n",
       "    node.appendChild(script);\n",
       "  }\n",
       "\n",
       "  /**\n",
       "   * Handle when an output is cleared or removed\n",
       "   */\n",
       "  function handleClearOutput(event, handle) {\n",
       "    var cell = handle.cell;\n",
       "\n",
       "    var id = cell.output_area._bokeh_element_id;\n",
       "    var server_id = cell.output_area._bokeh_server_id;\n",
       "    // Clean up Bokeh references\n",
       "    if (id != null && id in Bokeh.index) {\n",
       "      Bokeh.index[id].model.document.clear();\n",
       "      delete Bokeh.index[id];\n",
       "    }\n",
       "\n",
       "    if (server_id !== undefined) {\n",
       "      // Clean up Bokeh references\n",
       "      var cmd = \"from bokeh.io.state import curstate; print(curstate().uuid_to_server['\" + server_id + \"'].get_sessions()[0].document.roots[0]._id)\";\n",
       "      cell.notebook.kernel.execute(cmd, {\n",
       "        iopub: {\n",
       "          output: function(msg) {\n",
       "            var id = msg.content.text.trim();\n",
       "            if (id in Bokeh.index) {\n",
       "              Bokeh.index[id].model.document.clear();\n",
       "              delete Bokeh.index[id];\n",
       "            }\n",
       "          }\n",
       "        }\n",
       "      });\n",
       "      // Destroy server and session\n",
       "      var cmd = \"import bokeh.io.notebook as ion; ion.destroy_server('\" + server_id + \"')\";\n",
       "      cell.notebook.kernel.execute(cmd);\n",
       "    }\n",
       "  }\n",
       "\n",
       "  /**\n",
       "   * Handle when a new output is added\n",
       "   */\n",
       "  function handleAddOutput(event, handle) {\n",
       "    var output_area = handle.output_area;\n",
       "    var output = handle.output;\n",
       "\n",
       "    // limit handleAddOutput to display_data with EXEC_MIME_TYPE content only\n",
       "    if ((output.output_type != \"display_data\") || (!output.data.hasOwnProperty(EXEC_MIME_TYPE))) {\n",
       "      return\n",
       "    }\n",
       "\n",
       "    var toinsert = output_area.element.find(\".\" + CLASS_NAME.split(' ')[0]);\n",
       "\n",
       "    if (output.metadata[EXEC_MIME_TYPE][\"id\"] !== undefined) {\n",
       "      toinsert[toinsert.length - 1].firstChild.textContent = output.data[JS_MIME_TYPE];\n",
       "      // store reference to embed id on output_area\n",
       "      output_area._bokeh_element_id = output.metadata[EXEC_MIME_TYPE][\"id\"];\n",
       "    }\n",
       "    if (output.metadata[EXEC_MIME_TYPE][\"server_id\"] !== undefined) {\n",
       "      var bk_div = document.createElement(\"div\");\n",
       "      bk_div.innerHTML = output.data[HTML_MIME_TYPE];\n",
       "      var script_attrs = bk_div.children[0].attributes;\n",
       "      for (var i = 0; i < script_attrs.length; i++) {\n",
       "        toinsert[toinsert.length - 1].firstChild.setAttribute(script_attrs[i].name, script_attrs[i].value);\n",
       "      }\n",
       "      // store reference to server id on output_area\n",
       "      output_area._bokeh_server_id = output.metadata[EXEC_MIME_TYPE][\"server_id\"];\n",
       "    }\n",
       "  }\n",
       "\n",
       "  function register_renderer(events, OutputArea) {\n",
       "\n",
       "    function append_mime(data, metadata, element) {\n",
       "      // create a DOM node to render to\n",
       "      var toinsert = this.create_output_subarea(\n",
       "        metadata,\n",
       "        CLASS_NAME,\n",
       "        EXEC_MIME_TYPE\n",
       "      );\n",
       "      this.keyboard_manager.register_events(toinsert);\n",
       "      // Render to node\n",
       "      var props = {data: data, metadata: metadata[EXEC_MIME_TYPE]};\n",
       "      render(props, toinsert[toinsert.length - 1]);\n",
       "      element.append(toinsert);\n",
       "      return toinsert\n",
       "    }\n",
       "\n",
       "    /* Handle when an output is cleared or removed */\n",
       "    events.on('clear_output.CodeCell', handleClearOutput);\n",
       "    events.on('delete.Cell', handleClearOutput);\n",
       "\n",
       "    /* Handle when a new output is added */\n",
       "    events.on('output_added.OutputArea', handleAddOutput);\n",
       "\n",
       "    /**\n",
       "     * Register the mime type and append_mime function with output_area\n",
       "     */\n",
       "    OutputArea.prototype.register_mime_type(EXEC_MIME_TYPE, append_mime, {\n",
       "      /* Is output safe? */\n",
       "      safe: true,\n",
       "      /* Index of renderer in `output_area.display_order` */\n",
       "      index: 0\n",
       "    });\n",
       "  }\n",
       "\n",
       "  // register the mime type if in Jupyter Notebook environment and previously unregistered\n",
       "  if (root.Jupyter !== undefined) {\n",
       "    var events = require('base/js/events');\n",
       "    var OutputArea = require('notebook/js/outputarea').OutputArea;\n",
       "\n",
       "    if (OutputArea.prototype.mime_types().indexOf(EXEC_MIME_TYPE) == -1) {\n",
       "      register_renderer(events, OutputArea);\n",
       "    }\n",
       "  }\n",
       "\n",
       "  \n",
       "  if (typeof (root._bokeh_timeout) === \"undefined\" || force === true) {\n",
       "    root._bokeh_timeout = Date.now() + 5000;\n",
       "    root._bokeh_failed_load = false;\n",
       "  }\n",
       "\n",
       "  var NB_LOAD_WARNING = {'data': {'text/html':\n",
       "     \"<div style='background-color: #fdd'>\\n\"+\n",
       "     \"<p>\\n\"+\n",
       "     \"BokehJS does not appear to have successfully loaded. If loading BokehJS from CDN, this \\n\"+\n",
       "     \"may be due to a slow or bad network connection. Possible fixes:\\n\"+\n",
       "     \"</p>\\n\"+\n",
       "     \"<ul>\\n\"+\n",
       "     \"<li>re-rerun `output_notebook()` to attempt to load from CDN again, or</li>\\n\"+\n",
       "     \"<li>use INLINE resources instead, as so:</li>\\n\"+\n",
       "     \"</ul>\\n\"+\n",
       "     \"<code>\\n\"+\n",
       "     \"from bokeh.resources import INLINE\\n\"+\n",
       "     \"output_notebook(resources=INLINE)\\n\"+\n",
       "     \"</code>\\n\"+\n",
       "     \"</div>\"}};\n",
       "\n",
       "  function display_loaded() {\n",
       "    var el = document.getElementById(\"1001\");\n",
       "    if (el != null) {\n",
       "      el.textContent = \"BokehJS is loading...\";\n",
       "    }\n",
       "    if (root.Bokeh !== undefined) {\n",
       "      if (el != null) {\n",
       "        el.textContent = \"BokehJS \" + root.Bokeh.version + \" successfully loaded.\";\n",
       "      }\n",
       "    } else if (Date.now() < root._bokeh_timeout) {\n",
       "      setTimeout(display_loaded, 100)\n",
       "    }\n",
       "  }\n",
       "\n",
       "\n",
       "  function run_callbacks() {\n",
       "    try {\n",
       "      root._bokeh_onload_callbacks.forEach(function(callback) {\n",
       "        if (callback != null)\n",
       "          callback();\n",
       "      });\n",
       "    } finally {\n",
       "      delete root._bokeh_onload_callbacks\n",
       "    }\n",
       "    console.debug(\"Bokeh: all callbacks have finished\");\n",
       "  }\n",
       "\n",
       "  function load_libs(css_urls, js_urls, callback) {\n",
       "    if (css_urls == null) css_urls = [];\n",
       "    if (js_urls == null) js_urls = [];\n",
       "\n",
       "    root._bokeh_onload_callbacks.push(callback);\n",
       "    if (root._bokeh_is_loading > 0) {\n",
       "      console.debug(\"Bokeh: BokehJS is being loaded, scheduling callback at\", now());\n",
       "      return null;\n",
       "    }\n",
       "    if (js_urls == null || js_urls.length === 0) {\n",
       "      run_callbacks();\n",
       "      return null;\n",
       "    }\n",
       "    console.debug(\"Bokeh: BokehJS not loaded, scheduling load and callback at\", now());\n",
       "    root._bokeh_is_loading = css_urls.length + js_urls.length;\n",
       "\n",
       "    function on_load() {\n",
       "      root._bokeh_is_loading--;\n",
       "      if (root._bokeh_is_loading === 0) {\n",
       "        console.debug(\"Bokeh: all BokehJS libraries/stylesheets loaded\");\n",
       "        run_callbacks()\n",
       "      }\n",
       "    }\n",
       "\n",
       "    function on_error() {\n",
       "      console.error(\"failed to load \" + url);\n",
       "    }\n",
       "\n",
       "    for (var i = 0; i < css_urls.length; i++) {\n",
       "      var url = css_urls[i];\n",
       "      const element = document.createElement(\"link\");\n",
       "      element.onload = on_load;\n",
       "      element.onerror = on_error;\n",
       "      element.rel = \"stylesheet\";\n",
       "      element.type = \"text/css\";\n",
       "      element.href = url;\n",
       "      console.debug(\"Bokeh: injecting link tag for BokehJS stylesheet: \", url);\n",
       "      document.body.appendChild(element);\n",
       "    }\n",
       "\n",
       "    for (var i = 0; i < js_urls.length; i++) {\n",
       "      var url = js_urls[i];\n",
       "      var element = document.createElement('script');\n",
       "      element.onload = on_load;\n",
       "      element.onerror = on_error;\n",
       "      element.async = false;\n",
       "      element.src = url;\n",
       "      console.debug(\"Bokeh: injecting script tag for BokehJS library: \", url);\n",
       "      document.head.appendChild(element);\n",
       "    }\n",
       "  };var element = document.getElementById(\"1001\");\n",
       "  if (element == null) {\n",
       "    console.error(\"Bokeh: ERROR: autoload.js configured with elementid '1001' but no matching script tag was found. \")\n",
       "    return false;\n",
       "  }\n",
       "\n",
       "  function inject_raw_css(css) {\n",
       "    const element = document.createElement(\"style\");\n",
       "    element.appendChild(document.createTextNode(css));\n",
       "    document.body.appendChild(element);\n",
       "  }\n",
       "\n",
       "  var js_urls = [\"https://cdn.pydata.org/bokeh/release/bokeh-1.2.0.min.js\", \"https://cdn.pydata.org/bokeh/release/bokeh-widgets-1.2.0.min.js\", \"https://cdn.pydata.org/bokeh/release/bokeh-tables-1.2.0.min.js\", \"https://cdn.pydata.org/bokeh/release/bokeh-gl-1.2.0.min.js\"];\n",
       "  var css_urls = [\"https://cdn.pydata.org/bokeh/release/bokeh-1.2.0.min.css\", \"https://cdn.pydata.org/bokeh/release/bokeh-widgets-1.2.0.min.css\", \"https://cdn.pydata.org/bokeh/release/bokeh-tables-1.2.0.min.css\"];\n",
       "\n",
       "  var inline_js = [\n",
       "    function(Bokeh) {\n",
       "      Bokeh.set_log_level(\"info\");\n",
       "    },\n",
       "    \n",
       "    function(Bokeh) {\n",
       "      \n",
       "    },\n",
       "    function(Bokeh) {} // ensure no trailing comma for IE\n",
       "  ];\n",
       "\n",
       "  function run_inline_js() {\n",
       "    \n",
       "    if ((root.Bokeh !== undefined) || (force === true)) {\n",
       "      for (var i = 0; i < inline_js.length; i++) {\n",
       "        inline_js[i].call(root, root.Bokeh);\n",
       "      }if (force === true) {\n",
       "        display_loaded();\n",
       "      }} else if (Date.now() < root._bokeh_timeout) {\n",
       "      setTimeout(run_inline_js, 100);\n",
       "    } else if (!root._bokeh_failed_load) {\n",
       "      console.log(\"Bokeh: BokehJS failed to load within specified timeout.\");\n",
       "      root._bokeh_failed_load = true;\n",
       "    } else if (force !== true) {\n",
       "      var cell = $(document.getElementById(\"1001\")).parents('.cell').data().cell;\n",
       "      cell.output_area.append_execute_result(NB_LOAD_WARNING)\n",
       "    }\n",
       "\n",
       "  }\n",
       "\n",
       "  if (root._bokeh_is_loading === 0) {\n",
       "    console.debug(\"Bokeh: BokehJS loaded, going straight to plotting\");\n",
       "    run_inline_js();\n",
       "  } else {\n",
       "    load_libs(css_urls, js_urls, function() {\n",
       "      console.debug(\"Bokeh: BokehJS plotting callback run at\", now());\n",
       "      run_inline_js();\n",
       "    });\n",
       "  }\n",
       "}(window));"
      ],
      "application/vnd.bokehjs_load.v0+json": "\n(function(root) {\n  function now() {\n    return new Date();\n  }\n\n  var force = true;\n\n  if (typeof root._bokeh_onload_callbacks === \"undefined\" || force === true) {\n    root._bokeh_onload_callbacks = [];\n    root._bokeh_is_loading = undefined;\n  }\n\n  \n\n  \n  if (typeof (root._bokeh_timeout) === \"undefined\" || force === true) {\n    root._bokeh_timeout = Date.now() + 5000;\n    root._bokeh_failed_load = false;\n  }\n\n  var NB_LOAD_WARNING = {'data': {'text/html':\n     \"<div style='background-color: #fdd'>\\n\"+\n     \"<p>\\n\"+\n     \"BokehJS does not appear to have successfully loaded. If loading BokehJS from CDN, this \\n\"+\n     \"may be due to a slow or bad network connection. Possible fixes:\\n\"+\n     \"</p>\\n\"+\n     \"<ul>\\n\"+\n     \"<li>re-rerun `output_notebook()` to attempt to load from CDN again, or</li>\\n\"+\n     \"<li>use INLINE resources instead, as so:</li>\\n\"+\n     \"</ul>\\n\"+\n     \"<code>\\n\"+\n     \"from bokeh.resources import INLINE\\n\"+\n     \"output_notebook(resources=INLINE)\\n\"+\n     \"</code>\\n\"+\n     \"</div>\"}};\n\n  function display_loaded() {\n    var el = document.getElementById(\"1001\");\n    if (el != null) {\n      el.textContent = \"BokehJS is loading...\";\n    }\n    if (root.Bokeh !== undefined) {\n      if (el != null) {\n        el.textContent = \"BokehJS \" + root.Bokeh.version + \" successfully loaded.\";\n      }\n    } else if (Date.now() < root._bokeh_timeout) {\n      setTimeout(display_loaded, 100)\n    }\n  }\n\n\n  function run_callbacks() {\n    try {\n      root._bokeh_onload_callbacks.forEach(function(callback) {\n        if (callback != null)\n          callback();\n      });\n    } finally {\n      delete root._bokeh_onload_callbacks\n    }\n    console.debug(\"Bokeh: all callbacks have finished\");\n  }\n\n  function load_libs(css_urls, js_urls, callback) {\n    if (css_urls == null) css_urls = [];\n    if (js_urls == null) js_urls = [];\n\n    root._bokeh_onload_callbacks.push(callback);\n    if (root._bokeh_is_loading > 0) {\n      console.debug(\"Bokeh: BokehJS is being loaded, scheduling callback at\", now());\n      return null;\n    }\n    if (js_urls == null || js_urls.length === 0) {\n      run_callbacks();\n      return null;\n    }\n    console.debug(\"Bokeh: BokehJS not loaded, scheduling load and callback at\", now());\n    root._bokeh_is_loading = css_urls.length + js_urls.length;\n\n    function on_load() {\n      root._bokeh_is_loading--;\n      if (root._bokeh_is_loading === 0) {\n        console.debug(\"Bokeh: all BokehJS libraries/stylesheets loaded\");\n        run_callbacks()\n      }\n    }\n\n    function on_error() {\n      console.error(\"failed to load \" + url);\n    }\n\n    for (var i = 0; i < css_urls.length; i++) {\n      var url = css_urls[i];\n      const element = document.createElement(\"link\");\n      element.onload = on_load;\n      element.onerror = on_error;\n      element.rel = \"stylesheet\";\n      element.type = \"text/css\";\n      element.href = url;\n      console.debug(\"Bokeh: injecting link tag for BokehJS stylesheet: \", url);\n      document.body.appendChild(element);\n    }\n\n    for (var i = 0; i < js_urls.length; i++) {\n      var url = js_urls[i];\n      var element = document.createElement('script');\n      element.onload = on_load;\n      element.onerror = on_error;\n      element.async = false;\n      element.src = url;\n      console.debug(\"Bokeh: injecting script tag for BokehJS library: \", url);\n      document.head.appendChild(element);\n    }\n  };var element = document.getElementById(\"1001\");\n  if (element == null) {\n    console.error(\"Bokeh: ERROR: autoload.js configured with elementid '1001' but no matching script tag was found. \")\n    return false;\n  }\n\n  function inject_raw_css(css) {\n    const element = document.createElement(\"style\");\n    element.appendChild(document.createTextNode(css));\n    document.body.appendChild(element);\n  }\n\n  var js_urls = [\"https://cdn.pydata.org/bokeh/release/bokeh-1.2.0.min.js\", \"https://cdn.pydata.org/bokeh/release/bokeh-widgets-1.2.0.min.js\", \"https://cdn.pydata.org/bokeh/release/bokeh-tables-1.2.0.min.js\", \"https://cdn.pydata.org/bokeh/release/bokeh-gl-1.2.0.min.js\"];\n  var css_urls = [\"https://cdn.pydata.org/bokeh/release/bokeh-1.2.0.min.css\", \"https://cdn.pydata.org/bokeh/release/bokeh-widgets-1.2.0.min.css\", \"https://cdn.pydata.org/bokeh/release/bokeh-tables-1.2.0.min.css\"];\n\n  var inline_js = [\n    function(Bokeh) {\n      Bokeh.set_log_level(\"info\");\n    },\n    \n    function(Bokeh) {\n      \n    },\n    function(Bokeh) {} // ensure no trailing comma for IE\n  ];\n\n  function run_inline_js() {\n    \n    if ((root.Bokeh !== undefined) || (force === true)) {\n      for (var i = 0; i < inline_js.length; i++) {\n        inline_js[i].call(root, root.Bokeh);\n      }if (force === true) {\n        display_loaded();\n      }} else if (Date.now() < root._bokeh_timeout) {\n      setTimeout(run_inline_js, 100);\n    } else if (!root._bokeh_failed_load) {\n      console.log(\"Bokeh: BokehJS failed to load within specified timeout.\");\n      root._bokeh_failed_load = true;\n    } else if (force !== true) {\n      var cell = $(document.getElementById(\"1001\")).parents('.cell').data().cell;\n      cell.output_area.append_execute_result(NB_LOAD_WARNING)\n    }\n\n  }\n\n  if (root._bokeh_is_loading === 0) {\n    console.debug(\"Bokeh: BokehJS loaded, going straight to plotting\");\n    run_inline_js();\n  } else {\n    load_libs(css_urls, js_urls, function() {\n      console.debug(\"Bokeh: BokehJS plotting callback run at\", now());\n      run_inline_js();\n    });\n  }\n}(window));"
     },
     "metadata": {},
     "output_type": "display_data"
    }
   ],
   "source": [
    "from bokeh.io import show, output_notebook\n",
    "from bokeh.layouts import gridplot\n",
    "from bokeh.models.scales import LogScale\n",
    "output_notebook()"
   ]
  },
  {
   "cell_type": "code",
   "execution_count": 3,
   "metadata": {},
   "outputs": [],
   "source": [
    "mt = hl.read_matrix_table('/home/olavur/experiments/2020-11-13_fargen1_exome_analysis/data/mt/variants.mt')"
   ]
  },
  {
   "cell_type": "markdown",
   "metadata": {},
   "source": [
    "Annotate each locus with the gene name (w.r.t. the first transcript)."
   ]
  },
  {
   "cell_type": "code",
   "execution_count": 4,
   "metadata": {},
   "outputs": [],
   "source": [
    "mt = mt.annotate_rows(gene=mt.info.ANN.map(lambda x: x.split('\\|')[3]))\n",
    "mt = mt.annotate_rows(gene1=mt.gene[0])"
   ]
  },
  {
   "cell_type": "markdown",
   "metadata": {},
   "source": [
    "Annotate each locus with the variant impact (w.r.t. the first transcript)."
   ]
  },
  {
   "cell_type": "code",
   "execution_count": 5,
   "metadata": {},
   "outputs": [],
   "source": [
    "mt = mt.annotate_rows(impact=mt.info.ANN.map(lambda x: x.split('\\|')[2]))\n",
    "mt = mt.annotate_rows(impact1=mt.impact[0])"
   ]
  },
  {
   "cell_type": "markdown",
   "metadata": {},
   "source": [
    "Count number of heterozygous genotypes per site."
   ]
  },
  {
   "cell_type": "code",
   "execution_count": 6,
   "metadata": {},
   "outputs": [],
   "source": [
    "mt = mt.annotate_rows(n_het=hl.agg.count_where(mt.GT.is_het()))"
   ]
  },
  {
   "cell_type": "markdown",
   "metadata": {},
   "source": [
    "Group sites (rows) by gene name and collect stats:\n",
    "\n",
    "* Number of high impact variants\n",
    "* Number of sites\n",
    "* Average heterozygosity"
   ]
  },
  {
   "cell_type": "code",
   "execution_count": 7,
   "metadata": {},
   "outputs": [],
   "source": [
    "rows = mt.rows()\n",
    "gene_stats = (rows.group_by(rows.gene1)\n",
    "                       .aggregate(n_high_impact = hl.agg.count_where(rows.impact1 == 'HIGH'),\n",
    "                                  n_sites=hl.agg.count(),\n",
    "                                  avg_het=hl.agg.mean(rows.n_het)))"
   ]
  },
  {
   "cell_type": "markdown",
   "metadata": {},
   "source": [
    "Make a histogram of number of sites per gene."
   ]
  },
  {
   "cell_type": "code",
   "execution_count": 8,
   "metadata": {},
   "outputs": [
    {
     "name": "stderr",
     "output_type": "stream",
     "text": [
      "2020-12-02 11:11:09 Hail: INFO: Ordering unsorted dataset with network shuffle\n"
     ]
    },
    {
     "data": {
      "text/html": [
       "\n",
       "\n",
       "\n",
       "\n",
       "\n",
       "\n",
       "  <div class=\"bk-root\" id=\"02511805-c96a-44f9-93d9-454826283fce\" data-root-id=\"1002\"></div>\n"
      ]
     },
     "metadata": {},
     "output_type": "display_data"
    },
    {
     "data": {
      "application/javascript": [
       "(function(root) {\n",
       "  function embed_document(root) {\n",
       "    \n",
       "  var docs_json = {\"222610ef-93a6-497e-9bb3-d656f79a95ca\":{\"roots\":{\"references\":[{\"attributes\":{\"background_fill_color\":{\"value\":\"#EEEEEE\"},\"below\":[{\"id\":\"1013\",\"type\":\"LinearAxis\"}],\"center\":[{\"id\":\"1017\",\"type\":\"Grid\"},{\"id\":\"1022\",\"type\":\"Grid\"},{\"id\":\"1054\",\"type\":\"Legend\"}],\"left\":[{\"id\":\"1018\",\"type\":\"LinearAxis\"}],\"plot_height\":500,\"plot_width\":800,\"renderers\":[{\"id\":\"1039\",\"type\":\"GlyphRenderer\"},{\"id\":\"1044\",\"type\":\"GlyphRenderer\"}],\"title\":{\"id\":\"1003\",\"type\":\"Title\"},\"toolbar\":{\"id\":\"1029\",\"type\":\"Toolbar\"},\"x_range\":{\"id\":\"1005\",\"type\":\"Range1d\"},\"x_scale\":{\"id\":\"1009\",\"type\":\"LinearScale\"},\"y_range\":{\"id\":\"1007\",\"type\":\"DataRange1d\"},\"y_scale\":{\"id\":\"1011\",\"type\":\"LinearScale\"}},\"id\":\"1002\",\"subtype\":\"Figure\",\"type\":\"Plot\"},{\"attributes\":{\"callback\":null},\"id\":\"1007\",\"type\":\"DataRange1d\"},{\"attributes\":{},\"id\":\"1024\",\"type\":\"WheelZoomTool\"},{\"attributes\":{\"ticker\":{\"id\":\"1014\",\"type\":\"BasicTicker\"}},\"id\":\"1017\",\"type\":\"Grid\"},{\"attributes\":{\"bottom\":{\"value\":0},\"fill_alpha\":{\"value\":0.1},\"fill_color\":{\"value\":\"#1f77b4\"},\"left\":{\"value\":200.0},\"line_alpha\":{\"value\":0.1},\"line_color\":{\"value\":\"#1f77b4\"},\"right\":{\"value\":202.0},\"top\":{\"value\":146}},\"id\":\"1043\",\"type\":\"Quad\"},{\"attributes\":{},\"id\":\"1011\",\"type\":\"LinearScale\"},{\"attributes\":{\"formatter\":{\"id\":\"1050\",\"type\":\"BasicTickFormatter\"},\"ticker\":{\"id\":\"1014\",\"type\":\"BasicTicker\"}},\"id\":\"1013\",\"type\":\"LinearAxis\"},{\"attributes\":{},\"id\":\"1051\",\"type\":\"UnionRenderers\"},{\"attributes\":{},\"id\":\"1009\",\"type\":\"LinearScale\"},{\"attributes\":{\"active_drag\":\"auto\",\"active_inspect\":\"auto\",\"active_multi\":null,\"active_scroll\":\"auto\",\"active_tap\":\"auto\",\"tools\":[{\"id\":\"1023\",\"type\":\"PanTool\"},{\"id\":\"1024\",\"type\":\"WheelZoomTool\"},{\"id\":\"1025\",\"type\":\"BoxZoomTool\"},{\"id\":\"1026\",\"type\":\"SaveTool\"},{\"id\":\"1027\",\"type\":\"ResetTool\"},{\"id\":\"1028\",\"type\":\"HelpTool\"}]},\"id\":\"1029\",\"type\":\"Toolbar\"},{\"attributes\":{},\"id\":\"1023\",\"type\":\"PanTool\"},{\"attributes\":{\"bottom\":{\"value\":0},\"fill_color\":{\"value\":\"#1f77b4\"},\"left\":{\"field\":\"left\"},\"right\":{\"field\":\"right\"},\"top\":{\"field\":\"top\"}},\"id\":\"1037\",\"type\":\"Quad\"},{\"attributes\":{},\"id\":\"1019\",\"type\":\"BasicTicker\"},{\"attributes\":{},\"id\":\"1063\",\"type\":\"UnionRenderers\"},{\"attributes\":{},\"id\":\"1052\",\"type\":\"Selection\"},{\"attributes\":{\"callback\":null,\"data\":{\"left\":[0.0,2.0,4.0,6.0,8.0,10.0,12.0,14.0,16.0,18.0,20.0,22.0,24.0,26.0,28.0,30.0,32.0,34.0,36.0,38.0,40.0,42.0,44.0,46.0,48.0,50.0,52.0,54.0,56.0,58.0,60.0,62.0,64.0,66.0,68.0,70.0,72.0,74.0,76.0,78.0,80.0,82.0,84.0,86.0,88.0,90.0,92.0,94.0,96.0,98.0,100.0,102.0,104.0,106.0,108.0,110.0,112.0,114.0,116.0,118.0,120.0,122.0,124.0,126.0,128.0,130.0,132.0,134.0,136.0,138.0,140.0,142.0,144.0,146.0,148.0,150.0,152.0,154.0,156.0,158.0,160.0,162.0,164.0,166.0,168.0,170.0,172.0,174.0,176.0,178.0,180.0,182.0,184.0,186.0,188.0,190.0,192.0,194.0,196.0,198.0],\"right\":[2.0,4.0,6.0,8.0,10.0,12.0,14.0,16.0,18.0,20.0,22.0,24.0,26.0,28.0,30.0,32.0,34.0,36.0,38.0,40.0,42.0,44.0,46.0,48.0,50.0,52.0,54.0,56.0,58.0,60.0,62.0,64.0,66.0,68.0,70.0,72.0,74.0,76.0,78.0,80.0,82.0,84.0,86.0,88.0,90.0,92.0,94.0,96.0,98.0,100.0,102.0,104.0,106.0,108.0,110.0,112.0,114.0,116.0,118.0,120.0,122.0,124.0,126.0,128.0,130.0,132.0,134.0,136.0,138.0,140.0,142.0,144.0,146.0,148.0,150.0,152.0,154.0,156.0,158.0,160.0,162.0,164.0,166.0,168.0,170.0,172.0,174.0,176.0,178.0,180.0,182.0,184.0,186.0,188.0,190.0,192.0,194.0,196.0,198.0,200.0],\"top\":[762,1431,1273,1131,1038,943,926,863,861,766,842,757,741,678,717,656,600,615,585,542,511,457,504,482,423,365,399,344,319,298,277,281,286,268,220,205,179,180,171,172,150,146,159,136,130,109,101,89,94,85,86,95,66,63,66,77,55,46,37,43,35,35,44,23,28,26,31,24,25,32,20,28,26,23,20,18,20,19,11,11,14,11,12,9,14,8,14,11,13,8,6,13,4,5,15,9,7,5,3,4]},\"selected\":{\"id\":\"1052\",\"type\":\"Selection\"},\"selection_policy\":{\"id\":\"1051\",\"type\":\"UnionRenderers\"}},\"id\":\"1036\",\"type\":\"ColumnDataSource\"},{\"attributes\":{\"bottom_units\":\"screen\",\"fill_alpha\":{\"value\":0.5},\"fill_color\":{\"value\":\"lightgrey\"},\"left_units\":\"screen\",\"level\":\"overlay\",\"line_alpha\":{\"value\":1.0},\"line_color\":{\"value\":\"black\"},\"line_dash\":[4,4],\"line_width\":{\"value\":2},\"render_mode\":\"css\",\"right_units\":\"screen\",\"top_units\":\"screen\"},\"id\":\"1053\",\"type\":\"BoxAnnotation\"},{\"attributes\":{\"bottom\":{\"value\":0},\"fill_alpha\":{\"value\":0.1},\"fill_color\":{\"value\":\"#1f77b4\"},\"left\":{\"field\":\"left\"},\"line_alpha\":{\"value\":0.1},\"line_color\":{\"value\":\"#1f77b4\"},\"right\":{\"field\":\"right\"},\"top\":{\"field\":\"top\"}},\"id\":\"1038\",\"type\":\"Quad\"},{\"attributes\":{},\"id\":\"1026\",\"type\":\"SaveTool\"},{\"attributes\":{},\"id\":\"1048\",\"type\":\"BasicTickFormatter\"},{\"attributes\":{\"callback\":null,\"end\":210.0,\"start\":-10.0},\"id\":\"1005\",\"type\":\"Range1d\"},{\"attributes\":{\"label\":{\"value\":\"Outliers Above\"},\"renderers\":[{\"id\":\"1044\",\"type\":\"GlyphRenderer\"}]},\"id\":\"1055\",\"type\":\"LegendItem\"},{\"attributes\":{},\"id\":\"1028\",\"type\":\"HelpTool\"},{\"attributes\":{\"items\":[{\"id\":\"1055\",\"type\":\"LegendItem\"}]},\"id\":\"1054\",\"type\":\"Legend\"},{\"attributes\":{\"text\":\"Histogram of number of sites per gene\"},\"id\":\"1003\",\"type\":\"Title\"},{\"attributes\":{\"source\":{\"id\":\"1036\",\"type\":\"ColumnDataSource\"}},\"id\":\"1040\",\"type\":\"CDSView\"},{\"attributes\":{\"data_source\":{\"id\":\"1041\",\"type\":\"ColumnDataSource\"},\"glyph\":{\"id\":\"1042\",\"type\":\"Quad\"},\"hover_glyph\":null,\"muted_glyph\":null,\"nonselection_glyph\":{\"id\":\"1043\",\"type\":\"Quad\"},\"selection_glyph\":null,\"view\":{\"id\":\"1045\",\"type\":\"CDSView\"}},\"id\":\"1044\",\"type\":\"GlyphRenderer\"},{\"attributes\":{\"data_source\":{\"id\":\"1036\",\"type\":\"ColumnDataSource\"},\"glyph\":{\"id\":\"1037\",\"type\":\"Quad\"},\"hover_glyph\":null,\"muted_glyph\":null,\"nonselection_glyph\":{\"id\":\"1038\",\"type\":\"Quad\"},\"selection_glyph\":null,\"view\":{\"id\":\"1040\",\"type\":\"CDSView\"}},\"id\":\"1039\",\"type\":\"GlyphRenderer\"},{\"attributes\":{},\"id\":\"1064\",\"type\":\"Selection\"},{\"attributes\":{},\"id\":\"1027\",\"type\":\"ResetTool\"},{\"attributes\":{\"source\":{\"id\":\"1041\",\"type\":\"ColumnDataSource\"}},\"id\":\"1045\",\"type\":\"CDSView\"},{\"attributes\":{\"bottom\":{\"value\":0},\"fill_color\":{\"value\":\"green\"},\"left\":{\"value\":200.0},\"right\":{\"value\":202.0},\"top\":{\"value\":146}},\"id\":\"1042\",\"type\":\"Quad\"},{\"attributes\":{\"overlay\":{\"id\":\"1053\",\"type\":\"BoxAnnotation\"}},\"id\":\"1025\",\"type\":\"BoxZoomTool\"},{\"attributes\":{\"dimension\":1,\"ticker\":{\"id\":\"1019\",\"type\":\"BasicTicker\"}},\"id\":\"1022\",\"type\":\"Grid\"},{\"attributes\":{},\"id\":\"1050\",\"type\":\"BasicTickFormatter\"},{\"attributes\":{\"callback\":null,\"data\":{},\"selected\":{\"id\":\"1064\",\"type\":\"Selection\"},\"selection_policy\":{\"id\":\"1063\",\"type\":\"UnionRenderers\"}},\"id\":\"1041\",\"type\":\"ColumnDataSource\"},{\"attributes\":{\"axis_label\":\"Frequency\",\"formatter\":{\"id\":\"1048\",\"type\":\"BasicTickFormatter\"},\"ticker\":{\"id\":\"1019\",\"type\":\"BasicTicker\"}},\"id\":\"1018\",\"type\":\"LinearAxis\"},{\"attributes\":{},\"id\":\"1014\",\"type\":\"BasicTicker\"}],\"root_ids\":[\"1002\"]},\"title\":\"Bokeh Application\",\"version\":\"1.2.0\"}};\n",
       "  var render_items = [{\"docid\":\"222610ef-93a6-497e-9bb3-d656f79a95ca\",\"roots\":{\"1002\":\"02511805-c96a-44f9-93d9-454826283fce\"}}];\n",
       "  root.Bokeh.embed.embed_items_notebook(docs_json, render_items);\n",
       "\n",
       "  }\n",
       "  if (root.Bokeh !== undefined) {\n",
       "    embed_document(root);\n",
       "  } else {\n",
       "    var attempts = 0;\n",
       "    var timer = setInterval(function(root) {\n",
       "      if (root.Bokeh !== undefined) {\n",
       "        embed_document(root);\n",
       "        clearInterval(timer);\n",
       "      }\n",
       "      attempts++;\n",
       "      if (attempts > 100) {\n",
       "        console.log(\"Bokeh: ERROR: Unable to run BokehJS code because BokehJS library is missing\");\n",
       "        clearInterval(timer);\n",
       "      }\n",
       "    }, 10, root)\n",
       "  }\n",
       "})(window);"
      ],
      "application/vnd.bokehjs_exec.v0+json": ""
     },
     "metadata": {
      "application/vnd.bokehjs_exec.v0+json": {
       "id": "1002"
      }
     },
     "output_type": "display_data"
    }
   ],
   "source": [
    "p = hl.plot.histogram(gene_stats.n_sites, range=(0, 200), bins=100, title='Histogram of number of sites per gene')\n",
    "p.plot_width = 800\n",
    "p.plot_height = 500\n",
    "show(p)"
   ]
  },
  {
   "cell_type": "code",
   "execution_count": 9,
   "metadata": {},
   "outputs": [
    {
     "name": "stderr",
     "output_type": "stream",
     "text": [
      "2020-12-02 11:11:32 Hail: INFO: Ordering unsorted dataset with network shuffle\n"
     ]
    },
    {
     "data": {
      "text/html": [
       "\n",
       "\n",
       "\n",
       "\n",
       "\n",
       "\n",
       "  <div class=\"bk-root\" id=\"4f3283c1-0d3e-4cfe-834f-1dd5e01e8ef4\" data-root-id=\"1126\"></div>\n"
      ]
     },
     "metadata": {},
     "output_type": "display_data"
    },
    {
     "data": {
      "application/javascript": [
       "(function(root) {\n",
       "  function embed_document(root) {\n",
       "    \n",
       "  var docs_json = {\"421d1060-a8d2-4485-abb8-6061278fc9d1\":{\"roots\":{\"references\":[{\"attributes\":{\"background_fill_color\":{\"value\":\"#EEEEEE\"},\"below\":[{\"id\":\"1137\",\"type\":\"LinearAxis\"}],\"center\":[{\"id\":\"1141\",\"type\":\"Grid\"},{\"id\":\"1146\",\"type\":\"Grid\"}],\"left\":[{\"id\":\"1142\",\"type\":\"LinearAxis\"}],\"plot_height\":500,\"plot_width\":800,\"renderers\":[{\"id\":\"1163\",\"type\":\"GlyphRenderer\"}],\"title\":{\"id\":\"1127\",\"type\":\"Title\"},\"toolbar\":{\"id\":\"1153\",\"type\":\"Toolbar\"},\"x_range\":{\"id\":\"1129\",\"type\":\"Range1d\"},\"x_scale\":{\"id\":\"1133\",\"type\":\"LinearScale\"},\"y_range\":{\"id\":\"1131\",\"type\":\"DataRange1d\"},\"y_scale\":{\"id\":\"1135\",\"type\":\"LinearScale\"}},\"id\":\"1126\",\"subtype\":\"Figure\",\"type\":\"Plot\"},{\"attributes\":{\"data_source\":{\"id\":\"1160\",\"type\":\"ColumnDataSource\"},\"glyph\":{\"id\":\"1161\",\"type\":\"Quad\"},\"hover_glyph\":null,\"muted_glyph\":null,\"nonselection_glyph\":{\"id\":\"1162\",\"type\":\"Quad\"},\"selection_glyph\":null,\"view\":{\"id\":\"1164\",\"type\":\"CDSView\"}},\"id\":\"1163\",\"type\":\"GlyphRenderer\"},{\"attributes\":{\"callback\":null},\"id\":\"1131\",\"type\":\"DataRange1d\"},{\"attributes\":{\"ticker\":{\"id\":\"1138\",\"type\":\"BasicTicker\"}},\"id\":\"1141\",\"type\":\"Grid\"},{\"attributes\":{},\"id\":\"1179\",\"type\":\"BasicTickFormatter\"},{\"attributes\":{\"callback\":null,\"data\":{\"left\":[0.0,0.5,1.0,1.5,2.0,2.5,3.0,3.5,4.0,4.5,5.0,5.5,6.0,6.5,7.0,7.5,8.0,8.5,9.0,9.5,10.0,10.5,11.0,11.5,12.0,12.5,13.0,13.5,14.0,14.5,15.0,15.5,16.0,16.5,17.0,17.5,18.0,18.5,19.0,19.5,20.0,20.5,21.0,21.5,22.0,22.5,23.0,23.5,24.0,24.5,25.0,25.5,26.0,26.5,27.0,27.5,28.0,28.5,29.0,29.5,30.0,30.5,31.0,31.5,32.0,32.5,33.0,33.5,34.0,34.5,35.0,35.5,36.0,36.5,37.0,37.5,38.0,38.5,39.0,39.5,40.0,40.5,41.0,41.5,42.0,42.5,43.0,43.5,44.0,44.5,45.0,45.5,46.0,46.5,47.0,47.5,48.0,48.5,49.0,49.5],\"right\":[0.5,1.0,1.5,2.0,2.5,3.0,3.5,4.0,4.5,5.0,5.5,6.0,6.5,7.0,7.5,8.0,8.5,9.0,9.5,10.0,10.5,11.0,11.5,12.0,12.5,13.0,13.5,14.0,14.5,15.0,15.5,16.0,16.5,17.0,17.5,18.0,18.5,19.0,19.5,20.0,20.5,21.0,21.5,22.0,22.5,23.0,23.5,24.0,24.5,25.0,25.5,26.0,26.5,27.0,27.5,28.0,28.5,29.0,29.5,30.0,30.5,31.0,31.5,32.0,32.5,33.0,33.5,34.0,34.5,35.0,35.5,36.0,36.5,37.0,37.5,38.0,38.5,39.0,39.5,40.0,40.5,41.0,41.5,42.0,42.5,43.0,43.5,44.0,44.5,45.0,45.5,46.0,46.5,47.0,47.5,48.0,48.5,49.0,49.5,50.0],\"top\":[18,37,1319,784,1206,1212,1628,1656,1954,2044,2093,1973,1671,1503,1342,962,892,576,500,406,325,238,208,161,166,98,123,74,69,51,58,31,37,23,23,21,34,18,29,12,23,4,17,10,25,3,12,3,11,5,8,2,5,1,11,0,1,0,2,0,1,0,1,0,2,0,2,1,0,0,0,0,0,0,1,0,1,0,0,0,1,0,0,0,0,0,0,0,1,0,1,0,1,0,0,0,0,0,0,0]},\"selected\":{\"id\":\"1181\",\"type\":\"Selection\"},\"selection_policy\":{\"id\":\"1180\",\"type\":\"UnionRenderers\"}},\"id\":\"1160\",\"type\":\"ColumnDataSource\"},{\"attributes\":{},\"id\":\"1180\",\"type\":\"UnionRenderers\"},{\"attributes\":{\"bottom\":{\"value\":0},\"fill_color\":{\"value\":\"#1f77b4\"},\"left\":{\"field\":\"left\"},\"right\":{\"field\":\"right\"},\"top\":{\"field\":\"top\"}},\"id\":\"1161\",\"type\":\"Quad\"},{\"attributes\":{\"overlay\":{\"id\":\"1182\",\"type\":\"BoxAnnotation\"}},\"id\":\"1149\",\"type\":\"BoxZoomTool\"},{\"attributes\":{},\"id\":\"1181\",\"type\":\"Selection\"},{\"attributes\":{},\"id\":\"1152\",\"type\":\"HelpTool\"},{\"attributes\":{\"formatter\":{\"id\":\"1179\",\"type\":\"BasicTickFormatter\"},\"ticker\":{\"id\":\"1138\",\"type\":\"BasicTicker\"}},\"id\":\"1137\",\"type\":\"LinearAxis\"},{\"attributes\":{},\"id\":\"1177\",\"type\":\"BasicTickFormatter\"},{\"attributes\":{},\"id\":\"1135\",\"type\":\"LinearScale\"},{\"attributes\":{\"bottom\":{\"value\":0},\"fill_alpha\":{\"value\":0.1},\"fill_color\":{\"value\":\"#1f77b4\"},\"left\":{\"field\":\"left\"},\"line_alpha\":{\"value\":0.1},\"line_color\":{\"value\":\"#1f77b4\"},\"right\":{\"field\":\"right\"},\"top\":{\"field\":\"top\"}},\"id\":\"1162\",\"type\":\"Quad\"},{\"attributes\":{},\"id\":\"1138\",\"type\":\"BasicTicker\"},{\"attributes\":{\"source\":{\"id\":\"1160\",\"type\":\"ColumnDataSource\"}},\"id\":\"1164\",\"type\":\"CDSView\"},{\"attributes\":{},\"id\":\"1151\",\"type\":\"ResetTool\"},{\"attributes\":{\"text\":\"Histogram of average gene heterozygosity\"},\"id\":\"1127\",\"type\":\"Title\"},{\"attributes\":{\"bottom_units\":\"screen\",\"fill_alpha\":{\"value\":0.5},\"fill_color\":{\"value\":\"lightgrey\"},\"left_units\":\"screen\",\"level\":\"overlay\",\"line_alpha\":{\"value\":1.0},\"line_color\":{\"value\":\"black\"},\"line_dash\":[4,4],\"line_width\":{\"value\":2},\"render_mode\":\"css\",\"right_units\":\"screen\",\"top_units\":\"screen\"},\"id\":\"1182\",\"type\":\"BoxAnnotation\"},{\"attributes\":{},\"id\":\"1133\",\"type\":\"LinearScale\"},{\"attributes\":{\"active_drag\":\"auto\",\"active_inspect\":\"auto\",\"active_multi\":null,\"active_scroll\":\"auto\",\"active_tap\":\"auto\",\"tools\":[{\"id\":\"1147\",\"type\":\"PanTool\"},{\"id\":\"1148\",\"type\":\"WheelZoomTool\"},{\"id\":\"1149\",\"type\":\"BoxZoomTool\"},{\"id\":\"1150\",\"type\":\"SaveTool\"},{\"id\":\"1151\",\"type\":\"ResetTool\"},{\"id\":\"1152\",\"type\":\"HelpTool\"}]},\"id\":\"1153\",\"type\":\"Toolbar\"},{\"attributes\":{},\"id\":\"1143\",\"type\":\"BasicTicker\"},{\"attributes\":{},\"id\":\"1150\",\"type\":\"SaveTool\"},{\"attributes\":{},\"id\":\"1148\",\"type\":\"WheelZoomTool\"},{\"attributes\":{\"callback\":null,\"end\":52.5,\"start\":-2.5},\"id\":\"1129\",\"type\":\"Range1d\"},{\"attributes\":{\"axis_label\":\"Frequency\",\"formatter\":{\"id\":\"1177\",\"type\":\"BasicTickFormatter\"},\"ticker\":{\"id\":\"1143\",\"type\":\"BasicTicker\"}},\"id\":\"1142\",\"type\":\"LinearAxis\"},{\"attributes\":{},\"id\":\"1147\",\"type\":\"PanTool\"},{\"attributes\":{\"dimension\":1,\"ticker\":{\"id\":\"1143\",\"type\":\"BasicTicker\"}},\"id\":\"1146\",\"type\":\"Grid\"}],\"root_ids\":[\"1126\"]},\"title\":\"Bokeh Application\",\"version\":\"1.2.0\"}};\n",
       "  var render_items = [{\"docid\":\"421d1060-a8d2-4485-abb8-6061278fc9d1\",\"roots\":{\"1126\":\"4f3283c1-0d3e-4cfe-834f-1dd5e01e8ef4\"}}];\n",
       "  root.Bokeh.embed.embed_items_notebook(docs_json, render_items);\n",
       "\n",
       "  }\n",
       "  if (root.Bokeh !== undefined) {\n",
       "    embed_document(root);\n",
       "  } else {\n",
       "    var attempts = 0;\n",
       "    var timer = setInterval(function(root) {\n",
       "      if (root.Bokeh !== undefined) {\n",
       "        embed_document(root);\n",
       "        clearInterval(timer);\n",
       "      }\n",
       "      attempts++;\n",
       "      if (attempts > 100) {\n",
       "        console.log(\"Bokeh: ERROR: Unable to run BokehJS code because BokehJS library is missing\");\n",
       "        clearInterval(timer);\n",
       "      }\n",
       "    }, 10, root)\n",
       "  }\n",
       "})(window);"
      ],
      "application/vnd.bokehjs_exec.v0+json": ""
     },
     "metadata": {
      "application/vnd.bokehjs_exec.v0+json": {
       "id": "1126"
      }
     },
     "output_type": "display_data"
    }
   ],
   "source": [
    "p = hl.plot.histogram(gene_stats.avg_het, range=(0, 50), bins=100, title='Histogram of average gene heterozygosity')\n",
    "p.plot_width = 800\n",
    "p.plot_height = 500\n",
    "show(p)"
   ]
  },
  {
   "cell_type": "code",
   "execution_count": 10,
   "metadata": {},
   "outputs": [
    {
     "name": "stderr",
     "output_type": "stream",
     "text": [
      "2020-12-02 11:11:49 Hail: INFO: Ordering unsorted dataset with network shuffle\n"
     ]
    },
    {
     "data": {
      "text/html": [
       "\n",
       "\n",
       "\n",
       "\n",
       "\n",
       "\n",
       "  <div class=\"bk-root\" id=\"bed11f21-069b-4bf5-9327-68c6f6ff50fd\" data-root-id=\"1231\"></div>\n"
      ]
     },
     "metadata": {},
     "output_type": "display_data"
    },
    {
     "data": {
      "application/javascript": [
       "(function(root) {\n",
       "  function embed_document(root) {\n",
       "    \n",
       "  var docs_json = {\"776c7537-f907-486d-b2f7-43f265039368\":{\"roots\":{\"references\":[{\"attributes\":{\"background_fill_color\":{\"value\":\"#EEEEEE\"},\"below\":[{\"id\":\"1242\",\"type\":\"LinearAxis\"}],\"center\":[{\"id\":\"1246\",\"type\":\"Grid\"},{\"id\":\"1251\",\"type\":\"Grid\"},{\"id\":\"1283\",\"type\":\"Legend\"}],\"left\":[{\"id\":\"1247\",\"type\":\"LinearAxis\"}],\"plot_height\":500,\"plot_width\":800,\"renderers\":[{\"id\":\"1268\",\"type\":\"GlyphRenderer\"},{\"id\":\"1273\",\"type\":\"GlyphRenderer\"}],\"title\":{\"id\":\"1232\",\"type\":\"Title\"},\"toolbar\":{\"id\":\"1258\",\"type\":\"Toolbar\"},\"x_range\":{\"id\":\"1234\",\"type\":\"Range1d\"},\"x_scale\":{\"id\":\"1238\",\"type\":\"LinearScale\"},\"y_range\":{\"id\":\"1236\",\"type\":\"DataRange1d\"},\"y_scale\":{\"id\":\"1240\",\"type\":\"LinearScale\"}},\"id\":\"1231\",\"subtype\":\"Figure\",\"type\":\"Plot\"},{\"attributes\":{},\"id\":\"1310\",\"type\":\"UnionRenderers\"},{\"attributes\":{\"callback\":null,\"data\":{\"left\":[0.0,1.0,2.0,3.0,4.0,5.0,6.0,7.0,8.0,9.0,10.0,11.0,12.0,13.0,14.0,15.0,16.0,17.0,18.0,19.0],\"right\":[1.0,2.0,3.0,4.0,5.0,6.0,7.0,8.0,9.0,10.0,11.0,12.0,13.0,14.0,15.0,16.0,17.0,18.0,19.0,20.0],\"top\":[10506,4223,3232,2312,1572,1110,773,515,380,263,170,156,109,87,46,53,53,29,21,30]},\"selected\":{\"id\":\"1281\",\"type\":\"Selection\"},\"selection_policy\":{\"id\":\"1280\",\"type\":\"UnionRenderers\"}},\"id\":\"1265\",\"type\":\"ColumnDataSource\"},{\"attributes\":{},\"id\":\"1311\",\"type\":\"Selection\"},{\"attributes\":{\"label\":{\"value\":\"Outliers Above\"},\"renderers\":[{\"id\":\"1273\",\"type\":\"GlyphRenderer\"}]},\"id\":\"1284\",\"type\":\"LegendItem\"},{\"attributes\":{\"bottom\":{\"value\":0},\"fill_color\":{\"value\":\"green\"},\"left\":{\"value\":20.0},\"right\":{\"value\":21.0},\"top\":{\"value\":91}},\"id\":\"1271\",\"type\":\"Quad\"},{\"attributes\":{\"bottom\":{\"value\":0},\"fill_color\":{\"value\":\"#1f77b4\"},\"left\":{\"field\":\"left\"},\"right\":{\"field\":\"right\"},\"top\":{\"field\":\"top\"}},\"id\":\"1266\",\"type\":\"Quad\"},{\"attributes\":{\"callback\":null,\"data\":{},\"selected\":{\"id\":\"1311\",\"type\":\"Selection\"},\"selection_policy\":{\"id\":\"1310\",\"type\":\"UnionRenderers\"}},\"id\":\"1270\",\"type\":\"ColumnDataSource\"},{\"attributes\":{\"data_source\":{\"id\":\"1265\",\"type\":\"ColumnDataSource\"},\"glyph\":{\"id\":\"1266\",\"type\":\"Quad\"},\"hover_glyph\":null,\"muted_glyph\":null,\"nonselection_glyph\":{\"id\":\"1267\",\"type\":\"Quad\"},\"selection_glyph\":null,\"view\":{\"id\":\"1269\",\"type\":\"CDSView\"}},\"id\":\"1268\",\"type\":\"GlyphRenderer\"},{\"attributes\":{\"text\":\"Histogram of number of high impact variants per gene\"},\"id\":\"1232\",\"type\":\"Title\"},{\"attributes\":{\"bottom\":{\"value\":0},\"fill_alpha\":{\"value\":0.1},\"fill_color\":{\"value\":\"#1f77b4\"},\"left\":{\"field\":\"left\"},\"line_alpha\":{\"value\":0.1},\"line_color\":{\"value\":\"#1f77b4\"},\"right\":{\"field\":\"right\"},\"top\":{\"field\":\"top\"}},\"id\":\"1267\",\"type\":\"Quad\"},{\"attributes\":{\"source\":{\"id\":\"1265\",\"type\":\"ColumnDataSource\"}},\"id\":\"1269\",\"type\":\"CDSView\"},{\"attributes\":{},\"id\":\"1257\",\"type\":\"HelpTool\"},{\"attributes\":{\"active_drag\":\"auto\",\"active_inspect\":\"auto\",\"active_multi\":null,\"active_scroll\":\"auto\",\"active_tap\":\"auto\",\"tools\":[{\"id\":\"1252\",\"type\":\"PanTool\"},{\"id\":\"1253\",\"type\":\"WheelZoomTool\"},{\"id\":\"1254\",\"type\":\"BoxZoomTool\"},{\"id\":\"1255\",\"type\":\"SaveTool\"},{\"id\":\"1256\",\"type\":\"ResetTool\"},{\"id\":\"1257\",\"type\":\"HelpTool\"}]},\"id\":\"1258\",\"type\":\"Toolbar\"},{\"attributes\":{\"callback\":null},\"id\":\"1236\",\"type\":\"DataRange1d\"},{\"attributes\":{},\"id\":\"1240\",\"type\":\"LinearScale\"},{\"attributes\":{\"axis_label\":\"Frequency\",\"formatter\":{\"id\":\"1277\",\"type\":\"BasicTickFormatter\"},\"ticker\":{\"id\":\"1248\",\"type\":\"BasicTicker\"}},\"id\":\"1247\",\"type\":\"LinearAxis\"},{\"attributes\":{},\"id\":\"1243\",\"type\":\"BasicTicker\"},{\"attributes\":{},\"id\":\"1255\",\"type\":\"SaveTool\"},{\"attributes\":{\"data_source\":{\"id\":\"1270\",\"type\":\"ColumnDataSource\"},\"glyph\":{\"id\":\"1271\",\"type\":\"Quad\"},\"hover_glyph\":null,\"muted_glyph\":null,\"nonselection_glyph\":{\"id\":\"1272\",\"type\":\"Quad\"},\"selection_glyph\":null,\"view\":{\"id\":\"1274\",\"type\":\"CDSView\"}},\"id\":\"1273\",\"type\":\"GlyphRenderer\"},{\"attributes\":{\"source\":{\"id\":\"1270\",\"type\":\"ColumnDataSource\"}},\"id\":\"1274\",\"type\":\"CDSView\"},{\"attributes\":{},\"id\":\"1277\",\"type\":\"BasicTickFormatter\"},{\"attributes\":{},\"id\":\"1253\",\"type\":\"WheelZoomTool\"},{\"attributes\":{},\"id\":\"1280\",\"type\":\"UnionRenderers\"},{\"attributes\":{},\"id\":\"1238\",\"type\":\"LinearScale\"},{\"attributes\":{},\"id\":\"1279\",\"type\":\"BasicTickFormatter\"},{\"attributes\":{},\"id\":\"1252\",\"type\":\"PanTool\"},{\"attributes\":{},\"id\":\"1248\",\"type\":\"BasicTicker\"},{\"attributes\":{},\"id\":\"1281\",\"type\":\"Selection\"},{\"attributes\":{\"formatter\":{\"id\":\"1279\",\"type\":\"BasicTickFormatter\"},\"ticker\":{\"id\":\"1243\",\"type\":\"BasicTicker\"}},\"id\":\"1242\",\"type\":\"LinearAxis\"},{\"attributes\":{\"dimension\":1,\"ticker\":{\"id\":\"1248\",\"type\":\"BasicTicker\"}},\"id\":\"1251\",\"type\":\"Grid\"},{\"attributes\":{\"bottom_units\":\"screen\",\"fill_alpha\":{\"value\":0.5},\"fill_color\":{\"value\":\"lightgrey\"},\"left_units\":\"screen\",\"level\":\"overlay\",\"line_alpha\":{\"value\":1.0},\"line_color\":{\"value\":\"black\"},\"line_dash\":[4,4],\"line_width\":{\"value\":2},\"render_mode\":\"css\",\"right_units\":\"screen\",\"top_units\":\"screen\"},\"id\":\"1282\",\"type\":\"BoxAnnotation\"},{\"attributes\":{},\"id\":\"1256\",\"type\":\"ResetTool\"},{\"attributes\":{\"callback\":null,\"end\":21.0,\"start\":-1.0},\"id\":\"1234\",\"type\":\"Range1d\"},{\"attributes\":{\"items\":[{\"id\":\"1284\",\"type\":\"LegendItem\"}]},\"id\":\"1283\",\"type\":\"Legend\"},{\"attributes\":{\"bottom\":{\"value\":0},\"fill_alpha\":{\"value\":0.1},\"fill_color\":{\"value\":\"#1f77b4\"},\"left\":{\"value\":20.0},\"line_alpha\":{\"value\":0.1},\"line_color\":{\"value\":\"#1f77b4\"},\"right\":{\"value\":21.0},\"top\":{\"value\":91}},\"id\":\"1272\",\"type\":\"Quad\"},{\"attributes\":{\"overlay\":{\"id\":\"1282\",\"type\":\"BoxAnnotation\"}},\"id\":\"1254\",\"type\":\"BoxZoomTool\"},{\"attributes\":{\"ticker\":{\"id\":\"1243\",\"type\":\"BasicTicker\"}},\"id\":\"1246\",\"type\":\"Grid\"}],\"root_ids\":[\"1231\"]},\"title\":\"Bokeh Application\",\"version\":\"1.2.0\"}};\n",
       "  var render_items = [{\"docid\":\"776c7537-f907-486d-b2f7-43f265039368\",\"roots\":{\"1231\":\"bed11f21-069b-4bf5-9327-68c6f6ff50fd\"}}];\n",
       "  root.Bokeh.embed.embed_items_notebook(docs_json, render_items);\n",
       "\n",
       "  }\n",
       "  if (root.Bokeh !== undefined) {\n",
       "    embed_document(root);\n",
       "  } else {\n",
       "    var attempts = 0;\n",
       "    var timer = setInterval(function(root) {\n",
       "      if (root.Bokeh !== undefined) {\n",
       "        embed_document(root);\n",
       "        clearInterval(timer);\n",
       "      }\n",
       "      attempts++;\n",
       "      if (attempts > 100) {\n",
       "        console.log(\"Bokeh: ERROR: Unable to run BokehJS code because BokehJS library is missing\");\n",
       "        clearInterval(timer);\n",
       "      }\n",
       "    }, 10, root)\n",
       "  }\n",
       "})(window);"
      ],
      "application/vnd.bokehjs_exec.v0+json": ""
     },
     "metadata": {
      "application/vnd.bokehjs_exec.v0+json": {
       "id": "1231"
      }
     },
     "output_type": "display_data"
    }
   ],
   "source": [
    "p = hl.plot.histogram(gene_stats.n_high_impact, range=(0, 20), bins=20, title='Histogram of number of high impact variants per gene')\n",
    "p.plot_width = 800\n",
    "p.plot_height = 500\n",
    "show(p)"
   ]
  },
  {
   "cell_type": "markdown",
   "metadata": {},
   "source": [
    "Make a scatterplot of heterozygosity and impact per gene."
   ]
  },
  {
   "cell_type": "code",
   "execution_count": 11,
   "metadata": {},
   "outputs": [
    {
     "name": "stderr",
     "output_type": "stream",
     "text": [
      "2020-12-02 11:12:16 Hail: INFO: Ordering unsorted dataset with network shuffle\n"
     ]
    }
   ],
   "source": [
    "p = hl.plot.scatter(gene_stats.n_high_impact, gene_stats.avg_het, hover_fields={'Gene': gene_stats.gene1})"
   ]
  },
  {
   "cell_type": "code",
   "execution_count": 12,
   "metadata": {},
   "outputs": [
    {
     "data": {
      "text/html": [
       "\n",
       "\n",
       "\n",
       "\n",
       "\n",
       "\n",
       "  <div class=\"bk-root\" id=\"6f2f0e44-aaf2-40c8-9018-969211abfa17\" data-root-id=\"1373\"></div>\n"
      ]
     },
     "metadata": {},
     "output_type": "display_data"
    },
    {
     "data": {
      "application/javascript": [
       "(function(root) {\n",
       "  function embed_document(root) {\n",
       "    \n",
       "  var docs_json = {\"2d8b3ac6-7db3-4233-bbec-fc9daeb765e6\":{\"roots\":{\"references\":[{\"attributes\":{\"below\":[{\"id\":\"1383\",\"type\":\"LinearAxis\"}],\"center\":[{\"id\":\"1387\",\"type\":\"Grid\"},{\"id\":\"1392\",\"type\":\"Grid\"}],\"left\":[{\"id\":\"1388\",\"type\":\"LinearAxis\"}],\"plot_height\":500,\"plot_width\":800,\"renderers\":[{\"id\":\"1412\",\"type\":\"GlyphRenderer\"}],\"title\":null,\"toolbar\":{\"id\":\"1399\",\"type\":\"Toolbar\"},\"x_range\":{\"id\":\"1375\",\"type\":\"DataRange1d\"},\"x_scale\":{\"id\":\"1415\",\"type\":\"LogScale\"},\"y_range\":{\"id\":\"1377\",\"type\":\"DataRange1d\"},\"y_scale\":{\"id\":\"1414\",\"type\":\"LogScale\"}},\"id\":\"1373\",\"subtype\":\"Figure\",\"type\":\"Plot\"},{\"attributes\":{\"callback\":null},\"id\":\"1377\",\"type\":\"DataRange1d\"},{\"attributes\":{\"callback\":null},\"id\":\"1375\",\"type\":\"DataRange1d\"},{\"attributes\":{},\"id\":\"1415\",\"type\":\"LogScale\"},{\"attributes\":{\"callback\":null,\"data\":{\"Gene\":[\"BGN-ATP2B3\",\"LINC00367\",\"TTTY20\",\"CHR_START-SCGB1C2\",\"CDKL1-MAP4K5\",\"BCORP1\",\"BRCC3-VBP1\",\"C6orf226\",\"FAM74A1-SPATA31A7\",\"ABCB5-SP8\",\"CLDN17\",\"CDC42EP5\",\"C21orf140-KCNE1\",\"ALMS1-IT1\",\"LOC105370024\",\"ABCC6P2\",\"BIN3-IT1\",\"CASC18-NUAK1\",\"MIR4786\",\"BCL2L1\",\"ABCA4-ARHGAP29\",\"ALG9\",\"ADCY10P1\",\"APOL6\",\"ENPP7P13-LINC00273\",\"AAED1\",\"ACTG1P4\",\"CRYAA\",\"GSN-AS1\",\"ANKRD20A8P\",\"ANAPC1P1-RGPD2\",\"ADRA2C-FAM86EP\",\"ADORA2B\",\"ARNTL2-AS1\",\"ARFRP1\",\"ABCG2\",\"A1BG-AS1\",\"DEXI\",\"ACAA2\",\"ANKRD36BP1\",\"ANKRA2\",\"ATP5J\",\"AMIGO1\",\"ACKR3\",\"ARL8A\",\"ACTR3\",\"ADH6\",\"ADAM3A\",\"ANAPC1P1\",\"ADARB2-AS1\",\"AATK-AS1\",\"ADI1-RNASEH1\",\"AGPAT4-IT1\",\"AARD\",\"ABI1\",\"CCT6P3-ZNF92\",\"ADAM6\",\"AGTPBP1-LOC389765\",\"APOA2\",\"ALKBH3-AS1-C11orf96\",\"AATBC\",\"ELOVL6\",\"ABHD2\",\"AP4B1-AS1\",\"A1CF\",\"ACTL10\",\"DGKB-AGMO\",\"CDR2L\",\"ACTA2\",\"FAM210B\",\"AES\",\"ACTA2-AS1\",\"ADGRL4\",\"ADH1A\",\"ADAM6-LINC00226\",\"ELK2AP-MIR4539\",\"AEBP2-LOC100506393\",\"DLX1\",\"AGAP7P\",\"DERL1\",\"ADAMTSL3-EFTUD1P1\",\"LOC105379143\",\"AMTN\",\"AAMDC\",\"CALB2-ZNF23\",\"ASB8\",\"AAGAB\",\"ADD3-AS1\",\"C11orf1\",\"ADAT2\",\"AP4E1\",\"AKR1C8P\",\"BORCS7\",\"ADH5\",\"AADACL2-AS1\",\"ACOT9-SAT1\",\"BRMS1L-LINC00609\",\"AKIRIN1\",\"ACSM6\",\"ARMC1\",\"ACTG1P17\",\"C12orf71\",\"CA10-C17orf112\",\"APCDD1\",\"CD81-AS1\",\"ANKRD20A5P-CYP4F35P\",\"ANAPC13\",\"BMP5\",\"LOC105378127-LOC401286\",\"CTSO-PDGFC\",\"GLIPR1L2\",\"ARL14EPL\",\"C15orf53\",\"C4orf36\",\"GNGT1\",\"C8orf22\",\"GEN1-MSGN1\",\"AKR1C3\",\"ABO-SURF6\",\"C1orf195\",\"C9orf62\",\"ADH1C\",\"NSUN5P1\",\"ADAMTS9-AS2\",\"LOC646548\",\"CARNMT1-NMRK1\",\"FBLL1\",\"ABCA13-CDC14C\",\"BBS12\",\"ADAM20P1\",\"CTXN1\",\"ANKRD33B-DAP\",\"ARFGEF3-HEBP2\",\"C11orf97\",\"AGR2-AGR3\",\"ATP5L2\",\"ADAM21P1\",\"LOC392364\",\"G3BP1-GLRA1\",\"CROCCP2\",\"BACH1-IT2-GRIK1\",\"CHD7-LOC100130298\",\"CHI3L1-CHIT1\",\"LINC01169\",\"DEFB119\",\"CRYGB\",\"CST9\",\"PCDHAC1\",\"C8orf49\",\"GYPE\",\"BRWD1-IT2\",\"BPESC1-PISRT1\",\"NT5M-MED9\",\"CXADRP2\",\"ART4\",\"ALPPL2-ALPI\",\"ZNF705G\",\"CDC37L1-AS1\",\"CDRT15L2-LOC100287072\",\"LGALS7\",\"GPR6\",\"MIR6128\",\"CXCL10\",\"GNMT\",\"ARID5B-RTKN2\",\"ACTR3BP5\",\"KRTAP5-3\",\"FAM230C\",\"ATP6V1G2-DDX39B\",\"CCDC169-SOHLH2\",\"HIST1H2AC\",\"CLDN10\",\"CHR_START-CHEK2P2\",\"TSPAN5-EIF4E\",\"LOC101928453\",\"HELT-SLC25A4\",\"CXCL11\",\"KPRP\",\"CACUL1-NANOS1\",\"CDC14C\",\"LINC01483\",\"ALG2\",\"CA2-REXO1L2P\",\"SPRR1B\",\"BLOC1S5\",\"MIR8089\",\"TAF13\",\"C12orf75-CASC18\",\"FAM182B\",\"DNAJB6-LOC101927914\",\"OR10H2\",\"CCDC169\",\"MINCR\",\"ANKRD20A4-FAM95B1\",\"AQP7P1-MIR4477A\",\"PTGES3L\",\"ATXN8OS\",\"OR10A2\",\"RPL34\",\"KHDRBS2-LGSN\",\"LOC101929227\",\"LINC00648\",\"LOC102467080-ESM1\",\"MIR1303\",\"CDS2-PROKR2\",\"PSMB5\",\"C1orf68\",\"TNP2\",\"CHR_START-LOC102723780\",\"HAND2-AS1-LOC101928509\",\"CD24\",\"NBPF13P\",\"MIR5692C2\",\"RPL34-AS1\",\"FGF18-SMIM23\",\"AZGP1P1-ZKSCAN1\",\"NBEAP1\",\"LOC101928295\",\"SNORD114-19\",\"AKR7A2P1\",\"MLLT10P1-DEFB115\",\"ANXA2P3\",\"LOC101929319\",\"CYP26A1-MYOF\",\"LOC105377590\",\"ANO5-SLC17A6\",\"CHR_START-FAM230C\",\"SMIM10L1\",\"CSPG4P1Y-CDY1\",\"HOXC-AS2\",\"GLIDR\",\"HBZ\",\"EIF2B5-AS1\",\"MIR3672\",\"ACTR3BP2\",\"OR1D5\",\"DUBR\",\"LINC01534\",\"ADAMTS7-MORF4L1\",\"ANKRD30B-LINC01443\",\"DESI2-COX20\",\"HMGB3P1\",\"LOC102724691\",\"MIR924HG\",\"FAM24B\",\"FAM181A-AS1\",\"DUSP22-IRF4\",\"SBK1-NPIPB6\",\"ANK2-CAMK2D\",\"GPR15-CPOX\",\"FAM25BP\",\"LOC100506476\",\"MLLT10P1\",\"PART1\",\"MIR4275\",\"NKX6-1-CDS1\",\"MIR3142\",\"VCY\",\"CDY1B\",\"LOC100287704\",\"NUDT11\",\"C6orf141\",\"ACOT1\",\"ACTRT1\",\"EPGN\",\"CDR2\",\"AP5M1\",\"C5orf15\",\"ANKRD65\",\"C2CD4D\",\"C11orf44\",\"C1orf189\",\"AK6\",\"ANKRD13D\",\"C5orf34\",\"C19orf25\",\"ANKRD26P1\",\"ANAPC11\",\"EPPIN\",\"AKAP5\",\"C11orf58\",\"TOB2\",\"ABCG4\",\"DESI1\",\"BATF\",\"APOA5\",\"AMBP\",\"CALR\",\"DNAJC19\",\"APOBEC3G\",\"DHRS9\",\"ACSM1\",\"ABCB9\",\"C19orf38\",\"ADAT1\",\"BOLA1\",\"ANKRD29\",\"B3GAT1\",\"ADD3\",\"AASS\",\"ACP2\",\"APOA4\",\"ATOH8\",\"ACOT13\",\"DESI2\",\"CHEK1\",\"AHCYL2\",\"ACBD7\",\"ABCD2\",\"ALX1\",\"ATOH7\",\"ADCY1\",\"APOBEC4\",\"ADM2\",\"ACOT12\",\"ACADSB\",\"ADAM15\",\"A4GALT\",\"EFR3A\",\"AIF1L\",\"ANXA6\",\"CCT2\",\"CD276\",\"ELAVL1\",\"ASB17\",\"BET1L\",\"APOL2\",\"GPR25\",\"ASL\",\"ABHD4\",\"LRRC25\",\"APBB2\",\"ACCS\",\"ADD2\",\"C17orf58\",\"AGAP12P\",\"ART1\",\"APTX\",\"ACTL7B\",\"AP1AR\",\"ANKDD1B\",\"AKR1B15\",\"ADAM10\",\"CADM2\",\"ACP1\",\"ATG4B\",\"CCDC25\",\"BMP2\",\"CPLX1\",\"ALDH9A1\",\"C1QL3\",\"DIRAS1\",\"ADI1\",\"ASB4\",\"ADGRE2\",\"DEUP1\",\"CCR5\",\"AMDHD1\",\"BRS3\",\"JAML\",\"C5orf52\",\"C10orf95\",\"LRRTM4\",\"ALDH3B1\",\"GFRA1\",\"AHSA2\",\"CDC42EP4\",\"C9orf129\",\"GCFC2\",\"BCL2A1\",\"ANP32E\",\"FIBIN\",\"ERV3-1\",\"CA6\",\"ADGRF2\",\"ANHX\",\"CLCA3P\",\"ARGFX\",\"C3orf30\",\"ZNF697\",\"CCDC71L\",\"XAB2\",\"IGFL4\",\"CLEC3A\",\"C2orf74\",\"CLDN20\",\"LOC645752\",\"KRTAP4-6\",\"BOD1L2\",\"MYSM1\",\"CYP4V2\",\"LOC642846\",\"CYP1B1\",\"ARHGAP8\",\"KRTAP10-2\",\"DPT\",\"ACTR1A\",\"LRIF1\",\"OR10G4\",\"IMMT\",\"GLYATL3\",\"CASP1\",\"DDIT4L\",\"AADAC\",\"EDDM3A\",\"C11orf98\",\"FAM173A\",\"EID3\",\"C2orf70\",\"APITD1-CORT\",\"HIST1H3C\",\"HTR3C\",\"TPSB2\",\"LYZL2\",\"DEFB108B\",\"PGM5P2\",\"LOC403323\",\"OR52H1\",\"BAGE4\",\"OR8D4\",\"IGFL1\",\"AMACR&C1QTNF3-AMACR\",\"OR6C76\",\"LIMS4\",\"KCNJ18\",\"DAZ1\",\"FRG1DP\",\"LOC102723780\",\"TMEM178A\",\"KCNJ12\",\"LINC01535\",\"CDY2A\",\"ZCCHC18\",\"BCS1L\",\"CBY3\",\"ASNA1\",\"B3GNT2\",\"LCE6A\",\"LAT2\",\"ALG3\",\"SWI5\",\"ALG11\",\"DGAT2L6\",\"AADACL4\",\"TRADD\",\"CRYBB1\",\"FAM219B\",\"BRINP3\",\"AQP6\",\"C1GALT1C1\",\"ATPAF2\",\"FGF13\",\"BEND2\",\"ENKD1\",\"ACBD4\",\"CACNG3\",\"CLIP3\",\"CCR9\",\"ARL6IP1\",\"DHFR2\",\"ALDH8A1\",\"C2orf81\",\"APRT\",\"TMEM206\",\"AMMECR1\",\"ANXA7\",\"ACAD8\",\"ACSM3\",\"ACSM4\",\"ACBD3\",\"CNPY3\",\"ACTBL2\",\"AK3\",\"ACAD11\",\"ACMSD\",\"AGPAT2\",\"ABHD1\",\"ADAMTS19\",\"ACTR3C\",\"ABCD3\",\"ACTRT2\",\"ARHGEF19\",\"ANXA3\",\"A3GALT2\",\"ANKRD6\",\"APOBEC3F\",\"ALDH3A2\",\"AKR7A3\",\"AIFM2\",\"AKTIP\",\"DKK2\",\"AFAP1\",\"AIM1\",\"DMRT1\",\"ABCF3\",\"GPR146\",\"ABLIM1\",\"DUOXA1\",\"ARRDC5\",\"EEPD1\",\"CDH13\",\"FAM92A1\",\"ANOS1\",\"C10orf11\",\"FMO3\",\"B4GALT1\",\"ABHD17A\",\"CCND2\",\"ARHGAP18\",\"ANKRD33B\",\"GLRX2\",\"ABAT\",\"APOC4\",\"ADAMTS1\",\"ACTG1\",\"BARD1\",\"CPNE3\",\"BLVRA\",\"C12orf60\",\"COLQ\",\"CSF2RA\",\"APOBEC1\",\"C2orf83\",\"FCRLA\",\"CTSB\",\"C8G\",\"C2orf54\",\"DHRS11\",\"ANKRD42\",\"AKR1C2\",\"FAM231C\",\"CD300C\",\"FASTKD2\",\"DENND6B\",\"ADAD2\",\"DPCD\",\"CLOCK\",\"ADCK5\",\"DHCR7\",\"ANKRD49\",\"ANP32B\",\"MEOX2\",\"ACTG2\",\"EBLN2\",\"C5orf60\",\"CETN1\",\"CTNS\",\"C21orf91\",\"FCER2\",\"ZNF354C\",\"CAV2\",\"COA6\",\"KLRC2\",\"MS4A12\",\"ANP32C\",\"HNF4G\",\"STPG2\",\"CDK1\",\"C10orf120\",\"OR1N2\",\"C10orf35\",\"GAGE12F\",\"WFDC8\",\"LCE1C\",\"FAM231A\",\"OR2M2\",\"TAS2R4\",\"LINS1\",\"KISS1R\",\"P4HA1\",\"TIFA\",\"KRTAP10-10\",\"CISD2\",\"MST1P2\",\"WASH2P\",\"BAGE3\",\"DEFB132\",\"GPRIN2\",\"MAP2K3\",\"ATP5B\",\"CXCR3\",\"GADD45GIP1\",\"LOC101928120\",\"FAM157B\",\"AIP\",\"C16orf82\",\"ABHD14B\",\"C7orf34\",\"ARMCX5-GPRASP2\",\"BMP10\",\"AKT3\",\"FMNL3\",\"C11orf88\",\"ACAA1\",\"CHST14\",\"ARHGEF1\",\"BEST4\",\"ATP1A3\",\"C16orf90\",\"AZIN2\",\"FAM98C\",\"ABCD1\",\"ADPRH\",\"ERGIC3\",\"ACTL6B\",\"AKAP4\",\"TTC26\",\"AMY2A\",\"CARM1\",\"CYP11A1\",\"AKT2\",\"DLL4\",\"AKR1E2\",\"ASB2\",\"ARMC9\",\"ARCN1\",\"ACAD10\",\"ACVR1B\",\"CAPZB\",\"ARSD\",\"ACOX3\",\"ADAM29\",\"BBOX1\",\"ARL6IP6\",\"ALPL\",\"ACVR1\",\"ADGRL2\",\"ABHD8\",\"ASUN\",\"FN3KRP\",\"CAPRIN2\",\"ANAPC4\",\"ADIPOR1\",\"ADCY2\",\"ADAMTS4\",\"AFM\",\"C1orf94\",\"EFS\",\"ATRN\",\"EXOG\",\"DEFB104B\",\"ATP5A1\",\"ECEL1\",\"ASAH2\",\"ANKRD34C\",\"HIPK3\",\"ATP5S\",\"ADAMTSL5\",\"A4GNT\",\"ASMT\",\"VCPIP1\",\"COPS3\",\"EPN3\",\"ADAM12\",\"IFNLR1\",\"ANTXR2\",\"ADGRD1\",\"CPNE4\",\"ADCK1\",\"CCSER2\",\"FOXD4L5\",\"ACTR10\",\"ASRGL1\",\"FAM120A\",\"B4GALT7\",\"ATP2C2\",\"CENPC\",\"ABCG8\",\"CECR1\",\"AHRR\",\"DCBLD2\",\"C5orf45\",\"CFAP99\",\"ALPK1\",\"BAIAP2L1\",\"IL7R\",\"ASNS\",\"CTTNBP2NL\",\"ARHGAP40\",\"KRTAP10-1\",\"KANK1\",\"BLK\",\"FGB\",\"DUSP22\",\"CLEC1B\",\"HSD17B13\",\"TCTN2\",\"FZD3\",\"PCDHB15\",\"KRT83\",\"SUN5\",\"FAM86C1\",\"CYP4F12\",\"TRIM64C\",\"CPB2\",\"LGALS9C\",\"FPGT\",\"JRK\",\"DSPP\",\"CREG2\",\"LOC101928093\",\"ZFYVE19\",\"POTEG\",\"NRIP1\",\"ADRB2\",\"FOXD4L4\",\"TES\",\"ASPN\",\"OR13C5\",\"FRG2C\",\"TAF9\",\"FAM72C\",\"TCEAL6\",\"BECN1\",\"ARRDC3\",\"GPAA1\",\"LBHD1\",\"CASC3\",\"BCAP31\",\"ALG13\",\"AGK\",\"EPB41L1\",\"ATF6B\",\"ATG16L2\",\"HENMT1\",\"ADRA2A\",\"TBR1\",\"AP5Z1\",\"BPHL\",\"DCAF15\",\"ARAF\",\"CDKL4\",\"MCMDC2\",\"AGAP2\",\"CASK\",\"ARHGAP39\",\"ARHGEF39\",\"DNER\",\"ALKBH2\",\"ANO10\",\"ARHGEF17\",\"ACOXL\",\"ARMC5\",\"CCDC63\",\"AHR\",\"APAF1\",\"AGAP4\",\"ALG1\",\"ABTB1\",\"BRAF\",\"C11orf57\",\"CDC20\",\"AKR1C4\",\"ASAP2\",\"ATP2B4\",\"CREB3L2\",\"ARHGAP22\",\"AMPD1\",\"ACAP2\",\"EIF2B3\",\"ALCAM\",\"CD3EAP\",\"C15orf52\",\"AHSG\",\"ASB14\",\"ADAM8\",\"ENC1\",\"CDRT1\",\"ATP10A\",\"GRB14\",\"C3orf20\",\"ADCY9\",\"AACS\",\"ANKRD44\",\"ATP6V1C2\",\"ACOT6\",\"LEXM\",\"COMT\",\"ETV7\",\"AKAP11\",\"CTSC\",\"ALKBH1\",\"ATL1\",\"AKNAD1\",\"ANKIB1\",\"DENND2A\",\"CXXC1\",\"C3orf52\",\"AVL9\",\"ATP9A\",\"ENPP4\",\"AKAP12\",\"AEBP2\",\"ADAM11\",\"ADGRE1\",\"IRAK2\",\"CCDC146\",\"COL9A1\",\"LONRF2\",\"LOC729159\",\"FURIN\",\"TM2D2\",\"ADAM33\",\"F11R\",\"TRHDE\",\"DUSP23\",\"BTBD16\",\"ZNF440\",\"C2orf76\",\"TMIGD2\",\"C14orf169\",\"CLECL1\",\"TCP10L2\",\"CALR3\",\"ZIM3\",\"ESRP1\",\"CDSN\",\"CRIPAK\",\"HCAR3\",\"DEFB107A\",\"CLEC18C\",\"ZNF443\",\"APIP\",\"OR8G2\",\"FRG2B\",\"FLOT1\",\"CLIC1\",\"FAM72D\",\"MARS\",\"FAM47C\",\"AOC2\",\"AMY1A\",\"ARMCX5\",\"GDF1\",\"GP5\",\"ABCB10\",\"CEACAM4\",\"FAM122C\",\"AGO1\",\"ATRIP\",\"DTX3\",\"CSTF1\",\"AKT1S1\",\"ACADVL\",\"LONP1\",\"ANKFY1\",\"MECR\",\"ARHGAP1\",\"ADPGK\",\"C16orf96\",\"ATP6AP2\",\"DCAF8L2\",\"ADA\",\"ABCE1\",\"SUPT16H\",\"ARFGEF1\",\"B4GALT2\",\"ANKS6\",\"AVIL\",\"CFAP221\",\"ACOT9\",\"ASXL1\",\"ACSBG2\",\"CACNB1\",\"BRF1\",\"ARVCF\",\"AP4B1\",\"AGAP6\",\"ANO7\",\"ARHGAP19\",\"ACTN2\",\"ARHGEF10L\",\"BMPR1A\",\"AKNA\",\"CFHR4\",\"CYP4F22\",\"ACVRL1\",\"ACADS\",\"GRIN2C\",\"ARFIP1\",\"IFNL4\",\"AFAP1L2\",\"LIPG\",\"ASB15\",\"ARHGEF3\",\"AASDH\",\"CASC1\",\"C7\",\"EPB41L4B\",\"CDK5RAP3\",\"C9orf84\",\"EPHA5\",\"AGPS\",\"C10orf90\",\"KIZ\",\"ADAMTS18\",\"AGXT\",\"GUSB\",\"HR\",\"ALDH16A1\",\"C1QTNF9\",\"AKR1B1\",\"USH1C\",\"ITGB8\",\"AOC1\",\"AXDND1\",\"CDA\",\"ITGA10\",\"ATP10D\",\"ERCC4\",\"CELA1\",\"LPA\",\"ADAM17\",\"CD109\",\"THEMIS2\",\"CCDC174\",\"ZFP90\",\"EMB\",\"CEP57\",\"ST8SIA1\",\"ADAM21\",\"IQGAP2\",\"ANGPT2\",\"KIAA1683\",\"ARHGAP28\",\"ERAP1\",\"CCDC17\",\"HLA-G\",\"TACC3\",\"MLK4\",\"CYP11B2\",\"DDX11\",\"ADH4\",\"WNT3\",\"KEL\",\"GTF2H2\",\"TDO2\",\"C2orf78\",\"CSAG3\",\"C17orf78\",\"ARMCX2\",\"CCNB3\",\"SUPT20HL2\",\"ALKBH7\",\"KIAA1147\",\"ARHGEF9\",\"CAPN7\",\"APEH\",\"CASP2\",\"CRK\",\"FLG2\",\"DYM\",\"C14orf79\",\"ARID4A\",\"ACO2\",\"FAM131A\",\"ADGRG7\",\"BRAP\",\"GYG2\",\"CCDC62\",\"BRWD3\",\"CNNM2\",\"CD101\",\"ALG5\",\"ATP4A\",\"APOL5\",\"C19orf68\",\"ACTN4\",\"FKBP10\",\"ATP13A2\",\"ARHGEF4\",\"AJUBA\",\"ARHGAP31\",\"ABCC11\",\"ANO8\",\"ADAMTS10\",\"CHERP\",\"ADAMTSL3\",\"ABCC8\",\"C1orf112\",\"AFDN\",\"ABCA2\",\"MAK\",\"ALK\",\"AEBP1\",\"CDK11A\",\"ARNT\",\"GRIK2\",\"CLPTM1L\",\"SVEP1\",\"FBXO11\",\"ACVR2B\",\"CRIM1\",\"DTHD1\",\"ZNF407\",\"COL24A1\",\"CHPF2\",\"ANKLE2\",\"LLGL2\",\"ADAMTS16\",\"GEMIN2\",\"BEST3\",\"UBASH3A\",\"CASP8AP2\",\"CDC16\",\"AIM1L\",\"DNM1\",\"CACNA2D1\",\"GPC1\",\"HHIPL2\",\"CEP85L\",\"GIPC2\",\"AGL\",\"CCDC154\",\"LCA5L\",\"C1orf167\",\"ADAMTS14\",\"TBP\",\"CCDC110\",\"GJB7\",\"CES1\",\"ERAP2\",\"ADGB\",\"ADAMTS17\",\"NLRP4\",\"CYP4A22\",\"TCP10\",\"ATXN2L\",\"TSPAN10\",\"CDK11B\",\"MEFV\",\"APOL4\",\"ESRRA\",\"TAS2R9\",\"C6orf136\",\"AMER1\",\"HNRNPUL2\",\"ARL17A\",\"CBLC\",\"GOLGA6L10\",\"ZNF623\",\"CCDC191\",\"ABCC12\",\"ABCB6\",\"CUL7\",\"APBA2\",\"FKBP4\",\"ATP13A1\",\"GOLGA8O\",\"DCK\",\"ADGRB2\",\"MED14\",\"TBC1D10C\",\"CLASRP\",\"DMRTA1\",\"C11orf95\",\"ARHGAP5\",\"ABL1\",\"ABCA3\",\"BLMH\",\"BCAN\",\"BRD1\",\"AMOTL1\",\"ARAP3\",\"FAM120B\",\"ADAMTS6\",\"CD163L1\",\"DDX27\",\"BTNL3\",\"CCDC144A\",\"CCDC13\",\"ANXA9\",\"LRRC45\",\"ANKRD26\",\"DHX57\",\"CLIP1\",\"ADNP\",\"CCDC173\",\"DHX36\",\"BMS1\",\"ACTN3\",\"INTS2\",\"ANKRD12\",\"CR1\",\"GREB1\",\"CNTN5\",\"LIG1\",\"ATL3\",\"A2ML1\",\"DNAJC13\",\"TAS2R19\",\"IGSF9\",\"ARHGAP45\",\"BRSK2\",\"GRIP2\",\"C6orf132\",\"HLA-A\",\"ABCC4\",\"STK32C\",\"ANKLE1\",\"LEPR\",\"ADAMDEC1\",\"EXOC3\",\"ATP13A5\",\"ALDH1L1\",\"FAM83E\",\"EVPL\",\"FGD4\",\"TAS2R31\",\"CYB5R2\",\"TPSAB1\",\"HRNR\",\"TPTE\",\"TAS2R10\",\"ZFY\",\"HEATR9\",\"KRT34\",\"AP1G2\",\"AGER\",\"MARCH8\",\"EPN2\",\"ATAT1\",\"MAP3K15\",\"LOXL3\",\"ACSL4\",\"CUL9\",\"LONRF3\",\"EPHA2\",\"ZBTB9\",\"ABCC2\",\"AGAP3\",\"DCP1A\",\"ARID4B\",\"BRPF1\",\"CHTF18\",\"MAP3K6\",\"EXPH5\",\"BTK\",\"BRD8\",\"EHBP1L1\",\"IQGAP3\",\"ARHGAP21\",\"CAPN2\",\"ALS2\",\"ADAMTSL4\",\"AUTS2\",\"ASAP3\",\"ABCC5\",\"DLGAP2\",\"ALAS1\",\"CNTRL\",\"ACOT4\",\"ABCA9\",\"CARMIL1\",\"CSF1R\",\"CHD2\",\"HGFAC\",\"CLMN\",\"BICC1\",\"CNTNAP2\",\"FBRSL1\",\"DNMBP\",\"CCDC18\",\"DHX38\",\"CLCN1\",\"TMPRSS9\",\"GALC\",\"DNHD1\",\"ATR\",\"FCRL3\",\"B4GALNT4\",\"ATP1A4\",\"ALOX12\",\"FAM149A\",\"CCDC175\",\"CAMKK1\",\"TNC\",\"BTAF1\",\"ARSJ\",\"LILRA2\",\"CCDC40\",\"KIAA0040\",\"SVIL\",\"DGKH\",\"FAM205A\",\"GSG2\",\"APOBR\",\"ANKK1\",\"GBP4\",\"FAM184B\",\"NLRP8\",\"DHX37\",\"ABO\",\"CYP2A7\",\"TARM1\",\"GRIK5\",\"ARHGAP27\",\"UBA1\",\"C15orf39\",\"LILRA1\",\"CNOT3\",\"HDAC6\",\"EMILIN1\",\"AHDC1\",\"DLGAP3\",\"ATF4\",\"KIF27\",\"ZNF746\",\"ITSN2\",\"TEX15\",\"ADCY5\",\"ARHGAP9\",\"FAM35A\",\"CBS\",\"HSPBP1\",\"IQSEC1\",\"ASPSCR1\",\"CARS\",\"ERMP1\",\"ATRNL1\",\"COL22A1\",\"ZNF638\",\"ACE\",\"LPIN3\",\"AHCTF1\",\"ANKMY1\",\"AQR\",\"CHD1\",\"ANK3\",\"FRYL\",\"CCDC7\",\"EIF4ENIF1\",\"CUX1\",\"ESPL1\",\"ARAP2\",\"GLG1\",\"KIR3DL1\",\"CSMD3\",\"LGALS3\",\"KCNT1\",\"DOCK5\",\"WDR66\",\"JMY\",\"CSMD1\",\"C2orf16\",\"FAM134A\",\"FLG\",\"DOCK8\",\"TMEM132A\",\"IQGAP1\",\"TG\",\"ANKRD27\",\"ALDH4A1\",\"EVC\",\"VWDE\",\"GRIN3B\",\"DPP7\",\"ANKRD20A4\",\"PABPC3\",\"TBX22\",\"GABBR1\",\"FANCM\",\"C21orf33\",\"GGT1\",\"AADACL2\",\"GTF2H2C\",\"STRC\",\"EIF3CL\",\"ARID5A\",\"KDM6A\",\"DDX52\",\"MAP3K11\",\"FER1L5\",\"ADGRA2\",\"BHLHE40\",\"KIAA1107\",\"ACLY\",\"COL9A2\",\"COL17A1\",\"BAZ2A\",\"CFAP65\",\"WNK3\",\"ABCA1\",\"GNPAT\",\"LTBP2\",\"CACNA1D\",\"CCDC88B\",\"CACNA1S\",\"ATP10B\",\"DOCK10\",\"ALOX15B\",\"TENM3\",\"ZUFSP\",\"AP4S1\",\"TNK2\",\"CBLB\",\"ARHGEF40\",\"ABCA10\",\"MAST2\",\"GLI3\",\"DSP\",\"ATM\",\"BCR\",\"ANKRD24\",\"FREM2\",\"COQ8A\",\"COL9A3\",\"MAT1A\",\"COL4A2\",\"COG1\",\"ASCC3\",\"ADGRL3\",\"CWF19L2\",\"CARD14\",\"COL4A1\",\"NDUFS1\",\"ZNF578\",\"C10orf12\",\"KRT39\",\"WEE2\",\"BCAS3\",\"KIAA0100\",\"JADE3\",\"FBRS\",\"COL20A1\",\"AATF\",\"CHD4\",\"LRIG3\",\"CHD3\",\"CCDC87\",\"ZNF100\",\"ABHD16A\",\"AFF3\",\"EML5\",\"BCL9L\",\"USP9X\",\"CKAP5\",\"GEMIN5\",\"SZT2\",\"CDC42BPG\",\"ABR\",\"COL5A2\",\"APC2\",\"ANKAR\",\"XK\",\"CSMD2\",\"CILP\",\"FANCD2\",\"CAPN15\",\"XPO1\",\"AFF1\",\"CACNA1I\",\"ATP8B3\",\"CNTLN\",\"VPS13C\",\"KIAA1671\",\"ITGAX\",\"ALS2CR11\",\"LRP2\",\"CFAP57\",\"COL2A1\",\"ABCA7\",\"AKAP6\",\"GPRC6A\",\"ANPEP\",\"GCC2\",\"MCM3AP\",\"ZNF292\",\"LAMA1\",\"CCDC180\",\"ABCB5\",\"CEP170B\",\"ALPK2\",\"ASXL3\",\"WDR90\",\"MST1L\",\"DHX16\",\"ATG2A\",\"LRRC37A3\",\"BAG6\",\"ABCF1\",\"ASIC5\",\"DCTN1\",\"DAXX\",\"TAP1\",\"ERMARD\",\"C2CD3\",\"KIFC1\",\"MAP1A\",\"VILL\",\"CAD\",\"GTF2IRD2\",\"ANKHD1\",\"SYTL5\",\"TEAD2\",\"MAST1\",\"ABCA5\",\"CACNA1B\",\"ANKRD17\",\"ERCC6L2\",\"BRCA2\",\"DSCAML1\",\"ADCY10\",\"CARMIL3\",\"VSIG10L\",\"CTTNBP2\",\"JAK1\",\"CEP192\",\"EHMT1\",\"ARHGAP33\",\"ABCA4\",\"CCDC88A\",\"DNAH2\",\"HSP90AA1\",\"COL14A1\",\"CFAP74\",\"A2M\",\"FBN3\",\"DPP6\",\"COL6A1\",\"FOLH1\",\"HELZ2\",\"ANKRD62\",\"ANKRD36\",\"EPHB6\",\"GGNBP2\",\"DDX24\",\"VARS\",\"CABIN1\",\"CEP250\",\"ALOX5\",\"KIAA0586\",\"ARHGAP23\",\"TUBGCP2\",\"KIR2DL4\",\"CUX2\",\"ANK2\",\"KDM6B\",\"CACNA1C\",\"LOC102724428\",\"CACNA1A\",\"LAMB1\",\"CACNA1G\",\"ANKRD20A3\",\"GALNS\",\"KDM7A\",\"ANKRD11\",\"BOD1L1\",\"DSCAM\",\"XRN1\",\"LAMB4\",\"CUBN\",\"ANKRD36B\",\"DYNC2H1\",\"ABCB11\",\"KDM2B\",\"BLM\",\"KIF7\",\"IDUA\",\"IGF1R\",\"LRRK2\",\"ATP7B\",\"CRYBG3\",\"FAM21A\",\"CACNA1H\",\"CSPG4\",\"ADAMTSL1\",\"ANKRD20A1\",\"KIF20B\",\"BRWD1\",\"CNTNAP3B\",\"KIF5C\",\"C2\",\"DPCR1\",\"ZNF311\",\"BFAR\",\"FLNC\",\"BPTF\",\"ATP2B3\",\"CHD6\",\"CDK5RAP2\",\"HSPG2\",\"ITGB4\",\"BAZ2B\",\"ZFYVE26\",\"FRMPD4\",\"ADAM18\",\"DISP1\",\"EFCAB6\",\"DMXL1\",\"LYST\",\"TCAF2\",\"FBN2\",\"APC\",\"KALRN\",\"CENPF\",\"CFAP46\",\"DNAH12\",\"GLTSCR1\",\"THEMIS\",\"DDB1\",\"WHSC1\",\"COL7A1\",\"URB1\",\"ARID1B\",\"BIRC6\",\"KIF26B\",\"ADGRG4\",\"COL11A2\",\"CAMSAP2\",\"ECE2\",\"ALMS1\",\"USH2A\",\"COL6A3\",\"AGRN\",\"ARHGEF10\",\"MICAL3\",\"CELSR2\",\"CDH23\",\"DOCK2\",\"DOCK1\",\"COL5A3\",\"FCGBP\",\"ZNF717\",\"TUBB\",\"BCORL1\",\"CREBBP\",\"LMTK3\",\"INPPL1\",\"TCP11X2\",\"CATSPERB\",\"DNAH6\",\"VARS2\",\"KMT2A\",\"CYFIP1\",\"UNC80\",\"KIAA1109\",\"INO80\",\"ANK1\",\"DIDO1\",\"ACIN1\",\"CEP164\",\"XDH\",\"EXD3\",\"FREM1\",\"GAK\",\"KIAA2012\",\"ZZEF1\",\"ANAPC1\",\"TTC3\",\"ANKRD20A2\",\"DCHS2\",\"AHNAK2\",\"AKAP13\",\"HEATR1\",\"ZBED9\",\"CFB\",\"CIC\",\"MEGF8\",\"MED12\",\"CENPE\",\"TLN2\",\"STARD9\",\"ABCA12\",\"LTN1\",\"TRIO\",\"ITSN1\",\"ZAN\",\"WNK1\",\"DNAH11\",\"LRRC37A2\",\"USP9Y\",\"FLNA\",\"CFAP47\",\"TRRAP\",\"EP400\",\"APOB\",\"BSN\",\"HTT\",\"CCHCR1\",\"HERC1\",\"FAT3\",\"AKAP9\",\"KIF26A\",\"HLA-DRB5\",\"FMN1\",\"IGFN1\",\"CFAP54\",\"MAGED4B\",\"SYNGAP1\",\"C5orf42\",\"FAM21C\",\"ARMCX4\",\"VPS13B\",\"DMD\",\"IGF2R\",\"DNAH14\",\"WDR81\",\"FAT4\",\"DNAH17\",\"MDN1\",\"COL18A1\",\"DOPEY2\",\"DNAH8\",\"HCFC1\",\"CELSR3\",\"SYNRG\",\"HUWE1\",\"ANKRD36C\",\"MDC1\",\"TCF20\",\"LRRC37A\",\"GOLGA8J\",\"HIVEP1\",\"TACC2\",\"ITPR3\",\"LAMA5\",\"VWF\",\"DNAH1\",\"XIRP2\",\"CTAGE15\",\"COL5A1\",\"DLG5\",\"AHNAK\",\"ARHGAP11A\",\"FRAS1\",\"ABCC6\",\"MACF1\",\"ABCC1\",\"HMCN1\",\"ZFHX3\",\"CYP2D6\",\"TNRC18\",\"KIAA0430\",\"FAN1\",\"TRPM1\",\"KMT2C\",\"UNC79\",\"CMYA5\",\"HMCN2\",\"DNAH3\",\"DST\",\"CEP170\",\"FSIP2\",\"PWP2\",\"LRP1\",\"ABCA13\",\"DNAH5\",\"TJP1\",\"KMT2D\",\"UBR4\",\"ADGRV1\",\"DSEL\",\"SYNE1\",\"ZNF469\",\"ACACA\",\"HYDIN\",\"MGAM2\",\"GPR179\",\"SYNE2\",\"TNXB\",\"DNAH10\",\"BDP1\",\"HERC2\",\"TTN\"],\"index\":[0,1,2,3,4,5,6,7,8,9,10,11,12,13,14,15,16,17,18,19,20,21,22,23,24,25,26,27,28,29,30,31,32,33,34,35,36,37,38,39,40,41,42,43,44,45,46,47,48,49,50,51,52,53,54,55,56,57,58,59,60,61,62,63,64,65,66,67,68,69,70,71,72,73,74,75,76,77,78,79,80,81,82,83,84,85,86,87,88,89,90,91,92,93,94,95,96,97,98,99,100,101,102,103,104,105,106,107,108,109,110,111,112,113,114,115,116,117,118,119,120,121,122,123,124,125,126,127,128,129,130,131,132,133,134,135,136,137,138,139,140,141,142,143,144,145,146,147,148,149,150,151,152,153,154,155,156,157,158,159,160,161,162,163,164,165,166,167,168,169,170,171,172,173,174,175,176,177,178,179,180,181,182,183,184,185,186,187,188,189,190,191,192,193,194,195,196,197,198,199,200,201,202,203,204,205,206,207,208,209,210,211,212,213,214,215,216,217,218,219,220,221,222,223,224,225,226,227,228,229,230,231,232,233,234,235,236,237,238,239,240,241,242,243,244,245,246,247,248,249,250,251,252,253,254,255,256,257,258,259,260,261,262,263,264,265,266,267,268,269,270,271,272,273,274,275,276,277,278,279,280,281,282,283,284,285,286,287,288,289,290,291,292,293,294,295,296,297,298,299,300,301,302,303,304,305,306,307,308,309,310,311,312,313,314,315,316,317,318,319,320,321,322,323,324,325,326,327,328,329,330,331,332,333,334,335,336,337,338,339,340,341,342,343,344,345,346,347,348,349,350,351,352,353,354,355,356,357,358,359,360,361,362,363,364,365,366,367,368,369,370,371,372,373,374,375,376,377,378,379,380,381,382,383,384,385,386,387,388,389,390,391,392,393,394,395,396,397,398,399,400,401,402,403,404,405,406,407,408,409,410,411,412,413,414,415,416,417,418,419,420,421,422,423,424,425,426,427,428,429,430,431,432,433,434,435,436,437,438,439,440,441,442,443,444,445,446,447,448,449,450,451,452,453,454,455,456,457,458,459,460,461,462,463,464,465,466,467,468,469,470,471,472,473,474,475,476,477,478,479,480,481,482,483,484,485,486,487,488,489,490,491,492,493,494,495,496,497,498,499,500,501,502,503,504,505,506,507,508,509,510,511,512,513,514,515,516,517,518,519,520,521,522,523,524,525,526,527,528,529,530,531,532,533,534,535,536,537,538,539,540,541,542,543,544,545,546,547,548,549,550,551,552,553,554,555,556,557,558,559,560,561,562,563,564,565,566,567,568,569,570,571,572,573,574,575,576,577,578,579,580,581,582,583,584,585,586,587,588,589,590,591,592,593,594,595,596,597,598,599,600,601,602,603,604,605,606,607,608,609,610,611,612,613,614,615,616,617,618,619,620,621,622,623,624,625,626,627,628,629,630,631,632,633,634,635,636,637,638,639,640,641,642,643,644,645,646,647,648,649,650,651,652,653,654,655,656,657,658,659,660,661,662,663,664,665,666,667,668,669,670,671,672,673,674,675,676,677,678,679,680,681,682,683,684,685,686,687,688,689,690,691,692,693,694,695,696,697,698,699,700,701,702,703,704,705,706,707,708,709,710,711,712,713,714,715,716,717,718,719,720,721,722,723,724,725,726,727,728,729,730,731,732,733,734,735,736,737,738,739,740,741,742,743,744,745,746,747,748,749,750,751,752,753,754,755,756,757,758,759,760,761,762,763,764,765,766,767,768,769,770,771,772,773,774,775,776,777,778,779,780,781,782,783,784,785,786,787,788,789,790,791,792,793,794,795,796,797,798,799,800,801,802,803,804,805,806,807,808,809,810,811,812,813,814,815,816,817,818,819,820,821,822,823,824,825,826,827,828,829,830,831,832,833,834,835,836,837,838,839,840,841,842,843,844,845,846,847,848,849,850,851,852,853,854,855,856,857,858,859,860,861,862,863,864,865,866,867,868,869,870,871,872,873,874,875,876,877,878,879,880,881,882,883,884,885,886,887,888,889,890,891,892,893,894,895,896,897,898,899,900,901,902,903,904,905,906,907,908,909,910,911,912,913,914,915,916,917,918,919,920,921,922,923,924,925,926,927,928,929,930,931,932,933,934,935,936,937,938,939,940,941,942,943,944,945,946,947,948,949,950,951,952,953,954,955,956,957,958,959,960,961,962,963,964,965,966,967,968,969,970,971,972,973,974,975,976,977,978,979,980,981,982,983,984,985,986,987,988,989,990,991,992,993,994,995,996,997,998,999,1000,1001,1002,1003,1004,1005,1006,1007,1008,1009,1010,1011,1012,1013,1014,1015,1016,1017,1018,1019,1020,1021,1022,1023,1024,1025,1026,1027,1028,1029,1030,1031,1032,1033,1034,1035,1036,1037,1038,1039,1040,1041,1042,1043,1044,1045,1046,1047,1048,1049,1050,1051,1052,1053,1054,1055,1056,1057,1058,1059,1060,1061,1062,1063,1064,1065,1066,1067,1068,1069,1070,1071,1072,1073,1074,1075,1076,1077,1078,1079,1080,1081,1082,1083,1084,1085,1086,1087,1088,1089,1090,1091,1092,1093,1094,1095,1096,1097,1098,1099,1100,1101,1102,1103,1104,1105,1106,1107,1108,1109,1110,1111,1112,1113,1114,1115,1116,1117,1118,1119,1120,1121,1122,1123,1124,1125,1126,1127,1128,1129,1130,1131,1132,1133,1134,1135,1136,1137,1138,1139,1140,1141,1142,1143,1144,1145,1146,1147,1148,1149,1150,1151,1152,1153,1154,1155,1156,1157,1158,1159,1160,1161,1162,1163,1164,1165,1166,1167,1168,1169,1170,1171,1172,1173,1174,1175,1176,1177,1178,1179,1180,1181,1182,1183,1184,1185,1186,1187,1188,1189,1190,1191,1192,1193,1194,1195,1196,1197,1198,1199,1200,1201,1202,1203,1204,1205,1206,1207,1208,1209,1210,1211,1212,1213,1214,1215,1216,1217,1218,1219,1220,1221,1222,1223,1224,1225,1226,1227,1228,1229,1230,1231,1232,1233,1234,1235,1236,1237,1238,1239,1240,1241,1242,1243,1244,1245,1246,1247,1248,1249,1250,1251,1252,1253,1254,1255,1256,1257,1258,1259,1260,1261,1262,1263,1264,1265,1266,1267,1268,1269,1270,1271,1272,1273,1274,1275,1276,1277,1278,1279,1280,1281,1282,1283,1284,1285,1286,1287,1288,1289,1290,1291,1292,1293,1294,1295,1296,1297,1298,1299,1300,1301,1302,1303,1304,1305,1306,1307,1308,1309,1310,1311,1312,1313,1314,1315,1316,1317,1318,1319,1320,1321,1322,1323,1324,1325,1326,1327,1328,1329,1330,1331,1332,1333,1334,1335,1336,1337,1338,1339,1340,1341,1342,1343,1344,1345,1346,1347,1348,1349,1350,1351,1352,1353,1354,1355,1356,1357,1358,1359,1360,1361,1362,1363,1364,1365,1366,1367,1368,1369,1370,1371,1372,1373,1374,1375,1376,1377,1378,1379,1380,1381,1382,1383,1384,1385,1386,1387,1388,1389,1390,1391,1392,1393,1394,1395,1396,1397,1398,1399,1400,1401,1402,1403,1404,1405,1406,1407,1408,1409,1410,1411,1412,1413,1414,1415,1416,1417,1418,1419,1420,1421,1422,1423,1424,1425,1426,1427,1428,1429,1430,1431,1432,1433,1434,1435,1436,1437,1438,1439,1440,1441,1442,1443,1444,1445,1446,1447,1448,1449,1450,1451,1452,1453,1454,1455,1456,1457,1458,1459,1460,1461,1462,1463,1464,1465,1466,1467,1468,1469,1470,1471,1472,1473,1474,1475,1476,1477,1478,1479,1480,1481,1482,1483,1484,1485,1486,1487,1488,1489,1490,1491,1492,1493,1494,1495,1496,1497,1498,1499,1500,1501,1502,1503,1504,1505,1506,1507,1508,1509,1510,1511,1512,1513,1514,1515,1516,1517,1518,1519,1520,1521,1522,1523,1524,1525,1526,1527,1528,1529,1530,1531,1532,1533,1534,1535,1536,1537,1538,1539,1540,1541,1542,1543,1544,1545,1546,1547,1548,1549,1550,1551,1552,1553,1554,1555,1556,1557,1558,1559,1560,1561,1562,1563,1564,1565,1566,1567,1568,1569,1570,1571,1572,1573,1574,1575,1576,1577,1578,1579,1580,1581,1582,1583,1584,1585,1586,1587,1588,1589,1590,1591,1592,1593,1594,1595,1596,1597,1598,1599,1600,1601,1602,1603,1604,1605,1606,1607,1608,1609,1610,1611,1612,1613,1614,1615,1616,1617,1618,1619,1620,1621,1622,1623,1624,1625,1626,1627,1628,1629,1630,1631,1632,1633,1634,1635,1636,1637,1638,1639,1640,1641,1642,1643,1644,1645,1646,1647,1648,1649,1650,1651,1652,1653,1654,1655,1656,1657,1658,1659,1660,1661,1662,1663,1664],\"x\":{\"__ndarray__\":\"AAAAAAAAAAAAAAAAAAAAAAAAAAAAAAAAAAAAAAAAAAAAAAAAAAAAAAAAAAAAAAAAAAAAAAAAAAAAAAAAAAAAAAAAAAAAAAAAAAAAAAAAAAAAAAAAAAAAAAAAAAAAAAAAAAAAAAAAAAAAAAAAAAAAAAAAAAAAAAAAAAAAAAAAAAAAAAAAAAAAAAAAAAAAAAAAAAAAAAAAAAAAAAAAAAAAAAAAAAAAAAAAAAAAAAAAAAAAAAAAAAAAAAAAAAAAAAAAAAAAAAAAAAAAAAAAAAAAAAAAAAAAAAAAAAAAAAAAAAAAAAAAAAAAAAAAAAAAAAAAAAAAAAAAAAAAAAAAAAAAAAAAAAAAAAAAAAAAAAAAAAAAAAAAAAAAAAAAAAAAAAAAAAAAAAAAAAAAAAAAAAAAAAAAAAAAAAAAAAAAAAAAAAAAAAAAAAAAAAAAAAAAAAAAAAAAAAAAAAAAAAAAAAAAAAAAAAAAAAAAAAAAAAAAAAAAAAAAAAAAAAAAAAAAAAAAAAAAAAAAAAAAAAAAAAAAAAAAAAAAAAAAAAAAAAAAAAAAAAAAAAAAAAAAAAAAAAAAAAAAAAAAAAAAAAAAAAAAAAAAAAAAAAAAAAAAAAAAAAAAAAAAAAAAAAAAAAAAAAAAAAAAAAAAAAAAAAAAAAAAAAAAAAAAAAAAAAAAAAAAAAAAAAAAAAAAAAAAAAAAAAAAAAAAAAAAAAAAAAAAAAAAAAAAAAAAAAAAAAAAAAAAAAAAAAAAAAAAAAAAAAAAAAAAAAAAAAAAAAAAAAAAAAAAAAAAAAAAAAAAAAAAAAAAAAAAAAAAAAAAAAAAAAAAAAAAAAAAAAAAAAAAAAAAAAAAAAAAAAAAAAAAAAAAAAAAAAAAAAAAAAAAAAAAAAAAAAAAAAAAAAAAAAAAAAAAAAAAAAAAAAAAAAAAAAAAAAAAAAAAAAAAAAAAAAAAAAAAAAAAAAAAAAAAAAAAAAAAAAAAAAAAAAAAAAAAAAAAAAAAAAAAAAAAAAAAAAAAAAAAAAAAAAAAAAAAAAAAAAAAAAAAAAAAAAAAAAAAAAAAAAAAAAAAAAAAAAAAAAAAAAAAAAAAAAAAAAAAAAAAAAAAAAAAAAAAAAAAAAAAAAAAAAAAAAAAAAAAAAAAAAAAAAAAAAAAAAAAAAAAAAAAAAAAAAAAAAAAAAAAAAAAAAAAAAAAAAAAAAAAAAAAAAAAAAAAAAAAAAAAAAAAAAAAAAAAAAAAAAAAAAAAAAAAAAAAAAAAAAAAAAAAAAAAAAAAAAAAAAAAAAAAAAAAAAAAAAAAAAAAAAAAAAAAAAAAAAAAAAAAAAAAAAAAAAAAAAAAAAAAAAAAAAAAAAAAAAAAAAAAAAAAAAAAAAAAAAAAAAAAAAAAAAAAAAAAAAAAAAAAAAAAAAAAAAAAAAAAAAAAAAAAAAAAAAAAAAAAAAAAAAAAAAAAAAAAAAAAAAAAAAAAAAAAAAAAAAAAAAAAAAAAAAAAAAAAAAAAAAAAAAAAAAAAAAAAAAAAAAAAAAAAAAAAAAAAAAAAAAAAAAAAAAAAAAAAAAAAAAAAAAAAAAAAAAAAAAAAAAAAAAAAAAAAAAAAAAAAAAAAAAAAAAAAAAAAAAAAAAAAAAAAAAAAAAAAAAAAAAAAAAAAAAAAAAAAAAAAAAAAAAAAAAAAAAAAAAAAAAAAAAAAAAAAAAAAAAAAAAAAAAAAAAAAAAAAAAAAAAAAAAAAAAAAAAAAAAAAAAAAAAAAAAAAAAAAAAAAAAAAAAAAAAAAAAAAAAAAAAAAAAAAAAAAAAAAAAAAAAAAAAAAAAAAAAAAAAAAAAAAAAAAAAAAAAAAAAAAAAAAAAAAAAAAAAAAAAAAAAAAAAAAAAAAAAAAAAAAAAAAAAAAAAAAAAAAAAAAAAAAAAAAAAAAAAAAAAAAAAAAAAAAAAAAAAAAAAAAAAAAAAAAAAAAAAAAAAAAAAAAAAAAAAAAAAAAAAAAAAAAAAAAAAAAAAAAAAAAAAAAAAAAAAAAAAAAAAAAAAAAAAAAAAAAAAAAAAAAAAAAAAAAAAAAAAAAAAAAAAAAAAAAAAAAAAAAAAAAAAAAAAAAAAAAAAAAAAAAAAAAAAAAAAAAAAAAAAAAAAAAAAAAAAAAAAAAAAAAAAAAAAAAAAAAAAAAAAAAAAAAAAAAAAAAAAAAAAAAAAAAAAAAAAAAAAAAAAAAAAAAAAAAAAAAAAAAAAAAAAAAAAAAAAAAAAAAAAAAAAAAAAAAAAAAAAAAAAAAAAAAAAAAAAAAAAAAAAAAAAAAAAAAAAAAAAAAAAAAAAAAAAAAAAAAAAAAAAAAAAAAAAAAAAAAAAAAAAAAAAAAAAAAAAAAAAAAAAAAAAAAAAAAAAAAAAAAAAAAAAAAAAAAAAAAAAAAAAAAAAAAAAAAAAAAAAAAAAAAAAAAAAAAAAAAAAAAAAAAAAAAAAAAAAAAAAAAAAAAAAAAAAAAAAAAAAAAAAAAAAAAAAAAAAAAAAAAAAAAAAAAAAAAAAAAAAAAAAAAAAAAAAAAAAAAAAAAAAAAAAAAAAAAAAAAAAAAAAAAAAAAAAAAAAAAAAAAAAAAAAAAAAAAAAAAAAAAAAAAAAAAAAAAAAAAAAAAAAAAAAAAAAAAAAAAAAAAAAAAAAAAAAAAAAAAAAAAAAAAAAAAAAAAAAAAAAAAAAAAAAAAAAAAAAAAAAAAAAAAAAAAAAAAAAAAAAAAAAAAAAAAAAAAAAAAAAAAAAAAAAAAAAAAAAAAAAAAAAAAAAAAAAAAAAAAAAAAAAAAAAAAAPA/AAAAAAAA8D8AAAAAAADwPwAAAAAAAPA/AAAAAAAA8D8AAAAAAADwPwAAAAAAAPA/AAAAAAAA8D8AAAAAAADwPwAAAAAAAPA/AAAAAAAA8D8AAAAAAADwPwAAAAAAAPA/AAAAAAAA8D8AAAAAAADwPwAAAAAAAPA/AAAAAAAA8D8AAAAAAADwPwAAAAAAAPA/AAAAAAAA8D8AAAAAAADwPwAAAAAAAPA/AAAAAAAA8D8AAAAAAADwPwAAAAAAAPA/AAAAAAAA8D8AAAAAAADwPwAAAAAAAPA/AAAAAAAA8D8AAAAAAADwPwAAAAAAAPA/AAAAAAAA8D8AAAAAAADwPwAAAAAAAPA/AAAAAAAA8D8AAAAAAADwPwAAAAAAAPA/AAAAAAAA8D8AAAAAAADwPwAAAAAAAPA/AAAAAAAA8D8AAAAAAADwPwAAAAAAAPA/AAAAAAAA8D8AAAAAAADwPwAAAAAAAPA/AAAAAAAA8D8AAAAAAADwPwAAAAAAAPA/AAAAAAAA8D8AAAAAAADwPwAAAAAAAPA/AAAAAAAA8D8AAAAAAADwPwAAAAAAAPA/AAAAAAAA8D8AAAAAAADwPwAAAAAAAPA/AAAAAAAA8D8AAAAAAADwPwAAAAAAAPA/AAAAAAAA8D8AAAAAAADwPwAAAAAAAPA/AAAAAAAA8D8AAAAAAADwPwAAAAAAAPA/AAAAAAAA8D8AAAAAAADwPwAAAAAAAPA/AAAAAAAA8D8AAAAAAADwPwAAAAAAAPA/AAAAAAAA8D8AAAAAAADwPwAAAAAAAPA/AAAAAAAA8D8AAAAAAADwPwAAAAAAAPA/AAAAAAAA8D8AAAAAAADwPwAAAAAAAPA/AAAAAAAA8D8AAAAAAADwPwAAAAAAAPA/AAAAAAAA8D8AAAAAAADwPwAAAAAAAPA/AAAAAAAA8D8AAAAAAADwPwAAAAAAAPA/AAAAAAAA8D8AAAAAAADwPwAAAAAAAPA/AAAAAAAA8D8AAAAAAADwPwAAAAAAAPA/AAAAAAAA8D8AAAAAAADwPwAAAAAAAPA/AAAAAAAA8D8AAAAAAADwPwAAAAAAAPA/AAAAAAAA8D8AAAAAAADwPwAAAAAAAPA/AAAAAAAA8D8AAAAAAADwPwAAAAAAAPA/AAAAAAAA8D8AAAAAAADwPwAAAAAAAPA/AAAAAAAA8D8AAAAAAADwPwAAAAAAAPA/AAAAAAAA8D8AAAAAAADwPwAAAAAAAPA/AAAAAAAA8D8AAAAAAADwPwAAAAAAAPA/AAAAAAAA8D8AAAAAAADwPwAAAAAAAPA/AAAAAAAA8D8AAAAAAADwPwAAAAAAAPA/AAAAAAAA8D8AAAAAAADwPwAAAAAAAPA/AAAAAAAA8D8AAAAAAADwPwAAAAAAAPA/AAAAAAAA8D8AAAAAAADwPwAAAAAAAPA/AAAAAAAA8D8AAAAAAADwPwAAAAAAAPA/AAAAAAAA8D8AAAAAAADwPwAAAAAAAPA/AAAAAAAA8D8AAAAAAADwPwAAAAAAAPA/AAAAAAAA8D8AAAAAAADwPwAAAAAAAPA/AAAAAAAA8D8AAAAAAADwPwAAAAAAAPA/AAAAAAAA8D8AAAAAAADwPwAAAAAAAPA/AAAAAAAA8D8AAAAAAADwPwAAAAAAAPA/AAAAAAAA8D8AAAAAAADwPwAAAAAAAPA/AAAAAAAA8D8AAAAAAADwPwAAAAAAAPA/AAAAAAAA8D8AAAAAAADwPwAAAAAAAPA/AAAAAAAA8D8AAAAAAADwPwAAAAAAAPA/AAAAAAAA8D8AAAAAAADwPwAAAAAAAPA/AAAAAAAAAEAAAAAAAAAAQAAAAAAAAABAAAAAAAAAAEAAAAAAAAAAQAAAAAAAAABAAAAAAAAAAEAAAAAAAAAAQAAAAAAAAABAAAAAAAAAAEAAAAAAAAAAQAAAAAAAAABAAAAAAAAAAEAAAAAAAAAAQAAAAAAAAABAAAAAAAAAAEAAAAAAAAAAQAAAAAAAAABAAAAAAAAAAEAAAAAAAAAAQAAAAAAAAABAAAAAAAAAAEAAAAAAAAAAQAAAAAAAAABAAAAAAAAAAEAAAAAAAAAAQAAAAAAAAABAAAAAAAAAAEAAAAAAAAAAQAAAAAAAAABAAAAAAAAAAEAAAAAAAAAAQAAAAAAAAABAAAAAAAAAAEAAAAAAAAAAQAAAAAAAAABAAAAAAAAAAEAAAAAAAAAAQAAAAAAAAABAAAAAAAAAAEAAAAAAAAAAQAAAAAAAAABAAAAAAAAAAEAAAAAAAAAAQAAAAAAAAABAAAAAAAAAAEAAAAAAAAAAQAAAAAAAAABAAAAAAAAAAEAAAAAAAAAAQAAAAAAAAABAAAAAAAAAAEAAAAAAAAAAQAAAAAAAAABAAAAAAAAAAEAAAAAAAAAAQAAAAAAAAABAAAAAAAAAAEAAAAAAAAAAQAAAAAAAAABAAAAAAAAAAEAAAAAAAAAAQAAAAAAAAABAAAAAAAAAAEAAAAAAAAAAQAAAAAAAAABAAAAAAAAAAEAAAAAAAAAAQAAAAAAAAABAAAAAAAAAAEAAAAAAAAAAQAAAAAAAAABAAAAAAAAAAEAAAAAAAAAAQAAAAAAAAABAAAAAAAAAAEAAAAAAAAAAQAAAAAAAAABAAAAAAAAAAEAAAAAAAAAAQAAAAAAAAABAAAAAAAAAAEAAAAAAAAAAQAAAAAAAAABAAAAAAAAAAEAAAAAAAAAAQAAAAAAAAABAAAAAAAAAAEAAAAAAAAAAQAAAAAAAAABAAAAAAAAAAEAAAAAAAAAAQAAAAAAAAABAAAAAAAAAAEAAAAAAAAAAQAAAAAAAAABAAAAAAAAAAEAAAAAAAAAAQAAAAAAAAABAAAAAAAAAAEAAAAAAAAAAQAAAAAAAAABAAAAAAAAAAEAAAAAAAAAAQAAAAAAAAABAAAAAAAAAAEAAAAAAAAAAQAAAAAAAAABAAAAAAAAAAEAAAAAAAAAAQAAAAAAAAABAAAAAAAAAAEAAAAAAAAAAQAAAAAAAAABAAAAAAAAAAEAAAAAAAAAAQAAAAAAAAABAAAAAAAAAAEAAAAAAAAAAQAAAAAAAAABAAAAAAAAAAEAAAAAAAAAAQAAAAAAAAABAAAAAAAAAAEAAAAAAAAAAQAAAAAAAAABAAAAAAAAAAEAAAAAAAAAAQAAAAAAAAABAAAAAAAAAAEAAAAAAAAAAQAAAAAAAAABAAAAAAAAAAEAAAAAAAAAAQAAAAAAAAABAAAAAAAAAAEAAAAAAAAAAQAAAAAAAAABAAAAAAAAAAEAAAAAAAAAAQAAAAAAAAABAAAAAAAAAAEAAAAAAAAAAQAAAAAAAAABAAAAAAAAAAEAAAAAAAAAAQAAAAAAAAABAAAAAAAAACEAAAAAAAAAIQAAAAAAAAAhAAAAAAAAACEAAAAAAAAAIQAAAAAAAAAhAAAAAAAAACEAAAAAAAAAIQAAAAAAAAAhAAAAAAAAACEAAAAAAAAAIQAAAAAAAAAhAAAAAAAAACEAAAAAAAAAIQAAAAAAAAAhAAAAAAAAACEAAAAAAAAAIQAAAAAAAAAhAAAAAAAAACEAAAAAAAAAIQAAAAAAAAAhAAAAAAAAACEAAAAAAAAAIQAAAAAAAAAhAAAAAAAAACEAAAAAAAAAIQAAAAAAAAAhAAAAAAAAACEAAAAAAAAAIQAAAAAAAAAhAAAAAAAAACEAAAAAAAAAIQAAAAAAAAAhAAAAAAAAACEAAAAAAAAAIQAAAAAAAAAhAAAAAAAAACEAAAAAAAAAIQAAAAAAAAAhAAAAAAAAACEAAAAAAAAAIQAAAAAAAAAhAAAAAAAAACEAAAAAAAAAIQAAAAAAAAAhAAAAAAAAACEAAAAAAAAAIQAAAAAAAAAhAAAAAAAAACEAAAAAAAAAIQAAAAAAAAAhAAAAAAAAACEAAAAAAAAAIQAAAAAAAAAhAAAAAAAAACEAAAAAAAAAIQAAAAAAAAAhAAAAAAAAACEAAAAAAAAAIQAAAAAAAAAhAAAAAAAAACEAAAAAAAAAIQAAAAAAAAAhAAAAAAAAACEAAAAAAAAAIQAAAAAAAAAhAAAAAAAAACEAAAAAAAAAIQAAAAAAAAAhAAAAAAAAACEAAAAAAAAAIQAAAAAAAAAhAAAAAAAAACEAAAAAAAAAIQAAAAAAAAAhAAAAAAAAACEAAAAAAAAAIQAAAAAAAAAhAAAAAAAAACEAAAAAAAAAIQAAAAAAAAAhAAAAAAAAACEAAAAAAAAAIQAAAAAAAAAhAAAAAAAAACEAAAAAAAAAIQAAAAAAAAAhAAAAAAAAACEAAAAAAAAAIQAAAAAAAAAhAAAAAAAAACEAAAAAAAAAIQAAAAAAAAAhAAAAAAAAACEAAAAAAAAAIQAAAAAAAAAhAAAAAAAAACEAAAAAAAAAIQAAAAAAAAAhAAAAAAAAACEAAAAAAAAAIQAAAAAAAAAhAAAAAAAAACEAAAAAAAAAIQAAAAAAAAAhAAAAAAAAACEAAAAAAAAAIQAAAAAAAAAhAAAAAAAAACEAAAAAAAAAIQAAAAAAAAAhAAAAAAAAACEAAAAAAAAAIQAAAAAAAAAhAAAAAAAAACEAAAAAAAAAIQAAAAAAAAAhAAAAAAAAACEAAAAAAAAAIQAAAAAAAAAhAAAAAAAAACEAAAAAAAAAIQAAAAAAAAAhAAAAAAAAACEAAAAAAAAAIQAAAAAAAAAhAAAAAAAAACEAAAAAAAAAIQAAAAAAAAAhAAAAAAAAACEAAAAAAAAAIQAAAAAAAABBAAAAAAAAAEEAAAAAAAAAQQAAAAAAAABBAAAAAAAAAEEAAAAAAAAAQQAAAAAAAABBAAAAAAAAAEEAAAAAAAAAQQAAAAAAAABBAAAAAAAAAEEAAAAAAAAAQQAAAAAAAABBAAAAAAAAAEEAAAAAAAAAQQAAAAAAAABBAAAAAAAAAEEAAAAAAAAAQQAAAAAAAABBAAAAAAAAAEEAAAAAAAAAQQAAAAAAAABBAAAAAAAAAEEAAAAAAAAAQQAAAAAAAABBAAAAAAAAAEEAAAAAAAAAQQAAAAAAAABBAAAAAAAAAEEAAAAAAAAAQQAAAAAAAABBAAAAAAAAAEEAAAAAAAAAQQAAAAAAAABBAAAAAAAAAEEAAAAAAAAAQQAAAAAAAABBAAAAAAAAAEEAAAAAAAAAQQAAAAAAAABBAAAAAAAAAEEAAAAAAAAAQQAAAAAAAABBAAAAAAAAAEEAAAAAAAAAQQAAAAAAAABBAAAAAAAAAEEAAAAAAAAAQQAAAAAAAABBAAAAAAAAAEEAAAAAAAAAQQAAAAAAAABBAAAAAAAAAEEAAAAAAAAAQQAAAAAAAABBAAAAAAAAAEEAAAAAAAAAQQAAAAAAAABBAAAAAAAAAEEAAAAAAAAAQQAAAAAAAABBAAAAAAAAAEEAAAAAAAAAQQAAAAAAAABBAAAAAAAAAEEAAAAAAAAAQQAAAAAAAABBAAAAAAAAAEEAAAAAAAAAQQAAAAAAAABBAAAAAAAAAEEAAAAAAAAAQQAAAAAAAABBAAAAAAAAAEEAAAAAAAAAQQAAAAAAAABBAAAAAAAAAEEAAAAAAAAAQQAAAAAAAABBAAAAAAAAAEEAAAAAAAAAQQAAAAAAAABBAAAAAAAAAEEAAAAAAAAAQQAAAAAAAABBAAAAAAAAAEEAAAAAAAAAQQAAAAAAAABBAAAAAAAAAEEAAAAAAAAAQQAAAAAAAABBAAAAAAAAAEEAAAAAAAAAQQAAAAAAAABBAAAAAAAAAEEAAAAAAAAAQQAAAAAAAABBAAAAAAAAAEEAAAAAAAAAQQAAAAAAAABBAAAAAAAAAEEAAAAAAAAAQQAAAAAAAABBAAAAAAAAAEEAAAAAAAAAQQAAAAAAAABBAAAAAAAAAEEAAAAAAAAAQQAAAAAAAABBAAAAAAAAAEEAAAAAAAAAQQAAAAAAAABBAAAAAAAAAEEAAAAAAAAAQQAAAAAAAABBAAAAAAAAAFEAAAAAAAAAUQAAAAAAAABRAAAAAAAAAFEAAAAAAAAAUQAAAAAAAABRAAAAAAAAAFEAAAAAAAAAUQAAAAAAAABRAAAAAAAAAFEAAAAAAAAAUQAAAAAAAABRAAAAAAAAAFEAAAAAAAAAUQAAAAAAAABRAAAAAAAAAFEAAAAAAAAAUQAAAAAAAABRAAAAAAAAAFEAAAAAAAAAUQAAAAAAAABRAAAAAAAAAFEAAAAAAAAAUQAAAAAAAABRAAAAAAAAAFEAAAAAAAAAUQAAAAAAAABRAAAAAAAAAFEAAAAAAAAAUQAAAAAAAABRAAAAAAAAAFEAAAAAAAAAUQAAAAAAAABRAAAAAAAAAFEAAAAAAAAAUQAAAAAAAABRAAAAAAAAAFEAAAAAAAAAUQAAAAAAAABRAAAAAAAAAFEAAAAAAAAAUQAAAAAAAABRAAAAAAAAAFEAAAAAAAAAUQAAAAAAAABRAAAAAAAAAFEAAAAAAAAAUQAAAAAAAABRAAAAAAAAAFEAAAAAAAAAUQAAAAAAAABRAAAAAAAAAFEAAAAAAAAAUQAAAAAAAABRAAAAAAAAAFEAAAAAAAAAUQAAAAAAAABRAAAAAAAAAFEAAAAAAAAAUQAAAAAAAABRAAAAAAAAAFEAAAAAAAAAUQAAAAAAAABRAAAAAAAAAFEAAAAAAAAAUQAAAAAAAABRAAAAAAAAAFEAAAAAAAAAUQAAAAAAAABRAAAAAAAAAFEAAAAAAAAAUQAAAAAAAABRAAAAAAAAAFEAAAAAAAAAUQAAAAAAAABRAAAAAAAAAFEAAAAAAAAAUQAAAAAAAABRAAAAAAAAAFEAAAAAAAAAUQAAAAAAAABRAAAAAAAAAFEAAAAAAAAAUQAAAAAAAABRAAAAAAAAAFEAAAAAAAAAUQAAAAAAAABRAAAAAAAAAFEAAAAAAAAAUQAAAAAAAABRAAAAAAAAAFEAAAAAAAAAUQAAAAAAAABRAAAAAAAAAFEAAAAAAAAAUQAAAAAAAABRAAAAAAAAAFEAAAAAAAAAUQAAAAAAAABRAAAAAAAAAFEAAAAAAAAAUQAAAAAAAABRAAAAAAAAAFEAAAAAAAAAUQAAAAAAAABRAAAAAAAAAFEAAAAAAAAAUQAAAAAAAABRAAAAAAAAAGEAAAAAAAAAYQAAAAAAAABhAAAAAAAAAGEAAAAAAAAAYQAAAAAAAABhAAAAAAAAAGEAAAAAAAAAYQAAAAAAAABhAAAAAAAAAGEAAAAAAAAAYQAAAAAAAABhAAAAAAAAAGEAAAAAAAAAYQAAAAAAAABhAAAAAAAAAGEAAAAAAAAAYQAAAAAAAABhAAAAAAAAAGEAAAAAAAAAYQAAAAAAAABhAAAAAAAAAGEAAAAAAAAAYQAAAAAAAABhAAAAAAAAAGEAAAAAAAAAYQAAAAAAAABhAAAAAAAAAGEAAAAAAAAAYQAAAAAAAABhAAAAAAAAAGEAAAAAAAAAYQAAAAAAAABhAAAAAAAAAGEAAAAAAAAAYQAAAAAAAABhAAAAAAAAAGEAAAAAAAAAYQAAAAAAAABhAAAAAAAAAGEAAAAAAAAAYQAAAAAAAABhAAAAAAAAAGEAAAAAAAAAYQAAAAAAAABhAAAAAAAAAGEAAAAAAAAAYQAAAAAAAABhAAAAAAAAAGEAAAAAAAAAYQAAAAAAAABhAAAAAAAAAGEAAAAAAAAAYQAAAAAAAABhAAAAAAAAAGEAAAAAAAAAYQAAAAAAAABhAAAAAAAAAGEAAAAAAAAAYQAAAAAAAABhAAAAAAAAAGEAAAAAAAAAYQAAAAAAAABhAAAAAAAAAGEAAAAAAAAAYQAAAAAAAABhAAAAAAAAAGEAAAAAAAAAYQAAAAAAAABhAAAAAAAAAGEAAAAAAAAAYQAAAAAAAABhAAAAAAAAAGEAAAAAAAAAYQAAAAAAAABhAAAAAAAAAGEAAAAAAAAAYQAAAAAAAABhAAAAAAAAAGEAAAAAAAAAYQAAAAAAAABhAAAAAAAAAGEAAAAAAAAAYQAAAAAAAABhAAAAAAAAAGEAAAAAAAAAYQAAAAAAAABhAAAAAAAAAGEAAAAAAAAAYQAAAAAAAABhAAAAAAAAAGEAAAAAAAAAYQAAAAAAAABhAAAAAAAAAGEAAAAAAAAAYQAAAAAAAABhAAAAAAAAAGEAAAAAAAAAYQAAAAAAAABhAAAAAAAAAGEAAAAAAAAAcQAAAAAAAABxAAAAAAAAAHEAAAAAAAAAcQAAAAAAAABxAAAAAAAAAHEAAAAAAAAAcQAAAAAAAABxAAAAAAAAAHEAAAAAAAAAcQAAAAAAAABxAAAAAAAAAHEAAAAAAAAAcQAAAAAAAABxAAAAAAAAAHEAAAAAAAAAcQAAAAAAAABxAAAAAAAAAHEAAAAAAAAAcQAAAAAAAABxAAAAAAAAAHEAAAAAAAAAcQAAAAAAAABxAAAAAAAAAHEAAAAAAAAAcQAAAAAAAABxAAAAAAAAAHEAAAAAAAAAcQAAAAAAAABxAAAAAAAAAHEAAAAAAAAAcQAAAAAAAABxAAAAAAAAAHEAAAAAAAAAcQAAAAAAAABxAAAAAAAAAHEAAAAAAAAAcQAAAAAAAABxAAAAAAAAAHEAAAAAAAAAcQAAAAAAAABxAAAAAAAAAHEAAAAAAAAAcQAAAAAAAABxAAAAAAAAAHEAAAAAAAAAcQAAAAAAAABxAAAAAAAAAHEAAAAAAAAAcQAAAAAAAABxAAAAAAAAAHEAAAAAAAAAcQAAAAAAAABxAAAAAAAAAHEAAAAAAAAAcQAAAAAAAABxAAAAAAAAAHEAAAAAAAAAcQAAAAAAAABxAAAAAAAAAHEAAAAAAAAAcQAAAAAAAABxAAAAAAAAAHEAAAAAAAAAcQAAAAAAAABxAAAAAAAAAHEAAAAAAAAAcQAAAAAAAABxAAAAAAAAAHEAAAAAAAAAcQAAAAAAAABxAAAAAAAAAHEAAAAAAAAAcQAAAAAAAABxAAAAAAAAAHEAAAAAAAAAcQAAAAAAAABxAAAAAAAAAHEAAAAAAAAAcQAAAAAAAABxAAAAAAAAAIEAAAAAAAAAgQAAAAAAAACBAAAAAAAAAIEAAAAAAAAAgQAAAAAAAACBAAAAAAAAAIEAAAAAAAAAgQAAAAAAAACBAAAAAAAAAIEAAAAAAAAAgQAAAAAAAACBAAAAAAAAAIEAAAAAAAAAgQAAAAAAAACBAAAAAAAAAIEAAAAAAAAAgQAAAAAAAACBAAAAAAAAAIEAAAAAAAAAgQAAAAAAAACBAAAAAAAAAIEAAAAAAAAAgQAAAAAAAACBAAAAAAAAAIEAAAAAAAAAgQAAAAAAAACBAAAAAAAAAIEAAAAAAAAAgQAAAAAAAACBAAAAAAAAAIEAAAAAAAAAgQAAAAAAAACBAAAAAAAAAIEAAAAAAAAAgQAAAAAAAACBAAAAAAAAAIEAAAAAAAAAgQAAAAAAAACBAAAAAAAAAIEAAAAAAAAAgQAAAAAAAACBAAAAAAAAAIEAAAAAAAAAgQAAAAAAAACBAAAAAAAAAIEAAAAAAAAAgQAAAAAAAACBAAAAAAAAAIEAAAAAAAAAgQAAAAAAAACBAAAAAAAAAIEAAAAAAAAAgQAAAAAAAACBAAAAAAAAAIEAAAAAAAAAgQAAAAAAAACBAAAAAAAAAIEAAAAAAAAAgQAAAAAAAACBAAAAAAAAAIEAAAAAAAAAgQAAAAAAAACBAAAAAAAAAIEAAAAAAAAAgQAAAAAAAACBAAAAAAAAAIEAAAAAAAAAgQAAAAAAAACBAAAAAAAAAIEAAAAAAAAAgQAAAAAAAACBAAAAAAAAAIEAAAAAAAAAgQAAAAAAAACBAAAAAAAAAIEAAAAAAAAAgQAAAAAAAACBAAAAAAAAAIEAAAAAAAAAgQAAAAAAAACBAAAAAAAAAIkAAAAAAAAAiQAAAAAAAACJAAAAAAAAAIkAAAAAAAAAiQAAAAAAAACJAAAAAAAAAIkAAAAAAAAAiQAAAAAAAACJAAAAAAAAAIkAAAAAAAAAiQAAAAAAAACJAAAAAAAAAIkAAAAAAAAAiQAAAAAAAACJAAAAAAAAAIkAAAAAAAAAiQAAAAAAAACJAAAAAAAAAIkAAAAAAAAAiQAAAAAAAACJAAAAAAAAAIkAAAAAAAAAiQAAAAAAAACJAAAAAAAAAIkAAAAAAAAAiQAAAAAAAACJAAAAAAAAAIkAAAAAAAAAiQAAAAAAAACJAAAAAAAAAIkAAAAAAAAAiQAAAAAAAACJAAAAAAAAAIkAAAAAAAAAiQAAAAAAAACJAAAAAAAAAIkAAAAAAAAAiQAAAAAAAACJAAAAAAAAAIkAAAAAAAAAiQAAAAAAAACJAAAAAAAAAIkAAAAAAAAAiQAAAAAAAACJAAAAAAAAAIkAAAAAAAAAiQAAAAAAAACJAAAAAAAAAIkAAAAAAAAAiQAAAAAAAACJAAAAAAAAAIkAAAAAAAAAiQAAAAAAAACJAAAAAAAAAIkAAAAAAAAAiQAAAAAAAACJAAAAAAAAAIkAAAAAAAAAiQAAAAAAAACJAAAAAAAAAIkAAAAAAAAAiQAAAAAAAACJAAAAAAAAAIkAAAAAAAAAiQAAAAAAAACRAAAAAAAAAJEAAAAAAAAAkQAAAAAAAACRAAAAAAAAAJEAAAAAAAAAkQAAAAAAAACRAAAAAAAAAJEAAAAAAAAAkQAAAAAAAACRAAAAAAAAAJEAAAAAAAAAkQAAAAAAAACRAAAAAAAAAJEAAAAAAAAAkQAAAAAAAACRAAAAAAAAAJEAAAAAAAAAkQAAAAAAAACRAAAAAAAAAJEAAAAAAAAAkQAAAAAAAACRAAAAAAAAAJEAAAAAAAAAkQAAAAAAAACRAAAAAAAAAJEAAAAAAAAAkQAAAAAAAACRAAAAAAAAAJEAAAAAAAAAkQAAAAAAAACRAAAAAAAAAJEAAAAAAAAAkQAAAAAAAACRAAAAAAAAAJEAAAAAAAAAkQAAAAAAAACRAAAAAAAAAJEAAAAAAAAAkQAAAAAAAACRAAAAAAAAAJEAAAAAAAAAkQAAAAAAAACRAAAAAAAAAJEAAAAAAAAAkQAAAAAAAACRAAAAAAAAAJEAAAAAAAAAkQAAAAAAAACRAAAAAAAAAJEAAAAAAAAAkQAAAAAAAACRAAAAAAAAAJEAAAAAAAAAkQAAAAAAAACRAAAAAAAAAJEAAAAAAAAAkQAAAAAAAACRAAAAAAAAAJkAAAAAAAAAmQAAAAAAAACZAAAAAAAAAJkAAAAAAAAAmQAAAAAAAACZAAAAAAAAAJkAAAAAAAAAmQAAAAAAAACZAAAAAAAAAJkAAAAAAAAAmQAAAAAAAACZAAAAAAAAAJkAAAAAAAAAmQAAAAAAAACZAAAAAAAAAJkAAAAAAAAAmQAAAAAAAACZAAAAAAAAAJkAAAAAAAAAmQAAAAAAAACZAAAAAAAAAJkAAAAAAAAAmQAAAAAAAACZAAAAAAAAAJkAAAAAAAAAmQAAAAAAAACZAAAAAAAAAJkAAAAAAAAAmQAAAAAAAACZAAAAAAAAAJkAAAAAAAAAmQAAAAAAAACZAAAAAAAAAJkAAAAAAAAAmQAAAAAAAACZAAAAAAAAAJkAAAAAAAAAmQAAAAAAAACZAAAAAAAAAJkAAAAAAAAAmQAAAAAAAACZAAAAAAAAAJkAAAAAAAAAmQAAAAAAAACZAAAAAAAAAJkAAAAAAAAAmQAAAAAAAACZAAAAAAAAAJkAAAAAAAAAmQAAAAAAAACZAAAAAAAAAJkAAAAAAAAAmQAAAAAAAACZAAAAAAAAAJkAAAAAAAAAmQAAAAAAAACZAAAAAAAAAJkAAAAAAAAAmQAAAAAAAAChAAAAAAAAAKEAAAAAAAAAoQAAAAAAAAChAAAAAAAAAKEAAAAAAAAAoQAAAAAAAAChAAAAAAAAAKEAAAAAAAAAoQAAAAAAAAChAAAAAAAAAKEAAAAAAAAAoQAAAAAAAAChAAAAAAAAAKEAAAAAAAAAoQAAAAAAAAChAAAAAAAAAKEAAAAAAAAAoQAAAAAAAAChAAAAAAAAAKEAAAAAAAAAoQAAAAAAAAChAAAAAAAAAKEAAAAAAAAAoQAAAAAAAAChAAAAAAAAAKEAAAAAAAAAoQAAAAAAAAChAAAAAAAAAKEAAAAAAAAAoQAAAAAAAAChAAAAAAAAAKEAAAAAAAAAoQAAAAAAAAChAAAAAAAAAKEAAAAAAAAAoQAAAAAAAAChAAAAAAAAAKEAAAAAAAAAoQAAAAAAAAChAAAAAAAAAKEAAAAAAAAAoQAAAAAAAAChAAAAAAAAAKEAAAAAAAAAoQAAAAAAAAChAAAAAAAAAKEAAAAAAAAAoQAAAAAAAACpAAAAAAAAAKkAAAAAAAAAqQAAAAAAAACpAAAAAAAAAKkAAAAAAAAAqQAAAAAAAACpAAAAAAAAAKkAAAAAAAAAqQAAAAAAAACpAAAAAAAAAKkAAAAAAAAAqQAAAAAAAACpAAAAAAAAAKkAAAAAAAAAqQAAAAAAAACpAAAAAAAAAKkAAAAAAAAAqQAAAAAAAACpAAAAAAAAAKkAAAAAAAAAqQAAAAAAAACpAAAAAAAAAKkAAAAAAAAAqQAAAAAAAACpAAAAAAAAAKkAAAAAAAAAqQAAAAAAAACpAAAAAAAAAKkAAAAAAAAAqQAAAAAAAACpAAAAAAAAAKkAAAAAAAAAqQAAAAAAAACpAAAAAAAAAKkAAAAAAAAAqQAAAAAAAACpAAAAAAAAAKkAAAAAAAAAqQAAAAAAAACpAAAAAAAAAKkAAAAAAAAAqQAAAAAAAACpAAAAAAAAAKkAAAAAAAAAqQAAAAAAAACpAAAAAAAAAKkAAAAAAAAAsQAAAAAAAACxAAAAAAAAALEAAAAAAAAAsQAAAAAAAACxAAAAAAAAALEAAAAAAAAAsQAAAAAAAACxAAAAAAAAALEAAAAAAAAAsQAAAAAAAACxAAAAAAAAALEAAAAAAAAAsQAAAAAAAACxAAAAAAAAALEAAAAAAAAAsQAAAAAAAACxAAAAAAAAALEAAAAAAAAAsQAAAAAAAACxAAAAAAAAALEAAAAAAAAAsQAAAAAAAACxAAAAAAAAALEAAAAAAAAAsQAAAAAAAACxAAAAAAAAALEAAAAAAAAAsQAAAAAAAAC5AAAAAAAAALkAAAAAAAAAuQAAAAAAAAC5AAAAAAAAALkAAAAAAAAAuQAAAAAAAAC5AAAAAAAAALkAAAAAAAAAuQAAAAAAAAC5AAAAAAAAALkAAAAAAAAAuQAAAAAAAAC5AAAAAAAAALkAAAAAAAAAuQAAAAAAAAC5AAAAAAAAALkAAAAAAAAAuQAAAAAAAAC5AAAAAAAAALkAAAAAAAAAuQAAAAAAAAC5AAAAAAAAALkAAAAAAAAAuQAAAAAAAAC5AAAAAAAAAMEAAAAAAAAAwQAAAAAAAADBAAAAAAAAAMEAAAAAAAAAwQAAAAAAAADBAAAAAAAAAMEAAAAAAAAAwQAAAAAAAADBAAAAAAAAAMEAAAAAAAAAwQAAAAAAAADBAAAAAAAAAMEAAAAAAAAAwQAAAAAAAADBAAAAAAAAAMEAAAAAAAAAwQAAAAAAAADBAAAAAAAAAMEAAAAAAAAAwQAAAAAAAADBAAAAAAAAAMEAAAAAAAAAwQAAAAAAAADBAAAAAAAAAMEAAAAAAAAAwQAAAAAAAADBAAAAAAAAAMEAAAAAAAAAwQAAAAAAAADBAAAAAAAAAMEAAAAAAAAAxQAAAAAAAADFAAAAAAAAAMUAAAAAAAAAxQAAAAAAAADFAAAAAAAAAMUAAAAAAAAAxQAAAAAAAADFAAAAAAAAAMUAAAAAAAAAxQAAAAAAAADFAAAAAAAAAMUAAAAAAAAAxQAAAAAAAADFAAAAAAAAAMUAAAAAAAAAyQAAAAAAAADJAAAAAAAAAMkAAAAAAAAAyQAAAAAAAADJAAAAAAAAAMkAAAAAAAAAyQAAAAAAAADJAAAAAAAAAMkAAAAAAAAAyQAAAAAAAADJAAAAAAAAAMkAAAAAAAAAyQAAAAAAAADJAAAAAAAAAMkAAAAAAAAAyQAAAAAAAADJAAAAAAAAAMkAAAAAAAAAzQAAAAAAAADNAAAAAAAAAM0AAAAAAAAAzQAAAAAAAADNAAAAAAAAAM0AAAAAAAAAzQAAAAAAAADNAAAAAAAAAM0AAAAAAAAAzQAAAAAAAADNAAAAAAAAAM0AAAAAAAAAzQAAAAAAAADNAAAAAAAAAM0AAAAAAAAAzQAAAAAAAADRAAAAAAAAANEAAAAAAAAA0QAAAAAAAADRAAAAAAAAANEAAAAAAAAA1QAAAAAAAADVAAAAAAAAANUAAAAAAAAA1QAAAAAAAADVAAAAAAAAANUAAAAAAAAA1QAAAAAAAADVAAAAAAAAANUAAAAAAAAA2QAAAAAAAADZAAAAAAAAANkAAAAAAAAA2QAAAAAAAADdAAAAAAAAAN0AAAAAAAAA3QAAAAAAAADdAAAAAAAAAOEAAAAAAAAA4QAAAAAAAADhAAAAAAAAAOEAAAAAAAAA4QAAAAAAAADhAAAAAAAAAOEAAAAAAAAA5QAAAAAAAADlAAAAAAAAAOUAAAAAAAAA5QAAAAAAAADpAAAAAAAAAOkAAAAAAAAA6QAAAAAAAADpAAAAAAAAAOkAAAAAAAAA7QAAAAAAAADtAAAAAAAAAPEAAAAAAAAA8QAAAAAAAADxAAAAAAAAAPEAAAAAAAAA9QAAAAAAAAD1AAAAAAAAAPkAAAAAAAAA+QAAAAAAAAD9AAAAAAAAAQEAAAAAAAIBAQAAAAAAAgEFAAAAAAACAQkAAAAAAAABDQAAAAAAAgENAAAAAAAAARkAAAAAAAABHQAAAAAAAAEhAAAAAAACASUAAAAAAAABKQAAAAAAAAFdA\",\"dtype\":\"float64\",\"shape\":[1665]},\"y\":{\"__ndarray__\":\"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\",\"dtype\":\"float64\",\"shape\":[1665]}},\"selected\":{\"id\":\"1450\",\"type\":\"Selection\"},\"selection_policy\":{\"id\":\"1449\",\"type\":\"UnionRenderers\"}},\"id\":\"1408\",\"type\":\"ColumnDataSource\"},{\"attributes\":{\"bottom_units\":\"screen\",\"fill_alpha\":{\"value\":0.5},\"fill_color\":{\"value\":\"lightgrey\"},\"left_units\":\"screen\",\"level\":\"overlay\",\"line_alpha\":{\"value\":1.0},\"line_color\":{\"value\":\"black\"},\"line_dash\":[4,4],\"line_width\":{\"value\":2},\"render_mode\":\"css\",\"right_units\":\"screen\",\"top_units\":\"screen\"},\"id\":\"1451\",\"type\":\"BoxAnnotation\"},{\"attributes\":{\"axis_label\":\"# heterozygotes\",\"formatter\":{\"id\":\"1446\",\"type\":\"BasicTickFormatter\"},\"ticker\":{\"id\":\"1389\",\"type\":\"BasicTicker\"}},\"id\":\"1388\",\"type\":\"LinearAxis\"},{\"attributes\":{},\"id\":\"1394\",\"type\":\"WheelZoomTool\"},{\"attributes\":{\"overlay\":{\"id\":\"1451\",\"type\":\"BoxAnnotation\"}},\"id\":\"1395\",\"type\":\"BoxZoomTool\"},{\"attributes\":{},\"id\":\"1450\",\"type\":\"Selection\"},{\"attributes\":{},\"id\":\"1396\",\"type\":\"SaveTool\"},{\"attributes\":{},\"id\":\"1393\",\"type\":\"PanTool\"},{\"attributes\":{},\"id\":\"1397\",\"type\":\"ResetTool\"},{\"attributes\":{},\"id\":\"1448\",\"type\":\"BasicTickFormatter\"},{\"attributes\":{\"axis_label\":\"# high impact variants\",\"formatter\":{\"id\":\"1448\",\"type\":\"BasicTickFormatter\"},\"ticker\":{\"id\":\"1384\",\"type\":\"BasicTicker\"}},\"id\":\"1383\",\"type\":\"LinearAxis\"},{\"attributes\":{},\"id\":\"1398\",\"type\":\"HelpTool\"},{\"attributes\":{},\"id\":\"1384\",\"type\":\"BasicTicker\"},{\"attributes\":{\"active_drag\":\"auto\",\"active_inspect\":\"auto\",\"active_multi\":null,\"active_scroll\":\"auto\",\"active_tap\":\"auto\",\"tools\":[{\"id\":\"1393\",\"type\":\"PanTool\"},{\"id\":\"1394\",\"type\":\"WheelZoomTool\"},{\"id\":\"1395\",\"type\":\"BoxZoomTool\"},{\"id\":\"1396\",\"type\":\"SaveTool\"},{\"id\":\"1397\",\"type\":\"ResetTool\"},{\"id\":\"1398\",\"type\":\"HelpTool\"},{\"id\":\"1407\",\"type\":\"HoverTool\"}]},\"id\":\"1399\",\"type\":\"Toolbar\"},{\"attributes\":{\"fill_color\":{\"value\":\"#1f77b4\"},\"line_color\":{\"value\":\"#1f77b4\"},\"x\":{\"field\":\"x\"},\"y\":{\"field\":\"y\"}},\"id\":\"1410\",\"type\":\"Circle\"},{\"attributes\":{\"fill_alpha\":{\"value\":0.1},\"fill_color\":{\"value\":\"#1f77b4\"},\"line_alpha\":{\"value\":0.1},\"line_color\":{\"value\":\"#1f77b4\"},\"x\":{\"field\":\"x\"},\"y\":{\"field\":\"y\"}},\"id\":\"1411\",\"type\":\"Circle\"},{\"attributes\":{\"callback\":null,\"tooltips\":[[\"x\",\"@x\"],[\"y\",\"@y\"],[\"Gene\",\"@Gene\"]]},\"id\":\"1407\",\"type\":\"HoverTool\"},{\"attributes\":{\"data_source\":{\"id\":\"1408\",\"type\":\"ColumnDataSource\"},\"glyph\":{\"id\":\"1410\",\"type\":\"Circle\"},\"hover_glyph\":null,\"muted_glyph\":null,\"nonselection_glyph\":{\"id\":\"1411\",\"type\":\"Circle\"},\"selection_glyph\":null,\"view\":{\"id\":\"1413\",\"type\":\"CDSView\"}},\"id\":\"1412\",\"type\":\"GlyphRenderer\"},{\"attributes\":{},\"id\":\"1389\",\"type\":\"BasicTicker\"},{\"attributes\":{\"dimension\":1,\"ticker\":{\"id\":\"1389\",\"type\":\"BasicTicker\"}},\"id\":\"1392\",\"type\":\"Grid\"},{\"attributes\":{\"source\":{\"id\":\"1408\",\"type\":\"ColumnDataSource\"}},\"id\":\"1413\",\"type\":\"CDSView\"},{\"attributes\":{\"ticker\":{\"id\":\"1384\",\"type\":\"BasicTicker\"}},\"id\":\"1387\",\"type\":\"Grid\"},{\"attributes\":{},\"id\":\"1446\",\"type\":\"BasicTickFormatter\"},{\"attributes\":{},\"id\":\"1449\",\"type\":\"UnionRenderers\"},{\"attributes\":{},\"id\":\"1414\",\"type\":\"LogScale\"}],\"root_ids\":[\"1373\"]},\"title\":\"Bokeh Application\",\"version\":\"1.2.0\"}};\n",
       "  var render_items = [{\"docid\":\"2d8b3ac6-7db3-4233-bbec-fc9daeb765e6\",\"roots\":{\"1373\":\"6f2f0e44-aaf2-40c8-9018-969211abfa17\"}}];\n",
       "  root.Bokeh.embed.embed_items_notebook(docs_json, render_items);\n",
       "\n",
       "  }\n",
       "  if (root.Bokeh !== undefined) {\n",
       "    embed_document(root);\n",
       "  } else {\n",
       "    var attempts = 0;\n",
       "    var timer = setInterval(function(root) {\n",
       "      if (root.Bokeh !== undefined) {\n",
       "        embed_document(root);\n",
       "        clearInterval(timer);\n",
       "      }\n",
       "      attempts++;\n",
       "      if (attempts > 100) {\n",
       "        console.log(\"Bokeh: ERROR: Unable to run BokehJS code because BokehJS library is missing\");\n",
       "        clearInterval(timer);\n",
       "      }\n",
       "    }, 10, root)\n",
       "  }\n",
       "})(window);"
      ],
      "application/vnd.bokehjs_exec.v0+json": ""
     },
     "metadata": {
      "application/vnd.bokehjs_exec.v0+json": {
       "id": "1373"
      }
     },
     "output_type": "display_data"
    }
   ],
   "source": [
    "p.xaxis.axis_label = '# high impact variants'\n",
    "p.yaxis.axis_label = '# heterozygotes'\n",
    "p.plot_width = 800\n",
    "p.plot_height = 500\n",
    "p.y_scale = LogScale()\n",
    "p.x_scale = LogScale()\n",
    "show(p)"
   ]
  },
  {
   "cell_type": "code",
   "execution_count": null,
   "metadata": {},
   "outputs": [],
   "source": []
  }
 ],
 "metadata": {
  "kernelspec": {
   "display_name": "Python 3",
   "language": "python",
   "name": "python3"
  },
  "language_info": {
   "codemirror_mode": {
    "name": "ipython",
    "version": 3
   },
   "file_extension": ".py",
   "mimetype": "text/x-python",
   "name": "python",
   "nbconvert_exporter": "python",
   "pygments_lexer": "ipython3",
   "version": "3.6.11"
  }
 },
 "nbformat": 4,
 "nbformat_minor": 4
}
