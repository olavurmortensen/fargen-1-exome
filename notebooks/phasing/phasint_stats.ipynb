{
 "cells": [
  {
   "cell_type": "markdown",
   "id": "bce29dd8-ad84-4845-8e68-6cbdf6aec6c3",
   "metadata": {},
   "source": [
    "# Pasing statistics"
   ]
  },
  {
   "cell_type": "code",
   "execution_count": 1,
   "id": "00dbc8bc-6f1c-44fd-ac3e-8e147057e40b",
   "metadata": {},
   "outputs": [
    {
     "name": "stderr",
     "output_type": "stream",
     "text": [
      "Running on Apache Spark version 2.4.1\n",
      "SparkUI available at http://hms-beagle-848846b477-48ks9:4040\n",
      "Welcome to\n",
      "     __  __     <>__\n",
      "    / /_/ /__  __/ /\n",
      "   / __  / _ `/ / /\n",
      "  /_/ /_/\\_,_/_/_/   version 0.2.61-3c86d3ba497a\n",
      "LOGGING: writing to /home/olavur/experiments/2020-11-13_fargen1_exome_analysis/fargen-1-exome/notebooks/qc/hail-20210610-0857-0.2.61-3c86d3ba497a.log\n"
     ]
    }
   ],
   "source": [
    "import hail as hl\n",
    "hl.init(spark_conf={'spark.driver.memory': '10g'}, tmp_dir='/home/olavur/tmp')"
   ]
  },
  {
   "cell_type": "code",
   "execution_count": 2,
   "id": "86940f33-6e72-44f5-a02c-41b739857f59",
   "metadata": {},
   "outputs": [
    {
     "data": {
      "text/html": [
       "\n",
       "    <div class=\"bk-root\">\n",
       "        <a href=\"https://bokeh.pydata.org\" target=\"_blank\" class=\"bk-logo bk-logo-small bk-logo-notebook\"></a>\n",
       "        <span id=\"1001\">Loading BokehJS ...</span>\n",
       "    </div>"
      ]
     },
     "metadata": {},
     "output_type": "display_data"
    },
    {
     "data": {
      "application/javascript": [
       "\n",
       "(function(root) {\n",
       "  function now() {\n",
       "    return new Date();\n",
       "  }\n",
       "\n",
       "  var force = true;\n",
       "\n",
       "  if (typeof root._bokeh_onload_callbacks === \"undefined\" || force === true) {\n",
       "    root._bokeh_onload_callbacks = [];\n",
       "    root._bokeh_is_loading = undefined;\n",
       "  }\n",
       "\n",
       "  var JS_MIME_TYPE = 'application/javascript';\n",
       "  var HTML_MIME_TYPE = 'text/html';\n",
       "  var EXEC_MIME_TYPE = 'application/vnd.bokehjs_exec.v0+json';\n",
       "  var CLASS_NAME = 'output_bokeh rendered_html';\n",
       "\n",
       "  /**\n",
       "   * Render data to the DOM node\n",
       "   */\n",
       "  function render(props, node) {\n",
       "    var script = document.createElement(\"script\");\n",
       "    node.appendChild(script);\n",
       "  }\n",
       "\n",
       "  /**\n",
       "   * Handle when an output is cleared or removed\n",
       "   */\n",
       "  function handleClearOutput(event, handle) {\n",
       "    var cell = handle.cell;\n",
       "\n",
       "    var id = cell.output_area._bokeh_element_id;\n",
       "    var server_id = cell.output_area._bokeh_server_id;\n",
       "    // Clean up Bokeh references\n",
       "    if (id != null && id in Bokeh.index) {\n",
       "      Bokeh.index[id].model.document.clear();\n",
       "      delete Bokeh.index[id];\n",
       "    }\n",
       "\n",
       "    if (server_id !== undefined) {\n",
       "      // Clean up Bokeh references\n",
       "      var cmd = \"from bokeh.io.state import curstate; print(curstate().uuid_to_server['\" + server_id + \"'].get_sessions()[0].document.roots[0]._id)\";\n",
       "      cell.notebook.kernel.execute(cmd, {\n",
       "        iopub: {\n",
       "          output: function(msg) {\n",
       "            var id = msg.content.text.trim();\n",
       "            if (id in Bokeh.index) {\n",
       "              Bokeh.index[id].model.document.clear();\n",
       "              delete Bokeh.index[id];\n",
       "            }\n",
       "          }\n",
       "        }\n",
       "      });\n",
       "      // Destroy server and session\n",
       "      var cmd = \"import bokeh.io.notebook as ion; ion.destroy_server('\" + server_id + \"')\";\n",
       "      cell.notebook.kernel.execute(cmd);\n",
       "    }\n",
       "  }\n",
       "\n",
       "  /**\n",
       "   * Handle when a new output is added\n",
       "   */\n",
       "  function handleAddOutput(event, handle) {\n",
       "    var output_area = handle.output_area;\n",
       "    var output = handle.output;\n",
       "\n",
       "    // limit handleAddOutput to display_data with EXEC_MIME_TYPE content only\n",
       "    if ((output.output_type != \"display_data\") || (!output.data.hasOwnProperty(EXEC_MIME_TYPE))) {\n",
       "      return\n",
       "    }\n",
       "\n",
       "    var toinsert = output_area.element.find(\".\" + CLASS_NAME.split(' ')[0]);\n",
       "\n",
       "    if (output.metadata[EXEC_MIME_TYPE][\"id\"] !== undefined) {\n",
       "      toinsert[toinsert.length - 1].firstChild.textContent = output.data[JS_MIME_TYPE];\n",
       "      // store reference to embed id on output_area\n",
       "      output_area._bokeh_element_id = output.metadata[EXEC_MIME_TYPE][\"id\"];\n",
       "    }\n",
       "    if (output.metadata[EXEC_MIME_TYPE][\"server_id\"] !== undefined) {\n",
       "      var bk_div = document.createElement(\"div\");\n",
       "      bk_div.innerHTML = output.data[HTML_MIME_TYPE];\n",
       "      var script_attrs = bk_div.children[0].attributes;\n",
       "      for (var i = 0; i < script_attrs.length; i++) {\n",
       "        toinsert[toinsert.length - 1].firstChild.setAttribute(script_attrs[i].name, script_attrs[i].value);\n",
       "      }\n",
       "      // store reference to server id on output_area\n",
       "      output_area._bokeh_server_id = output.metadata[EXEC_MIME_TYPE][\"server_id\"];\n",
       "    }\n",
       "  }\n",
       "\n",
       "  function register_renderer(events, OutputArea) {\n",
       "\n",
       "    function append_mime(data, metadata, element) {\n",
       "      // create a DOM node to render to\n",
       "      var toinsert = this.create_output_subarea(\n",
       "        metadata,\n",
       "        CLASS_NAME,\n",
       "        EXEC_MIME_TYPE\n",
       "      );\n",
       "      this.keyboard_manager.register_events(toinsert);\n",
       "      // Render to node\n",
       "      var props = {data: data, metadata: metadata[EXEC_MIME_TYPE]};\n",
       "      render(props, toinsert[toinsert.length - 1]);\n",
       "      element.append(toinsert);\n",
       "      return toinsert\n",
       "    }\n",
       "\n",
       "    /* Handle when an output is cleared or removed */\n",
       "    events.on('clear_output.CodeCell', handleClearOutput);\n",
       "    events.on('delete.Cell', handleClearOutput);\n",
       "\n",
       "    /* Handle when a new output is added */\n",
       "    events.on('output_added.OutputArea', handleAddOutput);\n",
       "\n",
       "    /**\n",
       "     * Register the mime type and append_mime function with output_area\n",
       "     */\n",
       "    OutputArea.prototype.register_mime_type(EXEC_MIME_TYPE, append_mime, {\n",
       "      /* Is output safe? */\n",
       "      safe: true,\n",
       "      /* Index of renderer in `output_area.display_order` */\n",
       "      index: 0\n",
       "    });\n",
       "  }\n",
       "\n",
       "  // register the mime type if in Jupyter Notebook environment and previously unregistered\n",
       "  if (root.Jupyter !== undefined) {\n",
       "    var events = require('base/js/events');\n",
       "    var OutputArea = require('notebook/js/outputarea').OutputArea;\n",
       "\n",
       "    if (OutputArea.prototype.mime_types().indexOf(EXEC_MIME_TYPE) == -1) {\n",
       "      register_renderer(events, OutputArea);\n",
       "    }\n",
       "  }\n",
       "\n",
       "  \n",
       "  if (typeof (root._bokeh_timeout) === \"undefined\" || force === true) {\n",
       "    root._bokeh_timeout = Date.now() + 5000;\n",
       "    root._bokeh_failed_load = false;\n",
       "  }\n",
       "\n",
       "  var NB_LOAD_WARNING = {'data': {'text/html':\n",
       "     \"<div style='background-color: #fdd'>\\n\"+\n",
       "     \"<p>\\n\"+\n",
       "     \"BokehJS does not appear to have successfully loaded. If loading BokehJS from CDN, this \\n\"+\n",
       "     \"may be due to a slow or bad network connection. Possible fixes:\\n\"+\n",
       "     \"</p>\\n\"+\n",
       "     \"<ul>\\n\"+\n",
       "     \"<li>re-rerun `output_notebook()` to attempt to load from CDN again, or</li>\\n\"+\n",
       "     \"<li>use INLINE resources instead, as so:</li>\\n\"+\n",
       "     \"</ul>\\n\"+\n",
       "     \"<code>\\n\"+\n",
       "     \"from bokeh.resources import INLINE\\n\"+\n",
       "     \"output_notebook(resources=INLINE)\\n\"+\n",
       "     \"</code>\\n\"+\n",
       "     \"</div>\"}};\n",
       "\n",
       "  function display_loaded() {\n",
       "    var el = document.getElementById(\"1001\");\n",
       "    if (el != null) {\n",
       "      el.textContent = \"BokehJS is loading...\";\n",
       "    }\n",
       "    if (root.Bokeh !== undefined) {\n",
       "      if (el != null) {\n",
       "        el.textContent = \"BokehJS \" + root.Bokeh.version + \" successfully loaded.\";\n",
       "      }\n",
       "    } else if (Date.now() < root._bokeh_timeout) {\n",
       "      setTimeout(display_loaded, 100)\n",
       "    }\n",
       "  }\n",
       "\n",
       "\n",
       "  function run_callbacks() {\n",
       "    try {\n",
       "      root._bokeh_onload_callbacks.forEach(function(callback) {\n",
       "        if (callback != null)\n",
       "          callback();\n",
       "      });\n",
       "    } finally {\n",
       "      delete root._bokeh_onload_callbacks\n",
       "    }\n",
       "    console.debug(\"Bokeh: all callbacks have finished\");\n",
       "  }\n",
       "\n",
       "  function load_libs(css_urls, js_urls, callback) {\n",
       "    if (css_urls == null) css_urls = [];\n",
       "    if (js_urls == null) js_urls = [];\n",
       "\n",
       "    root._bokeh_onload_callbacks.push(callback);\n",
       "    if (root._bokeh_is_loading > 0) {\n",
       "      console.debug(\"Bokeh: BokehJS is being loaded, scheduling callback at\", now());\n",
       "      return null;\n",
       "    }\n",
       "    if (js_urls == null || js_urls.length === 0) {\n",
       "      run_callbacks();\n",
       "      return null;\n",
       "    }\n",
       "    console.debug(\"Bokeh: BokehJS not loaded, scheduling load and callback at\", now());\n",
       "    root._bokeh_is_loading = css_urls.length + js_urls.length;\n",
       "\n",
       "    function on_load() {\n",
       "      root._bokeh_is_loading--;\n",
       "      if (root._bokeh_is_loading === 0) {\n",
       "        console.debug(\"Bokeh: all BokehJS libraries/stylesheets loaded\");\n",
       "        run_callbacks()\n",
       "      }\n",
       "    }\n",
       "\n",
       "    function on_error() {\n",
       "      console.error(\"failed to load \" + url);\n",
       "    }\n",
       "\n",
       "    for (var i = 0; i < css_urls.length; i++) {\n",
       "      var url = css_urls[i];\n",
       "      const element = document.createElement(\"link\");\n",
       "      element.onload = on_load;\n",
       "      element.onerror = on_error;\n",
       "      element.rel = \"stylesheet\";\n",
       "      element.type = \"text/css\";\n",
       "      element.href = url;\n",
       "      console.debug(\"Bokeh: injecting link tag for BokehJS stylesheet: \", url);\n",
       "      document.body.appendChild(element);\n",
       "    }\n",
       "\n",
       "    for (var i = 0; i < js_urls.length; i++) {\n",
       "      var url = js_urls[i];\n",
       "      var element = document.createElement('script');\n",
       "      element.onload = on_load;\n",
       "      element.onerror = on_error;\n",
       "      element.async = false;\n",
       "      element.src = url;\n",
       "      console.debug(\"Bokeh: injecting script tag for BokehJS library: \", url);\n",
       "      document.head.appendChild(element);\n",
       "    }\n",
       "  };var element = document.getElementById(\"1001\");\n",
       "  if (element == null) {\n",
       "    console.error(\"Bokeh: ERROR: autoload.js configured with elementid '1001' but no matching script tag was found. \")\n",
       "    return false;\n",
       "  }\n",
       "\n",
       "  function inject_raw_css(css) {\n",
       "    const element = document.createElement(\"style\");\n",
       "    element.appendChild(document.createTextNode(css));\n",
       "    document.body.appendChild(element);\n",
       "  }\n",
       "\n",
       "  var js_urls = [\"https://cdn.pydata.org/bokeh/release/bokeh-1.2.0.min.js\", \"https://cdn.pydata.org/bokeh/release/bokeh-widgets-1.2.0.min.js\", \"https://cdn.pydata.org/bokeh/release/bokeh-tables-1.2.0.min.js\", \"https://cdn.pydata.org/bokeh/release/bokeh-gl-1.2.0.min.js\"];\n",
       "  var css_urls = [\"https://cdn.pydata.org/bokeh/release/bokeh-1.2.0.min.css\", \"https://cdn.pydata.org/bokeh/release/bokeh-widgets-1.2.0.min.css\", \"https://cdn.pydata.org/bokeh/release/bokeh-tables-1.2.0.min.css\"];\n",
       "\n",
       "  var inline_js = [\n",
       "    function(Bokeh) {\n",
       "      Bokeh.set_log_level(\"info\");\n",
       "    },\n",
       "    \n",
       "    function(Bokeh) {\n",
       "      \n",
       "    },\n",
       "    function(Bokeh) {} // ensure no trailing comma for IE\n",
       "  ];\n",
       "\n",
       "  function run_inline_js() {\n",
       "    \n",
       "    if ((root.Bokeh !== undefined) || (force === true)) {\n",
       "      for (var i = 0; i < inline_js.length; i++) {\n",
       "        inline_js[i].call(root, root.Bokeh);\n",
       "      }if (force === true) {\n",
       "        display_loaded();\n",
       "      }} else if (Date.now() < root._bokeh_timeout) {\n",
       "      setTimeout(run_inline_js, 100);\n",
       "    } else if (!root._bokeh_failed_load) {\n",
       "      console.log(\"Bokeh: BokehJS failed to load within specified timeout.\");\n",
       "      root._bokeh_failed_load = true;\n",
       "    } else if (force !== true) {\n",
       "      var cell = $(document.getElementById(\"1001\")).parents('.cell').data().cell;\n",
       "      cell.output_area.append_execute_result(NB_LOAD_WARNING)\n",
       "    }\n",
       "\n",
       "  }\n",
       "\n",
       "  if (root._bokeh_is_loading === 0) {\n",
       "    console.debug(\"Bokeh: BokehJS loaded, going straight to plotting\");\n",
       "    run_inline_js();\n",
       "  } else {\n",
       "    load_libs(css_urls, js_urls, function() {\n",
       "      console.debug(\"Bokeh: BokehJS plotting callback run at\", now());\n",
       "      run_inline_js();\n",
       "    });\n",
       "  }\n",
       "}(window));"
      ],
      "application/vnd.bokehjs_load.v0+json": "\n(function(root) {\n  function now() {\n    return new Date();\n  }\n\n  var force = true;\n\n  if (typeof root._bokeh_onload_callbacks === \"undefined\" || force === true) {\n    root._bokeh_onload_callbacks = [];\n    root._bokeh_is_loading = undefined;\n  }\n\n  \n\n  \n  if (typeof (root._bokeh_timeout) === \"undefined\" || force === true) {\n    root._bokeh_timeout = Date.now() + 5000;\n    root._bokeh_failed_load = false;\n  }\n\n  var NB_LOAD_WARNING = {'data': {'text/html':\n     \"<div style='background-color: #fdd'>\\n\"+\n     \"<p>\\n\"+\n     \"BokehJS does not appear to have successfully loaded. If loading BokehJS from CDN, this \\n\"+\n     \"may be due to a slow or bad network connection. Possible fixes:\\n\"+\n     \"</p>\\n\"+\n     \"<ul>\\n\"+\n     \"<li>re-rerun `output_notebook()` to attempt to load from CDN again, or</li>\\n\"+\n     \"<li>use INLINE resources instead, as so:</li>\\n\"+\n     \"</ul>\\n\"+\n     \"<code>\\n\"+\n     \"from bokeh.resources import INLINE\\n\"+\n     \"output_notebook(resources=INLINE)\\n\"+\n     \"</code>\\n\"+\n     \"</div>\"}};\n\n  function display_loaded() {\n    var el = document.getElementById(\"1001\");\n    if (el != null) {\n      el.textContent = \"BokehJS is loading...\";\n    }\n    if (root.Bokeh !== undefined) {\n      if (el != null) {\n        el.textContent = \"BokehJS \" + root.Bokeh.version + \" successfully loaded.\";\n      }\n    } else if (Date.now() < root._bokeh_timeout) {\n      setTimeout(display_loaded, 100)\n    }\n  }\n\n\n  function run_callbacks() {\n    try {\n      root._bokeh_onload_callbacks.forEach(function(callback) {\n        if (callback != null)\n          callback();\n      });\n    } finally {\n      delete root._bokeh_onload_callbacks\n    }\n    console.debug(\"Bokeh: all callbacks have finished\");\n  }\n\n  function load_libs(css_urls, js_urls, callback) {\n    if (css_urls == null) css_urls = [];\n    if (js_urls == null) js_urls = [];\n\n    root._bokeh_onload_callbacks.push(callback);\n    if (root._bokeh_is_loading > 0) {\n      console.debug(\"Bokeh: BokehJS is being loaded, scheduling callback at\", now());\n      return null;\n    }\n    if (js_urls == null || js_urls.length === 0) {\n      run_callbacks();\n      return null;\n    }\n    console.debug(\"Bokeh: BokehJS not loaded, scheduling load and callback at\", now());\n    root._bokeh_is_loading = css_urls.length + js_urls.length;\n\n    function on_load() {\n      root._bokeh_is_loading--;\n      if (root._bokeh_is_loading === 0) {\n        console.debug(\"Bokeh: all BokehJS libraries/stylesheets loaded\");\n        run_callbacks()\n      }\n    }\n\n    function on_error() {\n      console.error(\"failed to load \" + url);\n    }\n\n    for (var i = 0; i < css_urls.length; i++) {\n      var url = css_urls[i];\n      const element = document.createElement(\"link\");\n      element.onload = on_load;\n      element.onerror = on_error;\n      element.rel = \"stylesheet\";\n      element.type = \"text/css\";\n      element.href = url;\n      console.debug(\"Bokeh: injecting link tag for BokehJS stylesheet: \", url);\n      document.body.appendChild(element);\n    }\n\n    for (var i = 0; i < js_urls.length; i++) {\n      var url = js_urls[i];\n      var element = document.createElement('script');\n      element.onload = on_load;\n      element.onerror = on_error;\n      element.async = false;\n      element.src = url;\n      console.debug(\"Bokeh: injecting script tag for BokehJS library: \", url);\n      document.head.appendChild(element);\n    }\n  };var element = document.getElementById(\"1001\");\n  if (element == null) {\n    console.error(\"Bokeh: ERROR: autoload.js configured with elementid '1001' but no matching script tag was found. \")\n    return false;\n  }\n\n  function inject_raw_css(css) {\n    const element = document.createElement(\"style\");\n    element.appendChild(document.createTextNode(css));\n    document.body.appendChild(element);\n  }\n\n  var js_urls = [\"https://cdn.pydata.org/bokeh/release/bokeh-1.2.0.min.js\", \"https://cdn.pydata.org/bokeh/release/bokeh-widgets-1.2.0.min.js\", \"https://cdn.pydata.org/bokeh/release/bokeh-tables-1.2.0.min.js\", \"https://cdn.pydata.org/bokeh/release/bokeh-gl-1.2.0.min.js\"];\n  var css_urls = [\"https://cdn.pydata.org/bokeh/release/bokeh-1.2.0.min.css\", \"https://cdn.pydata.org/bokeh/release/bokeh-widgets-1.2.0.min.css\", \"https://cdn.pydata.org/bokeh/release/bokeh-tables-1.2.0.min.css\"];\n\n  var inline_js = [\n    function(Bokeh) {\n      Bokeh.set_log_level(\"info\");\n    },\n    \n    function(Bokeh) {\n      \n    },\n    function(Bokeh) {} // ensure no trailing comma for IE\n  ];\n\n  function run_inline_js() {\n    \n    if ((root.Bokeh !== undefined) || (force === true)) {\n      for (var i = 0; i < inline_js.length; i++) {\n        inline_js[i].call(root, root.Bokeh);\n      }if (force === true) {\n        display_loaded();\n      }} else if (Date.now() < root._bokeh_timeout) {\n      setTimeout(run_inline_js, 100);\n    } else if (!root._bokeh_failed_load) {\n      console.log(\"Bokeh: BokehJS failed to load within specified timeout.\");\n      root._bokeh_failed_load = true;\n    } else if (force !== true) {\n      var cell = $(document.getElementById(\"1001\")).parents('.cell').data().cell;\n      cell.output_area.append_execute_result(NB_LOAD_WARNING)\n    }\n\n  }\n\n  if (root._bokeh_is_loading === 0) {\n    console.debug(\"Bokeh: BokehJS loaded, going straight to plotting\");\n    run_inline_js();\n  } else {\n    load_libs(css_urls, js_urls, function() {\n      console.debug(\"Bokeh: BokehJS plotting callback run at\", now());\n      run_inline_js();\n    });\n  }\n}(window));"
     },
     "metadata": {},
     "output_type": "display_data"
    }
   ],
   "source": [
    "from bokeh.io import show, output_notebook\n",
    "from bokeh.layouts import gridplot\n",
    "from bokeh.models.scales import LogScale\n",
    "output_notebook()"
   ]
  },
  {
   "cell_type": "code",
   "execution_count": 3,
   "id": "d97596e6-a449-460d-a8c2-6e78e712c02c",
   "metadata": {},
   "outputs": [],
   "source": [
    "import pandas as pd"
   ]
  },
  {
   "cell_type": "markdown",
   "id": "65cc9eb1-eaee-4c55-9d3f-8d498b6d0102",
   "metadata": {},
   "source": [
    "## Import data"
   ]
  },
  {
   "cell_type": "code",
   "execution_count": 4,
   "id": "5b67966c-f38e-4fb7-878e-e3085e54ee82",
   "metadata": {},
   "outputs": [],
   "source": [
    "BASE_DIR = '/home/olavur/experiments/2020-11-13_fargen1_exome_analysis'"
   ]
  },
  {
   "cell_type": "code",
   "execution_count": 5,
   "id": "3fbb6ce4-77e8-49af-9eb0-8d3c132f72fa",
   "metadata": {},
   "outputs": [],
   "source": [
    "mt = hl.read_matrix_table(BASE_DIR + '/data/mt/high_quality_variants.mt/')"
   ]
  },
  {
   "cell_type": "code",
   "execution_count": 6,
   "id": "843a421e-5dc6-4818-91f3-d4624676f40c",
   "metadata": {},
   "outputs": [
    {
     "name": "stdout",
     "output_type": "stream",
     "text": [
      "Number of variants: 1146382\n",
      "Number of samples: 468\n"
     ]
    }
   ],
   "source": [
    "n_variants, n_samples = mt.count()\n",
    "print('Number of variants: ' + str(n_variants))\n",
    "print('Number of samples: ' + str(n_samples))"
   ]
  },
  {
   "cell_type": "markdown",
   "id": "246e4ff8-48f4-4757-92cb-8d1df208858f",
   "metadata": {},
   "source": [
    "## Phasing statistics\n",
    "\n",
    "### Phased heterozygotes\n",
    "\n",
    "Calculate number of phased heterozygotes."
   ]
  },
  {
   "cell_type": "code",
   "execution_count": 7,
   "id": "7ae94f72-f4ff-4143-ba26-5fb7ec1f4d53",
   "metadata": {},
   "outputs": [],
   "source": [
    "# Get all heterozygotes.\n",
    "het_mt = mt.filter_entries(mt.GT.is_het())"
   ]
  },
  {
   "cell_type": "code",
   "execution_count": 8,
   "id": "fb59b3b6-385b-4790-b3cd-b9c925febbb1",
   "metadata": {},
   "outputs": [],
   "source": [
    "het_mt = het_mt.annotate_cols(n_phased_hets=hl.agg.count_where(het_mt.GT.phased), n_hets = hl.agg.count_where(het_mt.GT.is_het()))"
   ]
  },
  {
   "cell_type": "code",
   "execution_count": 9,
   "id": "d245f31d-b71d-47b2-934d-13e573eeb7a8",
   "metadata": {},
   "outputs": [],
   "source": [
    "het_mt = het_mt.annotate_cols(phased_hets_fraction = het_mt.n_phased_hets / het_mt.n_hets)"
   ]
  },
  {
   "cell_type": "code",
   "execution_count": 10,
   "id": "7db4e968-0121-491b-b863-84df7b854b2d",
   "metadata": {},
   "outputs": [
    {
     "data": {
      "text/html": [
       "\n",
       "\n",
       "\n",
       "\n",
       "\n",
       "\n",
       "  <div class=\"bk-root\" id=\"88e8663d-833c-4576-a24a-0505f365edc9\" data-root-id=\"1002\"></div>\n"
      ]
     },
     "metadata": {},
     "output_type": "display_data"
    },
    {
     "data": {
      "application/javascript": [
       "(function(root) {\n",
       "  function embed_document(root) {\n",
       "    \n",
       "  var docs_json = {\"806a0078-ebee-42cf-b2d0-1ad9fd7f0c4c\":{\"roots\":{\"references\":[{\"attributes\":{\"background_fill_color\":{\"value\":\"#EEEEEE\"},\"below\":[{\"id\":\"1013\",\"type\":\"LinearAxis\"}],\"center\":[{\"id\":\"1017\",\"type\":\"Grid\"},{\"id\":\"1022\",\"type\":\"Grid\"}],\"left\":[{\"id\":\"1018\",\"type\":\"LinearAxis\"}],\"renderers\":[{\"id\":\"1039\",\"type\":\"GlyphRenderer\"}],\"title\":{\"id\":\"1003\",\"type\":\"Title\"},\"toolbar\":{\"id\":\"1029\",\"type\":\"Toolbar\"},\"x_range\":{\"id\":\"1005\",\"type\":\"Range1d\"},\"x_scale\":{\"id\":\"1009\",\"type\":\"LinearScale\"},\"y_range\":{\"id\":\"1007\",\"type\":\"DataRange1d\"},\"y_scale\":{\"id\":\"1011\",\"type\":\"LinearScale\"}},\"id\":\"1002\",\"subtype\":\"Figure\",\"type\":\"Plot\"},{\"attributes\":{},\"id\":\"1047\",\"type\":\"Selection\"},{\"attributes\":{\"active_drag\":\"auto\",\"active_inspect\":\"auto\",\"active_multi\":null,\"active_scroll\":\"auto\",\"active_tap\":\"auto\",\"tools\":[{\"id\":\"1023\",\"type\":\"PanTool\"},{\"id\":\"1024\",\"type\":\"WheelZoomTool\"},{\"id\":\"1025\",\"type\":\"BoxZoomTool\"},{\"id\":\"1026\",\"type\":\"SaveTool\"},{\"id\":\"1027\",\"type\":\"ResetTool\"},{\"id\":\"1028\",\"type\":\"HelpTool\"}]},\"id\":\"1029\",\"type\":\"Toolbar\"},{\"attributes\":{\"callback\":null},\"id\":\"1007\",\"type\":\"DataRange1d\"},{\"attributes\":{\"overlay\":{\"id\":\"1048\",\"type\":\"BoxAnnotation\"}},\"id\":\"1025\",\"type\":\"BoxZoomTool\"},{\"attributes\":{},\"id\":\"1024\",\"type\":\"WheelZoomTool\"},{\"attributes\":{\"formatter\":{\"id\":\"1043\",\"type\":\"BasicTickFormatter\"},\"ticker\":{\"id\":\"1014\",\"type\":\"BasicTicker\"}},\"id\":\"1013\",\"type\":\"LinearAxis\"},{\"attributes\":{\"callback\":null,\"end\":0.751657935231924,\"start\":0.18303201869130134},\"id\":\"1005\",\"type\":\"Range1d\"},{\"attributes\":{},\"id\":\"1023\",\"type\":\"PanTool\"},{\"attributes\":{},\"id\":\"1046\",\"type\":\"UnionRenderers\"},{\"attributes\":{},\"id\":\"1009\",\"type\":\"LinearScale\"},{\"attributes\":{\"ticker\":{\"id\":\"1014\",\"type\":\"BasicTicker\"}},\"id\":\"1017\",\"type\":\"Grid\"},{\"attributes\":{\"source\":{\"id\":\"1036\",\"type\":\"ColumnDataSource\"}},\"id\":\"1040\",\"type\":\"CDSView\"},{\"attributes\":{\"bottom\":{\"value\":0},\"fill_color\":{\"value\":\"#1f77b4\"},\"left\":{\"field\":\"left\"},\"right\":{\"field\":\"right\"},\"top\":{\"field\":\"top\"}},\"id\":\"1037\",\"type\":\"Quad\"},{\"attributes\":{\"callback\":null,\"data\":{\"left\":[0.20887865126132965,0.21921730428934097,0.2295559573173523,0.2398946103453636,0.2502332633733749,0.26057191640138627,0.27091056942939756,0.2812492224574089,0.2915878754854202,0.30192652851343155,0.3122651815414429,0.3226038345694542,0.33294248759746553,0.3432811406254769,0.35361979365348817,0.36395844668149946,0.3742970997095108,0.38463575273752215,0.39497440576553344,0.40531305879354473,0.4156517118215561,0.4259903648495674,0.4363290178775787,0.44666767090559006,0.4570063239336014,0.4673449769616127,0.47768362998962405,0.48802228301763534,0.4983609360456467,0.508699589073658,0.5190382421016693,0.5293768951296807,0.539715548157692,0.5500542011857033,0.5603928542137147,0.5707315072417259,0.5810701602697372,0.5914088132977486,0.6017474663257598,0.6120861193537712,0.6224247723817825,0.6327634254097938,0.6431020784378052,0.6534407314658165,0.6637793844938278,0.6741180375218392,0.6844566905498505,0.6947953435778618,0.7051339966058732,0.7154726496338845],\"right\":[0.21921730428934097,0.2295559573173523,0.2398946103453636,0.2502332633733749,0.26057191640138627,0.27091056942939756,0.2812492224574089,0.2915878754854202,0.30192652851343155,0.3122651815414429,0.3226038345694542,0.33294248759746553,0.3432811406254769,0.35361979365348817,0.36395844668149946,0.3742970997095108,0.38463575273752215,0.39497440576553344,0.40531305879354473,0.4156517118215561,0.4259903648495674,0.4363290178775787,0.44666767090559006,0.4570063239336014,0.4673449769616127,0.47768362998962405,0.48802228301763534,0.4983609360456467,0.508699589073658,0.5190382421016693,0.5293768951296807,0.539715548157692,0.5500542011857033,0.5603928542137147,0.5707315072417259,0.5810701602697372,0.5914088132977486,0.6017474663257598,0.6120861193537712,0.6224247723817825,0.6327634254097938,0.6431020784378052,0.6534407314658165,0.6637793844938278,0.6741180375218392,0.6844566905498505,0.6947953435778618,0.7051339966058732,0.7154726496338845,0.7258113026618958],\"top\":[1,0,0,0,0,0,0,0,0,0,0,0,0,0,0,0,0,3,3,2,2,0,1,3,3,3,3,1,3,2,2,5,5,4,3,9,16,17,22,18,24,49,46,64,47,55,30,10,8,4]},\"selected\":{\"id\":\"1047\",\"type\":\"Selection\"},\"selection_policy\":{\"id\":\"1046\",\"type\":\"UnionRenderers\"}},\"id\":\"1036\",\"type\":\"ColumnDataSource\"},{\"attributes\":{\"bottom\":{\"value\":0},\"fill_alpha\":{\"value\":0.1},\"fill_color\":{\"value\":\"#1f77b4\"},\"left\":{\"field\":\"left\"},\"line_alpha\":{\"value\":0.1},\"line_color\":{\"value\":\"#1f77b4\"},\"right\":{\"field\":\"right\"},\"top\":{\"field\":\"top\"}},\"id\":\"1038\",\"type\":\"Quad\"},{\"attributes\":{},\"id\":\"1011\",\"type\":\"LinearScale\"},{\"attributes\":{},\"id\":\"1014\",\"type\":\"BasicTicker\"},{\"attributes\":{},\"id\":\"1045\",\"type\":\"BasicTickFormatter\"},{\"attributes\":{},\"id\":\"1026\",\"type\":\"SaveTool\"},{\"attributes\":{\"bottom_units\":\"screen\",\"fill_alpha\":{\"value\":0.5},\"fill_color\":{\"value\":\"lightgrey\"},\"left_units\":\"screen\",\"level\":\"overlay\",\"line_alpha\":{\"value\":1.0},\"line_color\":{\"value\":\"black\"},\"line_dash\":[4,4],\"line_width\":{\"value\":2},\"render_mode\":\"css\",\"right_units\":\"screen\",\"top_units\":\"screen\"},\"id\":\"1048\",\"type\":\"BoxAnnotation\"},{\"attributes\":{},\"id\":\"1043\",\"type\":\"BasicTickFormatter\"},{\"attributes\":{\"text\":\"Histogram of fraction of phased heterozygotes per sample\"},\"id\":\"1003\",\"type\":\"Title\"},{\"attributes\":{},\"id\":\"1027\",\"type\":\"ResetTool\"},{\"attributes\":{\"data_source\":{\"id\":\"1036\",\"type\":\"ColumnDataSource\"},\"glyph\":{\"id\":\"1037\",\"type\":\"Quad\"},\"hover_glyph\":null,\"muted_glyph\":null,\"nonselection_glyph\":{\"id\":\"1038\",\"type\":\"Quad\"},\"selection_glyph\":null,\"view\":{\"id\":\"1040\",\"type\":\"CDSView\"}},\"id\":\"1039\",\"type\":\"GlyphRenderer\"},{\"attributes\":{},\"id\":\"1019\",\"type\":\"BasicTicker\"},{\"attributes\":{\"dimension\":1,\"ticker\":{\"id\":\"1019\",\"type\":\"BasicTicker\"}},\"id\":\"1022\",\"type\":\"Grid\"},{\"attributes\":{},\"id\":\"1028\",\"type\":\"HelpTool\"},{\"attributes\":{\"axis_label\":\"Frequency\",\"formatter\":{\"id\":\"1045\",\"type\":\"BasicTickFormatter\"},\"ticker\":{\"id\":\"1019\",\"type\":\"BasicTicker\"}},\"id\":\"1018\",\"type\":\"LinearAxis\"}],\"root_ids\":[\"1002\"]},\"title\":\"Bokeh Application\",\"version\":\"1.2.0\"}};\n",
       "  var render_items = [{\"docid\":\"806a0078-ebee-42cf-b2d0-1ad9fd7f0c4c\",\"roots\":{\"1002\":\"88e8663d-833c-4576-a24a-0505f365edc9\"}}];\n",
       "  root.Bokeh.embed.embed_items_notebook(docs_json, render_items);\n",
       "\n",
       "  }\n",
       "  if (root.Bokeh !== undefined) {\n",
       "    embed_document(root);\n",
       "  } else {\n",
       "    var attempts = 0;\n",
       "    var timer = setInterval(function(root) {\n",
       "      if (root.Bokeh !== undefined) {\n",
       "        embed_document(root);\n",
       "        clearInterval(timer);\n",
       "      }\n",
       "      attempts++;\n",
       "      if (attempts > 100) {\n",
       "        console.log(\"Bokeh: ERROR: Unable to run BokehJS code because BokehJS library is missing\");\n",
       "        clearInterval(timer);\n",
       "      }\n",
       "    }, 10, root)\n",
       "  }\n",
       "})(window);"
      ],
      "application/vnd.bokehjs_exec.v0+json": ""
     },
     "metadata": {
      "application/vnd.bokehjs_exec.v0+json": {
       "id": "1002"
      }
     },
     "output_type": "display_data"
    }
   ],
   "source": [
    "p = hl.plot.histogram(het_mt.phased_hets_fraction, title='Histogram of fraction of phased heterozygotes per sample')\n",
    "show(p)"
   ]
  },
  {
   "cell_type": "markdown",
   "id": "fd86fc51-4893-4b65-a801-24e3282e9db9",
   "metadata": {},
   "source": [
    "### Phase block lengths\n",
    "\n",
    "Calculate the lengths of the phase blocks. Phase blocks are defined by the `PS` 'phase set' tag on the genotypes. The `PS` tag is an integer equal to the position of the first variant in the phase block.\n",
    "\n",
    "**NOTE:** we only look at heterozygotes, because in principle, the phase of any homozygote variants are known trivially. Therefore, if we include homozygous variants, in principle our phase block stretches from the first to the last homozygote on the chromosome."
   ]
  },
  {
   "cell_type": "markdown",
   "id": "52d23c66-3732-4a08-8c3f-cde2b37d058c",
   "metadata": {},
   "source": [
    "#### Calculate phase block statistics\n",
    "\n",
    "We will obtain the start and end positions of each phase block, defined as the positions of the first and last variants in each phase set. We will use these to calculate the phase block lengths. We will also calculate the number of variants in each phase block.\n",
    "\n",
    "First, we make a table of entries, whose rows will be keyed by locus, alleles and sample. "
   ]
  },
  {
   "cell_type": "code",
   "execution_count": 11,
   "id": "0675b6c1-e256-4b9c-8adf-ece3f79a51f1",
   "metadata": {},
   "outputs": [
    {
     "name": "stderr",
     "output_type": "stream",
     "text": [
      "2021-06-10 08:57:27 Hail: WARN: entries(): Resulting entries table is sorted by '(row_key, col_key)'.\n",
      "    To preserve row-major matrix table order, first unkey columns with 'key_cols_by()'\n"
     ]
    }
   ],
   "source": [
    "entries = het_mt.entries()"
   ]
  },
  {
   "cell_type": "markdown",
   "id": "6bf84515-9243-430c-a2bc-28625e2ad3c5",
   "metadata": {},
   "source": [
    "Group entries by phase set, chromosome and sample. This gives us a table with all genotype data grouped by these values."
   ]
  },
  {
   "cell_type": "code",
   "execution_count": 12,
   "id": "6a03f180-5a61-4891-b09f-b06b487517d3",
   "metadata": {},
   "outputs": [],
   "source": [
    "ps_groups_ht = entries.group_by(PS_group=entries.PS, chrom_group=entries.locus.contig, sample_group=entries.s)"
   ]
  },
  {
   "cell_type": "markdown",
   "id": "8e798210-eea1-4924-96f3-78236fda5153",
   "metadata": {},
   "source": [
    "For each phase set in each sample, calculate the number of variants in each phase set, the start and end position of each set, and the length of each phase block."
   ]
  },
  {
   "cell_type": "code",
   "execution_count": 13,
   "id": "85898826-e61d-4710-a5ca-5219fefb518b",
   "metadata": {},
   "outputs": [
    {
     "name": "stderr",
     "output_type": "stream",
     "text": [
      "2021-06-10 09:01:43 Hail: INFO: Ordering unsorted dataset with network shuffle\n",
      "2021-06-10 09:01:56 Hail: INFO: wrote table with 4017621 rows in 37 partitions to /home/olavur/tmp/phasing_stats.ht\n",
      "    Total size: 71.18 MiB\n",
      "    * Rows: 71.18 MiB\n",
      "    * Globals: 11.00 B\n",
      "    * Smallest partition: 76453 rows (1.32 MiB)\n",
      "    * Largest partition:  160761 rows (2.81 MiB)\n"
     ]
    }
   ],
   "source": [
    "ps_stats_ht = ps_groups_ht.aggregate(ps_start=hl.agg.min(entries.locus.position), ps_stop=hl.agg.max(entries.locus.position), ps_count=hl.agg.count())\n",
    "\n",
    "ps_stats_ht = ps_stats_ht.annotate(ps_length = ps_stats_ht.ps_stop - ps_stats_ht.ps_start)\n",
    "\n",
    "# FIXME: checkpoint only for testing, remove.\n",
    "# Cache all operations by making a checkpoint.\n",
    "ps_stats_ht = ps_stats_ht.checkpoint('/home/olavur/tmp/phasing_stats.ht', overwrite=True)"
   ]
  },
  {
   "cell_type": "markdown",
   "id": "f000801a-69b9-4f87-bbc7-8208ac777f09",
   "metadata": {},
   "source": [
    "#### Sanity check\n",
    "\n",
    "Let's investigate the phase blocks a bit, to check that they actually make sense.\n",
    "\n",
    "First let's look into the **phase block positions**.\n",
    "\n",
    "Below we see a histogram of the start position of phase blocks on chromosome 1 for four different samples.\n",
    "\n",
    "Note that with an exception of a region in the middle of the chromosome, the entire chromosome seems to be covered by phase blocks. Most likely, the gap in the middle is a \"dark spot\" in the genome assembly."
   ]
  },
  {
   "cell_type": "code",
   "execution_count": 14,
   "id": "aa88cca4-3376-438f-ac4c-98e8c49d6f8b",
   "metadata": {},
   "outputs": [
    {
     "data": {
      "text/html": [
       "\n",
       "\n",
       "\n",
       "\n",
       "\n",
       "\n",
       "  <div class=\"bk-root\" id=\"00e31ca1-d7e0-4c02-856c-9b6349856420\" data-root-id=\"1292\"></div>\n"
      ]
     },
     "metadata": {},
     "output_type": "display_data"
    },
    {
     "data": {
      "application/javascript": [
       "(function(root) {\n",
       "  function embed_document(root) {\n",
       "    \n",
       "  var docs_json = {\"39673560-815d-4b2c-bc51-3c5ccd2cff8d\":{\"roots\":{\"references\":[{\"attributes\":{\"children\":[{\"id\":\"1291\",\"type\":\"ToolbarBox\"},{\"id\":\"1289\",\"type\":\"GridBox\"}]},\"id\":\"1292\",\"type\":\"Column\"},{\"attributes\":{\"callback\":null},\"id\":\"1180\",\"type\":\"DataRange1d\"},{\"attributes\":{},\"id\":\"1223\",\"type\":\"LinearScale\"},{\"attributes\":{\"axis_label\":\"Frequency\",\"formatter\":{\"id\":\"1275\",\"type\":\"BasicTickFormatter\"},\"ticker\":{\"id\":\"1192\",\"type\":\"BasicTicker\"}},\"id\":\"1191\",\"type\":\"LinearAxis\"},{\"attributes\":{\"callback\":null},\"id\":\"1219\",\"type\":\"DataRange1d\"},{\"attributes\":{},\"id\":\"1148\",\"type\":\"BasicTicker\"},{\"attributes\":{},\"id\":\"1264\",\"type\":\"BasicTickFormatter\"},{\"attributes\":{},\"id\":\"1187\",\"type\":\"BasicTicker\"},{\"attributes\":{},\"id\":\"1221\",\"type\":\"LinearScale\"},{\"attributes\":{\"bottom\":{\"value\":0},\"fill_alpha\":{\"value\":0.1},\"fill_color\":{\"value\":\"#1f77b4\"},\"left\":{\"field\":\"left\"},\"line_alpha\":{\"value\":0.1},\"line_color\":{\"value\":\"#1f77b4\"},\"right\":{\"field\":\"right\"},\"top\":{\"field\":\"top\"}},\"id\":\"1211\",\"type\":\"Quad\"},{\"attributes\":{},\"id\":\"1184\",\"type\":\"LinearScale\"},{\"attributes\":{\"callback\":null,\"end\":261109290.4,\"start\":-12298622.4},\"id\":\"1217\",\"type\":\"Range1d\"},{\"attributes\":{\"ticker\":{\"id\":\"1187\",\"type\":\"BasicTicker\"}},\"id\":\"1190\",\"type\":\"Grid\"},{\"attributes\":{},\"id\":\"1273\",\"type\":\"BasicTickFormatter\"},{\"attributes\":{},\"id\":\"1192\",\"type\":\"BasicTicker\"},{\"attributes\":{\"background_fill_color\":{\"value\":\"#EEEEEE\"},\"below\":[{\"id\":\"1147\",\"type\":\"LinearAxis\"}],\"center\":[{\"id\":\"1151\",\"type\":\"Grid\"},{\"id\":\"1156\",\"type\":\"Grid\"}],\"left\":[{\"id\":\"1152\",\"type\":\"LinearAxis\"}],\"plot_height\":400,\"plot_width\":500,\"renderers\":[{\"id\":\"1173\",\"type\":\"GlyphRenderer\"}],\"title\":{\"id\":\"1137\",\"type\":\"Title\"},\"toolbar\":{\"id\":\"1163\",\"type\":\"Toolbar\"},\"toolbar_location\":null,\"x_range\":{\"id\":\"1139\",\"type\":\"Range1d\"},\"x_scale\":{\"id\":\"1143\",\"type\":\"LinearScale\"},\"y_range\":{\"id\":\"1141\",\"type\":\"DataRange1d\"},\"y_scale\":{\"id\":\"1145\",\"type\":\"LinearScale\"}},\"id\":\"1136\",\"subtype\":\"Figure\",\"type\":\"Plot\"},{\"attributes\":{},\"id\":\"1161\",\"type\":\"ResetTool\"},{\"attributes\":{},\"id\":\"1145\",\"type\":\"LinearScale\"},{\"attributes\":{\"ticker\":{\"id\":\"1226\",\"type\":\"BasicTicker\"}},\"id\":\"1229\",\"type\":\"Grid\"},{\"attributes\":{},\"id\":\"1157\",\"type\":\"PanTool\"},{\"attributes\":{\"overlay\":{\"id\":\"1269\",\"type\":\"BoxAnnotation\"}},\"id\":\"1159\",\"type\":\"BoxZoomTool\"},{\"attributes\":{\"background_fill_color\":{\"value\":\"#EEEEEE\"},\"below\":[{\"id\":\"1186\",\"type\":\"LinearAxis\"}],\"center\":[{\"id\":\"1190\",\"type\":\"Grid\"},{\"id\":\"1195\",\"type\":\"Grid\"}],\"left\":[{\"id\":\"1191\",\"type\":\"LinearAxis\"}],\"plot_height\":400,\"plot_width\":500,\"renderers\":[{\"id\":\"1212\",\"type\":\"GlyphRenderer\"}],\"title\":{\"id\":\"1176\",\"type\":\"Title\"},\"toolbar\":{\"id\":\"1202\",\"type\":\"Toolbar\"},\"toolbar_location\":null,\"x_range\":{\"id\":\"1178\",\"type\":\"Range1d\"},\"x_scale\":{\"id\":\"1182\",\"type\":\"LinearScale\"},\"y_range\":{\"id\":\"1180\",\"type\":\"DataRange1d\"},\"y_scale\":{\"id\":\"1184\",\"type\":\"LinearScale\"}},\"id\":\"1175\",\"subtype\":\"Figure\",\"type\":\"Plot\"},{\"attributes\":{\"dimension\":1,\"ticker\":{\"id\":\"1153\",\"type\":\"BasicTicker\"}},\"id\":\"1156\",\"type\":\"Grid\"},{\"attributes\":{},\"id\":\"1275\",\"type\":\"BasicTickFormatter\"},{\"attributes\":{\"active_drag\":\"auto\",\"active_inspect\":\"auto\",\"active_multi\":null,\"active_scroll\":\"auto\",\"active_tap\":\"auto\",\"tools\":[{\"id\":\"1157\",\"type\":\"PanTool\"},{\"id\":\"1158\",\"type\":\"WheelZoomTool\"},{\"id\":\"1159\",\"type\":\"BoxZoomTool\"},{\"id\":\"1160\",\"type\":\"SaveTool\"},{\"id\":\"1161\",\"type\":\"ResetTool\"},{\"id\":\"1162\",\"type\":\"HelpTool\"}]},\"id\":\"1163\",\"type\":\"Toolbar\"},{\"attributes\":{\"bottom_units\":\"screen\",\"fill_alpha\":{\"value\":0.5},\"fill_color\":{\"value\":\"lightgrey\"},\"left_units\":\"screen\",\"level\":\"overlay\",\"line_alpha\":{\"value\":1.0},\"line_color\":{\"value\":\"black\"},\"line_dash\":[4,4],\"line_width\":{\"value\":2},\"render_mode\":\"css\",\"right_units\":\"screen\",\"top_units\":\"screen\"},\"id\":\"1269\",\"type\":\"BoxAnnotation\"},{\"attributes\":{},\"id\":\"1277\",\"type\":\"Selection\"},{\"attributes\":{},\"id\":\"1153\",\"type\":\"BasicTicker\"},{\"attributes\":{\"bottom\":{\"value\":0},\"fill_alpha\":{\"value\":0.1},\"fill_color\":{\"value\":\"#1f77b4\"},\"left\":{\"field\":\"left\"},\"line_alpha\":{\"value\":0.1},\"line_color\":{\"value\":\"#1f77b4\"},\"right\":{\"field\":\"right\"},\"top\":{\"field\":\"top\"}},\"id\":\"1172\",\"type\":\"Quad\"},{\"attributes\":{\"axis_label\":\"Frequency\",\"formatter\":{\"id\":\"1266\",\"type\":\"BasicTickFormatter\"},\"ticker\":{\"id\":\"1153\",\"type\":\"BasicTicker\"}},\"id\":\"1152\",\"type\":\"LinearAxis\"},{\"attributes\":{},\"id\":\"1276\",\"type\":\"UnionRenderers\"},{\"attributes\":{},\"id\":\"1104\",\"type\":\"LinearScale\"},{\"attributes\":{\"formatter\":{\"id\":\"1273\",\"type\":\"BasicTickFormatter\"},\"ticker\":{\"id\":\"1187\",\"type\":\"BasicTicker\"}},\"id\":\"1186\",\"type\":\"LinearAxis\"},{\"attributes\":{},\"id\":\"1231\",\"type\":\"BasicTicker\"},{\"attributes\":{},\"id\":\"1106\",\"type\":\"LinearScale\"},{\"attributes\":{\"formatter\":{\"id\":\"1282\",\"type\":\"BasicTickFormatter\"},\"ticker\":{\"id\":\"1226\",\"type\":\"BasicTicker\"}},\"id\":\"1225\",\"type\":\"LinearAxis\"},{\"attributes\":{\"callback\":null,\"end\":261112246.05,\"start\":-12360691.05},\"id\":\"1178\",\"type\":\"Range1d\"},{\"attributes\":{\"axis_label\":\"Frequency\",\"formatter\":{\"id\":\"1284\",\"type\":\"BasicTickFormatter\"},\"ticker\":{\"id\":\"1231\",\"type\":\"BasicTicker\"}},\"id\":\"1230\",\"type\":\"LinearAxis\"},{\"attributes\":{},\"id\":\"1284\",\"type\":\"BasicTickFormatter\"},{\"attributes\":{\"formatter\":{\"id\":\"1264\",\"type\":\"BasicTickFormatter\"},\"ticker\":{\"id\":\"1148\",\"type\":\"BasicTicker\"}},\"id\":\"1147\",\"type\":\"LinearAxis\"},{\"attributes\":{},\"id\":\"1160\",\"type\":\"SaveTool\"},{\"attributes\":{\"source\":{\"id\":\"1248\",\"type\":\"ColumnDataSource\"}},\"id\":\"1252\",\"type\":\"CDSView\"},{\"attributes\":{\"bottom\":{\"value\":0},\"fill_alpha\":{\"value\":0.1},\"fill_color\":{\"value\":\"#1f77b4\"},\"left\":{\"field\":\"left\"},\"line_alpha\":{\"value\":0.1},\"line_color\":{\"value\":\"#1f77b4\"},\"right\":{\"field\":\"right\"},\"top\":{\"field\":\"top\"}},\"id\":\"1250\",\"type\":\"Quad\"},{\"attributes\":{\"data_source\":{\"id\":\"1248\",\"type\":\"ColumnDataSource\"},\"glyph\":{\"id\":\"1249\",\"type\":\"Quad\"},\"hover_glyph\":null,\"muted_glyph\":null,\"nonselection_glyph\":{\"id\":\"1250\",\"type\":\"Quad\"},\"selection_glyph\":null,\"view\":{\"id\":\"1252\",\"type\":\"CDSView\"}},\"id\":\"1251\",\"type\":\"GlyphRenderer\"},{\"attributes\":{},\"id\":\"1235\",\"type\":\"PanTool\"},{\"attributes\":{\"callback\":null,\"data\":{\"left\":[129010.0,5100062.96,10071115.92,15042168.879999999,20013221.84,24984274.8,29955327.759999998,34926380.72,39897433.68,44868486.64,49839539.6,54810592.56,59781645.519999996,64752698.48,69723751.44,74694804.4,79665857.36,84636910.32,89607963.28,94579016.24,99550069.2,104521122.16,109492175.12,114463228.08,119434281.03999999,124405334.0,129376386.96,134347439.92,139318492.88,144289545.84,149260598.8,154231651.76,159202704.72,164173757.68,169144810.64,174115863.6,179086916.56,184057969.52,189029022.48,194000075.44,198971128.4,203942181.35999998,208913234.32,213884287.28,218855340.24,223826393.2,228797446.16,233768499.12,238739552.07999998,243710605.04],\"right\":[5100062.96,10071115.92,15042168.879999999,20013221.84,24984274.8,29955327.759999998,34926380.72,39897433.68,44868486.64,49839539.6,54810592.56,59781645.519999996,64752698.48,69723751.44,74694804.4,79665857.36,84636910.32,89607963.28,94579016.24,99550069.2,104521122.16,109492175.12,114463228.08,119434281.03999999,124405334.0,129376386.96,134347439.92,139318492.88,144289545.84,149260598.8,154231651.76,159202704.72,164173757.68,169144810.64,174115863.6,179086916.56,184057969.52,189029022.48,194000075.44,198971128.4,203942181.35999998,208913234.32,213884287.28,218855340.24,223826393.2,228797446.16,233768499.12,238739552.07999998,243710605.04,248681658.0],\"top\":[19,18,23,31,32,26,22,15,26,10,22,10,12,14,5,17,4,21,6,4,14,8,21,13,9,0,0,0,0,18,23,30,23,18,23,7,21,9,4,10,24,35,14,11,14,24,16,19,9,28]},\"selected\":{\"id\":\"1286\",\"type\":\"Selection\"},\"selection_policy\":{\"id\":\"1285\",\"type\":\"UnionRenderers\"}},\"id\":\"1248\",\"type\":\"ColumnDataSource\"},{\"attributes\":{\"dimension\":1,\"ticker\":{\"id\":\"1231\",\"type\":\"BasicTicker\"}},\"id\":\"1234\",\"type\":\"Grid\"},{\"attributes\":{\"text\":\"FN000254\"},\"id\":\"1176\",\"type\":\"Title\"},{\"attributes\":{\"active_drag\":\"auto\",\"active_inspect\":\"auto\",\"active_multi\":null,\"active_scroll\":\"auto\",\"active_tap\":\"auto\",\"tools\":[{\"id\":\"1235\",\"type\":\"PanTool\"},{\"id\":\"1236\",\"type\":\"WheelZoomTool\"},{\"id\":\"1237\",\"type\":\"BoxZoomTool\"},{\"id\":\"1238\",\"type\":\"SaveTool\"},{\"id\":\"1239\",\"type\":\"ResetTool\"},{\"id\":\"1240\",\"type\":\"HelpTool\"}]},\"id\":\"1241\",\"type\":\"Toolbar\"},{\"attributes\":{\"background_fill_color\":{\"value\":\"#EEEEEE\"},\"below\":[{\"id\":\"1225\",\"type\":\"LinearAxis\"}],\"center\":[{\"id\":\"1229\",\"type\":\"Grid\"},{\"id\":\"1234\",\"type\":\"Grid\"}],\"left\":[{\"id\":\"1230\",\"type\":\"LinearAxis\"}],\"plot_height\":400,\"plot_width\":500,\"renderers\":[{\"id\":\"1251\",\"type\":\"GlyphRenderer\"}],\"title\":{\"id\":\"1215\",\"type\":\"Title\"},\"toolbar\":{\"id\":\"1241\",\"type\":\"Toolbar\"},\"toolbar_location\":null,\"x_range\":{\"id\":\"1217\",\"type\":\"Range1d\"},\"x_scale\":{\"id\":\"1221\",\"type\":\"LinearScale\"},\"y_range\":{\"id\":\"1219\",\"type\":\"DataRange1d\"},\"y_scale\":{\"id\":\"1223\",\"type\":\"LinearScale\"}},\"id\":\"1214\",\"subtype\":\"Figure\",\"type\":\"Plot\"},{\"attributes\":{},\"id\":\"1236\",\"type\":\"WheelZoomTool\"},{\"attributes\":{},\"id\":\"1182\",\"type\":\"LinearScale\"},{\"attributes\":{\"tools\":[{\"id\":\"1118\",\"type\":\"PanTool\"},{\"id\":\"1119\",\"type\":\"WheelZoomTool\"},{\"id\":\"1120\",\"type\":\"BoxZoomTool\"},{\"id\":\"1121\",\"type\":\"SaveTool\"},{\"id\":\"1122\",\"type\":\"ResetTool\"},{\"id\":\"1123\",\"type\":\"HelpTool\"},{\"id\":\"1157\",\"type\":\"PanTool\"},{\"id\":\"1158\",\"type\":\"WheelZoomTool\"},{\"id\":\"1159\",\"type\":\"BoxZoomTool\"},{\"id\":\"1160\",\"type\":\"SaveTool\"},{\"id\":\"1161\",\"type\":\"ResetTool\"},{\"id\":\"1162\",\"type\":\"HelpTool\"},{\"id\":\"1196\",\"type\":\"PanTool\"},{\"id\":\"1197\",\"type\":\"WheelZoomTool\"},{\"id\":\"1198\",\"type\":\"BoxZoomTool\"},{\"id\":\"1199\",\"type\":\"SaveTool\"},{\"id\":\"1200\",\"type\":\"ResetTool\"},{\"id\":\"1201\",\"type\":\"HelpTool\"},{\"id\":\"1235\",\"type\":\"PanTool\"},{\"id\":\"1236\",\"type\":\"WheelZoomTool\"},{\"id\":\"1237\",\"type\":\"BoxZoomTool\"},{\"id\":\"1238\",\"type\":\"SaveTool\"},{\"id\":\"1239\",\"type\":\"ResetTool\"},{\"id\":\"1240\",\"type\":\"HelpTool\"}]},\"id\":\"1290\",\"type\":\"ProxyToolbar\"},{\"attributes\":{\"overlay\":{\"id\":\"1287\",\"type\":\"BoxAnnotation\"}},\"id\":\"1237\",\"type\":\"BoxZoomTool\"},{\"attributes\":{},\"id\":\"1239\",\"type\":\"ResetTool\"},{\"attributes\":{\"callback\":null,\"data\":{\"left\":[69897.0,5042132.22,10014367.44,14986602.66,19958837.88,24931073.099999998,29903308.32,34875543.54,39847778.76,44820013.98,49792249.199999996,54764484.419999994,59736719.64,64708954.86,69681190.08,74653425.3,79625660.52,84597895.74,89570130.96,94542366.17999999,99514601.39999999,104486836.61999999,109459071.83999999,114431307.05999999,119403542.28,124375777.5,129348012.72,134320247.94,139292483.16,144264718.38,149236953.6,154209188.82,159181424.04,164153659.26,169125894.48,174098129.7,179070364.92,184042600.14,189014835.35999998,193987070.57999998,198959305.79999998,203931541.01999998,208903776.23999998,213876011.45999998,218848246.67999998,223820481.89999998,228792717.11999997,233764952.33999997,238737187.56,243709422.78],\"right\":[5042132.22,10014367.44,14986602.66,19958837.88,24931073.099999998,29903308.32,34875543.54,39847778.76,44820013.98,49792249.199999996,54764484.419999994,59736719.64,64708954.86,69681190.08,74653425.3,79625660.52,84597895.74,89570130.96,94542366.17999999,99514601.39999999,104486836.61999999,109459071.83999999,114431307.05999999,119403542.28,124375777.5,129348012.72,134320247.94,139292483.16,144264718.38,149236953.6,154209188.82,159181424.04,164153659.26,169125894.48,174098129.7,179070364.92,184042600.14,189014835.35999998,193987070.57999998,198959305.79999998,203931541.01999998,208903776.23999998,213876011.45999998,218848246.67999998,223820481.89999998,228792717.11999997,233764952.33999997,238737187.56,243709422.78,248681658.0],\"top\":[22,28,30,52,32,17,26,20,26,26,17,10,11,9,4,19,5,26,10,7,7,8,22,21,6,0,0,0,0,9,43,33,25,15,29,8,19,14,2,12,29,36,20,15,13,24,17,22,8,33]},\"selected\":{\"id\":\"1277\",\"type\":\"Selection\"},\"selection_policy\":{\"id\":\"1276\",\"type\":\"UnionRenderers\"}},\"id\":\"1209\",\"type\":\"ColumnDataSource\"},{\"attributes\":{},\"id\":\"1158\",\"type\":\"WheelZoomTool\"},{\"attributes\":{},\"id\":\"1267\",\"type\":\"UnionRenderers\"},{\"attributes\":{},\"id\":\"1240\",\"type\":\"HelpTool\"},{\"attributes\":{\"data_source\":{\"id\":\"1209\",\"type\":\"ColumnDataSource\"},\"glyph\":{\"id\":\"1210\",\"type\":\"Quad\"},\"hover_glyph\":null,\"muted_glyph\":null,\"nonselection_glyph\":{\"id\":\"1211\",\"type\":\"Quad\"},\"selection_glyph\":null,\"view\":{\"id\":\"1213\",\"type\":\"CDSView\"}},\"id\":\"1212\",\"type\":\"GlyphRenderer\"},{\"attributes\":{},\"id\":\"1226\",\"type\":\"BasicTicker\"},{\"attributes\":{},\"id\":\"1162\",\"type\":\"HelpTool\"},{\"attributes\":{\"ticker\":{\"id\":\"1148\",\"type\":\"BasicTicker\"}},\"id\":\"1151\",\"type\":\"Grid\"},{\"attributes\":{\"background_fill_color\":{\"value\":\"#EEEEEE\"},\"below\":[{\"id\":\"1108\",\"type\":\"LinearAxis\"}],\"center\":[{\"id\":\"1112\",\"type\":\"Grid\"},{\"id\":\"1117\",\"type\":\"Grid\"}],\"left\":[{\"id\":\"1113\",\"type\":\"LinearAxis\"}],\"plot_height\":400,\"plot_width\":500,\"renderers\":[{\"id\":\"1134\",\"type\":\"GlyphRenderer\"}],\"title\":{\"id\":\"1098\",\"type\":\"Title\"},\"toolbar\":{\"id\":\"1124\",\"type\":\"Toolbar\"},\"toolbar_location\":null,\"x_range\":{\"id\":\"1100\",\"type\":\"Range1d\"},\"x_scale\":{\"id\":\"1104\",\"type\":\"LinearScale\"},\"y_range\":{\"id\":\"1102\",\"type\":\"DataRange1d\"},\"y_scale\":{\"id\":\"1106\",\"type\":\"LinearScale\"}},\"id\":\"1097\",\"subtype\":\"Figure\",\"type\":\"Plot\"},{\"attributes\":{\"bottom\":{\"value\":0},\"fill_color\":{\"value\":\"#1f77b4\"},\"left\":{\"field\":\"left\"},\"right\":{\"field\":\"right\"},\"top\":{\"field\":\"top\"}},\"id\":\"1210\",\"type\":\"Quad\"},{\"attributes\":{\"dimension\":1,\"ticker\":{\"id\":\"1192\",\"type\":\"BasicTicker\"}},\"id\":\"1195\",\"type\":\"Grid\"},{\"attributes\":{},\"id\":\"1268\",\"type\":\"Selection\"},{\"attributes\":{},\"id\":\"1238\",\"type\":\"SaveTool\"},{\"attributes\":{},\"id\":\"1266\",\"type\":\"BasicTickFormatter\"},{\"attributes\":{\"text\":\"FN000182\"},\"id\":\"1215\",\"type\":\"Title\"},{\"attributes\":{\"callback\":null,\"end\":261291279.0,\"start\":-12429025.0},\"id\":\"1100\",\"type\":\"Range1d\"},{\"attributes\":{},\"id\":\"1257\",\"type\":\"BasicTickFormatter\"},{\"attributes\":{\"text\":\"FN000020\"},\"id\":\"1137\",\"type\":\"Title\"},{\"attributes\":{\"bottom_units\":\"screen\",\"fill_alpha\":{\"value\":0.5},\"fill_color\":{\"value\":\"lightgrey\"},\"left_units\":\"screen\",\"level\":\"overlay\",\"line_alpha\":{\"value\":1.0},\"line_color\":{\"value\":\"black\"},\"line_dash\":[4,4],\"line_width\":{\"value\":2},\"render_mode\":\"css\",\"right_units\":\"screen\",\"top_units\":\"screen\"},\"id\":\"1260\",\"type\":\"BoxAnnotation\"},{\"attributes\":{},\"id\":\"1255\",\"type\":\"BasicTickFormatter\"},{\"attributes\":{},\"id\":\"1123\",\"type\":\"HelpTool\"},{\"attributes\":{},\"id\":\"1109\",\"type\":\"BasicTicker\"},{\"attributes\":{\"callback\":null,\"data\":{\"left\":[69897.0,5035474.3,10001051.6,14966628.899999999,19932206.2,24897783.5,29863360.799999997,34828938.1,39794515.4,44760092.699999996,49725670.0,54691247.3,59656824.599999994,64622401.9,69587979.2,74553556.5,79519133.8,84484711.1,89450288.39999999,94415865.7,99381443.0,104347020.3,109312597.6,114278174.89999999,119243752.19999999,124209329.5,129174906.8,134140484.1,139106061.4,144071638.7,149037216.0,154002793.29999998,158968370.6,163933947.9,168899525.2,173865102.5,178830679.79999998,183796257.1,188761834.4,193727411.7,198692989.0,203658566.29999998,208624143.6,213589720.9,218555298.2,223520875.5,228486452.79999998,233452030.1,238417607.39999998,243383184.7],\"right\":[5035474.3,10001051.6,14966628.899999999,19932206.2,24897783.5,29863360.799999997,34828938.1,39794515.4,44760092.699999996,49725670.0,54691247.3,59656824.599999994,64622401.9,69587979.2,74553556.5,79519133.8,84484711.1,89450288.39999999,94415865.7,99381443.0,104347020.3,109312597.6,114278174.89999999,119243752.19999999,124209329.5,129174906.8,134140484.1,139106061.4,144071638.7,149037216.0,154002793.29999998,158968370.6,163933947.9,168899525.2,173865102.5,178830679.79999998,183796257.1,188761834.4,193727411.7,198692989.0,203658566.29999998,208624143.6,213589720.9,218555298.2,223520875.5,228486452.79999998,233452030.1,238417607.39999998,243383184.7,248348762.0],\"top\":[37,8,24,51,47,28,11,21,37,23,18,11,13,13,5,10,2,19,18,2,7,5,34,9,11,0,0,0,0,6,33,44,36,23,25,13,18,12,2,11,30,40,19,12,9,28,22,22,6,23]},\"selected\":{\"id\":\"1268\",\"type\":\"Selection\"},\"selection_policy\":{\"id\":\"1267\",\"type\":\"UnionRenderers\"}},\"id\":\"1170\",\"type\":\"ColumnDataSource\"},{\"attributes\":{},\"id\":\"1285\",\"type\":\"UnionRenderers\"},{\"attributes\":{\"text\":\"FN001485\"},\"id\":\"1098\",\"type\":\"Title\"},{\"attributes\":{\"source\":{\"id\":\"1170\",\"type\":\"ColumnDataSource\"}},\"id\":\"1174\",\"type\":\"CDSView\"},{\"attributes\":{\"data_source\":{\"id\":\"1170\",\"type\":\"ColumnDataSource\"},\"glyph\":{\"id\":\"1171\",\"type\":\"Quad\"},\"hover_glyph\":null,\"muted_glyph\":null,\"nonselection_glyph\":{\"id\":\"1172\",\"type\":\"Quad\"},\"selection_glyph\":null,\"view\":{\"id\":\"1174\",\"type\":\"CDSView\"}},\"id\":\"1173\",\"type\":\"GlyphRenderer\"},{\"attributes\":{},\"id\":\"1196\",\"type\":\"PanTool\"},{\"attributes\":{\"bottom\":{\"value\":0},\"fill_alpha\":{\"value\":0.1},\"fill_color\":{\"value\":\"#1f77b4\"},\"left\":{\"field\":\"left\"},\"line_alpha\":{\"value\":0.1},\"line_color\":{\"value\":\"#1f77b4\"},\"right\":{\"field\":\"right\"},\"top\":{\"field\":\"top\"}},\"id\":\"1133\",\"type\":\"Quad\"},{\"attributes\":{\"bottom\":{\"value\":0},\"fill_color\":{\"value\":\"#1f77b4\"},\"left\":{\"field\":\"left\"},\"right\":{\"field\":\"right\"},\"top\":{\"field\":\"top\"}},\"id\":\"1132\",\"type\":\"Quad\"},{\"attributes\":{\"bottom\":{\"value\":0},\"fill_color\":{\"value\":\"#1f77b4\"},\"left\":{\"field\":\"left\"},\"right\":{\"field\":\"right\"},\"top\":{\"field\":\"top\"}},\"id\":\"1249\",\"type\":\"Quad\"},{\"attributes\":{},\"id\":\"1122\",\"type\":\"ResetTool\"},{\"attributes\":{},\"id\":\"1259\",\"type\":\"Selection\"},{\"attributes\":{},\"id\":\"1258\",\"type\":\"UnionRenderers\"},{\"attributes\":{\"active_drag\":\"auto\",\"active_inspect\":\"auto\",\"active_multi\":null,\"active_scroll\":\"auto\",\"active_tap\":\"auto\",\"tools\":[{\"id\":\"1118\",\"type\":\"PanTool\"},{\"id\":\"1119\",\"type\":\"WheelZoomTool\"},{\"id\":\"1120\",\"type\":\"BoxZoomTool\"},{\"id\":\"1121\",\"type\":\"SaveTool\"},{\"id\":\"1122\",\"type\":\"ResetTool\"},{\"id\":\"1123\",\"type\":\"HelpTool\"}]},\"id\":\"1124\",\"type\":\"Toolbar\"},{\"attributes\":{},\"id\":\"1118\",\"type\":\"PanTool\"},{\"attributes\":{\"dimension\":1,\"ticker\":{\"id\":\"1114\",\"type\":\"BasicTicker\"}},\"id\":\"1117\",\"type\":\"Grid\"},{\"attributes\":{\"bottom\":{\"value\":0},\"fill_color\":{\"value\":\"#1f77b4\"},\"left\":{\"field\":\"left\"},\"right\":{\"field\":\"right\"},\"top\":{\"field\":\"top\"}},\"id\":\"1171\",\"type\":\"Quad\"},{\"attributes\":{},\"id\":\"1197\",\"type\":\"WheelZoomTool\"},{\"attributes\":{\"callback\":null},\"id\":\"1102\",\"type\":\"DataRange1d\"},{\"attributes\":{},\"id\":\"1114\",\"type\":\"BasicTicker\"},{\"attributes\":{},\"id\":\"1201\",\"type\":\"HelpTool\"},{\"attributes\":{},\"id\":\"1143\",\"type\":\"LinearScale\"},{\"attributes\":{},\"id\":\"1200\",\"type\":\"ResetTool\"},{\"attributes\":{\"axis_label\":\"Frequency\",\"formatter\":{\"id\":\"1257\",\"type\":\"BasicTickFormatter\"},\"ticker\":{\"id\":\"1114\",\"type\":\"BasicTicker\"}},\"id\":\"1113\",\"type\":\"LinearAxis\"},{\"attributes\":{\"data_source\":{\"id\":\"1131\",\"type\":\"ColumnDataSource\"},\"glyph\":{\"id\":\"1132\",\"type\":\"Quad\"},\"hover_glyph\":null,\"muted_glyph\":null,\"nonselection_glyph\":{\"id\":\"1133\",\"type\":\"Quad\"},\"selection_glyph\":null,\"view\":{\"id\":\"1135\",\"type\":\"CDSView\"}},\"id\":\"1134\",\"type\":\"GlyphRenderer\"},{\"attributes\":{},\"id\":\"1121\",\"type\":\"SaveTool\"},{\"attributes\":{\"callback\":null},\"id\":\"1141\",\"type\":\"DataRange1d\"},{\"attributes\":{\"overlay\":{\"id\":\"1260\",\"type\":\"BoxAnnotation\"}},\"id\":\"1120\",\"type\":\"BoxZoomTool\"},{\"attributes\":{\"source\":{\"id\":\"1209\",\"type\":\"ColumnDataSource\"}},\"id\":\"1213\",\"type\":\"CDSView\"},{\"attributes\":{},\"id\":\"1199\",\"type\":\"SaveTool\"},{\"attributes\":{\"source\":{\"id\":\"1131\",\"type\":\"ColumnDataSource\"}},\"id\":\"1135\",\"type\":\"CDSView\"},{\"attributes\":{\"callback\":null,\"end\":260762705.25,\"start\":-12344046.25},\"id\":\"1139\",\"type\":\"Range1d\"},{\"attributes\":{\"toolbar\":{\"id\":\"1290\",\"type\":\"ProxyToolbar\"},\"toolbar_location\":\"above\"},\"id\":\"1291\",\"type\":\"ToolbarBox\"},{\"attributes\":{},\"id\":\"1119\",\"type\":\"WheelZoomTool\"},{\"attributes\":{},\"id\":\"1282\",\"type\":\"BasicTickFormatter\"},{\"attributes\":{\"callback\":null,\"data\":{\"left\":[12807.0,4989539.8,9966272.6,14943005.399999999,19919738.2,24896471.0,29873203.799999997,34849936.6,39826669.4,44803402.199999996,49780135.0,54756867.8,59733600.599999994,64710333.4,69687066.2,74663799.0,79640531.8,84617264.6,89593997.39999999,94570730.2,99547463.0,104524195.8,109500928.6,114477661.39999999,119454394.19999999,124431127.0,129407859.8,134384592.6,139361325.4,144338058.2,149314791.0,154291523.79999998,159268256.6,164244989.4,169221722.2,174198455.0,179175187.79999998,184151920.6,189128653.4,194105386.2,199082119.0,204058851.79999998,209035584.6,214012317.4,218989050.2,223965783.0,228942515.79999998,233919248.6,238895981.39999998,243872714.2],\"right\":[4989539.8,9966272.6,14943005.399999999,19919738.2,24896471.0,29873203.799999997,34849936.6,39826669.4,44803402.199999996,49780135.0,54756867.8,59733600.599999994,64710333.4,69687066.2,74663799.0,79640531.8,84617264.6,89593997.39999999,94570730.2,99547463.0,104524195.8,109500928.6,114477661.39999999,119454394.19999999,124431127.0,129407859.8,134384592.6,139361325.4,144338058.2,149314791.0,154291523.79999998,159268256.6,164244989.4,169221722.2,174198455.0,179175187.79999998,184151920.6,189128653.4,194105386.2,199082119.0,204058851.79999998,209035584.6,214012317.4,218989050.2,223965783.0,228942515.79999998,233919248.6,238895981.39999998,243872714.2,248849447.0],\"top\":[26,21,25,35,28,27,22,19,21,21,12,7,14,13,7,16,4,24,12,10,6,8,21,19,5,0,0,0,2,14,25,37,23,20,20,10,21,7,3,11,24,24,19,14,10,28,15,17,8,36]},\"selected\":{\"id\":\"1259\",\"type\":\"Selection\"},\"selection_policy\":{\"id\":\"1258\",\"type\":\"UnionRenderers\"}},\"id\":\"1131\",\"type\":\"ColumnDataSource\"},{\"attributes\":{},\"id\":\"1286\",\"type\":\"Selection\"},{\"attributes\":{\"bottom_units\":\"screen\",\"fill_alpha\":{\"value\":0.5},\"fill_color\":{\"value\":\"lightgrey\"},\"left_units\":\"screen\",\"level\":\"overlay\",\"line_alpha\":{\"value\":1.0},\"line_color\":{\"value\":\"black\"},\"line_dash\":[4,4],\"line_width\":{\"value\":2},\"render_mode\":\"css\",\"right_units\":\"screen\",\"top_units\":\"screen\"},\"id\":\"1278\",\"type\":\"BoxAnnotation\"},{\"attributes\":{\"overlay\":{\"id\":\"1278\",\"type\":\"BoxAnnotation\"}},\"id\":\"1198\",\"type\":\"BoxZoomTool\"},{\"attributes\":{\"formatter\":{\"id\":\"1255\",\"type\":\"BasicTickFormatter\"},\"ticker\":{\"id\":\"1109\",\"type\":\"BasicTicker\"}},\"id\":\"1108\",\"type\":\"LinearAxis\"},{\"attributes\":{\"children\":[[{\"id\":\"1097\",\"subtype\":\"Figure\",\"type\":\"Plot\"},0,0],[{\"id\":\"1136\",\"subtype\":\"Figure\",\"type\":\"Plot\"},0,1],[{\"id\":\"1175\",\"subtype\":\"Figure\",\"type\":\"Plot\"},1,0],[{\"id\":\"1214\",\"subtype\":\"Figure\",\"type\":\"Plot\"},1,1]]},\"id\":\"1289\",\"type\":\"GridBox\"},{\"attributes\":{\"bottom_units\":\"screen\",\"fill_alpha\":{\"value\":0.5},\"fill_color\":{\"value\":\"lightgrey\"},\"left_units\":\"screen\",\"level\":\"overlay\",\"line_alpha\":{\"value\":1.0},\"line_color\":{\"value\":\"black\"},\"line_dash\":[4,4],\"line_width\":{\"value\":2},\"render_mode\":\"css\",\"right_units\":\"screen\",\"top_units\":\"screen\"},\"id\":\"1287\",\"type\":\"BoxAnnotation\"},{\"attributes\":{\"active_drag\":\"auto\",\"active_inspect\":\"auto\",\"active_multi\":null,\"active_scroll\":\"auto\",\"active_tap\":\"auto\",\"tools\":[{\"id\":\"1196\",\"type\":\"PanTool\"},{\"id\":\"1197\",\"type\":\"WheelZoomTool\"},{\"id\":\"1198\",\"type\":\"BoxZoomTool\"},{\"id\":\"1199\",\"type\":\"SaveTool\"},{\"id\":\"1200\",\"type\":\"ResetTool\"},{\"id\":\"1201\",\"type\":\"HelpTool\"}]},\"id\":\"1202\",\"type\":\"Toolbar\"},{\"attributes\":{\"ticker\":{\"id\":\"1109\",\"type\":\"BasicTicker\"}},\"id\":\"1112\",\"type\":\"Grid\"}],\"root_ids\":[\"1292\"]},\"title\":\"Bokeh Application\",\"version\":\"1.2.0\"}};\n",
       "  var render_items = [{\"docid\":\"39673560-815d-4b2c-bc51-3c5ccd2cff8d\",\"roots\":{\"1292\":\"00e31ca1-d7e0-4c02-856c-9b6349856420\"}}];\n",
       "  root.Bokeh.embed.embed_items_notebook(docs_json, render_items);\n",
       "\n",
       "  }\n",
       "  if (root.Bokeh !== undefined) {\n",
       "    embed_document(root);\n",
       "  } else {\n",
       "    var attempts = 0;\n",
       "    var timer = setInterval(function(root) {\n",
       "      if (root.Bokeh !== undefined) {\n",
       "        embed_document(root);\n",
       "        clearInterval(timer);\n",
       "      }\n",
       "      attempts++;\n",
       "      if (attempts > 100) {\n",
       "        console.log(\"Bokeh: ERROR: Unable to run BokehJS code because BokehJS library is missing\");\n",
       "        clearInterval(timer);\n",
       "      }\n",
       "    }, 10, root)\n",
       "  }\n",
       "})(window);"
      ],
      "application/vnd.bokehjs_exec.v0+json": ""
     },
     "metadata": {
      "application/vnd.bokehjs_exec.v0+json": {
       "id": "1292"
      }
     },
     "output_type": "display_data"
    }
   ],
   "source": [
    "plot_list = []\n",
    "for sample in ['FN001485', 'FN000020', 'FN000254', 'FN000182']:\n",
    "    temp = ps_stats_ht.filter((ps_stats_ht.sample_group == sample) & (ps_stats_ht.chrom_group == 'chr1'))\n",
    "    p = hl.plot.histogram(temp.ps_start, title=sample)\n",
    "    plot_list.append(p)\n",
    "show(gridplot(plot_list, ncols=2, plot_width=500, plot_height=400))"
   ]
  },
  {
   "cell_type": "markdown",
   "id": "d8c86a68-89e2-48a8-bde0-a330dc6a259e",
   "metadata": {},
   "source": [
    "We make a similar plot for the phase block stop positions."
   ]
  },
  {
   "cell_type": "code",
   "execution_count": 15,
   "id": "9b882197-60a6-4c5e-af22-f925e44a963e",
   "metadata": {},
   "outputs": [
    {
     "data": {
      "text/html": [
       "\n",
       "\n",
       "\n",
       "\n",
       "\n",
       "\n",
       "  <div class=\"bk-root\" id=\"bfa43150-2b11-4b2e-b948-ab55ec137c86\" data-root-id=\"1720\"></div>\n"
      ]
     },
     "metadata": {},
     "output_type": "display_data"
    },
    {
     "data": {
      "application/javascript": [
       "(function(root) {\n",
       "  function embed_document(root) {\n",
       "    \n",
       "  var docs_json = {\"b4789e19-4e07-4106-b530-655cb0ebdb13\":{\"roots\":{\"references\":[{\"attributes\":{\"children\":[{\"id\":\"1719\",\"type\":\"ToolbarBox\"},{\"id\":\"1717\",\"type\":\"GridBox\"}]},\"id\":\"1720\",\"type\":\"Column\"},{\"attributes\":{\"source\":{\"id\":\"1676\",\"type\":\"ColumnDataSource\"}},\"id\":\"1680\",\"type\":\"CDSView\"},{\"attributes\":{\"overlay\":{\"id\":\"1688\",\"type\":\"BoxAnnotation\"}},\"id\":\"1548\",\"type\":\"BoxZoomTool\"},{\"attributes\":{},\"id\":\"1663\",\"type\":\"PanTool\"},{\"attributes\":{},\"id\":\"1668\",\"type\":\"HelpTool\"},{\"attributes\":{\"bottom\":{\"value\":0},\"fill_alpha\":{\"value\":0.1},\"fill_color\":{\"value\":\"#1f77b4\"},\"left\":{\"field\":\"left\"},\"line_alpha\":{\"value\":0.1},\"line_color\":{\"value\":\"#1f77b4\"},\"right\":{\"field\":\"right\"},\"top\":{\"field\":\"top\"}},\"id\":\"1561\",\"type\":\"Quad\"},{\"attributes\":{},\"id\":\"1664\",\"type\":\"WheelZoomTool\"},{\"attributes\":{\"active_drag\":\"auto\",\"active_inspect\":\"auto\",\"active_multi\":null,\"active_scroll\":\"auto\",\"active_tap\":\"auto\",\"tools\":[{\"id\":\"1546\",\"type\":\"PanTool\"},{\"id\":\"1547\",\"type\":\"WheelZoomTool\"},{\"id\":\"1548\",\"type\":\"BoxZoomTool\"},{\"id\":\"1549\",\"type\":\"SaveTool\"},{\"id\":\"1550\",\"type\":\"ResetTool\"},{\"id\":\"1551\",\"type\":\"HelpTool\"}]},\"id\":\"1552\",\"type\":\"Toolbar\"},{\"attributes\":{},\"id\":\"1550\",\"type\":\"ResetTool\"},{\"attributes\":{},\"id\":\"1547\",\"type\":\"WheelZoomTool\"},{\"attributes\":{},\"id\":\"1667\",\"type\":\"ResetTool\"},{\"attributes\":{},\"id\":\"1666\",\"type\":\"SaveTool\"},{\"attributes\":{},\"id\":\"1549\",\"type\":\"SaveTool\"},{\"attributes\":{\"overlay\":{\"id\":\"1715\",\"type\":\"BoxAnnotation\"}},\"id\":\"1665\",\"type\":\"BoxZoomTool\"},{\"attributes\":{\"callback\":null},\"id\":\"1530\",\"type\":\"DataRange1d\"},{\"attributes\":{},\"id\":\"1571\",\"type\":\"LinearScale\"},{\"attributes\":{},\"id\":\"1694\",\"type\":\"BasicTickFormatter\"},{\"attributes\":{\"active_drag\":\"auto\",\"active_inspect\":\"auto\",\"active_multi\":null,\"active_scroll\":\"auto\",\"active_tap\":\"auto\",\"tools\":[{\"id\":\"1663\",\"type\":\"PanTool\"},{\"id\":\"1664\",\"type\":\"WheelZoomTool\"},{\"id\":\"1665\",\"type\":\"BoxZoomTool\"},{\"id\":\"1666\",\"type\":\"SaveTool\"},{\"id\":\"1667\",\"type\":\"ResetTool\"},{\"id\":\"1668\",\"type\":\"HelpTool\"}]},\"id\":\"1669\",\"type\":\"Toolbar\"},{\"attributes\":{\"source\":{\"id\":\"1559\",\"type\":\"ColumnDataSource\"}},\"id\":\"1563\",\"type\":\"CDSView\"},{\"attributes\":{},\"id\":\"1546\",\"type\":\"PanTool\"},{\"attributes\":{},\"id\":\"1551\",\"type\":\"HelpTool\"},{\"attributes\":{},\"id\":\"1712\",\"type\":\"BasicTickFormatter\"},{\"attributes\":{\"bottom_units\":\"screen\",\"fill_alpha\":{\"value\":0.5},\"fill_color\":{\"value\":\"lightgrey\"},\"left_units\":\"screen\",\"level\":\"overlay\",\"line_alpha\":{\"value\":1.0},\"line_color\":{\"value\":\"black\"},\"line_dash\":[4,4],\"line_width\":{\"value\":2},\"render_mode\":\"css\",\"right_units\":\"screen\",\"top_units\":\"screen\"},\"id\":\"1715\",\"type\":\"BoxAnnotation\"},{\"attributes\":{\"callback\":null,\"end\":261333685.7,\"start\":-11397007.700000001},\"id\":\"1567\",\"type\":\"Range1d\"},{\"attributes\":{\"callback\":null,\"data\":{\"left\":[12807.0,4991287.58,9969768.16,14948248.74,19926729.32,24905209.9,29883690.48,34862171.06,39840651.64,44819132.22,49797612.8,54776093.38,59754573.96,64733054.54,69711535.12,74690015.7,79668496.28,84646976.86,89625457.44,94603938.02,99582418.6,104560899.18,109539379.76,114517860.34,119496340.92,124474821.5,129453302.08,134431782.66,139410263.24,144388743.82,149367224.4,154345704.98,159324185.56,164302666.14000002,169281146.72,174259627.3,179238107.88,184216588.46,189195069.04,194173549.62,199152030.2,204130510.78,209108991.36,214087471.94,219065952.52,224044433.1,229022913.68,234001394.26,238979874.84,243958355.42000002],\"right\":[4991287.58,9969768.16,14948248.74,19926729.32,24905209.9,29883690.48,34862171.06,39840651.64,44819132.22,49797612.8,54776093.38,59754573.96,64733054.54,69711535.12,74690015.7,79668496.28,84646976.86,89625457.44,94603938.02,99582418.6,104560899.18,109539379.76,114517860.34,119496340.92,124474821.5,129453302.08,134431782.66,139410263.24,144388743.82,149367224.4,154345704.98,159324185.56,164302666.14000002,169281146.72,174259627.3,179238107.88,184216588.46,189195069.04,194173549.62,199152030.2,204130510.78,209108991.36,214087471.94,219065952.52,224044433.1,229022913.68,234001394.26,238979874.84,243958355.42000002,248936836.0],\"top\":[25,21,25,35,28,27,22,19,21,21,11,8,14,13,7,16,4,24,12,10,6,8,21,19,5,0,0,0,2,14,25,37,23,20,20,10,21,7,3,11,24,24,19,14,10,28,15,17,8,37]},\"selected\":{\"id\":\"1687\",\"type\":\"Selection\"},\"selection_policy\":{\"id\":\"1686\",\"type\":\"UnionRenderers\"}},\"id\":\"1559\",\"type\":\"ColumnDataSource\"},{\"attributes\":{},\"id\":\"1713\",\"type\":\"UnionRenderers\"},{\"attributes\":{\"text\":\"FN001485\"},\"id\":\"1526\",\"type\":\"Title\"},{\"attributes\":{},\"id\":\"1710\",\"type\":\"BasicTickFormatter\"},{\"attributes\":{},\"id\":\"1714\",\"type\":\"Selection\"},{\"attributes\":{\"toolbar\":{\"id\":\"1718\",\"type\":\"ProxyToolbar\"},\"toolbar_location\":\"above\"},\"id\":\"1719\",\"type\":\"ToolbarBox\"},{\"attributes\":{\"data_source\":{\"id\":\"1559\",\"type\":\"ColumnDataSource\"},\"glyph\":{\"id\":\"1560\",\"type\":\"Quad\"},\"hover_glyph\":null,\"muted_glyph\":null,\"nonselection_glyph\":{\"id\":\"1561\",\"type\":\"Quad\"},\"selection_glyph\":null,\"view\":{\"id\":\"1563\",\"type\":\"CDSView\"}},\"id\":\"1562\",\"type\":\"GlyphRenderer\"},{\"attributes\":{},\"id\":\"1532\",\"type\":\"LinearScale\"},{\"attributes\":{\"formatter\":{\"id\":\"1692\",\"type\":\"BasicTickFormatter\"},\"ticker\":{\"id\":\"1576\",\"type\":\"BasicTicker\"}},\"id\":\"1575\",\"type\":\"LinearAxis\"},{\"attributes\":{\"bottom\":{\"value\":0},\"fill_alpha\":{\"value\":0.1},\"fill_color\":{\"value\":\"#1f77b4\"},\"left\":{\"field\":\"left\"},\"line_alpha\":{\"value\":0.1},\"line_color\":{\"value\":\"#1f77b4\"},\"right\":{\"field\":\"right\"},\"top\":{\"field\":\"top\"}},\"id\":\"1678\",\"type\":\"Quad\"},{\"attributes\":{\"formatter\":{\"id\":\"1683\",\"type\":\"BasicTickFormatter\"},\"ticker\":{\"id\":\"1537\",\"type\":\"BasicTicker\"}},\"id\":\"1536\",\"type\":\"LinearAxis\"},{\"attributes\":{},\"id\":\"1695\",\"type\":\"UnionRenderers\"},{\"attributes\":{},\"id\":\"1696\",\"type\":\"Selection\"},{\"attributes\":{\"callback\":null,\"end\":261383037.45,\"start\":-12433394.450000001},\"id\":\"1528\",\"type\":\"Range1d\"},{\"attributes\":{\"bottom_units\":\"screen\",\"fill_alpha\":{\"value\":0.5},\"fill_color\":{\"value\":\"lightgrey\"},\"left_units\":\"screen\",\"level\":\"overlay\",\"line_alpha\":{\"value\":1.0},\"line_color\":{\"value\":\"black\"},\"line_dash\":[4,4],\"line_width\":{\"value\":2},\"render_mode\":\"css\",\"right_units\":\"screen\",\"top_units\":\"screen\"},\"id\":\"1697\",\"type\":\"BoxAnnotation\"},{\"attributes\":{},\"id\":\"1703\",\"type\":\"BasicTickFormatter\"},{\"attributes\":{\"bottom\":{\"value\":0},\"fill_color\":{\"value\":\"#1f77b4\"},\"left\":{\"field\":\"left\"},\"right\":{\"field\":\"right\"},\"top\":{\"field\":\"top\"}},\"id\":\"1599\",\"type\":\"Quad\"},{\"attributes\":{\"bottom\":{\"value\":0},\"fill_color\":{\"value\":\"#1f77b4\"},\"left\":{\"field\":\"left\"},\"right\":{\"field\":\"right\"},\"top\":{\"field\":\"top\"}},\"id\":\"1560\",\"type\":\"Quad\"},{\"attributes\":{},\"id\":\"1704\",\"type\":\"UnionRenderers\"},{\"attributes\":{},\"id\":\"1701\",\"type\":\"BasicTickFormatter\"},{\"attributes\":{},\"id\":\"1576\",\"type\":\"BasicTicker\"},{\"attributes\":{},\"id\":\"1573\",\"type\":\"LinearScale\"},{\"attributes\":{\"text\":\"FN000020\"},\"id\":\"1565\",\"type\":\"Title\"},{\"attributes\":{\"data_source\":{\"id\":\"1676\",\"type\":\"ColumnDataSource\"},\"glyph\":{\"id\":\"1677\",\"type\":\"Quad\"},\"hover_glyph\":null,\"muted_glyph\":null,\"nonselection_glyph\":{\"id\":\"1678\",\"type\":\"Quad\"},\"selection_glyph\":null,\"view\":{\"id\":\"1680\",\"type\":\"CDSView\"}},\"id\":\"1679\",\"type\":\"GlyphRenderer\"},{\"attributes\":{\"background_fill_color\":{\"value\":\"#EEEEEE\"},\"below\":[{\"id\":\"1536\",\"type\":\"LinearAxis\"}],\"center\":[{\"id\":\"1540\",\"type\":\"Grid\"},{\"id\":\"1545\",\"type\":\"Grid\"}],\"left\":[{\"id\":\"1541\",\"type\":\"LinearAxis\"}],\"plot_height\":400,\"plot_width\":500,\"renderers\":[{\"id\":\"1562\",\"type\":\"GlyphRenderer\"}],\"title\":{\"id\":\"1526\",\"type\":\"Title\"},\"toolbar\":{\"id\":\"1552\",\"type\":\"Toolbar\"},\"toolbar_location\":null,\"x_range\":{\"id\":\"1528\",\"type\":\"Range1d\"},\"x_scale\":{\"id\":\"1532\",\"type\":\"LinearScale\"},\"y_range\":{\"id\":\"1530\",\"type\":\"DataRange1d\"},\"y_scale\":{\"id\":\"1534\",\"type\":\"LinearScale\"}},\"id\":\"1525\",\"subtype\":\"Figure\",\"type\":\"Plot\"},{\"attributes\":{},\"id\":\"1705\",\"type\":\"Selection\"},{\"attributes\":{\"callback\":null},\"id\":\"1569\",\"type\":\"DataRange1d\"},{\"attributes\":{},\"id\":\"1534\",\"type\":\"LinearScale\"},{\"attributes\":{\"bottom_units\":\"screen\",\"fill_alpha\":{\"value\":0.5},\"fill_color\":{\"value\":\"lightgrey\"},\"left_units\":\"screen\",\"level\":\"overlay\",\"line_alpha\":{\"value\":1.0},\"line_color\":{\"value\":\"black\"},\"line_dash\":[4,4],\"line_width\":{\"value\":2},\"render_mode\":\"css\",\"right_units\":\"screen\",\"top_units\":\"screen\"},\"id\":\"1706\",\"type\":\"BoxAnnotation\"},{\"attributes\":{\"text\":\"FN000254\"},\"id\":\"1604\",\"type\":\"Title\"},{\"attributes\":{\"axis_label\":\"Frequency\",\"formatter\":{\"id\":\"1712\",\"type\":\"BasicTickFormatter\"},\"ticker\":{\"id\":\"1659\",\"type\":\"BasicTicker\"}},\"id\":\"1658\",\"type\":\"LinearAxis\"},{\"attributes\":{\"bottom\":{\"value\":0},\"fill_alpha\":{\"value\":0.1},\"fill_color\":{\"value\":\"#1f77b4\"},\"left\":{\"field\":\"left\"},\"line_alpha\":{\"value\":0.1},\"line_color\":{\"value\":\"#1f77b4\"},\"right\":{\"field\":\"right\"},\"top\":{\"field\":\"top\"}},\"id\":\"1600\",\"type\":\"Quad\"},{\"attributes\":{\"callback\":null,\"end\":261316195.0,\"start\":-11423569.0},\"id\":\"1606\",\"type\":\"Range1d\"},{\"attributes\":{\"ticker\":{\"id\":\"1654\",\"type\":\"BasicTicker\"}},\"id\":\"1657\",\"type\":\"Grid\"},{\"attributes\":{\"callback\":null,\"data\":{\"left\":[1197697.0,6150077.2,11102457.4,16054837.600000001,21007217.8,25959598.0,30911978.200000003,35864358.4,40816738.6,45769118.800000004,50721499.0,55673879.2,60626259.400000006,65578639.6,70531019.8,75483400.0,80435780.2,85388160.4,90340540.60000001,95292920.8,100245301.0,105197681.2,110150061.4,115102441.60000001,120054821.80000001,125007202.0,129959582.2,134911962.4,139864342.6,144816722.8,149769103.0,154721483.20000002,159673863.4,164626243.6,169578623.8,174531004.0,179483384.20000002,184435764.4,189388144.6,194340524.8,199292905.0,204245285.20000002,209197665.4,214150045.6,219102425.8,224054806.0,229007186.20000002,233959566.4,238911946.60000002,243864326.8],\"right\":[6150077.2,11102457.4,16054837.600000001,21007217.8,25959598.0,30911978.200000003,35864358.4,40816738.6,45769118.800000004,50721499.0,55673879.2,60626259.400000006,65578639.6,70531019.8,75483400.0,80435780.2,85388160.4,90340540.60000001,95292920.8,100245301.0,105197681.2,110150061.4,115102441.60000001,120054821.80000001,125007202.0,129959582.2,134911962.4,139864342.6,144816722.8,149769103.0,154721483.20000002,159673863.4,164626243.6,169578623.8,174531004.0,179483384.20000002,184435764.4,189388144.6,194340524.8,199292905.0,204245285.20000002,209197665.4,214150045.6,219102425.8,224054806.0,229007186.20000002,233959566.4,238911946.60000002,243864326.8,248816707.0],\"top\":[21,23,27,29,26,23,21,19,23,9,25,7,14,12,7,15,7,19,9,3,11,12,19,15,5,0,0,0,1,17,28,27,22,19,21,9,19,9,4,10,28,31,15,10,14,24,17,18,9,29]},\"selected\":{\"id\":\"1714\",\"type\":\"Selection\"},\"selection_policy\":{\"id\":\"1713\",\"type\":\"UnionRenderers\"}},\"id\":\"1676\",\"type\":\"ColumnDataSource\"},{\"attributes\":{\"callback\":null,\"data\":{\"left\":[999842.0,5958581.88,10917321.76,15876061.64,20834801.52,25793541.4,30752281.28,35711021.16,40669761.04,45628500.92,50587240.8,55545980.68,60504720.56,65463460.44,70422200.32,75380940.2,80339680.08,85298419.96,90257159.84,95215899.72,100174639.6,105133379.48,110092119.36,115050859.24,120009599.12,124968339.0,129927078.88,134885818.76,139844558.64,144803298.52,149762038.4,154720778.28,159679518.16,164638258.04,169596997.92,174555737.79999998,179514477.68,184473217.56,189431957.44,194390697.32,199349437.2,204308177.07999998,209266916.96,214225656.84,219184396.72,224143136.6,229101876.48,234060616.35999998,239019356.24,243978096.12],\"right\":[5958581.88,10917321.76,15876061.64,20834801.52,25793541.4,30752281.28,35711021.16,40669761.04,45628500.92,50587240.8,55545980.68,60504720.56,65463460.44,70422200.32,75380940.2,80339680.08,85298419.96,90257159.84,95215899.72,100174639.6,105133379.48,110092119.36,115050859.24,120009599.12,124968339.0,129927078.88,134885818.76,139844558.64,144803298.52,149762038.4,154720778.28,159679518.16,164638258.04,169596997.92,174555737.79999998,179514477.68,184473217.56,189431957.44,194390697.32,199349437.2,204308177.07999998,209266916.96,214225656.84,219184396.72,224143136.6,229101876.48,234060616.35999998,239019356.24,243978096.12,248936836.0],\"top\":[36,15,30,47,41,25,13,27,37,16,23,8,14,9,6,9,5,17,17,4,5,16,24,15,4,0,0,0,0,7,39,40,33,30,19,15,16,11,2,12,34,35,19,12,15,23,22,21,6,24]},\"selected\":{\"id\":\"1696\",\"type\":\"Selection\"},\"selection_policy\":{\"id\":\"1695\",\"type\":\"UnionRenderers\"}},\"id\":\"1598\",\"type\":\"ColumnDataSource\"},{\"attributes\":{\"source\":{\"id\":\"1598\",\"type\":\"ColumnDataSource\"}},\"id\":\"1602\",\"type\":\"CDSView\"},{\"attributes\":{\"active_drag\":\"auto\",\"active_inspect\":\"auto\",\"active_multi\":null,\"active_scroll\":\"auto\",\"active_tap\":\"auto\",\"tools\":[{\"id\":\"1585\",\"type\":\"PanTool\"},{\"id\":\"1586\",\"type\":\"WheelZoomTool\"},{\"id\":\"1587\",\"type\":\"BoxZoomTool\"},{\"id\":\"1588\",\"type\":\"SaveTool\"},{\"id\":\"1589\",\"type\":\"ResetTool\"},{\"id\":\"1590\",\"type\":\"HelpTool\"}]},\"id\":\"1591\",\"type\":\"Toolbar\"},{\"attributes\":{},\"id\":\"1610\",\"type\":\"LinearScale\"},{\"attributes\":{\"background_fill_color\":{\"value\":\"#EEEEEE\"},\"below\":[{\"id\":\"1614\",\"type\":\"LinearAxis\"}],\"center\":[{\"id\":\"1618\",\"type\":\"Grid\"},{\"id\":\"1623\",\"type\":\"Grid\"}],\"left\":[{\"id\":\"1619\",\"type\":\"LinearAxis\"}],\"plot_height\":400,\"plot_width\":500,\"renderers\":[{\"id\":\"1640\",\"type\":\"GlyphRenderer\"}],\"title\":{\"id\":\"1604\",\"type\":\"Title\"},\"toolbar\":{\"id\":\"1630\",\"type\":\"Toolbar\"},\"toolbar_location\":null,\"x_range\":{\"id\":\"1606\",\"type\":\"Range1d\"},\"x_scale\":{\"id\":\"1610\",\"type\":\"LinearScale\"},\"y_range\":{\"id\":\"1608\",\"type\":\"DataRange1d\"},\"y_scale\":{\"id\":\"1612\",\"type\":\"LinearScale\"}},\"id\":\"1603\",\"subtype\":\"Figure\",\"type\":\"Plot\"},{\"attributes\":{},\"id\":\"1585\",\"type\":\"PanTool\"},{\"attributes\":{\"bottom\":{\"value\":0},\"fill_color\":{\"value\":\"#1f77b4\"},\"left\":{\"field\":\"left\"},\"right\":{\"field\":\"right\"},\"top\":{\"field\":\"top\"}},\"id\":\"1677\",\"type\":\"Quad\"},{\"attributes\":{},\"id\":\"1586\",\"type\":\"WheelZoomTool\"},{\"attributes\":{\"background_fill_color\":{\"value\":\"#EEEEEE\"},\"below\":[{\"id\":\"1653\",\"type\":\"LinearAxis\"}],\"center\":[{\"id\":\"1657\",\"type\":\"Grid\"},{\"id\":\"1662\",\"type\":\"Grid\"}],\"left\":[{\"id\":\"1658\",\"type\":\"LinearAxis\"}],\"plot_height\":400,\"plot_width\":500,\"renderers\":[{\"id\":\"1679\",\"type\":\"GlyphRenderer\"}],\"title\":{\"id\":\"1643\",\"type\":\"Title\"},\"toolbar\":{\"id\":\"1669\",\"type\":\"Toolbar\"},\"toolbar_location\":null,\"x_range\":{\"id\":\"1645\",\"type\":\"Range1d\"},\"x_scale\":{\"id\":\"1649\",\"type\":\"LinearScale\"},\"y_range\":{\"id\":\"1647\",\"type\":\"DataRange1d\"},\"y_scale\":{\"id\":\"1651\",\"type\":\"LinearScale\"}},\"id\":\"1642\",\"subtype\":\"Figure\",\"type\":\"Plot\"},{\"attributes\":{\"callback\":null},\"id\":\"1647\",\"type\":\"DataRange1d\"},{\"attributes\":{\"data_source\":{\"id\":\"1598\",\"type\":\"ColumnDataSource\"},\"glyph\":{\"id\":\"1599\",\"type\":\"Quad\"},\"hover_glyph\":null,\"muted_glyph\":null,\"nonselection_glyph\":{\"id\":\"1600\",\"type\":\"Quad\"},\"selection_glyph\":null,\"view\":{\"id\":\"1602\",\"type\":\"CDSView\"}},\"id\":\"1601\",\"type\":\"GlyphRenderer\"},{\"attributes\":{\"callback\":null},\"id\":\"1608\",\"type\":\"DataRange1d\"},{\"attributes\":{\"dimension\":1,\"ticker\":{\"id\":\"1581\",\"type\":\"BasicTicker\"}},\"id\":\"1584\",\"type\":\"Grid\"},{\"attributes\":{},\"id\":\"1612\",\"type\":\"LinearScale\"},{\"attributes\":{\"formatter\":{\"id\":\"1710\",\"type\":\"BasicTickFormatter\"},\"ticker\":{\"id\":\"1654\",\"type\":\"BasicTicker\"}},\"id\":\"1653\",\"type\":\"LinearAxis\"},{\"attributes\":{\"axis_label\":\"Frequency\",\"formatter\":{\"id\":\"1694\",\"type\":\"BasicTickFormatter\"},\"ticker\":{\"id\":\"1581\",\"type\":\"BasicTicker\"}},\"id\":\"1580\",\"type\":\"LinearAxis\"},{\"attributes\":{\"formatter\":{\"id\":\"1701\",\"type\":\"BasicTickFormatter\"},\"ticker\":{\"id\":\"1615\",\"type\":\"BasicTicker\"}},\"id\":\"1614\",\"type\":\"LinearAxis\"},{\"attributes\":{},\"id\":\"1620\",\"type\":\"BasicTicker\"},{\"attributes\":{},\"id\":\"1615\",\"type\":\"BasicTicker\"},{\"attributes\":{\"ticker\":{\"id\":\"1576\",\"type\":\"BasicTicker\"}},\"id\":\"1579\",\"type\":\"Grid\"},{\"attributes\":{\"ticker\":{\"id\":\"1615\",\"type\":\"BasicTicker\"}},\"id\":\"1618\",\"type\":\"Grid\"},{\"attributes\":{\"dimension\":1,\"ticker\":{\"id\":\"1620\",\"type\":\"BasicTicker\"}},\"id\":\"1623\",\"type\":\"Grid\"},{\"attributes\":{},\"id\":\"1590\",\"type\":\"HelpTool\"},{\"attributes\":{},\"id\":\"1649\",\"type\":\"LinearScale\"},{\"attributes\":{\"callback\":null,\"data\":{\"left\":[973693.0,5932597.8,10891502.6,15850407.399999999,20809312.2,25768217.0,30727121.799999997,35686026.6,40644931.4,45603836.199999996,50562741.0,55521645.8,60480550.599999994,65439455.4,70398360.2,75357265.0,80316169.8,85275074.6,90233979.39999999,95192884.2,100151789.0,105110693.8,110069598.6,115028503.39999999,119987408.19999999,124946313.0,129905217.8,134864122.6,139823027.4,144781932.2,149740837.0,154699741.79999998,159658646.6,164617551.4,169576456.2,174535361.0,179494265.79999998,184453170.6,189412075.4,194370980.2,199329885.0,204288789.79999998,209247694.6,214206599.4,219165504.2,224124409.0,229083313.79999998,234042218.6,239001123.39999998,243960028.2],\"right\":[5932597.8,10891502.6,15850407.399999999,20809312.2,25768217.0,30727121.799999997,35686026.6,40644931.4,45603836.199999996,50562741.0,55521645.8,60480550.599999994,65439455.4,70398360.2,75357265.0,80316169.8,85275074.6,90233979.39999999,95192884.2,100151789.0,105110693.8,110069598.6,115028503.39999999,119987408.19999999,124946313.0,129905217.8,134864122.6,139823027.4,144781932.2,149740837.0,154699741.79999998,159658646.6,164617551.4,169576456.2,174535361.0,179494265.79999998,184453170.6,189412075.4,194370980.2,199329885.0,204288789.79999998,209247694.6,214206599.4,219165504.2,224124409.0,229083313.79999998,234042218.6,239001123.39999998,243960028.2,248918933.0],\"top\":[23,34,36,45,25,17,26,23,27,22,20,8,12,8,7,15,12,22,9,7,5,14,19,21,3,0,0,0,0,11,46,29,24,21,23,9,18,14,2,12,32,33,20,15,13,24,17,22,8,34]},\"selected\":{\"id\":\"1705\",\"type\":\"Selection\"},\"selection_policy\":{\"id\":\"1704\",\"type\":\"UnionRenderers\"}},\"id\":\"1637\",\"type\":\"ColumnDataSource\"},{\"attributes\":{},\"id\":\"1589\",\"type\":\"ResetTool\"},{\"attributes\":{\"active_drag\":\"auto\",\"active_inspect\":\"auto\",\"active_multi\":null,\"active_scroll\":\"auto\",\"active_tap\":\"auto\",\"tools\":[{\"id\":\"1624\",\"type\":\"PanTool\"},{\"id\":\"1625\",\"type\":\"WheelZoomTool\"},{\"id\":\"1626\",\"type\":\"BoxZoomTool\"},{\"id\":\"1627\",\"type\":\"SaveTool\"},{\"id\":\"1628\",\"type\":\"ResetTool\"},{\"id\":\"1629\",\"type\":\"HelpTool\"}]},\"id\":\"1630\",\"type\":\"Toolbar\"},{\"attributes\":{\"overlay\":{\"id\":\"1697\",\"type\":\"BoxAnnotation\"}},\"id\":\"1587\",\"type\":\"BoxZoomTool\"},{\"attributes\":{\"tools\":[{\"id\":\"1546\",\"type\":\"PanTool\"},{\"id\":\"1547\",\"type\":\"WheelZoomTool\"},{\"id\":\"1548\",\"type\":\"BoxZoomTool\"},{\"id\":\"1549\",\"type\":\"SaveTool\"},{\"id\":\"1550\",\"type\":\"ResetTool\"},{\"id\":\"1551\",\"type\":\"HelpTool\"},{\"id\":\"1585\",\"type\":\"PanTool\"},{\"id\":\"1586\",\"type\":\"WheelZoomTool\"},{\"id\":\"1587\",\"type\":\"BoxZoomTool\"},{\"id\":\"1588\",\"type\":\"SaveTool\"},{\"id\":\"1589\",\"type\":\"ResetTool\"},{\"id\":\"1590\",\"type\":\"HelpTool\"},{\"id\":\"1624\",\"type\":\"PanTool\"},{\"id\":\"1625\",\"type\":\"WheelZoomTool\"},{\"id\":\"1626\",\"type\":\"BoxZoomTool\"},{\"id\":\"1627\",\"type\":\"SaveTool\"},{\"id\":\"1628\",\"type\":\"ResetTool\"},{\"id\":\"1629\",\"type\":\"HelpTool\"},{\"id\":\"1663\",\"type\":\"PanTool\"},{\"id\":\"1664\",\"type\":\"WheelZoomTool\"},{\"id\":\"1665\",\"type\":\"BoxZoomTool\"},{\"id\":\"1666\",\"type\":\"SaveTool\"},{\"id\":\"1667\",\"type\":\"ResetTool\"},{\"id\":\"1668\",\"type\":\"HelpTool\"}]},\"id\":\"1718\",\"type\":\"ProxyToolbar\"},{\"attributes\":{},\"id\":\"1692\",\"type\":\"BasicTickFormatter\"},{\"attributes\":{},\"id\":\"1588\",\"type\":\"SaveTool\"},{\"attributes\":{},\"id\":\"1685\",\"type\":\"BasicTickFormatter\"},{\"attributes\":{\"children\":[[{\"id\":\"1525\",\"subtype\":\"Figure\",\"type\":\"Plot\"},0,0],[{\"id\":\"1564\",\"subtype\":\"Figure\",\"type\":\"Plot\"},0,1],[{\"id\":\"1603\",\"subtype\":\"Figure\",\"type\":\"Plot\"},1,0],[{\"id\":\"1642\",\"subtype\":\"Figure\",\"type\":\"Plot\"},1,1]]},\"id\":\"1717\",\"type\":\"GridBox\"},{\"attributes\":{\"bottom\":{\"value\":0},\"fill_alpha\":{\"value\":0.1},\"fill_color\":{\"value\":\"#1f77b4\"},\"left\":{\"field\":\"left\"},\"line_alpha\":{\"value\":0.1},\"line_color\":{\"value\":\"#1f77b4\"},\"right\":{\"field\":\"right\"},\"top\":{\"field\":\"top\"}},\"id\":\"1639\",\"type\":\"Quad\"},{\"attributes\":{},\"id\":\"1581\",\"type\":\"BasicTicker\"},{\"attributes\":{\"bottom\":{\"value\":0},\"fill_color\":{\"value\":\"#1f77b4\"},\"left\":{\"field\":\"left\"},\"right\":{\"field\":\"right\"},\"top\":{\"field\":\"top\"}},\"id\":\"1638\",\"type\":\"Quad\"},{\"attributes\":{\"data_source\":{\"id\":\"1637\",\"type\":\"ColumnDataSource\"},\"glyph\":{\"id\":\"1638\",\"type\":\"Quad\"},\"hover_glyph\":null,\"muted_glyph\":null,\"nonselection_glyph\":{\"id\":\"1639\",\"type\":\"Quad\"},\"selection_glyph\":null,\"view\":{\"id\":\"1641\",\"type\":\"CDSView\"}},\"id\":\"1640\",\"type\":\"GlyphRenderer\"},{\"attributes\":{},\"id\":\"1624\",\"type\":\"PanTool\"},{\"attributes\":{},\"id\":\"1625\",\"type\":\"WheelZoomTool\"},{\"attributes\":{\"axis_label\":\"Frequency\",\"formatter\":{\"id\":\"1703\",\"type\":\"BasicTickFormatter\"},\"ticker\":{\"id\":\"1620\",\"type\":\"BasicTicker\"}},\"id\":\"1619\",\"type\":\"LinearAxis\"},{\"attributes\":{\"overlay\":{\"id\":\"1706\",\"type\":\"BoxAnnotation\"}},\"id\":\"1626\",\"type\":\"BoxZoomTool\"},{\"attributes\":{},\"id\":\"1628\",\"type\":\"ResetTool\"},{\"attributes\":{\"text\":\"FN000182\"},\"id\":\"1643\",\"type\":\"Title\"},{\"attributes\":{\"source\":{\"id\":\"1637\",\"type\":\"ColumnDataSource\"}},\"id\":\"1641\",\"type\":\"CDSView\"},{\"attributes\":{},\"id\":\"1629\",\"type\":\"HelpTool\"},{\"attributes\":{},\"id\":\"1654\",\"type\":\"BasicTicker\"},{\"attributes\":{},\"id\":\"1651\",\"type\":\"LinearScale\"},{\"attributes\":{},\"id\":\"1537\",\"type\":\"BasicTicker\"},{\"attributes\":{\"bottom_units\":\"screen\",\"fill_alpha\":{\"value\":0.5},\"fill_color\":{\"value\":\"lightgrey\"},\"left_units\":\"screen\",\"level\":\"overlay\",\"line_alpha\":{\"value\":1.0},\"line_color\":{\"value\":\"black\"},\"line_dash\":[4,4],\"line_width\":{\"value\":2},\"render_mode\":\"css\",\"right_units\":\"screen\",\"top_units\":\"screen\"},\"id\":\"1688\",\"type\":\"BoxAnnotation\"},{\"attributes\":{},\"id\":\"1686\",\"type\":\"UnionRenderers\"},{\"attributes\":{\"background_fill_color\":{\"value\":\"#EEEEEE\"},\"below\":[{\"id\":\"1575\",\"type\":\"LinearAxis\"}],\"center\":[{\"id\":\"1579\",\"type\":\"Grid\"},{\"id\":\"1584\",\"type\":\"Grid\"}],\"left\":[{\"id\":\"1580\",\"type\":\"LinearAxis\"}],\"plot_height\":400,\"plot_width\":500,\"renderers\":[{\"id\":\"1601\",\"type\":\"GlyphRenderer\"}],\"title\":{\"id\":\"1565\",\"type\":\"Title\"},\"toolbar\":{\"id\":\"1591\",\"type\":\"Toolbar\"},\"toolbar_location\":null,\"x_range\":{\"id\":\"1567\",\"type\":\"Range1d\"},\"x_scale\":{\"id\":\"1571\",\"type\":\"LinearScale\"},\"y_range\":{\"id\":\"1569\",\"type\":\"DataRange1d\"},\"y_scale\":{\"id\":\"1573\",\"type\":\"LinearScale\"}},\"id\":\"1564\",\"subtype\":\"Figure\",\"type\":\"Plot\"},{\"attributes\":{},\"id\":\"1683\",\"type\":\"BasicTickFormatter\"},{\"attributes\":{},\"id\":\"1627\",\"type\":\"SaveTool\"},{\"attributes\":{\"dimension\":1,\"ticker\":{\"id\":\"1659\",\"type\":\"BasicTicker\"}},\"id\":\"1662\",\"type\":\"Grid\"},{\"attributes\":{\"dimension\":1,\"ticker\":{\"id\":\"1542\",\"type\":\"BasicTicker\"}},\"id\":\"1545\",\"type\":\"Grid\"},{\"attributes\":{},\"id\":\"1687\",\"type\":\"Selection\"},{\"attributes\":{\"callback\":null,\"end\":261197657.5,\"start\":-11183253.5},\"id\":\"1645\",\"type\":\"Range1d\"},{\"attributes\":{},\"id\":\"1542\",\"type\":\"BasicTicker\"},{\"attributes\":{\"ticker\":{\"id\":\"1537\",\"type\":\"BasicTicker\"}},\"id\":\"1540\",\"type\":\"Grid\"},{\"attributes\":{},\"id\":\"1659\",\"type\":\"BasicTicker\"},{\"attributes\":{\"axis_label\":\"Frequency\",\"formatter\":{\"id\":\"1685\",\"type\":\"BasicTickFormatter\"},\"ticker\":{\"id\":\"1542\",\"type\":\"BasicTicker\"}},\"id\":\"1541\",\"type\":\"LinearAxis\"}],\"root_ids\":[\"1720\"]},\"title\":\"Bokeh Application\",\"version\":\"1.2.0\"}};\n",
       "  var render_items = [{\"docid\":\"b4789e19-4e07-4106-b530-655cb0ebdb13\",\"roots\":{\"1720\":\"bfa43150-2b11-4b2e-b948-ab55ec137c86\"}}];\n",
       "  root.Bokeh.embed.embed_items_notebook(docs_json, render_items);\n",
       "\n",
       "  }\n",
       "  if (root.Bokeh !== undefined) {\n",
       "    embed_document(root);\n",
       "  } else {\n",
       "    var attempts = 0;\n",
       "    var timer = setInterval(function(root) {\n",
       "      if (root.Bokeh !== undefined) {\n",
       "        embed_document(root);\n",
       "        clearInterval(timer);\n",
       "      }\n",
       "      attempts++;\n",
       "      if (attempts > 100) {\n",
       "        console.log(\"Bokeh: ERROR: Unable to run BokehJS code because BokehJS library is missing\");\n",
       "        clearInterval(timer);\n",
       "      }\n",
       "    }, 10, root)\n",
       "  }\n",
       "})(window);"
      ],
      "application/vnd.bokehjs_exec.v0+json": ""
     },
     "metadata": {
      "application/vnd.bokehjs_exec.v0+json": {
       "id": "1720"
      }
     },
     "output_type": "display_data"
    }
   ],
   "source": [
    "plot_list = []\n",
    "for sample in ['FN001485', 'FN000020', 'FN000254', 'FN000182']:\n",
    "    temp = ps_stats_ht.filter((ps_stats_ht.sample_group == sample) & (ps_stats_ht.chrom_group == 'chr1'))\n",
    "    p = hl.plot.histogram(temp.ps_stop, title=sample)\n",
    "    plot_list.append(p)\n",
    "show(gridplot(plot_list, ncols=2, plot_width=500, plot_height=400))"
   ]
  },
  {
   "cell_type": "markdown",
   "id": "11cb4bfc-867f-4abf-b9a6-32d79f282e9a",
   "metadata": {},
   "source": [
    "Now let's look into the **phase block lengths**.\n",
    "\n",
    "The plots below show a histogram of the phase block lengths for four different samples.  Note that we've removed blocks with length zero, but included the count in the title."
   ]
  },
  {
   "cell_type": "code",
   "execution_count": 16,
   "id": "66da2ebd-e4bf-4e20-b0d4-c79922407c30",
   "metadata": {},
   "outputs": [],
   "source": [
    "plot_list = []\n",
    "for sample in ['FN001485', 'FN000020', 'FN000254', 'FN000182']:\n",
    "    # Calculate number of zero length phase blocks.\n",
    "    ps_zero = ps_stats_ht.aggregate(hl.agg.filter(ps_stats_ht.sample_group == sample, hl.agg.count_where(ps_stats_ht.ps_length == 0)))\n",
    "\n",
    "    temp = ps_stats_ht.filter((ps_stats_ht.sample_group == sample) & (ps_stats_ht.ps_length > 0))\n",
    "\n",
    "    p = hl.plot.histogram(hl.log10(temp.ps_length), title='{s}. Zero length blocks: {n}'.format(s=sample, n=ps_zero))\n",
    "    p.xaxis.axis_label = 'log10(Length)'\n",
    "    \n",
    "    plot_list.append(p)"
   ]
  },
  {
   "cell_type": "code",
   "execution_count": 17,
   "id": "a5e9f9c6-2632-41df-8e51-e89ad571409a",
   "metadata": {},
   "outputs": [
    {
     "data": {
      "text/html": [
       "\n",
       "\n",
       "\n",
       "\n",
       "\n",
       "\n",
       "  <div class=\"bk-root\" id=\"f7526838-f8a2-4206-86fd-f104a40a89e4\" data-root-id=\"2180\"></div>\n"
      ]
     },
     "metadata": {},
     "output_type": "display_data"
    },
    {
     "data": {
      "application/javascript": [
       "(function(root) {\n",
       "  function embed_document(root) {\n",
       "    \n",
       "  var docs_json = {\"a33e422d-d84d-43fb-89d6-9b7febbdf691\":{\"roots\":{\"references\":[{\"attributes\":{\"children\":[{\"id\":\"2179\",\"type\":\"ToolbarBox\"},{\"id\":\"2177\",\"type\":\"GridBox\"}]},\"id\":\"2180\",\"type\":\"Column\"},{\"attributes\":{\"axis_label\":\"Frequency\",\"formatter\":{\"id\":\"2172\",\"type\":\"BasicTickFormatter\"},\"ticker\":{\"id\":\"2119\",\"type\":\"BasicTicker\"}},\"id\":\"2118\",\"type\":\"LinearAxis\"},{\"attributes\":{\"bottom\":{\"value\":0},\"fill_alpha\":{\"value\":0.1},\"fill_color\":{\"value\":\"#1f77b4\"},\"left\":{\"field\":\"left\"},\"line_alpha\":{\"value\":0.1},\"line_color\":{\"value\":\"#1f77b4\"},\"right\":{\"field\":\"right\"},\"top\":{\"field\":\"top\"}},\"id\":\"2099\",\"type\":\"Quad\"},{\"attributes\":{\"dimension\":1,\"ticker\":{\"id\":\"2080\",\"type\":\"BasicTicker\"}},\"id\":\"2083\",\"type\":\"Grid\"},{\"attributes\":{},\"id\":\"2031\",\"type\":\"LinearScale\"},{\"attributes\":{\"source\":{\"id\":\"2097\",\"type\":\"ColumnDataSource\"}},\"id\":\"2101\",\"type\":\"CDSView\"},{\"attributes\":{},\"id\":\"1994\",\"type\":\"LinearScale\"},{\"attributes\":{\"callback\":null},\"id\":\"2068\",\"type\":\"DataRange1d\"},{\"attributes\":{\"bottom\":{\"value\":0},\"fill_alpha\":{\"value\":0.1},\"fill_color\":{\"value\":\"#1f77b4\"},\"left\":{\"field\":\"left\"},\"line_alpha\":{\"value\":0.1},\"line_color\":{\"value\":\"#1f77b4\"},\"right\":{\"field\":\"right\"},\"top\":{\"field\":\"top\"}},\"id\":\"2060\",\"type\":\"Quad\"},{\"attributes\":{},\"id\":\"2070\",\"type\":\"LinearScale\"},{\"attributes\":{\"dimension\":1,\"ticker\":{\"id\":\"2119\",\"type\":\"BasicTicker\"}},\"id\":\"2122\",\"type\":\"Grid\"},{\"attributes\":{\"bottom\":{\"value\":0},\"fill_color\":{\"value\":\"#1f77b4\"},\"left\":{\"field\":\"left\"},\"right\":{\"field\":\"right\"},\"top\":{\"field\":\"top\"}},\"id\":\"2098\",\"type\":\"Quad\"},{\"attributes\":{\"source\":{\"id\":\"2136\",\"type\":\"ColumnDataSource\"}},\"id\":\"2140\",\"type\":\"CDSView\"},{\"attributes\":{},\"id\":\"1992\",\"type\":\"LinearScale\"},{\"attributes\":{},\"id\":\"2152\",\"type\":\"BasicTickFormatter\"},{\"attributes\":{\"active_drag\":\"auto\",\"active_inspect\":\"auto\",\"active_multi\":null,\"active_scroll\":\"auto\",\"active_tap\":\"auto\",\"tools\":[{\"id\":\"2123\",\"type\":\"PanTool\"},{\"id\":\"2124\",\"type\":\"WheelZoomTool\"},{\"id\":\"2125\",\"type\":\"BoxZoomTool\"},{\"id\":\"2126\",\"type\":\"SaveTool\"},{\"id\":\"2127\",\"type\":\"ResetTool\"},{\"id\":\"2128\",\"type\":\"HelpTool\"}]},\"id\":\"2129\",\"type\":\"Toolbar\"},{\"attributes\":{\"callback\":null,\"data\":{\"left\":[0.0,0.16791308601041074,0.3358261720208215,0.5037392580312322,0.671652344041643,0.8395654300520538,1.0074785160624644,1.1753916020728752,1.343304688083286,1.5112177740936967,1.6791308601041075,1.8470439461145183,2.014957032124929,2.1828701181353396,2.3507832041457504,2.518696290156161,2.686609376166572,2.8545224621769827,3.0224355481873935,3.1903486341978042,3.358261720208215,3.526174806218626,3.6940878922290366,3.8620009782394473,4.029914064249858,4.197827150260268,4.365740236270679,4.53365332228109,4.701566408291501,4.8694794943019115,5.037392580312322,5.205305666322733,5.373218752333144,5.541131838343555,5.709044924353965,5.876958010364376,6.044871096374787,6.212784182385198,6.3806972683956085,6.548610354406019,6.71652344041643,6.884436526426841,7.052349612437252,7.220262698447662,7.388175784458073,7.556088870468484,7.724001956478895,7.891915042489305,8.059828128499715,8.227741214510127],\"right\":[0.16791308601041074,0.3358261720208215,0.5037392580312322,0.671652344041643,0.8395654300520538,1.0074785160624644,1.1753916020728752,1.343304688083286,1.5112177740936967,1.6791308601041075,1.8470439461145183,2.014957032124929,2.1828701181353396,2.3507832041457504,2.518696290156161,2.686609376166572,2.8545224621769827,3.0224355481873935,3.1903486341978042,3.358261720208215,3.526174806218626,3.6940878922290366,3.8620009782394473,4.029914064249858,4.197827150260268,4.365740236270679,4.53365332228109,4.701566408291501,4.8694794943019115,5.037392580312322,5.205305666322733,5.373218752333144,5.541131838343555,5.709044924353965,5.876958010364376,6.044871096374787,6.212784182385198,6.3806972683956085,6.548610354406019,6.71652344041643,6.884436526426841,7.052349612437252,7.220262698447662,7.388175784458073,7.556088870468484,7.724001956478895,7.891915042489305,8.059828128499715,8.227741214510127,8.395654300520537],\"top\":[43,11,13,20,27,49,37,61,91,93,132,125,194,211,222,162,159,209,181,263,277,356,417,515,734,794,740,696,453,260,100,23,4,0,0,0,1,0,0,0,0,0,0,0,0,2,2,6,7,6]},\"selected\":{\"id\":\"2174\",\"type\":\"Selection\"},\"selection_policy\":{\"id\":\"2173\",\"type\":\"UnionRenderers\"}},\"id\":\"2136\",\"type\":\"ColumnDataSource\"},{\"attributes\":{\"overlay\":{\"id\":\"2157\",\"type\":\"BoxAnnotation\"}},\"id\":\"2047\",\"type\":\"BoxZoomTool\"},{\"attributes\":{},\"id\":\"2124\",\"type\":\"WheelZoomTool\"},{\"attributes\":{\"data_source\":{\"id\":\"2136\",\"type\":\"ColumnDataSource\"},\"glyph\":{\"id\":\"2137\",\"type\":\"Quad\"},\"hover_glyph\":null,\"muted_glyph\":null,\"nonselection_glyph\":{\"id\":\"2138\",\"type\":\"Quad\"},\"selection_glyph\":null,\"view\":{\"id\":\"2140\",\"type\":\"CDSView\"}},\"id\":\"2139\",\"type\":\"GlyphRenderer\"},{\"attributes\":{\"callback\":null,\"end\":8.815732760833237,\"start\":-0.41979679813491605},\"id\":\"2066\",\"type\":\"Range1d\"},{\"attributes\":{},\"id\":\"2123\",\"type\":\"PanTool\"},{\"attributes\":{\"ticker\":{\"id\":\"2075\",\"type\":\"BasicTicker\"}},\"id\":\"2078\",\"type\":\"Grid\"},{\"attributes\":{\"tools\":[{\"id\":\"2006\",\"type\":\"PanTool\"},{\"id\":\"2007\",\"type\":\"WheelZoomTool\"},{\"id\":\"2008\",\"type\":\"BoxZoomTool\"},{\"id\":\"2009\",\"type\":\"SaveTool\"},{\"id\":\"2010\",\"type\":\"ResetTool\"},{\"id\":\"2011\",\"type\":\"HelpTool\"},{\"id\":\"2045\",\"type\":\"PanTool\"},{\"id\":\"2046\",\"type\":\"WheelZoomTool\"},{\"id\":\"2047\",\"type\":\"BoxZoomTool\"},{\"id\":\"2048\",\"type\":\"SaveTool\"},{\"id\":\"2049\",\"type\":\"ResetTool\"},{\"id\":\"2050\",\"type\":\"HelpTool\"},{\"id\":\"2084\",\"type\":\"PanTool\"},{\"id\":\"2085\",\"type\":\"WheelZoomTool\"},{\"id\":\"2086\",\"type\":\"BoxZoomTool\"},{\"id\":\"2087\",\"type\":\"SaveTool\"},{\"id\":\"2088\",\"type\":\"ResetTool\"},{\"id\":\"2089\",\"type\":\"HelpTool\"},{\"id\":\"2123\",\"type\":\"PanTool\"},{\"id\":\"2124\",\"type\":\"WheelZoomTool\"},{\"id\":\"2125\",\"type\":\"BoxZoomTool\"},{\"id\":\"2126\",\"type\":\"SaveTool\"},{\"id\":\"2127\",\"type\":\"ResetTool\"},{\"id\":\"2128\",\"type\":\"HelpTool\"}]},\"id\":\"2178\",\"type\":\"ProxyToolbar\"},{\"attributes\":{\"background_fill_color\":{\"value\":\"#EEEEEE\"},\"below\":[{\"id\":\"2035\",\"type\":\"LinearAxis\"}],\"center\":[{\"id\":\"2039\",\"type\":\"Grid\"},{\"id\":\"2044\",\"type\":\"Grid\"}],\"left\":[{\"id\":\"2040\",\"type\":\"LinearAxis\"}],\"plot_height\":400,\"plot_width\":500,\"renderers\":[{\"id\":\"2061\",\"type\":\"GlyphRenderer\"}],\"title\":{\"id\":\"2025\",\"type\":\"Title\"},\"toolbar\":{\"id\":\"2051\",\"type\":\"Toolbar\"},\"toolbar_location\":null,\"x_range\":{\"id\":\"2027\",\"type\":\"Range1d\"},\"x_scale\":{\"id\":\"2031\",\"type\":\"LinearScale\"},\"y_range\":{\"id\":\"2029\",\"type\":\"DataRange1d\"},\"y_scale\":{\"id\":\"2033\",\"type\":\"LinearScale\"}},\"id\":\"2024\",\"subtype\":\"Figure\",\"type\":\"Plot\"},{\"attributes\":{},\"id\":\"2109\",\"type\":\"LinearScale\"},{\"attributes\":{\"overlay\":{\"id\":\"2175\",\"type\":\"BoxAnnotation\"}},\"id\":\"2125\",\"type\":\"BoxZoomTool\"},{\"attributes\":{},\"id\":\"2126\",\"type\":\"SaveTool\"},{\"attributes\":{},\"id\":\"2170\",\"type\":\"BasicTickFormatter\"},{\"attributes\":{},\"id\":\"2050\",\"type\":\"HelpTool\"},{\"attributes\":{},\"id\":\"2119\",\"type\":\"BasicTicker\"},{\"attributes\":{\"bottom\":{\"value\":0},\"fill_alpha\":{\"value\":0.1},\"fill_color\":{\"value\":\"#1f77b4\"},\"left\":{\"field\":\"left\"},\"line_alpha\":{\"value\":0.1},\"line_color\":{\"value\":\"#1f77b4\"},\"right\":{\"field\":\"right\"},\"top\":{\"field\":\"top\"}},\"id\":\"2138\",\"type\":\"Quad\"},{\"attributes\":{},\"id\":\"2127\",\"type\":\"ResetTool\"},{\"attributes\":{\"text\":\"FN000182. Zero length blocks: 647\"},\"id\":\"2103\",\"type\":\"Title\"},{\"attributes\":{},\"id\":\"2089\",\"type\":\"HelpTool\"},{\"attributes\":{\"callback\":null},\"id\":\"2107\",\"type\":\"DataRange1d\"},{\"attributes\":{\"callback\":null,\"data\":{\"left\":[0.0,0.16791934412232534,0.3358386882446507,0.503758032366976,0.6716773764893014,0.8395967206116267,1.007516064733952,1.1754354088562775,1.3433547529786027,1.511274097100928,1.6791934412232534,1.8471127853455789,2.015032129467904,2.1829514735902293,2.350870817712555,2.5187901618348802,2.6867095059572055,2.8546288500795307,3.022548194201856,3.1904675383241816,3.358386882446507,3.526306226568832,3.6942255706911578,3.862144914813483,4.030064258935808,4.197983603058134,4.365902947180459,4.533822291302784,4.70174163542511,4.869660979547435,5.0375803236697605,5.205499667792085,5.373419011914411,5.541338356036737,5.709257700159061,5.877177044281387,6.045096388403712,6.213015732526038,6.380935076648363,6.548854420770688,6.716773764893014,6.884693109015339,7.052612453137664,7.22053179725999,7.3884511413823155,7.55637048550464,7.724289829626966,7.892209173749291,8.060128517871616,8.228047861993941],\"right\":[0.16791934412232534,0.3358386882446507,0.503758032366976,0.6716773764893014,0.8395967206116267,1.007516064733952,1.1754354088562775,1.3433547529786027,1.511274097100928,1.6791934412232534,1.8471127853455789,2.015032129467904,2.1829514735902293,2.350870817712555,2.5187901618348802,2.6867095059572055,2.8546288500795307,3.022548194201856,3.1904675383241816,3.358386882446507,3.526306226568832,3.6942255706911578,3.862144914813483,4.030064258935808,4.197983603058134,4.365902947180459,4.533822291302784,4.70174163542511,4.869660979547435,5.0375803236697605,5.205499667792085,5.373419011914411,5.541338356036737,5.709257700159061,5.877177044281387,6.045096388403712,6.213015732526038,6.380935076648363,6.548854420770688,6.716773764893014,6.884693109015339,7.052612453137664,7.22053179725999,7.3884511413823155,7.55637048550464,7.724289829626966,7.892209173749291,8.060128517871616,8.228047861993941,8.395967206116268],\"top\":[86,36,25,30,60,97,83,143,170,209,295,333,377,412,398,256,169,177,220,272,323,369,426,583,679,808,481,349,137,54,8,0,0,0,0,0,0,0,0,0,0,0,0,0,0,2,2,6,7,6]},\"selected\":{\"id\":\"2156\",\"type\":\"Selection\"},\"selection_policy\":{\"id\":\"2155\",\"type\":\"UnionRenderers\"}},\"id\":\"2058\",\"type\":\"ColumnDataSource\"},{\"attributes\":{\"ticker\":{\"id\":\"2036\",\"type\":\"BasicTicker\"}},\"id\":\"2039\",\"type\":\"Grid\"},{\"attributes\":{},\"id\":\"2154\",\"type\":\"BasicTickFormatter\"},{\"attributes\":{},\"id\":\"2128\",\"type\":\"HelpTool\"},{\"attributes\":{},\"id\":\"2143\",\"type\":\"BasicTickFormatter\"},{\"attributes\":{},\"id\":\"2045\",\"type\":\"PanTool\"},{\"attributes\":{\"text\":\"FN000254. Zero length blocks: 816\"},\"id\":\"2064\",\"type\":\"Title\"},{\"attributes\":{\"callback\":null,\"end\":8.815437015546564,\"start\":-0.4197827150260269},\"id\":\"2105\",\"type\":\"Range1d\"},{\"attributes\":{\"bottom\":{\"value\":0},\"fill_color\":{\"value\":\"#1f77b4\"},\"left\":{\"field\":\"left\"},\"right\":{\"field\":\"right\"},\"top\":{\"field\":\"top\"}},\"id\":\"2059\",\"type\":\"Quad\"},{\"attributes\":{},\"id\":\"2088\",\"type\":\"ResetTool\"},{\"attributes\":{},\"id\":\"2155\",\"type\":\"UnionRenderers\"},{\"attributes\":{},\"id\":\"2075\",\"type\":\"BasicTicker\"},{\"attributes\":{},\"id\":\"2033\",\"type\":\"LinearScale\"},{\"attributes\":{\"axis_label\":\"log10(Length)\",\"formatter\":{\"id\":\"2170\",\"type\":\"BasicTickFormatter\"},\"ticker\":{\"id\":\"2114\",\"type\":\"BasicTicker\"}},\"id\":\"2113\",\"type\":\"LinearAxis\"},{\"attributes\":{},\"id\":\"2087\",\"type\":\"SaveTool\"},{\"attributes\":{\"callback\":null,\"end\":8.815765566422082,\"start\":-0.4197983603058134},\"id\":\"2027\",\"type\":\"Range1d\"},{\"attributes\":{},\"id\":\"2041\",\"type\":\"BasicTicker\"},{\"attributes\":{},\"id\":\"2114\",\"type\":\"BasicTicker\"},{\"attributes\":{\"active_drag\":\"auto\",\"active_inspect\":\"auto\",\"active_multi\":null,\"active_scroll\":\"auto\",\"active_tap\":\"auto\",\"tools\":[{\"id\":\"2045\",\"type\":\"PanTool\"},{\"id\":\"2046\",\"type\":\"WheelZoomTool\"},{\"id\":\"2047\",\"type\":\"BoxZoomTool\"},{\"id\":\"2048\",\"type\":\"SaveTool\"},{\"id\":\"2049\",\"type\":\"ResetTool\"},{\"id\":\"2050\",\"type\":\"HelpTool\"}]},\"id\":\"2051\",\"type\":\"Toolbar\"},{\"attributes\":{},\"id\":\"2080\",\"type\":\"BasicTicker\"},{\"attributes\":{\"active_drag\":\"auto\",\"active_inspect\":\"auto\",\"active_multi\":null,\"active_scroll\":\"auto\",\"active_tap\":\"auto\",\"tools\":[{\"id\":\"2084\",\"type\":\"PanTool\"},{\"id\":\"2085\",\"type\":\"WheelZoomTool\"},{\"id\":\"2086\",\"type\":\"BoxZoomTool\"},{\"id\":\"2087\",\"type\":\"SaveTool\"},{\"id\":\"2088\",\"type\":\"ResetTool\"},{\"id\":\"2089\",\"type\":\"HelpTool\"}]},\"id\":\"2090\",\"type\":\"Toolbar\"},{\"attributes\":{},\"id\":\"2156\",\"type\":\"Selection\"},{\"attributes\":{\"ticker\":{\"id\":\"2114\",\"type\":\"BasicTicker\"}},\"id\":\"2117\",\"type\":\"Grid\"},{\"attributes\":{\"bottom_units\":\"screen\",\"fill_alpha\":{\"value\":0.5},\"fill_color\":{\"value\":\"lightgrey\"},\"left_units\":\"screen\",\"level\":\"overlay\",\"line_alpha\":{\"value\":1.0},\"line_color\":{\"value\":\"black\"},\"line_dash\":[4,4],\"line_width\":{\"value\":2},\"render_mode\":\"css\",\"right_units\":\"screen\",\"top_units\":\"screen\"},\"id\":\"2157\",\"type\":\"BoxAnnotation\"},{\"attributes\":{\"data_source\":{\"id\":\"2058\",\"type\":\"ColumnDataSource\"},\"glyph\":{\"id\":\"2059\",\"type\":\"Quad\"},\"hover_glyph\":null,\"muted_glyph\":null,\"nonselection_glyph\":{\"id\":\"2060\",\"type\":\"Quad\"},\"selection_glyph\":null,\"view\":{\"id\":\"2062\",\"type\":\"CDSView\"}},\"id\":\"2061\",\"type\":\"GlyphRenderer\"},{\"attributes\":{\"data_source\":{\"id\":\"2097\",\"type\":\"ColumnDataSource\"},\"glyph\":{\"id\":\"2098\",\"type\":\"Quad\"},\"hover_glyph\":null,\"muted_glyph\":null,\"nonselection_glyph\":{\"id\":\"2099\",\"type\":\"Quad\"},\"selection_glyph\":null,\"view\":{\"id\":\"2101\",\"type\":\"CDSView\"}},\"id\":\"2100\",\"type\":\"GlyphRenderer\"},{\"attributes\":{\"callback\":null},\"id\":\"2029\",\"type\":\"DataRange1d\"},{\"attributes\":{\"axis_label\":\"log10(Length)\",\"formatter\":{\"id\":\"2161\",\"type\":\"BasicTickFormatter\"},\"ticker\":{\"id\":\"2075\",\"type\":\"BasicTicker\"}},\"id\":\"2074\",\"type\":\"LinearAxis\"},{\"attributes\":{\"source\":{\"id\":\"2058\",\"type\":\"ColumnDataSource\"}},\"id\":\"2062\",\"type\":\"CDSView\"},{\"attributes\":{},\"id\":\"2164\",\"type\":\"UnionRenderers\"},{\"attributes\":{},\"id\":\"2049\",\"type\":\"ResetTool\"},{\"attributes\":{},\"id\":\"2163\",\"type\":\"BasicTickFormatter\"},{\"attributes\":{\"dimension\":1,\"ticker\":{\"id\":\"2041\",\"type\":\"BasicTicker\"}},\"id\":\"2044\",\"type\":\"Grid\"},{\"attributes\":{},\"id\":\"2072\",\"type\":\"LinearScale\"},{\"attributes\":{},\"id\":\"2161\",\"type\":\"BasicTickFormatter\"},{\"attributes\":{},\"id\":\"2046\",\"type\":\"WheelZoomTool\"},{\"attributes\":{\"axis_label\":\"Frequency\",\"formatter\":{\"id\":\"2163\",\"type\":\"BasicTickFormatter\"},\"ticker\":{\"id\":\"2080\",\"type\":\"BasicTicker\"}},\"id\":\"2079\",\"type\":\"LinearAxis\"},{\"attributes\":{\"overlay\":{\"id\":\"2166\",\"type\":\"BoxAnnotation\"}},\"id\":\"2086\",\"type\":\"BoxZoomTool\"},{\"attributes\":{\"background_fill_color\":{\"value\":\"#EEEEEE\"},\"below\":[{\"id\":\"2074\",\"type\":\"LinearAxis\"}],\"center\":[{\"id\":\"2078\",\"type\":\"Grid\"},{\"id\":\"2083\",\"type\":\"Grid\"}],\"left\":[{\"id\":\"2079\",\"type\":\"LinearAxis\"}],\"plot_height\":400,\"plot_width\":500,\"renderers\":[{\"id\":\"2100\",\"type\":\"GlyphRenderer\"}],\"title\":{\"id\":\"2064\",\"type\":\"Title\"},\"toolbar\":{\"id\":\"2090\",\"type\":\"Toolbar\"},\"toolbar_location\":null,\"x_range\":{\"id\":\"2066\",\"type\":\"Range1d\"},\"x_scale\":{\"id\":\"2070\",\"type\":\"LinearScale\"},\"y_range\":{\"id\":\"2068\",\"type\":\"DataRange1d\"},\"y_scale\":{\"id\":\"2072\",\"type\":\"LinearScale\"}},\"id\":\"2063\",\"subtype\":\"Figure\",\"type\":\"Plot\"},{\"attributes\":{},\"id\":\"2048\",\"type\":\"SaveTool\"},{\"attributes\":{\"text\":\"FN000020. Zero length blocks: 889\"},\"id\":\"2025\",\"type\":\"Title\"},{\"attributes\":{\"axis_label\":\"Frequency\",\"formatter\":{\"id\":\"2154\",\"type\":\"BasicTickFormatter\"},\"ticker\":{\"id\":\"2041\",\"type\":\"BasicTicker\"}},\"id\":\"2040\",\"type\":\"LinearAxis\"},{\"attributes\":{},\"id\":\"2165\",\"type\":\"Selection\"},{\"attributes\":{},\"id\":\"2036\",\"type\":\"BasicTicker\"},{\"attributes\":{},\"id\":\"2085\",\"type\":\"WheelZoomTool\"},{\"attributes\":{\"axis_label\":\"log10(Length)\",\"formatter\":{\"id\":\"2152\",\"type\":\"BasicTickFormatter\"},\"ticker\":{\"id\":\"2036\",\"type\":\"BasicTicker\"}},\"id\":\"2035\",\"type\":\"LinearAxis\"},{\"attributes\":{},\"id\":\"2084\",\"type\":\"PanTool\"},{\"attributes\":{\"callback\":null,\"data\":{\"left\":[0.0,0.16791871925396643,0.33583743850793285,0.5037561577618993,0.6716748770158657,0.8395935962698321,1.0075123155237986,1.175431034777765,1.3433497540317314,1.5112684732856978,1.6791871925396642,1.8471059117936306,2.015024631047597,2.1829433503015636,2.35086206955553,2.5187807888094964,2.686699508063463,2.854618227317429,3.0225369465713956,3.190455665825362,3.3583743850793284,3.526293104333295,3.694211823587261,3.8621305428412276,4.030049262095194,4.19796798134916,4.365886700603127,4.533805419857093,4.70172413911106,4.869642858365026,5.037561577618993,5.205480296872959,5.373399016126926,5.5413177353808925,5.709236454634858,5.877155173888825,6.045073893142791,6.212992612396758,6.380911331650724,6.548830050904691,6.716748770158657,6.884667489412624,7.05258620866659,7.220504927920556,7.388423647174522,7.556342366428489,7.724261085682455,7.892179804936422,8.060098524190389,8.228017243444356],\"right\":[0.16791871925396643,0.33583743850793285,0.5037561577618993,0.6716748770158657,0.8395935962698321,1.0075123155237986,1.175431034777765,1.3433497540317314,1.5112684732856978,1.6791871925396642,1.8471059117936306,2.015024631047597,2.1829433503015636,2.35086206955553,2.5187807888094964,2.686699508063463,2.854618227317429,3.0225369465713956,3.190455665825362,3.3583743850793284,3.526293104333295,3.694211823587261,3.8621305428412276,4.030049262095194,4.19796798134916,4.365886700603127,4.533805419857093,4.70172413911106,4.869642858365026,5.037561577618993,5.205480296872959,5.373399016126926,5.5413177353808925,5.709236454634858,5.877155173888825,6.045073893142791,6.212992612396758,6.380911331650724,6.548830050904691,6.716748770158657,6.884667489412624,7.05258620866659,7.220504927920556,7.388423647174522,7.556342366428489,7.724261085682455,7.892179804936422,8.060098524190389,8.228017243444356,8.39593596269832],\"top\":[59,31,19,26,46,63,53,116,118,168,201,234,274,312,311,206,166,191,221,274,328,371,482,563,766,915,704,532,353,144,51,5,1,0,0,0,0,0,0,0,0,0,0,0,1,1,2,6,7,6]},\"selected\":{\"id\":\"2165\",\"type\":\"Selection\"},\"selection_policy\":{\"id\":\"2164\",\"type\":\"UnionRenderers\"}},\"id\":\"2097\",\"type\":\"ColumnDataSource\"},{\"attributes\":{},\"id\":\"2111\",\"type\":\"LinearScale\"},{\"attributes\":{\"ticker\":{\"id\":\"1997\",\"type\":\"BasicTicker\"}},\"id\":\"2000\",\"type\":\"Grid\"},{\"attributes\":{\"dimension\":1,\"ticker\":{\"id\":\"2002\",\"type\":\"BasicTicker\"}},\"id\":\"2005\",\"type\":\"Grid\"},{\"attributes\":{\"children\":[[{\"id\":\"1985\",\"subtype\":\"Figure\",\"type\":\"Plot\"},0,0],[{\"id\":\"2024\",\"subtype\":\"Figure\",\"type\":\"Plot\"},0,1],[{\"id\":\"2063\",\"subtype\":\"Figure\",\"type\":\"Plot\"},1,0],[{\"id\":\"2102\",\"subtype\":\"Figure\",\"type\":\"Plot\"},1,1]]},\"id\":\"2177\",\"type\":\"GridBox\"},{\"attributes\":{\"overlay\":{\"id\":\"2148\",\"type\":\"BoxAnnotation\"}},\"id\":\"2008\",\"type\":\"BoxZoomTool\"},{\"attributes\":{\"background_fill_color\":{\"value\":\"#EEEEEE\"},\"below\":[{\"id\":\"1996\",\"type\":\"LinearAxis\"}],\"center\":[{\"id\":\"2000\",\"type\":\"Grid\"},{\"id\":\"2005\",\"type\":\"Grid\"}],\"left\":[{\"id\":\"2001\",\"type\":\"LinearAxis\"}],\"plot_height\":400,\"plot_width\":500,\"renderers\":[{\"id\":\"2022\",\"type\":\"GlyphRenderer\"}],\"title\":{\"id\":\"1986\",\"type\":\"Title\"},\"toolbar\":{\"id\":\"2012\",\"type\":\"Toolbar\"},\"toolbar_location\":null,\"x_range\":{\"id\":\"1988\",\"type\":\"Range1d\"},\"x_scale\":{\"id\":\"1992\",\"type\":\"LinearScale\"},\"y_range\":{\"id\":\"1990\",\"type\":\"DataRange1d\"},\"y_scale\":{\"id\":\"1994\",\"type\":\"LinearScale\"}},\"id\":\"1985\",\"subtype\":\"Figure\",\"type\":\"Plot\"},{\"attributes\":{},\"id\":\"2146\",\"type\":\"UnionRenderers\"},{\"attributes\":{\"axis_label\":\"log10(Length)\",\"formatter\":{\"id\":\"2143\",\"type\":\"BasicTickFormatter\"},\"ticker\":{\"id\":\"1997\",\"type\":\"BasicTicker\"}},\"id\":\"1996\",\"type\":\"LinearAxis\"},{\"attributes\":{\"data_source\":{\"id\":\"2019\",\"type\":\"ColumnDataSource\"},\"glyph\":{\"id\":\"2020\",\"type\":\"Quad\"},\"hover_glyph\":null,\"muted_glyph\":null,\"nonselection_glyph\":{\"id\":\"2021\",\"type\":\"Quad\"},\"selection_glyph\":null,\"view\":{\"id\":\"2023\",\"type\":\"CDSView\"}},\"id\":\"2022\",\"type\":\"GlyphRenderer\"},{\"attributes\":{\"bottom_units\":\"screen\",\"fill_alpha\":{\"value\":0.5},\"fill_color\":{\"value\":\"lightgrey\"},\"left_units\":\"screen\",\"level\":\"overlay\",\"line_alpha\":{\"value\":1.0},\"line_color\":{\"value\":\"black\"},\"line_dash\":[4,4],\"line_width\":{\"value\":2},\"render_mode\":\"css\",\"right_units\":\"screen\",\"top_units\":\"screen\"},\"id\":\"2148\",\"type\":\"BoxAnnotation\"},{\"attributes\":{\"axis_label\":\"Frequency\",\"formatter\":{\"id\":\"2145\",\"type\":\"BasicTickFormatter\"},\"ticker\":{\"id\":\"2002\",\"type\":\"BasicTicker\"}},\"id\":\"2001\",\"type\":\"LinearAxis\"},{\"attributes\":{},\"id\":\"2011\",\"type\":\"HelpTool\"},{\"attributes\":{},\"id\":\"1997\",\"type\":\"BasicTicker\"},{\"attributes\":{\"source\":{\"id\":\"2019\",\"type\":\"ColumnDataSource\"}},\"id\":\"2023\",\"type\":\"CDSView\"},{\"attributes\":{\"callback\":null,\"end\":8.815837753128658,\"start\":-0.4198017977680314},\"id\":\"1988\",\"type\":\"Range1d\"},{\"attributes\":{\"callback\":null},\"id\":\"1990\",\"type\":\"DataRange1d\"},{\"attributes\":{},\"id\":\"2147\",\"type\":\"Selection\"},{\"attributes\":{},\"id\":\"2145\",\"type\":\"BasicTickFormatter\"},{\"attributes\":{\"bottom_units\":\"screen\",\"fill_alpha\":{\"value\":0.5},\"fill_color\":{\"value\":\"lightgrey\"},\"left_units\":\"screen\",\"level\":\"overlay\",\"line_alpha\":{\"value\":1.0},\"line_color\":{\"value\":\"black\"},\"line_dash\":[4,4],\"line_width\":{\"value\":2},\"render_mode\":\"css\",\"right_units\":\"screen\",\"top_units\":\"screen\"},\"id\":\"2166\",\"type\":\"BoxAnnotation\"},{\"attributes\":{\"bottom\":{\"value\":0},\"fill_color\":{\"value\":\"#1f77b4\"},\"left\":{\"field\":\"left\"},\"right\":{\"field\":\"right\"},\"top\":{\"field\":\"top\"}},\"id\":\"2137\",\"type\":\"Quad\"},{\"attributes\":{\"background_fill_color\":{\"value\":\"#EEEEEE\"},\"below\":[{\"id\":\"2113\",\"type\":\"LinearAxis\"}],\"center\":[{\"id\":\"2117\",\"type\":\"Grid\"},{\"id\":\"2122\",\"type\":\"Grid\"}],\"left\":[{\"id\":\"2118\",\"type\":\"LinearAxis\"}],\"plot_height\":400,\"plot_width\":500,\"renderers\":[{\"id\":\"2139\",\"type\":\"GlyphRenderer\"}],\"title\":{\"id\":\"2103\",\"type\":\"Title\"},\"toolbar\":{\"id\":\"2129\",\"type\":\"Toolbar\"},\"toolbar_location\":null,\"x_range\":{\"id\":\"2105\",\"type\":\"Range1d\"},\"x_scale\":{\"id\":\"2109\",\"type\":\"LinearScale\"},\"y_range\":{\"id\":\"2107\",\"type\":\"DataRange1d\"},\"y_scale\":{\"id\":\"2111\",\"type\":\"LinearScale\"}},\"id\":\"2102\",\"subtype\":\"Figure\",\"type\":\"Plot\"},{\"attributes\":{},\"id\":\"2010\",\"type\":\"ResetTool\"},{\"attributes\":{},\"id\":\"2007\",\"type\":\"WheelZoomTool\"},{\"attributes\":{\"toolbar\":{\"id\":\"2178\",\"type\":\"ProxyToolbar\"},\"toolbar_location\":\"above\"},\"id\":\"2179\",\"type\":\"ToolbarBox\"},{\"attributes\":{},\"id\":\"2006\",\"type\":\"PanTool\"},{\"attributes\":{},\"id\":\"2173\",\"type\":\"UnionRenderers\"},{\"attributes\":{\"text\":\"FN001485. Zero length blocks: 815\"},\"id\":\"1986\",\"type\":\"Title\"},{\"attributes\":{},\"id\":\"2009\",\"type\":\"SaveTool\"},{\"attributes\":{\"active_drag\":\"auto\",\"active_inspect\":\"auto\",\"active_multi\":null,\"active_scroll\":\"auto\",\"active_tap\":\"auto\",\"tools\":[{\"id\":\"2006\",\"type\":\"PanTool\"},{\"id\":\"2007\",\"type\":\"WheelZoomTool\"},{\"id\":\"2008\",\"type\":\"BoxZoomTool\"},{\"id\":\"2009\",\"type\":\"SaveTool\"},{\"id\":\"2010\",\"type\":\"ResetTool\"},{\"id\":\"2011\",\"type\":\"HelpTool\"}]},\"id\":\"2012\",\"type\":\"Toolbar\"},{\"attributes\":{\"bottom\":{\"value\":0},\"fill_color\":{\"value\":\"#1f77b4\"},\"left\":{\"field\":\"left\"},\"right\":{\"field\":\"right\"},\"top\":{\"field\":\"top\"}},\"id\":\"2020\",\"type\":\"Quad\"},{\"attributes\":{\"bottom_units\":\"screen\",\"fill_alpha\":{\"value\":0.5},\"fill_color\":{\"value\":\"lightgrey\"},\"left_units\":\"screen\",\"level\":\"overlay\",\"line_alpha\":{\"value\":1.0},\"line_color\":{\"value\":\"black\"},\"line_dash\":[4,4],\"line_width\":{\"value\":2},\"render_mode\":\"css\",\"right_units\":\"screen\",\"top_units\":\"screen\"},\"id\":\"2175\",\"type\":\"BoxAnnotation\"},{\"attributes\":{},\"id\":\"2172\",\"type\":\"BasicTickFormatter\"},{\"attributes\":{\"callback\":null,\"data\":{\"left\":[0.0,0.16792071910721254,0.3358414382144251,0.5037621573216376,0.6716828764288502,0.8396035955360627,1.0075243146432753,1.1754450337504878,1.3433657528577003,1.5112864719649128,1.6792071910721253,1.8471279101793379,2.0150486292865506,2.182969348393763,2.3508900675009756,2.518810786608188,2.6867315057154006,2.854652224822613,3.0225729439298257,3.190493663037038,3.3584143821442507,3.526335101251463,3.6942558203586757,3.8621765394658882,4.030097258573101,4.198017977680314,4.365938696787526,4.533859415894739,4.701780135001951,4.869700854109164,5.037621573216376,5.205542292323589,5.373463011430801,5.541383730538014,5.709304449645226,5.877225168752439,6.045145887859651,6.213066606966864,6.380987326074076,6.548908045181289,6.716828764288501,6.884749483395714,7.052670202502926,7.220590921610139,7.3885116407173514,7.556432359824564,7.7243530789317765,7.892273798038989,8.060194517146202,8.228115236253414],\"right\":[0.16792071910721254,0.3358414382144251,0.5037621573216376,0.6716828764288502,0.8396035955360627,1.0075243146432753,1.1754450337504878,1.3433657528577003,1.5112864719649128,1.6792071910721253,1.8471279101793379,2.0150486292865506,2.182969348393763,2.3508900675009756,2.518810786608188,2.6867315057154006,2.854652224822613,3.0225729439298257,3.190493663037038,3.3584143821442507,3.526335101251463,3.6942558203586757,3.8621765394658882,4.030097258573101,4.198017977680314,4.365938696787526,4.533859415894739,4.701780135001951,4.869700854109164,5.037621573216376,5.205542292323589,5.373463011430801,5.541383730538014,5.709304449645226,5.877225168752439,6.045145887859651,6.213066606966864,6.380987326074076,6.548908045181289,6.716828764288501,6.884749483395714,7.052670202502926,7.220590921610139,7.3885116407173514,7.556432359824564,7.7243530789317765,7.892273798038989,8.060194517146202,8.228115236253414,8.396035955360627],\"top\":[18,9,4,4,11,28,18,38,47,55,74,90,125,157,207,151,132,173,168,205,244,287,322,407,548,708,762,786,681,512,291,103,37,3,1,0,0,0,0,0,0,0,0,1,0,2,2,6,7,6]},\"selected\":{\"id\":\"2147\",\"type\":\"Selection\"},\"selection_policy\":{\"id\":\"2146\",\"type\":\"UnionRenderers\"}},\"id\":\"2019\",\"type\":\"ColumnDataSource\"},{\"attributes\":{},\"id\":\"2174\",\"type\":\"Selection\"},{\"attributes\":{\"bottom\":{\"value\":0},\"fill_alpha\":{\"value\":0.1},\"fill_color\":{\"value\":\"#1f77b4\"},\"left\":{\"field\":\"left\"},\"line_alpha\":{\"value\":0.1},\"line_color\":{\"value\":\"#1f77b4\"},\"right\":{\"field\":\"right\"},\"top\":{\"field\":\"top\"}},\"id\":\"2021\",\"type\":\"Quad\"},{\"attributes\":{},\"id\":\"2002\",\"type\":\"BasicTicker\"}],\"root_ids\":[\"2180\"]},\"title\":\"Bokeh Application\",\"version\":\"1.2.0\"}};\n",
       "  var render_items = [{\"docid\":\"a33e422d-d84d-43fb-89d6-9b7febbdf691\",\"roots\":{\"2180\":\"f7526838-f8a2-4206-86fd-f104a40a89e4\"}}];\n",
       "  root.Bokeh.embed.embed_items_notebook(docs_json, render_items);\n",
       "\n",
       "  }\n",
       "  if (root.Bokeh !== undefined) {\n",
       "    embed_document(root);\n",
       "  } else {\n",
       "    var attempts = 0;\n",
       "    var timer = setInterval(function(root) {\n",
       "      if (root.Bokeh !== undefined) {\n",
       "        embed_document(root);\n",
       "        clearInterval(timer);\n",
       "      }\n",
       "      attempts++;\n",
       "      if (attempts > 100) {\n",
       "        console.log(\"Bokeh: ERROR: Unable to run BokehJS code because BokehJS library is missing\");\n",
       "        clearInterval(timer);\n",
       "      }\n",
       "    }, 10, root)\n",
       "  }\n",
       "})(window);"
      ],
      "application/vnd.bokehjs_exec.v0+json": ""
     },
     "metadata": {
      "application/vnd.bokehjs_exec.v0+json": {
       "id": "2180"
      }
     },
     "output_type": "display_data"
    }
   ],
   "source": [
    "show(gridplot(plot_list, ncols=2, plot_width=500, plot_height=400))"
   ]
  },
  {
   "cell_type": "code",
   "execution_count": 18,
   "id": "845537bb-834e-413a-8322-0e473be7900d",
   "metadata": {},
   "outputs": [],
   "source": [
    "ps_len_stats_ht = (ps_stats_ht.group_by(ps_stats_ht.chrom_group)\n",
    "    .aggregate(stats = hl.agg.stats(ps_stats_ht.ps_length)))"
   ]
  },
  {
   "cell_type": "code",
   "execution_count": 19,
   "id": "6e46ca81-c60e-473e-adba-5212b41f3504",
   "metadata": {},
   "outputs": [
    {
     "name": "stderr",
     "output_type": "stream",
     "text": [
      "2021-06-10 09:02:07 Hail: INFO: Ordering unsorted dataset with network shuffle\n"
     ]
    }
   ],
   "source": [
    "ps_len_stats_pd = ps_len_stats_ht.to_pandas()"
   ]
  },
  {
   "cell_type": "code",
   "execution_count": 20,
   "id": "f438fb8c-7b5f-4abf-bc3d-d36dd226238a",
   "metadata": {},
   "outputs": [
    {
     "data": {
      "text/html": [
       "<div>\n",
       "<style scoped>\n",
       "    .dataframe tbody tr th:only-of-type {\n",
       "        vertical-align: middle;\n",
       "    }\n",
       "\n",
       "    .dataframe tbody tr th {\n",
       "        vertical-align: top;\n",
       "    }\n",
       "\n",
       "    .dataframe thead th {\n",
       "        text-align: right;\n",
       "    }\n",
       "</style>\n",
       "<table border=\"1\" class=\"dataframe\">\n",
       "  <thead>\n",
       "    <tr style=\"text-align: right;\">\n",
       "      <th></th>\n",
       "      <th>chrom_group</th>\n",
       "      <th>stats.mean</th>\n",
       "      <th>stats.stdev</th>\n",
       "      <th>stats.min</th>\n",
       "      <th>stats.max</th>\n",
       "      <th>stats.n</th>\n",
       "      <th>stats.sum</th>\n",
       "    </tr>\n",
       "  </thead>\n",
       "  <tbody>\n",
       "    <tr>\n",
       "      <th>0</th>\n",
       "      <td>chr1</td>\n",
       "      <td>3.238456e+05</td>\n",
       "      <td>8.657725e+06</td>\n",
       "      <td>0.0</td>\n",
       "      <td>248924232.0</td>\n",
       "      <td>385799</td>\n",
       "      <td>1.249393e+11</td>\n",
       "    </tr>\n",
       "    <tr>\n",
       "      <th>1</th>\n",
       "      <td>chr10</td>\n",
       "      <td>3.464467e+05</td>\n",
       "      <td>6.600036e+06</td>\n",
       "      <td>0.0</td>\n",
       "      <td>133731379.0</td>\n",
       "      <td>190712</td>\n",
       "      <td>6.607154e+10</td>\n",
       "    </tr>\n",
       "    <tr>\n",
       "      <th>2</th>\n",
       "      <td>chr11</td>\n",
       "      <td>2.939777e+05</td>\n",
       "      <td>6.035545e+06</td>\n",
       "      <td>0.0</td>\n",
       "      <td>134899987.0</td>\n",
       "      <td>231756</td>\n",
       "      <td>6.813110e+10</td>\n",
       "    </tr>\n",
       "    <tr>\n",
       "      <th>3</th>\n",
       "      <td>chr12</td>\n",
       "      <td>3.154983e+05</td>\n",
       "      <td>6.226102e+06</td>\n",
       "      <td>0.0</td>\n",
       "      <td>133222988.0</td>\n",
       "      <td>213359</td>\n",
       "      <td>6.731440e+10</td>\n",
       "    </tr>\n",
       "    <tr>\n",
       "      <th>4</th>\n",
       "      <td>chr13</td>\n",
       "      <td>5.322341e+05</td>\n",
       "      <td>7.006704e+06</td>\n",
       "      <td>0.0</td>\n",
       "      <td>96172914.0</td>\n",
       "      <td>87567</td>\n",
       "      <td>4.660614e+10</td>\n",
       "    </tr>\n",
       "    <tr>\n",
       "      <th>5</th>\n",
       "      <td>chr14</td>\n",
       "      <td>3.349601e+05</td>\n",
       "      <td>5.227407e+06</td>\n",
       "      <td>0.0</td>\n",
       "      <td>88201934.0</td>\n",
       "      <td>130658</td>\n",
       "      <td>4.376522e+10</td>\n",
       "    </tr>\n",
       "    <tr>\n",
       "      <th>6</th>\n",
       "      <td>chr15</td>\n",
       "      <td>3.026227e+05</td>\n",
       "      <td>4.781546e+06</td>\n",
       "      <td>0.0</td>\n",
       "      <td>82013819.0</td>\n",
       "      <td>136218</td>\n",
       "      <td>4.122266e+10</td>\n",
       "    </tr>\n",
       "    <tr>\n",
       "      <th>7</th>\n",
       "      <td>chr16</td>\n",
       "      <td>3.382060e+05</td>\n",
       "      <td>5.295094e+06</td>\n",
       "      <td>0.0</td>\n",
       "      <td>90204734.0</td>\n",
       "      <td>134805</td>\n",
       "      <td>4.559185e+10</td>\n",
       "    </tr>\n",
       "    <tr>\n",
       "      <th>8</th>\n",
       "      <td>chr17</td>\n",
       "      <td>2.483851e+05</td>\n",
       "      <td>4.275575e+06</td>\n",
       "      <td>0.0</td>\n",
       "      <td>83029187.0</td>\n",
       "      <td>175033</td>\n",
       "      <td>4.347559e+10</td>\n",
       "    </tr>\n",
       "    <tr>\n",
       "      <th>9</th>\n",
       "      <td>chr18</td>\n",
       "      <td>4.563142e+05</td>\n",
       "      <td>5.909913e+06</td>\n",
       "      <td>0.0</td>\n",
       "      <td>80199903.0</td>\n",
       "      <td>85364</td>\n",
       "      <td>3.895281e+10</td>\n",
       "    </tr>\n",
       "    <tr>\n",
       "      <th>10</th>\n",
       "      <td>chr19</td>\n",
       "      <td>1.763591e+05</td>\n",
       "      <td>2.885110e+06</td>\n",
       "      <td>0.0</td>\n",
       "      <td>58533209.0</td>\n",
       "      <td>190429</td>\n",
       "      <td>3.358389e+10</td>\n",
       "    </tr>\n",
       "    <tr>\n",
       "      <th>11</th>\n",
       "      <td>chr2</td>\n",
       "      <td>3.953058e+05</td>\n",
       "      <td>9.501414e+06</td>\n",
       "      <td>0.0</td>\n",
       "      <td>242136832.0</td>\n",
       "      <td>302554</td>\n",
       "      <td>1.196013e+11</td>\n",
       "    </tr>\n",
       "    <tr>\n",
       "      <th>12</th>\n",
       "      <td>chr20</td>\n",
       "      <td>2.878183e+05</td>\n",
       "      <td>4.143093e+06</td>\n",
       "      <td>0.0</td>\n",
       "      <td>64198664.0</td>\n",
       "      <td>111576</td>\n",
       "      <td>3.211362e+10</td>\n",
       "    </tr>\n",
       "    <tr>\n",
       "      <th>13</th>\n",
       "      <td>chr21</td>\n",
       "      <td>3.936201e+05</td>\n",
       "      <td>3.876638e+06</td>\n",
       "      <td>0.0</td>\n",
       "      <td>41676627.0</td>\n",
       "      <td>51527</td>\n",
       "      <td>2.028206e+10</td>\n",
       "    </tr>\n",
       "    <tr>\n",
       "      <th>14</th>\n",
       "      <td>chr22</td>\n",
       "      <td>2.209427e+05</td>\n",
       "      <td>2.733241e+06</td>\n",
       "      <td>0.0</td>\n",
       "      <td>40096211.0</td>\n",
       "      <td>89813</td>\n",
       "      <td>1.984353e+10</td>\n",
       "    </tr>\n",
       "    <tr>\n",
       "      <th>15</th>\n",
       "      <td>chr3</td>\n",
       "      <td>3.962298e+05</td>\n",
       "      <td>8.601539e+06</td>\n",
       "      <td>0.0</td>\n",
       "      <td>198018261.0</td>\n",
       "      <td>247024</td>\n",
       "      <td>9.787827e+10</td>\n",
       "    </tr>\n",
       "    <tr>\n",
       "      <th>16</th>\n",
       "      <td>chr4</td>\n",
       "      <td>4.628667e+05</td>\n",
       "      <td>9.160402e+06</td>\n",
       "      <td>0.0</td>\n",
       "      <td>190128228.0</td>\n",
       "      <td>199371</td>\n",
       "      <td>9.228220e+10</td>\n",
       "    </tr>\n",
       "    <tr>\n",
       "      <th>17</th>\n",
       "      <td>chr5</td>\n",
       "      <td>4.533500e+05</td>\n",
       "      <td>8.841247e+06</td>\n",
       "      <td>0.0</td>\n",
       "      <td>181316325.0</td>\n",
       "      <td>195825</td>\n",
       "      <td>8.877727e+10</td>\n",
       "    </tr>\n",
       "    <tr>\n",
       "      <th>18</th>\n",
       "      <td>chr6</td>\n",
       "      <td>3.754634e+05</td>\n",
       "      <td>7.786263e+06</td>\n",
       "      <td>0.0</td>\n",
       "      <td>170593007.0</td>\n",
       "      <td>223477</td>\n",
       "      <td>8.390743e+10</td>\n",
       "    </tr>\n",
       "    <tr>\n",
       "      <th>19</th>\n",
       "      <td>chr7</td>\n",
       "      <td>3.458876e+05</td>\n",
       "      <td>7.206477e+06</td>\n",
       "      <td>0.0</td>\n",
       "      <td>159130926.0</td>\n",
       "      <td>226904</td>\n",
       "      <td>7.848327e+10</td>\n",
       "    </tr>\n",
       "    <tr>\n",
       "      <th>20</th>\n",
       "      <td>chr8</td>\n",
       "      <td>4.260622e+05</td>\n",
       "      <td>7.665978e+06</td>\n",
       "      <td>0.0</td>\n",
       "      <td>144887901.0</td>\n",
       "      <td>166104</td>\n",
       "      <td>7.077064e+10</td>\n",
       "    </tr>\n",
       "    <tr>\n",
       "      <th>21</th>\n",
       "      <td>chr9</td>\n",
       "      <td>3.889029e+05</td>\n",
       "      <td>7.119102e+06</td>\n",
       "      <td>0.0</td>\n",
       "      <td>138301456.0</td>\n",
       "      <td>175585</td>\n",
       "      <td>6.828552e+10</td>\n",
       "    </tr>\n",
       "    <tr>\n",
       "      <th>22</th>\n",
       "      <td>chrX</td>\n",
       "      <td>1.122937e+06</td>\n",
       "      <td>1.309567e+07</td>\n",
       "      <td>0.0</td>\n",
       "      <td>155738092.0</td>\n",
       "      <td>65542</td>\n",
       "      <td>7.359953e+10</td>\n",
       "    </tr>\n",
       "    <tr>\n",
       "      <th>23</th>\n",
       "      <td>chrY</td>\n",
       "      <td>6.169593e+06</td>\n",
       "      <td>8.809984e+06</td>\n",
       "      <td>0.0</td>\n",
       "      <td>23738560.0</td>\n",
       "      <td>619</td>\n",
       "      <td>3.818978e+09</td>\n",
       "    </tr>\n",
       "  </tbody>\n",
       "</table>\n",
       "</div>"
      ],
      "text/plain": [
       "   chrom_group    stats.mean   stats.stdev  stats.min    stats.max  stats.n  \\\n",
       "0         chr1  3.238456e+05  8.657725e+06        0.0  248924232.0   385799   \n",
       "1        chr10  3.464467e+05  6.600036e+06        0.0  133731379.0   190712   \n",
       "2        chr11  2.939777e+05  6.035545e+06        0.0  134899987.0   231756   \n",
       "3        chr12  3.154983e+05  6.226102e+06        0.0  133222988.0   213359   \n",
       "4        chr13  5.322341e+05  7.006704e+06        0.0   96172914.0    87567   \n",
       "5        chr14  3.349601e+05  5.227407e+06        0.0   88201934.0   130658   \n",
       "6        chr15  3.026227e+05  4.781546e+06        0.0   82013819.0   136218   \n",
       "7        chr16  3.382060e+05  5.295094e+06        0.0   90204734.0   134805   \n",
       "8        chr17  2.483851e+05  4.275575e+06        0.0   83029187.0   175033   \n",
       "9        chr18  4.563142e+05  5.909913e+06        0.0   80199903.0    85364   \n",
       "10       chr19  1.763591e+05  2.885110e+06        0.0   58533209.0   190429   \n",
       "11        chr2  3.953058e+05  9.501414e+06        0.0  242136832.0   302554   \n",
       "12       chr20  2.878183e+05  4.143093e+06        0.0   64198664.0   111576   \n",
       "13       chr21  3.936201e+05  3.876638e+06        0.0   41676627.0    51527   \n",
       "14       chr22  2.209427e+05  2.733241e+06        0.0   40096211.0    89813   \n",
       "15        chr3  3.962298e+05  8.601539e+06        0.0  198018261.0   247024   \n",
       "16        chr4  4.628667e+05  9.160402e+06        0.0  190128228.0   199371   \n",
       "17        chr5  4.533500e+05  8.841247e+06        0.0  181316325.0   195825   \n",
       "18        chr6  3.754634e+05  7.786263e+06        0.0  170593007.0   223477   \n",
       "19        chr7  3.458876e+05  7.206477e+06        0.0  159130926.0   226904   \n",
       "20        chr8  4.260622e+05  7.665978e+06        0.0  144887901.0   166104   \n",
       "21        chr9  3.889029e+05  7.119102e+06        0.0  138301456.0   175585   \n",
       "22        chrX  1.122937e+06  1.309567e+07        0.0  155738092.0    65542   \n",
       "23        chrY  6.169593e+06  8.809984e+06        0.0   23738560.0      619   \n",
       "\n",
       "       stats.sum  \n",
       "0   1.249393e+11  \n",
       "1   6.607154e+10  \n",
       "2   6.813110e+10  \n",
       "3   6.731440e+10  \n",
       "4   4.660614e+10  \n",
       "5   4.376522e+10  \n",
       "6   4.122266e+10  \n",
       "7   4.559185e+10  \n",
       "8   4.347559e+10  \n",
       "9   3.895281e+10  \n",
       "10  3.358389e+10  \n",
       "11  1.196013e+11  \n",
       "12  3.211362e+10  \n",
       "13  2.028206e+10  \n",
       "14  1.984353e+10  \n",
       "15  9.787827e+10  \n",
       "16  9.228220e+10  \n",
       "17  8.877727e+10  \n",
       "18  8.390743e+10  \n",
       "19  7.848327e+10  \n",
       "20  7.077064e+10  \n",
       "21  6.828552e+10  \n",
       "22  7.359953e+10  \n",
       "23  3.818978e+09  "
      ]
     },
     "execution_count": 20,
     "metadata": {},
     "output_type": "execute_result"
    }
   ],
   "source": [
    "ps_len_stats_pd.sort_values('chrom_group')"
   ]
  },
  {
   "cell_type": "code",
   "execution_count": 21,
   "id": "a76b6c96-78af-4e9a-bc5a-25ad6c4af83a",
   "metadata": {},
   "outputs": [
    {
     "name": "stderr",
     "output_type": "stream",
     "text": [
      "2021-06-10 09:02:10 Hail: INFO: Ordering unsorted dataset with network shuffle\n"
     ]
    },
    {
     "data": {
      "text/html": [
       "\n",
       "\n",
       "\n",
       "\n",
       "\n",
       "\n",
       "  <div class=\"bk-root\" id=\"f63373e8-4bb5-45db-a130-d717a4b94fb0\" data-root-id=\"2477\"></div>\n"
      ]
     },
     "metadata": {},
     "output_type": "display_data"
    },
    {
     "data": {
      "application/javascript": [
       "(function(root) {\n",
       "  function embed_document(root) {\n",
       "    \n",
       "  var docs_json = {\"46f8845b-9e12-4481-86a4-69e727d59300\":{\"roots\":{\"references\":[{\"attributes\":{\"below\":[{\"id\":\"2487\",\"type\":\"LinearAxis\"}],\"center\":[{\"id\":\"2491\",\"type\":\"Grid\"},{\"id\":\"2496\",\"type\":\"Grid\"}],\"left\":[{\"id\":\"2492\",\"type\":\"LinearAxis\"},{\"id\":\"2682\",\"type\":\"Legend\"},{\"id\":\"2683\",\"type\":\"ColorBar\"}],\"plot_height\":800,\"plot_width\":800,\"renderers\":[{\"id\":\"2519\",\"type\":\"GlyphRenderer\"},{\"id\":\"2525\",\"type\":\"GlyphRenderer\"},{\"id\":\"2531\",\"type\":\"GlyphRenderer\"},{\"id\":\"2537\",\"type\":\"GlyphRenderer\"},{\"id\":\"2543\",\"type\":\"GlyphRenderer\"},{\"id\":\"2549\",\"type\":\"GlyphRenderer\"},{\"id\":\"2555\",\"type\":\"GlyphRenderer\"},{\"id\":\"2561\",\"type\":\"GlyphRenderer\"},{\"id\":\"2567\",\"type\":\"GlyphRenderer\"},{\"id\":\"2573\",\"type\":\"GlyphRenderer\"},{\"id\":\"2579\",\"type\":\"GlyphRenderer\"},{\"id\":\"2585\",\"type\":\"GlyphRenderer\"},{\"id\":\"2591\",\"type\":\"GlyphRenderer\"},{\"id\":\"2597\",\"type\":\"GlyphRenderer\"},{\"id\":\"2603\",\"type\":\"GlyphRenderer\"},{\"id\":\"2609\",\"type\":\"GlyphRenderer\"},{\"id\":\"2615\",\"type\":\"GlyphRenderer\"},{\"id\":\"2621\",\"type\":\"GlyphRenderer\"},{\"id\":\"2627\",\"type\":\"GlyphRenderer\"},{\"id\":\"2633\",\"type\":\"GlyphRenderer\"},{\"id\":\"2639\",\"type\":\"GlyphRenderer\"},{\"id\":\"2645\",\"type\":\"GlyphRenderer\"},{\"id\":\"2651\",\"type\":\"GlyphRenderer\"},{\"id\":\"2657\",\"type\":\"GlyphRenderer\"}],\"title\":null,\"toolbar\":{\"id\":\"2503\",\"type\":\"Toolbar\"},\"x_range\":{\"id\":\"2479\",\"type\":\"DataRange1d\"},\"x_scale\":{\"id\":\"2483\",\"type\":\"LinearScale\"},\"y_range\":{\"id\":\"2481\",\"type\":\"DataRange1d\"},\"y_scale\":{\"id\":\"2485\",\"type\":\"LinearScale\"}},\"id\":\"2477\",\"subtype\":\"Figure\",\"type\":\"Plot\"},{\"attributes\":{\"label\":{\"value\":\"chrY\"},\"renderers\":[{\"id\":\"2657\",\"type\":\"GlyphRenderer\"}]},\"id\":\"2681\",\"type\":\"LegendItem\"},{\"attributes\":{\"fill_alpha\":{\"value\":0.1},\"fill_color\":{\"value\":\"#1f77b4\"},\"line_alpha\":{\"value\":0.1},\"line_color\":{\"value\":\"#1f77b4\"},\"x\":{\"field\":\"x\"},\"y\":{\"field\":\"y\"}},\"id\":\"2518\",\"type\":\"Circle\"},{\"attributes\":{\"fill_color\":{\"field\":\"label\",\"transform\":{\"id\":\"2513\",\"type\":\"CategoricalColorMapper\"}},\"line_color\":{\"field\":\"label\",\"transform\":{\"id\":\"2513\",\"type\":\"CategoricalColorMapper\"}},\"x\":{\"field\":\"x\"},\"y\":{\"field\":\"y\"}},\"id\":\"2517\",\"type\":\"Circle\"},{\"attributes\":{\"label\":{\"value\":\"chr18\"},\"renderers\":[{\"id\":\"2573\",\"type\":\"GlyphRenderer\"}]},\"id\":\"2667\",\"type\":\"LegendItem\"},{\"attributes\":{\"filters\":[{\"id\":\"2616\",\"type\":\"GroupFilter\"}],\"source\":{\"id\":\"2512\",\"type\":\"ColumnDataSource\"}},\"id\":\"2617\",\"type\":\"CDSView\"},{\"attributes\":{\"filters\":[{\"id\":\"2538\",\"type\":\"GroupFilter\"}],\"source\":{\"id\":\"2512\",\"type\":\"ColumnDataSource\"}},\"id\":\"2539\",\"type\":\"CDSView\"},{\"attributes\":{\"fill_alpha\":{\"value\":0.1},\"fill_color\":{\"value\":\"#1f77b4\"},\"line_alpha\":{\"value\":0.1},\"line_color\":{\"value\":\"#1f77b4\"},\"x\":{\"field\":\"x\"},\"y\":{\"field\":\"y\"}},\"id\":\"2554\",\"type\":\"Circle\"},{\"attributes\":{\"fill_color\":{\"field\":\"label\",\"transform\":{\"id\":\"2513\",\"type\":\"CategoricalColorMapper\"}},\"line_color\":{\"field\":\"label\",\"transform\":{\"id\":\"2513\",\"type\":\"CategoricalColorMapper\"}},\"x\":{\"field\":\"x\"},\"y\":{\"field\":\"y\"}},\"id\":\"2655\",\"type\":\"Circle\"},{\"attributes\":{\"fill_alpha\":{\"value\":0.1},\"fill_color\":{\"value\":\"#1f77b4\"},\"line_alpha\":{\"value\":0.1},\"line_color\":{\"value\":\"#1f77b4\"},\"x\":{\"field\":\"x\"},\"y\":{\"field\":\"y\"}},\"id\":\"2548\",\"type\":\"Circle\"},{\"attributes\":{\"column_name\":\"label\",\"group\":\"chr13\"},\"id\":\"2538\",\"type\":\"GroupFilter\"},{\"attributes\":{\"fill_color\":{\"field\":\"label\",\"transform\":{\"id\":\"2513\",\"type\":\"CategoricalColorMapper\"}},\"line_color\":{\"field\":\"label\",\"transform\":{\"id\":\"2513\",\"type\":\"CategoricalColorMapper\"}},\"x\":{\"field\":\"x\"},\"y\":{\"field\":\"y\"}},\"id\":\"2559\",\"type\":\"Circle\"},{\"attributes\":{\"data_source\":{\"id\":\"2512\",\"type\":\"ColumnDataSource\"},\"glyph\":{\"id\":\"2541\",\"type\":\"Circle\"},\"hover_glyph\":null,\"muted_glyph\":null,\"nonselection_glyph\":{\"id\":\"2542\",\"type\":\"Circle\"},\"selection_glyph\":null,\"view\":{\"id\":\"2539\",\"type\":\"CDSView\"}},\"id\":\"2543\",\"type\":\"GlyphRenderer\"},{\"attributes\":{\"factors\":[\"chr15\",\"chr14\",\"chr3\",\"chr20\",\"chr9\",\"chr2\",\"chr11\",\"chr16\",\"chr19\",\"chr18\",\"chr13\",\"chr1\",\"chr10\",\"chr17\",\"chr6\",\"chrY\",\"chrX\",\"chr21\",\"chr12\",\"chr8\",\"chr5\",\"chr7\",\"chr22\",\"chr4\"],\"palette\":[\"#440154\",\"#471163\",\"#482071\",\"#462D7C\",\"#433B83\",\"#3E4888\",\"#39548B\",\"#345F8D\",\"#2F6A8D\",\"#2A758E\",\"#267F8E\",\"#22898D\",\"#1F958B\",\"#1E9F88\",\"#23A982\",\"#2FB37B\",\"#40BD72\",\"#55C666\",\"#6DCE58\",\"#88D547\",\"#A5DA35\",\"#C2DF22\",\"#DFE318\",\"#FDE724\"]},\"id\":\"2513\",\"type\":\"CategoricalColorMapper\"},{\"attributes\":{\"data_source\":{\"id\":\"2512\",\"type\":\"ColumnDataSource\"},\"glyph\":{\"id\":\"2547\",\"type\":\"Circle\"},\"hover_glyph\":null,\"muted_glyph\":null,\"nonselection_glyph\":{\"id\":\"2548\",\"type\":\"Circle\"},\"selection_glyph\":null,\"view\":{\"id\":\"2545\",\"type\":\"CDSView\"}},\"id\":\"2549\",\"type\":\"GlyphRenderer\"},{\"attributes\":{\"fill_color\":{\"field\":\"label\",\"transform\":{\"id\":\"2513\",\"type\":\"CategoricalColorMapper\"}},\"line_color\":{\"field\":\"label\",\"transform\":{\"id\":\"2513\",\"type\":\"CategoricalColorMapper\"}},\"x\":{\"field\":\"x\"},\"y\":{\"field\":\"y\"}},\"id\":\"2523\",\"type\":\"Circle\"},{\"attributes\":{\"callback\":null,\"data\":{\"Chrom\":[\"chr19\",\"chr22\",\"chr17\",\"chr20\",\"chr11\",\"chr15\",\"chr12\",\"chr1\",\"chr14\",\"chr16\",\"chr10\",\"chr7\",\"chr6\",\"chr21\",\"chr9\",\"chr3\",\"chr2\",\"chr8\",\"chr18\",\"chr5\",\"chr4\",\"chr13\",\"chrX\",\"chrY\"],\"index\":[0,1,2,3,4,5,6,7,8,9,10,11,12,13,14,15,16,17,18,19,20,21,22,23],\"label\":[\"chr19\",\"chr22\",\"chr17\",\"chr20\",\"chr11\",\"chr15\",\"chr12\",\"chr1\",\"chr14\",\"chr16\",\"chr10\",\"chr7\",\"chr6\",\"chr21\",\"chr9\",\"chr3\",\"chr2\",\"chr8\",\"chr18\",\"chr5\",\"chr4\",\"chr13\",\"chrX\",\"chrY\"],\"x\":{\"__ndarray__\":\"cWL5DDmHBUF71bCFdfgKQa6DRwAJUg5BU7hyYimREUGEdRnKZvERQYDYANt6eBJBzlJUJqlBE0E4l0KSFsQTQbqGI3bAcRRBkuxa1XekFEHoOBO+OiUVQZlrbU9+HBVBaHWrhJ3qFkHDgTYzUAYYQUXTtqybvBdBaJCVPBcvGEFOiqUqpyAYQV0Oifw4ARpB1XUV3+jZG0H68ngpmKsbQb+WVeBKQBxBwHl9KBQ+IEGWBWfUeCIxQTEe5UL+iFdB\",\"dtype\":\"float64\",\"shape\":[24]},\"y\":{\"__ndarray__\":\"AAAAAOg+B0EAAAAAUO31QAAAAADIXQVBAAAAAIA9+0AAAAAAYEoMQQAAAADQoABBAAAAAHgLCkEAAAAAHIwXQQAAAAAg5v9AAAAAAKh0AEEAAAAAwEcHQQAAAADAsgtBAAAAAKhHC0EAAAAA4CjpQAAAAAAIbwVBAAAAAIAnDkEAAAAAaHcSQQAAAADARgRBAAAAAEDX9EAAAAAAiOcHQQAAAABYVghBAAAAAPBg9UAAAAAAYADwQAAAAAAAWINA\",\"dtype\":\"float64\",\"shape\":[24]}},\"selected\":{\"id\":\"2796\",\"type\":\"Selection\"},\"selection_policy\":{\"id\":\"2795\",\"type\":\"UnionRenderers\"}},\"id\":\"2512\",\"type\":\"ColumnDataSource\"},{\"attributes\":{\"fill_alpha\":{\"value\":0.1},\"fill_color\":{\"value\":\"#1f77b4\"},\"line_alpha\":{\"value\":0.1},\"line_color\":{\"value\":\"#1f77b4\"},\"x\":{\"field\":\"x\"},\"y\":{\"field\":\"y\"}},\"id\":\"2536\",\"type\":\"Circle\"},{\"attributes\":{\"column_name\":\"label\",\"group\":\"chr20\"},\"id\":\"2586\",\"type\":\"GroupFilter\"},{\"attributes\":{\"data_source\":{\"id\":\"2512\",\"type\":\"ColumnDataSource\"},\"glyph\":{\"id\":\"2649\",\"type\":\"Circle\"},\"hover_glyph\":null,\"muted_glyph\":null,\"nonselection_glyph\":{\"id\":\"2650\",\"type\":\"Circle\"},\"selection_glyph\":null,\"view\":{\"id\":\"2647\",\"type\":\"CDSView\"}},\"id\":\"2651\",\"type\":\"GlyphRenderer\"},{\"attributes\":{\"filters\":[{\"id\":\"2532\",\"type\":\"GroupFilter\"}],\"source\":{\"id\":\"2512\",\"type\":\"ColumnDataSource\"}},\"id\":\"2533\",\"type\":\"CDSView\"},{\"attributes\":{\"filters\":[{\"id\":\"2586\",\"type\":\"GroupFilter\"}],\"source\":{\"id\":\"2512\",\"type\":\"ColumnDataSource\"}},\"id\":\"2587\",\"type\":\"CDSView\"},{\"attributes\":{\"active_drag\":\"auto\",\"active_inspect\":\"auto\",\"active_multi\":null,\"active_scroll\":\"auto\",\"active_tap\":\"auto\",\"tools\":[{\"id\":\"2497\",\"type\":\"PanTool\"},{\"id\":\"2498\",\"type\":\"WheelZoomTool\"},{\"id\":\"2499\",\"type\":\"BoxZoomTool\"},{\"id\":\"2500\",\"type\":\"SaveTool\"},{\"id\":\"2501\",\"type\":\"ResetTool\"},{\"id\":\"2502\",\"type\":\"HelpTool\"},{\"id\":\"2511\",\"type\":\"HoverTool\"}]},\"id\":\"2503\",\"type\":\"Toolbar\"},{\"attributes\":{\"data_source\":{\"id\":\"2512\",\"type\":\"ColumnDataSource\"},\"glyph\":{\"id\":\"2601\",\"type\":\"Circle\"},\"hover_glyph\":null,\"muted_glyph\":null,\"nonselection_glyph\":{\"id\":\"2602\",\"type\":\"Circle\"},\"selection_glyph\":null,\"view\":{\"id\":\"2599\",\"type\":\"CDSView\"}},\"id\":\"2603\",\"type\":\"GlyphRenderer\"},{\"attributes\":{\"column_name\":\"label\",\"group\":\"chr4\"},\"id\":\"2610\",\"type\":\"GroupFilter\"},{\"attributes\":{\"fill_color\":{\"field\":\"label\",\"transform\":{\"id\":\"2513\",\"type\":\"CategoricalColorMapper\"}},\"line_color\":{\"field\":\"label\",\"transform\":{\"id\":\"2513\",\"type\":\"CategoricalColorMapper\"}},\"x\":{\"field\":\"x\"},\"y\":{\"field\":\"y\"}},\"id\":\"2589\",\"type\":\"Circle\"},{\"attributes\":{\"fill_alpha\":{\"value\":0.1},\"fill_color\":{\"value\":\"#1f77b4\"},\"line_alpha\":{\"value\":0.1},\"line_color\":{\"value\":\"#1f77b4\"},\"x\":{\"field\":\"x\"},\"y\":{\"field\":\"y\"}},\"id\":\"2650\",\"type\":\"Circle\"},{\"attributes\":{\"formatter\":{\"id\":\"2792\",\"type\":\"BasicTickFormatter\"},\"ticker\":{\"id\":\"2493\",\"type\":\"BasicTicker\"}},\"id\":\"2492\",\"type\":\"LinearAxis\"},{\"attributes\":{\"fill_alpha\":{\"value\":0.1},\"fill_color\":{\"value\":\"#1f77b4\"},\"line_alpha\":{\"value\":0.1},\"line_color\":{\"value\":\"#1f77b4\"},\"x\":{\"field\":\"x\"},\"y\":{\"field\":\"y\"}},\"id\":\"2590\",\"type\":\"Circle\"},{\"attributes\":{\"color_mapper\":null,\"formatter\":{\"id\":\"2794\",\"type\":\"BasicTickFormatter\"},\"ticker\":{\"id\":\"2793\",\"type\":\"BasicTicker\"},\"visible\":false},\"id\":\"2683\",\"type\":\"ColorBar\"},{\"attributes\":{\"formatter\":{\"id\":\"2790\",\"type\":\"BasicTickFormatter\"},\"ticker\":{\"id\":\"2488\",\"type\":\"BasicTicker\"}},\"id\":\"2487\",\"type\":\"LinearAxis\"},{\"attributes\":{\"filters\":[{\"id\":\"2556\",\"type\":\"GroupFilter\"}],\"source\":{\"id\":\"2512\",\"type\":\"ColumnDataSource\"}},\"id\":\"2557\",\"type\":\"CDSView\"},{\"attributes\":{\"column_name\":\"label\",\"group\":\"chr21\"},\"id\":\"2592\",\"type\":\"GroupFilter\"},{\"attributes\":{\"fill_color\":{\"field\":\"label\",\"transform\":{\"id\":\"2513\",\"type\":\"CategoricalColorMapper\"}},\"line_color\":{\"field\":\"label\",\"transform\":{\"id\":\"2513\",\"type\":\"CategoricalColorMapper\"}},\"x\":{\"field\":\"x\"},\"y\":{\"field\":\"y\"}},\"id\":\"2583\",\"type\":\"Circle\"},{\"attributes\":{\"overlay\":{\"id\":\"2797\",\"type\":\"BoxAnnotation\"}},\"id\":\"2499\",\"type\":\"BoxZoomTool\"},{\"attributes\":{\"label\":{\"value\":\"chr20\"},\"renderers\":[{\"id\":\"2591\",\"type\":\"GlyphRenderer\"}]},\"id\":\"2670\",\"type\":\"LegendItem\"},{\"attributes\":{\"fill_alpha\":{\"value\":0.1},\"fill_color\":{\"value\":\"#1f77b4\"},\"line_alpha\":{\"value\":0.1},\"line_color\":{\"value\":\"#1f77b4\"},\"x\":{\"field\":\"x\"},\"y\":{\"field\":\"y\"}},\"id\":\"2542\",\"type\":\"Circle\"},{\"attributes\":{\"column_name\":\"label\",\"group\":\"chr1\"},\"id\":\"2514\",\"type\":\"GroupFilter\"},{\"attributes\":{\"data_source\":{\"id\":\"2512\",\"type\":\"ColumnDataSource\"},\"glyph\":{\"id\":\"2529\",\"type\":\"Circle\"},\"hover_glyph\":null,\"muted_glyph\":null,\"nonselection_glyph\":{\"id\":\"2530\",\"type\":\"Circle\"},\"selection_glyph\":null,\"view\":{\"id\":\"2527\",\"type\":\"CDSView\"}},\"id\":\"2531\",\"type\":\"GlyphRenderer\"},{\"attributes\":{\"data_source\":{\"id\":\"2512\",\"type\":\"ColumnDataSource\"},\"glyph\":{\"id\":\"2589\",\"type\":\"Circle\"},\"hover_glyph\":null,\"muted_glyph\":null,\"nonselection_glyph\":{\"id\":\"2590\",\"type\":\"Circle\"},\"selection_glyph\":null,\"view\":{\"id\":\"2587\",\"type\":\"CDSView\"}},\"id\":\"2591\",\"type\":\"GlyphRenderer\"},{\"attributes\":{\"filters\":[{\"id\":\"2604\",\"type\":\"GroupFilter\"}],\"source\":{\"id\":\"2512\",\"type\":\"ColumnDataSource\"}},\"id\":\"2605\",\"type\":\"CDSView\"},{\"attributes\":{\"filters\":[{\"id\":\"2652\",\"type\":\"GroupFilter\"}],\"source\":{\"id\":\"2512\",\"type\":\"ColumnDataSource\"}},\"id\":\"2653\",\"type\":\"CDSView\"},{\"attributes\":{},\"id\":\"2502\",\"type\":\"HelpTool\"},{\"attributes\":{\"column_name\":\"label\",\"group\":\"chr12\"},\"id\":\"2532\",\"type\":\"GroupFilter\"},{\"attributes\":{\"data_source\":{\"id\":\"2512\",\"type\":\"ColumnDataSource\"},\"glyph\":{\"id\":\"2517\",\"type\":\"Circle\"},\"hover_glyph\":null,\"muted_glyph\":null,\"nonselection_glyph\":{\"id\":\"2518\",\"type\":\"Circle\"},\"selection_glyph\":null,\"view\":{\"id\":\"2515\",\"type\":\"CDSView\"}},\"id\":\"2519\",\"type\":\"GlyphRenderer\"},{\"attributes\":{\"fill_alpha\":{\"value\":0.1},\"fill_color\":{\"value\":\"#1f77b4\"},\"line_alpha\":{\"value\":0.1},\"line_color\":{\"value\":\"#1f77b4\"},\"x\":{\"field\":\"x\"},\"y\":{\"field\":\"y\"}},\"id\":\"2656\",\"type\":\"Circle\"},{\"attributes\":{\"column_name\":\"label\",\"group\":\"chr16\"},\"id\":\"2556\",\"type\":\"GroupFilter\"},{\"attributes\":{\"filters\":[{\"id\":\"2574\",\"type\":\"GroupFilter\"}],\"source\":{\"id\":\"2512\",\"type\":\"ColumnDataSource\"}},\"id\":\"2575\",\"type\":\"CDSView\"},{\"attributes\":{\"column_name\":\"label\",\"group\":\"chrY\"},\"id\":\"2652\",\"type\":\"GroupFilter\"},{\"attributes\":{\"data_source\":{\"id\":\"2512\",\"type\":\"ColumnDataSource\"},\"glyph\":{\"id\":\"2559\",\"type\":\"Circle\"},\"hover_glyph\":null,\"muted_glyph\":null,\"nonselection_glyph\":{\"id\":\"2560\",\"type\":\"Circle\"},\"selection_glyph\":null,\"view\":{\"id\":\"2557\",\"type\":\"CDSView\"}},\"id\":\"2561\",\"type\":\"GlyphRenderer\"},{\"attributes\":{\"filters\":[{\"id\":\"2514\",\"type\":\"GroupFilter\"}],\"source\":{\"id\":\"2512\",\"type\":\"ColumnDataSource\"}},\"id\":\"2515\",\"type\":\"CDSView\"},{\"attributes\":{\"filters\":[{\"id\":\"2568\",\"type\":\"GroupFilter\"}],\"source\":{\"id\":\"2512\",\"type\":\"ColumnDataSource\"}},\"id\":\"2569\",\"type\":\"CDSView\"},{\"attributes\":{\"dimension\":1,\"ticker\":{\"id\":\"2493\",\"type\":\"BasicTicker\"}},\"id\":\"2496\",\"type\":\"Grid\"},{\"attributes\":{\"fill_color\":{\"field\":\"label\",\"transform\":{\"id\":\"2513\",\"type\":\"CategoricalColorMapper\"}},\"line_color\":{\"field\":\"label\",\"transform\":{\"id\":\"2513\",\"type\":\"CategoricalColorMapper\"}},\"x\":{\"field\":\"x\"},\"y\":{\"field\":\"y\"}},\"id\":\"2565\",\"type\":\"Circle\"},{\"attributes\":{},\"id\":\"2793\",\"type\":\"BasicTicker\"},{\"attributes\":{\"fill_color\":{\"field\":\"label\",\"transform\":{\"id\":\"2513\",\"type\":\"CategoricalColorMapper\"}},\"line_color\":{\"field\":\"label\",\"transform\":{\"id\":\"2513\",\"type\":\"CategoricalColorMapper\"}},\"x\":{\"field\":\"x\"},\"y\":{\"field\":\"y\"}},\"id\":\"2613\",\"type\":\"Circle\"},{\"attributes\":{},\"id\":\"2501\",\"type\":\"ResetTool\"},{\"attributes\":{\"label\":{\"value\":\"chr21\"},\"renderers\":[{\"id\":\"2597\",\"type\":\"GlyphRenderer\"}]},\"id\":\"2671\",\"type\":\"LegendItem\"},{\"attributes\":{},\"id\":\"2497\",\"type\":\"PanTool\"},{\"attributes\":{\"data_source\":{\"id\":\"2512\",\"type\":\"ColumnDataSource\"},\"glyph\":{\"id\":\"2655\",\"type\":\"Circle\"},\"hover_glyph\":null,\"muted_glyph\":null,\"nonselection_glyph\":{\"id\":\"2656\",\"type\":\"Circle\"},\"selection_glyph\":null,\"view\":{\"id\":\"2653\",\"type\":\"CDSView\"}},\"id\":\"2657\",\"type\":\"GlyphRenderer\"},{\"attributes\":{},\"id\":\"2485\",\"type\":\"LinearScale\"},{\"attributes\":{\"data_source\":{\"id\":\"2512\",\"type\":\"ColumnDataSource\"},\"glyph\":{\"id\":\"2565\",\"type\":\"Circle\"},\"hover_glyph\":null,\"muted_glyph\":null,\"nonselection_glyph\":{\"id\":\"2566\",\"type\":\"Circle\"},\"selection_glyph\":null,\"view\":{\"id\":\"2563\",\"type\":\"CDSView\"}},\"id\":\"2567\",\"type\":\"GlyphRenderer\"},{\"attributes\":{},\"id\":\"2493\",\"type\":\"BasicTicker\"},{\"attributes\":{\"fill_color\":{\"field\":\"label\",\"transform\":{\"id\":\"2513\",\"type\":\"CategoricalColorMapper\"}},\"line_color\":{\"field\":\"label\",\"transform\":{\"id\":\"2513\",\"type\":\"CategoricalColorMapper\"}},\"x\":{\"field\":\"x\"},\"y\":{\"field\":\"y\"}},\"id\":\"2541\",\"type\":\"Circle\"},{\"attributes\":{\"data_source\":{\"id\":\"2512\",\"type\":\"ColumnDataSource\"},\"glyph\":{\"id\":\"2535\",\"type\":\"Circle\"},\"hover_glyph\":null,\"muted_glyph\":null,\"nonselection_glyph\":{\"id\":\"2536\",\"type\":\"Circle\"},\"selection_glyph\":null,\"view\":{\"id\":\"2533\",\"type\":\"CDSView\"}},\"id\":\"2537\",\"type\":\"GlyphRenderer\"},{\"attributes\":{\"filters\":[{\"id\":\"2610\",\"type\":\"GroupFilter\"}],\"source\":{\"id\":\"2512\",\"type\":\"ColumnDataSource\"}},\"id\":\"2611\",\"type\":\"CDSView\"},{\"attributes\":{},\"id\":\"2500\",\"type\":\"SaveTool\"},{\"attributes\":{\"fill_alpha\":{\"value\":0.1},\"fill_color\":{\"value\":\"#1f77b4\"},\"line_alpha\":{\"value\":0.1},\"line_color\":{\"value\":\"#1f77b4\"},\"x\":{\"field\":\"x\"},\"y\":{\"field\":\"y\"}},\"id\":\"2602\",\"type\":\"Circle\"},{\"attributes\":{\"click_policy\":\"hide\",\"items\":[{\"id\":\"2658\",\"type\":\"LegendItem\"},{\"id\":\"2659\",\"type\":\"LegendItem\"},{\"id\":\"2660\",\"type\":\"LegendItem\"},{\"id\":\"2661\",\"type\":\"LegendItem\"},{\"id\":\"2662\",\"type\":\"LegendItem\"},{\"id\":\"2663\",\"type\":\"LegendItem\"},{\"id\":\"2664\",\"type\":\"LegendItem\"},{\"id\":\"2665\",\"type\":\"LegendItem\"},{\"id\":\"2666\",\"type\":\"LegendItem\"},{\"id\":\"2667\",\"type\":\"LegendItem\"},{\"id\":\"2668\",\"type\":\"LegendItem\"},{\"id\":\"2669\",\"type\":\"LegendItem\"},{\"id\":\"2670\",\"type\":\"LegendItem\"},{\"id\":\"2671\",\"type\":\"LegendItem\"},{\"id\":\"2672\",\"type\":\"LegendItem\"},{\"id\":\"2673\",\"type\":\"LegendItem\"},{\"id\":\"2674\",\"type\":\"LegendItem\"},{\"id\":\"2675\",\"type\":\"LegendItem\"},{\"id\":\"2676\",\"type\":\"LegendItem\"},{\"id\":\"2677\",\"type\":\"LegendItem\"},{\"id\":\"2678\",\"type\":\"LegendItem\"},{\"id\":\"2679\",\"type\":\"LegendItem\"},{\"id\":\"2680\",\"type\":\"LegendItem\"},{\"id\":\"2681\",\"type\":\"LegendItem\"}]},\"id\":\"2682\",\"type\":\"Legend\"},{\"attributes\":{},\"id\":\"2488\",\"type\":\"BasicTicker\"},{\"attributes\":{\"fill_color\":{\"field\":\"label\",\"transform\":{\"id\":\"2513\",\"type\":\"CategoricalColorMapper\"}},\"line_color\":{\"field\":\"label\",\"transform\":{\"id\":\"2513\",\"type\":\"CategoricalColorMapper\"}},\"x\":{\"field\":\"x\"},\"y\":{\"field\":\"y\"}},\"id\":\"2577\",\"type\":\"Circle\"},{\"attributes\":{\"data_source\":{\"id\":\"2512\",\"type\":\"ColumnDataSource\"},\"glyph\":{\"id\":\"2571\",\"type\":\"Circle\"},\"hover_glyph\":null,\"muted_glyph\":null,\"nonselection_glyph\":{\"id\":\"2572\",\"type\":\"Circle\"},\"selection_glyph\":null,\"view\":{\"id\":\"2569\",\"type\":\"CDSView\"}},\"id\":\"2573\",\"type\":\"GlyphRenderer\"},{\"attributes\":{\"label\":{\"value\":\"chr9\"},\"renderers\":[{\"id\":\"2645\",\"type\":\"GlyphRenderer\"}]},\"id\":\"2679\",\"type\":\"LegendItem\"},{\"attributes\":{\"fill_alpha\":{\"value\":0.1},\"fill_color\":{\"value\":\"#1f77b4\"},\"line_alpha\":{\"value\":0.1},\"line_color\":{\"value\":\"#1f77b4\"},\"x\":{\"field\":\"x\"},\"y\":{\"field\":\"y\"}},\"id\":\"2566\",\"type\":\"Circle\"},{\"attributes\":{},\"id\":\"2498\",\"type\":\"WheelZoomTool\"},{\"attributes\":{\"label\":{\"value\":\"chrX\"},\"renderers\":[{\"id\":\"2651\",\"type\":\"GlyphRenderer\"}]},\"id\":\"2680\",\"type\":\"LegendItem\"},{\"attributes\":{\"fill_color\":{\"field\":\"label\",\"transform\":{\"id\":\"2513\",\"type\":\"CategoricalColorMapper\"}},\"line_color\":{\"field\":\"label\",\"transform\":{\"id\":\"2513\",\"type\":\"CategoricalColorMapper\"}},\"x\":{\"field\":\"x\"},\"y\":{\"field\":\"y\"}},\"id\":\"2547\",\"type\":\"Circle\"},{\"attributes\":{\"label\":{\"value\":\"chr3\"},\"renderers\":[{\"id\":\"2609\",\"type\":\"GlyphRenderer\"}]},\"id\":\"2673\",\"type\":\"LegendItem\"},{\"attributes\":{\"fill_color\":{\"field\":\"label\",\"transform\":{\"id\":\"2513\",\"type\":\"CategoricalColorMapper\"}},\"line_color\":{\"field\":\"label\",\"transform\":{\"id\":\"2513\",\"type\":\"CategoricalColorMapper\"}},\"x\":{\"field\":\"x\"},\"y\":{\"field\":\"y\"}},\"id\":\"2553\",\"type\":\"Circle\"},{\"attributes\":{\"callback\":null,\"tooltips\":[[\"x\",\"@x\"],[\"y\",\"@y\"],[\"Chrom\",\"@Chrom\"],[\"label\",\"@label\"]]},\"id\":\"2511\",\"type\":\"HoverTool\"},{\"attributes\":{\"label\":{\"value\":\"chr22\"},\"renderers\":[{\"id\":\"2603\",\"type\":\"GlyphRenderer\"}]},\"id\":\"2672\",\"type\":\"LegendItem\"},{\"attributes\":{\"filters\":[{\"id\":\"2562\",\"type\":\"GroupFilter\"}],\"source\":{\"id\":\"2512\",\"type\":\"ColumnDataSource\"}},\"id\":\"2563\",\"type\":\"CDSView\"},{\"attributes\":{\"fill_color\":{\"field\":\"label\",\"transform\":{\"id\":\"2513\",\"type\":\"CategoricalColorMapper\"}},\"line_color\":{\"field\":\"label\",\"transform\":{\"id\":\"2513\",\"type\":\"CategoricalColorMapper\"}},\"x\":{\"field\":\"x\"},\"y\":{\"field\":\"y\"}},\"id\":\"2607\",\"type\":\"Circle\"},{\"attributes\":{\"filters\":[{\"id\":\"2550\",\"type\":\"GroupFilter\"}],\"source\":{\"id\":\"2512\",\"type\":\"ColumnDataSource\"}},\"id\":\"2551\",\"type\":\"CDSView\"},{\"attributes\":{\"fill_alpha\":{\"value\":0.1},\"fill_color\":{\"value\":\"#1f77b4\"},\"line_alpha\":{\"value\":0.1},\"line_color\":{\"value\":\"#1f77b4\"},\"x\":{\"field\":\"x\"},\"y\":{\"field\":\"y\"}},\"id\":\"2560\",\"type\":\"Circle\"},{\"attributes\":{\"fill_alpha\":{\"value\":0.1},\"fill_color\":{\"value\":\"#1f77b4\"},\"line_alpha\":{\"value\":0.1},\"line_color\":{\"value\":\"#1f77b4\"},\"x\":{\"field\":\"x\"},\"y\":{\"field\":\"y\"}},\"id\":\"2584\",\"type\":\"Circle\"},{\"attributes\":{\"ticker\":{\"id\":\"2488\",\"type\":\"BasicTicker\"}},\"id\":\"2491\",\"type\":\"Grid\"},{\"attributes\":{\"label\":{\"value\":\"chr5\"},\"renderers\":[{\"id\":\"2621\",\"type\":\"GlyphRenderer\"}]},\"id\":\"2675\",\"type\":\"LegendItem\"},{\"attributes\":{\"fill_alpha\":{\"value\":0.1},\"fill_color\":{\"value\":\"#1f77b4\"},\"line_alpha\":{\"value\":0.1},\"line_color\":{\"value\":\"#1f77b4\"},\"x\":{\"field\":\"x\"},\"y\":{\"field\":\"y\"}},\"id\":\"2614\",\"type\":\"Circle\"},{\"attributes\":{\"column_name\":\"label\",\"group\":\"chr15\"},\"id\":\"2550\",\"type\":\"GroupFilter\"},{\"attributes\":{\"fill_alpha\":{\"value\":0.1},\"fill_color\":{\"value\":\"#1f77b4\"},\"line_alpha\":{\"value\":0.1},\"line_color\":{\"value\":\"#1f77b4\"},\"x\":{\"field\":\"x\"},\"y\":{\"field\":\"y\"}},\"id\":\"2572\",\"type\":\"Circle\"},{\"attributes\":{},\"id\":\"2794\",\"type\":\"BasicTickFormatter\"},{\"attributes\":{\"label\":{\"value\":\"chr4\"},\"renderers\":[{\"id\":\"2615\",\"type\":\"GlyphRenderer\"}]},\"id\":\"2674\",\"type\":\"LegendItem\"},{\"attributes\":{\"column_name\":\"label\",\"group\":\"chr17\"},\"id\":\"2562\",\"type\":\"GroupFilter\"},{\"attributes\":{\"column_name\":\"label\",\"group\":\"chr19\"},\"id\":\"2574\",\"type\":\"GroupFilter\"},{\"attributes\":{\"label\":{\"value\":\"chr7\"},\"renderers\":[{\"id\":\"2633\",\"type\":\"GlyphRenderer\"}]},\"id\":\"2677\",\"type\":\"LegendItem\"},{\"attributes\":{},\"id\":\"2483\",\"type\":\"LinearScale\"},{\"attributes\":{},\"id\":\"2792\",\"type\":\"BasicTickFormatter\"},{\"attributes\":{\"label\":{\"value\":\"chr6\"},\"renderers\":[{\"id\":\"2627\",\"type\":\"GlyphRenderer\"}]},\"id\":\"2676\",\"type\":\"LegendItem\"},{\"attributes\":{\"data_source\":{\"id\":\"2512\",\"type\":\"ColumnDataSource\"},\"glyph\":{\"id\":\"2553\",\"type\":\"Circle\"},\"hover_glyph\":null,\"muted_glyph\":null,\"nonselection_glyph\":{\"id\":\"2554\",\"type\":\"Circle\"},\"selection_glyph\":null,\"view\":{\"id\":\"2551\",\"type\":\"CDSView\"}},\"id\":\"2555\",\"type\":\"GlyphRenderer\"},{\"attributes\":{\"data_source\":{\"id\":\"2512\",\"type\":\"ColumnDataSource\"},\"glyph\":{\"id\":\"2583\",\"type\":\"Circle\"},\"hover_glyph\":null,\"muted_glyph\":null,\"nonselection_glyph\":{\"id\":\"2584\",\"type\":\"Circle\"},\"selection_glyph\":null,\"view\":{\"id\":\"2581\",\"type\":\"CDSView\"}},\"id\":\"2585\",\"type\":\"GlyphRenderer\"},{\"attributes\":{\"data_source\":{\"id\":\"2512\",\"type\":\"ColumnDataSource\"},\"glyph\":{\"id\":\"2613\",\"type\":\"Circle\"},\"hover_glyph\":null,\"muted_glyph\":null,\"nonselection_glyph\":{\"id\":\"2614\",\"type\":\"Circle\"},\"selection_glyph\":null,\"view\":{\"id\":\"2611\",\"type\":\"CDSView\"}},\"id\":\"2615\",\"type\":\"GlyphRenderer\"},{\"attributes\":{\"fill_color\":{\"field\":\"label\",\"transform\":{\"id\":\"2513\",\"type\":\"CategoricalColorMapper\"}},\"line_color\":{\"field\":\"label\",\"transform\":{\"id\":\"2513\",\"type\":\"CategoricalColorMapper\"}},\"x\":{\"field\":\"x\"},\"y\":{\"field\":\"y\"}},\"id\":\"2571\",\"type\":\"Circle\"},{\"attributes\":{\"label\":{\"value\":\"chr8\"},\"renderers\":[{\"id\":\"2639\",\"type\":\"GlyphRenderer\"}]},\"id\":\"2678\",\"type\":\"LegendItem\"},{\"attributes\":{\"callback\":null},\"id\":\"2479\",\"type\":\"DataRange1d\"},{\"attributes\":{},\"id\":\"2790\",\"type\":\"BasicTickFormatter\"},{\"attributes\":{\"fill_color\":{\"field\":\"label\",\"transform\":{\"id\":\"2513\",\"type\":\"CategoricalColorMapper\"}},\"line_color\":{\"field\":\"label\",\"transform\":{\"id\":\"2513\",\"type\":\"CategoricalColorMapper\"}},\"x\":{\"field\":\"x\"},\"y\":{\"field\":\"y\"}},\"id\":\"2619\",\"type\":\"Circle\"},{\"attributes\":{\"fill_alpha\":{\"value\":0.1},\"fill_color\":{\"value\":\"#1f77b4\"},\"line_alpha\":{\"value\":0.1},\"line_color\":{\"value\":\"#1f77b4\"},\"x\":{\"field\":\"x\"},\"y\":{\"field\":\"y\"}},\"id\":\"2530\",\"type\":\"Circle\"},{\"attributes\":{\"filters\":[{\"id\":\"2544\",\"type\":\"GroupFilter\"}],\"source\":{\"id\":\"2512\",\"type\":\"ColumnDataSource\"}},\"id\":\"2545\",\"type\":\"CDSView\"},{\"attributes\":{\"filters\":[{\"id\":\"2622\",\"type\":\"GroupFilter\"}],\"source\":{\"id\":\"2512\",\"type\":\"ColumnDataSource\"}},\"id\":\"2623\",\"type\":\"CDSView\"},{\"attributes\":{\"fill_alpha\":{\"value\":0.1},\"fill_color\":{\"value\":\"#1f77b4\"},\"line_alpha\":{\"value\":0.1},\"line_color\":{\"value\":\"#1f77b4\"},\"x\":{\"field\":\"x\"},\"y\":{\"field\":\"y\"}},\"id\":\"2620\",\"type\":\"Circle\"},{\"attributes\":{\"data_source\":{\"id\":\"2512\",\"type\":\"ColumnDataSource\"},\"glyph\":{\"id\":\"2619\",\"type\":\"Circle\"},\"hover_glyph\":null,\"muted_glyph\":null,\"nonselection_glyph\":{\"id\":\"2620\",\"type\":\"Circle\"},\"selection_glyph\":null,\"view\":{\"id\":\"2617\",\"type\":\"CDSView\"}},\"id\":\"2621\",\"type\":\"GlyphRenderer\"},{\"attributes\":{\"column_name\":\"label\",\"group\":\"chr5\"},\"id\":\"2616\",\"type\":\"GroupFilter\"},{\"attributes\":{\"filters\":[{\"id\":\"2520\",\"type\":\"GroupFilter\"}],\"source\":{\"id\":\"2512\",\"type\":\"ColumnDataSource\"}},\"id\":\"2521\",\"type\":\"CDSView\"},{\"attributes\":{\"column_name\":\"label\",\"group\":\"chr14\"},\"id\":\"2544\",\"type\":\"GroupFilter\"},{\"attributes\":{\"label\":{\"value\":\"chr19\"},\"renderers\":[{\"id\":\"2579\",\"type\":\"GlyphRenderer\"}]},\"id\":\"2668\",\"type\":\"LegendItem\"},{\"attributes\":{\"column_name\":\"label\",\"group\":\"chr6\"},\"id\":\"2622\",\"type\":\"GroupFilter\"},{\"attributes\":{\"filters\":[{\"id\":\"2628\",\"type\":\"GroupFilter\"}],\"source\":{\"id\":\"2512\",\"type\":\"ColumnDataSource\"}},\"id\":\"2629\",\"type\":\"CDSView\"},{\"attributes\":{\"fill_color\":{\"field\":\"label\",\"transform\":{\"id\":\"2513\",\"type\":\"CategoricalColorMapper\"}},\"line_color\":{\"field\":\"label\",\"transform\":{\"id\":\"2513\",\"type\":\"CategoricalColorMapper\"}},\"x\":{\"field\":\"x\"},\"y\":{\"field\":\"y\"}},\"id\":\"2625\",\"type\":\"Circle\"},{\"attributes\":{\"column_name\":\"label\",\"group\":\"chr2\"},\"id\":\"2580\",\"type\":\"GroupFilter\"},{\"attributes\":{\"callback\":null},\"id\":\"2481\",\"type\":\"DataRange1d\"},{\"attributes\":{\"fill_color\":{\"field\":\"label\",\"transform\":{\"id\":\"2513\",\"type\":\"CategoricalColorMapper\"}},\"line_color\":{\"field\":\"label\",\"transform\":{\"id\":\"2513\",\"type\":\"CategoricalColorMapper\"}},\"x\":{\"field\":\"x\"},\"y\":{\"field\":\"y\"}},\"id\":\"2601\",\"type\":\"Circle\"},{\"attributes\":{\"fill_alpha\":{\"value\":0.1},\"fill_color\":{\"value\":\"#1f77b4\"},\"line_alpha\":{\"value\":0.1},\"line_color\":{\"value\":\"#1f77b4\"},\"x\":{\"field\":\"x\"},\"y\":{\"field\":\"y\"}},\"id\":\"2626\",\"type\":\"Circle\"},{\"attributes\":{\"data_source\":{\"id\":\"2512\",\"type\":\"ColumnDataSource\"},\"glyph\":{\"id\":\"2625\",\"type\":\"Circle\"},\"hover_glyph\":null,\"muted_glyph\":null,\"nonselection_glyph\":{\"id\":\"2626\",\"type\":\"Circle\"},\"selection_glyph\":null,\"view\":{\"id\":\"2623\",\"type\":\"CDSView\"}},\"id\":\"2627\",\"type\":\"GlyphRenderer\"},{\"attributes\":{\"fill_color\":{\"field\":\"label\",\"transform\":{\"id\":\"2513\",\"type\":\"CategoricalColorMapper\"}},\"line_color\":{\"field\":\"label\",\"transform\":{\"id\":\"2513\",\"type\":\"CategoricalColorMapper\"}},\"x\":{\"field\":\"x\"},\"y\":{\"field\":\"y\"}},\"id\":\"2631\",\"type\":\"Circle\"},{\"attributes\":{\"filters\":[{\"id\":\"2598\",\"type\":\"GroupFilter\"}],\"source\":{\"id\":\"2512\",\"type\":\"ColumnDataSource\"}},\"id\":\"2599\",\"type\":\"CDSView\"},{\"attributes\":{\"column_name\":\"label\",\"group\":\"chr7\"},\"id\":\"2628\",\"type\":\"GroupFilter\"},{\"attributes\":{\"filters\":[{\"id\":\"2526\",\"type\":\"GroupFilter\"}],\"source\":{\"id\":\"2512\",\"type\":\"ColumnDataSource\"}},\"id\":\"2527\",\"type\":\"CDSView\"},{\"attributes\":{\"data_source\":{\"id\":\"2512\",\"type\":\"ColumnDataSource\"},\"glyph\":{\"id\":\"2577\",\"type\":\"Circle\"},\"hover_glyph\":null,\"muted_glyph\":null,\"nonselection_glyph\":{\"id\":\"2578\",\"type\":\"Circle\"},\"selection_glyph\":null,\"view\":{\"id\":\"2575\",\"type\":\"CDSView\"}},\"id\":\"2579\",\"type\":\"GlyphRenderer\"},{\"attributes\":{\"fill_color\":{\"field\":\"label\",\"transform\":{\"id\":\"2513\",\"type\":\"CategoricalColorMapper\"}},\"line_color\":{\"field\":\"label\",\"transform\":{\"id\":\"2513\",\"type\":\"CategoricalColorMapper\"}},\"x\":{\"field\":\"x\"},\"y\":{\"field\":\"y\"}},\"id\":\"2535\",\"type\":\"Circle\"},{\"attributes\":{\"fill_alpha\":{\"value\":0.1},\"fill_color\":{\"value\":\"#1f77b4\"},\"line_alpha\":{\"value\":0.1},\"line_color\":{\"value\":\"#1f77b4\"},\"x\":{\"field\":\"x\"},\"y\":{\"field\":\"y\"}},\"id\":\"2608\",\"type\":\"Circle\"},{\"attributes\":{\"fill_alpha\":{\"value\":0.1},\"fill_color\":{\"value\":\"#1f77b4\"},\"line_alpha\":{\"value\":0.1},\"line_color\":{\"value\":\"#1f77b4\"},\"x\":{\"field\":\"x\"},\"y\":{\"field\":\"y\"}},\"id\":\"2524\",\"type\":\"Circle\"},{\"attributes\":{\"filters\":[{\"id\":\"2634\",\"type\":\"GroupFilter\"}],\"source\":{\"id\":\"2512\",\"type\":\"ColumnDataSource\"}},\"id\":\"2635\",\"type\":\"CDSView\"},{\"attributes\":{\"fill_alpha\":{\"value\":0.1},\"fill_color\":{\"value\":\"#1f77b4\"},\"line_alpha\":{\"value\":0.1},\"line_color\":{\"value\":\"#1f77b4\"},\"x\":{\"field\":\"x\"},\"y\":{\"field\":\"y\"}},\"id\":\"2632\",\"type\":\"Circle\"},{\"attributes\":{\"data_source\":{\"id\":\"2512\",\"type\":\"ColumnDataSource\"},\"glyph\":{\"id\":\"2631\",\"type\":\"Circle\"},\"hover_glyph\":null,\"muted_glyph\":null,\"nonselection_glyph\":{\"id\":\"2632\",\"type\":\"Circle\"},\"selection_glyph\":null,\"view\":{\"id\":\"2629\",\"type\":\"CDSView\"}},\"id\":\"2633\",\"type\":\"GlyphRenderer\"},{\"attributes\":{\"bottom_units\":\"screen\",\"fill_alpha\":{\"value\":0.5},\"fill_color\":{\"value\":\"lightgrey\"},\"left_units\":\"screen\",\"level\":\"overlay\",\"line_alpha\":{\"value\":1.0},\"line_color\":{\"value\":\"black\"},\"line_dash\":[4,4],\"line_width\":{\"value\":2},\"render_mode\":\"css\",\"right_units\":\"screen\",\"top_units\":\"screen\"},\"id\":\"2797\",\"type\":\"BoxAnnotation\"},{\"attributes\":{\"label\":{\"value\":\"chr17\"},\"renderers\":[{\"id\":\"2567\",\"type\":\"GlyphRenderer\"}]},\"id\":\"2666\",\"type\":\"LegendItem\"},{\"attributes\":{\"fill_color\":{\"field\":\"label\",\"transform\":{\"id\":\"2513\",\"type\":\"CategoricalColorMapper\"}},\"line_color\":{\"field\":\"label\",\"transform\":{\"id\":\"2513\",\"type\":\"CategoricalColorMapper\"}},\"x\":{\"field\":\"x\"},\"y\":{\"field\":\"y\"}},\"id\":\"2637\",\"type\":\"Circle\"},{\"attributes\":{\"column_name\":\"label\",\"group\":\"chr22\"},\"id\":\"2598\",\"type\":\"GroupFilter\"},{\"attributes\":{\"column_name\":\"label\",\"group\":\"chr8\"},\"id\":\"2634\",\"type\":\"GroupFilter\"},{\"attributes\":{\"fill_color\":{\"field\":\"label\",\"transform\":{\"id\":\"2513\",\"type\":\"CategoricalColorMapper\"}},\"line_color\":{\"field\":\"label\",\"transform\":{\"id\":\"2513\",\"type\":\"CategoricalColorMapper\"}},\"x\":{\"field\":\"x\"},\"y\":{\"field\":\"y\"}},\"id\":\"2595\",\"type\":\"Circle\"},{\"attributes\":{\"label\":{\"value\":\"chr2\"},\"renderers\":[{\"id\":\"2585\",\"type\":\"GlyphRenderer\"}]},\"id\":\"2669\",\"type\":\"LegendItem\"},{\"attributes\":{\"label\":{\"value\":\"chr1\"},\"renderers\":[{\"id\":\"2519\",\"type\":\"GlyphRenderer\"}]},\"id\":\"2658\",\"type\":\"LegendItem\"},{\"attributes\":{\"filters\":[{\"id\":\"2580\",\"type\":\"GroupFilter\"}],\"source\":{\"id\":\"2512\",\"type\":\"ColumnDataSource\"}},\"id\":\"2581\",\"type\":\"CDSView\"},{\"attributes\":{\"filters\":[{\"id\":\"2640\",\"type\":\"GroupFilter\"}],\"source\":{\"id\":\"2512\",\"type\":\"ColumnDataSource\"}},\"id\":\"2641\",\"type\":\"CDSView\"},{\"attributes\":{\"fill_alpha\":{\"value\":0.1},\"fill_color\":{\"value\":\"#1f77b4\"},\"line_alpha\":{\"value\":0.1},\"line_color\":{\"value\":\"#1f77b4\"},\"x\":{\"field\":\"x\"},\"y\":{\"field\":\"y\"}},\"id\":\"2638\",\"type\":\"Circle\"},{\"attributes\":{\"data_source\":{\"id\":\"2512\",\"type\":\"ColumnDataSource\"},\"glyph\":{\"id\":\"2637\",\"type\":\"Circle\"},\"hover_glyph\":null,\"muted_glyph\":null,\"nonselection_glyph\":{\"id\":\"2638\",\"type\":\"Circle\"},\"selection_glyph\":null,\"view\":{\"id\":\"2635\",\"type\":\"CDSView\"}},\"id\":\"2639\",\"type\":\"GlyphRenderer\"},{\"attributes\":{\"fill_color\":{\"field\":\"label\",\"transform\":{\"id\":\"2513\",\"type\":\"CategoricalColorMapper\"}},\"line_color\":{\"field\":\"label\",\"transform\":{\"id\":\"2513\",\"type\":\"CategoricalColorMapper\"}},\"x\":{\"field\":\"x\"},\"y\":{\"field\":\"y\"}},\"id\":\"2529\",\"type\":\"Circle\"},{\"attributes\":{\"column_name\":\"label\",\"group\":\"chr10\"},\"id\":\"2520\",\"type\":\"GroupFilter\"},{\"attributes\":{\"column_name\":\"label\",\"group\":\"chr11\"},\"id\":\"2526\",\"type\":\"GroupFilter\"},{\"attributes\":{},\"id\":\"2796\",\"type\":\"Selection\"},{\"attributes\":{\"fill_color\":{\"field\":\"label\",\"transform\":{\"id\":\"2513\",\"type\":\"CategoricalColorMapper\"}},\"line_color\":{\"field\":\"label\",\"transform\":{\"id\":\"2513\",\"type\":\"CategoricalColorMapper\"}},\"x\":{\"field\":\"x\"},\"y\":{\"field\":\"y\"}},\"id\":\"2643\",\"type\":\"Circle\"},{\"attributes\":{\"column_name\":\"label\",\"group\":\"chr18\"},\"id\":\"2568\",\"type\":\"GroupFilter\"},{\"attributes\":{\"filters\":[{\"id\":\"2592\",\"type\":\"GroupFilter\"}],\"source\":{\"id\":\"2512\",\"type\":\"ColumnDataSource\"}},\"id\":\"2593\",\"type\":\"CDSView\"},{\"attributes\":{\"data_source\":{\"id\":\"2512\",\"type\":\"ColumnDataSource\"},\"glyph\":{\"id\":\"2595\",\"type\":\"Circle\"},\"hover_glyph\":null,\"muted_glyph\":null,\"nonselection_glyph\":{\"id\":\"2596\",\"type\":\"Circle\"},\"selection_glyph\":null,\"view\":{\"id\":\"2593\",\"type\":\"CDSView\"}},\"id\":\"2597\",\"type\":\"GlyphRenderer\"},{\"attributes\":{\"label\":{\"value\":\"chr16\"},\"renderers\":[{\"id\":\"2561\",\"type\":\"GlyphRenderer\"}]},\"id\":\"2665\",\"type\":\"LegendItem\"},{\"attributes\":{\"column_name\":\"label\",\"group\":\"chr9\"},\"id\":\"2640\",\"type\":\"GroupFilter\"},{\"attributes\":{},\"id\":\"2795\",\"type\":\"UnionRenderers\"},{\"attributes\":{\"label\":{\"value\":\"chr11\"},\"renderers\":[{\"id\":\"2531\",\"type\":\"GlyphRenderer\"}]},\"id\":\"2660\",\"type\":\"LegendItem\"},{\"attributes\":{\"label\":{\"value\":\"chr12\"},\"renderers\":[{\"id\":\"2537\",\"type\":\"GlyphRenderer\"}]},\"id\":\"2661\",\"type\":\"LegendItem\"},{\"attributes\":{\"fill_alpha\":{\"value\":0.1},\"fill_color\":{\"value\":\"#1f77b4\"},\"line_alpha\":{\"value\":0.1},\"line_color\":{\"value\":\"#1f77b4\"},\"x\":{\"field\":\"x\"},\"y\":{\"field\":\"y\"}},\"id\":\"2596\",\"type\":\"Circle\"},{\"attributes\":{\"filters\":[{\"id\":\"2646\",\"type\":\"GroupFilter\"}],\"source\":{\"id\":\"2512\",\"type\":\"ColumnDataSource\"}},\"id\":\"2647\",\"type\":\"CDSView\"},{\"attributes\":{\"label\":{\"value\":\"chr10\"},\"renderers\":[{\"id\":\"2525\",\"type\":\"GlyphRenderer\"}]},\"id\":\"2659\",\"type\":\"LegendItem\"},{\"attributes\":{\"data_source\":{\"id\":\"2512\",\"type\":\"ColumnDataSource\"},\"glyph\":{\"id\":\"2523\",\"type\":\"Circle\"},\"hover_glyph\":null,\"muted_glyph\":null,\"nonselection_glyph\":{\"id\":\"2524\",\"type\":\"Circle\"},\"selection_glyph\":null,\"view\":{\"id\":\"2521\",\"type\":\"CDSView\"}},\"id\":\"2525\",\"type\":\"GlyphRenderer\"},{\"attributes\":{\"column_name\":\"label\",\"group\":\"chr3\"},\"id\":\"2604\",\"type\":\"GroupFilter\"},{\"attributes\":{\"data_source\":{\"id\":\"2512\",\"type\":\"ColumnDataSource\"},\"glyph\":{\"id\":\"2607\",\"type\":\"Circle\"},\"hover_glyph\":null,\"muted_glyph\":null,\"nonselection_glyph\":{\"id\":\"2608\",\"type\":\"Circle\"},\"selection_glyph\":null,\"view\":{\"id\":\"2605\",\"type\":\"CDSView\"}},\"id\":\"2609\",\"type\":\"GlyphRenderer\"},{\"attributes\":{\"label\":{\"value\":\"chr13\"},\"renderers\":[{\"id\":\"2543\",\"type\":\"GlyphRenderer\"}]},\"id\":\"2662\",\"type\":\"LegendItem\"},{\"attributes\":{\"fill_color\":{\"field\":\"label\",\"transform\":{\"id\":\"2513\",\"type\":\"CategoricalColorMapper\"}},\"line_color\":{\"field\":\"label\",\"transform\":{\"id\":\"2513\",\"type\":\"CategoricalColorMapper\"}},\"x\":{\"field\":\"x\"},\"y\":{\"field\":\"y\"}},\"id\":\"2649\",\"type\":\"Circle\"},{\"attributes\":{\"data_source\":{\"id\":\"2512\",\"type\":\"ColumnDataSource\"},\"glyph\":{\"id\":\"2643\",\"type\":\"Circle\"},\"hover_glyph\":null,\"muted_glyph\":null,\"nonselection_glyph\":{\"id\":\"2644\",\"type\":\"Circle\"},\"selection_glyph\":null,\"view\":{\"id\":\"2641\",\"type\":\"CDSView\"}},\"id\":\"2645\",\"type\":\"GlyphRenderer\"},{\"attributes\":{\"label\":{\"value\":\"chr14\"},\"renderers\":[{\"id\":\"2549\",\"type\":\"GlyphRenderer\"}]},\"id\":\"2663\",\"type\":\"LegendItem\"},{\"attributes\":{\"fill_alpha\":{\"value\":0.1},\"fill_color\":{\"value\":\"#1f77b4\"},\"line_alpha\":{\"value\":0.1},\"line_color\":{\"value\":\"#1f77b4\"},\"x\":{\"field\":\"x\"},\"y\":{\"field\":\"y\"}},\"id\":\"2578\",\"type\":\"Circle\"},{\"attributes\":{\"label\":{\"value\":\"chr15\"},\"renderers\":[{\"id\":\"2555\",\"type\":\"GlyphRenderer\"}]},\"id\":\"2664\",\"type\":\"LegendItem\"},{\"attributes\":{\"fill_alpha\":{\"value\":0.1},\"fill_color\":{\"value\":\"#1f77b4\"},\"line_alpha\":{\"value\":0.1},\"line_color\":{\"value\":\"#1f77b4\"},\"x\":{\"field\":\"x\"},\"y\":{\"field\":\"y\"}},\"id\":\"2644\",\"type\":\"Circle\"},{\"attributes\":{\"column_name\":\"label\",\"group\":\"chrX\"},\"id\":\"2646\",\"type\":\"GroupFilter\"}],\"root_ids\":[\"2477\"]},\"title\":\"Bokeh Application\",\"version\":\"1.2.0\"}};\n",
       "  var render_items = [{\"docid\":\"46f8845b-9e12-4481-86a4-69e727d59300\",\"roots\":{\"2477\":\"f63373e8-4bb5-45db-a130-d717a4b94fb0\"}}];\n",
       "  root.Bokeh.embed.embed_items_notebook(docs_json, render_items);\n",
       "\n",
       "  }\n",
       "  if (root.Bokeh !== undefined) {\n",
       "    embed_document(root);\n",
       "  } else {\n",
       "    var attempts = 0;\n",
       "    var timer = setInterval(function(root) {\n",
       "      if (root.Bokeh !== undefined) {\n",
       "        embed_document(root);\n",
       "        clearInterval(timer);\n",
       "      }\n",
       "      attempts++;\n",
       "      if (attempts > 100) {\n",
       "        console.log(\"Bokeh: ERROR: Unable to run BokehJS code because BokehJS library is missing\");\n",
       "        clearInterval(timer);\n",
       "      }\n",
       "    }, 10, root)\n",
       "  }\n",
       "})(window);"
      ],
      "application/vnd.bokehjs_exec.v0+json": ""
     },
     "metadata": {
      "application/vnd.bokehjs_exec.v0+json": {
       "id": "2477"
      }
     },
     "output_type": "display_data"
    }
   ],
   "source": [
    "p = hl.plot.scatter(ps_len_stats_ht.stats.mean, ps_len_stats_ht.stats.n, hover_fields={'Chrom': ps_len_stats_ht.chrom_group}, label=ps_len_stats_ht.chrom_group)\n",
    "show(p)"
   ]
  },
  {
   "cell_type": "markdown",
   "id": "bc5c40d6-efdb-4643-9cfa-ed0e52853731",
   "metadata": {},
   "source": [
    "## Compound heterozygotes"
   ]
  },
  {
   "cell_type": "code",
   "execution_count": 22,
   "id": "cc106215-d97d-4cba-8119-972368562736",
   "metadata": {},
   "outputs": [],
   "source": [
    "# Get the gene name from variant annotation.\n",
    "# The annotation field is an array with one element for each transcript for the particular site.\n",
    "# The various information in the annotation is separated by a pipe (\"|\").\n",
    "het_mt = het_mt.annotate_rows(gene = het_mt.info.ANN.map(lambda x: x.split('\\|')[3]))\n",
    "\n",
    "# We will only look at one of the genes, so we arbitrarily pick the first in the list.\n",
    "het_mt = het_mt.annotate_rows(gene1 = het_mt.gene[0])"
   ]
  },
  {
   "cell_type": "code",
   "execution_count": 23,
   "id": "96770baa-36d5-409b-84ae-005e791fb9b2",
   "metadata": {},
   "outputs": [
    {
     "data": {
      "text/plain": [
       "<hail.matrixtable.MatrixTable at 0x7f53977deed0>"
      ]
     },
     "execution_count": 23,
     "metadata": {},
     "output_type": "execute_result"
    }
   ],
   "source": [
    "(het_mt.group_rows_by(het_mt.gene1)\n",
    "    .aggregate(phased_diploid_hets = hl.agg.filter((het_mt.GT.phased) & (het_mt.GT.ploidy == 2), hl.agg.count())))"
   ]
  },
  {
   "cell_type": "code",
   "execution_count": 24,
   "id": "1e4ddcf8-7a8a-45d0-a76d-df50bb06c103",
   "metadata": {},
   "outputs": [],
   "source": [
    "phased_hets_ht = het_mt.filter_entries(het_mt.GT.phased)"
   ]
  },
  {
   "cell_type": "code",
   "execution_count": 25,
   "id": "0781dfbb-60ba-4f42-863d-b1b197fcdb79",
   "metadata": {},
   "outputs": [
    {
     "data": {
      "text/plain": [
       "<hail.matrixtable.GroupedMatrixTable at 0x7f5397697ad0>"
      ]
     },
     "execution_count": 25,
     "metadata": {},
     "output_type": "execute_result"
    }
   ],
   "source": [
    "phased_hets_ht.group_rows_by(phased_hets_ht.gene1)"
   ]
  },
  {
   "cell_type": "code",
   "execution_count": 26,
   "id": "dd7995c4-ad9f-4e21-b966-73f5d0d06aff",
   "metadata": {},
   "outputs": [
    {
     "data": {
      "text/plain": [
       "[0, 0, 0, 0, 0]"
      ]
     },
     "execution_count": 26,
     "metadata": {},
     "output_type": "execute_result"
    }
   ],
   "source": [
    "mt.GT[0].take(5)"
   ]
  },
  {
   "cell_type": "code",
   "execution_count": 27,
   "id": "6a38b6e5-0fbb-4399-bed4-9cbe94170bac",
   "metadata": {},
   "outputs": [],
   "source": [
    "lof_mt = mt.filter_rows(~hl.is_missing(mt.info.LOF))"
   ]
  },
  {
   "cell_type": "code",
   "execution_count": 28,
   "id": "ca6db1ce-c247-4bc4-9a3a-72ef6b3d1a06",
   "metadata": {},
   "outputs": [
    {
     "data": {
      "text/plain": [
       "[['(OR4F5|OR4F5|1|1.00)'],\n",
       " ['(OR4F5|OR4F5|1|1.00)'],\n",
       " ['(OR4F5|OR4F5|1|1.00)'],\n",
       " ['(OR4F29|OR4F29|1|1.00)', '(OR4F3|OR4F3|1|1.00)', '(OR4F16|OR4F16|1|1.00)'],\n",
       " ['(OR4F29|OR4F29|1|1.00)', '(OR4F3|OR4F3|1|1.00)', '(OR4F16|OR4F16|1|1.00)']]"
      ]
     },
     "execution_count": 28,
     "metadata": {},
     "output_type": "execute_result"
    }
   ],
   "source": [
    "lof_mt.info.LOF.take(5)"
   ]
  }
 ],
 "metadata": {
  "kernelspec": {
   "display_name": "Python [conda env:fargen-1-exome]",
   "language": "python",
   "name": "conda-env-fargen-1-exome-py"
  },
  "language_info": {
   "codemirror_mode": {
    "name": "ipython",
    "version": 3
   },
   "file_extension": ".py",
   "mimetype": "text/x-python",
   "name": "python",
   "nbconvert_exporter": "python",
   "pygments_lexer": "ipython3",
   "version": "3.7.10"
  }
 },
 "nbformat": 4,
 "nbformat_minor": 5
}
