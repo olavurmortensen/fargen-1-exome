{
 "cells": [
  {
   "cell_type": "markdown",
   "id": "bce29dd8-ad84-4845-8e68-6cbdf6aec6c3",
   "metadata": {},
   "source": [
    "# Pasing statistics"
   ]
  },
  {
   "cell_type": "code",
   "execution_count": 1,
   "id": "00dbc8bc-6f1c-44fd-ac3e-8e147057e40b",
   "metadata": {},
   "outputs": [
    {
     "name": "stderr",
     "output_type": "stream",
     "text": [
      "Running on Apache Spark version 2.4.1\n",
      "SparkUI available at http://hms-beagle-848846b477-48ks9:4040\n",
      "Welcome to\n",
      "     __  __     <>__\n",
      "    / /_/ /__  __/ /\n",
      "   / __  / _ `/ / /\n",
      "  /_/ /_/\\_,_/_/_/   version 0.2.61-3c86d3ba497a\n",
      "LOGGING: writing to /home/olavur/experiments/2020-11-13_fargen1_exome_analysis/fargen-1-exome/notebooks/phasing/hail-20210531-1111-0.2.61-3c86d3ba497a.log\n"
     ]
    }
   ],
   "source": [
    "import hail as hl\n",
    "hl.init(spark_conf={'spark.driver.memory': '10g'}, tmp_dir='/home/olavur/tmp')"
   ]
  },
  {
   "cell_type": "code",
   "execution_count": 196,
   "id": "86940f33-6e72-44f5-a02c-41b739857f59",
   "metadata": {},
   "outputs": [
    {
     "data": {
      "text/html": [
       "\n",
       "    <div class=\"bk-root\">\n",
       "        <a href=\"https://bokeh.pydata.org\" target=\"_blank\" class=\"bk-logo bk-logo-small bk-logo-notebook\"></a>\n",
       "        <span id=\"1097\">Loading BokehJS ...</span>\n",
       "    </div>"
      ]
     },
     "metadata": {},
     "output_type": "display_data"
    },
    {
     "data": {
      "application/javascript": [
       "\n",
       "(function(root) {\n",
       "  function now() {\n",
       "    return new Date();\n",
       "  }\n",
       "\n",
       "  var force = true;\n",
       "\n",
       "  if (typeof root._bokeh_onload_callbacks === \"undefined\" || force === true) {\n",
       "    root._bokeh_onload_callbacks = [];\n",
       "    root._bokeh_is_loading = undefined;\n",
       "  }\n",
       "\n",
       "  var JS_MIME_TYPE = 'application/javascript';\n",
       "  var HTML_MIME_TYPE = 'text/html';\n",
       "  var EXEC_MIME_TYPE = 'application/vnd.bokehjs_exec.v0+json';\n",
       "  var CLASS_NAME = 'output_bokeh rendered_html';\n",
       "\n",
       "  /**\n",
       "   * Render data to the DOM node\n",
       "   */\n",
       "  function render(props, node) {\n",
       "    var script = document.createElement(\"script\");\n",
       "    node.appendChild(script);\n",
       "  }\n",
       "\n",
       "  /**\n",
       "   * Handle when an output is cleared or removed\n",
       "   */\n",
       "  function handleClearOutput(event, handle) {\n",
       "    var cell = handle.cell;\n",
       "\n",
       "    var id = cell.output_area._bokeh_element_id;\n",
       "    var server_id = cell.output_area._bokeh_server_id;\n",
       "    // Clean up Bokeh references\n",
       "    if (id != null && id in Bokeh.index) {\n",
       "      Bokeh.index[id].model.document.clear();\n",
       "      delete Bokeh.index[id];\n",
       "    }\n",
       "\n",
       "    if (server_id !== undefined) {\n",
       "      // Clean up Bokeh references\n",
       "      var cmd = \"from bokeh.io.state import curstate; print(curstate().uuid_to_server['\" + server_id + \"'].get_sessions()[0].document.roots[0]._id)\";\n",
       "      cell.notebook.kernel.execute(cmd, {\n",
       "        iopub: {\n",
       "          output: function(msg) {\n",
       "            var id = msg.content.text.trim();\n",
       "            if (id in Bokeh.index) {\n",
       "              Bokeh.index[id].model.document.clear();\n",
       "              delete Bokeh.index[id];\n",
       "            }\n",
       "          }\n",
       "        }\n",
       "      });\n",
       "      // Destroy server and session\n",
       "      var cmd = \"import bokeh.io.notebook as ion; ion.destroy_server('\" + server_id + \"')\";\n",
       "      cell.notebook.kernel.execute(cmd);\n",
       "    }\n",
       "  }\n",
       "\n",
       "  /**\n",
       "   * Handle when a new output is added\n",
       "   */\n",
       "  function handleAddOutput(event, handle) {\n",
       "    var output_area = handle.output_area;\n",
       "    var output = handle.output;\n",
       "\n",
       "    // limit handleAddOutput to display_data with EXEC_MIME_TYPE content only\n",
       "    if ((output.output_type != \"display_data\") || (!output.data.hasOwnProperty(EXEC_MIME_TYPE))) {\n",
       "      return\n",
       "    }\n",
       "\n",
       "    var toinsert = output_area.element.find(\".\" + CLASS_NAME.split(' ')[0]);\n",
       "\n",
       "    if (output.metadata[EXEC_MIME_TYPE][\"id\"] !== undefined) {\n",
       "      toinsert[toinsert.length - 1].firstChild.textContent = output.data[JS_MIME_TYPE];\n",
       "      // store reference to embed id on output_area\n",
       "      output_area._bokeh_element_id = output.metadata[EXEC_MIME_TYPE][\"id\"];\n",
       "    }\n",
       "    if (output.metadata[EXEC_MIME_TYPE][\"server_id\"] !== undefined) {\n",
       "      var bk_div = document.createElement(\"div\");\n",
       "      bk_div.innerHTML = output.data[HTML_MIME_TYPE];\n",
       "      var script_attrs = bk_div.children[0].attributes;\n",
       "      for (var i = 0; i < script_attrs.length; i++) {\n",
       "        toinsert[toinsert.length - 1].firstChild.setAttribute(script_attrs[i].name, script_attrs[i].value);\n",
       "      }\n",
       "      // store reference to server id on output_area\n",
       "      output_area._bokeh_server_id = output.metadata[EXEC_MIME_TYPE][\"server_id\"];\n",
       "    }\n",
       "  }\n",
       "\n",
       "  function register_renderer(events, OutputArea) {\n",
       "\n",
       "    function append_mime(data, metadata, element) {\n",
       "      // create a DOM node to render to\n",
       "      var toinsert = this.create_output_subarea(\n",
       "        metadata,\n",
       "        CLASS_NAME,\n",
       "        EXEC_MIME_TYPE\n",
       "      );\n",
       "      this.keyboard_manager.register_events(toinsert);\n",
       "      // Render to node\n",
       "      var props = {data: data, metadata: metadata[EXEC_MIME_TYPE]};\n",
       "      render(props, toinsert[toinsert.length - 1]);\n",
       "      element.append(toinsert);\n",
       "      return toinsert\n",
       "    }\n",
       "\n",
       "    /* Handle when an output is cleared or removed */\n",
       "    events.on('clear_output.CodeCell', handleClearOutput);\n",
       "    events.on('delete.Cell', handleClearOutput);\n",
       "\n",
       "    /* Handle when a new output is added */\n",
       "    events.on('output_added.OutputArea', handleAddOutput);\n",
       "\n",
       "    /**\n",
       "     * Register the mime type and append_mime function with output_area\n",
       "     */\n",
       "    OutputArea.prototype.register_mime_type(EXEC_MIME_TYPE, append_mime, {\n",
       "      /* Is output safe? */\n",
       "      safe: true,\n",
       "      /* Index of renderer in `output_area.display_order` */\n",
       "      index: 0\n",
       "    });\n",
       "  }\n",
       "\n",
       "  // register the mime type if in Jupyter Notebook environment and previously unregistered\n",
       "  if (root.Jupyter !== undefined) {\n",
       "    var events = require('base/js/events');\n",
       "    var OutputArea = require('notebook/js/outputarea').OutputArea;\n",
       "\n",
       "    if (OutputArea.prototype.mime_types().indexOf(EXEC_MIME_TYPE) == -1) {\n",
       "      register_renderer(events, OutputArea);\n",
       "    }\n",
       "  }\n",
       "\n",
       "  \n",
       "  if (typeof (root._bokeh_timeout) === \"undefined\" || force === true) {\n",
       "    root._bokeh_timeout = Date.now() + 5000;\n",
       "    root._bokeh_failed_load = false;\n",
       "  }\n",
       "\n",
       "  var NB_LOAD_WARNING = {'data': {'text/html':\n",
       "     \"<div style='background-color: #fdd'>\\n\"+\n",
       "     \"<p>\\n\"+\n",
       "     \"BokehJS does not appear to have successfully loaded. If loading BokehJS from CDN, this \\n\"+\n",
       "     \"may be due to a slow or bad network connection. Possible fixes:\\n\"+\n",
       "     \"</p>\\n\"+\n",
       "     \"<ul>\\n\"+\n",
       "     \"<li>re-rerun `output_notebook()` to attempt to load from CDN again, or</li>\\n\"+\n",
       "     \"<li>use INLINE resources instead, as so:</li>\\n\"+\n",
       "     \"</ul>\\n\"+\n",
       "     \"<code>\\n\"+\n",
       "     \"from bokeh.resources import INLINE\\n\"+\n",
       "     \"output_notebook(resources=INLINE)\\n\"+\n",
       "     \"</code>\\n\"+\n",
       "     \"</div>\"}};\n",
       "\n",
       "  function display_loaded() {\n",
       "    var el = document.getElementById(\"1097\");\n",
       "    if (el != null) {\n",
       "      el.textContent = \"BokehJS is loading...\";\n",
       "    }\n",
       "    if (root.Bokeh !== undefined) {\n",
       "      if (el != null) {\n",
       "        el.textContent = \"BokehJS \" + root.Bokeh.version + \" successfully loaded.\";\n",
       "      }\n",
       "    } else if (Date.now() < root._bokeh_timeout) {\n",
       "      setTimeout(display_loaded, 100)\n",
       "    }\n",
       "  }\n",
       "\n",
       "\n",
       "  function run_callbacks() {\n",
       "    try {\n",
       "      root._bokeh_onload_callbacks.forEach(function(callback) {\n",
       "        if (callback != null)\n",
       "          callback();\n",
       "      });\n",
       "    } finally {\n",
       "      delete root._bokeh_onload_callbacks\n",
       "    }\n",
       "    console.debug(\"Bokeh: all callbacks have finished\");\n",
       "  }\n",
       "\n",
       "  function load_libs(css_urls, js_urls, callback) {\n",
       "    if (css_urls == null) css_urls = [];\n",
       "    if (js_urls == null) js_urls = [];\n",
       "\n",
       "    root._bokeh_onload_callbacks.push(callback);\n",
       "    if (root._bokeh_is_loading > 0) {\n",
       "      console.debug(\"Bokeh: BokehJS is being loaded, scheduling callback at\", now());\n",
       "      return null;\n",
       "    }\n",
       "    if (js_urls == null || js_urls.length === 0) {\n",
       "      run_callbacks();\n",
       "      return null;\n",
       "    }\n",
       "    console.debug(\"Bokeh: BokehJS not loaded, scheduling load and callback at\", now());\n",
       "    root._bokeh_is_loading = css_urls.length + js_urls.length;\n",
       "\n",
       "    function on_load() {\n",
       "      root._bokeh_is_loading--;\n",
       "      if (root._bokeh_is_loading === 0) {\n",
       "        console.debug(\"Bokeh: all BokehJS libraries/stylesheets loaded\");\n",
       "        run_callbacks()\n",
       "      }\n",
       "    }\n",
       "\n",
       "    function on_error() {\n",
       "      console.error(\"failed to load \" + url);\n",
       "    }\n",
       "\n",
       "    for (var i = 0; i < css_urls.length; i++) {\n",
       "      var url = css_urls[i];\n",
       "      const element = document.createElement(\"link\");\n",
       "      element.onload = on_load;\n",
       "      element.onerror = on_error;\n",
       "      element.rel = \"stylesheet\";\n",
       "      element.type = \"text/css\";\n",
       "      element.href = url;\n",
       "      console.debug(\"Bokeh: injecting link tag for BokehJS stylesheet: \", url);\n",
       "      document.body.appendChild(element);\n",
       "    }\n",
       "\n",
       "    for (var i = 0; i < js_urls.length; i++) {\n",
       "      var url = js_urls[i];\n",
       "      var element = document.createElement('script');\n",
       "      element.onload = on_load;\n",
       "      element.onerror = on_error;\n",
       "      element.async = false;\n",
       "      element.src = url;\n",
       "      console.debug(\"Bokeh: injecting script tag for BokehJS library: \", url);\n",
       "      document.head.appendChild(element);\n",
       "    }\n",
       "  };var element = document.getElementById(\"1097\");\n",
       "  if (element == null) {\n",
       "    console.error(\"Bokeh: ERROR: autoload.js configured with elementid '1097' but no matching script tag was found. \")\n",
       "    return false;\n",
       "  }\n",
       "\n",
       "  function inject_raw_css(css) {\n",
       "    const element = document.createElement(\"style\");\n",
       "    element.appendChild(document.createTextNode(css));\n",
       "    document.body.appendChild(element);\n",
       "  }\n",
       "\n",
       "  var js_urls = [\"https://cdn.pydata.org/bokeh/release/bokeh-1.2.0.min.js\", \"https://cdn.pydata.org/bokeh/release/bokeh-widgets-1.2.0.min.js\", \"https://cdn.pydata.org/bokeh/release/bokeh-tables-1.2.0.min.js\", \"https://cdn.pydata.org/bokeh/release/bokeh-gl-1.2.0.min.js\"];\n",
       "  var css_urls = [\"https://cdn.pydata.org/bokeh/release/bokeh-1.2.0.min.css\", \"https://cdn.pydata.org/bokeh/release/bokeh-widgets-1.2.0.min.css\", \"https://cdn.pydata.org/bokeh/release/bokeh-tables-1.2.0.min.css\"];\n",
       "\n",
       "  var inline_js = [\n",
       "    function(Bokeh) {\n",
       "      Bokeh.set_log_level(\"info\");\n",
       "    },\n",
       "    \n",
       "    function(Bokeh) {\n",
       "      \n",
       "    },\n",
       "    function(Bokeh) {} // ensure no trailing comma for IE\n",
       "  ];\n",
       "\n",
       "  function run_inline_js() {\n",
       "    \n",
       "    if ((root.Bokeh !== undefined) || (force === true)) {\n",
       "      for (var i = 0; i < inline_js.length; i++) {\n",
       "        inline_js[i].call(root, root.Bokeh);\n",
       "      }if (force === true) {\n",
       "        display_loaded();\n",
       "      }} else if (Date.now() < root._bokeh_timeout) {\n",
       "      setTimeout(run_inline_js, 100);\n",
       "    } else if (!root._bokeh_failed_load) {\n",
       "      console.log(\"Bokeh: BokehJS failed to load within specified timeout.\");\n",
       "      root._bokeh_failed_load = true;\n",
       "    } else if (force !== true) {\n",
       "      var cell = $(document.getElementById(\"1097\")).parents('.cell').data().cell;\n",
       "      cell.output_area.append_execute_result(NB_LOAD_WARNING)\n",
       "    }\n",
       "\n",
       "  }\n",
       "\n",
       "  if (root._bokeh_is_loading === 0) {\n",
       "    console.debug(\"Bokeh: BokehJS loaded, going straight to plotting\");\n",
       "    run_inline_js();\n",
       "  } else {\n",
       "    load_libs(css_urls, js_urls, function() {\n",
       "      console.debug(\"Bokeh: BokehJS plotting callback run at\", now());\n",
       "      run_inline_js();\n",
       "    });\n",
       "  }\n",
       "}(window));"
      ],
      "application/vnd.bokehjs_load.v0+json": "\n(function(root) {\n  function now() {\n    return new Date();\n  }\n\n  var force = true;\n\n  if (typeof root._bokeh_onload_callbacks === \"undefined\" || force === true) {\n    root._bokeh_onload_callbacks = [];\n    root._bokeh_is_loading = undefined;\n  }\n\n  \n\n  \n  if (typeof (root._bokeh_timeout) === \"undefined\" || force === true) {\n    root._bokeh_timeout = Date.now() + 5000;\n    root._bokeh_failed_load = false;\n  }\n\n  var NB_LOAD_WARNING = {'data': {'text/html':\n     \"<div style='background-color: #fdd'>\\n\"+\n     \"<p>\\n\"+\n     \"BokehJS does not appear to have successfully loaded. If loading BokehJS from CDN, this \\n\"+\n     \"may be due to a slow or bad network connection. Possible fixes:\\n\"+\n     \"</p>\\n\"+\n     \"<ul>\\n\"+\n     \"<li>re-rerun `output_notebook()` to attempt to load from CDN again, or</li>\\n\"+\n     \"<li>use INLINE resources instead, as so:</li>\\n\"+\n     \"</ul>\\n\"+\n     \"<code>\\n\"+\n     \"from bokeh.resources import INLINE\\n\"+\n     \"output_notebook(resources=INLINE)\\n\"+\n     \"</code>\\n\"+\n     \"</div>\"}};\n\n  function display_loaded() {\n    var el = document.getElementById(\"1097\");\n    if (el != null) {\n      el.textContent = \"BokehJS is loading...\";\n    }\n    if (root.Bokeh !== undefined) {\n      if (el != null) {\n        el.textContent = \"BokehJS \" + root.Bokeh.version + \" successfully loaded.\";\n      }\n    } else if (Date.now() < root._bokeh_timeout) {\n      setTimeout(display_loaded, 100)\n    }\n  }\n\n\n  function run_callbacks() {\n    try {\n      root._bokeh_onload_callbacks.forEach(function(callback) {\n        if (callback != null)\n          callback();\n      });\n    } finally {\n      delete root._bokeh_onload_callbacks\n    }\n    console.debug(\"Bokeh: all callbacks have finished\");\n  }\n\n  function load_libs(css_urls, js_urls, callback) {\n    if (css_urls == null) css_urls = [];\n    if (js_urls == null) js_urls = [];\n\n    root._bokeh_onload_callbacks.push(callback);\n    if (root._bokeh_is_loading > 0) {\n      console.debug(\"Bokeh: BokehJS is being loaded, scheduling callback at\", now());\n      return null;\n    }\n    if (js_urls == null || js_urls.length === 0) {\n      run_callbacks();\n      return null;\n    }\n    console.debug(\"Bokeh: BokehJS not loaded, scheduling load and callback at\", now());\n    root._bokeh_is_loading = css_urls.length + js_urls.length;\n\n    function on_load() {\n      root._bokeh_is_loading--;\n      if (root._bokeh_is_loading === 0) {\n        console.debug(\"Bokeh: all BokehJS libraries/stylesheets loaded\");\n        run_callbacks()\n      }\n    }\n\n    function on_error() {\n      console.error(\"failed to load \" + url);\n    }\n\n    for (var i = 0; i < css_urls.length; i++) {\n      var url = css_urls[i];\n      const element = document.createElement(\"link\");\n      element.onload = on_load;\n      element.onerror = on_error;\n      element.rel = \"stylesheet\";\n      element.type = \"text/css\";\n      element.href = url;\n      console.debug(\"Bokeh: injecting link tag for BokehJS stylesheet: \", url);\n      document.body.appendChild(element);\n    }\n\n    for (var i = 0; i < js_urls.length; i++) {\n      var url = js_urls[i];\n      var element = document.createElement('script');\n      element.onload = on_load;\n      element.onerror = on_error;\n      element.async = false;\n      element.src = url;\n      console.debug(\"Bokeh: injecting script tag for BokehJS library: \", url);\n      document.head.appendChild(element);\n    }\n  };var element = document.getElementById(\"1097\");\n  if (element == null) {\n    console.error(\"Bokeh: ERROR: autoload.js configured with elementid '1097' but no matching script tag was found. \")\n    return false;\n  }\n\n  function inject_raw_css(css) {\n    const element = document.createElement(\"style\");\n    element.appendChild(document.createTextNode(css));\n    document.body.appendChild(element);\n  }\n\n  var js_urls = [\"https://cdn.pydata.org/bokeh/release/bokeh-1.2.0.min.js\", \"https://cdn.pydata.org/bokeh/release/bokeh-widgets-1.2.0.min.js\", \"https://cdn.pydata.org/bokeh/release/bokeh-tables-1.2.0.min.js\", \"https://cdn.pydata.org/bokeh/release/bokeh-gl-1.2.0.min.js\"];\n  var css_urls = [\"https://cdn.pydata.org/bokeh/release/bokeh-1.2.0.min.css\", \"https://cdn.pydata.org/bokeh/release/bokeh-widgets-1.2.0.min.css\", \"https://cdn.pydata.org/bokeh/release/bokeh-tables-1.2.0.min.css\"];\n\n  var inline_js = [\n    function(Bokeh) {\n      Bokeh.set_log_level(\"info\");\n    },\n    \n    function(Bokeh) {\n      \n    },\n    function(Bokeh) {} // ensure no trailing comma for IE\n  ];\n\n  function run_inline_js() {\n    \n    if ((root.Bokeh !== undefined) || (force === true)) {\n      for (var i = 0; i < inline_js.length; i++) {\n        inline_js[i].call(root, root.Bokeh);\n      }if (force === true) {\n        display_loaded();\n      }} else if (Date.now() < root._bokeh_timeout) {\n      setTimeout(run_inline_js, 100);\n    } else if (!root._bokeh_failed_load) {\n      console.log(\"Bokeh: BokehJS failed to load within specified timeout.\");\n      root._bokeh_failed_load = true;\n    } else if (force !== true) {\n      var cell = $(document.getElementById(\"1097\")).parents('.cell').data().cell;\n      cell.output_area.append_execute_result(NB_LOAD_WARNING)\n    }\n\n  }\n\n  if (root._bokeh_is_loading === 0) {\n    console.debug(\"Bokeh: BokehJS loaded, going straight to plotting\");\n    run_inline_js();\n  } else {\n    load_libs(css_urls, js_urls, function() {\n      console.debug(\"Bokeh: BokehJS plotting callback run at\", now());\n      run_inline_js();\n    });\n  }\n}(window));"
     },
     "metadata": {},
     "output_type": "display_data"
    }
   ],
   "source": [
    "from bokeh.io import show, output_notebook\n",
    "from bokeh.layouts import gridplot\n",
    "from bokeh.models.scales import LogScale\n",
    "output_notebook()"
   ]
  },
  {
   "cell_type": "code",
   "execution_count": 8,
   "id": "d97596e6-a449-460d-a8c2-6e78e712c02c",
   "metadata": {},
   "outputs": [],
   "source": [
    "import pandas as pd"
   ]
  },
  {
   "cell_type": "markdown",
   "id": "65cc9eb1-eaee-4c55-9d3f-8d498b6d0102",
   "metadata": {},
   "source": [
    "## Import data"
   ]
  },
  {
   "cell_type": "code",
   "execution_count": 3,
   "id": "5b67966c-f38e-4fb7-878e-e3085e54ee82",
   "metadata": {},
   "outputs": [],
   "source": [
    "BASE_DIR = '/home/olavur/experiments/2020-11-13_fargen1_exome_analysis'"
   ]
  },
  {
   "cell_type": "code",
   "execution_count": 4,
   "id": "207d1044-e1c7-4230-814c-869d60a81382",
   "metadata": {},
   "outputs": [],
   "source": [
    "vcf_gz_path = '/data/projects/fargen_phase_1/data/multi_sample_data/phasing/outs/phased_merged.vcf.gz'"
   ]
  },
  {
   "cell_type": "code",
   "execution_count": 5,
   "id": "67860587-376b-40e6-9b96-4f9fcfbbba19",
   "metadata": {},
   "outputs": [],
   "source": [
    "mt = hl.import_vcf(vcf_gz_path, force_bgz=True, reference_genome='GRCh38', array_elements_required=False)"
   ]
  },
  {
   "cell_type": "code",
   "execution_count": 6,
   "id": "034116a3-063c-4a49-8d0e-2eba6b8056f2",
   "metadata": {},
   "outputs": [
    {
     "name": "stderr",
     "output_type": "stream",
     "text": [
      "2021-05-31 11:12:36 Hail: INFO: Coerced sorted dataset\n"
     ]
    },
    {
     "name": "stdout",
     "output_type": "stream",
     "text": [
      "Number of sites: 3110759\n",
      "Number of samples: 472\n"
     ]
    }
   ],
   "source": [
    "n_sites, n_samples = mt.count()\n",
    "print('Number of sites: {n}\\nNumber of samples: {m}'.format(n=n_sites, m=n_samples))"
   ]
  },
  {
   "cell_type": "markdown",
   "id": "b927c224-327b-4b94-b81b-e088a2b80ae8",
   "metadata": {},
   "source": [
    "## Filter variants"
   ]
  },
  {
   "cell_type": "code",
   "execution_count": 10,
   "id": "a9fe5364-f7f3-468f-bd30-242430246b18",
   "metadata": {},
   "outputs": [],
   "source": [
    "mt = mt.filter_rows(mt.filters.contains('VQSRTrancheSNP99.90to100.00') | mt.filters.contains('VQSRTrancheINDEL99.90to100.00'))"
   ]
  },
  {
   "cell_type": "code",
   "execution_count": 11,
   "id": "513f42bb-402d-4e15-9585-4d010fdc4847",
   "metadata": {},
   "outputs": [
    {
     "name": "stderr",
     "output_type": "stream",
     "text": [
      "2021-05-31 11:14:39 Hail: INFO: Coerced sorted dataset\n"
     ]
    },
    {
     "name": "stdout",
     "output_type": "stream",
     "text": [
      "Number of sites: 617463\n",
      "Number of samples: 472\n"
     ]
    }
   ],
   "source": [
    "n_sites, n_samples = mt.count()\n",
    "print('Number of sites: {n}\\nNumber of samples: {m}'.format(n=n_sites, m=n_samples))"
   ]
  },
  {
   "cell_type": "markdown",
   "id": "a1e1d5ab-a35b-4d34-b469-aa959ac0a737",
   "metadata": {},
   "source": [
    "## Write variants to file"
   ]
  },
  {
   "cell_type": "code",
   "execution_count": 12,
   "id": "e4772549-18c3-45d7-9325-574e6e736bd6",
   "metadata": {},
   "outputs": [
    {
     "name": "stderr",
     "output_type": "stream",
     "text": [
      "2021-05-31 11:15:03 Hail: INFO: Coerced sorted dataset\n",
      "2021-05-31 11:16:31 Hail: INFO: wrote matrix table with 617463 rows and 472 columns in 37 partitions to /home/olavur/experiments/2020-11-13_fargen1_exome_analysis/data/mt/phased_hq.mt\n",
      "    Total size: 724.91 MiB\n",
      "    * Rows/entries: 724.91 MiB\n",
      "    * Columns: 1.77 KiB\n",
      "    * Globals: 11.00 B\n",
      "    * Smallest partition: 14326 rows (16.44 MiB)\n",
      "    * Largest partition:  18817 rows (21.81 MiB)\n"
     ]
    }
   ],
   "source": [
    "mt.write(BASE_DIR + '/data/mt/phased_hq.mt', overwrite=True)"
   ]
  },
  {
   "cell_type": "markdown",
   "id": "1e71eb51-7f82-4a0e-9e87-57e941dd9662",
   "metadata": {},
   "source": [
    "Read the new data again, to avoid having to repeat all operations."
   ]
  },
  {
   "cell_type": "code",
   "execution_count": 15,
   "id": "1f86f88a-fd5a-429d-a484-b3a7b5556a52",
   "metadata": {},
   "outputs": [],
   "source": [
    "mt = hl.read_matrix_table(BASE_DIR + '/data/mt/phased_hq.mt/')"
   ]
  },
  {
   "cell_type": "code",
   "execution_count": 16,
   "id": "5014871a-ae54-4ff4-b149-99c0097e652a",
   "metadata": {},
   "outputs": [
    {
     "name": "stdout",
     "output_type": "stream",
     "text": [
      "Number of sites: 617463\n",
      "Number of samples: 472\n"
     ]
    }
   ],
   "source": [
    "n_sites, n_samples = mt.count()\n",
    "print('Number of sites: {n}\\nNumber of samples: {m}'.format(n=n_sites, m=n_samples))"
   ]
  },
  {
   "cell_type": "markdown",
   "id": "246e4ff8-48f4-4757-92cb-8d1df208858f",
   "metadata": {},
   "source": [
    "## Phasing statistics\n",
    "\n",
    "### Phased heterozygotes\n",
    "\n",
    "Calculate number of phased heterozygotes."
   ]
  },
  {
   "cell_type": "code",
   "execution_count": 207,
   "id": "7ae94f72-f4ff-4143-ba26-5fb7ec1f4d53",
   "metadata": {},
   "outputs": [],
   "source": [
    "# Get all heterozygotes.\n",
    "het_mt = mt.filter_entries(mt.GT.is_het())"
   ]
  },
  {
   "cell_type": "code",
   "execution_count": 208,
   "id": "fb59b3b6-385b-4790-b3cd-b9c925febbb1",
   "metadata": {},
   "outputs": [],
   "source": [
    "het_mt = het_mt.annotate_cols(n_phased_hets=hl.agg.count_where(het_mt.GT.phased), n_hets = hl.agg.count_where(het_mt.GT.is_het()))"
   ]
  },
  {
   "cell_type": "code",
   "execution_count": 209,
   "id": "d245f31d-b71d-47b2-934d-13e573eeb7a8",
   "metadata": {},
   "outputs": [],
   "source": [
    "het_mt = het_mt.annotate_cols(phased_hets_fraction = het_mt.n_phased_hets / het_mt.n_hets)"
   ]
  },
  {
   "cell_type": "code",
   "execution_count": 210,
   "id": "7db4e968-0121-491b-b863-84df7b854b2d",
   "metadata": {},
   "outputs": [
    {
     "data": {
      "text/html": [
       "\n",
       "\n",
       "\n",
       "\n",
       "\n",
       "\n",
       "  <div class=\"bk-root\" id=\"a2350cd7-8722-410e-bb72-c4e939d812a8\" data-root-id=\"1310\"></div>\n"
      ]
     },
     "metadata": {},
     "output_type": "display_data"
    },
    {
     "data": {
      "application/javascript": [
       "(function(root) {\n",
       "  function embed_document(root) {\n",
       "    \n",
       "  var docs_json = {\"ed157876-feac-48c1-af87-bc6af13ca519\":{\"roots\":{\"references\":[{\"attributes\":{\"background_fill_color\":{\"value\":\"#EEEEEE\"},\"below\":[{\"id\":\"1320\",\"type\":\"LinearAxis\"}],\"center\":[{\"id\":\"1324\",\"type\":\"Grid\"},{\"id\":\"1329\",\"type\":\"Grid\"}],\"left\":[{\"id\":\"1325\",\"type\":\"LinearAxis\"}],\"renderers\":[{\"id\":\"1346\",\"type\":\"GlyphRenderer\"}],\"title\":null,\"toolbar\":{\"id\":\"1336\",\"type\":\"Toolbar\"},\"x_range\":{\"id\":\"1312\",\"type\":\"Range1d\"},\"x_scale\":{\"id\":\"1316\",\"type\":\"LinearScale\"},\"y_range\":{\"id\":\"1314\",\"type\":\"DataRange1d\"},\"y_scale\":{\"id\":\"1318\",\"type\":\"LinearScale\"}},\"id\":\"1310\",\"subtype\":\"Figure\",\"type\":\"Plot\"},{\"attributes\":{},\"id\":\"1377\",\"type\":\"UnionRenderers\"},{\"attributes\":{\"axis_label\":\"Frequency\",\"formatter\":{\"id\":\"1376\",\"type\":\"BasicTickFormatter\"},\"ticker\":{\"id\":\"1326\",\"type\":\"BasicTicker\"}},\"id\":\"1325\",\"type\":\"LinearAxis\"},{\"attributes\":{\"formatter\":{\"id\":\"1374\",\"type\":\"BasicTickFormatter\"},\"ticker\":{\"id\":\"1321\",\"type\":\"BasicTicker\"}},\"id\":\"1320\",\"type\":\"LinearAxis\"},{\"attributes\":{\"dimension\":1,\"ticker\":{\"id\":\"1326\",\"type\":\"BasicTicker\"}},\"id\":\"1329\",\"type\":\"Grid\"},{\"attributes\":{},\"id\":\"1374\",\"type\":\"BasicTickFormatter\"},{\"attributes\":{\"data_source\":{\"id\":\"1343\",\"type\":\"ColumnDataSource\"},\"glyph\":{\"id\":\"1344\",\"type\":\"Quad\"},\"hover_glyph\":null,\"muted_glyph\":null,\"nonselection_glyph\":{\"id\":\"1345\",\"type\":\"Quad\"},\"selection_glyph\":null,\"view\":{\"id\":\"1347\",\"type\":\"CDSView\"}},\"id\":\"1346\",\"type\":\"GlyphRenderer\"},{\"attributes\":{},\"id\":\"1334\",\"type\":\"ResetTool\"},{\"attributes\":{\"callback\":null,\"end\":0.8547145575284958,\"start\":0.3592275530099869},\"id\":\"1312\",\"type\":\"Range1d\"},{\"attributes\":{\"source\":{\"id\":\"1343\",\"type\":\"ColumnDataSource\"}},\"id\":\"1347\",\"type\":\"CDSView\"},{\"attributes\":{},\"id\":\"1376\",\"type\":\"BasicTickFormatter\"},{\"attributes\":{\"bottom\":{\"value\":0},\"fill_alpha\":{\"value\":0.1},\"fill_color\":{\"value\":\"#1f77b4\"},\"left\":{\"field\":\"left\"},\"line_alpha\":{\"value\":0.1},\"line_color\":{\"value\":\"#1f77b4\"},\"right\":{\"field\":\"right\"},\"top\":{\"field\":\"top\"}},\"id\":\"1345\",\"type\":\"Quad\"},{\"attributes\":{},\"id\":\"1316\",\"type\":\"LinearScale\"},{\"attributes\":{\"bottom\":{\"value\":0},\"fill_color\":{\"value\":\"#1f77b4\"},\"left\":{\"field\":\"left\"},\"right\":{\"field\":\"right\"},\"top\":{\"field\":\"top\"}},\"id\":\"1344\",\"type\":\"Quad\"},{\"attributes\":{},\"id\":\"1331\",\"type\":\"WheelZoomTool\"},{\"attributes\":{\"overlay\":{\"id\":\"1379\",\"type\":\"BoxAnnotation\"}},\"id\":\"1332\",\"type\":\"BoxZoomTool\"},{\"attributes\":{},\"id\":\"1318\",\"type\":\"LinearScale\"},{\"attributes\":{},\"id\":\"1321\",\"type\":\"BasicTicker\"},{\"attributes\":{},\"id\":\"1330\",\"type\":\"PanTool\"},{\"attributes\":{\"bottom_units\":\"screen\",\"fill_alpha\":{\"value\":0.5},\"fill_color\":{\"value\":\"lightgrey\"},\"left_units\":\"screen\",\"level\":\"overlay\",\"line_alpha\":{\"value\":1.0},\"line_color\":{\"value\":\"black\"},\"line_dash\":[4,4],\"line_width\":{\"value\":2},\"render_mode\":\"css\",\"right_units\":\"screen\",\"top_units\":\"screen\"},\"id\":\"1379\",\"type\":\"BoxAnnotation\"},{\"attributes\":{\"callback\":null},\"id\":\"1314\",\"type\":\"DataRange1d\"},{\"attributes\":{},\"id\":\"1378\",\"type\":\"Selection\"},{\"attributes\":{},\"id\":\"1333\",\"type\":\"SaveTool\"},{\"attributes\":{},\"id\":\"1335\",\"type\":\"HelpTool\"},{\"attributes\":{},\"id\":\"1326\",\"type\":\"BasicTicker\"},{\"attributes\":{\"callback\":null,\"data\":{\"left\":[0.38174968957901,0.39075854420661926,0.3997673988342285,0.40877625346183777,0.417785108089447,0.4267939627170563,0.4358028173446655,0.4448116719722748,0.45382052659988403,0.4628293812274933,0.47183823585510254,0.4808470904827118,0.48985594511032104,0.4988647997379303,0.5078736543655396,0.5168825089931488,0.5258913636207581,0.5349002182483673,0.5439090728759766,0.5529179275035858,0.5619267821311951,0.5709356367588043,0.5799444913864136,0.5889533460140228,0.5979622006416321,0.6069710552692413,0.6159799098968506,0.6249887645244598,0.6339976191520691,0.6430064737796783,0.6520153284072876,0.6610241830348969,0.6700330376625061,0.6790418922901154,0.6880507469177246,0.6970596015453339,0.7060684561729431,0.7150773108005524,0.7240861654281616,0.7330950200557709,0.7421038746833801,0.7511127293109894,0.7601215839385986,0.7691304385662079,0.7781392931938171,0.7871481478214264,0.7961570024490356,0.8051658570766449,0.8141747117042542,0.8231835663318634],\"right\":[0.39075854420661926,0.3997673988342285,0.40877625346183777,0.417785108089447,0.4267939627170563,0.4358028173446655,0.4448116719722748,0.45382052659988403,0.4628293812274933,0.47183823585510254,0.4808470904827118,0.48985594511032104,0.4988647997379303,0.5078736543655396,0.5168825089931488,0.5258913636207581,0.5349002182483673,0.5439090728759766,0.5529179275035858,0.5619267821311951,0.5709356367588043,0.5799444913864136,0.5889533460140228,0.5979622006416321,0.6069710552692413,0.6159799098968506,0.6249887645244598,0.6339976191520691,0.6430064737796783,0.6520153284072876,0.6610241830348969,0.6700330376625061,0.6790418922901154,0.6880507469177246,0.6970596015453339,0.7060684561729431,0.7150773108005524,0.7240861654281616,0.7330950200557709,0.7421038746833801,0.7511127293109894,0.7601215839385986,0.7691304385662079,0.7781392931938171,0.7871481478214264,0.7961570024490356,0.8051658570766449,0.8141747117042542,0.8231835663318634,0.8321924209594727],\"top\":[1,0,0,0,0,0,0,0,0,0,2,0,1,0,2,0,2,1,6,4,8,9,19,25,31,35,31,42,48,43,37,22,25,12,9,12,13,7,8,3,3,3,2,2,2,1,0,0,0,1]},\"selected\":{\"id\":\"1378\",\"type\":\"Selection\"},\"selection_policy\":{\"id\":\"1377\",\"type\":\"UnionRenderers\"}},\"id\":\"1343\",\"type\":\"ColumnDataSource\"},{\"attributes\":{\"active_drag\":\"auto\",\"active_inspect\":\"auto\",\"active_multi\":null,\"active_scroll\":\"auto\",\"active_tap\":\"auto\",\"tools\":[{\"id\":\"1330\",\"type\":\"PanTool\"},{\"id\":\"1331\",\"type\":\"WheelZoomTool\"},{\"id\":\"1332\",\"type\":\"BoxZoomTool\"},{\"id\":\"1333\",\"type\":\"SaveTool\"},{\"id\":\"1334\",\"type\":\"ResetTool\"},{\"id\":\"1335\",\"type\":\"HelpTool\"}]},\"id\":\"1336\",\"type\":\"Toolbar\"},{\"attributes\":{\"ticker\":{\"id\":\"1321\",\"type\":\"BasicTicker\"}},\"id\":\"1324\",\"type\":\"Grid\"}],\"root_ids\":[\"1310\"]},\"title\":\"Bokeh Application\",\"version\":\"1.2.0\"}};\n",
       "  var render_items = [{\"docid\":\"ed157876-feac-48c1-af87-bc6af13ca519\",\"roots\":{\"1310\":\"a2350cd7-8722-410e-bb72-c4e939d812a8\"}}];\n",
       "  root.Bokeh.embed.embed_items_notebook(docs_json, render_items);\n",
       "\n",
       "  }\n",
       "  if (root.Bokeh !== undefined) {\n",
       "    embed_document(root);\n",
       "  } else {\n",
       "    var attempts = 0;\n",
       "    var timer = setInterval(function(root) {\n",
       "      if (root.Bokeh !== undefined) {\n",
       "        embed_document(root);\n",
       "        clearInterval(timer);\n",
       "      }\n",
       "      attempts++;\n",
       "      if (attempts > 100) {\n",
       "        console.log(\"Bokeh: ERROR: Unable to run BokehJS code because BokehJS library is missing\");\n",
       "        clearInterval(timer);\n",
       "      }\n",
       "    }, 10, root)\n",
       "  }\n",
       "})(window);"
      ],
      "application/vnd.bokehjs_exec.v0+json": ""
     },
     "metadata": {
      "application/vnd.bokehjs_exec.v0+json": {
       "id": "1310"
      }
     },
     "output_type": "display_data"
    }
   ],
   "source": [
    "p = hl.plot.histogram(het_mt.phased_hets_fraction)\n",
    "show(p)"
   ]
  },
  {
   "cell_type": "markdown",
   "id": "fd86fc51-4893-4b65-a801-24e3282e9db9",
   "metadata": {},
   "source": [
    "### Phase block lengths\n",
    "\n",
    "Calculate the lengths of the phase blocks. Phase blocks are defined by the `PS` 'phase set' tag on the genotypes. The `PS` tag is an integer equal to the position of the first variant in the phase block.\n",
    "\n",
    "Below we rename the phase sets, such that they include the chromosome name, to avoid clashing in phase set names.\n",
    "\n",
    "**NOTE:** we only look at heterozygotes, because in principal, the phase of any homozygote variants are known trivially. Therefore, if we include homozygous variants, in principal our phase block stretches from the first to the last homozygote on the chromosome."
   ]
  },
  {
   "cell_type": "code",
   "execution_count": 59,
   "id": "23ef76e3-2e7e-4e1f-b0d9-d5f7374bfbcc",
   "metadata": {},
   "outputs": [],
   "source": [
    "sample_sub_exprs = hl.array(['FN001485', 'FN000020', 'FN000254'])\n",
    "het_mt = het_mt.filter_cols(sample_sub_exprs.contains(het_mt.s))"
   ]
  },
  {
   "cell_type": "code",
   "execution_count": 60,
   "id": "b973d435-e7af-4049-97ec-0affc9976535",
   "metadata": {},
   "outputs": [
    {
     "name": "stdout",
     "output_type": "stream",
     "text": [
      "Number of sites: 617463\n",
      "Number of samples: 3\n"
     ]
    }
   ],
   "source": [
    "n_sites, n_samples = het_mt.count()\n",
    "print('Number of sites: {n}\\nNumber of samples: {m}'.format(n=n_sites, m=n_samples))"
   ]
  },
  {
   "cell_type": "code",
   "execution_count": 163,
   "id": "e32ffa2c-1c14-4051-b28c-1e1472936e61",
   "metadata": {},
   "outputs": [],
   "source": [
    "het_mt = het_mt.annotate_entries(ps_chr = het_mt.locus.contig + hl.str(':') + hl.str(het_mt.PS))"
   ]
  },
  {
   "cell_type": "markdown",
   "id": "a7610428-de2e-4f7f-ae0e-668a7092da6e",
   "metadata": {},
   "source": [
    "We calculate the number of variants in each phase block. We do this for a single sample here."
   ]
  },
  {
   "cell_type": "code",
   "execution_count": 177,
   "id": "225692c8-f311-4d16-82c0-c68558d84f5d",
   "metadata": {},
   "outputs": [],
   "source": [
    "ps_count = het_mt.aggregate_entries(hl.agg.filter(het_mt.s == 'FN001485', hl.agg.counter(het_mt.PS)))"
   ]
  },
  {
   "cell_type": "markdown",
   "id": "0a88bb47-fa7a-4ca8-bf8a-9bc0725153b6",
   "metadata": {},
   "source": [
    "We don't care about the unphased variants without a phase set, so we remove this."
   ]
  },
  {
   "cell_type": "code",
   "execution_count": 178,
   "id": "70df7a3e-6b18-434f-9d14-8bc80ff87c6f",
   "metadata": {},
   "outputs": [],
   "source": [
    "_ = ps_count.pop(None)"
   ]
  },
  {
   "cell_type": "markdown",
   "id": "d0da6d9c-7599-4545-b716-d3debdd7f0ec",
   "metadata": {},
   "source": [
    "We can also group the rows by chromosome, and then just count the `PS` tags directly."
   ]
  },
  {
   "cell_type": "code",
   "execution_count": 181,
   "id": "72843fd5-69d0-4d37-87d1-94c119b1655e",
   "metadata": {},
   "outputs": [],
   "source": [
    "result = (het_mt.group_rows_by(chrom=het_mt.locus.contig)\n",
    "    .aggregate(PS_count=hl.agg.counter(het_mt.PS)))"
   ]
  },
  {
   "cell_type": "markdown",
   "id": "52d23c66-3732-4a08-8c3f-cde2b37d058c",
   "metadata": {},
   "source": [
    "#### Construct phase set table"
   ]
  },
  {
   "cell_type": "code",
   "execution_count": null,
   "id": "c6565797-e198-484f-840f-1149d91a72c9",
   "metadata": {},
   "outputs": [],
   "source": []
  }
 ],
 "metadata": {
  "kernelspec": {
   "display_name": "Python [conda env:fargen-1-exome]",
   "language": "python",
   "name": "conda-env-fargen-1-exome-py"
  },
  "language_info": {
   "codemirror_mode": {
    "name": "ipython",
    "version": 3
   },
   "file_extension": ".py",
   "mimetype": "text/x-python",
   "name": "python",
   "nbconvert_exporter": "python",
   "pygments_lexer": "ipython3",
   "version": "3.7.10"
  }
 },
 "nbformat": 4,
 "nbformat_minor": 5
}
