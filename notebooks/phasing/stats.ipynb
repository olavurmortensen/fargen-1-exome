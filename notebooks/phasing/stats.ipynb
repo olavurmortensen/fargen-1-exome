{
 "cells": [
  {
   "cell_type": "markdown",
   "id": "bce29dd8-ad84-4845-8e68-6cbdf6aec6c3",
   "metadata": {},
   "source": [
    "# Pasing statistics"
   ]
  },
  {
   "cell_type": "code",
   "execution_count": 1,
   "id": "00dbc8bc-6f1c-44fd-ac3e-8e147057e40b",
   "metadata": {},
   "outputs": [
    {
     "name": "stderr",
     "output_type": "stream",
     "text": [
      "Running on Apache Spark version 2.4.1\n",
      "SparkUI available at http://hms-beagle-848846b477-48ks9:4040\n",
      "Welcome to\n",
      "     __  __     <>__\n",
      "    / /_/ /__  __/ /\n",
      "   / __  / _ `/ / /\n",
      "  /_/ /_/\\_,_/_/_/   version 0.2.61-3c86d3ba497a\n",
      "LOGGING: writing to /home/olavur/experiments/2020-11-13_fargen1_exome_analysis/fargen-1-exome/notebooks/phasing/hail-20210531-1111-0.2.61-3c86d3ba497a.log\n"
     ]
    }
   ],
   "source": [
    "import hail as hl\n",
    "hl.init(spark_conf={'spark.driver.memory': '10g'}, tmp_dir='/home/olavur/tmp')"
   ]
  },
  {
   "cell_type": "code",
   "execution_count": 196,
   "id": "86940f33-6e72-44f5-a02c-41b739857f59",
   "metadata": {},
   "outputs": [
    {
     "data": {
      "text/html": [
       "\n",
       "    <div class=\"bk-root\">\n",
       "        <a href=\"https://bokeh.pydata.org\" target=\"_blank\" class=\"bk-logo bk-logo-small bk-logo-notebook\"></a>\n",
       "        <span id=\"1097\">Loading BokehJS ...</span>\n",
       "    </div>"
      ]
     },
     "metadata": {},
     "output_type": "display_data"
    },
    {
     "data": {
      "application/javascript": [
       "\n",
       "(function(root) {\n",
       "  function now() {\n",
       "    return new Date();\n",
       "  }\n",
       "\n",
       "  var force = true;\n",
       "\n",
       "  if (typeof root._bokeh_onload_callbacks === \"undefined\" || force === true) {\n",
       "    root._bokeh_onload_callbacks = [];\n",
       "    root._bokeh_is_loading = undefined;\n",
       "  }\n",
       "\n",
       "  var JS_MIME_TYPE = 'application/javascript';\n",
       "  var HTML_MIME_TYPE = 'text/html';\n",
       "  var EXEC_MIME_TYPE = 'application/vnd.bokehjs_exec.v0+json';\n",
       "  var CLASS_NAME = 'output_bokeh rendered_html';\n",
       "\n",
       "  /**\n",
       "   * Render data to the DOM node\n",
       "   */\n",
       "  function render(props, node) {\n",
       "    var script = document.createElement(\"script\");\n",
       "    node.appendChild(script);\n",
       "  }\n",
       "\n",
       "  /**\n",
       "   * Handle when an output is cleared or removed\n",
       "   */\n",
       "  function handleClearOutput(event, handle) {\n",
       "    var cell = handle.cell;\n",
       "\n",
       "    var id = cell.output_area._bokeh_element_id;\n",
       "    var server_id = cell.output_area._bokeh_server_id;\n",
       "    // Clean up Bokeh references\n",
       "    if (id != null && id in Bokeh.index) {\n",
       "      Bokeh.index[id].model.document.clear();\n",
       "      delete Bokeh.index[id];\n",
       "    }\n",
       "\n",
       "    if (server_id !== undefined) {\n",
       "      // Clean up Bokeh references\n",
       "      var cmd = \"from bokeh.io.state import curstate; print(curstate().uuid_to_server['\" + server_id + \"'].get_sessions()[0].document.roots[0]._id)\";\n",
       "      cell.notebook.kernel.execute(cmd, {\n",
       "        iopub: {\n",
       "          output: function(msg) {\n",
       "            var id = msg.content.text.trim();\n",
       "            if (id in Bokeh.index) {\n",
       "              Bokeh.index[id].model.document.clear();\n",
       "              delete Bokeh.index[id];\n",
       "            }\n",
       "          }\n",
       "        }\n",
       "      });\n",
       "      // Destroy server and session\n",
       "      var cmd = \"import bokeh.io.notebook as ion; ion.destroy_server('\" + server_id + \"')\";\n",
       "      cell.notebook.kernel.execute(cmd);\n",
       "    }\n",
       "  }\n",
       "\n",
       "  /**\n",
       "   * Handle when a new output is added\n",
       "   */\n",
       "  function handleAddOutput(event, handle) {\n",
       "    var output_area = handle.output_area;\n",
       "    var output = handle.output;\n",
       "\n",
       "    // limit handleAddOutput to display_data with EXEC_MIME_TYPE content only\n",
       "    if ((output.output_type != \"display_data\") || (!output.data.hasOwnProperty(EXEC_MIME_TYPE))) {\n",
       "      return\n",
       "    }\n",
       "\n",
       "    var toinsert = output_area.element.find(\".\" + CLASS_NAME.split(' ')[0]);\n",
       "\n",
       "    if (output.metadata[EXEC_MIME_TYPE][\"id\"] !== undefined) {\n",
       "      toinsert[toinsert.length - 1].firstChild.textContent = output.data[JS_MIME_TYPE];\n",
       "      // store reference to embed id on output_area\n",
       "      output_area._bokeh_element_id = output.metadata[EXEC_MIME_TYPE][\"id\"];\n",
       "    }\n",
       "    if (output.metadata[EXEC_MIME_TYPE][\"server_id\"] !== undefined) {\n",
       "      var bk_div = document.createElement(\"div\");\n",
       "      bk_div.innerHTML = output.data[HTML_MIME_TYPE];\n",
       "      var script_attrs = bk_div.children[0].attributes;\n",
       "      for (var i = 0; i < script_attrs.length; i++) {\n",
       "        toinsert[toinsert.length - 1].firstChild.setAttribute(script_attrs[i].name, script_attrs[i].value);\n",
       "      }\n",
       "      // store reference to server id on output_area\n",
       "      output_area._bokeh_server_id = output.metadata[EXEC_MIME_TYPE][\"server_id\"];\n",
       "    }\n",
       "  }\n",
       "\n",
       "  function register_renderer(events, OutputArea) {\n",
       "\n",
       "    function append_mime(data, metadata, element) {\n",
       "      // create a DOM node to render to\n",
       "      var toinsert = this.create_output_subarea(\n",
       "        metadata,\n",
       "        CLASS_NAME,\n",
       "        EXEC_MIME_TYPE\n",
       "      );\n",
       "      this.keyboard_manager.register_events(toinsert);\n",
       "      // Render to node\n",
       "      var props = {data: data, metadata: metadata[EXEC_MIME_TYPE]};\n",
       "      render(props, toinsert[toinsert.length - 1]);\n",
       "      element.append(toinsert);\n",
       "      return toinsert\n",
       "    }\n",
       "\n",
       "    /* Handle when an output is cleared or removed */\n",
       "    events.on('clear_output.CodeCell', handleClearOutput);\n",
       "    events.on('delete.Cell', handleClearOutput);\n",
       "\n",
       "    /* Handle when a new output is added */\n",
       "    events.on('output_added.OutputArea', handleAddOutput);\n",
       "\n",
       "    /**\n",
       "     * Register the mime type and append_mime function with output_area\n",
       "     */\n",
       "    OutputArea.prototype.register_mime_type(EXEC_MIME_TYPE, append_mime, {\n",
       "      /* Is output safe? */\n",
       "      safe: true,\n",
       "      /* Index of renderer in `output_area.display_order` */\n",
       "      index: 0\n",
       "    });\n",
       "  }\n",
       "\n",
       "  // register the mime type if in Jupyter Notebook environment and previously unregistered\n",
       "  if (root.Jupyter !== undefined) {\n",
       "    var events = require('base/js/events');\n",
       "    var OutputArea = require('notebook/js/outputarea').OutputArea;\n",
       "\n",
       "    if (OutputArea.prototype.mime_types().indexOf(EXEC_MIME_TYPE) == -1) {\n",
       "      register_renderer(events, OutputArea);\n",
       "    }\n",
       "  }\n",
       "\n",
       "  \n",
       "  if (typeof (root._bokeh_timeout) === \"undefined\" || force === true) {\n",
       "    root._bokeh_timeout = Date.now() + 5000;\n",
       "    root._bokeh_failed_load = false;\n",
       "  }\n",
       "\n",
       "  var NB_LOAD_WARNING = {'data': {'text/html':\n",
       "     \"<div style='background-color: #fdd'>\\n\"+\n",
       "     \"<p>\\n\"+\n",
       "     \"BokehJS does not appear to have successfully loaded. If loading BokehJS from CDN, this \\n\"+\n",
       "     \"may be due to a slow or bad network connection. Possible fixes:\\n\"+\n",
       "     \"</p>\\n\"+\n",
       "     \"<ul>\\n\"+\n",
       "     \"<li>re-rerun `output_notebook()` to attempt to load from CDN again, or</li>\\n\"+\n",
       "     \"<li>use INLINE resources instead, as so:</li>\\n\"+\n",
       "     \"</ul>\\n\"+\n",
       "     \"<code>\\n\"+\n",
       "     \"from bokeh.resources import INLINE\\n\"+\n",
       "     \"output_notebook(resources=INLINE)\\n\"+\n",
       "     \"</code>\\n\"+\n",
       "     \"</div>\"}};\n",
       "\n",
       "  function display_loaded() {\n",
       "    var el = document.getElementById(\"1097\");\n",
       "    if (el != null) {\n",
       "      el.textContent = \"BokehJS is loading...\";\n",
       "    }\n",
       "    if (root.Bokeh !== undefined) {\n",
       "      if (el != null) {\n",
       "        el.textContent = \"BokehJS \" + root.Bokeh.version + \" successfully loaded.\";\n",
       "      }\n",
       "    } else if (Date.now() < root._bokeh_timeout) {\n",
       "      setTimeout(display_loaded, 100)\n",
       "    }\n",
       "  }\n",
       "\n",
       "\n",
       "  function run_callbacks() {\n",
       "    try {\n",
       "      root._bokeh_onload_callbacks.forEach(function(callback) {\n",
       "        if (callback != null)\n",
       "          callback();\n",
       "      });\n",
       "    } finally {\n",
       "      delete root._bokeh_onload_callbacks\n",
       "    }\n",
       "    console.debug(\"Bokeh: all callbacks have finished\");\n",
       "  }\n",
       "\n",
       "  function load_libs(css_urls, js_urls, callback) {\n",
       "    if (css_urls == null) css_urls = [];\n",
       "    if (js_urls == null) js_urls = [];\n",
       "\n",
       "    root._bokeh_onload_callbacks.push(callback);\n",
       "    if (root._bokeh_is_loading > 0) {\n",
       "      console.debug(\"Bokeh: BokehJS is being loaded, scheduling callback at\", now());\n",
       "      return null;\n",
       "    }\n",
       "    if (js_urls == null || js_urls.length === 0) {\n",
       "      run_callbacks();\n",
       "      return null;\n",
       "    }\n",
       "    console.debug(\"Bokeh: BokehJS not loaded, scheduling load and callback at\", now());\n",
       "    root._bokeh_is_loading = css_urls.length + js_urls.length;\n",
       "\n",
       "    function on_load() {\n",
       "      root._bokeh_is_loading--;\n",
       "      if (root._bokeh_is_loading === 0) {\n",
       "        console.debug(\"Bokeh: all BokehJS libraries/stylesheets loaded\");\n",
       "        run_callbacks()\n",
       "      }\n",
       "    }\n",
       "\n",
       "    function on_error() {\n",
       "      console.error(\"failed to load \" + url);\n",
       "    }\n",
       "\n",
       "    for (var i = 0; i < css_urls.length; i++) {\n",
       "      var url = css_urls[i];\n",
       "      const element = document.createElement(\"link\");\n",
       "      element.onload = on_load;\n",
       "      element.onerror = on_error;\n",
       "      element.rel = \"stylesheet\";\n",
       "      element.type = \"text/css\";\n",
       "      element.href = url;\n",
       "      console.debug(\"Bokeh: injecting link tag for BokehJS stylesheet: \", url);\n",
       "      document.body.appendChild(element);\n",
       "    }\n",
       "\n",
       "    for (var i = 0; i < js_urls.length; i++) {\n",
       "      var url = js_urls[i];\n",
       "      var element = document.createElement('script');\n",
       "      element.onload = on_load;\n",
       "      element.onerror = on_error;\n",
       "      element.async = false;\n",
       "      element.src = url;\n",
       "      console.debug(\"Bokeh: injecting script tag for BokehJS library: \", url);\n",
       "      document.head.appendChild(element);\n",
       "    }\n",
       "  };var element = document.getElementById(\"1097\");\n",
       "  if (element == null) {\n",
       "    console.error(\"Bokeh: ERROR: autoload.js configured with elementid '1097' but no matching script tag was found. \")\n",
       "    return false;\n",
       "  }\n",
       "\n",
       "  function inject_raw_css(css) {\n",
       "    const element = document.createElement(\"style\");\n",
       "    element.appendChild(document.createTextNode(css));\n",
       "    document.body.appendChild(element);\n",
       "  }\n",
       "\n",
       "  var js_urls = [\"https://cdn.pydata.org/bokeh/release/bokeh-1.2.0.min.js\", \"https://cdn.pydata.org/bokeh/release/bokeh-widgets-1.2.0.min.js\", \"https://cdn.pydata.org/bokeh/release/bokeh-tables-1.2.0.min.js\", \"https://cdn.pydata.org/bokeh/release/bokeh-gl-1.2.0.min.js\"];\n",
       "  var css_urls = [\"https://cdn.pydata.org/bokeh/release/bokeh-1.2.0.min.css\", \"https://cdn.pydata.org/bokeh/release/bokeh-widgets-1.2.0.min.css\", \"https://cdn.pydata.org/bokeh/release/bokeh-tables-1.2.0.min.css\"];\n",
       "\n",
       "  var inline_js = [\n",
       "    function(Bokeh) {\n",
       "      Bokeh.set_log_level(\"info\");\n",
       "    },\n",
       "    \n",
       "    function(Bokeh) {\n",
       "      \n",
       "    },\n",
       "    function(Bokeh) {} // ensure no trailing comma for IE\n",
       "  ];\n",
       "\n",
       "  function run_inline_js() {\n",
       "    \n",
       "    if ((root.Bokeh !== undefined) || (force === true)) {\n",
       "      for (var i = 0; i < inline_js.length; i++) {\n",
       "        inline_js[i].call(root, root.Bokeh);\n",
       "      }if (force === true) {\n",
       "        display_loaded();\n",
       "      }} else if (Date.now() < root._bokeh_timeout) {\n",
       "      setTimeout(run_inline_js, 100);\n",
       "    } else if (!root._bokeh_failed_load) {\n",
       "      console.log(\"Bokeh: BokehJS failed to load within specified timeout.\");\n",
       "      root._bokeh_failed_load = true;\n",
       "    } else if (force !== true) {\n",
       "      var cell = $(document.getElementById(\"1097\")).parents('.cell').data().cell;\n",
       "      cell.output_area.append_execute_result(NB_LOAD_WARNING)\n",
       "    }\n",
       "\n",
       "  }\n",
       "\n",
       "  if (root._bokeh_is_loading === 0) {\n",
       "    console.debug(\"Bokeh: BokehJS loaded, going straight to plotting\");\n",
       "    run_inline_js();\n",
       "  } else {\n",
       "    load_libs(css_urls, js_urls, function() {\n",
       "      console.debug(\"Bokeh: BokehJS plotting callback run at\", now());\n",
       "      run_inline_js();\n",
       "    });\n",
       "  }\n",
       "}(window));"
      ],
      "application/vnd.bokehjs_load.v0+json": "\n(function(root) {\n  function now() {\n    return new Date();\n  }\n\n  var force = true;\n\n  if (typeof root._bokeh_onload_callbacks === \"undefined\" || force === true) {\n    root._bokeh_onload_callbacks = [];\n    root._bokeh_is_loading = undefined;\n  }\n\n  \n\n  \n  if (typeof (root._bokeh_timeout) === \"undefined\" || force === true) {\n    root._bokeh_timeout = Date.now() + 5000;\n    root._bokeh_failed_load = false;\n  }\n\n  var NB_LOAD_WARNING = {'data': {'text/html':\n     \"<div style='background-color: #fdd'>\\n\"+\n     \"<p>\\n\"+\n     \"BokehJS does not appear to have successfully loaded. If loading BokehJS from CDN, this \\n\"+\n     \"may be due to a slow or bad network connection. Possible fixes:\\n\"+\n     \"</p>\\n\"+\n     \"<ul>\\n\"+\n     \"<li>re-rerun `output_notebook()` to attempt to load from CDN again, or</li>\\n\"+\n     \"<li>use INLINE resources instead, as so:</li>\\n\"+\n     \"</ul>\\n\"+\n     \"<code>\\n\"+\n     \"from bokeh.resources import INLINE\\n\"+\n     \"output_notebook(resources=INLINE)\\n\"+\n     \"</code>\\n\"+\n     \"</div>\"}};\n\n  function display_loaded() {\n    var el = document.getElementById(\"1097\");\n    if (el != null) {\n      el.textContent = \"BokehJS is loading...\";\n    }\n    if (root.Bokeh !== undefined) {\n      if (el != null) {\n        el.textContent = \"BokehJS \" + root.Bokeh.version + \" successfully loaded.\";\n      }\n    } else if (Date.now() < root._bokeh_timeout) {\n      setTimeout(display_loaded, 100)\n    }\n  }\n\n\n  function run_callbacks() {\n    try {\n      root._bokeh_onload_callbacks.forEach(function(callback) {\n        if (callback != null)\n          callback();\n      });\n    } finally {\n      delete root._bokeh_onload_callbacks\n    }\n    console.debug(\"Bokeh: all callbacks have finished\");\n  }\n\n  function load_libs(css_urls, js_urls, callback) {\n    if (css_urls == null) css_urls = [];\n    if (js_urls == null) js_urls = [];\n\n    root._bokeh_onload_callbacks.push(callback);\n    if (root._bokeh_is_loading > 0) {\n      console.debug(\"Bokeh: BokehJS is being loaded, scheduling callback at\", now());\n      return null;\n    }\n    if (js_urls == null || js_urls.length === 0) {\n      run_callbacks();\n      return null;\n    }\n    console.debug(\"Bokeh: BokehJS not loaded, scheduling load and callback at\", now());\n    root._bokeh_is_loading = css_urls.length + js_urls.length;\n\n    function on_load() {\n      root._bokeh_is_loading--;\n      if (root._bokeh_is_loading === 0) {\n        console.debug(\"Bokeh: all BokehJS libraries/stylesheets loaded\");\n        run_callbacks()\n      }\n    }\n\n    function on_error() {\n      console.error(\"failed to load \" + url);\n    }\n\n    for (var i = 0; i < css_urls.length; i++) {\n      var url = css_urls[i];\n      const element = document.createElement(\"link\");\n      element.onload = on_load;\n      element.onerror = on_error;\n      element.rel = \"stylesheet\";\n      element.type = \"text/css\";\n      element.href = url;\n      console.debug(\"Bokeh: injecting link tag for BokehJS stylesheet: \", url);\n      document.body.appendChild(element);\n    }\n\n    for (var i = 0; i < js_urls.length; i++) {\n      var url = js_urls[i];\n      var element = document.createElement('script');\n      element.onload = on_load;\n      element.onerror = on_error;\n      element.async = false;\n      element.src = url;\n      console.debug(\"Bokeh: injecting script tag for BokehJS library: \", url);\n      document.head.appendChild(element);\n    }\n  };var element = document.getElementById(\"1097\");\n  if (element == null) {\n    console.error(\"Bokeh: ERROR: autoload.js configured with elementid '1097' but no matching script tag was found. \")\n    return false;\n  }\n\n  function inject_raw_css(css) {\n    const element = document.createElement(\"style\");\n    element.appendChild(document.createTextNode(css));\n    document.body.appendChild(element);\n  }\n\n  var js_urls = [\"https://cdn.pydata.org/bokeh/release/bokeh-1.2.0.min.js\", \"https://cdn.pydata.org/bokeh/release/bokeh-widgets-1.2.0.min.js\", \"https://cdn.pydata.org/bokeh/release/bokeh-tables-1.2.0.min.js\", \"https://cdn.pydata.org/bokeh/release/bokeh-gl-1.2.0.min.js\"];\n  var css_urls = [\"https://cdn.pydata.org/bokeh/release/bokeh-1.2.0.min.css\", \"https://cdn.pydata.org/bokeh/release/bokeh-widgets-1.2.0.min.css\", \"https://cdn.pydata.org/bokeh/release/bokeh-tables-1.2.0.min.css\"];\n\n  var inline_js = [\n    function(Bokeh) {\n      Bokeh.set_log_level(\"info\");\n    },\n    \n    function(Bokeh) {\n      \n    },\n    function(Bokeh) {} // ensure no trailing comma for IE\n  ];\n\n  function run_inline_js() {\n    \n    if ((root.Bokeh !== undefined) || (force === true)) {\n      for (var i = 0; i < inline_js.length; i++) {\n        inline_js[i].call(root, root.Bokeh);\n      }if (force === true) {\n        display_loaded();\n      }} else if (Date.now() < root._bokeh_timeout) {\n      setTimeout(run_inline_js, 100);\n    } else if (!root._bokeh_failed_load) {\n      console.log(\"Bokeh: BokehJS failed to load within specified timeout.\");\n      root._bokeh_failed_load = true;\n    } else if (force !== true) {\n      var cell = $(document.getElementById(\"1097\")).parents('.cell').data().cell;\n      cell.output_area.append_execute_result(NB_LOAD_WARNING)\n    }\n\n  }\n\n  if (root._bokeh_is_loading === 0) {\n    console.debug(\"Bokeh: BokehJS loaded, going straight to plotting\");\n    run_inline_js();\n  } else {\n    load_libs(css_urls, js_urls, function() {\n      console.debug(\"Bokeh: BokehJS plotting callback run at\", now());\n      run_inline_js();\n    });\n  }\n}(window));"
     },
     "metadata": {},
     "output_type": "display_data"
    }
   ],
   "source": [
    "from bokeh.io import show, output_notebook\n",
    "from bokeh.layouts import gridplot\n",
    "from bokeh.models.scales import LogScale\n",
    "output_notebook()"
   ]
  },
  {
   "cell_type": "code",
   "execution_count": 8,
   "id": "d97596e6-a449-460d-a8c2-6e78e712c02c",
   "metadata": {},
   "outputs": [],
   "source": [
    "import pandas as pd"
   ]
  },
  {
   "cell_type": "markdown",
   "id": "65cc9eb1-eaee-4c55-9d3f-8d498b6d0102",
   "metadata": {},
   "source": [
    "## Import data"
   ]
  },
  {
   "cell_type": "code",
   "execution_count": 3,
   "id": "5b67966c-f38e-4fb7-878e-e3085e54ee82",
   "metadata": {},
   "outputs": [],
   "source": [
    "BASE_DIR = '/home/olavur/experiments/2020-11-13_fargen1_exome_analysis'"
   ]
  },
  {
   "cell_type": "code",
   "execution_count": 4,
   "id": "207d1044-e1c7-4230-814c-869d60a81382",
   "metadata": {},
   "outputs": [],
   "source": [
    "vcf_gz_path = '/data/projects/fargen_phase_1/data/multi_sample_data/phasing/outs/phased_merged.vcf.gz'"
   ]
  },
  {
   "cell_type": "code",
   "execution_count": 5,
   "id": "67860587-376b-40e6-9b96-4f9fcfbbba19",
   "metadata": {},
   "outputs": [],
   "source": [
    "mt = hl.import_vcf(vcf_gz_path, force_bgz=True, reference_genome='GRCh38', array_elements_required=False)"
   ]
  },
  {
   "cell_type": "code",
   "execution_count": 6,
   "id": "034116a3-063c-4a49-8d0e-2eba6b8056f2",
   "metadata": {},
   "outputs": [
    {
     "name": "stderr",
     "output_type": "stream",
     "text": [
      "2021-05-31 11:12:36 Hail: INFO: Coerced sorted dataset\n"
     ]
    },
    {
     "name": "stdout",
     "output_type": "stream",
     "text": [
      "Number of sites: 3110759\n",
      "Number of samples: 472\n"
     ]
    }
   ],
   "source": [
    "n_sites, n_samples = mt.count()\n",
    "print('Number of sites: {n}\\nNumber of samples: {m}'.format(n=n_sites, m=n_samples))"
   ]
  },
  {
   "cell_type": "markdown",
   "id": "b927c224-327b-4b94-b81b-e088a2b80ae8",
   "metadata": {},
   "source": [
    "## Filter variants"
   ]
  },
  {
   "cell_type": "code",
   "execution_count": 10,
   "id": "a9fe5364-f7f3-468f-bd30-242430246b18",
   "metadata": {},
   "outputs": [],
   "source": [
    "mt = mt.filter_rows(mt.filters.contains('VQSRTrancheSNP99.90to100.00') | mt.filters.contains('VQSRTrancheINDEL99.90to100.00'))"
   ]
  },
  {
   "cell_type": "code",
   "execution_count": 11,
   "id": "513f42bb-402d-4e15-9585-4d010fdc4847",
   "metadata": {},
   "outputs": [
    {
     "name": "stderr",
     "output_type": "stream",
     "text": [
      "2021-05-31 11:14:39 Hail: INFO: Coerced sorted dataset\n"
     ]
    },
    {
     "name": "stdout",
     "output_type": "stream",
     "text": [
      "Number of sites: 617463\n",
      "Number of samples: 472\n"
     ]
    }
   ],
   "source": [
    "n_sites, n_samples = mt.count()\n",
    "print('Number of sites: {n}\\nNumber of samples: {m}'.format(n=n_sites, m=n_samples))"
   ]
  },
  {
   "cell_type": "markdown",
   "id": "a1e1d5ab-a35b-4d34-b469-aa959ac0a737",
   "metadata": {},
   "source": [
    "## Write variants to file"
   ]
  },
  {
   "cell_type": "code",
   "execution_count": 12,
   "id": "e4772549-18c3-45d7-9325-574e6e736bd6",
   "metadata": {},
   "outputs": [
    {
     "name": "stderr",
     "output_type": "stream",
     "text": [
      "2021-05-31 11:15:03 Hail: INFO: Coerced sorted dataset\n",
      "2021-05-31 11:16:31 Hail: INFO: wrote matrix table with 617463 rows and 472 columns in 37 partitions to /home/olavur/experiments/2020-11-13_fargen1_exome_analysis/data/mt/phased_hq.mt\n",
      "    Total size: 724.91 MiB\n",
      "    * Rows/entries: 724.91 MiB\n",
      "    * Columns: 1.77 KiB\n",
      "    * Globals: 11.00 B\n",
      "    * Smallest partition: 14326 rows (16.44 MiB)\n",
      "    * Largest partition:  18817 rows (21.81 MiB)\n"
     ]
    }
   ],
   "source": [
    "mt.write(BASE_DIR + '/data/mt/phased_hq.mt', overwrite=True)"
   ]
  },
  {
   "cell_type": "markdown",
   "id": "1e71eb51-7f82-4a0e-9e87-57e941dd9662",
   "metadata": {},
   "source": [
    "Read the new data again, to avoid having to repeat all operations."
   ]
  },
  {
   "cell_type": "code",
   "execution_count": 15,
   "id": "1f86f88a-fd5a-429d-a484-b3a7b5556a52",
   "metadata": {},
   "outputs": [],
   "source": [
    "mt = hl.read_matrix_table(BASE_DIR + '/data/mt/phased_hq.mt/')"
   ]
  },
  {
   "cell_type": "code",
   "execution_count": 16,
   "id": "5014871a-ae54-4ff4-b149-99c0097e652a",
   "metadata": {},
   "outputs": [
    {
     "name": "stdout",
     "output_type": "stream",
     "text": [
      "Number of sites: 617463\n",
      "Number of samples: 472\n"
     ]
    }
   ],
   "source": [
    "n_sites, n_samples = mt.count()\n",
    "print('Number of sites: {n}\\nNumber of samples: {m}'.format(n=n_sites, m=n_samples))"
   ]
  },
  {
   "cell_type": "markdown",
   "id": "246e4ff8-48f4-4757-92cb-8d1df208858f",
   "metadata": {},
   "source": [
    "## Phasing statistics\n",
    "\n",
    "### Phased heterozygotes\n",
    "\n",
    "Calculate number of phased heterozygotes."
   ]
  },
  {
   "cell_type": "code",
   "execution_count": 237,
   "id": "7ae94f72-f4ff-4143-ba26-5fb7ec1f4d53",
   "metadata": {},
   "outputs": [],
   "source": [
    "# Get all heterozygotes.\n",
    "het_mt = mt.filter_entries(mt.GT.is_het())"
   ]
  },
  {
   "cell_type": "code",
   "execution_count": 238,
   "id": "fb59b3b6-385b-4790-b3cd-b9c925febbb1",
   "metadata": {},
   "outputs": [],
   "source": [
    "het_mt = het_mt.annotate_cols(n_phased_hets=hl.agg.count_where(het_mt.GT.phased), n_hets = hl.agg.count_where(het_mt.GT.is_het()))"
   ]
  },
  {
   "cell_type": "code",
   "execution_count": 239,
   "id": "d245f31d-b71d-47b2-934d-13e573eeb7a8",
   "metadata": {},
   "outputs": [],
   "source": [
    "het_mt = het_mt.annotate_cols(phased_hets_fraction = het_mt.n_phased_hets / het_mt.n_hets)"
   ]
  },
  {
   "cell_type": "code",
   "execution_count": 240,
   "id": "7db4e968-0121-491b-b863-84df7b854b2d",
   "metadata": {},
   "outputs": [
    {
     "data": {
      "text/html": [
       "\n",
       "\n",
       "\n",
       "\n",
       "\n",
       "\n",
       "  <div class=\"bk-root\" id=\"c5d88a52-ef3a-4e1d-b2a4-418e190017dd\" data-root-id=\"1555\"></div>\n"
      ]
     },
     "metadata": {},
     "output_type": "display_data"
    },
    {
     "data": {
      "application/javascript": [
       "(function(root) {\n",
       "  function embed_document(root) {\n",
       "    \n",
       "  var docs_json = {\"518b0bab-0582-4e21-ac04-ec601a3409ee\":{\"roots\":{\"references\":[{\"attributes\":{\"background_fill_color\":{\"value\":\"#EEEEEE\"},\"below\":[{\"id\":\"1566\",\"type\":\"LinearAxis\"}],\"center\":[{\"id\":\"1570\",\"type\":\"Grid\"},{\"id\":\"1575\",\"type\":\"Grid\"}],\"left\":[{\"id\":\"1571\",\"type\":\"LinearAxis\"}],\"renderers\":[{\"id\":\"1592\",\"type\":\"GlyphRenderer\"}],\"title\":{\"id\":\"1556\",\"type\":\"Title\"},\"toolbar\":{\"id\":\"1582\",\"type\":\"Toolbar\"},\"x_range\":{\"id\":\"1558\",\"type\":\"Range1d\"},\"x_scale\":{\"id\":\"1562\",\"type\":\"LinearScale\"},\"y_range\":{\"id\":\"1560\",\"type\":\"DataRange1d\"},\"y_scale\":{\"id\":\"1564\",\"type\":\"LinearScale\"}},\"id\":\"1555\",\"subtype\":\"Figure\",\"type\":\"Plot\"},{\"attributes\":{\"dimension\":1,\"ticker\":{\"id\":\"1572\",\"type\":\"BasicTicker\"}},\"id\":\"1575\",\"type\":\"Grid\"},{\"attributes\":{\"active_drag\":\"auto\",\"active_inspect\":\"auto\",\"active_multi\":null,\"active_scroll\":\"auto\",\"active_tap\":\"auto\",\"tools\":[{\"id\":\"1576\",\"type\":\"PanTool\"},{\"id\":\"1577\",\"type\":\"WheelZoomTool\"},{\"id\":\"1578\",\"type\":\"BoxZoomTool\"},{\"id\":\"1579\",\"type\":\"SaveTool\"},{\"id\":\"1580\",\"type\":\"ResetTool\"},{\"id\":\"1581\",\"type\":\"HelpTool\"}]},\"id\":\"1582\",\"type\":\"Toolbar\"},{\"attributes\":{\"data_source\":{\"id\":\"1589\",\"type\":\"ColumnDataSource\"},\"glyph\":{\"id\":\"1590\",\"type\":\"Quad\"},\"hover_glyph\":null,\"muted_glyph\":null,\"nonselection_glyph\":{\"id\":\"1591\",\"type\":\"Quad\"},\"selection_glyph\":null,\"view\":{\"id\":\"1593\",\"type\":\"CDSView\"}},\"id\":\"1592\",\"type\":\"GlyphRenderer\"},{\"attributes\":{},\"id\":\"1572\",\"type\":\"BasicTicker\"},{\"attributes\":{\"callback\":null,\"data\":{\"left\":[0.38174968957901,0.39075854420661926,0.3997673988342285,0.40877625346183777,0.417785108089447,0.4267939627170563,0.4358028173446655,0.4448116719722748,0.45382052659988403,0.4628293812274933,0.47183823585510254,0.4808470904827118,0.48985594511032104,0.4988647997379303,0.5078736543655396,0.5168825089931488,0.5258913636207581,0.5349002182483673,0.5439090728759766,0.5529179275035858,0.5619267821311951,0.5709356367588043,0.5799444913864136,0.5889533460140228,0.5979622006416321,0.6069710552692413,0.6159799098968506,0.6249887645244598,0.6339976191520691,0.6430064737796783,0.6520153284072876,0.6610241830348969,0.6700330376625061,0.6790418922901154,0.6880507469177246,0.6970596015453339,0.7060684561729431,0.7150773108005524,0.7240861654281616,0.7330950200557709,0.7421038746833801,0.7511127293109894,0.7601215839385986,0.7691304385662079,0.7781392931938171,0.7871481478214264,0.7961570024490356,0.8051658570766449,0.8141747117042542,0.8231835663318634],\"right\":[0.39075854420661926,0.3997673988342285,0.40877625346183777,0.417785108089447,0.4267939627170563,0.4358028173446655,0.4448116719722748,0.45382052659988403,0.4628293812274933,0.47183823585510254,0.4808470904827118,0.48985594511032104,0.4988647997379303,0.5078736543655396,0.5168825089931488,0.5258913636207581,0.5349002182483673,0.5439090728759766,0.5529179275035858,0.5619267821311951,0.5709356367588043,0.5799444913864136,0.5889533460140228,0.5979622006416321,0.6069710552692413,0.6159799098968506,0.6249887645244598,0.6339976191520691,0.6430064737796783,0.6520153284072876,0.6610241830348969,0.6700330376625061,0.6790418922901154,0.6880507469177246,0.6970596015453339,0.7060684561729431,0.7150773108005524,0.7240861654281616,0.7330950200557709,0.7421038746833801,0.7511127293109894,0.7601215839385986,0.7691304385662079,0.7781392931938171,0.7871481478214264,0.7961570024490356,0.8051658570766449,0.8141747117042542,0.8231835663318634,0.8321924209594727],\"top\":[1,0,0,0,0,0,0,0,0,0,2,0,1,0,2,0,2,1,6,4,8,9,19,25,31,35,31,42,48,43,37,22,25,12,9,12,13,7,8,3,3,3,2,2,2,1,0,0,0,1]},\"selected\":{\"id\":\"1640\",\"type\":\"Selection\"},\"selection_policy\":{\"id\":\"1639\",\"type\":\"UnionRenderers\"}},\"id\":\"1589\",\"type\":\"ColumnDataSource\"},{\"attributes\":{\"bottom\":{\"value\":0},\"fill_alpha\":{\"value\":0.1},\"fill_color\":{\"value\":\"#1f77b4\"},\"left\":{\"field\":\"left\"},\"line_alpha\":{\"value\":0.1},\"line_color\":{\"value\":\"#1f77b4\"},\"right\":{\"field\":\"right\"},\"top\":{\"field\":\"top\"}},\"id\":\"1591\",\"type\":\"Quad\"},{\"attributes\":{\"bottom_units\":\"screen\",\"fill_alpha\":{\"value\":0.5},\"fill_color\":{\"value\":\"lightgrey\"},\"left_units\":\"screen\",\"level\":\"overlay\",\"line_alpha\":{\"value\":1.0},\"line_color\":{\"value\":\"black\"},\"line_dash\":[4,4],\"line_width\":{\"value\":2},\"render_mode\":\"css\",\"right_units\":\"screen\",\"top_units\":\"screen\"},\"id\":\"1641\",\"type\":\"BoxAnnotation\"},{\"attributes\":{\"axis_label\":\"Frequency\",\"formatter\":{\"id\":\"1638\",\"type\":\"BasicTickFormatter\"},\"ticker\":{\"id\":\"1572\",\"type\":\"BasicTicker\"}},\"id\":\"1571\",\"type\":\"LinearAxis\"},{\"attributes\":{\"formatter\":{\"id\":\"1636\",\"type\":\"BasicTickFormatter\"},\"ticker\":{\"id\":\"1567\",\"type\":\"BasicTicker\"}},\"id\":\"1566\",\"type\":\"LinearAxis\"},{\"attributes\":{\"text\":\"Histogram of fraction of phased heterozygotes per sample\"},\"id\":\"1556\",\"type\":\"Title\"},{\"attributes\":{},\"id\":\"1640\",\"type\":\"Selection\"},{\"attributes\":{\"bottom\":{\"value\":0},\"fill_color\":{\"value\":\"#1f77b4\"},\"left\":{\"field\":\"left\"},\"right\":{\"field\":\"right\"},\"top\":{\"field\":\"top\"}},\"id\":\"1590\",\"type\":\"Quad\"},{\"attributes\":{},\"id\":\"1580\",\"type\":\"ResetTool\"},{\"attributes\":{\"callback\":null},\"id\":\"1560\",\"type\":\"DataRange1d\"},{\"attributes\":{},\"id\":\"1581\",\"type\":\"HelpTool\"},{\"attributes\":{},\"id\":\"1639\",\"type\":\"UnionRenderers\"},{\"attributes\":{},\"id\":\"1562\",\"type\":\"LinearScale\"},{\"attributes\":{},\"id\":\"1567\",\"type\":\"BasicTicker\"},{\"attributes\":{},\"id\":\"1576\",\"type\":\"PanTool\"},{\"attributes\":{\"source\":{\"id\":\"1589\",\"type\":\"ColumnDataSource\"}},\"id\":\"1593\",\"type\":\"CDSView\"},{\"attributes\":{},\"id\":\"1636\",\"type\":\"BasicTickFormatter\"},{\"attributes\":{},\"id\":\"1577\",\"type\":\"WheelZoomTool\"},{\"attributes\":{},\"id\":\"1564\",\"type\":\"LinearScale\"},{\"attributes\":{\"callback\":null,\"end\":0.8547145575284958,\"start\":0.3592275530099869},\"id\":\"1558\",\"type\":\"Range1d\"},{\"attributes\":{\"overlay\":{\"id\":\"1641\",\"type\":\"BoxAnnotation\"}},\"id\":\"1578\",\"type\":\"BoxZoomTool\"},{\"attributes\":{},\"id\":\"1638\",\"type\":\"BasicTickFormatter\"},{\"attributes\":{},\"id\":\"1579\",\"type\":\"SaveTool\"},{\"attributes\":{\"ticker\":{\"id\":\"1567\",\"type\":\"BasicTicker\"}},\"id\":\"1570\",\"type\":\"Grid\"}],\"root_ids\":[\"1555\"]},\"title\":\"Bokeh Application\",\"version\":\"1.2.0\"}};\n",
       "  var render_items = [{\"docid\":\"518b0bab-0582-4e21-ac04-ec601a3409ee\",\"roots\":{\"1555\":\"c5d88a52-ef3a-4e1d-b2a4-418e190017dd\"}}];\n",
       "  root.Bokeh.embed.embed_items_notebook(docs_json, render_items);\n",
       "\n",
       "  }\n",
       "  if (root.Bokeh !== undefined) {\n",
       "    embed_document(root);\n",
       "  } else {\n",
       "    var attempts = 0;\n",
       "    var timer = setInterval(function(root) {\n",
       "      if (root.Bokeh !== undefined) {\n",
       "        embed_document(root);\n",
       "        clearInterval(timer);\n",
       "      }\n",
       "      attempts++;\n",
       "      if (attempts > 100) {\n",
       "        console.log(\"Bokeh: ERROR: Unable to run BokehJS code because BokehJS library is missing\");\n",
       "        clearInterval(timer);\n",
       "      }\n",
       "    }, 10, root)\n",
       "  }\n",
       "})(window);"
      ],
      "application/vnd.bokehjs_exec.v0+json": ""
     },
     "metadata": {
      "application/vnd.bokehjs_exec.v0+json": {
       "id": "1555"
      }
     },
     "output_type": "display_data"
    }
   ],
   "source": [
    "p = hl.plot.histogram(het_mt.phased_hets_fraction, title='Histogram of fraction of phased heterozygotes per sample')\n",
    "show(p)"
   ]
  },
  {
   "cell_type": "markdown",
   "id": "fd86fc51-4893-4b65-a801-24e3282e9db9",
   "metadata": {},
   "source": [
    "### Phase block lengths\n",
    "\n",
    "Calculate the lengths of the phase blocks. Phase blocks are defined by the `PS` 'phase set' tag on the genotypes. The `PS` tag is an integer equal to the position of the first variant in the phase block.\n",
    "\n",
    "**NOTE:** we only look at heterozygotes, because in principal, the phase of any homozygote variants are known trivially. Therefore, if we include homozygous variants, in principal our phase block stretches from the first to the last homozygote on the chromosome."
   ]
  },
  {
   "cell_type": "markdown",
   "id": "52d23c66-3732-4a08-8c3f-cde2b37d058c",
   "metadata": {},
   "source": [
    "#### Calculate phase block statistics\n",
    "\n",
    "We will obtain the start and end positions of each phase block, defined as the positions of the first and last variants in each phase set. We will use these to calculate the phase block lengths. We will also calculate the number of variants in each phase block.\n",
    "\n",
    "First, we make a table of entries, whose rows will be keyed by locus, alleles and sample. "
   ]
  },
  {
   "cell_type": "code",
   "execution_count": 286,
   "id": "0675b6c1-e256-4b9c-8adf-ece3f79a51f1",
   "metadata": {},
   "outputs": [],
   "source": [
    "entries = het_mt.entries()"
   ]
  },
  {
   "cell_type": "markdown",
   "id": "6bf84515-9243-430c-a2bc-28625e2ad3c5",
   "metadata": {},
   "source": [
    "Group entries by phase set, chromosome and sample. This gives us a table with all genotype data grouped by these values."
   ]
  },
  {
   "cell_type": "code",
   "execution_count": 287,
   "id": "6a03f180-5a61-4891-b09f-b06b487517d3",
   "metadata": {},
   "outputs": [],
   "source": [
    "ps_groups_ht = entries.group_by(PS_group=entries.PS, chrom_group=entries.locus.contig, sample_group=entries.s)"
   ]
  },
  {
   "cell_type": "markdown",
   "id": "8e798210-eea1-4924-96f3-78236fda5153",
   "metadata": {},
   "source": [
    "For each phase set in each sample, calculate the number of variants in each phase set, the start and end position of each set, and the length of each phase block."
   ]
  },
  {
   "cell_type": "code",
   "execution_count": 289,
   "id": "01336560-3e44-4ae6-8ae7-4f77489bc4ef",
   "metadata": {},
   "outputs": [
    {
     "name": "stderr",
     "output_type": "stream",
     "text": [
      "2021-06-01 11:01:06 Hail: INFO: Ordering unsorted dataset with network shuffle\n",
      "2021-06-01 11:01:10 Hail: INFO: wrote table with 1254275 rows in 37 partitions to /home/olavur/tmp/phasing_stats.ht\n",
      "    Total size: 22.85 MiB\n",
      "    * Rows: 22.85 MiB\n",
      "    * Globals: 11.00 B\n",
      "    * Smallest partition: 23977 rows (432.28 KiB)\n",
      "    * Largest partition:  50145 rows (967.81 KiB)\n"
     ]
    }
   ],
   "source": [
    "ps_stats_ht = ps_groups_ht.aggregate(ps_start=hl.agg.min(entries.locus.position), ps_stop=hl.agg.max(entries.locus.position), ps_count=hl.agg.count())\n",
    "\n",
    "ps_stats_ht = ps_stats_ht.annotate(ps_length = ps_stats_ht.ps_stop - ps_stats_ht.ps_start)\n",
    "\n",
    "# FIXME: checkpoint only for testing, remove.\n",
    "# Cache all operations by making a checkpoint.\n",
    "ps_stats_ht = ps_stats_ht.checkpoint('/home/olavur/tmp/phasing_stats.ht')"
   ]
  },
  {
   "cell_type": "markdown",
   "id": "f000801a-69b9-4f87-bbc7-8208ac777f09",
   "metadata": {},
   "source": [
    "#### Sanity check\n",
    "\n",
    "Let's investigate the phase blocks a bit, to check that they actually make sense.\n",
    "\n",
    "First let's look into the **phase block positions**.\n",
    "\n",
    "Below we see a histogram of the start position of phase blocks on chromosome 1 for one particular sample. Below that we see the same plot for the end positions.\n",
    "\n",
    "Note that with an exception of a region in the middle of the chromosome, the entire chromosome seems to be covered by phase blocks."
   ]
  },
  {
   "cell_type": "code",
   "execution_count": 314,
   "id": "93b0c50f-fa07-4c4f-a220-b86efbc4bccd",
   "metadata": {},
   "outputs": [
    {
     "data": {
      "text/html": [
       "\n",
       "\n",
       "\n",
       "\n",
       "\n",
       "\n",
       "  <div class=\"bk-root\" id=\"ef8c22c4-65fc-4b12-9b74-078010761812\" data-root-id=\"4292\"></div>\n"
      ]
     },
     "metadata": {},
     "output_type": "display_data"
    },
    {
     "data": {
      "application/javascript": [
       "(function(root) {\n",
       "  function embed_document(root) {\n",
       "    \n",
       "  var docs_json = {\"689abda7-f6c0-4926-b9bd-78b3bcc1d52c\":{\"roots\":{\"references\":[{\"attributes\":{\"background_fill_color\":{\"value\":\"#EEEEEE\"},\"below\":[{\"id\":\"4302\",\"type\":\"LinearAxis\"}],\"center\":[{\"id\":\"4306\",\"type\":\"Grid\"},{\"id\":\"4311\",\"type\":\"Grid\"}],\"left\":[{\"id\":\"4307\",\"type\":\"LinearAxis\"}],\"renderers\":[{\"id\":\"4328\",\"type\":\"GlyphRenderer\"}],\"title\":null,\"toolbar\":{\"id\":\"4318\",\"type\":\"Toolbar\"},\"x_range\":{\"id\":\"4294\",\"type\":\"Range1d\"},\"x_scale\":{\"id\":\"4298\",\"type\":\"LinearScale\"},\"y_range\":{\"id\":\"4296\",\"type\":\"DataRange1d\"},\"y_scale\":{\"id\":\"4300\",\"type\":\"LinearScale\"}},\"id\":\"4292\",\"subtype\":\"Figure\",\"type\":\"Plot\"},{\"attributes\":{\"active_drag\":\"auto\",\"active_inspect\":\"auto\",\"active_multi\":null,\"active_scroll\":\"auto\",\"active_tap\":\"auto\",\"tools\":[{\"id\":\"4312\",\"type\":\"PanTool\"},{\"id\":\"4313\",\"type\":\"WheelZoomTool\"},{\"id\":\"4314\",\"type\":\"BoxZoomTool\"},{\"id\":\"4315\",\"type\":\"SaveTool\"},{\"id\":\"4316\",\"type\":\"ResetTool\"},{\"id\":\"4317\",\"type\":\"HelpTool\"}]},\"id\":\"4318\",\"type\":\"Toolbar\"},{\"attributes\":{},\"id\":\"4308\",\"type\":\"BasicTicker\"},{\"attributes\":{\"callback\":null,\"end\":261255002.65,\"start\":-12425363.65},\"id\":\"4294\",\"type\":\"Range1d\"},{\"attributes\":{\"dimension\":1,\"ticker\":{\"id\":\"4308\",\"type\":\"BasicTicker\"}},\"id\":\"4311\",\"type\":\"Grid\"},{\"attributes\":{},\"id\":\"4492\",\"type\":\"BasicTickFormatter\"},{\"attributes\":{\"data_source\":{\"id\":\"4325\",\"type\":\"ColumnDataSource\"},\"glyph\":{\"id\":\"4326\",\"type\":\"Quad\"},\"hover_glyph\":null,\"muted_glyph\":null,\"nonselection_glyph\":{\"id\":\"4327\",\"type\":\"Quad\"},\"selection_glyph\":null,\"view\":{\"id\":\"4329\",\"type\":\"CDSView\"}},\"id\":\"4328\",\"type\":\"GlyphRenderer\"},{\"attributes\":{},\"id\":\"4496\",\"type\":\"Selection\"},{\"attributes\":{},\"id\":\"4316\",\"type\":\"ResetTool\"},{\"attributes\":{\"ticker\":{\"id\":\"4303\",\"type\":\"BasicTicker\"}},\"id\":\"4306\",\"type\":\"Grid\"},{\"attributes\":{},\"id\":\"4313\",\"type\":\"WheelZoomTool\"},{\"attributes\":{\"bottom\":{\"value\":0},\"fill_alpha\":{\"value\":0.1},\"fill_color\":{\"value\":\"#1f77b4\"},\"left\":{\"field\":\"left\"},\"line_alpha\":{\"value\":0.1},\"line_color\":{\"value\":\"#1f77b4\"},\"right\":{\"field\":\"right\"},\"top\":{\"field\":\"top\"}},\"id\":\"4327\",\"type\":\"Quad\"},{\"attributes\":{\"formatter\":{\"id\":\"4492\",\"type\":\"BasicTickFormatter\"},\"ticker\":{\"id\":\"4303\",\"type\":\"BasicTicker\"}},\"id\":\"4302\",\"type\":\"LinearAxis\"},{\"attributes\":{},\"id\":\"4303\",\"type\":\"BasicTicker\"},{\"attributes\":{\"callback\":null,\"data\":{\"left\":[14653.0,4990659.66,9966666.32,14942672.98,19918679.64,24894686.3,29870692.96,34846699.620000005,39822706.28,44798712.94,49774719.6,54750726.260000005,59726732.92,64702739.58,69678746.24000001,74654752.9,79630759.56,84606766.22,89582772.88,94558779.54,99534786.2,104510792.86,109486799.52000001,114462806.18,119438812.84,124414819.5,129390826.16,134366832.82,139342839.48000002,144318846.14000002,149294852.8,154270859.46,159246866.12,164222872.78,169198879.44,174174886.1,179150892.76,184126899.42000002,189102906.08,194078912.74,199054919.4,204030926.06,209006932.72,213982939.38,218958946.04000002,223934952.70000002,228910959.36,233886966.02,238862972.68,243838979.34],\"right\":[4990659.66,9966666.32,14942672.98,19918679.64,24894686.3,29870692.96,34846699.620000005,39822706.28,44798712.94,49774719.6,54750726.260000005,59726732.92,64702739.58,69678746.24000001,74654752.9,79630759.56,84606766.22,89582772.88,94558779.54,99534786.2,104510792.86,109486799.52000001,114462806.18,119438812.84,124414819.5,129390826.16,134366832.82,139342839.48000002,144318846.14000002,149294852.8,154270859.46,159246866.12,164222872.78,169198879.44,174174886.1,179150892.76,184126899.42000002,189102906.08,194078912.74,199054919.4,204030926.06,209006932.72,213982939.38,218958946.04000002,223934952.70000002,228910959.36,233886966.02,238862972.68,243838979.34,248814986.0],\"top\":[9,6,11,16,15,7,12,8,11,8,9,5,4,3,2,5,3,3,8,1,4,7,10,6,6,0,0,0,1,11,14,14,11,6,9,6,4,6,2,6,9,8,5,4,5,3,3,6,2,9]},\"selected\":{\"id\":\"4496\",\"type\":\"Selection\"},\"selection_policy\":{\"id\":\"4495\",\"type\":\"UnionRenderers\"}},\"id\":\"4325\",\"type\":\"ColumnDataSource\"},{\"attributes\":{},\"id\":\"4494\",\"type\":\"BasicTickFormatter\"},{\"attributes\":{\"axis_label\":\"Frequency\",\"formatter\":{\"id\":\"4494\",\"type\":\"BasicTickFormatter\"},\"ticker\":{\"id\":\"4308\",\"type\":\"BasicTicker\"}},\"id\":\"4307\",\"type\":\"LinearAxis\"},{\"attributes\":{\"source\":{\"id\":\"4325\",\"type\":\"ColumnDataSource\"}},\"id\":\"4329\",\"type\":\"CDSView\"},{\"attributes\":{\"bottom_units\":\"screen\",\"fill_alpha\":{\"value\":0.5},\"fill_color\":{\"value\":\"lightgrey\"},\"left_units\":\"screen\",\"level\":\"overlay\",\"line_alpha\":{\"value\":1.0},\"line_color\":{\"value\":\"black\"},\"line_dash\":[4,4],\"line_width\":{\"value\":2},\"render_mode\":\"css\",\"right_units\":\"screen\",\"top_units\":\"screen\"},\"id\":\"4497\",\"type\":\"BoxAnnotation\"},{\"attributes\":{},\"id\":\"4315\",\"type\":\"SaveTool\"},{\"attributes\":{},\"id\":\"4298\",\"type\":\"LinearScale\"},{\"attributes\":{},\"id\":\"4317\",\"type\":\"HelpTool\"},{\"attributes\":{\"callback\":null},\"id\":\"4296\",\"type\":\"DataRange1d\"},{\"attributes\":{},\"id\":\"4495\",\"type\":\"UnionRenderers\"},{\"attributes\":{},\"id\":\"4300\",\"type\":\"LinearScale\"},{\"attributes\":{\"overlay\":{\"id\":\"4497\",\"type\":\"BoxAnnotation\"}},\"id\":\"4314\",\"type\":\"BoxZoomTool\"},{\"attributes\":{},\"id\":\"4312\",\"type\":\"PanTool\"},{\"attributes\":{\"bottom\":{\"value\":0},\"fill_color\":{\"value\":\"#1f77b4\"},\"left\":{\"field\":\"left\"},\"right\":{\"field\":\"right\"},\"top\":{\"field\":\"top\"}},\"id\":\"4326\",\"type\":\"Quad\"}],\"root_ids\":[\"4292\"]},\"title\":\"Bokeh Application\",\"version\":\"1.2.0\"}};\n",
       "  var render_items = [{\"docid\":\"689abda7-f6c0-4926-b9bd-78b3bcc1d52c\",\"roots\":{\"4292\":\"ef8c22c4-65fc-4b12-9b74-078010761812\"}}];\n",
       "  root.Bokeh.embed.embed_items_notebook(docs_json, render_items);\n",
       "\n",
       "  }\n",
       "  if (root.Bokeh !== undefined) {\n",
       "    embed_document(root);\n",
       "  } else {\n",
       "    var attempts = 0;\n",
       "    var timer = setInterval(function(root) {\n",
       "      if (root.Bokeh !== undefined) {\n",
       "        embed_document(root);\n",
       "        clearInterval(timer);\n",
       "      }\n",
       "      attempts++;\n",
       "      if (attempts > 100) {\n",
       "        console.log(\"Bokeh: ERROR: Unable to run BokehJS code because BokehJS library is missing\");\n",
       "        clearInterval(timer);\n",
       "      }\n",
       "    }, 10, root)\n",
       "  }\n",
       "})(window);"
      ],
      "application/vnd.bokehjs_exec.v0+json": ""
     },
     "metadata": {
      "application/vnd.bokehjs_exec.v0+json": {
       "id": "4292"
      }
     },
     "output_type": "display_data"
    }
   ],
   "source": [
    "temp = ps_stats_ht.filter((ps_stats_ht.sample_group == 'FN000001') & (ps_stats_ht.chrom_group == 'chr1'))\n",
    "p = hl.plot.histogram(temp.ps_start)\n",
    "show(p)"
   ]
  },
  {
   "cell_type": "code",
   "execution_count": 307,
   "id": "98a83002-3ed3-47c6-8160-7803d190e360",
   "metadata": {},
   "outputs": [
    {
     "data": {
      "text/html": [
       "\n",
       "\n",
       "\n",
       "\n",
       "\n",
       "\n",
       "  <div class=\"bk-root\" id=\"f99ad736-664d-4de3-a6ef-bbfe3fdaca85\" data-root-id=\"2662\"></div>\n"
      ]
     },
     "metadata": {},
     "output_type": "display_data"
    },
    {
     "data": {
      "application/javascript": [
       "(function(root) {\n",
       "  function embed_document(root) {\n",
       "    \n",
       "  var docs_json = {\"0579305c-a6b8-444b-8f99-d4fdaf8c16af\":{\"roots\":{\"references\":[{\"attributes\":{\"background_fill_color\":{\"value\":\"#EEEEEE\"},\"below\":[{\"id\":\"2672\",\"type\":\"LinearAxis\"}],\"center\":[{\"id\":\"2676\",\"type\":\"Grid\"},{\"id\":\"2681\",\"type\":\"Grid\"}],\"left\":[{\"id\":\"2677\",\"type\":\"LinearAxis\"}],\"renderers\":[{\"id\":\"2698\",\"type\":\"GlyphRenderer\"}],\"title\":null,\"toolbar\":{\"id\":\"2688\",\"type\":\"Toolbar\"},\"x_range\":{\"id\":\"2664\",\"type\":\"Range1d\"},\"x_scale\":{\"id\":\"2668\",\"type\":\"LinearScale\"},\"y_range\":{\"id\":\"2666\",\"type\":\"DataRange1d\"},\"y_scale\":{\"id\":\"2670\",\"type\":\"LinearScale\"}},\"id\":\"2662\",\"subtype\":\"Figure\",\"type\":\"Plot\"},{\"attributes\":{\"overlay\":{\"id\":\"2803\",\"type\":\"BoxAnnotation\"}},\"id\":\"2684\",\"type\":\"BoxZoomTool\"},{\"attributes\":{\"bottom_units\":\"screen\",\"fill_alpha\":{\"value\":0.5},\"fill_color\":{\"value\":\"lightgrey\"},\"left_units\":\"screen\",\"level\":\"overlay\",\"line_alpha\":{\"value\":1.0},\"line_color\":{\"value\":\"black\"},\"line_dash\":[4,4],\"line_width\":{\"value\":2},\"render_mode\":\"css\",\"right_units\":\"screen\",\"top_units\":\"screen\"},\"id\":\"2803\",\"type\":\"BoxAnnotation\"},{\"attributes\":{\"bottom\":{\"value\":0},\"fill_alpha\":{\"value\":0.1},\"fill_color\":{\"value\":\"#1f77b4\"},\"left\":{\"field\":\"left\"},\"line_alpha\":{\"value\":0.1},\"line_color\":{\"value\":\"#1f77b4\"},\"right\":{\"field\":\"right\"},\"top\":{\"field\":\"top\"}},\"id\":\"2697\",\"type\":\"Quad\"},{\"attributes\":{\"callback\":null,\"data\":{\"left\":[16856.0,4994858.34,9972860.68,14950863.02,19928865.36,24906867.7,29884870.04,34862872.379999995,39840874.72,44818877.06,49796879.4,54774881.739999995,59752884.08,64730886.42,69708888.75999999,74686891.1,79664893.44,84642895.78,89620898.12,94598900.46,99576902.8,104554905.14,109532907.47999999,114510909.82,119488912.16,124466914.5,129444916.84,134422919.18,139400921.51999998,144378923.85999998,149356926.2,154334928.54,159312930.88,164290933.22,169268935.56,174246937.9,179224940.24,184202942.57999998,189180944.92,194158947.26,199136949.6,204114951.94,209092954.28,214070956.62,219048958.95999998,224026961.29999998,229004963.64,233982965.98,238960968.32,243938970.66],\"right\":[4994858.34,9972860.68,14950863.02,19928865.36,24906867.7,29884870.04,34862872.379999995,39840874.72,44818877.06,49796879.4,54774881.739999995,59752884.08,64730886.42,69708888.75999999,74686891.1,79664893.44,84642895.78,89620898.12,94598900.46,99576902.8,104554905.14,109532907.47999999,114510909.82,119488912.16,124466914.5,129444916.84,134422919.18,139400921.51999998,144378923.85999998,149356926.2,154334928.54,159312930.88,164290933.22,169268935.56,174246937.9,179224940.24,184202942.57999998,189180944.92,194158947.26,199136949.6,204114951.94,209092954.28,214070956.62,219048958.95999998,224026961.29999998,229004963.64,233982965.98,238960968.32,243938970.66,248916973.0],\"top\":[8,6,11,16,16,6,12,8,11,8,9,5,4,3,2,5,3,4,7,1,4,8,9,6,6,0,0,0,1,11,14,14,11,6,9,6,4,6,2,6,9,8,5,4,5,3,3,6,2,10]},\"selected\":{\"id\":\"2802\",\"type\":\"Selection\"},\"selection_policy\":{\"id\":\"2801\",\"type\":\"UnionRenderers\"}},\"id\":\"2695\",\"type\":\"ColumnDataSource\"},{\"attributes\":{\"bottom\":{\"value\":0},\"fill_color\":{\"value\":\"#1f77b4\"},\"left\":{\"field\":\"left\"},\"right\":{\"field\":\"right\"},\"top\":{\"field\":\"top\"}},\"id\":\"2696\",\"type\":\"Quad\"},{\"attributes\":{},\"id\":\"2798\",\"type\":\"BasicTickFormatter\"},{\"attributes\":{},\"id\":\"2678\",\"type\":\"BasicTicker\"},{\"attributes\":{\"active_drag\":\"auto\",\"active_inspect\":\"auto\",\"active_multi\":null,\"active_scroll\":\"auto\",\"active_tap\":\"auto\",\"tools\":[{\"id\":\"2682\",\"type\":\"PanTool\"},{\"id\":\"2683\",\"type\":\"WheelZoomTool\"},{\"id\":\"2684\",\"type\":\"BoxZoomTool\"},{\"id\":\"2685\",\"type\":\"SaveTool\"},{\"id\":\"2686\",\"type\":\"ResetTool\"},{\"id\":\"2687\",\"type\":\"HelpTool\"}]},\"id\":\"2688\",\"type\":\"Toolbar\"},{\"attributes\":{},\"id\":\"2687\",\"type\":\"HelpTool\"},{\"attributes\":{},\"id\":\"2670\",\"type\":\"LinearScale\"},{\"attributes\":{},\"id\":\"2802\",\"type\":\"Selection\"},{\"attributes\":{\"dimension\":1,\"ticker\":{\"id\":\"2678\",\"type\":\"BasicTicker\"}},\"id\":\"2681\",\"type\":\"Grid\"},{\"attributes\":{},\"id\":\"2686\",\"type\":\"ResetTool\"},{\"attributes\":{\"callback\":null},\"id\":\"2666\",\"type\":\"DataRange1d\"},{\"attributes\":{\"axis_label\":\"Frequency\",\"formatter\":{\"id\":\"2800\",\"type\":\"BasicTickFormatter\"},\"ticker\":{\"id\":\"2678\",\"type\":\"BasicTicker\"}},\"id\":\"2677\",\"type\":\"LinearAxis\"},{\"attributes\":{},\"id\":\"2801\",\"type\":\"UnionRenderers\"},{\"attributes\":{\"callback\":null,\"end\":261361978.85,\"start\":-12428149.850000001},\"id\":\"2664\",\"type\":\"Range1d\"},{\"attributes\":{\"data_source\":{\"id\":\"2695\",\"type\":\"ColumnDataSource\"},\"glyph\":{\"id\":\"2696\",\"type\":\"Quad\"},\"hover_glyph\":null,\"muted_glyph\":null,\"nonselection_glyph\":{\"id\":\"2697\",\"type\":\"Quad\"},\"selection_glyph\":null,\"view\":{\"id\":\"2699\",\"type\":\"CDSView\"}},\"id\":\"2698\",\"type\":\"GlyphRenderer\"},{\"attributes\":{\"source\":{\"id\":\"2695\",\"type\":\"ColumnDataSource\"}},\"id\":\"2699\",\"type\":\"CDSView\"},{\"attributes\":{},\"id\":\"2683\",\"type\":\"WheelZoomTool\"},{\"attributes\":{},\"id\":\"2673\",\"type\":\"BasicTicker\"},{\"attributes\":{},\"id\":\"2668\",\"type\":\"LinearScale\"},{\"attributes\":{\"formatter\":{\"id\":\"2798\",\"type\":\"BasicTickFormatter\"},\"ticker\":{\"id\":\"2673\",\"type\":\"BasicTicker\"}},\"id\":\"2672\",\"type\":\"LinearAxis\"},{\"attributes\":{},\"id\":\"2685\",\"type\":\"SaveTool\"},{\"attributes\":{},\"id\":\"2800\",\"type\":\"BasicTickFormatter\"},{\"attributes\":{\"ticker\":{\"id\":\"2673\",\"type\":\"BasicTicker\"}},\"id\":\"2676\",\"type\":\"Grid\"},{\"attributes\":{},\"id\":\"2682\",\"type\":\"PanTool\"}],\"root_ids\":[\"2662\"]},\"title\":\"Bokeh Application\",\"version\":\"1.2.0\"}};\n",
       "  var render_items = [{\"docid\":\"0579305c-a6b8-444b-8f99-d4fdaf8c16af\",\"roots\":{\"2662\":\"f99ad736-664d-4de3-a6ef-bbfe3fdaca85\"}}];\n",
       "  root.Bokeh.embed.embed_items_notebook(docs_json, render_items);\n",
       "\n",
       "  }\n",
       "  if (root.Bokeh !== undefined) {\n",
       "    embed_document(root);\n",
       "  } else {\n",
       "    var attempts = 0;\n",
       "    var timer = setInterval(function(root) {\n",
       "      if (root.Bokeh !== undefined) {\n",
       "        embed_document(root);\n",
       "        clearInterval(timer);\n",
       "      }\n",
       "      attempts++;\n",
       "      if (attempts > 100) {\n",
       "        console.log(\"Bokeh: ERROR: Unable to run BokehJS code because BokehJS library is missing\");\n",
       "        clearInterval(timer);\n",
       "      }\n",
       "    }, 10, root)\n",
       "  }\n",
       "})(window);"
      ],
      "application/vnd.bokehjs_exec.v0+json": ""
     },
     "metadata": {
      "application/vnd.bokehjs_exec.v0+json": {
       "id": "2662"
      }
     },
     "output_type": "display_data"
    }
   ],
   "source": [
    "temp = ps_stats_ht.filter((ps_stats_ht.sample_group == 'FN000001') & (ps_stats_ht.chrom_group == 'chr1'))\n",
    "p = hl.plot.histogram(temp.ps_stop)\n",
    "show(p)"
   ]
  },
  {
   "cell_type": "markdown",
   "id": "8833193b-62be-4c5e-9a5b-da588ef554e8",
   "metadata": {},
   "source": [
    "Make the same plot for a few random samples. Note that we see a simlar pattern across samples. Most likely, the gap in the middle is a \"dark spot\" in the genome assembly."
   ]
  },
  {
   "cell_type": "code",
   "execution_count": 353,
   "id": "aa88cca4-3376-438f-ac4c-98e8c49d6f8b",
   "metadata": {},
   "outputs": [],
   "source": [
    "plot_list = []\n",
    "for sample in ['FN001485', 'FN000020', 'FN000254', 'FN000182']:\n",
    "    temp = ps_stats_ht.filter((ps_stats_ht.sample_group == sample) & (ps_stats_ht.chrom_group == 'chr1'))\n",
    "    p = hl.plot.histogram(temp.ps_start, title=sample)\n",
    "    plot_list.append(p)"
   ]
  },
  {
   "cell_type": "code",
   "execution_count": 354,
   "id": "924bf7cc-46b0-4dbb-99f3-ab2ed415ab93",
   "metadata": {},
   "outputs": [
    {
     "data": {
      "text/html": [
       "\n",
       "\n",
       "\n",
       "\n",
       "\n",
       "\n",
       "  <div class=\"bk-root\" id=\"a5ab85cc-068b-4e5f-93ba-463186dee4ac\" data-root-id=\"9979\"></div>\n"
      ]
     },
     "metadata": {},
     "output_type": "display_data"
    },
    {
     "data": {
      "application/javascript": [
       "(function(root) {\n",
       "  function embed_document(root) {\n",
       "    \n",
       "  var docs_json = {\"3517266e-c4ea-42c3-82ae-dae3fbdb5411\":{\"roots\":{\"references\":[{\"attributes\":{\"children\":[{\"id\":\"9978\",\"type\":\"ToolbarBox\"},{\"id\":\"9976\",\"type\":\"GridBox\"}]},\"id\":\"9979\",\"type\":\"Column\"},{\"attributes\":{},\"id\":\"9847\",\"type\":\"SaveTool\"},{\"attributes\":{\"axis_label\":\"Frequency\",\"formatter\":{\"id\":\"9971\",\"type\":\"BasicTickFormatter\"},\"ticker\":{\"id\":\"9918\",\"type\":\"BasicTicker\"}},\"id\":\"9917\",\"type\":\"LinearAxis\"},{\"attributes\":{\"background_fill_color\":{\"value\":\"#EEEEEE\"},\"below\":[{\"id\":\"9873\",\"type\":\"LinearAxis\"}],\"center\":[{\"id\":\"9877\",\"type\":\"Grid\"},{\"id\":\"9882\",\"type\":\"Grid\"}],\"left\":[{\"id\":\"9878\",\"type\":\"LinearAxis\"}],\"plot_height\":400,\"plot_width\":500,\"renderers\":[{\"id\":\"9899\",\"type\":\"GlyphRenderer\"}],\"title\":{\"id\":\"9863\",\"type\":\"Title\"},\"toolbar\":{\"id\":\"9889\",\"type\":\"Toolbar\"},\"toolbar_location\":null,\"x_range\":{\"id\":\"9865\",\"type\":\"Range1d\"},\"x_scale\":{\"id\":\"9869\",\"type\":\"LinearScale\"},\"y_range\":{\"id\":\"9867\",\"type\":\"DataRange1d\"},\"y_scale\":{\"id\":\"9871\",\"type\":\"LinearScale\"}},\"id\":\"9862\",\"subtype\":\"Figure\",\"type\":\"Plot\"},{\"attributes\":{},\"id\":\"9908\",\"type\":\"LinearScale\"},{\"attributes\":{},\"id\":\"9793\",\"type\":\"LinearScale\"},{\"attributes\":{\"data_source\":{\"id\":\"9818\",\"type\":\"ColumnDataSource\"},\"glyph\":{\"id\":\"9819\",\"type\":\"Quad\"},\"hover_glyph\":null,\"muted_glyph\":null,\"nonselection_glyph\":{\"id\":\"9820\",\"type\":\"Quad\"},\"selection_glyph\":null,\"view\":{\"id\":\"9822\",\"type\":\"CDSView\"}},\"id\":\"9821\",\"type\":\"GlyphRenderer\"},{\"attributes\":{\"formatter\":{\"id\":\"9942\",\"type\":\"BasicTickFormatter\"},\"ticker\":{\"id\":\"9796\",\"type\":\"BasicTicker\"}},\"id\":\"9795\",\"type\":\"LinearAxis\"},{\"attributes\":{},\"id\":\"9964\",\"type\":\"Selection\"},{\"attributes\":{\"tools\":[{\"id\":\"9805\",\"type\":\"PanTool\"},{\"id\":\"9806\",\"type\":\"WheelZoomTool\"},{\"id\":\"9807\",\"type\":\"BoxZoomTool\"},{\"id\":\"9808\",\"type\":\"SaveTool\"},{\"id\":\"9809\",\"type\":\"ResetTool\"},{\"id\":\"9810\",\"type\":\"HelpTool\"},{\"id\":\"9844\",\"type\":\"PanTool\"},{\"id\":\"9845\",\"type\":\"WheelZoomTool\"},{\"id\":\"9846\",\"type\":\"BoxZoomTool\"},{\"id\":\"9847\",\"type\":\"SaveTool\"},{\"id\":\"9848\",\"type\":\"ResetTool\"},{\"id\":\"9849\",\"type\":\"HelpTool\"},{\"id\":\"9883\",\"type\":\"PanTool\"},{\"id\":\"9884\",\"type\":\"WheelZoomTool\"},{\"id\":\"9885\",\"type\":\"BoxZoomTool\"},{\"id\":\"9886\",\"type\":\"SaveTool\"},{\"id\":\"9887\",\"type\":\"ResetTool\"},{\"id\":\"9888\",\"type\":\"HelpTool\"},{\"id\":\"9922\",\"type\":\"PanTool\"},{\"id\":\"9923\",\"type\":\"WheelZoomTool\"},{\"id\":\"9924\",\"type\":\"BoxZoomTool\"},{\"id\":\"9925\",\"type\":\"SaveTool\"},{\"id\":\"9926\",\"type\":\"ResetTool\"},{\"id\":\"9927\",\"type\":\"HelpTool\"}]},\"id\":\"9977\",\"type\":\"ProxyToolbar\"},{\"attributes\":{\"dimension\":1,\"ticker\":{\"id\":\"9801\",\"type\":\"BasicTicker\"}},\"id\":\"9804\",\"type\":\"Grid\"},{\"attributes\":{},\"id\":\"9845\",\"type\":\"WheelZoomTool\"},{\"attributes\":{\"bottom\":{\"value\":0},\"fill_alpha\":{\"value\":0.1},\"fill_color\":{\"value\":\"#1f77b4\"},\"left\":{\"field\":\"left\"},\"line_alpha\":{\"value\":0.1},\"line_color\":{\"value\":\"#1f77b4\"},\"right\":{\"field\":\"right\"},\"top\":{\"field\":\"top\"}},\"id\":\"9898\",\"type\":\"Quad\"},{\"attributes\":{},\"id\":\"9918\",\"type\":\"BasicTicker\"},{\"attributes\":{},\"id\":\"9942\",\"type\":\"BasicTickFormatter\"},{\"attributes\":{\"source\":{\"id\":\"9935\",\"type\":\"ColumnDataSource\"}},\"id\":\"9939\",\"type\":\"CDSView\"},{\"attributes\":{},\"id\":\"9796\",\"type\":\"BasicTicker\"},{\"attributes\":{},\"id\":\"9954\",\"type\":\"UnionRenderers\"},{\"attributes\":{},\"id\":\"9808\",\"type\":\"SaveTool\"},{\"attributes\":{\"text\":\"FN000182\"},\"id\":\"9902\",\"type\":\"Title\"},{\"attributes\":{},\"id\":\"9801\",\"type\":\"BasicTicker\"},{\"attributes\":{\"bottom\":{\"value\":0},\"fill_alpha\":{\"value\":0.1},\"fill_color\":{\"value\":\"#1f77b4\"},\"left\":{\"field\":\"left\"},\"line_alpha\":{\"value\":0.1},\"line_color\":{\"value\":\"#1f77b4\"},\"right\":{\"field\":\"right\"},\"top\":{\"field\":\"top\"}},\"id\":\"9937\",\"type\":\"Quad\"},{\"attributes\":{},\"id\":\"9886\",\"type\":\"SaveTool\"},{\"attributes\":{\"callback\":null,\"end\":261292675.75,\"start\":-12428172.75},\"id\":\"9787\",\"type\":\"Range1d\"},{\"attributes\":{\"callback\":null,\"end\":260995500.00000003,\"start\":-12282032.000000002},\"id\":\"9904\",\"type\":\"Range1d\"},{\"attributes\":{\"overlay\":{\"id\":\"9947\",\"type\":\"BoxAnnotation\"}},\"id\":\"9807\",\"type\":\"BoxZoomTool\"},{\"attributes\":{},\"id\":\"9955\",\"type\":\"Selection\"},{\"attributes\":{\"dimension\":1,\"ticker\":{\"id\":\"9879\",\"type\":\"BasicTicker\"}},\"id\":\"9882\",\"type\":\"Grid\"},{\"attributes\":{\"bottom\":{\"value\":0},\"fill_color\":{\"value\":\"#1f77b4\"},\"left\":{\"field\":\"left\"},\"right\":{\"field\":\"right\"},\"top\":{\"field\":\"top\"}},\"id\":\"9819\",\"type\":\"Quad\"},{\"attributes\":{},\"id\":\"9945\",\"type\":\"UnionRenderers\"},{\"attributes\":{},\"id\":\"9888\",\"type\":\"HelpTool\"},{\"attributes\":{\"bottom_units\":\"screen\",\"fill_alpha\":{\"value\":0.5},\"fill_color\":{\"value\":\"lightgrey\"},\"left_units\":\"screen\",\"level\":\"overlay\",\"line_alpha\":{\"value\":1.0},\"line_color\":{\"value\":\"black\"},\"line_dash\":[4,4],\"line_width\":{\"value\":2},\"render_mode\":\"css\",\"right_units\":\"screen\",\"top_units\":\"screen\"},\"id\":\"9956\",\"type\":\"BoxAnnotation\"},{\"attributes\":{\"background_fill_color\":{\"value\":\"#EEEEEE\"},\"below\":[{\"id\":\"9795\",\"type\":\"LinearAxis\"}],\"center\":[{\"id\":\"9799\",\"type\":\"Grid\"},{\"id\":\"9804\",\"type\":\"Grid\"}],\"left\":[{\"id\":\"9800\",\"type\":\"LinearAxis\"}],\"plot_height\":400,\"plot_width\":500,\"renderers\":[{\"id\":\"9821\",\"type\":\"GlyphRenderer\"}],\"title\":{\"id\":\"9785\",\"type\":\"Title\"},\"toolbar\":{\"id\":\"9811\",\"type\":\"Toolbar\"},\"toolbar_location\":null,\"x_range\":{\"id\":\"9787\",\"type\":\"Range1d\"},\"x_scale\":{\"id\":\"9791\",\"type\":\"LinearScale\"},\"y_range\":{\"id\":\"9789\",\"type\":\"DataRange1d\"},\"y_scale\":{\"id\":\"9793\",\"type\":\"LinearScale\"}},\"id\":\"9784\",\"subtype\":\"Figure\",\"type\":\"Plot\"},{\"attributes\":{},\"id\":\"9809\",\"type\":\"ResetTool\"},{\"attributes\":{},\"id\":\"9913\",\"type\":\"BasicTicker\"},{\"attributes\":{\"overlay\":{\"id\":\"9965\",\"type\":\"BoxAnnotation\"}},\"id\":\"9885\",\"type\":\"BoxZoomTool\"},{\"attributes\":{\"active_drag\":\"auto\",\"active_inspect\":\"auto\",\"active_multi\":null,\"active_scroll\":\"auto\",\"active_tap\":\"auto\",\"tools\":[{\"id\":\"9805\",\"type\":\"PanTool\"},{\"id\":\"9806\",\"type\":\"WheelZoomTool\"},{\"id\":\"9807\",\"type\":\"BoxZoomTool\"},{\"id\":\"9808\",\"type\":\"SaveTool\"},{\"id\":\"9809\",\"type\":\"ResetTool\"},{\"id\":\"9810\",\"type\":\"HelpTool\"}]},\"id\":\"9811\",\"type\":\"Toolbar\"},{\"attributes\":{\"data_source\":{\"id\":\"9896\",\"type\":\"ColumnDataSource\"},\"glyph\":{\"id\":\"9897\",\"type\":\"Quad\"},\"hover_glyph\":null,\"muted_glyph\":null,\"nonselection_glyph\":{\"id\":\"9898\",\"type\":\"Quad\"},\"selection_glyph\":null,\"view\":{\"id\":\"9900\",\"type\":\"CDSView\"}},\"id\":\"9899\",\"type\":\"GlyphRenderer\"},{\"attributes\":{},\"id\":\"9910\",\"type\":\"LinearScale\"},{\"attributes\":{},\"id\":\"9810\",\"type\":\"HelpTool\"},{\"attributes\":{\"bottom\":{\"value\":0},\"fill_alpha\":{\"value\":0.1},\"fill_color\":{\"value\":\"#1f77b4\"},\"left\":{\"field\":\"left\"},\"line_alpha\":{\"value\":0.1},\"line_color\":{\"value\":\"#1f77b4\"},\"right\":{\"field\":\"right\"},\"top\":{\"field\":\"top\"}},\"id\":\"9859\",\"type\":\"Quad\"},{\"attributes\":{},\"id\":\"9805\",\"type\":\"PanTool\"},{\"attributes\":{\"bottom\":{\"value\":0},\"fill_alpha\":{\"value\":0.1},\"fill_color\":{\"value\":\"#1f77b4\"},\"left\":{\"field\":\"left\"},\"line_alpha\":{\"value\":0.1},\"line_color\":{\"value\":\"#1f77b4\"},\"right\":{\"field\":\"right\"},\"top\":{\"field\":\"top\"}},\"id\":\"9820\",\"type\":\"Quad\"},{\"attributes\":{},\"id\":\"9962\",\"type\":\"BasicTickFormatter\"},{\"attributes\":{},\"id\":\"9925\",\"type\":\"SaveTool\"},{\"attributes\":{\"callback\":null},\"id\":\"9789\",\"type\":\"DataRange1d\"},{\"attributes\":{},\"id\":\"9844\",\"type\":\"PanTool\"},{\"attributes\":{},\"id\":\"9806\",\"type\":\"WheelZoomTool\"},{\"attributes\":{\"source\":{\"id\":\"9857\",\"type\":\"ColumnDataSource\"}},\"id\":\"9861\",\"type\":\"CDSView\"},{\"attributes\":{\"callback\":null,\"data\":{\"left\":[13684.0,4990426.7,9967169.4,14943912.100000001,19920654.8,24897397.5,29874140.200000003,34850882.9,39827625.6,44804368.300000004,49781111.0,54757853.7,59734596.400000006,64711339.1,69688081.8,74664824.5,79641567.2,84618309.9,89595052.60000001,94571795.3,99548538.0,104525280.7,109502023.4,114478766.10000001,119455508.80000001,124432251.5,129408994.2,134385736.9,139362479.6,144339222.3,149315965.0,154292707.70000002,159269450.4,164246193.1,169222935.8,174199678.5,179176421.20000002,184153163.9,189129906.6,194106649.3,199083392.0,204060134.70000002,209036877.4,214013620.1,218990362.8,223967105.5,228943848.20000002,233920590.9,238897333.60000002,243874076.3],\"right\":[4990426.7,9967169.4,14943912.100000001,19920654.8,24897397.5,29874140.200000003,34850882.9,39827625.6,44804368.300000004,49781111.0,54757853.7,59734596.400000006,64711339.1,69688081.8,74664824.5,79641567.2,84618309.9,89595052.60000001,94571795.3,99548538.0,104525280.7,109502023.4,114478766.10000001,119455508.80000001,124432251.5,129408994.2,134385736.9,139362479.6,144339222.3,149315965.0,154292707.70000002,159269450.4,164246193.1,169222935.8,174199678.5,179176421.20000002,184153163.9,189129906.6,194106649.3,199083392.0,204060134.70000002,209036877.4,214013620.1,218990362.8,223967105.5,228943848.20000002,233920590.9,238897333.60000002,243874076.3,248850819.0],\"top\":[15,9,14,16,11,6,7,6,7,4,8,2,3,3,1,2,1,3,3,2,5,6,9,3,6,0,0,0,1,12,13,16,8,6,8,2,5,2,0,4,9,8,5,2,4,5,6,3,3,13]},\"selected\":{\"id\":\"9946\",\"type\":\"Selection\"},\"selection_policy\":{\"id\":\"9945\",\"type\":\"UnionRenderers\"}},\"id\":\"9818\",\"type\":\"ColumnDataSource\"},{\"attributes\":{},\"id\":\"9953\",\"type\":\"BasicTickFormatter\"},{\"attributes\":{\"callback\":null,\"data\":{\"left\":[13613.0,4986350.42,9959087.84,14931825.26,19904562.68,24877300.1,29850037.52,34822774.94,39795512.36,44768249.78,49740987.2,54713724.62,59686462.04,64659199.46,69631936.88,74604674.3,79577411.72,84550149.14,89522886.56,94495623.98,99468361.4,104441098.82,109413836.24,114386573.66,119359311.08,124332048.5,129304785.92,134277523.34,139250260.76,144222998.18,149195735.6,154168473.02,159141210.44,164113947.85999998,169086685.28,174059422.7,179032160.12,184004897.54,188977634.96,193950372.38,198923109.8,203895847.22,208868584.64,213841322.06,218814059.48,223786796.9,228759534.32,233732271.74,238705009.16,243677746.57999998],\"right\":[4986350.42,9959087.84,14931825.26,19904562.68,24877300.1,29850037.52,34822774.94,39795512.36,44768249.78,49740987.2,54713724.62,59686462.04,64659199.46,69631936.88,74604674.3,79577411.72,84550149.14,89522886.56,94495623.98,99468361.4,104441098.82,109413836.24,114386573.66,119359311.08,124332048.5,129304785.92,134277523.34,139250260.76,144222998.18,149195735.6,154168473.02,159141210.44,164113947.85999998,169086685.28,174059422.7,179032160.12,184004897.54,188977634.96,193950372.38,198923109.8,203895847.22,208868584.64,213841322.06,218814059.48,223786796.9,228759534.32,233732271.74,238705009.16,243677746.57999998,248650484.0],\"top\":[11,6,9,13,6,7,8,11,5,5,7,4,6,3,4,5,1,3,3,1,3,2,6,4,5,0,0,0,0,9,13,13,9,3,6,0,10,6,0,3,5,11,7,2,4,5,6,5,3,13]},\"selected\":{\"id\":\"9964\",\"type\":\"Selection\"},\"selection_policy\":{\"id\":\"9963\",\"type\":\"UnionRenderers\"}},\"id\":\"9896\",\"type\":\"ColumnDataSource\"},{\"attributes\":{\"overlay\":{\"id\":\"9956\",\"type\":\"BoxAnnotation\"}},\"id\":\"9846\",\"type\":\"BoxZoomTool\"},{\"attributes\":{},\"id\":\"9963\",\"type\":\"UnionRenderers\"},{\"attributes\":{\"ticker\":{\"id\":\"9913\",\"type\":\"BasicTicker\"}},\"id\":\"9916\",\"type\":\"Grid\"},{\"attributes\":{\"data_source\":{\"id\":\"9857\",\"type\":\"ColumnDataSource\"},\"glyph\":{\"id\":\"9858\",\"type\":\"Quad\"},\"hover_glyph\":null,\"muted_glyph\":null,\"nonselection_glyph\":{\"id\":\"9859\",\"type\":\"Quad\"},\"selection_glyph\":null,\"view\":{\"id\":\"9861\",\"type\":\"CDSView\"}},\"id\":\"9860\",\"type\":\"GlyphRenderer\"},{\"attributes\":{\"callback\":null},\"id\":\"9906\",\"type\":\"DataRange1d\"},{\"attributes\":{\"data_source\":{\"id\":\"9935\",\"type\":\"ColumnDataSource\"},\"glyph\":{\"id\":\"9936\",\"type\":\"Quad\"},\"hover_glyph\":null,\"muted_glyph\":null,\"nonselection_glyph\":{\"id\":\"9937\",\"type\":\"Quad\"},\"selection_glyph\":null,\"view\":{\"id\":\"9939\",\"type\":\"CDSView\"}},\"id\":\"9938\",\"type\":\"GlyphRenderer\"},{\"attributes\":{\"source\":{\"id\":\"9896\",\"type\":\"ColumnDataSource\"}},\"id\":\"9900\",\"type\":\"CDSView\"},{\"attributes\":{\"dimension\":1,\"ticker\":{\"id\":\"9918\",\"type\":\"BasicTicker\"}},\"id\":\"9921\",\"type\":\"Grid\"},{\"attributes\":{\"source\":{\"id\":\"9818\",\"type\":\"ColumnDataSource\"}},\"id\":\"9822\",\"type\":\"CDSView\"},{\"attributes\":{\"callback\":null,\"data\":{\"left\":[139674.0,5108356.4,10077038.8,15045721.200000001,20014403.6,24983086.0,29951768.400000002,34920450.800000004,39889133.2,44857815.6,49826498.0,54795180.400000006,59763862.800000004,64732545.2,69701227.60000001,74669910.0,79638592.4,84607274.80000001,89575957.2,94544639.60000001,99513322.0,104482004.4,109450686.80000001,114419369.2,119388051.60000001,124356734.00000001,129325416.4,134294098.8,139262781.20000002,144231463.60000002,149200146.0,154168828.4,159137510.8,164106193.20000002,169074875.60000002,174043558.0,179012240.4,183980922.8,188949605.20000002,193918287.60000002,198886970.0,203855652.4,208824334.8,213793017.20000002,218761699.60000002,223730382.00000003,228699064.4,233667746.8,238636429.20000002,243605111.60000002],\"right\":[5108356.4,10077038.8,15045721.200000001,20014403.6,24983086.0,29951768.400000002,34920450.800000004,39889133.2,44857815.6,49826498.0,54795180.400000006,59763862.800000004,64732545.2,69701227.60000001,74669910.0,79638592.4,84607274.80000001,89575957.2,94544639.60000001,99513322.0,104482004.4,109450686.80000001,114419369.2,119388051.60000001,124356734.00000001,129325416.4,134294098.8,139262781.20000002,144231463.60000002,149200146.0,154168828.4,159137510.8,164106193.20000002,169074875.60000002,174043558.0,179012240.4,183980922.8,188949605.20000002,193918287.60000002,198886970.0,203855652.4,208824334.8,213793017.20000002,218761699.60000002,223730382.00000003,228699064.4,233667746.8,238636429.20000002,243605111.60000002,248573794.00000003],\"top\":[10,5,11,9,7,5,4,1,4,2,4,0,3,3,1,1,1,6,5,1,1,4,4,4,3,0,0,0,0,10,6,7,7,4,5,2,3,2,0,3,7,7,3,0,4,7,6,2,1,9]},\"selected\":{\"id\":\"9973\",\"type\":\"Selection\"},\"selection_policy\":{\"id\":\"9972\",\"type\":\"UnionRenderers\"}},\"id\":\"9935\",\"type\":\"ColumnDataSource\"},{\"attributes\":{\"formatter\":{\"id\":\"9969\",\"type\":\"BasicTickFormatter\"},\"ticker\":{\"id\":\"9913\",\"type\":\"BasicTicker\"}},\"id\":\"9912\",\"type\":\"LinearAxis\"},{\"attributes\":{\"active_drag\":\"auto\",\"active_inspect\":\"auto\",\"active_multi\":null,\"active_scroll\":\"auto\",\"active_tap\":\"auto\",\"tools\":[{\"id\":\"9883\",\"type\":\"PanTool\"},{\"id\":\"9884\",\"type\":\"WheelZoomTool\"},{\"id\":\"9885\",\"type\":\"BoxZoomTool\"},{\"id\":\"9886\",\"type\":\"SaveTool\"},{\"id\":\"9887\",\"type\":\"ResetTool\"},{\"id\":\"9888\",\"type\":\"HelpTool\"}]},\"id\":\"9889\",\"type\":\"Toolbar\"},{\"attributes\":{\"bottom\":{\"value\":0},\"fill_color\":{\"value\":\"#1f77b4\"},\"left\":{\"field\":\"left\"},\"right\":{\"field\":\"right\"},\"top\":{\"field\":\"top\"}},\"id\":\"9936\",\"type\":\"Quad\"},{\"attributes\":{\"toolbar\":{\"id\":\"9977\",\"type\":\"ProxyToolbar\"},\"toolbar_location\":\"above\"},\"id\":\"9978\",\"type\":\"ToolbarBox\"},{\"attributes\":{},\"id\":\"9960\",\"type\":\"BasicTickFormatter\"},{\"attributes\":{\"text\":\"FN001485\"},\"id\":\"9785\",\"type\":\"Title\"},{\"attributes\":{\"background_fill_color\":{\"value\":\"#EEEEEE\"},\"below\":[{\"id\":\"9912\",\"type\":\"LinearAxis\"}],\"center\":[{\"id\":\"9916\",\"type\":\"Grid\"},{\"id\":\"9921\",\"type\":\"Grid\"}],\"left\":[{\"id\":\"9917\",\"type\":\"LinearAxis\"}],\"plot_height\":400,\"plot_width\":500,\"renderers\":[{\"id\":\"9938\",\"type\":\"GlyphRenderer\"}],\"title\":{\"id\":\"9902\",\"type\":\"Title\"},\"toolbar\":{\"id\":\"9928\",\"type\":\"Toolbar\"},\"toolbar_location\":null,\"x_range\":{\"id\":\"9904\",\"type\":\"Range1d\"},\"x_scale\":{\"id\":\"9908\",\"type\":\"LinearScale\"},\"y_range\":{\"id\":\"9906\",\"type\":\"DataRange1d\"},\"y_scale\":{\"id\":\"9910\",\"type\":\"LinearScale\"}},\"id\":\"9901\",\"subtype\":\"Figure\",\"type\":\"Plot\"},{\"attributes\":{\"axis_label\":\"Frequency\",\"formatter\":{\"id\":\"9944\",\"type\":\"BasicTickFormatter\"},\"ticker\":{\"id\":\"9801\",\"type\":\"BasicTicker\"}},\"id\":\"9800\",\"type\":\"LinearAxis\"},{\"attributes\":{},\"id\":\"9887\",\"type\":\"ResetTool\"},{\"attributes\":{},\"id\":\"9791\",\"type\":\"LinearScale\"},{\"attributes\":{\"bottom_units\":\"screen\",\"fill_alpha\":{\"value\":0.5},\"fill_color\":{\"value\":\"lightgrey\"},\"left_units\":\"screen\",\"level\":\"overlay\",\"line_alpha\":{\"value\":1.0},\"line_color\":{\"value\":\"black\"},\"line_dash\":[4,4],\"line_width\":{\"value\":2},\"render_mode\":\"css\",\"right_units\":\"screen\",\"top_units\":\"screen\"},\"id\":\"9965\",\"type\":\"BoxAnnotation\"},{\"attributes\":{\"ticker\":{\"id\":\"9796\",\"type\":\"BasicTicker\"}},\"id\":\"9799\",\"type\":\"Grid\"},{\"attributes\":{},\"id\":\"9883\",\"type\":\"PanTool\"},{\"attributes\":{},\"id\":\"9848\",\"type\":\"ResetTool\"},{\"attributes\":{\"background_fill_color\":{\"value\":\"#EEEEEE\"},\"below\":[{\"id\":\"9834\",\"type\":\"LinearAxis\"}],\"center\":[{\"id\":\"9838\",\"type\":\"Grid\"},{\"id\":\"9843\",\"type\":\"Grid\"}],\"left\":[{\"id\":\"9839\",\"type\":\"LinearAxis\"}],\"plot_height\":400,\"plot_width\":500,\"renderers\":[{\"id\":\"9860\",\"type\":\"GlyphRenderer\"}],\"title\":{\"id\":\"9824\",\"type\":\"Title\"},\"toolbar\":{\"id\":\"9850\",\"type\":\"Toolbar\"},\"toolbar_location\":null,\"x_range\":{\"id\":\"9826\",\"type\":\"Range1d\"},\"x_scale\":{\"id\":\"9830\",\"type\":\"LinearScale\"},\"y_range\":{\"id\":\"9828\",\"type\":\"DataRange1d\"},\"y_scale\":{\"id\":\"9832\",\"type\":\"LinearScale\"}},\"id\":\"9823\",\"subtype\":\"Figure\",\"type\":\"Plot\"},{\"attributes\":{},\"id\":\"9944\",\"type\":\"BasicTickFormatter\"},{\"attributes\":{},\"id\":\"9971\",\"type\":\"BasicTickFormatter\"},{\"attributes\":{\"text\":\"FN000020\"},\"id\":\"9824\",\"type\":\"Title\"},{\"attributes\":{},\"id\":\"9927\",\"type\":\"HelpTool\"},{\"attributes\":{\"axis_label\":\"Frequency\",\"formatter\":{\"id\":\"9953\",\"type\":\"BasicTickFormatter\"},\"ticker\":{\"id\":\"9840\",\"type\":\"BasicTicker\"}},\"id\":\"9839\",\"type\":\"LinearAxis\"},{\"attributes\":{},\"id\":\"9849\",\"type\":\"HelpTool\"},{\"attributes\":{\"callback\":null,\"data\":{\"left\":[14653.0,4990698.64,9966744.28,14942789.919999998,19918835.56,24894881.2,29870926.839999996,34846972.48,39823018.12,44799063.76,49775109.4,54751155.04,59727200.67999999,64703246.31999999,69679291.96,74655337.6,79631383.24,84607428.88,89583474.52,94559520.16,99535565.8,104511611.44,109487657.08,114463702.72,119439748.35999998,124415793.99999999,129391839.63999999,134367885.28,139343930.92,144319976.56,149296022.2,154272067.84,159248113.48,164224159.11999997,169200204.76,174176250.39999998,179152296.04,184128341.67999998,189104387.32,194080432.95999998,199056478.6,204032524.23999998,209008569.88,213984615.51999998,218960661.16,223936706.79999998,228912752.44,233888798.07999998,238864843.71999997,243840889.35999998],\"right\":[4990698.64,9966744.28,14942789.919999998,19918835.56,24894881.2,29870926.839999996,34846972.48,39823018.12,44799063.76,49775109.4,54751155.04,59727200.67999999,64703246.31999999,69679291.96,74655337.6,79631383.24,84607428.88,89583474.52,94559520.16,99535565.8,104511611.44,109487657.08,114463702.72,119439748.35999998,124415793.99999999,129391839.63999999,134367885.28,139343930.92,144319976.56,149296022.2,154272067.84,159248113.48,164224159.11999997,169200204.76,174176250.39999998,179152296.04,184128341.67999998,189104387.32,194080432.95999998,199056478.6,204032524.23999998,209008569.88,213984615.51999998,218960661.16,223936706.79999998,228912752.44,233888798.07999998,238864843.71999997,243840889.35999998,248816934.99999997],\"top\":[9,1,8,16,11,7,6,7,7,2,8,4,4,6,1,3,2,7,6,2,1,2,7,4,4,0,0,0,0,6,10,10,5,3,7,3,5,4,0,1,6,11,5,3,3,5,10,2,3,10]},\"selected\":{\"id\":\"9955\",\"type\":\"Selection\"},\"selection_policy\":{\"id\":\"9954\",\"type\":\"UnionRenderers\"}},\"id\":\"9857\",\"type\":\"ColumnDataSource\"},{\"attributes\":{\"bottom\":{\"value\":0},\"fill_color\":{\"value\":\"#1f77b4\"},\"left\":{\"field\":\"left\"},\"right\":{\"field\":\"right\"},\"top\":{\"field\":\"top\"}},\"id\":\"9897\",\"type\":\"Quad\"},{\"attributes\":{},\"id\":\"9973\",\"type\":\"Selection\"},{\"attributes\":{\"callback\":null,\"end\":261257049.09999996,\"start\":-12425461.1},\"id\":\"9826\",\"type\":\"Range1d\"},{\"attributes\":{\"ticker\":{\"id\":\"9874\",\"type\":\"BasicTicker\"}},\"id\":\"9877\",\"type\":\"Grid\"},{\"attributes\":{\"formatter\":{\"id\":\"9951\",\"type\":\"BasicTickFormatter\"},\"ticker\":{\"id\":\"9835\",\"type\":\"BasicTicker\"}},\"id\":\"9834\",\"type\":\"LinearAxis\"},{\"attributes\":{},\"id\":\"9871\",\"type\":\"LinearScale\"},{\"attributes\":{},\"id\":\"9972\",\"type\":\"UnionRenderers\"},{\"attributes\":{\"overlay\":{\"id\":\"9974\",\"type\":\"BoxAnnotation\"}},\"id\":\"9924\",\"type\":\"BoxZoomTool\"},{\"attributes\":{\"dimension\":1,\"ticker\":{\"id\":\"9840\",\"type\":\"BasicTicker\"}},\"id\":\"9843\",\"type\":\"Grid\"},{\"attributes\":{\"bottom_units\":\"screen\",\"fill_alpha\":{\"value\":0.5},\"fill_color\":{\"value\":\"lightgrey\"},\"left_units\":\"screen\",\"level\":\"overlay\",\"line_alpha\":{\"value\":1.0},\"line_color\":{\"value\":\"black\"},\"line_dash\":[4,4],\"line_width\":{\"value\":2},\"render_mode\":\"css\",\"right_units\":\"screen\",\"top_units\":\"screen\"},\"id\":\"9947\",\"type\":\"BoxAnnotation\"},{\"attributes\":{},\"id\":\"9884\",\"type\":\"WheelZoomTool\"},{\"attributes\":{},\"id\":\"9869\",\"type\":\"LinearScale\"},{\"attributes\":{\"children\":[[{\"id\":\"9784\",\"subtype\":\"Figure\",\"type\":\"Plot\"},0,0],[{\"id\":\"9823\",\"subtype\":\"Figure\",\"type\":\"Plot\"},0,1],[{\"id\":\"9862\",\"subtype\":\"Figure\",\"type\":\"Plot\"},1,0],[{\"id\":\"9901\",\"subtype\":\"Figure\",\"type\":\"Plot\"},1,1]]},\"id\":\"9976\",\"type\":\"GridBox\"},{\"attributes\":{\"active_drag\":\"auto\",\"active_inspect\":\"auto\",\"active_multi\":null,\"active_scroll\":\"auto\",\"active_tap\":\"auto\",\"tools\":[{\"id\":\"9844\",\"type\":\"PanTool\"},{\"id\":\"9845\",\"type\":\"WheelZoomTool\"},{\"id\":\"9846\",\"type\":\"BoxZoomTool\"},{\"id\":\"9847\",\"type\":\"SaveTool\"},{\"id\":\"9848\",\"type\":\"ResetTool\"},{\"id\":\"9849\",\"type\":\"HelpTool\"}]},\"id\":\"9850\",\"type\":\"Toolbar\"},{\"attributes\":{\"text\":\"FN000254\"},\"id\":\"9863\",\"type\":\"Title\"},{\"attributes\":{},\"id\":\"9922\",\"type\":\"PanTool\"},{\"attributes\":{\"ticker\":{\"id\":\"9835\",\"type\":\"BasicTicker\"}},\"id\":\"9838\",\"type\":\"Grid\"},{\"attributes\":{},\"id\":\"9840\",\"type\":\"BasicTicker\"},{\"attributes\":{},\"id\":\"9874\",\"type\":\"BasicTicker\"},{\"attributes\":{\"callback\":null},\"id\":\"9828\",\"type\":\"DataRange1d\"},{\"attributes\":{},\"id\":\"9830\",\"type\":\"LinearScale\"},{\"attributes\":{\"callback\":null},\"id\":\"9867\",\"type\":\"DataRange1d\"},{\"attributes\":{},\"id\":\"9969\",\"type\":\"BasicTickFormatter\"},{\"attributes\":{},\"id\":\"9835\",\"type\":\"BasicTicker\"},{\"attributes\":{\"bottom_units\":\"screen\",\"fill_alpha\":{\"value\":0.5},\"fill_color\":{\"value\":\"lightgrey\"},\"left_units\":\"screen\",\"level\":\"overlay\",\"line_alpha\":{\"value\":1.0},\"line_color\":{\"value\":\"black\"},\"line_dash\":[4,4],\"line_width\":{\"value\":2},\"render_mode\":\"css\",\"right_units\":\"screen\",\"top_units\":\"screen\"},\"id\":\"9974\",\"type\":\"BoxAnnotation\"},{\"attributes\":{},\"id\":\"9832\",\"type\":\"LinearScale\"},{\"attributes\":{\"active_drag\":\"auto\",\"active_inspect\":\"auto\",\"active_multi\":null,\"active_scroll\":\"auto\",\"active_tap\":\"auto\",\"tools\":[{\"id\":\"9922\",\"type\":\"PanTool\"},{\"id\":\"9923\",\"type\":\"WheelZoomTool\"},{\"id\":\"9924\",\"type\":\"BoxZoomTool\"},{\"id\":\"9925\",\"type\":\"SaveTool\"},{\"id\":\"9926\",\"type\":\"ResetTool\"},{\"id\":\"9927\",\"type\":\"HelpTool\"}]},\"id\":\"9928\",\"type\":\"Toolbar\"},{\"attributes\":{},\"id\":\"9926\",\"type\":\"ResetTool\"},{\"attributes\":{\"axis_label\":\"Frequency\",\"formatter\":{\"id\":\"9962\",\"type\":\"BasicTickFormatter\"},\"ticker\":{\"id\":\"9879\",\"type\":\"BasicTicker\"}},\"id\":\"9878\",\"type\":\"LinearAxis\"},{\"attributes\":{},\"id\":\"9946\",\"type\":\"Selection\"},{\"attributes\":{},\"id\":\"9951\",\"type\":\"BasicTickFormatter\"},{\"attributes\":{\"formatter\":{\"id\":\"9960\",\"type\":\"BasicTickFormatter\"},\"ticker\":{\"id\":\"9874\",\"type\":\"BasicTicker\"}},\"id\":\"9873\",\"type\":\"LinearAxis\"},{\"attributes\":{},\"id\":\"9923\",\"type\":\"WheelZoomTool\"},{\"attributes\":{\"bottom\":{\"value\":0},\"fill_color\":{\"value\":\"#1f77b4\"},\"left\":{\"field\":\"left\"},\"right\":{\"field\":\"right\"},\"top\":{\"field\":\"top\"}},\"id\":\"9858\",\"type\":\"Quad\"},{\"attributes\":{},\"id\":\"9879\",\"type\":\"BasicTicker\"},{\"attributes\":{\"callback\":null,\"end\":261082327.55,\"start\":-12418230.55},\"id\":\"9865\",\"type\":\"Range1d\"}],\"root_ids\":[\"9979\"]},\"title\":\"Bokeh Application\",\"version\":\"1.2.0\"}};\n",
       "  var render_items = [{\"docid\":\"3517266e-c4ea-42c3-82ae-dae3fbdb5411\",\"roots\":{\"9979\":\"a5ab85cc-068b-4e5f-93ba-463186dee4ac\"}}];\n",
       "  root.Bokeh.embed.embed_items_notebook(docs_json, render_items);\n",
       "\n",
       "  }\n",
       "  if (root.Bokeh !== undefined) {\n",
       "    embed_document(root);\n",
       "  } else {\n",
       "    var attempts = 0;\n",
       "    var timer = setInterval(function(root) {\n",
       "      if (root.Bokeh !== undefined) {\n",
       "        embed_document(root);\n",
       "        clearInterval(timer);\n",
       "      }\n",
       "      attempts++;\n",
       "      if (attempts > 100) {\n",
       "        console.log(\"Bokeh: ERROR: Unable to run BokehJS code because BokehJS library is missing\");\n",
       "        clearInterval(timer);\n",
       "      }\n",
       "    }, 10, root)\n",
       "  }\n",
       "})(window);"
      ],
      "application/vnd.bokehjs_exec.v0+json": ""
     },
     "metadata": {
      "application/vnd.bokehjs_exec.v0+json": {
       "id": "9979"
      }
     },
     "output_type": "display_data"
    }
   ],
   "source": [
    "show(gridplot(plot_list, ncols=2, plot_width=500, plot_height=400))"
   ]
  },
  {
   "cell_type": "markdown",
   "id": "0500f05d-369a-45d4-bbe1-bd2cee669f02",
   "metadata": {},
   "source": [
    "Also plot a few chromosomes for the same sample."
   ]
  },
  {
   "cell_type": "code",
   "execution_count": 356,
   "id": "b6ebd6b3-3582-4986-8db6-aa59c5dba58e",
   "metadata": {},
   "outputs": [],
   "source": [
    "plot_list = []\n",
    "for chrom in ['chr1', 'chr2', 'chrX', 'chrY']:\n",
    "    temp = ps_stats_ht.filter((ps_stats_ht.sample_group == 'FN000001') & (ps_stats_ht.chrom_group == chrom))\n",
    "    p = hl.plot.histogram(temp.ps_start, title=chrom)\n",
    "    plot_list.append(p)"
   ]
  },
  {
   "cell_type": "code",
   "execution_count": 357,
   "id": "d5f89cce-d0d0-4422-8d8d-3c217c5c8401",
   "metadata": {},
   "outputs": [
    {
     "data": {
      "text/html": [
       "\n",
       "\n",
       "\n",
       "\n",
       "\n",
       "\n",
       "  <div class=\"bk-root\" id=\"0c987d69-49a7-4d43-9a0c-04fb04a44c60\" data-root-id=\"10737\"></div>\n"
      ]
     },
     "metadata": {},
     "output_type": "display_data"
    },
    {
     "data": {
      "application/javascript": [
       "(function(root) {\n",
       "  function embed_document(root) {\n",
       "    \n",
       "  var docs_json = {\"78e3ec8b-d237-48c1-8af5-e011d964ec5f\":{\"roots\":{\"references\":[{\"attributes\":{\"children\":[{\"id\":\"10736\",\"type\":\"ToolbarBox\"},{\"id\":\"10734\",\"type\":\"GridBox\"}]},\"id\":\"10737\",\"type\":\"Column\"},{\"attributes\":{\"active_drag\":\"auto\",\"active_inspect\":\"auto\",\"active_multi\":null,\"active_scroll\":\"auto\",\"active_tap\":\"auto\",\"tools\":[{\"id\":\"10563\",\"type\":\"PanTool\"},{\"id\":\"10564\",\"type\":\"WheelZoomTool\"},{\"id\":\"10565\",\"type\":\"BoxZoomTool\"},{\"id\":\"10566\",\"type\":\"SaveTool\"},{\"id\":\"10567\",\"type\":\"ResetTool\"},{\"id\":\"10568\",\"type\":\"HelpTool\"}]},\"id\":\"10569\",\"type\":\"Toolbar\"},{\"attributes\":{},\"id\":\"10702\",\"type\":\"BasicTickFormatter\"},{\"attributes\":{\"toolbar\":{\"id\":\"10735\",\"type\":\"ProxyToolbar\"},\"toolbar_location\":\"above\"},\"id\":\"10736\",\"type\":\"ToolbarBox\"},{\"attributes\":{\"callback\":null},\"id\":\"10664\",\"type\":\"DataRange1d\"},{\"attributes\":{},\"id\":\"10554\",\"type\":\"BasicTicker\"},{\"attributes\":{},\"id\":\"10683\",\"type\":\"SaveTool\"},{\"attributes\":{\"background_fill_color\":{\"value\":\"#EEEEEE\"},\"below\":[{\"id\":\"10631\",\"type\":\"LinearAxis\"}],\"center\":[{\"id\":\"10635\",\"type\":\"Grid\"},{\"id\":\"10640\",\"type\":\"Grid\"}],\"left\":[{\"id\":\"10636\",\"type\":\"LinearAxis\"}],\"plot_height\":400,\"plot_width\":500,\"renderers\":[{\"id\":\"10657\",\"type\":\"GlyphRenderer\"}],\"title\":{\"id\":\"10621\",\"type\":\"Title\"},\"toolbar\":{\"id\":\"10647\",\"type\":\"Toolbar\"},\"toolbar_location\":null,\"x_range\":{\"id\":\"10623\",\"type\":\"Range1d\"},\"x_scale\":{\"id\":\"10627\",\"type\":\"LinearScale\"},\"y_range\":{\"id\":\"10625\",\"type\":\"DataRange1d\"},\"y_scale\":{\"id\":\"10629\",\"type\":\"LinearScale\"}},\"id\":\"10620\",\"subtype\":\"Figure\",\"type\":\"Plot\"},{\"attributes\":{\"callback\":null},\"id\":\"10625\",\"type\":\"DataRange1d\"},{\"attributes\":{\"background_fill_color\":{\"value\":\"#EEEEEE\"},\"below\":[{\"id\":\"10553\",\"type\":\"LinearAxis\"}],\"center\":[{\"id\":\"10557\",\"type\":\"Grid\"},{\"id\":\"10562\",\"type\":\"Grid\"}],\"left\":[{\"id\":\"10558\",\"type\":\"LinearAxis\"}],\"plot_height\":400,\"plot_width\":500,\"renderers\":[{\"id\":\"10579\",\"type\":\"GlyphRenderer\"}],\"title\":{\"id\":\"10543\",\"type\":\"Title\"},\"toolbar\":{\"id\":\"10569\",\"type\":\"Toolbar\"},\"toolbar_location\":null,\"x_range\":{\"id\":\"10545\",\"type\":\"Range1d\"},\"x_scale\":{\"id\":\"10549\",\"type\":\"LinearScale\"},\"y_range\":{\"id\":\"10547\",\"type\":\"DataRange1d\"},\"y_scale\":{\"id\":\"10551\",\"type\":\"LinearScale\"}},\"id\":\"10542\",\"subtype\":\"Figure\",\"type\":\"Plot\"},{\"attributes\":{\"data_source\":{\"id\":\"10576\",\"type\":\"ColumnDataSource\"},\"glyph\":{\"id\":\"10577\",\"type\":\"Quad\"},\"hover_glyph\":null,\"muted_glyph\":null,\"nonselection_glyph\":{\"id\":\"10578\",\"type\":\"Quad\"},\"selection_glyph\":null,\"view\":{\"id\":\"10580\",\"type\":\"CDSView\"}},\"id\":\"10579\",\"type\":\"GlyphRenderer\"},{\"attributes\":{},\"id\":\"10627\",\"type\":\"LinearScale\"},{\"attributes\":{\"callback\":null,\"data\":{\"left\":[1282864.0,4377653.46,7472442.92,10567232.379999999,13662021.84,16756811.3,19851600.759999998,22946390.22,26041179.68,29135969.14,32230758.6,35325548.06,38420337.519999996,41515126.98,44609916.44,47704705.9,50799495.36,53894284.82,56989074.28,60083863.74,63178653.2,66273442.66,69368232.12,72463021.58,75557811.03999999,78652600.5,81747389.96,84842179.42,87936968.88,91031758.34,94126547.8,97221337.26,100316126.72,103410916.17999999,106505705.64,109600495.1,112695284.56,115790074.02,118884863.48,121979652.94,125074442.4,128169231.86,131264021.32,134358810.78,137453600.24,140548389.7,143643179.16,146737968.62,149832758.07999998,152927547.54],\"right\":[4377653.46,7472442.92,10567232.379999999,13662021.84,16756811.3,19851600.759999998,22946390.22,26041179.68,29135969.14,32230758.6,35325548.06,38420337.519999996,41515126.98,44609916.44,47704705.9,50799495.36,53894284.82,56989074.28,60083863.74,63178653.2,66273442.66,69368232.12,72463021.58,75557811.03999999,78652600.5,81747389.96,84842179.42,87936968.88,91031758.34,94126547.8,97221337.26,100316126.72,103410916.17999999,106505705.64,109600495.1,112695284.56,115790074.02,118884863.48,121979652.94,125074442.4,128169231.86,131264021.32,134358810.78,137453600.24,140548389.7,143643179.16,146737968.62,149832758.07999998,152927547.54,156022337.0],\"top\":[1,0,1,1,1,0,1,4,0,1,0,2,2,1,3,5,1,2,0,0,2,0,4,4,0,0,2,3,0,0,0,1,1,1,4,0,0,0,7,1,1,6,1,2,0,2,0,3,4,5]},\"selected\":{\"id\":\"10722\",\"type\":\"Selection\"},\"selection_policy\":{\"id\":\"10721\",\"type\":\"UnionRenderers\"}},\"id\":\"10654\",\"type\":\"ColumnDataSource\"},{\"attributes\":{\"source\":{\"id\":\"10576\",\"type\":\"ColumnDataSource\"}},\"id\":\"10580\",\"type\":\"CDSView\"},{\"attributes\":{\"background_fill_color\":{\"value\":\"#EEEEEE\"},\"below\":[{\"id\":\"10670\",\"type\":\"LinearAxis\"}],\"center\":[{\"id\":\"10674\",\"type\":\"Grid\"},{\"id\":\"10679\",\"type\":\"Grid\"}],\"left\":[{\"id\":\"10675\",\"type\":\"LinearAxis\"}],\"plot_height\":400,\"plot_width\":500,\"renderers\":[{\"id\":\"10696\",\"type\":\"GlyphRenderer\"}],\"title\":{\"id\":\"10660\",\"type\":\"Title\"},\"toolbar\":{\"id\":\"10686\",\"type\":\"Toolbar\"},\"toolbar_location\":null,\"x_range\":{\"id\":\"10662\",\"type\":\"Range1d\"},\"x_scale\":{\"id\":\"10666\",\"type\":\"LinearScale\"},\"y_range\":{\"id\":\"10664\",\"type\":\"DataRange1d\"},\"y_scale\":{\"id\":\"10668\",\"type\":\"LinearScale\"}},\"id\":\"10659\",\"subtype\":\"Figure\",\"type\":\"Plot\"},{\"attributes\":{\"overlay\":{\"id\":\"10705\",\"type\":\"BoxAnnotation\"}},\"id\":\"10565\",\"type\":\"BoxZoomTool\"},{\"attributes\":{\"formatter\":{\"id\":\"10718\",\"type\":\"BasicTickFormatter\"},\"ticker\":{\"id\":\"10632\",\"type\":\"BasicTicker\"}},\"id\":\"10631\",\"type\":\"LinearAxis\"},{\"attributes\":{\"bottom\":{\"value\":0},\"fill_color\":{\"value\":\"#1f77b4\"},\"left\":{\"field\":\"left\"},\"right\":{\"field\":\"right\"},\"top\":{\"field\":\"top\"}},\"id\":\"10577\",\"type\":\"Quad\"},{\"attributes\":{},\"id\":\"10567\",\"type\":\"ResetTool\"},{\"attributes\":{\"source\":{\"id\":\"10693\",\"type\":\"ColumnDataSource\"}},\"id\":\"10697\",\"type\":\"CDSView\"},{\"attributes\":{\"overlay\":{\"id\":\"10732\",\"type\":\"BoxAnnotation\"}},\"id\":\"10682\",\"type\":\"BoxZoomTool\"},{\"attributes\":{},\"id\":\"10632\",\"type\":\"BasicTicker\"},{\"attributes\":{\"callback\":null,\"end\":253724665.39999998,\"start\":-11794575.399999999},\"id\":\"10584\",\"type\":\"Range1d\"},{\"attributes\":{\"axis_label\":\"Frequency\",\"formatter\":{\"id\":\"10729\",\"type\":\"BasicTickFormatter\"},\"ticker\":{\"id\":\"10676\",\"type\":\"BasicTicker\"}},\"id\":\"10675\",\"type\":\"LinearAxis\"},{\"attributes\":{\"callback\":null,\"end\":261255002.65,\"start\":-12425363.65},\"id\":\"10545\",\"type\":\"Range1d\"},{\"attributes\":{\"text\":\"chrY\"},\"id\":\"10660\",\"type\":\"Title\"},{\"attributes\":{},\"id\":\"10629\",\"type\":\"LinearScale\"},{\"attributes\":{\"formatter\":{\"id\":\"10700\",\"type\":\"BasicTickFormatter\"},\"ticker\":{\"id\":\"10554\",\"type\":\"BasicTicker\"}},\"id\":\"10553\",\"type\":\"LinearAxis\"},{\"attributes\":{},\"id\":\"10551\",\"type\":\"LinearScale\"},{\"attributes\":{\"data_source\":{\"id\":\"10693\",\"type\":\"ColumnDataSource\"},\"glyph\":{\"id\":\"10694\",\"type\":\"Quad\"},\"hover_glyph\":null,\"muted_glyph\":null,\"nonselection_glyph\":{\"id\":\"10695\",\"type\":\"Quad\"},\"selection_glyph\":null,\"view\":{\"id\":\"10697\",\"type\":\"CDSView\"}},\"id\":\"10696\",\"type\":\"GlyphRenderer\"},{\"attributes\":{\"bottom\":{\"value\":0},\"fill_alpha\":{\"value\":0.1},\"fill_color\":{\"value\":\"#1f77b4\"},\"left\":{\"field\":\"left\"},\"line_alpha\":{\"value\":0.1},\"line_color\":{\"value\":\"#1f77b4\"},\"right\":{\"field\":\"right\"},\"top\":{\"field\":\"top\"}},\"id\":\"10617\",\"type\":\"Quad\"},{\"attributes\":{},\"id\":\"10566\",\"type\":\"SaveTool\"},{\"attributes\":{\"dimension\":1,\"ticker\":{\"id\":\"10598\",\"type\":\"BasicTicker\"}},\"id\":\"10601\",\"type\":\"Grid\"},{\"attributes\":{\"callback\":null,\"end\":163759310.65,\"start\":-6454109.65},\"id\":\"10623\",\"type\":\"Range1d\"},{\"attributes\":{},\"id\":\"10731\",\"type\":\"Selection\"},{\"attributes\":{\"bottom\":{\"value\":0},\"fill_alpha\":{\"value\":0.1},\"fill_color\":{\"value\":\"#1f77b4\"},\"left\":{\"field\":\"left\"},\"line_alpha\":{\"value\":0.1},\"line_color\":{\"value\":\"#1f77b4\"},\"right\":{\"field\":\"right\"},\"top\":{\"field\":\"top\"}},\"id\":\"10578\",\"type\":\"Quad\"},{\"attributes\":{},\"id\":\"10549\",\"type\":\"LinearScale\"},{\"attributes\":{\"bottom\":{\"value\":0},\"fill_color\":{\"value\":\"#1f77b4\"},\"left\":{\"field\":\"left\"},\"right\":{\"field\":\"right\"},\"top\":{\"field\":\"top\"}},\"id\":\"10694\",\"type\":\"Quad\"},{\"attributes\":{\"bottom\":{\"value\":0},\"fill_color\":{\"value\":\"#1f77b4\"},\"left\":{\"field\":\"left\"},\"right\":{\"field\":\"right\"},\"top\":{\"field\":\"top\"}},\"id\":\"10655\",\"type\":\"Quad\"},{\"attributes\":{\"callback\":null,\"data\":{\"left\":[6247457.0,6550527.66,6853598.32,7156668.98,7459739.64,7762810.3,8065880.96,8368951.619999999,8672022.28,8975092.94,9278163.6,9581234.26,9884304.92,10187375.58,10490446.239999998,10793516.899999999,11096587.559999999,11399658.219999999,11702728.879999999,12005799.54,12308870.2,12611940.86,12915011.52,13218082.18,13521152.84,13824223.5,14127294.16,14430364.82,14733435.479999999,15036506.139999999,15339576.799999999,15642647.459999999,15945718.12,16248788.78,16551859.44,16854930.1,17158000.759999998,17461071.42,17764142.08,18067212.74,18370283.4,18673354.06,18976424.72,19279495.38,19582566.04,19885636.7,20188707.36,20491778.02,20794848.68,21097919.339999996],\"right\":[6550527.66,6853598.32,7156668.98,7459739.64,7762810.3,8065880.96,8368951.619999999,8672022.28,8975092.94,9278163.6,9581234.26,9884304.92,10187375.58,10490446.239999998,10793516.899999999,11096587.559999999,11399658.219999999,11702728.879999999,12005799.54,12308870.2,12611940.86,12915011.52,13218082.18,13521152.84,13824223.5,14127294.16,14430364.82,14733435.479999999,15036506.139999999,15339576.799999999,15642647.459999999,15945718.12,16248788.78,16551859.44,16854930.1,17158000.759999998,17461071.42,17764142.08,18067212.74,18370283.4,18673354.06,18976424.72,19279495.38,19582566.04,19885636.7,20188707.36,20491778.02,20794848.68,21097919.339999996,21400990.0],\"top\":[1,0,2,0,0,0,0,0,0,0,0,0,0,0,0,0,2,1,0,0,1,1,0,0,0,0,0,0,0,0,0,0,0,0,0,0,0,0,0,0,0,0,0,0,0,0,0,0,0,1]},\"selected\":{\"id\":\"10731\",\"type\":\"Selection\"},\"selection_policy\":{\"id\":\"10730\",\"type\":\"UnionRenderers\"}},\"id\":\"10693\",\"type\":\"ColumnDataSource\"},{\"attributes\":{\"callback\":null},\"id\":\"10547\",\"type\":\"DataRange1d\"},{\"attributes\":{},\"id\":\"10568\",\"type\":\"HelpTool\"},{\"attributes\":{},\"id\":\"10703\",\"type\":\"UnionRenderers\"},{\"attributes\":{},\"id\":\"10602\",\"type\":\"PanTool\"},{\"attributes\":{},\"id\":\"10680\",\"type\":\"PanTool\"},{\"attributes\":{\"dimension\":1,\"ticker\":{\"id\":\"10676\",\"type\":\"BasicTicker\"}},\"id\":\"10679\",\"type\":\"Grid\"},{\"attributes\":{},\"id\":\"10598\",\"type\":\"BasicTicker\"},{\"attributes\":{\"tools\":[{\"id\":\"10563\",\"type\":\"PanTool\"},{\"id\":\"10564\",\"type\":\"WheelZoomTool\"},{\"id\":\"10565\",\"type\":\"BoxZoomTool\"},{\"id\":\"10566\",\"type\":\"SaveTool\"},{\"id\":\"10567\",\"type\":\"ResetTool\"},{\"id\":\"10568\",\"type\":\"HelpTool\"},{\"id\":\"10602\",\"type\":\"PanTool\"},{\"id\":\"10603\",\"type\":\"WheelZoomTool\"},{\"id\":\"10604\",\"type\":\"BoxZoomTool\"},{\"id\":\"10605\",\"type\":\"SaveTool\"},{\"id\":\"10606\",\"type\":\"ResetTool\"},{\"id\":\"10607\",\"type\":\"HelpTool\"},{\"id\":\"10641\",\"type\":\"PanTool\"},{\"id\":\"10642\",\"type\":\"WheelZoomTool\"},{\"id\":\"10643\",\"type\":\"BoxZoomTool\"},{\"id\":\"10644\",\"type\":\"SaveTool\"},{\"id\":\"10645\",\"type\":\"ResetTool\"},{\"id\":\"10646\",\"type\":\"HelpTool\"},{\"id\":\"10680\",\"type\":\"PanTool\"},{\"id\":\"10681\",\"type\":\"WheelZoomTool\"},{\"id\":\"10682\",\"type\":\"BoxZoomTool\"},{\"id\":\"10683\",\"type\":\"SaveTool\"},{\"id\":\"10684\",\"type\":\"ResetTool\"},{\"id\":\"10685\",\"type\":\"HelpTool\"}]},\"id\":\"10735\",\"type\":\"ProxyToolbar\"},{\"attributes\":{},\"id\":\"10676\",\"type\":\"BasicTicker\"},{\"attributes\":{},\"id\":\"10563\",\"type\":\"PanTool\"},{\"attributes\":{},\"id\":\"10668\",\"type\":\"LinearScale\"},{\"attributes\":{},\"id\":\"10727\",\"type\":\"BasicTickFormatter\"},{\"attributes\":{},\"id\":\"10603\",\"type\":\"WheelZoomTool\"},{\"attributes\":{},\"id\":\"10666\",\"type\":\"LinearScale\"},{\"attributes\":{\"source\":{\"id\":\"10615\",\"type\":\"ColumnDataSource\"}},\"id\":\"10619\",\"type\":\"CDSView\"},{\"attributes\":{},\"id\":\"10559\",\"type\":\"BasicTicker\"},{\"attributes\":{\"text\":\"chrX\"},\"id\":\"10621\",\"type\":\"Title\"},{\"attributes\":{},\"id\":\"10730\",\"type\":\"UnionRenderers\"},{\"attributes\":{},\"id\":\"10671\",\"type\":\"BasicTicker\"},{\"attributes\":{\"callback\":null,\"end\":22158666.65,\"start\":5489780.35},\"id\":\"10662\",\"type\":\"Range1d\"},{\"attributes\":{\"ticker\":{\"id\":\"10671\",\"type\":\"BasicTicker\"}},\"id\":\"10674\",\"type\":\"Grid\"},{\"attributes\":{},\"id\":\"10684\",\"type\":\"ResetTool\"},{\"attributes\":{\"dimension\":1,\"ticker\":{\"id\":\"10559\",\"type\":\"BasicTicker\"}},\"id\":\"10562\",\"type\":\"Grid\"},{\"attributes\":{},\"id\":\"10681\",\"type\":\"WheelZoomTool\"},{\"attributes\":{\"data_source\":{\"id\":\"10615\",\"type\":\"ColumnDataSource\"},\"glyph\":{\"id\":\"10616\",\"type\":\"Quad\"},\"hover_glyph\":null,\"muted_glyph\":null,\"nonselection_glyph\":{\"id\":\"10617\",\"type\":\"Quad\"},\"selection_glyph\":null,\"view\":{\"id\":\"10619\",\"type\":\"CDSView\"}},\"id\":\"10618\",\"type\":\"GlyphRenderer\"},{\"attributes\":{\"axis_label\":\"Frequency\",\"formatter\":{\"id\":\"10711\",\"type\":\"BasicTickFormatter\"},\"ticker\":{\"id\":\"10598\",\"type\":\"BasicTicker\"}},\"id\":\"10597\",\"type\":\"LinearAxis\"},{\"attributes\":{\"formatter\":{\"id\":\"10727\",\"type\":\"BasicTickFormatter\"},\"ticker\":{\"id\":\"10671\",\"type\":\"BasicTicker\"}},\"id\":\"10670\",\"type\":\"LinearAxis\"},{\"attributes\":{},\"id\":\"10700\",\"type\":\"BasicTickFormatter\"},{\"attributes\":{},\"id\":\"10564\",\"type\":\"WheelZoomTool\"},{\"attributes\":{\"text\":\"chr1\"},\"id\":\"10543\",\"type\":\"Title\"},{\"attributes\":{\"callback\":null,\"data\":{\"left\":[14653.0,4990659.66,9966666.32,14942672.98,19918679.64,24894686.3,29870692.96,34846699.620000005,39822706.28,44798712.94,49774719.6,54750726.260000005,59726732.92,64702739.58,69678746.24000001,74654752.9,79630759.56,84606766.22,89582772.88,94558779.54,99534786.2,104510792.86,109486799.52000001,114462806.18,119438812.84,124414819.5,129390826.16,134366832.82,139342839.48000002,144318846.14000002,149294852.8,154270859.46,159246866.12,164222872.78,169198879.44,174174886.1,179150892.76,184126899.42000002,189102906.08,194078912.74,199054919.4,204030926.06,209006932.72,213982939.38,218958946.04000002,223934952.70000002,228910959.36,233886966.02,238862972.68,243838979.34],\"right\":[4990659.66,9966666.32,14942672.98,19918679.64,24894686.3,29870692.96,34846699.620000005,39822706.28,44798712.94,49774719.6,54750726.260000005,59726732.92,64702739.58,69678746.24000001,74654752.9,79630759.56,84606766.22,89582772.88,94558779.54,99534786.2,104510792.86,109486799.52000001,114462806.18,119438812.84,124414819.5,129390826.16,134366832.82,139342839.48000002,144318846.14000002,149294852.8,154270859.46,159246866.12,164222872.78,169198879.44,174174886.1,179150892.76,184126899.42000002,189102906.08,194078912.74,199054919.4,204030926.06,209006932.72,213982939.38,218958946.04000002,223934952.70000002,228910959.36,233886966.02,238862972.68,243838979.34,248814986.0],\"top\":[9,6,11,16,15,7,12,8,11,8,9,5,4,3,2,5,3,3,8,1,4,7,10,6,6,0,0,0,1,11,14,14,11,6,9,6,4,6,2,6,9,8,5,4,5,3,3,6,2,9]},\"selected\":{\"id\":\"10704\",\"type\":\"Selection\"},\"selection_policy\":{\"id\":\"10703\",\"type\":\"UnionRenderers\"}},\"id\":\"10576\",\"type\":\"ColumnDataSource\"},{\"attributes\":{\"bottom\":{\"value\":0},\"fill_alpha\":{\"value\":0.1},\"fill_color\":{\"value\":\"#1f77b4\"},\"left\":{\"field\":\"left\"},\"line_alpha\":{\"value\":0.1},\"line_color\":{\"value\":\"#1f77b4\"},\"right\":{\"field\":\"right\"},\"top\":{\"field\":\"top\"}},\"id\":\"10695\",\"type\":\"Quad\"},{\"attributes\":{},\"id\":\"10729\",\"type\":\"BasicTickFormatter\"},{\"attributes\":{\"active_drag\":\"auto\",\"active_inspect\":\"auto\",\"active_multi\":null,\"active_scroll\":\"auto\",\"active_tap\":\"auto\",\"tools\":[{\"id\":\"10602\",\"type\":\"PanTool\"},{\"id\":\"10603\",\"type\":\"WheelZoomTool\"},{\"id\":\"10604\",\"type\":\"BoxZoomTool\"},{\"id\":\"10605\",\"type\":\"SaveTool\"},{\"id\":\"10606\",\"type\":\"ResetTool\"},{\"id\":\"10607\",\"type\":\"HelpTool\"}]},\"id\":\"10608\",\"type\":\"Toolbar\"},{\"attributes\":{\"bottom_units\":\"screen\",\"fill_alpha\":{\"value\":0.5},\"fill_color\":{\"value\":\"lightgrey\"},\"left_units\":\"screen\",\"level\":\"overlay\",\"line_alpha\":{\"value\":1.0},\"line_color\":{\"value\":\"black\"},\"line_dash\":[4,4],\"line_width\":{\"value\":2},\"render_mode\":\"css\",\"right_units\":\"screen\",\"top_units\":\"screen\"},\"id\":\"10732\",\"type\":\"BoxAnnotation\"},{\"attributes\":{},\"id\":\"10641\",\"type\":\"PanTool\"},{\"attributes\":{},\"id\":\"10709\",\"type\":\"BasicTickFormatter\"},{\"attributes\":{\"bottom\":{\"value\":0},\"fill_color\":{\"value\":\"#1f77b4\"},\"left\":{\"field\":\"left\"},\"right\":{\"field\":\"right\"},\"top\":{\"field\":\"top\"}},\"id\":\"10616\",\"type\":\"Quad\"},{\"attributes\":{\"ticker\":{\"id\":\"10632\",\"type\":\"BasicTicker\"}},\"id\":\"10635\",\"type\":\"Grid\"},{\"attributes\":{\"callback\":null},\"id\":\"10586\",\"type\":\"DataRange1d\"},{\"attributes\":{},\"id\":\"10593\",\"type\":\"BasicTicker\"},{\"attributes\":{\"formatter\":{\"id\":\"10709\",\"type\":\"BasicTickFormatter\"},\"ticker\":{\"id\":\"10593\",\"type\":\"BasicTicker\"}},\"id\":\"10592\",\"type\":\"LinearAxis\"},{\"attributes\":{},\"id\":\"10722\",\"type\":\"Selection\"},{\"attributes\":{},\"id\":\"10713\",\"type\":\"Selection\"},{\"attributes\":{},\"id\":\"10685\",\"type\":\"HelpTool\"},{\"attributes\":{\"bottom_units\":\"screen\",\"fill_alpha\":{\"value\":0.5},\"fill_color\":{\"value\":\"lightgrey\"},\"left_units\":\"screen\",\"level\":\"overlay\",\"line_alpha\":{\"value\":1.0},\"line_color\":{\"value\":\"black\"},\"line_dash\":[4,4],\"line_width\":{\"value\":2},\"render_mode\":\"css\",\"right_units\":\"screen\",\"top_units\":\"screen\"},\"id\":\"10714\",\"type\":\"BoxAnnotation\"},{\"attributes\":{\"dimension\":1,\"ticker\":{\"id\":\"10637\",\"type\":\"BasicTicker\"}},\"id\":\"10640\",\"type\":\"Grid\"},{\"attributes\":{},\"id\":\"10590\",\"type\":\"LinearScale\"},{\"attributes\":{},\"id\":\"10718\",\"type\":\"BasicTickFormatter\"},{\"attributes\":{},\"id\":\"10642\",\"type\":\"WheelZoomTool\"},{\"attributes\":{\"children\":[[{\"id\":\"10542\",\"subtype\":\"Figure\",\"type\":\"Plot\"},0,0],[{\"id\":\"10581\",\"subtype\":\"Figure\",\"type\":\"Plot\"},0,1],[{\"id\":\"10620\",\"subtype\":\"Figure\",\"type\":\"Plot\"},1,0],[{\"id\":\"10659\",\"subtype\":\"Figure\",\"type\":\"Plot\"},1,1]]},\"id\":\"10734\",\"type\":\"GridBox\"},{\"attributes\":{\"text\":\"chr2\"},\"id\":\"10582\",\"type\":\"Title\"},{\"attributes\":{},\"id\":\"10606\",\"type\":\"ResetTool\"},{\"attributes\":{},\"id\":\"10704\",\"type\":\"Selection\"},{\"attributes\":{},\"id\":\"10637\",\"type\":\"BasicTicker\"},{\"attributes\":{\"overlay\":{\"id\":\"10723\",\"type\":\"BoxAnnotation\"}},\"id\":\"10643\",\"type\":\"BoxZoomTool\"},{\"attributes\":{\"active_drag\":\"auto\",\"active_inspect\":\"auto\",\"active_multi\":null,\"active_scroll\":\"auto\",\"active_tap\":\"auto\",\"tools\":[{\"id\":\"10641\",\"type\":\"PanTool\"},{\"id\":\"10642\",\"type\":\"WheelZoomTool\"},{\"id\":\"10643\",\"type\":\"BoxZoomTool\"},{\"id\":\"10644\",\"type\":\"SaveTool\"},{\"id\":\"10645\",\"type\":\"ResetTool\"},{\"id\":\"10646\",\"type\":\"HelpTool\"}]},\"id\":\"10647\",\"type\":\"Toolbar\"},{\"attributes\":{\"axis_label\":\"Frequency\",\"formatter\":{\"id\":\"10720\",\"type\":\"BasicTickFormatter\"},\"ticker\":{\"id\":\"10637\",\"type\":\"BasicTicker\"}},\"id\":\"10636\",\"type\":\"LinearAxis\"},{\"attributes\":{\"ticker\":{\"id\":\"10593\",\"type\":\"BasicTicker\"}},\"id\":\"10596\",\"type\":\"Grid\"},{\"attributes\":{},\"id\":\"10644\",\"type\":\"SaveTool\"},{\"attributes\":{},\"id\":\"10588\",\"type\":\"LinearScale\"},{\"attributes\":{\"background_fill_color\":{\"value\":\"#EEEEEE\"},\"below\":[{\"id\":\"10592\",\"type\":\"LinearAxis\"}],\"center\":[{\"id\":\"10596\",\"type\":\"Grid\"},{\"id\":\"10601\",\"type\":\"Grid\"}],\"left\":[{\"id\":\"10597\",\"type\":\"LinearAxis\"}],\"plot_height\":400,\"plot_width\":500,\"renderers\":[{\"id\":\"10618\",\"type\":\"GlyphRenderer\"}],\"title\":{\"id\":\"10582\",\"type\":\"Title\"},\"toolbar\":{\"id\":\"10608\",\"type\":\"Toolbar\"},\"toolbar_location\":null,\"x_range\":{\"id\":\"10584\",\"type\":\"Range1d\"},\"x_scale\":{\"id\":\"10588\",\"type\":\"LinearScale\"},\"y_range\":{\"id\":\"10586\",\"type\":\"DataRange1d\"},\"y_scale\":{\"id\":\"10590\",\"type\":\"LinearScale\"}},\"id\":\"10581\",\"subtype\":\"Figure\",\"type\":\"Plot\"},{\"attributes\":{\"overlay\":{\"id\":\"10714\",\"type\":\"BoxAnnotation\"}},\"id\":\"10604\",\"type\":\"BoxZoomTool\"},{\"attributes\":{\"bottom\":{\"value\":0},\"fill_alpha\":{\"value\":0.1},\"fill_color\":{\"value\":\"#1f77b4\"},\"left\":{\"field\":\"left\"},\"line_alpha\":{\"value\":0.1},\"line_color\":{\"value\":\"#1f77b4\"},\"right\":{\"field\":\"right\"},\"top\":{\"field\":\"top\"}},\"id\":\"10656\",\"type\":\"Quad\"},{\"attributes\":{},\"id\":\"10720\",\"type\":\"BasicTickFormatter\"},{\"attributes\":{\"callback\":null,\"data\":{\"left\":[274481.0,5102103.56,9929726.12,14757348.68,19584971.24,24412593.799999997,29240216.36,34067838.919999994,38895461.48,43723084.04,48550706.599999994,53378329.16,58205951.72,63033574.279999994,67861196.83999999,72688819.39999999,77516441.96,82344064.52,87171687.08,91999309.63999999,96826932.19999999,101654554.75999999,106482177.32,111309799.88,116137422.44,120965044.99999999,125792667.55999999,130620290.11999999,135447912.67999998,140275535.23999998,145103157.79999998,149930780.35999998,154758402.92,159586025.48,164413648.04,169241270.6,174068893.16,178896515.72,183724138.27999997,188551760.83999997,193379383.39999998,198207005.95999998,203034628.51999998,207862251.07999998,212689873.64,217517496.2,222345118.76,227172741.32,232000363.88,236827986.43999997],\"right\":[5102103.56,9929726.12,14757348.68,19584971.24,24412593.799999997,29240216.36,34067838.919999994,38895461.48,43723084.04,48550706.599999994,53378329.16,58205951.72,63033574.279999994,67861196.83999999,72688819.39999999,77516441.96,82344064.52,87171687.08,91999309.63999999,96826932.19999999,101654554.75999999,106482177.32,111309799.88,116137422.44,120965044.99999999,125792667.55999999,130620290.11999999,135447912.67999998,140275535.23999998,145103157.79999998,149930780.35999998,154758402.92,159586025.48,164413648.04,169241270.6,174068893.16,178896515.72,183724138.27999997,188551760.83999997,193379383.39999998,198207005.95999998,203034628.51999998,207862251.07999998,212689873.64,217517496.2,222345118.76,227172741.32,232000363.88,236827986.43999997,241655608.99999997],\"top\":[5,1,3,1,5,10,6,3,5,5,1,1,3,4,5,3,0,6,7,3,12,7,5,7,1,0,8,6,1,1,1,4,2,1,3,3,8,3,2,6,7,4,10,3,4,5,6,3,6,5]},\"selected\":{\"id\":\"10713\",\"type\":\"Selection\"},\"selection_policy\":{\"id\":\"10712\",\"type\":\"UnionRenderers\"}},\"id\":\"10615\",\"type\":\"ColumnDataSource\"},{\"attributes\":{\"active_drag\":\"auto\",\"active_inspect\":\"auto\",\"active_multi\":null,\"active_scroll\":\"auto\",\"active_tap\":\"auto\",\"tools\":[{\"id\":\"10680\",\"type\":\"PanTool\"},{\"id\":\"10681\",\"type\":\"WheelZoomTool\"},{\"id\":\"10682\",\"type\":\"BoxZoomTool\"},{\"id\":\"10683\",\"type\":\"SaveTool\"},{\"id\":\"10684\",\"type\":\"ResetTool\"},{\"id\":\"10685\",\"type\":\"HelpTool\"}]},\"id\":\"10686\",\"type\":\"Toolbar\"},{\"attributes\":{},\"id\":\"10607\",\"type\":\"HelpTool\"},{\"attributes\":{\"data_source\":{\"id\":\"10654\",\"type\":\"ColumnDataSource\"},\"glyph\":{\"id\":\"10655\",\"type\":\"Quad\"},\"hover_glyph\":null,\"muted_glyph\":null,\"nonselection_glyph\":{\"id\":\"10656\",\"type\":\"Quad\"},\"selection_glyph\":null,\"view\":{\"id\":\"10658\",\"type\":\"CDSView\"}},\"id\":\"10657\",\"type\":\"GlyphRenderer\"},{\"attributes\":{\"bottom_units\":\"screen\",\"fill_alpha\":{\"value\":0.5},\"fill_color\":{\"value\":\"lightgrey\"},\"left_units\":\"screen\",\"level\":\"overlay\",\"line_alpha\":{\"value\":1.0},\"line_color\":{\"value\":\"black\"},\"line_dash\":[4,4],\"line_width\":{\"value\":2},\"render_mode\":\"css\",\"right_units\":\"screen\",\"top_units\":\"screen\"},\"id\":\"10723\",\"type\":\"BoxAnnotation\"},{\"attributes\":{},\"id\":\"10711\",\"type\":\"BasicTickFormatter\"},{\"attributes\":{\"ticker\":{\"id\":\"10554\",\"type\":\"BasicTicker\"}},\"id\":\"10557\",\"type\":\"Grid\"},{\"attributes\":{},\"id\":\"10605\",\"type\":\"SaveTool\"},{\"attributes\":{},\"id\":\"10645\",\"type\":\"ResetTool\"},{\"attributes\":{},\"id\":\"10712\",\"type\":\"UnionRenderers\"},{\"attributes\":{},\"id\":\"10721\",\"type\":\"UnionRenderers\"},{\"attributes\":{\"bottom_units\":\"screen\",\"fill_alpha\":{\"value\":0.5},\"fill_color\":{\"value\":\"lightgrey\"},\"left_units\":\"screen\",\"level\":\"overlay\",\"line_alpha\":{\"value\":1.0},\"line_color\":{\"value\":\"black\"},\"line_dash\":[4,4],\"line_width\":{\"value\":2},\"render_mode\":\"css\",\"right_units\":\"screen\",\"top_units\":\"screen\"},\"id\":\"10705\",\"type\":\"BoxAnnotation\"},{\"attributes\":{\"source\":{\"id\":\"10654\",\"type\":\"ColumnDataSource\"}},\"id\":\"10658\",\"type\":\"CDSView\"},{\"attributes\":{\"axis_label\":\"Frequency\",\"formatter\":{\"id\":\"10702\",\"type\":\"BasicTickFormatter\"},\"ticker\":{\"id\":\"10559\",\"type\":\"BasicTicker\"}},\"id\":\"10558\",\"type\":\"LinearAxis\"},{\"attributes\":{},\"id\":\"10646\",\"type\":\"HelpTool\"}],\"root_ids\":[\"10737\"]},\"title\":\"Bokeh Application\",\"version\":\"1.2.0\"}};\n",
       "  var render_items = [{\"docid\":\"78e3ec8b-d237-48c1-8af5-e011d964ec5f\",\"roots\":{\"10737\":\"0c987d69-49a7-4d43-9a0c-04fb04a44c60\"}}];\n",
       "  root.Bokeh.embed.embed_items_notebook(docs_json, render_items);\n",
       "\n",
       "  }\n",
       "  if (root.Bokeh !== undefined) {\n",
       "    embed_document(root);\n",
       "  } else {\n",
       "    var attempts = 0;\n",
       "    var timer = setInterval(function(root) {\n",
       "      if (root.Bokeh !== undefined) {\n",
       "        embed_document(root);\n",
       "        clearInterval(timer);\n",
       "      }\n",
       "      attempts++;\n",
       "      if (attempts > 100) {\n",
       "        console.log(\"Bokeh: ERROR: Unable to run BokehJS code because BokehJS library is missing\");\n",
       "        clearInterval(timer);\n",
       "      }\n",
       "    }, 10, root)\n",
       "  }\n",
       "})(window);"
      ],
      "application/vnd.bokehjs_exec.v0+json": ""
     },
     "metadata": {
      "application/vnd.bokehjs_exec.v0+json": {
       "id": "10737"
      }
     },
     "output_type": "display_data"
    }
   ],
   "source": [
    "show(gridplot(plot_list, ncols=2, plot_width=500, plot_height=400))"
   ]
  },
  {
   "cell_type": "markdown",
   "id": "11cb4bfc-867f-4abf-b9a6-32d79f282e9a",
   "metadata": {},
   "source": [
    "Now let's look into the **phase block lengths**.\n",
    "\n",
    "The plots below show a histogram of the phase block lengths for four different samples.  Note that we've removed blocks with length zero, but included the count in the title.\n",
    "\n",
    "Most of the blocks have length less than $10^2$, which is quite poor. However, quite a few have length between $10^4$ and $10^5$, which is good as these blocks are able to cover most genes (**TODO:** how long is a typical human gene?)."
   ]
  },
  {
   "cell_type": "code",
   "execution_count": 367,
   "id": "66da2ebd-e4bf-4e20-b0d4-c79922407c30",
   "metadata": {},
   "outputs": [],
   "source": [
    "plot_list = []\n",
    "for sample in ['FN001485', 'FN000020', 'FN000254', 'FN000182']:\n",
    "    # Calculate number of zero length phase blocks.\n",
    "    ps_zero = ps_stats_ht.aggregate(hl.agg.filter(ps_stats_ht.sample_group == sample, hl.agg.count_where(ps_stats_ht.ps_length == 0)))\n",
    "\n",
    "    temp = ps_stats_ht.filter((ps_stats_ht.sample_group == sample) & (ps_stats_ht.ps_length > 0))\n",
    "\n",
    "    p = hl.plot.histogram(hl.log10(temp.ps_length), title='{s}. Zero length blocks: {n}'.format(s=sample, n=ps_zero))\n",
    "    p.xaxis.axis_label = 'log10(Length)'\n",
    "    \n",
    "    plot_list.append(p)"
   ]
  },
  {
   "cell_type": "code",
   "execution_count": 368,
   "id": "a5e9f9c6-2632-41df-8e51-e89ad571409a",
   "metadata": {},
   "outputs": [
    {
     "data": {
      "text/html": [
       "\n",
       "\n",
       "\n",
       "\n",
       "\n",
       "\n",
       "  <div class=\"bk-root\" id=\"f3b7dd56-92a0-46e1-8b97-bf5b93910295\" data-root-id=\"14878\"></div>\n"
      ]
     },
     "metadata": {},
     "output_type": "display_data"
    },
    {
     "data": {
      "application/javascript": [
       "(function(root) {\n",
       "  function embed_document(root) {\n",
       "    \n",
       "  var docs_json = {\"2152ac5d-c686-42b3-80ec-f9b34a1678ce\":{\"roots\":{\"references\":[{\"attributes\":{\"children\":[{\"id\":\"14877\",\"type\":\"ToolbarBox\"},{\"id\":\"14875\",\"type\":\"GridBox\"}]},\"id\":\"14878\",\"type\":\"Column\"},{\"attributes\":{},\"id\":\"14871\",\"type\":\"UnionRenderers\"},{\"attributes\":{\"active_drag\":\"auto\",\"active_inspect\":\"auto\",\"active_multi\":null,\"active_scroll\":\"auto\",\"active_tap\":\"auto\",\"tools\":[{\"id\":\"14743\",\"type\":\"PanTool\"},{\"id\":\"14744\",\"type\":\"WheelZoomTool\"},{\"id\":\"14745\",\"type\":\"BoxZoomTool\"},{\"id\":\"14746\",\"type\":\"SaveTool\"},{\"id\":\"14747\",\"type\":\"ResetTool\"},{\"id\":\"14748\",\"type\":\"HelpTool\"}]},\"id\":\"14749\",\"type\":\"Toolbar\"},{\"attributes\":{\"bottom_units\":\"screen\",\"fill_alpha\":{\"value\":0.5},\"fill_color\":{\"value\":\"lightgrey\"},\"left_units\":\"screen\",\"level\":\"overlay\",\"line_alpha\":{\"value\":1.0},\"line_color\":{\"value\":\"black\"},\"line_dash\":[4,4],\"line_width\":{\"value\":2},\"render_mode\":\"css\",\"right_units\":\"screen\",\"top_units\":\"screen\"},\"id\":\"14873\",\"type\":\"BoxAnnotation\"},{\"attributes\":{\"bottom\":{\"value\":0},\"fill_alpha\":{\"value\":0.1},\"fill_color\":{\"value\":\"#1f77b4\"},\"left\":{\"field\":\"left\"},\"line_alpha\":{\"value\":0.1},\"line_color\":{\"value\":\"#1f77b4\"},\"right\":{\"field\":\"right\"},\"top\":{\"field\":\"top\"}},\"id\":\"14797\",\"type\":\"Quad\"},{\"attributes\":{\"overlay\":{\"id\":\"14873\",\"type\":\"BoxAnnotation\"}},\"id\":\"14823\",\"type\":\"BoxZoomTool\"},{\"attributes\":{\"data_source\":{\"id\":\"14756\",\"type\":\"ColumnDataSource\"},\"glyph\":{\"id\":\"14757\",\"type\":\"Quad\"},\"hover_glyph\":null,\"muted_glyph\":null,\"nonselection_glyph\":{\"id\":\"14758\",\"type\":\"Quad\"},\"selection_glyph\":null,\"view\":{\"id\":\"14760\",\"type\":\"CDSView\"}},\"id\":\"14759\",\"type\":\"GlyphRenderer\"},{\"attributes\":{\"bottom\":{\"value\":0},\"fill_alpha\":{\"value\":0.1},\"fill_color\":{\"value\":\"#1f77b4\"},\"left\":{\"field\":\"left\"},\"line_alpha\":{\"value\":0.1},\"line_color\":{\"value\":\"#1f77b4\"},\"right\":{\"field\":\"right\"},\"top\":{\"field\":\"top\"}},\"id\":\"14758\",\"type\":\"Quad\"},{\"attributes\":{\"background_fill_color\":{\"value\":\"#EEEEEE\"},\"below\":[{\"id\":\"14694\",\"type\":\"LinearAxis\"}],\"center\":[{\"id\":\"14698\",\"type\":\"Grid\"},{\"id\":\"14703\",\"type\":\"Grid\"}],\"left\":[{\"id\":\"14699\",\"type\":\"LinearAxis\"}],\"plot_height\":400,\"plot_width\":500,\"renderers\":[{\"id\":\"14720\",\"type\":\"GlyphRenderer\"}],\"title\":{\"id\":\"14684\",\"type\":\"Title\"},\"toolbar\":{\"id\":\"14710\",\"type\":\"Toolbar\"},\"toolbar_location\":null,\"x_range\":{\"id\":\"14686\",\"type\":\"Range1d\"},\"x_scale\":{\"id\":\"14690\",\"type\":\"LinearScale\"},\"y_range\":{\"id\":\"14688\",\"type\":\"DataRange1d\"},\"y_scale\":{\"id\":\"14692\",\"type\":\"LinearScale\"}},\"id\":\"14683\",\"subtype\":\"Figure\",\"type\":\"Plot\"},{\"attributes\":{},\"id\":\"14861\",\"type\":\"BasicTickFormatter\"},{\"attributes\":{},\"id\":\"14821\",\"type\":\"PanTool\"},{\"attributes\":{\"data_source\":{\"id\":\"14795\",\"type\":\"ColumnDataSource\"},\"glyph\":{\"id\":\"14796\",\"type\":\"Quad\"},\"hover_glyph\":null,\"muted_glyph\":null,\"nonselection_glyph\":{\"id\":\"14797\",\"type\":\"Quad\"},\"selection_glyph\":null,\"view\":{\"id\":\"14799\",\"type\":\"CDSView\"}},\"id\":\"14798\",\"type\":\"GlyphRenderer\"},{\"attributes\":{\"source\":{\"id\":\"14834\",\"type\":\"ColumnDataSource\"}},\"id\":\"14838\",\"type\":\"CDSView\"},{\"attributes\":{},\"id\":\"14824\",\"type\":\"SaveTool\"},{\"attributes\":{},\"id\":\"14822\",\"type\":\"WheelZoomTool\"},{\"attributes\":{\"callback\":null,\"data\":{\"left\":[0.0,0.16791708771087563,0.33583417542175126,0.5037512631326269,0.6716683508435025,0.8395854385543782,1.0075025262652537,1.1754196139761295,1.343336701687005,1.5112537893978806,1.6791708771087563,1.8470879648196319,2.0150050525305074,2.182922140241383,2.350839227952259,2.5187563156631345,2.68667340337401,2.8545904910848856,3.022507578795761,3.190424666506637,3.3583417542175127,3.5262588419283882,3.6941759296392638,3.8620930173501393,4.030010105061015,4.197927192771891,4.365844280482766,4.533761368193642,4.701678455904518,4.869595543615393,5.037512631326269,5.205429719037144,5.37334680674802,5.541263894458896,5.709180982169771,5.877098069880647,6.045015157591522,6.212932245302398,6.380849333013274,6.548766420724149,6.716683508435025,6.8846005961459005,7.0525176838567765,7.2204347715676525,7.3883518592785276,7.5562689469894035,7.724186034700279,7.892103122411155,8.06002021012203,8.227937297832906],\"right\":[0.16791708771087563,0.33583417542175126,0.5037512631326269,0.6716683508435025,0.8395854385543782,1.0075025262652537,1.1754196139761295,1.343336701687005,1.5112537893978806,1.6791708771087563,1.8470879648196319,2.0150050525305074,2.182922140241383,2.350839227952259,2.5187563156631345,2.68667340337401,2.8545904910848856,3.022507578795761,3.190424666506637,3.3583417542175127,3.5262588419283882,3.6941759296392638,3.8620930173501393,4.030010105061015,4.197927192771891,4.365844280482766,4.533761368193642,4.701678455904518,4.869595543615393,5.037512631326269,5.205429719037144,5.37334680674802,5.541263894458896,5.709180982169771,5.877098069880647,6.045015157591522,6.212932245302398,6.380849333013274,6.548766420724149,6.716683508435025,6.8846005961459005,7.0525176838567765,7.2204347715676525,7.3883518592785276,7.5562689469894035,7.724186034700279,7.892103122411155,8.06002021012203,8.227937297832906,8.395854385543782],\"top\":[296,259,120,86,106,242,186,120,21,6,15,13,15,7,11,8,9,6,3,12,6,13,14,14,17,19,11,12,4,0,0,0,0,0,0,0,0,0,0,0,0,0,0,1,1,1,3,5,7,6]},\"selected\":{\"id\":\"14854\",\"type\":\"Selection\"},\"selection_policy\":{\"id\":\"14853\",\"type\":\"UnionRenderers\"}},\"id\":\"14756\",\"type\":\"ColumnDataSource\"},{\"attributes\":{},\"id\":\"14743\",\"type\":\"PanTool\"},{\"attributes\":{\"text\":\"FN001485. Zero length blocks: 992\"},\"id\":\"14684\",\"type\":\"Title\"},{\"attributes\":{},\"id\":\"14782\",\"type\":\"PanTool\"},{\"attributes\":{\"callback\":null,\"end\":8.81513185810251,\"start\":-0.4197681837191672},\"id\":\"14686\",\"type\":\"Range1d\"},{\"attributes\":{\"data_source\":{\"id\":\"14834\",\"type\":\"ColumnDataSource\"},\"glyph\":{\"id\":\"14835\",\"type\":\"Quad\"},\"hover_glyph\":null,\"muted_glyph\":null,\"nonselection_glyph\":{\"id\":\"14836\",\"type\":\"Quad\"},\"selection_glyph\":null,\"view\":{\"id\":\"14838\",\"type\":\"CDSView\"}},\"id\":\"14837\",\"type\":\"GlyphRenderer\"},{\"attributes\":{\"dimension\":1,\"ticker\":{\"id\":\"14739\",\"type\":\"BasicTicker\"}},\"id\":\"14742\",\"type\":\"Grid\"},{\"attributes\":{\"bottom\":{\"value\":0},\"fill_color\":{\"value\":\"#1f77b4\"},\"left\":{\"field\":\"left\"},\"right\":{\"field\":\"right\"},\"top\":{\"field\":\"top\"}},\"id\":\"14718\",\"type\":\"Quad\"},{\"attributes\":{},\"id\":\"14744\",\"type\":\"WheelZoomTool\"},{\"attributes\":{},\"id\":\"14870\",\"type\":\"BasicTickFormatter\"},{\"attributes\":{},\"id\":\"14748\",\"type\":\"HelpTool\"},{\"attributes\":{\"bottom\":{\"value\":0},\"fill_color\":{\"value\":\"#1f77b4\"},\"left\":{\"field\":\"left\"},\"right\":{\"field\":\"right\"},\"top\":{\"field\":\"top\"}},\"id\":\"14796\",\"type\":\"Quad\"},{\"attributes\":{},\"id\":\"14778\",\"type\":\"BasicTicker\"},{\"attributes\":{},\"id\":\"14872\",\"type\":\"Selection\"},{\"attributes\":{\"text\":\"FN000254. Zero length blocks: 859\"},\"id\":\"14762\",\"type\":\"Title\"},{\"attributes\":{\"bottom_units\":\"screen\",\"fill_alpha\":{\"value\":0.5},\"fill_color\":{\"value\":\"lightgrey\"},\"left_units\":\"screen\",\"level\":\"overlay\",\"line_alpha\":{\"value\":1.0},\"line_color\":{\"value\":\"black\"},\"line_dash\":[4,4],\"line_width\":{\"value\":2},\"render_mode\":\"css\",\"right_units\":\"screen\",\"top_units\":\"screen\"},\"id\":\"14864\",\"type\":\"BoxAnnotation\"},{\"attributes\":{},\"id\":\"14746\",\"type\":\"SaveTool\"},{\"attributes\":{\"dimension\":1,\"ticker\":{\"id\":\"14778\",\"type\":\"BasicTicker\"}},\"id\":\"14781\",\"type\":\"Grid\"},{\"attributes\":{\"overlay\":{\"id\":\"14855\",\"type\":\"BoxAnnotation\"}},\"id\":\"14745\",\"type\":\"BoxZoomTool\"},{\"attributes\":{\"callback\":null,\"data\":{\"left\":[0.0,0.16792061518565599,0.33584123037131197,0.5037618455569679,0.6716824607426239,0.83960307592828,1.0075236911139358,1.1754443062995918,1.3433649214852479,1.511285536670904,1.67920615185656,1.8471267670422158,2.0150473822278716,2.182967997413528,2.3508886125991837,2.51880922778484,2.6867298429704958,2.8546504581561516,3.022571073341808,3.1904916885274637,3.35841230371312,3.5263329188987758,3.6942535340844316,3.862174149270088,4.030094764455743,4.1980153796414,4.365935994827056,4.533856610012712,4.701777225198367,4.869697840384023,5.03761845556968,5.205539070755336,5.3734596859409915,5.541380301126647,5.709300916312303,5.87722153149796,6.045142146683616,6.2130627618692715,6.380983377054927,6.548903992240583,6.71682460742624,6.884745222611896,7.0526658377975515,7.220586452983207,7.388507068168863,7.556427683354519,7.724348298540176,7.8922689137258315,8.060189528911486,8.228110144097144],\"right\":[0.16792061518565599,0.33584123037131197,0.5037618455569679,0.6716824607426239,0.83960307592828,1.0075236911139358,1.1754443062995918,1.3433649214852479,1.511285536670904,1.67920615185656,1.8471267670422158,2.0150473822278716,2.182967997413528,2.3508886125991837,2.51880922778484,2.6867298429704958,2.8546504581561516,3.022571073341808,3.1904916885274637,3.35841230371312,3.5263329188987758,3.6942535340844316,3.862174149270088,4.030094764455743,4.1980153796414,4.365935994827056,4.533856610012712,4.701777225198367,4.869697840384023,5.03761845556968,5.205539070755336,5.3734596859409915,5.541380301126647,5.709300916312303,5.87722153149796,6.045142146683616,6.2130627618692715,6.380983377054927,6.548903992240583,6.71682460742624,6.884745222611896,7.0526658377975515,7.220586452983207,7.388507068168863,7.556427683354519,7.724348298540176,7.8922689137258315,8.060189528911486,8.228110144097144,8.3960307592828],\"top\":[302,260,117,92,115,228,155,112,17,11,12,15,14,14,14,13,7,7,11,17,17,16,20,22,23,35,22,16,7,4,0,0,0,0,0,0,0,0,0,0,0,0,0,1,0,2,3,5,8,5]},\"selected\":{\"id\":\"14863\",\"type\":\"Selection\"},\"selection_policy\":{\"id\":\"14862\",\"type\":\"UnionRenderers\"}},\"id\":\"14795\",\"type\":\"ColumnDataSource\"},{\"attributes\":{\"axis_label\":\"Frequency\",\"formatter\":{\"id\":\"14861\",\"type\":\"BasicTickFormatter\"},\"ticker\":{\"id\":\"14778\",\"type\":\"BasicTicker\"}},\"id\":\"14777\",\"type\":\"LinearAxis\"},{\"attributes\":{},\"id\":\"14862\",\"type\":\"UnionRenderers\"},{\"attributes\":{},\"id\":\"14747\",\"type\":\"ResetTool\"},{\"attributes\":{},\"id\":\"14863\",\"type\":\"Selection\"},{\"attributes\":{\"source\":{\"id\":\"14756\",\"type\":\"ColumnDataSource\"}},\"id\":\"14760\",\"type\":\"CDSView\"},{\"attributes\":{\"source\":{\"id\":\"14795\",\"type\":\"ColumnDataSource\"}},\"id\":\"14799\",\"type\":\"CDSView\"},{\"attributes\":{\"ticker\":{\"id\":\"14773\",\"type\":\"BasicTicker\"}},\"id\":\"14776\",\"type\":\"Grid\"},{\"attributes\":{\"background_fill_color\":{\"value\":\"#EEEEEE\"},\"below\":[{\"id\":\"14733\",\"type\":\"LinearAxis\"}],\"center\":[{\"id\":\"14737\",\"type\":\"Grid\"},{\"id\":\"14742\",\"type\":\"Grid\"}],\"left\":[{\"id\":\"14738\",\"type\":\"LinearAxis\"}],\"plot_height\":400,\"plot_width\":500,\"renderers\":[{\"id\":\"14759\",\"type\":\"GlyphRenderer\"}],\"title\":{\"id\":\"14723\",\"type\":\"Title\"},\"toolbar\":{\"id\":\"14749\",\"type\":\"Toolbar\"},\"toolbar_location\":null,\"x_range\":{\"id\":\"14725\",\"type\":\"Range1d\"},\"x_scale\":{\"id\":\"14729\",\"type\":\"LinearScale\"},\"y_range\":{\"id\":\"14727\",\"type\":\"DataRange1d\"},\"y_scale\":{\"id\":\"14731\",\"type\":\"LinearScale\"}},\"id\":\"14722\",\"subtype\":\"Figure\",\"type\":\"Plot\"},{\"attributes\":{},\"id\":\"14785\",\"type\":\"SaveTool\"},{\"attributes\":{\"active_drag\":\"auto\",\"active_inspect\":\"auto\",\"active_multi\":null,\"active_scroll\":\"auto\",\"active_tap\":\"auto\",\"tools\":[{\"id\":\"14782\",\"type\":\"PanTool\"},{\"id\":\"14783\",\"type\":\"WheelZoomTool\"},{\"id\":\"14784\",\"type\":\"BoxZoomTool\"},{\"id\":\"14785\",\"type\":\"SaveTool\"},{\"id\":\"14786\",\"type\":\"ResetTool\"},{\"id\":\"14787\",\"type\":\"HelpTool\"}]},\"id\":\"14788\",\"type\":\"Toolbar\"},{\"attributes\":{},\"id\":\"14783\",\"type\":\"WheelZoomTool\"},{\"attributes\":{\"callback\":null,\"end\":8.81583229724694,\"start\":-0.41980153796414},\"id\":\"14764\",\"type\":\"Range1d\"},{\"attributes\":{\"active_drag\":\"auto\",\"active_inspect\":\"auto\",\"active_multi\":null,\"active_scroll\":\"auto\",\"active_tap\":\"auto\",\"tools\":[{\"id\":\"14821\",\"type\":\"PanTool\"},{\"id\":\"14822\",\"type\":\"WheelZoomTool\"},{\"id\":\"14823\",\"type\":\"BoxZoomTool\"},{\"id\":\"14824\",\"type\":\"SaveTool\"},{\"id\":\"14825\",\"type\":\"ResetTool\"},{\"id\":\"14826\",\"type\":\"HelpTool\"}]},\"id\":\"14827\",\"type\":\"Toolbar\"},{\"attributes\":{\"source\":{\"id\":\"14717\",\"type\":\"ColumnDataSource\"}},\"id\":\"14721\",\"type\":\"CDSView\"},{\"attributes\":{},\"id\":\"14807\",\"type\":\"LinearScale\"},{\"attributes\":{\"axis_label\":\"Frequency\",\"formatter\":{\"id\":\"14852\",\"type\":\"BasicTickFormatter\"},\"ticker\":{\"id\":\"14739\",\"type\":\"BasicTicker\"}},\"id\":\"14738\",\"type\":\"LinearAxis\"},{\"attributes\":{},\"id\":\"14768\",\"type\":\"LinearScale\"},{\"attributes\":{\"callback\":null},\"id\":\"14766\",\"type\":\"DataRange1d\"},{\"attributes\":{\"callback\":null,\"end\":8.81377238601322,\"start\":-0.41970344695301054},\"id\":\"14803\",\"type\":\"Range1d\"},{\"attributes\":{},\"id\":\"14825\",\"type\":\"ResetTool\"},{\"attributes\":{},\"id\":\"14868\",\"type\":\"BasicTickFormatter\"},{\"attributes\":{\"axis_label\":\"Frequency\",\"formatter\":{\"id\":\"14843\",\"type\":\"BasicTickFormatter\"},\"ticker\":{\"id\":\"14700\",\"type\":\"BasicTicker\"}},\"id\":\"14699\",\"type\":\"LinearAxis\"},{\"attributes\":{\"overlay\":{\"id\":\"14864\",\"type\":\"BoxAnnotation\"}},\"id\":\"14784\",\"type\":\"BoxZoomTool\"},{\"attributes\":{\"bottom\":{\"value\":0},\"fill_alpha\":{\"value\":0.1},\"fill_color\":{\"value\":\"#1f77b4\"},\"left\":{\"field\":\"left\"},\"line_alpha\":{\"value\":0.1},\"line_color\":{\"value\":\"#1f77b4\"},\"right\":{\"field\":\"right\"},\"top\":{\"field\":\"top\"}},\"id\":\"14719\",\"type\":\"Quad\"},{\"attributes\":{},\"id\":\"14852\",\"type\":\"BasicTickFormatter\"},{\"attributes\":{},\"id\":\"14708\",\"type\":\"ResetTool\"},{\"attributes\":{},\"id\":\"14859\",\"type\":\"BasicTickFormatter\"},{\"attributes\":{\"bottom\":{\"value\":0},\"fill_color\":{\"value\":\"#1f77b4\"},\"left\":{\"field\":\"left\"},\"right\":{\"field\":\"right\"},\"top\":{\"field\":\"top\"}},\"id\":\"14835\",\"type\":\"Quad\"},{\"attributes\":{},\"id\":\"14729\",\"type\":\"LinearScale\"},{\"attributes\":{\"toolbar\":{\"id\":\"14876\",\"type\":\"ProxyToolbar\"},\"toolbar_location\":\"above\"},\"id\":\"14877\",\"type\":\"ToolbarBox\"},{\"attributes\":{\"background_fill_color\":{\"value\":\"#EEEEEE\"},\"below\":[{\"id\":\"14811\",\"type\":\"LinearAxis\"}],\"center\":[{\"id\":\"14815\",\"type\":\"Grid\"},{\"id\":\"14820\",\"type\":\"Grid\"}],\"left\":[{\"id\":\"14816\",\"type\":\"LinearAxis\"}],\"plot_height\":400,\"plot_width\":500,\"renderers\":[{\"id\":\"14837\",\"type\":\"GlyphRenderer\"}],\"title\":{\"id\":\"14801\",\"type\":\"Title\"},\"toolbar\":{\"id\":\"14827\",\"type\":\"Toolbar\"},\"toolbar_location\":null,\"x_range\":{\"id\":\"14803\",\"type\":\"Range1d\"},\"x_scale\":{\"id\":\"14807\",\"type\":\"LinearScale\"},\"y_range\":{\"id\":\"14805\",\"type\":\"DataRange1d\"},\"y_scale\":{\"id\":\"14809\",\"type\":\"LinearScale\"}},\"id\":\"14800\",\"subtype\":\"Figure\",\"type\":\"Plot\"},{\"attributes\":{},\"id\":\"14700\",\"type\":\"BasicTicker\"},{\"attributes\":{},\"id\":\"14826\",\"type\":\"HelpTool\"},{\"attributes\":{\"bottom\":{\"value\":0},\"fill_alpha\":{\"value\":0.1},\"fill_color\":{\"value\":\"#1f77b4\"},\"left\":{\"field\":\"left\"},\"line_alpha\":{\"value\":0.1},\"line_color\":{\"value\":\"#1f77b4\"},\"right\":{\"field\":\"right\"},\"top\":{\"field\":\"top\"}},\"id\":\"14836\",\"type\":\"Quad\"},{\"attributes\":{},\"id\":\"14845\",\"type\":\"Selection\"},{\"attributes\":{},\"id\":\"14854\",\"type\":\"Selection\"},{\"attributes\":{},\"id\":\"14844\",\"type\":\"UnionRenderers\"},{\"attributes\":{},\"id\":\"14731\",\"type\":\"LinearScale\"},{\"attributes\":{\"text\":\"FN000182. Zero length blocks: 650\"},\"id\":\"14801\",\"type\":\"Title\"},{\"attributes\":{\"data_source\":{\"id\":\"14717\",\"type\":\"ColumnDataSource\"},\"glyph\":{\"id\":\"14718\",\"type\":\"Quad\"},\"hover_glyph\":null,\"muted_glyph\":null,\"nonselection_glyph\":{\"id\":\"14719\",\"type\":\"Quad\"},\"selection_glyph\":null,\"view\":{\"id\":\"14721\",\"type\":\"CDSView\"}},\"id\":\"14720\",\"type\":\"GlyphRenderer\"},{\"attributes\":{\"bottom_units\":\"screen\",\"fill_alpha\":{\"value\":0.5},\"fill_color\":{\"value\":\"lightgrey\"},\"left_units\":\"screen\",\"level\":\"overlay\",\"line_alpha\":{\"value\":1.0},\"line_color\":{\"value\":\"black\"},\"line_dash\":[4,4],\"line_width\":{\"value\":2},\"render_mode\":\"css\",\"right_units\":\"screen\",\"top_units\":\"screen\"},\"id\":\"14846\",\"type\":\"BoxAnnotation\"},{\"attributes\":{},\"id\":\"14690\",\"type\":\"LinearScale\"},{\"attributes\":{},\"id\":\"14695\",\"type\":\"BasicTicker\"},{\"attributes\":{},\"id\":\"14786\",\"type\":\"ResetTool\"},{\"attributes\":{},\"id\":\"14841\",\"type\":\"BasicTickFormatter\"},{\"attributes\":{},\"id\":\"14850\",\"type\":\"BasicTickFormatter\"},{\"attributes\":{\"overlay\":{\"id\":\"14846\",\"type\":\"BoxAnnotation\"}},\"id\":\"14706\",\"type\":\"BoxZoomTool\"},{\"attributes\":{\"dimension\":1,\"ticker\":{\"id\":\"14700\",\"type\":\"BasicTicker\"}},\"id\":\"14703\",\"type\":\"Grid\"},{\"attributes\":{},\"id\":\"14843\",\"type\":\"BasicTickFormatter\"},{\"attributes\":{},\"id\":\"14734\",\"type\":\"BasicTicker\"},{\"attributes\":{},\"id\":\"14705\",\"type\":\"WheelZoomTool\"},{\"attributes\":{},\"id\":\"14770\",\"type\":\"LinearScale\"},{\"attributes\":{},\"id\":\"14812\",\"type\":\"BasicTicker\"},{\"attributes\":{},\"id\":\"14773\",\"type\":\"BasicTicker\"},{\"attributes\":{\"bottom_units\":\"screen\",\"fill_alpha\":{\"value\":0.5},\"fill_color\":{\"value\":\"lightgrey\"},\"left_units\":\"screen\",\"level\":\"overlay\",\"line_alpha\":{\"value\":1.0},\"line_color\":{\"value\":\"black\"},\"line_dash\":[4,4],\"line_width\":{\"value\":2},\"render_mode\":\"css\",\"right_units\":\"screen\",\"top_units\":\"screen\"},\"id\":\"14855\",\"type\":\"BoxAnnotation\"},{\"attributes\":{},\"id\":\"14704\",\"type\":\"PanTool\"},{\"attributes\":{\"text\":\"FN000020. Zero length blocks: 720\"},\"id\":\"14723\",\"type\":\"Title\"},{\"attributes\":{\"background_fill_color\":{\"value\":\"#EEEEEE\"},\"below\":[{\"id\":\"14772\",\"type\":\"LinearAxis\"}],\"center\":[{\"id\":\"14776\",\"type\":\"Grid\"},{\"id\":\"14781\",\"type\":\"Grid\"}],\"left\":[{\"id\":\"14777\",\"type\":\"LinearAxis\"}],\"plot_height\":400,\"plot_width\":500,\"renderers\":[{\"id\":\"14798\",\"type\":\"GlyphRenderer\"}],\"title\":{\"id\":\"14762\",\"type\":\"Title\"},\"toolbar\":{\"id\":\"14788\",\"type\":\"Toolbar\"},\"toolbar_location\":null,\"x_range\":{\"id\":\"14764\",\"type\":\"Range1d\"},\"x_scale\":{\"id\":\"14768\",\"type\":\"LinearScale\"},\"y_range\":{\"id\":\"14766\",\"type\":\"DataRange1d\"},\"y_scale\":{\"id\":\"14770\",\"type\":\"LinearScale\"}},\"id\":\"14761\",\"subtype\":\"Figure\",\"type\":\"Plot\"},{\"attributes\":{\"active_drag\":\"auto\",\"active_inspect\":\"auto\",\"active_multi\":null,\"active_scroll\":\"auto\",\"active_tap\":\"auto\",\"tools\":[{\"id\":\"14704\",\"type\":\"PanTool\"},{\"id\":\"14705\",\"type\":\"WheelZoomTool\"},{\"id\":\"14706\",\"type\":\"BoxZoomTool\"},{\"id\":\"14707\",\"type\":\"SaveTool\"},{\"id\":\"14708\",\"type\":\"ResetTool\"},{\"id\":\"14709\",\"type\":\"HelpTool\"}]},\"id\":\"14710\",\"type\":\"Toolbar\"},{\"attributes\":{},\"id\":\"14787\",\"type\":\"HelpTool\"},{\"attributes\":{\"ticker\":{\"id\":\"14695\",\"type\":\"BasicTicker\"}},\"id\":\"14698\",\"type\":\"Grid\"},{\"attributes\":{\"callback\":null},\"id\":\"14727\",\"type\":\"DataRange1d\"},{\"attributes\":{\"bottom\":{\"value\":0},\"fill_color\":{\"value\":\"#1f77b4\"},\"left\":{\"field\":\"left\"},\"right\":{\"field\":\"right\"},\"top\":{\"field\":\"top\"}},\"id\":\"14757\",\"type\":\"Quad\"},{\"attributes\":{},\"id\":\"14853\",\"type\":\"UnionRenderers\"},{\"attributes\":{\"axis_label\":\"log10(Length)\",\"formatter\":{\"id\":\"14841\",\"type\":\"BasicTickFormatter\"},\"ticker\":{\"id\":\"14695\",\"type\":\"BasicTicker\"}},\"id\":\"14694\",\"type\":\"LinearAxis\"},{\"attributes\":{\"ticker\":{\"id\":\"14812\",\"type\":\"BasicTicker\"}},\"id\":\"14815\",\"type\":\"Grid\"},{\"attributes\":{\"ticker\":{\"id\":\"14734\",\"type\":\"BasicTicker\"}},\"id\":\"14737\",\"type\":\"Grid\"},{\"attributes\":{\"callback\":null},\"id\":\"14805\",\"type\":\"DataRange1d\"},{\"attributes\":{\"dimension\":1,\"ticker\":{\"id\":\"14817\",\"type\":\"BasicTicker\"}},\"id\":\"14820\",\"type\":\"Grid\"},{\"attributes\":{\"callback\":null,\"data\":{\"left\":[0.0,0.1678813787812042,0.3357627575624084,0.5036441363436126,0.6715255151248168,0.8394068939060211,1.0072882726872252,1.1751696514684296,1.3430510302496337,1.5109324090308378,1.6788137878120422,1.8466951665932463,2.0145765453744504,2.1824579241556545,2.350339302936859,2.5182206817180632,2.6861020604992674,2.8539834392804715,3.0218648180616756,3.18974619684288,3.3576275756240843,3.5255089544052884,3.6933903331864926,3.8612717119676967,4.029153090748901,4.197034469530105,4.364915848311309,4.532797227092514,4.700678605873718,4.868559984654922,5.0364413634361265,5.204322742217331,5.372204120998535,5.540085499779739,5.707966878560943,5.875848257342147,6.043729636123351,6.211611014904555,6.37949239368576,6.5473737724669645,6.715255151248169,6.883136530029373,7.051017908810577,7.218899287591781,7.386780666372985,7.554662045154189,7.722543423935393,7.8904248027165975,8.058306181497802,8.226187560279007],\"right\":[0.1678813787812042,0.3357627575624084,0.5036441363436126,0.6715255151248168,0.8394068939060211,1.0072882726872252,1.1751696514684296,1.3430510302496337,1.5109324090308378,1.6788137878120422,1.8466951665932463,2.0145765453744504,2.1824579241556545,2.350339302936859,2.5182206817180632,2.6861020604992674,2.8539834392804715,3.0218648180616756,3.18974619684288,3.3576275756240843,3.5255089544052884,3.6933903331864926,3.8612717119676967,4.029153090748901,4.197034469530105,4.364915848311309,4.532797227092514,4.700678605873718,4.868559984654922,5.0364413634361265,5.204322742217331,5.372204120998535,5.540085499779739,5.707966878560943,5.875848257342147,6.043729636123351,6.211611014904555,6.37949239368576,6.5473737724669645,6.715255151248169,6.883136530029373,7.051017908810577,7.218899287591781,7.386780666372985,7.554662045154189,7.722543423935393,7.8904248027165975,8.058306181497802,8.226187560279007,8.39406893906021],\"top\":[199,170,83,55,66,138,127,69,18,10,5,10,10,9,11,14,6,7,6,12,4,17,15,14,18,19,30,21,12,7,4,0,0,0,0,0,0,0,0,0,0,0,0,1,1,1,3,5,8,5]},\"selected\":{\"id\":\"14872\",\"type\":\"Selection\"},\"selection_policy\":{\"id\":\"14871\",\"type\":\"UnionRenderers\"}},\"id\":\"14834\",\"type\":\"ColumnDataSource\"},{\"attributes\":{},\"id\":\"14809\",\"type\":\"LinearScale\"},{\"attributes\":{},\"id\":\"14707\",\"type\":\"SaveTool\"},{\"attributes\":{},\"id\":\"14739\",\"type\":\"BasicTicker\"},{\"attributes\":{\"tools\":[{\"id\":\"14704\",\"type\":\"PanTool\"},{\"id\":\"14705\",\"type\":\"WheelZoomTool\"},{\"id\":\"14706\",\"type\":\"BoxZoomTool\"},{\"id\":\"14707\",\"type\":\"SaveTool\"},{\"id\":\"14708\",\"type\":\"ResetTool\"},{\"id\":\"14709\",\"type\":\"HelpTool\"},{\"id\":\"14743\",\"type\":\"PanTool\"},{\"id\":\"14744\",\"type\":\"WheelZoomTool\"},{\"id\":\"14745\",\"type\":\"BoxZoomTool\"},{\"id\":\"14746\",\"type\":\"SaveTool\"},{\"id\":\"14747\",\"type\":\"ResetTool\"},{\"id\":\"14748\",\"type\":\"HelpTool\"},{\"id\":\"14782\",\"type\":\"PanTool\"},{\"id\":\"14783\",\"type\":\"WheelZoomTool\"},{\"id\":\"14784\",\"type\":\"BoxZoomTool\"},{\"id\":\"14785\",\"type\":\"SaveTool\"},{\"id\":\"14786\",\"type\":\"ResetTool\"},{\"id\":\"14787\",\"type\":\"HelpTool\"},{\"id\":\"14821\",\"type\":\"PanTool\"},{\"id\":\"14822\",\"type\":\"WheelZoomTool\"},{\"id\":\"14823\",\"type\":\"BoxZoomTool\"},{\"id\":\"14824\",\"type\":\"SaveTool\"},{\"id\":\"14825\",\"type\":\"ResetTool\"},{\"id\":\"14826\",\"type\":\"HelpTool\"}]},\"id\":\"14876\",\"type\":\"ProxyToolbar\"},{\"attributes\":{},\"id\":\"14692\",\"type\":\"LinearScale\"},{\"attributes\":{\"callback\":null,\"end\":8.815647104820972,\"start\":-0.4197927192771891},\"id\":\"14725\",\"type\":\"Range1d\"},{\"attributes\":{\"children\":[[{\"id\":\"14683\",\"subtype\":\"Figure\",\"type\":\"Plot\"},0,0],[{\"id\":\"14722\",\"subtype\":\"Figure\",\"type\":\"Plot\"},0,1],[{\"id\":\"14761\",\"subtype\":\"Figure\",\"type\":\"Plot\"},1,0],[{\"id\":\"14800\",\"subtype\":\"Figure\",\"type\":\"Plot\"},1,1]]},\"id\":\"14875\",\"type\":\"GridBox\"},{\"attributes\":{\"axis_label\":\"log10(Length)\",\"formatter\":{\"id\":\"14850\",\"type\":\"BasicTickFormatter\"},\"ticker\":{\"id\":\"14734\",\"type\":\"BasicTicker\"}},\"id\":\"14733\",\"type\":\"LinearAxis\"},{\"attributes\":{\"axis_label\":\"log10(Length)\",\"formatter\":{\"id\":\"14859\",\"type\":\"BasicTickFormatter\"},\"ticker\":{\"id\":\"14773\",\"type\":\"BasicTicker\"}},\"id\":\"14772\",\"type\":\"LinearAxis\"},{\"attributes\":{\"callback\":null,\"data\":{\"left\":[0.0,0.16790727348766687,0.33581454697533375,0.5037218204630006,0.6716290939506675,0.8395363674383344,1.0074436409260012,1.1753509144136682,1.343258187901335,1.5111654613890018,1.6790727348766687,1.8469800083643357,2.0148872818520025,2.1827945553396693,2.3507018288273365,2.5186091023150032,2.68651637580267,2.8544236492903368,3.0223309227780035,3.1902381962656707,3.3581454697533375,3.5260527432410043,3.6939600167286715,3.8618672902163382,4.029774563704005,4.197681837191672,4.3655891106793385,4.533496384167005,4.701403657654673,4.86931093114234,5.0372182046300065,5.205125478117673,5.37303275160534,5.540940025093007,5.7088472985806735,5.87675457206834,6.044661845556007,6.212569119043675,6.3804763925313415,6.548383666019008,6.716290939506675,6.884198212994342,7.0521054864820085,7.220012759969675,7.387920033457343,7.55582730694501,7.7237345804326765,7.891641853920343,8.05954912740801,8.227456400895678],\"right\":[0.16790727348766687,0.33581454697533375,0.5037218204630006,0.6716290939506675,0.8395363674383344,1.0074436409260012,1.1753509144136682,1.343258187901335,1.5111654613890018,1.6790727348766687,1.8469800083643357,2.0148872818520025,2.1827945553396693,2.3507018288273365,2.5186091023150032,2.68651637580267,2.8544236492903368,3.0223309227780035,3.1902381962656707,3.3581454697533375,3.5260527432410043,3.6939600167286715,3.8618672902163382,4.029774563704005,4.197681837191672,4.3655891106793385,4.533496384167005,4.701403657654673,4.86931093114234,5.0372182046300065,5.205125478117673,5.37303275160534,5.540940025093007,5.7088472985806735,5.87675457206834,6.044661845556007,6.212569119043675,6.3804763925313415,6.548383666019008,6.716290939506675,6.884198212994342,7.0521054864820085,7.220012759969675,7.387920033457343,7.55582730694501,7.7237345804326765,7.891641853920343,8.05954912740801,8.227456400895678,8.395363674383344],\"top\":[219,185,99,98,124,202,153,79,18,15,12,8,15,10,13,16,20,11,21,18,30,27,32,54,58,73,80,81,71,56,33,12,7,0,0,0,0,0,0,0,0,0,0,1,0,2,2,6,8,5]},\"selected\":{\"id\":\"14845\",\"type\":\"Selection\"},\"selection_policy\":{\"id\":\"14844\",\"type\":\"UnionRenderers\"}},\"id\":\"14717\",\"type\":\"ColumnDataSource\"},{\"attributes\":{},\"id\":\"14709\",\"type\":\"HelpTool\"},{\"attributes\":{\"axis_label\":\"Frequency\",\"formatter\":{\"id\":\"14870\",\"type\":\"BasicTickFormatter\"},\"ticker\":{\"id\":\"14817\",\"type\":\"BasicTicker\"}},\"id\":\"14816\",\"type\":\"LinearAxis\"},{\"attributes\":{\"callback\":null},\"id\":\"14688\",\"type\":\"DataRange1d\"},{\"attributes\":{},\"id\":\"14817\",\"type\":\"BasicTicker\"},{\"attributes\":{\"axis_label\":\"log10(Length)\",\"formatter\":{\"id\":\"14868\",\"type\":\"BasicTickFormatter\"},\"ticker\":{\"id\":\"14812\",\"type\":\"BasicTicker\"}},\"id\":\"14811\",\"type\":\"LinearAxis\"}],\"root_ids\":[\"14878\"]},\"title\":\"Bokeh Application\",\"version\":\"1.2.0\"}};\n",
       "  var render_items = [{\"docid\":\"2152ac5d-c686-42b3-80ec-f9b34a1678ce\",\"roots\":{\"14878\":\"f3b7dd56-92a0-46e1-8b97-bf5b93910295\"}}];\n",
       "  root.Bokeh.embed.embed_items_notebook(docs_json, render_items);\n",
       "\n",
       "  }\n",
       "  if (root.Bokeh !== undefined) {\n",
       "    embed_document(root);\n",
       "  } else {\n",
       "    var attempts = 0;\n",
       "    var timer = setInterval(function(root) {\n",
       "      if (root.Bokeh !== undefined) {\n",
       "        embed_document(root);\n",
       "        clearInterval(timer);\n",
       "      }\n",
       "      attempts++;\n",
       "      if (attempts > 100) {\n",
       "        console.log(\"Bokeh: ERROR: Unable to run BokehJS code because BokehJS library is missing\");\n",
       "        clearInterval(timer);\n",
       "      }\n",
       "    }, 10, root)\n",
       "  }\n",
       "})(window);"
      ],
      "application/vnd.bokehjs_exec.v0+json": ""
     },
     "metadata": {
      "application/vnd.bokehjs_exec.v0+json": {
       "id": "14878"
      }
     },
     "output_type": "display_data"
    }
   ],
   "source": [
    "show(gridplot(plot_list, ncols=2, plot_width=500, plot_height=400))"
   ]
  },
  {
   "cell_type": "code",
   "execution_count": null,
   "id": "7ec69e1a-32fb-4749-8037-33c5db3b7e4e",
   "metadata": {},
   "outputs": [],
   "source": []
  }
 ],
 "metadata": {
  "kernelspec": {
   "display_name": "Python [conda env:fargen-1-exome]",
   "language": "python",
   "name": "conda-env-fargen-1-exome-py"
  },
  "language_info": {
   "codemirror_mode": {
    "name": "ipython",
    "version": 3
   },
   "file_extension": ".py",
   "mimetype": "text/x-python",
   "name": "python",
   "nbconvert_exporter": "python",
   "pygments_lexer": "ipython3",
   "version": "3.7.10"
  }
 },
 "nbformat": 4,
 "nbformat_minor": 5
}
