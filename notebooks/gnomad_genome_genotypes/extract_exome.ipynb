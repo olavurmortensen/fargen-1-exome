{
 "cells": [
  {
   "cell_type": "markdown",
   "id": "middle-strand",
   "metadata": {},
   "source": [
    "# Get the exome from the gnomAD genome data"
   ]
  },
  {
   "cell_type": "code",
   "execution_count": 1,
   "id": "organized-engineering",
   "metadata": {},
   "outputs": [
    {
     "name": "stderr",
     "output_type": "stream",
     "text": [
      "Running on Apache Spark version 2.4.1\n",
      "SparkUI available at http://hms-beagle-7889d4ff4c-6wxtc:4041\n",
      "Welcome to\n",
      "     __  __     <>__\n",
      "    / /_/ /__  __/ /\n",
      "   / __  / _ `/ / /\n",
      "  /_/ /_/\\_,_/_/_/   version 0.2.61-3c86d3ba497a\n",
      "LOGGING: writing to /home/olavur/experiments/2020-11-13_fargen1_exome_analysis/fargen-1-exome/notebooks/gnomad_genome_genotypes/hail-20210323-1501-0.2.61-3c86d3ba497a.log\n"
     ]
    }
   ],
   "source": [
    "import hail as hl\n",
    "hl.init(spark_conf={'spark.driver.memory': '100g', 'spark.local.dir': '/home/olavur/tmp'})"
   ]
  },
  {
   "cell_type": "code",
   "execution_count": 2,
   "id": "strategic-practice",
   "metadata": {},
   "outputs": [],
   "source": [
    "BASE_DIR = '/home/olavur/experiments/2020-11-13_fargen1_exome_analysis'\n",
    "RESOURCES_DIR = '/non-fargen/resources'"
   ]
  },
  {
   "cell_type": "markdown",
   "id": "anonymous-notification",
   "metadata": {},
   "source": [
    "## Load gnomAD data"
   ]
  },
  {
   "cell_type": "code",
   "execution_count": 3,
   "id": "acknowledged-franchise",
   "metadata": {},
   "outputs": [],
   "source": [
    "gnomad_mt = hl.read_matrix_table(RESOURCES_DIR + '/gnomAD/gnomad.genomes.v3.1.hgdp_1kg_subset_dense.mt')"
   ]
  },
  {
   "cell_type": "code",
   "execution_count": 4,
   "id": "careful-armor",
   "metadata": {},
   "outputs": [
    {
     "name": "stdout",
     "output_type": "stream",
     "text": [
      "Number of variants: 175312130\n",
      "Number of samples: 3942\n"
     ]
    }
   ],
   "source": [
    "n_variants, n_samples = gnomad_mt.count()\n",
    "print('Number of variants: ' + str(n_variants))\n",
    "print('Number of samples: ' + str(n_samples))"
   ]
  },
  {
   "cell_type": "markdown",
   "id": "periodic-executive",
   "metadata": {},
   "source": [
    "## Load exome target BED file\n",
    "\n",
    "Load the SureSelect Human All Exon V6 UTR target BED file, which is used in the FarGen Phase I exome sequencing."
   ]
  },
  {
   "cell_type": "code",
   "execution_count": 5,
   "id": "classified-copyright",
   "metadata": {},
   "outputs": [
    {
     "name": "stderr",
     "output_type": "stream",
     "text": [
      "2021-03-23 15:05:30 Hail: INFO: Reading table without type imputation\n",
      "  Loading field 'f0' as type str (user-supplied)\n",
      "  Loading field 'f1' as type int32 (user-supplied)\n",
      "  Loading field 'f2' as type int32 (user-supplied)\n",
      "  Loading field 'f3' as type str (user-supplied)\n"
     ]
    }
   ],
   "source": [
    "interval_ht = hl.import_bed(RESOURCES_DIR + '/sureselect_human_all_exon_v6_utr_grch38/S07604624_Padded.bed', reference_genome='GRCh38')"
   ]
  },
  {
   "cell_type": "markdown",
   "id": "opposed-combat",
   "metadata": {},
   "source": [
    "## Filter data\n",
    "\n",
    "### Filter poor quality variants\n",
    "\n",
    "Filter the variants based on the AC0 and RF filters, described on the [gnomAD webiste](https://gnomad.broadinstitute.org/faq#whats-the-difference-between-gnomad-v2-and-v3) as follows:\n",
    "\n",
    "* AC0: The allele count is zero after filtering out low-confidence genotypes (GQ < 20; DP < 10; and AB < 0.2 for het calls)\n",
    "* RF (gnomAD v2 only): Failed random forest filtering thresholds of 0.055 for exome SNVs, 0.206 for exome indels, 0.263 for genome SNVs, and 0.222 for genome indels\n"
   ]
  },
  {
   "cell_type": "code",
   "execution_count": 6,
   "id": "diverse-waterproof",
   "metadata": {},
   "outputs": [],
   "source": [
    "gnomad_mt = gnomad_mt.filter_rows(~gnomad_mt.filters.contains('RF') | ~gnomad_mt.filters.contains('AC0'))"
   ]
  },
  {
   "cell_type": "markdown",
   "id": "driven-version",
   "metadata": {},
   "source": [
    "### Extract exome"
   ]
  },
  {
   "cell_type": "code",
   "execution_count": 7,
   "id": "heavy-label",
   "metadata": {},
   "outputs": [],
   "source": [
    "gnomad_exome_mt = gnomad_mt.filter_rows(hl.is_defined(interval_ht[gnomad_mt.locus]))"
   ]
  },
  {
   "cell_type": "code",
   "execution_count": 9,
   "id": "laughing-hometown",
   "metadata": {},
   "outputs": [
    {
     "name": "stderr",
     "output_type": "stream",
     "text": [
      "2021-03-23 15:22:31 Hail: INFO: Coerced sorted dataset\n"
     ]
    },
    {
     "name": "stdout",
     "output_type": "stream",
     "text": [
      "Number of variants: 7094228\n",
      "Number of samples: 3942\n"
     ]
    }
   ],
   "source": [
    "n_variants, n_samples = gnomad_exome_mt.count()\n",
    "print('Number of variants: ' + str(n_variants))\n",
    "print('Number of samples: ' + str(n_samples))"
   ]
  },
  {
   "cell_type": "markdown",
   "id": "painful-reverse",
   "metadata": {},
   "source": [
    "## Write data to disk"
   ]
  },
  {
   "cell_type": "code",
   "execution_count": 10,
   "id": "arabic-patrol",
   "metadata": {},
   "outputs": [
    {
     "name": "stderr",
     "output_type": "stream",
     "text": [
      "2021-03-23 15:35:19 Hail: INFO: Coerced sorted dataset\n",
      "2021-03-23 16:47:06 Hail: INFO: wrote matrix table with 7094228 rows and 3942 columns in 115375 partitions to /non-fargen/resources/gnomAD/gnomad.genomes.v3.1.hgdp_1kg_subset_dense_EXOME_HIGH_QUALITY.mt\n",
      "    Total size: 99.22 GiB\n",
      "    * Rows/entries: 99.22 GiB\n",
      "    * Columns: 1.08 MiB\n",
      "    * Globals: 7.12 KiB\n",
      "    * Smallest partition: 0 rows (20.00 B)\n",
      "    * Largest partition:  14831 rows (135.42 MiB)\n"
     ]
    }
   ],
   "source": [
    "if True:\n",
    "    gnomad_exome_mt.write(RESOURCES_DIR + '/gnomAD/gnomad.genomes.v3.1.hgdp_1kg_subset_dense_EXOME_HIGH_QUALITY.mt', overwrite=True)"
   ]
  },
  {
   "cell_type": "code",
   "execution_count": null,
   "id": "monetary-termination",
   "metadata": {},
   "outputs": [],
   "source": []
  }
 ],
 "metadata": {
  "kernelspec": {
   "display_name": "Python [conda env:fargen-1-exome]",
   "language": "python",
   "name": "conda-env-fargen-1-exome-py"
  },
  "language_info": {
   "codemirror_mode": {
    "name": "ipython",
    "version": 3
   },
   "file_extension": ".py",
   "mimetype": "text/x-python",
   "name": "python",
   "nbconvert_exporter": "python",
   "pygments_lexer": "ipython3",
   "version": "3.7.12"
  }
 },
 "nbformat": 4,
 "nbformat_minor": 5
}
