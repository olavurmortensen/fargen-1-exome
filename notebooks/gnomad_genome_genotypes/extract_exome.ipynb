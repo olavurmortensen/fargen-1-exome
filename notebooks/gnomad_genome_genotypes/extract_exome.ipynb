{
 "cells": [
  {
   "cell_type": "markdown",
   "id": "ranking-stranger",
   "metadata": {},
   "source": [
    "# Get the exome from the gnomAD genome data"
   ]
  },
  {
   "cell_type": "code",
   "execution_count": 1,
   "id": "biological-siemens",
   "metadata": {},
   "outputs": [
    {
     "name": "stderr",
     "output_type": "stream",
     "text": [
      "Running on Apache Spark version 2.4.1\n",
      "SparkUI available at http://hms-beagle-7889d4ff4c-6wxtc:4040\n",
      "Welcome to\n",
      "     __  __     <>__\n",
      "    / /_/ /__  __/ /\n",
      "   / __  / _ `/ / /\n",
      "  /_/ /_/\\_,_/_/_/   version 0.2.61-3c86d3ba497a\n",
      "LOGGING: writing to /home/olavur/experiments/2020-11-13_fargen1_exome_analysis/fargen-1-exome/notebooks/gnomad_genome_genotypes/hail-20210323-1048-0.2.61-3c86d3ba497a.log\n"
     ]
    }
   ],
   "source": [
    "import hail as hl\n",
    "hl.init(spark_conf={'spark.driver.memory': '100g', 'spark.local.dir': '/home/olavur/tmp'})"
   ]
  },
  {
   "cell_type": "code",
   "execution_count": 2,
   "id": "loaded-interference",
   "metadata": {},
   "outputs": [],
   "source": [
    "BASE_DIR = '/home/olavur/experiments/2020-11-13_fargen1_exome_analysis'\n",
    "RESOURCES_DIR = '/non-fargen/resources'"
   ]
  },
  {
   "cell_type": "markdown",
   "id": "academic-union",
   "metadata": {},
   "source": [
    "## Load gnomAD data"
   ]
  },
  {
   "cell_type": "code",
   "execution_count": 6,
   "id": "fancy-implementation",
   "metadata": {},
   "outputs": [],
   "source": [
    "gnomad_mt = hl.read_matrix_table(RESOURCES_DIR + '/gnomAD/gnomad.genomes.v3.1.hgdp_1kg_subset_dense.mt')"
   ]
  },
  {
   "cell_type": "code",
   "execution_count": 4,
   "id": "casual-celebrity",
   "metadata": {},
   "outputs": [
    {
     "data": {
      "text/plain": [
       "(175312130, 3942)"
      ]
     },
     "execution_count": 4,
     "metadata": {},
     "output_type": "execute_result"
    }
   ],
   "source": [
    "gnomad_mt.count()"
   ]
  },
  {
   "cell_type": "markdown",
   "id": "returning-banana",
   "metadata": {},
   "source": [
    "## Load exome target BED file\n",
    "\n",
    "Load the SureSelect Human All Exon V6 UTR target BED file, which is used in the FarGen Phase I exome sequencing."
   ]
  },
  {
   "cell_type": "code",
   "execution_count": 7,
   "id": "domestic-toner",
   "metadata": {},
   "outputs": [
    {
     "name": "stderr",
     "output_type": "stream",
     "text": [
      "2021-03-23 10:50:07 Hail: INFO: Reading table without type imputation\n",
      "  Loading field 'f0' as type str (user-supplied)\n",
      "  Loading field 'f1' as type int32 (user-supplied)\n",
      "  Loading field 'f2' as type int32 (user-supplied)\n",
      "  Loading field 'f3' as type str (user-supplied)\n"
     ]
    }
   ],
   "source": [
    "interval_ht = hl.import_bed(RESOURCES_DIR + '/sureselect_human_all_exon_v6_utr_grch38/S07604624_Padded.bed', reference_genome='GRCh38')"
   ]
  },
  {
   "cell_type": "markdown",
   "id": "indoor-import",
   "metadata": {},
   "source": [
    "## Filter data\n",
    "\n",
    "Keep only sites that are present in the target regions."
   ]
  },
  {
   "cell_type": "code",
   "execution_count": 8,
   "id": "pleasant-throat",
   "metadata": {},
   "outputs": [],
   "source": [
    "gnomad_exome_mt = gnomad_mt.filter_rows(hl.is_defined(interval_ht[gnomad_mt.locus]))"
   ]
  },
  {
   "cell_type": "code",
   "execution_count": 9,
   "id": "legal-tribute",
   "metadata": {},
   "outputs": [
    {
     "name": "stderr",
     "output_type": "stream",
     "text": [
      "2021-03-23 10:50:50 Hail: INFO: Coerced sorted dataset\n"
     ]
    },
    {
     "data": {
      "text/plain": [
       "(7094228, 3942)"
      ]
     },
     "execution_count": 9,
     "metadata": {},
     "output_type": "execute_result"
    }
   ],
   "source": [
    "gnomad_exome_mt.count()"
   ]
  },
  {
   "cell_type": "markdown",
   "id": "proud-amsterdam",
   "metadata": {},
   "source": [
    "The gnomAD genome data is 2.4TB, so we would this filtered exome data to be (in GB):"
   ]
  },
  {
   "cell_type": "code",
   "execution_count": 12,
   "id": "marked-discretion",
   "metadata": {},
   "outputs": [
    {
     "data": {
      "text/plain": [
       "97.11904817995195"
      ]
     },
     "execution_count": 12,
     "metadata": {},
     "output_type": "execute_result"
    }
   ],
   "source": [
    "2400 * 7094228 / 175312130"
   ]
  },
  {
   "cell_type": "markdown",
   "id": "verified-hampshire",
   "metadata": {},
   "source": [
    "## Write data to disk"
   ]
  },
  {
   "cell_type": "code",
   "execution_count": 13,
   "id": "color-screw",
   "metadata": {},
   "outputs": [
    {
     "name": "stderr",
     "output_type": "stream",
     "text": [
      "2021-03-23 11:03:59 Hail: INFO: Coerced sorted dataset\n",
      "2021-03-23 12:11:18 Hail: INFO: wrote matrix table with 7094228 rows and 3942 columns in 115375 partitions to /non-fargen/resources/gnomAD/gnomad.genomes.v3.1.hgdp_1kg_subset_dense_EXOME.mt\n",
      "    Total size: 99.22 GiB\n",
      "    * Rows/entries: 99.22 GiB\n",
      "    * Columns: 1.08 MiB\n",
      "    * Globals: 7.12 KiB\n",
      "    * Smallest partition: 0 rows (20.00 B)\n",
      "    * Largest partition:  14831 rows (135.42 MiB)\n"
     ]
    }
   ],
   "source": [
    "if False:\n",
    "    gnomad_exome_mt.write(RESOURCES_DIR + '/gnomAD/gnomad.genomes.v3.1.hgdp_1kg_subset_dense_EXOME.mt', overwrite=True)"
   ]
  },
  {
   "cell_type": "code",
   "execution_count": null,
   "id": "stable-approach",
   "metadata": {},
   "outputs": [],
   "source": []
  }
 ],
 "metadata": {
  "kernelspec": {
   "display_name": "Python [conda env:fargen-1-exome]",
   "language": "python",
   "name": "conda-env-fargen-1-exome-py"
  },
  "language_info": {
   "codemirror_mode": {
    "name": "ipython",
    "version": 3
   },
   "file_extension": ".py",
   "mimetype": "text/x-python",
   "name": "python",
   "nbconvert_exporter": "python",
   "pygments_lexer": "ipython3",
   "version": "3.7.10"
  }
 },
 "nbformat": 4,
 "nbformat_minor": 5
}
