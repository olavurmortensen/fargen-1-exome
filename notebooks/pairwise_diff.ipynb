{
 "cells": [
  {
   "cell_type": "markdown",
   "metadata": {},
   "source": [
    "# Average number of pairwise differences"
   ]
  },
  {
   "cell_type": "code",
   "execution_count": 1,
   "metadata": {},
   "outputs": [
    {
     "name": "stderr",
     "output_type": "stream",
     "text": [
      "Running on Apache Spark version 2.4.6\n",
      "SparkUI available at http://hms-beagle-5466c684ff-2l8nm:4040\n",
      "Welcome to\n",
      "     __  __     <>__\n",
      "    / /_/ /__  __/ /\n",
      "   / __  / _ `/ / /\n",
      "  /_/ /_/\\_,_/_/_/   version 0.2.58-3f304aae6ce2\n",
      "LOGGING: writing to /home/olavur/experiments/2020-11-13_fargen1_exome_analysis/fargen-1-exome/notebooks/hail-20201201-1248-0.2.58-3f304aae6ce2.log\n"
     ]
    }
   ],
   "source": [
    "import hail as hl\n",
    "hl.init()"
   ]
  },
  {
   "cell_type": "code",
   "execution_count": 2,
   "metadata": {},
   "outputs": [
    {
     "data": {
      "text/html": [
       "\n",
       "    <div class=\"bk-root\">\n",
       "        <a href=\"https://bokeh.pydata.org\" target=\"_blank\" class=\"bk-logo bk-logo-small bk-logo-notebook\"></a>\n",
       "        <span id=\"1001\">Loading BokehJS ...</span>\n",
       "    </div>"
      ]
     },
     "metadata": {},
     "output_type": "display_data"
    },
    {
     "data": {
      "application/javascript": [
       "\n",
       "(function(root) {\n",
       "  function now() {\n",
       "    return new Date();\n",
       "  }\n",
       "\n",
       "  var force = true;\n",
       "\n",
       "  if (typeof root._bokeh_onload_callbacks === \"undefined\" || force === true) {\n",
       "    root._bokeh_onload_callbacks = [];\n",
       "    root._bokeh_is_loading = undefined;\n",
       "  }\n",
       "\n",
       "  var JS_MIME_TYPE = 'application/javascript';\n",
       "  var HTML_MIME_TYPE = 'text/html';\n",
       "  var EXEC_MIME_TYPE = 'application/vnd.bokehjs_exec.v0+json';\n",
       "  var CLASS_NAME = 'output_bokeh rendered_html';\n",
       "\n",
       "  /**\n",
       "   * Render data to the DOM node\n",
       "   */\n",
       "  function render(props, node) {\n",
       "    var script = document.createElement(\"script\");\n",
       "    node.appendChild(script);\n",
       "  }\n",
       "\n",
       "  /**\n",
       "   * Handle when an output is cleared or removed\n",
       "   */\n",
       "  function handleClearOutput(event, handle) {\n",
       "    var cell = handle.cell;\n",
       "\n",
       "    var id = cell.output_area._bokeh_element_id;\n",
       "    var server_id = cell.output_area._bokeh_server_id;\n",
       "    // Clean up Bokeh references\n",
       "    if (id != null && id in Bokeh.index) {\n",
       "      Bokeh.index[id].model.document.clear();\n",
       "      delete Bokeh.index[id];\n",
       "    }\n",
       "\n",
       "    if (server_id !== undefined) {\n",
       "      // Clean up Bokeh references\n",
       "      var cmd = \"from bokeh.io.state import curstate; print(curstate().uuid_to_server['\" + server_id + \"'].get_sessions()[0].document.roots[0]._id)\";\n",
       "      cell.notebook.kernel.execute(cmd, {\n",
       "        iopub: {\n",
       "          output: function(msg) {\n",
       "            var id = msg.content.text.trim();\n",
       "            if (id in Bokeh.index) {\n",
       "              Bokeh.index[id].model.document.clear();\n",
       "              delete Bokeh.index[id];\n",
       "            }\n",
       "          }\n",
       "        }\n",
       "      });\n",
       "      // Destroy server and session\n",
       "      var cmd = \"import bokeh.io.notebook as ion; ion.destroy_server('\" + server_id + \"')\";\n",
       "      cell.notebook.kernel.execute(cmd);\n",
       "    }\n",
       "  }\n",
       "\n",
       "  /**\n",
       "   * Handle when a new output is added\n",
       "   */\n",
       "  function handleAddOutput(event, handle) {\n",
       "    var output_area = handle.output_area;\n",
       "    var output = handle.output;\n",
       "\n",
       "    // limit handleAddOutput to display_data with EXEC_MIME_TYPE content only\n",
       "    if ((output.output_type != \"display_data\") || (!output.data.hasOwnProperty(EXEC_MIME_TYPE))) {\n",
       "      return\n",
       "    }\n",
       "\n",
       "    var toinsert = output_area.element.find(\".\" + CLASS_NAME.split(' ')[0]);\n",
       "\n",
       "    if (output.metadata[EXEC_MIME_TYPE][\"id\"] !== undefined) {\n",
       "      toinsert[toinsert.length - 1].firstChild.textContent = output.data[JS_MIME_TYPE];\n",
       "      // store reference to embed id on output_area\n",
       "      output_area._bokeh_element_id = output.metadata[EXEC_MIME_TYPE][\"id\"];\n",
       "    }\n",
       "    if (output.metadata[EXEC_MIME_TYPE][\"server_id\"] !== undefined) {\n",
       "      var bk_div = document.createElement(\"div\");\n",
       "      bk_div.innerHTML = output.data[HTML_MIME_TYPE];\n",
       "      var script_attrs = bk_div.children[0].attributes;\n",
       "      for (var i = 0; i < script_attrs.length; i++) {\n",
       "        toinsert[toinsert.length - 1].firstChild.setAttribute(script_attrs[i].name, script_attrs[i].value);\n",
       "      }\n",
       "      // store reference to server id on output_area\n",
       "      output_area._bokeh_server_id = output.metadata[EXEC_MIME_TYPE][\"server_id\"];\n",
       "    }\n",
       "  }\n",
       "\n",
       "  function register_renderer(events, OutputArea) {\n",
       "\n",
       "    function append_mime(data, metadata, element) {\n",
       "      // create a DOM node to render to\n",
       "      var toinsert = this.create_output_subarea(\n",
       "        metadata,\n",
       "        CLASS_NAME,\n",
       "        EXEC_MIME_TYPE\n",
       "      );\n",
       "      this.keyboard_manager.register_events(toinsert);\n",
       "      // Render to node\n",
       "      var props = {data: data, metadata: metadata[EXEC_MIME_TYPE]};\n",
       "      render(props, toinsert[toinsert.length - 1]);\n",
       "      element.append(toinsert);\n",
       "      return toinsert\n",
       "    }\n",
       "\n",
       "    /* Handle when an output is cleared or removed */\n",
       "    events.on('clear_output.CodeCell', handleClearOutput);\n",
       "    events.on('delete.Cell', handleClearOutput);\n",
       "\n",
       "    /* Handle when a new output is added */\n",
       "    events.on('output_added.OutputArea', handleAddOutput);\n",
       "\n",
       "    /**\n",
       "     * Register the mime type and append_mime function with output_area\n",
       "     */\n",
       "    OutputArea.prototype.register_mime_type(EXEC_MIME_TYPE, append_mime, {\n",
       "      /* Is output safe? */\n",
       "      safe: true,\n",
       "      /* Index of renderer in `output_area.display_order` */\n",
       "      index: 0\n",
       "    });\n",
       "  }\n",
       "\n",
       "  // register the mime type if in Jupyter Notebook environment and previously unregistered\n",
       "  if (root.Jupyter !== undefined) {\n",
       "    var events = require('base/js/events');\n",
       "    var OutputArea = require('notebook/js/outputarea').OutputArea;\n",
       "\n",
       "    if (OutputArea.prototype.mime_types().indexOf(EXEC_MIME_TYPE) == -1) {\n",
       "      register_renderer(events, OutputArea);\n",
       "    }\n",
       "  }\n",
       "\n",
       "  \n",
       "  if (typeof (root._bokeh_timeout) === \"undefined\" || force === true) {\n",
       "    root._bokeh_timeout = Date.now() + 5000;\n",
       "    root._bokeh_failed_load = false;\n",
       "  }\n",
       "\n",
       "  var NB_LOAD_WARNING = {'data': {'text/html':\n",
       "     \"<div style='background-color: #fdd'>\\n\"+\n",
       "     \"<p>\\n\"+\n",
       "     \"BokehJS does not appear to have successfully loaded. If loading BokehJS from CDN, this \\n\"+\n",
       "     \"may be due to a slow or bad network connection. Possible fixes:\\n\"+\n",
       "     \"</p>\\n\"+\n",
       "     \"<ul>\\n\"+\n",
       "     \"<li>re-rerun `output_notebook()` to attempt to load from CDN again, or</li>\\n\"+\n",
       "     \"<li>use INLINE resources instead, as so:</li>\\n\"+\n",
       "     \"</ul>\\n\"+\n",
       "     \"<code>\\n\"+\n",
       "     \"from bokeh.resources import INLINE\\n\"+\n",
       "     \"output_notebook(resources=INLINE)\\n\"+\n",
       "     \"</code>\\n\"+\n",
       "     \"</div>\"}};\n",
       "\n",
       "  function display_loaded() {\n",
       "    var el = document.getElementById(\"1001\");\n",
       "    if (el != null) {\n",
       "      el.textContent = \"BokehJS is loading...\";\n",
       "    }\n",
       "    if (root.Bokeh !== undefined) {\n",
       "      if (el != null) {\n",
       "        el.textContent = \"BokehJS \" + root.Bokeh.version + \" successfully loaded.\";\n",
       "      }\n",
       "    } else if (Date.now() < root._bokeh_timeout) {\n",
       "      setTimeout(display_loaded, 100)\n",
       "    }\n",
       "  }\n",
       "\n",
       "\n",
       "  function run_callbacks() {\n",
       "    try {\n",
       "      root._bokeh_onload_callbacks.forEach(function(callback) {\n",
       "        if (callback != null)\n",
       "          callback();\n",
       "      });\n",
       "    } finally {\n",
       "      delete root._bokeh_onload_callbacks\n",
       "    }\n",
       "    console.debug(\"Bokeh: all callbacks have finished\");\n",
       "  }\n",
       "\n",
       "  function load_libs(css_urls, js_urls, callback) {\n",
       "    if (css_urls == null) css_urls = [];\n",
       "    if (js_urls == null) js_urls = [];\n",
       "\n",
       "    root._bokeh_onload_callbacks.push(callback);\n",
       "    if (root._bokeh_is_loading > 0) {\n",
       "      console.debug(\"Bokeh: BokehJS is being loaded, scheduling callback at\", now());\n",
       "      return null;\n",
       "    }\n",
       "    if (js_urls == null || js_urls.length === 0) {\n",
       "      run_callbacks();\n",
       "      return null;\n",
       "    }\n",
       "    console.debug(\"Bokeh: BokehJS not loaded, scheduling load and callback at\", now());\n",
       "    root._bokeh_is_loading = css_urls.length + js_urls.length;\n",
       "\n",
       "    function on_load() {\n",
       "      root._bokeh_is_loading--;\n",
       "      if (root._bokeh_is_loading === 0) {\n",
       "        console.debug(\"Bokeh: all BokehJS libraries/stylesheets loaded\");\n",
       "        run_callbacks()\n",
       "      }\n",
       "    }\n",
       "\n",
       "    function on_error() {\n",
       "      console.error(\"failed to load \" + url);\n",
       "    }\n",
       "\n",
       "    for (var i = 0; i < css_urls.length; i++) {\n",
       "      var url = css_urls[i];\n",
       "      const element = document.createElement(\"link\");\n",
       "      element.onload = on_load;\n",
       "      element.onerror = on_error;\n",
       "      element.rel = \"stylesheet\";\n",
       "      element.type = \"text/css\";\n",
       "      element.href = url;\n",
       "      console.debug(\"Bokeh: injecting link tag for BokehJS stylesheet: \", url);\n",
       "      document.body.appendChild(element);\n",
       "    }\n",
       "\n",
       "    for (var i = 0; i < js_urls.length; i++) {\n",
       "      var url = js_urls[i];\n",
       "      var element = document.createElement('script');\n",
       "      element.onload = on_load;\n",
       "      element.onerror = on_error;\n",
       "      element.async = false;\n",
       "      element.src = url;\n",
       "      console.debug(\"Bokeh: injecting script tag for BokehJS library: \", url);\n",
       "      document.head.appendChild(element);\n",
       "    }\n",
       "  };var element = document.getElementById(\"1001\");\n",
       "  if (element == null) {\n",
       "    console.error(\"Bokeh: ERROR: autoload.js configured with elementid '1001' but no matching script tag was found. \")\n",
       "    return false;\n",
       "  }\n",
       "\n",
       "  function inject_raw_css(css) {\n",
       "    const element = document.createElement(\"style\");\n",
       "    element.appendChild(document.createTextNode(css));\n",
       "    document.body.appendChild(element);\n",
       "  }\n",
       "\n",
       "  var js_urls = [\"https://cdn.pydata.org/bokeh/release/bokeh-1.2.0.min.js\", \"https://cdn.pydata.org/bokeh/release/bokeh-widgets-1.2.0.min.js\", \"https://cdn.pydata.org/bokeh/release/bokeh-tables-1.2.0.min.js\", \"https://cdn.pydata.org/bokeh/release/bokeh-gl-1.2.0.min.js\"];\n",
       "  var css_urls = [\"https://cdn.pydata.org/bokeh/release/bokeh-1.2.0.min.css\", \"https://cdn.pydata.org/bokeh/release/bokeh-widgets-1.2.0.min.css\", \"https://cdn.pydata.org/bokeh/release/bokeh-tables-1.2.0.min.css\"];\n",
       "\n",
       "  var inline_js = [\n",
       "    function(Bokeh) {\n",
       "      Bokeh.set_log_level(\"info\");\n",
       "    },\n",
       "    \n",
       "    function(Bokeh) {\n",
       "      \n",
       "    },\n",
       "    function(Bokeh) {} // ensure no trailing comma for IE\n",
       "  ];\n",
       "\n",
       "  function run_inline_js() {\n",
       "    \n",
       "    if ((root.Bokeh !== undefined) || (force === true)) {\n",
       "      for (var i = 0; i < inline_js.length; i++) {\n",
       "        inline_js[i].call(root, root.Bokeh);\n",
       "      }if (force === true) {\n",
       "        display_loaded();\n",
       "      }} else if (Date.now() < root._bokeh_timeout) {\n",
       "      setTimeout(run_inline_js, 100);\n",
       "    } else if (!root._bokeh_failed_load) {\n",
       "      console.log(\"Bokeh: BokehJS failed to load within specified timeout.\");\n",
       "      root._bokeh_failed_load = true;\n",
       "    } else if (force !== true) {\n",
       "      var cell = $(document.getElementById(\"1001\")).parents('.cell').data().cell;\n",
       "      cell.output_area.append_execute_result(NB_LOAD_WARNING)\n",
       "    }\n",
       "\n",
       "  }\n",
       "\n",
       "  if (root._bokeh_is_loading === 0) {\n",
       "    console.debug(\"Bokeh: BokehJS loaded, going straight to plotting\");\n",
       "    run_inline_js();\n",
       "  } else {\n",
       "    load_libs(css_urls, js_urls, function() {\n",
       "      console.debug(\"Bokeh: BokehJS plotting callback run at\", now());\n",
       "      run_inline_js();\n",
       "    });\n",
       "  }\n",
       "}(window));"
      ],
      "application/vnd.bokehjs_load.v0+json": "\n(function(root) {\n  function now() {\n    return new Date();\n  }\n\n  var force = true;\n\n  if (typeof root._bokeh_onload_callbacks === \"undefined\" || force === true) {\n    root._bokeh_onload_callbacks = [];\n    root._bokeh_is_loading = undefined;\n  }\n\n  \n\n  \n  if (typeof (root._bokeh_timeout) === \"undefined\" || force === true) {\n    root._bokeh_timeout = Date.now() + 5000;\n    root._bokeh_failed_load = false;\n  }\n\n  var NB_LOAD_WARNING = {'data': {'text/html':\n     \"<div style='background-color: #fdd'>\\n\"+\n     \"<p>\\n\"+\n     \"BokehJS does not appear to have successfully loaded. If loading BokehJS from CDN, this \\n\"+\n     \"may be due to a slow or bad network connection. Possible fixes:\\n\"+\n     \"</p>\\n\"+\n     \"<ul>\\n\"+\n     \"<li>re-rerun `output_notebook()` to attempt to load from CDN again, or</li>\\n\"+\n     \"<li>use INLINE resources instead, as so:</li>\\n\"+\n     \"</ul>\\n\"+\n     \"<code>\\n\"+\n     \"from bokeh.resources import INLINE\\n\"+\n     \"output_notebook(resources=INLINE)\\n\"+\n     \"</code>\\n\"+\n     \"</div>\"}};\n\n  function display_loaded() {\n    var el = document.getElementById(\"1001\");\n    if (el != null) {\n      el.textContent = \"BokehJS is loading...\";\n    }\n    if (root.Bokeh !== undefined) {\n      if (el != null) {\n        el.textContent = \"BokehJS \" + root.Bokeh.version + \" successfully loaded.\";\n      }\n    } else if (Date.now() < root._bokeh_timeout) {\n      setTimeout(display_loaded, 100)\n    }\n  }\n\n\n  function run_callbacks() {\n    try {\n      root._bokeh_onload_callbacks.forEach(function(callback) {\n        if (callback != null)\n          callback();\n      });\n    } finally {\n      delete root._bokeh_onload_callbacks\n    }\n    console.debug(\"Bokeh: all callbacks have finished\");\n  }\n\n  function load_libs(css_urls, js_urls, callback) {\n    if (css_urls == null) css_urls = [];\n    if (js_urls == null) js_urls = [];\n\n    root._bokeh_onload_callbacks.push(callback);\n    if (root._bokeh_is_loading > 0) {\n      console.debug(\"Bokeh: BokehJS is being loaded, scheduling callback at\", now());\n      return null;\n    }\n    if (js_urls == null || js_urls.length === 0) {\n      run_callbacks();\n      return null;\n    }\n    console.debug(\"Bokeh: BokehJS not loaded, scheduling load and callback at\", now());\n    root._bokeh_is_loading = css_urls.length + js_urls.length;\n\n    function on_load() {\n      root._bokeh_is_loading--;\n      if (root._bokeh_is_loading === 0) {\n        console.debug(\"Bokeh: all BokehJS libraries/stylesheets loaded\");\n        run_callbacks()\n      }\n    }\n\n    function on_error() {\n      console.error(\"failed to load \" + url);\n    }\n\n    for (var i = 0; i < css_urls.length; i++) {\n      var url = css_urls[i];\n      const element = document.createElement(\"link\");\n      element.onload = on_load;\n      element.onerror = on_error;\n      element.rel = \"stylesheet\";\n      element.type = \"text/css\";\n      element.href = url;\n      console.debug(\"Bokeh: injecting link tag for BokehJS stylesheet: \", url);\n      document.body.appendChild(element);\n    }\n\n    for (var i = 0; i < js_urls.length; i++) {\n      var url = js_urls[i];\n      var element = document.createElement('script');\n      element.onload = on_load;\n      element.onerror = on_error;\n      element.async = false;\n      element.src = url;\n      console.debug(\"Bokeh: injecting script tag for BokehJS library: \", url);\n      document.head.appendChild(element);\n    }\n  };var element = document.getElementById(\"1001\");\n  if (element == null) {\n    console.error(\"Bokeh: ERROR: autoload.js configured with elementid '1001' but no matching script tag was found. \")\n    return false;\n  }\n\n  function inject_raw_css(css) {\n    const element = document.createElement(\"style\");\n    element.appendChild(document.createTextNode(css));\n    document.body.appendChild(element);\n  }\n\n  var js_urls = [\"https://cdn.pydata.org/bokeh/release/bokeh-1.2.0.min.js\", \"https://cdn.pydata.org/bokeh/release/bokeh-widgets-1.2.0.min.js\", \"https://cdn.pydata.org/bokeh/release/bokeh-tables-1.2.0.min.js\", \"https://cdn.pydata.org/bokeh/release/bokeh-gl-1.2.0.min.js\"];\n  var css_urls = [\"https://cdn.pydata.org/bokeh/release/bokeh-1.2.0.min.css\", \"https://cdn.pydata.org/bokeh/release/bokeh-widgets-1.2.0.min.css\", \"https://cdn.pydata.org/bokeh/release/bokeh-tables-1.2.0.min.css\"];\n\n  var inline_js = [\n    function(Bokeh) {\n      Bokeh.set_log_level(\"info\");\n    },\n    \n    function(Bokeh) {\n      \n    },\n    function(Bokeh) {} // ensure no trailing comma for IE\n  ];\n\n  function run_inline_js() {\n    \n    if ((root.Bokeh !== undefined) || (force === true)) {\n      for (var i = 0; i < inline_js.length; i++) {\n        inline_js[i].call(root, root.Bokeh);\n      }if (force === true) {\n        display_loaded();\n      }} else if (Date.now() < root._bokeh_timeout) {\n      setTimeout(run_inline_js, 100);\n    } else if (!root._bokeh_failed_load) {\n      console.log(\"Bokeh: BokehJS failed to load within specified timeout.\");\n      root._bokeh_failed_load = true;\n    } else if (force !== true) {\n      var cell = $(document.getElementById(\"1001\")).parents('.cell').data().cell;\n      cell.output_area.append_execute_result(NB_LOAD_WARNING)\n    }\n\n  }\n\n  if (root._bokeh_is_loading === 0) {\n    console.debug(\"Bokeh: BokehJS loaded, going straight to plotting\");\n    run_inline_js();\n  } else {\n    load_libs(css_urls, js_urls, function() {\n      console.debug(\"Bokeh: BokehJS plotting callback run at\", now());\n      run_inline_js();\n    });\n  }\n}(window));"
     },
     "metadata": {},
     "output_type": "display_data"
    }
   ],
   "source": [
    "from bokeh.io import show, output_notebook\n",
    "from bokeh.layouts import gridplot\n",
    "output_notebook()"
   ]
  },
  {
   "cell_type": "code",
   "execution_count": 74,
   "metadata": {},
   "outputs": [],
   "source": [
    "mt = hl.read_matrix_table('/home/olavur/experiments/2020-11-13_fargen1_exome_analysis/data/mt/filtered.mt')"
   ]
  },
  {
   "cell_type": "markdown",
   "metadata": {},
   "source": [
    "Calculate the allele dosage."
   ]
  },
  {
   "cell_type": "markdown",
   "metadata": {},
   "source": [
    "## Dosage difference\n",
    "\n",
    "Calculate differences between to samples at a site as the difference in number of alternate alleles (dosage).\n",
    "\n",
    "Confusion matrix:\n",
    "\n",
    "|  | 0 | 1 | 2\n",
    "---|---|---|---|\n",
    "0  | 0  | 1  | 2\n",
    "1  | 1  | 0  | 1\n",
    "2  | 2  | 1  | 0\n"
   ]
  },
  {
   "cell_type": "code",
   "execution_count": 117,
   "metadata": {},
   "outputs": [],
   "source": [
    "mt = mt.annotate_entries(DS=mt.GT[0] + mt.GT[1])"
   ]
  },
  {
   "cell_type": "code",
   "execution_count": 5,
   "metadata": {},
   "outputs": [],
   "source": [
    "mt_small = mt.sample_rows(0.00001)"
   ]
  },
  {
   "cell_type": "code",
   "execution_count": 29,
   "metadata": {},
   "outputs": [],
   "source": [
    "ht = mt.localize_entries(\"entries\", \"cols\")\n",
    "ht = ht.annotate(sum_of_pairwise_diffs = hl.sum(\n",
    "        hl.range(0, hl.len(ht.entries))\n",
    "            .flatmap(\n",
    "                lambda i: hl.range(0, i).map(lambda j: hl.abs(ht.entries[i].DS - ht.entries[j].DS)))))\n",
    "ht = ht.annotate(avg_pairwise_diff=ht.sum_of_pairwise_diffs/(hl.len(ht.entries) * (hl.len(ht.entries) - 1) / 2))"
   ]
  },
  {
   "cell_type": "code",
   "execution_count": null,
   "metadata": {},
   "outputs": [],
   "source": []
  },
  {
   "cell_type": "code",
   "execution_count": 30,
   "metadata": {},
   "outputs": [
    {
     "data": {
      "text/plain": [
       "[0.0416666679084301,\n",
       " 0.11968085169792175,\n",
       " 0.1560283750295639,\n",
       " 0.31117022037506104,\n",
       " 0.29609930515289307]"
      ]
     },
     "execution_count": 30,
     "metadata": {},
     "output_type": "execute_result"
    }
   ],
   "source": [
    "ht.avg_pairwise_diff.take(5)"
   ]
  },
  {
   "cell_type": "markdown",
   "metadata": {},
   "source": [
    "## Nucleotide diversity"
   ]
  },
  {
   "cell_type": "code",
   "execution_count": 296,
   "metadata": {},
   "outputs": [],
   "source": [
    "def get_mt_allele(mt, allele):\n",
    "    '''\n",
    "    Replace the GT call field with the specified allele. Add the allele number to\n",
    "    the column key.\n",
    "    '''\n",
    "    mt2 = mt.transmute_entries(GT=mt.GT[allele])\n",
    "    mt2 = mt2.key_cols_by(s=mt2.s + '_' + str(allele))\n",
    "    return mt2\n",
    "\n",
    "def explode_alleles(mt):\n",
    "    '''\n",
    "    Split each sample into the reference and alternate allele.\n",
    "    \n",
    "    Input:\n",
    "    mt:      MatrixTable with diallelic GT call field.\n",
    "\n",
    "    Returns:\n",
    "    MatrixTable\n",
    "    '''\n",
    "    \n",
    "    # Get a MatrixTable with the reference allele, where the sample names are\n",
    "    # appended with an \"_0\".\n",
    "    mt_ref = get_mt_allele(mt, 0)\n",
    "    # Similarly for the alternate allele.\n",
    "    mt_alt = get_mt_allele(mt, 1)\n",
    "\n",
    "    # Concatenate the samples of the two MatrixTables.\n",
    "    mt_new = mt_ref.union_cols(mt_alt)\n",
    "    \n",
    "    return mt_new"
   ]
  },
  {
   "cell_type": "code",
   "execution_count": 322,
   "metadata": {},
   "outputs": [],
   "source": [
    "mt_new = explode_alleles(mt)"
   ]
  },
  {
   "cell_type": "code",
   "execution_count": 329,
   "metadata": {},
   "outputs": [],
   "source": [
    "ht = mt_new.localize_entries(\"entries\", \"cols\")\n",
    "ht = ht.annotate(sum_of_pairwise_diffs = hl.sum(\n",
    "        hl.range(0, hl.len(ht.entries))\n",
    "            .flatmap(\n",
    "                lambda i: hl.range(0, i).map(lambda j: hl.abs(ht.entries[i].GT - ht.entries[j].GT)))))\n",
    "ht = ht.annotate(avg_pairwise_diff=ht.sum_of_pairwise_diffs/(hl.len(ht.entries) * (hl.len(ht.entries) - 1) / 2))"
   ]
  },
  {
   "cell_type": "code",
   "execution_count": 330,
   "metadata": {},
   "outputs": [
    {
     "name": "stdout",
     "output_type": "stream",
     "text": [
      "CPU times: user 29.4 ms, sys: 16.6 ms, total: 46 ms\n",
      "Wall time: 5min 22s\n"
     ]
    },
    {
     "data": {
      "text/plain": [
       "553.3932364063428"
      ]
     },
     "execution_count": 330,
     "metadata": {},
     "output_type": "execute_result"
    }
   ],
   "source": [
    "%%time\n",
    "ht.aggregate(hl.agg.mean(ht.sum_of_pairwise_diffs))"
   ]
  },
  {
   "cell_type": "code",
   "execution_count": null,
   "metadata": {},
   "outputs": [],
   "source": []
  },
  {
   "cell_type": "markdown",
   "metadata": {},
   "source": [
    "## Average pairwise differences per gene"
   ]
  },
  {
   "cell_type": "code",
   "execution_count": 335,
   "metadata": {},
   "outputs": [],
   "source": [
    "ht = ht.annotate(gene=ht.info.ANN.map(lambda x: x.split('\\|')[3]))\n",
    "ht = ht.annotate(gene1=ht.gene[0])"
   ]
  },
  {
   "cell_type": "code",
   "execution_count": 348,
   "metadata": {},
   "outputs": [],
   "source": [
    "gene_stats = (ht.group_by(ht.gene1)\n",
    "                       .aggregate(pi=hl.agg.mean(ht.avg_pairwise_diff)))"
   ]
  },
  {
   "cell_type": "code",
   "execution_count": 349,
   "metadata": {},
   "outputs": [
    {
     "name": "stderr",
     "output_type": "stream",
     "text": [
      "2020-12-02 13:46:29 Hail: INFO: Ordering unsorted dataset with network shuffle\n"
     ]
    },
    {
     "data": {
      "text/html": [
       "<p>25731 records.</p><b>pi</b> (<i>float64</i>):<ul><table><tbody><tr><td>Non-missing</td><td>25731 (100.00%)</td></tr><tr><td>Missing</td><td>0</td></tr><tr><td>Minimum</td><td>0.00</td></tr><tr><td>Maximum</td><td>1.48</td></tr><tr><td>Mean</td><td>0.12</td></tr><tr><td>Std Dev</td><td>0.07</td></tr></tbody></table></ul>"
      ],
      "text/plain": [
       "\n",
       "25731 records.\n",
       "\n",
       "- pi (float64):\n",
       "  Non-missing: 25731 (100.00%)\n",
       "      Missing: 0\n",
       "      Minimum: 0.00\n",
       "      Maximum: 1.48\n",
       "         Mean: 0.12\n",
       "      Std Dev: 0.07"
      ]
     },
     "metadata": {},
     "output_type": "display_data"
    },
    {
     "name": "stdout",
     "output_type": "stream",
     "text": [
      "CPU times: user 30.5 ms, sys: 7.6 ms, total: 38.1 ms\n",
      "Wall time: 2min 4s\n"
     ]
    }
   ],
   "source": [
    "%%time\n",
    "gene_stats.pi.summarize()"
   ]
  },
  {
   "cell_type": "code",
   "execution_count": 351,
   "metadata": {},
   "outputs": [
    {
     "name": "stderr",
     "output_type": "stream",
     "text": [
      "2020-12-02 13:49:05 Hail: INFO: Ordering unsorted dataset with network shuffle\n"
     ]
    },
    {
     "data": {
      "text/html": [
       "\n",
       "\n",
       "\n",
       "\n",
       "\n",
       "\n",
       "  <div class=\"bk-root\" id=\"1e7a4109-c6a7-4987-9280-e181ce43d1fa\" data-root-id=\"1260\"></div>\n"
      ]
     },
     "metadata": {},
     "output_type": "display_data"
    },
    {
     "data": {
      "application/javascript": [
       "(function(root) {\n",
       "  function embed_document(root) {\n",
       "    \n",
       "  var docs_json = {\"ccb952e3-5d69-4ae9-aa23-584424ebaefc\":{\"roots\":{\"references\":[{\"attributes\":{\"background_fill_color\":{\"value\":\"#EEEEEE\"},\"below\":[{\"id\":\"1271\",\"type\":\"LinearAxis\"}],\"center\":[{\"id\":\"1275\",\"type\":\"Grid\"},{\"id\":\"1280\",\"type\":\"Grid\"},{\"id\":\"1312\",\"type\":\"Legend\"}],\"left\":[{\"id\":\"1276\",\"type\":\"LinearAxis\"}],\"plot_height\":500,\"plot_width\":800,\"renderers\":[{\"id\":\"1297\",\"type\":\"GlyphRenderer\"},{\"id\":\"1302\",\"type\":\"GlyphRenderer\"}],\"title\":{\"id\":\"1261\",\"type\":\"Title\"},\"toolbar\":{\"id\":\"1287\",\"type\":\"Toolbar\"},\"x_range\":{\"id\":\"1263\",\"type\":\"Range1d\"},\"x_scale\":{\"id\":\"1267\",\"type\":\"LinearScale\"},\"y_range\":{\"id\":\"1265\",\"type\":\"DataRange1d\"},\"y_scale\":{\"id\":\"1269\",\"type\":\"LinearScale\"}},\"id\":\"1260\",\"subtype\":\"Figure\",\"type\":\"Plot\"},{\"attributes\":{},\"id\":\"1267\",\"type\":\"LinearScale\"},{\"attributes\":{\"callback\":null,\"data\":{},\"selected\":{\"id\":\"1342\",\"type\":\"Selection\"},\"selection_policy\":{\"id\":\"1341\",\"type\":\"UnionRenderers\"}},\"id\":\"1299\",\"type\":\"ColumnDataSource\"},{\"attributes\":{\"data_source\":{\"id\":\"1299\",\"type\":\"ColumnDataSource\"},\"glyph\":{\"id\":\"1300\",\"type\":\"Quad\"},\"hover_glyph\":null,\"muted_glyph\":null,\"nonselection_glyph\":{\"id\":\"1301\",\"type\":\"Quad\"},\"selection_glyph\":null,\"view\":{\"id\":\"1303\",\"type\":\"CDSView\"}},\"id\":\"1302\",\"type\":\"GlyphRenderer\"},{\"attributes\":{},\"id\":\"1286\",\"type\":\"HelpTool\"},{\"attributes\":{\"callback\":null,\"data\":{\"left\":[0.0,0.0026,0.0052,0.0078,0.0104,0.013,0.0156,0.0182,0.0208,0.023399999999999997,0.026,0.0286,0.0312,0.0338,0.0364,0.039,0.0416,0.044199999999999996,0.046799999999999994,0.0494,0.052,0.054599999999999996,0.0572,0.0598,0.0624,0.065,0.0676,0.0702,0.0728,0.0754,0.078,0.08059999999999999,0.0832,0.0858,0.08839999999999999,0.091,0.09359999999999999,0.0962,0.0988,0.10139999999999999,0.104,0.1066,0.10919999999999999,0.1118,0.1144,0.11699999999999999,0.1196,0.12219999999999999,0.1248,0.12739999999999999,0.13,0.1326,0.1352,0.1378,0.1404,0.143,0.1456,0.1482,0.1508,0.15339999999999998,0.156,0.1586,0.16119999999999998,0.1638,0.1664,0.16899999999999998,0.1716,0.1742,0.17679999999999998,0.1794,0.182,0.1846,0.18719999999999998,0.1898,0.1924,0.19499999999999998,0.1976,0.2002,0.20279999999999998,0.2054,0.208,0.21059999999999998,0.2132,0.2158,0.21839999999999998,0.221,0.2236,0.22619999999999998,0.2288,0.2314,0.23399999999999999,0.23659999999999998,0.2392,0.2418,0.24439999999999998,0.247,0.2496,0.2522,0.25479999999999997,0.25739999999999996],\"right\":[0.0026,0.0052,0.0078,0.0104,0.013,0.0156,0.0182,0.0208,0.023399999999999997,0.026,0.0286,0.0312,0.0338,0.0364,0.039,0.0416,0.044199999999999996,0.046799999999999994,0.0494,0.052,0.054599999999999996,0.0572,0.0598,0.0624,0.065,0.0676,0.0702,0.0728,0.0754,0.078,0.08059999999999999,0.0832,0.0858,0.08839999999999999,0.091,0.09359999999999999,0.0962,0.0988,0.10139999999999999,0.104,0.1066,0.10919999999999999,0.1118,0.1144,0.11699999999999999,0.1196,0.12219999999999999,0.1248,0.12739999999999999,0.13,0.1326,0.1352,0.1378,0.1404,0.143,0.1456,0.1482,0.1508,0.15339999999999998,0.156,0.1586,0.16119999999999998,0.1638,0.1664,0.16899999999999998,0.1716,0.1742,0.17679999999999998,0.1794,0.182,0.1846,0.18719999999999998,0.1898,0.1924,0.19499999999999998,0.1976,0.2002,0.20279999999999998,0.2054,0.208,0.21059999999999998,0.2132,0.2158,0.21839999999999998,0.221,0.2236,0.22619999999999998,0.2288,0.2314,0.23399999999999999,0.23659999999999998,0.2392,0.2418,0.24439999999999998,0.247,0.2496,0.2522,0.25479999999999997,0.25739999999999996,0.26],\"top\":[9,2,0,1,11,2,7,16,857,130,152,205,112,190,144,366,166,218,239,289,271,270,252,406,310,346,386,379,387,399,423,460,376,444,493,472,460,492,526,493,496,472,541,510,476,511,500,518,462,455,460,434,432,386,376,397,345,370,338,299,309,295,276,238,238,221,226,231,204,200,186,169,147,160,122,126,113,98,101,91,118,88,81,78,77,69,60,59,55,44,50,59,56,35,47,42,51,30,35,43]},\"selected\":{\"id\":\"1310\",\"type\":\"Selection\"},\"selection_policy\":{\"id\":\"1309\",\"type\":\"UnionRenderers\"}},\"id\":\"1294\",\"type\":\"ColumnDataSource\"},{\"attributes\":{\"source\":{\"id\":\"1299\",\"type\":\"ColumnDataSource\"}},\"id\":\"1303\",\"type\":\"CDSView\"},{\"attributes\":{\"text\":\"Histogram of average pairwise differences per gene\"},\"id\":\"1261\",\"type\":\"Title\"},{\"attributes\":{},\"id\":\"1310\",\"type\":\"Selection\"},{\"attributes\":{},\"id\":\"1308\",\"type\":\"BasicTickFormatter\"},{\"attributes\":{\"data_source\":{\"id\":\"1294\",\"type\":\"ColumnDataSource\"},\"glyph\":{\"id\":\"1295\",\"type\":\"Quad\"},\"hover_glyph\":null,\"muted_glyph\":null,\"nonselection_glyph\":{\"id\":\"1296\",\"type\":\"Quad\"},\"selection_glyph\":null,\"view\":{\"id\":\"1298\",\"type\":\"CDSView\"}},\"id\":\"1297\",\"type\":\"GlyphRenderer\"},{\"attributes\":{\"bottom\":{\"value\":0},\"fill_alpha\":{\"value\":0.1},\"fill_color\":{\"value\":\"#1f77b4\"},\"left\":{\"field\":\"left\"},\"line_alpha\":{\"value\":0.1},\"line_color\":{\"value\":\"#1f77b4\"},\"right\":{\"field\":\"right\"},\"top\":{\"field\":\"top\"}},\"id\":\"1296\",\"type\":\"Quad\"},{\"attributes\":{\"bottom\":{\"value\":0},\"fill_color\":{\"value\":\"#1f77b4\"},\"left\":{\"field\":\"left\"},\"right\":{\"field\":\"right\"},\"top\":{\"field\":\"top\"}},\"id\":\"1295\",\"type\":\"Quad\"},{\"attributes\":{},\"id\":\"1269\",\"type\":\"LinearScale\"},{\"attributes\":{\"source\":{\"id\":\"1294\",\"type\":\"ColumnDataSource\"}},\"id\":\"1298\",\"type\":\"CDSView\"},{\"attributes\":{\"callback\":null},\"id\":\"1265\",\"type\":\"DataRange1d\"},{\"attributes\":{\"formatter\":{\"id\":\"1308\",\"type\":\"BasicTickFormatter\"},\"ticker\":{\"id\":\"1272\",\"type\":\"BasicTicker\"}},\"id\":\"1271\",\"type\":\"LinearAxis\"},{\"attributes\":{},\"id\":\"1282\",\"type\":\"WheelZoomTool\"},{\"attributes\":{\"items\":[{\"id\":\"1313\",\"type\":\"LegendItem\"}]},\"id\":\"1312\",\"type\":\"Legend\"},{\"attributes\":{},\"id\":\"1284\",\"type\":\"SaveTool\"},{\"attributes\":{},\"id\":\"1306\",\"type\":\"BasicTickFormatter\"},{\"attributes\":{\"callback\":null,\"end\":0.273,\"start\":-0.013000000000000001},\"id\":\"1263\",\"type\":\"Range1d\"},{\"attributes\":{\"dimension\":1,\"ticker\":{\"id\":\"1277\",\"type\":\"BasicTicker\"}},\"id\":\"1280\",\"type\":\"Grid\"},{\"attributes\":{},\"id\":\"1341\",\"type\":\"UnionRenderers\"},{\"attributes\":{},\"id\":\"1272\",\"type\":\"BasicTicker\"},{\"attributes\":{\"bottom_units\":\"screen\",\"fill_alpha\":{\"value\":0.5},\"fill_color\":{\"value\":\"lightgrey\"},\"left_units\":\"screen\",\"level\":\"overlay\",\"line_alpha\":{\"value\":1.0},\"line_color\":{\"value\":\"black\"},\"line_dash\":[4,4],\"line_width\":{\"value\":2},\"render_mode\":\"css\",\"right_units\":\"screen\",\"top_units\":\"screen\"},\"id\":\"1311\",\"type\":\"BoxAnnotation\"},{\"attributes\":{\"overlay\":{\"id\":\"1311\",\"type\":\"BoxAnnotation\"}},\"id\":\"1283\",\"type\":\"BoxZoomTool\"},{\"attributes\":{\"bottom\":{\"value\":0},\"fill_alpha\":{\"value\":0.1},\"fill_color\":{\"value\":\"#1f77b4\"},\"left\":{\"value\":0.26},\"line_alpha\":{\"value\":0.1},\"line_color\":{\"value\":\"#1f77b4\"},\"right\":{\"value\":0.2626},\"top\":{\"value\":864}},\"id\":\"1301\",\"type\":\"Quad\"},{\"attributes\":{\"ticker\":{\"id\":\"1272\",\"type\":\"BasicTicker\"}},\"id\":\"1275\",\"type\":\"Grid\"},{\"attributes\":{\"active_drag\":\"auto\",\"active_inspect\":\"auto\",\"active_multi\":null,\"active_scroll\":\"auto\",\"active_tap\":\"auto\",\"tools\":[{\"id\":\"1281\",\"type\":\"PanTool\"},{\"id\":\"1282\",\"type\":\"WheelZoomTool\"},{\"id\":\"1283\",\"type\":\"BoxZoomTool\"},{\"id\":\"1284\",\"type\":\"SaveTool\"},{\"id\":\"1285\",\"type\":\"ResetTool\"},{\"id\":\"1286\",\"type\":\"HelpTool\"}]},\"id\":\"1287\",\"type\":\"Toolbar\"},{\"attributes\":{\"axis_label\":\"Frequency\",\"formatter\":{\"id\":\"1306\",\"type\":\"BasicTickFormatter\"},\"ticker\":{\"id\":\"1277\",\"type\":\"BasicTicker\"}},\"id\":\"1276\",\"type\":\"LinearAxis\"},{\"attributes\":{},\"id\":\"1309\",\"type\":\"UnionRenderers\"},{\"attributes\":{\"bottom\":{\"value\":0},\"fill_color\":{\"value\":\"green\"},\"left\":{\"value\":0.26},\"right\":{\"value\":0.2626},\"top\":{\"value\":864}},\"id\":\"1300\",\"type\":\"Quad\"},{\"attributes\":{},\"id\":\"1285\",\"type\":\"ResetTool\"},{\"attributes\":{},\"id\":\"1342\",\"type\":\"Selection\"},{\"attributes\":{\"label\":{\"value\":\"Outliers Above\"},\"renderers\":[{\"id\":\"1302\",\"type\":\"GlyphRenderer\"}]},\"id\":\"1313\",\"type\":\"LegendItem\"},{\"attributes\":{},\"id\":\"1277\",\"type\":\"BasicTicker\"},{\"attributes\":{},\"id\":\"1281\",\"type\":\"PanTool\"}],\"root_ids\":[\"1260\"]},\"title\":\"Bokeh Application\",\"version\":\"1.2.0\"}};\n",
       "  var render_items = [{\"docid\":\"ccb952e3-5d69-4ae9-aa23-584424ebaefc\",\"roots\":{\"1260\":\"1e7a4109-c6a7-4987-9280-e181ce43d1fa\"}}];\n",
       "  root.Bokeh.embed.embed_items_notebook(docs_json, render_items);\n",
       "\n",
       "  }\n",
       "  if (root.Bokeh !== undefined) {\n",
       "    embed_document(root);\n",
       "  } else {\n",
       "    var attempts = 0;\n",
       "    var timer = setInterval(function(root) {\n",
       "      if (root.Bokeh !== undefined) {\n",
       "        embed_document(root);\n",
       "        clearInterval(timer);\n",
       "      }\n",
       "      attempts++;\n",
       "      if (attempts > 100) {\n",
       "        console.log(\"Bokeh: ERROR: Unable to run BokehJS code because BokehJS library is missing\");\n",
       "        clearInterval(timer);\n",
       "      }\n",
       "    }, 10, root)\n",
       "  }\n",
       "})(window);"
      ],
      "application/vnd.bokehjs_exec.v0+json": ""
     },
     "metadata": {
      "application/vnd.bokehjs_exec.v0+json": {
       "id": "1260"
      }
     },
     "output_type": "display_data"
    }
   ],
   "source": [
    "p = hl.plot.histogram(gene_stats.pi, range=(0, 0.26), bins=100,\n",
    "                      title='Histogram of average pairwise differences per gene')\n",
    "p.plot_width = 800\n",
    "p.plot_height = 500\n",
    "show(p)"
   ]
  },
  {
   "cell_type": "markdown",
   "metadata": {},
   "source": [
    "## A less stupid way of computing nucleotide diversity\n",
    "\n",
    "We need the number of alleles which is $2 N$ where $N$ is the number of samples."
   ]
  },
  {
   "cell_type": "code",
   "execution_count": 75,
   "metadata": {},
   "outputs": [],
   "source": [
    "n_alleles = 2 * mt.count_cols()\n",
    "mt = mt.annotate_rows(n_alt=mt.info.AC[0])"
   ]
  },
  {
   "cell_type": "markdown",
   "metadata": {},
   "source": [
    "For a **single site**, the number of pairwise differences between sequences can be calculated as $m (N - m)$, where $m$ is the number of either allele (e.g. the reference allele). The average pairwise differences is then obtained by dividing this by the number of total comparisons.\n",
    "\n",
    "$$\n",
    "\\pi = \\frac{m (N - m)}{N (N - 1) / 2}\n",
    "$$"
   ]
  },
  {
   "cell_type": "code",
   "execution_count": 76,
   "metadata": {},
   "outputs": [],
   "source": [
    "mt = mt.annotate_rows(pi=mt.n_alt * (n_alleles - mt.n_alt) / (n_alleles * (n_alleles - 1) / 2))"
   ]
  },
  {
   "cell_type": "markdown",
   "metadata": {},
   "source": [
    "Annotate the `MatrixTable` with gene names. Where there are multiple transcripts, the first one is chosen."
   ]
  },
  {
   "cell_type": "code",
   "execution_count": 77,
   "metadata": {},
   "outputs": [],
   "source": [
    "mt = mt.annotate_rows(gene=mt.info.ANN.map(lambda x: x.split('\\|')[3]))\n",
    "mt = mt.annotate_rows(gene1=mt.gene[0])"
   ]
  },
  {
   "cell_type": "markdown",
   "metadata": {},
   "source": [
    "Group the sites by gene, and compute the average pairwise differences for each gene."
   ]
  },
  {
   "cell_type": "code",
   "execution_count": 92,
   "metadata": {},
   "outputs": [],
   "source": [
    "rows = mt.rows()\n",
    "gene_stats = (rows.group_by(rows.gene1)\n",
    "                       .aggregate(pi = hl.agg.mean(rows.pi),\n",
    "                                 n_sites=hl.agg.count(),\n",
    "                                 avg_ac=hl.agg.mean(rows.info.AC[0])))"
   ]
  },
  {
   "cell_type": "code",
   "execution_count": 79,
   "metadata": {},
   "outputs": [
    {
     "name": "stderr",
     "output_type": "stream",
     "text": [
      "2020-12-03 15:12:56 Hail: INFO: Ordering unsorted dataset with network shuffle\n"
     ]
    },
    {
     "data": {
      "text/html": [
       "<p>20200 records.</p><b>pi</b> (<i>float64</i>):<ul><table><tbody><tr><td>Non-missing</td><td>20200 (100.00%)</td></tr><tr><td>Missing</td><td>0</td></tr><tr><td>Minimum</td><td>0.00</td></tr><tr><td>Maximum</td><td>0.51</td></tr><tr><td>Mean</td><td>0.05</td></tr><tr><td>Std Dev</td><td>0.05</td></tr></tbody></table></ul>"
      ],
      "text/plain": [
       "\n",
       "20200 records.\n",
       "\n",
       "- pi (float64):\n",
       "  Non-missing: 20200 (100.00%)\n",
       "      Missing: 0\n",
       "      Minimum: 0.00\n",
       "      Maximum: 0.51\n",
       "         Mean: 0.05\n",
       "      Std Dev: 0.05"
      ]
     },
     "metadata": {},
     "output_type": "display_data"
    }
   ],
   "source": [
    "gene_stats.pi.summarize()"
   ]
  },
  {
   "cell_type": "code",
   "execution_count": 80,
   "metadata": {},
   "outputs": [
    {
     "name": "stderr",
     "output_type": "stream",
     "text": [
      "2020-12-03 15:13:04 Hail: INFO: Ordering unsorted dataset with network shuffle\n"
     ]
    },
    {
     "data": {
      "text/html": [
       "\n",
       "\n",
       "\n",
       "\n",
       "\n",
       "\n",
       "  <div class=\"bk-root\" id=\"b9f3104c-ea63-4b13-900f-ffc8e53b4bdf\" data-root-id=\"2761\"></div>\n"
      ]
     },
     "metadata": {},
     "output_type": "display_data"
    },
    {
     "data": {
      "application/javascript": [
       "(function(root) {\n",
       "  function embed_document(root) {\n",
       "    \n",
       "  var docs_json = {\"56a1179b-0caf-4442-921f-67831b2476b3\":{\"roots\":{\"references\":[{\"attributes\":{\"background_fill_color\":{\"value\":\"#EEEEEE\"},\"below\":[{\"id\":\"2772\",\"type\":\"LinearAxis\"}],\"center\":[{\"id\":\"2776\",\"type\":\"Grid\"},{\"id\":\"2781\",\"type\":\"Grid\"},{\"id\":\"2813\",\"type\":\"Legend\"}],\"left\":[{\"id\":\"2777\",\"type\":\"LinearAxis\"}],\"plot_height\":500,\"plot_width\":800,\"renderers\":[{\"id\":\"2798\",\"type\":\"GlyphRenderer\"},{\"id\":\"2803\",\"type\":\"GlyphRenderer\"}],\"title\":{\"id\":\"2762\",\"type\":\"Title\"},\"toolbar\":{\"id\":\"2788\",\"type\":\"Toolbar\"},\"x_range\":{\"id\":\"2764\",\"type\":\"Range1d\"},\"x_scale\":{\"id\":\"2768\",\"type\":\"LinearScale\"},\"y_range\":{\"id\":\"2766\",\"type\":\"DataRange1d\"},\"y_scale\":{\"id\":\"2770\",\"type\":\"LinearScale\"}},\"id\":\"2761\",\"subtype\":\"Figure\",\"type\":\"Plot\"},{\"attributes\":{\"active_drag\":\"auto\",\"active_inspect\":\"auto\",\"active_multi\":null,\"active_scroll\":\"auto\",\"active_tap\":\"auto\",\"tools\":[{\"id\":\"2782\",\"type\":\"PanTool\"},{\"id\":\"2783\",\"type\":\"WheelZoomTool\"},{\"id\":\"2784\",\"type\":\"BoxZoomTool\"},{\"id\":\"2785\",\"type\":\"SaveTool\"},{\"id\":\"2786\",\"type\":\"ResetTool\"},{\"id\":\"2787\",\"type\":\"HelpTool\"}]},\"id\":\"2788\",\"type\":\"Toolbar\"},{\"attributes\":{},\"id\":\"2927\",\"type\":\"UnionRenderers\"},{\"attributes\":{\"bottom\":{\"value\":0},\"fill_alpha\":{\"value\":0.1},\"fill_color\":{\"value\":\"#1f77b4\"},\"left\":{\"field\":\"left\"},\"line_alpha\":{\"value\":0.1},\"line_color\":{\"value\":\"#1f77b4\"},\"right\":{\"field\":\"right\"},\"top\":{\"field\":\"top\"}},\"id\":\"2797\",\"type\":\"Quad\"},{\"attributes\":{\"data_source\":{\"id\":\"2800\",\"type\":\"ColumnDataSource\"},\"glyph\":{\"id\":\"2801\",\"type\":\"Quad\"},\"hover_glyph\":null,\"muted_glyph\":null,\"nonselection_glyph\":{\"id\":\"2802\",\"type\":\"Quad\"},\"selection_glyph\":null,\"view\":{\"id\":\"2804\",\"type\":\"CDSView\"}},\"id\":\"2803\",\"type\":\"GlyphRenderer\"},{\"attributes\":{},\"id\":\"2928\",\"type\":\"Selection\"},{\"attributes\":{\"callback\":null,\"end\":0.315,\"start\":-0.015},\"id\":\"2764\",\"type\":\"Range1d\"},{\"attributes\":{\"bottom\":{\"value\":0},\"fill_color\":{\"value\":\"#1f77b4\"},\"left\":{\"field\":\"left\"},\"right\":{\"field\":\"right\"},\"top\":{\"field\":\"top\"}},\"id\":\"2796\",\"type\":\"Quad\"},{\"attributes\":{},\"id\":\"2811\",\"type\":\"UnionRenderers\"},{\"attributes\":{\"text\":\"Histogram of average pairwise differences per gene\"},\"id\":\"2762\",\"type\":\"Title\"},{\"attributes\":{\"items\":[{\"id\":\"2814\",\"type\":\"LegendItem\"}]},\"id\":\"2813\",\"type\":\"Legend\"},{\"attributes\":{\"dimension\":1,\"ticker\":{\"id\":\"2778\",\"type\":\"BasicTicker\"}},\"id\":\"2781\",\"type\":\"Grid\"},{\"attributes\":{\"overlay\":{\"id\":\"2810\",\"type\":\"BoxAnnotation\"}},\"id\":\"2784\",\"type\":\"BoxZoomTool\"},{\"attributes\":{},\"id\":\"2770\",\"type\":\"LinearScale\"},{\"attributes\":{\"callback\":null,\"data\":{},\"selected\":{\"id\":\"2928\",\"type\":\"Selection\"},\"selection_policy\":{\"id\":\"2927\",\"type\":\"UnionRenderers\"}},\"id\":\"2800\",\"type\":\"ColumnDataSource\"},{\"attributes\":{\"data_source\":{\"id\":\"2795\",\"type\":\"ColumnDataSource\"},\"glyph\":{\"id\":\"2796\",\"type\":\"Quad\"},\"hover_glyph\":null,\"muted_glyph\":null,\"nonselection_glyph\":{\"id\":\"2797\",\"type\":\"Quad\"},\"selection_glyph\":null,\"view\":{\"id\":\"2799\",\"type\":\"CDSView\"}},\"id\":\"2798\",\"type\":\"GlyphRenderer\"},{\"attributes\":{},\"id\":\"2773\",\"type\":\"BasicTicker\"},{\"attributes\":{\"formatter\":{\"id\":\"2806\",\"type\":\"BasicTickFormatter\"},\"ticker\":{\"id\":\"2773\",\"type\":\"BasicTicker\"}},\"id\":\"2772\",\"type\":\"LinearAxis\"},{\"attributes\":{},\"id\":\"2806\",\"type\":\"BasicTickFormatter\"},{\"attributes\":{\"ticker\":{\"id\":\"2773\",\"type\":\"BasicTicker\"}},\"id\":\"2776\",\"type\":\"Grid\"},{\"attributes\":{\"bottom_units\":\"screen\",\"fill_alpha\":{\"value\":0.5},\"fill_color\":{\"value\":\"lightgrey\"},\"left_units\":\"screen\",\"level\":\"overlay\",\"line_alpha\":{\"value\":1.0},\"line_color\":{\"value\":\"black\"},\"line_dash\":[4,4],\"line_width\":{\"value\":2},\"render_mode\":\"css\",\"right_units\":\"screen\",\"top_units\":\"screen\"},\"id\":\"2810\",\"type\":\"BoxAnnotation\"},{\"attributes\":{},\"id\":\"2812\",\"type\":\"Selection\"},{\"attributes\":{\"bottom\":{\"value\":0},\"fill_color\":{\"value\":\"green\"},\"left\":{\"value\":0.3},\"right\":{\"value\":0.303},\"top\":{\"value\":95}},\"id\":\"2801\",\"type\":\"Quad\"},{\"attributes\":{},\"id\":\"2778\",\"type\":\"BasicTicker\"},{\"attributes\":{\"source\":{\"id\":\"2795\",\"type\":\"ColumnDataSource\"}},\"id\":\"2799\",\"type\":\"CDSView\"},{\"attributes\":{\"callback\":null,\"data\":{\"left\":[0.0,0.003,0.006,0.009000000000000001,0.012,0.015,0.018000000000000002,0.021,0.024,0.027,0.03,0.033,0.036000000000000004,0.039,0.042,0.045,0.048,0.051000000000000004,0.054,0.057,0.06,0.063,0.066,0.069,0.07200000000000001,0.075,0.078,0.081,0.084,0.08700000000000001,0.09,0.093,0.096,0.099,0.10200000000000001,0.105,0.108,0.111,0.114,0.117,0.12,0.123,0.126,0.129,0.132,0.135,0.138,0.14100000000000001,0.14400000000000002,0.147,0.15,0.153,0.156,0.159,0.162,0.165,0.168,0.171,0.17400000000000002,0.177,0.18,0.183,0.186,0.189,0.192,0.195,0.198,0.201,0.20400000000000001,0.20700000000000002,0.21,0.213,0.216,0.219,0.222,0.225,0.228,0.231,0.234,0.23700000000000002,0.24,0.243,0.246,0.249,0.252,0.255,0.258,0.261,0.264,0.267,0.27,0.273,0.276,0.279,0.28200000000000003,0.28500000000000003,0.28800000000000003,0.291,0.294,0.297],\"right\":[0.003,0.006,0.009000000000000001,0.012,0.015,0.018000000000000002,0.021,0.024,0.027,0.03,0.033,0.036000000000000004,0.039,0.042,0.045,0.048,0.051000000000000004,0.054,0.057,0.06,0.063,0.066,0.069,0.07200000000000001,0.075,0.078,0.081,0.084,0.08700000000000001,0.09,0.093,0.096,0.099,0.10200000000000001,0.105,0.108,0.111,0.114,0.117,0.12,0.123,0.126,0.129,0.132,0.135,0.138,0.14100000000000001,0.14400000000000002,0.147,0.15,0.153,0.156,0.159,0.162,0.165,0.168,0.171,0.17400000000000002,0.177,0.18,0.183,0.186,0.189,0.192,0.195,0.198,0.201,0.20400000000000001,0.20700000000000002,0.21,0.213,0.216,0.219,0.222,0.225,0.228,0.231,0.234,0.23700000000000002,0.24,0.243,0.246,0.249,0.252,0.255,0.258,0.261,0.264,0.267,0.27,0.273,0.276,0.279,0.28200000000000003,0.28500000000000003,0.28800000000000003,0.291,0.294,0.297,0.3],\"top\":[4,1,1,2,5,9,6004,465,995,1060,1029,919,806,1260,528,617,494,513,387,321,548,301,287,287,214,211,283,170,148,152,132,122,130,146,114,80,92,78,69,85,59,43,58,43,42,64,38,37,39,22,27,48,29,26,19,16,23,32,18,17,26,24,20,12,11,11,13,10,18,9,9,8,5,15,3,6,9,5,5,7,4,5,3,14,5,11,7,8,11,3,3,5,3,10,3,5,2,0,7,1]},\"selected\":{\"id\":\"2812\",\"type\":\"Selection\"},\"selection_policy\":{\"id\":\"2811\",\"type\":\"UnionRenderers\"}},\"id\":\"2795\",\"type\":\"ColumnDataSource\"},{\"attributes\":{\"label\":{\"value\":\"Outliers Above\"},\"renderers\":[{\"id\":\"2803\",\"type\":\"GlyphRenderer\"}]},\"id\":\"2814\",\"type\":\"LegendItem\"},{\"attributes\":{},\"id\":\"2783\",\"type\":\"WheelZoomTool\"},{\"attributes\":{},\"id\":\"2782\",\"type\":\"PanTool\"},{\"attributes\":{\"callback\":null},\"id\":\"2766\",\"type\":\"DataRange1d\"},{\"attributes\":{},\"id\":\"2786\",\"type\":\"ResetTool\"},{\"attributes\":{\"axis_label\":\"Frequency\",\"formatter\":{\"id\":\"2808\",\"type\":\"BasicTickFormatter\"},\"ticker\":{\"id\":\"2778\",\"type\":\"BasicTicker\"}},\"id\":\"2777\",\"type\":\"LinearAxis\"},{\"attributes\":{\"source\":{\"id\":\"2800\",\"type\":\"ColumnDataSource\"}},\"id\":\"2804\",\"type\":\"CDSView\"},{\"attributes\":{},\"id\":\"2768\",\"type\":\"LinearScale\"},{\"attributes\":{\"bottom\":{\"value\":0},\"fill_alpha\":{\"value\":0.1},\"fill_color\":{\"value\":\"#1f77b4\"},\"left\":{\"value\":0.3},\"line_alpha\":{\"value\":0.1},\"line_color\":{\"value\":\"#1f77b4\"},\"right\":{\"value\":0.303},\"top\":{\"value\":95}},\"id\":\"2802\",\"type\":\"Quad\"},{\"attributes\":{},\"id\":\"2808\",\"type\":\"BasicTickFormatter\"},{\"attributes\":{},\"id\":\"2785\",\"type\":\"SaveTool\"},{\"attributes\":{},\"id\":\"2787\",\"type\":\"HelpTool\"}],\"root_ids\":[\"2761\"]},\"title\":\"Bokeh Application\",\"version\":\"1.2.0\"}};\n",
       "  var render_items = [{\"docid\":\"56a1179b-0caf-4442-921f-67831b2476b3\",\"roots\":{\"2761\":\"b9f3104c-ea63-4b13-900f-ffc8e53b4bdf\"}}];\n",
       "  root.Bokeh.embed.embed_items_notebook(docs_json, render_items);\n",
       "\n",
       "  }\n",
       "  if (root.Bokeh !== undefined) {\n",
       "    embed_document(root);\n",
       "  } else {\n",
       "    var attempts = 0;\n",
       "    var timer = setInterval(function(root) {\n",
       "      if (root.Bokeh !== undefined) {\n",
       "        embed_document(root);\n",
       "        clearInterval(timer);\n",
       "      }\n",
       "      attempts++;\n",
       "      if (attempts > 100) {\n",
       "        console.log(\"Bokeh: ERROR: Unable to run BokehJS code because BokehJS library is missing\");\n",
       "        clearInterval(timer);\n",
       "      }\n",
       "    }, 10, root)\n",
       "  }\n",
       "})(window);"
      ],
      "application/vnd.bokehjs_exec.v0+json": ""
     },
     "metadata": {
      "application/vnd.bokehjs_exec.v0+json": {
       "id": "2761"
      }
     },
     "output_type": "display_data"
    }
   ],
   "source": [
    "p = hl.plot.histogram(gene_stats.pi, range=(0, 0.30), bins=100,\n",
    "                      title='Histogram of average pairwise differences per gene')\n",
    "p.plot_width = 800\n",
    "p.plot_height = 500\n",
    "show(p)"
   ]
  },
  {
   "cell_type": "code",
   "execution_count": 93,
   "metadata": {},
   "outputs": [],
   "source": [
    "gene_stats_filtered = gene_stats.filter((gene_stats.pi>0.0205) & (gene_stats.pi < 0.021))"
   ]
  },
  {
   "cell_type": "code",
   "execution_count": 94,
   "metadata": {},
   "outputs": [
    {
     "name": "stderr",
     "output_type": "stream",
     "text": [
      "2020-12-03 15:17:34 Hail: INFO: Ordering unsorted dataset with network shuffle\n"
     ]
    },
    {
     "data": {
      "text/html": [
       "<p>6002 records.</p><b>pi</b> (<i>float64</i>):<ul><table><tbody><tr><td>Non-missing</td><td>6002 (100.00%)</td></tr><tr><td>Missing</td><td>0</td></tr><tr><td>Minimum</td><td>0.02</td></tr><tr><td>Maximum</td><td>0.02</td></tr><tr><td>Mean</td><td>0.02</td></tr><tr><td>Std Dev</td><td>0.00</td></tr></tbody></table></ul>"
      ],
      "text/plain": [
       "\n",
       "6002 records.\n",
       "\n",
       "- pi (float64):\n",
       "  Non-missing: 6002 (100.00%)\n",
       "      Missing: 0\n",
       "      Minimum: 0.02\n",
       "      Maximum: 0.02\n",
       "         Mean: 0.02\n",
       "      Std Dev: 0.00"
      ]
     },
     "metadata": {},
     "output_type": "display_data"
    }
   ],
   "source": [
    "gene_stats_filtered.pi.summarize()"
   ]
  },
  {
   "cell_type": "code",
   "execution_count": 96,
   "metadata": {},
   "outputs": [
    {
     "name": "stderr",
     "output_type": "stream",
     "text": [
      "2020-12-03 15:18:10 Hail: INFO: Ordering unsorted dataset with network shuffle\n"
     ]
    },
    {
     "data": {
      "text/html": [
       "<p>6002 records.</p><b>n_sites</b> (<i>int64</i>):<ul><table><tbody><tr><td>Non-missing</td><td>6002 (100.00%)</td></tr><tr><td>Missing</td><td>0</td></tr><tr><td>Minimum</td><td>1</td></tr><tr><td>Maximum</td><td>28</td></tr><tr><td>Mean</td><td>3.62</td></tr><tr><td>Std Dev</td><td>3.09</td></tr></tbody></table></ul>"
      ],
      "text/plain": [
       "\n",
       "6002 records.\n",
       "\n",
       "- n_sites (int64):\n",
       "  Non-missing: 6002 (100.00%)\n",
       "      Missing: 0\n",
       "      Minimum: 1\n",
       "      Maximum: 28\n",
       "         Mean: 3.62\n",
       "      Std Dev: 3.09"
      ]
     },
     "metadata": {},
     "output_type": "display_data"
    }
   ],
   "source": [
    "gene_stats_filtered.n_sites.summarize()"
   ]
  },
  {
   "cell_type": "code",
   "execution_count": 95,
   "metadata": {},
   "outputs": [
    {
     "name": "stderr",
     "output_type": "stream",
     "text": [
      "2020-12-03 15:17:40 Hail: INFO: Ordering unsorted dataset with network shuffle\n"
     ]
    },
    {
     "data": {
      "text/html": [
       "<p>6002 records.</p><b>avg_ac</b> (<i>float64</i>):<ul><table><tbody><tr><td>Non-missing</td><td>6002 (100.00%)</td></tr><tr><td>Missing</td><td>0</td></tr><tr><td>Minimum</td><td>1.00</td></tr><tr><td>Maximum</td><td>95.00</td></tr><tr><td>Mean</td><td>1.05</td></tr><tr><td>Std Dev</td><td>1.95</td></tr></tbody></table></ul>"
      ],
      "text/plain": [
       "\n",
       "6002 records.\n",
       "\n",
       "- avg_ac (float64):\n",
       "  Non-missing: 6002 (100.00%)\n",
       "      Missing: 0\n",
       "      Minimum: 1.00\n",
       "      Maximum: 95.00\n",
       "         Mean: 1.05\n",
       "      Std Dev: 1.95"
      ]
     },
     "metadata": {},
     "output_type": "display_data"
    }
   ],
   "source": [
    "gene_stats_filtered.avg_ac.summarize()"
   ]
  }
 ],
 "metadata": {
  "kernelspec": {
   "display_name": "Python 3",
   "language": "python",
   "name": "python3"
  },
  "language_info": {
   "codemirror_mode": {
    "name": "ipython",
    "version": 3
   },
   "file_extension": ".py",
   "mimetype": "text/x-python",
   "name": "python",
   "nbconvert_exporter": "python",
   "pygments_lexer": "ipython3",
   "version": "3.6.11"
  }
 },
 "nbformat": 4,
 "nbformat_minor": 4
}
