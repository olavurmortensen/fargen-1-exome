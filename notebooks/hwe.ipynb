{
 "cells": [
  {
   "cell_type": "markdown",
   "metadata": {},
   "source": [
    "# Hardy-Weinberg Equilibrium"
   ]
  },
  {
   "cell_type": "code",
   "execution_count": 1,
   "metadata": {},
   "outputs": [
    {
     "name": "stderr",
     "output_type": "stream",
     "text": [
      "Running on Apache Spark version 2.4.6\n",
      "SparkUI available at http://hms-beagle-5466c684ff-d8mgh:4043\n",
      "Welcome to\n",
      "     __  __     <>__\n",
      "    / /_/ /__  __/ /\n",
      "   / __  / _ `/ / /\n",
      "  /_/ /_/\\_,_/_/_/   version 0.2.58-3f304aae6ce2\n",
      "LOGGING: writing to /home/olavur/experiments/2020-11-13_fargen1_exome_analysis/notebooks/hail-20201124-1255-0.2.58-3f304aae6ce2.log\n"
     ]
    }
   ],
   "source": [
    "import hail as hl\n",
    "hl.init()"
   ]
  },
  {
   "cell_type": "code",
   "execution_count": 2,
   "metadata": {},
   "outputs": [
    {
     "data": {
      "text/html": [
       "\n",
       "    <div class=\"bk-root\">\n",
       "        <a href=\"https://bokeh.pydata.org\" target=\"_blank\" class=\"bk-logo bk-logo-small bk-logo-notebook\"></a>\n",
       "        <span id=\"1001\">Loading BokehJS ...</span>\n",
       "    </div>"
      ]
     },
     "metadata": {},
     "output_type": "display_data"
    },
    {
     "data": {
      "application/javascript": [
       "\n",
       "(function(root) {\n",
       "  function now() {\n",
       "    return new Date();\n",
       "  }\n",
       "\n",
       "  var force = true;\n",
       "\n",
       "  if (typeof root._bokeh_onload_callbacks === \"undefined\" || force === true) {\n",
       "    root._bokeh_onload_callbacks = [];\n",
       "    root._bokeh_is_loading = undefined;\n",
       "  }\n",
       "\n",
       "  var JS_MIME_TYPE = 'application/javascript';\n",
       "  var HTML_MIME_TYPE = 'text/html';\n",
       "  var EXEC_MIME_TYPE = 'application/vnd.bokehjs_exec.v0+json';\n",
       "  var CLASS_NAME = 'output_bokeh rendered_html';\n",
       "\n",
       "  /**\n",
       "   * Render data to the DOM node\n",
       "   */\n",
       "  function render(props, node) {\n",
       "    var script = document.createElement(\"script\");\n",
       "    node.appendChild(script);\n",
       "  }\n",
       "\n",
       "  /**\n",
       "   * Handle when an output is cleared or removed\n",
       "   */\n",
       "  function handleClearOutput(event, handle) {\n",
       "    var cell = handle.cell;\n",
       "\n",
       "    var id = cell.output_area._bokeh_element_id;\n",
       "    var server_id = cell.output_area._bokeh_server_id;\n",
       "    // Clean up Bokeh references\n",
       "    if (id != null && id in Bokeh.index) {\n",
       "      Bokeh.index[id].model.document.clear();\n",
       "      delete Bokeh.index[id];\n",
       "    }\n",
       "\n",
       "    if (server_id !== undefined) {\n",
       "      // Clean up Bokeh references\n",
       "      var cmd = \"from bokeh.io.state import curstate; print(curstate().uuid_to_server['\" + server_id + \"'].get_sessions()[0].document.roots[0]._id)\";\n",
       "      cell.notebook.kernel.execute(cmd, {\n",
       "        iopub: {\n",
       "          output: function(msg) {\n",
       "            var id = msg.content.text.trim();\n",
       "            if (id in Bokeh.index) {\n",
       "              Bokeh.index[id].model.document.clear();\n",
       "              delete Bokeh.index[id];\n",
       "            }\n",
       "          }\n",
       "        }\n",
       "      });\n",
       "      // Destroy server and session\n",
       "      var cmd = \"import bokeh.io.notebook as ion; ion.destroy_server('\" + server_id + \"')\";\n",
       "      cell.notebook.kernel.execute(cmd);\n",
       "    }\n",
       "  }\n",
       "\n",
       "  /**\n",
       "   * Handle when a new output is added\n",
       "   */\n",
       "  function handleAddOutput(event, handle) {\n",
       "    var output_area = handle.output_area;\n",
       "    var output = handle.output;\n",
       "\n",
       "    // limit handleAddOutput to display_data with EXEC_MIME_TYPE content only\n",
       "    if ((output.output_type != \"display_data\") || (!output.data.hasOwnProperty(EXEC_MIME_TYPE))) {\n",
       "      return\n",
       "    }\n",
       "\n",
       "    var toinsert = output_area.element.find(\".\" + CLASS_NAME.split(' ')[0]);\n",
       "\n",
       "    if (output.metadata[EXEC_MIME_TYPE][\"id\"] !== undefined) {\n",
       "      toinsert[toinsert.length - 1].firstChild.textContent = output.data[JS_MIME_TYPE];\n",
       "      // store reference to embed id on output_area\n",
       "      output_area._bokeh_element_id = output.metadata[EXEC_MIME_TYPE][\"id\"];\n",
       "    }\n",
       "    if (output.metadata[EXEC_MIME_TYPE][\"server_id\"] !== undefined) {\n",
       "      var bk_div = document.createElement(\"div\");\n",
       "      bk_div.innerHTML = output.data[HTML_MIME_TYPE];\n",
       "      var script_attrs = bk_div.children[0].attributes;\n",
       "      for (var i = 0; i < script_attrs.length; i++) {\n",
       "        toinsert[toinsert.length - 1].firstChild.setAttribute(script_attrs[i].name, script_attrs[i].value);\n",
       "      }\n",
       "      // store reference to server id on output_area\n",
       "      output_area._bokeh_server_id = output.metadata[EXEC_MIME_TYPE][\"server_id\"];\n",
       "    }\n",
       "  }\n",
       "\n",
       "  function register_renderer(events, OutputArea) {\n",
       "\n",
       "    function append_mime(data, metadata, element) {\n",
       "      // create a DOM node to render to\n",
       "      var toinsert = this.create_output_subarea(\n",
       "        metadata,\n",
       "        CLASS_NAME,\n",
       "        EXEC_MIME_TYPE\n",
       "      );\n",
       "      this.keyboard_manager.register_events(toinsert);\n",
       "      // Render to node\n",
       "      var props = {data: data, metadata: metadata[EXEC_MIME_TYPE]};\n",
       "      render(props, toinsert[toinsert.length - 1]);\n",
       "      element.append(toinsert);\n",
       "      return toinsert\n",
       "    }\n",
       "\n",
       "    /* Handle when an output is cleared or removed */\n",
       "    events.on('clear_output.CodeCell', handleClearOutput);\n",
       "    events.on('delete.Cell', handleClearOutput);\n",
       "\n",
       "    /* Handle when a new output is added */\n",
       "    events.on('output_added.OutputArea', handleAddOutput);\n",
       "\n",
       "    /**\n",
       "     * Register the mime type and append_mime function with output_area\n",
       "     */\n",
       "    OutputArea.prototype.register_mime_type(EXEC_MIME_TYPE, append_mime, {\n",
       "      /* Is output safe? */\n",
       "      safe: true,\n",
       "      /* Index of renderer in `output_area.display_order` */\n",
       "      index: 0\n",
       "    });\n",
       "  }\n",
       "\n",
       "  // register the mime type if in Jupyter Notebook environment and previously unregistered\n",
       "  if (root.Jupyter !== undefined) {\n",
       "    var events = require('base/js/events');\n",
       "    var OutputArea = require('notebook/js/outputarea').OutputArea;\n",
       "\n",
       "    if (OutputArea.prototype.mime_types().indexOf(EXEC_MIME_TYPE) == -1) {\n",
       "      register_renderer(events, OutputArea);\n",
       "    }\n",
       "  }\n",
       "\n",
       "  \n",
       "  if (typeof (root._bokeh_timeout) === \"undefined\" || force === true) {\n",
       "    root._bokeh_timeout = Date.now() + 5000;\n",
       "    root._bokeh_failed_load = false;\n",
       "  }\n",
       "\n",
       "  var NB_LOAD_WARNING = {'data': {'text/html':\n",
       "     \"<div style='background-color: #fdd'>\\n\"+\n",
       "     \"<p>\\n\"+\n",
       "     \"BokehJS does not appear to have successfully loaded. If loading BokehJS from CDN, this \\n\"+\n",
       "     \"may be due to a slow or bad network connection. Possible fixes:\\n\"+\n",
       "     \"</p>\\n\"+\n",
       "     \"<ul>\\n\"+\n",
       "     \"<li>re-rerun `output_notebook()` to attempt to load from CDN again, or</li>\\n\"+\n",
       "     \"<li>use INLINE resources instead, as so:</li>\\n\"+\n",
       "     \"</ul>\\n\"+\n",
       "     \"<code>\\n\"+\n",
       "     \"from bokeh.resources import INLINE\\n\"+\n",
       "     \"output_notebook(resources=INLINE)\\n\"+\n",
       "     \"</code>\\n\"+\n",
       "     \"</div>\"}};\n",
       "\n",
       "  function display_loaded() {\n",
       "    var el = document.getElementById(\"1001\");\n",
       "    if (el != null) {\n",
       "      el.textContent = \"BokehJS is loading...\";\n",
       "    }\n",
       "    if (root.Bokeh !== undefined) {\n",
       "      if (el != null) {\n",
       "        el.textContent = \"BokehJS \" + root.Bokeh.version + \" successfully loaded.\";\n",
       "      }\n",
       "    } else if (Date.now() < root._bokeh_timeout) {\n",
       "      setTimeout(display_loaded, 100)\n",
       "    }\n",
       "  }\n",
       "\n",
       "\n",
       "  function run_callbacks() {\n",
       "    try {\n",
       "      root._bokeh_onload_callbacks.forEach(function(callback) {\n",
       "        if (callback != null)\n",
       "          callback();\n",
       "      });\n",
       "    } finally {\n",
       "      delete root._bokeh_onload_callbacks\n",
       "    }\n",
       "    console.debug(\"Bokeh: all callbacks have finished\");\n",
       "  }\n",
       "\n",
       "  function load_libs(css_urls, js_urls, callback) {\n",
       "    if (css_urls == null) css_urls = [];\n",
       "    if (js_urls == null) js_urls = [];\n",
       "\n",
       "    root._bokeh_onload_callbacks.push(callback);\n",
       "    if (root._bokeh_is_loading > 0) {\n",
       "      console.debug(\"Bokeh: BokehJS is being loaded, scheduling callback at\", now());\n",
       "      return null;\n",
       "    }\n",
       "    if (js_urls == null || js_urls.length === 0) {\n",
       "      run_callbacks();\n",
       "      return null;\n",
       "    }\n",
       "    console.debug(\"Bokeh: BokehJS not loaded, scheduling load and callback at\", now());\n",
       "    root._bokeh_is_loading = css_urls.length + js_urls.length;\n",
       "\n",
       "    function on_load() {\n",
       "      root._bokeh_is_loading--;\n",
       "      if (root._bokeh_is_loading === 0) {\n",
       "        console.debug(\"Bokeh: all BokehJS libraries/stylesheets loaded\");\n",
       "        run_callbacks()\n",
       "      }\n",
       "    }\n",
       "\n",
       "    function on_error() {\n",
       "      console.error(\"failed to load \" + url);\n",
       "    }\n",
       "\n",
       "    for (var i = 0; i < css_urls.length; i++) {\n",
       "      var url = css_urls[i];\n",
       "      const element = document.createElement(\"link\");\n",
       "      element.onload = on_load;\n",
       "      element.onerror = on_error;\n",
       "      element.rel = \"stylesheet\";\n",
       "      element.type = \"text/css\";\n",
       "      element.href = url;\n",
       "      console.debug(\"Bokeh: injecting link tag for BokehJS stylesheet: \", url);\n",
       "      document.body.appendChild(element);\n",
       "    }\n",
       "\n",
       "    for (var i = 0; i < js_urls.length; i++) {\n",
       "      var url = js_urls[i];\n",
       "      var element = document.createElement('script');\n",
       "      element.onload = on_load;\n",
       "      element.onerror = on_error;\n",
       "      element.async = false;\n",
       "      element.src = url;\n",
       "      console.debug(\"Bokeh: injecting script tag for BokehJS library: \", url);\n",
       "      document.head.appendChild(element);\n",
       "    }\n",
       "  };var element = document.getElementById(\"1001\");\n",
       "  if (element == null) {\n",
       "    console.error(\"Bokeh: ERROR: autoload.js configured with elementid '1001' but no matching script tag was found. \")\n",
       "    return false;\n",
       "  }\n",
       "\n",
       "  function inject_raw_css(css) {\n",
       "    const element = document.createElement(\"style\");\n",
       "    element.appendChild(document.createTextNode(css));\n",
       "    document.body.appendChild(element);\n",
       "  }\n",
       "\n",
       "  var js_urls = [\"https://cdn.pydata.org/bokeh/release/bokeh-1.2.0.min.js\", \"https://cdn.pydata.org/bokeh/release/bokeh-widgets-1.2.0.min.js\", \"https://cdn.pydata.org/bokeh/release/bokeh-tables-1.2.0.min.js\", \"https://cdn.pydata.org/bokeh/release/bokeh-gl-1.2.0.min.js\"];\n",
       "  var css_urls = [\"https://cdn.pydata.org/bokeh/release/bokeh-1.2.0.min.css\", \"https://cdn.pydata.org/bokeh/release/bokeh-widgets-1.2.0.min.css\", \"https://cdn.pydata.org/bokeh/release/bokeh-tables-1.2.0.min.css\"];\n",
       "\n",
       "  var inline_js = [\n",
       "    function(Bokeh) {\n",
       "      Bokeh.set_log_level(\"info\");\n",
       "    },\n",
       "    \n",
       "    function(Bokeh) {\n",
       "      \n",
       "    },\n",
       "    function(Bokeh) {} // ensure no trailing comma for IE\n",
       "  ];\n",
       "\n",
       "  function run_inline_js() {\n",
       "    \n",
       "    if ((root.Bokeh !== undefined) || (force === true)) {\n",
       "      for (var i = 0; i < inline_js.length; i++) {\n",
       "        inline_js[i].call(root, root.Bokeh);\n",
       "      }if (force === true) {\n",
       "        display_loaded();\n",
       "      }} else if (Date.now() < root._bokeh_timeout) {\n",
       "      setTimeout(run_inline_js, 100);\n",
       "    } else if (!root._bokeh_failed_load) {\n",
       "      console.log(\"Bokeh: BokehJS failed to load within specified timeout.\");\n",
       "      root._bokeh_failed_load = true;\n",
       "    } else if (force !== true) {\n",
       "      var cell = $(document.getElementById(\"1001\")).parents('.cell').data().cell;\n",
       "      cell.output_area.append_execute_result(NB_LOAD_WARNING)\n",
       "    }\n",
       "\n",
       "  }\n",
       "\n",
       "  if (root._bokeh_is_loading === 0) {\n",
       "    console.debug(\"Bokeh: BokehJS loaded, going straight to plotting\");\n",
       "    run_inline_js();\n",
       "  } else {\n",
       "    load_libs(css_urls, js_urls, function() {\n",
       "      console.debug(\"Bokeh: BokehJS plotting callback run at\", now());\n",
       "      run_inline_js();\n",
       "    });\n",
       "  }\n",
       "}(window));"
      ],
      "application/vnd.bokehjs_load.v0+json": "\n(function(root) {\n  function now() {\n    return new Date();\n  }\n\n  var force = true;\n\n  if (typeof root._bokeh_onload_callbacks === \"undefined\" || force === true) {\n    root._bokeh_onload_callbacks = [];\n    root._bokeh_is_loading = undefined;\n  }\n\n  \n\n  \n  if (typeof (root._bokeh_timeout) === \"undefined\" || force === true) {\n    root._bokeh_timeout = Date.now() + 5000;\n    root._bokeh_failed_load = false;\n  }\n\n  var NB_LOAD_WARNING = {'data': {'text/html':\n     \"<div style='background-color: #fdd'>\\n\"+\n     \"<p>\\n\"+\n     \"BokehJS does not appear to have successfully loaded. If loading BokehJS from CDN, this \\n\"+\n     \"may be due to a slow or bad network connection. Possible fixes:\\n\"+\n     \"</p>\\n\"+\n     \"<ul>\\n\"+\n     \"<li>re-rerun `output_notebook()` to attempt to load from CDN again, or</li>\\n\"+\n     \"<li>use INLINE resources instead, as so:</li>\\n\"+\n     \"</ul>\\n\"+\n     \"<code>\\n\"+\n     \"from bokeh.resources import INLINE\\n\"+\n     \"output_notebook(resources=INLINE)\\n\"+\n     \"</code>\\n\"+\n     \"</div>\"}};\n\n  function display_loaded() {\n    var el = document.getElementById(\"1001\");\n    if (el != null) {\n      el.textContent = \"BokehJS is loading...\";\n    }\n    if (root.Bokeh !== undefined) {\n      if (el != null) {\n        el.textContent = \"BokehJS \" + root.Bokeh.version + \" successfully loaded.\";\n      }\n    } else if (Date.now() < root._bokeh_timeout) {\n      setTimeout(display_loaded, 100)\n    }\n  }\n\n\n  function run_callbacks() {\n    try {\n      root._bokeh_onload_callbacks.forEach(function(callback) {\n        if (callback != null)\n          callback();\n      });\n    } finally {\n      delete root._bokeh_onload_callbacks\n    }\n    console.debug(\"Bokeh: all callbacks have finished\");\n  }\n\n  function load_libs(css_urls, js_urls, callback) {\n    if (css_urls == null) css_urls = [];\n    if (js_urls == null) js_urls = [];\n\n    root._bokeh_onload_callbacks.push(callback);\n    if (root._bokeh_is_loading > 0) {\n      console.debug(\"Bokeh: BokehJS is being loaded, scheduling callback at\", now());\n      return null;\n    }\n    if (js_urls == null || js_urls.length === 0) {\n      run_callbacks();\n      return null;\n    }\n    console.debug(\"Bokeh: BokehJS not loaded, scheduling load and callback at\", now());\n    root._bokeh_is_loading = css_urls.length + js_urls.length;\n\n    function on_load() {\n      root._bokeh_is_loading--;\n      if (root._bokeh_is_loading === 0) {\n        console.debug(\"Bokeh: all BokehJS libraries/stylesheets loaded\");\n        run_callbacks()\n      }\n    }\n\n    function on_error() {\n      console.error(\"failed to load \" + url);\n    }\n\n    for (var i = 0; i < css_urls.length; i++) {\n      var url = css_urls[i];\n      const element = document.createElement(\"link\");\n      element.onload = on_load;\n      element.onerror = on_error;\n      element.rel = \"stylesheet\";\n      element.type = \"text/css\";\n      element.href = url;\n      console.debug(\"Bokeh: injecting link tag for BokehJS stylesheet: \", url);\n      document.body.appendChild(element);\n    }\n\n    for (var i = 0; i < js_urls.length; i++) {\n      var url = js_urls[i];\n      var element = document.createElement('script');\n      element.onload = on_load;\n      element.onerror = on_error;\n      element.async = false;\n      element.src = url;\n      console.debug(\"Bokeh: injecting script tag for BokehJS library: \", url);\n      document.head.appendChild(element);\n    }\n  };var element = document.getElementById(\"1001\");\n  if (element == null) {\n    console.error(\"Bokeh: ERROR: autoload.js configured with elementid '1001' but no matching script tag was found. \")\n    return false;\n  }\n\n  function inject_raw_css(css) {\n    const element = document.createElement(\"style\");\n    element.appendChild(document.createTextNode(css));\n    document.body.appendChild(element);\n  }\n\n  var js_urls = [\"https://cdn.pydata.org/bokeh/release/bokeh-1.2.0.min.js\", \"https://cdn.pydata.org/bokeh/release/bokeh-widgets-1.2.0.min.js\", \"https://cdn.pydata.org/bokeh/release/bokeh-tables-1.2.0.min.js\", \"https://cdn.pydata.org/bokeh/release/bokeh-gl-1.2.0.min.js\"];\n  var css_urls = [\"https://cdn.pydata.org/bokeh/release/bokeh-1.2.0.min.css\", \"https://cdn.pydata.org/bokeh/release/bokeh-widgets-1.2.0.min.css\", \"https://cdn.pydata.org/bokeh/release/bokeh-tables-1.2.0.min.css\"];\n\n  var inline_js = [\n    function(Bokeh) {\n      Bokeh.set_log_level(\"info\");\n    },\n    \n    function(Bokeh) {\n      \n    },\n    function(Bokeh) {} // ensure no trailing comma for IE\n  ];\n\n  function run_inline_js() {\n    \n    if ((root.Bokeh !== undefined) || (force === true)) {\n      for (var i = 0; i < inline_js.length; i++) {\n        inline_js[i].call(root, root.Bokeh);\n      }if (force === true) {\n        display_loaded();\n      }} else if (Date.now() < root._bokeh_timeout) {\n      setTimeout(run_inline_js, 100);\n    } else if (!root._bokeh_failed_load) {\n      console.log(\"Bokeh: BokehJS failed to load within specified timeout.\");\n      root._bokeh_failed_load = true;\n    } else if (force !== true) {\n      var cell = $(document.getElementById(\"1001\")).parents('.cell').data().cell;\n      cell.output_area.append_execute_result(NB_LOAD_WARNING)\n    }\n\n  }\n\n  if (root._bokeh_is_loading === 0) {\n    console.debug(\"Bokeh: BokehJS loaded, going straight to plotting\");\n    run_inline_js();\n  } else {\n    load_libs(css_urls, js_urls, function() {\n      console.debug(\"Bokeh: BokehJS plotting callback run at\", now());\n      run_inline_js();\n    });\n  }\n}(window));"
     },
     "metadata": {},
     "output_type": "display_data"
    }
   ],
   "source": [
    "from bokeh.io import show, output_notebook\n",
    "from bokeh.layouts import gridplot\n",
    "output_notebook()"
   ]
  },
  {
   "cell_type": "code",
   "execution_count": 3,
   "metadata": {},
   "outputs": [],
   "source": [
    "mt = hl.read_matrix_table('/home/olavur/experiments/2020-11-13_fargen1_exome_analysis/data/mt/variants.mt')"
   ]
  },
  {
   "cell_type": "code",
   "execution_count": 21,
   "metadata": {},
   "outputs": [
    {
     "data": {
      "text/plain": [
       "{5: 2520, 6: 1015, 2: 902052, 7: 524, 3: 35254, 4: 7184}"
      ]
     },
     "execution_count": 21,
     "metadata": {},
     "output_type": "execute_result"
    }
   ],
   "source": [
    "distinct_allele_counts = mt.aggregate_rows(hl.agg.counter(hl.len(mt.alleles)))\n",
    "distinct_allele_counts"
   ]
  },
  {
   "cell_type": "markdown",
   "metadata": {},
   "source": [
    "Remove multi-allelic sites. \n",
    "\n",
    "**NOTE:** it's possible to perform HWE tests on all alleles in multi-allelic variants by splitting the variants using [split_multi()](https://hail.is/docs/0.2/methods/genetics.html#hail.methods.split_multi)."
   ]
  },
  {
   "cell_type": "code",
   "execution_count": 32,
   "metadata": {},
   "outputs": [],
   "source": [
    "mt_biallelic = mt.filter_rows(hl.len(mt.alleles) == 2)"
   ]
  },
  {
   "cell_type": "markdown",
   "metadata": {},
   "source": [
    "Perform the HWE test, and annotate the rows of the `MatrixTable` with the expected heterozygote frequency and the p-value from the test."
   ]
  },
  {
   "cell_type": "code",
   "execution_count": 33,
   "metadata": {},
   "outputs": [],
   "source": [
    "mt_biallelic = mt_biallelic.annotate_rows(hwe=hl.agg.hardy_weinberg_test(mt_biallelic.GT))"
   ]
  },
  {
   "cell_type": "markdown",
   "metadata": {},
   "source": [
    "For each biallelic site, calculate the number of heterozygotes, homozygotes, and the proportion of heterozygotes."
   ]
  },
  {
   "cell_type": "code",
   "execution_count": 43,
   "metadata": {},
   "outputs": [],
   "source": [
    "mt_biallelic = mt_biallelic.annotate_rows(n_het=hl.agg.count_where(mt_biallelic.GT.is_het()))\n",
    "mt_biallelic = mt_biallelic.annotate_rows(n_hom=hl.agg.count_where(~mt_biallelic.GT.is_het()))\n",
    "mt_biallelic = mt_biallelic.annotate_rows(het_freq=mt_biallelic.n_het / (mt_biallelic.n_het + mt_biallelic.n_hom))"
   ]
  },
  {
   "cell_type": "markdown",
   "metadata": {},
   "source": [
    "Plot the p-values from the HWE test as a Q-Q plot. Looks like something went terribly wrong. Maybe just too few samples."
   ]
  },
  {
   "cell_type": "code",
   "execution_count": 54,
   "metadata": {},
   "outputs": [
    {
     "name": "stderr",
     "output_type": "stream",
     "text": [
      "2020-11-24 13:32:55 Hail: INFO: Ordering unsorted dataset with network shuffle\n"
     ]
    },
    {
     "data": {
      "text/html": [
       "\n",
       "\n",
       "\n",
       "\n",
       "\n",
       "\n",
       "  <div class=\"bk-root\" id=\"5ba3a7a4-e0d1-428b-a284-93f780b052c9\" data-root-id=\"1401\"></div>\n"
      ]
     },
     "metadata": {},
     "output_type": "display_data"
    },
    {
     "data": {
      "application/javascript": [
       "(function(root) {\n",
       "  function embed_document(root) {\n",
       "    \n",
       "  var docs_json = {\"ecaa5479-672e-4e33-9969-213e48f6e332\":{\"roots\":{\"references\":[{\"attributes\":{\"below\":[{\"id\":\"1412\",\"type\":\"LinearAxis\"}],\"center\":[{\"id\":\"1416\",\"type\":\"Grid\"},{\"id\":\"1421\",\"type\":\"Grid\"},{\"id\":\"1445\",\"type\":\"Slope\"},{\"id\":\"1446\",\"type\":\"Label\"}],\"left\":[{\"id\":\"1417\",\"type\":\"LinearAxis\"}],\"plot_height\":500,\"plot_width\":500,\"renderers\":[{\"id\":\"1441\",\"type\":\"GlyphRenderer\"}],\"title\":{\"id\":\"1402\",\"type\":\"Title\"},\"toolbar\":{\"id\":\"1428\",\"type\":\"Toolbar\"},\"x_range\":{\"id\":\"1443\",\"type\":\"DataRange1d\"},\"x_scale\":{\"id\":\"1408\",\"type\":\"LinearScale\"},\"y_range\":{\"id\":\"1444\",\"type\":\"DataRange1d\"},\"y_scale\":{\"id\":\"1410\",\"type\":\"LinearScale\"}},\"id\":\"1401\",\"subtype\":\"Figure\",\"type\":\"Plot\"},{\"attributes\":{},\"id\":\"1413\",\"type\":\"BasicTicker\"},{\"attributes\":{\"active_drag\":\"auto\",\"active_inspect\":\"auto\",\"active_multi\":null,\"active_scroll\":\"auto\",\"active_tap\":\"auto\",\"tools\":[{\"id\":\"1422\",\"type\":\"PanTool\"},{\"id\":\"1423\",\"type\":\"WheelZoomTool\"},{\"id\":\"1424\",\"type\":\"BoxZoomTool\"},{\"id\":\"1425\",\"type\":\"SaveTool\"},{\"id\":\"1426\",\"type\":\"ResetTool\"},{\"id\":\"1427\",\"type\":\"HelpTool\"},{\"id\":\"1436\",\"type\":\"HoverTool\"}]},\"id\":\"1428\",\"type\":\"Toolbar\"},{\"attributes\":{},\"id\":\"1423\",\"type\":\"WheelZoomTool\"},{\"attributes\":{\"source\":{\"id\":\"1437\",\"type\":\"ColumnDataSource\"}},\"id\":\"1442\",\"type\":\"CDSView\"},{\"attributes\":{},\"id\":\"1426\",\"type\":\"ResetTool\"},{\"attributes\":{\"axis_label\":\"Observed -log10(p)\",\"formatter\":{\"id\":\"1464\",\"type\":\"BasicTickFormatter\"},\"ticker\":{\"id\":\"1418\",\"type\":\"BasicTicker\"}},\"id\":\"1417\",\"type\":\"LinearAxis\"},{\"attributes\":{},\"id\":\"1408\",\"type\":\"LinearScale\"},{\"attributes\":{},\"id\":\"1425\",\"type\":\"SaveTool\"},{\"attributes\":{\"data_source\":{\"id\":\"1437\",\"type\":\"ColumnDataSource\"},\"glyph\":{\"id\":\"1439\",\"type\":\"Circle\"},\"hover_glyph\":null,\"muted_glyph\":null,\"nonselection_glyph\":{\"id\":\"1440\",\"type\":\"Circle\"},\"selection_glyph\":null,\"view\":{\"id\":\"1442\",\"type\":\"CDSView\"}},\"id\":\"1441\",\"type\":\"GlyphRenderer\"},{\"attributes\":{\"bottom_units\":\"screen\",\"fill_alpha\":{\"value\":0.5},\"fill_color\":{\"value\":\"lightgrey\"},\"left_units\":\"screen\",\"level\":\"overlay\",\"line_alpha\":{\"value\":1.0},\"line_color\":{\"value\":\"black\"},\"line_dash\":[4,4],\"line_width\":{\"value\":2},\"render_mode\":\"css\",\"right_units\":\"screen\",\"top_units\":\"screen\"},\"id\":\"1468\",\"type\":\"BoxAnnotation\"},{\"attributes\":{\"ticker\":{\"id\":\"1413\",\"type\":\"BasicTicker\"}},\"id\":\"1416\",\"type\":\"Grid\"},{\"attributes\":{},\"id\":\"1422\",\"type\":\"PanTool\"},{\"attributes\":{\"fill_alpha\":{\"value\":0.1},\"fill_color\":{\"value\":\"#1f77b4\"},\"line_alpha\":{\"value\":0.1},\"line_color\":{\"value\":\"#1f77b4\"},\"size\":{\"units\":\"screen\",\"value\":6},\"x\":{\"field\":\"x\"},\"y\":{\"field\":\"y\"}},\"id\":\"1440\",\"type\":\"Circle\"},{\"attributes\":{\"text\":\"\\u03bb GC: 1.00\",\"text_color\":{\"value\":\"black\"},\"text_font_size\":{\"value\":\"14pt\"},\"text_font_style\":\"bold\",\"x\":12.349335276799911,\"y\":1},\"id\":\"1446\",\"type\":\"Label\"},{\"attributes\":{\"callback\":null,\"tooltips\":[[\"x\",\"@x\"],[\"y\",\"@y\"],[\"p_value\",\"@p_value\"]]},\"id\":\"1436\",\"type\":\"HoverTool\"},{\"attributes\":{\"text\":\"Q-Q plot of HWE p-values\"},\"id\":\"1402\",\"type\":\"Title\"},{\"attributes\":{},\"id\":\"1466\",\"type\":\"BasicTickFormatter\"},{\"attributes\":{},\"id\":\"1410\",\"type\":\"LinearScale\"},{\"attributes\":{\"callback\":null,\"end\":15.528629737411661,\"start\":0},\"id\":\"1443\",\"type\":\"DataRange1d\"},{\"attributes\":{\"callback\":null,\"data\":{\"index\":[0,1,2,3,4,5,6,7,8,9,10,11,12,13,14,15,16,17,18,19,20,21,22,23,24,25,26,27,28,29,30,31,32,33,34,35,36,37,38,39,40,41,42,43,44,45,46,47,48,49,50,51,52,53,54,55,56,57,58,59,60,61,62,63,64,65,66,67,68,69,70,71,72,73,74,75,76,77,78,79,80,81,82,83,84,85,86,87,88,89,90,91,92,93,94,95,96,97,98,99,100,101,102,103,104,105,106,107,108,109,110,111,112,113,114,115,116,117,118,119,120,121,122,123,124,125,126,127,128,129,130,131,132,133,134,135,136,137,138,139,140,141,142,143,144,145,146,147,148,149,150,151,152,153,154,155,156,157,158,159,160,161,162,163,164,165,166,167,168,169,170,171,172,173,174,175,176,177,178,179,180,181,182,183,184,185,186,187,188,189,190,191,192,193,194,195,196,197,198,199,200,201,202,203,204,205,206,207,208,209,210,211,212,213,214,215,216,217,218,219,220,221,222,223,224,225,226,227,228,229,230,231,232,233,234,235,236,237,238,239,240,241,242,243,244,245,246,247,248,249,250,251,252,253,254,255,256,257,258,259,260,261,262,263,264,265,266,267,268,269,270,271,272,273,274,275,276,277,278,279,280,281,282,283,284,285,286,287,288,289,290,291,292,293,294,295,296,297,298,299,300,301,302,303,304,305,306,307,308,309,310,311,312,313,314,315,316,317,318,319,320,321,322,323,324,325,326,327,328,329,330,331,332,333,334,335,336,337,338,339,340,341,342,343,344,345,346,347,348,349,350,351,352,353,354,355,356,357,358,359,360,361,362,363,364,365,366,367,368,369,370,371,372,373,374,375,376,377,378,379,380,381,382,383,384,385,386,387,388,389,390,391,392,393,394,395,396,397,398,399,400,401,402,403,404,405,406,407,408,409,410,411,412,413,414,415,416,417,418,419,420,421,422,423,424,425,426,427,428,429,430,431,432,433,434,435,436,437,438,439,440,441,442,443,444,445,446,447,448,449,450,451,452,453,454,455,456,457,458,459,460,461,462,463,464,465,466,467,468,469,470,471,472,473,474,475,476,477,478,479,480,481,482,483,484,485,486,487,488,489,490,491,492,493,494,495,496,497,498,499,500,501,502,503,504,505,506,507,508,509,510,511,512,513,514,515,516,517,518,519,520,521,522,523,524,525,526,527,528,529,530,531,532,533,534,535,536,537,538,539,540,541,542,543,544,545,546,547,548,549,550,551,552,553,554,555,556,557,558,559,560,561,562,563,564,565,566,567,568,569,570,571,572,573,574,575,576,577,578,579,580,581,582,583,584,585,586,587,588,589,590,591,592,593,594,595,596,597,598,599,600,601,602,603,604,605,606,607,608,609,610,611,612,613,614,615,616,617,618,619,620,621,622],\"p_value\":{\"__ndarray__\":\"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\",\"dtype\":\"float64\",\"shape\":[623]},\"x\":{\"__ndarray__\":\"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\",\"dtype\":\"float64\",\"shape\":[623]},\"y\":{\"__ndarray__\":\"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\",\"dtype\":\"float64\",\"shape\":[623]}},\"selected\":{\"id\":\"1469\",\"type\":\"Selection\"},\"selection_policy\":{\"id\":\"1470\",\"type\":\"UnionRenderers\"}},\"id\":\"1437\",\"type\":\"ColumnDataSource\"},{\"attributes\":{},\"id\":\"1469\",\"type\":\"Selection\"},{\"attributes\":{},\"id\":\"1470\",\"type\":\"UnionRenderers\"},{\"attributes\":{\"fill_color\":{\"value\":\"#1f77b4\"},\"line_color\":{\"value\":\"#1f77b4\"},\"size\":{\"units\":\"screen\",\"value\":6},\"x\":{\"field\":\"x\"},\"y\":{\"field\":\"y\"}},\"id\":\"1439\",\"type\":\"Circle\"},{\"attributes\":{\"overlay\":{\"id\":\"1468\",\"type\":\"BoxAnnotation\"}},\"id\":\"1424\",\"type\":\"BoxZoomTool\"},{\"attributes\":{\"callback\":null,\"end\":15.528629737411661,\"start\":0},\"id\":\"1444\",\"type\":\"DataRange1d\"},{\"attributes\":{},\"id\":\"1418\",\"type\":\"BasicTicker\"},{\"attributes\":{},\"id\":\"1427\",\"type\":\"HelpTool\"},{\"attributes\":{\"gradient\":1,\"line_color\":{\"value\":\"red\"},\"y_intercept\":0},\"id\":\"1445\",\"type\":\"Slope\"},{\"attributes\":{},\"id\":\"1464\",\"type\":\"BasicTickFormatter\"},{\"attributes\":{\"axis_label\":\"Expected -log10(p)\",\"formatter\":{\"id\":\"1466\",\"type\":\"BasicTickFormatter\"},\"ticker\":{\"id\":\"1413\",\"type\":\"BasicTicker\"}},\"id\":\"1412\",\"type\":\"LinearAxis\"},{\"attributes\":{\"dimension\":1,\"ticker\":{\"id\":\"1418\",\"type\":\"BasicTicker\"}},\"id\":\"1421\",\"type\":\"Grid\"}],\"root_ids\":[\"1401\"]},\"title\":\"Bokeh Application\",\"version\":\"1.2.0\"}};\n",
       "  var render_items = [{\"docid\":\"ecaa5479-672e-4e33-9969-213e48f6e332\",\"roots\":{\"1401\":\"5ba3a7a4-e0d1-428b-a284-93f780b052c9\"}}];\n",
       "  root.Bokeh.embed.embed_items_notebook(docs_json, render_items);\n",
       "\n",
       "  }\n",
       "  if (root.Bokeh !== undefined) {\n",
       "    embed_document(root);\n",
       "  } else {\n",
       "    var attempts = 0;\n",
       "    var timer = setInterval(function(root) {\n",
       "      if (root.Bokeh !== undefined) {\n",
       "        embed_document(root);\n",
       "        clearInterval(timer);\n",
       "      }\n",
       "      attempts++;\n",
       "      if (attempts > 100) {\n",
       "        console.log(\"Bokeh: ERROR: Unable to run BokehJS code because BokehJS library is missing\");\n",
       "        clearInterval(timer);\n",
       "      }\n",
       "    }, 10, root)\n",
       "  }\n",
       "})(window);"
      ],
      "application/vnd.bokehjs_exec.v0+json": ""
     },
     "metadata": {
      "application/vnd.bokehjs_exec.v0+json": {
       "id": "1401"
      }
     },
     "output_type": "display_data"
    }
   ],
   "source": [
    "p = hl.plot.qq(mt_biallelic.hwe.p_value, title='Q-Q plot of HWE p-values')\n",
    "p.plot_height = 500\n",
    "p.plot_width = 500\n",
    "show(p)"
   ]
  },
  {
   "cell_type": "code",
   "execution_count": 55,
   "metadata": {},
   "outputs": [
    {
     "data": {
      "text/html": [
       "\n",
       "\n",
       "\n",
       "\n",
       "\n",
       "\n",
       "  <div class=\"bk-root\" id=\"7a3d4f1a-7383-4529-ba3e-85ed8e81e920\" data-root-id=\"1519\"></div>\n"
      ]
     },
     "metadata": {},
     "output_type": "display_data"
    },
    {
     "data": {
      "application/javascript": [
       "(function(root) {\n",
       "  function embed_document(root) {\n",
       "    \n",
       "  var docs_json = {\"3036b23c-c017-46a8-8f1a-b0e133b12a2f\":{\"roots\":{\"references\":[{\"attributes\":{\"below\":[{\"id\":\"1529\",\"type\":\"LinearAxis\"}],\"center\":[{\"id\":\"1533\",\"type\":\"Grid\"},{\"id\":\"1538\",\"type\":\"Grid\"}],\"left\":[{\"id\":\"1534\",\"type\":\"LinearAxis\"}],\"plot_height\":800,\"plot_width\":800,\"renderers\":[{\"id\":\"1558\",\"type\":\"GlyphRenderer\"}],\"title\":null,\"toolbar\":{\"id\":\"1545\",\"type\":\"Toolbar\"},\"x_range\":{\"id\":\"1521\",\"type\":\"DataRange1d\"},\"x_scale\":{\"id\":\"1525\",\"type\":\"LinearScale\"},\"y_range\":{\"id\":\"1523\",\"type\":\"DataRange1d\"},\"y_scale\":{\"id\":\"1527\",\"type\":\"LinearScale\"}},\"id\":\"1519\",\"subtype\":\"Figure\",\"type\":\"Plot\"},{\"attributes\":{},\"id\":\"1585\",\"type\":\"BasicTickFormatter\"},{\"attributes\":{\"formatter\":{\"id\":\"1587\",\"type\":\"BasicTickFormatter\"},\"ticker\":{\"id\":\"1530\",\"type\":\"BasicTicker\"}},\"id\":\"1529\",\"type\":\"LinearAxis\"},{\"attributes\":{\"formatter\":{\"id\":\"1585\",\"type\":\"BasicTickFormatter\"},\"ticker\":{\"id\":\"1535\",\"type\":\"BasicTicker\"}},\"id\":\"1534\",\"type\":\"LinearAxis\"},{\"attributes\":{},\"id\":\"1527\",\"type\":\"LinearScale\"},{\"attributes\":{\"bottom_units\":\"screen\",\"fill_alpha\":{\"value\":0.5},\"fill_color\":{\"value\":\"lightgrey\"},\"left_units\":\"screen\",\"level\":\"overlay\",\"line_alpha\":{\"value\":1.0},\"line_color\":{\"value\":\"black\"},\"line_dash\":[4,4],\"line_width\":{\"value\":2},\"render_mode\":\"css\",\"right_units\":\"screen\",\"top_units\":\"screen\"},\"id\":\"1589\",\"type\":\"BoxAnnotation\"},{\"attributes\":{},\"id\":\"1530\",\"type\":\"BasicTicker\"},{\"attributes\":{\"callback\":null},\"id\":\"1523\",\"type\":\"DataRange1d\"},{\"attributes\":{\"callback\":null},\"id\":\"1521\",\"type\":\"DataRange1d\"},{\"attributes\":{},\"id\":\"1591\",\"type\":\"UnionRenderers\"},{\"attributes\":{},\"id\":\"1539\",\"type\":\"PanTool\"},{\"attributes\":{},\"id\":\"1542\",\"type\":\"SaveTool\"},{\"attributes\":{\"callback\":null,\"tooltips\":[[\"x\",\"@x\"],[\"y\",\"@y\"]]},\"id\":\"1553\",\"type\":\"HoverTool\"},{\"attributes\":{\"active_drag\":\"auto\",\"active_inspect\":\"auto\",\"active_multi\":null,\"active_scroll\":\"auto\",\"active_tap\":\"auto\",\"tools\":[{\"id\":\"1539\",\"type\":\"PanTool\"},{\"id\":\"1540\",\"type\":\"WheelZoomTool\"},{\"id\":\"1541\",\"type\":\"BoxZoomTool\"},{\"id\":\"1542\",\"type\":\"SaveTool\"},{\"id\":\"1543\",\"type\":\"ResetTool\"},{\"id\":\"1544\",\"type\":\"HelpTool\"},{\"id\":\"1553\",\"type\":\"HoverTool\"}]},\"id\":\"1545\",\"type\":\"Toolbar\"},{\"attributes\":{},\"id\":\"1535\",\"type\":\"BasicTicker\"},{\"attributes\":{},\"id\":\"1587\",\"type\":\"BasicTickFormatter\"},{\"attributes\":{\"fill_color\":{\"value\":\"#1f77b4\"},\"line_color\":{\"value\":\"#1f77b4\"},\"x\":{\"field\":\"x\"},\"y\":{\"field\":\"y\"}},\"id\":\"1556\",\"type\":\"Circle\"},{\"attributes\":{\"fill_alpha\":{\"value\":0.1},\"fill_color\":{\"value\":\"#1f77b4\"},\"line_alpha\":{\"value\":0.1},\"line_color\":{\"value\":\"#1f77b4\"},\"x\":{\"field\":\"x\"},\"y\":{\"field\":\"y\"}},\"id\":\"1557\",\"type\":\"Circle\"},{\"attributes\":{\"source\":{\"id\":\"1554\",\"type\":\"ColumnDataSource\"}},\"id\":\"1559\",\"type\":\"CDSView\"},{\"attributes\":{\"callback\":null,\"data\":{\"index\":[0,1,2,3,4,5,6,7,8,9,10,11,12,13,14,15,16,17,18,19,20,21,22,23,24,25,26,27,28,29,30,31,32,33,34,35,36,37,38,39,40,41,42,43,44,45,46,47,48,49,50,51,52,53,54,55,56,57,58,59,60,61,62,63,64,65,66,67,68,69,70,71,72,73,74,75,76,77,78,79,80,81,82,83,84,85,86,87,88,89,90,91,92,93,94,95,96,97,98,99,100,101,102,103,104,105,106,107,108,109,110,111,112,113,114,115,116,117,118,119,120,121,122,123,124,125,126,127,128,129,130,131,132,133,134,135,136,137,138,139,140,141,142,143,144,145,146,147,148,149,150,151,152,153,154,155,156,157,158,159,160,161,162,163,164,165,166,167,168,169,170,171,172,173,174,175,176,177,178,179,180,181,182,183,184,185,186,187,188,189,190,191,192,193,194,195,196,197,198,199,200,201,202,203,204,205,206,207,208,209,210,211,212,213,214,215,216,217,218,219,220,221,222,223,224,225,226,227,228,229,230,231,232,233,234,235,236,237,238,239,240,241,242,243,244,245,246,247,248,249,250,251,252,253,254,255,256,257,258,259,260,261,262,263,264,265,266,267,268,269,270,271,272,273,274,275,276,277,278,279,280,281,282,283,284,285,286,287,288,289,290,291,292,293,294,295,296,297,298,299,300,301,302,303,304,305,306,307,308,309,310,311,312,313,314,315,316,317,318,319,320,321,322,323,324,325,326,327,328,329,330,331,332,333,334,335,336,337,338,339,340,341,342,343,344,345,346,347,348,349,350,351,352,353,354,355,356,357,358,359,360,361,362,363,364,365,366,367,368,369,370,371,372,373,374,375,376,377,378,379,380,381,382,383,384,385,386,387,388,389,390,391,392,393,394,395,396,397,398,399,400,401,402,403,404,405,406,407,408,409,410,411,412,413,414,415,416,417,418,419,420,421,422,423,424,425,426,427,428,429,430,431,432,433,434,435,436,437,438,439,440,441,442,443,444,445,446,447,448,449,450,451,452,453,454,455,456,457,458,459,460,461,462,463,464,465,466,467,468,469,470,471,472,473,474,475,476,477,478,479,480,481,482,483,484,485,486,487,488,489,490,491,492,493,494,495,496,497,498,499,500,501,502,503,504,505,506,507,508,509,510,511,512,513,514,515,516,517,518,519,520,521,522,523,524,525,526,527,528,529,530,531,532,533,534,535,536,537,538,539,540,541,542,543,544,545,546,547,548,549,550,551,552,553,554,555,556,557,558,559,560,561,562,563,564,565,566,567,568,569,570,571,572,573,574,575,576,577,578,579,580,581,582,583,584,585,586,587,588,589,590,591,592,593,594,595,596,597,598,599,600,601,602,603,604,605,606,607,608,609,610,611,612,613,614,615,616,617,618,619,620,621,622,623,624,625,626,627,628,629,630,631,632,633,634,635,636,637,638,639,640,641,642,643,644,645,646,647,648,649,650,651,652,653,654,655,656,657,658,659,660,661,662,663,664,665,666,667,668,669,670,671,672,673,674,675,676,677,678,679,680,681,682,683,684,685,686,687,688,689,690,691,692,693,694,695,696,697,698,699,700,701,702,703,704,705,706,707,708,709,710,711,712,713,714,715,716,717,718,719,720,721,722,723,724,725,726,727,728,729,730,731,732,733,734,735,736,737,738,739,740,741,742,743,744,745,746,747,748,749,750,751,752,753,754,755,756,757,758,759,760,761,762,763,764,765,766,767,768,769,770,771,772,773,774,775,776,777,778,779,780,781,782,783,784,785,786,787,788,789,790,791,792,793,794,795,796,797,798,799,800,801,802,803,804,805,806,807,808,809,810,811,812,813,814,815,816,817,818,819,820,821,822,823,824,825,826,827,828,829,830,831,832,833,834,835,836,837,838,839,840,841,842,843,844,845,846,847,848,849,850,851,852,853,854,855,856,857,858,859,860,861,862,863,864,865,866,867,868,869,870,871,872,873,874,875,876,877,878,879,880,881,882,883,884,885,886,887,888,889,890,891,892,893,894,895,896,897,898,899,900,901,902,903,904,905,906,907,908,909,910,911,912,913,914,915,916,917,918,919,920,921,922,923,924,925,926,927,928,929,930,931,932,933,934,935,936,937,938,939,940,941,942,943,944,945,946,947,948,949,950,951,952,953,954,955,956,957,958,959,960,961,962,963,964,965,966,967,968,969,970,971,972,973,974,975,976,977,978,979,980,981,982,983,984,985,986,987,988,989,990,991,992,993,994,995,996,997,998,999,1000,1001,1002,1003,1004,1005,1006,1007,1008,1009,1010,1011,1012,1013,1014,1015,1016,1017,1018,1019,1020,1021,1022,1023,1024,1025,1026,1027,1028,1029,1030,1031,1032,1033,1034,1035,1036,1037,1038,1039,1040,1041,1042,1043,1044,1045,1046,1047,1048,1049,1050,1051,1052,1053,1054,1055,1056,1057,1058,1059,1060,1061,1062,1063,1064,1065,1066,1067,1068,1069,1070,1071,1072,1073,1074,1075,1076,1077,1078,1079,1080,1081,1082,1083,1084,1085,1086,1087,1088,1089,1090,1091,1092,1093,1094,1095,1096,1097,1098,1099,1100,1101,1102,1103,1104,1105,1106,1107,1108,1109,1110,1111,1112,1113,1114,1115,1116,1117,1118,1119,1120,1121,1122,1123,1124,1125,1126,1127,1128,1129,1130,1131,1132,1133,1134,1135,1136,1137,1138,1139,1140,1141,1142,1143,1144,1145,1146,1147,1148,1149,1150,1151,1152,1153,1154],\"x\":{\"__ndarray__\":\"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\",\"dtype\":\"float64\",\"shape\":[1155]},\"y\":{\"__ndarray__\":\"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\",\"dtype\":\"float64\",\"shape\":[1155]}},\"selected\":{\"id\":\"1590\",\"type\":\"Selection\"},\"selection_policy\":{\"id\":\"1591\",\"type\":\"UnionRenderers\"}},\"id\":\"1554\",\"type\":\"ColumnDataSource\"},{\"attributes\":{},\"id\":\"1525\",\"type\":\"LinearScale\"},{\"attributes\":{\"overlay\":{\"id\":\"1589\",\"type\":\"BoxAnnotation\"}},\"id\":\"1541\",\"type\":\"BoxZoomTool\"},{\"attributes\":{\"ticker\":{\"id\":\"1530\",\"type\":\"BasicTicker\"}},\"id\":\"1533\",\"type\":\"Grid\"},{\"attributes\":{},\"id\":\"1543\",\"type\":\"ResetTool\"},{\"attributes\":{},\"id\":\"1590\",\"type\":\"Selection\"},{\"attributes\":{},\"id\":\"1540\",\"type\":\"WheelZoomTool\"},{\"attributes\":{\"data_source\":{\"id\":\"1554\",\"type\":\"ColumnDataSource\"},\"glyph\":{\"id\":\"1556\",\"type\":\"Circle\"},\"hover_glyph\":null,\"muted_glyph\":null,\"nonselection_glyph\":{\"id\":\"1557\",\"type\":\"Circle\"},\"selection_glyph\":null,\"view\":{\"id\":\"1559\",\"type\":\"CDSView\"}},\"id\":\"1558\",\"type\":\"GlyphRenderer\"},{\"attributes\":{\"dimension\":1,\"ticker\":{\"id\":\"1535\",\"type\":\"BasicTicker\"}},\"id\":\"1538\",\"type\":\"Grid\"},{\"attributes\":{},\"id\":\"1544\",\"type\":\"HelpTool\"}],\"root_ids\":[\"1519\"]},\"title\":\"Bokeh Application\",\"version\":\"1.2.0\"}};\n",
       "  var render_items = [{\"docid\":\"3036b23c-c017-46a8-8f1a-b0e133b12a2f\",\"roots\":{\"1519\":\"7a3d4f1a-7383-4529-ba3e-85ed8e81e920\"}}];\n",
       "  root.Bokeh.embed.embed_items_notebook(docs_json, render_items);\n",
       "\n",
       "  }\n",
       "  if (root.Bokeh !== undefined) {\n",
       "    embed_document(root);\n",
       "  } else {\n",
       "    var attempts = 0;\n",
       "    var timer = setInterval(function(root) {\n",
       "      if (root.Bokeh !== undefined) {\n",
       "        embed_document(root);\n",
       "        clearInterval(timer);\n",
       "      }\n",
       "      attempts++;\n",
       "      if (attempts > 100) {\n",
       "        console.log(\"Bokeh: ERROR: Unable to run BokehJS code because BokehJS library is missing\");\n",
       "        clearInterval(timer);\n",
       "      }\n",
       "    }, 10, root)\n",
       "  }\n",
       "})(window);"
      ],
      "application/vnd.bokehjs_exec.v0+json": ""
     },
     "metadata": {
      "application/vnd.bokehjs_exec.v0+json": {
       "id": "1519"
      }
     },
     "output_type": "display_data"
    }
   ],
   "source": [
    "p = hl.plot.scatter(mt_biallelic.het_freq, mt_biallelic.hwe.het_freq_hwe)\n",
    "show(p)"
   ]
  },
  {
   "cell_type": "code",
   "execution_count": null,
   "metadata": {},
   "outputs": [],
   "source": []
  }
 ],
 "metadata": {
  "kernelspec": {
   "display_name": "Python 3",
   "language": "python",
   "name": "python3"
  },
  "language_info": {
   "codemirror_mode": {
    "name": "ipython",
    "version": 3
   },
   "file_extension": ".py",
   "mimetype": "text/x-python",
   "name": "python",
   "nbconvert_exporter": "python",
   "pygments_lexer": "ipython3",
   "version": "3.6.11"
  }
 },
 "nbformat": 4,
 "nbformat_minor": 4
}
