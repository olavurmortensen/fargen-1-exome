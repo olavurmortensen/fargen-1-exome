{
 "cells": [
  {
   "cell_type": "markdown",
   "metadata": {},
   "source": [
    "# Hardy-Weinberg Equilibrium"
   ]
  },
  {
   "cell_type": "code",
   "execution_count": 1,
   "metadata": {},
   "outputs": [
    {
     "name": "stderr",
     "output_type": "stream",
     "text": [
      "Running on Apache Spark version 2.4.6\n",
      "SparkUI available at http://hms-beagle-5466c684ff-2l8nm:4044\n",
      "Welcome to\n",
      "     __  __     <>__\n",
      "    / /_/ /__  __/ /\n",
      "   / __  / _ `/ / /\n",
      "  /_/ /_/\\_,_/_/_/   version 0.2.58-3f304aae6ce2\n",
      "LOGGING: writing to /home/olavur/experiments/2020-11-13_fargen1_exome_analysis/fargen-1-exome/notebooks/hail-20201203-0848-0.2.58-3f304aae6ce2.log\n"
     ]
    }
   ],
   "source": [
    "import hail as hl\n",
    "hl.init()"
   ]
  },
  {
   "cell_type": "code",
   "execution_count": 2,
   "metadata": {},
   "outputs": [
    {
     "data": {
      "text/html": [
       "\n",
       "    <div class=\"bk-root\">\n",
       "        <a href=\"https://bokeh.pydata.org\" target=\"_blank\" class=\"bk-logo bk-logo-small bk-logo-notebook\"></a>\n",
       "        <span id=\"1001\">Loading BokehJS ...</span>\n",
       "    </div>"
      ]
     },
     "metadata": {},
     "output_type": "display_data"
    },
    {
     "data": {
      "application/javascript": [
       "\n",
       "(function(root) {\n",
       "  function now() {\n",
       "    return new Date();\n",
       "  }\n",
       "\n",
       "  var force = true;\n",
       "\n",
       "  if (typeof root._bokeh_onload_callbacks === \"undefined\" || force === true) {\n",
       "    root._bokeh_onload_callbacks = [];\n",
       "    root._bokeh_is_loading = undefined;\n",
       "  }\n",
       "\n",
       "  var JS_MIME_TYPE = 'application/javascript';\n",
       "  var HTML_MIME_TYPE = 'text/html';\n",
       "  var EXEC_MIME_TYPE = 'application/vnd.bokehjs_exec.v0+json';\n",
       "  var CLASS_NAME = 'output_bokeh rendered_html';\n",
       "\n",
       "  /**\n",
       "   * Render data to the DOM node\n",
       "   */\n",
       "  function render(props, node) {\n",
       "    var script = document.createElement(\"script\");\n",
       "    node.appendChild(script);\n",
       "  }\n",
       "\n",
       "  /**\n",
       "   * Handle when an output is cleared or removed\n",
       "   */\n",
       "  function handleClearOutput(event, handle) {\n",
       "    var cell = handle.cell;\n",
       "\n",
       "    var id = cell.output_area._bokeh_element_id;\n",
       "    var server_id = cell.output_area._bokeh_server_id;\n",
       "    // Clean up Bokeh references\n",
       "    if (id != null && id in Bokeh.index) {\n",
       "      Bokeh.index[id].model.document.clear();\n",
       "      delete Bokeh.index[id];\n",
       "    }\n",
       "\n",
       "    if (server_id !== undefined) {\n",
       "      // Clean up Bokeh references\n",
       "      var cmd = \"from bokeh.io.state import curstate; print(curstate().uuid_to_server['\" + server_id + \"'].get_sessions()[0].document.roots[0]._id)\";\n",
       "      cell.notebook.kernel.execute(cmd, {\n",
       "        iopub: {\n",
       "          output: function(msg) {\n",
       "            var id = msg.content.text.trim();\n",
       "            if (id in Bokeh.index) {\n",
       "              Bokeh.index[id].model.document.clear();\n",
       "              delete Bokeh.index[id];\n",
       "            }\n",
       "          }\n",
       "        }\n",
       "      });\n",
       "      // Destroy server and session\n",
       "      var cmd = \"import bokeh.io.notebook as ion; ion.destroy_server('\" + server_id + \"')\";\n",
       "      cell.notebook.kernel.execute(cmd);\n",
       "    }\n",
       "  }\n",
       "\n",
       "  /**\n",
       "   * Handle when a new output is added\n",
       "   */\n",
       "  function handleAddOutput(event, handle) {\n",
       "    var output_area = handle.output_area;\n",
       "    var output = handle.output;\n",
       "\n",
       "    // limit handleAddOutput to display_data with EXEC_MIME_TYPE content only\n",
       "    if ((output.output_type != \"display_data\") || (!output.data.hasOwnProperty(EXEC_MIME_TYPE))) {\n",
       "      return\n",
       "    }\n",
       "\n",
       "    var toinsert = output_area.element.find(\".\" + CLASS_NAME.split(' ')[0]);\n",
       "\n",
       "    if (output.metadata[EXEC_MIME_TYPE][\"id\"] !== undefined) {\n",
       "      toinsert[toinsert.length - 1].firstChild.textContent = output.data[JS_MIME_TYPE];\n",
       "      // store reference to embed id on output_area\n",
       "      output_area._bokeh_element_id = output.metadata[EXEC_MIME_TYPE][\"id\"];\n",
       "    }\n",
       "    if (output.metadata[EXEC_MIME_TYPE][\"server_id\"] !== undefined) {\n",
       "      var bk_div = document.createElement(\"div\");\n",
       "      bk_div.innerHTML = output.data[HTML_MIME_TYPE];\n",
       "      var script_attrs = bk_div.children[0].attributes;\n",
       "      for (var i = 0; i < script_attrs.length; i++) {\n",
       "        toinsert[toinsert.length - 1].firstChild.setAttribute(script_attrs[i].name, script_attrs[i].value);\n",
       "      }\n",
       "      // store reference to server id on output_area\n",
       "      output_area._bokeh_server_id = output.metadata[EXEC_MIME_TYPE][\"server_id\"];\n",
       "    }\n",
       "  }\n",
       "\n",
       "  function register_renderer(events, OutputArea) {\n",
       "\n",
       "    function append_mime(data, metadata, element) {\n",
       "      // create a DOM node to render to\n",
       "      var toinsert = this.create_output_subarea(\n",
       "        metadata,\n",
       "        CLASS_NAME,\n",
       "        EXEC_MIME_TYPE\n",
       "      );\n",
       "      this.keyboard_manager.register_events(toinsert);\n",
       "      // Render to node\n",
       "      var props = {data: data, metadata: metadata[EXEC_MIME_TYPE]};\n",
       "      render(props, toinsert[toinsert.length - 1]);\n",
       "      element.append(toinsert);\n",
       "      return toinsert\n",
       "    }\n",
       "\n",
       "    /* Handle when an output is cleared or removed */\n",
       "    events.on('clear_output.CodeCell', handleClearOutput);\n",
       "    events.on('delete.Cell', handleClearOutput);\n",
       "\n",
       "    /* Handle when a new output is added */\n",
       "    events.on('output_added.OutputArea', handleAddOutput);\n",
       "\n",
       "    /**\n",
       "     * Register the mime type and append_mime function with output_area\n",
       "     */\n",
       "    OutputArea.prototype.register_mime_type(EXEC_MIME_TYPE, append_mime, {\n",
       "      /* Is output safe? */\n",
       "      safe: true,\n",
       "      /* Index of renderer in `output_area.display_order` */\n",
       "      index: 0\n",
       "    });\n",
       "  }\n",
       "\n",
       "  // register the mime type if in Jupyter Notebook environment and previously unregistered\n",
       "  if (root.Jupyter !== undefined) {\n",
       "    var events = require('base/js/events');\n",
       "    var OutputArea = require('notebook/js/outputarea').OutputArea;\n",
       "\n",
       "    if (OutputArea.prototype.mime_types().indexOf(EXEC_MIME_TYPE) == -1) {\n",
       "      register_renderer(events, OutputArea);\n",
       "    }\n",
       "  }\n",
       "\n",
       "  \n",
       "  if (typeof (root._bokeh_timeout) === \"undefined\" || force === true) {\n",
       "    root._bokeh_timeout = Date.now() + 5000;\n",
       "    root._bokeh_failed_load = false;\n",
       "  }\n",
       "\n",
       "  var NB_LOAD_WARNING = {'data': {'text/html':\n",
       "     \"<div style='background-color: #fdd'>\\n\"+\n",
       "     \"<p>\\n\"+\n",
       "     \"BokehJS does not appear to have successfully loaded. If loading BokehJS from CDN, this \\n\"+\n",
       "     \"may be due to a slow or bad network connection. Possible fixes:\\n\"+\n",
       "     \"</p>\\n\"+\n",
       "     \"<ul>\\n\"+\n",
       "     \"<li>re-rerun `output_notebook()` to attempt to load from CDN again, or</li>\\n\"+\n",
       "     \"<li>use INLINE resources instead, as so:</li>\\n\"+\n",
       "     \"</ul>\\n\"+\n",
       "     \"<code>\\n\"+\n",
       "     \"from bokeh.resources import INLINE\\n\"+\n",
       "     \"output_notebook(resources=INLINE)\\n\"+\n",
       "     \"</code>\\n\"+\n",
       "     \"</div>\"}};\n",
       "\n",
       "  function display_loaded() {\n",
       "    var el = document.getElementById(\"1001\");\n",
       "    if (el != null) {\n",
       "      el.textContent = \"BokehJS is loading...\";\n",
       "    }\n",
       "    if (root.Bokeh !== undefined) {\n",
       "      if (el != null) {\n",
       "        el.textContent = \"BokehJS \" + root.Bokeh.version + \" successfully loaded.\";\n",
       "      }\n",
       "    } else if (Date.now() < root._bokeh_timeout) {\n",
       "      setTimeout(display_loaded, 100)\n",
       "    }\n",
       "  }\n",
       "\n",
       "\n",
       "  function run_callbacks() {\n",
       "    try {\n",
       "      root._bokeh_onload_callbacks.forEach(function(callback) {\n",
       "        if (callback != null)\n",
       "          callback();\n",
       "      });\n",
       "    } finally {\n",
       "      delete root._bokeh_onload_callbacks\n",
       "    }\n",
       "    console.debug(\"Bokeh: all callbacks have finished\");\n",
       "  }\n",
       "\n",
       "  function load_libs(css_urls, js_urls, callback) {\n",
       "    if (css_urls == null) css_urls = [];\n",
       "    if (js_urls == null) js_urls = [];\n",
       "\n",
       "    root._bokeh_onload_callbacks.push(callback);\n",
       "    if (root._bokeh_is_loading > 0) {\n",
       "      console.debug(\"Bokeh: BokehJS is being loaded, scheduling callback at\", now());\n",
       "      return null;\n",
       "    }\n",
       "    if (js_urls == null || js_urls.length === 0) {\n",
       "      run_callbacks();\n",
       "      return null;\n",
       "    }\n",
       "    console.debug(\"Bokeh: BokehJS not loaded, scheduling load and callback at\", now());\n",
       "    root._bokeh_is_loading = css_urls.length + js_urls.length;\n",
       "\n",
       "    function on_load() {\n",
       "      root._bokeh_is_loading--;\n",
       "      if (root._bokeh_is_loading === 0) {\n",
       "        console.debug(\"Bokeh: all BokehJS libraries/stylesheets loaded\");\n",
       "        run_callbacks()\n",
       "      }\n",
       "    }\n",
       "\n",
       "    function on_error() {\n",
       "      console.error(\"failed to load \" + url);\n",
       "    }\n",
       "\n",
       "    for (var i = 0; i < css_urls.length; i++) {\n",
       "      var url = css_urls[i];\n",
       "      const element = document.createElement(\"link\");\n",
       "      element.onload = on_load;\n",
       "      element.onerror = on_error;\n",
       "      element.rel = \"stylesheet\";\n",
       "      element.type = \"text/css\";\n",
       "      element.href = url;\n",
       "      console.debug(\"Bokeh: injecting link tag for BokehJS stylesheet: \", url);\n",
       "      document.body.appendChild(element);\n",
       "    }\n",
       "\n",
       "    for (var i = 0; i < js_urls.length; i++) {\n",
       "      var url = js_urls[i];\n",
       "      var element = document.createElement('script');\n",
       "      element.onload = on_load;\n",
       "      element.onerror = on_error;\n",
       "      element.async = false;\n",
       "      element.src = url;\n",
       "      console.debug(\"Bokeh: injecting script tag for BokehJS library: \", url);\n",
       "      document.head.appendChild(element);\n",
       "    }\n",
       "  };var element = document.getElementById(\"1001\");\n",
       "  if (element == null) {\n",
       "    console.error(\"Bokeh: ERROR: autoload.js configured with elementid '1001' but no matching script tag was found. \")\n",
       "    return false;\n",
       "  }\n",
       "\n",
       "  function inject_raw_css(css) {\n",
       "    const element = document.createElement(\"style\");\n",
       "    element.appendChild(document.createTextNode(css));\n",
       "    document.body.appendChild(element);\n",
       "  }\n",
       "\n",
       "  var js_urls = [\"https://cdn.pydata.org/bokeh/release/bokeh-1.2.0.min.js\", \"https://cdn.pydata.org/bokeh/release/bokeh-widgets-1.2.0.min.js\", \"https://cdn.pydata.org/bokeh/release/bokeh-tables-1.2.0.min.js\", \"https://cdn.pydata.org/bokeh/release/bokeh-gl-1.2.0.min.js\"];\n",
       "  var css_urls = [\"https://cdn.pydata.org/bokeh/release/bokeh-1.2.0.min.css\", \"https://cdn.pydata.org/bokeh/release/bokeh-widgets-1.2.0.min.css\", \"https://cdn.pydata.org/bokeh/release/bokeh-tables-1.2.0.min.css\"];\n",
       "\n",
       "  var inline_js = [\n",
       "    function(Bokeh) {\n",
       "      Bokeh.set_log_level(\"info\");\n",
       "    },\n",
       "    \n",
       "    function(Bokeh) {\n",
       "      \n",
       "    },\n",
       "    function(Bokeh) {} // ensure no trailing comma for IE\n",
       "  ];\n",
       "\n",
       "  function run_inline_js() {\n",
       "    \n",
       "    if ((root.Bokeh !== undefined) || (force === true)) {\n",
       "      for (var i = 0; i < inline_js.length; i++) {\n",
       "        inline_js[i].call(root, root.Bokeh);\n",
       "      }if (force === true) {\n",
       "        display_loaded();\n",
       "      }} else if (Date.now() < root._bokeh_timeout) {\n",
       "      setTimeout(run_inline_js, 100);\n",
       "    } else if (!root._bokeh_failed_load) {\n",
       "      console.log(\"Bokeh: BokehJS failed to load within specified timeout.\");\n",
       "      root._bokeh_failed_load = true;\n",
       "    } else if (force !== true) {\n",
       "      var cell = $(document.getElementById(\"1001\")).parents('.cell').data().cell;\n",
       "      cell.output_area.append_execute_result(NB_LOAD_WARNING)\n",
       "    }\n",
       "\n",
       "  }\n",
       "\n",
       "  if (root._bokeh_is_loading === 0) {\n",
       "    console.debug(\"Bokeh: BokehJS loaded, going straight to plotting\");\n",
       "    run_inline_js();\n",
       "  } else {\n",
       "    load_libs(css_urls, js_urls, function() {\n",
       "      console.debug(\"Bokeh: BokehJS plotting callback run at\", now());\n",
       "      run_inline_js();\n",
       "    });\n",
       "  }\n",
       "}(window));"
      ],
      "application/vnd.bokehjs_load.v0+json": "\n(function(root) {\n  function now() {\n    return new Date();\n  }\n\n  var force = true;\n\n  if (typeof root._bokeh_onload_callbacks === \"undefined\" || force === true) {\n    root._bokeh_onload_callbacks = [];\n    root._bokeh_is_loading = undefined;\n  }\n\n  \n\n  \n  if (typeof (root._bokeh_timeout) === \"undefined\" || force === true) {\n    root._bokeh_timeout = Date.now() + 5000;\n    root._bokeh_failed_load = false;\n  }\n\n  var NB_LOAD_WARNING = {'data': {'text/html':\n     \"<div style='background-color: #fdd'>\\n\"+\n     \"<p>\\n\"+\n     \"BokehJS does not appear to have successfully loaded. If loading BokehJS from CDN, this \\n\"+\n     \"may be due to a slow or bad network connection. Possible fixes:\\n\"+\n     \"</p>\\n\"+\n     \"<ul>\\n\"+\n     \"<li>re-rerun `output_notebook()` to attempt to load from CDN again, or</li>\\n\"+\n     \"<li>use INLINE resources instead, as so:</li>\\n\"+\n     \"</ul>\\n\"+\n     \"<code>\\n\"+\n     \"from bokeh.resources import INLINE\\n\"+\n     \"output_notebook(resources=INLINE)\\n\"+\n     \"</code>\\n\"+\n     \"</div>\"}};\n\n  function display_loaded() {\n    var el = document.getElementById(\"1001\");\n    if (el != null) {\n      el.textContent = \"BokehJS is loading...\";\n    }\n    if (root.Bokeh !== undefined) {\n      if (el != null) {\n        el.textContent = \"BokehJS \" + root.Bokeh.version + \" successfully loaded.\";\n      }\n    } else if (Date.now() < root._bokeh_timeout) {\n      setTimeout(display_loaded, 100)\n    }\n  }\n\n\n  function run_callbacks() {\n    try {\n      root._bokeh_onload_callbacks.forEach(function(callback) {\n        if (callback != null)\n          callback();\n      });\n    } finally {\n      delete root._bokeh_onload_callbacks\n    }\n    console.debug(\"Bokeh: all callbacks have finished\");\n  }\n\n  function load_libs(css_urls, js_urls, callback) {\n    if (css_urls == null) css_urls = [];\n    if (js_urls == null) js_urls = [];\n\n    root._bokeh_onload_callbacks.push(callback);\n    if (root._bokeh_is_loading > 0) {\n      console.debug(\"Bokeh: BokehJS is being loaded, scheduling callback at\", now());\n      return null;\n    }\n    if (js_urls == null || js_urls.length === 0) {\n      run_callbacks();\n      return null;\n    }\n    console.debug(\"Bokeh: BokehJS not loaded, scheduling load and callback at\", now());\n    root._bokeh_is_loading = css_urls.length + js_urls.length;\n\n    function on_load() {\n      root._bokeh_is_loading--;\n      if (root._bokeh_is_loading === 0) {\n        console.debug(\"Bokeh: all BokehJS libraries/stylesheets loaded\");\n        run_callbacks()\n      }\n    }\n\n    function on_error() {\n      console.error(\"failed to load \" + url);\n    }\n\n    for (var i = 0; i < css_urls.length; i++) {\n      var url = css_urls[i];\n      const element = document.createElement(\"link\");\n      element.onload = on_load;\n      element.onerror = on_error;\n      element.rel = \"stylesheet\";\n      element.type = \"text/css\";\n      element.href = url;\n      console.debug(\"Bokeh: injecting link tag for BokehJS stylesheet: \", url);\n      document.body.appendChild(element);\n    }\n\n    for (var i = 0; i < js_urls.length; i++) {\n      var url = js_urls[i];\n      var element = document.createElement('script');\n      element.onload = on_load;\n      element.onerror = on_error;\n      element.async = false;\n      element.src = url;\n      console.debug(\"Bokeh: injecting script tag for BokehJS library: \", url);\n      document.head.appendChild(element);\n    }\n  };var element = document.getElementById(\"1001\");\n  if (element == null) {\n    console.error(\"Bokeh: ERROR: autoload.js configured with elementid '1001' but no matching script tag was found. \")\n    return false;\n  }\n\n  function inject_raw_css(css) {\n    const element = document.createElement(\"style\");\n    element.appendChild(document.createTextNode(css));\n    document.body.appendChild(element);\n  }\n\n  var js_urls = [\"https://cdn.pydata.org/bokeh/release/bokeh-1.2.0.min.js\", \"https://cdn.pydata.org/bokeh/release/bokeh-widgets-1.2.0.min.js\", \"https://cdn.pydata.org/bokeh/release/bokeh-tables-1.2.0.min.js\", \"https://cdn.pydata.org/bokeh/release/bokeh-gl-1.2.0.min.js\"];\n  var css_urls = [\"https://cdn.pydata.org/bokeh/release/bokeh-1.2.0.min.css\", \"https://cdn.pydata.org/bokeh/release/bokeh-widgets-1.2.0.min.css\", \"https://cdn.pydata.org/bokeh/release/bokeh-tables-1.2.0.min.css\"];\n\n  var inline_js = [\n    function(Bokeh) {\n      Bokeh.set_log_level(\"info\");\n    },\n    \n    function(Bokeh) {\n      \n    },\n    function(Bokeh) {} // ensure no trailing comma for IE\n  ];\n\n  function run_inline_js() {\n    \n    if ((root.Bokeh !== undefined) || (force === true)) {\n      for (var i = 0; i < inline_js.length; i++) {\n        inline_js[i].call(root, root.Bokeh);\n      }if (force === true) {\n        display_loaded();\n      }} else if (Date.now() < root._bokeh_timeout) {\n      setTimeout(run_inline_js, 100);\n    } else if (!root._bokeh_failed_load) {\n      console.log(\"Bokeh: BokehJS failed to load within specified timeout.\");\n      root._bokeh_failed_load = true;\n    } else if (force !== true) {\n      var cell = $(document.getElementById(\"1001\")).parents('.cell').data().cell;\n      cell.output_area.append_execute_result(NB_LOAD_WARNING)\n    }\n\n  }\n\n  if (root._bokeh_is_loading === 0) {\n    console.debug(\"Bokeh: BokehJS loaded, going straight to plotting\");\n    run_inline_js();\n  } else {\n    load_libs(css_urls, js_urls, function() {\n      console.debug(\"Bokeh: BokehJS plotting callback run at\", now());\n      run_inline_js();\n    });\n  }\n}(window));"
     },
     "metadata": {},
     "output_type": "display_data"
    }
   ],
   "source": [
    "from bokeh.io import show, output_notebook\n",
    "from bokeh.layouts import gridplot\n",
    "from bokeh.models.scales import LinearScale, LogScale\n",
    "output_notebook()"
   ]
  },
  {
   "cell_type": "code",
   "execution_count": 3,
   "metadata": {},
   "outputs": [],
   "source": [
    "mt = hl.read_matrix_table('/home/olavur/experiments/2020-11-13_fargen1_exome_analysis/data/mt/variants.mt')"
   ]
  },
  {
   "cell_type": "code",
   "execution_count": 4,
   "metadata": {},
   "outputs": [
    {
     "data": {
      "text/plain": [
       "{5: 2520, 6: 1015, 2: 902052, 7: 524, 3: 35254, 4: 7184}"
      ]
     },
     "execution_count": 4,
     "metadata": {},
     "output_type": "execute_result"
    }
   ],
   "source": [
    "distinct_allele_counts = mt.aggregate_rows(hl.agg.counter(hl.len(mt.alleles)))\n",
    "distinct_allele_counts"
   ]
  },
  {
   "cell_type": "markdown",
   "metadata": {},
   "source": [
    "Remove multi-allelic sites. \n",
    "\n",
    "**NOTE:** it's possible to perform HWE tests on all alleles in multi-allelic variants by splitting the variants using [split_multi()](https://hail.is/docs/0.2/methods/genetics.html#hail.methods.split_multi)."
   ]
  },
  {
   "cell_type": "code",
   "execution_count": 5,
   "metadata": {},
   "outputs": [],
   "source": [
    "mt = mt.filter_rows(hl.len(mt.alleles) == 2)"
   ]
  },
  {
   "cell_type": "markdown",
   "metadata": {},
   "source": [
    "Perform the HWE test, and annotate the rows of the `MatrixTable` with the expected heterozygote frequency and the p-value from the test."
   ]
  },
  {
   "cell_type": "code",
   "execution_count": 6,
   "metadata": {},
   "outputs": [],
   "source": [
    "mt = mt.annotate_rows(hwe=hl.agg.hardy_weinberg_test(mt.GT))"
   ]
  },
  {
   "cell_type": "markdown",
   "metadata": {},
   "source": [
    "Number of alleles is twice the number of samples."
   ]
  },
  {
   "cell_type": "code",
   "execution_count": 7,
   "metadata": {},
   "outputs": [
    {
     "data": {
      "text/html": [
       "\n",
       "\n",
       "\n",
       "\n",
       "\n",
       "\n",
       "  <div class=\"bk-root\" id=\"916aa641-ef3e-4219-9ed4-c69bbe79cc55\" data-root-id=\"1002\"></div>\n"
      ]
     },
     "metadata": {},
     "output_type": "display_data"
    },
    {
     "data": {
      "application/javascript": [
       "(function(root) {\n",
       "  function embed_document(root) {\n",
       "    \n",
       "  var docs_json = {\"36ad35f5-4a05-4330-80ee-70db86e5e8b6\":{\"roots\":{\"references\":[{\"attributes\":{\"background_fill_color\":{\"value\":\"#EEEEEE\"},\"below\":[{\"id\":\"1012\",\"type\":\"LinearAxis\"}],\"center\":[{\"id\":\"1016\",\"type\":\"Grid\"},{\"id\":\"1021\",\"type\":\"Grid\"}],\"left\":[{\"id\":\"1017\",\"type\":\"LinearAxis\"}],\"renderers\":[{\"id\":\"1038\",\"type\":\"GlyphRenderer\"}],\"title\":null,\"toolbar\":{\"id\":\"1028\",\"type\":\"Toolbar\"},\"x_range\":{\"id\":\"1004\",\"type\":\"Range1d\"},\"x_scale\":{\"id\":\"1008\",\"type\":\"LinearScale\"},\"y_range\":{\"id\":\"1006\",\"type\":\"DataRange1d\"},\"y_scale\":{\"id\":\"1010\",\"type\":\"LinearScale\"}},\"id\":\"1002\",\"subtype\":\"Figure\",\"type\":\"Plot\"},{\"attributes\":{\"callback\":null,\"end\":1.05,\"start\":-0.05},\"id\":\"1004\",\"type\":\"Range1d\"},{\"attributes\":{\"bottom\":{\"value\":0},\"fill_alpha\":{\"value\":0.1},\"fill_color\":{\"value\":\"#1f77b4\"},\"left\":{\"field\":\"left\"},\"line_alpha\":{\"value\":0.1},\"line_color\":{\"value\":\"#1f77b4\"},\"right\":{\"field\":\"right\"},\"top\":{\"field\":\"top\"}},\"id\":\"1037\",\"type\":\"Quad\"},{\"attributes\":{},\"id\":\"1042\",\"type\":\"BasicTickFormatter\"},{\"attributes\":{},\"id\":\"1022\",\"type\":\"PanTool\"},{\"attributes\":{\"axis_label\":\"Frequency\",\"formatter\":{\"id\":\"1042\",\"type\":\"BasicTickFormatter\"},\"ticker\":{\"id\":\"1018\",\"type\":\"BasicTicker\"}},\"id\":\"1017\",\"type\":\"LinearAxis\"},{\"attributes\":{\"callback\":null,\"data\":{\"left\":[0.0,0.02,0.04,0.06,0.08,0.1,0.12,0.14,0.16,0.18,0.2,0.22,0.24,0.26,0.28,0.3,0.32,0.34,0.36,0.38,0.4,0.42,0.44,0.46,0.48,0.5,0.52,0.54,0.56,0.58,0.6,0.62,0.64,0.66,0.68,0.7000000000000001,0.72,0.74,0.76,0.78,0.8,0.8200000000000001,0.84,0.86,0.88,0.9,0.92,0.9400000000000001,0.96,0.98],\"right\":[0.02,0.04,0.06,0.08,0.1,0.12,0.14,0.16,0.18,0.2,0.22,0.24,0.26,0.28,0.3,0.32,0.34,0.36,0.38,0.4,0.42,0.44,0.46,0.48,0.5,0.52,0.54,0.56,0.58,0.6,0.62,0.64,0.66,0.68,0.7000000000000001,0.72,0.74,0.76,0.78,0.8,0.8200000000000001,0.84,0.86,0.88,0.9,0.92,0.9400000000000001,0.96,0.98,1.0],\"top\":[19121,8431,7075,6133,2601,9354,1839,6111,1628,7721,3921,5628,1829,2442,5268,4361,5812,844,1494,4622,4467,1815,5354,7860,1492,602759,31626,23440,17425,1882,14296,12120,4219,12701,0,5997,4881,17,5405,8949,1698,5736,5546,8262,7870,0,0,0,0,0]},\"selected\":{\"id\":\"1046\",\"type\":\"Selection\"},\"selection_policy\":{\"id\":\"1045\",\"type\":\"UnionRenderers\"}},\"id\":\"1035\",\"type\":\"ColumnDataSource\"},{\"attributes\":{},\"id\":\"1023\",\"type\":\"WheelZoomTool\"},{\"attributes\":{},\"id\":\"1010\",\"type\":\"LinearScale\"},{\"attributes\":{\"bottom_units\":\"screen\",\"fill_alpha\":{\"value\":0.5},\"fill_color\":{\"value\":\"lightgrey\"},\"left_units\":\"screen\",\"level\":\"overlay\",\"line_alpha\":{\"value\":1.0},\"line_color\":{\"value\":\"black\"},\"line_dash\":[4,4],\"line_width\":{\"value\":2},\"render_mode\":\"css\",\"right_units\":\"screen\",\"top_units\":\"screen\"},\"id\":\"1047\",\"type\":\"BoxAnnotation\"},{\"attributes\":{\"dimension\":1,\"ticker\":{\"id\":\"1018\",\"type\":\"BasicTicker\"}},\"id\":\"1021\",\"type\":\"Grid\"},{\"attributes\":{\"bottom\":{\"value\":0},\"fill_color\":{\"value\":\"#1f77b4\"},\"left\":{\"field\":\"left\"},\"right\":{\"field\":\"right\"},\"top\":{\"field\":\"top\"}},\"id\":\"1036\",\"type\":\"Quad\"},{\"attributes\":{\"formatter\":{\"id\":\"1044\",\"type\":\"BasicTickFormatter\"},\"ticker\":{\"id\":\"1013\",\"type\":\"BasicTicker\"}},\"id\":\"1012\",\"type\":\"LinearAxis\"},{\"attributes\":{},\"id\":\"1018\",\"type\":\"BasicTicker\"},{\"attributes\":{},\"id\":\"1045\",\"type\":\"UnionRenderers\"},{\"attributes\":{\"data_source\":{\"id\":\"1035\",\"type\":\"ColumnDataSource\"},\"glyph\":{\"id\":\"1036\",\"type\":\"Quad\"},\"hover_glyph\":null,\"muted_glyph\":null,\"nonselection_glyph\":{\"id\":\"1037\",\"type\":\"Quad\"},\"selection_glyph\":null,\"view\":{\"id\":\"1039\",\"type\":\"CDSView\"}},\"id\":\"1038\",\"type\":\"GlyphRenderer\"},{\"attributes\":{\"active_drag\":\"auto\",\"active_inspect\":\"auto\",\"active_multi\":null,\"active_scroll\":\"auto\",\"active_tap\":\"auto\",\"tools\":[{\"id\":\"1022\",\"type\":\"PanTool\"},{\"id\":\"1023\",\"type\":\"WheelZoomTool\"},{\"id\":\"1024\",\"type\":\"BoxZoomTool\"},{\"id\":\"1025\",\"type\":\"SaveTool\"},{\"id\":\"1026\",\"type\":\"ResetTool\"},{\"id\":\"1027\",\"type\":\"HelpTool\"}]},\"id\":\"1028\",\"type\":\"Toolbar\"},{\"attributes\":{},\"id\":\"1046\",\"type\":\"Selection\"},{\"attributes\":{},\"id\":\"1044\",\"type\":\"BasicTickFormatter\"},{\"attributes\":{},\"id\":\"1026\",\"type\":\"ResetTool\"},{\"attributes\":{\"source\":{\"id\":\"1035\",\"type\":\"ColumnDataSource\"}},\"id\":\"1039\",\"type\":\"CDSView\"},{\"attributes\":{\"callback\":null},\"id\":\"1006\",\"type\":\"DataRange1d\"},{\"attributes\":{\"ticker\":{\"id\":\"1013\",\"type\":\"BasicTicker\"}},\"id\":\"1016\",\"type\":\"Grid\"},{\"attributes\":{},\"id\":\"1025\",\"type\":\"SaveTool\"},{\"attributes\":{},\"id\":\"1008\",\"type\":\"LinearScale\"},{\"attributes\":{\"overlay\":{\"id\":\"1047\",\"type\":\"BoxAnnotation\"}},\"id\":\"1024\",\"type\":\"BoxZoomTool\"},{\"attributes\":{},\"id\":\"1027\",\"type\":\"HelpTool\"},{\"attributes\":{},\"id\":\"1013\",\"type\":\"BasicTicker\"}],\"root_ids\":[\"1002\"]},\"title\":\"Bokeh Application\",\"version\":\"1.2.0\"}};\n",
       "  var render_items = [{\"docid\":\"36ad35f5-4a05-4330-80ee-70db86e5e8b6\",\"roots\":{\"1002\":\"916aa641-ef3e-4219-9ed4-c69bbe79cc55\"}}];\n",
       "  root.Bokeh.embed.embed_items_notebook(docs_json, render_items);\n",
       "\n",
       "  }\n",
       "  if (root.Bokeh !== undefined) {\n",
       "    embed_document(root);\n",
       "  } else {\n",
       "    var attempts = 0;\n",
       "    var timer = setInterval(function(root) {\n",
       "      if (root.Bokeh !== undefined) {\n",
       "        embed_document(root);\n",
       "        clearInterval(timer);\n",
       "      }\n",
       "      attempts++;\n",
       "      if (attempts > 100) {\n",
       "        console.log(\"Bokeh: ERROR: Unable to run BokehJS code because BokehJS library is missing\");\n",
       "        clearInterval(timer);\n",
       "      }\n",
       "    }, 10, root)\n",
       "  }\n",
       "})(window);"
      ],
      "application/vnd.bokehjs_exec.v0+json": ""
     },
     "metadata": {
      "application/vnd.bokehjs_exec.v0+json": {
       "id": "1002"
      }
     },
     "output_type": "display_data"
    }
   ],
   "source": [
    "p = hl.plot.histogram(mt.hwe.p_value, range=(0,1), legend='')\n",
    "show(p)"
   ]
  },
  {
   "cell_type": "markdown",
   "metadata": {},
   "source": [
    "## Q-Q plot"
   ]
  },
  {
   "cell_type": "markdown",
   "metadata": {},
   "source": [
    "Plot the p-values from the HWE test as a Q-Q plot. Looks like something went terribly wrong. Maybe just too few samples."
   ]
  },
  {
   "cell_type": "code",
   "execution_count": 11,
   "metadata": {},
   "outputs": [
    {
     "name": "stderr",
     "output_type": "stream",
     "text": [
      "2020-12-03 09:10:37 Hail: INFO: Ordering unsorted dataset with network shuffle\n"
     ]
    },
    {
     "data": {
      "text/html": [
       "\n",
       "\n",
       "\n",
       "\n",
       "\n",
       "\n",
       "  <div class=\"bk-root\" id=\"9d72a354-74fe-40a6-a7ed-50b84b340ba9\" data-root-id=\"1319\"></div>\n"
      ]
     },
     "metadata": {},
     "output_type": "display_data"
    },
    {
     "data": {
      "application/javascript": [
       "(function(root) {\n",
       "  function embed_document(root) {\n",
       "    \n",
       "  var docs_json = {\"1fb13723-19f4-4c7a-aa4a-5f3dfe502ea9\":{\"roots\":{\"references\":[{\"attributes\":{\"below\":[{\"id\":\"1330\",\"type\":\"LinearAxis\"}],\"center\":[{\"id\":\"1334\",\"type\":\"Grid\"},{\"id\":\"1339\",\"type\":\"Grid\"},{\"id\":\"1363\",\"type\":\"Slope\"},{\"id\":\"1364\",\"type\":\"Label\"}],\"left\":[{\"id\":\"1335\",\"type\":\"LinearAxis\"}],\"plot_height\":500,\"plot_width\":500,\"renderers\":[{\"id\":\"1359\",\"type\":\"GlyphRenderer\"}],\"title\":{\"id\":\"1320\",\"type\":\"Title\"},\"toolbar\":{\"id\":\"1346\",\"type\":\"Toolbar\"},\"x_range\":{\"id\":\"1361\",\"type\":\"DataRange1d\"},\"x_scale\":{\"id\":\"1326\",\"type\":\"LinearScale\"},\"y_range\":{\"id\":\"1362\",\"type\":\"DataRange1d\"},\"y_scale\":{\"id\":\"1328\",\"type\":\"LinearScale\"}},\"id\":\"1319\",\"subtype\":\"Figure\",\"type\":\"Plot\"},{\"attributes\":{},\"id\":\"1336\",\"type\":\"BasicTicker\"},{\"attributes\":{\"fill_alpha\":{\"value\":0.1},\"fill_color\":{\"value\":\"#1f77b4\"},\"line_alpha\":{\"value\":0.1},\"line_color\":{\"value\":\"#1f77b4\"},\"size\":{\"units\":\"screen\",\"value\":6},\"x\":{\"field\":\"x\"},\"y\":{\"field\":\"y\"}},\"id\":\"1358\",\"type\":\"Circle\"},{\"attributes\":{\"fill_color\":{\"value\":\"#1f77b4\"},\"line_color\":{\"value\":\"#1f77b4\"},\"size\":{\"units\":\"screen\",\"value\":6},\"x\":{\"field\":\"x\"},\"y\":{\"field\":\"y\"}},\"id\":\"1357\",\"type\":\"Circle\"},{\"attributes\":{\"data_source\":{\"id\":\"1355\",\"type\":\"ColumnDataSource\"},\"glyph\":{\"id\":\"1357\",\"type\":\"Circle\"},\"hover_glyph\":null,\"muted_glyph\":null,\"nonselection_glyph\":{\"id\":\"1358\",\"type\":\"Circle\"},\"selection_glyph\":null,\"view\":{\"id\":\"1360\",\"type\":\"CDSView\"}},\"id\":\"1359\",\"type\":\"GlyphRenderer\"},{\"attributes\":{},\"id\":\"1328\",\"type\":\"LinearScale\"},{\"attributes\":{\"gradient\":1,\"line_color\":{\"value\":\"red\"},\"y_intercept\":0},\"id\":\"1363\",\"type\":\"Slope\"},{\"attributes\":{\"active_drag\":\"auto\",\"active_inspect\":\"auto\",\"active_multi\":null,\"active_scroll\":\"auto\",\"active_tap\":\"auto\",\"tools\":[{\"id\":\"1340\",\"type\":\"PanTool\"},{\"id\":\"1341\",\"type\":\"WheelZoomTool\"},{\"id\":\"1342\",\"type\":\"BoxZoomTool\"},{\"id\":\"1343\",\"type\":\"SaveTool\"},{\"id\":\"1344\",\"type\":\"ResetTool\"},{\"id\":\"1345\",\"type\":\"HelpTool\"},{\"id\":\"1354\",\"type\":\"HoverTool\"}]},\"id\":\"1346\",\"type\":\"Toolbar\"},{\"attributes\":{},\"id\":\"1391\",\"type\":\"BasicTickFormatter\"},{\"attributes\":{},\"id\":\"1326\",\"type\":\"LinearScale\"},{\"attributes\":{},\"id\":\"1345\",\"type\":\"HelpTool\"},{\"attributes\":{\"bottom_units\":\"screen\",\"fill_alpha\":{\"value\":0.5},\"fill_color\":{\"value\":\"lightgrey\"},\"left_units\":\"screen\",\"level\":\"overlay\",\"line_alpha\":{\"value\":1.0},\"line_color\":{\"value\":\"black\"},\"line_dash\":[4,4],\"line_width\":{\"value\":2},\"render_mode\":\"css\",\"right_units\":\"screen\",\"top_units\":\"screen\"},\"id\":\"1396\",\"type\":\"BoxAnnotation\"},{\"attributes\":{},\"id\":\"1344\",\"type\":\"ResetTool\"},{\"attributes\":{},\"id\":\"1340\",\"type\":\"PanTool\"},{\"attributes\":{},\"id\":\"1343\",\"type\":\"SaveTool\"},{\"attributes\":{\"callback\":null,\"end\":15.528629737411661,\"start\":0},\"id\":\"1361\",\"type\":\"DataRange1d\"},{\"attributes\":{\"text\":\"Q-Q plot of HWE p-values\"},\"id\":\"1320\",\"type\":\"Title\"},{\"attributes\":{\"callback\":null,\"data\":{\"AC\":{\"__ndarray__\":\"LQAAAB0AAAARAAAAPQAAAAoAAAA7AAAAIQAAAAcAAAAHAAAABgAAABcAAAAEAAAAAwAAAAMAAAADAAAASwAAAAIAAAACAAAAAgAAAAIAAAACAAAAAgAAAAEAAAABAAAAAQAAAAEAAAABAAAAAQAAAAEAAAABAAAAAQAAAAEAAAABAAAAAQAAAAEAAAABAAAAAQAAAAEAAAABAAAAAQAAAAEAAAABAAAAAQAAAAEAAAABAAAAAQAAAAEAAAABAAAAAQAAAAEAAAABAAAAAQAAAAEAAAABAAAAAQAAAAEAAAABAAAAAQAAAAEAAABgAAAAAQAAAAEAAAABAAAAAQAAAAEAAAABAAAAAQAAAAEAAAABAAAAAQAAAAEAAAABAAAAAQAAAAEAAAABAAAAAQAAAC8AAAA3AAAAJwAAACQAAAAiAAAAHwAAAA4AAABEAAAADQAAABoAAAAZAAAAGAAAAAwAAAAvAAAALgAAACsAAAAnAAAAJgAAABQAAAALAAAAIwAAACEAAAAgAAAAEgAAAB4AAABWAAAACgAAABEAAAAbAAAAEAAAACwAAAApAAAACQAAACgAAAAPAAAAJwAAADIAAAA9AAAASAAAAA4AAAAIAAAAHwAAAA4AAAAUAAAAQwAAAE0AAAArAAAAEgAAAAcAAAAHAAAABwAAABoAAAANAAAAJgAAACUAAAAkAAAAIwAAACEAAAAGAAAABgAAAAYAAAAMAAAAFwAAABYAAAAWAAAALAAAAEkAAAAQAAAAJwAAACcAAAAFAAAABQAAAAsAAAALAAAAJAAAACIAAAAPAAAAQAAAAAoAAABYAAAAMwAAAAQAAAAEAAAABAAAAC8AAABJAAAAKQAAABYAAAA4AAAAHAAAAA4AAAAOAAAAPAAAACMAAAAJAAAARQAAABUAAAAhAAAAIQAAACAAAAADAAAAAwAAAAMAAAAgAAAAKgAAADUAAAAYAAAAGAAAABEAAAA9AAAAQgAAAAgAAAAnAAAAFAAAAB0AAAAUAAAAJAAAACMAAAAMAAAAHAAAACIAAAAzAAAAMAAAADIAAAAHAAAAQAAAAF4AAAACAAAAAgAAAAIAAAACAAAAEwAAACgAAAA6AAAAOQAAAEoAAAAPAAAARwAAACUAAAAkAAAAJAAAAD8AAAA0AAAAHAAAAEQAAAAGAAAALwAAADMAAAA2AAAAIAAAABUAAAAKAAAASAAAADcAAAAoAAAAKAAAACcAAAA6AAAAEQAAACUAAAARAAAASgAAACQAAAAUAAAAIwAAAA0AAAAFAAAABQAAAC4AAAAsAAAACQAAACkAAAAtAAAATgAAACYAAABQAAAAJwAAAEsAAAAgAAAASAAAABMAAAAWAAAAJQAAAAwAAABAAAAAMgAAACQAAAAuAAAAHgAAADYAAAAbAAAANQAAACsAAAAbAAAAPAAAAAQAAAAoAAAAEgAAACgAAAAVAAAAIQAAAEEAAAALAAAAOwAAAB0AAAAvAAAAKwAAAC4AAABGAAAARwAAADAAAAAyAAAAEQAAAB8AAAAiAAAAIgAAACkAAAAmAAAAJwAAACEAAAA1AAAANAAAACYAAAAeAAAADQAAADsAAAAjAAAALQAAADwAAAATAAAAKwAAACQAAABDAAAAKgAAADoAAAAnAAAAKAAAACgAAAA8AAAARwAAABgAAAAvAAAALwAAAAwAAAAkAAAAVAAAADAAAAAuAAAAMgAAACUAAAAlAAAALAAAAEQAAAAlAAAAKwAAADsAAAAfAAAAKQAAACkAAAAxAAAAOAAAADUAAAAUAAAAIQAAACYAAAAmAAAALgAAAE0AAAA3AAAAEQAAAC4AAAAvAAAACwAAAC0AAAAzAAAALAAAACoAAAA2AAAAMQAAADUAAABIAAAAKgAAACcAAAAnAAAAJwAAAEAAAABFAAAAEwAAACgAAAAoAAAAKAAAACgAAAAiAAAAEAAAADUAAAArAAAAMAAAAC0AAAA8AAAANAAAACsAAAAVAAAACgAAAEEAAAAoAAAAGgAAAEwAAAApAAAAKQAAACkAAAApAAAATgAAACwAAAAsAAAAOwAAAEQAAAAPAAAAMQAAAC0AAAAtAAAAQAAAADsAAAAeAAAAFAAAACoAAAAqAAAAKgAAACoAAAAqAAAANQAAAEcAAAA3AAAAKQAAAEAAAABGAAAATwAAAEgAAABFAAAASgAAADoAAAAwAAAALgAAAC4AAAAuAAAAKwAAACsAAAA1AAAAKwAAACsAAAAdAAAANgAAAEsAAAA6AAAANAAAABgAAAA4AAAAKwAAADYAAAAuAAAARwAAAD8AAAA0AAAALAAAACwAAAAsAAAALAAAACwAAAAsAAAAFQAAADAAAAAvAAAALwAAADEAAAA5AAAAHAAAAC0AAAAtAAAALQAAAC0AAAAtAAAALQAAAC0AAAAtAAAALQAAAEcAAAAsAAAASQAAAEIAAAA3AAAAEgAAADMAAABAAAAALwAAADAAAAAwAAAAMAAAADAAAABMAAAALgAAAC4AAAAuAAAALgAAADIAAAAuAAAALgAAADIAAAAuAAAAMgAAAC4AAAAyAAAASAAAACoAAAA7AAAALwAAADEAAAAvAAAALwAAAC8AAAAvAAAAMQAAAC8AAAAvAAAALwAAAC8AAAAxAAAALwAAAC8AAAAvAAAALwAAADEAAAAvAAAALwAAADEAAAAvAAAAMQAAAC8AAAAvAAAAMAAAADAAAAAwAAAAMAAAADAAAAAwAAAAMAAAADAAAAAwAAAAMAAAADAAAAAwAAAAMAAAADAAAAAwAAAAMAAAADAAAAAwAAAAMAAAADAAAAAwAAAAMAAAADAAAAAwAAAAMAAAADAAAAAwAAAAMAAAADAAAAAwAAAAMAAAADAAAAAwAAAAMAAAADAAAAAwAAAAMAAAADAAAAAwAAAAMAAAADAAAAAwAAAAMAAAADAAAAAwAAAAMAAAADAAAAAwAAAAMAAAADAAAAAwAAAAMAAAADAAAAAwAAAAMAAAADAAAAAwAAAAMAAAADAAAAAwAAAAMAAAADAAAAAwAAAAMAAAADAAAAAwAAAAMAAAADAAAAAwAAAAMAAAADAAAAAwAAAAMAAAADAAAAAwAAAAMAAAADAAAAAwAAAAMAAAADAAAAAwAAAAMAAAADAAAAAwAAAAMAAAADAAAAAwAAAAMAAAADAAAAAwAAAAMAAAADAAAAAwAAAAMAAAADAAAAAwAAAAMAAAADAAAAAwAAAAMAAAADAAAAAwAAAAMAAAADAAAAAwAAAAMAAAADAAAAAwAAAAMAAAACwAAAA=\",\"dtype\":\"int32\",\"shape\":[623]},\"index\":[0,1,2,3,4,5,6,7,8,9,10,11,12,13,14,15,16,17,18,19,20,21,22,23,24,25,26,27,28,29,30,31,32,33,34,35,36,37,38,39,40,41,42,43,44,45,46,47,48,49,50,51,52,53,54,55,56,57,58,59,60,61,62,63,64,65,66,67,68,69,70,71,72,73,74,75,76,77,78,79,80,81,82,83,84,85,86,87,88,89,90,91,92,93,94,95,96,97,98,99,100,101,102,103,104,105,106,107,108,109,110,111,112,113,114,115,116,117,118,119,120,121,122,123,124,125,126,127,128,129,130,131,132,133,134,135,136,137,138,139,140,141,142,143,144,145,146,147,148,149,150,151,152,153,154,155,156,157,158,159,160,161,162,163,164,165,166,167,168,169,170,171,172,173,174,175,176,177,178,179,180,181,182,183,184,185,186,187,188,189,190,191,192,193,194,195,196,197,198,199,200,201,202,203,204,205,206,207,208,209,210,211,212,213,214,215,216,217,218,219,220,221,222,223,224,225,226,227,228,229,230,231,232,233,234,235,236,237,238,239,240,241,242,243,244,245,246,247,248,249,250,251,252,253,254,255,256,257,258,259,260,261,262,263,264,265,266,267,268,269,270,271,272,273,274,275,276,277,278,279,280,281,282,283,284,285,286,287,288,289,290,291,292,293,294,295,296,297,298,299,300,301,302,303,304,305,306,307,308,309,310,311,312,313,314,315,316,317,318,319,320,321,322,323,324,325,326,327,328,329,330,331,332,333,334,335,336,337,338,339,340,341,342,343,344,345,346,347,348,349,350,351,352,353,354,355,356,357,358,359,360,361,362,363,364,365,366,367,368,369,370,371,372,373,374,375,376,377,378,379,380,381,382,383,384,385,386,387,388,389,390,391,392,393,394,395,396,397,398,399,400,401,402,403,404,405,406,407,408,409,410,411,412,413,414,415,416,417,418,419,420,421,422,423,424,425,426,427,428,429,430,431,432,433,434,435,436,437,438,439,440,441,442,443,444,445,446,447,448,449,450,451,452,453,454,455,456,457,458,459,460,461,462,463,464,465,466,467,468,469,470,471,472,473,474,475,476,477,478,479,480,481,482,483,484,485,486,487,488,489,490,491,492,493,494,495,496,497,498,499,500,501,502,503,504,505,506,507,508,509,510,511,512,513,514,515,516,517,518,519,520,521,522,523,524,525,526,527,528,529,530,531,532,533,534,535,536,537,538,539,540,541,542,543,544,545,546,547,548,549,550,551,552,553,554,555,556,557,558,559,560,561,562,563,564,565,566,567,568,569,570,571,572,573,574,575,576,577,578,579,580,581,582,583,584,585,586,587,588,589,590,591,592,593,594,595,596,597,598,599,600,601,602,603,604,605,606,607,608,609,610,611,612,613,614,615,616,617,618,619,620,621,622],\"p_value\":{\"__ndarray__\":\"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\",\"dtype\":\"float64\",\"shape\":[623]},\"x\":{\"__ndarray__\":\"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\",\"dtype\":\"float64\",\"shape\":[623]},\"y\":{\"__ndarray__\":\"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\",\"dtype\":\"float64\",\"shape\":[623]}},\"selected\":{\"id\":\"1395\",\"type\":\"Selection\"},\"selection_policy\":{\"id\":\"1394\",\"type\":\"UnionRenderers\"}},\"id\":\"1355\",\"type\":\"ColumnDataSource\"},{\"attributes\":{\"dimension\":1,\"ticker\":{\"id\":\"1336\",\"type\":\"BasicTicker\"}},\"id\":\"1339\",\"type\":\"Grid\"},{\"attributes\":{\"source\":{\"id\":\"1355\",\"type\":\"ColumnDataSource\"}},\"id\":\"1360\",\"type\":\"CDSView\"},{\"attributes\":{},\"id\":\"1395\",\"type\":\"Selection\"},{\"attributes\":{\"ticker\":{\"id\":\"1331\",\"type\":\"BasicTicker\"}},\"id\":\"1334\",\"type\":\"Grid\"},{\"attributes\":{},\"id\":\"1393\",\"type\":\"BasicTickFormatter\"},{\"attributes\":{\"axis_label\":\"Observed -log10(p)\",\"formatter\":{\"id\":\"1391\",\"type\":\"BasicTickFormatter\"},\"ticker\":{\"id\":\"1336\",\"type\":\"BasicTicker\"}},\"id\":\"1335\",\"type\":\"LinearAxis\"},{\"attributes\":{\"text\":\"\\u03bb GC: 1.00\",\"text_color\":{\"value\":\"black\"},\"text_font_size\":{\"value\":\"14pt\"},\"text_font_style\":\"bold\",\"x\":12.349335276799911,\"y\":1},\"id\":\"1364\",\"type\":\"Label\"},{\"attributes\":{},\"id\":\"1394\",\"type\":\"UnionRenderers\"},{\"attributes\":{\"callback\":null,\"tooltips\":[[\"x\",\"@x\"],[\"y\",\"@y\"],[\"AC\",\"@AC\"],[\"p_value\",\"@p_value\"]]},\"id\":\"1354\",\"type\":\"HoverTool\"},{\"attributes\":{\"overlay\":{\"id\":\"1396\",\"type\":\"BoxAnnotation\"}},\"id\":\"1342\",\"type\":\"BoxZoomTool\"},{\"attributes\":{},\"id\":\"1341\",\"type\":\"WheelZoomTool\"},{\"attributes\":{\"callback\":null,\"end\":15.528629737411661,\"start\":0},\"id\":\"1362\",\"type\":\"DataRange1d\"},{\"attributes\":{\"axis_label\":\"Expected -log10(p)\",\"formatter\":{\"id\":\"1393\",\"type\":\"BasicTickFormatter\"},\"ticker\":{\"id\":\"1331\",\"type\":\"BasicTicker\"}},\"id\":\"1330\",\"type\":\"LinearAxis\"},{\"attributes\":{},\"id\":\"1331\",\"type\":\"BasicTicker\"}],\"root_ids\":[\"1319\"]},\"title\":\"Bokeh Application\",\"version\":\"1.2.0\"}};\n",
       "  var render_items = [{\"docid\":\"1fb13723-19f4-4c7a-aa4a-5f3dfe502ea9\",\"roots\":{\"1319\":\"9d72a354-74fe-40a6-a7ed-50b84b340ba9\"}}];\n",
       "  root.Bokeh.embed.embed_items_notebook(docs_json, render_items);\n",
       "\n",
       "  }\n",
       "  if (root.Bokeh !== undefined) {\n",
       "    embed_document(root);\n",
       "  } else {\n",
       "    var attempts = 0;\n",
       "    var timer = setInterval(function(root) {\n",
       "      if (root.Bokeh !== undefined) {\n",
       "        embed_document(root);\n",
       "        clearInterval(timer);\n",
       "      }\n",
       "      attempts++;\n",
       "      if (attempts > 100) {\n",
       "        console.log(\"Bokeh: ERROR: Unable to run BokehJS code because BokehJS library is missing\");\n",
       "        clearInterval(timer);\n",
       "      }\n",
       "    }, 10, root)\n",
       "  }\n",
       "})(window);"
      ],
      "application/vnd.bokehjs_exec.v0+json": ""
     },
     "metadata": {
      "application/vnd.bokehjs_exec.v0+json": {
       "id": "1319"
      }
     },
     "output_type": "display_data"
    }
   ],
   "source": [
    "p = hl.plot.qq(mt.hwe.p_value, title='Q-Q plot of HWE p-values', hover_fields={'AC': mt.info.AC[0]})\n",
    "p.plot_height = 500\n",
    "p.plot_width = 500\n",
    "show(p)"
   ]
  },
  {
   "cell_type": "markdown",
   "metadata": {},
   "source": [
    "For each biallelic site, calculate the number of heterozygotes, homozygotes, and the proportion of heterozygotes."
   ]
  },
  {
   "cell_type": "code",
   "execution_count": 9,
   "metadata": {},
   "outputs": [],
   "source": [
    "mt = mt.annotate_rows(het_freq=hl.agg.fraction(mt.GT.is_het()))"
   ]
  },
  {
   "cell_type": "code",
   "execution_count": 10,
   "metadata": {},
   "outputs": [
    {
     "data": {
      "text/html": [
       "\n",
       "\n",
       "\n",
       "\n",
       "\n",
       "\n",
       "  <div class=\"bk-root\" id=\"c508954c-fe58-4d81-8998-1c8a6ffd166d\" data-root-id=\"1206\"></div>\n"
      ]
     },
     "metadata": {},
     "output_type": "display_data"
    },
    {
     "data": {
      "application/javascript": [
       "(function(root) {\n",
       "  function embed_document(root) {\n",
       "    \n",
       "  var docs_json = {\"4e571acb-dab4-40d1-8d50-a78edeff24f9\":{\"roots\":{\"references\":[{\"attributes\":{\"below\":[{\"id\":\"1216\",\"type\":\"LinearAxis\"}],\"center\":[{\"id\":\"1220\",\"type\":\"Grid\"},{\"id\":\"1225\",\"type\":\"Grid\"}],\"left\":[{\"id\":\"1221\",\"type\":\"LinearAxis\"}],\"plot_height\":800,\"plot_width\":800,\"renderers\":[{\"id\":\"1245\",\"type\":\"GlyphRenderer\"}],\"title\":null,\"toolbar\":{\"id\":\"1232\",\"type\":\"Toolbar\"},\"x_range\":{\"id\":\"1208\",\"type\":\"DataRange1d\"},\"x_scale\":{\"id\":\"1212\",\"type\":\"LinearScale\"},\"y_range\":{\"id\":\"1210\",\"type\":\"DataRange1d\"},\"y_scale\":{\"id\":\"1214\",\"type\":\"LinearScale\"}},\"id\":\"1206\",\"subtype\":\"Figure\",\"type\":\"Plot\"},{\"attributes\":{\"callback\":null},\"id\":\"1208\",\"type\":\"DataRange1d\"},{\"attributes\":{},\"id\":\"1227\",\"type\":\"WheelZoomTool\"},{\"attributes\":{},\"id\":\"1217\",\"type\":\"BasicTicker\"},{\"attributes\":{\"ticker\":{\"id\":\"1217\",\"type\":\"BasicTicker\"}},\"id\":\"1220\",\"type\":\"Grid\"},{\"attributes\":{\"overlay\":{\"id\":\"1270\",\"type\":\"BoxAnnotation\"}},\"id\":\"1228\",\"type\":\"BoxZoomTool\"},{\"attributes\":{\"dimension\":1,\"ticker\":{\"id\":\"1222\",\"type\":\"BasicTicker\"}},\"id\":\"1225\",\"type\":\"Grid\"},{\"attributes\":{\"formatter\":{\"id\":\"1265\",\"type\":\"BasicTickFormatter\"},\"ticker\":{\"id\":\"1222\",\"type\":\"BasicTicker\"}},\"id\":\"1221\",\"type\":\"LinearAxis\"},{\"attributes\":{},\"id\":\"1267\",\"type\":\"BasicTickFormatter\"},{\"attributes\":{},\"id\":\"1231\",\"type\":\"HelpTool\"},{\"attributes\":{},\"id\":\"1229\",\"type\":\"SaveTool\"},{\"attributes\":{},\"id\":\"1265\",\"type\":\"BasicTickFormatter\"},{\"attributes\":{},\"id\":\"1212\",\"type\":\"LinearScale\"},{\"attributes\":{},\"id\":\"1230\",\"type\":\"ResetTool\"},{\"attributes\":{\"active_drag\":\"auto\",\"active_inspect\":\"auto\",\"active_multi\":null,\"active_scroll\":\"auto\",\"active_tap\":\"auto\",\"tools\":[{\"id\":\"1226\",\"type\":\"PanTool\"},{\"id\":\"1227\",\"type\":\"WheelZoomTool\"},{\"id\":\"1228\",\"type\":\"BoxZoomTool\"},{\"id\":\"1229\",\"type\":\"SaveTool\"},{\"id\":\"1230\",\"type\":\"ResetTool\"},{\"id\":\"1231\",\"type\":\"HelpTool\"},{\"id\":\"1240\",\"type\":\"HoverTool\"}]},\"id\":\"1232\",\"type\":\"Toolbar\"},{\"attributes\":{\"data_source\":{\"id\":\"1241\",\"type\":\"ColumnDataSource\"},\"glyph\":{\"id\":\"1243\",\"type\":\"Circle\"},\"hover_glyph\":null,\"muted_glyph\":null,\"nonselection_glyph\":{\"id\":\"1244\",\"type\":\"Circle\"},\"selection_glyph\":null,\"view\":{\"id\":\"1246\",\"type\":\"CDSView\"}},\"id\":\"1245\",\"type\":\"GlyphRenderer\"},{\"attributes\":{},\"id\":\"1226\",\"type\":\"PanTool\"},{\"attributes\":{},\"id\":\"1268\",\"type\":\"UnionRenderers\"},{\"attributes\":{\"fill_alpha\":{\"value\":0.1},\"fill_color\":{\"value\":\"#1f77b4\"},\"line_alpha\":{\"value\":0.1},\"line_color\":{\"value\":\"#1f77b4\"},\"x\":{\"field\":\"x\"},\"y\":{\"field\":\"y\"}},\"id\":\"1244\",\"type\":\"Circle\"},{\"attributes\":{\"source\":{\"id\":\"1241\",\"type\":\"ColumnDataSource\"}},\"id\":\"1246\",\"type\":\"CDSView\"},{\"attributes\":{},\"id\":\"1222\",\"type\":\"BasicTicker\"},{\"attributes\":{\"bottom_units\":\"screen\",\"fill_alpha\":{\"value\":0.5},\"fill_color\":{\"value\":\"lightgrey\"},\"left_units\":\"screen\",\"level\":\"overlay\",\"line_alpha\":{\"value\":1.0},\"line_color\":{\"value\":\"black\"},\"line_dash\":[4,4],\"line_width\":{\"value\":2},\"render_mode\":\"css\",\"right_units\":\"screen\",\"top_units\":\"screen\"},\"id\":\"1270\",\"type\":\"BoxAnnotation\"},{\"attributes\":{\"callback\":null,\"data\":{\"index\":[0,1,2,3,4,5,6,7,8,9,10,11,12,13,14,15,16,17,18,19,20,21,22,23,24,25,26,27,28,29,30,31,32,33,34,35,36,37,38,39,40,41,42,43,44,45,46,47,48,49,50,51,52,53,54,55,56,57,58,59,60,61,62,63,64,65,66,67,68,69,70,71,72,73,74,75,76,77,78,79,80,81,82,83,84,85,86,87,88,89,90,91,92,93,94,95,96,97,98,99,100,101,102,103,104,105,106,107,108,109,110,111,112,113,114,115,116,117,118,119,120,121,122,123,124,125,126,127,128,129,130,131,132,133,134,135,136,137,138,139,140,141,142,143,144,145,146,147,148,149,150,151,152,153,154,155,156,157,158,159,160,161,162,163,164,165,166,167,168,169,170,171,172,173,174,175,176,177,178,179,180,181,182,183,184,185,186,187,188,189,190,191,192,193,194,195,196,197,198,199,200,201,202,203,204,205,206,207,208,209,210,211,212,213,214,215,216,217,218,219,220,221,222,223,224,225,226,227,228,229,230,231,232,233,234,235,236,237,238,239,240,241,242,243,244,245,246,247,248,249,250,251,252,253,254,255,256,257,258,259,260,261,262,263,264,265,266,267,268,269,270,271,272,273,274,275,276,277,278,279,280,281,282,283,284,285,286,287,288,289,290,291,292,293,294,295,296,297,298,299,300,301,302,303,304,305,306,307,308,309,310,311,312,313,314,315,316,317,318,319,320,321,322,323,324,325,326,327,328,329,330,331,332,333,334,335,336,337,338,339,340,341,342,343,344,345,346,347,348,349,350,351,352,353,354,355,356,357,358,359,360,361,362,363,364,365,366,367,368,369,370,371,372,373,374,375,376,377,378,379,380,381,382,383,384,385,386,387,388,389,390,391,392,393,394,395,396,397,398,399,400,401,402,403,404,405,406,407,408,409,410,411,412,413,414,415,416,417,418,419,420,421,422,423,424,425,426,427,428,429,430,431,432,433,434,435,436,437,438,439,440,441,442,443,444,445,446,447,448,449,450,451,452,453,454,455,456,457,458,459,460,461,462,463,464,465,466,467,468,469,470,471,472,473,474,475,476,477,478,479,480,481,482,483,484,485,486,487,488,489,490,491,492,493,494,495,496,497,498,499,500,501,502,503,504,505,506,507,508,509,510,511,512,513,514,515,516,517,518,519,520,521,522,523,524,525,526,527,528,529,530,531,532,533,534,535,536,537,538,539,540,541,542,543,544,545,546,547,548,549,550,551,552,553,554,555,556,557,558,559,560,561,562,563,564,565,566,567,568,569,570,571,572,573,574,575,576,577,578,579,580,581,582,583,584,585,586,587,588,589,590,591,592,593,594,595,596,597,598,599,600,601,602,603,604,605,606,607,608,609,610,611,612,613,614,615,616,617,618,619,620,621,622,623,624,625,626,627,628,629,630,631,632,633,634,635,636,637,638,639,640,641,642,643,644,645,646,647,648,649,650,651,652,653,654,655,656,657,658,659,660,661,662,663,664,665,666,667,668,669,670,671,672,673,674,675,676,677,678,679,680,681,682,683,684,685,686,687,688,689,690,691,692,693,694,695,696,697,698,699,700,701,702,703,704,705,706,707,708,709,710,711,712,713,714,715,716,717,718,719,720,721,722,723,724,725,726,727,728,729,730,731,732,733,734,735,736,737,738,739,740,741,742,743,744,745,746,747,748,749,750,751,752,753,754,755,756,757,758,759,760,761,762,763,764,765,766,767,768,769,770,771,772,773,774,775,776,777,778,779,780,781,782,783,784,785,786,787,788,789,790,791,792,793,794,795,796,797,798,799,800,801,802,803,804,805,806,807,808,809,810,811,812,813,814,815,816,817,818,819,820,821,822,823,824,825,826,827,828,829,830,831,832,833,834,835,836,837,838,839,840,841,842,843,844,845,846,847,848,849,850,851,852,853,854,855,856,857,858,859,860,861,862,863,864,865,866,867,868,869,870,871,872,873,874,875,876,877,878,879,880,881,882,883,884,885,886,887,888,889,890,891,892,893,894,895,896,897,898,899,900,901,902,903,904,905,906,907,908,909,910,911,912,913,914,915,916,917,918,919,920,921,922,923,924,925,926,927,928,929,930,931,932,933,934,935,936,937,938,939,940,941,942,943,944,945,946,947,948,949,950,951,952,953,954,955,956,957,958,959,960,961,962,963,964,965,966,967,968,969,970,971,972,973,974,975,976,977,978,979,980,981,982,983,984,985,986,987,988,989,990,991,992,993,994,995,996,997,998,999,1000,1001,1002,1003,1004,1005,1006,1007,1008,1009,1010,1011,1012,1013,1014,1015,1016,1017,1018,1019,1020,1021,1022,1023,1024,1025,1026,1027,1028,1029,1030,1031,1032,1033,1034,1035,1036,1037,1038,1039,1040,1041,1042,1043,1044,1045,1046,1047,1048,1049,1050,1051,1052,1053,1054,1055,1056,1057,1058,1059,1060,1061,1062,1063,1064,1065,1066,1067,1068,1069,1070,1071,1072,1073,1074,1075,1076,1077,1078,1079,1080,1081,1082,1083,1084,1085,1086,1087,1088],\"x\":{\"__ndarray__\":\"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\",\"dtype\":\"float64\",\"shape\":[1089]},\"y\":{\"__ndarray__\":\"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\",\"dtype\":\"float64\",\"shape\":[1089]}},\"selected\":{\"id\":\"1269\",\"type\":\"Selection\"},\"selection_policy\":{\"id\":\"1268\",\"type\":\"UnionRenderers\"}},\"id\":\"1241\",\"type\":\"ColumnDataSource\"},{\"attributes\":{},\"id\":\"1214\",\"type\":\"LinearScale\"},{\"attributes\":{\"formatter\":{\"id\":\"1267\",\"type\":\"BasicTickFormatter\"},\"ticker\":{\"id\":\"1217\",\"type\":\"BasicTicker\"}},\"id\":\"1216\",\"type\":\"LinearAxis\"},{\"attributes\":{},\"id\":\"1269\",\"type\":\"Selection\"},{\"attributes\":{\"fill_color\":{\"value\":\"#1f77b4\"},\"line_color\":{\"value\":\"#1f77b4\"},\"x\":{\"field\":\"x\"},\"y\":{\"field\":\"y\"}},\"id\":\"1243\",\"type\":\"Circle\"},{\"attributes\":{\"callback\":null},\"id\":\"1210\",\"type\":\"DataRange1d\"},{\"attributes\":{\"callback\":null,\"tooltips\":[[\"x\",\"@x\"],[\"y\",\"@y\"]]},\"id\":\"1240\",\"type\":\"HoverTool\"}],\"root_ids\":[\"1206\"]},\"title\":\"Bokeh Application\",\"version\":\"1.2.0\"}};\n",
       "  var render_items = [{\"docid\":\"4e571acb-dab4-40d1-8d50-a78edeff24f9\",\"roots\":{\"1206\":\"c508954c-fe58-4d81-8998-1c8a6ffd166d\"}}];\n",
       "  root.Bokeh.embed.embed_items_notebook(docs_json, render_items);\n",
       "\n",
       "  }\n",
       "  if (root.Bokeh !== undefined) {\n",
       "    embed_document(root);\n",
       "  } else {\n",
       "    var attempts = 0;\n",
       "    var timer = setInterval(function(root) {\n",
       "      if (root.Bokeh !== undefined) {\n",
       "        embed_document(root);\n",
       "        clearInterval(timer);\n",
       "      }\n",
       "      attempts++;\n",
       "      if (attempts > 100) {\n",
       "        console.log(\"Bokeh: ERROR: Unable to run BokehJS code because BokehJS library is missing\");\n",
       "        clearInterval(timer);\n",
       "      }\n",
       "    }, 10, root)\n",
       "  }\n",
       "})(window);"
      ],
      "application/vnd.bokehjs_exec.v0+json": ""
     },
     "metadata": {
      "application/vnd.bokehjs_exec.v0+json": {
       "id": "1206"
      }
     },
     "output_type": "display_data"
    }
   ],
   "source": [
    "p = hl.plot.scatter(mt.het_freq, mt.hwe.het_freq_hwe)\n",
    "show(p)"
   ]
  },
  {
   "cell_type": "code",
   "execution_count": null,
   "metadata": {},
   "outputs": [],
   "source": []
  }
 ],
 "metadata": {
  "kernelspec": {
   "display_name": "Python 3",
   "language": "python",
   "name": "python3"
  },
  "language_info": {
   "codemirror_mode": {
    "name": "ipython",
    "version": 3
   },
   "file_extension": ".py",
   "mimetype": "text/x-python",
   "name": "python",
   "nbconvert_exporter": "python",
   "pygments_lexer": "ipython3",
   "version": "3.6.11"
  }
 },
 "nbformat": 4,
 "nbformat_minor": 4
}
