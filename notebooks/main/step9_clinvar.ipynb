{
 "cells": [
  {
   "cell_type": "markdown",
   "id": "b0ad220f-8db8-40bd-8c69-803f0b01b153",
   "metadata": {},
   "source": [
    "# ClinVar variants\n",
    "\n",
    "Lookup variants in the FarGen dataset in ClinVar."
   ]
  },
  {
   "cell_type": "code",
   "execution_count": 1,
   "id": "6d490832-7263-4d5a-b8ed-c7703a9b524e",
   "metadata": {},
   "outputs": [
    {
     "name": "stdout",
     "output_type": "stream",
     "text": [
      "2021-11-23 10:52:05 WARN  NativeCodeLoader:62 - Unable to load native-hadoop library for your platform... using builtin-java classes where applicable\n"
     ]
    },
    {
     "name": "stderr",
     "output_type": "stream",
     "text": [
      "Setting default log level to \"WARN\".\n",
      "To adjust logging level use sc.setLogLevel(newLevel). For SparkR, use setLogLevel(newLevel).\n"
     ]
    },
    {
     "name": "stdout",
     "output_type": "stream",
     "text": [
      "2021-11-23 10:52:06 WARN  Hail:37 - This Hail JAR was compiled for Spark 2.4.5, running with Spark 2.4.1.\n",
      "  Compatibility is not guaranteed.\n"
     ]
    },
    {
     "name": "stderr",
     "output_type": "stream",
     "text": [
      "Running on Apache Spark version 2.4.1\n",
      "SparkUI available at http://hms-beagle-68c965f6f5-qw44l:4040\n",
      "Welcome to\n",
      "     __  __     <>__\n",
      "    / /_/ /__  __/ /\n",
      "   / __  / _ `/ / /\n",
      "  /_/ /_/\\_,_/_/_/   version 0.2.61-3c86d3ba497a\n",
      "LOGGING: writing to /home/olavur/experiments/2020-11-13_fargen1_exome_analysis/fargen-1-exome/notebooks/main/hail-20211123-1052-0.2.61-3c86d3ba497a.log\n"
     ]
    }
   ],
   "source": [
    "import hail as hl\n",
    "hl.init(spark_conf={'spark.driver.memory': '100g'}, tmp_dir='/home/olavur/tmp')"
   ]
  },
  {
   "cell_type": "code",
   "execution_count": 2,
   "id": "8ef6d6c8-704e-46f7-8096-59e23b588dc2",
   "metadata": {},
   "outputs": [
    {
     "data": {
      "text/html": [
       "\n",
       "    <div class=\"bk-root\">\n",
       "        <a href=\"https://bokeh.pydata.org\" target=\"_blank\" class=\"bk-logo bk-logo-small bk-logo-notebook\"></a>\n",
       "        <span id=\"1001\">Loading BokehJS ...</span>\n",
       "    </div>"
      ]
     },
     "metadata": {},
     "output_type": "display_data"
    },
    {
     "data": {
      "application/javascript": [
       "\n",
       "(function(root) {\n",
       "  function now() {\n",
       "    return new Date();\n",
       "  }\n",
       "\n",
       "  var force = true;\n",
       "\n",
       "  if (typeof root._bokeh_onload_callbacks === \"undefined\" || force === true) {\n",
       "    root._bokeh_onload_callbacks = [];\n",
       "    root._bokeh_is_loading = undefined;\n",
       "  }\n",
       "\n",
       "  var JS_MIME_TYPE = 'application/javascript';\n",
       "  var HTML_MIME_TYPE = 'text/html';\n",
       "  var EXEC_MIME_TYPE = 'application/vnd.bokehjs_exec.v0+json';\n",
       "  var CLASS_NAME = 'output_bokeh rendered_html';\n",
       "\n",
       "  /**\n",
       "   * Render data to the DOM node\n",
       "   */\n",
       "  function render(props, node) {\n",
       "    var script = document.createElement(\"script\");\n",
       "    node.appendChild(script);\n",
       "  }\n",
       "\n",
       "  /**\n",
       "   * Handle when an output is cleared or removed\n",
       "   */\n",
       "  function handleClearOutput(event, handle) {\n",
       "    var cell = handle.cell;\n",
       "\n",
       "    var id = cell.output_area._bokeh_element_id;\n",
       "    var server_id = cell.output_area._bokeh_server_id;\n",
       "    // Clean up Bokeh references\n",
       "    if (id != null && id in Bokeh.index) {\n",
       "      Bokeh.index[id].model.document.clear();\n",
       "      delete Bokeh.index[id];\n",
       "    }\n",
       "\n",
       "    if (server_id !== undefined) {\n",
       "      // Clean up Bokeh references\n",
       "      var cmd = \"from bokeh.io.state import curstate; print(curstate().uuid_to_server['\" + server_id + \"'].get_sessions()[0].document.roots[0]._id)\";\n",
       "      cell.notebook.kernel.execute(cmd, {\n",
       "        iopub: {\n",
       "          output: function(msg) {\n",
       "            var id = msg.content.text.trim();\n",
       "            if (id in Bokeh.index) {\n",
       "              Bokeh.index[id].model.document.clear();\n",
       "              delete Bokeh.index[id];\n",
       "            }\n",
       "          }\n",
       "        }\n",
       "      });\n",
       "      // Destroy server and session\n",
       "      var cmd = \"import bokeh.io.notebook as ion; ion.destroy_server('\" + server_id + \"')\";\n",
       "      cell.notebook.kernel.execute(cmd);\n",
       "    }\n",
       "  }\n",
       "\n",
       "  /**\n",
       "   * Handle when a new output is added\n",
       "   */\n",
       "  function handleAddOutput(event, handle) {\n",
       "    var output_area = handle.output_area;\n",
       "    var output = handle.output;\n",
       "\n",
       "    // limit handleAddOutput to display_data with EXEC_MIME_TYPE content only\n",
       "    if ((output.output_type != \"display_data\") || (!output.data.hasOwnProperty(EXEC_MIME_TYPE))) {\n",
       "      return\n",
       "    }\n",
       "\n",
       "    var toinsert = output_area.element.find(\".\" + CLASS_NAME.split(' ')[0]);\n",
       "\n",
       "    if (output.metadata[EXEC_MIME_TYPE][\"id\"] !== undefined) {\n",
       "      toinsert[toinsert.length - 1].firstChild.textContent = output.data[JS_MIME_TYPE];\n",
       "      // store reference to embed id on output_area\n",
       "      output_area._bokeh_element_id = output.metadata[EXEC_MIME_TYPE][\"id\"];\n",
       "    }\n",
       "    if (output.metadata[EXEC_MIME_TYPE][\"server_id\"] !== undefined) {\n",
       "      var bk_div = document.createElement(\"div\");\n",
       "      bk_div.innerHTML = output.data[HTML_MIME_TYPE];\n",
       "      var script_attrs = bk_div.children[0].attributes;\n",
       "      for (var i = 0; i < script_attrs.length; i++) {\n",
       "        toinsert[toinsert.length - 1].firstChild.setAttribute(script_attrs[i].name, script_attrs[i].value);\n",
       "      }\n",
       "      // store reference to server id on output_area\n",
       "      output_area._bokeh_server_id = output.metadata[EXEC_MIME_TYPE][\"server_id\"];\n",
       "    }\n",
       "  }\n",
       "\n",
       "  function register_renderer(events, OutputArea) {\n",
       "\n",
       "    function append_mime(data, metadata, element) {\n",
       "      // create a DOM node to render to\n",
       "      var toinsert = this.create_output_subarea(\n",
       "        metadata,\n",
       "        CLASS_NAME,\n",
       "        EXEC_MIME_TYPE\n",
       "      );\n",
       "      this.keyboard_manager.register_events(toinsert);\n",
       "      // Render to node\n",
       "      var props = {data: data, metadata: metadata[EXEC_MIME_TYPE]};\n",
       "      render(props, toinsert[toinsert.length - 1]);\n",
       "      element.append(toinsert);\n",
       "      return toinsert\n",
       "    }\n",
       "\n",
       "    /* Handle when an output is cleared or removed */\n",
       "    events.on('clear_output.CodeCell', handleClearOutput);\n",
       "    events.on('delete.Cell', handleClearOutput);\n",
       "\n",
       "    /* Handle when a new output is added */\n",
       "    events.on('output_added.OutputArea', handleAddOutput);\n",
       "\n",
       "    /**\n",
       "     * Register the mime type and append_mime function with output_area\n",
       "     */\n",
       "    OutputArea.prototype.register_mime_type(EXEC_MIME_TYPE, append_mime, {\n",
       "      /* Is output safe? */\n",
       "      safe: true,\n",
       "      /* Index of renderer in `output_area.display_order` */\n",
       "      index: 0\n",
       "    });\n",
       "  }\n",
       "\n",
       "  // register the mime type if in Jupyter Notebook environment and previously unregistered\n",
       "  if (root.Jupyter !== undefined) {\n",
       "    var events = require('base/js/events');\n",
       "    var OutputArea = require('notebook/js/outputarea').OutputArea;\n",
       "\n",
       "    if (OutputArea.prototype.mime_types().indexOf(EXEC_MIME_TYPE) == -1) {\n",
       "      register_renderer(events, OutputArea);\n",
       "    }\n",
       "  }\n",
       "\n",
       "  \n",
       "  if (typeof (root._bokeh_timeout) === \"undefined\" || force === true) {\n",
       "    root._bokeh_timeout = Date.now() + 5000;\n",
       "    root._bokeh_failed_load = false;\n",
       "  }\n",
       "\n",
       "  var NB_LOAD_WARNING = {'data': {'text/html':\n",
       "     \"<div style='background-color: #fdd'>\\n\"+\n",
       "     \"<p>\\n\"+\n",
       "     \"BokehJS does not appear to have successfully loaded. If loading BokehJS from CDN, this \\n\"+\n",
       "     \"may be due to a slow or bad network connection. Possible fixes:\\n\"+\n",
       "     \"</p>\\n\"+\n",
       "     \"<ul>\\n\"+\n",
       "     \"<li>re-rerun `output_notebook()` to attempt to load from CDN again, or</li>\\n\"+\n",
       "     \"<li>use INLINE resources instead, as so:</li>\\n\"+\n",
       "     \"</ul>\\n\"+\n",
       "     \"<code>\\n\"+\n",
       "     \"from bokeh.resources import INLINE\\n\"+\n",
       "     \"output_notebook(resources=INLINE)\\n\"+\n",
       "     \"</code>\\n\"+\n",
       "     \"</div>\"}};\n",
       "\n",
       "  function display_loaded() {\n",
       "    var el = document.getElementById(\"1001\");\n",
       "    if (el != null) {\n",
       "      el.textContent = \"BokehJS is loading...\";\n",
       "    }\n",
       "    if (root.Bokeh !== undefined) {\n",
       "      if (el != null) {\n",
       "        el.textContent = \"BokehJS \" + root.Bokeh.version + \" successfully loaded.\";\n",
       "      }\n",
       "    } else if (Date.now() < root._bokeh_timeout) {\n",
       "      setTimeout(display_loaded, 100)\n",
       "    }\n",
       "  }\n",
       "\n",
       "\n",
       "  function run_callbacks() {\n",
       "    try {\n",
       "      root._bokeh_onload_callbacks.forEach(function(callback) {\n",
       "        if (callback != null)\n",
       "          callback();\n",
       "      });\n",
       "    } finally {\n",
       "      delete root._bokeh_onload_callbacks\n",
       "    }\n",
       "    console.debug(\"Bokeh: all callbacks have finished\");\n",
       "  }\n",
       "\n",
       "  function load_libs(css_urls, js_urls, callback) {\n",
       "    if (css_urls == null) css_urls = [];\n",
       "    if (js_urls == null) js_urls = [];\n",
       "\n",
       "    root._bokeh_onload_callbacks.push(callback);\n",
       "    if (root._bokeh_is_loading > 0) {\n",
       "      console.debug(\"Bokeh: BokehJS is being loaded, scheduling callback at\", now());\n",
       "      return null;\n",
       "    }\n",
       "    if (js_urls == null || js_urls.length === 0) {\n",
       "      run_callbacks();\n",
       "      return null;\n",
       "    }\n",
       "    console.debug(\"Bokeh: BokehJS not loaded, scheduling load and callback at\", now());\n",
       "    root._bokeh_is_loading = css_urls.length + js_urls.length;\n",
       "\n",
       "    function on_load() {\n",
       "      root._bokeh_is_loading--;\n",
       "      if (root._bokeh_is_loading === 0) {\n",
       "        console.debug(\"Bokeh: all BokehJS libraries/stylesheets loaded\");\n",
       "        run_callbacks()\n",
       "      }\n",
       "    }\n",
       "\n",
       "    function on_error() {\n",
       "      console.error(\"failed to load \" + url);\n",
       "    }\n",
       "\n",
       "    for (var i = 0; i < css_urls.length; i++) {\n",
       "      var url = css_urls[i];\n",
       "      const element = document.createElement(\"link\");\n",
       "      element.onload = on_load;\n",
       "      element.onerror = on_error;\n",
       "      element.rel = \"stylesheet\";\n",
       "      element.type = \"text/css\";\n",
       "      element.href = url;\n",
       "      console.debug(\"Bokeh: injecting link tag for BokehJS stylesheet: \", url);\n",
       "      document.body.appendChild(element);\n",
       "    }\n",
       "\n",
       "    for (var i = 0; i < js_urls.length; i++) {\n",
       "      var url = js_urls[i];\n",
       "      var element = document.createElement('script');\n",
       "      element.onload = on_load;\n",
       "      element.onerror = on_error;\n",
       "      element.async = false;\n",
       "      element.src = url;\n",
       "      console.debug(\"Bokeh: injecting script tag for BokehJS library: \", url);\n",
       "      document.head.appendChild(element);\n",
       "    }\n",
       "  };var element = document.getElementById(\"1001\");\n",
       "  if (element == null) {\n",
       "    console.error(\"Bokeh: ERROR: autoload.js configured with elementid '1001' but no matching script tag was found. \")\n",
       "    return false;\n",
       "  }\n",
       "\n",
       "  function inject_raw_css(css) {\n",
       "    const element = document.createElement(\"style\");\n",
       "    element.appendChild(document.createTextNode(css));\n",
       "    document.body.appendChild(element);\n",
       "  }\n",
       "\n",
       "  var js_urls = [\"https://cdn.pydata.org/bokeh/release/bokeh-1.2.0.min.js\", \"https://cdn.pydata.org/bokeh/release/bokeh-widgets-1.2.0.min.js\", \"https://cdn.pydata.org/bokeh/release/bokeh-tables-1.2.0.min.js\", \"https://cdn.pydata.org/bokeh/release/bokeh-gl-1.2.0.min.js\"];\n",
       "  var css_urls = [\"https://cdn.pydata.org/bokeh/release/bokeh-1.2.0.min.css\", \"https://cdn.pydata.org/bokeh/release/bokeh-widgets-1.2.0.min.css\", \"https://cdn.pydata.org/bokeh/release/bokeh-tables-1.2.0.min.css\"];\n",
       "\n",
       "  var inline_js = [\n",
       "    function(Bokeh) {\n",
       "      Bokeh.set_log_level(\"info\");\n",
       "    },\n",
       "    \n",
       "    function(Bokeh) {\n",
       "      \n",
       "    },\n",
       "    function(Bokeh) {} // ensure no trailing comma for IE\n",
       "  ];\n",
       "\n",
       "  function run_inline_js() {\n",
       "    \n",
       "    if ((root.Bokeh !== undefined) || (force === true)) {\n",
       "      for (var i = 0; i < inline_js.length; i++) {\n",
       "        inline_js[i].call(root, root.Bokeh);\n",
       "      }if (force === true) {\n",
       "        display_loaded();\n",
       "      }} else if (Date.now() < root._bokeh_timeout) {\n",
       "      setTimeout(run_inline_js, 100);\n",
       "    } else if (!root._bokeh_failed_load) {\n",
       "      console.log(\"Bokeh: BokehJS failed to load within specified timeout.\");\n",
       "      root._bokeh_failed_load = true;\n",
       "    } else if (force !== true) {\n",
       "      var cell = $(document.getElementById(\"1001\")).parents('.cell').data().cell;\n",
       "      cell.output_area.append_execute_result(NB_LOAD_WARNING)\n",
       "    }\n",
       "\n",
       "  }\n",
       "\n",
       "  if (root._bokeh_is_loading === 0) {\n",
       "    console.debug(\"Bokeh: BokehJS loaded, going straight to plotting\");\n",
       "    run_inline_js();\n",
       "  } else {\n",
       "    load_libs(css_urls, js_urls, function() {\n",
       "      console.debug(\"Bokeh: BokehJS plotting callback run at\", now());\n",
       "      run_inline_js();\n",
       "    });\n",
       "  }\n",
       "}(window));"
      ],
      "application/vnd.bokehjs_load.v0+json": "\n(function(root) {\n  function now() {\n    return new Date();\n  }\n\n  var force = true;\n\n  if (typeof root._bokeh_onload_callbacks === \"undefined\" || force === true) {\n    root._bokeh_onload_callbacks = [];\n    root._bokeh_is_loading = undefined;\n  }\n\n  \n\n  \n  if (typeof (root._bokeh_timeout) === \"undefined\" || force === true) {\n    root._bokeh_timeout = Date.now() + 5000;\n    root._bokeh_failed_load = false;\n  }\n\n  var NB_LOAD_WARNING = {'data': {'text/html':\n     \"<div style='background-color: #fdd'>\\n\"+\n     \"<p>\\n\"+\n     \"BokehJS does not appear to have successfully loaded. If loading BokehJS from CDN, this \\n\"+\n     \"may be due to a slow or bad network connection. Possible fixes:\\n\"+\n     \"</p>\\n\"+\n     \"<ul>\\n\"+\n     \"<li>re-rerun `output_notebook()` to attempt to load from CDN again, or</li>\\n\"+\n     \"<li>use INLINE resources instead, as so:</li>\\n\"+\n     \"</ul>\\n\"+\n     \"<code>\\n\"+\n     \"from bokeh.resources import INLINE\\n\"+\n     \"output_notebook(resources=INLINE)\\n\"+\n     \"</code>\\n\"+\n     \"</div>\"}};\n\n  function display_loaded() {\n    var el = document.getElementById(\"1001\");\n    if (el != null) {\n      el.textContent = \"BokehJS is loading...\";\n    }\n    if (root.Bokeh !== undefined) {\n      if (el != null) {\n        el.textContent = \"BokehJS \" + root.Bokeh.version + \" successfully loaded.\";\n      }\n    } else if (Date.now() < root._bokeh_timeout) {\n      setTimeout(display_loaded, 100)\n    }\n  }\n\n\n  function run_callbacks() {\n    try {\n      root._bokeh_onload_callbacks.forEach(function(callback) {\n        if (callback != null)\n          callback();\n      });\n    } finally {\n      delete root._bokeh_onload_callbacks\n    }\n    console.debug(\"Bokeh: all callbacks have finished\");\n  }\n\n  function load_libs(css_urls, js_urls, callback) {\n    if (css_urls == null) css_urls = [];\n    if (js_urls == null) js_urls = [];\n\n    root._bokeh_onload_callbacks.push(callback);\n    if (root._bokeh_is_loading > 0) {\n      console.debug(\"Bokeh: BokehJS is being loaded, scheduling callback at\", now());\n      return null;\n    }\n    if (js_urls == null || js_urls.length === 0) {\n      run_callbacks();\n      return null;\n    }\n    console.debug(\"Bokeh: BokehJS not loaded, scheduling load and callback at\", now());\n    root._bokeh_is_loading = css_urls.length + js_urls.length;\n\n    function on_load() {\n      root._bokeh_is_loading--;\n      if (root._bokeh_is_loading === 0) {\n        console.debug(\"Bokeh: all BokehJS libraries/stylesheets loaded\");\n        run_callbacks()\n      }\n    }\n\n    function on_error() {\n      console.error(\"failed to load \" + url);\n    }\n\n    for (var i = 0; i < css_urls.length; i++) {\n      var url = css_urls[i];\n      const element = document.createElement(\"link\");\n      element.onload = on_load;\n      element.onerror = on_error;\n      element.rel = \"stylesheet\";\n      element.type = \"text/css\";\n      element.href = url;\n      console.debug(\"Bokeh: injecting link tag for BokehJS stylesheet: \", url);\n      document.body.appendChild(element);\n    }\n\n    for (var i = 0; i < js_urls.length; i++) {\n      var url = js_urls[i];\n      var element = document.createElement('script');\n      element.onload = on_load;\n      element.onerror = on_error;\n      element.async = false;\n      element.src = url;\n      console.debug(\"Bokeh: injecting script tag for BokehJS library: \", url);\n      document.head.appendChild(element);\n    }\n  };var element = document.getElementById(\"1001\");\n  if (element == null) {\n    console.error(\"Bokeh: ERROR: autoload.js configured with elementid '1001' but no matching script tag was found. \")\n    return false;\n  }\n\n  function inject_raw_css(css) {\n    const element = document.createElement(\"style\");\n    element.appendChild(document.createTextNode(css));\n    document.body.appendChild(element);\n  }\n\n  var js_urls = [\"https://cdn.pydata.org/bokeh/release/bokeh-1.2.0.min.js\", \"https://cdn.pydata.org/bokeh/release/bokeh-widgets-1.2.0.min.js\", \"https://cdn.pydata.org/bokeh/release/bokeh-tables-1.2.0.min.js\", \"https://cdn.pydata.org/bokeh/release/bokeh-gl-1.2.0.min.js\"];\n  var css_urls = [\"https://cdn.pydata.org/bokeh/release/bokeh-1.2.0.min.css\", \"https://cdn.pydata.org/bokeh/release/bokeh-widgets-1.2.0.min.css\", \"https://cdn.pydata.org/bokeh/release/bokeh-tables-1.2.0.min.css\"];\n\n  var inline_js = [\n    function(Bokeh) {\n      Bokeh.set_log_level(\"info\");\n    },\n    \n    function(Bokeh) {\n      \n    },\n    function(Bokeh) {} // ensure no trailing comma for IE\n  ];\n\n  function run_inline_js() {\n    \n    if ((root.Bokeh !== undefined) || (force === true)) {\n      for (var i = 0; i < inline_js.length; i++) {\n        inline_js[i].call(root, root.Bokeh);\n      }if (force === true) {\n        display_loaded();\n      }} else if (Date.now() < root._bokeh_timeout) {\n      setTimeout(run_inline_js, 100);\n    } else if (!root._bokeh_failed_load) {\n      console.log(\"Bokeh: BokehJS failed to load within specified timeout.\");\n      root._bokeh_failed_load = true;\n    } else if (force !== true) {\n      var cell = $(document.getElementById(\"1001\")).parents('.cell').data().cell;\n      cell.output_area.append_execute_result(NB_LOAD_WARNING)\n    }\n\n  }\n\n  if (root._bokeh_is_loading === 0) {\n    console.debug(\"Bokeh: BokehJS loaded, going straight to plotting\");\n    run_inline_js();\n  } else {\n    load_libs(css_urls, js_urls, function() {\n      console.debug(\"Bokeh: BokehJS plotting callback run at\", now());\n      run_inline_js();\n    });\n  }\n}(window));"
     },
     "metadata": {},
     "output_type": "display_data"
    }
   ],
   "source": [
    "from bokeh.io import show, output_notebook\n",
    "from bokeh.layouts import gridplot\n",
    "from bokeh.models.scales import LogScale\n",
    "output_notebook()"
   ]
  },
  {
   "cell_type": "markdown",
   "id": "13bf97b9-8d6d-4f53-b14f-c8b3e1b23909",
   "metadata": {},
   "source": [
    "## Read FarGen variants"
   ]
  },
  {
   "cell_type": "code",
   "execution_count": 3,
   "id": "1d38501a-ec87-4ddf-a3fe-b56009f44ec1",
   "metadata": {},
   "outputs": [],
   "source": [
    "BASE_DIR = '/home/olavur/experiments/2020-11-13_fargen1_exome_analysis'\n",
    "RESOURCES_DIR = '/data/other/resources'"
   ]
  },
  {
   "cell_type": "code",
   "execution_count": 4,
   "id": "f2a47e57-2881-40f4-b246-a23a9a60129e",
   "metadata": {},
   "outputs": [],
   "source": [
    "import pandas as pd\n",
    "import numpy as np"
   ]
  },
  {
   "cell_type": "code",
   "execution_count": 5,
   "id": "a8d46694-46c6-4ccb-9305-736918f0cbd9",
   "metadata": {},
   "outputs": [],
   "source": [
    "mt = hl.read_matrix_table(BASE_DIR + '/data/mt/high_quality_variants_pao_removed.mt')"
   ]
  },
  {
   "cell_type": "markdown",
   "id": "8c1104b1-f8f3-482f-b9cf-1f63141243a3",
   "metadata": {},
   "source": [
    "## Read ClinVar\n",
    "\n",
    "The ClinVar VCF encodes chromosome 1 as `1` rather than `chr1`, so we must change that first."
   ]
  },
  {
   "cell_type": "code",
   "execution_count": 6,
   "id": "c2e4fb7f-ad71-4aa7-8e79-7f1fff6336f6",
   "metadata": {},
   "outputs": [
    {
     "name": "stderr",
     "output_type": "stream",
     "text": [
      "[Stage 0:=============>                                           (9 + 28) / 37]"
     ]
    }
   ],
   "source": [
    "# Make a dict with elements \"'1': 'chr1'\" and so on.\n",
    "contig_list = list(mt.aggregate_rows(hl.agg.collect_as_set(mt.locus.contig)))  # Correct encoding: chr1\n",
    "contig_alt_list = [contig[3:] for contig in contig_list]  # Incorrect encoding: 1\n",
    "contig_recoding = dict(zip(contig_alt_list, contig_list))"
   ]
  },
  {
   "cell_type": "markdown",
   "id": "82ca4996-2be6-4631-bb6b-04e16c4b03a3",
   "metadata": {},
   "source": [
    "Read the ClinVar VCF."
   ]
  },
  {
   "cell_type": "code",
   "execution_count": 7,
   "id": "c73de227-7476-441e-9364-d248a830172f",
   "metadata": {},
   "outputs": [],
   "source": [
    "# Skip invalid loci, for example on contig \"MT\".\n",
    "clinvar_path = '/home/olavur/experiments/2020-11-13_fargen1_exome_analysis/data/resources/clinvar/clinvar.vcf.gz'\n",
    "clinvar_mt = hl.import_vcf(clinvar_path, force_bgz=True, reference_genome='GRCh38', contig_recoding=contig_recoding, skip_invalid_loci=True)"
   ]
  },
  {
   "cell_type": "markdown",
   "id": "b04f2028-677b-4887-b562-5302da9e6c77",
   "metadata": {},
   "source": [
    "Remove all rows where the `CLNSIGINCL` field is empty."
   ]
  },
  {
   "cell_type": "code",
   "execution_count": 8,
   "id": "a59d6aa3-4a6d-4127-b0d5-e89f4a1fac1e",
   "metadata": {},
   "outputs": [],
   "source": [
    "clinvar_mt = clinvar_mt.filter_rows(~hl.is_missing(clinvar_mt.info.CLNSIG))"
   ]
  },
  {
   "cell_type": "markdown",
   "id": "2a2fe0b3-e3cc-462b-b006-776579be9a99",
   "metadata": {},
   "source": [
    "Annotate the variants with whether they are pathogenic or likely pathogenic."
   ]
  },
  {
   "cell_type": "code",
   "execution_count": 9,
   "id": "9dd16b0b-47ec-4202-a85b-42aba3b87f0a",
   "metadata": {},
   "outputs": [],
   "source": [
    "clinvar_mt = clinvar_mt.annotate_rows(_contains_pathogenic = clinvar_mt.info.CLNSIG.map(lambda s: s.contains('Pathogenic')),\n",
    "                                      _contains_likely_pathogenic = clinvar_mt.info.CLNSIG.map(lambda s: s.contains('Likely_pathogenic')))\n",
    "clinvar_mt = clinvar_mt.annotate_rows(_is_pathogenic = clinvar_mt._contains_pathogenic.contains(True),\n",
    "                                      _is_likely_pathogenic = clinvar_mt._contains_likely_pathogenic.contains(True))"
   ]
  },
  {
   "cell_type": "markdown",
   "id": "dd4cfe82-51af-47dc-b2f6-3eb3ff6f1b35",
   "metadata": {},
   "source": [
    "Check how many pathogenic variants there are in ClinVar."
   ]
  },
  {
   "cell_type": "code",
   "execution_count": 10,
   "id": "e0b14208-7396-4f87-ac07-ebdc5960967f",
   "metadata": {},
   "outputs": [
    {
     "name": "stderr",
     "output_type": "stream",
     "text": [
      "[Stage 1:>                                                          (0 + 1) / 1]2021-11-23 10:53:33 Hail: INFO: Coerced sorted dataset\n",
      "[Stage 2:>                                                          (0 + 1) / 1]"
     ]
    },
    {
     "data": {
      "text/plain": [
       "Struct(n_pathogenic=105825, n_likely_pathogenic=54609)"
      ]
     },
     "execution_count": 10,
     "metadata": {},
     "output_type": "execute_result"
    }
   ],
   "source": [
    "clinvar_mt.aggregate_rows(hl.struct(n_pathogenic = hl.agg.count_where(clinvar_mt._is_pathogenic), n_likely_pathogenic = hl.agg.count_where(clinvar_mt._is_likely_pathogenic)))"
   ]
  },
  {
   "cell_type": "markdown",
   "id": "ed31d123-125d-4d33-9ba6-b9c301e21e88",
   "metadata": {},
   "source": [
    "Keep only variants that are either pathogenic or likely pathogenic."
   ]
  },
  {
   "cell_type": "code",
   "execution_count": 11,
   "id": "e016f711-365c-4364-b360-b84cf3f3a17d",
   "metadata": {},
   "outputs": [],
   "source": [
    "clinvar_mt = clinvar_mt.filter_rows(clinvar_mt._is_pathogenic | clinvar_mt._is_likely_pathogenic)"
   ]
  },
  {
   "cell_type": "code",
   "execution_count": 12,
   "id": "aae8b284-fefc-45ce-8f5b-45fa98b9f5de",
   "metadata": {},
   "outputs": [
    {
     "name": "stderr",
     "output_type": "stream",
     "text": [
      "[Stage 3:>                                                          (0 + 1) / 1]2021-11-23 10:53:45 Hail: INFO: Coerced sorted dataset\n",
      "[Stage 4:>                                                          (0 + 1) / 1]"
     ]
    },
    {
     "data": {
      "text/plain": [
       "(150012, 0)"
      ]
     },
     "execution_count": 12,
     "metadata": {},
     "output_type": "execute_result"
    }
   ],
   "source": [
    "clinvar_mt.count()"
   ]
  },
  {
   "cell_type": "markdown",
   "id": "6c5cf411-6c6a-49f8-8dd7-04bfbe4e5a6f",
   "metadata": {},
   "source": [
    "## Annotate FarGen variants with ClinVar\n",
    "\n",
    "Annotate the FarGen variants with ClinVar pathogenicity status."
   ]
  },
  {
   "cell_type": "code",
   "execution_count": 13,
   "id": "1254a0ba-29c7-459b-b741-663dd5233136",
   "metadata": {},
   "outputs": [],
   "source": [
    "mt = mt.annotate_rows(is_pathogenic = clinvar_mt.index_rows(mt.row_key)._is_pathogenic,\n",
    "                      is_likely_pathogenic = clinvar_mt.index_rows(mt.row_key)._is_likely_pathogenic)"
   ]
  },
  {
   "cell_type": "markdown",
   "id": "3bb4e8c9-ed99-4be8-9706-a6865414afa9",
   "metadata": {},
   "source": [
    "Count number of pathogenic or likely pathogenic variants in the FarGen dataset."
   ]
  },
  {
   "cell_type": "code",
   "execution_count": 14,
   "id": "fe2b5cfc-39da-4aa2-83ad-c797197b1f46",
   "metadata": {},
   "outputs": [
    {
     "name": "stderr",
     "output_type": "stream",
     "text": [
      "[Stage 5:>                                                          (0 + 1) / 1]2021-11-23 10:53:56 Hail: INFO: Coerced sorted dataset\n",
      "[Stage 6:>                                                          (0 + 1) / 1]2021-11-23 10:54:01 Hail: INFO: Coerced sorted dataset\n",
      "[Stage 7:=======================================================> (36 + 1) / 37]"
     ]
    },
    {
     "data": {
      "text/plain": [
       "Struct(n_pathogenic=18, n_likely_pathogenic=10, n_either=22)"
      ]
     },
     "execution_count": 14,
     "metadata": {},
     "output_type": "execute_result"
    }
   ],
   "source": [
    "mt.aggregate_rows(hl.struct(n_pathogenic = hl.agg.count_where(mt.is_pathogenic),\n",
    "                            n_likely_pathogenic = hl.agg.count_where(mt.is_likely_pathogenic),\n",
    "                            n_either = hl.agg.count_where(mt.is_pathogenic | mt.is_likely_pathogenic)))"
   ]
  },
  {
   "cell_type": "markdown",
   "id": "bec06314-bc4a-4cf6-b15c-6b3e8e8263be",
   "metadata": {},
   "source": [
    "Keep only variants that are either pathogenic or likely pathogenic."
   ]
  },
  {
   "cell_type": "code",
   "execution_count": 15,
   "id": "2289f64c-8a16-4bc9-8ae7-4c7a4e53d2c1",
   "metadata": {},
   "outputs": [],
   "source": [
    "mt = mt.filter_rows(mt.is_pathogenic | mt.is_likely_pathogenic)"
   ]
  },
  {
   "cell_type": "markdown",
   "id": "5f032df2-8f1d-422a-8d4b-7432472d6ca1",
   "metadata": {},
   "source": [
    "Write the resulting matrix table to the temp folder."
   ]
  },
  {
   "cell_type": "code",
   "execution_count": 16,
   "id": "6b3061c7-2d41-4c5e-9ee1-dd23778b6ebb",
   "metadata": {},
   "outputs": [
    {
     "name": "stderr",
     "output_type": "stream",
     "text": [
      "[Stage 8:>                                                          (0 + 1) / 1]2021-11-23 10:54:27 Hail: INFO: Coerced sorted dataset\n",
      "[Stage 9:>                                                          (0 + 1) / 1]2021-11-23 10:54:32 Hail: INFO: Coerced sorted dataset\n",
      "[Stage 10:>                                                         (0 + 1) / 1]2021-11-23 10:54:37 Hail: INFO: Coerced sorted dataset\n",
      "[Stage 11:======================================================> (36 + 1) / 37]2021-11-23 10:55:05 Hail: INFO: wrote matrix table with 22 rows and 465 columns in 37 partitions to /home/olavur/tmp/fargen_clinvar.mt\n",
      "    Total size: 182.37 KiB\n",
      "    * Rows/entries: 130.49 KiB\n",
      "    * Columns: 51.85 KiB\n",
      "    * Globals: 39.00 B\n",
      "    * Smallest partition: 0 rows (20.00 B)\n",
      "    * Largest partition:  3 rows (18.85 KiB)\n"
     ]
    }
   ],
   "source": [
    "mt_path = '/home/olavur/tmp/fargen_clinvar.mt'\n",
    "mt = mt.checkpoint(mt_path, overwrite=True)"
   ]
  },
  {
   "cell_type": "code",
   "execution_count": 114,
   "id": "d596afb3-a925-48a6-92b3-e511212789e9",
   "metadata": {},
   "outputs": [],
   "source": [
    "mt = hl.read_matrix_table(mt_path)"
   ]
  },
  {
   "cell_type": "code",
   "execution_count": 108,
   "id": "c71fdd32-2c36-4ec6-89e9-3749b1e38582",
   "metadata": {},
   "outputs": [
    {
     "name": "stdout",
     "output_type": "stream",
     "text": [
      "Number of pathogenic or likely pathogenic variants: 22\n"
     ]
    }
   ],
   "source": [
    "n_variants = mt.count_rows()\n",
    "print('Number of pathogenic or likely pathogenic variants: ' + str(n_variants))"
   ]
  },
  {
   "cell_type": "markdown",
   "id": "edbce952-ca7f-4871-8fd3-1a54dbe5b67b",
   "metadata": {},
   "source": [
    "## Geisinger 76 genes\n",
    "\n",
    "Geisinger 76 (G76) is a list of 76 \"clinically actionable\" genes. The list is included in in the supplement of Dewey et al. 2016 (citation below). The supplement is available at the link below.\n",
    "https://www.science.org/doi/10.1126/science.aaf6814\n",
    "\n",
    "Dewey FE, Murray MF, Overton JD, Habegger L, Leader JB, Fetterolf SN, et al. Distribution and clinical impact of functional variants in 50,726 whole-exome sequences from the DiscovEHR study. Science (80- ). 2016;354(6319).\n",
    "\n",
    "We are going to find which of the pathogenic variants are present in the G76 genes.\n",
    "\n",
    "First, we read the gene list."
   ]
  },
  {
   "cell_type": "code",
   "execution_count": 19,
   "id": "a53a93b2-2136-4f29-95de-77194447e065",
   "metadata": {},
   "outputs": [],
   "source": [
    "g76_path = '/home/olavur/experiments/2020-11-13_fargen1_exome_analysis/data/resources/geisinger76/geisinger76.list'\n",
    "with open(g76_path) as fid:\n",
    "    g76_list = fid.readlines()\n",
    "g76_list = [l.strip() for l in g76_list]"
   ]
  },
  {
   "cell_type": "code",
   "execution_count": 20,
   "id": "f6b12727-78cf-4770-b24a-7cc8e8d78977",
   "metadata": {},
   "outputs": [],
   "source": [
    "# Make a global variable with the G76 genes.\n",
    "g76_mt = mt.annotate_globals(g76_list = g76_list)\n",
    "# Extract the gene names from the ANN annotations.\n",
    "g76_mt = g76_mt.annotate_rows(_gene = g76_mt.info.ANN.map(lambda s: s.split('\\|')[3]))\n",
    "# For each variant, check whether the genes in that location match any of the G76 genes.\n",
    "g76_mt = g76_mt.annotate_rows(gene_in_g76 = g76_mt._gene.map(lambda g: g76_mt.g76_list.contains(g)))"
   ]
  },
  {
   "cell_type": "markdown",
   "id": "d35edbc5-efa9-4556-9459-8ab4eaa33948",
   "metadata": {},
   "source": [
    "Count the number of pathogenic variants G76 variants."
   ]
  },
  {
   "cell_type": "code",
   "execution_count": 23,
   "id": "27857f95-0593-41ea-b719-65d446f2d798",
   "metadata": {},
   "outputs": [
    {
     "data": {
      "text/plain": [
       "0"
      ]
     },
     "execution_count": 23,
     "metadata": {},
     "output_type": "execute_result"
    }
   ],
   "source": [
    "g76_mt.aggregate_rows(hl.agg.count_where(g76_mt.gene_in_g76.contains(True)))"
   ]
  },
  {
   "cell_type": "markdown",
   "id": "93515b37-9f88-4cf4-a063-ca7615091e99",
   "metadata": {},
   "source": [
    "## Annotate with gnomAD frequency and RSID\n",
    "\n",
    "Read high quality exome sites data."
   ]
  },
  {
   "cell_type": "code",
   "execution_count": 69,
   "id": "55f71da7-8198-48ae-8038-8aab88a4bae2",
   "metadata": {},
   "outputs": [],
   "source": [
    "gnomad_ht = hl.read_table(BASE_DIR + '/data/resources/gnomAD/gnomad_exome_sites/gnomad.exomes.r2.1.1.sites.GRCh38.EXOME_HIGH_QUALITY.ht')"
   ]
  },
  {
   "cell_type": "markdown",
   "id": "e25721cf-9469-4dfb-83e2-5a4072af2265",
   "metadata": {},
   "source": [
    "Annotate the FarGen variants with allele frequency and the RSID from gnomAD."
   ]
  },
  {
   "cell_type": "code",
   "execution_count": 115,
   "id": "01287ecf-f373-4ff1-bfe5-816dba732fff",
   "metadata": {},
   "outputs": [],
   "source": [
    "freq_index_dict = gnomad_ht.freq_index_dict.collect()[0]\n",
    "mt = mt.annotate_rows(gnomad_AF = gnomad_ht.index(mt.row_key).freq.AF[freq_index_dict['gnomad']],\n",
    "                      gnomad_nfe_nwe_AF = gnomad_ht.index(mt.row_key).freq.AF[freq_index_dict['gnomad_nfe_nwe']],\n",
    "                      gnomad_rsid = gnomad_ht.index(mt.row_key).rsid,)"
   ]
  },
  {
   "cell_type": "markdown",
   "id": "c5689fc7-821e-4ffe-8935-cfe7ab0a0316",
   "metadata": {},
   "source": [
    "## Genes with pathogenic/likely pathogenic variants\n",
    "\n",
    "Below is a table with various information about the FarGen variants that were found to be either pathogenic or likely pathogenic in ClinVar."
   ]
  },
  {
   "cell_type": "code",
   "execution_count": 116,
   "id": "3f6b9a0e-3ef3-482f-a658-502cefb62011",
   "metadata": {},
   "outputs": [],
   "source": [
    "# Extract the variant effect and gene name from the ANN annotation.\n",
    "mt = mt.annotate_rows(_effect = mt.info.ANN.map(lambda s: s.split('\\|')[1]),\n",
    "                      _gene = mt.info.ANN.map(lambda s: s.split('\\|')[3]))\n",
    "mt = mt.annotate_rows(_gene = hl.set(mt._gene), _effect = hl.set(mt._effect))"
   ]
  },
  {
   "cell_type": "code",
   "execution_count": 122,
   "id": "2642d793-14a9-463b-9112-d299c4632cbd",
   "metadata": {},
   "outputs": [
    {
     "name": "stderr",
     "output_type": "stream",
     "text": [
      "[Stage 108:=====================================================> (36 + 1) / 37]"
     ]
    }
   ],
   "source": [
    "rows_ht = mt.rows()\n",
    "rows_ht = rows_ht.annotate(Chrom=rows_ht.locus.contig, Position=rows_ht.locus.position,\n",
    "                           Alleles=hl.str(', ').join(rows_ht.alleles),\n",
    "                           RSID=rows_ht.gnomad_rsid,\n",
    "                           Gene=hl.str(', ').join(rows_ht._gene),\n",
    "                           Effect=hl.str(', ').join(rows_ht._effect),\n",
    "                           FarGen_frequency=rows_ht.variant_qc.AF[1],\n",
    "                          gnomAD_NFE_NWE_frequency=rows_ht.gnomad_nfe_nwe_AF,\n",
    "                          gnomAD_frequency=rows_ht.gnomad_AF)\n",
    "rows_pd = rows_ht.to_pandas()\n",
    "#results_pd = rows_pd[['Chrom', 'Position', 'RSID', 'Alleles', 'Gene', 'Effect', 'Frequency', 'is_pathogenic', 'is_likely_pathogenic', 'info.ExcessHet', 'variant_qc.dp_stats.mean', 'variant_qc.dp_stats.stdev']]\n",
    "results_pd = rows_pd[['Chrom', 'Position', 'RSID', 'Alleles', 'Gene', 'FarGen_frequency', 'gnomAD_frequency', 'gnomAD_NFE_NWE_frequency']]"
   ]
  },
  {
   "cell_type": "code",
   "execution_count": 123,
   "id": "d95ccb40-47d6-4f8d-8399-b14443be4200",
   "metadata": {},
   "outputs": [],
   "source": [
    "pd.set_option('display.float_format', lambda x: '%0.4g' % x)"
   ]
  },
  {
   "cell_type": "code",
   "execution_count": 124,
   "id": "af0c7cdd-f875-4a76-83cf-2b8058462626",
   "metadata": {},
   "outputs": [
    {
     "data": {
      "text/html": [
       "<div>\n",
       "<style scoped>\n",
       "    .dataframe tbody tr th:only-of-type {\n",
       "        vertical-align: middle;\n",
       "    }\n",
       "\n",
       "    .dataframe tbody tr th {\n",
       "        vertical-align: top;\n",
       "    }\n",
       "\n",
       "    .dataframe thead th {\n",
       "        text-align: right;\n",
       "    }\n",
       "</style>\n",
       "<table border=\"1\" class=\"dataframe\">\n",
       "  <thead>\n",
       "    <tr style=\"text-align: right;\">\n",
       "      <th></th>\n",
       "      <th>Chrom</th>\n",
       "      <th>Position</th>\n",
       "      <th>RSID</th>\n",
       "      <th>Alleles</th>\n",
       "      <th>Gene</th>\n",
       "      <th>FarGen_frequency</th>\n",
       "      <th>gnomAD_frequency</th>\n",
       "      <th>gnomAD_NFE_NWE_frequency</th>\n",
       "    </tr>\n",
       "  </thead>\n",
       "  <tbody>\n",
       "    <tr>\n",
       "      <th>0</th>\n",
       "      <td>chr1</td>\n",
       "      <td>17270928</td>\n",
       "      <td>rs144080386</td>\n",
       "      <td>C, T</td>\n",
       "      <td>PADI3</td>\n",
       "      <td>0.003226</td>\n",
       "      <td>0.006775</td>\n",
       "      <td>0.009031</td>\n",
       "    </tr>\n",
       "    <tr>\n",
       "      <th>1</th>\n",
       "      <td>chr1</td>\n",
       "      <td>145919695</td>\n",
       "      <td>None</td>\n",
       "      <td>T, C</td>\n",
       "      <td>GNRHR2, PEX11B, RBM8A</td>\n",
       "      <td>0.008602</td>\n",
       "      <td>NaN</td>\n",
       "      <td>NaN</td>\n",
       "    </tr>\n",
       "    <tr>\n",
       "      <th>2</th>\n",
       "      <td>chr1</td>\n",
       "      <td>207761338</td>\n",
       "      <td>rs202071781</td>\n",
       "      <td>T, G</td>\n",
       "      <td>CD46</td>\n",
       "      <td>0.003226</td>\n",
       "      <td>1.591e-05</td>\n",
       "      <td>0</td>\n",
       "    </tr>\n",
       "    <tr>\n",
       "      <th>3</th>\n",
       "      <td>chr2</td>\n",
       "      <td>43918025</td>\n",
       "      <td>rs769022521</td>\n",
       "      <td>C, CT</td>\n",
       "      <td>LRPPRC</td>\n",
       "      <td>0.01892</td>\n",
       "      <td>4.105e-05</td>\n",
       "      <td>4.816e-05</td>\n",
       "    </tr>\n",
       "    <tr>\n",
       "      <th>4</th>\n",
       "      <td>chr3</td>\n",
       "      <td>165830741</td>\n",
       "      <td>rs1799807</td>\n",
       "      <td>T, C</td>\n",
       "      <td>BCHE</td>\n",
       "      <td>0.03441</td>\n",
       "      <td>0.01213</td>\n",
       "      <td>0.01977</td>\n",
       "    </tr>\n",
       "    <tr>\n",
       "      <th>5</th>\n",
       "      <td>chr3</td>\n",
       "      <td>183037285</td>\n",
       "      <td>rs727504002</td>\n",
       "      <td>GC, G</td>\n",
       "      <td>MCCC1</td>\n",
       "      <td>0.02439</td>\n",
       "      <td>1.193e-05</td>\n",
       "      <td>0</td>\n",
       "    </tr>\n",
       "    <tr>\n",
       "      <th>6</th>\n",
       "      <td>chr5</td>\n",
       "      <td>41149933</td>\n",
       "      <td>rs76202909</td>\n",
       "      <td>A, G</td>\n",
       "      <td>C6</td>\n",
       "      <td>0.005388</td>\n",
       "      <td>0.002193</td>\n",
       "      <td>0.004144</td>\n",
       "    </tr>\n",
       "    <tr>\n",
       "      <th>7</th>\n",
       "      <td>chr5</td>\n",
       "      <td>132370067</td>\n",
       "      <td>rs72552725</td>\n",
       "      <td>A, G</td>\n",
       "      <td>LOC553103, MIR3936, SLC22A5</td>\n",
       "      <td>0.04516</td>\n",
       "      <td>2.413e-05</td>\n",
       "      <td>0</td>\n",
       "    </tr>\n",
       "    <tr>\n",
       "      <th>8</th>\n",
       "      <td>chr5</td>\n",
       "      <td>150848436</td>\n",
       "      <td>rs10065172</td>\n",
       "      <td>C, T</td>\n",
       "      <td>IRGM</td>\n",
       "      <td>0.07004</td>\n",
       "      <td>0.165</td>\n",
       "      <td>0.08376</td>\n",
       "    </tr>\n",
       "    <tr>\n",
       "      <th>9</th>\n",
       "      <td>chr6</td>\n",
       "      <td>35457937</td>\n",
       "      <td>rs749898067</td>\n",
       "      <td>G, GC</td>\n",
       "      <td>FANCE</td>\n",
       "      <td>0.05111</td>\n",
       "      <td>8.759e-05</td>\n",
       "      <td>0.0001898</td>\n",
       "    </tr>\n",
       "    <tr>\n",
       "      <th>10</th>\n",
       "      <td>chr7</td>\n",
       "      <td>2225526</td>\n",
       "      <td>rs121908982</td>\n",
       "      <td>G, A</td>\n",
       "      <td>MAD1L1</td>\n",
       "      <td>0.004301</td>\n",
       "      <td>0.003079</td>\n",
       "      <td>0.005526</td>\n",
       "    </tr>\n",
       "    <tr>\n",
       "      <th>11</th>\n",
       "      <td>chr7</td>\n",
       "      <td>117559590</td>\n",
       "      <td>rs1801178</td>\n",
       "      <td>ATCT, A</td>\n",
       "      <td>CFTR</td>\n",
       "      <td>0.02802</td>\n",
       "      <td>0.007068</td>\n",
       "      <td>0.01568</td>\n",
       "    </tr>\n",
       "    <tr>\n",
       "      <th>12</th>\n",
       "      <td>chr9</td>\n",
       "      <td>37783993</td>\n",
       "      <td>rs141138948</td>\n",
       "      <td>T, G</td>\n",
       "      <td>EXOSC3</td>\n",
       "      <td>0.002155</td>\n",
       "      <td>0.0004058</td>\n",
       "      <td>0.0009483</td>\n",
       "    </tr>\n",
       "    <tr>\n",
       "      <th>13</th>\n",
       "      <td>chr10</td>\n",
       "      <td>52771482</td>\n",
       "      <td>rs5030737</td>\n",
       "      <td>G, A</td>\n",
       "      <td>MBL2</td>\n",
       "      <td>0.05412</td>\n",
       "      <td>0.05557</td>\n",
       "      <td>0.07138</td>\n",
       "    </tr>\n",
       "    <tr>\n",
       "      <th>14</th>\n",
       "      <td>chr11</td>\n",
       "      <td>64730127</td>\n",
       "      <td>rs774996406</td>\n",
       "      <td>G, GC</td>\n",
       "      <td>RASGRP2</td>\n",
       "      <td>0.1286</td>\n",
       "      <td>3.844e-05</td>\n",
       "      <td>2.713e-05</td>\n",
       "    </tr>\n",
       "    <tr>\n",
       "      <th>15</th>\n",
       "      <td>chr13</td>\n",
       "      <td>47988540</td>\n",
       "      <td>rs113994161</td>\n",
       "      <td>C, T</td>\n",
       "      <td>SUCLA2</td>\n",
       "      <td>0.03448</td>\n",
       "      <td>1.194e-05</td>\n",
       "      <td>0</td>\n",
       "    </tr>\n",
       "    <tr>\n",
       "      <th>16</th>\n",
       "      <td>chr14</td>\n",
       "      <td>58432438</td>\n",
       "      <td>rs534542684</td>\n",
       "      <td>AG, A</td>\n",
       "      <td>KIAA0586, TIMM9</td>\n",
       "      <td>0.004301</td>\n",
       "      <td>0.00305</td>\n",
       "      <td>0.00414</td>\n",
       "    </tr>\n",
       "    <tr>\n",
       "      <th>17</th>\n",
       "      <td>chr14</td>\n",
       "      <td>94378547</td>\n",
       "      <td>rs121912712</td>\n",
       "      <td>C, CG</td>\n",
       "      <td>SERPINA1</td>\n",
       "      <td>0.01346</td>\n",
       "      <td>2.388e-05</td>\n",
       "      <td>7.112e-05</td>\n",
       "    </tr>\n",
       "    <tr>\n",
       "      <th>18</th>\n",
       "      <td>chr16</td>\n",
       "      <td>27344882</td>\n",
       "      <td>rs1805010</td>\n",
       "      <td>A, G</td>\n",
       "      <td>IL4R</td>\n",
       "      <td>0.3787</td>\n",
       "      <td>0.4478</td>\n",
       "      <td>0.4578</td>\n",
       "    </tr>\n",
       "    <tr>\n",
       "      <th>19</th>\n",
       "      <td>chr16</td>\n",
       "      <td>89154148</td>\n",
       "      <td>rs141090143</td>\n",
       "      <td>C, T</td>\n",
       "      <td>ACSF3</td>\n",
       "      <td>0.01844</td>\n",
       "      <td>0.0026</td>\n",
       "      <td>0.005777</td>\n",
       "    </tr>\n",
       "    <tr>\n",
       "      <th>20</th>\n",
       "      <td>chr16</td>\n",
       "      <td>89531962</td>\n",
       "      <td>rs760818649</td>\n",
       "      <td>G, GC</td>\n",
       "      <td>SPG7</td>\n",
       "      <td>0.05286</td>\n",
       "      <td>0.0001282</td>\n",
       "      <td>0.0004079</td>\n",
       "    </tr>\n",
       "    <tr>\n",
       "      <th>21</th>\n",
       "      <td>chr17</td>\n",
       "      <td>50188631</td>\n",
       "      <td>rs72653177</td>\n",
       "      <td>G, A</td>\n",
       "      <td>COL1A1</td>\n",
       "      <td>0.02056</td>\n",
       "      <td>5.987e-05</td>\n",
       "      <td>0</td>\n",
       "    </tr>\n",
       "  </tbody>\n",
       "</table>\n",
       "</div>"
      ],
      "text/plain": [
       "    Chrom   Position         RSID  Alleles                         Gene  \\\n",
       "0    chr1   17270928  rs144080386     C, T                        PADI3   \n",
       "1    chr1  145919695         None     T, C        GNRHR2, PEX11B, RBM8A   \n",
       "2    chr1  207761338  rs202071781     T, G                         CD46   \n",
       "3    chr2   43918025  rs769022521    C, CT                       LRPPRC   \n",
       "4    chr3  165830741    rs1799807     T, C                         BCHE   \n",
       "5    chr3  183037285  rs727504002    GC, G                        MCCC1   \n",
       "6    chr5   41149933   rs76202909     A, G                           C6   \n",
       "7    chr5  132370067   rs72552725     A, G  LOC553103, MIR3936, SLC22A5   \n",
       "8    chr5  150848436   rs10065172     C, T                         IRGM   \n",
       "9    chr6   35457937  rs749898067    G, GC                        FANCE   \n",
       "10   chr7    2225526  rs121908982     G, A                       MAD1L1   \n",
       "11   chr7  117559590    rs1801178  ATCT, A                         CFTR   \n",
       "12   chr9   37783993  rs141138948     T, G                       EXOSC3   \n",
       "13  chr10   52771482    rs5030737     G, A                         MBL2   \n",
       "14  chr11   64730127  rs774996406    G, GC                      RASGRP2   \n",
       "15  chr13   47988540  rs113994161     C, T                       SUCLA2   \n",
       "16  chr14   58432438  rs534542684    AG, A              KIAA0586, TIMM9   \n",
       "17  chr14   94378547  rs121912712    C, CG                     SERPINA1   \n",
       "18  chr16   27344882    rs1805010     A, G                         IL4R   \n",
       "19  chr16   89154148  rs141090143     C, T                        ACSF3   \n",
       "20  chr16   89531962  rs760818649    G, GC                         SPG7   \n",
       "21  chr17   50188631   rs72653177     G, A                       COL1A1   \n",
       "\n",
       "    FarGen_frequency  gnomAD_frequency  gnomAD_NFE_NWE_frequency  \n",
       "0           0.003226          0.006775                  0.009031  \n",
       "1           0.008602               NaN                       NaN  \n",
       "2           0.003226         1.591e-05                         0  \n",
       "3            0.01892         4.105e-05                 4.816e-05  \n",
       "4            0.03441           0.01213                   0.01977  \n",
       "5            0.02439         1.193e-05                         0  \n",
       "6           0.005388          0.002193                  0.004144  \n",
       "7            0.04516         2.413e-05                         0  \n",
       "8            0.07004             0.165                   0.08376  \n",
       "9            0.05111         8.759e-05                 0.0001898  \n",
       "10          0.004301          0.003079                  0.005526  \n",
       "11           0.02802          0.007068                   0.01568  \n",
       "12          0.002155         0.0004058                 0.0009483  \n",
       "13           0.05412           0.05557                   0.07138  \n",
       "14            0.1286         3.844e-05                 2.713e-05  \n",
       "15           0.03448         1.194e-05                         0  \n",
       "16          0.004301           0.00305                   0.00414  \n",
       "17           0.01346         2.388e-05                 7.112e-05  \n",
       "18            0.3787            0.4478                    0.4578  \n",
       "19           0.01844            0.0026                  0.005777  \n",
       "20           0.05286         0.0001282                 0.0004079  \n",
       "21           0.02056         5.987e-05                         0  "
      ]
     },
     "execution_count": 124,
     "metadata": {},
     "output_type": "execute_result"
    }
   ],
   "source": [
    "results_pd"
   ]
  },
  {
   "cell_type": "code",
   "execution_count": 125,
   "id": "d1d3532c-65f5-4d14-b83b-a0b7ce0eb1cf",
   "metadata": {},
   "outputs": [],
   "source": [
    "results_pd.to_csv(BASE_DIR + '/data/results/pathogenic_clinvar_variants.csv')"
   ]
  },
  {
   "cell_type": "code",
   "execution_count": null,
   "id": "1c5c6fe5-5214-4b9f-b0ad-4a3d1c8a7991",
   "metadata": {},
   "outputs": [],
   "source": []
  }
 ],
 "metadata": {
  "kernelspec": {
   "display_name": "Python [conda env:fargen-1-exome]",
   "language": "python",
   "name": "conda-env-fargen-1-exome-py"
  },
  "language_info": {
   "codemirror_mode": {
    "name": "ipython",
    "version": 3
   },
   "file_extension": ".py",
   "mimetype": "text/x-python",
   "name": "python",
   "nbconvert_exporter": "python",
   "pygments_lexer": "ipython3",
   "version": "3.7.12"
  }
 },
 "nbformat": 4,
 "nbformat_minor": 5
}
