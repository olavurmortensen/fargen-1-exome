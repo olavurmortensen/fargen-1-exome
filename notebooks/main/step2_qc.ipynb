{
 "cells": [
  {
   "cell_type": "markdown",
   "id": "6b46d6e6-3060-4ed7-8b35-6a09fd271204",
   "metadata": {},
   "source": [
    "# Quality control"
   ]
  },
  {
   "cell_type": "code",
   "execution_count": 1,
   "id": "million-damages",
   "metadata": {},
   "outputs": [
    {
     "name": "stdout",
     "output_type": "stream",
     "text": [
      "2021-10-27 12:05:27 WARN  NativeCodeLoader:62 - Unable to load native-hadoop library for your platform... using builtin-java classes where applicable\n"
     ]
    },
    {
     "name": "stderr",
     "output_type": "stream",
     "text": [
      "Setting default log level to \"WARN\".\n",
      "To adjust logging level use sc.setLogLevel(newLevel). For SparkR, use setLogLevel(newLevel).\n"
     ]
    },
    {
     "name": "stdout",
     "output_type": "stream",
     "text": [
      "2021-10-27 12:05:28 WARN  Hail:37 - This Hail JAR was compiled for Spark 2.4.5, running with Spark 2.4.1.\n",
      "  Compatibility is not guaranteed.\n",
      "2021-10-27 12:05:28 WARN  Utils:66 - Service 'SparkUI' could not bind on port 4040. Attempting port 4041.\n",
      "2021-10-27 12:05:28 WARN  Utils:66 - Service 'SparkUI' could not bind on port 4041. Attempting port 4042.\n"
     ]
    },
    {
     "name": "stderr",
     "output_type": "stream",
     "text": [
      "Running on Apache Spark version 2.4.1\n",
      "SparkUI available at http://hms-beagle-6676655f87-9xllv:4042\n",
      "Welcome to\n",
      "     __  __     <>__\n",
      "    / /_/ /__  __/ /\n",
      "   / __  / _ `/ / /\n",
      "  /_/ /_/\\_,_/_/_/   version 0.2.61-3c86d3ba497a\n",
      "LOGGING: writing to /home/olavur/experiments/2020-11-13_fargen1_exome_analysis/fargen-1-exome/notebooks/main/hail-20211027-1205-0.2.61-3c86d3ba497a.log\n"
     ]
    }
   ],
   "source": [
    "import hail as hl\n",
    "hl.init(spark_conf={'spark.driver.memory': '10g'}, tmp_dir='/home/olavur/tmp')"
   ]
  },
  {
   "cell_type": "code",
   "execution_count": 2,
   "id": "analyzed-warrant",
   "metadata": {},
   "outputs": [
    {
     "data": {
      "text/html": [
       "\n",
       "    <div class=\"bk-root\">\n",
       "        <a href=\"https://bokeh.pydata.org\" target=\"_blank\" class=\"bk-logo bk-logo-small bk-logo-notebook\"></a>\n",
       "        <span id=\"1001\">Loading BokehJS ...</span>\n",
       "    </div>"
      ]
     },
     "metadata": {},
     "output_type": "display_data"
    },
    {
     "data": {
      "application/javascript": [
       "\n",
       "(function(root) {\n",
       "  function now() {\n",
       "    return new Date();\n",
       "  }\n",
       "\n",
       "  var force = true;\n",
       "\n",
       "  if (typeof root._bokeh_onload_callbacks === \"undefined\" || force === true) {\n",
       "    root._bokeh_onload_callbacks = [];\n",
       "    root._bokeh_is_loading = undefined;\n",
       "  }\n",
       "\n",
       "  var JS_MIME_TYPE = 'application/javascript';\n",
       "  var HTML_MIME_TYPE = 'text/html';\n",
       "  var EXEC_MIME_TYPE = 'application/vnd.bokehjs_exec.v0+json';\n",
       "  var CLASS_NAME = 'output_bokeh rendered_html';\n",
       "\n",
       "  /**\n",
       "   * Render data to the DOM node\n",
       "   */\n",
       "  function render(props, node) {\n",
       "    var script = document.createElement(\"script\");\n",
       "    node.appendChild(script);\n",
       "  }\n",
       "\n",
       "  /**\n",
       "   * Handle when an output is cleared or removed\n",
       "   */\n",
       "  function handleClearOutput(event, handle) {\n",
       "    var cell = handle.cell;\n",
       "\n",
       "    var id = cell.output_area._bokeh_element_id;\n",
       "    var server_id = cell.output_area._bokeh_server_id;\n",
       "    // Clean up Bokeh references\n",
       "    if (id != null && id in Bokeh.index) {\n",
       "      Bokeh.index[id].model.document.clear();\n",
       "      delete Bokeh.index[id];\n",
       "    }\n",
       "\n",
       "    if (server_id !== undefined) {\n",
       "      // Clean up Bokeh references\n",
       "      var cmd = \"from bokeh.io.state import curstate; print(curstate().uuid_to_server['\" + server_id + \"'].get_sessions()[0].document.roots[0]._id)\";\n",
       "      cell.notebook.kernel.execute(cmd, {\n",
       "        iopub: {\n",
       "          output: function(msg) {\n",
       "            var id = msg.content.text.trim();\n",
       "            if (id in Bokeh.index) {\n",
       "              Bokeh.index[id].model.document.clear();\n",
       "              delete Bokeh.index[id];\n",
       "            }\n",
       "          }\n",
       "        }\n",
       "      });\n",
       "      // Destroy server and session\n",
       "      var cmd = \"import bokeh.io.notebook as ion; ion.destroy_server('\" + server_id + \"')\";\n",
       "      cell.notebook.kernel.execute(cmd);\n",
       "    }\n",
       "  }\n",
       "\n",
       "  /**\n",
       "   * Handle when a new output is added\n",
       "   */\n",
       "  function handleAddOutput(event, handle) {\n",
       "    var output_area = handle.output_area;\n",
       "    var output = handle.output;\n",
       "\n",
       "    // limit handleAddOutput to display_data with EXEC_MIME_TYPE content only\n",
       "    if ((output.output_type != \"display_data\") || (!output.data.hasOwnProperty(EXEC_MIME_TYPE))) {\n",
       "      return\n",
       "    }\n",
       "\n",
       "    var toinsert = output_area.element.find(\".\" + CLASS_NAME.split(' ')[0]);\n",
       "\n",
       "    if (output.metadata[EXEC_MIME_TYPE][\"id\"] !== undefined) {\n",
       "      toinsert[toinsert.length - 1].firstChild.textContent = output.data[JS_MIME_TYPE];\n",
       "      // store reference to embed id on output_area\n",
       "      output_area._bokeh_element_id = output.metadata[EXEC_MIME_TYPE][\"id\"];\n",
       "    }\n",
       "    if (output.metadata[EXEC_MIME_TYPE][\"server_id\"] !== undefined) {\n",
       "      var bk_div = document.createElement(\"div\");\n",
       "      bk_div.innerHTML = output.data[HTML_MIME_TYPE];\n",
       "      var script_attrs = bk_div.children[0].attributes;\n",
       "      for (var i = 0; i < script_attrs.length; i++) {\n",
       "        toinsert[toinsert.length - 1].firstChild.setAttribute(script_attrs[i].name, script_attrs[i].value);\n",
       "      }\n",
       "      // store reference to server id on output_area\n",
       "      output_area._bokeh_server_id = output.metadata[EXEC_MIME_TYPE][\"server_id\"];\n",
       "    }\n",
       "  }\n",
       "\n",
       "  function register_renderer(events, OutputArea) {\n",
       "\n",
       "    function append_mime(data, metadata, element) {\n",
       "      // create a DOM node to render to\n",
       "      var toinsert = this.create_output_subarea(\n",
       "        metadata,\n",
       "        CLASS_NAME,\n",
       "        EXEC_MIME_TYPE\n",
       "      );\n",
       "      this.keyboard_manager.register_events(toinsert);\n",
       "      // Render to node\n",
       "      var props = {data: data, metadata: metadata[EXEC_MIME_TYPE]};\n",
       "      render(props, toinsert[toinsert.length - 1]);\n",
       "      element.append(toinsert);\n",
       "      return toinsert\n",
       "    }\n",
       "\n",
       "    /* Handle when an output is cleared or removed */\n",
       "    events.on('clear_output.CodeCell', handleClearOutput);\n",
       "    events.on('delete.Cell', handleClearOutput);\n",
       "\n",
       "    /* Handle when a new output is added */\n",
       "    events.on('output_added.OutputArea', handleAddOutput);\n",
       "\n",
       "    /**\n",
       "     * Register the mime type and append_mime function with output_area\n",
       "     */\n",
       "    OutputArea.prototype.register_mime_type(EXEC_MIME_TYPE, append_mime, {\n",
       "      /* Is output safe? */\n",
       "      safe: true,\n",
       "      /* Index of renderer in `output_area.display_order` */\n",
       "      index: 0\n",
       "    });\n",
       "  }\n",
       "\n",
       "  // register the mime type if in Jupyter Notebook environment and previously unregistered\n",
       "  if (root.Jupyter !== undefined) {\n",
       "    var events = require('base/js/events');\n",
       "    var OutputArea = require('notebook/js/outputarea').OutputArea;\n",
       "\n",
       "    if (OutputArea.prototype.mime_types().indexOf(EXEC_MIME_TYPE) == -1) {\n",
       "      register_renderer(events, OutputArea);\n",
       "    }\n",
       "  }\n",
       "\n",
       "  \n",
       "  if (typeof (root._bokeh_timeout) === \"undefined\" || force === true) {\n",
       "    root._bokeh_timeout = Date.now() + 5000;\n",
       "    root._bokeh_failed_load = false;\n",
       "  }\n",
       "\n",
       "  var NB_LOAD_WARNING = {'data': {'text/html':\n",
       "     \"<div style='background-color: #fdd'>\\n\"+\n",
       "     \"<p>\\n\"+\n",
       "     \"BokehJS does not appear to have successfully loaded. If loading BokehJS from CDN, this \\n\"+\n",
       "     \"may be due to a slow or bad network connection. Possible fixes:\\n\"+\n",
       "     \"</p>\\n\"+\n",
       "     \"<ul>\\n\"+\n",
       "     \"<li>re-rerun `output_notebook()` to attempt to load from CDN again, or</li>\\n\"+\n",
       "     \"<li>use INLINE resources instead, as so:</li>\\n\"+\n",
       "     \"</ul>\\n\"+\n",
       "     \"<code>\\n\"+\n",
       "     \"from bokeh.resources import INLINE\\n\"+\n",
       "     \"output_notebook(resources=INLINE)\\n\"+\n",
       "     \"</code>\\n\"+\n",
       "     \"</div>\"}};\n",
       "\n",
       "  function display_loaded() {\n",
       "    var el = document.getElementById(\"1001\");\n",
       "    if (el != null) {\n",
       "      el.textContent = \"BokehJS is loading...\";\n",
       "    }\n",
       "    if (root.Bokeh !== undefined) {\n",
       "      if (el != null) {\n",
       "        el.textContent = \"BokehJS \" + root.Bokeh.version + \" successfully loaded.\";\n",
       "      }\n",
       "    } else if (Date.now() < root._bokeh_timeout) {\n",
       "      setTimeout(display_loaded, 100)\n",
       "    }\n",
       "  }\n",
       "\n",
       "\n",
       "  function run_callbacks() {\n",
       "    try {\n",
       "      root._bokeh_onload_callbacks.forEach(function(callback) {\n",
       "        if (callback != null)\n",
       "          callback();\n",
       "      });\n",
       "    } finally {\n",
       "      delete root._bokeh_onload_callbacks\n",
       "    }\n",
       "    console.debug(\"Bokeh: all callbacks have finished\");\n",
       "  }\n",
       "\n",
       "  function load_libs(css_urls, js_urls, callback) {\n",
       "    if (css_urls == null) css_urls = [];\n",
       "    if (js_urls == null) js_urls = [];\n",
       "\n",
       "    root._bokeh_onload_callbacks.push(callback);\n",
       "    if (root._bokeh_is_loading > 0) {\n",
       "      console.debug(\"Bokeh: BokehJS is being loaded, scheduling callback at\", now());\n",
       "      return null;\n",
       "    }\n",
       "    if (js_urls == null || js_urls.length === 0) {\n",
       "      run_callbacks();\n",
       "      return null;\n",
       "    }\n",
       "    console.debug(\"Bokeh: BokehJS not loaded, scheduling load and callback at\", now());\n",
       "    root._bokeh_is_loading = css_urls.length + js_urls.length;\n",
       "\n",
       "    function on_load() {\n",
       "      root._bokeh_is_loading--;\n",
       "      if (root._bokeh_is_loading === 0) {\n",
       "        console.debug(\"Bokeh: all BokehJS libraries/stylesheets loaded\");\n",
       "        run_callbacks()\n",
       "      }\n",
       "    }\n",
       "\n",
       "    function on_error() {\n",
       "      console.error(\"failed to load \" + url);\n",
       "    }\n",
       "\n",
       "    for (var i = 0; i < css_urls.length; i++) {\n",
       "      var url = css_urls[i];\n",
       "      const element = document.createElement(\"link\");\n",
       "      element.onload = on_load;\n",
       "      element.onerror = on_error;\n",
       "      element.rel = \"stylesheet\";\n",
       "      element.type = \"text/css\";\n",
       "      element.href = url;\n",
       "      console.debug(\"Bokeh: injecting link tag for BokehJS stylesheet: \", url);\n",
       "      document.body.appendChild(element);\n",
       "    }\n",
       "\n",
       "    for (var i = 0; i < js_urls.length; i++) {\n",
       "      var url = js_urls[i];\n",
       "      var element = document.createElement('script');\n",
       "      element.onload = on_load;\n",
       "      element.onerror = on_error;\n",
       "      element.async = false;\n",
       "      element.src = url;\n",
       "      console.debug(\"Bokeh: injecting script tag for BokehJS library: \", url);\n",
       "      document.head.appendChild(element);\n",
       "    }\n",
       "  };var element = document.getElementById(\"1001\");\n",
       "  if (element == null) {\n",
       "    console.error(\"Bokeh: ERROR: autoload.js configured with elementid '1001' but no matching script tag was found. \")\n",
       "    return false;\n",
       "  }\n",
       "\n",
       "  function inject_raw_css(css) {\n",
       "    const element = document.createElement(\"style\");\n",
       "    element.appendChild(document.createTextNode(css));\n",
       "    document.body.appendChild(element);\n",
       "  }\n",
       "\n",
       "  var js_urls = [\"https://cdn.pydata.org/bokeh/release/bokeh-1.2.0.min.js\", \"https://cdn.pydata.org/bokeh/release/bokeh-widgets-1.2.0.min.js\", \"https://cdn.pydata.org/bokeh/release/bokeh-tables-1.2.0.min.js\", \"https://cdn.pydata.org/bokeh/release/bokeh-gl-1.2.0.min.js\"];\n",
       "  var css_urls = [\"https://cdn.pydata.org/bokeh/release/bokeh-1.2.0.min.css\", \"https://cdn.pydata.org/bokeh/release/bokeh-widgets-1.2.0.min.css\", \"https://cdn.pydata.org/bokeh/release/bokeh-tables-1.2.0.min.css\"];\n",
       "\n",
       "  var inline_js = [\n",
       "    function(Bokeh) {\n",
       "      Bokeh.set_log_level(\"info\");\n",
       "    },\n",
       "    \n",
       "    function(Bokeh) {\n",
       "      \n",
       "    },\n",
       "    function(Bokeh) {} // ensure no trailing comma for IE\n",
       "  ];\n",
       "\n",
       "  function run_inline_js() {\n",
       "    \n",
       "    if ((root.Bokeh !== undefined) || (force === true)) {\n",
       "      for (var i = 0; i < inline_js.length; i++) {\n",
       "        inline_js[i].call(root, root.Bokeh);\n",
       "      }if (force === true) {\n",
       "        display_loaded();\n",
       "      }} else if (Date.now() < root._bokeh_timeout) {\n",
       "      setTimeout(run_inline_js, 100);\n",
       "    } else if (!root._bokeh_failed_load) {\n",
       "      console.log(\"Bokeh: BokehJS failed to load within specified timeout.\");\n",
       "      root._bokeh_failed_load = true;\n",
       "    } else if (force !== true) {\n",
       "      var cell = $(document.getElementById(\"1001\")).parents('.cell').data().cell;\n",
       "      cell.output_area.append_execute_result(NB_LOAD_WARNING)\n",
       "    }\n",
       "\n",
       "  }\n",
       "\n",
       "  if (root._bokeh_is_loading === 0) {\n",
       "    console.debug(\"Bokeh: BokehJS loaded, going straight to plotting\");\n",
       "    run_inline_js();\n",
       "  } else {\n",
       "    load_libs(css_urls, js_urls, function() {\n",
       "      console.debug(\"Bokeh: BokehJS plotting callback run at\", now());\n",
       "      run_inline_js();\n",
       "    });\n",
       "  }\n",
       "}(window));"
      ],
      "application/vnd.bokehjs_load.v0+json": "\n(function(root) {\n  function now() {\n    return new Date();\n  }\n\n  var force = true;\n\n  if (typeof root._bokeh_onload_callbacks === \"undefined\" || force === true) {\n    root._bokeh_onload_callbacks = [];\n    root._bokeh_is_loading = undefined;\n  }\n\n  \n\n  \n  if (typeof (root._bokeh_timeout) === \"undefined\" || force === true) {\n    root._bokeh_timeout = Date.now() + 5000;\n    root._bokeh_failed_load = false;\n  }\n\n  var NB_LOAD_WARNING = {'data': {'text/html':\n     \"<div style='background-color: #fdd'>\\n\"+\n     \"<p>\\n\"+\n     \"BokehJS does not appear to have successfully loaded. If loading BokehJS from CDN, this \\n\"+\n     \"may be due to a slow or bad network connection. Possible fixes:\\n\"+\n     \"</p>\\n\"+\n     \"<ul>\\n\"+\n     \"<li>re-rerun `output_notebook()` to attempt to load from CDN again, or</li>\\n\"+\n     \"<li>use INLINE resources instead, as so:</li>\\n\"+\n     \"</ul>\\n\"+\n     \"<code>\\n\"+\n     \"from bokeh.resources import INLINE\\n\"+\n     \"output_notebook(resources=INLINE)\\n\"+\n     \"</code>\\n\"+\n     \"</div>\"}};\n\n  function display_loaded() {\n    var el = document.getElementById(\"1001\");\n    if (el != null) {\n      el.textContent = \"BokehJS is loading...\";\n    }\n    if (root.Bokeh !== undefined) {\n      if (el != null) {\n        el.textContent = \"BokehJS \" + root.Bokeh.version + \" successfully loaded.\";\n      }\n    } else if (Date.now() < root._bokeh_timeout) {\n      setTimeout(display_loaded, 100)\n    }\n  }\n\n\n  function run_callbacks() {\n    try {\n      root._bokeh_onload_callbacks.forEach(function(callback) {\n        if (callback != null)\n          callback();\n      });\n    } finally {\n      delete root._bokeh_onload_callbacks\n    }\n    console.debug(\"Bokeh: all callbacks have finished\");\n  }\n\n  function load_libs(css_urls, js_urls, callback) {\n    if (css_urls == null) css_urls = [];\n    if (js_urls == null) js_urls = [];\n\n    root._bokeh_onload_callbacks.push(callback);\n    if (root._bokeh_is_loading > 0) {\n      console.debug(\"Bokeh: BokehJS is being loaded, scheduling callback at\", now());\n      return null;\n    }\n    if (js_urls == null || js_urls.length === 0) {\n      run_callbacks();\n      return null;\n    }\n    console.debug(\"Bokeh: BokehJS not loaded, scheduling load and callback at\", now());\n    root._bokeh_is_loading = css_urls.length + js_urls.length;\n\n    function on_load() {\n      root._bokeh_is_loading--;\n      if (root._bokeh_is_loading === 0) {\n        console.debug(\"Bokeh: all BokehJS libraries/stylesheets loaded\");\n        run_callbacks()\n      }\n    }\n\n    function on_error() {\n      console.error(\"failed to load \" + url);\n    }\n\n    for (var i = 0; i < css_urls.length; i++) {\n      var url = css_urls[i];\n      const element = document.createElement(\"link\");\n      element.onload = on_load;\n      element.onerror = on_error;\n      element.rel = \"stylesheet\";\n      element.type = \"text/css\";\n      element.href = url;\n      console.debug(\"Bokeh: injecting link tag for BokehJS stylesheet: \", url);\n      document.body.appendChild(element);\n    }\n\n    for (var i = 0; i < js_urls.length; i++) {\n      var url = js_urls[i];\n      var element = document.createElement('script');\n      element.onload = on_load;\n      element.onerror = on_error;\n      element.async = false;\n      element.src = url;\n      console.debug(\"Bokeh: injecting script tag for BokehJS library: \", url);\n      document.head.appendChild(element);\n    }\n  };var element = document.getElementById(\"1001\");\n  if (element == null) {\n    console.error(\"Bokeh: ERROR: autoload.js configured with elementid '1001' but no matching script tag was found. \")\n    return false;\n  }\n\n  function inject_raw_css(css) {\n    const element = document.createElement(\"style\");\n    element.appendChild(document.createTextNode(css));\n    document.body.appendChild(element);\n  }\n\n  var js_urls = [\"https://cdn.pydata.org/bokeh/release/bokeh-1.2.0.min.js\", \"https://cdn.pydata.org/bokeh/release/bokeh-widgets-1.2.0.min.js\", \"https://cdn.pydata.org/bokeh/release/bokeh-tables-1.2.0.min.js\", \"https://cdn.pydata.org/bokeh/release/bokeh-gl-1.2.0.min.js\"];\n  var css_urls = [\"https://cdn.pydata.org/bokeh/release/bokeh-1.2.0.min.css\", \"https://cdn.pydata.org/bokeh/release/bokeh-widgets-1.2.0.min.css\", \"https://cdn.pydata.org/bokeh/release/bokeh-tables-1.2.0.min.css\"];\n\n  var inline_js = [\n    function(Bokeh) {\n      Bokeh.set_log_level(\"info\");\n    },\n    \n    function(Bokeh) {\n      \n    },\n    function(Bokeh) {} // ensure no trailing comma for IE\n  ];\n\n  function run_inline_js() {\n    \n    if ((root.Bokeh !== undefined) || (force === true)) {\n      for (var i = 0; i < inline_js.length; i++) {\n        inline_js[i].call(root, root.Bokeh);\n      }if (force === true) {\n        display_loaded();\n      }} else if (Date.now() < root._bokeh_timeout) {\n      setTimeout(run_inline_js, 100);\n    } else if (!root._bokeh_failed_load) {\n      console.log(\"Bokeh: BokehJS failed to load within specified timeout.\");\n      root._bokeh_failed_load = true;\n    } else if (force !== true) {\n      var cell = $(document.getElementById(\"1001\")).parents('.cell').data().cell;\n      cell.output_area.append_execute_result(NB_LOAD_WARNING)\n    }\n\n  }\n\n  if (root._bokeh_is_loading === 0) {\n    console.debug(\"Bokeh: BokehJS loaded, going straight to plotting\");\n    run_inline_js();\n  } else {\n    load_libs(css_urls, js_urls, function() {\n      console.debug(\"Bokeh: BokehJS plotting callback run at\", now());\n      run_inline_js();\n    });\n  }\n}(window));"
     },
     "metadata": {},
     "output_type": "display_data"
    }
   ],
   "source": [
    "from bokeh.io import show, output_notebook\n",
    "from bokeh.layouts import gridplot\n",
    "from bokeh.models.scales import LogScale\n",
    "output_notebook()"
   ]
  },
  {
   "cell_type": "code",
   "execution_count": 3,
   "id": "a90371f0-f6d2-4b83-a3ef-82b3d4e3256e",
   "metadata": {},
   "outputs": [],
   "source": [
    "import pandas as pd"
   ]
  },
  {
   "cell_type": "markdown",
   "id": "canadian-india",
   "metadata": {},
   "source": [
    "Load variant data."
   ]
  },
  {
   "cell_type": "code",
   "execution_count": 4,
   "id": "5c5a690f-c65f-42b9-b6b7-c541b50c5635",
   "metadata": {},
   "outputs": [],
   "source": [
    "BASE_DIR = '/home/olavur/experiments/2020-11-13_fargen1_exome_analysis'\n",
    "mt = hl.read_matrix_table(BASE_DIR + '/data/mt/variants.mt')"
   ]
  },
  {
   "cell_type": "code",
   "execution_count": 5,
   "id": "e3f04d99-9bd4-4205-935b-abb721d3bff0",
   "metadata": {},
   "outputs": [
    {
     "name": "stdout",
     "output_type": "stream",
     "text": [
      "Number of variants: 911929\n",
      "Number of samples: 473\n"
     ]
    }
   ],
   "source": [
    "n_variants, n_samples = mt.count()\n",
    "print('Number of variants: ' + str(n_variants))\n",
    "print('Number of samples: ' + str(n_samples))"
   ]
  },
  {
   "cell_type": "markdown",
   "id": "39eaca31-56a7-45bf-8026-cbb790c78bc1",
   "metadata": {},
   "source": [
    "## Variant QC"
   ]
  },
  {
   "cell_type": "markdown",
   "id": "eace0bfa-ab61-4827-85d4-09e88c49b970",
   "metadata": {},
   "source": [
    "### Variant counts"
   ]
  },
  {
   "cell_type": "code",
   "execution_count": 6,
   "id": "bcee21b2-1324-4a77-bed3-9b575ddae681",
   "metadata": {},
   "outputs": [],
   "source": [
    "def variant_counts(mt):\n",
    "    # Count number of variants, SNPs and indels. Only first allele in alternate allele list is considered.\n",
    "    variant_counts_struct = mt.aggregate_rows(hl.struct(\n",
    "        n_variants = hl.agg.count(),\n",
    "        snps_fraction = hl.agg.count_where(hl.is_snp(mt.alleles[0], mt.alleles[1])) / hl.agg.count(),\n",
    "        insertions_fraction = hl.agg.count_where(hl.is_insertion(mt.alleles[0], mt.alleles[1])) / hl.agg.count(),\n",
    "        deletions_fraction = hl.agg.count_where(hl.is_deletion(mt.alleles[0], mt.alleles[1])) / hl.agg.count(),\n",
    "        mnp_fraction = hl.agg.count_where(hl.is_mnp(mt.alleles[0], mt.alleles[1])) / hl.agg.count(),\n",
    "        complex_fraction = hl.agg.count_where(hl.is_complex(mt.alleles[0], mt.alleles[1])) / hl.agg.count(),\n",
    "        star_fraction = hl.agg.count_where(hl.is_star(mt.alleles[0], mt.alleles[1])) / hl.agg.count()))\n",
    "    \n",
    "    variant_counts_pd = pd.DataFrame(variant_counts_struct.values(), index=variant_counts_struct.keys(), columns=[''])\n",
    "    return variant_counts_pd"
   ]
  },
  {
   "cell_type": "markdown",
   "id": "a8b50f97-8413-40f7-a8bf-34de85a1471b",
   "metadata": {},
   "source": [
    "Create a dataset where multi-allelic sites are split."
   ]
  },
  {
   "cell_type": "code",
   "execution_count": 7,
   "id": "895d1887-e641-4d03-868e-5c2602a0cd20",
   "metadata": {},
   "outputs": [],
   "source": [
    "# NOTE: permit_shuffle is needed when there are duplicate loci, one of which has multiple alternate alleles. Apparently, this dataset has such sites.\n",
    "split_mt = hl.split_multi_hts(mt, permit_shuffle=True)"
   ]
  },
  {
   "cell_type": "code",
   "execution_count": 8,
   "id": "9fff3e1b-fce3-4dae-88c4-51017e7e2a80",
   "metadata": {},
   "outputs": [
    {
     "name": "stderr",
     "output_type": "stream",
     "text": [
      "[Stage 0:=======================================================> (72 + 2) / 74]"
     ]
    },
    {
     "data": {
      "text/html": [
       "<div>\n",
       "<style scoped>\n",
       "    .dataframe tbody tr th:only-of-type {\n",
       "        vertical-align: middle;\n",
       "    }\n",
       "\n",
       "    .dataframe tbody tr th {\n",
       "        vertical-align: top;\n",
       "    }\n",
       "\n",
       "    .dataframe thead th {\n",
       "        text-align: right;\n",
       "    }\n",
       "</style>\n",
       "<table border=\"1\" class=\"dataframe\">\n",
       "  <thead>\n",
       "    <tr style=\"text-align: right;\">\n",
       "      <th></th>\n",
       "      <th></th>\n",
       "    </tr>\n",
       "  </thead>\n",
       "  <tbody>\n",
       "    <tr>\n",
       "      <th>n_variants</th>\n",
       "      <td>1.106101e+06</td>\n",
       "    </tr>\n",
       "    <tr>\n",
       "      <th>snps_fraction</th>\n",
       "      <td>5.907046e-01</td>\n",
       "    </tr>\n",
       "    <tr>\n",
       "      <th>insertions_fraction</th>\n",
       "      <td>2.523793e-01</td>\n",
       "    </tr>\n",
       "    <tr>\n",
       "      <th>deletions_fraction</th>\n",
       "      <td>1.569161e-01</td>\n",
       "    </tr>\n",
       "    <tr>\n",
       "      <th>mnp_fraction</th>\n",
       "      <td>0.000000e+00</td>\n",
       "    </tr>\n",
       "    <tr>\n",
       "      <th>complex_fraction</th>\n",
       "      <td>0.000000e+00</td>\n",
       "    </tr>\n",
       "    <tr>\n",
       "      <th>star_fraction</th>\n",
       "      <td>0.000000e+00</td>\n",
       "    </tr>\n",
       "  </tbody>\n",
       "</table>\n",
       "</div>"
      ],
      "text/plain": [
       "                                 \n",
       "n_variants           1.106101e+06\n",
       "snps_fraction        5.907046e-01\n",
       "insertions_fraction  2.523793e-01\n",
       "deletions_fraction   1.569161e-01\n",
       "mnp_fraction         0.000000e+00\n",
       "complex_fraction     0.000000e+00\n",
       "star_fraction        0.000000e+00"
      ]
     },
     "execution_count": 8,
     "metadata": {},
     "output_type": "execute_result"
    }
   ],
   "source": [
    "variant_counts(split_mt)"
   ]
  },
  {
   "cell_type": "markdown",
   "id": "436ee677-7395-4d55-a603-81eb3b865fa8",
   "metadata": {},
   "source": [
    "### Variant call quality (QUAL)\n",
    "\n",
    "Plot distribution of QUAL values. Note that a hard cut-off filter has been used on QUAL in the joint genotyping pipeline."
   ]
  },
  {
   "cell_type": "code",
   "execution_count": 9,
   "id": "a925ea05-184a-4ef7-8a2b-07facb9973ac",
   "metadata": {},
   "outputs": [
    {
     "name": "stderr",
     "output_type": "stream",
     "text": [
      "[Stage 1:=======================================================> (36 + 1) / 37]"
     ]
    },
    {
     "data": {
      "text/html": [
       "\n",
       "\n",
       "\n",
       "\n",
       "\n",
       "\n",
       "  <div class=\"bk-root\" id=\"b7909e8c-19e1-447a-acc0-5c58b7d75e50\" data-root-id=\"1002\"></div>\n"
      ]
     },
     "metadata": {},
     "output_type": "display_data"
    },
    {
     "data": {
      "application/javascript": [
       "(function(root) {\n",
       "  function embed_document(root) {\n",
       "    \n",
       "  var docs_json = {\"589086b4-7166-4daa-a97a-699553b68835\":{\"roots\":{\"references\":[{\"attributes\":{\"background_fill_color\":{\"value\":\"#EEEEEE\"},\"below\":[{\"id\":\"1012\",\"type\":\"LinearAxis\"}],\"center\":[{\"id\":\"1016\",\"type\":\"Grid\"},{\"id\":\"1021\",\"type\":\"Grid\"},{\"id\":\"1046\",\"type\":\"Legend\"}],\"left\":[{\"id\":\"1017\",\"type\":\"LinearAxis\"}],\"plot_height\":500,\"plot_width\":800,\"renderers\":[{\"id\":\"1038\",\"type\":\"GlyphRenderer\"}],\"title\":null,\"toolbar\":{\"id\":\"1028\",\"type\":\"Toolbar\"},\"x_range\":{\"id\":\"1004\",\"type\":\"Range1d\"},\"x_scale\":{\"id\":\"1008\",\"type\":\"LinearScale\"},\"y_range\":{\"id\":\"1006\",\"type\":\"DataRange1d\"},\"y_scale\":{\"id\":\"1010\",\"type\":\"LinearScale\"}},\"id\":\"1002\",\"subtype\":\"Figure\",\"type\":\"Plot\"},{\"attributes\":{\"callback\":null,\"end\":6685426.3725,\"start\":-318144.10250000004},\"id\":\"1004\",\"type\":\"Range1d\"},{\"attributes\":{},\"id\":\"1041\",\"type\":\"BasicTickFormatter\"},{\"attributes\":{},\"id\":\"1010\",\"type\":\"LinearScale\"},{\"attributes\":{},\"id\":\"1022\",\"type\":\"PanTool\"},{\"attributes\":{\"ticker\":{\"id\":\"1013\",\"type\":\"BasicTicker\"}},\"id\":\"1016\",\"type\":\"Grid\"},{\"attributes\":{},\"id\":\"1026\",\"type\":\"ResetTool\"},{\"attributes\":{},\"id\":\"1054\",\"type\":\"UnionRenderers\"},{\"attributes\":{\"label\":{\"value\":\"Variant call quality (QUAL)\"},\"renderers\":[{\"id\":\"1038\",\"type\":\"GlyphRenderer\"}]},\"id\":\"1047\",\"type\":\"LegendItem\"},{\"attributes\":{},\"id\":\"1025\",\"type\":\"SaveTool\"},{\"attributes\":{\"bottom\":{\"value\":0},\"fill_color\":{\"value\":\"#1f77b4\"},\"left\":{\"field\":\"left\"},\"right\":{\"field\":\"right\"},\"top\":{\"field\":\"top\"}},\"id\":\"1036\",\"type\":\"Quad\"},{\"attributes\":{},\"id\":\"1055\",\"type\":\"Selection\"},{\"attributes\":{\"items\":[{\"id\":\"1047\",\"type\":\"LegendItem\"}]},\"id\":\"1046\",\"type\":\"Legend\"},{\"attributes\":{\"source\":{\"id\":\"1035\",\"type\":\"ColumnDataSource\"}},\"id\":\"1039\",\"type\":\"CDSView\"},{\"attributes\":{\"overlay\":{\"id\":\"1045\",\"type\":\"BoxAnnotation\"}},\"id\":\"1024\",\"type\":\"BoxZoomTool\"},{\"attributes\":{},\"id\":\"1027\",\"type\":\"HelpTool\"},{\"attributes\":{\"axis_label\":\"Variant call quality (QUAL)\",\"formatter\":{\"id\":\"1043\",\"type\":\"BasicTickFormatter\"},\"ticker\":{\"id\":\"1013\",\"type\":\"BasicTicker\"}},\"id\":\"1012\",\"type\":\"LinearAxis\"},{\"attributes\":{\"active_drag\":\"auto\",\"active_inspect\":\"auto\",\"active_multi\":null,\"active_scroll\":\"auto\",\"active_tap\":\"auto\",\"tools\":[{\"id\":\"1022\",\"type\":\"PanTool\"},{\"id\":\"1023\",\"type\":\"WheelZoomTool\"},{\"id\":\"1024\",\"type\":\"BoxZoomTool\"},{\"id\":\"1025\",\"type\":\"SaveTool\"},{\"id\":\"1026\",\"type\":\"ResetTool\"},{\"id\":\"1027\",\"type\":\"HelpTool\"}]},\"id\":\"1028\",\"type\":\"Toolbar\"},{\"attributes\":{\"bottom\":{\"value\":0},\"fill_alpha\":{\"value\":0.1},\"fill_color\":{\"value\":\"#1f77b4\"},\"left\":{\"field\":\"left\"},\"line_alpha\":{\"value\":0.1},\"line_color\":{\"value\":\"#1f77b4\"},\"right\":{\"field\":\"right\"},\"top\":{\"field\":\"top\"}},\"id\":\"1037\",\"type\":\"Quad\"},{\"attributes\":{},\"id\":\"1018\",\"type\":\"BasicTicker\"},{\"attributes\":{\"callback\":null},\"id\":\"1006\",\"type\":\"DataRange1d\"},{\"attributes\":{\"data_source\":{\"id\":\"1035\",\"type\":\"ColumnDataSource\"},\"glyph\":{\"id\":\"1036\",\"type\":\"Quad\"},\"hover_glyph\":null,\"muted_glyph\":null,\"nonselection_glyph\":{\"id\":\"1037\",\"type\":\"Quad\"},\"selection_glyph\":null,\"view\":{\"id\":\"1039\",\"type\":\"CDSView\"}},\"id\":\"1038\",\"type\":\"GlyphRenderer\"},{\"attributes\":{\"callback\":null,\"data\":{\"left\":[200.01,127537.655,254875.30000000002,382212.945,509550.59,636888.235,764225.88,891563.525,1018901.17,1146238.815,1273576.46,1400914.105,1528251.75,1655589.395,1782927.04,1910264.685,2037602.33,2164939.9749999996,2292277.6199999996,2419615.2649999997,2546952.9099999997,2674290.5549999997,2801628.1999999997,2928965.8449999997,3056303.4899999998,3183641.135,3310978.78,3438316.425,3565654.07,3692991.715,3820329.36,3947667.005,4075004.65,4202342.295,4329679.9399999995,4457017.585,4584355.2299999995,4711692.875,4839030.52,4966368.165,5093705.81,5221043.455,5348381.1,5475718.745,5603056.39,5730394.035,5857731.68,5985069.325,6112406.97,6239744.615],\"right\":[127537.655,254875.30000000002,382212.945,509550.59,636888.235,764225.88,891563.525,1018901.17,1146238.815,1273576.46,1400914.105,1528251.75,1655589.395,1782927.04,1910264.685,2037602.33,2164939.9749999996,2292277.6199999996,2419615.2649999997,2546952.9099999997,2674290.5549999997,2801628.1999999997,2928965.8449999997,3056303.4899999998,3183641.135,3310978.78,3438316.425,3565654.07,3692991.715,3820329.36,3947667.005,4075004.65,4202342.295,4329679.9399999995,4457017.585,4584355.2299999995,4711692.875,4839030.52,4966368.165,5093705.81,5221043.455,5348381.1,5475718.745,5603056.39,5730394.035,5857731.68,5985069.325,6112406.97,6239744.615,6367082.26],\"top\":[827087,41469,18077,9642,5315,3304,1958,1335,874,645,524,359,302,212,174,152,122,99,72,49,51,38,18,15,10,5,5,5,3,1,1,2,1,0,2,0,0,0,0,0,0,0,0,0,0,0,0,0,0,1]},\"selected\":{\"id\":\"1055\",\"type\":\"Selection\"},\"selection_policy\":{\"id\":\"1054\",\"type\":\"UnionRenderers\"}},\"id\":\"1035\",\"type\":\"ColumnDataSource\"},{\"attributes\":{},\"id\":\"1043\",\"type\":\"BasicTickFormatter\"},{\"attributes\":{},\"id\":\"1013\",\"type\":\"BasicTicker\"},{\"attributes\":{\"dimension\":1,\"ticker\":{\"id\":\"1018\",\"type\":\"BasicTicker\"}},\"id\":\"1021\",\"type\":\"Grid\"},{\"attributes\":{},\"id\":\"1023\",\"type\":\"WheelZoomTool\"},{\"attributes\":{\"axis_label\":\"Frequency\",\"formatter\":{\"id\":\"1041\",\"type\":\"BasicTickFormatter\"},\"ticker\":{\"id\":\"1018\",\"type\":\"BasicTicker\"}},\"id\":\"1017\",\"type\":\"LinearAxis\"},{\"attributes\":{\"bottom_units\":\"screen\",\"fill_alpha\":{\"value\":0.5},\"fill_color\":{\"value\":\"lightgrey\"},\"left_units\":\"screen\",\"level\":\"overlay\",\"line_alpha\":{\"value\":1.0},\"line_color\":{\"value\":\"black\"},\"line_dash\":[4,4],\"line_width\":{\"value\":2},\"render_mode\":\"css\",\"right_units\":\"screen\",\"top_units\":\"screen\"},\"id\":\"1045\",\"type\":\"BoxAnnotation\"},{\"attributes\":{},\"id\":\"1008\",\"type\":\"LinearScale\"}],\"root_ids\":[\"1002\"]},\"title\":\"Bokeh Application\",\"version\":\"1.2.0\"}};\n",
       "  var render_items = [{\"docid\":\"589086b4-7166-4daa-a97a-699553b68835\",\"roots\":{\"1002\":\"b7909e8c-19e1-447a-acc0-5c58b7d75e50\"}}];\n",
       "  root.Bokeh.embed.embed_items_notebook(docs_json, render_items);\n",
       "\n",
       "  }\n",
       "  if (root.Bokeh !== undefined) {\n",
       "    embed_document(root);\n",
       "  } else {\n",
       "    var attempts = 0;\n",
       "    var timer = setInterval(function(root) {\n",
       "      if (root.Bokeh !== undefined) {\n",
       "        embed_document(root);\n",
       "        clearInterval(timer);\n",
       "      }\n",
       "      attempts++;\n",
       "      if (attempts > 100) {\n",
       "        console.log(\"Bokeh: ERROR: Unable to run BokehJS code because BokehJS library is missing\");\n",
       "        clearInterval(timer);\n",
       "      }\n",
       "    }, 10, root)\n",
       "  }\n",
       "})(window);"
      ],
      "application/vnd.bokehjs_exec.v0+json": ""
     },
     "metadata": {
      "application/vnd.bokehjs_exec.v0+json": {
       "id": "1002"
      }
     },
     "output_type": "display_data"
    }
   ],
   "source": [
    "p = hl.plot.histogram(mt.qual, legend='Variant call quality (QUAL)')\n",
    "p.plot_width = 800\n",
    "p.plot_height = 500\n",
    "show(p)"
   ]
  },
  {
   "cell_type": "code",
   "execution_count": 10,
   "id": "d177274b-461a-44f0-8222-30ddd508d8d7",
   "metadata": {},
   "outputs": [
    {
     "data": {
      "text/html": [
       "\n",
       "\n",
       "\n",
       "\n",
       "\n",
       "\n",
       "  <div class=\"bk-root\" id=\"ba9ec596-1021-4996-a3f8-c7d76002fa02\" data-root-id=\"1104\"></div>\n"
      ]
     },
     "metadata": {},
     "output_type": "display_data"
    },
    {
     "data": {
      "application/javascript": [
       "(function(root) {\n",
       "  function embed_document(root) {\n",
       "    \n",
       "  var docs_json = {\"e7489df8-5c6e-488d-b52b-5f389a427cc3\":{\"roots\":{\"references\":[{\"attributes\":{\"background_fill_color\":{\"value\":\"#EEEEEE\"},\"below\":[{\"id\":\"1114\",\"type\":\"LinearAxis\"}],\"center\":[{\"id\":\"1118\",\"type\":\"Grid\"},{\"id\":\"1123\",\"type\":\"Grid\"},{\"id\":\"1148\",\"type\":\"Legend\"}],\"left\":[{\"id\":\"1119\",\"type\":\"LinearAxis\"}],\"plot_height\":500,\"plot_width\":800,\"renderers\":[{\"id\":\"1140\",\"type\":\"GlyphRenderer\"}],\"title\":null,\"toolbar\":{\"id\":\"1130\",\"type\":\"Toolbar\"},\"x_range\":{\"id\":\"1106\",\"type\":\"Range1d\"},\"x_scale\":{\"id\":\"1110\",\"type\":\"LinearScale\"},\"y_range\":{\"id\":\"1108\",\"type\":\"DataRange1d\"},\"y_scale\":{\"id\":\"1112\",\"type\":\"LinearScale\"}},\"id\":\"1104\",\"subtype\":\"Figure\",\"type\":\"Plot\"},{\"attributes\":{\"bottom\":{\"value\":0},\"fill_color\":{\"value\":\"#1f77b4\"},\"left\":{\"field\":\"left\"},\"right\":{\"field\":\"right\"},\"top\":{\"field\":\"top\"}},\"id\":\"1138\",\"type\":\"Quad\"},{\"attributes\":{},\"id\":\"1125\",\"type\":\"WheelZoomTool\"},{\"attributes\":{\"ticker\":{\"id\":\"1115\",\"type\":\"BasicTicker\"}},\"id\":\"1118\",\"type\":\"Grid\"},{\"attributes\":{\"data_source\":{\"id\":\"1137\",\"type\":\"ColumnDataSource\"},\"glyph\":{\"id\":\"1138\",\"type\":\"Quad\"},\"hover_glyph\":null,\"muted_glyph\":null,\"nonselection_glyph\":{\"id\":\"1139\",\"type\":\"Quad\"},\"selection_glyph\":null,\"view\":{\"id\":\"1141\",\"type\":\"CDSView\"}},\"id\":\"1140\",\"type\":\"GlyphRenderer\"},{\"attributes\":{\"label\":{\"value\":\"Variant call quality (log10 of QUAL)\"},\"renderers\":[{\"id\":\"1140\",\"type\":\"GlyphRenderer\"}]},\"id\":\"1149\",\"type\":\"LegendItem\"},{\"attributes\":{\"overlay\":{\"id\":\"1147\",\"type\":\"BoxAnnotation\"}},\"id\":\"1126\",\"type\":\"BoxZoomTool\"},{\"attributes\":{},\"id\":\"1165\",\"type\":\"Selection\"},{\"attributes\":{},\"id\":\"1120\",\"type\":\"BasicTicker\"},{\"attributes\":{\"callback\":null,\"data\":{\"left\":[2.3010517098452263,2.3911094848643306,2.481167259883435,2.571225034902539,2.6612828099216435,2.7513405849407473,2.8413983599598516,2.931456134978956,3.02151390999806,3.1115716850171644,3.2016294600362687,3.291687235055373,3.381745010074477,3.4718027850935815,3.5618605601126854,3.6519183351317897,3.741976110150894,3.832033885169998,3.9220916601891025,4.012149435208206,4.102207210227311,4.192264985246415,4.282322760265519,4.3723805352846234,4.462438310303728,4.552496085322832,4.642553860341936,4.732611635361041,4.822669410380144,4.912727185399248,5.002784960418353,5.092842735437458,5.1829005104565615,5.272958285475665,5.36301606049477,5.453073835513875,5.543131610532979,5.6331893855520825,5.723247160571187,5.813304935590291,5.903362710609395,5.9934204856285,6.083478260647604,6.173536035666708,6.263593810685812,6.353651585704917,6.443709360724021,6.533767135743125,6.623824910762229,6.713882685781333],\"right\":[2.3911094848643306,2.481167259883435,2.571225034902539,2.6612828099216435,2.7513405849407473,2.8413983599598516,2.931456134978956,3.02151390999806,3.1115716850171644,3.2016294600362687,3.291687235055373,3.381745010074477,3.4718027850935815,3.5618605601126854,3.6519183351317897,3.741976110150894,3.832033885169998,3.9220916601891025,4.012149435208206,4.102207210227311,4.192264985246415,4.282322760265519,4.3723805352846234,4.462438310303728,4.552496085322832,4.642553860341936,4.732611635361041,4.822669410380144,4.912727185399248,5.002784960418353,5.092842735437458,5.1829005104565615,5.272958285475665,5.36301606049477,5.453073835513875,5.543131610532979,5.6331893855520825,5.723247160571187,5.813304935590291,5.903362710609395,5.9934204856285,6.083478260647604,6.173536035666708,6.263593810685812,6.353651585704917,6.443709360724021,6.533767135743125,6.623824910762229,6.713882685781333,6.803940460800438],\"top\":[61679,54858,49721,46615,43428,40102,37898,34219,32022,29912,27708,25824,24679,23125,22253,21189,20407,19664,18575,18312,17590,17110,16362,16057,15910,15650,15380,15271,14844,14630,14192,13542,12863,11739,10577,9146,7800,6403,4785,3526,2305,1540,1054,704,453,232,57,14,2,1]},\"selected\":{\"id\":\"1165\",\"type\":\"Selection\"},\"selection_policy\":{\"id\":\"1164\",\"type\":\"UnionRenderers\"}},\"id\":\"1137\",\"type\":\"ColumnDataSource\"},{\"attributes\":{\"bottom\":{\"value\":0},\"fill_alpha\":{\"value\":0.1},\"fill_color\":{\"value\":\"#1f77b4\"},\"left\":{\"field\":\"left\"},\"line_alpha\":{\"value\":0.1},\"line_color\":{\"value\":\"#1f77b4\"},\"right\":{\"field\":\"right\"},\"top\":{\"field\":\"top\"}},\"id\":\"1139\",\"type\":\"Quad\"},{\"attributes\":{\"callback\":null},\"id\":\"1108\",\"type\":\"DataRange1d\"},{\"attributes\":{},\"id\":\"1127\",\"type\":\"SaveTool\"},{\"attributes\":{},\"id\":\"1145\",\"type\":\"BasicTickFormatter\"},{\"attributes\":{},\"id\":\"1128\",\"type\":\"ResetTool\"},{\"attributes\":{\"bottom_units\":\"screen\",\"fill_alpha\":{\"value\":0.5},\"fill_color\":{\"value\":\"lightgrey\"},\"left_units\":\"screen\",\"level\":\"overlay\",\"line_alpha\":{\"value\":1.0},\"line_color\":{\"value\":\"black\"},\"line_dash\":[4,4],\"line_width\":{\"value\":2},\"render_mode\":\"css\",\"right_units\":\"screen\",\"top_units\":\"screen\"},\"id\":\"1147\",\"type\":\"BoxAnnotation\"},{\"attributes\":{\"axis_label\":\"Frequency\",\"formatter\":{\"id\":\"1143\",\"type\":\"BasicTickFormatter\"},\"ticker\":{\"id\":\"1120\",\"type\":\"BasicTicker\"}},\"id\":\"1119\",\"type\":\"LinearAxis\"},{\"attributes\":{\"dimension\":1,\"ticker\":{\"id\":\"1120\",\"type\":\"BasicTicker\"}},\"id\":\"1123\",\"type\":\"Grid\"},{\"attributes\":{},\"id\":\"1112\",\"type\":\"LinearScale\"},{\"attributes\":{},\"id\":\"1124\",\"type\":\"PanTool\"},{\"attributes\":{},\"id\":\"1129\",\"type\":\"HelpTool\"},{\"attributes\":{},\"id\":\"1143\",\"type\":\"BasicTickFormatter\"},{\"attributes\":{\"source\":{\"id\":\"1137\",\"type\":\"ColumnDataSource\"}},\"id\":\"1141\",\"type\":\"CDSView\"},{\"attributes\":{\"axis_label\":\"Variant call quality (log10 of QUAL)\",\"formatter\":{\"id\":\"1145\",\"type\":\"BasicTickFormatter\"},\"ticker\":{\"id\":\"1115\",\"type\":\"BasicTicker\"}},\"id\":\"1114\",\"type\":\"LinearAxis\"},{\"attributes\":{\"items\":[{\"id\":\"1149\",\"type\":\"LegendItem\"}]},\"id\":\"1148\",\"type\":\"Legend\"},{\"attributes\":{},\"id\":\"1164\",\"type\":\"UnionRenderers\"},{\"attributes\":{\"callback\":null,\"end\":7.029084898348199,\"start\":2.075907272297466},\"id\":\"1106\",\"type\":\"Range1d\"},{\"attributes\":{},\"id\":\"1110\",\"type\":\"LinearScale\"},{\"attributes\":{},\"id\":\"1115\",\"type\":\"BasicTicker\"},{\"attributes\":{\"active_drag\":\"auto\",\"active_inspect\":\"auto\",\"active_multi\":null,\"active_scroll\":\"auto\",\"active_tap\":\"auto\",\"tools\":[{\"id\":\"1124\",\"type\":\"PanTool\"},{\"id\":\"1125\",\"type\":\"WheelZoomTool\"},{\"id\":\"1126\",\"type\":\"BoxZoomTool\"},{\"id\":\"1127\",\"type\":\"SaveTool\"},{\"id\":\"1128\",\"type\":\"ResetTool\"},{\"id\":\"1129\",\"type\":\"HelpTool\"}]},\"id\":\"1130\",\"type\":\"Toolbar\"}],\"root_ids\":[\"1104\"]},\"title\":\"Bokeh Application\",\"version\":\"1.2.0\"}};\n",
       "  var render_items = [{\"docid\":\"e7489df8-5c6e-488d-b52b-5f389a427cc3\",\"roots\":{\"1104\":\"ba9ec596-1021-4996-a3f8-c7d76002fa02\"}}];\n",
       "  root.Bokeh.embed.embed_items_notebook(docs_json, render_items);\n",
       "\n",
       "  }\n",
       "  if (root.Bokeh !== undefined) {\n",
       "    embed_document(root);\n",
       "  } else {\n",
       "    var attempts = 0;\n",
       "    var timer = setInterval(function(root) {\n",
       "      if (root.Bokeh !== undefined) {\n",
       "        embed_document(root);\n",
       "        clearInterval(timer);\n",
       "      }\n",
       "      attempts++;\n",
       "      if (attempts > 100) {\n",
       "        console.log(\"Bokeh: ERROR: Unable to run BokehJS code because BokehJS library is missing\");\n",
       "        clearInterval(timer);\n",
       "      }\n",
       "    }, 10, root)\n",
       "  }\n",
       "})(window);"
      ],
      "application/vnd.bokehjs_exec.v0+json": ""
     },
     "metadata": {
      "application/vnd.bokehjs_exec.v0+json": {
       "id": "1104"
      }
     },
     "output_type": "display_data"
    }
   ],
   "source": [
    "p = hl.plot.histogram(hl.log10(mt.qual), legend='Variant call quality (log10 of QUAL)')\n",
    "p.plot_width = 800\n",
    "p.plot_height = 500\n",
    "show(p)"
   ]
  },
  {
   "cell_type": "markdown",
   "id": "deadly-wales",
   "metadata": {},
   "source": [
    "### VQSR filters\n",
    "\n",
    "We will inspect the VQSR tranches.\n",
    "\n",
    "**FIXME:** These variants with `filters = None` have `VQSLOD = NaN`, as shown in the Pandas table below. What are these variants? Why have they not been assigned a VQSLOD?"
   ]
  },
  {
   "cell_type": "code",
   "execution_count": 11,
   "id": "legitimate-selection",
   "metadata": {},
   "outputs": [],
   "source": [
    "mt = mt.transmute_rows(filters=hl.delimit(mt.filters, ','))"
   ]
  },
  {
   "cell_type": "code",
   "execution_count": 12,
   "id": "42c11218-e7ba-4064-b406-fe251dc69571",
   "metadata": {},
   "outputs": [
    {
     "name": "stderr",
     "output_type": "stream",
     "text": [
      "[Stage 5:==================================>                     (23 + 14) / 37]"
     ]
    },
    {
     "data": {
      "text/plain": [
       "{'': 159849,\n",
       " 'VQSRTrancheINDEL99.90to100.00': 53479,\n",
       " 'VQSRTrancheINDEL99.00to99.90': 46133,\n",
       " 'VQSRTrancheSNP99.90to100.00': 68405,\n",
       " 'VQSRTrancheSNP99.00to99.90': 139682,\n",
       " 'VQSRTrancheINDEL90.00to99.00': 56409,\n",
       " 'VQSRTrancheSNP90.00to99.00': 111492,\n",
       " 'VQSRTrancheSNP50.00to75.00': 102544,\n",
       " 'VQSRTrancheINDEL50.00to75.00': 24351,\n",
       " 'VQSRTrancheSNP75.00to90.00': 93294,\n",
       " 'VQSRTrancheINDEL75.00to90.00': 56291}"
      ]
     },
     "execution_count": 12,
     "metadata": {},
     "output_type": "execute_result"
    }
   ],
   "source": [
    "mt.aggregate_rows(hl.agg.counter(mt.filters))"
   ]
  },
  {
   "cell_type": "markdown",
   "id": "d3a41375-28d5-411f-a6a6-114f7fc52cdc",
   "metadata": {},
   "source": [
    "We will calculate some mean QC statistics for each VQSR tranch."
   ]
  },
  {
   "cell_type": "code",
   "execution_count": 13,
   "id": "fb4e3d8c-b958-41d1-baab-82e351eb2999",
   "metadata": {},
   "outputs": [],
   "source": [
    "# Calculate variant statistics.\n",
    "mt = hl.variant_qc(mt)\n",
    "\n",
    "# Get rows table.\n",
    "rows_ht = mt.rows()\n",
    "\n",
    "# Aggregate.\n",
    "result = (rows_ht.group_by(rows_ht.filters)\n",
    "         .aggregate(mean_gq = hl.agg.filter(~hl.is_nan(rows_ht.variant_qc.gq_stats.mean), hl.agg.mean(rows_ht.variant_qc.gq_stats.mean)),\n",
    "                   mean_dp = hl.agg.filter(~hl.is_nan(rows_ht.variant_qc.dp_stats.mean), hl.agg.mean(rows_ht.variant_qc.dp_stats.mean)),\n",
    "                   mean_af = hl.agg.filter(~hl.is_nan(rows_ht.variant_qc.AF[0]), hl.agg.mean(1 - rows_ht.variant_qc.AF[0])),\n",
    "                   mean_vqslod = hl.agg.filter(~hl.is_nan(rows_ht.info.VQSLOD), hl.agg.mean(rows_ht.info.VQSLOD)),\n",
    "                   n_variants = hl.agg.count()))"
   ]
  },
  {
   "cell_type": "markdown",
   "id": "5b233371-143e-468f-8548-f51fb1d8f09a",
   "metadata": {},
   "source": [
    "We convert the results to a Pandas dataframe."
   ]
  },
  {
   "cell_type": "code",
   "execution_count": 14,
   "id": "c8f1c0f1-0d81-4f58-b7fb-32a096be2a9e",
   "metadata": {},
   "outputs": [
    {
     "name": "stderr",
     "output_type": "stream",
     "text": [
      "[Stage 6:=====================================>                  (25 + 12) / 37]2021-10-27 12:05:52 Hail: INFO: Ordering unsorted dataset with network shuffle\n"
     ]
    }
   ],
   "source": [
    "vqsr_stats_pd = result.to_pandas()"
   ]
  },
  {
   "cell_type": "markdown",
   "id": "0016ab27-1509-407b-ae54-b8a8c6482ce8",
   "metadata": {},
   "source": [
    "Below we first print the statistics for the SNPs and then for the indels. The rows are sorted by mean genotype quality. The empty filter row (`filter=''`) corresponds to all unfiltered variants."
   ]
  },
  {
   "cell_type": "code",
   "execution_count": 15,
   "id": "d359bca6-35d9-4ebd-96dd-0304881f243c",
   "metadata": {},
   "outputs": [
    {
     "data": {
      "text/html": [
       "<div>\n",
       "<style scoped>\n",
       "    .dataframe tbody tr th:only-of-type {\n",
       "        vertical-align: middle;\n",
       "    }\n",
       "\n",
       "    .dataframe tbody tr th {\n",
       "        vertical-align: top;\n",
       "    }\n",
       "\n",
       "    .dataframe thead th {\n",
       "        text-align: right;\n",
       "    }\n",
       "</style>\n",
       "<table border=\"1\" class=\"dataframe\">\n",
       "  <thead>\n",
       "    <tr style=\"text-align: right;\">\n",
       "      <th></th>\n",
       "      <th>filters</th>\n",
       "      <th>mean_gq</th>\n",
       "      <th>mean_dp</th>\n",
       "      <th>mean_af</th>\n",
       "      <th>mean_vqslod</th>\n",
       "      <th>n_variants</th>\n",
       "    </tr>\n",
       "  </thead>\n",
       "  <tbody>\n",
       "    <tr>\n",
       "      <th>10</th>\n",
       "      <td>VQSRTrancheSNP99.90to100.00</td>\n",
       "      <td>50.122640</td>\n",
       "      <td>31.077643</td>\n",
       "      <td>0.038038</td>\n",
       "      <td>-47.243312</td>\n",
       "      <td>68405</td>\n",
       "    </tr>\n",
       "    <tr>\n",
       "      <th>9</th>\n",
       "      <td>VQSRTrancheSNP99.00to99.90</td>\n",
       "      <td>53.528405</td>\n",
       "      <td>23.751122</td>\n",
       "      <td>0.062698</td>\n",
       "      <td>-2.131846</td>\n",
       "      <td>139682</td>\n",
       "    </tr>\n",
       "    <tr>\n",
       "      <th>8</th>\n",
       "      <td>VQSRTrancheSNP90.00to99.00</td>\n",
       "      <td>67.947504</td>\n",
       "      <td>26.119766</td>\n",
       "      <td>0.122243</td>\n",
       "      <td>1.311792</td>\n",
       "      <td>111492</td>\n",
       "    </tr>\n",
       "    <tr>\n",
       "      <th>7</th>\n",
       "      <td>VQSRTrancheSNP75.00to90.00</td>\n",
       "      <td>68.978084</td>\n",
       "      <td>27.397557</td>\n",
       "      <td>0.126402</td>\n",
       "      <td>2.819369</td>\n",
       "      <td>93294</td>\n",
       "    </tr>\n",
       "    <tr>\n",
       "      <th>6</th>\n",
       "      <td>VQSRTrancheSNP50.00to75.00</td>\n",
       "      <td>72.908350</td>\n",
       "      <td>30.275901</td>\n",
       "      <td>0.185178</td>\n",
       "      <td>4.374752</td>\n",
       "      <td>102544</td>\n",
       "    </tr>\n",
       "    <tr>\n",
       "      <th>0</th>\n",
       "      <td></td>\n",
       "      <td>75.856793</td>\n",
       "      <td>35.295114</td>\n",
       "      <td>0.264691</td>\n",
       "      <td>5.999987</td>\n",
       "      <td>159849</td>\n",
       "    </tr>\n",
       "  </tbody>\n",
       "</table>\n",
       "</div>"
      ],
      "text/plain": [
       "                        filters    mean_gq    mean_dp   mean_af  mean_vqslod  \\\n",
       "10  VQSRTrancheSNP99.90to100.00  50.122640  31.077643  0.038038   -47.243312   \n",
       "9    VQSRTrancheSNP99.00to99.90  53.528405  23.751122  0.062698    -2.131846   \n",
       "8    VQSRTrancheSNP90.00to99.00  67.947504  26.119766  0.122243     1.311792   \n",
       "7    VQSRTrancheSNP75.00to90.00  68.978084  27.397557  0.126402     2.819369   \n",
       "6    VQSRTrancheSNP50.00to75.00  72.908350  30.275901  0.185178     4.374752   \n",
       "0                                75.856793  35.295114  0.264691     5.999987   \n",
       "\n",
       "    n_variants  \n",
       "10       68405  \n",
       "9       139682  \n",
       "8       111492  \n",
       "7        93294  \n",
       "6       102544  \n",
       "0       159849  "
      ]
     },
     "execution_count": 15,
     "metadata": {},
     "output_type": "execute_result"
    }
   ],
   "source": [
    "vqsr_stats_pd[vqsr_stats_pd.filters.isin(['VQSRTrancheSNP50.00to75.00', 'VQSRTrancheSNP75.00to90.00', 'VQSRTrancheSNP90.00to99.00', 'VQSRTrancheSNP99.00to99.90', 'VQSRTrancheSNP99.90to100.00', '', None])].sort_values('mean_vqslod')"
   ]
  },
  {
   "cell_type": "code",
   "execution_count": 16,
   "id": "4663e101-a483-42e1-8e02-e522a0459f2e",
   "metadata": {},
   "outputs": [
    {
     "data": {
      "text/html": [
       "<div>\n",
       "<style scoped>\n",
       "    .dataframe tbody tr th:only-of-type {\n",
       "        vertical-align: middle;\n",
       "    }\n",
       "\n",
       "    .dataframe tbody tr th {\n",
       "        vertical-align: top;\n",
       "    }\n",
       "\n",
       "    .dataframe thead th {\n",
       "        text-align: right;\n",
       "    }\n",
       "</style>\n",
       "<table border=\"1\" class=\"dataframe\">\n",
       "  <thead>\n",
       "    <tr style=\"text-align: right;\">\n",
       "      <th></th>\n",
       "      <th>filters</th>\n",
       "      <th>mean_gq</th>\n",
       "      <th>mean_dp</th>\n",
       "      <th>mean_af</th>\n",
       "      <th>mean_vqslod</th>\n",
       "      <th>n_variants</th>\n",
       "    </tr>\n",
       "  </thead>\n",
       "  <tbody>\n",
       "    <tr>\n",
       "      <th>5</th>\n",
       "      <td>VQSRTrancheINDEL99.90to100.00</td>\n",
       "      <td>71.656205</td>\n",
       "      <td>33.762890</td>\n",
       "      <td>0.022044</td>\n",
       "      <td>-8.835908</td>\n",
       "      <td>53479</td>\n",
       "    </tr>\n",
       "    <tr>\n",
       "      <th>4</th>\n",
       "      <td>VQSRTrancheINDEL99.00to99.90</td>\n",
       "      <td>53.675363</td>\n",
       "      <td>21.572777</td>\n",
       "      <td>0.030319</td>\n",
       "      <td>-1.810456</td>\n",
       "      <td>46133</td>\n",
       "    </tr>\n",
       "    <tr>\n",
       "      <th>3</th>\n",
       "      <td>VQSRTrancheINDEL90.00to99.00</td>\n",
       "      <td>51.933470</td>\n",
       "      <td>19.591386</td>\n",
       "      <td>0.053830</td>\n",
       "      <td>1.435291</td>\n",
       "      <td>56409</td>\n",
       "    </tr>\n",
       "    <tr>\n",
       "      <th>2</th>\n",
       "      <td>VQSRTrancheINDEL75.00to90.00</td>\n",
       "      <td>59.114073</td>\n",
       "      <td>24.343697</td>\n",
       "      <td>0.078168</td>\n",
       "      <td>2.729718</td>\n",
       "      <td>56291</td>\n",
       "    </tr>\n",
       "    <tr>\n",
       "      <th>1</th>\n",
       "      <td>VQSRTrancheINDEL50.00to75.00</td>\n",
       "      <td>61.357614</td>\n",
       "      <td>28.550483</td>\n",
       "      <td>0.130914</td>\n",
       "      <td>4.307886</td>\n",
       "      <td>24351</td>\n",
       "    </tr>\n",
       "    <tr>\n",
       "      <th>0</th>\n",
       "      <td></td>\n",
       "      <td>75.856793</td>\n",
       "      <td>35.295114</td>\n",
       "      <td>0.264691</td>\n",
       "      <td>5.999987</td>\n",
       "      <td>159849</td>\n",
       "    </tr>\n",
       "  </tbody>\n",
       "</table>\n",
       "</div>"
      ],
      "text/plain": [
       "                         filters    mean_gq    mean_dp   mean_af  mean_vqslod  \\\n",
       "5  VQSRTrancheINDEL99.90to100.00  71.656205  33.762890  0.022044    -8.835908   \n",
       "4   VQSRTrancheINDEL99.00to99.90  53.675363  21.572777  0.030319    -1.810456   \n",
       "3   VQSRTrancheINDEL90.00to99.00  51.933470  19.591386  0.053830     1.435291   \n",
       "2   VQSRTrancheINDEL75.00to90.00  59.114073  24.343697  0.078168     2.729718   \n",
       "1   VQSRTrancheINDEL50.00to75.00  61.357614  28.550483  0.130914     4.307886   \n",
       "0                                 75.856793  35.295114  0.264691     5.999987   \n",
       "\n",
       "   n_variants  \n",
       "5       53479  \n",
       "4       46133  \n",
       "3       56409  \n",
       "2       56291  \n",
       "1       24351  \n",
       "0      159849  "
      ]
     },
     "execution_count": 16,
     "metadata": {},
     "output_type": "execute_result"
    }
   ],
   "source": [
    "vqsr_stats_pd[vqsr_stats_pd.filters.isin(['VQSRTrancheINDEL50.00to75.00', 'VQSRTrancheINDEL75.00to90.00', 'VQSRTrancheINDEL90.00to99.00', 'VQSRTrancheINDEL99.00to99.90', 'VQSRTrancheINDEL99.90to100.00', '', None])].sort_values('mean_vqslod')"
   ]
  },
  {
   "cell_type": "markdown",
   "id": "9ec32319-dff2-4e01-90f8-3dd34cda8509",
   "metadata": {},
   "source": [
    "## Genotype QC"
   ]
  },
  {
   "cell_type": "code",
   "execution_count": 17,
   "id": "1a8c4b54-f898-4103-86d3-0360aa22e6f8",
   "metadata": {},
   "outputs": [
    {
     "name": "stderr",
     "output_type": "stream",
     "text": [
      "[Stage 11:======================================================> (36 + 1) / 37]"
     ]
    },
    {
     "data": {
      "text/html": [
       "\n",
       "\n",
       "\n",
       "\n",
       "\n",
       "\n",
       "  <div class=\"bk-root\" id=\"20ef0034-390e-486b-ac44-0dbf27fb4bd3\" data-root-id=\"1214\"></div>\n"
      ]
     },
     "metadata": {},
     "output_type": "display_data"
    },
    {
     "data": {
      "application/javascript": [
       "(function(root) {\n",
       "  function embed_document(root) {\n",
       "    \n",
       "  var docs_json = {\"74db537c-91fe-491e-b99a-b8c07b1646e6\":{\"roots\":{\"references\":[{\"attributes\":{\"background_fill_color\":{\"value\":\"#EEEEEE\"},\"below\":[{\"id\":\"1224\",\"type\":\"LinearAxis\"}],\"center\":[{\"id\":\"1228\",\"type\":\"Grid\"},{\"id\":\"1233\",\"type\":\"Grid\"}],\"left\":[{\"id\":\"1229\",\"type\":\"LinearAxis\"}],\"plot_height\":500,\"plot_width\":800,\"renderers\":[{\"id\":\"1250\",\"type\":\"GlyphRenderer\"}],\"title\":null,\"toolbar\":{\"id\":\"1240\",\"type\":\"Toolbar\"},\"x_range\":{\"id\":\"1216\",\"type\":\"Range1d\"},\"x_scale\":{\"id\":\"1220\",\"type\":\"LinearScale\"},\"y_range\":{\"id\":\"1218\",\"type\":\"DataRange1d\"},\"y_scale\":{\"id\":\"1222\",\"type\":\"LinearScale\"}},\"id\":\"1214\",\"subtype\":\"Figure\",\"type\":\"Plot\"},{\"attributes\":{\"bottom\":{\"value\":0},\"fill_alpha\":{\"value\":0.1},\"fill_color\":{\"value\":\"#1f77b4\"},\"left\":{\"field\":\"left\"},\"line_alpha\":{\"value\":0.1},\"line_color\":{\"value\":\"#1f77b4\"},\"right\":{\"field\":\"right\"},\"top\":{\"field\":\"top\"}},\"id\":\"1249\",\"type\":\"Quad\"},{\"attributes\":{\"ticker\":{\"id\":\"1225\",\"type\":\"BasicTicker\"}},\"id\":\"1228\",\"type\":\"Grid\"},{\"attributes\":{\"bottom_units\":\"screen\",\"fill_alpha\":{\"value\":0.5},\"fill_color\":{\"value\":\"lightgrey\"},\"left_units\":\"screen\",\"level\":\"overlay\",\"line_alpha\":{\"value\":1.0},\"line_color\":{\"value\":\"black\"},\"line_dash\":[4,4],\"line_width\":{\"value\":2},\"render_mode\":\"css\",\"right_units\":\"screen\",\"top_units\":\"screen\"},\"id\":\"1273\",\"type\":\"BoxAnnotation\"},{\"attributes\":{\"active_drag\":\"auto\",\"active_inspect\":\"auto\",\"active_multi\":null,\"active_scroll\":\"auto\",\"active_tap\":\"auto\",\"tools\":[{\"id\":\"1234\",\"type\":\"PanTool\"},{\"id\":\"1235\",\"type\":\"WheelZoomTool\"},{\"id\":\"1236\",\"type\":\"BoxZoomTool\"},{\"id\":\"1237\",\"type\":\"SaveTool\"},{\"id\":\"1238\",\"type\":\"ResetTool\"},{\"id\":\"1239\",\"type\":\"HelpTool\"}]},\"id\":\"1240\",\"type\":\"Toolbar\"},{\"attributes\":{},\"id\":\"1225\",\"type\":\"BasicTicker\"},{\"attributes\":{},\"id\":\"1275\",\"type\":\"Selection\"},{\"attributes\":{\"axis_label\":\"Genotype quality\",\"formatter\":{\"id\":\"1271\",\"type\":\"BasicTickFormatter\"},\"ticker\":{\"id\":\"1225\",\"type\":\"BasicTicker\"}},\"id\":\"1224\",\"type\":\"LinearAxis\"},{\"attributes\":{},\"id\":\"1220\",\"type\":\"LinearScale\"},{\"attributes\":{},\"id\":\"1235\",\"type\":\"WheelZoomTool\"},{\"attributes\":{},\"id\":\"1238\",\"type\":\"ResetTool\"},{\"attributes\":{},\"id\":\"1230\",\"type\":\"BasicTicker\"},{\"attributes\":{\"callback\":null,\"end\":105.0,\"start\":-5.0},\"id\":\"1216\",\"type\":\"Range1d\"},{\"attributes\":{},\"id\":\"1234\",\"type\":\"PanTool\"},{\"attributes\":{},\"id\":\"1222\",\"type\":\"LinearScale\"},{\"attributes\":{\"source\":{\"id\":\"1247\",\"type\":\"ColumnDataSource\"}},\"id\":\"1251\",\"type\":\"CDSView\"},{\"attributes\":{},\"id\":\"1269\",\"type\":\"BasicTickFormatter\"},{\"attributes\":{},\"id\":\"1237\",\"type\":\"SaveTool\"},{\"attributes\":{\"axis_label\":\"Frequency\",\"formatter\":{\"id\":\"1269\",\"type\":\"BasicTickFormatter\"},\"ticker\":{\"id\":\"1230\",\"type\":\"BasicTicker\"}},\"id\":\"1229\",\"type\":\"LinearAxis\"},{\"attributes\":{\"dimension\":1,\"ticker\":{\"id\":\"1230\",\"type\":\"BasicTicker\"}},\"id\":\"1233\",\"type\":\"Grid\"},{\"attributes\":{\"callback\":null},\"id\":\"1218\",\"type\":\"DataRange1d\"},{\"attributes\":{\"overlay\":{\"id\":\"1273\",\"type\":\"BoxAnnotation\"}},\"id\":\"1236\",\"type\":\"BoxZoomTool\"},{\"attributes\":{\"callback\":null,\"data\":{\"left\":[0.0,2.0,4.0,6.0,8.0,10.0,12.0,14.0,16.0,18.0,20.0,22.0,24.0,26.0,28.0,30.0,32.0,34.0,36.0,38.0,40.0,42.0,44.0,46.0,48.0,50.0,52.0,54.0,56.0,58.0,60.0,62.0,64.0,66.0,68.0,70.0,72.0,74.0,76.0,78.0,80.0,82.0,84.0,86.0,88.0,90.0,92.0,94.0,96.0,98.0],\"right\":[2.0,4.0,6.0,8.0,10.0,12.0,14.0,16.0,18.0,20.0,22.0,24.0,26.0,28.0,30.0,32.0,34.0,36.0,38.0,40.0,42.0,44.0,46.0,48.0,50.0,52.0,54.0,56.0,58.0,60.0,62.0,64.0,66.0,68.0,70.0,72.0,74.0,76.0,78.0,80.0,82.0,84.0,86.0,88.0,90.0,92.0,94.0,96.0,98.0,100.0],\"top\":[3297579,4333661,4100155,4452044,4942738,5596062,6407090,7018794,7500174,7279630,6676761,6444647,6633760,6806166,6662654,6861303,6934801,6694030,6921866,6863718,6441484,6723338,6597855,6092994,6401247,6248615,5721710,6103900,6021403,5366314,5741000,5626018,5084752,5406823,5230526,4659278,5057202,4950969,4501216,4730195,4367850,3653837,3965738,3969222,3461719,3614571,3482518,3219915,3625554,156004031]},\"selected\":{\"id\":\"1275\",\"type\":\"Selection\"},\"selection_policy\":{\"id\":\"1274\",\"type\":\"UnionRenderers\"}},\"id\":\"1247\",\"type\":\"ColumnDataSource\"},{\"attributes\":{},\"id\":\"1271\",\"type\":\"BasicTickFormatter\"},{\"attributes\":{\"bottom\":{\"value\":0},\"fill_color\":{\"value\":\"#1f77b4\"},\"left\":{\"field\":\"left\"},\"right\":{\"field\":\"right\"},\"top\":{\"field\":\"top\"}},\"id\":\"1248\",\"type\":\"Quad\"},{\"attributes\":{},\"id\":\"1274\",\"type\":\"UnionRenderers\"},{\"attributes\":{},\"id\":\"1239\",\"type\":\"HelpTool\"},{\"attributes\":{\"data_source\":{\"id\":\"1247\",\"type\":\"ColumnDataSource\"},\"glyph\":{\"id\":\"1248\",\"type\":\"Quad\"},\"hover_glyph\":null,\"muted_glyph\":null,\"nonselection_glyph\":{\"id\":\"1249\",\"type\":\"Quad\"},\"selection_glyph\":null,\"view\":{\"id\":\"1251\",\"type\":\"CDSView\"}},\"id\":\"1250\",\"type\":\"GlyphRenderer\"}],\"root_ids\":[\"1214\"]},\"title\":\"Bokeh Application\",\"version\":\"1.2.0\"}};\n",
       "  var render_items = [{\"docid\":\"74db537c-91fe-491e-b99a-b8c07b1646e6\",\"roots\":{\"1214\":\"20ef0034-390e-486b-ac44-0dbf27fb4bd3\"}}];\n",
       "  root.Bokeh.embed.embed_items_notebook(docs_json, render_items);\n",
       "\n",
       "  }\n",
       "  if (root.Bokeh !== undefined) {\n",
       "    embed_document(root);\n",
       "  } else {\n",
       "    var attempts = 0;\n",
       "    var timer = setInterval(function(root) {\n",
       "      if (root.Bokeh !== undefined) {\n",
       "        embed_document(root);\n",
       "        clearInterval(timer);\n",
       "      }\n",
       "      attempts++;\n",
       "      if (attempts > 100) {\n",
       "        console.log(\"Bokeh: ERROR: Unable to run BokehJS code because BokehJS library is missing\");\n",
       "        clearInterval(timer);\n",
       "      }\n",
       "    }, 10, root)\n",
       "  }\n",
       "})(window);"
      ],
      "application/vnd.bokehjs_exec.v0+json": ""
     },
     "metadata": {
      "application/vnd.bokehjs_exec.v0+json": {
       "id": "1214"
      }
     },
     "output_type": "display_data"
    }
   ],
   "source": [
    "p = hl.plot.histogram(mt.GQ, range=(0, 100))\n",
    "p.xaxis.axis_label = 'Genotype quality'\n",
    "p.plot_width = 800\n",
    "p.plot_height = 500\n",
    "show(p)"
   ]
  },
  {
   "cell_type": "markdown",
   "id": "f594e88e-a5b5-4c45-81ce-fa47a111f07e",
   "metadata": {},
   "source": [
    "### Allelic balance\n",
    "\n",
    "Note that since we've split the table, all rows are diallelic.\n",
    "\n",
    "We compute the allelic balance as $AB = \\frac{AD[1]}{DP}$. Note that DP is equivalent to $AD[0] + AD[1]$ for a diallelic site.\n",
    "\n",
    "**NOTE:** It is important that we use the split dataset here."
   ]
  },
  {
   "cell_type": "code",
   "execution_count": 18,
   "id": "b8ce0a8d-85b3-432e-8bba-af3eb96b5364",
   "metadata": {},
   "outputs": [],
   "source": [
    "split_mt = split_mt.annotate_entries(AB = split_mt.AD[1] / split_mt.DP)"
   ]
  },
  {
   "cell_type": "code",
   "execution_count": 19,
   "id": "33fecbf9-204b-450f-8488-6ec7e2df10a9",
   "metadata": {},
   "outputs": [
    {
     "name": "stderr",
     "output_type": "stream",
     "text": [
      "[Stage 12:=======================================================>(73 + 1) / 74]"
     ]
    },
    {
     "data": {
      "text/html": [
       "\n",
       "\n",
       "\n",
       "\n",
       "\n",
       "\n",
       "  <div class=\"bk-root\" id=\"40529cc1-a04a-4cb4-80bb-c0459e0d56ec\" data-root-id=\"1324\"></div>\n"
      ]
     },
     "metadata": {},
     "output_type": "display_data"
    },
    {
     "data": {
      "application/javascript": [
       "(function(root) {\n",
       "  function embed_document(root) {\n",
       "    \n",
       "  var docs_json = {\"a8d6a1c1-bfcc-41e7-9221-0a4bcf521cda\":{\"roots\":{\"references\":[{\"attributes\":{\"background_fill_color\":{\"value\":\"#EEEEEE\"},\"below\":[{\"id\":\"1334\",\"type\":\"LinearAxis\"}],\"center\":[{\"id\":\"1338\",\"type\":\"Grid\"},{\"id\":\"1343\",\"type\":\"Grid\"}],\"left\":[{\"id\":\"1339\",\"type\":\"LinearAxis\"}],\"plot_height\":500,\"plot_width\":800,\"renderers\":[{\"id\":\"1360\",\"type\":\"GlyphRenderer\"}],\"title\":null,\"toolbar\":{\"id\":\"1350\",\"type\":\"Toolbar\"},\"x_range\":{\"id\":\"1326\",\"type\":\"Range1d\"},\"x_scale\":{\"id\":\"1330\",\"type\":\"LinearScale\"},\"y_range\":{\"id\":\"1328\",\"type\":\"DataRange1d\"},\"y_scale\":{\"id\":\"1332\",\"type\":\"LinearScale\"}},\"id\":\"1324\",\"subtype\":\"Figure\",\"type\":\"Plot\"},{\"attributes\":{\"bottom_units\":\"screen\",\"fill_alpha\":{\"value\":0.5},\"fill_color\":{\"value\":\"lightgrey\"},\"left_units\":\"screen\",\"level\":\"overlay\",\"line_alpha\":{\"value\":1.0},\"line_color\":{\"value\":\"black\"},\"line_dash\":[4,4],\"line_width\":{\"value\":2},\"render_mode\":\"css\",\"right_units\":\"screen\",\"top_units\":\"screen\"},\"id\":\"1391\",\"type\":\"BoxAnnotation\"},{\"attributes\":{},\"id\":\"1393\",\"type\":\"Selection\"},{\"attributes\":{},\"id\":\"1387\",\"type\":\"BasicTickFormatter\"},{\"attributes\":{},\"id\":\"1348\",\"type\":\"ResetTool\"},{\"attributes\":{\"dimension\":1,\"ticker\":{\"id\":\"1340\",\"type\":\"BasicTicker\"}},\"id\":\"1343\",\"type\":\"Grid\"},{\"attributes\":{\"callback\":null,\"data\":{\"left\":[0.0,0.02,0.04,0.06,0.08,0.1,0.12,0.14,0.16,0.18,0.2,0.22,0.24,0.26,0.28,0.3,0.32,0.34,0.36,0.38,0.4,0.42,0.44,0.46,0.48,0.5,0.52,0.54,0.56,0.58,0.6,0.62,0.64,0.66,0.68,0.7000000000000001,0.72,0.74,0.76,0.78,0.8,0.8200000000000001,0.84,0.86,0.88,0.9,0.92,0.9400000000000001,0.96,0.98],\"right\":[0.02,0.04,0.06,0.08,0.1,0.12,0.14,0.16,0.18,0.2,0.22,0.24,0.26,0.28,0.3,0.32,0.34,0.36,0.38,0.4,0.42,0.44,0.46,0.48,0.5,0.52,0.54,0.56,0.58,0.6,0.62,0.64,0.66,0.68,0.7000000000000001,0.72,0.74,0.76,0.78,0.8,0.8200000000000001,0.84,0.86,0.88,0.9,0.92,0.9400000000000001,0.96,0.98,1.0],\"top\":[3055363,8903,26946,241601,669434,1278070,1395234,1539268,1168500,878654,1274482,1032300,1078733,784189,968236,1102689,1674627,938189,1548843,1134931,2450391,2078284,2054515,2124281,1041606,4007771,1800617,1757438,1679467,986808,1662550,1052280,573587,1347828,578559,443931,319556,621098,252354,87971,408741,216602,161087,102172,93521,38366,20369,3141,445,612303]},\"selected\":{\"id\":\"1393\",\"type\":\"Selection\"},\"selection_policy\":{\"id\":\"1392\",\"type\":\"UnionRenderers\"}},\"id\":\"1357\",\"type\":\"ColumnDataSource\"},{\"attributes\":{},\"id\":\"1392\",\"type\":\"UnionRenderers\"},{\"attributes\":{},\"id\":\"1347\",\"type\":\"SaveTool\"},{\"attributes\":{\"source\":{\"id\":\"1357\",\"type\":\"ColumnDataSource\"}},\"id\":\"1361\",\"type\":\"CDSView\"},{\"attributes\":{},\"id\":\"1332\",\"type\":\"LinearScale\"},{\"attributes\":{\"data_source\":{\"id\":\"1357\",\"type\":\"ColumnDataSource\"},\"glyph\":{\"id\":\"1358\",\"type\":\"Quad\"},\"hover_glyph\":null,\"muted_glyph\":null,\"nonselection_glyph\":{\"id\":\"1359\",\"type\":\"Quad\"},\"selection_glyph\":null,\"view\":{\"id\":\"1361\",\"type\":\"CDSView\"}},\"id\":\"1360\",\"type\":\"GlyphRenderer\"},{\"attributes\":{\"bottom\":{\"value\":0},\"fill_color\":{\"value\":\"#1f77b4\"},\"left\":{\"field\":\"left\"},\"right\":{\"field\":\"right\"},\"top\":{\"field\":\"top\"}},\"id\":\"1358\",\"type\":\"Quad\"},{\"attributes\":{\"active_drag\":\"auto\",\"active_inspect\":\"auto\",\"active_multi\":null,\"active_scroll\":\"auto\",\"active_tap\":\"auto\",\"tools\":[{\"id\":\"1344\",\"type\":\"PanTool\"},{\"id\":\"1345\",\"type\":\"WheelZoomTool\"},{\"id\":\"1346\",\"type\":\"BoxZoomTool\"},{\"id\":\"1347\",\"type\":\"SaveTool\"},{\"id\":\"1348\",\"type\":\"ResetTool\"},{\"id\":\"1349\",\"type\":\"HelpTool\"}]},\"id\":\"1350\",\"type\":\"Toolbar\"},{\"attributes\":{},\"id\":\"1345\",\"type\":\"WheelZoomTool\"},{\"attributes\":{\"bottom\":{\"value\":0},\"fill_alpha\":{\"value\":0.1},\"fill_color\":{\"value\":\"#1f77b4\"},\"left\":{\"field\":\"left\"},\"line_alpha\":{\"value\":0.1},\"line_color\":{\"value\":\"#1f77b4\"},\"right\":{\"field\":\"right\"},\"top\":{\"field\":\"top\"}},\"id\":\"1359\",\"type\":\"Quad\"},{\"attributes\":{\"callback\":null},\"id\":\"1328\",\"type\":\"DataRange1d\"},{\"attributes\":{},\"id\":\"1349\",\"type\":\"HelpTool\"},{\"attributes\":{\"axis_label\":\"Allelic balance\",\"formatter\":{\"id\":\"1389\",\"type\":\"BasicTickFormatter\"},\"ticker\":{\"id\":\"1335\",\"type\":\"BasicTicker\"}},\"id\":\"1334\",\"type\":\"LinearAxis\"},{\"attributes\":{},\"id\":\"1340\",\"type\":\"BasicTicker\"},{\"attributes\":{\"ticker\":{\"id\":\"1335\",\"type\":\"BasicTicker\"}},\"id\":\"1338\",\"type\":\"Grid\"},{\"attributes\":{},\"id\":\"1330\",\"type\":\"LinearScale\"},{\"attributes\":{\"overlay\":{\"id\":\"1391\",\"type\":\"BoxAnnotation\"}},\"id\":\"1346\",\"type\":\"BoxZoomTool\"},{\"attributes\":{},\"id\":\"1335\",\"type\":\"BasicTicker\"},{\"attributes\":{\"axis_label\":\"Frequency\",\"formatter\":{\"id\":\"1387\",\"type\":\"BasicTickFormatter\"},\"ticker\":{\"id\":\"1340\",\"type\":\"BasicTicker\"}},\"id\":\"1339\",\"type\":\"LinearAxis\"},{\"attributes\":{\"callback\":null,\"end\":1.05,\"start\":-0.05},\"id\":\"1326\",\"type\":\"Range1d\"},{\"attributes\":{},\"id\":\"1389\",\"type\":\"BasicTickFormatter\"},{\"attributes\":{},\"id\":\"1344\",\"type\":\"PanTool\"}],\"root_ids\":[\"1324\"]},\"title\":\"Bokeh Application\",\"version\":\"1.2.0\"}};\n",
       "  var render_items = [{\"docid\":\"a8d6a1c1-bfcc-41e7-9221-0a4bcf521cda\",\"roots\":{\"1324\":\"40529cc1-a04a-4cb4-80bb-c0459e0d56ec\"}}];\n",
       "  root.Bokeh.embed.embed_items_notebook(docs_json, render_items);\n",
       "\n",
       "  }\n",
       "  if (root.Bokeh !== undefined) {\n",
       "    embed_document(root);\n",
       "  } else {\n",
       "    var attempts = 0;\n",
       "    var timer = setInterval(function(root) {\n",
       "      if (root.Bokeh !== undefined) {\n",
       "        embed_document(root);\n",
       "        clearInterval(timer);\n",
       "      }\n",
       "      attempts++;\n",
       "      if (attempts > 100) {\n",
       "        console.log(\"Bokeh: ERROR: Unable to run BokehJS code because BokehJS library is missing\");\n",
       "        clearInterval(timer);\n",
       "      }\n",
       "    }, 10, root)\n",
       "  }\n",
       "})(window);"
      ],
      "application/vnd.bokehjs_exec.v0+json": ""
     },
     "metadata": {
      "application/vnd.bokehjs_exec.v0+json": {
       "id": "1324"
      }
     },
     "output_type": "display_data"
    }
   ],
   "source": [
    "hets_mt = split_mt.filter_entries(split_mt.GT.is_het())\n",
    "p = hl.plot.histogram(hets_mt.AB, range=(0, 1))\n",
    "p.xaxis.axis_label = 'Allelic balance'\n",
    "p.plot_width = 800\n",
    "p.plot_height = 500\n",
    "show(p)"
   ]
  },
  {
   "cell_type": "markdown",
   "id": "82542e77-dfc9-4ef2-a9e7-1718cae1c01e",
   "metadata": {},
   "source": [
    "## Apply filters\n",
    "\n",
    "Remove all variants failing any of the VQSR filters.\n",
    "\n",
    "**NOTE:** We must not used the split dataset for filtering VQSR. This is because VQSR consideres all alleles in the site jointly (unless [allele specific annotations](https://gatk.broadinstitute.org/hc/en-us/articles/360035890551?id=9622) have been used).\n",
    "\n",
    "**FIXME:** be smart about when I use `hl.variant_qc()`."
   ]
  },
  {
   "cell_type": "code",
   "execution_count": 20,
   "id": "623f53c8-afda-4456-90c3-5e585fc259fe",
   "metadata": {},
   "outputs": [],
   "source": [
    "mt = mt.filter_rows(mt.filters == '')"
   ]
  },
  {
   "cell_type": "markdown",
   "id": "ffaf1441-45c6-4c5a-a9a0-cab5514f7378",
   "metadata": {},
   "source": [
    "We also use some hard filters. These are the same as the ones used in the single sample version of the [LinkSeq pipeline](https://github.com/olavurmortensen/linkseq/blob/master/main.nf#L593).\n",
    "\n",
    "**NOTE:** We here assume that there only two types of variants in the data, SNPs and indels."
   ]
  },
  {
   "cell_type": "code",
   "execution_count": 21,
   "id": "b96d191c-d2eb-44c0-8e06-6ba8a735cdb9",
   "metadata": {},
   "outputs": [],
   "source": [
    "mt = mt.filter_rows(hl.if_else(\n",
    "    hl.is_snp(mt.alleles[0],mt.alleles[1]),\n",
    "    (mt.info.QD > 2) & (mt.info.SOR < 3) & (mt.info.FS < 60) & (mt.info.MQ > 40) & (mt.info.MQRankSum > -12.5) & (mt.info.ReadPosRankSum > -8),\n",
    "    (mt.info.QD > 2) & (mt.info.FS < 200) & (mt.info.ReadPosRankSum > -20)))"
   ]
  },
  {
   "cell_type": "markdown",
   "id": "51e4d030-d7d1-447d-89fc-2d6b2a32a7b3",
   "metadata": {},
   "source": [
    "Filter genotypes with low quality (GQ), using GQ > 20 for SNPs and GQ > 40 for indels.\n",
    "\n",
    "After the filter some sites may have become invariant. These are removed.\n",
    "\n",
    "NOTE: Many (or most) of the lower quality genotypes, i.e. the low-end tail of the histogram above, are indels."
   ]
  },
  {
   "cell_type": "code",
   "execution_count": 22,
   "id": "4833384e-be27-4908-8751-8e6282407259",
   "metadata": {},
   "outputs": [],
   "source": [
    "mt = mt.filter_entries(hl.if_else(\n",
    "    hl.is_snp(mt.alleles[0],mt.alleles[1]),\n",
    "    mt.GQ > 20,\n",
    "    mt.GQ > 40))"
   ]
  },
  {
   "cell_type": "markdown",
   "id": "79449886-50eb-4b5e-a4b9-95a3cfe45a8f",
   "metadata": {},
   "source": [
    "Before we can filter by allelic balance and do HWE filtering, we need to split multi-allelic sites."
   ]
  },
  {
   "cell_type": "code",
   "execution_count": 23,
   "id": "5c24fb13-d503-464e-b27e-15db256d208b",
   "metadata": {},
   "outputs": [],
   "source": [
    "# NOTE: permit_shuffle is needed when there are duplicate loci, one of which has multiple alternate alleles. Apparently, this dataset has such sites.\n",
    "mt = hl.split_multi_hts(mt, permit_shuffle=True)"
   ]
  },
  {
   "cell_type": "markdown",
   "id": "8094081d-634e-45ce-bcb5-1cf1f05d98ac",
   "metadata": {},
   "source": [
    "Filter all heterozygotes with allelic balance outside the range of $]0.25;0.75[$."
   ]
  },
  {
   "cell_type": "code",
   "execution_count": 24,
   "id": "907ef152-29e0-4f26-88c3-b70635ea8ac2",
   "metadata": {},
   "outputs": [],
   "source": [
    "mt = mt.annotate_entries(AB = mt.AD[1] / mt.DP)"
   ]
  },
  {
   "cell_type": "code",
   "execution_count": 25,
   "id": "095fbfdc-86ac-4b3a-8974-e73f0151c689",
   "metadata": {},
   "outputs": [],
   "source": [
    "mt = mt.filter_entries(hl.if_else(\n",
    "    mt.GT.is_het(),\n",
    "    (mt.AB > 0.25) & (mt.AB < 0.75),\n",
    "    True))"
   ]
  },
  {
   "cell_type": "markdown",
   "id": "b8ee276b-8c08-4a72-849f-e79f98ac7a25",
   "metadata": {},
   "source": [
    "Remove variants that significantly deviate from HWE. We use a p-value of $10^{-9}$ for SNPs and $10^{-6}$ for indels. Since our criteria for indels is 1000 times more stringent than for SNPs, we cannot expect the indels to carry information about population structure and inbreeding."
   ]
  },
  {
   "cell_type": "code",
   "execution_count": 26,
   "id": "a834a883-afcb-45e4-8121-24364c315b34",
   "metadata": {},
   "outputs": [],
   "source": [
    "# Update variant statistics.\n",
    "mt = hl.variant_qc(mt)\n",
    "\n",
    "mt = mt.filter_rows(hl.if_else(\n",
    "    hl.is_snp(mt.alleles[0], mt.alleles[1]),\n",
    "    mt.variant_qc.p_value_hwe > 1e-9,\n",
    "    mt.variant_qc.p_value_hwe > 1e-6))"
   ]
  },
  {
   "cell_type": "markdown",
   "id": "b54c465b-a581-4417-b3f1-eeef51802a4b",
   "metadata": {},
   "source": [
    "Remove singletons."
   ]
  },
  {
   "cell_type": "code",
   "execution_count": 27,
   "id": "c98742c0-1916-42df-8445-7adc353811d1",
   "metadata": {},
   "outputs": [],
   "source": [
    "mt = mt.filter_rows(mt.variant_qc.AC[1] > 1)"
   ]
  },
  {
   "cell_type": "code",
   "execution_count": 28,
   "id": "0c371f14-fc3b-468a-adc4-d016ebd4b5ef",
   "metadata": {},
   "outputs": [
    {
     "name": "stderr",
     "output_type": "stream",
     "text": [
      "[Stage 13:=======================================================>(73 + 1) / 74]"
     ]
    },
    {
     "data": {
      "text/html": [
       "<div>\n",
       "<style scoped>\n",
       "    .dataframe tbody tr th:only-of-type {\n",
       "        vertical-align: middle;\n",
       "    }\n",
       "\n",
       "    .dataframe tbody tr th {\n",
       "        vertical-align: top;\n",
       "    }\n",
       "\n",
       "    .dataframe thead th {\n",
       "        text-align: right;\n",
       "    }\n",
       "</style>\n",
       "<table border=\"1\" class=\"dataframe\">\n",
       "  <thead>\n",
       "    <tr style=\"text-align: right;\">\n",
       "      <th></th>\n",
       "      <th></th>\n",
       "    </tr>\n",
       "  </thead>\n",
       "  <tbody>\n",
       "    <tr>\n",
       "      <th>n_variants</th>\n",
       "      <td>148305.000000</td>\n",
       "    </tr>\n",
       "    <tr>\n",
       "      <th>snps_fraction</th>\n",
       "      <td>0.841172</td>\n",
       "    </tr>\n",
       "    <tr>\n",
       "      <th>insertions_fraction</th>\n",
       "      <td>0.072648</td>\n",
       "    </tr>\n",
       "    <tr>\n",
       "      <th>deletions_fraction</th>\n",
       "      <td>0.086181</td>\n",
       "    </tr>\n",
       "    <tr>\n",
       "      <th>mnp_fraction</th>\n",
       "      <td>0.000000</td>\n",
       "    </tr>\n",
       "    <tr>\n",
       "      <th>complex_fraction</th>\n",
       "      <td>0.000000</td>\n",
       "    </tr>\n",
       "    <tr>\n",
       "      <th>star_fraction</th>\n",
       "      <td>0.000000</td>\n",
       "    </tr>\n",
       "  </tbody>\n",
       "</table>\n",
       "</div>"
      ],
      "text/plain": [
       "                                  \n",
       "n_variants           148305.000000\n",
       "snps_fraction             0.841172\n",
       "insertions_fraction       0.072648\n",
       "deletions_fraction        0.086181\n",
       "mnp_fraction              0.000000\n",
       "complex_fraction          0.000000\n",
       "star_fraction             0.000000"
      ]
     },
     "execution_count": 28,
     "metadata": {},
     "output_type": "execute_result"
    }
   ],
   "source": [
    "variant_counts(mt)"
   ]
  },
  {
   "cell_type": "markdown",
   "id": "middle-seafood",
   "metadata": {},
   "source": [
    "## Sample QC\n",
    "\n",
    "Below we see histograms of sample mean genotype quality and genotype depth. Most samples seem to have good depth and quality, although the deviation between samples is quite large. There are some samples with low depth and quality, but we will not worry about these."
   ]
  },
  {
   "cell_type": "code",
   "execution_count": 29,
   "id": "62a75cc3-0cf1-4c64-b7f0-b473e681f07d",
   "metadata": {},
   "outputs": [],
   "source": [
    "mt = hl.sample_qc(mt)"
   ]
  },
  {
   "cell_type": "code",
   "execution_count": 30,
   "id": "worth-desperate",
   "metadata": {},
   "outputs": [
    {
     "name": "stderr",
     "output_type": "stream",
     "text": [
      "[Stage 14:=======================================================>(73 + 1) / 74]"
     ]
    },
    {
     "data": {
      "text/html": [
       "\n",
       "\n",
       "\n",
       "\n",
       "\n",
       "\n",
       "  <div class=\"bk-root\" id=\"5998645d-d31d-4ad3-a7ed-fc980f3aa2e9\" data-root-id=\"1442\"></div>\n"
      ]
     },
     "metadata": {},
     "output_type": "display_data"
    },
    {
     "data": {
      "application/javascript": [
       "(function(root) {\n",
       "  function embed_document(root) {\n",
       "    \n",
       "  var docs_json = {\"2a5ec372-7ebc-4ce8-8b02-67066f8a87dc\":{\"roots\":{\"references\":[{\"attributes\":{\"background_fill_color\":{\"value\":\"#EEEEEE\"},\"below\":[{\"id\":\"1452\",\"type\":\"LinearAxis\"}],\"center\":[{\"id\":\"1456\",\"type\":\"Grid\"},{\"id\":\"1461\",\"type\":\"Grid\"},{\"id\":\"1486\",\"type\":\"Legend\"}],\"left\":[{\"id\":\"1457\",\"type\":\"LinearAxis\"}],\"plot_height\":500,\"plot_width\":800,\"renderers\":[{\"id\":\"1478\",\"type\":\"GlyphRenderer\"}],\"title\":null,\"toolbar\":{\"id\":\"1468\",\"type\":\"Toolbar\"},\"x_range\":{\"id\":\"1444\",\"type\":\"Range1d\"},\"x_scale\":{\"id\":\"1448\",\"type\":\"LinearScale\"},\"y_range\":{\"id\":\"1446\",\"type\":\"DataRange1d\"},\"y_scale\":{\"id\":\"1450\",\"type\":\"LinearScale\"}},\"id\":\"1442\",\"subtype\":\"Figure\",\"type\":\"Plot\"},{\"attributes\":{\"bottom\":{\"value\":0},\"fill_color\":{\"value\":\"#1f77b4\"},\"left\":{\"field\":\"left\"},\"right\":{\"field\":\"right\"},\"top\":{\"field\":\"top\"}},\"id\":\"1476\",\"type\":\"Quad\"},{\"attributes\":{\"items\":[{\"id\":\"1487\",\"type\":\"LegendItem\"}]},\"id\":\"1486\",\"type\":\"Legend\"},{\"attributes\":{},\"id\":\"1448\",\"type\":\"LinearScale\"},{\"attributes\":{},\"id\":\"1481\",\"type\":\"BasicTickFormatter\"},{\"attributes\":{},\"id\":\"1526\",\"type\":\"UnionRenderers\"},{\"attributes\":{\"ticker\":{\"id\":\"1453\",\"type\":\"BasicTicker\"}},\"id\":\"1456\",\"type\":\"Grid\"},{\"attributes\":{},\"id\":\"1466\",\"type\":\"ResetTool\"},{\"attributes\":{},\"id\":\"1467\",\"type\":\"HelpTool\"},{\"attributes\":{\"overlay\":{\"id\":\"1485\",\"type\":\"BoxAnnotation\"}},\"id\":\"1464\",\"type\":\"BoxZoomTool\"},{\"attributes\":{},\"id\":\"1453\",\"type\":\"BasicTicker\"},{\"attributes\":{\"callback\":null},\"id\":\"1446\",\"type\":\"DataRange1d\"},{\"attributes\":{\"bottom_units\":\"screen\",\"fill_alpha\":{\"value\":0.5},\"fill_color\":{\"value\":\"lightgrey\"},\"left_units\":\"screen\",\"level\":\"overlay\",\"line_alpha\":{\"value\":1.0},\"line_color\":{\"value\":\"black\"},\"line_dash\":[4,4],\"line_width\":{\"value\":2},\"render_mode\":\"css\",\"right_units\":\"screen\",\"top_units\":\"screen\"},\"id\":\"1485\",\"type\":\"BoxAnnotation\"},{\"attributes\":{},\"id\":\"1462\",\"type\":\"PanTool\"},{\"attributes\":{},\"id\":\"1450\",\"type\":\"LinearScale\"},{\"attributes\":{},\"id\":\"1527\",\"type\":\"Selection\"},{\"attributes\":{},\"id\":\"1483\",\"type\":\"BasicTickFormatter\"},{\"attributes\":{},\"id\":\"1463\",\"type\":\"WheelZoomTool\"},{\"attributes\":{\"callback\":null,\"end\":105.0,\"start\":-5.0},\"id\":\"1444\",\"type\":\"Range1d\"},{\"attributes\":{\"callback\":null,\"data\":{\"left\":[0.0,2.0,4.0,6.0,8.0,10.0,12.0,14.0,16.0,18.0,20.0,22.0,24.0,26.0,28.0,30.0,32.0,34.0,36.0,38.0,40.0,42.0,44.0,46.0,48.0,50.0,52.0,54.0,56.0,58.0,60.0,62.0,64.0,66.0,68.0,70.0,72.0,74.0,76.0,78.0,80.0,82.0,84.0,86.0,88.0,90.0,92.0,94.0,96.0,98.0],\"right\":[2.0,4.0,6.0,8.0,10.0,12.0,14.0,16.0,18.0,20.0,22.0,24.0,26.0,28.0,30.0,32.0,34.0,36.0,38.0,40.0,42.0,44.0,46.0,48.0,50.0,52.0,54.0,56.0,58.0,60.0,62.0,64.0,66.0,68.0,70.0,72.0,74.0,76.0,78.0,80.0,82.0,84.0,86.0,88.0,90.0,92.0,94.0,96.0,98.0,100.0],\"top\":[0,0,0,0,0,0,0,0,0,0,0,0,0,0,0,0,0,0,0,0,0,1,0,0,1,1,0,1,3,2,3,6,3,6,7,16,24,24,37,42,53,65,52,54,31,25,10,5,1,0]},\"selected\":{\"id\":\"1527\",\"type\":\"Selection\"},\"selection_policy\":{\"id\":\"1526\",\"type\":\"UnionRenderers\"}},\"id\":\"1475\",\"type\":\"ColumnDataSource\"},{\"attributes\":{\"axis_label\":\"Mean Sample GQ\",\"formatter\":{\"id\":\"1483\",\"type\":\"BasicTickFormatter\"},\"ticker\":{\"id\":\"1453\",\"type\":\"BasicTicker\"}},\"id\":\"1452\",\"type\":\"LinearAxis\"},{\"attributes\":{\"active_drag\":\"auto\",\"active_inspect\":\"auto\",\"active_multi\":null,\"active_scroll\":\"auto\",\"active_tap\":\"auto\",\"tools\":[{\"id\":\"1462\",\"type\":\"PanTool\"},{\"id\":\"1463\",\"type\":\"WheelZoomTool\"},{\"id\":\"1464\",\"type\":\"BoxZoomTool\"},{\"id\":\"1465\",\"type\":\"SaveTool\"},{\"id\":\"1466\",\"type\":\"ResetTool\"},{\"id\":\"1467\",\"type\":\"HelpTool\"}]},\"id\":\"1468\",\"type\":\"Toolbar\"},{\"attributes\":{\"bottom\":{\"value\":0},\"fill_alpha\":{\"value\":0.1},\"fill_color\":{\"value\":\"#1f77b4\"},\"left\":{\"field\":\"left\"},\"line_alpha\":{\"value\":0.1},\"line_color\":{\"value\":\"#1f77b4\"},\"right\":{\"field\":\"right\"},\"top\":{\"field\":\"top\"}},\"id\":\"1477\",\"type\":\"Quad\"},{\"attributes\":{\"source\":{\"id\":\"1475\",\"type\":\"ColumnDataSource\"}},\"id\":\"1479\",\"type\":\"CDSView\"},{\"attributes\":{\"dimension\":1,\"ticker\":{\"id\":\"1458\",\"type\":\"BasicTicker\"}},\"id\":\"1461\",\"type\":\"Grid\"},{\"attributes\":{\"data_source\":{\"id\":\"1475\",\"type\":\"ColumnDataSource\"},\"glyph\":{\"id\":\"1476\",\"type\":\"Quad\"},\"hover_glyph\":null,\"muted_glyph\":null,\"nonselection_glyph\":{\"id\":\"1477\",\"type\":\"Quad\"},\"selection_glyph\":null,\"view\":{\"id\":\"1479\",\"type\":\"CDSView\"}},\"id\":\"1478\",\"type\":\"GlyphRenderer\"},{\"attributes\":{},\"id\":\"1458\",\"type\":\"BasicTicker\"},{\"attributes\":{},\"id\":\"1465\",\"type\":\"SaveTool\"},{\"attributes\":{\"label\":{\"value\":\"Mean Sample GQ\"},\"renderers\":[{\"id\":\"1478\",\"type\":\"GlyphRenderer\"}]},\"id\":\"1487\",\"type\":\"LegendItem\"},{\"attributes\":{\"axis_label\":\"Frequency\",\"formatter\":{\"id\":\"1481\",\"type\":\"BasicTickFormatter\"},\"ticker\":{\"id\":\"1458\",\"type\":\"BasicTicker\"}},\"id\":\"1457\",\"type\":\"LinearAxis\"}],\"root_ids\":[\"1442\"]},\"title\":\"Bokeh Application\",\"version\":\"1.2.0\"}};\n",
       "  var render_items = [{\"docid\":\"2a5ec372-7ebc-4ce8-8b02-67066f8a87dc\",\"roots\":{\"1442\":\"5998645d-d31d-4ad3-a7ed-fc980f3aa2e9\"}}];\n",
       "  root.Bokeh.embed.embed_items_notebook(docs_json, render_items);\n",
       "\n",
       "  }\n",
       "  if (root.Bokeh !== undefined) {\n",
       "    embed_document(root);\n",
       "  } else {\n",
       "    var attempts = 0;\n",
       "    var timer = setInterval(function(root) {\n",
       "      if (root.Bokeh !== undefined) {\n",
       "        embed_document(root);\n",
       "        clearInterval(timer);\n",
       "      }\n",
       "      attempts++;\n",
       "      if (attempts > 100) {\n",
       "        console.log(\"Bokeh: ERROR: Unable to run BokehJS code because BokehJS library is missing\");\n",
       "        clearInterval(timer);\n",
       "      }\n",
       "    }, 10, root)\n",
       "  }\n",
       "})(window);"
      ],
      "application/vnd.bokehjs_exec.v0+json": ""
     },
     "metadata": {
      "application/vnd.bokehjs_exec.v0+json": {
       "id": "1442"
      }
     },
     "output_type": "display_data"
    }
   ],
   "source": [
    "p = hl.plot.histogram(mt.sample_qc.gq_stats.mean, range=(0,100), legend='Mean Sample GQ')\n",
    "p.plot_width = 800\n",
    "p.plot_height = 500\n",
    "show(p)"
   ]
  },
  {
   "cell_type": "code",
   "execution_count": 31,
   "id": "manufactured-guidance",
   "metadata": {},
   "outputs": [
    {
     "name": "stderr",
     "output_type": "stream",
     "text": [
      "[Stage 17:=======================================================>(73 + 1) / 74]"
     ]
    },
    {
     "data": {
      "text/html": [
       "\n",
       "\n",
       "\n",
       "\n",
       "\n",
       "\n",
       "  <div class=\"bk-root\" id=\"9b79b0f7-b6b2-4772-9047-5628bf9437ec\" data-root-id=\"1576\"></div>\n"
      ]
     },
     "metadata": {},
     "output_type": "display_data"
    },
    {
     "data": {
      "application/javascript": [
       "(function(root) {\n",
       "  function embed_document(root) {\n",
       "    \n",
       "  var docs_json = {\"cc6f2d7c-ee3b-41ae-b550-87bc7d80de21\":{\"roots\":{\"references\":[{\"attributes\":{\"background_fill_color\":{\"value\":\"#EEEEEE\"},\"below\":[{\"id\":\"1586\",\"type\":\"LinearAxis\"}],\"center\":[{\"id\":\"1590\",\"type\":\"Grid\"},{\"id\":\"1595\",\"type\":\"Grid\"},{\"id\":\"1620\",\"type\":\"Legend\"}],\"left\":[{\"id\":\"1591\",\"type\":\"LinearAxis\"}],\"plot_height\":500,\"plot_width\":800,\"renderers\":[{\"id\":\"1612\",\"type\":\"GlyphRenderer\"},{\"id\":\"1625\",\"type\":\"GlyphRenderer\"}],\"title\":null,\"toolbar\":{\"id\":\"1602\",\"type\":\"Toolbar\"},\"x_range\":{\"id\":\"1578\",\"type\":\"Range1d\"},\"x_scale\":{\"id\":\"1582\",\"type\":\"LinearScale\"},\"y_range\":{\"id\":\"1580\",\"type\":\"DataRange1d\"},\"y_scale\":{\"id\":\"1584\",\"type\":\"LinearScale\"}},\"id\":\"1576\",\"subtype\":\"Figure\",\"type\":\"Plot\"},{\"attributes\":{},\"id\":\"1601\",\"type\":\"HelpTool\"},{\"attributes\":{},\"id\":\"1615\",\"type\":\"BasicTickFormatter\"},{\"attributes\":{\"overlay\":{\"id\":\"1619\",\"type\":\"BoxAnnotation\"}},\"id\":\"1598\",\"type\":\"BoxZoomTool\"},{\"attributes\":{\"callback\":null,\"data\":{\"left\":[0.0,1.2,2.4,3.5999999999999996,4.8,6.0,7.199999999999999,8.4,9.6,10.799999999999999,12.0,13.2,14.399999999999999,15.6,16.8,18.0,19.2,20.4,21.599999999999998,22.8,24.0,25.2,26.4,27.599999999999998,28.799999999999997,30.0,31.2,32.4,33.6,34.8,36.0,37.199999999999996,38.4,39.6,40.8,42.0,43.199999999999996,44.4,45.6,46.8,48.0,49.199999999999996,50.4,51.6,52.8,54.0,55.199999999999996,56.4,57.599999999999994,58.8],\"right\":[1.2,2.4,3.5999999999999996,4.8,6.0,7.199999999999999,8.4,9.6,10.799999999999999,12.0,13.2,14.399999999999999,15.6,16.8,18.0,19.2,20.4,21.599999999999998,22.8,24.0,25.2,26.4,27.599999999999998,28.799999999999997,30.0,31.2,32.4,33.6,34.8,36.0,37.199999999999996,38.4,39.6,40.8,42.0,43.199999999999996,44.4,45.6,46.8,48.0,49.199999999999996,50.4,51.6,52.8,54.0,55.199999999999996,56.4,57.599999999999994,58.8,60.0],\"top\":[0,0,0,0,0,0,0,0,0,0,1,1,0,1,3,2,4,7,3,2,13,10,10,16,18,24,17,18,26,36,18,33,26,25,22,23,13,19,17,5,9,4,11,8,1,6,4,4,2,0]},\"selected\":{\"id\":\"1634\",\"type\":\"Selection\"},\"selection_policy\":{\"id\":\"1633\",\"type\":\"UnionRenderers\"}},\"id\":\"1609\",\"type\":\"ColumnDataSource\"},{\"attributes\":{},\"id\":\"1633\",\"type\":\"UnionRenderers\"},{\"attributes\":{\"axis_label\":\"Mean Sample DP\",\"formatter\":{\"id\":\"1617\",\"type\":\"BasicTickFormatter\"},\"ticker\":{\"id\":\"1587\",\"type\":\"BasicTicker\"}},\"id\":\"1586\",\"type\":\"LinearAxis\"},{\"attributes\":{\"label\":{\"value\":\"Mean Sample DP\"},\"renderers\":[{\"id\":\"1612\",\"type\":\"GlyphRenderer\"}]},\"id\":\"1621\",\"type\":\"LegendItem\"},{\"attributes\":{},\"id\":\"1584\",\"type\":\"LinearScale\"},{\"attributes\":{\"bottom\":{\"value\":0},\"fill_alpha\":{\"value\":0.1},\"fill_color\":{\"value\":\"#1f77b4\"},\"left\":{\"field\":\"left\"},\"line_alpha\":{\"value\":0.1},\"line_color\":{\"value\":\"#1f77b4\"},\"right\":{\"field\":\"right\"},\"top\":{\"field\":\"top\"}},\"id\":\"1611\",\"type\":\"Quad\"},{\"attributes\":{},\"id\":\"1685\",\"type\":\"Selection\"},{\"attributes\":{\"callback\":null},\"id\":\"1580\",\"type\":\"DataRange1d\"},{\"attributes\":{\"bottom\":{\"value\":0},\"fill_color\":{\"value\":\"green\"},\"left\":{\"value\":60.0},\"right\":{\"value\":61.2},\"top\":{\"value\":11}},\"id\":\"1623\",\"type\":\"Quad\"},{\"attributes\":{\"callback\":null,\"end\":63.0,\"start\":-3.0},\"id\":\"1578\",\"type\":\"Range1d\"},{\"attributes\":{},\"id\":\"1597\",\"type\":\"WheelZoomTool\"},{\"attributes\":{\"callback\":null,\"data\":{},\"selected\":{\"id\":\"1685\",\"type\":\"Selection\"},\"selection_policy\":{\"id\":\"1684\",\"type\":\"UnionRenderers\"}},\"id\":\"1622\",\"type\":\"ColumnDataSource\"},{\"attributes\":{\"active_drag\":\"auto\",\"active_inspect\":\"auto\",\"active_multi\":null,\"active_scroll\":\"auto\",\"active_tap\":\"auto\",\"tools\":[{\"id\":\"1596\",\"type\":\"PanTool\"},{\"id\":\"1597\",\"type\":\"WheelZoomTool\"},{\"id\":\"1598\",\"type\":\"BoxZoomTool\"},{\"id\":\"1599\",\"type\":\"SaveTool\"},{\"id\":\"1600\",\"type\":\"ResetTool\"},{\"id\":\"1601\",\"type\":\"HelpTool\"}]},\"id\":\"1602\",\"type\":\"Toolbar\"},{\"attributes\":{},\"id\":\"1587\",\"type\":\"BasicTicker\"},{\"attributes\":{\"bottom_units\":\"screen\",\"fill_alpha\":{\"value\":0.5},\"fill_color\":{\"value\":\"lightgrey\"},\"left_units\":\"screen\",\"level\":\"overlay\",\"line_alpha\":{\"value\":1.0},\"line_color\":{\"value\":\"black\"},\"line_dash\":[4,4],\"line_width\":{\"value\":2},\"render_mode\":\"css\",\"right_units\":\"screen\",\"top_units\":\"screen\"},\"id\":\"1619\",\"type\":\"BoxAnnotation\"},{\"attributes\":{\"label\":{\"value\":\"Outliers Above\"},\"renderers\":[{\"id\":\"1625\",\"type\":\"GlyphRenderer\"}]},\"id\":\"1635\",\"type\":\"LegendItem\"},{\"attributes\":{\"data_source\":{\"id\":\"1609\",\"type\":\"ColumnDataSource\"},\"glyph\":{\"id\":\"1610\",\"type\":\"Quad\"},\"hover_glyph\":null,\"muted_glyph\":null,\"nonselection_glyph\":{\"id\":\"1611\",\"type\":\"Quad\"},\"selection_glyph\":null,\"view\":{\"id\":\"1613\",\"type\":\"CDSView\"}},\"id\":\"1612\",\"type\":\"GlyphRenderer\"},{\"attributes\":{\"source\":{\"id\":\"1622\",\"type\":\"ColumnDataSource\"}},\"id\":\"1626\",\"type\":\"CDSView\"},{\"attributes\":{},\"id\":\"1582\",\"type\":\"LinearScale\"},{\"attributes\":{},\"id\":\"1617\",\"type\":\"BasicTickFormatter\"},{\"attributes\":{\"dimension\":1,\"ticker\":{\"id\":\"1592\",\"type\":\"BasicTicker\"}},\"id\":\"1595\",\"type\":\"Grid\"},{\"attributes\":{},\"id\":\"1684\",\"type\":\"UnionRenderers\"},{\"attributes\":{},\"id\":\"1596\",\"type\":\"PanTool\"},{\"attributes\":{\"data_source\":{\"id\":\"1622\",\"type\":\"ColumnDataSource\"},\"glyph\":{\"id\":\"1623\",\"type\":\"Quad\"},\"hover_glyph\":null,\"muted_glyph\":null,\"nonselection_glyph\":{\"id\":\"1624\",\"type\":\"Quad\"},\"selection_glyph\":null,\"view\":{\"id\":\"1626\",\"type\":\"CDSView\"}},\"id\":\"1625\",\"type\":\"GlyphRenderer\"},{\"attributes\":{\"source\":{\"id\":\"1609\",\"type\":\"ColumnDataSource\"}},\"id\":\"1613\",\"type\":\"CDSView\"},{\"attributes\":{\"bottom\":{\"value\":0},\"fill_alpha\":{\"value\":0.1},\"fill_color\":{\"value\":\"#1f77b4\"},\"left\":{\"value\":60.0},\"line_alpha\":{\"value\":0.1},\"line_color\":{\"value\":\"#1f77b4\"},\"right\":{\"value\":61.2},\"top\":{\"value\":11}},\"id\":\"1624\",\"type\":\"Quad\"},{\"attributes\":{\"bottom\":{\"value\":0},\"fill_color\":{\"value\":\"#1f77b4\"},\"left\":{\"field\":\"left\"},\"right\":{\"field\":\"right\"},\"top\":{\"field\":\"top\"}},\"id\":\"1610\",\"type\":\"Quad\"},{\"attributes\":{},\"id\":\"1592\",\"type\":\"BasicTicker\"},{\"attributes\":{\"items\":[{\"id\":\"1621\",\"type\":\"LegendItem\"},{\"id\":\"1635\",\"type\":\"LegendItem\"}]},\"id\":\"1620\",\"type\":\"Legend\"},{\"attributes\":{\"axis_label\":\"Frequency\",\"formatter\":{\"id\":\"1615\",\"type\":\"BasicTickFormatter\"},\"ticker\":{\"id\":\"1592\",\"type\":\"BasicTicker\"}},\"id\":\"1591\",\"type\":\"LinearAxis\"},{\"attributes\":{},\"id\":\"1599\",\"type\":\"SaveTool\"},{\"attributes\":{},\"id\":\"1634\",\"type\":\"Selection\"},{\"attributes\":{\"ticker\":{\"id\":\"1587\",\"type\":\"BasicTicker\"}},\"id\":\"1590\",\"type\":\"Grid\"},{\"attributes\":{},\"id\":\"1600\",\"type\":\"ResetTool\"}],\"root_ids\":[\"1576\"]},\"title\":\"Bokeh Application\",\"version\":\"1.2.0\"}};\n",
       "  var render_items = [{\"docid\":\"cc6f2d7c-ee3b-41ae-b550-87bc7d80de21\",\"roots\":{\"1576\":\"9b79b0f7-b6b2-4772-9047-5628bf9437ec\"}}];\n",
       "  root.Bokeh.embed.embed_items_notebook(docs_json, render_items);\n",
       "\n",
       "  }\n",
       "  if (root.Bokeh !== undefined) {\n",
       "    embed_document(root);\n",
       "  } else {\n",
       "    var attempts = 0;\n",
       "    var timer = setInterval(function(root) {\n",
       "      if (root.Bokeh !== undefined) {\n",
       "        embed_document(root);\n",
       "        clearInterval(timer);\n",
       "      }\n",
       "      attempts++;\n",
       "      if (attempts > 100) {\n",
       "        console.log(\"Bokeh: ERROR: Unable to run BokehJS code because BokehJS library is missing\");\n",
       "        clearInterval(timer);\n",
       "      }\n",
       "    }, 10, root)\n",
       "  }\n",
       "})(window);"
      ],
      "application/vnd.bokehjs_exec.v0+json": ""
     },
     "metadata": {
      "application/vnd.bokehjs_exec.v0+json": {
       "id": "1576"
      }
     },
     "output_type": "display_data"
    }
   ],
   "source": [
    "p = hl.plot.histogram(mt.sample_qc.dp_stats.mean, range=(0,60), legend='Mean Sample DP')\n",
    "p.plot_width = 800\n",
    "p.plot_height = 500\n",
    "show(p)"
   ]
  },
  {
   "cell_type": "markdown",
   "id": "dcd465d8-a592-4f6c-adac-68228767c8c0",
   "metadata": {},
   "source": [
    "Below is a histogram of the heterozygote/homozygote ratio."
   ]
  },
  {
   "cell_type": "code",
   "execution_count": 32,
   "id": "outstanding-mississippi",
   "metadata": {},
   "outputs": [
    {
     "name": "stderr",
     "output_type": "stream",
     "text": [
      "[Stage 23:=======================================================>(73 + 1) / 74]"
     ]
    },
    {
     "data": {
      "text/html": [
       "\n",
       "\n",
       "\n",
       "\n",
       "\n",
       "\n",
       "  <div class=\"bk-root\" id=\"ba25e412-5c34-4031-beef-014575a219ba\" data-root-id=\"1746\"></div>\n"
      ]
     },
     "metadata": {},
     "output_type": "display_data"
    },
    {
     "data": {
      "application/javascript": [
       "(function(root) {\n",
       "  function embed_document(root) {\n",
       "    \n",
       "  var docs_json = {\"5aa4b680-38fe-48cb-890e-5425db1a03a1\":{\"roots\":{\"references\":[{\"attributes\":{\"background_fill_color\":{\"value\":\"#EEEEEE\"},\"below\":[{\"id\":\"1756\",\"type\":\"LinearAxis\"}],\"center\":[{\"id\":\"1760\",\"type\":\"Grid\"},{\"id\":\"1765\",\"type\":\"Grid\"},{\"id\":\"1790\",\"type\":\"Legend\"}],\"left\":[{\"id\":\"1761\",\"type\":\"LinearAxis\"}],\"plot_height\":500,\"plot_width\":800,\"renderers\":[{\"id\":\"1782\",\"type\":\"GlyphRenderer\"}],\"title\":null,\"toolbar\":{\"id\":\"1772\",\"type\":\"Toolbar\"},\"x_range\":{\"id\":\"1748\",\"type\":\"Range1d\"},\"x_scale\":{\"id\":\"1752\",\"type\":\"LinearScale\"},\"y_range\":{\"id\":\"1750\",\"type\":\"DataRange1d\"},\"y_scale\":{\"id\":\"1754\",\"type\":\"LinearScale\"}},\"id\":\"1746\",\"subtype\":\"Figure\",\"type\":\"Plot\"},{\"attributes\":{},\"id\":\"1762\",\"type\":\"BasicTicker\"},{\"attributes\":{\"source\":{\"id\":\"1779\",\"type\":\"ColumnDataSource\"}},\"id\":\"1783\",\"type\":\"CDSView\"},{\"attributes\":{},\"id\":\"1767\",\"type\":\"WheelZoomTool\"},{\"attributes\":{\"overlay\":{\"id\":\"1789\",\"type\":\"BoxAnnotation\"}},\"id\":\"1768\",\"type\":\"BoxZoomTool\"},{\"attributes\":{\"bottom\":{\"value\":0},\"fill_color\":{\"value\":\"#1f77b4\"},\"left\":{\"field\":\"left\"},\"right\":{\"field\":\"right\"},\"top\":{\"field\":\"top\"}},\"id\":\"1780\",\"type\":\"Quad\"},{\"attributes\":{},\"id\":\"1848\",\"type\":\"UnionRenderers\"},{\"attributes\":{\"active_drag\":\"auto\",\"active_inspect\":\"auto\",\"active_multi\":null,\"active_scroll\":\"auto\",\"active_tap\":\"auto\",\"tools\":[{\"id\":\"1766\",\"type\":\"PanTool\"},{\"id\":\"1767\",\"type\":\"WheelZoomTool\"},{\"id\":\"1768\",\"type\":\"BoxZoomTool\"},{\"id\":\"1769\",\"type\":\"SaveTool\"},{\"id\":\"1770\",\"type\":\"ResetTool\"},{\"id\":\"1771\",\"type\":\"HelpTool\"}]},\"id\":\"1772\",\"type\":\"Toolbar\"},{\"attributes\":{\"callback\":null,\"data\":{\"left\":[1.4233559882439384,1.4724794747791612,1.521602961314384,1.5707264478496068,1.6198499343848298,1.6689734209200526,1.7180969074552754,1.7672203939904982,1.816343880525721,1.865467367060944,1.9145908535961669,1.9637143401313897,2.0128378266666127,2.0619613132018353,2.1110847997370583,2.1602082862722813,2.209331772807504,2.2584552593427265,2.3075787458779495,2.3567022324131726,2.405825718948395,2.454949205483618,2.504072692018841,2.5531961785540638,2.6023196650892864,2.65144315162451,2.7005666381597324,2.749690124694955,2.798813611230178,2.847937097765401,2.8970605843006236,2.9461840708358467,2.9953075573710697,3.0444310439062923,3.093554530441515,3.1426780169767383,3.191801503511961,3.2409249900471835,3.2900484765824065,3.3391719631176295,3.388295449652852,3.4374189361880747,3.486542422723298,3.5356659092585208,3.5847893957937433,3.633912882328967,3.6830363688641894,3.732159855399412,3.7812833419346346,3.830406828469858],\"right\":[1.4724794747791612,1.521602961314384,1.5707264478496068,1.6198499343848298,1.6689734209200526,1.7180969074552754,1.7672203939904982,1.816343880525721,1.865467367060944,1.9145908535961669,1.9637143401313897,2.0128378266666127,2.0619613132018353,2.1110847997370583,2.1602082862722813,2.209331772807504,2.2584552593427265,2.3075787458779495,2.3567022324131726,2.405825718948395,2.454949205483618,2.504072692018841,2.5531961785540638,2.6023196650892864,2.65144315162451,2.7005666381597324,2.749690124694955,2.798813611230178,2.847937097765401,2.8970605843006236,2.9461840708358467,2.9953075573710697,3.0444310439062923,3.093554530441515,3.1426780169767383,3.191801503511961,3.2409249900471835,3.2900484765824065,3.3391719631176295,3.388295449652852,3.4374189361880747,3.486542422723298,3.5356659092585208,3.5847893957937433,3.633912882328967,3.6830363688641894,3.732159855399412,3.7812833419346346,3.830406828469858,3.8795303150050806],\"top\":[1,1,1,0,2,6,35,118,153,101,35,9,2,4,0,0,0,0,1,0,0,0,0,0,0,0,0,0,0,0,0,0,0,0,0,0,0,0,0,0,0,0,0,0,0,0,1,0,0,3]},\"selected\":{\"id\":\"1849\",\"type\":\"Selection\"},\"selection_policy\":{\"id\":\"1848\",\"type\":\"UnionRenderers\"}},\"id\":\"1779\",\"type\":\"ColumnDataSource\"},{\"attributes\":{},\"id\":\"1752\",\"type\":\"LinearScale\"},{\"attributes\":{},\"id\":\"1770\",\"type\":\"ResetTool\"},{\"attributes\":{},\"id\":\"1769\",\"type\":\"SaveTool\"},{\"attributes\":{},\"id\":\"1766\",\"type\":\"PanTool\"},{\"attributes\":{},\"id\":\"1849\",\"type\":\"Selection\"},{\"attributes\":{\"items\":[{\"id\":\"1791\",\"type\":\"LegendItem\"}]},\"id\":\"1790\",\"type\":\"Legend\"},{\"attributes\":{\"ticker\":{\"id\":\"1757\",\"type\":\"BasicTicker\"}},\"id\":\"1760\",\"type\":\"Grid\"},{\"attributes\":{\"label\":{\"value\":\"Het/hom rate\"},\"renderers\":[{\"id\":\"1782\",\"type\":\"GlyphRenderer\"}]},\"id\":\"1791\",\"type\":\"LegendItem\"},{\"attributes\":{\"callback\":null},\"id\":\"1750\",\"type\":\"DataRange1d\"},{\"attributes\":{},\"id\":\"1771\",\"type\":\"HelpTool\"},{\"attributes\":{},\"id\":\"1785\",\"type\":\"BasicTickFormatter\"},{\"attributes\":{\"callback\":null,\"end\":4.002339031343138,\"start\":1.3005472719058813},\"id\":\"1748\",\"type\":\"Range1d\"},{\"attributes\":{\"bottom\":{\"value\":0},\"fill_alpha\":{\"value\":0.1},\"fill_color\":{\"value\":\"#1f77b4\"},\"left\":{\"field\":\"left\"},\"line_alpha\":{\"value\":0.1},\"line_color\":{\"value\":\"#1f77b4\"},\"right\":{\"field\":\"right\"},\"top\":{\"field\":\"top\"}},\"id\":\"1781\",\"type\":\"Quad\"},{\"attributes\":{},\"id\":\"1754\",\"type\":\"LinearScale\"},{\"attributes\":{\"axis_label\":\"Het/hom rate\",\"formatter\":{\"id\":\"1787\",\"type\":\"BasicTickFormatter\"},\"ticker\":{\"id\":\"1757\",\"type\":\"BasicTicker\"}},\"id\":\"1756\",\"type\":\"LinearAxis\"},{\"attributes\":{\"bottom_units\":\"screen\",\"fill_alpha\":{\"value\":0.5},\"fill_color\":{\"value\":\"lightgrey\"},\"left_units\":\"screen\",\"level\":\"overlay\",\"line_alpha\":{\"value\":1.0},\"line_color\":{\"value\":\"black\"},\"line_dash\":[4,4],\"line_width\":{\"value\":2},\"render_mode\":\"css\",\"right_units\":\"screen\",\"top_units\":\"screen\"},\"id\":\"1789\",\"type\":\"BoxAnnotation\"},{\"attributes\":{\"axis_label\":\"Frequency\",\"formatter\":{\"id\":\"1785\",\"type\":\"BasicTickFormatter\"},\"ticker\":{\"id\":\"1762\",\"type\":\"BasicTicker\"}},\"id\":\"1761\",\"type\":\"LinearAxis\"},{\"attributes\":{\"dimension\":1,\"ticker\":{\"id\":\"1762\",\"type\":\"BasicTicker\"}},\"id\":\"1765\",\"type\":\"Grid\"},{\"attributes\":{},\"id\":\"1787\",\"type\":\"BasicTickFormatter\"},{\"attributes\":{\"data_source\":{\"id\":\"1779\",\"type\":\"ColumnDataSource\"},\"glyph\":{\"id\":\"1780\",\"type\":\"Quad\"},\"hover_glyph\":null,\"muted_glyph\":null,\"nonselection_glyph\":{\"id\":\"1781\",\"type\":\"Quad\"},\"selection_glyph\":null,\"view\":{\"id\":\"1783\",\"type\":\"CDSView\"}},\"id\":\"1782\",\"type\":\"GlyphRenderer\"},{\"attributes\":{},\"id\":\"1757\",\"type\":\"BasicTicker\"}],\"root_ids\":[\"1746\"]},\"title\":\"Bokeh Application\",\"version\":\"1.2.0\"}};\n",
       "  var render_items = [{\"docid\":\"5aa4b680-38fe-48cb-890e-5425db1a03a1\",\"roots\":{\"1746\":\"ba25e412-5c34-4031-beef-014575a219ba\"}}];\n",
       "  root.Bokeh.embed.embed_items_notebook(docs_json, render_items);\n",
       "\n",
       "  }\n",
       "  if (root.Bokeh !== undefined) {\n",
       "    embed_document(root);\n",
       "  } else {\n",
       "    var attempts = 0;\n",
       "    var timer = setInterval(function(root) {\n",
       "      if (root.Bokeh !== undefined) {\n",
       "        embed_document(root);\n",
       "        clearInterval(timer);\n",
       "      }\n",
       "      attempts++;\n",
       "      if (attempts > 100) {\n",
       "        console.log(\"Bokeh: ERROR: Unable to run BokehJS code because BokehJS library is missing\");\n",
       "        clearInterval(timer);\n",
       "      }\n",
       "    }, 10, root)\n",
       "  }\n",
       "})(window);"
      ],
      "application/vnd.bokehjs_exec.v0+json": ""
     },
     "metadata": {
      "application/vnd.bokehjs_exec.v0+json": {
       "id": "1746"
      }
     },
     "output_type": "display_data"
    }
   ],
   "source": [
    "p = hl.plot.histogram(mt.sample_qc.r_het_hom_var, legend='Het/hom rate')\n",
    "p.plot_width = 800\n",
    "p.plot_height = 500\n",
    "show(p)"
   ]
  },
  {
   "cell_type": "markdown",
   "id": "controlling-reconstruction",
   "metadata": {},
   "source": [
    "Looks like there are a few samples with a lot higher het/hom rate than the rest of the samples. Let's check whether this is due to poor coverage."
   ]
  },
  {
   "cell_type": "code",
   "execution_count": 33,
   "id": "standing-flavor",
   "metadata": {},
   "outputs": [],
   "source": [
    "het_hom_thres = 3\n",
    "mt = mt.annotate_cols(high_hom_het=mt.sample_qc.r_het_hom_var > het_hom_thres)"
   ]
  },
  {
   "cell_type": "code",
   "execution_count": 34,
   "id": "wooden-aging",
   "metadata": {},
   "outputs": [
    {
     "name": "stderr",
     "output_type": "stream",
     "text": [
      "[Stage 26:======================================================> (72 + 2) / 74]"
     ]
    },
    {
     "data": {
      "text/html": [
       "\n",
       "\n",
       "\n",
       "\n",
       "\n",
       "\n",
       "  <div class=\"bk-root\" id=\"daaefca3-cc62-4fb5-9c84-e1003e7dbdcb\" data-root-id=\"1898\"></div>\n"
      ]
     },
     "metadata": {},
     "output_type": "display_data"
    },
    {
     "data": {
      "application/javascript": [
       "(function(root) {\n",
       "  function embed_document(root) {\n",
       "    \n",
       "  var docs_json = {\"d064a90e-ef43-4630-a4e1-46e3a47d63e3\":{\"roots\":{\"references\":[{\"attributes\":{\"below\":[{\"id\":\"1908\",\"type\":\"LinearAxis\"}],\"center\":[{\"id\":\"1912\",\"type\":\"Grid\"},{\"id\":\"1917\",\"type\":\"Grid\"}],\"left\":[{\"id\":\"1913\",\"type\":\"LinearAxis\"},{\"id\":\"1949\",\"type\":\"Legend\"},{\"id\":\"1950\",\"type\":\"ColorBar\"}],\"plot_height\":600,\"plot_width\":600,\"renderers\":[{\"id\":\"1940\",\"type\":\"GlyphRenderer\"},{\"id\":\"1946\",\"type\":\"GlyphRenderer\"}],\"title\":null,\"toolbar\":{\"id\":\"1924\",\"type\":\"Toolbar\"},\"x_range\":{\"id\":\"1900\",\"type\":\"DataRange1d\"},\"x_scale\":{\"id\":\"1904\",\"type\":\"LinearScale\"},\"y_range\":{\"id\":\"1902\",\"type\":\"DataRange1d\"},\"y_scale\":{\"id\":\"1906\",\"type\":\"LinearScale\"}},\"id\":\"1898\",\"subtype\":\"Figure\",\"type\":\"Plot\"},{\"attributes\":{\"callback\":null},\"id\":\"1900\",\"type\":\"DataRange1d\"},{\"attributes\":{\"active_drag\":\"auto\",\"active_inspect\":\"auto\",\"active_multi\":null,\"active_scroll\":\"auto\",\"active_tap\":\"auto\",\"tools\":[{\"id\":\"1918\",\"type\":\"PanTool\"},{\"id\":\"1919\",\"type\":\"WheelZoomTool\"},{\"id\":\"1920\",\"type\":\"BoxZoomTool\"},{\"id\":\"1921\",\"type\":\"SaveTool\"},{\"id\":\"1922\",\"type\":\"ResetTool\"},{\"id\":\"1923\",\"type\":\"HelpTool\"},{\"id\":\"1932\",\"type\":\"HoverTool\"}]},\"id\":\"1924\",\"type\":\"Toolbar\"},{\"attributes\":{\"axis_label\":\"het/hom rate\",\"formatter\":{\"id\":\"2010\",\"type\":\"BasicTickFormatter\"},\"ticker\":{\"id\":\"1914\",\"type\":\"BasicTicker\"}},\"id\":\"1913\",\"type\":\"LinearAxis\"},{\"attributes\":{},\"id\":\"1918\",\"type\":\"PanTool\"},{\"attributes\":{\"fill_alpha\":{\"value\":0.1},\"fill_color\":{\"value\":\"#1f77b4\"},\"line_alpha\":{\"value\":0.1},\"line_color\":{\"value\":\"#1f77b4\"},\"x\":{\"field\":\"x\"},\"y\":{\"field\":\"y\"}},\"id\":\"1939\",\"type\":\"Circle\"},{\"attributes\":{},\"id\":\"2013\",\"type\":\"BasicTicker\"},{\"attributes\":{\"overlay\":{\"id\":\"2016\",\"type\":\"BoxAnnotation\"}},\"id\":\"1920\",\"type\":\"BoxZoomTool\"},{\"attributes\":{},\"id\":\"2017\",\"type\":\"UnionRenderers\"},{\"attributes\":{},\"id\":\"2010\",\"type\":\"BasicTickFormatter\"},{\"attributes\":{\"label\":{\"value\":\"true\"},\"renderers\":[{\"id\":\"1946\",\"type\":\"GlyphRenderer\"}]},\"id\":\"1948\",\"type\":\"LegendItem\"},{\"attributes\":{\"bottom_units\":\"screen\",\"fill_alpha\":{\"value\":0.5},\"fill_color\":{\"value\":\"lightgrey\"},\"left_units\":\"screen\",\"level\":\"overlay\",\"line_alpha\":{\"value\":1.0},\"line_color\":{\"value\":\"black\"},\"line_dash\":[4,4],\"line_width\":{\"value\":2},\"render_mode\":\"css\",\"right_units\":\"screen\",\"top_units\":\"screen\"},\"id\":\"2016\",\"type\":\"BoxAnnotation\"},{\"attributes\":{},\"id\":\"1906\",\"type\":\"LinearScale\"},{\"attributes\":{},\"id\":\"1923\",\"type\":\"HelpTool\"},{\"attributes\":{\"fill_color\":{\"field\":\"label\",\"transform\":{\"id\":\"1934\",\"type\":\"CategoricalColorMapper\"}},\"line_color\":{\"field\":\"label\",\"transform\":{\"id\":\"1934\",\"type\":\"CategoricalColorMapper\"}},\"x\":{\"field\":\"x\"},\"y\":{\"field\":\"y\"}},\"id\":\"1938\",\"type\":\"Circle\"},{\"attributes\":{\"factors\":[\"true\",\"false\"],\"palette\":[\"#1f77b4\",\"#ff7f0e\",\"#2ca02c\",\"#d62728\",\"#9467bd\",\"#8c564b\",\"#e377c2\",\"#7f7f7f\",\"#bcbd22\",\"#17becf\"]},\"id\":\"1934\",\"type\":\"CategoricalColorMapper\"},{\"attributes\":{\"click_policy\":\"hide\",\"items\":[{\"id\":\"1947\",\"type\":\"LegendItem\"},{\"id\":\"1948\",\"type\":\"LegendItem\"}]},\"id\":\"1949\",\"type\":\"Legend\"},{\"attributes\":{},\"id\":\"2014\",\"type\":\"BasicTickFormatter\"},{\"attributes\":{\"callback\":null,\"tooltips\":[[\"x\",\"@x\"],[\"y\",\"@y\"],[\"Sample\",\"@Sample\"],[\"label\",\"@label\"]]},\"id\":\"1932\",\"type\":\"HoverTool\"},{\"attributes\":{},\"id\":\"1922\",\"type\":\"ResetTool\"},{\"attributes\":{\"filters\":[{\"id\":\"1935\",\"type\":\"GroupFilter\"}],\"source\":{\"id\":\"1933\",\"type\":\"ColumnDataSource\"}},\"id\":\"1936\",\"type\":\"CDSView\"},{\"attributes\":{\"filters\":[{\"id\":\"1941\",\"type\":\"GroupFilter\"}],\"source\":{\"id\":\"1933\",\"type\":\"ColumnDataSource\"}},\"id\":\"1942\",\"type\":\"CDSView\"},{\"attributes\":{\"fill_alpha\":{\"value\":0.1},\"fill_color\":{\"value\":\"#1f77b4\"},\"line_alpha\":{\"value\":0.1},\"line_color\":{\"value\":\"#1f77b4\"},\"x\":{\"field\":\"x\"},\"y\":{\"field\":\"y\"}},\"id\":\"1945\",\"type\":\"Circle\"},{\"attributes\":{},\"id\":\"1914\",\"type\":\"BasicTicker\"},{\"attributes\":{\"ticker\":{\"id\":\"1909\",\"type\":\"BasicTicker\"}},\"id\":\"1912\",\"type\":\"Grid\"},{\"attributes\":{\"callback\":null},\"id\":\"1902\",\"type\":\"DataRange1d\"},{\"attributes\":{\"data_source\":{\"id\":\"1933\",\"type\":\"ColumnDataSource\"},\"glyph\":{\"id\":\"1944\",\"type\":\"Circle\"},\"hover_glyph\":null,\"muted_glyph\":null,\"nonselection_glyph\":{\"id\":\"1945\",\"type\":\"Circle\"},\"selection_glyph\":null,\"view\":{\"id\":\"1942\",\"type\":\"CDSView\"}},\"id\":\"1946\",\"type\":\"GlyphRenderer\"},{\"attributes\":{\"callback\":null,\"data\":{\"Sample\":[\"FN000538\",\"FN000938\",\"FN000755\",\"FN000559\",\"FN000020\",\"FN000557\",\"FN000761\",\"FN001110\",\"FN001020\",\"FN000893\",\"FN000369\",\"FN000618\",\"FN000558\",\"FN000277\",\"FN000953\",\"FN000862\",\"FN000931\",\"FN000878\",\"FN000544\",\"FN000217\",\"FN000925\",\"FN000940\",\"FN000933\",\"FN000902\",\"FN000018\",\"FN000190\",\"FN001109\",\"FN000017\",\"FN000206\",\"FN000762\",\"FN001415\",\"FN001022\",\"FN001092\",\"FN001021\",\"FN001416\",\"FN000934\",\"FN000254\",\"FN000412\",\"FN001116\",\"FN000178\",\"FN000562\",\"FN000019\",\"FN000817\",\"FN000399\",\"FN000396\",\"FN001045\",\"FN000016\",\"FN000804\",\"FN000873\",\"FN000749\",\"FN001251\",\"FN000122\",\"FN000182\",\"FN000537\",\"FN000504\",\"FN001346\",\"FN000476\",\"FN001433\",\"FN001247\",\"FN000152\",\"FN000015\",\"FN000507\",\"FN001377\",\"FN000132\",\"FN000635\",\"FN000935\",\"FN000879\",\"FN000957\",\"FN001046\",\"FN001115\",\"FN000506\",\"FN000639\",\"FN001249\",\"FN000759\",\"FN001089\",\"FN000298\",\"FN000503\",\"FN001025\",\"FN000427\",\"FN000932\",\"FN000071\",\"FN000138\",\"FN000124\",\"FN000534\",\"FN000251\",\"FN001094\",\"FN000394\",\"FN000125\",\"FN000502\",\"FN000105\",\"FN000400\",\"FN000904\",\"FN000697\",\"FN000405\",\"FN000044\",\"FN000011\",\"FN000778\",\"FN001118\",\"FN001120\",\"FN000867\",\"FN000566\",\"FN000512\",\"FN000629\",\"FN001409\",\"FN000824\",\"FN000742\",\"FN000866\",\"FN000763\",\"FN000116\",\"FN000326\",\"FN001001\",\"FN000898\",\"FN000693\",\"FN000810\",\"FN000317\",\"FN000671\",\"FN000414\",\"FN000377\",\"FN000617\",\"FN000119\",\"FN000121\",\"FN000435\",\"FN001390\",\"FN000738\",\"FN001488\",\"FN001157\",\"FN000899\",\"FN001379\",\"FN001398\",\"FN000240\",\"FN000242\",\"FN001130\",\"FN000583\",\"FN000969\",\"FN000906\",\"FN000917\",\"FN000281\",\"FN001400\",\"FN000381\",\"FN001088\",\"FN000923\",\"FN000875\",\"FN000634\",\"FN000411\",\"FN001381\",\"FN000050\",\"FN000111\",\"FN000619\",\"FN000022\",\"FN000131\",\"FN000966\",\"FN001138\",\"FN000442\",\"FN000770\",\"FN000777\",\"FN000954\",\"FN000106\",\"FN000009\",\"FN000958\",\"FN000928\",\"FN000474\",\"FN000870\",\"FN000477\",\"FN000320\",\"FN000191\",\"FN001143\",\"FN000527\",\"FN000187\",\"FN000023\",\"FN000408\",\"FN001410\",\"FN001384\",\"FN000469\",\"FN000528\",\"FN000599\",\"FN000820\",\"FN000541\",\"FN000306\",\"FN000971\",\"FN001127\",\"FN000447\",\"FN001426\",\"FN000397\",\"FN000389\",\"FN000127\",\"FN000703\",\"FN001482\",\"FN000884\",\"FN001366\",\"FN000914\",\"FN001132\",\"FN000513\",\"FN000305\",\"FN000955\",\"FN000970\",\"FN000038\",\"FN000549\",\"FN000920\",\"FN000487\",\"FN000625\",\"FN000531\",\"FN000049\",\"FN000877\",\"FN000769\",\"FN000024\",\"FN000941\",\"FN000410\",\"FN000569\",\"FN000370\",\"FN001523\",\"FN000014\",\"FN001135\",\"FN000529\",\"FN000895\",\"FN001437\",\"FN000809\",\"FN000889\",\"FN001439\",\"FN000039\",\"FN001527\",\"FN001522\",\"FN001117\",\"FN000002\",\"FN001017\",\"FN000909\",\"FN000794\",\"FN001023\",\"FN000602\",\"FN001401\",\"FN000289\",\"FN000780\",\"FN000924\",\"FN000259\",\"FN000854\",\"FN001383\",\"FN000054\",\"FN001134\",\"FN000473\",\"FN000943\",\"FN000244\",\"FN000045\",\"FN001091\",\"FN000055\",\"FN000322\",\"FN001425\",\"FN001371\",\"FN000123\",\"FN000704\",\"FN000489\",\"FN001411\",\"FN000416\",\"FN000776\",\"FN000962\",\"FN000581\",\"FN001394\",\"FN000456\",\"FN000236\",\"FN000034\",\"FN000998\",\"FN000612\",\"FN000204\",\"FN000103\",\"FN000518\",\"FN000985\",\"FN001495\",\"FN001085\",\"FN000892\",\"FN000392\",\"FN000607\",\"FN000586\",\"FN000313\",\"FN001090\",\"FN001389\",\"FN000948\",\"FN000896\",\"FN001432\",\"FN000040\",\"FN000053\",\"FN001019\",\"FN000521\",\"FN000282\",\"FN000628\",\"FN000450\",\"FN000278\",\"FN000510\",\"FN000380\",\"FN000890\",\"FN000360\",\"FN000960\",\"FN000032\",\"FN001133\",\"FN000926\",\"FN000440\",\"FN001392\",\"FN000403\",\"FN000475\",\"FN000233\",\"FN000224\",\"FN000036\",\"FN000200\",\"FN000303\",\"FN000526\",\"FN000470\",\"FN000888\",\"FN000949\",\"FN000947\",\"FN001414\",\"FN001418\",\"FN000248\",\"FN000110\",\"FN000767\",\"FN000035\",\"FN000525\",\"FN000905\",\"FN000252\",\"FN000496\",\"FN000495\",\"FN001111\",\"FN000563\",\"FN000301\",\"FN000768\",\"FN001440\",\"FN000387\",\"FN000523\",\"FN000249\",\"FN000886\",\"FN000309\",\"FN001417\",\"FN000237\",\"FN000037\",\"FN000446\",\"FN000913\",\"FN000376\",\"FN000922\",\"FN001347\",\"FN000126\",\"FN001490\",\"FN000881\",\"FN001393\",\"FN000052\",\"FN000077\",\"FN000546\",\"FN000374\",\"FN000001\",\"FN000807\",\"FN001427\",\"FN000766\",\"FN001413\",\"FN000061\",\"FN001150\",\"FN000417\",\"FN000284\",\"FN001374\",\"FN001405\",\"FN000076\",\"FN000912\",\"FN001154\",\"FN001018\",\"FN001149\",\"FN000908\",\"FN000012\",\"FN000498\",\"FN001152\",\"FN000386\",\"FN001142\",\"FN001082\",\"FN001485\",\"FN000551\",\"FN001403\",\"FN001407\",\"FN000519\",\"FN000942\",\"FN000169\",\"FN000439\",\"FN000567\",\"FN000861\",\"FN000137\",\"FN000033\",\"FN000545\",\"FN000430\",\"FN000108\",\"FN000561\",\"FN000871\",\"FN001430\",\"FN000426\",\"FN000952\",\"FN000445\",\"FN000375\",\"FN000451\",\"FN000388\",\"FN000501\",\"FN000184\",\"FN000483\",\"FN000199\",\"FN000088\",\"FN001151\",\"FN001004\",\"FN001155\",\"FN000735\",\"FN001428\",\"FN000591\",\"FN000180\",\"FN000107\",\"FN000097\",\"FN001441\",\"FN000568\",\"FN000418\",\"FN000197\",\"FN000092\",\"FN001444\",\"FN000554\",\"FN000598\",\"FN000424\",\"FN001434\",\"FN001158\",\"FN000951\",\"FN001084\",\"FN001086\",\"FN000939\",\"FN000511\",\"FN001380\",\"FN000887\",\"FN001438\",\"FN000589\",\"FN000604\",\"FN000572\",\"FN000163\",\"FN001404\",\"FN000550\",\"FN000441\",\"FN000419\",\"FN000472\",\"FN001436\",\"FN000874\",\"FN000478\",\"FN000395\",\"FN001139\",\"FN000461\",\"FN001053\",\"FN001435\",\"FN000156\",\"FN001003\",\"FN000139\",\"FN000215\",\"FN001429\",\"FN000421\",\"FN000185\",\"FN000484\",\"FN000158\",\"FN001153\",\"FN000945\",\"FN001011\"],\"index\":[0,1,2,3,4,5,6,7,8,9,10,11,12,13,14,15,16,17,18,19,20,21,22,23,24,25,26,27,28,29,30,31,32,33,34,35,36,37,38,39,40,41,42,43,44,45,46,47,48,49,50,51,52,53,54,55,56,57,58,59,60,61,62,63,64,65,66,67,68,69,70,71,72,73,74,75,76,77,78,79,80,81,82,83,84,85,86,87,88,89,90,91,92,93,94,95,96,97,98,99,100,101,102,103,104,105,106,107,108,109,110,111,112,113,114,115,116,117,118,119,120,121,122,123,124,125,126,127,128,129,130,131,132,133,134,135,136,137,138,139,140,141,142,143,144,145,146,147,148,149,150,151,152,153,154,155,156,157,158,159,160,161,162,163,164,165,166,167,168,169,170,171,172,173,174,175,176,177,178,179,180,181,182,183,184,185,186,187,188,189,190,191,192,193,194,195,196,197,198,199,200,201,202,203,204,205,206,207,208,209,210,211,212,213,214,215,216,217,218,219,220,221,222,223,224,225,226,227,228,229,230,231,232,233,234,235,236,237,238,239,240,241,242,243,244,245,246,247,248,249,250,251,252,253,254,255,256,257,258,259,260,261,262,263,264,265,266,267,268,269,270,271,272,273,274,275,276,277,278,279,280,281,282,283,284,285,286,287,288,289,290,291,292,293,294,295,296,297,298,299,300,301,302,303,304,305,306,307,308,309,310,311,312,313,314,315,316,317,318,319,320,321,322,323,324,325,326,327,328,329,330,331,332,333,334,335,336,337,338,339,340,341,342,343,344,345,346,347,348,349,350,351,352,353,354,355,356,357,358,359,360,361,362,363,364,365,366,367,368,369,370,371,372,373,374,375,376,377,378,379,380,381,382,383,384,385,386,387,388,389,390,391,392,393,394,395,396,397,398,399,400,401,402,403,404,405,406,407,408,409,410,411,412,413,414,415,416,417,418,419,420,421,422,423,424,425,426,427,428,429,430,431,432,433,434,435,436,437,438,439,440,441,442,443,444,445,446,447,448,449,450,451],\"label\":[\"false\",\"false\",\"false\",\"false\",\"false\",\"false\",\"false\",\"false\",\"false\",\"false\",\"false\",\"false\",\"false\",\"false\",\"false\",\"false\",\"false\",\"false\",\"false\",\"false\",\"false\",\"true\",\"false\",\"false\",\"false\",\"false\",\"false\",\"false\",\"false\",\"false\",\"false\",\"false\",\"false\",\"false\",\"false\",\"false\",\"false\",\"false\",\"false\",\"false\",\"false\",\"false\",\"false\",\"false\",\"false\",\"false\",\"false\",\"false\",\"false\",\"false\",\"false\",\"false\",\"false\",\"false\",\"false\",\"false\",\"false\",\"false\",\"false\",\"false\",\"false\",\"false\",\"false\",\"false\",\"false\",\"false\",\"false\",\"false\",\"false\",\"false\",\"false\",\"false\",\"false\",\"false\",\"false\",\"false\",\"false\",\"false\",\"false\",\"false\",\"false\",\"false\",\"false\",\"false\",\"false\",\"false\",\"false\",\"false\",\"false\",\"false\",\"false\",\"false\",\"false\",\"false\",\"false\",\"false\",\"false\",\"false\",\"false\",\"false\",\"false\",\"false\",\"false\",\"false\",\"false\",\"false\",\"false\",\"false\",\"false\",\"false\",\"false\",\"false\",\"false\",\"false\",\"false\",\"false\",\"false\",\"false\",\"false\",\"false\",\"false\",\"false\",\"false\",\"false\",\"false\",\"false\",\"false\",\"false\",\"false\",\"false\",\"false\",\"false\",\"false\",\"false\",\"false\",\"false\",\"false\",\"false\",\"false\",\"false\",\"false\",\"false\",\"false\",\"false\",\"false\",\"false\",\"false\",\"false\",\"false\",\"false\",\"false\",\"false\",\"false\",\"false\",\"false\",\"false\",\"false\",\"false\",\"false\",\"false\",\"false\",\"false\",\"false\",\"false\",\"false\",\"false\",\"false\",\"false\",\"false\",\"false\",\"false\",\"false\",\"false\",\"false\",\"false\",\"false\",\"false\",\"false\",\"false\",\"false\",\"false\",\"false\",\"false\",\"false\",\"false\",\"false\",\"false\",\"false\",\"false\",\"false\",\"false\",\"false\",\"false\",\"false\",\"false\",\"false\",\"false\",\"false\",\"false\",\"false\",\"false\",\"false\",\"false\",\"false\",\"false\",\"false\",\"false\",\"false\",\"false\",\"false\",\"false\",\"false\",\"false\",\"false\",\"false\",\"false\",\"false\",\"false\",\"false\",\"false\",\"false\",\"false\",\"false\",\"false\",\"true\",\"false\",\"false\",\"false\",\"false\",\"false\",\"false\",\"false\",\"false\",\"false\",\"false\",\"false\",\"false\",\"false\",\"false\",\"false\",\"false\",\"false\",\"false\",\"false\",\"false\",\"false\",\"false\",\"false\",\"false\",\"false\",\"false\",\"false\",\"false\",\"false\",\"false\",\"false\",\"false\",\"false\",\"false\",\"false\",\"false\",\"false\",\"false\",\"false\",\"false\",\"false\",\"false\",\"false\",\"false\",\"false\",\"false\",\"false\",\"false\",\"false\",\"false\",\"false\",\"false\",\"false\",\"true\",\"false\",\"false\",\"false\",\"false\",\"false\",\"false\",\"false\",\"false\",\"false\",\"false\",\"false\",\"false\",\"false\",\"false\",\"false\",\"false\",\"false\",\"false\",\"false\",\"false\",\"false\",\"false\",\"false\",\"false\",\"false\",\"false\",\"false\",\"false\",\"false\",\"false\",\"false\",\"false\",\"false\",\"false\",\"false\",\"false\",\"false\",\"false\",\"false\",\"false\",\"false\",\"false\",\"false\",\"false\",\"false\",\"false\",\"false\",\"false\",\"false\",\"false\",\"false\",\"false\",\"false\",\"false\",\"false\",\"false\",\"false\",\"false\",\"false\",\"false\",\"false\",\"false\",\"false\",\"false\",\"false\",\"false\",\"false\",\"false\",\"false\",\"false\",\"false\",\"false\",\"false\",\"false\",\"false\",\"false\",\"false\",\"false\",\"true\",\"false\",\"false\",\"false\",\"false\",\"false\",\"false\",\"false\",\"false\",\"false\",\"false\",\"false\",\"false\",\"false\",\"false\",\"false\",\"false\",\"false\",\"false\",\"false\",\"false\",\"false\",\"false\",\"false\",\"false\",\"false\",\"false\",\"false\",\"false\",\"false\",\"false\",\"false\",\"false\",\"false\",\"false\",\"false\",\"false\",\"false\",\"false\",\"false\",\"false\",\"false\",\"false\",\"false\",\"false\",\"false\",\"false\",\"false\",\"false\",\"false\",\"false\",\"false\",\"false\",\"false\",\"false\",\"false\",\"false\",\"false\",\"false\",\"false\",\"false\",\"false\",\"false\",\"false\",\"false\",\"false\",\"false\",\"false\",\"false\",\"false\",\"false\",\"false\",\"false\",\"false\",\"false\",\"false\",\"false\",\"false\",\"false\",\"false\",\"false\",\"false\",\"false\",\"false\",\"false\",\"false\",\"false\",\"false\",\"false\",\"false\",\"false\",\"false\",\"false\",\"false\",\"false\"],\"x\":{\"__ndarray__\":\"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\",\"dtype\":\"float64\",\"shape\":[452]},\"y\":{\"__ndarray__\":\"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\",\"dtype\":\"float64\",\"shape\":[452]}},\"selected\":{\"id\":\"2018\",\"type\":\"Selection\"},\"selection_policy\":{\"id\":\"2017\",\"type\":\"UnionRenderers\"}},\"id\":\"1933\",\"type\":\"ColumnDataSource\"},{\"attributes\":{\"fill_color\":{\"field\":\"label\",\"transform\":{\"id\":\"1934\",\"type\":\"CategoricalColorMapper\"}},\"line_color\":{\"field\":\"label\",\"transform\":{\"id\":\"1934\",\"type\":\"CategoricalColorMapper\"}},\"x\":{\"field\":\"x\"},\"y\":{\"field\":\"y\"}},\"id\":\"1944\",\"type\":\"Circle\"},{\"attributes\":{\"data_source\":{\"id\":\"1933\",\"type\":\"ColumnDataSource\"},\"glyph\":{\"id\":\"1938\",\"type\":\"Circle\"},\"hover_glyph\":null,\"muted_glyph\":null,\"nonselection_glyph\":{\"id\":\"1939\",\"type\":\"Circle\"},\"selection_glyph\":null,\"view\":{\"id\":\"1936\",\"type\":\"CDSView\"}},\"id\":\"1940\",\"type\":\"GlyphRenderer\"},{\"attributes\":{},\"id\":\"1904\",\"type\":\"LinearScale\"},{\"attributes\":{},\"id\":\"1919\",\"type\":\"WheelZoomTool\"},{\"attributes\":{},\"id\":\"1921\",\"type\":\"SaveTool\"},{\"attributes\":{\"color_mapper\":null,\"formatter\":{\"id\":\"2012\",\"type\":\"BasicTickFormatter\"},\"ticker\":{\"id\":\"2013\",\"type\":\"BasicTicker\"},\"visible\":false},\"id\":\"1950\",\"type\":\"ColorBar\"},{\"attributes\":{},\"id\":\"1909\",\"type\":\"BasicTicker\"},{\"attributes\":{\"axis_label\":\"DP mean\",\"formatter\":{\"id\":\"2014\",\"type\":\"BasicTickFormatter\"},\"ticker\":{\"id\":\"1909\",\"type\":\"BasicTicker\"}},\"id\":\"1908\",\"type\":\"LinearAxis\"},{\"attributes\":{},\"id\":\"2012\",\"type\":\"BasicTickFormatter\"},{\"attributes\":{\"column_name\":\"label\",\"group\":\"false\"},\"id\":\"1935\",\"type\":\"GroupFilter\"},{\"attributes\":{\"column_name\":\"label\",\"group\":\"true\"},\"id\":\"1941\",\"type\":\"GroupFilter\"},{\"attributes\":{},\"id\":\"2018\",\"type\":\"Selection\"},{\"attributes\":{\"label\":{\"value\":\"false\"},\"renderers\":[{\"id\":\"1940\",\"type\":\"GlyphRenderer\"}]},\"id\":\"1947\",\"type\":\"LegendItem\"},{\"attributes\":{\"dimension\":1,\"ticker\":{\"id\":\"1914\",\"type\":\"BasicTicker\"}},\"id\":\"1917\",\"type\":\"Grid\"}],\"root_ids\":[\"1898\"]},\"title\":\"Bokeh Application\",\"version\":\"1.2.0\"}};\n",
       "  var render_items = [{\"docid\":\"d064a90e-ef43-4630-a4e1-46e3a47d63e3\",\"roots\":{\"1898\":\"daaefca3-cc62-4fb5-9c84-e1003e7dbdcb\"}}];\n",
       "  root.Bokeh.embed.embed_items_notebook(docs_json, render_items);\n",
       "\n",
       "  }\n",
       "  if (root.Bokeh !== undefined) {\n",
       "    embed_document(root);\n",
       "  } else {\n",
       "    var attempts = 0;\n",
       "    var timer = setInterval(function(root) {\n",
       "      if (root.Bokeh !== undefined) {\n",
       "        embed_document(root);\n",
       "        clearInterval(timer);\n",
       "      }\n",
       "      attempts++;\n",
       "      if (attempts > 100) {\n",
       "        console.log(\"Bokeh: ERROR: Unable to run BokehJS code because BokehJS library is missing\");\n",
       "        clearInterval(timer);\n",
       "      }\n",
       "    }, 10, root)\n",
       "  }\n",
       "})(window);"
      ],
      "application/vnd.bokehjs_exec.v0+json": ""
     },
     "metadata": {
      "application/vnd.bokehjs_exec.v0+json": {
       "id": "1898"
      }
     },
     "output_type": "display_data"
    }
   ],
   "source": [
    "p = hl.plot.scatter(mt.sample_qc.dp_stats.mean, mt.sample_qc.r_het_hom_var, xlabel='DP mean', ylabel='het/hom rate',\n",
    "                    hover_fields={'Sample': mt.s}, label=mt.high_hom_het)\n",
    "p.plot_width = 600\n",
    "p.plot_height = 600\n",
    "show(p)"
   ]
  },
  {
   "cell_type": "markdown",
   "id": "fundamental-pontiac",
   "metadata": {},
   "source": [
    "The plot above indicates these samples have similar coverage as the other samples, so that doesn't explain the high het/hom rate.\n",
    "\n",
    "We can also check the MultiQC reports of these samples (file paths below), and we see that they are all of reasonable quality."
   ]
  },
  {
   "cell_type": "code",
   "execution_count": 35,
   "id": "incomplete-demographic",
   "metadata": {},
   "outputs": [
    {
     "name": "stderr",
     "output_type": "stream",
     "text": [
      "[Stage 29:=======================================================>(73 + 1) / 74]"
     ]
    },
    {
     "name": "stdout",
     "output_type": "stream",
     "text": [
      "/data/projects/fargen_phase_1/data/single_sample_data/FN000909/multiqc/multiqc_report.html\n",
      "/data/projects/fargen_phase_1/data/single_sample_data/FN000940/multiqc/multiqc_report.html\n",
      "/data/projects/fargen_phase_1/data/single_sample_data/FN001018/multiqc/multiqc_report.html\n",
      "/data/projects/fargen_phase_1/data/single_sample_data/FN001019/multiqc/multiqc_report.html\n"
     ]
    }
   ],
   "source": [
    "high_hethom_samples = mt.filter_cols(mt.sample_qc.r_het_hom_var > het_hom_thres).s.collect()\n",
    "\n",
    "for sample in high_hethom_samples:\n",
    "    print('/data/projects/fargen_phase_1/data/single_sample_data/{sample}/multiqc/multiqc_report.html'.format(sample=sample))"
   ]
  },
  {
   "cell_type": "markdown",
   "id": "psychological-belgium",
   "metadata": {},
   "source": [
    "In the genealogy summary file (`/fargen/fargen_phase_1_utils/multi_sample/joint_genotyping/metadata/genealogy/individuals_summary.csv`), it seems that all these samples have reasonably deep roots in the Faroes. This means we have no reason to suspect this difference is due to these samples being from different populations.\n",
    "\n",
    "These four samples most likely have high het/hom rate due to poor data quality. One potential reason for this is contamination of the sample in the lab.\n",
    "\n",
    "We will **discard high het/hom rate samples**, as they may skew further analyses down the line."
   ]
  },
  {
   "cell_type": "code",
   "execution_count": 36,
   "id": "3f72ac48-5e30-46ee-bca6-195e33cb53e8",
   "metadata": {},
   "outputs": [],
   "source": [
    "mt = mt.filter_cols(mt.sample_qc.r_het_hom_var < het_hom_thres)"
   ]
  },
  {
   "cell_type": "markdown",
   "id": "b039f83f-cdb2-4505-8b36-8bc7560fde87",
   "metadata": {},
   "source": [
    "Remove sites that may have become invariant after removing these samples.\n"
   ]
  },
  {
   "cell_type": "code",
   "execution_count": 37,
   "id": "9e589620-f4f2-41b2-a48a-7ccb9a753968",
   "metadata": {},
   "outputs": [],
   "source": [
    "mt = mt.filter_rows(mt.variant_qc.AC[1] > 1)"
   ]
  },
  {
   "cell_type": "code",
   "execution_count": 38,
   "id": "cooked-gilbert",
   "metadata": {},
   "outputs": [
    {
     "name": "stderr",
     "output_type": "stream",
     "text": [
      "[Stage 33:=======================================================>(73 + 1) / 74]"
     ]
    },
    {
     "name": "stdout",
     "output_type": "stream",
     "text": [
      "Number of variants: 148305\n",
      "Number of samples: 469\n"
     ]
    }
   ],
   "source": [
    "n_variants, n_samples = mt.count()\n",
    "print('Number of variants: ' + str(n_variants))\n",
    "print('Number of samples: ' + str(n_samples))"
   ]
  },
  {
   "cell_type": "markdown",
   "id": "9d0865cc-3848-49b9-9019-f528a95b9032",
   "metadata": {},
   "source": [
    "## Variant counts"
   ]
  },
  {
   "cell_type": "code",
   "execution_count": 39,
   "id": "1e09ddb9-3c26-458e-a392-82f28a257669",
   "metadata": {},
   "outputs": [
    {
     "name": "stderr",
     "output_type": "stream",
     "text": [
      "[Stage 34:=======================================================>(73 + 1) / 74]"
     ]
    },
    {
     "data": {
      "text/html": [
       "<div>\n",
       "<style scoped>\n",
       "    .dataframe tbody tr th:only-of-type {\n",
       "        vertical-align: middle;\n",
       "    }\n",
       "\n",
       "    .dataframe tbody tr th {\n",
       "        vertical-align: top;\n",
       "    }\n",
       "\n",
       "    .dataframe thead th {\n",
       "        text-align: right;\n",
       "    }\n",
       "</style>\n",
       "<table border=\"1\" class=\"dataframe\">\n",
       "  <thead>\n",
       "    <tr style=\"text-align: right;\">\n",
       "      <th></th>\n",
       "      <th></th>\n",
       "    </tr>\n",
       "  </thead>\n",
       "  <tbody>\n",
       "    <tr>\n",
       "      <th>n_variants</th>\n",
       "      <td>148305.000000</td>\n",
       "    </tr>\n",
       "    <tr>\n",
       "      <th>snps_fraction</th>\n",
       "      <td>0.841172</td>\n",
       "    </tr>\n",
       "    <tr>\n",
       "      <th>insertions_fraction</th>\n",
       "      <td>0.072648</td>\n",
       "    </tr>\n",
       "    <tr>\n",
       "      <th>deletions_fraction</th>\n",
       "      <td>0.086181</td>\n",
       "    </tr>\n",
       "    <tr>\n",
       "      <th>mnp_fraction</th>\n",
       "      <td>0.000000</td>\n",
       "    </tr>\n",
       "    <tr>\n",
       "      <th>complex_fraction</th>\n",
       "      <td>0.000000</td>\n",
       "    </tr>\n",
       "    <tr>\n",
       "      <th>star_fraction</th>\n",
       "      <td>0.000000</td>\n",
       "    </tr>\n",
       "  </tbody>\n",
       "</table>\n",
       "</div>"
      ],
      "text/plain": [
       "                                  \n",
       "n_variants           148305.000000\n",
       "snps_fraction             0.841172\n",
       "insertions_fraction       0.072648\n",
       "deletions_fraction        0.086181\n",
       "mnp_fraction              0.000000\n",
       "complex_fraction          0.000000\n",
       "star_fraction             0.000000"
      ]
     },
     "execution_count": 39,
     "metadata": {},
     "output_type": "execute_result"
    }
   ],
   "source": [
    "variant_counts(mt)"
   ]
  },
  {
   "cell_type": "markdown",
   "id": "81f52b52-99bf-45ef-be72-6de4fdafc3fc",
   "metadata": {},
   "source": [
    "## Write data to file"
   ]
  },
  {
   "cell_type": "code",
   "execution_count": 41,
   "id": "d059a327-ac98-4b3c-a930-d8cd5305a804",
   "metadata": {},
   "outputs": [
    {
     "name": "stderr",
     "output_type": "stream",
     "text": [
      "[Stage 37:======================================================> (36 + 1) / 37]2021-10-27 12:26:13 Hail: INFO: Coerced sorted dataset\n",
      "[Stage 39:====================================================>   (35 + 2) / 37]2021-10-27 12:26:47 Hail: INFO: wrote matrix table with 148305 rows and 469 columns in 37 partitions to /home/olavur/experiments/2020-11-13_fargen1_exome_analysis/data/mt/high_quality_variants.mt\n",
      "    Total size: 815.71 MiB\n",
      "    * Rows/entries: 815.66 MiB\n",
      "    * Columns: 49.90 KiB\n",
      "    * Globals: 11.00 B\n",
      "    * Smallest partition: 1506 rows (6.77 MiB)\n",
      "    * Largest partition:  4413 rows (25.47 MiB)\n"
     ]
    }
   ],
   "source": [
    "if True:\n",
    "    mt.write(BASE_DIR + '/data/mt/high_quality_variants.mt', overwrite=True)"
   ]
  },
  {
   "cell_type": "markdown",
   "id": "f5721fc8-688d-43c9-b6fb-08ca230c5126",
   "metadata": {},
   "source": [
    "## Summary\n",
    "\n",
    "In this notebook we have:\n",
    "\n",
    "* Split multi-allelic sites\n",
    "* Filtered variants failing VQSR filter\n",
    "* Filtered variants with genotype quality (GQ)\n",
    "    * GQ > 20 for SNPs\n",
    "    * GQ > 40 for indels\n",
    "* Filtered variants with allelic balance outside the range $[0.25, 0.75]$\n",
    "* Filtered variants failing HWE filter\n",
    "    * $p > 10^{-9}$ for SNPs\n",
    "    * $p > 10^{-6}$ for indels\n",
    "* Removed singletons\n",
    "* Removed four samples with abnormally high het/hom rate (>3)\n",
    "* Filtered variants with allele count equal to zero"
   ]
  }
 ],
 "metadata": {
  "kernelspec": {
   "display_name": "Python [conda env:fargen-1-exome]",
   "language": "python",
   "name": "conda-env-fargen-1-exome-py"
  },
  "language_info": {
   "codemirror_mode": {
    "name": "ipython",
    "version": 3
   },
   "file_extension": ".py",
   "mimetype": "text/x-python",
   "name": "python",
   "nbconvert_exporter": "python",
   "pygments_lexer": "ipython3",
   "version": "3.7.12"
  }
 },
 "nbformat": 4,
 "nbformat_minor": 5
}
