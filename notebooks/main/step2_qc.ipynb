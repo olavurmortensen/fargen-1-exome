{
 "cells": [
  {
   "cell_type": "markdown",
   "id": "6b46d6e6-3060-4ed7-8b35-6a09fd271204",
   "metadata": {},
   "source": [
    "# Quality control"
   ]
  },
  {
   "cell_type": "code",
   "execution_count": null,
   "id": "million-damages",
   "metadata": {},
   "outputs": [
    {
     "name": "stdout",
     "output_type": "stream",
     "text": [
      "2021-10-27 11:50:45 WARN  NativeCodeLoader:62 - Unable to load native-hadoop library for your platform... using builtin-java classes where applicable\n"
     ]
    },
    {
     "name": "stderr",
     "output_type": "stream",
     "text": [
      "Setting default log level to \"WARN\".\n",
      "To adjust logging level use sc.setLogLevel(newLevel). For SparkR, use setLogLevel(newLevel).\n"
     ]
    },
    {
     "name": "stdout",
     "output_type": "stream",
     "text": [
      "2021-10-27 11:50:46 WARN  Hail:37 - This Hail JAR was compiled for Spark 2.4.5, running with Spark 2.4.1.\n",
      "  Compatibility is not guaranteed.\n",
      "2021-10-27 11:50:48 WARN  Utils:66 - Service 'SparkUI' could not bind on port 4040. Attempting port 4041.\n",
      "2021-10-27 11:50:48 WARN  Utils:66 - Service 'SparkUI' could not bind on port 4041. Attempting port 4042.\n"
     ]
    },
    {
     "name": "stderr",
     "output_type": "stream",
     "text": [
      "Running on Apache Spark version 2.4.1\n",
      "SparkUI available at http://hms-beagle-6676655f87-9xllv:4042\n",
      "Welcome to\n",
      "     __  __     <>__\n",
      "    / /_/ /__  __/ /\n",
      "   / __  / _ `/ / /\n",
      "  /_/ /_/\\_,_/_/_/   version 0.2.61-3c86d3ba497a\n",
      "LOGGING: writing to /home/olavur/experiments/2020-11-13_fargen1_exome_analysis/fargen-1-exome/notebooks/main/hail-20211027-1150-0.2.61-3c86d3ba497a.log\n"
     ]
    }
   ],
   "source": [
    "import hail as hl\n",
    "hl.init(spark_conf={'spark.driver.memory': '10g'}, tmp_dir='/home/olavur/tmp')"
   ]
  },
  {
   "cell_type": "code",
   "execution_count": null,
   "id": "analyzed-warrant",
   "metadata": {},
   "outputs": [
    {
     "data": {
      "text/html": [
       "\n",
       "    <div class=\"bk-root\">\n",
       "        <a href=\"https://bokeh.pydata.org\" target=\"_blank\" class=\"bk-logo bk-logo-small bk-logo-notebook\"></a>\n",
       "        <span id=\"1001\">Loading BokehJS ...</span>\n",
       "    </div>"
      ]
     },
     "metadata": {},
     "output_type": "display_data"
    },
    {
     "data": {
      "application/javascript": [
       "\n",
       "(function(root) {\n",
       "  function now() {\n",
       "    return new Date();\n",
       "  }\n",
       "\n",
       "  var force = true;\n",
       "\n",
       "  if (typeof root._bokeh_onload_callbacks === \"undefined\" || force === true) {\n",
       "    root._bokeh_onload_callbacks = [];\n",
       "    root._bokeh_is_loading = undefined;\n",
       "  }\n",
       "\n",
       "  var JS_MIME_TYPE = 'application/javascript';\n",
       "  var HTML_MIME_TYPE = 'text/html';\n",
       "  var EXEC_MIME_TYPE = 'application/vnd.bokehjs_exec.v0+json';\n",
       "  var CLASS_NAME = 'output_bokeh rendered_html';\n",
       "\n",
       "  /**\n",
       "   * Render data to the DOM node\n",
       "   */\n",
       "  function render(props, node) {\n",
       "    var script = document.createElement(\"script\");\n",
       "    node.appendChild(script);\n",
       "  }\n",
       "\n",
       "  /**\n",
       "   * Handle when an output is cleared or removed\n",
       "   */\n",
       "  function handleClearOutput(event, handle) {\n",
       "    var cell = handle.cell;\n",
       "\n",
       "    var id = cell.output_area._bokeh_element_id;\n",
       "    var server_id = cell.output_area._bokeh_server_id;\n",
       "    // Clean up Bokeh references\n",
       "    if (id != null && id in Bokeh.index) {\n",
       "      Bokeh.index[id].model.document.clear();\n",
       "      delete Bokeh.index[id];\n",
       "    }\n",
       "\n",
       "    if (server_id !== undefined) {\n",
       "      // Clean up Bokeh references\n",
       "      var cmd = \"from bokeh.io.state import curstate; print(curstate().uuid_to_server['\" + server_id + \"'].get_sessions()[0].document.roots[0]._id)\";\n",
       "      cell.notebook.kernel.execute(cmd, {\n",
       "        iopub: {\n",
       "          output: function(msg) {\n",
       "            var id = msg.content.text.trim();\n",
       "            if (id in Bokeh.index) {\n",
       "              Bokeh.index[id].model.document.clear();\n",
       "              delete Bokeh.index[id];\n",
       "            }\n",
       "          }\n",
       "        }\n",
       "      });\n",
       "      // Destroy server and session\n",
       "      var cmd = \"import bokeh.io.notebook as ion; ion.destroy_server('\" + server_id + \"')\";\n",
       "      cell.notebook.kernel.execute(cmd);\n",
       "    }\n",
       "  }\n",
       "\n",
       "  /**\n",
       "   * Handle when a new output is added\n",
       "   */\n",
       "  function handleAddOutput(event, handle) {\n",
       "    var output_area = handle.output_area;\n",
       "    var output = handle.output;\n",
       "\n",
       "    // limit handleAddOutput to display_data with EXEC_MIME_TYPE content only\n",
       "    if ((output.output_type != \"display_data\") || (!output.data.hasOwnProperty(EXEC_MIME_TYPE))) {\n",
       "      return\n",
       "    }\n",
       "\n",
       "    var toinsert = output_area.element.find(\".\" + CLASS_NAME.split(' ')[0]);\n",
       "\n",
       "    if (output.metadata[EXEC_MIME_TYPE][\"id\"] !== undefined) {\n",
       "      toinsert[toinsert.length - 1].firstChild.textContent = output.data[JS_MIME_TYPE];\n",
       "      // store reference to embed id on output_area\n",
       "      output_area._bokeh_element_id = output.metadata[EXEC_MIME_TYPE][\"id\"];\n",
       "    }\n",
       "    if (output.metadata[EXEC_MIME_TYPE][\"server_id\"] !== undefined) {\n",
       "      var bk_div = document.createElement(\"div\");\n",
       "      bk_div.innerHTML = output.data[HTML_MIME_TYPE];\n",
       "      var script_attrs = bk_div.children[0].attributes;\n",
       "      for (var i = 0; i < script_attrs.length; i++) {\n",
       "        toinsert[toinsert.length - 1].firstChild.setAttribute(script_attrs[i].name, script_attrs[i].value);\n",
       "      }\n",
       "      // store reference to server id on output_area\n",
       "      output_area._bokeh_server_id = output.metadata[EXEC_MIME_TYPE][\"server_id\"];\n",
       "    }\n",
       "  }\n",
       "\n",
       "  function register_renderer(events, OutputArea) {\n",
       "\n",
       "    function append_mime(data, metadata, element) {\n",
       "      // create a DOM node to render to\n",
       "      var toinsert = this.create_output_subarea(\n",
       "        metadata,\n",
       "        CLASS_NAME,\n",
       "        EXEC_MIME_TYPE\n",
       "      );\n",
       "      this.keyboard_manager.register_events(toinsert);\n",
       "      // Render to node\n",
       "      var props = {data: data, metadata: metadata[EXEC_MIME_TYPE]};\n",
       "      render(props, toinsert[toinsert.length - 1]);\n",
       "      element.append(toinsert);\n",
       "      return toinsert\n",
       "    }\n",
       "\n",
       "    /* Handle when an output is cleared or removed */\n",
       "    events.on('clear_output.CodeCell', handleClearOutput);\n",
       "    events.on('delete.Cell', handleClearOutput);\n",
       "\n",
       "    /* Handle when a new output is added */\n",
       "    events.on('output_added.OutputArea', handleAddOutput);\n",
       "\n",
       "    /**\n",
       "     * Register the mime type and append_mime function with output_area\n",
       "     */\n",
       "    OutputArea.prototype.register_mime_type(EXEC_MIME_TYPE, append_mime, {\n",
       "      /* Is output safe? */\n",
       "      safe: true,\n",
       "      /* Index of renderer in `output_area.display_order` */\n",
       "      index: 0\n",
       "    });\n",
       "  }\n",
       "\n",
       "  // register the mime type if in Jupyter Notebook environment and previously unregistered\n",
       "  if (root.Jupyter !== undefined) {\n",
       "    var events = require('base/js/events');\n",
       "    var OutputArea = require('notebook/js/outputarea').OutputArea;\n",
       "\n",
       "    if (OutputArea.prototype.mime_types().indexOf(EXEC_MIME_TYPE) == -1) {\n",
       "      register_renderer(events, OutputArea);\n",
       "    }\n",
       "  }\n",
       "\n",
       "  \n",
       "  if (typeof (root._bokeh_timeout) === \"undefined\" || force === true) {\n",
       "    root._bokeh_timeout = Date.now() + 5000;\n",
       "    root._bokeh_failed_load = false;\n",
       "  }\n",
       "\n",
       "  var NB_LOAD_WARNING = {'data': {'text/html':\n",
       "     \"<div style='background-color: #fdd'>\\n\"+\n",
       "     \"<p>\\n\"+\n",
       "     \"BokehJS does not appear to have successfully loaded. If loading BokehJS from CDN, this \\n\"+\n",
       "     \"may be due to a slow or bad network connection. Possible fixes:\\n\"+\n",
       "     \"</p>\\n\"+\n",
       "     \"<ul>\\n\"+\n",
       "     \"<li>re-rerun `output_notebook()` to attempt to load from CDN again, or</li>\\n\"+\n",
       "     \"<li>use INLINE resources instead, as so:</li>\\n\"+\n",
       "     \"</ul>\\n\"+\n",
       "     \"<code>\\n\"+\n",
       "     \"from bokeh.resources import INLINE\\n\"+\n",
       "     \"output_notebook(resources=INLINE)\\n\"+\n",
       "     \"</code>\\n\"+\n",
       "     \"</div>\"}};\n",
       "\n",
       "  function display_loaded() {\n",
       "    var el = document.getElementById(\"1001\");\n",
       "    if (el != null) {\n",
       "      el.textContent = \"BokehJS is loading...\";\n",
       "    }\n",
       "    if (root.Bokeh !== undefined) {\n",
       "      if (el != null) {\n",
       "        el.textContent = \"BokehJS \" + root.Bokeh.version + \" successfully loaded.\";\n",
       "      }\n",
       "    } else if (Date.now() < root._bokeh_timeout) {\n",
       "      setTimeout(display_loaded, 100)\n",
       "    }\n",
       "  }\n",
       "\n",
       "\n",
       "  function run_callbacks() {\n",
       "    try {\n",
       "      root._bokeh_onload_callbacks.forEach(function(callback) {\n",
       "        if (callback != null)\n",
       "          callback();\n",
       "      });\n",
       "    } finally {\n",
       "      delete root._bokeh_onload_callbacks\n",
       "    }\n",
       "    console.debug(\"Bokeh: all callbacks have finished\");\n",
       "  }\n",
       "\n",
       "  function load_libs(css_urls, js_urls, callback) {\n",
       "    if (css_urls == null) css_urls = [];\n",
       "    if (js_urls == null) js_urls = [];\n",
       "\n",
       "    root._bokeh_onload_callbacks.push(callback);\n",
       "    if (root._bokeh_is_loading > 0) {\n",
       "      console.debug(\"Bokeh: BokehJS is being loaded, scheduling callback at\", now());\n",
       "      return null;\n",
       "    }\n",
       "    if (js_urls == null || js_urls.length === 0) {\n",
       "      run_callbacks();\n",
       "      return null;\n",
       "    }\n",
       "    console.debug(\"Bokeh: BokehJS not loaded, scheduling load and callback at\", now());\n",
       "    root._bokeh_is_loading = css_urls.length + js_urls.length;\n",
       "\n",
       "    function on_load() {\n",
       "      root._bokeh_is_loading--;\n",
       "      if (root._bokeh_is_loading === 0) {\n",
       "        console.debug(\"Bokeh: all BokehJS libraries/stylesheets loaded\");\n",
       "        run_callbacks()\n",
       "      }\n",
       "    }\n",
       "\n",
       "    function on_error() {\n",
       "      console.error(\"failed to load \" + url);\n",
       "    }\n",
       "\n",
       "    for (var i = 0; i < css_urls.length; i++) {\n",
       "      var url = css_urls[i];\n",
       "      const element = document.createElement(\"link\");\n",
       "      element.onload = on_load;\n",
       "      element.onerror = on_error;\n",
       "      element.rel = \"stylesheet\";\n",
       "      element.type = \"text/css\";\n",
       "      element.href = url;\n",
       "      console.debug(\"Bokeh: injecting link tag for BokehJS stylesheet: \", url);\n",
       "      document.body.appendChild(element);\n",
       "    }\n",
       "\n",
       "    for (var i = 0; i < js_urls.length; i++) {\n",
       "      var url = js_urls[i];\n",
       "      var element = document.createElement('script');\n",
       "      element.onload = on_load;\n",
       "      element.onerror = on_error;\n",
       "      element.async = false;\n",
       "      element.src = url;\n",
       "      console.debug(\"Bokeh: injecting script tag for BokehJS library: \", url);\n",
       "      document.head.appendChild(element);\n",
       "    }\n",
       "  };var element = document.getElementById(\"1001\");\n",
       "  if (element == null) {\n",
       "    console.error(\"Bokeh: ERROR: autoload.js configured with elementid '1001' but no matching script tag was found. \")\n",
       "    return false;\n",
       "  }\n",
       "\n",
       "  function inject_raw_css(css) {\n",
       "    const element = document.createElement(\"style\");\n",
       "    element.appendChild(document.createTextNode(css));\n",
       "    document.body.appendChild(element);\n",
       "  }\n",
       "\n",
       "  var js_urls = [\"https://cdn.pydata.org/bokeh/release/bokeh-1.2.0.min.js\", \"https://cdn.pydata.org/bokeh/release/bokeh-widgets-1.2.0.min.js\", \"https://cdn.pydata.org/bokeh/release/bokeh-tables-1.2.0.min.js\", \"https://cdn.pydata.org/bokeh/release/bokeh-gl-1.2.0.min.js\"];\n",
       "  var css_urls = [\"https://cdn.pydata.org/bokeh/release/bokeh-1.2.0.min.css\", \"https://cdn.pydata.org/bokeh/release/bokeh-widgets-1.2.0.min.css\", \"https://cdn.pydata.org/bokeh/release/bokeh-tables-1.2.0.min.css\"];\n",
       "\n",
       "  var inline_js = [\n",
       "    function(Bokeh) {\n",
       "      Bokeh.set_log_level(\"info\");\n",
       "    },\n",
       "    \n",
       "    function(Bokeh) {\n",
       "      \n",
       "    },\n",
       "    function(Bokeh) {} // ensure no trailing comma for IE\n",
       "  ];\n",
       "\n",
       "  function run_inline_js() {\n",
       "    \n",
       "    if ((root.Bokeh !== undefined) || (force === true)) {\n",
       "      for (var i = 0; i < inline_js.length; i++) {\n",
       "        inline_js[i].call(root, root.Bokeh);\n",
       "      }if (force === true) {\n",
       "        display_loaded();\n",
       "      }} else if (Date.now() < root._bokeh_timeout) {\n",
       "      setTimeout(run_inline_js, 100);\n",
       "    } else if (!root._bokeh_failed_load) {\n",
       "      console.log(\"Bokeh: BokehJS failed to load within specified timeout.\");\n",
       "      root._bokeh_failed_load = true;\n",
       "    } else if (force !== true) {\n",
       "      var cell = $(document.getElementById(\"1001\")).parents('.cell').data().cell;\n",
       "      cell.output_area.append_execute_result(NB_LOAD_WARNING)\n",
       "    }\n",
       "\n",
       "  }\n",
       "\n",
       "  if (root._bokeh_is_loading === 0) {\n",
       "    console.debug(\"Bokeh: BokehJS loaded, going straight to plotting\");\n",
       "    run_inline_js();\n",
       "  } else {\n",
       "    load_libs(css_urls, js_urls, function() {\n",
       "      console.debug(\"Bokeh: BokehJS plotting callback run at\", now());\n",
       "      run_inline_js();\n",
       "    });\n",
       "  }\n",
       "}(window));"
      ],
      "application/vnd.bokehjs_load.v0+json": "\n(function(root) {\n  function now() {\n    return new Date();\n  }\n\n  var force = true;\n\n  if (typeof root._bokeh_onload_callbacks === \"undefined\" || force === true) {\n    root._bokeh_onload_callbacks = [];\n    root._bokeh_is_loading = undefined;\n  }\n\n  \n\n  \n  if (typeof (root._bokeh_timeout) === \"undefined\" || force === true) {\n    root._bokeh_timeout = Date.now() + 5000;\n    root._bokeh_failed_load = false;\n  }\n\n  var NB_LOAD_WARNING = {'data': {'text/html':\n     \"<div style='background-color: #fdd'>\\n\"+\n     \"<p>\\n\"+\n     \"BokehJS does not appear to have successfully loaded. If loading BokehJS from CDN, this \\n\"+\n     \"may be due to a slow or bad network connection. Possible fixes:\\n\"+\n     \"</p>\\n\"+\n     \"<ul>\\n\"+\n     \"<li>re-rerun `output_notebook()` to attempt to load from CDN again, or</li>\\n\"+\n     \"<li>use INLINE resources instead, as so:</li>\\n\"+\n     \"</ul>\\n\"+\n     \"<code>\\n\"+\n     \"from bokeh.resources import INLINE\\n\"+\n     \"output_notebook(resources=INLINE)\\n\"+\n     \"</code>\\n\"+\n     \"</div>\"}};\n\n  function display_loaded() {\n    var el = document.getElementById(\"1001\");\n    if (el != null) {\n      el.textContent = \"BokehJS is loading...\";\n    }\n    if (root.Bokeh !== undefined) {\n      if (el != null) {\n        el.textContent = \"BokehJS \" + root.Bokeh.version + \" successfully loaded.\";\n      }\n    } else if (Date.now() < root._bokeh_timeout) {\n      setTimeout(display_loaded, 100)\n    }\n  }\n\n\n  function run_callbacks() {\n    try {\n      root._bokeh_onload_callbacks.forEach(function(callback) {\n        if (callback != null)\n          callback();\n      });\n    } finally {\n      delete root._bokeh_onload_callbacks\n    }\n    console.debug(\"Bokeh: all callbacks have finished\");\n  }\n\n  function load_libs(css_urls, js_urls, callback) {\n    if (css_urls == null) css_urls = [];\n    if (js_urls == null) js_urls = [];\n\n    root._bokeh_onload_callbacks.push(callback);\n    if (root._bokeh_is_loading > 0) {\n      console.debug(\"Bokeh: BokehJS is being loaded, scheduling callback at\", now());\n      return null;\n    }\n    if (js_urls == null || js_urls.length === 0) {\n      run_callbacks();\n      return null;\n    }\n    console.debug(\"Bokeh: BokehJS not loaded, scheduling load and callback at\", now());\n    root._bokeh_is_loading = css_urls.length + js_urls.length;\n\n    function on_load() {\n      root._bokeh_is_loading--;\n      if (root._bokeh_is_loading === 0) {\n        console.debug(\"Bokeh: all BokehJS libraries/stylesheets loaded\");\n        run_callbacks()\n      }\n    }\n\n    function on_error() {\n      console.error(\"failed to load \" + url);\n    }\n\n    for (var i = 0; i < css_urls.length; i++) {\n      var url = css_urls[i];\n      const element = document.createElement(\"link\");\n      element.onload = on_load;\n      element.onerror = on_error;\n      element.rel = \"stylesheet\";\n      element.type = \"text/css\";\n      element.href = url;\n      console.debug(\"Bokeh: injecting link tag for BokehJS stylesheet: \", url);\n      document.body.appendChild(element);\n    }\n\n    for (var i = 0; i < js_urls.length; i++) {\n      var url = js_urls[i];\n      var element = document.createElement('script');\n      element.onload = on_load;\n      element.onerror = on_error;\n      element.async = false;\n      element.src = url;\n      console.debug(\"Bokeh: injecting script tag for BokehJS library: \", url);\n      document.head.appendChild(element);\n    }\n  };var element = document.getElementById(\"1001\");\n  if (element == null) {\n    console.error(\"Bokeh: ERROR: autoload.js configured with elementid '1001' but no matching script tag was found. \")\n    return false;\n  }\n\n  function inject_raw_css(css) {\n    const element = document.createElement(\"style\");\n    element.appendChild(document.createTextNode(css));\n    document.body.appendChild(element);\n  }\n\n  var js_urls = [\"https://cdn.pydata.org/bokeh/release/bokeh-1.2.0.min.js\", \"https://cdn.pydata.org/bokeh/release/bokeh-widgets-1.2.0.min.js\", \"https://cdn.pydata.org/bokeh/release/bokeh-tables-1.2.0.min.js\", \"https://cdn.pydata.org/bokeh/release/bokeh-gl-1.2.0.min.js\"];\n  var css_urls = [\"https://cdn.pydata.org/bokeh/release/bokeh-1.2.0.min.css\", \"https://cdn.pydata.org/bokeh/release/bokeh-widgets-1.2.0.min.css\", \"https://cdn.pydata.org/bokeh/release/bokeh-tables-1.2.0.min.css\"];\n\n  var inline_js = [\n    function(Bokeh) {\n      Bokeh.set_log_level(\"info\");\n    },\n    \n    function(Bokeh) {\n      \n    },\n    function(Bokeh) {} // ensure no trailing comma for IE\n  ];\n\n  function run_inline_js() {\n    \n    if ((root.Bokeh !== undefined) || (force === true)) {\n      for (var i = 0; i < inline_js.length; i++) {\n        inline_js[i].call(root, root.Bokeh);\n      }if (force === true) {\n        display_loaded();\n      }} else if (Date.now() < root._bokeh_timeout) {\n      setTimeout(run_inline_js, 100);\n    } else if (!root._bokeh_failed_load) {\n      console.log(\"Bokeh: BokehJS failed to load within specified timeout.\");\n      root._bokeh_failed_load = true;\n    } else if (force !== true) {\n      var cell = $(document.getElementById(\"1001\")).parents('.cell').data().cell;\n      cell.output_area.append_execute_result(NB_LOAD_WARNING)\n    }\n\n  }\n\n  if (root._bokeh_is_loading === 0) {\n    console.debug(\"Bokeh: BokehJS loaded, going straight to plotting\");\n    run_inline_js();\n  } else {\n    load_libs(css_urls, js_urls, function() {\n      console.debug(\"Bokeh: BokehJS plotting callback run at\", now());\n      run_inline_js();\n    });\n  }\n}(window));"
     },
     "metadata": {},
     "output_type": "display_data"
    }
   ],
   "source": [
    "from bokeh.io import show, output_notebook\n",
    "from bokeh.layouts import gridplot\n",
    "from bokeh.models.scales import LogScale\n",
    "output_notebook()"
   ]
  },
  {
   "cell_type": "code",
   "execution_count": null,
   "id": "a90371f0-f6d2-4b83-a3ef-82b3d4e3256e",
   "metadata": {},
   "outputs": [],
   "source": [
    "import pandas as pd"
   ]
  },
  {
   "cell_type": "markdown",
   "id": "canadian-india",
   "metadata": {},
   "source": [
    "Load variant data."
   ]
  },
  {
   "cell_type": "code",
   "execution_count": null,
   "id": "5c5a690f-c65f-42b9-b6b7-c541b50c5635",
   "metadata": {},
   "outputs": [],
   "source": [
    "BASE_DIR = '/home/olavur/experiments/2020-11-13_fargen1_exome_analysis'\n",
    "mt = hl.read_matrix_table(BASE_DIR + '/data/mt/variants.mt')"
   ]
  },
  {
   "cell_type": "code",
   "execution_count": null,
   "id": "e3f04d99-9bd4-4205-935b-abb721d3bff0",
   "metadata": {},
   "outputs": [
    {
     "name": "stdout",
     "output_type": "stream",
     "text": [
      "Number of variants: 911929\n",
      "Number of samples: 473\n"
     ]
    }
   ],
   "source": [
    "n_variants, n_samples = mt.count()\n",
    "print('Number of variants: ' + str(n_variants))\n",
    "print('Number of samples: ' + str(n_samples))"
   ]
  },
  {
   "cell_type": "markdown",
   "id": "39eaca31-56a7-45bf-8026-cbb790c78bc1",
   "metadata": {},
   "source": [
    "## Variant QC"
   ]
  },
  {
   "cell_type": "markdown",
   "id": "eace0bfa-ab61-4827-85d4-09e88c49b970",
   "metadata": {},
   "source": [
    "### Variant counts"
   ]
  },
  {
   "cell_type": "code",
   "execution_count": null,
   "id": "bcee21b2-1324-4a77-bed3-9b575ddae681",
   "metadata": {},
   "outputs": [],
   "source": [
    "def variant_counts(mt):\n",
    "    # Count number of variants, SNPs and indels. Only first allele in alternate allele list is considered.\n",
    "    variant_counts_struct = mt.aggregate_rows(hl.struct(\n",
    "        n_variants = hl.agg.count(),\n",
    "        snps_fraction = hl.agg.count_where(hl.is_snp(mt.alleles[0], mt.alleles[1])) / hl.agg.count(),\n",
    "        insertions_fraction = hl.agg.count_where(hl.is_insertion(mt.alleles[0], mt.alleles[1])) / hl.agg.count(),\n",
    "        deletions_fraction = hl.agg.count_where(hl.is_deletion(mt.alleles[0], mt.alleles[1])) / hl.agg.count(),\n",
    "        mnp_fraction = hl.agg.count_where(hl.is_mnp(mt.alleles[0], mt.alleles[1])) / hl.agg.count(),\n",
    "        complex_fraction = hl.agg.count_where(hl.is_complex(mt.alleles[0], mt.alleles[1])) / hl.agg.count(),\n",
    "        star_fraction = hl.agg.count_where(hl.is_star(mt.alleles[0], mt.alleles[1])) / hl.agg.count()))\n",
    "    \n",
    "    variant_counts_pd = pd.DataFrame(variant_counts_struct.values(), index=variant_counts_struct.keys(), columns=[''])\n",
    "    return variant_counts_pd"
   ]
  },
  {
   "cell_type": "markdown",
   "id": "a8b50f97-8413-40f7-a8bf-34de85a1471b",
   "metadata": {},
   "source": [
    "Create a dataset where multi-allelic sites are split."
   ]
  },
  {
   "cell_type": "code",
   "execution_count": null,
   "id": "895d1887-e641-4d03-868e-5c2602a0cd20",
   "metadata": {},
   "outputs": [],
   "source": [
    "# NOTE: permit_shuffle is needed when there are duplicate loci, one of which has multiple alternate alleles. Apparently, this dataset has such sites.\n",
    "split_mt = hl.split_multi_hts(mt, permit_shuffle=True)"
   ]
  },
  {
   "cell_type": "code",
   "execution_count": null,
   "id": "9fff3e1b-fce3-4dae-88c4-51017e7e2a80",
   "metadata": {},
   "outputs": [
    {
     "name": "stderr",
     "output_type": "stream",
     "text": [
      "[Stage 0:=====================================>                  (49 + 24) / 74]"
     ]
    },
    {
     "data": {
      "text/html": [
       "<div>\n",
       "<style scoped>\n",
       "    .dataframe tbody tr th:only-of-type {\n",
       "        vertical-align: middle;\n",
       "    }\n",
       "\n",
       "    .dataframe tbody tr th {\n",
       "        vertical-align: top;\n",
       "    }\n",
       "\n",
       "    .dataframe thead th {\n",
       "        text-align: right;\n",
       "    }\n",
       "</style>\n",
       "<table border=\"1\" class=\"dataframe\">\n",
       "  <thead>\n",
       "    <tr style=\"text-align: right;\">\n",
       "      <th></th>\n",
       "      <th></th>\n",
       "    </tr>\n",
       "  </thead>\n",
       "  <tbody>\n",
       "    <tr>\n",
       "      <th>n_variants</th>\n",
       "      <td>1.106101e+06</td>\n",
       "    </tr>\n",
       "    <tr>\n",
       "      <th>snps_fraction</th>\n",
       "      <td>5.907046e-01</td>\n",
       "    </tr>\n",
       "    <tr>\n",
       "      <th>insertions_fraction</th>\n",
       "      <td>2.523793e-01</td>\n",
       "    </tr>\n",
       "    <tr>\n",
       "      <th>deletions_fraction</th>\n",
       "      <td>1.569161e-01</td>\n",
       "    </tr>\n",
       "    <tr>\n",
       "      <th>mnp_fraction</th>\n",
       "      <td>0.000000e+00</td>\n",
       "    </tr>\n",
       "    <tr>\n",
       "      <th>complex_fraction</th>\n",
       "      <td>0.000000e+00</td>\n",
       "    </tr>\n",
       "    <tr>\n",
       "      <th>star_fraction</th>\n",
       "      <td>0.000000e+00</td>\n",
       "    </tr>\n",
       "  </tbody>\n",
       "</table>\n",
       "</div>"
      ],
      "text/plain": [
       "                                 \n",
       "n_variants           1.106101e+06\n",
       "snps_fraction        5.907046e-01\n",
       "insertions_fraction  2.523793e-01\n",
       "deletions_fraction   1.569161e-01\n",
       "mnp_fraction         0.000000e+00\n",
       "complex_fraction     0.000000e+00\n",
       "star_fraction        0.000000e+00"
      ]
     },
     "execution_count": 8,
     "metadata": {},
     "output_type": "execute_result"
    }
   ],
   "source": [
    "variant_counts(split_mt)"
   ]
  },
  {
   "cell_type": "markdown",
   "id": "436ee677-7395-4d55-a603-81eb3b865fa8",
   "metadata": {},
   "source": [
    "### Variant call quality (QUAL)\n",
    "\n",
    "Plot distribution of QUAL values. Note that a hard cut-off filter has been used on QUAL in the joint genotyping pipeline."
   ]
  },
  {
   "cell_type": "code",
   "execution_count": null,
   "id": "a925ea05-184a-4ef7-8a2b-07facb9973ac",
   "metadata": {},
   "outputs": [
    {
     "data": {
      "text/html": [
       "\n",
       "\n",
       "\n",
       "\n",
       "\n",
       "\n",
       "  <div class=\"bk-root\" id=\"641f1976-5deb-44a1-aae5-29c5a85883ce\" data-root-id=\"1002\"></div>\n"
      ]
     },
     "metadata": {},
     "output_type": "display_data"
    },
    {
     "data": {
      "application/javascript": [
       "(function(root) {\n",
       "  function embed_document(root) {\n",
       "    \n",
       "  var docs_json = {\"2fcf65c4-578b-45c0-865f-59b80eade7b1\":{\"roots\":{\"references\":[{\"attributes\":{\"background_fill_color\":{\"value\":\"#EEEEEE\"},\"below\":[{\"id\":\"1012\",\"type\":\"LinearAxis\"}],\"center\":[{\"id\":\"1016\",\"type\":\"Grid\"},{\"id\":\"1021\",\"type\":\"Grid\"},{\"id\":\"1046\",\"type\":\"Legend\"}],\"left\":[{\"id\":\"1017\",\"type\":\"LinearAxis\"}],\"plot_height\":500,\"plot_width\":800,\"renderers\":[{\"id\":\"1038\",\"type\":\"GlyphRenderer\"}],\"title\":null,\"toolbar\":{\"id\":\"1028\",\"type\":\"Toolbar\"},\"x_range\":{\"id\":\"1004\",\"type\":\"Range1d\"},\"x_scale\":{\"id\":\"1008\",\"type\":\"LinearScale\"},\"y_range\":{\"id\":\"1006\",\"type\":\"DataRange1d\"},\"y_scale\":{\"id\":\"1010\",\"type\":\"LinearScale\"}},\"id\":\"1002\",\"subtype\":\"Figure\",\"type\":\"Plot\"},{\"attributes\":{},\"id\":\"1043\",\"type\":\"BasicTickFormatter\"},{\"attributes\":{\"source\":{\"id\":\"1035\",\"type\":\"ColumnDataSource\"}},\"id\":\"1039\",\"type\":\"CDSView\"},{\"attributes\":{},\"id\":\"1022\",\"type\":\"PanTool\"},{\"attributes\":{\"ticker\":{\"id\":\"1013\",\"type\":\"BasicTicker\"}},\"id\":\"1016\",\"type\":\"Grid\"},{\"attributes\":{},\"id\":\"1054\",\"type\":\"UnionRenderers\"},{\"attributes\":{\"callback\":null,\"data\":{\"left\":[200.01,127537.655,254875.30000000002,382212.945,509550.59,636888.235,764225.88,891563.525,1018901.17,1146238.815,1273576.46,1400914.105,1528251.75,1655589.395,1782927.04,1910264.685,2037602.33,2164939.9749999996,2292277.6199999996,2419615.2649999997,2546952.9099999997,2674290.5549999997,2801628.1999999997,2928965.8449999997,3056303.4899999998,3183641.135,3310978.78,3438316.425,3565654.07,3692991.715,3820329.36,3947667.005,4075004.65,4202342.295,4329679.9399999995,4457017.585,4584355.2299999995,4711692.875,4839030.52,4966368.165,5093705.81,5221043.455,5348381.1,5475718.745,5603056.39,5730394.035,5857731.68,5985069.325,6112406.97,6239744.615],\"right\":[127537.655,254875.30000000002,382212.945,509550.59,636888.235,764225.88,891563.525,1018901.17,1146238.815,1273576.46,1400914.105,1528251.75,1655589.395,1782927.04,1910264.685,2037602.33,2164939.9749999996,2292277.6199999996,2419615.2649999997,2546952.9099999997,2674290.5549999997,2801628.1999999997,2928965.8449999997,3056303.4899999998,3183641.135,3310978.78,3438316.425,3565654.07,3692991.715,3820329.36,3947667.005,4075004.65,4202342.295,4329679.9399999995,4457017.585,4584355.2299999995,4711692.875,4839030.52,4966368.165,5093705.81,5221043.455,5348381.1,5475718.745,5603056.39,5730394.035,5857731.68,5985069.325,6112406.97,6239744.615,6367082.26],\"top\":[827087,41469,18077,9642,5315,3304,1958,1335,874,645,524,359,302,212,174,152,122,99,72,49,51,38,18,15,10,5,5,5,3,1,1,2,1,0,2,0,0,0,0,0,0,0,0,0,0,0,0,0,0,1]},\"selected\":{\"id\":\"1055\",\"type\":\"Selection\"},\"selection_policy\":{\"id\":\"1054\",\"type\":\"UnionRenderers\"}},\"id\":\"1035\",\"type\":\"ColumnDataSource\"},{\"attributes\":{\"items\":[{\"id\":\"1047\",\"type\":\"LegendItem\"}]},\"id\":\"1046\",\"type\":\"Legend\"},{\"attributes\":{},\"id\":\"1041\",\"type\":\"BasicTickFormatter\"},{\"attributes\":{},\"id\":\"1027\",\"type\":\"HelpTool\"},{\"attributes\":{\"callback\":null,\"end\":6685426.3725,\"start\":-318144.10250000004},\"id\":\"1004\",\"type\":\"Range1d\"},{\"attributes\":{},\"id\":\"1013\",\"type\":\"BasicTicker\"},{\"attributes\":{},\"id\":\"1055\",\"type\":\"Selection\"},{\"attributes\":{\"active_drag\":\"auto\",\"active_inspect\":\"auto\",\"active_multi\":null,\"active_scroll\":\"auto\",\"active_tap\":\"auto\",\"tools\":[{\"id\":\"1022\",\"type\":\"PanTool\"},{\"id\":\"1023\",\"type\":\"WheelZoomTool\"},{\"id\":\"1024\",\"type\":\"BoxZoomTool\"},{\"id\":\"1025\",\"type\":\"SaveTool\"},{\"id\":\"1026\",\"type\":\"ResetTool\"},{\"id\":\"1027\",\"type\":\"HelpTool\"}]},\"id\":\"1028\",\"type\":\"Toolbar\"},{\"attributes\":{},\"id\":\"1023\",\"type\":\"WheelZoomTool\"},{\"attributes\":{\"bottom\":{\"value\":0},\"fill_color\":{\"value\":\"#1f77b4\"},\"left\":{\"field\":\"left\"},\"right\":{\"field\":\"right\"},\"top\":{\"field\":\"top\"}},\"id\":\"1036\",\"type\":\"Quad\"},{\"attributes\":{},\"id\":\"1010\",\"type\":\"LinearScale\"},{\"attributes\":{},\"id\":\"1018\",\"type\":\"BasicTicker\"},{\"attributes\":{\"label\":{\"value\":\"Variant call quality (QUAL)\"},\"renderers\":[{\"id\":\"1038\",\"type\":\"GlyphRenderer\"}]},\"id\":\"1047\",\"type\":\"LegendItem\"},{\"attributes\":{\"bottom\":{\"value\":0},\"fill_alpha\":{\"value\":0.1},\"fill_color\":{\"value\":\"#1f77b4\"},\"left\":{\"field\":\"left\"},\"line_alpha\":{\"value\":0.1},\"line_color\":{\"value\":\"#1f77b4\"},\"right\":{\"field\":\"right\"},\"top\":{\"field\":\"top\"}},\"id\":\"1037\",\"type\":\"Quad\"},{\"attributes\":{},\"id\":\"1008\",\"type\":\"LinearScale\"},{\"attributes\":{\"callback\":null},\"id\":\"1006\",\"type\":\"DataRange1d\"},{\"attributes\":{\"axis_label\":\"Variant call quality (QUAL)\",\"formatter\":{\"id\":\"1043\",\"type\":\"BasicTickFormatter\"},\"ticker\":{\"id\":\"1013\",\"type\":\"BasicTicker\"}},\"id\":\"1012\",\"type\":\"LinearAxis\"},{\"attributes\":{\"bottom_units\":\"screen\",\"fill_alpha\":{\"value\":0.5},\"fill_color\":{\"value\":\"lightgrey\"},\"left_units\":\"screen\",\"level\":\"overlay\",\"line_alpha\":{\"value\":1.0},\"line_color\":{\"value\":\"black\"},\"line_dash\":[4,4],\"line_width\":{\"value\":2},\"render_mode\":\"css\",\"right_units\":\"screen\",\"top_units\":\"screen\"},\"id\":\"1045\",\"type\":\"BoxAnnotation\"},{\"attributes\":{\"dimension\":1,\"ticker\":{\"id\":\"1018\",\"type\":\"BasicTicker\"}},\"id\":\"1021\",\"type\":\"Grid\"},{\"attributes\":{},\"id\":\"1026\",\"type\":\"ResetTool\"},{\"attributes\":{\"axis_label\":\"Frequency\",\"formatter\":{\"id\":\"1041\",\"type\":\"BasicTickFormatter\"},\"ticker\":{\"id\":\"1018\",\"type\":\"BasicTicker\"}},\"id\":\"1017\",\"type\":\"LinearAxis\"},{\"attributes\":{\"overlay\":{\"id\":\"1045\",\"type\":\"BoxAnnotation\"}},\"id\":\"1024\",\"type\":\"BoxZoomTool\"},{\"attributes\":{},\"id\":\"1025\",\"type\":\"SaveTool\"},{\"attributes\":{\"data_source\":{\"id\":\"1035\",\"type\":\"ColumnDataSource\"},\"glyph\":{\"id\":\"1036\",\"type\":\"Quad\"},\"hover_glyph\":null,\"muted_glyph\":null,\"nonselection_glyph\":{\"id\":\"1037\",\"type\":\"Quad\"},\"selection_glyph\":null,\"view\":{\"id\":\"1039\",\"type\":\"CDSView\"}},\"id\":\"1038\",\"type\":\"GlyphRenderer\"}],\"root_ids\":[\"1002\"]},\"title\":\"Bokeh Application\",\"version\":\"1.2.0\"}};\n",
       "  var render_items = [{\"docid\":\"2fcf65c4-578b-45c0-865f-59b80eade7b1\",\"roots\":{\"1002\":\"641f1976-5deb-44a1-aae5-29c5a85883ce\"}}];\n",
       "  root.Bokeh.embed.embed_items_notebook(docs_json, render_items);\n",
       "\n",
       "  }\n",
       "  if (root.Bokeh !== undefined) {\n",
       "    embed_document(root);\n",
       "  } else {\n",
       "    var attempts = 0;\n",
       "    var timer = setInterval(function(root) {\n",
       "      if (root.Bokeh !== undefined) {\n",
       "        embed_document(root);\n",
       "        clearInterval(timer);\n",
       "      }\n",
       "      attempts++;\n",
       "      if (attempts > 100) {\n",
       "        console.log(\"Bokeh: ERROR: Unable to run BokehJS code because BokehJS library is missing\");\n",
       "        clearInterval(timer);\n",
       "      }\n",
       "    }, 10, root)\n",
       "  }\n",
       "})(window);"
      ],
      "application/vnd.bokehjs_exec.v0+json": ""
     },
     "metadata": {
      "application/vnd.bokehjs_exec.v0+json": {
       "id": "1002"
      }
     },
     "output_type": "display_data"
    }
   ],
   "source": [
    "p = hl.plot.histogram(mt.qual, legend='Variant call quality (QUAL)')\n",
    "p.plot_width = 800\n",
    "p.plot_height = 500\n",
    "show(p)"
   ]
  },
  {
   "cell_type": "code",
   "execution_count": null,
   "id": "d177274b-461a-44f0-8222-30ddd508d8d7",
   "metadata": {},
   "outputs": [
    {
     "data": {
      "text/html": [
       "\n",
       "\n",
       "\n",
       "\n",
       "\n",
       "\n",
       "  <div class=\"bk-root\" id=\"e4dde14e-9a4c-477e-a30c-2c8ac3bb7800\" data-root-id=\"1104\"></div>\n"
      ]
     },
     "metadata": {},
     "output_type": "display_data"
    },
    {
     "data": {
      "application/javascript": [
       "(function(root) {\n",
       "  function embed_document(root) {\n",
       "    \n",
       "  var docs_json = {\"f5e80cbe-cd84-49b2-8422-160f514526c1\":{\"roots\":{\"references\":[{\"attributes\":{\"background_fill_color\":{\"value\":\"#EEEEEE\"},\"below\":[{\"id\":\"1114\",\"type\":\"LinearAxis\"}],\"center\":[{\"id\":\"1118\",\"type\":\"Grid\"},{\"id\":\"1123\",\"type\":\"Grid\"},{\"id\":\"1148\",\"type\":\"Legend\"}],\"left\":[{\"id\":\"1119\",\"type\":\"LinearAxis\"}],\"plot_height\":500,\"plot_width\":800,\"renderers\":[{\"id\":\"1140\",\"type\":\"GlyphRenderer\"}],\"title\":null,\"toolbar\":{\"id\":\"1130\",\"type\":\"Toolbar\"},\"x_range\":{\"id\":\"1106\",\"type\":\"Range1d\"},\"x_scale\":{\"id\":\"1110\",\"type\":\"LinearScale\"},\"y_range\":{\"id\":\"1108\",\"type\":\"DataRange1d\"},\"y_scale\":{\"id\":\"1112\",\"type\":\"LinearScale\"}},\"id\":\"1104\",\"subtype\":\"Figure\",\"type\":\"Plot\"},{\"attributes\":{\"bottom\":{\"value\":0},\"fill_alpha\":{\"value\":0.1},\"fill_color\":{\"value\":\"#1f77b4\"},\"left\":{\"field\":\"left\"},\"line_alpha\":{\"value\":0.1},\"line_color\":{\"value\":\"#1f77b4\"},\"right\":{\"field\":\"right\"},\"top\":{\"field\":\"top\"}},\"id\":\"1139\",\"type\":\"Quad\"},{\"attributes\":{},\"id\":\"1164\",\"type\":\"UnionRenderers\"},{\"attributes\":{\"label\":{\"value\":\"Variant call quality (log10 of QUAL)\"},\"renderers\":[{\"id\":\"1140\",\"type\":\"GlyphRenderer\"}]},\"id\":\"1149\",\"type\":\"LegendItem\"},{\"attributes\":{\"axis_label\":\"Variant call quality (log10 of QUAL)\",\"formatter\":{\"id\":\"1145\",\"type\":\"BasicTickFormatter\"},\"ticker\":{\"id\":\"1115\",\"type\":\"BasicTicker\"}},\"id\":\"1114\",\"type\":\"LinearAxis\"},{\"attributes\":{},\"id\":\"1125\",\"type\":\"WheelZoomTool\"},{\"attributes\":{},\"id\":\"1124\",\"type\":\"PanTool\"},{\"attributes\":{\"bottom\":{\"value\":0},\"fill_color\":{\"value\":\"#1f77b4\"},\"left\":{\"field\":\"left\"},\"right\":{\"field\":\"right\"},\"top\":{\"field\":\"top\"}},\"id\":\"1138\",\"type\":\"Quad\"},{\"attributes\":{\"active_drag\":\"auto\",\"active_inspect\":\"auto\",\"active_multi\":null,\"active_scroll\":\"auto\",\"active_tap\":\"auto\",\"tools\":[{\"id\":\"1124\",\"type\":\"PanTool\"},{\"id\":\"1125\",\"type\":\"WheelZoomTool\"},{\"id\":\"1126\",\"type\":\"BoxZoomTool\"},{\"id\":\"1127\",\"type\":\"SaveTool\"},{\"id\":\"1128\",\"type\":\"ResetTool\"},{\"id\":\"1129\",\"type\":\"HelpTool\"}]},\"id\":\"1130\",\"type\":\"Toolbar\"},{\"attributes\":{},\"id\":\"1145\",\"type\":\"BasicTickFormatter\"},{\"attributes\":{\"ticker\":{\"id\":\"1115\",\"type\":\"BasicTicker\"}},\"id\":\"1118\",\"type\":\"Grid\"},{\"attributes\":{},\"id\":\"1143\",\"type\":\"BasicTickFormatter\"},{\"attributes\":{},\"id\":\"1110\",\"type\":\"LinearScale\"},{\"attributes\":{\"items\":[{\"id\":\"1149\",\"type\":\"LegendItem\"}]},\"id\":\"1148\",\"type\":\"Legend\"},{\"attributes\":{\"data_source\":{\"id\":\"1137\",\"type\":\"ColumnDataSource\"},\"glyph\":{\"id\":\"1138\",\"type\":\"Quad\"},\"hover_glyph\":null,\"muted_glyph\":null,\"nonselection_glyph\":{\"id\":\"1139\",\"type\":\"Quad\"},\"selection_glyph\":null,\"view\":{\"id\":\"1141\",\"type\":\"CDSView\"}},\"id\":\"1140\",\"type\":\"GlyphRenderer\"},{\"attributes\":{\"bottom_units\":\"screen\",\"fill_alpha\":{\"value\":0.5},\"fill_color\":{\"value\":\"lightgrey\"},\"left_units\":\"screen\",\"level\":\"overlay\",\"line_alpha\":{\"value\":1.0},\"line_color\":{\"value\":\"black\"},\"line_dash\":[4,4],\"line_width\":{\"value\":2},\"render_mode\":\"css\",\"right_units\":\"screen\",\"top_units\":\"screen\"},\"id\":\"1147\",\"type\":\"BoxAnnotation\"},{\"attributes\":{},\"id\":\"1165\",\"type\":\"Selection\"},{\"attributes\":{},\"id\":\"1128\",\"type\":\"ResetTool\"},{\"attributes\":{\"dimension\":1,\"ticker\":{\"id\":\"1120\",\"type\":\"BasicTicker\"}},\"id\":\"1123\",\"type\":\"Grid\"},{\"attributes\":{\"callback\":null},\"id\":\"1108\",\"type\":\"DataRange1d\"},{\"attributes\":{\"axis_label\":\"Frequency\",\"formatter\":{\"id\":\"1143\",\"type\":\"BasicTickFormatter\"},\"ticker\":{\"id\":\"1120\",\"type\":\"BasicTicker\"}},\"id\":\"1119\",\"type\":\"LinearAxis\"},{\"attributes\":{},\"id\":\"1127\",\"type\":\"SaveTool\"},{\"attributes\":{},\"id\":\"1112\",\"type\":\"LinearScale\"},{\"attributes\":{\"source\":{\"id\":\"1137\",\"type\":\"ColumnDataSource\"}},\"id\":\"1141\",\"type\":\"CDSView\"},{\"attributes\":{\"callback\":null,\"data\":{\"left\":[2.3010517098452263,2.3911094848643306,2.481167259883435,2.571225034902539,2.6612828099216435,2.7513405849407473,2.8413983599598516,2.931456134978956,3.02151390999806,3.1115716850171644,3.2016294600362687,3.291687235055373,3.381745010074477,3.4718027850935815,3.5618605601126854,3.6519183351317897,3.741976110150894,3.832033885169998,3.9220916601891025,4.012149435208206,4.102207210227311,4.192264985246415,4.282322760265519,4.3723805352846234,4.462438310303728,4.552496085322832,4.642553860341936,4.732611635361041,4.822669410380144,4.912727185399248,5.002784960418353,5.092842735437458,5.1829005104565615,5.272958285475665,5.36301606049477,5.453073835513875,5.543131610532979,5.6331893855520825,5.723247160571187,5.813304935590291,5.903362710609395,5.9934204856285,6.083478260647604,6.173536035666708,6.263593810685812,6.353651585704917,6.443709360724021,6.533767135743125,6.623824910762229,6.713882685781333],\"right\":[2.3911094848643306,2.481167259883435,2.571225034902539,2.6612828099216435,2.7513405849407473,2.8413983599598516,2.931456134978956,3.02151390999806,3.1115716850171644,3.2016294600362687,3.291687235055373,3.381745010074477,3.4718027850935815,3.5618605601126854,3.6519183351317897,3.741976110150894,3.832033885169998,3.9220916601891025,4.012149435208206,4.102207210227311,4.192264985246415,4.282322760265519,4.3723805352846234,4.462438310303728,4.552496085322832,4.642553860341936,4.732611635361041,4.822669410380144,4.912727185399248,5.002784960418353,5.092842735437458,5.1829005104565615,5.272958285475665,5.36301606049477,5.453073835513875,5.543131610532979,5.6331893855520825,5.723247160571187,5.813304935590291,5.903362710609395,5.9934204856285,6.083478260647604,6.173536035666708,6.263593810685812,6.353651585704917,6.443709360724021,6.533767135743125,6.623824910762229,6.713882685781333,6.803940460800438],\"top\":[61679,54858,49721,46615,43428,40102,37898,34219,32022,29912,27708,25824,24679,23125,22253,21189,20407,19664,18575,18312,17590,17110,16362,16057,15910,15650,15380,15271,14844,14630,14192,13542,12863,11739,10577,9146,7800,6403,4785,3526,2305,1540,1054,704,453,232,57,14,2,1]},\"selected\":{\"id\":\"1165\",\"type\":\"Selection\"},\"selection_policy\":{\"id\":\"1164\",\"type\":\"UnionRenderers\"}},\"id\":\"1137\",\"type\":\"ColumnDataSource\"},{\"attributes\":{\"callback\":null,\"end\":7.029084898348199,\"start\":2.075907272297466},\"id\":\"1106\",\"type\":\"Range1d\"},{\"attributes\":{},\"id\":\"1115\",\"type\":\"BasicTicker\"},{\"attributes\":{},\"id\":\"1120\",\"type\":\"BasicTicker\"},{\"attributes\":{\"overlay\":{\"id\":\"1147\",\"type\":\"BoxAnnotation\"}},\"id\":\"1126\",\"type\":\"BoxZoomTool\"},{\"attributes\":{},\"id\":\"1129\",\"type\":\"HelpTool\"}],\"root_ids\":[\"1104\"]},\"title\":\"Bokeh Application\",\"version\":\"1.2.0\"}};\n",
       "  var render_items = [{\"docid\":\"f5e80cbe-cd84-49b2-8422-160f514526c1\",\"roots\":{\"1104\":\"e4dde14e-9a4c-477e-a30c-2c8ac3bb7800\"}}];\n",
       "  root.Bokeh.embed.embed_items_notebook(docs_json, render_items);\n",
       "\n",
       "  }\n",
       "  if (root.Bokeh !== undefined) {\n",
       "    embed_document(root);\n",
       "  } else {\n",
       "    var attempts = 0;\n",
       "    var timer = setInterval(function(root) {\n",
       "      if (root.Bokeh !== undefined) {\n",
       "        embed_document(root);\n",
       "        clearInterval(timer);\n",
       "      }\n",
       "      attempts++;\n",
       "      if (attempts > 100) {\n",
       "        console.log(\"Bokeh: ERROR: Unable to run BokehJS code because BokehJS library is missing\");\n",
       "        clearInterval(timer);\n",
       "      }\n",
       "    }, 10, root)\n",
       "  }\n",
       "})(window);"
      ],
      "application/vnd.bokehjs_exec.v0+json": ""
     },
     "metadata": {
      "application/vnd.bokehjs_exec.v0+json": {
       "id": "1104"
      }
     },
     "output_type": "display_data"
    }
   ],
   "source": [
    "p = hl.plot.histogram(hl.log10(mt.qual), legend='Variant call quality (log10 of QUAL)')\n",
    "p.plot_width = 800\n",
    "p.plot_height = 500\n",
    "show(p)"
   ]
  },
  {
   "cell_type": "markdown",
   "id": "deadly-wales",
   "metadata": {},
   "source": [
    "### VQSR filters\n",
    "\n",
    "We will inspect the VQSR tranches.\n",
    "\n",
    "**FIXME:** These variants with `filters = None` have `VQSLOD = NaN`, as shown in the Pandas table below. What are these variants? Why have they not been assigned a VQSLOD?"
   ]
  },
  {
   "cell_type": "code",
   "execution_count": null,
   "id": "legitimate-selection",
   "metadata": {},
   "outputs": [],
   "source": [
    "mt = mt.transmute_rows(filters=hl.delimit(mt.filters, ','))"
   ]
  },
  {
   "cell_type": "code",
   "execution_count": null,
   "id": "42c11218-e7ba-4064-b406-fe251dc69571",
   "metadata": {},
   "outputs": [
    {
     "name": "stderr",
     "output_type": "stream",
     "text": [
      "[Stage 5:==================================>                     (23 + 14) / 37]"
     ]
    },
    {
     "data": {
      "text/plain": [
       "{'': 159849,\n",
       " 'VQSRTrancheINDEL99.90to100.00': 53479,\n",
       " 'VQSRTrancheINDEL99.00to99.90': 46133,\n",
       " 'VQSRTrancheSNP99.90to100.00': 68405,\n",
       " 'VQSRTrancheSNP99.00to99.90': 139682,\n",
       " 'VQSRTrancheINDEL90.00to99.00': 56409,\n",
       " 'VQSRTrancheSNP90.00to99.00': 111492,\n",
       " 'VQSRTrancheSNP50.00to75.00': 102544,\n",
       " 'VQSRTrancheINDEL50.00to75.00': 24351,\n",
       " 'VQSRTrancheSNP75.00to90.00': 93294,\n",
       " 'VQSRTrancheINDEL75.00to90.00': 56291}"
      ]
     },
     "execution_count": 12,
     "metadata": {},
     "output_type": "execute_result"
    }
   ],
   "source": [
    "mt.aggregate_rows(hl.agg.counter(mt.filters))"
   ]
  },
  {
   "cell_type": "markdown",
   "id": "d3a41375-28d5-411f-a6a6-114f7fc52cdc",
   "metadata": {},
   "source": [
    "We will calculate some mean QC statistics for each VQSR tranch."
   ]
  },
  {
   "cell_type": "code",
   "execution_count": null,
   "id": "fb4e3d8c-b958-41d1-baab-82e351eb2999",
   "metadata": {},
   "outputs": [],
   "source": [
    "# Calculate variant statistics.\n",
    "mt = hl.variant_qc(mt)\n",
    "\n",
    "# Get rows table.\n",
    "rows_ht = mt.rows()\n",
    "\n",
    "# Aggregate.\n",
    "result = (rows_ht.group_by(rows_ht.filters)\n",
    "         .aggregate(mean_gq = hl.agg.filter(~hl.is_nan(rows_ht.variant_qc.gq_stats.mean), hl.agg.mean(rows_ht.variant_qc.gq_stats.mean)),\n",
    "                   mean_dp = hl.agg.filter(~hl.is_nan(rows_ht.variant_qc.dp_stats.mean), hl.agg.mean(rows_ht.variant_qc.dp_stats.mean)),\n",
    "                   mean_af = hl.agg.filter(~hl.is_nan(rows_ht.variant_qc.AF[0]), hl.agg.mean(1 - rows_ht.variant_qc.AF[0])),\n",
    "                   mean_vqslod = hl.agg.filter(~hl.is_nan(rows_ht.info.VQSLOD), hl.agg.mean(rows_ht.info.VQSLOD)),\n",
    "                   n_variants = hl.agg.count()))"
   ]
  },
  {
   "cell_type": "markdown",
   "id": "5b233371-143e-468f-8548-f51fb1d8f09a",
   "metadata": {},
   "source": [
    "We convert the results to a Pandas dataframe."
   ]
  },
  {
   "cell_type": "code",
   "execution_count": null,
   "id": "c8f1c0f1-0d81-4f58-b7fb-32a096be2a9e",
   "metadata": {},
   "outputs": [
    {
     "name": "stderr",
     "output_type": "stream",
     "text": [
      "[Stage 6:===============================================>         (31 + 6) / 37]2021-10-27 11:51:11 Hail: INFO: Ordering unsorted dataset with network shuffle\n"
     ]
    }
   ],
   "source": [
    "vqsr_stats_pd = result.to_pandas()"
   ]
  },
  {
   "cell_type": "markdown",
   "id": "0016ab27-1509-407b-ae54-b8a8c6482ce8",
   "metadata": {},
   "source": [
    "Below we first print the statistics for the SNPs and then for the indels. The rows are sorted by mean genotype quality. The empty filter row (`filter=''`) corresponds to all unfiltered variants."
   ]
  },
  {
   "cell_type": "code",
   "execution_count": null,
   "id": "d359bca6-35d9-4ebd-96dd-0304881f243c",
   "metadata": {},
   "outputs": [
    {
     "data": {
      "text/html": [
       "<div>\n",
       "<style scoped>\n",
       "    .dataframe tbody tr th:only-of-type {\n",
       "        vertical-align: middle;\n",
       "    }\n",
       "\n",
       "    .dataframe tbody tr th {\n",
       "        vertical-align: top;\n",
       "    }\n",
       "\n",
       "    .dataframe thead th {\n",
       "        text-align: right;\n",
       "    }\n",
       "</style>\n",
       "<table border=\"1\" class=\"dataframe\">\n",
       "  <thead>\n",
       "    <tr style=\"text-align: right;\">\n",
       "      <th></th>\n",
       "      <th>filters</th>\n",
       "      <th>mean_gq</th>\n",
       "      <th>mean_dp</th>\n",
       "      <th>mean_af</th>\n",
       "      <th>mean_vqslod</th>\n",
       "      <th>n_variants</th>\n",
       "    </tr>\n",
       "  </thead>\n",
       "  <tbody>\n",
       "    <tr>\n",
       "      <th>10</th>\n",
       "      <td>VQSRTrancheSNP99.90to100.00</td>\n",
       "      <td>50.122640</td>\n",
       "      <td>31.077643</td>\n",
       "      <td>0.038038</td>\n",
       "      <td>-47.243312</td>\n",
       "      <td>68405</td>\n",
       "    </tr>\n",
       "    <tr>\n",
       "      <th>9</th>\n",
       "      <td>VQSRTrancheSNP99.00to99.90</td>\n",
       "      <td>53.528405</td>\n",
       "      <td>23.751122</td>\n",
       "      <td>0.062698</td>\n",
       "      <td>-2.131846</td>\n",
       "      <td>139682</td>\n",
       "    </tr>\n",
       "    <tr>\n",
       "      <th>8</th>\n",
       "      <td>VQSRTrancheSNP90.00to99.00</td>\n",
       "      <td>67.947504</td>\n",
       "      <td>26.119766</td>\n",
       "      <td>0.122243</td>\n",
       "      <td>1.311792</td>\n",
       "      <td>111492</td>\n",
       "    </tr>\n",
       "    <tr>\n",
       "      <th>7</th>\n",
       "      <td>VQSRTrancheSNP75.00to90.00</td>\n",
       "      <td>68.978084</td>\n",
       "      <td>27.397557</td>\n",
       "      <td>0.126402</td>\n",
       "      <td>2.819369</td>\n",
       "      <td>93294</td>\n",
       "    </tr>\n",
       "    <tr>\n",
       "      <th>6</th>\n",
       "      <td>VQSRTrancheSNP50.00to75.00</td>\n",
       "      <td>72.908350</td>\n",
       "      <td>30.275901</td>\n",
       "      <td>0.185178</td>\n",
       "      <td>4.374752</td>\n",
       "      <td>102544</td>\n",
       "    </tr>\n",
       "    <tr>\n",
       "      <th>0</th>\n",
       "      <td></td>\n",
       "      <td>75.856793</td>\n",
       "      <td>35.295114</td>\n",
       "      <td>0.264691</td>\n",
       "      <td>5.999987</td>\n",
       "      <td>159849</td>\n",
       "    </tr>\n",
       "  </tbody>\n",
       "</table>\n",
       "</div>"
      ],
      "text/plain": [
       "                        filters    mean_gq    mean_dp   mean_af  mean_vqslod  \\\n",
       "10  VQSRTrancheSNP99.90to100.00  50.122640  31.077643  0.038038   -47.243312   \n",
       "9    VQSRTrancheSNP99.00to99.90  53.528405  23.751122  0.062698    -2.131846   \n",
       "8    VQSRTrancheSNP90.00to99.00  67.947504  26.119766  0.122243     1.311792   \n",
       "7    VQSRTrancheSNP75.00to90.00  68.978084  27.397557  0.126402     2.819369   \n",
       "6    VQSRTrancheSNP50.00to75.00  72.908350  30.275901  0.185178     4.374752   \n",
       "0                                75.856793  35.295114  0.264691     5.999987   \n",
       "\n",
       "    n_variants  \n",
       "10       68405  \n",
       "9       139682  \n",
       "8       111492  \n",
       "7        93294  \n",
       "6       102544  \n",
       "0       159849  "
      ]
     },
     "execution_count": 15,
     "metadata": {},
     "output_type": "execute_result"
    }
   ],
   "source": [
    "vqsr_stats_pd[vqsr_stats_pd.filters.isin(['VQSRTrancheSNP50.00to75.00', 'VQSRTrancheSNP75.00to90.00', 'VQSRTrancheSNP90.00to99.00', 'VQSRTrancheSNP99.00to99.90', 'VQSRTrancheSNP99.90to100.00', '', None])].sort_values('mean_vqslod')"
   ]
  },
  {
   "cell_type": "code",
   "execution_count": null,
   "id": "4663e101-a483-42e1-8e02-e522a0459f2e",
   "metadata": {},
   "outputs": [
    {
     "data": {
      "text/html": [
       "<div>\n",
       "<style scoped>\n",
       "    .dataframe tbody tr th:only-of-type {\n",
       "        vertical-align: middle;\n",
       "    }\n",
       "\n",
       "    .dataframe tbody tr th {\n",
       "        vertical-align: top;\n",
       "    }\n",
       "\n",
       "    .dataframe thead th {\n",
       "        text-align: right;\n",
       "    }\n",
       "</style>\n",
       "<table border=\"1\" class=\"dataframe\">\n",
       "  <thead>\n",
       "    <tr style=\"text-align: right;\">\n",
       "      <th></th>\n",
       "      <th>filters</th>\n",
       "      <th>mean_gq</th>\n",
       "      <th>mean_dp</th>\n",
       "      <th>mean_af</th>\n",
       "      <th>mean_vqslod</th>\n",
       "      <th>n_variants</th>\n",
       "    </tr>\n",
       "  </thead>\n",
       "  <tbody>\n",
       "    <tr>\n",
       "      <th>5</th>\n",
       "      <td>VQSRTrancheINDEL99.90to100.00</td>\n",
       "      <td>71.656205</td>\n",
       "      <td>33.762890</td>\n",
       "      <td>0.022044</td>\n",
       "      <td>-8.835908</td>\n",
       "      <td>53479</td>\n",
       "    </tr>\n",
       "    <tr>\n",
       "      <th>4</th>\n",
       "      <td>VQSRTrancheINDEL99.00to99.90</td>\n",
       "      <td>53.675363</td>\n",
       "      <td>21.572777</td>\n",
       "      <td>0.030319</td>\n",
       "      <td>-1.810456</td>\n",
       "      <td>46133</td>\n",
       "    </tr>\n",
       "    <tr>\n",
       "      <th>3</th>\n",
       "      <td>VQSRTrancheINDEL90.00to99.00</td>\n",
       "      <td>51.933470</td>\n",
       "      <td>19.591386</td>\n",
       "      <td>0.053830</td>\n",
       "      <td>1.435291</td>\n",
       "      <td>56409</td>\n",
       "    </tr>\n",
       "    <tr>\n",
       "      <th>2</th>\n",
       "      <td>VQSRTrancheINDEL75.00to90.00</td>\n",
       "      <td>59.114073</td>\n",
       "      <td>24.343697</td>\n",
       "      <td>0.078168</td>\n",
       "      <td>2.729718</td>\n",
       "      <td>56291</td>\n",
       "    </tr>\n",
       "    <tr>\n",
       "      <th>1</th>\n",
       "      <td>VQSRTrancheINDEL50.00to75.00</td>\n",
       "      <td>61.357614</td>\n",
       "      <td>28.550483</td>\n",
       "      <td>0.130914</td>\n",
       "      <td>4.307886</td>\n",
       "      <td>24351</td>\n",
       "    </tr>\n",
       "    <tr>\n",
       "      <th>0</th>\n",
       "      <td></td>\n",
       "      <td>75.856793</td>\n",
       "      <td>35.295114</td>\n",
       "      <td>0.264691</td>\n",
       "      <td>5.999987</td>\n",
       "      <td>159849</td>\n",
       "    </tr>\n",
       "  </tbody>\n",
       "</table>\n",
       "</div>"
      ],
      "text/plain": [
       "                         filters    mean_gq    mean_dp   mean_af  mean_vqslod  \\\n",
       "5  VQSRTrancheINDEL99.90to100.00  71.656205  33.762890  0.022044    -8.835908   \n",
       "4   VQSRTrancheINDEL99.00to99.90  53.675363  21.572777  0.030319    -1.810456   \n",
       "3   VQSRTrancheINDEL90.00to99.00  51.933470  19.591386  0.053830     1.435291   \n",
       "2   VQSRTrancheINDEL75.00to90.00  59.114073  24.343697  0.078168     2.729718   \n",
       "1   VQSRTrancheINDEL50.00to75.00  61.357614  28.550483  0.130914     4.307886   \n",
       "0                                 75.856793  35.295114  0.264691     5.999987   \n",
       "\n",
       "   n_variants  \n",
       "5       53479  \n",
       "4       46133  \n",
       "3       56409  \n",
       "2       56291  \n",
       "1       24351  \n",
       "0      159849  "
      ]
     },
     "execution_count": 16,
     "metadata": {},
     "output_type": "execute_result"
    }
   ],
   "source": [
    "vqsr_stats_pd[vqsr_stats_pd.filters.isin(['VQSRTrancheINDEL50.00to75.00', 'VQSRTrancheINDEL75.00to90.00', 'VQSRTrancheINDEL90.00to99.00', 'VQSRTrancheINDEL99.00to99.90', 'VQSRTrancheINDEL99.90to100.00', '', None])].sort_values('mean_vqslod')"
   ]
  },
  {
   "cell_type": "markdown",
   "id": "9ec32319-dff2-4e01-90f8-3dd34cda8509",
   "metadata": {},
   "source": [
    "## Genotype QC"
   ]
  },
  {
   "cell_type": "code",
   "execution_count": null,
   "id": "1a8c4b54-f898-4103-86d3-0360aa22e6f8",
   "metadata": {},
   "outputs": [
    {
     "name": "stderr",
     "output_type": "stream",
     "text": [
      "[Stage 11:=============================================>          (30 + 7) / 37]"
     ]
    },
    {
     "data": {
      "text/html": [
       "\n",
       "\n",
       "\n",
       "\n",
       "\n",
       "\n",
       "  <div class=\"bk-root\" id=\"b8528f2f-fef4-4d0d-b0f5-561a3e1d0e7a\" data-root-id=\"1214\"></div>\n"
      ]
     },
     "metadata": {},
     "output_type": "display_data"
    },
    {
     "data": {
      "application/javascript": [
       "(function(root) {\n",
       "  function embed_document(root) {\n",
       "    \n",
       "  var docs_json = {\"90923483-4f9b-41a7-9d53-3ab637c55b61\":{\"roots\":{\"references\":[{\"attributes\":{\"background_fill_color\":{\"value\":\"#EEEEEE\"},\"below\":[{\"id\":\"1224\",\"type\":\"LinearAxis\"}],\"center\":[{\"id\":\"1228\",\"type\":\"Grid\"},{\"id\":\"1233\",\"type\":\"Grid\"}],\"left\":[{\"id\":\"1229\",\"type\":\"LinearAxis\"}],\"plot_height\":500,\"plot_width\":800,\"renderers\":[{\"id\":\"1250\",\"type\":\"GlyphRenderer\"}],\"title\":null,\"toolbar\":{\"id\":\"1240\",\"type\":\"Toolbar\"},\"x_range\":{\"id\":\"1216\",\"type\":\"Range1d\"},\"x_scale\":{\"id\":\"1220\",\"type\":\"LinearScale\"},\"y_range\":{\"id\":\"1218\",\"type\":\"DataRange1d\"},\"y_scale\":{\"id\":\"1222\",\"type\":\"LinearScale\"}},\"id\":\"1214\",\"subtype\":\"Figure\",\"type\":\"Plot\"},{\"attributes\":{\"ticker\":{\"id\":\"1225\",\"type\":\"BasicTicker\"}},\"id\":\"1228\",\"type\":\"Grid\"},{\"attributes\":{},\"id\":\"1230\",\"type\":\"BasicTicker\"},{\"attributes\":{},\"id\":\"1225\",\"type\":\"BasicTicker\"},{\"attributes\":{\"bottom\":{\"value\":0},\"fill_color\":{\"value\":\"#1f77b4\"},\"left\":{\"field\":\"left\"},\"right\":{\"field\":\"right\"},\"top\":{\"field\":\"top\"}},\"id\":\"1248\",\"type\":\"Quad\"},{\"attributes\":{\"axis_label\":\"Frequency\",\"formatter\":{\"id\":\"1269\",\"type\":\"BasicTickFormatter\"},\"ticker\":{\"id\":\"1230\",\"type\":\"BasicTicker\"}},\"id\":\"1229\",\"type\":\"LinearAxis\"},{\"attributes\":{\"axis_label\":\"Genotype quality\",\"formatter\":{\"id\":\"1271\",\"type\":\"BasicTickFormatter\"},\"ticker\":{\"id\":\"1225\",\"type\":\"BasicTicker\"}},\"id\":\"1224\",\"type\":\"LinearAxis\"},{\"attributes\":{},\"id\":\"1274\",\"type\":\"UnionRenderers\"},{\"attributes\":{},\"id\":\"1234\",\"type\":\"PanTool\"},{\"attributes\":{\"source\":{\"id\":\"1247\",\"type\":\"ColumnDataSource\"}},\"id\":\"1251\",\"type\":\"CDSView\"},{\"attributes\":{\"callback\":null,\"end\":105.0,\"start\":-5.0},\"id\":\"1216\",\"type\":\"Range1d\"},{\"attributes\":{},\"id\":\"1235\",\"type\":\"WheelZoomTool\"},{\"attributes\":{\"overlay\":{\"id\":\"1273\",\"type\":\"BoxAnnotation\"}},\"id\":\"1236\",\"type\":\"BoxZoomTool\"},{\"attributes\":{\"callback\":null,\"data\":{\"left\":[0.0,2.0,4.0,6.0,8.0,10.0,12.0,14.0,16.0,18.0,20.0,22.0,24.0,26.0,28.0,30.0,32.0,34.0,36.0,38.0,40.0,42.0,44.0,46.0,48.0,50.0,52.0,54.0,56.0,58.0,60.0,62.0,64.0,66.0,68.0,70.0,72.0,74.0,76.0,78.0,80.0,82.0,84.0,86.0,88.0,90.0,92.0,94.0,96.0,98.0],\"right\":[2.0,4.0,6.0,8.0,10.0,12.0,14.0,16.0,18.0,20.0,22.0,24.0,26.0,28.0,30.0,32.0,34.0,36.0,38.0,40.0,42.0,44.0,46.0,48.0,50.0,52.0,54.0,56.0,58.0,60.0,62.0,64.0,66.0,68.0,70.0,72.0,74.0,76.0,78.0,80.0,82.0,84.0,86.0,88.0,90.0,92.0,94.0,96.0,98.0,100.0],\"top\":[3297579,4333661,4100155,4452044,4942738,5596062,6407090,7018794,7500174,7279630,6676761,6444647,6633760,6806166,6662654,6861303,6934801,6694030,6921866,6863718,6441484,6723338,6597855,6092994,6401247,6248615,5721710,6103900,6021403,5366314,5741000,5626018,5084752,5406823,5230526,4659278,5057202,4950969,4501216,4730195,4367850,3653837,3965738,3969222,3461719,3614571,3482518,3219915,3625554,156004031]},\"selected\":{\"id\":\"1275\",\"type\":\"Selection\"},\"selection_policy\":{\"id\":\"1274\",\"type\":\"UnionRenderers\"}},\"id\":\"1247\",\"type\":\"ColumnDataSource\"},{\"attributes\":{},\"id\":\"1271\",\"type\":\"BasicTickFormatter\"},{\"attributes\":{\"bottom\":{\"value\":0},\"fill_alpha\":{\"value\":0.1},\"fill_color\":{\"value\":\"#1f77b4\"},\"left\":{\"field\":\"left\"},\"line_alpha\":{\"value\":0.1},\"line_color\":{\"value\":\"#1f77b4\"},\"right\":{\"field\":\"right\"},\"top\":{\"field\":\"top\"}},\"id\":\"1249\",\"type\":\"Quad\"},{\"attributes\":{\"data_source\":{\"id\":\"1247\",\"type\":\"ColumnDataSource\"},\"glyph\":{\"id\":\"1248\",\"type\":\"Quad\"},\"hover_glyph\":null,\"muted_glyph\":null,\"nonselection_glyph\":{\"id\":\"1249\",\"type\":\"Quad\"},\"selection_glyph\":null,\"view\":{\"id\":\"1251\",\"type\":\"CDSView\"}},\"id\":\"1250\",\"type\":\"GlyphRenderer\"},{\"attributes\":{},\"id\":\"1238\",\"type\":\"ResetTool\"},{\"attributes\":{},\"id\":\"1239\",\"type\":\"HelpTool\"},{\"attributes\":{\"callback\":null},\"id\":\"1218\",\"type\":\"DataRange1d\"},{\"attributes\":{},\"id\":\"1275\",\"type\":\"Selection\"},{\"attributes\":{\"active_drag\":\"auto\",\"active_inspect\":\"auto\",\"active_multi\":null,\"active_scroll\":\"auto\",\"active_tap\":\"auto\",\"tools\":[{\"id\":\"1234\",\"type\":\"PanTool\"},{\"id\":\"1235\",\"type\":\"WheelZoomTool\"},{\"id\":\"1236\",\"type\":\"BoxZoomTool\"},{\"id\":\"1237\",\"type\":\"SaveTool\"},{\"id\":\"1238\",\"type\":\"ResetTool\"},{\"id\":\"1239\",\"type\":\"HelpTool\"}]},\"id\":\"1240\",\"type\":\"Toolbar\"},{\"attributes\":{\"dimension\":1,\"ticker\":{\"id\":\"1230\",\"type\":\"BasicTicker\"}},\"id\":\"1233\",\"type\":\"Grid\"},{\"attributes\":{},\"id\":\"1237\",\"type\":\"SaveTool\"},{\"attributes\":{},\"id\":\"1220\",\"type\":\"LinearScale\"},{\"attributes\":{\"bottom_units\":\"screen\",\"fill_alpha\":{\"value\":0.5},\"fill_color\":{\"value\":\"lightgrey\"},\"left_units\":\"screen\",\"level\":\"overlay\",\"line_alpha\":{\"value\":1.0},\"line_color\":{\"value\":\"black\"},\"line_dash\":[4,4],\"line_width\":{\"value\":2},\"render_mode\":\"css\",\"right_units\":\"screen\",\"top_units\":\"screen\"},\"id\":\"1273\",\"type\":\"BoxAnnotation\"},{\"attributes\":{},\"id\":\"1222\",\"type\":\"LinearScale\"},{\"attributes\":{},\"id\":\"1269\",\"type\":\"BasicTickFormatter\"}],\"root_ids\":[\"1214\"]},\"title\":\"Bokeh Application\",\"version\":\"1.2.0\"}};\n",
       "  var render_items = [{\"docid\":\"90923483-4f9b-41a7-9d53-3ab637c55b61\",\"roots\":{\"1214\":\"b8528f2f-fef4-4d0d-b0f5-561a3e1d0e7a\"}}];\n",
       "  root.Bokeh.embed.embed_items_notebook(docs_json, render_items);\n",
       "\n",
       "  }\n",
       "  if (root.Bokeh !== undefined) {\n",
       "    embed_document(root);\n",
       "  } else {\n",
       "    var attempts = 0;\n",
       "    var timer = setInterval(function(root) {\n",
       "      if (root.Bokeh !== undefined) {\n",
       "        embed_document(root);\n",
       "        clearInterval(timer);\n",
       "      }\n",
       "      attempts++;\n",
       "      if (attempts > 100) {\n",
       "        console.log(\"Bokeh: ERROR: Unable to run BokehJS code because BokehJS library is missing\");\n",
       "        clearInterval(timer);\n",
       "      }\n",
       "    }, 10, root)\n",
       "  }\n",
       "})(window);"
      ],
      "application/vnd.bokehjs_exec.v0+json": ""
     },
     "metadata": {
      "application/vnd.bokehjs_exec.v0+json": {
       "id": "1214"
      }
     },
     "output_type": "display_data"
    }
   ],
   "source": [
    "p = hl.plot.histogram(mt.GQ, range=(0, 100))\n",
    "p.xaxis.axis_label = 'Genotype quality'\n",
    "p.plot_width = 800\n",
    "p.plot_height = 500\n",
    "show(p)"
   ]
  },
  {
   "cell_type": "markdown",
   "id": "f594e88e-a5b5-4c45-81ce-fa47a111f07e",
   "metadata": {},
   "source": [
    "### Allelic balance\n",
    "\n",
    "Note that since we've split the table, all rows are diallelic.\n",
    "\n",
    "We compute the allelic balance as $AB = \\frac{AD[1]}{DP}$. Note that DP is equivalent to $AD[0] + AD[1]$ for a diallelic site.\n",
    "\n",
    "**NOTE:** It is important that we use the split dataset here."
   ]
  },
  {
   "cell_type": "code",
   "execution_count": null,
   "id": "b8ce0a8d-85b3-432e-8bba-af3eb96b5364",
   "metadata": {},
   "outputs": [],
   "source": [
    "split_mt = split_mt.annotate_entries(AB = split_mt.AD[1] / split_mt.DP)"
   ]
  },
  {
   "cell_type": "code",
   "execution_count": null,
   "id": "33fecbf9-204b-450f-8488-6ec7e2df10a9",
   "metadata": {},
   "outputs": [
    {
     "name": "stderr",
     "output_type": "stream",
     "text": [
      "[Stage 12:=======================================================>(73 + 1) / 74]"
     ]
    },
    {
     "data": {
      "text/html": [
       "\n",
       "\n",
       "\n",
       "\n",
       "\n",
       "\n",
       "  <div class=\"bk-root\" id=\"621c8791-f744-49c6-9c59-19806240b6bc\" data-root-id=\"1324\"></div>\n"
      ]
     },
     "metadata": {},
     "output_type": "display_data"
    },
    {
     "data": {
      "application/javascript": [
       "(function(root) {\n",
       "  function embed_document(root) {\n",
       "    \n",
       "  var docs_json = {\"7d071992-bb87-47b8-a822-063886134edc\":{\"roots\":{\"references\":[{\"attributes\":{\"background_fill_color\":{\"value\":\"#EEEEEE\"},\"below\":[{\"id\":\"1334\",\"type\":\"LinearAxis\"}],\"center\":[{\"id\":\"1338\",\"type\":\"Grid\"},{\"id\":\"1343\",\"type\":\"Grid\"}],\"left\":[{\"id\":\"1339\",\"type\":\"LinearAxis\"}],\"plot_height\":500,\"plot_width\":800,\"renderers\":[{\"id\":\"1360\",\"type\":\"GlyphRenderer\"}],\"title\":null,\"toolbar\":{\"id\":\"1350\",\"type\":\"Toolbar\"},\"x_range\":{\"id\":\"1326\",\"type\":\"Range1d\"},\"x_scale\":{\"id\":\"1330\",\"type\":\"LinearScale\"},\"y_range\":{\"id\":\"1328\",\"type\":\"DataRange1d\"},\"y_scale\":{\"id\":\"1332\",\"type\":\"LinearScale\"}},\"id\":\"1324\",\"subtype\":\"Figure\",\"type\":\"Plot\"},{\"attributes\":{\"data_source\":{\"id\":\"1357\",\"type\":\"ColumnDataSource\"},\"glyph\":{\"id\":\"1358\",\"type\":\"Quad\"},\"hover_glyph\":null,\"muted_glyph\":null,\"nonselection_glyph\":{\"id\":\"1359\",\"type\":\"Quad\"},\"selection_glyph\":null,\"view\":{\"id\":\"1361\",\"type\":\"CDSView\"}},\"id\":\"1360\",\"type\":\"GlyphRenderer\"},{\"attributes\":{\"callback\":null,\"end\":1.05,\"start\":-0.05},\"id\":\"1326\",\"type\":\"Range1d\"},{\"attributes\":{\"dimension\":1,\"ticker\":{\"id\":\"1340\",\"type\":\"BasicTicker\"}},\"id\":\"1343\",\"type\":\"Grid\"},{\"attributes\":{},\"id\":\"1345\",\"type\":\"WheelZoomTool\"},{\"attributes\":{},\"id\":\"1330\",\"type\":\"LinearScale\"},{\"attributes\":{},\"id\":\"1348\",\"type\":\"ResetTool\"},{\"attributes\":{\"bottom_units\":\"screen\",\"fill_alpha\":{\"value\":0.5},\"fill_color\":{\"value\":\"lightgrey\"},\"left_units\":\"screen\",\"level\":\"overlay\",\"line_alpha\":{\"value\":1.0},\"line_color\":{\"value\":\"black\"},\"line_dash\":[4,4],\"line_width\":{\"value\":2},\"render_mode\":\"css\",\"right_units\":\"screen\",\"top_units\":\"screen\"},\"id\":\"1391\",\"type\":\"BoxAnnotation\"},{\"attributes\":{\"source\":{\"id\":\"1357\",\"type\":\"ColumnDataSource\"}},\"id\":\"1361\",\"type\":\"CDSView\"},{\"attributes\":{\"bottom\":{\"value\":0},\"fill_alpha\":{\"value\":0.1},\"fill_color\":{\"value\":\"#1f77b4\"},\"left\":{\"field\":\"left\"},\"line_alpha\":{\"value\":0.1},\"line_color\":{\"value\":\"#1f77b4\"},\"right\":{\"field\":\"right\"},\"top\":{\"field\":\"top\"}},\"id\":\"1359\",\"type\":\"Quad\"},{\"attributes\":{},\"id\":\"1347\",\"type\":\"SaveTool\"},{\"attributes\":{\"bottom\":{\"value\":0},\"fill_color\":{\"value\":\"#1f77b4\"},\"left\":{\"field\":\"left\"},\"right\":{\"field\":\"right\"},\"top\":{\"field\":\"top\"}},\"id\":\"1358\",\"type\":\"Quad\"},{\"attributes\":{\"ticker\":{\"id\":\"1335\",\"type\":\"BasicTicker\"}},\"id\":\"1338\",\"type\":\"Grid\"},{\"attributes\":{\"active_drag\":\"auto\",\"active_inspect\":\"auto\",\"active_multi\":null,\"active_scroll\":\"auto\",\"active_tap\":\"auto\",\"tools\":[{\"id\":\"1344\",\"type\":\"PanTool\"},{\"id\":\"1345\",\"type\":\"WheelZoomTool\"},{\"id\":\"1346\",\"type\":\"BoxZoomTool\"},{\"id\":\"1347\",\"type\":\"SaveTool\"},{\"id\":\"1348\",\"type\":\"ResetTool\"},{\"id\":\"1349\",\"type\":\"HelpTool\"}]},\"id\":\"1350\",\"type\":\"Toolbar\"},{\"attributes\":{},\"id\":\"1344\",\"type\":\"PanTool\"},{\"attributes\":{\"overlay\":{\"id\":\"1391\",\"type\":\"BoxAnnotation\"}},\"id\":\"1346\",\"type\":\"BoxZoomTool\"},{\"attributes\":{\"axis_label\":\"Allelic balance\",\"formatter\":{\"id\":\"1389\",\"type\":\"BasicTickFormatter\"},\"ticker\":{\"id\":\"1335\",\"type\":\"BasicTicker\"}},\"id\":\"1334\",\"type\":\"LinearAxis\"},{\"attributes\":{},\"id\":\"1340\",\"type\":\"BasicTicker\"},{\"attributes\":{},\"id\":\"1332\",\"type\":\"LinearScale\"},{\"attributes\":{},\"id\":\"1393\",\"type\":\"Selection\"},{\"attributes\":{},\"id\":\"1335\",\"type\":\"BasicTicker\"},{\"attributes\":{},\"id\":\"1392\",\"type\":\"UnionRenderers\"},{\"attributes\":{\"callback\":null},\"id\":\"1328\",\"type\":\"DataRange1d\"},{\"attributes\":{},\"id\":\"1387\",\"type\":\"BasicTickFormatter\"},{\"attributes\":{},\"id\":\"1349\",\"type\":\"HelpTool\"},{\"attributes\":{\"callback\":null,\"data\":{\"left\":[0.0,0.02,0.04,0.06,0.08,0.1,0.12,0.14,0.16,0.18,0.2,0.22,0.24,0.26,0.28,0.3,0.32,0.34,0.36,0.38,0.4,0.42,0.44,0.46,0.48,0.5,0.52,0.54,0.56,0.58,0.6,0.62,0.64,0.66,0.68,0.7000000000000001,0.72,0.74,0.76,0.78,0.8,0.8200000000000001,0.84,0.86,0.88,0.9,0.92,0.9400000000000001,0.96,0.98],\"right\":[0.02,0.04,0.06,0.08,0.1,0.12,0.14,0.16,0.18,0.2,0.22,0.24,0.26,0.28,0.3,0.32,0.34,0.36,0.38,0.4,0.42,0.44,0.46,0.48,0.5,0.52,0.54,0.56,0.58,0.6,0.62,0.64,0.66,0.68,0.7000000000000001,0.72,0.74,0.76,0.78,0.8,0.8200000000000001,0.84,0.86,0.88,0.9,0.92,0.9400000000000001,0.96,0.98,1.0],\"top\":[3055363,8903,26946,241601,669434,1278070,1395234,1539268,1168500,878654,1274482,1032300,1078733,784189,968236,1102689,1674627,938189,1548843,1134931,2450391,2078284,2054515,2124281,1041606,4007771,1800617,1757438,1679467,986808,1662550,1052280,573587,1347828,578559,443931,319556,621098,252354,87971,408741,216602,161087,102172,93521,38366,20369,3141,445,612303]},\"selected\":{\"id\":\"1393\",\"type\":\"Selection\"},\"selection_policy\":{\"id\":\"1392\",\"type\":\"UnionRenderers\"}},\"id\":\"1357\",\"type\":\"ColumnDataSource\"},{\"attributes\":{},\"id\":\"1389\",\"type\":\"BasicTickFormatter\"},{\"attributes\":{\"axis_label\":\"Frequency\",\"formatter\":{\"id\":\"1387\",\"type\":\"BasicTickFormatter\"},\"ticker\":{\"id\":\"1340\",\"type\":\"BasicTicker\"}},\"id\":\"1339\",\"type\":\"LinearAxis\"}],\"root_ids\":[\"1324\"]},\"title\":\"Bokeh Application\",\"version\":\"1.2.0\"}};\n",
       "  var render_items = [{\"docid\":\"7d071992-bb87-47b8-a822-063886134edc\",\"roots\":{\"1324\":\"621c8791-f744-49c6-9c59-19806240b6bc\"}}];\n",
       "  root.Bokeh.embed.embed_items_notebook(docs_json, render_items);\n",
       "\n",
       "  }\n",
       "  if (root.Bokeh !== undefined) {\n",
       "    embed_document(root);\n",
       "  } else {\n",
       "    var attempts = 0;\n",
       "    var timer = setInterval(function(root) {\n",
       "      if (root.Bokeh !== undefined) {\n",
       "        embed_document(root);\n",
       "        clearInterval(timer);\n",
       "      }\n",
       "      attempts++;\n",
       "      if (attempts > 100) {\n",
       "        console.log(\"Bokeh: ERROR: Unable to run BokehJS code because BokehJS library is missing\");\n",
       "        clearInterval(timer);\n",
       "      }\n",
       "    }, 10, root)\n",
       "  }\n",
       "})(window);"
      ],
      "application/vnd.bokehjs_exec.v0+json": ""
     },
     "metadata": {
      "application/vnd.bokehjs_exec.v0+json": {
       "id": "1324"
      }
     },
     "output_type": "display_data"
    }
   ],
   "source": [
    "hets_mt = split_mt.filter_entries(split_mt.GT.is_het())\n",
    "p = hl.plot.histogram(hets_mt.AB, range=(0, 1))\n",
    "p.xaxis.axis_label = 'Allelic balance'\n",
    "p.plot_width = 800\n",
    "p.plot_height = 500\n",
    "show(p)"
   ]
  },
  {
   "cell_type": "markdown",
   "id": "82542e77-dfc9-4ef2-a9e7-1718cae1c01e",
   "metadata": {},
   "source": [
    "## Apply filters\n",
    "\n",
    "Remove all variants failing any of the VQSR filters.\n",
    "\n",
    "**NOTE:** We must not used the split dataset for filtering VQSR. This is because VQSR consideres all alleles in the site jointly (unless [allele specific annotations](https://gatk.broadinstitute.org/hc/en-us/articles/360035890551?id=9622) have been used).\n",
    "\n",
    "**FIXME:** be smart about when I use `hl.variant_qc()`."
   ]
  },
  {
   "cell_type": "code",
   "execution_count": null,
   "id": "623f53c8-afda-4456-90c3-5e585fc259fe",
   "metadata": {},
   "outputs": [],
   "source": [
    "mt = mt.filter_rows(mt.filters == '')"
   ]
  },
  {
   "cell_type": "markdown",
   "id": "ffaf1441-45c6-4c5a-a9a0-cab5514f7378",
   "metadata": {},
   "source": [
    "We also use some hard filters. These are the same as the ones used in the single sample version of the [LinkSeq pipeline](https://github.com/olavurmortensen/linkseq/blob/master/main.nf#L593).\n",
    "\n",
    "**NOTE:** We here assume that there only two types of variants in the data, SNPs and indels."
   ]
  },
  {
   "cell_type": "code",
   "execution_count": null,
   "id": "b96d191c-d2eb-44c0-8e06-6ba8a735cdb9",
   "metadata": {},
   "outputs": [
    {
     "ename": "SyntaxError",
     "evalue": "invalid character in identifier (3855674658.py, line 3)",
     "output_type": "error",
     "traceback": [
      "\u001b[0;36m  File \u001b[0;32m\"/tmp/ipykernel_36152/3855674658.py\"\u001b[0;36m, line \u001b[0;32m3\u001b[0m\n\u001b[0;31m    (½),\u001b[0m\n\u001b[0m     ^\u001b[0m\n\u001b[0;31mSyntaxError\u001b[0m\u001b[0;31m:\u001b[0m invalid character in identifier\n"
     ]
    }
   ],
   "source": [
    "mt = mt.filter_rows(hl.if_else(\n",
    "    hl.is_snp(mt.alleles[0],mt.alleles[1]),\n",
    "    (mt.info.QD > 2) & (mt.info.SOR < 3) & (mt.info.FS < 60) & (mt.info.MQ > 40) & (mt.info.MQRankSum > -12.5) & (mt.info.ReadPosRankSum > -8),\n",
    "    (mt.info.QD > 2) & (mt.info.FS < 200) & (mt.info.ReadPosRankSum > -20)))"
   ]
  },
  {
   "cell_type": "markdown",
   "id": "51e4d030-d7d1-447d-89fc-2d6b2a32a7b3",
   "metadata": {},
   "source": [
    "Filter genotypes with low quality (GQ), using GQ > 20 for SNPs and GQ > 40 for indels.\n",
    "\n",
    "After the filter some sites may have become invariant. These are removed.\n",
    "\n",
    "NOTE: Many (or most) of the lower quality genotypes, i.e. the low-end tail of the histogram above, are indels."
   ]
  },
  {
   "cell_type": "code",
   "execution_count": null,
   "id": "4833384e-be27-4908-8751-8e6282407259",
   "metadata": {},
   "outputs": [],
   "source": [
    "mt = mt.filter_entries(hl.if_else(\n",
    "    hl.is_snp(mt.alleles[0],mt.alleles[1]),\n",
    "    mt.GQ > 20,\n",
    "    mt.GQ > 40))"
   ]
  },
  {
   "cell_type": "markdown",
   "id": "79449886-50eb-4b5e-a4b9-95a3cfe45a8f",
   "metadata": {},
   "source": [
    "Before we can filter by allelic balance and do HWE filtering, we need to split multi-allelic sites."
   ]
  },
  {
   "cell_type": "code",
   "execution_count": null,
   "id": "5c24fb13-d503-464e-b27e-15db256d208b",
   "metadata": {},
   "outputs": [],
   "source": [
    "# NOTE: permit_shuffle is needed when there are duplicate loci, one of which has multiple alternate alleles. Apparently, this dataset has such sites.\n",
    "mt = hl.split_multi_hts(mt, permit_shuffle=True)"
   ]
  },
  {
   "cell_type": "markdown",
   "id": "8094081d-634e-45ce-bcb5-1cf1f05d98ac",
   "metadata": {},
   "source": [
    "Filter all heterozygotes with allelic balance outside the range of $]0.25;0.75[$."
   ]
  },
  {
   "cell_type": "code",
   "execution_count": null,
   "id": "907ef152-29e0-4f26-88c3-b70635ea8ac2",
   "metadata": {},
   "outputs": [],
   "source": [
    "mt = mt.annotate_entries(AB = mt.AD[1] / mt.DP)"
   ]
  },
  {
   "cell_type": "code",
   "execution_count": null,
   "id": "095fbfdc-86ac-4b3a-8974-e73f0151c689",
   "metadata": {},
   "outputs": [],
   "source": [
    "mt = mt.filter_entries(hl.if_else(\n",
    "    mt.GT.is_het(),\n",
    "    (mt.AB > 0.25) & (mt.AB < 0.75),\n",
    "    True))"
   ]
  },
  {
   "cell_type": "markdown",
   "id": "b8ee276b-8c08-4a72-849f-e79f98ac7a25",
   "metadata": {},
   "source": [
    "Remove variants that significantly deviate from HWE. We use a p-value of $10^{-9}$ for SNPs and $10^{-6}$ for indels. Since our criteria for indels is 1000 times more stringent than for SNPs, we cannot expect the indels to carry information about population structure and inbreeding."
   ]
  },
  {
   "cell_type": "code",
   "execution_count": null,
   "id": "a834a883-afcb-45e4-8121-24364c315b34",
   "metadata": {},
   "outputs": [],
   "source": [
    "# Update variant statistics.\n",
    "mt = hl.variant_qc(mt)\n",
    "\n",
    "mt = mt.filter_rows(hl.if_else(\n",
    "    hl.is_snp(mt.alleles[0], mt.alleles[1]),\n",
    "    mt.variant_qc.p_value_hwe > 1e-9,\n",
    "    mt.variant_qc.p_value_hwe > 1e-6))"
   ]
  },
  {
   "cell_type": "markdown",
   "id": "b54c465b-a581-4417-b3f1-eeef51802a4b",
   "metadata": {},
   "source": [
    "Remove singletons."
   ]
  },
  {
   "cell_type": "code",
   "execution_count": null,
   "id": "c98742c0-1916-42df-8445-7adc353811d1",
   "metadata": {},
   "outputs": [],
   "source": [
    "mt = mt.filter_rows(mt.variant_qc.AC[1] > 1)"
   ]
  },
  {
   "cell_type": "code",
   "execution_count": null,
   "id": "0c371f14-fc3b-468a-adc4-d016ebd4b5ef",
   "metadata": {},
   "outputs": [],
   "source": [
    "variant_counts(mt)"
   ]
  },
  {
   "cell_type": "markdown",
   "id": "middle-seafood",
   "metadata": {},
   "source": [
    "## Sample QC\n",
    "\n",
    "Below we see histograms of sample mean genotype quality and genotype depth. Most samples seem to have good depth and quality, although the deviation between samples is quite large. There are some samples with low depth and quality, but we will not worry about these."
   ]
  },
  {
   "cell_type": "code",
   "execution_count": null,
   "id": "62a75cc3-0cf1-4c64-b7f0-b473e681f07d",
   "metadata": {},
   "outputs": [],
   "source": [
    "mt = hl.sample_qc(mt)"
   ]
  },
  {
   "cell_type": "code",
   "execution_count": null,
   "id": "worth-desperate",
   "metadata": {},
   "outputs": [],
   "source": [
    "p = hl.plot.histogram(mt.sample_qc.gq_stats.mean, range=(0,100), legend='Mean Sample GQ')\n",
    "p.plot_width = 800\n",
    "p.plot_height = 500\n",
    "show(p)"
   ]
  },
  {
   "cell_type": "code",
   "execution_count": null,
   "id": "manufactured-guidance",
   "metadata": {},
   "outputs": [],
   "source": [
    "p = hl.plot.histogram(mt.sample_qc.dp_stats.mean, range=(0,60), legend='Mean Sample DP')\n",
    "p.plot_width = 800\n",
    "p.plot_height = 500\n",
    "show(p)"
   ]
  },
  {
   "cell_type": "markdown",
   "id": "dcd465d8-a592-4f6c-adac-68228767c8c0",
   "metadata": {},
   "source": [
    "Below is a histogram of the heterozygote/homozygote ratio."
   ]
  },
  {
   "cell_type": "code",
   "execution_count": null,
   "id": "outstanding-mississippi",
   "metadata": {},
   "outputs": [],
   "source": [
    "p = hl.plot.histogram(mt.sample_qc.r_het_hom_var, legend='Het/hom rate')\n",
    "p.plot_width = 800\n",
    "p.plot_height = 500\n",
    "show(p)"
   ]
  },
  {
   "cell_type": "markdown",
   "id": "controlling-reconstruction",
   "metadata": {},
   "source": [
    "Looks like there are a few samples with a lot higher het/hom rate than the rest of the samples. Let's check whether this is due to poor coverage."
   ]
  },
  {
   "cell_type": "code",
   "execution_count": null,
   "id": "standing-flavor",
   "metadata": {},
   "outputs": [],
   "source": [
    "het_hom_thres = 3\n",
    "mt = mt.annotate_cols(high_hom_het=mt.sample_qc.r_het_hom_var > het_hom_thres)"
   ]
  },
  {
   "cell_type": "code",
   "execution_count": null,
   "id": "wooden-aging",
   "metadata": {},
   "outputs": [],
   "source": [
    "p = hl.plot.scatter(mt.sample_qc.dp_stats.mean, mt.sample_qc.r_het_hom_var, xlabel='DP mean', ylabel='het/hom rate',\n",
    "                    hover_fields={'Sample': mt.s}, label=mt.high_hom_het)\n",
    "p.plot_width = 600\n",
    "p.plot_height = 600\n",
    "show(p)"
   ]
  },
  {
   "cell_type": "markdown",
   "id": "fundamental-pontiac",
   "metadata": {},
   "source": [
    "The plot above indicates these samples have similar coverage as the other samples, so that doesn't explain the high het/hom rate.\n",
    "\n",
    "We can also check the MultiQC reports of these samples (file paths below), and we see that they are all of reasonable quality."
   ]
  },
  {
   "cell_type": "code",
   "execution_count": null,
   "id": "incomplete-demographic",
   "metadata": {},
   "outputs": [],
   "source": [
    "high_hethom_samples = mt.filter_cols(mt.sample_qc.r_het_hom_var > het_hom_thres).s.collect()\n",
    "\n",
    "for sample in high_hethom_samples:\n",
    "    print('/data/projects/fargen_phase_1/data/single_sample_data/{sample}/multiqc/multiqc_report.html'.format(sample=sample))"
   ]
  },
  {
   "cell_type": "markdown",
   "id": "psychological-belgium",
   "metadata": {},
   "source": [
    "In the genealogy summary file (`/fargen/fargen_phase_1_utils/multi_sample/joint_genotyping/metadata/genealogy/individuals_summary.csv`), it seems that all these samples have reasonably deep roots in the Faroes. This means we have no reason to suspect this difference is due to these samples being from different populations.\n",
    "\n",
    "These four samples most likely have high het/hom rate due to poor data quality. One potential reason for this is contamination of the sample in the lab.\n",
    "\n",
    "We will **discard high het/hom rate samples**, as they may skew further analyses down the line."
   ]
  },
  {
   "cell_type": "code",
   "execution_count": null,
   "id": "3f72ac48-5e30-46ee-bca6-195e33cb53e8",
   "metadata": {},
   "outputs": [],
   "source": [
    "mt = mt.filter_cols(mt.sample_qc.r_het_hom_var < het_hom_thres)"
   ]
  },
  {
   "cell_type": "markdown",
   "id": "b039f83f-cdb2-4505-8b36-8bc7560fde87",
   "metadata": {},
   "source": [
    "Remove sites that may have become invariant after removing these samples.\n"
   ]
  },
  {
   "cell_type": "code",
   "execution_count": null,
   "id": "9e589620-f4f2-41b2-a48a-7ccb9a753968",
   "metadata": {},
   "outputs": [],
   "source": [
    "mt = mt.filter_rows(mt.variant_qc.AC[1] > 1)"
   ]
  },
  {
   "cell_type": "code",
   "execution_count": null,
   "id": "cooked-gilbert",
   "metadata": {},
   "outputs": [],
   "source": [
    "n_variants, n_samples = mt.count()\n",
    "print('Number of variants: ' + str(n_variants))\n",
    "print('Number of samples: ' + str(n_samples))"
   ]
  },
  {
   "cell_type": "markdown",
   "id": "9d0865cc-3848-49b9-9019-f528a95b9032",
   "metadata": {},
   "source": [
    "## Variant counts"
   ]
  },
  {
   "cell_type": "code",
   "execution_count": null,
   "id": "1e09ddb9-3c26-458e-a392-82f28a257669",
   "metadata": {},
   "outputs": [],
   "source": [
    "variant_counts(mt)"
   ]
  },
  {
   "cell_type": "markdown",
   "id": "81f52b52-99bf-45ef-be72-6de4fdafc3fc",
   "metadata": {},
   "source": [
    "## Write data to file"
   ]
  },
  {
   "cell_type": "code",
   "execution_count": null,
   "id": "d059a327-ac98-4b3c-a930-d8cd5305a804",
   "metadata": {},
   "outputs": [],
   "source": [
    "if False:\n",
    "    mt.write(BASE_DIR + '/data/mt/high_quality_variants.mt', overwrite=True)"
   ]
  },
  {
   "cell_type": "markdown",
   "id": "f5721fc8-688d-43c9-b6fb-08ca230c5126",
   "metadata": {},
   "source": [
    "## Summary\n",
    "\n",
    "In this notebook we have:\n",
    "\n",
    "* Split multi-allelic sites\n",
    "* Filtered variants failing VQSR filter\n",
    "* Filtered variants with genotype quality (GQ)\n",
    "    * GQ > 20 for SNPs\n",
    "    * GQ > 40 for indels\n",
    "* Filtered variants with allelic balance outside the range $[0.25, 0.75]$\n",
    "* Filtered variants failing HWE filter\n",
    "    * $p > 10^{-9}$ for SNPs\n",
    "    * $p > 10^{-6}$ for indels\n",
    "* Removed singletons\n",
    "* Removed four samples with abnormally high het/hom rate (>3)\n",
    "* Filtered variants with allele count equal to zero"
   ]
  }
 ],
 "metadata": {
  "kernelspec": {
   "display_name": "Python [conda env:fargen-1-exome]",
   "language": "python",
   "name": "conda-env-fargen-1-exome-py"
  },
  "language_info": {
   "codemirror_mode": {
    "name": "ipython",
    "version": 3
   },
   "file_extension": ".py",
   "mimetype": "text/x-python",
   "name": "python",
   "nbconvert_exporter": "python",
   "pygments_lexer": "ipython3",
   "version": "3.7.10"
  }
 },
 "nbformat": 4,
 "nbformat_minor": 5
}
