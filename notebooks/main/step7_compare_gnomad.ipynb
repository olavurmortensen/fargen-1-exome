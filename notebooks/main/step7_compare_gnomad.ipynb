{
 "cells": [
  {
   "cell_type": "markdown",
   "id": "b0ad220f-8db8-40bd-8c69-803f0b01b153",
   "metadata": {},
   "source": [
    "# Variant distributions"
   ]
  },
  {
   "cell_type": "code",
   "execution_count": 1,
   "id": "6d490832-7263-4d5a-b8ed-c7703a9b524e",
   "metadata": {},
   "outputs": [
    {
     "name": "stdout",
     "output_type": "stream",
     "text": [
      "2021-10-20 10:31:26 WARN  NativeCodeLoader:62 - Unable to load native-hadoop library for your platform... using builtin-java classes where applicable\n"
     ]
    },
    {
     "name": "stderr",
     "output_type": "stream",
     "text": [
      "Setting default log level to \"WARN\".\n",
      "To adjust logging level use sc.setLogLevel(newLevel). For SparkR, use setLogLevel(newLevel).\n"
     ]
    },
    {
     "name": "stdout",
     "output_type": "stream",
     "text": [
      "2021-10-20 10:31:27 WARN  Hail:37 - This Hail JAR was compiled for Spark 2.4.5, running with Spark 2.4.1.\n",
      "  Compatibility is not guaranteed.\n"
     ]
    },
    {
     "name": "stderr",
     "output_type": "stream",
     "text": [
      "Running on Apache Spark version 2.4.1\n",
      "SparkUI available at http://hms-beagle-6676655f87-9xllv:4040\n",
      "Welcome to\n",
      "     __  __     <>__\n",
      "    / /_/ /__  __/ /\n",
      "   / __  / _ `/ / /\n",
      "  /_/ /_/\\_,_/_/_/   version 0.2.61-3c86d3ba497a\n",
      "LOGGING: writing to /home/olavur/experiments/2020-11-13_fargen1_exome_analysis/fargen-1-exome/notebooks/main/hail-20211020-1031-0.2.61-3c86d3ba497a.log\n"
     ]
    }
   ],
   "source": [
    "import hail as hl\n",
    "hl.init(spark_conf={'spark.driver.memory': '100g'}, tmp_dir='/home/olavur/tmp')"
   ]
  },
  {
   "cell_type": "code",
   "execution_count": 2,
   "id": "8ef6d6c8-704e-46f7-8096-59e23b588dc2",
   "metadata": {},
   "outputs": [
    {
     "data": {
      "text/html": [
       "\n",
       "    <div class=\"bk-root\">\n",
       "        <a href=\"https://bokeh.pydata.org\" target=\"_blank\" class=\"bk-logo bk-logo-small bk-logo-notebook\"></a>\n",
       "        <span id=\"1001\">Loading BokehJS ...</span>\n",
       "    </div>"
      ]
     },
     "metadata": {},
     "output_type": "display_data"
    },
    {
     "data": {
      "application/javascript": [
       "\n",
       "(function(root) {\n",
       "  function now() {\n",
       "    return new Date();\n",
       "  }\n",
       "\n",
       "  var force = true;\n",
       "\n",
       "  if (typeof root._bokeh_onload_callbacks === \"undefined\" || force === true) {\n",
       "    root._bokeh_onload_callbacks = [];\n",
       "    root._bokeh_is_loading = undefined;\n",
       "  }\n",
       "\n",
       "  var JS_MIME_TYPE = 'application/javascript';\n",
       "  var HTML_MIME_TYPE = 'text/html';\n",
       "  var EXEC_MIME_TYPE = 'application/vnd.bokehjs_exec.v0+json';\n",
       "  var CLASS_NAME = 'output_bokeh rendered_html';\n",
       "\n",
       "  /**\n",
       "   * Render data to the DOM node\n",
       "   */\n",
       "  function render(props, node) {\n",
       "    var script = document.createElement(\"script\");\n",
       "    node.appendChild(script);\n",
       "  }\n",
       "\n",
       "  /**\n",
       "   * Handle when an output is cleared or removed\n",
       "   */\n",
       "  function handleClearOutput(event, handle) {\n",
       "    var cell = handle.cell;\n",
       "\n",
       "    var id = cell.output_area._bokeh_element_id;\n",
       "    var server_id = cell.output_area._bokeh_server_id;\n",
       "    // Clean up Bokeh references\n",
       "    if (id != null && id in Bokeh.index) {\n",
       "      Bokeh.index[id].model.document.clear();\n",
       "      delete Bokeh.index[id];\n",
       "    }\n",
       "\n",
       "    if (server_id !== undefined) {\n",
       "      // Clean up Bokeh references\n",
       "      var cmd = \"from bokeh.io.state import curstate; print(curstate().uuid_to_server['\" + server_id + \"'].get_sessions()[0].document.roots[0]._id)\";\n",
       "      cell.notebook.kernel.execute(cmd, {\n",
       "        iopub: {\n",
       "          output: function(msg) {\n",
       "            var id = msg.content.text.trim();\n",
       "            if (id in Bokeh.index) {\n",
       "              Bokeh.index[id].model.document.clear();\n",
       "              delete Bokeh.index[id];\n",
       "            }\n",
       "          }\n",
       "        }\n",
       "      });\n",
       "      // Destroy server and session\n",
       "      var cmd = \"import bokeh.io.notebook as ion; ion.destroy_server('\" + server_id + \"')\";\n",
       "      cell.notebook.kernel.execute(cmd);\n",
       "    }\n",
       "  }\n",
       "\n",
       "  /**\n",
       "   * Handle when a new output is added\n",
       "   */\n",
       "  function handleAddOutput(event, handle) {\n",
       "    var output_area = handle.output_area;\n",
       "    var output = handle.output;\n",
       "\n",
       "    // limit handleAddOutput to display_data with EXEC_MIME_TYPE content only\n",
       "    if ((output.output_type != \"display_data\") || (!output.data.hasOwnProperty(EXEC_MIME_TYPE))) {\n",
       "      return\n",
       "    }\n",
       "\n",
       "    var toinsert = output_area.element.find(\".\" + CLASS_NAME.split(' ')[0]);\n",
       "\n",
       "    if (output.metadata[EXEC_MIME_TYPE][\"id\"] !== undefined) {\n",
       "      toinsert[toinsert.length - 1].firstChild.textContent = output.data[JS_MIME_TYPE];\n",
       "      // store reference to embed id on output_area\n",
       "      output_area._bokeh_element_id = output.metadata[EXEC_MIME_TYPE][\"id\"];\n",
       "    }\n",
       "    if (output.metadata[EXEC_MIME_TYPE][\"server_id\"] !== undefined) {\n",
       "      var bk_div = document.createElement(\"div\");\n",
       "      bk_div.innerHTML = output.data[HTML_MIME_TYPE];\n",
       "      var script_attrs = bk_div.children[0].attributes;\n",
       "      for (var i = 0; i < script_attrs.length; i++) {\n",
       "        toinsert[toinsert.length - 1].firstChild.setAttribute(script_attrs[i].name, script_attrs[i].value);\n",
       "      }\n",
       "      // store reference to server id on output_area\n",
       "      output_area._bokeh_server_id = output.metadata[EXEC_MIME_TYPE][\"server_id\"];\n",
       "    }\n",
       "  }\n",
       "\n",
       "  function register_renderer(events, OutputArea) {\n",
       "\n",
       "    function append_mime(data, metadata, element) {\n",
       "      // create a DOM node to render to\n",
       "      var toinsert = this.create_output_subarea(\n",
       "        metadata,\n",
       "        CLASS_NAME,\n",
       "        EXEC_MIME_TYPE\n",
       "      );\n",
       "      this.keyboard_manager.register_events(toinsert);\n",
       "      // Render to node\n",
       "      var props = {data: data, metadata: metadata[EXEC_MIME_TYPE]};\n",
       "      render(props, toinsert[toinsert.length - 1]);\n",
       "      element.append(toinsert);\n",
       "      return toinsert\n",
       "    }\n",
       "\n",
       "    /* Handle when an output is cleared or removed */\n",
       "    events.on('clear_output.CodeCell', handleClearOutput);\n",
       "    events.on('delete.Cell', handleClearOutput);\n",
       "\n",
       "    /* Handle when a new output is added */\n",
       "    events.on('output_added.OutputArea', handleAddOutput);\n",
       "\n",
       "    /**\n",
       "     * Register the mime type and append_mime function with output_area\n",
       "     */\n",
       "    OutputArea.prototype.register_mime_type(EXEC_MIME_TYPE, append_mime, {\n",
       "      /* Is output safe? */\n",
       "      safe: true,\n",
       "      /* Index of renderer in `output_area.display_order` */\n",
       "      index: 0\n",
       "    });\n",
       "  }\n",
       "\n",
       "  // register the mime type if in Jupyter Notebook environment and previously unregistered\n",
       "  if (root.Jupyter !== undefined) {\n",
       "    var events = require('base/js/events');\n",
       "    var OutputArea = require('notebook/js/outputarea').OutputArea;\n",
       "\n",
       "    if (OutputArea.prototype.mime_types().indexOf(EXEC_MIME_TYPE) == -1) {\n",
       "      register_renderer(events, OutputArea);\n",
       "    }\n",
       "  }\n",
       "\n",
       "  \n",
       "  if (typeof (root._bokeh_timeout) === \"undefined\" || force === true) {\n",
       "    root._bokeh_timeout = Date.now() + 5000;\n",
       "    root._bokeh_failed_load = false;\n",
       "  }\n",
       "\n",
       "  var NB_LOAD_WARNING = {'data': {'text/html':\n",
       "     \"<div style='background-color: #fdd'>\\n\"+\n",
       "     \"<p>\\n\"+\n",
       "     \"BokehJS does not appear to have successfully loaded. If loading BokehJS from CDN, this \\n\"+\n",
       "     \"may be due to a slow or bad network connection. Possible fixes:\\n\"+\n",
       "     \"</p>\\n\"+\n",
       "     \"<ul>\\n\"+\n",
       "     \"<li>re-rerun `output_notebook()` to attempt to load from CDN again, or</li>\\n\"+\n",
       "     \"<li>use INLINE resources instead, as so:</li>\\n\"+\n",
       "     \"</ul>\\n\"+\n",
       "     \"<code>\\n\"+\n",
       "     \"from bokeh.resources import INLINE\\n\"+\n",
       "     \"output_notebook(resources=INLINE)\\n\"+\n",
       "     \"</code>\\n\"+\n",
       "     \"</div>\"}};\n",
       "\n",
       "  function display_loaded() {\n",
       "    var el = document.getElementById(\"1001\");\n",
       "    if (el != null) {\n",
       "      el.textContent = \"BokehJS is loading...\";\n",
       "    }\n",
       "    if (root.Bokeh !== undefined) {\n",
       "      if (el != null) {\n",
       "        el.textContent = \"BokehJS \" + root.Bokeh.version + \" successfully loaded.\";\n",
       "      }\n",
       "    } else if (Date.now() < root._bokeh_timeout) {\n",
       "      setTimeout(display_loaded, 100)\n",
       "    }\n",
       "  }\n",
       "\n",
       "\n",
       "  function run_callbacks() {\n",
       "    try {\n",
       "      root._bokeh_onload_callbacks.forEach(function(callback) {\n",
       "        if (callback != null)\n",
       "          callback();\n",
       "      });\n",
       "    } finally {\n",
       "      delete root._bokeh_onload_callbacks\n",
       "    }\n",
       "    console.debug(\"Bokeh: all callbacks have finished\");\n",
       "  }\n",
       "\n",
       "  function load_libs(css_urls, js_urls, callback) {\n",
       "    if (css_urls == null) css_urls = [];\n",
       "    if (js_urls == null) js_urls = [];\n",
       "\n",
       "    root._bokeh_onload_callbacks.push(callback);\n",
       "    if (root._bokeh_is_loading > 0) {\n",
       "      console.debug(\"Bokeh: BokehJS is being loaded, scheduling callback at\", now());\n",
       "      return null;\n",
       "    }\n",
       "    if (js_urls == null || js_urls.length === 0) {\n",
       "      run_callbacks();\n",
       "      return null;\n",
       "    }\n",
       "    console.debug(\"Bokeh: BokehJS not loaded, scheduling load and callback at\", now());\n",
       "    root._bokeh_is_loading = css_urls.length + js_urls.length;\n",
       "\n",
       "    function on_load() {\n",
       "      root._bokeh_is_loading--;\n",
       "      if (root._bokeh_is_loading === 0) {\n",
       "        console.debug(\"Bokeh: all BokehJS libraries/stylesheets loaded\");\n",
       "        run_callbacks()\n",
       "      }\n",
       "    }\n",
       "\n",
       "    function on_error() {\n",
       "      console.error(\"failed to load \" + url);\n",
       "    }\n",
       "\n",
       "    for (var i = 0; i < css_urls.length; i++) {\n",
       "      var url = css_urls[i];\n",
       "      const element = document.createElement(\"link\");\n",
       "      element.onload = on_load;\n",
       "      element.onerror = on_error;\n",
       "      element.rel = \"stylesheet\";\n",
       "      element.type = \"text/css\";\n",
       "      element.href = url;\n",
       "      console.debug(\"Bokeh: injecting link tag for BokehJS stylesheet: \", url);\n",
       "      document.body.appendChild(element);\n",
       "    }\n",
       "\n",
       "    for (var i = 0; i < js_urls.length; i++) {\n",
       "      var url = js_urls[i];\n",
       "      var element = document.createElement('script');\n",
       "      element.onload = on_load;\n",
       "      element.onerror = on_error;\n",
       "      element.async = false;\n",
       "      element.src = url;\n",
       "      console.debug(\"Bokeh: injecting script tag for BokehJS library: \", url);\n",
       "      document.head.appendChild(element);\n",
       "    }\n",
       "  };var element = document.getElementById(\"1001\");\n",
       "  if (element == null) {\n",
       "    console.error(\"Bokeh: ERROR: autoload.js configured with elementid '1001' but no matching script tag was found. \")\n",
       "    return false;\n",
       "  }\n",
       "\n",
       "  function inject_raw_css(css) {\n",
       "    const element = document.createElement(\"style\");\n",
       "    element.appendChild(document.createTextNode(css));\n",
       "    document.body.appendChild(element);\n",
       "  }\n",
       "\n",
       "  var js_urls = [\"https://cdn.pydata.org/bokeh/release/bokeh-1.2.0.min.js\", \"https://cdn.pydata.org/bokeh/release/bokeh-widgets-1.2.0.min.js\", \"https://cdn.pydata.org/bokeh/release/bokeh-tables-1.2.0.min.js\", \"https://cdn.pydata.org/bokeh/release/bokeh-gl-1.2.0.min.js\"];\n",
       "  var css_urls = [\"https://cdn.pydata.org/bokeh/release/bokeh-1.2.0.min.css\", \"https://cdn.pydata.org/bokeh/release/bokeh-widgets-1.2.0.min.css\", \"https://cdn.pydata.org/bokeh/release/bokeh-tables-1.2.0.min.css\"];\n",
       "\n",
       "  var inline_js = [\n",
       "    function(Bokeh) {\n",
       "      Bokeh.set_log_level(\"info\");\n",
       "    },\n",
       "    \n",
       "    function(Bokeh) {\n",
       "      \n",
       "    },\n",
       "    function(Bokeh) {} // ensure no trailing comma for IE\n",
       "  ];\n",
       "\n",
       "  function run_inline_js() {\n",
       "    \n",
       "    if ((root.Bokeh !== undefined) || (force === true)) {\n",
       "      for (var i = 0; i < inline_js.length; i++) {\n",
       "        inline_js[i].call(root, root.Bokeh);\n",
       "      }if (force === true) {\n",
       "        display_loaded();\n",
       "      }} else if (Date.now() < root._bokeh_timeout) {\n",
       "      setTimeout(run_inline_js, 100);\n",
       "    } else if (!root._bokeh_failed_load) {\n",
       "      console.log(\"Bokeh: BokehJS failed to load within specified timeout.\");\n",
       "      root._bokeh_failed_load = true;\n",
       "    } else if (force !== true) {\n",
       "      var cell = $(document.getElementById(\"1001\")).parents('.cell').data().cell;\n",
       "      cell.output_area.append_execute_result(NB_LOAD_WARNING)\n",
       "    }\n",
       "\n",
       "  }\n",
       "\n",
       "  if (root._bokeh_is_loading === 0) {\n",
       "    console.debug(\"Bokeh: BokehJS loaded, going straight to plotting\");\n",
       "    run_inline_js();\n",
       "  } else {\n",
       "    load_libs(css_urls, js_urls, function() {\n",
       "      console.debug(\"Bokeh: BokehJS plotting callback run at\", now());\n",
       "      run_inline_js();\n",
       "    });\n",
       "  }\n",
       "}(window));"
      ],
      "application/vnd.bokehjs_load.v0+json": "\n(function(root) {\n  function now() {\n    return new Date();\n  }\n\n  var force = true;\n\n  if (typeof root._bokeh_onload_callbacks === \"undefined\" || force === true) {\n    root._bokeh_onload_callbacks = [];\n    root._bokeh_is_loading = undefined;\n  }\n\n  \n\n  \n  if (typeof (root._bokeh_timeout) === \"undefined\" || force === true) {\n    root._bokeh_timeout = Date.now() + 5000;\n    root._bokeh_failed_load = false;\n  }\n\n  var NB_LOAD_WARNING = {'data': {'text/html':\n     \"<div style='background-color: #fdd'>\\n\"+\n     \"<p>\\n\"+\n     \"BokehJS does not appear to have successfully loaded. If loading BokehJS from CDN, this \\n\"+\n     \"may be due to a slow or bad network connection. Possible fixes:\\n\"+\n     \"</p>\\n\"+\n     \"<ul>\\n\"+\n     \"<li>re-rerun `output_notebook()` to attempt to load from CDN again, or</li>\\n\"+\n     \"<li>use INLINE resources instead, as so:</li>\\n\"+\n     \"</ul>\\n\"+\n     \"<code>\\n\"+\n     \"from bokeh.resources import INLINE\\n\"+\n     \"output_notebook(resources=INLINE)\\n\"+\n     \"</code>\\n\"+\n     \"</div>\"}};\n\n  function display_loaded() {\n    var el = document.getElementById(\"1001\");\n    if (el != null) {\n      el.textContent = \"BokehJS is loading...\";\n    }\n    if (root.Bokeh !== undefined) {\n      if (el != null) {\n        el.textContent = \"BokehJS \" + root.Bokeh.version + \" successfully loaded.\";\n      }\n    } else if (Date.now() < root._bokeh_timeout) {\n      setTimeout(display_loaded, 100)\n    }\n  }\n\n\n  function run_callbacks() {\n    try {\n      root._bokeh_onload_callbacks.forEach(function(callback) {\n        if (callback != null)\n          callback();\n      });\n    } finally {\n      delete root._bokeh_onload_callbacks\n    }\n    console.debug(\"Bokeh: all callbacks have finished\");\n  }\n\n  function load_libs(css_urls, js_urls, callback) {\n    if (css_urls == null) css_urls = [];\n    if (js_urls == null) js_urls = [];\n\n    root._bokeh_onload_callbacks.push(callback);\n    if (root._bokeh_is_loading > 0) {\n      console.debug(\"Bokeh: BokehJS is being loaded, scheduling callback at\", now());\n      return null;\n    }\n    if (js_urls == null || js_urls.length === 0) {\n      run_callbacks();\n      return null;\n    }\n    console.debug(\"Bokeh: BokehJS not loaded, scheduling load and callback at\", now());\n    root._bokeh_is_loading = css_urls.length + js_urls.length;\n\n    function on_load() {\n      root._bokeh_is_loading--;\n      if (root._bokeh_is_loading === 0) {\n        console.debug(\"Bokeh: all BokehJS libraries/stylesheets loaded\");\n        run_callbacks()\n      }\n    }\n\n    function on_error() {\n      console.error(\"failed to load \" + url);\n    }\n\n    for (var i = 0; i < css_urls.length; i++) {\n      var url = css_urls[i];\n      const element = document.createElement(\"link\");\n      element.onload = on_load;\n      element.onerror = on_error;\n      element.rel = \"stylesheet\";\n      element.type = \"text/css\";\n      element.href = url;\n      console.debug(\"Bokeh: injecting link tag for BokehJS stylesheet: \", url);\n      document.body.appendChild(element);\n    }\n\n    for (var i = 0; i < js_urls.length; i++) {\n      var url = js_urls[i];\n      var element = document.createElement('script');\n      element.onload = on_load;\n      element.onerror = on_error;\n      element.async = false;\n      element.src = url;\n      console.debug(\"Bokeh: injecting script tag for BokehJS library: \", url);\n      document.head.appendChild(element);\n    }\n  };var element = document.getElementById(\"1001\");\n  if (element == null) {\n    console.error(\"Bokeh: ERROR: autoload.js configured with elementid '1001' but no matching script tag was found. \")\n    return false;\n  }\n\n  function inject_raw_css(css) {\n    const element = document.createElement(\"style\");\n    element.appendChild(document.createTextNode(css));\n    document.body.appendChild(element);\n  }\n\n  var js_urls = [\"https://cdn.pydata.org/bokeh/release/bokeh-1.2.0.min.js\", \"https://cdn.pydata.org/bokeh/release/bokeh-widgets-1.2.0.min.js\", \"https://cdn.pydata.org/bokeh/release/bokeh-tables-1.2.0.min.js\", \"https://cdn.pydata.org/bokeh/release/bokeh-gl-1.2.0.min.js\"];\n  var css_urls = [\"https://cdn.pydata.org/bokeh/release/bokeh-1.2.0.min.css\", \"https://cdn.pydata.org/bokeh/release/bokeh-widgets-1.2.0.min.css\", \"https://cdn.pydata.org/bokeh/release/bokeh-tables-1.2.0.min.css\"];\n\n  var inline_js = [\n    function(Bokeh) {\n      Bokeh.set_log_level(\"info\");\n    },\n    \n    function(Bokeh) {\n      \n    },\n    function(Bokeh) {} // ensure no trailing comma for IE\n  ];\n\n  function run_inline_js() {\n    \n    if ((root.Bokeh !== undefined) || (force === true)) {\n      for (var i = 0; i < inline_js.length; i++) {\n        inline_js[i].call(root, root.Bokeh);\n      }if (force === true) {\n        display_loaded();\n      }} else if (Date.now() < root._bokeh_timeout) {\n      setTimeout(run_inline_js, 100);\n    } else if (!root._bokeh_failed_load) {\n      console.log(\"Bokeh: BokehJS failed to load within specified timeout.\");\n      root._bokeh_failed_load = true;\n    } else if (force !== true) {\n      var cell = $(document.getElementById(\"1001\")).parents('.cell').data().cell;\n      cell.output_area.append_execute_result(NB_LOAD_WARNING)\n    }\n\n  }\n\n  if (root._bokeh_is_loading === 0) {\n    console.debug(\"Bokeh: BokehJS loaded, going straight to plotting\");\n    run_inline_js();\n  } else {\n    load_libs(css_urls, js_urls, function() {\n      console.debug(\"Bokeh: BokehJS plotting callback run at\", now());\n      run_inline_js();\n    });\n  }\n}(window));"
     },
     "metadata": {},
     "output_type": "display_data"
    }
   ],
   "source": [
    "from bokeh.io import show, output_notebook\n",
    "from bokeh.layouts import gridplot\n",
    "from bokeh.models.scales import LogScale\n",
    "output_notebook()"
   ]
  },
  {
   "cell_type": "markdown",
   "id": "13bf97b9-8d6d-4f53-b14f-c8b3e1b23909",
   "metadata": {},
   "source": [
    "## Read data"
   ]
  },
  {
   "cell_type": "code",
   "execution_count": 3,
   "id": "1d38501a-ec87-4ddf-a3fe-b56009f44ec1",
   "metadata": {},
   "outputs": [],
   "source": [
    "BASE_DIR = '/home/olavur/experiments/2020-11-13_fargen1_exome_analysis'\n",
    "RESOURCES_DIR = '/data/other/resources'"
   ]
  },
  {
   "cell_type": "code",
   "execution_count": 4,
   "id": "f2a47e57-2881-40f4-b246-a23a9a60129e",
   "metadata": {},
   "outputs": [],
   "source": [
    "import pandas as pd\n",
    "import numpy as np"
   ]
  },
  {
   "cell_type": "markdown",
   "id": "f953ef01-8e81-4b91-ae2c-be0d68dd754a",
   "metadata": {},
   "source": [
    "Merged FarGen and gnomAD sites. This dataset only contains the population frequency of variants and SnpEff annotations. See the notebooks in the `gnomad_exome_sites` folder."
   ]
  },
  {
   "cell_type": "code",
   "execution_count": 5,
   "id": "a8d46694-46c6-4ccb-9305-736918f0cbd9",
   "metadata": {},
   "outputs": [],
   "source": [
    "ht = hl.read_table(BASE_DIR + '/data/resources/gnomad_exome_sites/fargen_gnomad_union_annotated.ht')"
   ]
  },
  {
   "cell_type": "code",
   "execution_count": 6,
   "id": "b14be202-b77f-4157-8874-1a717d807e5f",
   "metadata": {},
   "outputs": [
    {
     "name": "stdout",
     "output_type": "stream",
     "text": [
      "Number of variants: 15692611\n"
     ]
    }
   ],
   "source": [
    "n_variants = ht.count()\n",
    "print('Number of variants: ' + str(n_variants))"
   ]
  },
  {
   "cell_type": "code",
   "execution_count": 7,
   "id": "1109a3a5-bbe8-427c-aeb8-a68409156145",
   "metadata": {},
   "outputs": [
    {
     "name": "stdout",
     "output_type": "stream",
     "text": [
      "----------------------------------------\n",
      "Global fields:\n",
      "    None\n",
      "----------------------------------------\n",
      "Row fields:\n",
      "    'locus': locus<GRCh38> \n",
      "    'alleles': array<str> \n",
      "    'rsid': str \n",
      "    'qual': float64 \n",
      "    'filters': set<str> \n",
      "    'info': struct {\n",
      "        AF_gnomad_all: float64, \n",
      "        AF_afr: float64, \n",
      "        AF_sas: float64, \n",
      "        AF_amr: float64, \n",
      "        AF_eas: float64, \n",
      "        AF_nfe: float64, \n",
      "        AF_fin: float64, \n",
      "        AF_nfe_nwe: float64, \n",
      "        AF_nfe_seu: float64, \n",
      "        AC_gnomad_all: int32, \n",
      "        AC_afr: int32, \n",
      "        AC_sas: int32, \n",
      "        AC_amr: int32, \n",
      "        AC_eas: int32, \n",
      "        AC_nfe: int32, \n",
      "        AC_fin: int32, \n",
      "        AC_nfe_nwe: int32, \n",
      "        AC_nfe_seu: int32, \n",
      "        AF_fae: float64, \n",
      "        AC_fae: int32, \n",
      "        ANN: array<str>, \n",
      "        LOF: array<str>, \n",
      "        NMD: array<str>\n",
      "    } \n",
      "----------------------------------------\n",
      "Key: ['locus', 'alleles']\n",
      "----------------------------------------\n"
     ]
    }
   ],
   "source": [
    "ht.describe()"
   ]
  },
  {
   "cell_type": "markdown",
   "id": "48fdf441-520f-4bea-9dd1-68573463cd2c",
   "metadata": {},
   "source": [
    "## Count variants\n",
    "\n",
    "Annotate variants with variant effect, impact and gene. These annotations are obtained from SnpEff.\n",
    "\n",
    "If multiple transcripts overlap a site, the first in the list is arbitrarily chosen.\n",
    "\n",
    "**NOTE:** is it possible to use [split_multi()](https://hail.is/docs/0.2/methods/genetics.html#hail.methods.split_multi) to count overlapping transcripts separately?"
   ]
  },
  {
   "cell_type": "code",
   "execution_count": 7,
   "id": "696af18e-73cd-4870-be03-428c657ccc9a",
   "metadata": {},
   "outputs": [],
   "source": [
    "# Get variant impact, effect and gene name.\n",
    "# Split overlapping transcripts into a list.\n",
    "ht = ht.annotate(effect=ht.info.ANN.map(lambda x: x.split('\\|')[1]),\n",
    "                      impact=ht.info.ANN.map(lambda x: x.split('\\|')[2]),\n",
    "                      gene=ht.info.ANN.map(lambda x: x.split('\\|')[3]))\n",
    "# Use only the first transcript.\n",
    "ht = ht.annotate(impact1=ht.impact[0], effect1=ht.effect[0], gene1=ht.gene[0])"
   ]
  },
  {
   "cell_type": "code",
   "execution_count": 9,
   "id": "79a37a5c-2c5f-4c26-b325-bbfa2a587125",
   "metadata": {},
   "outputs": [],
   "source": [
    "def variant_counts(ht):\n",
    "    # Count number of variants, SNPs and indels. Only first allele in alternate allele list is considered.\n",
    "    variant_counts_struct = ht.aggregate(hl.struct(\n",
    "        n_variants = hl.agg.count(),\n",
    "        snps = hl.agg.count_where(hl.is_snp(ht.alleles[0], ht.alleles[1])) / hl.agg.count(),\n",
    "        indels = hl.agg.count_where(hl.is_indel(ht.alleles[0], ht.alleles[1])) / hl.agg.count()))\n",
    "    \n",
    "    variant_counts_pd = pd.DataFrame(variant_counts_struct.values(), index=variant_counts_struct.keys(), columns=[''])\n",
    "    return variant_counts_pd\n",
    "\n",
    "def impact_counts(ht):\n",
    "    # Count variant impact types.\n",
    "    impact_counts_struct = ht.aggregate(\n",
    "        hl.struct(\n",
    "            LOW = hl.agg.count_where(ht.impact1 == 'LOW') / hl.agg.count(),\n",
    "            MODIFIER = hl.agg.count_where(ht.impact1 == 'MODIFIER') / hl.agg.count(),\n",
    "            MODERATE = hl.agg.count_where(ht.impact1 == 'MODERATE') / hl.agg.count(),\n",
    "            HIGH = hl.agg.count_where(ht.impact1 == 'HIGH') / hl.agg.count()))\n",
    "    \n",
    "    impact_counts_pd = pd.DataFrame(impact_counts_struct.values(), index=impact_counts_struct.keys(), columns=[''])\n",
    "    return impact_counts_pd\n",
    "\n",
    "def effect_counts(ht):\n",
    "    # Count variant effect types.\n",
    "    # There are many more effect types, these are some of the more interesting ones.\n",
    "    effect_counts_struct = ht.aggregate(\n",
    "        hl.struct(\n",
    "            synonymous_variant = hl.agg.count_where(ht.effect1 == 'synonymous_variant') / hl.agg.count(),\n",
    "            missense_variant = hl.agg.count_where(ht.effect1 == 'missense_variant') / hl.agg.count(),\n",
    "            frameshift_variant = hl.agg.count_where(ht.effect1 == 'frameshift_variant') / hl.agg.count(),              \n",
    "            stop_gained = hl.agg.count_where(ht.effect1 == 'stop_gained') / hl.agg.count()))\n",
    "    \n",
    "    effect_counts_pd = pd.DataFrame(effect_counts_struct.values(), index=effect_counts_struct.keys(), columns=[''])\n",
    "    return effect_counts_pd"
   ]
  },
  {
   "cell_type": "code",
   "execution_count": 13,
   "id": "967a4af2-001a-4377-b4f5-72488c2fa984",
   "metadata": {},
   "outputs": [
    {
     "name": "stderr",
     "output_type": "stream",
     "text": [
      "[Stage 8:======================================================>  (76 + 3) / 79]"
     ]
    }
   ],
   "source": [
    "# Variants with non-zero alternate allele frequency in FarGen.\n",
    "fae_ht = ht.filter(ht.info.AF_fae != 0)\n",
    "fae_variant_counts_pd = variant_counts(fae_ht)\n",
    "fae_effect_counts_pd = effect_counts(fae_ht)\n",
    "fae_impact_counts_pd = impact_counts(fae_ht)"
   ]
  },
  {
   "cell_type": "code",
   "execution_count": 20,
   "id": "77841111-acd9-4d0e-9d27-90a9f533b7ff",
   "metadata": {},
   "outputs": [
    {
     "name": "stderr",
     "output_type": "stream",
     "text": [
      "[Stage 17:====================================================>   (74 + 5) / 79]"
     ]
    }
   ],
   "source": [
    "# FIXME: Tesing, uncomment.\n",
    "# Variants with non-zero alternate allele frequency in gnomAD.\n",
    "gnomad_all_ht = ht.filter(ht.info.AF_gnomad_all != 0)\n",
    "gnomad_all_variant_counts_pd = variant_counts(gnomad_all_ht)\n",
    "gnomad_all_effect_counts_pd = effect_counts(gnomad_all_ht)\n",
    "gnomad_all_impact_counts_pd = impact_counts(gnomad_all_ht)"
   ]
  },
  {
   "cell_type": "code",
   "execution_count": 34,
   "id": "7b780423-6692-4135-b286-7496bc7ddc23",
   "metadata": {},
   "outputs": [
    {
     "name": "stderr",
     "output_type": "stream",
     "text": [
      "[Stage 29:=======================================================>(78 + 1) / 79]"
     ]
    }
   ],
   "source": [
    "# Variants with non-zero alternate allele frequency in gnomAD.\n",
    "gnomad_nfe_nwe_ht = ht.filter((ht.info.AF_nfe_nwe != 0) & (ht.info.AC_nfe_nwe > 1))\n",
    "gnomad_nfe_nwe_variant_counts_pd = variant_counts(gnomad_nfe_nwe_ht)\n",
    "gnomad_nfe_nwe_effect_counts_pd = effect_counts(gnomad_nfe_nwe_ht)\n",
    "gnomad_nfe_nwe_impact_counts_pd = impact_counts(gnomad_nfe_nwe_ht)"
   ]
  },
  {
   "cell_type": "code",
   "execution_count": 30,
   "id": "3bf36c17-4201-4886-9907-41032a9bd90b",
   "metadata": {},
   "outputs": [
    {
     "name": "stderr",
     "output_type": "stream",
     "text": [
      "[Stage 26:=====================================================>  (75 + 4) / 79]"
     ]
    }
   ],
   "source": [
    "# Variants that are enriched in FarGen: less than 1% in gnomAD and more than 5% in FarGen.\n",
    "enriched_ht = ht.filter((ht.info.AF_nfe_nwe < 0.05) & (ht.info.AF_fae > 0.01))\n",
    "enriched_variant_counts_pd = variant_counts(enriched_ht)\n",
    "enriched_effect_counts_pd = effect_counts(enriched_ht)\n",
    "enriched_impact_counts_pd = impact_counts(enriched_ht)"
   ]
  },
  {
   "cell_type": "code",
   "execution_count": 35,
   "id": "e338ba44-c4d7-40e3-8162-a57ab671620a",
   "metadata": {},
   "outputs": [],
   "source": [
    "# Concatenate columns, FarGen, gnomAD and enriched.\n",
    "variant_counts_pd = pd.concat([fae_variant_counts_pd, gnomad_all_variant_counts_pd, gnomad_nfe_nwe_variant_counts_pd, enriched_variant_counts_pd], axis=1)\n",
    "effect_counts_pd = pd.concat([fae_effect_counts_pd, gnomad_all_effect_counts_pd, gnomad_nfe_nwe_effect_counts_pd, enriched_effect_counts_pd], axis=1)\n",
    "impact_counts_pd = pd.concat([fae_impact_counts_pd, gnomad_all_impact_counts_pd, gnomad_nfe_nwe_impact_counts_pd, enriched_impact_counts_pd], axis=1)\n",
    "\n",
    "# Concatenate rows, variants, effects and impact.\n",
    "counts_pd = pd.concat([variant_counts_pd, effect_counts_pd, impact_counts_pd])\n",
    "\n",
    "# Set column names.\n",
    "counts_pd.columns = ['FarGen', 'gnomAD all', 'gnomAD NFE NWE', 'Enriched']"
   ]
  },
  {
   "cell_type": "code",
   "execution_count": 36,
   "id": "7b4a12f8-5630-4ecd-ae0b-fa1853423484",
   "metadata": {},
   "outputs": [],
   "source": [
    "pd.set_option('display.float_format', lambda x: '%g' % x)"
   ]
  },
  {
   "cell_type": "code",
   "execution_count": 37,
   "id": "122a3736-f0d8-4275-8226-8e6ad6dc7df5",
   "metadata": {},
   "outputs": [
    {
     "data": {
      "text/html": [
       "<div>\n",
       "<style scoped>\n",
       "    .dataframe tbody tr th:only-of-type {\n",
       "        vertical-align: middle;\n",
       "    }\n",
       "\n",
       "    .dataframe tbody tr th {\n",
       "        vertical-align: top;\n",
       "    }\n",
       "\n",
       "    .dataframe thead th {\n",
       "        text-align: right;\n",
       "    }\n",
       "</style>\n",
       "<table border=\"1\" class=\"dataframe\">\n",
       "  <thead>\n",
       "    <tr style=\"text-align: right;\">\n",
       "      <th></th>\n",
       "      <th>FarGen</th>\n",
       "      <th>gnomAD all</th>\n",
       "      <th>gnomAD NFE NWE</th>\n",
       "      <th>Enriched</th>\n",
       "    </tr>\n",
       "  </thead>\n",
       "  <tbody>\n",
       "    <tr>\n",
       "      <th>n_variants</th>\n",
       "      <td>59352</td>\n",
       "      <td>1.4946e+07</td>\n",
       "      <td>1.65400e+06</td>\n",
       "      <td>11124</td>\n",
       "    </tr>\n",
       "    <tr>\n",
       "      <th>snps</th>\n",
       "      <td>0.902733</td>\n",
       "      <td>0.937682</td>\n",
       "      <td>0.926923</td>\n",
       "      <td>0.857605</td>\n",
       "    </tr>\n",
       "    <tr>\n",
       "      <th>indels</th>\n",
       "      <td>0.0972672</td>\n",
       "      <td>0.0623182</td>\n",
       "      <td>0.073076</td>\n",
       "      <td>0.142395</td>\n",
       "    </tr>\n",
       "    <tr>\n",
       "      <th>synonymous_variant</th>\n",
       "      <td>0.234247</td>\n",
       "      <td>0.166956</td>\n",
       "      <td>0.185015</td>\n",
       "      <td>0.217188</td>\n",
       "    </tr>\n",
       "    <tr>\n",
       "      <th>missense_variant</th>\n",
       "      <td>0.218106</td>\n",
       "      <td>0.345944</td>\n",
       "      <td>0.319183</td>\n",
       "      <td>0.261057</td>\n",
       "    </tr>\n",
       "    <tr>\n",
       "      <th>frameshift_variant</th>\n",
       "      <td>0.00434695</td>\n",
       "      <td>0.0156443</td>\n",
       "      <td>0.0100272</td>\n",
       "      <td>0.0106077</td>\n",
       "    </tr>\n",
       "    <tr>\n",
       "      <th>stop_gained</th>\n",
       "      <td>0.00205553</td>\n",
       "      <td>0.0104211</td>\n",
       "      <td>0.00730469</td>\n",
       "      <td>0.00368572</td>\n",
       "    </tr>\n",
       "    <tr>\n",
       "      <th>LOW</th>\n",
       "      <td>0.295255</td>\n",
       "      <td>0.217375</td>\n",
       "      <td>0.237523</td>\n",
       "      <td>0.280744</td>\n",
       "    </tr>\n",
       "    <tr>\n",
       "      <th>MODIFIER</th>\n",
       "      <td>0.454205</td>\n",
       "      <td>0.36904</td>\n",
       "      <td>0.389407</td>\n",
       "      <td>0.412981</td>\n",
       "    </tr>\n",
       "    <tr>\n",
       "      <th>MODERATE</th>\n",
       "      <td>0.232191</td>\n",
       "      <td>0.36583</td>\n",
       "      <td>0.337796</td>\n",
       "      <td>0.278497</td>\n",
       "    </tr>\n",
       "    <tr>\n",
       "      <th>HIGH</th>\n",
       "      <td>0.0183482</td>\n",
       "      <td>0.0477551</td>\n",
       "      <td>0.0352738</td>\n",
       "      <td>0.0277778</td>\n",
       "    </tr>\n",
       "  </tbody>\n",
       "</table>\n",
       "</div>"
      ],
      "text/plain": [
       "                       FarGen  gnomAD all  gnomAD NFE NWE   Enriched\n",
       "n_variants              59352  1.4946e+07     1.65400e+06      11124\n",
       "snps                 0.902733    0.937682        0.926923   0.857605\n",
       "indels              0.0972672   0.0623182        0.073076   0.142395\n",
       "synonymous_variant   0.234247    0.166956        0.185015   0.217188\n",
       "missense_variant     0.218106    0.345944        0.319183   0.261057\n",
       "frameshift_variant 0.00434695   0.0156443       0.0100272  0.0106077\n",
       "stop_gained        0.00205553   0.0104211      0.00730469 0.00368572\n",
       "LOW                  0.295255    0.217375        0.237523   0.280744\n",
       "MODIFIER             0.454205     0.36904        0.389407   0.412981\n",
       "MODERATE             0.232191     0.36583        0.337796   0.278497\n",
       "HIGH                0.0183482   0.0477551       0.0352738  0.0277778"
      ]
     },
     "execution_count": 37,
     "metadata": {},
     "output_type": "execute_result"
    }
   ],
   "source": [
    "counts_pd"
   ]
  },
  {
   "cell_type": "markdown",
   "id": "b7b64e75-c071-47ed-b3e8-d5ca9348fe7d",
   "metadata": {},
   "source": [
    "## Folded Site Frequency Spectrum (FSFS)\n",
    "\n",
    "Let $f_i$ be the *site frequency* of bin $i$, where bin $i$ corresponds to some range of *allele frequencies*. We are going to compute the folded frequencies $f^*_i = f_i + f_{n-i}$.\n",
    "\n",
    "Example: if we have 10 bins, then $f^*_1 = f_1 + f_{10}$.\n",
    "\n",
    "Below a function that computes the FSFS is defined."
   ]
  },
  {
   "cell_type": "code",
   "execution_count": 64,
   "id": "e98c0fd1-b3b4-41c5-9d03-11e47307fe6b",
   "metadata": {},
   "outputs": [],
   "source": [
    "def fsfs(n_bins, ht, af_exprs):\n",
    "    # Make sure the number of bins is an even number.\n",
    "    assert n_bins % 2 == 0, 'Number of bins must be an even number.'\n",
    "    hist_struct = ht.aggregate(hl.agg.hist(af_exprs, 0, 1, n_bins))\n",
    "\n",
    "    # Allele frequency.\n",
    "    allele_freq = hist_struct.bin_edges\n",
    "\n",
    "    # The site count is the number of times frequencies in each bin is observed.\n",
    "    site_counts = np.array(hist_struct.bin_freq)\n",
    "\n",
    "    # Calculate site frequencies.\n",
    "    n_sites = sum(site_counts)\n",
    "    site_freq = site_counts / n_sites\n",
    "\n",
    "    # Calculate folded site-frequencies.\n",
    "    half = int(n_bins/2)\n",
    "    folded_site_freq = site_freq[:half] + site_freq[:half-1:-1]\n",
    "\n",
    "    # Make a Hail table with the allele counts and site frequencies.\n",
    "    fsfs_table = []\n",
    "    for ac, fc in zip(allele_freq, folded_site_freq):\n",
    "        row = {'af': ac, 'ff': fc}\n",
    "        fsfs_table.append(row)\n",
    "\n",
    "    # Make a table where each row is a bin, and each row contains the allele frequency and the folded site-frequency.\n",
    "    ht_fsfs = hl.Table.parallelize(hl.literal(fsfs_table, 'array<struct{af:float32,ff:float32}>'))\n",
    "\n",
    "    return ht_fsfs"
   ]
  },
  {
   "cell_type": "markdown",
   "id": "d6d2dfca-bebc-4945-9a3a-30a288c8d7b3",
   "metadata": {},
   "source": [
    "We compute a simple FFS and plot it. Note that singletons have a frequency of about 0.65."
   ]
  },
  {
   "cell_type": "code",
   "execution_count": 67,
   "id": "f45668dd-5ea9-45b4-9523-53f0a4bd28b5",
   "metadata": {},
   "outputs": [
    {
     "name": "stderr",
     "output_type": "stream",
     "text": [
      "[Stage 91:===================================================>    (72 + 7) / 79]"
     ]
    }
   ],
   "source": [
    "fae_ht = ht.filter(ht.info.AC_fae != 0)\n",
    "fae_fsfs_ht = fsfs(50, fae_ht, fae_ht.info.AF_fae)"
   ]
  },
  {
   "cell_type": "code",
   "execution_count": 68,
   "id": "03839c74-9c5a-44ef-801d-0e6c9d075549",
   "metadata": {},
   "outputs": [
    {
     "data": {
      "text/html": [
       "\n",
       "\n",
       "\n",
       "\n",
       "\n",
       "\n",
       "  <div class=\"bk-root\" id=\"8037c686-e25f-412f-9699-61268f809c4a\" data-root-id=\"8985\"></div>\n"
      ]
     },
     "metadata": {},
     "output_type": "display_data"
    },
    {
     "data": {
      "application/javascript": [
       "(function(root) {\n",
       "  function embed_document(root) {\n",
       "    \n",
       "  var docs_json = {\"5ab64b59-0ee0-47a8-8724-223d0ee35fb0\":{\"roots\":{\"references\":[{\"attributes\":{\"below\":[{\"id\":\"8995\",\"type\":\"LinearAxis\"}],\"center\":[{\"id\":\"8999\",\"type\":\"Grid\"},{\"id\":\"9004\",\"type\":\"Grid\"}],\"left\":[{\"id\":\"9000\",\"type\":\"LinearAxis\"}],\"plot_height\":400,\"plot_width\":800,\"renderers\":[{\"id\":\"9024\",\"type\":\"GlyphRenderer\"}],\"title\":null,\"toolbar\":{\"id\":\"9011\",\"type\":\"Toolbar\"},\"x_range\":{\"id\":\"8987\",\"type\":\"DataRange1d\"},\"x_scale\":{\"id\":\"8991\",\"type\":\"LinearScale\"},\"y_range\":{\"id\":\"8989\",\"type\":\"DataRange1d\"},\"y_scale\":{\"id\":\"8993\",\"type\":\"LinearScale\"}},\"id\":\"8985\",\"subtype\":\"Figure\",\"type\":\"Plot\"},{\"attributes\":{\"fill_color\":{\"value\":\"#1f77b4\"},\"line_color\":{\"value\":\"#1f77b4\"},\"x\":{\"field\":\"x\"},\"y\":{\"field\":\"y\"}},\"id\":\"9022\",\"type\":\"Circle\"},{\"attributes\":{\"axis_label\":\"Frequency in population\",\"formatter\":{\"id\":\"9305\",\"type\":\"BasicTickFormatter\"},\"ticker\":{\"id\":\"9001\",\"type\":\"BasicTicker\"}},\"id\":\"9000\",\"type\":\"LinearAxis\"},{\"attributes\":{},\"id\":\"9008\",\"type\":\"SaveTool\"},{\"attributes\":{},\"id\":\"9009\",\"type\":\"ResetTool\"},{\"attributes\":{\"source\":{\"id\":\"9020\",\"type\":\"ColumnDataSource\"}},\"id\":\"9025\",\"type\":\"CDSView\"},{\"attributes\":{\"overlay\":{\"id\":\"9307\",\"type\":\"BoxAnnotation\"}},\"id\":\"9007\",\"type\":\"BoxZoomTool\"},{\"attributes\":{\"dimension\":1,\"ticker\":{\"id\":\"9001\",\"type\":\"BasicTicker\"}},\"id\":\"9004\",\"type\":\"Grid\"},{\"attributes\":{\"bottom_units\":\"screen\",\"fill_alpha\":{\"value\":0.5},\"fill_color\":{\"value\":\"lightgrey\"},\"left_units\":\"screen\",\"level\":\"overlay\",\"line_alpha\":{\"value\":1.0},\"line_color\":{\"value\":\"black\"},\"line_dash\":[4,4],\"line_width\":{\"value\":2},\"render_mode\":\"css\",\"right_units\":\"screen\",\"top_units\":\"screen\"},\"id\":\"9307\",\"type\":\"BoxAnnotation\"},{\"attributes\":{\"callback\":null},\"id\":\"8987\",\"type\":\"DataRange1d\"},{\"attributes\":{},\"id\":\"9006\",\"type\":\"WheelZoomTool\"},{\"attributes\":{},\"id\":\"9010\",\"type\":\"HelpTool\"},{\"attributes\":{\"fill_alpha\":{\"value\":0.1},\"fill_color\":{\"value\":\"#1f77b4\"},\"line_alpha\":{\"value\":0.1},\"line_color\":{\"value\":\"#1f77b4\"},\"x\":{\"field\":\"x\"},\"y\":{\"field\":\"y\"}},\"id\":\"9023\",\"type\":\"Circle\"},{\"attributes\":{\"callback\":null,\"data\":{\"index\":[0,1,2,3,4,5,6,7,8,9,10,11,12,13,14,15,16,17,18,19,20,21,22,23,24],\"x\":{\"__ndarray__\":\"AAAAAAAAAAAAAABA4XqUPwAAAEDheqQ/AAAA4FG4rj8AAABA4Xq0PwAAAKCZmbk/AAAA4FG4vj8AAAAghevBPwAAAEDhesQ/AAAAgD0Kxz8AAACgmZnJPwAAAMD1KMw/AAAA4FG4zj8AAAAA16PQPwAAACCF69E/AAAAQDMz0z8AAABA4XrUPwAAAGCPwtU/AAAAgD0K1z8AAACA61HYPwAAAKCZmdk/AAAAoEfh2j8AAADA9SjcPwAAAOCjcN0/AAAA4FG43j8=\",\"dtype\":\"float64\",\"shape\":[25]},\"y\":{\"__ndarray__\":\"AAAAwAJDvj8AAACAysm4PwAAACDSKLM/AAAAAG6xrj8AAABAiYKrPwAAAGCPcqg/AAAAgEyIpj8AAABAM/ajPwAAAABcr6I/AAAAoNrAoT8AAAAgeb6gPwAAAACk6qA/AAAAwCzQnT8AAACAawmdPwAAACDBLJ0/AAAA4Kg5mz8AAADAJ4CaPwAAAMC8Rpo/AAAAAGWwmD8AAAAAZk+ZPwAAAODklZg/AAAAoOPBlz8AAABAT2WYPwAAAODM15Y/AAAA4DcRlz8=\",\"dtype\":\"float64\",\"shape\":[25]}},\"selected\":{\"id\":\"9309\",\"type\":\"Selection\"},\"selection_policy\":{\"id\":\"9308\",\"type\":\"UnionRenderers\"}},\"id\":\"9020\",\"type\":\"ColumnDataSource\"},{\"attributes\":{},\"id\":\"9001\",\"type\":\"BasicTicker\"},{\"attributes\":{},\"id\":\"9308\",\"type\":\"UnionRenderers\"},{\"attributes\":{\"active_drag\":\"auto\",\"active_inspect\":\"auto\",\"active_multi\":null,\"active_scroll\":\"auto\",\"active_tap\":\"auto\",\"tools\":[{\"id\":\"9005\",\"type\":\"PanTool\"},{\"id\":\"9006\",\"type\":\"WheelZoomTool\"},{\"id\":\"9007\",\"type\":\"BoxZoomTool\"},{\"id\":\"9008\",\"type\":\"SaveTool\"},{\"id\":\"9009\",\"type\":\"ResetTool\"},{\"id\":\"9010\",\"type\":\"HelpTool\"},{\"id\":\"9019\",\"type\":\"HoverTool\"}]},\"id\":\"9011\",\"type\":\"Toolbar\"},{\"attributes\":{\"callback\":null},\"id\":\"8989\",\"type\":\"DataRange1d\"},{\"attributes\":{},\"id\":\"8993\",\"type\":\"LinearScale\"},{\"attributes\":{\"data_source\":{\"id\":\"9020\",\"type\":\"ColumnDataSource\"},\"glyph\":{\"id\":\"9022\",\"type\":\"Circle\"},\"hover_glyph\":null,\"muted_glyph\":null,\"nonselection_glyph\":{\"id\":\"9023\",\"type\":\"Circle\"},\"selection_glyph\":null,\"view\":{\"id\":\"9025\",\"type\":\"CDSView\"}},\"id\":\"9024\",\"type\":\"GlyphRenderer\"},{\"attributes\":{},\"id\":\"9005\",\"type\":\"PanTool\"},{\"attributes\":{\"ticker\":{\"id\":\"8996\",\"type\":\"BasicTicker\"}},\"id\":\"8999\",\"type\":\"Grid\"},{\"attributes\":{\"callback\":null,\"tooltips\":[[\"x\",\"@x\"],[\"y\",\"@y\"]]},\"id\":\"9019\",\"type\":\"HoverTool\"},{\"attributes\":{},\"id\":\"9303\",\"type\":\"BasicTickFormatter\"},{\"attributes\":{},\"id\":\"8991\",\"type\":\"LinearScale\"},{\"attributes\":{\"axis_label\":\"Allele counts\",\"formatter\":{\"id\":\"9303\",\"type\":\"BasicTickFormatter\"},\"ticker\":{\"id\":\"8996\",\"type\":\"BasicTicker\"}},\"id\":\"8995\",\"type\":\"LinearAxis\"},{\"attributes\":{},\"id\":\"9309\",\"type\":\"Selection\"},{\"attributes\":{},\"id\":\"8996\",\"type\":\"BasicTicker\"},{\"attributes\":{},\"id\":\"9305\",\"type\":\"BasicTickFormatter\"}],\"root_ids\":[\"8985\"]},\"title\":\"Bokeh Application\",\"version\":\"1.2.0\"}};\n",
       "  var render_items = [{\"docid\":\"5ab64b59-0ee0-47a8-8724-223d0ee35fb0\",\"roots\":{\"8985\":\"8037c686-e25f-412f-9699-61268f809c4a\"}}];\n",
       "  root.Bokeh.embed.embed_items_notebook(docs_json, render_items);\n",
       "\n",
       "  }\n",
       "  if (root.Bokeh !== undefined) {\n",
       "    embed_document(root);\n",
       "  } else {\n",
       "    var attempts = 0;\n",
       "    var timer = setInterval(function(root) {\n",
       "      if (root.Bokeh !== undefined) {\n",
       "        embed_document(root);\n",
       "        clearInterval(timer);\n",
       "      }\n",
       "      attempts++;\n",
       "      if (attempts > 100) {\n",
       "        console.log(\"Bokeh: ERROR: Unable to run BokehJS code because BokehJS library is missing\");\n",
       "        clearInterval(timer);\n",
       "      }\n",
       "    }, 10, root)\n",
       "  }\n",
       "})(window);"
      ],
      "application/vnd.bokehjs_exec.v0+json": ""
     },
     "metadata": {
      "application/vnd.bokehjs_exec.v0+json": {
       "id": "8985"
      }
     },
     "output_type": "display_data"
    }
   ],
   "source": [
    "p = hl.plot.scatter(fae_fsfs_ht.af, fae_fsfs_ht.ff,\n",
    "                    xlabel='Allele counts', ylabel='Frequency in population')\n",
    "p.plot_width = 800\n",
    "p.plot_height = 400\n",
    "show(p)"
   ]
  },
  {
   "cell_type": "markdown",
   "id": "7b76db85-0c1b-44a2-bf22-f832e77cda58",
   "metadata": {},
   "source": [
    "## FSFS strafified by population"
   ]
  },
  {
   "cell_type": "code",
   "execution_count": 69,
   "id": "c4758df6-a422-4230-ba6e-fc3d4f82c9f3",
   "metadata": {},
   "outputs": [
    {
     "name": "stderr",
     "output_type": "stream",
     "text": [
      "[Stage 95:===================================================>    (72 + 7) / 79]"
     ]
    }
   ],
   "source": [
    "n_bins = 50\n",
    "\n",
    "fae_ht = ht.filter(ht.info.AC_fae != 0)\n",
    "fae_fsfs_ht = ffs(n_bins, fae_ht, fae_ht.info.AF_fae)\n",
    "fae_fsfs_ht = fae_fsfs_ht.annotate(strata='FarGen')\n",
    "\n",
    "gnomad_ht = ht.filter(ht.info.AC_gnomad_all != 0)\n",
    "gnomad_fsfs_ht = fsfs(n_bins, gnomad_ht, gnomad_ht.info.AF_gnomad_all)\n",
    "gnomad_fsfs_ht = gnomad_fsfs_ht.annotate(strata='gnomAD')\n",
    "\n",
    "\n",
    "gnomad_nfe_nwe_ht = ht.filter(ht.info.AC_nfe_nwe != 0)\n",
    "gnomad_nfe_nwe_fsfs_ht = fsfs(n_bins, gnomad_nfe_nwe_ht, gnomad_nfe_nwe_ht.info.AF_nfe_nwe)\n",
    "gnomad_nfe_nwe_fsfs_ht = gnomad_nfe_nwe_fsfs_ht.annotate(strata='NFE NWE')\n",
    "\n",
    "fsfs_ht = fae_fsfs_ht.union(gnomad_fsfs_ht)\n",
    "fsfs_ht = fsfs_ht.union(gnomad_nfe_nwe_fsfs_ht)"
   ]
  },
  {
   "cell_type": "code",
   "execution_count": 70,
   "id": "9ad0201d-8deb-426c-b87f-9f1d78121ab7",
   "metadata": {},
   "outputs": [
    {
     "data": {
      "text/html": [
       "\n",
       "\n",
       "\n",
       "\n",
       "\n",
       "\n",
       "  <div class=\"bk-root\" id=\"3f193989-6621-4536-8e51-41c35cd84346\" data-root-id=\"9358\"></div>\n"
      ]
     },
     "metadata": {},
     "output_type": "display_data"
    },
    {
     "data": {
      "application/javascript": [
       "(function(root) {\n",
       "  function embed_document(root) {\n",
       "    \n",
       "  var docs_json = {\"7d9ffb67-7713-4bc5-8f48-f281bd1bed48\":{\"roots\":{\"references\":[{\"attributes\":{\"below\":[{\"id\":\"9368\",\"type\":\"LinearAxis\"}],\"center\":[{\"id\":\"9372\",\"type\":\"Grid\"},{\"id\":\"9377\",\"type\":\"Grid\"}],\"left\":[{\"id\":\"9373\",\"type\":\"LinearAxis\"},{\"id\":\"9416\",\"type\":\"Legend\"},{\"id\":\"9417\",\"type\":\"ColorBar\"}],\"plot_height\":400,\"plot_width\":800,\"renderers\":[{\"id\":\"9400\",\"type\":\"GlyphRenderer\"},{\"id\":\"9406\",\"type\":\"GlyphRenderer\"},{\"id\":\"9412\",\"type\":\"GlyphRenderer\"}],\"title\":null,\"toolbar\":{\"id\":\"9384\",\"type\":\"Toolbar\"},\"x_range\":{\"id\":\"9360\",\"type\":\"DataRange1d\"},\"x_scale\":{\"id\":\"9364\",\"type\":\"LinearScale\"},\"y_range\":{\"id\":\"9362\",\"type\":\"DataRange1d\"},\"y_scale\":{\"id\":\"9418\",\"type\":\"LogScale\"}},\"id\":\"9358\",\"subtype\":\"Figure\",\"type\":\"Plot\"},{\"attributes\":{},\"id\":\"9706\",\"type\":\"BasicTickFormatter\"},{\"attributes\":{\"callback\":null,\"data\":{\"index\":[0,1,2,3,4,5,6,7,8,9,10,11,12,13,14,15,16,17,18,19,20,21,22,23,24,25,26,27,28,29,30,31,32,33,34,35,36,37,38,39,40,41,42,43,44,45,46,47,48,49,50,51,52,53,54,55,56,57,58,59,60,61,62,63,64,65,66,67,68,69,70,71,72,73,74],\"label\":[\"FarGen\",\"FarGen\",\"FarGen\",\"FarGen\",\"FarGen\",\"FarGen\",\"FarGen\",\"FarGen\",\"FarGen\",\"FarGen\",\"FarGen\",\"FarGen\",\"FarGen\",\"FarGen\",\"FarGen\",\"FarGen\",\"FarGen\",\"FarGen\",\"FarGen\",\"FarGen\",\"FarGen\",\"FarGen\",\"FarGen\",\"FarGen\",\"FarGen\",\"gnomAD\",\"gnomAD\",\"gnomAD\",\"gnomAD\",\"gnomAD\",\"gnomAD\",\"gnomAD\",\"gnomAD\",\"gnomAD\",\"gnomAD\",\"gnomAD\",\"gnomAD\",\"gnomAD\",\"gnomAD\",\"gnomAD\",\"gnomAD\",\"gnomAD\",\"gnomAD\",\"gnomAD\",\"gnomAD\",\"gnomAD\",\"gnomAD\",\"gnomAD\",\"gnomAD\",\"gnomAD\",\"NFE NWE\",\"NFE NWE\",\"NFE NWE\",\"NFE NWE\",\"NFE NWE\",\"NFE NWE\",\"NFE NWE\",\"NFE NWE\",\"NFE NWE\",\"NFE NWE\",\"NFE NWE\",\"NFE NWE\",\"NFE NWE\",\"NFE NWE\",\"NFE NWE\",\"NFE NWE\",\"NFE NWE\",\"NFE NWE\",\"NFE NWE\",\"NFE NWE\",\"NFE NWE\",\"NFE NWE\",\"NFE NWE\",\"NFE NWE\",\"NFE NWE\"],\"x\":{\"__ndarray__\":\"AAAAAAAAAAAAAABA4XqUPwAAAEDheqQ/AAAA4FG4rj8AAABA4Xq0PwAAAKCZmbk/AAAA4FG4vj8AAAAghevBPwAAAEDhesQ/AAAAgD0Kxz8AAACgmZnJPwAAAMD1KMw/AAAA4FG4zj8AAAAA16PQPwAAACCF69E/AAAAQDMz0z8AAABA4XrUPwAAAGCPwtU/AAAAgD0K1z8AAACA61HYPwAAAKCZmdk/AAAAoEfh2j8AAADA9SjcPwAAAOCjcN0/AAAA4FG43j8AAAAAAAAAAAAAAEDhepQ/AAAAQOF6pD8AAADgUbiuPwAAAEDherQ/AAAAoJmZuT8AAADgUbi+PwAAACCF68E/AAAAQOF6xD8AAACAPQrHPwAAAKCZmck/AAAAwPUozD8AAADgUbjOPwAAAADXo9A/AAAAIIXr0T8AAABAMzPTPwAAAEDhetQ/AAAAYI/C1T8AAACAPQrXPwAAAIDrUdg/AAAAoJmZ2T8AAACgR+HaPwAAAMD1KNw/AAAA4KNw3T8AAADgUbjePwAAAAAAAAAAAAAAQOF6lD8AAABA4XqkPwAAAOBRuK4/AAAAQOF6tD8AAACgmZm5PwAAAOBRuL4/AAAAIIXrwT8AAABA4XrEPwAAAIA9Csc/AAAAoJmZyT8AAADA9SjMPwAAAOBRuM4/AAAAANej0D8AAAAghevRPwAAAEAzM9M/AAAAQOF61D8AAABgj8LVPwAAAIA9Ctc/AAAAgOtR2D8AAACgmZnZPwAAAKBH4do/AAAAwPUo3D8AAADgo3DdPwAAAOBRuN4/\",\"dtype\":\"float64\",\"shape\":[75]},\"y\":{\"__ndarray__\":\"AAAAwAJDvj8AAACAysm4PwAAACDSKLM/AAAAAG6xrj8AAABAiYKrPwAAAGCPcqg/AAAAgEyIpj8AAABAM/ajPwAAAABcr6I/AAAAoNrAoT8AAAAgeb6gPwAAAACk6qA/AAAAwCzQnT8AAACAawmdPwAAACDBLJ0/AAAA4Kg5mz8AAADAJ4CaPwAAAMC8Rpo/AAAAAGWwmD8AAAAAZk+ZPwAAAODklZg/AAAAoOPBlz8AAABAT2WYPwAAAODM15Y/AAAA4DcRlz8AAACAnbjvPwAAAECgU1o/AAAA4NG/TD8AAAAg4CBFPwAAAKC7SkA/AAAAABX0Oz8AAAAAD1c5PwAAAMBTGDc/AAAAQB0nND8AAACgEuYyPwAAAGDZvjE/AAAAgGGVMD8AAABgCcAwPwAAAMAAhy4/AAAAgMExLT8AAACgTzYsPwAAAIAyhys/AAAAIDjRLD8AAABgzlUrPwAAAGAEhSo/AAAAoMCLKj8AAAAAJtgpPwAAAID2uik/AAAAoMznKj8AAABg7KouPwAAAKDdBO8/AAAAQKAddj8AAAAgv9VoPwAAACD4NWI/AAAA4LbtXT8AAACAmBBZPwAAAIDNu1U/AAAAoGqSUz8AAABg9yVSPwAAAEA88FA/AAAAgEDcTz8AAADgnIlOPwAAAECfS00/AAAAAKTPSj8AAADgig1KPwAAACBZB0o/AAAAQOMZST8AAACgfw1JPwAAAODXGUg/AAAAwPr8SD8AAAAgcGxIPwAAACD9vkc/AAAAYEIHSD8AAABA1jpHPwAAAGBgZks/\",\"dtype\":\"float64\",\"shape\":[75]}},\"selected\":{\"id\":\"9712\",\"type\":\"Selection\"},\"selection_policy\":{\"id\":\"9711\",\"type\":\"UnionRenderers\"}},\"id\":\"9393\",\"type\":\"ColumnDataSource\"},{\"attributes\":{\"bottom_units\":\"screen\",\"fill_alpha\":{\"value\":0.5},\"fill_color\":{\"value\":\"lightgrey\"},\"left_units\":\"screen\",\"level\":\"overlay\",\"line_alpha\":{\"value\":1.0},\"line_color\":{\"value\":\"black\"},\"line_dash\":[4,4],\"line_width\":{\"value\":2},\"render_mode\":\"css\",\"right_units\":\"screen\",\"top_units\":\"screen\"},\"id\":\"9710\",\"type\":\"BoxAnnotation\"},{\"attributes\":{\"dimension\":1,\"ticker\":{\"id\":\"9374\",\"type\":\"BasicTicker\"}},\"id\":\"9377\",\"type\":\"Grid\"},{\"attributes\":{},\"id\":\"9369\",\"type\":\"BasicTicker\"},{\"attributes\":{\"label\":{\"value\":\"gnomAD\"},\"renderers\":[{\"id\":\"9412\",\"type\":\"GlyphRenderer\"}]},\"id\":\"9415\",\"type\":\"LegendItem\"},{\"attributes\":{\"fill_alpha\":{\"value\":0.1},\"fill_color\":{\"value\":\"#1f77b4\"},\"line_alpha\":{\"value\":0.1},\"line_color\":{\"value\":\"#1f77b4\"},\"x\":{\"field\":\"x\"},\"y\":{\"field\":\"y\"}},\"id\":\"9405\",\"type\":\"Circle\"},{\"attributes\":{\"ticker\":{\"id\":\"9369\",\"type\":\"BasicTicker\"}},\"id\":\"9372\",\"type\":\"Grid\"},{\"attributes\":{\"axis_label\":\"Frequency in population\",\"formatter\":{\"id\":\"9706\",\"type\":\"BasicTickFormatter\"},\"ticker\":{\"id\":\"9374\",\"type\":\"BasicTicker\"}},\"id\":\"9373\",\"type\":\"LinearAxis\"},{\"attributes\":{},\"id\":\"9382\",\"type\":\"ResetTool\"},{\"attributes\":{\"filters\":[{\"id\":\"9395\",\"type\":\"GroupFilter\"}],\"source\":{\"id\":\"9393\",\"type\":\"ColumnDataSource\"}},\"id\":\"9396\",\"type\":\"CDSView\"},{\"attributes\":{\"label\":{\"value\":\"NFE NWE\"},\"renderers\":[{\"id\":\"9406\",\"type\":\"GlyphRenderer\"}]},\"id\":\"9414\",\"type\":\"LegendItem\"},{\"attributes\":{\"callback\":null},\"id\":\"9360\",\"type\":\"DataRange1d\"},{\"attributes\":{\"data_source\":{\"id\":\"9393\",\"type\":\"ColumnDataSource\"},\"glyph\":{\"id\":\"9404\",\"type\":\"Circle\"},\"hover_glyph\":null,\"muted_glyph\":null,\"nonselection_glyph\":{\"id\":\"9405\",\"type\":\"Circle\"},\"selection_glyph\":null,\"view\":{\"id\":\"9402\",\"type\":\"CDSView\"}},\"id\":\"9406\",\"type\":\"GlyphRenderer\"},{\"attributes\":{},\"id\":\"9379\",\"type\":\"WheelZoomTool\"},{\"attributes\":{\"data_source\":{\"id\":\"9393\",\"type\":\"ColumnDataSource\"},\"glyph\":{\"id\":\"9398\",\"type\":\"Circle\"},\"hover_glyph\":null,\"muted_glyph\":null,\"nonselection_glyph\":{\"id\":\"9399\",\"type\":\"Circle\"},\"selection_glyph\":null,\"view\":{\"id\":\"9396\",\"type\":\"CDSView\"}},\"id\":\"9400\",\"type\":\"GlyphRenderer\"},{\"attributes\":{},\"id\":\"9704\",\"type\":\"BasicTickFormatter\"},{\"attributes\":{\"filters\":[{\"id\":\"9407\",\"type\":\"GroupFilter\"}],\"source\":{\"id\":\"9393\",\"type\":\"ColumnDataSource\"}},\"id\":\"9408\",\"type\":\"CDSView\"},{\"attributes\":{},\"id\":\"9418\",\"type\":\"LogScale\"},{\"attributes\":{\"click_policy\":\"hide\",\"items\":[{\"id\":\"9413\",\"type\":\"LegendItem\"},{\"id\":\"9414\",\"type\":\"LegendItem\"},{\"id\":\"9415\",\"type\":\"LegendItem\"}]},\"id\":\"9416\",\"type\":\"Legend\"},{\"attributes\":{\"overlay\":{\"id\":\"9710\",\"type\":\"BoxAnnotation\"}},\"id\":\"9380\",\"type\":\"BoxZoomTool\"},{\"attributes\":{},\"id\":\"9712\",\"type\":\"Selection\"},{\"attributes\":{\"column_name\":\"label\",\"group\":\"NFE NWE\"},\"id\":\"9401\",\"type\":\"GroupFilter\"},{\"attributes\":{\"fill_color\":{\"field\":\"label\",\"transform\":{\"id\":\"9394\",\"type\":\"CategoricalColorMapper\"}},\"line_color\":{\"field\":\"label\",\"transform\":{\"id\":\"9394\",\"type\":\"CategoricalColorMapper\"}},\"x\":{\"field\":\"x\"},\"y\":{\"field\":\"y\"}},\"id\":\"9398\",\"type\":\"Circle\"},{\"attributes\":{},\"id\":\"9374\",\"type\":\"BasicTicker\"},{\"attributes\":{},\"id\":\"9708\",\"type\":\"BasicTickFormatter\"},{\"attributes\":{\"label\":{\"value\":\"FarGen\"},\"renderers\":[{\"id\":\"9400\",\"type\":\"GlyphRenderer\"}]},\"id\":\"9413\",\"type\":\"LegendItem\"},{\"attributes\":{\"factors\":[\"FarGen\",\"NFE NWE\",\"gnomAD\"],\"palette\":[\"#1f77b4\",\"#ff7f0e\",\"#2ca02c\",\"#d62728\",\"#9467bd\",\"#8c564b\",\"#e377c2\",\"#7f7f7f\",\"#bcbd22\",\"#17becf\"]},\"id\":\"9394\",\"type\":\"CategoricalColorMapper\"},{\"attributes\":{\"callback\":null},\"id\":\"9362\",\"type\":\"DataRange1d\"},{\"attributes\":{\"column_name\":\"label\",\"group\":\"FarGen\"},\"id\":\"9395\",\"type\":\"GroupFilter\"},{\"attributes\":{},\"id\":\"9378\",\"type\":\"PanTool\"},{\"attributes\":{\"axis_label\":\"Allele counts\",\"formatter\":{\"id\":\"9704\",\"type\":\"BasicTickFormatter\"},\"ticker\":{\"id\":\"9369\",\"type\":\"BasicTicker\"}},\"id\":\"9368\",\"type\":\"LinearAxis\"},{\"attributes\":{\"filters\":[{\"id\":\"9401\",\"type\":\"GroupFilter\"}],\"source\":{\"id\":\"9393\",\"type\":\"ColumnDataSource\"}},\"id\":\"9402\",\"type\":\"CDSView\"},{\"attributes\":{\"fill_color\":{\"field\":\"label\",\"transform\":{\"id\":\"9394\",\"type\":\"CategoricalColorMapper\"}},\"line_color\":{\"field\":\"label\",\"transform\":{\"id\":\"9394\",\"type\":\"CategoricalColorMapper\"}},\"x\":{\"field\":\"x\"},\"y\":{\"field\":\"y\"}},\"id\":\"9410\",\"type\":\"Circle\"},{\"attributes\":{},\"id\":\"9364\",\"type\":\"LinearScale\"},{\"attributes\":{\"column_name\":\"label\",\"group\":\"gnomAD\"},\"id\":\"9407\",\"type\":\"GroupFilter\"},{\"attributes\":{},\"id\":\"9383\",\"type\":\"HelpTool\"},{\"attributes\":{},\"id\":\"9711\",\"type\":\"UnionRenderers\"},{\"attributes\":{\"fill_color\":{\"field\":\"label\",\"transform\":{\"id\":\"9394\",\"type\":\"CategoricalColorMapper\"}},\"line_color\":{\"field\":\"label\",\"transform\":{\"id\":\"9394\",\"type\":\"CategoricalColorMapper\"}},\"x\":{\"field\":\"x\"},\"y\":{\"field\":\"y\"}},\"id\":\"9404\",\"type\":\"Circle\"},{\"attributes\":{\"data_source\":{\"id\":\"9393\",\"type\":\"ColumnDataSource\"},\"glyph\":{\"id\":\"9410\",\"type\":\"Circle\"},\"hover_glyph\":null,\"muted_glyph\":null,\"nonselection_glyph\":{\"id\":\"9411\",\"type\":\"Circle\"},\"selection_glyph\":null,\"view\":{\"id\":\"9408\",\"type\":\"CDSView\"}},\"id\":\"9412\",\"type\":\"GlyphRenderer\"},{\"attributes\":{\"active_drag\":\"auto\",\"active_inspect\":\"auto\",\"active_multi\":null,\"active_scroll\":\"auto\",\"active_tap\":\"auto\",\"tools\":[{\"id\":\"9378\",\"type\":\"PanTool\"},{\"id\":\"9379\",\"type\":\"WheelZoomTool\"},{\"id\":\"9380\",\"type\":\"BoxZoomTool\"},{\"id\":\"9381\",\"type\":\"SaveTool\"},{\"id\":\"9382\",\"type\":\"ResetTool\"},{\"id\":\"9383\",\"type\":\"HelpTool\"},{\"id\":\"9392\",\"type\":\"HoverTool\"}]},\"id\":\"9384\",\"type\":\"Toolbar\"},{\"attributes\":{},\"id\":\"9709\",\"type\":\"BasicTicker\"},{\"attributes\":{\"fill_alpha\":{\"value\":0.1},\"fill_color\":{\"value\":\"#1f77b4\"},\"line_alpha\":{\"value\":0.1},\"line_color\":{\"value\":\"#1f77b4\"},\"x\":{\"field\":\"x\"},\"y\":{\"field\":\"y\"}},\"id\":\"9399\",\"type\":\"Circle\"},{\"attributes\":{\"callback\":null,\"tooltips\":[[\"x\",\"@x\"],[\"y\",\"@y\"],[\"label\",\"@label\"]]},\"id\":\"9392\",\"type\":\"HoverTool\"},{\"attributes\":{\"fill_alpha\":{\"value\":0.1},\"fill_color\":{\"value\":\"#1f77b4\"},\"line_alpha\":{\"value\":0.1},\"line_color\":{\"value\":\"#1f77b4\"},\"x\":{\"field\":\"x\"},\"y\":{\"field\":\"y\"}},\"id\":\"9411\",\"type\":\"Circle\"},{\"attributes\":{},\"id\":\"9381\",\"type\":\"SaveTool\"},{\"attributes\":{\"color_mapper\":null,\"formatter\":{\"id\":\"9708\",\"type\":\"BasicTickFormatter\"},\"ticker\":{\"id\":\"9709\",\"type\":\"BasicTicker\"},\"visible\":false},\"id\":\"9417\",\"type\":\"ColorBar\"}],\"root_ids\":[\"9358\"]},\"title\":\"Bokeh Application\",\"version\":\"1.2.0\"}};\n",
       "  var render_items = [{\"docid\":\"7d9ffb67-7713-4bc5-8f48-f281bd1bed48\",\"roots\":{\"9358\":\"3f193989-6621-4536-8e51-41c35cd84346\"}}];\n",
       "  root.Bokeh.embed.embed_items_notebook(docs_json, render_items);\n",
       "\n",
       "  }\n",
       "  if (root.Bokeh !== undefined) {\n",
       "    embed_document(root);\n",
       "  } else {\n",
       "    var attempts = 0;\n",
       "    var timer = setInterval(function(root) {\n",
       "      if (root.Bokeh !== undefined) {\n",
       "        embed_document(root);\n",
       "        clearInterval(timer);\n",
       "      }\n",
       "      attempts++;\n",
       "      if (attempts > 100) {\n",
       "        console.log(\"Bokeh: ERROR: Unable to run BokehJS code because BokehJS library is missing\");\n",
       "        clearInterval(timer);\n",
       "      }\n",
       "    }, 10, root)\n",
       "  }\n",
       "})(window);"
      ],
      "application/vnd.bokehjs_exec.v0+json": ""
     },
     "metadata": {
      "application/vnd.bokehjs_exec.v0+json": {
       "id": "9358"
      }
     },
     "output_type": "display_data"
    }
   ],
   "source": [
    "p = hl.plot.scatter(fsfs_ht.af, fsfs_ht.ff, label=fsfs_ht.strata,\n",
    "                    xlabel='Allele counts', ylabel='Frequency in population',\n",
    "                    collect_all=True)\n",
    "p.plot_width = 800\n",
    "p.plot_height = 400\n",
    "p.y_scale = LogScale()\n",
    "show(p)"
   ]
  },
  {
   "cell_type": "markdown",
   "id": "74728029-cc7b-4155-ae8a-9d1996457c5d",
   "metadata": {},
   "source": [
    "## FSFS stratified by variant effect"
   ]
  },
  {
   "cell_type": "code",
   "execution_count": 6,
   "id": "73619daf-6783-46b6-8f00-612b33aeed4a",
   "metadata": {},
   "outputs": [],
   "source": [
    "# Get variant impact, effect and gene name.\n",
    "# Split overlapping transcripts into a list.\n",
    "ht = ht.annotate(effect=ht.info.ANN.map(lambda x: x.split('\\|')[1]),\n",
    "                      impact=ht.info.ANN.map(lambda x: x.split('\\|')[2]))\n",
    "# Use only the first transcript.\n",
    "ht = ht.annotate(impact1=ht.impact[0].split('&'), effect1=ht.effect[0].split('&'))"
   ]
  },
  {
   "cell_type": "code",
   "execution_count": 65,
   "id": "6c5c470f-0924-47d0-b164-4e9050fa37b2",
   "metadata": {},
   "outputs": [
    {
     "name": "stderr",
     "output_type": "stream",
     "text": [
      "[Stage 16:=======================================================>(78 + 1) / 79]"
     ]
    }
   ],
   "source": [
    "n_bins = 50\n",
    "first = True\n",
    "for effect in ['synonymous_variant', 'missense_variant', 'intron_variant']:\n",
    "    temp_ht = ht.filter((ht.effect1.contains(effect)) & (ht.info.AC_fae != 0))\n",
    "    temp_fsfs_ht = fsfs(n_bins, temp_ht, temp_ht.info.AF_fae)\n",
    "    temp_fsfs_ht = temp_fsfs_ht.annotate(strata=effect)\n",
    "    \n",
    "    if first:\n",
    "        fsfs_ht = temp_fsfs_ht\n",
    "        first = False\n",
    "    else:\n",
    "        fsfs_ht = fsfs_ht.union(temp_fsfs_ht)"
   ]
  },
  {
   "cell_type": "code",
   "execution_count": 66,
   "id": "feffd92f-b029-472b-a9ac-d24df1c9dbc3",
   "metadata": {},
   "outputs": [
    {
     "data": {
      "text/html": [
       "\n",
       "\n",
       "\n",
       "\n",
       "\n",
       "\n",
       "  <div class=\"bk-root\" id=\"27e54a4e-ca39-40d9-986f-799ed2e641b1\" data-root-id=\"1002\"></div>\n"
      ]
     },
     "metadata": {},
     "output_type": "display_data"
    },
    {
     "data": {
      "application/javascript": [
       "(function(root) {\n",
       "  function embed_document(root) {\n",
       "    \n",
       "  var docs_json = {\"2521f27d-37b6-4b43-a6da-d6019e26e7b3\":{\"roots\":{\"references\":[{\"attributes\":{\"below\":[{\"id\":\"1012\",\"type\":\"LinearAxis\"}],\"center\":[{\"id\":\"1016\",\"type\":\"Grid\"},{\"id\":\"1021\",\"type\":\"Grid\"}],\"left\":[{\"id\":\"1017\",\"type\":\"LinearAxis\"},{\"id\":\"1060\",\"type\":\"Legend\"},{\"id\":\"1061\",\"type\":\"ColorBar\"}],\"plot_height\":400,\"plot_width\":800,\"renderers\":[{\"id\":\"1044\",\"type\":\"GlyphRenderer\"},{\"id\":\"1050\",\"type\":\"GlyphRenderer\"},{\"id\":\"1056\",\"type\":\"GlyphRenderer\"}],\"title\":null,\"toolbar\":{\"id\":\"1028\",\"type\":\"Toolbar\"},\"x_range\":{\"id\":\"1004\",\"type\":\"DataRange1d\"},\"x_scale\":{\"id\":\"1008\",\"type\":\"LinearScale\"},\"y_range\":{\"id\":\"1006\",\"type\":\"DataRange1d\"},\"y_scale\":{\"id\":\"1062\",\"type\":\"LogScale\"}},\"id\":\"1002\",\"subtype\":\"Figure\",\"type\":\"Plot\"},{\"attributes\":{\"filters\":[{\"id\":\"1051\",\"type\":\"GroupFilter\"}],\"source\":{\"id\":\"1037\",\"type\":\"ColumnDataSource\"}},\"id\":\"1052\",\"type\":\"CDSView\"},{\"attributes\":{\"fill_alpha\":{\"value\":0.1},\"fill_color\":{\"value\":\"#1f77b4\"},\"line_alpha\":{\"value\":0.1},\"line_color\":{\"value\":\"#1f77b4\"},\"x\":{\"field\":\"x\"},\"y\":{\"field\":\"y\"}},\"id\":\"1043\",\"type\":\"Circle\"},{\"attributes\":{\"callback\":null,\"tooltips\":[[\"x\",\"@x\"],[\"y\",\"@y\"],[\"label\",\"@label\"]]},\"id\":\"1036\",\"type\":\"HoverTool\"},{\"attributes\":{\"bottom_units\":\"screen\",\"fill_alpha\":{\"value\":0.5},\"fill_color\":{\"value\":\"lightgrey\"},\"left_units\":\"screen\",\"level\":\"overlay\",\"line_alpha\":{\"value\":1.0},\"line_color\":{\"value\":\"black\"},\"line_dash\":[4,4],\"line_width\":{\"value\":2},\"render_mode\":\"css\",\"right_units\":\"screen\",\"top_units\":\"screen\"},\"id\":\"1072\",\"type\":\"BoxAnnotation\"},{\"attributes\":{\"overlay\":{\"id\":\"1072\",\"type\":\"BoxAnnotation\"}},\"id\":\"1024\",\"type\":\"BoxZoomTool\"},{\"attributes\":{},\"id\":\"1008\",\"type\":\"LinearScale\"},{\"attributes\":{\"fill_alpha\":{\"value\":0.1},\"fill_color\":{\"value\":\"#1f77b4\"},\"line_alpha\":{\"value\":0.1},\"line_color\":{\"value\":\"#1f77b4\"},\"x\":{\"field\":\"x\"},\"y\":{\"field\":\"y\"}},\"id\":\"1049\",\"type\":\"Circle\"},{\"attributes\":{},\"id\":\"1025\",\"type\":\"SaveTool\"},{\"attributes\":{},\"id\":\"1066\",\"type\":\"BasicTicker\"},{\"attributes\":{\"active_drag\":\"auto\",\"active_inspect\":\"auto\",\"active_multi\":null,\"active_scroll\":\"auto\",\"active_tap\":\"auto\",\"tools\":[{\"id\":\"1022\",\"type\":\"PanTool\"},{\"id\":\"1023\",\"type\":\"WheelZoomTool\"},{\"id\":\"1024\",\"type\":\"BoxZoomTool\"},{\"id\":\"1025\",\"type\":\"SaveTool\"},{\"id\":\"1026\",\"type\":\"ResetTool\"},{\"id\":\"1027\",\"type\":\"HelpTool\"},{\"id\":\"1036\",\"type\":\"HoverTool\"}]},\"id\":\"1028\",\"type\":\"Toolbar\"},{\"attributes\":{},\"id\":\"1018\",\"type\":\"BasicTicker\"},{\"attributes\":{\"color_mapper\":null,\"formatter\":{\"id\":\"1067\",\"type\":\"BasicTickFormatter\"},\"ticker\":{\"id\":\"1066\",\"type\":\"BasicTicker\"},\"visible\":false},\"id\":\"1061\",\"type\":\"ColorBar\"},{\"attributes\":{\"data_source\":{\"id\":\"1037\",\"type\":\"ColumnDataSource\"},\"glyph\":{\"id\":\"1042\",\"type\":\"Circle\"},\"hover_glyph\":null,\"muted_glyph\":null,\"nonselection_glyph\":{\"id\":\"1043\",\"type\":\"Circle\"},\"selection_glyph\":null,\"view\":{\"id\":\"1040\",\"type\":\"CDSView\"}},\"id\":\"1044\",\"type\":\"GlyphRenderer\"},{\"attributes\":{},\"id\":\"1067\",\"type\":\"BasicTickFormatter\"},{\"attributes\":{\"factors\":[\"missense_variant\",\"intron_variant\",\"synonymous_variant\"],\"palette\":[\"#1f77b4\",\"#ff7f0e\",\"#2ca02c\",\"#d62728\",\"#9467bd\",\"#8c564b\",\"#e377c2\",\"#7f7f7f\",\"#bcbd22\",\"#17becf\"]},\"id\":\"1038\",\"type\":\"CategoricalColorMapper\"},{\"attributes\":{\"data_source\":{\"id\":\"1037\",\"type\":\"ColumnDataSource\"},\"glyph\":{\"id\":\"1048\",\"type\":\"Circle\"},\"hover_glyph\":null,\"muted_glyph\":null,\"nonselection_glyph\":{\"id\":\"1049\",\"type\":\"Circle\"},\"selection_glyph\":null,\"view\":{\"id\":\"1046\",\"type\":\"CDSView\"}},\"id\":\"1050\",\"type\":\"GlyphRenderer\"},{\"attributes\":{},\"id\":\"1027\",\"type\":\"HelpTool\"},{\"attributes\":{\"fill_color\":{\"field\":\"label\",\"transform\":{\"id\":\"1038\",\"type\":\"CategoricalColorMapper\"}},\"line_color\":{\"field\":\"label\",\"transform\":{\"id\":\"1038\",\"type\":\"CategoricalColorMapper\"}},\"x\":{\"field\":\"x\"},\"y\":{\"field\":\"y\"}},\"id\":\"1054\",\"type\":\"Circle\"},{\"attributes\":{\"callback\":null},\"id\":\"1006\",\"type\":\"DataRange1d\"},{\"attributes\":{\"fill_color\":{\"field\":\"label\",\"transform\":{\"id\":\"1038\",\"type\":\"CategoricalColorMapper\"}},\"line_color\":{\"field\":\"label\",\"transform\":{\"id\":\"1038\",\"type\":\"CategoricalColorMapper\"}},\"x\":{\"field\":\"x\"},\"y\":{\"field\":\"y\"}},\"id\":\"1042\",\"type\":\"Circle\"},{\"attributes\":{},\"id\":\"1026\",\"type\":\"ResetTool\"},{\"attributes\":{\"fill_alpha\":{\"value\":0.1},\"fill_color\":{\"value\":\"#1f77b4\"},\"line_alpha\":{\"value\":0.1},\"line_color\":{\"value\":\"#1f77b4\"},\"x\":{\"field\":\"x\"},\"y\":{\"field\":\"y\"}},\"id\":\"1055\",\"type\":\"Circle\"},{\"attributes\":{\"column_name\":\"label\",\"group\":\"synonymous_variant\"},\"id\":\"1051\",\"type\":\"GroupFilter\"},{\"attributes\":{},\"id\":\"1069\",\"type\":\"BasicTickFormatter\"},{\"attributes\":{\"axis_label\":\"Allele counts\",\"formatter\":{\"id\":\"1069\",\"type\":\"BasicTickFormatter\"},\"ticker\":{\"id\":\"1013\",\"type\":\"BasicTicker\"}},\"id\":\"1012\",\"type\":\"LinearAxis\"},{\"attributes\":{\"filters\":[{\"id\":\"1039\",\"type\":\"GroupFilter\"}],\"source\":{\"id\":\"1037\",\"type\":\"ColumnDataSource\"}},\"id\":\"1040\",\"type\":\"CDSView\"},{\"attributes\":{\"column_name\":\"label\",\"group\":\"intron_variant\"},\"id\":\"1039\",\"type\":\"GroupFilter\"},{\"attributes\":{\"ticker\":{\"id\":\"1013\",\"type\":\"BasicTicker\"}},\"id\":\"1016\",\"type\":\"Grid\"},{\"attributes\":{\"click_policy\":\"hide\",\"items\":[{\"id\":\"1057\",\"type\":\"LegendItem\"},{\"id\":\"1058\",\"type\":\"LegendItem\"},{\"id\":\"1059\",\"type\":\"LegendItem\"}]},\"id\":\"1060\",\"type\":\"Legend\"},{\"attributes\":{\"fill_color\":{\"field\":\"label\",\"transform\":{\"id\":\"1038\",\"type\":\"CategoricalColorMapper\"}},\"line_color\":{\"field\":\"label\",\"transform\":{\"id\":\"1038\",\"type\":\"CategoricalColorMapper\"}},\"x\":{\"field\":\"x\"},\"y\":{\"field\":\"y\"}},\"id\":\"1048\",\"type\":\"Circle\"},{\"attributes\":{},\"id\":\"1062\",\"type\":\"LogScale\"},{\"attributes\":{\"callback\":null},\"id\":\"1004\",\"type\":\"DataRange1d\"},{\"attributes\":{},\"id\":\"1023\",\"type\":\"WheelZoomTool\"},{\"attributes\":{},\"id\":\"1065\",\"type\":\"BasicTickFormatter\"},{\"attributes\":{\"dimension\":1,\"ticker\":{\"id\":\"1018\",\"type\":\"BasicTicker\"}},\"id\":\"1021\",\"type\":\"Grid\"},{\"attributes\":{\"callback\":null,\"data\":{\"index\":[0,1,2,3,4,5,6,7,8,9,10,11,12,13,14,15,16,17,18,19,20,21,22,23,24,25,26,27,28,29,30,31,32,33,34,35,36,37,38,39,40,41,42,43,44,45,46,47,48,49,50,51,52,53,54,55,56,57,58,59,60,61,62,63,64,65,66,67,68,69,70,71,72,73,74],\"label\":[\"synonymous_variant\",\"synonymous_variant\",\"synonymous_variant\",\"synonymous_variant\",\"synonymous_variant\",\"synonymous_variant\",\"synonymous_variant\",\"synonymous_variant\",\"synonymous_variant\",\"synonymous_variant\",\"synonymous_variant\",\"synonymous_variant\",\"synonymous_variant\",\"synonymous_variant\",\"synonymous_variant\",\"synonymous_variant\",\"synonymous_variant\",\"synonymous_variant\",\"synonymous_variant\",\"synonymous_variant\",\"synonymous_variant\",\"synonymous_variant\",\"synonymous_variant\",\"synonymous_variant\",\"synonymous_variant\",\"missense_variant\",\"missense_variant\",\"missense_variant\",\"missense_variant\",\"missense_variant\",\"missense_variant\",\"missense_variant\",\"missense_variant\",\"missense_variant\",\"missense_variant\",\"missense_variant\",\"missense_variant\",\"missense_variant\",\"missense_variant\",\"missense_variant\",\"missense_variant\",\"missense_variant\",\"missense_variant\",\"missense_variant\",\"missense_variant\",\"missense_variant\",\"missense_variant\",\"missense_variant\",\"missense_variant\",\"missense_variant\",\"intron_variant\",\"intron_variant\",\"intron_variant\",\"intron_variant\",\"intron_variant\",\"intron_variant\",\"intron_variant\",\"intron_variant\",\"intron_variant\",\"intron_variant\",\"intron_variant\",\"intron_variant\",\"intron_variant\",\"intron_variant\",\"intron_variant\",\"intron_variant\",\"intron_variant\",\"intron_variant\",\"intron_variant\",\"intron_variant\",\"intron_variant\",\"intron_variant\",\"intron_variant\",\"intron_variant\",\"intron_variant\"],\"x\":{\"__ndarray__\":\"AAAAAAAAAAAAAABA4XqUPwAAAEDheqQ/AAAA4FG4rj8AAABA4Xq0PwAAAKCZmbk/AAAA4FG4vj8AAAAghevBPwAAAEDhesQ/AAAAgD0Kxz8AAACgmZnJPwAAAMD1KMw/AAAA4FG4zj8AAAAA16PQPwAAACCF69E/AAAAQDMz0z8AAABA4XrUPwAAAGCPwtU/AAAAgD0K1z8AAACA61HYPwAAAKCZmdk/AAAAoEfh2j8AAADA9SjcPwAAAOCjcN0/AAAA4FG43j8AAAAAAAAAAAAAAEDhepQ/AAAAQOF6pD8AAADgUbiuPwAAAEDherQ/AAAAoJmZuT8AAADgUbi+PwAAACCF68E/AAAAQOF6xD8AAACAPQrHPwAAAKCZmck/AAAAwPUozD8AAADgUbjOPwAAAADXo9A/AAAAIIXr0T8AAABAMzPTPwAAAEDhetQ/AAAAYI/C1T8AAACAPQrXPwAAAIDrUdg/AAAAoJmZ2T8AAACgR+HaPwAAAMD1KNw/AAAA4KNw3T8AAADgUbjePwAAAAAAAAAAAAAAQOF6lD8AAABA4XqkPwAAAOBRuK4/AAAAQOF6tD8AAACgmZm5PwAAAOBRuL4/AAAAIIXrwT8AAABA4XrEPwAAAIA9Csc/AAAAoJmZyT8AAADA9SjMPwAAAOBRuM4/AAAAANej0D8AAAAghevRPwAAAEAzM9M/AAAAQOF61D8AAABgj8LVPwAAAIA9Ctc/AAAAgOtR2D8AAACgmZnZPwAAAKBH4do/AAAAwPUo3D8AAADgo3DdPwAAAOBRuN4/\",\"dtype\":\"float64\",\"shape\":[75]},\"y\":{\"__ndarray__\":\"AAAAAMMiuT8AAAAATmG4PwAAAOBuTLI/AAAAQFTprj8AAADglpCrPwAAAAD6w6k/AAAAAOg1pz8AAAAgaGWjPwAAAGBAWqI/AAAAACH+oT8AAACAu2qhPwAAAEButKE/AAAAYBcfoD8AAACAchWePwAAAIC4TJ4/AAAAQPcEnz8AAAAAhjKaPwAAAMDE6po/AAAAoPJEmj8AAABAcLWbPwAAAECNsZk/AAAAgMKKmD8AAADAfrOaPwAAAMDJCZg/AAAAIOllmD8AAABA0JbBPwAAAOBKEL0/AAAAYMKHtD8AAABggXewPwAAAKBIZqs/AAAA4J1XqD8AAACAV7SkPwAAAICc7KI/AAAAQDtqoT8AAACAI3ShPwAAAIDUVKA/AAAAoGIGnT8AAAAAQSmaPwAAAOBX4J0/AAAAYJXbmj8AAACgz+2ZPwAAAKC1TZg/AAAA4O9flz8AAAAAlHCVPwAAAGBH+5U/AAAAoPqFlj8AAAAA2aiTPwAAAADzSJU/AAAAgErkkz8AAAAANZiVPwAAAKCNzr0/AAAAAGQKtz8AAABgIQSzPwAAAMDjH64/AAAAYAVcrD8AAABg0HCnPwAAAMBwFqc/AAAAwGUopT8AAADAjWqjPwAAAAC1naI/AAAAYCo3oD8AAADAHByhPwAAAGDJ+J4/AAAA4ApTnT8AAACg5C6dPwAAACAnmJo/AAAAADOVmz8AAADgZtSaPwAAAIAOj5k/AAAAoAGDmT8AAABgdf6YPwAAAKDOUpk/AAAAwCnFlz8AAACgKtSWPwAAAKBdBJc/\",\"dtype\":\"float64\",\"shape\":[75]}},\"selected\":{\"id\":\"1070\",\"type\":\"Selection\"},\"selection_policy\":{\"id\":\"1071\",\"type\":\"UnionRenderers\"}},\"id\":\"1037\",\"type\":\"ColumnDataSource\"},{\"attributes\":{},\"id\":\"1071\",\"type\":\"UnionRenderers\"},{\"attributes\":{\"label\":{\"value\":\"missense_variant\"},\"renderers\":[{\"id\":\"1050\",\"type\":\"GlyphRenderer\"}]},\"id\":\"1058\",\"type\":\"LegendItem\"},{\"attributes\":{\"column_name\":\"label\",\"group\":\"missense_variant\"},\"id\":\"1045\",\"type\":\"GroupFilter\"},{\"attributes\":{},\"id\":\"1013\",\"type\":\"BasicTicker\"},{\"attributes\":{\"data_source\":{\"id\":\"1037\",\"type\":\"ColumnDataSource\"},\"glyph\":{\"id\":\"1054\",\"type\":\"Circle\"},\"hover_glyph\":null,\"muted_glyph\":null,\"nonselection_glyph\":{\"id\":\"1055\",\"type\":\"Circle\"},\"selection_glyph\":null,\"view\":{\"id\":\"1052\",\"type\":\"CDSView\"}},\"id\":\"1056\",\"type\":\"GlyphRenderer\"},{\"attributes\":{\"axis_label\":\"Frequency in population\",\"formatter\":{\"id\":\"1065\",\"type\":\"BasicTickFormatter\"},\"ticker\":{\"id\":\"1018\",\"type\":\"BasicTicker\"}},\"id\":\"1017\",\"type\":\"LinearAxis\"},{\"attributes\":{\"filters\":[{\"id\":\"1045\",\"type\":\"GroupFilter\"}],\"source\":{\"id\":\"1037\",\"type\":\"ColumnDataSource\"}},\"id\":\"1046\",\"type\":\"CDSView\"},{\"attributes\":{\"label\":{\"value\":\"synonymous_variant\"},\"renderers\":[{\"id\":\"1056\",\"type\":\"GlyphRenderer\"}]},\"id\":\"1059\",\"type\":\"LegendItem\"},{\"attributes\":{},\"id\":\"1070\",\"type\":\"Selection\"},{\"attributes\":{\"label\":{\"value\":\"intron_variant\"},\"renderers\":[{\"id\":\"1044\",\"type\":\"GlyphRenderer\"}]},\"id\":\"1057\",\"type\":\"LegendItem\"},{\"attributes\":{},\"id\":\"1022\",\"type\":\"PanTool\"}],\"root_ids\":[\"1002\"]},\"title\":\"Bokeh Application\",\"version\":\"1.2.0\"}};\n",
       "  var render_items = [{\"docid\":\"2521f27d-37b6-4b43-a6da-d6019e26e7b3\",\"roots\":{\"1002\":\"27e54a4e-ca39-40d9-986f-799ed2e641b1\"}}];\n",
       "  root.Bokeh.embed.embed_items_notebook(docs_json, render_items);\n",
       "\n",
       "  }\n",
       "  if (root.Bokeh !== undefined) {\n",
       "    embed_document(root);\n",
       "  } else {\n",
       "    var attempts = 0;\n",
       "    var timer = setInterval(function(root) {\n",
       "      if (root.Bokeh !== undefined) {\n",
       "        embed_document(root);\n",
       "        clearInterval(timer);\n",
       "      }\n",
       "      attempts++;\n",
       "      if (attempts > 100) {\n",
       "        console.log(\"Bokeh: ERROR: Unable to run BokehJS code because BokehJS library is missing\");\n",
       "        clearInterval(timer);\n",
       "      }\n",
       "    }, 10, root)\n",
       "  }\n",
       "})(window);"
      ],
      "application/vnd.bokehjs_exec.v0+json": ""
     },
     "metadata": {
      "application/vnd.bokehjs_exec.v0+json": {
       "id": "1002"
      }
     },
     "output_type": "display_data"
    }
   ],
   "source": [
    "p = hl.plot.scatter(fsfs_ht.af, fsfs_ht.ff, label=fsfs_ht.strata,\n",
    "                    xlabel='Allele counts', ylabel='Frequency in population',\n",
    "                    collect_all=True)\n",
    "p.plot_width = 800\n",
    "p.plot_height = 400\n",
    "p.y_scale = LogScale()\n",
    "show(p)"
   ]
  },
  {
   "cell_type": "markdown",
   "id": "75f5922d-f027-41ed-9a77-d8c86253cd20",
   "metadata": {},
   "source": [
    "## Count all effect types\n",
    "\n",
    "Only for the first transcript in the list."
   ]
  },
  {
   "cell_type": "code",
   "execution_count": 57,
   "id": "1c128692-d8d7-40f4-9dd3-9a429d3e1432",
   "metadata": {},
   "outputs": [
    {
     "name": "stderr",
     "output_type": "stream",
     "text": [
      "[Stage 13:=======================================================>(78 + 1) / 79]"
     ]
    },
    {
     "name": "stdout",
     "output_type": "stream",
     "text": [
      "CPU times: user 433 ms, sys: 290 ms, total: 722 ms\n",
      "Wall time: 11.9 s\n"
     ]
    }
   ],
   "source": [
    "%%time\n",
    "\n",
    "temp_ht = ht.filter(ht.info.AC_fae != 0)\n",
    "effect1_list = temp_ht.effect1.collect()"
   ]
  },
  {
   "cell_type": "code",
   "execution_count": 58,
   "id": "d2c514ae-ef7f-4a8d-9070-531a83354eb1",
   "metadata": {},
   "outputs": [
    {
     "data": {
      "text/plain": [
       "59352"
      ]
     },
     "execution_count": 58,
     "metadata": {},
     "output_type": "execute_result"
    }
   ],
   "source": [
    "len(effect1_list)"
   ]
  },
  {
   "cell_type": "code",
   "execution_count": 59,
   "id": "120d3834-1d60-4d0a-b772-028d696d6619",
   "metadata": {},
   "outputs": [],
   "source": [
    "effect1_small = effect1_list[:100000]"
   ]
  },
  {
   "cell_type": "code",
   "execution_count": 60,
   "id": "78d95191-a09a-483f-bda3-86ff2673a04e",
   "metadata": {},
   "outputs": [],
   "source": [
    "effect1_list_flat = [item for sublist in effect1_list for item in sublist]"
   ]
  },
  {
   "cell_type": "code",
   "execution_count": 61,
   "id": "ab844c69-9d72-4bcf-95c2-06e85ce31189",
   "metadata": {},
   "outputs": [
    {
     "name": "stdout",
     "output_type": "stream",
     "text": [
      "CPU times: user 28.9 ms, sys: 146 µs, total: 29 ms\n",
      "Wall time: 28.8 ms\n"
     ]
    }
   ],
   "source": [
    "%%time\n",
    "\n",
    "effect_count = dict()\n",
    "for effect in effect1_list_flat:\n",
    "    count = effect_count.get(effect)\n",
    "    if count is None:\n",
    "        effect_count[effect] = 1\n",
    "    else:\n",
    "        effect_count[effect] += 1"
   ]
  },
  {
   "cell_type": "code",
   "execution_count": 62,
   "id": "7e98691a-1a7b-4251-bc06-39af2090c94b",
   "metadata": {},
   "outputs": [
    {
     "data": {
      "text/plain": [
       "[('intron_variant', 21755),\n",
       " ('synonymous_variant', 14228),\n",
       " ('missense_variant', 13230),\n",
       " ('splice_region_variant', 3365),\n",
       " ('upstream_gene_variant', 2042),\n",
       " ('3_prime_UTR_variant', 2017),\n",
       " ('downstream_gene_variant', 1850),\n",
       " ('5_prime_UTR_variant', 954),\n",
       " ('intergenic_region', 678),\n",
       " ('sequence_feature', 617),\n",
       " ('non_coding_transcript_exon_variant', 500),\n",
       " ('structural_interaction_variant', 493),\n",
       " ('frameshift_variant', 277),\n",
       " ('5_prime_UTR_premature_start_codon_gain_variant', 168),\n",
       " ('disruptive_inframe_deletion', 143),\n",
       " ('stop_gained', 129),\n",
       " ('conservative_inframe_deletion', 85),\n",
       " ('splice_acceptor_variant', 82),\n",
       " ('disruptive_inframe_insertion', 48),\n",
       " ('splice_donor_variant', 47),\n",
       " ('conservative_inframe_insertion', 40),\n",
       " ('start_lost', 38),\n",
       " ('stop_lost', 21),\n",
       " ('stop_retained_variant', 18),\n",
       " ('protein_protein_contact', 16),\n",
       " ('gene_fusion', 1)]"
      ]
     },
     "execution_count": 62,
     "metadata": {},
     "output_type": "execute_result"
    }
   ],
   "source": [
    "sorted(effect_count.items(), key=lambda x: x[1], reverse=True)"
   ]
  },
  {
   "cell_type": "markdown",
   "id": "af6ed75f-e663-4431-8dd9-ebaf14b97d01",
   "metadata": {},
   "source": [
    "## Frequency correlation"
   ]
  },
  {
   "cell_type": "code",
   "execution_count": null,
   "id": "1cc46146-89c1-4723-affc-314e5324a104",
   "metadata": {},
   "outputs": [],
   "source": [
    "temp_ht = ht.filter((ht.effect1 == 'synonymous_variant') | (ht.effect1 == 'missense_variant'))\n",
    "p = hl.plot.scatter(temp_ht.info.AF_fae, temp_ht.info.AF_gnomad_all, xlabel='FarGen AF', ylabel='gnomAD AF', size=1, label=temp_ht.effect1)\n",
    "p.plot_width = 800\n",
    "p.plot_height = 400\n",
    "show(p)"
   ]
  }
 ],
 "metadata": {
  "kernelspec": {
   "display_name": "Python [conda env:fargen-1-exome]",
   "language": "python",
   "name": "conda-env-fargen-1-exome-py"
  },
  "language_info": {
   "codemirror_mode": {
    "name": "ipython",
    "version": 3
   },
   "file_extension": ".py",
   "mimetype": "text/x-python",
   "name": "python",
   "nbconvert_exporter": "python",
   "pygments_lexer": "ipython3",
   "version": "3.7.10"
  }
 },
 "nbformat": 4,
 "nbformat_minor": 5
}
