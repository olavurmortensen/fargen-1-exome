{
 "cells": [
  {
   "cell_type": "markdown",
   "metadata": {},
   "source": [
    "# Population structure - PCA of the FarGen cohort"
   ]
  },
  {
   "cell_type": "code",
   "execution_count": 2,
   "metadata": {},
   "outputs": [
    {
     "name": "stdout",
     "output_type": "stream",
     "text": [
      "2021-10-29 10:28:51 WARN  NativeCodeLoader:62 - Unable to load native-hadoop library for your platform... using builtin-java classes where applicable\n"
     ]
    },
    {
     "name": "stderr",
     "output_type": "stream",
     "text": [
      "Setting default log level to \"WARN\".\n",
      "To adjust logging level use sc.setLogLevel(newLevel). For SparkR, use setLogLevel(newLevel).\n"
     ]
    },
    {
     "name": "stdout",
     "output_type": "stream",
     "text": [
      "2021-10-29 10:28:51 WARN  Hail:37 - This Hail JAR was compiled for Spark 2.4.5, running with Spark 2.4.1.\n",
      "  Compatibility is not guaranteed.\n",
      "2021-10-29 10:28:52 WARN  Utils:66 - Service 'SparkUI' could not bind on port 4040. Attempting port 4041.\n",
      "2021-10-29 10:28:52 WARN  Utils:66 - Service 'SparkUI' could not bind on port 4041. Attempting port 4042.\n"
     ]
    },
    {
     "name": "stderr",
     "output_type": "stream",
     "text": [
      "Running on Apache Spark version 2.4.1\n",
      "SparkUI available at http://hms-beagle-6676655f87-9xllv:4042\n",
      "Welcome to\n",
      "     __  __     <>__\n",
      "    / /_/ /__  __/ /\n",
      "   / __  / _ `/ / /\n",
      "  /_/ /_/\\_,_/_/_/   version 0.2.61-3c86d3ba497a\n",
      "LOGGING: writing to /home/olavur/experiments/2020-11-13_fargen1_exome_analysis/fargen-1-exome/notebooks/main/hail-20211029-1028-0.2.61-3c86d3ba497a.log\n"
     ]
    }
   ],
   "source": [
    "import hail as hl\n",
    "hl.init(spark_conf={'spark.driver.memory': '100g'}, tmp_dir='/home/olavur/tmp')"
   ]
  },
  {
   "cell_type": "code",
   "execution_count": 3,
   "metadata": {},
   "outputs": [
    {
     "data": {
      "text/html": [
       "\n",
       "    <div class=\"bk-root\">\n",
       "        <a href=\"https://bokeh.pydata.org\" target=\"_blank\" class=\"bk-logo bk-logo-small bk-logo-notebook\"></a>\n",
       "        <span id=\"1001\">Loading BokehJS ...</span>\n",
       "    </div>"
      ]
     },
     "metadata": {},
     "output_type": "display_data"
    },
    {
     "data": {
      "application/javascript": [
       "\n",
       "(function(root) {\n",
       "  function now() {\n",
       "    return new Date();\n",
       "  }\n",
       "\n",
       "  var force = true;\n",
       "\n",
       "  if (typeof root._bokeh_onload_callbacks === \"undefined\" || force === true) {\n",
       "    root._bokeh_onload_callbacks = [];\n",
       "    root._bokeh_is_loading = undefined;\n",
       "  }\n",
       "\n",
       "  var JS_MIME_TYPE = 'application/javascript';\n",
       "  var HTML_MIME_TYPE = 'text/html';\n",
       "  var EXEC_MIME_TYPE = 'application/vnd.bokehjs_exec.v0+json';\n",
       "  var CLASS_NAME = 'output_bokeh rendered_html';\n",
       "\n",
       "  /**\n",
       "   * Render data to the DOM node\n",
       "   */\n",
       "  function render(props, node) {\n",
       "    var script = document.createElement(\"script\");\n",
       "    node.appendChild(script);\n",
       "  }\n",
       "\n",
       "  /**\n",
       "   * Handle when an output is cleared or removed\n",
       "   */\n",
       "  function handleClearOutput(event, handle) {\n",
       "    var cell = handle.cell;\n",
       "\n",
       "    var id = cell.output_area._bokeh_element_id;\n",
       "    var server_id = cell.output_area._bokeh_server_id;\n",
       "    // Clean up Bokeh references\n",
       "    if (id != null && id in Bokeh.index) {\n",
       "      Bokeh.index[id].model.document.clear();\n",
       "      delete Bokeh.index[id];\n",
       "    }\n",
       "\n",
       "    if (server_id !== undefined) {\n",
       "      // Clean up Bokeh references\n",
       "      var cmd = \"from bokeh.io.state import curstate; print(curstate().uuid_to_server['\" + server_id + \"'].get_sessions()[0].document.roots[0]._id)\";\n",
       "      cell.notebook.kernel.execute(cmd, {\n",
       "        iopub: {\n",
       "          output: function(msg) {\n",
       "            var id = msg.content.text.trim();\n",
       "            if (id in Bokeh.index) {\n",
       "              Bokeh.index[id].model.document.clear();\n",
       "              delete Bokeh.index[id];\n",
       "            }\n",
       "          }\n",
       "        }\n",
       "      });\n",
       "      // Destroy server and session\n",
       "      var cmd = \"import bokeh.io.notebook as ion; ion.destroy_server('\" + server_id + \"')\";\n",
       "      cell.notebook.kernel.execute(cmd);\n",
       "    }\n",
       "  }\n",
       "\n",
       "  /**\n",
       "   * Handle when a new output is added\n",
       "   */\n",
       "  function handleAddOutput(event, handle) {\n",
       "    var output_area = handle.output_area;\n",
       "    var output = handle.output;\n",
       "\n",
       "    // limit handleAddOutput to display_data with EXEC_MIME_TYPE content only\n",
       "    if ((output.output_type != \"display_data\") || (!output.data.hasOwnProperty(EXEC_MIME_TYPE))) {\n",
       "      return\n",
       "    }\n",
       "\n",
       "    var toinsert = output_area.element.find(\".\" + CLASS_NAME.split(' ')[0]);\n",
       "\n",
       "    if (output.metadata[EXEC_MIME_TYPE][\"id\"] !== undefined) {\n",
       "      toinsert[toinsert.length - 1].firstChild.textContent = output.data[JS_MIME_TYPE];\n",
       "      // store reference to embed id on output_area\n",
       "      output_area._bokeh_element_id = output.metadata[EXEC_MIME_TYPE][\"id\"];\n",
       "    }\n",
       "    if (output.metadata[EXEC_MIME_TYPE][\"server_id\"] !== undefined) {\n",
       "      var bk_div = document.createElement(\"div\");\n",
       "      bk_div.innerHTML = output.data[HTML_MIME_TYPE];\n",
       "      var script_attrs = bk_div.children[0].attributes;\n",
       "      for (var i = 0; i < script_attrs.length; i++) {\n",
       "        toinsert[toinsert.length - 1].firstChild.setAttribute(script_attrs[i].name, script_attrs[i].value);\n",
       "      }\n",
       "      // store reference to server id on output_area\n",
       "      output_area._bokeh_server_id = output.metadata[EXEC_MIME_TYPE][\"server_id\"];\n",
       "    }\n",
       "  }\n",
       "\n",
       "  function register_renderer(events, OutputArea) {\n",
       "\n",
       "    function append_mime(data, metadata, element) {\n",
       "      // create a DOM node to render to\n",
       "      var toinsert = this.create_output_subarea(\n",
       "        metadata,\n",
       "        CLASS_NAME,\n",
       "        EXEC_MIME_TYPE\n",
       "      );\n",
       "      this.keyboard_manager.register_events(toinsert);\n",
       "      // Render to node\n",
       "      var props = {data: data, metadata: metadata[EXEC_MIME_TYPE]};\n",
       "      render(props, toinsert[toinsert.length - 1]);\n",
       "      element.append(toinsert);\n",
       "      return toinsert\n",
       "    }\n",
       "\n",
       "    /* Handle when an output is cleared or removed */\n",
       "    events.on('clear_output.CodeCell', handleClearOutput);\n",
       "    events.on('delete.Cell', handleClearOutput);\n",
       "\n",
       "    /* Handle when a new output is added */\n",
       "    events.on('output_added.OutputArea', handleAddOutput);\n",
       "\n",
       "    /**\n",
       "     * Register the mime type and append_mime function with output_area\n",
       "     */\n",
       "    OutputArea.prototype.register_mime_type(EXEC_MIME_TYPE, append_mime, {\n",
       "      /* Is output safe? */\n",
       "      safe: true,\n",
       "      /* Index of renderer in `output_area.display_order` */\n",
       "      index: 0\n",
       "    });\n",
       "  }\n",
       "\n",
       "  // register the mime type if in Jupyter Notebook environment and previously unregistered\n",
       "  if (root.Jupyter !== undefined) {\n",
       "    var events = require('base/js/events');\n",
       "    var OutputArea = require('notebook/js/outputarea').OutputArea;\n",
       "\n",
       "    if (OutputArea.prototype.mime_types().indexOf(EXEC_MIME_TYPE) == -1) {\n",
       "      register_renderer(events, OutputArea);\n",
       "    }\n",
       "  }\n",
       "\n",
       "  \n",
       "  if (typeof (root._bokeh_timeout) === \"undefined\" || force === true) {\n",
       "    root._bokeh_timeout = Date.now() + 5000;\n",
       "    root._bokeh_failed_load = false;\n",
       "  }\n",
       "\n",
       "  var NB_LOAD_WARNING = {'data': {'text/html':\n",
       "     \"<div style='background-color: #fdd'>\\n\"+\n",
       "     \"<p>\\n\"+\n",
       "     \"BokehJS does not appear to have successfully loaded. If loading BokehJS from CDN, this \\n\"+\n",
       "     \"may be due to a slow or bad network connection. Possible fixes:\\n\"+\n",
       "     \"</p>\\n\"+\n",
       "     \"<ul>\\n\"+\n",
       "     \"<li>re-rerun `output_notebook()` to attempt to load from CDN again, or</li>\\n\"+\n",
       "     \"<li>use INLINE resources instead, as so:</li>\\n\"+\n",
       "     \"</ul>\\n\"+\n",
       "     \"<code>\\n\"+\n",
       "     \"from bokeh.resources import INLINE\\n\"+\n",
       "     \"output_notebook(resources=INLINE)\\n\"+\n",
       "     \"</code>\\n\"+\n",
       "     \"</div>\"}};\n",
       "\n",
       "  function display_loaded() {\n",
       "    var el = document.getElementById(\"1001\");\n",
       "    if (el != null) {\n",
       "      el.textContent = \"BokehJS is loading...\";\n",
       "    }\n",
       "    if (root.Bokeh !== undefined) {\n",
       "      if (el != null) {\n",
       "        el.textContent = \"BokehJS \" + root.Bokeh.version + \" successfully loaded.\";\n",
       "      }\n",
       "    } else if (Date.now() < root._bokeh_timeout) {\n",
       "      setTimeout(display_loaded, 100)\n",
       "    }\n",
       "  }\n",
       "\n",
       "\n",
       "  function run_callbacks() {\n",
       "    try {\n",
       "      root._bokeh_onload_callbacks.forEach(function(callback) {\n",
       "        if (callback != null)\n",
       "          callback();\n",
       "      });\n",
       "    } finally {\n",
       "      delete root._bokeh_onload_callbacks\n",
       "    }\n",
       "    console.debug(\"Bokeh: all callbacks have finished\");\n",
       "  }\n",
       "\n",
       "  function load_libs(css_urls, js_urls, callback) {\n",
       "    if (css_urls == null) css_urls = [];\n",
       "    if (js_urls == null) js_urls = [];\n",
       "\n",
       "    root._bokeh_onload_callbacks.push(callback);\n",
       "    if (root._bokeh_is_loading > 0) {\n",
       "      console.debug(\"Bokeh: BokehJS is being loaded, scheduling callback at\", now());\n",
       "      return null;\n",
       "    }\n",
       "    if (js_urls == null || js_urls.length === 0) {\n",
       "      run_callbacks();\n",
       "      return null;\n",
       "    }\n",
       "    console.debug(\"Bokeh: BokehJS not loaded, scheduling load and callback at\", now());\n",
       "    root._bokeh_is_loading = css_urls.length + js_urls.length;\n",
       "\n",
       "    function on_load() {\n",
       "      root._bokeh_is_loading--;\n",
       "      if (root._bokeh_is_loading === 0) {\n",
       "        console.debug(\"Bokeh: all BokehJS libraries/stylesheets loaded\");\n",
       "        run_callbacks()\n",
       "      }\n",
       "    }\n",
       "\n",
       "    function on_error() {\n",
       "      console.error(\"failed to load \" + url);\n",
       "    }\n",
       "\n",
       "    for (var i = 0; i < css_urls.length; i++) {\n",
       "      var url = css_urls[i];\n",
       "      const element = document.createElement(\"link\");\n",
       "      element.onload = on_load;\n",
       "      element.onerror = on_error;\n",
       "      element.rel = \"stylesheet\";\n",
       "      element.type = \"text/css\";\n",
       "      element.href = url;\n",
       "      console.debug(\"Bokeh: injecting link tag for BokehJS stylesheet: \", url);\n",
       "      document.body.appendChild(element);\n",
       "    }\n",
       "\n",
       "    for (var i = 0; i < js_urls.length; i++) {\n",
       "      var url = js_urls[i];\n",
       "      var element = document.createElement('script');\n",
       "      element.onload = on_load;\n",
       "      element.onerror = on_error;\n",
       "      element.async = false;\n",
       "      element.src = url;\n",
       "      console.debug(\"Bokeh: injecting script tag for BokehJS library: \", url);\n",
       "      document.head.appendChild(element);\n",
       "    }\n",
       "  };var element = document.getElementById(\"1001\");\n",
       "  if (element == null) {\n",
       "    console.error(\"Bokeh: ERROR: autoload.js configured with elementid '1001' but no matching script tag was found. \")\n",
       "    return false;\n",
       "  }\n",
       "\n",
       "  function inject_raw_css(css) {\n",
       "    const element = document.createElement(\"style\");\n",
       "    element.appendChild(document.createTextNode(css));\n",
       "    document.body.appendChild(element);\n",
       "  }\n",
       "\n",
       "  var js_urls = [\"https://cdn.pydata.org/bokeh/release/bokeh-1.2.0.min.js\", \"https://cdn.pydata.org/bokeh/release/bokeh-widgets-1.2.0.min.js\", \"https://cdn.pydata.org/bokeh/release/bokeh-tables-1.2.0.min.js\", \"https://cdn.pydata.org/bokeh/release/bokeh-gl-1.2.0.min.js\"];\n",
       "  var css_urls = [\"https://cdn.pydata.org/bokeh/release/bokeh-1.2.0.min.css\", \"https://cdn.pydata.org/bokeh/release/bokeh-widgets-1.2.0.min.css\", \"https://cdn.pydata.org/bokeh/release/bokeh-tables-1.2.0.min.css\"];\n",
       "\n",
       "  var inline_js = [\n",
       "    function(Bokeh) {\n",
       "      Bokeh.set_log_level(\"info\");\n",
       "    },\n",
       "    \n",
       "    function(Bokeh) {\n",
       "      \n",
       "    },\n",
       "    function(Bokeh) {} // ensure no trailing comma for IE\n",
       "  ];\n",
       "\n",
       "  function run_inline_js() {\n",
       "    \n",
       "    if ((root.Bokeh !== undefined) || (force === true)) {\n",
       "      for (var i = 0; i < inline_js.length; i++) {\n",
       "        inline_js[i].call(root, root.Bokeh);\n",
       "      }if (force === true) {\n",
       "        display_loaded();\n",
       "      }} else if (Date.now() < root._bokeh_timeout) {\n",
       "      setTimeout(run_inline_js, 100);\n",
       "    } else if (!root._bokeh_failed_load) {\n",
       "      console.log(\"Bokeh: BokehJS failed to load within specified timeout.\");\n",
       "      root._bokeh_failed_load = true;\n",
       "    } else if (force !== true) {\n",
       "      var cell = $(document.getElementById(\"1001\")).parents('.cell').data().cell;\n",
       "      cell.output_area.append_execute_result(NB_LOAD_WARNING)\n",
       "    }\n",
       "\n",
       "  }\n",
       "\n",
       "  if (root._bokeh_is_loading === 0) {\n",
       "    console.debug(\"Bokeh: BokehJS loaded, going straight to plotting\");\n",
       "    run_inline_js();\n",
       "  } else {\n",
       "    load_libs(css_urls, js_urls, function() {\n",
       "      console.debug(\"Bokeh: BokehJS plotting callback run at\", now());\n",
       "      run_inline_js();\n",
       "    });\n",
       "  }\n",
       "}(window));"
      ],
      "application/vnd.bokehjs_load.v0+json": "\n(function(root) {\n  function now() {\n    return new Date();\n  }\n\n  var force = true;\n\n  if (typeof root._bokeh_onload_callbacks === \"undefined\" || force === true) {\n    root._bokeh_onload_callbacks = [];\n    root._bokeh_is_loading = undefined;\n  }\n\n  \n\n  \n  if (typeof (root._bokeh_timeout) === \"undefined\" || force === true) {\n    root._bokeh_timeout = Date.now() + 5000;\n    root._bokeh_failed_load = false;\n  }\n\n  var NB_LOAD_WARNING = {'data': {'text/html':\n     \"<div style='background-color: #fdd'>\\n\"+\n     \"<p>\\n\"+\n     \"BokehJS does not appear to have successfully loaded. If loading BokehJS from CDN, this \\n\"+\n     \"may be due to a slow or bad network connection. Possible fixes:\\n\"+\n     \"</p>\\n\"+\n     \"<ul>\\n\"+\n     \"<li>re-rerun `output_notebook()` to attempt to load from CDN again, or</li>\\n\"+\n     \"<li>use INLINE resources instead, as so:</li>\\n\"+\n     \"</ul>\\n\"+\n     \"<code>\\n\"+\n     \"from bokeh.resources import INLINE\\n\"+\n     \"output_notebook(resources=INLINE)\\n\"+\n     \"</code>\\n\"+\n     \"</div>\"}};\n\n  function display_loaded() {\n    var el = document.getElementById(\"1001\");\n    if (el != null) {\n      el.textContent = \"BokehJS is loading...\";\n    }\n    if (root.Bokeh !== undefined) {\n      if (el != null) {\n        el.textContent = \"BokehJS \" + root.Bokeh.version + \" successfully loaded.\";\n      }\n    } else if (Date.now() < root._bokeh_timeout) {\n      setTimeout(display_loaded, 100)\n    }\n  }\n\n\n  function run_callbacks() {\n    try {\n      root._bokeh_onload_callbacks.forEach(function(callback) {\n        if (callback != null)\n          callback();\n      });\n    } finally {\n      delete root._bokeh_onload_callbacks\n    }\n    console.debug(\"Bokeh: all callbacks have finished\");\n  }\n\n  function load_libs(css_urls, js_urls, callback) {\n    if (css_urls == null) css_urls = [];\n    if (js_urls == null) js_urls = [];\n\n    root._bokeh_onload_callbacks.push(callback);\n    if (root._bokeh_is_loading > 0) {\n      console.debug(\"Bokeh: BokehJS is being loaded, scheduling callback at\", now());\n      return null;\n    }\n    if (js_urls == null || js_urls.length === 0) {\n      run_callbacks();\n      return null;\n    }\n    console.debug(\"Bokeh: BokehJS not loaded, scheduling load and callback at\", now());\n    root._bokeh_is_loading = css_urls.length + js_urls.length;\n\n    function on_load() {\n      root._bokeh_is_loading--;\n      if (root._bokeh_is_loading === 0) {\n        console.debug(\"Bokeh: all BokehJS libraries/stylesheets loaded\");\n        run_callbacks()\n      }\n    }\n\n    function on_error() {\n      console.error(\"failed to load \" + url);\n    }\n\n    for (var i = 0; i < css_urls.length; i++) {\n      var url = css_urls[i];\n      const element = document.createElement(\"link\");\n      element.onload = on_load;\n      element.onerror = on_error;\n      element.rel = \"stylesheet\";\n      element.type = \"text/css\";\n      element.href = url;\n      console.debug(\"Bokeh: injecting link tag for BokehJS stylesheet: \", url);\n      document.body.appendChild(element);\n    }\n\n    for (var i = 0; i < js_urls.length; i++) {\n      var url = js_urls[i];\n      var element = document.createElement('script');\n      element.onload = on_load;\n      element.onerror = on_error;\n      element.async = false;\n      element.src = url;\n      console.debug(\"Bokeh: injecting script tag for BokehJS library: \", url);\n      document.head.appendChild(element);\n    }\n  };var element = document.getElementById(\"1001\");\n  if (element == null) {\n    console.error(\"Bokeh: ERROR: autoload.js configured with elementid '1001' but no matching script tag was found. \")\n    return false;\n  }\n\n  function inject_raw_css(css) {\n    const element = document.createElement(\"style\");\n    element.appendChild(document.createTextNode(css));\n    document.body.appendChild(element);\n  }\n\n  var js_urls = [\"https://cdn.pydata.org/bokeh/release/bokeh-1.2.0.min.js\", \"https://cdn.pydata.org/bokeh/release/bokeh-widgets-1.2.0.min.js\", \"https://cdn.pydata.org/bokeh/release/bokeh-tables-1.2.0.min.js\", \"https://cdn.pydata.org/bokeh/release/bokeh-gl-1.2.0.min.js\"];\n  var css_urls = [\"https://cdn.pydata.org/bokeh/release/bokeh-1.2.0.min.css\", \"https://cdn.pydata.org/bokeh/release/bokeh-widgets-1.2.0.min.css\", \"https://cdn.pydata.org/bokeh/release/bokeh-tables-1.2.0.min.css\"];\n\n  var inline_js = [\n    function(Bokeh) {\n      Bokeh.set_log_level(\"info\");\n    },\n    \n    function(Bokeh) {\n      \n    },\n    function(Bokeh) {} // ensure no trailing comma for IE\n  ];\n\n  function run_inline_js() {\n    \n    if ((root.Bokeh !== undefined) || (force === true)) {\n      for (var i = 0; i < inline_js.length; i++) {\n        inline_js[i].call(root, root.Bokeh);\n      }if (force === true) {\n        display_loaded();\n      }} else if (Date.now() < root._bokeh_timeout) {\n      setTimeout(run_inline_js, 100);\n    } else if (!root._bokeh_failed_load) {\n      console.log(\"Bokeh: BokehJS failed to load within specified timeout.\");\n      root._bokeh_failed_load = true;\n    } else if (force !== true) {\n      var cell = $(document.getElementById(\"1001\")).parents('.cell').data().cell;\n      cell.output_area.append_execute_result(NB_LOAD_WARNING)\n    }\n\n  }\n\n  if (root._bokeh_is_loading === 0) {\n    console.debug(\"Bokeh: BokehJS loaded, going straight to plotting\");\n    run_inline_js();\n  } else {\n    load_libs(css_urls, js_urls, function() {\n      console.debug(\"Bokeh: BokehJS plotting callback run at\", now());\n      run_inline_js();\n    });\n  }\n}(window));"
     },
     "metadata": {},
     "output_type": "display_data"
    }
   ],
   "source": [
    "from bokeh.io import show, output_notebook\n",
    "from bokeh.layouts import gridplot\n",
    "from bokeh.models.scales import LogScale\n",
    "output_notebook()"
   ]
  },
  {
   "cell_type": "code",
   "execution_count": 4,
   "metadata": {},
   "outputs": [],
   "source": [
    "import pandas as pd\n",
    "import numpy as np"
   ]
  },
  {
   "cell_type": "markdown",
   "metadata": {},
   "source": [
    "## Load FarGen data\n",
    "\n",
    "Use high-quality variants."
   ]
  },
  {
   "cell_type": "code",
   "execution_count": 5,
   "metadata": {},
   "outputs": [],
   "source": [
    "BASE_DIR = '/home/olavur/experiments/2020-11-13_fargen1_exome_analysis'\n",
    "mt = hl.read_matrix_table(BASE_DIR + '/data/mt/high_quality_variants.mt')"
   ]
  },
  {
   "cell_type": "code",
   "execution_count": 5,
   "metadata": {},
   "outputs": [
    {
     "name": "stdout",
     "output_type": "stream",
     "text": [
      "Number of variants: 148305\n",
      "Number of samples: 469\n"
     ]
    }
   ],
   "source": [
    "n_variants, n_samples = mt.count()\n",
    "print('Number of variants: ' + str(n_variants))\n",
    "print('Number of samples: ' + str(n_samples))"
   ]
  },
  {
   "cell_type": "markdown",
   "metadata": {},
   "source": [
    "## Population filters\n",
    "\n",
    "Update variants stats."
   ]
  },
  {
   "cell_type": "code",
   "execution_count": 6,
   "metadata": {},
   "outputs": [],
   "source": [
    "mt = hl.variant_qc(mt)"
   ]
  },
  {
   "cell_type": "markdown",
   "metadata": {},
   "source": [
    "Remove variants with minor allele frequency under 0.01. Note that we remove only very rare variants, because common variants can be insufficient to describe fine-scale population structure at a subpopulation scale."
   ]
  },
  {
   "cell_type": "code",
   "execution_count": 7,
   "metadata": {},
   "outputs": [],
   "source": [
    "maf_filter = 0.01\n",
    "mt = mt.filter_rows((mt.variant_qc.AF[1] > maf_filter) & (mt.variant_qc.AF[1] < (1 - maf_filter)))"
   ]
  },
  {
   "cell_type": "markdown",
   "metadata": {},
   "source": [
    "## Filter indels\n",
    "\n",
    "Remove all indels from the dataset."
   ]
  },
  {
   "cell_type": "code",
   "execution_count": 8,
   "metadata": {},
   "outputs": [],
   "source": [
    "mt = mt.filter_rows(hl.is_snp(mt.alleles[0], mt.alleles[1]))"
   ]
  },
  {
   "cell_type": "markdown",
   "metadata": {},
   "source": [
    "## LD pruning\n",
    "\n",
    "Before we calculate LD, we remove multi-allelic sites.\n",
    "\n",
    "**NOTE:** I can do LD pruning on multi-allelic sites using [split_multi()](https://hail.is/docs/0.2/methods/genetics.html#hail.methods.split_multi)."
   ]
  },
  {
   "cell_type": "code",
   "execution_count": 9,
   "metadata": {},
   "outputs": [],
   "source": [
    "# NOTE: Now that this dataset is split, it should be possible to do LD pruning without removing multi-allelic sites.\n",
    "#mt = mt.filter_rows(hl.len(mt.alleles) == 2)"
   ]
  },
  {
   "cell_type": "markdown",
   "metadata": {},
   "source": [
    "Prune variants with $r^2 > 0.2$ within a 500 000 basepair window.\n",
    "\n",
    "**NOTE:** this $r^2$ value is quite arbitrary. It is the default from the Hail method and I did not try other values."
   ]
  },
  {
   "cell_type": "code",
   "execution_count": 10,
   "metadata": {},
   "outputs": [
    {
     "name": "stderr",
     "output_type": "stream",
     "text": [
      "2021-10-27 13:02:53 Hail: INFO: ld_prune: running local pruning stage with max queue size of 399458 variants\n",
      "[Stage 0:=====================================================>   (35 + 2) / 37]2021-10-27 13:03:00 Hail: INFO: wrote table with 47302 rows in 37 partitions to /home/olavur/tmp/qAToq8B6Exl6aEcqKTnKUB\n",
      "    Total size: 1.44 MiB\n",
      "    * Rows: 1.44 MiB\n",
      "    * Globals: 11.00 B\n",
      "    * Smallest partition: 655 rows (21.18 KiB)\n",
      "    * Largest partition:  1513 rows (47.13 KiB)\n",
      "[Stage 2:====================================================>    (11 + 1) / 12]2021-10-27 13:03:06 Hail: INFO: Wrote all 12 blocks of 47302 x 469 matrix with block size 4096.\n",
      "[Stage 6:======================================================>  (22 + 1) / 23]2021-10-27 13:04:05 Hail: INFO: wrote table with 58 rows in 23 partitions to /home/olavur/tmp/kbtN3AoF3nBWkCoAIRxG1t\n",
      "    Total size: 653.15 KiB\n",
      "    * Rows: 1.92 KiB\n",
      "    * Globals: 651.24 KiB\n",
      "    * Smallest partition: 0 rows (21.00 B)\n",
      "    * Largest partition:  10 rows (263.00 B)\n"
     ]
    }
   ],
   "source": [
    "pruned_variant_table = hl.ld_prune(mt.GT, r2=0.2, bp_window_size=500000)\n",
    "mt = mt.filter_rows(hl.is_defined(pruned_variant_table[mt.row_key]))"
   ]
  },
  {
   "cell_type": "markdown",
   "metadata": {},
   "source": [
    "Make a checkpoint, caching all operations done on the matrix table."
   ]
  },
  {
   "cell_type": "code",
   "execution_count": 11,
   "metadata": {},
   "outputs": [
    {
     "name": "stderr",
     "output_type": "stream",
     "text": [
      "[Stage 10:=============================================>          (30 + 7) / 37]2021-10-27 13:04:11 Hail: INFO: wrote matrix table with 47253 rows and 469 columns in 37 partitions to /home/olavur/tmp/ld_pruned.ht\n",
      "    Total size: 282.87 MiB\n",
      "    * Rows/entries: 282.82 MiB\n",
      "    * Columns: 52.33 KiB\n",
      "    * Globals: 11.00 B\n",
      "    * Smallest partition: 655 rows (3.40 MiB)\n",
      "    * Largest partition:  1516 rows (9.25 MiB)\n"
     ]
    }
   ],
   "source": [
    "if True:\n",
    "    mt = mt.checkpoint('/home/olavur/tmp/ld_pruned.ht', overwrite=True)\n",
    "else:\n",
    "    mt = hl.read_matrix_table('/home/olavur/tmp/ld_pruned.ht')"
   ]
  },
  {
   "cell_type": "code",
   "execution_count": 12,
   "metadata": {},
   "outputs": [
    {
     "name": "stdout",
     "output_type": "stream",
     "text": [
      "Number of variants: 47253\n",
      "Number of samples: 469\n"
     ]
    }
   ],
   "source": [
    "n_variants, n_samples = mt.count()\n",
    "print('Number of variants: ' + str(n_variants))\n",
    "print('Number of samples: ' + str(n_samples))"
   ]
  },
  {
   "cell_type": "markdown",
   "metadata": {},
   "source": [
    "This may be a lot of variants to run a PCA analysis on, but as mentioned previously, we do not want to remove too many rare variants as these can hold a lot of information about fine-scale population structure."
   ]
  },
  {
   "cell_type": "markdown",
   "metadata": {},
   "source": [
    "## Annotate birth place region\n",
    "\n",
    "Import data containing the birthplace ID of all FarGen participants. We will annotate the matrix table with these IDs.\n",
    "\n",
    "First we read a table containing the birthplace but with the 'RIN' participant ID. We will have to map this 'RIN' ID to an 'FN' ID."
   ]
  },
  {
   "cell_type": "code",
   "execution_count": 13,
   "metadata": {},
   "outputs": [
    {
     "name": "stderr",
     "output_type": "stream",
     "text": [
      "2021-10-27 13:04:11 Hail: INFO: Reading table without type imputation\n",
      "  Loading field 'ind' as type str (not specified)\n",
      "  Loading field 'region' as type str (not specified)\n"
     ]
    }
   ],
   "source": [
    "rin_birthplace_ht = hl.import_table(BASE_DIR + '/data/metadata/birthplace/rin_region.csv', delimiter=',')\n",
    "# Rename \"ind\" to \"rin\".\n",
    "# Convert the region variable to float.\n",
    "rin_birthplace_ht = rin_birthplace_ht.transmute(rin=rin_birthplace_ht.ind, birthplace=hl.float64(rin_birthplace_ht.region))\n",
    "\n",
    "rin_birthplace_ht = rin_birthplace_ht.key_by(rin_birthplace_ht.rin)"
   ]
  },
  {
   "cell_type": "markdown",
   "metadata": {},
   "source": [
    "Import table with 'RIN' IDs and corresponding 'FN' IDs."
   ]
  },
  {
   "cell_type": "code",
   "execution_count": 14,
   "metadata": {},
   "outputs": [
    {
     "name": "stderr",
     "output_type": "stream",
     "text": [
      "2021-10-27 13:04:11 Hail: WARN: Name collision: field 'sample' already in object dict. \n",
      "  This field must be referenced with __getitem__ syntax: obj['sample']\n",
      "2021-10-27 13:04:11 Hail: INFO: Reading table without type imputation\n",
      "  Loading field 'rin' as type str (not specified)\n",
      "  Loading field 'sample' as type str (not specified)\n"
     ]
    }
   ],
   "source": [
    "fargen_rin_ht = hl.import_table(BASE_DIR + '/data/metadata/birthplace/fargen_rin_samplename.csv', delimiter=',')\n",
    "fargen_rin_ht = fargen_rin_ht.key_by(fargen_rin_ht.rin)"
   ]
  },
  {
   "cell_type": "markdown",
   "metadata": {},
   "source": [
    "Make a table with 'RIN', 'FN' and birthplace."
   ]
  },
  {
   "cell_type": "code",
   "execution_count": 15,
   "metadata": {},
   "outputs": [],
   "source": [
    "# Annotate the table with the birthplace by the samplenames.\n",
    "samplename_birthplace_ht = rin_birthplace_ht.annotate(samplename=fargen_rin_ht[rin_birthplace_ht.rin].sample)\n",
    "samplename_birthplace_ht = samplename_birthplace_ht.key_by(samplename_birthplace_ht.samplename)"
   ]
  },
  {
   "cell_type": "markdown",
   "metadata": {},
   "source": [
    "We will now replace these region ID integers with the abbreviations below. For example, the abbreviation \"NOR\" corresponds to the Northern Islands (Norðuroyggjar) and the integer 1.\n",
    "\n",
    "Region number | Region name(s) | Region abbreviation\n",
    "-----|-----|----\n",
    "1 | Norðoyggjar | <span style=\"color:#157EBF\">NOR</span>\n",
    "2 | Eysturoy og Norðstreymoy | <span style=\"color:#78B430\">EYN</span>\n",
    "3 | Suðurstreymoy | <span style=\"color:#FAA530\">STR</span>\n",
    "4 | Vágar og Mykines | <span style=\"color:#00E9E8\">VAG</span>\n",
    "5 | Sandoy, Skúvoy, Stóra Dímun | <span style=\"color:#FFF73F\">SAN</span>\n",
    "6 | Suðuroy | <span style=\"color:#974C93\">SUD</span>"
   ]
  },
  {
   "cell_type": "code",
   "execution_count": 16,
   "metadata": {},
   "outputs": [],
   "source": [
    "samplename_birthplace_ht = samplename_birthplace_ht.annotate_globals(region_names=['NOR', 'EYN', 'STR', 'VAG', 'SAN', 'SUD'])\n",
    "# We subtract one from the integer ID to obtain zero based indexing.\n",
    "samplename_birthplace_ht = samplename_birthplace_ht.annotate(birthplace_name=samplename_birthplace_ht.region_names[hl.int(samplename_birthplace_ht.birthplace) - 1])"
   ]
  },
  {
   "cell_type": "markdown",
   "metadata": {},
   "source": [
    "Finally, we an annotate the matrix table with birthplace of samples."
   ]
  },
  {
   "cell_type": "code",
   "execution_count": 17,
   "metadata": {},
   "outputs": [],
   "source": [
    "mt = mt.annotate_cols(birthplace = samplename_birthplace_ht[mt.s].birthplace_name)"
   ]
  },
  {
   "cell_type": "markdown",
   "metadata": {},
   "source": [
    "Count the number of samples in each region. Note that `birthplace=6` means that we do not know the birthplace of the sample."
   ]
  },
  {
   "cell_type": "code",
   "execution_count": 18,
   "metadata": {},
   "outputs": [
    {
     "name": "stderr",
     "output_type": "stream",
     "text": [
      "2021-10-27 13:04:12 Hail: WARN: cols(): Resulting column table is sorted by 'col_key'.\n",
      "    To preserve matrix table column order, first unkey columns with 'key_cols_by()'\n",
      "2021-10-27 13:04:12 Hail: WARN: Name collision: field 'count' already in object dict. \n",
      "  This field must be referenced with __getitem__ syntax: obj['count']\n",
      "2021-10-27 13:04:12 Hail: INFO: Ordering unsorted dataset with network shuffle\n",
      "2021-10-27 13:04:12 Hail: INFO: Ordering unsorted dataset with network shuffle\n",
      "[Stage 15:>                                                         (0 + 1) / 1]2021-10-27 13:04:15 Hail: INFO: Ordering unsorted dataset with network shuffle\n"
     ]
    },
    {
     "data": {
      "text/html": [
       "<div>\n",
       "<style scoped>\n",
       "    .dataframe tbody tr th:only-of-type {\n",
       "        vertical-align: middle;\n",
       "    }\n",
       "\n",
       "    .dataframe tbody tr th {\n",
       "        vertical-align: top;\n",
       "    }\n",
       "\n",
       "    .dataframe thead th {\n",
       "        text-align: right;\n",
       "    }\n",
       "</style>\n",
       "<table border=\"1\" class=\"dataframe\">\n",
       "  <thead>\n",
       "    <tr style=\"text-align: right;\">\n",
       "      <th></th>\n",
       "      <th>birthplace</th>\n",
       "      <th>count</th>\n",
       "    </tr>\n",
       "  </thead>\n",
       "  <tbody>\n",
       "    <tr>\n",
       "      <th>0</th>\n",
       "      <td>EYN</td>\n",
       "      <td>99</td>\n",
       "    </tr>\n",
       "    <tr>\n",
       "      <th>1</th>\n",
       "      <td>NOR</td>\n",
       "      <td>69</td>\n",
       "    </tr>\n",
       "    <tr>\n",
       "      <th>2</th>\n",
       "      <td>SAN</td>\n",
       "      <td>17</td>\n",
       "    </tr>\n",
       "    <tr>\n",
       "      <th>3</th>\n",
       "      <td>STR</td>\n",
       "      <td>178</td>\n",
       "    </tr>\n",
       "    <tr>\n",
       "      <th>4</th>\n",
       "      <td>SUD</td>\n",
       "      <td>34</td>\n",
       "    </tr>\n",
       "    <tr>\n",
       "      <th>5</th>\n",
       "      <td>VAG</td>\n",
       "      <td>28</td>\n",
       "    </tr>\n",
       "    <tr>\n",
       "      <th>6</th>\n",
       "      <td>None</td>\n",
       "      <td>44</td>\n",
       "    </tr>\n",
       "  </tbody>\n",
       "</table>\n",
       "</div>"
      ],
      "text/plain": [
       "  birthplace  count\n",
       "0        EYN     99\n",
       "1        NOR     69\n",
       "2        SAN     17\n",
       "3        STR    178\n",
       "4        SUD     34\n",
       "5        VAG     28\n",
       "6       None     44"
      ]
     },
     "execution_count": 18,
     "metadata": {},
     "output_type": "execute_result"
    }
   ],
   "source": [
    "cols_ht = mt.cols()\n",
    "result = (cols_ht.group_by(cols_ht.birthplace)\n",
    "    .aggregate(count = hl.agg.count()))\n",
    "result.to_pandas()"
   ]
  },
  {
   "cell_type": "markdown",
   "metadata": {},
   "source": [
    "## Filter related individuals\n",
    "\n",
    "Estimate the relatedness between the samples by the PC-Relate method, with a minimum alternate allele frequency of 0.001."
   ]
  },
  {
   "cell_type": "code",
   "execution_count": 19,
   "metadata": {},
   "outputs": [
    {
     "name": "stderr",
     "output_type": "stream",
     "text": [
      "[Stage 21:==========================>                            (18 + 19) / 37]2021-10-27 13:04:18 Hail: INFO: hwe_normalized_pca: running PCA using 47253 variants.\n",
      "[Stage 22:======================================================> (36 + 1) / 37]2021-10-27 13:04:20 Hail: INFO: pca: running PCA with 2 components...\n",
      "[Stage 466:====>                                                  (1 + 11) / 12]2021-10-27 13:04:52 Hail: INFO: Wrote all 12 blocks of 47253 x 469 matrix with block size 4096.\n"
     ]
    }
   ],
   "source": [
    "pc_rel = hl.pc_relate(mt.GT, 0.001, k=2, statistics='kin')"
   ]
  },
  {
   "cell_type": "markdown",
   "metadata": {},
   "source": [
    "Plot all the relatedness coefficients in a histogram to get an overview."
   ]
  },
  {
   "cell_type": "code",
   "execution_count": 20,
   "metadata": {},
   "outputs": [
    {
     "name": "stderr",
     "output_type": "stream",
     "text": [
      "2021-10-27 13:04:52 Hail: INFO: wrote matrix with 3 rows and 47253 columns as 12 blocks of size 4096 to /home/olavur/tmp/pcrelate-write-read-c4XDZHa29kM9MWnN21R2w5.bm\n",
      "2021-10-27 13:04:53 Hail: INFO: wrote matrix with 47253 rows and 469 columns as 12 blocks of size 4096 to /home/olavur/tmp/pcrelate-write-read-ZO0AHU5EP4sOsVUwu1EQLV.bm\n",
      "[Stage 469:>                                                        (0 + 1) / 1]2021-10-27 13:05:09 Hail: INFO: wrote matrix with 469 rows and 469 columns as 1 block of size 4096 to /home/olavur/tmp/pcrelate-write-read-u6sQ5Q2MYyD6i3QfrzGUTy.bm\n",
      "[Stage 470:>                                                        (0 + 1) / 1]2021-10-27 13:05:26 Hail: INFO: wrote matrix with 469 rows and 469 columns as 1 block of size 4096 to /home/olavur/tmp/pcrelate-write-read-GPkcvE0E7c15efnRZrgPLO.bm\n",
      "2021-10-27 13:05:26 Hail: INFO: wrote matrix with 469 rows and 469 columns as 1 block of size 4096 to /home/olavur/tmp/pcrelate-write-read-wQtYpshWw0hZkjBj6ADQJl.bm\n",
      "2021-10-27 13:05:26 Hail: INFO: Ordering unsorted dataset with network shuffle\n",
      "2021-10-27 13:05:27 Hail: INFO: wrote matrix with 3 rows and 47253 columns as 12 blocks of size 4096 to /home/olavur/tmp/pcrelate-write-read-999kCAZNDdJxTy6pV1bl4b.bm\n",
      "2021-10-27 13:05:27 Hail: INFO: wrote matrix with 47253 rows and 469 columns as 12 blocks of size 4096 to /home/olavur/tmp/pcrelate-write-read-St6DikWX25qLbClYGvVs33.bm\n",
      "[Stage 477:>                                                        (0 + 1) / 1]2021-10-27 13:05:42 Hail: INFO: wrote matrix with 469 rows and 469 columns as 1 block of size 4096 to /home/olavur/tmp/pcrelate-write-read-BzqiOqdouHkIvlruewSmvF.bm\n",
      "[Stage 478:>                                                        (0 + 1) / 1]2021-10-27 13:05:59 Hail: INFO: wrote matrix with 469 rows and 469 columns as 1 block of size 4096 to /home/olavur/tmp/pcrelate-write-read-u1Azs95g3NCtVLxQaMTEES.bm\n",
      "2021-10-27 13:05:59 Hail: INFO: wrote matrix with 469 rows and 469 columns as 1 block of size 4096 to /home/olavur/tmp/pcrelate-write-read-AK5Cb9PNoJs5GijjBwH2Qs.bm\n",
      "2021-10-27 13:05:59 Hail: INFO: Ordering unsorted dataset with network shuffle\n"
     ]
    },
    {
     "data": {
      "text/html": [
       "\n",
       "\n",
       "\n",
       "\n",
       "\n",
       "\n",
       "  <div class=\"bk-root\" id=\"0507d33d-17f3-49c1-a103-d2e8c6c5e270\" data-root-id=\"1002\"></div>\n"
      ]
     },
     "metadata": {},
     "output_type": "display_data"
    },
    {
     "data": {
      "application/javascript": [
       "(function(root) {\n",
       "  function embed_document(root) {\n",
       "    \n",
       "  var docs_json = {\"ea420c92-89ed-4e4a-88f0-6e70c9feb897\":{\"roots\":{\"references\":[{\"attributes\":{\"background_fill_color\":{\"value\":\"#EEEEEE\"},\"below\":[{\"id\":\"1013\",\"type\":\"LinearAxis\"}],\"center\":[{\"id\":\"1017\",\"type\":\"Grid\"},{\"id\":\"1022\",\"type\":\"Grid\"}],\"left\":[{\"id\":\"1018\",\"type\":\"LinearAxis\"}],\"renderers\":[{\"id\":\"1039\",\"type\":\"GlyphRenderer\"}],\"title\":{\"id\":\"1003\",\"type\":\"Title\"},\"toolbar\":{\"id\":\"1029\",\"type\":\"Toolbar\"},\"x_range\":{\"id\":\"1005\",\"type\":\"Range1d\"},\"x_scale\":{\"id\":\"1009\",\"type\":\"LinearScale\"},\"y_range\":{\"id\":\"1007\",\"type\":\"DataRange1d\"},\"y_scale\":{\"id\":\"1011\",\"type\":\"LinearScale\"}},\"id\":\"1002\",\"subtype\":\"Figure\",\"type\":\"Plot\"},{\"attributes\":{\"bottom_units\":\"screen\",\"fill_alpha\":{\"value\":0.5},\"fill_color\":{\"value\":\"lightgrey\"},\"left_units\":\"screen\",\"level\":\"overlay\",\"line_alpha\":{\"value\":1.0},\"line_color\":{\"value\":\"black\"},\"line_dash\":[4,4],\"line_width\":{\"value\":2},\"render_mode\":\"css\",\"right_units\":\"screen\",\"top_units\":\"screen\"},\"id\":\"1046\",\"type\":\"BoxAnnotation\"},{\"attributes\":{},\"id\":\"1023\",\"type\":\"PanTool\"},{\"attributes\":{},\"id\":\"1026\",\"type\":\"SaveTool\"},{\"attributes\":{\"dimension\":1,\"ticker\":{\"id\":\"1019\",\"type\":\"BasicTicker\"}},\"id\":\"1022\",\"type\":\"Grid\"},{\"attributes\":{},\"id\":\"1011\",\"type\":\"LinearScale\"},{\"attributes\":{\"bottom\":{\"value\":0},\"fill_color\":{\"value\":\"#1f77b4\"},\"left\":{\"field\":\"left\"},\"right\":{\"field\":\"right\"},\"top\":{\"field\":\"top\"}},\"id\":\"1037\",\"type\":\"Quad\"},{\"attributes\":{\"text\":\"Histogram of kinship coefficient\"},\"id\":\"1003\",\"type\":\"Title\"},{\"attributes\":{},\"id\":\"1028\",\"type\":\"HelpTool\"},{\"attributes\":{},\"id\":\"1047\",\"type\":\"Selection\"},{\"attributes\":{},\"id\":\"1048\",\"type\":\"UnionRenderers\"},{\"attributes\":{},\"id\":\"1009\",\"type\":\"LinearScale\"},{\"attributes\":{},\"id\":\"1024\",\"type\":\"WheelZoomTool\"},{\"attributes\":{},\"id\":\"1045\",\"type\":\"BasicTickFormatter\"},{\"attributes\":{\"callback\":null,\"end\":0.5131324783460567,\"start\":-0.18931041482727193},\"id\":\"1005\",\"type\":\"Range1d\"},{\"attributes\":{\"callback\":null},\"id\":\"1007\",\"type\":\"DataRange1d\"},{\"attributes\":{},\"id\":\"1043\",\"type\":\"BasicTickFormatter\"},{\"attributes\":{\"ticker\":{\"id\":\"1014\",\"type\":\"BasicTicker\"}},\"id\":\"1017\",\"type\":\"Grid\"},{\"attributes\":{\"overlay\":{\"id\":\"1046\",\"type\":\"BoxAnnotation\"}},\"id\":\"1025\",\"type\":\"BoxZoomTool\"},{\"attributes\":{\"data_source\":{\"id\":\"1036\",\"type\":\"ColumnDataSource\"},\"glyph\":{\"id\":\"1037\",\"type\":\"Quad\"},\"hover_glyph\":null,\"muted_glyph\":null,\"nonselection_glyph\":{\"id\":\"1038\",\"type\":\"Quad\"},\"selection_glyph\":null,\"view\":{\"id\":\"1040\",\"type\":\"CDSView\"}},\"id\":\"1039\",\"type\":\"GlyphRenderer\"},{\"attributes\":{},\"id\":\"1027\",\"type\":\"ResetTool\"},{\"attributes\":{\"bottom\":{\"value\":0},\"fill_alpha\":{\"value\":0.1},\"fill_color\":{\"value\":\"#1f77b4\"},\"left\":{\"field\":\"left\"},\"line_alpha\":{\"value\":0.1},\"line_color\":{\"value\":\"#1f77b4\"},\"right\":{\"field\":\"right\"},\"top\":{\"field\":\"top\"}},\"id\":\"1038\",\"type\":\"Quad\"},{\"attributes\":{\"formatter\":{\"id\":\"1043\",\"type\":\"BasicTickFormatter\"},\"ticker\":{\"id\":\"1014\",\"type\":\"BasicTicker\"}},\"id\":\"1013\",\"type\":\"LinearAxis\"},{\"attributes\":{\"axis_label\":\"Frequency\",\"formatter\":{\"id\":\"1045\",\"type\":\"BasicTickFormatter\"},\"ticker\":{\"id\":\"1019\",\"type\":\"BasicTicker\"}},\"id\":\"1018\",\"type\":\"LinearAxis\"},{\"attributes\":{},\"id\":\"1019\",\"type\":\"BasicTicker\"},{\"attributes\":{\"callback\":null,\"data\":{\"left\":[-0.15738119241030243,-0.14460950344351464,-0.13183781447672685,-0.11906612550993906,-0.10629443654315127,-0.09352274757636346,-0.08075105860957567,-0.06797936964278788,-0.055207680676000084,-0.04243599170921229,-0.029664302742424487,-0.016892613775636695,-0.0041209248088489026,0.00865076415793889,0.02142245312472668,0.03419414209151447,0.046965831058302265,0.05973752002509006,0.07250920899187785,0.08528089795866564,0.09805258692545346,0.11082427589224123,0.12359596485902904,0.1363676538258168,0.14913934279260463,0.1619110317593924,0.1746827207261802,0.18745440969296798,0.2002260986597558,0.21299778762654356,0.22576947659333138,0.23854116556011914,0.251312854526907,0.2640845434936948,0.2768562324604825,0.28962792142727034,0.30239961039405816,0.315171299360846,0.3279429883276337,0.3407146772944215,0.35348636626120933,0.36625805522799704,0.37902974419478486,0.3918014331615727,0.4045731221283605,0.4173448110951482,0.430116500061936,0.44288818902872384,0.45565987799551166,0.4684315669622995],\"right\":[-0.14460950344351464,-0.13183781447672685,-0.11906612550993906,-0.10629443654315127,-0.09352274757636346,-0.08075105860957567,-0.06797936964278788,-0.055207680676000084,-0.04243599170921229,-0.029664302742424487,-0.016892613775636695,-0.0041209248088489026,0.00865076415793889,0.02142245312472668,0.03419414209151447,0.046965831058302265,0.05973752002509006,0.07250920899187785,0.08528089795866564,0.09805258692545346,0.11082427589224123,0.12359596485902904,0.1363676538258168,0.14913934279260463,0.1619110317593924,0.1746827207261802,0.18745440969296798,0.2002260986597558,0.21299778762654356,0.22576947659333138,0.23854116556011914,0.251312854526907,0.2640845434936948,0.2768562324604825,0.28962792142727034,0.30239961039405816,0.315171299360846,0.3279429883276337,0.3407146772944215,0.35348636626120933,0.36625805522799704,0.37902974419478486,0.3918014331615727,0.4045731221283605,0.4173448110951482,0.430116500061936,0.44288818902872384,0.45565987799551166,0.4684315669622995,0.4812032559290872],\"top\":[1,0,1,0,0,2,0,0,7,37,254,32139,73619,3236,237,59,31,24,9,5,6,4,7,4,0,0,0,7,3,5,26,18,2,0,1,0,0,0,0,0,0,0,0,0,1,0,0,0,0,1]},\"selected\":{\"id\":\"1047\",\"type\":\"Selection\"},\"selection_policy\":{\"id\":\"1048\",\"type\":\"UnionRenderers\"}},\"id\":\"1036\",\"type\":\"ColumnDataSource\"},{\"attributes\":{\"active_drag\":\"auto\",\"active_inspect\":\"auto\",\"active_multi\":null,\"active_scroll\":\"auto\",\"active_tap\":\"auto\",\"tools\":[{\"id\":\"1023\",\"type\":\"PanTool\"},{\"id\":\"1024\",\"type\":\"WheelZoomTool\"},{\"id\":\"1025\",\"type\":\"BoxZoomTool\"},{\"id\":\"1026\",\"type\":\"SaveTool\"},{\"id\":\"1027\",\"type\":\"ResetTool\"},{\"id\":\"1028\",\"type\":\"HelpTool\"}]},\"id\":\"1029\",\"type\":\"Toolbar\"},{\"attributes\":{},\"id\":\"1014\",\"type\":\"BasicTicker\"},{\"attributes\":{\"source\":{\"id\":\"1036\",\"type\":\"ColumnDataSource\"}},\"id\":\"1040\",\"type\":\"CDSView\"}],\"root_ids\":[\"1002\"]},\"title\":\"Bokeh Application\",\"version\":\"1.2.0\"}};\n",
       "  var render_items = [{\"docid\":\"ea420c92-89ed-4e4a-88f0-6e70c9feb897\",\"roots\":{\"1002\":\"0507d33d-17f3-49c1-a103-d2e8c6c5e270\"}}];\n",
       "  root.Bokeh.embed.embed_items_notebook(docs_json, render_items);\n",
       "\n",
       "  }\n",
       "  if (root.Bokeh !== undefined) {\n",
       "    embed_document(root);\n",
       "  } else {\n",
       "    var attempts = 0;\n",
       "    var timer = setInterval(function(root) {\n",
       "      if (root.Bokeh !== undefined) {\n",
       "        embed_document(root);\n",
       "        clearInterval(timer);\n",
       "      }\n",
       "      attempts++;\n",
       "      if (attempts > 100) {\n",
       "        console.log(\"Bokeh: ERROR: Unable to run BokehJS code because BokehJS library is missing\");\n",
       "        clearInterval(timer);\n",
       "      }\n",
       "    }, 10, root)\n",
       "  }\n",
       "})(window);"
      ],
      "application/vnd.bokehjs_exec.v0+json": ""
     },
     "metadata": {
      "application/vnd.bokehjs_exec.v0+json": {
       "id": "1002"
      }
     },
     "output_type": "display_data"
    }
   ],
   "source": [
    "p = hl.plot.histogram(pc_rel.kin, title='Histogram of kinship coefficient')\n",
    "show(p)"
   ]
  },
  {
   "cell_type": "code",
   "execution_count": 21,
   "metadata": {},
   "outputs": [],
   "source": [
    "pairs = pc_rel.filter(pc_rel['kin'] > 2**(-4))"
   ]
  },
  {
   "cell_type": "markdown",
   "metadata": {},
   "source": [
    "Then we find the maximal independent set, consistent of the samples to remove."
   ]
  },
  {
   "cell_type": "code",
   "execution_count": 22,
   "metadata": {},
   "outputs": [
    {
     "name": "stderr",
     "output_type": "stream",
     "text": [
      "2021-10-27 13:06:01 Hail: INFO: wrote matrix with 3 rows and 47253 columns as 12 blocks of size 4096 to /home/olavur/tmp/pcrelate-write-read-v983vyHTgfdqpEq06z7VdO.bm\n",
      "2021-10-27 13:06:01 Hail: INFO: wrote matrix with 47253 rows and 469 columns as 12 blocks of size 4096 to /home/olavur/tmp/pcrelate-write-read-v4LnbuAzGGYHqw9evjZbVK.bm\n",
      "[Stage 485:>                                                        (0 + 1) / 1]2021-10-27 13:06:16 Hail: INFO: wrote matrix with 469 rows and 469 columns as 1 block of size 4096 to /home/olavur/tmp/pcrelate-write-read-XYTdy3DruLvZPaRzJSc1W2.bm\n",
      "[Stage 486:>                                                        (0 + 1) / 1]2021-10-27 13:06:32 Hail: INFO: wrote matrix with 469 rows and 469 columns as 1 block of size 4096 to /home/olavur/tmp/pcrelate-write-read-n8xZHCqEhUHLjMtO77kU4q.bm\n",
      "2021-10-27 13:06:32 Hail: INFO: wrote matrix with 469 rows and 469 columns as 1 block of size 4096 to /home/olavur/tmp/pcrelate-write-read-mG9V4AdMZDkgcbPuR8lgC3.bm\n",
      "2021-10-27 13:06:32 Hail: INFO: Ordering unsorted dataset with network shuffle\n",
      "2021-10-27 13:06:33 Hail: INFO: wrote table with 115 rows in 1 partition to /home/olavur/tmp/OuzI7NjgzKqaYXguqOd6BN\n",
      "    Total size: 1.15 KiB\n",
      "    * Rows: 1.14 KiB\n",
      "    * Globals: 11.00 B\n",
      "    * Smallest partition: 115 rows (1.14 KiB)\n",
      "    * Largest partition:  115 rows (1.14 KiB)\n"
     ]
    }
   ],
   "source": [
    "related_samples_to_remove = hl.maximal_independent_set(pairs.i, pairs.j, keep=False)"
   ]
  },
  {
   "cell_type": "markdown",
   "metadata": {},
   "source": [
    "Now we filter these individuals from the matrix table."
   ]
  },
  {
   "cell_type": "code",
   "execution_count": 23,
   "metadata": {},
   "outputs": [],
   "source": [
    "mt = mt.filter_cols(hl.is_defined(related_samples_to_remove[mt.col_key]), keep=False)"
   ]
  },
  {
   "cell_type": "markdown",
   "metadata": {},
   "source": [
    "Make a checkpoint, caching all operations done on the matrix table."
   ]
  },
  {
   "cell_type": "code",
   "execution_count": 6,
   "metadata": {},
   "outputs": [],
   "source": [
    "if False:\n",
    "    mt = mt.checkpoint('/home/olavur/tmp/rel_pruned.ht', overwrite=True)\n",
    "else:\n",
    "    mt = hl.read_matrix_table('/home/olavur/tmp/rel_pruned.ht')"
   ]
  },
  {
   "cell_type": "code",
   "execution_count": 25,
   "metadata": {},
   "outputs": [
    {
     "name": "stdout",
     "output_type": "stream",
     "text": [
      "Number of variants: 47253\n",
      "Number of samples: 382\n"
     ]
    }
   ],
   "source": [
    "n_variants, n_samples = mt.count()\n",
    "print('Number of variants: ' + str(n_variants))\n",
    "print('Number of samples: ' + str(n_samples))"
   ]
  },
  {
   "cell_type": "markdown",
   "metadata": {},
   "source": [
    "## Compute PCA"
   ]
  },
  {
   "cell_type": "code",
   "execution_count": 9,
   "metadata": {},
   "outputs": [
    {
     "name": "stderr",
     "output_type": "stream",
     "text": [
      "2021-10-29 10:30:23 Hail: INFO: hwe_normalized_pca: running PCA using 47253 variants.\n",
      "2021-10-29 10:30:24 Hail: INFO: pca: running PCA with 4 components...\n",
      "[Stage 343:===========================>                          (19 + 18) / 37]"
     ]
    }
   ],
   "source": [
    "eigenvalues, scores, loadings = hl.hwe_normalized_pca(mt.GT, k=4)"
   ]
  },
  {
   "cell_type": "code",
   "execution_count": 10,
   "metadata": {},
   "outputs": [],
   "source": [
    "mt = mt.annotate_cols(scores = scores[mt.s].scores)"
   ]
  },
  {
   "cell_type": "code",
   "execution_count": 11,
   "metadata": {},
   "outputs": [
    {
     "data": {
      "text/html": [
       "\n",
       "\n",
       "\n",
       "\n",
       "\n",
       "\n",
       "  <div class=\"bk-root\" id=\"6cdaf056-fe21-4053-ab5b-2aa3189fff6b\" data-root-id=\"1002\"></div>\n"
      ]
     },
     "metadata": {},
     "output_type": "display_data"
    },
    {
     "data": {
      "application/javascript": [
       "(function(root) {\n",
       "  function embed_document(root) {\n",
       "    \n",
       "  var docs_json = {\"1255fdf6-a6e6-4050-8008-f1e3041adac3\":{\"roots\":{\"references\":[{\"attributes\":{\"below\":[{\"id\":\"1013\",\"type\":\"LinearAxis\"}],\"center\":[{\"id\":\"1017\",\"type\":\"Grid\"},{\"id\":\"1022\",\"type\":\"Grid\"}],\"left\":[{\"id\":\"1018\",\"type\":\"LinearAxis\"},{\"id\":\"1089\",\"type\":\"Legend\"},{\"id\":\"1090\",\"type\":\"ColorBar\"}],\"plot_height\":600,\"plot_width\":800,\"renderers\":[{\"id\":\"1045\",\"type\":\"GlyphRenderer\"},{\"id\":\"1051\",\"type\":\"GlyphRenderer\"},{\"id\":\"1057\",\"type\":\"GlyphRenderer\"},{\"id\":\"1063\",\"type\":\"GlyphRenderer\"},{\"id\":\"1069\",\"type\":\"GlyphRenderer\"},{\"id\":\"1075\",\"type\":\"GlyphRenderer\"},{\"id\":\"1081\",\"type\":\"GlyphRenderer\"}],\"title\":{\"id\":\"1003\",\"type\":\"Title\"},\"toolbar\":{\"id\":\"1029\",\"type\":\"Toolbar\"},\"x_range\":{\"id\":\"1005\",\"type\":\"DataRange1d\"},\"x_scale\":{\"id\":\"1009\",\"type\":\"LinearScale\"},\"y_range\":{\"id\":\"1007\",\"type\":\"DataRange1d\"},\"y_scale\":{\"id\":\"1011\",\"type\":\"LinearScale\"}},\"id\":\"1002\",\"subtype\":\"Figure\",\"type\":\"Plot\"},{\"attributes\":{\"factors\":[\"NA\",\"NOR\",\"VAG\",\"SUD\",\"SAN\",\"EYN\",\"STR\"],\"palette\":[\"#1f77b4\",\"#ff7f0e\",\"#2ca02c\",\"#d62728\",\"#9467bd\",\"#8c564b\",\"#e377c2\",\"#7f7f7f\",\"#bcbd22\",\"#17becf\"]},\"id\":\"1039\",\"type\":\"CategoricalColorMapper\"},{\"attributes\":{\"callback\":null},\"id\":\"1005\",\"type\":\"DataRange1d\"},{\"attributes\":{\"data_source\":{\"id\":\"1038\",\"type\":\"ColumnDataSource\"},\"glyph\":{\"id\":\"1049\",\"type\":\"Circle\"},\"hover_glyph\":null,\"muted_glyph\":null,\"nonselection_glyph\":{\"id\":\"1050\",\"type\":\"Circle\"},\"selection_glyph\":null,\"view\":{\"id\":\"1047\",\"type\":\"CDSView\"}},\"id\":\"1051\",\"type\":\"GlyphRenderer\"},{\"attributes\":{},\"id\":\"1024\",\"type\":\"WheelZoomTool\"},{\"attributes\":{\"fill_alpha\":{\"value\":0.1},\"fill_color\":{\"value\":\"#1f77b4\"},\"line_alpha\":{\"value\":0.1},\"line_color\":{\"value\":\"#1f77b4\"},\"x\":{\"field\":\"x\"},\"y\":{\"field\":\"y\"}},\"id\":\"1044\",\"type\":\"Circle\"},{\"attributes\":{\"overlay\":{\"id\":\"1098\",\"type\":\"BoxAnnotation\"}},\"id\":\"1025\",\"type\":\"BoxZoomTool\"},{\"attributes\":{\"label\":{\"value\":\"SAN\"},\"renderers\":[{\"id\":\"1063\",\"type\":\"GlyphRenderer\"}]},\"id\":\"1085\",\"type\":\"LegendItem\"},{\"attributes\":{\"fill_alpha\":{\"value\":0.1},\"fill_color\":{\"value\":\"#1f77b4\"},\"line_alpha\":{\"value\":0.1},\"line_color\":{\"value\":\"#1f77b4\"},\"x\":{\"field\":\"x\"},\"y\":{\"field\":\"y\"}},\"id\":\"1050\",\"type\":\"Circle\"},{\"attributes\":{\"fill_color\":{\"field\":\"label\",\"transform\":{\"id\":\"1039\",\"type\":\"CategoricalColorMapper\"}},\"line_color\":{\"field\":\"label\",\"transform\":{\"id\":\"1039\",\"type\":\"CategoricalColorMapper\"}},\"x\":{\"field\":\"x\"},\"y\":{\"field\":\"y\"}},\"id\":\"1079\",\"type\":\"Circle\"},{\"attributes\":{\"active_drag\":\"auto\",\"active_inspect\":\"auto\",\"active_multi\":null,\"active_scroll\":\"auto\",\"active_tap\":\"auto\",\"tools\":[{\"id\":\"1023\",\"type\":\"PanTool\"},{\"id\":\"1024\",\"type\":\"WheelZoomTool\"},{\"id\":\"1025\",\"type\":\"BoxZoomTool\"},{\"id\":\"1026\",\"type\":\"SaveTool\"},{\"id\":\"1027\",\"type\":\"ResetTool\"},{\"id\":\"1028\",\"type\":\"HelpTool\"},{\"id\":\"1037\",\"type\":\"HoverTool\"}]},\"id\":\"1029\",\"type\":\"Toolbar\"},{\"attributes\":{\"filters\":[{\"id\":\"1076\",\"type\":\"GroupFilter\"}],\"source\":{\"id\":\"1038\",\"type\":\"ColumnDataSource\"}},\"id\":\"1077\",\"type\":\"CDSView\"},{\"attributes\":{},\"id\":\"1099\",\"type\":\"Selection\"},{\"attributes\":{\"callback\":null},\"id\":\"1007\",\"type\":\"DataRange1d\"},{\"attributes\":{\"label\":{\"value\":\"SUD\"},\"renderers\":[{\"id\":\"1075\",\"type\":\"GlyphRenderer\"}]},\"id\":\"1087\",\"type\":\"LegendItem\"},{\"attributes\":{\"filters\":[{\"id\":\"1052\",\"type\":\"GroupFilter\"}],\"source\":{\"id\":\"1038\",\"type\":\"ColumnDataSource\"}},\"id\":\"1053\",\"type\":\"CDSView\"},{\"attributes\":{\"column_name\":\"label\",\"group\":\"NOR\"},\"id\":\"1052\",\"type\":\"GroupFilter\"},{\"attributes\":{},\"id\":\"1009\",\"type\":\"LinearScale\"},{\"attributes\":{},\"id\":\"1027\",\"type\":\"ResetTool\"},{\"attributes\":{\"fill_alpha\":{\"value\":0.1},\"fill_color\":{\"value\":\"#1f77b4\"},\"line_alpha\":{\"value\":0.1},\"line_color\":{\"value\":\"#1f77b4\"},\"x\":{\"field\":\"x\"},\"y\":{\"field\":\"y\"}},\"id\":\"1074\",\"type\":\"Circle\"},{\"attributes\":{},\"id\":\"1028\",\"type\":\"HelpTool\"},{\"attributes\":{\"label\":{\"value\":\"NOR\"},\"renderers\":[{\"id\":\"1057\",\"type\":\"GlyphRenderer\"}]},\"id\":\"1084\",\"type\":\"LegendItem\"},{\"attributes\":{\"filters\":[{\"id\":\"1046\",\"type\":\"GroupFilter\"}],\"source\":{\"id\":\"1038\",\"type\":\"ColumnDataSource\"}},\"id\":\"1047\",\"type\":\"CDSView\"},{\"attributes\":{\"filters\":[{\"id\":\"1070\",\"type\":\"GroupFilter\"}],\"source\":{\"id\":\"1038\",\"type\":\"ColumnDataSource\"}},\"id\":\"1071\",\"type\":\"CDSView\"},{\"attributes\":{},\"id\":\"1014\",\"type\":\"BasicTicker\"},{\"attributes\":{\"fill_color\":{\"field\":\"label\",\"transform\":{\"id\":\"1039\",\"type\":\"CategoricalColorMapper\"}},\"line_color\":{\"field\":\"label\",\"transform\":{\"id\":\"1039\",\"type\":\"CategoricalColorMapper\"}},\"x\":{\"field\":\"x\"},\"y\":{\"field\":\"y\"}},\"id\":\"1061\",\"type\":\"Circle\"},{\"attributes\":{\"column_name\":\"label\",\"group\":\"SUD\"},\"id\":\"1070\",\"type\":\"GroupFilter\"},{\"attributes\":{\"fill_color\":{\"field\":\"label\",\"transform\":{\"id\":\"1039\",\"type\":\"CategoricalColorMapper\"}},\"line_color\":{\"field\":\"label\",\"transform\":{\"id\":\"1039\",\"type\":\"CategoricalColorMapper\"}},\"x\":{\"field\":\"x\"},\"y\":{\"field\":\"y\"}},\"id\":\"1049\",\"type\":\"Circle\"},{\"attributes\":{\"axis_label\":\"PC1\",\"formatter\":{\"id\":\"1097\",\"type\":\"BasicTickFormatter\"},\"ticker\":{\"id\":\"1014\",\"type\":\"BasicTicker\"}},\"id\":\"1013\",\"type\":\"LinearAxis\"},{\"attributes\":{\"fill_alpha\":{\"value\":0.1},\"fill_color\":{\"value\":\"#1f77b4\"},\"line_alpha\":{\"value\":0.1},\"line_color\":{\"value\":\"#1f77b4\"},\"x\":{\"field\":\"x\"},\"y\":{\"field\":\"y\"}},\"id\":\"1080\",\"type\":\"Circle\"},{\"attributes\":{\"dimension\":1,\"ticker\":{\"id\":\"1019\",\"type\":\"BasicTicker\"}},\"id\":\"1022\",\"type\":\"Grid\"},{\"attributes\":{},\"id\":\"1094\",\"type\":\"BasicTicker\"},{\"attributes\":{\"filters\":[{\"id\":\"1040\",\"type\":\"GroupFilter\"}],\"source\":{\"id\":\"1038\",\"type\":\"ColumnDataSource\"}},\"id\":\"1041\",\"type\":\"CDSView\"},{\"attributes\":{\"fill_alpha\":{\"value\":0.1},\"fill_color\":{\"value\":\"#1f77b4\"},\"line_alpha\":{\"value\":0.1},\"line_color\":{\"value\":\"#1f77b4\"},\"x\":{\"field\":\"x\"},\"y\":{\"field\":\"y\"}},\"id\":\"1062\",\"type\":\"Circle\"},{\"attributes\":{},\"id\":\"1023\",\"type\":\"PanTool\"},{\"attributes\":{\"column_name\":\"label\",\"group\":\"NA\"},\"id\":\"1046\",\"type\":\"GroupFilter\"},{\"attributes\":{},\"id\":\"1026\",\"type\":\"SaveTool\"},{\"attributes\":{\"column_name\":\"label\",\"group\":\"SAN\"},\"id\":\"1058\",\"type\":\"GroupFilter\"},{\"attributes\":{\"click_policy\":\"hide\",\"items\":[{\"id\":\"1082\",\"type\":\"LegendItem\"},{\"id\":\"1083\",\"type\":\"LegendItem\"},{\"id\":\"1084\",\"type\":\"LegendItem\"},{\"id\":\"1085\",\"type\":\"LegendItem\"},{\"id\":\"1086\",\"type\":\"LegendItem\"},{\"id\":\"1087\",\"type\":\"LegendItem\"},{\"id\":\"1088\",\"type\":\"LegendItem\"}]},\"id\":\"1089\",\"type\":\"Legend\"},{\"attributes\":{\"data_source\":{\"id\":\"1038\",\"type\":\"ColumnDataSource\"},\"glyph\":{\"id\":\"1043\",\"type\":\"Circle\"},\"hover_glyph\":null,\"muted_glyph\":null,\"nonselection_glyph\":{\"id\":\"1044\",\"type\":\"Circle\"},\"selection_glyph\":null,\"view\":{\"id\":\"1041\",\"type\":\"CDSView\"}},\"id\":\"1045\",\"type\":\"GlyphRenderer\"},{\"attributes\":{},\"id\":\"1095\",\"type\":\"BasicTickFormatter\"},{\"attributes\":{\"callback\":null,\"data\":{\"index\":[0,1,2,3,4,5,6,7,8,9,10,11,12,13,14,15,16,17,18,19,20,21,22,23,24,25,26,27,28,29,30,31,32,33,34,35,36,37,38,39,40,41,42,43,44,45,46,47,48,49,50,51,52,53,54,55,56,57,58,59,60,61,62,63,64,65,66,67,68,69,70,71,72,73,74,75,76,77,78,79,80,81,82,83,84,85,86,87,88,89,90,91,92,93,94,95,96,97,98,99,100,101,102,103,104,105,106,107,108,109,110,111,112,113,114,115,116,117,118,119,120,121,122,123,124,125,126,127,128,129,130,131,132,133,134,135,136,137,138,139,140,141,142,143,144,145,146,147,148,149,150,151,152,153,154,155,156,157,158,159,160,161,162,163,164,165,166,167,168,169,170,171,172,173,174,175,176,177,178,179,180,181,182,183,184,185,186,187,188,189,190,191,192,193,194,195,196,197,198,199,200,201,202,203,204,205,206,207,208,209,210,211,212,213,214,215,216,217,218,219,220,221,222,223,224,225,226,227,228,229,230,231,232,233,234,235,236,237,238,239,240,241,242,243,244,245,246,247,248,249,250,251,252,253,254,255,256,257,258,259,260,261,262,263,264,265,266,267,268,269,270,271,272,273,274,275,276,277,278,279,280,281,282,283,284,285,286,287,288,289,290,291,292,293,294,295,296,297,298,299,300,301,302,303,304,305,306,307,308,309,310,311,312,313,314,315,316,317,318,319,320,321,322,323,324,325,326,327,328,329,330,331,332,333,334,335,336,337,338,339,340,341,342,343,344,345,346,347,348,349,350,351,352,353,354,355,356,357,358,359,360,361,362,363,364,365,366,367,368,369,370,371,372,373],\"label\":[\"NA\",\"NOR\",\"EYN\",\"STR\",\"EYN\",\"EYN\",\"EYN\",\"NOR\",\"EYN\",\"NA\",\"EYN\",\"NOR\",\"EYN\",\"EYN\",\"EYN\",\"VAG\",\"NOR\",\"EYN\",\"NA\",\"STR\",\"NOR\",\"NOR\",\"STR\",\"NOR\",\"STR\",\"STR\",\"VAG\",\"SUD\",\"STR\",\"STR\",\"NOR\",\"STR\",\"STR\",\"EYN\",\"NOR\",\"EYN\",\"EYN\",\"STR\",\"STR\",\"EYN\",\"STR\",\"STR\",\"STR\",\"STR\",\"NOR\",\"NOR\",\"NOR\",\"EYN\",\"NA\",\"EYN\",\"VAG\",\"NOR\",\"EYN\",\"EYN\",\"STR\",\"VAG\",\"SUD\",\"STR\",\"NOR\",\"NOR\",\"NOR\",\"NOR\",\"STR\",\"EYN\",\"EYN\",\"EYN\",\"VAG\",\"VAG\",\"STR\",\"EYN\",\"NOR\",\"VAG\",\"EYN\",\"EYN\",\"STR\",\"STR\",\"NOR\",\"EYN\",\"STR\",\"STR\",\"EYN\",\"STR\",\"EYN\",\"SUD\",\"NOR\",\"STR\",\"STR\",\"STR\",\"STR\",\"STR\",\"EYN\",\"STR\",\"STR\",\"STR\",\"STR\",\"STR\",\"NOR\",\"NOR\",\"NOR\",\"NOR\",\"STR\",\"NA\",\"STR\",\"NOR\",\"NA\",\"STR\",\"STR\",\"STR\",\"STR\",\"STR\",\"NOR\",\"NOR\",\"NOR\",\"EYN\",\"EYN\",\"STR\",\"NOR\",\"EYN\",\"EYN\",\"EYN\",\"EYN\",\"STR\",\"STR\",\"STR\",\"EYN\",\"NA\",\"NA\",\"EYN\",\"STR\",\"STR\",\"STR\",\"EYN\",\"NOR\",\"STR\",\"EYN\",\"NOR\",\"STR\",\"STR\",\"NA\",\"STR\",\"VAG\",\"SUD\",\"STR\",\"EYN\",\"STR\",\"STR\",\"NOR\",\"STR\",\"STR\",\"NA\",\"STR\",\"EYN\",\"STR\",\"NA\",\"NOR\",\"STR\",\"VAG\",\"STR\",\"STR\",\"EYN\",\"EYN\",\"EYN\",\"STR\",\"EYN\",\"NOR\",\"EYN\",\"NOR\",\"EYN\",\"NOR\",\"STR\",\"STR\",\"STR\",\"SUD\",\"VAG\",\"STR\",\"EYN\",\"SUD\",\"STR\",\"SAN\",\"STR\",\"EYN\",\"NA\",\"SUD\",\"VAG\",\"STR\",\"NOR\",\"EYN\",\"STR\",\"STR\",\"EYN\",\"SUD\",\"NOR\",\"VAG\",\"EYN\",\"STR\",\"SAN\",\"VAG\",\"STR\",\"EYN\",\"NA\",\"STR\",\"STR\",\"VAG\",\"NA\",\"STR\",\"STR\",\"SUD\",\"STR\",\"NA\",\"NOR\",\"NA\",\"NOR\",\"NA\",\"VAG\",\"STR\",\"STR\",\"STR\",\"STR\",\"VAG\",\"SAN\",\"SUD\",\"STR\",\"NOR\",\"EYN\",\"EYN\",\"EYN\",\"EYN\",\"EYN\",\"STR\",\"STR\",\"STR\",\"STR\",\"VAG\",\"STR\",\"STR\",\"STR\",\"SUD\",\"STR\",\"SAN\",\"SAN\",\"SUD\",\"SAN\",\"STR\",\"EYN\",\"EYN\",\"VAG\",\"EYN\",\"NOR\",\"STR\",\"NA\",\"EYN\",\"STR\",\"VAG\",\"STR\",\"NA\",\"SUD\",\"STR\",\"NOR\",\"STR\",\"STR\",\"STR\",\"EYN\",\"EYN\",\"NA\",\"EYN\",\"STR\",\"EYN\",\"VAG\",\"STR\",\"STR\",\"STR\",\"VAG\",\"STR\",\"STR\",\"STR\",\"EYN\",\"STR\",\"STR\",\"NA\",\"EYN\",\"STR\",\"STR\",\"STR\",\"NOR\",\"SUD\",\"STR\",\"SAN\",\"STR\",\"STR\",\"SUD\",\"SUD\",\"NOR\",\"NOR\",\"STR\",\"STR\",\"EYN\",\"NA\",\"NOR\",\"STR\",\"NA\",\"STR\",\"SUD\",\"SUD\",\"SUD\",\"STR\",\"STR\",\"STR\",\"SUD\",\"STR\",\"STR\",\"EYN\",\"SUD\",\"STR\",\"STR\",\"SAN\",\"STR\",\"STR\",\"STR\",\"STR\",\"SAN\",\"SUD\",\"STR\",\"STR\",\"SUD\",\"STR\",\"SAN\",\"SAN\",\"EYN\",\"STR\",\"STR\",\"NOR\",\"STR\",\"STR\",\"VAG\",\"STR\",\"STR\",\"SAN\",\"SUD\",\"EYN\",\"NOR\",\"STR\",\"STR\",\"STR\",\"STR\",\"SUD\",\"SUD\",\"SUD\",\"SUD\",\"STR\",\"VAG\",\"NA\",\"STR\",\"NOR\",\"STR\",\"EYN\",\"EYN\",\"SUD\",\"STR\",\"EYN\",\"NOR\",\"EYN\",\"EYN\",\"SUD\",\"NOR\",\"SUD\",\"NA\",\"NA\",\"STR\",\"NA\",\"SAN\",\"SAN\",\"STR\",\"SAN\",\"SAN\"],\"x\":{\"__ndarray__\":\"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\",\"dtype\":\"float64\",\"shape\":[374]},\"y\":{\"__ndarray__\":\"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\",\"dtype\":\"float64\",\"shape\":[374]}},\"selected\":{\"id\":\"1099\",\"type\":\"Selection\"},\"selection_policy\":{\"id\":\"1100\",\"type\":\"UnionRenderers\"}},\"id\":\"1038\",\"type\":\"ColumnDataSource\"},{\"attributes\":{\"data_source\":{\"id\":\"1038\",\"type\":\"ColumnDataSource\"},\"glyph\":{\"id\":\"1067\",\"type\":\"Circle\"},\"hover_glyph\":null,\"muted_glyph\":null,\"nonselection_glyph\":{\"id\":\"1068\",\"type\":\"Circle\"},\"selection_glyph\":null,\"view\":{\"id\":\"1065\",\"type\":\"CDSView\"}},\"id\":\"1069\",\"type\":\"GlyphRenderer\"},{\"attributes\":{\"callback\":null,\"tooltips\":[[\"x\",\"@x\"],[\"y\",\"@y\"],[\"label\",\"@label\"]]},\"id\":\"1037\",\"type\":\"HoverTool\"},{\"attributes\":{\"label\":{\"value\":\"NA\"},\"renderers\":[{\"id\":\"1051\",\"type\":\"GlyphRenderer\"}]},\"id\":\"1083\",\"type\":\"LegendItem\"},{\"attributes\":{\"fill_alpha\":{\"value\":0.1},\"fill_color\":{\"value\":\"#1f77b4\"},\"line_alpha\":{\"value\":0.1},\"line_color\":{\"value\":\"#1f77b4\"},\"x\":{\"field\":\"x\"},\"y\":{\"field\":\"y\"}},\"id\":\"1056\",\"type\":\"Circle\"},{\"attributes\":{\"filters\":[{\"id\":\"1058\",\"type\":\"GroupFilter\"}],\"source\":{\"id\":\"1038\",\"type\":\"ColumnDataSource\"}},\"id\":\"1059\",\"type\":\"CDSView\"},{\"attributes\":{\"filters\":[{\"id\":\"1064\",\"type\":\"GroupFilter\"}],\"source\":{\"id\":\"1038\",\"type\":\"ColumnDataSource\"}},\"id\":\"1065\",\"type\":\"CDSView\"},{\"attributes\":{\"data_source\":{\"id\":\"1038\",\"type\":\"ColumnDataSource\"},\"glyph\":{\"id\":\"1079\",\"type\":\"Circle\"},\"hover_glyph\":null,\"muted_glyph\":null,\"nonselection_glyph\":{\"id\":\"1080\",\"type\":\"Circle\"},\"selection_glyph\":null,\"view\":{\"id\":\"1077\",\"type\":\"CDSView\"}},\"id\":\"1081\",\"type\":\"GlyphRenderer\"},{\"attributes\":{\"text\":\"PCA\"},\"id\":\"1003\",\"type\":\"Title\"},{\"attributes\":{\"data_source\":{\"id\":\"1038\",\"type\":\"ColumnDataSource\"},\"glyph\":{\"id\":\"1073\",\"type\":\"Circle\"},\"hover_glyph\":null,\"muted_glyph\":null,\"nonselection_glyph\":{\"id\":\"1074\",\"type\":\"Circle\"},\"selection_glyph\":null,\"view\":{\"id\":\"1071\",\"type\":\"CDSView\"}},\"id\":\"1075\",\"type\":\"GlyphRenderer\"},{\"attributes\":{\"fill_color\":{\"field\":\"label\",\"transform\":{\"id\":\"1039\",\"type\":\"CategoricalColorMapper\"}},\"line_color\":{\"field\":\"label\",\"transform\":{\"id\":\"1039\",\"type\":\"CategoricalColorMapper\"}},\"x\":{\"field\":\"x\"},\"y\":{\"field\":\"y\"}},\"id\":\"1067\",\"type\":\"Circle\"},{\"attributes\":{},\"id\":\"1100\",\"type\":\"UnionRenderers\"},{\"attributes\":{},\"id\":\"1093\",\"type\":\"BasicTickFormatter\"},{\"attributes\":{\"fill_alpha\":{\"value\":0.1},\"fill_color\":{\"value\":\"#1f77b4\"},\"line_alpha\":{\"value\":0.1},\"line_color\":{\"value\":\"#1f77b4\"},\"x\":{\"field\":\"x\"},\"y\":{\"field\":\"y\"}},\"id\":\"1068\",\"type\":\"Circle\"},{\"attributes\":{\"color_mapper\":null,\"formatter\":{\"id\":\"1095\",\"type\":\"BasicTickFormatter\"},\"ticker\":{\"id\":\"1094\",\"type\":\"BasicTicker\"},\"visible\":false},\"id\":\"1090\",\"type\":\"ColorBar\"},{\"attributes\":{\"ticker\":{\"id\":\"1014\",\"type\":\"BasicTicker\"}},\"id\":\"1017\",\"type\":\"Grid\"},{\"attributes\":{\"label\":{\"value\":\"STR\"},\"renderers\":[{\"id\":\"1069\",\"type\":\"GlyphRenderer\"}]},\"id\":\"1086\",\"type\":\"LegendItem\"},{\"attributes\":{\"column_name\":\"label\",\"group\":\"STR\"},\"id\":\"1064\",\"type\":\"GroupFilter\"},{\"attributes\":{\"axis_label\":\"PC2\",\"formatter\":{\"id\":\"1093\",\"type\":\"BasicTickFormatter\"},\"ticker\":{\"id\":\"1019\",\"type\":\"BasicTicker\"}},\"id\":\"1018\",\"type\":\"LinearAxis\"},{\"attributes\":{},\"id\":\"1019\",\"type\":\"BasicTicker\"},{\"attributes\":{\"fill_color\":{\"field\":\"label\",\"transform\":{\"id\":\"1039\",\"type\":\"CategoricalColorMapper\"}},\"line_color\":{\"field\":\"label\",\"transform\":{\"id\":\"1039\",\"type\":\"CategoricalColorMapper\"}},\"x\":{\"field\":\"x\"},\"y\":{\"field\":\"y\"}},\"id\":\"1043\",\"type\":\"Circle\"},{\"attributes\":{\"fill_color\":{\"field\":\"label\",\"transform\":{\"id\":\"1039\",\"type\":\"CategoricalColorMapper\"}},\"line_color\":{\"field\":\"label\",\"transform\":{\"id\":\"1039\",\"type\":\"CategoricalColorMapper\"}},\"x\":{\"field\":\"x\"},\"y\":{\"field\":\"y\"}},\"id\":\"1073\",\"type\":\"Circle\"},{\"attributes\":{\"data_source\":{\"id\":\"1038\",\"type\":\"ColumnDataSource\"},\"glyph\":{\"id\":\"1055\",\"type\":\"Circle\"},\"hover_glyph\":null,\"muted_glyph\":null,\"nonselection_glyph\":{\"id\":\"1056\",\"type\":\"Circle\"},\"selection_glyph\":null,\"view\":{\"id\":\"1053\",\"type\":\"CDSView\"}},\"id\":\"1057\",\"type\":\"GlyphRenderer\"},{\"attributes\":{\"label\":{\"value\":\"EYN\"},\"renderers\":[{\"id\":\"1045\",\"type\":\"GlyphRenderer\"}]},\"id\":\"1082\",\"type\":\"LegendItem\"},{\"attributes\":{\"fill_color\":{\"field\":\"label\",\"transform\":{\"id\":\"1039\",\"type\":\"CategoricalColorMapper\"}},\"line_color\":{\"field\":\"label\",\"transform\":{\"id\":\"1039\",\"type\":\"CategoricalColorMapper\"}},\"x\":{\"field\":\"x\"},\"y\":{\"field\":\"y\"}},\"id\":\"1055\",\"type\":\"Circle\"},{\"attributes\":{},\"id\":\"1097\",\"type\":\"BasicTickFormatter\"},{\"attributes\":{\"data_source\":{\"id\":\"1038\",\"type\":\"ColumnDataSource\"},\"glyph\":{\"id\":\"1061\",\"type\":\"Circle\"},\"hover_glyph\":null,\"muted_glyph\":null,\"nonselection_glyph\":{\"id\":\"1062\",\"type\":\"Circle\"},\"selection_glyph\":null,\"view\":{\"id\":\"1059\",\"type\":\"CDSView\"}},\"id\":\"1063\",\"type\":\"GlyphRenderer\"},{\"attributes\":{\"bottom_units\":\"screen\",\"fill_alpha\":{\"value\":0.5},\"fill_color\":{\"value\":\"lightgrey\"},\"left_units\":\"screen\",\"level\":\"overlay\",\"line_alpha\":{\"value\":1.0},\"line_color\":{\"value\":\"black\"},\"line_dash\":[4,4],\"line_width\":{\"value\":2},\"render_mode\":\"css\",\"right_units\":\"screen\",\"top_units\":\"screen\"},\"id\":\"1098\",\"type\":\"BoxAnnotation\"},{\"attributes\":{\"column_name\":\"label\",\"group\":\"EYN\"},\"id\":\"1040\",\"type\":\"GroupFilter\"},{\"attributes\":{\"column_name\":\"label\",\"group\":\"VAG\"},\"id\":\"1076\",\"type\":\"GroupFilter\"},{\"attributes\":{},\"id\":\"1011\",\"type\":\"LinearScale\"},{\"attributes\":{\"label\":{\"value\":\"VAG\"},\"renderers\":[{\"id\":\"1081\",\"type\":\"GlyphRenderer\"}]},\"id\":\"1088\",\"type\":\"LegendItem\"}],\"root_ids\":[\"1002\"]},\"title\":\"Bokeh Application\",\"version\":\"1.2.0\"}};\n",
       "  var render_items = [{\"docid\":\"1255fdf6-a6e6-4050-8008-f1e3041adac3\",\"roots\":{\"1002\":\"6cdaf056-fe21-4053-ab5b-2aa3189fff6b\"}}];\n",
       "  root.Bokeh.embed.embed_items_notebook(docs_json, render_items);\n",
       "\n",
       "  }\n",
       "  if (root.Bokeh !== undefined) {\n",
       "    embed_document(root);\n",
       "  } else {\n",
       "    var attempts = 0;\n",
       "    var timer = setInterval(function(root) {\n",
       "      if (root.Bokeh !== undefined) {\n",
       "        embed_document(root);\n",
       "        clearInterval(timer);\n",
       "      }\n",
       "      attempts++;\n",
       "      if (attempts > 100) {\n",
       "        console.log(\"Bokeh: ERROR: Unable to run BokehJS code because BokehJS library is missing\");\n",
       "        clearInterval(timer);\n",
       "      }\n",
       "    }, 10, root)\n",
       "  }\n",
       "})(window);"
      ],
      "application/vnd.bokehjs_exec.v0+json": ""
     },
     "metadata": {
      "application/vnd.bokehjs_exec.v0+json": {
       "id": "1002"
      }
     },
     "output_type": "display_data"
    }
   ],
   "source": [
    "p = hl.plot.scatter(mt.scores[0],\n",
    "                    mt.scores[1],\n",
    "                    label=hl.str(mt.birthplace),\n",
    "                    title='PCA', xlabel='PC1', ylabel='PC2')\n",
    "p.plot_width = 800\n",
    "p.plot_height = 600\n",
    "show(p)"
   ]
  },
  {
   "cell_type": "markdown",
   "metadata": {},
   "source": [
    "Above are the two first principal components plotted against eachother. Note that there are four outlier samples. These outliers may be due to the quality of these samples, so we shall invesigate them closer below.\n",
    "\n",
    "As we see below, there seems to be nothing abnormal about these four samples. They may therefore potentially be *ancestry outliers*."
   ]
  },
  {
   "cell_type": "code",
   "execution_count": 12,
   "metadata": {},
   "outputs": [],
   "source": [
    "mt = mt.annotate_cols(pc_outliers = mt.scores[0] > 0.2)"
   ]
  },
  {
   "cell_type": "code",
   "execution_count": 30,
   "metadata": {},
   "outputs": [],
   "source": [
    "exprs_list = [('# heterozygotes', mt.sample_qc.n_het), ('Ti/Tv rate', mt.sample_qc.r_ti_tv), ('Call rate', mt.sample_qc.call_rate), ('# singletons', mt.sample_qc.n_singleton)]\n",
    "plot_list = []\n",
    "for name, exprs in exprs_list:\n",
    "    p = hl.plot.scatter(mt.sample_qc.dp_stats.mean, exprs, label=mt.pc_outliers, xlabel='DP mean', ylabel=name, legend=True)\n",
    "    p.plot_width = 800\n",
    "    p.plot_height = 500\n",
    "    plot_list.append(p)"
   ]
  },
  {
   "cell_type": "code",
   "execution_count": 31,
   "metadata": {},
   "outputs": [
    {
     "data": {
      "text/html": [
       "\n",
       "\n",
       "\n",
       "\n",
       "\n",
       "\n",
       "  <div class=\"bk-root\" id=\"f11dd221-cd9b-45e8-9a14-eed9f02f8566\" data-root-id=\"1523\"></div>\n"
      ]
     },
     "metadata": {},
     "output_type": "display_data"
    },
    {
     "data": {
      "application/javascript": [
       "(function(root) {\n",
       "  function embed_document(root) {\n",
       "    \n",
       "  var docs_json = {\"b5396357-c0ad-468b-829b-b3510dbaffa0\":{\"roots\":{\"references\":[{\"attributes\":{\"children\":[{\"id\":\"1522\",\"type\":\"ToolbarBox\"},{\"id\":\"1520\",\"type\":\"GridBox\"}]},\"id\":\"1523\",\"type\":\"Column\"},{\"attributes\":{},\"id\":\"1485\",\"type\":\"UnionRenderers\"},{\"attributes\":{},\"id\":\"1443\",\"type\":\"PanTool\"},{\"attributes\":{\"filters\":[{\"id\":\"1407\",\"type\":\"GroupFilter\"}],\"source\":{\"id\":\"1405\",\"type\":\"ColumnDataSource\"}},\"id\":\"1408\",\"type\":\"CDSView\"},{\"attributes\":{},\"id\":\"1444\",\"type\":\"WheelZoomTool\"},{\"attributes\":{},\"id\":\"1447\",\"type\":\"ResetTool\"},{\"attributes\":{\"active_drag\":\"auto\",\"active_inspect\":\"auto\",\"active_multi\":null,\"active_scroll\":\"auto\",\"active_tap\":\"auto\",\"tools\":[{\"id\":\"1390\",\"type\":\"PanTool\"},{\"id\":\"1391\",\"type\":\"WheelZoomTool\"},{\"id\":\"1392\",\"type\":\"BoxZoomTool\"},{\"id\":\"1393\",\"type\":\"SaveTool\"},{\"id\":\"1394\",\"type\":\"ResetTool\"},{\"id\":\"1395\",\"type\":\"HelpTool\"},{\"id\":\"1404\",\"type\":\"HoverTool\"}]},\"id\":\"1396\",\"type\":\"Toolbar\"},{\"attributes\":{},\"id\":\"1390\",\"type\":\"PanTool\"},{\"attributes\":{\"callback\":null,\"data\":{\"index\":[0,1,2,3,4,5,6,7,8,9,10,11,12,13,14,15,16,17,18,19,20,21,22,23,24,25,26,27,28,29,30,31,32,33,34,35,36,37,38,39,40,41,42,43,44,45,46,47,48,49,50,51,52,53,54,55,56,57,58,59,60,61,62,63,64,65,66,67,68,69,70,71,72,73,74,75,76,77,78,79,80,81,82,83,84,85,86,87,88,89,90,91,92,93,94,95,96,97,98,99,100,101,102,103,104,105,106,107,108,109,110,111,112,113,114,115,116,117,118,119,120,121,122,123,124,125,126,127,128,129,130,131,132,133,134,135,136,137,138,139,140,141,142,143,144,145,146,147,148,149,150,151,152,153,154,155,156,157,158,159,160,161,162,163,164,165,166,167,168,169,170,171,172,173,174,175,176,177,178,179,180,181,182,183,184,185,186,187,188,189,190,191,192,193,194,195,196,197,198,199,200,201,202,203,204,205,206,207,208,209,210,211,212,213,214,215,216,217,218,219,220,221,222,223,224,225,226,227,228,229,230,231,232,233,234,235,236,237,238,239,240,241,242,243,244,245,246,247,248,249,250,251,252,253,254,255,256,257,258,259,260,261,262,263,264,265,266,267,268,269,270,271,272,273,274,275,276,277,278,279,280,281,282,283,284,285,286,287,288,289,290,291,292,293,294,295,296,297,298,299,300,301,302,303,304,305,306,307,308,309,310,311,312,313,314,315,316,317,318,319,320,321,322,323,324,325,326,327,328,329,330,331,332,333,334,335,336,337,338,339,340,341,342,343,344,345,346,347,348,349,350,351,352,353,354,355,356,357,358,359,360,361,362],\"label\":[\"false\",\"false\",\"false\",\"false\",\"false\",\"false\",\"false\",\"false\",\"false\",\"false\",\"false\",\"false\",\"false\",\"false\",\"false\",\"false\",\"false\",\"false\",\"false\",\"false\",\"false\",\"false\",\"false\",\"false\",\"false\",\"false\",\"false\",\"false\",\"false\",\"false\",\"false\",\"false\",\"false\",\"false\",\"false\",\"false\",\"false\",\"false\",\"false\",\"false\",\"false\",\"false\",\"false\",\"false\",\"false\",\"false\",\"false\",\"false\",\"false\",\"false\",\"false\",\"false\",\"false\",\"false\",\"false\",\"false\",\"false\",\"false\",\"false\",\"false\",\"false\",\"false\",\"false\",\"false\",\"false\",\"false\",\"false\",\"false\",\"false\",\"false\",\"false\",\"false\",\"false\",\"false\",\"false\",\"false\",\"false\",\"false\",\"false\",\"false\",\"false\",\"false\",\"false\",\"false\",\"false\",\"false\",\"false\",\"false\",\"false\",\"false\",\"false\",\"false\",\"false\",\"false\",\"false\",\"false\",\"false\",\"false\",\"false\",\"false\",\"false\",\"false\",\"false\",\"false\",\"false\",\"false\",\"false\",\"false\",\"false\",\"false\",\"false\",\"false\",\"false\",\"false\",\"false\",\"false\",\"false\",\"false\",\"false\",\"false\",\"false\",\"false\",\"false\",\"false\",\"false\",\"false\",\"false\",\"false\",\"false\",\"false\",\"false\",\"false\",\"false\",\"false\",\"false\",\"false\",\"false\",\"false\",\"false\",\"false\",\"false\",\"false\",\"false\",\"false\",\"false\",\"false\",\"false\",\"false\",\"false\",\"false\",\"false\",\"false\",\"false\",\"false\",\"false\",\"false\",\"false\",\"false\",\"false\",\"false\",\"false\",\"false\",\"false\",\"false\",\"false\",\"false\",\"false\",\"false\",\"false\",\"false\",\"false\",\"false\",\"false\",\"false\",\"false\",\"false\",\"false\",\"false\",\"false\",\"false\",\"false\",\"false\",\"false\",\"false\",\"false\",\"false\",\"false\",\"false\",\"false\",\"false\",\"false\",\"false\",\"false\",\"false\",\"false\",\"false\",\"false\",\"false\",\"false\",\"false\",\"false\",\"false\",\"false\",\"false\",\"false\",\"false\",\"false\",\"false\",\"false\",\"false\",\"false\",\"false\",\"false\",\"false\",\"false\",\"false\",\"false\",\"false\",\"false\",\"false\",\"false\",\"false\",\"false\",\"false\",\"false\",\"false\",\"false\",\"false\",\"false\",\"false\",\"false\",\"false\",\"false\",\"false\",\"false\",\"false\",\"false\",\"false\",\"false\",\"false\",\"false\",\"false\",\"false\",\"false\",\"false\",\"false\",\"false\",\"false\",\"false\",\"false\",\"false\",\"false\",\"false\",\"true\",\"false\",\"false\",\"false\",\"false\",\"false\",\"false\",\"false\",\"false\",\"false\",\"false\",\"false\",\"false\",\"false\",\"false\",\"false\",\"false\",\"false\",\"false\",\"false\",\"false\",\"false\",\"false\",\"false\",\"false\",\"false\",\"false\",\"false\",\"false\",\"false\",\"false\",\"false\",\"false\",\"false\",\"false\",\"false\",\"false\",\"false\",\"false\",\"false\",\"false\",\"false\",\"false\",\"false\",\"false\",\"false\",\"false\",\"false\",\"false\",\"false\",\"false\",\"false\",\"false\",\"false\",\"false\",\"false\",\"false\",\"false\",\"false\",\"false\",\"false\",\"false\",\"false\",\"false\",\"false\",\"false\",\"false\",\"true\",\"false\",\"false\",\"false\",\"false\",\"false\",\"false\",\"false\",\"false\",\"false\",\"false\",\"false\",\"false\",\"false\",\"false\",\"true\",\"false\",\"false\",\"false\",\"false\",\"false\",\"false\",\"false\",\"false\",\"false\",\"false\",\"false\",\"false\",\"false\",\"false\",\"false\",\"false\",\"true\",\"false\",\"false\",\"false\",\"false\",\"false\",\"false\",\"false\",\"false\",\"false\",\"false\"],\"x\":{\"__ndarray__\":\"+1GDqWxUKkA+jMFE040sQD3imgPSOTFAYx7wwuczMUDebBnL190xQLUfi9x5VTJAIQ35AyPGMkAxqKgxwGMzQNYSXmIWIjRAFzCO6X0sNEBGpV7ivUI0QOYBw838jDRAEuOdrs6+NEALrCIu2lw1QGhikjZNNDVAqKiZ8J1DNUChR0w/KUA1QFeUHMAXUzZANbBY/OiyNkD8nKLT1fw3QCf2JeQyJThAbawsf84jOEDgQU67wHk4QG3vBowhljhAhw0Uk9e0OEDoQL0hJro4QB3um21v9zhA8vBbOHHwOEA5QhHBYCk5QKEkLXjuKjlA1K7iI+QwOUDDl5w2XM45QEEDKc6DxTlA776qEFj5OUCRTN0cs9w5QNDO9AjGHzpAN8cQwT5POkAJvSPjtXk6QDbDe52UjDpAewZcy32nOkDf/KTJvu86QE3vzc2WLDtAsLR9j0YRO0AXaHLDDYA7QIBbf1EXbztA1YY8TPS8O0DbRGs+cbA7QIk8YBR75DtAAbxAV6HMO0BYYuIvQe47QAEM1ExNADxA55VL27spPEAi9sYv0Zo8QAyZkFzadjxADcvsnd6UPEAftDQVurI8QPF8acmuozxAarNYPvK2PEAY7jCH4No8QNsCScra6TxAYw2Z/j8LPUCSKMSBYB09QDzxLYJWCD1A8HfQE5NjPUDCDe0R6mw9QLOMoMnFmz1AmpmZmZl5PUAUkyjiWII9QO0Bn0ColT1AJ7ZkzpmZPUBd8lqWa649QKxIdSo0qT1ATKMuyvq5PUAO1B2/2uY9QHXHghIe/T1AYpCutJ10PkA2cihcJX0+QF0W8sRmdT5A4AzLDF18PkCmcpc366M+QI/8fcdYrD5AtIbr0g+rPkB4EwBe7o0+QCR6pSrkmj5Am2CigeLWPkBgP7hzubE+QMi1aTbHtz5AAcS095a4PkDprPV9Mss+QAxQhovZ+T5ASJfd7ur1PkCzVPHvDeA+QHO9EYDGID9A1zSqorQSP0CqN5Ij7lE/QJZt90dgRT9ARcbPN3mFP0AmUoEI1WI/QL0/tli80D9AY/3/0ie5P0CmTho888U/QIOI7JekxT9Aq5U3m57YP0AY5aEm/AxAQBS2Ii2CD0BAWLQQEscWQECImTvhaA1AQD8CF/QlREBASLIktS44QEDrJgcRb0dAQCLw1CHwVEBA/wkJ9CNwQEASSFRJEmFAQJzs9MdzY0BA6B1zdHuFQEAl+A8MLY5AQHzEnkOGlkBAziZP0iaaQEAqCePjgqBAQHeEd3TOlUBAiVd8VdqvQECLwVHa+6lAQGNNT8YAyUBABsFe16PgQEDop8jAU9ZAQGzvzfERz0BANmyq2ZbgQEDvnFFW8PJAQLKesGGX60BAFAgKlW/sQEDyDNs4ewxBQJ4qnWYcDkFA4AZFwH4LQUAjE9gGiwxBQNLy/5W6D0FAQ22vnNkgQUCGaKJg1yhBQKOG00qKNEFAS0bSA49QQUA3Ui0v20pBQKQwXp9hR0FAyz0I9xhPQUC+v/IdklpBQGrxDV9/X0FAry00Th1oQUA+66uoHmVBQIWsU4h7ekFALnxsYuxoQUD8kv1WwXZBQPn5oFwDiEFAllDI0lSkQUD9lbwNgaRBQBCxAcvWoUFApkFNrs6pQUBcqraPAbtBQEyk1m8lskFAOAp9u3iqQUDPgcnM7NRBQBZ14KFRxUFACE92rafJQUBm0mXSZdJBQHVemlE130FAQkuwA3/kQUCOGwfUSNpBQBTzZxuN+UFAkC4OblL7QUDxGqIPSf5BQNC1aD1U9EFAzif/E4sQQkBTzn/48gxCQK3zM8AUHUJAmlUaAmdIQkCMYlurg2lCQKV8SIfldEJAJD/UXBJyQkD5Buym+IdCQFFeXy5ak0JA58+W8HeaQkBoJxhtcYtCQN2OFx2GpkJAv5oT+o6yQkBACg2guMRCQHtNKMwZs0JAq5MsMQfOQkDw7+Qb5thCQJyXpQDz3EJAZ2xh1/jbQkA6t6MOsNJCQGJ6ZGAC0UJA5nfeU2TnQkBSQv+8IO9CQNJyYv8/9EJAMqz0f9v8QkC2aqDXOwBDQIsYoZ3zAkNAAtgGYBsAQ0CHp3KT/fdCQBWxziicHUNA4Em1PG4WQ0BmJafWnRVDQKBE80o4JUNA/kwYI8IyQ0Ai57rZMCJDQKU4mlR5SENASgWfE+NAQ0CVX8ov5TdDQGzndkQlQkNArHcpYidfQ0CCF8T70H9DQLtnHC9SfkNA+6JXafB/Q0B+HY3vKrdDQAh6k/XMqUNAIO81z12vQ0CfWQH7ZcBDQNhtPwBTykNAmZdb7OPIQ0Ace/TJesBDQC4XIUM33UNAB8SQr4bdQ0DVvbelSNZDQBqLLIgG2UNAfmlImoT7Q0BUcYLV9PZDQHgNKs9W6kNAkLtQuKgBREBOxJ+OpQlEQFaWAGUTHURA/vGaCWo6RED7Fp3Efi1EQBozmuKkLURArHtq610sREBH818x5k5EQLAmbsmpSURA1tHAcy9oREDReV2qYl9EQPmQ4i7mXURA7EydL+BXREBFNgWot29EQE9QXHftbURAi49IVW12RECF7ouOx4dEQGo3WTsmkURAlYnS+2SeREDC27DJjpxEQLDpuAPknkRALwHZOA/CRED3ZDAIOrpEQMaohpCot0RAyDPtl0y+RED2dnwtcdlEQNcbrRNO3URAlO+mf+3zRED11dOz+fpEQD/2UBy4F0VAnh/g6WQVRUCs2A+xrSNFQFfcq57YJ0VA4/bzTq0hRUAAfnQfSR1FQKgtJl4eMUVAoWIIYuI8RUBKDI1QTEBFQFeC9CXuPEVAdmIpTYRRRUBCySspqHhFQHjUog5UoEVACHxhoEeTRUBSGVWSPoxFQPtf8q05kUVAiWrWthWrRUAVq4BDMKFFQMFsZ5XdtUVA0ED4FjnaRUCwA7RI69dFQGyaMtt39EVAsMhzoackRkBBtHVMjiZGQCR9zJVvSUZAoJtInYNLRkC2mGsefl5GQLef7bSYWUZAOpsPljdmRkCrWAZaGmNGQNHCg7i2dUZAhANJ64yERkBZbeVM155GQM6H2tlRnUZANdADMce+RkANoIaLRrJGQGsOthU0w0ZABw0ygt7ARkDuaJZc9uNGQNiR64gG2UZAQ79/sbT8RkBKEsErBf1GQMeR5p/Y8UZA5QUocScAR0COV+Ulze5GQE45YWu6BUdA9p/AF8YdR0CQyNSy+R5HQMAJD4DqLEdAQ8v2ULBAR0BrGbRsS0pHQIUrmOjDZkdAll5w2mVaR0B45b14nKNHQFMKWtQEwkdAlZDeC8PWR0CdmTA5qBNIQC4UFlGUDEhANgEe9WAlSECgqw5iiTVIQHI/94EHXkhAIjMYIBRySEAxkX9DuG9IQGucWXWIg0hAfzXqizu1SEAiT23ZpxFJQCp8BCp8BklA/5/FHy8iSUDPd3bt3WlJQLrqmKiqXUlArx9/NqaCSUC5LRrCrJZJQKuu9miCrElAiVRIl8GfSUBmCL07cKRJQD6mFsxPmklAJspkBRW+SUAaTVc9POhJQELB34pcBEpAPTdFc2UESkAsA8DGHgVKQKzFNKTwF0pAij8BiaUxSkDZcRHGemRKQN6wPHNJjUpA0nsCDb4yS0CkGS4BHURLQJULaOIxUUtABihpGVd0S0DsYoVBLXxLQMgzS45kjEtA7b3IugzZS0DVm2Cknv1LQLk2m5HGFExAQjn79QNITEBDnZtfFF5MQJKhau9Hp0xAUO+V5iK3TEDDUw/DtepMQP2ttopNME5Agh8is2GQTkCpZcrRKYNOQB+Zhp/BCk9A9Q8aNdcsT0BwH8IwoZZPQH4T8zjg009AJsq+JTVPUEAS38lVx2NQQOTLwvcUi1VA\",\"dtype\":\"float64\",\"shape\":[363]},\"y\":{\"__ndarray__\":\"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\",\"dtype\":\"float64\",\"shape\":[363]}},\"selected\":{\"id\":\"1506\",\"type\":\"Selection\"},\"selection_policy\":{\"id\":\"1507\",\"type\":\"UnionRenderers\"}},\"id\":\"1405\",\"type\":\"ColumnDataSource\"},{\"attributes\":{\"column_name\":\"label\",\"group\":\"false\"},\"id\":\"1460\",\"type\":\"GroupFilter\"},{\"attributes\":{\"factors\":[\"true\",\"false\"],\"palette\":[\"#1f77b4\",\"#ff7f0e\",\"#2ca02c\",\"#d62728\",\"#9467bd\",\"#8c564b\",\"#e377c2\",\"#7f7f7f\",\"#bcbd22\",\"#17becf\"]},\"id\":\"1353\",\"type\":\"CategoricalColorMapper\"},{\"attributes\":{\"dimension\":1,\"ticker\":{\"id\":\"1386\",\"type\":\"BasicTicker\"}},\"id\":\"1389\",\"type\":\"Grid\"},{\"attributes\":{\"ticker\":{\"id\":\"1434\",\"type\":\"BasicTicker\"}},\"id\":\"1437\",\"type\":\"Grid\"},{\"attributes\":{},\"id\":\"1446\",\"type\":\"SaveTool\"},{\"attributes\":{\"fill_color\":{\"field\":\"label\",\"transform\":{\"id\":\"1406\",\"type\":\"CategoricalColorMapper\"}},\"line_color\":{\"field\":\"label\",\"transform\":{\"id\":\"1406\",\"type\":\"CategoricalColorMapper\"}},\"x\":{\"field\":\"x\"},\"y\":{\"field\":\"y\"}},\"id\":\"1410\",\"type\":\"Circle\"},{\"attributes\":{},\"id\":\"1391\",\"type\":\"WheelZoomTool\"},{\"attributes\":{},\"id\":\"1484\",\"type\":\"Selection\"},{\"attributes\":{},\"id\":\"1448\",\"type\":\"HelpTool\"},{\"attributes\":{},\"id\":\"1386\",\"type\":\"BasicTicker\"},{\"attributes\":{\"axis_label\":\"# singletons\",\"formatter\":{\"id\":\"1513\",\"type\":\"BasicTickFormatter\"},\"ticker\":{\"id\":\"1439\",\"type\":\"BasicTicker\"}},\"id\":\"1438\",\"type\":\"LinearAxis\"},{\"attributes\":{\"callback\":null,\"tooltips\":[[\"x\",\"@x\"],[\"y\",\"@y\"],[\"label\",\"@label\"]]},\"id\":\"1404\",\"type\":\"HoverTool\"},{\"attributes\":{\"callback\":null},\"id\":\"1266\",\"type\":\"DataRange1d\"},{\"attributes\":{\"data_source\":{\"id\":\"1352\",\"type\":\"ColumnDataSource\"},\"glyph\":{\"id\":\"1357\",\"type\":\"Circle\"},\"hover_glyph\":null,\"muted_glyph\":null,\"nonselection_glyph\":{\"id\":\"1358\",\"type\":\"Circle\"},\"selection_glyph\":null,\"view\":{\"id\":\"1355\",\"type\":\"CDSView\"}},\"id\":\"1359\",\"type\":\"GlyphRenderer\"},{\"attributes\":{},\"id\":\"1489\",\"type\":\"BasicTickFormatter\"},{\"attributes\":{},\"id\":\"1395\",\"type\":\"HelpTool\"},{\"attributes\":{},\"id\":\"1431\",\"type\":\"LinearScale\"},{\"attributes\":{},\"id\":\"1393\",\"type\":\"SaveTool\"},{\"attributes\":{\"filters\":[{\"id\":\"1354\",\"type\":\"GroupFilter\"}],\"source\":{\"id\":\"1352\",\"type\":\"ColumnDataSource\"}},\"id\":\"1355\",\"type\":\"CDSView\"},{\"attributes\":{\"callback\":null,\"data\":{\"index\":[0,1,2,3,4,5,6,7,8,9,10,11,12,13,14,15,16,17,18,19,20,21,22,23,24,25,26,27,28,29,30,31,32,33,34,35,36,37,38,39,40,41,42,43,44,45,46,47,48,49,50,51,52,53,54,55,56,57,58,59,60,61,62,63,64,65,66,67,68,69,70,71,72,73,74,75,76,77,78,79,80,81,82,83,84,85,86,87,88,89,90,91,92,93,94,95,96,97,98,99,100,101,102,103,104,105,106,107,108,109,110,111,112,113,114,115,116,117,118,119,120,121,122,123,124,125,126,127,128,129,130,131,132,133,134,135,136,137,138,139,140,141,142,143,144,145,146,147,148,149,150,151,152,153,154,155,156,157,158,159,160,161,162,163,164,165,166,167,168,169,170,171,172,173,174,175,176,177,178,179,180,181,182,183,184,185,186,187,188,189,190,191,192,193,194,195,196,197,198,199,200,201,202,203,204,205,206,207,208,209,210,211,212,213,214,215,216,217,218,219,220,221,222,223,224,225,226,227,228,229,230,231,232,233,234,235,236,237,238,239,240,241,242,243,244,245,246,247,248,249,250,251,252,253,254,255,256,257,258,259,260,261,262,263,264,265,266,267,268,269,270,271,272,273,274,275,276,277,278,279,280,281,282,283,284,285,286,287,288,289,290,291,292,293,294,295,296,297,298,299,300,301,302,303,304,305,306,307,308,309,310,311,312,313,314,315,316,317,318,319,320,321,322,323,324,325,326,327,328,329,330,331,332,333,334,335,336,337,338,339,340,341,342,343,344,345],\"label\":[\"false\",\"false\",\"false\",\"false\",\"false\",\"false\",\"false\",\"false\",\"false\",\"false\",\"false\",\"false\",\"false\",\"false\",\"false\",\"false\",\"false\",\"false\",\"false\",\"false\",\"false\",\"false\",\"false\",\"false\",\"false\",\"false\",\"false\",\"false\",\"false\",\"false\",\"false\",\"false\",\"false\",\"false\",\"false\",\"false\",\"false\",\"false\",\"false\",\"false\",\"false\",\"false\",\"false\",\"false\",\"false\",\"false\",\"false\",\"false\",\"false\",\"false\",\"false\",\"false\",\"false\",\"false\",\"false\",\"false\",\"false\",\"false\",\"false\",\"false\",\"false\",\"false\",\"false\",\"false\",\"false\",\"false\",\"false\",\"false\",\"false\",\"false\",\"false\",\"false\",\"false\",\"false\",\"false\",\"false\",\"false\",\"false\",\"false\",\"false\",\"false\",\"false\",\"false\",\"false\",\"false\",\"false\",\"false\",\"false\",\"false\",\"false\",\"false\",\"false\",\"false\",\"false\",\"false\",\"false\",\"false\",\"false\",\"false\",\"false\",\"false\",\"false\",\"false\",\"false\",\"false\",\"false\",\"false\",\"false\",\"false\",\"false\",\"false\",\"false\",\"false\",\"false\",\"false\",\"false\",\"false\",\"false\",\"false\",\"false\",\"false\",\"false\",\"false\",\"false\",\"false\",\"false\",\"false\",\"false\",\"false\",\"false\",\"false\",\"false\",\"false\",\"false\",\"false\",\"false\",\"false\",\"false\",\"false\",\"false\",\"false\",\"false\",\"false\",\"false\",\"false\",\"false\",\"false\",\"false\",\"false\",\"false\",\"false\",\"false\",\"false\",\"false\",\"false\",\"false\",\"false\",\"false\",\"false\",\"false\",\"false\",\"false\",\"false\",\"false\",\"false\",\"false\",\"false\",\"false\",\"false\",\"false\",\"false\",\"false\",\"false\",\"false\",\"false\",\"false\",\"false\",\"false\",\"false\",\"false\",\"false\",\"false\",\"false\",\"false\",\"false\",\"false\",\"false\",\"false\",\"false\",\"false\",\"false\",\"false\",\"false\",\"false\",\"false\",\"false\",\"false\",\"false\",\"false\",\"false\",\"false\",\"false\",\"false\",\"false\",\"false\",\"false\",\"false\",\"false\",\"false\",\"false\",\"false\",\"false\",\"false\",\"false\",\"false\",\"false\",\"false\",\"false\",\"false\",\"false\",\"false\",\"false\",\"false\",\"false\",\"false\",\"false\",\"false\",\"false\",\"false\",\"false\",\"false\",\"false\",\"false\",\"false\",\"false\",\"true\",\"false\",\"false\",\"false\",\"false\",\"false\",\"false\",\"false\",\"false\",\"false\",\"false\",\"false\",\"false\",\"false\",\"false\",\"false\",\"false\",\"false\",\"false\",\"false\",\"false\",\"false\",\"false\",\"false\",\"false\",\"false\",\"false\",\"false\",\"false\",\"false\",\"false\",\"false\",\"false\",\"false\",\"false\",\"false\",\"false\",\"false\",\"false\",\"false\",\"false\",\"false\",\"false\",\"false\",\"false\",\"false\",\"false\",\"false\",\"false\",\"false\",\"false\",\"false\",\"false\",\"false\",\"false\",\"false\",\"false\",\"false\",\"false\",\"false\",\"false\",\"false\",\"false\",\"false\",\"false\",\"false\",\"false\",\"false\",\"true\",\"false\",\"false\",\"false\",\"false\",\"false\",\"false\",\"false\",\"false\",\"false\",\"false\",\"false\",\"false\",\"false\",\"false\",\"true\",\"false\",\"false\",\"false\",\"false\",\"false\",\"false\",\"false\",\"false\",\"false\",\"false\",\"false\",\"false\",\"false\",\"false\",\"false\",\"false\",\"true\",\"false\",\"false\",\"false\",\"false\",\"false\",\"false\",\"false\",\"false\",\"false\",\"false\"],\"x\":{\"__ndarray__\":\"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\",\"dtype\":\"float64\",\"shape\":[346]},\"y\":{\"__ndarray__\":\"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\",\"dtype\":\"float64\",\"shape\":[346]}},\"selected\":{\"id\":\"1495\",\"type\":\"Selection\"},\"selection_policy\":{\"id\":\"1496\",\"type\":\"UnionRenderers\"}},\"id\":\"1352\",\"type\":\"ColumnDataSource\"},{\"attributes\":{\"bottom_units\":\"screen\",\"fill_alpha\":{\"value\":0.5},\"fill_color\":{\"value\":\"lightgrey\"},\"left_units\":\"screen\",\"level\":\"overlay\",\"line_alpha\":{\"value\":1.0},\"line_color\":{\"value\":\"black\"},\"line_dash\":[4,4],\"line_width\":{\"value\":2},\"render_mode\":\"css\",\"right_units\":\"screen\",\"top_units\":\"screen\"},\"id\":\"1483\",\"type\":\"BoxAnnotation\"},{\"attributes\":{\"column_name\":\"label\",\"group\":\"true\"},\"id\":\"1413\",\"type\":\"GroupFilter\"},{\"attributes\":{},\"id\":\"1429\",\"type\":\"LinearScale\"},{\"attributes\":{},\"id\":\"1496\",\"type\":\"UnionRenderers\"},{\"attributes\":{\"fill_alpha\":{\"value\":0.1},\"fill_color\":{\"value\":\"#1f77b4\"},\"line_alpha\":{\"value\":0.1},\"line_color\":{\"value\":\"#1f77b4\"},\"x\":{\"field\":\"x\"},\"y\":{\"field\":\"y\"}},\"id\":\"1411\",\"type\":\"Circle\"},{\"attributes\":{\"callback\":null},\"id\":\"1427\",\"type\":\"DataRange1d\"},{\"attributes\":{},\"id\":\"1394\",\"type\":\"ResetTool\"},{\"attributes\":{},\"id\":\"1493\",\"type\":\"BasicTickFormatter\"},{\"attributes\":{\"filters\":[{\"id\":\"1460\",\"type\":\"GroupFilter\"}],\"source\":{\"id\":\"1458\",\"type\":\"ColumnDataSource\"}},\"id\":\"1461\",\"type\":\"CDSView\"},{\"attributes\":{\"callback\":null,\"tooltips\":[[\"x\",\"@x\"],[\"y\",\"@y\"],[\"label\",\"@label\"]]},\"id\":\"1457\",\"type\":\"HoverTool\"},{\"attributes\":{\"callback\":null},\"id\":\"1268\",\"type\":\"DataRange1d\"},{\"attributes\":{\"fill_alpha\":{\"value\":0.1},\"fill_color\":{\"value\":\"#1f77b4\"},\"line_alpha\":{\"value\":0.1},\"line_color\":{\"value\":\"#1f77b4\"},\"x\":{\"field\":\"x\"},\"y\":{\"field\":\"y\"}},\"id\":\"1358\",\"type\":\"Circle\"},{\"attributes\":{\"column_name\":\"label\",\"group\":\"true\"},\"id\":\"1360\",\"type\":\"GroupFilter\"},{\"attributes\":{\"overlay\":{\"id\":\"1516\",\"type\":\"BoxAnnotation\"}},\"id\":\"1445\",\"type\":\"BoxZoomTool\"},{\"attributes\":{\"label\":{\"value\":\"false\"},\"renderers\":[{\"id\":\"1359\",\"type\":\"GlyphRenderer\"}]},\"id\":\"1366\",\"type\":\"LegendItem\"},{\"attributes\":{\"below\":[{\"id\":\"1433\",\"type\":\"LinearAxis\"}],\"center\":[{\"id\":\"1437\",\"type\":\"Grid\"},{\"id\":\"1442\",\"type\":\"Grid\"}],\"left\":[{\"id\":\"1438\",\"type\":\"LinearAxis\"},{\"id\":\"1474\",\"type\":\"Legend\"},{\"id\":\"1475\",\"type\":\"ColorBar\"}],\"plot_height\":400,\"plot_width\":600,\"renderers\":[{\"id\":\"1465\",\"type\":\"GlyphRenderer\"},{\"id\":\"1471\",\"type\":\"GlyphRenderer\"}],\"title\":null,\"toolbar\":{\"id\":\"1449\",\"type\":\"Toolbar\"},\"toolbar_location\":null,\"x_range\":{\"id\":\"1425\",\"type\":\"DataRange1d\"},\"x_scale\":{\"id\":\"1429\",\"type\":\"LinearScale\"},\"y_range\":{\"id\":\"1427\",\"type\":\"DataRange1d\"},\"y_scale\":{\"id\":\"1431\",\"type\":\"LinearScale\"}},\"id\":\"1423\",\"subtype\":\"Figure\",\"type\":\"Plot\"},{\"attributes\":{\"overlay\":{\"id\":\"1505\",\"type\":\"BoxAnnotation\"}},\"id\":\"1392\",\"type\":\"BoxZoomTool\"},{\"attributes\":{},\"id\":\"1491\",\"type\":\"BasicTickFormatter\"},{\"attributes\":{\"active_drag\":\"auto\",\"active_inspect\":\"auto\",\"active_multi\":null,\"active_scroll\":\"auto\",\"active_tap\":\"auto\",\"tools\":[{\"id\":\"1337\",\"type\":\"PanTool\"},{\"id\":\"1338\",\"type\":\"WheelZoomTool\"},{\"id\":\"1339\",\"type\":\"BoxZoomTool\"},{\"id\":\"1340\",\"type\":\"SaveTool\"},{\"id\":\"1341\",\"type\":\"ResetTool\"},{\"id\":\"1342\",\"type\":\"HelpTool\"},{\"id\":\"1351\",\"type\":\"HoverTool\"}]},\"id\":\"1343\",\"type\":\"Toolbar\"},{\"attributes\":{},\"id\":\"1342\",\"type\":\"HelpTool\"},{\"attributes\":{\"toolbar\":{\"id\":\"1521\",\"type\":\"ProxyToolbar\"},\"toolbar_location\":\"above\"},\"id\":\"1522\",\"type\":\"ToolbarBox\"},{\"attributes\":{\"label\":{\"value\":\"false\"},\"renderers\":[{\"id\":\"1412\",\"type\":\"GlyphRenderer\"}]},\"id\":\"1419\",\"type\":\"LegendItem\"},{\"attributes\":{\"callback\":null,\"data\":{\"index\":[0,1,2,3,4,5,6,7,8,9,10,11,12,13,14,15,16,17,18,19,20,21,22,23,24,25,26,27,28,29,30,31,32,33,34,35,36,37,38,39,40,41,42,43,44,45,46,47,48,49,50,51,52,53,54,55,56,57,58,59,60,61,62,63,64,65,66,67,68,69,70,71,72,73,74,75,76,77,78,79,80,81,82,83,84,85,86,87,88,89,90,91,92,93,94,95,96,97,98,99,100,101,102,103,104,105,106,107,108,109,110,111,112,113,114,115,116,117,118,119,120,121,122,123,124,125,126,127,128,129,130,131,132,133,134,135,136,137,138,139,140,141,142,143,144,145,146,147,148,149,150,151,152,153,154,155,156,157,158,159,160,161,162,163,164,165,166,167,168,169,170,171,172,173,174,175,176,177,178,179,180,181,182,183,184,185,186,187,188,189],\"label\":[\"false\",\"false\",\"false\",\"false\",\"false\",\"false\",\"false\",\"false\",\"false\",\"false\",\"false\",\"false\",\"false\",\"false\",\"false\",\"false\",\"false\",\"false\",\"false\",\"false\",\"false\",\"false\",\"false\",\"false\",\"false\",\"false\",\"false\",\"false\",\"false\",\"false\",\"false\",\"false\",\"false\",\"false\",\"false\",\"false\",\"false\",\"false\",\"false\",\"false\",\"false\",\"false\",\"false\",\"false\",\"false\",\"false\",\"false\",\"false\",\"false\",\"false\",\"false\",\"false\",\"false\",\"false\",\"false\",\"false\",\"false\",\"false\",\"false\",\"false\",\"false\",\"false\",\"false\",\"false\",\"false\",\"false\",\"false\",\"false\",\"false\",\"false\",\"false\",\"false\",\"false\",\"false\",\"false\",\"false\",\"false\",\"false\",\"false\",\"false\",\"false\",\"false\",\"false\",\"false\",\"false\",\"false\",\"false\",\"false\",\"false\",\"false\",\"false\",\"false\",\"false\",\"false\",\"false\",\"false\",\"false\",\"false\",\"false\",\"false\",\"false\",\"false\",\"false\",\"false\",\"false\",\"false\",\"false\",\"false\",\"false\",\"false\",\"false\",\"false\",\"false\",\"false\",\"false\",\"false\",\"false\",\"true\",\"false\",\"false\",\"false\",\"false\",\"false\",\"false\",\"false\",\"false\",\"false\",\"false\",\"false\",\"false\",\"false\",\"false\",\"false\",\"false\",\"false\",\"false\",\"false\",\"false\",\"false\",\"false\",\"false\",\"false\",\"false\",\"false\",\"false\",\"false\",\"false\",\"false\",\"false\",\"false\",\"false\",\"false\",\"false\",\"false\",\"true\",\"false\",\"false\",\"false\",\"false\",\"false\",\"false\",\"false\",\"false\",\"false\",\"true\",\"false\",\"false\",\"false\",\"false\",\"false\",\"false\",\"false\",\"false\",\"false\",\"false\",\"false\",\"false\",\"false\",\"false\",\"false\",\"true\",\"false\",\"false\",\"false\",\"false\",\"false\",\"false\",\"false\",\"false\",\"false\"],\"x\":{\"__ndarray__\":\"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\",\"dtype\":\"float64\",\"shape\":[190]},\"y\":{\"__ndarray__\":\"AAAAAAAAAAAAAAAAAADwPwAAAAAAAAAAAAAAAAAAAAAAAAAAAAAAAAAAAAAAAAAAAAAAAAAAAAAAAAAAAAAAAAAAAAAAAAAAAAAAAAAA8D8AAAAAAAAAAAAAAAAAAPA/AAAAAAAAAAAAAAAAAADwPwAAAAAAAPA/AAAAAAAA8D8AAAAAAAAAAAAAAAAAAAAAAAAAAAAAAAAAAAAAAAAAAAAAAAAAAPA/AAAAAAAAAAAAAAAAAAAAAAAAAAAAAAAAAAAAAAAAAAAAAAAAAAAAAAAAAAAAAAAAAAAAAAAAAAAAAAAAAAAAAAAAAAAAAAAAAAAAAAAAAAAAAAAAAAAAAAAAAAAAAAAAAAAAAAAAAAAAAAAAAAAAAAAAAAAAAAAAAAAAAAAAAAAAAAAAAAAAAAAAAAAAAAAAAAAAAAAAAAAAAAAAAAAAAAAAAAAAAAAAAAAAAAAAAAAAAAAAAADwPwAAAAAAAAAAAAAAAAAAAAAAAAAAAAAAAAAAAAAAAAAAAAAAAAAAAAAAAAAAAADwPwAAAAAAAAAAAAAAAAAA8D8AAAAAAAAAAAAAAAAAAAAAAAAAAAAAAAAAAAAAAAAAAAAAAAAAAAAAAAAAAAAAAAAAAAAAAAAAAAAAAAAAAAAAAAAAAAAAAAAAAAAAAAAAAAAAAAAAAAAAAAAAAAAAAAAAAAAAAAAAAAAAAAAAAAAAAAAAAAAAAAAAAAAAAAAAAAAAAAAAAAAAAAAAAAAAAAAAAAAAAAAAAAAAAAAAAAAAAAAAAAAAAAAAAAAAAAAAAAAAAAAAAAAAAAAAAAAAAAAAAAAAAAAAAAAAAAAAAAAAAAAAAAAAAAAAAAAAAAAAAAAAAAAAAAAAAAAAAAAAAAAAAAAAAAAAAAAAAAAAAAAAAAAAAAAAAAAAAAAAAAAAAAAAAAAAAAAAAAAAAAAA8D8AAAAAAAAAAAAAAAAAAPA/AAAAAAAAAAAAAAAAAAAAAAAAAAAAAAAAAAAAAAAAAAAAAAAAAAAAAAAAAAAAAAAAAAAAAAAAAAAAAAAAAAAAAAAAAAAAAAAAAAAAAAAA8D8AAAAAAAAAAAAAAAAAAAAAAAAAAAAAAAAAAAAAAAAAAAAAAAAAAAAAAAAAAAAAAAAAAAAAAAAAAAAAAAAAAAAAAAAAAAAAAAAAAAAAAADwPwAAAAAAAAAAAAAAAAAAAAAAAAAAAADwPwAAAAAAAAAAAAAAAAAAAAAAAAAAAAAAAAAAAAAAAAAAAAAAAAAA8D8AAAAAAAAAAAAAAAAAAAAAAAAAAAAAAAAAAAAAAADwPwAAAAAAAAAAAAAAAAAAAAAAAAAAAAAAAAAAAAAAAAAAAAAAAAAAAAAAAAAAAAAAAAAAAAAAAPA/AAAAAAAAAAAAAAAAAAAAAAAAAAAAAAAAAAAAAAAAAAAAAAAAAAAAAAAAAAAAAAAAAAAAAAAAAAAAAAAAAAAAAAAAAAAAAAAAAAAAAAAAAAAAAAAAAAAAAAAAAAAAAAAAAAAAAAAAAAAAAAAAAAAAAAAAAAAAAAAAAAAAAAAAAAAAAAAAAAAAAAAAAAAAAAAAAAAAAAAAAAAAAAAAAAAAAAAAAAAAAPA/AAAAAAAAAAAAAAAAAAAAAAAAAAAAAAAAAAAAAAAAAAAAAAAAAAAAAAAAAAAAAPA/AAAAAAAAAAAAAAAAAAAAAAAAAAAAAAAAAAAAAAAAAAAAAAAAAADwPwAAAAAAAAAAAAAAAAAAAAAAAAAAAAAAAAAAAAAAAAAAAAAAAAAAAAAAAAAAAAAAAAAAAAAAAAAAAAAAAAAAAAAAAAAAAAAAAAAAAAAAAAAAAAAAAAAAAAAAAAAAAAAAAAAAAAAAAAAAAAAAAAAAAAAAAAAAAAAAAAAAAAAAAAAAAAAAAAAAAAAAAAAAAAAAAAAAAAAAAAAAAAAAAAAA8D8AAAAAAAAAAAAAAAAAAAAAAAAAAAAAAAAAAAAAAAAAAAAAAAAAAAAAAAAAAAAAAAAAAAAAAAAUQAAAAAAAAAAAAAAAAAAA8D8=\",\"dtype\":\"float64\",\"shape\":[190]}},\"selected\":{\"id\":\"1517\",\"type\":\"Selection\"},\"selection_policy\":{\"id\":\"1518\",\"type\":\"UnionRenderers\"}},\"id\":\"1458\",\"type\":\"ColumnDataSource\"},{\"attributes\":{\"dimension\":1,\"ticker\":{\"id\":\"1439\",\"type\":\"BasicTicker\"}},\"id\":\"1442\",\"type\":\"Grid\"},{\"attributes\":{\"active_drag\":\"auto\",\"active_inspect\":\"auto\",\"active_multi\":null,\"active_scroll\":\"auto\",\"active_tap\":\"auto\",\"tools\":[{\"id\":\"1443\",\"type\":\"PanTool\"},{\"id\":\"1444\",\"type\":\"WheelZoomTool\"},{\"id\":\"1445\",\"type\":\"BoxZoomTool\"},{\"id\":\"1446\",\"type\":\"SaveTool\"},{\"id\":\"1447\",\"type\":\"ResetTool\"},{\"id\":\"1448\",\"type\":\"HelpTool\"},{\"id\":\"1457\",\"type\":\"HoverTool\"}]},\"id\":\"1449\",\"type\":\"Toolbar\"},{\"attributes\":{},\"id\":\"1341\",\"type\":\"ResetTool\"},{\"attributes\":{\"data_source\":{\"id\":\"1405\",\"type\":\"ColumnDataSource\"},\"glyph\":{\"id\":\"1410\",\"type\":\"Circle\"},\"hover_glyph\":null,\"muted_glyph\":null,\"nonselection_glyph\":{\"id\":\"1411\",\"type\":\"Circle\"},\"selection_glyph\":null,\"view\":{\"id\":\"1408\",\"type\":\"CDSView\"}},\"id\":\"1412\",\"type\":\"GlyphRenderer\"},{\"attributes\":{},\"id\":\"1439\",\"type\":\"BasicTicker\"},{\"attributes\":{},\"id\":\"1507\",\"type\":\"UnionRenderers\"},{\"attributes\":{\"overlay\":{\"id\":\"1494\",\"type\":\"BoxAnnotation\"}},\"id\":\"1339\",\"type\":\"BoxZoomTool\"},{\"attributes\":{},\"id\":\"1492\",\"type\":\"BasicTicker\"},{\"attributes\":{},\"id\":\"1338\",\"type\":\"WheelZoomTool\"},{\"attributes\":{\"fill_color\":{\"field\":\"label\",\"transform\":{\"id\":\"1406\",\"type\":\"CategoricalColorMapper\"}},\"line_color\":{\"field\":\"label\",\"transform\":{\"id\":\"1406\",\"type\":\"CategoricalColorMapper\"}},\"x\":{\"field\":\"x\"},\"y\":{\"field\":\"y\"}},\"id\":\"1416\",\"type\":\"Circle\"},{\"attributes\":{\"filters\":[{\"id\":\"1413\",\"type\":\"GroupFilter\"}],\"source\":{\"id\":\"1405\",\"type\":\"ColumnDataSource\"}},\"id\":\"1414\",\"type\":\"CDSView\"},{\"attributes\":{},\"id\":\"1340\",\"type\":\"SaveTool\"},{\"attributes\":{\"factors\":[\"true\",\"false\"],\"palette\":[\"#1f77b4\",\"#ff7f0e\",\"#2ca02c\",\"#d62728\",\"#9467bd\",\"#8c564b\",\"#e377c2\",\"#7f7f7f\",\"#bcbd22\",\"#17becf\"]},\"id\":\"1406\",\"type\":\"CategoricalColorMapper\"},{\"attributes\":{},\"id\":\"1482\",\"type\":\"BasicTickFormatter\"},{\"attributes\":{\"click_policy\":\"hide\",\"items\":[{\"id\":\"1419\",\"type\":\"LegendItem\"},{\"id\":\"1420\",\"type\":\"LegendItem\"}]},\"id\":\"1421\",\"type\":\"Legend\"},{\"attributes\":{},\"id\":\"1434\",\"type\":\"BasicTicker\"},{\"attributes\":{\"factors\":[\"true\",\"false\"],\"palette\":[\"#1f77b4\",\"#ff7f0e\",\"#2ca02c\",\"#d62728\",\"#9467bd\",\"#8c564b\",\"#e377c2\",\"#7f7f7f\",\"#bcbd22\",\"#17becf\"]},\"id\":\"1300\",\"type\":\"CategoricalColorMapper\"},{\"attributes\":{\"label\":{\"value\":\"false\"},\"renderers\":[{\"id\":\"1306\",\"type\":\"GlyphRenderer\"}]},\"id\":\"1313\",\"type\":\"LegendItem\"},{\"attributes\":{\"fill_color\":{\"field\":\"label\",\"transform\":{\"id\":\"1353\",\"type\":\"CategoricalColorMapper\"}},\"line_color\":{\"field\":\"label\",\"transform\":{\"id\":\"1353\",\"type\":\"CategoricalColorMapper\"}},\"x\":{\"field\":\"x\"},\"y\":{\"field\":\"y\"}},\"id\":\"1363\",\"type\":\"Circle\"},{\"attributes\":{\"overlay\":{\"id\":\"1483\",\"type\":\"BoxAnnotation\"}},\"id\":\"1286\",\"type\":\"BoxZoomTool\"},{\"attributes\":{\"bottom_units\":\"screen\",\"fill_alpha\":{\"value\":0.5},\"fill_color\":{\"value\":\"lightgrey\"},\"left_units\":\"screen\",\"level\":\"overlay\",\"line_alpha\":{\"value\":1.0},\"line_color\":{\"value\":\"black\"},\"line_dash\":[4,4],\"line_width\":{\"value\":2},\"render_mode\":\"css\",\"right_units\":\"screen\",\"top_units\":\"screen\"},\"id\":\"1494\",\"type\":\"BoxAnnotation\"},{\"attributes\":{},\"id\":\"1381\",\"type\":\"BasicTicker\"},{\"attributes\":{\"column_name\":\"label\",\"group\":\"true\"},\"id\":\"1307\",\"type\":\"GroupFilter\"},{\"attributes\":{},\"id\":\"1285\",\"type\":\"WheelZoomTool\"},{\"attributes\":{\"color_mapper\":null,\"formatter\":{\"id\":\"1504\",\"type\":\"BasicTickFormatter\"},\"ticker\":{\"id\":\"1503\",\"type\":\"BasicTicker\"},\"visible\":false},\"id\":\"1422\",\"type\":\"ColorBar\"},{\"attributes\":{\"column_name\":\"label\",\"group\":\"false\"},\"id\":\"1407\",\"type\":\"GroupFilter\"},{\"attributes\":{\"callback\":null},\"id\":\"1372\",\"type\":\"DataRange1d\"},{\"attributes\":{\"factors\":[\"true\",\"false\"],\"palette\":[\"#1f77b4\",\"#ff7f0e\",\"#2ca02c\",\"#d62728\",\"#9467bd\",\"#8c564b\",\"#e377c2\",\"#7f7f7f\",\"#bcbd22\",\"#17becf\"]},\"id\":\"1459\",\"type\":\"CategoricalColorMapper\"},{\"attributes\":{\"callback\":null},\"id\":\"1374\",\"type\":\"DataRange1d\"},{\"attributes\":{\"axis_label\":\"Call rate\",\"formatter\":{\"id\":\"1502\",\"type\":\"BasicTickFormatter\"},\"ticker\":{\"id\":\"1386\",\"type\":\"BasicTicker\"}},\"id\":\"1385\",\"type\":\"LinearAxis\"},{\"attributes\":{\"children\":[[{\"id\":\"1264\",\"subtype\":\"Figure\",\"type\":\"Plot\"},0,0],[{\"id\":\"1317\",\"subtype\":\"Figure\",\"type\":\"Plot\"},0,1],[{\"id\":\"1370\",\"subtype\":\"Figure\",\"type\":\"Plot\"},1,0],[{\"id\":\"1423\",\"subtype\":\"Figure\",\"type\":\"Plot\"},1,1]]},\"id\":\"1520\",\"type\":\"GridBox\"},{\"attributes\":{},\"id\":\"1515\",\"type\":\"BasicTickFormatter\"},{\"attributes\":{\"fill_color\":{\"field\":\"label\",\"transform\":{\"id\":\"1300\",\"type\":\"CategoricalColorMapper\"}},\"line_color\":{\"field\":\"label\",\"transform\":{\"id\":\"1300\",\"type\":\"CategoricalColorMapper\"}},\"x\":{\"field\":\"x\"},\"y\":{\"field\":\"y\"}},\"id\":\"1304\",\"type\":\"Circle\"},{\"attributes\":{\"filters\":[{\"id\":\"1360\",\"type\":\"GroupFilter\"}],\"source\":{\"id\":\"1352\",\"type\":\"ColumnDataSource\"}},\"id\":\"1361\",\"type\":\"CDSView\"},{\"attributes\":{\"fill_color\":{\"field\":\"label\",\"transform\":{\"id\":\"1459\",\"type\":\"CategoricalColorMapper\"}},\"line_color\":{\"field\":\"label\",\"transform\":{\"id\":\"1459\",\"type\":\"CategoricalColorMapper\"}},\"x\":{\"field\":\"x\"},\"y\":{\"field\":\"y\"}},\"id\":\"1463\",\"type\":\"Circle\"},{\"attributes\":{\"ticker\":{\"id\":\"1381\",\"type\":\"BasicTicker\"}},\"id\":\"1384\",\"type\":\"Grid\"},{\"attributes\":{},\"id\":\"1376\",\"type\":\"LinearScale\"},{\"attributes\":{\"filters\":[{\"id\":\"1307\",\"type\":\"GroupFilter\"}],\"source\":{\"id\":\"1299\",\"type\":\"ColumnDataSource\"}},\"id\":\"1308\",\"type\":\"CDSView\"},{\"attributes\":{\"fill_alpha\":{\"value\":0.1},\"fill_color\":{\"value\":\"#1f77b4\"},\"line_alpha\":{\"value\":0.1},\"line_color\":{\"value\":\"#1f77b4\"},\"x\":{\"field\":\"x\"},\"y\":{\"field\":\"y\"}},\"id\":\"1464\",\"type\":\"Circle\"},{\"attributes\":{\"callback\":null,\"tooltips\":[[\"x\",\"@x\"],[\"y\",\"@y\"],[\"label\",\"@label\"]]},\"id\":\"1351\",\"type\":\"HoverTool\"},{\"attributes\":{\"fill_color\":{\"field\":\"label\",\"transform\":{\"id\":\"1300\",\"type\":\"CategoricalColorMapper\"}},\"line_color\":{\"field\":\"label\",\"transform\":{\"id\":\"1300\",\"type\":\"CategoricalColorMapper\"}},\"x\":{\"field\":\"x\"},\"y\":{\"field\":\"y\"}},\"id\":\"1310\",\"type\":\"Circle\"},{\"attributes\":{},\"id\":\"1511\",\"type\":\"BasicTickFormatter\"},{\"attributes\":{},\"id\":\"1500\",\"type\":\"BasicTickFormatter\"},{\"attributes\":{\"data_source\":{\"id\":\"1458\",\"type\":\"ColumnDataSource\"},\"glyph\":{\"id\":\"1463\",\"type\":\"Circle\"},\"hover_glyph\":null,\"muted_glyph\":null,\"nonselection_glyph\":{\"id\":\"1464\",\"type\":\"Circle\"},\"selection_glyph\":null,\"view\":{\"id\":\"1461\",\"type\":\"CDSView\"}},\"id\":\"1465\",\"type\":\"GlyphRenderer\"},{\"attributes\":{},\"id\":\"1513\",\"type\":\"BasicTickFormatter\"},{\"attributes\":{\"label\":{\"value\":\"true\"},\"renderers\":[{\"id\":\"1418\",\"type\":\"GlyphRenderer\"}]},\"id\":\"1420\",\"type\":\"LegendItem\"},{\"attributes\":{},\"id\":\"1503\",\"type\":\"BasicTicker\"},{\"attributes\":{},\"id\":\"1323\",\"type\":\"LinearScale\"},{\"attributes\":{},\"id\":\"1378\",\"type\":\"LinearScale\"},{\"attributes\":{\"axis_label\":\"DP mean\",\"formatter\":{\"id\":\"1511\",\"type\":\"BasicTickFormatter\"},\"ticker\":{\"id\":\"1434\",\"type\":\"BasicTicker\"}},\"id\":\"1433\",\"type\":\"LinearAxis\"},{\"attributes\":{\"label\":{\"value\":\"false\"},\"renderers\":[{\"id\":\"1465\",\"type\":\"GlyphRenderer\"}]},\"id\":\"1472\",\"type\":\"LegendItem\"},{\"attributes\":{\"tools\":[{\"id\":\"1284\",\"type\":\"PanTool\"},{\"id\":\"1285\",\"type\":\"WheelZoomTool\"},{\"id\":\"1286\",\"type\":\"BoxZoomTool\"},{\"id\":\"1287\",\"type\":\"SaveTool\"},{\"id\":\"1288\",\"type\":\"ResetTool\"},{\"id\":\"1289\",\"type\":\"HelpTool\"},{\"id\":\"1298\",\"type\":\"HoverTool\"},{\"id\":\"1337\",\"type\":\"PanTool\"},{\"id\":\"1338\",\"type\":\"WheelZoomTool\"},{\"id\":\"1339\",\"type\":\"BoxZoomTool\"},{\"id\":\"1340\",\"type\":\"SaveTool\"},{\"id\":\"1341\",\"type\":\"ResetTool\"},{\"id\":\"1342\",\"type\":\"HelpTool\"},{\"id\":\"1351\",\"type\":\"HoverTool\"},{\"id\":\"1390\",\"type\":\"PanTool\"},{\"id\":\"1391\",\"type\":\"WheelZoomTool\"},{\"id\":\"1392\",\"type\":\"BoxZoomTool\"},{\"id\":\"1393\",\"type\":\"SaveTool\"},{\"id\":\"1394\",\"type\":\"ResetTool\"},{\"id\":\"1395\",\"type\":\"HelpTool\"},{\"id\":\"1404\",\"type\":\"HoverTool\"},{\"id\":\"1443\",\"type\":\"PanTool\"},{\"id\":\"1444\",\"type\":\"WheelZoomTool\"},{\"id\":\"1445\",\"type\":\"BoxZoomTool\"},{\"id\":\"1446\",\"type\":\"SaveTool\"},{\"id\":\"1447\",\"type\":\"ResetTool\"},{\"id\":\"1448\",\"type\":\"HelpTool\"},{\"id\":\"1457\",\"type\":\"HoverTool\"}]},\"id\":\"1521\",\"type\":\"ProxyToolbar\"},{\"attributes\":{\"filters\":[{\"id\":\"1466\",\"type\":\"GroupFilter\"}],\"source\":{\"id\":\"1458\",\"type\":\"ColumnDataSource\"}},\"id\":\"1467\",\"type\":\"CDSView\"},{\"attributes\":{},\"id\":\"1325\",\"type\":\"LinearScale\"},{\"attributes\":{\"fill_alpha\":{\"value\":0.1},\"fill_color\":{\"value\":\"#1f77b4\"},\"line_alpha\":{\"value\":0.1},\"line_color\":{\"value\":\"#1f77b4\"},\"x\":{\"field\":\"x\"},\"y\":{\"field\":\"y\"}},\"id\":\"1305\",\"type\":\"Circle\"},{\"attributes\":{\"fill_alpha\":{\"value\":0.1},\"fill_color\":{\"value\":\"#1f77b4\"},\"line_alpha\":{\"value\":0.1},\"line_color\":{\"value\":\"#1f77b4\"},\"x\":{\"field\":\"x\"},\"y\":{\"field\":\"y\"}},\"id\":\"1364\",\"type\":\"Circle\"},{\"attributes\":{\"axis_label\":\"DP mean\",\"formatter\":{\"id\":\"1500\",\"type\":\"BasicTickFormatter\"},\"ticker\":{\"id\":\"1381\",\"type\":\"BasicTicker\"}},\"id\":\"1380\",\"type\":\"LinearAxis\"},{\"attributes\":{\"fill_color\":{\"field\":\"label\",\"transform\":{\"id\":\"1459\",\"type\":\"CategoricalColorMapper\"}},\"line_color\":{\"field\":\"label\",\"transform\":{\"id\":\"1459\",\"type\":\"CategoricalColorMapper\"}},\"x\":{\"field\":\"x\"},\"y\":{\"field\":\"y\"}},\"id\":\"1469\",\"type\":\"Circle\"},{\"attributes\":{\"data_source\":{\"id\":\"1405\",\"type\":\"ColumnDataSource\"},\"glyph\":{\"id\":\"1416\",\"type\":\"Circle\"},\"hover_glyph\":null,\"muted_glyph\":null,\"nonselection_glyph\":{\"id\":\"1417\",\"type\":\"Circle\"},\"selection_glyph\":null,\"view\":{\"id\":\"1414\",\"type\":\"CDSView\"}},\"id\":\"1418\",\"type\":\"GlyphRenderer\"},{\"attributes\":{\"bottom_units\":\"screen\",\"fill_alpha\":{\"value\":0.5},\"fill_color\":{\"value\":\"lightgrey\"},\"left_units\":\"screen\",\"level\":\"overlay\",\"line_alpha\":{\"value\":1.0},\"line_color\":{\"value\":\"black\"},\"line_dash\":[4,4],\"line_width\":{\"value\":2},\"render_mode\":\"css\",\"right_units\":\"screen\",\"top_units\":\"screen\"},\"id\":\"1505\",\"type\":\"BoxAnnotation\"},{\"attributes\":{\"fill_color\":{\"field\":\"label\",\"transform\":{\"id\":\"1353\",\"type\":\"CategoricalColorMapper\"}},\"line_color\":{\"field\":\"label\",\"transform\":{\"id\":\"1353\",\"type\":\"CategoricalColorMapper\"}},\"x\":{\"field\":\"x\"},\"y\":{\"field\":\"y\"}},\"id\":\"1357\",\"type\":\"Circle\"},{\"attributes\":{\"column_name\":\"label\",\"group\":\"true\"},\"id\":\"1466\",\"type\":\"GroupFilter\"},{\"attributes\":{},\"id\":\"1337\",\"type\":\"PanTool\"},{\"attributes\":{\"filters\":[{\"id\":\"1301\",\"type\":\"GroupFilter\"}],\"source\":{\"id\":\"1299\",\"type\":\"ColumnDataSource\"}},\"id\":\"1302\",\"type\":\"CDSView\"},{\"attributes\":{},\"id\":\"1504\",\"type\":\"BasicTickFormatter\"},{\"attributes\":{\"callback\":null},\"id\":\"1321\",\"type\":\"DataRange1d\"},{\"attributes\":{\"dimension\":1,\"ticker\":{\"id\":\"1333\",\"type\":\"BasicTicker\"}},\"id\":\"1336\",\"type\":\"Grid\"},{\"attributes\":{\"callback\":null},\"id\":\"1425\",\"type\":\"DataRange1d\"},{\"attributes\":{},\"id\":\"1514\",\"type\":\"BasicTicker\"},{\"attributes\":{},\"id\":\"1333\",\"type\":\"BasicTicker\"},{\"attributes\":{\"callback\":null,\"tooltips\":[[\"x\",\"@x\"],[\"y\",\"@y\"],[\"label\",\"@label\"]]},\"id\":\"1298\",\"type\":\"HoverTool\"},{\"attributes\":{\"color_mapper\":null,\"formatter\":{\"id\":\"1493\",\"type\":\"BasicTickFormatter\"},\"ticker\":{\"id\":\"1492\",\"type\":\"BasicTicker\"},\"visible\":false},\"id\":\"1369\",\"type\":\"ColorBar\"},{\"attributes\":{\"fill_alpha\":{\"value\":0.1},\"fill_color\":{\"value\":\"#1f77b4\"},\"line_alpha\":{\"value\":0.1},\"line_color\":{\"value\":\"#1f77b4\"},\"x\":{\"field\":\"x\"},\"y\":{\"field\":\"y\"}},\"id\":\"1470\",\"type\":\"Circle\"},{\"attributes\":{\"click_policy\":\"hide\",\"items\":[{\"id\":\"1472\",\"type\":\"LegendItem\"},{\"id\":\"1473\",\"type\":\"LegendItem\"}]},\"id\":\"1474\",\"type\":\"Legend\"},{\"attributes\":{\"data_source\":{\"id\":\"1458\",\"type\":\"ColumnDataSource\"},\"glyph\":{\"id\":\"1469\",\"type\":\"Circle\"},\"hover_glyph\":null,\"muted_glyph\":null,\"nonselection_glyph\":{\"id\":\"1470\",\"type\":\"Circle\"},\"selection_glyph\":null,\"view\":{\"id\":\"1467\",\"type\":\"CDSView\"}},\"id\":\"1471\",\"type\":\"GlyphRenderer\"},{\"attributes\":{\"data_source\":{\"id\":\"1299\",\"type\":\"ColumnDataSource\"},\"glyph\":{\"id\":\"1304\",\"type\":\"Circle\"},\"hover_glyph\":null,\"muted_glyph\":null,\"nonselection_glyph\":{\"id\":\"1305\",\"type\":\"Circle\"},\"selection_glyph\":null,\"view\":{\"id\":\"1302\",\"type\":\"CDSView\"}},\"id\":\"1306\",\"type\":\"GlyphRenderer\"},{\"attributes\":{\"color_mapper\":null,\"formatter\":{\"id\":\"1482\",\"type\":\"BasicTickFormatter\"},\"ticker\":{\"id\":\"1481\",\"type\":\"BasicTicker\"},\"visible\":false},\"id\":\"1316\",\"type\":\"ColorBar\"},{\"attributes\":{\"callback\":null},\"id\":\"1319\",\"type\":\"DataRange1d\"},{\"attributes\":{},\"id\":\"1478\",\"type\":\"BasicTickFormatter\"},{\"attributes\":{\"below\":[{\"id\":\"1380\",\"type\":\"LinearAxis\"}],\"center\":[{\"id\":\"1384\",\"type\":\"Grid\"},{\"id\":\"1389\",\"type\":\"Grid\"}],\"left\":[{\"id\":\"1385\",\"type\":\"LinearAxis\"},{\"id\":\"1421\",\"type\":\"Legend\"},{\"id\":\"1422\",\"type\":\"ColorBar\"}],\"plot_height\":400,\"plot_width\":600,\"renderers\":[{\"id\":\"1412\",\"type\":\"GlyphRenderer\"},{\"id\":\"1418\",\"type\":\"GlyphRenderer\"}],\"title\":null,\"toolbar\":{\"id\":\"1396\",\"type\":\"Toolbar\"},\"toolbar_location\":null,\"x_range\":{\"id\":\"1372\",\"type\":\"DataRange1d\"},\"x_scale\":{\"id\":\"1376\",\"type\":\"LinearScale\"},\"y_range\":{\"id\":\"1374\",\"type\":\"DataRange1d\"},\"y_scale\":{\"id\":\"1378\",\"type\":\"LinearScale\"}},\"id\":\"1370\",\"subtype\":\"Figure\",\"type\":\"Plot\"},{\"attributes\":{},\"id\":\"1506\",\"type\":\"Selection\"},{\"attributes\":{\"bottom_units\":\"screen\",\"fill_alpha\":{\"value\":0.5},\"fill_color\":{\"value\":\"lightgrey\"},\"left_units\":\"screen\",\"level\":\"overlay\",\"line_alpha\":{\"value\":1.0},\"line_color\":{\"value\":\"black\"},\"line_dash\":[4,4],\"line_width\":{\"value\":2},\"render_mode\":\"css\",\"right_units\":\"screen\",\"top_units\":\"screen\"},\"id\":\"1516\",\"type\":\"BoxAnnotation\"},{\"attributes\":{\"column_name\":\"label\",\"group\":\"false\"},\"id\":\"1354\",\"type\":\"GroupFilter\"},{\"attributes\":{\"callback\":null,\"data\":{\"index\":[0,1,2,3,4,5,6,7,8,9,10,11,12,13,14,15,16,17,18,19,20,21,22,23,24,25,26,27,28,29,30,31,32,33,34,35,36,37,38,39,40,41,42,43,44,45,46,47,48,49,50,51,52,53,54,55,56,57,58,59,60,61,62,63,64,65,66,67,68,69,70,71,72,73,74,75,76,77,78,79,80,81,82,83,84,85,86,87,88,89,90,91,92,93,94,95,96,97,98,99,100,101,102,103,104,105,106,107,108,109,110,111,112,113,114,115,116,117,118,119,120,121,122,123,124,125,126,127,128,129,130,131,132,133,134,135,136,137,138,139,140,141,142,143,144,145,146,147,148,149,150,151,152,153,154,155,156,157,158,159,160,161,162,163,164,165,166,167,168,169,170,171,172,173,174,175,176,177,178,179,180,181,182,183,184,185,186,187,188,189,190,191,192,193,194,195,196,197,198,199,200,201,202,203,204,205,206,207,208,209,210,211,212,213,214,215,216,217,218,219,220,221,222,223,224,225,226,227,228,229,230,231,232,233,234,235,236,237,238,239,240,241,242,243,244,245,246,247,248,249,250,251,252,253,254,255,256,257,258,259,260,261,262,263,264,265,266,267,268,269,270,271,272,273,274,275,276,277,278,279,280,281,282,283,284,285,286,287,288,289,290,291,292,293,294,295,296,297,298,299,300,301,302,303,304,305,306,307,308,309,310,311,312,313,314,315,316,317,318,319,320,321,322,323,324,325,326,327,328,329,330,331,332,333,334,335,336,337,338,339,340,341,342,343,344,345,346,347,348,349,350,351,352,353,354,355,356,357,358,359,360,361,362,363,364,365,366,367],\"label\":[\"false\",\"false\",\"false\",\"false\",\"false\",\"false\",\"false\",\"false\",\"false\",\"false\",\"false\",\"false\",\"false\",\"false\",\"false\",\"false\",\"false\",\"false\",\"false\",\"false\",\"false\",\"false\",\"false\",\"false\",\"false\",\"false\",\"false\",\"false\",\"false\",\"false\",\"false\",\"false\",\"false\",\"false\",\"false\",\"false\",\"false\",\"false\",\"false\",\"false\",\"false\",\"false\",\"false\",\"false\",\"false\",\"false\",\"false\",\"false\",\"false\",\"false\",\"false\",\"false\",\"false\",\"false\",\"false\",\"false\",\"false\",\"false\",\"false\",\"false\",\"false\",\"false\",\"false\",\"false\",\"false\",\"false\",\"false\",\"false\",\"false\",\"false\",\"false\",\"false\",\"false\",\"false\",\"false\",\"false\",\"false\",\"false\",\"false\",\"false\",\"false\",\"false\",\"false\",\"false\",\"false\",\"false\",\"false\",\"false\",\"false\",\"false\",\"false\",\"false\",\"false\",\"false\",\"false\",\"false\",\"false\",\"false\",\"false\",\"false\",\"false\",\"false\",\"false\",\"false\",\"false\",\"false\",\"false\",\"false\",\"false\",\"false\",\"false\",\"false\",\"false\",\"false\",\"false\",\"false\",\"false\",\"false\",\"false\",\"false\",\"false\",\"false\",\"false\",\"false\",\"false\",\"false\",\"false\",\"false\",\"false\",\"false\",\"false\",\"false\",\"false\",\"false\",\"false\",\"false\",\"false\",\"false\",\"false\",\"false\",\"false\",\"false\",\"false\",\"false\",\"false\",\"false\",\"false\",\"false\",\"false\",\"false\",\"false\",\"false\",\"false\",\"false\",\"false\",\"false\",\"false\",\"false\",\"false\",\"false\",\"false\",\"false\",\"false\",\"false\",\"false\",\"false\",\"false\",\"false\",\"false\",\"false\",\"false\",\"false\",\"false\",\"false\",\"false\",\"false\",\"false\",\"false\",\"false\",\"false\",\"false\",\"false\",\"false\",\"false\",\"false\",\"false\",\"false\",\"false\",\"false\",\"false\",\"false\",\"false\",\"false\",\"false\",\"false\",\"false\",\"false\",\"false\",\"false\",\"false\",\"false\",\"false\",\"false\",\"false\",\"false\",\"false\",\"false\",\"false\",\"false\",\"false\",\"false\",\"false\",\"false\",\"false\",\"false\",\"false\",\"false\",\"false\",\"false\",\"false\",\"false\",\"false\",\"false\",\"false\",\"false\",\"false\",\"false\",\"false\",\"false\",\"false\",\"false\",\"false\",\"false\",\"false\",\"false\",\"false\",\"false\",\"false\",\"false\",\"false\",\"false\",\"false\",\"false\",\"false\",\"false\",\"false\",\"false\",\"false\",\"false\",\"false\",\"false\",\"false\",\"false\",\"false\",\"false\",\"false\",\"false\",\"true\",\"false\",\"false\",\"false\",\"false\",\"false\",\"false\",\"false\",\"false\",\"false\",\"false\",\"false\",\"false\",\"false\",\"false\",\"false\",\"false\",\"false\",\"false\",\"false\",\"false\",\"false\",\"false\",\"false\",\"false\",\"false\",\"false\",\"false\",\"false\",\"false\",\"false\",\"false\",\"false\",\"false\",\"false\",\"false\",\"false\",\"false\",\"false\",\"false\",\"false\",\"false\",\"false\",\"false\",\"false\",\"false\",\"false\",\"false\",\"false\",\"false\",\"false\",\"false\",\"false\",\"false\",\"false\",\"false\",\"false\",\"false\",\"false\",\"false\",\"false\",\"false\",\"false\",\"false\",\"false\",\"false\",\"false\",\"false\",\"false\",\"true\",\"false\",\"false\",\"false\",\"false\",\"false\",\"false\",\"false\",\"false\",\"false\",\"false\",\"false\",\"false\",\"false\",\"true\",\"false\",\"false\",\"false\",\"false\",\"false\",\"false\",\"false\",\"false\",\"false\",\"false\",\"false\",\"false\",\"false\",\"false\",\"false\",\"false\",\"true\",\"false\",\"false\",\"false\",\"false\",\"false\",\"false\",\"false\",\"false\",\"false\",\"false\"],\"x\":{\"__ndarray__\":\"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\",\"dtype\":\"float64\",\"shape\":[368]},\"y\":{\"__ndarray__\":\"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\",\"dtype\":\"float64\",\"shape\":[368]}},\"selected\":{\"id\":\"1484\",\"type\":\"Selection\"},\"selection_policy\":{\"id\":\"1485\",\"type\":\"UnionRenderers\"}},\"id\":\"1299\",\"type\":\"ColumnDataSource\"},{\"attributes\":{\"label\":{\"value\":\"true\"},\"renderers\":[{\"id\":\"1471\",\"type\":\"GlyphRenderer\"}]},\"id\":\"1473\",\"type\":\"LegendItem\"},{\"attributes\":{},\"id\":\"1480\",\"type\":\"BasicTickFormatter\"},{\"attributes\":{\"click_policy\":\"hide\",\"items\":[{\"id\":\"1366\",\"type\":\"LegendItem\"},{\"id\":\"1367\",\"type\":\"LegendItem\"}]},\"id\":\"1368\",\"type\":\"Legend\"},{\"attributes\":{\"color_mapper\":null,\"formatter\":{\"id\":\"1515\",\"type\":\"BasicTickFormatter\"},\"ticker\":{\"id\":\"1514\",\"type\":\"BasicTicker\"},\"visible\":false},\"id\":\"1475\",\"type\":\"ColorBar\"},{\"attributes\":{},\"id\":\"1481\",\"type\":\"BasicTicker\"},{\"attributes\":{},\"id\":\"1270\",\"type\":\"LinearScale\"},{\"attributes\":{},\"id\":\"1502\",\"type\":\"BasicTickFormatter\"},{\"attributes\":{\"label\":{\"value\":\"true\"},\"renderers\":[{\"id\":\"1365\",\"type\":\"GlyphRenderer\"}]},\"id\":\"1367\",\"type\":\"LegendItem\"},{\"attributes\":{\"data_source\":{\"id\":\"1352\",\"type\":\"ColumnDataSource\"},\"glyph\":{\"id\":\"1363\",\"type\":\"Circle\"},\"hover_glyph\":null,\"muted_glyph\":null,\"nonselection_glyph\":{\"id\":\"1364\",\"type\":\"Circle\"},\"selection_glyph\":null,\"view\":{\"id\":\"1361\",\"type\":\"CDSView\"}},\"id\":\"1365\",\"type\":\"GlyphRenderer\"},{\"attributes\":{},\"id\":\"1287\",\"type\":\"SaveTool\"},{\"attributes\":{},\"id\":\"1495\",\"type\":\"Selection\"},{\"attributes\":{},\"id\":\"1517\",\"type\":\"Selection\"},{\"attributes\":{\"axis_label\":\"Ti/Tv rate\",\"formatter\":{\"id\":\"1491\",\"type\":\"BasicTickFormatter\"},\"ticker\":{\"id\":\"1333\",\"type\":\"BasicTicker\"}},\"id\":\"1332\",\"type\":\"LinearAxis\"},{\"attributes\":{\"column_name\":\"label\",\"group\":\"false\"},\"id\":\"1301\",\"type\":\"GroupFilter\"},{\"attributes\":{},\"id\":\"1518\",\"type\":\"UnionRenderers\"},{\"attributes\":{\"active_drag\":\"auto\",\"active_inspect\":\"auto\",\"active_multi\":null,\"active_scroll\":\"auto\",\"active_tap\":\"auto\",\"tools\":[{\"id\":\"1284\",\"type\":\"PanTool\"},{\"id\":\"1285\",\"type\":\"WheelZoomTool\"},{\"id\":\"1286\",\"type\":\"BoxZoomTool\"},{\"id\":\"1287\",\"type\":\"SaveTool\"},{\"id\":\"1288\",\"type\":\"ResetTool\"},{\"id\":\"1289\",\"type\":\"HelpTool\"},{\"id\":\"1298\",\"type\":\"HoverTool\"}]},\"id\":\"1290\",\"type\":\"Toolbar\"},{\"attributes\":{\"data_source\":{\"id\":\"1299\",\"type\":\"ColumnDataSource\"},\"glyph\":{\"id\":\"1310\",\"type\":\"Circle\"},\"hover_glyph\":null,\"muted_glyph\":null,\"nonselection_glyph\":{\"id\":\"1311\",\"type\":\"Circle\"},\"selection_glyph\":null,\"view\":{\"id\":\"1308\",\"type\":\"CDSView\"}},\"id\":\"1312\",\"type\":\"GlyphRenderer\"},{\"attributes\":{\"below\":[{\"id\":\"1327\",\"type\":\"LinearAxis\"}],\"center\":[{\"id\":\"1331\",\"type\":\"Grid\"},{\"id\":\"1336\",\"type\":\"Grid\"}],\"left\":[{\"id\":\"1332\",\"type\":\"LinearAxis\"},{\"id\":\"1368\",\"type\":\"Legend\"},{\"id\":\"1369\",\"type\":\"ColorBar\"}],\"plot_height\":400,\"plot_width\":600,\"renderers\":[{\"id\":\"1359\",\"type\":\"GlyphRenderer\"},{\"id\":\"1365\",\"type\":\"GlyphRenderer\"}],\"title\":null,\"toolbar\":{\"id\":\"1343\",\"type\":\"Toolbar\"},\"toolbar_location\":null,\"x_range\":{\"id\":\"1319\",\"type\":\"DataRange1d\"},\"x_scale\":{\"id\":\"1323\",\"type\":\"LinearScale\"},\"y_range\":{\"id\":\"1321\",\"type\":\"DataRange1d\"},\"y_scale\":{\"id\":\"1325\",\"type\":\"LinearScale\"}},\"id\":\"1317\",\"subtype\":\"Figure\",\"type\":\"Plot\"},{\"attributes\":{},\"id\":\"1284\",\"type\":\"PanTool\"},{\"attributes\":{\"ticker\":{\"id\":\"1328\",\"type\":\"BasicTicker\"}},\"id\":\"1331\",\"type\":\"Grid\"},{\"attributes\":{},\"id\":\"1275\",\"type\":\"BasicTicker\"},{\"attributes\":{\"ticker\":{\"id\":\"1275\",\"type\":\"BasicTicker\"}},\"id\":\"1278\",\"type\":\"Grid\"},{\"attributes\":{\"label\":{\"value\":\"true\"},\"renderers\":[{\"id\":\"1312\",\"type\":\"GlyphRenderer\"}]},\"id\":\"1314\",\"type\":\"LegendItem\"},{\"attributes\":{},\"id\":\"1289\",\"type\":\"HelpTool\"},{\"attributes\":{\"below\":[{\"id\":\"1274\",\"type\":\"LinearAxis\"}],\"center\":[{\"id\":\"1278\",\"type\":\"Grid\"},{\"id\":\"1283\",\"type\":\"Grid\"}],\"left\":[{\"id\":\"1279\",\"type\":\"LinearAxis\"},{\"id\":\"1315\",\"type\":\"Legend\"},{\"id\":\"1316\",\"type\":\"ColorBar\"}],\"plot_height\":400,\"plot_width\":600,\"renderers\":[{\"id\":\"1306\",\"type\":\"GlyphRenderer\"},{\"id\":\"1312\",\"type\":\"GlyphRenderer\"}],\"title\":null,\"toolbar\":{\"id\":\"1290\",\"type\":\"Toolbar\"},\"toolbar_location\":null,\"x_range\":{\"id\":\"1266\",\"type\":\"DataRange1d\"},\"x_scale\":{\"id\":\"1270\",\"type\":\"LinearScale\"},\"y_range\":{\"id\":\"1268\",\"type\":\"DataRange1d\"},\"y_scale\":{\"id\":\"1272\",\"type\":\"LinearScale\"}},\"id\":\"1264\",\"subtype\":\"Figure\",\"type\":\"Plot\"},{\"attributes\":{\"axis_label\":\"# heterozygotes\",\"formatter\":{\"id\":\"1480\",\"type\":\"BasicTickFormatter\"},\"ticker\":{\"id\":\"1280\",\"type\":\"BasicTicker\"}},\"id\":\"1279\",\"type\":\"LinearAxis\"},{\"attributes\":{},\"id\":\"1280\",\"type\":\"BasicTicker\"},{\"attributes\":{},\"id\":\"1272\",\"type\":\"LinearScale\"},{\"attributes\":{\"click_policy\":\"hide\",\"items\":[{\"id\":\"1313\",\"type\":\"LegendItem\"},{\"id\":\"1314\",\"type\":\"LegendItem\"}]},\"id\":\"1315\",\"type\":\"Legend\"},{\"attributes\":{},\"id\":\"1288\",\"type\":\"ResetTool\"},{\"attributes\":{\"axis_label\":\"DP mean\",\"formatter\":{\"id\":\"1489\",\"type\":\"BasicTickFormatter\"},\"ticker\":{\"id\":\"1328\",\"type\":\"BasicTicker\"}},\"id\":\"1327\",\"type\":\"LinearAxis\"},{\"attributes\":{},\"id\":\"1328\",\"type\":\"BasicTicker\"},{\"attributes\":{\"dimension\":1,\"ticker\":{\"id\":\"1280\",\"type\":\"BasicTicker\"}},\"id\":\"1283\",\"type\":\"Grid\"},{\"attributes\":{\"axis_label\":\"DP mean\",\"formatter\":{\"id\":\"1478\",\"type\":\"BasicTickFormatter\"},\"ticker\":{\"id\":\"1275\",\"type\":\"BasicTicker\"}},\"id\":\"1274\",\"type\":\"LinearAxis\"},{\"attributes\":{\"fill_alpha\":{\"value\":0.1},\"fill_color\":{\"value\":\"#1f77b4\"},\"line_alpha\":{\"value\":0.1},\"line_color\":{\"value\":\"#1f77b4\"},\"x\":{\"field\":\"x\"},\"y\":{\"field\":\"y\"}},\"id\":\"1417\",\"type\":\"Circle\"},{\"attributes\":{\"fill_alpha\":{\"value\":0.1},\"fill_color\":{\"value\":\"#1f77b4\"},\"line_alpha\":{\"value\":0.1},\"line_color\":{\"value\":\"#1f77b4\"},\"x\":{\"field\":\"x\"},\"y\":{\"field\":\"y\"}},\"id\":\"1311\",\"type\":\"Circle\"}],\"root_ids\":[\"1523\"]},\"title\":\"Bokeh Application\",\"version\":\"1.2.0\"}};\n",
       "  var render_items = [{\"docid\":\"b5396357-c0ad-468b-829b-b3510dbaffa0\",\"roots\":{\"1523\":\"f11dd221-cd9b-45e8-9a14-eed9f02f8566\"}}];\n",
       "  root.Bokeh.embed.embed_items_notebook(docs_json, render_items);\n",
       "\n",
       "  }\n",
       "  if (root.Bokeh !== undefined) {\n",
       "    embed_document(root);\n",
       "  } else {\n",
       "    var attempts = 0;\n",
       "    var timer = setInterval(function(root) {\n",
       "      if (root.Bokeh !== undefined) {\n",
       "        embed_document(root);\n",
       "        clearInterval(timer);\n",
       "      }\n",
       "      attempts++;\n",
       "      if (attempts > 100) {\n",
       "        console.log(\"Bokeh: ERROR: Unable to run BokehJS code because BokehJS library is missing\");\n",
       "        clearInterval(timer);\n",
       "      }\n",
       "    }, 10, root)\n",
       "  }\n",
       "})(window);"
      ],
      "application/vnd.bokehjs_exec.v0+json": ""
     },
     "metadata": {
      "application/vnd.bokehjs_exec.v0+json": {
       "id": "1523"
      }
     },
     "output_type": "display_data"
    }
   ],
   "source": [
    "show(gridplot(plot_list, ncols=2, plot_width=600, plot_height=400))"
   ]
  },
  {
   "cell_type": "markdown",
   "metadata": {},
   "source": [
    "## Remove potential ancestry outliers from full dataset\n",
    "\n",
    "In further analysis of the dataset, we do not want to include these four potential ancestry outliers (PAO). We will therefore load the full dataset, discard the PAOs, and write the data again."
   ]
  },
  {
   "cell_type": "code",
   "execution_count": 32,
   "metadata": {},
   "outputs": [
    {
     "name": "stdout",
     "output_type": "stream",
     "text": [
      "Number of potential ancestry outliers: 4\n"
     ]
    }
   ],
   "source": [
    "# Potential ancestry outliers.\n",
    "pao_list = mt.filter_cols(mt.pc_outliers).s.collect()\n",
    "\n",
    "print('Number of potential ancestry outliers: {n}'.format(n=len(pao_list)))"
   ]
  },
  {
   "cell_type": "code",
   "execution_count": 33,
   "metadata": {},
   "outputs": [],
   "source": [
    "# Read original matrix table.\n",
    "full_mt = hl.read_matrix_table(BASE_DIR + '/data/mt/high_quality_variants.mt')\n",
    "\n",
    "# Annotate with the list of potential ancestry outliers.\n",
    "full_mt = full_mt.annotate_globals(pao_list = pao_list)\n",
    "\n",
    "# Remove the potential ancestry outliers.\n",
    "pao_removed_mt = full_mt.filter_cols(~full_mt.pao_list.contains(full_mt.s))"
   ]
  },
  {
   "cell_type": "code",
   "execution_count": 34,
   "metadata": {},
   "outputs": [
    {
     "name": "stdout",
     "output_type": "stream",
     "text": [
      "Number of variants: 148305\n",
      "Number of samples: 465\n"
     ]
    }
   ],
   "source": [
    "n_variants, n_samples = pao_removed_mt.count()\n",
    "print('Number of variants: ' + str(n_variants))\n",
    "print('Number of samples: ' + str(n_samples))"
   ]
  },
  {
   "cell_type": "markdown",
   "metadata": {},
   "source": [
    "Update variant QC information, as this has changed when we have removed some samples. Also remove invariant sites."
   ]
  },
  {
   "cell_type": "code",
   "execution_count": 35,
   "metadata": {},
   "outputs": [],
   "source": [
    "pao_removed_mt = hl.variant_qc(pao_removed_mt)\n",
    "\n",
    "pao_removed_mt = pao_removed_mt.filter_rows(pao_removed_mt.variant_qc.AC[1] > 0)"
   ]
  },
  {
   "cell_type": "code",
   "execution_count": 36,
   "metadata": {},
   "outputs": [
    {
     "name": "stderr",
     "output_type": "stream",
     "text": [
      "[Stage 740:=====================================>                (26 + 11) / 37]"
     ]
    },
    {
     "name": "stdout",
     "output_type": "stream",
     "text": [
      "Number of variants: 148267\n",
      "Number of samples: 465\n"
     ]
    }
   ],
   "source": [
    "n_variants, n_samples = pao_removed_mt.count()\n",
    "print('Number of variants: ' + str(n_variants))\n",
    "print('Number of samples: ' + str(n_samples))"
   ]
  },
  {
   "cell_type": "markdown",
   "metadata": {},
   "source": [
    "Write the resulting matrix table to file."
   ]
  },
  {
   "cell_type": "code",
   "execution_count": 37,
   "metadata": {},
   "outputs": [
    {
     "name": "stderr",
     "output_type": "stream",
     "text": [
      "[Stage 741:===============================================>       (32 + 5) / 37]2021-10-27 13:10:15 Hail: INFO: wrote matrix table with 148267 rows and 465 columns in 37 partitions to /home/olavur/experiments/2020-11-13_fargen1_exome_analysis/data/mt/high_quality_variants_pao_removed.mt\n",
      "    Total size: 808.14 MiB\n",
      "    * Rows/entries: 808.09 MiB\n",
      "    * Columns: 49.46 KiB\n",
      "    * Globals: 39.00 B\n",
      "    * Smallest partition: 1506 rows (6.70 MiB)\n",
      "    * Largest partition:  4487 rows (25.24 MiB)\n"
     ]
    }
   ],
   "source": [
    "if True:\n",
    "    pao_removed_mt.write(BASE_DIR + '/data/mt/high_quality_variants_pao_removed.mt', overwrite=True)"
   ]
  },
  {
   "cell_type": "markdown",
   "metadata": {},
   "source": [
    "## PCA without outliers\n",
    "\n",
    "These PCA outerliers prevent us from detecting population structure in the PCA above. Whether they are ancestry outliers or whether something else is at play, we must remove them to be able to detect population structure."
   ]
  },
  {
   "cell_type": "code",
   "execution_count": 13,
   "metadata": {},
   "outputs": [],
   "source": [
    "mt = mt.filter_cols(~mt.pc_outliers)"
   ]
  },
  {
   "cell_type": "markdown",
   "metadata": {},
   "source": [
    "Compute PCA again.\n",
    "\n",
    "Note that we keep all the components, so that we can calculate percent variance explained."
   ]
  },
  {
   "cell_type": "code",
   "execution_count": 14,
   "metadata": {},
   "outputs": [
    {
     "name": "stderr",
     "output_type": "stream",
     "text": [
      "2021-10-29 10:31:24 Hail: INFO: hwe_normalized_pca: running PCA using 47253 variants.\n",
      "2021-10-29 10:31:25 Hail: INFO: pca: running PCA with 378 components...\n",
      "[Stage 501:=======================================>              (27 + 10) / 37]"
     ]
    }
   ],
   "source": [
    "eigenvalues, scores, loadings = hl.hwe_normalized_pca(mt.GT, k=mt.count_cols())"
   ]
  },
  {
   "cell_type": "markdown",
   "metadata": {},
   "source": [
    "Calculate the proportion of variance explained by each component."
   ]
  },
  {
   "cell_type": "code",
   "execution_count": 15,
   "metadata": {},
   "outputs": [],
   "source": [
    "prop_var = np.array(eigenvalues) / sum(eigenvalues)"
   ]
  },
  {
   "cell_type": "markdown",
   "metadata": {},
   "source": [
    "Annotate the matrix table with the PCA scores."
   ]
  },
  {
   "cell_type": "code",
   "execution_count": 16,
   "metadata": {},
   "outputs": [],
   "source": [
    "mt = mt.annotate_cols(scores = scores[mt.s].scores)"
   ]
  },
  {
   "cell_type": "code",
   "execution_count": 17,
   "metadata": {},
   "outputs": [
    {
     "data": {
      "text/html": [
       "\n",
       "\n",
       "\n",
       "\n",
       "\n",
       "\n",
       "  <div class=\"bk-root\" id=\"06c727cc-af3d-4be8-81a6-fc368eaec5cc\" data-root-id=\"1161\"></div>\n"
      ]
     },
     "metadata": {},
     "output_type": "display_data"
    },
    {
     "data": {
      "application/javascript": [
       "(function(root) {\n",
       "  function embed_document(root) {\n",
       "    \n",
       "  var docs_json = {\"d41bf2ae-6ba6-4480-9e96-f51e60a6fce0\":{\"roots\":{\"references\":[{\"attributes\":{\"below\":[{\"id\":\"1172\",\"type\":\"LinearAxis\"}],\"center\":[{\"id\":\"1176\",\"type\":\"Grid\"},{\"id\":\"1181\",\"type\":\"Grid\"}],\"left\":[{\"id\":\"1177\",\"type\":\"LinearAxis\"},{\"id\":\"1248\",\"type\":\"Legend\"},{\"id\":\"1249\",\"type\":\"ColorBar\"}],\"plot_height\":600,\"plot_width\":800,\"renderers\":[{\"id\":\"1204\",\"type\":\"GlyphRenderer\"},{\"id\":\"1210\",\"type\":\"GlyphRenderer\"},{\"id\":\"1216\",\"type\":\"GlyphRenderer\"},{\"id\":\"1222\",\"type\":\"GlyphRenderer\"},{\"id\":\"1228\",\"type\":\"GlyphRenderer\"},{\"id\":\"1234\",\"type\":\"GlyphRenderer\"},{\"id\":\"1240\",\"type\":\"GlyphRenderer\"}],\"title\":{\"id\":\"1162\",\"type\":\"Title\"},\"toolbar\":{\"id\":\"1188\",\"type\":\"Toolbar\"},\"x_range\":{\"id\":\"1164\",\"type\":\"DataRange1d\"},\"x_scale\":{\"id\":\"1168\",\"type\":\"LinearScale\"},\"y_range\":{\"id\":\"1166\",\"type\":\"DataRange1d\"},\"y_scale\":{\"id\":\"1170\",\"type\":\"LinearScale\"}},\"id\":\"1161\",\"subtype\":\"Figure\",\"type\":\"Plot\"},{\"attributes\":{\"data_source\":{\"id\":\"1197\",\"type\":\"ColumnDataSource\"},\"glyph\":{\"id\":\"1202\",\"type\":\"Circle\"},\"hover_glyph\":null,\"muted_glyph\":null,\"nonselection_glyph\":{\"id\":\"1203\",\"type\":\"Circle\"},\"selection_glyph\":null,\"view\":{\"id\":\"1200\",\"type\":\"CDSView\"}},\"id\":\"1204\",\"type\":\"GlyphRenderer\"},{\"attributes\":{\"ticker\":{\"id\":\"1173\",\"type\":\"BasicTicker\"}},\"id\":\"1176\",\"type\":\"Grid\"},{\"attributes\":{},\"id\":\"1264\",\"type\":\"BasicTickFormatter\"},{\"attributes\":{\"fill_alpha\":{\"value\":0.1},\"fill_color\":{\"value\":\"#1f77b4\"},\"line_alpha\":{\"value\":0.1},\"line_color\":{\"value\":\"#1f77b4\"},\"x\":{\"field\":\"x\"},\"y\":{\"field\":\"y\"}},\"id\":\"1221\",\"type\":\"Circle\"},{\"attributes\":{},\"id\":\"1266\",\"type\":\"BasicTickFormatter\"},{\"attributes\":{\"fill_alpha\":{\"value\":0.1},\"fill_color\":{\"value\":\"#1f77b4\"},\"line_alpha\":{\"value\":0.1},\"line_color\":{\"value\":\"#1f77b4\"},\"x\":{\"field\":\"x\"},\"y\":{\"field\":\"y\"}},\"id\":\"1203\",\"type\":\"Circle\"},{\"attributes\":{},\"id\":\"1170\",\"type\":\"LinearScale\"},{\"attributes\":{\"filters\":[{\"id\":\"1205\",\"type\":\"GroupFilter\"}],\"source\":{\"id\":\"1197\",\"type\":\"ColumnDataSource\"}},\"id\":\"1206\",\"type\":\"CDSView\"},{\"attributes\":{\"column_name\":\"label\",\"group\":\"SUD\"},\"id\":\"1229\",\"type\":\"GroupFilter\"},{\"attributes\":{\"filters\":[{\"id\":\"1229\",\"type\":\"GroupFilter\"}],\"source\":{\"id\":\"1197\",\"type\":\"ColumnDataSource\"}},\"id\":\"1230\",\"type\":\"CDSView\"},{\"attributes\":{\"column_name\":\"label\",\"group\":\"EYN\"},\"id\":\"1199\",\"type\":\"GroupFilter\"},{\"attributes\":{\"label\":{\"value\":\"NOR\"},\"renderers\":[{\"id\":\"1216\",\"type\":\"GlyphRenderer\"}]},\"id\":\"1243\",\"type\":\"LegendItem\"},{\"attributes\":{\"fill_color\":{\"field\":\"label\",\"transform\":{\"id\":\"1198\",\"type\":\"CategoricalColorMapper\"}},\"line_color\":{\"field\":\"label\",\"transform\":{\"id\":\"1198\",\"type\":\"CategoricalColorMapper\"}},\"x\":{\"field\":\"x\"},\"y\":{\"field\":\"y\"}},\"id\":\"1214\",\"type\":\"Circle\"},{\"attributes\":{\"bottom_units\":\"screen\",\"fill_alpha\":{\"value\":0.5},\"fill_color\":{\"value\":\"lightgrey\"},\"left_units\":\"screen\",\"level\":\"overlay\",\"line_alpha\":{\"value\":1.0},\"line_color\":{\"value\":\"black\"},\"line_dash\":[4,4],\"line_width\":{\"value\":2},\"render_mode\":\"css\",\"right_units\":\"screen\",\"top_units\":\"screen\"},\"id\":\"1267\",\"type\":\"BoxAnnotation\"},{\"attributes\":{\"data_source\":{\"id\":\"1197\",\"type\":\"ColumnDataSource\"},\"glyph\":{\"id\":\"1226\",\"type\":\"Circle\"},\"hover_glyph\":null,\"muted_glyph\":null,\"nonselection_glyph\":{\"id\":\"1227\",\"type\":\"Circle\"},\"selection_glyph\":null,\"view\":{\"id\":\"1224\",\"type\":\"CDSView\"}},\"id\":\"1228\",\"type\":\"GlyphRenderer\"},{\"attributes\":{},\"id\":\"1185\",\"type\":\"SaveTool\"},{\"attributes\":{\"factors\":[\"NA\",\"NOR\",\"VAG\",\"SUD\",\"SAN\",\"EYN\",\"STR\"],\"palette\":[\"#1f77b4\",\"#ff7f0e\",\"#2ca02c\",\"#d62728\",\"#9467bd\",\"#8c564b\",\"#e377c2\",\"#7f7f7f\",\"#bcbd22\",\"#17becf\"]},\"id\":\"1198\",\"type\":\"CategoricalColorMapper\"},{\"attributes\":{\"data_source\":{\"id\":\"1197\",\"type\":\"ColumnDataSource\"},\"glyph\":{\"id\":\"1208\",\"type\":\"Circle\"},\"hover_glyph\":null,\"muted_glyph\":null,\"nonselection_glyph\":{\"id\":\"1209\",\"type\":\"Circle\"},\"selection_glyph\":null,\"view\":{\"id\":\"1206\",\"type\":\"CDSView\"}},\"id\":\"1210\",\"type\":\"GlyphRenderer\"},{\"attributes\":{},\"id\":\"1263\",\"type\":\"BasicTicker\"},{\"attributes\":{\"fill_color\":{\"field\":\"label\",\"transform\":{\"id\":\"1198\",\"type\":\"CategoricalColorMapper\"}},\"line_color\":{\"field\":\"label\",\"transform\":{\"id\":\"1198\",\"type\":\"CategoricalColorMapper\"}},\"x\":{\"field\":\"x\"},\"y\":{\"field\":\"y\"}},\"id\":\"1220\",\"type\":\"Circle\"},{\"attributes\":{\"axis_label\":\"PC2 (0.49%)\",\"formatter\":{\"id\":\"1262\",\"type\":\"BasicTickFormatter\"},\"ticker\":{\"id\":\"1178\",\"type\":\"BasicTicker\"}},\"id\":\"1177\",\"type\":\"LinearAxis\"},{\"attributes\":{\"fill_alpha\":{\"value\":0.1},\"fill_color\":{\"value\":\"#1f77b4\"},\"line_alpha\":{\"value\":0.1},\"line_color\":{\"value\":\"#1f77b4\"},\"x\":{\"field\":\"x\"},\"y\":{\"field\":\"y\"}},\"id\":\"1209\",\"type\":\"Circle\"},{\"attributes\":{},\"id\":\"1173\",\"type\":\"BasicTicker\"},{\"attributes\":{},\"id\":\"1269\",\"type\":\"UnionRenderers\"},{\"attributes\":{\"column_name\":\"label\",\"group\":\"NOR\"},\"id\":\"1211\",\"type\":\"GroupFilter\"},{\"attributes\":{\"overlay\":{\"id\":\"1267\",\"type\":\"BoxAnnotation\"}},\"id\":\"1184\",\"type\":\"BoxZoomTool\"},{\"attributes\":{\"label\":{\"value\":\"EYN\"},\"renderers\":[{\"id\":\"1204\",\"type\":\"GlyphRenderer\"}]},\"id\":\"1241\",\"type\":\"LegendItem\"},{\"attributes\":{\"column_name\":\"label\",\"group\":\"STR\"},\"id\":\"1223\",\"type\":\"GroupFilter\"},{\"attributes\":{},\"id\":\"1182\",\"type\":\"PanTool\"},{\"attributes\":{\"fill_color\":{\"field\":\"label\",\"transform\":{\"id\":\"1198\",\"type\":\"CategoricalColorMapper\"}},\"line_color\":{\"field\":\"label\",\"transform\":{\"id\":\"1198\",\"type\":\"CategoricalColorMapper\"}},\"x\":{\"field\":\"x\"},\"y\":{\"field\":\"y\"}},\"id\":\"1202\",\"type\":\"Circle\"},{\"attributes\":{\"callback\":null,\"tooltips\":[[\"x\",\"@x\"],[\"y\",\"@y\"],[\"label\",\"@label\"]]},\"id\":\"1196\",\"type\":\"HoverTool\"},{\"attributes\":{},\"id\":\"1178\",\"type\":\"BasicTicker\"},{\"attributes\":{\"filters\":[{\"id\":\"1211\",\"type\":\"GroupFilter\"}],\"source\":{\"id\":\"1197\",\"type\":\"ColumnDataSource\"}},\"id\":\"1212\",\"type\":\"CDSView\"},{\"attributes\":{},\"id\":\"1262\",\"type\":\"BasicTickFormatter\"},{\"attributes\":{\"callback\":null,\"data\":{\"index\":[0,1,2,3,4,5,6,7,8,9,10,11,12,13,14,15,16,17,18,19,20,21,22,23,24,25,26,27,28,29,30,31,32,33,34,35,36,37,38,39,40,41,42,43,44,45,46,47,48,49,50,51,52,53,54,55,56,57,58,59,60,61,62,63,64,65,66,67,68,69,70,71,72,73,74,75,76,77,78,79,80,81,82,83,84,85,86,87,88,89,90,91,92,93,94,95,96,97,98,99,100,101,102,103,104,105,106,107,108,109,110,111,112,113,114,115,116,117,118,119,120,121,122,123,124,125,126,127,128,129,130,131,132,133,134,135,136,137,138,139,140,141,142,143,144,145,146,147,148,149,150,151,152,153,154,155,156,157,158,159,160,161,162,163,164,165,166,167,168,169,170,171,172,173,174,175,176,177,178,179,180,181,182,183,184,185,186,187,188,189,190,191,192,193,194,195,196,197,198,199,200,201,202,203,204,205,206,207,208,209,210,211,212,213,214,215,216,217,218,219,220,221,222,223,224,225,226,227,228,229,230,231,232,233,234,235,236,237,238,239,240,241,242,243,244,245,246,247,248,249,250,251,252,253,254,255,256,257,258,259,260,261,262,263,264,265,266,267,268,269,270,271,272,273,274,275,276,277,278,279,280,281,282,283,284,285,286,287,288,289,290,291,292,293,294,295,296,297,298,299,300,301,302,303,304,305,306,307,308,309,310,311,312,313,314,315,316,317,318,319,320,321,322,323,324,325,326,327,328,329,330,331,332,333,334,335,336,337,338,339,340,341,342,343,344,345,346,347,348,349,350,351,352,353,354,355,356,357,358,359,360,361,362,363,364,365,366,367,368,369,370,371,372,373,374,375,376],\"label\":[\"SUD\",\"STR\",\"SUD\",\"STR\",\"NA\",\"STR\",\"SUD\",\"SUD\",\"SUD\",\"SUD\",\"SUD\",\"SAN\",\"STR\",\"SAN\",\"STR\",\"SUD\",\"SUD\",\"STR\",\"SUD\",\"STR\",\"SUD\",\"SUD\",\"SUD\",\"NA\",\"NA\",\"STR\",\"NA\",\"STR\",\"SUD\",\"STR\",\"EYN\",\"EYN\",\"SAN\",\"SUD\",\"STR\",\"STR\",\"STR\",\"STR\",\"SAN\",\"STR\",\"STR\",\"SAN\",\"EYN\",\"SUD\",\"STR\",\"EYN\",\"SAN\",\"SAN\",\"STR\",\"STR\",\"STR\",\"STR\",\"STR\",\"STR\",\"SAN\",\"SUD\",\"SUD\",\"STR\",\"NOR\",\"EYN\",\"SUD\",\"STR\",\"STR\",\"VAG\",\"STR\",\"SUD\",\"SAN\",\"VAG\",\"STR\",\"STR\",\"STR\",\"NOR\",\"STR\",\"STR\",\"SUD\",\"STR\",\"STR\",\"STR\",\"VAG\",\"STR\",\"STR\",\"NA\",\"SUD\",\"STR\",\"SUD\",\"STR\",\"STR\",\"STR\",\"STR\",\"SAN\",\"STR\",\"STR\",\"EYN\",\"STR\",\"SAN\",\"STR\",\"STR\",\"STR\",\"VAG\",\"STR\",\"NOR\",\"NOR\",\"NA\",\"SAN\",\"SUD\",\"VAG\",\"STR\",\"SUD\",\"SUD\",\"STR\",\"STR\",\"VAG\",\"STR\",\"STR\",\"NOR\",\"NA\",\"STR\",\"SUD\",\"STR\",\"SUD\",\"NOR\",\"EYN\",\"STR\",\"STR\",\"NA\",\"STR\",\"NA\",\"STR\",\"STR\",\"STR\",\"STR\",\"STR\",\"NOR\",\"EYN\",\"STR\",\"STR\",\"NA\",\"VAG\",\"STR\",\"STR\",\"SUD\",\"EYN\",\"VAG\",\"STR\",\"VAG\",\"NOR\",\"NA\",\"STR\",\"NOR\",\"STR\",\"STR\",\"SUD\",\"EYN\",\"EYN\",\"STR\",\"STR\",\"STR\",\"STR\",\"EYN\",\"STR\",\"STR\",\"VAG\",\"NA\",\"STR\",\"NA\",\"SAN\",\"VAG\",\"EYN\",\"EYN\",\"STR\",\"NOR\",\"NOR\",\"STR\",\"EYN\",\"VAG\",\"NA\",\"NOR\",\"STR\",\"STR\",\"EYN\",\"STR\",\"VAG\",\"STR\",\"STR\",\"STR\",\"EYN\",\"NA\",\"STR\",\"STR\",\"VAG\",\"STR\",\"STR\",\"STR\",\"EYN\",\"STR\",\"EYN\",\"EYN\",\"STR\",\"STR\",\"NA\",\"NA\",\"NA\",\"NA\",\"EYN\",\"NOR\",\"STR\",\"STR\",\"STR\",\"EYN\",\"STR\",\"STR\",\"VAG\",\"STR\",\"EYN\",\"STR\",\"STR\",\"NOR\",\"STR\",\"EYN\",\"STR\",\"STR\",\"VAG\",\"NA\",\"STR\",\"STR\",\"STR\",\"EYN\",\"SUD\",\"VAG\",\"VAG\",\"STR\",\"STR\",\"NA\",\"VAG\",\"STR\",\"EYN\",\"VAG\",\"STR\",\"EYN\",\"STR\",\"STR\",\"EYN\",\"EYN\",\"STR\",\"VAG\",\"NOR\",\"EYN\",\"NA\",\"EYN\",\"NOR\",\"SUD\",\"EYN\",\"VAG\",\"STR\",\"NA\",\"NOR\",\"EYN\",\"STR\",\"NOR\",\"NOR\",\"STR\",\"EYN\",\"EYN\",\"EYN\",\"NOR\",\"NOR\",\"STR\",\"EYN\",\"EYN\",\"STR\",\"STR\",\"NOR\",\"NA\",\"EYN\",\"EYN\",\"NOR\",\"EYN\",\"STR\",\"NOR\",\"NOR\",\"NA\",\"STR\",\"EYN\",\"EYN\",\"STR\",\"EYN\",\"STR\",\"STR\",\"EYN\",\"EYN\",\"EYN\",\"EYN\",\"STR\",\"NOR\",\"STR\",\"NA\",\"NOR\",\"EYN\",\"EYN\",\"STR\",\"NOR\",\"EYN\",\"STR\",\"STR\",\"NOR\",\"EYN\",\"EYN\",\"STR\",\"STR\",\"NOR\",\"NOR\",\"EYN\",\"EYN\",\"STR\",\"EYN\",\"STR\",\"NA\",\"STR\",\"EYN\",\"STR\",\"EYN\",\"NOR\",\"STR\",\"STR\",\"EYN\",\"NOR\",\"NA\",\"EYN\",\"STR\",\"STR\",\"STR\",\"NOR\",\"STR\",\"STR\",\"NOR\",\"EYN\",\"EYN\",\"NA\",\"EYN\",\"EYN\",\"EYN\",\"NOR\",\"NOR\",\"EYN\",\"EYN\",\"NOR\",\"NOR\",\"EYN\",\"NOR\",\"EYN\",\"STR\",\"EYN\",\"NOR\",\"NOR\",\"NOR\",\"EYN\",\"EYN\",\"EYN\",\"NOR\",\"EYN\",\"VAG\",\"EYN\",\"NOR\",\"EYN\",\"NOR\",\"NOR\",\"NOR\",\"NOR\",\"STR\",\"EYN\",\"NOR\",\"STR\",\"NOR\",\"STR\",\"NOR\",\"NOR\",\"NOR\"],\"x\":{\"__ndarray__\":\"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\",\"dtype\":\"float64\",\"shape\":[377]},\"y\":{\"__ndarray__\":\"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\",\"dtype\":\"float64\",\"shape\":[377]}},\"selected\":{\"id\":\"1268\",\"type\":\"Selection\"},\"selection_policy\":{\"id\":\"1269\",\"type\":\"UnionRenderers\"}},\"id\":\"1197\",\"type\":\"ColumnDataSource\"},{\"attributes\":{\"filters\":[{\"id\":\"1223\",\"type\":\"GroupFilter\"}],\"source\":{\"id\":\"1197\",\"type\":\"ColumnDataSource\"}},\"id\":\"1224\",\"type\":\"CDSView\"},{\"attributes\":{\"column_name\":\"label\",\"group\":\"VAG\"},\"id\":\"1235\",\"type\":\"GroupFilter\"},{\"attributes\":{\"callback\":null},\"id\":\"1164\",\"type\":\"DataRange1d\"},{\"attributes\":{\"color_mapper\":null,\"formatter\":{\"id\":\"1264\",\"type\":\"BasicTickFormatter\"},\"ticker\":{\"id\":\"1263\",\"type\":\"BasicTicker\"},\"visible\":false},\"id\":\"1249\",\"type\":\"ColorBar\"},{\"attributes\":{\"data_source\":{\"id\":\"1197\",\"type\":\"ColumnDataSource\"},\"glyph\":{\"id\":\"1214\",\"type\":\"Circle\"},\"hover_glyph\":null,\"muted_glyph\":null,\"nonselection_glyph\":{\"id\":\"1215\",\"type\":\"Circle\"},\"selection_glyph\":null,\"view\":{\"id\":\"1212\",\"type\":\"CDSView\"}},\"id\":\"1216\",\"type\":\"GlyphRenderer\"},{\"attributes\":{\"fill_alpha\":{\"value\":0.1},\"fill_color\":{\"value\":\"#1f77b4\"},\"line_alpha\":{\"value\":0.1},\"line_color\":{\"value\":\"#1f77b4\"},\"x\":{\"field\":\"x\"},\"y\":{\"field\":\"y\"}},\"id\":\"1227\",\"type\":\"Circle\"},{\"attributes\":{},\"id\":\"1187\",\"type\":\"HelpTool\"},{\"attributes\":{\"fill_color\":{\"field\":\"label\",\"transform\":{\"id\":\"1198\",\"type\":\"CategoricalColorMapper\"}},\"line_color\":{\"field\":\"label\",\"transform\":{\"id\":\"1198\",\"type\":\"CategoricalColorMapper\"}},\"x\":{\"field\":\"x\"},\"y\":{\"field\":\"y\"}},\"id\":\"1226\",\"type\":\"Circle\"},{\"attributes\":{\"filters\":[{\"id\":\"1235\",\"type\":\"GroupFilter\"}],\"source\":{\"id\":\"1197\",\"type\":\"ColumnDataSource\"}},\"id\":\"1236\",\"type\":\"CDSView\"},{\"attributes\":{\"data_source\":{\"id\":\"1197\",\"type\":\"ColumnDataSource\"},\"glyph\":{\"id\":\"1232\",\"type\":\"Circle\"},\"hover_glyph\":null,\"muted_glyph\":null,\"nonselection_glyph\":{\"id\":\"1233\",\"type\":\"Circle\"},\"selection_glyph\":null,\"view\":{\"id\":\"1230\",\"type\":\"CDSView\"}},\"id\":\"1234\",\"type\":\"GlyphRenderer\"},{\"attributes\":{\"axis_label\":\"PC1 (0.49%)\",\"formatter\":{\"id\":\"1266\",\"type\":\"BasicTickFormatter\"},\"ticker\":{\"id\":\"1173\",\"type\":\"BasicTicker\"}},\"id\":\"1172\",\"type\":\"LinearAxis\"},{\"attributes\":{\"fill_alpha\":{\"value\":0.1},\"fill_color\":{\"value\":\"#1f77b4\"},\"line_alpha\":{\"value\":0.1},\"line_color\":{\"value\":\"#1f77b4\"},\"x\":{\"field\":\"x\"},\"y\":{\"field\":\"y\"}},\"id\":\"1215\",\"type\":\"Circle\"},{\"attributes\":{\"fill_color\":{\"field\":\"label\",\"transform\":{\"id\":\"1198\",\"type\":\"CategoricalColorMapper\"}},\"line_color\":{\"field\":\"label\",\"transform\":{\"id\":\"1198\",\"type\":\"CategoricalColorMapper\"}},\"x\":{\"field\":\"x\"},\"y\":{\"field\":\"y\"}},\"id\":\"1232\",\"type\":\"Circle\"},{\"attributes\":{},\"id\":\"1268\",\"type\":\"Selection\"},{\"attributes\":{\"column_name\":\"label\",\"group\":\"NA\"},\"id\":\"1205\",\"type\":\"GroupFilter\"},{\"attributes\":{\"fill_alpha\":{\"value\":0.1},\"fill_color\":{\"value\":\"#1f77b4\"},\"line_alpha\":{\"value\":0.1},\"line_color\":{\"value\":\"#1f77b4\"},\"x\":{\"field\":\"x\"},\"y\":{\"field\":\"y\"}},\"id\":\"1233\",\"type\":\"Circle\"},{\"attributes\":{\"filters\":[{\"id\":\"1199\",\"type\":\"GroupFilter\"}],\"source\":{\"id\":\"1197\",\"type\":\"ColumnDataSource\"}},\"id\":\"1200\",\"type\":\"CDSView\"},{\"attributes\":{},\"id\":\"1186\",\"type\":\"ResetTool\"},{\"attributes\":{\"label\":{\"value\":\"NA\"},\"renderers\":[{\"id\":\"1210\",\"type\":\"GlyphRenderer\"}]},\"id\":\"1242\",\"type\":\"LegendItem\"},{\"attributes\":{},\"id\":\"1168\",\"type\":\"LinearScale\"},{\"attributes\":{\"click_policy\":\"hide\",\"items\":[{\"id\":\"1241\",\"type\":\"LegendItem\"},{\"id\":\"1242\",\"type\":\"LegendItem\"},{\"id\":\"1243\",\"type\":\"LegendItem\"},{\"id\":\"1244\",\"type\":\"LegendItem\"},{\"id\":\"1245\",\"type\":\"LegendItem\"},{\"id\":\"1246\",\"type\":\"LegendItem\"},{\"id\":\"1247\",\"type\":\"LegendItem\"}]},\"id\":\"1248\",\"type\":\"Legend\"},{\"attributes\":{\"fill_color\":{\"field\":\"label\",\"transform\":{\"id\":\"1198\",\"type\":\"CategoricalColorMapper\"}},\"line_color\":{\"field\":\"label\",\"transform\":{\"id\":\"1198\",\"type\":\"CategoricalColorMapper\"}},\"x\":{\"field\":\"x\"},\"y\":{\"field\":\"y\"}},\"id\":\"1238\",\"type\":\"Circle\"},{\"attributes\":{\"column_name\":\"label\",\"group\":\"SAN\"},\"id\":\"1217\",\"type\":\"GroupFilter\"},{\"attributes\":{\"callback\":null},\"id\":\"1166\",\"type\":\"DataRange1d\"},{\"attributes\":{\"data_source\":{\"id\":\"1197\",\"type\":\"ColumnDataSource\"},\"glyph\":{\"id\":\"1220\",\"type\":\"Circle\"},\"hover_glyph\":null,\"muted_glyph\":null,\"nonselection_glyph\":{\"id\":\"1221\",\"type\":\"Circle\"},\"selection_glyph\":null,\"view\":{\"id\":\"1218\",\"type\":\"CDSView\"}},\"id\":\"1222\",\"type\":\"GlyphRenderer\"},{\"attributes\":{\"dimension\":1,\"ticker\":{\"id\":\"1178\",\"type\":\"BasicTicker\"}},\"id\":\"1181\",\"type\":\"Grid\"},{\"attributes\":{\"filters\":[{\"id\":\"1217\",\"type\":\"GroupFilter\"}],\"source\":{\"id\":\"1197\",\"type\":\"ColumnDataSource\"}},\"id\":\"1218\",\"type\":\"CDSView\"},{\"attributes\":{},\"id\":\"1183\",\"type\":\"WheelZoomTool\"},{\"attributes\":{\"label\":{\"value\":\"STR\"},\"renderers\":[{\"id\":\"1228\",\"type\":\"GlyphRenderer\"}]},\"id\":\"1245\",\"type\":\"LegendItem\"},{\"attributes\":{\"label\":{\"value\":\"VAG\"},\"renderers\":[{\"id\":\"1240\",\"type\":\"GlyphRenderer\"}]},\"id\":\"1247\",\"type\":\"LegendItem\"},{\"attributes\":{\"fill_alpha\":{\"value\":0.1},\"fill_color\":{\"value\":\"#1f77b4\"},\"line_alpha\":{\"value\":0.1},\"line_color\":{\"value\":\"#1f77b4\"},\"x\":{\"field\":\"x\"},\"y\":{\"field\":\"y\"}},\"id\":\"1239\",\"type\":\"Circle\"},{\"attributes\":{\"active_drag\":\"auto\",\"active_inspect\":\"auto\",\"active_multi\":null,\"active_scroll\":\"auto\",\"active_tap\":\"auto\",\"tools\":[{\"id\":\"1182\",\"type\":\"PanTool\"},{\"id\":\"1183\",\"type\":\"WheelZoomTool\"},{\"id\":\"1184\",\"type\":\"BoxZoomTool\"},{\"id\":\"1185\",\"type\":\"SaveTool\"},{\"id\":\"1186\",\"type\":\"ResetTool\"},{\"id\":\"1187\",\"type\":\"HelpTool\"},{\"id\":\"1196\",\"type\":\"HoverTool\"}]},\"id\":\"1188\",\"type\":\"Toolbar\"},{\"attributes\":{\"data_source\":{\"id\":\"1197\",\"type\":\"ColumnDataSource\"},\"glyph\":{\"id\":\"1238\",\"type\":\"Circle\"},\"hover_glyph\":null,\"muted_glyph\":null,\"nonselection_glyph\":{\"id\":\"1239\",\"type\":\"Circle\"},\"selection_glyph\":null,\"view\":{\"id\":\"1236\",\"type\":\"CDSView\"}},\"id\":\"1240\",\"type\":\"GlyphRenderer\"},{\"attributes\":{\"text\":\"PCA\"},\"id\":\"1162\",\"type\":\"Title\"},{\"attributes\":{\"fill_color\":{\"field\":\"label\",\"transform\":{\"id\":\"1198\",\"type\":\"CategoricalColorMapper\"}},\"line_color\":{\"field\":\"label\",\"transform\":{\"id\":\"1198\",\"type\":\"CategoricalColorMapper\"}},\"x\":{\"field\":\"x\"},\"y\":{\"field\":\"y\"}},\"id\":\"1208\",\"type\":\"Circle\"},{\"attributes\":{\"label\":{\"value\":\"SUD\"},\"renderers\":[{\"id\":\"1234\",\"type\":\"GlyphRenderer\"}]},\"id\":\"1246\",\"type\":\"LegendItem\"},{\"attributes\":{\"label\":{\"value\":\"SAN\"},\"renderers\":[{\"id\":\"1222\",\"type\":\"GlyphRenderer\"}]},\"id\":\"1244\",\"type\":\"LegendItem\"}],\"root_ids\":[\"1161\"]},\"title\":\"Bokeh Application\",\"version\":\"1.2.0\"}};\n",
       "  var render_items = [{\"docid\":\"d41bf2ae-6ba6-4480-9e96-f51e60a6fce0\",\"roots\":{\"1161\":\"06c727cc-af3d-4be8-81a6-fc368eaec5cc\"}}];\n",
       "  root.Bokeh.embed.embed_items_notebook(docs_json, render_items);\n",
       "\n",
       "  }\n",
       "  if (root.Bokeh !== undefined) {\n",
       "    embed_document(root);\n",
       "  } else {\n",
       "    var attempts = 0;\n",
       "    var timer = setInterval(function(root) {\n",
       "      if (root.Bokeh !== undefined) {\n",
       "        embed_document(root);\n",
       "        clearInterval(timer);\n",
       "      }\n",
       "      attempts++;\n",
       "      if (attempts > 100) {\n",
       "        console.log(\"Bokeh: ERROR: Unable to run BokehJS code because BokehJS library is missing\");\n",
       "        clearInterval(timer);\n",
       "      }\n",
       "    }, 10, root)\n",
       "  }\n",
       "})(window);"
      ],
      "application/vnd.bokehjs_exec.v0+json": ""
     },
     "metadata": {
      "application/vnd.bokehjs_exec.v0+json": {
       "id": "1161"
      }
     },
     "output_type": "display_data"
    }
   ],
   "source": [
    "pc_idx1 = 0\n",
    "pc_idx2 = 1\n",
    "p = hl.plot.scatter(mt.scores[pc_idx1],\n",
    "                    mt.scores[pc_idx2],\n",
    "                    label=hl.str(mt.birthplace),\n",
    "                    title='PCA', xlabel='PC{n} ({p:.2f}%)'.format(n=pc_idx1+1, p=prop_var[pc_idx1] * 100), ylabel='PC{n} ({p:.2f}%)'.format(n=pc_idx2+1, p=prop_var[pc_idx1] * 100))\n",
    "p.plot_width = 800\n",
    "p.plot_height = 600\n",
    "show(p)"
   ]
  },
  {
   "cell_type": "code",
   "execution_count": 18,
   "metadata": {},
   "outputs": [
    {
     "data": {
      "text/html": [
       "\n",
       "\n",
       "\n",
       "\n",
       "\n",
       "\n",
       "  <div class=\"bk-root\" id=\"33317a92-4ef5-4fac-9828-addf18b5f3cc\" data-root-id=\"1330\"></div>\n"
      ]
     },
     "metadata": {},
     "output_type": "display_data"
    },
    {
     "data": {
      "application/javascript": [
       "(function(root) {\n",
       "  function embed_document(root) {\n",
       "    \n",
       "  var docs_json = {\"10ad5109-8ae2-49f7-be24-377210deb0f2\":{\"roots\":{\"references\":[{\"attributes\":{\"below\":[{\"id\":\"1341\",\"type\":\"LinearAxis\"}],\"center\":[{\"id\":\"1345\",\"type\":\"Grid\"},{\"id\":\"1350\",\"type\":\"Grid\"}],\"left\":[{\"id\":\"1346\",\"type\":\"LinearAxis\"},{\"id\":\"1417\",\"type\":\"Legend\"},{\"id\":\"1418\",\"type\":\"ColorBar\"}],\"plot_height\":600,\"plot_width\":800,\"renderers\":[{\"id\":\"1373\",\"type\":\"GlyphRenderer\"},{\"id\":\"1379\",\"type\":\"GlyphRenderer\"},{\"id\":\"1385\",\"type\":\"GlyphRenderer\"},{\"id\":\"1391\",\"type\":\"GlyphRenderer\"},{\"id\":\"1397\",\"type\":\"GlyphRenderer\"},{\"id\":\"1403\",\"type\":\"GlyphRenderer\"},{\"id\":\"1409\",\"type\":\"GlyphRenderer\"}],\"title\":{\"id\":\"1331\",\"type\":\"Title\"},\"toolbar\":{\"id\":\"1357\",\"type\":\"Toolbar\"},\"x_range\":{\"id\":\"1333\",\"type\":\"DataRange1d\"},\"x_scale\":{\"id\":\"1337\",\"type\":\"LinearScale\"},\"y_range\":{\"id\":\"1335\",\"type\":\"DataRange1d\"},\"y_scale\":{\"id\":\"1339\",\"type\":\"LinearScale\"}},\"id\":\"1330\",\"subtype\":\"Figure\",\"type\":\"Plot\"},{\"attributes\":{\"active_drag\":\"auto\",\"active_inspect\":\"auto\",\"active_multi\":null,\"active_scroll\":\"auto\",\"active_tap\":\"auto\",\"tools\":[{\"id\":\"1351\",\"type\":\"PanTool\"},{\"id\":\"1352\",\"type\":\"WheelZoomTool\"},{\"id\":\"1353\",\"type\":\"BoxZoomTool\"},{\"id\":\"1354\",\"type\":\"SaveTool\"},{\"id\":\"1355\",\"type\":\"ResetTool\"},{\"id\":\"1356\",\"type\":\"HelpTool\"},{\"id\":\"1365\",\"type\":\"HoverTool\"}]},\"id\":\"1357\",\"type\":\"Toolbar\"},{\"attributes\":{\"filters\":[{\"id\":\"1398\",\"type\":\"GroupFilter\"}],\"source\":{\"id\":\"1366\",\"type\":\"ColumnDataSource\"}},\"id\":\"1399\",\"type\":\"CDSView\"},{\"attributes\":{\"data_source\":{\"id\":\"1366\",\"type\":\"ColumnDataSource\"},\"glyph\":{\"id\":\"1389\",\"type\":\"Circle\"},\"hover_glyph\":null,\"muted_glyph\":null,\"nonselection_glyph\":{\"id\":\"1390\",\"type\":\"Circle\"},\"selection_glyph\":null,\"view\":{\"id\":\"1387\",\"type\":\"CDSView\"}},\"id\":\"1391\",\"type\":\"GlyphRenderer\"},{\"attributes\":{\"fill_color\":{\"field\":\"label\",\"transform\":{\"id\":\"1367\",\"type\":\"CategoricalColorMapper\"}},\"line_color\":{\"field\":\"label\",\"transform\":{\"id\":\"1367\",\"type\":\"CategoricalColorMapper\"}},\"x\":{\"field\":\"x\"},\"y\":{\"field\":\"y\"}},\"id\":\"1401\",\"type\":\"Circle\"},{\"attributes\":{\"fill_alpha\":{\"value\":0.1},\"fill_color\":{\"value\":\"#1f77b4\"},\"line_alpha\":{\"value\":0.1},\"line_color\":{\"value\":\"#1f77b4\"},\"x\":{\"field\":\"x\"},\"y\":{\"field\":\"y\"}},\"id\":\"1408\",\"type\":\"Circle\"},{\"attributes\":{\"column_name\":\"label\",\"group\":\"STR\"},\"id\":\"1392\",\"type\":\"GroupFilter\"},{\"attributes\":{\"data_source\":{\"id\":\"1366\",\"type\":\"ColumnDataSource\"},\"glyph\":{\"id\":\"1371\",\"type\":\"Circle\"},\"hover_glyph\":null,\"muted_glyph\":null,\"nonselection_glyph\":{\"id\":\"1372\",\"type\":\"Circle\"},\"selection_glyph\":null,\"view\":{\"id\":\"1369\",\"type\":\"CDSView\"}},\"id\":\"1373\",\"type\":\"GlyphRenderer\"},{\"attributes\":{\"axis_label\":\"PC1 (0.49%)\",\"formatter\":{\"id\":\"1445\",\"type\":\"BasicTickFormatter\"},\"ticker\":{\"id\":\"1342\",\"type\":\"BasicTicker\"}},\"id\":\"1341\",\"type\":\"LinearAxis\"},{\"attributes\":{},\"id\":\"1354\",\"type\":\"SaveTool\"},{\"attributes\":{\"filters\":[{\"id\":\"1374\",\"type\":\"GroupFilter\"}],\"source\":{\"id\":\"1366\",\"type\":\"ColumnDataSource\"}},\"id\":\"1375\",\"type\":\"CDSView\"},{\"attributes\":{\"filters\":[{\"id\":\"1392\",\"type\":\"GroupFilter\"}],\"source\":{\"id\":\"1366\",\"type\":\"ColumnDataSource\"}},\"id\":\"1393\",\"type\":\"CDSView\"},{\"attributes\":{\"column_name\":\"label\",\"group\":\"SAN\"},\"id\":\"1386\",\"type\":\"GroupFilter\"},{\"attributes\":{},\"id\":\"1443\",\"type\":\"BasicTickFormatter\"},{\"attributes\":{\"fill_alpha\":{\"value\":0.1},\"fill_color\":{\"value\":\"#1f77b4\"},\"line_alpha\":{\"value\":0.1},\"line_color\":{\"value\":\"#1f77b4\"},\"x\":{\"field\":\"x\"},\"y\":{\"field\":\"y\"}},\"id\":\"1390\",\"type\":\"Circle\"},{\"attributes\":{\"fill_alpha\":{\"value\":0.1},\"fill_color\":{\"value\":\"#1f77b4\"},\"line_alpha\":{\"value\":0.1},\"line_color\":{\"value\":\"#1f77b4\"},\"x\":{\"field\":\"x\"},\"y\":{\"field\":\"y\"}},\"id\":\"1402\",\"type\":\"Circle\"},{\"attributes\":{\"fill_alpha\":{\"value\":0.1},\"fill_color\":{\"value\":\"#1f77b4\"},\"line_alpha\":{\"value\":0.1},\"line_color\":{\"value\":\"#1f77b4\"},\"x\":{\"field\":\"x\"},\"y\":{\"field\":\"y\"}},\"id\":\"1396\",\"type\":\"Circle\"},{\"attributes\":{\"fill_color\":{\"field\":\"label\",\"transform\":{\"id\":\"1367\",\"type\":\"CategoricalColorMapper\"}},\"line_color\":{\"field\":\"label\",\"transform\":{\"id\":\"1367\",\"type\":\"CategoricalColorMapper\"}},\"x\":{\"field\":\"x\"},\"y\":{\"field\":\"y\"}},\"id\":\"1407\",\"type\":\"Circle\"},{\"attributes\":{\"dimension\":1,\"ticker\":{\"id\":\"1347\",\"type\":\"BasicTicker\"}},\"id\":\"1350\",\"type\":\"Grid\"},{\"attributes\":{\"label\":{\"value\":\"NOR\"},\"renderers\":[{\"id\":\"1385\",\"type\":\"GlyphRenderer\"}]},\"id\":\"1412\",\"type\":\"LegendItem\"},{\"attributes\":{\"label\":{\"value\":\"VAG\"},\"renderers\":[{\"id\":\"1409\",\"type\":\"GlyphRenderer\"}]},\"id\":\"1416\",\"type\":\"LegendItem\"},{\"attributes\":{\"filters\":[{\"id\":\"1368\",\"type\":\"GroupFilter\"}],\"source\":{\"id\":\"1366\",\"type\":\"ColumnDataSource\"}},\"id\":\"1369\",\"type\":\"CDSView\"},{\"attributes\":{\"column_name\":\"label\",\"group\":\"SUD\"},\"id\":\"1398\",\"type\":\"GroupFilter\"},{\"attributes\":{},\"id\":\"1447\",\"type\":\"Selection\"},{\"attributes\":{\"column_name\":\"label\",\"group\":\"EYN\"},\"id\":\"1368\",\"type\":\"GroupFilter\"},{\"attributes\":{\"click_policy\":\"hide\",\"items\":[{\"id\":\"1410\",\"type\":\"LegendItem\"},{\"id\":\"1411\",\"type\":\"LegendItem\"},{\"id\":\"1412\",\"type\":\"LegendItem\"},{\"id\":\"1413\",\"type\":\"LegendItem\"},{\"id\":\"1414\",\"type\":\"LegendItem\"},{\"id\":\"1415\",\"type\":\"LegendItem\"},{\"id\":\"1416\",\"type\":\"LegendItem\"}]},\"id\":\"1417\",\"type\":\"Legend\"},{\"attributes\":{\"data_source\":{\"id\":\"1366\",\"type\":\"ColumnDataSource\"},\"glyph\":{\"id\":\"1407\",\"type\":\"Circle\"},\"hover_glyph\":null,\"muted_glyph\":null,\"nonselection_glyph\":{\"id\":\"1408\",\"type\":\"Circle\"},\"selection_glyph\":null,\"view\":{\"id\":\"1405\",\"type\":\"CDSView\"}},\"id\":\"1409\",\"type\":\"GlyphRenderer\"},{\"attributes\":{\"fill_alpha\":{\"value\":0.1},\"fill_color\":{\"value\":\"#1f77b4\"},\"line_alpha\":{\"value\":0.1},\"line_color\":{\"value\":\"#1f77b4\"},\"x\":{\"field\":\"x\"},\"y\":{\"field\":\"y\"}},\"id\":\"1372\",\"type\":\"Circle\"},{\"attributes\":{},\"id\":\"1342\",\"type\":\"BasicTicker\"},{\"attributes\":{},\"id\":\"1442\",\"type\":\"BasicTicker\"},{\"attributes\":{\"callback\":null,\"data\":{\"index\":[0,1,2,3,4,5,6,7,8,9,10,11,12,13,14,15,16,17,18,19,20,21,22,23,24,25,26,27,28,29,30,31,32,33,34,35,36,37,38,39,40,41,42,43,44,45,46,47,48,49,50,51,52,53,54,55,56,57,58,59,60,61,62,63,64,65,66,67,68,69,70,71,72,73,74,75,76,77,78,79,80,81,82,83,84,85,86,87,88,89,90,91,92,93,94,95,96,97,98,99,100,101,102,103,104,105,106,107,108,109,110,111,112,113,114,115,116,117,118,119,120,121,122,123,124,125,126,127,128,129,130,131,132,133,134,135,136,137,138,139,140,141,142,143,144,145,146,147,148,149,150,151,152,153,154,155,156,157,158,159,160,161,162,163,164,165,166,167,168,169,170,171,172,173,174,175,176,177,178,179,180,181,182,183,184,185,186,187,188,189,190,191,192,193,194,195,196,197,198,199,200,201,202,203,204,205,206,207,208,209,210,211,212,213,214,215,216,217,218,219,220,221,222,223,224,225,226,227,228,229,230,231,232,233,234,235,236,237,238,239,240,241,242,243,244,245,246,247,248,249,250,251,252,253,254,255,256,257,258,259,260,261,262,263,264,265,266,267,268,269,270,271,272,273,274,275,276,277,278,279,280,281,282,283,284,285,286,287,288,289,290,291,292,293,294,295,296,297,298,299,300,301,302,303,304,305,306,307,308,309,310,311,312,313,314,315,316,317,318,319,320,321,322,323,324,325,326,327,328,329,330,331,332,333,334,335,336,337,338,339,340,341,342,343,344,345,346,347,348,349,350,351,352,353,354,355,356,357,358,359,360,361,362,363,364,365,366,367,368,369,370,371,372,373,374,375,376],\"label\":[\"SUD\",\"STR\",\"SUD\",\"STR\",\"NA\",\"STR\",\"SUD\",\"SUD\",\"SUD\",\"SUD\",\"SUD\",\"SAN\",\"SAN\",\"STR\",\"STR\",\"SUD\",\"SUD\",\"STR\",\"SUD\",\"STR\",\"SUD\",\"SUD\",\"SUD\",\"NA\",\"NA\",\"STR\",\"NA\",\"STR\",\"SUD\",\"STR\",\"EYN\",\"EYN\",\"SAN\",\"SUD\",\"STR\",\"STR\",\"STR\",\"STR\",\"SAN\",\"STR\",\"STR\",\"SAN\",\"EYN\",\"SUD\",\"STR\",\"EYN\",\"SAN\",\"SAN\",\"STR\",\"STR\",\"STR\",\"STR\",\"STR\",\"STR\",\"SAN\",\"SUD\",\"STR\",\"SUD\",\"NOR\",\"SUD\",\"EYN\",\"STR\",\"STR\",\"STR\",\"VAG\",\"SUD\",\"SAN\",\"VAG\",\"STR\",\"STR\",\"STR\",\"NOR\",\"STR\",\"STR\",\"STR\",\"STR\",\"SUD\",\"STR\",\"VAG\",\"STR\",\"STR\",\"SUD\",\"NA\",\"SUD\",\"STR\",\"STR\",\"STR\",\"STR\",\"STR\",\"SAN\",\"STR\",\"STR\",\"EYN\",\"STR\",\"SAN\",\"STR\",\"STR\",\"STR\",\"VAG\",\"STR\",\"NA\",\"SAN\",\"NOR\",\"SUD\",\"NOR\",\"VAG\",\"STR\",\"SUD\",\"SUD\",\"STR\",\"STR\",\"VAG\",\"STR\",\"STR\",\"NOR\",\"NA\",\"STR\",\"SUD\",\"SUD\",\"STR\",\"EYN\",\"NOR\",\"STR\",\"STR\",\"STR\",\"NA\",\"NA\",\"STR\",\"STR\",\"STR\",\"STR\",\"STR\",\"STR\",\"NOR\",\"EYN\",\"STR\",\"NA\",\"VAG\",\"STR\",\"STR\",\"SUD\",\"EYN\",\"VAG\",\"STR\",\"VAG\",\"NOR\",\"STR\",\"NOR\",\"NA\",\"STR\",\"SUD\",\"EYN\",\"STR\",\"EYN\",\"STR\",\"STR\",\"STR\",\"STR\",\"STR\",\"EYN\",\"VAG\",\"STR\",\"NA\",\"NA\",\"STR\",\"SAN\",\"EYN\",\"EYN\",\"STR\",\"VAG\",\"NOR\",\"NOR\",\"EYN\",\"STR\",\"VAG\",\"NA\",\"STR\",\"NOR\",\"STR\",\"EYN\",\"VAG\",\"STR\",\"STR\",\"STR\",\"NA\",\"STR\",\"EYN\",\"STR\",\"STR\",\"VAG\",\"STR\",\"EYN\",\"STR\",\"STR\",\"STR\",\"EYN\",\"EYN\",\"STR\",\"STR\",\"NA\",\"NA\",\"NA\",\"NA\",\"EYN\",\"STR\",\"NOR\",\"STR\",\"EYN\",\"STR\",\"STR\",\"VAG\",\"STR\",\"STR\",\"STR\",\"EYN\",\"STR\",\"EYN\",\"STR\",\"NOR\",\"STR\",\"STR\",\"VAG\",\"NA\",\"STR\",\"STR\",\"VAG\",\"SUD\",\"STR\",\"STR\",\"EYN\",\"VAG\",\"STR\",\"NA\",\"VAG\",\"STR\",\"EYN\",\"STR\",\"EYN\",\"STR\",\"EYN\",\"STR\",\"STR\",\"EYN\",\"VAG\",\"EYN\",\"NOR\",\"EYN\",\"NA\",\"NOR\",\"SUD\",\"EYN\",\"VAG\",\"NA\",\"STR\",\"EYN\",\"NOR\",\"NOR\",\"STR\",\"STR\",\"NOR\",\"EYN\",\"EYN\",\"EYN\",\"NOR\",\"STR\",\"STR\",\"NOR\",\"EYN\",\"EYN\",\"STR\",\"EYN\",\"NA\",\"NOR\",\"EYN\",\"NOR\",\"EYN\",\"STR\",\"NA\",\"NOR\",\"STR\",\"EYN\",\"NOR\",\"STR\",\"STR\",\"EYN\",\"EYN\",\"STR\",\"EYN\",\"STR\",\"EYN\",\"EYN\",\"EYN\",\"STR\",\"STR\",\"NOR\",\"NA\",\"NOR\",\"EYN\",\"EYN\",\"NOR\",\"STR\",\"EYN\",\"STR\",\"STR\",\"EYN\",\"NOR\",\"STR\",\"EYN\",\"STR\",\"NOR\",\"EYN\",\"NOR\",\"EYN\",\"STR\",\"EYN\",\"STR\",\"STR\",\"EYN\",\"NA\",\"STR\",\"EYN\",\"STR\",\"STR\",\"EYN\",\"NOR\",\"EYN\",\"NOR\",\"NA\",\"STR\",\"STR\",\"STR\",\"STR\",\"NOR\",\"NOR\",\"STR\",\"EYN\",\"EYN\",\"EYN\",\"NA\",\"EYN\",\"EYN\",\"NOR\",\"EYN\",\"EYN\",\"NOR\",\"NOR\",\"NOR\",\"EYN\",\"EYN\",\"NOR\",\"STR\",\"EYN\",\"NOR\",\"NOR\",\"EYN\",\"NOR\",\"EYN\",\"NOR\",\"EYN\",\"EYN\",\"EYN\",\"VAG\",\"NOR\",\"EYN\",\"NOR\",\"NOR\",\"NOR\",\"NOR\",\"STR\",\"EYN\",\"NOR\",\"STR\",\"NOR\",\"STR\",\"NOR\",\"NOR\",\"NOR\"],\"x\":{\"__ndarray__\":\"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\",\"dtype\":\"float64\",\"shape\":[377]},\"y\":{\"__ndarray__\":\"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\",\"dtype\":\"float64\",\"shape\":[377]}},\"selected\":{\"id\":\"1447\",\"type\":\"Selection\"},\"selection_policy\":{\"id\":\"1448\",\"type\":\"UnionRenderers\"}},\"id\":\"1366\",\"type\":\"ColumnDataSource\"},{\"attributes\":{\"fill_color\":{\"field\":\"label\",\"transform\":{\"id\":\"1367\",\"type\":\"CategoricalColorMapper\"}},\"line_color\":{\"field\":\"label\",\"transform\":{\"id\":\"1367\",\"type\":\"CategoricalColorMapper\"}},\"x\":{\"field\":\"x\"},\"y\":{\"field\":\"y\"}},\"id\":\"1377\",\"type\":\"Circle\"},{\"attributes\":{\"filters\":[{\"id\":\"1404\",\"type\":\"GroupFilter\"}],\"source\":{\"id\":\"1366\",\"type\":\"ColumnDataSource\"}},\"id\":\"1405\",\"type\":\"CDSView\"},{\"attributes\":{},\"id\":\"1337\",\"type\":\"LinearScale\"},{\"attributes\":{},\"id\":\"1445\",\"type\":\"BasicTickFormatter\"},{\"attributes\":{},\"id\":\"1355\",\"type\":\"ResetTool\"},{\"attributes\":{\"column_name\":\"label\",\"group\":\"VAG\"},\"id\":\"1404\",\"type\":\"GroupFilter\"},{\"attributes\":{},\"id\":\"1339\",\"type\":\"LinearScale\"},{\"attributes\":{\"filters\":[{\"id\":\"1380\",\"type\":\"GroupFilter\"}],\"source\":{\"id\":\"1366\",\"type\":\"ColumnDataSource\"}},\"id\":\"1381\",\"type\":\"CDSView\"},{\"attributes\":{\"callback\":null},\"id\":\"1335\",\"type\":\"DataRange1d\"},{\"attributes\":{\"data_source\":{\"id\":\"1366\",\"type\":\"ColumnDataSource\"},\"glyph\":{\"id\":\"1401\",\"type\":\"Circle\"},\"hover_glyph\":null,\"muted_glyph\":null,\"nonselection_glyph\":{\"id\":\"1402\",\"type\":\"Circle\"},\"selection_glyph\":null,\"view\":{\"id\":\"1399\",\"type\":\"CDSView\"}},\"id\":\"1403\",\"type\":\"GlyphRenderer\"},{\"attributes\":{\"fill_color\":{\"field\":\"label\",\"transform\":{\"id\":\"1367\",\"type\":\"CategoricalColorMapper\"}},\"line_color\":{\"field\":\"label\",\"transform\":{\"id\":\"1367\",\"type\":\"CategoricalColorMapper\"}},\"x\":{\"field\":\"x\"},\"y\":{\"field\":\"y\"}},\"id\":\"1371\",\"type\":\"Circle\"},{\"attributes\":{\"label\":{\"value\":\"EYN\"},\"renderers\":[{\"id\":\"1373\",\"type\":\"GlyphRenderer\"}]},\"id\":\"1410\",\"type\":\"LegendItem\"},{\"attributes\":{\"factors\":[\"NA\",\"NOR\",\"VAG\",\"SUD\",\"SAN\",\"EYN\",\"STR\"],\"palette\":[\"#1f77b4\",\"#ff7f0e\",\"#2ca02c\",\"#d62728\",\"#9467bd\",\"#8c564b\",\"#e377c2\",\"#7f7f7f\",\"#bcbd22\",\"#17becf\"]},\"id\":\"1367\",\"type\":\"CategoricalColorMapper\"},{\"attributes\":{\"callback\":null,\"tooltips\":[[\"x\",\"@x\"],[\"y\",\"@y\"],[\"label\",\"@label\"]]},\"id\":\"1365\",\"type\":\"HoverTool\"},{\"attributes\":{\"color_mapper\":null,\"formatter\":{\"id\":\"1443\",\"type\":\"BasicTickFormatter\"},\"ticker\":{\"id\":\"1442\",\"type\":\"BasicTicker\"},\"visible\":false},\"id\":\"1418\",\"type\":\"ColorBar\"},{\"attributes\":{},\"id\":\"1441\",\"type\":\"BasicTickFormatter\"},{\"attributes\":{\"fill_alpha\":{\"value\":0.1},\"fill_color\":{\"value\":\"#1f77b4\"},\"line_alpha\":{\"value\":0.1},\"line_color\":{\"value\":\"#1f77b4\"},\"x\":{\"field\":\"x\"},\"y\":{\"field\":\"y\"}},\"id\":\"1378\",\"type\":\"Circle\"},{\"attributes\":{\"text\":\"PCA\"},\"id\":\"1331\",\"type\":\"Title\"},{\"attributes\":{},\"id\":\"1347\",\"type\":\"BasicTicker\"},{\"attributes\":{\"column_name\":\"label\",\"group\":\"NOR\"},\"id\":\"1380\",\"type\":\"GroupFilter\"},{\"attributes\":{\"callback\":null},\"id\":\"1333\",\"type\":\"DataRange1d\"},{\"attributes\":{},\"id\":\"1356\",\"type\":\"HelpTool\"},{\"attributes\":{\"fill_color\":{\"field\":\"label\",\"transform\":{\"id\":\"1367\",\"type\":\"CategoricalColorMapper\"}},\"line_color\":{\"field\":\"label\",\"transform\":{\"id\":\"1367\",\"type\":\"CategoricalColorMapper\"}},\"x\":{\"field\":\"x\"},\"y\":{\"field\":\"y\"}},\"id\":\"1389\",\"type\":\"Circle\"},{\"attributes\":{\"data_source\":{\"id\":\"1366\",\"type\":\"ColumnDataSource\"},\"glyph\":{\"id\":\"1377\",\"type\":\"Circle\"},\"hover_glyph\":null,\"muted_glyph\":null,\"nonselection_glyph\":{\"id\":\"1378\",\"type\":\"Circle\"},\"selection_glyph\":null,\"view\":{\"id\":\"1375\",\"type\":\"CDSView\"}},\"id\":\"1379\",\"type\":\"GlyphRenderer\"},{\"attributes\":{\"label\":{\"value\":\"SUD\"},\"renderers\":[{\"id\":\"1403\",\"type\":\"GlyphRenderer\"}]},\"id\":\"1415\",\"type\":\"LegendItem\"},{\"attributes\":{\"fill_alpha\":{\"value\":0.1},\"fill_color\":{\"value\":\"#1f77b4\"},\"line_alpha\":{\"value\":0.1},\"line_color\":{\"value\":\"#1f77b4\"},\"x\":{\"field\":\"x\"},\"y\":{\"field\":\"y\"}},\"id\":\"1384\",\"type\":\"Circle\"},{\"attributes\":{\"fill_color\":{\"field\":\"label\",\"transform\":{\"id\":\"1367\",\"type\":\"CategoricalColorMapper\"}},\"line_color\":{\"field\":\"label\",\"transform\":{\"id\":\"1367\",\"type\":\"CategoricalColorMapper\"}},\"x\":{\"field\":\"x\"},\"y\":{\"field\":\"y\"}},\"id\":\"1395\",\"type\":\"Circle\"},{\"attributes\":{\"data_source\":{\"id\":\"1366\",\"type\":\"ColumnDataSource\"},\"glyph\":{\"id\":\"1383\",\"type\":\"Circle\"},\"hover_glyph\":null,\"muted_glyph\":null,\"nonselection_glyph\":{\"id\":\"1384\",\"type\":\"Circle\"},\"selection_glyph\":null,\"view\":{\"id\":\"1381\",\"type\":\"CDSView\"}},\"id\":\"1385\",\"type\":\"GlyphRenderer\"},{\"attributes\":{\"label\":{\"value\":\"NA\"},\"renderers\":[{\"id\":\"1379\",\"type\":\"GlyphRenderer\"}]},\"id\":\"1411\",\"type\":\"LegendItem\"},{\"attributes\":{\"label\":{\"value\":\"STR\"},\"renderers\":[{\"id\":\"1397\",\"type\":\"GlyphRenderer\"}]},\"id\":\"1414\",\"type\":\"LegendItem\"},{\"attributes\":{\"label\":{\"value\":\"SAN\"},\"renderers\":[{\"id\":\"1391\",\"type\":\"GlyphRenderer\"}]},\"id\":\"1413\",\"type\":\"LegendItem\"},{\"attributes\":{\"ticker\":{\"id\":\"1342\",\"type\":\"BasicTicker\"}},\"id\":\"1345\",\"type\":\"Grid\"},{\"attributes\":{},\"id\":\"1351\",\"type\":\"PanTool\"},{\"attributes\":{\"filters\":[{\"id\":\"1386\",\"type\":\"GroupFilter\"}],\"source\":{\"id\":\"1366\",\"type\":\"ColumnDataSource\"}},\"id\":\"1387\",\"type\":\"CDSView\"},{\"attributes\":{},\"id\":\"1448\",\"type\":\"UnionRenderers\"},{\"attributes\":{},\"id\":\"1352\",\"type\":\"WheelZoomTool\"},{\"attributes\":{\"bottom_units\":\"screen\",\"fill_alpha\":{\"value\":0.5},\"fill_color\":{\"value\":\"lightgrey\"},\"left_units\":\"screen\",\"level\":\"overlay\",\"line_alpha\":{\"value\":1.0},\"line_color\":{\"value\":\"black\"},\"line_dash\":[4,4],\"line_width\":{\"value\":2},\"render_mode\":\"css\",\"right_units\":\"screen\",\"top_units\":\"screen\"},\"id\":\"1446\",\"type\":\"BoxAnnotation\"},{\"attributes\":{\"column_name\":\"label\",\"group\":\"NA\"},\"id\":\"1374\",\"type\":\"GroupFilter\"},{\"attributes\":{\"axis_label\":\"PC3 (0.49%)\",\"formatter\":{\"id\":\"1441\",\"type\":\"BasicTickFormatter\"},\"ticker\":{\"id\":\"1347\",\"type\":\"BasicTicker\"}},\"id\":\"1346\",\"type\":\"LinearAxis\"},{\"attributes\":{\"fill_color\":{\"field\":\"label\",\"transform\":{\"id\":\"1367\",\"type\":\"CategoricalColorMapper\"}},\"line_color\":{\"field\":\"label\",\"transform\":{\"id\":\"1367\",\"type\":\"CategoricalColorMapper\"}},\"x\":{\"field\":\"x\"},\"y\":{\"field\":\"y\"}},\"id\":\"1383\",\"type\":\"Circle\"},{\"attributes\":{\"data_source\":{\"id\":\"1366\",\"type\":\"ColumnDataSource\"},\"glyph\":{\"id\":\"1395\",\"type\":\"Circle\"},\"hover_glyph\":null,\"muted_glyph\":null,\"nonselection_glyph\":{\"id\":\"1396\",\"type\":\"Circle\"},\"selection_glyph\":null,\"view\":{\"id\":\"1393\",\"type\":\"CDSView\"}},\"id\":\"1397\",\"type\":\"GlyphRenderer\"},{\"attributes\":{\"overlay\":{\"id\":\"1446\",\"type\":\"BoxAnnotation\"}},\"id\":\"1353\",\"type\":\"BoxZoomTool\"}],\"root_ids\":[\"1330\"]},\"title\":\"Bokeh Application\",\"version\":\"1.2.0\"}};\n",
       "  var render_items = [{\"docid\":\"10ad5109-8ae2-49f7-be24-377210deb0f2\",\"roots\":{\"1330\":\"33317a92-4ef5-4fac-9828-addf18b5f3cc\"}}];\n",
       "  root.Bokeh.embed.embed_items_notebook(docs_json, render_items);\n",
       "\n",
       "  }\n",
       "  if (root.Bokeh !== undefined) {\n",
       "    embed_document(root);\n",
       "  } else {\n",
       "    var attempts = 0;\n",
       "    var timer = setInterval(function(root) {\n",
       "      if (root.Bokeh !== undefined) {\n",
       "        embed_document(root);\n",
       "        clearInterval(timer);\n",
       "      }\n",
       "      attempts++;\n",
       "      if (attempts > 100) {\n",
       "        console.log(\"Bokeh: ERROR: Unable to run BokehJS code because BokehJS library is missing\");\n",
       "        clearInterval(timer);\n",
       "      }\n",
       "    }, 10, root)\n",
       "  }\n",
       "})(window);"
      ],
      "application/vnd.bokehjs_exec.v0+json": ""
     },
     "metadata": {
      "application/vnd.bokehjs_exec.v0+json": {
       "id": "1330"
      }
     },
     "output_type": "display_data"
    }
   ],
   "source": [
    "pc_idx1 = 0\n",
    "pc_idx2 = 2\n",
    "p = hl.plot.scatter(mt.scores[pc_idx1],\n",
    "                    mt.scores[pc_idx2],\n",
    "                    label=hl.str(mt.birthplace),\n",
    "                    title='PCA', xlabel='PC{n} ({p:.2f}%)'.format(n=pc_idx1+1, p=prop_var[pc_idx1] * 100), ylabel='PC{n} ({p:.2f}%)'.format(n=pc_idx2+1, p=prop_var[pc_idx1] * 100))\n",
    "p.plot_width = 800\n",
    "p.plot_height = 600\n",
    "show(p)"
   ]
  },
  {
   "cell_type": "code",
   "execution_count": 19,
   "metadata": {},
   "outputs": [
    {
     "data": {
      "text/html": [
       "\n",
       "\n",
       "\n",
       "\n",
       "\n",
       "\n",
       "  <div class=\"bk-root\" id=\"53455ca7-2cdd-4ac6-a466-ddd852bc9ef1\" data-root-id=\"1509\"></div>\n"
      ]
     },
     "metadata": {},
     "output_type": "display_data"
    },
    {
     "data": {
      "application/javascript": [
       "(function(root) {\n",
       "  function embed_document(root) {\n",
       "    \n",
       "  var docs_json = {\"69a1a535-004e-470e-9202-ec587ffe5c70\":{\"roots\":{\"references\":[{\"attributes\":{\"below\":[{\"id\":\"1520\",\"type\":\"LinearAxis\"}],\"center\":[{\"id\":\"1524\",\"type\":\"Grid\"},{\"id\":\"1529\",\"type\":\"Grid\"}],\"left\":[{\"id\":\"1525\",\"type\":\"LinearAxis\"},{\"id\":\"1596\",\"type\":\"Legend\"},{\"id\":\"1597\",\"type\":\"ColorBar\"}],\"plot_height\":600,\"plot_width\":800,\"renderers\":[{\"id\":\"1552\",\"type\":\"GlyphRenderer\"},{\"id\":\"1558\",\"type\":\"GlyphRenderer\"},{\"id\":\"1564\",\"type\":\"GlyphRenderer\"},{\"id\":\"1570\",\"type\":\"GlyphRenderer\"},{\"id\":\"1576\",\"type\":\"GlyphRenderer\"},{\"id\":\"1582\",\"type\":\"GlyphRenderer\"},{\"id\":\"1588\",\"type\":\"GlyphRenderer\"}],\"title\":{\"id\":\"1510\",\"type\":\"Title\"},\"toolbar\":{\"id\":\"1536\",\"type\":\"Toolbar\"},\"x_range\":{\"id\":\"1512\",\"type\":\"DataRange1d\"},\"x_scale\":{\"id\":\"1516\",\"type\":\"LinearScale\"},\"y_range\":{\"id\":\"1514\",\"type\":\"DataRange1d\"},\"y_scale\":{\"id\":\"1518\",\"type\":\"LinearScale\"}},\"id\":\"1509\",\"subtype\":\"Figure\",\"type\":\"Plot\"},{\"attributes\":{\"fill_alpha\":{\"value\":0.1},\"fill_color\":{\"value\":\"#1f77b4\"},\"line_alpha\":{\"value\":0.1},\"line_color\":{\"value\":\"#1f77b4\"},\"x\":{\"field\":\"x\"},\"y\":{\"field\":\"y\"}},\"id\":\"1557\",\"type\":\"Circle\"},{\"attributes\":{\"fill_alpha\":{\"value\":0.1},\"fill_color\":{\"value\":\"#1f77b4\"},\"line_alpha\":{\"value\":0.1},\"line_color\":{\"value\":\"#1f77b4\"},\"x\":{\"field\":\"x\"},\"y\":{\"field\":\"y\"}},\"id\":\"1581\",\"type\":\"Circle\"},{\"attributes\":{\"callback\":null},\"id\":\"1514\",\"type\":\"DataRange1d\"},{\"attributes\":{\"dimension\":1,\"ticker\":{\"id\":\"1526\",\"type\":\"BasicTicker\"}},\"id\":\"1529\",\"type\":\"Grid\"},{\"attributes\":{\"overlay\":{\"id\":\"1635\",\"type\":\"BoxAnnotation\"}},\"id\":\"1532\",\"type\":\"BoxZoomTool\"},{\"attributes\":{\"label\":{\"value\":\"STR\"},\"renderers\":[{\"id\":\"1576\",\"type\":\"GlyphRenderer\"}]},\"id\":\"1593\",\"type\":\"LegendItem\"},{\"attributes\":{\"fill_alpha\":{\"value\":0.1},\"fill_color\":{\"value\":\"#1f77b4\"},\"line_alpha\":{\"value\":0.1},\"line_color\":{\"value\":\"#1f77b4\"},\"x\":{\"field\":\"x\"},\"y\":{\"field\":\"y\"}},\"id\":\"1587\",\"type\":\"Circle\"},{\"attributes\":{\"data_source\":{\"id\":\"1545\",\"type\":\"ColumnDataSource\"},\"glyph\":{\"id\":\"1580\",\"type\":\"Circle\"},\"hover_glyph\":null,\"muted_glyph\":null,\"nonselection_glyph\":{\"id\":\"1581\",\"type\":\"Circle\"},\"selection_glyph\":null,\"view\":{\"id\":\"1578\",\"type\":\"CDSView\"}},\"id\":\"1582\",\"type\":\"GlyphRenderer\"},{\"attributes\":{},\"id\":\"1518\",\"type\":\"LinearScale\"},{\"attributes\":{},\"id\":\"1531\",\"type\":\"WheelZoomTool\"},{\"attributes\":{\"column_name\":\"label\",\"group\":\"SUD\"},\"id\":\"1577\",\"type\":\"GroupFilter\"},{\"attributes\":{},\"id\":\"1630\",\"type\":\"BasicTickFormatter\"},{\"attributes\":{\"column_name\":\"label\",\"group\":\"EYN\"},\"id\":\"1547\",\"type\":\"GroupFilter\"},{\"attributes\":{\"column_name\":\"label\",\"group\":\"SAN\"},\"id\":\"1565\",\"type\":\"GroupFilter\"},{\"attributes\":{\"fill_color\":{\"field\":\"label\",\"transform\":{\"id\":\"1546\",\"type\":\"CategoricalColorMapper\"}},\"line_color\":{\"field\":\"label\",\"transform\":{\"id\":\"1546\",\"type\":\"CategoricalColorMapper\"}},\"x\":{\"field\":\"x\"},\"y\":{\"field\":\"y\"}},\"id\":\"1574\",\"type\":\"Circle\"},{\"attributes\":{\"filters\":[{\"id\":\"1577\",\"type\":\"GroupFilter\"}],\"source\":{\"id\":\"1545\",\"type\":\"ColumnDataSource\"}},\"id\":\"1578\",\"type\":\"CDSView\"},{\"attributes\":{\"data_source\":{\"id\":\"1545\",\"type\":\"ColumnDataSource\"},\"glyph\":{\"id\":\"1562\",\"type\":\"Circle\"},\"hover_glyph\":null,\"muted_glyph\":null,\"nonselection_glyph\":{\"id\":\"1563\",\"type\":\"Circle\"},\"selection_glyph\":null,\"view\":{\"id\":\"1560\",\"type\":\"CDSView\"}},\"id\":\"1564\",\"type\":\"GlyphRenderer\"},{\"attributes\":{\"callback\":null,\"tooltips\":[[\"x\",\"@x\"],[\"y\",\"@y\"],[\"label\",\"@label\"]]},\"id\":\"1544\",\"type\":\"HoverTool\"},{\"attributes\":{\"label\":{\"value\":\"VAG\"},\"renderers\":[{\"id\":\"1588\",\"type\":\"GlyphRenderer\"}]},\"id\":\"1595\",\"type\":\"LegendItem\"},{\"attributes\":{\"label\":{\"value\":\"SUD\"},\"renderers\":[{\"id\":\"1582\",\"type\":\"GlyphRenderer\"}]},\"id\":\"1594\",\"type\":\"LegendItem\"},{\"attributes\":{\"fill_color\":{\"field\":\"label\",\"transform\":{\"id\":\"1546\",\"type\":\"CategoricalColorMapper\"}},\"line_color\":{\"field\":\"label\",\"transform\":{\"id\":\"1546\",\"type\":\"CategoricalColorMapper\"}},\"x\":{\"field\":\"x\"},\"y\":{\"field\":\"y\"}},\"id\":\"1568\",\"type\":\"Circle\"},{\"attributes\":{\"column_name\":\"label\",\"group\":\"NA\"},\"id\":\"1553\",\"type\":\"GroupFilter\"},{\"attributes\":{\"active_drag\":\"auto\",\"active_inspect\":\"auto\",\"active_multi\":null,\"active_scroll\":\"auto\",\"active_tap\":\"auto\",\"tools\":[{\"id\":\"1530\",\"type\":\"PanTool\"},{\"id\":\"1531\",\"type\":\"WheelZoomTool\"},{\"id\":\"1532\",\"type\":\"BoxZoomTool\"},{\"id\":\"1533\",\"type\":\"SaveTool\"},{\"id\":\"1534\",\"type\":\"ResetTool\"},{\"id\":\"1535\",\"type\":\"HelpTool\"},{\"id\":\"1544\",\"type\":\"HoverTool\"}]},\"id\":\"1536\",\"type\":\"Toolbar\"},{\"attributes\":{\"label\":{\"value\":\"SAN\"},\"renderers\":[{\"id\":\"1570\",\"type\":\"GlyphRenderer\"}]},\"id\":\"1592\",\"type\":\"LegendItem\"},{\"attributes\":{\"fill_color\":{\"field\":\"label\",\"transform\":{\"id\":\"1546\",\"type\":\"CategoricalColorMapper\"}},\"line_color\":{\"field\":\"label\",\"transform\":{\"id\":\"1546\",\"type\":\"CategoricalColorMapper\"}},\"x\":{\"field\":\"x\"},\"y\":{\"field\":\"y\"}},\"id\":\"1580\",\"type\":\"Circle\"},{\"attributes\":{\"column_name\":\"label\",\"group\":\"STR\"},\"id\":\"1571\",\"type\":\"GroupFilter\"},{\"attributes\":{\"fill_alpha\":{\"value\":0.1},\"fill_color\":{\"value\":\"#1f77b4\"},\"line_alpha\":{\"value\":0.1},\"line_color\":{\"value\":\"#1f77b4\"},\"x\":{\"field\":\"x\"},\"y\":{\"field\":\"y\"}},\"id\":\"1563\",\"type\":\"Circle\"},{\"attributes\":{\"callback\":null},\"id\":\"1512\",\"type\":\"DataRange1d\"},{\"attributes\":{\"label\":{\"value\":\"EYN\"},\"renderers\":[{\"id\":\"1552\",\"type\":\"GlyphRenderer\"}]},\"id\":\"1589\",\"type\":\"LegendItem\"},{\"attributes\":{\"data_source\":{\"id\":\"1545\",\"type\":\"ColumnDataSource\"},\"glyph\":{\"id\":\"1556\",\"type\":\"Circle\"},\"hover_glyph\":null,\"muted_glyph\":null,\"nonselection_glyph\":{\"id\":\"1557\",\"type\":\"Circle\"},\"selection_glyph\":null,\"view\":{\"id\":\"1554\",\"type\":\"CDSView\"}},\"id\":\"1558\",\"type\":\"GlyphRenderer\"},{\"attributes\":{\"ticker\":{\"id\":\"1521\",\"type\":\"BasicTicker\"}},\"id\":\"1524\",\"type\":\"Grid\"},{\"attributes\":{\"filters\":[{\"id\":\"1553\",\"type\":\"GroupFilter\"}],\"source\":{\"id\":\"1545\",\"type\":\"ColumnDataSource\"}},\"id\":\"1554\",\"type\":\"CDSView\"},{\"attributes\":{},\"id\":\"1533\",\"type\":\"SaveTool\"},{\"attributes\":{\"label\":{\"value\":\"NA\"},\"renderers\":[{\"id\":\"1558\",\"type\":\"GlyphRenderer\"}]},\"id\":\"1590\",\"type\":\"LegendItem\"},{\"attributes\":{\"callback\":null,\"data\":{\"index\":[0,1,2,3,4,5,6,7,8,9,10,11,12,13,14,15,16,17,18,19,20,21,22,23,24,25,26,27,28,29,30,31,32,33,34,35,36,37,38,39,40,41,42,43,44,45,46,47,48,49,50,51,52,53,54,55,56,57,58,59,60,61,62,63,64,65,66,67,68,69,70,71,72,73,74,75,76,77,78,79,80,81,82,83,84,85,86,87,88,89,90,91,92,93,94,95,96,97,98,99,100,101,102,103,104,105,106,107,108,109,110,111,112,113,114,115,116,117,118,119,120,121,122,123,124,125,126,127,128,129,130,131,132,133,134,135,136,137,138,139,140,141,142,143,144,145,146,147,148,149,150,151,152,153,154,155,156,157,158,159,160,161,162,163,164,165,166,167,168,169,170,171,172,173,174,175,176,177,178,179,180,181,182,183,184,185,186,187,188,189,190,191,192,193,194,195,196,197,198,199,200,201,202,203,204,205,206,207,208,209,210,211,212,213,214,215,216,217,218,219,220,221,222,223,224,225,226,227,228,229,230,231,232,233,234,235,236,237,238,239,240,241,242,243,244,245,246,247,248,249,250,251,252,253,254,255,256,257,258,259,260,261,262,263,264,265,266,267,268,269,270,271,272,273,274,275,276,277,278,279,280,281,282,283,284,285,286,287,288,289,290,291,292,293,294,295,296,297,298,299,300,301,302,303,304,305,306,307,308,309,310,311,312,313,314,315,316,317,318,319,320,321,322,323,324,325,326,327,328,329,330,331,332,333,334,335,336,337,338,339,340,341,342,343,344,345,346,347,348,349,350,351,352,353,354,355,356,357,358,359,360,361,362,363,364,365,366,367,368,369,370,371,372,373,374,375],\"label\":[\"NOR\",\"NOR\",\"NOR\",\"STR\",\"NOR\",\"NOR\",\"SUD\",\"NOR\",\"STR\",\"NOR\",\"NOR\",\"VAG\",\"EYN\",\"NOR\",\"STR\",\"SUD\",\"STR\",\"SUD\",\"SUD\",\"STR\",\"STR\",\"STR\",\"NOR\",\"STR\",\"SUD\",\"SUD\",\"NOR\",\"NOR\",\"SUD\",\"NOR\",\"NOR\",\"STR\",\"STR\",\"NOR\",\"STR\",\"STR\",\"NA\",\"STR\",\"SUD\",\"NOR\",\"STR\",\"SUD\",\"STR\",\"STR\",\"NOR\",\"STR\",\"STR\",\"STR\",\"NOR\",\"NOR\",\"SUD\",\"EYN\",\"STR\",\"STR\",\"EYN\",\"STR\",\"NOR\",\"STR\",\"NOR\",\"STR\",\"STR\",\"NOR\",\"NOR\",\"NA\",\"EYN\",\"EYN\",\"STR\",\"SUD\",\"NOR\",\"SUD\",\"STR\",\"SUD\",\"STR\",\"STR\",\"STR\",\"NOR\",\"STR\",\"EYN\",\"STR\",\"STR\",\"EYN\",\"NOR\",\"STR\",\"STR\",\"SUD\",\"NA\",\"NA\",\"NA\",\"EYN\",\"STR\",\"SUD\",\"NOR\",\"NOR\",\"STR\",\"STR\",\"SUD\",\"NOR\",\"NA\",\"EYN\",\"SUD\",\"NA\",\"STR\",\"NA\",\"EYN\",\"NOR\",\"NOR\",\"STR\",\"EYN\",\"STR\",\"VAG\",\"STR\",\"EYN\",\"SUD\",\"NOR\",\"EYN\",\"STR\",\"STR\",\"EYN\",\"EYN\",\"STR\",\"SUD\",\"STR\",\"SUD\",\"NOR\",\"NOR\",\"EYN\",\"EYN\",\"NOR\",\"NA\",\"EYN\",\"NOR\",\"STR\",\"SUD\",\"SUD\",\"NOR\",\"EYN\",\"EYN\",\"SUD\",\"STR\",\"STR\",\"NA\",\"SAN\",\"NOR\",\"STR\",\"STR\",\"NOR\",\"NOR\",\"NA\",\"NOR\",\"NA\",\"STR\",\"EYN\",\"SAN\",\"NOR\",\"STR\",\"EYN\",\"NA\",\"STR\",\"NA\",\"NOR\",\"NA\",\"STR\",\"VAG\",\"SAN\",\"NA\",\"SUD\",\"STR\",\"STR\",\"EYN\",\"STR\",\"NOR\",\"NA\",\"STR\",\"SAN\",\"SAN\",\"STR\",\"NA\",\"SAN\",\"STR\",\"SAN\",\"STR\",\"STR\",\"STR\",\"STR\",\"SUD\",\"STR\",\"EYN\",\"STR\",\"STR\",\"STR\",\"STR\",\"EYN\",\"STR\",\"EYN\",\"EYN\",\"STR\",\"NA\",\"STR\",\"SAN\",\"STR\",\"VAG\",\"STR\",\"STR\",\"NA\",\"SUD\",\"EYN\",\"STR\",\"STR\",\"EYN\",\"NOR\",\"NOR\",\"STR\",\"STR\",\"STR\",\"EYN\",\"EYN\",\"EYN\",\"EYN\",\"STR\",\"STR\",\"STR\",\"EYN\",\"STR\",\"STR\",\"EYN\",\"STR\",\"VAG\",\"STR\",\"NOR\",\"STR\",\"EYN\",\"SAN\",\"STR\",\"EYN\",\"NOR\",\"STR\",\"NOR\",\"STR\",\"EYN\",\"NA\",\"SAN\",\"NOR\",\"EYN\",\"EYN\",\"STR\",\"SUD\",\"STR\",\"STR\",\"EYN\",\"STR\",\"STR\",\"STR\",\"SUD\",\"NA\",\"EYN\",\"STR\",\"STR\",\"EYN\",\"NOR\",\"EYN\",\"STR\",\"STR\",\"EYN\",\"NA\",\"STR\",\"NOR\",\"VAG\",\"STR\",\"EYN\",\"STR\",\"STR\",\"STR\",\"NA\",\"EYN\",\"EYN\",\"STR\",\"EYN\",\"STR\",\"STR\",\"STR\",\"VAG\",\"EYN\",\"EYN\",\"SAN\",\"STR\",\"STR\",\"STR\",\"STR\",\"NOR\",\"EYN\",\"SAN\",\"SAN\",\"EYN\",\"STR\",\"STR\",\"STR\",\"STR\",\"STR\",\"EYN\",\"EYN\",\"NOR\",\"STR\",\"STR\",\"STR\",\"STR\",\"STR\",\"STR\",\"VAG\",\"STR\",\"EYN\",\"EYN\",\"VAG\",\"VAG\",\"EYN\",\"NA\",\"EYN\",\"VAG\",\"VAG\",\"STR\",\"STR\",\"STR\",\"EYN\",\"EYN\",\"SUD\",\"STR\",\"STR\",\"VAG\",\"STR\",\"STR\",\"STR\",\"STR\",\"VAG\",\"NA\",\"STR\",\"EYN\",\"EYN\",\"SUD\",\"VAG\",\"STR\",\"EYN\",\"STR\",\"STR\",\"EYN\",\"STR\",\"STR\",\"EYN\",\"EYN\",\"EYN\",\"VAG\",\"NA\",\"NA\",\"EYN\",\"EYN\",\"EYN\",\"STR\",\"STR\",\"VAG\",\"NA\",\"STR\",\"VAG\",\"STR\",\"STR\",\"STR\",\"STR\",\"VAG\",\"VAG\",\"VAG\",\"VAG\",\"STR\",\"VAG\",\"EYN\",\"EYN\",\"EYN\",\"EYN\",\"EYN\",\"EYN\"],\"x\":{\"__ndarray__\":\"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\",\"dtype\":\"float64\",\"shape\":[376]},\"y\":{\"__ndarray__\":\"+qWNmm13zz+YtLIng73QP/N0t5CLI78/ewdQ9oRRuD8qhT1DpfafP85N+Uy2maQ/lVgXeMUkwL86+oaFFRWgP5nQZoYPpMg/H6paSVAdpb+AJD4TDeiSv1vKhHS6p8M/2DEGkuU1kL9X621GOHq+PyahmE6ZQL6/ocHQcqWzpT89O38stzqwP6FkQlYY36y/+feGRyw6ib9d0kcAkHiuP6diAn7jbqm/T6n1d9zAvT9TOQlXtvplv8ktrbfs9ay/5shOQuYzqb8Rj03yiMeuv/CectLxWJ0/4WTi6Fjtoz84Lt5j4i6VvxtPfAo1SaE/slQgwjfZrT/eQ5O/V1CwP1nja0JrysC/Ua9vIt4vkL+kCXQsGShyv5l9+zDN+LG/csA/7NOvrL+JZhYRnjKSvzXlDJaYG7O/Ky7xHCXTlz+NbdWxGoesP051t6WL36i/30MFC+QMoT9iJyUvgk1Pv4Pgp5h3PMM/oY78kgNEmT+kKA6JOjWwPxu3KxtJ+6G/TOW1UUljiL8RkmD1LWunPwZmkqIY57W/Zq49hmvIlD8DFCwF/B+Kv50d1kFJNqu/fl7kDJGCsD/D/gWonx2sv+CxDl3dW6O/EECMDYHZgT/uVCUNS3Wmv8YOX1kRy7+/z9UwD9gKiL8/72CONDiFv7idoPBHsrA/f0nEFw8Iuj8EA2li4v+bvzia/1kxzqO/PkMFtx0Arr8aoKju00utvxAHxzZRr5S/4Rlxu2AqZb/yqryT0jCCP9Afyk7bMqs/ktgZ+ElRir+oCU+2gFiVPxf9Ny84TKC/50dsi3a/YD9jxttd1eenP5jYpbxBeKG/gFHsnxpfdr9F+2fWqjSCP7ZOzeynb5i/sAQni7Pqur9LJOlPQPurP6BqfGy6naq/elUgO7Nnp79/FNfpBwusv6kc+x7jp6K/UT3WcMmvoL8tmY+S972Dv9XGFNR2jrC/IT4Uj2aEpr9mqN+BR1V2v379llmbcyw/N0SxEo53sT9AcXS8uDN/v+INBs20CbC/fy+4Fwivnb/N8kd7p/Wdvxdoxf+Lj7O/zrcrZmVygz/cOaIkiGmzP5gvg6FetZk/SUw4GdO/rD9nHySv5Cywv241fCfUy6q/niArzN4NlT+CX+6AhCmav1lJQ+h0JLY/RyR6RJfNtL/YlR+zen+qP9QVz8IWDZI/hbl80teGv7/USNJ4Yuelv/FxcrmAYqG/0pWjCAJJhb9Xezzd/ZOyv4lbpCcrNJS/ehU3iD0wur9iSNDVU0pQv1klGd+mBa2/mFp4Fn0unb/Tnw5Aud5+P+9eVS2RWaE/8CG13MGsrb+ekzJjgniev8ZqG4bSmpi/jtqIPiPpfb+jsj7U2YtxPxwjGFOd9Hc/ZzayNGxbrj+8ZZX7gBuzv28ZXyjz1KW/gd5ZaoAMo798OJ2TJVeFvwq+BZe4hHY/Oh9LOtL1s79ajb0x4OjBv8qw9kkOjI6/etQ0ouICpr94eHlzRn6hv2O3ES+x2qC/PYGr1vKggL8kV3pzCKKYP4fCTy2zdJo/w0M7d2jjtT/pY8p1hC6+v4KDheW+yai/OBw05JM9gb9A6kRm4c80v1Z5MzIMLqC/DF1f3BRLnb8V6PB8cUyXv3dPvVCqcWu/uYW06NW3F79EQAe5BXOVv1vk4bnEcKW/eeUftU1vmb/pdOQP+yiYv1m3ptZtSZa/zF3nWkWUkr/kV6LgAd54vwoMwMT7Qos/L+mpnCEEsj/Gfw+iWLm4P1+ZqMGRrKO/svYTw68ioj/XQKWVH6mxPwk7oM1qu3c/1pTrtXHEsr+0ZKW0qi6rvx76yrsYTY2/2PZKK1q1ib/qE7r33cCFvyNf7zuvsbE/226da+EZsj97Xvp21lxovx5mW/cP7pE/Qc6mFXtcsj88b+5DFDxNv+2UljJq43w/CxuMNiehoz8FDwEDKjGpP2QG7ryjRbi/6EWHPs9ErL+8iwuhBqWbv2rw4ny6Lpq/3XQc1T1Hk797SyqcUN2Gv340rYPPiIk/kqiMmYARpj8FUs9U+US7v8C+0bXBSbS/ALrrChy0sr8TPjlyRIyrv7ednMepBZY/rt+pSOj0nr+a7AOVE8+Mv0K8oFKkH26/2vfl6IJ+NT8yy/uYlc5xP2hGX38zirc/lRuqyNldi7+6CHZcYkBsPwzCYWzBt6g/k3rPjVekob9VfhyX/6NwP2cRY6Gb45A/dsvvqmActD9MD9evrmu6v1+UNaM3FJu/5XFntUjApT/31oOMZECqP4lPdkSbmpG/o56bhJDTi78IHr+KmqatP04+CqaQtb2/ema09AXSqr9vYrbaE4iovyNXPdYs0ZK/ofUzguTXob/MvUn+5p6AP6DfMo/j/bS/bYBrH/Rke7/svzN333R2P3gpe5/yeYo/ilnBYUmdoT+Gxos5YcOjP4NiFL/RRqK/AKFSlsnPmL8vcmXAYlSlP4A8Y4OURqq/Pv5dPXlEcT+P4ZU0IHGDP8nVxyfpPJ4/3VxpRFUsnz/U6FmWW7KaP2/IIhDQm6S/2ucVEb4KiL9Eecy1youaP6YCLAypsJ8/QlQWf5oItz8+FO50/7ugP6cBflAp7qm/DixRt5M+pr8cLyfh5Pefv4DcpiHj/4+/8x9uf6AnuT9opXtysU5+v/kizG8APau/LOxYppukdT8ZriGkZoGXPxpYNlNO46g/HW1Hjdrppr9YqV1L0Dl+P5mnNnHf3bG/o8yoktKIsb9dC+I1M06rv+MY+wYd02S/35wnjuFQMT/07lXvaeiDP+TO1aZBdmi/cV2hBV2rcD/VK2JMhIWnv+Xjxp30m7u/OAtBfsfoYr8cXdKQ/UutPyvMCjbBdbM/qx9aNAcfkr8sRfhlH+6Qv7PoaSLVEYY/ZvHCGT2kuz9QbmngmpiWvyp+IzCAa5Q/kATv3+jFrD/GsueNiva3v/Xh9v317aM/4GVhlk4Sqz8Lhpb8FmOhvyMxl6MjAHm/w7U9/Uxjwr9ljBOne0ixv8qqctosday/y93NYbQClb8/ntZHf/SgP1dcrHR//Zy/XFvK3omtm7900CoTxVOSvyLIuTYsMz4/tr8vW/j8XL/jF4+mmFa0P4Way7IQQrk/xG1bhtBOyD+3AziRljy4vzHvbMrx3qK/w3wd50BQob9r+NJ0pDonvxe17ZbGm18/JHkNOYRSsD8WwjDnz+GxvzkCOZc0gJe/2lMRDLNCij8obHyjewWuPwoswrZpXao/eEhu5V3ksT/Z34mEIxanvzjk29oYfZy//CprS2+vXr/45pqhs6acP0BEI8QdaMW/vkJJ249Eor+Y4/p1ZWOiP96H9KmC8aQ/yglQoe39wz92leRTN/6nvyQn4O8LRoA/2TvyIMk8kT8GFQOILUKbP5OUUA0bZKE/TgREuEuLnD839toYzGqgP6LnI5eevpA/4MC8lbFItL/g7BIN+himv5NbrERiqaS/6blNuSM3lb/+Zu6eTkppvxNqWY6GvaK/VnFqNIidkz9pdFVVY2e0vyJ4lU+4AoK/xFcCqTGLpz9fLwNhpfubPycN/hW1mJG/KwgMuo/Nj7/0A2xnKvGtPz6v8AtqkbW/mKmgrYMSp7/rf1Du9/moP04KZA0PHZK/fdatwnYwnD+OcOc/A/5tv2eJuoftDZE/+e8j7qBykT/9FQAVScdyv0s5vjUo3Zw/gnO3XNmdjD/WzrNuptC5vwxGqdrXRKm/ia20908GsD+OjV7gWnmRv7OTq9IapJw//FnPUNPAjD8n0ige28ikv85tWFrQVKg/gcODGe8+rT9S68IYIQ2dvw5B28gmY6Y/EvxEO/QfuT8E4n5qc+iKv5KKFHydcrI/TOnONA4vjj/wpD6MVDt5v2bZJeWzxYg/VGpxPhYGvz+RqjYbIW6WP8h0R8e8k7w/WoX0ZzclzD9hw52CSlutP4mFmOKf7K6/w9a2SucxtD9XKJuVspO7P0Yq67yyr7w/IzbcTtYvh7/mZZHd5k+7P6BKzAqhr70/AfvaBnc5vT8=\",\"dtype\":\"float64\",\"shape\":[376]}},\"selected\":{\"id\":\"1636\",\"type\":\"Selection\"},\"selection_policy\":{\"id\":\"1637\",\"type\":\"UnionRenderers\"}},\"id\":\"1545\",\"type\":\"ColumnDataSource\"},{\"attributes\":{\"filters\":[{\"id\":\"1565\",\"type\":\"GroupFilter\"}],\"source\":{\"id\":\"1545\",\"type\":\"ColumnDataSource\"}},\"id\":\"1566\",\"type\":\"CDSView\"},{\"attributes\":{},\"id\":\"1631\",\"type\":\"BasicTicker\"},{\"attributes\":{\"filters\":[{\"id\":\"1583\",\"type\":\"GroupFilter\"}],\"source\":{\"id\":\"1545\",\"type\":\"ColumnDataSource\"}},\"id\":\"1584\",\"type\":\"CDSView\"},{\"attributes\":{},\"id\":\"1637\",\"type\":\"UnionRenderers\"},{\"attributes\":{\"click_policy\":\"hide\",\"items\":[{\"id\":\"1589\",\"type\":\"LegendItem\"},{\"id\":\"1590\",\"type\":\"LegendItem\"},{\"id\":\"1591\",\"type\":\"LegendItem\"},{\"id\":\"1592\",\"type\":\"LegendItem\"},{\"id\":\"1593\",\"type\":\"LegendItem\"},{\"id\":\"1594\",\"type\":\"LegendItem\"},{\"id\":\"1595\",\"type\":\"LegendItem\"}]},\"id\":\"1596\",\"type\":\"Legend\"},{\"attributes\":{\"axis_label\":\"PC2 (0.43%)\",\"formatter\":{\"id\":\"1634\",\"type\":\"BasicTickFormatter\"},\"ticker\":{\"id\":\"1521\",\"type\":\"BasicTicker\"}},\"id\":\"1520\",\"type\":\"LinearAxis\"},{\"attributes\":{\"fill_color\":{\"field\":\"label\",\"transform\":{\"id\":\"1546\",\"type\":\"CategoricalColorMapper\"}},\"line_color\":{\"field\":\"label\",\"transform\":{\"id\":\"1546\",\"type\":\"CategoricalColorMapper\"}},\"x\":{\"field\":\"x\"},\"y\":{\"field\":\"y\"}},\"id\":\"1556\",\"type\":\"Circle\"},{\"attributes\":{\"filters\":[{\"id\":\"1571\",\"type\":\"GroupFilter\"}],\"source\":{\"id\":\"1545\",\"type\":\"ColumnDataSource\"}},\"id\":\"1572\",\"type\":\"CDSView\"},{\"attributes\":{\"data_source\":{\"id\":\"1545\",\"type\":\"ColumnDataSource\"},\"glyph\":{\"id\":\"1586\",\"type\":\"Circle\"},\"hover_glyph\":null,\"muted_glyph\":null,\"nonselection_glyph\":{\"id\":\"1587\",\"type\":\"Circle\"},\"selection_glyph\":null,\"view\":{\"id\":\"1584\",\"type\":\"CDSView\"}},\"id\":\"1588\",\"type\":\"GlyphRenderer\"},{\"attributes\":{},\"id\":\"1632\",\"type\":\"BasicTickFormatter\"},{\"attributes\":{},\"id\":\"1516\",\"type\":\"LinearScale\"},{\"attributes\":{\"text\":\"PCA\"},\"id\":\"1510\",\"type\":\"Title\"},{\"attributes\":{\"filters\":[{\"id\":\"1547\",\"type\":\"GroupFilter\"}],\"source\":{\"id\":\"1545\",\"type\":\"ColumnDataSource\"}},\"id\":\"1548\",\"type\":\"CDSView\"},{\"attributes\":{\"filters\":[{\"id\":\"1559\",\"type\":\"GroupFilter\"}],\"source\":{\"id\":\"1545\",\"type\":\"ColumnDataSource\"}},\"id\":\"1560\",\"type\":\"CDSView\"},{\"attributes\":{\"axis_label\":\"PC3 (0.43%)\",\"formatter\":{\"id\":\"1630\",\"type\":\"BasicTickFormatter\"},\"ticker\":{\"id\":\"1526\",\"type\":\"BasicTicker\"}},\"id\":\"1525\",\"type\":\"LinearAxis\"},{\"attributes\":{\"fill_color\":{\"field\":\"label\",\"transform\":{\"id\":\"1546\",\"type\":\"CategoricalColorMapper\"}},\"line_color\":{\"field\":\"label\",\"transform\":{\"id\":\"1546\",\"type\":\"CategoricalColorMapper\"}},\"x\":{\"field\":\"x\"},\"y\":{\"field\":\"y\"}},\"id\":\"1562\",\"type\":\"Circle\"},{\"attributes\":{\"fill_color\":{\"field\":\"label\",\"transform\":{\"id\":\"1546\",\"type\":\"CategoricalColorMapper\"}},\"line_color\":{\"field\":\"label\",\"transform\":{\"id\":\"1546\",\"type\":\"CategoricalColorMapper\"}},\"x\":{\"field\":\"x\"},\"y\":{\"field\":\"y\"}},\"id\":\"1586\",\"type\":\"Circle\"},{\"attributes\":{},\"id\":\"1636\",\"type\":\"Selection\"},{\"attributes\":{\"factors\":[\"NA\",\"NOR\",\"STR\",\"VAG\",\"SAN\",\"EYN\",\"SUD\"],\"palette\":[\"#1f77b4\",\"#ff7f0e\",\"#2ca02c\",\"#d62728\",\"#9467bd\",\"#8c564b\",\"#e377c2\",\"#7f7f7f\",\"#bcbd22\",\"#17becf\"]},\"id\":\"1546\",\"type\":\"CategoricalColorMapper\"},{\"attributes\":{\"column_name\":\"label\",\"group\":\"VAG\"},\"id\":\"1583\",\"type\":\"GroupFilter\"},{\"attributes\":{},\"id\":\"1534\",\"type\":\"ResetTool\"},{\"attributes\":{\"fill_alpha\":{\"value\":0.1},\"fill_color\":{\"value\":\"#1f77b4\"},\"line_alpha\":{\"value\":0.1},\"line_color\":{\"value\":\"#1f77b4\"},\"x\":{\"field\":\"x\"},\"y\":{\"field\":\"y\"}},\"id\":\"1551\",\"type\":\"Circle\"},{\"attributes\":{\"data_source\":{\"id\":\"1545\",\"type\":\"ColumnDataSource\"},\"glyph\":{\"id\":\"1550\",\"type\":\"Circle\"},\"hover_glyph\":null,\"muted_glyph\":null,\"nonselection_glyph\":{\"id\":\"1551\",\"type\":\"Circle\"},\"selection_glyph\":null,\"view\":{\"id\":\"1548\",\"type\":\"CDSView\"}},\"id\":\"1552\",\"type\":\"GlyphRenderer\"},{\"attributes\":{\"fill_alpha\":{\"value\":0.1},\"fill_color\":{\"value\":\"#1f77b4\"},\"line_alpha\":{\"value\":0.1},\"line_color\":{\"value\":\"#1f77b4\"},\"x\":{\"field\":\"x\"},\"y\":{\"field\":\"y\"}},\"id\":\"1575\",\"type\":\"Circle\"},{\"attributes\":{\"color_mapper\":null,\"formatter\":{\"id\":\"1632\",\"type\":\"BasicTickFormatter\"},\"ticker\":{\"id\":\"1631\",\"type\":\"BasicTicker\"},\"visible\":false},\"id\":\"1597\",\"type\":\"ColorBar\"},{\"attributes\":{},\"id\":\"1526\",\"type\":\"BasicTicker\"},{\"attributes\":{\"fill_alpha\":{\"value\":0.1},\"fill_color\":{\"value\":\"#1f77b4\"},\"line_alpha\":{\"value\":0.1},\"line_color\":{\"value\":\"#1f77b4\"},\"x\":{\"field\":\"x\"},\"y\":{\"field\":\"y\"}},\"id\":\"1569\",\"type\":\"Circle\"},{\"attributes\":{\"bottom_units\":\"screen\",\"fill_alpha\":{\"value\":0.5},\"fill_color\":{\"value\":\"lightgrey\"},\"left_units\":\"screen\",\"level\":\"overlay\",\"line_alpha\":{\"value\":1.0},\"line_color\":{\"value\":\"black\"},\"line_dash\":[4,4],\"line_width\":{\"value\":2},\"render_mode\":\"css\",\"right_units\":\"screen\",\"top_units\":\"screen\"},\"id\":\"1635\",\"type\":\"BoxAnnotation\"},{\"attributes\":{\"data_source\":{\"id\":\"1545\",\"type\":\"ColumnDataSource\"},\"glyph\":{\"id\":\"1574\",\"type\":\"Circle\"},\"hover_glyph\":null,\"muted_glyph\":null,\"nonselection_glyph\":{\"id\":\"1575\",\"type\":\"Circle\"},\"selection_glyph\":null,\"view\":{\"id\":\"1572\",\"type\":\"CDSView\"}},\"id\":\"1576\",\"type\":\"GlyphRenderer\"},{\"attributes\":{},\"id\":\"1521\",\"type\":\"BasicTicker\"},{\"attributes\":{},\"id\":\"1634\",\"type\":\"BasicTickFormatter\"},{\"attributes\":{\"data_source\":{\"id\":\"1545\",\"type\":\"ColumnDataSource\"},\"glyph\":{\"id\":\"1568\",\"type\":\"Circle\"},\"hover_glyph\":null,\"muted_glyph\":null,\"nonselection_glyph\":{\"id\":\"1569\",\"type\":\"Circle\"},\"selection_glyph\":null,\"view\":{\"id\":\"1566\",\"type\":\"CDSView\"}},\"id\":\"1570\",\"type\":\"GlyphRenderer\"},{\"attributes\":{\"fill_color\":{\"field\":\"label\",\"transform\":{\"id\":\"1546\",\"type\":\"CategoricalColorMapper\"}},\"line_color\":{\"field\":\"label\",\"transform\":{\"id\":\"1546\",\"type\":\"CategoricalColorMapper\"}},\"x\":{\"field\":\"x\"},\"y\":{\"field\":\"y\"}},\"id\":\"1550\",\"type\":\"Circle\"},{\"attributes\":{\"column_name\":\"label\",\"group\":\"NOR\"},\"id\":\"1559\",\"type\":\"GroupFilter\"},{\"attributes\":{},\"id\":\"1530\",\"type\":\"PanTool\"},{\"attributes\":{\"label\":{\"value\":\"NOR\"},\"renderers\":[{\"id\":\"1564\",\"type\":\"GlyphRenderer\"}]},\"id\":\"1591\",\"type\":\"LegendItem\"},{\"attributes\":{},\"id\":\"1535\",\"type\":\"HelpTool\"}],\"root_ids\":[\"1509\"]},\"title\":\"Bokeh Application\",\"version\":\"1.2.0\"}};\n",
       "  var render_items = [{\"docid\":\"69a1a535-004e-470e-9202-ec587ffe5c70\",\"roots\":{\"1509\":\"53455ca7-2cdd-4ac6-a466-ddd852bc9ef1\"}}];\n",
       "  root.Bokeh.embed.embed_items_notebook(docs_json, render_items);\n",
       "\n",
       "  }\n",
       "  if (root.Bokeh !== undefined) {\n",
       "    embed_document(root);\n",
       "  } else {\n",
       "    var attempts = 0;\n",
       "    var timer = setInterval(function(root) {\n",
       "      if (root.Bokeh !== undefined) {\n",
       "        embed_document(root);\n",
       "        clearInterval(timer);\n",
       "      }\n",
       "      attempts++;\n",
       "      if (attempts > 100) {\n",
       "        console.log(\"Bokeh: ERROR: Unable to run BokehJS code because BokehJS library is missing\");\n",
       "        clearInterval(timer);\n",
       "      }\n",
       "    }, 10, root)\n",
       "  }\n",
       "})(window);"
      ],
      "application/vnd.bokehjs_exec.v0+json": ""
     },
     "metadata": {
      "application/vnd.bokehjs_exec.v0+json": {
       "id": "1509"
      }
     },
     "output_type": "display_data"
    }
   ],
   "source": [
    "pc_idx1 = 1\n",
    "pc_idx2 = 2\n",
    "p = hl.plot.scatter(mt.scores[pc_idx1],\n",
    "                    mt.scores[pc_idx2],\n",
    "                    label=hl.str(mt.birthplace),\n",
    "                    title='PCA', xlabel='PC{n} ({p:.2f}%)'.format(n=pc_idx1+1, p=prop_var[pc_idx1] * 100), ylabel='PC{n} ({p:.2f}%)'.format(n=pc_idx2+1, p=prop_var[pc_idx1] * 100))\n",
    "p.plot_width = 800\n",
    "p.plot_height = 600\n",
    "show(p)"
   ]
  },
  {
   "cell_type": "markdown",
   "metadata": {},
   "source": [
    "From this PCA, it looks like there is very little population structure. But I'm not so convinced, I see this as a failure to detect population structure, not a success to show that there is no population structure."
   ]
  },
  {
   "cell_type": "markdown",
   "metadata": {},
   "source": [
    "## Summary\n",
    "\n",
    "In this notebook we have:\n",
    "\n",
    "* Investigate population structure in the cohort\n",
    "* Removed potential ancestry outliers from the data"
   ]
  }
 ],
 "metadata": {
  "kernelspec": {
   "display_name": "Python [conda env:fargen-1-exome]",
   "language": "python",
   "name": "conda-env-fargen-1-exome-py"
  },
  "language_info": {
   "codemirror_mode": {
    "name": "ipython",
    "version": 3
   },
   "file_extension": ".py",
   "mimetype": "text/x-python",
   "name": "python",
   "nbconvert_exporter": "python",
   "pygments_lexer": "ipython3",
   "version": "3.7.10"
  }
 },
 "nbformat": 4,
 "nbformat_minor": 4
}
