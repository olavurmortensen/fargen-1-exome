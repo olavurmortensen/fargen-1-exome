{
 "cells": [
  {
   "cell_type": "markdown",
   "metadata": {},
   "source": [
    "# Population structure - PCA of the FarGen cohort"
   ]
  },
  {
   "cell_type": "code",
   "execution_count": 1,
   "metadata": {},
   "outputs": [
    {
     "name": "stdout",
     "output_type": "stream",
     "text": [
      "2021-10-27 13:02:48 WARN  NativeCodeLoader:62 - Unable to load native-hadoop library for your platform... using builtin-java classes where applicable\n"
     ]
    },
    {
     "name": "stderr",
     "output_type": "stream",
     "text": [
      "Setting default log level to \"WARN\".\n",
      "To adjust logging level use sc.setLogLevel(newLevel). For SparkR, use setLogLevel(newLevel).\n"
     ]
    },
    {
     "name": "stdout",
     "output_type": "stream",
     "text": [
      "2021-10-27 13:02:49 WARN  Hail:37 - This Hail JAR was compiled for Spark 2.4.5, running with Spark 2.4.1.\n",
      "  Compatibility is not guaranteed.\n"
     ]
    },
    {
     "name": "stderr",
     "output_type": "stream",
     "text": [
      "Running on Apache Spark version 2.4.1\n",
      "SparkUI available at http://hms-beagle-6676655f87-9xllv:4040\n",
      "Welcome to\n",
      "     __  __     <>__\n",
      "    / /_/ /__  __/ /\n",
      "   / __  / _ `/ / /\n",
      "  /_/ /_/\\_,_/_/_/   version 0.2.61-3c86d3ba497a\n",
      "LOGGING: writing to /home/olavur/experiments/2020-11-13_fargen1_exome_analysis/fargen-1-exome/notebooks/main/hail-20211027-1302-0.2.61-3c86d3ba497a.log\n"
     ]
    }
   ],
   "source": [
    "import hail as hl\n",
    "hl.init(spark_conf={'spark.driver.memory': '100g'}, tmp_dir='/home/olavur/tmp')"
   ]
  },
  {
   "cell_type": "code",
   "execution_count": 2,
   "metadata": {},
   "outputs": [
    {
     "data": {
      "text/html": [
       "\n",
       "    <div class=\"bk-root\">\n",
       "        <a href=\"https://bokeh.pydata.org\" target=\"_blank\" class=\"bk-logo bk-logo-small bk-logo-notebook\"></a>\n",
       "        <span id=\"1001\">Loading BokehJS ...</span>\n",
       "    </div>"
      ]
     },
     "metadata": {},
     "output_type": "display_data"
    },
    {
     "data": {
      "application/javascript": [
       "\n",
       "(function(root) {\n",
       "  function now() {\n",
       "    return new Date();\n",
       "  }\n",
       "\n",
       "  var force = true;\n",
       "\n",
       "  if (typeof root._bokeh_onload_callbacks === \"undefined\" || force === true) {\n",
       "    root._bokeh_onload_callbacks = [];\n",
       "    root._bokeh_is_loading = undefined;\n",
       "  }\n",
       "\n",
       "  var JS_MIME_TYPE = 'application/javascript';\n",
       "  var HTML_MIME_TYPE = 'text/html';\n",
       "  var EXEC_MIME_TYPE = 'application/vnd.bokehjs_exec.v0+json';\n",
       "  var CLASS_NAME = 'output_bokeh rendered_html';\n",
       "\n",
       "  /**\n",
       "   * Render data to the DOM node\n",
       "   */\n",
       "  function render(props, node) {\n",
       "    var script = document.createElement(\"script\");\n",
       "    node.appendChild(script);\n",
       "  }\n",
       "\n",
       "  /**\n",
       "   * Handle when an output is cleared or removed\n",
       "   */\n",
       "  function handleClearOutput(event, handle) {\n",
       "    var cell = handle.cell;\n",
       "\n",
       "    var id = cell.output_area._bokeh_element_id;\n",
       "    var server_id = cell.output_area._bokeh_server_id;\n",
       "    // Clean up Bokeh references\n",
       "    if (id != null && id in Bokeh.index) {\n",
       "      Bokeh.index[id].model.document.clear();\n",
       "      delete Bokeh.index[id];\n",
       "    }\n",
       "\n",
       "    if (server_id !== undefined) {\n",
       "      // Clean up Bokeh references\n",
       "      var cmd = \"from bokeh.io.state import curstate; print(curstate().uuid_to_server['\" + server_id + \"'].get_sessions()[0].document.roots[0]._id)\";\n",
       "      cell.notebook.kernel.execute(cmd, {\n",
       "        iopub: {\n",
       "          output: function(msg) {\n",
       "            var id = msg.content.text.trim();\n",
       "            if (id in Bokeh.index) {\n",
       "              Bokeh.index[id].model.document.clear();\n",
       "              delete Bokeh.index[id];\n",
       "            }\n",
       "          }\n",
       "        }\n",
       "      });\n",
       "      // Destroy server and session\n",
       "      var cmd = \"import bokeh.io.notebook as ion; ion.destroy_server('\" + server_id + \"')\";\n",
       "      cell.notebook.kernel.execute(cmd);\n",
       "    }\n",
       "  }\n",
       "\n",
       "  /**\n",
       "   * Handle when a new output is added\n",
       "   */\n",
       "  function handleAddOutput(event, handle) {\n",
       "    var output_area = handle.output_area;\n",
       "    var output = handle.output;\n",
       "\n",
       "    // limit handleAddOutput to display_data with EXEC_MIME_TYPE content only\n",
       "    if ((output.output_type != \"display_data\") || (!output.data.hasOwnProperty(EXEC_MIME_TYPE))) {\n",
       "      return\n",
       "    }\n",
       "\n",
       "    var toinsert = output_area.element.find(\".\" + CLASS_NAME.split(' ')[0]);\n",
       "\n",
       "    if (output.metadata[EXEC_MIME_TYPE][\"id\"] !== undefined) {\n",
       "      toinsert[toinsert.length - 1].firstChild.textContent = output.data[JS_MIME_TYPE];\n",
       "      // store reference to embed id on output_area\n",
       "      output_area._bokeh_element_id = output.metadata[EXEC_MIME_TYPE][\"id\"];\n",
       "    }\n",
       "    if (output.metadata[EXEC_MIME_TYPE][\"server_id\"] !== undefined) {\n",
       "      var bk_div = document.createElement(\"div\");\n",
       "      bk_div.innerHTML = output.data[HTML_MIME_TYPE];\n",
       "      var script_attrs = bk_div.children[0].attributes;\n",
       "      for (var i = 0; i < script_attrs.length; i++) {\n",
       "        toinsert[toinsert.length - 1].firstChild.setAttribute(script_attrs[i].name, script_attrs[i].value);\n",
       "      }\n",
       "      // store reference to server id on output_area\n",
       "      output_area._bokeh_server_id = output.metadata[EXEC_MIME_TYPE][\"server_id\"];\n",
       "    }\n",
       "  }\n",
       "\n",
       "  function register_renderer(events, OutputArea) {\n",
       "\n",
       "    function append_mime(data, metadata, element) {\n",
       "      // create a DOM node to render to\n",
       "      var toinsert = this.create_output_subarea(\n",
       "        metadata,\n",
       "        CLASS_NAME,\n",
       "        EXEC_MIME_TYPE\n",
       "      );\n",
       "      this.keyboard_manager.register_events(toinsert);\n",
       "      // Render to node\n",
       "      var props = {data: data, metadata: metadata[EXEC_MIME_TYPE]};\n",
       "      render(props, toinsert[toinsert.length - 1]);\n",
       "      element.append(toinsert);\n",
       "      return toinsert\n",
       "    }\n",
       "\n",
       "    /* Handle when an output is cleared or removed */\n",
       "    events.on('clear_output.CodeCell', handleClearOutput);\n",
       "    events.on('delete.Cell', handleClearOutput);\n",
       "\n",
       "    /* Handle when a new output is added */\n",
       "    events.on('output_added.OutputArea', handleAddOutput);\n",
       "\n",
       "    /**\n",
       "     * Register the mime type and append_mime function with output_area\n",
       "     */\n",
       "    OutputArea.prototype.register_mime_type(EXEC_MIME_TYPE, append_mime, {\n",
       "      /* Is output safe? */\n",
       "      safe: true,\n",
       "      /* Index of renderer in `output_area.display_order` */\n",
       "      index: 0\n",
       "    });\n",
       "  }\n",
       "\n",
       "  // register the mime type if in Jupyter Notebook environment and previously unregistered\n",
       "  if (root.Jupyter !== undefined) {\n",
       "    var events = require('base/js/events');\n",
       "    var OutputArea = require('notebook/js/outputarea').OutputArea;\n",
       "\n",
       "    if (OutputArea.prototype.mime_types().indexOf(EXEC_MIME_TYPE) == -1) {\n",
       "      register_renderer(events, OutputArea);\n",
       "    }\n",
       "  }\n",
       "\n",
       "  \n",
       "  if (typeof (root._bokeh_timeout) === \"undefined\" || force === true) {\n",
       "    root._bokeh_timeout = Date.now() + 5000;\n",
       "    root._bokeh_failed_load = false;\n",
       "  }\n",
       "\n",
       "  var NB_LOAD_WARNING = {'data': {'text/html':\n",
       "     \"<div style='background-color: #fdd'>\\n\"+\n",
       "     \"<p>\\n\"+\n",
       "     \"BokehJS does not appear to have successfully loaded. If loading BokehJS from CDN, this \\n\"+\n",
       "     \"may be due to a slow or bad network connection. Possible fixes:\\n\"+\n",
       "     \"</p>\\n\"+\n",
       "     \"<ul>\\n\"+\n",
       "     \"<li>re-rerun `output_notebook()` to attempt to load from CDN again, or</li>\\n\"+\n",
       "     \"<li>use INLINE resources instead, as so:</li>\\n\"+\n",
       "     \"</ul>\\n\"+\n",
       "     \"<code>\\n\"+\n",
       "     \"from bokeh.resources import INLINE\\n\"+\n",
       "     \"output_notebook(resources=INLINE)\\n\"+\n",
       "     \"</code>\\n\"+\n",
       "     \"</div>\"}};\n",
       "\n",
       "  function display_loaded() {\n",
       "    var el = document.getElementById(\"1001\");\n",
       "    if (el != null) {\n",
       "      el.textContent = \"BokehJS is loading...\";\n",
       "    }\n",
       "    if (root.Bokeh !== undefined) {\n",
       "      if (el != null) {\n",
       "        el.textContent = \"BokehJS \" + root.Bokeh.version + \" successfully loaded.\";\n",
       "      }\n",
       "    } else if (Date.now() < root._bokeh_timeout) {\n",
       "      setTimeout(display_loaded, 100)\n",
       "    }\n",
       "  }\n",
       "\n",
       "\n",
       "  function run_callbacks() {\n",
       "    try {\n",
       "      root._bokeh_onload_callbacks.forEach(function(callback) {\n",
       "        if (callback != null)\n",
       "          callback();\n",
       "      });\n",
       "    } finally {\n",
       "      delete root._bokeh_onload_callbacks\n",
       "    }\n",
       "    console.debug(\"Bokeh: all callbacks have finished\");\n",
       "  }\n",
       "\n",
       "  function load_libs(css_urls, js_urls, callback) {\n",
       "    if (css_urls == null) css_urls = [];\n",
       "    if (js_urls == null) js_urls = [];\n",
       "\n",
       "    root._bokeh_onload_callbacks.push(callback);\n",
       "    if (root._bokeh_is_loading > 0) {\n",
       "      console.debug(\"Bokeh: BokehJS is being loaded, scheduling callback at\", now());\n",
       "      return null;\n",
       "    }\n",
       "    if (js_urls == null || js_urls.length === 0) {\n",
       "      run_callbacks();\n",
       "      return null;\n",
       "    }\n",
       "    console.debug(\"Bokeh: BokehJS not loaded, scheduling load and callback at\", now());\n",
       "    root._bokeh_is_loading = css_urls.length + js_urls.length;\n",
       "\n",
       "    function on_load() {\n",
       "      root._bokeh_is_loading--;\n",
       "      if (root._bokeh_is_loading === 0) {\n",
       "        console.debug(\"Bokeh: all BokehJS libraries/stylesheets loaded\");\n",
       "        run_callbacks()\n",
       "      }\n",
       "    }\n",
       "\n",
       "    function on_error() {\n",
       "      console.error(\"failed to load \" + url);\n",
       "    }\n",
       "\n",
       "    for (var i = 0; i < css_urls.length; i++) {\n",
       "      var url = css_urls[i];\n",
       "      const element = document.createElement(\"link\");\n",
       "      element.onload = on_load;\n",
       "      element.onerror = on_error;\n",
       "      element.rel = \"stylesheet\";\n",
       "      element.type = \"text/css\";\n",
       "      element.href = url;\n",
       "      console.debug(\"Bokeh: injecting link tag for BokehJS stylesheet: \", url);\n",
       "      document.body.appendChild(element);\n",
       "    }\n",
       "\n",
       "    for (var i = 0; i < js_urls.length; i++) {\n",
       "      var url = js_urls[i];\n",
       "      var element = document.createElement('script');\n",
       "      element.onload = on_load;\n",
       "      element.onerror = on_error;\n",
       "      element.async = false;\n",
       "      element.src = url;\n",
       "      console.debug(\"Bokeh: injecting script tag for BokehJS library: \", url);\n",
       "      document.head.appendChild(element);\n",
       "    }\n",
       "  };var element = document.getElementById(\"1001\");\n",
       "  if (element == null) {\n",
       "    console.error(\"Bokeh: ERROR: autoload.js configured with elementid '1001' but no matching script tag was found. \")\n",
       "    return false;\n",
       "  }\n",
       "\n",
       "  function inject_raw_css(css) {\n",
       "    const element = document.createElement(\"style\");\n",
       "    element.appendChild(document.createTextNode(css));\n",
       "    document.body.appendChild(element);\n",
       "  }\n",
       "\n",
       "  var js_urls = [\"https://cdn.pydata.org/bokeh/release/bokeh-1.2.0.min.js\", \"https://cdn.pydata.org/bokeh/release/bokeh-widgets-1.2.0.min.js\", \"https://cdn.pydata.org/bokeh/release/bokeh-tables-1.2.0.min.js\", \"https://cdn.pydata.org/bokeh/release/bokeh-gl-1.2.0.min.js\"];\n",
       "  var css_urls = [\"https://cdn.pydata.org/bokeh/release/bokeh-1.2.0.min.css\", \"https://cdn.pydata.org/bokeh/release/bokeh-widgets-1.2.0.min.css\", \"https://cdn.pydata.org/bokeh/release/bokeh-tables-1.2.0.min.css\"];\n",
       "\n",
       "  var inline_js = [\n",
       "    function(Bokeh) {\n",
       "      Bokeh.set_log_level(\"info\");\n",
       "    },\n",
       "    \n",
       "    function(Bokeh) {\n",
       "      \n",
       "    },\n",
       "    function(Bokeh) {} // ensure no trailing comma for IE\n",
       "  ];\n",
       "\n",
       "  function run_inline_js() {\n",
       "    \n",
       "    if ((root.Bokeh !== undefined) || (force === true)) {\n",
       "      for (var i = 0; i < inline_js.length; i++) {\n",
       "        inline_js[i].call(root, root.Bokeh);\n",
       "      }if (force === true) {\n",
       "        display_loaded();\n",
       "      }} else if (Date.now() < root._bokeh_timeout) {\n",
       "      setTimeout(run_inline_js, 100);\n",
       "    } else if (!root._bokeh_failed_load) {\n",
       "      console.log(\"Bokeh: BokehJS failed to load within specified timeout.\");\n",
       "      root._bokeh_failed_load = true;\n",
       "    } else if (force !== true) {\n",
       "      var cell = $(document.getElementById(\"1001\")).parents('.cell').data().cell;\n",
       "      cell.output_area.append_execute_result(NB_LOAD_WARNING)\n",
       "    }\n",
       "\n",
       "  }\n",
       "\n",
       "  if (root._bokeh_is_loading === 0) {\n",
       "    console.debug(\"Bokeh: BokehJS loaded, going straight to plotting\");\n",
       "    run_inline_js();\n",
       "  } else {\n",
       "    load_libs(css_urls, js_urls, function() {\n",
       "      console.debug(\"Bokeh: BokehJS plotting callback run at\", now());\n",
       "      run_inline_js();\n",
       "    });\n",
       "  }\n",
       "}(window));"
      ],
      "application/vnd.bokehjs_load.v0+json": "\n(function(root) {\n  function now() {\n    return new Date();\n  }\n\n  var force = true;\n\n  if (typeof root._bokeh_onload_callbacks === \"undefined\" || force === true) {\n    root._bokeh_onload_callbacks = [];\n    root._bokeh_is_loading = undefined;\n  }\n\n  \n\n  \n  if (typeof (root._bokeh_timeout) === \"undefined\" || force === true) {\n    root._bokeh_timeout = Date.now() + 5000;\n    root._bokeh_failed_load = false;\n  }\n\n  var NB_LOAD_WARNING = {'data': {'text/html':\n     \"<div style='background-color: #fdd'>\\n\"+\n     \"<p>\\n\"+\n     \"BokehJS does not appear to have successfully loaded. If loading BokehJS from CDN, this \\n\"+\n     \"may be due to a slow or bad network connection. Possible fixes:\\n\"+\n     \"</p>\\n\"+\n     \"<ul>\\n\"+\n     \"<li>re-rerun `output_notebook()` to attempt to load from CDN again, or</li>\\n\"+\n     \"<li>use INLINE resources instead, as so:</li>\\n\"+\n     \"</ul>\\n\"+\n     \"<code>\\n\"+\n     \"from bokeh.resources import INLINE\\n\"+\n     \"output_notebook(resources=INLINE)\\n\"+\n     \"</code>\\n\"+\n     \"</div>\"}};\n\n  function display_loaded() {\n    var el = document.getElementById(\"1001\");\n    if (el != null) {\n      el.textContent = \"BokehJS is loading...\";\n    }\n    if (root.Bokeh !== undefined) {\n      if (el != null) {\n        el.textContent = \"BokehJS \" + root.Bokeh.version + \" successfully loaded.\";\n      }\n    } else if (Date.now() < root._bokeh_timeout) {\n      setTimeout(display_loaded, 100)\n    }\n  }\n\n\n  function run_callbacks() {\n    try {\n      root._bokeh_onload_callbacks.forEach(function(callback) {\n        if (callback != null)\n          callback();\n      });\n    } finally {\n      delete root._bokeh_onload_callbacks\n    }\n    console.debug(\"Bokeh: all callbacks have finished\");\n  }\n\n  function load_libs(css_urls, js_urls, callback) {\n    if (css_urls == null) css_urls = [];\n    if (js_urls == null) js_urls = [];\n\n    root._bokeh_onload_callbacks.push(callback);\n    if (root._bokeh_is_loading > 0) {\n      console.debug(\"Bokeh: BokehJS is being loaded, scheduling callback at\", now());\n      return null;\n    }\n    if (js_urls == null || js_urls.length === 0) {\n      run_callbacks();\n      return null;\n    }\n    console.debug(\"Bokeh: BokehJS not loaded, scheduling load and callback at\", now());\n    root._bokeh_is_loading = css_urls.length + js_urls.length;\n\n    function on_load() {\n      root._bokeh_is_loading--;\n      if (root._bokeh_is_loading === 0) {\n        console.debug(\"Bokeh: all BokehJS libraries/stylesheets loaded\");\n        run_callbacks()\n      }\n    }\n\n    function on_error() {\n      console.error(\"failed to load \" + url);\n    }\n\n    for (var i = 0; i < css_urls.length; i++) {\n      var url = css_urls[i];\n      const element = document.createElement(\"link\");\n      element.onload = on_load;\n      element.onerror = on_error;\n      element.rel = \"stylesheet\";\n      element.type = \"text/css\";\n      element.href = url;\n      console.debug(\"Bokeh: injecting link tag for BokehJS stylesheet: \", url);\n      document.body.appendChild(element);\n    }\n\n    for (var i = 0; i < js_urls.length; i++) {\n      var url = js_urls[i];\n      var element = document.createElement('script');\n      element.onload = on_load;\n      element.onerror = on_error;\n      element.async = false;\n      element.src = url;\n      console.debug(\"Bokeh: injecting script tag for BokehJS library: \", url);\n      document.head.appendChild(element);\n    }\n  };var element = document.getElementById(\"1001\");\n  if (element == null) {\n    console.error(\"Bokeh: ERROR: autoload.js configured with elementid '1001' but no matching script tag was found. \")\n    return false;\n  }\n\n  function inject_raw_css(css) {\n    const element = document.createElement(\"style\");\n    element.appendChild(document.createTextNode(css));\n    document.body.appendChild(element);\n  }\n\n  var js_urls = [\"https://cdn.pydata.org/bokeh/release/bokeh-1.2.0.min.js\", \"https://cdn.pydata.org/bokeh/release/bokeh-widgets-1.2.0.min.js\", \"https://cdn.pydata.org/bokeh/release/bokeh-tables-1.2.0.min.js\", \"https://cdn.pydata.org/bokeh/release/bokeh-gl-1.2.0.min.js\"];\n  var css_urls = [\"https://cdn.pydata.org/bokeh/release/bokeh-1.2.0.min.css\", \"https://cdn.pydata.org/bokeh/release/bokeh-widgets-1.2.0.min.css\", \"https://cdn.pydata.org/bokeh/release/bokeh-tables-1.2.0.min.css\"];\n\n  var inline_js = [\n    function(Bokeh) {\n      Bokeh.set_log_level(\"info\");\n    },\n    \n    function(Bokeh) {\n      \n    },\n    function(Bokeh) {} // ensure no trailing comma for IE\n  ];\n\n  function run_inline_js() {\n    \n    if ((root.Bokeh !== undefined) || (force === true)) {\n      for (var i = 0; i < inline_js.length; i++) {\n        inline_js[i].call(root, root.Bokeh);\n      }if (force === true) {\n        display_loaded();\n      }} else if (Date.now() < root._bokeh_timeout) {\n      setTimeout(run_inline_js, 100);\n    } else if (!root._bokeh_failed_load) {\n      console.log(\"Bokeh: BokehJS failed to load within specified timeout.\");\n      root._bokeh_failed_load = true;\n    } else if (force !== true) {\n      var cell = $(document.getElementById(\"1001\")).parents('.cell').data().cell;\n      cell.output_area.append_execute_result(NB_LOAD_WARNING)\n    }\n\n  }\n\n  if (root._bokeh_is_loading === 0) {\n    console.debug(\"Bokeh: BokehJS loaded, going straight to plotting\");\n    run_inline_js();\n  } else {\n    load_libs(css_urls, js_urls, function() {\n      console.debug(\"Bokeh: BokehJS plotting callback run at\", now());\n      run_inline_js();\n    });\n  }\n}(window));"
     },
     "metadata": {},
     "output_type": "display_data"
    }
   ],
   "source": [
    "from bokeh.io import show, output_notebook\n",
    "from bokeh.layouts import gridplot\n",
    "from bokeh.models.scales import LogScale\n",
    "output_notebook()"
   ]
  },
  {
   "cell_type": "code",
   "execution_count": 49,
   "metadata": {},
   "outputs": [],
   "source": [
    "import pandas as pd\n",
    "import numpy as np"
   ]
  },
  {
   "cell_type": "markdown",
   "metadata": {},
   "source": [
    "## Load FarGen data\n",
    "\n",
    "Use high-quality variants."
   ]
  },
  {
   "cell_type": "code",
   "execution_count": 4,
   "metadata": {},
   "outputs": [],
   "source": [
    "BASE_DIR = '/home/olavur/experiments/2020-11-13_fargen1_exome_analysis'\n",
    "mt = hl.read_matrix_table(BASE_DIR + '/data/mt/high_quality_variants.mt')"
   ]
  },
  {
   "cell_type": "code",
   "execution_count": 5,
   "metadata": {},
   "outputs": [
    {
     "name": "stdout",
     "output_type": "stream",
     "text": [
      "Number of variants: 148305\n",
      "Number of samples: 469\n"
     ]
    }
   ],
   "source": [
    "n_variants, n_samples = mt.count()\n",
    "print('Number of variants: ' + str(n_variants))\n",
    "print('Number of samples: ' + str(n_samples))"
   ]
  },
  {
   "cell_type": "markdown",
   "metadata": {},
   "source": [
    "## Population filters\n",
    "\n",
    "Update variants stats."
   ]
  },
  {
   "cell_type": "code",
   "execution_count": 6,
   "metadata": {},
   "outputs": [],
   "source": [
    "mt = hl.variant_qc(mt)"
   ]
  },
  {
   "cell_type": "markdown",
   "metadata": {},
   "source": [
    "Remove variants with minor allele frequency under 0.01. Note that we remove only very rare variants, because common variants can be insufficient to describe fine-scale population structure at a subpopulation scale."
   ]
  },
  {
   "cell_type": "code",
   "execution_count": 7,
   "metadata": {},
   "outputs": [],
   "source": [
    "maf_filter = 0.01\n",
    "mt = mt.filter_rows((mt.variant_qc.AF[1] > maf_filter) & (mt.variant_qc.AF[1] < (1 - maf_filter)))"
   ]
  },
  {
   "cell_type": "markdown",
   "metadata": {},
   "source": [
    "## Filter indels\n",
    "\n",
    "Remove all indels from the dataset."
   ]
  },
  {
   "cell_type": "code",
   "execution_count": 8,
   "metadata": {},
   "outputs": [],
   "source": [
    "mt = mt.filter_rows(hl.is_snp(mt.alleles[0], mt.alleles[1]))"
   ]
  },
  {
   "cell_type": "markdown",
   "metadata": {},
   "source": [
    "## LD pruning\n",
    "\n",
    "Before we calculate LD, we remove multi-allelic sites.\n",
    "\n",
    "**NOTE:** I can do LD pruning on multi-allelic sites using [split_multi()](https://hail.is/docs/0.2/methods/genetics.html#hail.methods.split_multi)."
   ]
  },
  {
   "cell_type": "code",
   "execution_count": 9,
   "metadata": {},
   "outputs": [],
   "source": [
    "# NOTE: Now that this dataset is split, it should be possible to do LD pruning without removing multi-allelic sites.\n",
    "#mt = mt.filter_rows(hl.len(mt.alleles) == 2)"
   ]
  },
  {
   "cell_type": "markdown",
   "metadata": {},
   "source": [
    "Prune variants with $r^2 > 0.2$ within a 500 000 basepair window.\n",
    "\n",
    "**NOTE:** this $r^2$ value is quite arbitrary. It is the default from the Hail method and I did not try other values."
   ]
  },
  {
   "cell_type": "code",
   "execution_count": 10,
   "metadata": {},
   "outputs": [
    {
     "name": "stderr",
     "output_type": "stream",
     "text": [
      "2021-10-27 13:02:53 Hail: INFO: ld_prune: running local pruning stage with max queue size of 399458 variants\n",
      "[Stage 0:=====================================================>   (35 + 2) / 37]2021-10-27 13:03:00 Hail: INFO: wrote table with 47302 rows in 37 partitions to /home/olavur/tmp/qAToq8B6Exl6aEcqKTnKUB\n",
      "    Total size: 1.44 MiB\n",
      "    * Rows: 1.44 MiB\n",
      "    * Globals: 11.00 B\n",
      "    * Smallest partition: 655 rows (21.18 KiB)\n",
      "    * Largest partition:  1513 rows (47.13 KiB)\n",
      "[Stage 2:====================================================>    (11 + 1) / 12]2021-10-27 13:03:06 Hail: INFO: Wrote all 12 blocks of 47302 x 469 matrix with block size 4096.\n",
      "[Stage 6:======================================================>  (22 + 1) / 23]2021-10-27 13:04:05 Hail: INFO: wrote table with 58 rows in 23 partitions to /home/olavur/tmp/kbtN3AoF3nBWkCoAIRxG1t\n",
      "    Total size: 653.15 KiB\n",
      "    * Rows: 1.92 KiB\n",
      "    * Globals: 651.24 KiB\n",
      "    * Smallest partition: 0 rows (21.00 B)\n",
      "    * Largest partition:  10 rows (263.00 B)\n"
     ]
    }
   ],
   "source": [
    "pruned_variant_table = hl.ld_prune(mt.GT, r2=0.2, bp_window_size=500000)\n",
    "mt = mt.filter_rows(hl.is_defined(pruned_variant_table[mt.row_key]))"
   ]
  },
  {
   "cell_type": "markdown",
   "metadata": {},
   "source": [
    "Make a checkpoint, caching all operations done on the matrix table."
   ]
  },
  {
   "cell_type": "code",
   "execution_count": 11,
   "metadata": {},
   "outputs": [
    {
     "name": "stderr",
     "output_type": "stream",
     "text": [
      "[Stage 10:=============================================>          (30 + 7) / 37]2021-10-27 13:04:11 Hail: INFO: wrote matrix table with 47253 rows and 469 columns in 37 partitions to /home/olavur/tmp/ld_pruned.ht\n",
      "    Total size: 282.87 MiB\n",
      "    * Rows/entries: 282.82 MiB\n",
      "    * Columns: 52.33 KiB\n",
      "    * Globals: 11.00 B\n",
      "    * Smallest partition: 655 rows (3.40 MiB)\n",
      "    * Largest partition:  1516 rows (9.25 MiB)\n"
     ]
    }
   ],
   "source": [
    "if True:\n",
    "    mt = mt.checkpoint('/home/olavur/tmp/ld_pruned.ht', overwrite=True)\n",
    "else:\n",
    "    mt = hl.read_matrix_table('/home/olavur/tmp/ld_pruned.ht')"
   ]
  },
  {
   "cell_type": "code",
   "execution_count": 12,
   "metadata": {},
   "outputs": [
    {
     "name": "stdout",
     "output_type": "stream",
     "text": [
      "Number of variants: 47253\n",
      "Number of samples: 469\n"
     ]
    }
   ],
   "source": [
    "n_variants, n_samples = mt.count()\n",
    "print('Number of variants: ' + str(n_variants))\n",
    "print('Number of samples: ' + str(n_samples))"
   ]
  },
  {
   "cell_type": "markdown",
   "metadata": {},
   "source": [
    "This may be a lot of variants to run a PCA analysis on, but as mentioned previously, we do not want to remove too many rare variants as these can hold a lot of information about fine-scale population structure."
   ]
  },
  {
   "cell_type": "markdown",
   "metadata": {},
   "source": [
    "## Annotate birth place region\n",
    "\n",
    "Import data containing the birthplace ID of all FarGen participants. We will annotate the matrix table with these IDs.\n",
    "\n",
    "First we read a table containing the birthplace but with the 'RIN' participant ID. We will have to map this 'RIN' ID to an 'FN' ID."
   ]
  },
  {
   "cell_type": "code",
   "execution_count": 13,
   "metadata": {},
   "outputs": [
    {
     "name": "stderr",
     "output_type": "stream",
     "text": [
      "2021-10-27 13:04:11 Hail: INFO: Reading table without type imputation\n",
      "  Loading field 'ind' as type str (not specified)\n",
      "  Loading field 'region' as type str (not specified)\n"
     ]
    }
   ],
   "source": [
    "rin_birthplace_ht = hl.import_table(BASE_DIR + '/data/metadata/birthplace/rin_region.csv', delimiter=',')\n",
    "# Rename \"ind\" to \"rin\".\n",
    "# Convert the region variable to float.\n",
    "rin_birthplace_ht = rin_birthplace_ht.transmute(rin=rin_birthplace_ht.ind, birthplace=hl.float64(rin_birthplace_ht.region))\n",
    "\n",
    "rin_birthplace_ht = rin_birthplace_ht.key_by(rin_birthplace_ht.rin)"
   ]
  },
  {
   "cell_type": "markdown",
   "metadata": {},
   "source": [
    "Import table with 'RIN' IDs and corresponding 'FN' IDs."
   ]
  },
  {
   "cell_type": "code",
   "execution_count": 14,
   "metadata": {},
   "outputs": [
    {
     "name": "stderr",
     "output_type": "stream",
     "text": [
      "2021-10-27 13:04:11 Hail: WARN: Name collision: field 'sample' already in object dict. \n",
      "  This field must be referenced with __getitem__ syntax: obj['sample']\n",
      "2021-10-27 13:04:11 Hail: INFO: Reading table without type imputation\n",
      "  Loading field 'rin' as type str (not specified)\n",
      "  Loading field 'sample' as type str (not specified)\n"
     ]
    }
   ],
   "source": [
    "fargen_rin_ht = hl.import_table(BASE_DIR + '/data/metadata/birthplace/fargen_rin_samplename.csv', delimiter=',')\n",
    "fargen_rin_ht = fargen_rin_ht.key_by(fargen_rin_ht.rin)"
   ]
  },
  {
   "cell_type": "markdown",
   "metadata": {},
   "source": [
    "Make a table with 'RIN', 'FN' and birthplace."
   ]
  },
  {
   "cell_type": "code",
   "execution_count": 15,
   "metadata": {},
   "outputs": [],
   "source": [
    "# Annotate the table with the birthplace by the samplenames.\n",
    "samplename_birthplace_ht = rin_birthplace_ht.annotate(samplename=fargen_rin_ht[rin_birthplace_ht.rin].sample)\n",
    "samplename_birthplace_ht = samplename_birthplace_ht.key_by(samplename_birthplace_ht.samplename)"
   ]
  },
  {
   "cell_type": "markdown",
   "metadata": {},
   "source": [
    "We will now replace these region ID integers with the abbreviations below. For example, the abbreviation \"NOR\" corresponds to the Northern Islands (Norðuroyggjar) and the integer 1.\n",
    "\n",
    "Region number | Region name(s) | Region abbreviation\n",
    "-----|-----|----\n",
    "1 | Norðoyggjar | <span style=\"color:#157EBF\">NOR</span>\n",
    "2 | Eysturoy og Norðstreymoy | <span style=\"color:#78B430\">EYN</span>\n",
    "3 | Suðurstreymoy | <span style=\"color:#FAA530\">STR</span>\n",
    "4 | Vágar og Mykines | <span style=\"color:#00E9E8\">VAG</span>\n",
    "5 | Sandoy, Skúvoy, Stóra Dímun | <span style=\"color:#FFF73F\">SAN</span>\n",
    "6 | Suðuroy | <span style=\"color:#974C93\">SUD</span>"
   ]
  },
  {
   "cell_type": "code",
   "execution_count": 16,
   "metadata": {},
   "outputs": [],
   "source": [
    "samplename_birthplace_ht = samplename_birthplace_ht.annotate_globals(region_names=['NOR', 'EYN', 'STR', 'VAG', 'SAN', 'SUD'])\n",
    "# We subtract one from the integer ID to obtain zero based indexing.\n",
    "samplename_birthplace_ht = samplename_birthplace_ht.annotate(birthplace_name=samplename_birthplace_ht.region_names[hl.int(samplename_birthplace_ht.birthplace) - 1])"
   ]
  },
  {
   "cell_type": "markdown",
   "metadata": {},
   "source": [
    "Finally, we an annotate the matrix table with birthplace of samples."
   ]
  },
  {
   "cell_type": "code",
   "execution_count": 17,
   "metadata": {},
   "outputs": [],
   "source": [
    "mt = mt.annotate_cols(birthplace = samplename_birthplace_ht[mt.s].birthplace_name)"
   ]
  },
  {
   "cell_type": "markdown",
   "metadata": {},
   "source": [
    "Count the number of samples in each region. Note that `birthplace=6` means that we do not know the birthplace of the sample."
   ]
  },
  {
   "cell_type": "code",
   "execution_count": 18,
   "metadata": {},
   "outputs": [
    {
     "name": "stderr",
     "output_type": "stream",
     "text": [
      "2021-10-27 13:04:12 Hail: WARN: cols(): Resulting column table is sorted by 'col_key'.\n",
      "    To preserve matrix table column order, first unkey columns with 'key_cols_by()'\n",
      "2021-10-27 13:04:12 Hail: WARN: Name collision: field 'count' already in object dict. \n",
      "  This field must be referenced with __getitem__ syntax: obj['count']\n",
      "2021-10-27 13:04:12 Hail: INFO: Ordering unsorted dataset with network shuffle\n",
      "2021-10-27 13:04:12 Hail: INFO: Ordering unsorted dataset with network shuffle\n",
      "[Stage 15:>                                                         (0 + 1) / 1]2021-10-27 13:04:15 Hail: INFO: Ordering unsorted dataset with network shuffle\n"
     ]
    },
    {
     "data": {
      "text/html": [
       "<div>\n",
       "<style scoped>\n",
       "    .dataframe tbody tr th:only-of-type {\n",
       "        vertical-align: middle;\n",
       "    }\n",
       "\n",
       "    .dataframe tbody tr th {\n",
       "        vertical-align: top;\n",
       "    }\n",
       "\n",
       "    .dataframe thead th {\n",
       "        text-align: right;\n",
       "    }\n",
       "</style>\n",
       "<table border=\"1\" class=\"dataframe\">\n",
       "  <thead>\n",
       "    <tr style=\"text-align: right;\">\n",
       "      <th></th>\n",
       "      <th>birthplace</th>\n",
       "      <th>count</th>\n",
       "    </tr>\n",
       "  </thead>\n",
       "  <tbody>\n",
       "    <tr>\n",
       "      <th>0</th>\n",
       "      <td>EYN</td>\n",
       "      <td>99</td>\n",
       "    </tr>\n",
       "    <tr>\n",
       "      <th>1</th>\n",
       "      <td>NOR</td>\n",
       "      <td>69</td>\n",
       "    </tr>\n",
       "    <tr>\n",
       "      <th>2</th>\n",
       "      <td>SAN</td>\n",
       "      <td>17</td>\n",
       "    </tr>\n",
       "    <tr>\n",
       "      <th>3</th>\n",
       "      <td>STR</td>\n",
       "      <td>178</td>\n",
       "    </tr>\n",
       "    <tr>\n",
       "      <th>4</th>\n",
       "      <td>SUD</td>\n",
       "      <td>34</td>\n",
       "    </tr>\n",
       "    <tr>\n",
       "      <th>5</th>\n",
       "      <td>VAG</td>\n",
       "      <td>28</td>\n",
       "    </tr>\n",
       "    <tr>\n",
       "      <th>6</th>\n",
       "      <td>None</td>\n",
       "      <td>44</td>\n",
       "    </tr>\n",
       "  </tbody>\n",
       "</table>\n",
       "</div>"
      ],
      "text/plain": [
       "  birthplace  count\n",
       "0        EYN     99\n",
       "1        NOR     69\n",
       "2        SAN     17\n",
       "3        STR    178\n",
       "4        SUD     34\n",
       "5        VAG     28\n",
       "6       None     44"
      ]
     },
     "execution_count": 18,
     "metadata": {},
     "output_type": "execute_result"
    }
   ],
   "source": [
    "cols_ht = mt.cols()\n",
    "result = (cols_ht.group_by(cols_ht.birthplace)\n",
    "    .aggregate(count = hl.agg.count()))\n",
    "result.to_pandas()"
   ]
  },
  {
   "cell_type": "markdown",
   "metadata": {},
   "source": [
    "## Filter related individuals\n",
    "\n",
    "Estimate the relatedness between the samples by the PC-Relate method, with a minimum alternate allele frequency of 0.001."
   ]
  },
  {
   "cell_type": "code",
   "execution_count": 19,
   "metadata": {},
   "outputs": [
    {
     "name": "stderr",
     "output_type": "stream",
     "text": [
      "[Stage 21:==========================>                            (18 + 19) / 37]2021-10-27 13:04:18 Hail: INFO: hwe_normalized_pca: running PCA using 47253 variants.\n",
      "[Stage 22:======================================================> (36 + 1) / 37]2021-10-27 13:04:20 Hail: INFO: pca: running PCA with 2 components...\n",
      "[Stage 466:====>                                                  (1 + 11) / 12]2021-10-27 13:04:52 Hail: INFO: Wrote all 12 blocks of 47253 x 469 matrix with block size 4096.\n"
     ]
    }
   ],
   "source": [
    "pc_rel = hl.pc_relate(mt.GT, 0.001, k=2, statistics='kin')"
   ]
  },
  {
   "cell_type": "markdown",
   "metadata": {},
   "source": [
    "Plot all the relatedness coefficients in a histogram to get an overview."
   ]
  },
  {
   "cell_type": "code",
   "execution_count": 20,
   "metadata": {},
   "outputs": [
    {
     "name": "stderr",
     "output_type": "stream",
     "text": [
      "2021-10-27 13:04:52 Hail: INFO: wrote matrix with 3 rows and 47253 columns as 12 blocks of size 4096 to /home/olavur/tmp/pcrelate-write-read-c4XDZHa29kM9MWnN21R2w5.bm\n",
      "2021-10-27 13:04:53 Hail: INFO: wrote matrix with 47253 rows and 469 columns as 12 blocks of size 4096 to /home/olavur/tmp/pcrelate-write-read-ZO0AHU5EP4sOsVUwu1EQLV.bm\n",
      "[Stage 469:>                                                        (0 + 1) / 1]2021-10-27 13:05:09 Hail: INFO: wrote matrix with 469 rows and 469 columns as 1 block of size 4096 to /home/olavur/tmp/pcrelate-write-read-u6sQ5Q2MYyD6i3QfrzGUTy.bm\n",
      "[Stage 470:>                                                        (0 + 1) / 1]2021-10-27 13:05:26 Hail: INFO: wrote matrix with 469 rows and 469 columns as 1 block of size 4096 to /home/olavur/tmp/pcrelate-write-read-GPkcvE0E7c15efnRZrgPLO.bm\n",
      "2021-10-27 13:05:26 Hail: INFO: wrote matrix with 469 rows and 469 columns as 1 block of size 4096 to /home/olavur/tmp/pcrelate-write-read-wQtYpshWw0hZkjBj6ADQJl.bm\n",
      "2021-10-27 13:05:26 Hail: INFO: Ordering unsorted dataset with network shuffle\n",
      "2021-10-27 13:05:27 Hail: INFO: wrote matrix with 3 rows and 47253 columns as 12 blocks of size 4096 to /home/olavur/tmp/pcrelate-write-read-999kCAZNDdJxTy6pV1bl4b.bm\n",
      "2021-10-27 13:05:27 Hail: INFO: wrote matrix with 47253 rows and 469 columns as 12 blocks of size 4096 to /home/olavur/tmp/pcrelate-write-read-St6DikWX25qLbClYGvVs33.bm\n",
      "[Stage 477:>                                                        (0 + 1) / 1]2021-10-27 13:05:42 Hail: INFO: wrote matrix with 469 rows and 469 columns as 1 block of size 4096 to /home/olavur/tmp/pcrelate-write-read-BzqiOqdouHkIvlruewSmvF.bm\n",
      "[Stage 478:>                                                        (0 + 1) / 1]2021-10-27 13:05:59 Hail: INFO: wrote matrix with 469 rows and 469 columns as 1 block of size 4096 to /home/olavur/tmp/pcrelate-write-read-u1Azs95g3NCtVLxQaMTEES.bm\n",
      "2021-10-27 13:05:59 Hail: INFO: wrote matrix with 469 rows and 469 columns as 1 block of size 4096 to /home/olavur/tmp/pcrelate-write-read-AK5Cb9PNoJs5GijjBwH2Qs.bm\n",
      "2021-10-27 13:05:59 Hail: INFO: Ordering unsorted dataset with network shuffle\n"
     ]
    },
    {
     "data": {
      "text/html": [
       "\n",
       "\n",
       "\n",
       "\n",
       "\n",
       "\n",
       "  <div class=\"bk-root\" id=\"0507d33d-17f3-49c1-a103-d2e8c6c5e270\" data-root-id=\"1002\"></div>\n"
      ]
     },
     "metadata": {},
     "output_type": "display_data"
    },
    {
     "data": {
      "application/javascript": [
       "(function(root) {\n",
       "  function embed_document(root) {\n",
       "    \n",
       "  var docs_json = {\"ea420c92-89ed-4e4a-88f0-6e70c9feb897\":{\"roots\":{\"references\":[{\"attributes\":{\"background_fill_color\":{\"value\":\"#EEEEEE\"},\"below\":[{\"id\":\"1013\",\"type\":\"LinearAxis\"}],\"center\":[{\"id\":\"1017\",\"type\":\"Grid\"},{\"id\":\"1022\",\"type\":\"Grid\"}],\"left\":[{\"id\":\"1018\",\"type\":\"LinearAxis\"}],\"renderers\":[{\"id\":\"1039\",\"type\":\"GlyphRenderer\"}],\"title\":{\"id\":\"1003\",\"type\":\"Title\"},\"toolbar\":{\"id\":\"1029\",\"type\":\"Toolbar\"},\"x_range\":{\"id\":\"1005\",\"type\":\"Range1d\"},\"x_scale\":{\"id\":\"1009\",\"type\":\"LinearScale\"},\"y_range\":{\"id\":\"1007\",\"type\":\"DataRange1d\"},\"y_scale\":{\"id\":\"1011\",\"type\":\"LinearScale\"}},\"id\":\"1002\",\"subtype\":\"Figure\",\"type\":\"Plot\"},{\"attributes\":{\"bottom_units\":\"screen\",\"fill_alpha\":{\"value\":0.5},\"fill_color\":{\"value\":\"lightgrey\"},\"left_units\":\"screen\",\"level\":\"overlay\",\"line_alpha\":{\"value\":1.0},\"line_color\":{\"value\":\"black\"},\"line_dash\":[4,4],\"line_width\":{\"value\":2},\"render_mode\":\"css\",\"right_units\":\"screen\",\"top_units\":\"screen\"},\"id\":\"1046\",\"type\":\"BoxAnnotation\"},{\"attributes\":{},\"id\":\"1023\",\"type\":\"PanTool\"},{\"attributes\":{},\"id\":\"1026\",\"type\":\"SaveTool\"},{\"attributes\":{\"dimension\":1,\"ticker\":{\"id\":\"1019\",\"type\":\"BasicTicker\"}},\"id\":\"1022\",\"type\":\"Grid\"},{\"attributes\":{},\"id\":\"1011\",\"type\":\"LinearScale\"},{\"attributes\":{\"bottom\":{\"value\":0},\"fill_color\":{\"value\":\"#1f77b4\"},\"left\":{\"field\":\"left\"},\"right\":{\"field\":\"right\"},\"top\":{\"field\":\"top\"}},\"id\":\"1037\",\"type\":\"Quad\"},{\"attributes\":{\"text\":\"Histogram of kinship coefficient\"},\"id\":\"1003\",\"type\":\"Title\"},{\"attributes\":{},\"id\":\"1028\",\"type\":\"HelpTool\"},{\"attributes\":{},\"id\":\"1047\",\"type\":\"Selection\"},{\"attributes\":{},\"id\":\"1048\",\"type\":\"UnionRenderers\"},{\"attributes\":{},\"id\":\"1009\",\"type\":\"LinearScale\"},{\"attributes\":{},\"id\":\"1024\",\"type\":\"WheelZoomTool\"},{\"attributes\":{},\"id\":\"1045\",\"type\":\"BasicTickFormatter\"},{\"attributes\":{\"callback\":null,\"end\":0.5131324783460567,\"start\":-0.18931041482727193},\"id\":\"1005\",\"type\":\"Range1d\"},{\"attributes\":{\"callback\":null},\"id\":\"1007\",\"type\":\"DataRange1d\"},{\"attributes\":{},\"id\":\"1043\",\"type\":\"BasicTickFormatter\"},{\"attributes\":{\"ticker\":{\"id\":\"1014\",\"type\":\"BasicTicker\"}},\"id\":\"1017\",\"type\":\"Grid\"},{\"attributes\":{\"overlay\":{\"id\":\"1046\",\"type\":\"BoxAnnotation\"}},\"id\":\"1025\",\"type\":\"BoxZoomTool\"},{\"attributes\":{\"data_source\":{\"id\":\"1036\",\"type\":\"ColumnDataSource\"},\"glyph\":{\"id\":\"1037\",\"type\":\"Quad\"},\"hover_glyph\":null,\"muted_glyph\":null,\"nonselection_glyph\":{\"id\":\"1038\",\"type\":\"Quad\"},\"selection_glyph\":null,\"view\":{\"id\":\"1040\",\"type\":\"CDSView\"}},\"id\":\"1039\",\"type\":\"GlyphRenderer\"},{\"attributes\":{},\"id\":\"1027\",\"type\":\"ResetTool\"},{\"attributes\":{\"bottom\":{\"value\":0},\"fill_alpha\":{\"value\":0.1},\"fill_color\":{\"value\":\"#1f77b4\"},\"left\":{\"field\":\"left\"},\"line_alpha\":{\"value\":0.1},\"line_color\":{\"value\":\"#1f77b4\"},\"right\":{\"field\":\"right\"},\"top\":{\"field\":\"top\"}},\"id\":\"1038\",\"type\":\"Quad\"},{\"attributes\":{\"formatter\":{\"id\":\"1043\",\"type\":\"BasicTickFormatter\"},\"ticker\":{\"id\":\"1014\",\"type\":\"BasicTicker\"}},\"id\":\"1013\",\"type\":\"LinearAxis\"},{\"attributes\":{\"axis_label\":\"Frequency\",\"formatter\":{\"id\":\"1045\",\"type\":\"BasicTickFormatter\"},\"ticker\":{\"id\":\"1019\",\"type\":\"BasicTicker\"}},\"id\":\"1018\",\"type\":\"LinearAxis\"},{\"attributes\":{},\"id\":\"1019\",\"type\":\"BasicTicker\"},{\"attributes\":{\"callback\":null,\"data\":{\"left\":[-0.15738119241030243,-0.14460950344351464,-0.13183781447672685,-0.11906612550993906,-0.10629443654315127,-0.09352274757636346,-0.08075105860957567,-0.06797936964278788,-0.055207680676000084,-0.04243599170921229,-0.029664302742424487,-0.016892613775636695,-0.0041209248088489026,0.00865076415793889,0.02142245312472668,0.03419414209151447,0.046965831058302265,0.05973752002509006,0.07250920899187785,0.08528089795866564,0.09805258692545346,0.11082427589224123,0.12359596485902904,0.1363676538258168,0.14913934279260463,0.1619110317593924,0.1746827207261802,0.18745440969296798,0.2002260986597558,0.21299778762654356,0.22576947659333138,0.23854116556011914,0.251312854526907,0.2640845434936948,0.2768562324604825,0.28962792142727034,0.30239961039405816,0.315171299360846,0.3279429883276337,0.3407146772944215,0.35348636626120933,0.36625805522799704,0.37902974419478486,0.3918014331615727,0.4045731221283605,0.4173448110951482,0.430116500061936,0.44288818902872384,0.45565987799551166,0.4684315669622995],\"right\":[-0.14460950344351464,-0.13183781447672685,-0.11906612550993906,-0.10629443654315127,-0.09352274757636346,-0.08075105860957567,-0.06797936964278788,-0.055207680676000084,-0.04243599170921229,-0.029664302742424487,-0.016892613775636695,-0.0041209248088489026,0.00865076415793889,0.02142245312472668,0.03419414209151447,0.046965831058302265,0.05973752002509006,0.07250920899187785,0.08528089795866564,0.09805258692545346,0.11082427589224123,0.12359596485902904,0.1363676538258168,0.14913934279260463,0.1619110317593924,0.1746827207261802,0.18745440969296798,0.2002260986597558,0.21299778762654356,0.22576947659333138,0.23854116556011914,0.251312854526907,0.2640845434936948,0.2768562324604825,0.28962792142727034,0.30239961039405816,0.315171299360846,0.3279429883276337,0.3407146772944215,0.35348636626120933,0.36625805522799704,0.37902974419478486,0.3918014331615727,0.4045731221283605,0.4173448110951482,0.430116500061936,0.44288818902872384,0.45565987799551166,0.4684315669622995,0.4812032559290872],\"top\":[1,0,1,0,0,2,0,0,7,37,254,32139,73619,3236,237,59,31,24,9,5,6,4,7,4,0,0,0,7,3,5,26,18,2,0,1,0,0,0,0,0,0,0,0,0,1,0,0,0,0,1]},\"selected\":{\"id\":\"1047\",\"type\":\"Selection\"},\"selection_policy\":{\"id\":\"1048\",\"type\":\"UnionRenderers\"}},\"id\":\"1036\",\"type\":\"ColumnDataSource\"},{\"attributes\":{\"active_drag\":\"auto\",\"active_inspect\":\"auto\",\"active_multi\":null,\"active_scroll\":\"auto\",\"active_tap\":\"auto\",\"tools\":[{\"id\":\"1023\",\"type\":\"PanTool\"},{\"id\":\"1024\",\"type\":\"WheelZoomTool\"},{\"id\":\"1025\",\"type\":\"BoxZoomTool\"},{\"id\":\"1026\",\"type\":\"SaveTool\"},{\"id\":\"1027\",\"type\":\"ResetTool\"},{\"id\":\"1028\",\"type\":\"HelpTool\"}]},\"id\":\"1029\",\"type\":\"Toolbar\"},{\"attributes\":{},\"id\":\"1014\",\"type\":\"BasicTicker\"},{\"attributes\":{\"source\":{\"id\":\"1036\",\"type\":\"ColumnDataSource\"}},\"id\":\"1040\",\"type\":\"CDSView\"}],\"root_ids\":[\"1002\"]},\"title\":\"Bokeh Application\",\"version\":\"1.2.0\"}};\n",
       "  var render_items = [{\"docid\":\"ea420c92-89ed-4e4a-88f0-6e70c9feb897\",\"roots\":{\"1002\":\"0507d33d-17f3-49c1-a103-d2e8c6c5e270\"}}];\n",
       "  root.Bokeh.embed.embed_items_notebook(docs_json, render_items);\n",
       "\n",
       "  }\n",
       "  if (root.Bokeh !== undefined) {\n",
       "    embed_document(root);\n",
       "  } else {\n",
       "    var attempts = 0;\n",
       "    var timer = setInterval(function(root) {\n",
       "      if (root.Bokeh !== undefined) {\n",
       "        embed_document(root);\n",
       "        clearInterval(timer);\n",
       "      }\n",
       "      attempts++;\n",
       "      if (attempts > 100) {\n",
       "        console.log(\"Bokeh: ERROR: Unable to run BokehJS code because BokehJS library is missing\");\n",
       "        clearInterval(timer);\n",
       "      }\n",
       "    }, 10, root)\n",
       "  }\n",
       "})(window);"
      ],
      "application/vnd.bokehjs_exec.v0+json": ""
     },
     "metadata": {
      "application/vnd.bokehjs_exec.v0+json": {
       "id": "1002"
      }
     },
     "output_type": "display_data"
    }
   ],
   "source": [
    "p = hl.plot.histogram(pc_rel.kin, title='Histogram of kinship coefficient')\n",
    "show(p)"
   ]
  },
  {
   "cell_type": "code",
   "execution_count": 21,
   "metadata": {},
   "outputs": [],
   "source": [
    "pairs = pc_rel.filter(pc_rel['kin'] > 2**(-4))"
   ]
  },
  {
   "cell_type": "markdown",
   "metadata": {},
   "source": [
    "Then we find the maximal independent set, consistent of the samples to remove."
   ]
  },
  {
   "cell_type": "code",
   "execution_count": 22,
   "metadata": {},
   "outputs": [
    {
     "name": "stderr",
     "output_type": "stream",
     "text": [
      "2021-10-27 13:06:01 Hail: INFO: wrote matrix with 3 rows and 47253 columns as 12 blocks of size 4096 to /home/olavur/tmp/pcrelate-write-read-v983vyHTgfdqpEq06z7VdO.bm\n",
      "2021-10-27 13:06:01 Hail: INFO: wrote matrix with 47253 rows and 469 columns as 12 blocks of size 4096 to /home/olavur/tmp/pcrelate-write-read-v4LnbuAzGGYHqw9evjZbVK.bm\n",
      "[Stage 485:>                                                        (0 + 1) / 1]2021-10-27 13:06:16 Hail: INFO: wrote matrix with 469 rows and 469 columns as 1 block of size 4096 to /home/olavur/tmp/pcrelate-write-read-XYTdy3DruLvZPaRzJSc1W2.bm\n",
      "[Stage 486:>                                                        (0 + 1) / 1]2021-10-27 13:06:32 Hail: INFO: wrote matrix with 469 rows and 469 columns as 1 block of size 4096 to /home/olavur/tmp/pcrelate-write-read-n8xZHCqEhUHLjMtO77kU4q.bm\n",
      "2021-10-27 13:06:32 Hail: INFO: wrote matrix with 469 rows and 469 columns as 1 block of size 4096 to /home/olavur/tmp/pcrelate-write-read-mG9V4AdMZDkgcbPuR8lgC3.bm\n",
      "2021-10-27 13:06:32 Hail: INFO: Ordering unsorted dataset with network shuffle\n",
      "2021-10-27 13:06:33 Hail: INFO: wrote table with 115 rows in 1 partition to /home/olavur/tmp/OuzI7NjgzKqaYXguqOd6BN\n",
      "    Total size: 1.15 KiB\n",
      "    * Rows: 1.14 KiB\n",
      "    * Globals: 11.00 B\n",
      "    * Smallest partition: 115 rows (1.14 KiB)\n",
      "    * Largest partition:  115 rows (1.14 KiB)\n"
     ]
    }
   ],
   "source": [
    "related_samples_to_remove = hl.maximal_independent_set(pairs.i, pairs.j, keep=False)"
   ]
  },
  {
   "cell_type": "markdown",
   "metadata": {},
   "source": [
    "Now we filter these individuals from the matrix table."
   ]
  },
  {
   "cell_type": "code",
   "execution_count": 23,
   "metadata": {},
   "outputs": [],
   "source": [
    "mt = mt.filter_cols(hl.is_defined(related_samples_to_remove[mt.col_key]), keep=False)"
   ]
  },
  {
   "cell_type": "markdown",
   "metadata": {},
   "source": [
    "Make a checkpoint, caching all operations done on the matrix table."
   ]
  },
  {
   "cell_type": "code",
   "execution_count": 24,
   "metadata": {},
   "outputs": [
    {
     "name": "stderr",
     "output_type": "stream",
     "text": [
      "2021-10-27 13:06:34 Hail: INFO: Ordering unsorted dataset with network shuffle\n",
      "2021-10-27 13:06:34 Hail: INFO: Ordering unsorted dataset with network shuffle\n",
      "[Stage 496:>                                                        (0 + 1) / 1]2021-10-27 13:06:35 Hail: INFO: Coerced sorted dataset\n",
      "2021-10-27 13:06:35 Hail: INFO: Ordering unsorted dataset with network shuffle\n",
      "[Stage 501:===================================>                  (24 + 13) / 37]2021-10-27 13:06:39 Hail: INFO: wrote matrix table with 47253 rows and 382 columns in 37 partitions to /home/olavur/tmp/rel_pruned.ht\n",
      "    Total size: 234.44 MiB\n",
      "    * Rows/entries: 234.40 MiB\n",
      "    * Columns: 43.52 KiB\n",
      "    * Globals: 11.00 B\n",
      "    * Smallest partition: 655 rows (2.82 MiB)\n",
      "    * Largest partition:  1516 rows (7.67 MiB)\n"
     ]
    }
   ],
   "source": [
    "if True:\n",
    "    mt = mt.checkpoint('/home/olavur/tmp/rel_pruned.ht', overwrite=True)\n",
    "else:\n",
    "    mt = hl.read_matrix_table('/home/olavur/tmp/rel_pruned.ht')"
   ]
  },
  {
   "cell_type": "code",
   "execution_count": 25,
   "metadata": {},
   "outputs": [
    {
     "name": "stdout",
     "output_type": "stream",
     "text": [
      "Number of variants: 47253\n",
      "Number of samples: 382\n"
     ]
    }
   ],
   "source": [
    "n_variants, n_samples = mt.count()\n",
    "print('Number of variants: ' + str(n_variants))\n",
    "print('Number of samples: ' + str(n_samples))"
   ]
  },
  {
   "cell_type": "markdown",
   "metadata": {},
   "source": [
    "## Compute PCA"
   ]
  },
  {
   "cell_type": "code",
   "execution_count": 26,
   "metadata": {},
   "outputs": [
    {
     "name": "stderr",
     "output_type": "stream",
     "text": [
      "2021-10-27 13:06:40 Hail: INFO: hwe_normalized_pca: running PCA using 47253 variants.\n",
      "2021-10-27 13:06:41 Hail: INFO: pca: running PCA with 4 components...\n",
      "[Stage 530:==================>                                   (13 + 24) / 37]"
     ]
    }
   ],
   "source": [
    "eigenvalues, scores, loadings = hl.hwe_normalized_pca(mt.GT, k=4)"
   ]
  },
  {
   "cell_type": "code",
   "execution_count": 27,
   "metadata": {},
   "outputs": [],
   "source": [
    "mt = mt.annotate_cols(scores = scores[mt.s].scores)"
   ]
  },
  {
   "cell_type": "code",
   "execution_count": 28,
   "metadata": {},
   "outputs": [
    {
     "data": {
      "text/html": [
       "\n",
       "\n",
       "\n",
       "\n",
       "\n",
       "\n",
       "  <div class=\"bk-root\" id=\"9abdfc6c-c832-4c64-a0c9-6d149cb2f147\" data-root-id=\"1097\"></div>\n"
      ]
     },
     "metadata": {},
     "output_type": "display_data"
    },
    {
     "data": {
      "application/javascript": [
       "(function(root) {\n",
       "  function embed_document(root) {\n",
       "    \n",
       "  var docs_json = {\"1030bb13-07df-460d-af41-312d3d96baa5\":{\"roots\":{\"references\":[{\"attributes\":{\"below\":[{\"id\":\"1108\",\"type\":\"LinearAxis\"}],\"center\":[{\"id\":\"1112\",\"type\":\"Grid\"},{\"id\":\"1117\",\"type\":\"Grid\"}],\"left\":[{\"id\":\"1113\",\"type\":\"LinearAxis\"},{\"id\":\"1184\",\"type\":\"Legend\"},{\"id\":\"1185\",\"type\":\"ColorBar\"}],\"plot_height\":600,\"plot_width\":800,\"renderers\":[{\"id\":\"1140\",\"type\":\"GlyphRenderer\"},{\"id\":\"1146\",\"type\":\"GlyphRenderer\"},{\"id\":\"1152\",\"type\":\"GlyphRenderer\"},{\"id\":\"1158\",\"type\":\"GlyphRenderer\"},{\"id\":\"1164\",\"type\":\"GlyphRenderer\"},{\"id\":\"1170\",\"type\":\"GlyphRenderer\"},{\"id\":\"1176\",\"type\":\"GlyphRenderer\"}],\"title\":{\"id\":\"1098\",\"type\":\"Title\"},\"toolbar\":{\"id\":\"1124\",\"type\":\"Toolbar\"},\"x_range\":{\"id\":\"1100\",\"type\":\"DataRange1d\"},\"x_scale\":{\"id\":\"1104\",\"type\":\"LinearScale\"},\"y_range\":{\"id\":\"1102\",\"type\":\"DataRange1d\"},\"y_scale\":{\"id\":\"1106\",\"type\":\"LinearScale\"}},\"id\":\"1097\",\"subtype\":\"Figure\",\"type\":\"Plot\"},{\"attributes\":{},\"id\":\"1203\",\"type\":\"UnionRenderers\"},{\"attributes\":{\"filters\":[{\"id\":\"1147\",\"type\":\"GroupFilter\"}],\"source\":{\"id\":\"1133\",\"type\":\"ColumnDataSource\"}},\"id\":\"1148\",\"type\":\"CDSView\"},{\"attributes\":{\"label\":{\"value\":\"SUD\"},\"renderers\":[{\"id\":\"1170\",\"type\":\"GlyphRenderer\"}]},\"id\":\"1182\",\"type\":\"LegendItem\"},{\"attributes\":{},\"id\":\"1200\",\"type\":\"BasicTickFormatter\"},{\"attributes\":{},\"id\":\"1106\",\"type\":\"LinearScale\"},{\"attributes\":{\"active_drag\":\"auto\",\"active_inspect\":\"auto\",\"active_multi\":null,\"active_scroll\":\"auto\",\"active_tap\":\"auto\",\"tools\":[{\"id\":\"1118\",\"type\":\"PanTool\"},{\"id\":\"1119\",\"type\":\"WheelZoomTool\"},{\"id\":\"1120\",\"type\":\"BoxZoomTool\"},{\"id\":\"1121\",\"type\":\"SaveTool\"},{\"id\":\"1122\",\"type\":\"ResetTool\"},{\"id\":\"1123\",\"type\":\"HelpTool\"},{\"id\":\"1132\",\"type\":\"HoverTool\"}]},\"id\":\"1124\",\"type\":\"Toolbar\"},{\"attributes\":{\"color_mapper\":null,\"formatter\":{\"id\":\"1200\",\"type\":\"BasicTickFormatter\"},\"ticker\":{\"id\":\"1199\",\"type\":\"BasicTicker\"},\"visible\":false},\"id\":\"1185\",\"type\":\"ColorBar\"},{\"attributes\":{\"column_name\":\"label\",\"group\":\"STR\"},\"id\":\"1159\",\"type\":\"GroupFilter\"},{\"attributes\":{\"data_source\":{\"id\":\"1133\",\"type\":\"ColumnDataSource\"},\"glyph\":{\"id\":\"1144\",\"type\":\"Circle\"},\"hover_glyph\":null,\"muted_glyph\":null,\"nonselection_glyph\":{\"id\":\"1145\",\"type\":\"Circle\"},\"selection_glyph\":null,\"view\":{\"id\":\"1142\",\"type\":\"CDSView\"}},\"id\":\"1146\",\"type\":\"GlyphRenderer\"},{\"attributes\":{\"fill_color\":{\"field\":\"label\",\"transform\":{\"id\":\"1134\",\"type\":\"CategoricalColorMapper\"}},\"line_color\":{\"field\":\"label\",\"transform\":{\"id\":\"1134\",\"type\":\"CategoricalColorMapper\"}},\"x\":{\"field\":\"x\"},\"y\":{\"field\":\"y\"}},\"id\":\"1168\",\"type\":\"Circle\"},{\"attributes\":{\"callback\":null},\"id\":\"1100\",\"type\":\"DataRange1d\"},{\"attributes\":{\"fill_color\":{\"field\":\"label\",\"transform\":{\"id\":\"1134\",\"type\":\"CategoricalColorMapper\"}},\"line_color\":{\"field\":\"label\",\"transform\":{\"id\":\"1134\",\"type\":\"CategoricalColorMapper\"}},\"x\":{\"field\":\"x\"},\"y\":{\"field\":\"y\"}},\"id\":\"1162\",\"type\":\"Circle\"},{\"attributes\":{\"callback\":null,\"data\":{\"index\":[0,1,2,3,4,5,6,7,8,9,10,11,12,13,14,15,16,17,18,19,20,21,22,23,24,25,26,27,28,29,30,31,32,33,34,35,36,37,38,39,40,41,42,43,44,45,46,47,48,49,50,51,52,53,54,55,56,57,58,59,60,61,62,63,64,65,66,67,68,69,70,71,72,73,74,75,76,77,78,79,80,81,82,83,84,85,86,87,88,89,90,91,92,93,94,95,96,97,98,99,100,101,102,103,104,105,106,107,108,109,110,111,112,113,114,115,116,117,118,119,120,121,122,123,124,125,126,127,128,129,130,131,132,133,134,135,136,137,138,139,140,141,142,143,144,145,146,147,148,149,150,151,152,153,154,155,156,157,158,159,160,161,162,163,164,165,166,167,168,169,170,171,172,173,174,175,176,177,178,179,180,181,182,183,184,185,186,187,188,189,190,191,192,193,194,195,196,197,198,199,200,201,202,203,204,205,206,207,208,209,210,211,212,213,214,215,216,217,218,219,220,221,222,223,224,225,226,227,228,229,230,231,232,233,234,235,236,237,238,239,240,241,242,243,244,245,246,247,248,249,250,251,252,253,254,255,256,257,258,259,260,261,262,263,264,265,266,267,268,269,270,271,272,273,274,275,276,277,278,279,280,281,282,283,284,285,286,287,288,289,290,291,292,293,294,295,296,297,298,299,300,301,302,303,304,305,306,307,308,309,310,311,312,313,314,315,316,317,318,319,320,321,322,323,324,325,326,327,328,329,330,331,332,333,334,335,336,337,338,339,340,341,342,343,344,345,346,347,348,349,350,351,352,353,354,355,356,357,358,359,360,361,362,363,364,365,366,367,368,369,370,371,372,373,374,375,376,377],\"label\":[\"NA\",\"NOR\",\"EYN\",\"STR\",\"EYN\",\"EYN\",\"EYN\",\"NA\",\"EYN\",\"NOR\",\"EYN\",\"VAG\",\"EYN\",\"NA\",\"EYN\",\"EYN\",\"NOR\",\"NOR\",\"STR\",\"EYN\",\"NOR\",\"STR\",\"STR\",\"SUD\",\"VAG\",\"STR\",\"STR\",\"NOR\",\"STR\",\"NOR\",\"EYN\",\"STR\",\"STR\",\"EYN\",\"NOR\",\"STR\",\"STR\",\"STR\",\"NA\",\"STR\",\"EYN\",\"STR\",\"STR\",\"EYN\",\"EYN\",\"NOR\",\"STR\",\"SUD\",\"VAG\",\"STR\",\"EYN\",\"EYN\",\"NOR\",\"VAG\",\"EYN\",\"EYN\",\"NOR\",\"NOR\",\"NOR\",\"VAG\",\"NOR\",\"EYN\",\"EYN\",\"STR\",\"VAG\",\"VAG\",\"EYN\",\"EYN\",\"EYN\",\"STR\",\"NOR\",\"NOR\",\"NOR\",\"NOR\",\"SUD\",\"STR\",\"EYN\",\"STR\",\"STR\",\"EYN\",\"NOR\",\"STR\",\"STR\",\"EYN\",\"EYN\",\"STR\",\"STR\",\"STR\",\"STR\",\"STR\",\"STR\",\"EYN\",\"STR\",\"STR\",\"STR\",\"STR\",\"STR\",\"NOR\",\"STR\",\"STR\",\"STR\",\"STR\",\"STR\",\"NA\",\"NOR\",\"NA\",\"STR\",\"NA\",\"STR\",\"NOR\",\"NOR\",\"EYN\",\"EYN\",\"NOR\",\"NOR\",\"NOR\",\"EYN\",\"STR\",\"STR\",\"SUD\",\"EYN\",\"NA\",\"VAG\",\"EYN\",\"STR\",\"STR\",\"STR\",\"EYN\",\"EYN\",\"STR\",\"NOR\",\"NOR\",\"STR\",\"STR\",\"EYN\",\"EYN\",\"NOR\",\"NOR\",\"STR\",\"STR\",\"NA\",\"STR\",\"STR\",\"NOR\",\"EYN\",\"NOR\",\"EYN\",\"EYN\",\"STR\",\"VAG\",\"STR\",\"VAG\",\"STR\",\"NOR\",\"NA\",\"STR\",\"EYN\",\"EYN\",\"STR\",\"NA\",\"STR\",\"EYN\",\"STR\",\"NOR\",\"STR\",\"STR\",\"SUD\",\"NA\",\"STR\",\"SAN\",\"STR\",\"SUD\",\"EYN\",\"STR\",\"STR\",\"SUD\",\"STR\",\"STR\",\"STR\",\"NOR\",\"NOR\",\"EYN\",\"NOR\",\"STR\",\"EYN\",\"EYN\",\"EYN\",\"VAG\",\"SUD\",\"STR\",\"NA\",\"VAG\",\"STR\",\"STR\",\"NA\",\"EYN\",\"STR\",\"VAG\",\"SAN\",\"STR\",\"NA\",\"EYN\",\"VAG\",\"NOR\",\"SUD\",\"EYN\",\"STR\",\"STR\",\"EYN\",\"NOR\",\"STR\",\"STR\",\"SUD\",\"SAN\",\"SAN\",\"SAN\",\"STR\",\"SAN\",\"SUD\",\"VAG\",\"STR\",\"STR\",\"STR\",\"STR\",\"STR\",\"VAG\",\"STR\",\"NA\",\"NOR\",\"NA\",\"NOR\",\"NA\",\"STR\",\"SUD\",\"SUD\",\"STR\",\"STR\",\"STR\",\"VAG\",\"STR\",\"STR\",\"EYN\",\"NOR\",\"EYN\",\"EYN\",\"EYN\",\"EYN\",\"NOR\",\"STR\",\"STR\",\"STR\",\"STR\",\"NOR\",\"STR\",\"SUD\",\"STR\",\"VAG\",\"STR\",\"EYN\",\"VAG\",\"NA\",\"EYN\",\"STR\",\"EYN\",\"VAG\",\"STR\",\"EYN\",\"EYN\",\"STR\",\"STR\",\"SUD\",\"STR\",\"STR\",\"STR\",\"STR\",\"STR\",\"EYN\",\"STR\",\"STR\",\"EYN\",\"STR\",\"NA\",\"EYN\",\"EYN\",\"SUD\",\"SUD\",\"STR\",\"SAN\",\"STR\",\"NOR\",\"STR\",\"STR\",\"NA\",\"STR\",\"EYN\",\"SUD\",\"SUD\",\"STR\",\"NOR\",\"NA\",\"EYN\",\"STR\",\"STR\",\"NOR\",\"NOR\",\"STR\",\"SUD\",\"STR\",\"NA\",\"STR\",\"SUD\",\"SAN\",\"STR\",\"SUD\",\"SAN\",\"STR\",\"STR\",\"SAN\",\"STR\",\"STR\",\"STR\",\"STR\",\"STR\",\"STR\",\"SUD\",\"STR\",\"SUD\",\"STR\",\"EYN\",\"SAN\",\"STR\",\"STR\",\"NOR\",\"EYN\",\"STR\",\"STR\",\"VAG\",\"SUD\",\"SAN\",\"STR\",\"STR\",\"STR\",\"STR\",\"STR\",\"NOR\",\"SUD\",\"SUD\",\"SUD\",\"SUD\",\"VAG\",\"STR\",\"STR\",\"EYN\",\"NA\",\"STR\",\"STR\",\"NOR\",\"STR\",\"SUD\",\"EYN\",\"EYN\",\"STR\",\"SUD\",\"EYN\",\"EYN\",\"EYN\",\"NOR\",\"NOR\",\"NA\",\"SUD\",\"NA\",\"STR\",\"NA\",\"SAN\",\"SAN\",\"STR\",\"SAN\",\"SAN\"],\"x\":{\"__ndarray__\":\"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\",\"dtype\":\"float64\",\"shape\":[378]},\"y\":{\"__ndarray__\":\"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\",\"dtype\":\"float64\",\"shape\":[378]}},\"selected\":{\"id\":\"1202\",\"type\":\"Selection\"},\"selection_policy\":{\"id\":\"1203\",\"type\":\"UnionRenderers\"}},\"id\":\"1133\",\"type\":\"ColumnDataSource\"},{\"attributes\":{\"fill_alpha\":{\"value\":0.1},\"fill_color\":{\"value\":\"#1f77b4\"},\"line_alpha\":{\"value\":0.1},\"line_color\":{\"value\":\"#1f77b4\"},\"x\":{\"field\":\"x\"},\"y\":{\"field\":\"y\"}},\"id\":\"1163\",\"type\":\"Circle\"},{\"attributes\":{\"label\":{\"value\":\"NA\"},\"renderers\":[{\"id\":\"1146\",\"type\":\"GlyphRenderer\"}]},\"id\":\"1178\",\"type\":\"LegendItem\"},{\"attributes\":{},\"id\":\"1104\",\"type\":\"LinearScale\"},{\"attributes\":{\"filters\":[{\"id\":\"1135\",\"type\":\"GroupFilter\"}],\"source\":{\"id\":\"1133\",\"type\":\"ColumnDataSource\"}},\"id\":\"1136\",\"type\":\"CDSView\"},{\"attributes\":{\"fill_color\":{\"field\":\"label\",\"transform\":{\"id\":\"1134\",\"type\":\"CategoricalColorMapper\"}},\"line_color\":{\"field\":\"label\",\"transform\":{\"id\":\"1134\",\"type\":\"CategoricalColorMapper\"}},\"x\":{\"field\":\"x\"},\"y\":{\"field\":\"y\"}},\"id\":\"1150\",\"type\":\"Circle\"},{\"attributes\":{\"label\":{\"value\":\"STR\"},\"renderers\":[{\"id\":\"1164\",\"type\":\"GlyphRenderer\"}]},\"id\":\"1181\",\"type\":\"LegendItem\"},{\"attributes\":{\"data_source\":{\"id\":\"1133\",\"type\":\"ColumnDataSource\"},\"glyph\":{\"id\":\"1162\",\"type\":\"Circle\"},\"hover_glyph\":null,\"muted_glyph\":null,\"nonselection_glyph\":{\"id\":\"1163\",\"type\":\"Circle\"},\"selection_glyph\":null,\"view\":{\"id\":\"1160\",\"type\":\"CDSView\"}},\"id\":\"1164\",\"type\":\"GlyphRenderer\"},{\"attributes\":{\"click_policy\":\"hide\",\"items\":[{\"id\":\"1177\",\"type\":\"LegendItem\"},{\"id\":\"1178\",\"type\":\"LegendItem\"},{\"id\":\"1179\",\"type\":\"LegendItem\"},{\"id\":\"1180\",\"type\":\"LegendItem\"},{\"id\":\"1181\",\"type\":\"LegendItem\"},{\"id\":\"1182\",\"type\":\"LegendItem\"},{\"id\":\"1183\",\"type\":\"LegendItem\"}]},\"id\":\"1184\",\"type\":\"Legend\"},{\"attributes\":{\"callback\":null},\"id\":\"1102\",\"type\":\"DataRange1d\"},{\"attributes\":{\"fill_alpha\":{\"value\":0.1},\"fill_color\":{\"value\":\"#1f77b4\"},\"line_alpha\":{\"value\":0.1},\"line_color\":{\"value\":\"#1f77b4\"},\"x\":{\"field\":\"x\"},\"y\":{\"field\":\"y\"}},\"id\":\"1145\",\"type\":\"Circle\"},{\"attributes\":{\"column_name\":\"label\",\"group\":\"NA\"},\"id\":\"1141\",\"type\":\"GroupFilter\"},{\"attributes\":{\"column_name\":\"label\",\"group\":\"NOR\"},\"id\":\"1147\",\"type\":\"GroupFilter\"},{\"attributes\":{\"filters\":[{\"id\":\"1165\",\"type\":\"GroupFilter\"}],\"source\":{\"id\":\"1133\",\"type\":\"ColumnDataSource\"}},\"id\":\"1166\",\"type\":\"CDSView\"},{\"attributes\":{\"label\":{\"value\":\"VAG\"},\"renderers\":[{\"id\":\"1176\",\"type\":\"GlyphRenderer\"}]},\"id\":\"1183\",\"type\":\"LegendItem\"},{\"attributes\":{\"column_name\":\"label\",\"group\":\"SUD\"},\"id\":\"1165\",\"type\":\"GroupFilter\"},{\"attributes\":{\"data_source\":{\"id\":\"1133\",\"type\":\"ColumnDataSource\"},\"glyph\":{\"id\":\"1174\",\"type\":\"Circle\"},\"hover_glyph\":null,\"muted_glyph\":null,\"nonselection_glyph\":{\"id\":\"1175\",\"type\":\"Circle\"},\"selection_glyph\":null,\"view\":{\"id\":\"1172\",\"type\":\"CDSView\"}},\"id\":\"1176\",\"type\":\"GlyphRenderer\"},{\"attributes\":{},\"id\":\"1121\",\"type\":\"SaveTool\"},{\"attributes\":{\"column_name\":\"label\",\"group\":\"EYN\"},\"id\":\"1135\",\"type\":\"GroupFilter\"},{\"attributes\":{\"data_source\":{\"id\":\"1133\",\"type\":\"ColumnDataSource\"},\"glyph\":{\"id\":\"1138\",\"type\":\"Circle\"},\"hover_glyph\":null,\"muted_glyph\":null,\"nonselection_glyph\":{\"id\":\"1139\",\"type\":\"Circle\"},\"selection_glyph\":null,\"view\":{\"id\":\"1136\",\"type\":\"CDSView\"}},\"id\":\"1140\",\"type\":\"GlyphRenderer\"},{\"attributes\":{\"filters\":[{\"id\":\"1153\",\"type\":\"GroupFilter\"}],\"source\":{\"id\":\"1133\",\"type\":\"ColumnDataSource\"}},\"id\":\"1154\",\"type\":\"CDSView\"},{\"attributes\":{\"bottom_units\":\"screen\",\"fill_alpha\":{\"value\":0.5},\"fill_color\":{\"value\":\"lightgrey\"},\"left_units\":\"screen\",\"level\":\"overlay\",\"line_alpha\":{\"value\":1.0},\"line_color\":{\"value\":\"black\"},\"line_dash\":[4,4],\"line_width\":{\"value\":2},\"render_mode\":\"css\",\"right_units\":\"screen\",\"top_units\":\"screen\"},\"id\":\"1201\",\"type\":\"BoxAnnotation\"},{\"attributes\":{\"fill_alpha\":{\"value\":0.1},\"fill_color\":{\"value\":\"#1f77b4\"},\"line_alpha\":{\"value\":0.1},\"line_color\":{\"value\":\"#1f77b4\"},\"x\":{\"field\":\"x\"},\"y\":{\"field\":\"y\"}},\"id\":\"1151\",\"type\":\"Circle\"},{\"attributes\":{},\"id\":\"1196\",\"type\":\"BasicTickFormatter\"},{\"attributes\":{},\"id\":\"1199\",\"type\":\"BasicTicker\"},{\"attributes\":{\"data_source\":{\"id\":\"1133\",\"type\":\"ColumnDataSource\"},\"glyph\":{\"id\":\"1150\",\"type\":\"Circle\"},\"hover_glyph\":null,\"muted_glyph\":null,\"nonselection_glyph\":{\"id\":\"1151\",\"type\":\"Circle\"},\"selection_glyph\":null,\"view\":{\"id\":\"1148\",\"type\":\"CDSView\"}},\"id\":\"1152\",\"type\":\"GlyphRenderer\"},{\"attributes\":{\"text\":\"PCA\"},\"id\":\"1098\",\"type\":\"Title\"},{\"attributes\":{},\"id\":\"1202\",\"type\":\"Selection\"},{\"attributes\":{\"fill_color\":{\"field\":\"label\",\"transform\":{\"id\":\"1134\",\"type\":\"CategoricalColorMapper\"}},\"line_color\":{\"field\":\"label\",\"transform\":{\"id\":\"1134\",\"type\":\"CategoricalColorMapper\"}},\"x\":{\"field\":\"x\"},\"y\":{\"field\":\"y\"}},\"id\":\"1174\",\"type\":\"Circle\"},{\"attributes\":{\"label\":{\"value\":\"NOR\"},\"renderers\":[{\"id\":\"1152\",\"type\":\"GlyphRenderer\"}]},\"id\":\"1179\",\"type\":\"LegendItem\"},{\"attributes\":{},\"id\":\"1198\",\"type\":\"BasicTickFormatter\"},{\"attributes\":{\"factors\":[\"SUD\",\"STR\",\"EYN\",\"VAG\",\"NA\",\"SAN\",\"NOR\"],\"palette\":[\"#1f77b4\",\"#ff7f0e\",\"#2ca02c\",\"#d62728\",\"#9467bd\",\"#8c564b\",\"#e377c2\",\"#7f7f7f\",\"#bcbd22\",\"#17becf\"]},\"id\":\"1134\",\"type\":\"CategoricalColorMapper\"},{\"attributes\":{\"axis_label\":\"PC2\",\"formatter\":{\"id\":\"1198\",\"type\":\"BasicTickFormatter\"},\"ticker\":{\"id\":\"1114\",\"type\":\"BasicTicker\"}},\"id\":\"1113\",\"type\":\"LinearAxis\"},{\"attributes\":{\"fill_color\":{\"field\":\"label\",\"transform\":{\"id\":\"1134\",\"type\":\"CategoricalColorMapper\"}},\"line_color\":{\"field\":\"label\",\"transform\":{\"id\":\"1134\",\"type\":\"CategoricalColorMapper\"}},\"x\":{\"field\":\"x\"},\"y\":{\"field\":\"y\"}},\"id\":\"1156\",\"type\":\"Circle\"},{\"attributes\":{\"fill_alpha\":{\"value\":0.1},\"fill_color\":{\"value\":\"#1f77b4\"},\"line_alpha\":{\"value\":0.1},\"line_color\":{\"value\":\"#1f77b4\"},\"x\":{\"field\":\"x\"},\"y\":{\"field\":\"y\"}},\"id\":\"1169\",\"type\":\"Circle\"},{\"attributes\":{\"fill_alpha\":{\"value\":0.1},\"fill_color\":{\"value\":\"#1f77b4\"},\"line_alpha\":{\"value\":0.1},\"line_color\":{\"value\":\"#1f77b4\"},\"x\":{\"field\":\"x\"},\"y\":{\"field\":\"y\"}},\"id\":\"1139\",\"type\":\"Circle\"},{\"attributes\":{\"column_name\":\"label\",\"group\":\"SAN\"},\"id\":\"1153\",\"type\":\"GroupFilter\"},{\"attributes\":{\"data_source\":{\"id\":\"1133\",\"type\":\"ColumnDataSource\"},\"glyph\":{\"id\":\"1168\",\"type\":\"Circle\"},\"hover_glyph\":null,\"muted_glyph\":null,\"nonselection_glyph\":{\"id\":\"1169\",\"type\":\"Circle\"},\"selection_glyph\":null,\"view\":{\"id\":\"1166\",\"type\":\"CDSView\"}},\"id\":\"1170\",\"type\":\"GlyphRenderer\"},{\"attributes\":{},\"id\":\"1114\",\"type\":\"BasicTicker\"},{\"attributes\":{},\"id\":\"1118\",\"type\":\"PanTool\"},{\"attributes\":{\"label\":{\"value\":\"SAN\"},\"renderers\":[{\"id\":\"1158\",\"type\":\"GlyphRenderer\"}]},\"id\":\"1180\",\"type\":\"LegendItem\"},{\"attributes\":{},\"id\":\"1109\",\"type\":\"BasicTicker\"},{\"attributes\":{\"fill_color\":{\"field\":\"label\",\"transform\":{\"id\":\"1134\",\"type\":\"CategoricalColorMapper\"}},\"line_color\":{\"field\":\"label\",\"transform\":{\"id\":\"1134\",\"type\":\"CategoricalColorMapper\"}},\"x\":{\"field\":\"x\"},\"y\":{\"field\":\"y\"}},\"id\":\"1138\",\"type\":\"Circle\"},{\"attributes\":{\"filters\":[{\"id\":\"1141\",\"type\":\"GroupFilter\"}],\"source\":{\"id\":\"1133\",\"type\":\"ColumnDataSource\"}},\"id\":\"1142\",\"type\":\"CDSView\"},{\"attributes\":{\"filters\":[{\"id\":\"1171\",\"type\":\"GroupFilter\"}],\"source\":{\"id\":\"1133\",\"type\":\"ColumnDataSource\"}},\"id\":\"1172\",\"type\":\"CDSView\"},{\"attributes\":{\"ticker\":{\"id\":\"1109\",\"type\":\"BasicTicker\"}},\"id\":\"1112\",\"type\":\"Grid\"},{\"attributes\":{},\"id\":\"1122\",\"type\":\"ResetTool\"},{\"attributes\":{\"filters\":[{\"id\":\"1159\",\"type\":\"GroupFilter\"}],\"source\":{\"id\":\"1133\",\"type\":\"ColumnDataSource\"}},\"id\":\"1160\",\"type\":\"CDSView\"},{\"attributes\":{\"fill_alpha\":{\"value\":0.1},\"fill_color\":{\"value\":\"#1f77b4\"},\"line_alpha\":{\"value\":0.1},\"line_color\":{\"value\":\"#1f77b4\"},\"x\":{\"field\":\"x\"},\"y\":{\"field\":\"y\"}},\"id\":\"1175\",\"type\":\"Circle\"},{\"attributes\":{\"callback\":null,\"tooltips\":[[\"x\",\"@x\"],[\"y\",\"@y\"],[\"label\",\"@label\"]]},\"id\":\"1132\",\"type\":\"HoverTool\"},{\"attributes\":{\"fill_alpha\":{\"value\":0.1},\"fill_color\":{\"value\":\"#1f77b4\"},\"line_alpha\":{\"value\":0.1},\"line_color\":{\"value\":\"#1f77b4\"},\"x\":{\"field\":\"x\"},\"y\":{\"field\":\"y\"}},\"id\":\"1157\",\"type\":\"Circle\"},{\"attributes\":{\"label\":{\"value\":\"EYN\"},\"renderers\":[{\"id\":\"1140\",\"type\":\"GlyphRenderer\"}]},\"id\":\"1177\",\"type\":\"LegendItem\"},{\"attributes\":{\"column_name\":\"label\",\"group\":\"VAG\"},\"id\":\"1171\",\"type\":\"GroupFilter\"},{\"attributes\":{\"data_source\":{\"id\":\"1133\",\"type\":\"ColumnDataSource\"},\"glyph\":{\"id\":\"1156\",\"type\":\"Circle\"},\"hover_glyph\":null,\"muted_glyph\":null,\"nonselection_glyph\":{\"id\":\"1157\",\"type\":\"Circle\"},\"selection_glyph\":null,\"view\":{\"id\":\"1154\",\"type\":\"CDSView\"}},\"id\":\"1158\",\"type\":\"GlyphRenderer\"},{\"attributes\":{},\"id\":\"1119\",\"type\":\"WheelZoomTool\"},{\"attributes\":{\"fill_color\":{\"field\":\"label\",\"transform\":{\"id\":\"1134\",\"type\":\"CategoricalColorMapper\"}},\"line_color\":{\"field\":\"label\",\"transform\":{\"id\":\"1134\",\"type\":\"CategoricalColorMapper\"}},\"x\":{\"field\":\"x\"},\"y\":{\"field\":\"y\"}},\"id\":\"1144\",\"type\":\"Circle\"},{\"attributes\":{\"dimension\":1,\"ticker\":{\"id\":\"1114\",\"type\":\"BasicTicker\"}},\"id\":\"1117\",\"type\":\"Grid\"},{\"attributes\":{\"overlay\":{\"id\":\"1201\",\"type\":\"BoxAnnotation\"}},\"id\":\"1120\",\"type\":\"BoxZoomTool\"},{\"attributes\":{\"axis_label\":\"PC1\",\"formatter\":{\"id\":\"1196\",\"type\":\"BasicTickFormatter\"},\"ticker\":{\"id\":\"1109\",\"type\":\"BasicTicker\"}},\"id\":\"1108\",\"type\":\"LinearAxis\"},{\"attributes\":{},\"id\":\"1123\",\"type\":\"HelpTool\"}],\"root_ids\":[\"1097\"]},\"title\":\"Bokeh Application\",\"version\":\"1.2.0\"}};\n",
       "  var render_items = [{\"docid\":\"1030bb13-07df-460d-af41-312d3d96baa5\",\"roots\":{\"1097\":\"9abdfc6c-c832-4c64-a0c9-6d149cb2f147\"}}];\n",
       "  root.Bokeh.embed.embed_items_notebook(docs_json, render_items);\n",
       "\n",
       "  }\n",
       "  if (root.Bokeh !== undefined) {\n",
       "    embed_document(root);\n",
       "  } else {\n",
       "    var attempts = 0;\n",
       "    var timer = setInterval(function(root) {\n",
       "      if (root.Bokeh !== undefined) {\n",
       "        embed_document(root);\n",
       "        clearInterval(timer);\n",
       "      }\n",
       "      attempts++;\n",
       "      if (attempts > 100) {\n",
       "        console.log(\"Bokeh: ERROR: Unable to run BokehJS code because BokehJS library is missing\");\n",
       "        clearInterval(timer);\n",
       "      }\n",
       "    }, 10, root)\n",
       "  }\n",
       "})(window);"
      ],
      "application/vnd.bokehjs_exec.v0+json": ""
     },
     "metadata": {
      "application/vnd.bokehjs_exec.v0+json": {
       "id": "1097"
      }
     },
     "output_type": "display_data"
    }
   ],
   "source": [
    "p = hl.plot.scatter(mt.scores[0],\n",
    "                    mt.scores[1],\n",
    "                    label=hl.str(mt.birthplace),\n",
    "                    title='PCA', xlabel='PC1', ylabel='PC2')\n",
    "p.plot_width = 800\n",
    "p.plot_height = 600\n",
    "show(p)"
   ]
  },
  {
   "cell_type": "markdown",
   "metadata": {},
   "source": [
    "Above are the two first principal components plotted against eachother. Note that there are four outlier samples. These outliers may be due to the quality of these samples, so we shall invesigate them closer below.\n",
    "\n",
    "As we see below, there seems to be nothing abnormal about these four samples. They may therefore potentially be *ancestry outliers*."
   ]
  },
  {
   "cell_type": "code",
   "execution_count": 29,
   "metadata": {},
   "outputs": [],
   "source": [
    "mt = mt.annotate_cols(pc_outliers = mt.scores[0] > 0.2)"
   ]
  },
  {
   "cell_type": "code",
   "execution_count": 30,
   "metadata": {},
   "outputs": [],
   "source": [
    "exprs_list = [('# heterozygotes', mt.sample_qc.n_het), ('Ti/Tv rate', mt.sample_qc.r_ti_tv), ('Call rate', mt.sample_qc.call_rate), ('# singletons', mt.sample_qc.n_singleton)]\n",
    "plot_list = []\n",
    "for name, exprs in exprs_list:\n",
    "    p = hl.plot.scatter(mt.sample_qc.dp_stats.mean, exprs, label=mt.pc_outliers, xlabel='DP mean', ylabel=name, legend=True)\n",
    "    p.plot_width = 800\n",
    "    p.plot_height = 500\n",
    "    plot_list.append(p)"
   ]
  },
  {
   "cell_type": "code",
   "execution_count": 31,
   "metadata": {},
   "outputs": [
    {
     "data": {
      "text/html": [
       "\n",
       "\n",
       "\n",
       "\n",
       "\n",
       "\n",
       "  <div class=\"bk-root\" id=\"f11dd221-cd9b-45e8-9a14-eed9f02f8566\" data-root-id=\"1523\"></div>\n"
      ]
     },
     "metadata": {},
     "output_type": "display_data"
    },
    {
     "data": {
      "application/javascript": [
       "(function(root) {\n",
       "  function embed_document(root) {\n",
       "    \n",
       "  var docs_json = {\"b5396357-c0ad-468b-829b-b3510dbaffa0\":{\"roots\":{\"references\":[{\"attributes\":{\"children\":[{\"id\":\"1522\",\"type\":\"ToolbarBox\"},{\"id\":\"1520\",\"type\":\"GridBox\"}]},\"id\":\"1523\",\"type\":\"Column\"},{\"attributes\":{},\"id\":\"1485\",\"type\":\"UnionRenderers\"},{\"attributes\":{},\"id\":\"1443\",\"type\":\"PanTool\"},{\"attributes\":{\"filters\":[{\"id\":\"1407\",\"type\":\"GroupFilter\"}],\"source\":{\"id\":\"1405\",\"type\":\"ColumnDataSource\"}},\"id\":\"1408\",\"type\":\"CDSView\"},{\"attributes\":{},\"id\":\"1444\",\"type\":\"WheelZoomTool\"},{\"attributes\":{},\"id\":\"1447\",\"type\":\"ResetTool\"},{\"attributes\":{\"active_drag\":\"auto\",\"active_inspect\":\"auto\",\"active_multi\":null,\"active_scroll\":\"auto\",\"active_tap\":\"auto\",\"tools\":[{\"id\":\"1390\",\"type\":\"PanTool\"},{\"id\":\"1391\",\"type\":\"WheelZoomTool\"},{\"id\":\"1392\",\"type\":\"BoxZoomTool\"},{\"id\":\"1393\",\"type\":\"SaveTool\"},{\"id\":\"1394\",\"type\":\"ResetTool\"},{\"id\":\"1395\",\"type\":\"HelpTool\"},{\"id\":\"1404\",\"type\":\"HoverTool\"}]},\"id\":\"1396\",\"type\":\"Toolbar\"},{\"attributes\":{},\"id\":\"1390\",\"type\":\"PanTool\"},{\"attributes\":{\"callback\":null,\"data\":{\"index\":[0,1,2,3,4,5,6,7,8,9,10,11,12,13,14,15,16,17,18,19,20,21,22,23,24,25,26,27,28,29,30,31,32,33,34,35,36,37,38,39,40,41,42,43,44,45,46,47,48,49,50,51,52,53,54,55,56,57,58,59,60,61,62,63,64,65,66,67,68,69,70,71,72,73,74,75,76,77,78,79,80,81,82,83,84,85,86,87,88,89,90,91,92,93,94,95,96,97,98,99,100,101,102,103,104,105,106,107,108,109,110,111,112,113,114,115,116,117,118,119,120,121,122,123,124,125,126,127,128,129,130,131,132,133,134,135,136,137,138,139,140,141,142,143,144,145,146,147,148,149,150,151,152,153,154,155,156,157,158,159,160,161,162,163,164,165,166,167,168,169,170,171,172,173,174,175,176,177,178,179,180,181,182,183,184,185,186,187,188,189,190,191,192,193,194,195,196,197,198,199,200,201,202,203,204,205,206,207,208,209,210,211,212,213,214,215,216,217,218,219,220,221,222,223,224,225,226,227,228,229,230,231,232,233,234,235,236,237,238,239,240,241,242,243,244,245,246,247,248,249,250,251,252,253,254,255,256,257,258,259,260,261,262,263,264,265,266,267,268,269,270,271,272,273,274,275,276,277,278,279,280,281,282,283,284,285,286,287,288,289,290,291,292,293,294,295,296,297,298,299,300,301,302,303,304,305,306,307,308,309,310,311,312,313,314,315,316,317,318,319,320,321,322,323,324,325,326,327,328,329,330,331,332,333,334,335,336,337,338,339,340,341,342,343,344,345,346,347,348,349,350,351,352,353,354,355,356,357,358,359,360,361,362],\"label\":[\"false\",\"false\",\"false\",\"false\",\"false\",\"false\",\"false\",\"false\",\"false\",\"false\",\"false\",\"false\",\"false\",\"false\",\"false\",\"false\",\"false\",\"false\",\"false\",\"false\",\"false\",\"false\",\"false\",\"false\",\"false\",\"false\",\"false\",\"false\",\"false\",\"false\",\"false\",\"false\",\"false\",\"false\",\"false\",\"false\",\"false\",\"false\",\"false\",\"false\",\"false\",\"false\",\"false\",\"false\",\"false\",\"false\",\"false\",\"false\",\"false\",\"false\",\"false\",\"false\",\"false\",\"false\",\"false\",\"false\",\"false\",\"false\",\"false\",\"false\",\"false\",\"false\",\"false\",\"false\",\"false\",\"false\",\"false\",\"false\",\"false\",\"false\",\"false\",\"false\",\"false\",\"false\",\"false\",\"false\",\"false\",\"false\",\"false\",\"false\",\"false\",\"false\",\"false\",\"false\",\"false\",\"false\",\"false\",\"false\",\"false\",\"false\",\"false\",\"false\",\"false\",\"false\",\"false\",\"false\",\"false\",\"false\",\"false\",\"false\",\"false\",\"false\",\"false\",\"false\",\"false\",\"false\",\"false\",\"false\",\"false\",\"false\",\"false\",\"false\",\"false\",\"false\",\"false\",\"false\",\"false\",\"false\",\"false\",\"false\",\"false\",\"false\",\"false\",\"false\",\"false\",\"false\",\"false\",\"false\",\"false\",\"false\",\"false\",\"false\",\"false\",\"false\",\"false\",\"false\",\"false\",\"false\",\"false\",\"false\",\"false\",\"false\",\"false\",\"false\",\"false\",\"false\",\"false\",\"false\",\"false\",\"false\",\"false\",\"false\",\"false\",\"false\",\"false\",\"false\",\"false\",\"false\",\"false\",\"false\",\"false\",\"false\",\"false\",\"false\",\"false\",\"false\",\"false\",\"false\",\"false\",\"false\",\"false\",\"false\",\"false\",\"false\",\"false\",\"false\",\"false\",\"false\",\"false\",\"false\",\"false\",\"false\",\"false\",\"false\",\"false\",\"false\",\"false\",\"false\",\"false\",\"false\",\"false\",\"false\",\"false\",\"false\",\"false\",\"false\",\"false\",\"false\",\"false\",\"false\",\"false\",\"false\",\"false\",\"false\",\"false\",\"false\",\"false\",\"false\",\"false\",\"false\",\"false\",\"false\",\"false\",\"false\",\"false\",\"false\",\"false\",\"false\",\"false\",\"false\",\"false\",\"false\",\"false\",\"false\",\"false\",\"false\",\"false\",\"false\",\"false\",\"false\",\"false\",\"false\",\"false\",\"false\",\"false\",\"false\",\"false\",\"false\",\"false\",\"false\",\"false\",\"false\",\"false\",\"false\",\"false\",\"false\",\"false\",\"false\",\"false\",\"false\",\"false\",\"false\",\"false\",\"true\",\"false\",\"false\",\"false\",\"false\",\"false\",\"false\",\"false\",\"false\",\"false\",\"false\",\"false\",\"false\",\"false\",\"false\",\"false\",\"false\",\"false\",\"false\",\"false\",\"false\",\"false\",\"false\",\"false\",\"false\",\"false\",\"false\",\"false\",\"false\",\"false\",\"false\",\"false\",\"false\",\"false\",\"false\",\"false\",\"false\",\"false\",\"false\",\"false\",\"false\",\"false\",\"false\",\"false\",\"false\",\"false\",\"false\",\"false\",\"false\",\"false\",\"false\",\"false\",\"false\",\"false\",\"false\",\"false\",\"false\",\"false\",\"false\",\"false\",\"false\",\"false\",\"false\",\"false\",\"false\",\"false\",\"false\",\"true\",\"false\",\"false\",\"false\",\"false\",\"false\",\"false\",\"false\",\"false\",\"false\",\"false\",\"false\",\"false\",\"false\",\"false\",\"true\",\"false\",\"false\",\"false\",\"false\",\"false\",\"false\",\"false\",\"false\",\"false\",\"false\",\"false\",\"false\",\"false\",\"false\",\"false\",\"false\",\"true\",\"false\",\"false\",\"false\",\"false\",\"false\",\"false\",\"false\",\"false\",\"false\",\"false\"],\"x\":{\"__ndarray__\":\"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\",\"dtype\":\"float64\",\"shape\":[363]},\"y\":{\"__ndarray__\":\"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\",\"dtype\":\"float64\",\"shape\":[363]}},\"selected\":{\"id\":\"1506\",\"type\":\"Selection\"},\"selection_policy\":{\"id\":\"1507\",\"type\":\"UnionRenderers\"}},\"id\":\"1405\",\"type\":\"ColumnDataSource\"},{\"attributes\":{\"column_name\":\"label\",\"group\":\"false\"},\"id\":\"1460\",\"type\":\"GroupFilter\"},{\"attributes\":{\"factors\":[\"true\",\"false\"],\"palette\":[\"#1f77b4\",\"#ff7f0e\",\"#2ca02c\",\"#d62728\",\"#9467bd\",\"#8c564b\",\"#e377c2\",\"#7f7f7f\",\"#bcbd22\",\"#17becf\"]},\"id\":\"1353\",\"type\":\"CategoricalColorMapper\"},{\"attributes\":{\"dimension\":1,\"ticker\":{\"id\":\"1386\",\"type\":\"BasicTicker\"}},\"id\":\"1389\",\"type\":\"Grid\"},{\"attributes\":{\"ticker\":{\"id\":\"1434\",\"type\":\"BasicTicker\"}},\"id\":\"1437\",\"type\":\"Grid\"},{\"attributes\":{},\"id\":\"1446\",\"type\":\"SaveTool\"},{\"attributes\":{\"fill_color\":{\"field\":\"label\",\"transform\":{\"id\":\"1406\",\"type\":\"CategoricalColorMapper\"}},\"line_color\":{\"field\":\"label\",\"transform\":{\"id\":\"1406\",\"type\":\"CategoricalColorMapper\"}},\"x\":{\"field\":\"x\"},\"y\":{\"field\":\"y\"}},\"id\":\"1410\",\"type\":\"Circle\"},{\"attributes\":{},\"id\":\"1391\",\"type\":\"WheelZoomTool\"},{\"attributes\":{},\"id\":\"1484\",\"type\":\"Selection\"},{\"attributes\":{},\"id\":\"1448\",\"type\":\"HelpTool\"},{\"attributes\":{},\"id\":\"1386\",\"type\":\"BasicTicker\"},{\"attributes\":{\"axis_label\":\"# singletons\",\"formatter\":{\"id\":\"1513\",\"type\":\"BasicTickFormatter\"},\"ticker\":{\"id\":\"1439\",\"type\":\"BasicTicker\"}},\"id\":\"1438\",\"type\":\"LinearAxis\"},{\"attributes\":{\"callback\":null,\"tooltips\":[[\"x\",\"@x\"],[\"y\",\"@y\"],[\"label\",\"@label\"]]},\"id\":\"1404\",\"type\":\"HoverTool\"},{\"attributes\":{\"callback\":null},\"id\":\"1266\",\"type\":\"DataRange1d\"},{\"attributes\":{\"data_source\":{\"id\":\"1352\",\"type\":\"ColumnDataSource\"},\"glyph\":{\"id\":\"1357\",\"type\":\"Circle\"},\"hover_glyph\":null,\"muted_glyph\":null,\"nonselection_glyph\":{\"id\":\"1358\",\"type\":\"Circle\"},\"selection_glyph\":null,\"view\":{\"id\":\"1355\",\"type\":\"CDSView\"}},\"id\":\"1359\",\"type\":\"GlyphRenderer\"},{\"attributes\":{},\"id\":\"1489\",\"type\":\"BasicTickFormatter\"},{\"attributes\":{},\"id\":\"1395\",\"type\":\"HelpTool\"},{\"attributes\":{},\"id\":\"1431\",\"type\":\"LinearScale\"},{\"attributes\":{},\"id\":\"1393\",\"type\":\"SaveTool\"},{\"attributes\":{\"filters\":[{\"id\":\"1354\",\"type\":\"GroupFilter\"}],\"source\":{\"id\":\"1352\",\"type\":\"ColumnDataSource\"}},\"id\":\"1355\",\"type\":\"CDSView\"},{\"attributes\":{\"callback\":null,\"data\":{\"index\":[0,1,2,3,4,5,6,7,8,9,10,11,12,13,14,15,16,17,18,19,20,21,22,23,24,25,26,27,28,29,30,31,32,33,34,35,36,37,38,39,40,41,42,43,44,45,46,47,48,49,50,51,52,53,54,55,56,57,58,59,60,61,62,63,64,65,66,67,68,69,70,71,72,73,74,75,76,77,78,79,80,81,82,83,84,85,86,87,88,89,90,91,92,93,94,95,96,97,98,99,100,101,102,103,104,105,106,107,108,109,110,111,112,113,114,115,116,117,118,119,120,121,122,123,124,125,126,127,128,129,130,131,132,133,134,135,136,137,138,139,140,141,142,143,144,145,146,147,148,149,150,151,152,153,154,155,156,157,158,159,160,161,162,163,164,165,166,167,168,169,170,171,172,173,174,175,176,177,178,179,180,181,182,183,184,185,186,187,188,189,190,191,192,193,194,195,196,197,198,199,200,201,202,203,204,205,206,207,208,209,210,211,212,213,214,215,216,217,218,219,220,221,222,223,224,225,226,227,228,229,230,231,232,233,234,235,236,237,238,239,240,241,242,243,244,245,246,247,248,249,250,251,252,253,254,255,256,257,258,259,260,261,262,263,264,265,266,267,268,269,270,271,272,273,274,275,276,277,278,279,280,281,282,283,284,285,286,287,288,289,290,291,292,293,294,295,296,297,298,299,300,301,302,303,304,305,306,307,308,309,310,311,312,313,314,315,316,317,318,319,320,321,322,323,324,325,326,327,328,329,330,331,332,333,334,335,336,337,338,339,340,341,342,343,344,345],\"label\":[\"false\",\"false\",\"false\",\"false\",\"false\",\"false\",\"false\",\"false\",\"false\",\"false\",\"false\",\"false\",\"false\",\"false\",\"false\",\"false\",\"false\",\"false\",\"false\",\"false\",\"false\",\"false\",\"false\",\"false\",\"false\",\"false\",\"false\",\"false\",\"false\",\"false\",\"false\",\"false\",\"false\",\"false\",\"false\",\"false\",\"false\",\"false\",\"false\",\"false\",\"false\",\"false\",\"false\",\"false\",\"false\",\"false\",\"false\",\"false\",\"false\",\"false\",\"false\",\"false\",\"false\",\"false\",\"false\",\"false\",\"false\",\"false\",\"false\",\"false\",\"false\",\"false\",\"false\",\"false\",\"false\",\"false\",\"false\",\"false\",\"false\",\"false\",\"false\",\"false\",\"false\",\"false\",\"false\",\"false\",\"false\",\"false\",\"false\",\"false\",\"false\",\"false\",\"false\",\"false\",\"false\",\"false\",\"false\",\"false\",\"false\",\"false\",\"false\",\"false\",\"false\",\"false\",\"false\",\"false\",\"false\",\"false\",\"false\",\"false\",\"false\",\"false\",\"false\",\"false\",\"false\",\"false\",\"false\",\"false\",\"false\",\"false\",\"false\",\"false\",\"false\",\"false\",\"false\",\"false\",\"false\",\"false\",\"false\",\"false\",\"false\",\"false\",\"false\",\"false\",\"false\",\"false\",\"false\",\"false\",\"false\",\"false\",\"false\",\"false\",\"false\",\"false\",\"false\",\"false\",\"false\",\"false\",\"false\",\"false\",\"false\",\"false\",\"false\",\"false\",\"false\",\"false\",\"false\",\"false\",\"false\",\"false\",\"false\",\"false\",\"false\",\"false\",\"false\",\"false\",\"false\",\"false\",\"false\",\"false\",\"false\",\"false\",\"false\",\"false\",\"false\",\"false\",\"false\",\"false\",\"false\",\"false\",\"false\",\"false\",\"false\",\"false\",\"false\",\"false\",\"false\",\"false\",\"false\",\"false\",\"false\",\"false\",\"false\",\"false\",\"false\",\"false\",\"false\",\"false\",\"false\",\"false\",\"false\",\"false\",\"false\",\"false\",\"false\",\"false\",\"false\",\"false\",\"false\",\"false\",\"false\",\"false\",\"false\",\"false\",\"false\",\"false\",\"false\",\"false\",\"false\",\"false\",\"false\",\"false\",\"false\",\"false\",\"false\",\"false\",\"false\",\"false\",\"false\",\"false\",\"false\",\"false\",\"false\",\"false\",\"false\",\"false\",\"false\",\"false\",\"false\",\"false\",\"false\",\"false\",\"false\",\"false\",\"false\",\"true\",\"false\",\"false\",\"false\",\"false\",\"false\",\"false\",\"false\",\"false\",\"false\",\"false\",\"false\",\"false\",\"false\",\"false\",\"false\",\"false\",\"false\",\"false\",\"false\",\"false\",\"false\",\"false\",\"false\",\"false\",\"false\",\"false\",\"false\",\"false\",\"false\",\"false\",\"false\",\"false\",\"false\",\"false\",\"false\",\"false\",\"false\",\"false\",\"false\",\"false\",\"false\",\"false\",\"false\",\"false\",\"false\",\"false\",\"false\",\"false\",\"false\",\"false\",\"false\",\"false\",\"false\",\"false\",\"false\",\"false\",\"false\",\"false\",\"false\",\"false\",\"false\",\"false\",\"false\",\"false\",\"false\",\"false\",\"false\",\"true\",\"false\",\"false\",\"false\",\"false\",\"false\",\"false\",\"false\",\"false\",\"false\",\"false\",\"false\",\"false\",\"false\",\"false\",\"true\",\"false\",\"false\",\"false\",\"false\",\"false\",\"false\",\"false\",\"false\",\"false\",\"false\",\"false\",\"false\",\"false\",\"false\",\"false\",\"false\",\"true\",\"false\",\"false\",\"false\",\"false\",\"false\",\"false\",\"false\",\"false\",\"false\",\"false\"],\"x\":{\"__ndarray__\":\"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\",\"dtype\":\"float64\",\"shape\":[346]},\"y\":{\"__ndarray__\":\"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\",\"dtype\":\"float64\",\"shape\":[346]}},\"selected\":{\"id\":\"1495\",\"type\":\"Selection\"},\"selection_policy\":{\"id\":\"1496\",\"type\":\"UnionRenderers\"}},\"id\":\"1352\",\"type\":\"ColumnDataSource\"},{\"attributes\":{\"bottom_units\":\"screen\",\"fill_alpha\":{\"value\":0.5},\"fill_color\":{\"value\":\"lightgrey\"},\"left_units\":\"screen\",\"level\":\"overlay\",\"line_alpha\":{\"value\":1.0},\"line_color\":{\"value\":\"black\"},\"line_dash\":[4,4],\"line_width\":{\"value\":2},\"render_mode\":\"css\",\"right_units\":\"screen\",\"top_units\":\"screen\"},\"id\":\"1483\",\"type\":\"BoxAnnotation\"},{\"attributes\":{\"column_name\":\"label\",\"group\":\"true\"},\"id\":\"1413\",\"type\":\"GroupFilter\"},{\"attributes\":{},\"id\":\"1429\",\"type\":\"LinearScale\"},{\"attributes\":{},\"id\":\"1496\",\"type\":\"UnionRenderers\"},{\"attributes\":{\"fill_alpha\":{\"value\":0.1},\"fill_color\":{\"value\":\"#1f77b4\"},\"line_alpha\":{\"value\":0.1},\"line_color\":{\"value\":\"#1f77b4\"},\"x\":{\"field\":\"x\"},\"y\":{\"field\":\"y\"}},\"id\":\"1411\",\"type\":\"Circle\"},{\"attributes\":{\"callback\":null},\"id\":\"1427\",\"type\":\"DataRange1d\"},{\"attributes\":{},\"id\":\"1394\",\"type\":\"ResetTool\"},{\"attributes\":{},\"id\":\"1493\",\"type\":\"BasicTickFormatter\"},{\"attributes\":{\"filters\":[{\"id\":\"1460\",\"type\":\"GroupFilter\"}],\"source\":{\"id\":\"1458\",\"type\":\"ColumnDataSource\"}},\"id\":\"1461\",\"type\":\"CDSView\"},{\"attributes\":{\"callback\":null,\"tooltips\":[[\"x\",\"@x\"],[\"y\",\"@y\"],[\"label\",\"@label\"]]},\"id\":\"1457\",\"type\":\"HoverTool\"},{\"attributes\":{\"callback\":null},\"id\":\"1268\",\"type\":\"DataRange1d\"},{\"attributes\":{\"fill_alpha\":{\"value\":0.1},\"fill_color\":{\"value\":\"#1f77b4\"},\"line_alpha\":{\"value\":0.1},\"line_color\":{\"value\":\"#1f77b4\"},\"x\":{\"field\":\"x\"},\"y\":{\"field\":\"y\"}},\"id\":\"1358\",\"type\":\"Circle\"},{\"attributes\":{\"column_name\":\"label\",\"group\":\"true\"},\"id\":\"1360\",\"type\":\"GroupFilter\"},{\"attributes\":{\"overlay\":{\"id\":\"1516\",\"type\":\"BoxAnnotation\"}},\"id\":\"1445\",\"type\":\"BoxZoomTool\"},{\"attributes\":{\"label\":{\"value\":\"false\"},\"renderers\":[{\"id\":\"1359\",\"type\":\"GlyphRenderer\"}]},\"id\":\"1366\",\"type\":\"LegendItem\"},{\"attributes\":{\"below\":[{\"id\":\"1433\",\"type\":\"LinearAxis\"}],\"center\":[{\"id\":\"1437\",\"type\":\"Grid\"},{\"id\":\"1442\",\"type\":\"Grid\"}],\"left\":[{\"id\":\"1438\",\"type\":\"LinearAxis\"},{\"id\":\"1474\",\"type\":\"Legend\"},{\"id\":\"1475\",\"type\":\"ColorBar\"}],\"plot_height\":400,\"plot_width\":600,\"renderers\":[{\"id\":\"1465\",\"type\":\"GlyphRenderer\"},{\"id\":\"1471\",\"type\":\"GlyphRenderer\"}],\"title\":null,\"toolbar\":{\"id\":\"1449\",\"type\":\"Toolbar\"},\"toolbar_location\":null,\"x_range\":{\"id\":\"1425\",\"type\":\"DataRange1d\"},\"x_scale\":{\"id\":\"1429\",\"type\":\"LinearScale\"},\"y_range\":{\"id\":\"1427\",\"type\":\"DataRange1d\"},\"y_scale\":{\"id\":\"1431\",\"type\":\"LinearScale\"}},\"id\":\"1423\",\"subtype\":\"Figure\",\"type\":\"Plot\"},{\"attributes\":{\"overlay\":{\"id\":\"1505\",\"type\":\"BoxAnnotation\"}},\"id\":\"1392\",\"type\":\"BoxZoomTool\"},{\"attributes\":{},\"id\":\"1491\",\"type\":\"BasicTickFormatter\"},{\"attributes\":{\"active_drag\":\"auto\",\"active_inspect\":\"auto\",\"active_multi\":null,\"active_scroll\":\"auto\",\"active_tap\":\"auto\",\"tools\":[{\"id\":\"1337\",\"type\":\"PanTool\"},{\"id\":\"1338\",\"type\":\"WheelZoomTool\"},{\"id\":\"1339\",\"type\":\"BoxZoomTool\"},{\"id\":\"1340\",\"type\":\"SaveTool\"},{\"id\":\"1341\",\"type\":\"ResetTool\"},{\"id\":\"1342\",\"type\":\"HelpTool\"},{\"id\":\"1351\",\"type\":\"HoverTool\"}]},\"id\":\"1343\",\"type\":\"Toolbar\"},{\"attributes\":{},\"id\":\"1342\",\"type\":\"HelpTool\"},{\"attributes\":{\"toolbar\":{\"id\":\"1521\",\"type\":\"ProxyToolbar\"},\"toolbar_location\":\"above\"},\"id\":\"1522\",\"type\":\"ToolbarBox\"},{\"attributes\":{\"label\":{\"value\":\"false\"},\"renderers\":[{\"id\":\"1412\",\"type\":\"GlyphRenderer\"}]},\"id\":\"1419\",\"type\":\"LegendItem\"},{\"attributes\":{\"callback\":null,\"data\":{\"index\":[0,1,2,3,4,5,6,7,8,9,10,11,12,13,14,15,16,17,18,19,20,21,22,23,24,25,26,27,28,29,30,31,32,33,34,35,36,37,38,39,40,41,42,43,44,45,46,47,48,49,50,51,52,53,54,55,56,57,58,59,60,61,62,63,64,65,66,67,68,69,70,71,72,73,74,75,76,77,78,79,80,81,82,83,84,85,86,87,88,89,90,91,92,93,94,95,96,97,98,99,100,101,102,103,104,105,106,107,108,109,110,111,112,113,114,115,116,117,118,119,120,121,122,123,124,125,126,127,128,129,130,131,132,133,134,135,136,137,138,139,140,141,142,143,144,145,146,147,148,149,150,151,152,153,154,155,156,157,158,159,160,161,162,163,164,165,166,167,168,169,170,171,172,173,174,175,176,177,178,179,180,181,182,183,184,185,186,187,188,189],\"label\":[\"false\",\"false\",\"false\",\"false\",\"false\",\"false\",\"false\",\"false\",\"false\",\"false\",\"false\",\"false\",\"false\",\"false\",\"false\",\"false\",\"false\",\"false\",\"false\",\"false\",\"false\",\"false\",\"false\",\"false\",\"false\",\"false\",\"false\",\"false\",\"false\",\"false\",\"false\",\"false\",\"false\",\"false\",\"false\",\"false\",\"false\",\"false\",\"false\",\"false\",\"false\",\"false\",\"false\",\"false\",\"false\",\"false\",\"false\",\"false\",\"false\",\"false\",\"false\",\"false\",\"false\",\"false\",\"false\",\"false\",\"false\",\"false\",\"false\",\"false\",\"false\",\"false\",\"false\",\"false\",\"false\",\"false\",\"false\",\"false\",\"false\",\"false\",\"false\",\"false\",\"false\",\"false\",\"false\",\"false\",\"false\",\"false\",\"false\",\"false\",\"false\",\"false\",\"false\",\"false\",\"false\",\"false\",\"false\",\"false\",\"false\",\"false\",\"false\",\"false\",\"false\",\"false\",\"false\",\"false\",\"false\",\"false\",\"false\",\"false\",\"false\",\"false\",\"false\",\"false\",\"false\",\"false\",\"false\",\"false\",\"false\",\"false\",\"false\",\"false\",\"false\",\"false\",\"false\",\"false\",\"false\",\"true\",\"false\",\"false\",\"false\",\"false\",\"false\",\"false\",\"false\",\"false\",\"false\",\"false\",\"false\",\"false\",\"false\",\"false\",\"false\",\"false\",\"false\",\"false\",\"false\",\"false\",\"false\",\"false\",\"false\",\"false\",\"false\",\"false\",\"false\",\"false\",\"false\",\"false\",\"false\",\"false\",\"false\",\"false\",\"false\",\"false\",\"true\",\"false\",\"false\",\"false\",\"false\",\"false\",\"false\",\"false\",\"false\",\"false\",\"true\",\"false\",\"false\",\"false\",\"false\",\"false\",\"false\",\"false\",\"false\",\"false\",\"false\",\"false\",\"false\",\"false\",\"false\",\"false\",\"true\",\"false\",\"false\",\"false\",\"false\",\"false\",\"false\",\"false\",\"false\",\"false\"],\"x\":{\"__ndarray__\":\"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\",\"dtype\":\"float64\",\"shape\":[190]},\"y\":{\"__ndarray__\":\"AAAAAAAAAAAAAAAAAADwPwAAAAAAAAAAAAAAAAAAAAAAAAAAAAAAAAAAAAAAAAAAAAAAAAAAAAAAAAAAAAAAAAAAAAAAAAAAAAAAAAAA8D8AAAAAAAAAAAAAAAAAAPA/AAAAAAAAAAAAAAAAAADwPwAAAAAAAPA/AAAAAAAA8D8AAAAAAAAAAAAAAAAAAAAAAAAAAAAAAAAAAAAAAAAAAAAAAAAAAPA/AAAAAAAAAAAAAAAAAAAAAAAAAAAAAAAAAAAAAAAAAAAAAAAAAAAAAAAAAAAAAAAAAAAAAAAAAAAAAAAAAAAAAAAAAAAAAAAAAAAAAAAAAAAAAAAAAAAAAAAAAAAAAAAAAAAAAAAAAAAAAAAAAAAAAAAAAAAAAAAAAAAAAAAAAAAAAAAAAAAAAAAAAAAAAAAAAAAAAAAAAAAAAAAAAAAAAAAAAAAAAAAAAAAAAAAAAAAAAAAAAADwPwAAAAAAAAAAAAAAAAAAAAAAAAAAAAAAAAAAAAAAAAAAAAAAAAAAAAAAAAAAAADwPwAAAAAAAAAAAAAAAAAA8D8AAAAAAAAAAAAAAAAAAAAAAAAAAAAAAAAAAAAAAAAAAAAAAAAAAAAAAAAAAAAAAAAAAAAAAAAAAAAAAAAAAAAAAAAAAAAAAAAAAAAAAAAAAAAAAAAAAAAAAAAAAAAAAAAAAAAAAAAAAAAAAAAAAAAAAAAAAAAAAAAAAAAAAAAAAAAAAAAAAAAAAAAAAAAAAAAAAAAAAAAAAAAAAAAAAAAAAAAAAAAAAAAAAAAAAAAAAAAAAAAAAAAAAAAAAAAAAAAAAAAAAAAAAAAAAAAAAAAAAAAAAAAAAAAAAAAAAAAAAAAAAAAAAAAAAAAAAAAAAAAAAAAAAAAAAAAAAAAAAAAAAAAAAAAAAAAAAAAAAAAAAAAAAAAAAAAAAAAAAAAA8D8AAAAAAAAAAAAAAAAAAPA/AAAAAAAAAAAAAAAAAAAAAAAAAAAAAAAAAAAAAAAAAAAAAAAAAAAAAAAAAAAAAAAAAAAAAAAAAAAAAAAAAAAAAAAAAAAAAAAAAAAAAAAA8D8AAAAAAAAAAAAAAAAAAAAAAAAAAAAAAAAAAAAAAAAAAAAAAAAAAAAAAAAAAAAAAAAAAAAAAAAAAAAAAAAAAAAAAAAAAAAAAAAAAAAAAADwPwAAAAAAAAAAAAAAAAAAAAAAAAAAAADwPwAAAAAAAAAAAAAAAAAAAAAAAAAAAAAAAAAAAAAAAAAAAAAAAAAA8D8AAAAAAAAAAAAAAAAAAAAAAAAAAAAAAAAAAAAAAADwPwAAAAAAAAAAAAAAAAAAAAAAAAAAAAAAAAAAAAAAAAAAAAAAAAAAAAAAAAAAAAAAAAAAAAAAAPA/AAAAAAAAAAAAAAAAAAAAAAAAAAAAAAAAAAAAAAAAAAAAAAAAAAAAAAAAAAAAAAAAAAAAAAAAAAAAAAAAAAAAAAAAAAAAAAAAAAAAAAAAAAAAAAAAAAAAAAAAAAAAAAAAAAAAAAAAAAAAAAAAAAAAAAAAAAAAAAAAAAAAAAAAAAAAAAAAAAAAAAAAAAAAAAAAAAAAAAAAAAAAAAAAAAAAAAAAAAAAAPA/AAAAAAAAAAAAAAAAAAAAAAAAAAAAAAAAAAAAAAAAAAAAAAAAAAAAAAAAAAAAAPA/AAAAAAAAAAAAAAAAAAAAAAAAAAAAAAAAAAAAAAAAAAAAAAAAAADwPwAAAAAAAAAAAAAAAAAAAAAAAAAAAAAAAAAAAAAAAAAAAAAAAAAAAAAAAAAAAAAAAAAAAAAAAAAAAAAAAAAAAAAAAAAAAAAAAAAAAAAAAAAAAAAAAAAAAAAAAAAAAAAAAAAAAAAAAAAAAAAAAAAAAAAAAAAAAAAAAAAAAAAAAAAAAAAAAAAAAAAAAAAAAAAAAAAAAAAAAAAAAAAAAAAA8D8AAAAAAAAAAAAAAAAAAAAAAAAAAAAAAAAAAAAAAAAAAAAAAAAAAAAAAAAAAAAAAAAAAAAAAAAUQAAAAAAAAAAAAAAAAAAA8D8=\",\"dtype\":\"float64\",\"shape\":[190]}},\"selected\":{\"id\":\"1517\",\"type\":\"Selection\"},\"selection_policy\":{\"id\":\"1518\",\"type\":\"UnionRenderers\"}},\"id\":\"1458\",\"type\":\"ColumnDataSource\"},{\"attributes\":{\"dimension\":1,\"ticker\":{\"id\":\"1439\",\"type\":\"BasicTicker\"}},\"id\":\"1442\",\"type\":\"Grid\"},{\"attributes\":{\"active_drag\":\"auto\",\"active_inspect\":\"auto\",\"active_multi\":null,\"active_scroll\":\"auto\",\"active_tap\":\"auto\",\"tools\":[{\"id\":\"1443\",\"type\":\"PanTool\"},{\"id\":\"1444\",\"type\":\"WheelZoomTool\"},{\"id\":\"1445\",\"type\":\"BoxZoomTool\"},{\"id\":\"1446\",\"type\":\"SaveTool\"},{\"id\":\"1447\",\"type\":\"ResetTool\"},{\"id\":\"1448\",\"type\":\"HelpTool\"},{\"id\":\"1457\",\"type\":\"HoverTool\"}]},\"id\":\"1449\",\"type\":\"Toolbar\"},{\"attributes\":{},\"id\":\"1341\",\"type\":\"ResetTool\"},{\"attributes\":{\"data_source\":{\"id\":\"1405\",\"type\":\"ColumnDataSource\"},\"glyph\":{\"id\":\"1410\",\"type\":\"Circle\"},\"hover_glyph\":null,\"muted_glyph\":null,\"nonselection_glyph\":{\"id\":\"1411\",\"type\":\"Circle\"},\"selection_glyph\":null,\"view\":{\"id\":\"1408\",\"type\":\"CDSView\"}},\"id\":\"1412\",\"type\":\"GlyphRenderer\"},{\"attributes\":{},\"id\":\"1439\",\"type\":\"BasicTicker\"},{\"attributes\":{},\"id\":\"1507\",\"type\":\"UnionRenderers\"},{\"attributes\":{\"overlay\":{\"id\":\"1494\",\"type\":\"BoxAnnotation\"}},\"id\":\"1339\",\"type\":\"BoxZoomTool\"},{\"attributes\":{},\"id\":\"1492\",\"type\":\"BasicTicker\"},{\"attributes\":{},\"id\":\"1338\",\"type\":\"WheelZoomTool\"},{\"attributes\":{\"fill_color\":{\"field\":\"label\",\"transform\":{\"id\":\"1406\",\"type\":\"CategoricalColorMapper\"}},\"line_color\":{\"field\":\"label\",\"transform\":{\"id\":\"1406\",\"type\":\"CategoricalColorMapper\"}},\"x\":{\"field\":\"x\"},\"y\":{\"field\":\"y\"}},\"id\":\"1416\",\"type\":\"Circle\"},{\"attributes\":{\"filters\":[{\"id\":\"1413\",\"type\":\"GroupFilter\"}],\"source\":{\"id\":\"1405\",\"type\":\"ColumnDataSource\"}},\"id\":\"1414\",\"type\":\"CDSView\"},{\"attributes\":{},\"id\":\"1340\",\"type\":\"SaveTool\"},{\"attributes\":{\"factors\":[\"true\",\"false\"],\"palette\":[\"#1f77b4\",\"#ff7f0e\",\"#2ca02c\",\"#d62728\",\"#9467bd\",\"#8c564b\",\"#e377c2\",\"#7f7f7f\",\"#bcbd22\",\"#17becf\"]},\"id\":\"1406\",\"type\":\"CategoricalColorMapper\"},{\"attributes\":{},\"id\":\"1482\",\"type\":\"BasicTickFormatter\"},{\"attributes\":{\"click_policy\":\"hide\",\"items\":[{\"id\":\"1419\",\"type\":\"LegendItem\"},{\"id\":\"1420\",\"type\":\"LegendItem\"}]},\"id\":\"1421\",\"type\":\"Legend\"},{\"attributes\":{},\"id\":\"1434\",\"type\":\"BasicTicker\"},{\"attributes\":{\"factors\":[\"true\",\"false\"],\"palette\":[\"#1f77b4\",\"#ff7f0e\",\"#2ca02c\",\"#d62728\",\"#9467bd\",\"#8c564b\",\"#e377c2\",\"#7f7f7f\",\"#bcbd22\",\"#17becf\"]},\"id\":\"1300\",\"type\":\"CategoricalColorMapper\"},{\"attributes\":{\"label\":{\"value\":\"false\"},\"renderers\":[{\"id\":\"1306\",\"type\":\"GlyphRenderer\"}]},\"id\":\"1313\",\"type\":\"LegendItem\"},{\"attributes\":{\"fill_color\":{\"field\":\"label\",\"transform\":{\"id\":\"1353\",\"type\":\"CategoricalColorMapper\"}},\"line_color\":{\"field\":\"label\",\"transform\":{\"id\":\"1353\",\"type\":\"CategoricalColorMapper\"}},\"x\":{\"field\":\"x\"},\"y\":{\"field\":\"y\"}},\"id\":\"1363\",\"type\":\"Circle\"},{\"attributes\":{\"overlay\":{\"id\":\"1483\",\"type\":\"BoxAnnotation\"}},\"id\":\"1286\",\"type\":\"BoxZoomTool\"},{\"attributes\":{\"bottom_units\":\"screen\",\"fill_alpha\":{\"value\":0.5},\"fill_color\":{\"value\":\"lightgrey\"},\"left_units\":\"screen\",\"level\":\"overlay\",\"line_alpha\":{\"value\":1.0},\"line_color\":{\"value\":\"black\"},\"line_dash\":[4,4],\"line_width\":{\"value\":2},\"render_mode\":\"css\",\"right_units\":\"screen\",\"top_units\":\"screen\"},\"id\":\"1494\",\"type\":\"BoxAnnotation\"},{\"attributes\":{},\"id\":\"1381\",\"type\":\"BasicTicker\"},{\"attributes\":{\"column_name\":\"label\",\"group\":\"true\"},\"id\":\"1307\",\"type\":\"GroupFilter\"},{\"attributes\":{},\"id\":\"1285\",\"type\":\"WheelZoomTool\"},{\"attributes\":{\"color_mapper\":null,\"formatter\":{\"id\":\"1504\",\"type\":\"BasicTickFormatter\"},\"ticker\":{\"id\":\"1503\",\"type\":\"BasicTicker\"},\"visible\":false},\"id\":\"1422\",\"type\":\"ColorBar\"},{\"attributes\":{\"column_name\":\"label\",\"group\":\"false\"},\"id\":\"1407\",\"type\":\"GroupFilter\"},{\"attributes\":{\"callback\":null},\"id\":\"1372\",\"type\":\"DataRange1d\"},{\"attributes\":{\"factors\":[\"true\",\"false\"],\"palette\":[\"#1f77b4\",\"#ff7f0e\",\"#2ca02c\",\"#d62728\",\"#9467bd\",\"#8c564b\",\"#e377c2\",\"#7f7f7f\",\"#bcbd22\",\"#17becf\"]},\"id\":\"1459\",\"type\":\"CategoricalColorMapper\"},{\"attributes\":{\"callback\":null},\"id\":\"1374\",\"type\":\"DataRange1d\"},{\"attributes\":{\"axis_label\":\"Call rate\",\"formatter\":{\"id\":\"1502\",\"type\":\"BasicTickFormatter\"},\"ticker\":{\"id\":\"1386\",\"type\":\"BasicTicker\"}},\"id\":\"1385\",\"type\":\"LinearAxis\"},{\"attributes\":{\"children\":[[{\"id\":\"1264\",\"subtype\":\"Figure\",\"type\":\"Plot\"},0,0],[{\"id\":\"1317\",\"subtype\":\"Figure\",\"type\":\"Plot\"},0,1],[{\"id\":\"1370\",\"subtype\":\"Figure\",\"type\":\"Plot\"},1,0],[{\"id\":\"1423\",\"subtype\":\"Figure\",\"type\":\"Plot\"},1,1]]},\"id\":\"1520\",\"type\":\"GridBox\"},{\"attributes\":{},\"id\":\"1515\",\"type\":\"BasicTickFormatter\"},{\"attributes\":{\"fill_color\":{\"field\":\"label\",\"transform\":{\"id\":\"1300\",\"type\":\"CategoricalColorMapper\"}},\"line_color\":{\"field\":\"label\",\"transform\":{\"id\":\"1300\",\"type\":\"CategoricalColorMapper\"}},\"x\":{\"field\":\"x\"},\"y\":{\"field\":\"y\"}},\"id\":\"1304\",\"type\":\"Circle\"},{\"attributes\":{\"filters\":[{\"id\":\"1360\",\"type\":\"GroupFilter\"}],\"source\":{\"id\":\"1352\",\"type\":\"ColumnDataSource\"}},\"id\":\"1361\",\"type\":\"CDSView\"},{\"attributes\":{\"fill_color\":{\"field\":\"label\",\"transform\":{\"id\":\"1459\",\"type\":\"CategoricalColorMapper\"}},\"line_color\":{\"field\":\"label\",\"transform\":{\"id\":\"1459\",\"type\":\"CategoricalColorMapper\"}},\"x\":{\"field\":\"x\"},\"y\":{\"field\":\"y\"}},\"id\":\"1463\",\"type\":\"Circle\"},{\"attributes\":{\"ticker\":{\"id\":\"1381\",\"type\":\"BasicTicker\"}},\"id\":\"1384\",\"type\":\"Grid\"},{\"attributes\":{},\"id\":\"1376\",\"type\":\"LinearScale\"},{\"attributes\":{\"filters\":[{\"id\":\"1307\",\"type\":\"GroupFilter\"}],\"source\":{\"id\":\"1299\",\"type\":\"ColumnDataSource\"}},\"id\":\"1308\",\"type\":\"CDSView\"},{\"attributes\":{\"fill_alpha\":{\"value\":0.1},\"fill_color\":{\"value\":\"#1f77b4\"},\"line_alpha\":{\"value\":0.1},\"line_color\":{\"value\":\"#1f77b4\"},\"x\":{\"field\":\"x\"},\"y\":{\"field\":\"y\"}},\"id\":\"1464\",\"type\":\"Circle\"},{\"attributes\":{\"callback\":null,\"tooltips\":[[\"x\",\"@x\"],[\"y\",\"@y\"],[\"label\",\"@label\"]]},\"id\":\"1351\",\"type\":\"HoverTool\"},{\"attributes\":{\"fill_color\":{\"field\":\"label\",\"transform\":{\"id\":\"1300\",\"type\":\"CategoricalColorMapper\"}},\"line_color\":{\"field\":\"label\",\"transform\":{\"id\":\"1300\",\"type\":\"CategoricalColorMapper\"}},\"x\":{\"field\":\"x\"},\"y\":{\"field\":\"y\"}},\"id\":\"1310\",\"type\":\"Circle\"},{\"attributes\":{},\"id\":\"1511\",\"type\":\"BasicTickFormatter\"},{\"attributes\":{},\"id\":\"1500\",\"type\":\"BasicTickFormatter\"},{\"attributes\":{\"data_source\":{\"id\":\"1458\",\"type\":\"ColumnDataSource\"},\"glyph\":{\"id\":\"1463\",\"type\":\"Circle\"},\"hover_glyph\":null,\"muted_glyph\":null,\"nonselection_glyph\":{\"id\":\"1464\",\"type\":\"Circle\"},\"selection_glyph\":null,\"view\":{\"id\":\"1461\",\"type\":\"CDSView\"}},\"id\":\"1465\",\"type\":\"GlyphRenderer\"},{\"attributes\":{},\"id\":\"1513\",\"type\":\"BasicTickFormatter\"},{\"attributes\":{\"label\":{\"value\":\"true\"},\"renderers\":[{\"id\":\"1418\",\"type\":\"GlyphRenderer\"}]},\"id\":\"1420\",\"type\":\"LegendItem\"},{\"attributes\":{},\"id\":\"1503\",\"type\":\"BasicTicker\"},{\"attributes\":{},\"id\":\"1323\",\"type\":\"LinearScale\"},{\"attributes\":{},\"id\":\"1378\",\"type\":\"LinearScale\"},{\"attributes\":{\"axis_label\":\"DP mean\",\"formatter\":{\"id\":\"1511\",\"type\":\"BasicTickFormatter\"},\"ticker\":{\"id\":\"1434\",\"type\":\"BasicTicker\"}},\"id\":\"1433\",\"type\":\"LinearAxis\"},{\"attributes\":{\"label\":{\"value\":\"false\"},\"renderers\":[{\"id\":\"1465\",\"type\":\"GlyphRenderer\"}]},\"id\":\"1472\",\"type\":\"LegendItem\"},{\"attributes\":{\"tools\":[{\"id\":\"1284\",\"type\":\"PanTool\"},{\"id\":\"1285\",\"type\":\"WheelZoomTool\"},{\"id\":\"1286\",\"type\":\"BoxZoomTool\"},{\"id\":\"1287\",\"type\":\"SaveTool\"},{\"id\":\"1288\",\"type\":\"ResetTool\"},{\"id\":\"1289\",\"type\":\"HelpTool\"},{\"id\":\"1298\",\"type\":\"HoverTool\"},{\"id\":\"1337\",\"type\":\"PanTool\"},{\"id\":\"1338\",\"type\":\"WheelZoomTool\"},{\"id\":\"1339\",\"type\":\"BoxZoomTool\"},{\"id\":\"1340\",\"type\":\"SaveTool\"},{\"id\":\"1341\",\"type\":\"ResetTool\"},{\"id\":\"1342\",\"type\":\"HelpTool\"},{\"id\":\"1351\",\"type\":\"HoverTool\"},{\"id\":\"1390\",\"type\":\"PanTool\"},{\"id\":\"1391\",\"type\":\"WheelZoomTool\"},{\"id\":\"1392\",\"type\":\"BoxZoomTool\"},{\"id\":\"1393\",\"type\":\"SaveTool\"},{\"id\":\"1394\",\"type\":\"ResetTool\"},{\"id\":\"1395\",\"type\":\"HelpTool\"},{\"id\":\"1404\",\"type\":\"HoverTool\"},{\"id\":\"1443\",\"type\":\"PanTool\"},{\"id\":\"1444\",\"type\":\"WheelZoomTool\"},{\"id\":\"1445\",\"type\":\"BoxZoomTool\"},{\"id\":\"1446\",\"type\":\"SaveTool\"},{\"id\":\"1447\",\"type\":\"ResetTool\"},{\"id\":\"1448\",\"type\":\"HelpTool\"},{\"id\":\"1457\",\"type\":\"HoverTool\"}]},\"id\":\"1521\",\"type\":\"ProxyToolbar\"},{\"attributes\":{\"filters\":[{\"id\":\"1466\",\"type\":\"GroupFilter\"}],\"source\":{\"id\":\"1458\",\"type\":\"ColumnDataSource\"}},\"id\":\"1467\",\"type\":\"CDSView\"},{\"attributes\":{},\"id\":\"1325\",\"type\":\"LinearScale\"},{\"attributes\":{\"fill_alpha\":{\"value\":0.1},\"fill_color\":{\"value\":\"#1f77b4\"},\"line_alpha\":{\"value\":0.1},\"line_color\":{\"value\":\"#1f77b4\"},\"x\":{\"field\":\"x\"},\"y\":{\"field\":\"y\"}},\"id\":\"1305\",\"type\":\"Circle\"},{\"attributes\":{\"fill_alpha\":{\"value\":0.1},\"fill_color\":{\"value\":\"#1f77b4\"},\"line_alpha\":{\"value\":0.1},\"line_color\":{\"value\":\"#1f77b4\"},\"x\":{\"field\":\"x\"},\"y\":{\"field\":\"y\"}},\"id\":\"1364\",\"type\":\"Circle\"},{\"attributes\":{\"axis_label\":\"DP mean\",\"formatter\":{\"id\":\"1500\",\"type\":\"BasicTickFormatter\"},\"ticker\":{\"id\":\"1381\",\"type\":\"BasicTicker\"}},\"id\":\"1380\",\"type\":\"LinearAxis\"},{\"attributes\":{\"fill_color\":{\"field\":\"label\",\"transform\":{\"id\":\"1459\",\"type\":\"CategoricalColorMapper\"}},\"line_color\":{\"field\":\"label\",\"transform\":{\"id\":\"1459\",\"type\":\"CategoricalColorMapper\"}},\"x\":{\"field\":\"x\"},\"y\":{\"field\":\"y\"}},\"id\":\"1469\",\"type\":\"Circle\"},{\"attributes\":{\"data_source\":{\"id\":\"1405\",\"type\":\"ColumnDataSource\"},\"glyph\":{\"id\":\"1416\",\"type\":\"Circle\"},\"hover_glyph\":null,\"muted_glyph\":null,\"nonselection_glyph\":{\"id\":\"1417\",\"type\":\"Circle\"},\"selection_glyph\":null,\"view\":{\"id\":\"1414\",\"type\":\"CDSView\"}},\"id\":\"1418\",\"type\":\"GlyphRenderer\"},{\"attributes\":{\"bottom_units\":\"screen\",\"fill_alpha\":{\"value\":0.5},\"fill_color\":{\"value\":\"lightgrey\"},\"left_units\":\"screen\",\"level\":\"overlay\",\"line_alpha\":{\"value\":1.0},\"line_color\":{\"value\":\"black\"},\"line_dash\":[4,4],\"line_width\":{\"value\":2},\"render_mode\":\"css\",\"right_units\":\"screen\",\"top_units\":\"screen\"},\"id\":\"1505\",\"type\":\"BoxAnnotation\"},{\"attributes\":{\"fill_color\":{\"field\":\"label\",\"transform\":{\"id\":\"1353\",\"type\":\"CategoricalColorMapper\"}},\"line_color\":{\"field\":\"label\",\"transform\":{\"id\":\"1353\",\"type\":\"CategoricalColorMapper\"}},\"x\":{\"field\":\"x\"},\"y\":{\"field\":\"y\"}},\"id\":\"1357\",\"type\":\"Circle\"},{\"attributes\":{\"column_name\":\"label\",\"group\":\"true\"},\"id\":\"1466\",\"type\":\"GroupFilter\"},{\"attributes\":{},\"id\":\"1337\",\"type\":\"PanTool\"},{\"attributes\":{\"filters\":[{\"id\":\"1301\",\"type\":\"GroupFilter\"}],\"source\":{\"id\":\"1299\",\"type\":\"ColumnDataSource\"}},\"id\":\"1302\",\"type\":\"CDSView\"},{\"attributes\":{},\"id\":\"1504\",\"type\":\"BasicTickFormatter\"},{\"attributes\":{\"callback\":null},\"id\":\"1321\",\"type\":\"DataRange1d\"},{\"attributes\":{\"dimension\":1,\"ticker\":{\"id\":\"1333\",\"type\":\"BasicTicker\"}},\"id\":\"1336\",\"type\":\"Grid\"},{\"attributes\":{\"callback\":null},\"id\":\"1425\",\"type\":\"DataRange1d\"},{\"attributes\":{},\"id\":\"1514\",\"type\":\"BasicTicker\"},{\"attributes\":{},\"id\":\"1333\",\"type\":\"BasicTicker\"},{\"attributes\":{\"callback\":null,\"tooltips\":[[\"x\",\"@x\"],[\"y\",\"@y\"],[\"label\",\"@label\"]]},\"id\":\"1298\",\"type\":\"HoverTool\"},{\"attributes\":{\"color_mapper\":null,\"formatter\":{\"id\":\"1493\",\"type\":\"BasicTickFormatter\"},\"ticker\":{\"id\":\"1492\",\"type\":\"BasicTicker\"},\"visible\":false},\"id\":\"1369\",\"type\":\"ColorBar\"},{\"attributes\":{\"fill_alpha\":{\"value\":0.1},\"fill_color\":{\"value\":\"#1f77b4\"},\"line_alpha\":{\"value\":0.1},\"line_color\":{\"value\":\"#1f77b4\"},\"x\":{\"field\":\"x\"},\"y\":{\"field\":\"y\"}},\"id\":\"1470\",\"type\":\"Circle\"},{\"attributes\":{\"click_policy\":\"hide\",\"items\":[{\"id\":\"1472\",\"type\":\"LegendItem\"},{\"id\":\"1473\",\"type\":\"LegendItem\"}]},\"id\":\"1474\",\"type\":\"Legend\"},{\"attributes\":{\"data_source\":{\"id\":\"1458\",\"type\":\"ColumnDataSource\"},\"glyph\":{\"id\":\"1469\",\"type\":\"Circle\"},\"hover_glyph\":null,\"muted_glyph\":null,\"nonselection_glyph\":{\"id\":\"1470\",\"type\":\"Circle\"},\"selection_glyph\":null,\"view\":{\"id\":\"1467\",\"type\":\"CDSView\"}},\"id\":\"1471\",\"type\":\"GlyphRenderer\"},{\"attributes\":{\"data_source\":{\"id\":\"1299\",\"type\":\"ColumnDataSource\"},\"glyph\":{\"id\":\"1304\",\"type\":\"Circle\"},\"hover_glyph\":null,\"muted_glyph\":null,\"nonselection_glyph\":{\"id\":\"1305\",\"type\":\"Circle\"},\"selection_glyph\":null,\"view\":{\"id\":\"1302\",\"type\":\"CDSView\"}},\"id\":\"1306\",\"type\":\"GlyphRenderer\"},{\"attributes\":{\"color_mapper\":null,\"formatter\":{\"id\":\"1482\",\"type\":\"BasicTickFormatter\"},\"ticker\":{\"id\":\"1481\",\"type\":\"BasicTicker\"},\"visible\":false},\"id\":\"1316\",\"type\":\"ColorBar\"},{\"attributes\":{\"callback\":null},\"id\":\"1319\",\"type\":\"DataRange1d\"},{\"attributes\":{},\"id\":\"1478\",\"type\":\"BasicTickFormatter\"},{\"attributes\":{\"below\":[{\"id\":\"1380\",\"type\":\"LinearAxis\"}],\"center\":[{\"id\":\"1384\",\"type\":\"Grid\"},{\"id\":\"1389\",\"type\":\"Grid\"}],\"left\":[{\"id\":\"1385\",\"type\":\"LinearAxis\"},{\"id\":\"1421\",\"type\":\"Legend\"},{\"id\":\"1422\",\"type\":\"ColorBar\"}],\"plot_height\":400,\"plot_width\":600,\"renderers\":[{\"id\":\"1412\",\"type\":\"GlyphRenderer\"},{\"id\":\"1418\",\"type\":\"GlyphRenderer\"}],\"title\":null,\"toolbar\":{\"id\":\"1396\",\"type\":\"Toolbar\"},\"toolbar_location\":null,\"x_range\":{\"id\":\"1372\",\"type\":\"DataRange1d\"},\"x_scale\":{\"id\":\"1376\",\"type\":\"LinearScale\"},\"y_range\":{\"id\":\"1374\",\"type\":\"DataRange1d\"},\"y_scale\":{\"id\":\"1378\",\"type\":\"LinearScale\"}},\"id\":\"1370\",\"subtype\":\"Figure\",\"type\":\"Plot\"},{\"attributes\":{},\"id\":\"1506\",\"type\":\"Selection\"},{\"attributes\":{\"bottom_units\":\"screen\",\"fill_alpha\":{\"value\":0.5},\"fill_color\":{\"value\":\"lightgrey\"},\"left_units\":\"screen\",\"level\":\"overlay\",\"line_alpha\":{\"value\":1.0},\"line_color\":{\"value\":\"black\"},\"line_dash\":[4,4],\"line_width\":{\"value\":2},\"render_mode\":\"css\",\"right_units\":\"screen\",\"top_units\":\"screen\"},\"id\":\"1516\",\"type\":\"BoxAnnotation\"},{\"attributes\":{\"column_name\":\"label\",\"group\":\"false\"},\"id\":\"1354\",\"type\":\"GroupFilter\"},{\"attributes\":{\"callback\":null,\"data\":{\"index\":[0,1,2,3,4,5,6,7,8,9,10,11,12,13,14,15,16,17,18,19,20,21,22,23,24,25,26,27,28,29,30,31,32,33,34,35,36,37,38,39,40,41,42,43,44,45,46,47,48,49,50,51,52,53,54,55,56,57,58,59,60,61,62,63,64,65,66,67,68,69,70,71,72,73,74,75,76,77,78,79,80,81,82,83,84,85,86,87,88,89,90,91,92,93,94,95,96,97,98,99,100,101,102,103,104,105,106,107,108,109,110,111,112,113,114,115,116,117,118,119,120,121,122,123,124,125,126,127,128,129,130,131,132,133,134,135,136,137,138,139,140,141,142,143,144,145,146,147,148,149,150,151,152,153,154,155,156,157,158,159,160,161,162,163,164,165,166,167,168,169,170,171,172,173,174,175,176,177,178,179,180,181,182,183,184,185,186,187,188,189,190,191,192,193,194,195,196,197,198,199,200,201,202,203,204,205,206,207,208,209,210,211,212,213,214,215,216,217,218,219,220,221,222,223,224,225,226,227,228,229,230,231,232,233,234,235,236,237,238,239,240,241,242,243,244,245,246,247,248,249,250,251,252,253,254,255,256,257,258,259,260,261,262,263,264,265,266,267,268,269,270,271,272,273,274,275,276,277,278,279,280,281,282,283,284,285,286,287,288,289,290,291,292,293,294,295,296,297,298,299,300,301,302,303,304,305,306,307,308,309,310,311,312,313,314,315,316,317,318,319,320,321,322,323,324,325,326,327,328,329,330,331,332,333,334,335,336,337,338,339,340,341,342,343,344,345,346,347,348,349,350,351,352,353,354,355,356,357,358,359,360,361,362,363,364,365,366,367],\"label\":[\"false\",\"false\",\"false\",\"false\",\"false\",\"false\",\"false\",\"false\",\"false\",\"false\",\"false\",\"false\",\"false\",\"false\",\"false\",\"false\",\"false\",\"false\",\"false\",\"false\",\"false\",\"false\",\"false\",\"false\",\"false\",\"false\",\"false\",\"false\",\"false\",\"false\",\"false\",\"false\",\"false\",\"false\",\"false\",\"false\",\"false\",\"false\",\"false\",\"false\",\"false\",\"false\",\"false\",\"false\",\"false\",\"false\",\"false\",\"false\",\"false\",\"false\",\"false\",\"false\",\"false\",\"false\",\"false\",\"false\",\"false\",\"false\",\"false\",\"false\",\"false\",\"false\",\"false\",\"false\",\"false\",\"false\",\"false\",\"false\",\"false\",\"false\",\"false\",\"false\",\"false\",\"false\",\"false\",\"false\",\"false\",\"false\",\"false\",\"false\",\"false\",\"false\",\"false\",\"false\",\"false\",\"false\",\"false\",\"false\",\"false\",\"false\",\"false\",\"false\",\"false\",\"false\",\"false\",\"false\",\"false\",\"false\",\"false\",\"false\",\"false\",\"false\",\"false\",\"false\",\"false\",\"false\",\"false\",\"false\",\"false\",\"false\",\"false\",\"false\",\"false\",\"false\",\"false\",\"false\",\"false\",\"false\",\"false\",\"false\",\"false\",\"false\",\"false\",\"false\",\"false\",\"false\",\"false\",\"false\",\"false\",\"false\",\"false\",\"false\",\"false\",\"false\",\"false\",\"false\",\"false\",\"false\",\"false\",\"false\",\"false\",\"false\",\"false\",\"false\",\"false\",\"false\",\"false\",\"false\",\"false\",\"false\",\"false\",\"false\",\"false\",\"false\",\"false\",\"false\",\"false\",\"false\",\"false\",\"false\",\"false\",\"false\",\"false\",\"false\",\"false\",\"false\",\"false\",\"false\",\"false\",\"false\",\"false\",\"false\",\"false\",\"false\",\"false\",\"false\",\"false\",\"false\",\"false\",\"false\",\"false\",\"false\",\"false\",\"false\",\"false\",\"false\",\"false\",\"false\",\"false\",\"false\",\"false\",\"false\",\"false\",\"false\",\"false\",\"false\",\"false\",\"false\",\"false\",\"false\",\"false\",\"false\",\"false\",\"false\",\"false\",\"false\",\"false\",\"false\",\"false\",\"false\",\"false\",\"false\",\"false\",\"false\",\"false\",\"false\",\"false\",\"false\",\"false\",\"false\",\"false\",\"false\",\"false\",\"false\",\"false\",\"false\",\"false\",\"false\",\"false\",\"false\",\"false\",\"false\",\"false\",\"false\",\"false\",\"false\",\"false\",\"false\",\"false\",\"false\",\"false\",\"false\",\"false\",\"false\",\"false\",\"false\",\"false\",\"false\",\"false\",\"false\",\"false\",\"false\",\"false\",\"false\",\"false\",\"false\",\"false\",\"true\",\"false\",\"false\",\"false\",\"false\",\"false\",\"false\",\"false\",\"false\",\"false\",\"false\",\"false\",\"false\",\"false\",\"false\",\"false\",\"false\",\"false\",\"false\",\"false\",\"false\",\"false\",\"false\",\"false\",\"false\",\"false\",\"false\",\"false\",\"false\",\"false\",\"false\",\"false\",\"false\",\"false\",\"false\",\"false\",\"false\",\"false\",\"false\",\"false\",\"false\",\"false\",\"false\",\"false\",\"false\",\"false\",\"false\",\"false\",\"false\",\"false\",\"false\",\"false\",\"false\",\"false\",\"false\",\"false\",\"false\",\"false\",\"false\",\"false\",\"false\",\"false\",\"false\",\"false\",\"false\",\"false\",\"false\",\"false\",\"false\",\"true\",\"false\",\"false\",\"false\",\"false\",\"false\",\"false\",\"false\",\"false\",\"false\",\"false\",\"false\",\"false\",\"false\",\"true\",\"false\",\"false\",\"false\",\"false\",\"false\",\"false\",\"false\",\"false\",\"false\",\"false\",\"false\",\"false\",\"false\",\"false\",\"false\",\"false\",\"true\",\"false\",\"false\",\"false\",\"false\",\"false\",\"false\",\"false\",\"false\",\"false\",\"false\"],\"x\":{\"__ndarray__\":\"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\",\"dtype\":\"float64\",\"shape\":[368]},\"y\":{\"__ndarray__\":\"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\",\"dtype\":\"float64\",\"shape\":[368]}},\"selected\":{\"id\":\"1484\",\"type\":\"Selection\"},\"selection_policy\":{\"id\":\"1485\",\"type\":\"UnionRenderers\"}},\"id\":\"1299\",\"type\":\"ColumnDataSource\"},{\"attributes\":{\"label\":{\"value\":\"true\"},\"renderers\":[{\"id\":\"1471\",\"type\":\"GlyphRenderer\"}]},\"id\":\"1473\",\"type\":\"LegendItem\"},{\"attributes\":{},\"id\":\"1480\",\"type\":\"BasicTickFormatter\"},{\"attributes\":{\"click_policy\":\"hide\",\"items\":[{\"id\":\"1366\",\"type\":\"LegendItem\"},{\"id\":\"1367\",\"type\":\"LegendItem\"}]},\"id\":\"1368\",\"type\":\"Legend\"},{\"attributes\":{\"color_mapper\":null,\"formatter\":{\"id\":\"1515\",\"type\":\"BasicTickFormatter\"},\"ticker\":{\"id\":\"1514\",\"type\":\"BasicTicker\"},\"visible\":false},\"id\":\"1475\",\"type\":\"ColorBar\"},{\"attributes\":{},\"id\":\"1481\",\"type\":\"BasicTicker\"},{\"attributes\":{},\"id\":\"1270\",\"type\":\"LinearScale\"},{\"attributes\":{},\"id\":\"1502\",\"type\":\"BasicTickFormatter\"},{\"attributes\":{\"label\":{\"value\":\"true\"},\"renderers\":[{\"id\":\"1365\",\"type\":\"GlyphRenderer\"}]},\"id\":\"1367\",\"type\":\"LegendItem\"},{\"attributes\":{\"data_source\":{\"id\":\"1352\",\"type\":\"ColumnDataSource\"},\"glyph\":{\"id\":\"1363\",\"type\":\"Circle\"},\"hover_glyph\":null,\"muted_glyph\":null,\"nonselection_glyph\":{\"id\":\"1364\",\"type\":\"Circle\"},\"selection_glyph\":null,\"view\":{\"id\":\"1361\",\"type\":\"CDSView\"}},\"id\":\"1365\",\"type\":\"GlyphRenderer\"},{\"attributes\":{},\"id\":\"1287\",\"type\":\"SaveTool\"},{\"attributes\":{},\"id\":\"1495\",\"type\":\"Selection\"},{\"attributes\":{},\"id\":\"1517\",\"type\":\"Selection\"},{\"attributes\":{\"axis_label\":\"Ti/Tv rate\",\"formatter\":{\"id\":\"1491\",\"type\":\"BasicTickFormatter\"},\"ticker\":{\"id\":\"1333\",\"type\":\"BasicTicker\"}},\"id\":\"1332\",\"type\":\"LinearAxis\"},{\"attributes\":{\"column_name\":\"label\",\"group\":\"false\"},\"id\":\"1301\",\"type\":\"GroupFilter\"},{\"attributes\":{},\"id\":\"1518\",\"type\":\"UnionRenderers\"},{\"attributes\":{\"active_drag\":\"auto\",\"active_inspect\":\"auto\",\"active_multi\":null,\"active_scroll\":\"auto\",\"active_tap\":\"auto\",\"tools\":[{\"id\":\"1284\",\"type\":\"PanTool\"},{\"id\":\"1285\",\"type\":\"WheelZoomTool\"},{\"id\":\"1286\",\"type\":\"BoxZoomTool\"},{\"id\":\"1287\",\"type\":\"SaveTool\"},{\"id\":\"1288\",\"type\":\"ResetTool\"},{\"id\":\"1289\",\"type\":\"HelpTool\"},{\"id\":\"1298\",\"type\":\"HoverTool\"}]},\"id\":\"1290\",\"type\":\"Toolbar\"},{\"attributes\":{\"data_source\":{\"id\":\"1299\",\"type\":\"ColumnDataSource\"},\"glyph\":{\"id\":\"1310\",\"type\":\"Circle\"},\"hover_glyph\":null,\"muted_glyph\":null,\"nonselection_glyph\":{\"id\":\"1311\",\"type\":\"Circle\"},\"selection_glyph\":null,\"view\":{\"id\":\"1308\",\"type\":\"CDSView\"}},\"id\":\"1312\",\"type\":\"GlyphRenderer\"},{\"attributes\":{\"below\":[{\"id\":\"1327\",\"type\":\"LinearAxis\"}],\"center\":[{\"id\":\"1331\",\"type\":\"Grid\"},{\"id\":\"1336\",\"type\":\"Grid\"}],\"left\":[{\"id\":\"1332\",\"type\":\"LinearAxis\"},{\"id\":\"1368\",\"type\":\"Legend\"},{\"id\":\"1369\",\"type\":\"ColorBar\"}],\"plot_height\":400,\"plot_width\":600,\"renderers\":[{\"id\":\"1359\",\"type\":\"GlyphRenderer\"},{\"id\":\"1365\",\"type\":\"GlyphRenderer\"}],\"title\":null,\"toolbar\":{\"id\":\"1343\",\"type\":\"Toolbar\"},\"toolbar_location\":null,\"x_range\":{\"id\":\"1319\",\"type\":\"DataRange1d\"},\"x_scale\":{\"id\":\"1323\",\"type\":\"LinearScale\"},\"y_range\":{\"id\":\"1321\",\"type\":\"DataRange1d\"},\"y_scale\":{\"id\":\"1325\",\"type\":\"LinearScale\"}},\"id\":\"1317\",\"subtype\":\"Figure\",\"type\":\"Plot\"},{\"attributes\":{},\"id\":\"1284\",\"type\":\"PanTool\"},{\"attributes\":{\"ticker\":{\"id\":\"1328\",\"type\":\"BasicTicker\"}},\"id\":\"1331\",\"type\":\"Grid\"},{\"attributes\":{},\"id\":\"1275\",\"type\":\"BasicTicker\"},{\"attributes\":{\"ticker\":{\"id\":\"1275\",\"type\":\"BasicTicker\"}},\"id\":\"1278\",\"type\":\"Grid\"},{\"attributes\":{\"label\":{\"value\":\"true\"},\"renderers\":[{\"id\":\"1312\",\"type\":\"GlyphRenderer\"}]},\"id\":\"1314\",\"type\":\"LegendItem\"},{\"attributes\":{},\"id\":\"1289\",\"type\":\"HelpTool\"},{\"attributes\":{\"below\":[{\"id\":\"1274\",\"type\":\"LinearAxis\"}],\"center\":[{\"id\":\"1278\",\"type\":\"Grid\"},{\"id\":\"1283\",\"type\":\"Grid\"}],\"left\":[{\"id\":\"1279\",\"type\":\"LinearAxis\"},{\"id\":\"1315\",\"type\":\"Legend\"},{\"id\":\"1316\",\"type\":\"ColorBar\"}],\"plot_height\":400,\"plot_width\":600,\"renderers\":[{\"id\":\"1306\",\"type\":\"GlyphRenderer\"},{\"id\":\"1312\",\"type\":\"GlyphRenderer\"}],\"title\":null,\"toolbar\":{\"id\":\"1290\",\"type\":\"Toolbar\"},\"toolbar_location\":null,\"x_range\":{\"id\":\"1266\",\"type\":\"DataRange1d\"},\"x_scale\":{\"id\":\"1270\",\"type\":\"LinearScale\"},\"y_range\":{\"id\":\"1268\",\"type\":\"DataRange1d\"},\"y_scale\":{\"id\":\"1272\",\"type\":\"LinearScale\"}},\"id\":\"1264\",\"subtype\":\"Figure\",\"type\":\"Plot\"},{\"attributes\":{\"axis_label\":\"# heterozygotes\",\"formatter\":{\"id\":\"1480\",\"type\":\"BasicTickFormatter\"},\"ticker\":{\"id\":\"1280\",\"type\":\"BasicTicker\"}},\"id\":\"1279\",\"type\":\"LinearAxis\"},{\"attributes\":{},\"id\":\"1280\",\"type\":\"BasicTicker\"},{\"attributes\":{},\"id\":\"1272\",\"type\":\"LinearScale\"},{\"attributes\":{\"click_policy\":\"hide\",\"items\":[{\"id\":\"1313\",\"type\":\"LegendItem\"},{\"id\":\"1314\",\"type\":\"LegendItem\"}]},\"id\":\"1315\",\"type\":\"Legend\"},{\"attributes\":{},\"id\":\"1288\",\"type\":\"ResetTool\"},{\"attributes\":{\"axis_label\":\"DP mean\",\"formatter\":{\"id\":\"1489\",\"type\":\"BasicTickFormatter\"},\"ticker\":{\"id\":\"1328\",\"type\":\"BasicTicker\"}},\"id\":\"1327\",\"type\":\"LinearAxis\"},{\"attributes\":{},\"id\":\"1328\",\"type\":\"BasicTicker\"},{\"attributes\":{\"dimension\":1,\"ticker\":{\"id\":\"1280\",\"type\":\"BasicTicker\"}},\"id\":\"1283\",\"type\":\"Grid\"},{\"attributes\":{\"axis_label\":\"DP mean\",\"formatter\":{\"id\":\"1478\",\"type\":\"BasicTickFormatter\"},\"ticker\":{\"id\":\"1275\",\"type\":\"BasicTicker\"}},\"id\":\"1274\",\"type\":\"LinearAxis\"},{\"attributes\":{\"fill_alpha\":{\"value\":0.1},\"fill_color\":{\"value\":\"#1f77b4\"},\"line_alpha\":{\"value\":0.1},\"line_color\":{\"value\":\"#1f77b4\"},\"x\":{\"field\":\"x\"},\"y\":{\"field\":\"y\"}},\"id\":\"1417\",\"type\":\"Circle\"},{\"attributes\":{\"fill_alpha\":{\"value\":0.1},\"fill_color\":{\"value\":\"#1f77b4\"},\"line_alpha\":{\"value\":0.1},\"line_color\":{\"value\":\"#1f77b4\"},\"x\":{\"field\":\"x\"},\"y\":{\"field\":\"y\"}},\"id\":\"1311\",\"type\":\"Circle\"}],\"root_ids\":[\"1523\"]},\"title\":\"Bokeh Application\",\"version\":\"1.2.0\"}};\n",
       "  var render_items = [{\"docid\":\"b5396357-c0ad-468b-829b-b3510dbaffa0\",\"roots\":{\"1523\":\"f11dd221-cd9b-45e8-9a14-eed9f02f8566\"}}];\n",
       "  root.Bokeh.embed.embed_items_notebook(docs_json, render_items);\n",
       "\n",
       "  }\n",
       "  if (root.Bokeh !== undefined) {\n",
       "    embed_document(root);\n",
       "  } else {\n",
       "    var attempts = 0;\n",
       "    var timer = setInterval(function(root) {\n",
       "      if (root.Bokeh !== undefined) {\n",
       "        embed_document(root);\n",
       "        clearInterval(timer);\n",
       "      }\n",
       "      attempts++;\n",
       "      if (attempts > 100) {\n",
       "        console.log(\"Bokeh: ERROR: Unable to run BokehJS code because BokehJS library is missing\");\n",
       "        clearInterval(timer);\n",
       "      }\n",
       "    }, 10, root)\n",
       "  }\n",
       "})(window);"
      ],
      "application/vnd.bokehjs_exec.v0+json": ""
     },
     "metadata": {
      "application/vnd.bokehjs_exec.v0+json": {
       "id": "1523"
      }
     },
     "output_type": "display_data"
    }
   ],
   "source": [
    "show(gridplot(plot_list, ncols=2, plot_width=600, plot_height=400))"
   ]
  },
  {
   "cell_type": "markdown",
   "metadata": {},
   "source": [
    "## Remove potential ancestry outliers from full dataset\n",
    "\n",
    "In further analysis of the dataset, we do not want to include these four potential ancestry outliers (PAO). We will therefore load the full dataset, discard the PAOs, and write the data again."
   ]
  },
  {
   "cell_type": "code",
   "execution_count": 32,
   "metadata": {},
   "outputs": [
    {
     "name": "stdout",
     "output_type": "stream",
     "text": [
      "Number of potential ancestry outliers: 4\n"
     ]
    }
   ],
   "source": [
    "# Potential ancestry outliers.\n",
    "pao_list = mt.filter_cols(mt.pc_outliers).s.collect()\n",
    "\n",
    "print('Number of potential ancestry outliers: {n}'.format(n=len(pao_list)))"
   ]
  },
  {
   "cell_type": "code",
   "execution_count": 33,
   "metadata": {},
   "outputs": [],
   "source": [
    "# Read original matrix table.\n",
    "full_mt = hl.read_matrix_table(BASE_DIR + '/data/mt/high_quality_variants.mt')\n",
    "\n",
    "# Annotate with the list of potential ancestry outliers.\n",
    "full_mt = full_mt.annotate_globals(pao_list = pao_list)\n",
    "\n",
    "# Remove the potential ancestry outliers.\n",
    "pao_removed_mt = full_mt.filter_cols(~full_mt.pao_list.contains(full_mt.s))"
   ]
  },
  {
   "cell_type": "code",
   "execution_count": 34,
   "metadata": {},
   "outputs": [
    {
     "name": "stdout",
     "output_type": "stream",
     "text": [
      "Number of variants: 148305\n",
      "Number of samples: 465\n"
     ]
    }
   ],
   "source": [
    "n_variants, n_samples = pao_removed_mt.count()\n",
    "print('Number of variants: ' + str(n_variants))\n",
    "print('Number of samples: ' + str(n_samples))"
   ]
  },
  {
   "cell_type": "markdown",
   "metadata": {},
   "source": [
    "Update variant QC information, as this has changed when we have removed some samples. Also remove invariant sites."
   ]
  },
  {
   "cell_type": "code",
   "execution_count": 35,
   "metadata": {},
   "outputs": [],
   "source": [
    "pao_removed_mt = hl.variant_qc(pao_removed_mt)\n",
    "\n",
    "pao_removed_mt = pao_removed_mt.filter_rows(pao_removed_mt.variant_qc.AC[1] > 0)"
   ]
  },
  {
   "cell_type": "code",
   "execution_count": 36,
   "metadata": {},
   "outputs": [
    {
     "name": "stderr",
     "output_type": "stream",
     "text": [
      "[Stage 740:=====================================>                (26 + 11) / 37]"
     ]
    },
    {
     "name": "stdout",
     "output_type": "stream",
     "text": [
      "Number of variants: 148267\n",
      "Number of samples: 465\n"
     ]
    }
   ],
   "source": [
    "n_variants, n_samples = pao_removed_mt.count()\n",
    "print('Number of variants: ' + str(n_variants))\n",
    "print('Number of samples: ' + str(n_samples))"
   ]
  },
  {
   "cell_type": "markdown",
   "metadata": {},
   "source": [
    "Write the resulting matrix table to file."
   ]
  },
  {
   "cell_type": "code",
   "execution_count": 37,
   "metadata": {},
   "outputs": [
    {
     "name": "stderr",
     "output_type": "stream",
     "text": [
      "[Stage 741:===============================================>       (32 + 5) / 37]2021-10-27 13:10:15 Hail: INFO: wrote matrix table with 148267 rows and 465 columns in 37 partitions to /home/olavur/experiments/2020-11-13_fargen1_exome_analysis/data/mt/high_quality_variants_pao_removed.mt\n",
      "    Total size: 808.14 MiB\n",
      "    * Rows/entries: 808.09 MiB\n",
      "    * Columns: 49.46 KiB\n",
      "    * Globals: 39.00 B\n",
      "    * Smallest partition: 1506 rows (6.70 MiB)\n",
      "    * Largest partition:  4487 rows (25.24 MiB)\n"
     ]
    }
   ],
   "source": [
    "if True:\n",
    "    pao_removed_mt.write(BASE_DIR + '/data/mt/high_quality_variants_pao_removed.mt', overwrite=True)"
   ]
  },
  {
   "cell_type": "markdown",
   "metadata": {},
   "source": [
    "## PCA without outliers\n",
    "\n",
    "These PCA outerliers prevent us from detecting population structure in the PCA above. Whether they are ancestry outliers or whether something else is at play, we must remove them to be able to detect population structure."
   ]
  },
  {
   "cell_type": "code",
   "execution_count": 38,
   "metadata": {},
   "outputs": [],
   "source": [
    "mt = mt.filter_cols(~mt.pc_outliers)"
   ]
  },
  {
   "cell_type": "markdown",
   "metadata": {},
   "source": [
    "Compute PCA again.\n",
    "\n",
    "Note that we keep all the components, so that we can calculate percent variance explained."
   ]
  },
  {
   "cell_type": "code",
   "execution_count": 53,
   "metadata": {},
   "outputs": [
    {
     "name": "stderr",
     "output_type": "stream",
     "text": [
      "2021-10-27 13:17:56 Hail: INFO: hwe_normalized_pca: running PCA using 47253 variants.\n",
      "2021-10-27 13:17:57 Hail: INFO: pca: running PCA with 378 components...\n"
     ]
    }
   ],
   "source": [
    "eigenvalues, scores, loadings = hl.hwe_normalized_pca(mt.GT, k=mt.count_cols())"
   ]
  },
  {
   "cell_type": "markdown",
   "metadata": {},
   "source": [
    "Calculate the proportion of variance explained by each component."
   ]
  },
  {
   "cell_type": "code",
   "execution_count": 65,
   "metadata": {},
   "outputs": [],
   "source": [
    "prop_var = np.array(eigenvalues) / sum(eigenvalues)"
   ]
  },
  {
   "cell_type": "markdown",
   "metadata": {},
   "source": [
    "Annotate the matrix table with the PCA scores."
   ]
  },
  {
   "cell_type": "code",
   "execution_count": 40,
   "metadata": {},
   "outputs": [],
   "source": [
    "mt = mt.annotate_cols(scores = scores[mt.s].scores)"
   ]
  },
  {
   "cell_type": "code",
   "execution_count": 75,
   "metadata": {},
   "outputs": [
    {
     "data": {
      "text/html": [
       "\n",
       "\n",
       "\n",
       "\n",
       "\n",
       "\n",
       "  <div class=\"bk-root\" id=\"5193a20c-3852-4c94-9e80-5e1a58448001\" data-root-id=\"3007\"></div>\n"
      ]
     },
     "metadata": {},
     "output_type": "display_data"
    },
    {
     "data": {
      "application/javascript": [
       "(function(root) {\n",
       "  function embed_document(root) {\n",
       "    \n",
       "  var docs_json = {\"2cb62280-5b4b-4a6e-88fb-572238cbccc3\":{\"roots\":{\"references\":[{\"attributes\":{\"below\":[{\"id\":\"3018\",\"type\":\"LinearAxis\"}],\"center\":[{\"id\":\"3022\",\"type\":\"Grid\"},{\"id\":\"3027\",\"type\":\"Grid\"}],\"left\":[{\"id\":\"3023\",\"type\":\"LinearAxis\"},{\"id\":\"3094\",\"type\":\"Legend\"},{\"id\":\"3095\",\"type\":\"ColorBar\"}],\"plot_height\":600,\"plot_width\":800,\"renderers\":[{\"id\":\"3050\",\"type\":\"GlyphRenderer\"},{\"id\":\"3056\",\"type\":\"GlyphRenderer\"},{\"id\":\"3062\",\"type\":\"GlyphRenderer\"},{\"id\":\"3068\",\"type\":\"GlyphRenderer\"},{\"id\":\"3074\",\"type\":\"GlyphRenderer\"},{\"id\":\"3080\",\"type\":\"GlyphRenderer\"},{\"id\":\"3086\",\"type\":\"GlyphRenderer\"}],\"title\":{\"id\":\"3008\",\"type\":\"Title\"},\"toolbar\":{\"id\":\"3034\",\"type\":\"Toolbar\"},\"x_range\":{\"id\":\"3010\",\"type\":\"DataRange1d\"},\"x_scale\":{\"id\":\"3014\",\"type\":\"LinearScale\"},\"y_range\":{\"id\":\"3012\",\"type\":\"DataRange1d\"},\"y_scale\":{\"id\":\"3016\",\"type\":\"LinearScale\"}},\"id\":\"3007\",\"subtype\":\"Figure\",\"type\":\"Plot\"},{\"attributes\":{\"fill_alpha\":{\"value\":0.1},\"fill_color\":{\"value\":\"#1f77b4\"},\"line_alpha\":{\"value\":0.1},\"line_color\":{\"value\":\"#1f77b4\"},\"x\":{\"field\":\"x\"},\"y\":{\"field\":\"y\"}},\"id\":\"3049\",\"type\":\"Circle\"},{\"attributes\":{},\"id\":\"3024\",\"type\":\"BasicTicker\"},{\"attributes\":{\"callback\":null,\"data\":{\"index\":[0,1,2,3,4,5,6,7,8,9,10,11,12,13,14,15,16,17,18,19,20,21,22,23,24,25,26,27,28,29,30,31,32,33,34,35,36,37,38,39,40,41,42,43,44,45,46,47,48,49,50,51,52,53,54,55,56,57,58,59,60,61,62,63,64,65,66,67,68,69,70,71,72,73,74,75,76,77,78,79,80,81,82,83,84,85,86,87,88,89,90,91,92,93,94,95,96,97,98,99,100,101,102,103,104,105,106,107,108,109,110,111,112,113,114,115,116,117,118,119,120,121,122,123,124,125,126,127,128,129,130,131,132,133,134,135,136,137,138,139,140,141,142,143,144,145,146,147,148,149,150,151,152,153,154,155,156,157,158,159,160,161,162,163,164,165,166,167,168,169,170,171,172,173,174,175,176,177,178,179,180,181,182,183,184,185,186,187,188,189,190,191,192,193,194,195,196,197,198,199,200,201,202,203,204,205,206,207,208,209,210,211,212,213,214,215,216,217,218,219,220,221,222,223,224,225,226,227,228,229,230,231,232,233,234,235,236,237,238,239,240,241,242,243,244,245,246,247,248,249,250,251,252,253,254,255,256,257,258,259,260,261,262,263,264,265,266,267,268,269,270,271,272,273,274,275,276,277,278,279,280,281,282,283,284,285,286,287,288,289,290,291,292,293,294,295,296,297,298,299,300,301,302,303,304,305,306,307,308,309,310,311,312,313,314,315,316,317,318,319,320,321,322,323,324,325,326,327,328,329,330,331,332,333,334,335,336,337,338,339,340,341,342,343,344,345,346,347,348,349,350,351,352,353,354,355,356,357,358,359,360,361,362,363,364,365,366,367,368,369,370,371,372,373,374,375,376,377],\"label\":[\"SUD\",\"STR\",\"SUD\",\"STR\",\"NA\",\"STR\",\"SUD\",\"SUD\",\"SUD\",\"SUD\",\"SUD\",\"SAN\",\"SAN\",\"STR\",\"STR\",\"SUD\",\"SUD\",\"STR\",\"SUD\",\"STR\",\"SUD\",\"SUD\",\"SUD\",\"NA\",\"NA\",\"STR\",\"NA\",\"STR\",\"SUD\",\"STR\",\"EYN\",\"EYN\",\"SAN\",\"SUD\",\"STR\",\"STR\",\"STR\",\"STR\",\"SAN\",\"STR\",\"STR\",\"SAN\",\"EYN\",\"SUD\",\"STR\",\"SAN\",\"EYN\",\"SAN\",\"STR\",\"STR\",\"STR\",\"STR\",\"STR\",\"SAN\",\"STR\",\"SUD\",\"SUD\",\"NOR\",\"STR\",\"EYN\",\"SUD\",\"STR\",\"STR\",\"VAG\",\"STR\",\"SUD\",\"SAN\",\"VAG\",\"STR\",\"STR\",\"STR\",\"NOR\",\"STR\",\"STR\",\"STR\",\"STR\",\"SUD\",\"STR\",\"VAG\",\"STR\",\"STR\",\"SUD\",\"STR\",\"NA\",\"SUD\",\"STR\",\"STR\",\"STR\",\"STR\",\"SAN\",\"STR\",\"STR\",\"EYN\",\"STR\",\"SAN\",\"STR\",\"STR\",\"STR\",\"VAG\",\"NA\",\"SAN\",\"STR\",\"NOR\",\"NOR\",\"SUD\",\"VAG\",\"STR\",\"SUD\",\"SUD\",\"STR\",\"STR\",\"STR\",\"STR\",\"VAG\",\"NOR\",\"NA\",\"STR\",\"SUD\",\"STR\",\"SUD\",\"NOR\",\"EYN\",\"STR\",\"STR\",\"NA\",\"STR\",\"NA\",\"STR\",\"STR\",\"STR\",\"STR\",\"STR\",\"NOR\",\"STR\",\"EYN\",\"STR\",\"NA\",\"VAG\",\"STR\",\"STR\",\"SUD\",\"EYN\",\"VAG\",\"STR\",\"VAG\",\"NOR\",\"NA\",\"STR\",\"NOR\",\"STR\",\"STR\",\"SUD\",\"EYN\",\"EYN\",\"STR\",\"STR\",\"STR\",\"STR\",\"STR\",\"EYN\",\"STR\",\"VAG\",\"NA\",\"STR\",\"NA\",\"SAN\",\"EYN\",\"EYN\",\"STR\",\"VAG\",\"NOR\",\"NOR\",\"STR\",\"NA\",\"EYN\",\"VAG\",\"NOR\",\"STR\",\"STR\",\"EYN\",\"VAG\",\"STR\",\"STR\",\"STR\",\"NA\",\"STR\",\"EYN\",\"STR\",\"STR\",\"VAG\",\"STR\",\"EYN\",\"STR\",\"STR\",\"STR\",\"EYN\",\"STR\",\"EYN\",\"NA\",\"STR\",\"NA\",\"NA\",\"NA\",\"EYN\",\"STR\",\"NOR\",\"STR\",\"STR\",\"STR\",\"EYN\",\"VAG\",\"STR\",\"STR\",\"STR\",\"EYN\",\"STR\",\"STR\",\"NOR\",\"EYN\",\"STR\",\"STR\",\"VAG\",\"NA\",\"STR\",\"STR\",\"SUD\",\"STR\",\"VAG\",\"VAG\",\"STR\",\"EYN\",\"STR\",\"NA\",\"VAG\",\"STR\",\"VAG\",\"EYN\",\"STR\",\"EYN\",\"STR\",\"STR\",\"EYN\",\"EYN\",\"STR\",\"NOR\",\"VAG\",\"EYN\",\"EYN\",\"NOR\",\"NA\",\"SUD\",\"EYN\",\"VAG\",\"STR\",\"NA\",\"NOR\",\"EYN\",\"NOR\",\"STR\",\"NOR\",\"STR\",\"EYN\",\"EYN\",\"EYN\",\"NOR\",\"NOR\",\"STR\",\"EYN\",\"STR\",\"STR\",\"EYN\",\"NA\",\"NOR\",\"EYN\",\"EYN\",\"NOR\",\"EYN\",\"STR\",\"NA\",\"NOR\",\"NOR\",\"STR\",\"EYN\",\"EYN\",\"STR\",\"STR\",\"EYN\",\"STR\",\"EYN\",\"STR\",\"EYN\",\"EYN\",\"NOR\",\"EYN\",\"STR\",\"STR\",\"NA\",\"NOR\",\"EYN\",\"EYN\",\"STR\",\"NOR\",\"EYN\",\"STR\",\"STR\",\"NOR\",\"EYN\",\"EYN\",\"STR\",\"STR\",\"NOR\",\"NOR\",\"EYN\",\"EYN\",\"EYN\",\"STR\",\"STR\",\"NA\",\"STR\",\"EYN\",\"STR\",\"EYN\",\"STR\",\"STR\",\"NOR\",\"EYN\",\"NOR\",\"NA\",\"EYN\",\"STR\",\"STR\",\"STR\",\"STR\",\"NOR\",\"STR\",\"NOR\",\"EYN\",\"EYN\",\"EYN\",\"NA\",\"EYN\",\"EYN\",\"NOR\",\"NOR\",\"EYN\",\"EYN\",\"NOR\",\"NOR\",\"EYN\",\"NOR\",\"EYN\",\"STR\",\"EYN\",\"NOR\",\"NOR\",\"NOR\",\"EYN\",\"EYN\",\"NOR\",\"EYN\",\"EYN\",\"VAG\",\"EYN\",\"NOR\",\"EYN\",\"NOR\",\"NOR\",\"NOR\",\"NOR\",\"STR\",\"NOR\",\"EYN\",\"STR\",\"NOR\",\"STR\",\"NOR\",\"NOR\",\"NOR\"],\"x\":{\"__ndarray__\":\"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\",\"dtype\":\"float64\",\"shape\":[378]},\"y\":{\"__ndarray__\":\"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\",\"dtype\":\"float64\",\"shape\":[378]}},\"selected\":{\"id\":\"3212\",\"type\":\"Selection\"},\"selection_policy\":{\"id\":\"3213\",\"type\":\"UnionRenderers\"}},\"id\":\"3043\",\"type\":\"ColumnDataSource\"},{\"attributes\":{\"fill_color\":{\"field\":\"label\",\"transform\":{\"id\":\"3044\",\"type\":\"CategoricalColorMapper\"}},\"line_color\":{\"field\":\"label\",\"transform\":{\"id\":\"3044\",\"type\":\"CategoricalColorMapper\"}},\"x\":{\"field\":\"x\"},\"y\":{\"field\":\"y\"}},\"id\":\"3078\",\"type\":\"Circle\"},{\"attributes\":{},\"id\":\"3206\",\"type\":\"BasicTickFormatter\"},{\"attributes\":{\"fill_color\":{\"field\":\"label\",\"transform\":{\"id\":\"3044\",\"type\":\"CategoricalColorMapper\"}},\"line_color\":{\"field\":\"label\",\"transform\":{\"id\":\"3044\",\"type\":\"CategoricalColorMapper\"}},\"x\":{\"field\":\"x\"},\"y\":{\"field\":\"y\"}},\"id\":\"3084\",\"type\":\"Circle\"},{\"attributes\":{\"label\":{\"value\":\"STR\"},\"renderers\":[{\"id\":\"3074\",\"type\":\"GlyphRenderer\"}]},\"id\":\"3091\",\"type\":\"LegendItem\"},{\"attributes\":{},\"id\":\"3209\",\"type\":\"BasicTicker\"},{\"attributes\":{\"dimension\":1,\"ticker\":{\"id\":\"3024\",\"type\":\"BasicTicker\"}},\"id\":\"3027\",\"type\":\"Grid\"},{\"attributes\":{\"fill_color\":{\"field\":\"label\",\"transform\":{\"id\":\"3044\",\"type\":\"CategoricalColorMapper\"}},\"line_color\":{\"field\":\"label\",\"transform\":{\"id\":\"3044\",\"type\":\"CategoricalColorMapper\"}},\"x\":{\"field\":\"x\"},\"y\":{\"field\":\"y\"}},\"id\":\"3048\",\"type\":\"Circle\"},{\"attributes\":{\"fill_alpha\":{\"value\":0.1},\"fill_color\":{\"value\":\"#1f77b4\"},\"line_alpha\":{\"value\":0.1},\"line_color\":{\"value\":\"#1f77b4\"},\"x\":{\"field\":\"x\"},\"y\":{\"field\":\"y\"}},\"id\":\"3073\",\"type\":\"Circle\"},{\"attributes\":{\"data_source\":{\"id\":\"3043\",\"type\":\"ColumnDataSource\"},\"glyph\":{\"id\":\"3072\",\"type\":\"Circle\"},\"hover_glyph\":null,\"muted_glyph\":null,\"nonselection_glyph\":{\"id\":\"3073\",\"type\":\"Circle\"},\"selection_glyph\":null,\"view\":{\"id\":\"3070\",\"type\":\"CDSView\"}},\"id\":\"3074\",\"type\":\"GlyphRenderer\"},{\"attributes\":{\"filters\":[{\"id\":\"3075\",\"type\":\"GroupFilter\"}],\"source\":{\"id\":\"3043\",\"type\":\"ColumnDataSource\"}},\"id\":\"3076\",\"type\":\"CDSView\"},{\"attributes\":{\"label\":{\"value\":\"NOR\"},\"renderers\":[{\"id\":\"3062\",\"type\":\"GlyphRenderer\"}]},\"id\":\"3089\",\"type\":\"LegendItem\"},{\"attributes\":{\"label\":{\"value\":\"SAN\"},\"renderers\":[{\"id\":\"3068\",\"type\":\"GlyphRenderer\"}]},\"id\":\"3090\",\"type\":\"LegendItem\"},{\"attributes\":{\"label\":{\"value\":\"EYN\"},\"renderers\":[{\"id\":\"3050\",\"type\":\"GlyphRenderer\"}]},\"id\":\"3087\",\"type\":\"LegendItem\"},{\"attributes\":{\"label\":{\"value\":\"VAG\"},\"renderers\":[{\"id\":\"3086\",\"type\":\"GlyphRenderer\"}]},\"id\":\"3093\",\"type\":\"LegendItem\"},{\"attributes\":{\"callback\":null},\"id\":\"3012\",\"type\":\"DataRange1d\"},{\"attributes\":{\"click_policy\":\"hide\",\"items\":[{\"id\":\"3087\",\"type\":\"LegendItem\"},{\"id\":\"3088\",\"type\":\"LegendItem\"},{\"id\":\"3089\",\"type\":\"LegendItem\"},{\"id\":\"3090\",\"type\":\"LegendItem\"},{\"id\":\"3091\",\"type\":\"LegendItem\"},{\"id\":\"3092\",\"type\":\"LegendItem\"},{\"id\":\"3093\",\"type\":\"LegendItem\"}]},\"id\":\"3094\",\"type\":\"Legend\"},{\"attributes\":{\"column_name\":\"label\",\"group\":\"SUD\"},\"id\":\"3075\",\"type\":\"GroupFilter\"},{\"attributes\":{},\"id\":\"3016\",\"type\":\"LinearScale\"},{\"attributes\":{\"axis_label\":\"PC1 (0.49%)\",\"formatter\":{\"id\":\"3206\",\"type\":\"BasicTickFormatter\"},\"ticker\":{\"id\":\"3019\",\"type\":\"BasicTicker\"}},\"id\":\"3018\",\"type\":\"LinearAxis\"},{\"attributes\":{\"filters\":[{\"id\":\"3051\",\"type\":\"GroupFilter\"}],\"source\":{\"id\":\"3043\",\"type\":\"ColumnDataSource\"}},\"id\":\"3052\",\"type\":\"CDSView\"},{\"attributes\":{\"color_mapper\":null,\"formatter\":{\"id\":\"3210\",\"type\":\"BasicTickFormatter\"},\"ticker\":{\"id\":\"3209\",\"type\":\"BasicTicker\"},\"visible\":false},\"id\":\"3095\",\"type\":\"ColorBar\"},{\"attributes\":{\"column_name\":\"label\",\"group\":\"NOR\"},\"id\":\"3057\",\"type\":\"GroupFilter\"},{\"attributes\":{\"fill_alpha\":{\"value\":0.1},\"fill_color\":{\"value\":\"#1f77b4\"},\"line_alpha\":{\"value\":0.1},\"line_color\":{\"value\":\"#1f77b4\"},\"x\":{\"field\":\"x\"},\"y\":{\"field\":\"y\"}},\"id\":\"3079\",\"type\":\"Circle\"},{\"attributes\":{\"ticker\":{\"id\":\"3019\",\"type\":\"BasicTicker\"}},\"id\":\"3022\",\"type\":\"Grid\"},{\"attributes\":{\"data_source\":{\"id\":\"3043\",\"type\":\"ColumnDataSource\"},\"glyph\":{\"id\":\"3048\",\"type\":\"Circle\"},\"hover_glyph\":null,\"muted_glyph\":null,\"nonselection_glyph\":{\"id\":\"3049\",\"type\":\"Circle\"},\"selection_glyph\":null,\"view\":{\"id\":\"3046\",\"type\":\"CDSView\"}},\"id\":\"3050\",\"type\":\"GlyphRenderer\"},{\"attributes\":{\"text\":\"PCA\"},\"id\":\"3008\",\"type\":\"Title\"},{\"attributes\":{},\"id\":\"3031\",\"type\":\"SaveTool\"},{\"attributes\":{\"column_name\":\"label\",\"group\":\"STR\"},\"id\":\"3069\",\"type\":\"GroupFilter\"},{\"attributes\":{\"active_drag\":\"auto\",\"active_inspect\":\"auto\",\"active_multi\":null,\"active_scroll\":\"auto\",\"active_tap\":\"auto\",\"tools\":[{\"id\":\"3028\",\"type\":\"PanTool\"},{\"id\":\"3029\",\"type\":\"WheelZoomTool\"},{\"id\":\"3030\",\"type\":\"BoxZoomTool\"},{\"id\":\"3031\",\"type\":\"SaveTool\"},{\"id\":\"3032\",\"type\":\"ResetTool\"},{\"id\":\"3033\",\"type\":\"HelpTool\"},{\"id\":\"3042\",\"type\":\"HoverTool\"}]},\"id\":\"3034\",\"type\":\"Toolbar\"},{\"attributes\":{},\"id\":\"3213\",\"type\":\"UnionRenderers\"},{\"attributes\":{\"column_name\":\"label\",\"group\":\"NA\"},\"id\":\"3051\",\"type\":\"GroupFilter\"},{\"attributes\":{\"fill_color\":{\"field\":\"label\",\"transform\":{\"id\":\"3044\",\"type\":\"CategoricalColorMapper\"}},\"line_color\":{\"field\":\"label\",\"transform\":{\"id\":\"3044\",\"type\":\"CategoricalColorMapper\"}},\"x\":{\"field\":\"x\"},\"y\":{\"field\":\"y\"}},\"id\":\"3060\",\"type\":\"Circle\"},{\"attributes\":{\"filters\":[{\"id\":\"3063\",\"type\":\"GroupFilter\"}],\"source\":{\"id\":\"3043\",\"type\":\"ColumnDataSource\"}},\"id\":\"3064\",\"type\":\"CDSView\"},{\"attributes\":{\"factors\":[\"SUD\",\"STR\",\"EYN\",\"VAG\",\"NA\",\"SAN\",\"NOR\"],\"palette\":[\"#1f77b4\",\"#ff7f0e\",\"#2ca02c\",\"#d62728\",\"#9467bd\",\"#8c564b\",\"#e377c2\",\"#7f7f7f\",\"#bcbd22\",\"#17becf\"]},\"id\":\"3044\",\"type\":\"CategoricalColorMapper\"},{\"attributes\":{},\"id\":\"3014\",\"type\":\"LinearScale\"},{\"attributes\":{\"overlay\":{\"id\":\"3211\",\"type\":\"BoxAnnotation\"}},\"id\":\"3030\",\"type\":\"BoxZoomTool\"},{\"attributes\":{\"fill_alpha\":{\"value\":0.1},\"fill_color\":{\"value\":\"#1f77b4\"},\"line_alpha\":{\"value\":0.1},\"line_color\":{\"value\":\"#1f77b4\"},\"x\":{\"field\":\"x\"},\"y\":{\"field\":\"y\"}},\"id\":\"3061\",\"type\":\"Circle\"},{\"attributes\":{\"data_source\":{\"id\":\"3043\",\"type\":\"ColumnDataSource\"},\"glyph\":{\"id\":\"3060\",\"type\":\"Circle\"},\"hover_glyph\":null,\"muted_glyph\":null,\"nonselection_glyph\":{\"id\":\"3061\",\"type\":\"Circle\"},\"selection_glyph\":null,\"view\":{\"id\":\"3058\",\"type\":\"CDSView\"}},\"id\":\"3062\",\"type\":\"GlyphRenderer\"},{\"attributes\":{\"data_source\":{\"id\":\"3043\",\"type\":\"ColumnDataSource\"},\"glyph\":{\"id\":\"3078\",\"type\":\"Circle\"},\"hover_glyph\":null,\"muted_glyph\":null,\"nonselection_glyph\":{\"id\":\"3079\",\"type\":\"Circle\"},\"selection_glyph\":null,\"view\":{\"id\":\"3076\",\"type\":\"CDSView\"}},\"id\":\"3080\",\"type\":\"GlyphRenderer\"},{\"attributes\":{\"fill_color\":{\"field\":\"label\",\"transform\":{\"id\":\"3044\",\"type\":\"CategoricalColorMapper\"}},\"line_color\":{\"field\":\"label\",\"transform\":{\"id\":\"3044\",\"type\":\"CategoricalColorMapper\"}},\"x\":{\"field\":\"x\"},\"y\":{\"field\":\"y\"}},\"id\":\"3072\",\"type\":\"Circle\"},{\"attributes\":{\"fill_color\":{\"field\":\"label\",\"transform\":{\"id\":\"3044\",\"type\":\"CategoricalColorMapper\"}},\"line_color\":{\"field\":\"label\",\"transform\":{\"id\":\"3044\",\"type\":\"CategoricalColorMapper\"}},\"x\":{\"field\":\"x\"},\"y\":{\"field\":\"y\"}},\"id\":\"3054\",\"type\":\"Circle\"},{\"attributes\":{},\"id\":\"3028\",\"type\":\"PanTool\"},{\"attributes\":{\"bottom_units\":\"screen\",\"fill_alpha\":{\"value\":0.5},\"fill_color\":{\"value\":\"lightgrey\"},\"left_units\":\"screen\",\"level\":\"overlay\",\"line_alpha\":{\"value\":1.0},\"line_color\":{\"value\":\"black\"},\"line_dash\":[4,4],\"line_width\":{\"value\":2},\"render_mode\":\"css\",\"right_units\":\"screen\",\"top_units\":\"screen\"},\"id\":\"3211\",\"type\":\"BoxAnnotation\"},{\"attributes\":{\"column_name\":\"label\",\"group\":\"VAG\"},\"id\":\"3081\",\"type\":\"GroupFilter\"},{\"attributes\":{},\"id\":\"3029\",\"type\":\"WheelZoomTool\"},{\"attributes\":{\"data_source\":{\"id\":\"3043\",\"type\":\"ColumnDataSource\"},\"glyph\":{\"id\":\"3084\",\"type\":\"Circle\"},\"hover_glyph\":null,\"muted_glyph\":null,\"nonselection_glyph\":{\"id\":\"3085\",\"type\":\"Circle\"},\"selection_glyph\":null,\"view\":{\"id\":\"3082\",\"type\":\"CDSView\"}},\"id\":\"3086\",\"type\":\"GlyphRenderer\"},{\"attributes\":{\"fill_alpha\":{\"value\":0.1},\"fill_color\":{\"value\":\"#1f77b4\"},\"line_alpha\":{\"value\":0.1},\"line_color\":{\"value\":\"#1f77b4\"},\"x\":{\"field\":\"x\"},\"y\":{\"field\":\"y\"}},\"id\":\"3055\",\"type\":\"Circle\"},{\"attributes\":{\"fill_color\":{\"field\":\"label\",\"transform\":{\"id\":\"3044\",\"type\":\"CategoricalColorMapper\"}},\"line_color\":{\"field\":\"label\",\"transform\":{\"id\":\"3044\",\"type\":\"CategoricalColorMapper\"}},\"x\":{\"field\":\"x\"},\"y\":{\"field\":\"y\"}},\"id\":\"3066\",\"type\":\"Circle\"},{\"attributes\":{\"axis_label\":\"PC2 (0.49%)\",\"formatter\":{\"id\":\"3208\",\"type\":\"BasicTickFormatter\"},\"ticker\":{\"id\":\"3024\",\"type\":\"BasicTicker\"}},\"id\":\"3023\",\"type\":\"LinearAxis\"},{\"attributes\":{},\"id\":\"3032\",\"type\":\"ResetTool\"},{\"attributes\":{\"filters\":[{\"id\":\"3057\",\"type\":\"GroupFilter\"}],\"source\":{\"id\":\"3043\",\"type\":\"ColumnDataSource\"}},\"id\":\"3058\",\"type\":\"CDSView\"},{\"attributes\":{\"callback\":null},\"id\":\"3010\",\"type\":\"DataRange1d\"},{\"attributes\":{},\"id\":\"3019\",\"type\":\"BasicTicker\"},{\"attributes\":{\"callback\":null,\"tooltips\":[[\"x\",\"@x\"],[\"y\",\"@y\"],[\"label\",\"@label\"]]},\"id\":\"3042\",\"type\":\"HoverTool\"},{\"attributes\":{},\"id\":\"3033\",\"type\":\"HelpTool\"},{\"attributes\":{\"filters\":[{\"id\":\"3069\",\"type\":\"GroupFilter\"}],\"source\":{\"id\":\"3043\",\"type\":\"ColumnDataSource\"}},\"id\":\"3070\",\"type\":\"CDSView\"},{\"attributes\":{},\"id\":\"3212\",\"type\":\"Selection\"},{\"attributes\":{\"column_name\":\"label\",\"group\":\"SAN\"},\"id\":\"3063\",\"type\":\"GroupFilter\"},{\"attributes\":{\"data_source\":{\"id\":\"3043\",\"type\":\"ColumnDataSource\"},\"glyph\":{\"id\":\"3054\",\"type\":\"Circle\"},\"hover_glyph\":null,\"muted_glyph\":null,\"nonselection_glyph\":{\"id\":\"3055\",\"type\":\"Circle\"},\"selection_glyph\":null,\"view\":{\"id\":\"3052\",\"type\":\"CDSView\"}},\"id\":\"3056\",\"type\":\"GlyphRenderer\"},{\"attributes\":{\"fill_alpha\":{\"value\":0.1},\"fill_color\":{\"value\":\"#1f77b4\"},\"line_alpha\":{\"value\":0.1},\"line_color\":{\"value\":\"#1f77b4\"},\"x\":{\"field\":\"x\"},\"y\":{\"field\":\"y\"}},\"id\":\"3067\",\"type\":\"Circle\"},{\"attributes\":{},\"id\":\"3210\",\"type\":\"BasicTickFormatter\"},{\"attributes\":{},\"id\":\"3208\",\"type\":\"BasicTickFormatter\"},{\"attributes\":{\"column_name\":\"label\",\"group\":\"EYN\"},\"id\":\"3045\",\"type\":\"GroupFilter\"},{\"attributes\":{\"data_source\":{\"id\":\"3043\",\"type\":\"ColumnDataSource\"},\"glyph\":{\"id\":\"3066\",\"type\":\"Circle\"},\"hover_glyph\":null,\"muted_glyph\":null,\"nonselection_glyph\":{\"id\":\"3067\",\"type\":\"Circle\"},\"selection_glyph\":null,\"view\":{\"id\":\"3064\",\"type\":\"CDSView\"}},\"id\":\"3068\",\"type\":\"GlyphRenderer\"},{\"attributes\":{\"filters\":[{\"id\":\"3045\",\"type\":\"GroupFilter\"}],\"source\":{\"id\":\"3043\",\"type\":\"ColumnDataSource\"}},\"id\":\"3046\",\"type\":\"CDSView\"},{\"attributes\":{\"filters\":[{\"id\":\"3081\",\"type\":\"GroupFilter\"}],\"source\":{\"id\":\"3043\",\"type\":\"ColumnDataSource\"}},\"id\":\"3082\",\"type\":\"CDSView\"},{\"attributes\":{\"fill_alpha\":{\"value\":0.1},\"fill_color\":{\"value\":\"#1f77b4\"},\"line_alpha\":{\"value\":0.1},\"line_color\":{\"value\":\"#1f77b4\"},\"x\":{\"field\":\"x\"},\"y\":{\"field\":\"y\"}},\"id\":\"3085\",\"type\":\"Circle\"},{\"attributes\":{\"label\":{\"value\":\"NA\"},\"renderers\":[{\"id\":\"3056\",\"type\":\"GlyphRenderer\"}]},\"id\":\"3088\",\"type\":\"LegendItem\"},{\"attributes\":{\"label\":{\"value\":\"SUD\"},\"renderers\":[{\"id\":\"3080\",\"type\":\"GlyphRenderer\"}]},\"id\":\"3092\",\"type\":\"LegendItem\"}],\"root_ids\":[\"3007\"]},\"title\":\"Bokeh Application\",\"version\":\"1.2.0\"}};\n",
       "  var render_items = [{\"docid\":\"2cb62280-5b4b-4a6e-88fb-572238cbccc3\",\"roots\":{\"3007\":\"5193a20c-3852-4c94-9e80-5e1a58448001\"}}];\n",
       "  root.Bokeh.embed.embed_items_notebook(docs_json, render_items);\n",
       "\n",
       "  }\n",
       "  if (root.Bokeh !== undefined) {\n",
       "    embed_document(root);\n",
       "  } else {\n",
       "    var attempts = 0;\n",
       "    var timer = setInterval(function(root) {\n",
       "      if (root.Bokeh !== undefined) {\n",
       "        embed_document(root);\n",
       "        clearInterval(timer);\n",
       "      }\n",
       "      attempts++;\n",
       "      if (attempts > 100) {\n",
       "        console.log(\"Bokeh: ERROR: Unable to run BokehJS code because BokehJS library is missing\");\n",
       "        clearInterval(timer);\n",
       "      }\n",
       "    }, 10, root)\n",
       "  }\n",
       "})(window);"
      ],
      "application/vnd.bokehjs_exec.v0+json": ""
     },
     "metadata": {
      "application/vnd.bokehjs_exec.v0+json": {
       "id": "3007"
      }
     },
     "output_type": "display_data"
    }
   ],
   "source": [
    "pc_idx1 = 0\n",
    "pc_idx2 = 1\n",
    "p = hl.plot.scatter(mt.scores[pc_idx1],\n",
    "                    mt.scores[pc_idx2],\n",
    "                    label=hl.str(mt.birthplace),\n",
    "                    title='PCA', xlabel='PC{n} ({p:.2f}%)'.format(n=pc_idx1+1, p=prop_var[pc_idx1] * 100), ylabel='PC{n} ({p:.2f}%)'.format(n=pc_idx2+1, p=prop_var[pc_idx1] * 100))\n",
    "p.plot_width = 800\n",
    "p.plot_height = 600\n",
    "show(p)"
   ]
  },
  {
   "cell_type": "code",
   "execution_count": 76,
   "metadata": {},
   "outputs": [
    {
     "data": {
      "text/html": [
       "\n",
       "\n",
       "\n",
       "\n",
       "\n",
       "\n",
       "  <div class=\"bk-root\" id=\"68527a8d-ef08-4541-a940-3fcf944f00f4\" data-root-id=\"3274\"></div>\n"
      ]
     },
     "metadata": {},
     "output_type": "display_data"
    },
    {
     "data": {
      "application/javascript": [
       "(function(root) {\n",
       "  function embed_document(root) {\n",
       "    \n",
       "  var docs_json = {\"7a7d6cae-36a6-406a-af04-5bd4d022935c\":{\"roots\":{\"references\":[{\"attributes\":{\"below\":[{\"id\":\"3285\",\"type\":\"LinearAxis\"}],\"center\":[{\"id\":\"3289\",\"type\":\"Grid\"},{\"id\":\"3294\",\"type\":\"Grid\"}],\"left\":[{\"id\":\"3290\",\"type\":\"LinearAxis\"},{\"id\":\"3361\",\"type\":\"Legend\"},{\"id\":\"3362\",\"type\":\"ColorBar\"}],\"plot_height\":600,\"plot_width\":800,\"renderers\":[{\"id\":\"3317\",\"type\":\"GlyphRenderer\"},{\"id\":\"3323\",\"type\":\"GlyphRenderer\"},{\"id\":\"3329\",\"type\":\"GlyphRenderer\"},{\"id\":\"3335\",\"type\":\"GlyphRenderer\"},{\"id\":\"3341\",\"type\":\"GlyphRenderer\"},{\"id\":\"3347\",\"type\":\"GlyphRenderer\"},{\"id\":\"3353\",\"type\":\"GlyphRenderer\"}],\"title\":{\"id\":\"3275\",\"type\":\"Title\"},\"toolbar\":{\"id\":\"3301\",\"type\":\"Toolbar\"},\"x_range\":{\"id\":\"3277\",\"type\":\"DataRange1d\"},\"x_scale\":{\"id\":\"3281\",\"type\":\"LinearScale\"},\"y_range\":{\"id\":\"3279\",\"type\":\"DataRange1d\"},\"y_scale\":{\"id\":\"3283\",\"type\":\"LinearScale\"}},\"id\":\"3274\",\"subtype\":\"Figure\",\"type\":\"Plot\"},{\"attributes\":{\"active_drag\":\"auto\",\"active_inspect\":\"auto\",\"active_multi\":null,\"active_scroll\":\"auto\",\"active_tap\":\"auto\",\"tools\":[{\"id\":\"3295\",\"type\":\"PanTool\"},{\"id\":\"3296\",\"type\":\"WheelZoomTool\"},{\"id\":\"3297\",\"type\":\"BoxZoomTool\"},{\"id\":\"3298\",\"type\":\"SaveTool\"},{\"id\":\"3299\",\"type\":\"ResetTool\"},{\"id\":\"3300\",\"type\":\"HelpTool\"},{\"id\":\"3309\",\"type\":\"HoverTool\"}]},\"id\":\"3301\",\"type\":\"Toolbar\"},{\"attributes\":{\"data_source\":{\"id\":\"3310\",\"type\":\"ColumnDataSource\"},\"glyph\":{\"id\":\"3345\",\"type\":\"Circle\"},\"hover_glyph\":null,\"muted_glyph\":null,\"nonselection_glyph\":{\"id\":\"3346\",\"type\":\"Circle\"},\"selection_glyph\":null,\"view\":{\"id\":\"3343\",\"type\":\"CDSView\"}},\"id\":\"3347\",\"type\":\"GlyphRenderer\"},{\"attributes\":{},\"id\":\"3490\",\"type\":\"UnionRenderers\"},{\"attributes\":{},\"id\":\"3298\",\"type\":\"SaveTool\"},{\"attributes\":{\"fill_color\":{\"field\":\"label\",\"transform\":{\"id\":\"3311\",\"type\":\"CategoricalColorMapper\"}},\"line_color\":{\"field\":\"label\",\"transform\":{\"id\":\"3311\",\"type\":\"CategoricalColorMapper\"}},\"x\":{\"field\":\"x\"},\"y\":{\"field\":\"y\"}},\"id\":\"3327\",\"type\":\"Circle\"},{\"attributes\":{\"data_source\":{\"id\":\"3310\",\"type\":\"ColumnDataSource\"},\"glyph\":{\"id\":\"3315\",\"type\":\"Circle\"},\"hover_glyph\":null,\"muted_glyph\":null,\"nonselection_glyph\":{\"id\":\"3316\",\"type\":\"Circle\"},\"selection_glyph\":null,\"view\":{\"id\":\"3313\",\"type\":\"CDSView\"}},\"id\":\"3317\",\"type\":\"GlyphRenderer\"},{\"attributes\":{},\"id\":\"3295\",\"type\":\"PanTool\"},{\"attributes\":{\"fill_color\":{\"field\":\"label\",\"transform\":{\"id\":\"3311\",\"type\":\"CategoricalColorMapper\"}},\"line_color\":{\"field\":\"label\",\"transform\":{\"id\":\"3311\",\"type\":\"CategoricalColorMapper\"}},\"x\":{\"field\":\"x\"},\"y\":{\"field\":\"y\"}},\"id\":\"3351\",\"type\":\"Circle\"},{\"attributes\":{},\"id\":\"3283\",\"type\":\"LinearScale\"},{\"attributes\":{\"callback\":null,\"tooltips\":[[\"x\",\"@x\"],[\"y\",\"@y\"],[\"label\",\"@label\"]]},\"id\":\"3309\",\"type\":\"HoverTool\"},{\"attributes\":{\"filters\":[{\"id\":\"3330\",\"type\":\"GroupFilter\"}],\"source\":{\"id\":\"3310\",\"type\":\"ColumnDataSource\"}},\"id\":\"3331\",\"type\":\"CDSView\"},{\"attributes\":{\"factors\":[\"SUD\",\"STR\",\"EYN\",\"VAG\",\"NA\",\"SAN\",\"NOR\"],\"palette\":[\"#1f77b4\",\"#ff7f0e\",\"#2ca02c\",\"#d62728\",\"#9467bd\",\"#8c564b\",\"#e377c2\",\"#7f7f7f\",\"#bcbd22\",\"#17becf\"]},\"id\":\"3311\",\"type\":\"CategoricalColorMapper\"},{\"attributes\":{\"overlay\":{\"id\":\"3488\",\"type\":\"BoxAnnotation\"}},\"id\":\"3297\",\"type\":\"BoxZoomTool\"},{\"attributes\":{\"fill_color\":{\"field\":\"label\",\"transform\":{\"id\":\"3311\",\"type\":\"CategoricalColorMapper\"}},\"line_color\":{\"field\":\"label\",\"transform\":{\"id\":\"3311\",\"type\":\"CategoricalColorMapper\"}},\"x\":{\"field\":\"x\"},\"y\":{\"field\":\"y\"}},\"id\":\"3345\",\"type\":\"Circle\"},{\"attributes\":{\"fill_alpha\":{\"value\":0.1},\"fill_color\":{\"value\":\"#1f77b4\"},\"line_alpha\":{\"value\":0.1},\"line_color\":{\"value\":\"#1f77b4\"},\"x\":{\"field\":\"x\"},\"y\":{\"field\":\"y\"}},\"id\":\"3328\",\"type\":\"Circle\"},{\"attributes\":{\"label\":{\"value\":\"NOR\"},\"renderers\":[{\"id\":\"3329\",\"type\":\"GlyphRenderer\"}]},\"id\":\"3356\",\"type\":\"LegendItem\"},{\"attributes\":{\"column_name\":\"label\",\"group\":\"VAG\"},\"id\":\"3348\",\"type\":\"GroupFilter\"},{\"attributes\":{\"dimension\":1,\"ticker\":{\"id\":\"3291\",\"type\":\"BasicTicker\"}},\"id\":\"3294\",\"type\":\"Grid\"},{\"attributes\":{},\"id\":\"3296\",\"type\":\"WheelZoomTool\"},{\"attributes\":{\"filters\":[{\"id\":\"3348\",\"type\":\"GroupFilter\"}],\"source\":{\"id\":\"3310\",\"type\":\"ColumnDataSource\"}},\"id\":\"3349\",\"type\":\"CDSView\"},{\"attributes\":{},\"id\":\"3487\",\"type\":\"BasicTickFormatter\"},{\"attributes\":{\"data_source\":{\"id\":\"3310\",\"type\":\"ColumnDataSource\"},\"glyph\":{\"id\":\"3327\",\"type\":\"Circle\"},\"hover_glyph\":null,\"muted_glyph\":null,\"nonselection_glyph\":{\"id\":\"3328\",\"type\":\"Circle\"},\"selection_glyph\":null,\"view\":{\"id\":\"3325\",\"type\":\"CDSView\"}},\"id\":\"3329\",\"type\":\"GlyphRenderer\"},{\"attributes\":{},\"id\":\"3299\",\"type\":\"ResetTool\"},{\"attributes\":{\"column_name\":\"label\",\"group\":\"EYN\"},\"id\":\"3312\",\"type\":\"GroupFilter\"},{\"attributes\":{\"callback\":null},\"id\":\"3279\",\"type\":\"DataRange1d\"},{\"attributes\":{\"fill_alpha\":{\"value\":0.1},\"fill_color\":{\"value\":\"#1f77b4\"},\"line_alpha\":{\"value\":0.1},\"line_color\":{\"value\":\"#1f77b4\"},\"x\":{\"field\":\"x\"},\"y\":{\"field\":\"y\"}},\"id\":\"3346\",\"type\":\"Circle\"},{\"attributes\":{\"label\":{\"value\":\"VAG\"},\"renderers\":[{\"id\":\"3353\",\"type\":\"GlyphRenderer\"}]},\"id\":\"3360\",\"type\":\"LegendItem\"},{\"attributes\":{\"axis_label\":\"PC3 (0.49%)\",\"formatter\":{\"id\":\"3485\",\"type\":\"BasicTickFormatter\"},\"ticker\":{\"id\":\"3291\",\"type\":\"BasicTicker\"}},\"id\":\"3290\",\"type\":\"LinearAxis\"},{\"attributes\":{\"filters\":[{\"id\":\"3324\",\"type\":\"GroupFilter\"}],\"source\":{\"id\":\"3310\",\"type\":\"ColumnDataSource\"}},\"id\":\"3325\",\"type\":\"CDSView\"},{\"attributes\":{\"column_name\":\"label\",\"group\":\"SAN\"},\"id\":\"3330\",\"type\":\"GroupFilter\"},{\"attributes\":{},\"id\":\"3300\",\"type\":\"HelpTool\"},{\"attributes\":{\"fill_alpha\":{\"value\":0.1},\"fill_color\":{\"value\":\"#1f77b4\"},\"line_alpha\":{\"value\":0.1},\"line_color\":{\"value\":\"#1f77b4\"},\"x\":{\"field\":\"x\"},\"y\":{\"field\":\"y\"}},\"id\":\"3352\",\"type\":\"Circle\"},{\"attributes\":{\"label\":{\"value\":\"SAN\"},\"renderers\":[{\"id\":\"3335\",\"type\":\"GlyphRenderer\"}]},\"id\":\"3357\",\"type\":\"LegendItem\"},{\"attributes\":{\"data_source\":{\"id\":\"3310\",\"type\":\"ColumnDataSource\"},\"glyph\":{\"id\":\"3351\",\"type\":\"Circle\"},\"hover_glyph\":null,\"muted_glyph\":null,\"nonselection_glyph\":{\"id\":\"3352\",\"type\":\"Circle\"},\"selection_glyph\":null,\"view\":{\"id\":\"3349\",\"type\":\"CDSView\"}},\"id\":\"3353\",\"type\":\"GlyphRenderer\"},{\"attributes\":{\"label\":{\"value\":\"NA\"},\"renderers\":[{\"id\":\"3323\",\"type\":\"GlyphRenderer\"}]},\"id\":\"3355\",\"type\":\"LegendItem\"},{\"attributes\":{\"fill_color\":{\"field\":\"label\",\"transform\":{\"id\":\"3311\",\"type\":\"CategoricalColorMapper\"}},\"line_color\":{\"field\":\"label\",\"transform\":{\"id\":\"3311\",\"type\":\"CategoricalColorMapper\"}},\"x\":{\"field\":\"x\"},\"y\":{\"field\":\"y\"}},\"id\":\"3333\",\"type\":\"Circle\"},{\"attributes\":{\"label\":{\"value\":\"SUD\"},\"renderers\":[{\"id\":\"3347\",\"type\":\"GlyphRenderer\"}]},\"id\":\"3359\",\"type\":\"LegendItem\"},{\"attributes\":{},\"id\":\"3486\",\"type\":\"BasicTicker\"},{\"attributes\":{},\"id\":\"3489\",\"type\":\"Selection\"},{\"attributes\":{\"axis_label\":\"PC1 (0.49%)\",\"formatter\":{\"id\":\"3483\",\"type\":\"BasicTickFormatter\"},\"ticker\":{\"id\":\"3286\",\"type\":\"BasicTicker\"}},\"id\":\"3285\",\"type\":\"LinearAxis\"},{\"attributes\":{\"filters\":[{\"id\":\"3312\",\"type\":\"GroupFilter\"}],\"source\":{\"id\":\"3310\",\"type\":\"ColumnDataSource\"}},\"id\":\"3313\",\"type\":\"CDSView\"},{\"attributes\":{\"label\":{\"value\":\"EYN\"},\"renderers\":[{\"id\":\"3317\",\"type\":\"GlyphRenderer\"}]},\"id\":\"3354\",\"type\":\"LegendItem\"},{\"attributes\":{\"text\":\"PCA\"},\"id\":\"3275\",\"type\":\"Title\"},{\"attributes\":{\"filters\":[{\"id\":\"3318\",\"type\":\"GroupFilter\"}],\"source\":{\"id\":\"3310\",\"type\":\"ColumnDataSource\"}},\"id\":\"3319\",\"type\":\"CDSView\"},{\"attributes\":{\"filters\":[{\"id\":\"3336\",\"type\":\"GroupFilter\"}],\"source\":{\"id\":\"3310\",\"type\":\"ColumnDataSource\"}},\"id\":\"3337\",\"type\":\"CDSView\"},{\"attributes\":{\"fill_alpha\":{\"value\":0.1},\"fill_color\":{\"value\":\"#1f77b4\"},\"line_alpha\":{\"value\":0.1},\"line_color\":{\"value\":\"#1f77b4\"},\"x\":{\"field\":\"x\"},\"y\":{\"field\":\"y\"}},\"id\":\"3334\",\"type\":\"Circle\"},{\"attributes\":{\"fill_alpha\":{\"value\":0.1},\"fill_color\":{\"value\":\"#1f77b4\"},\"line_alpha\":{\"value\":0.1},\"line_color\":{\"value\":\"#1f77b4\"},\"x\":{\"field\":\"x\"},\"y\":{\"field\":\"y\"}},\"id\":\"3340\",\"type\":\"Circle\"},{\"attributes\":{\"label\":{\"value\":\"STR\"},\"renderers\":[{\"id\":\"3341\",\"type\":\"GlyphRenderer\"}]},\"id\":\"3358\",\"type\":\"LegendItem\"},{\"attributes\":{\"data_source\":{\"id\":\"3310\",\"type\":\"ColumnDataSource\"},\"glyph\":{\"id\":\"3333\",\"type\":\"Circle\"},\"hover_glyph\":null,\"muted_glyph\":null,\"nonselection_glyph\":{\"id\":\"3334\",\"type\":\"Circle\"},\"selection_glyph\":null,\"view\":{\"id\":\"3331\",\"type\":\"CDSView\"}},\"id\":\"3335\",\"type\":\"GlyphRenderer\"},{\"attributes\":{\"fill_alpha\":{\"value\":0.1},\"fill_color\":{\"value\":\"#1f77b4\"},\"line_alpha\":{\"value\":0.1},\"line_color\":{\"value\":\"#1f77b4\"},\"x\":{\"field\":\"x\"},\"y\":{\"field\":\"y\"}},\"id\":\"3316\",\"type\":\"Circle\"},{\"attributes\":{\"column_name\":\"label\",\"group\":\"NA\"},\"id\":\"3318\",\"type\":\"GroupFilter\"},{\"attributes\":{},\"id\":\"3483\",\"type\":\"BasicTickFormatter\"},{\"attributes\":{},\"id\":\"3281\",\"type\":\"LinearScale\"},{\"attributes\":{\"fill_color\":{\"field\":\"label\",\"transform\":{\"id\":\"3311\",\"type\":\"CategoricalColorMapper\"}},\"line_color\":{\"field\":\"label\",\"transform\":{\"id\":\"3311\",\"type\":\"CategoricalColorMapper\"}},\"x\":{\"field\":\"x\"},\"y\":{\"field\":\"y\"}},\"id\":\"3321\",\"type\":\"Circle\"},{\"attributes\":{\"fill_color\":{\"field\":\"label\",\"transform\":{\"id\":\"3311\",\"type\":\"CategoricalColorMapper\"}},\"line_color\":{\"field\":\"label\",\"transform\":{\"id\":\"3311\",\"type\":\"CategoricalColorMapper\"}},\"x\":{\"field\":\"x\"},\"y\":{\"field\":\"y\"}},\"id\":\"3339\",\"type\":\"Circle\"},{\"attributes\":{\"callback\":null,\"data\":{\"index\":[0,1,2,3,4,5,6,7,8,9,10,11,12,13,14,15,16,17,18,19,20,21,22,23,24,25,26,27,28,29,30,31,32,33,34,35,36,37,38,39,40,41,42,43,44,45,46,47,48,49,50,51,52,53,54,55,56,57,58,59,60,61,62,63,64,65,66,67,68,69,70,71,72,73,74,75,76,77,78,79,80,81,82,83,84,85,86,87,88,89,90,91,92,93,94,95,96,97,98,99,100,101,102,103,104,105,106,107,108,109,110,111,112,113,114,115,116,117,118,119,120,121,122,123,124,125,126,127,128,129,130,131,132,133,134,135,136,137,138,139,140,141,142,143,144,145,146,147,148,149,150,151,152,153,154,155,156,157,158,159,160,161,162,163,164,165,166,167,168,169,170,171,172,173,174,175,176,177,178,179,180,181,182,183,184,185,186,187,188,189,190,191,192,193,194,195,196,197,198,199,200,201,202,203,204,205,206,207,208,209,210,211,212,213,214,215,216,217,218,219,220,221,222,223,224,225,226,227,228,229,230,231,232,233,234,235,236,237,238,239,240,241,242,243,244,245,246,247,248,249,250,251,252,253,254,255,256,257,258,259,260,261,262,263,264,265,266,267,268,269,270,271,272,273,274,275,276,277,278,279,280,281,282,283,284,285,286,287,288,289,290,291,292,293,294,295,296,297,298,299,300,301,302,303,304,305,306,307,308,309,310,311,312,313,314,315,316,317,318,319,320,321,322,323,324,325,326,327,328,329,330,331,332,333,334,335,336,337,338,339,340,341,342,343,344,345,346,347,348,349,350,351,352,353,354,355,356,357,358,359,360,361,362,363,364,365,366,367,368,369,370,371,372,373,374,375,376,377],\"label\":[\"SUD\",\"STR\",\"SUD\",\"STR\",\"NA\",\"STR\",\"SUD\",\"SUD\",\"SUD\",\"SUD\",\"SUD\",\"SAN\",\"SAN\",\"STR\",\"STR\",\"SUD\",\"SUD\",\"STR\",\"SUD\",\"STR\",\"SUD\",\"SUD\",\"SUD\",\"NA\",\"NA\",\"STR\",\"NA\",\"STR\",\"SUD\",\"STR\",\"EYN\",\"EYN\",\"SAN\",\"SUD\",\"STR\",\"STR\",\"STR\",\"STR\",\"SAN\",\"STR\",\"STR\",\"SAN\",\"EYN\",\"SUD\",\"STR\",\"SAN\",\"EYN\",\"SAN\",\"STR\",\"STR\",\"STR\",\"STR\",\"STR\",\"STR\",\"SAN\",\"SUD\",\"SUD\",\"STR\",\"NOR\",\"EYN\",\"SUD\",\"STR\",\"VAG\",\"STR\",\"STR\",\"SUD\",\"SAN\",\"VAG\",\"STR\",\"STR\",\"STR\",\"NOR\",\"STR\",\"STR\",\"STR\",\"SUD\",\"STR\",\"VAG\",\"STR\",\"STR\",\"STR\",\"NA\",\"STR\",\"SUD\",\"SUD\",\"STR\",\"STR\",\"STR\",\"STR\",\"SAN\",\"STR\",\"STR\",\"EYN\",\"STR\",\"SAN\",\"STR\",\"STR\",\"STR\",\"VAG\",\"STR\",\"NOR\",\"SAN\",\"NOR\",\"NA\",\"VAG\",\"SUD\",\"STR\",\"STR\",\"SUD\",\"SUD\",\"VAG\",\"STR\",\"STR\",\"STR\",\"NOR\",\"STR\",\"NA\",\"SUD\",\"STR\",\"SUD\",\"NOR\",\"STR\",\"EYN\",\"STR\",\"NA\",\"NA\",\"STR\",\"STR\",\"STR\",\"STR\",\"STR\",\"STR\",\"STR\",\"EYN\",\"NOR\",\"STR\",\"VAG\",\"NA\",\"STR\",\"SUD\",\"STR\",\"EYN\",\"VAG\",\"STR\",\"VAG\",\"STR\",\"NOR\",\"NA\",\"STR\",\"NOR\",\"EYN\",\"EYN\",\"SUD\",\"STR\",\"STR\",\"STR\",\"STR\",\"STR\",\"STR\",\"EYN\",\"STR\",\"VAG\",\"NA\",\"EYN\",\"SAN\",\"STR\",\"NA\",\"VAG\",\"STR\",\"EYN\",\"NOR\",\"NOR\",\"VAG\",\"EYN\",\"STR\",\"NA\",\"STR\",\"STR\",\"NOR\",\"EYN\",\"VAG\",\"STR\",\"STR\",\"STR\",\"NA\",\"STR\",\"EYN\",\"STR\",\"STR\",\"VAG\",\"EYN\",\"STR\",\"STR\",\"STR\",\"STR\",\"EYN\",\"STR\",\"EYN\",\"STR\",\"NA\",\"NA\",\"EYN\",\"NA\",\"NA\",\"NOR\",\"STR\",\"STR\",\"STR\",\"EYN\",\"VAG\",\"STR\",\"STR\",\"STR\",\"STR\",\"EYN\",\"STR\",\"NOR\",\"STR\",\"EYN\",\"VAG\",\"STR\",\"STR\",\"STR\",\"NA\",\"EYN\",\"STR\",\"STR\",\"VAG\",\"STR\",\"STR\",\"SUD\",\"VAG\",\"NA\",\"VAG\",\"EYN\",\"STR\",\"VAG\",\"STR\",\"EYN\",\"STR\",\"EYN\",\"STR\",\"EYN\",\"VAG\",\"STR\",\"NOR\",\"EYN\",\"NA\",\"NOR\",\"EYN\",\"VAG\",\"EYN\",\"SUD\",\"STR\",\"NA\",\"EYN\",\"NOR\",\"NOR\",\"STR\",\"NOR\",\"STR\",\"EYN\",\"EYN\",\"EYN\",\"NOR\",\"NOR\",\"STR\",\"STR\",\"EYN\",\"EYN\",\"STR\",\"NA\",\"EYN\",\"NOR\",\"EYN\",\"NOR\",\"EYN\",\"STR\",\"STR\",\"NOR\",\"NA\",\"NOR\",\"EYN\",\"EYN\",\"EYN\",\"STR\",\"STR\",\"STR\",\"EYN\",\"EYN\",\"STR\",\"EYN\",\"STR\",\"EYN\",\"NOR\",\"STR\",\"NA\",\"NOR\",\"EYN\",\"NOR\",\"EYN\",\"STR\",\"EYN\",\"STR\",\"STR\",\"NOR\",\"EYN\",\"EYN\",\"STR\",\"STR\",\"NOR\",\"EYN\",\"NOR\",\"EYN\",\"STR\",\"STR\",\"EYN\",\"EYN\",\"STR\",\"NA\",\"STR\",\"EYN\",\"STR\",\"STR\",\"NOR\",\"EYN\",\"NOR\",\"EYN\",\"NA\",\"STR\",\"STR\",\"STR\",\"STR\",\"NOR\",\"STR\",\"NOR\",\"EYN\",\"EYN\",\"NA\",\"EYN\",\"EYN\",\"EYN\",\"NOR\",\"EYN\",\"NOR\",\"EYN\",\"NOR\",\"NOR\",\"EYN\",\"NOR\",\"EYN\",\"STR\",\"EYN\",\"NOR\",\"NOR\",\"EYN\",\"NOR\",\"EYN\",\"NOR\",\"EYN\",\"EYN\",\"VAG\",\"EYN\",\"NOR\",\"EYN\",\"NOR\",\"NOR\",\"NOR\",\"NOR\",\"STR\",\"NOR\",\"EYN\",\"STR\",\"NOR\",\"STR\",\"NOR\",\"NOR\",\"NOR\"],\"x\":{\"__ndarray__\":\"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\",\"dtype\":\"float64\",\"shape\":[378]},\"y\":{\"__ndarray__\":\"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\",\"dtype\":\"float64\",\"shape\":[378]}},\"selected\":{\"id\":\"3489\",\"type\":\"Selection\"},\"selection_policy\":{\"id\":\"3490\",\"type\":\"UnionRenderers\"}},\"id\":\"3310\",\"type\":\"ColumnDataSource\"},{\"attributes\":{\"filters\":[{\"id\":\"3342\",\"type\":\"GroupFilter\"}],\"source\":{\"id\":\"3310\",\"type\":\"ColumnDataSource\"}},\"id\":\"3343\",\"type\":\"CDSView\"},{\"attributes\":{\"column_name\":\"label\",\"group\":\"STR\"},\"id\":\"3336\",\"type\":\"GroupFilter\"},{\"attributes\":{\"callback\":null},\"id\":\"3277\",\"type\":\"DataRange1d\"},{\"attributes\":{\"fill_color\":{\"field\":\"label\",\"transform\":{\"id\":\"3311\",\"type\":\"CategoricalColorMapper\"}},\"line_color\":{\"field\":\"label\",\"transform\":{\"id\":\"3311\",\"type\":\"CategoricalColorMapper\"}},\"x\":{\"field\":\"x\"},\"y\":{\"field\":\"y\"}},\"id\":\"3315\",\"type\":\"Circle\"},{\"attributes\":{},\"id\":\"3485\",\"type\":\"BasicTickFormatter\"},{\"attributes\":{\"bottom_units\":\"screen\",\"fill_alpha\":{\"value\":0.5},\"fill_color\":{\"value\":\"lightgrey\"},\"left_units\":\"screen\",\"level\":\"overlay\",\"line_alpha\":{\"value\":1.0},\"line_color\":{\"value\":\"black\"},\"line_dash\":[4,4],\"line_width\":{\"value\":2},\"render_mode\":\"css\",\"right_units\":\"screen\",\"top_units\":\"screen\"},\"id\":\"3488\",\"type\":\"BoxAnnotation\"},{\"attributes\":{\"column_name\":\"label\",\"group\":\"NOR\"},\"id\":\"3324\",\"type\":\"GroupFilter\"},{\"attributes\":{\"column_name\":\"label\",\"group\":\"SUD\"},\"id\":\"3342\",\"type\":\"GroupFilter\"},{\"attributes\":{\"data_source\":{\"id\":\"3310\",\"type\":\"ColumnDataSource\"},\"glyph\":{\"id\":\"3339\",\"type\":\"Circle\"},\"hover_glyph\":null,\"muted_glyph\":null,\"nonselection_glyph\":{\"id\":\"3340\",\"type\":\"Circle\"},\"selection_glyph\":null,\"view\":{\"id\":\"3337\",\"type\":\"CDSView\"}},\"id\":\"3341\",\"type\":\"GlyphRenderer\"},{\"attributes\":{\"click_policy\":\"hide\",\"items\":[{\"id\":\"3354\",\"type\":\"LegendItem\"},{\"id\":\"3355\",\"type\":\"LegendItem\"},{\"id\":\"3356\",\"type\":\"LegendItem\"},{\"id\":\"3357\",\"type\":\"LegendItem\"},{\"id\":\"3358\",\"type\":\"LegendItem\"},{\"id\":\"3359\",\"type\":\"LegendItem\"},{\"id\":\"3360\",\"type\":\"LegendItem\"}]},\"id\":\"3361\",\"type\":\"Legend\"},{\"attributes\":{},\"id\":\"3291\",\"type\":\"BasicTicker\"},{\"attributes\":{\"fill_alpha\":{\"value\":0.1},\"fill_color\":{\"value\":\"#1f77b4\"},\"line_alpha\":{\"value\":0.1},\"line_color\":{\"value\":\"#1f77b4\"},\"x\":{\"field\":\"x\"},\"y\":{\"field\":\"y\"}},\"id\":\"3322\",\"type\":\"Circle\"},{\"attributes\":{\"data_source\":{\"id\":\"3310\",\"type\":\"ColumnDataSource\"},\"glyph\":{\"id\":\"3321\",\"type\":\"Circle\"},\"hover_glyph\":null,\"muted_glyph\":null,\"nonselection_glyph\":{\"id\":\"3322\",\"type\":\"Circle\"},\"selection_glyph\":null,\"view\":{\"id\":\"3319\",\"type\":\"CDSView\"}},\"id\":\"3323\",\"type\":\"GlyphRenderer\"},{\"attributes\":{\"color_mapper\":null,\"formatter\":{\"id\":\"3487\",\"type\":\"BasicTickFormatter\"},\"ticker\":{\"id\":\"3486\",\"type\":\"BasicTicker\"},\"visible\":false},\"id\":\"3362\",\"type\":\"ColorBar\"},{\"attributes\":{\"ticker\":{\"id\":\"3286\",\"type\":\"BasicTicker\"}},\"id\":\"3289\",\"type\":\"Grid\"},{\"attributes\":{},\"id\":\"3286\",\"type\":\"BasicTicker\"}],\"root_ids\":[\"3274\"]},\"title\":\"Bokeh Application\",\"version\":\"1.2.0\"}};\n",
       "  var render_items = [{\"docid\":\"7a7d6cae-36a6-406a-af04-5bd4d022935c\",\"roots\":{\"3274\":\"68527a8d-ef08-4541-a940-3fcf944f00f4\"}}];\n",
       "  root.Bokeh.embed.embed_items_notebook(docs_json, render_items);\n",
       "\n",
       "  }\n",
       "  if (root.Bokeh !== undefined) {\n",
       "    embed_document(root);\n",
       "  } else {\n",
       "    var attempts = 0;\n",
       "    var timer = setInterval(function(root) {\n",
       "      if (root.Bokeh !== undefined) {\n",
       "        embed_document(root);\n",
       "        clearInterval(timer);\n",
       "      }\n",
       "      attempts++;\n",
       "      if (attempts > 100) {\n",
       "        console.log(\"Bokeh: ERROR: Unable to run BokehJS code because BokehJS library is missing\");\n",
       "        clearInterval(timer);\n",
       "      }\n",
       "    }, 10, root)\n",
       "  }\n",
       "})(window);"
      ],
      "application/vnd.bokehjs_exec.v0+json": ""
     },
     "metadata": {
      "application/vnd.bokehjs_exec.v0+json": {
       "id": "3274"
      }
     },
     "output_type": "display_data"
    }
   ],
   "source": [
    "pc_idx1 = 0\n",
    "pc_idx2 = 2\n",
    "p = hl.plot.scatter(mt.scores[pc_idx1],\n",
    "                    mt.scores[pc_idx2],\n",
    "                    label=hl.str(mt.birthplace),\n",
    "                    title='PCA', xlabel='PC{n} ({p:.2f}%)'.format(n=pc_idx1+1, p=prop_var[pc_idx1] * 100), ylabel='PC{n} ({p:.2f}%)'.format(n=pc_idx2+1, p=prop_var[pc_idx1] * 100))\n",
    "p.plot_width = 800\n",
    "p.plot_height = 600\n",
    "show(p)"
   ]
  },
  {
   "cell_type": "code",
   "execution_count": 77,
   "metadata": {},
   "outputs": [
    {
     "data": {
      "text/html": [
       "\n",
       "\n",
       "\n",
       "\n",
       "\n",
       "\n",
       "  <div class=\"bk-root\" id=\"d8e6ad8d-fea5-42d6-83ff-58fec2aa5647\" data-root-id=\"3551\"></div>\n"
      ]
     },
     "metadata": {},
     "output_type": "display_data"
    },
    {
     "data": {
      "application/javascript": [
       "(function(root) {\n",
       "  function embed_document(root) {\n",
       "    \n",
       "  var docs_json = {\"73219aeb-b9a9-47db-bf26-97d7fae7997a\":{\"roots\":{\"references\":[{\"attributes\":{\"below\":[{\"id\":\"3562\",\"type\":\"LinearAxis\"}],\"center\":[{\"id\":\"3566\",\"type\":\"Grid\"},{\"id\":\"3571\",\"type\":\"Grid\"}],\"left\":[{\"id\":\"3567\",\"type\":\"LinearAxis\"},{\"id\":\"3638\",\"type\":\"Legend\"},{\"id\":\"3639\",\"type\":\"ColorBar\"}],\"plot_height\":600,\"plot_width\":800,\"renderers\":[{\"id\":\"3594\",\"type\":\"GlyphRenderer\"},{\"id\":\"3600\",\"type\":\"GlyphRenderer\"},{\"id\":\"3606\",\"type\":\"GlyphRenderer\"},{\"id\":\"3612\",\"type\":\"GlyphRenderer\"},{\"id\":\"3618\",\"type\":\"GlyphRenderer\"},{\"id\":\"3624\",\"type\":\"GlyphRenderer\"},{\"id\":\"3630\",\"type\":\"GlyphRenderer\"}],\"title\":{\"id\":\"3552\",\"type\":\"Title\"},\"toolbar\":{\"id\":\"3578\",\"type\":\"Toolbar\"},\"x_range\":{\"id\":\"3554\",\"type\":\"DataRange1d\"},\"x_scale\":{\"id\":\"3558\",\"type\":\"LinearScale\"},\"y_range\":{\"id\":\"3556\",\"type\":\"DataRange1d\"},\"y_scale\":{\"id\":\"3560\",\"type\":\"LinearScale\"}},\"id\":\"3551\",\"subtype\":\"Figure\",\"type\":\"Plot\"},{\"attributes\":{\"data_source\":{\"id\":\"3587\",\"type\":\"ColumnDataSource\"},\"glyph\":{\"id\":\"3616\",\"type\":\"Circle\"},\"hover_glyph\":null,\"muted_glyph\":null,\"nonselection_glyph\":{\"id\":\"3617\",\"type\":\"Circle\"},\"selection_glyph\":null,\"view\":{\"id\":\"3614\",\"type\":\"CDSView\"}},\"id\":\"3618\",\"type\":\"GlyphRenderer\"},{\"attributes\":{\"filters\":[{\"id\":\"3589\",\"type\":\"GroupFilter\"}],\"source\":{\"id\":\"3587\",\"type\":\"ColumnDataSource\"}},\"id\":\"3590\",\"type\":\"CDSView\"},{\"attributes\":{\"fill_color\":{\"field\":\"label\",\"transform\":{\"id\":\"3588\",\"type\":\"CategoricalColorMapper\"}},\"line_color\":{\"field\":\"label\",\"transform\":{\"id\":\"3588\",\"type\":\"CategoricalColorMapper\"}},\"x\":{\"field\":\"x\"},\"y\":{\"field\":\"y\"}},\"id\":\"3610\",\"type\":\"Circle\"},{\"attributes\":{},\"id\":\"3568\",\"type\":\"BasicTicker\"},{\"attributes\":{\"filters\":[{\"id\":\"3619\",\"type\":\"GroupFilter\"}],\"source\":{\"id\":\"3587\",\"type\":\"ColumnDataSource\"}},\"id\":\"3620\",\"type\":\"CDSView\"},{\"attributes\":{\"label\":{\"value\":\"EYN\"},\"renderers\":[{\"id\":\"3594\",\"type\":\"GlyphRenderer\"}]},\"id\":\"3631\",\"type\":\"LegendItem\"},{\"attributes\":{\"label\":{\"value\":\"VAG\"},\"renderers\":[{\"id\":\"3630\",\"type\":\"GlyphRenderer\"}]},\"id\":\"3637\",\"type\":\"LegendItem\"},{\"attributes\":{\"column_name\":\"label\",\"group\":\"EYN\"},\"id\":\"3589\",\"type\":\"GroupFilter\"},{\"attributes\":{\"dimension\":1,\"ticker\":{\"id\":\"3568\",\"type\":\"BasicTicker\"}},\"id\":\"3571\",\"type\":\"Grid\"},{\"attributes\":{\"label\":{\"value\":\"SAN\"},\"renderers\":[{\"id\":\"3612\",\"type\":\"GlyphRenderer\"}]},\"id\":\"3634\",\"type\":\"LegendItem\"},{\"attributes\":{\"label\":{\"value\":\"STR\"},\"renderers\":[{\"id\":\"3618\",\"type\":\"GlyphRenderer\"}]},\"id\":\"3635\",\"type\":\"LegendItem\"},{\"attributes\":{\"filters\":[{\"id\":\"3595\",\"type\":\"GroupFilter\"}],\"source\":{\"id\":\"3587\",\"type\":\"ColumnDataSource\"}},\"id\":\"3596\",\"type\":\"CDSView\"},{\"attributes\":{},\"id\":\"3774\",\"type\":\"BasicTickFormatter\"},{\"attributes\":{\"column_name\":\"label\",\"group\":\"SUD\"},\"id\":\"3619\",\"type\":\"GroupFilter\"},{\"attributes\":{\"click_policy\":\"hide\",\"items\":[{\"id\":\"3631\",\"type\":\"LegendItem\"},{\"id\":\"3632\",\"type\":\"LegendItem\"},{\"id\":\"3633\",\"type\":\"LegendItem\"},{\"id\":\"3634\",\"type\":\"LegendItem\"},{\"id\":\"3635\",\"type\":\"LegendItem\"},{\"id\":\"3636\",\"type\":\"LegendItem\"},{\"id\":\"3637\",\"type\":\"LegendItem\"}]},\"id\":\"3638\",\"type\":\"Legend\"},{\"attributes\":{\"axis_label\":\"PC3 (0.43%)\",\"formatter\":{\"id\":\"3772\",\"type\":\"BasicTickFormatter\"},\"ticker\":{\"id\":\"3568\",\"type\":\"BasicTicker\"}},\"id\":\"3567\",\"type\":\"LinearAxis\"},{\"attributes\":{},\"id\":\"3772\",\"type\":\"BasicTickFormatter\"},{\"attributes\":{\"label\":{\"value\":\"NOR\"},\"renderers\":[{\"id\":\"3606\",\"type\":\"GlyphRenderer\"}]},\"id\":\"3633\",\"type\":\"LegendItem\"},{\"attributes\":{\"color_mapper\":null,\"formatter\":{\"id\":\"3774\",\"type\":\"BasicTickFormatter\"},\"ticker\":{\"id\":\"3773\",\"type\":\"BasicTicker\"},\"visible\":false},\"id\":\"3639\",\"type\":\"ColorBar\"},{\"attributes\":{\"text\":\"PCA\"},\"id\":\"3552\",\"type\":\"Title\"},{\"attributes\":{\"fill_color\":{\"field\":\"label\",\"transform\":{\"id\":\"3588\",\"type\":\"CategoricalColorMapper\"}},\"line_color\":{\"field\":\"label\",\"transform\":{\"id\":\"3588\",\"type\":\"CategoricalColorMapper\"}},\"x\":{\"field\":\"x\"},\"y\":{\"field\":\"y\"}},\"id\":\"3592\",\"type\":\"Circle\"},{\"attributes\":{\"axis_label\":\"PC2 (0.43%)\",\"formatter\":{\"id\":\"3770\",\"type\":\"BasicTickFormatter\"},\"ticker\":{\"id\":\"3563\",\"type\":\"BasicTicker\"}},\"id\":\"3562\",\"type\":\"LinearAxis\"},{\"attributes\":{\"fill_color\":{\"field\":\"label\",\"transform\":{\"id\":\"3588\",\"type\":\"CategoricalColorMapper\"}},\"line_color\":{\"field\":\"label\",\"transform\":{\"id\":\"3588\",\"type\":\"CategoricalColorMapper\"}},\"x\":{\"field\":\"x\"},\"y\":{\"field\":\"y\"}},\"id\":\"3604\",\"type\":\"Circle\"},{\"attributes\":{\"fill_color\":{\"field\":\"label\",\"transform\":{\"id\":\"3588\",\"type\":\"CategoricalColorMapper\"}},\"line_color\":{\"field\":\"label\",\"transform\":{\"id\":\"3588\",\"type\":\"CategoricalColorMapper\"}},\"x\":{\"field\":\"x\"},\"y\":{\"field\":\"y\"}},\"id\":\"3628\",\"type\":\"Circle\"},{\"attributes\":{\"data_source\":{\"id\":\"3587\",\"type\":\"ColumnDataSource\"},\"glyph\":{\"id\":\"3592\",\"type\":\"Circle\"},\"hover_glyph\":null,\"muted_glyph\":null,\"nonselection_glyph\":{\"id\":\"3593\",\"type\":\"Circle\"},\"selection_glyph\":null,\"view\":{\"id\":\"3590\",\"type\":\"CDSView\"}},\"id\":\"3594\",\"type\":\"GlyphRenderer\"},{\"attributes\":{\"callback\":null},\"id\":\"3556\",\"type\":\"DataRange1d\"},{\"attributes\":{},\"id\":\"3572\",\"type\":\"PanTool\"},{\"attributes\":{},\"id\":\"3776\",\"type\":\"Selection\"},{\"attributes\":{},\"id\":\"3575\",\"type\":\"SaveTool\"},{\"attributes\":{\"column_name\":\"label\",\"group\":\"NOR\"},\"id\":\"3601\",\"type\":\"GroupFilter\"},{\"attributes\":{\"fill_alpha\":{\"value\":0.1},\"fill_color\":{\"value\":\"#1f77b4\"},\"line_alpha\":{\"value\":0.1},\"line_color\":{\"value\":\"#1f77b4\"},\"x\":{\"field\":\"x\"},\"y\":{\"field\":\"y\"}},\"id\":\"3605\",\"type\":\"Circle\"},{\"attributes\":{\"fill_alpha\":{\"value\":0.1},\"fill_color\":{\"value\":\"#1f77b4\"},\"line_alpha\":{\"value\":0.1},\"line_color\":{\"value\":\"#1f77b4\"},\"x\":{\"field\":\"x\"},\"y\":{\"field\":\"y\"}},\"id\":\"3611\",\"type\":\"Circle\"},{\"attributes\":{\"fill_alpha\":{\"value\":0.1},\"fill_color\":{\"value\":\"#1f77b4\"},\"line_alpha\":{\"value\":0.1},\"line_color\":{\"value\":\"#1f77b4\"},\"x\":{\"field\":\"x\"},\"y\":{\"field\":\"y\"}},\"id\":\"3623\",\"type\":\"Circle\"},{\"attributes\":{\"data_source\":{\"id\":\"3587\",\"type\":\"ColumnDataSource\"},\"glyph\":{\"id\":\"3622\",\"type\":\"Circle\"},\"hover_glyph\":null,\"muted_glyph\":null,\"nonselection_glyph\":{\"id\":\"3623\",\"type\":\"Circle\"},\"selection_glyph\":null,\"view\":{\"id\":\"3620\",\"type\":\"CDSView\"}},\"id\":\"3624\",\"type\":\"GlyphRenderer\"},{\"attributes\":{\"label\":{\"value\":\"NA\"},\"renderers\":[{\"id\":\"3600\",\"type\":\"GlyphRenderer\"}]},\"id\":\"3632\",\"type\":\"LegendItem\"},{\"attributes\":{\"column_name\":\"label\",\"group\":\"STR\"},\"id\":\"3613\",\"type\":\"GroupFilter\"},{\"attributes\":{\"ticker\":{\"id\":\"3563\",\"type\":\"BasicTicker\"}},\"id\":\"3566\",\"type\":\"Grid\"},{\"attributes\":{\"overlay\":{\"id\":\"3775\",\"type\":\"BoxAnnotation\"}},\"id\":\"3574\",\"type\":\"BoxZoomTool\"},{\"attributes\":{\"filters\":[{\"id\":\"3607\",\"type\":\"GroupFilter\"}],\"source\":{\"id\":\"3587\",\"type\":\"ColumnDataSource\"}},\"id\":\"3608\",\"type\":\"CDSView\"},{\"attributes\":{},\"id\":\"3563\",\"type\":\"BasicTicker\"},{\"attributes\":{\"filters\":[{\"id\":\"3625\",\"type\":\"GroupFilter\"}],\"source\":{\"id\":\"3587\",\"type\":\"ColumnDataSource\"}},\"id\":\"3626\",\"type\":\"CDSView\"},{\"attributes\":{},\"id\":\"3573\",\"type\":\"WheelZoomTool\"},{\"attributes\":{\"fill_color\":{\"field\":\"label\",\"transform\":{\"id\":\"3588\",\"type\":\"CategoricalColorMapper\"}},\"line_color\":{\"field\":\"label\",\"transform\":{\"id\":\"3588\",\"type\":\"CategoricalColorMapper\"}},\"x\":{\"field\":\"x\"},\"y\":{\"field\":\"y\"}},\"id\":\"3616\",\"type\":\"Circle\"},{\"attributes\":{\"fill_alpha\":{\"value\":0.1},\"fill_color\":{\"value\":\"#1f77b4\"},\"line_alpha\":{\"value\":0.1},\"line_color\":{\"value\":\"#1f77b4\"},\"x\":{\"field\":\"x\"},\"y\":{\"field\":\"y\"}},\"id\":\"3617\",\"type\":\"Circle\"},{\"attributes\":{\"column_name\":\"label\",\"group\":\"NA\"},\"id\":\"3595\",\"type\":\"GroupFilter\"},{\"attributes\":{\"active_drag\":\"auto\",\"active_inspect\":\"auto\",\"active_multi\":null,\"active_scroll\":\"auto\",\"active_tap\":\"auto\",\"tools\":[{\"id\":\"3572\",\"type\":\"PanTool\"},{\"id\":\"3573\",\"type\":\"WheelZoomTool\"},{\"id\":\"3574\",\"type\":\"BoxZoomTool\"},{\"id\":\"3575\",\"type\":\"SaveTool\"},{\"id\":\"3576\",\"type\":\"ResetTool\"},{\"id\":\"3577\",\"type\":\"HelpTool\"},{\"id\":\"3586\",\"type\":\"HoverTool\"}]},\"id\":\"3578\",\"type\":\"Toolbar\"},{\"attributes\":{\"column_name\":\"label\",\"group\":\"VAG\"},\"id\":\"3625\",\"type\":\"GroupFilter\"},{\"attributes\":{\"filters\":[{\"id\":\"3613\",\"type\":\"GroupFilter\"}],\"source\":{\"id\":\"3587\",\"type\":\"ColumnDataSource\"}},\"id\":\"3614\",\"type\":\"CDSView\"},{\"attributes\":{\"factors\":[\"SUD\",\"STR\",\"EYN\",\"VAG\",\"NA\",\"SAN\",\"NOR\"],\"palette\":[\"#1f77b4\",\"#ff7f0e\",\"#2ca02c\",\"#d62728\",\"#9467bd\",\"#8c564b\",\"#e377c2\",\"#7f7f7f\",\"#bcbd22\",\"#17becf\"]},\"id\":\"3588\",\"type\":\"CategoricalColorMapper\"},{\"attributes\":{},\"id\":\"3558\",\"type\":\"LinearScale\"},{\"attributes\":{\"data_source\":{\"id\":\"3587\",\"type\":\"ColumnDataSource\"},\"glyph\":{\"id\":\"3604\",\"type\":\"Circle\"},\"hover_glyph\":null,\"muted_glyph\":null,\"nonselection_glyph\":{\"id\":\"3605\",\"type\":\"Circle\"},\"selection_glyph\":null,\"view\":{\"id\":\"3602\",\"type\":\"CDSView\"}},\"id\":\"3606\",\"type\":\"GlyphRenderer\"},{\"attributes\":{\"fill_color\":{\"field\":\"label\",\"transform\":{\"id\":\"3588\",\"type\":\"CategoricalColorMapper\"}},\"line_color\":{\"field\":\"label\",\"transform\":{\"id\":\"3588\",\"type\":\"CategoricalColorMapper\"}},\"x\":{\"field\":\"x\"},\"y\":{\"field\":\"y\"}},\"id\":\"3598\",\"type\":\"Circle\"},{\"attributes\":{\"callback\":null},\"id\":\"3554\",\"type\":\"DataRange1d\"},{\"attributes\":{},\"id\":\"3577\",\"type\":\"HelpTool\"},{\"attributes\":{},\"id\":\"3770\",\"type\":\"BasicTickFormatter\"},{\"attributes\":{\"label\":{\"value\":\"SUD\"},\"renderers\":[{\"id\":\"3624\",\"type\":\"GlyphRenderer\"}]},\"id\":\"3636\",\"type\":\"LegendItem\"},{\"attributes\":{\"data_source\":{\"id\":\"3587\",\"type\":\"ColumnDataSource\"},\"glyph\":{\"id\":\"3598\",\"type\":\"Circle\"},\"hover_glyph\":null,\"muted_glyph\":null,\"nonselection_glyph\":{\"id\":\"3599\",\"type\":\"Circle\"},\"selection_glyph\":null,\"view\":{\"id\":\"3596\",\"type\":\"CDSView\"}},\"id\":\"3600\",\"type\":\"GlyphRenderer\"},{\"attributes\":{\"bottom_units\":\"screen\",\"fill_alpha\":{\"value\":0.5},\"fill_color\":{\"value\":\"lightgrey\"},\"left_units\":\"screen\",\"level\":\"overlay\",\"line_alpha\":{\"value\":1.0},\"line_color\":{\"value\":\"black\"},\"line_dash\":[4,4],\"line_width\":{\"value\":2},\"render_mode\":\"css\",\"right_units\":\"screen\",\"top_units\":\"screen\"},\"id\":\"3775\",\"type\":\"BoxAnnotation\"},{\"attributes\":{\"column_name\":\"label\",\"group\":\"SAN\"},\"id\":\"3607\",\"type\":\"GroupFilter\"},{\"attributes\":{\"fill_alpha\":{\"value\":0.1},\"fill_color\":{\"value\":\"#1f77b4\"},\"line_alpha\":{\"value\":0.1},\"line_color\":{\"value\":\"#1f77b4\"},\"x\":{\"field\":\"x\"},\"y\":{\"field\":\"y\"}},\"id\":\"3599\",\"type\":\"Circle\"},{\"attributes\":{\"fill_color\":{\"field\":\"label\",\"transform\":{\"id\":\"3588\",\"type\":\"CategoricalColorMapper\"}},\"line_color\":{\"field\":\"label\",\"transform\":{\"id\":\"3588\",\"type\":\"CategoricalColorMapper\"}},\"x\":{\"field\":\"x\"},\"y\":{\"field\":\"y\"}},\"id\":\"3622\",\"type\":\"Circle\"},{\"attributes\":{\"data_source\":{\"id\":\"3587\",\"type\":\"ColumnDataSource\"},\"glyph\":{\"id\":\"3610\",\"type\":\"Circle\"},\"hover_glyph\":null,\"muted_glyph\":null,\"nonselection_glyph\":{\"id\":\"3611\",\"type\":\"Circle\"},\"selection_glyph\":null,\"view\":{\"id\":\"3608\",\"type\":\"CDSView\"}},\"id\":\"3612\",\"type\":\"GlyphRenderer\"},{\"attributes\":{\"filters\":[{\"id\":\"3601\",\"type\":\"GroupFilter\"}],\"source\":{\"id\":\"3587\",\"type\":\"ColumnDataSource\"}},\"id\":\"3602\",\"type\":\"CDSView\"},{\"attributes\":{\"fill_alpha\":{\"value\":0.1},\"fill_color\":{\"value\":\"#1f77b4\"},\"line_alpha\":{\"value\":0.1},\"line_color\":{\"value\":\"#1f77b4\"},\"x\":{\"field\":\"x\"},\"y\":{\"field\":\"y\"}},\"id\":\"3629\",\"type\":\"Circle\"},{\"attributes\":{\"data_source\":{\"id\":\"3587\",\"type\":\"ColumnDataSource\"},\"glyph\":{\"id\":\"3628\",\"type\":\"Circle\"},\"hover_glyph\":null,\"muted_glyph\":null,\"nonselection_glyph\":{\"id\":\"3629\",\"type\":\"Circle\"},\"selection_glyph\":null,\"view\":{\"id\":\"3626\",\"type\":\"CDSView\"}},\"id\":\"3630\",\"type\":\"GlyphRenderer\"},{\"attributes\":{\"callback\":null,\"data\":{\"index\":[0,1,2,3,4,5,6,7,8,9,10,11,12,13,14,15,16,17,18,19,20,21,22,23,24,25,26,27,28,29,30,31,32,33,34,35,36,37,38,39,40,41,42,43,44,45,46,47,48,49,50,51,52,53,54,55,56,57,58,59,60,61,62,63,64,65,66,67,68,69,70,71,72,73,74,75,76,77,78,79,80,81,82,83,84,85,86,87,88,89,90,91,92,93,94,95,96,97,98,99,100,101,102,103,104,105,106,107,108,109,110,111,112,113,114,115,116,117,118,119,120,121,122,123,124,125,126,127,128,129,130,131,132,133,134,135,136,137,138,139,140,141,142,143,144,145,146,147,148,149,150,151,152,153,154,155,156,157,158,159,160,161,162,163,164,165,166,167,168,169,170,171,172,173,174,175,176,177,178,179,180,181,182,183,184,185,186,187,188,189,190,191,192,193,194,195,196,197,198,199,200,201,202,203,204,205,206,207,208,209,210,211,212,213,214,215,216,217,218,219,220,221,222,223,224,225,226,227,228,229,230,231,232,233,234,235,236,237,238,239,240,241,242,243,244,245,246,247,248,249,250,251,252,253,254,255,256,257,258,259,260,261,262,263,264,265,266,267,268,269,270,271,272,273,274,275,276,277,278,279,280,281,282,283,284,285,286,287,288,289,290,291,292,293,294,295,296,297,298,299,300,301,302,303,304,305,306,307,308,309,310,311,312,313,314,315,316,317,318,319,320,321,322,323,324,325,326,327,328,329,330,331,332,333,334,335,336,337,338,339,340,341,342,343,344,345,346,347,348,349,350,351,352,353,354,355,356,357,358,359,360,361,362,363,364,365,366,367,368,369,370,371,372,373,374],\"label\":[\"NOR\",\"NOR\",\"NOR\",\"STR\",\"NOR\",\"NOR\",\"SUD\",\"NOR\",\"STR\",\"NOR\",\"NOR\",\"VAG\",\"EYN\",\"NOR\",\"STR\",\"SUD\",\"STR\",\"SUD\",\"STR\",\"SUD\",\"STR\",\"STR\",\"NOR\",\"STR\",\"SUD\",\"NOR\",\"SUD\",\"NOR\",\"NOR\",\"NOR\",\"STR\",\"NOR\",\"SUD\",\"STR\",\"STR\",\"STR\",\"NA\",\"STR\",\"NOR\",\"SUD\",\"STR\",\"SUD\",\"STR\",\"NOR\",\"STR\",\"STR\",\"STR\",\"SUD\",\"NOR\",\"NOR\",\"EYN\",\"SUD\",\"STR\",\"EYN\",\"STR\",\"NOR\",\"STR\",\"STR\",\"NOR\",\"NOR\",\"NOR\",\"STR\",\"STR\",\"NA\",\"EYN\",\"EYN\",\"SUD\",\"STR\",\"SUD\",\"STR\",\"NOR\",\"SUD\",\"STR\",\"STR\",\"STR\",\"STR\",\"NOR\",\"STR\",\"STR\",\"EYN\",\"EYN\",\"STR\",\"NOR\",\"SUD\",\"STR\",\"NA\",\"EYN\",\"NA\",\"NA\",\"NOR\",\"NOR\",\"SUD\",\"STR\",\"STR\",\"STR\",\"NOR\",\"SUD\",\"NA\",\"EYN\",\"NA\",\"SUD\",\"NA\",\"STR\",\"NOR\",\"EYN\",\"EYN\",\"STR\",\"NOR\",\"STR\",\"VAG\",\"STR\",\"SUD\",\"EYN\",\"NOR\",\"EYN\",\"STR\",\"STR\",\"EYN\",\"EYN\",\"SUD\",\"STR\",\"SUD\",\"STR\",\"NA\",\"NOR\",\"EYN\",\"NOR\",\"EYN\",\"EYN\",\"NOR\",\"NOR\",\"SUD\",\"SUD\",\"STR\",\"NOR\",\"EYN\",\"SUD\",\"EYN\",\"STR\",\"NOR\",\"NA\",\"STR\",\"STR\",\"STR\",\"SAN\",\"NOR\",\"SAN\",\"NA\",\"STR\",\"NA\",\"NOR\",\"NOR\",\"EYN\",\"STR\",\"EYN\",\"STR\",\"NA\",\"NA\",\"NOR\",\"STR\",\"NA\",\"SAN\",\"VAG\",\"SUD\",\"STR\",\"NA\",\"STR\",\"SAN\",\"STR\",\"NA\",\"NOR\",\"STR\",\"EYN\",\"SAN\",\"SAN\",\"STR\",\"STR\",\"NA\",\"SAN\",\"STR\",\"STR\",\"STR\",\"STR\",\"STR\",\"EYN\",\"STR\",\"EYN\",\"SUD\",\"EYN\",\"STR\",\"STR\",\"SAN\",\"STR\",\"STR\",\"EYN\",\"STR\",\"VAG\",\"STR\",\"NA\",\"STR\",\"NA\",\"STR\",\"STR\",\"STR\",\"SUD\",\"NOR\",\"STR\",\"EYN\",\"EYN\",\"EYN\",\"STR\",\"STR\",\"NOR\",\"STR\",\"EYN\",\"STR\",\"STR\",\"EYN\",\"EYN\",\"STR\",\"STR\",\"STR\",\"STR\",\"VAG\",\"EYN\",\"STR\",\"EYN\",\"STR\",\"NOR\",\"NOR\",\"EYN\",\"STR\",\"SAN\",\"EYN\",\"STR\",\"SAN\",\"NA\",\"EYN\",\"STR\",\"NOR\",\"NOR\",\"STR\",\"STR\",\"SUD\",\"EYN\",\"EYN\",\"STR\",\"EYN\",\"STR\",\"STR\",\"NA\",\"STR\",\"SUD\",\"EYN\",\"STR\",\"STR\",\"EYN\",\"EYN\",\"NOR\",\"STR\",\"STR\",\"STR\",\"EYN\",\"VAG\",\"NOR\",\"STR\",\"STR\",\"NA\",\"EYN\",\"STR\",\"STR\",\"EYN\",\"NA\",\"EYN\",\"STR\",\"EYN\",\"STR\",\"STR\",\"EYN\",\"VAG\",\"STR\",\"SAN\",\"EYN\",\"STR\",\"STR\",\"STR\",\"STR\",\"SAN\",\"EYN\",\"SAN\",\"STR\",\"NOR\",\"STR\",\"STR\",\"STR\",\"STR\",\"EYN\",\"STR\",\"NOR\",\"EYN\",\"EYN\",\"STR\",\"STR\",\"STR\",\"VAG\",\"STR\",\"STR\",\"EYN\",\"STR\",\"VAG\",\"VAG\",\"EYN\",\"VAG\",\"VAG\",\"EYN\",\"EYN\",\"NA\",\"STR\",\"STR\",\"STR\",\"EYN\",\"EYN\",\"SUD\",\"STR\",\"STR\",\"STR\",\"VAG\",\"STR\",\"STR\",\"STR\",\"VAG\",\"EYN\",\"STR\",\"NA\",\"EYN\",\"SUD\",\"VAG\",\"STR\",\"EYN\",\"STR\",\"STR\",\"EYN\",\"STR\",\"STR\",\"EYN\",\"EYN\",\"EYN\",\"VAG\",\"NA\",\"NA\",\"EYN\",\"EYN\",\"EYN\",\"STR\",\"STR\",\"VAG\",\"NA\",\"STR\",\"VAG\",\"STR\",\"STR\",\"STR\",\"STR\",\"VAG\",\"VAG\",\"VAG\",\"VAG\",\"VAG\",\"STR\",\"EYN\",\"EYN\",\"EYN\",\"EYN\",\"EYN\",\"EYN\"],\"x\":{\"__ndarray__\":\"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\",\"dtype\":\"float64\",\"shape\":[375]},\"y\":{\"__ndarray__\":\"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\",\"dtype\":\"float64\",\"shape\":[375]}},\"selected\":{\"id\":\"3776\",\"type\":\"Selection\"},\"selection_policy\":{\"id\":\"3777\",\"type\":\"UnionRenderers\"}},\"id\":\"3587\",\"type\":\"ColumnDataSource\"},{\"attributes\":{},\"id\":\"3576\",\"type\":\"ResetTool\"},{\"attributes\":{\"callback\":null,\"tooltips\":[[\"x\",\"@x\"],[\"y\",\"@y\"],[\"label\",\"@label\"]]},\"id\":\"3586\",\"type\":\"HoverTool\"},{\"attributes\":{},\"id\":\"3773\",\"type\":\"BasicTicker\"},{\"attributes\":{},\"id\":\"3777\",\"type\":\"UnionRenderers\"},{\"attributes\":{\"fill_alpha\":{\"value\":0.1},\"fill_color\":{\"value\":\"#1f77b4\"},\"line_alpha\":{\"value\":0.1},\"line_color\":{\"value\":\"#1f77b4\"},\"x\":{\"field\":\"x\"},\"y\":{\"field\":\"y\"}},\"id\":\"3593\",\"type\":\"Circle\"},{\"attributes\":{},\"id\":\"3560\",\"type\":\"LinearScale\"}],\"root_ids\":[\"3551\"]},\"title\":\"Bokeh Application\",\"version\":\"1.2.0\"}};\n",
       "  var render_items = [{\"docid\":\"73219aeb-b9a9-47db-bf26-97d7fae7997a\",\"roots\":{\"3551\":\"d8e6ad8d-fea5-42d6-83ff-58fec2aa5647\"}}];\n",
       "  root.Bokeh.embed.embed_items_notebook(docs_json, render_items);\n",
       "\n",
       "  }\n",
       "  if (root.Bokeh !== undefined) {\n",
       "    embed_document(root);\n",
       "  } else {\n",
       "    var attempts = 0;\n",
       "    var timer = setInterval(function(root) {\n",
       "      if (root.Bokeh !== undefined) {\n",
       "        embed_document(root);\n",
       "        clearInterval(timer);\n",
       "      }\n",
       "      attempts++;\n",
       "      if (attempts > 100) {\n",
       "        console.log(\"Bokeh: ERROR: Unable to run BokehJS code because BokehJS library is missing\");\n",
       "        clearInterval(timer);\n",
       "      }\n",
       "    }, 10, root)\n",
       "  }\n",
       "})(window);"
      ],
      "application/vnd.bokehjs_exec.v0+json": ""
     },
     "metadata": {
      "application/vnd.bokehjs_exec.v0+json": {
       "id": "3551"
      }
     },
     "output_type": "display_data"
    }
   ],
   "source": [
    "pc_idx1 = 1\n",
    "pc_idx2 = 2\n",
    "p = hl.plot.scatter(mt.scores[pc_idx1],\n",
    "                    mt.scores[pc_idx2],\n",
    "                    label=hl.str(mt.birthplace),\n",
    "                    title='PCA', xlabel='PC{n} ({p:.2f}%)'.format(n=pc_idx1+1, p=prop_var[pc_idx1] * 100), ylabel='PC{n} ({p:.2f}%)'.format(n=pc_idx2+1, p=prop_var[pc_idx1] * 100))\n",
    "p.plot_width = 800\n",
    "p.plot_height = 600\n",
    "show(p)"
   ]
  },
  {
   "cell_type": "markdown",
   "metadata": {},
   "source": [
    "From this PCA, it looks like there is very little population structure. But I'm not so convinced, I see this as a failure to detect population structure, not a success to show that there is no population structure."
   ]
  },
  {
   "cell_type": "markdown",
   "metadata": {},
   "source": [
    "## Summary\n",
    "\n",
    "In this notebook we have:\n",
    "\n",
    "* Investigate population structure in the cohort\n",
    "* Removed potential ancestry outliers from the data"
   ]
  }
 ],
 "metadata": {
  "kernelspec": {
   "display_name": "Python [conda env:fargen-1-exome]",
   "language": "python",
   "name": "conda-env-fargen-1-exome-py"
  },
  "language_info": {
   "codemirror_mode": {
    "name": "ipython",
    "version": 3
   },
   "file_extension": ".py",
   "mimetype": "text/x-python",
   "name": "python",
   "nbconvert_exporter": "python",
   "pygments_lexer": "ipython3",
   "version": "3.7.10"
  }
 },
 "nbformat": 4,
 "nbformat_minor": 4
}
