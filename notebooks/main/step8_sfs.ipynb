{
 "cells": [
  {
   "cell_type": "markdown",
   "id": "b0ad220f-8db8-40bd-8c69-803f0b01b153",
   "metadata": {},
   "source": [
    "# Folded Site-Frequency Spectrum"
   ]
  },
  {
   "cell_type": "code",
   "execution_count": 1,
   "id": "6d490832-7263-4d5a-b8ed-c7703a9b524e",
   "metadata": {},
   "outputs": [
    {
     "name": "stdout",
     "output_type": "stream",
     "text": [
      "2021-10-28 14:28:35 WARN  NativeCodeLoader:62 - Unable to load native-hadoop library for your platform... using builtin-java classes where applicable\n"
     ]
    },
    {
     "name": "stderr",
     "output_type": "stream",
     "text": [
      "Setting default log level to \"WARN\".\n",
      "To adjust logging level use sc.setLogLevel(newLevel). For SparkR, use setLogLevel(newLevel).\n"
     ]
    },
    {
     "name": "stdout",
     "output_type": "stream",
     "text": [
      "2021-10-28 14:28:36 WARN  Hail:37 - This Hail JAR was compiled for Spark 2.4.5, running with Spark 2.4.1.\n",
      "  Compatibility is not guaranteed.\n",
      "2021-10-28 14:28:37 WARN  Utils:66 - Service 'SparkUI' could not bind on port 4040. Attempting port 4041.\n"
     ]
    },
    {
     "name": "stderr",
     "output_type": "stream",
     "text": [
      "Running on Apache Spark version 2.4.1\n",
      "SparkUI available at http://hms-beagle-6676655f87-9xllv:4041\n",
      "Welcome to\n",
      "     __  __     <>__\n",
      "    / /_/ /__  __/ /\n",
      "   / __  / _ `/ / /\n",
      "  /_/ /_/\\_,_/_/_/   version 0.2.61-3c86d3ba497a\n",
      "LOGGING: writing to /home/olavur/experiments/2020-11-13_fargen1_exome_analysis/fargen-1-exome/notebooks/main/hail-20211028-1428-0.2.61-3c86d3ba497a.log\n"
     ]
    }
   ],
   "source": [
    "import hail as hl\n",
    "hl.init(spark_conf={'spark.driver.memory': '100g'}, tmp_dir='/home/olavur/tmp')"
   ]
  },
  {
   "cell_type": "code",
   "execution_count": 2,
   "id": "8ef6d6c8-704e-46f7-8096-59e23b588dc2",
   "metadata": {},
   "outputs": [
    {
     "data": {
      "text/html": [
       "\n",
       "    <div class=\"bk-root\">\n",
       "        <a href=\"https://bokeh.pydata.org\" target=\"_blank\" class=\"bk-logo bk-logo-small bk-logo-notebook\"></a>\n",
       "        <span id=\"1001\">Loading BokehJS ...</span>\n",
       "    </div>"
      ]
     },
     "metadata": {},
     "output_type": "display_data"
    },
    {
     "data": {
      "application/javascript": [
       "\n",
       "(function(root) {\n",
       "  function now() {\n",
       "    return new Date();\n",
       "  }\n",
       "\n",
       "  var force = true;\n",
       "\n",
       "  if (typeof root._bokeh_onload_callbacks === \"undefined\" || force === true) {\n",
       "    root._bokeh_onload_callbacks = [];\n",
       "    root._bokeh_is_loading = undefined;\n",
       "  }\n",
       "\n",
       "  var JS_MIME_TYPE = 'application/javascript';\n",
       "  var HTML_MIME_TYPE = 'text/html';\n",
       "  var EXEC_MIME_TYPE = 'application/vnd.bokehjs_exec.v0+json';\n",
       "  var CLASS_NAME = 'output_bokeh rendered_html';\n",
       "\n",
       "  /**\n",
       "   * Render data to the DOM node\n",
       "   */\n",
       "  function render(props, node) {\n",
       "    var script = document.createElement(\"script\");\n",
       "    node.appendChild(script);\n",
       "  }\n",
       "\n",
       "  /**\n",
       "   * Handle when an output is cleared or removed\n",
       "   */\n",
       "  function handleClearOutput(event, handle) {\n",
       "    var cell = handle.cell;\n",
       "\n",
       "    var id = cell.output_area._bokeh_element_id;\n",
       "    var server_id = cell.output_area._bokeh_server_id;\n",
       "    // Clean up Bokeh references\n",
       "    if (id != null && id in Bokeh.index) {\n",
       "      Bokeh.index[id].model.document.clear();\n",
       "      delete Bokeh.index[id];\n",
       "    }\n",
       "\n",
       "    if (server_id !== undefined) {\n",
       "      // Clean up Bokeh references\n",
       "      var cmd = \"from bokeh.io.state import curstate; print(curstate().uuid_to_server['\" + server_id + \"'].get_sessions()[0].document.roots[0]._id)\";\n",
       "      cell.notebook.kernel.execute(cmd, {\n",
       "        iopub: {\n",
       "          output: function(msg) {\n",
       "            var id = msg.content.text.trim();\n",
       "            if (id in Bokeh.index) {\n",
       "              Bokeh.index[id].model.document.clear();\n",
       "              delete Bokeh.index[id];\n",
       "            }\n",
       "          }\n",
       "        }\n",
       "      });\n",
       "      // Destroy server and session\n",
       "      var cmd = \"import bokeh.io.notebook as ion; ion.destroy_server('\" + server_id + \"')\";\n",
       "      cell.notebook.kernel.execute(cmd);\n",
       "    }\n",
       "  }\n",
       "\n",
       "  /**\n",
       "   * Handle when a new output is added\n",
       "   */\n",
       "  function handleAddOutput(event, handle) {\n",
       "    var output_area = handle.output_area;\n",
       "    var output = handle.output;\n",
       "\n",
       "    // limit handleAddOutput to display_data with EXEC_MIME_TYPE content only\n",
       "    if ((output.output_type != \"display_data\") || (!output.data.hasOwnProperty(EXEC_MIME_TYPE))) {\n",
       "      return\n",
       "    }\n",
       "\n",
       "    var toinsert = output_area.element.find(\".\" + CLASS_NAME.split(' ')[0]);\n",
       "\n",
       "    if (output.metadata[EXEC_MIME_TYPE][\"id\"] !== undefined) {\n",
       "      toinsert[toinsert.length - 1].firstChild.textContent = output.data[JS_MIME_TYPE];\n",
       "      // store reference to embed id on output_area\n",
       "      output_area._bokeh_element_id = output.metadata[EXEC_MIME_TYPE][\"id\"];\n",
       "    }\n",
       "    if (output.metadata[EXEC_MIME_TYPE][\"server_id\"] !== undefined) {\n",
       "      var bk_div = document.createElement(\"div\");\n",
       "      bk_div.innerHTML = output.data[HTML_MIME_TYPE];\n",
       "      var script_attrs = bk_div.children[0].attributes;\n",
       "      for (var i = 0; i < script_attrs.length; i++) {\n",
       "        toinsert[toinsert.length - 1].firstChild.setAttribute(script_attrs[i].name, script_attrs[i].value);\n",
       "      }\n",
       "      // store reference to server id on output_area\n",
       "      output_area._bokeh_server_id = output.metadata[EXEC_MIME_TYPE][\"server_id\"];\n",
       "    }\n",
       "  }\n",
       "\n",
       "  function register_renderer(events, OutputArea) {\n",
       "\n",
       "    function append_mime(data, metadata, element) {\n",
       "      // create a DOM node to render to\n",
       "      var toinsert = this.create_output_subarea(\n",
       "        metadata,\n",
       "        CLASS_NAME,\n",
       "        EXEC_MIME_TYPE\n",
       "      );\n",
       "      this.keyboard_manager.register_events(toinsert);\n",
       "      // Render to node\n",
       "      var props = {data: data, metadata: metadata[EXEC_MIME_TYPE]};\n",
       "      render(props, toinsert[toinsert.length - 1]);\n",
       "      element.append(toinsert);\n",
       "      return toinsert\n",
       "    }\n",
       "\n",
       "    /* Handle when an output is cleared or removed */\n",
       "    events.on('clear_output.CodeCell', handleClearOutput);\n",
       "    events.on('delete.Cell', handleClearOutput);\n",
       "\n",
       "    /* Handle when a new output is added */\n",
       "    events.on('output_added.OutputArea', handleAddOutput);\n",
       "\n",
       "    /**\n",
       "     * Register the mime type and append_mime function with output_area\n",
       "     */\n",
       "    OutputArea.prototype.register_mime_type(EXEC_MIME_TYPE, append_mime, {\n",
       "      /* Is output safe? */\n",
       "      safe: true,\n",
       "      /* Index of renderer in `output_area.display_order` */\n",
       "      index: 0\n",
       "    });\n",
       "  }\n",
       "\n",
       "  // register the mime type if in Jupyter Notebook environment and previously unregistered\n",
       "  if (root.Jupyter !== undefined) {\n",
       "    var events = require('base/js/events');\n",
       "    var OutputArea = require('notebook/js/outputarea').OutputArea;\n",
       "\n",
       "    if (OutputArea.prototype.mime_types().indexOf(EXEC_MIME_TYPE) == -1) {\n",
       "      register_renderer(events, OutputArea);\n",
       "    }\n",
       "  }\n",
       "\n",
       "  \n",
       "  if (typeof (root._bokeh_timeout) === \"undefined\" || force === true) {\n",
       "    root._bokeh_timeout = Date.now() + 5000;\n",
       "    root._bokeh_failed_load = false;\n",
       "  }\n",
       "\n",
       "  var NB_LOAD_WARNING = {'data': {'text/html':\n",
       "     \"<div style='background-color: #fdd'>\\n\"+\n",
       "     \"<p>\\n\"+\n",
       "     \"BokehJS does not appear to have successfully loaded. If loading BokehJS from CDN, this \\n\"+\n",
       "     \"may be due to a slow or bad network connection. Possible fixes:\\n\"+\n",
       "     \"</p>\\n\"+\n",
       "     \"<ul>\\n\"+\n",
       "     \"<li>re-rerun `output_notebook()` to attempt to load from CDN again, or</li>\\n\"+\n",
       "     \"<li>use INLINE resources instead, as so:</li>\\n\"+\n",
       "     \"</ul>\\n\"+\n",
       "     \"<code>\\n\"+\n",
       "     \"from bokeh.resources import INLINE\\n\"+\n",
       "     \"output_notebook(resources=INLINE)\\n\"+\n",
       "     \"</code>\\n\"+\n",
       "     \"</div>\"}};\n",
       "\n",
       "  function display_loaded() {\n",
       "    var el = document.getElementById(\"1001\");\n",
       "    if (el != null) {\n",
       "      el.textContent = \"BokehJS is loading...\";\n",
       "    }\n",
       "    if (root.Bokeh !== undefined) {\n",
       "      if (el != null) {\n",
       "        el.textContent = \"BokehJS \" + root.Bokeh.version + \" successfully loaded.\";\n",
       "      }\n",
       "    } else if (Date.now() < root._bokeh_timeout) {\n",
       "      setTimeout(display_loaded, 100)\n",
       "    }\n",
       "  }\n",
       "\n",
       "\n",
       "  function run_callbacks() {\n",
       "    try {\n",
       "      root._bokeh_onload_callbacks.forEach(function(callback) {\n",
       "        if (callback != null)\n",
       "          callback();\n",
       "      });\n",
       "    } finally {\n",
       "      delete root._bokeh_onload_callbacks\n",
       "    }\n",
       "    console.debug(\"Bokeh: all callbacks have finished\");\n",
       "  }\n",
       "\n",
       "  function load_libs(css_urls, js_urls, callback) {\n",
       "    if (css_urls == null) css_urls = [];\n",
       "    if (js_urls == null) js_urls = [];\n",
       "\n",
       "    root._bokeh_onload_callbacks.push(callback);\n",
       "    if (root._bokeh_is_loading > 0) {\n",
       "      console.debug(\"Bokeh: BokehJS is being loaded, scheduling callback at\", now());\n",
       "      return null;\n",
       "    }\n",
       "    if (js_urls == null || js_urls.length === 0) {\n",
       "      run_callbacks();\n",
       "      return null;\n",
       "    }\n",
       "    console.debug(\"Bokeh: BokehJS not loaded, scheduling load and callback at\", now());\n",
       "    root._bokeh_is_loading = css_urls.length + js_urls.length;\n",
       "\n",
       "    function on_load() {\n",
       "      root._bokeh_is_loading--;\n",
       "      if (root._bokeh_is_loading === 0) {\n",
       "        console.debug(\"Bokeh: all BokehJS libraries/stylesheets loaded\");\n",
       "        run_callbacks()\n",
       "      }\n",
       "    }\n",
       "\n",
       "    function on_error() {\n",
       "      console.error(\"failed to load \" + url);\n",
       "    }\n",
       "\n",
       "    for (var i = 0; i < css_urls.length; i++) {\n",
       "      var url = css_urls[i];\n",
       "      const element = document.createElement(\"link\");\n",
       "      element.onload = on_load;\n",
       "      element.onerror = on_error;\n",
       "      element.rel = \"stylesheet\";\n",
       "      element.type = \"text/css\";\n",
       "      element.href = url;\n",
       "      console.debug(\"Bokeh: injecting link tag for BokehJS stylesheet: \", url);\n",
       "      document.body.appendChild(element);\n",
       "    }\n",
       "\n",
       "    for (var i = 0; i < js_urls.length; i++) {\n",
       "      var url = js_urls[i];\n",
       "      var element = document.createElement('script');\n",
       "      element.onload = on_load;\n",
       "      element.onerror = on_error;\n",
       "      element.async = false;\n",
       "      element.src = url;\n",
       "      console.debug(\"Bokeh: injecting script tag for BokehJS library: \", url);\n",
       "      document.head.appendChild(element);\n",
       "    }\n",
       "  };var element = document.getElementById(\"1001\");\n",
       "  if (element == null) {\n",
       "    console.error(\"Bokeh: ERROR: autoload.js configured with elementid '1001' but no matching script tag was found. \")\n",
       "    return false;\n",
       "  }\n",
       "\n",
       "  function inject_raw_css(css) {\n",
       "    const element = document.createElement(\"style\");\n",
       "    element.appendChild(document.createTextNode(css));\n",
       "    document.body.appendChild(element);\n",
       "  }\n",
       "\n",
       "  var js_urls = [\"https://cdn.pydata.org/bokeh/release/bokeh-1.2.0.min.js\", \"https://cdn.pydata.org/bokeh/release/bokeh-widgets-1.2.0.min.js\", \"https://cdn.pydata.org/bokeh/release/bokeh-tables-1.2.0.min.js\", \"https://cdn.pydata.org/bokeh/release/bokeh-gl-1.2.0.min.js\"];\n",
       "  var css_urls = [\"https://cdn.pydata.org/bokeh/release/bokeh-1.2.0.min.css\", \"https://cdn.pydata.org/bokeh/release/bokeh-widgets-1.2.0.min.css\", \"https://cdn.pydata.org/bokeh/release/bokeh-tables-1.2.0.min.css\"];\n",
       "\n",
       "  var inline_js = [\n",
       "    function(Bokeh) {\n",
       "      Bokeh.set_log_level(\"info\");\n",
       "    },\n",
       "    \n",
       "    function(Bokeh) {\n",
       "      \n",
       "    },\n",
       "    function(Bokeh) {} // ensure no trailing comma for IE\n",
       "  ];\n",
       "\n",
       "  function run_inline_js() {\n",
       "    \n",
       "    if ((root.Bokeh !== undefined) || (force === true)) {\n",
       "      for (var i = 0; i < inline_js.length; i++) {\n",
       "        inline_js[i].call(root, root.Bokeh);\n",
       "      }if (force === true) {\n",
       "        display_loaded();\n",
       "      }} else if (Date.now() < root._bokeh_timeout) {\n",
       "      setTimeout(run_inline_js, 100);\n",
       "    } else if (!root._bokeh_failed_load) {\n",
       "      console.log(\"Bokeh: BokehJS failed to load within specified timeout.\");\n",
       "      root._bokeh_failed_load = true;\n",
       "    } else if (force !== true) {\n",
       "      var cell = $(document.getElementById(\"1001\")).parents('.cell').data().cell;\n",
       "      cell.output_area.append_execute_result(NB_LOAD_WARNING)\n",
       "    }\n",
       "\n",
       "  }\n",
       "\n",
       "  if (root._bokeh_is_loading === 0) {\n",
       "    console.debug(\"Bokeh: BokehJS loaded, going straight to plotting\");\n",
       "    run_inline_js();\n",
       "  } else {\n",
       "    load_libs(css_urls, js_urls, function() {\n",
       "      console.debug(\"Bokeh: BokehJS plotting callback run at\", now());\n",
       "      run_inline_js();\n",
       "    });\n",
       "  }\n",
       "}(window));"
      ],
      "application/vnd.bokehjs_load.v0+json": "\n(function(root) {\n  function now() {\n    return new Date();\n  }\n\n  var force = true;\n\n  if (typeof root._bokeh_onload_callbacks === \"undefined\" || force === true) {\n    root._bokeh_onload_callbacks = [];\n    root._bokeh_is_loading = undefined;\n  }\n\n  \n\n  \n  if (typeof (root._bokeh_timeout) === \"undefined\" || force === true) {\n    root._bokeh_timeout = Date.now() + 5000;\n    root._bokeh_failed_load = false;\n  }\n\n  var NB_LOAD_WARNING = {'data': {'text/html':\n     \"<div style='background-color: #fdd'>\\n\"+\n     \"<p>\\n\"+\n     \"BokehJS does not appear to have successfully loaded. If loading BokehJS from CDN, this \\n\"+\n     \"may be due to a slow or bad network connection. Possible fixes:\\n\"+\n     \"</p>\\n\"+\n     \"<ul>\\n\"+\n     \"<li>re-rerun `output_notebook()` to attempt to load from CDN again, or</li>\\n\"+\n     \"<li>use INLINE resources instead, as so:</li>\\n\"+\n     \"</ul>\\n\"+\n     \"<code>\\n\"+\n     \"from bokeh.resources import INLINE\\n\"+\n     \"output_notebook(resources=INLINE)\\n\"+\n     \"</code>\\n\"+\n     \"</div>\"}};\n\n  function display_loaded() {\n    var el = document.getElementById(\"1001\");\n    if (el != null) {\n      el.textContent = \"BokehJS is loading...\";\n    }\n    if (root.Bokeh !== undefined) {\n      if (el != null) {\n        el.textContent = \"BokehJS \" + root.Bokeh.version + \" successfully loaded.\";\n      }\n    } else if (Date.now() < root._bokeh_timeout) {\n      setTimeout(display_loaded, 100)\n    }\n  }\n\n\n  function run_callbacks() {\n    try {\n      root._bokeh_onload_callbacks.forEach(function(callback) {\n        if (callback != null)\n          callback();\n      });\n    } finally {\n      delete root._bokeh_onload_callbacks\n    }\n    console.debug(\"Bokeh: all callbacks have finished\");\n  }\n\n  function load_libs(css_urls, js_urls, callback) {\n    if (css_urls == null) css_urls = [];\n    if (js_urls == null) js_urls = [];\n\n    root._bokeh_onload_callbacks.push(callback);\n    if (root._bokeh_is_loading > 0) {\n      console.debug(\"Bokeh: BokehJS is being loaded, scheduling callback at\", now());\n      return null;\n    }\n    if (js_urls == null || js_urls.length === 0) {\n      run_callbacks();\n      return null;\n    }\n    console.debug(\"Bokeh: BokehJS not loaded, scheduling load and callback at\", now());\n    root._bokeh_is_loading = css_urls.length + js_urls.length;\n\n    function on_load() {\n      root._bokeh_is_loading--;\n      if (root._bokeh_is_loading === 0) {\n        console.debug(\"Bokeh: all BokehJS libraries/stylesheets loaded\");\n        run_callbacks()\n      }\n    }\n\n    function on_error() {\n      console.error(\"failed to load \" + url);\n    }\n\n    for (var i = 0; i < css_urls.length; i++) {\n      var url = css_urls[i];\n      const element = document.createElement(\"link\");\n      element.onload = on_load;\n      element.onerror = on_error;\n      element.rel = \"stylesheet\";\n      element.type = \"text/css\";\n      element.href = url;\n      console.debug(\"Bokeh: injecting link tag for BokehJS stylesheet: \", url);\n      document.body.appendChild(element);\n    }\n\n    for (var i = 0; i < js_urls.length; i++) {\n      var url = js_urls[i];\n      var element = document.createElement('script');\n      element.onload = on_load;\n      element.onerror = on_error;\n      element.async = false;\n      element.src = url;\n      console.debug(\"Bokeh: injecting script tag for BokehJS library: \", url);\n      document.head.appendChild(element);\n    }\n  };var element = document.getElementById(\"1001\");\n  if (element == null) {\n    console.error(\"Bokeh: ERROR: autoload.js configured with elementid '1001' but no matching script tag was found. \")\n    return false;\n  }\n\n  function inject_raw_css(css) {\n    const element = document.createElement(\"style\");\n    element.appendChild(document.createTextNode(css));\n    document.body.appendChild(element);\n  }\n\n  var js_urls = [\"https://cdn.pydata.org/bokeh/release/bokeh-1.2.0.min.js\", \"https://cdn.pydata.org/bokeh/release/bokeh-widgets-1.2.0.min.js\", \"https://cdn.pydata.org/bokeh/release/bokeh-tables-1.2.0.min.js\", \"https://cdn.pydata.org/bokeh/release/bokeh-gl-1.2.0.min.js\"];\n  var css_urls = [\"https://cdn.pydata.org/bokeh/release/bokeh-1.2.0.min.css\", \"https://cdn.pydata.org/bokeh/release/bokeh-widgets-1.2.0.min.css\", \"https://cdn.pydata.org/bokeh/release/bokeh-tables-1.2.0.min.css\"];\n\n  var inline_js = [\n    function(Bokeh) {\n      Bokeh.set_log_level(\"info\");\n    },\n    \n    function(Bokeh) {\n      \n    },\n    function(Bokeh) {} // ensure no trailing comma for IE\n  ];\n\n  function run_inline_js() {\n    \n    if ((root.Bokeh !== undefined) || (force === true)) {\n      for (var i = 0; i < inline_js.length; i++) {\n        inline_js[i].call(root, root.Bokeh);\n      }if (force === true) {\n        display_loaded();\n      }} else if (Date.now() < root._bokeh_timeout) {\n      setTimeout(run_inline_js, 100);\n    } else if (!root._bokeh_failed_load) {\n      console.log(\"Bokeh: BokehJS failed to load within specified timeout.\");\n      root._bokeh_failed_load = true;\n    } else if (force !== true) {\n      var cell = $(document.getElementById(\"1001\")).parents('.cell').data().cell;\n      cell.output_area.append_execute_result(NB_LOAD_WARNING)\n    }\n\n  }\n\n  if (root._bokeh_is_loading === 0) {\n    console.debug(\"Bokeh: BokehJS loaded, going straight to plotting\");\n    run_inline_js();\n  } else {\n    load_libs(css_urls, js_urls, function() {\n      console.debug(\"Bokeh: BokehJS plotting callback run at\", now());\n      run_inline_js();\n    });\n  }\n}(window));"
     },
     "metadata": {},
     "output_type": "display_data"
    }
   ],
   "source": [
    "from bokeh.io import show, output_notebook\n",
    "from bokeh.layouts import gridplot\n",
    "from bokeh.models.scales import LogScale\n",
    "output_notebook()"
   ]
  },
  {
   "cell_type": "markdown",
   "id": "13bf97b9-8d6d-4f53-b14f-c8b3e1b23909",
   "metadata": {},
   "source": [
    "## Read data"
   ]
  },
  {
   "cell_type": "code",
   "execution_count": 3,
   "id": "1d38501a-ec87-4ddf-a3fe-b56009f44ec1",
   "metadata": {},
   "outputs": [],
   "source": [
    "BASE_DIR = '/home/olavur/experiments/2020-11-13_fargen1_exome_analysis'"
   ]
  },
  {
   "cell_type": "code",
   "execution_count": 4,
   "id": "f2a47e57-2881-40f4-b246-a23a9a60129e",
   "metadata": {},
   "outputs": [],
   "source": [
    "import pandas as pd\n",
    "import numpy as np"
   ]
  },
  {
   "cell_type": "code",
   "execution_count": 5,
   "id": "a8d46694-46c6-4ccb-9305-736918f0cbd9",
   "metadata": {},
   "outputs": [],
   "source": [
    "mt = hl.read_matrix_table(BASE_DIR + '/data/mt/variants.mt/')"
   ]
  },
  {
   "cell_type": "code",
   "execution_count": 6,
   "id": "b14be202-b77f-4157-8874-1a717d807e5f",
   "metadata": {},
   "outputs": [
    {
     "name": "stdout",
     "output_type": "stream",
     "text": [
      "Number of variants: 911929\n",
      "Number of samples: 473\n"
     ]
    }
   ],
   "source": [
    "n_variants, n_samples = mt.count()\n",
    "print('Number of variants: {n}\\nNumber of samples: {m}'.format(n=n_variants, m=n_samples))"
   ]
  },
  {
   "cell_type": "markdown",
   "id": "b7b64e75-c071-47ed-b3e8-d5ca9348fe7d",
   "metadata": {},
   "source": [
    "## Folded Site Frequency Spectrum (FSFS)\n",
    "\n",
    "Let $f_i$ be the *site frequency* of bin $i$, where bin $i$ corresponds to some range of *allele frequencies*. We are going to compute the folded frequencies $f^*_i = f_i + f_{n-i}$.\n",
    "\n",
    "Example: if we have 10 bins, then $f^*_1 = f_1 + f_{10}$.\n",
    "\n",
    "Below a function that computes the FSFS is defined."
   ]
  },
  {
   "cell_type": "code",
   "execution_count": 7,
   "id": "8819996f-3bd0-4e73-b07f-03af210b0d8b",
   "metadata": {},
   "outputs": [],
   "source": [
    "def fsfs(n_bins, ht, af_exprs):\n",
    "    # Make sure the number of bins is an even number.\n",
    "    assert n_bins % 2 == 0, 'Number of bins must be an even number.'\n",
    "    hist_struct = ht.aggregate(hl.agg.hist(af_exprs, 0, 1, n_bins))\n",
    "\n",
    "    # Allele frequency.\n",
    "    allele_freq = hist_struct.bin_edges\n",
    "\n",
    "    # The site count is the number of times frequencies in each bin is observed.\n",
    "    site_counts = np.array(hist_struct.bin_freq)\n",
    "\n",
    "    # Calculate site frequencies.\n",
    "    n_sites = sum(site_counts)\n",
    "    site_freq = site_counts / n_sites\n",
    "\n",
    "    # Calculate folded site-frequencies.\n",
    "    half = int(n_bins/2)\n",
    "    folded_site_freq = site_freq[:half] + site_freq[:half-1:-1]\n",
    "\n",
    "    # Make a Hail table with the allele counts and site frequencies.\n",
    "    fsfs_table = []\n",
    "    for ac, fc in zip(allele_freq, folded_site_freq):\n",
    "        row = {'af': ac, 'ff': fc}\n",
    "        fsfs_table.append(row)\n",
    "\n",
    "    # Make a table where each row is a bin, and each row contains the allele frequency and the folded site-frequency.\n",
    "    ht_fsfs = hl.Table.parallelize(hl.literal(fsfs_table, 'array<struct{af:float32,ff:float32}>'))\n",
    "\n",
    "    return ht_fsfs"
   ]
  },
  {
   "cell_type": "code",
   "execution_count": 8,
   "id": "61b3259b-c135-4a03-984c-f903da59bdad",
   "metadata": {},
   "outputs": [
    {
     "name": "stderr",
     "output_type": "stream",
     "text": [
      "[Stage 0:====================================>                   (24 + 13) / 37]"
     ]
    }
   ],
   "source": [
    "mt = hl.variant_qc(mt)\n",
    "\n",
    "rows_ht = mt.rows()\n",
    "\n",
    "fsfs_ht = fsfs(50, rows_ht, rows_ht.variant_qc.AF[1])"
   ]
  },
  {
   "cell_type": "code",
   "execution_count": 9,
   "id": "32b9d181-fda0-415a-a58f-ac5d14091fa4",
   "metadata": {},
   "outputs": [
    {
     "data": {
      "text/html": [
       "\n",
       "\n",
       "\n",
       "\n",
       "\n",
       "\n",
       "  <div class=\"bk-root\" id=\"f6495f4b-b574-4e1d-80ad-80f47948c4f9\" data-root-id=\"1002\"></div>\n"
      ]
     },
     "metadata": {},
     "output_type": "display_data"
    },
    {
     "data": {
      "application/javascript": [
       "(function(root) {\n",
       "  function embed_document(root) {\n",
       "    \n",
       "  var docs_json = {\"df8eaa12-e3a3-47ba-a027-41c1e6ae3994\":{\"roots\":{\"references\":[{\"attributes\":{\"below\":[{\"id\":\"1012\",\"type\":\"LinearAxis\"}],\"center\":[{\"id\":\"1016\",\"type\":\"Grid\"},{\"id\":\"1021\",\"type\":\"Grid\"}],\"left\":[{\"id\":\"1017\",\"type\":\"LinearAxis\"}],\"plot_height\":400,\"plot_width\":800,\"renderers\":[{\"id\":\"1041\",\"type\":\"GlyphRenderer\"}],\"title\":null,\"toolbar\":{\"id\":\"1028\",\"type\":\"Toolbar\"},\"x_range\":{\"id\":\"1004\",\"type\":\"DataRange1d\"},\"x_scale\":{\"id\":\"1008\",\"type\":\"LinearScale\"},\"y_range\":{\"id\":\"1006\",\"type\":\"DataRange1d\"},\"y_scale\":{\"id\":\"1010\",\"type\":\"LinearScale\"}},\"id\":\"1002\",\"subtype\":\"Figure\",\"type\":\"Plot\"},{\"attributes\":{\"axis_label\":\"Frequency in population\",\"formatter\":{\"id\":\"1047\",\"type\":\"BasicTickFormatter\"},\"ticker\":{\"id\":\"1018\",\"type\":\"BasicTicker\"}},\"id\":\"1017\",\"type\":\"LinearAxis\"},{\"attributes\":{\"callback\":null,\"data\":{\"index\":[0,1,2,3,4,5,6,7,8,9,10,11,12,13,14,15,16,17,18,19,20,21,22,23,24],\"x\":{\"__ndarray__\":\"AAAAAAAAAAAAAABA4XqUPwAAAEDheqQ/AAAA4FG4rj8AAABA4Xq0PwAAAKCZmbk/AAAA4FG4vj8AAAAghevBPwAAAEDhesQ/AAAAgD0Kxz8AAACgmZnJPwAAAMD1KMw/AAAA4FG4zj8AAAAA16PQPwAAACCF69E/AAAAQDMz0z8AAABA4XrUPwAAAGCPwtU/AAAAgD0K1z8AAACA61HYPwAAAKCZmdk/AAAAoEfh2j8AAADA9SjcPwAAAOCjcN0/AAAA4FG43j8=\",\"dtype\":\"float64\",\"shape\":[25]},\"y\":{\"__ndarray__\":\"AAAA4AsI4T8AAABAmy/APwAAAKDdwq0/AAAAwE6ooj8AAACg8YObPwAAAEACDJY/AAAA4FVmkj8AAABgsCWQPwAAAGDYL4w/AAAAYI5wij8AAACAhKuIPwAAAMAd14U/AAAAQC/dgz8AAADgGyyDPwAAAKCzXoM/AAAA4DWtgT8AAADgzlCAPwAAAGA7yIE/AAAAIE7UgT8AAACglNKBPwAAAODpT4I/AAAAoOfYgT8AAADAB9aBPwAAAKCU0oE/AAAAgBZVgj8=\",\"dtype\":\"float64\",\"shape\":[25]}},\"selected\":{\"id\":\"1049\",\"type\":\"Selection\"},\"selection_policy\":{\"id\":\"1048\",\"type\":\"UnionRenderers\"}},\"id\":\"1037\",\"type\":\"ColumnDataSource\"},{\"attributes\":{\"overlay\":{\"id\":\"1050\",\"type\":\"BoxAnnotation\"}},\"id\":\"1024\",\"type\":\"BoxZoomTool\"},{\"attributes\":{\"axis_label\":\"Allele counts\",\"formatter\":{\"id\":\"1045\",\"type\":\"BasicTickFormatter\"},\"ticker\":{\"id\":\"1013\",\"type\":\"BasicTicker\"}},\"id\":\"1012\",\"type\":\"LinearAxis\"},{\"attributes\":{\"fill_color\":{\"value\":\"#1f77b4\"},\"line_color\":{\"value\":\"#1f77b4\"},\"x\":{\"field\":\"x\"},\"y\":{\"field\":\"y\"}},\"id\":\"1039\",\"type\":\"Circle\"},{\"attributes\":{\"source\":{\"id\":\"1037\",\"type\":\"ColumnDataSource\"}},\"id\":\"1042\",\"type\":\"CDSView\"},{\"attributes\":{\"fill_alpha\":{\"value\":0.1},\"fill_color\":{\"value\":\"#1f77b4\"},\"line_alpha\":{\"value\":0.1},\"line_color\":{\"value\":\"#1f77b4\"},\"x\":{\"field\":\"x\"},\"y\":{\"field\":\"y\"}},\"id\":\"1040\",\"type\":\"Circle\"},{\"attributes\":{\"dimension\":1,\"ticker\":{\"id\":\"1018\",\"type\":\"BasicTicker\"}},\"id\":\"1021\",\"type\":\"Grid\"},{\"attributes\":{\"callback\":null},\"id\":\"1004\",\"type\":\"DataRange1d\"},{\"attributes\":{},\"id\":\"1048\",\"type\":\"UnionRenderers\"},{\"attributes\":{},\"id\":\"1026\",\"type\":\"ResetTool\"},{\"attributes\":{},\"id\":\"1047\",\"type\":\"BasicTickFormatter\"},{\"attributes\":{\"bottom_units\":\"screen\",\"fill_alpha\":{\"value\":0.5},\"fill_color\":{\"value\":\"lightgrey\"},\"left_units\":\"screen\",\"level\":\"overlay\",\"line_alpha\":{\"value\":1.0},\"line_color\":{\"value\":\"black\"},\"line_dash\":[4,4],\"line_width\":{\"value\":2},\"render_mode\":\"css\",\"right_units\":\"screen\",\"top_units\":\"screen\"},\"id\":\"1050\",\"type\":\"BoxAnnotation\"},{\"attributes\":{},\"id\":\"1023\",\"type\":\"WheelZoomTool\"},{\"attributes\":{\"callback\":null,\"tooltips\":[[\"x\",\"@x\"],[\"y\",\"@y\"]]},\"id\":\"1036\",\"type\":\"HoverTool\"},{\"attributes\":{},\"id\":\"1022\",\"type\":\"PanTool\"},{\"attributes\":{},\"id\":\"1018\",\"type\":\"BasicTicker\"},{\"attributes\":{},\"id\":\"1010\",\"type\":\"LinearScale\"},{\"attributes\":{},\"id\":\"1045\",\"type\":\"BasicTickFormatter\"},{\"attributes\":{},\"id\":\"1027\",\"type\":\"HelpTool\"},{\"attributes\":{\"ticker\":{\"id\":\"1013\",\"type\":\"BasicTicker\"}},\"id\":\"1016\",\"type\":\"Grid\"},{\"attributes\":{\"active_drag\":\"auto\",\"active_inspect\":\"auto\",\"active_multi\":null,\"active_scroll\":\"auto\",\"active_tap\":\"auto\",\"tools\":[{\"id\":\"1022\",\"type\":\"PanTool\"},{\"id\":\"1023\",\"type\":\"WheelZoomTool\"},{\"id\":\"1024\",\"type\":\"BoxZoomTool\"},{\"id\":\"1025\",\"type\":\"SaveTool\"},{\"id\":\"1026\",\"type\":\"ResetTool\"},{\"id\":\"1027\",\"type\":\"HelpTool\"},{\"id\":\"1036\",\"type\":\"HoverTool\"}]},\"id\":\"1028\",\"type\":\"Toolbar\"},{\"attributes\":{},\"id\":\"1008\",\"type\":\"LinearScale\"},{\"attributes\":{\"callback\":null},\"id\":\"1006\",\"type\":\"DataRange1d\"},{\"attributes\":{},\"id\":\"1049\",\"type\":\"Selection\"},{\"attributes\":{},\"id\":\"1025\",\"type\":\"SaveTool\"},{\"attributes\":{\"data_source\":{\"id\":\"1037\",\"type\":\"ColumnDataSource\"},\"glyph\":{\"id\":\"1039\",\"type\":\"Circle\"},\"hover_glyph\":null,\"muted_glyph\":null,\"nonselection_glyph\":{\"id\":\"1040\",\"type\":\"Circle\"},\"selection_glyph\":null,\"view\":{\"id\":\"1042\",\"type\":\"CDSView\"}},\"id\":\"1041\",\"type\":\"GlyphRenderer\"},{\"attributes\":{},\"id\":\"1013\",\"type\":\"BasicTicker\"}],\"root_ids\":[\"1002\"]},\"title\":\"Bokeh Application\",\"version\":\"1.2.0\"}};\n",
       "  var render_items = [{\"docid\":\"df8eaa12-e3a3-47ba-a027-41c1e6ae3994\",\"roots\":{\"1002\":\"f6495f4b-b574-4e1d-80ad-80f47948c4f9\"}}];\n",
       "  root.Bokeh.embed.embed_items_notebook(docs_json, render_items);\n",
       "\n",
       "  }\n",
       "  if (root.Bokeh !== undefined) {\n",
       "    embed_document(root);\n",
       "  } else {\n",
       "    var attempts = 0;\n",
       "    var timer = setInterval(function(root) {\n",
       "      if (root.Bokeh !== undefined) {\n",
       "        embed_document(root);\n",
       "        clearInterval(timer);\n",
       "      }\n",
       "      attempts++;\n",
       "      if (attempts > 100) {\n",
       "        console.log(\"Bokeh: ERROR: Unable to run BokehJS code because BokehJS library is missing\");\n",
       "        clearInterval(timer);\n",
       "      }\n",
       "    }, 10, root)\n",
       "  }\n",
       "})(window);"
      ],
      "application/vnd.bokehjs_exec.v0+json": ""
     },
     "metadata": {
      "application/vnd.bokehjs_exec.v0+json": {
       "id": "1002"
      }
     },
     "output_type": "display_data"
    }
   ],
   "source": [
    "p = hl.plot.scatter(fsfs_ht.af, fsfs_ht.ff,\n",
    "                    xlabel='Allele counts', ylabel='Frequency in population')\n",
    "p.plot_width = 800\n",
    "p.plot_height = 400\n",
    "show(p)"
   ]
  },
  {
   "cell_type": "markdown",
   "id": "97527ff2-00be-46f2-8a34-6687ddebe527",
   "metadata": {},
   "source": [
    "## FSFS stratified by variant effect"
   ]
  },
  {
   "cell_type": "code",
   "execution_count": 10,
   "id": "fd84e2f8-1630-46f4-ad0a-17ecfe1cc32e",
   "metadata": {},
   "outputs": [],
   "source": [
    "# Get variant impact, effect and gene name.\n",
    "# Split overlapping transcripts into a list.\n",
    "rows_ht = rows_ht.annotate(effect=rows_ht.info.ANN.map(lambda x: x.split('\\|')[1]),\n",
    "                      impact=rows_ht.info.ANN.map(lambda x: x.split('\\|')[2]))\n",
    "# Use only the first transcript.\n",
    "rows_ht = rows_ht.annotate(impact1=rows_ht.impact[0].split('&'), effect1=rows_ht.effect[0].split('&'))"
   ]
  },
  {
   "cell_type": "code",
   "execution_count": 11,
   "id": "8d3c5429-f222-412d-ba97-dcc35ca1d52a",
   "metadata": {},
   "outputs": [
    {
     "name": "stderr",
     "output_type": "stream",
     "text": [
      "[Stage 4:=================================================>       (32 + 5) / 37]"
     ]
    }
   ],
   "source": [
    "n_bins = 50\n",
    "first = True\n",
    "for effect in ['synonymous_variant', 'missense_variant', 'intron_variant']:\n",
    "    temp_ht = rows_ht.filter(rows_ht.effect1.contains(effect))\n",
    "    temp_fsfs_ht = fsfs(n_bins, temp_ht, temp_ht.variant_qc.AF[1])\n",
    "    temp_fsfs_ht = temp_fsfs_ht.annotate(strata=effect)\n",
    "    \n",
    "    if first:\n",
    "        fsfs_ht = temp_fsfs_ht\n",
    "        first = False\n",
    "    else:\n",
    "        fsfs_ht = fsfs_ht.union(temp_fsfs_ht)"
   ]
  },
  {
   "cell_type": "code",
   "execution_count": 12,
   "id": "ea6ab767-9993-48a6-94d9-f6d2c20eb42c",
   "metadata": {},
   "outputs": [
    {
     "data": {
      "text/html": [
       "\n",
       "\n",
       "\n",
       "\n",
       "\n",
       "\n",
       "  <div class=\"bk-root\" id=\"088d3b7d-d1e6-4794-b2e3-1251b39baa6f\" data-root-id=\"1099\"></div>\n"
      ]
     },
     "metadata": {},
     "output_type": "display_data"
    },
    {
     "data": {
      "application/javascript": [
       "(function(root) {\n",
       "  function embed_document(root) {\n",
       "    \n",
       "  var docs_json = {\"366e838e-94e3-4292-b83f-380f06a82d5c\":{\"roots\":{\"references\":[{\"attributes\":{\"below\":[{\"id\":\"1109\",\"type\":\"LinearAxis\"}],\"center\":[{\"id\":\"1113\",\"type\":\"Grid\"},{\"id\":\"1118\",\"type\":\"Grid\"}],\"left\":[{\"id\":\"1114\",\"type\":\"LinearAxis\"},{\"id\":\"1157\",\"type\":\"Legend\"},{\"id\":\"1158\",\"type\":\"ColorBar\"}],\"plot_height\":400,\"plot_width\":800,\"renderers\":[{\"id\":\"1141\",\"type\":\"GlyphRenderer\"},{\"id\":\"1147\",\"type\":\"GlyphRenderer\"},{\"id\":\"1153\",\"type\":\"GlyphRenderer\"}],\"title\":null,\"toolbar\":{\"id\":\"1125\",\"type\":\"Toolbar\"},\"x_range\":{\"id\":\"1101\",\"type\":\"DataRange1d\"},\"x_scale\":{\"id\":\"1105\",\"type\":\"LinearScale\"},\"y_range\":{\"id\":\"1103\",\"type\":\"DataRange1d\"},\"y_scale\":{\"id\":\"1159\",\"type\":\"LogScale\"}},\"id\":\"1099\",\"subtype\":\"Figure\",\"type\":\"Plot\"},{\"attributes\":{\"fill_alpha\":{\"value\":0.1},\"fill_color\":{\"value\":\"#1f77b4\"},\"line_alpha\":{\"value\":0.1},\"line_color\":{\"value\":\"#1f77b4\"},\"x\":{\"field\":\"x\"},\"y\":{\"field\":\"y\"}},\"id\":\"1146\",\"type\":\"Circle\"},{\"attributes\":{\"fill_color\":{\"field\":\"label\",\"transform\":{\"id\":\"1135\",\"type\":\"CategoricalColorMapper\"}},\"line_color\":{\"field\":\"label\",\"transform\":{\"id\":\"1135\",\"type\":\"CategoricalColorMapper\"}},\"x\":{\"field\":\"x\"},\"y\":{\"field\":\"y\"}},\"id\":\"1145\",\"type\":\"Circle\"},{\"attributes\":{\"label\":{\"value\":\"missense_variant\"},\"renderers\":[{\"id\":\"1147\",\"type\":\"GlyphRenderer\"}]},\"id\":\"1155\",\"type\":\"LegendItem\"},{\"attributes\":{},\"id\":\"1122\",\"type\":\"SaveTool\"},{\"attributes\":{},\"id\":\"1124\",\"type\":\"HelpTool\"},{\"attributes\":{},\"id\":\"1176\",\"type\":\"Selection\"},{\"attributes\":{\"dimension\":1,\"ticker\":{\"id\":\"1115\",\"type\":\"BasicTicker\"}},\"id\":\"1118\",\"type\":\"Grid\"},{\"attributes\":{\"callback\":null},\"id\":\"1101\",\"type\":\"DataRange1d\"},{\"attributes\":{\"filters\":[{\"id\":\"1136\",\"type\":\"GroupFilter\"}],\"source\":{\"id\":\"1134\",\"type\":\"ColumnDataSource\"}},\"id\":\"1137\",\"type\":\"CDSView\"},{\"attributes\":{\"filters\":[{\"id\":\"1148\",\"type\":\"GroupFilter\"}],\"source\":{\"id\":\"1134\",\"type\":\"ColumnDataSource\"}},\"id\":\"1149\",\"type\":\"CDSView\"},{\"attributes\":{\"overlay\":{\"id\":\"1177\",\"type\":\"BoxAnnotation\"}},\"id\":\"1121\",\"type\":\"BoxZoomTool\"},{\"attributes\":{\"bottom_units\":\"screen\",\"fill_alpha\":{\"value\":0.5},\"fill_color\":{\"value\":\"lightgrey\"},\"left_units\":\"screen\",\"level\":\"overlay\",\"line_alpha\":{\"value\":1.0},\"line_color\":{\"value\":\"black\"},\"line_dash\":[4,4],\"line_width\":{\"value\":2},\"render_mode\":\"css\",\"right_units\":\"screen\",\"top_units\":\"screen\"},\"id\":\"1177\",\"type\":\"BoxAnnotation\"},{\"attributes\":{\"data_source\":{\"id\":\"1134\",\"type\":\"ColumnDataSource\"},\"glyph\":{\"id\":\"1145\",\"type\":\"Circle\"},\"hover_glyph\":null,\"muted_glyph\":null,\"nonselection_glyph\":{\"id\":\"1146\",\"type\":\"Circle\"},\"selection_glyph\":null,\"view\":{\"id\":\"1143\",\"type\":\"CDSView\"}},\"id\":\"1147\",\"type\":\"GlyphRenderer\"},{\"attributes\":{\"callback\":null},\"id\":\"1103\",\"type\":\"DataRange1d\"},{\"attributes\":{},\"id\":\"1119\",\"type\":\"PanTool\"},{\"attributes\":{\"active_drag\":\"auto\",\"active_inspect\":\"auto\",\"active_multi\":null,\"active_scroll\":\"auto\",\"active_tap\":\"auto\",\"tools\":[{\"id\":\"1119\",\"type\":\"PanTool\"},{\"id\":\"1120\",\"type\":\"WheelZoomTool\"},{\"id\":\"1121\",\"type\":\"BoxZoomTool\"},{\"id\":\"1122\",\"type\":\"SaveTool\"},{\"id\":\"1123\",\"type\":\"ResetTool\"},{\"id\":\"1124\",\"type\":\"HelpTool\"},{\"id\":\"1133\",\"type\":\"HoverTool\"}]},\"id\":\"1125\",\"type\":\"Toolbar\"},{\"attributes\":{\"fill_color\":{\"field\":\"label\",\"transform\":{\"id\":\"1135\",\"type\":\"CategoricalColorMapper\"}},\"line_color\":{\"field\":\"label\",\"transform\":{\"id\":\"1135\",\"type\":\"CategoricalColorMapper\"}},\"x\":{\"field\":\"x\"},\"y\":{\"field\":\"y\"}},\"id\":\"1151\",\"type\":\"Circle\"},{\"attributes\":{\"label\":{\"value\":\"intron_variant\"},\"renderers\":[{\"id\":\"1141\",\"type\":\"GlyphRenderer\"}]},\"id\":\"1154\",\"type\":\"LegendItem\"},{\"attributes\":{\"column_name\":\"label\",\"group\":\"missense_variant\"},\"id\":\"1142\",\"type\":\"GroupFilter\"},{\"attributes\":{\"column_name\":\"label\",\"group\":\"synonymous_variant\"},\"id\":\"1148\",\"type\":\"GroupFilter\"},{\"attributes\":{\"data_source\":{\"id\":\"1134\",\"type\":\"ColumnDataSource\"},\"glyph\":{\"id\":\"1139\",\"type\":\"Circle\"},\"hover_glyph\":null,\"muted_glyph\":null,\"nonselection_glyph\":{\"id\":\"1140\",\"type\":\"Circle\"},\"selection_glyph\":null,\"view\":{\"id\":\"1137\",\"type\":\"CDSView\"}},\"id\":\"1141\",\"type\":\"GlyphRenderer\"},{\"attributes\":{},\"id\":\"1173\",\"type\":\"BasicTicker\"},{\"attributes\":{\"axis_label\":\"Frequency in population\",\"formatter\":{\"id\":\"1172\",\"type\":\"BasicTickFormatter\"},\"ticker\":{\"id\":\"1115\",\"type\":\"BasicTicker\"}},\"id\":\"1114\",\"type\":\"LinearAxis\"},{\"attributes\":{\"callback\":null,\"data\":{\"index\":[0,1,2,3,4,5,6,7,8,9,10,11,12,13,14,15,16,17,18,19,20,21,22,23,24,25,26,27,28,29,30,31,32,33,34,35,36,37,38,39,40,41,42,43,44,45,46,47,48,49,50,51,52,53,54,55,56,57,58,59,60,61,62,63,64,65,66,67,68,69,70,71,72,73,74],\"label\":[\"synonymous_variant\",\"synonymous_variant\",\"synonymous_variant\",\"synonymous_variant\",\"synonymous_variant\",\"synonymous_variant\",\"synonymous_variant\",\"synonymous_variant\",\"synonymous_variant\",\"synonymous_variant\",\"synonymous_variant\",\"synonymous_variant\",\"synonymous_variant\",\"synonymous_variant\",\"synonymous_variant\",\"synonymous_variant\",\"synonymous_variant\",\"synonymous_variant\",\"synonymous_variant\",\"synonymous_variant\",\"synonymous_variant\",\"synonymous_variant\",\"synonymous_variant\",\"synonymous_variant\",\"synonymous_variant\",\"missense_variant\",\"missense_variant\",\"missense_variant\",\"missense_variant\",\"missense_variant\",\"missense_variant\",\"missense_variant\",\"missense_variant\",\"missense_variant\",\"missense_variant\",\"missense_variant\",\"missense_variant\",\"missense_variant\",\"missense_variant\",\"missense_variant\",\"missense_variant\",\"missense_variant\",\"missense_variant\",\"missense_variant\",\"missense_variant\",\"missense_variant\",\"missense_variant\",\"missense_variant\",\"missense_variant\",\"missense_variant\",\"intron_variant\",\"intron_variant\",\"intron_variant\",\"intron_variant\",\"intron_variant\",\"intron_variant\",\"intron_variant\",\"intron_variant\",\"intron_variant\",\"intron_variant\",\"intron_variant\",\"intron_variant\",\"intron_variant\",\"intron_variant\",\"intron_variant\",\"intron_variant\",\"intron_variant\",\"intron_variant\",\"intron_variant\",\"intron_variant\",\"intron_variant\",\"intron_variant\",\"intron_variant\",\"intron_variant\",\"intron_variant\"],\"x\":{\"__ndarray__\":\"AAAAAAAAAAAAAABA4XqUPwAAAEDheqQ/AAAA4FG4rj8AAABA4Xq0PwAAAKCZmbk/AAAA4FG4vj8AAAAghevBPwAAAEDhesQ/AAAAgD0Kxz8AAACgmZnJPwAAAMD1KMw/AAAA4FG4zj8AAAAA16PQPwAAACCF69E/AAAAQDMz0z8AAABA4XrUPwAAAGCPwtU/AAAAgD0K1z8AAACA61HYPwAAAKCZmdk/AAAAoEfh2j8AAADA9SjcPwAAAOCjcN0/AAAA4FG43j8AAAAAAAAAAAAAAEDhepQ/AAAAQOF6pD8AAADgUbiuPwAAAEDherQ/AAAAoJmZuT8AAADgUbi+PwAAACCF68E/AAAAQOF6xD8AAACAPQrHPwAAAKCZmck/AAAAwPUozD8AAADgUbjOPwAAAADXo9A/AAAAIIXr0T8AAABAMzPTPwAAAEDhetQ/AAAAYI/C1T8AAACAPQrXPwAAAIDrUdg/AAAAoJmZ2T8AAACgR+HaPwAAAMD1KNw/AAAA4KNw3T8AAADgUbjePwAAAAAAAAAAAAAAQOF6lD8AAABA4XqkPwAAAOBRuK4/AAAAQOF6tD8AAACgmZm5PwAAAOBRuL4/AAAAIIXrwT8AAABA4XrEPwAAAIA9Csc/AAAAoJmZyT8AAADA9SjMPwAAAOBRuM4/AAAAANej0D8AAAAghevRPwAAAEAzM9M/AAAAQOF61D8AAABgj8LVPwAAAIA9Ctc/AAAAgOtR2D8AAACgmZnZPwAAAKBH4do/AAAAwPUo3D8AAADgo3DdPwAAAOBRuN4/\",\"dtype\":\"float64\",\"shape\":[75]},\"y\":{\"__ndarray__\":\"AAAAgONI3j8AAACAW/G5PwAAAMDxX6w/AAAAQGMxoz8AAABASdWfPwAAAACj25o/AAAAgK7flj8AAAAAV2qTPwAAAGBroJI/AAAAYPNukT8AAABguWGQPwAAAABq0o4/AAAAQN0pjT8AAAAAJ5OKPwAAAGDlmIw/AAAAQGkPiz8AAAAAcT2JPwAAAKCBXIk/AAAAQLO5iT8AAACg9XaLPwAAACB5rIg/AAAAYB6iiD8AAADAPyGKPwAAAID9pIk/AAAA4B4kiz8AAABAHQLjPwAAAADjo7o/AAAA4CMIqT8AAABgOzKgPwAAAOCxEJc/AAAAwJwakz8AAACA0vCQPwAAAKA+C48/AAAA4NWxiD8AAADA9YqHPwAAAGDQpIY/AAAA4PRMgz8AAABA5WOBPwAAAOCCVYE/AAAAoABugj8AAABgyBSBPwAAAABdn34/AAAAIJcNgT8AAACgcSeAPwAAAMBI534/AAAA4HsDgD8AAAAghMp+PwAAAMD6kH4/AAAAAF2ffj8AAACglciBPwAAAEBIwOA/AAAAYNXEwD8AAADg5IeuPwAAAACKZKM/AAAAoNglnD8AAABgdz6WPwAAAGAHn5I/AAAAQEs8kD8AAADAwKaLPwAAAEDk64o/AAAAQC1riT8AAACgFu6FPwAAAKApkIM/AAAAAH0qgz8AAABg7dOCPwAAACAwdIE/AAAA4Is5gD8AAADAJ6CBPwAAAAAVA4I/AAAAYFFtgT8AAAAAZAWDPwAAAGBRFoI/AAAAwCeggT8AAACAiT+CPwAAAGBqO4I/\",\"dtype\":\"float64\",\"shape\":[75]}},\"selected\":{\"id\":\"1176\",\"type\":\"Selection\"},\"selection_policy\":{\"id\":\"1175\",\"type\":\"UnionRenderers\"}},\"id\":\"1134\",\"type\":\"ColumnDataSource\"},{\"attributes\":{\"axis_label\":\"Allele counts\",\"formatter\":{\"id\":\"1170\",\"type\":\"BasicTickFormatter\"},\"ticker\":{\"id\":\"1110\",\"type\":\"BasicTicker\"}},\"id\":\"1109\",\"type\":\"LinearAxis\"},{\"attributes\":{},\"id\":\"1115\",\"type\":\"BasicTicker\"},{\"attributes\":{},\"id\":\"1159\",\"type\":\"LogScale\"},{\"attributes\":{\"fill_alpha\":{\"value\":0.1},\"fill_color\":{\"value\":\"#1f77b4\"},\"line_alpha\":{\"value\":0.1},\"line_color\":{\"value\":\"#1f77b4\"},\"x\":{\"field\":\"x\"},\"y\":{\"field\":\"y\"}},\"id\":\"1152\",\"type\":\"Circle\"},{\"attributes\":{},\"id\":\"1174\",\"type\":\"BasicTickFormatter\"},{\"attributes\":{\"data_source\":{\"id\":\"1134\",\"type\":\"ColumnDataSource\"},\"glyph\":{\"id\":\"1151\",\"type\":\"Circle\"},\"hover_glyph\":null,\"muted_glyph\":null,\"nonselection_glyph\":{\"id\":\"1152\",\"type\":\"Circle\"},\"selection_glyph\":null,\"view\":{\"id\":\"1149\",\"type\":\"CDSView\"}},\"id\":\"1153\",\"type\":\"GlyphRenderer\"},{\"attributes\":{},\"id\":\"1172\",\"type\":\"BasicTickFormatter\"},{\"attributes\":{\"factors\":[\"missense_variant\",\"synonymous_variant\",\"intron_variant\"],\"palette\":[\"#1f77b4\",\"#ff7f0e\",\"#2ca02c\",\"#d62728\",\"#9467bd\",\"#8c564b\",\"#e377c2\",\"#7f7f7f\",\"#bcbd22\",\"#17becf\"]},\"id\":\"1135\",\"type\":\"CategoricalColorMapper\"},{\"attributes\":{},\"id\":\"1105\",\"type\":\"LinearScale\"},{\"attributes\":{},\"id\":\"1120\",\"type\":\"WheelZoomTool\"},{\"attributes\":{\"column_name\":\"label\",\"group\":\"intron_variant\"},\"id\":\"1136\",\"type\":\"GroupFilter\"},{\"attributes\":{\"filters\":[{\"id\":\"1142\",\"type\":\"GroupFilter\"}],\"source\":{\"id\":\"1134\",\"type\":\"ColumnDataSource\"}},\"id\":\"1143\",\"type\":\"CDSView\"},{\"attributes\":{},\"id\":\"1123\",\"type\":\"ResetTool\"},{\"attributes\":{\"label\":{\"value\":\"synonymous_variant\"},\"renderers\":[{\"id\":\"1153\",\"type\":\"GlyphRenderer\"}]},\"id\":\"1156\",\"type\":\"LegendItem\"},{\"attributes\":{},\"id\":\"1175\",\"type\":\"UnionRenderers\"},{\"attributes\":{\"callback\":null,\"tooltips\":[[\"x\",\"@x\"],[\"y\",\"@y\"],[\"label\",\"@label\"]]},\"id\":\"1133\",\"type\":\"HoverTool\"},{\"attributes\":{\"fill_color\":{\"field\":\"label\",\"transform\":{\"id\":\"1135\",\"type\":\"CategoricalColorMapper\"}},\"line_color\":{\"field\":\"label\",\"transform\":{\"id\":\"1135\",\"type\":\"CategoricalColorMapper\"}},\"x\":{\"field\":\"x\"},\"y\":{\"field\":\"y\"}},\"id\":\"1139\",\"type\":\"Circle\"},{\"attributes\":{\"ticker\":{\"id\":\"1110\",\"type\":\"BasicTicker\"}},\"id\":\"1113\",\"type\":\"Grid\"},{\"attributes\":{\"click_policy\":\"hide\",\"items\":[{\"id\":\"1154\",\"type\":\"LegendItem\"},{\"id\":\"1155\",\"type\":\"LegendItem\"},{\"id\":\"1156\",\"type\":\"LegendItem\"}]},\"id\":\"1157\",\"type\":\"Legend\"},{\"attributes\":{\"color_mapper\":null,\"formatter\":{\"id\":\"1174\",\"type\":\"BasicTickFormatter\"},\"ticker\":{\"id\":\"1173\",\"type\":\"BasicTicker\"},\"visible\":false},\"id\":\"1158\",\"type\":\"ColorBar\"},{\"attributes\":{\"fill_alpha\":{\"value\":0.1},\"fill_color\":{\"value\":\"#1f77b4\"},\"line_alpha\":{\"value\":0.1},\"line_color\":{\"value\":\"#1f77b4\"},\"x\":{\"field\":\"x\"},\"y\":{\"field\":\"y\"}},\"id\":\"1140\",\"type\":\"Circle\"},{\"attributes\":{},\"id\":\"1170\",\"type\":\"BasicTickFormatter\"},{\"attributes\":{},\"id\":\"1110\",\"type\":\"BasicTicker\"}],\"root_ids\":[\"1099\"]},\"title\":\"Bokeh Application\",\"version\":\"1.2.0\"}};\n",
       "  var render_items = [{\"docid\":\"366e838e-94e3-4292-b83f-380f06a82d5c\",\"roots\":{\"1099\":\"088d3b7d-d1e6-4794-b2e3-1251b39baa6f\"}}];\n",
       "  root.Bokeh.embed.embed_items_notebook(docs_json, render_items);\n",
       "\n",
       "  }\n",
       "  if (root.Bokeh !== undefined) {\n",
       "    embed_document(root);\n",
       "  } else {\n",
       "    var attempts = 0;\n",
       "    var timer = setInterval(function(root) {\n",
       "      if (root.Bokeh !== undefined) {\n",
       "        embed_document(root);\n",
       "        clearInterval(timer);\n",
       "      }\n",
       "      attempts++;\n",
       "      if (attempts > 100) {\n",
       "        console.log(\"Bokeh: ERROR: Unable to run BokehJS code because BokehJS library is missing\");\n",
       "        clearInterval(timer);\n",
       "      }\n",
       "    }, 10, root)\n",
       "  }\n",
       "})(window);"
      ],
      "application/vnd.bokehjs_exec.v0+json": ""
     },
     "metadata": {
      "application/vnd.bokehjs_exec.v0+json": {
       "id": "1099"
      }
     },
     "output_type": "display_data"
    }
   ],
   "source": [
    "p = hl.plot.scatter(fsfs_ht.af, fsfs_ht.ff, label=fsfs_ht.strata,\n",
    "                    xlabel='Allele counts', ylabel='Frequency in population',\n",
    "                    collect_all=True)\n",
    "p.plot_width = 800\n",
    "p.plot_height = 400\n",
    "p.y_scale = LogScale()\n",
    "show(p)"
   ]
  },
  {
   "cell_type": "markdown",
   "id": "f64a731e-9912-4f34-b6a4-cd5c1537f03d",
   "metadata": {},
   "source": [
    "## FSFS stratified by variant impact"
   ]
  },
  {
   "cell_type": "code",
   "execution_count": 34,
   "id": "d18f5960-3e46-4692-ba2e-fd6d62f42f45",
   "metadata": {},
   "outputs": [
    {
     "name": "stderr",
     "output_type": "stream",
     "text": [
      "[Stage 42:=================================================>      (33 + 4) / 37]"
     ]
    }
   ],
   "source": [
    "n_bins = 50\n",
    "\n",
    "#fsfs_ht = fsfs(n_bins, rows_ht, rows_ht.variant_qc.AF[1])\n",
    "#fsfs_ht = temp_fsfs_ht.annotate(strata='All')\n",
    "    \n",
    "first = True\n",
    "for impact in ['HIGH', 'MODERATE', 'MODIFIER', 'LOW']:\n",
    "    temp_ht = rows_ht.filter(rows_ht.impact1.contains(impact))\n",
    "    temp_fsfs_ht = fsfs(n_bins, temp_ht, temp_ht.variant_qc.AF[1])\n",
    "    temp_fsfs_ht = temp_fsfs_ht.annotate(strata=impact)\n",
    "    \n",
    "    if first:\n",
    "        fsfs_ht = temp_fsfs_ht\n",
    "        first = False\n",
    "    else:\n",
    "        fsfs_ht = fsfs_ht.union(temp_fsfs_ht)"
   ]
  },
  {
   "cell_type": "code",
   "execution_count": 35,
   "id": "3a7bb9c5-93aa-48e7-99df-82ea57a85690",
   "metadata": {},
   "outputs": [
    {
     "data": {
      "text/html": [
       "\n",
       "\n",
       "\n",
       "\n",
       "\n",
       "\n",
       "  <div class=\"bk-root\" id=\"b3526cad-9d0e-4594-b023-1cc4e3df6300\" data-root-id=\"2352\"></div>\n"
      ]
     },
     "metadata": {},
     "output_type": "display_data"
    },
    {
     "data": {
      "application/javascript": [
       "(function(root) {\n",
       "  function embed_document(root) {\n",
       "    \n",
       "  var docs_json = {\"3c27a702-3600-4e8e-96a5-17624b8ace17\":{\"roots\":{\"references\":[{\"attributes\":{\"below\":[{\"id\":\"2362\",\"type\":\"LinearAxis\"}],\"center\":[{\"id\":\"2366\",\"type\":\"Grid\"},{\"id\":\"2371\",\"type\":\"Grid\"}],\"left\":[{\"id\":\"2367\",\"type\":\"LinearAxis\"},{\"id\":\"2417\",\"type\":\"Legend\"},{\"id\":\"2418\",\"type\":\"ColorBar\"}],\"plot_height\":600,\"plot_width\":1200,\"renderers\":[{\"id\":\"2394\",\"type\":\"GlyphRenderer\"},{\"id\":\"2400\",\"type\":\"GlyphRenderer\"},{\"id\":\"2406\",\"type\":\"GlyphRenderer\"},{\"id\":\"2412\",\"type\":\"GlyphRenderer\"}],\"title\":null,\"toolbar\":{\"id\":\"2378\",\"type\":\"Toolbar\"},\"x_range\":{\"id\":\"2354\",\"type\":\"DataRange1d\"},\"x_scale\":{\"id\":\"2358\",\"type\":\"LinearScale\"},\"y_range\":{\"id\":\"2356\",\"type\":\"DataRange1d\"},\"y_scale\":{\"id\":\"2419\",\"type\":\"LogScale\"}},\"id\":\"2352\",\"subtype\":\"Figure\",\"type\":\"Plot\"},{\"attributes\":{\"callback\":null,\"data\":{\"index\":[0,1,2,3,4,5,6,7,8,9,10,11,12,13,14,15,16,17,18,19,20,21,22,23,24,25,26,27,28,29,30,31,32,33,34,35,36,37,38,39,40,41,42,43,44,45,46,47,48,49,50,51,52,53,54,55,56,57,58,59,60,61,62,63,64,65,66,67,68,69,70,71,72,73,74,75,76,77,78,79,80,81,82,83,84,85,86,87,88,89,90,91,92,93,94,95,96,97,98,99],\"label\":[\"HIGH\",\"HIGH\",\"HIGH\",\"HIGH\",\"HIGH\",\"HIGH\",\"HIGH\",\"HIGH\",\"HIGH\",\"HIGH\",\"HIGH\",\"HIGH\",\"HIGH\",\"HIGH\",\"HIGH\",\"HIGH\",\"HIGH\",\"HIGH\",\"HIGH\",\"HIGH\",\"HIGH\",\"HIGH\",\"HIGH\",\"HIGH\",\"HIGH\",\"MODERATE\",\"MODERATE\",\"MODERATE\",\"MODERATE\",\"MODERATE\",\"MODERATE\",\"MODERATE\",\"MODERATE\",\"MODERATE\",\"MODERATE\",\"MODERATE\",\"MODERATE\",\"MODERATE\",\"MODERATE\",\"MODERATE\",\"MODERATE\",\"MODERATE\",\"MODERATE\",\"MODERATE\",\"MODERATE\",\"MODERATE\",\"MODERATE\",\"MODERATE\",\"MODERATE\",\"MODERATE\",\"MODIFIER\",\"MODIFIER\",\"MODIFIER\",\"MODIFIER\",\"MODIFIER\",\"MODIFIER\",\"MODIFIER\",\"MODIFIER\",\"MODIFIER\",\"MODIFIER\",\"MODIFIER\",\"MODIFIER\",\"MODIFIER\",\"MODIFIER\",\"MODIFIER\",\"MODIFIER\",\"MODIFIER\",\"MODIFIER\",\"MODIFIER\",\"MODIFIER\",\"MODIFIER\",\"MODIFIER\",\"MODIFIER\",\"MODIFIER\",\"MODIFIER\",\"LOW\",\"LOW\",\"LOW\",\"LOW\",\"LOW\",\"LOW\",\"LOW\",\"LOW\",\"LOW\",\"LOW\",\"LOW\",\"LOW\",\"LOW\",\"LOW\",\"LOW\",\"LOW\",\"LOW\",\"LOW\",\"LOW\",\"LOW\",\"LOW\",\"LOW\",\"LOW\",\"LOW\",\"LOW\"],\"x\":{\"__ndarray__\":\"AAAAAAAAAAAAAABA4XqUPwAAAEDheqQ/AAAA4FG4rj8AAABA4Xq0PwAAAKCZmbk/AAAA4FG4vj8AAAAghevBPwAAAEDhesQ/AAAAgD0Kxz8AAACgmZnJPwAAAMD1KMw/AAAA4FG4zj8AAAAA16PQPwAAACCF69E/AAAAQDMz0z8AAABA4XrUPwAAAGCPwtU/AAAAgD0K1z8AAACA61HYPwAAAKCZmdk/AAAAoEfh2j8AAADA9SjcPwAAAOCjcN0/AAAA4FG43j8AAAAAAAAAAAAAAEDhepQ/AAAAQOF6pD8AAADgUbiuPwAAAEDherQ/AAAAoJmZuT8AAADgUbi+PwAAACCF68E/AAAAQOF6xD8AAACAPQrHPwAAAKCZmck/AAAAwPUozD8AAADgUbjOPwAAAADXo9A/AAAAIIXr0T8AAABAMzPTPwAAAEDhetQ/AAAAYI/C1T8AAACAPQrXPwAAAIDrUdg/AAAAoJmZ2T8AAACgR+HaPwAAAMD1KNw/AAAA4KNw3T8AAADgUbjePwAAAAAAAAAAAAAAQOF6lD8AAABA4XqkPwAAAOBRuK4/AAAAQOF6tD8AAACgmZm5PwAAAOBRuL4/AAAAIIXrwT8AAABA4XrEPwAAAIA9Csc/AAAAoJmZyT8AAADA9SjMPwAAAOBRuM4/AAAAANej0D8AAAAghevRPwAAAEAzM9M/AAAAQOF61D8AAABgj8LVPwAAAIA9Ctc/AAAAgOtR2D8AAACgmZnZPwAAAKBH4do/AAAAwPUo3D8AAADgo3DdPwAAAOBRuN4/AAAAAAAAAAAAAABA4XqUPwAAAEDheqQ/AAAA4FG4rj8AAABA4Xq0PwAAAKCZmbk/AAAA4FG4vj8AAAAghevBPwAAAEDhesQ/AAAAgD0Kxz8AAACgmZnJPwAAAMD1KMw/AAAA4FG4zj8AAAAA16PQPwAAACCF69E/AAAAQDMz0z8AAABA4XrUPwAAAGCPwtU/AAAAgD0K1z8AAACA61HYPwAAAKCZmdk/AAAAoEfh2j8AAADA9SjcPwAAAOCjcN0/AAAA4FG43j8=\",\"dtype\":\"float64\",\"shape\":[100]},\"y\":{\"__ndarray__\":\"AAAAQDHg5D8AAAAgo5XFPwAAAMBIC64/AAAAoAZznz8AAADgCX2UPwAAAOB8wYo/AAAAgFLxgj8AAAAAxLB+PwAAAGCMKHc/AAAAgC7MdD8AAABARTlzPwAAACDXGmw/AAAAQFBCZj8AAAAAZ69kPwAAAKDQb2I/AAAA4Av7Wj8AAAAAhSJVPwAAAKCTLlk/AAAAoHW7WD8AAABAwQhWPwAAAGAbYlc/AAAA4Eg8VD8AAACAdhZRPwAAAGA6MFA/AAAAYBtiVz8AAABgZyrjPwAAAID72Lo/AAAAIBYlqT8AAABAHs2fPwAAAGBLi5Y/AAAAALiakj8AAACAdtqQPwAAAEBLl44/AAAAwNhOiD8AAACg1guHPwAAAABi8IU/AAAAgPm+gj8AAABAFhmBPwAAAKD7yYA/AAAAQJUTgj8AAAAgvEyAPwAAAKBZxH0/AAAAADW2gD8AAABg+Z5/PwAAAADn630/AAAAYCIbfz8AAADAiNF9PwAAACBugn0/AAAAoIJAfT8AAABAalSBPwAAACBowOA/AAAAYEZowD8AAABgDEiuPwAAAECODaM/AAAAwMMPnD8AAACA5IaWPwAAAODzuJI/AAAA4FBekD8AAAAg78OMPwAAAGBtFYs/AAAAYCQ4iT8AAABAHEWGPwAAAOC7HoQ/AAAAQEqzgz8AAABASaCDPwAAAABH6IE/AAAAwJeDgD8AAACAyASCPwAAAICuS4I/AAAAwCM6gj8AAAAgcveCPwAAAEAdfoI/AAAAwJx0gj8AAABAsYSCPwAAAMAJgYI/AAAAIAtK3z8AAACAPuu8PwAAAEC5ja0/AAAAQGMyoz8AAABgBNGePwAAAMCHKpk/AAAA4P0nlT8AAADguuqSPwAAAABzQ5E/AAAAAKptjz8AAACgumWNPwAAAMDG6Ys/AAAA4CPzij8AAACAl0CHPwAAAADdLYk/AAAAYD+Xhz8AAACg9EmGPwAAAICVfIc/AAAAYPNxhj8AAACg5gGIPwAAACBKQ4Y/AAAAIEwHhj8AAACgR5OGPwAAACBMB4Y/AAAAgDTriD8=\",\"dtype\":\"float64\",\"shape\":[100]}},\"selected\":{\"id\":\"2506\",\"type\":\"Selection\"},\"selection_policy\":{\"id\":\"2505\",\"type\":\"UnionRenderers\"}},\"id\":\"2387\",\"type\":\"ColumnDataSource\"},{\"attributes\":{\"data_source\":{\"id\":\"2387\",\"type\":\"ColumnDataSource\"},\"glyph\":{\"id\":\"2398\",\"type\":\"Circle\"},\"hover_glyph\":null,\"muted_glyph\":null,\"nonselection_glyph\":{\"id\":\"2399\",\"type\":\"Circle\"},\"selection_glyph\":null,\"view\":{\"id\":\"2396\",\"type\":\"CDSView\"}},\"id\":\"2400\",\"type\":\"GlyphRenderer\"},{\"attributes\":{\"fill_alpha\":{\"value\":0.1},\"fill_color\":{\"value\":\"#1f77b4\"},\"line_alpha\":{\"value\":0.1},\"line_color\":{\"value\":\"#1f77b4\"},\"x\":{\"field\":\"x\"},\"y\":{\"field\":\"y\"}},\"id\":\"2405\",\"type\":\"Circle\"},{\"attributes\":{\"label\":{\"value\":\"MODERATE\"},\"renderers\":[{\"id\":\"2406\",\"type\":\"GlyphRenderer\"}]},\"id\":\"2415\",\"type\":\"LegendItem\"},{\"attributes\":{\"column_name\":\"label\",\"group\":\"HIGH\"},\"id\":\"2389\",\"type\":\"GroupFilter\"},{\"attributes\":{\"active_drag\":\"auto\",\"active_inspect\":\"auto\",\"active_multi\":null,\"active_scroll\":\"auto\",\"active_tap\":\"auto\",\"tools\":[{\"id\":\"2372\",\"type\":\"PanTool\"},{\"id\":\"2373\",\"type\":\"WheelZoomTool\"},{\"id\":\"2374\",\"type\":\"BoxZoomTool\"},{\"id\":\"2375\",\"type\":\"SaveTool\"},{\"id\":\"2376\",\"type\":\"ResetTool\"},{\"id\":\"2377\",\"type\":\"HelpTool\"},{\"id\":\"2386\",\"type\":\"HoverTool\"}]},\"id\":\"2378\",\"type\":\"Toolbar\"},{\"attributes\":{},\"id\":\"2419\",\"type\":\"LogScale\"},{\"attributes\":{},\"id\":\"2373\",\"type\":\"WheelZoomTool\"},{\"attributes\":{},\"id\":\"2503\",\"type\":\"BasicTicker\"},{\"attributes\":{},\"id\":\"2506\",\"type\":\"Selection\"},{\"attributes\":{\"fill_alpha\":{\"value\":0.1},\"fill_color\":{\"value\":\"#1f77b4\"},\"line_alpha\":{\"value\":0.1},\"line_color\":{\"value\":\"#1f77b4\"},\"x\":{\"field\":\"x\"},\"y\":{\"field\":\"y\"}},\"id\":\"2399\",\"type\":\"Circle\"},{\"attributes\":{},\"id\":\"2502\",\"type\":\"BasicTickFormatter\"},{\"attributes\":{\"label\":{\"value\":\"LOW\"},\"renderers\":[{\"id\":\"2400\",\"type\":\"GlyphRenderer\"}]},\"id\":\"2414\",\"type\":\"LegendItem\"},{\"attributes\":{\"axis_label\":\"Frequency in population\",\"formatter\":{\"id\":\"2502\",\"type\":\"BasicTickFormatter\"},\"ticker\":{\"id\":\"2368\",\"type\":\"BasicTicker\"}},\"id\":\"2367\",\"type\":\"LinearAxis\"},{\"attributes\":{},\"id\":\"2372\",\"type\":\"PanTool\"},{\"attributes\":{\"fill_color\":{\"field\":\"label\",\"transform\":{\"id\":\"2388\",\"type\":\"CategoricalColorMapper\"}},\"line_color\":{\"field\":\"label\",\"transform\":{\"id\":\"2388\",\"type\":\"CategoricalColorMapper\"}},\"x\":{\"field\":\"x\"},\"y\":{\"field\":\"y\"}},\"id\":\"2410\",\"type\":\"Circle\"},{\"attributes\":{},\"id\":\"2376\",\"type\":\"ResetTool\"},{\"attributes\":{\"label\":{\"value\":\"HIGH\"},\"renderers\":[{\"id\":\"2394\",\"type\":\"GlyphRenderer\"}]},\"id\":\"2413\",\"type\":\"LegendItem\"},{\"attributes\":{\"fill_alpha\":{\"value\":0.1},\"fill_color\":{\"value\":\"#1f77b4\"},\"line_alpha\":{\"value\":0.1},\"line_color\":{\"value\":\"#1f77b4\"},\"x\":{\"field\":\"x\"},\"y\":{\"field\":\"y\"}},\"id\":\"2393\",\"type\":\"Circle\"},{\"attributes\":{\"fill_color\":{\"field\":\"label\",\"transform\":{\"id\":\"2388\",\"type\":\"CategoricalColorMapper\"}},\"line_color\":{\"field\":\"label\",\"transform\":{\"id\":\"2388\",\"type\":\"CategoricalColorMapper\"}},\"x\":{\"field\":\"x\"},\"y\":{\"field\":\"y\"}},\"id\":\"2398\",\"type\":\"Circle\"},{\"attributes\":{\"fill_color\":{\"field\":\"label\",\"transform\":{\"id\":\"2388\",\"type\":\"CategoricalColorMapper\"}},\"line_color\":{\"field\":\"label\",\"transform\":{\"id\":\"2388\",\"type\":\"CategoricalColorMapper\"}},\"x\":{\"field\":\"x\"},\"y\":{\"field\":\"y\"}},\"id\":\"2404\",\"type\":\"Circle\"},{\"attributes\":{},\"id\":\"2377\",\"type\":\"HelpTool\"},{\"attributes\":{},\"id\":\"2358\",\"type\":\"LinearScale\"},{\"attributes\":{\"column_name\":\"label\",\"group\":\"MODERATE\"},\"id\":\"2401\",\"type\":\"GroupFilter\"},{\"attributes\":{\"filters\":[{\"id\":\"2389\",\"type\":\"GroupFilter\"}],\"source\":{\"id\":\"2387\",\"type\":\"ColumnDataSource\"}},\"id\":\"2390\",\"type\":\"CDSView\"},{\"attributes\":{\"callback\":null,\"tooltips\":[[\"x\",\"@x\"],[\"y\",\"@y\"],[\"label\",\"@label\"]]},\"id\":\"2386\",\"type\":\"HoverTool\"},{\"attributes\":{\"click_policy\":\"hide\",\"items\":[{\"id\":\"2413\",\"type\":\"LegendItem\"},{\"id\":\"2414\",\"type\":\"LegendItem\"},{\"id\":\"2415\",\"type\":\"LegendItem\"},{\"id\":\"2416\",\"type\":\"LegendItem\"}]},\"id\":\"2417\",\"type\":\"Legend\"},{\"attributes\":{\"filters\":[{\"id\":\"2401\",\"type\":\"GroupFilter\"}],\"source\":{\"id\":\"2387\",\"type\":\"ColumnDataSource\"}},\"id\":\"2402\",\"type\":\"CDSView\"},{\"attributes\":{\"column_name\":\"label\",\"group\":\"MODIFIER\"},\"id\":\"2407\",\"type\":\"GroupFilter\"},{\"attributes\":{},\"id\":\"2500\",\"type\":\"BasicTickFormatter\"},{\"attributes\":{\"column_name\":\"label\",\"group\":\"LOW\"},\"id\":\"2395\",\"type\":\"GroupFilter\"},{\"attributes\":{},\"id\":\"2505\",\"type\":\"UnionRenderers\"},{\"attributes\":{\"axis_label\":\"Allele counts\",\"formatter\":{\"id\":\"2500\",\"type\":\"BasicTickFormatter\"},\"ticker\":{\"id\":\"2363\",\"type\":\"BasicTicker\"}},\"id\":\"2362\",\"type\":\"LinearAxis\"},{\"attributes\":{},\"id\":\"2368\",\"type\":\"BasicTicker\"},{\"attributes\":{},\"id\":\"2504\",\"type\":\"BasicTickFormatter\"},{\"attributes\":{\"ticker\":{\"id\":\"2363\",\"type\":\"BasicTicker\"}},\"id\":\"2366\",\"type\":\"Grid\"},{\"attributes\":{\"filters\":[{\"id\":\"2407\",\"type\":\"GroupFilter\"}],\"source\":{\"id\":\"2387\",\"type\":\"ColumnDataSource\"}},\"id\":\"2408\",\"type\":\"CDSView\"},{\"attributes\":{\"factors\":[\"LOW\",\"HIGH\",\"MODERATE\",\"MODIFIER\"],\"palette\":[\"#1f77b4\",\"#ff7f0e\",\"#2ca02c\",\"#d62728\",\"#9467bd\",\"#8c564b\",\"#e377c2\",\"#7f7f7f\",\"#bcbd22\",\"#17becf\"]},\"id\":\"2388\",\"type\":\"CategoricalColorMapper\"},{\"attributes\":{\"callback\":null},\"id\":\"2354\",\"type\":\"DataRange1d\"},{\"attributes\":{\"color_mapper\":null,\"formatter\":{\"id\":\"2504\",\"type\":\"BasicTickFormatter\"},\"ticker\":{\"id\":\"2503\",\"type\":\"BasicTicker\"},\"visible\":false},\"id\":\"2418\",\"type\":\"ColorBar\"},{\"attributes\":{\"overlay\":{\"id\":\"2507\",\"type\":\"BoxAnnotation\"}},\"id\":\"2374\",\"type\":\"BoxZoomTool\"},{\"attributes\":{\"callback\":null},\"id\":\"2356\",\"type\":\"DataRange1d\"},{\"attributes\":{\"data_source\":{\"id\":\"2387\",\"type\":\"ColumnDataSource\"},\"glyph\":{\"id\":\"2404\",\"type\":\"Circle\"},\"hover_glyph\":null,\"muted_glyph\":null,\"nonselection_glyph\":{\"id\":\"2405\",\"type\":\"Circle\"},\"selection_glyph\":null,\"view\":{\"id\":\"2402\",\"type\":\"CDSView\"}},\"id\":\"2406\",\"type\":\"GlyphRenderer\"},{\"attributes\":{\"fill_alpha\":{\"value\":0.1},\"fill_color\":{\"value\":\"#1f77b4\"},\"line_alpha\":{\"value\":0.1},\"line_color\":{\"value\":\"#1f77b4\"},\"x\":{\"field\":\"x\"},\"y\":{\"field\":\"y\"}},\"id\":\"2411\",\"type\":\"Circle\"},{\"attributes\":{\"data_source\":{\"id\":\"2387\",\"type\":\"ColumnDataSource\"},\"glyph\":{\"id\":\"2392\",\"type\":\"Circle\"},\"hover_glyph\":null,\"muted_glyph\":null,\"nonselection_glyph\":{\"id\":\"2393\",\"type\":\"Circle\"},\"selection_glyph\":null,\"view\":{\"id\":\"2390\",\"type\":\"CDSView\"}},\"id\":\"2394\",\"type\":\"GlyphRenderer\"},{\"attributes\":{\"dimension\":1,\"ticker\":{\"id\":\"2368\",\"type\":\"BasicTicker\"}},\"id\":\"2371\",\"type\":\"Grid\"},{\"attributes\":{\"bottom_units\":\"screen\",\"fill_alpha\":{\"value\":0.5},\"fill_color\":{\"value\":\"lightgrey\"},\"left_units\":\"screen\",\"level\":\"overlay\",\"line_alpha\":{\"value\":1.0},\"line_color\":{\"value\":\"black\"},\"line_dash\":[4,4],\"line_width\":{\"value\":2},\"render_mode\":\"css\",\"right_units\":\"screen\",\"top_units\":\"screen\"},\"id\":\"2507\",\"type\":\"BoxAnnotation\"},{\"attributes\":{},\"id\":\"2363\",\"type\":\"BasicTicker\"},{\"attributes\":{\"filters\":[{\"id\":\"2395\",\"type\":\"GroupFilter\"}],\"source\":{\"id\":\"2387\",\"type\":\"ColumnDataSource\"}},\"id\":\"2396\",\"type\":\"CDSView\"},{\"attributes\":{},\"id\":\"2375\",\"type\":\"SaveTool\"},{\"attributes\":{\"label\":{\"value\":\"MODIFIER\"},\"renderers\":[{\"id\":\"2412\",\"type\":\"GlyphRenderer\"}]},\"id\":\"2416\",\"type\":\"LegendItem\"},{\"attributes\":{\"fill_color\":{\"field\":\"label\",\"transform\":{\"id\":\"2388\",\"type\":\"CategoricalColorMapper\"}},\"line_color\":{\"field\":\"label\",\"transform\":{\"id\":\"2388\",\"type\":\"CategoricalColorMapper\"}},\"x\":{\"field\":\"x\"},\"y\":{\"field\":\"y\"}},\"id\":\"2392\",\"type\":\"Circle\"},{\"attributes\":{\"data_source\":{\"id\":\"2387\",\"type\":\"ColumnDataSource\"},\"glyph\":{\"id\":\"2410\",\"type\":\"Circle\"},\"hover_glyph\":null,\"muted_glyph\":null,\"nonselection_glyph\":{\"id\":\"2411\",\"type\":\"Circle\"},\"selection_glyph\":null,\"view\":{\"id\":\"2408\",\"type\":\"CDSView\"}},\"id\":\"2412\",\"type\":\"GlyphRenderer\"}],\"root_ids\":[\"2352\"]},\"title\":\"Bokeh Application\",\"version\":\"1.2.0\"}};\n",
       "  var render_items = [{\"docid\":\"3c27a702-3600-4e8e-96a5-17624b8ace17\",\"roots\":{\"2352\":\"b3526cad-9d0e-4594-b023-1cc4e3df6300\"}}];\n",
       "  root.Bokeh.embed.embed_items_notebook(docs_json, render_items);\n",
       "\n",
       "  }\n",
       "  if (root.Bokeh !== undefined) {\n",
       "    embed_document(root);\n",
       "  } else {\n",
       "    var attempts = 0;\n",
       "    var timer = setInterval(function(root) {\n",
       "      if (root.Bokeh !== undefined) {\n",
       "        embed_document(root);\n",
       "        clearInterval(timer);\n",
       "      }\n",
       "      attempts++;\n",
       "      if (attempts > 100) {\n",
       "        console.log(\"Bokeh: ERROR: Unable to run BokehJS code because BokehJS library is missing\");\n",
       "        clearInterval(timer);\n",
       "      }\n",
       "    }, 10, root)\n",
       "  }\n",
       "})(window);"
      ],
      "application/vnd.bokehjs_exec.v0+json": ""
     },
     "metadata": {
      "application/vnd.bokehjs_exec.v0+json": {
       "id": "2352"
      }
     },
     "output_type": "display_data"
    }
   ],
   "source": [
    "p = hl.plot.scatter(fsfs_ht.af, fsfs_ht.ff, label=fsfs_ht.strata,\n",
    "                    xlabel='Allele counts', ylabel='Frequency in population',\n",
    "                    collect_all=True)\n",
    "p.plot_width = 1200\n",
    "p.plot_height = 600\n",
    "p.y_scale = LogScale()\n",
    "show(p)"
   ]
  },
  {
   "cell_type": "code",
   "execution_count": 39,
   "id": "ce9ae48b-5ac3-4f36-a9fd-e06b12b9f719",
   "metadata": {},
   "outputs": [
    {
     "data": {
      "text/plain": [
       "[Struct(af=0.0, ff=0.6523672342300415, strata='HIGH'),\n",
       " Struct(af=0.0, ff=0.5989262461662292, strata='MODERATE'),\n",
       " Struct(af=0.0, ff=0.5234871506690979, strata='MODIFIER'),\n",
       " Struct(af=0.0, ff=0.4888942539691925, strata='LOW')]"
      ]
     },
     "execution_count": 39,
     "metadata": {},
     "output_type": "execute_result"
    }
   ],
   "source": [
    "fsfs_ht.filter(fsfs_ht.af == 0).collect()"
   ]
  },
  {
   "cell_type": "code",
   "execution_count": 41,
   "id": "0d2cc9be-21cf-40c0-82b5-64ab7f16690e",
   "metadata": {},
   "outputs": [
    {
     "data": {
      "text/plain": [
       "[Struct(af=0.47999998927116394, ff=0.0014271991094574332, strata='HIGH'),\n",
       " Struct(af=0.47999998927116394, ff=0.008461790159344673, strata='MODERATE'),\n",
       " Struct(af=0.47999998927116394, ff=0.009035183116793633, strata='MODIFIER'),\n",
       " Struct(af=0.47999998927116394, ff=0.012167368084192276, strata='LOW')]"
      ]
     },
     "execution_count": 41,
     "metadata": {},
     "output_type": "execute_result"
    }
   ],
   "source": [
    "fsfs_ht.filter(fsfs_ht.af > 0.47).collect()"
   ]
  },
  {
   "cell_type": "code",
   "execution_count": 45,
   "id": "2c145c0b-2913-4057-8f6b-654986ae909a",
   "metadata": {},
   "outputs": [
    {
     "data": {
      "text/plain": [
       "8.525347306878468"
      ]
     },
     "execution_count": 45,
     "metadata": {},
     "output_type": "execute_result"
    }
   ],
   "source": [
    "0.012167368084192276/0.0014271991094574332"
   ]
  }
 ],
 "metadata": {
  "kernelspec": {
   "display_name": "Python [conda env:fargen-1-exome]",
   "language": "python",
   "name": "conda-env-fargen-1-exome-py"
  },
  "language_info": {
   "codemirror_mode": {
    "name": "ipython",
    "version": 3
   },
   "file_extension": ".py",
   "mimetype": "text/x-python",
   "name": "python",
   "nbconvert_exporter": "python",
   "pygments_lexer": "ipython3",
   "version": "3.7.10"
  }
 },
 "nbformat": 4,
 "nbformat_minor": 5
}
