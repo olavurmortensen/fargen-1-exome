{
 "cells": [
  {
   "cell_type": "markdown",
   "metadata": {},
   "source": [
    "# Sex check\n",
    "\n",
    "We will impute the sex of each sample, and compare this with the self-reported gender.\n",
    "\n",
    "Note the distinction between 'sex' and 'gender' used here: 'sex' refers to the genetic sex, where 'gender' is self-reported. We impute the sex by testing for the presence of a Y chromosome. The gender is obtained from a questionaire given to participants before a blood sample is drawn."
   ]
  },
  {
   "cell_type": "code",
   "execution_count": 1,
   "metadata": {},
   "outputs": [
    {
     "name": "stdout",
     "output_type": "stream",
     "text": [
      "2021-10-27 12:27:53 WARN  NativeCodeLoader:62 - Unable to load native-hadoop library for your platform... using builtin-java classes where applicable\n"
     ]
    },
    {
     "name": "stderr",
     "output_type": "stream",
     "text": [
      "Setting default log level to \"WARN\".\n",
      "To adjust logging level use sc.setLogLevel(newLevel). For SparkR, use setLogLevel(newLevel).\n"
     ]
    },
    {
     "name": "stdout",
     "output_type": "stream",
     "text": [
      "2021-10-27 12:27:54 WARN  Hail:37 - This Hail JAR was compiled for Spark 2.4.5, running with Spark 2.4.1.\n",
      "  Compatibility is not guaranteed.\n",
      "2021-10-27 12:27:54 WARN  Utils:66 - Service 'SparkUI' could not bind on port 4040. Attempting port 4041.\n",
      "2021-10-27 12:27:54 WARN  Utils:66 - Service 'SparkUI' could not bind on port 4041. Attempting port 4042.\n",
      "2021-10-27 12:27:54 WARN  Utils:66 - Service 'SparkUI' could not bind on port 4042. Attempting port 4043.\n"
     ]
    },
    {
     "name": "stderr",
     "output_type": "stream",
     "text": [
      "Running on Apache Spark version 2.4.1\n",
      "SparkUI available at http://hms-beagle-6676655f87-9xllv:4043\n",
      "Welcome to\n",
      "     __  __     <>__\n",
      "    / /_/ /__  __/ /\n",
      "   / __  / _ `/ / /\n",
      "  /_/ /_/\\_,_/_/_/   version 0.2.61-3c86d3ba497a\n",
      "LOGGING: writing to /home/olavur/experiments/2020-11-13_fargen1_exome_analysis/fargen-1-exome/notebooks/main/hail-20211027-1227-0.2.61-3c86d3ba497a.log\n"
     ]
    }
   ],
   "source": [
    "import hail as hl\n",
    "hl.init(spark_conf={'spark.driver.memory': '10g'}, tmp_dir='/home/olavur/tmp')"
   ]
  },
  {
   "cell_type": "code",
   "execution_count": 2,
   "metadata": {},
   "outputs": [
    {
     "data": {
      "text/html": [
       "\n",
       "    <div class=\"bk-root\">\n",
       "        <a href=\"https://bokeh.pydata.org\" target=\"_blank\" class=\"bk-logo bk-logo-small bk-logo-notebook\"></a>\n",
       "        <span id=\"1001\">Loading BokehJS ...</span>\n",
       "    </div>"
      ]
     },
     "metadata": {},
     "output_type": "display_data"
    },
    {
     "data": {
      "application/javascript": [
       "\n",
       "(function(root) {\n",
       "  function now() {\n",
       "    return new Date();\n",
       "  }\n",
       "\n",
       "  var force = true;\n",
       "\n",
       "  if (typeof root._bokeh_onload_callbacks === \"undefined\" || force === true) {\n",
       "    root._bokeh_onload_callbacks = [];\n",
       "    root._bokeh_is_loading = undefined;\n",
       "  }\n",
       "\n",
       "  var JS_MIME_TYPE = 'application/javascript';\n",
       "  var HTML_MIME_TYPE = 'text/html';\n",
       "  var EXEC_MIME_TYPE = 'application/vnd.bokehjs_exec.v0+json';\n",
       "  var CLASS_NAME = 'output_bokeh rendered_html';\n",
       "\n",
       "  /**\n",
       "   * Render data to the DOM node\n",
       "   */\n",
       "  function render(props, node) {\n",
       "    var script = document.createElement(\"script\");\n",
       "    node.appendChild(script);\n",
       "  }\n",
       "\n",
       "  /**\n",
       "   * Handle when an output is cleared or removed\n",
       "   */\n",
       "  function handleClearOutput(event, handle) {\n",
       "    var cell = handle.cell;\n",
       "\n",
       "    var id = cell.output_area._bokeh_element_id;\n",
       "    var server_id = cell.output_area._bokeh_server_id;\n",
       "    // Clean up Bokeh references\n",
       "    if (id != null && id in Bokeh.index) {\n",
       "      Bokeh.index[id].model.document.clear();\n",
       "      delete Bokeh.index[id];\n",
       "    }\n",
       "\n",
       "    if (server_id !== undefined) {\n",
       "      // Clean up Bokeh references\n",
       "      var cmd = \"from bokeh.io.state import curstate; print(curstate().uuid_to_server['\" + server_id + \"'].get_sessions()[0].document.roots[0]._id)\";\n",
       "      cell.notebook.kernel.execute(cmd, {\n",
       "        iopub: {\n",
       "          output: function(msg) {\n",
       "            var id = msg.content.text.trim();\n",
       "            if (id in Bokeh.index) {\n",
       "              Bokeh.index[id].model.document.clear();\n",
       "              delete Bokeh.index[id];\n",
       "            }\n",
       "          }\n",
       "        }\n",
       "      });\n",
       "      // Destroy server and session\n",
       "      var cmd = \"import bokeh.io.notebook as ion; ion.destroy_server('\" + server_id + \"')\";\n",
       "      cell.notebook.kernel.execute(cmd);\n",
       "    }\n",
       "  }\n",
       "\n",
       "  /**\n",
       "   * Handle when a new output is added\n",
       "   */\n",
       "  function handleAddOutput(event, handle) {\n",
       "    var output_area = handle.output_area;\n",
       "    var output = handle.output;\n",
       "\n",
       "    // limit handleAddOutput to display_data with EXEC_MIME_TYPE content only\n",
       "    if ((output.output_type != \"display_data\") || (!output.data.hasOwnProperty(EXEC_MIME_TYPE))) {\n",
       "      return\n",
       "    }\n",
       "\n",
       "    var toinsert = output_area.element.find(\".\" + CLASS_NAME.split(' ')[0]);\n",
       "\n",
       "    if (output.metadata[EXEC_MIME_TYPE][\"id\"] !== undefined) {\n",
       "      toinsert[toinsert.length - 1].firstChild.textContent = output.data[JS_MIME_TYPE];\n",
       "      // store reference to embed id on output_area\n",
       "      output_area._bokeh_element_id = output.metadata[EXEC_MIME_TYPE][\"id\"];\n",
       "    }\n",
       "    if (output.metadata[EXEC_MIME_TYPE][\"server_id\"] !== undefined) {\n",
       "      var bk_div = document.createElement(\"div\");\n",
       "      bk_div.innerHTML = output.data[HTML_MIME_TYPE];\n",
       "      var script_attrs = bk_div.children[0].attributes;\n",
       "      for (var i = 0; i < script_attrs.length; i++) {\n",
       "        toinsert[toinsert.length - 1].firstChild.setAttribute(script_attrs[i].name, script_attrs[i].value);\n",
       "      }\n",
       "      // store reference to server id on output_area\n",
       "      output_area._bokeh_server_id = output.metadata[EXEC_MIME_TYPE][\"server_id\"];\n",
       "    }\n",
       "  }\n",
       "\n",
       "  function register_renderer(events, OutputArea) {\n",
       "\n",
       "    function append_mime(data, metadata, element) {\n",
       "      // create a DOM node to render to\n",
       "      var toinsert = this.create_output_subarea(\n",
       "        metadata,\n",
       "        CLASS_NAME,\n",
       "        EXEC_MIME_TYPE\n",
       "      );\n",
       "      this.keyboard_manager.register_events(toinsert);\n",
       "      // Render to node\n",
       "      var props = {data: data, metadata: metadata[EXEC_MIME_TYPE]};\n",
       "      render(props, toinsert[toinsert.length - 1]);\n",
       "      element.append(toinsert);\n",
       "      return toinsert\n",
       "    }\n",
       "\n",
       "    /* Handle when an output is cleared or removed */\n",
       "    events.on('clear_output.CodeCell', handleClearOutput);\n",
       "    events.on('delete.Cell', handleClearOutput);\n",
       "\n",
       "    /* Handle when a new output is added */\n",
       "    events.on('output_added.OutputArea', handleAddOutput);\n",
       "\n",
       "    /**\n",
       "     * Register the mime type and append_mime function with output_area\n",
       "     */\n",
       "    OutputArea.prototype.register_mime_type(EXEC_MIME_TYPE, append_mime, {\n",
       "      /* Is output safe? */\n",
       "      safe: true,\n",
       "      /* Index of renderer in `output_area.display_order` */\n",
       "      index: 0\n",
       "    });\n",
       "  }\n",
       "\n",
       "  // register the mime type if in Jupyter Notebook environment and previously unregistered\n",
       "  if (root.Jupyter !== undefined) {\n",
       "    var events = require('base/js/events');\n",
       "    var OutputArea = require('notebook/js/outputarea').OutputArea;\n",
       "\n",
       "    if (OutputArea.prototype.mime_types().indexOf(EXEC_MIME_TYPE) == -1) {\n",
       "      register_renderer(events, OutputArea);\n",
       "    }\n",
       "  }\n",
       "\n",
       "  \n",
       "  if (typeof (root._bokeh_timeout) === \"undefined\" || force === true) {\n",
       "    root._bokeh_timeout = Date.now() + 5000;\n",
       "    root._bokeh_failed_load = false;\n",
       "  }\n",
       "\n",
       "  var NB_LOAD_WARNING = {'data': {'text/html':\n",
       "     \"<div style='background-color: #fdd'>\\n\"+\n",
       "     \"<p>\\n\"+\n",
       "     \"BokehJS does not appear to have successfully loaded. If loading BokehJS from CDN, this \\n\"+\n",
       "     \"may be due to a slow or bad network connection. Possible fixes:\\n\"+\n",
       "     \"</p>\\n\"+\n",
       "     \"<ul>\\n\"+\n",
       "     \"<li>re-rerun `output_notebook()` to attempt to load from CDN again, or</li>\\n\"+\n",
       "     \"<li>use INLINE resources instead, as so:</li>\\n\"+\n",
       "     \"</ul>\\n\"+\n",
       "     \"<code>\\n\"+\n",
       "     \"from bokeh.resources import INLINE\\n\"+\n",
       "     \"output_notebook(resources=INLINE)\\n\"+\n",
       "     \"</code>\\n\"+\n",
       "     \"</div>\"}};\n",
       "\n",
       "  function display_loaded() {\n",
       "    var el = document.getElementById(\"1001\");\n",
       "    if (el != null) {\n",
       "      el.textContent = \"BokehJS is loading...\";\n",
       "    }\n",
       "    if (root.Bokeh !== undefined) {\n",
       "      if (el != null) {\n",
       "        el.textContent = \"BokehJS \" + root.Bokeh.version + \" successfully loaded.\";\n",
       "      }\n",
       "    } else if (Date.now() < root._bokeh_timeout) {\n",
       "      setTimeout(display_loaded, 100)\n",
       "    }\n",
       "  }\n",
       "\n",
       "\n",
       "  function run_callbacks() {\n",
       "    try {\n",
       "      root._bokeh_onload_callbacks.forEach(function(callback) {\n",
       "        if (callback != null)\n",
       "          callback();\n",
       "      });\n",
       "    } finally {\n",
       "      delete root._bokeh_onload_callbacks\n",
       "    }\n",
       "    console.debug(\"Bokeh: all callbacks have finished\");\n",
       "  }\n",
       "\n",
       "  function load_libs(css_urls, js_urls, callback) {\n",
       "    if (css_urls == null) css_urls = [];\n",
       "    if (js_urls == null) js_urls = [];\n",
       "\n",
       "    root._bokeh_onload_callbacks.push(callback);\n",
       "    if (root._bokeh_is_loading > 0) {\n",
       "      console.debug(\"Bokeh: BokehJS is being loaded, scheduling callback at\", now());\n",
       "      return null;\n",
       "    }\n",
       "    if (js_urls == null || js_urls.length === 0) {\n",
       "      run_callbacks();\n",
       "      return null;\n",
       "    }\n",
       "    console.debug(\"Bokeh: BokehJS not loaded, scheduling load and callback at\", now());\n",
       "    root._bokeh_is_loading = css_urls.length + js_urls.length;\n",
       "\n",
       "    function on_load() {\n",
       "      root._bokeh_is_loading--;\n",
       "      if (root._bokeh_is_loading === 0) {\n",
       "        console.debug(\"Bokeh: all BokehJS libraries/stylesheets loaded\");\n",
       "        run_callbacks()\n",
       "      }\n",
       "    }\n",
       "\n",
       "    function on_error() {\n",
       "      console.error(\"failed to load \" + url);\n",
       "    }\n",
       "\n",
       "    for (var i = 0; i < css_urls.length; i++) {\n",
       "      var url = css_urls[i];\n",
       "      const element = document.createElement(\"link\");\n",
       "      element.onload = on_load;\n",
       "      element.onerror = on_error;\n",
       "      element.rel = \"stylesheet\";\n",
       "      element.type = \"text/css\";\n",
       "      element.href = url;\n",
       "      console.debug(\"Bokeh: injecting link tag for BokehJS stylesheet: \", url);\n",
       "      document.body.appendChild(element);\n",
       "    }\n",
       "\n",
       "    for (var i = 0; i < js_urls.length; i++) {\n",
       "      var url = js_urls[i];\n",
       "      var element = document.createElement('script');\n",
       "      element.onload = on_load;\n",
       "      element.onerror = on_error;\n",
       "      element.async = false;\n",
       "      element.src = url;\n",
       "      console.debug(\"Bokeh: injecting script tag for BokehJS library: \", url);\n",
       "      document.head.appendChild(element);\n",
       "    }\n",
       "  };var element = document.getElementById(\"1001\");\n",
       "  if (element == null) {\n",
       "    console.error(\"Bokeh: ERROR: autoload.js configured with elementid '1001' but no matching script tag was found. \")\n",
       "    return false;\n",
       "  }\n",
       "\n",
       "  function inject_raw_css(css) {\n",
       "    const element = document.createElement(\"style\");\n",
       "    element.appendChild(document.createTextNode(css));\n",
       "    document.body.appendChild(element);\n",
       "  }\n",
       "\n",
       "  var js_urls = [\"https://cdn.pydata.org/bokeh/release/bokeh-1.2.0.min.js\", \"https://cdn.pydata.org/bokeh/release/bokeh-widgets-1.2.0.min.js\", \"https://cdn.pydata.org/bokeh/release/bokeh-tables-1.2.0.min.js\", \"https://cdn.pydata.org/bokeh/release/bokeh-gl-1.2.0.min.js\"];\n",
       "  var css_urls = [\"https://cdn.pydata.org/bokeh/release/bokeh-1.2.0.min.css\", \"https://cdn.pydata.org/bokeh/release/bokeh-widgets-1.2.0.min.css\", \"https://cdn.pydata.org/bokeh/release/bokeh-tables-1.2.0.min.css\"];\n",
       "\n",
       "  var inline_js = [\n",
       "    function(Bokeh) {\n",
       "      Bokeh.set_log_level(\"info\");\n",
       "    },\n",
       "    \n",
       "    function(Bokeh) {\n",
       "      \n",
       "    },\n",
       "    function(Bokeh) {} // ensure no trailing comma for IE\n",
       "  ];\n",
       "\n",
       "  function run_inline_js() {\n",
       "    \n",
       "    if ((root.Bokeh !== undefined) || (force === true)) {\n",
       "      for (var i = 0; i < inline_js.length; i++) {\n",
       "        inline_js[i].call(root, root.Bokeh);\n",
       "      }if (force === true) {\n",
       "        display_loaded();\n",
       "      }} else if (Date.now() < root._bokeh_timeout) {\n",
       "      setTimeout(run_inline_js, 100);\n",
       "    } else if (!root._bokeh_failed_load) {\n",
       "      console.log(\"Bokeh: BokehJS failed to load within specified timeout.\");\n",
       "      root._bokeh_failed_load = true;\n",
       "    } else if (force !== true) {\n",
       "      var cell = $(document.getElementById(\"1001\")).parents('.cell').data().cell;\n",
       "      cell.output_area.append_execute_result(NB_LOAD_WARNING)\n",
       "    }\n",
       "\n",
       "  }\n",
       "\n",
       "  if (root._bokeh_is_loading === 0) {\n",
       "    console.debug(\"Bokeh: BokehJS loaded, going straight to plotting\");\n",
       "    run_inline_js();\n",
       "  } else {\n",
       "    load_libs(css_urls, js_urls, function() {\n",
       "      console.debug(\"Bokeh: BokehJS plotting callback run at\", now());\n",
       "      run_inline_js();\n",
       "    });\n",
       "  }\n",
       "}(window));"
      ],
      "application/vnd.bokehjs_load.v0+json": "\n(function(root) {\n  function now() {\n    return new Date();\n  }\n\n  var force = true;\n\n  if (typeof root._bokeh_onload_callbacks === \"undefined\" || force === true) {\n    root._bokeh_onload_callbacks = [];\n    root._bokeh_is_loading = undefined;\n  }\n\n  \n\n  \n  if (typeof (root._bokeh_timeout) === \"undefined\" || force === true) {\n    root._bokeh_timeout = Date.now() + 5000;\n    root._bokeh_failed_load = false;\n  }\n\n  var NB_LOAD_WARNING = {'data': {'text/html':\n     \"<div style='background-color: #fdd'>\\n\"+\n     \"<p>\\n\"+\n     \"BokehJS does not appear to have successfully loaded. If loading BokehJS from CDN, this \\n\"+\n     \"may be due to a slow or bad network connection. Possible fixes:\\n\"+\n     \"</p>\\n\"+\n     \"<ul>\\n\"+\n     \"<li>re-rerun `output_notebook()` to attempt to load from CDN again, or</li>\\n\"+\n     \"<li>use INLINE resources instead, as so:</li>\\n\"+\n     \"</ul>\\n\"+\n     \"<code>\\n\"+\n     \"from bokeh.resources import INLINE\\n\"+\n     \"output_notebook(resources=INLINE)\\n\"+\n     \"</code>\\n\"+\n     \"</div>\"}};\n\n  function display_loaded() {\n    var el = document.getElementById(\"1001\");\n    if (el != null) {\n      el.textContent = \"BokehJS is loading...\";\n    }\n    if (root.Bokeh !== undefined) {\n      if (el != null) {\n        el.textContent = \"BokehJS \" + root.Bokeh.version + \" successfully loaded.\";\n      }\n    } else if (Date.now() < root._bokeh_timeout) {\n      setTimeout(display_loaded, 100)\n    }\n  }\n\n\n  function run_callbacks() {\n    try {\n      root._bokeh_onload_callbacks.forEach(function(callback) {\n        if (callback != null)\n          callback();\n      });\n    } finally {\n      delete root._bokeh_onload_callbacks\n    }\n    console.debug(\"Bokeh: all callbacks have finished\");\n  }\n\n  function load_libs(css_urls, js_urls, callback) {\n    if (css_urls == null) css_urls = [];\n    if (js_urls == null) js_urls = [];\n\n    root._bokeh_onload_callbacks.push(callback);\n    if (root._bokeh_is_loading > 0) {\n      console.debug(\"Bokeh: BokehJS is being loaded, scheduling callback at\", now());\n      return null;\n    }\n    if (js_urls == null || js_urls.length === 0) {\n      run_callbacks();\n      return null;\n    }\n    console.debug(\"Bokeh: BokehJS not loaded, scheduling load and callback at\", now());\n    root._bokeh_is_loading = css_urls.length + js_urls.length;\n\n    function on_load() {\n      root._bokeh_is_loading--;\n      if (root._bokeh_is_loading === 0) {\n        console.debug(\"Bokeh: all BokehJS libraries/stylesheets loaded\");\n        run_callbacks()\n      }\n    }\n\n    function on_error() {\n      console.error(\"failed to load \" + url);\n    }\n\n    for (var i = 0; i < css_urls.length; i++) {\n      var url = css_urls[i];\n      const element = document.createElement(\"link\");\n      element.onload = on_load;\n      element.onerror = on_error;\n      element.rel = \"stylesheet\";\n      element.type = \"text/css\";\n      element.href = url;\n      console.debug(\"Bokeh: injecting link tag for BokehJS stylesheet: \", url);\n      document.body.appendChild(element);\n    }\n\n    for (var i = 0; i < js_urls.length; i++) {\n      var url = js_urls[i];\n      var element = document.createElement('script');\n      element.onload = on_load;\n      element.onerror = on_error;\n      element.async = false;\n      element.src = url;\n      console.debug(\"Bokeh: injecting script tag for BokehJS library: \", url);\n      document.head.appendChild(element);\n    }\n  };var element = document.getElementById(\"1001\");\n  if (element == null) {\n    console.error(\"Bokeh: ERROR: autoload.js configured with elementid '1001' but no matching script tag was found. \")\n    return false;\n  }\n\n  function inject_raw_css(css) {\n    const element = document.createElement(\"style\");\n    element.appendChild(document.createTextNode(css));\n    document.body.appendChild(element);\n  }\n\n  var js_urls = [\"https://cdn.pydata.org/bokeh/release/bokeh-1.2.0.min.js\", \"https://cdn.pydata.org/bokeh/release/bokeh-widgets-1.2.0.min.js\", \"https://cdn.pydata.org/bokeh/release/bokeh-tables-1.2.0.min.js\", \"https://cdn.pydata.org/bokeh/release/bokeh-gl-1.2.0.min.js\"];\n  var css_urls = [\"https://cdn.pydata.org/bokeh/release/bokeh-1.2.0.min.css\", \"https://cdn.pydata.org/bokeh/release/bokeh-widgets-1.2.0.min.css\", \"https://cdn.pydata.org/bokeh/release/bokeh-tables-1.2.0.min.css\"];\n\n  var inline_js = [\n    function(Bokeh) {\n      Bokeh.set_log_level(\"info\");\n    },\n    \n    function(Bokeh) {\n      \n    },\n    function(Bokeh) {} // ensure no trailing comma for IE\n  ];\n\n  function run_inline_js() {\n    \n    if ((root.Bokeh !== undefined) || (force === true)) {\n      for (var i = 0; i < inline_js.length; i++) {\n        inline_js[i].call(root, root.Bokeh);\n      }if (force === true) {\n        display_loaded();\n      }} else if (Date.now() < root._bokeh_timeout) {\n      setTimeout(run_inline_js, 100);\n    } else if (!root._bokeh_failed_load) {\n      console.log(\"Bokeh: BokehJS failed to load within specified timeout.\");\n      root._bokeh_failed_load = true;\n    } else if (force !== true) {\n      var cell = $(document.getElementById(\"1001\")).parents('.cell').data().cell;\n      cell.output_area.append_execute_result(NB_LOAD_WARNING)\n    }\n\n  }\n\n  if (root._bokeh_is_loading === 0) {\n    console.debug(\"Bokeh: BokehJS loaded, going straight to plotting\");\n    run_inline_js();\n  } else {\n    load_libs(css_urls, js_urls, function() {\n      console.debug(\"Bokeh: BokehJS plotting callback run at\", now());\n      run_inline_js();\n    });\n  }\n}(window));"
     },
     "metadata": {},
     "output_type": "display_data"
    }
   ],
   "source": [
    "from bokeh.io import show, output_notebook\n",
    "from bokeh.layouts import gridplot\n",
    "from bokeh.models.scales import LogScale\n",
    "output_notebook()"
   ]
  },
  {
   "cell_type": "code",
   "execution_count": 3,
   "metadata": {},
   "outputs": [],
   "source": [
    "import pandas as pd"
   ]
  },
  {
   "cell_type": "code",
   "execution_count": 4,
   "metadata": {},
   "outputs": [],
   "source": [
    "BASE_DIR = '/home/olavur/experiments/2020-11-13_fargen1_exome_analysis'"
   ]
  },
  {
   "cell_type": "markdown",
   "metadata": {},
   "source": [
    "## Load FarGen exome data\n",
    "\n",
    "Load filtered, high-quality, variants."
   ]
  },
  {
   "cell_type": "code",
   "execution_count": 5,
   "metadata": {},
   "outputs": [],
   "source": [
    "mt = hl.read_matrix_table(BASE_DIR + '/data/mt/high_quality_variants.mt/')"
   ]
  },
  {
   "cell_type": "code",
   "execution_count": 6,
   "metadata": {},
   "outputs": [
    {
     "name": "stdout",
     "output_type": "stream",
     "text": [
      "Number of variants: 148305\n",
      "Number of samples: 469\n"
     ]
    }
   ],
   "source": [
    "n_variants, n_samples = mt.count()\n",
    "print('Number of variants: ' + str(n_variants))\n",
    "print('Number of samples: ' + str(n_samples))"
   ]
  },
  {
   "cell_type": "markdown",
   "metadata": {},
   "source": [
    "## Impute sex\n",
    "\n",
    "We impute the sex of the samples by computing the inbreeding coefficient (F) on the X chromosome. This inbreeding coefficient is calculated as $F = \\frac{O - E}{N-E}$ where $O$ is the observed number of homozygotes, $E$ is the expected number of homozygotes, and $N$ is the number of non-missing genotype calls. The expected number of homozygotes is calculated as $E = 1 - 2 f (1 - f)$ where $f$ is the minor-allel frequency."
   ]
  },
  {
   "cell_type": "code",
   "execution_count": 7,
   "metadata": {},
   "outputs": [
    {
     "name": "stderr",
     "output_type": "stream",
     "text": [
      "2021-10-27 12:27:58 Hail: WARN: cols(): Resulting column table is sorted by 'col_key'.\n",
      "    To preserve matrix table column order, first unkey columns with 'key_cols_by()'\n"
     ]
    }
   ],
   "source": [
    "imputed_sex_ht = hl.impute_sex(mt.GT)"
   ]
  },
  {
   "cell_type": "markdown",
   "metadata": {},
   "source": [
    "Below we've plotted the inbreeding coefficient, and there is a quite clear clustering of individuals."
   ]
  },
  {
   "cell_type": "code",
   "execution_count": 8,
   "metadata": {},
   "outputs": [
    {
     "name": "stderr",
     "output_type": "stream",
     "text": [
      "[Stage 0:=============================>                             (1 + 1) / 2]"
     ]
    },
    {
     "data": {
      "text/html": [
       "\n",
       "\n",
       "\n",
       "\n",
       "\n",
       "\n",
       "  <div class=\"bk-root\" id=\"538ce08d-5f3d-42f1-ac25-1a213a12fa5a\" data-root-id=\"1002\"></div>\n"
      ]
     },
     "metadata": {},
     "output_type": "display_data"
    },
    {
     "data": {
      "application/javascript": [
       "(function(root) {\n",
       "  function embed_document(root) {\n",
       "    \n",
       "  var docs_json = {\"d89dc6de-d72d-4543-94ab-a8b5f98482e1\":{\"roots\":{\"references\":[{\"attributes\":{\"background_fill_color\":{\"value\":\"#EEEEEE\"},\"below\":[{\"id\":\"1013\",\"type\":\"LinearAxis\"}],\"center\":[{\"id\":\"1017\",\"type\":\"Grid\"},{\"id\":\"1022\",\"type\":\"Grid\"}],\"left\":[{\"id\":\"1018\",\"type\":\"LinearAxis\"}],\"plot_height\":500,\"plot_width\":800,\"renderers\":[{\"id\":\"1039\",\"type\":\"GlyphRenderer\"}],\"title\":{\"id\":\"1003\",\"type\":\"Title\"},\"toolbar\":{\"id\":\"1029\",\"type\":\"Toolbar\"},\"x_range\":{\"id\":\"1005\",\"type\":\"Range1d\"},\"x_scale\":{\"id\":\"1009\",\"type\":\"LinearScale\"},\"y_range\":{\"id\":\"1007\",\"type\":\"DataRange1d\"},\"y_scale\":{\"id\":\"1011\",\"type\":\"LinearScale\"}},\"id\":\"1002\",\"subtype\":\"Figure\",\"type\":\"Plot\"},{\"attributes\":{\"source\":{\"id\":\"1036\",\"type\":\"ColumnDataSource\"}},\"id\":\"1040\",\"type\":\"CDSView\"},{\"attributes\":{\"overlay\":{\"id\":\"1048\",\"type\":\"BoxAnnotation\"}},\"id\":\"1025\",\"type\":\"BoxZoomTool\"},{\"attributes\":{},\"id\":\"1009\",\"type\":\"LinearScale\"},{\"attributes\":{},\"id\":\"1023\",\"type\":\"PanTool\"},{\"attributes\":{\"ticker\":{\"id\":\"1014\",\"type\":\"BasicTicker\"}},\"id\":\"1017\",\"type\":\"Grid\"},{\"attributes\":{},\"id\":\"1024\",\"type\":\"WheelZoomTool\"},{\"attributes\":{\"active_drag\":\"auto\",\"active_inspect\":\"auto\",\"active_multi\":null,\"active_scroll\":\"auto\",\"active_tap\":\"auto\",\"tools\":[{\"id\":\"1023\",\"type\":\"PanTool\"},{\"id\":\"1024\",\"type\":\"WheelZoomTool\"},{\"id\":\"1025\",\"type\":\"BoxZoomTool\"},{\"id\":\"1026\",\"type\":\"SaveTool\"},{\"id\":\"1027\",\"type\":\"ResetTool\"},{\"id\":\"1028\",\"type\":\"HelpTool\"}]},\"id\":\"1029\",\"type\":\"Toolbar\"},{\"attributes\":{\"formatter\":{\"id\":\"1043\",\"type\":\"BasicTickFormatter\"},\"ticker\":{\"id\":\"1014\",\"type\":\"BasicTicker\"}},\"id\":\"1013\",\"type\":\"LinearAxis\"},{\"attributes\":{\"bottom\":{\"value\":0},\"fill_color\":{\"value\":\"#1f77b4\"},\"left\":{\"field\":\"left\"},\"right\":{\"field\":\"right\"},\"top\":{\"field\":\"top\"}},\"id\":\"1037\",\"type\":\"Quad\"},{\"attributes\":{},\"id\":\"1045\",\"type\":\"BasicTickFormatter\"},{\"attributes\":{},\"id\":\"1027\",\"type\":\"ResetTool\"},{\"attributes\":{},\"id\":\"1046\",\"type\":\"Selection\"},{\"attributes\":{\"callback\":null},\"id\":\"1007\",\"type\":\"DataRange1d\"},{\"attributes\":{},\"id\":\"1026\",\"type\":\"SaveTool\"},{\"attributes\":{\"dimension\":1,\"ticker\":{\"id\":\"1019\",\"type\":\"BasicTicker\"}},\"id\":\"1022\",\"type\":\"Grid\"},{\"attributes\":{\"bottom_units\":\"screen\",\"fill_alpha\":{\"value\":0.5},\"fill_color\":{\"value\":\"lightgrey\"},\"left_units\":\"screen\",\"level\":\"overlay\",\"line_alpha\":{\"value\":1.0},\"line_color\":{\"value\":\"black\"},\"line_dash\":[4,4],\"line_width\":{\"value\":2},\"render_mode\":\"css\",\"right_units\":\"screen\",\"top_units\":\"screen\"},\"id\":\"1048\",\"type\":\"BoxAnnotation\"},{\"attributes\":{\"text\":\"Inbreeding coefficient (F) computed on the X chromosome\"},\"id\":\"1003\",\"type\":\"Title\"},{\"attributes\":{\"callback\":null,\"data\":{\"left\":[-0.44416033650442704,-0.41559058749040517,-0.3870208384763833,-0.3584510894623614,-0.32988134044833956,-0.3013115914343177,-0.2727418424202958,-0.24417209340627394,-0.21560234439225207,-0.1870325953782302,-0.15846284636420832,-0.12989309735018645,-0.10132334833616458,-0.0727535993221427,-0.04418385030812083,-0.015614101294098959,0.012955647719922914,0.041525396733944786,0.07009514574796666,0.09866489476198853,0.1272346437760104,0.15580439279003228,0.18437414180405415,0.21294389081807602,0.2415136398320979,0.27008338884611977,0.29865313786014164,0.3272228868741635,0.3557926358881854,0.38436238490220725,0.4129321339162291,0.441501882930251,0.47007163194427287,0.49864138095829474,0.5272111299723166,0.5557808789863385,0.5843506280003603,0.6129203770143823,0.641490126028404,0.6700598750424258,0.6986296240564478,0.7271993730704698,0.7557691220844915,0.7843388710985133,0.8129086201125353,0.8414783691265573,0.870048118140579,0.8986178671546008,0.9271876161686228,0.9557573651826448],\"right\":[-0.41559058749040517,-0.3870208384763833,-0.3584510894623614,-0.32988134044833956,-0.3013115914343177,-0.2727418424202958,-0.24417209340627394,-0.21560234439225207,-0.1870325953782302,-0.15846284636420832,-0.12989309735018645,-0.10132334833616458,-0.0727535993221427,-0.04418385030812083,-0.015614101294098959,0.012955647719922914,0.041525396733944786,0.07009514574796666,0.09866489476198853,0.1272346437760104,0.15580439279003228,0.18437414180405415,0.21294389081807602,0.2415136398320979,0.27008338884611977,0.29865313786014164,0.3272228868741635,0.3557926358881854,0.38436238490220725,0.4129321339162291,0.441501882930251,0.47007163194427287,0.49864138095829474,0.5272111299723166,0.5557808789863385,0.5843506280003603,0.6129203770143823,0.641490126028404,0.6700598750424258,0.6986296240564478,0.7271993730704698,0.7557691220844915,0.7843388710985133,0.8129086201125353,0.8414783691265573,0.870048118140579,0.8986178671546008,0.9271876161686228,0.9557573651826448,0.9843271141966665],\"top\":[1,4,4,6,10,14,17,25,28,19,29,22,29,28,13,14,4,3,4,2,2,0,0,0,0,0,0,0,0,0,0,0,0,0,0,0,0,0,0,0,0,0,1,0,4,15,39,69,52,11]},\"selected\":{\"id\":\"1046\",\"type\":\"Selection\"},\"selection_policy\":{\"id\":\"1047\",\"type\":\"UnionRenderers\"}},\"id\":\"1036\",\"type\":\"ColumnDataSource\"},{\"attributes\":{},\"id\":\"1043\",\"type\":\"BasicTickFormatter\"},{\"attributes\":{},\"id\":\"1047\",\"type\":\"UnionRenderers\"},{\"attributes\":{\"bottom\":{\"value\":0},\"fill_alpha\":{\"value\":0.1},\"fill_color\":{\"value\":\"#1f77b4\"},\"left\":{\"field\":\"left\"},\"line_alpha\":{\"value\":0.1},\"line_color\":{\"value\":\"#1f77b4\"},\"right\":{\"field\":\"right\"},\"top\":{\"field\":\"top\"}},\"id\":\"1038\",\"type\":\"Quad\"},{\"attributes\":{\"data_source\":{\"id\":\"1036\",\"type\":\"ColumnDataSource\"},\"glyph\":{\"id\":\"1037\",\"type\":\"Quad\"},\"hover_glyph\":null,\"muted_glyph\":null,\"nonselection_glyph\":{\"id\":\"1038\",\"type\":\"Quad\"},\"selection_glyph\":null,\"view\":{\"id\":\"1040\",\"type\":\"CDSView\"}},\"id\":\"1039\",\"type\":\"GlyphRenderer\"},{\"attributes\":{},\"id\":\"1028\",\"type\":\"HelpTool\"},{\"attributes\":{},\"id\":\"1011\",\"type\":\"LinearScale\"},{\"attributes\":{},\"id\":\"1014\",\"type\":\"BasicTicker\"},{\"attributes\":{\"axis_label\":\"Frequency\",\"formatter\":{\"id\":\"1045\",\"type\":\"BasicTickFormatter\"},\"ticker\":{\"id\":\"1019\",\"type\":\"BasicTicker\"}},\"id\":\"1018\",\"type\":\"LinearAxis\"},{\"attributes\":{},\"id\":\"1019\",\"type\":\"BasicTicker\"},{\"attributes\":{\"callback\":null,\"end\":1.0557514867317213,\"start\":-0.5155847090394817},\"id\":\"1005\",\"type\":\"Range1d\"}],\"root_ids\":[\"1002\"]},\"title\":\"Bokeh Application\",\"version\":\"1.2.0\"}};\n",
       "  var render_items = [{\"docid\":\"d89dc6de-d72d-4543-94ab-a8b5f98482e1\",\"roots\":{\"1002\":\"538ce08d-5f3d-42f1-ac25-1a213a12fa5a\"}}];\n",
       "  root.Bokeh.embed.embed_items_notebook(docs_json, render_items);\n",
       "\n",
       "  }\n",
       "  if (root.Bokeh !== undefined) {\n",
       "    embed_document(root);\n",
       "  } else {\n",
       "    var attempts = 0;\n",
       "    var timer = setInterval(function(root) {\n",
       "      if (root.Bokeh !== undefined) {\n",
       "        embed_document(root);\n",
       "        clearInterval(timer);\n",
       "      }\n",
       "      attempts++;\n",
       "      if (attempts > 100) {\n",
       "        console.log(\"Bokeh: ERROR: Unable to run BokehJS code because BokehJS library is missing\");\n",
       "        clearInterval(timer);\n",
       "      }\n",
       "    }, 10, root)\n",
       "  }\n",
       "})(window);"
      ],
      "application/vnd.bokehjs_exec.v0+json": ""
     },
     "metadata": {
      "application/vnd.bokehjs_exec.v0+json": {
       "id": "1002"
      }
     },
     "output_type": "display_data"
    }
   ],
   "source": [
    "p = hl.plot.histogram(imputed_sex_ht.f_stat, title='Inbreeding coefficient (F) computed on the X chromosome')\n",
    "p.plot_width = 800\n",
    "p.plot_height = 500\n",
    "show(p)"
   ]
  },
  {
   "cell_type": "markdown",
   "metadata": {},
   "source": [
    "Based on the plot above, we define new $F$ thresholds for male and female, and do the imputation again."
   ]
  },
  {
   "cell_type": "code",
   "execution_count": 9,
   "metadata": {},
   "outputs": [],
   "source": [
    "imputed_sex_ht = hl.impute_sex(mt.GT, female_threshold=0.4, male_threshold=0.4)\n",
    "\n",
    "# Make a new variable 'sex' that is either 'f' or 'm'.\n",
    "imputed_sex_ht = imputed_sex_ht.annotate(sex = hl.if_else(imputed_sex_ht.is_female, 'f', 'm'))"
   ]
  },
  {
   "cell_type": "markdown",
   "metadata": {},
   "source": [
    "## Load self-reported gender data"
   ]
  },
  {
   "cell_type": "code",
   "execution_count": 10,
   "metadata": {},
   "outputs": [
    {
     "name": "stderr",
     "output_type": "stream",
     "text": [
      "2021-10-27 12:28:04 Hail: INFO: Reading table without type imputation\n",
      "  Loading field 'IndividualName' as type str (not specified)\n",
      "  Loading field 'Gender' as type str (not specified)\n"
     ]
    }
   ],
   "source": [
    "# Read the CSV.\n",
    "gender_ht = hl.import_table(BASE_DIR + '/data/metadata/fargen_indi-gen.csv', delimiter=',')\n",
    "\n",
    "# Key the table by individual name.\n",
    "gender_ht = gender_ht.key_by(gender_ht.IndividualName)\n",
    "\n",
    "# Us a boolean 'is_female' variable, like in the imputed data.\n",
    "gender_ht = gender_ht.annotate(gender = hl.if_else(gender_ht.Gender == '0', 'f', 'm'))\n",
    "\n",
    "# Recode the 'Gender' variable into a new 'gender' variable, that is either 'm', 'f', or missing.\n",
    "gender_ht = gender_ht.transmute(gender = hl.case()\n",
    "                                        .when(gender_ht.Gender == '0', 'f')\n",
    "                                        .when(gender_ht.Gender == '1', 'm')\n",
    "                                        .or_missing())"
   ]
  },
  {
   "cell_type": "markdown",
   "metadata": {},
   "source": [
    "## Compare imputed sex with self-reported gender\n",
    "\n",
    "Below we compute a confusion matrix between self-reported gender and imputed sex.\n",
    "\n",
    "We see that 7 samples have disconcordant sex and gender. Of these, 4 are reported as female and imputed as male, and 3 are reported as male and imputed as female."
   ]
  },
  {
   "cell_type": "code",
   "execution_count": 11,
   "metadata": {},
   "outputs": [
    {
     "name": "stderr",
     "output_type": "stream",
     "text": [
      "2021-10-27 12:28:05 Hail: INFO: Coerced sorted dataset\n",
      "2021-10-27 12:28:05 Hail: INFO: Coerced sorted dataset\n",
      "2021-10-27 12:28:06 Hail: INFO: Coerced sorted dataset\n"
     ]
    },
    {
     "data": {
      "text/html": [
       "<div>\n",
       "<style scoped>\n",
       "    .dataframe tbody tr th:only-of-type {\n",
       "        vertical-align: middle;\n",
       "    }\n",
       "\n",
       "    .dataframe tbody tr th {\n",
       "        vertical-align: top;\n",
       "    }\n",
       "\n",
       "    .dataframe thead th {\n",
       "        text-align: right;\n",
       "    }\n",
       "</style>\n",
       "<table border=\"1\" class=\"dataframe\">\n",
       "  <thead>\n",
       "    <tr style=\"text-align: right;\">\n",
       "      <th>Gender</th>\n",
       "      <th>f</th>\n",
       "      <th>m</th>\n",
       "      <th>Sum</th>\n",
       "    </tr>\n",
       "    <tr>\n",
       "      <th>Sex</th>\n",
       "      <th></th>\n",
       "      <th></th>\n",
       "      <th></th>\n",
       "    </tr>\n",
       "  </thead>\n",
       "  <tbody>\n",
       "    <tr>\n",
       "      <th>f</th>\n",
       "      <td>275</td>\n",
       "      <td>3</td>\n",
       "      <td>278</td>\n",
       "    </tr>\n",
       "    <tr>\n",
       "      <th>m</th>\n",
       "      <td>4</td>\n",
       "      <td>187</td>\n",
       "      <td>191</td>\n",
       "    </tr>\n",
       "    <tr>\n",
       "      <th>Sum</th>\n",
       "      <td>279</td>\n",
       "      <td>190</td>\n",
       "      <td>469</td>\n",
       "    </tr>\n",
       "  </tbody>\n",
       "</table>\n",
       "</div>"
      ],
      "text/plain": [
       "Gender    f    m  Sum\n",
       "Sex                  \n",
       "f       275    3  278\n",
       "m         4  187  191\n",
       "Sum     279  190  469"
      ]
     },
     "execution_count": 11,
     "metadata": {},
     "output_type": "execute_result"
    }
   ],
   "source": [
    "# Annotate the imputed sex table with the self-reported gender.\n",
    "imputed_sex_ht = imputed_sex_ht.annotate(gender=gender_ht[imputed_sex_ht.s].gender)\n",
    "\n",
    "# Make Pandas series with the sex and gender.\n",
    "sex = pd.Series(imputed_sex_ht.sex.collect(), name='Sex')\n",
    "gender = pd.Series(imputed_sex_ht.gender.collect(), name='Gender')\n",
    "\n",
    "# Calculate confusion matrix.\n",
    "confusion_table = pd.crosstab(sex, gender, margins=True, margins_name='Sum')\n",
    "\n",
    "confusion_table"
   ]
  },
  {
   "cell_type": "markdown",
   "metadata": {},
   "source": [
    "## Inspect disconcordant samples\n",
    "\n",
    "We will inspect the samples where the self-reported gender is different from the imputed sex.\n",
    "\n",
    "As we have seen, the males and females cluster very nicely w.r.t. the inbreeding coeffcient, so we can be confident that we are correctly imputing the sex. We used imputed samples with $F > 0.4$ as male and $F < 0.4$ as female.\n",
    "\n",
    "Below we see the imputation data for the samples where the imputed sex and self-reported gender mismatch. Note that these samples fall nicely into the categories defined by the cut-off values we defined."
   ]
  },
  {
   "cell_type": "code",
   "execution_count": 12,
   "metadata": {},
   "outputs": [
    {
     "name": "stderr",
     "output_type": "stream",
     "text": [
      "2021-10-27 12:28:07 Hail: INFO: Coerced sorted dataset\n",
      "2021-10-27 12:28:07 Hail: INFO: Coerced sorted dataset\n"
     ]
    },
    {
     "data": {
      "text/html": [
       "<table><thead><tr><td style=\"white-space: nowrap; max-width: 500px; overflow: hidden; text-overflow: ellipsis; \" colspan=\"1\"><div style=\"text-align: left;\"></div></td><td style=\"white-space: nowrap; max-width: 500px; overflow: hidden; text-overflow: ellipsis; \" colspan=\"1\"><div style=\"text-align: left;\"></div></td><td style=\"white-space: nowrap; max-width: 500px; overflow: hidden; text-overflow: ellipsis; \" colspan=\"1\"><div style=\"text-align: left;\"></div></td><td style=\"white-space: nowrap; max-width: 500px; overflow: hidden; text-overflow: ellipsis; \" colspan=\"1\"><div style=\"text-align: left;\"></div></td><td style=\"white-space: nowrap; max-width: 500px; overflow: hidden; text-overflow: ellipsis; \" colspan=\"1\"><div style=\"text-align: left;\"></div></td><td style=\"white-space: nowrap; max-width: 500px; overflow: hidden; text-overflow: ellipsis; \" colspan=\"1\"><div style=\"text-align: left;\"></div></td><td style=\"white-space: nowrap; max-width: 500px; overflow: hidden; text-overflow: ellipsis; \" colspan=\"1\"><div style=\"text-align: left;\"></div></td><td style=\"white-space: nowrap; max-width: 500px; overflow: hidden; text-overflow: ellipsis; \" colspan=\"1\"><div style=\"text-align: left;\"></div></td></tr><tr><td style=\"white-space: nowrap; max-width: 500px; overflow: hidden; text-overflow: ellipsis; \" colspan=\"1\"><div style=\"text-align: left;border-bottom: solid 2px #000; padding-bottom: 5px\">s</div></td><td style=\"white-space: nowrap; max-width: 500px; overflow: hidden; text-overflow: ellipsis; \" colspan=\"1\"><div style=\"text-align: left;border-bottom: solid 2px #000; padding-bottom: 5px\">is_female</div></td><td style=\"white-space: nowrap; max-width: 500px; overflow: hidden; text-overflow: ellipsis; \" colspan=\"1\"><div style=\"text-align: left;border-bottom: solid 2px #000; padding-bottom: 5px\">f_stat</div></td><td style=\"white-space: nowrap; max-width: 500px; overflow: hidden; text-overflow: ellipsis; \" colspan=\"1\"><div style=\"text-align: left;border-bottom: solid 2px #000; padding-bottom: 5px\">n_called</div></td><td style=\"white-space: nowrap; max-width: 500px; overflow: hidden; text-overflow: ellipsis; \" colspan=\"1\"><div style=\"text-align: left;border-bottom: solid 2px #000; padding-bottom: 5px\">expected_homs</div></td><td style=\"white-space: nowrap; max-width: 500px; overflow: hidden; text-overflow: ellipsis; \" colspan=\"1\"><div style=\"text-align: left;border-bottom: solid 2px #000; padding-bottom: 5px\">observed_homs</div></td><td style=\"white-space: nowrap; max-width: 500px; overflow: hidden; text-overflow: ellipsis; \" colspan=\"1\"><div style=\"text-align: left;border-bottom: solid 2px #000; padding-bottom: 5px\">sex</div></td><td style=\"white-space: nowrap; max-width: 500px; overflow: hidden; text-overflow: ellipsis; \" colspan=\"1\"><div style=\"text-align: left;border-bottom: solid 2px #000; padding-bottom: 5px\">gender</div></td></tr><tr><td style=\"white-space: nowrap; max-width: 500px; overflow: hidden; text-overflow: ellipsis; text-align: left;\">str</td><td style=\"white-space: nowrap; max-width: 500px; overflow: hidden; text-overflow: ellipsis; text-align: left;\">bool</td><td style=\"white-space: nowrap; max-width: 500px; overflow: hidden; text-overflow: ellipsis; text-align: left;\">float64</td><td style=\"white-space: nowrap; max-width: 500px; overflow: hidden; text-overflow: ellipsis; text-align: left;\">int64</td><td style=\"white-space: nowrap; max-width: 500px; overflow: hidden; text-overflow: ellipsis; text-align: left;\">float64</td><td style=\"white-space: nowrap; max-width: 500px; overflow: hidden; text-overflow: ellipsis; text-align: left;\">int64</td><td style=\"white-space: nowrap; max-width: 500px; overflow: hidden; text-overflow: ellipsis; text-align: left;\">str</td><td style=\"white-space: nowrap; max-width: 500px; overflow: hidden; text-overflow: ellipsis; text-align: left;\">str</td></tr>\n",
       "</thead><tbody><tr><td style=\"white-space: nowrap; max-width: 500px; overflow: hidden; text-overflow: ellipsis; \">&quot;FN000187&quot;</td><td style=\"white-space: nowrap; max-width: 500px; overflow: hidden; text-overflow: ellipsis; \">true</td><td style=\"white-space: nowrap; max-width: 500px; overflow: hidden; text-overflow: ellipsis; \">-8.52e-02</td><td style=\"white-space: nowrap; max-width: 500px; overflow: hidden; text-overflow: ellipsis; \">1185</td><td style=\"white-space: nowrap; max-width: 500px; overflow: hidden; text-overflow: ellipsis; \">1.01e+03</td><td style=\"white-space: nowrap; max-width: 500px; overflow: hidden; text-overflow: ellipsis; \">992</td><td style=\"white-space: nowrap; max-width: 500px; overflow: hidden; text-overflow: ellipsis; \">&quot;f&quot;</td><td style=\"white-space: nowrap; max-width: 500px; overflow: hidden; text-overflow: ellipsis; \">&quot;m&quot;</td></tr>\n",
       "<tr><td style=\"white-space: nowrap; max-width: 500px; overflow: hidden; text-overflow: ellipsis; \">&quot;FN000861&quot;</td><td style=\"white-space: nowrap; max-width: 500px; overflow: hidden; text-overflow: ellipsis; \">true</td><td style=\"white-space: nowrap; max-width: 500px; overflow: hidden; text-overflow: ellipsis; \">-1.80e-01</td><td style=\"white-space: nowrap; max-width: 500px; overflow: hidden; text-overflow: ellipsis; \">1284</td><td style=\"white-space: nowrap; max-width: 500px; overflow: hidden; text-overflow: ellipsis; \">1.08e+03</td><td style=\"white-space: nowrap; max-width: 500px; overflow: hidden; text-overflow: ellipsis; \">1046</td><td style=\"white-space: nowrap; max-width: 500px; overflow: hidden; text-overflow: ellipsis; \">&quot;f&quot;</td><td style=\"white-space: nowrap; max-width: 500px; overflow: hidden; text-overflow: ellipsis; \">&quot;m&quot;</td></tr>\n",
       "<tr><td style=\"white-space: nowrap; max-width: 500px; overflow: hidden; text-overflow: ellipsis; \">&quot;FN000871&quot;</td><td style=\"white-space: nowrap; max-width: 500px; overflow: hidden; text-overflow: ellipsis; \">true</td><td style=\"white-space: nowrap; max-width: 500px; overflow: hidden; text-overflow: ellipsis; \">-8.36e-02</td><td style=\"white-space: nowrap; max-width: 500px; overflow: hidden; text-overflow: ellipsis; \">1282</td><td style=\"white-space: nowrap; max-width: 500px; overflow: hidden; text-overflow: ellipsis; \">1.08e+03</td><td style=\"white-space: nowrap; max-width: 500px; overflow: hidden; text-overflow: ellipsis; \">1062</td><td style=\"white-space: nowrap; max-width: 500px; overflow: hidden; text-overflow: ellipsis; \">&quot;f&quot;</td><td style=\"white-space: nowrap; max-width: 500px; overflow: hidden; text-overflow: ellipsis; \">&quot;m&quot;</td></tr>\n",
       "<tr><td style=\"white-space: nowrap; max-width: 500px; overflow: hidden; text-overflow: ellipsis; \">&quot;FN000884&quot;</td><td style=\"white-space: nowrap; max-width: 500px; overflow: hidden; text-overflow: ellipsis; \">false</td><td style=\"white-space: nowrap; max-width: 500px; overflow: hidden; text-overflow: ellipsis; \">8.70e-01</td><td style=\"white-space: nowrap; max-width: 500px; overflow: hidden; text-overflow: ellipsis; \">982</td><td style=\"white-space: nowrap; max-width: 500px; overflow: hidden; text-overflow: ellipsis; \">8.59e+02</td><td style=\"white-space: nowrap; max-width: 500px; overflow: hidden; text-overflow: ellipsis; \">966</td><td style=\"white-space: nowrap; max-width: 500px; overflow: hidden; text-overflow: ellipsis; \">&quot;m&quot;</td><td style=\"white-space: nowrap; max-width: 500px; overflow: hidden; text-overflow: ellipsis; \">&quot;f&quot;</td></tr>\n",
       "<tr><td style=\"white-space: nowrap; max-width: 500px; overflow: hidden; text-overflow: ellipsis; \">&quot;FN000902&quot;</td><td style=\"white-space: nowrap; max-width: 500px; overflow: hidden; text-overflow: ellipsis; \">false</td><td style=\"white-space: nowrap; max-width: 500px; overflow: hidden; text-overflow: ellipsis; \">8.82e-01</td><td style=\"white-space: nowrap; max-width: 500px; overflow: hidden; text-overflow: ellipsis; \">716</td><td style=\"white-space: nowrap; max-width: 500px; overflow: hidden; text-overflow: ellipsis; \">6.48e+02</td><td style=\"white-space: nowrap; max-width: 500px; overflow: hidden; text-overflow: ellipsis; \">708</td><td style=\"white-space: nowrap; max-width: 500px; overflow: hidden; text-overflow: ellipsis; \">&quot;m&quot;</td><td style=\"white-space: nowrap; max-width: 500px; overflow: hidden; text-overflow: ellipsis; \">&quot;f&quot;</td></tr>\n",
       "<tr><td style=\"white-space: nowrap; max-width: 500px; overflow: hidden; text-overflow: ellipsis; \">&quot;FN000957&quot;</td><td style=\"white-space: nowrap; max-width: 500px; overflow: hidden; text-overflow: ellipsis; \">false</td><td style=\"white-space: nowrap; max-width: 500px; overflow: hidden; text-overflow: ellipsis; \">8.75e-01</td><td style=\"white-space: nowrap; max-width: 500px; overflow: hidden; text-overflow: ellipsis; \">920</td><td style=\"white-space: nowrap; max-width: 500px; overflow: hidden; text-overflow: ellipsis; \">8.08e+02</td><td style=\"white-space: nowrap; max-width: 500px; overflow: hidden; text-overflow: ellipsis; \">906</td><td style=\"white-space: nowrap; max-width: 500px; overflow: hidden; text-overflow: ellipsis; \">&quot;m&quot;</td><td style=\"white-space: nowrap; max-width: 500px; overflow: hidden; text-overflow: ellipsis; \">&quot;f&quot;</td></tr>\n",
       "<tr><td style=\"white-space: nowrap; max-width: 500px; overflow: hidden; text-overflow: ellipsis; \">&quot;FN001127&quot;</td><td style=\"white-space: nowrap; max-width: 500px; overflow: hidden; text-overflow: ellipsis; \">false</td><td style=\"white-space: nowrap; max-width: 500px; overflow: hidden; text-overflow: ellipsis; \">9.22e-01</td><td style=\"white-space: nowrap; max-width: 500px; overflow: hidden; text-overflow: ellipsis; \">997</td><td style=\"white-space: nowrap; max-width: 500px; overflow: hidden; text-overflow: ellipsis; \">8.68e+02</td><td style=\"white-space: nowrap; max-width: 500px; overflow: hidden; text-overflow: ellipsis; \">987</td><td style=\"white-space: nowrap; max-width: 500px; overflow: hidden; text-overflow: ellipsis; \">&quot;m&quot;</td><td style=\"white-space: nowrap; max-width: 500px; overflow: hidden; text-overflow: ellipsis; \">&quot;f&quot;</td></tr>\n",
       "</tbody></table>"
      ],
      "text/plain": [
       "+------------+-----------+-----------+----------+---------------+\n",
       "| s          | is_female |    f_stat | n_called | expected_homs |\n",
       "+------------+-----------+-----------+----------+---------------+\n",
       "| str        |      bool |   float64 |    int64 |       float64 |\n",
       "+------------+-----------+-----------+----------+---------------+\n",
       "| \"FN000187\" |      true | -8.52e-02 |     1185 |      1.01e+03 |\n",
       "| \"FN000861\" |      true | -1.80e-01 |     1284 |      1.08e+03 |\n",
       "| \"FN000871\" |      true | -8.36e-02 |     1282 |      1.08e+03 |\n",
       "| \"FN000884\" |     false |  8.70e-01 |      982 |      8.59e+02 |\n",
       "| \"FN000902\" |     false |  8.82e-01 |      716 |      6.48e+02 |\n",
       "| \"FN000957\" |     false |  8.75e-01 |      920 |      8.08e+02 |\n",
       "| \"FN001127\" |     false |  9.22e-01 |      997 |      8.68e+02 |\n",
       "+------------+-----------+-----------+----------+---------------+\n",
       "\n",
       "+---------------+-----+--------+\n",
       "| observed_homs | sex | gender |\n",
       "+---------------+-----+--------+\n",
       "|         int64 | str | str    |\n",
       "+---------------+-----+--------+\n",
       "|           992 | \"f\" | \"m\"    |\n",
       "|          1046 | \"f\" | \"m\"    |\n",
       "|          1062 | \"f\" | \"m\"    |\n",
       "|           966 | \"m\" | \"f\"    |\n",
       "|           708 | \"m\" | \"f\"    |\n",
       "|           906 | \"m\" | \"f\"    |\n",
       "|           987 | \"m\" | \"f\"    |\n",
       "+---------------+-----+--------+"
      ]
     },
     "metadata": {},
     "output_type": "display_data"
    }
   ],
   "source": [
    "imputed_sex_ht.filter(imputed_sex_ht.sex != imputed_sex_ht.gender).show()"
   ]
  },
  {
   "cell_type": "markdown",
   "metadata": {},
   "source": [
    "We will investigate whether poor data quality can explain the disconcordancy. If anything seems to be abnormal with these samples, we may distrust the data."
   ]
  },
  {
   "cell_type": "code",
   "execution_count": 13,
   "metadata": {},
   "outputs": [],
   "source": [
    "# Annotate the table with a boolean sex mismatch variable.\n",
    "imputed_sex_ht = imputed_sex_ht.annotate(sex_mismatch = imputed_sex_ht.sex != imputed_sex_ht.gender)\n",
    "\n",
    "# Annotate the matrix table with the same information.\n",
    "mt = mt.annotate_cols(sex_mismatch = imputed_sex_ht[mt.s].sex_mismatch)"
   ]
  },
  {
   "cell_type": "markdown",
   "metadata": {},
   "source": [
    "The plot below shows the per samples DP mean and against different other QC variables. The samples with disconcordant sex are highlighted in blue.\n",
    "\n",
    "We must note that it seems that GQ seems to be correlated with number of heterozygotes. Samples with low genotype quality seem to have fewer heterozygotes. This does make some intuitivt sense. If a sample has low depth it will have fewer called variants, therefore more homozygote reference and therefore fewer heterozygotes. This same pattern is reflected in the call rate and number of singletons."
   ]
  },
  {
   "cell_type": "code",
   "execution_count": 14,
   "metadata": {},
   "outputs": [
    {
     "name": "stderr",
     "output_type": "stream",
     "text": [
      "2021-10-27 12:28:08 Hail: INFO: Coerced sorted dataset\n",
      "2021-10-27 12:28:08 Hail: INFO: Coerced sorted dataset\n",
      "2021-10-27 12:28:10 Hail: INFO: Coerced sorted dataset\n",
      "2021-10-27 12:28:10 Hail: INFO: Coerced sorted dataset\n",
      "2021-10-27 12:28:11 Hail: INFO: Coerced sorted dataset\n",
      "2021-10-27 12:28:11 Hail: INFO: Coerced sorted dataset\n",
      "2021-10-27 12:28:12 Hail: INFO: Coerced sorted dataset\n",
      "2021-10-27 12:28:12 Hail: INFO: Coerced sorted dataset\n"
     ]
    }
   ],
   "source": [
    "exprs_list = [('# heterozygotes', mt.sample_qc.n_het), ('Ti/Tv rate', mt.sample_qc.r_ti_tv), ('Call rate', mt.sample_qc.call_rate), ('# singletons', mt.sample_qc.n_singleton)]\n",
    "plot_list = []\n",
    "for name, exprs in exprs_list:\n",
    "    p = hl.plot.scatter(mt.sample_qc.dp_stats.mean, exprs, label=mt.sex_mismatch, title=name, xlabel='DP mean', ylabel=name)\n",
    "    p.plot_width = 800\n",
    "    p.plot_height = 500\n",
    "    plot_list.append(p)"
   ]
  },
  {
   "cell_type": "code",
   "execution_count": 15,
   "metadata": {},
   "outputs": [
    {
     "data": {
      "text/html": [
       "\n",
       "\n",
       "\n",
       "\n",
       "\n",
       "\n",
       "  <div class=\"bk-root\" id=\"1282d642-187e-4440-8dc4-f734a17a8d88\" data-root-id=\"1360\"></div>\n"
      ]
     },
     "metadata": {},
     "output_type": "display_data"
    },
    {
     "data": {
      "application/javascript": [
       "(function(root) {\n",
       "  function embed_document(root) {\n",
       "    \n",
       "  var docs_json = {\"8ca5e6cc-b61e-4867-8d5b-bde0bfdbdcbe\":{\"roots\":{\"references\":[{\"attributes\":{\"children\":[{\"id\":\"1359\",\"type\":\"ToolbarBox\"},{\"id\":\"1357\",\"type\":\"GridBox\"}]},\"id\":\"1360\",\"type\":\"Column\"},{\"attributes\":{\"overlay\":{\"id\":\"1322\",\"type\":\"BoxAnnotation\"}},\"id\":\"1120\",\"type\":\"BoxZoomTool\"},{\"attributes\":{},\"id\":\"1104\",\"type\":\"LinearScale\"},{\"attributes\":{\"callback\":null},\"id\":\"1100\",\"type\":\"DataRange1d\"},{\"attributes\":{\"dimension\":1,\"ticker\":{\"id\":\"1114\",\"type\":\"BasicTicker\"}},\"id\":\"1117\",\"type\":\"Grid\"},{\"attributes\":{\"factors\":[\"true\",\"false\"],\"palette\":[\"#1f77b4\",\"#ff7f0e\",\"#2ca02c\",\"#d62728\",\"#9467bd\",\"#8c564b\",\"#e377c2\",\"#7f7f7f\",\"#bcbd22\",\"#17becf\"]},\"id\":\"1242\",\"type\":\"CategoricalColorMapper\"},{\"attributes\":{\"column_name\":\"label\",\"group\":\"true\"},\"id\":\"1141\",\"type\":\"GroupFilter\"},{\"attributes\":{\"callback\":null,\"tooltips\":[[\"x\",\"@x\"],[\"y\",\"@y\"],[\"label\",\"@label\"]]},\"id\":\"1132\",\"type\":\"HoverTool\"},{\"attributes\":{},\"id\":\"1175\",\"type\":\"SaveTool\"},{\"attributes\":{\"column_name\":\"label\",\"group\":\"false\"},\"id\":\"1135\",\"type\":\"GroupFilter\"},{\"attributes\":{},\"id\":\"1214\",\"type\":\"LinearScale\"},{\"attributes\":{\"active_drag\":\"auto\",\"active_inspect\":\"auto\",\"active_multi\":null,\"active_scroll\":\"auto\",\"active_tap\":\"auto\",\"tools\":[{\"id\":\"1172\",\"type\":\"PanTool\"},{\"id\":\"1173\",\"type\":\"WheelZoomTool\"},{\"id\":\"1174\",\"type\":\"BoxZoomTool\"},{\"id\":\"1175\",\"type\":\"SaveTool\"},{\"id\":\"1176\",\"type\":\"ResetTool\"},{\"id\":\"1177\",\"type\":\"HelpTool\"},{\"id\":\"1186\",\"type\":\"HoverTool\"}]},\"id\":\"1178\",\"type\":\"Toolbar\"},{\"attributes\":{},\"id\":\"1340\",\"type\":\"BasicTicker\"},{\"attributes\":{\"axis_label\":\"DP mean\",\"formatter\":{\"id\":\"1326\",\"type\":\"BasicTickFormatter\"},\"ticker\":{\"id\":\"1163\",\"type\":\"BasicTicker\"}},\"id\":\"1162\",\"type\":\"LinearAxis\"},{\"attributes\":{\"fill_color\":{\"field\":\"label\",\"transform\":{\"id\":\"1134\",\"type\":\"CategoricalColorMapper\"}},\"line_color\":{\"field\":\"label\",\"transform\":{\"id\":\"1134\",\"type\":\"CategoricalColorMapper\"}},\"x\":{\"field\":\"x\"},\"y\":{\"field\":\"y\"}},\"id\":\"1144\",\"type\":\"Circle\"},{\"attributes\":{\"text\":\"# heterozygotes\"},\"id\":\"1098\",\"type\":\"Title\"},{\"attributes\":{\"text\":\"Call rate\"},\"id\":\"1206\",\"type\":\"Title\"},{\"attributes\":{},\"id\":\"1114\",\"type\":\"BasicTicker\"},{\"attributes\":{\"below\":[{\"id\":\"1270\",\"type\":\"LinearAxis\"}],\"center\":[{\"id\":\"1274\",\"type\":\"Grid\"},{\"id\":\"1279\",\"type\":\"Grid\"}],\"left\":[{\"id\":\"1275\",\"type\":\"LinearAxis\"},{\"id\":\"1311\",\"type\":\"Legend\"},{\"id\":\"1312\",\"type\":\"ColorBar\"}],\"plot_height\":400,\"plot_width\":600,\"renderers\":[{\"id\":\"1302\",\"type\":\"GlyphRenderer\"},{\"id\":\"1308\",\"type\":\"GlyphRenderer\"}],\"title\":{\"id\":\"1260\",\"type\":\"Title\"},\"toolbar\":{\"id\":\"1286\",\"type\":\"Toolbar\"},\"toolbar_location\":null,\"x_range\":{\"id\":\"1262\",\"type\":\"DataRange1d\"},\"x_scale\":{\"id\":\"1266\",\"type\":\"LinearScale\"},\"y_range\":{\"id\":\"1264\",\"type\":\"DataRange1d\"},\"y_scale\":{\"id\":\"1268\",\"type\":\"LinearScale\"}},\"id\":\"1259\",\"subtype\":\"Figure\",\"type\":\"Plot\"},{\"attributes\":{\"axis_label\":\"# heterozygotes\",\"formatter\":{\"id\":\"1317\",\"type\":\"BasicTickFormatter\"},\"ticker\":{\"id\":\"1114\",\"type\":\"BasicTicker\"}},\"id\":\"1113\",\"type\":\"LinearAxis\"},{\"attributes\":{\"column_name\":\"label\",\"group\":\"false\"},\"id\":\"1243\",\"type\":\"GroupFilter\"},{\"attributes\":{},\"id\":\"1121\",\"type\":\"SaveTool\"},{\"attributes\":{},\"id\":\"1158\",\"type\":\"LinearScale\"},{\"attributes\":{\"label\":{\"value\":\"false\"},\"renderers\":[{\"id\":\"1140\",\"type\":\"GlyphRenderer\"}]},\"id\":\"1147\",\"type\":\"LegendItem\"},{\"attributes\":{\"column_name\":\"label\",\"group\":\"false\"},\"id\":\"1189\",\"type\":\"GroupFilter\"},{\"attributes\":{},\"id\":\"1123\",\"type\":\"HelpTool\"},{\"attributes\":{\"click_policy\":\"hide\",\"items\":[{\"id\":\"1147\",\"type\":\"LegendItem\"},{\"id\":\"1148\",\"type\":\"LegendItem\"}]},\"id\":\"1149\",\"type\":\"Legend\"},{\"attributes\":{\"data_source\":{\"id\":\"1133\",\"type\":\"ColumnDataSource\"},\"glyph\":{\"id\":\"1138\",\"type\":\"Circle\"},\"hover_glyph\":null,\"muted_glyph\":null,\"nonselection_glyph\":{\"id\":\"1139\",\"type\":\"Circle\"},\"selection_glyph\":null,\"view\":{\"id\":\"1136\",\"type\":\"CDSView\"}},\"id\":\"1140\",\"type\":\"GlyphRenderer\"},{\"attributes\":{\"ticker\":{\"id\":\"1109\",\"type\":\"BasicTicker\"}},\"id\":\"1112\",\"type\":\"Grid\"},{\"attributes\":{\"callback\":null},\"id\":\"1154\",\"type\":\"DataRange1d\"},{\"attributes\":{\"data_source\":{\"id\":\"1133\",\"type\":\"ColumnDataSource\"},\"glyph\":{\"id\":\"1144\",\"type\":\"Circle\"},\"hover_glyph\":null,\"muted_glyph\":null,\"nonselection_glyph\":{\"id\":\"1145\",\"type\":\"Circle\"},\"selection_glyph\":null,\"view\":{\"id\":\"1142\",\"type\":\"CDSView\"}},\"id\":\"1146\",\"type\":\"GlyphRenderer\"},{\"attributes\":{\"fill_color\":{\"field\":\"label\",\"transform\":{\"id\":\"1242\",\"type\":\"CategoricalColorMapper\"}},\"line_color\":{\"field\":\"label\",\"transform\":{\"id\":\"1242\",\"type\":\"CategoricalColorMapper\"}},\"x\":{\"field\":\"x\"},\"y\":{\"field\":\"y\"}},\"id\":\"1246\",\"type\":\"Circle\"},{\"attributes\":{},\"id\":\"1212\",\"type\":\"LinearScale\"},{\"attributes\":{},\"id\":\"1118\",\"type\":\"PanTool\"},{\"attributes\":{\"color_mapper\":null,\"formatter\":{\"id\":\"1319\",\"type\":\"BasicTickFormatter\"},\"ticker\":{\"id\":\"1318\",\"type\":\"BasicTicker\"},\"visible\":false},\"id\":\"1150\",\"type\":\"ColorBar\"},{\"attributes\":{\"below\":[{\"id\":\"1162\",\"type\":\"LinearAxis\"}],\"center\":[{\"id\":\"1166\",\"type\":\"Grid\"},{\"id\":\"1171\",\"type\":\"Grid\"}],\"left\":[{\"id\":\"1167\",\"type\":\"LinearAxis\"},{\"id\":\"1203\",\"type\":\"Legend\"},{\"id\":\"1204\",\"type\":\"ColorBar\"}],\"plot_height\":400,\"plot_width\":600,\"renderers\":[{\"id\":\"1194\",\"type\":\"GlyphRenderer\"},{\"id\":\"1200\",\"type\":\"GlyphRenderer\"}],\"title\":{\"id\":\"1152\",\"type\":\"Title\"},\"toolbar\":{\"id\":\"1178\",\"type\":\"Toolbar\"},\"toolbar_location\":null,\"x_range\":{\"id\":\"1154\",\"type\":\"DataRange1d\"},\"x_scale\":{\"id\":\"1158\",\"type\":\"LinearScale\"},\"y_range\":{\"id\":\"1156\",\"type\":\"DataRange1d\"},\"y_scale\":{\"id\":\"1160\",\"type\":\"LinearScale\"}},\"id\":\"1151\",\"subtype\":\"Figure\",\"type\":\"Plot\"},{\"attributes\":{\"callback\":null,\"tooltips\":[[\"x\",\"@x\"],[\"y\",\"@y\"],[\"label\",\"@label\"]]},\"id\":\"1186\",\"type\":\"HoverTool\"},{\"attributes\":{},\"id\":\"1351\",\"type\":\"BasicTicker\"},{\"attributes\":{\"callback\":null},\"id\":\"1208\",\"type\":\"DataRange1d\"},{\"attributes\":{},\"id\":\"1163\",\"type\":\"BasicTicker\"},{\"attributes\":{\"fill_color\":{\"field\":\"label\",\"transform\":{\"id\":\"1242\",\"type\":\"CategoricalColorMapper\"}},\"line_color\":{\"field\":\"label\",\"transform\":{\"id\":\"1242\",\"type\":\"CategoricalColorMapper\"}},\"x\":{\"field\":\"x\"},\"y\":{\"field\":\"y\"}},\"id\":\"1252\",\"type\":\"Circle\"},{\"attributes\":{\"factors\":[\"true\",\"false\"],\"palette\":[\"#1f77b4\",\"#ff7f0e\",\"#2ca02c\",\"#d62728\",\"#9467bd\",\"#8c564b\",\"#e377c2\",\"#7f7f7f\",\"#bcbd22\",\"#17becf\"]},\"id\":\"1134\",\"type\":\"CategoricalColorMapper\"},{\"attributes\":{\"overlay\":{\"id\":\"1333\",\"type\":\"BoxAnnotation\"}},\"id\":\"1174\",\"type\":\"BoxZoomTool\"},{\"attributes\":{\"fill_alpha\":{\"value\":0.1},\"fill_color\":{\"value\":\"#1f77b4\"},\"line_alpha\":{\"value\":0.1},\"line_color\":{\"value\":\"#1f77b4\"},\"x\":{\"field\":\"x\"},\"y\":{\"field\":\"y\"}},\"id\":\"1139\",\"type\":\"Circle\"},{\"attributes\":{},\"id\":\"1177\",\"type\":\"HelpTool\"},{\"attributes\":{\"axis_label\":\"Ti/Tv rate\",\"formatter\":{\"id\":\"1328\",\"type\":\"BasicTickFormatter\"},\"ticker\":{\"id\":\"1168\",\"type\":\"BasicTicker\"}},\"id\":\"1167\",\"type\":\"LinearAxis\"},{\"attributes\":{\"column_name\":\"label\",\"group\":\"true\"},\"id\":\"1249\",\"type\":\"GroupFilter\"},{\"attributes\":{},\"id\":\"1172\",\"type\":\"PanTool\"},{\"attributes\":{\"filters\":[{\"id\":\"1135\",\"type\":\"GroupFilter\"}],\"source\":{\"id\":\"1133\",\"type\":\"ColumnDataSource\"}},\"id\":\"1136\",\"type\":\"CDSView\"},{\"attributes\":{\"callback\":null,\"data\":{\"index\":[0,1,2,3,4,5,6,7,8,9,10,11,12,13,14,15,16,17,18,19,20,21,22,23,24,25,26,27,28,29,30,31,32,33,34,35,36,37,38,39,40,41,42,43,44,45,46,47,48,49,50,51,52,53,54,55,56,57,58,59,60,61,62,63,64,65,66,67,68,69,70,71,72,73,74,75,76,77,78,79,80,81,82,83,84,85,86,87,88,89,90,91,92,93,94,95,96,97,98,99,100,101,102,103,104,105,106,107,108,109,110,111,112,113,114,115,116,117,118,119,120,121,122,123,124,125,126,127,128,129,130,131,132,133,134,135,136,137,138,139,140,141,142,143,144,145,146,147,148,149,150,151,152,153,154,155,156,157,158,159,160,161,162,163,164,165,166,167,168,169,170,171,172,173,174,175,176,177,178,179,180,181,182,183,184,185,186,187,188,189,190,191,192,193,194,195,196,197],\"label\":[\"false\",\"false\",\"false\",\"false\",\"false\",\"false\",\"false\",\"false\",\"false\",\"false\",\"false\",\"false\",\"false\",\"false\",\"false\",\"false\",\"false\",\"false\",\"true\",\"false\",\"false\",\"false\",\"false\",\"false\",\"false\",\"false\",\"false\",\"false\",\"false\",\"false\",\"false\",\"false\",\"false\",\"false\",\"false\",\"false\",\"false\",\"false\",\"false\",\"false\",\"false\",\"true\",\"false\",\"false\",\"false\",\"false\",\"false\",\"false\",\"false\",\"false\",\"false\",\"false\",\"false\",\"false\",\"false\",\"false\",\"false\",\"false\",\"false\",\"false\",\"false\",\"false\",\"false\",\"false\",\"false\",\"false\",\"false\",\"false\",\"false\",\"false\",\"false\",\"false\",\"false\",\"false\",\"false\",\"false\",\"false\",\"false\",\"false\",\"true\",\"false\",\"false\",\"false\",\"false\",\"false\",\"false\",\"false\",\"false\",\"false\",\"false\",\"false\",\"false\",\"false\",\"false\",\"false\",\"false\",\"false\",\"false\",\"false\",\"false\",\"false\",\"false\",\"false\",\"false\",\"false\",\"false\",\"false\",\"false\",\"false\",\"false\",\"false\",\"false\",\"false\",\"false\",\"false\",\"false\",\"false\",\"false\",\"false\",\"false\",\"false\",\"false\",\"false\",\"false\",\"false\",\"false\",\"false\",\"false\",\"false\",\"false\",\"false\",\"false\",\"false\",\"false\",\"false\",\"false\",\"false\",\"false\",\"false\",\"false\",\"false\",\"false\",\"false\",\"false\",\"false\",\"false\",\"false\",\"false\",\"false\",\"false\",\"false\",\"false\",\"false\",\"false\",\"false\",\"false\",\"false\",\"false\",\"false\",\"false\",\"false\",\"false\",\"false\",\"false\",\"false\",\"false\",\"false\",\"false\",\"false\",\"false\",\"false\",\"false\",\"false\",\"false\",\"false\",\"false\",\"false\",\"false\",\"false\",\"false\",\"false\",\"false\",\"false\",\"false\",\"false\",\"false\",\"false\",\"false\",\"false\",\"false\",\"false\",\"false\",\"false\",\"false\",\"false\",\"false\",\"false\",\"false\"],\"x\":{\"__ndarray__\":\"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\",\"dtype\":\"float64\",\"shape\":[198]},\"y\":{\"__ndarray__\":\"AAAAAAAAAAAAAAAAAADwPwAAAAAAAAAAAAAAAAAAAAAAAAAAAAAAAAAAAAAAAAAAAAAAAAAAAAAAAAAAAAAAAAAAAAAAAAAAAAAAAAAA8D8AAAAAAAAAAAAAAAAAAAAAAAAAAAAA8D8AAAAAAAAAAAAAAAAAAPA/AAAAAAAA8D8AAAAAAADwPwAAAAAAAAAAAAAAAAAAAAAAAAAAAAAAAAAAAAAAAAAAAAAAAAAAAAAAAAAAAADwPwAAAAAAAAAAAAAAAAAAAAAAAAAAAAAAAAAAAAAAAAAAAAAAAAAAAAAAAAAAAAAAAAAAAAAAAAAAAAAAAAAAAAAAAAAAAAAAAAAAAAAAAAAAAAAAAAAAAAAAAAAAAAAAAAAAAAAAAAAAAAAAAAAAAAAAAAAAAAAAAAAAAAAAAAAAAAAAAAAAAAAAAAAAAAAAAAAAAAAAAAAAAAAAAAAAAAAAAAAAAAAAAAAAAAAAAAAAAAAAAAAAAAAAAAAAAAAAAAAAAAAAAPA/AAAAAAAAAAAAAAAAAAAAAAAAAAAAAAAAAAAAAAAAAAAAAAAAAAAAAAAAAAAAAAAAAAAAAAAA8D8AAAAAAAAAAAAAAAAAAAAAAAAAAAAAAAAAAAAAAAAAAAAAAAAAAAAAAAAAAAAAAAAAAAAAAAAAAAAAAAAAAAAAAAAAAAAAAAAAAAAAAAAAAAAAAAAAAAAAAAAAAAAAAAAAAAAAAAAAAAAAAAAAAAAAAAAAAAAAAAAAAAAAAAAAAAAAAAAAAAAAAAAAAAAAAAAAAAAAAAAAAAAAAAAAAAAAAAAAAAAAAAAAAAAAAAAAAAAAAAAAAPA/AAAAAAAAAAAAAAAAAAAAAAAAAAAAAAAAAAAAAAAAAAAAAAAAAAAAAAAAAAAAAAAAAAAAAAAAAAAAAAAAAAAAAAAAAAAAAAAAAAAAAAAAAAAAAAAAAAAAAAAAAAAAAAAAAAAAAAAA8D8AAAAAAAAAAAAAAAAAAPA/AAAAAAAAAAAAAAAAAAAAAAAAAAAAAAAAAAAAAAAAAAAAAAAAAAAAAAAAAAAAAAAAAAAAAAAAAAAAAAAAAAAAAAAAAAAAAAAAAAAAAAAAAAAAAAAAAADwPwAAAAAAAAAAAAAAAAAA8D8AAAAAAAAAAAAAAAAAAAAAAAAAAAAAAAAAAAAAAAAAAAAAAAAAAAAAAAAAAAAAAAAAAAAAAAAAAAAAAAAAAAAAAAAAAAAA8D8AAAAAAAAAAAAAAAAAAAAAAAAAAAAA8D8AAAAAAAAAAAAAAAAAAAAAAAAAAAAAAAAAAAAAAADwPwAAAAAAAAAAAAAAAAAAAAAAAAAAAAAAAAAAAAAAAPA/AAAAAAAAAAAAAAAAAAAAAAAAAAAAAAAAAAAAAAAAAAAAAAAAAAAAAAAAAAAAAAAAAAAAAAAA8D8AAAAAAAAAAAAAAAAAAAAAAAAAAAAAAAAAAAAAAAAAAAAAAAAAAAAAAAAAAAAAAAAAAAAAAAAAAAAAAAAAAAAAAAAAAAAAAAAAAAAAAAAAAAAAAAAAAAAAAAAAAAAAAAAAAAAAAAAAAAAAAAAAAAAAAAAAAAAAAAAAAAAAAAAAAAAAAAAAAAAAAAAAAAAAAAAAAAAAAAAAAAAAAAAAAAAAAAAAAAAAAAAAAAAAAADwPwAAAAAAAAAAAAAAAAAAAAAAAAAAAAAAAAAAAAAAAAAAAAAAAAAAAAAAAAAAAADwPwAAAAAAAAAAAAAAAAAAAAAAAAAAAAAAAAAAAAAAAAAAAAAAAAAA8D8AAAAAAAAAAAAAAAAAAABAAAAAAAAAAAAAAAAAAAAAAAAAAAAAAAAAAAAAAAAAAAAAAAAAAAAAAAAAAAAAAAAAAAAAAAAAAAAAAAAAAAAAAAAAAAAAAAAAAAAAAAAAAAAAAAAAAAAAAAAAAAAAAAAAAAAAAAAAAAAAAAAAAAAAAAAAAAAAAAAAAAAAAAAAAAAAAAAAAAAAAAAAAAAAAAAAAAAAAAAA8D8AAAAAAAAAAAAAAAAAAAAAAAAAAAAAAAAAAAAAAAAAAAAAAAAAAAAAAAAAAAAAAAAAAAAAAAAAAAAAAAAAAAAAAAAAAAAAFEAAAAAAAAAAAAAAAAAAAPA/\",\"dtype\":\"float64\",\"shape\":[198]}},\"selected\":{\"id\":\"1353\",\"type\":\"Selection\"},\"selection_policy\":{\"id\":\"1354\",\"type\":\"UnionRenderers\"}},\"id\":\"1295\",\"type\":\"ColumnDataSource\"},{\"attributes\":{\"text\":\"# singletons\"},\"id\":\"1260\",\"type\":\"Title\"},{\"attributes\":{},\"id\":\"1106\",\"type\":\"LinearScale\"},{\"attributes\":{},\"id\":\"1176\",\"type\":\"ResetTool\"},{\"attributes\":{\"filters\":[{\"id\":\"1141\",\"type\":\"GroupFilter\"}],\"source\":{\"id\":\"1133\",\"type\":\"ColumnDataSource\"}},\"id\":\"1142\",\"type\":\"CDSView\"},{\"attributes\":{},\"id\":\"1122\",\"type\":\"ResetTool\"},{\"attributes\":{},\"id\":\"1168\",\"type\":\"BasicTicker\"},{\"attributes\":{\"axis_label\":\"DP mean\",\"formatter\":{\"id\":\"1337\",\"type\":\"BasicTickFormatter\"},\"ticker\":{\"id\":\"1217\",\"type\":\"BasicTicker\"}},\"id\":\"1216\",\"type\":\"LinearAxis\"},{\"attributes\":{},\"id\":\"1341\",\"type\":\"BasicTickFormatter\"},{\"attributes\":{\"axis_label\":\"DP mean\",\"formatter\":{\"id\":\"1315\",\"type\":\"BasicTickFormatter\"},\"ticker\":{\"id\":\"1109\",\"type\":\"BasicTicker\"}},\"id\":\"1108\",\"type\":\"LinearAxis\"},{\"attributes\":{\"data_source\":{\"id\":\"1241\",\"type\":\"ColumnDataSource\"},\"glyph\":{\"id\":\"1252\",\"type\":\"Circle\"},\"hover_glyph\":null,\"muted_glyph\":null,\"nonselection_glyph\":{\"id\":\"1253\",\"type\":\"Circle\"},\"selection_glyph\":null,\"view\":{\"id\":\"1250\",\"type\":\"CDSView\"}},\"id\":\"1254\",\"type\":\"GlyphRenderer\"},{\"attributes\":{\"bottom_units\":\"screen\",\"fill_alpha\":{\"value\":0.5},\"fill_color\":{\"value\":\"lightgrey\"},\"left_units\":\"screen\",\"level\":\"overlay\",\"line_alpha\":{\"value\":1.0},\"line_color\":{\"value\":\"black\"},\"line_dash\":[4,4],\"line_width\":{\"value\":2},\"render_mode\":\"css\",\"right_units\":\"screen\",\"top_units\":\"screen\"},\"id\":\"1344\",\"type\":\"BoxAnnotation\"},{\"attributes\":{\"callback\":null,\"data\":{\"index\":[0,1,2,3,4,5,6,7,8,9,10,11,12,13,14,15,16,17,18,19,20,21,22,23,24,25,26,27,28,29,30,31,32,33,34,35,36,37,38,39,40,41,42,43,44,45,46,47,48,49,50,51,52,53,54,55,56,57,58,59,60,61,62,63,64,65,66,67,68,69,70,71,72,73,74,75,76,77,78,79,80,81,82,83,84,85,86,87,88,89,90,91,92,93,94,95,96,97,98,99,100,101,102,103,104,105,106,107,108,109,110,111,112,113,114,115,116,117,118,119,120,121,122,123,124,125,126,127,128,129,130,131,132,133,134,135,136,137,138,139,140,141,142,143,144,145,146,147,148,149,150,151,152,153,154,155,156,157,158,159,160,161,162,163,164,165,166,167,168,169,170,171,172,173,174,175,176,177,178,179,180,181,182,183,184,185,186,187,188,189,190,191,192,193,194,195,196,197,198,199,200,201,202,203,204,205,206,207,208,209,210,211,212,213,214,215,216,217,218,219,220,221,222,223,224,225,226,227,228,229,230,231,232,233,234,235,236,237,238,239,240,241,242,243,244,245,246,247,248,249,250,251,252,253,254,255,256,257,258,259,260,261,262,263,264,265,266,267,268,269,270,271,272,273,274,275,276,277,278,279,280,281,282,283,284,285,286,287,288,289,290,291,292,293,294,295,296,297,298,299,300,301,302,303,304,305,306,307,308,309,310,311,312,313,314,315,316,317,318,319,320,321,322,323,324,325,326,327,328,329,330,331,332,333,334,335,336,337,338,339,340,341,342,343,344,345,346,347,348,349,350,351,352,353,354,355,356,357,358,359,360,361,362,363,364,365,366,367,368,369,370,371,372,373,374,375,376,377,378,379,380,381,382,383,384,385,386,387,388,389,390,391,392,393,394,395,396,397,398,399,400,401,402,403,404,405,406,407,408,409,410,411,412,413,414,415,416,417,418,419,420,421,422,423,424,425,426,427,428,429,430,431,432,433,434,435,436,437,438,439,440,441,442,443,444,445,446,447,448,449,450,451,452,453],\"label\":[\"false\",\"false\",\"false\",\"false\",\"false\",\"false\",\"false\",\"false\",\"false\",\"false\",\"false\",\"false\",\"false\",\"false\",\"false\",\"false\",\"false\",\"false\",\"false\",\"false\",\"false\",\"false\",\"true\",\"false\",\"false\",\"false\",\"false\",\"false\",\"false\",\"false\",\"false\",\"false\",\"false\",\"false\",\"false\",\"false\",\"false\",\"false\",\"false\",\"false\",\"false\",\"false\",\"false\",\"false\",\"false\",\"false\",\"false\",\"false\",\"false\",\"false\",\"false\",\"false\",\"false\",\"false\",\"false\",\"false\",\"false\",\"false\",\"false\",\"false\",\"false\",\"false\",\"false\",\"false\",\"false\",\"false\",\"false\",\"true\",\"false\",\"false\",\"false\",\"false\",\"false\",\"false\",\"false\",\"false\",\"false\",\"false\",\"false\",\"false\",\"false\",\"false\",\"false\",\"false\",\"false\",\"false\",\"false\",\"false\",\"false\",\"false\",\"false\",\"false\",\"false\",\"false\",\"false\",\"false\",\"false\",\"false\",\"false\",\"false\",\"false\",\"false\",\"false\",\"false\",\"false\",\"false\",\"false\",\"false\",\"false\",\"false\",\"false\",\"false\",\"false\",\"false\",\"false\",\"false\",\"false\",\"false\",\"false\",\"false\",\"false\",\"false\",\"false\",\"false\",\"false\",\"false\",\"false\",\"false\",\"false\",\"false\",\"false\",\"false\",\"false\",\"false\",\"false\",\"false\",\"false\",\"false\",\"false\",\"false\",\"false\",\"false\",\"false\",\"false\",\"false\",\"false\",\"false\",\"false\",\"false\",\"false\",\"false\",\"false\",\"false\",\"false\",\"false\",\"false\",\"false\",\"false\",\"false\",\"false\",\"false\",\"false\",\"false\",\"false\",\"false\",\"false\",\"false\",\"false\",\"false\",\"false\",\"false\",\"false\",\"false\",\"false\",\"false\",\"false\",\"false\",\"false\",\"false\",\"false\",\"false\",\"false\",\"false\",\"true\",\"false\",\"false\",\"false\",\"false\",\"false\",\"false\",\"false\",\"true\",\"false\",\"false\",\"false\",\"false\",\"false\",\"false\",\"false\",\"false\",\"false\",\"false\",\"false\",\"false\",\"false\",\"false\",\"false\",\"false\",\"false\",\"false\",\"false\",\"false\",\"false\",\"false\",\"false\",\"false\",\"false\",\"false\",\"false\",\"false\",\"false\",\"false\",\"false\",\"false\",\"false\",\"false\",\"false\",\"false\",\"false\",\"false\",\"false\",\"false\",\"false\",\"false\",\"false\",\"false\",\"false\",\"false\",\"false\",\"false\",\"false\",\"false\",\"false\",\"false\",\"false\",\"false\",\"false\",\"false\",\"false\",\"false\",\"false\",\"false\",\"false\",\"false\",\"false\",\"false\",\"false\",\"false\",\"false\",\"false\",\"false\",\"false\",\"false\",\"false\",\"false\",\"false\",\"false\",\"false\",\"false\",\"false\",\"false\",\"false\",\"false\",\"false\",\"false\",\"false\",\"false\",\"false\",\"false\",\"false\",\"false\",\"false\",\"false\",\"false\",\"false\",\"false\",\"false\",\"false\",\"false\",\"false\",\"false\",\"false\",\"false\",\"false\",\"false\",\"false\",\"false\",\"false\",\"false\",\"false\",\"false\",\"false\",\"false\",\"false\",\"false\",\"false\",\"false\",\"false\",\"false\",\"false\",\"false\",\"false\",\"false\",\"false\",\"false\",\"false\",\"false\",\"false\",\"false\",\"false\",\"false\",\"false\",\"false\",\"false\",\"false\",\"false\",\"false\",\"false\",\"false\",\"false\",\"false\",\"false\",\"false\",\"false\",\"false\",\"false\",\"false\",\"false\",\"false\",\"false\",\"false\",\"false\",\"false\",\"false\",\"false\",\"false\",\"false\",\"false\",\"false\",\"false\",\"false\",\"false\",\"false\",\"false\",\"false\",\"false\",\"false\",\"false\",\"false\",\"false\",\"false\",\"false\",\"false\",\"false\",\"false\",\"false\",\"false\",\"false\",\"false\",\"false\",\"false\",\"false\",\"false\",\"false\",\"false\",\"false\",\"false\",\"false\",\"false\",\"false\",\"true\",\"false\",\"false\",\"false\",\"false\",\"true\",\"false\",\"false\",\"false\",\"false\",\"false\",\"false\",\"false\",\"false\",\"false\",\"false\",\"false\",\"false\",\"false\",\"false\",\"false\",\"false\",\"false\",\"false\",\"false\",\"false\",\"false\",\"false\",\"false\",\"false\",\"false\",\"false\",\"false\",\"false\",\"false\",\"false\",\"false\",\"false\",\"false\",\"false\",\"false\",\"false\",\"false\",\"false\",\"false\",\"false\",\"false\",\"false\",\"false\",\"false\",\"false\",\"false\",\"false\",\"false\",\"false\",\"false\",\"false\",\"false\",\"false\",\"false\",\"false\",\"false\",\"false\",\"false\",\"false\",\"false\",\"false\",\"false\",\"false\",\"false\",\"false\",\"false\",\"false\",\"false\"],\"x\":{\"__ndarray__\":\"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\",\"dtype\":\"float64\",\"shape\":[454]},\"y\":{\"__ndarray__\":\"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\",\"dtype\":\"float64\",\"shape\":[454]}},\"selected\":{\"id\":\"1320\",\"type\":\"Selection\"},\"selection_policy\":{\"id\":\"1321\",\"type\":\"UnionRenderers\"}},\"id\":\"1133\",\"type\":\"ColumnDataSource\"},{\"attributes\":{\"label\":{\"value\":\"true\"},\"renderers\":[{\"id\":\"1146\",\"type\":\"GlyphRenderer\"}]},\"id\":\"1148\",\"type\":\"LegendItem\"},{\"attributes\":{\"filters\":[{\"id\":\"1249\",\"type\":\"GroupFilter\"}],\"source\":{\"id\":\"1241\",\"type\":\"ColumnDataSource\"}},\"id\":\"1250\",\"type\":\"CDSView\"},{\"attributes\":{},\"id\":\"1343\",\"type\":\"UnionRenderers\"},{\"attributes\":{\"fill_alpha\":{\"value\":0.1},\"fill_color\":{\"value\":\"#1f77b4\"},\"line_alpha\":{\"value\":0.1},\"line_color\":{\"value\":\"#1f77b4\"},\"x\":{\"field\":\"x\"},\"y\":{\"field\":\"y\"}},\"id\":\"1253\",\"type\":\"Circle\"},{\"attributes\":{\"data_source\":{\"id\":\"1241\",\"type\":\"ColumnDataSource\"},\"glyph\":{\"id\":\"1246\",\"type\":\"Circle\"},\"hover_glyph\":null,\"muted_glyph\":null,\"nonselection_glyph\":{\"id\":\"1247\",\"type\":\"Circle\"},\"selection_glyph\":null,\"view\":{\"id\":\"1244\",\"type\":\"CDSView\"}},\"id\":\"1248\",\"type\":\"GlyphRenderer\"},{\"attributes\":{\"fill_alpha\":{\"value\":0.1},\"fill_color\":{\"value\":\"#1f77b4\"},\"line_alpha\":{\"value\":0.1},\"line_color\":{\"value\":\"#1f77b4\"},\"x\":{\"field\":\"x\"},\"y\":{\"field\":\"y\"}},\"id\":\"1301\",\"type\":\"Circle\"},{\"attributes\":{},\"id\":\"1119\",\"type\":\"WheelZoomTool\"},{\"attributes\":{\"text\":\"Ti/Tv rate\"},\"id\":\"1152\",\"type\":\"Title\"},{\"attributes\":{\"callback\":null},\"id\":\"1102\",\"type\":\"DataRange1d\"},{\"attributes\":{},\"id\":\"1160\",\"type\":\"LinearScale\"},{\"attributes\":{\"fill_color\":{\"field\":\"label\",\"transform\":{\"id\":\"1134\",\"type\":\"CategoricalColorMapper\"}},\"line_color\":{\"field\":\"label\",\"transform\":{\"id\":\"1134\",\"type\":\"CategoricalColorMapper\"}},\"x\":{\"field\":\"x\"},\"y\":{\"field\":\"y\"}},\"id\":\"1138\",\"type\":\"Circle\"},{\"attributes\":{},\"id\":\"1109\",\"type\":\"BasicTicker\"},{\"attributes\":{\"active_drag\":\"auto\",\"active_inspect\":\"auto\",\"active_multi\":null,\"active_scroll\":\"auto\",\"active_tap\":\"auto\",\"tools\":[{\"id\":\"1118\",\"type\":\"PanTool\"},{\"id\":\"1119\",\"type\":\"WheelZoomTool\"},{\"id\":\"1120\",\"type\":\"BoxZoomTool\"},{\"id\":\"1121\",\"type\":\"SaveTool\"},{\"id\":\"1122\",\"type\":\"ResetTool\"},{\"id\":\"1123\",\"type\":\"HelpTool\"},{\"id\":\"1132\",\"type\":\"HoverTool\"}]},\"id\":\"1124\",\"type\":\"Toolbar\"},{\"attributes\":{},\"id\":\"1173\",\"type\":\"WheelZoomTool\"},{\"attributes\":{\"callback\":null},\"id\":\"1156\",\"type\":\"DataRange1d\"},{\"attributes\":{\"dimension\":1,\"ticker\":{\"id\":\"1168\",\"type\":\"BasicTicker\"}},\"id\":\"1171\",\"type\":\"Grid\"},{\"attributes\":{\"bottom_units\":\"screen\",\"fill_alpha\":{\"value\":0.5},\"fill_color\":{\"value\":\"lightgrey\"},\"left_units\":\"screen\",\"level\":\"overlay\",\"line_alpha\":{\"value\":1.0},\"line_color\":{\"value\":\"black\"},\"line_dash\":[4,4],\"line_width\":{\"value\":2},\"render_mode\":\"css\",\"right_units\":\"screen\",\"top_units\":\"screen\"},\"id\":\"1333\",\"type\":\"BoxAnnotation\"},{\"attributes\":{\"label\":{\"value\":\"true\"},\"renderers\":[{\"id\":\"1254\",\"type\":\"GlyphRenderer\"}]},\"id\":\"1256\",\"type\":\"LegendItem\"},{\"attributes\":{\"callback\":null},\"id\":\"1210\",\"type\":\"DataRange1d\"},{\"attributes\":{\"fill_alpha\":{\"value\":0.1},\"fill_color\":{\"value\":\"#1f77b4\"},\"line_alpha\":{\"value\":0.1},\"line_color\":{\"value\":\"#1f77b4\"},\"x\":{\"field\":\"x\"},\"y\":{\"field\":\"y\"}},\"id\":\"1247\",\"type\":\"Circle\"},{\"attributes\":{\"ticker\":{\"id\":\"1163\",\"type\":\"BasicTicker\"}},\"id\":\"1166\",\"type\":\"Grid\"},{\"attributes\":{\"click_policy\":\"hide\",\"items\":[{\"id\":\"1255\",\"type\":\"LegendItem\"},{\"id\":\"1256\",\"type\":\"LegendItem\"}]},\"id\":\"1257\",\"type\":\"Legend\"},{\"attributes\":{\"fill_alpha\":{\"value\":0.1},\"fill_color\":{\"value\":\"#1f77b4\"},\"line_alpha\":{\"value\":0.1},\"line_color\":{\"value\":\"#1f77b4\"},\"x\":{\"field\":\"x\"},\"y\":{\"field\":\"y\"}},\"id\":\"1145\",\"type\":\"Circle\"},{\"attributes\":{\"active_drag\":\"auto\",\"active_inspect\":\"auto\",\"active_multi\":null,\"active_scroll\":\"auto\",\"active_tap\":\"auto\",\"tools\":[{\"id\":\"1280\",\"type\":\"PanTool\"},{\"id\":\"1281\",\"type\":\"WheelZoomTool\"},{\"id\":\"1282\",\"type\":\"BoxZoomTool\"},{\"id\":\"1283\",\"type\":\"SaveTool\"},{\"id\":\"1284\",\"type\":\"ResetTool\"},{\"id\":\"1285\",\"type\":\"HelpTool\"},{\"id\":\"1294\",\"type\":\"HoverTool\"}]},\"id\":\"1286\",\"type\":\"Toolbar\"},{\"attributes\":{\"children\":[[{\"id\":\"1097\",\"subtype\":\"Figure\",\"type\":\"Plot\"},0,0],[{\"id\":\"1151\",\"subtype\":\"Figure\",\"type\":\"Plot\"},0,1],[{\"id\":\"1205\",\"subtype\":\"Figure\",\"type\":\"Plot\"},1,0],[{\"id\":\"1259\",\"subtype\":\"Figure\",\"type\":\"Plot\"},1,1]]},\"id\":\"1357\",\"type\":\"GridBox\"},{\"attributes\":{},\"id\":\"1266\",\"type\":\"LinearScale\"},{\"attributes\":{\"fill_alpha\":{\"value\":0.1},\"fill_color\":{\"value\":\"#1f77b4\"},\"line_alpha\":{\"value\":0.1},\"line_color\":{\"value\":\"#1f77b4\"},\"x\":{\"field\":\"x\"},\"y\":{\"field\":\"y\"}},\"id\":\"1307\",\"type\":\"Circle\"},{\"attributes\":{\"data_source\":{\"id\":\"1295\",\"type\":\"ColumnDataSource\"},\"glyph\":{\"id\":\"1306\",\"type\":\"Circle\"},\"hover_glyph\":null,\"muted_glyph\":null,\"nonselection_glyph\":{\"id\":\"1307\",\"type\":\"Circle\"},\"selection_glyph\":null,\"view\":{\"id\":\"1304\",\"type\":\"CDSView\"}},\"id\":\"1308\",\"type\":\"GlyphRenderer\"},{\"attributes\":{\"callback\":null},\"id\":\"1264\",\"type\":\"DataRange1d\"},{\"attributes\":{\"below\":[{\"id\":\"1108\",\"type\":\"LinearAxis\"}],\"center\":[{\"id\":\"1112\",\"type\":\"Grid\"},{\"id\":\"1117\",\"type\":\"Grid\"}],\"left\":[{\"id\":\"1113\",\"type\":\"LinearAxis\"},{\"id\":\"1149\",\"type\":\"Legend\"},{\"id\":\"1150\",\"type\":\"ColorBar\"}],\"plot_height\":400,\"plot_width\":600,\"renderers\":[{\"id\":\"1140\",\"type\":\"GlyphRenderer\"},{\"id\":\"1146\",\"type\":\"GlyphRenderer\"}],\"title\":{\"id\":\"1098\",\"type\":\"Title\"},\"toolbar\":{\"id\":\"1124\",\"type\":\"Toolbar\"},\"toolbar_location\":null,\"x_range\":{\"id\":\"1100\",\"type\":\"DataRange1d\"},\"x_scale\":{\"id\":\"1104\",\"type\":\"LinearScale\"},\"y_range\":{\"id\":\"1102\",\"type\":\"DataRange1d\"},\"y_scale\":{\"id\":\"1106\",\"type\":\"LinearScale\"}},\"id\":\"1097\",\"subtype\":\"Figure\",\"type\":\"Plot\"},{\"attributes\":{\"fill_color\":{\"field\":\"label\",\"transform\":{\"id\":\"1188\",\"type\":\"CategoricalColorMapper\"}},\"line_color\":{\"field\":\"label\",\"transform\":{\"id\":\"1188\",\"type\":\"CategoricalColorMapper\"}},\"x\":{\"field\":\"x\"},\"y\":{\"field\":\"y\"}},\"id\":\"1192\",\"type\":\"Circle\"},{\"attributes\":{},\"id\":\"1332\",\"type\":\"UnionRenderers\"},{\"attributes\":{},\"id\":\"1229\",\"type\":\"SaveTool\"},{\"attributes\":{\"bottom_units\":\"screen\",\"fill_alpha\":{\"value\":0.5},\"fill_color\":{\"value\":\"lightgrey\"},\"left_units\":\"screen\",\"level\":\"overlay\",\"line_alpha\":{\"value\":1.0},\"line_color\":{\"value\":\"black\"},\"line_dash\":[4,4],\"line_width\":{\"value\":2},\"render_mode\":\"css\",\"right_units\":\"screen\",\"top_units\":\"screen\"},\"id\":\"1322\",\"type\":\"BoxAnnotation\"},{\"attributes\":{\"below\":[{\"id\":\"1216\",\"type\":\"LinearAxis\"}],\"center\":[{\"id\":\"1220\",\"type\":\"Grid\"},{\"id\":\"1225\",\"type\":\"Grid\"}],\"left\":[{\"id\":\"1221\",\"type\":\"LinearAxis\"},{\"id\":\"1257\",\"type\":\"Legend\"},{\"id\":\"1258\",\"type\":\"ColorBar\"}],\"plot_height\":400,\"plot_width\":600,\"renderers\":[{\"id\":\"1248\",\"type\":\"GlyphRenderer\"},{\"id\":\"1254\",\"type\":\"GlyphRenderer\"}],\"title\":{\"id\":\"1206\",\"type\":\"Title\"},\"toolbar\":{\"id\":\"1232\",\"type\":\"Toolbar\"},\"toolbar_location\":null,\"x_range\":{\"id\":\"1208\",\"type\":\"DataRange1d\"},\"x_scale\":{\"id\":\"1212\",\"type\":\"LinearScale\"},\"y_range\":{\"id\":\"1210\",\"type\":\"DataRange1d\"},\"y_scale\":{\"id\":\"1214\",\"type\":\"LinearScale\"}},\"id\":\"1205\",\"subtype\":\"Figure\",\"type\":\"Plot\"},{\"attributes\":{\"axis_label\":\"Call rate\",\"formatter\":{\"id\":\"1339\",\"type\":\"BasicTickFormatter\"},\"ticker\":{\"id\":\"1222\",\"type\":\"BasicTicker\"}},\"id\":\"1221\",\"type\":\"LinearAxis\"},{\"attributes\":{\"overlay\":{\"id\":\"1344\",\"type\":\"BoxAnnotation\"}},\"id\":\"1228\",\"type\":\"BoxZoomTool\"},{\"attributes\":{},\"id\":\"1319\",\"type\":\"BasicTickFormatter\"},{\"attributes\":{},\"id\":\"1352\",\"type\":\"BasicTickFormatter\"},{\"attributes\":{\"data_source\":{\"id\":\"1187\",\"type\":\"ColumnDataSource\"},\"glyph\":{\"id\":\"1192\",\"type\":\"Circle\"},\"hover_glyph\":null,\"muted_glyph\":null,\"nonselection_glyph\":{\"id\":\"1193\",\"type\":\"Circle\"},\"selection_glyph\":null,\"view\":{\"id\":\"1190\",\"type\":\"CDSView\"}},\"id\":\"1194\",\"type\":\"GlyphRenderer\"},{\"attributes\":{},\"id\":\"1330\",\"type\":\"BasicTickFormatter\"},{\"attributes\":{},\"id\":\"1227\",\"type\":\"WheelZoomTool\"},{\"attributes\":{},\"id\":\"1283\",\"type\":\"SaveTool\"},{\"attributes\":{\"label\":{\"value\":\"false\"},\"renderers\":[{\"id\":\"1248\",\"type\":\"GlyphRenderer\"}]},\"id\":\"1255\",\"type\":\"LegendItem\"},{\"attributes\":{\"label\":{\"value\":\"true\"},\"renderers\":[{\"id\":\"1308\",\"type\":\"GlyphRenderer\"}]},\"id\":\"1310\",\"type\":\"LegendItem\"},{\"attributes\":{},\"id\":\"1231\",\"type\":\"HelpTool\"},{\"attributes\":{\"filters\":[{\"id\":\"1243\",\"type\":\"GroupFilter\"}],\"source\":{\"id\":\"1241\",\"type\":\"ColumnDataSource\"}},\"id\":\"1244\",\"type\":\"CDSView\"},{\"attributes\":{\"callback\":null,\"tooltips\":[[\"x\",\"@x\"],[\"y\",\"@y\"],[\"label\",\"@label\"]]},\"id\":\"1240\",\"type\":\"HoverTool\"},{\"attributes\":{\"axis_label\":\"DP mean\",\"formatter\":{\"id\":\"1348\",\"type\":\"BasicTickFormatter\"},\"ticker\":{\"id\":\"1271\",\"type\":\"BasicTicker\"}},\"id\":\"1270\",\"type\":\"LinearAxis\"},{\"attributes\":{\"fill_color\":{\"field\":\"label\",\"transform\":{\"id\":\"1296\",\"type\":\"CategoricalColorMapper\"}},\"line_color\":{\"field\":\"label\",\"transform\":{\"id\":\"1296\",\"type\":\"CategoricalColorMapper\"}},\"x\":{\"field\":\"x\"},\"y\":{\"field\":\"y\"}},\"id\":\"1306\",\"type\":\"Circle\"},{\"attributes\":{},\"id\":\"1331\",\"type\":\"Selection\"},{\"attributes\":{\"filters\":[{\"id\":\"1195\",\"type\":\"GroupFilter\"}],\"source\":{\"id\":\"1187\",\"type\":\"ColumnDataSource\"}},\"id\":\"1196\",\"type\":\"CDSView\"},{\"attributes\":{\"filters\":[{\"id\":\"1297\",\"type\":\"GroupFilter\"}],\"source\":{\"id\":\"1295\",\"type\":\"ColumnDataSource\"}},\"id\":\"1298\",\"type\":\"CDSView\"},{\"attributes\":{\"fill_alpha\":{\"value\":0.1},\"fill_color\":{\"value\":\"#1f77b4\"},\"line_alpha\":{\"value\":0.1},\"line_color\":{\"value\":\"#1f77b4\"},\"x\":{\"field\":\"x\"},\"y\":{\"field\":\"y\"}},\"id\":\"1193\",\"type\":\"Circle\"},{\"attributes\":{},\"id\":\"1276\",\"type\":\"BasicTicker\"},{\"attributes\":{},\"id\":\"1342\",\"type\":\"Selection\"},{\"attributes\":{\"click_policy\":\"hide\",\"items\":[{\"id\":\"1309\",\"type\":\"LegendItem\"},{\"id\":\"1310\",\"type\":\"LegendItem\"}]},\"id\":\"1311\",\"type\":\"Legend\"},{\"attributes\":{\"callback\":null,\"data\":{\"index\":[0,1,2,3,4,5,6,7,8,9,10,11,12,13,14,15,16,17,18,19,20,21,22,23,24,25,26,27,28,29,30,31,32,33,34,35,36,37,38,39,40,41,42,43,44,45,46,47,48,49,50,51,52,53,54,55,56,57,58,59,60,61,62,63,64,65,66,67,68,69,70,71,72,73,74,75,76,77,78,79,80,81,82,83,84,85,86,87,88,89,90,91,92,93,94,95,96,97,98,99,100,101,102,103,104,105,106,107,108,109,110,111,112,113,114,115,116,117,118,119,120,121,122,123,124,125,126,127,128,129,130,131,132,133,134,135,136,137,138,139,140,141,142,143,144,145,146,147,148,149,150,151,152,153,154,155,156,157,158,159,160,161,162,163,164,165,166,167,168,169,170,171,172,173,174,175,176,177,178,179,180,181,182,183,184,185,186,187,188,189,190,191,192,193,194,195,196,197,198,199,200,201,202,203,204,205,206,207,208,209,210,211,212,213,214,215,216,217,218,219,220,221,222,223,224,225,226,227,228,229,230,231,232,233,234,235,236,237,238,239,240,241,242,243,244,245,246,247,248,249,250,251,252,253,254,255,256,257,258,259,260,261,262,263,264,265,266,267,268,269,270,271,272,273,274,275,276,277,278,279,280,281,282,283,284,285,286,287,288,289,290,291,292,293,294,295,296,297,298,299,300,301,302,303,304,305,306,307,308,309,310,311,312,313,314,315,316,317,318,319,320,321,322,323,324,325,326,327,328,329,330,331,332,333,334,335,336,337,338,339,340,341,342,343,344,345,346,347,348,349,350,351,352,353,354,355,356,357,358,359,360,361,362,363,364,365,366,367,368,369,370,371,372,373,374,375,376,377,378,379,380,381,382,383,384,385,386,387,388,389,390,391,392,393,394,395,396,397,398,399,400,401,402,403,404,405,406,407,408,409,410,411,412,413,414,415,416,417,418,419,420,421,422,423,424,425,426,427,428,429,430,431,432,433,434,435,436,437,438,439],\"label\":[\"false\",\"false\",\"false\",\"false\",\"false\",\"false\",\"false\",\"false\",\"false\",\"false\",\"false\",\"false\",\"false\",\"false\",\"false\",\"false\",\"false\",\"false\",\"false\",\"false\",\"false\",\"false\",\"true\",\"false\",\"false\",\"false\",\"false\",\"false\",\"false\",\"false\",\"false\",\"false\",\"false\",\"false\",\"false\",\"false\",\"false\",\"false\",\"false\",\"false\",\"false\",\"false\",\"false\",\"false\",\"false\",\"false\",\"false\",\"false\",\"false\",\"false\",\"false\",\"false\",\"false\",\"false\",\"false\",\"false\",\"false\",\"false\",\"false\",\"false\",\"false\",\"false\",\"false\",\"false\",\"false\",\"false\",\"true\",\"false\",\"false\",\"false\",\"false\",\"false\",\"false\",\"false\",\"false\",\"false\",\"false\",\"false\",\"false\",\"false\",\"false\",\"false\",\"false\",\"false\",\"false\",\"false\",\"false\",\"false\",\"false\",\"false\",\"false\",\"false\",\"false\",\"false\",\"false\",\"false\",\"false\",\"false\",\"false\",\"false\",\"false\",\"false\",\"false\",\"false\",\"false\",\"false\",\"false\",\"false\",\"false\",\"false\",\"false\",\"false\",\"false\",\"false\",\"false\",\"false\",\"false\",\"false\",\"false\",\"false\",\"false\",\"false\",\"false\",\"false\",\"false\",\"false\",\"false\",\"false\",\"false\",\"false\",\"false\",\"false\",\"false\",\"false\",\"false\",\"false\",\"false\",\"false\",\"false\",\"false\",\"false\",\"false\",\"false\",\"false\",\"false\",\"false\",\"false\",\"false\",\"false\",\"false\",\"false\",\"false\",\"false\",\"false\",\"false\",\"false\",\"false\",\"false\",\"false\",\"false\",\"false\",\"false\",\"false\",\"false\",\"false\",\"false\",\"false\",\"false\",\"false\",\"false\",\"false\",\"true\",\"false\",\"false\",\"false\",\"false\",\"false\",\"false\",\"false\",\"false\",\"false\",\"false\",\"false\",\"true\",\"false\",\"false\",\"false\",\"false\",\"false\",\"false\",\"false\",\"true\",\"false\",\"false\",\"false\",\"false\",\"false\",\"false\",\"false\",\"false\",\"false\",\"false\",\"false\",\"false\",\"false\",\"false\",\"false\",\"false\",\"false\",\"false\",\"false\",\"false\",\"false\",\"false\",\"false\",\"false\",\"false\",\"false\",\"false\",\"false\",\"false\",\"false\",\"false\",\"false\",\"false\",\"false\",\"false\",\"false\",\"false\",\"false\",\"false\",\"false\",\"false\",\"false\",\"false\",\"false\",\"false\",\"false\",\"false\",\"false\",\"false\",\"false\",\"false\",\"false\",\"false\",\"false\",\"false\",\"false\",\"false\",\"false\",\"false\",\"false\",\"false\",\"false\",\"false\",\"false\",\"false\",\"false\",\"false\",\"false\",\"false\",\"false\",\"false\",\"false\",\"false\",\"false\",\"false\",\"false\",\"false\",\"false\",\"false\",\"false\",\"false\",\"false\",\"false\",\"false\",\"false\",\"false\",\"false\",\"false\",\"false\",\"false\",\"false\",\"false\",\"false\",\"false\",\"false\",\"false\",\"false\",\"false\",\"false\",\"false\",\"false\",\"false\",\"false\",\"false\",\"false\",\"false\",\"false\",\"false\",\"false\",\"false\",\"false\",\"false\",\"false\",\"false\",\"false\",\"false\",\"false\",\"false\",\"false\",\"false\",\"false\",\"false\",\"false\",\"false\",\"false\",\"false\",\"false\",\"false\",\"false\",\"false\",\"false\",\"false\",\"false\",\"false\",\"false\",\"false\",\"false\",\"false\",\"false\",\"false\",\"false\",\"false\",\"false\",\"false\",\"false\",\"false\",\"false\",\"false\",\"false\",\"false\",\"false\",\"false\",\"false\",\"false\",\"false\",\"false\",\"false\",\"false\",\"false\",\"false\",\"false\",\"false\",\"false\",\"false\",\"false\",\"false\",\"false\",\"false\",\"false\",\"false\",\"false\",\"false\",\"false\",\"false\",\"true\",\"false\",\"false\",\"false\",\"false\",\"true\",\"false\",\"false\",\"false\",\"false\",\"false\",\"false\",\"false\",\"false\",\"false\",\"false\",\"false\",\"false\",\"false\",\"false\",\"false\",\"false\",\"false\",\"false\",\"false\",\"false\",\"false\",\"false\",\"false\",\"false\",\"false\",\"false\",\"false\",\"false\",\"false\",\"false\",\"false\",\"false\",\"false\",\"false\",\"false\",\"false\",\"false\",\"false\",\"false\",\"false\",\"false\",\"false\",\"false\",\"false\",\"false\",\"false\",\"false\",\"false\",\"false\",\"false\",\"false\",\"false\",\"false\",\"false\",\"false\",\"false\",\"false\",\"false\",\"false\",\"false\",\"false\",\"false\",\"false\",\"false\",\"false\",\"false\",\"false\",\"false\"],\"x\":{\"__ndarray__\":\"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\",\"dtype\":\"float64\",\"shape\":[440]},\"y\":{\"__ndarray__\":\"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\",\"dtype\":\"float64\",\"shape\":[440]}},\"selected\":{\"id\":\"1342\",\"type\":\"Selection\"},\"selection_policy\":{\"id\":\"1343\",\"type\":\"UnionRenderers\"}},\"id\":\"1241\",\"type\":\"ColumnDataSource\"},{\"attributes\":{\"column_name\":\"label\",\"group\":\"true\"},\"id\":\"1195\",\"type\":\"GroupFilter\"},{\"attributes\":{\"active_drag\":\"auto\",\"active_inspect\":\"auto\",\"active_multi\":null,\"active_scroll\":\"auto\",\"active_tap\":\"auto\",\"tools\":[{\"id\":\"1226\",\"type\":\"PanTool\"},{\"id\":\"1227\",\"type\":\"WheelZoomTool\"},{\"id\":\"1228\",\"type\":\"BoxZoomTool\"},{\"id\":\"1229\",\"type\":\"SaveTool\"},{\"id\":\"1230\",\"type\":\"ResetTool\"},{\"id\":\"1231\",\"type\":\"HelpTool\"},{\"id\":\"1240\",\"type\":\"HoverTool\"}]},\"id\":\"1232\",\"type\":\"Toolbar\"},{\"attributes\":{\"bottom_units\":\"screen\",\"fill_alpha\":{\"value\":0.5},\"fill_color\":{\"value\":\"lightgrey\"},\"left_units\":\"screen\",\"level\":\"overlay\",\"line_alpha\":{\"value\":1.0},\"line_color\":{\"value\":\"black\"},\"line_dash\":[4,4],\"line_width\":{\"value\":2},\"render_mode\":\"css\",\"right_units\":\"screen\",\"top_units\":\"screen\"},\"id\":\"1355\",\"type\":\"BoxAnnotation\"},{\"attributes\":{},\"id\":\"1268\",\"type\":\"LinearScale\"},{\"attributes\":{},\"id\":\"1226\",\"type\":\"PanTool\"},{\"attributes\":{},\"id\":\"1329\",\"type\":\"BasicTicker\"},{\"attributes\":{\"factors\":[\"true\",\"false\"],\"palette\":[\"#1f77b4\",\"#ff7f0e\",\"#2ca02c\",\"#d62728\",\"#9467bd\",\"#8c564b\",\"#e377c2\",\"#7f7f7f\",\"#bcbd22\",\"#17becf\"]},\"id\":\"1188\",\"type\":\"CategoricalColorMapper\"},{\"attributes\":{},\"id\":\"1280\",\"type\":\"PanTool\"},{\"attributes\":{\"data_source\":{\"id\":\"1187\",\"type\":\"ColumnDataSource\"},\"glyph\":{\"id\":\"1198\",\"type\":\"Circle\"},\"hover_glyph\":null,\"muted_glyph\":null,\"nonselection_glyph\":{\"id\":\"1199\",\"type\":\"Circle\"},\"selection_glyph\":null,\"view\":{\"id\":\"1196\",\"type\":\"CDSView\"}},\"id\":\"1200\",\"type\":\"GlyphRenderer\"},{\"attributes\":{},\"id\":\"1339\",\"type\":\"BasicTickFormatter\"},{\"attributes\":{},\"id\":\"1353\",\"type\":\"Selection\"},{\"attributes\":{\"column_name\":\"label\",\"group\":\"true\"},\"id\":\"1303\",\"type\":\"GroupFilter\"},{\"attributes\":{\"fill_alpha\":{\"value\":0.1},\"fill_color\":{\"value\":\"#1f77b4\"},\"line_alpha\":{\"value\":0.1},\"line_color\":{\"value\":\"#1f77b4\"},\"x\":{\"field\":\"x\"},\"y\":{\"field\":\"y\"}},\"id\":\"1199\",\"type\":\"Circle\"},{\"attributes\":{},\"id\":\"1321\",\"type\":\"UnionRenderers\"},{\"attributes\":{},\"id\":\"1281\",\"type\":\"WheelZoomTool\"},{\"attributes\":{\"fill_color\":{\"field\":\"label\",\"transform\":{\"id\":\"1188\",\"type\":\"CategoricalColorMapper\"}},\"line_color\":{\"field\":\"label\",\"transform\":{\"id\":\"1188\",\"type\":\"CategoricalColorMapper\"}},\"x\":{\"field\":\"x\"},\"y\":{\"field\":\"y\"}},\"id\":\"1198\",\"type\":\"Circle\"},{\"attributes\":{\"data_source\":{\"id\":\"1295\",\"type\":\"ColumnDataSource\"},\"glyph\":{\"id\":\"1300\",\"type\":\"Circle\"},\"hover_glyph\":null,\"muted_glyph\":null,\"nonselection_glyph\":{\"id\":\"1301\",\"type\":\"Circle\"},\"selection_glyph\":null,\"view\":{\"id\":\"1298\",\"type\":\"CDSView\"}},\"id\":\"1302\",\"type\":\"GlyphRenderer\"},{\"attributes\":{\"axis_label\":\"# singletons\",\"formatter\":{\"id\":\"1350\",\"type\":\"BasicTickFormatter\"},\"ticker\":{\"id\":\"1276\",\"type\":\"BasicTicker\"}},\"id\":\"1275\",\"type\":\"LinearAxis\"},{\"attributes\":{},\"id\":\"1318\",\"type\":\"BasicTicker\"},{\"attributes\":{},\"id\":\"1230\",\"type\":\"ResetTool\"},{\"attributes\":{\"callback\":null,\"data\":{\"index\":[0,1,2,3,4,5,6,7,8,9,10,11,12,13,14,15,16,17,18,19,20,21,22,23,24,25,26,27,28,29,30,31,32,33,34,35,36,37,38,39,40,41,42,43,44,45,46,47,48,49,50,51,52,53,54,55,56,57,58,59,60,61,62,63,64,65,66,67,68,69,70,71,72,73,74,75,76,77,78,79,80,81,82,83,84,85,86,87,88,89,90,91,92,93,94,95,96,97,98,99,100,101,102,103,104,105,106,107,108,109,110,111,112,113,114,115,116,117,118,119,120,121,122,123,124,125,126,127,128,129,130,131,132,133,134,135,136,137,138,139,140,141,142,143,144,145,146,147,148,149,150,151,152,153,154,155,156,157,158,159,160,161,162,163,164,165,166,167,168,169,170,171,172,173,174,175,176,177,178,179,180,181,182,183,184,185,186,187,188,189,190,191,192,193,194,195,196,197,198,199,200,201,202,203,204,205,206,207,208,209,210,211,212,213,214,215,216,217,218,219,220,221,222,223,224,225,226,227,228,229,230,231,232,233,234,235,236,237,238,239,240,241,242,243,244,245,246,247,248,249,250,251,252,253,254,255,256,257,258,259,260,261,262,263,264,265,266,267,268,269,270,271,272,273,274,275,276,277,278,279,280,281,282,283,284,285,286,287,288,289,290,291,292,293,294,295,296,297,298,299,300,301,302,303,304,305,306,307,308,309,310,311,312,313,314,315,316,317,318,319,320,321,322,323,324,325,326,327,328,329,330,331,332,333,334,335,336,337,338,339,340,341,342,343,344,345,346,347,348,349,350,351,352,353,354,355,356,357,358,359,360,361,362,363,364,365,366,367,368,369,370,371,372,373,374,375,376,377,378,379,380,381,382,383,384,385,386,387,388,389,390,391,392,393,394,395,396,397,398,399,400,401,402,403,404,405,406,407,408,409,410,411,412,413,414,415,416,417],\"label\":[\"false\",\"false\",\"false\",\"false\",\"false\",\"false\",\"false\",\"false\",\"false\",\"false\",\"false\",\"false\",\"false\",\"false\",\"false\",\"false\",\"false\",\"false\",\"false\",\"false\",\"false\",\"false\",\"true\",\"false\",\"false\",\"false\",\"false\",\"false\",\"false\",\"false\",\"false\",\"false\",\"false\",\"false\",\"false\",\"false\",\"false\",\"false\",\"false\",\"false\",\"false\",\"false\",\"false\",\"false\",\"false\",\"false\",\"false\",\"false\",\"false\",\"false\",\"false\",\"false\",\"false\",\"false\",\"false\",\"false\",\"false\",\"false\",\"false\",\"false\",\"false\",\"false\",\"false\",\"false\",\"false\",\"false\",\"false\",\"true\",\"false\",\"false\",\"false\",\"false\",\"false\",\"false\",\"false\",\"false\",\"false\",\"false\",\"false\",\"false\",\"false\",\"false\",\"false\",\"false\",\"false\",\"false\",\"false\",\"false\",\"false\",\"false\",\"false\",\"false\",\"false\",\"false\",\"false\",\"false\",\"false\",\"false\",\"false\",\"false\",\"false\",\"false\",\"false\",\"false\",\"false\",\"false\",\"false\",\"false\",\"false\",\"false\",\"false\",\"false\",\"false\",\"false\",\"false\",\"false\",\"false\",\"false\",\"false\",\"false\",\"false\",\"false\",\"false\",\"false\",\"false\",\"false\",\"false\",\"false\",\"false\",\"false\",\"false\",\"false\",\"false\",\"false\",\"false\",\"false\",\"false\",\"false\",\"false\",\"false\",\"false\",\"false\",\"false\",\"false\",\"false\",\"false\",\"false\",\"false\",\"false\",\"false\",\"false\",\"false\",\"false\",\"false\",\"false\",\"false\",\"false\",\"false\",\"true\",\"false\",\"false\",\"false\",\"false\",\"false\",\"false\",\"false\",\"false\",\"false\",\"false\",\"false\",\"false\",\"false\",\"false\",\"false\",\"false\",\"false\",\"false\",\"false\",\"false\",\"false\",\"false\",\"false\",\"false\",\"false\",\"false\",\"false\",\"false\",\"false\",\"false\",\"false\",\"false\",\"false\",\"false\",\"false\",\"false\",\"false\",\"false\",\"false\",\"false\",\"false\",\"false\",\"false\",\"false\",\"false\",\"false\",\"false\",\"false\",\"false\",\"false\",\"false\",\"false\",\"false\",\"false\",\"false\",\"false\",\"false\",\"false\",\"false\",\"false\",\"false\",\"false\",\"false\",\"false\",\"false\",\"false\",\"false\",\"false\",\"false\",\"false\",\"false\",\"false\",\"false\",\"false\",\"false\",\"false\",\"false\",\"false\",\"false\",\"false\",\"false\",\"false\",\"false\",\"false\",\"false\",\"false\",\"false\",\"false\",\"false\",\"false\",\"false\",\"false\",\"false\",\"false\",\"false\",\"false\",\"false\",\"false\",\"false\",\"false\",\"false\",\"false\",\"false\",\"false\",\"false\",\"false\",\"false\",\"false\",\"false\",\"false\",\"false\",\"false\",\"false\",\"false\",\"false\",\"false\",\"false\",\"false\",\"false\",\"false\",\"false\",\"false\",\"false\",\"false\",\"false\",\"false\",\"false\",\"false\",\"false\",\"false\",\"false\",\"false\",\"false\",\"false\",\"false\",\"false\",\"false\",\"false\",\"false\",\"false\",\"false\",\"false\",\"false\",\"false\",\"false\",\"false\",\"false\",\"false\",\"false\",\"false\",\"false\",\"false\",\"false\",\"false\",\"false\",\"false\",\"false\",\"false\",\"false\",\"false\",\"false\",\"false\",\"false\",\"false\",\"false\",\"false\",\"false\",\"false\",\"false\",\"false\",\"false\",\"false\",\"false\",\"false\",\"false\",\"false\",\"false\",\"false\",\"false\",\"false\",\"false\",\"false\",\"false\",\"false\",\"false\",\"true\",\"false\",\"false\",\"false\",\"true\",\"false\",\"false\",\"false\",\"false\",\"false\",\"false\",\"false\",\"false\",\"false\",\"false\",\"false\",\"false\",\"false\",\"false\",\"false\",\"false\",\"false\",\"false\",\"false\",\"false\",\"false\",\"false\",\"false\",\"false\",\"false\",\"false\",\"false\",\"false\",\"false\",\"false\",\"false\",\"false\",\"false\",\"false\",\"false\",\"false\",\"false\",\"false\",\"false\",\"false\",\"false\",\"false\",\"false\",\"false\",\"false\",\"false\",\"false\",\"false\",\"false\",\"false\",\"false\",\"false\",\"false\",\"false\",\"false\",\"false\",\"false\",\"false\",\"false\",\"false\",\"false\",\"false\",\"false\",\"false\",\"false\",\"false\",\"false\",\"false\",\"false\"],\"x\":{\"__ndarray__\":\"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\",\"dtype\":\"float64\",\"shape\":[418]},\"y\":{\"__ndarray__\":\"+am2dLbeA0AVeyqBvj0FQCcIffuc7gRAuJV+MtGUBEAq7BzGzaQEQPcXHv19ywRA07k4qDAvBUDLPofUBFMEQLPpg+GjbARAZDKqYhCPBEBaCZlFQ4kEQNBStLgmxARA9XWtg7EKBUCXRhtWlzgFQDt34FoY9ARARXYnpLVRBEBGTd0a/ZMEQDEzJveFyARAZyskHpn/BEAcqvGXq4kEQKwoamZTcARAvz5sdYRxBEBwXWgqBqcEQDnaS1UCbQRASNATBACHBEBOYZjQ6LkEQBrjSOsoYARAD445MT6zBEAMRHJEqnIEQBGwMdpOswRAUizmWG1OBEAk3PsTfZUEQEHUYjkrOQRAoaoPk+N9BEB6qCKJJ5gEQOyaYv4fpgRAO8QrcZSVBEC0MdKHsIQEQNyHzTp9jQRAceb9f67HBEAwDsdBfGUEQLumEl4scwRAjWh1TrlBBEB9YUufhU8EQOsFiPNFmgRAX8iizvDIBEDIuSAgmoQEQJeH9fP+cQRA1Zn18gSGBEDjtixuy+IEQE422WSTYQRAKwMBf9FvBEC0DB80wogEQHZmCNw/nwRA3by2oWWbBEDCGvAka68EQBGdi5iHeARAtK+np5GyBEAZ6g3cHGAEQAkv+L2SagRASMj5w21yBEAptyn/up0EQGm4KfMDsARAD+y8zEpsBEAkDHktl1YEQIm/BvbogQRAtipzotlABECiXSjz52cEQAbAK2MQ1gRAL4ekA85mBECkjgCxo3QEQOsoa/T5mARAIxo8A9ZEBEAHwSLWlJQEQITYhabWTARAipm1q852BECYEsaxtIAEQGNgP4csTgRAWRVIHQomBEAb2kkM8UoEQC7FVAbggARAoIbs5QNtBEBISnqzRnEEQIixUa1QOgRApO44ZY4/BECD2xCYd4kEQO5RjEElPQRArB41SnVnBEAwt3gtkXkEQDp6qXTLVQRAzDM8V6JgBEDyb75wgnYEQJBvxJyekgRAHpRkbeG/BEAWNCU/dlQEQBtxjbhGXARAOp9k99eKBEDsU22kmJsEQF50ZaO0hARA6MDDX0+rBEBAV1yIdToEQM8BroyhWwRAnna71nRGBEB1ftOjPYYEQG5T0D9JnwRAoD/0gok2BEDQ/PzAv2MEQGX0AGAWagRAbvQ2Z0dyBECGsBJjkEYEQCHnEJaNcARAJrfiI4GcBEAQAriucmAEQC/1grB1JQRAbkSuUp43BEBfD5mjhVUEQMPr9M7bcARA1KxdLG5HBEAimEgZLVQEQOm1XY0xxARArhWuFa4VBEANjfA9QWAEQDBBMsAPOwRAiTBc69ZnBED1ALJUiYcEQK2JcllaTgRAKic9RHjVBEDD8bcDyyUEQKmPSWfkSgRAIBEs27BUBEC7ruu6rnMEQORdxTdmhQRAn6Yl3/poBEAmUa9GEKIEQDD3wbk+bgRAxDwEfb8dBEBNYeSbaVYEQCbSA5WzWwRAYqhtnox9BEDSV66oaCsEQFyFipAXNQRAjELN5+NlBEAleS2AvDEEQKaoQtZ5PgRAsdkZ1PlRBEDI8Xz0YZQEQGXfFHPUaQRAoZ699apwBEDTUMX21TwEQGPmWT+vaQRATFVm69pWBEA4YiSLc1oEQE8e2ye8dgRAl450Jjx9BEDbi/YWgZAEQKgNRlyAOQRAehVErBxFBECiVkn8/GwEQK1KAf4WdgRAukHdegMiBEDw/s7aaTcEQKwYCzNRQgRAnbI5SqhLBEBO/SffaFIEQBHvbAgeLQRA+abvH3NmBEAkvL561j8EQC8qOXbCVARAvXnd2XloBECJgSm2vyAEQAkJiPZOUQRA8zeSEnFfBECwXsbOXIYEQMbjELldJgRAXwePo/5LBEBQWs3Dv3QEQEDw7QfwUQRAmbeeLtGHBEC38t2GwaAEQF2ts7rJsgRAFBJdbWIlBECP4fUsLDgEQMPF7BDiVgRAwLy7L3FaBECEr4r1jE4EQJztpDXjYQRAheD07OkjBECTLnfhEkUEQF/xFV/xZQRArjA0ukNTBEC7Q9vfY3cEQEwZsBjdFgRAjBvjxrgxBEC0Po0fYm0EQEMCEH51MgRAzgI6ckRUBECS5zJA94AEQKik3AL2PARA5fxvqRFTBEAMFJAb5mUEQCkTYMXqOQRAadkYV3hIBEAJjDGbGmgEQKgycZePDgRAkjmyhtocBEB2STIbjk4EQCo1qWApXARAyMbz6v45BECcnTqXck4EQH1dnC1fbQRA9J6QdEWQBEDHW/Q+i7AEQGrEHmDjHQRAJK3c/9lRBEBe/TTmoGkEQCsh89AvOARAtM1ehGxGBECFuq3zy1cEQLaV1arjXgRAWOAzN6eJBEC+PatwQzYEQITlnkZYXgRA87N5qANtBEDivixtvoAEQNRaPVw/BwRANDEPNaYrBEAHIjkDgVsEQIXtL0qWZQRA8PIYoaI2BEC/D81/iDkEQPCvh3vjSARAc1Lo68pgBEAFoDH2pTkEQBf4GrgsRgRA+dW0WX1nBEA3SSfJ30oEQAb+0L/PUQRA1b+YDotDBED8gMSqSGAEQIkc1XLAZQRA6OWxVvJ3BEBKekrh+S8EQEcPvWkFOQRAyVdAzFJIBEB4Tp5RWlQEQBd+9iePXgRA8nS8Ea3/A0D1hlr7JjMEQAaz1V4lPgRAdn9akyNJBED0oXftMVUEQBBZ6i3DXARAOq0p0ABrBEBt8taCUSEEQGx6zsDvPARASwsgrpdRBEAOH4hdKmMEQNYv8aGUZwRAqSMT5UgSBEDAEXBFSVIEQFl+bDokMQRAzOPYsWhDBEAHOB7+GpoEQLguR4R1IQRAZvpCsWwwBECoEN3x8UIEQBNPOX0MSgRAwEfoEP97BEASMpyi0DsEQHoaLyRXaQRA6iOV6j45BECD1kUn+VcEQNeH2NCgdARAt/UPE/qLBEBubOTJBVAEQBzWu6vydQRAiBNvOr94BEDgkTA5PYwEQJKuulEIKwRAwgRyBmpOBEBt8X6sAk8EQOoXdeBXZgRAByJKVto1BECnerGNGUIEQGnV9YknTQRAqksLrgdUBEAjnSpFb3EEQBOJZATJTARAUt46s3FnBECc9p28izoEQFOHZ+rwTARALFBFZClGBEB8DCRzNlIEQA7oNViQYARA5gsvOhJyBEAzAQ1EvhEEQKrzJOgwJARAuO9V8wkvBEByQVN7VUAEQNdA+ZbpeARA6mtVyr0mBEBlMAlJf1IEQKQ16nbeZARAHqaf+UAxBEC9FrA+CX8EQLKRXCezQgRAMtLrq6EhBECM+zbaxjQEQDwPS7WUQgRAMlD3tklVBEBrZbAlJK0EQIcaDfebGARAFsZ+txtNBECvMDcbLWAEQDnIUWp6fARAoM2cqn4EBEA2eUq3kxAEQKijFKsGSgRA2WwfXks9BEAg2POwIU8EQA5IxtqidARAHHtWnwspBEAPCzSVGmMEQH2d2uMZQQRAfeDG9bRnBEDExuy3VhQEQMKhdUfUKwRAXHmFAmY7BECREDO+TG4EQLGcK24LcwRAmugnLKolBEDOXKozIyYEQBtusJKbQQRAA01QN/VRBEC7UU4ExUkEQMpG0JuRegRAU3nfbAEqBEC1xK0DsXIEQBuRidU0hQRA5mDxIpueBEBii4VxbSgEQNrLZqL+RQRA4xXLzRQVBEAZnI/B+RgEQIvpujYPNwRAYFVaskxABEDkwj0GoW0EQLJ9xSEVQARAAZ1XProHBEDNOkzJcikEQFBNf68QLwRAgS8BUc6BBEBwSNQDUC0EQJ1V9ROMBgRAwBVrwBVrBEDMpGXN2SAEQKIDj+OOSARAplug1hpMBEAewacyeSkEQGr18pYcMARAVJJbd49RBECCF7fHLhQEQFc0dOqLXARA8T+kezExBEAqih7MSzgEQNXfZKM3UwRAtATU/yZrBED4qzghJU8EQMigvDU0VgRACmkutS/lA0DcKIRnVz4EQDa1//wmHARAycYPMjIUBEARdhj0YUQEQGcA3YMGdgRAgg04uCA1BEBScluQajwEQKGNCpp05gNAmuPoBhgCBEDZhsKVLDwEQA3Jg99zVQRAbzZ6dNUnBED7hGgTEEIEQP3fsa5wNwRAu3e11BM5BEC3sv06f0kEQH8SE25/bQRAYg/d1ccoBEAiBxWbKTgEQCaYFkFiAgRAv2vYXhIcBECWswT/qPsDQDDPUKZ/QQRAZsn/A/VNBEAFPfEwvBAEQDnbwDkZOgRANNRYkCplBEDVimz8UD8EQAWwGtggWwRAaBz6en8wBEDMRw+RXTcEQNFJq8UIKgRAZ4uwrJQoBEB269STNQQEQLJ6lSESEARAFN6ymkNYBEChmDTsARUEQJhb33ANWQRAdS18seMeBEAGcEQwkkgEQHn0Hn2vKQRAePkgk5JDBEBvzDM+8fwDQP6UXGoqXwRAB2/VLXU1BECXcl0MNe0DQJdCesywYwRAyaBeTDU3BEA=\",\"dtype\":\"float64\",\"shape\":[418]}},\"selected\":{\"id\":\"1331\",\"type\":\"Selection\"},\"selection_policy\":{\"id\":\"1332\",\"type\":\"UnionRenderers\"}},\"id\":\"1187\",\"type\":\"ColumnDataSource\"},{\"attributes\":{\"label\":{\"value\":\"false\"},\"renderers\":[{\"id\":\"1194\",\"type\":\"GlyphRenderer\"}]},\"id\":\"1201\",\"type\":\"LegendItem\"},{\"attributes\":{},\"id\":\"1222\",\"type\":\"BasicTicker\"},{\"attributes\":{},\"id\":\"1285\",\"type\":\"HelpTool\"},{\"attributes\":{\"color_mapper\":null,\"formatter\":{\"id\":\"1341\",\"type\":\"BasicTickFormatter\"},\"ticker\":{\"id\":\"1340\",\"type\":\"BasicTicker\"},\"visible\":false},\"id\":\"1258\",\"type\":\"ColorBar\"},{\"attributes\":{\"color_mapper\":null,\"formatter\":{\"id\":\"1352\",\"type\":\"BasicTickFormatter\"},\"ticker\":{\"id\":\"1351\",\"type\":\"BasicTicker\"},\"visible\":false},\"id\":\"1312\",\"type\":\"ColorBar\"},{\"attributes\":{},\"id\":\"1350\",\"type\":\"BasicTickFormatter\"},{\"attributes\":{\"label\":{\"value\":\"false\"},\"renderers\":[{\"id\":\"1302\",\"type\":\"GlyphRenderer\"}]},\"id\":\"1309\",\"type\":\"LegendItem\"},{\"attributes\":{\"toolbar\":{\"id\":\"1358\",\"type\":\"ProxyToolbar\"},\"toolbar_location\":\"above\"},\"id\":\"1359\",\"type\":\"ToolbarBox\"},{\"attributes\":{\"overlay\":{\"id\":\"1355\",\"type\":\"BoxAnnotation\"}},\"id\":\"1282\",\"type\":\"BoxZoomTool\"},{\"attributes\":{\"color_mapper\":null,\"formatter\":{\"id\":\"1330\",\"type\":\"BasicTickFormatter\"},\"ticker\":{\"id\":\"1329\",\"type\":\"BasicTicker\"},\"visible\":false},\"id\":\"1204\",\"type\":\"ColorBar\"},{\"attributes\":{\"ticker\":{\"id\":\"1217\",\"type\":\"BasicTicker\"}},\"id\":\"1220\",\"type\":\"Grid\"},{\"attributes\":{\"label\":{\"value\":\"true\"},\"renderers\":[{\"id\":\"1200\",\"type\":\"GlyphRenderer\"}]},\"id\":\"1202\",\"type\":\"LegendItem\"},{\"attributes\":{},\"id\":\"1337\",\"type\":\"BasicTickFormatter\"},{\"attributes\":{\"factors\":[\"true\",\"false\"],\"palette\":[\"#1f77b4\",\"#ff7f0e\",\"#2ca02c\",\"#d62728\",\"#9467bd\",\"#8c564b\",\"#e377c2\",\"#7f7f7f\",\"#bcbd22\",\"#17becf\"]},\"id\":\"1296\",\"type\":\"CategoricalColorMapper\"},{\"attributes\":{\"callback\":null,\"tooltips\":[[\"x\",\"@x\"],[\"y\",\"@y\"],[\"label\",\"@label\"]]},\"id\":\"1294\",\"type\":\"HoverTool\"},{\"attributes\":{\"click_policy\":\"hide\",\"items\":[{\"id\":\"1201\",\"type\":\"LegendItem\"},{\"id\":\"1202\",\"type\":\"LegendItem\"}]},\"id\":\"1203\",\"type\":\"Legend\"},{\"attributes\":{},\"id\":\"1348\",\"type\":\"BasicTickFormatter\"},{\"attributes\":{},\"id\":\"1284\",\"type\":\"ResetTool\"},{\"attributes\":{\"dimension\":1,\"ticker\":{\"id\":\"1222\",\"type\":\"BasicTicker\"}},\"id\":\"1225\",\"type\":\"Grid\"},{\"attributes\":{},\"id\":\"1317\",\"type\":\"BasicTickFormatter\"},{\"attributes\":{},\"id\":\"1271\",\"type\":\"BasicTicker\"},{\"attributes\":{\"ticker\":{\"id\":\"1271\",\"type\":\"BasicTicker\"}},\"id\":\"1274\",\"type\":\"Grid\"},{\"attributes\":{},\"id\":\"1315\",\"type\":\"BasicTickFormatter\"},{\"attributes\":{},\"id\":\"1328\",\"type\":\"BasicTickFormatter\"},{\"attributes\":{\"filters\":[{\"id\":\"1303\",\"type\":\"GroupFilter\"}],\"source\":{\"id\":\"1295\",\"type\":\"ColumnDataSource\"}},\"id\":\"1304\",\"type\":\"CDSView\"},{\"attributes\":{\"callback\":null},\"id\":\"1262\",\"type\":\"DataRange1d\"},{\"attributes\":{},\"id\":\"1326\",\"type\":\"BasicTickFormatter\"},{\"attributes\":{\"dimension\":1,\"ticker\":{\"id\":\"1276\",\"type\":\"BasicTicker\"}},\"id\":\"1279\",\"type\":\"Grid\"},{\"attributes\":{\"filters\":[{\"id\":\"1189\",\"type\":\"GroupFilter\"}],\"source\":{\"id\":\"1187\",\"type\":\"ColumnDataSource\"}},\"id\":\"1190\",\"type\":\"CDSView\"},{\"attributes\":{},\"id\":\"1217\",\"type\":\"BasicTicker\"},{\"attributes\":{},\"id\":\"1354\",\"type\":\"UnionRenderers\"},{\"attributes\":{\"column_name\":\"label\",\"group\":\"false\"},\"id\":\"1297\",\"type\":\"GroupFilter\"},{\"attributes\":{},\"id\":\"1320\",\"type\":\"Selection\"},{\"attributes\":{\"fill_color\":{\"field\":\"label\",\"transform\":{\"id\":\"1296\",\"type\":\"CategoricalColorMapper\"}},\"line_color\":{\"field\":\"label\",\"transform\":{\"id\":\"1296\",\"type\":\"CategoricalColorMapper\"}},\"x\":{\"field\":\"x\"},\"y\":{\"field\":\"y\"}},\"id\":\"1300\",\"type\":\"Circle\"},{\"attributes\":{\"tools\":[{\"id\":\"1118\",\"type\":\"PanTool\"},{\"id\":\"1119\",\"type\":\"WheelZoomTool\"},{\"id\":\"1120\",\"type\":\"BoxZoomTool\"},{\"id\":\"1121\",\"type\":\"SaveTool\"},{\"id\":\"1122\",\"type\":\"ResetTool\"},{\"id\":\"1123\",\"type\":\"HelpTool\"},{\"id\":\"1132\",\"type\":\"HoverTool\"},{\"id\":\"1172\",\"type\":\"PanTool\"},{\"id\":\"1173\",\"type\":\"WheelZoomTool\"},{\"id\":\"1174\",\"type\":\"BoxZoomTool\"},{\"id\":\"1175\",\"type\":\"SaveTool\"},{\"id\":\"1176\",\"type\":\"ResetTool\"},{\"id\":\"1177\",\"type\":\"HelpTool\"},{\"id\":\"1186\",\"type\":\"HoverTool\"},{\"id\":\"1226\",\"type\":\"PanTool\"},{\"id\":\"1227\",\"type\":\"WheelZoomTool\"},{\"id\":\"1228\",\"type\":\"BoxZoomTool\"},{\"id\":\"1229\",\"type\":\"SaveTool\"},{\"id\":\"1230\",\"type\":\"ResetTool\"},{\"id\":\"1231\",\"type\":\"HelpTool\"},{\"id\":\"1240\",\"type\":\"HoverTool\"},{\"id\":\"1280\",\"type\":\"PanTool\"},{\"id\":\"1281\",\"type\":\"WheelZoomTool\"},{\"id\":\"1282\",\"type\":\"BoxZoomTool\"},{\"id\":\"1283\",\"type\":\"SaveTool\"},{\"id\":\"1284\",\"type\":\"ResetTool\"},{\"id\":\"1285\",\"type\":\"HelpTool\"},{\"id\":\"1294\",\"type\":\"HoverTool\"}]},\"id\":\"1358\",\"type\":\"ProxyToolbar\"}],\"root_ids\":[\"1360\"]},\"title\":\"Bokeh Application\",\"version\":\"1.2.0\"}};\n",
       "  var render_items = [{\"docid\":\"8ca5e6cc-b61e-4867-8d5b-bde0bfdbdcbe\",\"roots\":{\"1360\":\"1282d642-187e-4440-8dc4-f734a17a8d88\"}}];\n",
       "  root.Bokeh.embed.embed_items_notebook(docs_json, render_items);\n",
       "\n",
       "  }\n",
       "  if (root.Bokeh !== undefined) {\n",
       "    embed_document(root);\n",
       "  } else {\n",
       "    var attempts = 0;\n",
       "    var timer = setInterval(function(root) {\n",
       "      if (root.Bokeh !== undefined) {\n",
       "        embed_document(root);\n",
       "        clearInterval(timer);\n",
       "      }\n",
       "      attempts++;\n",
       "      if (attempts > 100) {\n",
       "        console.log(\"Bokeh: ERROR: Unable to run BokehJS code because BokehJS library is missing\");\n",
       "        clearInterval(timer);\n",
       "      }\n",
       "    }, 10, root)\n",
       "  }\n",
       "})(window);"
      ],
      "application/vnd.bokehjs_exec.v0+json": ""
     },
     "metadata": {
      "application/vnd.bokehjs_exec.v0+json": {
       "id": "1360"
      }
     },
     "output_type": "display_data"
    }
   ],
   "source": [
    "show(gridplot(plot_list, ncols=2, plot_width=600, plot_height=400))"
   ]
  },
  {
   "cell_type": "markdown",
   "metadata": {},
   "source": [
    "There seems to be nothing abnormal with these samples with disconcordant imputed sex and self-reported gender. We will therefore trust that our computation is correct, and keep the samples."
   ]
  }
 ],
 "metadata": {
  "kernelspec": {
   "display_name": "Python [conda env:fargen-1-exome]",
   "language": "python",
   "name": "conda-env-fargen-1-exome-py"
  },
  "language_info": {
   "codemirror_mode": {
    "name": "ipython",
    "version": 3
   },
   "file_extension": ".py",
   "mimetype": "text/x-python",
   "name": "python",
   "nbconvert_exporter": "python",
   "pygments_lexer": "ipython3",
   "version": "3.7.10"
  }
 },
 "nbformat": 4,
 "nbformat_minor": 4
}
