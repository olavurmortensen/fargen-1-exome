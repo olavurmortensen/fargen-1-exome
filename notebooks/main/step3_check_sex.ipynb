{
 "cells": [
  {
   "cell_type": "markdown",
   "metadata": {},
   "source": [
    "# Sex check\n",
    "\n",
    "We will impute the sex of each sample, and compare this with the self-reported gender.\n",
    "\n",
    "Note the distinction between 'sex' and 'gender' used here: 'sex' refers to the genetic sex, where 'gender' is self-reported. We impute the sex by testing for the presence of a Y chromosome. The gender is obtained from a questionaire given to participants before a blood sample is drawn."
   ]
  },
  {
   "cell_type": "code",
   "execution_count": 1,
   "metadata": {},
   "outputs": [
    {
     "name": "stdout",
     "output_type": "stream",
     "text": [
      "2021-10-15 09:10:19 WARN  NativeCodeLoader:62 - Unable to load native-hadoop library for your platform... using builtin-java classes where applicable\n"
     ]
    },
    {
     "name": "stderr",
     "output_type": "stream",
     "text": [
      "Setting default log level to \"WARN\".\n",
      "To adjust logging level use sc.setLogLevel(newLevel). For SparkR, use setLogLevel(newLevel).\n"
     ]
    },
    {
     "name": "stdout",
     "output_type": "stream",
     "text": [
      "2021-10-15 09:10:19 WARN  Hail:37 - This Hail JAR was compiled for Spark 2.4.5, running with Spark 2.4.1.\n",
      "  Compatibility is not guaranteed.\n",
      "2021-10-15 09:10:20 WARN  Utils:66 - Service 'SparkUI' could not bind on port 4040. Attempting port 4041.\n"
     ]
    },
    {
     "name": "stderr",
     "output_type": "stream",
     "text": [
      "Running on Apache Spark version 2.4.1\n",
      "SparkUI available at http://hms-beagle-6676655f87-9xllv:4041\n",
      "Welcome to\n",
      "     __  __     <>__\n",
      "    / /_/ /__  __/ /\n",
      "   / __  / _ `/ / /\n",
      "  /_/ /_/\\_,_/_/_/   version 0.2.61-3c86d3ba497a\n",
      "LOGGING: writing to /home/olavur/experiments/2020-11-13_fargen1_exome_analysis/fargen-1-exome/notebooks/main/hail-20211015-0910-0.2.61-3c86d3ba497a.log\n"
     ]
    }
   ],
   "source": [
    "import hail as hl\n",
    "hl.init(spark_conf={'spark.driver.memory': '10g'}, tmp_dir='/home/olavur/tmp')"
   ]
  },
  {
   "cell_type": "code",
   "execution_count": 2,
   "metadata": {},
   "outputs": [
    {
     "data": {
      "text/html": [
       "\n",
       "    <div class=\"bk-root\">\n",
       "        <a href=\"https://bokeh.pydata.org\" target=\"_blank\" class=\"bk-logo bk-logo-small bk-logo-notebook\"></a>\n",
       "        <span id=\"1001\">Loading BokehJS ...</span>\n",
       "    </div>"
      ]
     },
     "metadata": {},
     "output_type": "display_data"
    },
    {
     "data": {
      "application/javascript": [
       "\n",
       "(function(root) {\n",
       "  function now() {\n",
       "    return new Date();\n",
       "  }\n",
       "\n",
       "  var force = true;\n",
       "\n",
       "  if (typeof root._bokeh_onload_callbacks === \"undefined\" || force === true) {\n",
       "    root._bokeh_onload_callbacks = [];\n",
       "    root._bokeh_is_loading = undefined;\n",
       "  }\n",
       "\n",
       "  var JS_MIME_TYPE = 'application/javascript';\n",
       "  var HTML_MIME_TYPE = 'text/html';\n",
       "  var EXEC_MIME_TYPE = 'application/vnd.bokehjs_exec.v0+json';\n",
       "  var CLASS_NAME = 'output_bokeh rendered_html';\n",
       "\n",
       "  /**\n",
       "   * Render data to the DOM node\n",
       "   */\n",
       "  function render(props, node) {\n",
       "    var script = document.createElement(\"script\");\n",
       "    node.appendChild(script);\n",
       "  }\n",
       "\n",
       "  /**\n",
       "   * Handle when an output is cleared or removed\n",
       "   */\n",
       "  function handleClearOutput(event, handle) {\n",
       "    var cell = handle.cell;\n",
       "\n",
       "    var id = cell.output_area._bokeh_element_id;\n",
       "    var server_id = cell.output_area._bokeh_server_id;\n",
       "    // Clean up Bokeh references\n",
       "    if (id != null && id in Bokeh.index) {\n",
       "      Bokeh.index[id].model.document.clear();\n",
       "      delete Bokeh.index[id];\n",
       "    }\n",
       "\n",
       "    if (server_id !== undefined) {\n",
       "      // Clean up Bokeh references\n",
       "      var cmd = \"from bokeh.io.state import curstate; print(curstate().uuid_to_server['\" + server_id + \"'].get_sessions()[0].document.roots[0]._id)\";\n",
       "      cell.notebook.kernel.execute(cmd, {\n",
       "        iopub: {\n",
       "          output: function(msg) {\n",
       "            var id = msg.content.text.trim();\n",
       "            if (id in Bokeh.index) {\n",
       "              Bokeh.index[id].model.document.clear();\n",
       "              delete Bokeh.index[id];\n",
       "            }\n",
       "          }\n",
       "        }\n",
       "      });\n",
       "      // Destroy server and session\n",
       "      var cmd = \"import bokeh.io.notebook as ion; ion.destroy_server('\" + server_id + \"')\";\n",
       "      cell.notebook.kernel.execute(cmd);\n",
       "    }\n",
       "  }\n",
       "\n",
       "  /**\n",
       "   * Handle when a new output is added\n",
       "   */\n",
       "  function handleAddOutput(event, handle) {\n",
       "    var output_area = handle.output_area;\n",
       "    var output = handle.output;\n",
       "\n",
       "    // limit handleAddOutput to display_data with EXEC_MIME_TYPE content only\n",
       "    if ((output.output_type != \"display_data\") || (!output.data.hasOwnProperty(EXEC_MIME_TYPE))) {\n",
       "      return\n",
       "    }\n",
       "\n",
       "    var toinsert = output_area.element.find(\".\" + CLASS_NAME.split(' ')[0]);\n",
       "\n",
       "    if (output.metadata[EXEC_MIME_TYPE][\"id\"] !== undefined) {\n",
       "      toinsert[toinsert.length - 1].firstChild.textContent = output.data[JS_MIME_TYPE];\n",
       "      // store reference to embed id on output_area\n",
       "      output_area._bokeh_element_id = output.metadata[EXEC_MIME_TYPE][\"id\"];\n",
       "    }\n",
       "    if (output.metadata[EXEC_MIME_TYPE][\"server_id\"] !== undefined) {\n",
       "      var bk_div = document.createElement(\"div\");\n",
       "      bk_div.innerHTML = output.data[HTML_MIME_TYPE];\n",
       "      var script_attrs = bk_div.children[0].attributes;\n",
       "      for (var i = 0; i < script_attrs.length; i++) {\n",
       "        toinsert[toinsert.length - 1].firstChild.setAttribute(script_attrs[i].name, script_attrs[i].value);\n",
       "      }\n",
       "      // store reference to server id on output_area\n",
       "      output_area._bokeh_server_id = output.metadata[EXEC_MIME_TYPE][\"server_id\"];\n",
       "    }\n",
       "  }\n",
       "\n",
       "  function register_renderer(events, OutputArea) {\n",
       "\n",
       "    function append_mime(data, metadata, element) {\n",
       "      // create a DOM node to render to\n",
       "      var toinsert = this.create_output_subarea(\n",
       "        metadata,\n",
       "        CLASS_NAME,\n",
       "        EXEC_MIME_TYPE\n",
       "      );\n",
       "      this.keyboard_manager.register_events(toinsert);\n",
       "      // Render to node\n",
       "      var props = {data: data, metadata: metadata[EXEC_MIME_TYPE]};\n",
       "      render(props, toinsert[toinsert.length - 1]);\n",
       "      element.append(toinsert);\n",
       "      return toinsert\n",
       "    }\n",
       "\n",
       "    /* Handle when an output is cleared or removed */\n",
       "    events.on('clear_output.CodeCell', handleClearOutput);\n",
       "    events.on('delete.Cell', handleClearOutput);\n",
       "\n",
       "    /* Handle when a new output is added */\n",
       "    events.on('output_added.OutputArea', handleAddOutput);\n",
       "\n",
       "    /**\n",
       "     * Register the mime type and append_mime function with output_area\n",
       "     */\n",
       "    OutputArea.prototype.register_mime_type(EXEC_MIME_TYPE, append_mime, {\n",
       "      /* Is output safe? */\n",
       "      safe: true,\n",
       "      /* Index of renderer in `output_area.display_order` */\n",
       "      index: 0\n",
       "    });\n",
       "  }\n",
       "\n",
       "  // register the mime type if in Jupyter Notebook environment and previously unregistered\n",
       "  if (root.Jupyter !== undefined) {\n",
       "    var events = require('base/js/events');\n",
       "    var OutputArea = require('notebook/js/outputarea').OutputArea;\n",
       "\n",
       "    if (OutputArea.prototype.mime_types().indexOf(EXEC_MIME_TYPE) == -1) {\n",
       "      register_renderer(events, OutputArea);\n",
       "    }\n",
       "  }\n",
       "\n",
       "  \n",
       "  if (typeof (root._bokeh_timeout) === \"undefined\" || force === true) {\n",
       "    root._bokeh_timeout = Date.now() + 5000;\n",
       "    root._bokeh_failed_load = false;\n",
       "  }\n",
       "\n",
       "  var NB_LOAD_WARNING = {'data': {'text/html':\n",
       "     \"<div style='background-color: #fdd'>\\n\"+\n",
       "     \"<p>\\n\"+\n",
       "     \"BokehJS does not appear to have successfully loaded. If loading BokehJS from CDN, this \\n\"+\n",
       "     \"may be due to a slow or bad network connection. Possible fixes:\\n\"+\n",
       "     \"</p>\\n\"+\n",
       "     \"<ul>\\n\"+\n",
       "     \"<li>re-rerun `output_notebook()` to attempt to load from CDN again, or</li>\\n\"+\n",
       "     \"<li>use INLINE resources instead, as so:</li>\\n\"+\n",
       "     \"</ul>\\n\"+\n",
       "     \"<code>\\n\"+\n",
       "     \"from bokeh.resources import INLINE\\n\"+\n",
       "     \"output_notebook(resources=INLINE)\\n\"+\n",
       "     \"</code>\\n\"+\n",
       "     \"</div>\"}};\n",
       "\n",
       "  function display_loaded() {\n",
       "    var el = document.getElementById(\"1001\");\n",
       "    if (el != null) {\n",
       "      el.textContent = \"BokehJS is loading...\";\n",
       "    }\n",
       "    if (root.Bokeh !== undefined) {\n",
       "      if (el != null) {\n",
       "        el.textContent = \"BokehJS \" + root.Bokeh.version + \" successfully loaded.\";\n",
       "      }\n",
       "    } else if (Date.now() < root._bokeh_timeout) {\n",
       "      setTimeout(display_loaded, 100)\n",
       "    }\n",
       "  }\n",
       "\n",
       "\n",
       "  function run_callbacks() {\n",
       "    try {\n",
       "      root._bokeh_onload_callbacks.forEach(function(callback) {\n",
       "        if (callback != null)\n",
       "          callback();\n",
       "      });\n",
       "    } finally {\n",
       "      delete root._bokeh_onload_callbacks\n",
       "    }\n",
       "    console.debug(\"Bokeh: all callbacks have finished\");\n",
       "  }\n",
       "\n",
       "  function load_libs(css_urls, js_urls, callback) {\n",
       "    if (css_urls == null) css_urls = [];\n",
       "    if (js_urls == null) js_urls = [];\n",
       "\n",
       "    root._bokeh_onload_callbacks.push(callback);\n",
       "    if (root._bokeh_is_loading > 0) {\n",
       "      console.debug(\"Bokeh: BokehJS is being loaded, scheduling callback at\", now());\n",
       "      return null;\n",
       "    }\n",
       "    if (js_urls == null || js_urls.length === 0) {\n",
       "      run_callbacks();\n",
       "      return null;\n",
       "    }\n",
       "    console.debug(\"Bokeh: BokehJS not loaded, scheduling load and callback at\", now());\n",
       "    root._bokeh_is_loading = css_urls.length + js_urls.length;\n",
       "\n",
       "    function on_load() {\n",
       "      root._bokeh_is_loading--;\n",
       "      if (root._bokeh_is_loading === 0) {\n",
       "        console.debug(\"Bokeh: all BokehJS libraries/stylesheets loaded\");\n",
       "        run_callbacks()\n",
       "      }\n",
       "    }\n",
       "\n",
       "    function on_error() {\n",
       "      console.error(\"failed to load \" + url);\n",
       "    }\n",
       "\n",
       "    for (var i = 0; i < css_urls.length; i++) {\n",
       "      var url = css_urls[i];\n",
       "      const element = document.createElement(\"link\");\n",
       "      element.onload = on_load;\n",
       "      element.onerror = on_error;\n",
       "      element.rel = \"stylesheet\";\n",
       "      element.type = \"text/css\";\n",
       "      element.href = url;\n",
       "      console.debug(\"Bokeh: injecting link tag for BokehJS stylesheet: \", url);\n",
       "      document.body.appendChild(element);\n",
       "    }\n",
       "\n",
       "    for (var i = 0; i < js_urls.length; i++) {\n",
       "      var url = js_urls[i];\n",
       "      var element = document.createElement('script');\n",
       "      element.onload = on_load;\n",
       "      element.onerror = on_error;\n",
       "      element.async = false;\n",
       "      element.src = url;\n",
       "      console.debug(\"Bokeh: injecting script tag for BokehJS library: \", url);\n",
       "      document.head.appendChild(element);\n",
       "    }\n",
       "  };var element = document.getElementById(\"1001\");\n",
       "  if (element == null) {\n",
       "    console.error(\"Bokeh: ERROR: autoload.js configured with elementid '1001' but no matching script tag was found. \")\n",
       "    return false;\n",
       "  }\n",
       "\n",
       "  function inject_raw_css(css) {\n",
       "    const element = document.createElement(\"style\");\n",
       "    element.appendChild(document.createTextNode(css));\n",
       "    document.body.appendChild(element);\n",
       "  }\n",
       "\n",
       "  var js_urls = [\"https://cdn.pydata.org/bokeh/release/bokeh-1.2.0.min.js\", \"https://cdn.pydata.org/bokeh/release/bokeh-widgets-1.2.0.min.js\", \"https://cdn.pydata.org/bokeh/release/bokeh-tables-1.2.0.min.js\", \"https://cdn.pydata.org/bokeh/release/bokeh-gl-1.2.0.min.js\"];\n",
       "  var css_urls = [\"https://cdn.pydata.org/bokeh/release/bokeh-1.2.0.min.css\", \"https://cdn.pydata.org/bokeh/release/bokeh-widgets-1.2.0.min.css\", \"https://cdn.pydata.org/bokeh/release/bokeh-tables-1.2.0.min.css\"];\n",
       "\n",
       "  var inline_js = [\n",
       "    function(Bokeh) {\n",
       "      Bokeh.set_log_level(\"info\");\n",
       "    },\n",
       "    \n",
       "    function(Bokeh) {\n",
       "      \n",
       "    },\n",
       "    function(Bokeh) {} // ensure no trailing comma for IE\n",
       "  ];\n",
       "\n",
       "  function run_inline_js() {\n",
       "    \n",
       "    if ((root.Bokeh !== undefined) || (force === true)) {\n",
       "      for (var i = 0; i < inline_js.length; i++) {\n",
       "        inline_js[i].call(root, root.Bokeh);\n",
       "      }if (force === true) {\n",
       "        display_loaded();\n",
       "      }} else if (Date.now() < root._bokeh_timeout) {\n",
       "      setTimeout(run_inline_js, 100);\n",
       "    } else if (!root._bokeh_failed_load) {\n",
       "      console.log(\"Bokeh: BokehJS failed to load within specified timeout.\");\n",
       "      root._bokeh_failed_load = true;\n",
       "    } else if (force !== true) {\n",
       "      var cell = $(document.getElementById(\"1001\")).parents('.cell').data().cell;\n",
       "      cell.output_area.append_execute_result(NB_LOAD_WARNING)\n",
       "    }\n",
       "\n",
       "  }\n",
       "\n",
       "  if (root._bokeh_is_loading === 0) {\n",
       "    console.debug(\"Bokeh: BokehJS loaded, going straight to plotting\");\n",
       "    run_inline_js();\n",
       "  } else {\n",
       "    load_libs(css_urls, js_urls, function() {\n",
       "      console.debug(\"Bokeh: BokehJS plotting callback run at\", now());\n",
       "      run_inline_js();\n",
       "    });\n",
       "  }\n",
       "}(window));"
      ],
      "application/vnd.bokehjs_load.v0+json": "\n(function(root) {\n  function now() {\n    return new Date();\n  }\n\n  var force = true;\n\n  if (typeof root._bokeh_onload_callbacks === \"undefined\" || force === true) {\n    root._bokeh_onload_callbacks = [];\n    root._bokeh_is_loading = undefined;\n  }\n\n  \n\n  \n  if (typeof (root._bokeh_timeout) === \"undefined\" || force === true) {\n    root._bokeh_timeout = Date.now() + 5000;\n    root._bokeh_failed_load = false;\n  }\n\n  var NB_LOAD_WARNING = {'data': {'text/html':\n     \"<div style='background-color: #fdd'>\\n\"+\n     \"<p>\\n\"+\n     \"BokehJS does not appear to have successfully loaded. If loading BokehJS from CDN, this \\n\"+\n     \"may be due to a slow or bad network connection. Possible fixes:\\n\"+\n     \"</p>\\n\"+\n     \"<ul>\\n\"+\n     \"<li>re-rerun `output_notebook()` to attempt to load from CDN again, or</li>\\n\"+\n     \"<li>use INLINE resources instead, as so:</li>\\n\"+\n     \"</ul>\\n\"+\n     \"<code>\\n\"+\n     \"from bokeh.resources import INLINE\\n\"+\n     \"output_notebook(resources=INLINE)\\n\"+\n     \"</code>\\n\"+\n     \"</div>\"}};\n\n  function display_loaded() {\n    var el = document.getElementById(\"1001\");\n    if (el != null) {\n      el.textContent = \"BokehJS is loading...\";\n    }\n    if (root.Bokeh !== undefined) {\n      if (el != null) {\n        el.textContent = \"BokehJS \" + root.Bokeh.version + \" successfully loaded.\";\n      }\n    } else if (Date.now() < root._bokeh_timeout) {\n      setTimeout(display_loaded, 100)\n    }\n  }\n\n\n  function run_callbacks() {\n    try {\n      root._bokeh_onload_callbacks.forEach(function(callback) {\n        if (callback != null)\n          callback();\n      });\n    } finally {\n      delete root._bokeh_onload_callbacks\n    }\n    console.debug(\"Bokeh: all callbacks have finished\");\n  }\n\n  function load_libs(css_urls, js_urls, callback) {\n    if (css_urls == null) css_urls = [];\n    if (js_urls == null) js_urls = [];\n\n    root._bokeh_onload_callbacks.push(callback);\n    if (root._bokeh_is_loading > 0) {\n      console.debug(\"Bokeh: BokehJS is being loaded, scheduling callback at\", now());\n      return null;\n    }\n    if (js_urls == null || js_urls.length === 0) {\n      run_callbacks();\n      return null;\n    }\n    console.debug(\"Bokeh: BokehJS not loaded, scheduling load and callback at\", now());\n    root._bokeh_is_loading = css_urls.length + js_urls.length;\n\n    function on_load() {\n      root._bokeh_is_loading--;\n      if (root._bokeh_is_loading === 0) {\n        console.debug(\"Bokeh: all BokehJS libraries/stylesheets loaded\");\n        run_callbacks()\n      }\n    }\n\n    function on_error() {\n      console.error(\"failed to load \" + url);\n    }\n\n    for (var i = 0; i < css_urls.length; i++) {\n      var url = css_urls[i];\n      const element = document.createElement(\"link\");\n      element.onload = on_load;\n      element.onerror = on_error;\n      element.rel = \"stylesheet\";\n      element.type = \"text/css\";\n      element.href = url;\n      console.debug(\"Bokeh: injecting link tag for BokehJS stylesheet: \", url);\n      document.body.appendChild(element);\n    }\n\n    for (var i = 0; i < js_urls.length; i++) {\n      var url = js_urls[i];\n      var element = document.createElement('script');\n      element.onload = on_load;\n      element.onerror = on_error;\n      element.async = false;\n      element.src = url;\n      console.debug(\"Bokeh: injecting script tag for BokehJS library: \", url);\n      document.head.appendChild(element);\n    }\n  };var element = document.getElementById(\"1001\");\n  if (element == null) {\n    console.error(\"Bokeh: ERROR: autoload.js configured with elementid '1001' but no matching script tag was found. \")\n    return false;\n  }\n\n  function inject_raw_css(css) {\n    const element = document.createElement(\"style\");\n    element.appendChild(document.createTextNode(css));\n    document.body.appendChild(element);\n  }\n\n  var js_urls = [\"https://cdn.pydata.org/bokeh/release/bokeh-1.2.0.min.js\", \"https://cdn.pydata.org/bokeh/release/bokeh-widgets-1.2.0.min.js\", \"https://cdn.pydata.org/bokeh/release/bokeh-tables-1.2.0.min.js\", \"https://cdn.pydata.org/bokeh/release/bokeh-gl-1.2.0.min.js\"];\n  var css_urls = [\"https://cdn.pydata.org/bokeh/release/bokeh-1.2.0.min.css\", \"https://cdn.pydata.org/bokeh/release/bokeh-widgets-1.2.0.min.css\", \"https://cdn.pydata.org/bokeh/release/bokeh-tables-1.2.0.min.css\"];\n\n  var inline_js = [\n    function(Bokeh) {\n      Bokeh.set_log_level(\"info\");\n    },\n    \n    function(Bokeh) {\n      \n    },\n    function(Bokeh) {} // ensure no trailing comma for IE\n  ];\n\n  function run_inline_js() {\n    \n    if ((root.Bokeh !== undefined) || (force === true)) {\n      for (var i = 0; i < inline_js.length; i++) {\n        inline_js[i].call(root, root.Bokeh);\n      }if (force === true) {\n        display_loaded();\n      }} else if (Date.now() < root._bokeh_timeout) {\n      setTimeout(run_inline_js, 100);\n    } else if (!root._bokeh_failed_load) {\n      console.log(\"Bokeh: BokehJS failed to load within specified timeout.\");\n      root._bokeh_failed_load = true;\n    } else if (force !== true) {\n      var cell = $(document.getElementById(\"1001\")).parents('.cell').data().cell;\n      cell.output_area.append_execute_result(NB_LOAD_WARNING)\n    }\n\n  }\n\n  if (root._bokeh_is_loading === 0) {\n    console.debug(\"Bokeh: BokehJS loaded, going straight to plotting\");\n    run_inline_js();\n  } else {\n    load_libs(css_urls, js_urls, function() {\n      console.debug(\"Bokeh: BokehJS plotting callback run at\", now());\n      run_inline_js();\n    });\n  }\n}(window));"
     },
     "metadata": {},
     "output_type": "display_data"
    }
   ],
   "source": [
    "from bokeh.io import show, output_notebook\n",
    "from bokeh.layouts import gridplot\n",
    "from bokeh.models.scales import LogScale\n",
    "output_notebook()"
   ]
  },
  {
   "cell_type": "code",
   "execution_count": 3,
   "metadata": {},
   "outputs": [],
   "source": [
    "import pandas as pd"
   ]
  },
  {
   "cell_type": "code",
   "execution_count": 4,
   "metadata": {},
   "outputs": [],
   "source": [
    "BASE_DIR = '/home/olavur/experiments/2020-11-13_fargen1_exome_analysis'"
   ]
  },
  {
   "cell_type": "markdown",
   "metadata": {},
   "source": [
    "## Load FarGen exome data\n",
    "\n",
    "Load filtered, high-quality, variants."
   ]
  },
  {
   "cell_type": "code",
   "execution_count": 17,
   "metadata": {},
   "outputs": [],
   "source": [
    "mt = hl.read_matrix_table(BASE_DIR + '/data/mt/high_quality_variants.mt/')"
   ]
  },
  {
   "cell_type": "code",
   "execution_count": 18,
   "metadata": {},
   "outputs": [
    {
     "name": "stdout",
     "output_type": "stream",
     "text": [
      "Number of variants: 148305\n",
      "Number of samples: 469\n"
     ]
    }
   ],
   "source": [
    "n_variants, n_samples = mt.count()\n",
    "print('Number of variants: ' + str(n_variants))\n",
    "print('Number of samples: ' + str(n_samples))"
   ]
  },
  {
   "cell_type": "markdown",
   "metadata": {},
   "source": [
    "## Impute sex\n",
    "\n",
    "We impute the sex of the samples by computing the inbreeding coefficient (F) on the X chromosome. This inbreeding coefficient is calculated as $F = \\frac{O - E}{N-E}$ where $O$ is the observed number of homozygotes, $E$ is the expected number of homozygotes, and $N$ is the number of non-missing genotype calls. The expected number of homozygotes is calculated as $E = 1 - 2 f (1 - f)$ where $f$ is the minor-allel frequency."
   ]
  },
  {
   "cell_type": "code",
   "execution_count": 20,
   "metadata": {},
   "outputs": [],
   "source": [
    "imputed_sex_ht = hl.impute_sex(mt.GT)"
   ]
  },
  {
   "cell_type": "markdown",
   "metadata": {},
   "source": [
    "Below we've plotted the inbreeding coefficient, and there is a quite clear clustering of individuals."
   ]
  },
  {
   "cell_type": "code",
   "execution_count": 21,
   "metadata": {},
   "outputs": [
    {
     "data": {
      "text/html": [
       "\n",
       "\n",
       "\n",
       "\n",
       "\n",
       "\n",
       "  <div class=\"bk-root\" id=\"eb7e4a5c-2903-40bc-ac46-b1e708ba5104\" data-root-id=\"1649\"></div>\n"
      ]
     },
     "metadata": {},
     "output_type": "display_data"
    },
    {
     "data": {
      "application/javascript": [
       "(function(root) {\n",
       "  function embed_document(root) {\n",
       "    \n",
       "  var docs_json = {\"a65b09e6-5f00-4afa-a093-ba6c5418b4b5\":{\"roots\":{\"references\":[{\"attributes\":{\"background_fill_color\":{\"value\":\"#EEEEEE\"},\"below\":[{\"id\":\"1660\",\"type\":\"LinearAxis\"}],\"center\":[{\"id\":\"1664\",\"type\":\"Grid\"},{\"id\":\"1669\",\"type\":\"Grid\"}],\"left\":[{\"id\":\"1665\",\"type\":\"LinearAxis\"}],\"plot_height\":500,\"plot_width\":800,\"renderers\":[{\"id\":\"1686\",\"type\":\"GlyphRenderer\"}],\"title\":{\"id\":\"1650\",\"type\":\"Title\"},\"toolbar\":{\"id\":\"1676\",\"type\":\"Toolbar\"},\"x_range\":{\"id\":\"1652\",\"type\":\"Range1d\"},\"x_scale\":{\"id\":\"1656\",\"type\":\"LinearScale\"},\"y_range\":{\"id\":\"1654\",\"type\":\"DataRange1d\"},\"y_scale\":{\"id\":\"1658\",\"type\":\"LinearScale\"}},\"id\":\"1649\",\"subtype\":\"Figure\",\"type\":\"Plot\"},{\"attributes\":{\"ticker\":{\"id\":\"1661\",\"type\":\"BasicTicker\"}},\"id\":\"1664\",\"type\":\"Grid\"},{\"attributes\":{},\"id\":\"1666\",\"type\":\"BasicTicker\"},{\"attributes\":{\"overlay\":{\"id\":\"1741\",\"type\":\"BoxAnnotation\"}},\"id\":\"1672\",\"type\":\"BoxZoomTool\"},{\"attributes\":{\"callback\":null,\"end\":1.0557514867317213,\"start\":-0.5155847090394817},\"id\":\"1652\",\"type\":\"Range1d\"},{\"attributes\":{},\"id\":\"1671\",\"type\":\"WheelZoomTool\"},{\"attributes\":{},\"id\":\"1738\",\"type\":\"BasicTickFormatter\"},{\"attributes\":{\"bottom\":{\"value\":0},\"fill_alpha\":{\"value\":0.1},\"fill_color\":{\"value\":\"#1f77b4\"},\"left\":{\"field\":\"left\"},\"line_alpha\":{\"value\":0.1},\"line_color\":{\"value\":\"#1f77b4\"},\"right\":{\"field\":\"right\"},\"top\":{\"field\":\"top\"}},\"id\":\"1685\",\"type\":\"Quad\"},{\"attributes\":{\"active_drag\":\"auto\",\"active_inspect\":\"auto\",\"active_multi\":null,\"active_scroll\":\"auto\",\"active_tap\":\"auto\",\"tools\":[{\"id\":\"1670\",\"type\":\"PanTool\"},{\"id\":\"1671\",\"type\":\"WheelZoomTool\"},{\"id\":\"1672\",\"type\":\"BoxZoomTool\"},{\"id\":\"1673\",\"type\":\"SaveTool\"},{\"id\":\"1674\",\"type\":\"ResetTool\"},{\"id\":\"1675\",\"type\":\"HelpTool\"}]},\"id\":\"1676\",\"type\":\"Toolbar\"},{\"attributes\":{},\"id\":\"1658\",\"type\":\"LinearScale\"},{\"attributes\":{\"bottom\":{\"value\":0},\"fill_color\":{\"value\":\"#1f77b4\"},\"left\":{\"field\":\"left\"},\"right\":{\"field\":\"right\"},\"top\":{\"field\":\"top\"}},\"id\":\"1684\",\"type\":\"Quad\"},{\"attributes\":{\"formatter\":{\"id\":\"1740\",\"type\":\"BasicTickFormatter\"},\"ticker\":{\"id\":\"1661\",\"type\":\"BasicTicker\"}},\"id\":\"1660\",\"type\":\"LinearAxis\"},{\"attributes\":{},\"id\":\"1673\",\"type\":\"SaveTool\"},{\"attributes\":{\"source\":{\"id\":\"1683\",\"type\":\"ColumnDataSource\"}},\"id\":\"1687\",\"type\":\"CDSView\"},{\"attributes\":{},\"id\":\"1661\",\"type\":\"BasicTicker\"},{\"attributes\":{\"bottom_units\":\"screen\",\"fill_alpha\":{\"value\":0.5},\"fill_color\":{\"value\":\"lightgrey\"},\"left_units\":\"screen\",\"level\":\"overlay\",\"line_alpha\":{\"value\":1.0},\"line_color\":{\"value\":\"black\"},\"line_dash\":[4,4],\"line_width\":{\"value\":2},\"render_mode\":\"css\",\"right_units\":\"screen\",\"top_units\":\"screen\"},\"id\":\"1741\",\"type\":\"BoxAnnotation\"},{\"attributes\":{\"callback\":null},\"id\":\"1654\",\"type\":\"DataRange1d\"},{\"attributes\":{\"callback\":null,\"data\":{\"left\":[-0.44416033650442704,-0.41559058749040517,-0.3870208384763833,-0.3584510894623614,-0.32988134044833956,-0.3013115914343177,-0.2727418424202958,-0.24417209340627394,-0.21560234439225207,-0.1870325953782302,-0.15846284636420832,-0.12989309735018645,-0.10132334833616458,-0.0727535993221427,-0.04418385030812083,-0.015614101294098959,0.012955647719922914,0.041525396733944786,0.07009514574796666,0.09866489476198853,0.1272346437760104,0.15580439279003228,0.18437414180405415,0.21294389081807602,0.2415136398320979,0.27008338884611977,0.29865313786014164,0.3272228868741635,0.3557926358881854,0.38436238490220725,0.4129321339162291,0.441501882930251,0.47007163194427287,0.49864138095829474,0.5272111299723166,0.5557808789863385,0.5843506280003603,0.6129203770143823,0.641490126028404,0.6700598750424258,0.6986296240564478,0.7271993730704698,0.7557691220844915,0.7843388710985133,0.8129086201125353,0.8414783691265573,0.870048118140579,0.8986178671546008,0.9271876161686228,0.9557573651826448],\"right\":[-0.41559058749040517,-0.3870208384763833,-0.3584510894623614,-0.32988134044833956,-0.3013115914343177,-0.2727418424202958,-0.24417209340627394,-0.21560234439225207,-0.1870325953782302,-0.15846284636420832,-0.12989309735018645,-0.10132334833616458,-0.0727535993221427,-0.04418385030812083,-0.015614101294098959,0.012955647719922914,0.041525396733944786,0.07009514574796666,0.09866489476198853,0.1272346437760104,0.15580439279003228,0.18437414180405415,0.21294389081807602,0.2415136398320979,0.27008338884611977,0.29865313786014164,0.3272228868741635,0.3557926358881854,0.38436238490220725,0.4129321339162291,0.441501882930251,0.47007163194427287,0.49864138095829474,0.5272111299723166,0.5557808789863385,0.5843506280003603,0.6129203770143823,0.641490126028404,0.6700598750424258,0.6986296240564478,0.7271993730704698,0.7557691220844915,0.7843388710985133,0.8129086201125353,0.8414783691265573,0.870048118140579,0.8986178671546008,0.9271876161686228,0.9557573651826448,0.9843271141966665],\"top\":[1,4,4,6,10,14,17,25,28,19,29,22,29,28,13,14,4,3,4,2,2,0,0,0,0,0,0,0,0,0,0,0,0,0,0,0,0,0,0,0,0,0,1,0,4,15,39,69,52,11]},\"selected\":{\"id\":\"1743\",\"type\":\"Selection\"},\"selection_policy\":{\"id\":\"1742\",\"type\":\"UnionRenderers\"}},\"id\":\"1683\",\"type\":\"ColumnDataSource\"},{\"attributes\":{},\"id\":\"1656\",\"type\":\"LinearScale\"},{\"attributes\":{},\"id\":\"1674\",\"type\":\"ResetTool\"},{\"attributes\":{},\"id\":\"1743\",\"type\":\"Selection\"},{\"attributes\":{\"axis_label\":\"Frequency\",\"formatter\":{\"id\":\"1738\",\"type\":\"BasicTickFormatter\"},\"ticker\":{\"id\":\"1666\",\"type\":\"BasicTicker\"}},\"id\":\"1665\",\"type\":\"LinearAxis\"},{\"attributes\":{\"data_source\":{\"id\":\"1683\",\"type\":\"ColumnDataSource\"},\"glyph\":{\"id\":\"1684\",\"type\":\"Quad\"},\"hover_glyph\":null,\"muted_glyph\":null,\"nonselection_glyph\":{\"id\":\"1685\",\"type\":\"Quad\"},\"selection_glyph\":null,\"view\":{\"id\":\"1687\",\"type\":\"CDSView\"}},\"id\":\"1686\",\"type\":\"GlyphRenderer\"},{\"attributes\":{},\"id\":\"1742\",\"type\":\"UnionRenderers\"},{\"attributes\":{\"dimension\":1,\"ticker\":{\"id\":\"1666\",\"type\":\"BasicTicker\"}},\"id\":\"1669\",\"type\":\"Grid\"},{\"attributes\":{},\"id\":\"1675\",\"type\":\"HelpTool\"},{\"attributes\":{\"text\":\"Inbreeding coefficient (F) computed on the X chromosome\"},\"id\":\"1650\",\"type\":\"Title\"},{\"attributes\":{},\"id\":\"1740\",\"type\":\"BasicTickFormatter\"},{\"attributes\":{},\"id\":\"1670\",\"type\":\"PanTool\"}],\"root_ids\":[\"1649\"]},\"title\":\"Bokeh Application\",\"version\":\"1.2.0\"}};\n",
       "  var render_items = [{\"docid\":\"a65b09e6-5f00-4afa-a093-ba6c5418b4b5\",\"roots\":{\"1649\":\"eb7e4a5c-2903-40bc-ac46-b1e708ba5104\"}}];\n",
       "  root.Bokeh.embed.embed_items_notebook(docs_json, render_items);\n",
       "\n",
       "  }\n",
       "  if (root.Bokeh !== undefined) {\n",
       "    embed_document(root);\n",
       "  } else {\n",
       "    var attempts = 0;\n",
       "    var timer = setInterval(function(root) {\n",
       "      if (root.Bokeh !== undefined) {\n",
       "        embed_document(root);\n",
       "        clearInterval(timer);\n",
       "      }\n",
       "      attempts++;\n",
       "      if (attempts > 100) {\n",
       "        console.log(\"Bokeh: ERROR: Unable to run BokehJS code because BokehJS library is missing\");\n",
       "        clearInterval(timer);\n",
       "      }\n",
       "    }, 10, root)\n",
       "  }\n",
       "})(window);"
      ],
      "application/vnd.bokehjs_exec.v0+json": ""
     },
     "metadata": {
      "application/vnd.bokehjs_exec.v0+json": {
       "id": "1649"
      }
     },
     "output_type": "display_data"
    }
   ],
   "source": [
    "p = hl.plot.histogram(imputed_sex_ht.f_stat, title='Inbreeding coefficient (F) computed on the X chromosome')\n",
    "p.plot_width = 800\n",
    "p.plot_height = 500\n",
    "show(p)"
   ]
  },
  {
   "cell_type": "markdown",
   "metadata": {},
   "source": [
    "Based on the plot above, we define new $F$ thresholds for male and female, and do the imputation again."
   ]
  },
  {
   "cell_type": "code",
   "execution_count": 22,
   "metadata": {},
   "outputs": [],
   "source": [
    "imputed_sex_ht = hl.impute_sex(mt.GT, female_threshold=0.4, male_threshold=0.4)\n",
    "\n",
    "# Make a new variable 'sex' that is either 'f' or 'm'.\n",
    "imputed_sex_ht = imputed_sex_ht.annotate(sex = hl.if_else(imputed_sex_ht.is_female, 'f', 'm'))"
   ]
  },
  {
   "cell_type": "markdown",
   "metadata": {},
   "source": [
    "## Load self-reported gender data"
   ]
  },
  {
   "cell_type": "code",
   "execution_count": 23,
   "metadata": {},
   "outputs": [
    {
     "name": "stderr",
     "output_type": "stream",
     "text": [
      "2021-10-15 09:10:55 Hail: INFO: Reading table without type imputation\n",
      "  Loading field 'IndividualName' as type str (not specified)\n",
      "  Loading field 'Gender' as type str (not specified)\n"
     ]
    }
   ],
   "source": [
    "# Read the CSV.\n",
    "gender_ht = hl.import_table(BASE_DIR + '/data/metadata/fargen_indi-gen.csv', delimiter=',')\n",
    "\n",
    "# Key the table by individual name.\n",
    "gender_ht = gender_ht.key_by(gender_ht.IndividualName)\n",
    "\n",
    "# Us a boolean 'is_female' variable, like in the imputed data.\n",
    "gender_ht = gender_ht.annotate(gender = hl.if_else(gender_ht.Gender == '0', 'f', 'm'))\n",
    "\n",
    "# Recode the 'Gender' variable into a new 'gender' variable, that is either 'm', 'f', or missing.\n",
    "gender_ht = gender_ht.transmute(gender = hl.case()\n",
    "                                        .when(gender_ht.Gender == '0', 'f')\n",
    "                                        .when(gender_ht.Gender == '1', 'm')\n",
    "                                        .or_missing())"
   ]
  },
  {
   "cell_type": "markdown",
   "metadata": {},
   "source": [
    "## Compare imputed sex with self-reported gender\n",
    "\n",
    "Below we compute a confusion matrix between self-reported gender and imputed sex.\n",
    "\n",
    "We see that 7 samples have disconcordant sex and gender. Of these, 4 are reported as female and imputed as male, and 3 are reported as male and imputed as female."
   ]
  },
  {
   "cell_type": "code",
   "execution_count": 24,
   "metadata": {},
   "outputs": [
    {
     "name": "stderr",
     "output_type": "stream",
     "text": [
      "2021-10-15 09:10:56 Hail: INFO: Coerced sorted dataset\n",
      "2021-10-15 09:10:56 Hail: INFO: Coerced sorted dataset\n",
      "2021-10-15 09:10:56 Hail: INFO: Coerced sorted dataset\n"
     ]
    },
    {
     "data": {
      "text/html": [
       "<div>\n",
       "<style scoped>\n",
       "    .dataframe tbody tr th:only-of-type {\n",
       "        vertical-align: middle;\n",
       "    }\n",
       "\n",
       "    .dataframe tbody tr th {\n",
       "        vertical-align: top;\n",
       "    }\n",
       "\n",
       "    .dataframe thead th {\n",
       "        text-align: right;\n",
       "    }\n",
       "</style>\n",
       "<table border=\"1\" class=\"dataframe\">\n",
       "  <thead>\n",
       "    <tr style=\"text-align: right;\">\n",
       "      <th>Gender</th>\n",
       "      <th>f</th>\n",
       "      <th>m</th>\n",
       "      <th>Sum</th>\n",
       "    </tr>\n",
       "    <tr>\n",
       "      <th>Sex</th>\n",
       "      <th></th>\n",
       "      <th></th>\n",
       "      <th></th>\n",
       "    </tr>\n",
       "  </thead>\n",
       "  <tbody>\n",
       "    <tr>\n",
       "      <th>f</th>\n",
       "      <td>275</td>\n",
       "      <td>3</td>\n",
       "      <td>278</td>\n",
       "    </tr>\n",
       "    <tr>\n",
       "      <th>m</th>\n",
       "      <td>4</td>\n",
       "      <td>187</td>\n",
       "      <td>191</td>\n",
       "    </tr>\n",
       "    <tr>\n",
       "      <th>Sum</th>\n",
       "      <td>279</td>\n",
       "      <td>190</td>\n",
       "      <td>469</td>\n",
       "    </tr>\n",
       "  </tbody>\n",
       "</table>\n",
       "</div>"
      ],
      "text/plain": [
       "Gender    f    m  Sum\n",
       "Sex                  \n",
       "f       275    3  278\n",
       "m         4  187  191\n",
       "Sum     279  190  469"
      ]
     },
     "execution_count": 24,
     "metadata": {},
     "output_type": "execute_result"
    }
   ],
   "source": [
    "# Annotate the imputed sex table with the self-reported gender.\n",
    "imputed_sex_ht = imputed_sex_ht.annotate(gender=gender_ht[imputed_sex_ht.s].gender)\n",
    "\n",
    "# Make Pandas series with the sex and gender.\n",
    "sex = pd.Series(imputed_sex_ht.sex.collect(), name='Sex')\n",
    "gender = pd.Series(imputed_sex_ht.gender.collect(), name='Gender')\n",
    "\n",
    "# Calculate confusion matrix.\n",
    "confusion_table = pd.crosstab(sex, gender, margins=True, margins_name='Sum')\n",
    "\n",
    "confusion_table"
   ]
  },
  {
   "cell_type": "markdown",
   "metadata": {},
   "source": [
    "## Inspect disconcordant samples\n",
    "\n",
    "We will inspect the samples where the self-reported gender is different from the imputed sex.\n",
    "\n",
    "As we have seen, the males and females cluster very nicely w.r.t. the inbreeding coeffcient, so we can be confident that we are correctly imputing the sex. We used imputed samples with $F > 0.4$ as male and $F < 0.4$ as female.\n",
    "\n",
    "Below we see the imputation data for the samples where the imputed sex and self-reported gender mismatch. Note that these samples fall nicely into the categories defined by the cut-off values we defined."
   ]
  },
  {
   "cell_type": "code",
   "execution_count": 25,
   "metadata": {},
   "outputs": [
    {
     "name": "stderr",
     "output_type": "stream",
     "text": [
      "2021-10-15 09:10:57 Hail: INFO: Coerced sorted dataset\n",
      "2021-10-15 09:10:57 Hail: INFO: Coerced sorted dataset\n"
     ]
    },
    {
     "data": {
      "text/html": [
       "<table><thead><tr><td style=\"white-space: nowrap; max-width: 500px; overflow: hidden; text-overflow: ellipsis; \" colspan=\"1\"><div style=\"text-align: left;\"></div></td><td style=\"white-space: nowrap; max-width: 500px; overflow: hidden; text-overflow: ellipsis; \" colspan=\"1\"><div style=\"text-align: left;\"></div></td><td style=\"white-space: nowrap; max-width: 500px; overflow: hidden; text-overflow: ellipsis; \" colspan=\"1\"><div style=\"text-align: left;\"></div></td><td style=\"white-space: nowrap; max-width: 500px; overflow: hidden; text-overflow: ellipsis; \" colspan=\"1\"><div style=\"text-align: left;\"></div></td><td style=\"white-space: nowrap; max-width: 500px; overflow: hidden; text-overflow: ellipsis; \" colspan=\"1\"><div style=\"text-align: left;\"></div></td><td style=\"white-space: nowrap; max-width: 500px; overflow: hidden; text-overflow: ellipsis; \" colspan=\"1\"><div style=\"text-align: left;\"></div></td><td style=\"white-space: nowrap; max-width: 500px; overflow: hidden; text-overflow: ellipsis; \" colspan=\"1\"><div style=\"text-align: left;\"></div></td><td style=\"white-space: nowrap; max-width: 500px; overflow: hidden; text-overflow: ellipsis; \" colspan=\"1\"><div style=\"text-align: left;\"></div></td></tr><tr><td style=\"white-space: nowrap; max-width: 500px; overflow: hidden; text-overflow: ellipsis; \" colspan=\"1\"><div style=\"text-align: left;border-bottom: solid 2px #000; padding-bottom: 5px\">s</div></td><td style=\"white-space: nowrap; max-width: 500px; overflow: hidden; text-overflow: ellipsis; \" colspan=\"1\"><div style=\"text-align: left;border-bottom: solid 2px #000; padding-bottom: 5px\">is_female</div></td><td style=\"white-space: nowrap; max-width: 500px; overflow: hidden; text-overflow: ellipsis; \" colspan=\"1\"><div style=\"text-align: left;border-bottom: solid 2px #000; padding-bottom: 5px\">f_stat</div></td><td style=\"white-space: nowrap; max-width: 500px; overflow: hidden; text-overflow: ellipsis; \" colspan=\"1\"><div style=\"text-align: left;border-bottom: solid 2px #000; padding-bottom: 5px\">n_called</div></td><td style=\"white-space: nowrap; max-width: 500px; overflow: hidden; text-overflow: ellipsis; \" colspan=\"1\"><div style=\"text-align: left;border-bottom: solid 2px #000; padding-bottom: 5px\">expected_homs</div></td><td style=\"white-space: nowrap; max-width: 500px; overflow: hidden; text-overflow: ellipsis; \" colspan=\"1\"><div style=\"text-align: left;border-bottom: solid 2px #000; padding-bottom: 5px\">observed_homs</div></td><td style=\"white-space: nowrap; max-width: 500px; overflow: hidden; text-overflow: ellipsis; \" colspan=\"1\"><div style=\"text-align: left;border-bottom: solid 2px #000; padding-bottom: 5px\">sex</div></td><td style=\"white-space: nowrap; max-width: 500px; overflow: hidden; text-overflow: ellipsis; \" colspan=\"1\"><div style=\"text-align: left;border-bottom: solid 2px #000; padding-bottom: 5px\">gender</div></td></tr><tr><td style=\"white-space: nowrap; max-width: 500px; overflow: hidden; text-overflow: ellipsis; text-align: left;\">str</td><td style=\"white-space: nowrap; max-width: 500px; overflow: hidden; text-overflow: ellipsis; text-align: left;\">bool</td><td style=\"white-space: nowrap; max-width: 500px; overflow: hidden; text-overflow: ellipsis; text-align: left;\">float64</td><td style=\"white-space: nowrap; max-width: 500px; overflow: hidden; text-overflow: ellipsis; text-align: left;\">int64</td><td style=\"white-space: nowrap; max-width: 500px; overflow: hidden; text-overflow: ellipsis; text-align: left;\">float64</td><td style=\"white-space: nowrap; max-width: 500px; overflow: hidden; text-overflow: ellipsis; text-align: left;\">int64</td><td style=\"white-space: nowrap; max-width: 500px; overflow: hidden; text-overflow: ellipsis; text-align: left;\">str</td><td style=\"white-space: nowrap; max-width: 500px; overflow: hidden; text-overflow: ellipsis; text-align: left;\">str</td></tr>\n",
       "</thead><tbody><tr><td style=\"white-space: nowrap; max-width: 500px; overflow: hidden; text-overflow: ellipsis; \">&quot;FN000187&quot;</td><td style=\"white-space: nowrap; max-width: 500px; overflow: hidden; text-overflow: ellipsis; \">true</td><td style=\"white-space: nowrap; max-width: 500px; overflow: hidden; text-overflow: ellipsis; \">-8.52e-02</td><td style=\"white-space: nowrap; max-width: 500px; overflow: hidden; text-overflow: ellipsis; \">1185</td><td style=\"white-space: nowrap; max-width: 500px; overflow: hidden; text-overflow: ellipsis; \">1.01e+03</td><td style=\"white-space: nowrap; max-width: 500px; overflow: hidden; text-overflow: ellipsis; \">992</td><td style=\"white-space: nowrap; max-width: 500px; overflow: hidden; text-overflow: ellipsis; \">&quot;f&quot;</td><td style=\"white-space: nowrap; max-width: 500px; overflow: hidden; text-overflow: ellipsis; \">&quot;m&quot;</td></tr>\n",
       "<tr><td style=\"white-space: nowrap; max-width: 500px; overflow: hidden; text-overflow: ellipsis; \">&quot;FN000861&quot;</td><td style=\"white-space: nowrap; max-width: 500px; overflow: hidden; text-overflow: ellipsis; \">true</td><td style=\"white-space: nowrap; max-width: 500px; overflow: hidden; text-overflow: ellipsis; \">-1.80e-01</td><td style=\"white-space: nowrap; max-width: 500px; overflow: hidden; text-overflow: ellipsis; \">1284</td><td style=\"white-space: nowrap; max-width: 500px; overflow: hidden; text-overflow: ellipsis; \">1.08e+03</td><td style=\"white-space: nowrap; max-width: 500px; overflow: hidden; text-overflow: ellipsis; \">1046</td><td style=\"white-space: nowrap; max-width: 500px; overflow: hidden; text-overflow: ellipsis; \">&quot;f&quot;</td><td style=\"white-space: nowrap; max-width: 500px; overflow: hidden; text-overflow: ellipsis; \">&quot;m&quot;</td></tr>\n",
       "<tr><td style=\"white-space: nowrap; max-width: 500px; overflow: hidden; text-overflow: ellipsis; \">&quot;FN000871&quot;</td><td style=\"white-space: nowrap; max-width: 500px; overflow: hidden; text-overflow: ellipsis; \">true</td><td style=\"white-space: nowrap; max-width: 500px; overflow: hidden; text-overflow: ellipsis; \">-8.36e-02</td><td style=\"white-space: nowrap; max-width: 500px; overflow: hidden; text-overflow: ellipsis; \">1282</td><td style=\"white-space: nowrap; max-width: 500px; overflow: hidden; text-overflow: ellipsis; \">1.08e+03</td><td style=\"white-space: nowrap; max-width: 500px; overflow: hidden; text-overflow: ellipsis; \">1062</td><td style=\"white-space: nowrap; max-width: 500px; overflow: hidden; text-overflow: ellipsis; \">&quot;f&quot;</td><td style=\"white-space: nowrap; max-width: 500px; overflow: hidden; text-overflow: ellipsis; \">&quot;m&quot;</td></tr>\n",
       "<tr><td style=\"white-space: nowrap; max-width: 500px; overflow: hidden; text-overflow: ellipsis; \">&quot;FN000884&quot;</td><td style=\"white-space: nowrap; max-width: 500px; overflow: hidden; text-overflow: ellipsis; \">false</td><td style=\"white-space: nowrap; max-width: 500px; overflow: hidden; text-overflow: ellipsis; \">8.70e-01</td><td style=\"white-space: nowrap; max-width: 500px; overflow: hidden; text-overflow: ellipsis; \">982</td><td style=\"white-space: nowrap; max-width: 500px; overflow: hidden; text-overflow: ellipsis; \">8.59e+02</td><td style=\"white-space: nowrap; max-width: 500px; overflow: hidden; text-overflow: ellipsis; \">966</td><td style=\"white-space: nowrap; max-width: 500px; overflow: hidden; text-overflow: ellipsis; \">&quot;m&quot;</td><td style=\"white-space: nowrap; max-width: 500px; overflow: hidden; text-overflow: ellipsis; \">&quot;f&quot;</td></tr>\n",
       "<tr><td style=\"white-space: nowrap; max-width: 500px; overflow: hidden; text-overflow: ellipsis; \">&quot;FN000902&quot;</td><td style=\"white-space: nowrap; max-width: 500px; overflow: hidden; text-overflow: ellipsis; \">false</td><td style=\"white-space: nowrap; max-width: 500px; overflow: hidden; text-overflow: ellipsis; \">8.82e-01</td><td style=\"white-space: nowrap; max-width: 500px; overflow: hidden; text-overflow: ellipsis; \">716</td><td style=\"white-space: nowrap; max-width: 500px; overflow: hidden; text-overflow: ellipsis; \">6.48e+02</td><td style=\"white-space: nowrap; max-width: 500px; overflow: hidden; text-overflow: ellipsis; \">708</td><td style=\"white-space: nowrap; max-width: 500px; overflow: hidden; text-overflow: ellipsis; \">&quot;m&quot;</td><td style=\"white-space: nowrap; max-width: 500px; overflow: hidden; text-overflow: ellipsis; \">&quot;f&quot;</td></tr>\n",
       "<tr><td style=\"white-space: nowrap; max-width: 500px; overflow: hidden; text-overflow: ellipsis; \">&quot;FN000957&quot;</td><td style=\"white-space: nowrap; max-width: 500px; overflow: hidden; text-overflow: ellipsis; \">false</td><td style=\"white-space: nowrap; max-width: 500px; overflow: hidden; text-overflow: ellipsis; \">8.75e-01</td><td style=\"white-space: nowrap; max-width: 500px; overflow: hidden; text-overflow: ellipsis; \">920</td><td style=\"white-space: nowrap; max-width: 500px; overflow: hidden; text-overflow: ellipsis; \">8.08e+02</td><td style=\"white-space: nowrap; max-width: 500px; overflow: hidden; text-overflow: ellipsis; \">906</td><td style=\"white-space: nowrap; max-width: 500px; overflow: hidden; text-overflow: ellipsis; \">&quot;m&quot;</td><td style=\"white-space: nowrap; max-width: 500px; overflow: hidden; text-overflow: ellipsis; \">&quot;f&quot;</td></tr>\n",
       "<tr><td style=\"white-space: nowrap; max-width: 500px; overflow: hidden; text-overflow: ellipsis; \">&quot;FN001127&quot;</td><td style=\"white-space: nowrap; max-width: 500px; overflow: hidden; text-overflow: ellipsis; \">false</td><td style=\"white-space: nowrap; max-width: 500px; overflow: hidden; text-overflow: ellipsis; \">9.22e-01</td><td style=\"white-space: nowrap; max-width: 500px; overflow: hidden; text-overflow: ellipsis; \">997</td><td style=\"white-space: nowrap; max-width: 500px; overflow: hidden; text-overflow: ellipsis; \">8.68e+02</td><td style=\"white-space: nowrap; max-width: 500px; overflow: hidden; text-overflow: ellipsis; \">987</td><td style=\"white-space: nowrap; max-width: 500px; overflow: hidden; text-overflow: ellipsis; \">&quot;m&quot;</td><td style=\"white-space: nowrap; max-width: 500px; overflow: hidden; text-overflow: ellipsis; \">&quot;f&quot;</td></tr>\n",
       "</tbody></table>"
      ],
      "text/plain": [
       "+------------+-----------+-----------+----------+---------------+\n",
       "| s          | is_female |    f_stat | n_called | expected_homs |\n",
       "+------------+-----------+-----------+----------+---------------+\n",
       "| str        |      bool |   float64 |    int64 |       float64 |\n",
       "+------------+-----------+-----------+----------+---------------+\n",
       "| \"FN000187\" |      true | -8.52e-02 |     1185 |      1.01e+03 |\n",
       "| \"FN000861\" |      true | -1.80e-01 |     1284 |      1.08e+03 |\n",
       "| \"FN000871\" |      true | -8.36e-02 |     1282 |      1.08e+03 |\n",
       "| \"FN000884\" |     false |  8.70e-01 |      982 |      8.59e+02 |\n",
       "| \"FN000902\" |     false |  8.82e-01 |      716 |      6.48e+02 |\n",
       "| \"FN000957\" |     false |  8.75e-01 |      920 |      8.08e+02 |\n",
       "| \"FN001127\" |     false |  9.22e-01 |      997 |      8.68e+02 |\n",
       "+------------+-----------+-----------+----------+---------------+\n",
       "\n",
       "+---------------+-----+--------+\n",
       "| observed_homs | sex | gender |\n",
       "+---------------+-----+--------+\n",
       "|         int64 | str | str    |\n",
       "+---------------+-----+--------+\n",
       "|           992 | \"f\" | \"m\"    |\n",
       "|          1046 | \"f\" | \"m\"    |\n",
       "|          1062 | \"f\" | \"m\"    |\n",
       "|           966 | \"m\" | \"f\"    |\n",
       "|           708 | \"m\" | \"f\"    |\n",
       "|           906 | \"m\" | \"f\"    |\n",
       "|           987 | \"m\" | \"f\"    |\n",
       "+---------------+-----+--------+"
      ]
     },
     "metadata": {},
     "output_type": "display_data"
    }
   ],
   "source": [
    "imputed_sex_ht.filter(imputed_sex_ht.sex != imputed_sex_ht.gender).show()"
   ]
  },
  {
   "cell_type": "markdown",
   "metadata": {},
   "source": [
    "We will investigate whether poor data quality can explain the disconcordancy. If anything seems to be abnormal with these samples, we may distrust the data."
   ]
  },
  {
   "cell_type": "code",
   "execution_count": 26,
   "metadata": {},
   "outputs": [],
   "source": [
    "# Annotate the table with a boolean sex mismatch variable.\n",
    "imputed_sex_ht = imputed_sex_ht.annotate(sex_mismatch = imputed_sex_ht.sex != imputed_sex_ht.gender)\n",
    "\n",
    "# Annotate the matrix table with the same information.\n",
    "mt = mt.annotate_cols(sex_mismatch = imputed_sex_ht[mt.s].sex_mismatch)"
   ]
  },
  {
   "cell_type": "markdown",
   "metadata": {},
   "source": [
    "The plot below shows the per samples DP mean and against different other QC variables. The samples with disconcordant sex are highlighted in blue.\n",
    "\n",
    "We must note that it seems that GQ seems to be correlated with number of heterozygotes. Samples with low genotype quality seem to have fewer heterozygotes. This does make some intuitivt sense. If a sample has low depth it will have fewer called variants, therefore more homozygote reference and therefore fewer heterozygotes. This same pattern is reflected in the call rate and number of singletons."
   ]
  },
  {
   "cell_type": "code",
   "execution_count": 27,
   "metadata": {},
   "outputs": [
    {
     "name": "stderr",
     "output_type": "stream",
     "text": [
      "2021-10-15 09:10:58 Hail: INFO: Coerced sorted dataset\n",
      "2021-10-15 09:10:58 Hail: INFO: Coerced sorted dataset\n",
      "2021-10-15 09:10:59 Hail: INFO: Coerced sorted dataset\n",
      "2021-10-15 09:10:59 Hail: INFO: Coerced sorted dataset\n",
      "2021-10-15 09:11:00 Hail: INFO: Coerced sorted dataset\n",
      "2021-10-15 09:11:00 Hail: INFO: Coerced sorted dataset\n",
      "2021-10-15 09:11:01 Hail: INFO: Coerced sorted dataset\n",
      "2021-10-15 09:11:01 Hail: INFO: Coerced sorted dataset\n"
     ]
    }
   ],
   "source": [
    "exprs_list = [('# heterozygotes', mt.sample_qc.n_het), ('Ti/Tv rate', mt.sample_qc.r_ti_tv), ('Call rate', mt.sample_qc.call_rate), ('# singletons', mt.sample_qc.n_singleton)]\n",
    "plot_list = []\n",
    "for name, exprs in exprs_list:\n",
    "    p = hl.plot.scatter(mt.sample_qc.dp_stats.mean, exprs, label=mt.sex_mismatch, title=name, xlabel='DP mean', ylabel=name)\n",
    "    p.plot_width = 800\n",
    "    p.plot_height = 500\n",
    "    plot_list.append(p)"
   ]
  },
  {
   "cell_type": "code",
   "execution_count": 28,
   "metadata": {},
   "outputs": [
    {
     "data": {
      "text/html": [
       "\n",
       "\n",
       "\n",
       "\n",
       "\n",
       "\n",
       "  <div class=\"bk-root\" id=\"65b2db27-540f-4522-8972-bb034b129788\" data-root-id=\"2055\"></div>\n"
      ]
     },
     "metadata": {},
     "output_type": "display_data"
    },
    {
     "data": {
      "application/javascript": [
       "(function(root) {\n",
       "  function embed_document(root) {\n",
       "    \n",
       "  var docs_json = {\"682bb6da-c4b4-424a-9335-e2912cd9ad9c\":{\"roots\":{\"references\":[{\"attributes\":{\"children\":[{\"id\":\"2054\",\"type\":\"ToolbarBox\"},{\"id\":\"2052\",\"type\":\"GridBox\"}]},\"id\":\"2055\",\"type\":\"Column\"},{\"attributes\":{\"callback\":null,\"data\":{\"index\":[0,1,2,3,4,5,6,7,8,9,10,11,12,13,14,15,16,17,18,19,20,21,22,23,24,25,26,27,28,29,30,31,32,33,34,35,36,37,38,39,40,41,42,43,44,45,46,47,48,49,50,51,52,53,54,55,56,57,58,59,60,61,62,63,64,65,66,67,68,69,70,71,72,73,74,75,76,77,78,79,80,81,82,83,84,85,86,87,88,89,90,91,92,93,94,95,96,97,98,99,100,101,102,103,104,105,106,107,108,109,110,111,112,113,114,115,116,117,118,119,120,121,122,123,124,125,126,127,128,129,130,131,132,133,134,135,136,137,138,139,140,141,142,143,144,145,146,147,148,149,150,151,152,153,154,155,156,157,158,159,160,161,162,163,164,165,166,167,168,169,170,171,172,173,174,175,176,177,178,179,180,181,182,183,184,185,186,187,188,189,190,191,192,193,194,195,196,197,198,199,200,201,202,203,204,205,206,207,208,209,210,211,212,213,214,215,216,217,218,219,220,221,222,223,224,225,226,227,228,229,230,231,232,233,234,235,236,237,238,239,240,241,242,243,244,245,246,247,248,249,250,251,252,253,254,255,256,257,258,259,260,261,262,263,264,265,266,267,268,269,270,271,272,273,274,275,276,277,278,279,280,281,282,283,284,285,286,287,288,289,290,291,292,293,294,295,296,297,298,299,300,301,302,303,304,305,306,307,308,309,310,311,312,313,314,315,316,317,318,319,320,321,322,323,324,325,326,327,328,329,330,331,332,333,334,335,336,337,338,339,340,341,342,343,344,345,346,347,348,349,350,351,352,353,354,355,356,357,358,359,360,361,362,363,364,365,366,367,368,369,370,371,372,373,374,375,376,377,378,379,380,381,382,383,384,385,386,387,388,389,390,391,392,393,394,395,396,397,398,399,400,401,402,403,404,405,406,407,408,409,410,411,412,413,414,415,416,417,418,419,420,421,422,423,424,425,426,427,428,429,430,431,432,433,434,435,436,437,438,439,440,441,442,443,444,445,446,447,448,449,450,451,452,453],\"label\":[\"false\",\"false\",\"false\",\"false\",\"false\",\"false\",\"false\",\"false\",\"false\",\"false\",\"false\",\"false\",\"false\",\"false\",\"false\",\"false\",\"false\",\"false\",\"false\",\"false\",\"false\",\"false\",\"true\",\"false\",\"false\",\"false\",\"false\",\"false\",\"false\",\"false\",\"false\",\"false\",\"false\",\"false\",\"false\",\"false\",\"false\",\"false\",\"false\",\"false\",\"false\",\"false\",\"false\",\"false\",\"false\",\"false\",\"false\",\"false\",\"false\",\"false\",\"false\",\"false\",\"false\",\"false\",\"false\",\"false\",\"false\",\"false\",\"false\",\"false\",\"false\",\"false\",\"false\",\"false\",\"false\",\"false\",\"false\",\"true\",\"false\",\"false\",\"false\",\"false\",\"false\",\"false\",\"false\",\"false\",\"false\",\"false\",\"false\",\"false\",\"false\",\"false\",\"false\",\"false\",\"false\",\"false\",\"false\",\"false\",\"false\",\"false\",\"false\",\"false\",\"false\",\"false\",\"false\",\"false\",\"false\",\"false\",\"false\",\"false\",\"false\",\"false\",\"false\",\"false\",\"false\",\"false\",\"false\",\"false\",\"false\",\"false\",\"false\",\"false\",\"false\",\"false\",\"false\",\"false\",\"false\",\"false\",\"false\",\"false\",\"false\",\"false\",\"false\",\"false\",\"false\",\"false\",\"false\",\"false\",\"false\",\"false\",\"false\",\"false\",\"false\",\"false\",\"false\",\"false\",\"false\",\"false\",\"false\",\"false\",\"false\",\"false\",\"false\",\"false\",\"false\",\"false\",\"false\",\"false\",\"false\",\"false\",\"false\",\"false\",\"false\",\"false\",\"false\",\"false\",\"false\",\"false\",\"false\",\"false\",\"false\",\"false\",\"false\",\"false\",\"false\",\"false\",\"false\",\"false\",\"false\",\"false\",\"false\",\"false\",\"false\",\"false\",\"false\",\"false\",\"false\",\"false\",\"false\",\"false\",\"false\",\"false\",\"false\",\"true\",\"false\",\"false\",\"false\",\"false\",\"false\",\"false\",\"false\",\"true\",\"false\",\"false\",\"false\",\"false\",\"false\",\"false\",\"false\",\"false\",\"false\",\"false\",\"false\",\"false\",\"false\",\"false\",\"false\",\"false\",\"false\",\"false\",\"false\",\"false\",\"false\",\"false\",\"false\",\"false\",\"false\",\"false\",\"false\",\"false\",\"false\",\"false\",\"false\",\"false\",\"false\",\"false\",\"false\",\"false\",\"false\",\"false\",\"false\",\"false\",\"false\",\"false\",\"false\",\"false\",\"false\",\"false\",\"false\",\"false\",\"false\",\"false\",\"false\",\"false\",\"false\",\"false\",\"false\",\"false\",\"false\",\"false\",\"false\",\"false\",\"false\",\"false\",\"false\",\"false\",\"false\",\"false\",\"false\",\"false\",\"false\",\"false\",\"false\",\"false\",\"false\",\"false\",\"false\",\"false\",\"false\",\"false\",\"false\",\"false\",\"false\",\"false\",\"false\",\"false\",\"false\",\"false\",\"false\",\"false\",\"false\",\"false\",\"false\",\"false\",\"false\",\"false\",\"false\",\"false\",\"false\",\"false\",\"false\",\"false\",\"false\",\"false\",\"false\",\"false\",\"false\",\"false\",\"false\",\"false\",\"false\",\"false\",\"false\",\"false\",\"false\",\"false\",\"false\",\"false\",\"false\",\"false\",\"false\",\"false\",\"false\",\"false\",\"false\",\"false\",\"false\",\"false\",\"false\",\"false\",\"false\",\"false\",\"false\",\"false\",\"false\",\"false\",\"false\",\"false\",\"false\",\"false\",\"false\",\"false\",\"false\",\"false\",\"false\",\"false\",\"false\",\"false\",\"false\",\"false\",\"false\",\"false\",\"false\",\"false\",\"false\",\"false\",\"false\",\"false\",\"false\",\"false\",\"false\",\"false\",\"false\",\"false\",\"false\",\"false\",\"false\",\"false\",\"false\",\"false\",\"false\",\"false\",\"false\",\"false\",\"false\",\"false\",\"false\",\"false\",\"false\",\"false\",\"false\",\"false\",\"false\",\"false\",\"false\",\"false\",\"false\",\"false\",\"false\",\"false\",\"false\",\"false\",\"false\",\"false\",\"false\",\"true\",\"false\",\"false\",\"false\",\"false\",\"false\",\"false\",\"false\",\"false\",\"false\",\"false\",\"false\",\"false\",\"false\",\"false\",\"false\",\"false\",\"false\",\"false\",\"false\",\"false\",\"false\",\"false\",\"false\",\"false\",\"false\",\"false\",\"false\",\"false\",\"false\",\"false\",\"false\",\"false\",\"false\",\"false\",\"false\",\"false\",\"false\",\"false\",\"false\",\"false\",\"false\",\"false\",\"false\",\"false\",\"false\",\"false\",\"false\",\"false\",\"false\",\"false\",\"false\",\"false\",\"false\",\"false\",\"false\",\"false\",\"false\",\"false\",\"false\",\"false\",\"false\",\"false\",\"false\",\"false\",\"false\",\"false\",\"false\",\"false\"],\"x\":{\"__ndarray__\":\"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\",\"dtype\":\"float64\",\"shape\":[454]},\"y\":{\"__ndarray__\":\"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\",\"dtype\":\"float64\",\"shape\":[454]}},\"selected\":{\"id\":\"2017\",\"type\":\"Selection\"},\"selection_policy\":{\"id\":\"2016\",\"type\":\"UnionRenderers\"}},\"id\":\"1828\",\"type\":\"ColumnDataSource\"},{\"attributes\":{},\"id\":\"1922\",\"type\":\"WheelZoomTool\"},{\"attributes\":{},\"id\":\"2014\",\"type\":\"BasicTickFormatter\"},{\"attributes\":{},\"id\":\"1872\",\"type\":\"HelpTool\"},{\"attributes\":{\"callback\":null,\"tooltips\":[[\"x\",\"@x\"],[\"y\",\"@y\"],[\"label\",\"@label\"]]},\"id\":\"1935\",\"type\":\"HoverTool\"},{\"attributes\":{},\"id\":\"1870\",\"type\":\"SaveTool\"},{\"attributes\":{\"overlay\":{\"id\":\"2026\",\"type\":\"BoxAnnotation\"}},\"id\":\"1869\",\"type\":\"BoxZoomTool\"},{\"attributes\":{},\"id\":\"2036\",\"type\":\"BasicTickFormatter\"},{\"attributes\":{},\"id\":\"2027\",\"type\":\"UnionRenderers\"},{\"attributes\":{\"callback\":null,\"tooltips\":[[\"x\",\"@x\"],[\"y\",\"@y\"],[\"label\",\"@label\"]]},\"id\":\"1881\",\"type\":\"HoverTool\"},{\"attributes\":{},\"id\":\"2028\",\"type\":\"Selection\"},{\"attributes\":{\"text\":\"# heterozygotes\"},\"id\":\"1793\",\"type\":\"Title\"},{\"attributes\":{\"below\":[{\"id\":\"1965\",\"type\":\"LinearAxis\"}],\"center\":[{\"id\":\"1969\",\"type\":\"Grid\"},{\"id\":\"1974\",\"type\":\"Grid\"}],\"left\":[{\"id\":\"1970\",\"type\":\"LinearAxis\"},{\"id\":\"2006\",\"type\":\"Legend\"},{\"id\":\"2007\",\"type\":\"ColorBar\"}],\"plot_height\":400,\"plot_width\":600,\"renderers\":[{\"id\":\"1997\",\"type\":\"GlyphRenderer\"},{\"id\":\"2003\",\"type\":\"GlyphRenderer\"}],\"title\":{\"id\":\"1955\",\"type\":\"Title\"},\"toolbar\":{\"id\":\"1981\",\"type\":\"Toolbar\"},\"toolbar_location\":null,\"x_range\":{\"id\":\"1957\",\"type\":\"DataRange1d\"},\"x_scale\":{\"id\":\"1961\",\"type\":\"LinearScale\"},\"y_range\":{\"id\":\"1959\",\"type\":\"DataRange1d\"},\"y_scale\":{\"id\":\"1963\",\"type\":\"LinearScale\"}},\"id\":\"1954\",\"subtype\":\"Figure\",\"type\":\"Plot\"},{\"attributes\":{\"color_mapper\":null,\"formatter\":{\"id\":\"2045\",\"type\":\"BasicTickFormatter\"},\"ticker\":{\"id\":\"2044\",\"type\":\"BasicTicker\"},\"visible\":false},\"id\":\"2007\",\"type\":\"ColorBar\"},{\"attributes\":{},\"id\":\"1868\",\"type\":\"WheelZoomTool\"},{\"attributes\":{},\"id\":\"1961\",\"type\":\"LinearScale\"},{\"attributes\":{},\"id\":\"2034\",\"type\":\"BasicTickFormatter\"},{\"attributes\":{},\"id\":\"1924\",\"type\":\"SaveTool\"},{\"attributes\":{\"axis_label\":\"Call rate\",\"formatter\":{\"id\":\"2032\",\"type\":\"BasicTickFormatter\"},\"ticker\":{\"id\":\"1917\",\"type\":\"BasicTicker\"}},\"id\":\"1916\",\"type\":\"LinearAxis\"},{\"attributes\":{},\"id\":\"1867\",\"type\":\"PanTool\"},{\"attributes\":{\"overlay\":{\"id\":\"2037\",\"type\":\"BoxAnnotation\"}},\"id\":\"1923\",\"type\":\"BoxZoomTool\"},{\"attributes\":{\"column_name\":\"label\",\"group\":\"true\"},\"id\":\"1890\",\"type\":\"GroupFilter\"},{\"attributes\":{\"fill_alpha\":{\"value\":0.1},\"fill_color\":{\"value\":\"#1f77b4\"},\"line_alpha\":{\"value\":0.1},\"line_color\":{\"value\":\"#1f77b4\"},\"x\":{\"field\":\"x\"},\"y\":{\"field\":\"y\"}},\"id\":\"1888\",\"type\":\"Circle\"},{\"attributes\":{},\"id\":\"1917\",\"type\":\"BasicTicker\"},{\"attributes\":{},\"id\":\"1907\",\"type\":\"LinearScale\"},{\"attributes\":{},\"id\":\"1921\",\"type\":\"PanTool\"},{\"attributes\":{\"dimension\":1,\"ticker\":{\"id\":\"1917\",\"type\":\"BasicTicker\"}},\"id\":\"1920\",\"type\":\"Grid\"},{\"attributes\":{\"filters\":[{\"id\":\"1884\",\"type\":\"GroupFilter\"}],\"source\":{\"id\":\"1882\",\"type\":\"ColumnDataSource\"}},\"id\":\"1885\",\"type\":\"CDSView\"},{\"attributes\":{\"axis_label\":\"DP mean\",\"formatter\":{\"id\":\"2036\",\"type\":\"BasicTickFormatter\"},\"ticker\":{\"id\":\"1912\",\"type\":\"BasicTicker\"}},\"id\":\"1911\",\"type\":\"LinearAxis\"},{\"attributes\":{},\"id\":\"2049\",\"type\":\"UnionRenderers\"},{\"attributes\":{\"active_drag\":\"auto\",\"active_inspect\":\"auto\",\"active_multi\":null,\"active_scroll\":\"auto\",\"active_tap\":\"auto\",\"tools\":[{\"id\":\"1867\",\"type\":\"PanTool\"},{\"id\":\"1868\",\"type\":\"WheelZoomTool\"},{\"id\":\"1869\",\"type\":\"BoxZoomTool\"},{\"id\":\"1870\",\"type\":\"SaveTool\"},{\"id\":\"1871\",\"type\":\"ResetTool\"},{\"id\":\"1872\",\"type\":\"HelpTool\"},{\"id\":\"1881\",\"type\":\"HoverTool\"}]},\"id\":\"1873\",\"type\":\"Toolbar\"},{\"attributes\":{},\"id\":\"1801\",\"type\":\"LinearScale\"},{\"attributes\":{\"fill_color\":{\"field\":\"label\",\"transform\":{\"id\":\"1829\",\"type\":\"CategoricalColorMapper\"}},\"line_color\":{\"field\":\"label\",\"transform\":{\"id\":\"1829\",\"type\":\"CategoricalColorMapper\"}},\"x\":{\"field\":\"x\"},\"y\":{\"field\":\"y\"}},\"id\":\"1839\",\"type\":\"Circle\"},{\"attributes\":{\"ticker\":{\"id\":\"1912\",\"type\":\"BasicTicker\"}},\"id\":\"1915\",\"type\":\"Grid\"},{\"attributes\":{\"factors\":[\"true\",\"false\"],\"palette\":[\"#1f77b4\",\"#ff7f0e\",\"#2ca02c\",\"#d62728\",\"#9467bd\",\"#8c564b\",\"#e377c2\",\"#7f7f7f\",\"#bcbd22\",\"#17becf\"]},\"id\":\"1883\",\"type\":\"CategoricalColorMapper\"},{\"attributes\":{},\"id\":\"2050\",\"type\":\"Selection\"},{\"attributes\":{\"callback\":null},\"id\":\"1905\",\"type\":\"DataRange1d\"},{\"attributes\":{\"below\":[{\"id\":\"1803\",\"type\":\"LinearAxis\"}],\"center\":[{\"id\":\"1807\",\"type\":\"Grid\"},{\"id\":\"1812\",\"type\":\"Grid\"}],\"left\":[{\"id\":\"1808\",\"type\":\"LinearAxis\"},{\"id\":\"1844\",\"type\":\"Legend\"},{\"id\":\"1845\",\"type\":\"ColorBar\"}],\"plot_height\":400,\"plot_width\":600,\"renderers\":[{\"id\":\"1835\",\"type\":\"GlyphRenderer\"},{\"id\":\"1841\",\"type\":\"GlyphRenderer\"}],\"title\":{\"id\":\"1793\",\"type\":\"Title\"},\"toolbar\":{\"id\":\"1819\",\"type\":\"Toolbar\"},\"toolbar_location\":null,\"x_range\":{\"id\":\"1795\",\"type\":\"DataRange1d\"},\"x_scale\":{\"id\":\"1799\",\"type\":\"LinearScale\"},\"y_range\":{\"id\":\"1797\",\"type\":\"DataRange1d\"},\"y_scale\":{\"id\":\"1801\",\"type\":\"LinearScale\"}},\"id\":\"1792\",\"subtype\":\"Figure\",\"type\":\"Plot\"},{\"attributes\":{},\"id\":\"1871\",\"type\":\"ResetTool\"},{\"attributes\":{\"tools\":[{\"id\":\"1813\",\"type\":\"PanTool\"},{\"id\":\"1814\",\"type\":\"WheelZoomTool\"},{\"id\":\"1815\",\"type\":\"BoxZoomTool\"},{\"id\":\"1816\",\"type\":\"SaveTool\"},{\"id\":\"1817\",\"type\":\"ResetTool\"},{\"id\":\"1818\",\"type\":\"HelpTool\"},{\"id\":\"1827\",\"type\":\"HoverTool\"},{\"id\":\"1867\",\"type\":\"PanTool\"},{\"id\":\"1868\",\"type\":\"WheelZoomTool\"},{\"id\":\"1869\",\"type\":\"BoxZoomTool\"},{\"id\":\"1870\",\"type\":\"SaveTool\"},{\"id\":\"1871\",\"type\":\"ResetTool\"},{\"id\":\"1872\",\"type\":\"HelpTool\"},{\"id\":\"1881\",\"type\":\"HoverTool\"},{\"id\":\"1921\",\"type\":\"PanTool\"},{\"id\":\"1922\",\"type\":\"WheelZoomTool\"},{\"id\":\"1923\",\"type\":\"BoxZoomTool\"},{\"id\":\"1924\",\"type\":\"SaveTool\"},{\"id\":\"1925\",\"type\":\"ResetTool\"},{\"id\":\"1926\",\"type\":\"HelpTool\"},{\"id\":\"1935\",\"type\":\"HoverTool\"},{\"id\":\"1975\",\"type\":\"PanTool\"},{\"id\":\"1976\",\"type\":\"WheelZoomTool\"},{\"id\":\"1977\",\"type\":\"BoxZoomTool\"},{\"id\":\"1978\",\"type\":\"SaveTool\"},{\"id\":\"1979\",\"type\":\"ResetTool\"},{\"id\":\"1980\",\"type\":\"HelpTool\"},{\"id\":\"1989\",\"type\":\"HoverTool\"}]},\"id\":\"2053\",\"type\":\"ProxyToolbar\"},{\"attributes\":{},\"id\":\"1912\",\"type\":\"BasicTicker\"},{\"attributes\":{\"fill_color\":{\"field\":\"label\",\"transform\":{\"id\":\"1883\",\"type\":\"CategoricalColorMapper\"}},\"line_color\":{\"field\":\"label\",\"transform\":{\"id\":\"1883\",\"type\":\"CategoricalColorMapper\"}},\"x\":{\"field\":\"x\"},\"y\":{\"field\":\"y\"}},\"id\":\"1887\",\"type\":\"Circle\"},{\"attributes\":{},\"id\":\"1909\",\"type\":\"LinearScale\"},{\"attributes\":{\"callback\":null,\"data\":{\"index\":[0,1,2,3,4,5,6,7,8,9,10,11,12,13,14,15,16,17,18,19,20,21,22,23,24,25,26,27,28,29,30,31,32,33,34,35,36,37,38,39,40,41,42,43,44,45,46,47,48,49,50,51,52,53,54,55,56,57,58,59,60,61,62,63,64,65,66,67,68,69,70,71,72,73,74,75,76,77,78,79,80,81,82,83,84,85,86,87,88,89,90,91,92,93,94,95,96,97,98,99,100,101,102,103,104,105,106,107,108,109,110,111,112,113,114,115,116,117,118,119,120,121,122,123,124,125,126,127,128,129,130,131,132,133,134,135,136,137,138,139,140,141,142,143,144,145,146,147,148,149,150,151,152,153,154,155,156,157,158,159,160,161,162,163,164,165,166,167,168,169,170,171,172,173,174,175,176,177,178,179,180,181,182,183,184,185,186,187,188,189,190,191,192,193,194,195,196,197,198,199,200,201,202,203,204,205,206,207,208,209,210,211,212,213,214,215,216,217,218,219,220,221,222,223,224,225,226,227,228,229,230,231,232,233,234,235,236,237,238,239,240,241,242,243,244,245,246,247,248,249,250,251,252,253,254,255,256,257,258,259,260,261,262,263,264,265,266,267,268,269,270,271,272,273,274,275,276,277,278,279,280,281,282,283,284,285,286,287,288,289,290,291,292,293,294,295,296,297,298,299,300,301,302,303,304,305,306,307,308,309,310,311,312,313,314,315,316,317,318,319,320,321,322,323,324,325,326,327,328,329,330,331,332,333,334,335,336,337,338,339,340,341,342,343,344,345,346,347,348,349,350,351,352,353,354,355,356,357,358,359,360,361,362,363,364,365,366,367,368,369,370,371,372,373,374,375,376,377,378,379,380,381,382,383,384,385,386,387,388,389,390,391,392,393,394,395,396,397,398,399,400,401,402,403,404,405,406,407],\"label\":[\"false\",\"false\",\"false\",\"false\",\"false\",\"false\",\"false\",\"false\",\"false\",\"false\",\"false\",\"false\",\"false\",\"false\",\"false\",\"false\",\"false\",\"false\",\"false\",\"false\",\"false\",\"false\",\"true\",\"false\",\"false\",\"false\",\"false\",\"false\",\"false\",\"false\",\"false\",\"false\",\"false\",\"false\",\"false\",\"false\",\"false\",\"false\",\"false\",\"false\",\"false\",\"false\",\"false\",\"false\",\"false\",\"false\",\"false\",\"false\",\"false\",\"false\",\"false\",\"false\",\"false\",\"false\",\"false\",\"false\",\"false\",\"false\",\"false\",\"false\",\"false\",\"false\",\"false\",\"false\",\"false\",\"false\",\"false\",\"true\",\"false\",\"false\",\"false\",\"false\",\"false\",\"false\",\"false\",\"false\",\"false\",\"false\",\"false\",\"false\",\"false\",\"false\",\"false\",\"false\",\"false\",\"false\",\"false\",\"false\",\"false\",\"false\",\"false\",\"false\",\"false\",\"false\",\"false\",\"false\",\"false\",\"false\",\"false\",\"false\",\"false\",\"false\",\"false\",\"false\",\"false\",\"false\",\"false\",\"false\",\"false\",\"false\",\"false\",\"false\",\"false\",\"false\",\"false\",\"false\",\"false\",\"false\",\"false\",\"false\",\"false\",\"false\",\"false\",\"false\",\"false\",\"false\",\"false\",\"false\",\"false\",\"false\",\"false\",\"false\",\"false\",\"false\",\"false\",\"false\",\"false\",\"false\",\"false\",\"false\",\"false\",\"false\",\"false\",\"false\",\"false\",\"false\",\"false\",\"false\",\"false\",\"false\",\"false\",\"false\",\"false\",\"false\",\"false\",\"true\",\"false\",\"false\",\"false\",\"false\",\"false\",\"false\",\"false\",\"false\",\"true\",\"false\",\"false\",\"false\",\"false\",\"false\",\"true\",\"false\",\"false\",\"false\",\"false\",\"false\",\"false\",\"false\",\"false\",\"false\",\"false\",\"false\",\"false\",\"false\",\"false\",\"false\",\"false\",\"false\",\"false\",\"false\",\"false\",\"false\",\"false\",\"false\",\"false\",\"false\",\"false\",\"false\",\"false\",\"false\",\"false\",\"false\",\"false\",\"false\",\"false\",\"false\",\"false\",\"false\",\"false\",\"false\",\"false\",\"false\",\"false\",\"false\",\"false\",\"false\",\"false\",\"false\",\"false\",\"false\",\"false\",\"false\",\"false\",\"false\",\"false\",\"false\",\"false\",\"false\",\"false\",\"false\",\"false\",\"false\",\"false\",\"false\",\"false\",\"false\",\"false\",\"false\",\"false\",\"false\",\"false\",\"false\",\"false\",\"false\",\"false\",\"false\",\"false\",\"false\",\"false\",\"false\",\"false\",\"false\",\"false\",\"false\",\"false\",\"false\",\"false\",\"false\",\"false\",\"false\",\"false\",\"false\",\"false\",\"false\",\"false\",\"false\",\"false\",\"false\",\"false\",\"false\",\"false\",\"false\",\"false\",\"false\",\"false\",\"false\",\"false\",\"false\",\"false\",\"false\",\"false\",\"false\",\"false\",\"false\",\"false\",\"false\",\"false\",\"false\",\"false\",\"false\",\"false\",\"false\",\"false\",\"false\",\"false\",\"false\",\"false\",\"false\",\"false\",\"false\",\"false\",\"false\",\"false\",\"false\",\"false\",\"false\",\"false\",\"false\",\"false\",\"false\",\"false\",\"false\",\"false\",\"false\",\"false\",\"false\",\"false\",\"false\",\"false\",\"false\",\"false\",\"false\",\"false\",\"false\",\"false\",\"false\",\"false\",\"false\",\"false\",\"false\",\"false\",\"false\",\"false\",\"false\",\"false\",\"false\",\"false\",\"false\",\"false\",\"true\",\"false\",\"false\",\"false\",\"false\",\"false\",\"false\",\"false\",\"false\",\"false\",\"false\",\"false\",\"false\",\"false\",\"false\",\"false\",\"false\",\"false\",\"false\",\"false\",\"false\",\"false\",\"false\",\"false\",\"false\",\"false\",\"false\",\"false\",\"false\",\"false\",\"false\",\"false\",\"false\",\"false\",\"false\",\"false\",\"false\",\"false\",\"false\",\"false\",\"false\",\"false\",\"false\",\"false\",\"false\",\"false\",\"false\",\"false\",\"false\",\"false\",\"false\",\"false\",\"false\",\"false\",\"false\",\"false\",\"false\",\"false\",\"false\",\"false\",\"false\",\"false\",\"false\",\"false\",\"false\",\"false\",\"false\",\"false\",\"false\"],\"x\":{\"__ndarray__\":\"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\",\"dtype\":\"float64\",\"shape\":[408]},\"y\":{\"__ndarray__\":\"+am2dLbeA0AVeyqBvj0FQCcIffuc7gRAuJV+MtGUBEAq7BzGzaQEQPcXHv19ywRA07k4qDAvBUDLPofUBFMEQLPpg+GjbARAZDKqYhCPBEBaCZlFQ4kEQNBStLgmxARA9XWtg7EKBUCXRhtWlzgFQDt34FoY9ARARXYnpLVRBEBGTd0a/ZMEQDEzJveFyARAZyskHpn/BEAcqvGXq4kEQKwoamZTcARAvz5sdYRxBEBwXWgqBqcEQDnaS1UCbQRASNATBACHBEBOYZjQ6LkEQBrjSOsoYARAD445MT6zBEAMRHJEqnIEQBGwMdpOswRAUizmWG1OBEAk3PsTfZUEQEHUYjkrOQRAoaoPk+N9BEB6qCKJJ5gEQOyaYv4fpgRAO8QrcZSVBEC0MdKHsIQEQNyHzTp9jQRAceb9f67HBEAwDsdBfGUEQLumEl4scwRAjWh1TrlBBEB9YUufhU8EQOsFiPNFmgRAX8iizvDIBEDIuSAgmoQEQJeH9fP+cQRA1Zn18gSGBEDjtixuy+IEQE422WSTYQRAKwMBf9FvBEC0DB80wogEQHZmCNw/nwRA3by2oWWbBEDCGvAka68EQBGdi5iHeARAtK+np5GyBEAZ6g3cHGAEQAkv+L2SagRASMj5w21yBEAptyn/up0EQGm4KfMDsARAD+y8zEpsBEAkDHktl1YEQIm/BvbogQRAtipzotlABECiXSjz52cEQAbAK2MQ1gRAL4ekA85mBECkjgCxo3QEQOsoa/T5mARAIxo8A9ZEBEAHwSLWlJQEQITYhabWTARAipm1q852BECYEsaxtIAEQEVV1CyDLQRAG9pJDPFKBEAuxVQG4IAEQKCG7OUDbQRASEp6s0ZxBECIsVGtUDoEQKTuOGWOPwRAg9sQmHeJBEDuUYxBJT0EQDjxSsDkZARAMLd4LZF5BEA6eql0y1UEQBlZVjRjdARAkG/EnJ6SBEAelGRt4b8EQDedeBDiVARAG3GNuEZcBEA6n2T314oEQOxTbaSYmwRAXnRlo7SEBEDowMNfT6sEQEBXXIh1OgRAzwGujKFbBECedrvWdEYEQHV+06M9hgRAblPQP0mfBECgP/SCiTYEQND8/MC/YwRAZfQAYBZqBEBu9DZnR3IEQIawEmOQRgRAZnmrdEt2BEAmt+IjgZwEQBACuK5yYARAL/WCsHUlBEBuRK5SnjcEQF8PmaOFVQRAw+v0zttwBEDUrF0sbkcEQCKYSBktVARA6bVdjTHEBECuFa4VrhUEQA2N8D1BYARAMEEywA87BECJMFzr1mcEQPUAslSJhwRArYlyWVpOBEAqJz1EeNUEQMPxtwPLJQRAqY9JZ+RKBEAgESzbsFQEQLuu67qucwRA5F3FN2aFBECfpiXf+mgEQCZRr0YQogRAMPfBuT5uBEDEPAR9vx0EQE1h5JtpVgRAJtIDlbNbBEBiqG2ejH0EQNJXrqhoKwRAXIWKkBc1BECMQs3n42UEQCV5LYC8MQRApqhC1nk+BECx2RnU+VEEQMjxfPRhlARAZd8Uc9RpBEChnr31qnAEQNNQxfbVPARAY+ZZP69pBEBMVWbr2lYEQDhiJItzWgRATx7bJ7x2BECXjnQmPH0EQNuL9haBkARAehVErBxFBECiVkn8/GwEQK1KAf4WdgRAukHdegMiBEDw/s7aaTcEQKwYCzNRQgRAnbI5SqhLBEBO/SffaFIEQBHvbAgeLQRA+abvH3NmBEAkvL561j8EQGMo5BP1VARAvXnd2XloBECJgSm2vyAEQAkJiPZOUQRA8zeSEnFfBECwXsbOXIYEQP4SCVByKARAXwePo/5LBEBQWs3Dv3QEQEDw7QfwUQRAmbeeLtGHBEC38t2GwaAEQF2ts7rJsgRAFBJdbWIlBECP4fUsLDgEQMPF7BDiVgRAwLy7L3FaBECEr4r1jE4EQBzD86a6XARAheD07OkjBECTLnfhEkUEQF/xFV/xZQRArjA0ukNTBEC7Q9vfY3cEQEwZsBjdFgRAjBvjxrgxBEC0Po0fYm0EQEMCEH51MgRAzgI6ckRUBECS5zJA94AEQKik3AL2PARA5fxvqRFTBEAMFJAb5mUEQCkTYMXqOQRAadkYV3hIBEAJjDGbGmgEQKgycZePDgRAkjmyhtocBEB2STIbjk4EQCo1qWApXARAyMbz6v45BECcnTqXck4EQH1dnC1fbQRA04ufhuSXBEDHW/Q+i7AEQGrEHmDjHQRAJK3c/9lRBEBe/TTmoGkEQCsh89AvOARAtM1ehGxGBEC2ldWq414EQFjgMzeniQRAvj2rcEM2BECE5Z5GWF4EQPOzeagDbQRA4r4sbb6ABEDUWj1cPwcEQDQxDzWmKwRAByI5A4FbBECF7S9KlmUEQPDyGKGiNgRA4z9FSYw+BEDwr4d740gEQHNS6OvKYARAF/gauCxGBED51bRZfWcEQDdJJ8nfSgRABv7Qv89RBEDVv5gOi0MEQPyAxKpIYARAiRzVcsBlBEDo5bFW8ncEQEp6SuH5LwRARw+9aQU5BEDJV0DMUkgEQHhOnlFaVARA8nS8Ea3/A0D1hlr7JjMEQAaz1V4lPgRAdn9akyNJBED0oXftMVUEQBBZ6i3DXARAOq0p0ABrBEBt8taCUSEEQGx6zsDvPARADh+IXSpjBEDWL/GhlGcEQKkjE+VIEgRAwBFwRUlSBEBZfmw6JDEEQMzj2LFoQwRABzge/hqaBEC4LkeEdSEEQGb6QrFsMARAZkDHq+JIBEDAR+gQ/3sEQBIynKLQOwRAehovJFdpBEDqI5XqPjkEQIPWRSf5VwRA14fY0KB0BEC39Q8T+osEQG5s5MkFUARA7a6dfudvBECIE286v3gEQOCRMDk9jARAkq66UQgrBEDCBHIGak4EQG3xfqwCTwRA6hd14FdmBEAHIkpW2jUEQKd6sY0ZQgRAadX1iSdNBECqSwuuB1QEQCOdKkVvcQRAE4lkBMlMBEBS3jqzcWcEQC5A9psWOwRAU4dn6vBMBEAsUEVkKUYEQHwMJHM2UgRADug1WJBgBEDmCy86EnIEQDMBDUS+EQRAqvMk6DAkBEC471XzCS8EQHJBU3tVQARA10D5lul4BEDqa1XKvSYEQGUwCUl/UgRApDXqdt5kBEAepp/5QDEEQL0WsD4JfwRAspFcJ7NCBEAy0uuroSEEQIz7NtrGNARAw6GODOU8BEAyUPe2SVUEQGtlsCUkrQRAhxoN95sYBEAWxn63G00EQK8wNxstYARAOchRanp8BECgzZyqfgQEQDZ5SreTEARAqKMUqwZKBEDZbB9eSz0EQCDY87AhTwRADkjG2qJ0BEAce1afCykEQA8LNJUaYwRAfZ3a4xlBBEB94Mb1tGcEQMTG7LdWFARAwqF1R9QrBEBceYUCZjsEQJEQM75MbgRAsZwrbgtzBECa6CcsqiUEQM5cqjMjJgRAG26wkptBBEADTVA39VEEQLtRTgTFSQRAykbQm5F6BEBTed9sASoEQLXErQOxcgRAG5GJ1TSFBEDmYPEim54EQGKLhXFtKARA2stmov5FBEDjFcvNFBUEQBmcj8H5GARACiHqrtwxBEDkwj0GoW0EQLJ9xSEVQARAAZ1XProHBEDNOkzJcikEQFBNf68QLwRAgS8BUc6BBEBwSNQDUC0EQJ1V9ROMBgRAwBVrwBVrBEDMpGXN2SAEQKIDj+OOSARAplug1hpMBEAewacyeSkEQGr18pYcMARAVJJbd49RBECCF7fHLhQEQFc0dOqLXARA8T+kezExBEDV32SjN1MEQLQE1P8mawRA+Ks4ISVPBEDIoLw1NFYEQAppLrUv5QNA3CiEZ1c+BEA2tf/8JhwEQMnGDzIyFARAEXYY9GFEBEBnAN2DBnYEQIINOLggNQRAUnJbkGo8BEChjQqadOYDQJrj6AYYAgRA2YbClSw8BEANyYPfc1UEQG82enTVJwRA+4RoExBCBED937GucDcEQLt3tdQTOQRAt7L9On9JBEB/EhNuf20EQGIP3dXHKARAIgcVmyk4BEAmmBZBYgIEQL9r2F4SHARAlrME/6j7A0Awz1Cmf0EEQGbJ/wP1TQRABT3xMLwQBEA528A5GToEQDTUWJAqZQRA1Yps/FA/BEAFsBrYIFsEQGgc+np/MARAzEcPkV03BEDRSavFCCoEQGeLsKyUKARAduvUkzUEBECyepUhEhAEQBTesppDWARAoZg07AEVBECYW99wDVkEQHUtfLHjHgRABnBEMJJIBEB59B59rykEQHj5IJOSQwRAb8wzPvH8A0D+lFxqKl8EQAdv1S11NQRAl3JdDDXtA0CXQnrMsGMEQMmgXkw1NwRA\",\"dtype\":\"float64\",\"shape\":[408]}},\"selected\":{\"id\":\"2028\",\"type\":\"Selection\"},\"selection_policy\":{\"id\":\"2027\",\"type\":\"UnionRenderers\"}},\"id\":\"1882\",\"type\":\"ColumnDataSource\"},{\"attributes\":{},\"id\":\"2043\",\"type\":\"BasicTickFormatter\"},{\"attributes\":{},\"id\":\"1799\",\"type\":\"LinearScale\"},{\"attributes\":{\"toolbar\":{\"id\":\"2053\",\"type\":\"ProxyToolbar\"},\"toolbar_location\":\"above\"},\"id\":\"2054\",\"type\":\"ToolbarBox\"},{\"attributes\":{\"below\":[{\"id\":\"1911\",\"type\":\"LinearAxis\"}],\"center\":[{\"id\":\"1915\",\"type\":\"Grid\"},{\"id\":\"1920\",\"type\":\"Grid\"}],\"left\":[{\"id\":\"1916\",\"type\":\"LinearAxis\"},{\"id\":\"1952\",\"type\":\"Legend\"},{\"id\":\"1953\",\"type\":\"ColorBar\"}],\"plot_height\":400,\"plot_width\":600,\"renderers\":[{\"id\":\"1943\",\"type\":\"GlyphRenderer\"},{\"id\":\"1949\",\"type\":\"GlyphRenderer\"}],\"title\":{\"id\":\"1901\",\"type\":\"Title\"},\"toolbar\":{\"id\":\"1927\",\"type\":\"Toolbar\"},\"toolbar_location\":null,\"x_range\":{\"id\":\"1903\",\"type\":\"DataRange1d\"},\"x_scale\":{\"id\":\"1907\",\"type\":\"LinearScale\"},\"y_range\":{\"id\":\"1905\",\"type\":\"DataRange1d\"},\"y_scale\":{\"id\":\"1909\",\"type\":\"LinearScale\"}},\"id\":\"1900\",\"subtype\":\"Figure\",\"type\":\"Plot\"},{\"attributes\":{\"data_source\":{\"id\":\"1990\",\"type\":\"ColumnDataSource\"},\"glyph\":{\"id\":\"1995\",\"type\":\"Circle\"},\"hover_glyph\":null,\"muted_glyph\":null,\"nonselection_glyph\":{\"id\":\"1996\",\"type\":\"Circle\"},\"selection_glyph\":null,\"view\":{\"id\":\"1993\",\"type\":\"CDSView\"}},\"id\":\"1997\",\"type\":\"GlyphRenderer\"},{\"attributes\":{\"color_mapper\":null,\"formatter\":{\"id\":\"2012\",\"type\":\"BasicTickFormatter\"},\"ticker\":{\"id\":\"2011\",\"type\":\"BasicTicker\"},\"visible\":false},\"id\":\"1845\",\"type\":\"ColorBar\"},{\"attributes\":{},\"id\":\"2010\",\"type\":\"BasicTickFormatter\"},{\"attributes\":{\"fill_color\":{\"field\":\"label\",\"transform\":{\"id\":\"1883\",\"type\":\"CategoricalColorMapper\"}},\"line_color\":{\"field\":\"label\",\"transform\":{\"id\":\"1883\",\"type\":\"CategoricalColorMapper\"}},\"x\":{\"field\":\"x\"},\"y\":{\"field\":\"y\"}},\"id\":\"1893\",\"type\":\"Circle\"},{\"attributes\":{\"data_source\":{\"id\":\"1882\",\"type\":\"ColumnDataSource\"},\"glyph\":{\"id\":\"1893\",\"type\":\"Circle\"},\"hover_glyph\":null,\"muted_glyph\":null,\"nonselection_glyph\":{\"id\":\"1894\",\"type\":\"Circle\"},\"selection_glyph\":null,\"view\":{\"id\":\"1891\",\"type\":\"CDSView\"}},\"id\":\"1895\",\"type\":\"GlyphRenderer\"},{\"attributes\":{\"click_policy\":\"hide\",\"items\":[{\"id\":\"2004\",\"type\":\"LegendItem\"},{\"id\":\"2005\",\"type\":\"LegendItem\"}]},\"id\":\"2006\",\"type\":\"Legend\"},{\"attributes\":{\"column_name\":\"label\",\"group\":\"false\"},\"id\":\"1938\",\"type\":\"GroupFilter\"},{\"attributes\":{},\"id\":\"1863\",\"type\":\"BasicTicker\"},{\"attributes\":{\"dimension\":1,\"ticker\":{\"id\":\"1863\",\"type\":\"BasicTicker\"}},\"id\":\"1866\",\"type\":\"Grid\"},{\"attributes\":{},\"id\":\"2038\",\"type\":\"UnionRenderers\"},{\"attributes\":{\"children\":[[{\"id\":\"1792\",\"subtype\":\"Figure\",\"type\":\"Plot\"},0,0],[{\"id\":\"1846\",\"subtype\":\"Figure\",\"type\":\"Plot\"},0,1],[{\"id\":\"1900\",\"subtype\":\"Figure\",\"type\":\"Plot\"},1,0],[{\"id\":\"1954\",\"subtype\":\"Figure\",\"type\":\"Plot\"},1,1]]},\"id\":\"2052\",\"type\":\"GridBox\"},{\"attributes\":{\"active_drag\":\"auto\",\"active_inspect\":\"auto\",\"active_multi\":null,\"active_scroll\":\"auto\",\"active_tap\":\"auto\",\"tools\":[{\"id\":\"1813\",\"type\":\"PanTool\"},{\"id\":\"1814\",\"type\":\"WheelZoomTool\"},{\"id\":\"1815\",\"type\":\"BoxZoomTool\"},{\"id\":\"1816\",\"type\":\"SaveTool\"},{\"id\":\"1817\",\"type\":\"ResetTool\"},{\"id\":\"1818\",\"type\":\"HelpTool\"},{\"id\":\"1827\",\"type\":\"HoverTool\"}]},\"id\":\"1819\",\"type\":\"Toolbar\"},{\"attributes\":{\"overlay\":{\"id\":\"2015\",\"type\":\"BoxAnnotation\"}},\"id\":\"1815\",\"type\":\"BoxZoomTool\"},{\"attributes\":{\"data_source\":{\"id\":\"1828\",\"type\":\"ColumnDataSource\"},\"glyph\":{\"id\":\"1839\",\"type\":\"Circle\"},\"hover_glyph\":null,\"muted_glyph\":null,\"nonselection_glyph\":{\"id\":\"1840\",\"type\":\"Circle\"},\"selection_glyph\":null,\"view\":{\"id\":\"1837\",\"type\":\"CDSView\"}},\"id\":\"1841\",\"type\":\"GlyphRenderer\"},{\"attributes\":{},\"id\":\"2021\",\"type\":\"BasicTickFormatter\"},{\"attributes\":{\"label\":{\"value\":\"false\"},\"renderers\":[{\"id\":\"1835\",\"type\":\"GlyphRenderer\"}]},\"id\":\"1842\",\"type\":\"LegendItem\"},{\"attributes\":{\"column_name\":\"label\",\"group\":\"true\"},\"id\":\"1998\",\"type\":\"GroupFilter\"},{\"attributes\":{},\"id\":\"1816\",\"type\":\"SaveTool\"},{\"attributes\":{},\"id\":\"1853\",\"type\":\"LinearScale\"},{\"attributes\":{\"callback\":null},\"id\":\"1959\",\"type\":\"DataRange1d\"},{\"attributes\":{\"bottom_units\":\"screen\",\"fill_alpha\":{\"value\":0.5},\"fill_color\":{\"value\":\"lightgrey\"},\"left_units\":\"screen\",\"level\":\"overlay\",\"line_alpha\":{\"value\":1.0},\"line_color\":{\"value\":\"black\"},\"line_dash\":[4,4],\"line_width\":{\"value\":2},\"render_mode\":\"css\",\"right_units\":\"screen\",\"top_units\":\"screen\"},\"id\":\"2026\",\"type\":\"BoxAnnotation\"},{\"attributes\":{},\"id\":\"1817\",\"type\":\"ResetTool\"},{\"attributes\":{\"axis_label\":\"Ti/Tv rate\",\"formatter\":{\"id\":\"2021\",\"type\":\"BasicTickFormatter\"},\"ticker\":{\"id\":\"1863\",\"type\":\"BasicTicker\"}},\"id\":\"1862\",\"type\":\"LinearAxis\"},{\"attributes\":{},\"id\":\"2047\",\"type\":\"BasicTickFormatter\"},{\"attributes\":{\"callback\":null},\"id\":\"1851\",\"type\":\"DataRange1d\"},{\"attributes\":{},\"id\":\"2025\",\"type\":\"BasicTickFormatter\"},{\"attributes\":{\"callback\":null,\"tooltips\":[[\"x\",\"@x\"],[\"y\",\"@y\"],[\"label\",\"@label\"]]},\"id\":\"1827\",\"type\":\"HoverTool\"},{\"attributes\":{\"label\":{\"value\":\"false\"},\"renderers\":[{\"id\":\"1889\",\"type\":\"GlyphRenderer\"}]},\"id\":\"1896\",\"type\":\"LegendItem\"},{\"attributes\":{\"fill_color\":{\"field\":\"label\",\"transform\":{\"id\":\"1937\",\"type\":\"CategoricalColorMapper\"}},\"line_color\":{\"field\":\"label\",\"transform\":{\"id\":\"1937\",\"type\":\"CategoricalColorMapper\"}},\"x\":{\"field\":\"x\"},\"y\":{\"field\":\"y\"}},\"id\":\"1947\",\"type\":\"Circle\"},{\"attributes\":{},\"id\":\"2012\",\"type\":\"BasicTickFormatter\"},{\"attributes\":{\"column_name\":\"label\",\"group\":\"true\"},\"id\":\"1836\",\"type\":\"GroupFilter\"},{\"attributes\":{\"click_policy\":\"hide\",\"items\":[{\"id\":\"1896\",\"type\":\"LegendItem\"},{\"id\":\"1897\",\"type\":\"LegendItem\"}]},\"id\":\"1898\",\"type\":\"Legend\"},{\"attributes\":{\"text\":\"# singletons\"},\"id\":\"1955\",\"type\":\"Title\"},{\"attributes\":{\"bottom_units\":\"screen\",\"fill_alpha\":{\"value\":0.5},\"fill_color\":{\"value\":\"lightgrey\"},\"left_units\":\"screen\",\"level\":\"overlay\",\"line_alpha\":{\"value\":1.0},\"line_color\":{\"value\":\"black\"},\"line_dash\":[4,4],\"line_width\":{\"value\":2},\"render_mode\":\"css\",\"right_units\":\"screen\",\"top_units\":\"screen\"},\"id\":\"2037\",\"type\":\"BoxAnnotation\"},{\"attributes\":{},\"id\":\"1804\",\"type\":\"BasicTicker\"},{\"attributes\":{},\"id\":\"1818\",\"type\":\"HelpTool\"},{\"attributes\":{\"label\":{\"value\":\"true\"},\"renderers\":[{\"id\":\"2003\",\"type\":\"GlyphRenderer\"}]},\"id\":\"2005\",\"type\":\"LegendItem\"},{\"attributes\":{\"fill_alpha\":{\"value\":0.1},\"fill_color\":{\"value\":\"#1f77b4\"},\"line_alpha\":{\"value\":0.1},\"line_color\":{\"value\":\"#1f77b4\"},\"x\":{\"field\":\"x\"},\"y\":{\"field\":\"y\"}},\"id\":\"1894\",\"type\":\"Circle\"},{\"attributes\":{\"fill_color\":{\"field\":\"label\",\"transform\":{\"id\":\"1937\",\"type\":\"CategoricalColorMapper\"}},\"line_color\":{\"field\":\"label\",\"transform\":{\"id\":\"1937\",\"type\":\"CategoricalColorMapper\"}},\"x\":{\"field\":\"x\"},\"y\":{\"field\":\"y\"}},\"id\":\"1941\",\"type\":\"Circle\"},{\"attributes\":{\"callback\":null},\"id\":\"1797\",\"type\":\"DataRange1d\"},{\"attributes\":{\"data_source\":{\"id\":\"1882\",\"type\":\"ColumnDataSource\"},\"glyph\":{\"id\":\"1887\",\"type\":\"Circle\"},\"hover_glyph\":null,\"muted_glyph\":null,\"nonselection_glyph\":{\"id\":\"1888\",\"type\":\"Circle\"},\"selection_glyph\":null,\"view\":{\"id\":\"1885\",\"type\":\"CDSView\"}},\"id\":\"1889\",\"type\":\"GlyphRenderer\"},{\"attributes\":{\"fill_color\":{\"field\":\"label\",\"transform\":{\"id\":\"1829\",\"type\":\"CategoricalColorMapper\"}},\"line_color\":{\"field\":\"label\",\"transform\":{\"id\":\"1829\",\"type\":\"CategoricalColorMapper\"}},\"x\":{\"field\":\"x\"},\"y\":{\"field\":\"y\"}},\"id\":\"1833\",\"type\":\"Circle\"},{\"attributes\":{\"axis_label\":\"# heterozygotes\",\"formatter\":{\"id\":\"2010\",\"type\":\"BasicTickFormatter\"},\"ticker\":{\"id\":\"1809\",\"type\":\"BasicTicker\"}},\"id\":\"1808\",\"type\":\"LinearAxis\"},{\"attributes\":{},\"id\":\"1980\",\"type\":\"HelpTool\"},{\"attributes\":{\"axis_label\":\"DP mean\",\"formatter\":{\"id\":\"2025\",\"type\":\"BasicTickFormatter\"},\"ticker\":{\"id\":\"1858\",\"type\":\"BasicTicker\"}},\"id\":\"1857\",\"type\":\"LinearAxis\"},{\"attributes\":{\"bottom_units\":\"screen\",\"fill_alpha\":{\"value\":0.5},\"fill_color\":{\"value\":\"lightgrey\"},\"left_units\":\"screen\",\"level\":\"overlay\",\"line_alpha\":{\"value\":1.0},\"line_color\":{\"value\":\"black\"},\"line_dash\":[4,4],\"line_width\":{\"value\":2},\"render_mode\":\"css\",\"right_units\":\"screen\",\"top_units\":\"screen\"},\"id\":\"2015\",\"type\":\"BoxAnnotation\"},{\"attributes\":{\"ticker\":{\"id\":\"1804\",\"type\":\"BasicTicker\"}},\"id\":\"1807\",\"type\":\"Grid\"},{\"attributes\":{\"active_drag\":\"auto\",\"active_inspect\":\"auto\",\"active_multi\":null,\"active_scroll\":\"auto\",\"active_tap\":\"auto\",\"tools\":[{\"id\":\"1975\",\"type\":\"PanTool\"},{\"id\":\"1976\",\"type\":\"WheelZoomTool\"},{\"id\":\"1977\",\"type\":\"BoxZoomTool\"},{\"id\":\"1978\",\"type\":\"SaveTool\"},{\"id\":\"1979\",\"type\":\"ResetTool\"},{\"id\":\"1980\",\"type\":\"HelpTool\"},{\"id\":\"1989\",\"type\":\"HoverTool\"}]},\"id\":\"1981\",\"type\":\"Toolbar\"},{\"attributes\":{\"filters\":[{\"id\":\"1836\",\"type\":\"GroupFilter\"}],\"source\":{\"id\":\"1828\",\"type\":\"ColumnDataSource\"}},\"id\":\"1837\",\"type\":\"CDSView\"},{\"attributes\":{\"label\":{\"value\":\"false\"},\"renderers\":[{\"id\":\"1943\",\"type\":\"GlyphRenderer\"}]},\"id\":\"1950\",\"type\":\"LegendItem\"},{\"attributes\":{},\"id\":\"1809\",\"type\":\"BasicTicker\"},{\"attributes\":{\"label\":{\"value\":\"true\"},\"renderers\":[{\"id\":\"1895\",\"type\":\"GlyphRenderer\"}]},\"id\":\"1897\",\"type\":\"LegendItem\"},{\"attributes\":{\"data_source\":{\"id\":\"1936\",\"type\":\"ColumnDataSource\"},\"glyph\":{\"id\":\"1941\",\"type\":\"Circle\"},\"hover_glyph\":null,\"muted_glyph\":null,\"nonselection_glyph\":{\"id\":\"1942\",\"type\":\"Circle\"},\"selection_glyph\":null,\"view\":{\"id\":\"1939\",\"type\":\"CDSView\"}},\"id\":\"1943\",\"type\":\"GlyphRenderer\"},{\"attributes\":{\"factors\":[\"true\",\"false\"],\"palette\":[\"#1f77b4\",\"#ff7f0e\",\"#2ca02c\",\"#d62728\",\"#9467bd\",\"#8c564b\",\"#e377c2\",\"#7f7f7f\",\"#bcbd22\",\"#17becf\"]},\"id\":\"1991\",\"type\":\"CategoricalColorMapper\"},{\"attributes\":{},\"id\":\"1814\",\"type\":\"WheelZoomTool\"},{\"attributes\":{\"callback\":null,\"data\":{\"index\":[0,1,2,3,4,5,6,7,8,9,10,11,12,13,14,15,16,17,18,19,20,21,22,23,24,25,26,27,28,29,30,31,32,33,34,35,36,37,38,39,40,41,42,43,44,45,46,47,48,49,50,51,52,53,54,55,56,57,58,59,60,61,62,63,64,65,66,67,68,69,70,71,72,73,74,75,76,77,78,79,80,81,82,83,84,85,86,87,88,89,90,91,92,93,94,95,96,97,98,99,100,101,102,103,104,105,106,107,108,109,110,111,112,113,114,115,116,117,118,119,120,121,122,123,124,125,126,127,128,129,130,131,132,133,134,135,136,137,138,139,140,141,142,143,144,145,146,147,148,149,150,151,152,153,154,155,156,157,158,159,160,161,162,163,164,165,166,167,168,169,170,171,172,173,174,175,176,177,178,179,180,181,182,183,184,185,186,187,188,189,190,191,192,193,194,195,196],\"label\":[\"false\",\"false\",\"false\",\"false\",\"false\",\"false\",\"false\",\"false\",\"false\",\"false\",\"false\",\"false\",\"false\",\"false\",\"false\",\"false\",\"false\",\"false\",\"true\",\"false\",\"false\",\"false\",\"false\",\"false\",\"false\",\"false\",\"false\",\"false\",\"false\",\"false\",\"false\",\"false\",\"false\",\"false\",\"false\",\"false\",\"false\",\"false\",\"false\",\"false\",\"false\",\"true\",\"false\",\"false\",\"false\",\"false\",\"false\",\"false\",\"false\",\"false\",\"false\",\"false\",\"false\",\"false\",\"false\",\"false\",\"false\",\"false\",\"false\",\"false\",\"false\",\"false\",\"false\",\"false\",\"false\",\"false\",\"false\",\"false\",\"false\",\"false\",\"false\",\"false\",\"false\",\"false\",\"false\",\"false\",\"false\",\"false\",\"false\",\"false\",\"false\",\"false\",\"false\",\"false\",\"false\",\"false\",\"false\",\"false\",\"false\",\"false\",\"false\",\"false\",\"false\",\"false\",\"false\",\"false\",\"false\",\"false\",\"false\",\"false\",\"false\",\"false\",\"false\",\"false\",\"false\",\"false\",\"false\",\"false\",\"false\",\"false\",\"false\",\"false\",\"false\",\"false\",\"false\",\"false\",\"false\",\"false\",\"false\",\"false\",\"false\",\"false\",\"false\",\"false\",\"false\",\"false\",\"false\",\"false\",\"false\",\"false\",\"false\",\"false\",\"false\",\"false\",\"false\",\"false\",\"false\",\"false\",\"false\",\"false\",\"false\",\"false\",\"false\",\"false\",\"false\",\"false\",\"false\",\"false\",\"false\",\"false\",\"false\",\"false\",\"false\",\"false\",\"false\",\"false\",\"false\",\"false\",\"false\",\"false\",\"false\",\"false\",\"false\",\"false\",\"false\",\"false\",\"false\",\"false\",\"false\",\"false\",\"false\",\"false\",\"false\",\"false\",\"false\",\"false\",\"false\",\"false\",\"false\",\"false\",\"false\",\"false\",\"false\",\"false\",\"false\",\"false\",\"false\",\"false\",\"false\",\"false\",\"false\",\"false\",\"false\",\"false\",\"false\",\"false\",\"false\"],\"x\":{\"__ndarray__\":\"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\",\"dtype\":\"float64\",\"shape\":[197]},\"y\":{\"__ndarray__\":\"AAAAAAAAAAAAAAAAAADwPwAAAAAAAAAAAAAAAAAAAAAAAAAAAAAAAAAAAAAAAAAAAAAAAAAAAAAAAAAAAAAAAAAAAAAAAAAAAAAAAAAA8D8AAAAAAAAAAAAAAAAAAAAAAAAAAAAA8D8AAAAAAAAAAAAAAAAAAPA/AAAAAAAA8D8AAAAAAADwPwAAAAAAAAAAAAAAAAAAAAAAAAAAAAAAAAAAAAAAAAAAAAAAAAAAAAAAAAAAAADwPwAAAAAAAAAAAAAAAAAAAAAAAAAAAAAAAAAAAAAAAAAAAAAAAAAAAAAAAAAAAAAAAAAAAAAAAAAAAAAAAAAAAAAAAAAAAAAAAAAAAAAAAAAAAAAAAAAAAAAAAAAAAAAAAAAAAAAAAAAAAAAAAAAAAAAAAAAAAAAAAAAAAAAAAAAAAAAAAAAAAAAAAAAAAAAAAAAAAAAAAAAAAAAAAAAAAAAAAAAAAAAAAAAAAAAAAAAAAAAAAAAAAAAAAAAAAAAAAAAAAAAAAPA/AAAAAAAAAAAAAAAAAAAAAAAAAAAAAAAAAAAAAAAAAAAAAAAAAADwPwAAAAAAAAAAAAAAAAAA8D8AAAAAAAAAAAAAAAAAAAAAAAAAAAAAAAAAAAAAAAAAAAAAAAAAAAAAAAAAAAAAAAAAAAAAAAAAAAAAAAAAAAAAAAAAAAAAAAAAAAAAAAAAAAAAAAAAAAAAAAAAAAAAAAAAAAAAAAAAAAAAAAAAAAAAAAAAAAAAAAAAAAAAAAAAAAAAAAAAAAAAAAAAAAAAAAAAAAAAAAAAAAAAAAAAAAAAAAAAAAAAAAAAAAAAAADwPwAAAAAAAAAAAAAAAAAAAAAAAAAAAAAAAAAAAAAAAAAAAAAAAAAAAAAAAAAAAAAAAAAAAAAAAAAAAAAAAAAAAAAAAAAAAAAAAAAAAAAAAAAAAAAAAAAAAAAAAAAAAAAAAAAAAAAAAAAAAAAAAAAA8D8AAAAAAAAAAAAAAAAAAPA/AAAAAAAAAAAAAAAAAAAAAAAAAAAAAAAAAAAAAAAAAAAAAAAAAAAAAAAAAAAAAAAAAAAAAAAAAAAAAAAAAAAAAAAAAAAAAAAAAAAAAAAA8D8AAAAAAAAAAAAAAAAAAPA/AAAAAAAAAAAAAAAAAAAAAAAAAAAAAAAAAAAAAAAAAAAAAAAAAAAAAAAAAAAAAAAAAAAAAAAAAAAAAAAAAAAAAAAAAAAAAPA/AAAAAAAAAAAAAAAAAAAAAAAAAAAAAPA/AAAAAAAAAAAAAAAAAAAAAAAAAAAAAAAAAAAAAAAA8D8AAAAAAAAAAAAAAAAAAAAAAAAAAAAAAAAAAAAAAADwPwAAAAAAAAAAAAAAAAAAAAAAAAAAAAAAAAAAAAAAAAAAAAAAAAAAAAAAAAAAAAAAAAAAAAAAAPA/AAAAAAAAAAAAAAAAAAAAAAAAAAAAAAAAAAAAAAAAAAAAAAAAAAAAAAAAAAAAAAAAAAAAAAAAAAAAAAAAAAAAAAAAAAAAAAAAAAAAAAAAAAAAAAAAAAAAAAAAAAAAAAAAAAAAAAAAAAAAAAAAAAAAAAAAAAAAAAAAAAAAAAAAAAAAAAAAAAAAAAAAAAAAAAAAAAAAAAAAAAAAAAAAAAAAAAAAAAAAAAAAAAAAAAAA8D8AAAAAAAAAAAAAAAAAAAAAAAAAAAAAAAAAAAAAAAAAAAAAAAAAAAAAAAAAAAAA8D8AAAAAAAAAAAAAAAAAAAAAAAAAAAAAAAAAAAAAAAAAAAAAAAAAAPA/AAAAAAAAAAAAAAAAAAAAQAAAAAAAAAAAAAAAAAAAAAAAAAAAAAAAAAAAAAAAAAAAAAAAAAAAAAAAAAAAAAAAAAAAAAAAAAAAAAAAAAAAAAAAAAAAAAAAAAAAAAAAAAAAAAAAAAAAAAAAAAAAAAAAAAAAAAAAAAAAAAAAAAAAAAAAAAAAAAAAAAAAAAAAAAAAAAAAAAAAAAAAAAAAAAAAAAAAAAAAAPA/AAAAAAAAAAAAAAAAAAAAAAAAAAAAAAAAAAAAAAAAAAAAAAAAAAAAAAAAAAAAAAAAAAAAAAAAAAAAAAAAAAAAAAAAAAAAABRAAAAAAAAAAAAAAAAAAADwPw==\",\"dtype\":\"float64\",\"shape\":[197]}},\"selected\":{\"id\":\"2050\",\"type\":\"Selection\"},\"selection_policy\":{\"id\":\"2049\",\"type\":\"UnionRenderers\"}},\"id\":\"1990\",\"type\":\"ColumnDataSource\"},{\"attributes\":{},\"id\":\"1855\",\"type\":\"LinearScale\"},{\"attributes\":{},\"id\":\"2039\",\"type\":\"Selection\"},{\"attributes\":{\"column_name\":\"label\",\"group\":\"true\"},\"id\":\"1944\",\"type\":\"GroupFilter\"},{\"attributes\":{},\"id\":\"1813\",\"type\":\"PanTool\"},{\"attributes\":{\"fill_alpha\":{\"value\":0.1},\"fill_color\":{\"value\":\"#1f77b4\"},\"line_alpha\":{\"value\":0.1},\"line_color\":{\"value\":\"#1f77b4\"},\"x\":{\"field\":\"x\"},\"y\":{\"field\":\"y\"}},\"id\":\"1942\",\"type\":\"Circle\"},{\"attributes\":{},\"id\":\"2023\",\"type\":\"BasicTickFormatter\"},{\"attributes\":{},\"id\":\"1975\",\"type\":\"PanTool\"},{\"attributes\":{},\"id\":\"2011\",\"type\":\"BasicTicker\"},{\"attributes\":{},\"id\":\"2044\",\"type\":\"BasicTicker\"},{\"attributes\":{\"overlay\":{\"id\":\"2048\",\"type\":\"BoxAnnotation\"}},\"id\":\"1977\",\"type\":\"BoxZoomTool\"},{\"attributes\":{},\"id\":\"2032\",\"type\":\"BasicTickFormatter\"},{\"attributes\":{\"filters\":[{\"id\":\"1944\",\"type\":\"GroupFilter\"}],\"source\":{\"id\":\"1936\",\"type\":\"ColumnDataSource\"}},\"id\":\"1945\",\"type\":\"CDSView\"},{\"attributes\":{},\"id\":\"2017\",\"type\":\"Selection\"},{\"attributes\":{\"data_source\":{\"id\":\"1936\",\"type\":\"ColumnDataSource\"},\"glyph\":{\"id\":\"1947\",\"type\":\"Circle\"},\"hover_glyph\":null,\"muted_glyph\":null,\"nonselection_glyph\":{\"id\":\"1948\",\"type\":\"Circle\"},\"selection_glyph\":null,\"view\":{\"id\":\"1945\",\"type\":\"CDSView\"}},\"id\":\"1949\",\"type\":\"GlyphRenderer\"},{\"attributes\":{\"data_source\":{\"id\":\"1990\",\"type\":\"ColumnDataSource\"},\"glyph\":{\"id\":\"2001\",\"type\":\"Circle\"},\"hover_glyph\":null,\"muted_glyph\":null,\"nonselection_glyph\":{\"id\":\"2002\",\"type\":\"Circle\"},\"selection_glyph\":null,\"view\":{\"id\":\"1999\",\"type\":\"CDSView\"}},\"id\":\"2003\",\"type\":\"GlyphRenderer\"},{\"attributes\":{\"fill_alpha\":{\"value\":0.1},\"fill_color\":{\"value\":\"#1f77b4\"},\"line_alpha\":{\"value\":0.1},\"line_color\":{\"value\":\"#1f77b4\"},\"x\":{\"field\":\"x\"},\"y\":{\"field\":\"y\"}},\"id\":\"1840\",\"type\":\"Circle\"},{\"attributes\":{},\"id\":\"2045\",\"type\":\"BasicTickFormatter\"},{\"attributes\":{\"filters\":[{\"id\":\"1998\",\"type\":\"GroupFilter\"}],\"source\":{\"id\":\"1990\",\"type\":\"ColumnDataSource\"}},\"id\":\"1999\",\"type\":\"CDSView\"},{\"attributes\":{\"callback\":null,\"tooltips\":[[\"x\",\"@x\"],[\"y\",\"@y\"],[\"label\",\"@label\"]]},\"id\":\"1989\",\"type\":\"HoverTool\"},{\"attributes\":{\"fill_alpha\":{\"value\":0.1},\"fill_color\":{\"value\":\"#1f77b4\"},\"line_alpha\":{\"value\":0.1},\"line_color\":{\"value\":\"#1f77b4\"},\"x\":{\"field\":\"x\"},\"y\":{\"field\":\"y\"}},\"id\":\"1948\",\"type\":\"Circle\"},{\"attributes\":{\"axis_label\":\"# singletons\",\"formatter\":{\"id\":\"2043\",\"type\":\"BasicTickFormatter\"},\"ticker\":{\"id\":\"1971\",\"type\":\"BasicTicker\"}},\"id\":\"1970\",\"type\":\"LinearAxis\"},{\"attributes\":{},\"id\":\"2033\",\"type\":\"BasicTicker\"},{\"attributes\":{\"click_policy\":\"hide\",\"items\":[{\"id\":\"1950\",\"type\":\"LegendItem\"},{\"id\":\"1951\",\"type\":\"LegendItem\"}]},\"id\":\"1952\",\"type\":\"Legend\"},{\"attributes\":{},\"id\":\"1976\",\"type\":\"WheelZoomTool\"},{\"attributes\":{\"text\":\"Call rate\"},\"id\":\"1901\",\"type\":\"Title\"},{\"attributes\":{\"callback\":null},\"id\":\"1849\",\"type\":\"DataRange1d\"},{\"attributes\":{},\"id\":\"1963\",\"type\":\"LinearScale\"},{\"attributes\":{\"active_drag\":\"auto\",\"active_inspect\":\"auto\",\"active_multi\":null,\"active_scroll\":\"auto\",\"active_tap\":\"auto\",\"tools\":[{\"id\":\"1921\",\"type\":\"PanTool\"},{\"id\":\"1922\",\"type\":\"WheelZoomTool\"},{\"id\":\"1923\",\"type\":\"BoxZoomTool\"},{\"id\":\"1924\",\"type\":\"SaveTool\"},{\"id\":\"1925\",\"type\":\"ResetTool\"},{\"id\":\"1926\",\"type\":\"HelpTool\"},{\"id\":\"1935\",\"type\":\"HoverTool\"}]},\"id\":\"1927\",\"type\":\"Toolbar\"},{\"attributes\":{\"fill_alpha\":{\"value\":0.1},\"fill_color\":{\"value\":\"#1f77b4\"},\"line_alpha\":{\"value\":0.1},\"line_color\":{\"value\":\"#1f77b4\"},\"x\":{\"field\":\"x\"},\"y\":{\"field\":\"y\"}},\"id\":\"1996\",\"type\":\"Circle\"},{\"attributes\":{},\"id\":\"1979\",\"type\":\"ResetTool\"},{\"attributes\":{\"column_name\":\"label\",\"group\":\"false\"},\"id\":\"1992\",\"type\":\"GroupFilter\"},{\"attributes\":{\"ticker\":{\"id\":\"1858\",\"type\":\"BasicTicker\"}},\"id\":\"1861\",\"type\":\"Grid\"},{\"attributes\":{\"label\":{\"value\":\"true\"},\"renderers\":[{\"id\":\"1949\",\"type\":\"GlyphRenderer\"}]},\"id\":\"1951\",\"type\":\"LegendItem\"},{\"attributes\":{\"below\":[{\"id\":\"1857\",\"type\":\"LinearAxis\"}],\"center\":[{\"id\":\"1861\",\"type\":\"Grid\"},{\"id\":\"1866\",\"type\":\"Grid\"}],\"left\":[{\"id\":\"1862\",\"type\":\"LinearAxis\"},{\"id\":\"1898\",\"type\":\"Legend\"},{\"id\":\"1899\",\"type\":\"ColorBar\"}],\"plot_height\":400,\"plot_width\":600,\"renderers\":[{\"id\":\"1889\",\"type\":\"GlyphRenderer\"},{\"id\":\"1895\",\"type\":\"GlyphRenderer\"}],\"title\":{\"id\":\"1847\",\"type\":\"Title\"},\"toolbar\":{\"id\":\"1873\",\"type\":\"Toolbar\"},\"toolbar_location\":null,\"x_range\":{\"id\":\"1849\",\"type\":\"DataRange1d\"},\"x_scale\":{\"id\":\"1853\",\"type\":\"LinearScale\"},\"y_range\":{\"id\":\"1851\",\"type\":\"DataRange1d\"},\"y_scale\":{\"id\":\"1855\",\"type\":\"LinearScale\"}},\"id\":\"1846\",\"subtype\":\"Figure\",\"type\":\"Plot\"},{\"attributes\":{\"axis_label\":\"DP mean\",\"formatter\":{\"id\":\"2014\",\"type\":\"BasicTickFormatter\"},\"ticker\":{\"id\":\"1804\",\"type\":\"BasicTicker\"}},\"id\":\"1803\",\"type\":\"LinearAxis\"},{\"attributes\":{},\"id\":\"1926\",\"type\":\"HelpTool\"},{\"attributes\":{\"fill_alpha\":{\"value\":0.1},\"fill_color\":{\"value\":\"#1f77b4\"},\"line_alpha\":{\"value\":0.1},\"line_color\":{\"value\":\"#1f77b4\"},\"x\":{\"field\":\"x\"},\"y\":{\"field\":\"y\"}},\"id\":\"2002\",\"type\":\"Circle\"},{\"attributes\":{},\"id\":\"1925\",\"type\":\"ResetTool\"},{\"attributes\":{\"dimension\":1,\"ticker\":{\"id\":\"1809\",\"type\":\"BasicTicker\"}},\"id\":\"1812\",\"type\":\"Grid\"},{\"attributes\":{\"callback\":null},\"id\":\"1795\",\"type\":\"DataRange1d\"},{\"attributes\":{\"color_mapper\":null,\"formatter\":{\"id\":\"2023\",\"type\":\"BasicTickFormatter\"},\"ticker\":{\"id\":\"2022\",\"type\":\"BasicTicker\"},\"visible\":false},\"id\":\"1899\",\"type\":\"ColorBar\"},{\"attributes\":{\"dimension\":1,\"ticker\":{\"id\":\"1971\",\"type\":\"BasicTicker\"}},\"id\":\"1974\",\"type\":\"Grid\"},{\"attributes\":{\"label\":{\"value\":\"false\"},\"renderers\":[{\"id\":\"1997\",\"type\":\"GlyphRenderer\"}]},\"id\":\"2004\",\"type\":\"LegendItem\"},{\"attributes\":{\"column_name\":\"label\",\"group\":\"false\"},\"id\":\"1830\",\"type\":\"GroupFilter\"},{\"attributes\":{},\"id\":\"2016\",\"type\":\"UnionRenderers\"},{\"attributes\":{\"click_policy\":\"hide\",\"items\":[{\"id\":\"1842\",\"type\":\"LegendItem\"},{\"id\":\"1843\",\"type\":\"LegendItem\"}]},\"id\":\"1844\",\"type\":\"Legend\"},{\"attributes\":{},\"id\":\"1966\",\"type\":\"BasicTicker\"},{\"attributes\":{\"text\":\"Ti/Tv rate\"},\"id\":\"1847\",\"type\":\"Title\"},{\"attributes\":{\"fill_alpha\":{\"value\":0.1},\"fill_color\":{\"value\":\"#1f77b4\"},\"line_alpha\":{\"value\":0.1},\"line_color\":{\"value\":\"#1f77b4\"},\"x\":{\"field\":\"x\"},\"y\":{\"field\":\"y\"}},\"id\":\"1834\",\"type\":\"Circle\"},{\"attributes\":{},\"id\":\"2022\",\"type\":\"BasicTicker\"},{\"attributes\":{\"filters\":[{\"id\":\"1890\",\"type\":\"GroupFilter\"}],\"source\":{\"id\":\"1882\",\"type\":\"ColumnDataSource\"}},\"id\":\"1891\",\"type\":\"CDSView\"},{\"attributes\":{\"color_mapper\":null,\"formatter\":{\"id\":\"2034\",\"type\":\"BasicTickFormatter\"},\"ticker\":{\"id\":\"2033\",\"type\":\"BasicTicker\"},\"visible\":false},\"id\":\"1953\",\"type\":\"ColorBar\"},{\"attributes\":{\"filters\":[{\"id\":\"1830\",\"type\":\"GroupFilter\"}],\"source\":{\"id\":\"1828\",\"type\":\"ColumnDataSource\"}},\"id\":\"1831\",\"type\":\"CDSView\"},{\"attributes\":{\"fill_color\":{\"field\":\"label\",\"transform\":{\"id\":\"1991\",\"type\":\"CategoricalColorMapper\"}},\"line_color\":{\"field\":\"label\",\"transform\":{\"id\":\"1991\",\"type\":\"CategoricalColorMapper\"}},\"x\":{\"field\":\"x\"},\"y\":{\"field\":\"y\"}},\"id\":\"2001\",\"type\":\"Circle\"},{\"attributes\":{\"ticker\":{\"id\":\"1966\",\"type\":\"BasicTicker\"}},\"id\":\"1969\",\"type\":\"Grid\"},{\"attributes\":{\"label\":{\"value\":\"true\"},\"renderers\":[{\"id\":\"1841\",\"type\":\"GlyphRenderer\"}]},\"id\":\"1843\",\"type\":\"LegendItem\"},{\"attributes\":{\"filters\":[{\"id\":\"1938\",\"type\":\"GroupFilter\"}],\"source\":{\"id\":\"1936\",\"type\":\"ColumnDataSource\"}},\"id\":\"1939\",\"type\":\"CDSView\"},{\"attributes\":{\"column_name\":\"label\",\"group\":\"false\"},\"id\":\"1884\",\"type\":\"GroupFilter\"},{\"attributes\":{\"data_source\":{\"id\":\"1828\",\"type\":\"ColumnDataSource\"},\"glyph\":{\"id\":\"1833\",\"type\":\"Circle\"},\"hover_glyph\":null,\"muted_glyph\":null,\"nonselection_glyph\":{\"id\":\"1834\",\"type\":\"Circle\"},\"selection_glyph\":null,\"view\":{\"id\":\"1831\",\"type\":\"CDSView\"}},\"id\":\"1835\",\"type\":\"GlyphRenderer\"},{\"attributes\":{\"callback\":null},\"id\":\"1957\",\"type\":\"DataRange1d\"},{\"attributes\":{\"axis_label\":\"DP mean\",\"formatter\":{\"id\":\"2047\",\"type\":\"BasicTickFormatter\"},\"ticker\":{\"id\":\"1966\",\"type\":\"BasicTicker\"}},\"id\":\"1965\",\"type\":\"LinearAxis\"},{\"attributes\":{\"callback\":null,\"data\":{\"index\":[0,1,2,3,4,5,6,7,8,9,10,11,12,13,14,15,16,17,18,19,20,21,22,23,24,25,26,27,28,29,30,31,32,33,34,35,36,37,38,39,40,41,42,43,44,45,46,47,48,49,50,51,52,53,54,55,56,57,58,59,60,61,62,63,64,65,66,67,68,69,70,71,72,73,74,75,76,77,78,79,80,81,82,83,84,85,86,87,88,89,90,91,92,93,94,95,96,97,98,99,100,101,102,103,104,105,106,107,108,109,110,111,112,113,114,115,116,117,118,119,120,121,122,123,124,125,126,127,128,129,130,131,132,133,134,135,136,137,138,139,140,141,142,143,144,145,146,147,148,149,150,151,152,153,154,155,156,157,158,159,160,161,162,163,164,165,166,167,168,169,170,171,172,173,174,175,176,177,178,179,180,181,182,183,184,185,186,187,188,189,190,191,192,193,194,195,196,197,198,199,200,201,202,203,204,205,206,207,208,209,210,211,212,213,214,215,216,217,218,219,220,221,222,223,224,225,226,227,228,229,230,231,232,233,234,235,236,237,238,239,240,241,242,243,244,245,246,247,248,249,250,251,252,253,254,255,256,257,258,259,260,261,262,263,264,265,266,267,268,269,270,271,272,273,274,275,276,277,278,279,280,281,282,283,284,285,286,287,288,289,290,291,292,293,294,295,296,297,298,299,300,301,302,303,304,305,306,307,308,309,310,311,312,313,314,315,316,317,318,319,320,321,322,323,324,325,326,327,328,329,330,331,332,333,334,335,336,337,338,339,340,341,342,343,344,345,346,347,348,349,350,351,352,353,354,355,356,357,358,359,360,361,362,363,364,365,366,367,368,369,370,371,372,373,374,375,376,377,378,379,380,381,382,383,384,385,386,387,388,389,390,391,392,393,394,395,396,397,398,399,400,401,402,403,404,405,406,407,408,409,410,411,412,413,414,415,416,417,418,419,420,421,422,423,424,425,426,427,428,429,430,431,432,433,434,435,436,437,438,439],\"label\":[\"false\",\"false\",\"false\",\"false\",\"false\",\"false\",\"false\",\"false\",\"false\",\"false\",\"false\",\"false\",\"false\",\"false\",\"false\",\"false\",\"false\",\"false\",\"false\",\"false\",\"false\",\"false\",\"true\",\"false\",\"false\",\"false\",\"false\",\"false\",\"false\",\"false\",\"false\",\"false\",\"false\",\"false\",\"false\",\"false\",\"false\",\"false\",\"false\",\"false\",\"false\",\"false\",\"false\",\"false\",\"false\",\"false\",\"false\",\"false\",\"false\",\"false\",\"false\",\"false\",\"false\",\"false\",\"false\",\"false\",\"false\",\"false\",\"false\",\"false\",\"false\",\"false\",\"false\",\"false\",\"false\",\"false\",\"true\",\"false\",\"false\",\"false\",\"false\",\"false\",\"false\",\"false\",\"false\",\"false\",\"false\",\"false\",\"false\",\"false\",\"false\",\"false\",\"false\",\"false\",\"false\",\"false\",\"false\",\"false\",\"false\",\"false\",\"false\",\"false\",\"false\",\"false\",\"false\",\"false\",\"false\",\"false\",\"false\",\"false\",\"false\",\"false\",\"false\",\"false\",\"false\",\"false\",\"false\",\"false\",\"false\",\"false\",\"false\",\"false\",\"false\",\"false\",\"false\",\"false\",\"false\",\"false\",\"false\",\"false\",\"false\",\"false\",\"false\",\"false\",\"false\",\"false\",\"false\",\"false\",\"false\",\"false\",\"false\",\"false\",\"false\",\"false\",\"false\",\"false\",\"false\",\"false\",\"false\",\"false\",\"false\",\"false\",\"false\",\"false\",\"false\",\"false\",\"false\",\"false\",\"false\",\"false\",\"false\",\"false\",\"false\",\"false\",\"false\",\"false\",\"false\",\"false\",\"false\",\"false\",\"false\",\"false\",\"false\",\"false\",\"false\",\"false\",\"false\",\"false\",\"true\",\"false\",\"false\",\"false\",\"false\",\"false\",\"false\",\"false\",\"false\",\"false\",\"false\",\"true\",\"false\",\"false\",\"false\",\"false\",\"false\",\"false\",\"false\",\"true\",\"false\",\"false\",\"false\",\"false\",\"false\",\"false\",\"false\",\"false\",\"false\",\"false\",\"false\",\"false\",\"false\",\"false\",\"false\",\"false\",\"false\",\"false\",\"false\",\"false\",\"false\",\"false\",\"false\",\"false\",\"false\",\"false\",\"false\",\"false\",\"false\",\"false\",\"false\",\"false\",\"false\",\"false\",\"false\",\"false\",\"false\",\"false\",\"false\",\"false\",\"false\",\"false\",\"false\",\"false\",\"false\",\"false\",\"false\",\"false\",\"false\",\"false\",\"false\",\"false\",\"false\",\"false\",\"false\",\"false\",\"false\",\"false\",\"false\",\"false\",\"false\",\"false\",\"false\",\"false\",\"false\",\"false\",\"false\",\"false\",\"false\",\"false\",\"false\",\"false\",\"false\",\"false\",\"false\",\"false\",\"false\",\"false\",\"false\",\"false\",\"false\",\"false\",\"false\",\"false\",\"false\",\"false\",\"false\",\"false\",\"false\",\"false\",\"false\",\"false\",\"false\",\"false\",\"false\",\"false\",\"false\",\"false\",\"false\",\"false\",\"false\",\"false\",\"false\",\"false\",\"false\",\"false\",\"false\",\"false\",\"false\",\"false\",\"false\",\"false\",\"false\",\"false\",\"false\",\"false\",\"false\",\"false\",\"false\",\"false\",\"false\",\"false\",\"false\",\"false\",\"false\",\"false\",\"false\",\"false\",\"false\",\"false\",\"false\",\"false\",\"false\",\"false\",\"false\",\"false\",\"false\",\"false\",\"false\",\"false\",\"false\",\"false\",\"false\",\"false\",\"false\",\"false\",\"false\",\"false\",\"false\",\"false\",\"false\",\"false\",\"false\",\"false\",\"false\",\"false\",\"false\",\"false\",\"false\",\"false\",\"false\",\"false\",\"false\",\"false\",\"false\",\"false\",\"false\",\"false\",\"false\",\"false\",\"false\",\"false\",\"false\",\"false\",\"false\",\"false\",\"false\",\"false\",\"true\",\"false\",\"false\",\"false\",\"false\",\"true\",\"false\",\"false\",\"false\",\"false\",\"false\",\"false\",\"false\",\"false\",\"false\",\"false\",\"false\",\"false\",\"false\",\"false\",\"false\",\"false\",\"false\",\"false\",\"false\",\"false\",\"false\",\"false\",\"false\",\"false\",\"false\",\"false\",\"false\",\"false\",\"false\",\"false\",\"false\",\"false\",\"false\",\"false\",\"false\",\"false\",\"false\",\"false\",\"false\",\"false\",\"false\",\"false\",\"false\",\"false\",\"false\",\"false\",\"false\",\"false\",\"false\",\"false\",\"false\",\"false\",\"false\",\"false\",\"false\",\"false\",\"false\",\"false\",\"false\",\"false\",\"false\",\"false\",\"false\",\"false\",\"false\",\"false\",\"false\",\"false\"],\"x\":{\"__ndarray__\":\"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\",\"dtype\":\"float64\",\"shape\":[440]},\"y\":{\"__ndarray__\":\"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\",\"dtype\":\"float64\",\"shape\":[440]}},\"selected\":{\"id\":\"2039\",\"type\":\"Selection\"},\"selection_policy\":{\"id\":\"2038\",\"type\":\"UnionRenderers\"}},\"id\":\"1936\",\"type\":\"ColumnDataSource\"},{\"attributes\":{\"filters\":[{\"id\":\"1992\",\"type\":\"GroupFilter\"}],\"source\":{\"id\":\"1990\",\"type\":\"ColumnDataSource\"}},\"id\":\"1993\",\"type\":\"CDSView\"},{\"attributes\":{\"factors\":[\"true\",\"false\"],\"palette\":[\"#1f77b4\",\"#ff7f0e\",\"#2ca02c\",\"#d62728\",\"#9467bd\",\"#8c564b\",\"#e377c2\",\"#7f7f7f\",\"#bcbd22\",\"#17becf\"]},\"id\":\"1937\",\"type\":\"CategoricalColorMapper\"},{\"attributes\":{},\"id\":\"1971\",\"type\":\"BasicTicker\"},{\"attributes\":{\"fill_color\":{\"field\":\"label\",\"transform\":{\"id\":\"1991\",\"type\":\"CategoricalColorMapper\"}},\"line_color\":{\"field\":\"label\",\"transform\":{\"id\":\"1991\",\"type\":\"CategoricalColorMapper\"}},\"x\":{\"field\":\"x\"},\"y\":{\"field\":\"y\"}},\"id\":\"1995\",\"type\":\"Circle\"},{\"attributes\":{\"factors\":[\"true\",\"false\"],\"palette\":[\"#1f77b4\",\"#ff7f0e\",\"#2ca02c\",\"#d62728\",\"#9467bd\",\"#8c564b\",\"#e377c2\",\"#7f7f7f\",\"#bcbd22\",\"#17becf\"]},\"id\":\"1829\",\"type\":\"CategoricalColorMapper\"},{\"attributes\":{},\"id\":\"1858\",\"type\":\"BasicTicker\"},{\"attributes\":{\"callback\":null},\"id\":\"1903\",\"type\":\"DataRange1d\"},{\"attributes\":{},\"id\":\"1978\",\"type\":\"SaveTool\"},{\"attributes\":{\"bottom_units\":\"screen\",\"fill_alpha\":{\"value\":0.5},\"fill_color\":{\"value\":\"lightgrey\"},\"left_units\":\"screen\",\"level\":\"overlay\",\"line_alpha\":{\"value\":1.0},\"line_color\":{\"value\":\"black\"},\"line_dash\":[4,4],\"line_width\":{\"value\":2},\"render_mode\":\"css\",\"right_units\":\"screen\",\"top_units\":\"screen\"},\"id\":\"2048\",\"type\":\"BoxAnnotation\"}],\"root_ids\":[\"2055\"]},\"title\":\"Bokeh Application\",\"version\":\"1.2.0\"}};\n",
       "  var render_items = [{\"docid\":\"682bb6da-c4b4-424a-9335-e2912cd9ad9c\",\"roots\":{\"2055\":\"65b2db27-540f-4522-8972-bb034b129788\"}}];\n",
       "  root.Bokeh.embed.embed_items_notebook(docs_json, render_items);\n",
       "\n",
       "  }\n",
       "  if (root.Bokeh !== undefined) {\n",
       "    embed_document(root);\n",
       "  } else {\n",
       "    var attempts = 0;\n",
       "    var timer = setInterval(function(root) {\n",
       "      if (root.Bokeh !== undefined) {\n",
       "        embed_document(root);\n",
       "        clearInterval(timer);\n",
       "      }\n",
       "      attempts++;\n",
       "      if (attempts > 100) {\n",
       "        console.log(\"Bokeh: ERROR: Unable to run BokehJS code because BokehJS library is missing\");\n",
       "        clearInterval(timer);\n",
       "      }\n",
       "    }, 10, root)\n",
       "  }\n",
       "})(window);"
      ],
      "application/vnd.bokehjs_exec.v0+json": ""
     },
     "metadata": {
      "application/vnd.bokehjs_exec.v0+json": {
       "id": "2055"
      }
     },
     "output_type": "display_data"
    }
   ],
   "source": [
    "show(gridplot(plot_list, ncols=2, plot_width=600, plot_height=400))"
   ]
  },
  {
   "cell_type": "markdown",
   "metadata": {},
   "source": [
    "There seems to be nothing abnormal with these samples with disconcordant imputed sex and self-reported gender. We will therefore trust that our computation is correct, and keep the samples."
   ]
  }
 ],
 "metadata": {
  "kernelspec": {
   "display_name": "Python [conda env:fargen-1-exome]",
   "language": "python",
   "name": "conda-env-fargen-1-exome-py"
  },
  "language_info": {
   "codemirror_mode": {
    "name": "ipython",
    "version": 3
   },
   "file_extension": ".py",
   "mimetype": "text/x-python",
   "name": "python",
   "nbconvert_exporter": "python",
   "pygments_lexer": "ipython3",
   "version": "3.7.10"
  }
 },
 "nbformat": 4,
 "nbformat_minor": 4
}
