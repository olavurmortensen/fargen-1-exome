{
 "cells": [
  {
   "cell_type": "markdown",
   "metadata": {},
   "source": [
    "# Gene statistic aggregation"
   ]
  },
  {
   "cell_type": "code",
   "execution_count": 1,
   "metadata": {},
   "outputs": [
    {
     "name": "stderr",
     "output_type": "stream",
     "text": [
      "Running on Apache Spark version 2.4.6\n",
      "SparkUI available at http://hms-beagle-5466c684ff-2l8nm:4041\n",
      "Welcome to\n",
      "     __  __     <>__\n",
      "    / /_/ /__  __/ /\n",
      "   / __  / _ `/ / /\n",
      "  /_/ /_/\\_,_/_/_/   version 0.2.58-3f304aae6ce2\n",
      "LOGGING: writing to /home/olavur/experiments/2020-11-13_fargen1_exome_analysis/fargen-1-exome/notebooks/hail-20201209-1053-0.2.58-3f304aae6ce2.log\n"
     ]
    }
   ],
   "source": [
    "import hail as hl\n",
    "hl.init()"
   ]
  },
  {
   "cell_type": "code",
   "execution_count": 2,
   "metadata": {},
   "outputs": [
    {
     "data": {
      "text/html": [
       "\n",
       "    <div class=\"bk-root\">\n",
       "        <a href=\"https://bokeh.pydata.org\" target=\"_blank\" class=\"bk-logo bk-logo-small bk-logo-notebook\"></a>\n",
       "        <span id=\"1001\">Loading BokehJS ...</span>\n",
       "    </div>"
      ]
     },
     "metadata": {},
     "output_type": "display_data"
    },
    {
     "data": {
      "application/javascript": [
       "\n",
       "(function(root) {\n",
       "  function now() {\n",
       "    return new Date();\n",
       "  }\n",
       "\n",
       "  var force = true;\n",
       "\n",
       "  if (typeof root._bokeh_onload_callbacks === \"undefined\" || force === true) {\n",
       "    root._bokeh_onload_callbacks = [];\n",
       "    root._bokeh_is_loading = undefined;\n",
       "  }\n",
       "\n",
       "  var JS_MIME_TYPE = 'application/javascript';\n",
       "  var HTML_MIME_TYPE = 'text/html';\n",
       "  var EXEC_MIME_TYPE = 'application/vnd.bokehjs_exec.v0+json';\n",
       "  var CLASS_NAME = 'output_bokeh rendered_html';\n",
       "\n",
       "  /**\n",
       "   * Render data to the DOM node\n",
       "   */\n",
       "  function render(props, node) {\n",
       "    var script = document.createElement(\"script\");\n",
       "    node.appendChild(script);\n",
       "  }\n",
       "\n",
       "  /**\n",
       "   * Handle when an output is cleared or removed\n",
       "   */\n",
       "  function handleClearOutput(event, handle) {\n",
       "    var cell = handle.cell;\n",
       "\n",
       "    var id = cell.output_area._bokeh_element_id;\n",
       "    var server_id = cell.output_area._bokeh_server_id;\n",
       "    // Clean up Bokeh references\n",
       "    if (id != null && id in Bokeh.index) {\n",
       "      Bokeh.index[id].model.document.clear();\n",
       "      delete Bokeh.index[id];\n",
       "    }\n",
       "\n",
       "    if (server_id !== undefined) {\n",
       "      // Clean up Bokeh references\n",
       "      var cmd = \"from bokeh.io.state import curstate; print(curstate().uuid_to_server['\" + server_id + \"'].get_sessions()[0].document.roots[0]._id)\";\n",
       "      cell.notebook.kernel.execute(cmd, {\n",
       "        iopub: {\n",
       "          output: function(msg) {\n",
       "            var id = msg.content.text.trim();\n",
       "            if (id in Bokeh.index) {\n",
       "              Bokeh.index[id].model.document.clear();\n",
       "              delete Bokeh.index[id];\n",
       "            }\n",
       "          }\n",
       "        }\n",
       "      });\n",
       "      // Destroy server and session\n",
       "      var cmd = \"import bokeh.io.notebook as ion; ion.destroy_server('\" + server_id + \"')\";\n",
       "      cell.notebook.kernel.execute(cmd);\n",
       "    }\n",
       "  }\n",
       "\n",
       "  /**\n",
       "   * Handle when a new output is added\n",
       "   */\n",
       "  function handleAddOutput(event, handle) {\n",
       "    var output_area = handle.output_area;\n",
       "    var output = handle.output;\n",
       "\n",
       "    // limit handleAddOutput to display_data with EXEC_MIME_TYPE content only\n",
       "    if ((output.output_type != \"display_data\") || (!output.data.hasOwnProperty(EXEC_MIME_TYPE))) {\n",
       "      return\n",
       "    }\n",
       "\n",
       "    var toinsert = output_area.element.find(\".\" + CLASS_NAME.split(' ')[0]);\n",
       "\n",
       "    if (output.metadata[EXEC_MIME_TYPE][\"id\"] !== undefined) {\n",
       "      toinsert[toinsert.length - 1].firstChild.textContent = output.data[JS_MIME_TYPE];\n",
       "      // store reference to embed id on output_area\n",
       "      output_area._bokeh_element_id = output.metadata[EXEC_MIME_TYPE][\"id\"];\n",
       "    }\n",
       "    if (output.metadata[EXEC_MIME_TYPE][\"server_id\"] !== undefined) {\n",
       "      var bk_div = document.createElement(\"div\");\n",
       "      bk_div.innerHTML = output.data[HTML_MIME_TYPE];\n",
       "      var script_attrs = bk_div.children[0].attributes;\n",
       "      for (var i = 0; i < script_attrs.length; i++) {\n",
       "        toinsert[toinsert.length - 1].firstChild.setAttribute(script_attrs[i].name, script_attrs[i].value);\n",
       "      }\n",
       "      // store reference to server id on output_area\n",
       "      output_area._bokeh_server_id = output.metadata[EXEC_MIME_TYPE][\"server_id\"];\n",
       "    }\n",
       "  }\n",
       "\n",
       "  function register_renderer(events, OutputArea) {\n",
       "\n",
       "    function append_mime(data, metadata, element) {\n",
       "      // create a DOM node to render to\n",
       "      var toinsert = this.create_output_subarea(\n",
       "        metadata,\n",
       "        CLASS_NAME,\n",
       "        EXEC_MIME_TYPE\n",
       "      );\n",
       "      this.keyboard_manager.register_events(toinsert);\n",
       "      // Render to node\n",
       "      var props = {data: data, metadata: metadata[EXEC_MIME_TYPE]};\n",
       "      render(props, toinsert[toinsert.length - 1]);\n",
       "      element.append(toinsert);\n",
       "      return toinsert\n",
       "    }\n",
       "\n",
       "    /* Handle when an output is cleared or removed */\n",
       "    events.on('clear_output.CodeCell', handleClearOutput);\n",
       "    events.on('delete.Cell', handleClearOutput);\n",
       "\n",
       "    /* Handle when a new output is added */\n",
       "    events.on('output_added.OutputArea', handleAddOutput);\n",
       "\n",
       "    /**\n",
       "     * Register the mime type and append_mime function with output_area\n",
       "     */\n",
       "    OutputArea.prototype.register_mime_type(EXEC_MIME_TYPE, append_mime, {\n",
       "      /* Is output safe? */\n",
       "      safe: true,\n",
       "      /* Index of renderer in `output_area.display_order` */\n",
       "      index: 0\n",
       "    });\n",
       "  }\n",
       "\n",
       "  // register the mime type if in Jupyter Notebook environment and previously unregistered\n",
       "  if (root.Jupyter !== undefined) {\n",
       "    var events = require('base/js/events');\n",
       "    var OutputArea = require('notebook/js/outputarea').OutputArea;\n",
       "\n",
       "    if (OutputArea.prototype.mime_types().indexOf(EXEC_MIME_TYPE) == -1) {\n",
       "      register_renderer(events, OutputArea);\n",
       "    }\n",
       "  }\n",
       "\n",
       "  \n",
       "  if (typeof (root._bokeh_timeout) === \"undefined\" || force === true) {\n",
       "    root._bokeh_timeout = Date.now() + 5000;\n",
       "    root._bokeh_failed_load = false;\n",
       "  }\n",
       "\n",
       "  var NB_LOAD_WARNING = {'data': {'text/html':\n",
       "     \"<div style='background-color: #fdd'>\\n\"+\n",
       "     \"<p>\\n\"+\n",
       "     \"BokehJS does not appear to have successfully loaded. If loading BokehJS from CDN, this \\n\"+\n",
       "     \"may be due to a slow or bad network connection. Possible fixes:\\n\"+\n",
       "     \"</p>\\n\"+\n",
       "     \"<ul>\\n\"+\n",
       "     \"<li>re-rerun `output_notebook()` to attempt to load from CDN again, or</li>\\n\"+\n",
       "     \"<li>use INLINE resources instead, as so:</li>\\n\"+\n",
       "     \"</ul>\\n\"+\n",
       "     \"<code>\\n\"+\n",
       "     \"from bokeh.resources import INLINE\\n\"+\n",
       "     \"output_notebook(resources=INLINE)\\n\"+\n",
       "     \"</code>\\n\"+\n",
       "     \"</div>\"}};\n",
       "\n",
       "  function display_loaded() {\n",
       "    var el = document.getElementById(\"1001\");\n",
       "    if (el != null) {\n",
       "      el.textContent = \"BokehJS is loading...\";\n",
       "    }\n",
       "    if (root.Bokeh !== undefined) {\n",
       "      if (el != null) {\n",
       "        el.textContent = \"BokehJS \" + root.Bokeh.version + \" successfully loaded.\";\n",
       "      }\n",
       "    } else if (Date.now() < root._bokeh_timeout) {\n",
       "      setTimeout(display_loaded, 100)\n",
       "    }\n",
       "  }\n",
       "\n",
       "\n",
       "  function run_callbacks() {\n",
       "    try {\n",
       "      root._bokeh_onload_callbacks.forEach(function(callback) {\n",
       "        if (callback != null)\n",
       "          callback();\n",
       "      });\n",
       "    } finally {\n",
       "      delete root._bokeh_onload_callbacks\n",
       "    }\n",
       "    console.debug(\"Bokeh: all callbacks have finished\");\n",
       "  }\n",
       "\n",
       "  function load_libs(css_urls, js_urls, callback) {\n",
       "    if (css_urls == null) css_urls = [];\n",
       "    if (js_urls == null) js_urls = [];\n",
       "\n",
       "    root._bokeh_onload_callbacks.push(callback);\n",
       "    if (root._bokeh_is_loading > 0) {\n",
       "      console.debug(\"Bokeh: BokehJS is being loaded, scheduling callback at\", now());\n",
       "      return null;\n",
       "    }\n",
       "    if (js_urls == null || js_urls.length === 0) {\n",
       "      run_callbacks();\n",
       "      return null;\n",
       "    }\n",
       "    console.debug(\"Bokeh: BokehJS not loaded, scheduling load and callback at\", now());\n",
       "    root._bokeh_is_loading = css_urls.length + js_urls.length;\n",
       "\n",
       "    function on_load() {\n",
       "      root._bokeh_is_loading--;\n",
       "      if (root._bokeh_is_loading === 0) {\n",
       "        console.debug(\"Bokeh: all BokehJS libraries/stylesheets loaded\");\n",
       "        run_callbacks()\n",
       "      }\n",
       "    }\n",
       "\n",
       "    function on_error() {\n",
       "      console.error(\"failed to load \" + url);\n",
       "    }\n",
       "\n",
       "    for (var i = 0; i < css_urls.length; i++) {\n",
       "      var url = css_urls[i];\n",
       "      const element = document.createElement(\"link\");\n",
       "      element.onload = on_load;\n",
       "      element.onerror = on_error;\n",
       "      element.rel = \"stylesheet\";\n",
       "      element.type = \"text/css\";\n",
       "      element.href = url;\n",
       "      console.debug(\"Bokeh: injecting link tag for BokehJS stylesheet: \", url);\n",
       "      document.body.appendChild(element);\n",
       "    }\n",
       "\n",
       "    for (var i = 0; i < js_urls.length; i++) {\n",
       "      var url = js_urls[i];\n",
       "      var element = document.createElement('script');\n",
       "      element.onload = on_load;\n",
       "      element.onerror = on_error;\n",
       "      element.async = false;\n",
       "      element.src = url;\n",
       "      console.debug(\"Bokeh: injecting script tag for BokehJS library: \", url);\n",
       "      document.head.appendChild(element);\n",
       "    }\n",
       "  };var element = document.getElementById(\"1001\");\n",
       "  if (element == null) {\n",
       "    console.error(\"Bokeh: ERROR: autoload.js configured with elementid '1001' but no matching script tag was found. \")\n",
       "    return false;\n",
       "  }\n",
       "\n",
       "  function inject_raw_css(css) {\n",
       "    const element = document.createElement(\"style\");\n",
       "    element.appendChild(document.createTextNode(css));\n",
       "    document.body.appendChild(element);\n",
       "  }\n",
       "\n",
       "  var js_urls = [\"https://cdn.pydata.org/bokeh/release/bokeh-1.2.0.min.js\", \"https://cdn.pydata.org/bokeh/release/bokeh-widgets-1.2.0.min.js\", \"https://cdn.pydata.org/bokeh/release/bokeh-tables-1.2.0.min.js\", \"https://cdn.pydata.org/bokeh/release/bokeh-gl-1.2.0.min.js\"];\n",
       "  var css_urls = [\"https://cdn.pydata.org/bokeh/release/bokeh-1.2.0.min.css\", \"https://cdn.pydata.org/bokeh/release/bokeh-widgets-1.2.0.min.css\", \"https://cdn.pydata.org/bokeh/release/bokeh-tables-1.2.0.min.css\"];\n",
       "\n",
       "  var inline_js = [\n",
       "    function(Bokeh) {\n",
       "      Bokeh.set_log_level(\"info\");\n",
       "    },\n",
       "    \n",
       "    function(Bokeh) {\n",
       "      \n",
       "    },\n",
       "    function(Bokeh) {} // ensure no trailing comma for IE\n",
       "  ];\n",
       "\n",
       "  function run_inline_js() {\n",
       "    \n",
       "    if ((root.Bokeh !== undefined) || (force === true)) {\n",
       "      for (var i = 0; i < inline_js.length; i++) {\n",
       "        inline_js[i].call(root, root.Bokeh);\n",
       "      }if (force === true) {\n",
       "        display_loaded();\n",
       "      }} else if (Date.now() < root._bokeh_timeout) {\n",
       "      setTimeout(run_inline_js, 100);\n",
       "    } else if (!root._bokeh_failed_load) {\n",
       "      console.log(\"Bokeh: BokehJS failed to load within specified timeout.\");\n",
       "      root._bokeh_failed_load = true;\n",
       "    } else if (force !== true) {\n",
       "      var cell = $(document.getElementById(\"1001\")).parents('.cell').data().cell;\n",
       "      cell.output_area.append_execute_result(NB_LOAD_WARNING)\n",
       "    }\n",
       "\n",
       "  }\n",
       "\n",
       "  if (root._bokeh_is_loading === 0) {\n",
       "    console.debug(\"Bokeh: BokehJS loaded, going straight to plotting\");\n",
       "    run_inline_js();\n",
       "  } else {\n",
       "    load_libs(css_urls, js_urls, function() {\n",
       "      console.debug(\"Bokeh: BokehJS plotting callback run at\", now());\n",
       "      run_inline_js();\n",
       "    });\n",
       "  }\n",
       "}(window));"
      ],
      "application/vnd.bokehjs_load.v0+json": "\n(function(root) {\n  function now() {\n    return new Date();\n  }\n\n  var force = true;\n\n  if (typeof root._bokeh_onload_callbacks === \"undefined\" || force === true) {\n    root._bokeh_onload_callbacks = [];\n    root._bokeh_is_loading = undefined;\n  }\n\n  \n\n  \n  if (typeof (root._bokeh_timeout) === \"undefined\" || force === true) {\n    root._bokeh_timeout = Date.now() + 5000;\n    root._bokeh_failed_load = false;\n  }\n\n  var NB_LOAD_WARNING = {'data': {'text/html':\n     \"<div style='background-color: #fdd'>\\n\"+\n     \"<p>\\n\"+\n     \"BokehJS does not appear to have successfully loaded. If loading BokehJS from CDN, this \\n\"+\n     \"may be due to a slow or bad network connection. Possible fixes:\\n\"+\n     \"</p>\\n\"+\n     \"<ul>\\n\"+\n     \"<li>re-rerun `output_notebook()` to attempt to load from CDN again, or</li>\\n\"+\n     \"<li>use INLINE resources instead, as so:</li>\\n\"+\n     \"</ul>\\n\"+\n     \"<code>\\n\"+\n     \"from bokeh.resources import INLINE\\n\"+\n     \"output_notebook(resources=INLINE)\\n\"+\n     \"</code>\\n\"+\n     \"</div>\"}};\n\n  function display_loaded() {\n    var el = document.getElementById(\"1001\");\n    if (el != null) {\n      el.textContent = \"BokehJS is loading...\";\n    }\n    if (root.Bokeh !== undefined) {\n      if (el != null) {\n        el.textContent = \"BokehJS \" + root.Bokeh.version + \" successfully loaded.\";\n      }\n    } else if (Date.now() < root._bokeh_timeout) {\n      setTimeout(display_loaded, 100)\n    }\n  }\n\n\n  function run_callbacks() {\n    try {\n      root._bokeh_onload_callbacks.forEach(function(callback) {\n        if (callback != null)\n          callback();\n      });\n    } finally {\n      delete root._bokeh_onload_callbacks\n    }\n    console.debug(\"Bokeh: all callbacks have finished\");\n  }\n\n  function load_libs(css_urls, js_urls, callback) {\n    if (css_urls == null) css_urls = [];\n    if (js_urls == null) js_urls = [];\n\n    root._bokeh_onload_callbacks.push(callback);\n    if (root._bokeh_is_loading > 0) {\n      console.debug(\"Bokeh: BokehJS is being loaded, scheduling callback at\", now());\n      return null;\n    }\n    if (js_urls == null || js_urls.length === 0) {\n      run_callbacks();\n      return null;\n    }\n    console.debug(\"Bokeh: BokehJS not loaded, scheduling load and callback at\", now());\n    root._bokeh_is_loading = css_urls.length + js_urls.length;\n\n    function on_load() {\n      root._bokeh_is_loading--;\n      if (root._bokeh_is_loading === 0) {\n        console.debug(\"Bokeh: all BokehJS libraries/stylesheets loaded\");\n        run_callbacks()\n      }\n    }\n\n    function on_error() {\n      console.error(\"failed to load \" + url);\n    }\n\n    for (var i = 0; i < css_urls.length; i++) {\n      var url = css_urls[i];\n      const element = document.createElement(\"link\");\n      element.onload = on_load;\n      element.onerror = on_error;\n      element.rel = \"stylesheet\";\n      element.type = \"text/css\";\n      element.href = url;\n      console.debug(\"Bokeh: injecting link tag for BokehJS stylesheet: \", url);\n      document.body.appendChild(element);\n    }\n\n    for (var i = 0; i < js_urls.length; i++) {\n      var url = js_urls[i];\n      var element = document.createElement('script');\n      element.onload = on_load;\n      element.onerror = on_error;\n      element.async = false;\n      element.src = url;\n      console.debug(\"Bokeh: injecting script tag for BokehJS library: \", url);\n      document.head.appendChild(element);\n    }\n  };var element = document.getElementById(\"1001\");\n  if (element == null) {\n    console.error(\"Bokeh: ERROR: autoload.js configured with elementid '1001' but no matching script tag was found. \")\n    return false;\n  }\n\n  function inject_raw_css(css) {\n    const element = document.createElement(\"style\");\n    element.appendChild(document.createTextNode(css));\n    document.body.appendChild(element);\n  }\n\n  var js_urls = [\"https://cdn.pydata.org/bokeh/release/bokeh-1.2.0.min.js\", \"https://cdn.pydata.org/bokeh/release/bokeh-widgets-1.2.0.min.js\", \"https://cdn.pydata.org/bokeh/release/bokeh-tables-1.2.0.min.js\", \"https://cdn.pydata.org/bokeh/release/bokeh-gl-1.2.0.min.js\"];\n  var css_urls = [\"https://cdn.pydata.org/bokeh/release/bokeh-1.2.0.min.css\", \"https://cdn.pydata.org/bokeh/release/bokeh-widgets-1.2.0.min.css\", \"https://cdn.pydata.org/bokeh/release/bokeh-tables-1.2.0.min.css\"];\n\n  var inline_js = [\n    function(Bokeh) {\n      Bokeh.set_log_level(\"info\");\n    },\n    \n    function(Bokeh) {\n      \n    },\n    function(Bokeh) {} // ensure no trailing comma for IE\n  ];\n\n  function run_inline_js() {\n    \n    if ((root.Bokeh !== undefined) || (force === true)) {\n      for (var i = 0; i < inline_js.length; i++) {\n        inline_js[i].call(root, root.Bokeh);\n      }if (force === true) {\n        display_loaded();\n      }} else if (Date.now() < root._bokeh_timeout) {\n      setTimeout(run_inline_js, 100);\n    } else if (!root._bokeh_failed_load) {\n      console.log(\"Bokeh: BokehJS failed to load within specified timeout.\");\n      root._bokeh_failed_load = true;\n    } else if (force !== true) {\n      var cell = $(document.getElementById(\"1001\")).parents('.cell').data().cell;\n      cell.output_area.append_execute_result(NB_LOAD_WARNING)\n    }\n\n  }\n\n  if (root._bokeh_is_loading === 0) {\n    console.debug(\"Bokeh: BokehJS loaded, going straight to plotting\");\n    run_inline_js();\n  } else {\n    load_libs(css_urls, js_urls, function() {\n      console.debug(\"Bokeh: BokehJS plotting callback run at\", now());\n      run_inline_js();\n    });\n  }\n}(window));"
     },
     "metadata": {},
     "output_type": "display_data"
    }
   ],
   "source": [
    "from bokeh.io import show, output_notebook\n",
    "from bokeh.layouts import gridplot\n",
    "from bokeh.models.scales import LogScale\n",
    "output_notebook()"
   ]
  },
  {
   "cell_type": "code",
   "execution_count": 3,
   "metadata": {},
   "outputs": [],
   "source": [
    "mt = hl.read_matrix_table('/home/olavur/experiments/2020-11-13_fargen1_exome_analysis/data/mt/filtered.mt')"
   ]
  },
  {
   "cell_type": "markdown",
   "metadata": {},
   "source": [
    "Annotate each locus with the gene name (w.r.t. the first transcript)."
   ]
  },
  {
   "cell_type": "code",
   "execution_count": 4,
   "metadata": {},
   "outputs": [],
   "source": [
    "mt = mt.annotate_rows(gene=mt.info.ANN.map(lambda x: x.split('\\|')[3]))\n",
    "mt = mt.annotate_rows(gene1=mt.gene[0])"
   ]
  },
  {
   "cell_type": "markdown",
   "metadata": {},
   "source": [
    "Annotate each locus with the variant impact (w.r.t. the first transcript)."
   ]
  },
  {
   "cell_type": "code",
   "execution_count": 5,
   "metadata": {},
   "outputs": [],
   "source": [
    "mt = mt.annotate_rows(impact=mt.info.ANN.map(lambda x: x.split('\\|')[2]))\n",
    "mt = mt.annotate_rows(impact1=mt.impact[0])"
   ]
  },
  {
   "cell_type": "markdown",
   "metadata": {},
   "source": [
    "Count number of heterozygous genotypes per site."
   ]
  },
  {
   "cell_type": "code",
   "execution_count": 6,
   "metadata": {},
   "outputs": [],
   "source": [
    "mt = mt.annotate_rows(n_het=hl.agg.count_where(mt.GT.is_het()))"
   ]
  },
  {
   "cell_type": "markdown",
   "metadata": {},
   "source": [
    "Group sites (rows) by gene name and collect stats:\n",
    "\n",
    "* Number of high impact variants\n",
    "* Number of sites\n",
    "* Average heterozygosity"
   ]
  },
  {
   "cell_type": "code",
   "execution_count": 7,
   "metadata": {},
   "outputs": [],
   "source": [
    "rows = mt.rows()\n",
    "gene_stats = (rows.group_by(rows.gene1)\n",
    "                       .aggregate(n_high_impact = hl.agg.count_where(rows.impact1 == 'HIGH'),\n",
    "                                  n_sites=hl.agg.count(),\n",
    "                                  avg_het=hl.agg.mean(rows.n_het)))"
   ]
  },
  {
   "cell_type": "markdown",
   "metadata": {},
   "source": [
    "Make a histogram of number of sites per gene."
   ]
  },
  {
   "cell_type": "code",
   "execution_count": 8,
   "metadata": {},
   "outputs": [
    {
     "name": "stderr",
     "output_type": "stream",
     "text": [
      "2020-12-09 10:53:47 Hail: INFO: Ordering unsorted dataset with network shuffle\n"
     ]
    },
    {
     "data": {
      "text/html": [
       "\n",
       "\n",
       "\n",
       "\n",
       "\n",
       "\n",
       "  <div class=\"bk-root\" id=\"ca6a5d23-cc59-40fa-92cb-2293bbea7863\" data-root-id=\"1002\"></div>\n"
      ]
     },
     "metadata": {},
     "output_type": "display_data"
    },
    {
     "data": {
      "application/javascript": [
       "(function(root) {\n",
       "  function embed_document(root) {\n",
       "    \n",
       "  var docs_json = {\"698f303f-2879-4629-8796-fbb6cadfba09\":{\"roots\":{\"references\":[{\"attributes\":{\"background_fill_color\":{\"value\":\"#EEEEEE\"},\"below\":[{\"id\":\"1013\",\"type\":\"LinearAxis\"}],\"center\":[{\"id\":\"1017\",\"type\":\"Grid\"},{\"id\":\"1022\",\"type\":\"Grid\"}],\"left\":[{\"id\":\"1018\",\"type\":\"LinearAxis\"}],\"plot_height\":500,\"plot_width\":800,\"renderers\":[{\"id\":\"1039\",\"type\":\"GlyphRenderer\"}],\"title\":{\"id\":\"1003\",\"type\":\"Title\"},\"toolbar\":{\"id\":\"1029\",\"type\":\"Toolbar\"},\"x_range\":{\"id\":\"1005\",\"type\":\"Range1d\"},\"x_scale\":{\"id\":\"1009\",\"type\":\"LinearScale\"},\"y_range\":{\"id\":\"1007\",\"type\":\"DataRange1d\"},\"y_scale\":{\"id\":\"1011\",\"type\":\"LinearScale\"}},\"id\":\"1002\",\"subtype\":\"Figure\",\"type\":\"Plot\"},{\"attributes\":{},\"id\":\"1024\",\"type\":\"WheelZoomTool\"},{\"attributes\":{},\"id\":\"1042\",\"type\":\"BasicTickFormatter\"},{\"attributes\":{\"callback\":null,\"data\":{\"left\":[0.0,2.0,4.0,6.0,8.0,10.0,12.0,14.0,16.0,18.0,20.0,22.0,24.0,26.0,28.0,30.0,32.0,34.0,36.0,38.0,40.0,42.0,44.0,46.0,48.0,50.0,52.0,54.0,56.0,58.0,60.0,62.0,64.0,66.0,68.0,70.0,72.0,74.0,76.0,78.0,80.0,82.0,84.0,86.0,88.0,90.0,92.0,94.0,96.0,98.0,100.0,102.0,104.0,106.0,108.0,110.0,112.0,114.0,116.0,118.0,120.0,122.0,124.0,126.0,128.0,130.0,132.0,134.0,136.0,138.0,140.0,142.0,144.0,146.0,148.0,150.0,152.0,154.0,156.0,158.0,160.0,162.0,164.0,166.0,168.0,170.0,172.0,174.0,176.0,178.0,180.0,182.0,184.0,186.0,188.0,190.0,192.0,194.0,196.0,198.0],\"right\":[2.0,4.0,6.0,8.0,10.0,12.0,14.0,16.0,18.0,20.0,22.0,24.0,26.0,28.0,30.0,32.0,34.0,36.0,38.0,40.0,42.0,44.0,46.0,48.0,50.0,52.0,54.0,56.0,58.0,60.0,62.0,64.0,66.0,68.0,70.0,72.0,74.0,76.0,78.0,80.0,82.0,84.0,86.0,88.0,90.0,92.0,94.0,96.0,98.0,100.0,102.0,104.0,106.0,108.0,110.0,112.0,114.0,116.0,118.0,120.0,122.0,124.0,126.0,128.0,130.0,132.0,134.0,136.0,138.0,140.0,142.0,144.0,146.0,148.0,150.0,152.0,154.0,156.0,158.0,160.0,162.0,164.0,166.0,168.0,170.0,172.0,174.0,176.0,178.0,180.0,182.0,184.0,186.0,188.0,190.0,192.0,194.0,196.0,198.0,200.0],\"top\":[2295,3511,2968,2479,1815,1454,1253,964,778,579,445,335,254,211,181,131,117,77,42,35,43,35,40,24,19,17,16,12,12,10,4,5,4,3,0,1,2,1,2,2,3,1,2,2,1,2,2,0,0,0,0,0,0,1,0,1,1,0,1,1,0,0,0,0,0,0,0,0,0,0,0,0,0,0,0,1,0,1,1,0,0,0,0,0,0,1,0,1,0,0,0,0,0,0,0,0,0,0,1,0]},\"selected\":{\"id\":\"1047\",\"type\":\"Selection\"},\"selection_policy\":{\"id\":\"1046\",\"type\":\"UnionRenderers\"}},\"id\":\"1036\",\"type\":\"ColumnDataSource\"},{\"attributes\":{\"source\":{\"id\":\"1036\",\"type\":\"ColumnDataSource\"}},\"id\":\"1040\",\"type\":\"CDSView\"},{\"attributes\":{\"axis_label\":\"Frequency\",\"formatter\":{\"id\":\"1042\",\"type\":\"BasicTickFormatter\"},\"ticker\":{\"id\":\"1019\",\"type\":\"BasicTicker\"}},\"id\":\"1018\",\"type\":\"LinearAxis\"},{\"attributes\":{},\"id\":\"1009\",\"type\":\"LinearScale\"},{\"attributes\":{\"callback\":null,\"end\":210.0,\"start\":-10.0},\"id\":\"1005\",\"type\":\"Range1d\"},{\"attributes\":{},\"id\":\"1046\",\"type\":\"UnionRenderers\"},{\"attributes\":{\"text\":\"Histogram of number of sites per gene\"},\"id\":\"1003\",\"type\":\"Title\"},{\"attributes\":{\"bottom_units\":\"screen\",\"fill_alpha\":{\"value\":0.5},\"fill_color\":{\"value\":\"lightgrey\"},\"left_units\":\"screen\",\"level\":\"overlay\",\"line_alpha\":{\"value\":1.0},\"line_color\":{\"value\":\"black\"},\"line_dash\":[4,4],\"line_width\":{\"value\":2},\"render_mode\":\"css\",\"right_units\":\"screen\",\"top_units\":\"screen\"},\"id\":\"1048\",\"type\":\"BoxAnnotation\"},{\"attributes\":{},\"id\":\"1027\",\"type\":\"ResetTool\"},{\"attributes\":{},\"id\":\"1011\",\"type\":\"LinearScale\"},{\"attributes\":{\"data_source\":{\"id\":\"1036\",\"type\":\"ColumnDataSource\"},\"glyph\":{\"id\":\"1037\",\"type\":\"Quad\"},\"hover_glyph\":null,\"muted_glyph\":null,\"nonselection_glyph\":{\"id\":\"1038\",\"type\":\"Quad\"},\"selection_glyph\":null,\"view\":{\"id\":\"1040\",\"type\":\"CDSView\"}},\"id\":\"1039\",\"type\":\"GlyphRenderer\"},{\"attributes\":{},\"id\":\"1026\",\"type\":\"SaveTool\"},{\"attributes\":{},\"id\":\"1028\",\"type\":\"HelpTool\"},{\"attributes\":{\"callback\":null},\"id\":\"1007\",\"type\":\"DataRange1d\"},{\"attributes\":{},\"id\":\"1044\",\"type\":\"BasicTickFormatter\"},{\"attributes\":{\"ticker\":{\"id\":\"1014\",\"type\":\"BasicTicker\"}},\"id\":\"1017\",\"type\":\"Grid\"},{\"attributes\":{\"active_drag\":\"auto\",\"active_inspect\":\"auto\",\"active_multi\":null,\"active_scroll\":\"auto\",\"active_tap\":\"auto\",\"tools\":[{\"id\":\"1023\",\"type\":\"PanTool\"},{\"id\":\"1024\",\"type\":\"WheelZoomTool\"},{\"id\":\"1025\",\"type\":\"BoxZoomTool\"},{\"id\":\"1026\",\"type\":\"SaveTool\"},{\"id\":\"1027\",\"type\":\"ResetTool\"},{\"id\":\"1028\",\"type\":\"HelpTool\"}]},\"id\":\"1029\",\"type\":\"Toolbar\"},{\"attributes\":{\"dimension\":1,\"ticker\":{\"id\":\"1019\",\"type\":\"BasicTicker\"}},\"id\":\"1022\",\"type\":\"Grid\"},{\"attributes\":{\"overlay\":{\"id\":\"1048\",\"type\":\"BoxAnnotation\"}},\"id\":\"1025\",\"type\":\"BoxZoomTool\"},{\"attributes\":{\"bottom\":{\"value\":0},\"fill_color\":{\"value\":\"#1f77b4\"},\"left\":{\"field\":\"left\"},\"right\":{\"field\":\"right\"},\"top\":{\"field\":\"top\"}},\"id\":\"1037\",\"type\":\"Quad\"},{\"attributes\":{\"formatter\":{\"id\":\"1044\",\"type\":\"BasicTickFormatter\"},\"ticker\":{\"id\":\"1014\",\"type\":\"BasicTicker\"}},\"id\":\"1013\",\"type\":\"LinearAxis\"},{\"attributes\":{},\"id\":\"1047\",\"type\":\"Selection\"},{\"attributes\":{\"bottom\":{\"value\":0},\"fill_alpha\":{\"value\":0.1},\"fill_color\":{\"value\":\"#1f77b4\"},\"left\":{\"field\":\"left\"},\"line_alpha\":{\"value\":0.1},\"line_color\":{\"value\":\"#1f77b4\"},\"right\":{\"field\":\"right\"},\"top\":{\"field\":\"top\"}},\"id\":\"1038\",\"type\":\"Quad\"},{\"attributes\":{},\"id\":\"1014\",\"type\":\"BasicTicker\"},{\"attributes\":{},\"id\":\"1023\",\"type\":\"PanTool\"},{\"attributes\":{},\"id\":\"1019\",\"type\":\"BasicTicker\"}],\"root_ids\":[\"1002\"]},\"title\":\"Bokeh Application\",\"version\":\"1.2.0\"}};\n",
       "  var render_items = [{\"docid\":\"698f303f-2879-4629-8796-fbb6cadfba09\",\"roots\":{\"1002\":\"ca6a5d23-cc59-40fa-92cb-2293bbea7863\"}}];\n",
       "  root.Bokeh.embed.embed_items_notebook(docs_json, render_items);\n",
       "\n",
       "  }\n",
       "  if (root.Bokeh !== undefined) {\n",
       "    embed_document(root);\n",
       "  } else {\n",
       "    var attempts = 0;\n",
       "    var timer = setInterval(function(root) {\n",
       "      if (root.Bokeh !== undefined) {\n",
       "        embed_document(root);\n",
       "        clearInterval(timer);\n",
       "      }\n",
       "      attempts++;\n",
       "      if (attempts > 100) {\n",
       "        console.log(\"Bokeh: ERROR: Unable to run BokehJS code because BokehJS library is missing\");\n",
       "        clearInterval(timer);\n",
       "      }\n",
       "    }, 10, root)\n",
       "  }\n",
       "})(window);"
      ],
      "application/vnd.bokehjs_exec.v0+json": ""
     },
     "metadata": {
      "application/vnd.bokehjs_exec.v0+json": {
       "id": "1002"
      }
     },
     "output_type": "display_data"
    }
   ],
   "source": [
    "p = hl.plot.histogram(gene_stats.n_sites, range=(0, 200), bins=100, title='Histogram of number of sites per gene')\n",
    "p.plot_width = 800\n",
    "p.plot_height = 500\n",
    "show(p)"
   ]
  },
  {
   "cell_type": "code",
   "execution_count": 9,
   "metadata": {},
   "outputs": [
    {
     "name": "stderr",
     "output_type": "stream",
     "text": [
      "2020-12-09 10:53:55 Hail: INFO: Ordering unsorted dataset with network shuffle\n"
     ]
    },
    {
     "data": {
      "text/html": [
       "\n",
       "\n",
       "\n",
       "\n",
       "\n",
       "\n",
       "  <div class=\"bk-root\" id=\"b9e5aad6-fb32-4f70-891a-07c3c5b46c48\" data-root-id=\"1097\"></div>\n"
      ]
     },
     "metadata": {},
     "output_type": "display_data"
    },
    {
     "data": {
      "application/javascript": [
       "(function(root) {\n",
       "  function embed_document(root) {\n",
       "    \n",
       "  var docs_json = {\"da3245b5-ccc9-4d83-9b63-a7b9fe73b594\":{\"roots\":{\"references\":[{\"attributes\":{\"background_fill_color\":{\"value\":\"#EEEEEE\"},\"below\":[{\"id\":\"1108\",\"type\":\"LinearAxis\"}],\"center\":[{\"id\":\"1112\",\"type\":\"Grid\"},{\"id\":\"1117\",\"type\":\"Grid\"}],\"left\":[{\"id\":\"1113\",\"type\":\"LinearAxis\"}],\"plot_height\":500,\"plot_width\":800,\"renderers\":[{\"id\":\"1134\",\"type\":\"GlyphRenderer\"}],\"title\":{\"id\":\"1098\",\"type\":\"Title\"},\"toolbar\":{\"id\":\"1124\",\"type\":\"Toolbar\"},\"x_range\":{\"id\":\"1100\",\"type\":\"Range1d\"},\"x_scale\":{\"id\":\"1104\",\"type\":\"LinearScale\"},\"y_range\":{\"id\":\"1102\",\"type\":\"DataRange1d\"},\"y_scale\":{\"id\":\"1106\",\"type\":\"LinearScale\"}},\"id\":\"1097\",\"subtype\":\"Figure\",\"type\":\"Plot\"},{\"attributes\":{\"overlay\":{\"id\":\"1151\",\"type\":\"BoxAnnotation\"}},\"id\":\"1120\",\"type\":\"BoxZoomTool\"},{\"attributes\":{},\"id\":\"1109\",\"type\":\"BasicTicker\"},{\"attributes\":{\"callback\":null,\"end\":52.5,\"start\":-2.5},\"id\":\"1100\",\"type\":\"Range1d\"},{\"attributes\":{},\"id\":\"1106\",\"type\":\"LinearScale\"},{\"attributes\":{\"callback\":null},\"id\":\"1102\",\"type\":\"DataRange1d\"},{\"attributes\":{\"ticker\":{\"id\":\"1109\",\"type\":\"BasicTicker\"}},\"id\":\"1112\",\"type\":\"Grid\"},{\"attributes\":{},\"id\":\"1118\",\"type\":\"PanTool\"},{\"attributes\":{},\"id\":\"1119\",\"type\":\"WheelZoomTool\"},{\"attributes\":{\"dimension\":1,\"ticker\":{\"id\":\"1114\",\"type\":\"BasicTicker\"}},\"id\":\"1117\",\"type\":\"Grid\"},{\"attributes\":{},\"id\":\"1114\",\"type\":\"BasicTicker\"},{\"attributes\":{},\"id\":\"1122\",\"type\":\"ResetTool\"},{\"attributes\":{\"active_drag\":\"auto\",\"active_inspect\":\"auto\",\"active_multi\":null,\"active_scroll\":\"auto\",\"active_tap\":\"auto\",\"tools\":[{\"id\":\"1118\",\"type\":\"PanTool\"},{\"id\":\"1119\",\"type\":\"WheelZoomTool\"},{\"id\":\"1120\",\"type\":\"BoxZoomTool\"},{\"id\":\"1121\",\"type\":\"SaveTool\"},{\"id\":\"1122\",\"type\":\"ResetTool\"},{\"id\":\"1123\",\"type\":\"HelpTool\"}]},\"id\":\"1124\",\"type\":\"Toolbar\"},{\"attributes\":{},\"id\":\"1104\",\"type\":\"LinearScale\"},{\"attributes\":{},\"id\":\"1121\",\"type\":\"SaveTool\"},{\"attributes\":{\"bottom\":{\"value\":0},\"fill_alpha\":{\"value\":0.1},\"fill_color\":{\"value\":\"#1f77b4\"},\"left\":{\"field\":\"left\"},\"line_alpha\":{\"value\":0.1},\"line_color\":{\"value\":\"#1f77b4\"},\"right\":{\"field\":\"right\"},\"top\":{\"field\":\"top\"}},\"id\":\"1133\",\"type\":\"Quad\"},{\"attributes\":{\"data_source\":{\"id\":\"1131\",\"type\":\"ColumnDataSource\"},\"glyph\":{\"id\":\"1132\",\"type\":\"Quad\"},\"hover_glyph\":null,\"muted_glyph\":null,\"nonselection_glyph\":{\"id\":\"1133\",\"type\":\"Quad\"},\"selection_glyph\":null,\"view\":{\"id\":\"1135\",\"type\":\"CDSView\"}},\"id\":\"1134\",\"type\":\"GlyphRenderer\"},{\"attributes\":{\"bottom_units\":\"screen\",\"fill_alpha\":{\"value\":0.5},\"fill_color\":{\"value\":\"lightgrey\"},\"left_units\":\"screen\",\"level\":\"overlay\",\"line_alpha\":{\"value\":1.0},\"line_color\":{\"value\":\"black\"},\"line_dash\":[4,4],\"line_width\":{\"value\":2},\"render_mode\":\"css\",\"right_units\":\"screen\",\"top_units\":\"screen\"},\"id\":\"1151\",\"type\":\"BoxAnnotation\"},{\"attributes\":{\"callback\":null,\"data\":{\"left\":[0.0,0.5,1.0,1.5,2.0,2.5,3.0,3.5,4.0,4.5,5.0,5.5,6.0,6.5,7.0,7.5,8.0,8.5,9.0,9.5,10.0,10.5,11.0,11.5,12.0,12.5,13.0,13.5,14.0,14.5,15.0,15.5,16.0,16.5,17.0,17.5,18.0,18.5,19.0,19.5,20.0,20.5,21.0,21.5,22.0,22.5,23.0,23.5,24.0,24.5,25.0,25.5,26.0,26.5,27.0,27.5,28.0,28.5,29.0,29.5,30.0,30.5,31.0,31.5,32.0,32.5,33.0,33.5,34.0,34.5,35.0,35.5,36.0,36.5,37.0,37.5,38.0,38.5,39.0,39.5,40.0,40.5,41.0,41.5,42.0,42.5,43.0,43.5,44.0,44.5,45.0,45.5,46.0,46.5,47.0,47.5,48.0,48.5,49.0,49.5],\"right\":[0.5,1.0,1.5,2.0,2.5,3.0,3.5,4.0,4.5,5.0,5.5,6.0,6.5,7.0,7.5,8.0,8.5,9.0,9.5,10.0,10.5,11.0,11.5,12.0,12.5,13.0,13.5,14.0,14.5,15.0,15.5,16.0,16.5,17.0,17.5,18.0,18.5,19.0,19.5,20.0,20.5,21.0,21.5,22.0,22.5,23.0,23.5,24.0,24.5,25.0,25.5,26.0,26.5,27.0,27.5,28.0,28.5,29.0,29.5,30.0,30.5,31.0,31.5,32.0,32.5,33.0,33.5,34.0,34.5,35.0,35.5,36.0,36.5,37.0,37.5,38.0,38.5,39.0,39.5,40.0,40.5,41.0,41.5,42.0,42.5,43.0,43.5,44.0,44.5,45.0,45.5,46.0,46.5,47.0,47.5,48.0,48.5,49.0,49.5,50.0],\"top\":[13,28,8315,2746,2528,1312,1204,715,702,394,434,253,273,160,162,101,113,65,94,48,58,32,53,35,40,22,24,26,22,17,17,11,17,6,12,9,11,8,4,6,6,12,6,3,10,4,9,4,3,2,3,1,1,2,2,3,3,2,2,1,1,0,1,1,2,1,3,0,1,0,3,0,1,0,1,0,3,0,1,0,2,0,1,0,2,0,2,0,3,0,1,0,1,0,0,0,0,0,0,0]},\"selected\":{\"id\":\"1150\",\"type\":\"Selection\"},\"selection_policy\":{\"id\":\"1149\",\"type\":\"UnionRenderers\"}},\"id\":\"1131\",\"type\":\"ColumnDataSource\"},{\"attributes\":{},\"id\":\"1123\",\"type\":\"HelpTool\"},{\"attributes\":{},\"id\":\"1150\",\"type\":\"Selection\"},{\"attributes\":{\"formatter\":{\"id\":\"1147\",\"type\":\"BasicTickFormatter\"},\"ticker\":{\"id\":\"1109\",\"type\":\"BasicTicker\"}},\"id\":\"1108\",\"type\":\"LinearAxis\"},{\"attributes\":{\"axis_label\":\"Frequency\",\"formatter\":{\"id\":\"1145\",\"type\":\"BasicTickFormatter\"},\"ticker\":{\"id\":\"1114\",\"type\":\"BasicTicker\"}},\"id\":\"1113\",\"type\":\"LinearAxis\"},{\"attributes\":{},\"id\":\"1149\",\"type\":\"UnionRenderers\"},{\"attributes\":{},\"id\":\"1145\",\"type\":\"BasicTickFormatter\"},{\"attributes\":{\"bottom\":{\"value\":0},\"fill_color\":{\"value\":\"#1f77b4\"},\"left\":{\"field\":\"left\"},\"right\":{\"field\":\"right\"},\"top\":{\"field\":\"top\"}},\"id\":\"1132\",\"type\":\"Quad\"},{\"attributes\":{},\"id\":\"1147\",\"type\":\"BasicTickFormatter\"},{\"attributes\":{\"text\":\"Histogram of average gene heterozygosity\"},\"id\":\"1098\",\"type\":\"Title\"},{\"attributes\":{\"source\":{\"id\":\"1131\",\"type\":\"ColumnDataSource\"}},\"id\":\"1135\",\"type\":\"CDSView\"}],\"root_ids\":[\"1097\"]},\"title\":\"Bokeh Application\",\"version\":\"1.2.0\"}};\n",
       "  var render_items = [{\"docid\":\"da3245b5-ccc9-4d83-9b63-a7b9fe73b594\",\"roots\":{\"1097\":\"b9e5aad6-fb32-4f70-891a-07c3c5b46c48\"}}];\n",
       "  root.Bokeh.embed.embed_items_notebook(docs_json, render_items);\n",
       "\n",
       "  }\n",
       "  if (root.Bokeh !== undefined) {\n",
       "    embed_document(root);\n",
       "  } else {\n",
       "    var attempts = 0;\n",
       "    var timer = setInterval(function(root) {\n",
       "      if (root.Bokeh !== undefined) {\n",
       "        embed_document(root);\n",
       "        clearInterval(timer);\n",
       "      }\n",
       "      attempts++;\n",
       "      if (attempts > 100) {\n",
       "        console.log(\"Bokeh: ERROR: Unable to run BokehJS code because BokehJS library is missing\");\n",
       "        clearInterval(timer);\n",
       "      }\n",
       "    }, 10, root)\n",
       "  }\n",
       "})(window);"
      ],
      "application/vnd.bokehjs_exec.v0+json": ""
     },
     "metadata": {
      "application/vnd.bokehjs_exec.v0+json": {
       "id": "1097"
      }
     },
     "output_type": "display_data"
    }
   ],
   "source": [
    "p = hl.plot.histogram(gene_stats.avg_het, range=(0, 50), bins=100, title='Histogram of average gene heterozygosity')\n",
    "p.plot_width = 800\n",
    "p.plot_height = 500\n",
    "show(p)"
   ]
  },
  {
   "cell_type": "code",
   "execution_count": 10,
   "metadata": {},
   "outputs": [
    {
     "name": "stderr",
     "output_type": "stream",
     "text": [
      "2020-12-09 10:54:01 Hail: INFO: Ordering unsorted dataset with network shuffle\n"
     ]
    },
    {
     "data": {
      "text/html": [
       "\n",
       "\n",
       "\n",
       "\n",
       "\n",
       "\n",
       "  <div class=\"bk-root\" id=\"932c67ba-c25f-4455-b652-7bc6606d86d2\" data-root-id=\"1200\"></div>\n"
      ]
     },
     "metadata": {},
     "output_type": "display_data"
    },
    {
     "data": {
      "application/javascript": [
       "(function(root) {\n",
       "  function embed_document(root) {\n",
       "    \n",
       "  var docs_json = {\"dff22c8f-e7fc-4761-a26d-ae1abaeb4f14\":{\"roots\":{\"references\":[{\"attributes\":{\"background_fill_color\":{\"value\":\"#EEEEEE\"},\"below\":[{\"id\":\"1211\",\"type\":\"LinearAxis\"}],\"center\":[{\"id\":\"1215\",\"type\":\"Grid\"},{\"id\":\"1220\",\"type\":\"Grid\"},{\"id\":\"1252\",\"type\":\"Legend\"}],\"left\":[{\"id\":\"1216\",\"type\":\"LinearAxis\"}],\"plot_height\":500,\"plot_width\":800,\"renderers\":[{\"id\":\"1237\",\"type\":\"GlyphRenderer\"},{\"id\":\"1242\",\"type\":\"GlyphRenderer\"}],\"title\":{\"id\":\"1201\",\"type\":\"Title\"},\"toolbar\":{\"id\":\"1227\",\"type\":\"Toolbar\"},\"x_range\":{\"id\":\"1203\",\"type\":\"Range1d\"},\"x_scale\":{\"id\":\"1207\",\"type\":\"LinearScale\"},\"y_range\":{\"id\":\"1205\",\"type\":\"DataRange1d\"},\"y_scale\":{\"id\":\"1209\",\"type\":\"LinearScale\"}},\"id\":\"1200\",\"subtype\":\"Figure\",\"type\":\"Plot\"},{\"attributes\":{},\"id\":\"1247\",\"type\":\"BasicTickFormatter\"},{\"attributes\":{},\"id\":\"1226\",\"type\":\"HelpTool\"},{\"attributes\":{\"dimension\":1,\"ticker\":{\"id\":\"1217\",\"type\":\"BasicTicker\"}},\"id\":\"1220\",\"type\":\"Grid\"},{\"attributes\":{},\"id\":\"1249\",\"type\":\"UnionRenderers\"},{\"attributes\":{},\"id\":\"1207\",\"type\":\"LinearScale\"},{\"attributes\":{},\"id\":\"1250\",\"type\":\"Selection\"},{\"attributes\":{\"bottom\":{\"value\":0},\"fill_alpha\":{\"value\":0.1},\"fill_color\":{\"value\":\"#1f77b4\"},\"left\":{\"value\":20.0},\"line_alpha\":{\"value\":0.1},\"line_color\":{\"value\":\"#1f77b4\"},\"right\":{\"value\":21.0},\"top\":{\"value\":1}},\"id\":\"1241\",\"type\":\"Quad\"},{\"attributes\":{},\"id\":\"1224\",\"type\":\"SaveTool\"},{\"attributes\":{\"callback\":null},\"id\":\"1205\",\"type\":\"DataRange1d\"},{\"attributes\":{\"bottom_units\":\"screen\",\"fill_alpha\":{\"value\":0.5},\"fill_color\":{\"value\":\"lightgrey\"},\"left_units\":\"screen\",\"level\":\"overlay\",\"line_alpha\":{\"value\":1.0},\"line_color\":{\"value\":\"black\"},\"line_dash\":[4,4],\"line_width\":{\"value\":2},\"render_mode\":\"css\",\"right_units\":\"screen\",\"top_units\":\"screen\"},\"id\":\"1251\",\"type\":\"BoxAnnotation\"},{\"attributes\":{\"axis_label\":\"Frequency\",\"formatter\":{\"id\":\"1245\",\"type\":\"BasicTickFormatter\"},\"ticker\":{\"id\":\"1217\",\"type\":\"BasicTicker\"}},\"id\":\"1216\",\"type\":\"LinearAxis\"},{\"attributes\":{\"items\":[{\"id\":\"1253\",\"type\":\"LegendItem\"}]},\"id\":\"1252\",\"type\":\"Legend\"},{\"attributes\":{},\"id\":\"1217\",\"type\":\"BasicTicker\"},{\"attributes\":{\"label\":{\"value\":\"Outliers Above\"},\"renderers\":[{\"id\":\"1242\",\"type\":\"GlyphRenderer\"}]},\"id\":\"1253\",\"type\":\"LegendItem\"},{\"attributes\":{\"bottom\":{\"value\":0},\"fill_color\":{\"value\":\"green\"},\"left\":{\"value\":20.0},\"right\":{\"value\":21.0},\"top\":{\"value\":1}},\"id\":\"1240\",\"type\":\"Quad\"},{\"attributes\":{\"source\":{\"id\":\"1234\",\"type\":\"ColumnDataSource\"}},\"id\":\"1238\",\"type\":\"CDSView\"},{\"attributes\":{\"bottom\":{\"value\":0},\"fill_alpha\":{\"value\":0.1},\"fill_color\":{\"value\":\"#1f77b4\"},\"left\":{\"field\":\"left\"},\"line_alpha\":{\"value\":0.1},\"line_color\":{\"value\":\"#1f77b4\"},\"right\":{\"field\":\"right\"},\"top\":{\"field\":\"top\"}},\"id\":\"1236\",\"type\":\"Quad\"},{\"attributes\":{\"overlay\":{\"id\":\"1251\",\"type\":\"BoxAnnotation\"}},\"id\":\"1223\",\"type\":\"BoxZoomTool\"},{\"attributes\":{},\"id\":\"1209\",\"type\":\"LinearScale\"},{\"attributes\":{\"bottom\":{\"value\":0},\"fill_color\":{\"value\":\"#1f77b4\"},\"left\":{\"field\":\"left\"},\"right\":{\"field\":\"right\"},\"top\":{\"field\":\"top\"}},\"id\":\"1235\",\"type\":\"Quad\"},{\"attributes\":{},\"id\":\"1245\",\"type\":\"BasicTickFormatter\"},{\"attributes\":{},\"id\":\"1277\",\"type\":\"UnionRenderers\"},{\"attributes\":{\"data_source\":{\"id\":\"1234\",\"type\":\"ColumnDataSource\"},\"glyph\":{\"id\":\"1235\",\"type\":\"Quad\"},\"hover_glyph\":null,\"muted_glyph\":null,\"nonselection_glyph\":{\"id\":\"1236\",\"type\":\"Quad\"},\"selection_glyph\":null,\"view\":{\"id\":\"1238\",\"type\":\"CDSView\"}},\"id\":\"1237\",\"type\":\"GlyphRenderer\"},{\"attributes\":{},\"id\":\"1225\",\"type\":\"ResetTool\"},{\"attributes\":{},\"id\":\"1221\",\"type\":\"PanTool\"},{\"attributes\":{\"data_source\":{\"id\":\"1239\",\"type\":\"ColumnDataSource\"},\"glyph\":{\"id\":\"1240\",\"type\":\"Quad\"},\"hover_glyph\":null,\"muted_glyph\":null,\"nonselection_glyph\":{\"id\":\"1241\",\"type\":\"Quad\"},\"selection_glyph\":null,\"view\":{\"id\":\"1243\",\"type\":\"CDSView\"}},\"id\":\"1242\",\"type\":\"GlyphRenderer\"},{\"attributes\":{},\"id\":\"1222\",\"type\":\"WheelZoomTool\"},{\"attributes\":{\"ticker\":{\"id\":\"1212\",\"type\":\"BasicTicker\"}},\"id\":\"1215\",\"type\":\"Grid\"},{\"attributes\":{\"callback\":null,\"data\":{\"left\":[0.0,1.0,2.0,3.0,4.0,5.0,6.0,7.0,8.0,9.0,10.0,11.0,12.0,13.0,14.0,15.0,16.0,17.0,18.0,19.0],\"right\":[1.0,2.0,3.0,4.0,5.0,6.0,7.0,8.0,9.0,10.0,11.0,12.0,13.0,14.0,15.0,16.0,17.0,18.0,19.0,20.0],\"top\":[14726,2777,1399,680,300,145,84,32,19,17,11,3,2,0,2,1,1,0,0,0]},\"selected\":{\"id\":\"1250\",\"type\":\"Selection\"},\"selection_policy\":{\"id\":\"1249\",\"type\":\"UnionRenderers\"}},\"id\":\"1234\",\"type\":\"ColumnDataSource\"},{\"attributes\":{},\"id\":\"1278\",\"type\":\"Selection\"},{\"attributes\":{},\"id\":\"1212\",\"type\":\"BasicTicker\"},{\"attributes\":{\"text\":\"Histogram of number of high impact variants per gene\"},\"id\":\"1201\",\"type\":\"Title\"},{\"attributes\":{\"active_drag\":\"auto\",\"active_inspect\":\"auto\",\"active_multi\":null,\"active_scroll\":\"auto\",\"active_tap\":\"auto\",\"tools\":[{\"id\":\"1221\",\"type\":\"PanTool\"},{\"id\":\"1222\",\"type\":\"WheelZoomTool\"},{\"id\":\"1223\",\"type\":\"BoxZoomTool\"},{\"id\":\"1224\",\"type\":\"SaveTool\"},{\"id\":\"1225\",\"type\":\"ResetTool\"},{\"id\":\"1226\",\"type\":\"HelpTool\"}]},\"id\":\"1227\",\"type\":\"Toolbar\"},{\"attributes\":{\"source\":{\"id\":\"1239\",\"type\":\"ColumnDataSource\"}},\"id\":\"1243\",\"type\":\"CDSView\"},{\"attributes\":{\"formatter\":{\"id\":\"1247\",\"type\":\"BasicTickFormatter\"},\"ticker\":{\"id\":\"1212\",\"type\":\"BasicTicker\"}},\"id\":\"1211\",\"type\":\"LinearAxis\"},{\"attributes\":{\"callback\":null,\"data\":{},\"selected\":{\"id\":\"1278\",\"type\":\"Selection\"},\"selection_policy\":{\"id\":\"1277\",\"type\":\"UnionRenderers\"}},\"id\":\"1239\",\"type\":\"ColumnDataSource\"},{\"attributes\":{\"callback\":null,\"end\":21.0,\"start\":-1.0},\"id\":\"1203\",\"type\":\"Range1d\"}],\"root_ids\":[\"1200\"]},\"title\":\"Bokeh Application\",\"version\":\"1.2.0\"}};\n",
       "  var render_items = [{\"docid\":\"dff22c8f-e7fc-4761-a26d-ae1abaeb4f14\",\"roots\":{\"1200\":\"932c67ba-c25f-4455-b652-7bc6606d86d2\"}}];\n",
       "  root.Bokeh.embed.embed_items_notebook(docs_json, render_items);\n",
       "\n",
       "  }\n",
       "  if (root.Bokeh !== undefined) {\n",
       "    embed_document(root);\n",
       "  } else {\n",
       "    var attempts = 0;\n",
       "    var timer = setInterval(function(root) {\n",
       "      if (root.Bokeh !== undefined) {\n",
       "        embed_document(root);\n",
       "        clearInterval(timer);\n",
       "      }\n",
       "      attempts++;\n",
       "      if (attempts > 100) {\n",
       "        console.log(\"Bokeh: ERROR: Unable to run BokehJS code because BokehJS library is missing\");\n",
       "        clearInterval(timer);\n",
       "      }\n",
       "    }, 10, root)\n",
       "  }\n",
       "})(window);"
      ],
      "application/vnd.bokehjs_exec.v0+json": ""
     },
     "metadata": {
      "application/vnd.bokehjs_exec.v0+json": {
       "id": "1200"
      }
     },
     "output_type": "display_data"
    }
   ],
   "source": [
    "p = hl.plot.histogram(gene_stats.n_high_impact, range=(0, 20), bins=20, title='Histogram of number of high impact variants per gene')\n",
    "p.plot_width = 800\n",
    "p.plot_height = 500\n",
    "show(p)"
   ]
  },
  {
   "cell_type": "markdown",
   "metadata": {},
   "source": [
    "Make a scatterplot of heterozygosity and impact per gene."
   ]
  },
  {
   "cell_type": "code",
   "execution_count": 11,
   "metadata": {},
   "outputs": [
    {
     "name": "stderr",
     "output_type": "stream",
     "text": [
      "2020-12-09 10:54:07 Hail: INFO: Ordering unsorted dataset with network shuffle\n"
     ]
    }
   ],
   "source": [
    "p = hl.plot.scatter(gene_stats.n_high_impact, gene_stats.avg_het, hover_fields={'Gene': gene_stats.gene1})"
   ]
  },
  {
   "cell_type": "code",
   "execution_count": 12,
   "metadata": {},
   "outputs": [
    {
     "data": {
      "text/html": [
       "\n",
       "\n",
       "\n",
       "\n",
       "\n",
       "\n",
       "  <div class=\"bk-root\" id=\"a27aa6a0-1469-40f4-97dd-4e42ed12c92a\" data-root-id=\"1340\"></div>\n"
      ]
     },
     "metadata": {},
     "output_type": "display_data"
    },
    {
     "data": {
      "application/javascript": [
       "(function(root) {\n",
       "  function embed_document(root) {\n",
       "    \n",
       "  var docs_json = {\"66b272e4-8a5d-471d-9720-cb614912dd22\":{\"roots\":{\"references\":[{\"attributes\":{\"below\":[{\"id\":\"1350\",\"type\":\"LinearAxis\"}],\"center\":[{\"id\":\"1354\",\"type\":\"Grid\"},{\"id\":\"1359\",\"type\":\"Grid\"}],\"left\":[{\"id\":\"1355\",\"type\":\"LinearAxis\"}],\"plot_height\":500,\"plot_width\":800,\"renderers\":[{\"id\":\"1379\",\"type\":\"GlyphRenderer\"}],\"title\":null,\"toolbar\":{\"id\":\"1366\",\"type\":\"Toolbar\"},\"x_range\":{\"id\":\"1342\",\"type\":\"DataRange1d\"},\"x_scale\":{\"id\":\"1382\",\"type\":\"LogScale\"},\"y_range\":{\"id\":\"1344\",\"type\":\"DataRange1d\"},\"y_scale\":{\"id\":\"1381\",\"type\":\"LogScale\"}},\"id\":\"1340\",\"subtype\":\"Figure\",\"type\":\"Plot\"},{\"attributes\":{\"source\":{\"id\":\"1375\",\"type\":\"ColumnDataSource\"}},\"id\":\"1380\",\"type\":\"CDSView\"},{\"attributes\":{},\"id\":\"1415\",\"type\":\"Selection\"},{\"attributes\":{\"data_source\":{\"id\":\"1375\",\"type\":\"ColumnDataSource\"},\"glyph\":{\"id\":\"1377\",\"type\":\"Circle\"},\"hover_glyph\":null,\"muted_glyph\":null,\"nonselection_glyph\":{\"id\":\"1378\",\"type\":\"Circle\"},\"selection_glyph\":null,\"view\":{\"id\":\"1380\",\"type\":\"CDSView\"}},\"id\":\"1379\",\"type\":\"GlyphRenderer\"},{\"attributes\":{},\"id\":\"1414\",\"type\":\"UnionRenderers\"},{\"attributes\":{\"axis_label\":\"# heterozygotes\",\"formatter\":{\"id\":\"1410\",\"type\":\"BasicTickFormatter\"},\"ticker\":{\"id\":\"1356\",\"type\":\"BasicTicker\"}},\"id\":\"1355\",\"type\":\"LinearAxis\"},{\"attributes\":{\"fill_alpha\":{\"value\":0.1},\"fill_color\":{\"value\":\"#1f77b4\"},\"line_alpha\":{\"value\":0.1},\"line_color\":{\"value\":\"#1f77b4\"},\"x\":{\"field\":\"x\"},\"y\":{\"field\":\"y\"}},\"id\":\"1378\",\"type\":\"Circle\"},{\"attributes\":{\"fill_color\":{\"value\":\"#1f77b4\"},\"line_color\":{\"value\":\"#1f77b4\"},\"x\":{\"field\":\"x\"},\"y\":{\"field\":\"y\"}},\"id\":\"1377\",\"type\":\"Circle\"},{\"attributes\":{\"active_drag\":\"auto\",\"active_inspect\":\"auto\",\"active_multi\":null,\"active_scroll\":\"auto\",\"active_tap\":\"auto\",\"tools\":[{\"id\":\"1360\",\"type\":\"PanTool\"},{\"id\":\"1361\",\"type\":\"WheelZoomTool\"},{\"id\":\"1362\",\"type\":\"BoxZoomTool\"},{\"id\":\"1363\",\"type\":\"SaveTool\"},{\"id\":\"1364\",\"type\":\"ResetTool\"},{\"id\":\"1365\",\"type\":\"HelpTool\"},{\"id\":\"1374\",\"type\":\"HoverTool\"}]},\"id\":\"1366\",\"type\":\"Toolbar\"},{\"attributes\":{},\"id\":\"1412\",\"type\":\"BasicTickFormatter\"},{\"attributes\":{\"callback\":null},\"id\":\"1342\",\"type\":\"DataRange1d\"},{\"attributes\":{\"dimension\":1,\"ticker\":{\"id\":\"1356\",\"type\":\"BasicTicker\"}},\"id\":\"1359\",\"type\":\"Grid\"},{\"attributes\":{},\"id\":\"1365\",\"type\":\"HelpTool\"},{\"attributes\":{},\"id\":\"1410\",\"type\":\"BasicTickFormatter\"},{\"attributes\":{},\"id\":\"1364\",\"type\":\"ResetTool\"},{\"attributes\":{},\"id\":\"1381\",\"type\":\"LogScale\"},{\"attributes\":{},\"id\":\"1360\",\"type\":\"PanTool\"},{\"attributes\":{\"ticker\":{\"id\":\"1351\",\"type\":\"BasicTicker\"}},\"id\":\"1354\",\"type\":\"Grid\"},{\"attributes\":{},\"id\":\"1363\",\"type\":\"SaveTool\"},{\"attributes\":{\"bottom_units\":\"screen\",\"fill_alpha\":{\"value\":0.5},\"fill_color\":{\"value\":\"lightgrey\"},\"left_units\":\"screen\",\"level\":\"overlay\",\"line_alpha\":{\"value\":1.0},\"line_color\":{\"value\":\"black\"},\"line_dash\":[4,4],\"line_width\":{\"value\":2},\"render_mode\":\"css\",\"right_units\":\"screen\",\"top_units\":\"screen\"},\"id\":\"1416\",\"type\":\"BoxAnnotation\"},{\"attributes\":{\"callback\":null},\"id\":\"1344\",\"type\":\"DataRange1d\"},{\"attributes\":{},\"id\":\"1382\",\"type\":\"LogScale\"},{\"attributes\":{},\"id\":\"1356\",\"type\":\"BasicTicker\"},{\"attributes\":{\"axis_label\":\"# high impact variants\",\"formatter\":{\"id\":\"1412\",\"type\":\"BasicTickFormatter\"},\"ticker\":{\"id\":\"1351\",\"type\":\"BasicTicker\"}},\"id\":\"1350\",\"type\":\"LinearAxis\"},{\"attributes\":{\"callback\":null,\"tooltips\":[[\"x\",\"@x\"],[\"y\",\"@y\"],[\"Gene\",\"@Gene\"]]},\"id\":\"1374\",\"type\":\"HoverTool\"},{\"attributes\":{\"overlay\":{\"id\":\"1416\",\"type\":\"BoxAnnotation\"}},\"id\":\"1362\",\"type\":\"BoxZoomTool\"},{\"attributes\":{},\"id\":\"1351\",\"type\":\"BasicTicker\"},{\"attributes\":{},\"id\":\"1361\",\"type\":\"WheelZoomTool\"},{\"attributes\":{\"callback\":null,\"data\":{\"Gene\":[\"CCEPR\",\"LOC101928891\",\"LOC100996335-RIMBP3C\",\"CHR_START-SCGB1C2\",\"HMGN1\",\"LOC728554-PROP1\",\"HP\",\"MIR718\",\"MIR6511B1\",\"DIXDC1\",\"A1BG\",\"ADD3\",\"ABHD12\",\"AARS\",\"CROCCP2\",\"ABCF3\",\"AAED1\",\"ACOX3\",\"ADAM10\",\"ACAP3\",\"A4GALT\",\"ABAT\",\"ACAD9\",\"ABCA3\",\"ABCB10\",\"ADAM33\",\"B3GNT9\",\"BPIFB6\",\"CUL3\",\"ACAA2\",\"ACTR3\",\"ABCB9\",\"AANAT\",\"ACOT12\",\"ACSBG2\",\"ADAP2\",\"ADARB2\",\"CTNNA2\",\"ABCG8\",\"AKR1B15\",\"AFTPH\",\"ADAM17\",\"ABCF2\",\"ACP5\",\"ABI3BP\",\"CPTP\",\"ABLIM1\",\"AGAP9\",\"ACER3\",\"ABCD2\",\"AGPAT5\",\"AMY1A-AMY1A\",\"ACSBG1\",\"ADAM23\",\"ABO-SURF6\",\"ASB3\",\"AAGAB\",\"ACTR3B\",\"ARPC2\",\"ADAD1\",\"ADAD2\",\"CTTN\",\"ADAMTSL5\",\"ANKRD20A3\",\"ADAMTS5\",\"ADGRE2\",\"ABLIM2\",\"ABCB7\",\"ARFGAP3\",\"ALDH9A1\",\"ATP6V1B1\",\"ARHGDIB\",\"ANKRD20A4-FAM95B1\",\"CCDC74B\",\"CASP10\",\"B4GALNT3\",\"CBWD1\",\"LOC100132287\",\"AZGP1\",\"C7orf66\",\"AMELY\",\"CEACAM8\",\"CFAP36\",\"CHRNA1\",\"CPT2\",\"CBWD6\",\"ADCYAP1\",\"ACTA1\",\"MIS18BP1\",\"DNAJC9-AS1\",\"CALCB\",\"CACNG2\",\"CASP14\",\"BATF3\",\"ARNT2\",\"ADAL\",\"HMX1\",\"ENO4\",\"C10orf126\",\"ARL6IP5\",\"BMS1P18\",\"H2AFY\",\"ARSB\",\"ACTR3BP5-LOC441666\",\"CYCSP52\",\"CYP2B6-CYP2A13\",\"ATG3\",\"MIR4744\",\"DDX11L16\",\"ANKRD30BL\",\"CHMP3\",\"GPATCH2\",\"FAM157A\",\"LOC105371328\",\"GMCL1\",\"EMBP1\",\"IDNK\",\"CDK8\",\"ANKRD22\",\"BAGE\",\"ABT1\",\"FAM86C1\",\"NDUFAB1\",\"CHR_START-LOC102723672\",\"DTX2P1-UPK3BP1-PMS2P11\",\"ALDH7A1\",\"CYP11B2\",\"LOC407835\",\"BTN3A2\",\"HINT3\",\"CDC73\",\"EGFLAM-AS2\",\"GPATCH2L-ESRRB\",\"SNORA105A\",\"ANKRD30BP2\",\"AQP7\",\"OR5W2\",\"BAGE4\",\"CFL2\",\"ENDOV\",\"HLA-B\",\"ANKRD20A5P-CYP4F35P\",\"FAM3C\",\"ECE1-NBPF3\",\"AKR1C2\",\"MIR4804\",\"ANP32B\",\"PM20D2\",\"LOC100134317\",\"DLGAP4-AS1\",\"CHR_START-CHEK2P2\",\"ARL13B\",\"LOC390705-ENPP7P13\",\"ACOT2\",\"LINC01001-SCGB1C1\",\"FAM138B\",\"C5orf17\",\"ARL14EP\",\"IMMP1L\",\"B4GALT1\",\"C8orf86\",\"GPR171\",\"AICDA\",\"ADGB\",\"CLEC18C\",\"PPM1N\",\"CHR_START-LOC102723780\",\"ASB12\",\"C11orf84\",\"CHR_START-FAM230C\",\"LEMD1\",\"NUPR2-LOC650226\",\"MIR4283-1-ZNF479\",\"DEFB107A\",\"OR2L3\",\"FAM90A7P\",\"LOC101929583-FOXD4L5\",\"CSMD2-AS1\",\"TRAF3IP2-AS1\",\"CDRT15L2-LOC100287072\",\"CTRC\",\"ALDH18A1\",\"FAM199X\",\"FOXD4L4\",\"SNORD53\",\"NBPF13P\",\"LOC102723769-OR11H1\",\"C12orf42\",\"MLLT10P1-DEFB115\",\"ACTN1-AS1\",\"IMMT\",\"CDC14C\",\"MIR545\",\"LOC105370697-MIR8071-1\",\"FRG1DP\",\"CTTNBP2NL\",\"CISD2\",\"CD177-TEX101\",\"GGT8P-ACTR3BP2\",\"LIN52\",\"LOC403323\",\"WASH2P\",\"GAGE12F\",\"AQP7P1-MIR4477A\",\"COX17\",\"RNF126\",\"MIR1324\",\"CLDN10\",\"LINC00648\",\"TPTE-ANKRD30BP2\",\"CHR_START-LINC01001\",\"FAM86B3P\",\"MIR8064\",\"ZNF396-INO80C\",\"ACTR3BP2\",\"MIR663AHG-FRG1CP\",\"MIR4444-1-FAM86DP\",\"LOC101929771-HHIPL2\",\"C2orf47-SPATS2L\",\"KCNJ12\",\"LOC100129534\",\"RGS21\",\"SAA2-SAA4\",\"IGHV1OR15-3-MIR3118-2\",\"FASTKD2\",\"HS6ST3\",\"SNRPD1\",\"LOC101927188\",\"ANKRD30B-LINC01443\",\"MED19\",\"LOC729506\",\"KISS1R\",\"LOC101928295\",\"MOS\",\"ISOC1\",\"MLLT10P1\",\"GSTT2\",\"LAPTM4A-SDC1\",\"HPVC1\",\"CRLF2\",\"LRRTM4\",\"PGA3\",\"LRRC31\",\"LOC101928195\",\"CSPG4P1Y-CDY1\",\"HBZ\",\"GLIDR\",\"SERPINA6\",\"MRPL23\",\"ARL4C\",\"CAP1\",\"HDAC10\",\"PRB2\",\"AASDH\",\"ADAMTS9\",\"AFAP1L1\",\"AGER\",\"ADAM30\",\"HDAC8\",\"ABHD13\",\"ATAD3B\",\"ACVR1C\",\"AKT2\",\"ARHGAP33\",\"A4GNT\",\"AP5Z1\",\"ALDOB\",\"C16orf96\",\"INF2\",\"ADCY3\",\"ACIN1\",\"ATAD2\",\"ARHGEF40\",\"ACAD10\",\"ITGA4\",\"ABCC8\",\"ARHGAP24\",\"DARS2\",\"AFF2\",\"CT45A3\",\"APOC1\",\"C1QTNF9\",\"BCL11B\",\"CDH12\",\"CCDC14\",\"AFF4\",\"ALMS1P1\",\"ADGRE3\",\"AGO4\",\"ATP10B\",\"ARHGEF10L\",\"ATF7IP\",\"AP1G1\",\"FLG\",\"CCNDBP1\",\"CLOCK\",\"CR2\",\"ADAM28\",\"BRPF3\",\"CBWD2\",\"CCDC155\",\"CLCNKA\",\"CAPN15\",\"C17orf80\",\"DNMBP\",\"TMEM33\",\"ABHD17A\",\"CR1\",\"CLDN20\",\"HHLA1\",\"C17orf105\",\"CT45A1\",\"CPAMD8\",\"LGALS9C\",\"JADE1\",\"AEBP1\",\"CEP162\",\"CDK11B\",\"CDK13\",\"NEK1\",\"FGF19\",\"HP1BP3\",\"CCP110\",\"CCDC175\",\"IL18R1\",\"ACP7\",\"COL9A2\",\"LRRFIP2\",\"ARHGAP28\",\"SV2B\",\"SLC35B1\",\"CEP126\",\"NPIPB15\",\"NYAP2\",\"MED26\",\"CEP76\",\"GSPT2\",\"ARGFX\",\"SLC15A2\",\"EIF4E3\",\"C1QB\",\"NME6\",\"TIMM10B\",\"SPDYE1\",\"SEC62\",\"NUP133\",\"TRIM61\",\"TRIM64\",\"ZNF264\",\"DHRS7\",\"AKTIP\",\"SAA1\",\"KYAT1\",\"HNRNPF\",\"MTUS2\",\"RFPL4AL1\",\"UGT2A2\",\"MGST3\",\"MST1P2\",\"TFG\",\"OR2T8\",\"SLC9B1\",\"BAGE3\",\"TOMM70\",\"KCNJ18\",\"LRP12\",\"SCN9A\",\"TRHDE\",\"FBXW2\",\"NRIP1\",\"CCDC71L\",\"LOC102723780\",\"LINC01535\",\"SCLY\",\"USP17L3\",\"AAR2\",\"ERCC3\",\"AQP9\",\"ABHD8\",\"ABL1\",\"ABCC1\",\"ABCA5\",\"AIFM2\",\"ACE\",\"AAK1\",\"AVPR1A\",\"ACOT11\",\"ABCA4\",\"ACR\",\"ABL2\",\"AACS\",\"ABCB8\",\"AXDND1\",\"ABO\",\"C8orf37\",\"BAX\",\"ATAD2B\",\"ANKRD12\",\"ADAMTSL4\",\"CD2AP\",\"ANKRD55\",\"CLDN7\",\"AHNAK2\",\"ABCE1\",\"ADAMTS14\",\"ACYP1\",\"ATP12A\",\"BFSP1\",\"AHCY\",\"RAPH1\",\"CDH10\",\"ACVR2B\",\"C3orf52\",\"ATXN2\",\"AREG\",\"ADNP\",\"COL6A5\",\"HKR1\",\"ALDH6A1\",\"CCND2\",\"C14orf37\",\"ARHGAP19\",\"BUB1B\",\"CDH17\",\"AIM1L\",\"PRAMEF7\",\"CFAP157\",\"EVI2A\",\"FREM2\",\"MUC13\",\"AMOTL1\",\"SLITRK2\",\"BBOF1\",\"FAM86B2\",\"CXorf21\",\"DTNA\",\"AADAT\",\"DYNC1LI1\",\"ATP8A2\",\"APOL4\",\"OR10G7\",\"INSR\",\"RTN4IP1\",\"ATF7IP2\",\"ZNF813\",\"TIFA\",\"CORIN\",\"FSD1L\",\"WDR3\",\"CCDC129\",\"USP17L17\",\"DEFB104B\",\"TSGA13\",\"GART\",\"HRNR\",\"EMB\",\"PPP3CA\",\"OLFM4\",\"KCTD18\",\"AWAT2\",\"FHL3\",\"CD5L\",\"LPA\",\"POMZP3\",\"C5orf60\",\"RGPD4\",\"DENND4C\",\"TUBA8\",\"ANKRD36\",\"ZCCHC4\",\"ZBTB11\",\"LOC101928093\",\"DPPA4\",\"OR2T33\",\"OR13C5\",\"MUC3A\",\"FRG2B\",\"MYOG\",\"FRG2C\",\"TRPM1\",\"ABCB1\",\"ANLN\",\"C15orf39\",\"AKAP9\",\"AAAS\",\"ARFGEF3\",\"APBB1\",\"AKAP6\",\"CEPT1\",\"CACNA1S\",\"ABCB4\",\"AFDN\",\"AOC3\",\"DCBLD1\",\"ASF1A\",\"DCHS2\",\"ABCA10\",\"ACLY\",\"ADAM9\",\"ANKHD1\",\"COL11A1\",\"ALAS1\",\"BSN\",\"FRYL\",\"CPT1C\",\"B3GNT3\",\"ADCY6\",\"DNAH6\",\"ANKRD17\",\"DHX8\",\"KRBA2\",\"ALKBH8\",\"B4GALT5\",\"ALDH1L2\",\"ANKRD20A2\",\"CLIP4\",\"BAZ1B\",\"DCT\",\"DYNC1I2\",\"MICAL3\",\"ASB15\",\"HDX\",\"ATR\",\"IMPG1\",\"ALS2CR11\",\"CIT\",\"CYP2D6\",\"HCAR3\",\"CACNA2D1\",\"ADARB1\",\"HECTD4\",\"ADAMTS6\",\"AWAT1\",\"ATM\",\"ADGRL3\",\"PRIMPOL\",\"CCDC112\",\"C5orf46\",\"ELMO2\",\"ZMIZ2\",\"PNLIPRP3\",\"TRIM37\",\"SLC16A4\",\"SSC5D\",\"APOH\",\"AGAP5\",\"CASC1\",\"NBPF1\",\"HSF2\",\"WEE1\",\"MEIOC\",\"GFY\",\"MMD\",\"SLC46A3\",\"MST1L\",\"LMO7\",\"CCDC110\",\"OR8G2\",\"PABPC3\",\"OR51V1\",\"ZNF717\",\"AKAP10\",\"CDK15\",\"ABTB2\",\"CLVS1\",\"BCOR\",\"PRIM2\",\"BAZ2B\",\"CARMIL1\",\"CHRD\",\"ACACB\",\"FOLH1\",\"CCDC88B\",\"AKAP13\",\"ARSJ\",\"AAMP\",\"ARHGEF4\",\"KCNH8\",\"ALDOC\",\"CCDC24\",\"ARAP2\",\"ARHGAP32\",\"CC2D2A\",\"ALG5\",\"DDB2\",\"CD163L1\",\"ARFIP1\",\"SCAF1\",\"ZNF208\",\"GEMIN4\",\"DPP6\",\"CD69\",\"ACOT6\",\"CSMD1\",\"CFTR\",\"ANKRD44\",\"CDH6\",\"USP32\",\"GRIK2\",\"CCDC116\",\"ABCC10\",\"MC5R\",\"GOLGA1\",\"ROBO2\",\"COL4A6\",\"INTS7\",\"DCDC5\",\"POU2F1\",\"BTD\",\"A2ML1\",\"AKR1B1\",\"GIPC2\",\"DNMT1\",\"MATR3\",\"RFX7\",\"OR51M1\",\"HTRA2\",\"MUC12\",\"NWD2\",\"CDV3\",\"ADAM21\",\"NDUFS1\",\"BAZ1A\",\"IFNW1\",\"HSP90AA1\",\"CNTNAP3B\",\"FECH\",\"DOCK1\",\"MUC22\",\"CTAGE8\",\"ANKEF1\",\"CMYA5\",\"MRPL46\",\"FGFR1\",\"CCDC62\",\"BLMH\",\"COL6A3\",\"DCK\",\"ADAMDEC1\",\"STARD9\",\"ARHGAP11A\",\"CEP250\",\"ADGRG4\",\"FAM135A\",\"ASXL3\",\"COL12A1\",\"DHX30\",\"CFAP47\",\"BIRC6\",\"A2M\",\"SH3BP1\",\"GPATCH8\",\"CNTN5\",\"PDZD2\",\"EGLN1\",\"DIAPH2\",\"OR4F29\",\"SLFN11\",\"ATP7B\",\"ARID1A\",\"CARMIL3\",\"SELP\",\"FER1L6\",\"CCDC17\",\"IL1RAPL1\",\"CCDC73\",\"CPEB2\",\"PRAMEF5\",\"KIF20B\",\"POTEA\",\"SI\",\"C8orf76\",\"IGFN1\",\"TSEN54\",\"NFATC3\",\"CTTNBP2\",\"ADGRF3\",\"NPAT\",\"UPF3B\",\"BFAR\",\"PTGER3\",\"ABCA9\",\"ADCY10\",\"CENPE\",\"POGZ\",\"CCDC88A\",\"HIVEP1\",\"ITSN1\",\"NBEAL1\",\"POLD3\",\"CDH23\",\"SCN5A\",\"PRKDC\",\"DMXL1\",\"OPTN\",\"BCORL1\",\"ERCC6L2\",\"CNTN1\",\"SSX2IP\",\"ARHGAP29\",\"PCSK5\",\"CILP\",\"DDB1\",\"IFNGR1\",\"UBR4\",\"POTEB2\",\"PIK3CG\",\"CNTN6\",\"IFIH1\",\"MAGEC1\",\"DNAH3\",\"NAV2\",\"PRPF4B\",\"DSCAM\",\"HEATR5A\",\"BRWD1\",\"PTPN3\",\"EIF3CL\",\"PCK1\",\"NDC1\",\"IGSF10\",\"NOMO1\",\"MXRA5\",\"JADE3\",\"ABCA12\",\"PRODH2\",\"KIF13B\",\"PCNX1\",\"COL5A2\",\"MYH8\",\"EFCAB7\",\"ANAPC1\",\"NAV3\",\"LRRC37A\",\"NBPF15\",\"CUBN\",\"FBN2\",\"NCBP1\",\"PHLDB1\",\"C5orf42\",\"ABCB5\",\"APC\",\"GOLGA8J\",\"SUPT6H\",\"ARHGAP20\",\"EIF5\",\"PPIP5K1\",\"IDE\",\"ADGRV1\",\"AP4S1\",\"UNC80\",\"KIAA1109\",\"PTPRB\",\"ANKRD36C\",\"CHD9\",\"MYO5A\",\"CEP192\",\"SYNE2\",\"GREB1L\",\"FREM1\",\"LYST\",\"RAD21\",\"NBPF10\",\"ABCA13\",\"EYS\",\"NBPF9\",\"NIN\",\"ZNF578\",\"KMT2C\",\"TNXB\",\"FAT3\",\"APOB\",\"SERPINB1\",\"AHNAK\",\"DICER1\",\"FCGBP\",\"SYNE1\",\"MUC19\",\"NES\",\"MUC5B\",\"HMCN1\",\"DST\",\"NEB\",\"FSIP2\",\"MACF1\",\"TTN\"],\"index\":[0,1,2,3,4,5,6,7,8,9,10,11,12,13,14,15,16,17,18,19,20,21,22,23,24,25,26,27,28,29,30,31,32,33,34,35,36,37,38,39,40,41,42,43,44,45,46,47,48,49,50,51,52,53,54,55,56,57,58,59,60,61,62,63,64,65,66,67,68,69,70,71,72,73,74,75,76,77,78,79,80,81,82,83,84,85,86,87,88,89,90,91,92,93,94,95,96,97,98,99,100,101,102,103,104,105,106,107,108,109,110,111,112,113,114,115,116,117,118,119,120,121,122,123,124,125,126,127,128,129,130,131,132,133,134,135,136,137,138,139,140,141,142,143,144,145,146,147,148,149,150,151,152,153,154,155,156,157,158,159,160,161,162,163,164,165,166,167,168,169,170,171,172,173,174,175,176,177,178,179,180,181,182,183,184,185,186,187,188,189,190,191,192,193,194,195,196,197,198,199,200,201,202,203,204,205,206,207,208,209,210,211,212,213,214,215,216,217,218,219,220,221,222,223,224,225,226,227,228,229,230,231,232,233,234,235,236,237,238,239,240,241,242,243,244,245,246,247,248,249,250,251,252,253,254,255,256,257,258,259,260,261,262,263,264,265,266,267,268,269,270,271,272,273,274,275,276,277,278,279,280,281,282,283,284,285,286,287,288,289,290,291,292,293,294,295,296,297,298,299,300,301,302,303,304,305,306,307,308,309,310,311,312,313,314,315,316,317,318,319,320,321,322,323,324,325,326,327,328,329,330,331,332,333,334,335,336,337,338,339,340,341,342,343,344,345,346,347,348,349,350,351,352,353,354,355,356,357,358,359,360,361,362,363,364,365,366,367,368,369,370,371,372,373,374,375,376,377,378,379,380,381,382,383,384,385,386,387,388,389,390,391,392,393,394,395,396,397,398,399,400,401,402,403,404,405,406,407,408,409,410,411,412,413,414,415,416,417,418,419,420,421,422,423,424,425,426,427,428,429,430,431,432,433,434,435,436,437,438,439,440,441,442,443,444,445,446,447,448,449,450,451,452,453,454,455,456,457,458,459,460,461,462,463,464,465,466,467,468,469,470,471,472,473,474,475,476,477,478,479,480,481,482,483,484,485,486,487,488,489,490,491,492,493,494,495,496,497,498,499,500,501,502,503,504,505,506,507,508,509,510,511,512,513,514,515,516,517,518,519,520,521,522,523,524,525,526,527,528,529,530,531,532,533,534,535,536,537,538,539,540,541,542,543,544,545,546,547,548,549,550,551,552,553,554,555,556,557,558,559,560,561,562,563,564,565,566,567,568,569,570,571,572,573,574,575,576,577,578,579,580,581,582,583,584,585,586,587,588,589,590,591,592,593,594,595,596,597,598,599,600,601,602,603,604,605,606,607,608,609,610,611,612,613,614,615,616,617,618,619,620,621,622,623,624,625,626,627,628,629,630,631,632,633,634,635,636,637,638,639,640,641,642,643,644,645,646,647,648,649,650,651,652,653,654,655,656,657,658,659,660,661,662,663,664,665,666,667,668,669,670,671,672,673,674,675,676,677,678,679,680,681,682,683,684,685,686,687,688,689,690,691,692,693,694,695,696,697,698,699,700,701,702,703,704,705,706,707,708,709,710,711,712,713,714,715,716,717,718,719,720,721,722,723,724,725,726,727,728,729,730,731,732,733,734,735,736,737,738,739,740,741,742,743,744,745,746,747,748,749,750,751,752,753,754,755,756,757,758,759,760,761,762,763,764,765,766,767,768,769,770,771,772,773,774,775,776,777,778,779,780,781,782,783,784,785],\"x\":{\"__ndarray__\":\"AAAAAAAAAAAAAAAAAAAAAAAAAAAAAAAAAAAAAAAAAAAAAAAAAAAAAAAAAAAAAAAAAAAAAAAAAAAAAAAAAAAAAAAAAAAAAAAAAAAAAAAAAAAAAAAAAAAAAAAAAAAAAAAAAAAAAAAAAAAAAAAAAAAAAAAAAAAAAAAAAAAAAAAAAAAAAAAAAAAAAAAAAAAAAAAAAAAAAAAAAAAAAAAAAAAAAAAAAAAAAAAAAAAAAAAAAAAAAAAAAAAAAAAAAAAAAAAAAAAAAAAAAAAAAAAAAAAAAAAAAAAAAAAAAAAAAAAAAAAAAAAAAAAAAAAAAAAAAAAAAAAAAAAAAAAAAAAAAAAAAAAAAAAAAAAAAAAAAAAAAAAAAAAAAAAAAAAAAAAAAAAAAAAAAAAAAAAAAAAAAAAAAAAAAAAAAAAAAAAAAAAAAAAAAAAAAAAAAAAAAAAAAAAAAAAAAAAAAAAAAAAAAAAAAAAAAAAAAAAAAAAAAAAAAAAAAAAAAAAAAAAAAAAAAAAAAAAAAAAAAAAAAAAAAAAAAAAAAAAAAAAAAAAAAAAAAAAAAAAAAAAAAAAAAAAAAAAAAAAAAAAAAAAAAAAAAAAAAAAAAAAAAAAAAAAAAAAAAAAAAAAAAAAAAAAAAAAAAAAAAAAAAAAAAAAAAAAAAAAAAAAAAAAAAAAAAAAAAAAAAAAAAAAAAAAAAAAAAAAAAAAAAAAAAAAAAAAAAAAAAAAAAAAAAAAAAAAAAAAAAAAAAAAAAAAAAAAAAAAAAAAAAAAAAAAAAAAAAAAAAAAAAAAAAAAAAAAAAAAAAAAAAAAAAAAAAAAAAAAAAAAAAAAAAAAAAAAAAAAAAAAAAAAAAAAAAAAAAAAAAAAAAAAAAAAAAAAAAAAAAAAAAAAAAAAAAAAAAAAAAAAAAAAAAAAAAAAAAAAAAAAAAAAAAAAAAAAAAAAAAAAAAAAAAAAAAAAAAAAAAAAAAAAAAAAAAAAAAAAAAAAAAAAAAAAAAAAAAAAAAAAAAAAAAAAAAAAAAAAAAAAAAAAAAAAAAAAAAAAAAAAAAAAAAAAAAAAAAAAAAAAAAAAAAAAAAAAAAAAAAAAAAAAAAAAAAAAAAAAAAAAAAAAAAAAAAAAAAAAAAAAAAAAAAAAAAAAAAAAAAAAAAAAAAAAAAAAAAAAAAAAAAAAAAAAAAAAAAAAAAAAAAAAAAAAAAAAAAAAAAAAAAAAAAAAAAAAAAAAAAAAAAAAAAAAAAAAAAAAAAAAAAAAAAAAAAAAAAAAAAAAAAAAAAAAAAAAAAAAAAAAAAAAAAAAAAAAAAAAAAAAAAAAAAAAAAAAAAAAAAAAAAAAAAAAAAAAAAAAAAAAAAAAAAAAAAAAAAAAAAAAAAAAAAAAAAAAAAAAAAAAAAAAAAAAAAAAAAAAAAAAAAAAAAAAAAAAAAAAAAAAAAAAAAAAAAAAAAAAAAAAAAAAAAAAAAAAAAAAAAAAAAAAAAAAAAAAAAAAAAAAAAAAAAAAAAAAAAAAAAAAAAAAAAAAAAAAAAAAAAAAAAAAAAAAAAAAAAAAAAAAAAAAAAAAAAAAAAAAAAAAAAAAAAAAAAAAAAAAAAAAAAAAAAAAAAAAAAAAAAAAAAAAAAAAAAAAAAAAAAAAAAAAAAAAAAAAAAAAAAAAAAAAAAAAAAAAAAAAAAAAAAAAAAAAAAAAAAAAAAAAAAAAAAAAAAAAAAAAAAAAAAAAAAAAAAAAAAAAAAAAAAAAAAAAAAAAAAAAAAAAAAAAAAAAAAAAAAAAAAAAAAAAAAAAAAAAAAAAAAAAAAAAAAAAAAAAAAAAAAAAAAAAAAAAAAAAAAAAAAAAAAAAAAAAAAAAAAAAAAAAAAAAAAAAAAAAAAAAAAAAAAAAAAAAAAAAAAAAAAAAAAAAAAAAAAAAAAAAAAAAAAAAAAAAAAAAAAAAAAAAAAAAAAAAAAAAAAAAAAAAAAAAAAAAAAAAAAAAAAAAAAAAAAAAAAAAAAAAAAAAAAAAAAAAAAAAAAAAAAAAAAAAAAAAAAAAAAAAAAAAAAAAAAAAAAAAAAAAAAAAAAAAAAAAAAAAAAAAAAAAAAAAAAAAAAAAAAAAAAAAAAAAAAAAAAAAAAAAAAAAAAAAAAAAAAAAAAAAAAAAAAAAAAAAAAAAAAAAAAAAAAAAAAAAAAAAAAAAAAAAAAAAAAAAAAAAAAAAAAAAAAAAAAAAAAAAAAAAAAAAAAAAAAAAAAAAAAAAAAAAAAAAAAAAAAAAAAAAAAAAAAAAAAAAAAAAAAAAAAAAAAAAAAAAAAAAAAAAAAAAAAAAAAAAAAAAAAAAAAAAAAAAAAAAAAAAAAAAAAAAAAAAAAAAAAAAAAAAAAAAAAAAAAAAAAAAAAAAAAAAAAAAAAAAAAAAAAAAAAAAAAAAAAAAAAAAAAAAAAAAAAAAAAAAAAAAAAAAAAAAAAAAAAAAAAAAAAAAAAAAAAAAAAAAAAAAAAAAAAAAAAAAAAAAAAAAAAAAAAAAAAAAAAAAAAAAAAAAAAAAAAAAAAAAAAAAAAAAAAAAAAAAAAAAAAAAAAAAAAAAAAAAAAAAAAAAAAAAAAAAAAAAAAAAAAAAAAAAAAAAAAAAAAAAAAAAAAAAAAAAAAAAAAAAAAAAAAAAAAAAAAAAAAAAAAAAAAAAAAAAAAAAAAAAAAPA/AAAAAAAA8D8AAAAAAADwPwAAAAAAAPA/AAAAAAAA8D8AAAAAAADwPwAAAAAAAPA/AAAAAAAA8D8AAAAAAADwPwAAAAAAAPA/AAAAAAAA8D8AAAAAAADwPwAAAAAAAPA/AAAAAAAA8D8AAAAAAADwPwAAAAAAAPA/AAAAAAAA8D8AAAAAAADwPwAAAAAAAPA/AAAAAAAA8D8AAAAAAADwPwAAAAAAAPA/AAAAAAAA8D8AAAAAAADwPwAAAAAAAPA/AAAAAAAA8D8AAAAAAADwPwAAAAAAAPA/AAAAAAAA8D8AAAAAAADwPwAAAAAAAPA/AAAAAAAA8D8AAAAAAADwPwAAAAAAAPA/AAAAAAAA8D8AAAAAAADwPwAAAAAAAPA/AAAAAAAA8D8AAAAAAADwPwAAAAAAAPA/AAAAAAAA8D8AAAAAAADwPwAAAAAAAPA/AAAAAAAA8D8AAAAAAADwPwAAAAAAAPA/AAAAAAAA8D8AAAAAAADwPwAAAAAAAPA/AAAAAAAA8D8AAAAAAADwPwAAAAAAAPA/AAAAAAAA8D8AAAAAAADwPwAAAAAAAPA/AAAAAAAA8D8AAAAAAADwPwAAAAAAAPA/AAAAAAAA8D8AAAAAAADwPwAAAAAAAPA/AAAAAAAA8D8AAAAAAADwPwAAAAAAAPA/AAAAAAAA8D8AAAAAAADwPwAAAAAAAPA/AAAAAAAA8D8AAAAAAADwPwAAAAAAAPA/AAAAAAAA8D8AAAAAAADwPwAAAAAAAPA/AAAAAAAA8D8AAAAAAADwPwAAAAAAAPA/AAAAAAAA8D8AAAAAAADwPwAAAAAAAPA/AAAAAAAA8D8AAAAAAADwPwAAAAAAAPA/AAAAAAAA8D8AAAAAAADwPwAAAAAAAPA/AAAAAAAA8D8AAAAAAADwPwAAAAAAAPA/AAAAAAAA8D8AAAAAAADwPwAAAAAAAPA/AAAAAAAA8D8AAAAAAADwPwAAAAAAAPA/AAAAAAAA8D8AAAAAAADwPwAAAAAAAPA/AAAAAAAA8D8AAAAAAADwPwAAAAAAAPA/AAAAAAAA8D8AAAAAAADwPwAAAAAAAPA/AAAAAAAA8D8AAAAAAADwPwAAAAAAAPA/AAAAAAAA8D8AAAAAAADwPwAAAAAAAPA/AAAAAAAA8D8AAAAAAADwPwAAAAAAAPA/AAAAAAAA8D8AAAAAAADwPwAAAAAAAPA/AAAAAAAA8D8AAAAAAADwPwAAAAAAAPA/AAAAAAAA8D8AAAAAAADwPwAAAAAAAPA/AAAAAAAA8D8AAAAAAADwPwAAAAAAAPA/AAAAAAAA8D8AAAAAAADwPwAAAAAAAABAAAAAAAAAAEAAAAAAAAAAQAAAAAAAAABAAAAAAAAAAEAAAAAAAAAAQAAAAAAAAABAAAAAAAAAAEAAAAAAAAAAQAAAAAAAAABAAAAAAAAAAEAAAAAAAAAAQAAAAAAAAABAAAAAAAAAAEAAAAAAAAAAQAAAAAAAAABAAAAAAAAAAEAAAAAAAAAAQAAAAAAAAABAAAAAAAAAAEAAAAAAAAAAQAAAAAAAAABAAAAAAAAAAEAAAAAAAAAAQAAAAAAAAABAAAAAAAAAAEAAAAAAAAAAQAAAAAAAAABAAAAAAAAAAEAAAAAAAAAAQAAAAAAAAABAAAAAAAAAAEAAAAAAAAAAQAAAAAAAAABAAAAAAAAAAEAAAAAAAAAAQAAAAAAAAABAAAAAAAAAAEAAAAAAAAAAQAAAAAAAAABAAAAAAAAAAEAAAAAAAAAAQAAAAAAAAABAAAAAAAAAAEAAAAAAAAAAQAAAAAAAAABAAAAAAAAAAEAAAAAAAAAAQAAAAAAAAABAAAAAAAAAAEAAAAAAAAAAQAAAAAAAAABAAAAAAAAAAEAAAAAAAAAAQAAAAAAAAABAAAAAAAAAAEAAAAAAAAAAQAAAAAAAAABAAAAAAAAAAEAAAAAAAAAAQAAAAAAAAABAAAAAAAAAAEAAAAAAAAAAQAAAAAAAAABAAAAAAAAAAEAAAAAAAAAAQAAAAAAAAABAAAAAAAAAAEAAAAAAAAAAQAAAAAAAAABAAAAAAAAAAEAAAAAAAAAAQAAAAAAAAABAAAAAAAAAAEAAAAAAAAAAQAAAAAAAAABAAAAAAAAAAEAAAAAAAAAAQAAAAAAAAABAAAAAAAAAAEAAAAAAAAAAQAAAAAAAAABAAAAAAAAAAEAAAAAAAAAAQAAAAAAAAABAAAAAAAAAAEAAAAAAAAAAQAAAAAAAAABAAAAAAAAAAEAAAAAAAAAAQAAAAAAAAABAAAAAAAAAAEAAAAAAAAAAQAAAAAAAAABAAAAAAAAAAEAAAAAAAAAAQAAAAAAAAABAAAAAAAAAAEAAAAAAAAAAQAAAAAAAAABAAAAAAAAAAEAAAAAAAAAAQAAAAAAAAABAAAAAAAAAAEAAAAAAAAAAQAAAAAAAAAhAAAAAAAAACEAAAAAAAAAIQAAAAAAAAAhAAAAAAAAACEAAAAAAAAAIQAAAAAAAAAhAAAAAAAAACEAAAAAAAAAIQAAAAAAAAAhAAAAAAAAACEAAAAAAAAAIQAAAAAAAAAhAAAAAAAAACEAAAAAAAAAIQAAAAAAAAAhAAAAAAAAACEAAAAAAAAAIQAAAAAAAAAhAAAAAAAAACEAAAAAAAAAIQAAAAAAAAAhAAAAAAAAACEAAAAAAAAAIQAAAAAAAAAhAAAAAAAAACEAAAAAAAAAIQAAAAAAAAAhAAAAAAAAACEAAAAAAAAAIQAAAAAAAAAhAAAAAAAAACEAAAAAAAAAIQAAAAAAAAAhAAAAAAAAACEAAAAAAAAAIQAAAAAAAAAhAAAAAAAAACEAAAAAAAAAIQAAAAAAAAAhAAAAAAAAACEAAAAAAAAAIQAAAAAAAAAhAAAAAAAAACEAAAAAAAAAIQAAAAAAAAAhAAAAAAAAACEAAAAAAAAAIQAAAAAAAAAhAAAAAAAAACEAAAAAAAAAIQAAAAAAAAAhAAAAAAAAACEAAAAAAAAAIQAAAAAAAAAhAAAAAAAAACEAAAAAAAAAIQAAAAAAAAAhAAAAAAAAACEAAAAAAAAAIQAAAAAAAAAhAAAAAAAAACEAAAAAAAAAIQAAAAAAAAAhAAAAAAAAACEAAAAAAAAAIQAAAAAAAAAhAAAAAAAAACEAAAAAAAAAIQAAAAAAAAAhAAAAAAAAACEAAAAAAAAAIQAAAAAAAAAhAAAAAAAAACEAAAAAAAAAIQAAAAAAAAAhAAAAAAAAACEAAAAAAAAAIQAAAAAAAAAhAAAAAAAAACEAAAAAAAAAIQAAAAAAAAAhAAAAAAAAAEEAAAAAAAAAQQAAAAAAAABBAAAAAAAAAEEAAAAAAAAAQQAAAAAAAABBAAAAAAAAAEEAAAAAAAAAQQAAAAAAAABBAAAAAAAAAEEAAAAAAAAAQQAAAAAAAABBAAAAAAAAAEEAAAAAAAAAQQAAAAAAAABBAAAAAAAAAEEAAAAAAAAAQQAAAAAAAABBAAAAAAAAAEEAAAAAAAAAQQAAAAAAAABBAAAAAAAAAEEAAAAAAAAAQQAAAAAAAABBAAAAAAAAAEEAAAAAAAAAQQAAAAAAAABBAAAAAAAAAEEAAAAAAAAAQQAAAAAAAABBAAAAAAAAAEEAAAAAAAAAQQAAAAAAAABBAAAAAAAAAEEAAAAAAAAAQQAAAAAAAABBAAAAAAAAAEEAAAAAAAAAQQAAAAAAAABBAAAAAAAAAEEAAAAAAAAAQQAAAAAAAABBAAAAAAAAAEEAAAAAAAAAQQAAAAAAAABBAAAAAAAAAEEAAAAAAAAAQQAAAAAAAABBAAAAAAAAAEEAAAAAAAAAQQAAAAAAAABBAAAAAAAAAEEAAAAAAAAAQQAAAAAAAABBAAAAAAAAAEEAAAAAAAAAQQAAAAAAAABBAAAAAAAAAEEAAAAAAAAAQQAAAAAAAABBAAAAAAAAAEEAAAAAAAAAQQAAAAAAAABBAAAAAAAAAEEAAAAAAAAAQQAAAAAAAABBAAAAAAAAAFEAAAAAAAAAUQAAAAAAAABRAAAAAAAAAFEAAAAAAAAAUQAAAAAAAABRAAAAAAAAAFEAAAAAAAAAUQAAAAAAAABRAAAAAAAAAFEAAAAAAAAAUQAAAAAAAABRAAAAAAAAAFEAAAAAAAAAUQAAAAAAAABRAAAAAAAAAFEAAAAAAAAAUQAAAAAAAABRAAAAAAAAAFEAAAAAAAAAUQAAAAAAAABRAAAAAAAAAFEAAAAAAAAAUQAAAAAAAABRAAAAAAAAAFEAAAAAAAAAUQAAAAAAAABRAAAAAAAAAFEAAAAAAAAAUQAAAAAAAABRAAAAAAAAAFEAAAAAAAAAUQAAAAAAAABRAAAAAAAAAFEAAAAAAAAAUQAAAAAAAABRAAAAAAAAAFEAAAAAAAAAUQAAAAAAAABRAAAAAAAAAFEAAAAAAAAAUQAAAAAAAABRAAAAAAAAAFEAAAAAAAAAUQAAAAAAAABRAAAAAAAAAFEAAAAAAAAAUQAAAAAAAABRAAAAAAAAAFEAAAAAAAAAUQAAAAAAAABRAAAAAAAAAFEAAAAAAAAAYQAAAAAAAABhAAAAAAAAAGEAAAAAAAAAYQAAAAAAAABhAAAAAAAAAGEAAAAAAAAAYQAAAAAAAABhAAAAAAAAAGEAAAAAAAAAYQAAAAAAAABhAAAAAAAAAGEAAAAAAAAAYQAAAAAAAABhAAAAAAAAAGEAAAAAAAAAYQAAAAAAAABhAAAAAAAAAGEAAAAAAAAAYQAAAAAAAABhAAAAAAAAAGEAAAAAAAAAYQAAAAAAAABhAAAAAAAAAGEAAAAAAAAAYQAAAAAAAABhAAAAAAAAAGEAAAAAAAAAYQAAAAAAAABhAAAAAAAAAGEAAAAAAAAAYQAAAAAAAABhAAAAAAAAAGEAAAAAAAAAYQAAAAAAAABhAAAAAAAAAGEAAAAAAAAAYQAAAAAAAABxAAAAAAAAAHEAAAAAAAAAcQAAAAAAAABxAAAAAAAAAHEAAAAAAAAAcQAAAAAAAABxAAAAAAAAAHEAAAAAAAAAcQAAAAAAAABxAAAAAAAAAHEAAAAAAAAAcQAAAAAAAABxAAAAAAAAAHEAAAAAAAAAcQAAAAAAAABxAAAAAAAAAHEAAAAAAAAAcQAAAAAAAABxAAAAAAAAAHEAAAAAAAAAcQAAAAAAAABxAAAAAAAAAIEAAAAAAAAAgQAAAAAAAACBAAAAAAAAAIEAAAAAAAAAgQAAAAAAAACBAAAAAAAAAIEAAAAAAAAAgQAAAAAAAACBAAAAAAAAAIEAAAAAAAAAgQAAAAAAAACBAAAAAAAAAIEAAAAAAAAAgQAAAAAAAACBAAAAAAAAAIEAAAAAAAAAiQAAAAAAAACJAAAAAAAAAIkAAAAAAAAAiQAAAAAAAACJAAAAAAAAAIkAAAAAAAAAiQAAAAAAAACJAAAAAAAAAIkAAAAAAAAAiQAAAAAAAACJAAAAAAAAAIkAAAAAAAAAiQAAAAAAAACJAAAAAAAAAIkAAAAAAAAAkQAAAAAAAACRAAAAAAAAAJEAAAAAAAAAkQAAAAAAAACRAAAAAAAAAJEAAAAAAAAAkQAAAAAAAACZAAAAAAAAAJkAAAAAAAAAmQAAAAAAAAChAAAAAAAAAKEAAAAAAAAAsQAAAAAAAACxAAAAAAAAALkAAAAAAAAAwQAAAAAAAADZA\",\"dtype\":\"float64\",\"shape\":[786]},\"y\":{\"__ndarray__\":\"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\",\"dtype\":\"float64\",\"shape\":[786]}},\"selected\":{\"id\":\"1415\",\"type\":\"Selection\"},\"selection_policy\":{\"id\":\"1414\",\"type\":\"UnionRenderers\"}},\"id\":\"1375\",\"type\":\"ColumnDataSource\"}],\"root_ids\":[\"1340\"]},\"title\":\"Bokeh Application\",\"version\":\"1.2.0\"}};\n",
       "  var render_items = [{\"docid\":\"66b272e4-8a5d-471d-9720-cb614912dd22\",\"roots\":{\"1340\":\"a27aa6a0-1469-40f4-97dd-4e42ed12c92a\"}}];\n",
       "  root.Bokeh.embed.embed_items_notebook(docs_json, render_items);\n",
       "\n",
       "  }\n",
       "  if (root.Bokeh !== undefined) {\n",
       "    embed_document(root);\n",
       "  } else {\n",
       "    var attempts = 0;\n",
       "    var timer = setInterval(function(root) {\n",
       "      if (root.Bokeh !== undefined) {\n",
       "        embed_document(root);\n",
       "        clearInterval(timer);\n",
       "      }\n",
       "      attempts++;\n",
       "      if (attempts > 100) {\n",
       "        console.log(\"Bokeh: ERROR: Unable to run BokehJS code because BokehJS library is missing\");\n",
       "        clearInterval(timer);\n",
       "      }\n",
       "    }, 10, root)\n",
       "  }\n",
       "})(window);"
      ],
      "application/vnd.bokehjs_exec.v0+json": ""
     },
     "metadata": {
      "application/vnd.bokehjs_exec.v0+json": {
       "id": "1340"
      }
     },
     "output_type": "display_data"
    }
   ],
   "source": [
    "p.xaxis.axis_label = '# high impact variants'\n",
    "p.yaxis.axis_label = '# heterozygotes'\n",
    "p.plot_width = 800\n",
    "p.plot_height = 500\n",
    "p.y_scale = LogScale()\n",
    "p.x_scale = LogScale()\n",
    "show(p)"
   ]
  },
  {
   "cell_type": "code",
   "execution_count": null,
   "metadata": {},
   "outputs": [],
   "source": []
  }
 ],
 "metadata": {
  "kernelspec": {
   "display_name": "Python 3",
   "language": "python",
   "name": "python3"
  },
  "language_info": {
   "codemirror_mode": {
    "name": "ipython",
    "version": 3
   },
   "file_extension": ".py",
   "mimetype": "text/x-python",
   "name": "python",
   "nbconvert_exporter": "python",
   "pygments_lexer": "ipython3",
   "version": "3.9.1"
  }
 },
 "nbformat": 4,
 "nbformat_minor": 4
}
