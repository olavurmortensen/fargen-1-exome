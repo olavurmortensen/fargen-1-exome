{
 "cells": [
  {
   "cell_type": "markdown",
   "metadata": {},
   "source": [
    "# Allele frequencies in FarGen and gnomAD data"
   ]
  },
  {
   "cell_type": "code",
   "execution_count": 1,
   "metadata": {},
   "outputs": [
    {
     "name": "stderr",
     "output_type": "stream",
     "text": [
      "Running on Apache Spark version 2.4.1\n",
      "SparkUI available at http://hms-beagle-7889d4ff4c-6wxtc:4041\n",
      "Welcome to\n",
      "     __  __     <>__\n",
      "    / /_/ /__  __/ /\n",
      "   / __  / _ `/ / /\n",
      "  /_/ /_/\\_,_/_/_/   version 0.2.61-3c86d3ba497a\n",
      "LOGGING: writing to /home/olavur/experiments/2020-11-13_fargen1_exome_analysis/fargen-1-exome/notebooks/gnomad_exome_sites/hail-20210318-0820-0.2.61-3c86d3ba497a.log\n"
     ]
    }
   ],
   "source": [
    "import hail as hl\n",
    "hl.init(spark_conf={'spark.driver.memory': '10g', 'spark.local.dir': '/home/olavur/tmp'})"
   ]
  },
  {
   "cell_type": "code",
   "execution_count": 2,
   "metadata": {},
   "outputs": [
    {
     "data": {
      "text/html": [
       "\n",
       "    <div class=\"bk-root\">\n",
       "        <a href=\"https://bokeh.pydata.org\" target=\"_blank\" class=\"bk-logo bk-logo-small bk-logo-notebook\"></a>\n",
       "        <span id=\"1001\">Loading BokehJS ...</span>\n",
       "    </div>"
      ]
     },
     "metadata": {},
     "output_type": "display_data"
    },
    {
     "data": {
      "application/javascript": [
       "\n",
       "(function(root) {\n",
       "  function now() {\n",
       "    return new Date();\n",
       "  }\n",
       "\n",
       "  var force = true;\n",
       "\n",
       "  if (typeof root._bokeh_onload_callbacks === \"undefined\" || force === true) {\n",
       "    root._bokeh_onload_callbacks = [];\n",
       "    root._bokeh_is_loading = undefined;\n",
       "  }\n",
       "\n",
       "  var JS_MIME_TYPE = 'application/javascript';\n",
       "  var HTML_MIME_TYPE = 'text/html';\n",
       "  var EXEC_MIME_TYPE = 'application/vnd.bokehjs_exec.v0+json';\n",
       "  var CLASS_NAME = 'output_bokeh rendered_html';\n",
       "\n",
       "  /**\n",
       "   * Render data to the DOM node\n",
       "   */\n",
       "  function render(props, node) {\n",
       "    var script = document.createElement(\"script\");\n",
       "    node.appendChild(script);\n",
       "  }\n",
       "\n",
       "  /**\n",
       "   * Handle when an output is cleared or removed\n",
       "   */\n",
       "  function handleClearOutput(event, handle) {\n",
       "    var cell = handle.cell;\n",
       "\n",
       "    var id = cell.output_area._bokeh_element_id;\n",
       "    var server_id = cell.output_area._bokeh_server_id;\n",
       "    // Clean up Bokeh references\n",
       "    if (id != null && id in Bokeh.index) {\n",
       "      Bokeh.index[id].model.document.clear();\n",
       "      delete Bokeh.index[id];\n",
       "    }\n",
       "\n",
       "    if (server_id !== undefined) {\n",
       "      // Clean up Bokeh references\n",
       "      var cmd = \"from bokeh.io.state import curstate; print(curstate().uuid_to_server['\" + server_id + \"'].get_sessions()[0].document.roots[0]._id)\";\n",
       "      cell.notebook.kernel.execute(cmd, {\n",
       "        iopub: {\n",
       "          output: function(msg) {\n",
       "            var id = msg.content.text.trim();\n",
       "            if (id in Bokeh.index) {\n",
       "              Bokeh.index[id].model.document.clear();\n",
       "              delete Bokeh.index[id];\n",
       "            }\n",
       "          }\n",
       "        }\n",
       "      });\n",
       "      // Destroy server and session\n",
       "      var cmd = \"import bokeh.io.notebook as ion; ion.destroy_server('\" + server_id + \"')\";\n",
       "      cell.notebook.kernel.execute(cmd);\n",
       "    }\n",
       "  }\n",
       "\n",
       "  /**\n",
       "   * Handle when a new output is added\n",
       "   */\n",
       "  function handleAddOutput(event, handle) {\n",
       "    var output_area = handle.output_area;\n",
       "    var output = handle.output;\n",
       "\n",
       "    // limit handleAddOutput to display_data with EXEC_MIME_TYPE content only\n",
       "    if ((output.output_type != \"display_data\") || (!output.data.hasOwnProperty(EXEC_MIME_TYPE))) {\n",
       "      return\n",
       "    }\n",
       "\n",
       "    var toinsert = output_area.element.find(\".\" + CLASS_NAME.split(' ')[0]);\n",
       "\n",
       "    if (output.metadata[EXEC_MIME_TYPE][\"id\"] !== undefined) {\n",
       "      toinsert[toinsert.length - 1].firstChild.textContent = output.data[JS_MIME_TYPE];\n",
       "      // store reference to embed id on output_area\n",
       "      output_area._bokeh_element_id = output.metadata[EXEC_MIME_TYPE][\"id\"];\n",
       "    }\n",
       "    if (output.metadata[EXEC_MIME_TYPE][\"server_id\"] !== undefined) {\n",
       "      var bk_div = document.createElement(\"div\");\n",
       "      bk_div.innerHTML = output.data[HTML_MIME_TYPE];\n",
       "      var script_attrs = bk_div.children[0].attributes;\n",
       "      for (var i = 0; i < script_attrs.length; i++) {\n",
       "        toinsert[toinsert.length - 1].firstChild.setAttribute(script_attrs[i].name, script_attrs[i].value);\n",
       "      }\n",
       "      // store reference to server id on output_area\n",
       "      output_area._bokeh_server_id = output.metadata[EXEC_MIME_TYPE][\"server_id\"];\n",
       "    }\n",
       "  }\n",
       "\n",
       "  function register_renderer(events, OutputArea) {\n",
       "\n",
       "    function append_mime(data, metadata, element) {\n",
       "      // create a DOM node to render to\n",
       "      var toinsert = this.create_output_subarea(\n",
       "        metadata,\n",
       "        CLASS_NAME,\n",
       "        EXEC_MIME_TYPE\n",
       "      );\n",
       "      this.keyboard_manager.register_events(toinsert);\n",
       "      // Render to node\n",
       "      var props = {data: data, metadata: metadata[EXEC_MIME_TYPE]};\n",
       "      render(props, toinsert[toinsert.length - 1]);\n",
       "      element.append(toinsert);\n",
       "      return toinsert\n",
       "    }\n",
       "\n",
       "    /* Handle when an output is cleared or removed */\n",
       "    events.on('clear_output.CodeCell', handleClearOutput);\n",
       "    events.on('delete.Cell', handleClearOutput);\n",
       "\n",
       "    /* Handle when a new output is added */\n",
       "    events.on('output_added.OutputArea', handleAddOutput);\n",
       "\n",
       "    /**\n",
       "     * Register the mime type and append_mime function with output_area\n",
       "     */\n",
       "    OutputArea.prototype.register_mime_type(EXEC_MIME_TYPE, append_mime, {\n",
       "      /* Is output safe? */\n",
       "      safe: true,\n",
       "      /* Index of renderer in `output_area.display_order` */\n",
       "      index: 0\n",
       "    });\n",
       "  }\n",
       "\n",
       "  // register the mime type if in Jupyter Notebook environment and previously unregistered\n",
       "  if (root.Jupyter !== undefined) {\n",
       "    var events = require('base/js/events');\n",
       "    var OutputArea = require('notebook/js/outputarea').OutputArea;\n",
       "\n",
       "    if (OutputArea.prototype.mime_types().indexOf(EXEC_MIME_TYPE) == -1) {\n",
       "      register_renderer(events, OutputArea);\n",
       "    }\n",
       "  }\n",
       "\n",
       "  \n",
       "  if (typeof (root._bokeh_timeout) === \"undefined\" || force === true) {\n",
       "    root._bokeh_timeout = Date.now() + 5000;\n",
       "    root._bokeh_failed_load = false;\n",
       "  }\n",
       "\n",
       "  var NB_LOAD_WARNING = {'data': {'text/html':\n",
       "     \"<div style='background-color: #fdd'>\\n\"+\n",
       "     \"<p>\\n\"+\n",
       "     \"BokehJS does not appear to have successfully loaded. If loading BokehJS from CDN, this \\n\"+\n",
       "     \"may be due to a slow or bad network connection. Possible fixes:\\n\"+\n",
       "     \"</p>\\n\"+\n",
       "     \"<ul>\\n\"+\n",
       "     \"<li>re-rerun `output_notebook()` to attempt to load from CDN again, or</li>\\n\"+\n",
       "     \"<li>use INLINE resources instead, as so:</li>\\n\"+\n",
       "     \"</ul>\\n\"+\n",
       "     \"<code>\\n\"+\n",
       "     \"from bokeh.resources import INLINE\\n\"+\n",
       "     \"output_notebook(resources=INLINE)\\n\"+\n",
       "     \"</code>\\n\"+\n",
       "     \"</div>\"}};\n",
       "\n",
       "  function display_loaded() {\n",
       "    var el = document.getElementById(\"1001\");\n",
       "    if (el != null) {\n",
       "      el.textContent = \"BokehJS is loading...\";\n",
       "    }\n",
       "    if (root.Bokeh !== undefined) {\n",
       "      if (el != null) {\n",
       "        el.textContent = \"BokehJS \" + root.Bokeh.version + \" successfully loaded.\";\n",
       "      }\n",
       "    } else if (Date.now() < root._bokeh_timeout) {\n",
       "      setTimeout(display_loaded, 100)\n",
       "    }\n",
       "  }\n",
       "\n",
       "\n",
       "  function run_callbacks() {\n",
       "    try {\n",
       "      root._bokeh_onload_callbacks.forEach(function(callback) {\n",
       "        if (callback != null)\n",
       "          callback();\n",
       "      });\n",
       "    } finally {\n",
       "      delete root._bokeh_onload_callbacks\n",
       "    }\n",
       "    console.debug(\"Bokeh: all callbacks have finished\");\n",
       "  }\n",
       "\n",
       "  function load_libs(css_urls, js_urls, callback) {\n",
       "    if (css_urls == null) css_urls = [];\n",
       "    if (js_urls == null) js_urls = [];\n",
       "\n",
       "    root._bokeh_onload_callbacks.push(callback);\n",
       "    if (root._bokeh_is_loading > 0) {\n",
       "      console.debug(\"Bokeh: BokehJS is being loaded, scheduling callback at\", now());\n",
       "      return null;\n",
       "    }\n",
       "    if (js_urls == null || js_urls.length === 0) {\n",
       "      run_callbacks();\n",
       "      return null;\n",
       "    }\n",
       "    console.debug(\"Bokeh: BokehJS not loaded, scheduling load and callback at\", now());\n",
       "    root._bokeh_is_loading = css_urls.length + js_urls.length;\n",
       "\n",
       "    function on_load() {\n",
       "      root._bokeh_is_loading--;\n",
       "      if (root._bokeh_is_loading === 0) {\n",
       "        console.debug(\"Bokeh: all BokehJS libraries/stylesheets loaded\");\n",
       "        run_callbacks()\n",
       "      }\n",
       "    }\n",
       "\n",
       "    function on_error() {\n",
       "      console.error(\"failed to load \" + url);\n",
       "    }\n",
       "\n",
       "    for (var i = 0; i < css_urls.length; i++) {\n",
       "      var url = css_urls[i];\n",
       "      const element = document.createElement(\"link\");\n",
       "      element.onload = on_load;\n",
       "      element.onerror = on_error;\n",
       "      element.rel = \"stylesheet\";\n",
       "      element.type = \"text/css\";\n",
       "      element.href = url;\n",
       "      console.debug(\"Bokeh: injecting link tag for BokehJS stylesheet: \", url);\n",
       "      document.body.appendChild(element);\n",
       "    }\n",
       "\n",
       "    for (var i = 0; i < js_urls.length; i++) {\n",
       "      var url = js_urls[i];\n",
       "      var element = document.createElement('script');\n",
       "      element.onload = on_load;\n",
       "      element.onerror = on_error;\n",
       "      element.async = false;\n",
       "      element.src = url;\n",
       "      console.debug(\"Bokeh: injecting script tag for BokehJS library: \", url);\n",
       "      document.head.appendChild(element);\n",
       "    }\n",
       "  };var element = document.getElementById(\"1001\");\n",
       "  if (element == null) {\n",
       "    console.error(\"Bokeh: ERROR: autoload.js configured with elementid '1001' but no matching script tag was found. \")\n",
       "    return false;\n",
       "  }\n",
       "\n",
       "  function inject_raw_css(css) {\n",
       "    const element = document.createElement(\"style\");\n",
       "    element.appendChild(document.createTextNode(css));\n",
       "    document.body.appendChild(element);\n",
       "  }\n",
       "\n",
       "  var js_urls = [\"https://cdn.pydata.org/bokeh/release/bokeh-1.2.0.min.js\", \"https://cdn.pydata.org/bokeh/release/bokeh-widgets-1.2.0.min.js\", \"https://cdn.pydata.org/bokeh/release/bokeh-tables-1.2.0.min.js\", \"https://cdn.pydata.org/bokeh/release/bokeh-gl-1.2.0.min.js\"];\n",
       "  var css_urls = [\"https://cdn.pydata.org/bokeh/release/bokeh-1.2.0.min.css\", \"https://cdn.pydata.org/bokeh/release/bokeh-widgets-1.2.0.min.css\", \"https://cdn.pydata.org/bokeh/release/bokeh-tables-1.2.0.min.css\"];\n",
       "\n",
       "  var inline_js = [\n",
       "    function(Bokeh) {\n",
       "      Bokeh.set_log_level(\"info\");\n",
       "    },\n",
       "    \n",
       "    function(Bokeh) {\n",
       "      \n",
       "    },\n",
       "    function(Bokeh) {} // ensure no trailing comma for IE\n",
       "  ];\n",
       "\n",
       "  function run_inline_js() {\n",
       "    \n",
       "    if ((root.Bokeh !== undefined) || (force === true)) {\n",
       "      for (var i = 0; i < inline_js.length; i++) {\n",
       "        inline_js[i].call(root, root.Bokeh);\n",
       "      }if (force === true) {\n",
       "        display_loaded();\n",
       "      }} else if (Date.now() < root._bokeh_timeout) {\n",
       "      setTimeout(run_inline_js, 100);\n",
       "    } else if (!root._bokeh_failed_load) {\n",
       "      console.log(\"Bokeh: BokehJS failed to load within specified timeout.\");\n",
       "      root._bokeh_failed_load = true;\n",
       "    } else if (force !== true) {\n",
       "      var cell = $(document.getElementById(\"1001\")).parents('.cell').data().cell;\n",
       "      cell.output_area.append_execute_result(NB_LOAD_WARNING)\n",
       "    }\n",
       "\n",
       "  }\n",
       "\n",
       "  if (root._bokeh_is_loading === 0) {\n",
       "    console.debug(\"Bokeh: BokehJS loaded, going straight to plotting\");\n",
       "    run_inline_js();\n",
       "  } else {\n",
       "    load_libs(css_urls, js_urls, function() {\n",
       "      console.debug(\"Bokeh: BokehJS plotting callback run at\", now());\n",
       "      run_inline_js();\n",
       "    });\n",
       "  }\n",
       "}(window));"
      ],
      "application/vnd.bokehjs_load.v0+json": "\n(function(root) {\n  function now() {\n    return new Date();\n  }\n\n  var force = true;\n\n  if (typeof root._bokeh_onload_callbacks === \"undefined\" || force === true) {\n    root._bokeh_onload_callbacks = [];\n    root._bokeh_is_loading = undefined;\n  }\n\n  \n\n  \n  if (typeof (root._bokeh_timeout) === \"undefined\" || force === true) {\n    root._bokeh_timeout = Date.now() + 5000;\n    root._bokeh_failed_load = false;\n  }\n\n  var NB_LOAD_WARNING = {'data': {'text/html':\n     \"<div style='background-color: #fdd'>\\n\"+\n     \"<p>\\n\"+\n     \"BokehJS does not appear to have successfully loaded. If loading BokehJS from CDN, this \\n\"+\n     \"may be due to a slow or bad network connection. Possible fixes:\\n\"+\n     \"</p>\\n\"+\n     \"<ul>\\n\"+\n     \"<li>re-rerun `output_notebook()` to attempt to load from CDN again, or</li>\\n\"+\n     \"<li>use INLINE resources instead, as so:</li>\\n\"+\n     \"</ul>\\n\"+\n     \"<code>\\n\"+\n     \"from bokeh.resources import INLINE\\n\"+\n     \"output_notebook(resources=INLINE)\\n\"+\n     \"</code>\\n\"+\n     \"</div>\"}};\n\n  function display_loaded() {\n    var el = document.getElementById(\"1001\");\n    if (el != null) {\n      el.textContent = \"BokehJS is loading...\";\n    }\n    if (root.Bokeh !== undefined) {\n      if (el != null) {\n        el.textContent = \"BokehJS \" + root.Bokeh.version + \" successfully loaded.\";\n      }\n    } else if (Date.now() < root._bokeh_timeout) {\n      setTimeout(display_loaded, 100)\n    }\n  }\n\n\n  function run_callbacks() {\n    try {\n      root._bokeh_onload_callbacks.forEach(function(callback) {\n        if (callback != null)\n          callback();\n      });\n    } finally {\n      delete root._bokeh_onload_callbacks\n    }\n    console.debug(\"Bokeh: all callbacks have finished\");\n  }\n\n  function load_libs(css_urls, js_urls, callback) {\n    if (css_urls == null) css_urls = [];\n    if (js_urls == null) js_urls = [];\n\n    root._bokeh_onload_callbacks.push(callback);\n    if (root._bokeh_is_loading > 0) {\n      console.debug(\"Bokeh: BokehJS is being loaded, scheduling callback at\", now());\n      return null;\n    }\n    if (js_urls == null || js_urls.length === 0) {\n      run_callbacks();\n      return null;\n    }\n    console.debug(\"Bokeh: BokehJS not loaded, scheduling load and callback at\", now());\n    root._bokeh_is_loading = css_urls.length + js_urls.length;\n\n    function on_load() {\n      root._bokeh_is_loading--;\n      if (root._bokeh_is_loading === 0) {\n        console.debug(\"Bokeh: all BokehJS libraries/stylesheets loaded\");\n        run_callbacks()\n      }\n    }\n\n    function on_error() {\n      console.error(\"failed to load \" + url);\n    }\n\n    for (var i = 0; i < css_urls.length; i++) {\n      var url = css_urls[i];\n      const element = document.createElement(\"link\");\n      element.onload = on_load;\n      element.onerror = on_error;\n      element.rel = \"stylesheet\";\n      element.type = \"text/css\";\n      element.href = url;\n      console.debug(\"Bokeh: injecting link tag for BokehJS stylesheet: \", url);\n      document.body.appendChild(element);\n    }\n\n    for (var i = 0; i < js_urls.length; i++) {\n      var url = js_urls[i];\n      var element = document.createElement('script');\n      element.onload = on_load;\n      element.onerror = on_error;\n      element.async = false;\n      element.src = url;\n      console.debug(\"Bokeh: injecting script tag for BokehJS library: \", url);\n      document.head.appendChild(element);\n    }\n  };var element = document.getElementById(\"1001\");\n  if (element == null) {\n    console.error(\"Bokeh: ERROR: autoload.js configured with elementid '1001' but no matching script tag was found. \")\n    return false;\n  }\n\n  function inject_raw_css(css) {\n    const element = document.createElement(\"style\");\n    element.appendChild(document.createTextNode(css));\n    document.body.appendChild(element);\n  }\n\n  var js_urls = [\"https://cdn.pydata.org/bokeh/release/bokeh-1.2.0.min.js\", \"https://cdn.pydata.org/bokeh/release/bokeh-widgets-1.2.0.min.js\", \"https://cdn.pydata.org/bokeh/release/bokeh-tables-1.2.0.min.js\", \"https://cdn.pydata.org/bokeh/release/bokeh-gl-1.2.0.min.js\"];\n  var css_urls = [\"https://cdn.pydata.org/bokeh/release/bokeh-1.2.0.min.css\", \"https://cdn.pydata.org/bokeh/release/bokeh-widgets-1.2.0.min.css\", \"https://cdn.pydata.org/bokeh/release/bokeh-tables-1.2.0.min.css\"];\n\n  var inline_js = [\n    function(Bokeh) {\n      Bokeh.set_log_level(\"info\");\n    },\n    \n    function(Bokeh) {\n      \n    },\n    function(Bokeh) {} // ensure no trailing comma for IE\n  ];\n\n  function run_inline_js() {\n    \n    if ((root.Bokeh !== undefined) || (force === true)) {\n      for (var i = 0; i < inline_js.length; i++) {\n        inline_js[i].call(root, root.Bokeh);\n      }if (force === true) {\n        display_loaded();\n      }} else if (Date.now() < root._bokeh_timeout) {\n      setTimeout(run_inline_js, 100);\n    } else if (!root._bokeh_failed_load) {\n      console.log(\"Bokeh: BokehJS failed to load within specified timeout.\");\n      root._bokeh_failed_load = true;\n    } else if (force !== true) {\n      var cell = $(document.getElementById(\"1001\")).parents('.cell').data().cell;\n      cell.output_area.append_execute_result(NB_LOAD_WARNING)\n    }\n\n  }\n\n  if (root._bokeh_is_loading === 0) {\n    console.debug(\"Bokeh: BokehJS loaded, going straight to plotting\");\n    run_inline_js();\n  } else {\n    load_libs(css_urls, js_urls, function() {\n      console.debug(\"Bokeh: BokehJS plotting callback run at\", now());\n      run_inline_js();\n    });\n  }\n}(window));"
     },
     "metadata": {},
     "output_type": "display_data"
    }
   ],
   "source": [
    "from bokeh.io import show, output_notebook\n",
    "from bokeh.layouts import gridplot\n",
    "from bokeh.models.scales import LogScale\n",
    "output_notebook()"
   ]
  },
  {
   "cell_type": "code",
   "execution_count": 3,
   "metadata": {},
   "outputs": [],
   "source": [
    "import pandas as pd\n",
    "import numpy as np"
   ]
  },
  {
   "cell_type": "code",
   "execution_count": 4,
   "metadata": {},
   "outputs": [],
   "source": [
    "BASE_DIR = '/home/olavur/experiments/2020-11-13_fargen1_exome_analysis'"
   ]
  },
  {
   "cell_type": "markdown",
   "metadata": {},
   "source": [
    "## Load FarGen data annotated with gnomAD data"
   ]
  },
  {
   "cell_type": "code",
   "execution_count": 5,
   "metadata": {},
   "outputs": [],
   "source": [
    "fargen_mt = hl.read_matrix_table(BASE_DIR + '/data/mt/hq_gnomad_annotated.mt')"
   ]
  },
  {
   "cell_type": "markdown",
   "metadata": {},
   "source": [
    "Annotate the FarGen data with gnomAD concordance."
   ]
  },
  {
   "cell_type": "code",
   "execution_count": 6,
   "metadata": {},
   "outputs": [],
   "source": [
    "fargen_mt = fargen_mt.annotate_rows(in_gnomad=hl.is_defined(fargen_mt.gnomad))"
   ]
  },
  {
   "cell_type": "markdown",
   "metadata": {},
   "source": [
    "Count number of FarGen sites that are and are not present in gnomAD."
   ]
  },
  {
   "cell_type": "code",
   "execution_count": 7,
   "metadata": {},
   "outputs": [
    {
     "data": {
      "text/plain": [
       "{False: 1137429, True: 194584}"
      ]
     },
     "execution_count": 7,
     "metadata": {},
     "output_type": "execute_result"
    }
   ],
   "source": [
    "fargen_mt.aggregate_rows(hl.agg.counter(fargen_mt.in_gnomad))"
   ]
  },
  {
   "cell_type": "markdown",
   "metadata": {},
   "source": [
    "## Site-frequency spectrum\n",
    "\n",
    "Let $f_i$ be the *site frequency* of bin $i$, where bin $i$ corresponds to some range of *allele frequencies*. We are going to compute the folded frequencies $f^*_i = f_i + f_{n-i}$.\n",
    "\n",
    "Example: if we have 10 bins, then $f^*_1 = f_1 + f_{10}$.\n",
    "\n",
    "Calculate a histogram of allele frequencies."
   ]
  },
  {
   "cell_type": "code",
   "execution_count": 8,
   "metadata": {},
   "outputs": [],
   "source": [
    "n_bins = 100\n",
    "\n",
    "# Make sure the number of bins is an even number.\n",
    "assert n_bins % 2 == 0, 'Number of bins must be an even number.'\n",
    "hist_struct = fargen_mt.aggregate_rows(hl.agg.hist(fargen_mt.info.AF[0], 0, 1, n_bins))"
   ]
  },
  {
   "cell_type": "markdown",
   "metadata": {},
   "source": [
    "Get the allele frequencies."
   ]
  },
  {
   "cell_type": "code",
   "execution_count": 9,
   "metadata": {},
   "outputs": [],
   "source": [
    "allele_freq = hist_struct.bin_edges"
   ]
  },
  {
   "cell_type": "markdown",
   "metadata": {},
   "source": [
    "Get site frequencies."
   ]
  },
  {
   "cell_type": "code",
   "execution_count": 10,
   "metadata": {},
   "outputs": [],
   "source": [
    "# The site count is the number of times frequencies in each bin is observed.\n",
    "site_counts = np.array(hist_struct.bin_freq)\n",
    "\n",
    "# Calculate site frequencies.\n",
    "n_sites = sum(site_counts)\n",
    "site_freq = site_counts / n_sites"
   ]
  },
  {
   "cell_type": "markdown",
   "metadata": {},
   "source": [
    "Compute the folded site frequency."
   ]
  },
  {
   "cell_type": "code",
   "execution_count": 11,
   "metadata": {},
   "outputs": [],
   "source": [
    "half = int(n_bins/2)\n",
    "folded_site_freq = site_freq[:half] + site_freq[:half-1:-1]"
   ]
  },
  {
   "cell_type": "markdown",
   "metadata": {},
   "source": [
    "Make a Hail table out of the results."
   ]
  },
  {
   "cell_type": "code",
   "execution_count": 12,
   "metadata": {},
   "outputs": [],
   "source": [
    "# Make a Hail table with the allele counts and site frequencies.\n",
    "ffs_table = []\n",
    "for ac, fc in zip(allele_freq, folded_site_freq):\n",
    "    row = {'af': ac, 'ff': fc}\n",
    "    ffs_table.append(row)\n",
    "\n",
    "# Make a table where each row is a bin, and each row contains the allele frequency and the folded site-frequency.\n",
    "ht_ffs = hl.Table.parallelize(hl.literal(ffs_table, 'array<struct{af:float32,ff:float32}>'))"
   ]
  },
  {
   "cell_type": "markdown",
   "metadata": {},
   "source": [
    "Plot the FFS."
   ]
  },
  {
   "cell_type": "code",
   "execution_count": 13,
   "metadata": {},
   "outputs": [
    {
     "data": {
      "text/html": [
       "\n",
       "\n",
       "\n",
       "\n",
       "\n",
       "\n",
       "  <div class=\"bk-root\" id=\"5acf1fe8-ed08-4d34-9a8f-e56c92679ab7\" data-root-id=\"1002\"></div>\n"
      ]
     },
     "metadata": {},
     "output_type": "display_data"
    },
    {
     "data": {
      "application/javascript": [
       "(function(root) {\n",
       "  function embed_document(root) {\n",
       "    \n",
       "  var docs_json = {\"4fac9c49-ae1d-4608-9c16-e16345f6a725\":{\"roots\":{\"references\":[{\"attributes\":{\"below\":[{\"id\":\"1013\",\"type\":\"LinearAxis\"}],\"center\":[{\"id\":\"1017\",\"type\":\"Grid\"},{\"id\":\"1022\",\"type\":\"Grid\"}],\"left\":[{\"id\":\"1018\",\"type\":\"LinearAxis\"}],\"plot_height\":400,\"plot_width\":800,\"renderers\":[{\"id\":\"1042\",\"type\":\"GlyphRenderer\"}],\"title\":{\"id\":\"1003\",\"type\":\"Title\"},\"toolbar\":{\"id\":\"1029\",\"type\":\"Toolbar\"},\"x_range\":{\"id\":\"1005\",\"type\":\"DataRange1d\"},\"x_scale\":{\"id\":\"1009\",\"type\":\"LinearScale\"},\"y_range\":{\"id\":\"1007\",\"type\":\"DataRange1d\"},\"y_scale\":{\"id\":\"1011\",\"type\":\"LinearScale\"}},\"id\":\"1002\",\"subtype\":\"Figure\",\"type\":\"Plot\"},{\"attributes\":{},\"id\":\"1014\",\"type\":\"BasicTicker\"},{\"attributes\":{},\"id\":\"1024\",\"type\":\"WheelZoomTool\"},{\"attributes\":{},\"id\":\"1049\",\"type\":\"UnionRenderers\"},{\"attributes\":{},\"id\":\"1023\",\"type\":\"PanTool\"},{\"attributes\":{\"source\":{\"id\":\"1038\",\"type\":\"ColumnDataSource\"}},\"id\":\"1043\",\"type\":\"CDSView\"},{\"attributes\":{\"fill_alpha\":{\"value\":0.1},\"fill_color\":{\"value\":\"#1f77b4\"},\"line_alpha\":{\"value\":0.1},\"line_color\":{\"value\":\"#1f77b4\"},\"x\":{\"field\":\"x\"},\"y\":{\"field\":\"y\"}},\"id\":\"1041\",\"type\":\"Circle\"},{\"attributes\":{\"data_source\":{\"id\":\"1038\",\"type\":\"ColumnDataSource\"},\"glyph\":{\"id\":\"1040\",\"type\":\"Circle\"},\"hover_glyph\":null,\"muted_glyph\":null,\"nonselection_glyph\":{\"id\":\"1041\",\"type\":\"Circle\"},\"selection_glyph\":null,\"view\":{\"id\":\"1043\",\"type\":\"CDSView\"}},\"id\":\"1042\",\"type\":\"GlyphRenderer\"},{\"attributes\":{},\"id\":\"1047\",\"type\":\"BasicTickFormatter\"},{\"attributes\":{},\"id\":\"1026\",\"type\":\"SaveTool\"},{\"attributes\":{\"axis_label\":\"Allele counts\",\"formatter\":{\"id\":\"1045\",\"type\":\"BasicTickFormatter\"},\"ticker\":{\"id\":\"1014\",\"type\":\"BasicTicker\"}},\"id\":\"1013\",\"type\":\"LinearAxis\"},{\"attributes\":{},\"id\":\"1027\",\"type\":\"ResetTool\"},{\"attributes\":{},\"id\":\"1009\",\"type\":\"LinearScale\"},{\"attributes\":{\"fill_color\":{\"value\":\"#1f77b4\"},\"line_color\":{\"value\":\"#1f77b4\"},\"x\":{\"field\":\"x\"},\"y\":{\"field\":\"y\"}},\"id\":\"1040\",\"type\":\"Circle\"},{\"attributes\":{\"callback\":null,\"tooltips\":[[\"x\",\"@x\"],[\"y\",\"@y\"]]},\"id\":\"1037\",\"type\":\"HoverTool\"},{\"attributes\":{},\"id\":\"1028\",\"type\":\"HelpTool\"},{\"attributes\":{\"dimension\":1,\"ticker\":{\"id\":\"1019\",\"type\":\"BasicTicker\"}},\"id\":\"1022\",\"type\":\"Grid\"},{\"attributes\":{},\"id\":\"1019\",\"type\":\"BasicTicker\"},{\"attributes\":{},\"id\":\"1050\",\"type\":\"Selection\"},{\"attributes\":{\"active_drag\":\"auto\",\"active_inspect\":\"auto\",\"active_multi\":null,\"active_scroll\":\"auto\",\"active_tap\":\"auto\",\"tools\":[{\"id\":\"1023\",\"type\":\"PanTool\"},{\"id\":\"1024\",\"type\":\"WheelZoomTool\"},{\"id\":\"1025\",\"type\":\"BoxZoomTool\"},{\"id\":\"1026\",\"type\":\"SaveTool\"},{\"id\":\"1027\",\"type\":\"ResetTool\"},{\"id\":\"1028\",\"type\":\"HelpTool\"},{\"id\":\"1037\",\"type\":\"HoverTool\"}]},\"id\":\"1029\",\"type\":\"Toolbar\"},{\"attributes\":{},\"id\":\"1045\",\"type\":\"BasicTickFormatter\"},{\"attributes\":{},\"id\":\"1011\",\"type\":\"LinearScale\"},{\"attributes\":{\"callback\":null,\"data\":{\"index\":[0,1,2,3,4,5,6,7,8,9,10,11,12,13,14,15,16,17,18,19,20,21,22,23,24,25,26,27,28,29,30,31,32,33,34,35,36,37,38,39,40,41,42,43,44,45,46,47,48,49],\"x\":{\"__ndarray__\":\"AAAAAAAAAAAAAABA4XqEPwAAAEDhepQ/AAAA4FG4nj8AAABA4XqkPwAAAKCZmak/AAAA4FG4rj8AAAAgheuxPwAAAEDherQ/AAAAgD0Ktz8AAACgmZm5PwAAAMD1KLw/AAAA4FG4vj8AAAAA16PAPwAAACCF68E/AAAAQDMzwz8AAABA4XrEPwAAAGCPwsU/AAAAgD0Kxz8AAACA61HIPwAAAKCZmck/AAAAoEfhyj8AAADA9SjMPwAAAOCjcM0/AAAA4FG4zj8AAAAAAADQPwAAAADXo9A/AAAAIK5H0T8AAAAghevRPwAAACBcj9I/AAAAQDMz0z8AAABACtfTPwAAAEDhetQ/AAAAYLge1T8AAABgj8LVPwAAAGBmZtY/AAAAgD0K1z8AAACAFK7XPwAAAIDrUdg/AAAAgML12D8AAACgmZnZPwAAAKBwPdo/AAAAoEfh2j8AAADAHoXbPwAAAMD1KNw/AAAAwMzM3D8AAADgo3DdPwAAAOB6FN4/AAAA4FG43j8AAAAAKVzfPw==\",\"dtype\":\"float64\",\"shape\":[50]},\"y\":{\"__ndarray__\":\"AAAAwMcR5j8AAAAAIc6vPwAAAGDMo6A/AAAA4G6zlz8AAAAAX7COPwAAAEDGdIo/AAAAAI+hgz8AAACgZWuCPwAAAOBNNHw/AAAAQA4wfj8AAACAO4J3PwAAAECmqHg/AAAAQAVvdD8AAACAaxt1PwAAAOBrB3I/AAAAQNwTcz8AAADAYplvPwAAAMBiE3E/AAAAoIsqbj8AAACg4S9wPwAAAABIc2w/AAAAQIBebj8AAACgWFtpPwAAAGBr+Wo/AAAAAJDraD8AAACA4JBpPwAAAOC56GY/AAAAAAywZj8AAADA7LdrPwAAAABW72Q/AAAAQIwCaD8AAADAvk5kPwAAAAC8wGU/AAAAQLd8Yj8AAADgh2NnPwAAAMDNA2U/AAAA4J1FZz8AAABgGVRlPwAAAGDeyWc/AAAAgGsbZT8AAAAgLPJmPwAAAEDdbmU/AAAAQDXmZz8AAADAb7plPwAAAICIGWc/AAAAoNPEZD8AAADgwXBoPwAAAMBnMmQ/AAAA4CdTZj8AAAAgr9JmPw==\",\"dtype\":\"float64\",\"shape\":[50]}},\"selected\":{\"id\":\"1050\",\"type\":\"Selection\"},\"selection_policy\":{\"id\":\"1049\",\"type\":\"UnionRenderers\"}},\"id\":\"1038\",\"type\":\"ColumnDataSource\"},{\"attributes\":{\"axis_label\":\"Frequency in population\",\"formatter\":{\"id\":\"1047\",\"type\":\"BasicTickFormatter\"},\"ticker\":{\"id\":\"1019\",\"type\":\"BasicTicker\"}},\"id\":\"1018\",\"type\":\"LinearAxis\"},{\"attributes\":{\"ticker\":{\"id\":\"1014\",\"type\":\"BasicTicker\"}},\"id\":\"1017\",\"type\":\"Grid\"},{\"attributes\":{\"overlay\":{\"id\":\"1051\",\"type\":\"BoxAnnotation\"}},\"id\":\"1025\",\"type\":\"BoxZoomTool\"},{\"attributes\":{\"callback\":null},\"id\":\"1007\",\"type\":\"DataRange1d\"},{\"attributes\":{\"bottom_units\":\"screen\",\"fill_alpha\":{\"value\":0.5},\"fill_color\":{\"value\":\"lightgrey\"},\"left_units\":\"screen\",\"level\":\"overlay\",\"line_alpha\":{\"value\":1.0},\"line_color\":{\"value\":\"black\"},\"line_dash\":[4,4],\"line_width\":{\"value\":2},\"render_mode\":\"css\",\"right_units\":\"screen\",\"top_units\":\"screen\"},\"id\":\"1051\",\"type\":\"BoxAnnotation\"},{\"attributes\":{\"callback\":null},\"id\":\"1005\",\"type\":\"DataRange1d\"},{\"attributes\":{\"text\":\"Site frequency spectrum (folded)\"},\"id\":\"1003\",\"type\":\"Title\"}],\"root_ids\":[\"1002\"]},\"title\":\"Bokeh Application\",\"version\":\"1.2.0\"}};\n",
       "  var render_items = [{\"docid\":\"4fac9c49-ae1d-4608-9c16-e16345f6a725\",\"roots\":{\"1002\":\"5acf1fe8-ed08-4d34-9a8f-e56c92679ab7\"}}];\n",
       "  root.Bokeh.embed.embed_items_notebook(docs_json, render_items);\n",
       "\n",
       "  }\n",
       "  if (root.Bokeh !== undefined) {\n",
       "    embed_document(root);\n",
       "  } else {\n",
       "    var attempts = 0;\n",
       "    var timer = setInterval(function(root) {\n",
       "      if (root.Bokeh !== undefined) {\n",
       "        embed_document(root);\n",
       "        clearInterval(timer);\n",
       "      }\n",
       "      attempts++;\n",
       "      if (attempts > 100) {\n",
       "        console.log(\"Bokeh: ERROR: Unable to run BokehJS code because BokehJS library is missing\");\n",
       "        clearInterval(timer);\n",
       "      }\n",
       "    }, 10, root)\n",
       "  }\n",
       "})(window);"
      ],
      "application/vnd.bokehjs_exec.v0+json": ""
     },
     "metadata": {
      "application/vnd.bokehjs_exec.v0+json": {
       "id": "1002"
      }
     },
     "output_type": "display_data"
    }
   ],
   "source": [
    "p = hl.plot.scatter(ht_ffs.af, ht_ffs.ff,\n",
    "                    xlabel='Allele counts', ylabel='Frequency in population', title='Site frequency spectrum (folded)',\n",
    "                    collect_all=True)\n",
    "p.plot_width = 800\n",
    "p.plot_height = 400\n",
    "show(p)"
   ]
  },
  {
   "cell_type": "markdown",
   "metadata": {},
   "source": [
    "### FFS function\n",
    "\n",
    "Write the code above in a function so we can re-use it."
   ]
  },
  {
   "cell_type": "code",
   "execution_count": 14,
   "metadata": {},
   "outputs": [],
   "source": [
    "def ffs(n_bins, mt, af_exprs):\n",
    "    # Make sure the number of bins is an even number.\n",
    "    assert n_bins % 2 == 0, 'Number of bins must be an even number.'\n",
    "    hist_struct = mt.aggregate_rows(hl.agg.hist(af_exprs, 0, 1, n_bins))\n",
    "\n",
    "    # Allele frequency.\n",
    "    allele_freq = hist_struct.bin_edges\n",
    "\n",
    "    # The site count is the number of times frequencies in each bin is observed.\n",
    "    site_counts = np.array(hist_struct.bin_freq)\n",
    "\n",
    "    # Calculate site frequencies.\n",
    "    n_sites = sum(site_counts)\n",
    "    site_freq = site_counts / n_sites\n",
    "\n",
    "    # Calculate folded site-frequencies.\n",
    "    half = int(n_bins/2)\n",
    "    folded_site_freq = site_freq[:half] + site_freq[:half-1:-1]\n",
    "\n",
    "    # Make a Hail table with the allele counts and site frequencies.\n",
    "    ffs_table = []\n",
    "    for ac, fc in zip(allele_freq, folded_site_freq):\n",
    "        row = {'af': ac, 'ff': fc}\n",
    "        ffs_table.append(row)\n",
    "\n",
    "    # Make a table where each row is a bin, and each row contains the allele frequency and the folded site-frequency.\n",
    "    ht_ffs = hl.Table.parallelize(hl.literal(ffs_table, 'array<struct{af:float32,ff:float32}>'))\n",
    "\n",
    "    return ht_ffs"
   ]
  },
  {
   "cell_type": "markdown",
   "metadata": {},
   "source": [
    "Make the same FFS as above just to check that it works."
   ]
  },
  {
   "cell_type": "code",
   "execution_count": 15,
   "metadata": {},
   "outputs": [],
   "source": [
    "ffs_ht = ffs(100, fargen_mt, fargen_mt.info.AF[0])"
   ]
  },
  {
   "cell_type": "code",
   "execution_count": 16,
   "metadata": {},
   "outputs": [
    {
     "data": {
      "text/html": [
       "\n",
       "\n",
       "\n",
       "\n",
       "\n",
       "\n",
       "  <div class=\"bk-root\" id=\"3ed1700a-49d2-400e-8e03-16b0c4e1a4b2\" data-root-id=\"1100\"></div>\n"
      ]
     },
     "metadata": {},
     "output_type": "display_data"
    },
    {
     "data": {
      "application/javascript": [
       "(function(root) {\n",
       "  function embed_document(root) {\n",
       "    \n",
       "  var docs_json = {\"adb53f1a-a74b-4f42-a8b8-208203289274\":{\"roots\":{\"references\":[{\"attributes\":{\"below\":[{\"id\":\"1111\",\"type\":\"LinearAxis\"}],\"center\":[{\"id\":\"1115\",\"type\":\"Grid\"},{\"id\":\"1120\",\"type\":\"Grid\"}],\"left\":[{\"id\":\"1116\",\"type\":\"LinearAxis\"}],\"plot_height\":400,\"plot_width\":800,\"renderers\":[{\"id\":\"1140\",\"type\":\"GlyphRenderer\"}],\"title\":{\"id\":\"1101\",\"type\":\"Title\"},\"toolbar\":{\"id\":\"1127\",\"type\":\"Toolbar\"},\"x_range\":{\"id\":\"1103\",\"type\":\"DataRange1d\"},\"x_scale\":{\"id\":\"1107\",\"type\":\"LinearScale\"},\"y_range\":{\"id\":\"1105\",\"type\":\"DataRange1d\"},\"y_scale\":{\"id\":\"1109\",\"type\":\"LinearScale\"}},\"id\":\"1100\",\"subtype\":\"Figure\",\"type\":\"Plot\"},{\"attributes\":{\"axis_label\":\"Allele counts\",\"formatter\":{\"id\":\"1151\",\"type\":\"BasicTickFormatter\"},\"ticker\":{\"id\":\"1112\",\"type\":\"BasicTicker\"}},\"id\":\"1111\",\"type\":\"LinearAxis\"},{\"attributes\":{\"dimension\":1,\"ticker\":{\"id\":\"1117\",\"type\":\"BasicTicker\"}},\"id\":\"1120\",\"type\":\"Grid\"},{\"attributes\":{},\"id\":\"1153\",\"type\":\"BasicTickFormatter\"},{\"attributes\":{},\"id\":\"1112\",\"type\":\"BasicTicker\"},{\"attributes\":{\"ticker\":{\"id\":\"1112\",\"type\":\"BasicTicker\"}},\"id\":\"1115\",\"type\":\"Grid\"},{\"attributes\":{\"callback\":null,\"data\":{\"index\":[0,1,2,3,4,5,6,7,8,9,10,11,12,13,14,15,16,17,18,19,20,21,22,23,24,25,26,27,28,29,30,31,32,33,34,35,36,37,38,39,40,41,42,43,44,45,46,47,48,49],\"x\":{\"__ndarray__\":\"AAAAAAAAAAAAAABA4XqEPwAAAEDhepQ/AAAA4FG4nj8AAABA4XqkPwAAAKCZmak/AAAA4FG4rj8AAAAgheuxPwAAAEDherQ/AAAAgD0Ktz8AAACgmZm5PwAAAMD1KLw/AAAA4FG4vj8AAAAA16PAPwAAACCF68E/AAAAQDMzwz8AAABA4XrEPwAAAGCPwsU/AAAAgD0Kxz8AAACA61HIPwAAAKCZmck/AAAAoEfhyj8AAADA9SjMPwAAAOCjcM0/AAAA4FG4zj8AAAAAAADQPwAAAADXo9A/AAAAIK5H0T8AAAAghevRPwAAACBcj9I/AAAAQDMz0z8AAABACtfTPwAAAEDhetQ/AAAAYLge1T8AAABgj8LVPwAAAGBmZtY/AAAAgD0K1z8AAACAFK7XPwAAAIDrUdg/AAAAgML12D8AAACgmZnZPwAAAKBwPdo/AAAAoEfh2j8AAADAHoXbPwAAAMD1KNw/AAAAwMzM3D8AAADgo3DdPwAAAOB6FN4/AAAA4FG43j8AAAAAKVzfPw==\",\"dtype\":\"float64\",\"shape\":[50]},\"y\":{\"__ndarray__\":\"AAAAwMcR5j8AAAAAIc6vPwAAAGDMo6A/AAAA4G6zlz8AAAAAX7COPwAAAEDGdIo/AAAAAI+hgz8AAACgZWuCPwAAAOBNNHw/AAAAQA4wfj8AAACAO4J3PwAAAECmqHg/AAAAQAVvdD8AAACAaxt1PwAAAOBrB3I/AAAAQNwTcz8AAADAYplvPwAAAMBiE3E/AAAAoIsqbj8AAACg4S9wPwAAAABIc2w/AAAAQIBebj8AAACgWFtpPwAAAGBr+Wo/AAAAAJDraD8AAACA4JBpPwAAAOC56GY/AAAAAAywZj8AAADA7LdrPwAAAABW72Q/AAAAQIwCaD8AAADAvk5kPwAAAAC8wGU/AAAAQLd8Yj8AAADgh2NnPwAAAMDNA2U/AAAA4J1FZz8AAABgGVRlPwAAAGDeyWc/AAAAgGsbZT8AAAAgLPJmPwAAAEDdbmU/AAAAQDXmZz8AAADAb7plPwAAAICIGWc/AAAAoNPEZD8AAADgwXBoPwAAAMBnMmQ/AAAA4CdTZj8AAAAgr9JmPw==\",\"dtype\":\"float64\",\"shape\":[50]}},\"selected\":{\"id\":\"1156\",\"type\":\"Selection\"},\"selection_policy\":{\"id\":\"1155\",\"type\":\"UnionRenderers\"}},\"id\":\"1136\",\"type\":\"ColumnDataSource\"},{\"attributes\":{},\"id\":\"1117\",\"type\":\"BasicTicker\"},{\"attributes\":{\"axis_label\":\"Frequency in population\",\"formatter\":{\"id\":\"1153\",\"type\":\"BasicTickFormatter\"},\"ticker\":{\"id\":\"1117\",\"type\":\"BasicTicker\"}},\"id\":\"1116\",\"type\":\"LinearAxis\"},{\"attributes\":{\"source\":{\"id\":\"1136\",\"type\":\"ColumnDataSource\"}},\"id\":\"1141\",\"type\":\"CDSView\"},{\"attributes\":{},\"id\":\"1156\",\"type\":\"Selection\"},{\"attributes\":{},\"id\":\"1151\",\"type\":\"BasicTickFormatter\"},{\"attributes\":{},\"id\":\"1155\",\"type\":\"UnionRenderers\"},{\"attributes\":{\"active_drag\":\"auto\",\"active_inspect\":\"auto\",\"active_multi\":null,\"active_scroll\":\"auto\",\"active_tap\":\"auto\",\"tools\":[{\"id\":\"1121\",\"type\":\"PanTool\"},{\"id\":\"1122\",\"type\":\"WheelZoomTool\"},{\"id\":\"1123\",\"type\":\"BoxZoomTool\"},{\"id\":\"1124\",\"type\":\"SaveTool\"},{\"id\":\"1125\",\"type\":\"ResetTool\"},{\"id\":\"1126\",\"type\":\"HelpTool\"},{\"id\":\"1135\",\"type\":\"HoverTool\"}]},\"id\":\"1127\",\"type\":\"Toolbar\"},{\"attributes\":{\"fill_color\":{\"value\":\"#1f77b4\"},\"line_color\":{\"value\":\"#1f77b4\"},\"x\":{\"field\":\"x\"},\"y\":{\"field\":\"y\"}},\"id\":\"1138\",\"type\":\"Circle\"},{\"attributes\":{\"bottom_units\":\"screen\",\"fill_alpha\":{\"value\":0.5},\"fill_color\":{\"value\":\"lightgrey\"},\"left_units\":\"screen\",\"level\":\"overlay\",\"line_alpha\":{\"value\":1.0},\"line_color\":{\"value\":\"black\"},\"line_dash\":[4,4],\"line_width\":{\"value\":2},\"render_mode\":\"css\",\"right_units\":\"screen\",\"top_units\":\"screen\"},\"id\":\"1157\",\"type\":\"BoxAnnotation\"},{\"attributes\":{\"callback\":null},\"id\":\"1105\",\"type\":\"DataRange1d\"},{\"attributes\":{},\"id\":\"1121\",\"type\":\"PanTool\"},{\"attributes\":{\"fill_alpha\":{\"value\":0.1},\"fill_color\":{\"value\":\"#1f77b4\"},\"line_alpha\":{\"value\":0.1},\"line_color\":{\"value\":\"#1f77b4\"},\"x\":{\"field\":\"x\"},\"y\":{\"field\":\"y\"}},\"id\":\"1139\",\"type\":\"Circle\"},{\"attributes\":{},\"id\":\"1122\",\"type\":\"WheelZoomTool\"},{\"attributes\":{\"data_source\":{\"id\":\"1136\",\"type\":\"ColumnDataSource\"},\"glyph\":{\"id\":\"1138\",\"type\":\"Circle\"},\"hover_glyph\":null,\"muted_glyph\":null,\"nonselection_glyph\":{\"id\":\"1139\",\"type\":\"Circle\"},\"selection_glyph\":null,\"view\":{\"id\":\"1141\",\"type\":\"CDSView\"}},\"id\":\"1140\",\"type\":\"GlyphRenderer\"},{\"attributes\":{\"callback\":null},\"id\":\"1103\",\"type\":\"DataRange1d\"},{\"attributes\":{\"overlay\":{\"id\":\"1157\",\"type\":\"BoxAnnotation\"}},\"id\":\"1123\",\"type\":\"BoxZoomTool\"},{\"attributes\":{},\"id\":\"1107\",\"type\":\"LinearScale\"},{\"attributes\":{},\"id\":\"1124\",\"type\":\"SaveTool\"},{\"attributes\":{\"text\":\"Site frequency spectrum (folded)\"},\"id\":\"1101\",\"type\":\"Title\"},{\"attributes\":{},\"id\":\"1125\",\"type\":\"ResetTool\"},{\"attributes\":{},\"id\":\"1109\",\"type\":\"LinearScale\"},{\"attributes\":{},\"id\":\"1126\",\"type\":\"HelpTool\"},{\"attributes\":{\"callback\":null,\"tooltips\":[[\"x\",\"@x\"],[\"y\",\"@y\"]]},\"id\":\"1135\",\"type\":\"HoverTool\"}],\"root_ids\":[\"1100\"]},\"title\":\"Bokeh Application\",\"version\":\"1.2.0\"}};\n",
       "  var render_items = [{\"docid\":\"adb53f1a-a74b-4f42-a8b8-208203289274\",\"roots\":{\"1100\":\"3ed1700a-49d2-400e-8e03-16b0c4e1a4b2\"}}];\n",
       "  root.Bokeh.embed.embed_items_notebook(docs_json, render_items);\n",
       "\n",
       "  }\n",
       "  if (root.Bokeh !== undefined) {\n",
       "    embed_document(root);\n",
       "  } else {\n",
       "    var attempts = 0;\n",
       "    var timer = setInterval(function(root) {\n",
       "      if (root.Bokeh !== undefined) {\n",
       "        embed_document(root);\n",
       "        clearInterval(timer);\n",
       "      }\n",
       "      attempts++;\n",
       "      if (attempts > 100) {\n",
       "        console.log(\"Bokeh: ERROR: Unable to run BokehJS code because BokehJS library is missing\");\n",
       "        clearInterval(timer);\n",
       "      }\n",
       "    }, 10, root)\n",
       "  }\n",
       "})(window);"
      ],
      "application/vnd.bokehjs_exec.v0+json": ""
     },
     "metadata": {
      "application/vnd.bokehjs_exec.v0+json": {
       "id": "1100"
      }
     },
     "output_type": "display_data"
    }
   ],
   "source": [
    "p = hl.plot.scatter(ffs_ht.af, ffs_ht.ff,\n",
    "                    xlabel='Allele counts', ylabel='Frequency in population', title='Site frequency spectrum (folded)',\n",
    "                    collect_all=True)\n",
    "p.plot_width = 800\n",
    "p.plot_height = 400\n",
    "show(p)"
   ]
  },
  {
   "cell_type": "markdown",
   "metadata": {},
   "source": [
    "### SFS stratified by gnomAD concordance\n",
    "\n",
    "Calculate the FFS with 100 bins for each of three strata:\n",
    "\n",
    "* All variants\n",
    "* Variants present in gnomAD\n",
    "* Variants *not* present in gnomAD"
   ]
  },
  {
   "cell_type": "code",
   "execution_count": 17,
   "metadata": {},
   "outputs": [],
   "source": [
    "# All variants.\n",
    "all_ffs_ht = ffs(100, fargen_mt, fargen_mt.info.AF[0])\n",
    "# Annotate the table with the strata name.\n",
    "all_ffs_ht = all_ffs_ht.annotate(strata='all')\n",
    "\n",
    "# Variants present in gnomAD.\n",
    "fargen_gnomad_mt = fargen_mt.filter_rows(fargen_mt.in_gnomad)\n",
    "gnomad_ffs_ht = ffs(100, fargen_gnomad_mt, fargen_gnomad_mt.info.AF[0])\n",
    "gnomad_ffs_ht = gnomad_ffs_ht.annotate(strata='gnomad')\n",
    "\n",
    "# Variants not present in gnomAD.\n",
    "fargen_non_gnomad_mt = fargen_mt.filter_rows(~fargen_mt.in_gnomad)\n",
    "non_gnomad_ffs_ht = ffs(100, fargen_non_gnomad_mt, fargen_non_gnomad_mt.info.AF[0])\n",
    "non_gnomad_ffs_ht = non_gnomad_ffs_ht.annotate(strata='non_gnomad')"
   ]
  },
  {
   "cell_type": "markdown",
   "metadata": {},
   "source": [
    "Make a union of all three FFS tables, so that we can plot them together."
   ]
  },
  {
   "cell_type": "code",
   "execution_count": 18,
   "metadata": {},
   "outputs": [],
   "source": [
    "ffs_ht = all_ffs_ht.union(gnomad_ffs_ht).union(non_gnomad_ffs_ht)"
   ]
  },
  {
   "cell_type": "code",
   "execution_count": 19,
   "metadata": {},
   "outputs": [
    {
     "data": {
      "text/html": [
       "\n",
       "\n",
       "\n",
       "\n",
       "\n",
       "\n",
       "  <div class=\"bk-root\" id=\"d3dd0633-e81c-4bb8-a5f9-f8ec9502f8e5\" data-root-id=\"1206\"></div>\n"
      ]
     },
     "metadata": {},
     "output_type": "display_data"
    },
    {
     "data": {
      "application/javascript": [
       "(function(root) {\n",
       "  function embed_document(root) {\n",
       "    \n",
       "  var docs_json = {\"2d7501b2-c43a-4835-94dc-90bf37a079fc\":{\"roots\":{\"references\":[{\"attributes\":{\"below\":[{\"id\":\"1217\",\"type\":\"LinearAxis\"}],\"center\":[{\"id\":\"1221\",\"type\":\"Grid\"},{\"id\":\"1226\",\"type\":\"Grid\"}],\"left\":[{\"id\":\"1222\",\"type\":\"LinearAxis\"},{\"id\":\"1265\",\"type\":\"Legend\"},{\"id\":\"1266\",\"type\":\"ColorBar\"}],\"plot_height\":400,\"plot_width\":800,\"renderers\":[{\"id\":\"1249\",\"type\":\"GlyphRenderer\"},{\"id\":\"1255\",\"type\":\"GlyphRenderer\"},{\"id\":\"1261\",\"type\":\"GlyphRenderer\"}],\"title\":{\"id\":\"1207\",\"type\":\"Title\"},\"toolbar\":{\"id\":\"1233\",\"type\":\"Toolbar\"},\"x_range\":{\"id\":\"1209\",\"type\":\"DataRange1d\"},\"x_scale\":{\"id\":\"1213\",\"type\":\"LinearScale\"},\"y_range\":{\"id\":\"1211\",\"type\":\"DataRange1d\"},\"y_scale\":{\"id\":\"1215\",\"type\":\"LinearScale\"}},\"id\":\"1206\",\"subtype\":\"Figure\",\"type\":\"Plot\"},{\"attributes\":{\"axis_label\":\"Allele counts\",\"formatter\":{\"id\":\"1284\",\"type\":\"BasicTickFormatter\"},\"ticker\":{\"id\":\"1218\",\"type\":\"BasicTicker\"}},\"id\":\"1217\",\"type\":\"LinearAxis\"},{\"attributes\":{\"fill_alpha\":{\"value\":0.1},\"fill_color\":{\"value\":\"#1f77b4\"},\"line_alpha\":{\"value\":0.1},\"line_color\":{\"value\":\"#1f77b4\"},\"x\":{\"field\":\"x\"},\"y\":{\"field\":\"y\"}},\"id\":\"1254\",\"type\":\"Circle\"},{\"attributes\":{},\"id\":\"1218\",\"type\":\"BasicTicker\"},{\"attributes\":{\"factors\":[\"gnomad\",\"all\",\"non_gnomad\"],\"palette\":[\"#1f77b4\",\"#ff7f0e\",\"#2ca02c\",\"#d62728\",\"#9467bd\",\"#8c564b\",\"#e377c2\",\"#7f7f7f\",\"#bcbd22\",\"#17becf\"]},\"id\":\"1243\",\"type\":\"CategoricalColorMapper\"},{\"attributes\":{},\"id\":\"1288\",\"type\":\"BasicTickFormatter\"},{\"attributes\":{\"data_source\":{\"id\":\"1242\",\"type\":\"ColumnDataSource\"},\"glyph\":{\"id\":\"1247\",\"type\":\"Circle\"},\"hover_glyph\":null,\"muted_glyph\":null,\"nonselection_glyph\":{\"id\":\"1248\",\"type\":\"Circle\"},\"selection_glyph\":null,\"view\":{\"id\":\"1245\",\"type\":\"CDSView\"}},\"id\":\"1249\",\"type\":\"GlyphRenderer\"},{\"attributes\":{\"callback\":null},\"id\":\"1211\",\"type\":\"DataRange1d\"},{\"attributes\":{\"overlay\":{\"id\":\"1292\",\"type\":\"BoxAnnotation\"}},\"id\":\"1229\",\"type\":\"BoxZoomTool\"},{\"attributes\":{},\"id\":\"1290\",\"type\":\"UnionRenderers\"},{\"attributes\":{},\"id\":\"1284\",\"type\":\"BasicTickFormatter\"},{\"attributes\":{\"callback\":null,\"tooltips\":[[\"x\",\"@x\"],[\"y\",\"@y\"],[\"label\",\"@label\"]]},\"id\":\"1241\",\"type\":\"HoverTool\"},{\"attributes\":{},\"id\":\"1213\",\"type\":\"LinearScale\"},{\"attributes\":{\"filters\":[{\"id\":\"1244\",\"type\":\"GroupFilter\"}],\"source\":{\"id\":\"1242\",\"type\":\"ColumnDataSource\"}},\"id\":\"1245\",\"type\":\"CDSView\"},{\"attributes\":{},\"id\":\"1227\",\"type\":\"PanTool\"},{\"attributes\":{\"filters\":[{\"id\":\"1256\",\"type\":\"GroupFilter\"}],\"source\":{\"id\":\"1242\",\"type\":\"ColumnDataSource\"}},\"id\":\"1257\",\"type\":\"CDSView\"},{\"attributes\":{},\"id\":\"1289\",\"type\":\"BasicTicker\"},{\"attributes\":{},\"id\":\"1286\",\"type\":\"BasicTickFormatter\"},{\"attributes\":{},\"id\":\"1228\",\"type\":\"WheelZoomTool\"},{\"attributes\":{\"data_source\":{\"id\":\"1242\",\"type\":\"ColumnDataSource\"},\"glyph\":{\"id\":\"1253\",\"type\":\"Circle\"},\"hover_glyph\":null,\"muted_glyph\":null,\"nonselection_glyph\":{\"id\":\"1254\",\"type\":\"Circle\"},\"selection_glyph\":null,\"view\":{\"id\":\"1251\",\"type\":\"CDSView\"}},\"id\":\"1255\",\"type\":\"GlyphRenderer\"},{\"attributes\":{},\"id\":\"1232\",\"type\":\"HelpTool\"},{\"attributes\":{\"callback\":null},\"id\":\"1209\",\"type\":\"DataRange1d\"},{\"attributes\":{\"active_drag\":\"auto\",\"active_inspect\":\"auto\",\"active_multi\":null,\"active_scroll\":\"auto\",\"active_tap\":\"auto\",\"tools\":[{\"id\":\"1227\",\"type\":\"PanTool\"},{\"id\":\"1228\",\"type\":\"WheelZoomTool\"},{\"id\":\"1229\",\"type\":\"BoxZoomTool\"},{\"id\":\"1230\",\"type\":\"SaveTool\"},{\"id\":\"1231\",\"type\":\"ResetTool\"},{\"id\":\"1232\",\"type\":\"HelpTool\"},{\"id\":\"1241\",\"type\":\"HoverTool\"}]},\"id\":\"1233\",\"type\":\"Toolbar\"},{\"attributes\":{\"column_name\":\"label\",\"group\":\"non_gnomad\"},\"id\":\"1256\",\"type\":\"GroupFilter\"},{\"attributes\":{\"callback\":null,\"data\":{\"index\":[0,1,2,3,4,5,6,7,8,9,10,11,12,13,14,15,16,17,18,19,20,21,22,23,24,25,26,27,28,29,30,31,32,33,34,35,36,37,38,39,40,41,42,43,44,45,46,47,48,49,50,51,52,53,54,55,56,57,58,59,60,61,62,63,64,65,66,67,68,69,70,71,72,73,74,75,76,77,78,79,80,81,82,83,84,85,86,87,88,89,90,91,92,93,94,95,96,97,98,99,100,101,102,103,104,105,106,107,108,109,110,111,112,113,114,115,116,117,118,119,120,121,122,123,124,125,126,127,128,129,130,131,132,133,134,135,136,137,138,139,140,141,142,143,144,145,146,147,148,149],\"label\":[\"all\",\"all\",\"all\",\"all\",\"all\",\"all\",\"all\",\"all\",\"all\",\"all\",\"all\",\"all\",\"all\",\"all\",\"all\",\"all\",\"all\",\"all\",\"all\",\"all\",\"all\",\"all\",\"all\",\"all\",\"all\",\"all\",\"all\",\"all\",\"all\",\"all\",\"all\",\"all\",\"all\",\"all\",\"all\",\"all\",\"all\",\"all\",\"all\",\"all\",\"all\",\"all\",\"all\",\"all\",\"all\",\"all\",\"all\",\"all\",\"all\",\"all\",\"gnomad\",\"gnomad\",\"gnomad\",\"gnomad\",\"gnomad\",\"gnomad\",\"gnomad\",\"gnomad\",\"gnomad\",\"gnomad\",\"gnomad\",\"gnomad\",\"gnomad\",\"gnomad\",\"gnomad\",\"gnomad\",\"gnomad\",\"gnomad\",\"gnomad\",\"gnomad\",\"gnomad\",\"gnomad\",\"gnomad\",\"gnomad\",\"gnomad\",\"gnomad\",\"gnomad\",\"gnomad\",\"gnomad\",\"gnomad\",\"gnomad\",\"gnomad\",\"gnomad\",\"gnomad\",\"gnomad\",\"gnomad\",\"gnomad\",\"gnomad\",\"gnomad\",\"gnomad\",\"gnomad\",\"gnomad\",\"gnomad\",\"gnomad\",\"gnomad\",\"gnomad\",\"gnomad\",\"gnomad\",\"gnomad\",\"gnomad\",\"non_gnomad\",\"non_gnomad\",\"non_gnomad\",\"non_gnomad\",\"non_gnomad\",\"non_gnomad\",\"non_gnomad\",\"non_gnomad\",\"non_gnomad\",\"non_gnomad\",\"non_gnomad\",\"non_gnomad\",\"non_gnomad\",\"non_gnomad\",\"non_gnomad\",\"non_gnomad\",\"non_gnomad\",\"non_gnomad\",\"non_gnomad\",\"non_gnomad\",\"non_gnomad\",\"non_gnomad\",\"non_gnomad\",\"non_gnomad\",\"non_gnomad\",\"non_gnomad\",\"non_gnomad\",\"non_gnomad\",\"non_gnomad\",\"non_gnomad\",\"non_gnomad\",\"non_gnomad\",\"non_gnomad\",\"non_gnomad\",\"non_gnomad\",\"non_gnomad\",\"non_gnomad\",\"non_gnomad\",\"non_gnomad\",\"non_gnomad\",\"non_gnomad\",\"non_gnomad\",\"non_gnomad\",\"non_gnomad\",\"non_gnomad\",\"non_gnomad\",\"non_gnomad\",\"non_gnomad\",\"non_gnomad\",\"non_gnomad\"],\"x\":{\"__ndarray__\":\"AAAAAAAAAAAAAABA4XqEPwAAAEDhepQ/AAAA4FG4nj8AAABA4XqkPwAAAKCZmak/AAAA4FG4rj8AAAAgheuxPwAAAEDherQ/AAAAgD0Ktz8AAACgmZm5PwAAAMD1KLw/AAAA4FG4vj8AAAAA16PAPwAAACCF68E/AAAAQDMzwz8AAABA4XrEPwAAAGCPwsU/AAAAgD0Kxz8AAACA61HIPwAAAKCZmck/AAAAoEfhyj8AAADA9SjMPwAAAOCjcM0/AAAA4FG4zj8AAAAAAADQPwAAAADXo9A/AAAAIK5H0T8AAAAghevRPwAAACBcj9I/AAAAQDMz0z8AAABACtfTPwAAAEDhetQ/AAAAYLge1T8AAABgj8LVPwAAAGBmZtY/AAAAgD0K1z8AAACAFK7XPwAAAIDrUdg/AAAAgML12D8AAACgmZnZPwAAAKBwPdo/AAAAoEfh2j8AAADAHoXbPwAAAMD1KNw/AAAAwMzM3D8AAADgo3DdPwAAAOB6FN4/AAAA4FG43j8AAAAAKVzfPwAAAAAAAAAAAAAAQOF6hD8AAABA4XqUPwAAAOBRuJ4/AAAAQOF6pD8AAACgmZmpPwAAAOBRuK4/AAAAIIXrsT8AAABA4Xq0PwAAAIA9Crc/AAAAoJmZuT8AAADA9Si8PwAAAOBRuL4/AAAAANejwD8AAAAghevBPwAAAEAzM8M/AAAAQOF6xD8AAABgj8LFPwAAAIA9Csc/AAAAgOtRyD8AAACgmZnJPwAAAKBH4co/AAAAwPUozD8AAADgo3DNPwAAAOBRuM4/AAAAAAAA0D8AAAAA16PQPwAAACCuR9E/AAAAIIXr0T8AAAAgXI/SPwAAAEAzM9M/AAAAQArX0z8AAABA4XrUPwAAAGC4HtU/AAAAYI/C1T8AAABgZmbWPwAAAIA9Ctc/AAAAgBSu1z8AAACA61HYPwAAAIDC9dg/AAAAoJmZ2T8AAACgcD3aPwAAAKBH4do/AAAAwB6F2z8AAADA9SjcPwAAAMDMzNw/AAAA4KNw3T8AAADgehTePwAAAOBRuN4/AAAAAClc3z8AAAAAAAAAAAAAAEDheoQ/AAAAQOF6lD8AAADgUbiePwAAAEDheqQ/AAAAoJmZqT8AAADgUbiuPwAAACCF67E/AAAAQOF6tD8AAACAPQq3PwAAAKCZmbk/AAAAwPUovD8AAADgUbi+PwAAAADXo8A/AAAAIIXrwT8AAABAMzPDPwAAAEDhesQ/AAAAYI/CxT8AAACAPQrHPwAAAIDrUcg/AAAAoJmZyT8AAACgR+HKPwAAAMD1KMw/AAAA4KNwzT8AAADgUbjOPwAAAAAAANA/AAAAANej0D8AAAAgrkfRPwAAACCF69E/AAAAIFyP0j8AAABAMzPTPwAAAEAK19M/AAAAQOF61D8AAABguB7VPwAAAGCPwtU/AAAAYGZm1j8AAACAPQrXPwAAAIAUrtc/AAAAgOtR2D8AAACAwvXYPwAAAKCZmdk/AAAAoHA92j8AAACgR+HaPwAAAMAehds/AAAAwPUo3D8AAADAzMzcPwAAAOCjcN0/AAAA4HoU3j8AAADgUbjePwAAAAApXN8/\",\"dtype\":\"float64\",\"shape\":[150]},\"y\":{\"__ndarray__\":\"AAAAwMcR5j8AAAAAIc6vPwAAAGDMo6A/AAAA4G6zlz8AAAAAX7COPwAAAEDGdIo/AAAAAI+hgz8AAACgZWuCPwAAAOBNNHw/AAAAQA4wfj8AAACAO4J3PwAAAECmqHg/AAAAQAVvdD8AAACAaxt1PwAAAOBrB3I/AAAAQNwTcz8AAADAYplvPwAAAMBiE3E/AAAAoIsqbj8AAACg4S9wPwAAAABIc2w/AAAAQIBebj8AAACgWFtpPwAAAGBr+Wo/AAAAAJDraD8AAACA4JBpPwAAAOC56GY/AAAAAAywZj8AAADA7LdrPwAAAABW72Q/AAAAQIwCaD8AAADAvk5kPwAAAAC8wGU/AAAAQLd8Yj8AAADgh2NnPwAAAMDNA2U/AAAA4J1FZz8AAABgGVRlPwAAAGDeyWc/AAAAgGsbZT8AAAAgLPJmPwAAAEDdbmU/AAAAQDXmZz8AAADAb7plPwAAAICIGWc/AAAAoNPEZD8AAADgwXBoPwAAAMBnMmQ/AAAA4CdTZj8AAAAgr9JmPwAAAIBbrtY/AAAAwAiWuz8AAAAgkbWvPwAAAECHmac/AAAAACVsnz8AAACgbDqbPwAAAGDkFJU/AAAAgD/Qkj8AAADgG+SNPwAAACDsypA/AAAAQCd7iT8AAABAnm2LPwAAAODFL4c/AAAAwBOOhz8AAADACECEPwAAAADrmIU/AAAAoC7ngT8AAABA0caCPwAAAIC2F4E/AAAAgKDRgT8AAAAg/jx/PwAAAAD2kIE/AAAAwFTZfT8AAADA/Z1/PwAAAKCbFH4/AAAAgDiufT8AAADASYt6PwAAAEAgWHk/AAAAwC/EgD8AAAAAIZZ4PwAAACBHMn0/AAAAwPYkeD8AAABAkCd7PwAAAIAGhnY/AAAAIKyzez8AAAAAIZZ4PwAAAACCQns/AAAAAD7/dz8AAABgDxp8PwAAAICvSng/AAAAgFgPej8AAADA2bt4PwAAACC6+Xs/AAAAANl9eT8AAAAAgx96PwAAAGA+nnc/AAAAoJ4Mez8AAACgaA94PwAAAMCDXXk/AAAAIBE1ej8AAADApufnPwAAAADHzqs/AAAAQKwfnD8AAACgUa6TPwAAAKAbMIk/AAAAwIGqhT8AAAAAiY1/PwAAAGBsRH4/AAAAYFzNdj8AAADgZNx3PwAAACDqz3I/AAAAgCZ+cz8AAABAAf5vPwAAAAChqHA/AAAAYJdebD8AAAAgUOdtPwAAAGAFwWg/AAAAoCYlaz8AAADAZKFnPwAAAOAVuGk/AAAAQByhZj8AAADARItnPwAAAIBie2M/AAAAQGvFZD8AAABAMuRiPwAAAKDSyGM/AAAAoAm/YT8AAACgweVhPwAAAGC7/GQ/AAAAwKgaYD8AAADAwSBiPwAAAMCgCl8/AAAAwPAuYD8AAAAAD+NbPwAAAKBx6WE/AAAAwKAyYD8AAACgIe1hPwAAAABJxGA/AAAA4EE+Yj8AAADgGGhgPwAAAMCB9GE/AAAAABmjYD8AAAAAgmpiPwAAAAA5uWA/AAAAwBEdYj8AAADAsD1gPwAAAIDiXWM/AAAAoADXXj8AAABgIXdhPwAAAKC5wmE/\",\"dtype\":\"float64\",\"shape\":[150]}},\"selected\":{\"id\":\"1291\",\"type\":\"Selection\"},\"selection_policy\":{\"id\":\"1290\",\"type\":\"UnionRenderers\"}},\"id\":\"1242\",\"type\":\"ColumnDataSource\"},{\"attributes\":{\"ticker\":{\"id\":\"1218\",\"type\":\"BasicTicker\"}},\"id\":\"1221\",\"type\":\"Grid\"},{\"attributes\":{\"text\":\"Site frequency spectrum (folded)\"},\"id\":\"1207\",\"type\":\"Title\"},{\"attributes\":{},\"id\":\"1230\",\"type\":\"SaveTool\"},{\"attributes\":{\"column_name\":\"label\",\"group\":\"gnomad\"},\"id\":\"1250\",\"type\":\"GroupFilter\"},{\"attributes\":{\"bottom_units\":\"screen\",\"fill_alpha\":{\"value\":0.5},\"fill_color\":{\"value\":\"lightgrey\"},\"left_units\":\"screen\",\"level\":\"overlay\",\"line_alpha\":{\"value\":1.0},\"line_color\":{\"value\":\"black\"},\"line_dash\":[4,4],\"line_width\":{\"value\":2},\"render_mode\":\"css\",\"right_units\":\"screen\",\"top_units\":\"screen\"},\"id\":\"1292\",\"type\":\"BoxAnnotation\"},{\"attributes\":{\"fill_color\":{\"field\":\"label\",\"transform\":{\"id\":\"1243\",\"type\":\"CategoricalColorMapper\"}},\"line_color\":{\"field\":\"label\",\"transform\":{\"id\":\"1243\",\"type\":\"CategoricalColorMapper\"}},\"x\":{\"field\":\"x\"},\"y\":{\"field\":\"y\"}},\"id\":\"1259\",\"type\":\"Circle\"},{\"attributes\":{\"color_mapper\":null,\"formatter\":{\"id\":\"1288\",\"type\":\"BasicTickFormatter\"},\"ticker\":{\"id\":\"1289\",\"type\":\"BasicTicker\"},\"visible\":false},\"id\":\"1266\",\"type\":\"ColorBar\"},{\"attributes\":{},\"id\":\"1231\",\"type\":\"ResetTool\"},{\"attributes\":{\"fill_color\":{\"field\":\"label\",\"transform\":{\"id\":\"1243\",\"type\":\"CategoricalColorMapper\"}},\"line_color\":{\"field\":\"label\",\"transform\":{\"id\":\"1243\",\"type\":\"CategoricalColorMapper\"}},\"x\":{\"field\":\"x\"},\"y\":{\"field\":\"y\"}},\"id\":\"1247\",\"type\":\"Circle\"},{\"attributes\":{\"axis_label\":\"Frequency in population\",\"formatter\":{\"id\":\"1286\",\"type\":\"BasicTickFormatter\"},\"ticker\":{\"id\":\"1223\",\"type\":\"BasicTicker\"}},\"id\":\"1222\",\"type\":\"LinearAxis\"},{\"attributes\":{\"filters\":[{\"id\":\"1250\",\"type\":\"GroupFilter\"}],\"source\":{\"id\":\"1242\",\"type\":\"ColumnDataSource\"}},\"id\":\"1251\",\"type\":\"CDSView\"},{\"attributes\":{\"fill_alpha\":{\"value\":0.1},\"fill_color\":{\"value\":\"#1f77b4\"},\"line_alpha\":{\"value\":0.1},\"line_color\":{\"value\":\"#1f77b4\"},\"x\":{\"field\":\"x\"},\"y\":{\"field\":\"y\"}},\"id\":\"1260\",\"type\":\"Circle\"},{\"attributes\":{},\"id\":\"1215\",\"type\":\"LinearScale\"},{\"attributes\":{\"data_source\":{\"id\":\"1242\",\"type\":\"ColumnDataSource\"},\"glyph\":{\"id\":\"1259\",\"type\":\"Circle\"},\"hover_glyph\":null,\"muted_glyph\":null,\"nonselection_glyph\":{\"id\":\"1260\",\"type\":\"Circle\"},\"selection_glyph\":null,\"view\":{\"id\":\"1257\",\"type\":\"CDSView\"}},\"id\":\"1261\",\"type\":\"GlyphRenderer\"},{\"attributes\":{\"fill_alpha\":{\"value\":0.1},\"fill_color\":{\"value\":\"#1f77b4\"},\"line_alpha\":{\"value\":0.1},\"line_color\":{\"value\":\"#1f77b4\"},\"x\":{\"field\":\"x\"},\"y\":{\"field\":\"y\"}},\"id\":\"1248\",\"type\":\"Circle\"},{\"attributes\":{\"column_name\":\"label\",\"group\":\"all\"},\"id\":\"1244\",\"type\":\"GroupFilter\"},{\"attributes\":{\"dimension\":1,\"ticker\":{\"id\":\"1223\",\"type\":\"BasicTicker\"}},\"id\":\"1226\",\"type\":\"Grid\"},{\"attributes\":{},\"id\":\"1291\",\"type\":\"Selection\"},{\"attributes\":{},\"id\":\"1223\",\"type\":\"BasicTicker\"},{\"attributes\":{\"label\":{\"value\":\"all\"},\"renderers\":[{\"id\":\"1249\",\"type\":\"GlyphRenderer\"}]},\"id\":\"1262\",\"type\":\"LegendItem\"},{\"attributes\":{\"fill_color\":{\"field\":\"label\",\"transform\":{\"id\":\"1243\",\"type\":\"CategoricalColorMapper\"}},\"line_color\":{\"field\":\"label\",\"transform\":{\"id\":\"1243\",\"type\":\"CategoricalColorMapper\"}},\"x\":{\"field\":\"x\"},\"y\":{\"field\":\"y\"}},\"id\":\"1253\",\"type\":\"Circle\"},{\"attributes\":{\"label\":{\"value\":\"non_gnomad\"},\"renderers\":[{\"id\":\"1261\",\"type\":\"GlyphRenderer\"}]},\"id\":\"1264\",\"type\":\"LegendItem\"},{\"attributes\":{\"click_policy\":\"hide\",\"items\":[{\"id\":\"1262\",\"type\":\"LegendItem\"},{\"id\":\"1263\",\"type\":\"LegendItem\"},{\"id\":\"1264\",\"type\":\"LegendItem\"}]},\"id\":\"1265\",\"type\":\"Legend\"},{\"attributes\":{\"label\":{\"value\":\"gnomad\"},\"renderers\":[{\"id\":\"1255\",\"type\":\"GlyphRenderer\"}]},\"id\":\"1263\",\"type\":\"LegendItem\"}],\"root_ids\":[\"1206\"]},\"title\":\"Bokeh Application\",\"version\":\"1.2.0\"}};\n",
       "  var render_items = [{\"docid\":\"2d7501b2-c43a-4835-94dc-90bf37a079fc\",\"roots\":{\"1206\":\"d3dd0633-e81c-4bb8-a5f9-f8ec9502f8e5\"}}];\n",
       "  root.Bokeh.embed.embed_items_notebook(docs_json, render_items);\n",
       "\n",
       "  }\n",
       "  if (root.Bokeh !== undefined) {\n",
       "    embed_document(root);\n",
       "  } else {\n",
       "    var attempts = 0;\n",
       "    var timer = setInterval(function(root) {\n",
       "      if (root.Bokeh !== undefined) {\n",
       "        embed_document(root);\n",
       "        clearInterval(timer);\n",
       "      }\n",
       "      attempts++;\n",
       "      if (attempts > 100) {\n",
       "        console.log(\"Bokeh: ERROR: Unable to run BokehJS code because BokehJS library is missing\");\n",
       "        clearInterval(timer);\n",
       "      }\n",
       "    }, 10, root)\n",
       "  }\n",
       "})(window);"
      ],
      "application/vnd.bokehjs_exec.v0+json": ""
     },
     "metadata": {
      "application/vnd.bokehjs_exec.v0+json": {
       "id": "1206"
      }
     },
     "output_type": "display_data"
    }
   ],
   "source": [
    "p = hl.plot.scatter(ffs_ht.af, ffs_ht.ff, label=ffs_ht.strata,\n",
    "                    xlabel='Allele counts', ylabel='Frequency in population', title='Site frequency spectrum (folded)',\n",
    "                    collect_all=True)\n",
    "p.plot_width = 800\n",
    "p.plot_height = 400\n",
    "show(p)"
   ]
  },
  {
   "cell_type": "code",
   "execution_count": 20,
   "metadata": {},
   "outputs": [
    {
     "data": {
      "text/html": [
       "\n",
       "\n",
       "\n",
       "\n",
       "\n",
       "\n",
       "  <div class=\"bk-root\" id=\"dc729b30-9c6b-424b-9fbd-d0e9b48627cc\" data-root-id=\"1353\"></div>\n"
      ]
     },
     "metadata": {},
     "output_type": "display_data"
    },
    {
     "data": {
      "application/javascript": [
       "(function(root) {\n",
       "  function embed_document(root) {\n",
       "    \n",
       "  var docs_json = {\"7d185e97-49bc-4760-8f2d-b7d436949677\":{\"roots\":{\"references\":[{\"attributes\":{\"below\":[{\"id\":\"1364\",\"type\":\"LinearAxis\"}],\"center\":[{\"id\":\"1368\",\"type\":\"Grid\"},{\"id\":\"1373\",\"type\":\"Grid\"}],\"left\":[{\"id\":\"1369\",\"type\":\"LinearAxis\"},{\"id\":\"1412\",\"type\":\"Legend\"},{\"id\":\"1413\",\"type\":\"ColorBar\"}],\"plot_height\":400,\"plot_width\":800,\"renderers\":[{\"id\":\"1396\",\"type\":\"GlyphRenderer\"},{\"id\":\"1402\",\"type\":\"GlyphRenderer\"},{\"id\":\"1408\",\"type\":\"GlyphRenderer\"}],\"title\":{\"id\":\"1354\",\"type\":\"Title\"},\"toolbar\":{\"id\":\"1380\",\"type\":\"Toolbar\"},\"x_range\":{\"id\":\"1356\",\"type\":\"DataRange1d\"},\"x_scale\":{\"id\":\"1360\",\"type\":\"LinearScale\"},\"y_range\":{\"id\":\"1358\",\"type\":\"DataRange1d\"},\"y_scale\":{\"id\":\"1414\",\"type\":\"LogScale\"}},\"id\":\"1353\",\"subtype\":\"Figure\",\"type\":\"Plot\"},{\"attributes\":{\"ticker\":{\"id\":\"1365\",\"type\":\"BasicTicker\"}},\"id\":\"1368\",\"type\":\"Grid\"},{\"attributes\":{\"label\":{\"value\":\"all\"},\"renderers\":[{\"id\":\"1396\",\"type\":\"GlyphRenderer\"}]},\"id\":\"1409\",\"type\":\"LegendItem\"},{\"attributes\":{\"axis_label\":\"Allele counts\",\"formatter\":{\"id\":\"1442\",\"type\":\"BasicTickFormatter\"},\"ticker\":{\"id\":\"1365\",\"type\":\"BasicTicker\"}},\"id\":\"1364\",\"type\":\"LinearAxis\"},{\"attributes\":{\"callback\":null},\"id\":\"1356\",\"type\":\"DataRange1d\"},{\"attributes\":{\"active_drag\":\"auto\",\"active_inspect\":\"auto\",\"active_multi\":null,\"active_scroll\":\"auto\",\"active_tap\":\"auto\",\"tools\":[{\"id\":\"1374\",\"type\":\"PanTool\"},{\"id\":\"1375\",\"type\":\"WheelZoomTool\"},{\"id\":\"1376\",\"type\":\"BoxZoomTool\"},{\"id\":\"1377\",\"type\":\"SaveTool\"},{\"id\":\"1378\",\"type\":\"ResetTool\"},{\"id\":\"1379\",\"type\":\"HelpTool\"},{\"id\":\"1388\",\"type\":\"HoverTool\"}]},\"id\":\"1380\",\"type\":\"Toolbar\"},{\"attributes\":{\"text\":\"Site frequency spectrum (folded)\"},\"id\":\"1354\",\"type\":\"Title\"},{\"attributes\":{\"color_mapper\":null,\"formatter\":{\"id\":\"1446\",\"type\":\"BasicTickFormatter\"},\"ticker\":{\"id\":\"1447\",\"type\":\"BasicTicker\"},\"visible\":false},\"id\":\"1413\",\"type\":\"ColorBar\"},{\"attributes\":{\"click_policy\":\"hide\",\"items\":[{\"id\":\"1409\",\"type\":\"LegendItem\"},{\"id\":\"1410\",\"type\":\"LegendItem\"},{\"id\":\"1411\",\"type\":\"LegendItem\"}]},\"id\":\"1412\",\"type\":\"Legend\"},{\"attributes\":{},\"id\":\"1365\",\"type\":\"BasicTicker\"},{\"attributes\":{\"filters\":[{\"id\":\"1391\",\"type\":\"GroupFilter\"}],\"source\":{\"id\":\"1389\",\"type\":\"ColumnDataSource\"}},\"id\":\"1392\",\"type\":\"CDSView\"},{\"attributes\":{\"fill_color\":{\"field\":\"label\",\"transform\":{\"id\":\"1390\",\"type\":\"CategoricalColorMapper\"}},\"line_color\":{\"field\":\"label\",\"transform\":{\"id\":\"1390\",\"type\":\"CategoricalColorMapper\"}},\"x\":{\"field\":\"x\"},\"y\":{\"field\":\"y\"}},\"id\":\"1400\",\"type\":\"Circle\"},{\"attributes\":{\"column_name\":\"label\",\"group\":\"gnomad\"},\"id\":\"1397\",\"type\":\"GroupFilter\"},{\"attributes\":{\"callback\":null},\"id\":\"1358\",\"type\":\"DataRange1d\"},{\"attributes\":{\"label\":{\"value\":\"non_gnomad\"},\"renderers\":[{\"id\":\"1408\",\"type\":\"GlyphRenderer\"}]},\"id\":\"1411\",\"type\":\"LegendItem\"},{\"attributes\":{\"fill_alpha\":{\"value\":0.1},\"fill_color\":{\"value\":\"#1f77b4\"},\"line_alpha\":{\"value\":0.1},\"line_color\":{\"value\":\"#1f77b4\"},\"x\":{\"field\":\"x\"},\"y\":{\"field\":\"y\"}},\"id\":\"1401\",\"type\":\"Circle\"},{\"attributes\":{\"column_name\":\"label\",\"group\":\"all\"},\"id\":\"1391\",\"type\":\"GroupFilter\"},{\"attributes\":{},\"id\":\"1360\",\"type\":\"LinearScale\"},{\"attributes\":{\"filters\":[{\"id\":\"1403\",\"type\":\"GroupFilter\"}],\"source\":{\"id\":\"1389\",\"type\":\"ColumnDataSource\"}},\"id\":\"1404\",\"type\":\"CDSView\"},{\"attributes\":{},\"id\":\"1375\",\"type\":\"WheelZoomTool\"},{\"attributes\":{\"data_source\":{\"id\":\"1389\",\"type\":\"ColumnDataSource\"},\"glyph\":{\"id\":\"1400\",\"type\":\"Circle\"},\"hover_glyph\":null,\"muted_glyph\":null,\"nonselection_glyph\":{\"id\":\"1401\",\"type\":\"Circle\"},\"selection_glyph\":null,\"view\":{\"id\":\"1398\",\"type\":\"CDSView\"}},\"id\":\"1402\",\"type\":\"GlyphRenderer\"},{\"attributes\":{\"callback\":null,\"data\":{\"index\":[0,1,2,3,4,5,6,7,8,9,10,11,12,13,14,15,16,17,18,19,20,21,22,23,24,25,26,27,28,29,30,31,32,33,34,35,36,37,38,39,40,41,42,43,44,45,46,47,48,49,50,51,52,53,54,55,56,57,58,59,60,61,62,63,64,65,66,67,68,69,70,71,72,73,74,75,76,77,78,79,80,81,82,83,84,85,86,87,88,89,90,91,92,93,94,95,96,97,98,99,100,101,102,103,104,105,106,107,108,109,110,111,112,113,114,115,116,117,118,119,120,121,122,123,124,125,126,127,128,129,130,131,132,133,134,135,136,137,138,139,140,141,142,143,144,145,146,147,148,149],\"label\":[\"all\",\"all\",\"all\",\"all\",\"all\",\"all\",\"all\",\"all\",\"all\",\"all\",\"all\",\"all\",\"all\",\"all\",\"all\",\"all\",\"all\",\"all\",\"all\",\"all\",\"all\",\"all\",\"all\",\"all\",\"all\",\"all\",\"all\",\"all\",\"all\",\"all\",\"all\",\"all\",\"all\",\"all\",\"all\",\"all\",\"all\",\"all\",\"all\",\"all\",\"all\",\"all\",\"all\",\"all\",\"all\",\"all\",\"all\",\"all\",\"all\",\"all\",\"gnomad\",\"gnomad\",\"gnomad\",\"gnomad\",\"gnomad\",\"gnomad\",\"gnomad\",\"gnomad\",\"gnomad\",\"gnomad\",\"gnomad\",\"gnomad\",\"gnomad\",\"gnomad\",\"gnomad\",\"gnomad\",\"gnomad\",\"gnomad\",\"gnomad\",\"gnomad\",\"gnomad\",\"gnomad\",\"gnomad\",\"gnomad\",\"gnomad\",\"gnomad\",\"gnomad\",\"gnomad\",\"gnomad\",\"gnomad\",\"gnomad\",\"gnomad\",\"gnomad\",\"gnomad\",\"gnomad\",\"gnomad\",\"gnomad\",\"gnomad\",\"gnomad\",\"gnomad\",\"gnomad\",\"gnomad\",\"gnomad\",\"gnomad\",\"gnomad\",\"gnomad\",\"gnomad\",\"gnomad\",\"gnomad\",\"gnomad\",\"non_gnomad\",\"non_gnomad\",\"non_gnomad\",\"non_gnomad\",\"non_gnomad\",\"non_gnomad\",\"non_gnomad\",\"non_gnomad\",\"non_gnomad\",\"non_gnomad\",\"non_gnomad\",\"non_gnomad\",\"non_gnomad\",\"non_gnomad\",\"non_gnomad\",\"non_gnomad\",\"non_gnomad\",\"non_gnomad\",\"non_gnomad\",\"non_gnomad\",\"non_gnomad\",\"non_gnomad\",\"non_gnomad\",\"non_gnomad\",\"non_gnomad\",\"non_gnomad\",\"non_gnomad\",\"non_gnomad\",\"non_gnomad\",\"non_gnomad\",\"non_gnomad\",\"non_gnomad\",\"non_gnomad\",\"non_gnomad\",\"non_gnomad\",\"non_gnomad\",\"non_gnomad\",\"non_gnomad\",\"non_gnomad\",\"non_gnomad\",\"non_gnomad\",\"non_gnomad\",\"non_gnomad\",\"non_gnomad\",\"non_gnomad\",\"non_gnomad\",\"non_gnomad\",\"non_gnomad\",\"non_gnomad\",\"non_gnomad\"],\"x\":{\"__ndarray__\":\"AAAAAAAAAAAAAABA4XqEPwAAAEDhepQ/AAAA4FG4nj8AAABA4XqkPwAAAKCZmak/AAAA4FG4rj8AAAAgheuxPwAAAEDherQ/AAAAgD0Ktz8AAACgmZm5PwAAAMD1KLw/AAAA4FG4vj8AAAAA16PAPwAAACCF68E/AAAAQDMzwz8AAABA4XrEPwAAAGCPwsU/AAAAgD0Kxz8AAACA61HIPwAAAKCZmck/AAAAoEfhyj8AAADA9SjMPwAAAOCjcM0/AAAA4FG4zj8AAAAAAADQPwAAAADXo9A/AAAAIK5H0T8AAAAghevRPwAAACBcj9I/AAAAQDMz0z8AAABACtfTPwAAAEDhetQ/AAAAYLge1T8AAABgj8LVPwAAAGBmZtY/AAAAgD0K1z8AAACAFK7XPwAAAIDrUdg/AAAAgML12D8AAACgmZnZPwAAAKBwPdo/AAAAoEfh2j8AAADAHoXbPwAAAMD1KNw/AAAAwMzM3D8AAADgo3DdPwAAAOB6FN4/AAAA4FG43j8AAAAAKVzfPwAAAAAAAAAAAAAAQOF6hD8AAABA4XqUPwAAAOBRuJ4/AAAAQOF6pD8AAACgmZmpPwAAAOBRuK4/AAAAIIXrsT8AAABA4Xq0PwAAAIA9Crc/AAAAoJmZuT8AAADA9Si8PwAAAOBRuL4/AAAAANejwD8AAAAghevBPwAAAEAzM8M/AAAAQOF6xD8AAABgj8LFPwAAAIA9Csc/AAAAgOtRyD8AAACgmZnJPwAAAKBH4co/AAAAwPUozD8AAADgo3DNPwAAAOBRuM4/AAAAAAAA0D8AAAAA16PQPwAAACCuR9E/AAAAIIXr0T8AAAAgXI/SPwAAAEAzM9M/AAAAQArX0z8AAABA4XrUPwAAAGC4HtU/AAAAYI/C1T8AAABgZmbWPwAAAIA9Ctc/AAAAgBSu1z8AAACA61HYPwAAAIDC9dg/AAAAoJmZ2T8AAACgcD3aPwAAAKBH4do/AAAAwB6F2z8AAADA9SjcPwAAAMDMzNw/AAAA4KNw3T8AAADgehTePwAAAOBRuN4/AAAAAClc3z8AAAAAAAAAAAAAAEDheoQ/AAAAQOF6lD8AAADgUbiePwAAAEDheqQ/AAAAoJmZqT8AAADgUbiuPwAAACCF67E/AAAAQOF6tD8AAACAPQq3PwAAAKCZmbk/AAAAwPUovD8AAADgUbi+PwAAAADXo8A/AAAAIIXrwT8AAABAMzPDPwAAAEDhesQ/AAAAYI/CxT8AAACAPQrHPwAAAIDrUcg/AAAAoJmZyT8AAACgR+HKPwAAAMD1KMw/AAAA4KNwzT8AAADgUbjOPwAAAAAAANA/AAAAANej0D8AAAAgrkfRPwAAACCF69E/AAAAIFyP0j8AAABAMzPTPwAAAEAK19M/AAAAQOF61D8AAABguB7VPwAAAGCPwtU/AAAAYGZm1j8AAACAPQrXPwAAAIAUrtc/AAAAgOtR2D8AAACAwvXYPwAAAKCZmdk/AAAAoHA92j8AAACgR+HaPwAAAMAehds/AAAAwPUo3D8AAADAzMzcPwAAAOCjcN0/AAAA4HoU3j8AAADgUbjePwAAAAApXN8/\",\"dtype\":\"float64\",\"shape\":[150]},\"y\":{\"__ndarray__\":\"AAAAwMcR5j8AAAAAIc6vPwAAAGDMo6A/AAAA4G6zlz8AAAAAX7COPwAAAEDGdIo/AAAAAI+hgz8AAACgZWuCPwAAAOBNNHw/AAAAQA4wfj8AAACAO4J3PwAAAECmqHg/AAAAQAVvdD8AAACAaxt1PwAAAOBrB3I/AAAAQNwTcz8AAADAYplvPwAAAMBiE3E/AAAAoIsqbj8AAACg4S9wPwAAAABIc2w/AAAAQIBebj8AAACgWFtpPwAAAGBr+Wo/AAAAAJDraD8AAACA4JBpPwAAAOC56GY/AAAAAAywZj8AAADA7LdrPwAAAABW72Q/AAAAQIwCaD8AAADAvk5kPwAAAAC8wGU/AAAAQLd8Yj8AAADgh2NnPwAAAMDNA2U/AAAA4J1FZz8AAABgGVRlPwAAAGDeyWc/AAAAgGsbZT8AAAAgLPJmPwAAAEDdbmU/AAAAQDXmZz8AAADAb7plPwAAAICIGWc/AAAAoNPEZD8AAADgwXBoPwAAAMBnMmQ/AAAA4CdTZj8AAAAgr9JmPwAAAIBbrtY/AAAAwAiWuz8AAAAgkbWvPwAAAECHmac/AAAAACVsnz8AAACgbDqbPwAAAGDkFJU/AAAAgD/Qkj8AAADgG+SNPwAAACDsypA/AAAAQCd7iT8AAABAnm2LPwAAAODFL4c/AAAAwBOOhz8AAADACECEPwAAAADrmIU/AAAAoC7ngT8AAABA0caCPwAAAIC2F4E/AAAAgKDRgT8AAAAg/jx/PwAAAAD2kIE/AAAAwFTZfT8AAADA/Z1/PwAAAKCbFH4/AAAAgDiufT8AAADASYt6PwAAAEAgWHk/AAAAwC/EgD8AAAAAIZZ4PwAAACBHMn0/AAAAwPYkeD8AAABAkCd7PwAAAIAGhnY/AAAAIKyzez8AAAAAIZZ4PwAAAACCQns/AAAAAD7/dz8AAABgDxp8PwAAAICvSng/AAAAgFgPej8AAADA2bt4PwAAACC6+Xs/AAAAANl9eT8AAAAAgx96PwAAAGA+nnc/AAAAoJ4Mez8AAACgaA94PwAAAMCDXXk/AAAAIBE1ej8AAADApufnPwAAAADHzqs/AAAAQKwfnD8AAACgUa6TPwAAAKAbMIk/AAAAwIGqhT8AAAAAiY1/PwAAAGBsRH4/AAAAYFzNdj8AAADgZNx3PwAAACDqz3I/AAAAgCZ+cz8AAABAAf5vPwAAAAChqHA/AAAAYJdebD8AAAAgUOdtPwAAAGAFwWg/AAAAoCYlaz8AAADAZKFnPwAAAOAVuGk/AAAAQByhZj8AAADARItnPwAAAIBie2M/AAAAQGvFZD8AAABAMuRiPwAAAKDSyGM/AAAAoAm/YT8AAACgweVhPwAAAGC7/GQ/AAAAwKgaYD8AAADAwSBiPwAAAMCgCl8/AAAAwPAuYD8AAAAAD+NbPwAAAKBx6WE/AAAAwKAyYD8AAACgIe1hPwAAAABJxGA/AAAA4EE+Yj8AAADgGGhgPwAAAMCB9GE/AAAAABmjYD8AAAAAgmpiPwAAAAA5uWA/AAAAwBEdYj8AAADAsD1gPwAAAIDiXWM/AAAAoADXXj8AAABgIXdhPwAAAKC5wmE/\",\"dtype\":\"float64\",\"shape\":[150]}},\"selected\":{\"id\":\"1449\",\"type\":\"Selection\"},\"selection_policy\":{\"id\":\"1448\",\"type\":\"UnionRenderers\"}},\"id\":\"1389\",\"type\":\"ColumnDataSource\"},{\"attributes\":{\"fill_alpha\":{\"value\":0.1},\"fill_color\":{\"value\":\"#1f77b4\"},\"line_alpha\":{\"value\":0.1},\"line_color\":{\"value\":\"#1f77b4\"},\"x\":{\"field\":\"x\"},\"y\":{\"field\":\"y\"}},\"id\":\"1395\",\"type\":\"Circle\"},{\"attributes\":{},\"id\":\"1447\",\"type\":\"BasicTicker\"},{\"attributes\":{\"fill_color\":{\"field\":\"label\",\"transform\":{\"id\":\"1390\",\"type\":\"CategoricalColorMapper\"}},\"line_color\":{\"field\":\"label\",\"transform\":{\"id\":\"1390\",\"type\":\"CategoricalColorMapper\"}},\"x\":{\"field\":\"x\"},\"y\":{\"field\":\"y\"}},\"id\":\"1406\",\"type\":\"Circle\"},{\"attributes\":{},\"id\":\"1377\",\"type\":\"SaveTool\"},{\"attributes\":{},\"id\":\"1449\",\"type\":\"Selection\"},{\"attributes\":{},\"id\":\"1414\",\"type\":\"LogScale\"},{\"attributes\":{\"dimension\":1,\"ticker\":{\"id\":\"1370\",\"type\":\"BasicTicker\"}},\"id\":\"1373\",\"type\":\"Grid\"},{\"attributes\":{},\"id\":\"1446\",\"type\":\"BasicTickFormatter\"},{\"attributes\":{\"column_name\":\"label\",\"group\":\"non_gnomad\"},\"id\":\"1403\",\"type\":\"GroupFilter\"},{\"attributes\":{\"axis_label\":\"Frequency in population\",\"formatter\":{\"id\":\"1444\",\"type\":\"BasicTickFormatter\"},\"ticker\":{\"id\":\"1370\",\"type\":\"BasicTicker\"}},\"id\":\"1369\",\"type\":\"LinearAxis\"},{\"attributes\":{},\"id\":\"1442\",\"type\":\"BasicTickFormatter\"},{\"attributes\":{},\"id\":\"1379\",\"type\":\"HelpTool\"},{\"attributes\":{\"callback\":null,\"tooltips\":[[\"x\",\"@x\"],[\"y\",\"@y\"],[\"label\",\"@label\"]]},\"id\":\"1388\",\"type\":\"HoverTool\"},{\"attributes\":{\"overlay\":{\"id\":\"1450\",\"type\":\"BoxAnnotation\"}},\"id\":\"1376\",\"type\":\"BoxZoomTool\"},{\"attributes\":{},\"id\":\"1378\",\"type\":\"ResetTool\"},{\"attributes\":{\"fill_color\":{\"field\":\"label\",\"transform\":{\"id\":\"1390\",\"type\":\"CategoricalColorMapper\"}},\"line_color\":{\"field\":\"label\",\"transform\":{\"id\":\"1390\",\"type\":\"CategoricalColorMapper\"}},\"x\":{\"field\":\"x\"},\"y\":{\"field\":\"y\"}},\"id\":\"1394\",\"type\":\"Circle\"},{\"attributes\":{\"data_source\":{\"id\":\"1389\",\"type\":\"ColumnDataSource\"},\"glyph\":{\"id\":\"1406\",\"type\":\"Circle\"},\"hover_glyph\":null,\"muted_glyph\":null,\"nonselection_glyph\":{\"id\":\"1407\",\"type\":\"Circle\"},\"selection_glyph\":null,\"view\":{\"id\":\"1404\",\"type\":\"CDSView\"}},\"id\":\"1408\",\"type\":\"GlyphRenderer\"},{\"attributes\":{},\"id\":\"1448\",\"type\":\"UnionRenderers\"},{\"attributes\":{\"factors\":[\"gnomad\",\"all\",\"non_gnomad\"],\"palette\":[\"#1f77b4\",\"#ff7f0e\",\"#2ca02c\",\"#d62728\",\"#9467bd\",\"#8c564b\",\"#e377c2\",\"#7f7f7f\",\"#bcbd22\",\"#17becf\"]},\"id\":\"1390\",\"type\":\"CategoricalColorMapper\"},{\"attributes\":{\"filters\":[{\"id\":\"1397\",\"type\":\"GroupFilter\"}],\"source\":{\"id\":\"1389\",\"type\":\"ColumnDataSource\"}},\"id\":\"1398\",\"type\":\"CDSView\"},{\"attributes\":{\"bottom_units\":\"screen\",\"fill_alpha\":{\"value\":0.5},\"fill_color\":{\"value\":\"lightgrey\"},\"left_units\":\"screen\",\"level\":\"overlay\",\"line_alpha\":{\"value\":1.0},\"line_color\":{\"value\":\"black\"},\"line_dash\":[4,4],\"line_width\":{\"value\":2},\"render_mode\":\"css\",\"right_units\":\"screen\",\"top_units\":\"screen\"},\"id\":\"1450\",\"type\":\"BoxAnnotation\"},{\"attributes\":{\"label\":{\"value\":\"gnomad\"},\"renderers\":[{\"id\":\"1402\",\"type\":\"GlyphRenderer\"}]},\"id\":\"1410\",\"type\":\"LegendItem\"},{\"attributes\":{\"data_source\":{\"id\":\"1389\",\"type\":\"ColumnDataSource\"},\"glyph\":{\"id\":\"1394\",\"type\":\"Circle\"},\"hover_glyph\":null,\"muted_glyph\":null,\"nonselection_glyph\":{\"id\":\"1395\",\"type\":\"Circle\"},\"selection_glyph\":null,\"view\":{\"id\":\"1392\",\"type\":\"CDSView\"}},\"id\":\"1396\",\"type\":\"GlyphRenderer\"},{\"attributes\":{\"fill_alpha\":{\"value\":0.1},\"fill_color\":{\"value\":\"#1f77b4\"},\"line_alpha\":{\"value\":0.1},\"line_color\":{\"value\":\"#1f77b4\"},\"x\":{\"field\":\"x\"},\"y\":{\"field\":\"y\"}},\"id\":\"1407\",\"type\":\"Circle\"},{\"attributes\":{},\"id\":\"1444\",\"type\":\"BasicTickFormatter\"},{\"attributes\":{},\"id\":\"1374\",\"type\":\"PanTool\"},{\"attributes\":{},\"id\":\"1370\",\"type\":\"BasicTicker\"}],\"root_ids\":[\"1353\"]},\"title\":\"Bokeh Application\",\"version\":\"1.2.0\"}};\n",
       "  var render_items = [{\"docid\":\"7d185e97-49bc-4760-8f2d-b7d436949677\",\"roots\":{\"1353\":\"dc729b30-9c6b-424b-9fbd-d0e9b48627cc\"}}];\n",
       "  root.Bokeh.embed.embed_items_notebook(docs_json, render_items);\n",
       "\n",
       "  }\n",
       "  if (root.Bokeh !== undefined) {\n",
       "    embed_document(root);\n",
       "  } else {\n",
       "    var attempts = 0;\n",
       "    var timer = setInterval(function(root) {\n",
       "      if (root.Bokeh !== undefined) {\n",
       "        embed_document(root);\n",
       "        clearInterval(timer);\n",
       "      }\n",
       "      attempts++;\n",
       "      if (attempts > 100) {\n",
       "        console.log(\"Bokeh: ERROR: Unable to run BokehJS code because BokehJS library is missing\");\n",
       "        clearInterval(timer);\n",
       "      }\n",
       "    }, 10, root)\n",
       "  }\n",
       "})(window);"
      ],
      "application/vnd.bokehjs_exec.v0+json": ""
     },
     "metadata": {
      "application/vnd.bokehjs_exec.v0+json": {
       "id": "1353"
      }
     },
     "output_type": "display_data"
    }
   ],
   "source": [
    "p = hl.plot.scatter(ffs_ht.af, ffs_ht.ff, label=ffs_ht.strata,\n",
    "                    xlabel='Allele counts', ylabel='Frequency in population', title='Site frequency spectrum (folded)',\n",
    "                    collect_all=True)\n",
    "p.plot_width = 800\n",
    "p.plot_height = 400\n",
    "p.y_scale = LogScale()\n",
    "show(p)"
   ]
  },
  {
   "cell_type": "code",
   "execution_count": null,
   "metadata": {},
   "outputs": [],
   "source": []
  }
 ],
 "metadata": {
  "kernelspec": {
   "display_name": "Python [conda env:fargen-1-exome]",
   "language": "python",
   "name": "conda-env-fargen-1-exome-py"
  },
  "language_info": {
   "codemirror_mode": {
    "name": "ipython",
    "version": 3
   },
   "file_extension": ".py",
   "mimetype": "text/x-python",
   "name": "python",
   "nbconvert_exporter": "python",
   "pygments_lexer": "ipython3",
   "version": "3.7.10"
  }
 },
 "nbformat": 4,
 "nbformat_minor": 4
}
