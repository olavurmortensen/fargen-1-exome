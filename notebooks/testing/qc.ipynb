{
 "cells": [
  {
   "cell_type": "code",
   "execution_count": 1,
   "metadata": {},
   "outputs": [
    {
     "name": "stderr",
     "output_type": "stream",
     "text": [
      "Running on Apache Spark version 2.4.1\n",
      "SparkUI available at http://hms-beagle-7889d4ff4c-z7fmq:4040\n",
      "Welcome to\n",
      "     __  __     <>__\n",
      "    / /_/ /__  __/ /\n",
      "   / __  / _ `/ / /\n",
      "  /_/ /_/\\_,_/_/_/   version 0.2.61-3c86d3ba497a\n",
      "LOGGING: writing to /home/olavur/experiments/2020-11-13_fargen1_exome_analysis/fargen-1-exome/notebooks/hail-20210224-1345-0.2.61-3c86d3ba497a.log\n"
     ]
    }
   ],
   "source": [
    "import hail as hl\n",
    "hl.init()"
   ]
  },
  {
   "cell_type": "code",
   "execution_count": 2,
   "metadata": {},
   "outputs": [
    {
     "data": {
      "text/html": [
       "\n",
       "    <div class=\"bk-root\">\n",
       "        <a href=\"https://bokeh.pydata.org\" target=\"_blank\" class=\"bk-logo bk-logo-small bk-logo-notebook\"></a>\n",
       "        <span id=\"1001\">Loading BokehJS ...</span>\n",
       "    </div>"
      ]
     },
     "metadata": {},
     "output_type": "display_data"
    },
    {
     "data": {
      "application/javascript": [
       "\n",
       "(function(root) {\n",
       "  function now() {\n",
       "    return new Date();\n",
       "  }\n",
       "\n",
       "  var force = true;\n",
       "\n",
       "  if (typeof root._bokeh_onload_callbacks === \"undefined\" || force === true) {\n",
       "    root._bokeh_onload_callbacks = [];\n",
       "    root._bokeh_is_loading = undefined;\n",
       "  }\n",
       "\n",
       "  var JS_MIME_TYPE = 'application/javascript';\n",
       "  var HTML_MIME_TYPE = 'text/html';\n",
       "  var EXEC_MIME_TYPE = 'application/vnd.bokehjs_exec.v0+json';\n",
       "  var CLASS_NAME = 'output_bokeh rendered_html';\n",
       "\n",
       "  /**\n",
       "   * Render data to the DOM node\n",
       "   */\n",
       "  function render(props, node) {\n",
       "    var script = document.createElement(\"script\");\n",
       "    node.appendChild(script);\n",
       "  }\n",
       "\n",
       "  /**\n",
       "   * Handle when an output is cleared or removed\n",
       "   */\n",
       "  function handleClearOutput(event, handle) {\n",
       "    var cell = handle.cell;\n",
       "\n",
       "    var id = cell.output_area._bokeh_element_id;\n",
       "    var server_id = cell.output_area._bokeh_server_id;\n",
       "    // Clean up Bokeh references\n",
       "    if (id != null && id in Bokeh.index) {\n",
       "      Bokeh.index[id].model.document.clear();\n",
       "      delete Bokeh.index[id];\n",
       "    }\n",
       "\n",
       "    if (server_id !== undefined) {\n",
       "      // Clean up Bokeh references\n",
       "      var cmd = \"from bokeh.io.state import curstate; print(curstate().uuid_to_server['\" + server_id + \"'].get_sessions()[0].document.roots[0]._id)\";\n",
       "      cell.notebook.kernel.execute(cmd, {\n",
       "        iopub: {\n",
       "          output: function(msg) {\n",
       "            var id = msg.content.text.trim();\n",
       "            if (id in Bokeh.index) {\n",
       "              Bokeh.index[id].model.document.clear();\n",
       "              delete Bokeh.index[id];\n",
       "            }\n",
       "          }\n",
       "        }\n",
       "      });\n",
       "      // Destroy server and session\n",
       "      var cmd = \"import bokeh.io.notebook as ion; ion.destroy_server('\" + server_id + \"')\";\n",
       "      cell.notebook.kernel.execute(cmd);\n",
       "    }\n",
       "  }\n",
       "\n",
       "  /**\n",
       "   * Handle when a new output is added\n",
       "   */\n",
       "  function handleAddOutput(event, handle) {\n",
       "    var output_area = handle.output_area;\n",
       "    var output = handle.output;\n",
       "\n",
       "    // limit handleAddOutput to display_data with EXEC_MIME_TYPE content only\n",
       "    if ((output.output_type != \"display_data\") || (!output.data.hasOwnProperty(EXEC_MIME_TYPE))) {\n",
       "      return\n",
       "    }\n",
       "\n",
       "    var toinsert = output_area.element.find(\".\" + CLASS_NAME.split(' ')[0]);\n",
       "\n",
       "    if (output.metadata[EXEC_MIME_TYPE][\"id\"] !== undefined) {\n",
       "      toinsert[toinsert.length - 1].firstChild.textContent = output.data[JS_MIME_TYPE];\n",
       "      // store reference to embed id on output_area\n",
       "      output_area._bokeh_element_id = output.metadata[EXEC_MIME_TYPE][\"id\"];\n",
       "    }\n",
       "    if (output.metadata[EXEC_MIME_TYPE][\"server_id\"] !== undefined) {\n",
       "      var bk_div = document.createElement(\"div\");\n",
       "      bk_div.innerHTML = output.data[HTML_MIME_TYPE];\n",
       "      var script_attrs = bk_div.children[0].attributes;\n",
       "      for (var i = 0; i < script_attrs.length; i++) {\n",
       "        toinsert[toinsert.length - 1].firstChild.setAttribute(script_attrs[i].name, script_attrs[i].value);\n",
       "      }\n",
       "      // store reference to server id on output_area\n",
       "      output_area._bokeh_server_id = output.metadata[EXEC_MIME_TYPE][\"server_id\"];\n",
       "    }\n",
       "  }\n",
       "\n",
       "  function register_renderer(events, OutputArea) {\n",
       "\n",
       "    function append_mime(data, metadata, element) {\n",
       "      // create a DOM node to render to\n",
       "      var toinsert = this.create_output_subarea(\n",
       "        metadata,\n",
       "        CLASS_NAME,\n",
       "        EXEC_MIME_TYPE\n",
       "      );\n",
       "      this.keyboard_manager.register_events(toinsert);\n",
       "      // Render to node\n",
       "      var props = {data: data, metadata: metadata[EXEC_MIME_TYPE]};\n",
       "      render(props, toinsert[toinsert.length - 1]);\n",
       "      element.append(toinsert);\n",
       "      return toinsert\n",
       "    }\n",
       "\n",
       "    /* Handle when an output is cleared or removed */\n",
       "    events.on('clear_output.CodeCell', handleClearOutput);\n",
       "    events.on('delete.Cell', handleClearOutput);\n",
       "\n",
       "    /* Handle when a new output is added */\n",
       "    events.on('output_added.OutputArea', handleAddOutput);\n",
       "\n",
       "    /**\n",
       "     * Register the mime type and append_mime function with output_area\n",
       "     */\n",
       "    OutputArea.prototype.register_mime_type(EXEC_MIME_TYPE, append_mime, {\n",
       "      /* Is output safe? */\n",
       "      safe: true,\n",
       "      /* Index of renderer in `output_area.display_order` */\n",
       "      index: 0\n",
       "    });\n",
       "  }\n",
       "\n",
       "  // register the mime type if in Jupyter Notebook environment and previously unregistered\n",
       "  if (root.Jupyter !== undefined) {\n",
       "    var events = require('base/js/events');\n",
       "    var OutputArea = require('notebook/js/outputarea').OutputArea;\n",
       "\n",
       "    if (OutputArea.prototype.mime_types().indexOf(EXEC_MIME_TYPE) == -1) {\n",
       "      register_renderer(events, OutputArea);\n",
       "    }\n",
       "  }\n",
       "\n",
       "  \n",
       "  if (typeof (root._bokeh_timeout) === \"undefined\" || force === true) {\n",
       "    root._bokeh_timeout = Date.now() + 5000;\n",
       "    root._bokeh_failed_load = false;\n",
       "  }\n",
       "\n",
       "  var NB_LOAD_WARNING = {'data': {'text/html':\n",
       "     \"<div style='background-color: #fdd'>\\n\"+\n",
       "     \"<p>\\n\"+\n",
       "     \"BokehJS does not appear to have successfully loaded. If loading BokehJS from CDN, this \\n\"+\n",
       "     \"may be due to a slow or bad network connection. Possible fixes:\\n\"+\n",
       "     \"</p>\\n\"+\n",
       "     \"<ul>\\n\"+\n",
       "     \"<li>re-rerun `output_notebook()` to attempt to load from CDN again, or</li>\\n\"+\n",
       "     \"<li>use INLINE resources instead, as so:</li>\\n\"+\n",
       "     \"</ul>\\n\"+\n",
       "     \"<code>\\n\"+\n",
       "     \"from bokeh.resources import INLINE\\n\"+\n",
       "     \"output_notebook(resources=INLINE)\\n\"+\n",
       "     \"</code>\\n\"+\n",
       "     \"</div>\"}};\n",
       "\n",
       "  function display_loaded() {\n",
       "    var el = document.getElementById(\"1001\");\n",
       "    if (el != null) {\n",
       "      el.textContent = \"BokehJS is loading...\";\n",
       "    }\n",
       "    if (root.Bokeh !== undefined) {\n",
       "      if (el != null) {\n",
       "        el.textContent = \"BokehJS \" + root.Bokeh.version + \" successfully loaded.\";\n",
       "      }\n",
       "    } else if (Date.now() < root._bokeh_timeout) {\n",
       "      setTimeout(display_loaded, 100)\n",
       "    }\n",
       "  }\n",
       "\n",
       "\n",
       "  function run_callbacks() {\n",
       "    try {\n",
       "      root._bokeh_onload_callbacks.forEach(function(callback) {\n",
       "        if (callback != null)\n",
       "          callback();\n",
       "      });\n",
       "    } finally {\n",
       "      delete root._bokeh_onload_callbacks\n",
       "    }\n",
       "    console.debug(\"Bokeh: all callbacks have finished\");\n",
       "  }\n",
       "\n",
       "  function load_libs(css_urls, js_urls, callback) {\n",
       "    if (css_urls == null) css_urls = [];\n",
       "    if (js_urls == null) js_urls = [];\n",
       "\n",
       "    root._bokeh_onload_callbacks.push(callback);\n",
       "    if (root._bokeh_is_loading > 0) {\n",
       "      console.debug(\"Bokeh: BokehJS is being loaded, scheduling callback at\", now());\n",
       "      return null;\n",
       "    }\n",
       "    if (js_urls == null || js_urls.length === 0) {\n",
       "      run_callbacks();\n",
       "      return null;\n",
       "    }\n",
       "    console.debug(\"Bokeh: BokehJS not loaded, scheduling load and callback at\", now());\n",
       "    root._bokeh_is_loading = css_urls.length + js_urls.length;\n",
       "\n",
       "    function on_load() {\n",
       "      root._bokeh_is_loading--;\n",
       "      if (root._bokeh_is_loading === 0) {\n",
       "        console.debug(\"Bokeh: all BokehJS libraries/stylesheets loaded\");\n",
       "        run_callbacks()\n",
       "      }\n",
       "    }\n",
       "\n",
       "    function on_error() {\n",
       "      console.error(\"failed to load \" + url);\n",
       "    }\n",
       "\n",
       "    for (var i = 0; i < css_urls.length; i++) {\n",
       "      var url = css_urls[i];\n",
       "      const element = document.createElement(\"link\");\n",
       "      element.onload = on_load;\n",
       "      element.onerror = on_error;\n",
       "      element.rel = \"stylesheet\";\n",
       "      element.type = \"text/css\";\n",
       "      element.href = url;\n",
       "      console.debug(\"Bokeh: injecting link tag for BokehJS stylesheet: \", url);\n",
       "      document.body.appendChild(element);\n",
       "    }\n",
       "\n",
       "    for (var i = 0; i < js_urls.length; i++) {\n",
       "      var url = js_urls[i];\n",
       "      var element = document.createElement('script');\n",
       "      element.onload = on_load;\n",
       "      element.onerror = on_error;\n",
       "      element.async = false;\n",
       "      element.src = url;\n",
       "      console.debug(\"Bokeh: injecting script tag for BokehJS library: \", url);\n",
       "      document.head.appendChild(element);\n",
       "    }\n",
       "  };var element = document.getElementById(\"1001\");\n",
       "  if (element == null) {\n",
       "    console.error(\"Bokeh: ERROR: autoload.js configured with elementid '1001' but no matching script tag was found. \")\n",
       "    return false;\n",
       "  }\n",
       "\n",
       "  function inject_raw_css(css) {\n",
       "    const element = document.createElement(\"style\");\n",
       "    element.appendChild(document.createTextNode(css));\n",
       "    document.body.appendChild(element);\n",
       "  }\n",
       "\n",
       "  var js_urls = [\"https://cdn.pydata.org/bokeh/release/bokeh-1.2.0.min.js\", \"https://cdn.pydata.org/bokeh/release/bokeh-widgets-1.2.0.min.js\", \"https://cdn.pydata.org/bokeh/release/bokeh-tables-1.2.0.min.js\", \"https://cdn.pydata.org/bokeh/release/bokeh-gl-1.2.0.min.js\"];\n",
       "  var css_urls = [\"https://cdn.pydata.org/bokeh/release/bokeh-1.2.0.min.css\", \"https://cdn.pydata.org/bokeh/release/bokeh-widgets-1.2.0.min.css\", \"https://cdn.pydata.org/bokeh/release/bokeh-tables-1.2.0.min.css\"];\n",
       "\n",
       "  var inline_js = [\n",
       "    function(Bokeh) {\n",
       "      Bokeh.set_log_level(\"info\");\n",
       "    },\n",
       "    \n",
       "    function(Bokeh) {\n",
       "      \n",
       "    },\n",
       "    function(Bokeh) {} // ensure no trailing comma for IE\n",
       "  ];\n",
       "\n",
       "  function run_inline_js() {\n",
       "    \n",
       "    if ((root.Bokeh !== undefined) || (force === true)) {\n",
       "      for (var i = 0; i < inline_js.length; i++) {\n",
       "        inline_js[i].call(root, root.Bokeh);\n",
       "      }if (force === true) {\n",
       "        display_loaded();\n",
       "      }} else if (Date.now() < root._bokeh_timeout) {\n",
       "      setTimeout(run_inline_js, 100);\n",
       "    } else if (!root._bokeh_failed_load) {\n",
       "      console.log(\"Bokeh: BokehJS failed to load within specified timeout.\");\n",
       "      root._bokeh_failed_load = true;\n",
       "    } else if (force !== true) {\n",
       "      var cell = $(document.getElementById(\"1001\")).parents('.cell').data().cell;\n",
       "      cell.output_area.append_execute_result(NB_LOAD_WARNING)\n",
       "    }\n",
       "\n",
       "  }\n",
       "\n",
       "  if (root._bokeh_is_loading === 0) {\n",
       "    console.debug(\"Bokeh: BokehJS loaded, going straight to plotting\");\n",
       "    run_inline_js();\n",
       "  } else {\n",
       "    load_libs(css_urls, js_urls, function() {\n",
       "      console.debug(\"Bokeh: BokehJS plotting callback run at\", now());\n",
       "      run_inline_js();\n",
       "    });\n",
       "  }\n",
       "}(window));"
      ],
      "application/vnd.bokehjs_load.v0+json": "\n(function(root) {\n  function now() {\n    return new Date();\n  }\n\n  var force = true;\n\n  if (typeof root._bokeh_onload_callbacks === \"undefined\" || force === true) {\n    root._bokeh_onload_callbacks = [];\n    root._bokeh_is_loading = undefined;\n  }\n\n  \n\n  \n  if (typeof (root._bokeh_timeout) === \"undefined\" || force === true) {\n    root._bokeh_timeout = Date.now() + 5000;\n    root._bokeh_failed_load = false;\n  }\n\n  var NB_LOAD_WARNING = {'data': {'text/html':\n     \"<div style='background-color: #fdd'>\\n\"+\n     \"<p>\\n\"+\n     \"BokehJS does not appear to have successfully loaded. If loading BokehJS from CDN, this \\n\"+\n     \"may be due to a slow or bad network connection. Possible fixes:\\n\"+\n     \"</p>\\n\"+\n     \"<ul>\\n\"+\n     \"<li>re-rerun `output_notebook()` to attempt to load from CDN again, or</li>\\n\"+\n     \"<li>use INLINE resources instead, as so:</li>\\n\"+\n     \"</ul>\\n\"+\n     \"<code>\\n\"+\n     \"from bokeh.resources import INLINE\\n\"+\n     \"output_notebook(resources=INLINE)\\n\"+\n     \"</code>\\n\"+\n     \"</div>\"}};\n\n  function display_loaded() {\n    var el = document.getElementById(\"1001\");\n    if (el != null) {\n      el.textContent = \"BokehJS is loading...\";\n    }\n    if (root.Bokeh !== undefined) {\n      if (el != null) {\n        el.textContent = \"BokehJS \" + root.Bokeh.version + \" successfully loaded.\";\n      }\n    } else if (Date.now() < root._bokeh_timeout) {\n      setTimeout(display_loaded, 100)\n    }\n  }\n\n\n  function run_callbacks() {\n    try {\n      root._bokeh_onload_callbacks.forEach(function(callback) {\n        if (callback != null)\n          callback();\n      });\n    } finally {\n      delete root._bokeh_onload_callbacks\n    }\n    console.debug(\"Bokeh: all callbacks have finished\");\n  }\n\n  function load_libs(css_urls, js_urls, callback) {\n    if (css_urls == null) css_urls = [];\n    if (js_urls == null) js_urls = [];\n\n    root._bokeh_onload_callbacks.push(callback);\n    if (root._bokeh_is_loading > 0) {\n      console.debug(\"Bokeh: BokehJS is being loaded, scheduling callback at\", now());\n      return null;\n    }\n    if (js_urls == null || js_urls.length === 0) {\n      run_callbacks();\n      return null;\n    }\n    console.debug(\"Bokeh: BokehJS not loaded, scheduling load and callback at\", now());\n    root._bokeh_is_loading = css_urls.length + js_urls.length;\n\n    function on_load() {\n      root._bokeh_is_loading--;\n      if (root._bokeh_is_loading === 0) {\n        console.debug(\"Bokeh: all BokehJS libraries/stylesheets loaded\");\n        run_callbacks()\n      }\n    }\n\n    function on_error() {\n      console.error(\"failed to load \" + url);\n    }\n\n    for (var i = 0; i < css_urls.length; i++) {\n      var url = css_urls[i];\n      const element = document.createElement(\"link\");\n      element.onload = on_load;\n      element.onerror = on_error;\n      element.rel = \"stylesheet\";\n      element.type = \"text/css\";\n      element.href = url;\n      console.debug(\"Bokeh: injecting link tag for BokehJS stylesheet: \", url);\n      document.body.appendChild(element);\n    }\n\n    for (var i = 0; i < js_urls.length; i++) {\n      var url = js_urls[i];\n      var element = document.createElement('script');\n      element.onload = on_load;\n      element.onerror = on_error;\n      element.async = false;\n      element.src = url;\n      console.debug(\"Bokeh: injecting script tag for BokehJS library: \", url);\n      document.head.appendChild(element);\n    }\n  };var element = document.getElementById(\"1001\");\n  if (element == null) {\n    console.error(\"Bokeh: ERROR: autoload.js configured with elementid '1001' but no matching script tag was found. \")\n    return false;\n  }\n\n  function inject_raw_css(css) {\n    const element = document.createElement(\"style\");\n    element.appendChild(document.createTextNode(css));\n    document.body.appendChild(element);\n  }\n\n  var js_urls = [\"https://cdn.pydata.org/bokeh/release/bokeh-1.2.0.min.js\", \"https://cdn.pydata.org/bokeh/release/bokeh-widgets-1.2.0.min.js\", \"https://cdn.pydata.org/bokeh/release/bokeh-tables-1.2.0.min.js\", \"https://cdn.pydata.org/bokeh/release/bokeh-gl-1.2.0.min.js\"];\n  var css_urls = [\"https://cdn.pydata.org/bokeh/release/bokeh-1.2.0.min.css\", \"https://cdn.pydata.org/bokeh/release/bokeh-widgets-1.2.0.min.css\", \"https://cdn.pydata.org/bokeh/release/bokeh-tables-1.2.0.min.css\"];\n\n  var inline_js = [\n    function(Bokeh) {\n      Bokeh.set_log_level(\"info\");\n    },\n    \n    function(Bokeh) {\n      \n    },\n    function(Bokeh) {} // ensure no trailing comma for IE\n  ];\n\n  function run_inline_js() {\n    \n    if ((root.Bokeh !== undefined) || (force === true)) {\n      for (var i = 0; i < inline_js.length; i++) {\n        inline_js[i].call(root, root.Bokeh);\n      }if (force === true) {\n        display_loaded();\n      }} else if (Date.now() < root._bokeh_timeout) {\n      setTimeout(run_inline_js, 100);\n    } else if (!root._bokeh_failed_load) {\n      console.log(\"Bokeh: BokehJS failed to load within specified timeout.\");\n      root._bokeh_failed_load = true;\n    } else if (force !== true) {\n      var cell = $(document.getElementById(\"1001\")).parents('.cell').data().cell;\n      cell.output_area.append_execute_result(NB_LOAD_WARNING)\n    }\n\n  }\n\n  if (root._bokeh_is_loading === 0) {\n    console.debug(\"Bokeh: BokehJS loaded, going straight to plotting\");\n    run_inline_js();\n  } else {\n    load_libs(css_urls, js_urls, function() {\n      console.debug(\"Bokeh: BokehJS plotting callback run at\", now());\n      run_inline_js();\n    });\n  }\n}(window));"
     },
     "metadata": {},
     "output_type": "display_data"
    }
   ],
   "source": [
    "from bokeh.io import show, output_notebook\n",
    "from bokeh.layouts import gridplot\n",
    "output_notebook()"
   ]
  },
  {
   "cell_type": "code",
   "execution_count": 3,
   "metadata": {},
   "outputs": [],
   "source": [
    "mt = hl.read_matrix_table('/home/olavur/experiments/2020-11-13_fargen1_exome_analysis/data/mt/variants.mt')"
   ]
  },
  {
   "cell_type": "code",
   "execution_count": 4,
   "metadata": {},
   "outputs": [],
   "source": [
    "mt = hl.variant_qc(mt)\n",
    "mt = hl.sample_qc(mt)"
   ]
  },
  {
   "cell_type": "code",
   "execution_count": 5,
   "metadata": {},
   "outputs": [
    {
     "name": "stdout",
     "output_type": "stream",
     "text": [
      "----------------------------------------\n",
      "Global fields:\n",
      "    None\n",
      "----------------------------------------\n",
      "Column fields:\n",
      "    's': str\n",
      "    'sample_qc': struct {\n",
      "        dp_stats: struct {\n",
      "            mean: float64, \n",
      "            stdev: float64, \n",
      "            min: float64, \n",
      "            max: float64\n",
      "        }, \n",
      "        gq_stats: struct {\n",
      "            mean: float64, \n",
      "            stdev: float64, \n",
      "            min: float64, \n",
      "            max: float64\n",
      "        }, \n",
      "        call_rate: float64, \n",
      "        n_called: int64, \n",
      "        n_not_called: int64, \n",
      "        n_filtered: int64, \n",
      "        n_hom_ref: int64, \n",
      "        n_het: int64, \n",
      "        n_hom_var: int64, \n",
      "        n_non_ref: int64, \n",
      "        n_singleton: int64, \n",
      "        n_snp: int64, \n",
      "        n_insertion: int64, \n",
      "        n_deletion: int64, \n",
      "        n_transition: int64, \n",
      "        n_transversion: int64, \n",
      "        n_star: int64, \n",
      "        r_ti_tv: float64, \n",
      "        r_het_hom_var: float64, \n",
      "        r_insertion_deletion: float64\n",
      "    }\n",
      "----------------------------------------\n",
      "Row fields:\n",
      "    'locus': locus<GRCh38>\n",
      "    'alleles': array<str>\n",
      "    'rsid': str\n",
      "    'qual': float64\n",
      "    'filters': set<str>\n",
      "    'info': struct {\n",
      "        AC: array<int32>, \n",
      "        AF: array<float64>, \n",
      "        AN: int32, \n",
      "        BaseQRankSum: float64, \n",
      "        DB: bool, \n",
      "        DP: int32, \n",
      "        DS: bool, \n",
      "        END: int32, \n",
      "        ExcessHet: float64, \n",
      "        FS: float64, \n",
      "        InbreedingCoeff: float64, \n",
      "        MLEAC: array<int32>, \n",
      "        MLEAF: array<float64>, \n",
      "        MQ: float64, \n",
      "        MQRankSum: float64, \n",
      "        NEGATIVE_TRAIN_SITE: bool, \n",
      "        PG: array<int32>, \n",
      "        POSITIVE_TRAIN_SITE: bool, \n",
      "        QD: float64, \n",
      "        RAW_MQandDP: array<int32>, \n",
      "        ReadPosRankSum: float64, \n",
      "        SOR: float64, \n",
      "        VQSLOD: float64, \n",
      "        culprit: str, \n",
      "        ANN: array<str>, \n",
      "        LOF: array<str>, \n",
      "        NMD: array<str>\n",
      "    }\n",
      "    'variant_qc': struct {\n",
      "        dp_stats: struct {\n",
      "            mean: float64, \n",
      "            stdev: float64, \n",
      "            min: float64, \n",
      "            max: float64\n",
      "        }, \n",
      "        gq_stats: struct {\n",
      "            mean: float64, \n",
      "            stdev: float64, \n",
      "            min: float64, \n",
      "            max: float64\n",
      "        }, \n",
      "        AC: array<int32>, \n",
      "        AF: array<float64>, \n",
      "        AN: int32, \n",
      "        homozygote_count: array<int32>, \n",
      "        call_rate: float64, \n",
      "        n_called: int64, \n",
      "        n_not_called: int64, \n",
      "        n_filtered: int64, \n",
      "        n_het: int64, \n",
      "        n_non_ref: int64, \n",
      "        het_freq_hwe: float64, \n",
      "        p_value_hwe: float64\n",
      "    }\n",
      "----------------------------------------\n",
      "Entry fields:\n",
      "    'AD': array<int32>\n",
      "    'DP': int32\n",
      "    'GQ': int32\n",
      "    'GT': call\n",
      "    'MIN_DP': int32\n",
      "    'PGT': call\n",
      "    'PID': str\n",
      "    'PL': array<int32>\n",
      "    'PP': array<int32>\n",
      "    'PS': int32\n",
      "    'RGQ': int32\n",
      "    'SB': array<int32>\n",
      "----------------------------------------\n",
      "Column key: ['s']\n",
      "Row key: ['locus', 'alleles']\n",
      "----------------------------------------\n"
     ]
    }
   ],
   "source": [
    "mt.describe()"
   ]
  },
  {
   "cell_type": "markdown",
   "metadata": {},
   "source": [
    "## VQSR filter"
   ]
  },
  {
   "cell_type": "code",
   "execution_count": 6,
   "metadata": {},
   "outputs": [],
   "source": [
    "mt = mt.transmute_rows(filters=hl.delimit(mt.filters, ','))"
   ]
  },
  {
   "cell_type": "code",
   "execution_count": 7,
   "metadata": {},
   "outputs": [
    {
     "data": {
      "text/plain": [
       "{'': 572780,\n",
       " 'VQSRTrancheINDEL99.90to100.00': 48589,\n",
       " 'VQSRTrancheINDEL99.00to99.90': 82523,\n",
       " 'VQSRTrancheSNP99.90to100.00': 137182,\n",
       " 'VQSRTrancheSNP99.00to99.90': 107475}"
      ]
     },
     "execution_count": 7,
     "metadata": {},
     "output_type": "execute_result"
    }
   ],
   "source": [
    "mt.aggregate_rows(hl.agg.counter(mt.filters))"
   ]
  },
  {
   "cell_type": "markdown",
   "metadata": {},
   "source": [
    "## Variant QC"
   ]
  },
  {
   "cell_type": "code",
   "execution_count": 8,
   "metadata": {},
   "outputs": [
    {
     "data": {
      "text/html": [
       "\n",
       "\n",
       "\n",
       "\n",
       "\n",
       "\n",
       "  <div class=\"bk-root\" id=\"776cf2ce-03bb-498a-a01f-ed517be24d53\" data-root-id=\"1002\"></div>\n"
      ]
     },
     "metadata": {},
     "output_type": "display_data"
    },
    {
     "data": {
      "application/javascript": [
       "(function(root) {\n",
       "  function embed_document(root) {\n",
       "    \n",
       "  var docs_json = {\"daa0b92a-3a60-4838-9af6-2af2bbc2f4bb\":{\"roots\":{\"references\":[{\"attributes\":{\"background_fill_color\":{\"value\":\"#EEEEEE\"},\"below\":[{\"id\":\"1012\",\"type\":\"LinearAxis\"}],\"center\":[{\"id\":\"1016\",\"type\":\"Grid\"},{\"id\":\"1021\",\"type\":\"Grid\"},{\"id\":\"1046\",\"type\":\"Legend\"}],\"left\":[{\"id\":\"1017\",\"type\":\"LinearAxis\"}],\"renderers\":[{\"id\":\"1038\",\"type\":\"GlyphRenderer\"},{\"id\":\"1051\",\"type\":\"GlyphRenderer\"}],\"title\":null,\"toolbar\":{\"id\":\"1028\",\"type\":\"Toolbar\"},\"x_range\":{\"id\":\"1004\",\"type\":\"Range1d\"},\"x_scale\":{\"id\":\"1008\",\"type\":\"LinearScale\"},\"y_range\":{\"id\":\"1006\",\"type\":\"DataRange1d\"},\"y_scale\":{\"id\":\"1010\",\"type\":\"LinearScale\"}},\"id\":\"1002\",\"subtype\":\"Figure\",\"type\":\"Plot\"},{\"attributes\":{},\"id\":\"1023\",\"type\":\"WheelZoomTool\"},{\"attributes\":{\"bottom\":{\"value\":0},\"fill_color\":{\"value\":\"green\"},\"left\":{\"value\":100.0},\"right\":{\"value\":102.0},\"top\":{\"value\":5545}},\"id\":\"1049\",\"type\":\"Quad\"},{\"attributes\":{\"bottom\":{\"value\":0},\"fill_alpha\":{\"value\":0.1},\"fill_color\":{\"value\":\"#1f77b4\"},\"left\":{\"field\":\"left\"},\"line_alpha\":{\"value\":0.1},\"line_color\":{\"value\":\"#1f77b4\"},\"right\":{\"field\":\"right\"},\"top\":{\"field\":\"top\"}},\"id\":\"1037\",\"type\":\"Quad\"},{\"attributes\":{\"axis_label\":\"Frequency\",\"formatter\":{\"id\":\"1041\",\"type\":\"BasicTickFormatter\"},\"ticker\":{\"id\":\"1018\",\"type\":\"BasicTicker\"}},\"id\":\"1017\",\"type\":\"LinearAxis\"},{\"attributes\":{},\"id\":\"1071\",\"type\":\"UnionRenderers\"},{\"attributes\":{\"ticker\":{\"id\":\"1013\",\"type\":\"BasicTicker\"}},\"id\":\"1016\",\"type\":\"Grid\"},{\"attributes\":{\"bottom\":{\"value\":0},\"fill_color\":{\"value\":\"#1f77b4\"},\"left\":{\"field\":\"left\"},\"right\":{\"field\":\"right\"},\"top\":{\"field\":\"top\"}},\"id\":\"1036\",\"type\":\"Quad\"},{\"attributes\":{\"bottom\":{\"value\":0},\"fill_alpha\":{\"value\":0.1},\"fill_color\":{\"value\":\"#1f77b4\"},\"left\":{\"value\":100.0},\"line_alpha\":{\"value\":0.1},\"line_color\":{\"value\":\"#1f77b4\"},\"right\":{\"value\":102.0},\"top\":{\"value\":5545}},\"id\":\"1050\",\"type\":\"Quad\"},{\"attributes\":{},\"id\":\"1008\",\"type\":\"LinearScale\"},{\"attributes\":{\"axis_label\":\"Mean DP per variant histogram\",\"formatter\":{\"id\":\"1043\",\"type\":\"BasicTickFormatter\"},\"ticker\":{\"id\":\"1013\",\"type\":\"BasicTicker\"}},\"id\":\"1012\",\"type\":\"LinearAxis\"},{\"attributes\":{},\"id\":\"1060\",\"type\":\"UnionRenderers\"},{\"attributes\":{\"dimension\":1,\"ticker\":{\"id\":\"1018\",\"type\":\"BasicTicker\"}},\"id\":\"1021\",\"type\":\"Grid\"},{\"attributes\":{},\"id\":\"1013\",\"type\":\"BasicTicker\"},{\"attributes\":{},\"id\":\"1059\",\"type\":\"Selection\"},{\"attributes\":{\"data_source\":{\"id\":\"1035\",\"type\":\"ColumnDataSource\"},\"glyph\":{\"id\":\"1036\",\"type\":\"Quad\"},\"hover_glyph\":null,\"muted_glyph\":null,\"nonselection_glyph\":{\"id\":\"1037\",\"type\":\"Quad\"},\"selection_glyph\":null,\"view\":{\"id\":\"1039\",\"type\":\"CDSView\"}},\"id\":\"1038\",\"type\":\"GlyphRenderer\"},{\"attributes\":{},\"id\":\"1018\",\"type\":\"BasicTicker\"},{\"attributes\":{\"callback\":null,\"data\":{},\"selected\":{\"id\":\"1070\",\"type\":\"Selection\"},\"selection_policy\":{\"id\":\"1071\",\"type\":\"UnionRenderers\"}},\"id\":\"1048\",\"type\":\"ColumnDataSource\"},{\"attributes\":{\"label\":{\"value\":\"Mean DP per variant histogram\"},\"renderers\":[{\"id\":\"1038\",\"type\":\"GlyphRenderer\"}]},\"id\":\"1047\",\"type\":\"LegendItem\"},{\"attributes\":{\"items\":[{\"id\":\"1047\",\"type\":\"LegendItem\"},{\"id\":\"1061\",\"type\":\"LegendItem\"}]},\"id\":\"1046\",\"type\":\"Legend\"},{\"attributes\":{\"active_drag\":\"auto\",\"active_inspect\":\"auto\",\"active_multi\":null,\"active_scroll\":\"auto\",\"active_tap\":\"auto\",\"tools\":[{\"id\":\"1022\",\"type\":\"PanTool\"},{\"id\":\"1023\",\"type\":\"WheelZoomTool\"},{\"id\":\"1024\",\"type\":\"BoxZoomTool\"},{\"id\":\"1025\",\"type\":\"SaveTool\"},{\"id\":\"1026\",\"type\":\"ResetTool\"},{\"id\":\"1027\",\"type\":\"HelpTool\"}]},\"id\":\"1028\",\"type\":\"Toolbar\"},{\"attributes\":{},\"id\":\"1043\",\"type\":\"BasicTickFormatter\"},{\"attributes\":{\"callback\":null,\"data\":{\"left\":[0.0,2.0,4.0,6.0,8.0,10.0,12.0,14.0,16.0,18.0,20.0,22.0,24.0,26.0,28.0,30.0,32.0,34.0,36.0,38.0,40.0,42.0,44.0,46.0,48.0,50.0,52.0,54.0,56.0,58.0,60.0,62.0,64.0,66.0,68.0,70.0,72.0,74.0,76.0,78.0,80.0,82.0,84.0,86.0,88.0,90.0,92.0,94.0,96.0,98.0],\"right\":[2.0,4.0,6.0,8.0,10.0,12.0,14.0,16.0,18.0,20.0,22.0,24.0,26.0,28.0,30.0,32.0,34.0,36.0,38.0,40.0,42.0,44.0,46.0,48.0,50.0,52.0,54.0,56.0,58.0,60.0,62.0,64.0,66.0,68.0,70.0,72.0,74.0,76.0,78.0,80.0,82.0,84.0,86.0,88.0,90.0,92.0,94.0,96.0,98.0,100.0],\"top\":[11358,29606,43472,53874,59426,59892,57327,53362,49131,45460,41437,38617,35381,33572,32004,30647,29895,28953,27972,26302,24303,20887,17470,14713,11961,9809,8072,6606,5502,4493,4102,3383,2993,2669,2364,2009,1813,1583,1495,1302,1169,1051,968,835,798,704,644,610,523,485]},\"selected\":{\"id\":\"1059\",\"type\":\"Selection\"},\"selection_policy\":{\"id\":\"1060\",\"type\":\"UnionRenderers\"}},\"id\":\"1035\",\"type\":\"ColumnDataSource\"},{\"attributes\":{},\"id\":\"1041\",\"type\":\"BasicTickFormatter\"},{\"attributes\":{\"source\":{\"id\":\"1035\",\"type\":\"ColumnDataSource\"}},\"id\":\"1039\",\"type\":\"CDSView\"},{\"attributes\":{\"overlay\":{\"id\":\"1045\",\"type\":\"BoxAnnotation\"}},\"id\":\"1024\",\"type\":\"BoxZoomTool\"},{\"attributes\":{},\"id\":\"1022\",\"type\":\"PanTool\"},{\"attributes\":{\"label\":{\"value\":\"Outliers Above\"},\"renderers\":[{\"id\":\"1051\",\"type\":\"GlyphRenderer\"}]},\"id\":\"1061\",\"type\":\"LegendItem\"},{\"attributes\":{\"callback\":null},\"id\":\"1006\",\"type\":\"DataRange1d\"},{\"attributes\":{\"callback\":null,\"end\":105.0,\"start\":-5.0},\"id\":\"1004\",\"type\":\"Range1d\"},{\"attributes\":{\"source\":{\"id\":\"1048\",\"type\":\"ColumnDataSource\"}},\"id\":\"1052\",\"type\":\"CDSView\"},{\"attributes\":{},\"id\":\"1010\",\"type\":\"LinearScale\"},{\"attributes\":{},\"id\":\"1026\",\"type\":\"ResetTool\"},{\"attributes\":{},\"id\":\"1027\",\"type\":\"HelpTool\"},{\"attributes\":{},\"id\":\"1070\",\"type\":\"Selection\"},{\"attributes\":{\"bottom_units\":\"screen\",\"fill_alpha\":{\"value\":0.5},\"fill_color\":{\"value\":\"lightgrey\"},\"left_units\":\"screen\",\"level\":\"overlay\",\"line_alpha\":{\"value\":1.0},\"line_color\":{\"value\":\"black\"},\"line_dash\":[4,4],\"line_width\":{\"value\":2},\"render_mode\":\"css\",\"right_units\":\"screen\",\"top_units\":\"screen\"},\"id\":\"1045\",\"type\":\"BoxAnnotation\"},{\"attributes\":{},\"id\":\"1025\",\"type\":\"SaveTool\"},{\"attributes\":{\"data_source\":{\"id\":\"1048\",\"type\":\"ColumnDataSource\"},\"glyph\":{\"id\":\"1049\",\"type\":\"Quad\"},\"hover_glyph\":null,\"muted_glyph\":null,\"nonselection_glyph\":{\"id\":\"1050\",\"type\":\"Quad\"},\"selection_glyph\":null,\"view\":{\"id\":\"1052\",\"type\":\"CDSView\"}},\"id\":\"1051\",\"type\":\"GlyphRenderer\"}],\"root_ids\":[\"1002\"]},\"title\":\"Bokeh Application\",\"version\":\"1.2.0\"}};\n",
       "  var render_items = [{\"docid\":\"daa0b92a-3a60-4838-9af6-2af2bbc2f4bb\",\"roots\":{\"1002\":\"776cf2ce-03bb-498a-a01f-ed517be24d53\"}}];\n",
       "  root.Bokeh.embed.embed_items_notebook(docs_json, render_items);\n",
       "\n",
       "  }\n",
       "  if (root.Bokeh !== undefined) {\n",
       "    embed_document(root);\n",
       "  } else {\n",
       "    var attempts = 0;\n",
       "    var timer = setInterval(function(root) {\n",
       "      if (root.Bokeh !== undefined) {\n",
       "        embed_document(root);\n",
       "        clearInterval(timer);\n",
       "      }\n",
       "      attempts++;\n",
       "      if (attempts > 100) {\n",
       "        console.log(\"Bokeh: ERROR: Unable to run BokehJS code because BokehJS library is missing\");\n",
       "        clearInterval(timer);\n",
       "      }\n",
       "    }, 10, root)\n",
       "  }\n",
       "})(window);"
      ],
      "application/vnd.bokehjs_exec.v0+json": ""
     },
     "metadata": {
      "application/vnd.bokehjs_exec.v0+json": {
       "id": "1002"
      }
     },
     "output_type": "display_data"
    }
   ],
   "source": [
    "p = hl.plot.histogram(mt.variant_qc.dp_stats.mean, range=(0,100), legend='Mean DP per variant histogram')\n",
    "show(p)"
   ]
  },
  {
   "cell_type": "code",
   "execution_count": 9,
   "metadata": {},
   "outputs": [
    {
     "data": {
      "text/html": [
       "\n",
       "\n",
       "\n",
       "\n",
       "\n",
       "\n",
       "  <div class=\"bk-root\" id=\"be3e51df-9e3f-471b-89d8-45b8cc3391e5\" data-root-id=\"1132\"></div>\n"
      ]
     },
     "metadata": {},
     "output_type": "display_data"
    },
    {
     "data": {
      "application/javascript": [
       "(function(root) {\n",
       "  function embed_document(root) {\n",
       "    \n",
       "  var docs_json = {\"3084d4a8-53e9-4555-9288-c0eae0988ffb\":{\"roots\":{\"references\":[{\"attributes\":{\"background_fill_color\":{\"value\":\"#EEEEEE\"},\"below\":[{\"id\":\"1142\",\"type\":\"LinearAxis\"}],\"center\":[{\"id\":\"1146\",\"type\":\"Grid\"},{\"id\":\"1151\",\"type\":\"Grid\"},{\"id\":\"1176\",\"type\":\"Legend\"}],\"left\":[{\"id\":\"1147\",\"type\":\"LinearAxis\"}],\"renderers\":[{\"id\":\"1168\",\"type\":\"GlyphRenderer\"}],\"title\":null,\"toolbar\":{\"id\":\"1158\",\"type\":\"Toolbar\"},\"x_range\":{\"id\":\"1134\",\"type\":\"Range1d\"},\"x_scale\":{\"id\":\"1138\",\"type\":\"LinearScale\"},\"y_range\":{\"id\":\"1136\",\"type\":\"DataRange1d\"},\"y_scale\":{\"id\":\"1140\",\"type\":\"LinearScale\"}},\"id\":\"1132\",\"subtype\":\"Figure\",\"type\":\"Plot\"},{\"attributes\":{\"bottom_units\":\"screen\",\"fill_alpha\":{\"value\":0.5},\"fill_color\":{\"value\":\"lightgrey\"},\"left_units\":\"screen\",\"level\":\"overlay\",\"line_alpha\":{\"value\":1.0},\"line_color\":{\"value\":\"black\"},\"line_dash\":[4,4],\"line_width\":{\"value\":2},\"render_mode\":\"css\",\"right_units\":\"screen\",\"top_units\":\"screen\"},\"id\":\"1175\",\"type\":\"BoxAnnotation\"},{\"attributes\":{\"bottom\":{\"value\":0},\"fill_color\":{\"value\":\"#1f77b4\"},\"left\":{\"field\":\"left\"},\"right\":{\"field\":\"right\"},\"top\":{\"field\":\"top\"}},\"id\":\"1166\",\"type\":\"Quad\"},{\"attributes\":{\"bottom\":{\"value\":0},\"fill_alpha\":{\"value\":0.1},\"fill_color\":{\"value\":\"#1f77b4\"},\"left\":{\"field\":\"left\"},\"line_alpha\":{\"value\":0.1},\"line_color\":{\"value\":\"#1f77b4\"},\"right\":{\"field\":\"right\"},\"top\":{\"field\":\"top\"}},\"id\":\"1167\",\"type\":\"Quad\"},{\"attributes\":{\"label\":{\"value\":\"Mean GQ per variant histogram\"},\"renderers\":[{\"id\":\"1168\",\"type\":\"GlyphRenderer\"}]},\"id\":\"1177\",\"type\":\"LegendItem\"},{\"attributes\":{\"callback\":null,\"data\":{\"left\":[0.0,2.0,4.0,6.0,8.0,10.0,12.0,14.0,16.0,18.0,20.0,22.0,24.0,26.0,28.0,30.0,32.0,34.0,36.0,38.0,40.0,42.0,44.0,46.0,48.0,50.0,52.0,54.0,56.0,58.0,60.0,62.0,64.0,66.0,68.0,70.0,72.0,74.0,76.0,78.0,80.0,82.0,84.0,86.0,88.0,90.0,92.0,94.0,96.0,98.0],\"right\":[2.0,4.0,6.0,8.0,10.0,12.0,14.0,16.0,18.0,20.0,22.0,24.0,26.0,28.0,30.0,32.0,34.0,36.0,38.0,40.0,42.0,44.0,46.0,48.0,50.0,52.0,54.0,56.0,58.0,60.0,62.0,64.0,66.0,68.0,70.0,72.0,74.0,76.0,78.0,80.0,82.0,84.0,86.0,88.0,90.0,92.0,94.0,96.0,98.0,100.0],\"top\":[711,2035,2719,3528,4227,5642,6474,7582,9790,11309,12083,11485,14326,16604,18568,20506,21888,23688,24475,24668,24634,24712,24182,23853,23748,22973,22431,22204,21672,21443,21103,21019,20502,20428,20123,20290,20433,20526,20900,21605,22138,23082,24328,25517,27624,30478,32109,32882,31375,17927]},\"selected\":{\"id\":\"1194\",\"type\":\"Selection\"},\"selection_policy\":{\"id\":\"1195\",\"type\":\"UnionRenderers\"}},\"id\":\"1165\",\"type\":\"ColumnDataSource\"},{\"attributes\":{},\"id\":\"1155\",\"type\":\"SaveTool\"},{\"attributes\":{\"source\":{\"id\":\"1165\",\"type\":\"ColumnDataSource\"}},\"id\":\"1169\",\"type\":\"CDSView\"},{\"attributes\":{\"dimension\":1,\"ticker\":{\"id\":\"1148\",\"type\":\"BasicTicker\"}},\"id\":\"1151\",\"type\":\"Grid\"},{\"attributes\":{\"overlay\":{\"id\":\"1175\",\"type\":\"BoxAnnotation\"}},\"id\":\"1154\",\"type\":\"BoxZoomTool\"},{\"attributes\":{},\"id\":\"1156\",\"type\":\"ResetTool\"},{\"attributes\":{\"callback\":null,\"end\":105.0,\"start\":-5.0},\"id\":\"1134\",\"type\":\"Range1d\"},{\"attributes\":{},\"id\":\"1153\",\"type\":\"WheelZoomTool\"},{\"attributes\":{\"active_drag\":\"auto\",\"active_inspect\":\"auto\",\"active_multi\":null,\"active_scroll\":\"auto\",\"active_tap\":\"auto\",\"tools\":[{\"id\":\"1152\",\"type\":\"PanTool\"},{\"id\":\"1153\",\"type\":\"WheelZoomTool\"},{\"id\":\"1154\",\"type\":\"BoxZoomTool\"},{\"id\":\"1155\",\"type\":\"SaveTool\"},{\"id\":\"1156\",\"type\":\"ResetTool\"},{\"id\":\"1157\",\"type\":\"HelpTool\"}]},\"id\":\"1158\",\"type\":\"Toolbar\"},{\"attributes\":{},\"id\":\"1157\",\"type\":\"HelpTool\"},{\"attributes\":{},\"id\":\"1143\",\"type\":\"BasicTicker\"},{\"attributes\":{},\"id\":\"1195\",\"type\":\"UnionRenderers\"},{\"attributes\":{},\"id\":\"1194\",\"type\":\"Selection\"},{\"attributes\":{\"axis_label\":\"Frequency\",\"formatter\":{\"id\":\"1171\",\"type\":\"BasicTickFormatter\"},\"ticker\":{\"id\":\"1148\",\"type\":\"BasicTicker\"}},\"id\":\"1147\",\"type\":\"LinearAxis\"},{\"attributes\":{},\"id\":\"1152\",\"type\":\"PanTool\"},{\"attributes\":{\"axis_label\":\"Mean GQ per variant histogram\",\"formatter\":{\"id\":\"1173\",\"type\":\"BasicTickFormatter\"},\"ticker\":{\"id\":\"1143\",\"type\":\"BasicTicker\"}},\"id\":\"1142\",\"type\":\"LinearAxis\"},{\"attributes\":{\"ticker\":{\"id\":\"1143\",\"type\":\"BasicTicker\"}},\"id\":\"1146\",\"type\":\"Grid\"},{\"attributes\":{},\"id\":\"1138\",\"type\":\"LinearScale\"},{\"attributes\":{\"data_source\":{\"id\":\"1165\",\"type\":\"ColumnDataSource\"},\"glyph\":{\"id\":\"1166\",\"type\":\"Quad\"},\"hover_glyph\":null,\"muted_glyph\":null,\"nonselection_glyph\":{\"id\":\"1167\",\"type\":\"Quad\"},\"selection_glyph\":null,\"view\":{\"id\":\"1169\",\"type\":\"CDSView\"}},\"id\":\"1168\",\"type\":\"GlyphRenderer\"},{\"attributes\":{\"callback\":null},\"id\":\"1136\",\"type\":\"DataRange1d\"},{\"attributes\":{},\"id\":\"1173\",\"type\":\"BasicTickFormatter\"},{\"attributes\":{\"items\":[{\"id\":\"1177\",\"type\":\"LegendItem\"}]},\"id\":\"1176\",\"type\":\"Legend\"},{\"attributes\":{},\"id\":\"1148\",\"type\":\"BasicTicker\"},{\"attributes\":{},\"id\":\"1140\",\"type\":\"LinearScale\"},{\"attributes\":{},\"id\":\"1171\",\"type\":\"BasicTickFormatter\"}],\"root_ids\":[\"1132\"]},\"title\":\"Bokeh Application\",\"version\":\"1.2.0\"}};\n",
       "  var render_items = [{\"docid\":\"3084d4a8-53e9-4555-9288-c0eae0988ffb\",\"roots\":{\"1132\":\"be3e51df-9e3f-471b-89d8-45b8cc3391e5\"}}];\n",
       "  root.Bokeh.embed.embed_items_notebook(docs_json, render_items);\n",
       "\n",
       "  }\n",
       "  if (root.Bokeh !== undefined) {\n",
       "    embed_document(root);\n",
       "  } else {\n",
       "    var attempts = 0;\n",
       "    var timer = setInterval(function(root) {\n",
       "      if (root.Bokeh !== undefined) {\n",
       "        embed_document(root);\n",
       "        clearInterval(timer);\n",
       "      }\n",
       "      attempts++;\n",
       "      if (attempts > 100) {\n",
       "        console.log(\"Bokeh: ERROR: Unable to run BokehJS code because BokehJS library is missing\");\n",
       "        clearInterval(timer);\n",
       "      }\n",
       "    }, 10, root)\n",
       "  }\n",
       "})(window);"
      ],
      "application/vnd.bokehjs_exec.v0+json": ""
     },
     "metadata": {
      "application/vnd.bokehjs_exec.v0+json": {
       "id": "1132"
      }
     },
     "output_type": "display_data"
    }
   ],
   "source": [
    "p = hl.plot.histogram(mt.variant_qc.gq_stats.mean, range=(0,100), legend='Mean GQ per variant histogram')\n",
    "show(p)"
   ]
  },
  {
   "cell_type": "markdown",
   "metadata": {},
   "source": [
    "## Sample QC"
   ]
  },
  {
   "cell_type": "markdown",
   "metadata": {},
   "source": [
    "### Depth"
   ]
  },
  {
   "cell_type": "code",
   "execution_count": 11,
   "metadata": {},
   "outputs": [
    {
     "data": {
      "text/html": [
       "\n",
       "\n",
       "\n",
       "\n",
       "\n",
       "\n",
       "  <div class=\"bk-root\" id=\"e3377a75-e192-4bc5-bc54-80551cb00a2b\" data-root-id=\"1244\"></div>\n"
      ]
     },
     "metadata": {},
     "output_type": "display_data"
    },
    {
     "data": {
      "application/javascript": [
       "(function(root) {\n",
       "  function embed_document(root) {\n",
       "    \n",
       "  var docs_json = {\"9d128d49-1374-47b7-a194-f32a087a5f68\":{\"roots\":{\"references\":[{\"attributes\":{\"background_fill_color\":{\"value\":\"#EEEEEE\"},\"below\":[{\"id\":\"1254\",\"type\":\"LinearAxis\"}],\"center\":[{\"id\":\"1258\",\"type\":\"Grid\"},{\"id\":\"1263\",\"type\":\"Grid\"},{\"id\":\"1288\",\"type\":\"Legend\"}],\"left\":[{\"id\":\"1259\",\"type\":\"LinearAxis\"}],\"renderers\":[{\"id\":\"1280\",\"type\":\"GlyphRenderer\"}],\"title\":null,\"toolbar\":{\"id\":\"1270\",\"type\":\"Toolbar\"},\"x_range\":{\"id\":\"1246\",\"type\":\"Range1d\"},\"x_scale\":{\"id\":\"1250\",\"type\":\"LinearScale\"},\"y_range\":{\"id\":\"1248\",\"type\":\"DataRange1d\"},\"y_scale\":{\"id\":\"1252\",\"type\":\"LinearScale\"}},\"id\":\"1244\",\"subtype\":\"Figure\",\"type\":\"Plot\"},{\"attributes\":{\"axis_label\":\"Mean DP per sample histogram\",\"formatter\":{\"id\":\"1285\",\"type\":\"BasicTickFormatter\"},\"ticker\":{\"id\":\"1255\",\"type\":\"BasicTicker\"}},\"id\":\"1254\",\"type\":\"LinearAxis\"},{\"attributes\":{},\"id\":\"1283\",\"type\":\"BasicTickFormatter\"},{\"attributes\":{},\"id\":\"1265\",\"type\":\"WheelZoomTool\"},{\"attributes\":{\"axis_label\":\"Frequency\",\"formatter\":{\"id\":\"1283\",\"type\":\"BasicTickFormatter\"},\"ticker\":{\"id\":\"1260\",\"type\":\"BasicTicker\"}},\"id\":\"1259\",\"type\":\"LinearAxis\"},{\"attributes\":{\"callback\":null,\"data\":{\"left\":[0.0,2.0,4.0,6.0,8.0,10.0,12.0,14.0,16.0,18.0,20.0,22.0,24.0,26.0,28.0,30.0,32.0,34.0,36.0,38.0,40.0,42.0,44.0,46.0,48.0,50.0,52.0,54.0,56.0,58.0,60.0,62.0,64.0,66.0,68.0,70.0,72.0,74.0,76.0,78.0,80.0,82.0,84.0,86.0,88.0,90.0,92.0,94.0,96.0,98.0],\"right\":[2.0,4.0,6.0,8.0,10.0,12.0,14.0,16.0,18.0,20.0,22.0,24.0,26.0,28.0,30.0,32.0,34.0,36.0,38.0,40.0,42.0,44.0,46.0,48.0,50.0,52.0,54.0,56.0,58.0,60.0,62.0,64.0,66.0,68.0,70.0,72.0,74.0,76.0,78.0,80.0,82.0,84.0,86.0,88.0,90.0,92.0,94.0,96.0,98.0,100.0],\"top\":[0,0,1,0,1,2,1,1,2,2,5,3,8,5,8,2,4,1,0,1,1,0,0,0,0,0,0,0,0,0,0,0,0,0,0,0,0,0,0,0,0,0,0,0,0,0,0,0,0,0]},\"selected\":{\"id\":\"1314\",\"type\":\"Selection\"},\"selection_policy\":{\"id\":\"1315\",\"type\":\"UnionRenderers\"}},\"id\":\"1277\",\"type\":\"ColumnDataSource\"},{\"attributes\":{\"active_drag\":\"auto\",\"active_inspect\":\"auto\",\"active_multi\":null,\"active_scroll\":\"auto\",\"active_tap\":\"auto\",\"tools\":[{\"id\":\"1264\",\"type\":\"PanTool\"},{\"id\":\"1265\",\"type\":\"WheelZoomTool\"},{\"id\":\"1266\",\"type\":\"BoxZoomTool\"},{\"id\":\"1267\",\"type\":\"SaveTool\"},{\"id\":\"1268\",\"type\":\"ResetTool\"},{\"id\":\"1269\",\"type\":\"HelpTool\"}]},\"id\":\"1270\",\"type\":\"Toolbar\"},{\"attributes\":{\"callback\":null,\"end\":105.0,\"start\":-5.0},\"id\":\"1246\",\"type\":\"Range1d\"},{\"attributes\":{},\"id\":\"1264\",\"type\":\"PanTool\"},{\"attributes\":{\"source\":{\"id\":\"1277\",\"type\":\"ColumnDataSource\"}},\"id\":\"1281\",\"type\":\"CDSView\"},{\"attributes\":{\"label\":{\"value\":\"Mean DP per sample histogram\"},\"renderers\":[{\"id\":\"1280\",\"type\":\"GlyphRenderer\"}]},\"id\":\"1289\",\"type\":\"LegendItem\"},{\"attributes\":{\"bottom\":{\"value\":0},\"fill_color\":{\"value\":\"#1f77b4\"},\"left\":{\"field\":\"left\"},\"right\":{\"field\":\"right\"},\"top\":{\"field\":\"top\"}},\"id\":\"1278\",\"type\":\"Quad\"},{\"attributes\":{\"overlay\":{\"id\":\"1287\",\"type\":\"BoxAnnotation\"}},\"id\":\"1266\",\"type\":\"BoxZoomTool\"},{\"attributes\":{\"bottom_units\":\"screen\",\"fill_alpha\":{\"value\":0.5},\"fill_color\":{\"value\":\"lightgrey\"},\"left_units\":\"screen\",\"level\":\"overlay\",\"line_alpha\":{\"value\":1.0},\"line_color\":{\"value\":\"black\"},\"line_dash\":[4,4],\"line_width\":{\"value\":2},\"render_mode\":\"css\",\"right_units\":\"screen\",\"top_units\":\"screen\"},\"id\":\"1287\",\"type\":\"BoxAnnotation\"},{\"attributes\":{},\"id\":\"1267\",\"type\":\"SaveTool\"},{\"attributes\":{},\"id\":\"1315\",\"type\":\"UnionRenderers\"},{\"attributes\":{\"dimension\":1,\"ticker\":{\"id\":\"1260\",\"type\":\"BasicTicker\"}},\"id\":\"1263\",\"type\":\"Grid\"},{\"attributes\":{},\"id\":\"1255\",\"type\":\"BasicTicker\"},{\"attributes\":{},\"id\":\"1252\",\"type\":\"LinearScale\"},{\"attributes\":{\"data_source\":{\"id\":\"1277\",\"type\":\"ColumnDataSource\"},\"glyph\":{\"id\":\"1278\",\"type\":\"Quad\"},\"hover_glyph\":null,\"muted_glyph\":null,\"nonselection_glyph\":{\"id\":\"1279\",\"type\":\"Quad\"},\"selection_glyph\":null,\"view\":{\"id\":\"1281\",\"type\":\"CDSView\"}},\"id\":\"1280\",\"type\":\"GlyphRenderer\"},{\"attributes\":{},\"id\":\"1268\",\"type\":\"ResetTool\"},{\"attributes\":{\"bottom\":{\"value\":0},\"fill_alpha\":{\"value\":0.1},\"fill_color\":{\"value\":\"#1f77b4\"},\"left\":{\"field\":\"left\"},\"line_alpha\":{\"value\":0.1},\"line_color\":{\"value\":\"#1f77b4\"},\"right\":{\"field\":\"right\"},\"top\":{\"field\":\"top\"}},\"id\":\"1279\",\"type\":\"Quad\"},{\"attributes\":{},\"id\":\"1314\",\"type\":\"Selection\"},{\"attributes\":{},\"id\":\"1269\",\"type\":\"HelpTool\"},{\"attributes\":{\"ticker\":{\"id\":\"1255\",\"type\":\"BasicTicker\"}},\"id\":\"1258\",\"type\":\"Grid\"},{\"attributes\":{},\"id\":\"1250\",\"type\":\"LinearScale\"},{\"attributes\":{},\"id\":\"1285\",\"type\":\"BasicTickFormatter\"},{\"attributes\":{\"items\":[{\"id\":\"1289\",\"type\":\"LegendItem\"}]},\"id\":\"1288\",\"type\":\"Legend\"},{\"attributes\":{},\"id\":\"1260\",\"type\":\"BasicTicker\"},{\"attributes\":{\"callback\":null},\"id\":\"1248\",\"type\":\"DataRange1d\"}],\"root_ids\":[\"1244\"]},\"title\":\"Bokeh Application\",\"version\":\"1.2.0\"}};\n",
       "  var render_items = [{\"docid\":\"9d128d49-1374-47b7-a194-f32a087a5f68\",\"roots\":{\"1244\":\"e3377a75-e192-4bc5-bc54-80551cb00a2b\"}}];\n",
       "  root.Bokeh.embed.embed_items_notebook(docs_json, render_items);\n",
       "\n",
       "  }\n",
       "  if (root.Bokeh !== undefined) {\n",
       "    embed_document(root);\n",
       "  } else {\n",
       "    var attempts = 0;\n",
       "    var timer = setInterval(function(root) {\n",
       "      if (root.Bokeh !== undefined) {\n",
       "        embed_document(root);\n",
       "        clearInterval(timer);\n",
       "      }\n",
       "      attempts++;\n",
       "      if (attempts > 100) {\n",
       "        console.log(\"Bokeh: ERROR: Unable to run BokehJS code because BokehJS library is missing\");\n",
       "        clearInterval(timer);\n",
       "      }\n",
       "    }, 10, root)\n",
       "  }\n",
       "})(window);"
      ],
      "application/vnd.bokehjs_exec.v0+json": ""
     },
     "metadata": {
      "application/vnd.bokehjs_exec.v0+json": {
       "id": "1244"
      }
     },
     "output_type": "display_data"
    }
   ],
   "source": [
    "p = hl.plot.histogram(mt.sample_qc.dp_stats.mean, range=(0,100), legend='Mean DP per sample histogram')\n",
    "show(p)"
   ]
  },
  {
   "cell_type": "markdown",
   "metadata": {},
   "source": [
    "### Call rate"
   ]
  },
  {
   "cell_type": "code",
   "execution_count": 23,
   "metadata": {},
   "outputs": [
    {
     "data": {
      "text/html": [
       "\n",
       "\n",
       "\n",
       "\n",
       "\n",
       "\n",
       "  <div class=\"bk-root\" id=\"bcf355b6-a05e-4b82-87c2-dba5f2224494\" data-root-id=\"2634\"></div>\n"
      ]
     },
     "metadata": {},
     "output_type": "display_data"
    },
    {
     "data": {
      "application/javascript": [
       "(function(root) {\n",
       "  function embed_document(root) {\n",
       "    \n",
       "  var docs_json = {\"22d0c358-5722-4a66-9776-3bb68dd5cc93\":{\"roots\":{\"references\":[{\"attributes\":{\"background_fill_color\":{\"value\":\"#EEEEEE\"},\"below\":[{\"id\":\"2644\",\"type\":\"LinearAxis\"}],\"center\":[{\"id\":\"2648\",\"type\":\"Grid\"},{\"id\":\"2653\",\"type\":\"Grid\"},{\"id\":\"2678\",\"type\":\"Legend\"}],\"left\":[{\"id\":\"2649\",\"type\":\"LinearAxis\"}],\"renderers\":[{\"id\":\"2670\",\"type\":\"GlyphRenderer\"}],\"title\":null,\"toolbar\":{\"id\":\"2660\",\"type\":\"Toolbar\"},\"x_range\":{\"id\":\"2636\",\"type\":\"Range1d\"},\"x_scale\":{\"id\":\"2640\",\"type\":\"LinearScale\"},\"y_range\":{\"id\":\"2638\",\"type\":\"DataRange1d\"},\"y_scale\":{\"id\":\"2642\",\"type\":\"LinearScale\"}},\"id\":\"2634\",\"subtype\":\"Figure\",\"type\":\"Plot\"},{\"attributes\":{},\"id\":\"2640\",\"type\":\"LinearScale\"},{\"attributes\":{},\"id\":\"2657\",\"type\":\"SaveTool\"},{\"attributes\":{\"label\":{\"value\":\"Call Rate\"},\"renderers\":[{\"id\":\"2670\",\"type\":\"GlyphRenderer\"}]},\"id\":\"2679\",\"type\":\"LegendItem\"},{\"attributes\":{},\"id\":\"2650\",\"type\":\"BasicTicker\"},{\"attributes\":{\"overlay\":{\"id\":\"2677\",\"type\":\"BoxAnnotation\"}},\"id\":\"2656\",\"type\":\"BoxZoomTool\"},{\"attributes\":{},\"id\":\"2658\",\"type\":\"ResetTool\"},{\"attributes\":{\"active_drag\":\"auto\",\"active_inspect\":\"auto\",\"active_multi\":null,\"active_scroll\":\"auto\",\"active_tap\":\"auto\",\"tools\":[{\"id\":\"2654\",\"type\":\"PanTool\"},{\"id\":\"2655\",\"type\":\"WheelZoomTool\"},{\"id\":\"2656\",\"type\":\"BoxZoomTool\"},{\"id\":\"2657\",\"type\":\"SaveTool\"},{\"id\":\"2658\",\"type\":\"ResetTool\"},{\"id\":\"2659\",\"type\":\"HelpTool\"}]},\"id\":\"2660\",\"type\":\"Toolbar\"},{\"attributes\":{},\"id\":\"2654\",\"type\":\"PanTool\"},{\"attributes\":{},\"id\":\"2642\",\"type\":\"LinearScale\"},{\"attributes\":{\"dimension\":1,\"ticker\":{\"id\":\"2650\",\"type\":\"BasicTicker\"}},\"id\":\"2653\",\"type\":\"Grid\"},{\"attributes\":{},\"id\":\"2673\",\"type\":\"BasicTickFormatter\"},{\"attributes\":{\"source\":{\"id\":\"2667\",\"type\":\"ColumnDataSource\"}},\"id\":\"2671\",\"type\":\"CDSView\"},{\"attributes\":{},\"id\":\"2779\",\"type\":\"UnionRenderers\"},{\"attributes\":{},\"id\":\"2675\",\"type\":\"BasicTickFormatter\"},{\"attributes\":{\"bottom_units\":\"screen\",\"fill_alpha\":{\"value\":0.5},\"fill_color\":{\"value\":\"lightgrey\"},\"left_units\":\"screen\",\"level\":\"overlay\",\"line_alpha\":{\"value\":1.0},\"line_color\":{\"value\":\"black\"},\"line_dash\":[4,4],\"line_width\":{\"value\":2},\"render_mode\":\"css\",\"right_units\":\"screen\",\"top_units\":\"screen\"},\"id\":\"2677\",\"type\":\"BoxAnnotation\"},{\"attributes\":{\"callback\":null,\"data\":{\"left\":[0.9998,0.999804,0.999808,0.999812,0.999816,0.99982,0.999824,0.999828,0.999832,0.9998360000000001,0.9998400000000001,0.9998440000000001,0.9998480000000001,0.999852,0.999856,0.99986,0.999864,0.999868,0.999872,0.999876,0.99988,0.999884,0.999888,0.999892,0.999896,0.9999,0.999904,0.999908,0.999912,0.999916,0.99992,0.999924,0.999928,0.999932,0.999936,0.99994,0.999944,0.9999480000000001,0.999952,0.999956,0.99996,0.999964,0.999968,0.999972,0.999976,0.99998,0.999984,0.999988,0.999992,0.999996],\"right\":[0.999804,0.999808,0.999812,0.999816,0.99982,0.999824,0.999828,0.999832,0.9998360000000001,0.9998400000000001,0.9998440000000001,0.9998480000000001,0.999852,0.999856,0.99986,0.999864,0.999868,0.999872,0.999876,0.99988,0.999884,0.999888,0.999892,0.999896,0.9999,0.999904,0.999908,0.999912,0.999916,0.99992,0.999924,0.999928,0.999932,0.999936,0.99994,0.999944,0.9999480000000001,0.999952,0.999956,0.99996,0.999964,0.999968,0.999972,0.999976,0.99998,0.999984,0.999988,0.999992,0.999996,1.0],\"top\":[0,0,0,0,0,0,0,0,0,0,0,2,1,1,1,0,0,0,0,2,2,1,3,2,0,1,2,4,3,1,0,1,0,3,2,0,3,3,3,3,2,0,1,1,0,0,0,0,0,0]},\"selected\":{\"id\":\"2778\",\"type\":\"Selection\"},\"selection_policy\":{\"id\":\"2779\",\"type\":\"UnionRenderers\"}},\"id\":\"2667\",\"type\":\"ColumnDataSource\"},{\"attributes\":{\"items\":[{\"id\":\"2679\",\"type\":\"LegendItem\"}]},\"id\":\"2678\",\"type\":\"Legend\"},{\"attributes\":{\"data_source\":{\"id\":\"2667\",\"type\":\"ColumnDataSource\"},\"glyph\":{\"id\":\"2668\",\"type\":\"Quad\"},\"hover_glyph\":null,\"muted_glyph\":null,\"nonselection_glyph\":{\"id\":\"2669\",\"type\":\"Quad\"},\"selection_glyph\":null,\"view\":{\"id\":\"2671\",\"type\":\"CDSView\"}},\"id\":\"2670\",\"type\":\"GlyphRenderer\"},{\"attributes\":{\"bottom\":{\"value\":0},\"fill_color\":{\"value\":\"#1f77b4\"},\"left\":{\"field\":\"left\"},\"right\":{\"field\":\"right\"},\"top\":{\"field\":\"top\"}},\"id\":\"2668\",\"type\":\"Quad\"},{\"attributes\":{\"bottom\":{\"value\":0},\"fill_alpha\":{\"value\":0.1},\"fill_color\":{\"value\":\"#1f77b4\"},\"left\":{\"field\":\"left\"},\"line_alpha\":{\"value\":0.1},\"line_color\":{\"value\":\"#1f77b4\"},\"right\":{\"field\":\"right\"},\"top\":{\"field\":\"top\"}},\"id\":\"2669\",\"type\":\"Quad\"},{\"attributes\":{},\"id\":\"2778\",\"type\":\"Selection\"},{\"attributes\":{\"axis_label\":\"Frequency\",\"formatter\":{\"id\":\"2673\",\"type\":\"BasicTickFormatter\"},\"ticker\":{\"id\":\"2650\",\"type\":\"BasicTicker\"}},\"id\":\"2649\",\"type\":\"LinearAxis\"},{\"attributes\":{},\"id\":\"2655\",\"type\":\"WheelZoomTool\"},{\"attributes\":{\"axis_label\":\"Call Rate\",\"formatter\":{\"id\":\"2675\",\"type\":\"BasicTickFormatter\"},\"ticker\":{\"id\":\"2645\",\"type\":\"BasicTicker\"}},\"id\":\"2644\",\"type\":\"LinearAxis\"},{\"attributes\":{},\"id\":\"2645\",\"type\":\"BasicTicker\"},{\"attributes\":{\"callback\":null},\"id\":\"2638\",\"type\":\"DataRange1d\"},{\"attributes\":{},\"id\":\"2659\",\"type\":\"HelpTool\"},{\"attributes\":{\"ticker\":{\"id\":\"2645\",\"type\":\"BasicTicker\"}},\"id\":\"2648\",\"type\":\"Grid\"},{\"attributes\":{\"callback\":null,\"end\":1.00001,\"start\":0.9997900000000001},\"id\":\"2636\",\"type\":\"Range1d\"}],\"root_ids\":[\"2634\"]},\"title\":\"Bokeh Application\",\"version\":\"1.2.0\"}};\n",
       "  var render_items = [{\"docid\":\"22d0c358-5722-4a66-9776-3bb68dd5cc93\",\"roots\":{\"2634\":\"bcf355b6-a05e-4b82-87c2-dba5f2224494\"}}];\n",
       "  root.Bokeh.embed.embed_items_notebook(docs_json, render_items);\n",
       "\n",
       "  }\n",
       "  if (root.Bokeh !== undefined) {\n",
       "    embed_document(root);\n",
       "  } else {\n",
       "    var attempts = 0;\n",
       "    var timer = setInterval(function(root) {\n",
       "      if (root.Bokeh !== undefined) {\n",
       "        embed_document(root);\n",
       "        clearInterval(timer);\n",
       "      }\n",
       "      attempts++;\n",
       "      if (attempts > 100) {\n",
       "        console.log(\"Bokeh: ERROR: Unable to run BokehJS code because BokehJS library is missing\");\n",
       "        clearInterval(timer);\n",
       "      }\n",
       "    }, 10, root)\n",
       "  }\n",
       "})(window);"
      ],
      "application/vnd.bokehjs_exec.v0+json": ""
     },
     "metadata": {
      "application/vnd.bokehjs_exec.v0+json": {
       "id": "2634"
      }
     },
     "output_type": "display_data"
    }
   ],
   "source": [
    "p = hl.plot.histogram(mt.sample_qc.call_rate, range=(0.9998,1), legend='Call Rate')\n",
    "show(p)"
   ]
  },
  {
   "cell_type": "markdown",
   "metadata": {},
   "source": [
    "### Genotype quality"
   ]
  },
  {
   "cell_type": "code",
   "execution_count": 13,
   "metadata": {},
   "outputs": [
    {
     "data": {
      "text/html": [
       "\n",
       "\n",
       "\n",
       "\n",
       "\n",
       "\n",
       "  <div class=\"bk-root\" id=\"154ece7b-caa8-45fa-a584-39e1ee90bde4\" data-root-id=\"1492\"></div>\n"
      ]
     },
     "metadata": {},
     "output_type": "display_data"
    },
    {
     "data": {
      "application/javascript": [
       "(function(root) {\n",
       "  function embed_document(root) {\n",
       "    \n",
       "  var docs_json = {\"89e5db77-fdb6-49fb-9989-a9c58462772f\":{\"roots\":{\"references\":[{\"attributes\":{\"background_fill_color\":{\"value\":\"#EEEEEE\"},\"below\":[{\"id\":\"1502\",\"type\":\"LinearAxis\"}],\"center\":[{\"id\":\"1506\",\"type\":\"Grid\"},{\"id\":\"1511\",\"type\":\"Grid\"},{\"id\":\"1536\",\"type\":\"Legend\"}],\"left\":[{\"id\":\"1507\",\"type\":\"LinearAxis\"}],\"renderers\":[{\"id\":\"1528\",\"type\":\"GlyphRenderer\"}],\"title\":null,\"toolbar\":{\"id\":\"1518\",\"type\":\"Toolbar\"},\"x_range\":{\"id\":\"1494\",\"type\":\"Range1d\"},\"x_scale\":{\"id\":\"1498\",\"type\":\"LinearScale\"},\"y_range\":{\"id\":\"1496\",\"type\":\"DataRange1d\"},\"y_scale\":{\"id\":\"1500\",\"type\":\"LinearScale\"}},\"id\":\"1492\",\"subtype\":\"Figure\",\"type\":\"Plot\"},{\"attributes\":{},\"id\":\"1512\",\"type\":\"PanTool\"},{\"attributes\":{},\"id\":\"1533\",\"type\":\"BasicTickFormatter\"},{\"attributes\":{\"bottom\":{\"value\":0},\"fill_alpha\":{\"value\":0.1},\"fill_color\":{\"value\":\"#1f77b4\"},\"left\":{\"field\":\"left\"},\"line_alpha\":{\"value\":0.1},\"line_color\":{\"value\":\"#1f77b4\"},\"right\":{\"field\":\"right\"},\"top\":{\"field\":\"top\"}},\"id\":\"1527\",\"type\":\"Quad\"},{\"attributes\":{\"axis_label\":\"Frequency\",\"formatter\":{\"id\":\"1531\",\"type\":\"BasicTickFormatter\"},\"ticker\":{\"id\":\"1508\",\"type\":\"BasicTicker\"}},\"id\":\"1507\",\"type\":\"LinearAxis\"},{\"attributes\":{},\"id\":\"1531\",\"type\":\"BasicTickFormatter\"},{\"attributes\":{\"source\":{\"id\":\"1525\",\"type\":\"ColumnDataSource\"}},\"id\":\"1529\",\"type\":\"CDSView\"},{\"attributes\":{\"ticker\":{\"id\":\"1503\",\"type\":\"BasicTicker\"}},\"id\":\"1506\",\"type\":\"Grid\"},{\"attributes\":{},\"id\":\"1578\",\"type\":\"Selection\"},{\"attributes\":{\"overlay\":{\"id\":\"1535\",\"type\":\"BoxAnnotation\"}},\"id\":\"1514\",\"type\":\"BoxZoomTool\"},{\"attributes\":{\"bottom\":{\"value\":0},\"fill_color\":{\"value\":\"#1f77b4\"},\"left\":{\"field\":\"left\"},\"right\":{\"field\":\"right\"},\"top\":{\"field\":\"top\"}},\"id\":\"1526\",\"type\":\"Quad\"},{\"attributes\":{\"callback\":null},\"id\":\"1496\",\"type\":\"DataRange1d\"},{\"attributes\":{\"label\":{\"value\":\"Mean Sample GQ\"},\"renderers\":[{\"id\":\"1528\",\"type\":\"GlyphRenderer\"}]},\"id\":\"1537\",\"type\":\"LegendItem\"},{\"attributes\":{\"items\":[{\"id\":\"1537\",\"type\":\"LegendItem\"}]},\"id\":\"1536\",\"type\":\"Legend\"},{\"attributes\":{\"callback\":null,\"data\":{\"left\":[10.0,11.8,13.6,15.4,17.2,19.0,20.8,22.6,24.4,26.2,28.0,29.8,31.6,33.400000000000006,35.2,37.0,38.8,40.6,42.4,44.2,46.0,47.800000000000004,49.6,51.4,53.2,55.0,56.800000000000004,58.6,60.4,62.2,64.0,65.80000000000001,67.6,69.4,71.2,73.0,74.8,76.60000000000001,78.4,80.2,82.0,83.8,85.60000000000001,87.4,89.2,91.0,92.8,94.60000000000001,96.4,98.2],\"right\":[11.8,13.6,15.4,17.2,19.0,20.8,22.6,24.4,26.2,28.0,29.8,31.6,33.400000000000006,35.2,37.0,38.8,40.6,42.4,44.2,46.0,47.800000000000004,49.6,51.4,53.2,55.0,56.800000000000004,58.6,60.4,62.2,64.0,65.80000000000001,67.6,69.4,71.2,73.0,74.8,76.60000000000001,78.4,80.2,82.0,83.8,85.60000000000001,87.4,89.2,91.0,92.8,94.60000000000001,96.4,98.2,100.0],\"top\":[0,0,0,0,0,0,0,1,0,0,0,0,0,1,0,1,0,1,0,1,1,0,1,1,3,4,2,1,8,2,4,7,3,3,1,0,2,0,0,0,0,0,0,0,0,0,0,0,0,0]},\"selected\":{\"id\":\"1578\",\"type\":\"Selection\"},\"selection_policy\":{\"id\":\"1579\",\"type\":\"UnionRenderers\"}},\"id\":\"1525\",\"type\":\"ColumnDataSource\"},{\"attributes\":{\"callback\":null,\"end\":104.5,\"start\":5.5},\"id\":\"1494\",\"type\":\"Range1d\"},{\"attributes\":{},\"id\":\"1500\",\"type\":\"LinearScale\"},{\"attributes\":{},\"id\":\"1508\",\"type\":\"BasicTicker\"},{\"attributes\":{},\"id\":\"1579\",\"type\":\"UnionRenderers\"},{\"attributes\":{\"axis_label\":\"Mean Sample GQ\",\"formatter\":{\"id\":\"1533\",\"type\":\"BasicTickFormatter\"},\"ticker\":{\"id\":\"1503\",\"type\":\"BasicTicker\"}},\"id\":\"1502\",\"type\":\"LinearAxis\"},{\"attributes\":{},\"id\":\"1515\",\"type\":\"SaveTool\"},{\"attributes\":{\"data_source\":{\"id\":\"1525\",\"type\":\"ColumnDataSource\"},\"glyph\":{\"id\":\"1526\",\"type\":\"Quad\"},\"hover_glyph\":null,\"muted_glyph\":null,\"nonselection_glyph\":{\"id\":\"1527\",\"type\":\"Quad\"},\"selection_glyph\":null,\"view\":{\"id\":\"1529\",\"type\":\"CDSView\"}},\"id\":\"1528\",\"type\":\"GlyphRenderer\"},{\"attributes\":{},\"id\":\"1498\",\"type\":\"LinearScale\"},{\"attributes\":{\"active_drag\":\"auto\",\"active_inspect\":\"auto\",\"active_multi\":null,\"active_scroll\":\"auto\",\"active_tap\":\"auto\",\"tools\":[{\"id\":\"1512\",\"type\":\"PanTool\"},{\"id\":\"1513\",\"type\":\"WheelZoomTool\"},{\"id\":\"1514\",\"type\":\"BoxZoomTool\"},{\"id\":\"1515\",\"type\":\"SaveTool\"},{\"id\":\"1516\",\"type\":\"ResetTool\"},{\"id\":\"1517\",\"type\":\"HelpTool\"}]},\"id\":\"1518\",\"type\":\"Toolbar\"},{\"attributes\":{\"dimension\":1,\"ticker\":{\"id\":\"1508\",\"type\":\"BasicTicker\"}},\"id\":\"1511\",\"type\":\"Grid\"},{\"attributes\":{},\"id\":\"1503\",\"type\":\"BasicTicker\"},{\"attributes\":{},\"id\":\"1513\",\"type\":\"WheelZoomTool\"},{\"attributes\":{\"bottom_units\":\"screen\",\"fill_alpha\":{\"value\":0.5},\"fill_color\":{\"value\":\"lightgrey\"},\"left_units\":\"screen\",\"level\":\"overlay\",\"line_alpha\":{\"value\":1.0},\"line_color\":{\"value\":\"black\"},\"line_dash\":[4,4],\"line_width\":{\"value\":2},\"render_mode\":\"css\",\"right_units\":\"screen\",\"top_units\":\"screen\"},\"id\":\"1535\",\"type\":\"BoxAnnotation\"},{\"attributes\":{},\"id\":\"1517\",\"type\":\"HelpTool\"},{\"attributes\":{},\"id\":\"1516\",\"type\":\"ResetTool\"}],\"root_ids\":[\"1492\"]},\"title\":\"Bokeh Application\",\"version\":\"1.2.0\"}};\n",
       "  var render_items = [{\"docid\":\"89e5db77-fdb6-49fb-9989-a9c58462772f\",\"roots\":{\"1492\":\"154ece7b-caa8-45fa-a584-39e1ee90bde4\"}}];\n",
       "  root.Bokeh.embed.embed_items_notebook(docs_json, render_items);\n",
       "\n",
       "  }\n",
       "  if (root.Bokeh !== undefined) {\n",
       "    embed_document(root);\n",
       "  } else {\n",
       "    var attempts = 0;\n",
       "    var timer = setInterval(function(root) {\n",
       "      if (root.Bokeh !== undefined) {\n",
       "        embed_document(root);\n",
       "        clearInterval(timer);\n",
       "      }\n",
       "      attempts++;\n",
       "      if (attempts > 100) {\n",
       "        console.log(\"Bokeh: ERROR: Unable to run BokehJS code because BokehJS library is missing\");\n",
       "        clearInterval(timer);\n",
       "      }\n",
       "    }, 10, root)\n",
       "  }\n",
       "})(window);"
      ],
      "application/vnd.bokehjs_exec.v0+json": ""
     },
     "metadata": {
      "application/vnd.bokehjs_exec.v0+json": {
       "id": "1492"
      }
     },
     "output_type": "display_data"
    }
   ],
   "source": [
    "p = hl.plot.histogram(mt.sample_qc.gq_stats.mean, range=(10,100), legend='Mean Sample GQ')\n",
    "show(p)"
   ]
  },
  {
   "cell_type": "markdown",
   "metadata": {},
   "source": [
    "### Het/hom rate"
   ]
  },
  {
   "cell_type": "code",
   "execution_count": 14,
   "metadata": {},
   "outputs": [
    {
     "data": {
      "text/html": [
       "\n",
       "\n",
       "\n",
       "\n",
       "\n",
       "\n",
       "  <div class=\"bk-root\" id=\"fda26fd7-62e2-43e0-a2c8-6fcd26aaa5a5\" data-root-id=\"1628\"></div>\n"
      ]
     },
     "metadata": {},
     "output_type": "display_data"
    },
    {
     "data": {
      "application/javascript": [
       "(function(root) {\n",
       "  function embed_document(root) {\n",
       "    \n",
       "  var docs_json = {\"e98c059f-fa56-4565-8038-dd0eb221659e\":{\"roots\":{\"references\":[{\"attributes\":{\"background_fill_color\":{\"value\":\"#EEEEEE\"},\"below\":[{\"id\":\"1638\",\"type\":\"LinearAxis\"}],\"center\":[{\"id\":\"1642\",\"type\":\"Grid\"},{\"id\":\"1647\",\"type\":\"Grid\"},{\"id\":\"1672\",\"type\":\"Legend\"}],\"left\":[{\"id\":\"1643\",\"type\":\"LinearAxis\"}],\"renderers\":[{\"id\":\"1664\",\"type\":\"GlyphRenderer\"}],\"title\":null,\"toolbar\":{\"id\":\"1654\",\"type\":\"Toolbar\"},\"x_range\":{\"id\":\"1630\",\"type\":\"Range1d\"},\"x_scale\":{\"id\":\"1634\",\"type\":\"LinearScale\"},\"y_range\":{\"id\":\"1632\",\"type\":\"DataRange1d\"},\"y_scale\":{\"id\":\"1636\",\"type\":\"LinearScale\"}},\"id\":\"1628\",\"subtype\":\"Figure\",\"type\":\"Plot\"},{\"attributes\":{},\"id\":\"1722\",\"type\":\"Selection\"},{\"attributes\":{},\"id\":\"1648\",\"type\":\"PanTool\"},{\"attributes\":{\"callback\":null,\"end\":2.6,\"start\":0.4},\"id\":\"1630\",\"type\":\"Range1d\"},{\"attributes\":{},\"id\":\"1653\",\"type\":\"HelpTool\"},{\"attributes\":{\"overlay\":{\"id\":\"1671\",\"type\":\"BoxAnnotation\"}},\"id\":\"1650\",\"type\":\"BoxZoomTool\"},{\"attributes\":{\"items\":[{\"id\":\"1673\",\"type\":\"LegendItem\"}]},\"id\":\"1672\",\"type\":\"Legend\"},{\"attributes\":{\"data_source\":{\"id\":\"1661\",\"type\":\"ColumnDataSource\"},\"glyph\":{\"id\":\"1662\",\"type\":\"Quad\"},\"hover_glyph\":null,\"muted_glyph\":null,\"nonselection_glyph\":{\"id\":\"1663\",\"type\":\"Quad\"},\"selection_glyph\":null,\"view\":{\"id\":\"1665\",\"type\":\"CDSView\"}},\"id\":\"1664\",\"type\":\"GlyphRenderer\"},{\"attributes\":{},\"id\":\"1669\",\"type\":\"BasicTickFormatter\"},{\"attributes\":{\"label\":{\"value\":\"Het/hom rate\"},\"renderers\":[{\"id\":\"1664\",\"type\":\"GlyphRenderer\"}]},\"id\":\"1673\",\"type\":\"LegendItem\"},{\"attributes\":{\"bottom\":{\"value\":0},\"fill_color\":{\"value\":\"#1f77b4\"},\"left\":{\"field\":\"left\"},\"right\":{\"field\":\"right\"},\"top\":{\"field\":\"top\"}},\"id\":\"1662\",\"type\":\"Quad\"},{\"attributes\":{\"callback\":null},\"id\":\"1632\",\"type\":\"DataRange1d\"},{\"attributes\":{\"bottom\":{\"value\":0},\"fill_alpha\":{\"value\":0.1},\"fill_color\":{\"value\":\"#1f77b4\"},\"left\":{\"field\":\"left\"},\"line_alpha\":{\"value\":0.1},\"line_color\":{\"value\":\"#1f77b4\"},\"right\":{\"field\":\"right\"},\"top\":{\"field\":\"top\"}},\"id\":\"1663\",\"type\":\"Quad\"},{\"attributes\":{\"axis_label\":\"Frequency\",\"formatter\":{\"id\":\"1667\",\"type\":\"BasicTickFormatter\"},\"ticker\":{\"id\":\"1644\",\"type\":\"BasicTicker\"}},\"id\":\"1643\",\"type\":\"LinearAxis\"},{\"attributes\":{\"dimension\":1,\"ticker\":{\"id\":\"1644\",\"type\":\"BasicTicker\"}},\"id\":\"1647\",\"type\":\"Grid\"},{\"attributes\":{},\"id\":\"1634\",\"type\":\"LinearScale\"},{\"attributes\":{},\"id\":\"1652\",\"type\":\"ResetTool\"},{\"attributes\":{},\"id\":\"1667\",\"type\":\"BasicTickFormatter\"},{\"attributes\":{},\"id\":\"1639\",\"type\":\"BasicTicker\"},{\"attributes\":{\"bottom_units\":\"screen\",\"fill_alpha\":{\"value\":0.5},\"fill_color\":{\"value\":\"lightgrey\"},\"left_units\":\"screen\",\"level\":\"overlay\",\"line_alpha\":{\"value\":1.0},\"line_color\":{\"value\":\"black\"},\"line_dash\":[4,4],\"line_width\":{\"value\":2},\"render_mode\":\"css\",\"right_units\":\"screen\",\"top_units\":\"screen\"},\"id\":\"1671\",\"type\":\"BoxAnnotation\"},{\"attributes\":{\"ticker\":{\"id\":\"1639\",\"type\":\"BasicTicker\"}},\"id\":\"1642\",\"type\":\"Grid\"},{\"attributes\":{\"axis_label\":\"Het/hom rate\",\"formatter\":{\"id\":\"1669\",\"type\":\"BasicTickFormatter\"},\"ticker\":{\"id\":\"1639\",\"type\":\"BasicTicker\"}},\"id\":\"1638\",\"type\":\"LinearAxis\"},{\"attributes\":{},\"id\":\"1636\",\"type\":\"LinearScale\"},{\"attributes\":{},\"id\":\"1649\",\"type\":\"WheelZoomTool\"},{\"attributes\":{},\"id\":\"1651\",\"type\":\"SaveTool\"},{\"attributes\":{\"callback\":null,\"data\":{\"left\":[0.5,0.54,0.58,0.62,0.66,0.7,0.74,0.78,0.8200000000000001,0.86,0.9,0.94,0.98,1.02,1.06,1.1,1.1400000000000001,1.1800000000000002,1.22,1.26,1.3,1.3399999999999999,1.38,1.42,1.46,1.5,1.54,1.58,1.62,1.66,1.7,1.74,1.78,1.82,1.86,1.9000000000000001,1.94,1.98,2.02,2.06,2.1,2.14,2.1799999999999997,2.2199999999999998,2.26,2.3,2.34,2.38,2.42,2.46],\"right\":[0.54,0.58,0.62,0.66,0.7,0.74,0.78,0.8200000000000001,0.86,0.9,0.94,0.98,1.02,1.06,1.1,1.1400000000000001,1.1800000000000002,1.22,1.26,1.3,1.3399999999999999,1.38,1.42,1.46,1.5,1.54,1.58,1.62,1.66,1.7,1.74,1.78,1.82,1.86,1.9000000000000001,1.94,1.98,2.02,2.06,2.1,2.14,2.1799999999999997,2.2199999999999998,2.26,2.3,2.34,2.38,2.42,2.46,2.5],\"top\":[0,0,0,0,0,0,0,0,0,0,0,0,0,0,0,0,0,0,0,0,0,0,0,0,1,0,1,0,0,0,0,1,2,1,1,3,4,7,5,3,7,4,2,2,0,1,1,2,0,0]},\"selected\":{\"id\":\"1722\",\"type\":\"Selection\"},\"selection_policy\":{\"id\":\"1723\",\"type\":\"UnionRenderers\"}},\"id\":\"1661\",\"type\":\"ColumnDataSource\"},{\"attributes\":{},\"id\":\"1723\",\"type\":\"UnionRenderers\"},{\"attributes\":{\"source\":{\"id\":\"1661\",\"type\":\"ColumnDataSource\"}},\"id\":\"1665\",\"type\":\"CDSView\"},{\"attributes\":{},\"id\":\"1644\",\"type\":\"BasicTicker\"},{\"attributes\":{\"active_drag\":\"auto\",\"active_inspect\":\"auto\",\"active_multi\":null,\"active_scroll\":\"auto\",\"active_tap\":\"auto\",\"tools\":[{\"id\":\"1648\",\"type\":\"PanTool\"},{\"id\":\"1649\",\"type\":\"WheelZoomTool\"},{\"id\":\"1650\",\"type\":\"BoxZoomTool\"},{\"id\":\"1651\",\"type\":\"SaveTool\"},{\"id\":\"1652\",\"type\":\"ResetTool\"},{\"id\":\"1653\",\"type\":\"HelpTool\"}]},\"id\":\"1654\",\"type\":\"Toolbar\"}],\"root_ids\":[\"1628\"]},\"title\":\"Bokeh Application\",\"version\":\"1.2.0\"}};\n",
       "  var render_items = [{\"docid\":\"e98c059f-fa56-4565-8038-dd0eb221659e\",\"roots\":{\"1628\":\"fda26fd7-62e2-43e0-a2c8-6fcd26aaa5a5\"}}];\n",
       "  root.Bokeh.embed.embed_items_notebook(docs_json, render_items);\n",
       "\n",
       "  }\n",
       "  if (root.Bokeh !== undefined) {\n",
       "    embed_document(root);\n",
       "  } else {\n",
       "    var attempts = 0;\n",
       "    var timer = setInterval(function(root) {\n",
       "      if (root.Bokeh !== undefined) {\n",
       "        embed_document(root);\n",
       "        clearInterval(timer);\n",
       "      }\n",
       "      attempts++;\n",
       "      if (attempts > 100) {\n",
       "        console.log(\"Bokeh: ERROR: Unable to run BokehJS code because BokehJS library is missing\");\n",
       "        clearInterval(timer);\n",
       "      }\n",
       "    }, 10, root)\n",
       "  }\n",
       "})(window);"
      ],
      "application/vnd.bokehjs_exec.v0+json": ""
     },
     "metadata": {
      "application/vnd.bokehjs_exec.v0+json": {
       "id": "1628"
      }
     },
     "output_type": "display_data"
    }
   ],
   "source": [
    "p = hl.plot.histogram(mt.sample_qc.r_het_hom_var, range=(0.5,2.5), legend='Het/hom rate')\n",
    "show(p)"
   ]
  },
  {
   "cell_type": "markdown",
   "metadata": {},
   "source": [
    "### DP-call rate scatter"
   ]
  },
  {
   "cell_type": "code",
   "execution_count": 15,
   "metadata": {},
   "outputs": [
    {
     "data": {
      "text/html": [
       "\n",
       "\n",
       "\n",
       "\n",
       "\n",
       "\n",
       "  <div class=\"bk-root\" id=\"faeb3ff4-dd3f-409f-99a1-55a094d0b3c4\" data-root-id=\"1772\"></div>\n"
      ]
     },
     "metadata": {},
     "output_type": "display_data"
    },
    {
     "data": {
      "application/javascript": [
       "(function(root) {\n",
       "  function embed_document(root) {\n",
       "    \n",
       "  var docs_json = {\"9b98caf7-24bc-4989-beaa-83759caa5152\":{\"roots\":{\"references\":[{\"attributes\":{\"below\":[{\"id\":\"1782\",\"type\":\"LinearAxis\"}],\"center\":[{\"id\":\"1786\",\"type\":\"Grid\"},{\"id\":\"1791\",\"type\":\"Grid\"}],\"left\":[{\"id\":\"1787\",\"type\":\"LinearAxis\"}],\"plot_height\":800,\"plot_width\":800,\"renderers\":[{\"id\":\"1811\",\"type\":\"GlyphRenderer\"}],\"title\":null,\"toolbar\":{\"id\":\"1798\",\"type\":\"Toolbar\"},\"x_range\":{\"id\":\"1774\",\"type\":\"DataRange1d\"},\"x_scale\":{\"id\":\"1778\",\"type\":\"LinearScale\"},\"y_range\":{\"id\":\"1776\",\"type\":\"DataRange1d\"},\"y_scale\":{\"id\":\"1780\",\"type\":\"LinearScale\"}},\"id\":\"1772\",\"subtype\":\"Figure\",\"type\":\"Plot\"},{\"attributes\":{\"data_source\":{\"id\":\"1807\",\"type\":\"ColumnDataSource\"},\"glyph\":{\"id\":\"1809\",\"type\":\"Circle\"},\"hover_glyph\":null,\"muted_glyph\":null,\"nonselection_glyph\":{\"id\":\"1810\",\"type\":\"Circle\"},\"selection_glyph\":null,\"view\":{\"id\":\"1812\",\"type\":\"CDSView\"}},\"id\":\"1811\",\"type\":\"GlyphRenderer\"},{\"attributes\":{\"callback\":null,\"tooltips\":[[\"x\",\"@x\"],[\"y\",\"@y\"]]},\"id\":\"1806\",\"type\":\"HoverTool\"},{\"attributes\":{\"callback\":null},\"id\":\"1774\",\"type\":\"DataRange1d\"},{\"attributes\":{\"ticker\":{\"id\":\"1783\",\"type\":\"BasicTicker\"}},\"id\":\"1786\",\"type\":\"Grid\"},{\"attributes\":{},\"id\":\"1788\",\"type\":\"BasicTicker\"},{\"attributes\":{},\"id\":\"1780\",\"type\":\"LinearScale\"},{\"attributes\":{\"source\":{\"id\":\"1807\",\"type\":\"ColumnDataSource\"}},\"id\":\"1812\",\"type\":\"CDSView\"},{\"attributes\":{\"callback\":null,\"data\":{\"index\":[0,1,2,3,4,5,6,7,8,9,10,11,12,13,14,15,16,17,18,19,20,21,22,23,24,25,26,27,28,29,30,31,32,33,34,35,36,37,38,39,40,41,42,43,44],\"x\":{\"__ndarray__\":\"5Mlc8rhEEEBeEDikdhcjQAp6e7ZlaSVA2y4l+sn5J0BMXk85hckrQD4FGbewqy5AN6vqrvVJMEBFS9Ig+hExQO6T/zCPgjNAd7teykH+M0DbBcYxXSc0QKRUdWAFXzRA8Dj8hufcNECme3K22U81QIRGR5cZqjVAj1peX6NtNkAhwp8zf3o2QLlncEr4mDdAXqdCG5FQOEACQWvy83A4QKZudiCtmThAi+uiK7fmOECrtnQjcG45QBTQU/E3tDlAaEN+IIz/OUBzmoZIQws6QEmZ2V18wjpAreuImULZOkCDASygAgA7QLmVPrCvSDtA80y4aKB/PEAr2UG/sJg8QMvEiLKW2jxAU1/6ToD/PEDaDyJfhmE9QFKWL0Gprz1AlMV/3FLJPUCumPFThAE+QDPQBs0uDD9A/jEpM/UnQECyterQF11AQPI8r8c5sUBAAR7nEvDbQUBxCWNnkN9DQE+HV8d/RkRA\",\"dtype\":\"float64\",\"shape\":[45]},\"y\":{\"__ndarray__\":\"gzY0Nb3+7z+DNjQ1vf7vP83EKw3G/u8/+f6EtnT/7z+EbyWvzP7vP9gbTjKu/+8/Y8XfpBX/7z/0b+xgCP/vP/Wo3doX/+8/RP9egpz/7z+NVGXglf/vPxj+9lL9/u8/OxofUdP+7z9DjXyOff/vP7Hib9KK/+8/+3BnqpP/7z+0xjS6yP/vP9VwesR//+8/IDhjFpj/7z+sU9d8Hv/vP2VwsxJE/+8/s1RSxqn/7z9j/tAeJf/vP4eM2xAa/+8/ZxuHgHL/7z+OjVZapf/vP9KMtdxB/+8/aI1pdJH/7z9B4qggT//vPxviuzo7/+8/RThQ/Kv/7z+LqZFyZ//vP/0bOxjC/+8/QKm3pj//7z/8qVgko//vPz3F8r4B/+8/HButtEr/7z9kN8KYNP/vP4pwoPhX/+8//OJJnrL/7z/SjLXcQf/vP/YawM42/+8/Pv7jOBH/7z9ojWl0kf/vPx7GgCJ5/+8/\",\"dtype\":\"float64\",\"shape\":[45]}},\"selected\":{\"id\":\"1869\",\"type\":\"Selection\"},\"selection_policy\":{\"id\":\"1870\",\"type\":\"UnionRenderers\"}},\"id\":\"1807\",\"type\":\"ColumnDataSource\"},{\"attributes\":{\"callback\":null},\"id\":\"1776\",\"type\":\"DataRange1d\"},{\"attributes\":{},\"id\":\"1869\",\"type\":\"Selection\"},{\"attributes\":{},\"id\":\"1792\",\"type\":\"PanTool\"},{\"attributes\":{},\"id\":\"1793\",\"type\":\"WheelZoomTool\"},{\"attributes\":{},\"id\":\"1796\",\"type\":\"ResetTool\"},{\"attributes\":{\"axis_label\":\"Call Rate\",\"formatter\":{\"id\":\"1864\",\"type\":\"BasicTickFormatter\"},\"ticker\":{\"id\":\"1788\",\"type\":\"BasicTicker\"}},\"id\":\"1787\",\"type\":\"LinearAxis\"},{\"attributes\":{},\"id\":\"1866\",\"type\":\"BasicTickFormatter\"},{\"attributes\":{\"fill_alpha\":{\"value\":0.1},\"fill_color\":{\"value\":\"#1f77b4\"},\"line_alpha\":{\"value\":0.1},\"line_color\":{\"value\":\"#1f77b4\"},\"x\":{\"field\":\"x\"},\"y\":{\"field\":\"y\"}},\"id\":\"1810\",\"type\":\"Circle\"},{\"attributes\":{},\"id\":\"1864\",\"type\":\"BasicTickFormatter\"},{\"attributes\":{},\"id\":\"1795\",\"type\":\"SaveTool\"},{\"attributes\":{\"axis_label\":\"Mean DP\",\"formatter\":{\"id\":\"1866\",\"type\":\"BasicTickFormatter\"},\"ticker\":{\"id\":\"1783\",\"type\":\"BasicTicker\"}},\"id\":\"1782\",\"type\":\"LinearAxis\"},{\"attributes\":{\"bottom_units\":\"screen\",\"fill_alpha\":{\"value\":0.5},\"fill_color\":{\"value\":\"lightgrey\"},\"left_units\":\"screen\",\"level\":\"overlay\",\"line_alpha\":{\"value\":1.0},\"line_color\":{\"value\":\"black\"},\"line_dash\":[4,4],\"line_width\":{\"value\":2},\"render_mode\":\"css\",\"right_units\":\"screen\",\"top_units\":\"screen\"},\"id\":\"1868\",\"type\":\"BoxAnnotation\"},{\"attributes\":{},\"id\":\"1783\",\"type\":\"BasicTicker\"},{\"attributes\":{\"fill_color\":{\"value\":\"#1f77b4\"},\"line_color\":{\"value\":\"#1f77b4\"},\"x\":{\"field\":\"x\"},\"y\":{\"field\":\"y\"}},\"id\":\"1809\",\"type\":\"Circle\"},{\"attributes\":{},\"id\":\"1870\",\"type\":\"UnionRenderers\"},{\"attributes\":{\"overlay\":{\"id\":\"1868\",\"type\":\"BoxAnnotation\"}},\"id\":\"1794\",\"type\":\"BoxZoomTool\"},{\"attributes\":{\"active_drag\":\"auto\",\"active_inspect\":\"auto\",\"active_multi\":null,\"active_scroll\":\"auto\",\"active_tap\":\"auto\",\"tools\":[{\"id\":\"1792\",\"type\":\"PanTool\"},{\"id\":\"1793\",\"type\":\"WheelZoomTool\"},{\"id\":\"1794\",\"type\":\"BoxZoomTool\"},{\"id\":\"1795\",\"type\":\"SaveTool\"},{\"id\":\"1796\",\"type\":\"ResetTool\"},{\"id\":\"1797\",\"type\":\"HelpTool\"},{\"id\":\"1806\",\"type\":\"HoverTool\"}]},\"id\":\"1798\",\"type\":\"Toolbar\"},{\"attributes\":{},\"id\":\"1778\",\"type\":\"LinearScale\"},{\"attributes\":{},\"id\":\"1797\",\"type\":\"HelpTool\"},{\"attributes\":{\"dimension\":1,\"ticker\":{\"id\":\"1788\",\"type\":\"BasicTicker\"}},\"id\":\"1791\",\"type\":\"Grid\"}],\"root_ids\":[\"1772\"]},\"title\":\"Bokeh Application\",\"version\":\"1.2.0\"}};\n",
       "  var render_items = [{\"docid\":\"9b98caf7-24bc-4989-beaa-83759caa5152\",\"roots\":{\"1772\":\"faeb3ff4-dd3f-409f-99a1-55a094d0b3c4\"}}];\n",
       "  root.Bokeh.embed.embed_items_notebook(docs_json, render_items);\n",
       "\n",
       "  }\n",
       "  if (root.Bokeh !== undefined) {\n",
       "    embed_document(root);\n",
       "  } else {\n",
       "    var attempts = 0;\n",
       "    var timer = setInterval(function(root) {\n",
       "      if (root.Bokeh !== undefined) {\n",
       "        embed_document(root);\n",
       "        clearInterval(timer);\n",
       "      }\n",
       "      attempts++;\n",
       "      if (attempts > 100) {\n",
       "        console.log(\"Bokeh: ERROR: Unable to run BokehJS code because BokehJS library is missing\");\n",
       "        clearInterval(timer);\n",
       "      }\n",
       "    }, 10, root)\n",
       "  }\n",
       "})(window);"
      ],
      "application/vnd.bokehjs_exec.v0+json": ""
     },
     "metadata": {
      "application/vnd.bokehjs_exec.v0+json": {
       "id": "1772"
      }
     },
     "output_type": "display_data"
    }
   ],
   "source": [
    "p = hl.plot.scatter(mt.sample_qc.dp_stats.mean, mt.sample_qc.call_rate, xlabel='Mean DP', ylabel='Call Rate')\n",
    "show(p)"
   ]
  },
  {
   "cell_type": "markdown",
   "metadata": {},
   "source": [
    "## Ti/tv rate vs het/hom rate"
   ]
  },
  {
   "cell_type": "code",
   "execution_count": 16,
   "metadata": {},
   "outputs": [
    {
     "data": {
      "text/html": [
       "\n",
       "\n",
       "\n",
       "\n",
       "\n",
       "\n",
       "  <div class=\"bk-root\" id=\"c8a23549-cc06-4174-a8de-43b886e387e5\" data-root-id=\"1919\"></div>\n"
      ]
     },
     "metadata": {},
     "output_type": "display_data"
    },
    {
     "data": {
      "application/javascript": [
       "(function(root) {\n",
       "  function embed_document(root) {\n",
       "    \n",
       "  var docs_json = {\"a2c3669c-2b15-4f7b-a0b4-c5ad48bf1272\":{\"roots\":{\"references\":[{\"attributes\":{\"below\":[{\"id\":\"1929\",\"type\":\"LinearAxis\"}],\"center\":[{\"id\":\"1933\",\"type\":\"Grid\"},{\"id\":\"1938\",\"type\":\"Grid\"}],\"left\":[{\"id\":\"1934\",\"type\":\"LinearAxis\"}],\"plot_height\":800,\"plot_width\":800,\"renderers\":[{\"id\":\"1958\",\"type\":\"GlyphRenderer\"}],\"title\":null,\"toolbar\":{\"id\":\"1945\",\"type\":\"Toolbar\"},\"x_range\":{\"id\":\"1921\",\"type\":\"DataRange1d\"},\"x_scale\":{\"id\":\"1925\",\"type\":\"LinearScale\"},\"y_range\":{\"id\":\"1923\",\"type\":\"DataRange1d\"},\"y_scale\":{\"id\":\"1927\",\"type\":\"LinearScale\"}},\"id\":\"1919\",\"subtype\":\"Figure\",\"type\":\"Plot\"},{\"attributes\":{},\"id\":\"2024\",\"type\":\"Selection\"},{\"attributes\":{\"data_source\":{\"id\":\"1954\",\"type\":\"ColumnDataSource\"},\"glyph\":{\"id\":\"1956\",\"type\":\"Circle\"},\"hover_glyph\":null,\"muted_glyph\":null,\"nonselection_glyph\":{\"id\":\"1957\",\"type\":\"Circle\"},\"selection_glyph\":null,\"view\":{\"id\":\"1959\",\"type\":\"CDSView\"}},\"id\":\"1958\",\"type\":\"GlyphRenderer\"},{\"attributes\":{},\"id\":\"2019\",\"type\":\"BasicTickFormatter\"},{\"attributes\":{\"callback\":null,\"tooltips\":[[\"x\",\"@x\"],[\"y\",\"@y\"]]},\"id\":\"1953\",\"type\":\"HoverTool\"},{\"attributes\":{\"bottom_units\":\"screen\",\"fill_alpha\":{\"value\":0.5},\"fill_color\":{\"value\":\"lightgrey\"},\"left_units\":\"screen\",\"level\":\"overlay\",\"line_alpha\":{\"value\":1.0},\"line_color\":{\"value\":\"black\"},\"line_dash\":[4,4],\"line_width\":{\"value\":2},\"render_mode\":\"css\",\"right_units\":\"screen\",\"top_units\":\"screen\"},\"id\":\"2023\",\"type\":\"BoxAnnotation\"},{\"attributes\":{},\"id\":\"1942\",\"type\":\"SaveTool\"},{\"attributes\":{\"axis_label\":\"ti/tv rate\",\"formatter\":{\"id\":\"2021\",\"type\":\"BasicTickFormatter\"},\"ticker\":{\"id\":\"1930\",\"type\":\"BasicTicker\"}},\"id\":\"1929\",\"type\":\"LinearAxis\"},{\"attributes\":{},\"id\":\"1935\",\"type\":\"BasicTicker\"},{\"attributes\":{},\"id\":\"1943\",\"type\":\"ResetTool\"},{\"attributes\":{\"callback\":null},\"id\":\"1923\",\"type\":\"DataRange1d\"},{\"attributes\":{\"overlay\":{\"id\":\"2023\",\"type\":\"BoxAnnotation\"}},\"id\":\"1941\",\"type\":\"BoxZoomTool\"},{\"attributes\":{\"active_drag\":\"auto\",\"active_inspect\":\"auto\",\"active_multi\":null,\"active_scroll\":\"auto\",\"active_tap\":\"auto\",\"tools\":[{\"id\":\"1939\",\"type\":\"PanTool\"},{\"id\":\"1940\",\"type\":\"WheelZoomTool\"},{\"id\":\"1941\",\"type\":\"BoxZoomTool\"},{\"id\":\"1942\",\"type\":\"SaveTool\"},{\"id\":\"1943\",\"type\":\"ResetTool\"},{\"id\":\"1944\",\"type\":\"HelpTool\"},{\"id\":\"1953\",\"type\":\"HoverTool\"}]},\"id\":\"1945\",\"type\":\"Toolbar\"},{\"attributes\":{},\"id\":\"2025\",\"type\":\"UnionRenderers\"},{\"attributes\":{\"axis_label\":\"het/hom rate\",\"formatter\":{\"id\":\"2019\",\"type\":\"BasicTickFormatter\"},\"ticker\":{\"id\":\"1935\",\"type\":\"BasicTicker\"}},\"id\":\"1934\",\"type\":\"LinearAxis\"},{\"attributes\":{\"callback\":null},\"id\":\"1921\",\"type\":\"DataRange1d\"},{\"attributes\":{\"fill_color\":{\"value\":\"#1f77b4\"},\"line_color\":{\"value\":\"#1f77b4\"},\"x\":{\"field\":\"x\"},\"y\":{\"field\":\"y\"}},\"id\":\"1956\",\"type\":\"Circle\"},{\"attributes\":{},\"id\":\"1944\",\"type\":\"HelpTool\"},{\"attributes\":{},\"id\":\"1927\",\"type\":\"LinearScale\"},{\"attributes\":{\"dimension\":1,\"ticker\":{\"id\":\"1935\",\"type\":\"BasicTicker\"}},\"id\":\"1938\",\"type\":\"Grid\"},{\"attributes\":{},\"id\":\"2021\",\"type\":\"BasicTickFormatter\"},{\"attributes\":{\"fill_alpha\":{\"value\":0.1},\"fill_color\":{\"value\":\"#1f77b4\"},\"line_alpha\":{\"value\":0.1},\"line_color\":{\"value\":\"#1f77b4\"},\"x\":{\"field\":\"x\"},\"y\":{\"field\":\"y\"}},\"id\":\"1957\",\"type\":\"Circle\"},{\"attributes\":{\"callback\":null,\"data\":{\"index\":[0,1,2,3,4,5,6,7,8,9,10,11,12,13,14,15,16,17,18,19,20,21,22,23,24,25,26,27,28,29,30,31,32,33,34,35,36,37,38,39,40,41,42,43,44,45,46,47],\"x\":{\"__ndarray__\":\"IxShCEUo/j9FHTKWjFz+P/7GGu8Pf/4/lVf4zdrD/j/1l5ndflv/P7FTrtMOh/8/gq0sGra2/z9/lMt4XcH/P/eeNsP04/8/jmsSyrEHAEBnapZlqwYAQJLNJmCMEABAbIOl3YcIAEB1C/J1wxkAQIT2syLFEgBAG64kXFEbAECHFxIvNioAQN9KvSv/NABAnbYlN4MuAECm8rtmXTUAQBUHr9T9PwBA9zK7Tg5DAECbVxlsr0AAQHCqNR1NSQBA98BG74pMAEB55Ihw6EgAQJBDZhqYVQBALpLAPrlhAEAd6/2GdV8AQGRmL3HLYwBAhUAZnEJtAECUwDMbbm8AQH7zPyxEcABA/WBfwDhuAEBolNo6QHwAQAhkDkeTkwBAcOz/rpugAECE2EvNNK4AQPIuwELpqgBARrN9KDGzAEB5BcNqWLYAQG6skDcewQBAASaHU67TAEAntOf+keEAQCNoOKn78gBACQ0/fDwrAUC7O+4EzW0BQOmN+ULjgAFA\",\"dtype\":\"float64\",\"shape\":[48]},\"y\":{\"__ndarray__\":\"er5DswwkA0AImSle2r8CQFEogQWdIwNAMR0MVWqJAkDj8diOs9gBQGp3Np2DzAFAvsq/oMjVAEBEDS/VqBL/P5B8NyQhTAFAuoffIN0JAECK+eKEnKgBQEi9uL0Ywv8/Crc8+R4zAUBcP/RaVpsAQPRoLOAsBgFAjQzgkDhMAEBN7i0h+doAQC5uEMg4hv8/OgRpMYT1/z/TVOPj634AQMdyRaGl5v4/MWVzy1PU/z+ot3T/av3/P++k/vNO6v8/cuVYvPbmAEAljmhifw0BQPD4wwGPPwBAuoN+kvAH/T/ZvEksyikAQIwFgZ7FBwFAGol9DcGY/j9nI+1i4u7+PxwigFh7i/8/QM87x+AjAUCdv9H7vR/+PzuLCLwmoQFAHqIroJajAEAGuDDAxrj9PyoMnpD0VgFAiVEIpVl4AEArZ12na+8AQAmis7iIGgBATiXeDhQ9AEAOO98hH+P8P4Z1TW05ff8/oCm8cl3e+z9uNt/twfD3P/koLvriRvk/\",\"dtype\":\"float64\",\"shape\":[48]}},\"selected\":{\"id\":\"2024\",\"type\":\"Selection\"},\"selection_policy\":{\"id\":\"2025\",\"type\":\"UnionRenderers\"}},\"id\":\"1954\",\"type\":\"ColumnDataSource\"},{\"attributes\":{},\"id\":\"1930\",\"type\":\"BasicTicker\"},{\"attributes\":{},\"id\":\"1925\",\"type\":\"LinearScale\"},{\"attributes\":{\"ticker\":{\"id\":\"1930\",\"type\":\"BasicTicker\"}},\"id\":\"1933\",\"type\":\"Grid\"},{\"attributes\":{},\"id\":\"1940\",\"type\":\"WheelZoomTool\"},{\"attributes\":{\"source\":{\"id\":\"1954\",\"type\":\"ColumnDataSource\"}},\"id\":\"1959\",\"type\":\"CDSView\"},{\"attributes\":{},\"id\":\"1939\",\"type\":\"PanTool\"}],\"root_ids\":[\"1919\"]},\"title\":\"Bokeh Application\",\"version\":\"1.2.0\"}};\n",
       "  var render_items = [{\"docid\":\"a2c3669c-2b15-4f7b-a0b4-c5ad48bf1272\",\"roots\":{\"1919\":\"c8a23549-cc06-4174-a8de-43b886e387e5\"}}];\n",
       "  root.Bokeh.embed.embed_items_notebook(docs_json, render_items);\n",
       "\n",
       "  }\n",
       "  if (root.Bokeh !== undefined) {\n",
       "    embed_document(root);\n",
       "  } else {\n",
       "    var attempts = 0;\n",
       "    var timer = setInterval(function(root) {\n",
       "      if (root.Bokeh !== undefined) {\n",
       "        embed_document(root);\n",
       "        clearInterval(timer);\n",
       "      }\n",
       "      attempts++;\n",
       "      if (attempts > 100) {\n",
       "        console.log(\"Bokeh: ERROR: Unable to run BokehJS code because BokehJS library is missing\");\n",
       "        clearInterval(timer);\n",
       "      }\n",
       "    }, 10, root)\n",
       "  }\n",
       "})(window);"
      ],
      "application/vnd.bokehjs_exec.v0+json": ""
     },
     "metadata": {
      "application/vnd.bokehjs_exec.v0+json": {
       "id": "1919"
      }
     },
     "output_type": "display_data"
    }
   ],
   "source": [
    "p = hl.plot.scatter(mt.sample_qc.r_ti_tv, mt.sample_qc.r_het_hom_var, xlabel='ti/tv rate', ylabel='het/hom rate')\n",
    "show(p)"
   ]
  },
  {
   "cell_type": "markdown",
   "metadata": {},
   "source": [
    "## Sites where all samples are hom.alt."
   ]
  },
  {
   "cell_type": "code",
   "execution_count": 17,
   "metadata": {},
   "outputs": [
    {
     "name": "stdout",
     "output_type": "stream",
     "text": [
      "9953\n"
     ]
    }
   ],
   "source": [
    "mt_hom_alt = mt.filter_rows(mt.variant_qc.AC[0] == 0)\n",
    "n_all_hom_alt = mt_hom_alt.count_rows()\n",
    "print(n_all_hom_alt)"
   ]
  },
  {
   "cell_type": "markdown",
   "metadata": {},
   "source": [
    "Note that there are no sites where all samples are hom.ref., because these have been filtered out."
   ]
  },
  {
   "cell_type": "code",
   "execution_count": 18,
   "metadata": {},
   "outputs": [
    {
     "name": "stdout",
     "output_type": "stream",
     "text": [
      "0\n"
     ]
    }
   ],
   "source": [
    "n_all_hom_ref = mt.filter_rows(mt.variant_qc.AC[1] == 0).count_rows()\n",
    "print(n_all_hom_ref)"
   ]
  },
  {
   "cell_type": "code",
   "execution_count": 19,
   "metadata": {},
   "outputs": [
    {
     "data": {
      "text/html": [
       "\n",
       "\n",
       "\n",
       "\n",
       "\n",
       "\n",
       "  <div class=\"bk-root\" id=\"83072d12-54ee-49d7-ab6c-233668b86f2b\" data-root-id=\"2074\"></div>\n"
      ]
     },
     "metadata": {},
     "output_type": "display_data"
    },
    {
     "data": {
      "application/javascript": [
       "(function(root) {\n",
       "  function embed_document(root) {\n",
       "    \n",
       "  var docs_json = {\"7ca79136-3229-40e6-955b-6ec10ab24e59\":{\"roots\":{\"references\":[{\"attributes\":{\"background_fill_color\":{\"value\":\"#EEEEEE\"},\"below\":[{\"id\":\"2084\",\"type\":\"LinearAxis\"}],\"center\":[{\"id\":\"2088\",\"type\":\"Grid\"},{\"id\":\"2093\",\"type\":\"Grid\"},{\"id\":\"2118\",\"type\":\"Legend\"}],\"left\":[{\"id\":\"2089\",\"type\":\"LinearAxis\"}],\"renderers\":[{\"id\":\"2110\",\"type\":\"GlyphRenderer\"},{\"id\":\"2123\",\"type\":\"GlyphRenderer\"}],\"title\":null,\"toolbar\":{\"id\":\"2100\",\"type\":\"Toolbar\"},\"x_range\":{\"id\":\"2076\",\"type\":\"Range1d\"},\"x_scale\":{\"id\":\"2080\",\"type\":\"LinearScale\"},\"y_range\":{\"id\":\"2078\",\"type\":\"DataRange1d\"},\"y_scale\":{\"id\":\"2082\",\"type\":\"LinearScale\"}},\"id\":\"2074\",\"subtype\":\"Figure\",\"type\":\"Plot\"},{\"attributes\":{},\"id\":\"2131\",\"type\":\"Selection\"},{\"attributes\":{},\"id\":\"2208\",\"type\":\"Selection\"},{\"attributes\":{},\"id\":\"2132\",\"type\":\"UnionRenderers\"},{\"attributes\":{},\"id\":\"2080\",\"type\":\"LinearScale\"},{\"attributes\":{\"callback\":null,\"end\":105.0,\"start\":-5.0},\"id\":\"2076\",\"type\":\"Range1d\"},{\"attributes\":{},\"id\":\"2115\",\"type\":\"BasicTickFormatter\"},{\"attributes\":{},\"id\":\"2090\",\"type\":\"BasicTicker\"},{\"attributes\":{\"ticker\":{\"id\":\"2085\",\"type\":\"BasicTicker\"}},\"id\":\"2088\",\"type\":\"Grid\"},{\"attributes\":{},\"id\":\"2085\",\"type\":\"BasicTicker\"},{\"attributes\":{\"bottom\":{\"value\":0},\"fill_color\":{\"value\":\"green\"},\"left\":{\"value\":100.0},\"right\":{\"value\":102.0},\"top\":{\"value\":351}},\"id\":\"2121\",\"type\":\"Quad\"},{\"attributes\":{\"data_source\":{\"id\":\"2120\",\"type\":\"ColumnDataSource\"},\"glyph\":{\"id\":\"2121\",\"type\":\"Quad\"},\"hover_glyph\":null,\"muted_glyph\":null,\"nonselection_glyph\":{\"id\":\"2122\",\"type\":\"Quad\"},\"selection_glyph\":null,\"view\":{\"id\":\"2124\",\"type\":\"CDSView\"}},\"id\":\"2123\",\"type\":\"GlyphRenderer\"},{\"attributes\":{\"callback\":null,\"data\":{\"left\":[0.0,2.0,4.0,6.0,8.0,10.0,12.0,14.0,16.0,18.0,20.0,22.0,24.0,26.0,28.0,30.0,32.0,34.0,36.0,38.0,40.0,42.0,44.0,46.0,48.0,50.0,52.0,54.0,56.0,58.0,60.0,62.0,64.0,66.0,68.0,70.0,72.0,74.0,76.0,78.0,80.0,82.0,84.0,86.0,88.0,90.0,92.0,94.0,96.0,98.0],\"right\":[2.0,4.0,6.0,8.0,10.0,12.0,14.0,16.0,18.0,20.0,22.0,24.0,26.0,28.0,30.0,32.0,34.0,36.0,38.0,40.0,42.0,44.0,46.0,48.0,50.0,52.0,54.0,56.0,58.0,60.0,62.0,64.0,66.0,68.0,70.0,72.0,74.0,76.0,78.0,80.0,82.0,84.0,86.0,88.0,90.0,92.0,94.0,96.0,98.0,100.0],\"top\":[611,579,546,558,502,527,521,462,428,359,329,351,314,290,293,252,241,224,208,192,162,152,142,122,95,102,115,78,85,58,70,70,42,55,47,52,42,34,31,31,30,27,30,25,25,15,16,21,18,23]},\"selected\":{\"id\":\"2131\",\"type\":\"Selection\"},\"selection_policy\":{\"id\":\"2132\",\"type\":\"UnionRenderers\"}},\"id\":\"2107\",\"type\":\"ColumnDataSource\"},{\"attributes\":{\"overlay\":{\"id\":\"2117\",\"type\":\"BoxAnnotation\"}},\"id\":\"2096\",\"type\":\"BoxZoomTool\"},{\"attributes\":{\"active_drag\":\"auto\",\"active_inspect\":\"auto\",\"active_multi\":null,\"active_scroll\":\"auto\",\"active_tap\":\"auto\",\"tools\":[{\"id\":\"2094\",\"type\":\"PanTool\"},{\"id\":\"2095\",\"type\":\"WheelZoomTool\"},{\"id\":\"2096\",\"type\":\"BoxZoomTool\"},{\"id\":\"2097\",\"type\":\"SaveTool\"},{\"id\":\"2098\",\"type\":\"ResetTool\"},{\"id\":\"2099\",\"type\":\"HelpTool\"}]},\"id\":\"2100\",\"type\":\"Toolbar\"},{\"attributes\":{\"axis_label\":\"Frequency\",\"formatter\":{\"id\":\"2113\",\"type\":\"BasicTickFormatter\"},\"ticker\":{\"id\":\"2090\",\"type\":\"BasicTicker\"}},\"id\":\"2089\",\"type\":\"LinearAxis\"},{\"attributes\":{\"source\":{\"id\":\"2107\",\"type\":\"ColumnDataSource\"}},\"id\":\"2111\",\"type\":\"CDSView\"},{\"attributes\":{\"source\":{\"id\":\"2120\",\"type\":\"ColumnDataSource\"}},\"id\":\"2124\",\"type\":\"CDSView\"},{\"attributes\":{},\"id\":\"2094\",\"type\":\"PanTool\"},{\"attributes\":{},\"id\":\"2082\",\"type\":\"LinearScale\"},{\"attributes\":{\"label\":{\"value\":\"Outliers Above\"},\"renderers\":[{\"id\":\"2123\",\"type\":\"GlyphRenderer\"}]},\"id\":\"2133\",\"type\":\"LegendItem\"},{\"attributes\":{},\"id\":\"2113\",\"type\":\"BasicTickFormatter\"},{\"attributes\":{},\"id\":\"2209\",\"type\":\"UnionRenderers\"},{\"attributes\":{\"callback\":null},\"id\":\"2078\",\"type\":\"DataRange1d\"},{\"attributes\":{\"callback\":null,\"data\":{},\"selected\":{\"id\":\"2208\",\"type\":\"Selection\"},\"selection_policy\":{\"id\":\"2209\",\"type\":\"UnionRenderers\"}},\"id\":\"2120\",\"type\":\"ColumnDataSource\"},{\"attributes\":{},\"id\":\"2098\",\"type\":\"ResetTool\"},{\"attributes\":{},\"id\":\"2099\",\"type\":\"HelpTool\"},{\"attributes\":{\"bottom\":{\"value\":0},\"fill_alpha\":{\"value\":0.1},\"fill_color\":{\"value\":\"#1f77b4\"},\"left\":{\"field\":\"left\"},\"line_alpha\":{\"value\":0.1},\"line_color\":{\"value\":\"#1f77b4\"},\"right\":{\"field\":\"right\"},\"top\":{\"field\":\"top\"}},\"id\":\"2109\",\"type\":\"Quad\"},{\"attributes\":{\"label\":{\"value\":\"Mean DP per variant histogram\"},\"renderers\":[{\"id\":\"2110\",\"type\":\"GlyphRenderer\"}]},\"id\":\"2119\",\"type\":\"LegendItem\"},{\"attributes\":{\"bottom\":{\"value\":0},\"fill_alpha\":{\"value\":0.1},\"fill_color\":{\"value\":\"#1f77b4\"},\"left\":{\"value\":100.0},\"line_alpha\":{\"value\":0.1},\"line_color\":{\"value\":\"#1f77b4\"},\"right\":{\"value\":102.0},\"top\":{\"value\":351}},\"id\":\"2122\",\"type\":\"Quad\"},{\"attributes\":{\"bottom_units\":\"screen\",\"fill_alpha\":{\"value\":0.5},\"fill_color\":{\"value\":\"lightgrey\"},\"left_units\":\"screen\",\"level\":\"overlay\",\"line_alpha\":{\"value\":1.0},\"line_color\":{\"value\":\"black\"},\"line_dash\":[4,4],\"line_width\":{\"value\":2},\"render_mode\":\"css\",\"right_units\":\"screen\",\"top_units\":\"screen\"},\"id\":\"2117\",\"type\":\"BoxAnnotation\"},{\"attributes\":{\"dimension\":1,\"ticker\":{\"id\":\"2090\",\"type\":\"BasicTicker\"}},\"id\":\"2093\",\"type\":\"Grid\"},{\"attributes\":{},\"id\":\"2097\",\"type\":\"SaveTool\"},{\"attributes\":{\"axis_label\":\"Mean DP per variant histogram\",\"formatter\":{\"id\":\"2115\",\"type\":\"BasicTickFormatter\"},\"ticker\":{\"id\":\"2085\",\"type\":\"BasicTicker\"}},\"id\":\"2084\",\"type\":\"LinearAxis\"},{\"attributes\":{},\"id\":\"2095\",\"type\":\"WheelZoomTool\"},{\"attributes\":{\"bottom\":{\"value\":0},\"fill_color\":{\"value\":\"#1f77b4\"},\"left\":{\"field\":\"left\"},\"right\":{\"field\":\"right\"},\"top\":{\"field\":\"top\"}},\"id\":\"2108\",\"type\":\"Quad\"},{\"attributes\":{\"data_source\":{\"id\":\"2107\",\"type\":\"ColumnDataSource\"},\"glyph\":{\"id\":\"2108\",\"type\":\"Quad\"},\"hover_glyph\":null,\"muted_glyph\":null,\"nonselection_glyph\":{\"id\":\"2109\",\"type\":\"Quad\"},\"selection_glyph\":null,\"view\":{\"id\":\"2111\",\"type\":\"CDSView\"}},\"id\":\"2110\",\"type\":\"GlyphRenderer\"},{\"attributes\":{\"items\":[{\"id\":\"2119\",\"type\":\"LegendItem\"},{\"id\":\"2133\",\"type\":\"LegendItem\"}]},\"id\":\"2118\",\"type\":\"Legend\"}],\"root_ids\":[\"2074\"]},\"title\":\"Bokeh Application\",\"version\":\"1.2.0\"}};\n",
       "  var render_items = [{\"docid\":\"7ca79136-3229-40e6-955b-6ec10ab24e59\",\"roots\":{\"2074\":\"83072d12-54ee-49d7-ab6c-233668b86f2b\"}}];\n",
       "  root.Bokeh.embed.embed_items_notebook(docs_json, render_items);\n",
       "\n",
       "  }\n",
       "  if (root.Bokeh !== undefined) {\n",
       "    embed_document(root);\n",
       "  } else {\n",
       "    var attempts = 0;\n",
       "    var timer = setInterval(function(root) {\n",
       "      if (root.Bokeh !== undefined) {\n",
       "        embed_document(root);\n",
       "        clearInterval(timer);\n",
       "      }\n",
       "      attempts++;\n",
       "      if (attempts > 100) {\n",
       "        console.log(\"Bokeh: ERROR: Unable to run BokehJS code because BokehJS library is missing\");\n",
       "        clearInterval(timer);\n",
       "      }\n",
       "    }, 10, root)\n",
       "  }\n",
       "})(window);"
      ],
      "application/vnd.bokehjs_exec.v0+json": ""
     },
     "metadata": {
      "application/vnd.bokehjs_exec.v0+json": {
       "id": "2074"
      }
     },
     "output_type": "display_data"
    }
   ],
   "source": [
    "p = hl.plot.histogram(mt_hom_alt.variant_qc.dp_stats.mean, range=(0,100), legend='Mean DP per variant histogram')\n",
    "show(p)"
   ]
  },
  {
   "cell_type": "markdown",
   "metadata": {},
   "source": [
    "Looks like the variants have poor depth, but the shape of the distribution is similar to that of all the variants (above). The genotype quality looks much better."
   ]
  },
  {
   "cell_type": "code",
   "execution_count": 20,
   "metadata": {},
   "outputs": [
    {
     "data": {
      "text/html": [
       "\n",
       "\n",
       "\n",
       "\n",
       "\n",
       "\n",
       "  <div class=\"bk-root\" id=\"59b681eb-bbf3-4273-8c32-36c2d8e3fd61\" data-root-id=\"2270\"></div>\n"
      ]
     },
     "metadata": {},
     "output_type": "display_data"
    },
    {
     "data": {
      "application/javascript": [
       "(function(root) {\n",
       "  function embed_document(root) {\n",
       "    \n",
       "  var docs_json = {\"35d3c27a-7313-4330-a648-dbb3c70647c3\":{\"roots\":{\"references\":[{\"attributes\":{\"background_fill_color\":{\"value\":\"#EEEEEE\"},\"below\":[{\"id\":\"2280\",\"type\":\"LinearAxis\"}],\"center\":[{\"id\":\"2284\",\"type\":\"Grid\"},{\"id\":\"2289\",\"type\":\"Grid\"},{\"id\":\"2314\",\"type\":\"Legend\"}],\"left\":[{\"id\":\"2285\",\"type\":\"LinearAxis\"}],\"renderers\":[{\"id\":\"2306\",\"type\":\"GlyphRenderer\"}],\"title\":null,\"toolbar\":{\"id\":\"2296\",\"type\":\"Toolbar\"},\"x_range\":{\"id\":\"2272\",\"type\":\"Range1d\"},\"x_scale\":{\"id\":\"2276\",\"type\":\"LinearScale\"},\"y_range\":{\"id\":\"2274\",\"type\":\"DataRange1d\"},\"y_scale\":{\"id\":\"2278\",\"type\":\"LinearScale\"}},\"id\":\"2270\",\"subtype\":\"Figure\",\"type\":\"Plot\"},{\"attributes\":{\"overlay\":{\"id\":\"2313\",\"type\":\"BoxAnnotation\"}},\"id\":\"2292\",\"type\":\"BoxZoomTool\"},{\"attributes\":{},\"id\":\"2286\",\"type\":\"BasicTicker\"},{\"attributes\":{},\"id\":\"2291\",\"type\":\"WheelZoomTool\"},{\"attributes\":{},\"id\":\"2399\",\"type\":\"UnionRenderers\"},{\"attributes\":{},\"id\":\"2398\",\"type\":\"Selection\"},{\"attributes\":{},\"id\":\"2293\",\"type\":\"SaveTool\"},{\"attributes\":{\"dimension\":1,\"ticker\":{\"id\":\"2286\",\"type\":\"BasicTicker\"}},\"id\":\"2289\",\"type\":\"Grid\"},{\"attributes\":{\"axis_label\":\"Frequency\",\"formatter\":{\"id\":\"2309\",\"type\":\"BasicTickFormatter\"},\"ticker\":{\"id\":\"2286\",\"type\":\"BasicTicker\"}},\"id\":\"2285\",\"type\":\"LinearAxis\"},{\"attributes\":{\"callback\":null},\"id\":\"2274\",\"type\":\"DataRange1d\"},{\"attributes\":{},\"id\":\"2294\",\"type\":\"ResetTool\"},{\"attributes\":{\"active_drag\":\"auto\",\"active_inspect\":\"auto\",\"active_multi\":null,\"active_scroll\":\"auto\",\"active_tap\":\"auto\",\"tools\":[{\"id\":\"2290\",\"type\":\"PanTool\"},{\"id\":\"2291\",\"type\":\"WheelZoomTool\"},{\"id\":\"2292\",\"type\":\"BoxZoomTool\"},{\"id\":\"2293\",\"type\":\"SaveTool\"},{\"id\":\"2294\",\"type\":\"ResetTool\"},{\"id\":\"2295\",\"type\":\"HelpTool\"}]},\"id\":\"2296\",\"type\":\"Toolbar\"},{\"attributes\":{\"ticker\":{\"id\":\"2281\",\"type\":\"BasicTicker\"}},\"id\":\"2284\",\"type\":\"Grid\"},{\"attributes\":{},\"id\":\"2278\",\"type\":\"LinearScale\"},{\"attributes\":{},\"id\":\"2290\",\"type\":\"PanTool\"},{\"attributes\":{\"callback\":null,\"end\":105.0,\"start\":-5.0},\"id\":\"2272\",\"type\":\"Range1d\"},{\"attributes\":{\"bottom\":{\"value\":0},\"fill_color\":{\"value\":\"#1f77b4\"},\"left\":{\"field\":\"left\"},\"right\":{\"field\":\"right\"},\"top\":{\"field\":\"top\"}},\"id\":\"2304\",\"type\":\"Quad\"},{\"attributes\":{\"source\":{\"id\":\"2303\",\"type\":\"ColumnDataSource\"}},\"id\":\"2307\",\"type\":\"CDSView\"},{\"attributes\":{},\"id\":\"2309\",\"type\":\"BasicTickFormatter\"},{\"attributes\":{\"callback\":null,\"data\":{\"left\":[0.0,2.0,4.0,6.0,8.0,10.0,12.0,14.0,16.0,18.0,20.0,22.0,24.0,26.0,28.0,30.0,32.0,34.0,36.0,38.0,40.0,42.0,44.0,46.0,48.0,50.0,52.0,54.0,56.0,58.0,60.0,62.0,64.0,66.0,68.0,70.0,72.0,74.0,76.0,78.0,80.0,82.0,84.0,86.0,88.0,90.0,92.0,94.0,96.0,98.0],\"right\":[2.0,4.0,6.0,8.0,10.0,12.0,14.0,16.0,18.0,20.0,22.0,24.0,26.0,28.0,30.0,32.0,34.0,36.0,38.0,40.0,42.0,44.0,46.0,48.0,50.0,52.0,54.0,56.0,58.0,60.0,62.0,64.0,66.0,68.0,70.0,72.0,74.0,76.0,78.0,80.0,82.0,84.0,86.0,88.0,90.0,92.0,94.0,96.0,98.0,100.0],\"top\":[3,19,18,24,37,35,35,62,74,50,71,84,78,95,87,101,121,120,175,183,146,184,179,206,201,192,156,160,186,183,186,174,203,193,203,177,188,219,228,222,250,272,276,309,389,442,543,703,882,629]},\"selected\":{\"id\":\"2398\",\"type\":\"Selection\"},\"selection_policy\":{\"id\":\"2399\",\"type\":\"UnionRenderers\"}},\"id\":\"2303\",\"type\":\"ColumnDataSource\"},{\"attributes\":{},\"id\":\"2311\",\"type\":\"BasicTickFormatter\"},{\"attributes\":{},\"id\":\"2295\",\"type\":\"HelpTool\"},{\"attributes\":{},\"id\":\"2281\",\"type\":\"BasicTicker\"},{\"attributes\":{\"items\":[{\"id\":\"2315\",\"type\":\"LegendItem\"}]},\"id\":\"2314\",\"type\":\"Legend\"},{\"attributes\":{\"bottom\":{\"value\":0},\"fill_alpha\":{\"value\":0.1},\"fill_color\":{\"value\":\"#1f77b4\"},\"left\":{\"field\":\"left\"},\"line_alpha\":{\"value\":0.1},\"line_color\":{\"value\":\"#1f77b4\"},\"right\":{\"field\":\"right\"},\"top\":{\"field\":\"top\"}},\"id\":\"2305\",\"type\":\"Quad\"},{\"attributes\":{\"bottom_units\":\"screen\",\"fill_alpha\":{\"value\":0.5},\"fill_color\":{\"value\":\"lightgrey\"},\"left_units\":\"screen\",\"level\":\"overlay\",\"line_alpha\":{\"value\":1.0},\"line_color\":{\"value\":\"black\"},\"line_dash\":[4,4],\"line_width\":{\"value\":2},\"render_mode\":\"css\",\"right_units\":\"screen\",\"top_units\":\"screen\"},\"id\":\"2313\",\"type\":\"BoxAnnotation\"},{\"attributes\":{},\"id\":\"2276\",\"type\":\"LinearScale\"},{\"attributes\":{\"axis_label\":\"Mean GQ per variant histogram\",\"formatter\":{\"id\":\"2311\",\"type\":\"BasicTickFormatter\"},\"ticker\":{\"id\":\"2281\",\"type\":\"BasicTicker\"}},\"id\":\"2280\",\"type\":\"LinearAxis\"},{\"attributes\":{\"label\":{\"value\":\"Mean GQ per variant histogram\"},\"renderers\":[{\"id\":\"2306\",\"type\":\"GlyphRenderer\"}]},\"id\":\"2315\",\"type\":\"LegendItem\"},{\"attributes\":{\"data_source\":{\"id\":\"2303\",\"type\":\"ColumnDataSource\"},\"glyph\":{\"id\":\"2304\",\"type\":\"Quad\"},\"hover_glyph\":null,\"muted_glyph\":null,\"nonselection_glyph\":{\"id\":\"2305\",\"type\":\"Quad\"},\"selection_glyph\":null,\"view\":{\"id\":\"2307\",\"type\":\"CDSView\"}},\"id\":\"2306\",\"type\":\"GlyphRenderer\"}],\"root_ids\":[\"2270\"]},\"title\":\"Bokeh Application\",\"version\":\"1.2.0\"}};\n",
       "  var render_items = [{\"docid\":\"35d3c27a-7313-4330-a648-dbb3c70647c3\",\"roots\":{\"2270\":\"59b681eb-bbf3-4273-8c32-36c2d8e3fd61\"}}];\n",
       "  root.Bokeh.embed.embed_items_notebook(docs_json, render_items);\n",
       "\n",
       "  }\n",
       "  if (root.Bokeh !== undefined) {\n",
       "    embed_document(root);\n",
       "  } else {\n",
       "    var attempts = 0;\n",
       "    var timer = setInterval(function(root) {\n",
       "      if (root.Bokeh !== undefined) {\n",
       "        embed_document(root);\n",
       "        clearInterval(timer);\n",
       "      }\n",
       "      attempts++;\n",
       "      if (attempts > 100) {\n",
       "        console.log(\"Bokeh: ERROR: Unable to run BokehJS code because BokehJS library is missing\");\n",
       "        clearInterval(timer);\n",
       "      }\n",
       "    }, 10, root)\n",
       "  }\n",
       "})(window);"
      ],
      "application/vnd.bokehjs_exec.v0+json": ""
     },
     "metadata": {
      "application/vnd.bokehjs_exec.v0+json": {
       "id": "2270"
      }
     },
     "output_type": "display_data"
    }
   ],
   "source": [
    "p = hl.plot.histogram(mt_hom_alt.variant_qc.gq_stats.mean, range=(0,100), legend='Mean GQ per variant histogram')\n",
    "show(p)"
   ]
  },
  {
   "cell_type": "markdown",
   "metadata": {},
   "source": [
    "Are any of the variants novel?"
   ]
  },
  {
   "cell_type": "code",
   "execution_count": 21,
   "metadata": {},
   "outputs": [
    {
     "name": "stdout",
     "output_type": "stream",
     "text": [
      "388 out of the 9953 variants are novel\n"
     ]
    }
   ],
   "source": [
    "n_novel = mt_hom_alt.aggregate_rows(hl.agg.count_where(hl.is_missing(mt_hom_alt.rsid)))\n",
    "print('{n_novel} out of the {n_all_hom_alt} variants are novel'.format(n_novel=n_novel, n_all_hom_alt=n_all_hom_alt))"
   ]
  },
  {
   "cell_type": "markdown",
   "metadata": {},
   "source": [
    "Would be interesting to see what the allele frequency of these variants is in other populations."
   ]
  },
  {
   "cell_type": "code",
   "execution_count": null,
   "metadata": {},
   "outputs": [],
   "source": []
  }
 ],
 "metadata": {
  "kernelspec": {
   "display_name": "Python [conda env:fargen-1-exome]",
   "language": "python",
   "name": "conda-env-fargen-1-exome-py"
  },
  "language_info": {
   "codemirror_mode": {
    "name": "ipython",
    "version": 3
   },
   "file_extension": ".py",
   "mimetype": "text/x-python",
   "name": "python",
   "nbconvert_exporter": "python",
   "pygments_lexer": "ipython3",
   "version": "3.7.10"
  }
 },
 "nbformat": 4,
 "nbformat_minor": 4
}
