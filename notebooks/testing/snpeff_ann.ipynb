{
 "cells": [
  {
   "cell_type": "markdown",
   "metadata": {},
   "source": [
    "# SnpEff effect and impact predictions"
   ]
  },
  {
   "cell_type": "code",
   "execution_count": 1,
   "metadata": {},
   "outputs": [
    {
     "name": "stderr",
     "output_type": "stream",
     "text": [
      "Running on Apache Spark version 2.4.6\n",
      "SparkUI available at http://hms-beagle-5466c684ff-d8mgh:4042\n",
      "Welcome to\n",
      "     __  __     <>__\n",
      "    / /_/ /__  __/ /\n",
      "   / __  / _ `/ / /\n",
      "  /_/ /_/\\_,_/_/_/   version 0.2.58-3f304aae6ce2\n",
      "LOGGING: writing to /home/olavur/experiments/2020-11-13_fargen1_exome_analysis/fargen-1-exome/notebooks/hail-20201126-1257-0.2.58-3f304aae6ce2.log\n"
     ]
    }
   ],
   "source": [
    "import hail as hl\n",
    "hl.init()"
   ]
  },
  {
   "cell_type": "code",
   "execution_count": 2,
   "metadata": {},
   "outputs": [
    {
     "data": {
      "text/html": [
       "\n",
       "    <div class=\"bk-root\">\n",
       "        <a href=\"https://bokeh.pydata.org\" target=\"_blank\" class=\"bk-logo bk-logo-small bk-logo-notebook\"></a>\n",
       "        <span id=\"1001\">Loading BokehJS ...</span>\n",
       "    </div>"
      ]
     },
     "metadata": {},
     "output_type": "display_data"
    },
    {
     "data": {
      "application/javascript": [
       "\n",
       "(function(root) {\n",
       "  function now() {\n",
       "    return new Date();\n",
       "  }\n",
       "\n",
       "  var force = true;\n",
       "\n",
       "  if (typeof root._bokeh_onload_callbacks === \"undefined\" || force === true) {\n",
       "    root._bokeh_onload_callbacks = [];\n",
       "    root._bokeh_is_loading = undefined;\n",
       "  }\n",
       "\n",
       "  var JS_MIME_TYPE = 'application/javascript';\n",
       "  var HTML_MIME_TYPE = 'text/html';\n",
       "  var EXEC_MIME_TYPE = 'application/vnd.bokehjs_exec.v0+json';\n",
       "  var CLASS_NAME = 'output_bokeh rendered_html';\n",
       "\n",
       "  /**\n",
       "   * Render data to the DOM node\n",
       "   */\n",
       "  function render(props, node) {\n",
       "    var script = document.createElement(\"script\");\n",
       "    node.appendChild(script);\n",
       "  }\n",
       "\n",
       "  /**\n",
       "   * Handle when an output is cleared or removed\n",
       "   */\n",
       "  function handleClearOutput(event, handle) {\n",
       "    var cell = handle.cell;\n",
       "\n",
       "    var id = cell.output_area._bokeh_element_id;\n",
       "    var server_id = cell.output_area._bokeh_server_id;\n",
       "    // Clean up Bokeh references\n",
       "    if (id != null && id in Bokeh.index) {\n",
       "      Bokeh.index[id].model.document.clear();\n",
       "      delete Bokeh.index[id];\n",
       "    }\n",
       "\n",
       "    if (server_id !== undefined) {\n",
       "      // Clean up Bokeh references\n",
       "      var cmd = \"from bokeh.io.state import curstate; print(curstate().uuid_to_server['\" + server_id + \"'].get_sessions()[0].document.roots[0]._id)\";\n",
       "      cell.notebook.kernel.execute(cmd, {\n",
       "        iopub: {\n",
       "          output: function(msg) {\n",
       "            var id = msg.content.text.trim();\n",
       "            if (id in Bokeh.index) {\n",
       "              Bokeh.index[id].model.document.clear();\n",
       "              delete Bokeh.index[id];\n",
       "            }\n",
       "          }\n",
       "        }\n",
       "      });\n",
       "      // Destroy server and session\n",
       "      var cmd = \"import bokeh.io.notebook as ion; ion.destroy_server('\" + server_id + \"')\";\n",
       "      cell.notebook.kernel.execute(cmd);\n",
       "    }\n",
       "  }\n",
       "\n",
       "  /**\n",
       "   * Handle when a new output is added\n",
       "   */\n",
       "  function handleAddOutput(event, handle) {\n",
       "    var output_area = handle.output_area;\n",
       "    var output = handle.output;\n",
       "\n",
       "    // limit handleAddOutput to display_data with EXEC_MIME_TYPE content only\n",
       "    if ((output.output_type != \"display_data\") || (!output.data.hasOwnProperty(EXEC_MIME_TYPE))) {\n",
       "      return\n",
       "    }\n",
       "\n",
       "    var toinsert = output_area.element.find(\".\" + CLASS_NAME.split(' ')[0]);\n",
       "\n",
       "    if (output.metadata[EXEC_MIME_TYPE][\"id\"] !== undefined) {\n",
       "      toinsert[toinsert.length - 1].firstChild.textContent = output.data[JS_MIME_TYPE];\n",
       "      // store reference to embed id on output_area\n",
       "      output_area._bokeh_element_id = output.metadata[EXEC_MIME_TYPE][\"id\"];\n",
       "    }\n",
       "    if (output.metadata[EXEC_MIME_TYPE][\"server_id\"] !== undefined) {\n",
       "      var bk_div = document.createElement(\"div\");\n",
       "      bk_div.innerHTML = output.data[HTML_MIME_TYPE];\n",
       "      var script_attrs = bk_div.children[0].attributes;\n",
       "      for (var i = 0; i < script_attrs.length; i++) {\n",
       "        toinsert[toinsert.length - 1].firstChild.setAttribute(script_attrs[i].name, script_attrs[i].value);\n",
       "      }\n",
       "      // store reference to server id on output_area\n",
       "      output_area._bokeh_server_id = output.metadata[EXEC_MIME_TYPE][\"server_id\"];\n",
       "    }\n",
       "  }\n",
       "\n",
       "  function register_renderer(events, OutputArea) {\n",
       "\n",
       "    function append_mime(data, metadata, element) {\n",
       "      // create a DOM node to render to\n",
       "      var toinsert = this.create_output_subarea(\n",
       "        metadata,\n",
       "        CLASS_NAME,\n",
       "        EXEC_MIME_TYPE\n",
       "      );\n",
       "      this.keyboard_manager.register_events(toinsert);\n",
       "      // Render to node\n",
       "      var props = {data: data, metadata: metadata[EXEC_MIME_TYPE]};\n",
       "      render(props, toinsert[toinsert.length - 1]);\n",
       "      element.append(toinsert);\n",
       "      return toinsert\n",
       "    }\n",
       "\n",
       "    /* Handle when an output is cleared or removed */\n",
       "    events.on('clear_output.CodeCell', handleClearOutput);\n",
       "    events.on('delete.Cell', handleClearOutput);\n",
       "\n",
       "    /* Handle when a new output is added */\n",
       "    events.on('output_added.OutputArea', handleAddOutput);\n",
       "\n",
       "    /**\n",
       "     * Register the mime type and append_mime function with output_area\n",
       "     */\n",
       "    OutputArea.prototype.register_mime_type(EXEC_MIME_TYPE, append_mime, {\n",
       "      /* Is output safe? */\n",
       "      safe: true,\n",
       "      /* Index of renderer in `output_area.display_order` */\n",
       "      index: 0\n",
       "    });\n",
       "  }\n",
       "\n",
       "  // register the mime type if in Jupyter Notebook environment and previously unregistered\n",
       "  if (root.Jupyter !== undefined) {\n",
       "    var events = require('base/js/events');\n",
       "    var OutputArea = require('notebook/js/outputarea').OutputArea;\n",
       "\n",
       "    if (OutputArea.prototype.mime_types().indexOf(EXEC_MIME_TYPE) == -1) {\n",
       "      register_renderer(events, OutputArea);\n",
       "    }\n",
       "  }\n",
       "\n",
       "  \n",
       "  if (typeof (root._bokeh_timeout) === \"undefined\" || force === true) {\n",
       "    root._bokeh_timeout = Date.now() + 5000;\n",
       "    root._bokeh_failed_load = false;\n",
       "  }\n",
       "\n",
       "  var NB_LOAD_WARNING = {'data': {'text/html':\n",
       "     \"<div style='background-color: #fdd'>\\n\"+\n",
       "     \"<p>\\n\"+\n",
       "     \"BokehJS does not appear to have successfully loaded. If loading BokehJS from CDN, this \\n\"+\n",
       "     \"may be due to a slow or bad network connection. Possible fixes:\\n\"+\n",
       "     \"</p>\\n\"+\n",
       "     \"<ul>\\n\"+\n",
       "     \"<li>re-rerun `output_notebook()` to attempt to load from CDN again, or</li>\\n\"+\n",
       "     \"<li>use INLINE resources instead, as so:</li>\\n\"+\n",
       "     \"</ul>\\n\"+\n",
       "     \"<code>\\n\"+\n",
       "     \"from bokeh.resources import INLINE\\n\"+\n",
       "     \"output_notebook(resources=INLINE)\\n\"+\n",
       "     \"</code>\\n\"+\n",
       "     \"</div>\"}};\n",
       "\n",
       "  function display_loaded() {\n",
       "    var el = document.getElementById(\"1001\");\n",
       "    if (el != null) {\n",
       "      el.textContent = \"BokehJS is loading...\";\n",
       "    }\n",
       "    if (root.Bokeh !== undefined) {\n",
       "      if (el != null) {\n",
       "        el.textContent = \"BokehJS \" + root.Bokeh.version + \" successfully loaded.\";\n",
       "      }\n",
       "    } else if (Date.now() < root._bokeh_timeout) {\n",
       "      setTimeout(display_loaded, 100)\n",
       "    }\n",
       "  }\n",
       "\n",
       "\n",
       "  function run_callbacks() {\n",
       "    try {\n",
       "      root._bokeh_onload_callbacks.forEach(function(callback) {\n",
       "        if (callback != null)\n",
       "          callback();\n",
       "      });\n",
       "    } finally {\n",
       "      delete root._bokeh_onload_callbacks\n",
       "    }\n",
       "    console.debug(\"Bokeh: all callbacks have finished\");\n",
       "  }\n",
       "\n",
       "  function load_libs(css_urls, js_urls, callback) {\n",
       "    if (css_urls == null) css_urls = [];\n",
       "    if (js_urls == null) js_urls = [];\n",
       "\n",
       "    root._bokeh_onload_callbacks.push(callback);\n",
       "    if (root._bokeh_is_loading > 0) {\n",
       "      console.debug(\"Bokeh: BokehJS is being loaded, scheduling callback at\", now());\n",
       "      return null;\n",
       "    }\n",
       "    if (js_urls == null || js_urls.length === 0) {\n",
       "      run_callbacks();\n",
       "      return null;\n",
       "    }\n",
       "    console.debug(\"Bokeh: BokehJS not loaded, scheduling load and callback at\", now());\n",
       "    root._bokeh_is_loading = css_urls.length + js_urls.length;\n",
       "\n",
       "    function on_load() {\n",
       "      root._bokeh_is_loading--;\n",
       "      if (root._bokeh_is_loading === 0) {\n",
       "        console.debug(\"Bokeh: all BokehJS libraries/stylesheets loaded\");\n",
       "        run_callbacks()\n",
       "      }\n",
       "    }\n",
       "\n",
       "    function on_error() {\n",
       "      console.error(\"failed to load \" + url);\n",
       "    }\n",
       "\n",
       "    for (var i = 0; i < css_urls.length; i++) {\n",
       "      var url = css_urls[i];\n",
       "      const element = document.createElement(\"link\");\n",
       "      element.onload = on_load;\n",
       "      element.onerror = on_error;\n",
       "      element.rel = \"stylesheet\";\n",
       "      element.type = \"text/css\";\n",
       "      element.href = url;\n",
       "      console.debug(\"Bokeh: injecting link tag for BokehJS stylesheet: \", url);\n",
       "      document.body.appendChild(element);\n",
       "    }\n",
       "\n",
       "    for (var i = 0; i < js_urls.length; i++) {\n",
       "      var url = js_urls[i];\n",
       "      var element = document.createElement('script');\n",
       "      element.onload = on_load;\n",
       "      element.onerror = on_error;\n",
       "      element.async = false;\n",
       "      element.src = url;\n",
       "      console.debug(\"Bokeh: injecting script tag for BokehJS library: \", url);\n",
       "      document.head.appendChild(element);\n",
       "    }\n",
       "  };var element = document.getElementById(\"1001\");\n",
       "  if (element == null) {\n",
       "    console.error(\"Bokeh: ERROR: autoload.js configured with elementid '1001' but no matching script tag was found. \")\n",
       "    return false;\n",
       "  }\n",
       "\n",
       "  function inject_raw_css(css) {\n",
       "    const element = document.createElement(\"style\");\n",
       "    element.appendChild(document.createTextNode(css));\n",
       "    document.body.appendChild(element);\n",
       "  }\n",
       "\n",
       "  var js_urls = [\"https://cdn.pydata.org/bokeh/release/bokeh-1.2.0.min.js\", \"https://cdn.pydata.org/bokeh/release/bokeh-widgets-1.2.0.min.js\", \"https://cdn.pydata.org/bokeh/release/bokeh-tables-1.2.0.min.js\", \"https://cdn.pydata.org/bokeh/release/bokeh-gl-1.2.0.min.js\"];\n",
       "  var css_urls = [\"https://cdn.pydata.org/bokeh/release/bokeh-1.2.0.min.css\", \"https://cdn.pydata.org/bokeh/release/bokeh-widgets-1.2.0.min.css\", \"https://cdn.pydata.org/bokeh/release/bokeh-tables-1.2.0.min.css\"];\n",
       "\n",
       "  var inline_js = [\n",
       "    function(Bokeh) {\n",
       "      Bokeh.set_log_level(\"info\");\n",
       "    },\n",
       "    \n",
       "    function(Bokeh) {\n",
       "      \n",
       "    },\n",
       "    function(Bokeh) {} // ensure no trailing comma for IE\n",
       "  ];\n",
       "\n",
       "  function run_inline_js() {\n",
       "    \n",
       "    if ((root.Bokeh !== undefined) || (force === true)) {\n",
       "      for (var i = 0; i < inline_js.length; i++) {\n",
       "        inline_js[i].call(root, root.Bokeh);\n",
       "      }if (force === true) {\n",
       "        display_loaded();\n",
       "      }} else if (Date.now() < root._bokeh_timeout) {\n",
       "      setTimeout(run_inline_js, 100);\n",
       "    } else if (!root._bokeh_failed_load) {\n",
       "      console.log(\"Bokeh: BokehJS failed to load within specified timeout.\");\n",
       "      root._bokeh_failed_load = true;\n",
       "    } else if (force !== true) {\n",
       "      var cell = $(document.getElementById(\"1001\")).parents('.cell').data().cell;\n",
       "      cell.output_area.append_execute_result(NB_LOAD_WARNING)\n",
       "    }\n",
       "\n",
       "  }\n",
       "\n",
       "  if (root._bokeh_is_loading === 0) {\n",
       "    console.debug(\"Bokeh: BokehJS loaded, going straight to plotting\");\n",
       "    run_inline_js();\n",
       "  } else {\n",
       "    load_libs(css_urls, js_urls, function() {\n",
       "      console.debug(\"Bokeh: BokehJS plotting callback run at\", now());\n",
       "      run_inline_js();\n",
       "    });\n",
       "  }\n",
       "}(window));"
      ],
      "application/vnd.bokehjs_load.v0+json": "\n(function(root) {\n  function now() {\n    return new Date();\n  }\n\n  var force = true;\n\n  if (typeof root._bokeh_onload_callbacks === \"undefined\" || force === true) {\n    root._bokeh_onload_callbacks = [];\n    root._bokeh_is_loading = undefined;\n  }\n\n  \n\n  \n  if (typeof (root._bokeh_timeout) === \"undefined\" || force === true) {\n    root._bokeh_timeout = Date.now() + 5000;\n    root._bokeh_failed_load = false;\n  }\n\n  var NB_LOAD_WARNING = {'data': {'text/html':\n     \"<div style='background-color: #fdd'>\\n\"+\n     \"<p>\\n\"+\n     \"BokehJS does not appear to have successfully loaded. If loading BokehJS from CDN, this \\n\"+\n     \"may be due to a slow or bad network connection. Possible fixes:\\n\"+\n     \"</p>\\n\"+\n     \"<ul>\\n\"+\n     \"<li>re-rerun `output_notebook()` to attempt to load from CDN again, or</li>\\n\"+\n     \"<li>use INLINE resources instead, as so:</li>\\n\"+\n     \"</ul>\\n\"+\n     \"<code>\\n\"+\n     \"from bokeh.resources import INLINE\\n\"+\n     \"output_notebook(resources=INLINE)\\n\"+\n     \"</code>\\n\"+\n     \"</div>\"}};\n\n  function display_loaded() {\n    var el = document.getElementById(\"1001\");\n    if (el != null) {\n      el.textContent = \"BokehJS is loading...\";\n    }\n    if (root.Bokeh !== undefined) {\n      if (el != null) {\n        el.textContent = \"BokehJS \" + root.Bokeh.version + \" successfully loaded.\";\n      }\n    } else if (Date.now() < root._bokeh_timeout) {\n      setTimeout(display_loaded, 100)\n    }\n  }\n\n\n  function run_callbacks() {\n    try {\n      root._bokeh_onload_callbacks.forEach(function(callback) {\n        if (callback != null)\n          callback();\n      });\n    } finally {\n      delete root._bokeh_onload_callbacks\n    }\n    console.debug(\"Bokeh: all callbacks have finished\");\n  }\n\n  function load_libs(css_urls, js_urls, callback) {\n    if (css_urls == null) css_urls = [];\n    if (js_urls == null) js_urls = [];\n\n    root._bokeh_onload_callbacks.push(callback);\n    if (root._bokeh_is_loading > 0) {\n      console.debug(\"Bokeh: BokehJS is being loaded, scheduling callback at\", now());\n      return null;\n    }\n    if (js_urls == null || js_urls.length === 0) {\n      run_callbacks();\n      return null;\n    }\n    console.debug(\"Bokeh: BokehJS not loaded, scheduling load and callback at\", now());\n    root._bokeh_is_loading = css_urls.length + js_urls.length;\n\n    function on_load() {\n      root._bokeh_is_loading--;\n      if (root._bokeh_is_loading === 0) {\n        console.debug(\"Bokeh: all BokehJS libraries/stylesheets loaded\");\n        run_callbacks()\n      }\n    }\n\n    function on_error() {\n      console.error(\"failed to load \" + url);\n    }\n\n    for (var i = 0; i < css_urls.length; i++) {\n      var url = css_urls[i];\n      const element = document.createElement(\"link\");\n      element.onload = on_load;\n      element.onerror = on_error;\n      element.rel = \"stylesheet\";\n      element.type = \"text/css\";\n      element.href = url;\n      console.debug(\"Bokeh: injecting link tag for BokehJS stylesheet: \", url);\n      document.body.appendChild(element);\n    }\n\n    for (var i = 0; i < js_urls.length; i++) {\n      var url = js_urls[i];\n      var element = document.createElement('script');\n      element.onload = on_load;\n      element.onerror = on_error;\n      element.async = false;\n      element.src = url;\n      console.debug(\"Bokeh: injecting script tag for BokehJS library: \", url);\n      document.head.appendChild(element);\n    }\n  };var element = document.getElementById(\"1001\");\n  if (element == null) {\n    console.error(\"Bokeh: ERROR: autoload.js configured with elementid '1001' but no matching script tag was found. \")\n    return false;\n  }\n\n  function inject_raw_css(css) {\n    const element = document.createElement(\"style\");\n    element.appendChild(document.createTextNode(css));\n    document.body.appendChild(element);\n  }\n\n  var js_urls = [\"https://cdn.pydata.org/bokeh/release/bokeh-1.2.0.min.js\", \"https://cdn.pydata.org/bokeh/release/bokeh-widgets-1.2.0.min.js\", \"https://cdn.pydata.org/bokeh/release/bokeh-tables-1.2.0.min.js\", \"https://cdn.pydata.org/bokeh/release/bokeh-gl-1.2.0.min.js\"];\n  var css_urls = [\"https://cdn.pydata.org/bokeh/release/bokeh-1.2.0.min.css\", \"https://cdn.pydata.org/bokeh/release/bokeh-widgets-1.2.0.min.css\", \"https://cdn.pydata.org/bokeh/release/bokeh-tables-1.2.0.min.css\"];\n\n  var inline_js = [\n    function(Bokeh) {\n      Bokeh.set_log_level(\"info\");\n    },\n    \n    function(Bokeh) {\n      \n    },\n    function(Bokeh) {} // ensure no trailing comma for IE\n  ];\n\n  function run_inline_js() {\n    \n    if ((root.Bokeh !== undefined) || (force === true)) {\n      for (var i = 0; i < inline_js.length; i++) {\n        inline_js[i].call(root, root.Bokeh);\n      }if (force === true) {\n        display_loaded();\n      }} else if (Date.now() < root._bokeh_timeout) {\n      setTimeout(run_inline_js, 100);\n    } else if (!root._bokeh_failed_load) {\n      console.log(\"Bokeh: BokehJS failed to load within specified timeout.\");\n      root._bokeh_failed_load = true;\n    } else if (force !== true) {\n      var cell = $(document.getElementById(\"1001\")).parents('.cell').data().cell;\n      cell.output_area.append_execute_result(NB_LOAD_WARNING)\n    }\n\n  }\n\n  if (root._bokeh_is_loading === 0) {\n    console.debug(\"Bokeh: BokehJS loaded, going straight to plotting\");\n    run_inline_js();\n  } else {\n    load_libs(css_urls, js_urls, function() {\n      console.debug(\"Bokeh: BokehJS plotting callback run at\", now());\n      run_inline_js();\n    });\n  }\n}(window));"
     },
     "metadata": {},
     "output_type": "display_data"
    }
   ],
   "source": [
    "from bokeh.io import show, output_notebook\n",
    "from bokeh.layouts import gridplot\n",
    "from bokeh.models.scales import LogScale\n",
    "output_notebook()"
   ]
  },
  {
   "cell_type": "code",
   "execution_count": 3,
   "metadata": {},
   "outputs": [],
   "source": [
    "import pandas as pd\n",
    "from pprint import pprint"
   ]
  },
  {
   "cell_type": "code",
   "execution_count": 4,
   "metadata": {},
   "outputs": [],
   "source": [
    "mt = hl.read_matrix_table('/home/olavur/experiments/2020-11-13_fargen1_exome_analysis/data/mt/variants.mt')"
   ]
  },
  {
   "cell_type": "code",
   "execution_count": 5,
   "metadata": {},
   "outputs": [],
   "source": [
    "mt = hl.variant_qc(mt)"
   ]
  },
  {
   "cell_type": "markdown",
   "metadata": {},
   "source": [
    "## Variant impact"
   ]
  },
  {
   "cell_type": "code",
   "execution_count": 6,
   "metadata": {},
   "outputs": [],
   "source": [
    "mt = mt.annotate_rows(impact=mt.info.ANN.map(lambda x: x.split('\\|')[2]))\n",
    "#mt = mt.annotate_rows(high_impact=mt.impact.contains('HIGH'))\n",
    "mt = mt.annotate_rows(impact1=mt.impact[0])"
   ]
  },
  {
   "cell_type": "code",
   "execution_count": 7,
   "metadata": {},
   "outputs": [
    {
     "name": "stdout",
     "output_type": "stream",
     "text": [
      "{'HIGH': 55300, 'LOW': 67901, 'MODERATE': 63044, 'MODIFIER': 762304}\n"
     ]
    }
   ],
   "source": [
    "impact_count = mt.aggregate_rows(hl.agg.counter(mt.impact1))\n",
    "print(impact_count)"
   ]
  },
  {
   "cell_type": "code",
   "execution_count": 8,
   "metadata": {},
   "outputs": [
    {
     "name": "stderr",
     "output_type": "stream",
     "text": [
      "2020-11-26 12:57:33 Hail: WARN: entries(): Resulting entries table is sorted by '(row_key, col_key)'.\n",
      "    To preserve row-major matrix table order, first unkey columns with 'key_cols_by()'\n"
     ]
    }
   ],
   "source": [
    "entries = mt.entries()\n",
    "entries_grouped = (entries.group_by(entries.impact1)\n",
    "              .aggregate(impact_af=hl.agg.stats(entries.variant_qc.AF[1])))"
   ]
  },
  {
   "cell_type": "code",
   "execution_count": 9,
   "metadata": {},
   "outputs": [
    {
     "name": "stderr",
     "output_type": "stream",
     "text": [
      "2020-11-26 12:58:31 Hail: INFO: Ordering unsorted dataset with network shuffle\n"
     ]
    }
   ],
   "source": [
    "results_pd = entries_grouped.to_pandas()"
   ]
  },
  {
   "cell_type": "code",
   "execution_count": 10,
   "metadata": {},
   "outputs": [
    {
     "data": {
      "text/html": [
       "<div>\n",
       "<style scoped>\n",
       "    .dataframe tbody tr th:only-of-type {\n",
       "        vertical-align: middle;\n",
       "    }\n",
       "\n",
       "    .dataframe tbody tr th {\n",
       "        vertical-align: top;\n",
       "    }\n",
       "\n",
       "    .dataframe thead th {\n",
       "        text-align: right;\n",
       "    }\n",
       "</style>\n",
       "<table border=\"1\" class=\"dataframe\">\n",
       "  <thead>\n",
       "    <tr style=\"text-align: right;\">\n",
       "      <th></th>\n",
       "      <th>impact1</th>\n",
       "      <th>impact_af.mean</th>\n",
       "      <th>impact_af.stdev</th>\n",
       "      <th>impact_af.min</th>\n",
       "      <th>impact_af.max</th>\n",
       "      <th>impact_af.n</th>\n",
       "      <th>impact_af.sum</th>\n",
       "    </tr>\n",
       "  </thead>\n",
       "  <tbody>\n",
       "    <tr>\n",
       "      <th>0</th>\n",
       "      <td>HIGH</td>\n",
       "      <td>0.027102</td>\n",
       "      <td>0.070298</td>\n",
       "      <td>0.010417</td>\n",
       "      <td>1.0</td>\n",
       "      <td>2654400</td>\n",
       "      <td>7.194070e+04</td>\n",
       "    </tr>\n",
       "    <tr>\n",
       "      <th>1</th>\n",
       "      <td>LOW</td>\n",
       "      <td>0.162157</td>\n",
       "      <td>0.246684</td>\n",
       "      <td>0.010417</td>\n",
       "      <td>1.0</td>\n",
       "      <td>3259248</td>\n",
       "      <td>5.285087e+05</td>\n",
       "    </tr>\n",
       "    <tr>\n",
       "      <th>2</th>\n",
       "      <td>MODERATE</td>\n",
       "      <td>0.129268</td>\n",
       "      <td>0.226841</td>\n",
       "      <td>0.010417</td>\n",
       "      <td>1.0</td>\n",
       "      <td>3026112</td>\n",
       "      <td>3.911793e+05</td>\n",
       "    </tr>\n",
       "    <tr>\n",
       "      <th>3</th>\n",
       "      <td>MODIFIER</td>\n",
       "      <td>0.114829</td>\n",
       "      <td>0.216623</td>\n",
       "      <td>0.010417</td>\n",
       "      <td>1.0</td>\n",
       "      <td>36590592</td>\n",
       "      <td>4.201671e+06</td>\n",
       "    </tr>\n",
       "  </tbody>\n",
       "</table>\n",
       "</div>"
      ],
      "text/plain": [
       "    impact1  impact_af.mean  impact_af.stdev  impact_af.min  impact_af.max  \\\n",
       "0      HIGH        0.027102         0.070298       0.010417            1.0   \n",
       "1       LOW        0.162157         0.246684       0.010417            1.0   \n",
       "2  MODERATE        0.129268         0.226841       0.010417            1.0   \n",
       "3  MODIFIER        0.114829         0.216623       0.010417            1.0   \n",
       "\n",
       "   impact_af.n  impact_af.sum  \n",
       "0      2654400   7.194070e+04  \n",
       "1      3259248   5.285087e+05  \n",
       "2      3026112   3.911793e+05  \n",
       "3     36590592   4.201671e+06  "
      ]
     },
     "execution_count": 10,
     "metadata": {},
     "output_type": "execute_result"
    }
   ],
   "source": [
    "results_pd"
   ]
  },
  {
   "cell_type": "markdown",
   "metadata": {},
   "source": [
    "### Site frequency spectrum"
   ]
  },
  {
   "cell_type": "code",
   "execution_count": 11,
   "metadata": {},
   "outputs": [],
   "source": [
    "from pycode.sfs import ffs"
   ]
  },
  {
   "cell_type": "code",
   "execution_count": 12,
   "metadata": {},
   "outputs": [],
   "source": [
    "ffs_dict = {}\n",
    "impact_list = ['LOW', 'MODIFIER', 'MODERATE', 'HIGH']\n",
    "for impact in impact_list:\n",
    "    mt_temp = mt.filter_rows(mt.impact1 == impact)\n",
    "    ht_result = ffs(mt_temp, hl)\n",
    "    ht_result = ht_result.annotate(impact=hl.str(impact))\n",
    "    ffs_dict[impact] = ht_result"
   ]
  },
  {
   "cell_type": "code",
   "execution_count": 13,
   "metadata": {},
   "outputs": [],
   "source": [
    "ht_ffs = ffs_dict[impact_list[0]]\n",
    "for i in range(1, 4):\n",
    "    ht_ffs = ht_ffs.union(ffs_dict[impact_list[i]])"
   ]
  },
  {
   "cell_type": "code",
   "execution_count": 14,
   "metadata": {},
   "outputs": [
    {
     "data": {
      "text/html": [
       "\n",
       "\n",
       "\n",
       "\n",
       "\n",
       "\n",
       "  <div class=\"bk-root\" id=\"30c78688-c3a2-4519-a4ae-1141a8adf1c6\" data-root-id=\"1002\"></div>\n"
      ]
     },
     "metadata": {},
     "output_type": "display_data"
    },
    {
     "data": {
      "application/javascript": [
       "(function(root) {\n",
       "  function embed_document(root) {\n",
       "    \n",
       "  var docs_json = {\"59d50979-d6e8-484d-816f-9e2e393f3fb4\":{\"roots\":{\"references\":[{\"attributes\":{\"below\":[{\"id\":\"1013\",\"type\":\"LinearAxis\"}],\"center\":[{\"id\":\"1017\",\"type\":\"Grid\"},{\"id\":\"1022\",\"type\":\"Grid\"}],\"left\":[{\"id\":\"1018\",\"type\":\"LinearAxis\"},{\"id\":\"1068\",\"type\":\"Legend\"},{\"id\":\"1069\",\"type\":\"ColorBar\"}],\"plot_height\":400,\"plot_width\":800,\"renderers\":[{\"id\":\"1045\",\"type\":\"GlyphRenderer\"},{\"id\":\"1051\",\"type\":\"GlyphRenderer\"},{\"id\":\"1057\",\"type\":\"GlyphRenderer\"},{\"id\":\"1063\",\"type\":\"GlyphRenderer\"}],\"title\":{\"id\":\"1003\",\"type\":\"Title\"},\"toolbar\":{\"id\":\"1029\",\"type\":\"Toolbar\"},\"x_range\":{\"id\":\"1005\",\"type\":\"DataRange1d\"},\"x_scale\":{\"id\":\"1009\",\"type\":\"LinearScale\"},\"y_range\":{\"id\":\"1007\",\"type\":\"DataRange1d\"},\"y_scale\":{\"id\":\"1011\",\"type\":\"LinearScale\"}},\"id\":\"1002\",\"subtype\":\"Figure\",\"type\":\"Plot\"},{\"attributes\":{\"active_drag\":\"auto\",\"active_inspect\":\"auto\",\"active_multi\":null,\"active_scroll\":\"auto\",\"active_tap\":\"auto\",\"tools\":[{\"id\":\"1023\",\"type\":\"PanTool\"},{\"id\":\"1024\",\"type\":\"WheelZoomTool\"},{\"id\":\"1025\",\"type\":\"BoxZoomTool\"},{\"id\":\"1026\",\"type\":\"SaveTool\"},{\"id\":\"1027\",\"type\":\"ResetTool\"},{\"id\":\"1028\",\"type\":\"HelpTool\"},{\"id\":\"1037\",\"type\":\"HoverTool\"}]},\"id\":\"1029\",\"type\":\"Toolbar\"},{\"attributes\":{\"bottom_units\":\"screen\",\"fill_alpha\":{\"value\":0.5},\"fill_color\":{\"value\":\"lightgrey\"},\"left_units\":\"screen\",\"level\":\"overlay\",\"line_alpha\":{\"value\":1.0},\"line_color\":{\"value\":\"black\"},\"line_dash\":[4,4],\"line_width\":{\"value\":2},\"render_mode\":\"css\",\"right_units\":\"screen\",\"top_units\":\"screen\"},\"id\":\"1079\",\"type\":\"BoxAnnotation\"},{\"attributes\":{\"fill_color\":{\"field\":\"label\",\"transform\":{\"id\":\"1039\",\"type\":\"CategoricalColorMapper\"}},\"line_color\":{\"field\":\"label\",\"transform\":{\"id\":\"1039\",\"type\":\"CategoricalColorMapper\"}},\"x\":{\"field\":\"x\"},\"y\":{\"field\":\"y\"}},\"id\":\"1055\",\"type\":\"Circle\"},{\"attributes\":{\"fill_color\":{\"field\":\"label\",\"transform\":{\"id\":\"1039\",\"type\":\"CategoricalColorMapper\"}},\"line_color\":{\"field\":\"label\",\"transform\":{\"id\":\"1039\",\"type\":\"CategoricalColorMapper\"}},\"x\":{\"field\":\"x\"},\"y\":{\"field\":\"y\"}},\"id\":\"1049\",\"type\":\"Circle\"},{\"attributes\":{\"fill_alpha\":{\"value\":0.1},\"fill_color\":{\"value\":\"#1f77b4\"},\"line_alpha\":{\"value\":0.1},\"line_color\":{\"value\":\"#1f77b4\"},\"x\":{\"field\":\"x\"},\"y\":{\"field\":\"y\"}},\"id\":\"1056\",\"type\":\"Circle\"},{\"attributes\":{\"column_name\":\"label\",\"group\":\"LOW\"},\"id\":\"1046\",\"type\":\"GroupFilter\"},{\"attributes\":{\"axis_label\":\"Frequency in population\",\"formatter\":{\"id\":\"1074\",\"type\":\"BasicTickFormatter\"},\"ticker\":{\"id\":\"1019\",\"type\":\"BasicTicker\"}},\"id\":\"1018\",\"type\":\"LinearAxis\"},{\"attributes\":{\"filters\":[{\"id\":\"1040\",\"type\":\"GroupFilter\"}],\"source\":{\"id\":\"1038\",\"type\":\"ColumnDataSource\"}},\"id\":\"1041\",\"type\":\"CDSView\"},{\"attributes\":{\"data_source\":{\"id\":\"1038\",\"type\":\"ColumnDataSource\"},\"glyph\":{\"id\":\"1055\",\"type\":\"Circle\"},\"hover_glyph\":null,\"muted_glyph\":null,\"nonselection_glyph\":{\"id\":\"1056\",\"type\":\"Circle\"},\"selection_glyph\":null,\"view\":{\"id\":\"1053\",\"type\":\"CDSView\"}},\"id\":\"1057\",\"type\":\"GlyphRenderer\"},{\"attributes\":{\"dimension\":1,\"ticker\":{\"id\":\"1019\",\"type\":\"BasicTicker\"}},\"id\":\"1022\",\"type\":\"Grid\"},{\"attributes\":{\"callback\":null},\"id\":\"1007\",\"type\":\"DataRange1d\"},{\"attributes\":{\"filters\":[{\"id\":\"1046\",\"type\":\"GroupFilter\"}],\"source\":{\"id\":\"1038\",\"type\":\"ColumnDataSource\"}},\"id\":\"1047\",\"type\":\"CDSView\"},{\"attributes\":{},\"id\":\"1023\",\"type\":\"PanTool\"},{\"attributes\":{\"column_name\":\"label\",\"group\":\"MODIFIER\"},\"id\":\"1058\",\"type\":\"GroupFilter\"},{\"attributes\":{\"fill_alpha\":{\"value\":0.1},\"fill_color\":{\"value\":\"#1f77b4\"},\"line_alpha\":{\"value\":0.1},\"line_color\":{\"value\":\"#1f77b4\"},\"x\":{\"field\":\"x\"},\"y\":{\"field\":\"y\"}},\"id\":\"1050\",\"type\":\"Circle\"},{\"attributes\":{},\"id\":\"1078\",\"type\":\"Selection\"},{\"attributes\":{\"data_source\":{\"id\":\"1038\",\"type\":\"ColumnDataSource\"},\"glyph\":{\"id\":\"1043\",\"type\":\"Circle\"},\"hover_glyph\":null,\"muted_glyph\":null,\"nonselection_glyph\":{\"id\":\"1044\",\"type\":\"Circle\"},\"selection_glyph\":null,\"view\":{\"id\":\"1041\",\"type\":\"CDSView\"}},\"id\":\"1045\",\"type\":\"GlyphRenderer\"},{\"attributes\":{\"filters\":[{\"id\":\"1058\",\"type\":\"GroupFilter\"}],\"source\":{\"id\":\"1038\",\"type\":\"ColumnDataSource\"}},\"id\":\"1059\",\"type\":\"CDSView\"},{\"attributes\":{\"data_source\":{\"id\":\"1038\",\"type\":\"ColumnDataSource\"},\"glyph\":{\"id\":\"1049\",\"type\":\"Circle\"},\"hover_glyph\":null,\"muted_glyph\":null,\"nonselection_glyph\":{\"id\":\"1050\",\"type\":\"Circle\"},\"selection_glyph\":null,\"view\":{\"id\":\"1047\",\"type\":\"CDSView\"}},\"id\":\"1051\",\"type\":\"GlyphRenderer\"},{\"attributes\":{\"factors\":[\"MODIFIER\",\"HIGH\",\"LOW\",\"MODERATE\"],\"palette\":[\"#1f77b4\",\"#ff7f0e\",\"#2ca02c\",\"#d62728\",\"#9467bd\",\"#8c564b\",\"#e377c2\",\"#7f7f7f\",\"#bcbd22\",\"#17becf\"]},\"id\":\"1039\",\"type\":\"CategoricalColorMapper\"},{\"attributes\":{},\"id\":\"1009\",\"type\":\"LinearScale\"},{\"attributes\":{},\"id\":\"1072\",\"type\":\"BasicTickFormatter\"},{\"attributes\":{},\"id\":\"1026\",\"type\":\"SaveTool\"},{\"attributes\":{},\"id\":\"1028\",\"type\":\"HelpTool\"},{\"attributes\":{\"fill_color\":{\"field\":\"label\",\"transform\":{\"id\":\"1039\",\"type\":\"CategoricalColorMapper\"}},\"line_color\":{\"field\":\"label\",\"transform\":{\"id\":\"1039\",\"type\":\"CategoricalColorMapper\"}},\"x\":{\"field\":\"x\"},\"y\":{\"field\":\"y\"}},\"id\":\"1061\",\"type\":\"Circle\"},{\"attributes\":{\"fill_alpha\":{\"value\":0.1},\"fill_color\":{\"value\":\"#1f77b4\"},\"line_alpha\":{\"value\":0.1},\"line_color\":{\"value\":\"#1f77b4\"},\"x\":{\"field\":\"x\"},\"y\":{\"field\":\"y\"}},\"id\":\"1062\",\"type\":\"Circle\"},{\"attributes\":{\"callback\":null},\"id\":\"1005\",\"type\":\"DataRange1d\"},{\"attributes\":{\"text\":\"Site frequency spectrum (folded)\"},\"id\":\"1003\",\"type\":\"Title\"},{\"attributes\":{\"data_source\":{\"id\":\"1038\",\"type\":\"ColumnDataSource\"},\"glyph\":{\"id\":\"1061\",\"type\":\"Circle\"},\"hover_glyph\":null,\"muted_glyph\":null,\"nonselection_glyph\":{\"id\":\"1062\",\"type\":\"Circle\"},\"selection_glyph\":null,\"view\":{\"id\":\"1059\",\"type\":\"CDSView\"}},\"id\":\"1063\",\"type\":\"GlyphRenderer\"},{\"attributes\":{\"axis_label\":\"Allele counts\",\"formatter\":{\"id\":\"1072\",\"type\":\"BasicTickFormatter\"},\"ticker\":{\"id\":\"1014\",\"type\":\"BasicTicker\"}},\"id\":\"1013\",\"type\":\"LinearAxis\"},{\"attributes\":{\"label\":{\"value\":\"MODERATE\"},\"renderers\":[{\"id\":\"1057\",\"type\":\"GlyphRenderer\"}]},\"id\":\"1066\",\"type\":\"LegendItem\"},{\"attributes\":{\"ticker\":{\"id\":\"1014\",\"type\":\"BasicTicker\"}},\"id\":\"1017\",\"type\":\"Grid\"},{\"attributes\":{\"callback\":null,\"tooltips\":[[\"x\",\"@x\"],[\"y\",\"@y\"],[\"label\",\"@label\"]]},\"id\":\"1037\",\"type\":\"HoverTool\"},{\"attributes\":{\"label\":{\"value\":\"MODIFIER\"},\"renderers\":[{\"id\":\"1063\",\"type\":\"GlyphRenderer\"}]},\"id\":\"1067\",\"type\":\"LegendItem\"},{\"attributes\":{},\"id\":\"1024\",\"type\":\"WheelZoomTool\"},{\"attributes\":{\"click_policy\":\"hide\",\"items\":[{\"id\":\"1064\",\"type\":\"LegendItem\"},{\"id\":\"1065\",\"type\":\"LegendItem\"},{\"id\":\"1066\",\"type\":\"LegendItem\"},{\"id\":\"1067\",\"type\":\"LegendItem\"}]},\"id\":\"1068\",\"type\":\"Legend\"},{\"attributes\":{},\"id\":\"1074\",\"type\":\"BasicTickFormatter\"},{\"attributes\":{\"color_mapper\":null,\"formatter\":{\"id\":\"1076\",\"type\":\"BasicTickFormatter\"},\"ticker\":{\"id\":\"1075\",\"type\":\"BasicTicker\"},\"visible\":false},\"id\":\"1069\",\"type\":\"ColorBar\"},{\"attributes\":{},\"id\":\"1019\",\"type\":\"BasicTicker\"},{\"attributes\":{\"fill_alpha\":{\"value\":0.1},\"fill_color\":{\"value\":\"#1f77b4\"},\"line_alpha\":{\"value\":0.1},\"line_color\":{\"value\":\"#1f77b4\"},\"x\":{\"field\":\"x\"},\"y\":{\"field\":\"y\"}},\"id\":\"1044\",\"type\":\"Circle\"},{\"attributes\":{\"column_name\":\"label\",\"group\":\"HIGH\"},\"id\":\"1040\",\"type\":\"GroupFilter\"},{\"attributes\":{\"overlay\":{\"id\":\"1079\",\"type\":\"BoxAnnotation\"}},\"id\":\"1025\",\"type\":\"BoxZoomTool\"},{\"attributes\":{\"label\":{\"value\":\"HIGH\"},\"renderers\":[{\"id\":\"1045\",\"type\":\"GlyphRenderer\"}]},\"id\":\"1064\",\"type\":\"LegendItem\"},{\"attributes\":{},\"id\":\"1075\",\"type\":\"BasicTicker\"},{\"attributes\":{},\"id\":\"1011\",\"type\":\"LinearScale\"},{\"attributes\":{\"callback\":null,\"data\":{\"index\":[0,1,2,3,4,5,6,7,8,9,10,11,12,13,14,15,16,17,18,19,20,21,22,23,24,25,26,27,28,29,30,31,32,33,34,35,36,37,38,39,40,41,42,43,44,45,46,47,48,49,50,51,52,53,54,55,56,57,58,59,60,61,62,63,64,65,66,67,68,69,70,71,72,73,74,75,76,77,78,79,80,81,82,83,84,85,86,87,88,89,90,91,92,93,94,95,96,97,98,99,100,101,102,103,104,105,106,107,108,109,110,111,112,113,114,115,116,117,118,119,120,121,122,123,124,125,126,127,128,129,130,131,132,133,134,135,136,137,138,139,140,141,142,143,144,145,146,147,148,149,150,151,152,153,154,155,156,157,158,159,160,161,162,163,164,165,166,167,168,169,170,171,172,173,174,175,176,177,178,179,180,181,182,183,184,185,186,187,188,189,190,191],\"label\":[\"LOW\",\"LOW\",\"LOW\",\"LOW\",\"LOW\",\"LOW\",\"LOW\",\"LOW\",\"LOW\",\"LOW\",\"LOW\",\"LOW\",\"LOW\",\"LOW\",\"LOW\",\"LOW\",\"LOW\",\"LOW\",\"LOW\",\"LOW\",\"LOW\",\"LOW\",\"LOW\",\"LOW\",\"LOW\",\"LOW\",\"LOW\",\"LOW\",\"LOW\",\"LOW\",\"LOW\",\"LOW\",\"LOW\",\"LOW\",\"LOW\",\"LOW\",\"LOW\",\"LOW\",\"LOW\",\"LOW\",\"LOW\",\"LOW\",\"LOW\",\"LOW\",\"LOW\",\"LOW\",\"LOW\",\"LOW\",\"MODIFIER\",\"MODIFIER\",\"MODIFIER\",\"MODIFIER\",\"MODIFIER\",\"MODIFIER\",\"MODIFIER\",\"MODIFIER\",\"MODIFIER\",\"MODIFIER\",\"MODIFIER\",\"MODIFIER\",\"MODIFIER\",\"MODIFIER\",\"MODIFIER\",\"MODIFIER\",\"MODIFIER\",\"MODIFIER\",\"MODIFIER\",\"MODIFIER\",\"MODIFIER\",\"MODIFIER\",\"MODIFIER\",\"MODIFIER\",\"MODIFIER\",\"MODIFIER\",\"MODIFIER\",\"MODIFIER\",\"MODIFIER\",\"MODIFIER\",\"MODIFIER\",\"MODIFIER\",\"MODIFIER\",\"MODIFIER\",\"MODIFIER\",\"MODIFIER\",\"MODIFIER\",\"MODIFIER\",\"MODIFIER\",\"MODIFIER\",\"MODIFIER\",\"MODIFIER\",\"MODIFIER\",\"MODIFIER\",\"MODIFIER\",\"MODIFIER\",\"MODIFIER\",\"MODIFIER\",\"MODERATE\",\"MODERATE\",\"MODERATE\",\"MODERATE\",\"MODERATE\",\"MODERATE\",\"MODERATE\",\"MODERATE\",\"MODERATE\",\"MODERATE\",\"MODERATE\",\"MODERATE\",\"MODERATE\",\"MODERATE\",\"MODERATE\",\"MODERATE\",\"MODERATE\",\"MODERATE\",\"MODERATE\",\"MODERATE\",\"MODERATE\",\"MODERATE\",\"MODERATE\",\"MODERATE\",\"MODERATE\",\"MODERATE\",\"MODERATE\",\"MODERATE\",\"MODERATE\",\"MODERATE\",\"MODERATE\",\"MODERATE\",\"MODERATE\",\"MODERATE\",\"MODERATE\",\"MODERATE\",\"MODERATE\",\"MODERATE\",\"MODERATE\",\"MODERATE\",\"MODERATE\",\"MODERATE\",\"MODERATE\",\"MODERATE\",\"MODERATE\",\"MODERATE\",\"MODERATE\",\"MODERATE\",\"HIGH\",\"HIGH\",\"HIGH\",\"HIGH\",\"HIGH\",\"HIGH\",\"HIGH\",\"HIGH\",\"HIGH\",\"HIGH\",\"HIGH\",\"HIGH\",\"HIGH\",\"HIGH\",\"HIGH\",\"HIGH\",\"HIGH\",\"HIGH\",\"HIGH\",\"HIGH\",\"HIGH\",\"HIGH\",\"HIGH\",\"HIGH\",\"HIGH\",\"HIGH\",\"HIGH\",\"HIGH\",\"HIGH\",\"HIGH\",\"HIGH\",\"HIGH\",\"HIGH\",\"HIGH\",\"HIGH\",\"HIGH\",\"HIGH\",\"HIGH\",\"HIGH\",\"HIGH\",\"HIGH\",\"HIGH\",\"HIGH\",\"HIGH\",\"HIGH\",\"HIGH\",\"HIGH\",\"HIGH\"],\"x\":[1,1,2,3,4,5,6,7,8,9,10,11,12,13,14,15,16,17,18,19,20,21,22,23,24,25,26,27,28,29,30,31,32,33,34,35,36,37,38,39,40,41,42,43,44,45,46,47,1,1,2,3,4,5,6,7,8,9,10,11,12,13,14,15,16,17,18,19,20,21,22,23,24,25,26,27,28,29,30,31,32,33,34,35,36,37,38,39,40,41,42,43,44,45,46,47,1,1,2,3,4,5,6,7,8,9,10,11,12,13,14,15,16,17,18,19,20,21,22,23,24,25,26,27,28,29,30,31,32,33,34,35,36,37,38,39,40,41,42,43,44,45,46,47,1,1,2,3,4,5,6,7,8,9,10,11,12,13,14,15,16,17,18,19,20,21,22,23,24,25,26,27,28,29,30,31,32,33,34,35,36,37,38,39,40,41,42,43,44,45,46,47],\"y\":{\"__ndarray__\":\"AAAAgKm91j8AAAAgU12/PwAAAKAaGbA/AAAA4NiApT8AAADAWkahPwAAAKAfh5k/AAAAgFLzlT8AAABgtIuSPwAAAMBaRpE/AAAAAPEAjz8AAABgis2LPwAAAGCK3Io/AAAA4MVBiD8AAADAVveFPwAAAIABmIY/AAAAoFYVhD8AAAAg36SDPwAAAMDnrIM/AAAAYLSLgj8AAABAEgKBPwAAAKCJgYA/AAAA4M3BgD8AAACAeZ99PwAAACA1bnw/AAAAoIqgfj8AAABgaIB+PwAAAMDO/nw/AAAAgIqvfT8AAACAir58PwAAAOABPnw/AAAAgL0bej8AAACAzjp5PwAAAGCb7Ho/AAAAACRefD8AAACArO17PwAAAMABXHo/AAAA4COLeT8AAADgEmx6PwAAAAATTnw/AAAAwAFcej8AAABAivp4PwAAAOASbHo/AAAAQHnMej8AAADgI3x6PwAAAICbznw/AAAAAEacej8AAACAir58PwAAACBGfnw/AAAAQIDx3z8AAACASEe/PwAAAADbYq0/AAAAoI2joj8AAACgE52aPwAAAMARuJQ/AAAAYAcvkT8AAABAgLqMPwAAAIDUwYg/AAAAYCQBhj8AAAAAcSCEPwAAAOBJFoI/AAAAoPAJgT8AAABAGi5/PwAAAKDCqX0/AAAAYEAbez8AAADgzNl6PwAAAEBI63g/AAAAgKgPeD8AAADgIbF2PwAAAKBrmHU/AAAA4OEZdT8AAABgKxF0PwAAAKCg0nM/AAAAoNOccj8AAABg06xyPwAAAGCQ5XE/AAAAQBzUcT8AAABgqiJxPwAAAMB1om8/AAAA4I4fbz8AAADg7ZNuPwAAAMC62W8/AAAA4HzYcD8AAACgxE9wPwAAAMCsgnA/AAAAYCC0cD8AAABABzdxPwAAAGAFt3E/AAAAwBy0cT8AAACgqKJxPwAAAMB7KHE/AAAAoNg8cT8AAABgqLJxPwAAAMB5uHE/AAAAADSxcT8AAACAkZVxPwAAAOCNlXI/AAAAQMMj2z8AAADAjPbAPwAAAICHfLA/AAAAQFRxpT8AAADgbZyfPwAAACBlz5g/AAAAoCKHkz8AAACAQw2RPwAAAIDAj48/AAAAQIbqiT8AAAAAyAKHPwAAAECvE4c/AAAAoAFygz8AAAAAdW6BPwAAAKBDloI/AAAAoOh2gT8AAAAAj7F/PwAAACAaT4A/AAAAoApRfT8AAACAbQF7PwAAAOD58nk/AAAAoHWeeT8AAADAGn94PwAAAEBU7nQ/AAAAgDv/dD8AAAAgjnV1PwAAAKDYTnc/AAAAQFTudD8AAACgXJd1PwAAAIA7/3Q/AAAAANCNcj8AAABAGltyPwAAAIBDkHE/AAAAYNhCdT8AAABgnq9yPwAAAEAaW3I/AAAAoAF4dD8AAACgv1N1PwAAAEDYNnM/AAAAoCIEcz8AAADgrvVxPwAAAECvDXY/AAAAAExFdD8AAACgIgRzPwAAAGBci3M/AAAA4GzRcj8AAACgQ5xzPwAAAGCvGXg/AAAAgEx45z8AAAAgSse8PwAAAGDMw6c/AAAAYJGZmj8AAAAAheCQPwAAAIC8TIY/AAAA4CHvgD8AAADgeOB5PwAAAMD333I/AAAAYKDVbT8AAADgkWtpPwAAAIC98GM/AAAAIM6iYz8AAACgWwxhPwAAAGBsvmA/AAAAYAQCXD8AAABgH9VWPwAAAMDcDFg/AAAAIH9xTj8AAABgCJJSPwAAAIA8qU8/AAAA4EbKSj8AAAAgzFpIPwAAAGA6qEE/AAAA4JOzRD8AAABAUetFPwAAACB/cT4/AAAAIBlEQj8AAAAAfXBAPwAAAGA6qEE/AAAAIBlEQj8AAAAgf3E+PwAAAAB9cEA/AAAAIMxaOD8AAADgRso6PwAAAOCTszQ/AAAAwA4jNz8AAADAwTk9PwAAAGAEAjw/AAAAIBlEMj8AAAAgzFo4PwAAAMDBOS0/AAAAYAQCPD8AAABgBAI8PwAAAEBR6zU/AAAAgNZ7Mz8AAABgBAI8PwAAACDMWig/\",\"dtype\":\"float64\",\"shape\":[192]}},\"selected\":{\"id\":\"1078\",\"type\":\"Selection\"},\"selection_policy\":{\"id\":\"1077\",\"type\":\"UnionRenderers\"}},\"id\":\"1038\",\"type\":\"ColumnDataSource\"},{\"attributes\":{},\"id\":\"1076\",\"type\":\"BasicTickFormatter\"},{\"attributes\":{},\"id\":\"1014\",\"type\":\"BasicTicker\"},{\"attributes\":{},\"id\":\"1027\",\"type\":\"ResetTool\"},{\"attributes\":{\"column_name\":\"label\",\"group\":\"MODERATE\"},\"id\":\"1052\",\"type\":\"GroupFilter\"},{\"attributes\":{\"label\":{\"value\":\"LOW\"},\"renderers\":[{\"id\":\"1051\",\"type\":\"GlyphRenderer\"}]},\"id\":\"1065\",\"type\":\"LegendItem\"},{\"attributes\":{},\"id\":\"1077\",\"type\":\"UnionRenderers\"},{\"attributes\":{\"filters\":[{\"id\":\"1052\",\"type\":\"GroupFilter\"}],\"source\":{\"id\":\"1038\",\"type\":\"ColumnDataSource\"}},\"id\":\"1053\",\"type\":\"CDSView\"},{\"attributes\":{\"fill_color\":{\"field\":\"label\",\"transform\":{\"id\":\"1039\",\"type\":\"CategoricalColorMapper\"}},\"line_color\":{\"field\":\"label\",\"transform\":{\"id\":\"1039\",\"type\":\"CategoricalColorMapper\"}},\"x\":{\"field\":\"x\"},\"y\":{\"field\":\"y\"}},\"id\":\"1043\",\"type\":\"Circle\"}],\"root_ids\":[\"1002\"]},\"title\":\"Bokeh Application\",\"version\":\"1.2.0\"}};\n",
       "  var render_items = [{\"docid\":\"59d50979-d6e8-484d-816f-9e2e393f3fb4\",\"roots\":{\"1002\":\"30c78688-c3a2-4519-a4ae-1141a8adf1c6\"}}];\n",
       "  root.Bokeh.embed.embed_items_notebook(docs_json, render_items);\n",
       "\n",
       "  }\n",
       "  if (root.Bokeh !== undefined) {\n",
       "    embed_document(root);\n",
       "  } else {\n",
       "    var attempts = 0;\n",
       "    var timer = setInterval(function(root) {\n",
       "      if (root.Bokeh !== undefined) {\n",
       "        embed_document(root);\n",
       "        clearInterval(timer);\n",
       "      }\n",
       "      attempts++;\n",
       "      if (attempts > 100) {\n",
       "        console.log(\"Bokeh: ERROR: Unable to run BokehJS code because BokehJS library is missing\");\n",
       "        clearInterval(timer);\n",
       "      }\n",
       "    }, 10, root)\n",
       "  }\n",
       "})(window);"
      ],
      "application/vnd.bokehjs_exec.v0+json": ""
     },
     "metadata": {
      "application/vnd.bokehjs_exec.v0+json": {
       "id": "1002"
      }
     },
     "output_type": "display_data"
    }
   ],
   "source": [
    "p = hl.plot.scatter(ht_ffs.ac, ht_ffs.ff, label=ht_ffs.impact,\n",
    "                    xlabel='Allele counts', ylabel='Frequency in population', title='Site frequency spectrum (folded)',\n",
    "                    collect_all=True)\n",
    "p.plot_width = 800\n",
    "p.plot_height = 400\n",
    "show(p)"
   ]
  },
  {
   "cell_type": "code",
   "execution_count": 15,
   "metadata": {},
   "outputs": [
    {
     "data": {
      "text/html": [
       "\n",
       "\n",
       "\n",
       "\n",
       "\n",
       "\n",
       "  <div class=\"bk-root\" id=\"23b6a789-ff5d-42a8-af17-ef9531c84009\" data-root-id=\"1140\"></div>\n"
      ]
     },
     "metadata": {},
     "output_type": "display_data"
    },
    {
     "data": {
      "application/javascript": [
       "(function(root) {\n",
       "  function embed_document(root) {\n",
       "    \n",
       "  var docs_json = {\"fd6f7933-04f4-4970-98e5-e127f4ec7d5e\":{\"roots\":{\"references\":[{\"attributes\":{\"below\":[{\"id\":\"1151\",\"type\":\"LinearAxis\"}],\"center\":[{\"id\":\"1155\",\"type\":\"Grid\"},{\"id\":\"1160\",\"type\":\"Grid\"}],\"left\":[{\"id\":\"1156\",\"type\":\"LinearAxis\"},{\"id\":\"1206\",\"type\":\"Legend\"},{\"id\":\"1207\",\"type\":\"ColorBar\"}],\"plot_height\":400,\"plot_width\":800,\"renderers\":[{\"id\":\"1183\",\"type\":\"GlyphRenderer\"},{\"id\":\"1189\",\"type\":\"GlyphRenderer\"},{\"id\":\"1195\",\"type\":\"GlyphRenderer\"},{\"id\":\"1201\",\"type\":\"GlyphRenderer\"}],\"title\":{\"id\":\"1141\",\"type\":\"Title\"},\"toolbar\":{\"id\":\"1167\",\"type\":\"Toolbar\"},\"x_range\":{\"id\":\"1143\",\"type\":\"DataRange1d\"},\"x_scale\":{\"id\":\"1147\",\"type\":\"LinearScale\"},\"y_range\":{\"id\":\"1145\",\"type\":\"DataRange1d\"},\"y_scale\":{\"id\":\"1208\",\"type\":\"LogScale\"}},\"id\":\"1140\",\"subtype\":\"Figure\",\"type\":\"Plot\"},{\"attributes\":{\"data_source\":{\"id\":\"1176\",\"type\":\"ColumnDataSource\"},\"glyph\":{\"id\":\"1193\",\"type\":\"Circle\"},\"hover_glyph\":null,\"muted_glyph\":null,\"nonselection_glyph\":{\"id\":\"1194\",\"type\":\"Circle\"},\"selection_glyph\":null,\"view\":{\"id\":\"1191\",\"type\":\"CDSView\"}},\"id\":\"1195\",\"type\":\"GlyphRenderer\"},{\"attributes\":{\"filters\":[{\"id\":\"1178\",\"type\":\"GroupFilter\"}],\"source\":{\"id\":\"1176\",\"type\":\"ColumnDataSource\"}},\"id\":\"1179\",\"type\":\"CDSView\"},{\"attributes\":{\"factors\":[\"MODIFIER\",\"HIGH\",\"LOW\",\"MODERATE\"],\"palette\":[\"#1f77b4\",\"#ff7f0e\",\"#2ca02c\",\"#d62728\",\"#9467bd\",\"#8c564b\",\"#e377c2\",\"#7f7f7f\",\"#bcbd22\",\"#17becf\"]},\"id\":\"1177\",\"type\":\"CategoricalColorMapper\"},{\"attributes\":{},\"id\":\"1165\",\"type\":\"ResetTool\"},{\"attributes\":{},\"id\":\"1162\",\"type\":\"WheelZoomTool\"},{\"attributes\":{\"column_name\":\"label\",\"group\":\"MODIFIER\"},\"id\":\"1196\",\"type\":\"GroupFilter\"},{\"attributes\":{\"fill_color\":{\"field\":\"label\",\"transform\":{\"id\":\"1177\",\"type\":\"CategoricalColorMapper\"}},\"line_color\":{\"field\":\"label\",\"transform\":{\"id\":\"1177\",\"type\":\"CategoricalColorMapper\"}},\"x\":{\"field\":\"x\"},\"y\":{\"field\":\"y\"}},\"id\":\"1181\",\"type\":\"Circle\"},{\"attributes\":{},\"id\":\"1223\",\"type\":\"BasicTickFormatter\"},{\"attributes\":{\"filters\":[{\"id\":\"1196\",\"type\":\"GroupFilter\"}],\"source\":{\"id\":\"1176\",\"type\":\"ColumnDataSource\"}},\"id\":\"1197\",\"type\":\"CDSView\"},{\"attributes\":{\"overlay\":{\"id\":\"1228\",\"type\":\"BoxAnnotation\"}},\"id\":\"1163\",\"type\":\"BoxZoomTool\"},{\"attributes\":{\"label\":{\"value\":\"LOW\"},\"renderers\":[{\"id\":\"1189\",\"type\":\"GlyphRenderer\"}]},\"id\":\"1203\",\"type\":\"LegendItem\"},{\"attributes\":{\"fill_color\":{\"field\":\"label\",\"transform\":{\"id\":\"1177\",\"type\":\"CategoricalColorMapper\"}},\"line_color\":{\"field\":\"label\",\"transform\":{\"id\":\"1177\",\"type\":\"CategoricalColorMapper\"}},\"x\":{\"field\":\"x\"},\"y\":{\"field\":\"y\"}},\"id\":\"1199\",\"type\":\"Circle\"},{\"attributes\":{\"label\":{\"value\":\"HIGH\"},\"renderers\":[{\"id\":\"1183\",\"type\":\"GlyphRenderer\"}]},\"id\":\"1202\",\"type\":\"LegendItem\"},{\"attributes\":{\"fill_alpha\":{\"value\":0.1},\"fill_color\":{\"value\":\"#1f77b4\"},\"line_alpha\":{\"value\":0.1},\"line_color\":{\"value\":\"#1f77b4\"},\"x\":{\"field\":\"x\"},\"y\":{\"field\":\"y\"}},\"id\":\"1200\",\"type\":\"Circle\"},{\"attributes\":{},\"id\":\"1164\",\"type\":\"SaveTool\"},{\"attributes\":{\"fill_alpha\":{\"value\":0.1},\"fill_color\":{\"value\":\"#1f77b4\"},\"line_alpha\":{\"value\":0.1},\"line_color\":{\"value\":\"#1f77b4\"},\"x\":{\"field\":\"x\"},\"y\":{\"field\":\"y\"}},\"id\":\"1182\",\"type\":\"Circle\"},{\"attributes\":{\"data_source\":{\"id\":\"1176\",\"type\":\"ColumnDataSource\"},\"glyph\":{\"id\":\"1199\",\"type\":\"Circle\"},\"hover_glyph\":null,\"muted_glyph\":null,\"nonselection_glyph\":{\"id\":\"1200\",\"type\":\"Circle\"},\"selection_glyph\":null,\"view\":{\"id\":\"1197\",\"type\":\"CDSView\"}},\"id\":\"1201\",\"type\":\"GlyphRenderer\"},{\"attributes\":{\"data_source\":{\"id\":\"1176\",\"type\":\"ColumnDataSource\"},\"glyph\":{\"id\":\"1181\",\"type\":\"Circle\"},\"hover_glyph\":null,\"muted_glyph\":null,\"nonselection_glyph\":{\"id\":\"1182\",\"type\":\"Circle\"},\"selection_glyph\":null,\"view\":{\"id\":\"1179\",\"type\":\"CDSView\"}},\"id\":\"1183\",\"type\":\"GlyphRenderer\"},{\"attributes\":{\"label\":{\"value\":\"MODERATE\"},\"renderers\":[{\"id\":\"1195\",\"type\":\"GlyphRenderer\"}]},\"id\":\"1204\",\"type\":\"LegendItem\"},{\"attributes\":{\"column_name\":\"label\",\"group\":\"LOW\"},\"id\":\"1184\",\"type\":\"GroupFilter\"},{\"attributes\":{\"text\":\"Site frequency spectrum (folded)\"},\"id\":\"1141\",\"type\":\"Title\"},{\"attributes\":{\"label\":{\"value\":\"MODIFIER\"},\"renderers\":[{\"id\":\"1201\",\"type\":\"GlyphRenderer\"}]},\"id\":\"1205\",\"type\":\"LegendItem\"},{\"attributes\":{\"filters\":[{\"id\":\"1184\",\"type\":\"GroupFilter\"}],\"source\":{\"id\":\"1176\",\"type\":\"ColumnDataSource\"}},\"id\":\"1185\",\"type\":\"CDSView\"},{\"attributes\":{\"callback\":null},\"id\":\"1143\",\"type\":\"DataRange1d\"},{\"attributes\":{\"click_policy\":\"hide\",\"items\":[{\"id\":\"1202\",\"type\":\"LegendItem\"},{\"id\":\"1203\",\"type\":\"LegendItem\"},{\"id\":\"1204\",\"type\":\"LegendItem\"},{\"id\":\"1205\",\"type\":\"LegendItem\"}]},\"id\":\"1206\",\"type\":\"Legend\"},{\"attributes\":{\"callback\":null},\"id\":\"1145\",\"type\":\"DataRange1d\"},{\"attributes\":{\"color_mapper\":null,\"formatter\":{\"id\":\"1225\",\"type\":\"BasicTickFormatter\"},\"ticker\":{\"id\":\"1224\",\"type\":\"BasicTicker\"},\"visible\":false},\"id\":\"1207\",\"type\":\"ColorBar\"},{\"attributes\":{\"fill_color\":{\"field\":\"label\",\"transform\":{\"id\":\"1177\",\"type\":\"CategoricalColorMapper\"}},\"line_color\":{\"field\":\"label\",\"transform\":{\"id\":\"1177\",\"type\":\"CategoricalColorMapper\"}},\"x\":{\"field\":\"x\"},\"y\":{\"field\":\"y\"}},\"id\":\"1187\",\"type\":\"Circle\"},{\"attributes\":{},\"id\":\"1147\",\"type\":\"LinearScale\"},{\"attributes\":{\"fill_alpha\":{\"value\":0.1},\"fill_color\":{\"value\":\"#1f77b4\"},\"line_alpha\":{\"value\":0.1},\"line_color\":{\"value\":\"#1f77b4\"},\"x\":{\"field\":\"x\"},\"y\":{\"field\":\"y\"}},\"id\":\"1188\",\"type\":\"Circle\"},{\"attributes\":{},\"id\":\"1221\",\"type\":\"BasicTickFormatter\"},{\"attributes\":{},\"id\":\"1224\",\"type\":\"BasicTicker\"},{\"attributes\":{\"data_source\":{\"id\":\"1176\",\"type\":\"ColumnDataSource\"},\"glyph\":{\"id\":\"1187\",\"type\":\"Circle\"},\"hover_glyph\":null,\"muted_glyph\":null,\"nonselection_glyph\":{\"id\":\"1188\",\"type\":\"Circle\"},\"selection_glyph\":null,\"view\":{\"id\":\"1185\",\"type\":\"CDSView\"}},\"id\":\"1189\",\"type\":\"GlyphRenderer\"},{\"attributes\":{\"callback\":null,\"tooltips\":[[\"x\",\"@x\"],[\"y\",\"@y\"],[\"label\",\"@label\"]]},\"id\":\"1175\",\"type\":\"HoverTool\"},{\"attributes\":{\"axis_label\":\"Allele counts\",\"formatter\":{\"id\":\"1221\",\"type\":\"BasicTickFormatter\"},\"ticker\":{\"id\":\"1152\",\"type\":\"BasicTicker\"}},\"id\":\"1151\",\"type\":\"LinearAxis\"},{\"attributes\":{},\"id\":\"1225\",\"type\":\"BasicTickFormatter\"},{\"attributes\":{\"column_name\":\"label\",\"group\":\"HIGH\"},\"id\":\"1178\",\"type\":\"GroupFilter\"},{\"attributes\":{\"column_name\":\"label\",\"group\":\"MODERATE\"},\"id\":\"1190\",\"type\":\"GroupFilter\"},{\"attributes\":{},\"id\":\"1152\",\"type\":\"BasicTicker\"},{\"attributes\":{\"callback\":null,\"data\":{\"index\":[0,1,2,3,4,5,6,7,8,9,10,11,12,13,14,15,16,17,18,19,20,21,22,23,24,25,26,27,28,29,30,31,32,33,34,35,36,37,38,39,40,41,42,43,44,45,46,47,48,49,50,51,52,53,54,55,56,57,58,59,60,61,62,63,64,65,66,67,68,69,70,71,72,73,74,75,76,77,78,79,80,81,82,83,84,85,86,87,88,89,90,91,92,93,94,95,96,97,98,99,100,101,102,103,104,105,106,107,108,109,110,111,112,113,114,115,116,117,118,119,120,121,122,123,124,125,126,127,128,129,130,131,132,133,134,135,136,137,138,139,140,141,142,143,144,145,146,147,148,149,150,151,152,153,154,155,156,157,158,159,160,161,162,163,164,165,166,167,168,169,170,171,172,173,174,175,176,177,178,179,180,181,182,183,184,185,186,187,188,189,190,191],\"label\":[\"LOW\",\"LOW\",\"LOW\",\"LOW\",\"LOW\",\"LOW\",\"LOW\",\"LOW\",\"LOW\",\"LOW\",\"LOW\",\"LOW\",\"LOW\",\"LOW\",\"LOW\",\"LOW\",\"LOW\",\"LOW\",\"LOW\",\"LOW\",\"LOW\",\"LOW\",\"LOW\",\"LOW\",\"LOW\",\"LOW\",\"LOW\",\"LOW\",\"LOW\",\"LOW\",\"LOW\",\"LOW\",\"LOW\",\"LOW\",\"LOW\",\"LOW\",\"LOW\",\"LOW\",\"LOW\",\"LOW\",\"LOW\",\"LOW\",\"LOW\",\"LOW\",\"LOW\",\"LOW\",\"LOW\",\"LOW\",\"MODIFIER\",\"MODIFIER\",\"MODIFIER\",\"MODIFIER\",\"MODIFIER\",\"MODIFIER\",\"MODIFIER\",\"MODIFIER\",\"MODIFIER\",\"MODIFIER\",\"MODIFIER\",\"MODIFIER\",\"MODIFIER\",\"MODIFIER\",\"MODIFIER\",\"MODIFIER\",\"MODIFIER\",\"MODIFIER\",\"MODIFIER\",\"MODIFIER\",\"MODIFIER\",\"MODIFIER\",\"MODIFIER\",\"MODIFIER\",\"MODIFIER\",\"MODIFIER\",\"MODIFIER\",\"MODIFIER\",\"MODIFIER\",\"MODIFIER\",\"MODIFIER\",\"MODIFIER\",\"MODIFIER\",\"MODIFIER\",\"MODIFIER\",\"MODIFIER\",\"MODIFIER\",\"MODIFIER\",\"MODIFIER\",\"MODIFIER\",\"MODIFIER\",\"MODIFIER\",\"MODIFIER\",\"MODIFIER\",\"MODIFIER\",\"MODIFIER\",\"MODIFIER\",\"MODIFIER\",\"MODERATE\",\"MODERATE\",\"MODERATE\",\"MODERATE\",\"MODERATE\",\"MODERATE\",\"MODERATE\",\"MODERATE\",\"MODERATE\",\"MODERATE\",\"MODERATE\",\"MODERATE\",\"MODERATE\",\"MODERATE\",\"MODERATE\",\"MODERATE\",\"MODERATE\",\"MODERATE\",\"MODERATE\",\"MODERATE\",\"MODERATE\",\"MODERATE\",\"MODERATE\",\"MODERATE\",\"MODERATE\",\"MODERATE\",\"MODERATE\",\"MODERATE\",\"MODERATE\",\"MODERATE\",\"MODERATE\",\"MODERATE\",\"MODERATE\",\"MODERATE\",\"MODERATE\",\"MODERATE\",\"MODERATE\",\"MODERATE\",\"MODERATE\",\"MODERATE\",\"MODERATE\",\"MODERATE\",\"MODERATE\",\"MODERATE\",\"MODERATE\",\"MODERATE\",\"MODERATE\",\"MODERATE\",\"HIGH\",\"HIGH\",\"HIGH\",\"HIGH\",\"HIGH\",\"HIGH\",\"HIGH\",\"HIGH\",\"HIGH\",\"HIGH\",\"HIGH\",\"HIGH\",\"HIGH\",\"HIGH\",\"HIGH\",\"HIGH\",\"HIGH\",\"HIGH\",\"HIGH\",\"HIGH\",\"HIGH\",\"HIGH\",\"HIGH\",\"HIGH\",\"HIGH\",\"HIGH\",\"HIGH\",\"HIGH\",\"HIGH\",\"HIGH\",\"HIGH\",\"HIGH\",\"HIGH\",\"HIGH\",\"HIGH\",\"HIGH\",\"HIGH\",\"HIGH\",\"HIGH\",\"HIGH\",\"HIGH\",\"HIGH\",\"HIGH\",\"HIGH\",\"HIGH\",\"HIGH\",\"HIGH\",\"HIGH\"],\"x\":[1,1,2,3,4,5,6,7,8,9,10,11,12,13,14,15,16,17,18,19,20,21,22,23,24,25,26,27,28,29,30,31,32,33,34,35,36,37,38,39,40,41,42,43,44,45,46,47,1,1,2,3,4,5,6,7,8,9,10,11,12,13,14,15,16,17,18,19,20,21,22,23,24,25,26,27,28,29,30,31,32,33,34,35,36,37,38,39,40,41,42,43,44,45,46,47,1,1,2,3,4,5,6,7,8,9,10,11,12,13,14,15,16,17,18,19,20,21,22,23,24,25,26,27,28,29,30,31,32,33,34,35,36,37,38,39,40,41,42,43,44,45,46,47,1,1,2,3,4,5,6,7,8,9,10,11,12,13,14,15,16,17,18,19,20,21,22,23,24,25,26,27,28,29,30,31,32,33,34,35,36,37,38,39,40,41,42,43,44,45,46,47],\"y\":{\"__ndarray__\":\"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\",\"dtype\":\"float64\",\"shape\":[192]}},\"selected\":{\"id\":\"1227\",\"type\":\"Selection\"},\"selection_policy\":{\"id\":\"1226\",\"type\":\"UnionRenderers\"}},\"id\":\"1176\",\"type\":\"ColumnDataSource\"},{\"attributes\":{},\"id\":\"1226\",\"type\":\"UnionRenderers\"},{\"attributes\":{\"filters\":[{\"id\":\"1190\",\"type\":\"GroupFilter\"}],\"source\":{\"id\":\"1176\",\"type\":\"ColumnDataSource\"}},\"id\":\"1191\",\"type\":\"CDSView\"},{\"attributes\":{\"ticker\":{\"id\":\"1152\",\"type\":\"BasicTicker\"}},\"id\":\"1155\",\"type\":\"Grid\"},{\"attributes\":{},\"id\":\"1227\",\"type\":\"Selection\"},{\"attributes\":{\"axis_label\":\"Frequency in population (log10 scale)\",\"formatter\":{\"id\":\"1223\",\"type\":\"BasicTickFormatter\"},\"ticker\":{\"id\":\"1157\",\"type\":\"BasicTicker\"}},\"id\":\"1156\",\"type\":\"LinearAxis\"},{\"attributes\":{\"active_drag\":\"auto\",\"active_inspect\":\"auto\",\"active_multi\":null,\"active_scroll\":\"auto\",\"active_tap\":\"auto\",\"tools\":[{\"id\":\"1161\",\"type\":\"PanTool\"},{\"id\":\"1162\",\"type\":\"WheelZoomTool\"},{\"id\":\"1163\",\"type\":\"BoxZoomTool\"},{\"id\":\"1164\",\"type\":\"SaveTool\"},{\"id\":\"1165\",\"type\":\"ResetTool\"},{\"id\":\"1166\",\"type\":\"HelpTool\"},{\"id\":\"1175\",\"type\":\"HoverTool\"}]},\"id\":\"1167\",\"type\":\"Toolbar\"},{\"attributes\":{},\"id\":\"1161\",\"type\":\"PanTool\"},{\"attributes\":{\"fill_color\":{\"field\":\"label\",\"transform\":{\"id\":\"1177\",\"type\":\"CategoricalColorMapper\"}},\"line_color\":{\"field\":\"label\",\"transform\":{\"id\":\"1177\",\"type\":\"CategoricalColorMapper\"}},\"x\":{\"field\":\"x\"},\"y\":{\"field\":\"y\"}},\"id\":\"1193\",\"type\":\"Circle\"},{\"attributes\":{\"bottom_units\":\"screen\",\"fill_alpha\":{\"value\":0.5},\"fill_color\":{\"value\":\"lightgrey\"},\"left_units\":\"screen\",\"level\":\"overlay\",\"line_alpha\":{\"value\":1.0},\"line_color\":{\"value\":\"black\"},\"line_dash\":[4,4],\"line_width\":{\"value\":2},\"render_mode\":\"css\",\"right_units\":\"screen\",\"top_units\":\"screen\"},\"id\":\"1228\",\"type\":\"BoxAnnotation\"},{\"attributes\":{},\"id\":\"1157\",\"type\":\"BasicTicker\"},{\"attributes\":{},\"id\":\"1208\",\"type\":\"LogScale\"},{\"attributes\":{\"fill_alpha\":{\"value\":0.1},\"fill_color\":{\"value\":\"#1f77b4\"},\"line_alpha\":{\"value\":0.1},\"line_color\":{\"value\":\"#1f77b4\"},\"x\":{\"field\":\"x\"},\"y\":{\"field\":\"y\"}},\"id\":\"1194\",\"type\":\"Circle\"},{\"attributes\":{\"dimension\":1,\"ticker\":{\"id\":\"1157\",\"type\":\"BasicTicker\"}},\"id\":\"1160\",\"type\":\"Grid\"},{\"attributes\":{},\"id\":\"1166\",\"type\":\"HelpTool\"}],\"root_ids\":[\"1140\"]},\"title\":\"Bokeh Application\",\"version\":\"1.2.0\"}};\n",
       "  var render_items = [{\"docid\":\"fd6f7933-04f4-4970-98e5-e127f4ec7d5e\",\"roots\":{\"1140\":\"23b6a789-ff5d-42a8-af17-ef9531c84009\"}}];\n",
       "  root.Bokeh.embed.embed_items_notebook(docs_json, render_items);\n",
       "\n",
       "  }\n",
       "  if (root.Bokeh !== undefined) {\n",
       "    embed_document(root);\n",
       "  } else {\n",
       "    var attempts = 0;\n",
       "    var timer = setInterval(function(root) {\n",
       "      if (root.Bokeh !== undefined) {\n",
       "        embed_document(root);\n",
       "        clearInterval(timer);\n",
       "      }\n",
       "      attempts++;\n",
       "      if (attempts > 100) {\n",
       "        console.log(\"Bokeh: ERROR: Unable to run BokehJS code because BokehJS library is missing\");\n",
       "        clearInterval(timer);\n",
       "      }\n",
       "    }, 10, root)\n",
       "  }\n",
       "})(window);"
      ],
      "application/vnd.bokehjs_exec.v0+json": ""
     },
     "metadata": {
      "application/vnd.bokehjs_exec.v0+json": {
       "id": "1140"
      }
     },
     "output_type": "display_data"
    }
   ],
   "source": [
    "p = hl.plot.scatter(ht_ffs.ac, ht_ffs.ff, label=ht_ffs.impact,\n",
    "                    xlabel='Allele counts', ylabel='Frequency in population (log10 scale)', title='Site frequency spectrum (folded)',\n",
    "                    collect_all=True)\n",
    "p.plot_width = 800\n",
    "p.plot_height = 400\n",
    "p.y_scale = LogScale()\n",
    "show(p)"
   ]
  },
  {
   "cell_type": "markdown",
   "metadata": {},
   "source": [
    "## Variant effect"
   ]
  },
  {
   "cell_type": "code",
   "execution_count": 16,
   "metadata": {},
   "outputs": [],
   "source": [
    "mt = mt.annotate_rows(effect=mt.info.ANN.map(lambda x: x.split('\\|')[1]))\n",
    "#mt = mt.annotate_rows(high_impact=mt.impact.contains('HIGH'))\n",
    "mt = mt.annotate_rows(effect1=mt.effect[0])"
   ]
  },
  {
   "cell_type": "code",
   "execution_count": 17,
   "metadata": {},
   "outputs": [
    {
     "name": "stdout",
     "output_type": "stream",
     "text": [
      "{'3_prime_UTR_variant': 159194,\n",
      " '5_prime_UTR_premature_start_codon_gain_variant': 3195,\n",
      " '5_prime_UTR_variant': 32076,\n",
      " 'bidirectional_gene_fusion': 3,\n",
      " 'conservative_inframe_deletion': 978,\n",
      " 'conservative_inframe_deletion&splice_region_variant': 18,\n",
      " 'conservative_inframe_insertion': 1324,\n",
      " 'conservative_inframe_insertion&splice_region_variant': 53,\n",
      " 'disruptive_inframe_deletion': 1872,\n",
      " 'disruptive_inframe_deletion&splice_region_variant': 43,\n",
      " 'disruptive_inframe_insertion': 1251,\n",
      " 'disruptive_inframe_insertion&splice_region_variant': 57,\n",
      " 'downstream_gene_variant': 65152,\n",
      " 'frameshift_variant': 45989,\n",
      " 'frameshift_variant&splice_acceptor_variant&splice_region_variant&intron_variant': 129,\n",
      " 'frameshift_variant&splice_donor_variant&splice_region_variant&intron_variant': 92,\n",
      " 'frameshift_variant&splice_region_variant': 1477,\n",
      " 'frameshift_variant&start_lost': 100,\n",
      " 'frameshift_variant&start_lost&splice_donor_variant&splice_region_variant&intron_variant': 1,\n",
      " 'frameshift_variant&start_lost&splice_region_variant': 3,\n",
      " 'frameshift_variant&stop_gained': 667,\n",
      " 'frameshift_variant&stop_gained&splice_region_variant': 23,\n",
      " 'frameshift_variant&stop_lost': 120,\n",
      " 'frameshift_variant&stop_lost&splice_donor_variant&3_prime_UTR_truncation&exon_loss_variant&splice_region_variant&intron_variant': 1,\n",
      " 'frameshift_variant&stop_lost&splice_region_variant': 2,\n",
      " 'gene_fusion': 9,\n",
      " 'initiator_codon_variant': 11,\n",
      " 'initiator_codon_variant&non_canonical_start_codon': 1,\n",
      " 'initiator_codon_variant&splice_region_variant': 1,\n",
      " 'intergenic_region': 24377,\n",
      " 'intron_variant': 399348,\n",
      " 'missense_variant': 53882,\n",
      " 'missense_variant&splice_region_variant': 1412,\n",
      " 'non_coding_transcript_exon_variant': 7626,\n",
      " 'protein_protein_contact': 65,\n",
      " 'sequence_feature': 9778,\n",
      " 'splice_acceptor_variant&3_prime_UTR_variant&intron_variant': 1,\n",
      " 'splice_acceptor_variant&5_prime_UTR_variant&intron_variant': 2,\n",
      " 'splice_acceptor_variant&conservative_inframe_deletion&splice_region_variant&intron_variant': 12,\n",
      " 'splice_acceptor_variant&disruptive_inframe_deletion&splice_region_variant&intron_variant': 29,\n",
      " 'splice_acceptor_variant&intron_variant': 1548,\n",
      " 'splice_acceptor_variant&splice_donor_variant&disruptive_inframe_deletion&splice_region_variant&intron_variant': 2,\n",
      " 'splice_acceptor_variant&splice_donor_variant&intron_variant': 7,\n",
      " 'splice_acceptor_variant&splice_donor_variant&splice_region_variant&3_prime_UTR_variant&intron_variant': 2,\n",
      " 'splice_acceptor_variant&splice_region_variant&3_prime_UTR_variant&intron_variant': 1,\n",
      " 'splice_acceptor_variant&splice_region_variant&5_prime_UTR_variant&intron_variant': 8,\n",
      " 'splice_acceptor_variant&splice_region_variant&intron_variant': 105,\n",
      " 'splice_acceptor_variant&splice_region_variant&intron_variant&non_coding_transcript_exon_variant': 6,\n",
      " 'splice_donor_variant&3_prime_UTR_variant&intron_variant': 1,\n",
      " 'splice_donor_variant&5_prime_UTR_variant&intron_variant': 7,\n",
      " 'splice_donor_variant&conservative_inframe_deletion&splice_region_variant&intron_variant': 39,\n",
      " 'splice_donor_variant&disruptive_inframe_deletion&splice_region_variant&intron_variant': 17,\n",
      " 'splice_donor_variant&intron_variant': 903,\n",
      " 'splice_donor_variant&splice_region_variant&5_prime_UTR_variant&intron_variant': 13,\n",
      " 'splice_donor_variant&splice_region_variant&intron_variant': 53,\n",
      " 'splice_donor_variant&splice_region_variant&intron_variant&non_coding_transcript_exon_variant': 10,\n",
      " 'splice_region_variant': 841,\n",
      " 'splice_region_variant&intron_variant': 16701,\n",
      " 'splice_region_variant&non_coding_transcript_exon_variant': 348,\n",
      " 'splice_region_variant&synonymous_variant': 866,\n",
      " 'start_lost': 110,\n",
      " 'start_lost&conservative_inframe_deletion': 6,\n",
      " 'start_lost&conservative_inframe_deletion&splice_region_variant': 2,\n",
      " 'start_lost&conservative_inframe_insertion': 1,\n",
      " 'start_lost&disruptive_inframe_deletion': 1,\n",
      " 'start_lost&disruptive_inframe_insertion': 1,\n",
      " 'start_lost&splice_region_variant': 5,\n",
      " 'stop_gained': 1689,\n",
      " 'stop_gained&conservative_inframe_insertion': 152,\n",
      " 'stop_gained&conservative_inframe_insertion&splice_region_variant': 4,\n",
      " 'stop_gained&disruptive_inframe_deletion': 8,\n",
      " 'stop_gained&disruptive_inframe_insertion': 116,\n",
      " 'stop_gained&disruptive_inframe_insertion&splice_region_variant': 10,\n",
      " 'stop_gained&splice_acceptor_variant&disruptive_inframe_deletion&splice_region_variant&intron_variant': 1,\n",
      " 'stop_gained&splice_region_variant': 64,\n",
      " 'stop_lost': 104,\n",
      " 'stop_lost&conservative_inframe_deletion': 10,\n",
      " 'stop_lost&conservative_inframe_deletion&splice_region_variant': 2,\n",
      " 'stop_lost&conservative_inframe_insertion': 2,\n",
      " 'stop_lost&disruptive_inframe_deletion': 2,\n",
      " 'stop_lost&disruptive_inframe_insertion': 5,\n",
      " 'stop_lost&splice_region_variant': 7,\n",
      " 'stop_retained_variant': 37,\n",
      " 'structural_interaction_variant': 1550,\n",
      " 'synonymous_variant': 38276,\n",
      " 'transcript_ablation': 1,\n",
      " 'upstream_gene_variant': 74531}\n"
     ]
    }
   ],
   "source": [
    "effect_count = mt.aggregate_rows(hl.agg.counter(mt.effect1))\n",
    "pprint(effect_count)"
   ]
  },
  {
   "cell_type": "code",
   "execution_count": 18,
   "metadata": {},
   "outputs": [],
   "source": [
    "ffs_dict = {}\n",
    "effect_list = ['synonymous_variant', 'missense_variant', 'frameshift_variant']\n",
    "for effect in effect_list:\n",
    "    mt_temp = mt.filter_rows(mt.effect1.contains(effect))\n",
    "    ht_result = ffs(mt_temp, hl)\n",
    "    ht_result = ht_result.annotate(effect=hl.str(effect))\n",
    "    ffs_dict[effect] = ht_result"
   ]
  },
  {
   "cell_type": "code",
   "execution_count": 19,
   "metadata": {},
   "outputs": [],
   "source": [
    "ht_ffs = ffs_dict[effect_list[0]]\n",
    "for i in range(1, 3):\n",
    "    ht_ffs = ht_ffs.union(ffs_dict[effect_list[i]])"
   ]
  },
  {
   "cell_type": "code",
   "execution_count": 20,
   "metadata": {},
   "outputs": [
    {
     "data": {
      "text/html": [
       "\n",
       "\n",
       "\n",
       "\n",
       "\n",
       "\n",
       "  <div class=\"bk-root\" id=\"999eac77-28a5-4c60-bc05-621e8997361c\" data-root-id=\"1289\"></div>\n"
      ]
     },
     "metadata": {},
     "output_type": "display_data"
    },
    {
     "data": {
      "application/javascript": [
       "(function(root) {\n",
       "  function embed_document(root) {\n",
       "    \n",
       "  var docs_json = {\"bfab24d2-3452-4390-a6a0-29f9dae0ae7a\":{\"roots\":{\"references\":[{\"attributes\":{\"below\":[{\"id\":\"1300\",\"type\":\"LinearAxis\"}],\"center\":[{\"id\":\"1304\",\"type\":\"Grid\"},{\"id\":\"1309\",\"type\":\"Grid\"}],\"left\":[{\"id\":\"1305\",\"type\":\"LinearAxis\"},{\"id\":\"1348\",\"type\":\"Legend\"},{\"id\":\"1349\",\"type\":\"ColorBar\"}],\"plot_height\":400,\"plot_width\":800,\"renderers\":[{\"id\":\"1332\",\"type\":\"GlyphRenderer\"},{\"id\":\"1338\",\"type\":\"GlyphRenderer\"},{\"id\":\"1344\",\"type\":\"GlyphRenderer\"}],\"title\":{\"id\":\"1290\",\"type\":\"Title\"},\"toolbar\":{\"id\":\"1316\",\"type\":\"Toolbar\"},\"x_range\":{\"id\":\"1292\",\"type\":\"DataRange1d\"},\"x_scale\":{\"id\":\"1296\",\"type\":\"LinearScale\"},\"y_range\":{\"id\":\"1294\",\"type\":\"DataRange1d\"},\"y_scale\":{\"id\":\"1298\",\"type\":\"LinearScale\"}},\"id\":\"1289\",\"subtype\":\"Figure\",\"type\":\"Plot\"},{\"attributes\":{\"filters\":[{\"id\":\"1339\",\"type\":\"GroupFilter\"}],\"source\":{\"id\":\"1325\",\"type\":\"ColumnDataSource\"}},\"id\":\"1340\",\"type\":\"CDSView\"},{\"attributes\":{\"callback\":null,\"tooltips\":[[\"x\",\"@x\"],[\"y\",\"@y\"],[\"label\",\"@label\"]]},\"id\":\"1324\",\"type\":\"HoverTool\"},{\"attributes\":{\"fill_alpha\":{\"value\":0.1},\"fill_color\":{\"value\":\"#1f77b4\"},\"line_alpha\":{\"value\":0.1},\"line_color\":{\"value\":\"#1f77b4\"},\"x\":{\"field\":\"x\"},\"y\":{\"field\":\"y\"}},\"id\":\"1331\",\"type\":\"Circle\"},{\"attributes\":{\"dimension\":1,\"ticker\":{\"id\":\"1306\",\"type\":\"BasicTicker\"}},\"id\":\"1309\",\"type\":\"Grid\"},{\"attributes\":{\"fill_color\":{\"field\":\"label\",\"transform\":{\"id\":\"1326\",\"type\":\"CategoricalColorMapper\"}},\"line_color\":{\"field\":\"label\",\"transform\":{\"id\":\"1326\",\"type\":\"CategoricalColorMapper\"}},\"x\":{\"field\":\"x\"},\"y\":{\"field\":\"y\"}},\"id\":\"1330\",\"type\":\"Circle\"},{\"attributes\":{\"fill_color\":{\"field\":\"label\",\"transform\":{\"id\":\"1326\",\"type\":\"CategoricalColorMapper\"}},\"line_color\":{\"field\":\"label\",\"transform\":{\"id\":\"1326\",\"type\":\"CategoricalColorMapper\"}},\"x\":{\"field\":\"x\"},\"y\":{\"field\":\"y\"}},\"id\":\"1342\",\"type\":\"Circle\"},{\"attributes\":{\"data_source\":{\"id\":\"1325\",\"type\":\"ColumnDataSource\"},\"glyph\":{\"id\":\"1330\",\"type\":\"Circle\"},\"hover_glyph\":null,\"muted_glyph\":null,\"nonselection_glyph\":{\"id\":\"1331\",\"type\":\"Circle\"},\"selection_glyph\":null,\"view\":{\"id\":\"1328\",\"type\":\"CDSView\"}},\"id\":\"1332\",\"type\":\"GlyphRenderer\"},{\"attributes\":{\"fill_alpha\":{\"value\":0.1},\"fill_color\":{\"value\":\"#1f77b4\"},\"line_alpha\":{\"value\":0.1},\"line_color\":{\"value\":\"#1f77b4\"},\"x\":{\"field\":\"x\"},\"y\":{\"field\":\"y\"}},\"id\":\"1343\",\"type\":\"Circle\"},{\"attributes\":{\"data_source\":{\"id\":\"1325\",\"type\":\"ColumnDataSource\"},\"glyph\":{\"id\":\"1342\",\"type\":\"Circle\"},\"hover_glyph\":null,\"muted_glyph\":null,\"nonselection_glyph\":{\"id\":\"1343\",\"type\":\"Circle\"},\"selection_glyph\":null,\"view\":{\"id\":\"1340\",\"type\":\"CDSView\"}},\"id\":\"1344\",\"type\":\"GlyphRenderer\"},{\"attributes\":{\"filters\":[{\"id\":\"1333\",\"type\":\"GroupFilter\"}],\"source\":{\"id\":\"1325\",\"type\":\"ColumnDataSource\"}},\"id\":\"1334\",\"type\":\"CDSView\"},{\"attributes\":{\"ticker\":{\"id\":\"1301\",\"type\":\"BasicTicker\"}},\"id\":\"1304\",\"type\":\"Grid\"},{\"attributes\":{},\"id\":\"1372\",\"type\":\"BasicTickFormatter\"},{\"attributes\":{\"label\":{\"value\":\"synonymous_variant\"},\"renderers\":[{\"id\":\"1344\",\"type\":\"GlyphRenderer\"}]},\"id\":\"1347\",\"type\":\"LegendItem\"},{\"attributes\":{},\"id\":\"1306\",\"type\":\"BasicTicker\"},{\"attributes\":{\"column_name\":\"label\",\"group\":\"frameshift_variant\"},\"id\":\"1327\",\"type\":\"GroupFilter\"},{\"attributes\":{\"click_policy\":\"hide\",\"items\":[{\"id\":\"1345\",\"type\":\"LegendItem\"},{\"id\":\"1346\",\"type\":\"LegendItem\"},{\"id\":\"1347\",\"type\":\"LegendItem\"}]},\"id\":\"1348\",\"type\":\"Legend\"},{\"attributes\":{\"label\":{\"value\":\"frameshift_variant\"},\"renderers\":[{\"id\":\"1332\",\"type\":\"GlyphRenderer\"}]},\"id\":\"1345\",\"type\":\"LegendItem\"},{\"attributes\":{\"column_name\":\"label\",\"group\":\"missense_variant\"},\"id\":\"1333\",\"type\":\"GroupFilter\"},{\"attributes\":{\"color_mapper\":null,\"formatter\":{\"id\":\"1376\",\"type\":\"BasicTickFormatter\"},\"ticker\":{\"id\":\"1375\",\"type\":\"BasicTicker\"},\"visible\":false},\"id\":\"1349\",\"type\":\"ColorBar\"},{\"attributes\":{},\"id\":\"1375\",\"type\":\"BasicTicker\"},{\"attributes\":{},\"id\":\"1301\",\"type\":\"BasicTicker\"},{\"attributes\":{},\"id\":\"1296\",\"type\":\"LinearScale\"},{\"attributes\":{\"axis_label\":\"Allele counts\",\"formatter\":{\"id\":\"1372\",\"type\":\"BasicTickFormatter\"},\"ticker\":{\"id\":\"1301\",\"type\":\"BasicTicker\"}},\"id\":\"1300\",\"type\":\"LinearAxis\"},{\"attributes\":{\"active_drag\":\"auto\",\"active_inspect\":\"auto\",\"active_multi\":null,\"active_scroll\":\"auto\",\"active_tap\":\"auto\",\"tools\":[{\"id\":\"1310\",\"type\":\"PanTool\"},{\"id\":\"1311\",\"type\":\"WheelZoomTool\"},{\"id\":\"1312\",\"type\":\"BoxZoomTool\"},{\"id\":\"1313\",\"type\":\"SaveTool\"},{\"id\":\"1314\",\"type\":\"ResetTool\"},{\"id\":\"1315\",\"type\":\"HelpTool\"},{\"id\":\"1324\",\"type\":\"HoverTool\"}]},\"id\":\"1316\",\"type\":\"Toolbar\"},{\"attributes\":{},\"id\":\"1376\",\"type\":\"BasicTickFormatter\"},{\"attributes\":{\"fill_color\":{\"field\":\"label\",\"transform\":{\"id\":\"1326\",\"type\":\"CategoricalColorMapper\"}},\"line_color\":{\"field\":\"label\",\"transform\":{\"id\":\"1326\",\"type\":\"CategoricalColorMapper\"}},\"x\":{\"field\":\"x\"},\"y\":{\"field\":\"y\"}},\"id\":\"1336\",\"type\":\"Circle\"},{\"attributes\":{\"factors\":[\"missense_variant\",\"synonymous_variant\",\"frameshift_variant\"],\"palette\":[\"#1f77b4\",\"#ff7f0e\",\"#2ca02c\",\"#d62728\",\"#9467bd\",\"#8c564b\",\"#e377c2\",\"#7f7f7f\",\"#bcbd22\",\"#17becf\"]},\"id\":\"1326\",\"type\":\"CategoricalColorMapper\"},{\"attributes\":{\"callback\":null,\"data\":{\"index\":[0,1,2,3,4,5,6,7,8,9,10,11,12,13,14,15,16,17,18,19,20,21,22,23,24,25,26,27,28,29,30,31,32,33,34,35,36,37,38,39,40,41,42,43,44,45,46,47,48,49,50,51,52,53,54,55,56,57,58,59,60,61,62,63,64,65,66,67,68,69,70,71,72,73,74,75,76,77,78,79,80,81,82,83,84,85,86,87,88,89,90,91,92,93,94,95,96,97,98,99,100,101,102,103,104,105,106,107,108,109,110,111,112,113,114,115,116,117,118,119,120,121,122,123,124,125,126,127,128,129,130,131,132,133,134,135,136,137,138,139,140,141,142,143],\"label\":[\"synonymous_variant\",\"synonymous_variant\",\"synonymous_variant\",\"synonymous_variant\",\"synonymous_variant\",\"synonymous_variant\",\"synonymous_variant\",\"synonymous_variant\",\"synonymous_variant\",\"synonymous_variant\",\"synonymous_variant\",\"synonymous_variant\",\"synonymous_variant\",\"synonymous_variant\",\"synonymous_variant\",\"synonymous_variant\",\"synonymous_variant\",\"synonymous_variant\",\"synonymous_variant\",\"synonymous_variant\",\"synonymous_variant\",\"synonymous_variant\",\"synonymous_variant\",\"synonymous_variant\",\"synonymous_variant\",\"synonymous_variant\",\"synonymous_variant\",\"synonymous_variant\",\"synonymous_variant\",\"synonymous_variant\",\"synonymous_variant\",\"synonymous_variant\",\"synonymous_variant\",\"synonymous_variant\",\"synonymous_variant\",\"synonymous_variant\",\"synonymous_variant\",\"synonymous_variant\",\"synonymous_variant\",\"synonymous_variant\",\"synonymous_variant\",\"synonymous_variant\",\"synonymous_variant\",\"synonymous_variant\",\"synonymous_variant\",\"synonymous_variant\",\"synonymous_variant\",\"synonymous_variant\",\"missense_variant\",\"missense_variant\",\"missense_variant\",\"missense_variant\",\"missense_variant\",\"missense_variant\",\"missense_variant\",\"missense_variant\",\"missense_variant\",\"missense_variant\",\"missense_variant\",\"missense_variant\",\"missense_variant\",\"missense_variant\",\"missense_variant\",\"missense_variant\",\"missense_variant\",\"missense_variant\",\"missense_variant\",\"missense_variant\",\"missense_variant\",\"missense_variant\",\"missense_variant\",\"missense_variant\",\"missense_variant\",\"missense_variant\",\"missense_variant\",\"missense_variant\",\"missense_variant\",\"missense_variant\",\"missense_variant\",\"missense_variant\",\"missense_variant\",\"missense_variant\",\"missense_variant\",\"missense_variant\",\"missense_variant\",\"missense_variant\",\"missense_variant\",\"missense_variant\",\"missense_variant\",\"missense_variant\",\"missense_variant\",\"missense_variant\",\"missense_variant\",\"missense_variant\",\"missense_variant\",\"missense_variant\",\"frameshift_variant\",\"frameshift_variant\",\"frameshift_variant\",\"frameshift_variant\",\"frameshift_variant\",\"frameshift_variant\",\"frameshift_variant\",\"frameshift_variant\",\"frameshift_variant\",\"frameshift_variant\",\"frameshift_variant\",\"frameshift_variant\",\"frameshift_variant\",\"frameshift_variant\",\"frameshift_variant\",\"frameshift_variant\",\"frameshift_variant\",\"frameshift_variant\",\"frameshift_variant\",\"frameshift_variant\",\"frameshift_variant\",\"frameshift_variant\",\"frameshift_variant\",\"frameshift_variant\",\"frameshift_variant\",\"frameshift_variant\",\"frameshift_variant\",\"frameshift_variant\",\"frameshift_variant\",\"frameshift_variant\",\"frameshift_variant\",\"frameshift_variant\",\"frameshift_variant\",\"frameshift_variant\",\"frameshift_variant\",\"frameshift_variant\",\"frameshift_variant\",\"frameshift_variant\",\"frameshift_variant\",\"frameshift_variant\",\"frameshift_variant\",\"frameshift_variant\",\"frameshift_variant\",\"frameshift_variant\",\"frameshift_variant\",\"frameshift_variant\",\"frameshift_variant\",\"frameshift_variant\"],\"x\":[1,1,2,3,4,5,6,7,8,9,10,11,12,13,14,15,16,17,18,19,20,21,22,23,24,25,26,27,28,29,30,31,32,33,34,35,36,37,38,39,40,41,42,43,44,45,46,47,1,1,2,3,4,5,6,7,8,9,10,11,12,13,14,15,16,17,18,19,20,21,22,23,24,25,26,27,28,29,30,31,32,33,34,35,36,37,38,39,40,41,42,43,44,45,46,47,1,1,2,3,4,5,6,7,8,9,10,11,12,13,14,15,16,17,18,19,20,21,22,23,24,25,26,27,28,29,30,31,32,33,34,35,36,37,38,39,40,41,42,43,44,45,46,47],\"y\":{\"__ndarray__\":\"AAAAYJsA0T8AAACgulW+PwAAAICfa7A/AAAAANYepz8AAACg1IujPwAAAEBnn50/AAAAwFuBmD8AAAAAzJOVPwAAAIB7+JQ/AAAAgGTHkT8AAAAgycaQPwAAAIBhwo8/AAAAwCrBjT8AAABAZ0aLPwAAAIDrbos/AAAAgL2+iT8AAAAggYeHPwAAAACbeog/AAAAoAKVhz8AAABgTaGFPwAAAGCVkoM/AAAAwLrxhD8AAABgfrqCPwAAAGAIGYM/AAAAQJitgz8AAABAmK2DPwAAAGDxQII/AAAAQPRbgj8AAAAg93aCPwAAAMBekYE/AAAAYMOQgD8AAABAOUh+PwAAAKBK1IA/AAAAQGr9gT8AAABgUAqBPwAAAOBYcX8/AAAAYE0Ffz8AAABgUAqBPwAAAKBhrIE/AAAAYGTdfz8AAABgMxJ+PwAAAADM4YA/AAAAYDkygD8AAABgw5CAPwAAAMBekYE/AAAAQMargD8AAABA9FuCPwAAAADjuYE/AAAA4D9c2T8AAABgMBXBPwAAAACS8LA/AAAAQN9qpj8AAADg6oagPwAAACDyHJo/AAAAIG+PlD8AAACg7COSPwAAAMAmypA/AAAAALh2iz8AAABALMOIPwAAAMBbpog/AAAAYHW/hD8AAADAN9+CPwAAAOBiL4Q/AAAAIALMgj8AAADgLxKBPwAAAICnmIE/AAAAIDM3fz8AAABA6fZ8PwAAAEAGSnw/AAAAYIJjez8AAAAgUeN5PwAAAMCsb3Y/AAAAALnPdj8AAAAA+0J3PwAAAMDlvHk/AAAAYCT2dj8AAACgMFZ3PwAAACDWInY/AAAA4MH1cz8AAABAjOJzPwAAAAD8m3I/AAAAAHdcdj8AAADgYi90PwAAAOB/gnM/AAAAwAs2dj8AAABgJPZ2PwAAAIA5fHQ/AAAAIG+PdD8AAACgtZVzPwAAAKByyXc/AAAAYEFJdj8AAACAOXx0PwAAAMAoiXU/AAAAQC0cdD8AAADgRdx0PwAAAGBdQ3o/AAAAIDNB6D8AAACguPO7PwAAAOCUzqY/AAAAQLrLmD8AAADA7o+PPwAAAIAUR4Q/AAAAYOFDfj8AAADA71h3PwAAAMARpm8/AAAAgNx1aj8AAABAp0VlPwAAAOBxFWA/AAAAIIrGYD8AAACgHdRWPwAAAGAFI1Y/AAAAAEloVD8AAADAxqtLPwAAACDQ8lA/AAAAINXARD8AAABA7XFFPwAAACD3DT0/AAAAgIytQj8AAADApF4zPwAAAMA1hTc/AAAAYHT8MT8AAABgBSM2PwAAAGAFIxY/AAAAwKReMz8AAAAARJogPwAAAGAFIyY/AAAAwMarKz8AAADAxqsbPwAAAGAFIyY/AAAAwMarGz8AAADAxqsbPwAAAABEmhA/AAAAwMarGz8AAAAgZucoPwAAAMCkXiM/AAAAYAUjJj8AAAAARJoQPwAAAGAFIwY/AAAAAESaID8AAADAxqsbPwAAAABEmhA/AAAAYAUjBj8AAADApF4jPwAAAGAFIwY/\",\"dtype\":\"float64\",\"shape\":[144]}},\"selected\":{\"id\":\"1378\",\"type\":\"Selection\"},\"selection_policy\":{\"id\":\"1377\",\"type\":\"UnionRenderers\"}},\"id\":\"1325\",\"type\":\"ColumnDataSource\"},{\"attributes\":{},\"id\":\"1377\",\"type\":\"UnionRenderers\"},{\"attributes\":{\"callback\":null},\"id\":\"1292\",\"type\":\"DataRange1d\"},{\"attributes\":{\"data_source\":{\"id\":\"1325\",\"type\":\"ColumnDataSource\"},\"glyph\":{\"id\":\"1336\",\"type\":\"Circle\"},\"hover_glyph\":null,\"muted_glyph\":null,\"nonselection_glyph\":{\"id\":\"1337\",\"type\":\"Circle\"},\"selection_glyph\":null,\"view\":{\"id\":\"1334\",\"type\":\"CDSView\"}},\"id\":\"1338\",\"type\":\"GlyphRenderer\"},{\"attributes\":{},\"id\":\"1311\",\"type\":\"WheelZoomTool\"},{\"attributes\":{},\"id\":\"1378\",\"type\":\"Selection\"},{\"attributes\":{\"fill_alpha\":{\"value\":0.1},\"fill_color\":{\"value\":\"#1f77b4\"},\"line_alpha\":{\"value\":0.1},\"line_color\":{\"value\":\"#1f77b4\"},\"x\":{\"field\":\"x\"},\"y\":{\"field\":\"y\"}},\"id\":\"1337\",\"type\":\"Circle\"},{\"attributes\":{\"axis_label\":\"Frequency in population\",\"formatter\":{\"id\":\"1374\",\"type\":\"BasicTickFormatter\"},\"ticker\":{\"id\":\"1306\",\"type\":\"BasicTicker\"}},\"id\":\"1305\",\"type\":\"LinearAxis\"},{\"attributes\":{},\"id\":\"1374\",\"type\":\"BasicTickFormatter\"},{\"attributes\":{\"bottom_units\":\"screen\",\"fill_alpha\":{\"value\":0.5},\"fill_color\":{\"value\":\"lightgrey\"},\"left_units\":\"screen\",\"level\":\"overlay\",\"line_alpha\":{\"value\":1.0},\"line_color\":{\"value\":\"black\"},\"line_dash\":[4,4],\"line_width\":{\"value\":2},\"render_mode\":\"css\",\"right_units\":\"screen\",\"top_units\":\"screen\"},\"id\":\"1379\",\"type\":\"BoxAnnotation\"},{\"attributes\":{},\"id\":\"1310\",\"type\":\"PanTool\"},{\"attributes\":{\"text\":\"Site frequency spectrum (folded)\"},\"id\":\"1290\",\"type\":\"Title\"},{\"attributes\":{},\"id\":\"1315\",\"type\":\"HelpTool\"},{\"attributes\":{},\"id\":\"1298\",\"type\":\"LinearScale\"},{\"attributes\":{\"filters\":[{\"id\":\"1327\",\"type\":\"GroupFilter\"}],\"source\":{\"id\":\"1325\",\"type\":\"ColumnDataSource\"}},\"id\":\"1328\",\"type\":\"CDSView\"},{\"attributes\":{},\"id\":\"1314\",\"type\":\"ResetTool\"},{\"attributes\":{},\"id\":\"1313\",\"type\":\"SaveTool\"},{\"attributes\":{\"column_name\":\"label\",\"group\":\"synonymous_variant\"},\"id\":\"1339\",\"type\":\"GroupFilter\"},{\"attributes\":{\"label\":{\"value\":\"missense_variant\"},\"renderers\":[{\"id\":\"1338\",\"type\":\"GlyphRenderer\"}]},\"id\":\"1346\",\"type\":\"LegendItem\"},{\"attributes\":{\"overlay\":{\"id\":\"1379\",\"type\":\"BoxAnnotation\"}},\"id\":\"1312\",\"type\":\"BoxZoomTool\"},{\"attributes\":{\"callback\":null},\"id\":\"1294\",\"type\":\"DataRange1d\"}],\"root_ids\":[\"1289\"]},\"title\":\"Bokeh Application\",\"version\":\"1.2.0\"}};\n",
       "  var render_items = [{\"docid\":\"bfab24d2-3452-4390-a6a0-29f9dae0ae7a\",\"roots\":{\"1289\":\"999eac77-28a5-4c60-bc05-621e8997361c\"}}];\n",
       "  root.Bokeh.embed.embed_items_notebook(docs_json, render_items);\n",
       "\n",
       "  }\n",
       "  if (root.Bokeh !== undefined) {\n",
       "    embed_document(root);\n",
       "  } else {\n",
       "    var attempts = 0;\n",
       "    var timer = setInterval(function(root) {\n",
       "      if (root.Bokeh !== undefined) {\n",
       "        embed_document(root);\n",
       "        clearInterval(timer);\n",
       "      }\n",
       "      attempts++;\n",
       "      if (attempts > 100) {\n",
       "        console.log(\"Bokeh: ERROR: Unable to run BokehJS code because BokehJS library is missing\");\n",
       "        clearInterval(timer);\n",
       "      }\n",
       "    }, 10, root)\n",
       "  }\n",
       "})(window);"
      ],
      "application/vnd.bokehjs_exec.v0+json": ""
     },
     "metadata": {
      "application/vnd.bokehjs_exec.v0+json": {
       "id": "1289"
      }
     },
     "output_type": "display_data"
    }
   ],
   "source": [
    "p = hl.plot.scatter(ht_ffs.ac, ht_ffs.ff, label=ht_ffs.effect,\n",
    "                    xlabel='Allele counts', ylabel='Frequency in population', title='Site frequency spectrum (folded)',\n",
    "                    collect_all=True)\n",
    "p.plot_width = 800\n",
    "p.plot_height = 400\n",
    "show(p)"
   ]
  },
  {
   "cell_type": "code",
   "execution_count": 21,
   "metadata": {},
   "outputs": [
    {
     "data": {
      "text/html": [
       "\n",
       "\n",
       "\n",
       "\n",
       "\n",
       "\n",
       "  <div class=\"bk-root\" id=\"42661852-7f09-4023-8837-2db86a38fe73\" data-root-id=\"1440\"></div>\n"
      ]
     },
     "metadata": {},
     "output_type": "display_data"
    },
    {
     "data": {
      "application/javascript": [
       "(function(root) {\n",
       "  function embed_document(root) {\n",
       "    \n",
       "  var docs_json = {\"57015755-36e0-411f-a16c-74e1720473a4\":{\"roots\":{\"references\":[{\"attributes\":{\"below\":[{\"id\":\"1451\",\"type\":\"LinearAxis\"}],\"center\":[{\"id\":\"1455\",\"type\":\"Grid\"},{\"id\":\"1460\",\"type\":\"Grid\"}],\"left\":[{\"id\":\"1456\",\"type\":\"LinearAxis\"},{\"id\":\"1499\",\"type\":\"Legend\"},{\"id\":\"1500\",\"type\":\"ColorBar\"}],\"plot_height\":400,\"plot_width\":800,\"renderers\":[{\"id\":\"1483\",\"type\":\"GlyphRenderer\"},{\"id\":\"1489\",\"type\":\"GlyphRenderer\"},{\"id\":\"1495\",\"type\":\"GlyphRenderer\"}],\"title\":{\"id\":\"1441\",\"type\":\"Title\"},\"toolbar\":{\"id\":\"1467\",\"type\":\"Toolbar\"},\"x_range\":{\"id\":\"1443\",\"type\":\"DataRange1d\"},\"x_scale\":{\"id\":\"1447\",\"type\":\"LinearScale\"},\"y_range\":{\"id\":\"1445\",\"type\":\"DataRange1d\"},\"y_scale\":{\"id\":\"1501\",\"type\":\"LogScale\"}},\"id\":\"1440\",\"subtype\":\"Figure\",\"type\":\"Plot\"},{\"attributes\":{},\"id\":\"1537\",\"type\":\"BasicTicker\"},{\"attributes\":{\"overlay\":{\"id\":\"1541\",\"type\":\"BoxAnnotation\"}},\"id\":\"1463\",\"type\":\"BoxZoomTool\"},{\"attributes\":{\"filters\":[{\"id\":\"1478\",\"type\":\"GroupFilter\"}],\"source\":{\"id\":\"1476\",\"type\":\"ColumnDataSource\"}},\"id\":\"1479\",\"type\":\"CDSView\"},{\"attributes\":{},\"id\":\"1466\",\"type\":\"HelpTool\"},{\"attributes\":{},\"id\":\"1536\",\"type\":\"BasicTickFormatter\"},{\"attributes\":{\"color_mapper\":null,\"formatter\":{\"id\":\"1538\",\"type\":\"BasicTickFormatter\"},\"ticker\":{\"id\":\"1537\",\"type\":\"BasicTicker\"},\"visible\":false},\"id\":\"1500\",\"type\":\"ColorBar\"},{\"attributes\":{\"column_name\":\"label\",\"group\":\"frameshift_variant\"},\"id\":\"1478\",\"type\":\"GroupFilter\"},{\"attributes\":{\"data_source\":{\"id\":\"1476\",\"type\":\"ColumnDataSource\"},\"glyph\":{\"id\":\"1493\",\"type\":\"Circle\"},\"hover_glyph\":null,\"muted_glyph\":null,\"nonselection_glyph\":{\"id\":\"1494\",\"type\":\"Circle\"},\"selection_glyph\":null,\"view\":{\"id\":\"1491\",\"type\":\"CDSView\"}},\"id\":\"1495\",\"type\":\"GlyphRenderer\"},{\"attributes\":{},\"id\":\"1462\",\"type\":\"WheelZoomTool\"},{\"attributes\":{\"fill_color\":{\"field\":\"label\",\"transform\":{\"id\":\"1477\",\"type\":\"CategoricalColorMapper\"}},\"line_color\":{\"field\":\"label\",\"transform\":{\"id\":\"1477\",\"type\":\"CategoricalColorMapper\"}},\"x\":{\"field\":\"x\"},\"y\":{\"field\":\"y\"}},\"id\":\"1487\",\"type\":\"Circle\"},{\"attributes\":{\"label\":{\"value\":\"synonymous_variant\"},\"renderers\":[{\"id\":\"1495\",\"type\":\"GlyphRenderer\"}]},\"id\":\"1498\",\"type\":\"LegendItem\"},{\"attributes\":{\"fill_alpha\":{\"value\":0.1},\"fill_color\":{\"value\":\"#1f77b4\"},\"line_alpha\":{\"value\":0.1},\"line_color\":{\"value\":\"#1f77b4\"},\"x\":{\"field\":\"x\"},\"y\":{\"field\":\"y\"}},\"id\":\"1488\",\"type\":\"Circle\"},{\"attributes\":{\"click_policy\":\"hide\",\"items\":[{\"id\":\"1496\",\"type\":\"LegendItem\"},{\"id\":\"1497\",\"type\":\"LegendItem\"},{\"id\":\"1498\",\"type\":\"LegendItem\"}]},\"id\":\"1499\",\"type\":\"Legend\"},{\"attributes\":{},\"id\":\"1452\",\"type\":\"BasicTicker\"},{\"attributes\":{\"axis_label\":\"Frequency in population (log10 scale)\",\"formatter\":{\"id\":\"1536\",\"type\":\"BasicTickFormatter\"},\"ticker\":{\"id\":\"1457\",\"type\":\"BasicTicker\"}},\"id\":\"1456\",\"type\":\"LinearAxis\"},{\"attributes\":{\"callback\":null},\"id\":\"1443\",\"type\":\"DataRange1d\"},{\"attributes\":{\"fill_alpha\":{\"value\":0.1},\"fill_color\":{\"value\":\"#1f77b4\"},\"line_alpha\":{\"value\":0.1},\"line_color\":{\"value\":\"#1f77b4\"},\"x\":{\"field\":\"x\"},\"y\":{\"field\":\"y\"}},\"id\":\"1494\",\"type\":\"Circle\"},{\"attributes\":{},\"id\":\"1501\",\"type\":\"LogScale\"},{\"attributes\":{\"ticker\":{\"id\":\"1452\",\"type\":\"BasicTicker\"}},\"id\":\"1455\",\"type\":\"Grid\"},{\"attributes\":{},\"id\":\"1540\",\"type\":\"Selection\"},{\"attributes\":{\"filters\":[{\"id\":\"1484\",\"type\":\"GroupFilter\"}],\"source\":{\"id\":\"1476\",\"type\":\"ColumnDataSource\"}},\"id\":\"1485\",\"type\":\"CDSView\"},{\"attributes\":{\"text\":\"Site frequency spectrum (folded)\"},\"id\":\"1441\",\"type\":\"Title\"},{\"attributes\":{},\"id\":\"1539\",\"type\":\"UnionRenderers\"},{\"attributes\":{\"callback\":null},\"id\":\"1445\",\"type\":\"DataRange1d\"},{\"attributes\":{},\"id\":\"1464\",\"type\":\"SaveTool\"},{\"attributes\":{\"data_source\":{\"id\":\"1476\",\"type\":\"ColumnDataSource\"},\"glyph\":{\"id\":\"1481\",\"type\":\"Circle\"},\"hover_glyph\":null,\"muted_glyph\":null,\"nonselection_glyph\":{\"id\":\"1482\",\"type\":\"Circle\"},\"selection_glyph\":null,\"view\":{\"id\":\"1479\",\"type\":\"CDSView\"}},\"id\":\"1483\",\"type\":\"GlyphRenderer\"},{\"attributes\":{},\"id\":\"1538\",\"type\":\"BasicTickFormatter\"},{\"attributes\":{\"dimension\":1,\"ticker\":{\"id\":\"1457\",\"type\":\"BasicTicker\"}},\"id\":\"1460\",\"type\":\"Grid\"},{\"attributes\":{\"label\":{\"value\":\"frameshift_variant\"},\"renderers\":[{\"id\":\"1483\",\"type\":\"GlyphRenderer\"}]},\"id\":\"1496\",\"type\":\"LegendItem\"},{\"attributes\":{},\"id\":\"1447\",\"type\":\"LinearScale\"},{\"attributes\":{\"label\":{\"value\":\"missense_variant\"},\"renderers\":[{\"id\":\"1489\",\"type\":\"GlyphRenderer\"}]},\"id\":\"1497\",\"type\":\"LegendItem\"},{\"attributes\":{\"factors\":[\"missense_variant\",\"synonymous_variant\",\"frameshift_variant\"],\"palette\":[\"#1f77b4\",\"#ff7f0e\",\"#2ca02c\",\"#d62728\",\"#9467bd\",\"#8c564b\",\"#e377c2\",\"#7f7f7f\",\"#bcbd22\",\"#17becf\"]},\"id\":\"1477\",\"type\":\"CategoricalColorMapper\"},{\"attributes\":{\"column_name\":\"label\",\"group\":\"missense_variant\"},\"id\":\"1484\",\"type\":\"GroupFilter\"},{\"attributes\":{\"fill_color\":{\"field\":\"label\",\"transform\":{\"id\":\"1477\",\"type\":\"CategoricalColorMapper\"}},\"line_color\":{\"field\":\"label\",\"transform\":{\"id\":\"1477\",\"type\":\"CategoricalColorMapper\"}},\"x\":{\"field\":\"x\"},\"y\":{\"field\":\"y\"}},\"id\":\"1481\",\"type\":\"Circle\"},{\"attributes\":{},\"id\":\"1465\",\"type\":\"ResetTool\"},{\"attributes\":{\"callback\":null,\"tooltips\":[[\"x\",\"@x\"],[\"y\",\"@y\"],[\"label\",\"@label\"]]},\"id\":\"1475\",\"type\":\"HoverTool\"},{\"attributes\":{\"column_name\":\"label\",\"group\":\"synonymous_variant\"},\"id\":\"1490\",\"type\":\"GroupFilter\"},{\"attributes\":{\"data_source\":{\"id\":\"1476\",\"type\":\"ColumnDataSource\"},\"glyph\":{\"id\":\"1487\",\"type\":\"Circle\"},\"hover_glyph\":null,\"muted_glyph\":null,\"nonselection_glyph\":{\"id\":\"1488\",\"type\":\"Circle\"},\"selection_glyph\":null,\"view\":{\"id\":\"1485\",\"type\":\"CDSView\"}},\"id\":\"1489\",\"type\":\"GlyphRenderer\"},{\"attributes\":{\"fill_alpha\":{\"value\":0.1},\"fill_color\":{\"value\":\"#1f77b4\"},\"line_alpha\":{\"value\":0.1},\"line_color\":{\"value\":\"#1f77b4\"},\"x\":{\"field\":\"x\"},\"y\":{\"field\":\"y\"}},\"id\":\"1482\",\"type\":\"Circle\"},{\"attributes\":{\"axis_label\":\"Allele counts\",\"formatter\":{\"id\":\"1534\",\"type\":\"BasicTickFormatter\"},\"ticker\":{\"id\":\"1452\",\"type\":\"BasicTicker\"}},\"id\":\"1451\",\"type\":\"LinearAxis\"},{\"attributes\":{},\"id\":\"1534\",\"type\":\"BasicTickFormatter\"},{\"attributes\":{},\"id\":\"1457\",\"type\":\"BasicTicker\"},{\"attributes\":{\"active_drag\":\"auto\",\"active_inspect\":\"auto\",\"active_multi\":null,\"active_scroll\":\"auto\",\"active_tap\":\"auto\",\"tools\":[{\"id\":\"1461\",\"type\":\"PanTool\"},{\"id\":\"1462\",\"type\":\"WheelZoomTool\"},{\"id\":\"1463\",\"type\":\"BoxZoomTool\"},{\"id\":\"1464\",\"type\":\"SaveTool\"},{\"id\":\"1465\",\"type\":\"ResetTool\"},{\"id\":\"1466\",\"type\":\"HelpTool\"},{\"id\":\"1475\",\"type\":\"HoverTool\"}]},\"id\":\"1467\",\"type\":\"Toolbar\"},{\"attributes\":{\"callback\":null,\"data\":{\"index\":[0,1,2,3,4,5,6,7,8,9,10,11,12,13,14,15,16,17,18,19,20,21,22,23,24,25,26,27,28,29,30,31,32,33,34,35,36,37,38,39,40,41,42,43,44,45,46,47,48,49,50,51,52,53,54,55,56,57,58,59,60,61,62,63,64,65,66,67,68,69,70,71,72,73,74,75,76,77,78,79,80,81,82,83,84,85,86,87,88,89,90,91,92,93,94,95,96,97,98,99,100,101,102,103,104,105,106,107,108,109,110,111,112,113,114,115,116,117,118,119,120,121,122,123,124,125,126,127,128,129,130,131,132,133,134,135,136,137,138,139,140,141,142,143],\"label\":[\"synonymous_variant\",\"synonymous_variant\",\"synonymous_variant\",\"synonymous_variant\",\"synonymous_variant\",\"synonymous_variant\",\"synonymous_variant\",\"synonymous_variant\",\"synonymous_variant\",\"synonymous_variant\",\"synonymous_variant\",\"synonymous_variant\",\"synonymous_variant\",\"synonymous_variant\",\"synonymous_variant\",\"synonymous_variant\",\"synonymous_variant\",\"synonymous_variant\",\"synonymous_variant\",\"synonymous_variant\",\"synonymous_variant\",\"synonymous_variant\",\"synonymous_variant\",\"synonymous_variant\",\"synonymous_variant\",\"synonymous_variant\",\"synonymous_variant\",\"synonymous_variant\",\"synonymous_variant\",\"synonymous_variant\",\"synonymous_variant\",\"synonymous_variant\",\"synonymous_variant\",\"synonymous_variant\",\"synonymous_variant\",\"synonymous_variant\",\"synonymous_variant\",\"synonymous_variant\",\"synonymous_variant\",\"synonymous_variant\",\"synonymous_variant\",\"synonymous_variant\",\"synonymous_variant\",\"synonymous_variant\",\"synonymous_variant\",\"synonymous_variant\",\"synonymous_variant\",\"synonymous_variant\",\"missense_variant\",\"missense_variant\",\"missense_variant\",\"missense_variant\",\"missense_variant\",\"missense_variant\",\"missense_variant\",\"missense_variant\",\"missense_variant\",\"missense_variant\",\"missense_variant\",\"missense_variant\",\"missense_variant\",\"missense_variant\",\"missense_variant\",\"missense_variant\",\"missense_variant\",\"missense_variant\",\"missense_variant\",\"missense_variant\",\"missense_variant\",\"missense_variant\",\"missense_variant\",\"missense_variant\",\"missense_variant\",\"missense_variant\",\"missense_variant\",\"missense_variant\",\"missense_variant\",\"missense_variant\",\"missense_variant\",\"missense_variant\",\"missense_variant\",\"missense_variant\",\"missense_variant\",\"missense_variant\",\"missense_variant\",\"missense_variant\",\"missense_variant\",\"missense_variant\",\"missense_variant\",\"missense_variant\",\"missense_variant\",\"missense_variant\",\"missense_variant\",\"missense_variant\",\"missense_variant\",\"missense_variant\",\"frameshift_variant\",\"frameshift_variant\",\"frameshift_variant\",\"frameshift_variant\",\"frameshift_variant\",\"frameshift_variant\",\"frameshift_variant\",\"frameshift_variant\",\"frameshift_variant\",\"frameshift_variant\",\"frameshift_variant\",\"frameshift_variant\",\"frameshift_variant\",\"frameshift_variant\",\"frameshift_variant\",\"frameshift_variant\",\"frameshift_variant\",\"frameshift_variant\",\"frameshift_variant\",\"frameshift_variant\",\"frameshift_variant\",\"frameshift_variant\",\"frameshift_variant\",\"frameshift_variant\",\"frameshift_variant\",\"frameshift_variant\",\"frameshift_variant\",\"frameshift_variant\",\"frameshift_variant\",\"frameshift_variant\",\"frameshift_variant\",\"frameshift_variant\",\"frameshift_variant\",\"frameshift_variant\",\"frameshift_variant\",\"frameshift_variant\",\"frameshift_variant\",\"frameshift_variant\",\"frameshift_variant\",\"frameshift_variant\",\"frameshift_variant\",\"frameshift_variant\",\"frameshift_variant\",\"frameshift_variant\",\"frameshift_variant\",\"frameshift_variant\",\"frameshift_variant\",\"frameshift_variant\"],\"x\":[1,1,2,3,4,5,6,7,8,9,10,11,12,13,14,15,16,17,18,19,20,21,22,23,24,25,26,27,28,29,30,31,32,33,34,35,36,37,38,39,40,41,42,43,44,45,46,47,1,1,2,3,4,5,6,7,8,9,10,11,12,13,14,15,16,17,18,19,20,21,22,23,24,25,26,27,28,29,30,31,32,33,34,35,36,37,38,39,40,41,42,43,44,45,46,47,1,1,2,3,4,5,6,7,8,9,10,11,12,13,14,15,16,17,18,19,20,21,22,23,24,25,26,27,28,29,30,31,32,33,34,35,36,37,38,39,40,41,42,43,44,45,46,47],\"y\":{\"__ndarray__\":\"AAAAYJsA0T8AAACgulW+PwAAAICfa7A/AAAAANYepz8AAACg1IujPwAAAEBnn50/AAAAwFuBmD8AAAAAzJOVPwAAAIB7+JQ/AAAAgGTHkT8AAAAgycaQPwAAAIBhwo8/AAAAwCrBjT8AAABAZ0aLPwAAAIDrbos/AAAAgL2+iT8AAAAggYeHPwAAAACbeog/AAAAoAKVhz8AAABgTaGFPwAAAGCVkoM/AAAAwLrxhD8AAABgfrqCPwAAAGAIGYM/AAAAQJitgz8AAABAmK2DPwAAAGDxQII/AAAAQPRbgj8AAAAg93aCPwAAAMBekYE/AAAAYMOQgD8AAABAOUh+PwAAAKBK1IA/AAAAQGr9gT8AAABgUAqBPwAAAOBYcX8/AAAAYE0Ffz8AAABgUAqBPwAAAKBhrIE/AAAAYGTdfz8AAABgMxJ+PwAAAADM4YA/AAAAYDkygD8AAABgw5CAPwAAAMBekYE/AAAAQMargD8AAABA9FuCPwAAAADjuYE/AAAA4D9c2T8AAABgMBXBPwAAAACS8LA/AAAAQN9qpj8AAADg6oagPwAAACDyHJo/AAAAIG+PlD8AAACg7COSPwAAAMAmypA/AAAAALh2iz8AAABALMOIPwAAAMBbpog/AAAAYHW/hD8AAADAN9+CPwAAAOBiL4Q/AAAAIALMgj8AAADgLxKBPwAAAICnmIE/AAAAIDM3fz8AAABA6fZ8PwAAAEAGSnw/AAAAYIJjez8AAAAgUeN5PwAAAMCsb3Y/AAAAALnPdj8AAAAA+0J3PwAAAMDlvHk/AAAAYCT2dj8AAACgMFZ3PwAAACDWInY/AAAA4MH1cz8AAABAjOJzPwAAAAD8m3I/AAAAAHdcdj8AAADgYi90PwAAAOB/gnM/AAAAwAs2dj8AAABgJPZ2PwAAAIA5fHQ/AAAAIG+PdD8AAACgtZVzPwAAAKByyXc/AAAAYEFJdj8AAACAOXx0PwAAAMAoiXU/AAAAQC0cdD8AAADgRdx0PwAAAGBdQ3o/AAAAIDNB6D8AAACguPO7PwAAAOCUzqY/AAAAQLrLmD8AAADA7o+PPwAAAIAUR4Q/AAAAYOFDfj8AAADA71h3PwAAAMARpm8/AAAAgNx1aj8AAABAp0VlPwAAAOBxFWA/AAAAIIrGYD8AAACgHdRWPwAAAGAFI1Y/AAAAAEloVD8AAADAxqtLPwAAACDQ8lA/AAAAINXARD8AAABA7XFFPwAAACD3DT0/AAAAgIytQj8AAADApF4zPwAAAMA1hTc/AAAAYHT8MT8AAABgBSM2PwAAAGAFIxY/AAAAwKReMz8AAAAARJogPwAAAGAFIyY/AAAAwMarKz8AAADAxqsbPwAAAGAFIyY/AAAAwMarGz8AAADAxqsbPwAAAABEmhA/AAAAwMarGz8AAAAgZucoPwAAAMCkXiM/AAAAYAUjJj8AAAAARJoQPwAAAGAFIwY/AAAAAESaID8AAADAxqsbPwAAAABEmhA/AAAAYAUjBj8AAADApF4jPwAAAGAFIwY/\",\"dtype\":\"float64\",\"shape\":[144]}},\"selected\":{\"id\":\"1540\",\"type\":\"Selection\"},\"selection_policy\":{\"id\":\"1539\",\"type\":\"UnionRenderers\"}},\"id\":\"1476\",\"type\":\"ColumnDataSource\"},{\"attributes\":{\"filters\":[{\"id\":\"1490\",\"type\":\"GroupFilter\"}],\"source\":{\"id\":\"1476\",\"type\":\"ColumnDataSource\"}},\"id\":\"1491\",\"type\":\"CDSView\"},{\"attributes\":{},\"id\":\"1461\",\"type\":\"PanTool\"},{\"attributes\":{\"fill_color\":{\"field\":\"label\",\"transform\":{\"id\":\"1477\",\"type\":\"CategoricalColorMapper\"}},\"line_color\":{\"field\":\"label\",\"transform\":{\"id\":\"1477\",\"type\":\"CategoricalColorMapper\"}},\"x\":{\"field\":\"x\"},\"y\":{\"field\":\"y\"}},\"id\":\"1493\",\"type\":\"Circle\"},{\"attributes\":{\"bottom_units\":\"screen\",\"fill_alpha\":{\"value\":0.5},\"fill_color\":{\"value\":\"lightgrey\"},\"left_units\":\"screen\",\"level\":\"overlay\",\"line_alpha\":{\"value\":1.0},\"line_color\":{\"value\":\"black\"},\"line_dash\":[4,4],\"line_width\":{\"value\":2},\"render_mode\":\"css\",\"right_units\":\"screen\",\"top_units\":\"screen\"},\"id\":\"1541\",\"type\":\"BoxAnnotation\"}],\"root_ids\":[\"1440\"]},\"title\":\"Bokeh Application\",\"version\":\"1.2.0\"}};\n",
       "  var render_items = [{\"docid\":\"57015755-36e0-411f-a16c-74e1720473a4\",\"roots\":{\"1440\":\"42661852-7f09-4023-8837-2db86a38fe73\"}}];\n",
       "  root.Bokeh.embed.embed_items_notebook(docs_json, render_items);\n",
       "\n",
       "  }\n",
       "  if (root.Bokeh !== undefined) {\n",
       "    embed_document(root);\n",
       "  } else {\n",
       "    var attempts = 0;\n",
       "    var timer = setInterval(function(root) {\n",
       "      if (root.Bokeh !== undefined) {\n",
       "        embed_document(root);\n",
       "        clearInterval(timer);\n",
       "      }\n",
       "      attempts++;\n",
       "      if (attempts > 100) {\n",
       "        console.log(\"Bokeh: ERROR: Unable to run BokehJS code because BokehJS library is missing\");\n",
       "        clearInterval(timer);\n",
       "      }\n",
       "    }, 10, root)\n",
       "  }\n",
       "})(window);"
      ],
      "application/vnd.bokehjs_exec.v0+json": ""
     },
     "metadata": {
      "application/vnd.bokehjs_exec.v0+json": {
       "id": "1440"
      }
     },
     "output_type": "display_data"
    }
   ],
   "source": [
    "p = hl.plot.scatter(ht_ffs.ac, ht_ffs.ff, label=ht_ffs.effect,\n",
    "                    xlabel='Allele counts', ylabel='Frequency in population (log10 scale)', title='Site frequency spectrum (folded)',\n",
    "                    collect_all=True)\n",
    "p.plot_width = 800\n",
    "p.plot_height = 400\n",
    "p.y_scale = LogScale()\n",
    "show(p)"
   ]
  },
  {
   "cell_type": "code",
   "execution_count": 22,
   "metadata": {},
   "outputs": [
    {
     "data": {
      "text/html": [
       "<div>\n",
       "<style scoped>\n",
       "    .dataframe tbody tr th:only-of-type {\n",
       "        vertical-align: middle;\n",
       "    }\n",
       "\n",
       "    .dataframe tbody tr th {\n",
       "        vertical-align: top;\n",
       "    }\n",
       "\n",
       "    .dataframe thead th {\n",
       "        text-align: right;\n",
       "    }\n",
       "</style>\n",
       "<table border=\"1\" class=\"dataframe\">\n",
       "  <thead>\n",
       "    <tr style=\"text-align: right;\">\n",
       "      <th></th>\n",
       "      <th>type</th>\n",
       "      <th>count</th>\n",
       "    </tr>\n",
       "  </thead>\n",
       "  <tbody>\n",
       "    <tr>\n",
       "      <th>0</th>\n",
       "      <td>conservative_inframe_deletion&amp;splice_region_va...</td>\n",
       "      <td>18</td>\n",
       "    </tr>\n",
       "    <tr>\n",
       "      <th>1</th>\n",
       "      <td>stop_lost&amp;conservative_inframe_deletion</td>\n",
       "      <td>10</td>\n",
       "    </tr>\n",
       "    <tr>\n",
       "      <th>2</th>\n",
       "      <td>stop_gained&amp;disruptive_inframe_insertion&amp;splic...</td>\n",
       "      <td>10</td>\n",
       "    </tr>\n",
       "    <tr>\n",
       "      <th>3</th>\n",
       "      <td>splice_acceptor_variant&amp;3_prime_UTR_variant&amp;in...</td>\n",
       "      <td>1</td>\n",
       "    </tr>\n",
       "    <tr>\n",
       "      <th>4</th>\n",
       "      <td>stop_lost</td>\n",
       "      <td>104</td>\n",
       "    </tr>\n",
       "    <tr>\n",
       "      <th>...</th>\n",
       "      <td>...</td>\n",
       "      <td>...</td>\n",
       "    </tr>\n",
       "    <tr>\n",
       "      <th>82</th>\n",
       "      <td>transcript_ablation</td>\n",
       "      <td>1</td>\n",
       "    </tr>\n",
       "    <tr>\n",
       "      <th>83</th>\n",
       "      <td>start_lost&amp;disruptive_inframe_deletion</td>\n",
       "      <td>1</td>\n",
       "    </tr>\n",
       "    <tr>\n",
       "      <th>84</th>\n",
       "      <td>stop_lost&amp;disruptive_inframe_insertion</td>\n",
       "      <td>5</td>\n",
       "    </tr>\n",
       "    <tr>\n",
       "      <th>85</th>\n",
       "      <td>stop_gained&amp;splice_acceptor_variant&amp;disruptive...</td>\n",
       "      <td>1</td>\n",
       "    </tr>\n",
       "    <tr>\n",
       "      <th>86</th>\n",
       "      <td>splice_donor_variant&amp;disruptive_inframe_deleti...</td>\n",
       "      <td>17</td>\n",
       "    </tr>\n",
       "  </tbody>\n",
       "</table>\n",
       "<p>87 rows × 2 columns</p>\n",
       "</div>"
      ],
      "text/plain": [
       "                                                 type  count\n",
       "0   conservative_inframe_deletion&splice_region_va...     18\n",
       "1             stop_lost&conservative_inframe_deletion     10\n",
       "2   stop_gained&disruptive_inframe_insertion&splic...     10\n",
       "3   splice_acceptor_variant&3_prime_UTR_variant&in...      1\n",
       "4                                           stop_lost    104\n",
       "..                                                ...    ...\n",
       "82                                transcript_ablation      1\n",
       "83             start_lost&disruptive_inframe_deletion      1\n",
       "84             stop_lost&disruptive_inframe_insertion      5\n",
       "85  stop_gained&splice_acceptor_variant&disruptive...      1\n",
       "86  splice_donor_variant&disruptive_inframe_deleti...     17\n",
       "\n",
       "[87 rows x 2 columns]"
      ]
     },
     "execution_count": 22,
     "metadata": {},
     "output_type": "execute_result"
    }
   ],
   "source": [
    "pd.DataFrame.from_dict({'type': effect_count.keys(), 'count': effect_count.values()})"
   ]
  },
  {
   "cell_type": "code",
   "execution_count": null,
   "metadata": {},
   "outputs": [],
   "source": []
  },
  {
   "cell_type": "code",
   "execution_count": null,
   "metadata": {},
   "outputs": [],
   "source": []
  }
 ],
 "metadata": {
  "kernelspec": {
   "display_name": "Python 3",
   "language": "python",
   "name": "python3"
  },
  "language_info": {
   "codemirror_mode": {
    "name": "ipython",
    "version": 3
   },
   "file_extension": ".py",
   "mimetype": "text/x-python",
   "name": "python",
   "nbconvert_exporter": "python",
   "pygments_lexer": "ipython3",
   "version": "3.9.2"
  }
 },
 "nbformat": 4,
 "nbformat_minor": 4
}
