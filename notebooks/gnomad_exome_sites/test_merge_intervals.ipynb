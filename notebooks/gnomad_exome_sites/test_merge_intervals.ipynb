{
 "cells": [
  {
   "cell_type": "code",
   "execution_count": 1,
   "id": "impressive-relevance",
   "metadata": {},
   "outputs": [
    {
     "name": "stderr",
     "output_type": "stream",
     "text": [
      "Running on Apache Spark version 2.4.1\n",
      "SparkUI available at http://hms-beagle-7889d4ff4c-6wxtc:4042\n",
      "Welcome to\n",
      "     __  __     <>__\n",
      "    / /_/ /__  __/ /\n",
      "   / __  / _ `/ / /\n",
      "  /_/ /_/\\_,_/_/_/   version 0.2.61-3c86d3ba497a\n",
      "LOGGING: writing to /home/olavur/experiments/2020-11-13_fargen1_exome_analysis/fargen-1-exome/notebooks/gnomad_exome_sites/hail-20210326-1333-0.2.61-3c86d3ba497a.log\n"
     ]
    }
   ],
   "source": [
    "import hail as hl\n",
    "hl.init(spark_conf={'spark.driver.memory': '10g'}, tmp_dir='/home/olavur/tmp')"
   ]
  },
  {
   "cell_type": "code",
   "execution_count": 12,
   "id": "brutal-chapel",
   "metadata": {},
   "outputs": [],
   "source": [
    "BASE_DIR = '/home/olavur/experiments/2020-11-13_fargen1_exome_analysis'\n",
    "RESOURCES_DIR = '/non-fargen/resources'"
   ]
  },
  {
   "cell_type": "markdown",
   "id": "complete-bracelet",
   "metadata": {},
   "source": [
    "## Load exome target files\n",
    "\n",
    "Load the SureSelect Human All Exon V6 UTR target BED file, which is used in the FarGen Phase I exome sequencing."
   ]
  },
  {
   "cell_type": "code",
   "execution_count": 13,
   "id": "powered-strike",
   "metadata": {},
   "outputs": [
    {
     "name": "stderr",
     "output_type": "stream",
     "text": [
      "2021-03-26 13:41:21 Hail: INFO: Reading table without type imputation\n",
      "  Loading field 'f0' as type str (user-supplied)\n",
      "  Loading field 'f1' as type int32 (user-supplied)\n",
      "  Loading field 'f2' as type int32 (user-supplied)\n",
      "  Loading field 'f3' as type str (user-supplied)\n"
     ]
    }
   ],
   "source": [
    "fargen_interval_ht = hl.import_bed(RESOURCES_DIR + '/sureselect_human_all_exon_v6_utr_grch38/S07604624_Padded.bed', reference_genome='GRCh38')"
   ]
  },
  {
   "cell_type": "code",
   "execution_count": 127,
   "id": "israeli-receiver",
   "metadata": {},
   "outputs": [],
   "source": [
    "gnomAD_interval_ht = hl.read_table(BASE_DIR + '/data/resources/gnomAD/exome_calling_regions.v1.GRCh38.ht')"
   ]
  },
  {
   "cell_type": "markdown",
   "id": "seventh-creator",
   "metadata": {},
   "source": [
    "## Interval overlaps"
   ]
  },
  {
   "cell_type": "markdown",
   "id": "forced-billion",
   "metadata": {},
   "source": [
    "### Tests\n",
    "\n",
    "Temporary variable names for tables."
   ]
  },
  {
   "cell_type": "code",
   "execution_count": 166,
   "id": "compact-wayne",
   "metadata": {},
   "outputs": [],
   "source": [
    "ht1 = fargen_interval_ht\n",
    "ht2 = gnomAD_interval_ht"
   ]
  },
  {
   "cell_type": "markdown",
   "id": "dietary-deadline",
   "metadata": {},
   "source": [
    "Key one table by start."
   ]
  },
  {
   "cell_type": "code",
   "execution_count": 189,
   "id": "frank-confusion",
   "metadata": {},
   "outputs": [],
   "source": [
    "ht1 = ht1.annotate(_interval=ht1.interval)"
   ]
  },
  {
   "cell_type": "code",
   "execution_count": 167,
   "id": "agricultural-rover",
   "metadata": {},
   "outputs": [],
   "source": [
    "ht2 = ht2.annotate(start=ht2.interval.start)\n",
    "ht2 = ht2.key_by(ht2.start)"
   ]
  },
  {
   "cell_type": "code",
   "execution_count": 190,
   "id": "dietary-accordance",
   "metadata": {},
   "outputs": [
    {
     "name": "stdout",
     "output_type": "stream",
     "text": [
      "----------------------------------------\n",
      "Global fields:\n",
      "    None\n",
      "----------------------------------------\n",
      "Row fields:\n",
      "    'interval': interval<locus<GRCh38>> \n",
      "    'target': str \n",
      "    '_interval': interval<locus<GRCh38>> \n",
      "----------------------------------------\n",
      "Key: ['interval']\n",
      "----------------------------------------\n"
     ]
    }
   ],
   "source": [
    "ht1.describe()"
   ]
  },
  {
   "cell_type": "code",
   "execution_count": 191,
   "id": "alike-clause",
   "metadata": {},
   "outputs": [
    {
     "name": "stdout",
     "output_type": "stream",
     "text": [
      "----------------------------------------\n",
      "Global fields:\n",
      "    None\n",
      "----------------------------------------\n",
      "Row fields:\n",
      "    'interval': interval<locus<GRCh38>> \n",
      "    'target': str \n",
      "    'start': locus<GRCh38> \n",
      "----------------------------------------\n",
      "Key: ['start']\n",
      "----------------------------------------\n"
     ]
    }
   ],
   "source": [
    "ht2.describe()"
   ]
  },
  {
   "cell_type": "code",
   "execution_count": 192,
   "id": "upper-snowboard",
   "metadata": {},
   "outputs": [
    {
     "data": {
      "text/plain": [
       "<ArrayStructExpression of type array<struct{target: str, _interval: interval<locus<GRCh38>>}>>"
      ]
     },
     "execution_count": 192,
     "metadata": {},
     "output_type": "execute_result"
    }
   ],
   "source": [
    "ht1.index(ht2.key, all_matches=True)"
   ]
  },
  {
   "cell_type": "code",
   "execution_count": 195,
   "id": "electric-toolbox",
   "metadata": {},
   "outputs": [],
   "source": [
    "temp_ht = ht2.select(interval=ht1.index(ht2.key, all_matches=True)._interval)"
   ]
  },
  {
   "cell_type": "code",
   "execution_count": 196,
   "id": "collected-homeless",
   "metadata": {},
   "outputs": [
    {
     "name": "stdout",
     "output_type": "stream",
     "text": [
      "----------------------------------------\n",
      "Global fields:\n",
      "    None\n",
      "----------------------------------------\n",
      "Row fields:\n",
      "    'start': locus<GRCh38> \n",
      "    'interval': array<interval<locus<GRCh38>>> \n",
      "----------------------------------------\n",
      "Key: ['start']\n",
      "----------------------------------------\n"
     ]
    }
   ],
   "source": [
    "temp_ht.describe()"
   ]
  },
  {
   "cell_type": "markdown",
   "id": "consistent-settlement",
   "metadata": {},
   "source": [
    "## Write table to file"
   ]
  },
  {
   "cell_type": "code",
   "execution_count": 14,
   "id": "extraordinary-february",
   "metadata": {},
   "outputs": [
    {
     "name": "stderr",
     "output_type": "stream",
     "text": [
      "2021-03-26 10:03:02 Hail: INFO: Coerced sorted dataset\n",
      "2021-03-26 10:06:43 Hail: INFO: wrote table with 16320689 rows in 9997 partitions to /home/olavur/experiments/2020-11-13_fargen1_exome_analysis/data/resources/gnomAD/gnomad.exomes.r2.1.1.sites.GRCh38.EXOME_HIGH_QUALITY.ht\n",
      "    Total size: 40.13 GiB\n",
      "    * Rows: 40.13 GiB\n",
      "    * Globals: 4.59 KiB\n",
      "    * Smallest partition: 0 rows (21.00 B)\n",
      "    * Largest partition:  2054 rows (7.57 MiB)\n"
     ]
    }
   ],
   "source": [
    "if True:\n",
    "    gnomad_ht.write(BASE_DIR + '/data/resources/gnomAD/gnomad.exomes.r2.1.1.sites.GRCh38.EXOME_HIGH_QUALITY.ht', overwrite=True)"
   ]
  },
  {
   "cell_type": "code",
   "execution_count": null,
   "id": "coated-mention",
   "metadata": {},
   "outputs": [],
   "source": []
  }
 ],
 "metadata": {
  "kernelspec": {
   "display_name": "Python [conda env:fargen-1-exome]",
   "language": "python",
   "name": "conda-env-fargen-1-exome-py"
  },
  "language_info": {
   "codemirror_mode": {
    "name": "ipython",
    "version": 3
   },
   "file_extension": ".py",
   "mimetype": "text/x-python",
   "name": "python",
   "nbconvert_exporter": "python",
   "pygments_lexer": "ipython3",
   "version": "3.7.10"
  }
 },
 "nbformat": 4,
 "nbformat_minor": 5
}
