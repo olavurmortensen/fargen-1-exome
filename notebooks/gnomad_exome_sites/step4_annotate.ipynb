{
 "cells": [
  {
   "cell_type": "code",
   "execution_count": 2,
   "id": "92148cae-63dc-46c0-9079-a11b84bb8bd8",
   "metadata": {},
   "outputs": [
    {
     "name": "stderr",
     "output_type": "stream",
     "text": [
      "Running on Apache Spark version 2.4.1\n",
      "SparkUI available at http://hms-beagle-848846b477-48ks9:4042\n",
      "Welcome to\n",
      "     __  __     <>__\n",
      "    / /_/ /__  __/ /\n",
      "   / __  / _ `/ / /\n",
      "  /_/ /_/\\_,_/_/_/   version 0.2.61-3c86d3ba497a\n",
      "LOGGING: writing to /home/olavur/experiments/2020-11-13_fargen1_exome_analysis/fargen-1-exome/notebooks/gnomad_exome_sites/hail-20210628-1248-0.2.61-3c86d3ba497a.log\n"
     ]
    }
   ],
   "source": [
    "import hail as hl\n",
    "hl.init(spark_conf={'spark.driver.memory': '10g'}, tmp_dir='/home/olavur/tmp')"
   ]
  },
  {
   "cell_type": "code",
   "execution_count": 3,
   "id": "5bdf5054-882f-4619-a7be-37ba002fc4fe",
   "metadata": {},
   "outputs": [],
   "source": [
    "BASE_DIR = '/home/olavur/experiments/2020-11-13_fargen1_exome_analysis'\n",
    "RESOURCES_DIR = '/data/other/resources'"
   ]
  },
  {
   "cell_type": "markdown",
   "id": "2f47ad6d-73de-473d-b4f6-87e3bdedd8e7",
   "metadata": {},
   "source": [
    "## Read merged Hail table"
   ]
  },
  {
   "cell_type": "code",
   "execution_count": 45,
   "id": "52dafe4a-7645-4650-aac6-69c89db2d43f",
   "metadata": {},
   "outputs": [],
   "source": [
    "ht = hl.read_table(BASE_DIR + '/data/resources/gnomad_exome_sites/fargen_gnomad_union_filtered.ht')"
   ]
  },
  {
   "cell_type": "code",
   "execution_count": 40,
   "id": "4616fd99-e401-4cb4-a899-2fd2daab8be3",
   "metadata": {},
   "outputs": [
    {
     "name": "stdout",
     "output_type": "stream",
     "text": [
      "Number of variants: 15904432\n"
     ]
    }
   ],
   "source": [
    "n_variants = ht.count()\n",
    "print('Number of variants: ' + str(n_variants))"
   ]
  },
  {
   "cell_type": "markdown",
   "id": "ef38a626-ae84-48d5-a053-53de52cfabc9",
   "metadata": {},
   "source": [
    "## Write Hail table to VCF\n",
    "\n",
    "The `hl.export_vcf()` function does not export all fields in the table. We will annotate the `info` field with all the information we need."
   ]
  },
  {
   "cell_type": "code",
   "execution_count": 46,
   "id": "1340afd1-20f8-4962-88aa-3f01af129759",
   "metadata": {},
   "outputs": [],
   "source": [
    "ht = ht.annotate(info=hl.struct())\n",
    "ht = ht.annotate(info = ht.info.annotate(fae=ht.fae,\n",
    "                                        gnomad_all = ht.gnomad_all,\n",
    "                                        afr = ht.afr,\n",
    "                                        sas = ht.sas,\n",
    "                                        amr = ht.amr,\n",
    "                                        eas = ht.eas,\n",
    "                                        nfe = ht.nfe,\n",
    "                                        fin = ht.fin,\n",
    "                                        nfe_nwe = ht.nfe_nwe,\n",
    "                                        nfe_seu = ht.nfe_seu)) "
   ]
  },
  {
   "cell_type": "code",
   "execution_count": 62,
   "id": "cccda74c-a674-4e67-a6c9-ecec0ab91119",
   "metadata": {},
   "outputs": [],
   "source": [
    "# Metadata to for the VCF header.\n",
    "# If the description is blank, SnpEff won't run.\n",
    "metadata = {'info':\n",
    "            {'fae': {'Description': 'fae'},\n",
    "            'gnomad_all': {'Description': 'gnomad_all'},\n",
    "            'afr': {'Description': 'afr'},\n",
    "            'sas': {'Description': 'sas'},\n",
    "            'amr': {'Description': 'amr'},\n",
    "            'eas': {'Description': 'eas'},\n",
    "            'nfe': {'Description': 'nfe'},\n",
    "            'fin': {'Description': 'fin'},\n",
    "            'nfe_nwe': {'Description': 'nfe_nwe'},\n",
    "            'nfe_seu': {'Description': 'nfe_seu'}\n",
    "           }}"
   ]
  },
  {
   "cell_type": "code",
   "execution_count": 64,
   "id": "58ce07b8-7934-410d-9ec9-8d54a004e1c7",
   "metadata": {},
   "outputs": [
    {
     "name": "stderr",
     "output_type": "stream",
     "text": [
      "2021-06-28 13:38:42 Hail: WARN: export_vcf: ignored the following fields:\n",
      "    'fae' (row)\n",
      "    'gnomad_all' (row)\n",
      "    'afr' (row)\n",
      "    'sas' (row)\n",
      "    'amr' (row)\n",
      "    'eas' (row)\n",
      "    'nfe' (row)\n",
      "    'fin' (row)\n",
      "    'nfe_nwe' (row)\n",
      "    'nfe_seu' (row)\n",
      "2021-06-28 13:39:57 Hail: INFO: merging 10034 files totalling 297.1K...\n",
      "2021-06-28 13:40:08 Hail: INFO: while writing:\n",
      "    /home/olavur/tmp/fargen_gnomad_union_filtered.vcf.bgz\n",
      "  merge time: 11.018s\n"
     ]
    }
   ],
   "source": [
    "hl.export_vcf(ht, '/home/olavur/tmp/fargen_gnomad_union_filtered.vcf.bgz', metadata=metadata)"
   ]
  },
  {
   "cell_type": "markdown",
   "id": "0dc0927d-56d0-4bbf-8746-b01d5ed6f9f3",
   "metadata": {},
   "source": [
    "## Annotate data using SnpEff"
   ]
  },
  {
   "cell_type": "code",
   "execution_count": 68,
   "id": "b1317069-e7e5-4525-a13d-7574eaf259b0",
   "metadata": {},
   "outputs": [],
   "source": [
    "%%bash --out snpeff_out --err snpeff_err\n",
    "\n",
    "snpEff -Xmx10g \\\n",
    "     -i vcf \\\n",
    "     -o vcf \\\n",
    "     -nodownload \\\n",
    "     -dataDir /data/other/resources/snpeff_data \\\n",
    "     hg38 \\\n",
    "     -noStats \\\n",
    "     -v /home/olavur/tmp/fargen_gnomad_union_filtered.vcf.bgz > /home/olavur/tmp/fargen_gnomad_union_annotated.vcf"
   ]
  },
  {
   "cell_type": "markdown",
   "id": "2152e5c8-5575-4d2a-8fcc-edf3272fb898",
   "metadata": {},
   "source": [
    "## Convert VCF to Hail table"
   ]
  },
  {
   "cell_type": "code",
   "execution_count": 89,
   "id": "468de762-18d7-41df-b29b-c8c95f8ddd6d",
   "metadata": {},
   "outputs": [],
   "source": [
    "ann_mt = hl.import_vcf('/home/olavur/tmp/fargen_gnomad_union_annotated.vcf', reference_genome='GRCh38')"
   ]
  },
  {
   "cell_type": "code",
   "execution_count": 90,
   "id": "d8840bea-776a-4eee-b532-3d5e67886b74",
   "metadata": {},
   "outputs": [],
   "source": [
    "ann_ht = ann_mt.rows()"
   ]
  },
  {
   "cell_type": "code",
   "execution_count": 86,
   "id": "59549351-c89d-4566-8245-fd6c38127a0d",
   "metadata": {},
   "outputs": [
    {
     "name": "stderr",
     "output_type": "stream",
     "text": [
      "2021-06-28 13:55:52 Hail: INFO: Coerced sorted dataset\n",
      "2021-06-28 13:55:52 Hail: INFO: wrote table with 15 rows in 1 partition to /home/olavur/experiments/2020-11-13_fargen1_exome_analysis/data/resources/gnomad_exome_sites/fargen_gnomad_union_annotated.ht\n",
      "    Total size: 2.34 KiB\n",
      "    * Rows: 2.33 KiB\n",
      "    * Globals: 11.00 B\n",
      "    * Smallest partition: 15 rows (2.33 KiB)\n",
      "    * Largest partition:  15 rows (2.33 KiB)\n"
     ]
    }
   ],
   "source": [
    "if True:\n",
    "    ann_ht.write(BASE_DIR + '/data/resources/gnomad_exome_sites/fargen_gnomad_union_annotated.ht', overwrite=True)"
   ]
  },
  {
   "cell_type": "code",
   "execution_count": 87,
   "id": "aa04b820-972f-4b18-8647-a7ec7f830f9a",
   "metadata": {},
   "outputs": [],
   "source": [
    "ann_ht = hl.read_table(BASE_DIR + '/data/resources/gnomad_exome_sites/fargen_gnomad_union_annotated.ht')"
   ]
  },
  {
   "cell_type": "code",
   "execution_count": 88,
   "id": "f506b4d9-cb48-4061-8825-e1e54359ea1d",
   "metadata": {},
   "outputs": [
    {
     "name": "stdout",
     "output_type": "stream",
     "text": [
      "Number of variants: 15\n"
     ]
    }
   ],
   "source": [
    "n_variants = ann_ht.count()\n",
    "print('Number of variants: ' + str(n_variants))"
   ]
  }
 ],
 "metadata": {
  "kernelspec": {
   "display_name": "Python [conda env:fargen-1-exome]",
   "language": "python",
   "name": "conda-env-fargen-1-exome-py"
  },
  "language_info": {
   "codemirror_mode": {
    "name": "ipython",
    "version": 3
   },
   "file_extension": ".py",
   "mimetype": "text/x-python",
   "name": "python",
   "nbconvert_exporter": "python",
   "pygments_lexer": "ipython3",
   "version": "3.7.10"
  }
 },
 "nbformat": 4,
 "nbformat_minor": 5
}
