{
 "cells": [
  {
   "cell_type": "markdown",
   "id": "412cfde3-361d-45b1-b301-9a0a6abf1e22",
   "metadata": {},
   "source": [
    "# Annotate the FarGen/gnomAD data with SnpEff"
   ]
  },
  {
   "cell_type": "code",
   "execution_count": 1,
   "id": "92148cae-63dc-46c0-9079-a11b84bb8bd8",
   "metadata": {},
   "outputs": [
    {
     "name": "stdout",
     "output_type": "stream",
     "text": [
      "2021-10-07 12:15:02 WARN  NativeCodeLoader:62 - Unable to load native-hadoop library for your platform... using builtin-java classes where applicable\n"
     ]
    },
    {
     "name": "stderr",
     "output_type": "stream",
     "text": [
      "Setting default log level to \"WARN\".\n",
      "To adjust logging level use sc.setLogLevel(newLevel). For SparkR, use setLogLevel(newLevel).\n"
     ]
    },
    {
     "name": "stdout",
     "output_type": "stream",
     "text": [
      "2021-10-07 12:15:03 WARN  Hail:37 - This Hail JAR was compiled for Spark 2.4.5, running with Spark 2.4.1.\n",
      "  Compatibility is not guaranteed.\n"
     ]
    },
    {
     "name": "stderr",
     "output_type": "stream",
     "text": [
      "Running on Apache Spark version 2.4.1\n",
      "SparkUI available at http://hms-beagle-6676655f87-9xllv:4040\n",
      "Welcome to\n",
      "     __  __     <>__\n",
      "    / /_/ /__  __/ /\n",
      "   / __  / _ `/ / /\n",
      "  /_/ /_/\\_,_/_/_/   version 0.2.61-3c86d3ba497a\n",
      "LOGGING: writing to /home/olavur/experiments/2020-11-13_fargen1_exome_analysis/fargen-1-exome/notebooks/gnomad_exome_sites/hail-20211007-1215-0.2.61-3c86d3ba497a.log\n"
     ]
    }
   ],
   "source": [
    "import hail as hl\n",
    "hl.init(spark_conf={'spark.driver.memory': '10g'}, tmp_dir='/home/olavur/tmp')"
   ]
  },
  {
   "cell_type": "code",
   "execution_count": 2,
   "id": "5bdf5054-882f-4619-a7be-37ba002fc4fe",
   "metadata": {},
   "outputs": [],
   "source": [
    "BASE_DIR = '/home/olavur/experiments/2020-11-13_fargen1_exome_analysis'\n",
    "RESOURCES_DIR = '/data/other/resources'"
   ]
  },
  {
   "cell_type": "markdown",
   "id": "2f47ad6d-73de-473d-b4f6-87e3bdedd8e7",
   "metadata": {},
   "source": [
    "## Read merged Hail table"
   ]
  },
  {
   "cell_type": "code",
   "execution_count": 3,
   "id": "52dafe4a-7645-4650-aac6-69c89db2d43f",
   "metadata": {},
   "outputs": [],
   "source": [
    "ht = hl.read_table(BASE_DIR + '/data/resources/gnomad_exome_sites/fargen_gnomad_union_filtered.ht')"
   ]
  },
  {
   "cell_type": "code",
   "execution_count": 4,
   "id": "4616fd99-e401-4cb4-a899-2fd2daab8be3",
   "metadata": {},
   "outputs": [
    {
     "name": "stdout",
     "output_type": "stream",
     "text": [
      "Number of variants: 15692611\n"
     ]
    }
   ],
   "source": [
    "n_variants = ht.count()\n",
    "print('Number of variants: ' + str(n_variants))"
   ]
  },
  {
   "cell_type": "markdown",
   "id": "ef38a626-ae84-48d5-a053-53de52cfabc9",
   "metadata": {},
   "source": [
    "## Write Hail table to VCF"
   ]
  },
  {
   "cell_type": "code",
   "execution_count": 5,
   "id": "cccda74c-a674-4e67-a6c9-ecec0ab91119",
   "metadata": {},
   "outputs": [],
   "source": [
    "# Metadata to for the VCF header.\n",
    "# If the description is blank, SnpEff won't run.\n",
    "metadata = {'info':\n",
    "            {\n",
    "                'AF_fae': {'Description': 'fae'},\n",
    "                'AF_gnomad_all': {'Description': 'gnomad_all'},\n",
    "                'AF_afr': {'Description': 'afr'},\n",
    "                'AF_sas': {'Description': 'sas'},\n",
    "                'AF_amr': {'Description': 'amr'},\n",
    "                'AF_eas': {'Description': 'eas'},\n",
    "                'AF_nfe': {'Description': 'nfe'},\n",
    "                'AF_fin': {'Description': 'fin'},\n",
    "                'AF_nfe_nwe': {'Description': 'nfe_nwe'},\n",
    "                'AF_nfe_seu': {'Description': 'nfe_seu'},\n",
    "                'AC_fae': {'Description': 'fae'},\n",
    "                'AC_gnomad_all': {'Description': 'gnomad_all'},\n",
    "                'AC_afr': {'Description': 'afr'},\n",
    "                'AC_sas': {'Description': 'sas'},\n",
    "                'AC_amr': {'Description': 'amr'},\n",
    "                'AC_eas': {'Description': 'eas'},\n",
    "                'AC_nfe': {'Description': 'nfe'},\n",
    "                'AC_fin': {'Description': 'fin'},\n",
    "                'AC_nfe_nwe': {'Description': 'nfe_nwe'},\n",
    "                'AC_nfe_seu': {'Description': 'nfe_seu'}\n",
    "            }\n",
    "           }"
   ]
  },
  {
   "cell_type": "code",
   "execution_count": 6,
   "id": "58ce07b8-7934-410d-9ec9-8d54a004e1c7",
   "metadata": {},
   "outputs": [
    {
     "name": "stderr",
     "output_type": "stream",
     "text": [
      "[Stage 0:=================================================>(10001 + 24) / 10034]2021-10-05 13:53:16 Hail: INFO: merging 10034 files totalling 428.8M...\n",
      "2021-10-05 13:53:30 Hail: INFO: while writing:\n",
      "    /home/olavur/tmp/fargen_gnomad_union_filtered.vcf.bgz\n",
      "  merge time: 14.349s\n"
     ]
    }
   ],
   "source": [
    "hl.export_vcf(ht, '/home/olavur/tmp/fargen_gnomad_union_filtered.vcf.bgz', metadata=metadata)"
   ]
  },
  {
   "cell_type": "markdown",
   "id": "0dc0927d-56d0-4bbf-8746-b01d5ed6f9f3",
   "metadata": {},
   "source": [
    "## Annotate data using SnpEff"
   ]
  },
  {
   "cell_type": "code",
   "execution_count": null,
   "id": "b1317069-e7e5-4525-a13d-7574eaf259b0",
   "metadata": {},
   "outputs": [],
   "source": [
    "%%bash --out snpeff_out --err snpeff_err\n",
    "\n",
    "snpEff -Xmx10g \\\n",
    "     -i vcf \\\n",
    "     -o vcf \\\n",
    "     -nodownload \\\n",
    "     -dataDir /data/other/resources/snpeff_data \\\n",
    "     hg38 \\\n",
    "     -noStats \\\n",
    "     -v /home/olavur/tmp/fargen_gnomad_union_filtered.vcf.bgz > /home/olavur/tmp/fargen_gnomad_union_annotated.vcf"
   ]
  },
  {
   "cell_type": "markdown",
   "id": "2152e5c8-5575-4d2a-8fcc-edf3272fb898",
   "metadata": {},
   "source": [
    "## Convert VCF to Hail table"
   ]
  },
  {
   "cell_type": "code",
   "execution_count": null,
   "id": "468de762-18d7-41df-b29b-c8c95f8ddd6d",
   "metadata": {},
   "outputs": [],
   "source": [
    "ann_mt = hl.import_vcf('/home/olavur/tmp/fargen_gnomad_union_annotated.vcf', reference_genome='GRCh38')"
   ]
  },
  {
   "cell_type": "code",
   "execution_count": null,
   "id": "d8840bea-776a-4eee-b532-3d5e67886b74",
   "metadata": {},
   "outputs": [],
   "source": [
    "ann_ht = ann_mt.rows()"
   ]
  },
  {
   "cell_type": "code",
   "execution_count": null,
   "id": "59549351-c89d-4566-8245-fd6c38127a0d",
   "metadata": {},
   "outputs": [],
   "source": [
    "if True:\n",
    "    ann_ht.write(BASE_DIR + '/data/resources/gnomad_exome_sites/fargen_gnomad_union_annotated.ht', overwrite=True)"
   ]
  },
  {
   "cell_type": "code",
   "execution_count": 3,
   "id": "aa04b820-972f-4b18-8647-a7ec7f830f9a",
   "metadata": {},
   "outputs": [],
   "source": [
    "ann_ht = hl.read_table(BASE_DIR + '/data/resources/gnomad_exome_sites/fargen_gnomad_union_annotated.ht')"
   ]
  },
  {
   "cell_type": "code",
   "execution_count": 4,
   "id": "f506b4d9-cb48-4061-8825-e1e54359ea1d",
   "metadata": {},
   "outputs": [
    {
     "name": "stdout",
     "output_type": "stream",
     "text": [
      "Number of variants: 15692611\n"
     ]
    }
   ],
   "source": [
    "n_variants = ann_ht.count()\n",
    "print('Number of variants: ' + str(n_variants))"
   ]
  }
 ],
 "metadata": {
  "kernelspec": {
   "display_name": "Python [conda env:fargen-1-exome]",
   "language": "python",
   "name": "conda-env-fargen-1-exome-py"
  },
  "language_info": {
   "codemirror_mode": {
    "name": "ipython",
    "version": 3
   },
   "file_extension": ".py",
   "mimetype": "text/x-python",
   "name": "python",
   "nbconvert_exporter": "python",
   "pygments_lexer": "ipython3",
   "version": "3.7.10"
  }
 },
 "nbformat": 4,
 "nbformat_minor": 5
}
