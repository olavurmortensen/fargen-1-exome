{
 "cells": [
  {
   "cell_type": "markdown",
   "metadata": {},
   "source": [
    "# GnomAD v2.1.1 exome sites liftover"
   ]
  },
  {
   "cell_type": "code",
   "execution_count": 2,
   "metadata": {},
   "outputs": [
    {
     "name": "stderr",
     "output_type": "stream",
     "text": [
      "Running on Apache Spark version 2.4.1\n",
      "SparkUI available at http://hms-beagle-7889d4ff4c-6wxtc:4041\n",
      "Welcome to\n",
      "     __  __     <>__\n",
      "    / /_/ /__  __/ /\n",
      "   / __  / _ `/ / /\n",
      "  /_/ /_/\\_,_/_/_/   version 0.2.61-3c86d3ba497a\n",
      "LOGGING: writing to /home/olavur/experiments/2020-11-13_fargen1_exome_analysis/fargen-1-exome/notebooks/gnomad_exome_sites/hail-20210326-1301-0.2.61-3c86d3ba497a.log\n"
     ]
    }
   ],
   "source": [
    "import hail as hl\n",
    "hl.init(spark_conf={'spark.driver.memory': '100g'}, tmp_dir='/home/olavur/tmp')"
   ]
  },
  {
   "cell_type": "markdown",
   "metadata": {},
   "source": [
    "## Load gnomAD exome sites data"
   ]
  },
  {
   "cell_type": "code",
   "execution_count": 3,
   "metadata": {},
   "outputs": [],
   "source": [
    "BASE_DIR = '/home/olavur/experiments/2020-11-13_fargen1_exome_analysis'"
   ]
  },
  {
   "cell_type": "code",
   "execution_count": 4,
   "metadata": {},
   "outputs": [],
   "source": [
    "gnomad_ht = hl.read_table(BASE_DIR + '/data/resources/gnomAD/gnomad.exomes.r2.1.1.sites.ht')"
   ]
  },
  {
   "cell_type": "code",
   "execution_count": 5,
   "metadata": {},
   "outputs": [
    {
     "name": "stdout",
     "output_type": "stream",
     "text": [
      "Number of variants: 17209972\n"
     ]
    }
   ],
   "source": [
    "n_variants = gnomad_ht.count()\n",
    "print('Number of variants: ' + str(n_variants))"
   ]
  },
  {
   "cell_type": "markdown",
   "metadata": {},
   "source": [
    "## Liftover\n",
    "\n",
    "Convert the dataset from reference genom GRCh37 to GRCh38."
   ]
  },
  {
   "cell_type": "code",
   "execution_count": 4,
   "metadata": {},
   "outputs": [],
   "source": [
    "# Create a liftover from GRCh37 to GRCh38.\n",
    "rg37 = hl.get_reference('GRCh37')\n",
    "rg38 = hl.get_reference('GRCh38')\n",
    "rg37.add_liftover(BASE_DIR + '/data/resources/liftover/grch37_to_grch38.over.chain.gz', rg38)"
   ]
  },
  {
   "cell_type": "code",
   "execution_count": 7,
   "metadata": {},
   "outputs": [],
   "source": [
    "# Define the locus in GRCh38.\n",
    "gnomad_ht = gnomad_ht.annotate(new_locus=hl.liftover(gnomad_ht.locus, 'GRCh38'))\n",
    "# Remove sites where the new locus isn't defined.\n",
    "gnomad_ht = gnomad_ht.filter(hl.is_defined(gnomad_ht.new_locus))  \n",
    "# Replace the loci by the new loci, and key the rows by locus and alleles.\n",
    "# NOTE: the FarGen exome dataset is keyed by both the locus and the alleles, and it is important that the gnomAD\n",
    "# dataset is keyed by the same fields.\n",
    "gnomad_ht = gnomad_ht.key_by(locus=gnomad_ht.new_locus, alleles=gnomad_ht.alleles)\n",
    "gnomad_ht = gnomad_ht.drop('new_locus')"
   ]
  },
  {
   "cell_type": "markdown",
   "metadata": {},
   "source": [
    "## Write HailTable to disk"
   ]
  },
  {
   "cell_type": "code",
   "execution_count": 8,
   "metadata": {},
   "outputs": [
    {
     "name": "stderr",
     "output_type": "stream",
     "text": [
      "2021-03-10 12:21:13 Hail: INFO: Ordering unsorted dataset with network shuffle\n",
      "2021-03-10 12:27:23 Hail: INFO: wrote table with 17204631 rows in 9997 partitions to /home/olavur/experiments/2020-11-13_fargen1_exome_analysis/data/resources/gnomad/gnomad.exomes.r2.1.1.sites.GRCh38.ht\n",
      "    Total size: 41.89 GiB\n",
      "    * Rows: 41.89 GiB\n",
      "    * Globals: 4.59 KiB\n",
      "    * Smallest partition: 513 rows (1.01 MiB)\n",
      "    * Largest partition:  3481 rows (8.23 MiB)\n"
     ]
    }
   ],
   "source": [
    "if True:\n",
    "    gnomad_ht.write(BASE_DIR + '/data/resources/gnomAD/gnomad.exomes.r2.1.1.sites.GRCh38.ht', overwrite=True)"
   ]
  },
  {
   "cell_type": "markdown",
   "metadata": {},
   "source": [
    "## Liftover exome interval list\n",
    "\n",
    "Load the exome region list for this dataset."
   ]
  },
  {
   "cell_type": "code",
   "execution_count": 5,
   "metadata": {},
   "outputs": [
    {
     "name": "stderr",
     "output_type": "stream",
     "text": [
      "2021-03-26 13:01:44 Hail: INFO: Reading table without type imputation\n",
      "  Loading field 'f0' as type str (user-supplied)\n",
      "  Loading field 'f1' as type int32 (user-supplied)\n",
      "  Loading field 'f2' as type int32 (user-supplied)\n",
      "  Loading field 'f3' as type str (user-supplied)\n",
      "  Loading field 'f4' as type str (user-supplied)\n"
     ]
    }
   ],
   "source": [
    "interval_ht = hl.import_locus_intervals(BASE_DIR + '/data/resources/gnomAD/exome_calling_regions.v1.interval_list', reference_genome='GRCh37')"
   ]
  },
  {
   "cell_type": "markdown",
   "metadata": {},
   "source": [
    "Convert it to GRCh38."
   ]
  },
  {
   "cell_type": "code",
   "execution_count": 10,
   "metadata": {},
   "outputs": [],
   "source": [
    "# Define the interval in GRCh38.\n",
    "# NOTE: an inteval consists of two loci, a start and an end. The hl.liftover function accepts both\n",
    "# a locus and an interval.\n",
    "interval_ht = interval_ht.annotate(new_interval=hl.liftover(interval_ht.interval, 'GRCh38'))\n",
    "# Remove sites where the new locus isn't defined.\n",
    "interval_ht = interval_ht.filter(hl.is_defined(interval_ht.new_interval))  \n",
    "# Replace the loci by the new loci, and key the rows by locus and alleles.\n",
    "interval_ht = interval_ht.key_by(interval=interval_ht.new_interval)\n",
    "interval_ht = interval_ht.drop('new_interval')"
   ]
  },
  {
   "cell_type": "code",
   "execution_count": 15,
   "metadata": {},
   "outputs": [
    {
     "name": "stderr",
     "output_type": "stream",
     "text": [
      "2021-03-26 13:09:54 Hail: INFO: Ordering unsorted dataset with network shuffle\n",
      "2021-03-26 13:09:58 Hail: INFO: wrote table with 207489 rows in 1 partition to /home/olavur/experiments/2020-11-13_fargen1_exome_analysis/data/resources/gnomAD/exome_calling_regions.v1.GRCh38.interval_list\n",
      "    Total size: 5.87 MiB\n",
      "    * Rows: 5.87 MiB\n",
      "    * Globals: 11.00 B\n",
      "    * Smallest partition: 207489 rows (5.87 MiB)\n",
      "    * Largest partition:  207489 rows (5.87 MiB)\n"
     ]
    }
   ],
   "source": [
    "if True:\n",
    "    interval_ht.write(BASE_DIR + '/data/resources/gnomAD/exome_calling_regions.v1.GRCh38.ht', overwrite=True)"
   ]
  },
  {
   "cell_type": "code",
   "execution_count": null,
   "metadata": {},
   "outputs": [],
   "source": []
  }
 ],
 "metadata": {
  "kernelspec": {
   "display_name": "Python [conda env:fargen-1-exome]",
   "language": "python",
   "name": "conda-env-fargen-1-exome-py"
  },
  "language_info": {
   "codemirror_mode": {
    "name": "ipython",
    "version": 3
   },
   "file_extension": ".py",
   "mimetype": "text/x-python",
   "name": "python",
   "nbconvert_exporter": "python",
   "pygments_lexer": "ipython3",
   "version": "3.7.10"
  }
 },
 "nbformat": 4,
 "nbformat_minor": 4
}
