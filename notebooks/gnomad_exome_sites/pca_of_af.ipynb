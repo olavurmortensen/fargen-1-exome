{
 "cells": [
  {
   "cell_type": "markdown",
   "metadata": {},
   "source": [
    "# PCA of allele frequency"
   ]
  },
  {
   "cell_type": "code",
   "execution_count": 1,
   "metadata": {},
   "outputs": [
    {
     "name": "stderr",
     "output_type": "stream",
     "text": [
      "Running on Apache Spark version 2.4.1\n",
      "SparkUI available at http://hms-beagle-7889d4ff4c-6wxtc:4040\n",
      "Welcome to\n",
      "     __  __     <>__\n",
      "    / /_/ /__  __/ /\n",
      "   / __  / _ `/ / /\n",
      "  /_/ /_/\\_,_/_/_/   version 0.2.61-3c86d3ba497a\n",
      "LOGGING: writing to /home/olavur/experiments/2020-11-13_fargen1_exome_analysis/fargen-1-exome/notebooks/gnomad_exome_sites/hail-20210315-1006-0.2.61-3c86d3ba497a.log\n"
     ]
    }
   ],
   "source": [
    "import hail as hl\n",
    "hl.init(spark_conf={'spark.driver.memory': '100g', 'spark.local.dir': '/home/olavur/tmp'})"
   ]
  },
  {
   "cell_type": "code",
   "execution_count": 2,
   "metadata": {},
   "outputs": [
    {
     "data": {
      "text/html": [
       "\n",
       "    <div class=\"bk-root\">\n",
       "        <a href=\"https://bokeh.pydata.org\" target=\"_blank\" class=\"bk-logo bk-logo-small bk-logo-notebook\"></a>\n",
       "        <span id=\"1001\">Loading BokehJS ...</span>\n",
       "    </div>"
      ]
     },
     "metadata": {},
     "output_type": "display_data"
    },
    {
     "data": {
      "application/javascript": [
       "\n",
       "(function(root) {\n",
       "  function now() {\n",
       "    return new Date();\n",
       "  }\n",
       "\n",
       "  var force = true;\n",
       "\n",
       "  if (typeof root._bokeh_onload_callbacks === \"undefined\" || force === true) {\n",
       "    root._bokeh_onload_callbacks = [];\n",
       "    root._bokeh_is_loading = undefined;\n",
       "  }\n",
       "\n",
       "  var JS_MIME_TYPE = 'application/javascript';\n",
       "  var HTML_MIME_TYPE = 'text/html';\n",
       "  var EXEC_MIME_TYPE = 'application/vnd.bokehjs_exec.v0+json';\n",
       "  var CLASS_NAME = 'output_bokeh rendered_html';\n",
       "\n",
       "  /**\n",
       "   * Render data to the DOM node\n",
       "   */\n",
       "  function render(props, node) {\n",
       "    var script = document.createElement(\"script\");\n",
       "    node.appendChild(script);\n",
       "  }\n",
       "\n",
       "  /**\n",
       "   * Handle when an output is cleared or removed\n",
       "   */\n",
       "  function handleClearOutput(event, handle) {\n",
       "    var cell = handle.cell;\n",
       "\n",
       "    var id = cell.output_area._bokeh_element_id;\n",
       "    var server_id = cell.output_area._bokeh_server_id;\n",
       "    // Clean up Bokeh references\n",
       "    if (id != null && id in Bokeh.index) {\n",
       "      Bokeh.index[id].model.document.clear();\n",
       "      delete Bokeh.index[id];\n",
       "    }\n",
       "\n",
       "    if (server_id !== undefined) {\n",
       "      // Clean up Bokeh references\n",
       "      var cmd = \"from bokeh.io.state import curstate; print(curstate().uuid_to_server['\" + server_id + \"'].get_sessions()[0].document.roots[0]._id)\";\n",
       "      cell.notebook.kernel.execute(cmd, {\n",
       "        iopub: {\n",
       "          output: function(msg) {\n",
       "            var id = msg.content.text.trim();\n",
       "            if (id in Bokeh.index) {\n",
       "              Bokeh.index[id].model.document.clear();\n",
       "              delete Bokeh.index[id];\n",
       "            }\n",
       "          }\n",
       "        }\n",
       "      });\n",
       "      // Destroy server and session\n",
       "      var cmd = \"import bokeh.io.notebook as ion; ion.destroy_server('\" + server_id + \"')\";\n",
       "      cell.notebook.kernel.execute(cmd);\n",
       "    }\n",
       "  }\n",
       "\n",
       "  /**\n",
       "   * Handle when a new output is added\n",
       "   */\n",
       "  function handleAddOutput(event, handle) {\n",
       "    var output_area = handle.output_area;\n",
       "    var output = handle.output;\n",
       "\n",
       "    // limit handleAddOutput to display_data with EXEC_MIME_TYPE content only\n",
       "    if ((output.output_type != \"display_data\") || (!output.data.hasOwnProperty(EXEC_MIME_TYPE))) {\n",
       "      return\n",
       "    }\n",
       "\n",
       "    var toinsert = output_area.element.find(\".\" + CLASS_NAME.split(' ')[0]);\n",
       "\n",
       "    if (output.metadata[EXEC_MIME_TYPE][\"id\"] !== undefined) {\n",
       "      toinsert[toinsert.length - 1].firstChild.textContent = output.data[JS_MIME_TYPE];\n",
       "      // store reference to embed id on output_area\n",
       "      output_area._bokeh_element_id = output.metadata[EXEC_MIME_TYPE][\"id\"];\n",
       "    }\n",
       "    if (output.metadata[EXEC_MIME_TYPE][\"server_id\"] !== undefined) {\n",
       "      var bk_div = document.createElement(\"div\");\n",
       "      bk_div.innerHTML = output.data[HTML_MIME_TYPE];\n",
       "      var script_attrs = bk_div.children[0].attributes;\n",
       "      for (var i = 0; i < script_attrs.length; i++) {\n",
       "        toinsert[toinsert.length - 1].firstChild.setAttribute(script_attrs[i].name, script_attrs[i].value);\n",
       "      }\n",
       "      // store reference to server id on output_area\n",
       "      output_area._bokeh_server_id = output.metadata[EXEC_MIME_TYPE][\"server_id\"];\n",
       "    }\n",
       "  }\n",
       "\n",
       "  function register_renderer(events, OutputArea) {\n",
       "\n",
       "    function append_mime(data, metadata, element) {\n",
       "      // create a DOM node to render to\n",
       "      var toinsert = this.create_output_subarea(\n",
       "        metadata,\n",
       "        CLASS_NAME,\n",
       "        EXEC_MIME_TYPE\n",
       "      );\n",
       "      this.keyboard_manager.register_events(toinsert);\n",
       "      // Render to node\n",
       "      var props = {data: data, metadata: metadata[EXEC_MIME_TYPE]};\n",
       "      render(props, toinsert[toinsert.length - 1]);\n",
       "      element.append(toinsert);\n",
       "      return toinsert\n",
       "    }\n",
       "\n",
       "    /* Handle when an output is cleared or removed */\n",
       "    events.on('clear_output.CodeCell', handleClearOutput);\n",
       "    events.on('delete.Cell', handleClearOutput);\n",
       "\n",
       "    /* Handle when a new output is added */\n",
       "    events.on('output_added.OutputArea', handleAddOutput);\n",
       "\n",
       "    /**\n",
       "     * Register the mime type and append_mime function with output_area\n",
       "     */\n",
       "    OutputArea.prototype.register_mime_type(EXEC_MIME_TYPE, append_mime, {\n",
       "      /* Is output safe? */\n",
       "      safe: true,\n",
       "      /* Index of renderer in `output_area.display_order` */\n",
       "      index: 0\n",
       "    });\n",
       "  }\n",
       "\n",
       "  // register the mime type if in Jupyter Notebook environment and previously unregistered\n",
       "  if (root.Jupyter !== undefined) {\n",
       "    var events = require('base/js/events');\n",
       "    var OutputArea = require('notebook/js/outputarea').OutputArea;\n",
       "\n",
       "    if (OutputArea.prototype.mime_types().indexOf(EXEC_MIME_TYPE) == -1) {\n",
       "      register_renderer(events, OutputArea);\n",
       "    }\n",
       "  }\n",
       "\n",
       "  \n",
       "  if (typeof (root._bokeh_timeout) === \"undefined\" || force === true) {\n",
       "    root._bokeh_timeout = Date.now() + 5000;\n",
       "    root._bokeh_failed_load = false;\n",
       "  }\n",
       "\n",
       "  var NB_LOAD_WARNING = {'data': {'text/html':\n",
       "     \"<div style='background-color: #fdd'>\\n\"+\n",
       "     \"<p>\\n\"+\n",
       "     \"BokehJS does not appear to have successfully loaded. If loading BokehJS from CDN, this \\n\"+\n",
       "     \"may be due to a slow or bad network connection. Possible fixes:\\n\"+\n",
       "     \"</p>\\n\"+\n",
       "     \"<ul>\\n\"+\n",
       "     \"<li>re-rerun `output_notebook()` to attempt to load from CDN again, or</li>\\n\"+\n",
       "     \"<li>use INLINE resources instead, as so:</li>\\n\"+\n",
       "     \"</ul>\\n\"+\n",
       "     \"<code>\\n\"+\n",
       "     \"from bokeh.resources import INLINE\\n\"+\n",
       "     \"output_notebook(resources=INLINE)\\n\"+\n",
       "     \"</code>\\n\"+\n",
       "     \"</div>\"}};\n",
       "\n",
       "  function display_loaded() {\n",
       "    var el = document.getElementById(\"1001\");\n",
       "    if (el != null) {\n",
       "      el.textContent = \"BokehJS is loading...\";\n",
       "    }\n",
       "    if (root.Bokeh !== undefined) {\n",
       "      if (el != null) {\n",
       "        el.textContent = \"BokehJS \" + root.Bokeh.version + \" successfully loaded.\";\n",
       "      }\n",
       "    } else if (Date.now() < root._bokeh_timeout) {\n",
       "      setTimeout(display_loaded, 100)\n",
       "    }\n",
       "  }\n",
       "\n",
       "\n",
       "  function run_callbacks() {\n",
       "    try {\n",
       "      root._bokeh_onload_callbacks.forEach(function(callback) {\n",
       "        if (callback != null)\n",
       "          callback();\n",
       "      });\n",
       "    } finally {\n",
       "      delete root._bokeh_onload_callbacks\n",
       "    }\n",
       "    console.debug(\"Bokeh: all callbacks have finished\");\n",
       "  }\n",
       "\n",
       "  function load_libs(css_urls, js_urls, callback) {\n",
       "    if (css_urls == null) css_urls = [];\n",
       "    if (js_urls == null) js_urls = [];\n",
       "\n",
       "    root._bokeh_onload_callbacks.push(callback);\n",
       "    if (root._bokeh_is_loading > 0) {\n",
       "      console.debug(\"Bokeh: BokehJS is being loaded, scheduling callback at\", now());\n",
       "      return null;\n",
       "    }\n",
       "    if (js_urls == null || js_urls.length === 0) {\n",
       "      run_callbacks();\n",
       "      return null;\n",
       "    }\n",
       "    console.debug(\"Bokeh: BokehJS not loaded, scheduling load and callback at\", now());\n",
       "    root._bokeh_is_loading = css_urls.length + js_urls.length;\n",
       "\n",
       "    function on_load() {\n",
       "      root._bokeh_is_loading--;\n",
       "      if (root._bokeh_is_loading === 0) {\n",
       "        console.debug(\"Bokeh: all BokehJS libraries/stylesheets loaded\");\n",
       "        run_callbacks()\n",
       "      }\n",
       "    }\n",
       "\n",
       "    function on_error() {\n",
       "      console.error(\"failed to load \" + url);\n",
       "    }\n",
       "\n",
       "    for (var i = 0; i < css_urls.length; i++) {\n",
       "      var url = css_urls[i];\n",
       "      const element = document.createElement(\"link\");\n",
       "      element.onload = on_load;\n",
       "      element.onerror = on_error;\n",
       "      element.rel = \"stylesheet\";\n",
       "      element.type = \"text/css\";\n",
       "      element.href = url;\n",
       "      console.debug(\"Bokeh: injecting link tag for BokehJS stylesheet: \", url);\n",
       "      document.body.appendChild(element);\n",
       "    }\n",
       "\n",
       "    for (var i = 0; i < js_urls.length; i++) {\n",
       "      var url = js_urls[i];\n",
       "      var element = document.createElement('script');\n",
       "      element.onload = on_load;\n",
       "      element.onerror = on_error;\n",
       "      element.async = false;\n",
       "      element.src = url;\n",
       "      console.debug(\"Bokeh: injecting script tag for BokehJS library: \", url);\n",
       "      document.head.appendChild(element);\n",
       "    }\n",
       "  };var element = document.getElementById(\"1001\");\n",
       "  if (element == null) {\n",
       "    console.error(\"Bokeh: ERROR: autoload.js configured with elementid '1001' but no matching script tag was found. \")\n",
       "    return false;\n",
       "  }\n",
       "\n",
       "  function inject_raw_css(css) {\n",
       "    const element = document.createElement(\"style\");\n",
       "    element.appendChild(document.createTextNode(css));\n",
       "    document.body.appendChild(element);\n",
       "  }\n",
       "\n",
       "  var js_urls = [\"https://cdn.pydata.org/bokeh/release/bokeh-1.2.0.min.js\", \"https://cdn.pydata.org/bokeh/release/bokeh-widgets-1.2.0.min.js\", \"https://cdn.pydata.org/bokeh/release/bokeh-tables-1.2.0.min.js\", \"https://cdn.pydata.org/bokeh/release/bokeh-gl-1.2.0.min.js\"];\n",
       "  var css_urls = [\"https://cdn.pydata.org/bokeh/release/bokeh-1.2.0.min.css\", \"https://cdn.pydata.org/bokeh/release/bokeh-widgets-1.2.0.min.css\", \"https://cdn.pydata.org/bokeh/release/bokeh-tables-1.2.0.min.css\"];\n",
       "\n",
       "  var inline_js = [\n",
       "    function(Bokeh) {\n",
       "      Bokeh.set_log_level(\"info\");\n",
       "    },\n",
       "    \n",
       "    function(Bokeh) {\n",
       "      \n",
       "    },\n",
       "    function(Bokeh) {} // ensure no trailing comma for IE\n",
       "  ];\n",
       "\n",
       "  function run_inline_js() {\n",
       "    \n",
       "    if ((root.Bokeh !== undefined) || (force === true)) {\n",
       "      for (var i = 0; i < inline_js.length; i++) {\n",
       "        inline_js[i].call(root, root.Bokeh);\n",
       "      }if (force === true) {\n",
       "        display_loaded();\n",
       "      }} else if (Date.now() < root._bokeh_timeout) {\n",
       "      setTimeout(run_inline_js, 100);\n",
       "    } else if (!root._bokeh_failed_load) {\n",
       "      console.log(\"Bokeh: BokehJS failed to load within specified timeout.\");\n",
       "      root._bokeh_failed_load = true;\n",
       "    } else if (force !== true) {\n",
       "      var cell = $(document.getElementById(\"1001\")).parents('.cell').data().cell;\n",
       "      cell.output_area.append_execute_result(NB_LOAD_WARNING)\n",
       "    }\n",
       "\n",
       "  }\n",
       "\n",
       "  if (root._bokeh_is_loading === 0) {\n",
       "    console.debug(\"Bokeh: BokehJS loaded, going straight to plotting\");\n",
       "    run_inline_js();\n",
       "  } else {\n",
       "    load_libs(css_urls, js_urls, function() {\n",
       "      console.debug(\"Bokeh: BokehJS plotting callback run at\", now());\n",
       "      run_inline_js();\n",
       "    });\n",
       "  }\n",
       "}(window));"
      ],
      "application/vnd.bokehjs_load.v0+json": "\n(function(root) {\n  function now() {\n    return new Date();\n  }\n\n  var force = true;\n\n  if (typeof root._bokeh_onload_callbacks === \"undefined\" || force === true) {\n    root._bokeh_onload_callbacks = [];\n    root._bokeh_is_loading = undefined;\n  }\n\n  \n\n  \n  if (typeof (root._bokeh_timeout) === \"undefined\" || force === true) {\n    root._bokeh_timeout = Date.now() + 5000;\n    root._bokeh_failed_load = false;\n  }\n\n  var NB_LOAD_WARNING = {'data': {'text/html':\n     \"<div style='background-color: #fdd'>\\n\"+\n     \"<p>\\n\"+\n     \"BokehJS does not appear to have successfully loaded. If loading BokehJS from CDN, this \\n\"+\n     \"may be due to a slow or bad network connection. Possible fixes:\\n\"+\n     \"</p>\\n\"+\n     \"<ul>\\n\"+\n     \"<li>re-rerun `output_notebook()` to attempt to load from CDN again, or</li>\\n\"+\n     \"<li>use INLINE resources instead, as so:</li>\\n\"+\n     \"</ul>\\n\"+\n     \"<code>\\n\"+\n     \"from bokeh.resources import INLINE\\n\"+\n     \"output_notebook(resources=INLINE)\\n\"+\n     \"</code>\\n\"+\n     \"</div>\"}};\n\n  function display_loaded() {\n    var el = document.getElementById(\"1001\");\n    if (el != null) {\n      el.textContent = \"BokehJS is loading...\";\n    }\n    if (root.Bokeh !== undefined) {\n      if (el != null) {\n        el.textContent = \"BokehJS \" + root.Bokeh.version + \" successfully loaded.\";\n      }\n    } else if (Date.now() < root._bokeh_timeout) {\n      setTimeout(display_loaded, 100)\n    }\n  }\n\n\n  function run_callbacks() {\n    try {\n      root._bokeh_onload_callbacks.forEach(function(callback) {\n        if (callback != null)\n          callback();\n      });\n    } finally {\n      delete root._bokeh_onload_callbacks\n    }\n    console.debug(\"Bokeh: all callbacks have finished\");\n  }\n\n  function load_libs(css_urls, js_urls, callback) {\n    if (css_urls == null) css_urls = [];\n    if (js_urls == null) js_urls = [];\n\n    root._bokeh_onload_callbacks.push(callback);\n    if (root._bokeh_is_loading > 0) {\n      console.debug(\"Bokeh: BokehJS is being loaded, scheduling callback at\", now());\n      return null;\n    }\n    if (js_urls == null || js_urls.length === 0) {\n      run_callbacks();\n      return null;\n    }\n    console.debug(\"Bokeh: BokehJS not loaded, scheduling load and callback at\", now());\n    root._bokeh_is_loading = css_urls.length + js_urls.length;\n\n    function on_load() {\n      root._bokeh_is_loading--;\n      if (root._bokeh_is_loading === 0) {\n        console.debug(\"Bokeh: all BokehJS libraries/stylesheets loaded\");\n        run_callbacks()\n      }\n    }\n\n    function on_error() {\n      console.error(\"failed to load \" + url);\n    }\n\n    for (var i = 0; i < css_urls.length; i++) {\n      var url = css_urls[i];\n      const element = document.createElement(\"link\");\n      element.onload = on_load;\n      element.onerror = on_error;\n      element.rel = \"stylesheet\";\n      element.type = \"text/css\";\n      element.href = url;\n      console.debug(\"Bokeh: injecting link tag for BokehJS stylesheet: \", url);\n      document.body.appendChild(element);\n    }\n\n    for (var i = 0; i < js_urls.length; i++) {\n      var url = js_urls[i];\n      var element = document.createElement('script');\n      element.onload = on_load;\n      element.onerror = on_error;\n      element.async = false;\n      element.src = url;\n      console.debug(\"Bokeh: injecting script tag for BokehJS library: \", url);\n      document.head.appendChild(element);\n    }\n  };var element = document.getElementById(\"1001\");\n  if (element == null) {\n    console.error(\"Bokeh: ERROR: autoload.js configured with elementid '1001' but no matching script tag was found. \")\n    return false;\n  }\n\n  function inject_raw_css(css) {\n    const element = document.createElement(\"style\");\n    element.appendChild(document.createTextNode(css));\n    document.body.appendChild(element);\n  }\n\n  var js_urls = [\"https://cdn.pydata.org/bokeh/release/bokeh-1.2.0.min.js\", \"https://cdn.pydata.org/bokeh/release/bokeh-widgets-1.2.0.min.js\", \"https://cdn.pydata.org/bokeh/release/bokeh-tables-1.2.0.min.js\", \"https://cdn.pydata.org/bokeh/release/bokeh-gl-1.2.0.min.js\"];\n  var css_urls = [\"https://cdn.pydata.org/bokeh/release/bokeh-1.2.0.min.css\", \"https://cdn.pydata.org/bokeh/release/bokeh-widgets-1.2.0.min.css\", \"https://cdn.pydata.org/bokeh/release/bokeh-tables-1.2.0.min.css\"];\n\n  var inline_js = [\n    function(Bokeh) {\n      Bokeh.set_log_level(\"info\");\n    },\n    \n    function(Bokeh) {\n      \n    },\n    function(Bokeh) {} // ensure no trailing comma for IE\n  ];\n\n  function run_inline_js() {\n    \n    if ((root.Bokeh !== undefined) || (force === true)) {\n      for (var i = 0; i < inline_js.length; i++) {\n        inline_js[i].call(root, root.Bokeh);\n      }if (force === true) {\n        display_loaded();\n      }} else if (Date.now() < root._bokeh_timeout) {\n      setTimeout(run_inline_js, 100);\n    } else if (!root._bokeh_failed_load) {\n      console.log(\"Bokeh: BokehJS failed to load within specified timeout.\");\n      root._bokeh_failed_load = true;\n    } else if (force !== true) {\n      var cell = $(document.getElementById(\"1001\")).parents('.cell').data().cell;\n      cell.output_area.append_execute_result(NB_LOAD_WARNING)\n    }\n\n  }\n\n  if (root._bokeh_is_loading === 0) {\n    console.debug(\"Bokeh: BokehJS loaded, going straight to plotting\");\n    run_inline_js();\n  } else {\n    load_libs(css_urls, js_urls, function() {\n      console.debug(\"Bokeh: BokehJS plotting callback run at\", now());\n      run_inline_js();\n    });\n  }\n}(window));"
     },
     "metadata": {},
     "output_type": "display_data"
    }
   ],
   "source": [
    "from bokeh.io import show, output_notebook\n",
    "from bokeh.layouts import gridplot\n",
    "from bokeh.models.scales import LogScale\n",
    "output_notebook()"
   ]
  },
  {
   "cell_type": "code",
   "execution_count": 3,
   "metadata": {},
   "outputs": [],
   "source": [
    "BASE_DIR = '/home/olavur/experiments/2020-11-13_fargen1_exome_analysis'"
   ]
  },
  {
   "cell_type": "markdown",
   "metadata": {},
   "source": [
    "## Load gnomAD exome sites data"
   ]
  },
  {
   "cell_type": "code",
   "execution_count": 4,
   "metadata": {},
   "outputs": [],
   "source": [
    "gnomad_ht = hl.read_table(BASE_DIR + '/data/resources/gnomAD/gnomad.exomes.r2.1.1.sites.GRCh38.ht')"
   ]
  },
  {
   "cell_type": "code",
   "execution_count": 5,
   "metadata": {},
   "outputs": [
    {
     "name": "stdout",
     "output_type": "stream",
     "text": [
      "Number of variants: 17204631\n"
     ]
    }
   ],
   "source": [
    "n_variants = gnomad_ht.count()\n",
    "print('Number of variants: ' + str(n_variants))"
   ]
  },
  {
   "cell_type": "markdown",
   "metadata": {},
   "source": [
    "## Populations to use"
   ]
  },
  {
   "cell_type": "code",
   "execution_count": 7,
   "metadata": {},
   "outputs": [],
   "source": [
    "gnomad_freq_index_dict = gnomad_ht.freq_index_dict.collect()[0]"
   ]
  },
  {
   "cell_type": "code",
   "execution_count": 12,
   "metadata": {},
   "outputs": [],
   "source": [
    "# Names of the populations in the index dictionary.\n",
    "pop_list = ['gnomad_afr', 'gnomad_sas', 'gnomad_amr', 'gnomad_eas', 'gnomad_nfe', 'gnomad_fin', 'gnomad_nfe_nwe', 'gnomad_nfe_seu']\n",
    "\n",
    "# Get the indexes of the populations.\n",
    "pop_index_list = [gnomad_freq_index_dict[pop] for pop in pop_list]\n",
    "\n",
    "# More intuitive names for the populations.\n",
    "pop_name_list = ['African', 'South-East Asian', 'American', 'East Asian', 'Non-Finnish European', 'Finnish', 'North-Western European', 'Southern European']\n",
    "\n",
    "pop_dict = dict(zip(pop_name_list, pop_index_list))"
   ]
  },
  {
   "cell_type": "code",
   "execution_count": 14,
   "metadata": {},
   "outputs": [
    {
     "data": {
      "text/plain": [
       "{'African': 6,\n",
       " 'South-East Asian': 8,\n",
       " 'American': 9,\n",
       " 'East Asian': 7,\n",
       " 'Non-Finnish European': 2,\n",
       " 'Finnish': 3,\n",
       " 'North-Western European': 34,\n",
       " 'Southern European': 33}"
      ]
     },
     "execution_count": 14,
     "metadata": {},
     "output_type": "execute_result"
    }
   ],
   "source": [
    "pop_dict"
   ]
  },
  {
   "cell_type": "markdown",
   "metadata": {},
   "source": [
    "Annotate the table with one column for each population allele frequency."
   ]
  },
  {
   "cell_type": "code",
   "execution_count": 25,
   "metadata": {},
   "outputs": [],
   "source": [
    "#list(filter(lambda x: x[0][:6] == 'gnomad', gnomad_freq_index_dict.items()))"
   ]
  },
  {
   "cell_type": "markdown",
   "metadata": {},
   "source": [
    "## PCA with gnomAD only\n",
    "\n",
    "First we need to make a matrix with the populations as columns. In order to do that we need to use the `to_matrix_table_row_major()` method, and to use this method we need to annotate each row with the allele frequency in each population."
   ]
  },
  {
   "cell_type": "code",
   "execution_count": 41,
   "metadata": {},
   "outputs": [],
   "source": [
    "gnomad_ht = gnomad_ht.annotate(gnomad_afr=gnomad_ht.freq.AF[gnomad_freq_index_dict['gnomad_afr']],\n",
    "                                     gnomad_sas=gnomad_ht.freq.AF[gnomad_freq_index_dict['gnomad_sas']],\n",
    "                                     gnomad_amr=gnomad_ht.freq.AF[gnomad_freq_index_dict['gnomad_amr']],\n",
    "                                     gnomad_eas=gnomad_ht.freq.AF[gnomad_freq_index_dict['gnomad_eas']],\n",
    "                                     gnomad_nfe=gnomad_ht.freq.AF[gnomad_freq_index_dict['gnomad_nfe']],\n",
    "                                     gnomad_fin=gnomad_ht.freq.AF[gnomad_freq_index_dict['gnomad_fin']],\n",
    "                                     gnomad_nfe_nwe=gnomad_ht.freq.AF[gnomad_freq_index_dict['gnomad_nfe_nwe']],\n",
    "                                     gnomad_nfe_seu=gnomad_ht.freq.AF[gnomad_freq_index_dict['gnomad_nfe_seu']])"
   ]
  },
  {
   "cell_type": "markdown",
   "metadata": {},
   "source": [
    "Now we can convert this to a matrix, where the entries are keyed by locus, alleles and populations."
   ]
  },
  {
   "cell_type": "code",
   "execution_count": 43,
   "metadata": {},
   "outputs": [],
   "source": [
    "af_mt = gnomad_ht.to_matrix_table_row_major(columns=pop_list, entry_field_name='AF', col_field_name='pop')"
   ]
  },
  {
   "cell_type": "markdown",
   "metadata": {},
   "source": [
    "We shall filter out variants that have a minor allele frequency below 0.01 in the *total population*."
   ]
  },
  {
   "cell_type": "code",
   "execution_count": 50,
   "metadata": {},
   "outputs": [],
   "source": [
    "maf_filter = 0.01\n",
    "af_mt = af_mt.filter_rows(af_mt.freq.AF[gnomad_freq_index_dict['gnomad']] > maf_filter)\n",
    "af_mt = af_mt.filter_rows(af_mt.freq.AF[gnomad_freq_index_dict['gnomad']] < (1 - maf_filter))"
   ]
  },
  {
   "cell_type": "code",
   "execution_count": 51,
   "metadata": {},
   "outputs": [
    {
     "name": "stdout",
     "output_type": "stream",
     "text": [
      "Number of variants: 183627\n",
      "Number of samples: 8\n"
     ]
    }
   ],
   "source": [
    "n_variants, n_samples = af_mt.count()\n",
    "print('Number of variants: ' + str(n_variants))\n",
    "print('Number of samples: ' + str(n_samples))"
   ]
  },
  {
   "cell_type": "markdown",
   "metadata": {},
   "source": [
    "**FIXME:** I need to do LD pruning. This information is available for download."
   ]
  },
  {
   "cell_type": "code",
   "execution_count": 62,
   "metadata": {},
   "outputs": [
    {
     "name": "stderr",
     "output_type": "stream",
     "text": [
      "2021-03-15 11:02:05 Hail: INFO: pca: running PCA with 2 components...\n"
     ]
    }
   ],
   "source": [
    "eigenvalues, scores, loadings = hl.pca(hl.is_defined(af_mt.AF), k=2)"
   ]
  },
  {
   "cell_type": "code",
   "execution_count": 64,
   "metadata": {},
   "outputs": [],
   "source": [
    "af_mt = af_mt.annotate_cols(scores = scores[af_mt.pop].scores)"
   ]
  },
  {
   "cell_type": "code",
   "execution_count": 66,
   "metadata": {},
   "outputs": [
    {
     "data": {
      "text/html": [
       "\n",
       "\n",
       "\n",
       "\n",
       "\n",
       "\n",
       "  <div class=\"bk-root\" id=\"d17db8b3-fd57-4366-a51c-84dff5456c4f\" data-root-id=\"1100\"></div>\n"
      ]
     },
     "metadata": {},
     "output_type": "display_data"
    },
    {
     "data": {
      "application/javascript": [
       "(function(root) {\n",
       "  function embed_document(root) {\n",
       "    \n",
       "  var docs_json = {\"8bf818bd-168f-40c2-aba7-db120a53b74a\":{\"roots\":{\"references\":[{\"attributes\":{\"below\":[{\"id\":\"1111\",\"type\":\"LinearAxis\"}],\"center\":[{\"id\":\"1115\",\"type\":\"Grid\"},{\"id\":\"1120\",\"type\":\"Grid\"}],\"left\":[{\"id\":\"1116\",\"type\":\"LinearAxis\"},{\"id\":\"1194\",\"type\":\"Legend\"},{\"id\":\"1195\",\"type\":\"ColorBar\"}],\"plot_height\":600,\"plot_width\":800,\"renderers\":[{\"id\":\"1143\",\"type\":\"GlyphRenderer\"},{\"id\":\"1149\",\"type\":\"GlyphRenderer\"},{\"id\":\"1155\",\"type\":\"GlyphRenderer\"},{\"id\":\"1161\",\"type\":\"GlyphRenderer\"},{\"id\":\"1167\",\"type\":\"GlyphRenderer\"},{\"id\":\"1173\",\"type\":\"GlyphRenderer\"},{\"id\":\"1179\",\"type\":\"GlyphRenderer\"},{\"id\":\"1185\",\"type\":\"GlyphRenderer\"}],\"title\":{\"id\":\"1101\",\"type\":\"Title\"},\"toolbar\":{\"id\":\"1127\",\"type\":\"Toolbar\"},\"x_range\":{\"id\":\"1103\",\"type\":\"DataRange1d\"},\"x_scale\":{\"id\":\"1107\",\"type\":\"LinearScale\"},\"y_range\":{\"id\":\"1105\",\"type\":\"DataRange1d\"},\"y_scale\":{\"id\":\"1109\",\"type\":\"LinearScale\"}},\"id\":\"1100\",\"subtype\":\"Figure\",\"type\":\"Plot\"},{\"attributes\":{\"fill_alpha\":{\"value\":0.1},\"fill_color\":{\"value\":\"#1f77b4\"},\"line_alpha\":{\"value\":0.1},\"line_color\":{\"value\":\"#1f77b4\"},\"x\":{\"field\":\"x\"},\"y\":{\"field\":\"y\"}},\"id\":\"1166\",\"type\":\"Circle\"},{\"attributes\":{\"column_name\":\"label\",\"group\":\"gnomad_afr\"},\"id\":\"1138\",\"type\":\"GroupFilter\"},{\"attributes\":{\"click_policy\":\"hide\",\"items\":[{\"id\":\"1186\",\"type\":\"LegendItem\"},{\"id\":\"1187\",\"type\":\"LegendItem\"},{\"id\":\"1188\",\"type\":\"LegendItem\"},{\"id\":\"1189\",\"type\":\"LegendItem\"},{\"id\":\"1190\",\"type\":\"LegendItem\"},{\"id\":\"1191\",\"type\":\"LegendItem\"},{\"id\":\"1192\",\"type\":\"LegendItem\"},{\"id\":\"1193\",\"type\":\"LegendItem\"}]},\"id\":\"1194\",\"type\":\"Legend\"},{\"attributes\":{},\"id\":\"1209\",\"type\":\"BasicTicker\"},{\"attributes\":{\"data_source\":{\"id\":\"1136\",\"type\":\"ColumnDataSource\"},\"glyph\":{\"id\":\"1177\",\"type\":\"Circle\"},\"hover_glyph\":null,\"muted_glyph\":null,\"nonselection_glyph\":{\"id\":\"1178\",\"type\":\"Circle\"},\"selection_glyph\":null,\"view\":{\"id\":\"1175\",\"type\":\"CDSView\"}},\"id\":\"1179\",\"type\":\"GlyphRenderer\"},{\"attributes\":{\"dimension\":1,\"ticker\":{\"id\":\"1117\",\"type\":\"BasicTicker\"}},\"id\":\"1120\",\"type\":\"Grid\"},{\"attributes\":{\"active_drag\":\"auto\",\"active_inspect\":\"auto\",\"active_multi\":null,\"active_scroll\":\"auto\",\"active_tap\":\"auto\",\"tools\":[{\"id\":\"1121\",\"type\":\"PanTool\"},{\"id\":\"1122\",\"type\":\"WheelZoomTool\"},{\"id\":\"1123\",\"type\":\"BoxZoomTool\"},{\"id\":\"1124\",\"type\":\"SaveTool\"},{\"id\":\"1125\",\"type\":\"ResetTool\"},{\"id\":\"1126\",\"type\":\"HelpTool\"},{\"id\":\"1135\",\"type\":\"HoverTool\"}]},\"id\":\"1127\",\"type\":\"Toolbar\"},{\"attributes\":{\"filters\":[{\"id\":\"1180\",\"type\":\"GroupFilter\"}],\"source\":{\"id\":\"1136\",\"type\":\"ColumnDataSource\"}},\"id\":\"1181\",\"type\":\"CDSView\"},{\"attributes\":{\"data_source\":{\"id\":\"1136\",\"type\":\"ColumnDataSource\"},\"glyph\":{\"id\":\"1141\",\"type\":\"Circle\"},\"hover_glyph\":null,\"muted_glyph\":null,\"nonselection_glyph\":{\"id\":\"1142\",\"type\":\"Circle\"},\"selection_glyph\":null,\"view\":{\"id\":\"1139\",\"type\":\"CDSView\"}},\"id\":\"1143\",\"type\":\"GlyphRenderer\"},{\"attributes\":{},\"id\":\"1117\",\"type\":\"BasicTicker\"},{\"attributes\":{\"callback\":null},\"id\":\"1105\",\"type\":\"DataRange1d\"},{\"attributes\":{\"fill_color\":{\"field\":\"label\",\"transform\":{\"id\":\"1137\",\"type\":\"CategoricalColorMapper\"}},\"line_color\":{\"field\":\"label\",\"transform\":{\"id\":\"1137\",\"type\":\"CategoricalColorMapper\"}},\"x\":{\"field\":\"x\"},\"y\":{\"field\":\"y\"}},\"id\":\"1171\",\"type\":\"Circle\"},{\"attributes\":{\"fill_color\":{\"field\":\"label\",\"transform\":{\"id\":\"1137\",\"type\":\"CategoricalColorMapper\"}},\"line_color\":{\"field\":\"label\",\"transform\":{\"id\":\"1137\",\"type\":\"CategoricalColorMapper\"}},\"x\":{\"field\":\"x\"},\"y\":{\"field\":\"y\"}},\"id\":\"1177\",\"type\":\"Circle\"},{\"attributes\":{},\"id\":\"1121\",\"type\":\"PanTool\"},{\"attributes\":{\"label\":{\"value\":\"gnomad_afr\"},\"renderers\":[{\"id\":\"1143\",\"type\":\"GlyphRenderer\"}]},\"id\":\"1186\",\"type\":\"LegendItem\"},{\"attributes\":{\"fill_color\":{\"field\":\"label\",\"transform\":{\"id\":\"1137\",\"type\":\"CategoricalColorMapper\"}},\"line_color\":{\"field\":\"label\",\"transform\":{\"id\":\"1137\",\"type\":\"CategoricalColorMapper\"}},\"x\":{\"field\":\"x\"},\"y\":{\"field\":\"y\"}},\"id\":\"1165\",\"type\":\"Circle\"},{\"attributes\":{},\"id\":\"1126\",\"type\":\"HelpTool\"},{\"attributes\":{\"column_name\":\"label\",\"group\":\"gnomad_nfe\"},\"id\":\"1162\",\"type\":\"GroupFilter\"},{\"attributes\":{\"filters\":[{\"id\":\"1138\",\"type\":\"GroupFilter\"}],\"source\":{\"id\":\"1136\",\"type\":\"ColumnDataSource\"}},\"id\":\"1139\",\"type\":\"CDSView\"},{\"attributes\":{\"filters\":[{\"id\":\"1162\",\"type\":\"GroupFilter\"}],\"source\":{\"id\":\"1136\",\"type\":\"ColumnDataSource\"}},\"id\":\"1163\",\"type\":\"CDSView\"},{\"attributes\":{\"column_name\":\"label\",\"group\":\"gnomad_amr\"},\"id\":\"1144\",\"type\":\"GroupFilter\"},{\"attributes\":{\"label\":{\"value\":\"gnomad_fin\"},\"renderers\":[{\"id\":\"1161\",\"type\":\"GlyphRenderer\"}]},\"id\":\"1189\",\"type\":\"LegendItem\"},{\"attributes\":{},\"id\":\"1107\",\"type\":\"LinearScale\"},{\"attributes\":{\"data_source\":{\"id\":\"1136\",\"type\":\"ColumnDataSource\"},\"glyph\":{\"id\":\"1159\",\"type\":\"Circle\"},\"hover_glyph\":null,\"muted_glyph\":null,\"nonselection_glyph\":{\"id\":\"1160\",\"type\":\"Circle\"},\"selection_glyph\":null,\"view\":{\"id\":\"1157\",\"type\":\"CDSView\"}},\"id\":\"1161\",\"type\":\"GlyphRenderer\"},{\"attributes\":{\"fill_alpha\":{\"value\":0.1},\"fill_color\":{\"value\":\"#1f77b4\"},\"line_alpha\":{\"value\":0.1},\"line_color\":{\"value\":\"#1f77b4\"},\"x\":{\"field\":\"x\"},\"y\":{\"field\":\"y\"}},\"id\":\"1142\",\"type\":\"Circle\"},{\"attributes\":{\"fill_alpha\":{\"value\":0.1},\"fill_color\":{\"value\":\"#1f77b4\"},\"line_alpha\":{\"value\":0.1},\"line_color\":{\"value\":\"#1f77b4\"},\"x\":{\"field\":\"x\"},\"y\":{\"field\":\"y\"}},\"id\":\"1178\",\"type\":\"Circle\"},{\"attributes\":{\"filters\":[{\"id\":\"1144\",\"type\":\"GroupFilter\"}],\"source\":{\"id\":\"1136\",\"type\":\"ColumnDataSource\"}},\"id\":\"1145\",\"type\":\"CDSView\"},{\"attributes\":{},\"id\":\"1210\",\"type\":\"BasicTickFormatter\"},{\"attributes\":{\"fill_color\":{\"field\":\"label\",\"transform\":{\"id\":\"1137\",\"type\":\"CategoricalColorMapper\"}},\"line_color\":{\"field\":\"label\",\"transform\":{\"id\":\"1137\",\"type\":\"CategoricalColorMapper\"}},\"x\":{\"field\":\"x\"},\"y\":{\"field\":\"y\"}},\"id\":\"1183\",\"type\":\"Circle\"},{\"attributes\":{\"fill_alpha\":{\"value\":0.1},\"fill_color\":{\"value\":\"#1f77b4\"},\"line_alpha\":{\"value\":0.1},\"line_color\":{\"value\":\"#1f77b4\"},\"x\":{\"field\":\"x\"},\"y\":{\"field\":\"y\"}},\"id\":\"1172\",\"type\":\"Circle\"},{\"attributes\":{\"label\":{\"value\":\"gnomad_amr\"},\"renderers\":[{\"id\":\"1149\",\"type\":\"GlyphRenderer\"}]},\"id\":\"1187\",\"type\":\"LegendItem\"},{\"attributes\":{\"overlay\":{\"id\":\"1211\",\"type\":\"BoxAnnotation\"}},\"id\":\"1123\",\"type\":\"BoxZoomTool\"},{\"attributes\":{},\"id\":\"1213\",\"type\":\"UnionRenderers\"},{\"attributes\":{},\"id\":\"1112\",\"type\":\"BasicTicker\"},{\"attributes\":{\"fill_color\":{\"field\":\"label\",\"transform\":{\"id\":\"1137\",\"type\":\"CategoricalColorMapper\"}},\"line_color\":{\"field\":\"label\",\"transform\":{\"id\":\"1137\",\"type\":\"CategoricalColorMapper\"}},\"x\":{\"field\":\"x\"},\"y\":{\"field\":\"y\"}},\"id\":\"1141\",\"type\":\"Circle\"},{\"attributes\":{\"column_name\":\"label\",\"group\":\"gnomad_nfe_seu\"},\"id\":\"1174\",\"type\":\"GroupFilter\"},{\"attributes\":{\"label\":{\"value\":\"gnomad_eas\"},\"renderers\":[{\"id\":\"1155\",\"type\":\"GlyphRenderer\"}]},\"id\":\"1188\",\"type\":\"LegendItem\"},{\"attributes\":{},\"id\":\"1212\",\"type\":\"Selection\"},{\"attributes\":{\"data_source\":{\"id\":\"1136\",\"type\":\"ColumnDataSource\"},\"glyph\":{\"id\":\"1183\",\"type\":\"Circle\"},\"hover_glyph\":null,\"muted_glyph\":null,\"nonselection_glyph\":{\"id\":\"1184\",\"type\":\"Circle\"},\"selection_glyph\":null,\"view\":{\"id\":\"1181\",\"type\":\"CDSView\"}},\"id\":\"1185\",\"type\":\"GlyphRenderer\"},{\"attributes\":{\"callback\":null,\"data\":{\"Sample\":[\"gnomad_nfe_nwe\",\"gnomad_nfe\",\"gnomad_amr\",\"gnomad_afr\",\"gnomad_sas\",\"gnomad_eas\",\"gnomad_fin\",\"gnomad_nfe_seu\"],\"index\":[0,1,2,3,4,5,6,7],\"label\":[\"gnomad_nfe_nwe\",\"gnomad_nfe\",\"gnomad_amr\",\"gnomad_afr\",\"gnomad_sas\",\"gnomad_eas\",\"gnomad_fin\",\"gnomad_nfe_seu\"],\"x\":{\"__ndarray__\":\"4Rn3X2C1esB179lwH7h6wIRhYm+5nnrAlFpA8BqgesCXR91ZJJt6wPN41vUClXrAcary69uMesCWYnVm1md6wA==\",\"dtype\":\"float64\",\"shape\":[8]},\"y\":{\"__ndarray__\":\"4IrIuaCV8b9M2ngKxbjvv18Eb2CxvirAQ8Ie/0FtDcDbO6uOHHArwOhiA/vbJCTA8E8Aci4b8z+NVjZugAhFQA==\",\"dtype\":\"float64\",\"shape\":[8]}},\"selected\":{\"id\":\"1212\",\"type\":\"Selection\"},\"selection_policy\":{\"id\":\"1213\",\"type\":\"UnionRenderers\"}},\"id\":\"1136\",\"type\":\"ColumnDataSource\"},{\"attributes\":{\"ticker\":{\"id\":\"1112\",\"type\":\"BasicTicker\"}},\"id\":\"1115\",\"type\":\"Grid\"},{\"attributes\":{\"filters\":[{\"id\":\"1168\",\"type\":\"GroupFilter\"}],\"source\":{\"id\":\"1136\",\"type\":\"ColumnDataSource\"}},\"id\":\"1169\",\"type\":\"CDSView\"},{\"attributes\":{\"column_name\":\"label\",\"group\":\"gnomad_sas\"},\"id\":\"1180\",\"type\":\"GroupFilter\"},{\"attributes\":{\"data_source\":{\"id\":\"1136\",\"type\":\"ColumnDataSource\"},\"glyph\":{\"id\":\"1165\",\"type\":\"Circle\"},\"hover_glyph\":null,\"muted_glyph\":null,\"nonselection_glyph\":{\"id\":\"1166\",\"type\":\"Circle\"},\"selection_glyph\":null,\"view\":{\"id\":\"1163\",\"type\":\"CDSView\"}},\"id\":\"1167\",\"type\":\"GlyphRenderer\"},{\"attributes\":{},\"id\":\"1109\",\"type\":\"LinearScale\"},{\"attributes\":{},\"id\":\"1122\",\"type\":\"WheelZoomTool\"},{\"attributes\":{\"fill_alpha\":{\"value\":0.1},\"fill_color\":{\"value\":\"#1f77b4\"},\"line_alpha\":{\"value\":0.1},\"line_color\":{\"value\":\"#1f77b4\"},\"x\":{\"field\":\"x\"},\"y\":{\"field\":\"y\"}},\"id\":\"1184\",\"type\":\"Circle\"},{\"attributes\":{\"axis_label\":\"PC1\",\"formatter\":{\"id\":\"1206\",\"type\":\"BasicTickFormatter\"},\"ticker\":{\"id\":\"1112\",\"type\":\"BasicTicker\"}},\"id\":\"1111\",\"type\":\"LinearAxis\"},{\"attributes\":{},\"id\":\"1125\",\"type\":\"ResetTool\"},{\"attributes\":{},\"id\":\"1124\",\"type\":\"SaveTool\"},{\"attributes\":{\"label\":{\"value\":\"gnomad_nfe_nwe\"},\"renderers\":[{\"id\":\"1173\",\"type\":\"GlyphRenderer\"}]},\"id\":\"1191\",\"type\":\"LegendItem\"},{\"attributes\":{\"label\":{\"value\":\"gnomad_nfe\"},\"renderers\":[{\"id\":\"1167\",\"type\":\"GlyphRenderer\"}]},\"id\":\"1190\",\"type\":\"LegendItem\"},{\"attributes\":{\"factors\":[\"gnomad_eas\",\"gnomad_afr\",\"gnomad_sas\",\"gnomad_nfe\",\"gnomad_nfe_nwe\",\"gnomad_nfe_seu\",\"gnomad_amr\",\"gnomad_fin\"],\"palette\":[\"#1f77b4\",\"#ff7f0e\",\"#2ca02c\",\"#d62728\",\"#9467bd\",\"#8c564b\",\"#e377c2\",\"#7f7f7f\",\"#bcbd22\",\"#17becf\"]},\"id\":\"1137\",\"type\":\"CategoricalColorMapper\"},{\"attributes\":{\"fill_color\":{\"field\":\"label\",\"transform\":{\"id\":\"1137\",\"type\":\"CategoricalColorMapper\"}},\"line_color\":{\"field\":\"label\",\"transform\":{\"id\":\"1137\",\"type\":\"CategoricalColorMapper\"}},\"x\":{\"field\":\"x\"},\"y\":{\"field\":\"y\"}},\"id\":\"1147\",\"type\":\"Circle\"},{\"attributes\":{\"data_source\":{\"id\":\"1136\",\"type\":\"ColumnDataSource\"},\"glyph\":{\"id\":\"1147\",\"type\":\"Circle\"},\"hover_glyph\":null,\"muted_glyph\":null,\"nonselection_glyph\":{\"id\":\"1148\",\"type\":\"Circle\"},\"selection_glyph\":null,\"view\":{\"id\":\"1145\",\"type\":\"CDSView\"}},\"id\":\"1149\",\"type\":\"GlyphRenderer\"},{\"attributes\":{\"bottom_units\":\"screen\",\"fill_alpha\":{\"value\":0.5},\"fill_color\":{\"value\":\"lightgrey\"},\"left_units\":\"screen\",\"level\":\"overlay\",\"line_alpha\":{\"value\":1.0},\"line_color\":{\"value\":\"black\"},\"line_dash\":[4,4],\"line_width\":{\"value\":2},\"render_mode\":\"css\",\"right_units\":\"screen\",\"top_units\":\"screen\"},\"id\":\"1211\",\"type\":\"BoxAnnotation\"},{\"attributes\":{\"column_name\":\"label\",\"group\":\"gnomad_nfe_nwe\"},\"id\":\"1168\",\"type\":\"GroupFilter\"},{\"attributes\":{\"fill_alpha\":{\"value\":0.1},\"fill_color\":{\"value\":\"#1f77b4\"},\"line_alpha\":{\"value\":0.1},\"line_color\":{\"value\":\"#1f77b4\"},\"x\":{\"field\":\"x\"},\"y\":{\"field\":\"y\"}},\"id\":\"1148\",\"type\":\"Circle\"},{\"attributes\":{\"color_mapper\":null,\"formatter\":{\"id\":\"1210\",\"type\":\"BasicTickFormatter\"},\"ticker\":{\"id\":\"1209\",\"type\":\"BasicTicker\"},\"visible\":false},\"id\":\"1195\",\"type\":\"ColorBar\"},{\"attributes\":{\"data_source\":{\"id\":\"1136\",\"type\":\"ColumnDataSource\"},\"glyph\":{\"id\":\"1171\",\"type\":\"Circle\"},\"hover_glyph\":null,\"muted_glyph\":null,\"nonselection_glyph\":{\"id\":\"1172\",\"type\":\"Circle\"},\"selection_glyph\":null,\"view\":{\"id\":\"1169\",\"type\":\"CDSView\"}},\"id\":\"1173\",\"type\":\"GlyphRenderer\"},{\"attributes\":{\"filters\":[{\"id\":\"1150\",\"type\":\"GroupFilter\"}],\"source\":{\"id\":\"1136\",\"type\":\"ColumnDataSource\"}},\"id\":\"1151\",\"type\":\"CDSView\"},{\"attributes\":{\"filters\":[{\"id\":\"1174\",\"type\":\"GroupFilter\"}],\"source\":{\"id\":\"1136\",\"type\":\"ColumnDataSource\"}},\"id\":\"1175\",\"type\":\"CDSView\"},{\"attributes\":{\"column_name\":\"label\",\"group\":\"gnomad_eas\"},\"id\":\"1150\",\"type\":\"GroupFilter\"},{\"attributes\":{\"axis_label\":\"PC2\",\"formatter\":{\"id\":\"1208\",\"type\":\"BasicTickFormatter\"},\"ticker\":{\"id\":\"1117\",\"type\":\"BasicTicker\"}},\"id\":\"1116\",\"type\":\"LinearAxis\"},{\"attributes\":{\"fill_color\":{\"field\":\"label\",\"transform\":{\"id\":\"1137\",\"type\":\"CategoricalColorMapper\"}},\"line_color\":{\"field\":\"label\",\"transform\":{\"id\":\"1137\",\"type\":\"CategoricalColorMapper\"}},\"x\":{\"field\":\"x\"},\"y\":{\"field\":\"y\"}},\"id\":\"1153\",\"type\":\"Circle\"},{\"attributes\":{\"text\":\"PCA\"},\"id\":\"1101\",\"type\":\"Title\"},{\"attributes\":{\"fill_alpha\":{\"value\":0.1},\"fill_color\":{\"value\":\"#1f77b4\"},\"line_alpha\":{\"value\":0.1},\"line_color\":{\"value\":\"#1f77b4\"},\"x\":{\"field\":\"x\"},\"y\":{\"field\":\"y\"}},\"id\":\"1154\",\"type\":\"Circle\"},{\"attributes\":{},\"id\":\"1206\",\"type\":\"BasicTickFormatter\"},{\"attributes\":{\"data_source\":{\"id\":\"1136\",\"type\":\"ColumnDataSource\"},\"glyph\":{\"id\":\"1153\",\"type\":\"Circle\"},\"hover_glyph\":null,\"muted_glyph\":null,\"nonselection_glyph\":{\"id\":\"1154\",\"type\":\"Circle\"},\"selection_glyph\":null,\"view\":{\"id\":\"1151\",\"type\":\"CDSView\"}},\"id\":\"1155\",\"type\":\"GlyphRenderer\"},{\"attributes\":{\"fill_alpha\":{\"value\":0.1},\"fill_color\":{\"value\":\"#1f77b4\"},\"line_alpha\":{\"value\":0.1},\"line_color\":{\"value\":\"#1f77b4\"},\"x\":{\"field\":\"x\"},\"y\":{\"field\":\"y\"}},\"id\":\"1160\",\"type\":\"Circle\"},{\"attributes\":{\"filters\":[{\"id\":\"1156\",\"type\":\"GroupFilter\"}],\"source\":{\"id\":\"1136\",\"type\":\"ColumnDataSource\"}},\"id\":\"1157\",\"type\":\"CDSView\"},{\"attributes\":{},\"id\":\"1208\",\"type\":\"BasicTickFormatter\"},{\"attributes\":{\"label\":{\"value\":\"gnomad_nfe_seu\"},\"renderers\":[{\"id\":\"1179\",\"type\":\"GlyphRenderer\"}]},\"id\":\"1192\",\"type\":\"LegendItem\"},{\"attributes\":{\"callback\":null},\"id\":\"1103\",\"type\":\"DataRange1d\"},{\"attributes\":{\"column_name\":\"label\",\"group\":\"gnomad_fin\"},\"id\":\"1156\",\"type\":\"GroupFilter\"},{\"attributes\":{\"label\":{\"value\":\"gnomad_sas\"},\"renderers\":[{\"id\":\"1185\",\"type\":\"GlyphRenderer\"}]},\"id\":\"1193\",\"type\":\"LegendItem\"},{\"attributes\":{\"callback\":null,\"tooltips\":[[\"x\",\"@x\"],[\"y\",\"@y\"],[\"Sample\",\"@Sample\"],[\"label\",\"@label\"]]},\"id\":\"1135\",\"type\":\"HoverTool\"},{\"attributes\":{\"fill_color\":{\"field\":\"label\",\"transform\":{\"id\":\"1137\",\"type\":\"CategoricalColorMapper\"}},\"line_color\":{\"field\":\"label\",\"transform\":{\"id\":\"1137\",\"type\":\"CategoricalColorMapper\"}},\"x\":{\"field\":\"x\"},\"y\":{\"field\":\"y\"}},\"id\":\"1159\",\"type\":\"Circle\"}],\"root_ids\":[\"1100\"]},\"title\":\"Bokeh Application\",\"version\":\"1.2.0\"}};\n",
       "  var render_items = [{\"docid\":\"8bf818bd-168f-40c2-aba7-db120a53b74a\",\"roots\":{\"1100\":\"d17db8b3-fd57-4366-a51c-84dff5456c4f\"}}];\n",
       "  root.Bokeh.embed.embed_items_notebook(docs_json, render_items);\n",
       "\n",
       "  }\n",
       "  if (root.Bokeh !== undefined) {\n",
       "    embed_document(root);\n",
       "  } else {\n",
       "    var attempts = 0;\n",
       "    var timer = setInterval(function(root) {\n",
       "      if (root.Bokeh !== undefined) {\n",
       "        embed_document(root);\n",
       "        clearInterval(timer);\n",
       "      }\n",
       "      attempts++;\n",
       "      if (attempts > 100) {\n",
       "        console.log(\"Bokeh: ERROR: Unable to run BokehJS code because BokehJS library is missing\");\n",
       "        clearInterval(timer);\n",
       "      }\n",
       "    }, 10, root)\n",
       "  }\n",
       "})(window);"
      ],
      "application/vnd.bokehjs_exec.v0+json": ""
     },
     "metadata": {
      "application/vnd.bokehjs_exec.v0+json": {
       "id": "1100"
      }
     },
     "output_type": "display_data"
    }
   ],
   "source": [
    "p = hl.plot.scatter(af_mt.scores[0],\n",
    "                    af_mt.scores[1],\n",
    "                    label=af_mt.pop,\n",
    "                    hover_fields={'Sample': af_mt.pop},\n",
    "                    title='PCA', xlabel='PC1', ylabel='PC2')\n",
    "p.plot_width = 800\n",
    "p.plot_height = 600\n",
    "show(p)"
   ]
  },
  {
   "cell_type": "markdown",
   "metadata": {},
   "source": [
    "## Load FarGen data annotated with gnomAD data"
   ]
  },
  {
   "cell_type": "code",
   "execution_count": 6,
   "metadata": {},
   "outputs": [],
   "source": [
    "fargen_mt = hl.read_matrix_table(BASE_DIR + '/data/mt/hq_gnomad_annotated.mt')"
   ]
  },
  {
   "cell_type": "code",
   "execution_count": null,
   "metadata": {},
   "outputs": [],
   "source": []
  }
 ],
 "metadata": {
  "kernelspec": {
   "display_name": "Python [conda env:fargen-1-exome]",
   "language": "python",
   "name": "conda-env-fargen-1-exome-py"
  },
  "language_info": {
   "codemirror_mode": {
    "name": "ipython",
    "version": 3
   },
   "file_extension": ".py",
   "mimetype": "text/x-python",
   "name": "python",
   "nbconvert_exporter": "python",
   "pygments_lexer": "ipython3",
   "version": "3.7.10"
  }
 },
 "nbformat": 4,
 "nbformat_minor": 4
}
