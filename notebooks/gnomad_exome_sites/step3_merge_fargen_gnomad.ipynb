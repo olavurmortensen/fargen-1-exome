{
 "cells": [
  {
   "cell_type": "markdown",
   "id": "cced51ca-7540-4279-802a-06c5c7344323",
   "metadata": {},
   "source": [
    "# Merge FarGen and gnomAD exome sites data"
   ]
  },
  {
   "cell_type": "code",
   "execution_count": 1,
   "id": "sophisticated-washer",
   "metadata": {},
   "outputs": [
    {
     "name": "stderr",
     "output_type": "stream",
     "text": [
      "Running on Apache Spark version 2.4.1\n",
      "SparkUI available at http://hms-beagle-848846b477-48ks9:4041\n",
      "Welcome to\n",
      "     __  __     <>__\n",
      "    / /_/ /__  __/ /\n",
      "   / __  / _ `/ / /\n",
      "  /_/ /_/\\_,_/_/_/   version 0.2.61-3c86d3ba497a\n",
      "LOGGING: writing to /home/olavur/experiments/2020-11-13_fargen1_exome_analysis/fargen-1-exome/notebooks/gnomad_exome_sites/hail-20210629-0942-0.2.61-3c86d3ba497a.log\n"
     ]
    }
   ],
   "source": [
    "import hail as hl\n",
    "hl.init(spark_conf={'spark.driver.memory': '10g'}, tmp_dir='/home/olavur/tmp')"
   ]
  },
  {
   "cell_type": "code",
   "execution_count": 2,
   "id": "funky-infection",
   "metadata": {},
   "outputs": [],
   "source": [
    "BASE_DIR = '/home/olavur/experiments/2020-11-13_fargen1_exome_analysis'\n",
    "RESOURCES_DIR = '/data/other/resources'"
   ]
  },
  {
   "cell_type": "markdown",
   "id": "parental-mount",
   "metadata": {},
   "source": [
    "## Load gnomAD data"
   ]
  },
  {
   "cell_type": "code",
   "execution_count": 3,
   "id": "employed-coral",
   "metadata": {},
   "outputs": [],
   "source": [
    "gnomad_ht = hl.read_table(BASE_DIR + '/data/resources/gnomAD/gnomad_exome_sites/gnomad.exomes.r2.1.1.sites.GRCh38.EXOME_HIGH_QUALITY.ht')"
   ]
  },
  {
   "cell_type": "code",
   "execution_count": 4,
   "id": "designing-prison",
   "metadata": {},
   "outputs": [
    {
     "name": "stdout",
     "output_type": "stream",
     "text": [
      "Number of variants: 16320689\n"
     ]
    }
   ],
   "source": [
    "n_variants = gnomad_ht.count()\n",
    "print('Number of variants: ' + str(n_variants))"
   ]
  },
  {
   "cell_type": "markdown",
   "id": "vocational-donor",
   "metadata": {},
   "source": [
    "## Load FarGen exome data\n",
    "\n",
    "Load filtered, high-quality, variants."
   ]
  },
  {
   "cell_type": "code",
   "execution_count": 5,
   "id": "latter-manual",
   "metadata": {},
   "outputs": [],
   "source": [
    "fargen_mt = hl.read_matrix_table(BASE_DIR + '/data/mt/high_quality_variants_pao_removed.mt/')"
   ]
  },
  {
   "cell_type": "markdown",
   "id": "subtle-march",
   "metadata": {},
   "source": [
    "We will only need a table with the row data."
   ]
  },
  {
   "cell_type": "code",
   "execution_count": 6,
   "id": "sexual-inclusion",
   "metadata": {},
   "outputs": [],
   "source": [
    "fargen_sites_ht = fargen_mt.rows()"
   ]
  },
  {
   "cell_type": "code",
   "execution_count": 7,
   "id": "occasional-vermont",
   "metadata": {},
   "outputs": [
    {
     "name": "stdout",
     "output_type": "stream",
     "text": [
      "Number of variants: 1146382\n"
     ]
    }
   ],
   "source": [
    "n_variants = fargen_sites_ht.count()\n",
    "print('Number of variants: ' + str(n_variants))"
   ]
  },
  {
   "cell_type": "markdown",
   "id": "gothic-worthy",
   "metadata": {},
   "source": [
    "## Select relevant fields\n",
    "\n",
    "We are only interested in the allele frequencies.\n",
    "\n",
    "From the gnomAD data, select allele frequencies in selected populations."
   ]
  },
  {
   "cell_type": "code",
   "execution_count": 8,
   "id": "silver-royalty",
   "metadata": {},
   "outputs": [
    {
     "name": "stdout",
     "output_type": "stream",
     "text": [
      "----------------------------------------\n",
      "Global fields:\n",
      "    None\n",
      "----------------------------------------\n",
      "Row fields:\n",
      "    'locus': locus<GRCh38> \n",
      "    'alleles': array<str> \n",
      "    'gnomad_all': float64 \n",
      "    'afr': float64 \n",
      "    'sas': float64 \n",
      "    'amr': float64 \n",
      "    'eas': float64 \n",
      "    'nfe': float64 \n",
      "    'fin': float64 \n",
      "    'nfe_nwe': float64 \n",
      "    'nfe_seu': float64 \n",
      "----------------------------------------\n",
      "Key: ['locus', 'alleles']\n",
      "----------------------------------------\n"
     ]
    }
   ],
   "source": [
    "# Dictionary that indexes the populations in the array of population frequencies.\n",
    "gnomad_freq_index_dict = gnomad_ht.freq_index_dict.collect()[0]\n",
    "\n",
    "# Annotate the table with the allele frequencies in selected populations and discard all other row fields.\n",
    "gnomad_ht = gnomad_ht.select(gnomad_all=gnomad_ht.freq.AF[gnomad_freq_index_dict['gnomad']],\n",
    "                                     afr=gnomad_ht.freq.AF[gnomad_freq_index_dict['gnomad_afr']],\n",
    "                                     sas=gnomad_ht.freq.AF[gnomad_freq_index_dict['gnomad_sas']],\n",
    "                                     amr=gnomad_ht.freq.AF[gnomad_freq_index_dict['gnomad_amr']],\n",
    "                                     eas=gnomad_ht.freq.AF[gnomad_freq_index_dict['gnomad_eas']],\n",
    "                                     nfe=gnomad_ht.freq.AF[gnomad_freq_index_dict['gnomad_nfe']],\n",
    "                                     fin=gnomad_ht.freq.AF[gnomad_freq_index_dict['gnomad_fin']],\n",
    "                                     nfe_nwe=gnomad_ht.freq.AF[gnomad_freq_index_dict['gnomad_nfe_nwe']],\n",
    "                                     nfe_seu=gnomad_ht.freq.AF[gnomad_freq_index_dict['gnomad_nfe_seu']])\n",
    "\n",
    "# Discard all global fields.\n",
    "gnomad_ht = gnomad_ht.select_globals()\n",
    "\n",
    "gnomad_ht.describe()"
   ]
  },
  {
   "cell_type": "markdown",
   "id": "missing-importance",
   "metadata": {},
   "source": [
    "For the FarGen data, we only keep the allele frequency."
   ]
  },
  {
   "cell_type": "code",
   "execution_count": 9,
   "id": "controlling-sewing",
   "metadata": {},
   "outputs": [
    {
     "name": "stdout",
     "output_type": "stream",
     "text": [
      "----------------------------------------\n",
      "Global fields:\n",
      "    'pao_list': array<str> \n",
      "----------------------------------------\n",
      "Row fields:\n",
      "    'locus': locus<GRCh38> \n",
      "    'alleles': array<str> \n",
      "    'fae': float64 \n",
      "----------------------------------------\n",
      "Key: ['locus', 'alleles']\n",
      "----------------------------------------\n"
     ]
    }
   ],
   "source": [
    "fargen_sites_ht = fargen_sites_ht.select(fae=fargen_sites_ht.variant_qc.AF[0])\n",
    "fargen_sites_ht.describe()"
   ]
  },
  {
   "cell_type": "markdown",
   "id": "theoretical-player",
   "metadata": {},
   "source": [
    "## Merge all sites\n",
    "\n",
    "Sites are matched by locus and allele. Use an outer join such that all sites in both datasets are kept. "
   ]
  },
  {
   "cell_type": "code",
   "execution_count": 10,
   "id": "comparative-pontiac",
   "metadata": {},
   "outputs": [
    {
     "name": "stderr",
     "output_type": "stream",
     "text": [
      "2021-06-29 09:43:20 Hail: INFO: Table.join: renamed the following fields on the right to avoid name conflicts:\n",
      "    'alleles' -> 'alleles_1'\n",
      "    'locus' -> 'locus_1'\n"
     ]
    }
   ],
   "source": [
    "merged_ht = fargen_sites_ht.join(gnomad_ht, how='outer')"
   ]
  },
  {
   "cell_type": "code",
   "execution_count": 11,
   "id": "suffering-judges",
   "metadata": {},
   "outputs": [
    {
     "name": "stdout",
     "output_type": "stream",
     "text": [
      "----------------------------------------\n",
      "Global fields:\n",
      "    'pao_list': array<str> \n",
      "----------------------------------------\n",
      "Row fields:\n",
      "    'locus': locus<GRCh38> \n",
      "    'alleles': array<str> \n",
      "    'fae': float64 \n",
      "    'gnomad_all': float64 \n",
      "    'afr': float64 \n",
      "    'sas': float64 \n",
      "    'amr': float64 \n",
      "    'eas': float64 \n",
      "    'nfe': float64 \n",
      "    'fin': float64 \n",
      "    'nfe_nwe': float64 \n",
      "    'nfe_seu': float64 \n",
      "----------------------------------------\n",
      "Key: ['locus', 'alleles']\n",
      "----------------------------------------\n"
     ]
    }
   ],
   "source": [
    "merged_ht.describe()"
   ]
  },
  {
   "cell_type": "markdown",
   "id": "pressed-patrick",
   "metadata": {},
   "source": [
    "# Filter intervals\n",
    "\n",
    "Filter the merged file to only contain sites that are contained in the exome targets of both datasets. In addition, remove sites in repeat regions using RepeatMasker.\n",
    "\n",
    "## Load exome target files\n",
    "\n",
    "Load the SureSelect Human All Exon V6 UTR target BED file, which is used in the FarGen Phase I exome sequencing."
   ]
  },
  {
   "cell_type": "code",
   "execution_count": 12,
   "id": "addressed-recipe",
   "metadata": {},
   "outputs": [
    {
     "name": "stderr",
     "output_type": "stream",
     "text": [
      "2021-06-29 09:43:23 Hail: INFO: Reading table without type imputation\n",
      "  Loading field 'f0' as type str (user-supplied)\n",
      "  Loading field 'f1' as type int32 (user-supplied)\n",
      "  Loading field 'f2' as type int32 (user-supplied)\n",
      "  Loading field 'f3' as type str (user-supplied)\n"
     ]
    }
   ],
   "source": [
    "fargen_interval_ht = hl.import_bed(RESOURCES_DIR + '/sureselect_human_all_exon_v6_utr_grch38/S07604624_Padded.bed', reference_genome='GRCh38')"
   ]
  },
  {
   "cell_type": "markdown",
   "id": "legitimate-passenger",
   "metadata": {},
   "source": [
    "Exome calling regions used in gnomAD."
   ]
  },
  {
   "cell_type": "code",
   "execution_count": 13,
   "id": "color-motel",
   "metadata": {},
   "outputs": [],
   "source": [
    "gnomAD_interval_ht = hl.read_table(BASE_DIR + '/data/resources/gnomAD/gnomad_exome_sites/exome_calling_regions.v1.GRCh38.ht')"
   ]
  },
  {
   "cell_type": "markdown",
   "id": "restricted-entrance",
   "metadata": {},
   "source": [
    "Load the RepeatMasker regions, which were downloaded from UCSC with default settings.\n",
    "\n",
    "> Repeating Elements by RepeatMasker\n",
    ">\n",
    "> https://genome.ucsc.edu/cgi-bin/hgTrackUi?g=rmsk"
   ]
  },
  {
   "cell_type": "code",
   "execution_count": 14,
   "id": "worth-history",
   "metadata": {},
   "outputs": [
    {
     "name": "stderr",
     "output_type": "stream",
     "text": [
      "2021-06-29 09:43:24 Hail: INFO: Reading table without type imputation\n",
      "  Loading field 'f0' as type str (user-supplied)\n",
      "  Loading field 'f1' as type int32 (user-supplied)\n",
      "  Loading field 'f2' as type int32 (user-supplied)\n",
      "  Loading field 'f3' as type str (user-supplied)\n",
      "  Loading field 'f4' as type str (user-supplied)\n",
      "  Loading field 'f5' as type str (not specified)\n"
     ]
    }
   ],
   "source": [
    "# NOTE: this BED file contains some special contigs like \"chr1_KN196472v1_fix\". I skip these, as Hail is not able\n",
    "# to the anything with the table if they're included.\n",
    "rmsk_interval_ht = hl.import_bed(BASE_DIR + '/data/resources/repeatmasker/repeatmasker.bed', reference_genome='GRCh38',\n",
    "                                 skip_invalid_intervals=True)"
   ]
  },
  {
   "cell_type": "markdown",
   "id": "blank-delhi",
   "metadata": {},
   "source": [
    "## Filter sites\n",
    "\n",
    "Keep only sites where both the FarGen and gnomAD exome targets are defined, and discard sites contained in repeat regions."
   ]
  },
  {
   "cell_type": "code",
   "execution_count": 15,
   "id": "radio-overall",
   "metadata": {},
   "outputs": [],
   "source": [
    "merged_ht = merged_ht.filter(hl.is_defined(fargen_interval_ht[merged_ht.locus]) &\n",
    "                             hl.is_defined(gnomAD_interval_ht[merged_ht.locus]) &\n",
    "                             hl.is_missing(rmsk_interval_ht[merged_ht.locus]))"
   ]
  },
  {
   "cell_type": "markdown",
   "id": "aggregate-background",
   "metadata": {},
   "source": [
    "## Write table to file"
   ]
  },
  {
   "cell_type": "code",
   "execution_count": 16,
   "id": "approved-klein",
   "metadata": {},
   "outputs": [
    {
     "name": "stderr",
     "output_type": "stream",
     "text": [
      "2021-06-29 09:43:38 Hail: INFO: Coerced sorted dataset\n",
      "2021-06-29 09:43:53 Hail: INFO: Ordering unsorted dataset with network shuffle\n",
      "2021-06-29 09:55:22 Hail: INFO: wrote table with 15904432 rows in 10034 partitions to /home/olavur/experiments/2020-11-13_fargen1_exome_analysis/data/resources/gnomad_exome_sites/fargen_gnomad_union_filtered.ht\n",
      "    Total size: 556.51 MiB\n",
      "    * Rows: 556.51 MiB\n",
      "    * Globals: 39.00 B\n",
      "    * Smallest partition: 0 rows (21.00 B)\n",
      "    * Largest partition:  3563 rows (118.66 KiB)\n"
     ]
    }
   ],
   "source": [
    "if True:\n",
    "    merged_ht.write(BASE_DIR + '/data/resources/gnomad_exome_sites/fargen_gnomad_union_filtered.ht', overwrite=True)"
   ]
  },
  {
   "cell_type": "code",
   "execution_count": 17,
   "id": "d321a069-3d0d-4db9-9d33-082c42a7b1e5",
   "metadata": {},
   "outputs": [],
   "source": [
    "if True:\n",
    "    merged_ht = hl.read_table(BASE_DIR + '/data/resources/gnomad_exome_sites/fargen_gnomad_union_filtered.ht')"
   ]
  },
  {
   "cell_type": "code",
   "execution_count": 18,
   "id": "d68941ba-4f0c-48c4-8f85-2793f3bd4736",
   "metadata": {},
   "outputs": [
    {
     "name": "stdout",
     "output_type": "stream",
     "text": [
      "Number of variants: 15904432\n"
     ]
    }
   ],
   "source": [
    "n_variants = merged_ht.count()\n",
    "print('Number of variants: ' + str(n_variants))"
   ]
  }
 ],
 "metadata": {
  "kernelspec": {
   "display_name": "Python [conda env:fargen-1-exome]",
   "language": "python",
   "name": "conda-env-fargen-1-exome-py"
  },
  "language_info": {
   "codemirror_mode": {
    "name": "ipython",
    "version": 3
   },
   "file_extension": ".py",
   "mimetype": "text/x-python",
   "name": "python",
   "nbconvert_exporter": "python",
   "pygments_lexer": "ipython3",
   "version": "3.7.10"
  }
 },
 "nbformat": 4,
 "nbformat_minor": 5
}
