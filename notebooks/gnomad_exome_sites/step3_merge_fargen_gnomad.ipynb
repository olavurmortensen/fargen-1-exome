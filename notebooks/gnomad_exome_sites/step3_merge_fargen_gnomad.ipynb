{
 "cells": [
  {
   "cell_type": "markdown",
   "id": "cced51ca-7540-4279-802a-06c5c7344323",
   "metadata": {},
   "source": [
    "# Merge FarGen and gnomAD exome sites data"
   ]
  },
  {
   "cell_type": "code",
   "execution_count": 1,
   "id": "sophisticated-washer",
   "metadata": {},
   "outputs": [
    {
     "name": "stdout",
     "output_type": "stream",
     "text": [
      "2021-10-05 13:38:12 WARN  NativeCodeLoader:62 - Unable to load native-hadoop library for your platform... using builtin-java classes where applicable\n"
     ]
    },
    {
     "name": "stderr",
     "output_type": "stream",
     "text": [
      "Setting default log level to \"WARN\".\n",
      "To adjust logging level use sc.setLogLevel(newLevel). For SparkR, use setLogLevel(newLevel).\n"
     ]
    },
    {
     "name": "stdout",
     "output_type": "stream",
     "text": [
      "2021-10-05 13:38:13 WARN  Hail:37 - This Hail JAR was compiled for Spark 2.4.5, running with Spark 2.4.1.\n",
      "  Compatibility is not guaranteed.\n"
     ]
    },
    {
     "name": "stderr",
     "output_type": "stream",
     "text": [
      "Running on Apache Spark version 2.4.1\n",
      "SparkUI available at http://hms-beagle-6676655f87-9xllv:4040\n",
      "Welcome to\n",
      "     __  __     <>__\n",
      "    / /_/ /__  __/ /\n",
      "   / __  / _ `/ / /\n",
      "  /_/ /_/\\_,_/_/_/   version 0.2.61-3c86d3ba497a\n",
      "LOGGING: writing to /home/olavur/experiments/2020-11-13_fargen1_exome_analysis/fargen-1-exome/notebooks/gnomad_exome_sites/hail-20211005-1338-0.2.61-3c86d3ba497a.log\n"
     ]
    }
   ],
   "source": [
    "import hail as hl\n",
    "hl.init(spark_conf={'spark.driver.memory': '10g'}, tmp_dir='/home/olavur/tmp')"
   ]
  },
  {
   "cell_type": "code",
   "execution_count": 2,
   "id": "funky-infection",
   "metadata": {},
   "outputs": [],
   "source": [
    "BASE_DIR = '/home/olavur/experiments/2020-11-13_fargen1_exome_analysis'\n",
    "RESOURCES_DIR = '/data/other/resources'"
   ]
  },
  {
   "cell_type": "markdown",
   "id": "parental-mount",
   "metadata": {},
   "source": [
    "## Load gnomAD data"
   ]
  },
  {
   "cell_type": "code",
   "execution_count": 3,
   "id": "employed-coral",
   "metadata": {},
   "outputs": [],
   "source": [
    "gnomad_ht = hl.read_table(BASE_DIR + '/data/resources/gnomAD/gnomad_exome_sites/gnomad.exomes.r2.1.1.sites.GRCh38.EXOME_HIGH_QUALITY.ht')"
   ]
  },
  {
   "cell_type": "code",
   "execution_count": 4,
   "id": "designing-prison",
   "metadata": {},
   "outputs": [
    {
     "name": "stdout",
     "output_type": "stream",
     "text": [
      "Number of variants: 16320689\n"
     ]
    }
   ],
   "source": [
    "n_variants = gnomad_ht.count()\n",
    "print('Number of variants: ' + str(n_variants))"
   ]
  },
  {
   "cell_type": "markdown",
   "id": "vocational-donor",
   "metadata": {},
   "source": [
    "## Load FarGen exome data\n",
    "\n",
    "Load filtered, high-quality, variants."
   ]
  },
  {
   "cell_type": "code",
   "execution_count": 5,
   "id": "latter-manual",
   "metadata": {},
   "outputs": [],
   "source": [
    "fargen_mt = hl.read_matrix_table(BASE_DIR + '/data/mt/high_quality_variants.mt/')"
   ]
  },
  {
   "cell_type": "markdown",
   "id": "51ba6c59-5de1-4103-80c5-c7a7ec93f7b0",
   "metadata": {},
   "source": [
    "In the gnomAD data, multi-allelic sites have been split, according to this blog post: https://macarthurlab.org/2018/10/17/gnomad-v2-1/\n",
    "\n",
    "So we shall split multi-allelic sites in the FarGen dataset as well."
   ]
  },
  {
   "cell_type": "code",
   "execution_count": 6,
   "id": "d4612cd1-ca9a-46c7-a18f-c31642b0d52f",
   "metadata": {},
   "outputs": [],
   "source": [
    "fargen_mt = hl.split_multi_hts(fargen_mt)\n",
    "\n",
    "# We must update the variant QC after the split.\n",
    "fargen_mt = hl.variant_qc(fargen_mt)"
   ]
  },
  {
   "cell_type": "markdown",
   "id": "subtle-march",
   "metadata": {},
   "source": [
    "We will only need a table with the row data."
   ]
  },
  {
   "cell_type": "code",
   "execution_count": 7,
   "id": "sexual-inclusion",
   "metadata": {},
   "outputs": [],
   "source": [
    "fargen_sites_ht = fargen_mt.rows()"
   ]
  },
  {
   "cell_type": "code",
   "execution_count": 8,
   "id": "occasional-vermont",
   "metadata": {},
   "outputs": [
    {
     "name": "stderr",
     "output_type": "stream",
     "text": [
      "[Stage 0:>                                                        (0 + 37) / 37]"
     ]
    },
    {
     "name": "stdout",
     "output_type": "stream",
     "text": [
      "Number of variants: 148305\n"
     ]
    }
   ],
   "source": [
    "n_variants = fargen_sites_ht.count()\n",
    "print('Number of variants: ' + str(n_variants))"
   ]
  },
  {
   "cell_type": "markdown",
   "id": "gothic-worthy",
   "metadata": {},
   "source": [
    "## Select relevant fields\n",
    "\n",
    "We are only interested in the allele frequencies and counts.\n",
    "\n",
    "From the gnomAD data, select allele frequencies and counts in selected populations."
   ]
  },
  {
   "cell_type": "code",
   "execution_count": 9,
   "id": "silver-royalty",
   "metadata": {
    "tags": []
   },
   "outputs": [
    {
     "name": "stdout",
     "output_type": "stream",
     "text": [
      "----------------------------------------\n",
      "Global fields:\n",
      "    None\n",
      "----------------------------------------\n",
      "Row fields:\n",
      "    'locus': locus<GRCh38> \n",
      "    'alleles': array<str> \n",
      "    'info': struct {\n",
      "        AF_gnomad_all: float64, \n",
      "        AF_afr: float64, \n",
      "        AF_sas: float64, \n",
      "        AF_amr: float64, \n",
      "        AF_eas: float64, \n",
      "        AF_nfe: float64, \n",
      "        AF_fin: float64, \n",
      "        AF_nfe_nwe: float64, \n",
      "        AF_nfe_seu: float64, \n",
      "        AC_gnomad_all: int32, \n",
      "        AC_afr: int32, \n",
      "        AC_sas: int32, \n",
      "        AC_amr: int32, \n",
      "        AC_eas: int32, \n",
      "        AC_nfe: int32, \n",
      "        AC_fin: int32, \n",
      "        AC_nfe_nwe: int32, \n",
      "        AC_nfe_seu: int32\n",
      "    } \n",
      "----------------------------------------\n",
      "Key: ['locus', 'alleles']\n",
      "----------------------------------------\n"
     ]
    }
   ],
   "source": [
    "# Dictionary that indexes the populations in the array of population frequencies.\n",
    "gnomad_freq_index_dict = gnomad_ht.freq_index_dict.collect()[0]\n",
    "\n",
    "# We are going to annotate the info field. For example, gnomad_ht.info.AF.afr will give us frequencies in the African population.\n",
    "gnomad_ht = gnomad_ht.annotate(info = hl.struct())\n",
    "gnomad_ht = gnomad_ht.annotate(info = gnomad_ht.info.annotate(AF=hl.struct(), AC=hl.struct()))\n",
    "\n",
    "# Annotate the table with the allele frequencies in selected populations and discard all other row fields.\n",
    "gnomad_ht = gnomad_ht.select(\n",
    "    info = gnomad_ht.info.select(\n",
    "        AF_gnomad_all=gnomad_ht.freq.AF[gnomad_freq_index_dict['gnomad']],\n",
    "        AF_afr=gnomad_ht.freq.AF[gnomad_freq_index_dict['gnomad_afr']],\n",
    "        AF_sas=gnomad_ht.freq.AF[gnomad_freq_index_dict['gnomad_sas']],\n",
    "        AF_amr=gnomad_ht.freq.AF[gnomad_freq_index_dict['gnomad_amr']],\n",
    "        AF_eas=gnomad_ht.freq.AF[gnomad_freq_index_dict['gnomad_eas']],\n",
    "        AF_nfe=gnomad_ht.freq.AF[gnomad_freq_index_dict['gnomad_nfe']],\n",
    "        AF_fin=gnomad_ht.freq.AF[gnomad_freq_index_dict['gnomad_fin']],\n",
    "        AF_nfe_nwe=gnomad_ht.freq.AF[gnomad_freq_index_dict['gnomad_nfe_nwe']],\n",
    "        AF_nfe_seu=gnomad_ht.freq.AF[gnomad_freq_index_dict['gnomad_nfe_seu']],\n",
    "        AC_gnomad_all=gnomad_ht.freq.AC[gnomad_freq_index_dict['gnomad']],\n",
    "        AC_afr=gnomad_ht.freq.AC[gnomad_freq_index_dict['gnomad_afr']],\n",
    "        AC_sas=gnomad_ht.freq.AC[gnomad_freq_index_dict['gnomad_sas']],\n",
    "        AC_amr=gnomad_ht.freq.AC[gnomad_freq_index_dict['gnomad_amr']],\n",
    "        AC_eas=gnomad_ht.freq.AC[gnomad_freq_index_dict['gnomad_eas']],\n",
    "        AC_nfe=gnomad_ht.freq.AC[gnomad_freq_index_dict['gnomad_nfe']],\n",
    "        AC_fin=gnomad_ht.freq.AC[gnomad_freq_index_dict['gnomad_fin']],\n",
    "        AC_nfe_nwe=gnomad_ht.freq.AC[gnomad_freq_index_dict['gnomad_nfe_nwe']],\n",
    "        AC_nfe_seu=gnomad_ht.freq.AC[gnomad_freq_index_dict['gnomad_nfe_seu']])\n",
    ")\n",
    "\n",
    "# Discard all global fields.\n",
    "gnomad_ht = gnomad_ht.select_globals()\n",
    "\n",
    "gnomad_ht.describe()"
   ]
  },
  {
   "cell_type": "markdown",
   "id": "678a285c-986b-4298-b9ad-960d75c058cc",
   "metadata": {},
   "source": [
    "For the FarGen data, we only keep the alternate allele frequency."
   ]
  },
  {
   "cell_type": "code",
   "execution_count": 10,
   "id": "8e906114-c654-420b-8d08-59cef22bbd22",
   "metadata": {},
   "outputs": [
    {
     "name": "stdout",
     "output_type": "stream",
     "text": [
      "----------------------------------------\n",
      "Global fields:\n",
      "    None\n",
      "----------------------------------------\n",
      "Row fields:\n",
      "    'locus': locus<GRCh38> \n",
      "    'alleles': array<str> \n",
      "    'info': struct {\n",
      "        AF_fae: float64, \n",
      "        AC_fae: int32\n",
      "    } \n",
      "----------------------------------------\n",
      "Key: ['locus', 'alleles']\n",
      "----------------------------------------\n"
     ]
    }
   ],
   "source": [
    "# Make info.AF and info.AC structs.\n",
    "fargen_sites_ht = fargen_sites_ht.annotate(info = fargen_sites_ht.info.annotate(AF=hl.struct(), AC=hl.struct()))\n",
    "\n",
    "# Annotate these structs with allele frequency and counts.\n",
    "fargen_sites_ht = fargen_sites_ht.select(\n",
    "    info = fargen_sites_ht.info.select(\n",
    "        AF_fae = fargen_sites_ht.variant_qc.AF[1],\n",
    "        AC_fae = fargen_sites_ht.variant_qc.AC[1]\n",
    "        )\n",
    "    )\n",
    "\n",
    "\n",
    "# Discard all global fields.\n",
    "fargen_sites_ht = fargen_sites_ht.select_globals()\n",
    "\n",
    "fargen_sites_ht.describe()"
   ]
  },
  {
   "cell_type": "markdown",
   "id": "theoretical-player",
   "metadata": {},
   "source": [
    "## Merge all sites\n",
    "\n",
    "Sites are matched by locus and allele. Use an outer join such that all sites in both datasets are kept. "
   ]
  },
  {
   "cell_type": "code",
   "execution_count": 11,
   "id": "d50b9c0c-b739-49b6-b1c1-f0757cce2087",
   "metadata": {},
   "outputs": [
    {
     "name": "stderr",
     "output_type": "stream",
     "text": [
      "2021-10-05 13:38:24 Hail: INFO: Table.join: renamed the following fields on the right to avoid name conflicts:\n",
      "    'locus' -> 'locus_1'\n",
      "    'info' -> 'info_1'\n",
      "    'alleles' -> 'alleles_1'\n"
     ]
    }
   ],
   "source": [
    "merged_ht = gnomad_ht.join(fargen_sites_ht, how='outer')"
   ]
  },
  {
   "cell_type": "code",
   "execution_count": 12,
   "id": "comparative-pontiac",
   "metadata": {},
   "outputs": [],
   "source": [
    "# We now how a 'info_1' field as well as a 'info' field, so we merge them.\n",
    "merged_ht = merged_ht.annotate(\n",
    "    info = merged_ht.info.annotate(\n",
    "        AF_fae = merged_ht.info_1.AF_fae,\n",
    "        AC_fae = merged_ht.info_1.AC_fae\n",
    "    ))\n",
    "merged_ht = merged_ht.select(info = merged_ht.info)"
   ]
  },
  {
   "cell_type": "code",
   "execution_count": 13,
   "id": "suffering-judges",
   "metadata": {},
   "outputs": [
    {
     "name": "stdout",
     "output_type": "stream",
     "text": [
      "----------------------------------------\n",
      "Global fields:\n",
      "    None\n",
      "----------------------------------------\n",
      "Row fields:\n",
      "    'locus': locus<GRCh38> \n",
      "    'alleles': array<str> \n",
      "    'info': struct {\n",
      "        AF_gnomad_all: float64, \n",
      "        AF_afr: float64, \n",
      "        AF_sas: float64, \n",
      "        AF_amr: float64, \n",
      "        AF_eas: float64, \n",
      "        AF_nfe: float64, \n",
      "        AF_fin: float64, \n",
      "        AF_nfe_nwe: float64, \n",
      "        AF_nfe_seu: float64, \n",
      "        AC_gnomad_all: int32, \n",
      "        AC_afr: int32, \n",
      "        AC_sas: int32, \n",
      "        AC_amr: int32, \n",
      "        AC_eas: int32, \n",
      "        AC_nfe: int32, \n",
      "        AC_fin: int32, \n",
      "        AC_nfe_nwe: int32, \n",
      "        AC_nfe_seu: int32, \n",
      "        AF_fae: float64, \n",
      "        AC_fae: int32\n",
      "    } \n",
      "----------------------------------------\n",
      "Key: ['locus', 'alleles']\n",
      "----------------------------------------\n"
     ]
    }
   ],
   "source": [
    "merged_ht.describe()"
   ]
  },
  {
   "cell_type": "markdown",
   "id": "pressed-patrick",
   "metadata": {},
   "source": [
    "# Filter intervals\n",
    "\n",
    "Filter the merged file to only contain sites that are contained in the exome targets of both datasets. In addition, remove sites in repeat regions using RepeatMasker.\n",
    "\n",
    "## Load exome target files\n",
    "\n",
    "Load the SureSelect Human All Exon V6 UTR target BED file, which is used in the FarGen Phase I exome sequencing."
   ]
  },
  {
   "cell_type": "code",
   "execution_count": 14,
   "id": "addressed-recipe",
   "metadata": {},
   "outputs": [
    {
     "name": "stderr",
     "output_type": "stream",
     "text": [
      "2021-10-05 13:38:24 Hail: INFO: Reading table without type imputation\n",
      "  Loading field 'f0' as type str (user-supplied)\n",
      "  Loading field 'f1' as type int32 (user-supplied)\n",
      "  Loading field 'f2' as type int32 (user-supplied)\n",
      "  Loading field 'f3' as type str (user-supplied)\n"
     ]
    }
   ],
   "source": [
    "fargen_interval_ht = hl.import_bed(RESOURCES_DIR + '/sureselect_human_all_exon_v6_utr_grch38/S07604624_Padded.bed', reference_genome='GRCh38')"
   ]
  },
  {
   "cell_type": "markdown",
   "id": "legitimate-passenger",
   "metadata": {},
   "source": [
    "Exome calling regions used in gnomAD."
   ]
  },
  {
   "cell_type": "code",
   "execution_count": 15,
   "id": "color-motel",
   "metadata": {},
   "outputs": [],
   "source": [
    "gnomAD_interval_ht = hl.read_table(BASE_DIR + '/data/resources/gnomAD/gnomad_exome_sites/exome_calling_regions.v1.GRCh38.ht')"
   ]
  },
  {
   "cell_type": "markdown",
   "id": "restricted-entrance",
   "metadata": {},
   "source": [
    "Load the RepeatMasker regions, which were downloaded from UCSC with default settings.\n",
    "\n",
    "> Repeating Elements by RepeatMasker\n",
    ">\n",
    "> https://genome.ucsc.edu/cgi-bin/hgTrackUi?g=rmsk"
   ]
  },
  {
   "cell_type": "code",
   "execution_count": 16,
   "id": "worth-history",
   "metadata": {},
   "outputs": [
    {
     "name": "stderr",
     "output_type": "stream",
     "text": [
      "2021-10-05 13:38:24 Hail: INFO: Reading table without type imputation\n",
      "  Loading field 'f0' as type str (user-supplied)\n",
      "  Loading field 'f1' as type int32 (user-supplied)\n",
      "  Loading field 'f2' as type int32 (user-supplied)\n",
      "  Loading field 'f3' as type str (user-supplied)\n",
      "  Loading field 'f4' as type str (user-supplied)\n",
      "  Loading field 'f5' as type str (not specified)\n"
     ]
    }
   ],
   "source": [
    "# NOTE: this BED file contains some special contigs like \"chr1_KN196472v1_fix\". I skip these, as Hail is not able\n",
    "# to the anything with the table if they're included.\n",
    "rmsk_interval_ht = hl.import_bed(BASE_DIR + '/data/resources/repeatmasker/repeatmasker.bed', reference_genome='GRCh38',\n",
    "                                 skip_invalid_intervals=True)"
   ]
  },
  {
   "cell_type": "markdown",
   "id": "blank-delhi",
   "metadata": {},
   "source": [
    "## Filter sites\n",
    "\n",
    "Keep only sites where both the FarGen and gnomAD exome targets are defined, and discard sites contained in repeat regions."
   ]
  },
  {
   "cell_type": "code",
   "execution_count": 17,
   "id": "radio-overall",
   "metadata": {},
   "outputs": [],
   "source": [
    "merged_ht = merged_ht.filter(hl.is_defined(fargen_interval_ht[merged_ht.locus]) &\n",
    "                             hl.is_defined(gnomAD_interval_ht[merged_ht.locus]) &\n",
    "                             hl.is_missing(rmsk_interval_ht[merged_ht.locus]))"
   ]
  },
  {
   "cell_type": "markdown",
   "id": "aggregate-background",
   "metadata": {},
   "source": [
    "## Write table to file"
   ]
  },
  {
   "cell_type": "code",
   "execution_count": 18,
   "id": "approved-klein",
   "metadata": {},
   "outputs": [
    {
     "name": "stderr",
     "output_type": "stream",
     "text": [
      "[Stage 3:>                                                          (0 + 1) / 1]2021-10-05 13:38:33 Hail: INFO: Coerced sorted dataset\n",
      "[Stage 4:=============================>                             (1 + 1) / 2]2021-10-05 13:38:50 Hail: INFO: Ordering unsorted dataset with network shuffle\n",
      "[Stage 9:==================================================>(10025 + 9) / 10034]2021-10-05 13:50:00 Hail: INFO: wrote table with 15692611 rows in 10034 partitions to /home/olavur/experiments/2020-11-13_fargen1_exome_analysis/data/resources/gnomad_exome_sites/fargen_gnomad_union_filtered.ht\n",
      "    Total size: 595.68 MiB\n",
      "    * Rows: 595.68 MiB\n",
      "    * Globals: 11.00 B\n",
      "    * Smallest partition: 0 rows (21.00 B)\n",
      "    * Largest partition:  3545 rows (128.62 KiB)\n"
     ]
    }
   ],
   "source": [
    "if True:\n",
    "    merged_ht.write(BASE_DIR + '/data/resources/gnomad_exome_sites/fargen_gnomad_union_filtered.ht', overwrite=True)"
   ]
  },
  {
   "cell_type": "code",
   "execution_count": 19,
   "id": "d321a069-3d0d-4db9-9d33-082c42a7b1e5",
   "metadata": {},
   "outputs": [],
   "source": [
    "if True:\n",
    "    merged_ht = hl.read_table(BASE_DIR + '/data/resources/gnomad_exome_sites/fargen_gnomad_union_filtered.ht')"
   ]
  },
  {
   "cell_type": "code",
   "execution_count": 20,
   "id": "d68941ba-4f0c-48c4-8f85-2793f3bd4736",
   "metadata": {},
   "outputs": [
    {
     "name": "stdout",
     "output_type": "stream",
     "text": [
      "Number of variants: 15692611\n"
     ]
    }
   ],
   "source": [
    "n_variants = merged_ht.count()\n",
    "print('Number of variants: ' + str(n_variants))"
   ]
  }
 ],
 "metadata": {
  "kernelspec": {
   "display_name": "Python [conda env:fargen-1-exome]",
   "language": "python",
   "name": "conda-env-fargen-1-exome-py"
  },
  "language_info": {
   "codemirror_mode": {
    "name": "ipython",
    "version": 3
   },
   "file_extension": ".py",
   "mimetype": "text/x-python",
   "name": "python",
   "nbconvert_exporter": "python",
   "pygments_lexer": "ipython3",
   "version": "3.7.12"
  }
 },
 "nbformat": 4,
 "nbformat_minor": 5
}
