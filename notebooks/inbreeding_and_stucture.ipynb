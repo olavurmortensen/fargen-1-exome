{
 "cells": [
  {
   "cell_type": "markdown",
   "metadata": {},
   "source": [
    "# Inbreeding and structure\n",
    "\n",
    "Can population structure explain inbreeding?"
   ]
  },
  {
   "cell_type": "code",
   "execution_count": 1,
   "metadata": {},
   "outputs": [
    {
     "name": "stderr",
     "output_type": "stream",
     "text": [
      "Running on Apache Spark version 2.4.6\n",
      "SparkUI available at http://hms-beagle-5466c684ff-d8mgh:4045\n",
      "Welcome to\n",
      "     __  __     <>__\n",
      "    / /_/ /__  __/ /\n",
      "   / __  / _ `/ / /\n",
      "  /_/ /_/\\_,_/_/_/   version 0.2.58-3f304aae6ce2\n",
      "LOGGING: writing to /home/olavur/experiments/2020-11-13_fargen1_exome_analysis/notebooks/hail-20201125-1340-0.2.58-3f304aae6ce2.log\n"
     ]
    }
   ],
   "source": [
    "import hail as hl\n",
    "hl.init()"
   ]
  },
  {
   "cell_type": "code",
   "execution_count": 2,
   "metadata": {},
   "outputs": [
    {
     "data": {
      "text/html": [
       "\n",
       "    <div class=\"bk-root\">\n",
       "        <a href=\"https://bokeh.pydata.org\" target=\"_blank\" class=\"bk-logo bk-logo-small bk-logo-notebook\"></a>\n",
       "        <span id=\"1001\">Loading BokehJS ...</span>\n",
       "    </div>"
      ]
     },
     "metadata": {},
     "output_type": "display_data"
    },
    {
     "data": {
      "application/javascript": [
       "\n",
       "(function(root) {\n",
       "  function now() {\n",
       "    return new Date();\n",
       "  }\n",
       "\n",
       "  var force = true;\n",
       "\n",
       "  if (typeof root._bokeh_onload_callbacks === \"undefined\" || force === true) {\n",
       "    root._bokeh_onload_callbacks = [];\n",
       "    root._bokeh_is_loading = undefined;\n",
       "  }\n",
       "\n",
       "  var JS_MIME_TYPE = 'application/javascript';\n",
       "  var HTML_MIME_TYPE = 'text/html';\n",
       "  var EXEC_MIME_TYPE = 'application/vnd.bokehjs_exec.v0+json';\n",
       "  var CLASS_NAME = 'output_bokeh rendered_html';\n",
       "\n",
       "  /**\n",
       "   * Render data to the DOM node\n",
       "   */\n",
       "  function render(props, node) {\n",
       "    var script = document.createElement(\"script\");\n",
       "    node.appendChild(script);\n",
       "  }\n",
       "\n",
       "  /**\n",
       "   * Handle when an output is cleared or removed\n",
       "   */\n",
       "  function handleClearOutput(event, handle) {\n",
       "    var cell = handle.cell;\n",
       "\n",
       "    var id = cell.output_area._bokeh_element_id;\n",
       "    var server_id = cell.output_area._bokeh_server_id;\n",
       "    // Clean up Bokeh references\n",
       "    if (id != null && id in Bokeh.index) {\n",
       "      Bokeh.index[id].model.document.clear();\n",
       "      delete Bokeh.index[id];\n",
       "    }\n",
       "\n",
       "    if (server_id !== undefined) {\n",
       "      // Clean up Bokeh references\n",
       "      var cmd = \"from bokeh.io.state import curstate; print(curstate().uuid_to_server['\" + server_id + \"'].get_sessions()[0].document.roots[0]._id)\";\n",
       "      cell.notebook.kernel.execute(cmd, {\n",
       "        iopub: {\n",
       "          output: function(msg) {\n",
       "            var id = msg.content.text.trim();\n",
       "            if (id in Bokeh.index) {\n",
       "              Bokeh.index[id].model.document.clear();\n",
       "              delete Bokeh.index[id];\n",
       "            }\n",
       "          }\n",
       "        }\n",
       "      });\n",
       "      // Destroy server and session\n",
       "      var cmd = \"import bokeh.io.notebook as ion; ion.destroy_server('\" + server_id + \"')\";\n",
       "      cell.notebook.kernel.execute(cmd);\n",
       "    }\n",
       "  }\n",
       "\n",
       "  /**\n",
       "   * Handle when a new output is added\n",
       "   */\n",
       "  function handleAddOutput(event, handle) {\n",
       "    var output_area = handle.output_area;\n",
       "    var output = handle.output;\n",
       "\n",
       "    // limit handleAddOutput to display_data with EXEC_MIME_TYPE content only\n",
       "    if ((output.output_type != \"display_data\") || (!output.data.hasOwnProperty(EXEC_MIME_TYPE))) {\n",
       "      return\n",
       "    }\n",
       "\n",
       "    var toinsert = output_area.element.find(\".\" + CLASS_NAME.split(' ')[0]);\n",
       "\n",
       "    if (output.metadata[EXEC_MIME_TYPE][\"id\"] !== undefined) {\n",
       "      toinsert[toinsert.length - 1].firstChild.textContent = output.data[JS_MIME_TYPE];\n",
       "      // store reference to embed id on output_area\n",
       "      output_area._bokeh_element_id = output.metadata[EXEC_MIME_TYPE][\"id\"];\n",
       "    }\n",
       "    if (output.metadata[EXEC_MIME_TYPE][\"server_id\"] !== undefined) {\n",
       "      var bk_div = document.createElement(\"div\");\n",
       "      bk_div.innerHTML = output.data[HTML_MIME_TYPE];\n",
       "      var script_attrs = bk_div.children[0].attributes;\n",
       "      for (var i = 0; i < script_attrs.length; i++) {\n",
       "        toinsert[toinsert.length - 1].firstChild.setAttribute(script_attrs[i].name, script_attrs[i].value);\n",
       "      }\n",
       "      // store reference to server id on output_area\n",
       "      output_area._bokeh_server_id = output.metadata[EXEC_MIME_TYPE][\"server_id\"];\n",
       "    }\n",
       "  }\n",
       "\n",
       "  function register_renderer(events, OutputArea) {\n",
       "\n",
       "    function append_mime(data, metadata, element) {\n",
       "      // create a DOM node to render to\n",
       "      var toinsert = this.create_output_subarea(\n",
       "        metadata,\n",
       "        CLASS_NAME,\n",
       "        EXEC_MIME_TYPE\n",
       "      );\n",
       "      this.keyboard_manager.register_events(toinsert);\n",
       "      // Render to node\n",
       "      var props = {data: data, metadata: metadata[EXEC_MIME_TYPE]};\n",
       "      render(props, toinsert[toinsert.length - 1]);\n",
       "      element.append(toinsert);\n",
       "      return toinsert\n",
       "    }\n",
       "\n",
       "    /* Handle when an output is cleared or removed */\n",
       "    events.on('clear_output.CodeCell', handleClearOutput);\n",
       "    events.on('delete.Cell', handleClearOutput);\n",
       "\n",
       "    /* Handle when a new output is added */\n",
       "    events.on('output_added.OutputArea', handleAddOutput);\n",
       "\n",
       "    /**\n",
       "     * Register the mime type and append_mime function with output_area\n",
       "     */\n",
       "    OutputArea.prototype.register_mime_type(EXEC_MIME_TYPE, append_mime, {\n",
       "      /* Is output safe? */\n",
       "      safe: true,\n",
       "      /* Index of renderer in `output_area.display_order` */\n",
       "      index: 0\n",
       "    });\n",
       "  }\n",
       "\n",
       "  // register the mime type if in Jupyter Notebook environment and previously unregistered\n",
       "  if (root.Jupyter !== undefined) {\n",
       "    var events = require('base/js/events');\n",
       "    var OutputArea = require('notebook/js/outputarea').OutputArea;\n",
       "\n",
       "    if (OutputArea.prototype.mime_types().indexOf(EXEC_MIME_TYPE) == -1) {\n",
       "      register_renderer(events, OutputArea);\n",
       "    }\n",
       "  }\n",
       "\n",
       "  \n",
       "  if (typeof (root._bokeh_timeout) === \"undefined\" || force === true) {\n",
       "    root._bokeh_timeout = Date.now() + 5000;\n",
       "    root._bokeh_failed_load = false;\n",
       "  }\n",
       "\n",
       "  var NB_LOAD_WARNING = {'data': {'text/html':\n",
       "     \"<div style='background-color: #fdd'>\\n\"+\n",
       "     \"<p>\\n\"+\n",
       "     \"BokehJS does not appear to have successfully loaded. If loading BokehJS from CDN, this \\n\"+\n",
       "     \"may be due to a slow or bad network connection. Possible fixes:\\n\"+\n",
       "     \"</p>\\n\"+\n",
       "     \"<ul>\\n\"+\n",
       "     \"<li>re-rerun `output_notebook()` to attempt to load from CDN again, or</li>\\n\"+\n",
       "     \"<li>use INLINE resources instead, as so:</li>\\n\"+\n",
       "     \"</ul>\\n\"+\n",
       "     \"<code>\\n\"+\n",
       "     \"from bokeh.resources import INLINE\\n\"+\n",
       "     \"output_notebook(resources=INLINE)\\n\"+\n",
       "     \"</code>\\n\"+\n",
       "     \"</div>\"}};\n",
       "\n",
       "  function display_loaded() {\n",
       "    var el = document.getElementById(\"1001\");\n",
       "    if (el != null) {\n",
       "      el.textContent = \"BokehJS is loading...\";\n",
       "    }\n",
       "    if (root.Bokeh !== undefined) {\n",
       "      if (el != null) {\n",
       "        el.textContent = \"BokehJS \" + root.Bokeh.version + \" successfully loaded.\";\n",
       "      }\n",
       "    } else if (Date.now() < root._bokeh_timeout) {\n",
       "      setTimeout(display_loaded, 100)\n",
       "    }\n",
       "  }\n",
       "\n",
       "\n",
       "  function run_callbacks() {\n",
       "    try {\n",
       "      root._bokeh_onload_callbacks.forEach(function(callback) {\n",
       "        if (callback != null)\n",
       "          callback();\n",
       "      });\n",
       "    } finally {\n",
       "      delete root._bokeh_onload_callbacks\n",
       "    }\n",
       "    console.debug(\"Bokeh: all callbacks have finished\");\n",
       "  }\n",
       "\n",
       "  function load_libs(css_urls, js_urls, callback) {\n",
       "    if (css_urls == null) css_urls = [];\n",
       "    if (js_urls == null) js_urls = [];\n",
       "\n",
       "    root._bokeh_onload_callbacks.push(callback);\n",
       "    if (root._bokeh_is_loading > 0) {\n",
       "      console.debug(\"Bokeh: BokehJS is being loaded, scheduling callback at\", now());\n",
       "      return null;\n",
       "    }\n",
       "    if (js_urls == null || js_urls.length === 0) {\n",
       "      run_callbacks();\n",
       "      return null;\n",
       "    }\n",
       "    console.debug(\"Bokeh: BokehJS not loaded, scheduling load and callback at\", now());\n",
       "    root._bokeh_is_loading = css_urls.length + js_urls.length;\n",
       "\n",
       "    function on_load() {\n",
       "      root._bokeh_is_loading--;\n",
       "      if (root._bokeh_is_loading === 0) {\n",
       "        console.debug(\"Bokeh: all BokehJS libraries/stylesheets loaded\");\n",
       "        run_callbacks()\n",
       "      }\n",
       "    }\n",
       "\n",
       "    function on_error() {\n",
       "      console.error(\"failed to load \" + url);\n",
       "    }\n",
       "\n",
       "    for (var i = 0; i < css_urls.length; i++) {\n",
       "      var url = css_urls[i];\n",
       "      const element = document.createElement(\"link\");\n",
       "      element.onload = on_load;\n",
       "      element.onerror = on_error;\n",
       "      element.rel = \"stylesheet\";\n",
       "      element.type = \"text/css\";\n",
       "      element.href = url;\n",
       "      console.debug(\"Bokeh: injecting link tag for BokehJS stylesheet: \", url);\n",
       "      document.body.appendChild(element);\n",
       "    }\n",
       "\n",
       "    for (var i = 0; i < js_urls.length; i++) {\n",
       "      var url = js_urls[i];\n",
       "      var element = document.createElement('script');\n",
       "      element.onload = on_load;\n",
       "      element.onerror = on_error;\n",
       "      element.async = false;\n",
       "      element.src = url;\n",
       "      console.debug(\"Bokeh: injecting script tag for BokehJS library: \", url);\n",
       "      document.head.appendChild(element);\n",
       "    }\n",
       "  };var element = document.getElementById(\"1001\");\n",
       "  if (element == null) {\n",
       "    console.error(\"Bokeh: ERROR: autoload.js configured with elementid '1001' but no matching script tag was found. \")\n",
       "    return false;\n",
       "  }\n",
       "\n",
       "  function inject_raw_css(css) {\n",
       "    const element = document.createElement(\"style\");\n",
       "    element.appendChild(document.createTextNode(css));\n",
       "    document.body.appendChild(element);\n",
       "  }\n",
       "\n",
       "  var js_urls = [\"https://cdn.pydata.org/bokeh/release/bokeh-1.2.0.min.js\", \"https://cdn.pydata.org/bokeh/release/bokeh-widgets-1.2.0.min.js\", \"https://cdn.pydata.org/bokeh/release/bokeh-tables-1.2.0.min.js\", \"https://cdn.pydata.org/bokeh/release/bokeh-gl-1.2.0.min.js\"];\n",
       "  var css_urls = [\"https://cdn.pydata.org/bokeh/release/bokeh-1.2.0.min.css\", \"https://cdn.pydata.org/bokeh/release/bokeh-widgets-1.2.0.min.css\", \"https://cdn.pydata.org/bokeh/release/bokeh-tables-1.2.0.min.css\"];\n",
       "\n",
       "  var inline_js = [\n",
       "    function(Bokeh) {\n",
       "      Bokeh.set_log_level(\"info\");\n",
       "    },\n",
       "    \n",
       "    function(Bokeh) {\n",
       "      \n",
       "    },\n",
       "    function(Bokeh) {} // ensure no trailing comma for IE\n",
       "  ];\n",
       "\n",
       "  function run_inline_js() {\n",
       "    \n",
       "    if ((root.Bokeh !== undefined) || (force === true)) {\n",
       "      for (var i = 0; i < inline_js.length; i++) {\n",
       "        inline_js[i].call(root, root.Bokeh);\n",
       "      }if (force === true) {\n",
       "        display_loaded();\n",
       "      }} else if (Date.now() < root._bokeh_timeout) {\n",
       "      setTimeout(run_inline_js, 100);\n",
       "    } else if (!root._bokeh_failed_load) {\n",
       "      console.log(\"Bokeh: BokehJS failed to load within specified timeout.\");\n",
       "      root._bokeh_failed_load = true;\n",
       "    } else if (force !== true) {\n",
       "      var cell = $(document.getElementById(\"1001\")).parents('.cell').data().cell;\n",
       "      cell.output_area.append_execute_result(NB_LOAD_WARNING)\n",
       "    }\n",
       "\n",
       "  }\n",
       "\n",
       "  if (root._bokeh_is_loading === 0) {\n",
       "    console.debug(\"Bokeh: BokehJS loaded, going straight to plotting\");\n",
       "    run_inline_js();\n",
       "  } else {\n",
       "    load_libs(css_urls, js_urls, function() {\n",
       "      console.debug(\"Bokeh: BokehJS plotting callback run at\", now());\n",
       "      run_inline_js();\n",
       "    });\n",
       "  }\n",
       "}(window));"
      ],
      "application/vnd.bokehjs_load.v0+json": "\n(function(root) {\n  function now() {\n    return new Date();\n  }\n\n  var force = true;\n\n  if (typeof root._bokeh_onload_callbacks === \"undefined\" || force === true) {\n    root._bokeh_onload_callbacks = [];\n    root._bokeh_is_loading = undefined;\n  }\n\n  \n\n  \n  if (typeof (root._bokeh_timeout) === \"undefined\" || force === true) {\n    root._bokeh_timeout = Date.now() + 5000;\n    root._bokeh_failed_load = false;\n  }\n\n  var NB_LOAD_WARNING = {'data': {'text/html':\n     \"<div style='background-color: #fdd'>\\n\"+\n     \"<p>\\n\"+\n     \"BokehJS does not appear to have successfully loaded. If loading BokehJS from CDN, this \\n\"+\n     \"may be due to a slow or bad network connection. Possible fixes:\\n\"+\n     \"</p>\\n\"+\n     \"<ul>\\n\"+\n     \"<li>re-rerun `output_notebook()` to attempt to load from CDN again, or</li>\\n\"+\n     \"<li>use INLINE resources instead, as so:</li>\\n\"+\n     \"</ul>\\n\"+\n     \"<code>\\n\"+\n     \"from bokeh.resources import INLINE\\n\"+\n     \"output_notebook(resources=INLINE)\\n\"+\n     \"</code>\\n\"+\n     \"</div>\"}};\n\n  function display_loaded() {\n    var el = document.getElementById(\"1001\");\n    if (el != null) {\n      el.textContent = \"BokehJS is loading...\";\n    }\n    if (root.Bokeh !== undefined) {\n      if (el != null) {\n        el.textContent = \"BokehJS \" + root.Bokeh.version + \" successfully loaded.\";\n      }\n    } else if (Date.now() < root._bokeh_timeout) {\n      setTimeout(display_loaded, 100)\n    }\n  }\n\n\n  function run_callbacks() {\n    try {\n      root._bokeh_onload_callbacks.forEach(function(callback) {\n        if (callback != null)\n          callback();\n      });\n    } finally {\n      delete root._bokeh_onload_callbacks\n    }\n    console.debug(\"Bokeh: all callbacks have finished\");\n  }\n\n  function load_libs(css_urls, js_urls, callback) {\n    if (css_urls == null) css_urls = [];\n    if (js_urls == null) js_urls = [];\n\n    root._bokeh_onload_callbacks.push(callback);\n    if (root._bokeh_is_loading > 0) {\n      console.debug(\"Bokeh: BokehJS is being loaded, scheduling callback at\", now());\n      return null;\n    }\n    if (js_urls == null || js_urls.length === 0) {\n      run_callbacks();\n      return null;\n    }\n    console.debug(\"Bokeh: BokehJS not loaded, scheduling load and callback at\", now());\n    root._bokeh_is_loading = css_urls.length + js_urls.length;\n\n    function on_load() {\n      root._bokeh_is_loading--;\n      if (root._bokeh_is_loading === 0) {\n        console.debug(\"Bokeh: all BokehJS libraries/stylesheets loaded\");\n        run_callbacks()\n      }\n    }\n\n    function on_error() {\n      console.error(\"failed to load \" + url);\n    }\n\n    for (var i = 0; i < css_urls.length; i++) {\n      var url = css_urls[i];\n      const element = document.createElement(\"link\");\n      element.onload = on_load;\n      element.onerror = on_error;\n      element.rel = \"stylesheet\";\n      element.type = \"text/css\";\n      element.href = url;\n      console.debug(\"Bokeh: injecting link tag for BokehJS stylesheet: \", url);\n      document.body.appendChild(element);\n    }\n\n    for (var i = 0; i < js_urls.length; i++) {\n      var url = js_urls[i];\n      var element = document.createElement('script');\n      element.onload = on_load;\n      element.onerror = on_error;\n      element.async = false;\n      element.src = url;\n      console.debug(\"Bokeh: injecting script tag for BokehJS library: \", url);\n      document.head.appendChild(element);\n    }\n  };var element = document.getElementById(\"1001\");\n  if (element == null) {\n    console.error(\"Bokeh: ERROR: autoload.js configured with elementid '1001' but no matching script tag was found. \")\n    return false;\n  }\n\n  function inject_raw_css(css) {\n    const element = document.createElement(\"style\");\n    element.appendChild(document.createTextNode(css));\n    document.body.appendChild(element);\n  }\n\n  var js_urls = [\"https://cdn.pydata.org/bokeh/release/bokeh-1.2.0.min.js\", \"https://cdn.pydata.org/bokeh/release/bokeh-widgets-1.2.0.min.js\", \"https://cdn.pydata.org/bokeh/release/bokeh-tables-1.2.0.min.js\", \"https://cdn.pydata.org/bokeh/release/bokeh-gl-1.2.0.min.js\"];\n  var css_urls = [\"https://cdn.pydata.org/bokeh/release/bokeh-1.2.0.min.css\", \"https://cdn.pydata.org/bokeh/release/bokeh-widgets-1.2.0.min.css\", \"https://cdn.pydata.org/bokeh/release/bokeh-tables-1.2.0.min.css\"];\n\n  var inline_js = [\n    function(Bokeh) {\n      Bokeh.set_log_level(\"info\");\n    },\n    \n    function(Bokeh) {\n      \n    },\n    function(Bokeh) {} // ensure no trailing comma for IE\n  ];\n\n  function run_inline_js() {\n    \n    if ((root.Bokeh !== undefined) || (force === true)) {\n      for (var i = 0; i < inline_js.length; i++) {\n        inline_js[i].call(root, root.Bokeh);\n      }if (force === true) {\n        display_loaded();\n      }} else if (Date.now() < root._bokeh_timeout) {\n      setTimeout(run_inline_js, 100);\n    } else if (!root._bokeh_failed_load) {\n      console.log(\"Bokeh: BokehJS failed to load within specified timeout.\");\n      root._bokeh_failed_load = true;\n    } else if (force !== true) {\n      var cell = $(document.getElementById(\"1001\")).parents('.cell').data().cell;\n      cell.output_area.append_execute_result(NB_LOAD_WARNING)\n    }\n\n  }\n\n  if (root._bokeh_is_loading === 0) {\n    console.debug(\"Bokeh: BokehJS loaded, going straight to plotting\");\n    run_inline_js();\n  } else {\n    load_libs(css_urls, js_urls, function() {\n      console.debug(\"Bokeh: BokehJS plotting callback run at\", now());\n      run_inline_js();\n    });\n  }\n}(window));"
     },
     "metadata": {},
     "output_type": "display_data"
    }
   ],
   "source": [
    "from bokeh.io import show, output_notebook\n",
    "from bokeh.layouts import gridplot\n",
    "from bokeh.models.scales import LogScale\n",
    "output_notebook()"
   ]
  },
  {
   "cell_type": "code",
   "execution_count": 3,
   "metadata": {},
   "outputs": [],
   "source": [
    "mt = hl.read_matrix_table('/home/olavur/experiments/2020-11-13_fargen1_exome_analysis/data/mt/variants.mt')"
   ]
  },
  {
   "cell_type": "markdown",
   "metadata": {},
   "source": [
    "Use only chromosome 22, just to make things run faster."
   ]
  },
  {
   "cell_type": "code",
   "execution_count": 4,
   "metadata": {},
   "outputs": [],
   "source": [
    "mt = mt.filter_rows(mt.locus.contig == 'chr22')"
   ]
  },
  {
   "cell_type": "code",
   "execution_count": 5,
   "metadata": {},
   "outputs": [
    {
     "name": "stderr",
     "output_type": "stream",
     "text": [
      "2020-11-25 13:41:10 Hail: INFO: pca: running PCA with 4 components...\n",
      "2020-11-25 13:41:12 Hail: INFO: Coerced sorted dataset\n"
     ]
    }
   ],
   "source": [
    "eigenvalues, scores, loadings = hl.pca(hl.int(hl.is_defined(mt.GT)), k=4, compute_loadings=True)"
   ]
  },
  {
   "cell_type": "code",
   "execution_count": 13,
   "metadata": {},
   "outputs": [],
   "source": [
    "mt = mt.annotate_cols(scores = scores[mt.s].scores)\n",
    "mt = mt.annotate_rows(loadings = loadings[mt.locus, mt.alleles].loadings)"
   ]
  },
  {
   "cell_type": "markdown",
   "metadata": {},
   "source": [
    "**TODO:** I need to capture population structure. Get more samples and get the region of each sample.\n",
    "\n",
    "**NOTE:** I did not use `hwe_normalized_pca` here because I wonder if the potential correlation between $F$ and the principal components disappears."
   ]
  },
  {
   "cell_type": "code",
   "execution_count": 7,
   "metadata": {},
   "outputs": [
    {
     "data": {
      "text/html": [
       "\n",
       "\n",
       "\n",
       "\n",
       "\n",
       "\n",
       "  <div class=\"bk-root\" id=\"685dd712-63db-48cc-b9e2-d8a43378c8ca\" data-root-id=\"1002\"></div>\n"
      ]
     },
     "metadata": {},
     "output_type": "display_data"
    },
    {
     "data": {
      "application/javascript": [
       "(function(root) {\n",
       "  function embed_document(root) {\n",
       "    \n",
       "  var docs_json = {\"95a54c46-9164-44bf-92ce-d76bf5b4fb47\":{\"roots\":{\"references\":[{\"attributes\":{\"below\":[{\"id\":\"1013\",\"type\":\"LinearAxis\"}],\"center\":[{\"id\":\"1017\",\"type\":\"Grid\"},{\"id\":\"1022\",\"type\":\"Grid\"}],\"left\":[{\"id\":\"1018\",\"type\":\"LinearAxis\"}],\"plot_height\":800,\"plot_width\":800,\"renderers\":[{\"id\":\"1042\",\"type\":\"GlyphRenderer\"}],\"title\":{\"id\":\"1003\",\"type\":\"Title\"},\"toolbar\":{\"id\":\"1029\",\"type\":\"Toolbar\"},\"x_range\":{\"id\":\"1005\",\"type\":\"DataRange1d\"},\"x_scale\":{\"id\":\"1009\",\"type\":\"LinearScale\"},\"y_range\":{\"id\":\"1007\",\"type\":\"DataRange1d\"},\"y_scale\":{\"id\":\"1011\",\"type\":\"LinearScale\"}},\"id\":\"1002\",\"subtype\":\"Figure\",\"type\":\"Plot\"},{\"attributes\":{},\"id\":\"1026\",\"type\":\"SaveTool\"},{\"attributes\":{\"callback\":null,\"data\":{\"index\":[0,1,2,3,4,5,6,7,8,9,10],\"x\":{\"__ndarray__\":\"N0SVPhtCY0Cm1jCCuEJjQOJf49MiQ2NAQign4VZDY0B5OZbFVUNjQGL0ZO6KQ2NAn+BRgR9DY0D715iOU0NjQCXT2ZuHQ2NAAK1CFn9BY0AX0hSpu0NjQA==\",\"dtype\":\"float64\",\"shape\":[11]},\"y\":{\"__ndarray__\":\"vIl5N/6ex7/6nxlvntG6v/SDhkfWW7m/GwJL13fAtr/quj7QcAO2v4j1y/lAoLS/t9W3t+zrsL8yddX+3vKtv6qyvuOS2Kq/vmt7x3MDCkBo3iuo2lCovw==\",\"dtype\":\"float64\",\"shape\":[11]}},\"selected\":{\"id\":\"1051\",\"type\":\"Selection\"},\"selection_policy\":{\"id\":\"1050\",\"type\":\"UnionRenderers\"}},\"id\":\"1038\",\"type\":\"ColumnDataSource\"},{\"attributes\":{},\"id\":\"1051\",\"type\":\"Selection\"},{\"attributes\":{\"active_drag\":\"auto\",\"active_inspect\":\"auto\",\"active_multi\":null,\"active_scroll\":\"auto\",\"active_tap\":\"auto\",\"tools\":[{\"id\":\"1023\",\"type\":\"PanTool\"},{\"id\":\"1024\",\"type\":\"WheelZoomTool\"},{\"id\":\"1025\",\"type\":\"BoxZoomTool\"},{\"id\":\"1026\",\"type\":\"SaveTool\"},{\"id\":\"1027\",\"type\":\"ResetTool\"},{\"id\":\"1028\",\"type\":\"HelpTool\"},{\"id\":\"1037\",\"type\":\"HoverTool\"}]},\"id\":\"1029\",\"type\":\"Toolbar\"},{\"attributes\":{\"callback\":null},\"id\":\"1007\",\"type\":\"DataRange1d\"},{\"attributes\":{},\"id\":\"1027\",\"type\":\"ResetTool\"},{\"attributes\":{\"dimension\":1,\"ticker\":{\"id\":\"1019\",\"type\":\"BasicTicker\"}},\"id\":\"1022\",\"type\":\"Grid\"},{\"attributes\":{},\"id\":\"1028\",\"type\":\"HelpTool\"},{\"attributes\":{},\"id\":\"1011\",\"type\":\"LinearScale\"},{\"attributes\":{},\"id\":\"1009\",\"type\":\"LinearScale\"},{\"attributes\":{},\"id\":\"1023\",\"type\":\"PanTool\"},{\"attributes\":{\"fill_alpha\":{\"value\":0.1},\"fill_color\":{\"value\":\"#1f77b4\"},\"line_alpha\":{\"value\":0.1},\"line_color\":{\"value\":\"#1f77b4\"},\"x\":{\"field\":\"x\"},\"y\":{\"field\":\"y\"}},\"id\":\"1041\",\"type\":\"Circle\"},{\"attributes\":{\"callback\":null},\"id\":\"1005\",\"type\":\"DataRange1d\"},{\"attributes\":{},\"id\":\"1045\",\"type\":\"BasicTickFormatter\"},{\"attributes\":{\"source\":{\"id\":\"1038\",\"type\":\"ColumnDataSource\"}},\"id\":\"1043\",\"type\":\"CDSView\"},{\"attributes\":{\"text\":\"PCA\"},\"id\":\"1003\",\"type\":\"Title\"},{\"attributes\":{\"bottom_units\":\"screen\",\"fill_alpha\":{\"value\":0.5},\"fill_color\":{\"value\":\"lightgrey\"},\"left_units\":\"screen\",\"level\":\"overlay\",\"line_alpha\":{\"value\":1.0},\"line_color\":{\"value\":\"black\"},\"line_dash\":[4,4],\"line_width\":{\"value\":2},\"render_mode\":\"css\",\"right_units\":\"screen\",\"top_units\":\"screen\"},\"id\":\"1049\",\"type\":\"BoxAnnotation\"},{\"attributes\":{\"axis_label\":\"PC1\",\"formatter\":{\"id\":\"1045\",\"type\":\"BasicTickFormatter\"},\"ticker\":{\"id\":\"1014\",\"type\":\"BasicTicker\"}},\"id\":\"1013\",\"type\":\"LinearAxis\"},{\"attributes\":{\"fill_color\":{\"value\":\"#1f77b4\"},\"line_color\":{\"value\":\"#1f77b4\"},\"x\":{\"field\":\"x\"},\"y\":{\"field\":\"y\"}},\"id\":\"1040\",\"type\":\"Circle\"},{\"attributes\":{},\"id\":\"1024\",\"type\":\"WheelZoomTool\"},{\"attributes\":{},\"id\":\"1014\",\"type\":\"BasicTicker\"},{\"attributes\":{\"data_source\":{\"id\":\"1038\",\"type\":\"ColumnDataSource\"},\"glyph\":{\"id\":\"1040\",\"type\":\"Circle\"},\"hover_glyph\":null,\"muted_glyph\":null,\"nonselection_glyph\":{\"id\":\"1041\",\"type\":\"Circle\"},\"selection_glyph\":null,\"view\":{\"id\":\"1043\",\"type\":\"CDSView\"}},\"id\":\"1042\",\"type\":\"GlyphRenderer\"},{\"attributes\":{},\"id\":\"1050\",\"type\":\"UnionRenderers\"},{\"attributes\":{\"ticker\":{\"id\":\"1014\",\"type\":\"BasicTicker\"}},\"id\":\"1017\",\"type\":\"Grid\"},{\"attributes\":{\"overlay\":{\"id\":\"1049\",\"type\":\"BoxAnnotation\"}},\"id\":\"1025\",\"type\":\"BoxZoomTool\"},{\"attributes\":{\"axis_label\":\"PC2\",\"formatter\":{\"id\":\"1047\",\"type\":\"BasicTickFormatter\"},\"ticker\":{\"id\":\"1019\",\"type\":\"BasicTicker\"}},\"id\":\"1018\",\"type\":\"LinearAxis\"},{\"attributes\":{\"callback\":null,\"tooltips\":[[\"x\",\"@x\"],[\"y\",\"@y\"]]},\"id\":\"1037\",\"type\":\"HoverTool\"},{\"attributes\":{},\"id\":\"1047\",\"type\":\"BasicTickFormatter\"},{\"attributes\":{},\"id\":\"1019\",\"type\":\"BasicTicker\"}],\"root_ids\":[\"1002\"]},\"title\":\"Bokeh Application\",\"version\":\"1.2.0\"}};\n",
       "  var render_items = [{\"docid\":\"95a54c46-9164-44bf-92ce-d76bf5b4fb47\",\"roots\":{\"1002\":\"685dd712-63db-48cc-b9e2-d8a43378c8ca\"}}];\n",
       "  root.Bokeh.embed.embed_items_notebook(docs_json, render_items);\n",
       "\n",
       "  }\n",
       "  if (root.Bokeh !== undefined) {\n",
       "    embed_document(root);\n",
       "  } else {\n",
       "    var attempts = 0;\n",
       "    var timer = setInterval(function(root) {\n",
       "      if (root.Bokeh !== undefined) {\n",
       "        embed_document(root);\n",
       "        clearInterval(timer);\n",
       "      }\n",
       "      attempts++;\n",
       "      if (attempts > 100) {\n",
       "        console.log(\"Bokeh: ERROR: Unable to run BokehJS code because BokehJS library is missing\");\n",
       "        clearInterval(timer);\n",
       "      }\n",
       "    }, 10, root)\n",
       "  }\n",
       "})(window);"
      ],
      "application/vnd.bokehjs_exec.v0+json": ""
     },
     "metadata": {
      "application/vnd.bokehjs_exec.v0+json": {
       "id": "1002"
      }
     },
     "output_type": "display_data"
    }
   ],
   "source": [
    "p = hl.plot.scatter(mt.scores[0],\n",
    "                    mt.scores[1],\n",
    "                    title='PCA', xlabel='PC1', ylabel='PC2')\n",
    "show(p)"
   ]
  },
  {
   "cell_type": "markdown",
   "metadata": {},
   "source": [
    "## Heterozygosity\n",
    "\n",
    "Perform HWE test, annotating the `MatrixTable` with the expected heterozygosity $2 f_A f_a$."
   ]
  },
  {
   "cell_type": "code",
   "execution_count": 15,
   "metadata": {},
   "outputs": [],
   "source": [
    "# Filter multi-allelic sites out.\n",
    "mt_biallelic = mt.filter_rows(hl.len(mt.alleles) == 2)\n",
    "\n",
    "# Perform HWE test.\n",
    "mt_biallelic = mt_biallelic.annotate_rows(hwe=hl.agg.hardy_weinberg_test(mt_biallelic.GT))"
   ]
  },
  {
   "cell_type": "markdown",
   "metadata": {},
   "source": [
    "Calculate actual heterozygosity $f_{Aa}$."
   ]
  },
  {
   "cell_type": "code",
   "execution_count": 16,
   "metadata": {},
   "outputs": [],
   "source": [
    "# Calculate heterozygosity rate.\n",
    "# Number of heterozygotes.\n",
    "mt_biallelic = mt_biallelic.annotate_rows(n_het=hl.agg.count_where(mt_biallelic.GT.is_het()))\n",
    "# Number of homozygotes.\n",
    "mt_biallelic = mt_biallelic.annotate_rows(n_hom=hl.agg.count_where(~mt_biallelic.GT.is_het()))\n",
    "# Heterozygote frequency.\n",
    "mt_biallelic = mt_biallelic.annotate_rows(het_freq=mt_biallelic.n_het / (mt_biallelic.n_het + mt_biallelic.n_hom))"
   ]
  },
  {
   "cell_type": "markdown",
   "metadata": {},
   "source": [
    "Compute the reduction in heterozygosity $F = \\frac{2f_A f_a - f_{Aa}}{2f_A f_a}$."
   ]
  },
  {
   "cell_type": "code",
   "execution_count": 17,
   "metadata": {},
   "outputs": [],
   "source": [
    "mt_biallelic = mt_biallelic.annotate_rows(\n",
    "    hwe_inbreeding=(mt_biallelic.hwe.het_freq_hwe - mt_biallelic.het_freq) / mt_biallelic.hwe.het_freq_hwe)"
   ]
  },
  {
   "cell_type": "markdown",
   "metadata": {},
   "source": [
    "Subset the rows, just to avoid plotting a million variants."
   ]
  },
  {
   "cell_type": "code",
   "execution_count": 18,
   "metadata": {},
   "outputs": [],
   "source": [
    "mt_small = mt_biallelic.sample_rows(0.05)"
   ]
  },
  {
   "cell_type": "markdown",
   "metadata": {},
   "source": [
    "Plot the reduction in heterozygosity against the first four principal components.\n",
    "\n",
    "Sadly there is nothing interesting going on here. But at the same time, we probably have too few samples to detect population structure, so increasing the sample size might reveal something."
   ]
  },
  {
   "cell_type": "code",
   "execution_count": 19,
   "metadata": {},
   "outputs": [
    {
     "name": "stderr",
     "output_type": "stream",
     "text": [
      "2020-11-25 13:45:17 Hail: INFO: reading 1 of 5 data partitions\n",
      "2020-11-25 13:45:21 Hail: INFO: reading 1 of 5 data partitions\n",
      "2020-11-25 13:45:24 Hail: INFO: reading 1 of 5 data partitions\n",
      "2020-11-25 13:45:27 Hail: INFO: reading 1 of 5 data partitions\n"
     ]
    }
   ],
   "source": [
    "plot_list = []\n",
    "for comp in range(0, 4):\n",
    "    p = hl.plot.scatter(mt_small.hwe_inbreeding, mt_small.loadings[comp],\n",
    "                        xlabel='Inbreeding (F) (log10 scale)', ylabel='PC {comp}'.format(comp=comp+1),\n",
    "                        title='Reduction in heterozygosity as explained by principal components')\n",
    "    p.x_scale = LogScale()\n",
    "    plot_list.append(p)"
   ]
  },
  {
   "cell_type": "code",
   "execution_count": 62,
   "metadata": {},
   "outputs": [
    {
     "data": {
      "text/html": [
       "\n",
       "\n",
       "\n",
       "\n",
       "\n",
       "\n",
       "  <div class=\"bk-root\" id=\"5b0c88e9-8236-4a4f-bd15-de122d9119ac\" data-root-id=\"5818\"></div>\n"
      ]
     },
     "metadata": {},
     "output_type": "display_data"
    },
    {
     "data": {
      "application/javascript": [
       "(function(root) {\n",
       "  function embed_document(root) {\n",
       "    \n",
       "  var docs_json = {\"36a58d78-98e6-43c1-877f-6b7a594aec56\":{\"roots\":{\"references\":[{\"attributes\":{\"children\":[{\"id\":\"5817\",\"type\":\"ToolbarBox\"},{\"id\":\"5815\",\"type\":\"GridBox\"}]},\"id\":\"5818\",\"type\":\"Column\"},{\"attributes\":{\"ticker\":{\"id\":\"5662\",\"type\":\"BasicTicker\"}},\"id\":\"5665\",\"type\":\"Grid\"},{\"attributes\":{\"ticker\":{\"id\":\"5748\",\"type\":\"BasicTicker\"}},\"id\":\"5751\",\"type\":\"Grid\"},{\"attributes\":{\"overlay\":{\"id\":\"5813\",\"type\":\"BoxAnnotation\"}},\"id\":\"5759\",\"type\":\"BoxZoomTool\"},{\"attributes\":{},\"id\":\"5735\",\"type\":\"LogScale\"},{\"attributes\":{\"overlay\":{\"id\":\"5804\",\"type\":\"BoxAnnotation\"}},\"id\":\"5716\",\"type\":\"BoxZoomTool\"},{\"attributes\":{\"text\":\"Reduction in heterozygosity as explained by principal components\"},\"id\":\"5608\",\"type\":\"Title\"},{\"attributes\":{},\"id\":\"5784\",\"type\":\"UnionRenderers\"},{\"attributes\":{},\"id\":\"5702\",\"type\":\"LinearScale\"},{\"attributes\":{\"below\":[{\"id\":\"5618\",\"type\":\"LinearAxis\"}],\"center\":[{\"id\":\"5622\",\"type\":\"Grid\"},{\"id\":\"5627\",\"type\":\"Grid\"}],\"left\":[{\"id\":\"5623\",\"type\":\"LinearAxis\"}],\"plot_height\":400,\"plot_width\":500,\"renderers\":[{\"id\":\"5647\",\"type\":\"GlyphRenderer\"}],\"title\":{\"id\":\"5608\",\"type\":\"Title\"},\"toolbar\":{\"id\":\"5634\",\"type\":\"Toolbar\"},\"toolbar_location\":null,\"x_range\":{\"id\":\"5610\",\"type\":\"DataRange1d\"},\"x_scale\":{\"id\":\"5649\",\"type\":\"LogScale\"},\"y_range\":{\"id\":\"5612\",\"type\":\"DataRange1d\"},\"y_scale\":{\"id\":\"5616\",\"type\":\"LinearScale\"}},\"id\":\"5607\",\"subtype\":\"Figure\",\"type\":\"Plot\"},{\"attributes\":{\"bottom_units\":\"screen\",\"fill_alpha\":{\"value\":0.5},\"fill_color\":{\"value\":\"lightgrey\"},\"left_units\":\"screen\",\"level\":\"overlay\",\"line_alpha\":{\"value\":1.0},\"line_color\":{\"value\":\"black\"},\"line_dash\":[4,4],\"line_width\":{\"value\":2},\"render_mode\":\"css\",\"right_units\":\"screen\",\"top_units\":\"screen\"},\"id\":\"5813\",\"type\":\"BoxAnnotation\"},{\"attributes\":{},\"id\":\"5761\",\"type\":\"ResetTool\"},{\"attributes\":{},\"id\":\"5748\",\"type\":\"BasicTicker\"},{\"attributes\":{},\"id\":\"5675\",\"type\":\"ResetTool\"},{\"attributes\":{\"data_source\":{\"id\":\"5729\",\"type\":\"ColumnDataSource\"},\"glyph\":{\"id\":\"5731\",\"type\":\"Circle\"},\"hover_glyph\":null,\"muted_glyph\":null,\"nonselection_glyph\":{\"id\":\"5732\",\"type\":\"Circle\"},\"selection_glyph\":null,\"view\":{\"id\":\"5734\",\"type\":\"CDSView\"}},\"id\":\"5733\",\"type\":\"GlyphRenderer\"},{\"attributes\":{\"below\":[{\"id\":\"5704\",\"type\":\"LinearAxis\"}],\"center\":[{\"id\":\"5708\",\"type\":\"Grid\"},{\"id\":\"5713\",\"type\":\"Grid\"}],\"left\":[{\"id\":\"5709\",\"type\":\"LinearAxis\"}],\"plot_height\":400,\"plot_width\":500,\"renderers\":[{\"id\":\"5733\",\"type\":\"GlyphRenderer\"}],\"title\":{\"id\":\"5694\",\"type\":\"Title\"},\"toolbar\":{\"id\":\"5720\",\"type\":\"Toolbar\"},\"toolbar_location\":null,\"x_range\":{\"id\":\"5696\",\"type\":\"DataRange1d\"},\"x_scale\":{\"id\":\"5735\",\"type\":\"LogScale\"},\"y_range\":{\"id\":\"5698\",\"type\":\"DataRange1d\"},\"y_scale\":{\"id\":\"5702\",\"type\":\"LinearScale\"}},\"id\":\"5693\",\"subtype\":\"Figure\",\"type\":\"Plot\"},{\"attributes\":{},\"id\":\"5760\",\"type\":\"SaveTool\"},{\"attributes\":{\"text\":\"Reduction in heterozygosity as explained by principal components\"},\"id\":\"5737\",\"type\":\"Title\"},{\"attributes\":{\"axis_label\":\"PC 4\",\"formatter\":{\"id\":\"5807\",\"type\":\"BasicTickFormatter\"},\"ticker\":{\"id\":\"5753\",\"type\":\"BasicTicker\"}},\"id\":\"5752\",\"type\":\"LinearAxis\"},{\"attributes\":{},\"id\":\"5811\",\"type\":\"UnionRenderers\"},{\"attributes\":{},\"id\":\"5762\",\"type\":\"HelpTool\"},{\"attributes\":{\"callback\":null},\"id\":\"5610\",\"type\":\"DataRange1d\"},{\"attributes\":{\"below\":[{\"id\":\"5661\",\"type\":\"LinearAxis\"}],\"center\":[{\"id\":\"5665\",\"type\":\"Grid\"},{\"id\":\"5670\",\"type\":\"Grid\"}],\"left\":[{\"id\":\"5666\",\"type\":\"LinearAxis\"}],\"plot_height\":400,\"plot_width\":500,\"renderers\":[{\"id\":\"5690\",\"type\":\"GlyphRenderer\"}],\"title\":{\"id\":\"5651\",\"type\":\"Title\"},\"toolbar\":{\"id\":\"5677\",\"type\":\"Toolbar\"},\"toolbar_location\":null,\"x_range\":{\"id\":\"5653\",\"type\":\"DataRange1d\"},\"x_scale\":{\"id\":\"5692\",\"type\":\"LogScale\"},\"y_range\":{\"id\":\"5655\",\"type\":\"DataRange1d\"},\"y_scale\":{\"id\":\"5659\",\"type\":\"LinearScale\"}},\"id\":\"5650\",\"subtype\":\"Figure\",\"type\":\"Plot\"},{\"attributes\":{\"dimension\":1,\"ticker\":{\"id\":\"5667\",\"type\":\"BasicTicker\"}},\"id\":\"5670\",\"type\":\"Grid\"},{\"attributes\":{\"fill_alpha\":{\"value\":0.1},\"fill_color\":{\"value\":\"#1f77b4\"},\"line_alpha\":{\"value\":0.1},\"line_color\":{\"value\":\"#1f77b4\"},\"x\":{\"field\":\"x\"},\"y\":{\"field\":\"y\"}},\"id\":\"5732\",\"type\":\"Circle\"},{\"attributes\":{\"callback\":null},\"id\":\"5612\",\"type\":\"DataRange1d\"},{\"attributes\":{},\"id\":\"5791\",\"type\":\"BasicTickFormatter\"},{\"attributes\":{},\"id\":\"5753\",\"type\":\"BasicTicker\"},{\"attributes\":{},\"id\":\"5780\",\"type\":\"BasicTickFormatter\"},{\"attributes\":{\"toolbar\":{\"id\":\"5816\",\"type\":\"ProxyToolbar\"},\"toolbar_location\":\"above\"},\"id\":\"5817\",\"type\":\"ToolbarBox\"},{\"attributes\":{\"active_drag\":\"auto\",\"active_inspect\":\"auto\",\"active_multi\":null,\"active_scroll\":\"auto\",\"active_tap\":\"auto\",\"tools\":[{\"id\":\"5757\",\"type\":\"PanTool\"},{\"id\":\"5758\",\"type\":\"WheelZoomTool\"},{\"id\":\"5759\",\"type\":\"BoxZoomTool\"},{\"id\":\"5760\",\"type\":\"SaveTool\"},{\"id\":\"5761\",\"type\":\"ResetTool\"},{\"id\":\"5762\",\"type\":\"HelpTool\"},{\"id\":\"5771\",\"type\":\"HoverTool\"}]},\"id\":\"5763\",\"type\":\"Toolbar\"},{\"attributes\":{\"source\":{\"id\":\"5729\",\"type\":\"ColumnDataSource\"}},\"id\":\"5734\",\"type\":\"CDSView\"},{\"attributes\":{},\"id\":\"5785\",\"type\":\"Selection\"},{\"attributes\":{\"fill_color\":{\"value\":\"#1f77b4\"},\"line_color\":{\"value\":\"#1f77b4\"},\"x\":{\"field\":\"x\"},\"y\":{\"field\":\"y\"}},\"id\":\"5731\",\"type\":\"Circle\"},{\"attributes\":{},\"id\":\"5807\",\"type\":\"BasicTickFormatter\"},{\"attributes\":{\"children\":[[{\"id\":\"5607\",\"subtype\":\"Figure\",\"type\":\"Plot\"},0,0],[{\"id\":\"5650\",\"subtype\":\"Figure\",\"type\":\"Plot\"},0,1],[{\"id\":\"5693\",\"subtype\":\"Figure\",\"type\":\"Plot\"},1,0],[{\"id\":\"5736\",\"subtype\":\"Figure\",\"type\":\"Plot\"},1,1]]},\"id\":\"5815\",\"type\":\"GridBox\"},{\"attributes\":{},\"id\":\"5778\",\"type\":\"LogScale\"},{\"attributes\":{\"dimension\":1,\"ticker\":{\"id\":\"5753\",\"type\":\"BasicTicker\"}},\"id\":\"5756\",\"type\":\"Grid\"},{\"attributes\":{},\"id\":\"5692\",\"type\":\"LogScale\"},{\"attributes\":{},\"id\":\"5793\",\"type\":\"UnionRenderers\"},{\"attributes\":{\"fill_alpha\":{\"value\":0.1},\"fill_color\":{\"value\":\"#1f77b4\"},\"line_alpha\":{\"value\":0.1},\"line_color\":{\"value\":\"#1f77b4\"},\"x\":{\"field\":\"x\"},\"y\":{\"field\":\"y\"}},\"id\":\"5775\",\"type\":\"Circle\"},{\"attributes\":{\"data_source\":{\"id\":\"5686\",\"type\":\"ColumnDataSource\"},\"glyph\":{\"id\":\"5688\",\"type\":\"Circle\"},\"hover_glyph\":null,\"muted_glyph\":null,\"nonselection_glyph\":{\"id\":\"5689\",\"type\":\"Circle\"},\"selection_glyph\":null,\"view\":{\"id\":\"5691\",\"type\":\"CDSView\"}},\"id\":\"5690\",\"type\":\"GlyphRenderer\"},{\"attributes\":{\"dimension\":1,\"ticker\":{\"id\":\"5710\",\"type\":\"BasicTicker\"}},\"id\":\"5713\",\"type\":\"Grid\"},{\"attributes\":{\"callback\":null,\"data\":{\"index\":[0,1,2,3,4,5,6,7,8,9,10,11,12,13,14,15,16,17,18,19,20,21,22,23,24,25,26,27,28,29,30,31,32,33,34,35,36,37,38,39,40,41,42,43,44,45,46,47,48,49,50,51,52,53,54,55,56,57,58,59,60,61,62,63,64,65,66,67,68,69,70,71,72,73,74,75,76,77,78,79,80,81,82,83,84,85,86,87,88,89,90,91,92,93,94,95,96,97,98,99,100,101,102,103,104,105,106,107,108,109,110,111,112,113,114,115,116,117,118,119,120,121,122,123,124,125,126,127,128,129,130,131,132,133,134,135,136,137,138,139,140,141,142,143,144,145,146,147,148,149,150,151,152,153,154,155,156,157,158,159,160,161,162,163,164,165,166,167,168,169,170,171,172,173,174,175,176,177,178,179,180,181,182,183,184,185,186,187,188,189,190,191,192,193,194,195,196,197,198,199,200,201,202,203,204,205,206,207,208,209,210,211,212,213,214,215,216,217,218,219,220,221,222,223,224,225,226,227,228,229,230,231,232,233,234,235,236,237,238,239,240,241,242,243,244,245,246,247,248,249,250,251,252,253,254,255,256,257,258,259,260,261,262,263,264,265,266,267,268,269,270,271,272,273,274,275,276,277,278,279,280,281,282,283,284,285,286,287,288,289,290,291,292,293,294,295,296,297,298,299,300,301,302,303,304,305,306,307,308,309,310,311,312,313,314,315,316,317,318,319,320,321,322,323,324,325,326,327,328,329,330,331,332,333,334,335,336,337,338,339,340,341,342,343,344,345,346,347,348,349,350,351,352,353,354,355,356,357,358,359,360,361,362,363,364,365,366,367,368,369,370,371,372,373,374,375,376,377,378,379,380,381,382,383,384,385,386,387,388,389,390,391,392,393,394,395,396,397,398,399,400,401,402,403,404,405,406,407,408,409,410,411,412,413,414,415,416,417,418,419,420,421,422,423,424,425,426,427,428,429,430,431,432,433,434,435,436,437,438,439,440,441,442,443,444,445,446,447,448,449,450,451,452,453,454,455,456,457,458,459,460,461,462,463,464,465,466,467,468,469,470,471,472,473,474,475,476,477,478,479,480,481,482,483,484,485,486,487,488,489,490,491,492,493,494,495,496,497,498,499,500,501,502,503,504,505,506,507,508,509,510,511,512,513,514,515,516,517,518,519,520,521,522,523,524,525,526,527,528,529,530,531,532,533,534,535,536,537,538,539,540,541,542,543,544,545,546,547,548,549,550,551,552,553,554,555,556,557,558,559,560,561,562,563,564,565,566,567,568,569,570,571,572,573],\"x\":{\"__ndarray__\":\"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\",\"dtype\":\"float64\",\"shape\":[574]},\"y\":{\"__ndarray__\":\"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\",\"dtype\":\"float64\",\"shape\":[574]}},\"selected\":{\"id\":\"5812\",\"type\":\"Selection\"},\"selection_policy\":{\"id\":\"5811\",\"type\":\"UnionRenderers\"}},\"id\":\"5772\",\"type\":\"ColumnDataSource\"},{\"attributes\":{\"callback\":null},\"id\":\"5741\",\"type\":\"DataRange1d\"},{\"attributes\":{\"below\":[{\"id\":\"5747\",\"type\":\"LinearAxis\"}],\"center\":[{\"id\":\"5751\",\"type\":\"Grid\"},{\"id\":\"5756\",\"type\":\"Grid\"}],\"left\":[{\"id\":\"5752\",\"type\":\"LinearAxis\"}],\"plot_height\":400,\"plot_width\":500,\"renderers\":[{\"id\":\"5776\",\"type\":\"GlyphRenderer\"}],\"title\":{\"id\":\"5737\",\"type\":\"Title\"},\"toolbar\":{\"id\":\"5763\",\"type\":\"Toolbar\"},\"toolbar_location\":null,\"x_range\":{\"id\":\"5739\",\"type\":\"DataRange1d\"},\"x_scale\":{\"id\":\"5778\",\"type\":\"LogScale\"},\"y_range\":{\"id\":\"5741\",\"type\":\"DataRange1d\"},\"y_scale\":{\"id\":\"5745\",\"type\":\"LinearScale\"}},\"id\":\"5736\",\"subtype\":\"Figure\",\"type\":\"Plot\"},{\"attributes\":{\"bottom_units\":\"screen\",\"fill_alpha\":{\"value\":0.5},\"fill_color\":{\"value\":\"lightgrey\"},\"left_units\":\"screen\",\"level\":\"overlay\",\"line_alpha\":{\"value\":1.0},\"line_color\":{\"value\":\"black\"},\"line_dash\":[4,4],\"line_width\":{\"value\":2},\"render_mode\":\"css\",\"right_units\":\"screen\",\"top_units\":\"screen\"},\"id\":\"5786\",\"type\":\"BoxAnnotation\"},{\"attributes\":{},\"id\":\"5717\",\"type\":\"SaveTool\"},{\"attributes\":{\"callback\":null},\"id\":\"5739\",\"type\":\"DataRange1d\"},{\"attributes\":{\"data_source\":{\"id\":\"5772\",\"type\":\"ColumnDataSource\"},\"glyph\":{\"id\":\"5774\",\"type\":\"Circle\"},\"hover_glyph\":null,\"muted_glyph\":null,\"nonselection_glyph\":{\"id\":\"5775\",\"type\":\"Circle\"},\"selection_glyph\":null,\"view\":{\"id\":\"5777\",\"type\":\"CDSView\"}},\"id\":\"5776\",\"type\":\"GlyphRenderer\"},{\"attributes\":{},\"id\":\"5649\",\"type\":\"LogScale\"},{\"attributes\":{\"callback\":null,\"data\":{\"index\":[0,1,2,3,4,5,6,7,8,9,10,11,12,13,14,15,16,17,18,19,20,21,22,23,24,25,26,27,28,29,30,31,32,33,34,35,36,37,38,39,40,41,42,43,44,45,46,47,48,49,50,51,52,53,54,55,56,57,58,59,60,61,62,63,64,65,66,67,68,69,70,71,72,73,74,75,76,77,78,79,80,81,82,83,84,85,86,87,88,89,90,91,92,93,94,95,96,97,98,99,100,101,102,103,104,105,106,107,108,109,110,111,112,113,114,115,116,117,118,119,120,121,122,123,124,125,126,127,128,129,130,131,132,133,134,135,136,137,138,139,140,141,142,143,144,145,146,147,148,149,150,151,152,153,154,155,156,157,158,159,160,161,162,163,164,165,166,167,168,169,170,171,172,173,174,175,176,177,178,179,180,181,182,183,184,185,186,187,188,189,190,191,192,193,194,195,196,197,198,199,200,201,202,203,204,205,206,207,208,209,210,211,212,213,214,215,216,217,218,219,220,221,222,223,224,225,226,227,228,229,230,231,232,233,234,235,236,237,238,239,240,241,242,243,244,245,246,247,248,249,250,251,252,253,254,255,256,257,258,259,260,261,262,263,264,265,266,267,268,269,270,271,272,273,274,275,276,277,278,279,280,281,282,283,284,285,286,287,288,289,290,291,292,293,294,295,296,297,298,299,300,301,302,303,304,305,306,307,308,309,310,311,312,313,314,315,316,317,318,319,320,321,322,323,324,325,326,327,328,329,330,331,332,333,334,335,336,337,338,339,340,341,342,343,344,345,346,347,348,349,350,351,352,353,354,355,356,357,358,359,360,361,362,363,364,365,366,367,368,369,370,371,372,373,374,375,376,377,378,379,380,381,382,383,384,385,386,387,388,389,390,391,392,393,394,395,396,397,398,399,400,401,402,403,404,405,406,407,408,409,410,411,412,413,414,415,416,417,418,419,420,421,422,423,424,425,426,427,428,429,430,431,432,433,434,435,436,437,438,439,440,441,442,443,444,445,446,447,448,449,450,451,452,453,454,455,456,457,458,459,460,461,462,463,464,465,466,467,468,469,470,471,472,473,474,475,476,477,478,479,480,481,482,483,484,485,486,487,488,489,490,491,492,493,494,495,496,497,498,499,500,501,502,503,504,505,506,507,508,509,510,511,512,513,514,515,516,517,518,519,520,521,522,523,524,525,526,527,528,529,530,531,532,533,534,535,536,537,538,539,540,541,542,543,544,545,546,547,548,549,550,551,552,553,554,555,556,557,558,559,560,561,562,563,564,565,566,567,568,569,570,571,572,573,574,575,576,577,578,579,580,581],\"x\":{\"__ndarray__\":\"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\",\"dtype\":\"float64\",\"shape\":[582]},\"y\":{\"__ndarray__\":\"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\",\"dtype\":\"float64\",\"shape\":[582]}},\"selected\":{\"id\":\"5803\",\"type\":\"Selection\"},\"selection_policy\":{\"id\":\"5802\",\"type\":\"UnionRenderers\"}},\"id\":\"5729\",\"type\":\"ColumnDataSource\"},{\"attributes\":{\"callback\":null,\"tooltips\":[[\"x\",\"@x\"],[\"y\",\"@y\"]]},\"id\":\"5728\",\"type\":\"HoverTool\"},{\"attributes\":{\"active_drag\":\"auto\",\"active_inspect\":\"auto\",\"active_multi\":null,\"active_scroll\":\"auto\",\"active_tap\":\"auto\",\"tools\":[{\"id\":\"5671\",\"type\":\"PanTool\"},{\"id\":\"5672\",\"type\":\"WheelZoomTool\"},{\"id\":\"5673\",\"type\":\"BoxZoomTool\"},{\"id\":\"5674\",\"type\":\"SaveTool\"},{\"id\":\"5675\",\"type\":\"ResetTool\"},{\"id\":\"5676\",\"type\":\"HelpTool\"},{\"id\":\"5685\",\"type\":\"HoverTool\"}]},\"id\":\"5677\",\"type\":\"Toolbar\"},{\"attributes\":{},\"id\":\"5794\",\"type\":\"Selection\"},{\"attributes\":{},\"id\":\"5715\",\"type\":\"WheelZoomTool\"},{\"attributes\":{\"bottom_units\":\"screen\",\"fill_alpha\":{\"value\":0.5},\"fill_color\":{\"value\":\"lightgrey\"},\"left_units\":\"screen\",\"level\":\"overlay\",\"line_alpha\":{\"value\":1.0},\"line_color\":{\"value\":\"black\"},\"line_dash\":[4,4],\"line_width\":{\"value\":2},\"render_mode\":\"css\",\"right_units\":\"screen\",\"top_units\":\"screen\"},\"id\":\"5795\",\"type\":\"BoxAnnotation\"},{\"attributes\":{\"fill_color\":{\"value\":\"#1f77b4\"},\"line_color\":{\"value\":\"#1f77b4\"},\"x\":{\"field\":\"x\"},\"y\":{\"field\":\"y\"}},\"id\":\"5688\",\"type\":\"Circle\"},{\"attributes\":{},\"id\":\"5812\",\"type\":\"Selection\"},{\"attributes\":{},\"id\":\"5782\",\"type\":\"BasicTickFormatter\"},{\"attributes\":{\"callback\":null,\"tooltips\":[[\"x\",\"@x\"],[\"y\",\"@y\"]]},\"id\":\"5771\",\"type\":\"HoverTool\"},{\"attributes\":{\"axis_label\":\"PC 2\",\"formatter\":{\"id\":\"5789\",\"type\":\"BasicTickFormatter\"},\"ticker\":{\"id\":\"5667\",\"type\":\"BasicTicker\"}},\"id\":\"5666\",\"type\":\"LinearAxis\"},{\"attributes\":{},\"id\":\"5745\",\"type\":\"LinearScale\"},{\"attributes\":{\"source\":{\"id\":\"5686\",\"type\":\"ColumnDataSource\"}},\"id\":\"5691\",\"type\":\"CDSView\"},{\"attributes\":{},\"id\":\"5800\",\"type\":\"BasicTickFormatter\"},{\"attributes\":{},\"id\":\"5718\",\"type\":\"ResetTool\"},{\"attributes\":{},\"id\":\"5674\",\"type\":\"SaveTool\"},{\"attributes\":{},\"id\":\"5714\",\"type\":\"PanTool\"},{\"attributes\":{},\"id\":\"5798\",\"type\":\"BasicTickFormatter\"},{\"attributes\":{},\"id\":\"5671\",\"type\":\"PanTool\"},{\"attributes\":{\"fill_color\":{\"value\":\"#1f77b4\"},\"line_color\":{\"value\":\"#1f77b4\"},\"x\":{\"field\":\"x\"},\"y\":{\"field\":\"y\"}},\"id\":\"5774\",\"type\":\"Circle\"},{\"attributes\":{},\"id\":\"5719\",\"type\":\"HelpTool\"},{\"attributes\":{\"axis_label\":\"PC 3\",\"formatter\":{\"id\":\"5798\",\"type\":\"BasicTickFormatter\"},\"ticker\":{\"id\":\"5710\",\"type\":\"BasicTicker\"}},\"id\":\"5709\",\"type\":\"LinearAxis\"},{\"attributes\":{},\"id\":\"5667\",\"type\":\"BasicTicker\"},{\"attributes\":{},\"id\":\"5802\",\"type\":\"UnionRenderers\"},{\"attributes\":{\"fill_alpha\":{\"value\":0.1},\"fill_color\":{\"value\":\"#1f77b4\"},\"line_alpha\":{\"value\":0.1},\"line_color\":{\"value\":\"#1f77b4\"},\"x\":{\"field\":\"x\"},\"y\":{\"field\":\"y\"}},\"id\":\"5689\",\"type\":\"Circle\"},{\"attributes\":{\"overlay\":{\"id\":\"5795\",\"type\":\"BoxAnnotation\"}},\"id\":\"5673\",\"type\":\"BoxZoomTool\"},{\"attributes\":{\"active_drag\":\"auto\",\"active_inspect\":\"auto\",\"active_multi\":null,\"active_scroll\":\"auto\",\"active_tap\":\"auto\",\"tools\":[{\"id\":\"5714\",\"type\":\"PanTool\"},{\"id\":\"5715\",\"type\":\"WheelZoomTool\"},{\"id\":\"5716\",\"type\":\"BoxZoomTool\"},{\"id\":\"5717\",\"type\":\"SaveTool\"},{\"id\":\"5718\",\"type\":\"ResetTool\"},{\"id\":\"5719\",\"type\":\"HelpTool\"},{\"id\":\"5728\",\"type\":\"HoverTool\"}]},\"id\":\"5720\",\"type\":\"Toolbar\"},{\"attributes\":{\"axis_label\":\"Inbreeding (F) (log10 scale)\",\"formatter\":{\"id\":\"5809\",\"type\":\"BasicTickFormatter\"},\"ticker\":{\"id\":\"5748\",\"type\":\"BasicTicker\"}},\"id\":\"5747\",\"type\":\"LinearAxis\"},{\"attributes\":{\"callback\":null,\"tooltips\":[[\"x\",\"@x\"],[\"y\",\"@y\"]]},\"id\":\"5685\",\"type\":\"HoverTool\"},{\"attributes\":{},\"id\":\"5757\",\"type\":\"PanTool\"},{\"attributes\":{},\"id\":\"5710\",\"type\":\"BasicTicker\"},{\"attributes\":{},\"id\":\"5803\",\"type\":\"Selection\"},{\"attributes\":{\"ticker\":{\"id\":\"5705\",\"type\":\"BasicTicker\"}},\"id\":\"5708\",\"type\":\"Grid\"},{\"attributes\":{\"bottom_units\":\"screen\",\"fill_alpha\":{\"value\":0.5},\"fill_color\":{\"value\":\"lightgrey\"},\"left_units\":\"screen\",\"level\":\"overlay\",\"line_alpha\":{\"value\":1.0},\"line_color\":{\"value\":\"black\"},\"line_dash\":[4,4],\"line_width\":{\"value\":2},\"render_mode\":\"css\",\"right_units\":\"screen\",\"top_units\":\"screen\"},\"id\":\"5804\",\"type\":\"BoxAnnotation\"},{\"attributes\":{\"callback\":null,\"data\":{\"index\":[0,1,2,3,4,5,6,7,8,9,10,11,12,13,14,15,16,17,18,19,20,21,22,23,24,25,26,27,28,29,30,31,32,33,34,35,36,37,38,39,40,41,42,43,44,45,46,47,48,49,50,51,52,53,54,55,56,57,58,59,60,61,62,63,64,65,66,67,68,69,70,71,72,73,74,75,76,77,78,79,80,81,82,83,84,85,86,87,88,89,90,91,92,93,94,95,96,97,98,99,100,101,102,103,104,105,106,107,108,109,110,111,112,113,114,115,116,117,118,119,120,121,122,123,124,125,126,127,128,129,130,131,132,133,134,135,136,137,138,139,140,141,142,143,144,145,146,147,148,149,150,151,152,153,154,155,156,157,158,159,160,161,162,163,164,165,166,167,168,169,170,171,172,173,174,175,176,177,178,179,180,181,182,183,184,185,186,187,188,189,190,191,192,193,194,195,196,197,198,199,200,201,202,203,204,205,206,207,208,209,210,211,212,213,214,215,216,217,218,219,220,221,222,223,224,225,226,227,228,229,230,231,232,233,234,235,236,237,238,239,240,241,242,243,244,245,246,247,248,249,250,251,252,253,254,255,256,257,258,259,260,261,262,263,264,265,266,267,268,269,270,271,272,273,274,275,276,277,278,279,280,281,282,283,284,285,286,287,288,289,290,291,292,293,294,295,296,297,298,299,300,301,302,303,304,305,306,307,308,309,310,311,312,313,314,315,316,317,318,319,320,321,322,323,324,325,326,327,328,329,330,331,332,333,334,335,336,337,338,339,340,341,342,343,344,345,346,347,348,349,350,351,352,353,354,355,356,357,358,359,360,361,362,363,364,365,366,367,368,369,370,371,372,373,374,375,376,377,378,379,380,381,382,383,384,385,386,387,388,389,390,391,392,393,394,395,396,397,398,399,400,401,402,403,404,405,406,407,408,409,410,411,412,413,414,415,416,417,418,419,420,421,422,423,424,425,426,427,428,429,430,431,432,433,434,435,436,437,438,439,440,441,442,443,444,445,446,447,448,449,450,451,452,453,454,455,456,457,458,459,460,461,462,463,464,465,466,467,468,469,470,471,472,473,474,475,476,477,478,479,480,481,482,483,484,485,486,487,488,489,490,491,492,493,494,495,496,497,498,499,500,501,502,503,504,505,506,507,508,509,510,511,512,513,514,515,516,517,518,519,520,521,522,523,524,525,526,527,528,529,530,531,532,533,534,535,536,537,538,539,540,541,542,543,544,545],\"x\":{\"__ndarray__\":\"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\",\"dtype\":\"float64\",\"shape\":[546]},\"y\":{\"__ndarray__\":\"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\",\"dtype\":\"float64\",\"shape\":[546]}},\"selected\":{\"id\":\"5794\",\"type\":\"Selection\"},\"selection_policy\":{\"id\":\"5793\",\"type\":\"UnionRenderers\"}},\"id\":\"5686\",\"type\":\"ColumnDataSource\"},{\"attributes\":{},\"id\":\"5672\",\"type\":\"WheelZoomTool\"},{\"attributes\":{\"source\":{\"id\":\"5772\",\"type\":\"ColumnDataSource\"}},\"id\":\"5777\",\"type\":\"CDSView\"},{\"attributes\":{},\"id\":\"5676\",\"type\":\"HelpTool\"},{\"attributes\":{},\"id\":\"5758\",\"type\":\"WheelZoomTool\"},{\"attributes\":{},\"id\":\"5789\",\"type\":\"BasicTickFormatter\"},{\"attributes\":{},\"id\":\"5809\",\"type\":\"BasicTickFormatter\"},{\"attributes\":{\"axis_label\":\"Inbreeding (F) (log10 scale)\",\"formatter\":{\"id\":\"5782\",\"type\":\"BasicTickFormatter\"},\"ticker\":{\"id\":\"5619\",\"type\":\"BasicTicker\"}},\"id\":\"5618\",\"type\":\"LinearAxis\"},{\"attributes\":{\"axis_label\":\"Inbreeding (F) (log10 scale)\",\"formatter\":{\"id\":\"5791\",\"type\":\"BasicTickFormatter\"},\"ticker\":{\"id\":\"5662\",\"type\":\"BasicTicker\"}},\"id\":\"5661\",\"type\":\"LinearAxis\"},{\"attributes\":{\"text\":\"Reduction in heterozygosity as explained by principal components\"},\"id\":\"5694\",\"type\":\"Title\"},{\"attributes\":{\"callback\":null},\"id\":\"5653\",\"type\":\"DataRange1d\"},{\"attributes\":{\"tools\":[{\"id\":\"5628\",\"type\":\"PanTool\"},{\"id\":\"5629\",\"type\":\"WheelZoomTool\"},{\"id\":\"5630\",\"type\":\"BoxZoomTool\"},{\"id\":\"5631\",\"type\":\"SaveTool\"},{\"id\":\"5632\",\"type\":\"ResetTool\"},{\"id\":\"5633\",\"type\":\"HelpTool\"},{\"id\":\"5642\",\"type\":\"HoverTool\"},{\"id\":\"5671\",\"type\":\"PanTool\"},{\"id\":\"5672\",\"type\":\"WheelZoomTool\"},{\"id\":\"5673\",\"type\":\"BoxZoomTool\"},{\"id\":\"5674\",\"type\":\"SaveTool\"},{\"id\":\"5675\",\"type\":\"ResetTool\"},{\"id\":\"5676\",\"type\":\"HelpTool\"},{\"id\":\"5685\",\"type\":\"HoverTool\"},{\"id\":\"5714\",\"type\":\"PanTool\"},{\"id\":\"5715\",\"type\":\"WheelZoomTool\"},{\"id\":\"5716\",\"type\":\"BoxZoomTool\"},{\"id\":\"5717\",\"type\":\"SaveTool\"},{\"id\":\"5718\",\"type\":\"ResetTool\"},{\"id\":\"5719\",\"type\":\"HelpTool\"},{\"id\":\"5728\",\"type\":\"HoverTool\"},{\"id\":\"5757\",\"type\":\"PanTool\"},{\"id\":\"5758\",\"type\":\"WheelZoomTool\"},{\"id\":\"5759\",\"type\":\"BoxZoomTool\"},{\"id\":\"5760\",\"type\":\"SaveTool\"},{\"id\":\"5761\",\"type\":\"ResetTool\"},{\"id\":\"5762\",\"type\":\"HelpTool\"},{\"id\":\"5771\",\"type\":\"HoverTool\"}]},\"id\":\"5816\",\"type\":\"ProxyToolbar\"},{\"attributes\":{\"callback\":null},\"id\":\"5655\",\"type\":\"DataRange1d\"},{\"attributes\":{},\"id\":\"5616\",\"type\":\"LinearScale\"},{\"attributes\":{},\"id\":\"5632\",\"type\":\"ResetTool\"},{\"attributes\":{\"dimension\":1,\"ticker\":{\"id\":\"5624\",\"type\":\"BasicTicker\"}},\"id\":\"5627\",\"type\":\"Grid\"},{\"attributes\":{\"callback\":null},\"id\":\"5696\",\"type\":\"DataRange1d\"},{\"attributes\":{\"text\":\"Reduction in heterozygosity as explained by principal components\"},\"id\":\"5651\",\"type\":\"Title\"},{\"attributes\":{},\"id\":\"5659\",\"type\":\"LinearScale\"},{\"attributes\":{},\"id\":\"5628\",\"type\":\"PanTool\"},{\"attributes\":{},\"id\":\"5624\",\"type\":\"BasicTicker\"},{\"attributes\":{\"active_drag\":\"auto\",\"active_inspect\":\"auto\",\"active_multi\":null,\"active_scroll\":\"auto\",\"active_tap\":\"auto\",\"tools\":[{\"id\":\"5628\",\"type\":\"PanTool\"},{\"id\":\"5629\",\"type\":\"WheelZoomTool\"},{\"id\":\"5630\",\"type\":\"BoxZoomTool\"},{\"id\":\"5631\",\"type\":\"SaveTool\"},{\"id\":\"5632\",\"type\":\"ResetTool\"},{\"id\":\"5633\",\"type\":\"HelpTool\"},{\"id\":\"5642\",\"type\":\"HoverTool\"}]},\"id\":\"5634\",\"type\":\"Toolbar\"},{\"attributes\":{},\"id\":\"5619\",\"type\":\"BasicTicker\"},{\"attributes\":{\"axis_label\":\"PC 1\",\"formatter\":{\"id\":\"5780\",\"type\":\"BasicTickFormatter\"},\"ticker\":{\"id\":\"5624\",\"type\":\"BasicTicker\"}},\"id\":\"5623\",\"type\":\"LinearAxis\"},{\"attributes\":{},\"id\":\"5629\",\"type\":\"WheelZoomTool\"},{\"attributes\":{\"callback\":null},\"id\":\"5698\",\"type\":\"DataRange1d\"},{\"attributes\":{\"overlay\":{\"id\":\"5786\",\"type\":\"BoxAnnotation\"}},\"id\":\"5630\",\"type\":\"BoxZoomTool\"},{\"attributes\":{},\"id\":\"5705\",\"type\":\"BasicTicker\"},{\"attributes\":{\"ticker\":{\"id\":\"5619\",\"type\":\"BasicTicker\"}},\"id\":\"5622\",\"type\":\"Grid\"},{\"attributes\":{\"callback\":null,\"data\":{\"index\":[0,1,2,3,4,5,6,7,8,9,10,11,12,13,14,15,16,17,18,19,20,21,22,23,24,25,26,27,28,29,30,31,32,33,34,35,36,37,38,39,40,41,42,43,44,45,46,47,48,49,50,51,52,53,54,55,56,57,58,59,60,61,62,63,64,65,66,67,68,69,70,71,72,73,74,75,76,77,78,79,80,81,82,83,84,85,86,87,88,89,90,91,92,93,94,95,96,97,98,99,100,101,102,103,104,105,106,107,108,109,110,111,112,113,114,115,116,117,118,119,120,121,122,123,124,125,126,127,128,129,130,131,132,133,134,135,136,137,138,139,140,141,142,143,144,145,146,147,148,149,150,151,152,153,154,155,156,157,158,159,160,161,162,163,164,165,166,167,168,169,170,171,172,173,174,175,176,177,178,179,180,181,182,183,184,185,186,187,188,189,190,191,192,193,194,195,196,197,198,199,200,201,202,203,204,205,206,207,208,209,210,211,212,213,214,215,216,217,218,219,220,221,222,223,224,225,226,227,228,229,230,231,232,233,234,235,236,237,238,239,240,241,242,243,244,245,246,247,248,249,250,251,252,253,254,255,256,257,258,259,260,261,262,263,264,265,266,267,268,269,270,271,272,273,274,275,276,277,278,279,280,281,282,283,284,285,286,287,288,289,290,291,292,293,294,295,296,297,298,299,300,301,302,303,304,305,306,307,308,309,310,311,312,313,314,315,316,317,318,319,320,321,322,323,324,325,326,327,328,329,330,331,332,333,334,335,336,337,338,339,340,341,342,343,344,345,346,347,348,349,350,351,352,353,354,355,356,357,358,359,360,361,362,363,364,365,366,367,368,369,370,371,372,373,374,375,376,377,378,379,380,381,382,383,384,385,386,387,388,389,390,391,392,393,394,395,396,397,398,399,400,401,402,403,404,405,406,407,408,409,410,411,412,413,414,415,416,417,418,419,420,421,422,423,424,425,426,427,428,429,430,431,432,433,434,435,436,437,438,439,440,441,442,443,444,445,446,447,448,449,450,451,452,453,454,455,456,457,458,459,460,461,462,463,464,465,466,467,468,469,470,471,472,473,474,475,476,477,478,479,480,481,482,483,484,485,486,487,488,489,490,491,492,493,494,495,496,497,498,499,500,501,502,503,504,505,506,507,508,509,510,511,512,513,514,515,516,517,518,519,520,521,522,523,524,525,526,527,528,529,530,531,532,533,534,535,536,537,538,539,540,541,542,543,544,545,546,547,548,549,550,551,552],\"x\":{\"__ndarray__\":\"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\",\"dtype\":\"float64\",\"shape\":[553]},\"y\":{\"__ndarray__\":\"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\",\"dtype\":\"float64\",\"shape\":[553]}},\"selected\":{\"id\":\"5785\",\"type\":\"Selection\"},\"selection_policy\":{\"id\":\"5784\",\"type\":\"UnionRenderers\"}},\"id\":\"5643\",\"type\":\"ColumnDataSource\"},{\"attributes\":{},\"id\":\"5631\",\"type\":\"SaveTool\"},{\"attributes\":{\"callback\":null,\"tooltips\":[[\"x\",\"@x\"],[\"y\",\"@y\"]]},\"id\":\"5642\",\"type\":\"HoverTool\"},{\"attributes\":{\"axis_label\":\"Inbreeding (F) (log10 scale)\",\"formatter\":{\"id\":\"5800\",\"type\":\"BasicTickFormatter\"},\"ticker\":{\"id\":\"5705\",\"type\":\"BasicTicker\"}},\"id\":\"5704\",\"type\":\"LinearAxis\"},{\"attributes\":{},\"id\":\"5633\",\"type\":\"HelpTool\"},{\"attributes\":{\"data_source\":{\"id\":\"5643\",\"type\":\"ColumnDataSource\"},\"glyph\":{\"id\":\"5645\",\"type\":\"Circle\"},\"hover_glyph\":null,\"muted_glyph\":null,\"nonselection_glyph\":{\"id\":\"5646\",\"type\":\"Circle\"},\"selection_glyph\":null,\"view\":{\"id\":\"5648\",\"type\":\"CDSView\"}},\"id\":\"5647\",\"type\":\"GlyphRenderer\"},{\"attributes\":{\"fill_color\":{\"value\":\"#1f77b4\"},\"line_color\":{\"value\":\"#1f77b4\"},\"x\":{\"field\":\"x\"},\"y\":{\"field\":\"y\"}},\"id\":\"5645\",\"type\":\"Circle\"},{\"attributes\":{\"source\":{\"id\":\"5643\",\"type\":\"ColumnDataSource\"}},\"id\":\"5648\",\"type\":\"CDSView\"},{\"attributes\":{},\"id\":\"5662\",\"type\":\"BasicTicker\"},{\"attributes\":{\"fill_alpha\":{\"value\":0.1},\"fill_color\":{\"value\":\"#1f77b4\"},\"line_alpha\":{\"value\":0.1},\"line_color\":{\"value\":\"#1f77b4\"},\"x\":{\"field\":\"x\"},\"y\":{\"field\":\"y\"}},\"id\":\"5646\",\"type\":\"Circle\"}],\"root_ids\":[\"5818\"]},\"title\":\"Bokeh Application\",\"version\":\"1.2.0\"}};\n",
       "  var render_items = [{\"docid\":\"36a58d78-98e6-43c1-877f-6b7a594aec56\",\"roots\":{\"5818\":\"5b0c88e9-8236-4a4f-bd15-de122d9119ac\"}}];\n",
       "  root.Bokeh.embed.embed_items_notebook(docs_json, render_items);\n",
       "\n",
       "  }\n",
       "  if (root.Bokeh !== undefined) {\n",
       "    embed_document(root);\n",
       "  } else {\n",
       "    var attempts = 0;\n",
       "    var timer = setInterval(function(root) {\n",
       "      if (root.Bokeh !== undefined) {\n",
       "        embed_document(root);\n",
       "        clearInterval(timer);\n",
       "      }\n",
       "      attempts++;\n",
       "      if (attempts > 100) {\n",
       "        console.log(\"Bokeh: ERROR: Unable to run BokehJS code because BokehJS library is missing\");\n",
       "        clearInterval(timer);\n",
       "      }\n",
       "    }, 10, root)\n",
       "  }\n",
       "})(window);"
      ],
      "application/vnd.bokehjs_exec.v0+json": ""
     },
     "metadata": {
      "application/vnd.bokehjs_exec.v0+json": {
       "id": "5818"
      }
     },
     "output_type": "display_data"
    }
   ],
   "source": [
    "show(gridplot(plot_list, ncols=2, plot_width=500, plot_height=400))"
   ]
  },
  {
   "cell_type": "code",
   "execution_count": null,
   "metadata": {},
   "outputs": [],
   "source": []
  }
 ],
 "metadata": {
  "kernelspec": {
   "display_name": "Python 3",
   "language": "python",
   "name": "python3"
  },
  "language_info": {
   "codemirror_mode": {
    "name": "ipython",
    "version": 3
   },
   "file_extension": ".py",
   "mimetype": "text/x-python",
   "name": "python",
   "nbconvert_exporter": "python",
   "pygments_lexer": "ipython3",
   "version": "3.6.11"
  }
 },
 "nbformat": 4,
 "nbformat_minor": 4
}
