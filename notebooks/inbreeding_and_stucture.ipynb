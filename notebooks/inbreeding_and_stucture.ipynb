{
 "cells": [
  {
   "cell_type": "markdown",
   "metadata": {},
   "source": [
    "# Inbreeding and structure\n",
    "\n",
    "Can population structure explain inbreeding?"
   ]
  },
  {
   "cell_type": "code",
   "execution_count": 1,
   "metadata": {},
   "outputs": [
    {
     "name": "stderr",
     "output_type": "stream",
     "text": [
      "Running on Apache Spark version 2.4.6\n",
      "SparkUI available at http://hms-beagle-5466c684ff-2l8nm:4043\n",
      "Welcome to\n",
      "     __  __     <>__\n",
      "    / /_/ /__  __/ /\n",
      "   / __  / _ `/ / /\n",
      "  /_/ /_/\\_,_/_/_/   version 0.2.58-3f304aae6ce2\n",
      "LOGGING: writing to /home/olavur/experiments/2020-11-13_fargen1_exome_analysis/fargen-1-exome/notebooks/hail-20201203-0908-0.2.58-3f304aae6ce2.log\n"
     ]
    }
   ],
   "source": [
    "import hail as hl\n",
    "hl.init()"
   ]
  },
  {
   "cell_type": "code",
   "execution_count": 2,
   "metadata": {},
   "outputs": [
    {
     "data": {
      "text/html": [
       "\n",
       "    <div class=\"bk-root\">\n",
       "        <a href=\"https://bokeh.pydata.org\" target=\"_blank\" class=\"bk-logo bk-logo-small bk-logo-notebook\"></a>\n",
       "        <span id=\"1001\">Loading BokehJS ...</span>\n",
       "    </div>"
      ]
     },
     "metadata": {},
     "output_type": "display_data"
    },
    {
     "data": {
      "application/javascript": [
       "\n",
       "(function(root) {\n",
       "  function now() {\n",
       "    return new Date();\n",
       "  }\n",
       "\n",
       "  var force = true;\n",
       "\n",
       "  if (typeof root._bokeh_onload_callbacks === \"undefined\" || force === true) {\n",
       "    root._bokeh_onload_callbacks = [];\n",
       "    root._bokeh_is_loading = undefined;\n",
       "  }\n",
       "\n",
       "  var JS_MIME_TYPE = 'application/javascript';\n",
       "  var HTML_MIME_TYPE = 'text/html';\n",
       "  var EXEC_MIME_TYPE = 'application/vnd.bokehjs_exec.v0+json';\n",
       "  var CLASS_NAME = 'output_bokeh rendered_html';\n",
       "\n",
       "  /**\n",
       "   * Render data to the DOM node\n",
       "   */\n",
       "  function render(props, node) {\n",
       "    var script = document.createElement(\"script\");\n",
       "    node.appendChild(script);\n",
       "  }\n",
       "\n",
       "  /**\n",
       "   * Handle when an output is cleared or removed\n",
       "   */\n",
       "  function handleClearOutput(event, handle) {\n",
       "    var cell = handle.cell;\n",
       "\n",
       "    var id = cell.output_area._bokeh_element_id;\n",
       "    var server_id = cell.output_area._bokeh_server_id;\n",
       "    // Clean up Bokeh references\n",
       "    if (id != null && id in Bokeh.index) {\n",
       "      Bokeh.index[id].model.document.clear();\n",
       "      delete Bokeh.index[id];\n",
       "    }\n",
       "\n",
       "    if (server_id !== undefined) {\n",
       "      // Clean up Bokeh references\n",
       "      var cmd = \"from bokeh.io.state import curstate; print(curstate().uuid_to_server['\" + server_id + \"'].get_sessions()[0].document.roots[0]._id)\";\n",
       "      cell.notebook.kernel.execute(cmd, {\n",
       "        iopub: {\n",
       "          output: function(msg) {\n",
       "            var id = msg.content.text.trim();\n",
       "            if (id in Bokeh.index) {\n",
       "              Bokeh.index[id].model.document.clear();\n",
       "              delete Bokeh.index[id];\n",
       "            }\n",
       "          }\n",
       "        }\n",
       "      });\n",
       "      // Destroy server and session\n",
       "      var cmd = \"import bokeh.io.notebook as ion; ion.destroy_server('\" + server_id + \"')\";\n",
       "      cell.notebook.kernel.execute(cmd);\n",
       "    }\n",
       "  }\n",
       "\n",
       "  /**\n",
       "   * Handle when a new output is added\n",
       "   */\n",
       "  function handleAddOutput(event, handle) {\n",
       "    var output_area = handle.output_area;\n",
       "    var output = handle.output;\n",
       "\n",
       "    // limit handleAddOutput to display_data with EXEC_MIME_TYPE content only\n",
       "    if ((output.output_type != \"display_data\") || (!output.data.hasOwnProperty(EXEC_MIME_TYPE))) {\n",
       "      return\n",
       "    }\n",
       "\n",
       "    var toinsert = output_area.element.find(\".\" + CLASS_NAME.split(' ')[0]);\n",
       "\n",
       "    if (output.metadata[EXEC_MIME_TYPE][\"id\"] !== undefined) {\n",
       "      toinsert[toinsert.length - 1].firstChild.textContent = output.data[JS_MIME_TYPE];\n",
       "      // store reference to embed id on output_area\n",
       "      output_area._bokeh_element_id = output.metadata[EXEC_MIME_TYPE][\"id\"];\n",
       "    }\n",
       "    if (output.metadata[EXEC_MIME_TYPE][\"server_id\"] !== undefined) {\n",
       "      var bk_div = document.createElement(\"div\");\n",
       "      bk_div.innerHTML = output.data[HTML_MIME_TYPE];\n",
       "      var script_attrs = bk_div.children[0].attributes;\n",
       "      for (var i = 0; i < script_attrs.length; i++) {\n",
       "        toinsert[toinsert.length - 1].firstChild.setAttribute(script_attrs[i].name, script_attrs[i].value);\n",
       "      }\n",
       "      // store reference to server id on output_area\n",
       "      output_area._bokeh_server_id = output.metadata[EXEC_MIME_TYPE][\"server_id\"];\n",
       "    }\n",
       "  }\n",
       "\n",
       "  function register_renderer(events, OutputArea) {\n",
       "\n",
       "    function append_mime(data, metadata, element) {\n",
       "      // create a DOM node to render to\n",
       "      var toinsert = this.create_output_subarea(\n",
       "        metadata,\n",
       "        CLASS_NAME,\n",
       "        EXEC_MIME_TYPE\n",
       "      );\n",
       "      this.keyboard_manager.register_events(toinsert);\n",
       "      // Render to node\n",
       "      var props = {data: data, metadata: metadata[EXEC_MIME_TYPE]};\n",
       "      render(props, toinsert[toinsert.length - 1]);\n",
       "      element.append(toinsert);\n",
       "      return toinsert\n",
       "    }\n",
       "\n",
       "    /* Handle when an output is cleared or removed */\n",
       "    events.on('clear_output.CodeCell', handleClearOutput);\n",
       "    events.on('delete.Cell', handleClearOutput);\n",
       "\n",
       "    /* Handle when a new output is added */\n",
       "    events.on('output_added.OutputArea', handleAddOutput);\n",
       "\n",
       "    /**\n",
       "     * Register the mime type and append_mime function with output_area\n",
       "     */\n",
       "    OutputArea.prototype.register_mime_type(EXEC_MIME_TYPE, append_mime, {\n",
       "      /* Is output safe? */\n",
       "      safe: true,\n",
       "      /* Index of renderer in `output_area.display_order` */\n",
       "      index: 0\n",
       "    });\n",
       "  }\n",
       "\n",
       "  // register the mime type if in Jupyter Notebook environment and previously unregistered\n",
       "  if (root.Jupyter !== undefined) {\n",
       "    var events = require('base/js/events');\n",
       "    var OutputArea = require('notebook/js/outputarea').OutputArea;\n",
       "\n",
       "    if (OutputArea.prototype.mime_types().indexOf(EXEC_MIME_TYPE) == -1) {\n",
       "      register_renderer(events, OutputArea);\n",
       "    }\n",
       "  }\n",
       "\n",
       "  \n",
       "  if (typeof (root._bokeh_timeout) === \"undefined\" || force === true) {\n",
       "    root._bokeh_timeout = Date.now() + 5000;\n",
       "    root._bokeh_failed_load = false;\n",
       "  }\n",
       "\n",
       "  var NB_LOAD_WARNING = {'data': {'text/html':\n",
       "     \"<div style='background-color: #fdd'>\\n\"+\n",
       "     \"<p>\\n\"+\n",
       "     \"BokehJS does not appear to have successfully loaded. If loading BokehJS from CDN, this \\n\"+\n",
       "     \"may be due to a slow or bad network connection. Possible fixes:\\n\"+\n",
       "     \"</p>\\n\"+\n",
       "     \"<ul>\\n\"+\n",
       "     \"<li>re-rerun `output_notebook()` to attempt to load from CDN again, or</li>\\n\"+\n",
       "     \"<li>use INLINE resources instead, as so:</li>\\n\"+\n",
       "     \"</ul>\\n\"+\n",
       "     \"<code>\\n\"+\n",
       "     \"from bokeh.resources import INLINE\\n\"+\n",
       "     \"output_notebook(resources=INLINE)\\n\"+\n",
       "     \"</code>\\n\"+\n",
       "     \"</div>\"}};\n",
       "\n",
       "  function display_loaded() {\n",
       "    var el = document.getElementById(\"1001\");\n",
       "    if (el != null) {\n",
       "      el.textContent = \"BokehJS is loading...\";\n",
       "    }\n",
       "    if (root.Bokeh !== undefined) {\n",
       "      if (el != null) {\n",
       "        el.textContent = \"BokehJS \" + root.Bokeh.version + \" successfully loaded.\";\n",
       "      }\n",
       "    } else if (Date.now() < root._bokeh_timeout) {\n",
       "      setTimeout(display_loaded, 100)\n",
       "    }\n",
       "  }\n",
       "\n",
       "\n",
       "  function run_callbacks() {\n",
       "    try {\n",
       "      root._bokeh_onload_callbacks.forEach(function(callback) {\n",
       "        if (callback != null)\n",
       "          callback();\n",
       "      });\n",
       "    } finally {\n",
       "      delete root._bokeh_onload_callbacks\n",
       "    }\n",
       "    console.debug(\"Bokeh: all callbacks have finished\");\n",
       "  }\n",
       "\n",
       "  function load_libs(css_urls, js_urls, callback) {\n",
       "    if (css_urls == null) css_urls = [];\n",
       "    if (js_urls == null) js_urls = [];\n",
       "\n",
       "    root._bokeh_onload_callbacks.push(callback);\n",
       "    if (root._bokeh_is_loading > 0) {\n",
       "      console.debug(\"Bokeh: BokehJS is being loaded, scheduling callback at\", now());\n",
       "      return null;\n",
       "    }\n",
       "    if (js_urls == null || js_urls.length === 0) {\n",
       "      run_callbacks();\n",
       "      return null;\n",
       "    }\n",
       "    console.debug(\"Bokeh: BokehJS not loaded, scheduling load and callback at\", now());\n",
       "    root._bokeh_is_loading = css_urls.length + js_urls.length;\n",
       "\n",
       "    function on_load() {\n",
       "      root._bokeh_is_loading--;\n",
       "      if (root._bokeh_is_loading === 0) {\n",
       "        console.debug(\"Bokeh: all BokehJS libraries/stylesheets loaded\");\n",
       "        run_callbacks()\n",
       "      }\n",
       "    }\n",
       "\n",
       "    function on_error() {\n",
       "      console.error(\"failed to load \" + url);\n",
       "    }\n",
       "\n",
       "    for (var i = 0; i < css_urls.length; i++) {\n",
       "      var url = css_urls[i];\n",
       "      const element = document.createElement(\"link\");\n",
       "      element.onload = on_load;\n",
       "      element.onerror = on_error;\n",
       "      element.rel = \"stylesheet\";\n",
       "      element.type = \"text/css\";\n",
       "      element.href = url;\n",
       "      console.debug(\"Bokeh: injecting link tag for BokehJS stylesheet: \", url);\n",
       "      document.body.appendChild(element);\n",
       "    }\n",
       "\n",
       "    for (var i = 0; i < js_urls.length; i++) {\n",
       "      var url = js_urls[i];\n",
       "      var element = document.createElement('script');\n",
       "      element.onload = on_load;\n",
       "      element.onerror = on_error;\n",
       "      element.async = false;\n",
       "      element.src = url;\n",
       "      console.debug(\"Bokeh: injecting script tag for BokehJS library: \", url);\n",
       "      document.head.appendChild(element);\n",
       "    }\n",
       "  };var element = document.getElementById(\"1001\");\n",
       "  if (element == null) {\n",
       "    console.error(\"Bokeh: ERROR: autoload.js configured with elementid '1001' but no matching script tag was found. \")\n",
       "    return false;\n",
       "  }\n",
       "\n",
       "  function inject_raw_css(css) {\n",
       "    const element = document.createElement(\"style\");\n",
       "    element.appendChild(document.createTextNode(css));\n",
       "    document.body.appendChild(element);\n",
       "  }\n",
       "\n",
       "  var js_urls = [\"https://cdn.pydata.org/bokeh/release/bokeh-1.2.0.min.js\", \"https://cdn.pydata.org/bokeh/release/bokeh-widgets-1.2.0.min.js\", \"https://cdn.pydata.org/bokeh/release/bokeh-tables-1.2.0.min.js\", \"https://cdn.pydata.org/bokeh/release/bokeh-gl-1.2.0.min.js\"];\n",
       "  var css_urls = [\"https://cdn.pydata.org/bokeh/release/bokeh-1.2.0.min.css\", \"https://cdn.pydata.org/bokeh/release/bokeh-widgets-1.2.0.min.css\", \"https://cdn.pydata.org/bokeh/release/bokeh-tables-1.2.0.min.css\"];\n",
       "\n",
       "  var inline_js = [\n",
       "    function(Bokeh) {\n",
       "      Bokeh.set_log_level(\"info\");\n",
       "    },\n",
       "    \n",
       "    function(Bokeh) {\n",
       "      \n",
       "    },\n",
       "    function(Bokeh) {} // ensure no trailing comma for IE\n",
       "  ];\n",
       "\n",
       "  function run_inline_js() {\n",
       "    \n",
       "    if ((root.Bokeh !== undefined) || (force === true)) {\n",
       "      for (var i = 0; i < inline_js.length; i++) {\n",
       "        inline_js[i].call(root, root.Bokeh);\n",
       "      }if (force === true) {\n",
       "        display_loaded();\n",
       "      }} else if (Date.now() < root._bokeh_timeout) {\n",
       "      setTimeout(run_inline_js, 100);\n",
       "    } else if (!root._bokeh_failed_load) {\n",
       "      console.log(\"Bokeh: BokehJS failed to load within specified timeout.\");\n",
       "      root._bokeh_failed_load = true;\n",
       "    } else if (force !== true) {\n",
       "      var cell = $(document.getElementById(\"1001\")).parents('.cell').data().cell;\n",
       "      cell.output_area.append_execute_result(NB_LOAD_WARNING)\n",
       "    }\n",
       "\n",
       "  }\n",
       "\n",
       "  if (root._bokeh_is_loading === 0) {\n",
       "    console.debug(\"Bokeh: BokehJS loaded, going straight to plotting\");\n",
       "    run_inline_js();\n",
       "  } else {\n",
       "    load_libs(css_urls, js_urls, function() {\n",
       "      console.debug(\"Bokeh: BokehJS plotting callback run at\", now());\n",
       "      run_inline_js();\n",
       "    });\n",
       "  }\n",
       "}(window));"
      ],
      "application/vnd.bokehjs_load.v0+json": "\n(function(root) {\n  function now() {\n    return new Date();\n  }\n\n  var force = true;\n\n  if (typeof root._bokeh_onload_callbacks === \"undefined\" || force === true) {\n    root._bokeh_onload_callbacks = [];\n    root._bokeh_is_loading = undefined;\n  }\n\n  \n\n  \n  if (typeof (root._bokeh_timeout) === \"undefined\" || force === true) {\n    root._bokeh_timeout = Date.now() + 5000;\n    root._bokeh_failed_load = false;\n  }\n\n  var NB_LOAD_WARNING = {'data': {'text/html':\n     \"<div style='background-color: #fdd'>\\n\"+\n     \"<p>\\n\"+\n     \"BokehJS does not appear to have successfully loaded. If loading BokehJS from CDN, this \\n\"+\n     \"may be due to a slow or bad network connection. Possible fixes:\\n\"+\n     \"</p>\\n\"+\n     \"<ul>\\n\"+\n     \"<li>re-rerun `output_notebook()` to attempt to load from CDN again, or</li>\\n\"+\n     \"<li>use INLINE resources instead, as so:</li>\\n\"+\n     \"</ul>\\n\"+\n     \"<code>\\n\"+\n     \"from bokeh.resources import INLINE\\n\"+\n     \"output_notebook(resources=INLINE)\\n\"+\n     \"</code>\\n\"+\n     \"</div>\"}};\n\n  function display_loaded() {\n    var el = document.getElementById(\"1001\");\n    if (el != null) {\n      el.textContent = \"BokehJS is loading...\";\n    }\n    if (root.Bokeh !== undefined) {\n      if (el != null) {\n        el.textContent = \"BokehJS \" + root.Bokeh.version + \" successfully loaded.\";\n      }\n    } else if (Date.now() < root._bokeh_timeout) {\n      setTimeout(display_loaded, 100)\n    }\n  }\n\n\n  function run_callbacks() {\n    try {\n      root._bokeh_onload_callbacks.forEach(function(callback) {\n        if (callback != null)\n          callback();\n      });\n    } finally {\n      delete root._bokeh_onload_callbacks\n    }\n    console.debug(\"Bokeh: all callbacks have finished\");\n  }\n\n  function load_libs(css_urls, js_urls, callback) {\n    if (css_urls == null) css_urls = [];\n    if (js_urls == null) js_urls = [];\n\n    root._bokeh_onload_callbacks.push(callback);\n    if (root._bokeh_is_loading > 0) {\n      console.debug(\"Bokeh: BokehJS is being loaded, scheduling callback at\", now());\n      return null;\n    }\n    if (js_urls == null || js_urls.length === 0) {\n      run_callbacks();\n      return null;\n    }\n    console.debug(\"Bokeh: BokehJS not loaded, scheduling load and callback at\", now());\n    root._bokeh_is_loading = css_urls.length + js_urls.length;\n\n    function on_load() {\n      root._bokeh_is_loading--;\n      if (root._bokeh_is_loading === 0) {\n        console.debug(\"Bokeh: all BokehJS libraries/stylesheets loaded\");\n        run_callbacks()\n      }\n    }\n\n    function on_error() {\n      console.error(\"failed to load \" + url);\n    }\n\n    for (var i = 0; i < css_urls.length; i++) {\n      var url = css_urls[i];\n      const element = document.createElement(\"link\");\n      element.onload = on_load;\n      element.onerror = on_error;\n      element.rel = \"stylesheet\";\n      element.type = \"text/css\";\n      element.href = url;\n      console.debug(\"Bokeh: injecting link tag for BokehJS stylesheet: \", url);\n      document.body.appendChild(element);\n    }\n\n    for (var i = 0; i < js_urls.length; i++) {\n      var url = js_urls[i];\n      var element = document.createElement('script');\n      element.onload = on_load;\n      element.onerror = on_error;\n      element.async = false;\n      element.src = url;\n      console.debug(\"Bokeh: injecting script tag for BokehJS library: \", url);\n      document.head.appendChild(element);\n    }\n  };var element = document.getElementById(\"1001\");\n  if (element == null) {\n    console.error(\"Bokeh: ERROR: autoload.js configured with elementid '1001' but no matching script tag was found. \")\n    return false;\n  }\n\n  function inject_raw_css(css) {\n    const element = document.createElement(\"style\");\n    element.appendChild(document.createTextNode(css));\n    document.body.appendChild(element);\n  }\n\n  var js_urls = [\"https://cdn.pydata.org/bokeh/release/bokeh-1.2.0.min.js\", \"https://cdn.pydata.org/bokeh/release/bokeh-widgets-1.2.0.min.js\", \"https://cdn.pydata.org/bokeh/release/bokeh-tables-1.2.0.min.js\", \"https://cdn.pydata.org/bokeh/release/bokeh-gl-1.2.0.min.js\"];\n  var css_urls = [\"https://cdn.pydata.org/bokeh/release/bokeh-1.2.0.min.css\", \"https://cdn.pydata.org/bokeh/release/bokeh-widgets-1.2.0.min.css\", \"https://cdn.pydata.org/bokeh/release/bokeh-tables-1.2.0.min.css\"];\n\n  var inline_js = [\n    function(Bokeh) {\n      Bokeh.set_log_level(\"info\");\n    },\n    \n    function(Bokeh) {\n      \n    },\n    function(Bokeh) {} // ensure no trailing comma for IE\n  ];\n\n  function run_inline_js() {\n    \n    if ((root.Bokeh !== undefined) || (force === true)) {\n      for (var i = 0; i < inline_js.length; i++) {\n        inline_js[i].call(root, root.Bokeh);\n      }if (force === true) {\n        display_loaded();\n      }} else if (Date.now() < root._bokeh_timeout) {\n      setTimeout(run_inline_js, 100);\n    } else if (!root._bokeh_failed_load) {\n      console.log(\"Bokeh: BokehJS failed to load within specified timeout.\");\n      root._bokeh_failed_load = true;\n    } else if (force !== true) {\n      var cell = $(document.getElementById(\"1001\")).parents('.cell').data().cell;\n      cell.output_area.append_execute_result(NB_LOAD_WARNING)\n    }\n\n  }\n\n  if (root._bokeh_is_loading === 0) {\n    console.debug(\"Bokeh: BokehJS loaded, going straight to plotting\");\n    run_inline_js();\n  } else {\n    load_libs(css_urls, js_urls, function() {\n      console.debug(\"Bokeh: BokehJS plotting callback run at\", now());\n      run_inline_js();\n    });\n  }\n}(window));"
     },
     "metadata": {},
     "output_type": "display_data"
    }
   ],
   "source": [
    "from bokeh.io import show, output_notebook\n",
    "from bokeh.layouts import gridplot\n",
    "from bokeh.models.scales import LogScale\n",
    "output_notebook()"
   ]
  },
  {
   "cell_type": "markdown",
   "metadata": {},
   "source": [
    "Load LD pruned *diallelic* variant file."
   ]
  },
  {
   "cell_type": "code",
   "execution_count": 13,
   "metadata": {},
   "outputs": [],
   "source": [
    "mt = hl.read_matrix_table('/home/olavur/experiments/2020-11-13_fargen1_exome_analysis/data/mt/ld_pruned_diallelic.mt')"
   ]
  },
  {
   "cell_type": "markdown",
   "metadata": {},
   "source": [
    "Perform PCA decomposition of the genotype matrix, calculating the eigenvalues, the scores, and the loadings. Keep 4 dimensions."
   ]
  },
  {
   "cell_type": "code",
   "execution_count": 14,
   "metadata": {},
   "outputs": [
    {
     "name": "stderr",
     "output_type": "stream",
     "text": [
      "2020-12-03 15:05:35 Hail: INFO: pca: running PCA with 4 components...\n",
      "2020-12-03 15:05:38 Hail: INFO: Coerced sorted dataset\n"
     ]
    }
   ],
   "source": [
    "eigenvalues, scores, loadings = hl.pca(hl.int(hl.is_defined(mt.GT)), k=4, compute_loadings=True)"
   ]
  },
  {
   "cell_type": "code",
   "execution_count": 15,
   "metadata": {},
   "outputs": [],
   "source": [
    "mt = mt.annotate_cols(scores = scores[mt.s].scores)\n",
    "mt = mt.annotate_rows(loadings = loadings[mt.locus, mt.alleles].loadings)"
   ]
  },
  {
   "cell_type": "markdown",
   "metadata": {},
   "source": [
    "**TODO:** LD pruning.\n",
    "\n",
    "**TODO:** I need to capture population structure. Get more samples and get the region of each sample.\n",
    "\n",
    "**NOTE:** I did not use `hwe_normalized_pca` here because I wonder if the potential correlation between $F$ and the principal components disappears."
   ]
  },
  {
   "cell_type": "code",
   "execution_count": 25,
   "metadata": {},
   "outputs": [
    {
     "data": {
      "text/html": [
       "\n",
       "\n",
       "\n",
       "\n",
       "\n",
       "\n",
       "  <div class=\"bk-root\" id=\"84cf7b72-acc0-4219-913e-8227ddc5bbd2\" data-root-id=\"2320\"></div>\n"
      ]
     },
     "metadata": {},
     "output_type": "display_data"
    },
    {
     "data": {
      "application/javascript": [
       "(function(root) {\n",
       "  function embed_document(root) {\n",
       "    \n",
       "  var docs_json = {\"202d9f26-2d3c-465b-a8d1-bd4ecdab1109\":{\"roots\":{\"references\":[{\"attributes\":{\"below\":[{\"id\":\"2331\",\"type\":\"LinearAxis\"}],\"center\":[{\"id\":\"2335\",\"type\":\"Grid\"},{\"id\":\"2340\",\"type\":\"Grid\"}],\"left\":[{\"id\":\"2336\",\"type\":\"LinearAxis\"}],\"plot_height\":800,\"plot_width\":800,\"renderers\":[{\"id\":\"2360\",\"type\":\"GlyphRenderer\"}],\"title\":{\"id\":\"2321\",\"type\":\"Title\"},\"toolbar\":{\"id\":\"2347\",\"type\":\"Toolbar\"},\"x_range\":{\"id\":\"2323\",\"type\":\"DataRange1d\"},\"x_scale\":{\"id\":\"2327\",\"type\":\"LinearScale\"},\"y_range\":{\"id\":\"2325\",\"type\":\"DataRange1d\"},\"y_scale\":{\"id\":\"2329\",\"type\":\"LinearScale\"}},\"id\":\"2320\",\"subtype\":\"Figure\",\"type\":\"Plot\"},{\"attributes\":{\"callback\":null},\"id\":\"2323\",\"type\":\"DataRange1d\"},{\"attributes\":{\"text\":\"PCA\"},\"id\":\"2321\",\"type\":\"Title\"},{\"attributes\":{},\"id\":\"2346\",\"type\":\"HelpTool\"},{\"attributes\":{},\"id\":\"2455\",\"type\":\"Selection\"},{\"attributes\":{},\"id\":\"2329\",\"type\":\"LinearScale\"},{\"attributes\":{\"axis_label\":\"PC1\",\"formatter\":{\"id\":\"2454\",\"type\":\"BasicTickFormatter\"},\"ticker\":{\"id\":\"2332\",\"type\":\"BasicTicker\"}},\"id\":\"2331\",\"type\":\"LinearAxis\"},{\"attributes\":{\"ticker\":{\"id\":\"2332\",\"type\":\"BasicTicker\"}},\"id\":\"2335\",\"type\":\"Grid\"},{\"attributes\":{},\"id\":\"2337\",\"type\":\"BasicTicker\"},{\"attributes\":{},\"id\":\"2332\",\"type\":\"BasicTicker\"},{\"attributes\":{\"axis_label\":\"PC2\",\"formatter\":{\"id\":\"2452\",\"type\":\"BasicTickFormatter\"},\"ticker\":{\"id\":\"2337\",\"type\":\"BasicTicker\"}},\"id\":\"2336\",\"type\":\"LinearAxis\"},{\"attributes\":{\"fill_alpha\":{\"value\":0.1},\"fill_color\":{\"value\":\"#1f77b4\"},\"line_alpha\":{\"value\":0.1},\"line_color\":{\"value\":\"#1f77b4\"},\"x\":{\"field\":\"x\"},\"y\":{\"field\":\"y\"}},\"id\":\"2359\",\"type\":\"Circle\"},{\"attributes\":{\"data_source\":{\"id\":\"2356\",\"type\":\"ColumnDataSource\"},\"glyph\":{\"id\":\"2358\",\"type\":\"Circle\"},\"hover_glyph\":null,\"muted_glyph\":null,\"nonselection_glyph\":{\"id\":\"2359\",\"type\":\"Circle\"},\"selection_glyph\":null,\"view\":{\"id\":\"2361\",\"type\":\"CDSView\"}},\"id\":\"2360\",\"type\":\"GlyphRenderer\"},{\"attributes\":{},\"id\":\"2327\",\"type\":\"LinearScale\"},{\"attributes\":{\"callback\":null,\"data\":{\"Sample\":[\"FN000545\",\"FN000523\",\"FN000521\",\"FN000472\",\"FN000925\",\"FN000037\",\"FN000034\",\"FN000950\",\"FN000024\",\"FN000807\",\"FN000924\",\"FN000009\",\"FN000035\",\"FN000518\",\"FN000563\",\"FN000022\",\"FN000021\",\"FN000534\",\"FN000023\",\"FN000033\",\"FN000528\",\"FN000522\",\"FN000519\",\"FN000011\",\"FN000951\",\"FN000530\",\"FN000931\",\"FN000932\",\"FN000525\",\"FN000544\"],\"index\":[0,1,2,3,4,5,6,7,8,9,10,11,12,13,14,15,16,17,18,19,20,21,22,23,24,25,26,27,28,29],\"x\":{\"__ndarray__\":\"wWthc/s9bUDjDV5z+z1tQNl8YYj4PW1AFPMCAh0+bUARiMPRGj5tQDPv0a2BPm1AJbzSrYE+bUC6VvDGoT5tQLnDWDiAPm1AYFrAqV4+bUBhK8XRGj5tQA+NiVXDPm1Ain8yDKE+bUAjvNnCfj5tQArs8cahPm1AvRXxxqE+bUDOQn95XD5tQJcTIzA6Pm1Aobg+NF0+bUBZ4j00XT5tQOwe5eo6Pm1AAmnj6jo+bUCd83A8oz5tQFiVWTiAPm1AIhkZ84A+bUBkk2Wd9T1tQIKYR1wZPm1AgVMkWPY9bUDXdEdHHD5tQBKNiVXDPm1A\",\"dtype\":\"float64\",\"shape\":[30]},\"y\":{\"__ndarray__\":\"0PnHootE+r/6FgzRIcf5v6IhPnz+J/C/ML+HvijZ6b8C0ZOmk4fmv3s2cOiyL+G/Dt++QQ/m3r+kHINgKKiyvy1YCrnkQ6E/BarzpjzcpT+riYca2cm4P9pmZbGFVbs/wjMVHJSKvj97Y9oXrEzBPyPXRyGxasI/s3soWyLQwz/a18Gv0vLDP5oNKuesjcc/uiEuxV03yD9FFiz1IeHJPxDqVdBK4Mo/tl83myfsyz+SBK88ycvMPzHjTlrFys4/TtsGE9gV0D9rMV6XLW/SP2w3ohHnZtM/mMj/Ya1z3D+5/g+ol77hP2OKaLGFVbs/\",\"dtype\":\"float64\",\"shape\":[30]}},\"selected\":{\"id\":\"2455\",\"type\":\"Selection\"},\"selection_policy\":{\"id\":\"2456\",\"type\":\"UnionRenderers\"}},\"id\":\"2356\",\"type\":\"ColumnDataSource\"},{\"attributes\":{\"callback\":null},\"id\":\"2325\",\"type\":\"DataRange1d\"},{\"attributes\":{},\"id\":\"2345\",\"type\":\"ResetTool\"},{\"attributes\":{},\"id\":\"2344\",\"type\":\"SaveTool\"},{\"attributes\":{\"dimension\":1,\"ticker\":{\"id\":\"2337\",\"type\":\"BasicTicker\"}},\"id\":\"2340\",\"type\":\"Grid\"},{\"attributes\":{\"fill_color\":{\"value\":\"#1f77b4\"},\"line_color\":{\"value\":\"#1f77b4\"},\"x\":{\"field\":\"x\"},\"y\":{\"field\":\"y\"}},\"id\":\"2358\",\"type\":\"Circle\"},{\"attributes\":{\"callback\":null,\"tooltips\":[[\"x\",\"@x\"],[\"y\",\"@y\"],[\"Sample\",\"@Sample\"]]},\"id\":\"2355\",\"type\":\"HoverTool\"},{\"attributes\":{\"source\":{\"id\":\"2356\",\"type\":\"ColumnDataSource\"}},\"id\":\"2361\",\"type\":\"CDSView\"},{\"attributes\":{},\"id\":\"2454\",\"type\":\"BasicTickFormatter\"},{\"attributes\":{\"active_drag\":\"auto\",\"active_inspect\":\"auto\",\"active_multi\":null,\"active_scroll\":\"auto\",\"active_tap\":\"auto\",\"tools\":[{\"id\":\"2341\",\"type\":\"PanTool\"},{\"id\":\"2342\",\"type\":\"WheelZoomTool\"},{\"id\":\"2343\",\"type\":\"BoxZoomTool\"},{\"id\":\"2344\",\"type\":\"SaveTool\"},{\"id\":\"2345\",\"type\":\"ResetTool\"},{\"id\":\"2346\",\"type\":\"HelpTool\"},{\"id\":\"2355\",\"type\":\"HoverTool\"}]},\"id\":\"2347\",\"type\":\"Toolbar\"},{\"attributes\":{},\"id\":\"2456\",\"type\":\"UnionRenderers\"},{\"attributes\":{},\"id\":\"2341\",\"type\":\"PanTool\"},{\"attributes\":{},\"id\":\"2452\",\"type\":\"BasicTickFormatter\"},{\"attributes\":{},\"id\":\"2342\",\"type\":\"WheelZoomTool\"},{\"attributes\":{\"bottom_units\":\"screen\",\"fill_alpha\":{\"value\":0.5},\"fill_color\":{\"value\":\"lightgrey\"},\"left_units\":\"screen\",\"level\":\"overlay\",\"line_alpha\":{\"value\":1.0},\"line_color\":{\"value\":\"black\"},\"line_dash\":[4,4],\"line_width\":{\"value\":2},\"render_mode\":\"css\",\"right_units\":\"screen\",\"top_units\":\"screen\"},\"id\":\"2457\",\"type\":\"BoxAnnotation\"},{\"attributes\":{\"overlay\":{\"id\":\"2457\",\"type\":\"BoxAnnotation\"}},\"id\":\"2343\",\"type\":\"BoxZoomTool\"}],\"root_ids\":[\"2320\"]},\"title\":\"Bokeh Application\",\"version\":\"1.2.0\"}};\n",
       "  var render_items = [{\"docid\":\"202d9f26-2d3c-465b-a8d1-bd4ecdab1109\",\"roots\":{\"2320\":\"84cf7b72-acc0-4219-913e-8227ddc5bbd2\"}}];\n",
       "  root.Bokeh.embed.embed_items_notebook(docs_json, render_items);\n",
       "\n",
       "  }\n",
       "  if (root.Bokeh !== undefined) {\n",
       "    embed_document(root);\n",
       "  } else {\n",
       "    var attempts = 0;\n",
       "    var timer = setInterval(function(root) {\n",
       "      if (root.Bokeh !== undefined) {\n",
       "        embed_document(root);\n",
       "        clearInterval(timer);\n",
       "      }\n",
       "      attempts++;\n",
       "      if (attempts > 100) {\n",
       "        console.log(\"Bokeh: ERROR: Unable to run BokehJS code because BokehJS library is missing\");\n",
       "        clearInterval(timer);\n",
       "      }\n",
       "    }, 10, root)\n",
       "  }\n",
       "})(window);"
      ],
      "application/vnd.bokehjs_exec.v0+json": ""
     },
     "metadata": {
      "application/vnd.bokehjs_exec.v0+json": {
       "id": "2320"
      }
     },
     "output_type": "display_data"
    }
   ],
   "source": [
    "p = hl.plot.scatter(mt.scores[0], mt.scores[1], title='PCA', xlabel='PC1', ylabel='PC2', hover_fields={'Sample': mt.s})\n",
    "show(p)"
   ]
  },
  {
   "cell_type": "code",
   "execution_count": 34,
   "metadata": {},
   "outputs": [
    {
     "data": {
      "text/html": [
       "<p>54738 records.</p><b>&lt;expr&gt;</b> (<i>float64</i>):<ul><table><tbody><tr><td>Non-missing</td><td>54738 (100.00%)</td></tr><tr><td>Missing</td><td>0</td></tr><tr><td>Minimum</td><td>0.00</td></tr><tr><td>Maximum</td><td>0.00</td></tr><tr><td>Mean</td><td>0.00</td></tr><tr><td>Std Dev</td><td>0.00</td></tr></tbody></table></ul>"
      ],
      "text/plain": [
       "\n",
       "54738 records.\n",
       "\n",
       "- <expr> (float64):\n",
       "  Non-missing: 54738 (100.00%)\n",
       "      Missing: 0\n",
       "      Minimum: 0.00\n",
       "      Maximum: 0.00\n",
       "         Mean: 0.00\n",
       "      Std Dev: 0.00"
      ]
     },
     "metadata": {},
     "output_type": "display_data"
    }
   ],
   "source": [
    "mt.loadings[0].summarize()"
   ]
  },
  {
   "cell_type": "code",
   "execution_count": null,
   "metadata": {},
   "outputs": [],
   "source": [
    "p = hl.plot.histogram(mt.variant_qc.dp_stats.mean, range=(0,100), legend='Mean DP per variant histogram')\n",
    "show(p)"
   ]
  },
  {
   "cell_type": "code",
   "execution_count": 22,
   "metadata": {},
   "outputs": [],
   "source": [
    "mt_small = mt.sample_rows(0.001)"
   ]
  },
  {
   "cell_type": "code",
   "execution_count": 26,
   "metadata": {},
   "outputs": [
    {
     "data": {
      "text/html": [
       "\n",
       "\n",
       "\n",
       "\n",
       "\n",
       "\n",
       "  <div class=\"bk-root\" id=\"501a6e94-0bf5-4ebf-90d7-88dc9499b1dc\" data-root-id=\"2506\"></div>\n"
      ]
     },
     "metadata": {},
     "output_type": "display_data"
    },
    {
     "data": {
      "application/javascript": [
       "(function(root) {\n",
       "  function embed_document(root) {\n",
       "    \n",
       "  var docs_json = {\"148550c4-9315-4ea5-9f45-1b0a23c2df89\":{\"roots\":{\"references\":[{\"attributes\":{\"below\":[{\"id\":\"2517\",\"type\":\"LinearAxis\"}],\"center\":[{\"id\":\"2521\",\"type\":\"Grid\"},{\"id\":\"2526\",\"type\":\"Grid\"}],\"left\":[{\"id\":\"2522\",\"type\":\"LinearAxis\"}],\"plot_height\":800,\"plot_width\":800,\"renderers\":[{\"id\":\"2546\",\"type\":\"GlyphRenderer\"}],\"title\":{\"id\":\"2507\",\"type\":\"Title\"},\"toolbar\":{\"id\":\"2533\",\"type\":\"Toolbar\"},\"x_range\":{\"id\":\"2509\",\"type\":\"DataRange1d\"},\"x_scale\":{\"id\":\"2513\",\"type\":\"LinearScale\"},\"y_range\":{\"id\":\"2511\",\"type\":\"DataRange1d\"},\"y_scale\":{\"id\":\"2515\",\"type\":\"LinearScale\"}},\"id\":\"2506\",\"subtype\":\"Figure\",\"type\":\"Plot\"},{\"attributes\":{\"overlay\":{\"id\":\"2651\",\"type\":\"BoxAnnotation\"}},\"id\":\"2529\",\"type\":\"BoxZoomTool\"},{\"attributes\":{\"callback\":null},\"id\":\"2509\",\"type\":\"DataRange1d\"},{\"attributes\":{\"callback\":null},\"id\":\"2511\",\"type\":\"DataRange1d\"},{\"attributes\":{},\"id\":\"2531\",\"type\":\"ResetTool\"},{\"attributes\":{},\"id\":\"2528\",\"type\":\"WheelZoomTool\"},{\"attributes\":{\"text\":\"PCA\"},\"id\":\"2507\",\"type\":\"Title\"},{\"attributes\":{},\"id\":\"2527\",\"type\":\"PanTool\"},{\"attributes\":{},\"id\":\"2513\",\"type\":\"LinearScale\"},{\"attributes\":{\"bottom_units\":\"screen\",\"fill_alpha\":{\"value\":0.5},\"fill_color\":{\"value\":\"lightgrey\"},\"left_units\":\"screen\",\"level\":\"overlay\",\"line_alpha\":{\"value\":1.0},\"line_color\":{\"value\":\"black\"},\"line_dash\":[4,4],\"line_width\":{\"value\":2},\"render_mode\":\"css\",\"right_units\":\"screen\",\"top_units\":\"screen\"},\"id\":\"2651\",\"type\":\"BoxAnnotation\"},{\"attributes\":{},\"id\":\"2650\",\"type\":\"UnionRenderers\"},{\"attributes\":{\"active_drag\":\"auto\",\"active_inspect\":\"auto\",\"active_multi\":null,\"active_scroll\":\"auto\",\"active_tap\":\"auto\",\"tools\":[{\"id\":\"2527\",\"type\":\"PanTool\"},{\"id\":\"2528\",\"type\":\"WheelZoomTool\"},{\"id\":\"2529\",\"type\":\"BoxZoomTool\"},{\"id\":\"2530\",\"type\":\"SaveTool\"},{\"id\":\"2531\",\"type\":\"ResetTool\"},{\"id\":\"2532\",\"type\":\"HelpTool\"},{\"id\":\"2541\",\"type\":\"HoverTool\"}]},\"id\":\"2533\",\"type\":\"Toolbar\"},{\"attributes\":{\"callback\":null,\"tooltips\":[[\"x\",\"@x\"],[\"y\",\"@y\"],[\"RSID\",\"@RSID\"]]},\"id\":\"2541\",\"type\":\"HoverTool\"},{\"attributes\":{},\"id\":\"2648\",\"type\":\"BasicTickFormatter\"},{\"attributes\":{\"callback\":null,\"data\":{\"RSID\":[\"NA\"],\"index\":[0],\"x\":{\"__ndarray__\":\"fz7FgAyCcT8=\",\"dtype\":\"float64\",\"shape\":[1]},\"y\":{\"__ndarray__\":\"AGAUHdWn+74=\",\"dtype\":\"float64\",\"shape\":[1]}},\"selected\":{\"id\":\"2649\",\"type\":\"Selection\"},\"selection_policy\":{\"id\":\"2650\",\"type\":\"UnionRenderers\"}},\"id\":\"2542\",\"type\":\"ColumnDataSource\"},{\"attributes\":{},\"id\":\"2518\",\"type\":\"BasicTicker\"},{\"attributes\":{\"source\":{\"id\":\"2542\",\"type\":\"ColumnDataSource\"}},\"id\":\"2547\",\"type\":\"CDSView\"},{\"attributes\":{},\"id\":\"2646\",\"type\":\"BasicTickFormatter\"},{\"attributes\":{\"axis_label\":\"PC1\",\"formatter\":{\"id\":\"2648\",\"type\":\"BasicTickFormatter\"},\"ticker\":{\"id\":\"2518\",\"type\":\"BasicTicker\"}},\"id\":\"2517\",\"type\":\"LinearAxis\"},{\"attributes\":{},\"id\":\"2515\",\"type\":\"LinearScale\"},{\"attributes\":{\"ticker\":{\"id\":\"2518\",\"type\":\"BasicTicker\"}},\"id\":\"2521\",\"type\":\"Grid\"},{\"attributes\":{},\"id\":\"2523\",\"type\":\"BasicTicker\"},{\"attributes\":{},\"id\":\"2649\",\"type\":\"Selection\"},{\"attributes\":{\"dimension\":1,\"ticker\":{\"id\":\"2523\",\"type\":\"BasicTicker\"}},\"id\":\"2526\",\"type\":\"Grid\"},{\"attributes\":{\"fill_color\":{\"value\":\"#1f77b4\"},\"line_color\":{\"value\":\"#1f77b4\"},\"x\":{\"field\":\"x\"},\"y\":{\"field\":\"y\"}},\"id\":\"2544\",\"type\":\"Circle\"},{\"attributes\":{\"axis_label\":\"PC2\",\"formatter\":{\"id\":\"2646\",\"type\":\"BasicTickFormatter\"},\"ticker\":{\"id\":\"2523\",\"type\":\"BasicTicker\"}},\"id\":\"2522\",\"type\":\"LinearAxis\"},{\"attributes\":{\"data_source\":{\"id\":\"2542\",\"type\":\"ColumnDataSource\"},\"glyph\":{\"id\":\"2544\",\"type\":\"Circle\"},\"hover_glyph\":null,\"muted_glyph\":null,\"nonselection_glyph\":{\"id\":\"2545\",\"type\":\"Circle\"},\"selection_glyph\":null,\"view\":{\"id\":\"2547\",\"type\":\"CDSView\"}},\"id\":\"2546\",\"type\":\"GlyphRenderer\"},{\"attributes\":{},\"id\":\"2530\",\"type\":\"SaveTool\"},{\"attributes\":{},\"id\":\"2532\",\"type\":\"HelpTool\"},{\"attributes\":{\"fill_alpha\":{\"value\":0.1},\"fill_color\":{\"value\":\"#1f77b4\"},\"line_alpha\":{\"value\":0.1},\"line_color\":{\"value\":\"#1f77b4\"},\"x\":{\"field\":\"x\"},\"y\":{\"field\":\"y\"}},\"id\":\"2545\",\"type\":\"Circle\"}],\"root_ids\":[\"2506\"]},\"title\":\"Bokeh Application\",\"version\":\"1.2.0\"}};\n",
       "  var render_items = [{\"docid\":\"148550c4-9315-4ea5-9f45-1b0a23c2df89\",\"roots\":{\"2506\":\"501a6e94-0bf5-4ebf-90d7-88dc9499b1dc\"}}];\n",
       "  root.Bokeh.embed.embed_items_notebook(docs_json, render_items);\n",
       "\n",
       "  }\n",
       "  if (root.Bokeh !== undefined) {\n",
       "    embed_document(root);\n",
       "  } else {\n",
       "    var attempts = 0;\n",
       "    var timer = setInterval(function(root) {\n",
       "      if (root.Bokeh !== undefined) {\n",
       "        embed_document(root);\n",
       "        clearInterval(timer);\n",
       "      }\n",
       "      attempts++;\n",
       "      if (attempts > 100) {\n",
       "        console.log(\"Bokeh: ERROR: Unable to run BokehJS code because BokehJS library is missing\");\n",
       "        clearInterval(timer);\n",
       "      }\n",
       "    }, 10, root)\n",
       "  }\n",
       "})(window);"
      ],
      "application/vnd.bokehjs_exec.v0+json": ""
     },
     "metadata": {
      "application/vnd.bokehjs_exec.v0+json": {
       "id": "2506"
      }
     },
     "output_type": "display_data"
    }
   ],
   "source": [
    "p = hl.plot.scatter(mt_small.loadings[0], mt_small.loadings[1], title='PCA', xlabel='PC1', ylabel='PC2', hover_fields={'RSID': mt_small.rsid})\n",
    "show(p)"
   ]
  },
  {
   "cell_type": "markdown",
   "metadata": {},
   "source": [
    "## Heterozygosity\n",
    "\n",
    "Perform HWE test, annotating the `MatrixTable` with the expected heterozygosity $2 f_A f_a$."
   ]
  },
  {
   "cell_type": "code",
   "execution_count": 19,
   "metadata": {},
   "outputs": [],
   "source": [
    "# Perform HWE test.\n",
    "mt = mt.annotate_rows(hwe=hl.agg.hardy_weinberg_test(mt.GT))"
   ]
  },
  {
   "cell_type": "markdown",
   "metadata": {},
   "source": [
    "Calculate actual heterozygosity $f_{Aa}$."
   ]
  },
  {
   "cell_type": "code",
   "execution_count": 20,
   "metadata": {},
   "outputs": [],
   "source": [
    "# Calculate heterozygosity rate.\n",
    "mt = mt.annotate_rows(het_freq=hl.agg.fraction(mt.GT.is_het()))"
   ]
  },
  {
   "cell_type": "markdown",
   "metadata": {},
   "source": [
    "Compute the reduction in heterozygosity $F = \\frac{2f_A f_a - f_{Aa}}{2f_A f_a}$."
   ]
  },
  {
   "cell_type": "code",
   "execution_count": 21,
   "metadata": {},
   "outputs": [],
   "source": [
    "mt = mt.annotate_rows(\n",
    "    hwe_inbreeding=(mt.hwe.het_freq_hwe - mt.het_freq) / mt.hwe.het_freq_hwe)"
   ]
  },
  {
   "cell_type": "markdown",
   "metadata": {},
   "source": [
    "Subset the rows, just to avoid plotting a million variants."
   ]
  },
  {
   "cell_type": "code",
   "execution_count": 22,
   "metadata": {},
   "outputs": [],
   "source": [
    "mt_small = mt.sample_rows(0.001)"
   ]
  },
  {
   "cell_type": "markdown",
   "metadata": {},
   "source": [
    "Plot the reduction in heterozygosity against the first four principal components.\n",
    "\n",
    "Sadly there is nothing interesting going on here. But at the same time, we probably have too few samples to detect population structure, so increasing the sample size might reveal something."
   ]
  },
  {
   "cell_type": "code",
   "execution_count": 23,
   "metadata": {},
   "outputs": [],
   "source": [
    "plot_list = []\n",
    "for comp in range(0, 4):\n",
    "    p = hl.plot.scatter(mt_small.hwe_inbreeding, mt_small.loadings[comp],\n",
    "                        xlabel='Inbreeding (F) (log10 scale)', ylabel='PC {comp}'.format(comp=comp+1),\n",
    "                        title='Reduction in heterozygosity as explained by principal components',\n",
    "                       hover_fields={'rsid': mt_small.rsid})\n",
    "    p.x_scale = LogScale()\n",
    "    plot_list.append(p)"
   ]
  },
  {
   "cell_type": "code",
   "execution_count": 24,
   "metadata": {},
   "outputs": [
    {
     "data": {
      "text/html": [
       "\n",
       "\n",
       "\n",
       "\n",
       "\n",
       "\n",
       "  <div class=\"bk-root\" id=\"ab6be94b-80d0-4084-9fa5-9e1c6f1582f7\" data-root-id=\"2039\"></div>\n"
      ]
     },
     "metadata": {},
     "output_type": "display_data"
    },
    {
     "data": {
      "application/javascript": [
       "(function(root) {\n",
       "  function embed_document(root) {\n",
       "    \n",
       "  var docs_json = {\"4101134e-9323-4ca4-bcf9-59089da04c19\":{\"roots\":{\"references\":[{\"attributes\":{\"children\":[{\"id\":\"2038\",\"type\":\"ToolbarBox\"},{\"id\":\"2036\",\"type\":\"GridBox\"}]},\"id\":\"2039\",\"type\":\"Column\"},{\"attributes\":{},\"id\":\"2015\",\"type\":\"UnionRenderers\"},{\"attributes\":{},\"id\":\"2020\",\"type\":\"BasicTickFormatter\"},{\"attributes\":{\"bottom_units\":\"screen\",\"fill_alpha\":{\"value\":0.5},\"fill_color\":{\"value\":\"lightgrey\"},\"left_units\":\"screen\",\"level\":\"overlay\",\"line_alpha\":{\"value\":1.0},\"line_color\":{\"value\":\"black\"},\"line_dash\":[4,4],\"line_width\":{\"value\":2},\"render_mode\":\"css\",\"right_units\":\"screen\",\"top_units\":\"screen\"},\"id\":\"2016\",\"type\":\"BoxAnnotation\"},{\"attributes\":{},\"id\":\"2023\",\"type\":\"Selection\"},{\"attributes\":{},\"id\":\"2022\",\"type\":\"BasicTickFormatter\"},{\"attributes\":{},\"id\":\"2024\",\"type\":\"UnionRenderers\"},{\"attributes\":{},\"id\":\"2006\",\"type\":\"UnionRenderers\"},{\"attributes\":{},\"id\":\"2011\",\"type\":\"BasicTickFormatter\"},{\"attributes\":{\"bottom_units\":\"screen\",\"fill_alpha\":{\"value\":0.5},\"fill_color\":{\"value\":\"lightgrey\"},\"left_units\":\"screen\",\"level\":\"overlay\",\"line_alpha\":{\"value\":1.0},\"line_color\":{\"value\":\"black\"},\"line_dash\":[4,4],\"line_width\":{\"value\":2},\"render_mode\":\"css\",\"right_units\":\"screen\",\"top_units\":\"screen\"},\"id\":\"2025\",\"type\":\"BoxAnnotation\"},{\"attributes\":{\"below\":[{\"id\":\"1882\",\"type\":\"LinearAxis\"}],\"center\":[{\"id\":\"1886\",\"type\":\"Grid\"},{\"id\":\"1891\",\"type\":\"Grid\"}],\"left\":[{\"id\":\"1887\",\"type\":\"LinearAxis\"}],\"plot_height\":400,\"plot_width\":500,\"renderers\":[{\"id\":\"1911\",\"type\":\"GlyphRenderer\"}],\"title\":{\"id\":\"1872\",\"type\":\"Title\"},\"toolbar\":{\"id\":\"1898\",\"type\":\"Toolbar\"},\"toolbar_location\":null,\"x_range\":{\"id\":\"1874\",\"type\":\"DataRange1d\"},\"x_scale\":{\"id\":\"1913\",\"type\":\"LogScale\"},\"y_range\":{\"id\":\"1876\",\"type\":\"DataRange1d\"},\"y_scale\":{\"id\":\"1880\",\"type\":\"LinearScale\"}},\"id\":\"1871\",\"subtype\":\"Figure\",\"type\":\"Plot\"},{\"attributes\":{\"bottom_units\":\"screen\",\"fill_alpha\":{\"value\":0.5},\"fill_color\":{\"value\":\"lightgrey\"},\"left_units\":\"screen\",\"level\":\"overlay\",\"line_alpha\":{\"value\":1.0},\"line_color\":{\"value\":\"black\"},\"line_dash\":[4,4],\"line_width\":{\"value\":2},\"render_mode\":\"css\",\"right_units\":\"screen\",\"top_units\":\"screen\"},\"id\":\"2007\",\"type\":\"BoxAnnotation\"},{\"attributes\":{},\"id\":\"2029\",\"type\":\"BasicTickFormatter\"},{\"attributes\":{},\"id\":\"1913\",\"type\":\"LogScale\"},{\"attributes\":{},\"id\":\"1850\",\"type\":\"WheelZoomTool\"},{\"attributes\":{},\"id\":\"2004\",\"type\":\"BasicTickFormatter\"},{\"attributes\":{},\"id\":\"1853\",\"type\":\"ResetTool\"},{\"attributes\":{},\"id\":\"2031\",\"type\":\"BasicTickFormatter\"},{\"attributes\":{\"text\":\"Reduction in heterozygosity as explained by principal components\"},\"id\":\"1829\",\"type\":\"Title\"},{\"attributes\":{\"ticker\":{\"id\":\"1840\",\"type\":\"BasicTicker\"}},\"id\":\"1843\",\"type\":\"Grid\"},{\"attributes\":{\"below\":[{\"id\":\"1839\",\"type\":\"LinearAxis\"}],\"center\":[{\"id\":\"1843\",\"type\":\"Grid\"},{\"id\":\"1848\",\"type\":\"Grid\"}],\"left\":[{\"id\":\"1844\",\"type\":\"LinearAxis\"}],\"plot_height\":400,\"plot_width\":500,\"renderers\":[{\"id\":\"1868\",\"type\":\"GlyphRenderer\"}],\"title\":{\"id\":\"1829\",\"type\":\"Title\"},\"toolbar\":{\"id\":\"1855\",\"type\":\"Toolbar\"},\"toolbar_location\":null,\"x_range\":{\"id\":\"1831\",\"type\":\"DataRange1d\"},\"x_scale\":{\"id\":\"1870\",\"type\":\"LogScale\"},\"y_range\":{\"id\":\"1833\",\"type\":\"DataRange1d\"},\"y_scale\":{\"id\":\"1837\",\"type\":\"LinearScale\"}},\"id\":\"1828\",\"subtype\":\"Figure\",\"type\":\"Plot\"},{\"attributes\":{},\"id\":\"2014\",\"type\":\"Selection\"},{\"attributes\":{\"axis_label\":\"Inbreeding (F) (log10 scale)\",\"formatter\":{\"id\":\"2004\",\"type\":\"BasicTickFormatter\"},\"ticker\":{\"id\":\"1840\",\"type\":\"BasicTicker\"}},\"id\":\"1839\",\"type\":\"LinearAxis\"},{\"attributes\":{},\"id\":\"2013\",\"type\":\"BasicTickFormatter\"},{\"attributes\":{},\"id\":\"1840\",\"type\":\"BasicTicker\"},{\"attributes\":{},\"id\":\"1837\",\"type\":\"LinearScale\"},{\"attributes\":{},\"id\":\"2005\",\"type\":\"Selection\"},{\"attributes\":{\"source\":{\"id\":\"1950\",\"type\":\"ColumnDataSource\"}},\"id\":\"1955\",\"type\":\"CDSView\"},{\"attributes\":{\"callback\":null},\"id\":\"1833\",\"type\":\"DataRange1d\"},{\"attributes\":{},\"id\":\"2002\",\"type\":\"BasicTickFormatter\"},{\"attributes\":{\"callback\":null},\"id\":\"1831\",\"type\":\"DataRange1d\"},{\"attributes\":{},\"id\":\"1845\",\"type\":\"BasicTicker\"},{\"attributes\":{\"children\":[[{\"id\":\"1828\",\"subtype\":\"Figure\",\"type\":\"Plot\"},0,0],[{\"id\":\"1871\",\"subtype\":\"Figure\",\"type\":\"Plot\"},0,1],[{\"id\":\"1914\",\"subtype\":\"Figure\",\"type\":\"Plot\"},1,0],[{\"id\":\"1957\",\"subtype\":\"Figure\",\"type\":\"Plot\"},1,1]]},\"id\":\"2036\",\"type\":\"GridBox\"},{\"attributes\":{\"dimension\":1,\"ticker\":{\"id\":\"1845\",\"type\":\"BasicTicker\"}},\"id\":\"1848\",\"type\":\"Grid\"},{\"attributes\":{\"callback\":null,\"tooltips\":[[\"x\",\"@x\"],[\"y\",\"@y\"],[\"rsid\",\"@rsid\"]]},\"id\":\"1863\",\"type\":\"HoverTool\"},{\"attributes\":{\"callback\":null,\"data\":{\"index\":[0,1,2,3,4,5,6,7,8,9,10,11,12,13],\"rsid\":[\"NA\",\"rs200055820\",\"NA\",\"NA\",\"rs202148979\",\"NA\",\"NA\",\"NA\",\"NA\",\"NA\",\"NA\",\"NA\",\"NA\",\"rs181597595\"],\"x\":{\"__ndarray__\":\"AgAAAAAA0L/bMxCVjuzJv7r2kMuKgcK/MgzDMAzDwL8QHh4eHh6+v9KkeIFMire/FKEIRShCsb8lx3Ecx3GsvxZogRZogaa/AVnIQhayoL8ZFlhggQWWv2sQkyuIyYW/AAAAAAAAAAAAAAAAAADwPw==\",\"dtype\":\"float64\",\"shape\":[14]},\"y\":{\"__ndarray__\":\"fz7FgAyCcT9/PsWADIJxP38+xYAMgnE/fz7FgAyCcT9/PsWADIJxP38+xYAMgnE/fz7FgAyCcT9/PsWADIJxP38+xYAMgnE/fz7FgAyCcT9/PsWADIJxP38+xYAMgnE/fz7FgAyCcT9/PsWADIJxPw==\",\"dtype\":\"float64\",\"shape\":[14]}},\"selected\":{\"id\":\"2005\",\"type\":\"Selection\"},\"selection_policy\":{\"id\":\"2006\",\"type\":\"UnionRenderers\"}},\"id\":\"1864\",\"type\":\"ColumnDataSource\"},{\"attributes\":{},\"id\":\"1849\",\"type\":\"PanTool\"},{\"attributes\":{\"axis_label\":\"PC 1\",\"formatter\":{\"id\":\"2002\",\"type\":\"BasicTickFormatter\"},\"ticker\":{\"id\":\"1845\",\"type\":\"BasicTicker\"}},\"id\":\"1844\",\"type\":\"LinearAxis\"},{\"attributes\":{},\"id\":\"1852\",\"type\":\"SaveTool\"},{\"attributes\":{\"axis_label\":\"PC 2\",\"formatter\":{\"id\":\"2011\",\"type\":\"BasicTickFormatter\"},\"ticker\":{\"id\":\"1888\",\"type\":\"BasicTicker\"}},\"id\":\"1887\",\"type\":\"LinearAxis\"},{\"attributes\":{},\"id\":\"1966\",\"type\":\"LinearScale\"},{\"attributes\":{},\"id\":\"1926\",\"type\":\"BasicTicker\"},{\"attributes\":{},\"id\":\"1893\",\"type\":\"WheelZoomTool\"},{\"attributes\":{\"callback\":null,\"tooltips\":[[\"x\",\"@x\"],[\"y\",\"@y\"],[\"rsid\",\"@rsid\"]]},\"id\":\"1992\",\"type\":\"HoverTool\"},{\"attributes\":{\"dimension\":1,\"ticker\":{\"id\":\"1888\",\"type\":\"BasicTicker\"}},\"id\":\"1891\",\"type\":\"Grid\"},{\"attributes\":{},\"id\":\"1923\",\"type\":\"LinearScale\"},{\"attributes\":{\"callback\":null},\"id\":\"1962\",\"type\":\"DataRange1d\"},{\"attributes\":{\"axis_label\":\"PC 4\",\"formatter\":{\"id\":\"2029\",\"type\":\"BasicTickFormatter\"},\"ticker\":{\"id\":\"1974\",\"type\":\"BasicTicker\"}},\"id\":\"1973\",\"type\":\"LinearAxis\"},{\"attributes\":{\"callback\":null,\"tooltips\":[[\"x\",\"@x\"],[\"y\",\"@y\"],[\"rsid\",\"@rsid\"]]},\"id\":\"1906\",\"type\":\"HoverTool\"},{\"attributes\":{},\"id\":\"1974\",\"type\":\"BasicTicker\"},{\"attributes\":{},\"id\":\"1854\",\"type\":\"HelpTool\"},{\"attributes\":{\"ticker\":{\"id\":\"1926\",\"type\":\"BasicTicker\"}},\"id\":\"1929\",\"type\":\"Grid\"},{\"attributes\":{},\"id\":\"1978\",\"type\":\"PanTool\"},{\"attributes\":{\"active_drag\":\"auto\",\"active_inspect\":\"auto\",\"active_multi\":null,\"active_scroll\":\"auto\",\"active_tap\":\"auto\",\"tools\":[{\"id\":\"1892\",\"type\":\"PanTool\"},{\"id\":\"1893\",\"type\":\"WheelZoomTool\"},{\"id\":\"1894\",\"type\":\"BoxZoomTool\"},{\"id\":\"1895\",\"type\":\"SaveTool\"},{\"id\":\"1896\",\"type\":\"ResetTool\"},{\"id\":\"1897\",\"type\":\"HelpTool\"},{\"id\":\"1906\",\"type\":\"HoverTool\"}]},\"id\":\"1898\",\"type\":\"Toolbar\"},{\"attributes\":{\"axis_label\":\"Inbreeding (F) (log10 scale)\",\"formatter\":{\"id\":\"2022\",\"type\":\"BasicTickFormatter\"},\"ticker\":{\"id\":\"1926\",\"type\":\"BasicTicker\"}},\"id\":\"1925\",\"type\":\"LinearAxis\"},{\"attributes\":{\"below\":[{\"id\":\"1968\",\"type\":\"LinearAxis\"}],\"center\":[{\"id\":\"1972\",\"type\":\"Grid\"},{\"id\":\"1977\",\"type\":\"Grid\"}],\"left\":[{\"id\":\"1973\",\"type\":\"LinearAxis\"}],\"plot_height\":400,\"plot_width\":500,\"renderers\":[{\"id\":\"1997\",\"type\":\"GlyphRenderer\"}],\"title\":{\"id\":\"1958\",\"type\":\"Title\"},\"toolbar\":{\"id\":\"1984\",\"type\":\"Toolbar\"},\"toolbar_location\":null,\"x_range\":{\"id\":\"1960\",\"type\":\"DataRange1d\"},\"x_scale\":{\"id\":\"1999\",\"type\":\"LogScale\"},\"y_range\":{\"id\":\"1962\",\"type\":\"DataRange1d\"},\"y_scale\":{\"id\":\"1966\",\"type\":\"LinearScale\"}},\"id\":\"1957\",\"subtype\":\"Figure\",\"type\":\"Plot\"},{\"attributes\":{},\"id\":\"1892\",\"type\":\"PanTool\"},{\"attributes\":{},\"id\":\"1895\",\"type\":\"SaveTool\"},{\"attributes\":{\"dimension\":1,\"ticker\":{\"id\":\"1974\",\"type\":\"BasicTicker\"}},\"id\":\"1977\",\"type\":\"Grid\"},{\"attributes\":{},\"id\":\"1931\",\"type\":\"BasicTicker\"},{\"attributes\":{},\"id\":\"1936\",\"type\":\"WheelZoomTool\"},{\"attributes\":{},\"id\":\"1979\",\"type\":\"WheelZoomTool\"},{\"attributes\":{},\"id\":\"1888\",\"type\":\"BasicTicker\"},{\"attributes\":{\"dimension\":1,\"ticker\":{\"id\":\"1931\",\"type\":\"BasicTicker\"}},\"id\":\"1934\",\"type\":\"Grid\"},{\"attributes\":{\"callback\":null},\"id\":\"1960\",\"type\":\"DataRange1d\"},{\"attributes\":{\"ticker\":{\"id\":\"1969\",\"type\":\"BasicTicker\"}},\"id\":\"1972\",\"type\":\"Grid\"},{\"attributes\":{\"callback\":null,\"tooltips\":[[\"x\",\"@x\"],[\"y\",\"@y\"],[\"rsid\",\"@rsid\"]]},\"id\":\"1949\",\"type\":\"HoverTool\"},{\"attributes\":{\"text\":\"Reduction in heterozygosity as explained by principal components\"},\"id\":\"1958\",\"type\":\"Title\"},{\"attributes\":{\"active_drag\":\"auto\",\"active_inspect\":\"auto\",\"active_multi\":null,\"active_scroll\":\"auto\",\"active_tap\":\"auto\",\"tools\":[{\"id\":\"1935\",\"type\":\"PanTool\"},{\"id\":\"1936\",\"type\":\"WheelZoomTool\"},{\"id\":\"1937\",\"type\":\"BoxZoomTool\"},{\"id\":\"1938\",\"type\":\"SaveTool\"},{\"id\":\"1939\",\"type\":\"ResetTool\"},{\"id\":\"1940\",\"type\":\"HelpTool\"},{\"id\":\"1949\",\"type\":\"HoverTool\"}]},\"id\":\"1941\",\"type\":\"Toolbar\"},{\"attributes\":{},\"id\":\"1969\",\"type\":\"BasicTicker\"},{\"attributes\":{},\"id\":\"1935\",\"type\":\"PanTool\"},{\"attributes\":{\"axis_label\":\"Inbreeding (F) (log10 scale)\",\"formatter\":{\"id\":\"2031\",\"type\":\"BasicTickFormatter\"},\"ticker\":{\"id\":\"1969\",\"type\":\"BasicTicker\"}},\"id\":\"1968\",\"type\":\"LinearAxis\"},{\"attributes\":{},\"id\":\"1938\",\"type\":\"SaveTool\"},{\"attributes\":{\"axis_label\":\"PC 3\",\"formatter\":{\"id\":\"2020\",\"type\":\"BasicTickFormatter\"},\"ticker\":{\"id\":\"1931\",\"type\":\"BasicTicker\"}},\"id\":\"1930\",\"type\":\"LinearAxis\"},{\"attributes\":{\"bottom_units\":\"screen\",\"fill_alpha\":{\"value\":0.5},\"fill_color\":{\"value\":\"lightgrey\"},\"left_units\":\"screen\",\"level\":\"overlay\",\"line_alpha\":{\"value\":1.0},\"line_color\":{\"value\":\"black\"},\"line_dash\":[4,4],\"line_width\":{\"value\":2},\"render_mode\":\"css\",\"right_units\":\"screen\",\"top_units\":\"screen\"},\"id\":\"2034\",\"type\":\"BoxAnnotation\"},{\"attributes\":{\"overlay\":{\"id\":\"2034\",\"type\":\"BoxAnnotation\"}},\"id\":\"1980\",\"type\":\"BoxZoomTool\"},{\"attributes\":{},\"id\":\"1981\",\"type\":\"SaveTool\"},{\"attributes\":{\"fill_color\":{\"value\":\"#1f77b4\"},\"line_color\":{\"value\":\"#1f77b4\"},\"x\":{\"field\":\"x\"},\"y\":{\"field\":\"y\"}},\"id\":\"1866\",\"type\":\"Circle\"},{\"attributes\":{},\"id\":\"1982\",\"type\":\"ResetTool\"},{\"attributes\":{\"active_drag\":\"auto\",\"active_inspect\":\"auto\",\"active_multi\":null,\"active_scroll\":\"auto\",\"active_tap\":\"auto\",\"tools\":[{\"id\":\"1849\",\"type\":\"PanTool\"},{\"id\":\"1850\",\"type\":\"WheelZoomTool\"},{\"id\":\"1851\",\"type\":\"BoxZoomTool\"},{\"id\":\"1852\",\"type\":\"SaveTool\"},{\"id\":\"1853\",\"type\":\"ResetTool\"},{\"id\":\"1854\",\"type\":\"HelpTool\"},{\"id\":\"1863\",\"type\":\"HoverTool\"}]},\"id\":\"1855\",\"type\":\"Toolbar\"},{\"attributes\":{},\"id\":\"2033\",\"type\":\"UnionRenderers\"},{\"attributes\":{},\"id\":\"1897\",\"type\":\"HelpTool\"},{\"attributes\":{},\"id\":\"1983\",\"type\":\"HelpTool\"},{\"attributes\":{\"data_source\":{\"id\":\"1864\",\"type\":\"ColumnDataSource\"},\"glyph\":{\"id\":\"1866\",\"type\":\"Circle\"},\"hover_glyph\":null,\"muted_glyph\":null,\"nonselection_glyph\":{\"id\":\"1867\",\"type\":\"Circle\"},\"selection_glyph\":null,\"view\":{\"id\":\"1869\",\"type\":\"CDSView\"}},\"id\":\"1868\",\"type\":\"GlyphRenderer\"},{\"attributes\":{\"callback\":null},\"id\":\"1874\",\"type\":\"DataRange1d\"},{\"attributes\":{\"active_drag\":\"auto\",\"active_inspect\":\"auto\",\"active_multi\":null,\"active_scroll\":\"auto\",\"active_tap\":\"auto\",\"tools\":[{\"id\":\"1978\",\"type\":\"PanTool\"},{\"id\":\"1979\",\"type\":\"WheelZoomTool\"},{\"id\":\"1980\",\"type\":\"BoxZoomTool\"},{\"id\":\"1981\",\"type\":\"SaveTool\"},{\"id\":\"1982\",\"type\":\"ResetTool\"},{\"id\":\"1983\",\"type\":\"HelpTool\"},{\"id\":\"1992\",\"type\":\"HoverTool\"}]},\"id\":\"1984\",\"type\":\"Toolbar\"},{\"attributes\":{},\"id\":\"1896\",\"type\":\"ResetTool\"},{\"attributes\":{\"toolbar\":{\"id\":\"2037\",\"type\":\"ProxyToolbar\"},\"toolbar_location\":\"above\"},\"id\":\"2038\",\"type\":\"ToolbarBox\"},{\"attributes\":{\"fill_alpha\":{\"value\":0.1},\"fill_color\":{\"value\":\"#1f77b4\"},\"line_alpha\":{\"value\":0.1},\"line_color\":{\"value\":\"#1f77b4\"},\"x\":{\"field\":\"x\"},\"y\":{\"field\":\"y\"}},\"id\":\"1996\",\"type\":\"Circle\"},{\"attributes\":{\"tools\":[{\"id\":\"1849\",\"type\":\"PanTool\"},{\"id\":\"1850\",\"type\":\"WheelZoomTool\"},{\"id\":\"1851\",\"type\":\"BoxZoomTool\"},{\"id\":\"1852\",\"type\":\"SaveTool\"},{\"id\":\"1853\",\"type\":\"ResetTool\"},{\"id\":\"1854\",\"type\":\"HelpTool\"},{\"id\":\"1863\",\"type\":\"HoverTool\"},{\"id\":\"1892\",\"type\":\"PanTool\"},{\"id\":\"1893\",\"type\":\"WheelZoomTool\"},{\"id\":\"1894\",\"type\":\"BoxZoomTool\"},{\"id\":\"1895\",\"type\":\"SaveTool\"},{\"id\":\"1896\",\"type\":\"ResetTool\"},{\"id\":\"1897\",\"type\":\"HelpTool\"},{\"id\":\"1906\",\"type\":\"HoverTool\"},{\"id\":\"1935\",\"type\":\"PanTool\"},{\"id\":\"1936\",\"type\":\"WheelZoomTool\"},{\"id\":\"1937\",\"type\":\"BoxZoomTool\"},{\"id\":\"1938\",\"type\":\"SaveTool\"},{\"id\":\"1939\",\"type\":\"ResetTool\"},{\"id\":\"1940\",\"type\":\"HelpTool\"},{\"id\":\"1949\",\"type\":\"HoverTool\"},{\"id\":\"1978\",\"type\":\"PanTool\"},{\"id\":\"1979\",\"type\":\"WheelZoomTool\"},{\"id\":\"1980\",\"type\":\"BoxZoomTool\"},{\"id\":\"1981\",\"type\":\"SaveTool\"},{\"id\":\"1982\",\"type\":\"ResetTool\"},{\"id\":\"1983\",\"type\":\"HelpTool\"},{\"id\":\"1992\",\"type\":\"HoverTool\"}]},\"id\":\"2037\",\"type\":\"ProxyToolbar\"},{\"attributes\":{\"callback\":null,\"data\":{\"index\":[0,1,2,3,4,5,6,7,8,9,10,11,12,13],\"rsid\":[\"NA\",\"rs200055820\",\"NA\",\"NA\",\"rs202148979\",\"NA\",\"NA\",\"NA\",\"NA\",\"NA\",\"NA\",\"NA\",\"NA\",\"rs181597595\"],\"x\":{\"__ndarray__\":\"AgAAAAAA0L/bMxCVjuzJv7r2kMuKgcK/MgzDMAzDwL8QHh4eHh6+v9KkeIFMire/FKEIRShCsb8lx3Ecx3GsvxZogRZogaa/AVnIQhayoL8ZFlhggQWWv2sQkyuIyYW/AAAAAAAAAAAAAAAAAADwPw==\",\"dtype\":\"float64\",\"shape\":[14]},\"y\":{\"__ndarray__\":\"AADXJCf84D4AANckJ/zgPgAA1yQn/OA+AADXJCf84D4AANckJ/zgPgAA1yQn/OA+AADXJCf84D4AANckJ/zgPgAA1yQn/OA+AADXJCf84D4AANckJ/zgPgAA1yQn/OA+AADXJCf84D4AANckJ/zgPg==\",\"dtype\":\"float64\",\"shape\":[14]}},\"selected\":{\"id\":\"2032\",\"type\":\"Selection\"},\"selection_policy\":{\"id\":\"2033\",\"type\":\"UnionRenderers\"}},\"id\":\"1993\",\"type\":\"ColumnDataSource\"},{\"attributes\":{\"overlay\":{\"id\":\"2016\",\"type\":\"BoxAnnotation\"}},\"id\":\"1894\",\"type\":\"BoxZoomTool\"},{\"attributes\":{\"fill_color\":{\"value\":\"#1f77b4\"},\"line_color\":{\"value\":\"#1f77b4\"},\"x\":{\"field\":\"x\"},\"y\":{\"field\":\"y\"}},\"id\":\"1995\",\"type\":\"Circle\"},{\"attributes\":{},\"id\":\"1940\",\"type\":\"HelpTool\"},{\"attributes\":{\"data_source\":{\"id\":\"1993\",\"type\":\"ColumnDataSource\"},\"glyph\":{\"id\":\"1995\",\"type\":\"Circle\"},\"hover_glyph\":null,\"muted_glyph\":null,\"nonselection_glyph\":{\"id\":\"1996\",\"type\":\"Circle\"},\"selection_glyph\":null,\"view\":{\"id\":\"1998\",\"type\":\"CDSView\"}},\"id\":\"1997\",\"type\":\"GlyphRenderer\"},{\"attributes\":{\"overlay\":{\"id\":\"2007\",\"type\":\"BoxAnnotation\"}},\"id\":\"1851\",\"type\":\"BoxZoomTool\"},{\"attributes\":{\"source\":{\"id\":\"1864\",\"type\":\"ColumnDataSource\"}},\"id\":\"1869\",\"type\":\"CDSView\"},{\"attributes\":{},\"id\":\"1939\",\"type\":\"ResetTool\"},{\"attributes\":{\"source\":{\"id\":\"1993\",\"type\":\"ColumnDataSource\"}},\"id\":\"1998\",\"type\":\"CDSView\"},{\"attributes\":{\"overlay\":{\"id\":\"2025\",\"type\":\"BoxAnnotation\"}},\"id\":\"1937\",\"type\":\"BoxZoomTool\"},{\"attributes\":{\"callback\":null,\"data\":{\"index\":[0,1,2,3,4,5,6,7,8,9,10,11,12,13],\"rsid\":[\"NA\",\"rs200055820\",\"NA\",\"NA\",\"rs202148979\",\"NA\",\"NA\",\"NA\",\"NA\",\"NA\",\"NA\",\"NA\",\"NA\",\"rs181597595\"],\"x\":{\"__ndarray__\":\"AgAAAAAA0L/bMxCVjuzJv7r2kMuKgcK/MgzDMAzDwL8QHh4eHh6+v9KkeIFMire/FKEIRShCsb8lx3Ecx3GsvxZogRZogaa/AVnIQhayoL8ZFlhggQWWv2sQkyuIyYW/AAAAAAAAAAAAAAAAAADwPw==\",\"dtype\":\"float64\",\"shape\":[14]},\"y\":{\"__ndarray__\":\"AGAUHdWn+74AYBQd1af7vgBgFB3Vp/u+AGAUHdWn+74AYBQd1af7vgBgFB3Vp/u+AGAUHdWn+74AYBQd1af7vgBgFB3Vp/u+AGAUHdWn+74AYBQd1af7vgBgFB3Vp/u+AGAUHdWn+74AYBQd1af7vg==\",\"dtype\":\"float64\",\"shape\":[14]}},\"selected\":{\"id\":\"2014\",\"type\":\"Selection\"},\"selection_policy\":{\"id\":\"2015\",\"type\":\"UnionRenderers\"}},\"id\":\"1907\",\"type\":\"ColumnDataSource\"},{\"attributes\":{\"fill_alpha\":{\"value\":0.1},\"fill_color\":{\"value\":\"#1f77b4\"},\"line_alpha\":{\"value\":0.1},\"line_color\":{\"value\":\"#1f77b4\"},\"x\":{\"field\":\"x\"},\"y\":{\"field\":\"y\"}},\"id\":\"1867\",\"type\":\"Circle\"},{\"attributes\":{\"fill_alpha\":{\"value\":0.1},\"fill_color\":{\"value\":\"#1f77b4\"},\"line_alpha\":{\"value\":0.1},\"line_color\":{\"value\":\"#1f77b4\"},\"x\":{\"field\":\"x\"},\"y\":{\"field\":\"y\"}},\"id\":\"1910\",\"type\":\"Circle\"},{\"attributes\":{},\"id\":\"1883\",\"type\":\"BasicTicker\"},{\"attributes\":{\"text\":\"Reduction in heterozygosity as explained by principal components\"},\"id\":\"1872\",\"type\":\"Title\"},{\"attributes\":{\"fill_color\":{\"value\":\"#1f77b4\"},\"line_color\":{\"value\":\"#1f77b4\"},\"x\":{\"field\":\"x\"},\"y\":{\"field\":\"y\"}},\"id\":\"1909\",\"type\":\"Circle\"},{\"attributes\":{\"data_source\":{\"id\":\"1907\",\"type\":\"ColumnDataSource\"},\"glyph\":{\"id\":\"1909\",\"type\":\"Circle\"},\"hover_glyph\":null,\"muted_glyph\":null,\"nonselection_glyph\":{\"id\":\"1910\",\"type\":\"Circle\"},\"selection_glyph\":null,\"view\":{\"id\":\"1912\",\"type\":\"CDSView\"}},\"id\":\"1911\",\"type\":\"GlyphRenderer\"},{\"attributes\":{},\"id\":\"1999\",\"type\":\"LogScale\"},{\"attributes\":{},\"id\":\"1870\",\"type\":\"LogScale\"},{\"attributes\":{\"callback\":null},\"id\":\"1876\",\"type\":\"DataRange1d\"},{\"attributes\":{},\"id\":\"1956\",\"type\":\"LogScale\"},{\"attributes\":{\"source\":{\"id\":\"1907\",\"type\":\"ColumnDataSource\"}},\"id\":\"1912\",\"type\":\"CDSView\"},{\"attributes\":{\"callback\":null,\"data\":{\"index\":[0,1,2,3,4,5,6,7,8,9,10,11,12,13],\"rsid\":[\"NA\",\"rs200055820\",\"NA\",\"NA\",\"rs202148979\",\"NA\",\"NA\",\"NA\",\"NA\",\"NA\",\"NA\",\"NA\",\"NA\",\"rs181597595\"],\"x\":{\"__ndarray__\":\"AgAAAAAA0L/bMxCVjuzJv7r2kMuKgcK/MgzDMAzDwL8QHh4eHh6+v9KkeIFMire/FKEIRShCsb8lx3Ecx3GsvxZogRZogaa/AVnIQhayoL8ZFlhggQWWv2sQkyuIyYW/AAAAAAAAAAAAAAAAAADwPw==\",\"dtype\":\"float64\",\"shape\":[14]},\"y\":{\"__ndarray__\":\"AOgxJQ7U8r4A6DElDtTyvgDoMSUO1PK+AOgxJQ7U8r4A6DElDtTyvgDoMSUO1PK+AOgxJQ7U8r4A6DElDtTyvgDoMSUO1PK+AOgxJQ7U8r4A6DElDtTyvgDoMSUO1PK+AOgxJQ7U8r4A6DElDtTyvg==\",\"dtype\":\"float64\",\"shape\":[14]}},\"selected\":{\"id\":\"2023\",\"type\":\"Selection\"},\"selection_policy\":{\"id\":\"2024\",\"type\":\"UnionRenderers\"}},\"id\":\"1950\",\"type\":\"ColumnDataSource\"},{\"attributes\":{},\"id\":\"2032\",\"type\":\"Selection\"},{\"attributes\":{\"ticker\":{\"id\":\"1883\",\"type\":\"BasicTicker\"}},\"id\":\"1886\",\"type\":\"Grid\"},{\"attributes\":{\"callback\":null},\"id\":\"1917\",\"type\":\"DataRange1d\"},{\"attributes\":{\"fill_alpha\":{\"value\":0.1},\"fill_color\":{\"value\":\"#1f77b4\"},\"line_alpha\":{\"value\":0.1},\"line_color\":{\"value\":\"#1f77b4\"},\"x\":{\"field\":\"x\"},\"y\":{\"field\":\"y\"}},\"id\":\"1953\",\"type\":\"Circle\"},{\"attributes\":{\"axis_label\":\"Inbreeding (F) (log10 scale)\",\"formatter\":{\"id\":\"2013\",\"type\":\"BasicTickFormatter\"},\"ticker\":{\"id\":\"1883\",\"type\":\"BasicTicker\"}},\"id\":\"1882\",\"type\":\"LinearAxis\"},{\"attributes\":{\"text\":\"Reduction in heterozygosity as explained by principal components\"},\"id\":\"1915\",\"type\":\"Title\"},{\"attributes\":{\"callback\":null},\"id\":\"1919\",\"type\":\"DataRange1d\"},{\"attributes\":{\"fill_color\":{\"value\":\"#1f77b4\"},\"line_color\":{\"value\":\"#1f77b4\"},\"x\":{\"field\":\"x\"},\"y\":{\"field\":\"y\"}},\"id\":\"1952\",\"type\":\"Circle\"},{\"attributes\":{\"data_source\":{\"id\":\"1950\",\"type\":\"ColumnDataSource\"},\"glyph\":{\"id\":\"1952\",\"type\":\"Circle\"},\"hover_glyph\":null,\"muted_glyph\":null,\"nonselection_glyph\":{\"id\":\"1953\",\"type\":\"Circle\"},\"selection_glyph\":null,\"view\":{\"id\":\"1955\",\"type\":\"CDSView\"}},\"id\":\"1954\",\"type\":\"GlyphRenderer\"},{\"attributes\":{\"below\":[{\"id\":\"1925\",\"type\":\"LinearAxis\"}],\"center\":[{\"id\":\"1929\",\"type\":\"Grid\"},{\"id\":\"1934\",\"type\":\"Grid\"}],\"left\":[{\"id\":\"1930\",\"type\":\"LinearAxis\"}],\"plot_height\":400,\"plot_width\":500,\"renderers\":[{\"id\":\"1954\",\"type\":\"GlyphRenderer\"}],\"title\":{\"id\":\"1915\",\"type\":\"Title\"},\"toolbar\":{\"id\":\"1941\",\"type\":\"Toolbar\"},\"toolbar_location\":null,\"x_range\":{\"id\":\"1917\",\"type\":\"DataRange1d\"},\"x_scale\":{\"id\":\"1956\",\"type\":\"LogScale\"},\"y_range\":{\"id\":\"1919\",\"type\":\"DataRange1d\"},\"y_scale\":{\"id\":\"1923\",\"type\":\"LinearScale\"}},\"id\":\"1914\",\"subtype\":\"Figure\",\"type\":\"Plot\"},{\"attributes\":{},\"id\":\"1880\",\"type\":\"LinearScale\"}],\"root_ids\":[\"2039\"]},\"title\":\"Bokeh Application\",\"version\":\"1.2.0\"}};\n",
       "  var render_items = [{\"docid\":\"4101134e-9323-4ca4-bcf9-59089da04c19\",\"roots\":{\"2039\":\"ab6be94b-80d0-4084-9fa5-9e1c6f1582f7\"}}];\n",
       "  root.Bokeh.embed.embed_items_notebook(docs_json, render_items);\n",
       "\n",
       "  }\n",
       "  if (root.Bokeh !== undefined) {\n",
       "    embed_document(root);\n",
       "  } else {\n",
       "    var attempts = 0;\n",
       "    var timer = setInterval(function(root) {\n",
       "      if (root.Bokeh !== undefined) {\n",
       "        embed_document(root);\n",
       "        clearInterval(timer);\n",
       "      }\n",
       "      attempts++;\n",
       "      if (attempts > 100) {\n",
       "        console.log(\"Bokeh: ERROR: Unable to run BokehJS code because BokehJS library is missing\");\n",
       "        clearInterval(timer);\n",
       "      }\n",
       "    }, 10, root)\n",
       "  }\n",
       "})(window);"
      ],
      "application/vnd.bokehjs_exec.v0+json": ""
     },
     "metadata": {
      "application/vnd.bokehjs_exec.v0+json": {
       "id": "2039"
      }
     },
     "output_type": "display_data"
    }
   ],
   "source": [
    "show(gridplot(plot_list, ncols=2, plot_width=500, plot_height=400))"
   ]
  },
  {
   "cell_type": "code",
   "execution_count": null,
   "metadata": {},
   "outputs": [],
   "source": []
  }
 ],
 "metadata": {
  "kernelspec": {
   "display_name": "Python 3",
   "language": "python",
   "name": "python3"
  },
  "language_info": {
   "codemirror_mode": {
    "name": "ipython",
    "version": 3
   },
   "file_extension": ".py",
   "mimetype": "text/x-python",
   "name": "python",
   "nbconvert_exporter": "python",
   "pygments_lexer": "ipython3",
   "version": "3.6.11"
  }
 },
 "nbformat": 4,
 "nbformat_minor": 4
}
