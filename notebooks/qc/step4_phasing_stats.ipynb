{
 "cells": [
  {
   "cell_type": "markdown",
   "id": "bce29dd8-ad84-4845-8e68-6cbdf6aec6c3",
   "metadata": {},
   "source": [
    "# Pasing statistics"
   ]
  },
  {
   "cell_type": "code",
   "execution_count": 1,
   "id": "00dbc8bc-6f1c-44fd-ac3e-8e147057e40b",
   "metadata": {},
   "outputs": [
    {
     "name": "stderr",
     "output_type": "stream",
     "text": [
      "Running on Apache Spark version 2.4.1\n",
      "SparkUI available at http://hms-beagle-848846b477-48ks9:4040\n",
      "Welcome to\n",
      "     __  __     <>__\n",
      "    / /_/ /__  __/ /\n",
      "   / __  / _ `/ / /\n",
      "  /_/ /_/\\_,_/_/_/   version 0.2.61-3c86d3ba497a\n",
      "LOGGING: writing to /home/olavur/experiments/2020-11-13_fargen1_exome_analysis/fargen-1-exome/notebooks/qc/hail-20210614-1032-0.2.61-3c86d3ba497a.log\n"
     ]
    }
   ],
   "source": [
    "import hail as hl\n",
    "hl.init(spark_conf={'spark.driver.memory': '10g'}, tmp_dir='/home/olavur/tmp')"
   ]
  },
  {
   "cell_type": "code",
   "execution_count": 2,
   "id": "86940f33-6e72-44f5-a02c-41b739857f59",
   "metadata": {},
   "outputs": [
    {
     "data": {
      "text/html": [
       "\n",
       "    <div class=\"bk-root\">\n",
       "        <a href=\"https://bokeh.pydata.org\" target=\"_blank\" class=\"bk-logo bk-logo-small bk-logo-notebook\"></a>\n",
       "        <span id=\"1001\">Loading BokehJS ...</span>\n",
       "    </div>"
      ]
     },
     "metadata": {},
     "output_type": "display_data"
    },
    {
     "data": {
      "application/javascript": [
       "\n",
       "(function(root) {\n",
       "  function now() {\n",
       "    return new Date();\n",
       "  }\n",
       "\n",
       "  var force = true;\n",
       "\n",
       "  if (typeof root._bokeh_onload_callbacks === \"undefined\" || force === true) {\n",
       "    root._bokeh_onload_callbacks = [];\n",
       "    root._bokeh_is_loading = undefined;\n",
       "  }\n",
       "\n",
       "  var JS_MIME_TYPE = 'application/javascript';\n",
       "  var HTML_MIME_TYPE = 'text/html';\n",
       "  var EXEC_MIME_TYPE = 'application/vnd.bokehjs_exec.v0+json';\n",
       "  var CLASS_NAME = 'output_bokeh rendered_html';\n",
       "\n",
       "  /**\n",
       "   * Render data to the DOM node\n",
       "   */\n",
       "  function render(props, node) {\n",
       "    var script = document.createElement(\"script\");\n",
       "    node.appendChild(script);\n",
       "  }\n",
       "\n",
       "  /**\n",
       "   * Handle when an output is cleared or removed\n",
       "   */\n",
       "  function handleClearOutput(event, handle) {\n",
       "    var cell = handle.cell;\n",
       "\n",
       "    var id = cell.output_area._bokeh_element_id;\n",
       "    var server_id = cell.output_area._bokeh_server_id;\n",
       "    // Clean up Bokeh references\n",
       "    if (id != null && id in Bokeh.index) {\n",
       "      Bokeh.index[id].model.document.clear();\n",
       "      delete Bokeh.index[id];\n",
       "    }\n",
       "\n",
       "    if (server_id !== undefined) {\n",
       "      // Clean up Bokeh references\n",
       "      var cmd = \"from bokeh.io.state import curstate; print(curstate().uuid_to_server['\" + server_id + \"'].get_sessions()[0].document.roots[0]._id)\";\n",
       "      cell.notebook.kernel.execute(cmd, {\n",
       "        iopub: {\n",
       "          output: function(msg) {\n",
       "            var id = msg.content.text.trim();\n",
       "            if (id in Bokeh.index) {\n",
       "              Bokeh.index[id].model.document.clear();\n",
       "              delete Bokeh.index[id];\n",
       "            }\n",
       "          }\n",
       "        }\n",
       "      });\n",
       "      // Destroy server and session\n",
       "      var cmd = \"import bokeh.io.notebook as ion; ion.destroy_server('\" + server_id + \"')\";\n",
       "      cell.notebook.kernel.execute(cmd);\n",
       "    }\n",
       "  }\n",
       "\n",
       "  /**\n",
       "   * Handle when a new output is added\n",
       "   */\n",
       "  function handleAddOutput(event, handle) {\n",
       "    var output_area = handle.output_area;\n",
       "    var output = handle.output;\n",
       "\n",
       "    // limit handleAddOutput to display_data with EXEC_MIME_TYPE content only\n",
       "    if ((output.output_type != \"display_data\") || (!output.data.hasOwnProperty(EXEC_MIME_TYPE))) {\n",
       "      return\n",
       "    }\n",
       "\n",
       "    var toinsert = output_area.element.find(\".\" + CLASS_NAME.split(' ')[0]);\n",
       "\n",
       "    if (output.metadata[EXEC_MIME_TYPE][\"id\"] !== undefined) {\n",
       "      toinsert[toinsert.length - 1].firstChild.textContent = output.data[JS_MIME_TYPE];\n",
       "      // store reference to embed id on output_area\n",
       "      output_area._bokeh_element_id = output.metadata[EXEC_MIME_TYPE][\"id\"];\n",
       "    }\n",
       "    if (output.metadata[EXEC_MIME_TYPE][\"server_id\"] !== undefined) {\n",
       "      var bk_div = document.createElement(\"div\");\n",
       "      bk_div.innerHTML = output.data[HTML_MIME_TYPE];\n",
       "      var script_attrs = bk_div.children[0].attributes;\n",
       "      for (var i = 0; i < script_attrs.length; i++) {\n",
       "        toinsert[toinsert.length - 1].firstChild.setAttribute(script_attrs[i].name, script_attrs[i].value);\n",
       "      }\n",
       "      // store reference to server id on output_area\n",
       "      output_area._bokeh_server_id = output.metadata[EXEC_MIME_TYPE][\"server_id\"];\n",
       "    }\n",
       "  }\n",
       "\n",
       "  function register_renderer(events, OutputArea) {\n",
       "\n",
       "    function append_mime(data, metadata, element) {\n",
       "      // create a DOM node to render to\n",
       "      var toinsert = this.create_output_subarea(\n",
       "        metadata,\n",
       "        CLASS_NAME,\n",
       "        EXEC_MIME_TYPE\n",
       "      );\n",
       "      this.keyboard_manager.register_events(toinsert);\n",
       "      // Render to node\n",
       "      var props = {data: data, metadata: metadata[EXEC_MIME_TYPE]};\n",
       "      render(props, toinsert[toinsert.length - 1]);\n",
       "      element.append(toinsert);\n",
       "      return toinsert\n",
       "    }\n",
       "\n",
       "    /* Handle when an output is cleared or removed */\n",
       "    events.on('clear_output.CodeCell', handleClearOutput);\n",
       "    events.on('delete.Cell', handleClearOutput);\n",
       "\n",
       "    /* Handle when a new output is added */\n",
       "    events.on('output_added.OutputArea', handleAddOutput);\n",
       "\n",
       "    /**\n",
       "     * Register the mime type and append_mime function with output_area\n",
       "     */\n",
       "    OutputArea.prototype.register_mime_type(EXEC_MIME_TYPE, append_mime, {\n",
       "      /* Is output safe? */\n",
       "      safe: true,\n",
       "      /* Index of renderer in `output_area.display_order` */\n",
       "      index: 0\n",
       "    });\n",
       "  }\n",
       "\n",
       "  // register the mime type if in Jupyter Notebook environment and previously unregistered\n",
       "  if (root.Jupyter !== undefined) {\n",
       "    var events = require('base/js/events');\n",
       "    var OutputArea = require('notebook/js/outputarea').OutputArea;\n",
       "\n",
       "    if (OutputArea.prototype.mime_types().indexOf(EXEC_MIME_TYPE) == -1) {\n",
       "      register_renderer(events, OutputArea);\n",
       "    }\n",
       "  }\n",
       "\n",
       "  \n",
       "  if (typeof (root._bokeh_timeout) === \"undefined\" || force === true) {\n",
       "    root._bokeh_timeout = Date.now() + 5000;\n",
       "    root._bokeh_failed_load = false;\n",
       "  }\n",
       "\n",
       "  var NB_LOAD_WARNING = {'data': {'text/html':\n",
       "     \"<div style='background-color: #fdd'>\\n\"+\n",
       "     \"<p>\\n\"+\n",
       "     \"BokehJS does not appear to have successfully loaded. If loading BokehJS from CDN, this \\n\"+\n",
       "     \"may be due to a slow or bad network connection. Possible fixes:\\n\"+\n",
       "     \"</p>\\n\"+\n",
       "     \"<ul>\\n\"+\n",
       "     \"<li>re-rerun `output_notebook()` to attempt to load from CDN again, or</li>\\n\"+\n",
       "     \"<li>use INLINE resources instead, as so:</li>\\n\"+\n",
       "     \"</ul>\\n\"+\n",
       "     \"<code>\\n\"+\n",
       "     \"from bokeh.resources import INLINE\\n\"+\n",
       "     \"output_notebook(resources=INLINE)\\n\"+\n",
       "     \"</code>\\n\"+\n",
       "     \"</div>\"}};\n",
       "\n",
       "  function display_loaded() {\n",
       "    var el = document.getElementById(\"1001\");\n",
       "    if (el != null) {\n",
       "      el.textContent = \"BokehJS is loading...\";\n",
       "    }\n",
       "    if (root.Bokeh !== undefined) {\n",
       "      if (el != null) {\n",
       "        el.textContent = \"BokehJS \" + root.Bokeh.version + \" successfully loaded.\";\n",
       "      }\n",
       "    } else if (Date.now() < root._bokeh_timeout) {\n",
       "      setTimeout(display_loaded, 100)\n",
       "    }\n",
       "  }\n",
       "\n",
       "\n",
       "  function run_callbacks() {\n",
       "    try {\n",
       "      root._bokeh_onload_callbacks.forEach(function(callback) {\n",
       "        if (callback != null)\n",
       "          callback();\n",
       "      });\n",
       "    } finally {\n",
       "      delete root._bokeh_onload_callbacks\n",
       "    }\n",
       "    console.debug(\"Bokeh: all callbacks have finished\");\n",
       "  }\n",
       "\n",
       "  function load_libs(css_urls, js_urls, callback) {\n",
       "    if (css_urls == null) css_urls = [];\n",
       "    if (js_urls == null) js_urls = [];\n",
       "\n",
       "    root._bokeh_onload_callbacks.push(callback);\n",
       "    if (root._bokeh_is_loading > 0) {\n",
       "      console.debug(\"Bokeh: BokehJS is being loaded, scheduling callback at\", now());\n",
       "      return null;\n",
       "    }\n",
       "    if (js_urls == null || js_urls.length === 0) {\n",
       "      run_callbacks();\n",
       "      return null;\n",
       "    }\n",
       "    console.debug(\"Bokeh: BokehJS not loaded, scheduling load and callback at\", now());\n",
       "    root._bokeh_is_loading = css_urls.length + js_urls.length;\n",
       "\n",
       "    function on_load() {\n",
       "      root._bokeh_is_loading--;\n",
       "      if (root._bokeh_is_loading === 0) {\n",
       "        console.debug(\"Bokeh: all BokehJS libraries/stylesheets loaded\");\n",
       "        run_callbacks()\n",
       "      }\n",
       "    }\n",
       "\n",
       "    function on_error() {\n",
       "      console.error(\"failed to load \" + url);\n",
       "    }\n",
       "\n",
       "    for (var i = 0; i < css_urls.length; i++) {\n",
       "      var url = css_urls[i];\n",
       "      const element = document.createElement(\"link\");\n",
       "      element.onload = on_load;\n",
       "      element.onerror = on_error;\n",
       "      element.rel = \"stylesheet\";\n",
       "      element.type = \"text/css\";\n",
       "      element.href = url;\n",
       "      console.debug(\"Bokeh: injecting link tag for BokehJS stylesheet: \", url);\n",
       "      document.body.appendChild(element);\n",
       "    }\n",
       "\n",
       "    for (var i = 0; i < js_urls.length; i++) {\n",
       "      var url = js_urls[i];\n",
       "      var element = document.createElement('script');\n",
       "      element.onload = on_load;\n",
       "      element.onerror = on_error;\n",
       "      element.async = false;\n",
       "      element.src = url;\n",
       "      console.debug(\"Bokeh: injecting script tag for BokehJS library: \", url);\n",
       "      document.head.appendChild(element);\n",
       "    }\n",
       "  };var element = document.getElementById(\"1001\");\n",
       "  if (element == null) {\n",
       "    console.error(\"Bokeh: ERROR: autoload.js configured with elementid '1001' but no matching script tag was found. \")\n",
       "    return false;\n",
       "  }\n",
       "\n",
       "  function inject_raw_css(css) {\n",
       "    const element = document.createElement(\"style\");\n",
       "    element.appendChild(document.createTextNode(css));\n",
       "    document.body.appendChild(element);\n",
       "  }\n",
       "\n",
       "  var js_urls = [\"https://cdn.pydata.org/bokeh/release/bokeh-1.2.0.min.js\", \"https://cdn.pydata.org/bokeh/release/bokeh-widgets-1.2.0.min.js\", \"https://cdn.pydata.org/bokeh/release/bokeh-tables-1.2.0.min.js\", \"https://cdn.pydata.org/bokeh/release/bokeh-gl-1.2.0.min.js\"];\n",
       "  var css_urls = [\"https://cdn.pydata.org/bokeh/release/bokeh-1.2.0.min.css\", \"https://cdn.pydata.org/bokeh/release/bokeh-widgets-1.2.0.min.css\", \"https://cdn.pydata.org/bokeh/release/bokeh-tables-1.2.0.min.css\"];\n",
       "\n",
       "  var inline_js = [\n",
       "    function(Bokeh) {\n",
       "      Bokeh.set_log_level(\"info\");\n",
       "    },\n",
       "    \n",
       "    function(Bokeh) {\n",
       "      \n",
       "    },\n",
       "    function(Bokeh) {} // ensure no trailing comma for IE\n",
       "  ];\n",
       "\n",
       "  function run_inline_js() {\n",
       "    \n",
       "    if ((root.Bokeh !== undefined) || (force === true)) {\n",
       "      for (var i = 0; i < inline_js.length; i++) {\n",
       "        inline_js[i].call(root, root.Bokeh);\n",
       "      }if (force === true) {\n",
       "        display_loaded();\n",
       "      }} else if (Date.now() < root._bokeh_timeout) {\n",
       "      setTimeout(run_inline_js, 100);\n",
       "    } else if (!root._bokeh_failed_load) {\n",
       "      console.log(\"Bokeh: BokehJS failed to load within specified timeout.\");\n",
       "      root._bokeh_failed_load = true;\n",
       "    } else if (force !== true) {\n",
       "      var cell = $(document.getElementById(\"1001\")).parents('.cell').data().cell;\n",
       "      cell.output_area.append_execute_result(NB_LOAD_WARNING)\n",
       "    }\n",
       "\n",
       "  }\n",
       "\n",
       "  if (root._bokeh_is_loading === 0) {\n",
       "    console.debug(\"Bokeh: BokehJS loaded, going straight to plotting\");\n",
       "    run_inline_js();\n",
       "  } else {\n",
       "    load_libs(css_urls, js_urls, function() {\n",
       "      console.debug(\"Bokeh: BokehJS plotting callback run at\", now());\n",
       "      run_inline_js();\n",
       "    });\n",
       "  }\n",
       "}(window));"
      ],
      "application/vnd.bokehjs_load.v0+json": "\n(function(root) {\n  function now() {\n    return new Date();\n  }\n\n  var force = true;\n\n  if (typeof root._bokeh_onload_callbacks === \"undefined\" || force === true) {\n    root._bokeh_onload_callbacks = [];\n    root._bokeh_is_loading = undefined;\n  }\n\n  \n\n  \n  if (typeof (root._bokeh_timeout) === \"undefined\" || force === true) {\n    root._bokeh_timeout = Date.now() + 5000;\n    root._bokeh_failed_load = false;\n  }\n\n  var NB_LOAD_WARNING = {'data': {'text/html':\n     \"<div style='background-color: #fdd'>\\n\"+\n     \"<p>\\n\"+\n     \"BokehJS does not appear to have successfully loaded. If loading BokehJS from CDN, this \\n\"+\n     \"may be due to a slow or bad network connection. Possible fixes:\\n\"+\n     \"</p>\\n\"+\n     \"<ul>\\n\"+\n     \"<li>re-rerun `output_notebook()` to attempt to load from CDN again, or</li>\\n\"+\n     \"<li>use INLINE resources instead, as so:</li>\\n\"+\n     \"</ul>\\n\"+\n     \"<code>\\n\"+\n     \"from bokeh.resources import INLINE\\n\"+\n     \"output_notebook(resources=INLINE)\\n\"+\n     \"</code>\\n\"+\n     \"</div>\"}};\n\n  function display_loaded() {\n    var el = document.getElementById(\"1001\");\n    if (el != null) {\n      el.textContent = \"BokehJS is loading...\";\n    }\n    if (root.Bokeh !== undefined) {\n      if (el != null) {\n        el.textContent = \"BokehJS \" + root.Bokeh.version + \" successfully loaded.\";\n      }\n    } else if (Date.now() < root._bokeh_timeout) {\n      setTimeout(display_loaded, 100)\n    }\n  }\n\n\n  function run_callbacks() {\n    try {\n      root._bokeh_onload_callbacks.forEach(function(callback) {\n        if (callback != null)\n          callback();\n      });\n    } finally {\n      delete root._bokeh_onload_callbacks\n    }\n    console.debug(\"Bokeh: all callbacks have finished\");\n  }\n\n  function load_libs(css_urls, js_urls, callback) {\n    if (css_urls == null) css_urls = [];\n    if (js_urls == null) js_urls = [];\n\n    root._bokeh_onload_callbacks.push(callback);\n    if (root._bokeh_is_loading > 0) {\n      console.debug(\"Bokeh: BokehJS is being loaded, scheduling callback at\", now());\n      return null;\n    }\n    if (js_urls == null || js_urls.length === 0) {\n      run_callbacks();\n      return null;\n    }\n    console.debug(\"Bokeh: BokehJS not loaded, scheduling load and callback at\", now());\n    root._bokeh_is_loading = css_urls.length + js_urls.length;\n\n    function on_load() {\n      root._bokeh_is_loading--;\n      if (root._bokeh_is_loading === 0) {\n        console.debug(\"Bokeh: all BokehJS libraries/stylesheets loaded\");\n        run_callbacks()\n      }\n    }\n\n    function on_error() {\n      console.error(\"failed to load \" + url);\n    }\n\n    for (var i = 0; i < css_urls.length; i++) {\n      var url = css_urls[i];\n      const element = document.createElement(\"link\");\n      element.onload = on_load;\n      element.onerror = on_error;\n      element.rel = \"stylesheet\";\n      element.type = \"text/css\";\n      element.href = url;\n      console.debug(\"Bokeh: injecting link tag for BokehJS stylesheet: \", url);\n      document.body.appendChild(element);\n    }\n\n    for (var i = 0; i < js_urls.length; i++) {\n      var url = js_urls[i];\n      var element = document.createElement('script');\n      element.onload = on_load;\n      element.onerror = on_error;\n      element.async = false;\n      element.src = url;\n      console.debug(\"Bokeh: injecting script tag for BokehJS library: \", url);\n      document.head.appendChild(element);\n    }\n  };var element = document.getElementById(\"1001\");\n  if (element == null) {\n    console.error(\"Bokeh: ERROR: autoload.js configured with elementid '1001' but no matching script tag was found. \")\n    return false;\n  }\n\n  function inject_raw_css(css) {\n    const element = document.createElement(\"style\");\n    element.appendChild(document.createTextNode(css));\n    document.body.appendChild(element);\n  }\n\n  var js_urls = [\"https://cdn.pydata.org/bokeh/release/bokeh-1.2.0.min.js\", \"https://cdn.pydata.org/bokeh/release/bokeh-widgets-1.2.0.min.js\", \"https://cdn.pydata.org/bokeh/release/bokeh-tables-1.2.0.min.js\", \"https://cdn.pydata.org/bokeh/release/bokeh-gl-1.2.0.min.js\"];\n  var css_urls = [\"https://cdn.pydata.org/bokeh/release/bokeh-1.2.0.min.css\", \"https://cdn.pydata.org/bokeh/release/bokeh-widgets-1.2.0.min.css\", \"https://cdn.pydata.org/bokeh/release/bokeh-tables-1.2.0.min.css\"];\n\n  var inline_js = [\n    function(Bokeh) {\n      Bokeh.set_log_level(\"info\");\n    },\n    \n    function(Bokeh) {\n      \n    },\n    function(Bokeh) {} // ensure no trailing comma for IE\n  ];\n\n  function run_inline_js() {\n    \n    if ((root.Bokeh !== undefined) || (force === true)) {\n      for (var i = 0; i < inline_js.length; i++) {\n        inline_js[i].call(root, root.Bokeh);\n      }if (force === true) {\n        display_loaded();\n      }} else if (Date.now() < root._bokeh_timeout) {\n      setTimeout(run_inline_js, 100);\n    } else if (!root._bokeh_failed_load) {\n      console.log(\"Bokeh: BokehJS failed to load within specified timeout.\");\n      root._bokeh_failed_load = true;\n    } else if (force !== true) {\n      var cell = $(document.getElementById(\"1001\")).parents('.cell').data().cell;\n      cell.output_area.append_execute_result(NB_LOAD_WARNING)\n    }\n\n  }\n\n  if (root._bokeh_is_loading === 0) {\n    console.debug(\"Bokeh: BokehJS loaded, going straight to plotting\");\n    run_inline_js();\n  } else {\n    load_libs(css_urls, js_urls, function() {\n      console.debug(\"Bokeh: BokehJS plotting callback run at\", now());\n      run_inline_js();\n    });\n  }\n}(window));"
     },
     "metadata": {},
     "output_type": "display_data"
    }
   ],
   "source": [
    "from bokeh.io import show, output_notebook\n",
    "from bokeh.layouts import gridplot\n",
    "from bokeh.models.scales import LogScale\n",
    "output_notebook()"
   ]
  },
  {
   "cell_type": "code",
   "execution_count": 3,
   "id": "d97596e6-a449-460d-a8c2-6e78e712c02c",
   "metadata": {},
   "outputs": [],
   "source": [
    "import pandas as pd"
   ]
  },
  {
   "cell_type": "markdown",
   "id": "65cc9eb1-eaee-4c55-9d3f-8d498b6d0102",
   "metadata": {},
   "source": [
    "## Import data"
   ]
  },
  {
   "cell_type": "code",
   "execution_count": 4,
   "id": "5b67966c-f38e-4fb7-878e-e3085e54ee82",
   "metadata": {},
   "outputs": [],
   "source": [
    "BASE_DIR = '/home/olavur/experiments/2020-11-13_fargen1_exome_analysis'"
   ]
  },
  {
   "cell_type": "code",
   "execution_count": 63,
   "id": "3fbb6ce4-77e8-49af-9eb0-8d3c132f72fa",
   "metadata": {},
   "outputs": [],
   "source": [
    "mt = hl.read_matrix_table(BASE_DIR + '/data/mt/high_quality_variants.mt/')"
   ]
  },
  {
   "cell_type": "code",
   "execution_count": 64,
   "id": "843a421e-5dc6-4818-91f3-d4624676f40c",
   "metadata": {},
   "outputs": [
    {
     "name": "stdout",
     "output_type": "stream",
     "text": [
      "Number of variants: 1146382\n",
      "Number of samples: 468\n"
     ]
    }
   ],
   "source": [
    "n_variants, n_samples = mt.count()\n",
    "print('Number of variants: ' + str(n_variants))\n",
    "print('Number of samples: ' + str(n_samples))"
   ]
  },
  {
   "cell_type": "markdown",
   "id": "246e4ff8-48f4-4757-92cb-8d1df208858f",
   "metadata": {},
   "source": [
    "## Phasing statistics\n",
    "\n",
    "### Phased heterozygotes\n",
    "\n",
    "Calculate number of phased heterozygotes per sample.\n",
    "\n",
    "**NOTE:** we only look at heterozygotes, because in principle, the phase of any homozygote variants are known trivially. Therefore, if we include homozygous variants, in principle our phase block stretches from the first to the last homozygote on the chromosome."
   ]
  },
  {
   "cell_type": "code",
   "execution_count": 90,
   "id": "fb59b3b6-385b-4790-b3cd-b9c925febbb1",
   "metadata": {},
   "outputs": [],
   "source": [
    "# Get all heterozygotes.\n",
    "het_mt = mt.filter_entries(mt.GT.is_het())\n",
    "\n",
    "# For each sample, count number of phased heterozygotes and number of heterozygotes.\n",
    "het_mt = het_mt.annotate_cols(n_phased_hets=hl.agg.count_where(het_mt.GT.phased), n_hets = hl.agg.count_where(het_mt.GT.is_het()))\n",
    "\n",
    "# Calculate fraction of phased heterozygotes.\n",
    "het_mt = het_mt.annotate_cols(phased_hets_fraction = het_mt.n_phased_hets / het_mt.n_hets)"
   ]
  },
  {
   "cell_type": "markdown",
   "id": "5d7cc4cf-aa0e-469f-b1ce-f63faff3b95a",
   "metadata": {},
   "source": [
    "The plot below shows the distribution of the fraction of phased heterozygotes for all samples. The majority of the samples have a fraction somewhere between 0.6 and 0.7, while a few have as low as 0.4, and a single sample has about 0.2."
   ]
  },
  {
   "cell_type": "code",
   "execution_count": 91,
   "id": "7db4e968-0121-491b-b863-84df7b854b2d",
   "metadata": {},
   "outputs": [
    {
     "data": {
      "text/html": [
       "\n",
       "\n",
       "\n",
       "\n",
       "\n",
       "\n",
       "  <div class=\"bk-root\" id=\"1771aaa3-461e-462a-8a20-1f548f7fc3e4\" data-root-id=\"7067\"></div>\n"
      ]
     },
     "metadata": {},
     "output_type": "display_data"
    },
    {
     "data": {
      "application/javascript": [
       "(function(root) {\n",
       "  function embed_document(root) {\n",
       "    \n",
       "  var docs_json = {\"dcf7afc5-d4be-4a5f-85b8-4301bc0cfc37\":{\"roots\":{\"references\":[{\"attributes\":{\"background_fill_color\":{\"value\":\"#EEEEEE\"},\"below\":[{\"id\":\"7078\",\"type\":\"LinearAxis\"}],\"center\":[{\"id\":\"7082\",\"type\":\"Grid\"},{\"id\":\"7087\",\"type\":\"Grid\"}],\"left\":[{\"id\":\"7083\",\"type\":\"LinearAxis\"}],\"plot_height\":500,\"plot_width\":800,\"renderers\":[{\"id\":\"7104\",\"type\":\"GlyphRenderer\"}],\"title\":{\"id\":\"7068\",\"type\":\"Title\"},\"toolbar\":{\"id\":\"7094\",\"type\":\"Toolbar\"},\"x_range\":{\"id\":\"7070\",\"type\":\"Range1d\"},\"x_scale\":{\"id\":\"7074\",\"type\":\"LinearScale\"},\"y_range\":{\"id\":\"7072\",\"type\":\"DataRange1d\"},\"y_scale\":{\"id\":\"7076\",\"type\":\"LinearScale\"}},\"id\":\"7067\",\"subtype\":\"Figure\",\"type\":\"Plot\"},{\"attributes\":{},\"id\":\"7358\",\"type\":\"UnionRenderers\"},{\"attributes\":{},\"id\":\"7088\",\"type\":\"PanTool\"},{\"attributes\":{\"active_drag\":\"auto\",\"active_inspect\":\"auto\",\"active_multi\":null,\"active_scroll\":\"auto\",\"active_tap\":\"auto\",\"tools\":[{\"id\":\"7088\",\"type\":\"PanTool\"},{\"id\":\"7089\",\"type\":\"WheelZoomTool\"},{\"id\":\"7090\",\"type\":\"BoxZoomTool\"},{\"id\":\"7091\",\"type\":\"SaveTool\"},{\"id\":\"7092\",\"type\":\"ResetTool\"},{\"id\":\"7093\",\"type\":\"HelpTool\"}]},\"id\":\"7094\",\"type\":\"Toolbar\"},{\"attributes\":{\"dimension\":1,\"ticker\":{\"id\":\"7084\",\"type\":\"BasicTicker\"}},\"id\":\"7087\",\"type\":\"Grid\"},{\"attributes\":{\"bottom_units\":\"screen\",\"fill_alpha\":{\"value\":0.5},\"fill_color\":{\"value\":\"lightgrey\"},\"left_units\":\"screen\",\"level\":\"overlay\",\"line_alpha\":{\"value\":1.0},\"line_color\":{\"value\":\"black\"},\"line_dash\":[4,4],\"line_width\":{\"value\":2},\"render_mode\":\"css\",\"right_units\":\"screen\",\"top_units\":\"screen\"},\"id\":\"7359\",\"type\":\"BoxAnnotation\"},{\"attributes\":{\"text\":\"Histogram of fraction of phased heterozygotes per sample\"},\"id\":\"7068\",\"type\":\"Title\"},{\"attributes\":{\"callback\":null,\"data\":{\"left\":[0.20887865126132965,0.21921730428934097,0.2295559573173523,0.2398946103453636,0.2502332633733749,0.26057191640138627,0.27091056942939756,0.2812492224574089,0.2915878754854202,0.30192652851343155,0.3122651815414429,0.3226038345694542,0.33294248759746553,0.3432811406254769,0.35361979365348817,0.36395844668149946,0.3742970997095108,0.38463575273752215,0.39497440576553344,0.40531305879354473,0.4156517118215561,0.4259903648495674,0.4363290178775787,0.44666767090559006,0.4570063239336014,0.4673449769616127,0.47768362998962405,0.48802228301763534,0.4983609360456467,0.508699589073658,0.5190382421016693,0.5293768951296807,0.539715548157692,0.5500542011857033,0.5603928542137147,0.5707315072417259,0.5810701602697372,0.5914088132977486,0.6017474663257598,0.6120861193537712,0.6224247723817825,0.6327634254097938,0.6431020784378052,0.6534407314658165,0.6637793844938278,0.6741180375218392,0.6844566905498505,0.6947953435778618,0.7051339966058732,0.7154726496338845],\"right\":[0.21921730428934097,0.2295559573173523,0.2398946103453636,0.2502332633733749,0.26057191640138627,0.27091056942939756,0.2812492224574089,0.2915878754854202,0.30192652851343155,0.3122651815414429,0.3226038345694542,0.33294248759746553,0.3432811406254769,0.35361979365348817,0.36395844668149946,0.3742970997095108,0.38463575273752215,0.39497440576553344,0.40531305879354473,0.4156517118215561,0.4259903648495674,0.4363290178775787,0.44666767090559006,0.4570063239336014,0.4673449769616127,0.47768362998962405,0.48802228301763534,0.4983609360456467,0.508699589073658,0.5190382421016693,0.5293768951296807,0.539715548157692,0.5500542011857033,0.5603928542137147,0.5707315072417259,0.5810701602697372,0.5914088132977486,0.6017474663257598,0.6120861193537712,0.6224247723817825,0.6327634254097938,0.6431020784378052,0.6534407314658165,0.6637793844938278,0.6741180375218392,0.6844566905498505,0.6947953435778618,0.7051339966058732,0.7154726496338845,0.7258113026618958],\"top\":[1,0,0,0,0,0,0,0,0,0,0,0,0,0,0,0,0,3,3,2,2,0,1,3,3,3,3,1,3,2,2,5,5,4,3,9,16,17,22,18,24,49,46,64,47,55,30,10,8,4]},\"selected\":{\"id\":\"7357\",\"type\":\"Selection\"},\"selection_policy\":{\"id\":\"7358\",\"type\":\"UnionRenderers\"}},\"id\":\"7101\",\"type\":\"ColumnDataSource\"},{\"attributes\":{\"callback\":null,\"end\":0.751657935231924,\"start\":0.18303201869130134},\"id\":\"7070\",\"type\":\"Range1d\"},{\"attributes\":{},\"id\":\"7092\",\"type\":\"ResetTool\"},{\"attributes\":{\"ticker\":{\"id\":\"7079\",\"type\":\"BasicTicker\"}},\"id\":\"7082\",\"type\":\"Grid\"},{\"attributes\":{},\"id\":\"7076\",\"type\":\"LinearScale\"},{\"attributes\":{},\"id\":\"7354\",\"type\":\"BasicTickFormatter\"},{\"attributes\":{},\"id\":\"7084\",\"type\":\"BasicTicker\"},{\"attributes\":{},\"id\":\"7074\",\"type\":\"LinearScale\"},{\"attributes\":{\"data_source\":{\"id\":\"7101\",\"type\":\"ColumnDataSource\"},\"glyph\":{\"id\":\"7102\",\"type\":\"Quad\"},\"hover_glyph\":null,\"muted_glyph\":null,\"nonselection_glyph\":{\"id\":\"7103\",\"type\":\"Quad\"},\"selection_glyph\":null,\"view\":{\"id\":\"7105\",\"type\":\"CDSView\"}},\"id\":\"7104\",\"type\":\"GlyphRenderer\"},{\"attributes\":{\"source\":{\"id\":\"7101\",\"type\":\"ColumnDataSource\"}},\"id\":\"7105\",\"type\":\"CDSView\"},{\"attributes\":{\"overlay\":{\"id\":\"7359\",\"type\":\"BoxAnnotation\"}},\"id\":\"7090\",\"type\":\"BoxZoomTool\"},{\"attributes\":{},\"id\":\"7356\",\"type\":\"BasicTickFormatter\"},{\"attributes\":{\"callback\":null},\"id\":\"7072\",\"type\":\"DataRange1d\"},{\"attributes\":{},\"id\":\"7093\",\"type\":\"HelpTool\"},{\"attributes\":{},\"id\":\"7357\",\"type\":\"Selection\"},{\"attributes\":{\"formatter\":{\"id\":\"7356\",\"type\":\"BasicTickFormatter\"},\"ticker\":{\"id\":\"7079\",\"type\":\"BasicTicker\"}},\"id\":\"7078\",\"type\":\"LinearAxis\"},{\"attributes\":{},\"id\":\"7089\",\"type\":\"WheelZoomTool\"},{\"attributes\":{},\"id\":\"7091\",\"type\":\"SaveTool\"},{\"attributes\":{\"axis_label\":\"Frequency\",\"formatter\":{\"id\":\"7354\",\"type\":\"BasicTickFormatter\"},\"ticker\":{\"id\":\"7084\",\"type\":\"BasicTicker\"}},\"id\":\"7083\",\"type\":\"LinearAxis\"},{\"attributes\":{},\"id\":\"7079\",\"type\":\"BasicTicker\"},{\"attributes\":{\"bottom\":{\"value\":0},\"fill_alpha\":{\"value\":0.1},\"fill_color\":{\"value\":\"#1f77b4\"},\"left\":{\"field\":\"left\"},\"line_alpha\":{\"value\":0.1},\"line_color\":{\"value\":\"#1f77b4\"},\"right\":{\"field\":\"right\"},\"top\":{\"field\":\"top\"}},\"id\":\"7103\",\"type\":\"Quad\"},{\"attributes\":{\"bottom\":{\"value\":0},\"fill_color\":{\"value\":\"#1f77b4\"},\"left\":{\"field\":\"left\"},\"right\":{\"field\":\"right\"},\"top\":{\"field\":\"top\"}},\"id\":\"7102\",\"type\":\"Quad\"}],\"root_ids\":[\"7067\"]},\"title\":\"Bokeh Application\",\"version\":\"1.2.0\"}};\n",
       "  var render_items = [{\"docid\":\"dcf7afc5-d4be-4a5f-85b8-4301bc0cfc37\",\"roots\":{\"7067\":\"1771aaa3-461e-462a-8a20-1f548f7fc3e4\"}}];\n",
       "  root.Bokeh.embed.embed_items_notebook(docs_json, render_items);\n",
       "\n",
       "  }\n",
       "  if (root.Bokeh !== undefined) {\n",
       "    embed_document(root);\n",
       "  } else {\n",
       "    var attempts = 0;\n",
       "    var timer = setInterval(function(root) {\n",
       "      if (root.Bokeh !== undefined) {\n",
       "        embed_document(root);\n",
       "        clearInterval(timer);\n",
       "      }\n",
       "      attempts++;\n",
       "      if (attempts > 100) {\n",
       "        console.log(\"Bokeh: ERROR: Unable to run BokehJS code because BokehJS library is missing\");\n",
       "        clearInterval(timer);\n",
       "      }\n",
       "    }, 10, root)\n",
       "  }\n",
       "})(window);"
      ],
      "application/vnd.bokehjs_exec.v0+json": ""
     },
     "metadata": {
      "application/vnd.bokehjs_exec.v0+json": {
       "id": "7067"
      }
     },
     "output_type": "display_data"
    }
   ],
   "source": [
    "p = hl.plot.histogram(het_mt.phased_hets_fraction, title='Histogram of fraction of phased heterozygotes per sample')\n",
    "p.plot_width = 800\n",
    "p.plot_height = 500\n",
    "show(p)"
   ]
  },
  {
   "cell_type": "markdown",
   "id": "a9fe0037-a88a-4985-a5b8-ada780e0a744",
   "metadata": {},
   "source": [
    "For each sample, calculate the fraction of heterozygotes per gene.\n",
    "\n",
    "First we annotate each variant with gene name. Note that since there may be multiple transcripts overlapping any variant site, there may be multiple gene names. So we just arbitrarily pick the first gene in the list."
   ]
  },
  {
   "cell_type": "code",
   "execution_count": 114,
   "id": "f90546f6-b2cc-46b8-a4a1-ebfee5f0dce1",
   "metadata": {},
   "outputs": [],
   "source": [
    "# Get the gene name from variant annotation.\n",
    "# The annotation field is an array with one element for each transcript for the particular site.\n",
    "# The various information in the annotation is separated by a pipe (\"|\").\n",
    "het_mt = het_mt.annotate_rows(gene = het_mt.info.ANN.map(lambda x: x.split('\\|')[3]))\n",
    "\n",
    "# We will only look at one of the genes, so we arbitrarily pick the first in the list.\n",
    "het_mt = het_mt.annotate_rows(gene1 = het_mt.gene[0])"
   ]
  },
  {
   "cell_type": "code",
   "execution_count": 80,
   "id": "37a98e8a-97dc-4e5b-bd02-68d98eef75b4",
   "metadata": {},
   "outputs": [],
   "source": [
    "# Get the entries as a Hail table indexed by locus, alleles and sample.\n",
    "entries = het_mt.entries()\n",
    "\n",
    "# Group entries by sample and gene name.\n",
    "gene_groups_ht = entries.group_by(sample_group=entries.s, gene_group=entries.gene1)\n",
    "\n",
    "# For each sample and gene group, calculate the number of phased heterozygotes, the number of heterozygotes, and the fraction of phased heterozygotes.\n",
    "gene_stats_ht = gene_groups_ht.aggregate(n_phased_hets=hl.agg.count_where(entries.GT.phased), n_hets = hl.agg.count_where(entries.GT.is_het()))\n",
    "\n",
    "gene_stats_ht = gene_stats_ht.annotate(phased_hets_fraction = gene_stats_ht.n_phased_hets / gene_stats_ht.n_hets)"
   ]
  },
  {
   "cell_type": "code",
   "execution_count": 83,
   "id": "ff81d4ee-e0d5-46d6-ab79-1a888eeab1a5",
   "metadata": {},
   "outputs": [
    {
     "name": "stderr",
     "output_type": "stream",
     "text": [
      "2021-06-14 11:44:28 Hail: INFO: Ordering unsorted dataset with network shuffle\n",
      "2021-06-14 11:46:04 Hail: INFO: Ordering unsorted dataset with network shuffle\n",
      "2021-06-14 11:46:42 Hail: INFO: Ordering unsorted dataset with network shuffle\n",
      "2021-06-14 11:47:03 Hail: INFO: wrote table with 8212659 rows in 37 partitions to /home/olavur/tmp/gene_phasing_stats.ht\n",
      "    Total size: 121.50 MiB\n",
      "    * Rows: 121.50 MiB\n",
      "    * Globals: 11.00 B\n",
      "    * Smallest partition: 148496 rows (2.19 MiB)\n",
      "    * Largest partition:  413807 rows (6.13 MiB)\n"
     ]
    }
   ],
   "source": [
    "# FIXME: checkpoint only for testing, remove.\n",
    "# Cache all operations by making a checkpoint.\n",
    "gene_stats_ht = gene_stats_ht.checkpoint('/home/olavur/tmp/gene_phasing_stats.ht', overwrite=True)"
   ]
  },
  {
   "cell_type": "markdown",
   "id": "3014ac20-7960-4e1f-8f78-613378050182",
   "metadata": {},
   "source": [
    "For each sample, count number of fully phased genes, that is, where the fraction of phased heterozygotes is 1."
   ]
  },
  {
   "cell_type": "code",
   "execution_count": 85,
   "id": "ae087fe5-faa1-45ac-9027-715a23ee36c4",
   "metadata": {},
   "outputs": [],
   "source": [
    "phased_genes_ht = (gene_stats_ht.group_by(sample_group = gene_stats_ht.sample_group)\n",
    "    .aggregate(phased_genes = hl.agg.count_where(gene_stats_ht.phased_hets_fraction  == 1.0)))"
   ]
  },
  {
   "cell_type": "code",
   "execution_count": 88,
   "id": "3cb9a471-e194-43a8-bdbb-3056b612a84e",
   "metadata": {},
   "outputs": [
    {
     "name": "stderr",
     "output_type": "stream",
     "text": [
      "2021-06-14 11:52:27 Hail: INFO: Ordering unsorted dataset with network shuffle\n",
      "2021-06-14 11:52:28 Hail: INFO: Ordering unsorted dataset with network shuffle\n"
     ]
    },
    {
     "data": {
      "text/html": [
       "\n",
       "\n",
       "\n",
       "\n",
       "\n",
       "\n",
       "  <div class=\"bk-root\" id=\"f57a5d71-5a4c-4591-acc4-c97d6d0823f2\" data-root-id=\"6734\"></div>\n"
      ]
     },
     "metadata": {},
     "output_type": "display_data"
    },
    {
     "data": {
      "application/javascript": [
       "(function(root) {\n",
       "  function embed_document(root) {\n",
       "    \n",
       "  var docs_json = {\"3d03f3d6-233b-4c96-b038-eb2856e5d975\":{\"roots\":{\"references\":[{\"attributes\":{\"background_fill_color\":{\"value\":\"#EEEEEE\"},\"below\":[{\"id\":\"6745\",\"type\":\"LinearAxis\"}],\"center\":[{\"id\":\"6749\",\"type\":\"Grid\"},{\"id\":\"6754\",\"type\":\"Grid\"}],\"left\":[{\"id\":\"6750\",\"type\":\"LinearAxis\"}],\"plot_height\":500,\"plot_width\":800,\"renderers\":[{\"id\":\"6771\",\"type\":\"GlyphRenderer\"}],\"title\":{\"id\":\"6735\",\"type\":\"Title\"},\"toolbar\":{\"id\":\"6761\",\"type\":\"Toolbar\"},\"x_range\":{\"id\":\"6737\",\"type\":\"Range1d\"},\"x_scale\":{\"id\":\"6741\",\"type\":\"LinearScale\"},\"y_range\":{\"id\":\"6739\",\"type\":\"DataRange1d\"},\"y_scale\":{\"id\":\"6743\",\"type\":\"LinearScale\"}},\"id\":\"6734\",\"subtype\":\"Figure\",\"type\":\"Plot\"},{\"attributes\":{\"text\":\"Histogram of number of fully phased genes per sample\"},\"id\":\"6735\",\"type\":\"Title\"},{\"attributes\":{\"callback\":null},\"id\":\"6739\",\"type\":\"DataRange1d\"},{\"attributes\":{},\"id\":\"6755\",\"type\":\"PanTool\"},{\"attributes\":{},\"id\":\"6751\",\"type\":\"BasicTicker\"},{\"attributes\":{},\"id\":\"7017\",\"type\":\"UnionRenderers\"},{\"attributes\":{\"ticker\":{\"id\":\"6746\",\"type\":\"BasicTicker\"}},\"id\":\"6749\",\"type\":\"Grid\"},{\"attributes\":{\"callback\":null,\"data\":{\"left\":[483.0,582.94,682.88,782.8199999999999,882.76,982.7,1082.6399999999999,1182.58,1282.52,1382.46,1482.4,1582.34,1682.28,1782.22,1882.1599999999999,1982.1,2082.04,2181.98,2281.92,2381.8599999999997,2481.8,2581.74,2681.68,2781.62,2881.56,2981.5,3081.44,3181.38,3281.3199999999997,3381.2599999999998,3481.2,3581.14,3681.08,3781.02,3880.96,3980.9,4080.84,4180.78,4280.719999999999,4380.66,4480.6,4580.54,4680.48,4780.42,4880.36,4980.3,5080.24,5180.18,5280.12,5380.0599999999995],\"right\":[582.94,682.88,782.8199999999999,882.76,982.7,1082.6399999999999,1182.58,1282.52,1382.46,1482.4,1582.34,1682.28,1782.22,1882.1599999999999,1982.1,2082.04,2181.98,2281.92,2381.8599999999997,2481.8,2581.74,2681.68,2781.62,2881.56,2981.5,3081.44,3181.38,3281.3199999999997,3381.2599999999998,3481.2,3581.14,3681.08,3781.02,3880.96,3980.9,4080.84,4180.78,4280.719999999999,4380.66,4480.6,4580.54,4680.48,4780.42,4880.36,4980.3,5080.24,5180.18,5280.12,5380.0599999999995,5480.0],\"top\":[1,0,0,0,0,2,2,1,2,1,4,0,5,6,1,0,2,5,1,2,4,2,5,4,5,9,12,14,8,15,11,12,15,35,28,29,30,31,40,30,21,20,20,8,11,3,4,2,2,3]},\"selected\":{\"id\":\"7016\",\"type\":\"Selection\"},\"selection_policy\":{\"id\":\"7017\",\"type\":\"UnionRenderers\"}},\"id\":\"6768\",\"type\":\"ColumnDataSource\"},{\"attributes\":{\"callback\":null,\"end\":5729.85,\"start\":233.14999999999998},\"id\":\"6737\",\"type\":\"Range1d\"},{\"attributes\":{\"formatter\":{\"id\":\"7015\",\"type\":\"BasicTickFormatter\"},\"ticker\":{\"id\":\"6746\",\"type\":\"BasicTicker\"}},\"id\":\"6745\",\"type\":\"LinearAxis\"},{\"attributes\":{},\"id\":\"6741\",\"type\":\"LinearScale\"},{\"attributes\":{\"axis_label\":\"Frequency\",\"formatter\":{\"id\":\"7013\",\"type\":\"BasicTickFormatter\"},\"ticker\":{\"id\":\"6751\",\"type\":\"BasicTicker\"}},\"id\":\"6750\",\"type\":\"LinearAxis\"},{\"attributes\":{\"source\":{\"id\":\"6768\",\"type\":\"ColumnDataSource\"}},\"id\":\"6772\",\"type\":\"CDSView\"},{\"attributes\":{},\"id\":\"6746\",\"type\":\"BasicTicker\"},{\"attributes\":{\"overlay\":{\"id\":\"7018\",\"type\":\"BoxAnnotation\"}},\"id\":\"6757\",\"type\":\"BoxZoomTool\"},{\"attributes\":{\"active_drag\":\"auto\",\"active_inspect\":\"auto\",\"active_multi\":null,\"active_scroll\":\"auto\",\"active_tap\":\"auto\",\"tools\":[{\"id\":\"6755\",\"type\":\"PanTool\"},{\"id\":\"6756\",\"type\":\"WheelZoomTool\"},{\"id\":\"6757\",\"type\":\"BoxZoomTool\"},{\"id\":\"6758\",\"type\":\"SaveTool\"},{\"id\":\"6759\",\"type\":\"ResetTool\"},{\"id\":\"6760\",\"type\":\"HelpTool\"}]},\"id\":\"6761\",\"type\":\"Toolbar\"},{\"attributes\":{\"bottom\":{\"value\":0},\"fill_color\":{\"value\":\"#1f77b4\"},\"left\":{\"field\":\"left\"},\"right\":{\"field\":\"right\"},\"top\":{\"field\":\"top\"}},\"id\":\"6769\",\"type\":\"Quad\"},{\"attributes\":{\"bottom\":{\"value\":0},\"fill_alpha\":{\"value\":0.1},\"fill_color\":{\"value\":\"#1f77b4\"},\"left\":{\"field\":\"left\"},\"line_alpha\":{\"value\":0.1},\"line_color\":{\"value\":\"#1f77b4\"},\"right\":{\"field\":\"right\"},\"top\":{\"field\":\"top\"}},\"id\":\"6770\",\"type\":\"Quad\"},{\"attributes\":{},\"id\":\"7016\",\"type\":\"Selection\"},{\"attributes\":{\"data_source\":{\"id\":\"6768\",\"type\":\"ColumnDataSource\"},\"glyph\":{\"id\":\"6769\",\"type\":\"Quad\"},\"hover_glyph\":null,\"muted_glyph\":null,\"nonselection_glyph\":{\"id\":\"6770\",\"type\":\"Quad\"},\"selection_glyph\":null,\"view\":{\"id\":\"6772\",\"type\":\"CDSView\"}},\"id\":\"6771\",\"type\":\"GlyphRenderer\"},{\"attributes\":{},\"id\":\"7013\",\"type\":\"BasicTickFormatter\"},{\"attributes\":{},\"id\":\"6759\",\"type\":\"ResetTool\"},{\"attributes\":{},\"id\":\"6743\",\"type\":\"LinearScale\"},{\"attributes\":{},\"id\":\"6760\",\"type\":\"HelpTool\"},{\"attributes\":{},\"id\":\"6758\",\"type\":\"SaveTool\"},{\"attributes\":{},\"id\":\"6756\",\"type\":\"WheelZoomTool\"},{\"attributes\":{},\"id\":\"7015\",\"type\":\"BasicTickFormatter\"},{\"attributes\":{\"bottom_units\":\"screen\",\"fill_alpha\":{\"value\":0.5},\"fill_color\":{\"value\":\"lightgrey\"},\"left_units\":\"screen\",\"level\":\"overlay\",\"line_alpha\":{\"value\":1.0},\"line_color\":{\"value\":\"black\"},\"line_dash\":[4,4],\"line_width\":{\"value\":2},\"render_mode\":\"css\",\"right_units\":\"screen\",\"top_units\":\"screen\"},\"id\":\"7018\",\"type\":\"BoxAnnotation\"},{\"attributes\":{\"dimension\":1,\"ticker\":{\"id\":\"6751\",\"type\":\"BasicTicker\"}},\"id\":\"6754\",\"type\":\"Grid\"}],\"root_ids\":[\"6734\"]},\"title\":\"Bokeh Application\",\"version\":\"1.2.0\"}};\n",
       "  var render_items = [{\"docid\":\"3d03f3d6-233b-4c96-b038-eb2856e5d975\",\"roots\":{\"6734\":\"f57a5d71-5a4c-4591-acc4-c97d6d0823f2\"}}];\n",
       "  root.Bokeh.embed.embed_items_notebook(docs_json, render_items);\n",
       "\n",
       "  }\n",
       "  if (root.Bokeh !== undefined) {\n",
       "    embed_document(root);\n",
       "  } else {\n",
       "    var attempts = 0;\n",
       "    var timer = setInterval(function(root) {\n",
       "      if (root.Bokeh !== undefined) {\n",
       "        embed_document(root);\n",
       "        clearInterval(timer);\n",
       "      }\n",
       "      attempts++;\n",
       "      if (attempts > 100) {\n",
       "        console.log(\"Bokeh: ERROR: Unable to run BokehJS code because BokehJS library is missing\");\n",
       "        clearInterval(timer);\n",
       "      }\n",
       "    }, 10, root)\n",
       "  }\n",
       "})(window);"
      ],
      "application/vnd.bokehjs_exec.v0+json": ""
     },
     "metadata": {
      "application/vnd.bokehjs_exec.v0+json": {
       "id": "6734"
      }
     },
     "output_type": "display_data"
    }
   ],
   "source": [
    "p = hl.plot.histogram(phased_genes_ht.phased_genes, title='Histogram of number of fully phased genes per sample')\n",
    "p.plot_width = 800\n",
    "p.plot_height = 500\n",
    "show(p)"
   ]
  },
  {
   "cell_type": "markdown",
   "id": "fd86fc51-4893-4b65-a801-24e3282e9db9",
   "metadata": {},
   "source": [
    "### Phase block lengths\n",
    "\n",
    "Calculate the lengths of the phase blocks. Phase blocks are defined by the `PS` 'phase set' tag on the genotypes. The `PS` tag is an integer equal to the position of the first variant in the phase block.\n",
    "\n",
    "We will obtain the start and end positions of each phase block, defined as the positions of the first and last variants in each phase set. We will use these to calculate the phase block lengths. We will also calculate the number of variants in each phase block."
   ]
  },
  {
   "cell_type": "code",
   "execution_count": 61,
   "id": "6a03f180-5a61-4891-b09f-b06b487517d3",
   "metadata": {},
   "outputs": [],
   "source": [
    "# Get the entries as a Hail table indexed by locus, alleles and sample.\n",
    "entries = het_mt.entries()\n",
    "\n",
    "# Group entries by phase set, chromosome, and sample.\n",
    "ps_groups_ht = entries.group_by(PS_group=entries.PS, chrom_group=entries.locus.contig, sample_group=entries.s)\n",
    "\n",
    "# For each sample and chromosome, obtain the start and end positions of each phase set, and count the number of variants in the phase sets.\n",
    "ps_stats_ht = ps_groups_ht.aggregate(ps_start=hl.agg.min(entries.locus.position), ps_stop=hl.agg.max(entries.locus.position), ps_count=hl.agg.count())\n",
    "\n",
    "# Calculate the lengths of the phase sets.\n",
    "ps_stats_ht = ps_stats_ht.annotate(ps_length = ps_stats_ht.ps_stop - ps_stats_ht.ps_start)"
   ]
  },
  {
   "cell_type": "code",
   "execution_count": 44,
   "id": "85898826-e61d-4710-a5ca-5219fefb518b",
   "metadata": {},
   "outputs": [
    {
     "name": "stderr",
     "output_type": "stream",
     "text": [
      "2021-06-14 10:57:20 Hail: INFO: Ordering unsorted dataset with network shuffle\n",
      "2021-06-14 10:57:36 Hail: INFO: wrote table with 4017621 rows in 37 partitions to /home/olavur/tmp/phasing_stats.ht\n",
      "    Total size: 71.18 MiB\n",
      "    * Rows: 71.18 MiB\n",
      "    * Globals: 11.00 B\n",
      "    * Smallest partition: 76453 rows (1.32 MiB)\n",
      "    * Largest partition:  160761 rows (2.81 MiB)\n"
     ]
    }
   ],
   "source": [
    "# FIXME: checkpoint only for testing, remove.\n",
    "# Cache all operations by making a checkpoint.\n",
    "ps_stats_ht = ps_stats_ht.checkpoint('/home/olavur/tmp/phasing_stats.ht', overwrite=True)"
   ]
  },
  {
   "cell_type": "markdown",
   "id": "e317706d-b33f-4665-86c1-96a6af120d34",
   "metadata": {},
   "source": [
    "Calculate phase block length summary statistics for each sample."
   ]
  },
  {
   "cell_type": "code",
   "execution_count": 45,
   "id": "7f9a5006-c003-45f6-99a6-3ca8c465d87e",
   "metadata": {},
   "outputs": [],
   "source": [
    "ps_len_stats_ht = (ps_stats_ht.group_by(ps_stats_ht.sample_group)\n",
    "    .aggregate(stats = hl.agg.stats(ps_stats_ht.ps_length)))"
   ]
  },
  {
   "cell_type": "code",
   "execution_count": 112,
   "id": "acd5a153-92e2-424f-8d38-5005fb49c61c",
   "metadata": {},
   "outputs": [
    {
     "name": "stderr",
     "output_type": "stream",
     "text": [
      "2021-06-14 13:39:29 Hail: INFO: Ordering unsorted dataset with network shuffle\n"
     ]
    },
    {
     "data": {
      "text/html": [
       "\n",
       "\n",
       "\n",
       "\n",
       "\n",
       "\n",
       "  <div class=\"bk-root\" id=\"29a0cb3a-d111-4edf-af76-841e50151787\" data-root-id=\"8112\"></div>\n"
      ]
     },
     "metadata": {},
     "output_type": "display_data"
    },
    {
     "data": {
      "application/javascript": [
       "(function(root) {\n",
       "  function embed_document(root) {\n",
       "    \n",
       "  var docs_json = {\"e51515ee-be97-4ced-ad9e-9126d21ae1c8\":{\"roots\":{\"references\":[{\"attributes\":{\"below\":[{\"id\":\"8123\",\"type\":\"LinearAxis\"}],\"center\":[{\"id\":\"8127\",\"type\":\"Grid\"},{\"id\":\"8132\",\"type\":\"Grid\"}],\"left\":[{\"id\":\"8128\",\"type\":\"LinearAxis\"}],\"plot_height\":500,\"plot_width\":800,\"renderers\":[{\"id\":\"8152\",\"type\":\"GlyphRenderer\"}],\"title\":{\"id\":\"8113\",\"type\":\"Title\"},\"toolbar\":{\"id\":\"8139\",\"type\":\"Toolbar\"},\"x_range\":{\"id\":\"8115\",\"type\":\"DataRange1d\"},\"x_scale\":{\"id\":\"8119\",\"type\":\"LinearScale\"},\"y_range\":{\"id\":\"8117\",\"type\":\"DataRange1d\"},\"y_scale\":{\"id\":\"8121\",\"type\":\"LinearScale\"}},\"id\":\"8112\",\"subtype\":\"Figure\",\"type\":\"Plot\"},{\"attributes\":{\"axis_label\":\"St.dev. of length\",\"formatter\":{\"id\":\"8426\",\"type\":\"BasicTickFormatter\"},\"ticker\":{\"id\":\"8129\",\"type\":\"BasicTicker\"}},\"id\":\"8128\",\"type\":\"LinearAxis\"},{\"attributes\":{\"source\":{\"id\":\"8148\",\"type\":\"ColumnDataSource\"}},\"id\":\"8153\",\"type\":\"CDSView\"},{\"attributes\":{},\"id\":\"8133\",\"type\":\"PanTool\"},{\"attributes\":{},\"id\":\"8430\",\"type\":\"UnionRenderers\"},{\"attributes\":{\"callback\":null,\"data\":{\"index\":[0,1,2,3,4,5,6,7,8,9,10,11,12,13,14,15,16,17,18,19,20,21,22,23,24,25,26,27,28,29,30,31,32,33,34,35,36,37,38,39,40,41,42,43,44,45,46,47,48,49,50,51,52,53,54,55,56,57,58,59,60,61,62,63,64,65,66,67,68,69,70,71,72,73,74,75,76,77,78,79,80,81,82,83,84,85,86,87,88,89,90,91,92,93,94,95,96,97,98,99,100,101,102,103,104,105,106,107,108,109,110,111,112,113,114,115,116,117,118,119,120,121,122,123,124,125,126,127,128,129,130,131,132,133,134,135,136,137,138,139,140,141,142,143,144,145,146,147,148,149,150,151,152,153,154,155,156,157,158,159,160,161,162,163,164,165,166,167,168,169,170,171,172,173,174,175,176,177,178,179,180,181,182,183,184,185,186,187,188,189,190,191,192,193,194,195,196,197,198,199,200,201,202,203,204,205,206,207,208,209,210,211,212,213,214,215,216,217,218,219,220,221,222,223,224,225,226,227,228,229,230,231,232,233,234,235,236,237,238,239,240,241,242,243,244,245,246,247],\"x\":{\"__ndarray__\":\"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\",\"dtype\":\"float64\",\"shape\":[248]},\"y\":{\"__ndarray__\":\"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\",\"dtype\":\"float64\",\"shape\":[248]}},\"selected\":{\"id\":\"8429\",\"type\":\"Selection\"},\"selection_policy\":{\"id\":\"8430\",\"type\":\"UnionRenderers\"}},\"id\":\"8148\",\"type\":\"ColumnDataSource\"},{\"attributes\":{},\"id\":\"8428\",\"type\":\"BasicTickFormatter\"},{\"attributes\":{},\"id\":\"8121\",\"type\":\"LinearScale\"},{\"attributes\":{\"callback\":null,\"tooltips\":[[\"x\",\"@x\"],[\"y\",\"@y\"]]},\"id\":\"8147\",\"type\":\"HoverTool\"},{\"attributes\":{\"axis_label\":\"Mean length\",\"formatter\":{\"id\":\"8428\",\"type\":\"BasicTickFormatter\"},\"ticker\":{\"id\":\"8124\",\"type\":\"BasicTicker\"}},\"id\":\"8123\",\"type\":\"LinearAxis\"},{\"attributes\":{\"callback\":null},\"id\":\"8115\",\"type\":\"DataRange1d\"},{\"attributes\":{},\"id\":\"8119\",\"type\":\"LinearScale\"},{\"attributes\":{},\"id\":\"8134\",\"type\":\"WheelZoomTool\"},{\"attributes\":{},\"id\":\"8129\",\"type\":\"BasicTicker\"},{\"attributes\":{},\"id\":\"8426\",\"type\":\"BasicTickFormatter\"},{\"attributes\":{\"fill_color\":{\"value\":\"#1f77b4\"},\"line_color\":{\"value\":\"#1f77b4\"},\"x\":{\"field\":\"x\"},\"y\":{\"field\":\"y\"}},\"id\":\"8150\",\"type\":\"Circle\"},{\"attributes\":{},\"id\":\"8137\",\"type\":\"ResetTool\"},{\"attributes\":{\"fill_alpha\":{\"value\":0.1},\"fill_color\":{\"value\":\"#1f77b4\"},\"line_alpha\":{\"value\":0.1},\"line_color\":{\"value\":\"#1f77b4\"},\"x\":{\"field\":\"x\"},\"y\":{\"field\":\"y\"}},\"id\":\"8151\",\"type\":\"Circle\"},{\"attributes\":{},\"id\":\"8429\",\"type\":\"Selection\"},{\"attributes\":{},\"id\":\"8124\",\"type\":\"BasicTicker\"},{\"attributes\":{\"bottom_units\":\"screen\",\"fill_alpha\":{\"value\":0.5},\"fill_color\":{\"value\":\"lightgrey\"},\"left_units\":\"screen\",\"level\":\"overlay\",\"line_alpha\":{\"value\":1.0},\"line_color\":{\"value\":\"black\"},\"line_dash\":[4,4],\"line_width\":{\"value\":2},\"render_mode\":\"css\",\"right_units\":\"screen\",\"top_units\":\"screen\"},\"id\":\"8431\",\"type\":\"BoxAnnotation\"},{\"attributes\":{},\"id\":\"8136\",\"type\":\"SaveTool\"},{\"attributes\":{\"callback\":null},\"id\":\"8117\",\"type\":\"DataRange1d\"},{\"attributes\":{\"active_drag\":\"auto\",\"active_inspect\":\"auto\",\"active_multi\":null,\"active_scroll\":\"auto\",\"active_tap\":\"auto\",\"tools\":[{\"id\":\"8133\",\"type\":\"PanTool\"},{\"id\":\"8134\",\"type\":\"WheelZoomTool\"},{\"id\":\"8135\",\"type\":\"BoxZoomTool\"},{\"id\":\"8136\",\"type\":\"SaveTool\"},{\"id\":\"8137\",\"type\":\"ResetTool\"},{\"id\":\"8138\",\"type\":\"HelpTool\"},{\"id\":\"8147\",\"type\":\"HoverTool\"}]},\"id\":\"8139\",\"type\":\"Toolbar\"},{\"attributes\":{\"dimension\":1,\"ticker\":{\"id\":\"8129\",\"type\":\"BasicTicker\"}},\"id\":\"8132\",\"type\":\"Grid\"},{\"attributes\":{\"data_source\":{\"id\":\"8148\",\"type\":\"ColumnDataSource\"},\"glyph\":{\"id\":\"8150\",\"type\":\"Circle\"},\"hover_glyph\":null,\"muted_glyph\":null,\"nonselection_glyph\":{\"id\":\"8151\",\"type\":\"Circle\"},\"selection_glyph\":null,\"view\":{\"id\":\"8153\",\"type\":\"CDSView\"}},\"id\":\"8152\",\"type\":\"GlyphRenderer\"},{\"attributes\":{\"overlay\":{\"id\":\"8431\",\"type\":\"BoxAnnotation\"}},\"id\":\"8135\",\"type\":\"BoxZoomTool\"},{\"attributes\":{\"text\":\"Phase block lengths\"},\"id\":\"8113\",\"type\":\"Title\"},{\"attributes\":{},\"id\":\"8138\",\"type\":\"HelpTool\"},{\"attributes\":{\"ticker\":{\"id\":\"8124\",\"type\":\"BasicTicker\"}},\"id\":\"8127\",\"type\":\"Grid\"}],\"root_ids\":[\"8112\"]},\"title\":\"Bokeh Application\",\"version\":\"1.2.0\"}};\n",
       "  var render_items = [{\"docid\":\"e51515ee-be97-4ced-ad9e-9126d21ae1c8\",\"roots\":{\"8112\":\"29a0cb3a-d111-4edf-af76-841e50151787\"}}];\n",
       "  root.Bokeh.embed.embed_items_notebook(docs_json, render_items);\n",
       "\n",
       "  }\n",
       "  if (root.Bokeh !== undefined) {\n",
       "    embed_document(root);\n",
       "  } else {\n",
       "    var attempts = 0;\n",
       "    var timer = setInterval(function(root) {\n",
       "      if (root.Bokeh !== undefined) {\n",
       "        embed_document(root);\n",
       "        clearInterval(timer);\n",
       "      }\n",
       "      attempts++;\n",
       "      if (attempts > 100) {\n",
       "        console.log(\"Bokeh: ERROR: Unable to run BokehJS code because BokehJS library is missing\");\n",
       "        clearInterval(timer);\n",
       "      }\n",
       "    }, 10, root)\n",
       "  }\n",
       "})(window);"
      ],
      "application/vnd.bokehjs_exec.v0+json": ""
     },
     "metadata": {
      "application/vnd.bokehjs_exec.v0+json": {
       "id": "8112"
      }
     },
     "output_type": "display_data"
    }
   ],
   "source": [
    "p = hl.plot.scatter(ps_len_stats_ht.stats.mean, ps_len_stats_ht.stats.stdev, xlabel='Mean length', ylabel='St.dev. of length', title='Phase block lengths')\n",
    "p.plot_width = 800\n",
    "p.plot_height = 500\n",
    "show(p)"
   ]
  },
  {
   "cell_type": "code",
   "execution_count": 108,
   "id": "08e24d23-9f7e-4c36-bf3b-3d7a7179e983",
   "metadata": {},
   "outputs": [
    {
     "name": "stderr",
     "output_type": "stream",
     "text": [
      "2021-06-14 13:31:10 Hail: INFO: Ordering unsorted dataset with network shuffle\n",
      "2021-06-14 13:31:30 Hail: INFO: Ordering unsorted dataset with network shuffle\n"
     ]
    },
    {
     "data": {
      "text/html": [
       "\n",
       "\n",
       "\n",
       "\n",
       "\n",
       "\n",
       "  <div class=\"bk-root\" id=\"613d7f12-b70c-4758-aea8-ef044a479766\" data-root-id=\"7408\"></div>\n"
      ]
     },
     "metadata": {},
     "output_type": "display_data"
    },
    {
     "data": {
      "application/javascript": [
       "(function(root) {\n",
       "  function embed_document(root) {\n",
       "    \n",
       "  var docs_json = {\"69f9503c-dc8e-4451-98bb-a4970ceaf8b7\":{\"roots\":{\"references\":[{\"attributes\":{\"background_fill_color\":{\"value\":\"#EEEEEE\"},\"below\":[{\"id\":\"7418\",\"type\":\"LinearAxis\"}],\"center\":[{\"id\":\"7422\",\"type\":\"Grid\"},{\"id\":\"7427\",\"type\":\"Grid\"}],\"left\":[{\"id\":\"7423\",\"type\":\"LinearAxis\"}],\"renderers\":[{\"id\":\"7444\",\"type\":\"GlyphRenderer\"}],\"title\":null,\"toolbar\":{\"id\":\"7434\",\"type\":\"Toolbar\"},\"x_range\":{\"id\":\"7410\",\"type\":\"Range1d\"},\"x_scale\":{\"id\":\"7414\",\"type\":\"LinearScale\"},\"y_range\":{\"id\":\"7412\",\"type\":\"DataRange1d\"},\"y_scale\":{\"id\":\"7416\",\"type\":\"LinearScale\"}},\"id\":\"7408\",\"subtype\":\"Figure\",\"type\":\"Plot\"},{\"attributes\":{},\"id\":\"7432\",\"type\":\"ResetTool\"},{\"attributes\":{},\"id\":\"7433\",\"type\":\"HelpTool\"},{\"attributes\":{\"callback\":null},\"id\":\"7412\",\"type\":\"DataRange1d\"},{\"attributes\":{},\"id\":\"7705\",\"type\":\"Selection\"},{\"attributes\":{\"dimension\":1,\"ticker\":{\"id\":\"7424\",\"type\":\"BasicTicker\"}},\"id\":\"7427\",\"type\":\"Grid\"},{\"attributes\":{\"callback\":null,\"data\":{\"left\":[255329.16896345117,263269.99423579365,271210.8195081361,279151.64478047856,287092.47005282104,295033.2953251635,302974.12059750594,310914.9458698484,318855.7711421909,326796.5964145333,334737.4216868758,342678.2469592183,350619.0722315607,358559.8975039032,366500.7227762457,374441.54804858816,382382.37332093064,390323.19859327306,398264.02386561554,406204.849137958,414145.67441030045,422086.4996826429,430027.3249549854,437968.15022732783,445908.9754996703,453849.8007720128,461790.6260443552,469731.45131669776,477672.2765890402,485613.10186138266,493553.92713372514,501494.75240606756,509435.57767841005,517376.4029507525,525317.228223095,533258.0534954374,541198.8787677799,549139.7040401225,557080.5293124649,565021.3545848073,572962.1798571497,580903.0051294921,588843.8304018347,596784.6556741772,604725.4809465196,612666.3062188621,620607.1314912045,628547.956763547,636488.7820358895,644429.607308232],\"right\":[263269.99423579365,271210.8195081361,279151.64478047856,287092.47005282104,295033.2953251635,302974.12059750594,310914.9458698484,318855.7711421909,326796.5964145333,334737.4216868758,342678.2469592183,350619.0722315607,358559.8975039032,366500.7227762457,374441.54804858816,382382.37332093064,390323.19859327306,398264.02386561554,406204.849137958,414145.67441030045,422086.4996826429,430027.3249549854,437968.15022732783,445908.9754996703,453849.8007720128,461790.6260443552,469731.45131669776,477672.2765890402,485613.10186138266,493553.92713372514,501494.75240606756,509435.57767841005,517376.4029507525,525317.228223095,533258.0534954374,541198.8787677799,549139.7040401225,557080.5293124649,565021.3545848073,572962.1798571497,580903.0051294921,588843.8304018347,596784.6556741772,604725.4809465196,612666.3062188621,620607.1314912045,628547.956763547,636488.7820358895,644429.607308232,652370.4325805744],\"top\":[1,5,6,6,1,3,4,2,4,4,14,30,31,66,76,88,66,42,11,4,1,1,0,1,0,0,0,0,0,0,0,0,0,0,0,0,0,0,0,0,0,0,0,0,0,0,0,0,0,1]},\"selected\":{\"id\":\"7705\",\"type\":\"Selection\"},\"selection_policy\":{\"id\":\"7706\",\"type\":\"UnionRenderers\"}},\"id\":\"7441\",\"type\":\"ColumnDataSource\"},{\"attributes\":{},\"id\":\"7704\",\"type\":\"BasicTickFormatter\"},{\"attributes\":{\"active_drag\":\"auto\",\"active_inspect\":\"auto\",\"active_multi\":null,\"active_scroll\":\"auto\",\"active_tap\":\"auto\",\"tools\":[{\"id\":\"7428\",\"type\":\"PanTool\"},{\"id\":\"7429\",\"type\":\"WheelZoomTool\"},{\"id\":\"7430\",\"type\":\"BoxZoomTool\"},{\"id\":\"7431\",\"type\":\"SaveTool\"},{\"id\":\"7432\",\"type\":\"ResetTool\"},{\"id\":\"7433\",\"type\":\"HelpTool\"}]},\"id\":\"7434\",\"type\":\"Toolbar\"},{\"attributes\":{},\"id\":\"7416\",\"type\":\"LinearScale\"},{\"attributes\":{},\"id\":\"7428\",\"type\":\"PanTool\"},{\"attributes\":{},\"id\":\"7431\",\"type\":\"SaveTool\"},{\"attributes\":{},\"id\":\"7414\",\"type\":\"LinearScale\"},{\"attributes\":{\"bottom_units\":\"screen\",\"fill_alpha\":{\"value\":0.5},\"fill_color\":{\"value\":\"lightgrey\"},\"left_units\":\"screen\",\"level\":\"overlay\",\"line_alpha\":{\"value\":1.0},\"line_color\":{\"value\":\"black\"},\"line_dash\":[4,4],\"line_width\":{\"value\":2},\"render_mode\":\"css\",\"right_units\":\"screen\",\"top_units\":\"screen\"},\"id\":\"7707\",\"type\":\"BoxAnnotation\"},{\"attributes\":{\"bottom\":{\"value\":0},\"fill_alpha\":{\"value\":0.1},\"fill_color\":{\"value\":\"#1f77b4\"},\"left\":{\"field\":\"left\"},\"line_alpha\":{\"value\":0.1},\"line_color\":{\"value\":\"#1f77b4\"},\"right\":{\"field\":\"right\"},\"top\":{\"field\":\"top\"}},\"id\":\"7443\",\"type\":\"Quad\"},{\"attributes\":{\"callback\":null,\"end\":672222.4957614306,\"start\":235477.105782595},\"id\":\"7410\",\"type\":\"Range1d\"},{\"attributes\":{\"formatter\":{\"id\":\"7704\",\"type\":\"BasicTickFormatter\"},\"ticker\":{\"id\":\"7419\",\"type\":\"BasicTicker\"}},\"id\":\"7418\",\"type\":\"LinearAxis\"},{\"attributes\":{},\"id\":\"7702\",\"type\":\"BasicTickFormatter\"},{\"attributes\":{\"bottom\":{\"value\":0},\"fill_color\":{\"value\":\"#1f77b4\"},\"left\":{\"field\":\"left\"},\"right\":{\"field\":\"right\"},\"top\":{\"field\":\"top\"}},\"id\":\"7442\",\"type\":\"Quad\"},{\"attributes\":{},\"id\":\"7706\",\"type\":\"UnionRenderers\"},{\"attributes\":{},\"id\":\"7419\",\"type\":\"BasicTicker\"},{\"attributes\":{},\"id\":\"7429\",\"type\":\"WheelZoomTool\"},{\"attributes\":{\"data_source\":{\"id\":\"7441\",\"type\":\"ColumnDataSource\"},\"glyph\":{\"id\":\"7442\",\"type\":\"Quad\"},\"hover_glyph\":null,\"muted_glyph\":null,\"nonselection_glyph\":{\"id\":\"7443\",\"type\":\"Quad\"},\"selection_glyph\":null,\"view\":{\"id\":\"7445\",\"type\":\"CDSView\"}},\"id\":\"7444\",\"type\":\"GlyphRenderer\"},{\"attributes\":{\"overlay\":{\"id\":\"7707\",\"type\":\"BoxAnnotation\"}},\"id\":\"7430\",\"type\":\"BoxZoomTool\"},{\"attributes\":{\"axis_label\":\"Frequency\",\"formatter\":{\"id\":\"7702\",\"type\":\"BasicTickFormatter\"},\"ticker\":{\"id\":\"7424\",\"type\":\"BasicTicker\"}},\"id\":\"7423\",\"type\":\"LinearAxis\"},{\"attributes\":{\"ticker\":{\"id\":\"7419\",\"type\":\"BasicTicker\"}},\"id\":\"7422\",\"type\":\"Grid\"},{\"attributes\":{},\"id\":\"7424\",\"type\":\"BasicTicker\"},{\"attributes\":{\"source\":{\"id\":\"7441\",\"type\":\"ColumnDataSource\"}},\"id\":\"7445\",\"type\":\"CDSView\"}],\"root_ids\":[\"7408\"]},\"title\":\"Bokeh Application\",\"version\":\"1.2.0\"}};\n",
       "  var render_items = [{\"docid\":\"69f9503c-dc8e-4451-98bb-a4970ceaf8b7\",\"roots\":{\"7408\":\"613d7f12-b70c-4758-aea8-ef044a479766\"}}];\n",
       "  root.Bokeh.embed.embed_items_notebook(docs_json, render_items);\n",
       "\n",
       "  }\n",
       "  if (root.Bokeh !== undefined) {\n",
       "    embed_document(root);\n",
       "  } else {\n",
       "    var attempts = 0;\n",
       "    var timer = setInterval(function(root) {\n",
       "      if (root.Bokeh !== undefined) {\n",
       "        embed_document(root);\n",
       "        clearInterval(timer);\n",
       "      }\n",
       "      attempts++;\n",
       "      if (attempts > 100) {\n",
       "        console.log(\"Bokeh: ERROR: Unable to run BokehJS code because BokehJS library is missing\");\n",
       "        clearInterval(timer);\n",
       "      }\n",
       "    }, 10, root)\n",
       "  }\n",
       "})(window);"
      ],
      "application/vnd.bokehjs_exec.v0+json": ""
     },
     "metadata": {
      "application/vnd.bokehjs_exec.v0+json": {
       "id": "7408"
      }
     },
     "output_type": "display_data"
    }
   ],
   "source": [
    "p = hl.plot.histogram(ps_len_stats_ht.stats.mean)\n",
    "show(p)"
   ]
  },
  {
   "cell_type": "code",
   "execution_count": 109,
   "id": "1c8f5c35-fbd3-474f-a0f6-2f10648a322c",
   "metadata": {},
   "outputs": [
    {
     "name": "stderr",
     "output_type": "stream",
     "text": [
      "2021-06-14 13:35:39 Hail: INFO: Ordering unsorted dataset with network shuffle\n",
      "2021-06-14 13:35:59 Hail: INFO: Ordering unsorted dataset with network shuffle\n"
     ]
    },
    {
     "data": {
      "text/html": [
       "\n",
       "\n",
       "\n",
       "\n",
       "\n",
       "\n",
       "  <div class=\"bk-root\" id=\"79de0ee5-2308-4161-a584-31dd3ef961b2\" data-root-id=\"7756\"></div>\n"
      ]
     },
     "metadata": {},
     "output_type": "display_data"
    },
    {
     "data": {
      "application/javascript": [
       "(function(root) {\n",
       "  function embed_document(root) {\n",
       "    \n",
       "  var docs_json = {\"3061ca4c-ca16-42d4-be02-2b90be805754\":{\"roots\":{\"references\":[{\"attributes\":{\"background_fill_color\":{\"value\":\"#EEEEEE\"},\"below\":[{\"id\":\"7766\",\"type\":\"LinearAxis\"}],\"center\":[{\"id\":\"7770\",\"type\":\"Grid\"},{\"id\":\"7775\",\"type\":\"Grid\"}],\"left\":[{\"id\":\"7771\",\"type\":\"LinearAxis\"}],\"renderers\":[{\"id\":\"7792\",\"type\":\"GlyphRenderer\"}],\"title\":null,\"toolbar\":{\"id\":\"7782\",\"type\":\"Toolbar\"},\"x_range\":{\"id\":\"7758\",\"type\":\"Range1d\"},\"x_scale\":{\"id\":\"7762\",\"type\":\"LinearScale\"},\"y_range\":{\"id\":\"7760\",\"type\":\"DataRange1d\"},\"y_scale\":{\"id\":\"7764\",\"type\":\"LinearScale\"}},\"id\":\"7756\",\"subtype\":\"Figure\",\"type\":\"Plot\"},{\"attributes\":{\"overlay\":{\"id\":\"8063\",\"type\":\"BoxAnnotation\"}},\"id\":\"7778\",\"type\":\"BoxZoomTool\"},{\"attributes\":{\"callback\":null,\"end\":10162836.376487086,\"start\":6057954.086723454},\"id\":\"7758\",\"type\":\"Range1d\"},{\"attributes\":{\"dimension\":1,\"ticker\":{\"id\":\"7772\",\"type\":\"BasicTicker\"}},\"id\":\"7775\",\"type\":\"Grid\"},{\"attributes\":{},\"id\":\"8060\",\"type\":\"BasicTickFormatter\"},{\"attributes\":{},\"id\":\"7767\",\"type\":\"BasicTicker\"},{\"attributes\":{},\"id\":\"7776\",\"type\":\"PanTool\"},{\"attributes\":{},\"id\":\"7764\",\"type\":\"LinearScale\"},{\"attributes\":{},\"id\":\"7779\",\"type\":\"SaveTool\"},{\"attributes\":{\"ticker\":{\"id\":\"7767\",\"type\":\"BasicTicker\"}},\"id\":\"7770\",\"type\":\"Grid\"},{\"attributes\":{},\"id\":\"8058\",\"type\":\"BasicTickFormatter\"},{\"attributes\":{\"source\":{\"id\":\"7789\",\"type\":\"ColumnDataSource\"}},\"id\":\"7793\",\"type\":\"CDSView\"},{\"attributes\":{\"formatter\":{\"id\":\"8060\",\"type\":\"BasicTickFormatter\"},\"ticker\":{\"id\":\"7767\",\"type\":\"BasicTicker\"}},\"id\":\"7766\",\"type\":\"LinearAxis\"},{\"attributes\":{},\"id\":\"7762\",\"type\":\"LinearScale\"},{\"attributes\":{\"axis_label\":\"Frequency\",\"formatter\":{\"id\":\"8058\",\"type\":\"BasicTickFormatter\"},\"ticker\":{\"id\":\"7772\",\"type\":\"BasicTicker\"}},\"id\":\"7771\",\"type\":\"LinearAxis\"},{\"attributes\":{},\"id\":\"8061\",\"type\":\"Selection\"},{\"attributes\":{},\"id\":\"7781\",\"type\":\"HelpTool\"},{\"attributes\":{},\"id\":\"8062\",\"type\":\"UnionRenderers\"},{\"attributes\":{\"bottom\":{\"value\":0},\"fill_alpha\":{\"value\":0.1},\"fill_color\":{\"value\":\"#1f77b4\"},\"left\":{\"field\":\"left\"},\"line_alpha\":{\"value\":0.1},\"line_color\":{\"value\":\"#1f77b4\"},\"right\":{\"field\":\"right\"},\"top\":{\"field\":\"top\"}},\"id\":\"7791\",\"type\":\"Quad\"},{\"attributes\":{\"bottom_units\":\"screen\",\"fill_alpha\":{\"value\":0.5},\"fill_color\":{\"value\":\"lightgrey\"},\"left_units\":\"screen\",\"level\":\"overlay\",\"line_alpha\":{\"value\":1.0},\"line_color\":{\"value\":\"black\"},\"line_dash\":[4,4],\"line_width\":{\"value\":2},\"render_mode\":\"css\",\"right_units\":\"screen\",\"top_units\":\"screen\"},\"id\":\"8063\",\"type\":\"BoxAnnotation\"},{\"attributes\":{\"active_drag\":\"auto\",\"active_inspect\":\"auto\",\"active_multi\":null,\"active_scroll\":\"auto\",\"active_tap\":\"auto\",\"tools\":[{\"id\":\"7776\",\"type\":\"PanTool\"},{\"id\":\"7777\",\"type\":\"WheelZoomTool\"},{\"id\":\"7778\",\"type\":\"BoxZoomTool\"},{\"id\":\"7779\",\"type\":\"SaveTool\"},{\"id\":\"7780\",\"type\":\"ResetTool\"},{\"id\":\"7781\",\"type\":\"HelpTool\"}]},\"id\":\"7782\",\"type\":\"Toolbar\"},{\"attributes\":{\"callback\":null,\"data\":{\"left\":[6244539.645349074,6319173.868799322,6393808.0922495695,6468442.315699818,6543076.539150066,6617710.762600313,6692344.986050561,6766979.209500809,6841613.432951057,6916247.6564013045,6990881.879851553,7065516.103301801,7140150.326752048,7214784.550202296,7289418.773652544,7364052.997102791,7438687.22055304,7513321.444003288,7587955.667453535,7662589.890903783,7737224.114354031,7811858.337804278,7886492.5612545265,7961126.784704775,8035761.008155022,8110395.23160527,8185029.455055518,8259663.678505765,8334297.901956013,8408932.125406262,8483566.348856509,8558200.572306758,8632834.795757005,8707469.019207252,8782103.242657501,8856737.466107748,8931371.689557996,9006005.913008245,9080640.136458492,9155274.359908741,9229908.583358988,9304542.806809235,9379177.030259483,9453811.253709732,9528445.477159979,9603079.700610228,9677713.924060475,9752348.147510722,9826982.37096097,9901616.594411219],\"right\":[6319173.868799322,6393808.0922495695,6468442.315699818,6543076.539150066,6617710.762600313,6692344.986050561,6766979.209500809,6841613.432951057,6916247.6564013045,6990881.879851553,7065516.103301801,7140150.326752048,7214784.550202296,7289418.773652544,7364052.997102791,7438687.22055304,7513321.444003288,7587955.667453535,7662589.890903783,7737224.114354031,7811858.337804278,7886492.5612545265,7961126.784704775,8035761.008155022,8110395.23160527,8185029.455055518,8259663.678505765,8334297.901956013,8408932.125406262,8483566.348856509,8558200.572306758,8632834.795757005,8707469.019207252,8782103.242657501,8856737.466107748,8931371.689557996,9006005.913008245,9080640.136458492,9155274.359908741,9229908.583358988,9304542.806809235,9379177.030259483,9453811.253709732,9528445.477159979,9603079.700610228,9677713.924060475,9752348.147510722,9826982.37096097,9901616.594411219,9976250.817861466],\"top\":[2,4,6,2,5,3,3,2,4,5,7,27,38,63,113,90,64,16,8,2,1,1,1,0,0,0,0,0,0,0,0,0,0,0,0,0,0,0,0,0,0,0,0,0,0,0,0,0,0,1]},\"selected\":{\"id\":\"8061\",\"type\":\"Selection\"},\"selection_policy\":{\"id\":\"8062\",\"type\":\"UnionRenderers\"}},\"id\":\"7789\",\"type\":\"ColumnDataSource\"},{\"attributes\":{},\"id\":\"7777\",\"type\":\"WheelZoomTool\"},{\"attributes\":{\"callback\":null},\"id\":\"7760\",\"type\":\"DataRange1d\"},{\"attributes\":{},\"id\":\"7772\",\"type\":\"BasicTicker\"},{\"attributes\":{\"bottom\":{\"value\":0},\"fill_color\":{\"value\":\"#1f77b4\"},\"left\":{\"field\":\"left\"},\"right\":{\"field\":\"right\"},\"top\":{\"field\":\"top\"}},\"id\":\"7790\",\"type\":\"Quad\"},{\"attributes\":{},\"id\":\"7780\",\"type\":\"ResetTool\"},{\"attributes\":{\"data_source\":{\"id\":\"7789\",\"type\":\"ColumnDataSource\"},\"glyph\":{\"id\":\"7790\",\"type\":\"Quad\"},\"hover_glyph\":null,\"muted_glyph\":null,\"nonselection_glyph\":{\"id\":\"7791\",\"type\":\"Quad\"},\"selection_glyph\":null,\"view\":{\"id\":\"7793\",\"type\":\"CDSView\"}},\"id\":\"7792\",\"type\":\"GlyphRenderer\"}],\"root_ids\":[\"7756\"]},\"title\":\"Bokeh Application\",\"version\":\"1.2.0\"}};\n",
       "  var render_items = [{\"docid\":\"3061ca4c-ca16-42d4-be02-2b90be805754\",\"roots\":{\"7756\":\"79de0ee5-2308-4161-a584-31dd3ef961b2\"}}];\n",
       "  root.Bokeh.embed.embed_items_notebook(docs_json, render_items);\n",
       "\n",
       "  }\n",
       "  if (root.Bokeh !== undefined) {\n",
       "    embed_document(root);\n",
       "  } else {\n",
       "    var attempts = 0;\n",
       "    var timer = setInterval(function(root) {\n",
       "      if (root.Bokeh !== undefined) {\n",
       "        embed_document(root);\n",
       "        clearInterval(timer);\n",
       "      }\n",
       "      attempts++;\n",
       "      if (attempts > 100) {\n",
       "        console.log(\"Bokeh: ERROR: Unable to run BokehJS code because BokehJS library is missing\");\n",
       "        clearInterval(timer);\n",
       "      }\n",
       "    }, 10, root)\n",
       "  }\n",
       "})(window);"
      ],
      "application/vnd.bokehjs_exec.v0+json": ""
     },
     "metadata": {
      "application/vnd.bokehjs_exec.v0+json": {
       "id": "7756"
      }
     },
     "output_type": "display_data"
    }
   ],
   "source": [
    "p = hl.plot.histogram(ps_len_stats_ht.stats.stdev)\n",
    "show(p)"
   ]
  }
 ],
 "metadata": {
  "kernelspec": {
   "display_name": "Python [conda env:fargen-1-exome]",
   "language": "python",
   "name": "conda-env-fargen-1-exome-py"
  },
  "language_info": {
   "codemirror_mode": {
    "name": "ipython",
    "version": 3
   },
   "file_extension": ".py",
   "mimetype": "text/x-python",
   "name": "python",
   "nbconvert_exporter": "python",
   "pygments_lexer": "ipython3",
   "version": "3.7.10"
  }
 },
 "nbformat": 4,
 "nbformat_minor": 5
}
