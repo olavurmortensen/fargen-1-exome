{
 "cells": [
  {
   "cell_type": "markdown",
   "metadata": {},
   "source": [
    "# Sex check\n",
    "\n",
    "We will impute the sex of each sample, and compare this with the self-reported gender.\n",
    "\n",
    "Note the distinction between 'sex' and 'gender' used here: 'sex' refers to the genetic sex, where 'gender' is self-reported. We impute the sex by testing for the presence of a Y chromosome. The gender is obtained from a questionaire given to participants before a blood sample is drawn."
   ]
  },
  {
   "cell_type": "code",
   "execution_count": 1,
   "metadata": {},
   "outputs": [
    {
     "name": "stdout",
     "output_type": "stream",
     "text": [
      "2021-09-28 10:09:54 WARN  NativeCodeLoader:62 - Unable to load native-hadoop library for your platform... using builtin-java classes where applicable\n"
     ]
    },
    {
     "name": "stderr",
     "output_type": "stream",
     "text": [
      "Setting default log level to \"WARN\".\n",
      "To adjust logging level use sc.setLogLevel(newLevel). For SparkR, use setLogLevel(newLevel).\n"
     ]
    },
    {
     "name": "stdout",
     "output_type": "stream",
     "text": [
      "2021-09-28 10:09:55 WARN  Hail:37 - This Hail JAR was compiled for Spark 2.4.5, running with Spark 2.4.1.\n",
      "  Compatibility is not guaranteed.\n",
      "2021-09-28 10:09:56 WARN  Utils:66 - Service 'SparkUI' could not bind on port 4040. Attempting port 4041.\n",
      "2021-09-28 10:09:56 WARN  Utils:66 - Service 'SparkUI' could not bind on port 4041. Attempting port 4042.\n"
     ]
    },
    {
     "name": "stderr",
     "output_type": "stream",
     "text": [
      "Running on Apache Spark version 2.4.1\n",
      "SparkUI available at http://hms-beagle-848846b477-8tkk6:4042\n",
      "Welcome to\n",
      "     __  __     <>__\n",
      "    / /_/ /__  __/ /\n",
      "   / __  / _ `/ / /\n",
      "  /_/ /_/\\_,_/_/_/   version 0.2.61-3c86d3ba497a\n",
      "LOGGING: writing to /home/olavur/experiments/2020-11-13_fargen1_exome_analysis/fargen-1-exome/notebooks/qc/hail-20210928-1009-0.2.61-3c86d3ba497a.log\n"
     ]
    }
   ],
   "source": [
    "import hail as hl\n",
    "hl.init(spark_conf={'spark.driver.memory': '10g'}, tmp_dir='/home/olavur/tmp')"
   ]
  },
  {
   "cell_type": "code",
   "execution_count": 2,
   "metadata": {},
   "outputs": [
    {
     "data": {
      "text/html": [
       "\n",
       "    <div class=\"bk-root\">\n",
       "        <a href=\"https://bokeh.pydata.org\" target=\"_blank\" class=\"bk-logo bk-logo-small bk-logo-notebook\"></a>\n",
       "        <span id=\"1001\">Loading BokehJS ...</span>\n",
       "    </div>"
      ]
     },
     "metadata": {},
     "output_type": "display_data"
    },
    {
     "data": {
      "application/javascript": [
       "\n",
       "(function(root) {\n",
       "  function now() {\n",
       "    return new Date();\n",
       "  }\n",
       "\n",
       "  var force = true;\n",
       "\n",
       "  if (typeof root._bokeh_onload_callbacks === \"undefined\" || force === true) {\n",
       "    root._bokeh_onload_callbacks = [];\n",
       "    root._bokeh_is_loading = undefined;\n",
       "  }\n",
       "\n",
       "  var JS_MIME_TYPE = 'application/javascript';\n",
       "  var HTML_MIME_TYPE = 'text/html';\n",
       "  var EXEC_MIME_TYPE = 'application/vnd.bokehjs_exec.v0+json';\n",
       "  var CLASS_NAME = 'output_bokeh rendered_html';\n",
       "\n",
       "  /**\n",
       "   * Render data to the DOM node\n",
       "   */\n",
       "  function render(props, node) {\n",
       "    var script = document.createElement(\"script\");\n",
       "    node.appendChild(script);\n",
       "  }\n",
       "\n",
       "  /**\n",
       "   * Handle when an output is cleared or removed\n",
       "   */\n",
       "  function handleClearOutput(event, handle) {\n",
       "    var cell = handle.cell;\n",
       "\n",
       "    var id = cell.output_area._bokeh_element_id;\n",
       "    var server_id = cell.output_area._bokeh_server_id;\n",
       "    // Clean up Bokeh references\n",
       "    if (id != null && id in Bokeh.index) {\n",
       "      Bokeh.index[id].model.document.clear();\n",
       "      delete Bokeh.index[id];\n",
       "    }\n",
       "\n",
       "    if (server_id !== undefined) {\n",
       "      // Clean up Bokeh references\n",
       "      var cmd = \"from bokeh.io.state import curstate; print(curstate().uuid_to_server['\" + server_id + \"'].get_sessions()[0].document.roots[0]._id)\";\n",
       "      cell.notebook.kernel.execute(cmd, {\n",
       "        iopub: {\n",
       "          output: function(msg) {\n",
       "            var id = msg.content.text.trim();\n",
       "            if (id in Bokeh.index) {\n",
       "              Bokeh.index[id].model.document.clear();\n",
       "              delete Bokeh.index[id];\n",
       "            }\n",
       "          }\n",
       "        }\n",
       "      });\n",
       "      // Destroy server and session\n",
       "      var cmd = \"import bokeh.io.notebook as ion; ion.destroy_server('\" + server_id + \"')\";\n",
       "      cell.notebook.kernel.execute(cmd);\n",
       "    }\n",
       "  }\n",
       "\n",
       "  /**\n",
       "   * Handle when a new output is added\n",
       "   */\n",
       "  function handleAddOutput(event, handle) {\n",
       "    var output_area = handle.output_area;\n",
       "    var output = handle.output;\n",
       "\n",
       "    // limit handleAddOutput to display_data with EXEC_MIME_TYPE content only\n",
       "    if ((output.output_type != \"display_data\") || (!output.data.hasOwnProperty(EXEC_MIME_TYPE))) {\n",
       "      return\n",
       "    }\n",
       "\n",
       "    var toinsert = output_area.element.find(\".\" + CLASS_NAME.split(' ')[0]);\n",
       "\n",
       "    if (output.metadata[EXEC_MIME_TYPE][\"id\"] !== undefined) {\n",
       "      toinsert[toinsert.length - 1].firstChild.textContent = output.data[JS_MIME_TYPE];\n",
       "      // store reference to embed id on output_area\n",
       "      output_area._bokeh_element_id = output.metadata[EXEC_MIME_TYPE][\"id\"];\n",
       "    }\n",
       "    if (output.metadata[EXEC_MIME_TYPE][\"server_id\"] !== undefined) {\n",
       "      var bk_div = document.createElement(\"div\");\n",
       "      bk_div.innerHTML = output.data[HTML_MIME_TYPE];\n",
       "      var script_attrs = bk_div.children[0].attributes;\n",
       "      for (var i = 0; i < script_attrs.length; i++) {\n",
       "        toinsert[toinsert.length - 1].firstChild.setAttribute(script_attrs[i].name, script_attrs[i].value);\n",
       "      }\n",
       "      // store reference to server id on output_area\n",
       "      output_area._bokeh_server_id = output.metadata[EXEC_MIME_TYPE][\"server_id\"];\n",
       "    }\n",
       "  }\n",
       "\n",
       "  function register_renderer(events, OutputArea) {\n",
       "\n",
       "    function append_mime(data, metadata, element) {\n",
       "      // create a DOM node to render to\n",
       "      var toinsert = this.create_output_subarea(\n",
       "        metadata,\n",
       "        CLASS_NAME,\n",
       "        EXEC_MIME_TYPE\n",
       "      );\n",
       "      this.keyboard_manager.register_events(toinsert);\n",
       "      // Render to node\n",
       "      var props = {data: data, metadata: metadata[EXEC_MIME_TYPE]};\n",
       "      render(props, toinsert[toinsert.length - 1]);\n",
       "      element.append(toinsert);\n",
       "      return toinsert\n",
       "    }\n",
       "\n",
       "    /* Handle when an output is cleared or removed */\n",
       "    events.on('clear_output.CodeCell', handleClearOutput);\n",
       "    events.on('delete.Cell', handleClearOutput);\n",
       "\n",
       "    /* Handle when a new output is added */\n",
       "    events.on('output_added.OutputArea', handleAddOutput);\n",
       "\n",
       "    /**\n",
       "     * Register the mime type and append_mime function with output_area\n",
       "     */\n",
       "    OutputArea.prototype.register_mime_type(EXEC_MIME_TYPE, append_mime, {\n",
       "      /* Is output safe? */\n",
       "      safe: true,\n",
       "      /* Index of renderer in `output_area.display_order` */\n",
       "      index: 0\n",
       "    });\n",
       "  }\n",
       "\n",
       "  // register the mime type if in Jupyter Notebook environment and previously unregistered\n",
       "  if (root.Jupyter !== undefined) {\n",
       "    var events = require('base/js/events');\n",
       "    var OutputArea = require('notebook/js/outputarea').OutputArea;\n",
       "\n",
       "    if (OutputArea.prototype.mime_types().indexOf(EXEC_MIME_TYPE) == -1) {\n",
       "      register_renderer(events, OutputArea);\n",
       "    }\n",
       "  }\n",
       "\n",
       "  \n",
       "  if (typeof (root._bokeh_timeout) === \"undefined\" || force === true) {\n",
       "    root._bokeh_timeout = Date.now() + 5000;\n",
       "    root._bokeh_failed_load = false;\n",
       "  }\n",
       "\n",
       "  var NB_LOAD_WARNING = {'data': {'text/html':\n",
       "     \"<div style='background-color: #fdd'>\\n\"+\n",
       "     \"<p>\\n\"+\n",
       "     \"BokehJS does not appear to have successfully loaded. If loading BokehJS from CDN, this \\n\"+\n",
       "     \"may be due to a slow or bad network connection. Possible fixes:\\n\"+\n",
       "     \"</p>\\n\"+\n",
       "     \"<ul>\\n\"+\n",
       "     \"<li>re-rerun `output_notebook()` to attempt to load from CDN again, or</li>\\n\"+\n",
       "     \"<li>use INLINE resources instead, as so:</li>\\n\"+\n",
       "     \"</ul>\\n\"+\n",
       "     \"<code>\\n\"+\n",
       "     \"from bokeh.resources import INLINE\\n\"+\n",
       "     \"output_notebook(resources=INLINE)\\n\"+\n",
       "     \"</code>\\n\"+\n",
       "     \"</div>\"}};\n",
       "\n",
       "  function display_loaded() {\n",
       "    var el = document.getElementById(\"1001\");\n",
       "    if (el != null) {\n",
       "      el.textContent = \"BokehJS is loading...\";\n",
       "    }\n",
       "    if (root.Bokeh !== undefined) {\n",
       "      if (el != null) {\n",
       "        el.textContent = \"BokehJS \" + root.Bokeh.version + \" successfully loaded.\";\n",
       "      }\n",
       "    } else if (Date.now() < root._bokeh_timeout) {\n",
       "      setTimeout(display_loaded, 100)\n",
       "    }\n",
       "  }\n",
       "\n",
       "\n",
       "  function run_callbacks() {\n",
       "    try {\n",
       "      root._bokeh_onload_callbacks.forEach(function(callback) {\n",
       "        if (callback != null)\n",
       "          callback();\n",
       "      });\n",
       "    } finally {\n",
       "      delete root._bokeh_onload_callbacks\n",
       "    }\n",
       "    console.debug(\"Bokeh: all callbacks have finished\");\n",
       "  }\n",
       "\n",
       "  function load_libs(css_urls, js_urls, callback) {\n",
       "    if (css_urls == null) css_urls = [];\n",
       "    if (js_urls == null) js_urls = [];\n",
       "\n",
       "    root._bokeh_onload_callbacks.push(callback);\n",
       "    if (root._bokeh_is_loading > 0) {\n",
       "      console.debug(\"Bokeh: BokehJS is being loaded, scheduling callback at\", now());\n",
       "      return null;\n",
       "    }\n",
       "    if (js_urls == null || js_urls.length === 0) {\n",
       "      run_callbacks();\n",
       "      return null;\n",
       "    }\n",
       "    console.debug(\"Bokeh: BokehJS not loaded, scheduling load and callback at\", now());\n",
       "    root._bokeh_is_loading = css_urls.length + js_urls.length;\n",
       "\n",
       "    function on_load() {\n",
       "      root._bokeh_is_loading--;\n",
       "      if (root._bokeh_is_loading === 0) {\n",
       "        console.debug(\"Bokeh: all BokehJS libraries/stylesheets loaded\");\n",
       "        run_callbacks()\n",
       "      }\n",
       "    }\n",
       "\n",
       "    function on_error() {\n",
       "      console.error(\"failed to load \" + url);\n",
       "    }\n",
       "\n",
       "    for (var i = 0; i < css_urls.length; i++) {\n",
       "      var url = css_urls[i];\n",
       "      const element = document.createElement(\"link\");\n",
       "      element.onload = on_load;\n",
       "      element.onerror = on_error;\n",
       "      element.rel = \"stylesheet\";\n",
       "      element.type = \"text/css\";\n",
       "      element.href = url;\n",
       "      console.debug(\"Bokeh: injecting link tag for BokehJS stylesheet: \", url);\n",
       "      document.body.appendChild(element);\n",
       "    }\n",
       "\n",
       "    for (var i = 0; i < js_urls.length; i++) {\n",
       "      var url = js_urls[i];\n",
       "      var element = document.createElement('script');\n",
       "      element.onload = on_load;\n",
       "      element.onerror = on_error;\n",
       "      element.async = false;\n",
       "      element.src = url;\n",
       "      console.debug(\"Bokeh: injecting script tag for BokehJS library: \", url);\n",
       "      document.head.appendChild(element);\n",
       "    }\n",
       "  };var element = document.getElementById(\"1001\");\n",
       "  if (element == null) {\n",
       "    console.error(\"Bokeh: ERROR: autoload.js configured with elementid '1001' but no matching script tag was found. \")\n",
       "    return false;\n",
       "  }\n",
       "\n",
       "  function inject_raw_css(css) {\n",
       "    const element = document.createElement(\"style\");\n",
       "    element.appendChild(document.createTextNode(css));\n",
       "    document.body.appendChild(element);\n",
       "  }\n",
       "\n",
       "  var js_urls = [\"https://cdn.pydata.org/bokeh/release/bokeh-1.2.0.min.js\", \"https://cdn.pydata.org/bokeh/release/bokeh-widgets-1.2.0.min.js\", \"https://cdn.pydata.org/bokeh/release/bokeh-tables-1.2.0.min.js\", \"https://cdn.pydata.org/bokeh/release/bokeh-gl-1.2.0.min.js\"];\n",
       "  var css_urls = [\"https://cdn.pydata.org/bokeh/release/bokeh-1.2.0.min.css\", \"https://cdn.pydata.org/bokeh/release/bokeh-widgets-1.2.0.min.css\", \"https://cdn.pydata.org/bokeh/release/bokeh-tables-1.2.0.min.css\"];\n",
       "\n",
       "  var inline_js = [\n",
       "    function(Bokeh) {\n",
       "      Bokeh.set_log_level(\"info\");\n",
       "    },\n",
       "    \n",
       "    function(Bokeh) {\n",
       "      \n",
       "    },\n",
       "    function(Bokeh) {} // ensure no trailing comma for IE\n",
       "  ];\n",
       "\n",
       "  function run_inline_js() {\n",
       "    \n",
       "    if ((root.Bokeh !== undefined) || (force === true)) {\n",
       "      for (var i = 0; i < inline_js.length; i++) {\n",
       "        inline_js[i].call(root, root.Bokeh);\n",
       "      }if (force === true) {\n",
       "        display_loaded();\n",
       "      }} else if (Date.now() < root._bokeh_timeout) {\n",
       "      setTimeout(run_inline_js, 100);\n",
       "    } else if (!root._bokeh_failed_load) {\n",
       "      console.log(\"Bokeh: BokehJS failed to load within specified timeout.\");\n",
       "      root._bokeh_failed_load = true;\n",
       "    } else if (force !== true) {\n",
       "      var cell = $(document.getElementById(\"1001\")).parents('.cell').data().cell;\n",
       "      cell.output_area.append_execute_result(NB_LOAD_WARNING)\n",
       "    }\n",
       "\n",
       "  }\n",
       "\n",
       "  if (root._bokeh_is_loading === 0) {\n",
       "    console.debug(\"Bokeh: BokehJS loaded, going straight to plotting\");\n",
       "    run_inline_js();\n",
       "  } else {\n",
       "    load_libs(css_urls, js_urls, function() {\n",
       "      console.debug(\"Bokeh: BokehJS plotting callback run at\", now());\n",
       "      run_inline_js();\n",
       "    });\n",
       "  }\n",
       "}(window));"
      ],
      "application/vnd.bokehjs_load.v0+json": "\n(function(root) {\n  function now() {\n    return new Date();\n  }\n\n  var force = true;\n\n  if (typeof root._bokeh_onload_callbacks === \"undefined\" || force === true) {\n    root._bokeh_onload_callbacks = [];\n    root._bokeh_is_loading = undefined;\n  }\n\n  \n\n  \n  if (typeof (root._bokeh_timeout) === \"undefined\" || force === true) {\n    root._bokeh_timeout = Date.now() + 5000;\n    root._bokeh_failed_load = false;\n  }\n\n  var NB_LOAD_WARNING = {'data': {'text/html':\n     \"<div style='background-color: #fdd'>\\n\"+\n     \"<p>\\n\"+\n     \"BokehJS does not appear to have successfully loaded. If loading BokehJS from CDN, this \\n\"+\n     \"may be due to a slow or bad network connection. Possible fixes:\\n\"+\n     \"</p>\\n\"+\n     \"<ul>\\n\"+\n     \"<li>re-rerun `output_notebook()` to attempt to load from CDN again, or</li>\\n\"+\n     \"<li>use INLINE resources instead, as so:</li>\\n\"+\n     \"</ul>\\n\"+\n     \"<code>\\n\"+\n     \"from bokeh.resources import INLINE\\n\"+\n     \"output_notebook(resources=INLINE)\\n\"+\n     \"</code>\\n\"+\n     \"</div>\"}};\n\n  function display_loaded() {\n    var el = document.getElementById(\"1001\");\n    if (el != null) {\n      el.textContent = \"BokehJS is loading...\";\n    }\n    if (root.Bokeh !== undefined) {\n      if (el != null) {\n        el.textContent = \"BokehJS \" + root.Bokeh.version + \" successfully loaded.\";\n      }\n    } else if (Date.now() < root._bokeh_timeout) {\n      setTimeout(display_loaded, 100)\n    }\n  }\n\n\n  function run_callbacks() {\n    try {\n      root._bokeh_onload_callbacks.forEach(function(callback) {\n        if (callback != null)\n          callback();\n      });\n    } finally {\n      delete root._bokeh_onload_callbacks\n    }\n    console.debug(\"Bokeh: all callbacks have finished\");\n  }\n\n  function load_libs(css_urls, js_urls, callback) {\n    if (css_urls == null) css_urls = [];\n    if (js_urls == null) js_urls = [];\n\n    root._bokeh_onload_callbacks.push(callback);\n    if (root._bokeh_is_loading > 0) {\n      console.debug(\"Bokeh: BokehJS is being loaded, scheduling callback at\", now());\n      return null;\n    }\n    if (js_urls == null || js_urls.length === 0) {\n      run_callbacks();\n      return null;\n    }\n    console.debug(\"Bokeh: BokehJS not loaded, scheduling load and callback at\", now());\n    root._bokeh_is_loading = css_urls.length + js_urls.length;\n\n    function on_load() {\n      root._bokeh_is_loading--;\n      if (root._bokeh_is_loading === 0) {\n        console.debug(\"Bokeh: all BokehJS libraries/stylesheets loaded\");\n        run_callbacks()\n      }\n    }\n\n    function on_error() {\n      console.error(\"failed to load \" + url);\n    }\n\n    for (var i = 0; i < css_urls.length; i++) {\n      var url = css_urls[i];\n      const element = document.createElement(\"link\");\n      element.onload = on_load;\n      element.onerror = on_error;\n      element.rel = \"stylesheet\";\n      element.type = \"text/css\";\n      element.href = url;\n      console.debug(\"Bokeh: injecting link tag for BokehJS stylesheet: \", url);\n      document.body.appendChild(element);\n    }\n\n    for (var i = 0; i < js_urls.length; i++) {\n      var url = js_urls[i];\n      var element = document.createElement('script');\n      element.onload = on_load;\n      element.onerror = on_error;\n      element.async = false;\n      element.src = url;\n      console.debug(\"Bokeh: injecting script tag for BokehJS library: \", url);\n      document.head.appendChild(element);\n    }\n  };var element = document.getElementById(\"1001\");\n  if (element == null) {\n    console.error(\"Bokeh: ERROR: autoload.js configured with elementid '1001' but no matching script tag was found. \")\n    return false;\n  }\n\n  function inject_raw_css(css) {\n    const element = document.createElement(\"style\");\n    element.appendChild(document.createTextNode(css));\n    document.body.appendChild(element);\n  }\n\n  var js_urls = [\"https://cdn.pydata.org/bokeh/release/bokeh-1.2.0.min.js\", \"https://cdn.pydata.org/bokeh/release/bokeh-widgets-1.2.0.min.js\", \"https://cdn.pydata.org/bokeh/release/bokeh-tables-1.2.0.min.js\", \"https://cdn.pydata.org/bokeh/release/bokeh-gl-1.2.0.min.js\"];\n  var css_urls = [\"https://cdn.pydata.org/bokeh/release/bokeh-1.2.0.min.css\", \"https://cdn.pydata.org/bokeh/release/bokeh-widgets-1.2.0.min.css\", \"https://cdn.pydata.org/bokeh/release/bokeh-tables-1.2.0.min.css\"];\n\n  var inline_js = [\n    function(Bokeh) {\n      Bokeh.set_log_level(\"info\");\n    },\n    \n    function(Bokeh) {\n      \n    },\n    function(Bokeh) {} // ensure no trailing comma for IE\n  ];\n\n  function run_inline_js() {\n    \n    if ((root.Bokeh !== undefined) || (force === true)) {\n      for (var i = 0; i < inline_js.length; i++) {\n        inline_js[i].call(root, root.Bokeh);\n      }if (force === true) {\n        display_loaded();\n      }} else if (Date.now() < root._bokeh_timeout) {\n      setTimeout(run_inline_js, 100);\n    } else if (!root._bokeh_failed_load) {\n      console.log(\"Bokeh: BokehJS failed to load within specified timeout.\");\n      root._bokeh_failed_load = true;\n    } else if (force !== true) {\n      var cell = $(document.getElementById(\"1001\")).parents('.cell').data().cell;\n      cell.output_area.append_execute_result(NB_LOAD_WARNING)\n    }\n\n  }\n\n  if (root._bokeh_is_loading === 0) {\n    console.debug(\"Bokeh: BokehJS loaded, going straight to plotting\");\n    run_inline_js();\n  } else {\n    load_libs(css_urls, js_urls, function() {\n      console.debug(\"Bokeh: BokehJS plotting callback run at\", now());\n      run_inline_js();\n    });\n  }\n}(window));"
     },
     "metadata": {},
     "output_type": "display_data"
    }
   ],
   "source": [
    "from bokeh.io import show, output_notebook\n",
    "from bokeh.layouts import gridplot\n",
    "from bokeh.models.scales import LogScale\n",
    "output_notebook()"
   ]
  },
  {
   "cell_type": "code",
   "execution_count": 3,
   "metadata": {},
   "outputs": [],
   "source": [
    "import pandas as pd"
   ]
  },
  {
   "cell_type": "code",
   "execution_count": 4,
   "metadata": {},
   "outputs": [],
   "source": [
    "BASE_DIR = '/home/olavur/experiments/2020-11-13_fargen1_exome_analysis'"
   ]
  },
  {
   "cell_type": "markdown",
   "metadata": {},
   "source": [
    "## Load FarGen exome data\n",
    "\n",
    "Load filtered, high-quality, variants."
   ]
  },
  {
   "cell_type": "code",
   "execution_count": 24,
   "metadata": {},
   "outputs": [],
   "source": [
    "mt = hl.read_matrix_table(BASE_DIR + '/data/mt/high_quality_variants.mt/')"
   ]
  },
  {
   "cell_type": "code",
   "execution_count": 25,
   "metadata": {},
   "outputs": [
    {
     "name": "stdout",
     "output_type": "stream",
     "text": [
      "Number of variants: 86300\n",
      "Number of samples: 468\n"
     ]
    }
   ],
   "source": [
    "n_variants, n_samples = mt.count()\n",
    "print('Number of variants: ' + str(n_variants))\n",
    "print('Number of samples: ' + str(n_samples))"
   ]
  },
  {
   "cell_type": "markdown",
   "metadata": {},
   "source": [
    "## Impute sex\n",
    "\n",
    "We impute the sex of the samples by computing the inbreeding coefficient (F) on the X chromosome. This inbreeding coefficient is calculated as $F = \\frac{O - E}{N-E}$ where $O$ is the observed number of homozygotes, $E$ is the expected number of homozygotes, and $N$ is the number of non-missing genotype calls. The expected number of homozygotes is calculated as $E = 1 - 2 f (1 - f)$ where $f$ is the minor-allel frequency.\n",
    "\n",
    "NOTE: the sex imputation method requires diallelic sites."
   ]
  },
  {
   "cell_type": "code",
   "execution_count": 26,
   "metadata": {},
   "outputs": [],
   "source": [
    "mt = mt.filter_rows(hl.len(mt.alleles) == 2)"
   ]
  },
  {
   "cell_type": "code",
   "execution_count": 27,
   "metadata": {},
   "outputs": [],
   "source": [
    "imputed_sex_ht = hl.impute_sex(mt.GT)"
   ]
  },
  {
   "cell_type": "markdown",
   "metadata": {},
   "source": [
    "Below we've plotted the inbreeding coefficient, and there is a quite clear clustering of individuals."
   ]
  },
  {
   "cell_type": "code",
   "execution_count": 28,
   "metadata": {},
   "outputs": [
    {
     "data": {
      "text/html": [
       "\n",
       "\n",
       "\n",
       "\n",
       "\n",
       "\n",
       "  <div class=\"bk-root\" id=\"7f1731a7-79af-4540-94a1-dfaf5ec424ae\" data-root-id=\"2241\"></div>\n"
      ]
     },
     "metadata": {},
     "output_type": "display_data"
    },
    {
     "data": {
      "application/javascript": [
       "(function(root) {\n",
       "  function embed_document(root) {\n",
       "    \n",
       "  var docs_json = {\"1013abd8-5820-4f42-a9b0-fd1b8a7c84df\":{\"roots\":{\"references\":[{\"attributes\":{\"background_fill_color\":{\"value\":\"#EEEEEE\"},\"below\":[{\"id\":\"2252\",\"type\":\"LinearAxis\"}],\"center\":[{\"id\":\"2256\",\"type\":\"Grid\"},{\"id\":\"2261\",\"type\":\"Grid\"}],\"left\":[{\"id\":\"2257\",\"type\":\"LinearAxis\"}],\"plot_height\":500,\"plot_width\":800,\"renderers\":[{\"id\":\"2278\",\"type\":\"GlyphRenderer\"}],\"title\":{\"id\":\"2242\",\"type\":\"Title\"},\"toolbar\":{\"id\":\"2268\",\"type\":\"Toolbar\"},\"x_range\":{\"id\":\"2244\",\"type\":\"Range1d\"},\"x_scale\":{\"id\":\"2248\",\"type\":\"LinearScale\"},\"y_range\":{\"id\":\"2246\",\"type\":\"DataRange1d\"},\"y_scale\":{\"id\":\"2250\",\"type\":\"LinearScale\"}},\"id\":\"2241\",\"subtype\":\"Figure\",\"type\":\"Plot\"},{\"attributes\":{\"ticker\":{\"id\":\"2253\",\"type\":\"BasicTicker\"}},\"id\":\"2256\",\"type\":\"Grid\"},{\"attributes\":{\"callback\":null},\"id\":\"2246\",\"type\":\"DataRange1d\"},{\"attributes\":{\"text\":\"Inbreeding coefficient (F) computed on the X chromosome\"},\"id\":\"2242\",\"type\":\"Title\"},{\"attributes\":{\"bottom_units\":\"screen\",\"fill_alpha\":{\"value\":0.5},\"fill_color\":{\"value\":\"lightgrey\"},\"left_units\":\"screen\",\"level\":\"overlay\",\"line_alpha\":{\"value\":1.0},\"line_color\":{\"value\":\"black\"},\"line_dash\":[4,4],\"line_width\":{\"value\":2},\"render_mode\":\"css\",\"right_units\":\"screen\",\"top_units\":\"screen\"},\"id\":\"2373\",\"type\":\"BoxAnnotation\"},{\"attributes\":{},\"id\":\"2248\",\"type\":\"LinearScale\"},{\"attributes\":{\"axis_label\":\"Frequency\",\"formatter\":{\"id\":\"2370\",\"type\":\"BasicTickFormatter\"},\"ticker\":{\"id\":\"2258\",\"type\":\"BasicTicker\"}},\"id\":\"2257\",\"type\":\"LinearAxis\"},{\"attributes\":{\"data_source\":{\"id\":\"2275\",\"type\":\"ColumnDataSource\"},\"glyph\":{\"id\":\"2276\",\"type\":\"Quad\"},\"hover_glyph\":null,\"muted_glyph\":null,\"nonselection_glyph\":{\"id\":\"2277\",\"type\":\"Quad\"},\"selection_glyph\":null,\"view\":{\"id\":\"2279\",\"type\":\"CDSView\"}},\"id\":\"2278\",\"type\":\"GlyphRenderer\"},{\"attributes\":{\"callback\":null,\"data\":{\"left\":[-0.749564392558283,-0.7145731047071173,-0.6795818168559516,-0.644590529004786,-0.6095992411536204,-0.5746079533024546,-0.5396166654512891,-0.5046253776001234,-0.4696340897489577,-0.43464280189779203,-0.39965151404662635,-0.36466022619546073,-0.32966893834429506,-0.2946776504931294,-0.25968636264196376,-0.2246950747907981,-0.1897037869396324,-0.15471249908846674,-0.11972121123730106,-0.08472992338613539,-0.04973863553496971,-0.014747347683804146,0.02024394016736153,0.055235228018527205,0.09022651586969288,0.12521780372085856,0.16020909157202423,0.1952003794231899,0.23019166727435547,0.26518295512552126,0.3001742429766868,0.3351655308278526,0.3701568186790182,0.40514810653018374,0.4401393943813495,0.4751306822325151,0.5101219700836809,0.5451132579348464,0.5801045457860122,0.6150958336371778,0.6500871214883436,0.6850784093395091,0.7200696971906747,0.7550609850418405,0.7900522728930061,0.8250435607441718,0.8600348485953374,0.8950261364465032,0.9300174242976688,0.9650087121488343],\"right\":[-0.7145731047071173,-0.6795818168559516,-0.644590529004786,-0.6095992411536204,-0.5746079533024546,-0.5396166654512891,-0.5046253776001234,-0.4696340897489577,-0.43464280189779203,-0.39965151404662635,-0.36466022619546073,-0.32966893834429506,-0.2946776504931294,-0.25968636264196376,-0.2246950747907981,-0.1897037869396324,-0.15471249908846674,-0.11972121123730106,-0.08472992338613539,-0.04973863553496971,-0.014747347683804146,0.02024394016736153,0.055235228018527205,0.09022651586969288,0.12521780372085856,0.16020909157202423,0.1952003794231899,0.23019166727435547,0.26518295512552126,0.3001742429766868,0.3351655308278526,0.3701568186790182,0.40514810653018374,0.4401393943813495,0.4751306822325151,0.5101219700836809,0.5451132579348464,0.5801045457860122,0.6150958336371778,0.6500871214883436,0.6850784093395091,0.7200696971906747,0.7550609850418405,0.7900522728930061,0.8250435607441718,0.8600348485953374,0.8950261364465032,0.9300174242976688,0.9650087121488343,1.0],\"top\":[1,0,0,0,1,0,2,1,3,4,1,6,9,18,9,14,17,21,26,22,24,17,15,22,22,11,6,4,0,2,0,0,0,0,0,0,1,1,1,2,4,2,4,12,11,32,37,40,24,19]},\"selected\":{\"id\":\"2374\",\"type\":\"Selection\"},\"selection_policy\":{\"id\":\"2375\",\"type\":\"UnionRenderers\"}},\"id\":\"2275\",\"type\":\"ColumnDataSource\"},{\"attributes\":{},\"id\":\"2253\",\"type\":\"BasicTicker\"},{\"attributes\":{},\"id\":\"2267\",\"type\":\"HelpTool\"},{\"attributes\":{},\"id\":\"2375\",\"type\":\"UnionRenderers\"},{\"attributes\":{\"dimension\":1,\"ticker\":{\"id\":\"2258\",\"type\":\"BasicTicker\"}},\"id\":\"2261\",\"type\":\"Grid\"},{\"attributes\":{},\"id\":\"2258\",\"type\":\"BasicTicker\"},{\"attributes\":{},\"id\":\"2370\",\"type\":\"BasicTickFormatter\"},{\"attributes\":{\"source\":{\"id\":\"2275\",\"type\":\"ColumnDataSource\"}},\"id\":\"2279\",\"type\":\"CDSView\"},{\"attributes\":{\"bottom\":{\"value\":0},\"fill_color\":{\"value\":\"#1f77b4\"},\"left\":{\"field\":\"left\"},\"right\":{\"field\":\"right\"},\"top\":{\"field\":\"top\"}},\"id\":\"2276\",\"type\":\"Quad\"},{\"attributes\":{\"overlay\":{\"id\":\"2373\",\"type\":\"BoxAnnotation\"}},\"id\":\"2264\",\"type\":\"BoxZoomTool\"},{\"attributes\":{},\"id\":\"2372\",\"type\":\"BasicTickFormatter\"},{\"attributes\":{\"formatter\":{\"id\":\"2372\",\"type\":\"BasicTickFormatter\"},\"ticker\":{\"id\":\"2253\",\"type\":\"BasicTicker\"}},\"id\":\"2252\",\"type\":\"LinearAxis\"},{\"attributes\":{},\"id\":\"2265\",\"type\":\"SaveTool\"},{\"attributes\":{},\"id\":\"2374\",\"type\":\"Selection\"},{\"attributes\":{},\"id\":\"2250\",\"type\":\"LinearScale\"},{\"attributes\":{},\"id\":\"2263\",\"type\":\"WheelZoomTool\"},{\"attributes\":{\"callback\":null,\"end\":1.0874782196279142,\"start\":-0.8370426121861971},\"id\":\"2244\",\"type\":\"Range1d\"},{\"attributes\":{},\"id\":\"2266\",\"type\":\"ResetTool\"},{\"attributes\":{\"bottom\":{\"value\":0},\"fill_alpha\":{\"value\":0.1},\"fill_color\":{\"value\":\"#1f77b4\"},\"left\":{\"field\":\"left\"},\"line_alpha\":{\"value\":0.1},\"line_color\":{\"value\":\"#1f77b4\"},\"right\":{\"field\":\"right\"},\"top\":{\"field\":\"top\"}},\"id\":\"2277\",\"type\":\"Quad\"},{\"attributes\":{},\"id\":\"2262\",\"type\":\"PanTool\"},{\"attributes\":{\"active_drag\":\"auto\",\"active_inspect\":\"auto\",\"active_multi\":null,\"active_scroll\":\"auto\",\"active_tap\":\"auto\",\"tools\":[{\"id\":\"2262\",\"type\":\"PanTool\"},{\"id\":\"2263\",\"type\":\"WheelZoomTool\"},{\"id\":\"2264\",\"type\":\"BoxZoomTool\"},{\"id\":\"2265\",\"type\":\"SaveTool\"},{\"id\":\"2266\",\"type\":\"ResetTool\"},{\"id\":\"2267\",\"type\":\"HelpTool\"}]},\"id\":\"2268\",\"type\":\"Toolbar\"}],\"root_ids\":[\"2241\"]},\"title\":\"Bokeh Application\",\"version\":\"1.2.0\"}};\n",
       "  var render_items = [{\"docid\":\"1013abd8-5820-4f42-a9b0-fd1b8a7c84df\",\"roots\":{\"2241\":\"7f1731a7-79af-4540-94a1-dfaf5ec424ae\"}}];\n",
       "  root.Bokeh.embed.embed_items_notebook(docs_json, render_items);\n",
       "\n",
       "  }\n",
       "  if (root.Bokeh !== undefined) {\n",
       "    embed_document(root);\n",
       "  } else {\n",
       "    var attempts = 0;\n",
       "    var timer = setInterval(function(root) {\n",
       "      if (root.Bokeh !== undefined) {\n",
       "        embed_document(root);\n",
       "        clearInterval(timer);\n",
       "      }\n",
       "      attempts++;\n",
       "      if (attempts > 100) {\n",
       "        console.log(\"Bokeh: ERROR: Unable to run BokehJS code because BokehJS library is missing\");\n",
       "        clearInterval(timer);\n",
       "      }\n",
       "    }, 10, root)\n",
       "  }\n",
       "})(window);"
      ],
      "application/vnd.bokehjs_exec.v0+json": ""
     },
     "metadata": {
      "application/vnd.bokehjs_exec.v0+json": {
       "id": "2241"
      }
     },
     "output_type": "display_data"
    }
   ],
   "source": [
    "p = hl.plot.histogram(imputed_sex_ht.f_stat, title='Inbreeding coefficient (F) computed on the X chromosome')\n",
    "p.plot_width = 800\n",
    "p.plot_height = 500\n",
    "show(p)"
   ]
  },
  {
   "cell_type": "markdown",
   "metadata": {},
   "source": [
    "Based on the plot above, we define new $F$ thresholds for male and female, and do the imputation again."
   ]
  },
  {
   "cell_type": "code",
   "execution_count": 29,
   "metadata": {},
   "outputs": [],
   "source": [
    "imputed_sex_ht = hl.impute_sex(mt.GT, female_threshold=0.4, male_threshold=0.4)\n",
    "\n",
    "# Make a new variable 'sex' that is either 'f' or 'm'.\n",
    "imputed_sex_ht = imputed_sex_ht.annotate(sex = hl.if_else(imputed_sex_ht.is_female, 'f', 'm'))"
   ]
  },
  {
   "cell_type": "markdown",
   "metadata": {},
   "source": [
    "## Load self-reported gender data"
   ]
  },
  {
   "cell_type": "code",
   "execution_count": 30,
   "metadata": {},
   "outputs": [
    {
     "name": "stderr",
     "output_type": "stream",
     "text": [
      "2021-09-28 10:17:06 Hail: INFO: Reading table without type imputation\n",
      "  Loading field 'IndividualName' as type str (not specified)\n",
      "  Loading field 'Gender' as type str (not specified)\n"
     ]
    }
   ],
   "source": [
    "# Read the CSV.\n",
    "gender_ht = hl.import_table(BASE_DIR + '/data/metadata/fargen_indi-gen.csv', delimiter=',')\n",
    "\n",
    "# Key the table by individual name.\n",
    "gender_ht = gender_ht.key_by(gender_ht.IndividualName)\n",
    "\n",
    "# Us a boolean 'is_female' variable, like in the imputed data.\n",
    "gender_ht = gender_ht.annotate(gender = hl.if_else(gender_ht.Gender == '0', 'f', 'm'))\n",
    "\n",
    "# Recode the 'Gender' variable into a new 'gender' variable, that is either 'm', 'f', or missing.\n",
    "gender_ht = gender_ht.transmute(gender = hl.case()\n",
    "                                        .when(gender_ht.Gender == '0', 'f')\n",
    "                                        .when(gender_ht.Gender == '1', 'm')\n",
    "                                        .or_missing())"
   ]
  },
  {
   "cell_type": "markdown",
   "metadata": {},
   "source": [
    "## Compare imputed sex with self-reported gender\n",
    "\n",
    "Below we compute a confusion matrix between self-reported gender and imputed sex.\n",
    "\n",
    "We see that 7 samples have disconcordant sex and gender. Of these, 4 are reported as female and imputed as male, and 3 are reported as male and imputed as female."
   ]
  },
  {
   "cell_type": "code",
   "execution_count": 31,
   "metadata": {},
   "outputs": [
    {
     "name": "stderr",
     "output_type": "stream",
     "text": [
      "2021-09-28 10:17:07 Hail: INFO: Coerced sorted dataset\n",
      "2021-09-28 10:17:07 Hail: INFO: Coerced sorted dataset\n",
      "2021-09-28 10:17:07 Hail: INFO: Coerced sorted dataset\n"
     ]
    },
    {
     "data": {
      "text/html": [
       "<div>\n",
       "<style scoped>\n",
       "    .dataframe tbody tr th:only-of-type {\n",
       "        vertical-align: middle;\n",
       "    }\n",
       "\n",
       "    .dataframe tbody tr th {\n",
       "        vertical-align: top;\n",
       "    }\n",
       "\n",
       "    .dataframe thead th {\n",
       "        text-align: right;\n",
       "    }\n",
       "</style>\n",
       "<table border=\"1\" class=\"dataframe\">\n",
       "  <thead>\n",
       "    <tr style=\"text-align: right;\">\n",
       "      <th>Gender</th>\n",
       "      <th>f</th>\n",
       "      <th>m</th>\n",
       "      <th>Sum</th>\n",
       "    </tr>\n",
       "    <tr>\n",
       "      <th>Sex</th>\n",
       "      <th></th>\n",
       "      <th></th>\n",
       "      <th></th>\n",
       "    </tr>\n",
       "  </thead>\n",
       "  <tbody>\n",
       "    <tr>\n",
       "      <th>f</th>\n",
       "      <td>275</td>\n",
       "      <td>3</td>\n",
       "      <td>278</td>\n",
       "    </tr>\n",
       "    <tr>\n",
       "      <th>m</th>\n",
       "      <td>4</td>\n",
       "      <td>186</td>\n",
       "      <td>190</td>\n",
       "    </tr>\n",
       "    <tr>\n",
       "      <th>Sum</th>\n",
       "      <td>279</td>\n",
       "      <td>189</td>\n",
       "      <td>468</td>\n",
       "    </tr>\n",
       "  </tbody>\n",
       "</table>\n",
       "</div>"
      ],
      "text/plain": [
       "Gender    f    m  Sum\n",
       "Sex                  \n",
       "f       275    3  278\n",
       "m         4  186  190\n",
       "Sum     279  189  468"
      ]
     },
     "execution_count": 31,
     "metadata": {},
     "output_type": "execute_result"
    }
   ],
   "source": [
    "# Annotate the imputed sex table with the self-reported gender.\n",
    "imputed_sex_ht = imputed_sex_ht.annotate(gender=gender_ht[imputed_sex_ht.s].gender)\n",
    "\n",
    "# Make Pandas series with the sex and gender.\n",
    "sex = pd.Series(imputed_sex_ht.sex.collect(), name='Sex')\n",
    "gender = pd.Series(imputed_sex_ht.gender.collect(), name='Gender')\n",
    "\n",
    "# Calculate confusion matrix.\n",
    "confusion_table = pd.crosstab(sex, gender, margins=True, margins_name='Sum')\n",
    "\n",
    "confusion_table"
   ]
  },
  {
   "cell_type": "markdown",
   "metadata": {},
   "source": [
    "## Inspect disconcordant samples\n",
    "\n",
    "We will inspect the samples where the self-reported gender is different from the imputed sex.\n",
    "\n",
    "As we have seen, the males and females cluster very nicely w.r.t. the inbreeding coeffcient, so we can be confident that we are correctly imputing the sex. We used imputed samples with $F > 0.4$ as male and $F < 0.4$ as female.\n",
    "\n",
    "Below we see the imputation data for the samples where the imputed sex and self-reported gender mismatch. Note that these samples fall nicely into the categories defined by the cut-off values we defined."
   ]
  },
  {
   "cell_type": "code",
   "execution_count": 32,
   "metadata": {},
   "outputs": [
    {
     "name": "stderr",
     "output_type": "stream",
     "text": [
      "2021-09-28 10:17:08 Hail: INFO: Coerced sorted dataset\n",
      "2021-09-28 10:17:08 Hail: INFO: Coerced sorted dataset\n"
     ]
    },
    {
     "data": {
      "text/html": [
       "<table><thead><tr><td style=\"white-space: nowrap; max-width: 500px; overflow: hidden; text-overflow: ellipsis; \" colspan=\"1\"><div style=\"text-align: left;\"></div></td><td style=\"white-space: nowrap; max-width: 500px; overflow: hidden; text-overflow: ellipsis; \" colspan=\"1\"><div style=\"text-align: left;\"></div></td><td style=\"white-space: nowrap; max-width: 500px; overflow: hidden; text-overflow: ellipsis; \" colspan=\"1\"><div style=\"text-align: left;\"></div></td><td style=\"white-space: nowrap; max-width: 500px; overflow: hidden; text-overflow: ellipsis; \" colspan=\"1\"><div style=\"text-align: left;\"></div></td><td style=\"white-space: nowrap; max-width: 500px; overflow: hidden; text-overflow: ellipsis; \" colspan=\"1\"><div style=\"text-align: left;\"></div></td><td style=\"white-space: nowrap; max-width: 500px; overflow: hidden; text-overflow: ellipsis; \" colspan=\"1\"><div style=\"text-align: left;\"></div></td><td style=\"white-space: nowrap; max-width: 500px; overflow: hidden; text-overflow: ellipsis; \" colspan=\"1\"><div style=\"text-align: left;\"></div></td><td style=\"white-space: nowrap; max-width: 500px; overflow: hidden; text-overflow: ellipsis; \" colspan=\"1\"><div style=\"text-align: left;\"></div></td></tr><tr><td style=\"white-space: nowrap; max-width: 500px; overflow: hidden; text-overflow: ellipsis; \" colspan=\"1\"><div style=\"text-align: left;border-bottom: solid 2px #000; padding-bottom: 5px\">s</div></td><td style=\"white-space: nowrap; max-width: 500px; overflow: hidden; text-overflow: ellipsis; \" colspan=\"1\"><div style=\"text-align: left;border-bottom: solid 2px #000; padding-bottom: 5px\">is_female</div></td><td style=\"white-space: nowrap; max-width: 500px; overflow: hidden; text-overflow: ellipsis; \" colspan=\"1\"><div style=\"text-align: left;border-bottom: solid 2px #000; padding-bottom: 5px\">f_stat</div></td><td style=\"white-space: nowrap; max-width: 500px; overflow: hidden; text-overflow: ellipsis; \" colspan=\"1\"><div style=\"text-align: left;border-bottom: solid 2px #000; padding-bottom: 5px\">n_called</div></td><td style=\"white-space: nowrap; max-width: 500px; overflow: hidden; text-overflow: ellipsis; \" colspan=\"1\"><div style=\"text-align: left;border-bottom: solid 2px #000; padding-bottom: 5px\">expected_homs</div></td><td style=\"white-space: nowrap; max-width: 500px; overflow: hidden; text-overflow: ellipsis; \" colspan=\"1\"><div style=\"text-align: left;border-bottom: solid 2px #000; padding-bottom: 5px\">observed_homs</div></td><td style=\"white-space: nowrap; max-width: 500px; overflow: hidden; text-overflow: ellipsis; \" colspan=\"1\"><div style=\"text-align: left;border-bottom: solid 2px #000; padding-bottom: 5px\">sex</div></td><td style=\"white-space: nowrap; max-width: 500px; overflow: hidden; text-overflow: ellipsis; \" colspan=\"1\"><div style=\"text-align: left;border-bottom: solid 2px #000; padding-bottom: 5px\">gender</div></td></tr><tr><td style=\"white-space: nowrap; max-width: 500px; overflow: hidden; text-overflow: ellipsis; text-align: left;\">str</td><td style=\"white-space: nowrap; max-width: 500px; overflow: hidden; text-overflow: ellipsis; text-align: left;\">bool</td><td style=\"white-space: nowrap; max-width: 500px; overflow: hidden; text-overflow: ellipsis; text-align: left;\">float64</td><td style=\"white-space: nowrap; max-width: 500px; overflow: hidden; text-overflow: ellipsis; text-align: left;\">int64</td><td style=\"white-space: nowrap; max-width: 500px; overflow: hidden; text-overflow: ellipsis; text-align: left;\">float64</td><td style=\"white-space: nowrap; max-width: 500px; overflow: hidden; text-overflow: ellipsis; text-align: left;\">int64</td><td style=\"white-space: nowrap; max-width: 500px; overflow: hidden; text-overflow: ellipsis; text-align: left;\">str</td><td style=\"white-space: nowrap; max-width: 500px; overflow: hidden; text-overflow: ellipsis; text-align: left;\">str</td></tr>\n",
       "</thead><tbody><tr><td style=\"white-space: nowrap; max-width: 500px; overflow: hidden; text-overflow: ellipsis; \">&quot;FN000187&quot;</td><td style=\"white-space: nowrap; max-width: 500px; overflow: hidden; text-overflow: ellipsis; \">true</td><td style=\"white-space: nowrap; max-width: 500px; overflow: hidden; text-overflow: ellipsis; \">1.65e-01</td><td style=\"white-space: nowrap; max-width: 500px; overflow: hidden; text-overflow: ellipsis; \">307</td><td style=\"white-space: nowrap; max-width: 500px; overflow: hidden; text-overflow: ellipsis; \">2.54e+02</td><td style=\"white-space: nowrap; max-width: 500px; overflow: hidden; text-overflow: ellipsis; \">263</td><td style=\"white-space: nowrap; max-width: 500px; overflow: hidden; text-overflow: ellipsis; \">&quot;f&quot;</td><td style=\"white-space: nowrap; max-width: 500px; overflow: hidden; text-overflow: ellipsis; \">&quot;m&quot;</td></tr>\n",
       "<tr><td style=\"white-space: nowrap; max-width: 500px; overflow: hidden; text-overflow: ellipsis; \">&quot;FN000861&quot;</td><td style=\"white-space: nowrap; max-width: 500px; overflow: hidden; text-overflow: ellipsis; \">true</td><td style=\"white-space: nowrap; max-width: 500px; overflow: hidden; text-overflow: ellipsis; \">-1.62e-01</td><td style=\"white-space: nowrap; max-width: 500px; overflow: hidden; text-overflow: ellipsis; \">328</td><td style=\"white-space: nowrap; max-width: 500px; overflow: hidden; text-overflow: ellipsis; \">2.69e+02</td><td style=\"white-space: nowrap; max-width: 500px; overflow: hidden; text-overflow: ellipsis; \">260</td><td style=\"white-space: nowrap; max-width: 500px; overflow: hidden; text-overflow: ellipsis; \">&quot;f&quot;</td><td style=\"white-space: nowrap; max-width: 500px; overflow: hidden; text-overflow: ellipsis; \">&quot;m&quot;</td></tr>\n",
       "<tr><td style=\"white-space: nowrap; max-width: 500px; overflow: hidden; text-overflow: ellipsis; \">&quot;FN000871&quot;</td><td style=\"white-space: nowrap; max-width: 500px; overflow: hidden; text-overflow: ellipsis; \">true</td><td style=\"white-space: nowrap; max-width: 500px; overflow: hidden; text-overflow: ellipsis; \">-2.83e-02</td><td style=\"white-space: nowrap; max-width: 500px; overflow: hidden; text-overflow: ellipsis; \">323</td><td style=\"white-space: nowrap; max-width: 500px; overflow: hidden; text-overflow: ellipsis; \">2.66e+02</td><td style=\"white-space: nowrap; max-width: 500px; overflow: hidden; text-overflow: ellipsis; \">264</td><td style=\"white-space: nowrap; max-width: 500px; overflow: hidden; text-overflow: ellipsis; \">&quot;f&quot;</td><td style=\"white-space: nowrap; max-width: 500px; overflow: hidden; text-overflow: ellipsis; \">&quot;m&quot;</td></tr>\n",
       "<tr><td style=\"white-space: nowrap; max-width: 500px; overflow: hidden; text-overflow: ellipsis; \">&quot;FN000884&quot;</td><td style=\"white-space: nowrap; max-width: 500px; overflow: hidden; text-overflow: ellipsis; \">false</td><td style=\"white-space: nowrap; max-width: 500px; overflow: hidden; text-overflow: ellipsis; \">8.06e-01</td><td style=\"white-space: nowrap; max-width: 500px; overflow: hidden; text-overflow: ellipsis; \">227</td><td style=\"white-space: nowrap; max-width: 500px; overflow: hidden; text-overflow: ellipsis; \">1.91e+02</td><td style=\"white-space: nowrap; max-width: 500px; overflow: hidden; text-overflow: ellipsis; \">220</td><td style=\"white-space: nowrap; max-width: 500px; overflow: hidden; text-overflow: ellipsis; \">&quot;m&quot;</td><td style=\"white-space: nowrap; max-width: 500px; overflow: hidden; text-overflow: ellipsis; \">&quot;f&quot;</td></tr>\n",
       "<tr><td style=\"white-space: nowrap; max-width: 500px; overflow: hidden; text-overflow: ellipsis; \">&quot;FN000902&quot;</td><td style=\"white-space: nowrap; max-width: 500px; overflow: hidden; text-overflow: ellipsis; \">false</td><td style=\"white-space: nowrap; max-width: 500px; overflow: hidden; text-overflow: ellipsis; \">7.76e-01</td><td style=\"white-space: nowrap; max-width: 500px; overflow: hidden; text-overflow: ellipsis; \">121</td><td style=\"white-space: nowrap; max-width: 500px; overflow: hidden; text-overflow: ellipsis; \">1.03e+02</td><td style=\"white-space: nowrap; max-width: 500px; overflow: hidden; text-overflow: ellipsis; \">117</td><td style=\"white-space: nowrap; max-width: 500px; overflow: hidden; text-overflow: ellipsis; \">&quot;m&quot;</td><td style=\"white-space: nowrap; max-width: 500px; overflow: hidden; text-overflow: ellipsis; \">&quot;f&quot;</td></tr>\n",
       "<tr><td style=\"white-space: nowrap; max-width: 500px; overflow: hidden; text-overflow: ellipsis; \">&quot;FN000957&quot;</td><td style=\"white-space: nowrap; max-width: 500px; overflow: hidden; text-overflow: ellipsis; \">false</td><td style=\"white-space: nowrap; max-width: 500px; overflow: hidden; text-overflow: ellipsis; \">7.72e-01</td><td style=\"white-space: nowrap; max-width: 500px; overflow: hidden; text-overflow: ellipsis; \">191</td><td style=\"white-space: nowrap; max-width: 500px; overflow: hidden; text-overflow: ellipsis; \">1.60e+02</td><td style=\"white-space: nowrap; max-width: 500px; overflow: hidden; text-overflow: ellipsis; \">184</td><td style=\"white-space: nowrap; max-width: 500px; overflow: hidden; text-overflow: ellipsis; \">&quot;m&quot;</td><td style=\"white-space: nowrap; max-width: 500px; overflow: hidden; text-overflow: ellipsis; \">&quot;f&quot;</td></tr>\n",
       "<tr><td style=\"white-space: nowrap; max-width: 500px; overflow: hidden; text-overflow: ellipsis; \">&quot;FN001127&quot;</td><td style=\"white-space: nowrap; max-width: 500px; overflow: hidden; text-overflow: ellipsis; \">false</td><td style=\"white-space: nowrap; max-width: 500px; overflow: hidden; text-overflow: ellipsis; \">8.91e-01</td><td style=\"white-space: nowrap; max-width: 500px; overflow: hidden; text-overflow: ellipsis; \">230</td><td style=\"white-space: nowrap; max-width: 500px; overflow: hidden; text-overflow: ellipsis; \">1.93e+02</td><td style=\"white-space: nowrap; max-width: 500px; overflow: hidden; text-overflow: ellipsis; \">226</td><td style=\"white-space: nowrap; max-width: 500px; overflow: hidden; text-overflow: ellipsis; \">&quot;m&quot;</td><td style=\"white-space: nowrap; max-width: 500px; overflow: hidden; text-overflow: ellipsis; \">&quot;f&quot;</td></tr>\n",
       "</tbody></table>"
      ],
      "text/plain": [
       "+------------+-----------+-----------+----------+---------------+\n",
       "| s          | is_female |    f_stat | n_called | expected_homs |\n",
       "+------------+-----------+-----------+----------+---------------+\n",
       "| str        |      bool |   float64 |    int64 |       float64 |\n",
       "+------------+-----------+-----------+----------+---------------+\n",
       "| \"FN000187\" |      true |  1.65e-01 |      307 |      2.54e+02 |\n",
       "| \"FN000861\" |      true | -1.62e-01 |      328 |      2.69e+02 |\n",
       "| \"FN000871\" |      true | -2.83e-02 |      323 |      2.66e+02 |\n",
       "| \"FN000884\" |     false |  8.06e-01 |      227 |      1.91e+02 |\n",
       "| \"FN000902\" |     false |  7.76e-01 |      121 |      1.03e+02 |\n",
       "| \"FN000957\" |     false |  7.72e-01 |      191 |      1.60e+02 |\n",
       "| \"FN001127\" |     false |  8.91e-01 |      230 |      1.93e+02 |\n",
       "+------------+-----------+-----------+----------+---------------+\n",
       "\n",
       "+---------------+-----+--------+\n",
       "| observed_homs | sex | gender |\n",
       "+---------------+-----+--------+\n",
       "|         int64 | str | str    |\n",
       "+---------------+-----+--------+\n",
       "|           263 | \"f\" | \"m\"    |\n",
       "|           260 | \"f\" | \"m\"    |\n",
       "|           264 | \"f\" | \"m\"    |\n",
       "|           220 | \"m\" | \"f\"    |\n",
       "|           117 | \"m\" | \"f\"    |\n",
       "|           184 | \"m\" | \"f\"    |\n",
       "|           226 | \"m\" | \"f\"    |\n",
       "+---------------+-----+--------+"
      ]
     },
     "metadata": {},
     "output_type": "display_data"
    }
   ],
   "source": [
    "imputed_sex_ht.filter(imputed_sex_ht.sex != imputed_sex_ht.gender).show()"
   ]
  },
  {
   "cell_type": "markdown",
   "metadata": {},
   "source": [
    "We will investigate whether poor data quality can explain the disconcordancy. If anything seems to be abnormal with these samples, we may distrust the data."
   ]
  },
  {
   "cell_type": "code",
   "execution_count": 33,
   "metadata": {},
   "outputs": [],
   "source": [
    "# Annotate the table with a boolean sex mismatch variable.\n",
    "imputed_sex_ht = imputed_sex_ht.annotate(sex_mismatch = imputed_sex_ht.sex != imputed_sex_ht.gender)\n",
    "\n",
    "# Annotate the matrix table with the same information.\n",
    "mt = mt.annotate_cols(sex_mismatch = imputed_sex_ht[mt.s].sex_mismatch)"
   ]
  },
  {
   "cell_type": "markdown",
   "metadata": {},
   "source": [
    "The plot below shows the per samples DP mean and against different other QC variables. The samples with disconcordant sex are highlighted in blue.\n",
    "\n",
    "We must note that it seems that GQ seems to be correlated with number of heterozygotes. Samples with low genotype quality seem to have fewer heterozygotes. This does make some intuitivt sense. If a sample has low depth it will have fewer called variants, therefore more homozygote reference and therefore fewer heterozygotes. This same pattern is reflected in the call rate and number of singletons."
   ]
  },
  {
   "cell_type": "code",
   "execution_count": 34,
   "metadata": {},
   "outputs": [
    {
     "name": "stderr",
     "output_type": "stream",
     "text": [
      "2021-09-28 10:17:09 Hail: INFO: Coerced sorted dataset\n",
      "2021-09-28 10:17:09 Hail: INFO: Coerced sorted dataset\n",
      "2021-09-28 10:17:09 Hail: INFO: Coerced sorted dataset\n",
      "2021-09-28 10:17:09 Hail: INFO: Coerced sorted dataset\n",
      "2021-09-28 10:17:10 Hail: INFO: Coerced sorted dataset\n",
      "2021-09-28 10:17:10 Hail: INFO: Coerced sorted dataset\n",
      "2021-09-28 10:17:11 Hail: INFO: Coerced sorted dataset\n",
      "2021-09-28 10:17:11 Hail: INFO: Coerced sorted dataset\n"
     ]
    }
   ],
   "source": [
    "exprs_list = [('# heterozygotes', mt.sample_qc.n_het), ('Ti/Tv rate', mt.sample_qc.r_ti_tv), ('Call rate', mt.sample_qc.call_rate), ('# singletons', mt.sample_qc.n_singleton)]\n",
    "plot_list = []\n",
    "for name, exprs in exprs_list:\n",
    "    p = hl.plot.scatter(mt.sample_qc.dp_stats.mean, exprs, label=mt.sex_mismatch, title=name, xlabel='DP mean', ylabel=name)\n",
    "    p.plot_width = 800\n",
    "    p.plot_height = 500\n",
    "    plot_list.append(p)"
   ]
  },
  {
   "cell_type": "code",
   "execution_count": 35,
   "metadata": {},
   "outputs": [
    {
     "data": {
      "text/html": [
       "\n",
       "\n",
       "\n",
       "\n",
       "\n",
       "\n",
       "  <div class=\"bk-root\" id=\"5eb9f018-fb12-4ca8-b7f6-2bb108edcd50\" data-root-id=\"2687\"></div>\n"
      ]
     },
     "metadata": {},
     "output_type": "display_data"
    },
    {
     "data": {
      "application/javascript": [
       "(function(root) {\n",
       "  function embed_document(root) {\n",
       "    \n",
       "  var docs_json = {\"4c8ea9f1-0dfe-408f-b286-87e9f0dc0af4\":{\"roots\":{\"references\":[{\"attributes\":{\"children\":[{\"id\":\"2686\",\"type\":\"ToolbarBox\"},{\"id\":\"2684\",\"type\":\"GridBox\"}]},\"id\":\"2687\",\"type\":\"Column\"},{\"attributes\":{\"fill_color\":{\"field\":\"label\",\"transform\":{\"id\":\"2461\",\"type\":\"CategoricalColorMapper\"}},\"line_color\":{\"field\":\"label\",\"transform\":{\"id\":\"2461\",\"type\":\"CategoricalColorMapper\"}},\"x\":{\"field\":\"x\"},\"y\":{\"field\":\"y\"}},\"id\":\"2465\",\"type\":\"Circle\"},{\"attributes\":{},\"id\":\"2654\",\"type\":\"BasicTicker\"},{\"attributes\":{\"click_policy\":\"hide\",\"items\":[{\"id\":\"2528\",\"type\":\"LegendItem\"},{\"id\":\"2529\",\"type\":\"LegendItem\"}]},\"id\":\"2530\",\"type\":\"Legend\"},{\"attributes\":{\"label\":{\"value\":\"true\"},\"renderers\":[{\"id\":\"2473\",\"type\":\"GlyphRenderer\"}]},\"id\":\"2475\",\"type\":\"LegendItem\"},{\"attributes\":{},\"id\":\"2603\",\"type\":\"BasicTicker\"},{\"attributes\":{\"factors\":[\"true\",\"false\"],\"palette\":[\"#1f77b4\",\"#ff7f0e\",\"#2ca02c\",\"#d62728\",\"#9467bd\",\"#8c564b\",\"#e377c2\",\"#7f7f7f\",\"#bcbd22\",\"#17becf\"]},\"id\":\"2623\",\"type\":\"CategoricalColorMapper\"},{\"attributes\":{\"active_drag\":\"auto\",\"active_inspect\":\"auto\",\"active_multi\":null,\"active_scroll\":\"auto\",\"active_tap\":\"auto\",\"tools\":[{\"id\":\"2607\",\"type\":\"PanTool\"},{\"id\":\"2608\",\"type\":\"WheelZoomTool\"},{\"id\":\"2609\",\"type\":\"BoxZoomTool\"},{\"id\":\"2610\",\"type\":\"SaveTool\"},{\"id\":\"2611\",\"type\":\"ResetTool\"},{\"id\":\"2612\",\"type\":\"HelpTool\"},{\"id\":\"2621\",\"type\":\"HoverTool\"}]},\"id\":\"2613\",\"type\":\"Toolbar\"},{\"attributes\":{\"factors\":[\"true\",\"false\"],\"palette\":[\"#1f77b4\",\"#ff7f0e\",\"#2ca02c\",\"#d62728\",\"#9467bd\",\"#8c564b\",\"#e377c2\",\"#7f7f7f\",\"#bcbd22\",\"#17becf\"]},\"id\":\"2461\",\"type\":\"CategoricalColorMapper\"},{\"attributes\":{\"callback\":null,\"data\":{\"index\":[0,1,2,3,4,5,6,7,8,9,10,11,12,13,14,15,16,17,18,19,20,21,22,23,24,25,26,27,28,29,30,31,32,33,34,35,36,37,38,39,40,41,42,43,44,45,46,47,48,49,50,51,52,53,54,55,56,57,58,59,60,61,62,63,64,65,66,67,68,69,70,71,72,73,74,75,76,77,78,79,80,81,82,83,84,85,86,87,88,89,90,91,92,93,94,95,96,97,98,99,100,101,102,103,104,105,106,107,108,109,110,111,112,113,114,115,116,117,118,119,120,121,122,123,124,125,126,127,128,129,130,131,132,133,134,135,136,137,138,139,140,141,142,143,144,145,146,147,148,149,150,151,152,153,154,155,156,157,158,159,160,161,162,163,164,165,166,167,168,169,170,171,172,173,174,175,176,177,178,179,180,181,182,183,184,185,186,187,188,189,190,191,192,193,194,195,196,197,198,199,200,201,202,203,204,205,206,207,208,209,210,211,212,213,214,215,216,217,218,219,220,221,222,223,224,225,226,227,228,229,230,231,232,233,234,235,236,237,238,239,240,241,242,243,244,245,246,247,248,249,250,251,252,253,254,255,256,257,258,259,260,261,262,263,264,265,266,267,268,269,270,271,272,273,274,275,276,277,278,279,280,281,282,283,284,285,286,287,288,289,290,291,292,293,294,295,296,297,298,299,300,301,302,303,304,305,306,307,308,309,310,311,312,313,314,315,316,317,318,319,320,321,322,323,324,325,326,327,328,329,330,331,332,333,334,335,336,337,338,339,340,341,342,343,344,345,346,347,348,349,350,351,352,353,354,355,356,357,358,359,360,361,362,363,364,365,366,367,368,369,370,371,372,373,374,375,376,377,378,379,380,381,382,383,384,385,386,387,388,389,390,391,392,393,394,395,396,397,398,399,400,401,402,403,404,405,406,407,408,409,410,411,412,413,414,415,416,417,418,419,420,421,422,423,424,425,426,427,428,429,430,431,432,433,434,435,436,437,438,439,440,441,442,443,444,445],\"label\":[\"false\",\"false\",\"false\",\"false\",\"false\",\"false\",\"false\",\"false\",\"false\",\"false\",\"false\",\"false\",\"false\",\"false\",\"false\",\"false\",\"false\",\"false\",\"false\",\"false\",\"false\",\"false\",\"false\",\"true\",\"false\",\"false\",\"false\",\"false\",\"false\",\"false\",\"false\",\"false\",\"false\",\"false\",\"false\",\"false\",\"false\",\"false\",\"false\",\"false\",\"false\",\"false\",\"false\",\"false\",\"false\",\"false\",\"false\",\"false\",\"false\",\"false\",\"false\",\"false\",\"true\",\"false\",\"false\",\"false\",\"false\",\"false\",\"false\",\"false\",\"false\",\"false\",\"false\",\"false\",\"false\",\"false\",\"false\",\"false\",\"false\",\"false\",\"false\",\"false\",\"false\",\"false\",\"false\",\"false\",\"false\",\"false\",\"false\",\"false\",\"false\",\"false\",\"false\",\"false\",\"false\",\"false\",\"false\",\"false\",\"false\",\"false\",\"false\",\"false\",\"false\",\"false\",\"false\",\"false\",\"false\",\"false\",\"false\",\"false\",\"false\",\"false\",\"false\",\"false\",\"false\",\"false\",\"false\",\"false\",\"false\",\"false\",\"false\",\"false\",\"false\",\"false\",\"false\",\"false\",\"false\",\"false\",\"false\",\"false\",\"false\",\"false\",\"false\",\"false\",\"false\",\"false\",\"false\",\"false\",\"false\",\"false\",\"false\",\"false\",\"false\",\"false\",\"false\",\"false\",\"false\",\"false\",\"false\",\"false\",\"false\",\"false\",\"false\",\"false\",\"false\",\"false\",\"false\",\"false\",\"false\",\"false\",\"false\",\"false\",\"false\",\"false\",\"false\",\"false\",\"false\",\"false\",\"false\",\"false\",\"false\",\"false\",\"false\",\"false\",\"false\",\"false\",\"false\",\"false\",\"false\",\"true\",\"false\",\"false\",\"false\",\"false\",\"false\",\"false\",\"false\",\"false\",\"false\",\"false\",\"false\",\"false\",\"false\",\"false\",\"true\",\"false\",\"false\",\"false\",\"false\",\"false\",\"false\",\"false\",\"true\",\"false\",\"false\",\"false\",\"false\",\"false\",\"false\",\"false\",\"false\",\"false\",\"false\",\"false\",\"false\",\"false\",\"false\",\"false\",\"false\",\"false\",\"false\",\"false\",\"false\",\"false\",\"false\",\"false\",\"false\",\"false\",\"false\",\"false\",\"false\",\"false\",\"false\",\"false\",\"false\",\"false\",\"false\",\"false\",\"false\",\"false\",\"false\",\"false\",\"false\",\"false\",\"false\",\"false\",\"false\",\"false\",\"false\",\"false\",\"false\",\"false\",\"false\",\"false\",\"false\",\"false\",\"false\",\"false\",\"false\",\"false\",\"false\",\"false\",\"false\",\"false\",\"false\",\"false\",\"false\",\"false\",\"false\",\"false\",\"false\",\"false\",\"false\",\"false\",\"false\",\"false\",\"false\",\"false\",\"false\",\"false\",\"false\",\"false\",\"false\",\"false\",\"false\",\"false\",\"false\",\"false\",\"false\",\"false\",\"false\",\"false\",\"false\",\"false\",\"false\",\"false\",\"false\",\"false\",\"false\",\"false\",\"false\",\"false\",\"false\",\"false\",\"false\",\"false\",\"false\",\"false\",\"false\",\"false\",\"false\",\"false\",\"false\",\"false\",\"false\",\"false\",\"false\",\"false\",\"false\",\"false\",\"false\",\"false\",\"false\",\"false\",\"false\",\"false\",\"false\",\"false\",\"false\",\"false\",\"false\",\"false\",\"false\",\"false\",\"false\",\"false\",\"false\",\"false\",\"false\",\"false\",\"false\",\"false\",\"false\",\"false\",\"false\",\"false\",\"false\",\"false\",\"false\",\"false\",\"false\",\"false\",\"false\",\"false\",\"false\",\"false\",\"false\",\"false\",\"false\",\"false\",\"false\",\"false\",\"false\",\"false\",\"false\",\"false\",\"false\",\"false\",\"false\",\"false\",\"false\",\"false\",\"false\",\"false\",\"false\",\"false\",\"false\",\"false\",\"true\",\"false\",\"false\",\"true\",\"false\",\"false\",\"false\",\"false\",\"false\",\"false\",\"false\",\"false\",\"false\",\"false\",\"false\",\"false\",\"false\",\"false\",\"false\",\"false\",\"false\",\"false\",\"false\",\"false\",\"false\",\"false\",\"false\",\"false\",\"false\",\"false\",\"false\",\"false\",\"false\",\"false\",\"false\",\"false\",\"false\",\"false\",\"false\",\"false\",\"false\",\"false\",\"false\",\"false\",\"false\",\"false\",\"false\",\"false\",\"false\",\"false\",\"false\",\"false\",\"false\",\"false\",\"false\",\"false\",\"false\",\"false\",\"false\",\"false\",\"false\",\"false\",\"false\",\"false\",\"false\",\"false\",\"false\",\"false\",\"false\",\"false\",\"false\",\"false\",\"false\",\"false\",\"false\",\"false\",\"false\",\"false\"],\"x\":{\"__ndarray__\":\"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\",\"dtype\":\"float64\",\"shape\":[446]},\"y\":{\"__ndarray__\":\"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\",\"dtype\":\"float64\",\"shape\":[446]}},\"selected\":{\"id\":\"2670\",\"type\":\"Selection\"},\"selection_policy\":{\"id\":\"2671\",\"type\":\"UnionRenderers\"}},\"id\":\"2568\",\"type\":\"ColumnDataSource\"},{\"attributes\":{\"callback\":null,\"data\":{\"index\":[0,1,2,3,4,5,6,7,8,9,10,11,12,13,14,15,16,17,18,19,20,21,22,23,24,25,26,27,28,29,30,31,32,33,34,35,36,37,38,39,40,41,42,43,44,45,46,47,48,49,50,51,52,53,54,55,56,57,58,59,60,61,62,63,64,65,66,67,68,69,70,71,72,73,74,75,76,77,78,79,80,81,82,83,84,85,86,87,88,89,90,91,92,93,94,95,96,97,98,99,100,101,102,103,104,105,106,107,108,109,110,111,112,113,114,115,116,117,118,119,120,121,122,123,124,125,126,127,128,129,130,131,132,133,134,135,136,137,138,139,140,141,142,143,144,145,146,147,148,149,150,151,152,153,154,155,156,157,158,159,160,161,162,163,164,165,166,167,168,169,170,171,172,173,174,175,176,177,178,179,180,181,182,183,184,185,186,187,188,189,190,191,192,193,194,195,196,197,198,199,200,201,202,203,204,205,206,207,208,209,210,211,212,213,214,215,216,217,218,219,220,221,222,223,224,225,226,227,228,229,230,231,232,233,234,235,236,237,238,239,240,241,242,243,244,245,246,247,248,249,250,251,252,253,254,255,256,257,258,259,260,261,262,263,264,265,266,267,268,269,270,271,272,273,274,275,276,277,278,279,280,281,282,283,284,285,286,287,288,289,290,291,292,293,294,295,296,297,298,299,300,301,302,303,304,305,306,307,308,309,310,311,312,313,314,315,316,317,318,319,320,321,322,323,324,325,326,327,328,329,330,331,332,333,334,335,336,337,338,339,340,341,342,343,344,345,346,347,348,349,350,351,352,353,354,355,356,357,358,359,360,361,362,363,364,365,366,367,368,369,370,371,372,373,374,375,376,377,378,379,380,381,382,383,384,385,386,387,388,389,390,391,392,393,394,395,396,397,398,399,400,401,402,403,404,405,406,407,408,409,410,411,412,413,414,415,416,417,418,419,420,421,422,423,424,425,426,427,428,429,430,431,432,433,434,435,436,437,438,439],\"label\":[\"false\",\"false\",\"false\",\"false\",\"false\",\"false\",\"false\",\"false\",\"false\",\"false\",\"false\",\"false\",\"false\",\"false\",\"false\",\"false\",\"false\",\"false\",\"false\",\"false\",\"false\",\"false\",\"false\",\"true\",\"false\",\"false\",\"false\",\"false\",\"false\",\"false\",\"false\",\"false\",\"false\",\"false\",\"false\",\"false\",\"false\",\"false\",\"false\",\"false\",\"false\",\"false\",\"false\",\"false\",\"false\",\"false\",\"false\",\"false\",\"false\",\"false\",\"false\",\"true\",\"false\",\"false\",\"false\",\"false\",\"false\",\"false\",\"false\",\"false\",\"false\",\"false\",\"false\",\"false\",\"false\",\"false\",\"false\",\"false\",\"false\",\"false\",\"false\",\"false\",\"false\",\"false\",\"false\",\"false\",\"false\",\"false\",\"false\",\"false\",\"false\",\"false\",\"false\",\"false\",\"false\",\"false\",\"false\",\"false\",\"false\",\"false\",\"false\",\"false\",\"false\",\"false\",\"false\",\"false\",\"false\",\"false\",\"false\",\"false\",\"false\",\"false\",\"false\",\"false\",\"false\",\"false\",\"false\",\"false\",\"false\",\"false\",\"false\",\"false\",\"false\",\"false\",\"false\",\"false\",\"false\",\"false\",\"false\",\"false\",\"false\",\"false\",\"false\",\"false\",\"false\",\"false\",\"false\",\"false\",\"false\",\"false\",\"false\",\"false\",\"false\",\"false\",\"false\",\"false\",\"false\",\"false\",\"false\",\"false\",\"false\",\"false\",\"false\",\"false\",\"false\",\"false\",\"false\",\"false\",\"false\",\"false\",\"false\",\"false\",\"false\",\"false\",\"false\",\"false\",\"false\",\"false\",\"false\",\"false\",\"false\",\"false\",\"false\",\"false\",\"false\",\"false\",\"false\",\"true\",\"false\",\"false\",\"false\",\"false\",\"false\",\"false\",\"false\",\"false\",\"false\",\"false\",\"false\",\"false\",\"true\",\"false\",\"false\",\"false\",\"false\",\"false\",\"false\",\"false\",\"true\",\"false\",\"false\",\"false\",\"false\",\"false\",\"false\",\"false\",\"false\",\"false\",\"false\",\"false\",\"false\",\"false\",\"false\",\"false\",\"false\",\"false\",\"false\",\"false\",\"false\",\"false\",\"false\",\"false\",\"false\",\"false\",\"false\",\"false\",\"false\",\"false\",\"false\",\"false\",\"false\",\"false\",\"false\",\"false\",\"false\",\"false\",\"false\",\"false\",\"false\",\"false\",\"false\",\"false\",\"false\",\"false\",\"false\",\"false\",\"false\",\"false\",\"false\",\"false\",\"false\",\"false\",\"false\",\"false\",\"false\",\"false\",\"false\",\"false\",\"false\",\"false\",\"false\",\"false\",\"false\",\"false\",\"false\",\"false\",\"false\",\"false\",\"false\",\"false\",\"false\",\"false\",\"false\",\"false\",\"false\",\"false\",\"false\",\"false\",\"false\",\"false\",\"false\",\"false\",\"false\",\"false\",\"false\",\"false\",\"false\",\"false\",\"false\",\"false\",\"false\",\"false\",\"false\",\"false\",\"false\",\"false\",\"false\",\"false\",\"false\",\"false\",\"false\",\"false\",\"false\",\"false\",\"false\",\"false\",\"false\",\"false\",\"false\",\"false\",\"false\",\"false\",\"false\",\"false\",\"false\",\"false\",\"false\",\"false\",\"false\",\"false\",\"false\",\"false\",\"false\",\"false\",\"false\",\"false\",\"false\",\"false\",\"false\",\"false\",\"false\",\"false\",\"false\",\"false\",\"false\",\"false\",\"false\",\"false\",\"false\",\"false\",\"false\",\"false\",\"false\",\"false\",\"false\",\"false\",\"false\",\"false\",\"false\",\"false\",\"false\",\"false\",\"false\",\"false\",\"false\",\"false\",\"false\",\"false\",\"false\",\"false\",\"false\",\"false\",\"false\",\"false\",\"false\",\"false\",\"false\",\"false\",\"false\",\"true\",\"false\",\"false\",\"false\",\"true\",\"false\",\"false\",\"false\",\"false\",\"false\",\"false\",\"false\",\"false\",\"false\",\"false\",\"false\",\"false\",\"false\",\"false\",\"false\",\"false\",\"false\",\"false\",\"false\",\"false\",\"false\",\"false\",\"false\",\"false\",\"false\",\"false\",\"false\",\"false\",\"false\",\"false\",\"false\",\"false\",\"false\",\"false\",\"false\",\"false\",\"false\",\"false\",\"false\",\"false\",\"false\",\"false\",\"false\",\"false\",\"false\",\"false\",\"false\",\"false\",\"false\",\"false\",\"false\",\"false\",\"false\",\"false\",\"false\",\"false\",\"false\",\"false\",\"false\",\"false\",\"false\",\"false\",\"false\",\"false\",\"false\",\"false\",\"false\",\"false\",\"false\",\"false\",\"false\",\"false\",\"false\",\"false\",\"false\",\"false\"],\"x\":{\"__ndarray__\":\"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\",\"dtype\":\"float64\",\"shape\":[440]},\"y\":{\"__ndarray__\":\"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\",\"dtype\":\"float64\",\"shape\":[440]}},\"selected\":{\"id\":\"2648\",\"type\":\"Selection\"},\"selection_policy\":{\"id\":\"2649\",\"type\":\"UnionRenderers\"}},\"id\":\"2460\",\"type\":\"ColumnDataSource\"},{\"attributes\":{\"callback\":null,\"tooltips\":[[\"x\",\"@x\"],[\"y\",\"@y\"],[\"label\",\"@label\"]]},\"id\":\"2459\",\"type\":\"HoverTool\"},{\"attributes\":{},\"id\":\"2557\",\"type\":\"ResetTool\"},{\"attributes\":{\"overlay\":{\"id\":\"2680\",\"type\":\"BoxAnnotation\"}},\"id\":\"2609\",\"type\":\"BoxZoomTool\"},{\"attributes\":{\"filters\":[{\"id\":\"2468\",\"type\":\"GroupFilter\"}],\"source\":{\"id\":\"2460\",\"type\":\"ColumnDataSource\"}},\"id\":\"2469\",\"type\":\"CDSView\"},{\"attributes\":{\"fill_color\":{\"field\":\"label\",\"transform\":{\"id\":\"2623\",\"type\":\"CategoricalColorMapper\"}},\"line_color\":{\"field\":\"label\",\"transform\":{\"id\":\"2623\",\"type\":\"CategoricalColorMapper\"}},\"x\":{\"field\":\"x\"},\"y\":{\"field\":\"y\"}},\"id\":\"2627\",\"type\":\"Circle\"},{\"attributes\":{},\"id\":\"2554\",\"type\":\"WheelZoomTool\"},{\"attributes\":{\"overlay\":{\"id\":\"2647\",\"type\":\"BoxAnnotation\"}},\"id\":\"2447\",\"type\":\"BoxZoomTool\"},{\"attributes\":{},\"id\":\"2450\",\"type\":\"HelpTool\"},{\"attributes\":{\"active_drag\":\"auto\",\"active_inspect\":\"auto\",\"active_multi\":null,\"active_scroll\":\"auto\",\"active_tap\":\"auto\",\"tools\":[{\"id\":\"2553\",\"type\":\"PanTool\"},{\"id\":\"2554\",\"type\":\"WheelZoomTool\"},{\"id\":\"2555\",\"type\":\"BoxZoomTool\"},{\"id\":\"2556\",\"type\":\"SaveTool\"},{\"id\":\"2557\",\"type\":\"ResetTool\"},{\"id\":\"2558\",\"type\":\"HelpTool\"},{\"id\":\"2567\",\"type\":\"HoverTool\"}]},\"id\":\"2559\",\"type\":\"Toolbar\"},{\"attributes\":{\"column_name\":\"label\",\"group\":\"true\"},\"id\":\"2576\",\"type\":\"GroupFilter\"},{\"attributes\":{\"below\":[{\"id\":\"2543\",\"type\":\"LinearAxis\"}],\"center\":[{\"id\":\"2547\",\"type\":\"Grid\"},{\"id\":\"2552\",\"type\":\"Grid\"}],\"left\":[{\"id\":\"2548\",\"type\":\"LinearAxis\"},{\"id\":\"2584\",\"type\":\"Legend\"},{\"id\":\"2585\",\"type\":\"ColorBar\"}],\"plot_height\":400,\"plot_width\":600,\"renderers\":[{\"id\":\"2575\",\"type\":\"GlyphRenderer\"},{\"id\":\"2581\",\"type\":\"GlyphRenderer\"}],\"title\":{\"id\":\"2533\",\"type\":\"Title\"},\"toolbar\":{\"id\":\"2559\",\"type\":\"Toolbar\"},\"toolbar_location\":null,\"x_range\":{\"id\":\"2535\",\"type\":\"DataRange1d\"},\"x_scale\":{\"id\":\"2539\",\"type\":\"LinearScale\"},\"y_range\":{\"id\":\"2537\",\"type\":\"DataRange1d\"},\"y_scale\":{\"id\":\"2541\",\"type\":\"LinearScale\"}},\"id\":\"2532\",\"subtype\":\"Figure\",\"type\":\"Plot\"},{\"attributes\":{\"callback\":null,\"tooltips\":[[\"x\",\"@x\"],[\"y\",\"@y\"],[\"label\",\"@label\"]]},\"id\":\"2621\",\"type\":\"HoverTool\"},{\"attributes\":{},\"id\":\"2449\",\"type\":\"ResetTool\"},{\"attributes\":{\"column_name\":\"label\",\"group\":\"false\"},\"id\":\"2516\",\"type\":\"GroupFilter\"},{\"attributes\":{},\"id\":\"2608\",\"type\":\"WheelZoomTool\"},{\"attributes\":{},\"id\":\"2649\",\"type\":\"UnionRenderers\"},{\"attributes\":{},\"id\":\"2558\",\"type\":\"HelpTool\"},{\"attributes\":{\"axis_label\":\"# heterozygotes\",\"formatter\":{\"id\":\"2642\",\"type\":\"BasicTickFormatter\"},\"ticker\":{\"id\":\"2441\",\"type\":\"BasicTicker\"}},\"id\":\"2440\",\"type\":\"LinearAxis\"},{\"attributes\":{\"label\":{\"value\":\"false\"},\"renderers\":[{\"id\":\"2467\",\"type\":\"GlyphRenderer\"}]},\"id\":\"2474\",\"type\":\"LegendItem\"},{\"attributes\":{\"callback\":null,\"data\":{\"index\":[0,1,2,3,4,5,6,7,8,9,10,11,12,13,14,15,16,17,18,19,20,21,22,23,24,25,26,27,28,29,30,31,32,33,34,35,36,37,38,39,40,41,42,43,44,45,46,47,48,49,50,51,52,53,54,55,56,57,58,59,60,61,62,63,64,65,66,67,68,69,70,71,72,73,74,75,76,77,78,79,80,81,82,83,84,85,86,87,88,89,90,91,92,93,94,95,96,97,98,99,100,101,102,103,104,105,106,107,108,109,110,111,112,113,114,115,116,117,118,119,120,121,122,123,124,125,126,127,128,129,130,131,132,133,134,135,136,137,138,139,140,141,142,143,144,145,146,147,148,149,150,151,152,153,154,155,156,157,158,159,160,161,162,163,164,165,166,167,168,169,170,171,172,173,174,175,176,177,178,179,180,181,182,183,184,185,186,187,188,189,190,191,192,193,194,195,196,197,198,199,200,201,202,203,204,205,206,207,208,209,210,211,212,213,214,215,216,217,218,219,220,221,222,223,224,225,226,227,228,229,230,231,232,233,234,235,236,237,238,239,240,241,242,243,244,245,246,247,248,249,250,251,252,253,254,255,256,257,258,259,260,261,262,263,264,265,266,267,268,269,270,271,272,273,274,275,276,277,278,279,280,281,282,283,284,285,286,287,288,289,290,291,292,293,294,295,296,297,298,299,300,301,302,303,304,305,306,307,308,309,310,311,312,313,314,315,316,317,318,319,320,321,322,323,324,325,326,327,328,329,330,331,332,333,334,335,336,337,338,339,340,341,342,343,344,345,346,347,348,349,350,351,352,353,354,355,356,357,358,359,360,361,362,363,364,365,366,367,368,369,370,371,372,373,374,375,376,377,378,379,380,381,382,383,384,385],\"label\":[\"false\",\"false\",\"false\",\"false\",\"false\",\"false\",\"false\",\"false\",\"false\",\"false\",\"false\",\"false\",\"false\",\"false\",\"false\",\"false\",\"false\",\"false\",\"false\",\"false\",\"false\",\"false\",\"true\",\"false\",\"false\",\"false\",\"false\",\"false\",\"false\",\"false\",\"false\",\"false\",\"false\",\"false\",\"false\",\"false\",\"false\",\"false\",\"false\",\"false\",\"false\",\"false\",\"false\",\"false\",\"false\",\"false\",\"false\",\"false\",\"false\",\"false\",\"true\",\"false\",\"false\",\"false\",\"false\",\"false\",\"false\",\"false\",\"false\",\"false\",\"false\",\"false\",\"false\",\"false\",\"false\",\"false\",\"false\",\"false\",\"false\",\"false\",\"false\",\"false\",\"false\",\"false\",\"false\",\"false\",\"false\",\"false\",\"false\",\"false\",\"false\",\"false\",\"false\",\"false\",\"false\",\"false\",\"false\",\"false\",\"false\",\"false\",\"false\",\"false\",\"false\",\"false\",\"false\",\"false\",\"false\",\"false\",\"false\",\"false\",\"false\",\"false\",\"false\",\"false\",\"false\",\"false\",\"false\",\"false\",\"false\",\"false\",\"false\",\"false\",\"false\",\"false\",\"false\",\"false\",\"false\",\"false\",\"false\",\"false\",\"false\",\"false\",\"false\",\"false\",\"false\",\"false\",\"false\",\"false\",\"false\",\"false\",\"false\",\"false\",\"false\",\"false\",\"false\",\"false\",\"false\",\"false\",\"false\",\"false\",\"false\",\"false\",\"false\",\"false\",\"false\",\"false\",\"false\",\"true\",\"false\",\"false\",\"false\",\"false\",\"false\",\"false\",\"true\",\"false\",\"false\",\"false\",\"false\",\"false\",\"false\",\"false\",\"false\",\"false\",\"false\",\"false\",\"false\",\"false\",\"false\",\"false\",\"false\",\"false\",\"false\",\"false\",\"false\",\"false\",\"false\",\"false\",\"false\",\"false\",\"false\",\"false\",\"false\",\"false\",\"false\",\"false\",\"false\",\"false\",\"false\",\"false\",\"false\",\"false\",\"false\",\"false\",\"false\",\"false\",\"false\",\"false\",\"false\",\"false\",\"false\",\"false\",\"false\",\"false\",\"false\",\"false\",\"false\",\"false\",\"false\",\"false\",\"false\",\"false\",\"false\",\"false\",\"false\",\"false\",\"false\",\"false\",\"false\",\"false\",\"false\",\"false\",\"false\",\"false\",\"false\",\"false\",\"false\",\"false\",\"false\",\"false\",\"false\",\"false\",\"false\",\"false\",\"false\",\"false\",\"false\",\"false\",\"false\",\"false\",\"false\",\"false\",\"false\",\"false\",\"false\",\"false\",\"false\",\"false\",\"false\",\"false\",\"false\",\"false\",\"false\",\"false\",\"false\",\"false\",\"false\",\"false\",\"false\",\"false\",\"false\",\"false\",\"false\",\"false\",\"false\",\"false\",\"false\",\"false\",\"false\",\"false\",\"false\",\"false\",\"false\",\"false\",\"false\",\"false\",\"false\",\"false\",\"false\",\"false\",\"false\",\"false\",\"false\",\"false\",\"false\",\"false\",\"false\",\"false\",\"false\",\"false\",\"false\",\"false\",\"false\",\"false\",\"false\",\"false\",\"false\",\"false\",\"false\",\"false\",\"false\",\"false\",\"false\",\"false\",\"false\",\"false\",\"false\",\"false\",\"false\",\"false\",\"false\",\"true\",\"false\",\"false\",\"true\",\"false\",\"false\",\"false\",\"false\",\"false\",\"false\",\"false\",\"false\",\"false\",\"false\",\"false\",\"false\",\"false\",\"false\",\"false\",\"false\",\"false\",\"false\",\"false\",\"false\",\"false\",\"false\",\"false\",\"false\",\"false\",\"false\",\"false\",\"false\",\"false\",\"false\",\"false\",\"false\",\"false\",\"false\",\"false\",\"false\",\"false\",\"false\",\"false\",\"false\",\"false\",\"false\",\"false\",\"false\",\"false\",\"false\",\"false\",\"false\",\"false\",\"false\",\"false\",\"false\",\"false\",\"false\",\"false\",\"false\",\"false\",\"false\",\"false\",\"false\",\"false\",\"false\",\"false\",\"false\",\"false\",\"false\",\"false\",\"false\",\"false\",\"false\",\"false\"],\"x\":{\"__ndarray__\":\"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\",\"dtype\":\"float64\",\"shape\":[386]},\"y\":{\"__ndarray__\":\"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\",\"dtype\":\"float64\",\"shape\":[386]}},\"selected\":{\"id\":\"2681\",\"type\":\"Selection\"},\"selection_policy\":{\"id\":\"2682\",\"type\":\"UnionRenderers\"}},\"id\":\"2622\",\"type\":\"ColumnDataSource\"},{\"attributes\":{},\"id\":\"2556\",\"type\":\"SaveTool\"},{\"attributes\":{},\"id\":\"2612\",\"type\":\"HelpTool\"},{\"attributes\":{},\"id\":\"2446\",\"type\":\"WheelZoomTool\"},{\"attributes\":{\"overlay\":{\"id\":\"2669\",\"type\":\"BoxAnnotation\"}},\"id\":\"2555\",\"type\":\"BoxZoomTool\"},{\"attributes\":{},\"id\":\"2657\",\"type\":\"BasicTickFormatter\"},{\"attributes\":{\"column_name\":\"label\",\"group\":\"true\"},\"id\":\"2468\",\"type\":\"GroupFilter\"},{\"attributes\":{},\"id\":\"2553\",\"type\":\"PanTool\"},{\"attributes\":{\"fill_color\":{\"field\":\"label\",\"transform\":{\"id\":\"2569\",\"type\":\"CategoricalColorMapper\"}},\"line_color\":{\"field\":\"label\",\"transform\":{\"id\":\"2569\",\"type\":\"CategoricalColorMapper\"}},\"x\":{\"field\":\"x\"},\"y\":{\"field\":\"y\"}},\"id\":\"2573\",\"type\":\"Circle\"},{\"attributes\":{},\"id\":\"2445\",\"type\":\"PanTool\"},{\"attributes\":{},\"id\":\"2607\",\"type\":\"PanTool\"},{\"attributes\":{\"filters\":[{\"id\":\"2576\",\"type\":\"GroupFilter\"}],\"source\":{\"id\":\"2568\",\"type\":\"ColumnDataSource\"}},\"id\":\"2577\",\"type\":\"CDSView\"},{\"attributes\":{},\"id\":\"2485\",\"type\":\"LinearScale\"},{\"attributes\":{\"axis_label\":\"# singletons\",\"formatter\":{\"id\":\"2675\",\"type\":\"BasicTickFormatter\"},\"ticker\":{\"id\":\"2603\",\"type\":\"BasicTicker\"}},\"id\":\"2602\",\"type\":\"LinearAxis\"},{\"attributes\":{},\"id\":\"2653\",\"type\":\"BasicTickFormatter\"},{\"attributes\":{\"fill_color\":{\"field\":\"label\",\"transform\":{\"id\":\"2569\",\"type\":\"CategoricalColorMapper\"}},\"line_color\":{\"field\":\"label\",\"transform\":{\"id\":\"2569\",\"type\":\"CategoricalColorMapper\"}},\"x\":{\"field\":\"x\"},\"y\":{\"field\":\"y\"}},\"id\":\"2579\",\"type\":\"Circle\"},{\"attributes\":{\"fill_alpha\":{\"value\":0.1},\"fill_color\":{\"value\":\"#1f77b4\"},\"line_alpha\":{\"value\":0.1},\"line_color\":{\"value\":\"#1f77b4\"},\"x\":{\"field\":\"x\"},\"y\":{\"field\":\"y\"}},\"id\":\"2472\",\"type\":\"Circle\"},{\"attributes\":{},\"id\":\"2644\",\"type\":\"BasicTickFormatter\"},{\"attributes\":{},\"id\":\"2648\",\"type\":\"Selection\"},{\"attributes\":{\"fill_alpha\":{\"value\":0.1},\"fill_color\":{\"value\":\"#1f77b4\"},\"line_alpha\":{\"value\":0.1},\"line_color\":{\"value\":\"#1f77b4\"},\"x\":{\"field\":\"x\"},\"y\":{\"field\":\"y\"}},\"id\":\"2466\",\"type\":\"Circle\"},{\"attributes\":{},\"id\":\"2611\",\"type\":\"ResetTool\"},{\"attributes\":{},\"id\":\"2441\",\"type\":\"BasicTicker\"},{\"attributes\":{\"filters\":[{\"id\":\"2570\",\"type\":\"GroupFilter\"}],\"source\":{\"id\":\"2568\",\"type\":\"ColumnDataSource\"}},\"id\":\"2571\",\"type\":\"CDSView\"},{\"attributes\":{\"data_source\":{\"id\":\"2460\",\"type\":\"ColumnDataSource\"},\"glyph\":{\"id\":\"2471\",\"type\":\"Circle\"},\"hover_glyph\":null,\"muted_glyph\":null,\"nonselection_glyph\":{\"id\":\"2472\",\"type\":\"Circle\"},\"selection_glyph\":null,\"view\":{\"id\":\"2469\",\"type\":\"CDSView\"}},\"id\":\"2473\",\"type\":\"GlyphRenderer\"},{\"attributes\":{},\"id\":\"2487\",\"type\":\"LinearScale\"},{\"attributes\":{\"bottom_units\":\"screen\",\"fill_alpha\":{\"value\":0.5},\"fill_color\":{\"value\":\"lightgrey\"},\"left_units\":\"screen\",\"level\":\"overlay\",\"line_alpha\":{\"value\":1.0},\"line_color\":{\"value\":\"black\"},\"line_dash\":[4,4],\"line_width\":{\"value\":2},\"render_mode\":\"css\",\"right_units\":\"screen\",\"top_units\":\"screen\"},\"id\":\"2658\",\"type\":\"BoxAnnotation\"},{\"attributes\":{},\"id\":\"2610\",\"type\":\"SaveTool\"},{\"attributes\":{},\"id\":\"2655\",\"type\":\"BasicTickFormatter\"},{\"attributes\":{\"callback\":null,\"tooltips\":[[\"x\",\"@x\"],[\"y\",\"@y\"],[\"label\",\"@label\"]]},\"id\":\"2567\",\"type\":\"HoverTool\"},{\"attributes\":{},\"id\":\"2436\",\"type\":\"BasicTicker\"},{\"attributes\":{\"data_source\":{\"id\":\"2568\",\"type\":\"ColumnDataSource\"},\"glyph\":{\"id\":\"2573\",\"type\":\"Circle\"},\"hover_glyph\":null,\"muted_glyph\":null,\"nonselection_glyph\":{\"id\":\"2574\",\"type\":\"Circle\"},\"selection_glyph\":null,\"view\":{\"id\":\"2571\",\"type\":\"CDSView\"}},\"id\":\"2575\",\"type\":\"GlyphRenderer\"},{\"attributes\":{\"bottom_units\":\"screen\",\"fill_alpha\":{\"value\":0.5},\"fill_color\":{\"value\":\"lightgrey\"},\"left_units\":\"screen\",\"level\":\"overlay\",\"line_alpha\":{\"value\":1.0},\"line_color\":{\"value\":\"black\"},\"line_dash\":[4,4],\"line_width\":{\"value\":2},\"render_mode\":\"css\",\"right_units\":\"screen\",\"top_units\":\"screen\"},\"id\":\"2647\",\"type\":\"BoxAnnotation\"},{\"attributes\":{\"fill_color\":{\"field\":\"label\",\"transform\":{\"id\":\"2461\",\"type\":\"CategoricalColorMapper\"}},\"line_color\":{\"field\":\"label\",\"transform\":{\"id\":\"2461\",\"type\":\"CategoricalColorMapper\"}},\"x\":{\"field\":\"x\"},\"y\":{\"field\":\"y\"}},\"id\":\"2471\",\"type\":\"Circle\"},{\"attributes\":{\"label\":{\"value\":\"false\"},\"renderers\":[{\"id\":\"2575\",\"type\":\"GlyphRenderer\"}]},\"id\":\"2582\",\"type\":\"LegendItem\"},{\"attributes\":{\"active_drag\":\"auto\",\"active_inspect\":\"auto\",\"active_multi\":null,\"active_scroll\":\"auto\",\"active_tap\":\"auto\",\"tools\":[{\"id\":\"2445\",\"type\":\"PanTool\"},{\"id\":\"2446\",\"type\":\"WheelZoomTool\"},{\"id\":\"2447\",\"type\":\"BoxZoomTool\"},{\"id\":\"2448\",\"type\":\"SaveTool\"},{\"id\":\"2449\",\"type\":\"ResetTool\"},{\"id\":\"2450\",\"type\":\"HelpTool\"},{\"id\":\"2459\",\"type\":\"HoverTool\"}]},\"id\":\"2451\",\"type\":\"Toolbar\"},{\"attributes\":{\"callback\":null},\"id\":\"2589\",\"type\":\"DataRange1d\"},{\"attributes\":{\"fill_alpha\":{\"value\":0.1},\"fill_color\":{\"value\":\"#1f77b4\"},\"line_alpha\":{\"value\":0.1},\"line_color\":{\"value\":\"#1f77b4\"},\"x\":{\"field\":\"x\"},\"y\":{\"field\":\"y\"}},\"id\":\"2574\",\"type\":\"Circle\"},{\"attributes\":{\"dimension\":1,\"ticker\":{\"id\":\"2603\",\"type\":\"BasicTicker\"}},\"id\":\"2606\",\"type\":\"Grid\"},{\"attributes\":{\"color_mapper\":null,\"formatter\":{\"id\":\"2655\",\"type\":\"BasicTickFormatter\"},\"ticker\":{\"id\":\"2654\",\"type\":\"BasicTicker\"},\"visible\":false},\"id\":\"2531\",\"type\":\"ColorBar\"},{\"attributes\":{\"filters\":[{\"id\":\"2624\",\"type\":\"GroupFilter\"}],\"source\":{\"id\":\"2622\",\"type\":\"ColumnDataSource\"}},\"id\":\"2625\",\"type\":\"CDSView\"},{\"attributes\":{\"text\":\"# heterozygotes\"},\"id\":\"2425\",\"type\":\"Title\"},{\"attributes\":{\"ticker\":{\"id\":\"2436\",\"type\":\"BasicTicker\"}},\"id\":\"2439\",\"type\":\"Grid\"},{\"attributes\":{},\"id\":\"2448\",\"type\":\"SaveTool\"},{\"attributes\":{\"filters\":[{\"id\":\"2462\",\"type\":\"GroupFilter\"}],\"source\":{\"id\":\"2460\",\"type\":\"ColumnDataSource\"}},\"id\":\"2463\",\"type\":\"CDSView\"},{\"attributes\":{\"factors\":[\"true\",\"false\"],\"palette\":[\"#1f77b4\",\"#ff7f0e\",\"#2ca02c\",\"#d62728\",\"#9467bd\",\"#8c564b\",\"#e377c2\",\"#7f7f7f\",\"#bcbd22\",\"#17becf\"]},\"id\":\"2569\",\"type\":\"CategoricalColorMapper\"},{\"attributes\":{\"dimension\":1,\"ticker\":{\"id\":\"2441\",\"type\":\"BasicTicker\"}},\"id\":\"2444\",\"type\":\"Grid\"},{\"attributes\":{\"below\":[{\"id\":\"2435\",\"type\":\"LinearAxis\"}],\"center\":[{\"id\":\"2439\",\"type\":\"Grid\"},{\"id\":\"2444\",\"type\":\"Grid\"}],\"left\":[{\"id\":\"2440\",\"type\":\"LinearAxis\"},{\"id\":\"2476\",\"type\":\"Legend\"},{\"id\":\"2477\",\"type\":\"ColorBar\"}],\"plot_height\":400,\"plot_width\":600,\"renderers\":[{\"id\":\"2467\",\"type\":\"GlyphRenderer\"},{\"id\":\"2473\",\"type\":\"GlyphRenderer\"}],\"title\":{\"id\":\"2425\",\"type\":\"Title\"},\"toolbar\":{\"id\":\"2451\",\"type\":\"Toolbar\"},\"toolbar_location\":null,\"x_range\":{\"id\":\"2427\",\"type\":\"DataRange1d\"},\"x_scale\":{\"id\":\"2431\",\"type\":\"LinearScale\"},\"y_range\":{\"id\":\"2429\",\"type\":\"DataRange1d\"},\"y_scale\":{\"id\":\"2433\",\"type\":\"LinearScale\"}},\"id\":\"2424\",\"subtype\":\"Figure\",\"type\":\"Plot\"},{\"attributes\":{\"data_source\":{\"id\":\"2460\",\"type\":\"ColumnDataSource\"},\"glyph\":{\"id\":\"2465\",\"type\":\"Circle\"},\"hover_glyph\":null,\"muted_glyph\":null,\"nonselection_glyph\":{\"id\":\"2466\",\"type\":\"Circle\"},\"selection_glyph\":null,\"view\":{\"id\":\"2463\",\"type\":\"CDSView\"}},\"id\":\"2467\",\"type\":\"GlyphRenderer\"},{\"attributes\":{},\"id\":\"2659\",\"type\":\"Selection\"},{\"attributes\":{\"callback\":null},\"id\":\"2427\",\"type\":\"DataRange1d\"},{\"attributes\":{\"data_source\":{\"id\":\"2622\",\"type\":\"ColumnDataSource\"},\"glyph\":{\"id\":\"2633\",\"type\":\"Circle\"},\"hover_glyph\":null,\"muted_glyph\":null,\"nonselection_glyph\":{\"id\":\"2634\",\"type\":\"Circle\"},\"selection_glyph\":null,\"view\":{\"id\":\"2631\",\"type\":\"CDSView\"}},\"id\":\"2635\",\"type\":\"GlyphRenderer\"},{\"attributes\":{\"fill_alpha\":{\"value\":0.1},\"fill_color\":{\"value\":\"#1f77b4\"},\"line_alpha\":{\"value\":0.1},\"line_color\":{\"value\":\"#1f77b4\"},\"x\":{\"field\":\"x\"},\"y\":{\"field\":\"y\"}},\"id\":\"2580\",\"type\":\"Circle\"},{\"attributes\":{\"column_name\":\"label\",\"group\":\"true\"},\"id\":\"2522\",\"type\":\"GroupFilter\"},{\"attributes\":{\"label\":{\"value\":\"true\"},\"renderers\":[{\"id\":\"2527\",\"type\":\"GlyphRenderer\"}]},\"id\":\"2529\",\"type\":\"LegendItem\"},{\"attributes\":{\"label\":{\"value\":\"false\"},\"renderers\":[{\"id\":\"2629\",\"type\":\"GlyphRenderer\"}]},\"id\":\"2636\",\"type\":\"LegendItem\"},{\"attributes\":{\"tools\":[{\"id\":\"2445\",\"type\":\"PanTool\"},{\"id\":\"2446\",\"type\":\"WheelZoomTool\"},{\"id\":\"2447\",\"type\":\"BoxZoomTool\"},{\"id\":\"2448\",\"type\":\"SaveTool\"},{\"id\":\"2449\",\"type\":\"ResetTool\"},{\"id\":\"2450\",\"type\":\"HelpTool\"},{\"id\":\"2459\",\"type\":\"HoverTool\"},{\"id\":\"2499\",\"type\":\"PanTool\"},{\"id\":\"2500\",\"type\":\"WheelZoomTool\"},{\"id\":\"2501\",\"type\":\"BoxZoomTool\"},{\"id\":\"2502\",\"type\":\"SaveTool\"},{\"id\":\"2503\",\"type\":\"ResetTool\"},{\"id\":\"2504\",\"type\":\"HelpTool\"},{\"id\":\"2513\",\"type\":\"HoverTool\"},{\"id\":\"2553\",\"type\":\"PanTool\"},{\"id\":\"2554\",\"type\":\"WheelZoomTool\"},{\"id\":\"2555\",\"type\":\"BoxZoomTool\"},{\"id\":\"2556\",\"type\":\"SaveTool\"},{\"id\":\"2557\",\"type\":\"ResetTool\"},{\"id\":\"2558\",\"type\":\"HelpTool\"},{\"id\":\"2567\",\"type\":\"HoverTool\"},{\"id\":\"2607\",\"type\":\"PanTool\"},{\"id\":\"2608\",\"type\":\"WheelZoomTool\"},{\"id\":\"2609\",\"type\":\"BoxZoomTool\"},{\"id\":\"2610\",\"type\":\"SaveTool\"},{\"id\":\"2611\",\"type\":\"ResetTool\"},{\"id\":\"2612\",\"type\":\"HelpTool\"},{\"id\":\"2621\",\"type\":\"HoverTool\"}]},\"id\":\"2685\",\"type\":\"ProxyToolbar\"},{\"attributes\":{\"fill_alpha\":{\"value\":0.1},\"fill_color\":{\"value\":\"#1f77b4\"},\"line_alpha\":{\"value\":0.1},\"line_color\":{\"value\":\"#1f77b4\"},\"x\":{\"field\":\"x\"},\"y\":{\"field\":\"y\"}},\"id\":\"2628\",\"type\":\"Circle\"},{\"attributes\":{\"callback\":null},\"id\":\"2537\",\"type\":\"DataRange1d\"},{\"attributes\":{\"fill_color\":{\"field\":\"label\",\"transform\":{\"id\":\"2515\",\"type\":\"CategoricalColorMapper\"}},\"line_color\":{\"field\":\"label\",\"transform\":{\"id\":\"2515\",\"type\":\"CategoricalColorMapper\"}},\"x\":{\"field\":\"x\"},\"y\":{\"field\":\"y\"}},\"id\":\"2525\",\"type\":\"Circle\"},{\"attributes\":{\"dimension\":1,\"ticker\":{\"id\":\"2495\",\"type\":\"BasicTicker\"}},\"id\":\"2498\",\"type\":\"Grid\"},{\"attributes\":{\"overlay\":{\"id\":\"2658\",\"type\":\"BoxAnnotation\"}},\"id\":\"2501\",\"type\":\"BoxZoomTool\"},{\"attributes\":{\"axis_label\":\"DP mean\",\"formatter\":{\"id\":\"2668\",\"type\":\"BasicTickFormatter\"},\"ticker\":{\"id\":\"2544\",\"type\":\"BasicTicker\"}},\"id\":\"2543\",\"type\":\"LinearAxis\"},{\"attributes\":{\"label\":{\"value\":\"true\"},\"renderers\":[{\"id\":\"2635\",\"type\":\"GlyphRenderer\"}]},\"id\":\"2637\",\"type\":\"LegendItem\"},{\"attributes\":{\"axis_label\":\"DP mean\",\"formatter\":{\"id\":\"2657\",\"type\":\"BasicTickFormatter\"},\"ticker\":{\"id\":\"2490\",\"type\":\"BasicTicker\"}},\"id\":\"2489\",\"type\":\"LinearAxis\"},{\"attributes\":{\"axis_label\":\"DP mean\",\"formatter\":{\"id\":\"2679\",\"type\":\"BasicTickFormatter\"},\"ticker\":{\"id\":\"2598\",\"type\":\"BasicTicker\"}},\"id\":\"2597\",\"type\":\"LinearAxis\"},{\"attributes\":{\"fill_alpha\":{\"value\":0.1},\"fill_color\":{\"value\":\"#1f77b4\"},\"line_alpha\":{\"value\":0.1},\"line_color\":{\"value\":\"#1f77b4\"},\"x\":{\"field\":\"x\"},\"y\":{\"field\":\"y\"}},\"id\":\"2520\",\"type\":\"Circle\"},{\"attributes\":{\"color_mapper\":null,\"formatter\":{\"id\":\"2666\",\"type\":\"BasicTickFormatter\"},\"ticker\":{\"id\":\"2665\",\"type\":\"BasicTicker\"},\"visible\":false},\"id\":\"2585\",\"type\":\"ColorBar\"},{\"attributes\":{\"factors\":[\"true\",\"false\"],\"palette\":[\"#1f77b4\",\"#ff7f0e\",\"#2ca02c\",\"#d62728\",\"#9467bd\",\"#8c564b\",\"#e377c2\",\"#7f7f7f\",\"#bcbd22\",\"#17becf\"]},\"id\":\"2515\",\"type\":\"CategoricalColorMapper\"},{\"attributes\":{\"data_source\":{\"id\":\"2514\",\"type\":\"ColumnDataSource\"},\"glyph\":{\"id\":\"2525\",\"type\":\"Circle\"},\"hover_glyph\":null,\"muted_glyph\":null,\"nonselection_glyph\":{\"id\":\"2526\",\"type\":\"Circle\"},\"selection_glyph\":null,\"view\":{\"id\":\"2523\",\"type\":\"CDSView\"}},\"id\":\"2527\",\"type\":\"GlyphRenderer\"},{\"attributes\":{},\"id\":\"2665\",\"type\":\"BasicTicker\"},{\"attributes\":{},\"id\":\"2677\",\"type\":\"BasicTickFormatter\"},{\"attributes\":{},\"id\":\"2660\",\"type\":\"UnionRenderers\"},{\"attributes\":{\"filters\":[{\"id\":\"2522\",\"type\":\"GroupFilter\"}],\"source\":{\"id\":\"2514\",\"type\":\"ColumnDataSource\"}},\"id\":\"2523\",\"type\":\"CDSView\"},{\"attributes\":{},\"id\":\"2679\",\"type\":\"BasicTickFormatter\"},{\"attributes\":{},\"id\":\"2642\",\"type\":\"BasicTickFormatter\"},{\"attributes\":{},\"id\":\"2598\",\"type\":\"BasicTicker\"},{\"attributes\":{\"children\":[[{\"id\":\"2424\",\"subtype\":\"Figure\",\"type\":\"Plot\"},0,0],[{\"id\":\"2478\",\"subtype\":\"Figure\",\"type\":\"Plot\"},0,1],[{\"id\":\"2532\",\"subtype\":\"Figure\",\"type\":\"Plot\"},1,0],[{\"id\":\"2586\",\"subtype\":\"Figure\",\"type\":\"Plot\"},1,1]]},\"id\":\"2684\",\"type\":\"GridBox\"},{\"attributes\":{\"ticker\":{\"id\":\"2490\",\"type\":\"BasicTicker\"}},\"id\":\"2493\",\"type\":\"Grid\"},{\"attributes\":{\"fill_color\":{\"field\":\"label\",\"transform\":{\"id\":\"2623\",\"type\":\"CategoricalColorMapper\"}},\"line_color\":{\"field\":\"label\",\"transform\":{\"id\":\"2623\",\"type\":\"CategoricalColorMapper\"}},\"x\":{\"field\":\"x\"},\"y\":{\"field\":\"y\"}},\"id\":\"2633\",\"type\":\"Circle\"},{\"attributes\":{},\"id\":\"2664\",\"type\":\"BasicTickFormatter\"},{\"attributes\":{\"text\":\"Call rate\"},\"id\":\"2533\",\"type\":\"Title\"},{\"attributes\":{\"callback\":null},\"id\":\"2481\",\"type\":\"DataRange1d\"},{\"attributes\":{\"callback\":null},\"id\":\"2591\",\"type\":\"DataRange1d\"},{\"attributes\":{\"ticker\":{\"id\":\"2598\",\"type\":\"BasicTicker\"}},\"id\":\"2601\",\"type\":\"Grid\"},{\"attributes\":{\"column_name\":\"label\",\"group\":\"false\"},\"id\":\"2462\",\"type\":\"GroupFilter\"},{\"attributes\":{},\"id\":\"2495\",\"type\":\"BasicTicker\"},{\"attributes\":{},\"id\":\"2668\",\"type\":\"BasicTickFormatter\"},{\"attributes\":{\"text\":\"# singletons\"},\"id\":\"2587\",\"type\":\"Title\"},{\"attributes\":{\"callback\":null,\"data\":{\"index\":[0,1,2,3,4,5,6,7,8,9,10,11,12,13,14,15,16,17,18,19,20,21,22,23,24,25,26,27,28,29,30,31,32,33,34,35,36,37,38,39,40,41,42,43,44,45,46,47,48,49,50,51,52,53,54,55,56,57,58,59,60,61,62,63,64,65,66,67,68,69,70,71,72,73,74,75,76,77,78,79,80,81,82,83,84,85,86,87,88,89,90,91,92,93,94,95,96,97,98,99,100,101,102,103,104,105,106,107,108,109,110,111,112,113,114,115,116,117,118,119,120,121,122,123,124,125,126,127,128,129,130,131,132,133,134,135,136,137,138,139,140,141,142,143,144,145,146,147,148,149,150,151,152,153,154,155,156,157,158,159,160,161,162,163,164,165,166,167,168,169,170,171,172,173,174,175,176,177,178,179,180,181,182,183,184,185,186,187,188,189,190,191,192,193,194,195,196,197,198,199,200,201,202,203,204,205,206,207,208,209,210,211,212,213,214,215,216,217,218,219,220,221,222,223,224,225,226,227,228,229,230,231,232,233,234,235,236,237,238,239,240,241,242,243,244,245,246,247,248,249,250,251,252,253,254,255,256,257,258,259,260,261,262,263,264,265,266,267,268,269,270,271,272,273,274,275,276,277,278,279,280,281,282,283,284,285,286,287,288,289,290,291,292,293,294,295,296,297,298,299,300,301,302,303,304,305,306,307,308,309,310,311,312,313,314,315,316,317,318,319,320,321,322,323,324,325,326,327,328,329,330,331,332,333,334,335,336,337,338,339,340,341,342,343,344,345,346,347,348,349,350,351,352,353,354,355,356,357,358,359,360,361,362,363,364,365,366,367,368,369,370,371,372,373,374,375,376,377,378,379,380,381,382,383,384,385,386,387,388,389,390,391,392,393,394,395,396,397,398,399,400,401,402,403,404,405,406,407,408,409],\"label\":[\"false\",\"false\",\"false\",\"false\",\"false\",\"false\",\"false\",\"false\",\"false\",\"false\",\"false\",\"false\",\"false\",\"false\",\"false\",\"false\",\"false\",\"false\",\"false\",\"false\",\"false\",\"false\",\"false\",\"true\",\"false\",\"false\",\"false\",\"false\",\"false\",\"false\",\"false\",\"false\",\"false\",\"false\",\"false\",\"false\",\"false\",\"false\",\"false\",\"false\",\"false\",\"false\",\"false\",\"false\",\"false\",\"false\",\"false\",\"false\",\"false\",\"true\",\"false\",\"false\",\"false\",\"false\",\"false\",\"false\",\"false\",\"false\",\"false\",\"false\",\"false\",\"false\",\"false\",\"false\",\"false\",\"false\",\"false\",\"false\",\"false\",\"false\",\"false\",\"false\",\"false\",\"false\",\"false\",\"false\",\"false\",\"false\",\"false\",\"false\",\"false\",\"false\",\"false\",\"false\",\"false\",\"false\",\"false\",\"false\",\"false\",\"false\",\"false\",\"false\",\"false\",\"false\",\"false\",\"false\",\"false\",\"false\",\"false\",\"false\",\"false\",\"false\",\"false\",\"false\",\"false\",\"false\",\"false\",\"false\",\"false\",\"false\",\"false\",\"false\",\"false\",\"false\",\"false\",\"false\",\"false\",\"false\",\"false\",\"false\",\"false\",\"false\",\"false\",\"false\",\"false\",\"false\",\"false\",\"false\",\"false\",\"false\",\"false\",\"false\",\"false\",\"false\",\"false\",\"false\",\"false\",\"false\",\"false\",\"false\",\"false\",\"false\",\"false\",\"false\",\"false\",\"false\",\"false\",\"false\",\"false\",\"false\",\"false\",\"false\",\"false\",\"false\",\"false\",\"true\",\"false\",\"false\",\"false\",\"false\",\"false\",\"false\",\"false\",\"false\",\"false\",\"false\",\"false\",\"false\",\"false\",\"false\",\"false\",\"false\",\"true\",\"false\",\"false\",\"false\",\"false\",\"false\",\"false\",\"false\",\"false\",\"false\",\"false\",\"false\",\"false\",\"false\",\"false\",\"false\",\"false\",\"false\",\"false\",\"false\",\"false\",\"false\",\"false\",\"false\",\"false\",\"false\",\"false\",\"false\",\"false\",\"false\",\"false\",\"false\",\"false\",\"false\",\"false\",\"false\",\"false\",\"false\",\"false\",\"false\",\"false\",\"false\",\"false\",\"false\",\"false\",\"false\",\"false\",\"false\",\"false\",\"false\",\"false\",\"false\",\"false\",\"false\",\"false\",\"false\",\"false\",\"false\",\"false\",\"false\",\"false\",\"false\",\"false\",\"false\",\"false\",\"false\",\"false\",\"false\",\"false\",\"false\",\"false\",\"false\",\"false\",\"false\",\"false\",\"false\",\"false\",\"false\",\"false\",\"false\",\"false\",\"false\",\"false\",\"false\",\"false\",\"false\",\"false\",\"false\",\"false\",\"false\",\"false\",\"false\",\"false\",\"false\",\"false\",\"false\",\"false\",\"false\",\"false\",\"false\",\"false\",\"false\",\"false\",\"false\",\"false\",\"false\",\"false\",\"false\",\"false\",\"false\",\"false\",\"false\",\"false\",\"false\",\"false\",\"false\",\"false\",\"false\",\"false\",\"false\",\"false\",\"false\",\"false\",\"false\",\"false\",\"false\",\"false\",\"false\",\"false\",\"false\",\"false\",\"false\",\"false\",\"false\",\"false\",\"false\",\"false\",\"false\",\"false\",\"false\",\"false\",\"false\",\"false\",\"false\",\"false\",\"false\",\"false\",\"false\",\"false\",\"false\",\"false\",\"false\",\"false\",\"false\",\"false\",\"false\",\"true\",\"false\",\"false\",\"false\",\"true\",\"false\",\"false\",\"false\",\"false\",\"false\",\"false\",\"false\",\"false\",\"false\",\"false\",\"false\",\"false\",\"false\",\"false\",\"false\",\"false\",\"false\",\"false\",\"false\",\"false\",\"false\",\"false\",\"false\",\"false\",\"false\",\"false\",\"false\",\"false\",\"false\",\"false\",\"false\",\"false\",\"false\",\"false\",\"false\",\"false\",\"false\",\"false\",\"false\",\"false\",\"false\",\"false\",\"false\",\"false\",\"false\",\"false\",\"false\",\"false\",\"false\",\"false\",\"false\",\"false\",\"false\",\"false\",\"false\",\"false\",\"false\",\"false\",\"false\",\"false\",\"false\",\"false\",\"false\",\"false\",\"false\",\"false\",\"false\",\"false\",\"false\",\"false\",\"false\",\"false\",\"false\",\"false\",\"false\",\"false\",\"false\"],\"x\":{\"__ndarray__\":\"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\",\"dtype\":\"float64\",\"shape\":[410]},\"y\":{\"__ndarray__\":\"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\",\"dtype\":\"float64\",\"shape\":[410]}},\"selected\":{\"id\":\"2659\",\"type\":\"Selection\"},\"selection_policy\":{\"id\":\"2660\",\"type\":\"UnionRenderers\"}},\"id\":\"2514\",\"type\":\"ColumnDataSource\"},{\"attributes\":{},\"id\":\"2671\",\"type\":\"UnionRenderers\"},{\"attributes\":{\"bottom_units\":\"screen\",\"fill_alpha\":{\"value\":0.5},\"fill_color\":{\"value\":\"lightgrey\"},\"left_units\":\"screen\",\"level\":\"overlay\",\"line_alpha\":{\"value\":1.0},\"line_color\":{\"value\":\"black\"},\"line_dash\":[4,4],\"line_width\":{\"value\":2},\"render_mode\":\"css\",\"right_units\":\"screen\",\"top_units\":\"screen\"},\"id\":\"2669\",\"type\":\"BoxAnnotation\"},{\"attributes\":{\"fill_color\":{\"field\":\"label\",\"transform\":{\"id\":\"2515\",\"type\":\"CategoricalColorMapper\"}},\"line_color\":{\"field\":\"label\",\"transform\":{\"id\":\"2515\",\"type\":\"CategoricalColorMapper\"}},\"x\":{\"field\":\"x\"},\"y\":{\"field\":\"y\"}},\"id\":\"2519\",\"type\":\"Circle\"},{\"attributes\":{\"column_name\":\"label\",\"group\":\"true\"},\"id\":\"2630\",\"type\":\"GroupFilter\"},{\"attributes\":{},\"id\":\"2646\",\"type\":\"BasicTickFormatter\"},{\"attributes\":{\"fill_alpha\":{\"value\":0.1},\"fill_color\":{\"value\":\"#1f77b4\"},\"line_alpha\":{\"value\":0.1},\"line_color\":{\"value\":\"#1f77b4\"},\"x\":{\"field\":\"x\"},\"y\":{\"field\":\"y\"}},\"id\":\"2634\",\"type\":\"Circle\"},{\"attributes\":{\"click_policy\":\"hide\",\"items\":[{\"id\":\"2582\",\"type\":\"LegendItem\"},{\"id\":\"2583\",\"type\":\"LegendItem\"}]},\"id\":\"2584\",\"type\":\"Legend\"},{\"attributes\":{},\"id\":\"2666\",\"type\":\"BasicTickFormatter\"},{\"attributes\":{\"axis_label\":\"Ti/Tv rate\",\"formatter\":{\"id\":\"2653\",\"type\":\"BasicTickFormatter\"},\"ticker\":{\"id\":\"2495\",\"type\":\"BasicTicker\"}},\"id\":\"2494\",\"type\":\"LinearAxis\"},{\"attributes\":{\"data_source\":{\"id\":\"2568\",\"type\":\"ColumnDataSource\"},\"glyph\":{\"id\":\"2579\",\"type\":\"Circle\"},\"hover_glyph\":null,\"muted_glyph\":null,\"nonselection_glyph\":{\"id\":\"2580\",\"type\":\"Circle\"},\"selection_glyph\":null,\"view\":{\"id\":\"2577\",\"type\":\"CDSView\"}},\"id\":\"2581\",\"type\":\"GlyphRenderer\"},{\"attributes\":{\"filters\":[{\"id\":\"2630\",\"type\":\"GroupFilter\"}],\"source\":{\"id\":\"2622\",\"type\":\"ColumnDataSource\"}},\"id\":\"2631\",\"type\":\"CDSView\"},{\"attributes\":{\"data_source\":{\"id\":\"2514\",\"type\":\"ColumnDataSource\"},\"glyph\":{\"id\":\"2519\",\"type\":\"Circle\"},\"hover_glyph\":null,\"muted_glyph\":null,\"nonselection_glyph\":{\"id\":\"2520\",\"type\":\"Circle\"},\"selection_glyph\":null,\"view\":{\"id\":\"2517\",\"type\":\"CDSView\"}},\"id\":\"2521\",\"type\":\"GlyphRenderer\"},{\"attributes\":{\"click_policy\":\"hide\",\"items\":[{\"id\":\"2636\",\"type\":\"LegendItem\"},{\"id\":\"2637\",\"type\":\"LegendItem\"}]},\"id\":\"2638\",\"type\":\"Legend\"},{\"attributes\":{\"bottom_units\":\"screen\",\"fill_alpha\":{\"value\":0.5},\"fill_color\":{\"value\":\"lightgrey\"},\"left_units\":\"screen\",\"level\":\"overlay\",\"line_alpha\":{\"value\":1.0},\"line_color\":{\"value\":\"black\"},\"line_dash\":[4,4],\"line_width\":{\"value\":2},\"render_mode\":\"css\",\"right_units\":\"screen\",\"top_units\":\"screen\"},\"id\":\"2680\",\"type\":\"BoxAnnotation\"},{\"attributes\":{\"label\":{\"value\":\"false\"},\"renderers\":[{\"id\":\"2521\",\"type\":\"GlyphRenderer\"}]},\"id\":\"2528\",\"type\":\"LegendItem\"},{\"attributes\":{\"callback\":null,\"tooltips\":[[\"x\",\"@x\"],[\"y\",\"@y\"],[\"label\",\"@label\"]]},\"id\":\"2513\",\"type\":\"HoverTool\"},{\"attributes\":{},\"id\":\"2675\",\"type\":\"BasicTickFormatter\"},{\"attributes\":{\"dimension\":1,\"ticker\":{\"id\":\"2549\",\"type\":\"BasicTicker\"}},\"id\":\"2552\",\"type\":\"Grid\"},{\"attributes\":{\"label\":{\"value\":\"true\"},\"renderers\":[{\"id\":\"2581\",\"type\":\"GlyphRenderer\"}]},\"id\":\"2583\",\"type\":\"LegendItem\"},{\"attributes\":{},\"id\":\"2503\",\"type\":\"ResetTool\"},{\"attributes\":{},\"id\":\"2433\",\"type\":\"LinearScale\"},{\"attributes\":{\"ticker\":{\"id\":\"2544\",\"type\":\"BasicTicker\"}},\"id\":\"2547\",\"type\":\"Grid\"},{\"attributes\":{\"axis_label\":\"Call rate\",\"formatter\":{\"id\":\"2664\",\"type\":\"BasicTickFormatter\"},\"ticker\":{\"id\":\"2549\",\"type\":\"BasicTicker\"}},\"id\":\"2548\",\"type\":\"LinearAxis\"},{\"attributes\":{},\"id\":\"2643\",\"type\":\"BasicTicker\"},{\"attributes\":{\"callback\":null},\"id\":\"2483\",\"type\":\"DataRange1d\"},{\"attributes\":{},\"id\":\"2541\",\"type\":\"LinearScale\"},{\"attributes\":{},\"id\":\"2490\",\"type\":\"BasicTicker\"},{\"attributes\":{},\"id\":\"2504\",\"type\":\"HelpTool\"},{\"attributes\":{\"axis_label\":\"DP mean\",\"formatter\":{\"id\":\"2646\",\"type\":\"BasicTickFormatter\"},\"ticker\":{\"id\":\"2436\",\"type\":\"BasicTicker\"}},\"id\":\"2435\",\"type\":\"LinearAxis\"},{\"attributes\":{},\"id\":\"2681\",\"type\":\"Selection\"},{\"attributes\":{},\"id\":\"2431\",\"type\":\"LinearScale\"},{\"attributes\":{},\"id\":\"2499\",\"type\":\"PanTool\"},{\"attributes\":{},\"id\":\"2670\",\"type\":\"Selection\"},{\"attributes\":{\"column_name\":\"label\",\"group\":\"false\"},\"id\":\"2624\",\"type\":\"GroupFilter\"},{\"attributes\":{\"callback\":null},\"id\":\"2535\",\"type\":\"DataRange1d\"},{\"attributes\":{\"toolbar\":{\"id\":\"2685\",\"type\":\"ProxyToolbar\"},\"toolbar_location\":\"above\"},\"id\":\"2686\",\"type\":\"ToolbarBox\"},{\"attributes\":{\"below\":[{\"id\":\"2489\",\"type\":\"LinearAxis\"}],\"center\":[{\"id\":\"2493\",\"type\":\"Grid\"},{\"id\":\"2498\",\"type\":\"Grid\"}],\"left\":[{\"id\":\"2494\",\"type\":\"LinearAxis\"},{\"id\":\"2530\",\"type\":\"Legend\"},{\"id\":\"2531\",\"type\":\"ColorBar\"}],\"plot_height\":400,\"plot_width\":600,\"renderers\":[{\"id\":\"2521\",\"type\":\"GlyphRenderer\"},{\"id\":\"2527\",\"type\":\"GlyphRenderer\"}],\"title\":{\"id\":\"2479\",\"type\":\"Title\"},\"toolbar\":{\"id\":\"2505\",\"type\":\"Toolbar\"},\"toolbar_location\":null,\"x_range\":{\"id\":\"2481\",\"type\":\"DataRange1d\"},\"x_scale\":{\"id\":\"2485\",\"type\":\"LinearScale\"},\"y_range\":{\"id\":\"2483\",\"type\":\"DataRange1d\"},\"y_scale\":{\"id\":\"2487\",\"type\":\"LinearScale\"}},\"id\":\"2478\",\"subtype\":\"Figure\",\"type\":\"Plot\"},{\"attributes\":{\"active_drag\":\"auto\",\"active_inspect\":\"auto\",\"active_multi\":null,\"active_scroll\":\"auto\",\"active_tap\":\"auto\",\"tools\":[{\"id\":\"2499\",\"type\":\"PanTool\"},{\"id\":\"2500\",\"type\":\"WheelZoomTool\"},{\"id\":\"2501\",\"type\":\"BoxZoomTool\"},{\"id\":\"2502\",\"type\":\"SaveTool\"},{\"id\":\"2503\",\"type\":\"ResetTool\"},{\"id\":\"2504\",\"type\":\"HelpTool\"},{\"id\":\"2513\",\"type\":\"HoverTool\"}]},\"id\":\"2505\",\"type\":\"Toolbar\"},{\"attributes\":{},\"id\":\"2500\",\"type\":\"WheelZoomTool\"},{\"attributes\":{\"click_policy\":\"hide\",\"items\":[{\"id\":\"2474\",\"type\":\"LegendItem\"},{\"id\":\"2475\",\"type\":\"LegendItem\"}]},\"id\":\"2476\",\"type\":\"Legend\"},{\"attributes\":{},\"id\":\"2595\",\"type\":\"LinearScale\"},{\"attributes\":{\"callback\":null},\"id\":\"2429\",\"type\":\"DataRange1d\"},{\"attributes\":{\"fill_alpha\":{\"value\":0.1},\"fill_color\":{\"value\":\"#1f77b4\"},\"line_alpha\":{\"value\":0.1},\"line_color\":{\"value\":\"#1f77b4\"},\"x\":{\"field\":\"x\"},\"y\":{\"field\":\"y\"}},\"id\":\"2526\",\"type\":\"Circle\"},{\"attributes\":{},\"id\":\"2676\",\"type\":\"BasicTicker\"},{\"attributes\":{\"text\":\"Ti/Tv rate\"},\"id\":\"2479\",\"type\":\"Title\"},{\"attributes\":{},\"id\":\"2539\",\"type\":\"LinearScale\"},{\"attributes\":{\"data_source\":{\"id\":\"2622\",\"type\":\"ColumnDataSource\"},\"glyph\":{\"id\":\"2627\",\"type\":\"Circle\"},\"hover_glyph\":null,\"muted_glyph\":null,\"nonselection_glyph\":{\"id\":\"2628\",\"type\":\"Circle\"},\"selection_glyph\":null,\"view\":{\"id\":\"2625\",\"type\":\"CDSView\"}},\"id\":\"2629\",\"type\":\"GlyphRenderer\"},{\"attributes\":{},\"id\":\"2502\",\"type\":\"SaveTool\"},{\"attributes\":{\"color_mapper\":null,\"formatter\":{\"id\":\"2677\",\"type\":\"BasicTickFormatter\"},\"ticker\":{\"id\":\"2676\",\"type\":\"BasicTicker\"},\"visible\":false},\"id\":\"2639\",\"type\":\"ColorBar\"},{\"attributes\":{},\"id\":\"2593\",\"type\":\"LinearScale\"},{\"attributes\":{\"column_name\":\"label\",\"group\":\"false\"},\"id\":\"2570\",\"type\":\"GroupFilter\"},{\"attributes\":{},\"id\":\"2544\",\"type\":\"BasicTicker\"},{\"attributes\":{},\"id\":\"2682\",\"type\":\"UnionRenderers\"},{\"attributes\":{\"below\":[{\"id\":\"2597\",\"type\":\"LinearAxis\"}],\"center\":[{\"id\":\"2601\",\"type\":\"Grid\"},{\"id\":\"2606\",\"type\":\"Grid\"}],\"left\":[{\"id\":\"2602\",\"type\":\"LinearAxis\"},{\"id\":\"2638\",\"type\":\"Legend\"},{\"id\":\"2639\",\"type\":\"ColorBar\"}],\"plot_height\":400,\"plot_width\":600,\"renderers\":[{\"id\":\"2629\",\"type\":\"GlyphRenderer\"},{\"id\":\"2635\",\"type\":\"GlyphRenderer\"}],\"title\":{\"id\":\"2587\",\"type\":\"Title\"},\"toolbar\":{\"id\":\"2613\",\"type\":\"Toolbar\"},\"toolbar_location\":null,\"x_range\":{\"id\":\"2589\",\"type\":\"DataRange1d\"},\"x_scale\":{\"id\":\"2593\",\"type\":\"LinearScale\"},\"y_range\":{\"id\":\"2591\",\"type\":\"DataRange1d\"},\"y_scale\":{\"id\":\"2595\",\"type\":\"LinearScale\"}},\"id\":\"2586\",\"subtype\":\"Figure\",\"type\":\"Plot\"},{\"attributes\":{\"color_mapper\":null,\"formatter\":{\"id\":\"2644\",\"type\":\"BasicTickFormatter\"},\"ticker\":{\"id\":\"2643\",\"type\":\"BasicTicker\"},\"visible\":false},\"id\":\"2477\",\"type\":\"ColorBar\"},{\"attributes\":{},\"id\":\"2549\",\"type\":\"BasicTicker\"},{\"attributes\":{\"filters\":[{\"id\":\"2516\",\"type\":\"GroupFilter\"}],\"source\":{\"id\":\"2514\",\"type\":\"ColumnDataSource\"}},\"id\":\"2517\",\"type\":\"CDSView\"}],\"root_ids\":[\"2687\"]},\"title\":\"Bokeh Application\",\"version\":\"1.2.0\"}};\n",
       "  var render_items = [{\"docid\":\"4c8ea9f1-0dfe-408f-b286-87e9f0dc0af4\",\"roots\":{\"2687\":\"5eb9f018-fb12-4ca8-b7f6-2bb108edcd50\"}}];\n",
       "  root.Bokeh.embed.embed_items_notebook(docs_json, render_items);\n",
       "\n",
       "  }\n",
       "  if (root.Bokeh !== undefined) {\n",
       "    embed_document(root);\n",
       "  } else {\n",
       "    var attempts = 0;\n",
       "    var timer = setInterval(function(root) {\n",
       "      if (root.Bokeh !== undefined) {\n",
       "        embed_document(root);\n",
       "        clearInterval(timer);\n",
       "      }\n",
       "      attempts++;\n",
       "      if (attempts > 100) {\n",
       "        console.log(\"Bokeh: ERROR: Unable to run BokehJS code because BokehJS library is missing\");\n",
       "        clearInterval(timer);\n",
       "      }\n",
       "    }, 10, root)\n",
       "  }\n",
       "})(window);"
      ],
      "application/vnd.bokehjs_exec.v0+json": ""
     },
     "metadata": {
      "application/vnd.bokehjs_exec.v0+json": {
       "id": "2687"
      }
     },
     "output_type": "display_data"
    }
   ],
   "source": [
    "show(gridplot(plot_list, ncols=2, plot_width=600, plot_height=400))"
   ]
  },
  {
   "cell_type": "markdown",
   "metadata": {},
   "source": [
    "There seems to be nothing abnormal with these samples with disconcordant imputed sex and self-reported gender. We will therefore trust that our computation is correct, and keep the samples."
   ]
  }
 ],
 "metadata": {
  "kernelspec": {
   "display_name": "Python [conda env:fargen-1-exome]",
   "language": "python",
   "name": "conda-env-fargen-1-exome-py"
  },
  "language_info": {
   "codemirror_mode": {
    "name": "ipython",
    "version": 3
   },
   "file_extension": ".py",
   "mimetype": "text/x-python",
   "name": "python",
   "nbconvert_exporter": "python",
   "pygments_lexer": "ipython3",
   "version": "3.7.10"
  }
 },
 "nbformat": 4,
 "nbformat_minor": 4
}
