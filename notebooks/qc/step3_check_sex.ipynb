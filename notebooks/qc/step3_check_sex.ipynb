{
 "cells": [
  {
   "cell_type": "markdown",
   "metadata": {},
   "source": [
    "# Sex check\n",
    "\n",
    "We will impute the sex of each sample, and compare this with the self-reported gender.\n",
    "\n",
    "Note the distinction between 'sex' and 'gender' used here: 'sex' refers to the genetic sex, where 'gender' is self-reported. We impute the sex by testing for the presence of a Y chromosome. The gender is obtained from a questionaire given to participants before a blood sample is drawn."
   ]
  },
  {
   "cell_type": "code",
   "execution_count": 1,
   "metadata": {},
   "outputs": [
    {
     "name": "stdout",
     "output_type": "stream",
     "text": [
      "2021-10-11 10:32:29 WARN  NativeCodeLoader:62 - Unable to load native-hadoop library for your platform... using builtin-java classes where applicable\n"
     ]
    },
    {
     "name": "stderr",
     "output_type": "stream",
     "text": [
      "Setting default log level to \"WARN\".\n",
      "To adjust logging level use sc.setLogLevel(newLevel). For SparkR, use setLogLevel(newLevel).\n"
     ]
    },
    {
     "name": "stdout",
     "output_type": "stream",
     "text": [
      "2021-10-11 10:32:30 WARN  Hail:37 - This Hail JAR was compiled for Spark 2.4.5, running with Spark 2.4.1.\n",
      "  Compatibility is not guaranteed.\n"
     ]
    },
    {
     "name": "stderr",
     "output_type": "stream",
     "text": [
      "Running on Apache Spark version 2.4.1\n",
      "SparkUI available at http://hms-beagle-6676655f87-9xllv:4040\n",
      "Welcome to\n",
      "     __  __     <>__\n",
      "    / /_/ /__  __/ /\n",
      "   / __  / _ `/ / /\n",
      "  /_/ /_/\\_,_/_/_/   version 0.2.61-3c86d3ba497a\n",
      "LOGGING: writing to /home/olavur/experiments/2020-11-13_fargen1_exome_analysis/fargen-1-exome/notebooks/qc/hail-20211011-1032-0.2.61-3c86d3ba497a.log\n"
     ]
    }
   ],
   "source": [
    "import hail as hl\n",
    "hl.init(spark_conf={'spark.driver.memory': '10g'}, tmp_dir='/home/olavur/tmp')"
   ]
  },
  {
   "cell_type": "code",
   "execution_count": 2,
   "metadata": {},
   "outputs": [
    {
     "data": {
      "text/html": [
       "\n",
       "    <div class=\"bk-root\">\n",
       "        <a href=\"https://bokeh.pydata.org\" target=\"_blank\" class=\"bk-logo bk-logo-small bk-logo-notebook\"></a>\n",
       "        <span id=\"1001\">Loading BokehJS ...</span>\n",
       "    </div>"
      ]
     },
     "metadata": {},
     "output_type": "display_data"
    },
    {
     "data": {
      "application/javascript": [
       "\n",
       "(function(root) {\n",
       "  function now() {\n",
       "    return new Date();\n",
       "  }\n",
       "\n",
       "  var force = true;\n",
       "\n",
       "  if (typeof root._bokeh_onload_callbacks === \"undefined\" || force === true) {\n",
       "    root._bokeh_onload_callbacks = [];\n",
       "    root._bokeh_is_loading = undefined;\n",
       "  }\n",
       "\n",
       "  var JS_MIME_TYPE = 'application/javascript';\n",
       "  var HTML_MIME_TYPE = 'text/html';\n",
       "  var EXEC_MIME_TYPE = 'application/vnd.bokehjs_exec.v0+json';\n",
       "  var CLASS_NAME = 'output_bokeh rendered_html';\n",
       "\n",
       "  /**\n",
       "   * Render data to the DOM node\n",
       "   */\n",
       "  function render(props, node) {\n",
       "    var script = document.createElement(\"script\");\n",
       "    node.appendChild(script);\n",
       "  }\n",
       "\n",
       "  /**\n",
       "   * Handle when an output is cleared or removed\n",
       "   */\n",
       "  function handleClearOutput(event, handle) {\n",
       "    var cell = handle.cell;\n",
       "\n",
       "    var id = cell.output_area._bokeh_element_id;\n",
       "    var server_id = cell.output_area._bokeh_server_id;\n",
       "    // Clean up Bokeh references\n",
       "    if (id != null && id in Bokeh.index) {\n",
       "      Bokeh.index[id].model.document.clear();\n",
       "      delete Bokeh.index[id];\n",
       "    }\n",
       "\n",
       "    if (server_id !== undefined) {\n",
       "      // Clean up Bokeh references\n",
       "      var cmd = \"from bokeh.io.state import curstate; print(curstate().uuid_to_server['\" + server_id + \"'].get_sessions()[0].document.roots[0]._id)\";\n",
       "      cell.notebook.kernel.execute(cmd, {\n",
       "        iopub: {\n",
       "          output: function(msg) {\n",
       "            var id = msg.content.text.trim();\n",
       "            if (id in Bokeh.index) {\n",
       "              Bokeh.index[id].model.document.clear();\n",
       "              delete Bokeh.index[id];\n",
       "            }\n",
       "          }\n",
       "        }\n",
       "      });\n",
       "      // Destroy server and session\n",
       "      var cmd = \"import bokeh.io.notebook as ion; ion.destroy_server('\" + server_id + \"')\";\n",
       "      cell.notebook.kernel.execute(cmd);\n",
       "    }\n",
       "  }\n",
       "\n",
       "  /**\n",
       "   * Handle when a new output is added\n",
       "   */\n",
       "  function handleAddOutput(event, handle) {\n",
       "    var output_area = handle.output_area;\n",
       "    var output = handle.output;\n",
       "\n",
       "    // limit handleAddOutput to display_data with EXEC_MIME_TYPE content only\n",
       "    if ((output.output_type != \"display_data\") || (!output.data.hasOwnProperty(EXEC_MIME_TYPE))) {\n",
       "      return\n",
       "    }\n",
       "\n",
       "    var toinsert = output_area.element.find(\".\" + CLASS_NAME.split(' ')[0]);\n",
       "\n",
       "    if (output.metadata[EXEC_MIME_TYPE][\"id\"] !== undefined) {\n",
       "      toinsert[toinsert.length - 1].firstChild.textContent = output.data[JS_MIME_TYPE];\n",
       "      // store reference to embed id on output_area\n",
       "      output_area._bokeh_element_id = output.metadata[EXEC_MIME_TYPE][\"id\"];\n",
       "    }\n",
       "    if (output.metadata[EXEC_MIME_TYPE][\"server_id\"] !== undefined) {\n",
       "      var bk_div = document.createElement(\"div\");\n",
       "      bk_div.innerHTML = output.data[HTML_MIME_TYPE];\n",
       "      var script_attrs = bk_div.children[0].attributes;\n",
       "      for (var i = 0; i < script_attrs.length; i++) {\n",
       "        toinsert[toinsert.length - 1].firstChild.setAttribute(script_attrs[i].name, script_attrs[i].value);\n",
       "      }\n",
       "      // store reference to server id on output_area\n",
       "      output_area._bokeh_server_id = output.metadata[EXEC_MIME_TYPE][\"server_id\"];\n",
       "    }\n",
       "  }\n",
       "\n",
       "  function register_renderer(events, OutputArea) {\n",
       "\n",
       "    function append_mime(data, metadata, element) {\n",
       "      // create a DOM node to render to\n",
       "      var toinsert = this.create_output_subarea(\n",
       "        metadata,\n",
       "        CLASS_NAME,\n",
       "        EXEC_MIME_TYPE\n",
       "      );\n",
       "      this.keyboard_manager.register_events(toinsert);\n",
       "      // Render to node\n",
       "      var props = {data: data, metadata: metadata[EXEC_MIME_TYPE]};\n",
       "      render(props, toinsert[toinsert.length - 1]);\n",
       "      element.append(toinsert);\n",
       "      return toinsert\n",
       "    }\n",
       "\n",
       "    /* Handle when an output is cleared or removed */\n",
       "    events.on('clear_output.CodeCell', handleClearOutput);\n",
       "    events.on('delete.Cell', handleClearOutput);\n",
       "\n",
       "    /* Handle when a new output is added */\n",
       "    events.on('output_added.OutputArea', handleAddOutput);\n",
       "\n",
       "    /**\n",
       "     * Register the mime type and append_mime function with output_area\n",
       "     */\n",
       "    OutputArea.prototype.register_mime_type(EXEC_MIME_TYPE, append_mime, {\n",
       "      /* Is output safe? */\n",
       "      safe: true,\n",
       "      /* Index of renderer in `output_area.display_order` */\n",
       "      index: 0\n",
       "    });\n",
       "  }\n",
       "\n",
       "  // register the mime type if in Jupyter Notebook environment and previously unregistered\n",
       "  if (root.Jupyter !== undefined) {\n",
       "    var events = require('base/js/events');\n",
       "    var OutputArea = require('notebook/js/outputarea').OutputArea;\n",
       "\n",
       "    if (OutputArea.prototype.mime_types().indexOf(EXEC_MIME_TYPE) == -1) {\n",
       "      register_renderer(events, OutputArea);\n",
       "    }\n",
       "  }\n",
       "\n",
       "  \n",
       "  if (typeof (root._bokeh_timeout) === \"undefined\" || force === true) {\n",
       "    root._bokeh_timeout = Date.now() + 5000;\n",
       "    root._bokeh_failed_load = false;\n",
       "  }\n",
       "\n",
       "  var NB_LOAD_WARNING = {'data': {'text/html':\n",
       "     \"<div style='background-color: #fdd'>\\n\"+\n",
       "     \"<p>\\n\"+\n",
       "     \"BokehJS does not appear to have successfully loaded. If loading BokehJS from CDN, this \\n\"+\n",
       "     \"may be due to a slow or bad network connection. Possible fixes:\\n\"+\n",
       "     \"</p>\\n\"+\n",
       "     \"<ul>\\n\"+\n",
       "     \"<li>re-rerun `output_notebook()` to attempt to load from CDN again, or</li>\\n\"+\n",
       "     \"<li>use INLINE resources instead, as so:</li>\\n\"+\n",
       "     \"</ul>\\n\"+\n",
       "     \"<code>\\n\"+\n",
       "     \"from bokeh.resources import INLINE\\n\"+\n",
       "     \"output_notebook(resources=INLINE)\\n\"+\n",
       "     \"</code>\\n\"+\n",
       "     \"</div>\"}};\n",
       "\n",
       "  function display_loaded() {\n",
       "    var el = document.getElementById(\"1001\");\n",
       "    if (el != null) {\n",
       "      el.textContent = \"BokehJS is loading...\";\n",
       "    }\n",
       "    if (root.Bokeh !== undefined) {\n",
       "      if (el != null) {\n",
       "        el.textContent = \"BokehJS \" + root.Bokeh.version + \" successfully loaded.\";\n",
       "      }\n",
       "    } else if (Date.now() < root._bokeh_timeout) {\n",
       "      setTimeout(display_loaded, 100)\n",
       "    }\n",
       "  }\n",
       "\n",
       "\n",
       "  function run_callbacks() {\n",
       "    try {\n",
       "      root._bokeh_onload_callbacks.forEach(function(callback) {\n",
       "        if (callback != null)\n",
       "          callback();\n",
       "      });\n",
       "    } finally {\n",
       "      delete root._bokeh_onload_callbacks\n",
       "    }\n",
       "    console.debug(\"Bokeh: all callbacks have finished\");\n",
       "  }\n",
       "\n",
       "  function load_libs(css_urls, js_urls, callback) {\n",
       "    if (css_urls == null) css_urls = [];\n",
       "    if (js_urls == null) js_urls = [];\n",
       "\n",
       "    root._bokeh_onload_callbacks.push(callback);\n",
       "    if (root._bokeh_is_loading > 0) {\n",
       "      console.debug(\"Bokeh: BokehJS is being loaded, scheduling callback at\", now());\n",
       "      return null;\n",
       "    }\n",
       "    if (js_urls == null || js_urls.length === 0) {\n",
       "      run_callbacks();\n",
       "      return null;\n",
       "    }\n",
       "    console.debug(\"Bokeh: BokehJS not loaded, scheduling load and callback at\", now());\n",
       "    root._bokeh_is_loading = css_urls.length + js_urls.length;\n",
       "\n",
       "    function on_load() {\n",
       "      root._bokeh_is_loading--;\n",
       "      if (root._bokeh_is_loading === 0) {\n",
       "        console.debug(\"Bokeh: all BokehJS libraries/stylesheets loaded\");\n",
       "        run_callbacks()\n",
       "      }\n",
       "    }\n",
       "\n",
       "    function on_error() {\n",
       "      console.error(\"failed to load \" + url);\n",
       "    }\n",
       "\n",
       "    for (var i = 0; i < css_urls.length; i++) {\n",
       "      var url = css_urls[i];\n",
       "      const element = document.createElement(\"link\");\n",
       "      element.onload = on_load;\n",
       "      element.onerror = on_error;\n",
       "      element.rel = \"stylesheet\";\n",
       "      element.type = \"text/css\";\n",
       "      element.href = url;\n",
       "      console.debug(\"Bokeh: injecting link tag for BokehJS stylesheet: \", url);\n",
       "      document.body.appendChild(element);\n",
       "    }\n",
       "\n",
       "    for (var i = 0; i < js_urls.length; i++) {\n",
       "      var url = js_urls[i];\n",
       "      var element = document.createElement('script');\n",
       "      element.onload = on_load;\n",
       "      element.onerror = on_error;\n",
       "      element.async = false;\n",
       "      element.src = url;\n",
       "      console.debug(\"Bokeh: injecting script tag for BokehJS library: \", url);\n",
       "      document.head.appendChild(element);\n",
       "    }\n",
       "  };var element = document.getElementById(\"1001\");\n",
       "  if (element == null) {\n",
       "    console.error(\"Bokeh: ERROR: autoload.js configured with elementid '1001' but no matching script tag was found. \")\n",
       "    return false;\n",
       "  }\n",
       "\n",
       "  function inject_raw_css(css) {\n",
       "    const element = document.createElement(\"style\");\n",
       "    element.appendChild(document.createTextNode(css));\n",
       "    document.body.appendChild(element);\n",
       "  }\n",
       "\n",
       "  var js_urls = [\"https://cdn.pydata.org/bokeh/release/bokeh-1.2.0.min.js\", \"https://cdn.pydata.org/bokeh/release/bokeh-widgets-1.2.0.min.js\", \"https://cdn.pydata.org/bokeh/release/bokeh-tables-1.2.0.min.js\", \"https://cdn.pydata.org/bokeh/release/bokeh-gl-1.2.0.min.js\"];\n",
       "  var css_urls = [\"https://cdn.pydata.org/bokeh/release/bokeh-1.2.0.min.css\", \"https://cdn.pydata.org/bokeh/release/bokeh-widgets-1.2.0.min.css\", \"https://cdn.pydata.org/bokeh/release/bokeh-tables-1.2.0.min.css\"];\n",
       "\n",
       "  var inline_js = [\n",
       "    function(Bokeh) {\n",
       "      Bokeh.set_log_level(\"info\");\n",
       "    },\n",
       "    \n",
       "    function(Bokeh) {\n",
       "      \n",
       "    },\n",
       "    function(Bokeh) {} // ensure no trailing comma for IE\n",
       "  ];\n",
       "\n",
       "  function run_inline_js() {\n",
       "    \n",
       "    if ((root.Bokeh !== undefined) || (force === true)) {\n",
       "      for (var i = 0; i < inline_js.length; i++) {\n",
       "        inline_js[i].call(root, root.Bokeh);\n",
       "      }if (force === true) {\n",
       "        display_loaded();\n",
       "      }} else if (Date.now() < root._bokeh_timeout) {\n",
       "      setTimeout(run_inline_js, 100);\n",
       "    } else if (!root._bokeh_failed_load) {\n",
       "      console.log(\"Bokeh: BokehJS failed to load within specified timeout.\");\n",
       "      root._bokeh_failed_load = true;\n",
       "    } else if (force !== true) {\n",
       "      var cell = $(document.getElementById(\"1001\")).parents('.cell').data().cell;\n",
       "      cell.output_area.append_execute_result(NB_LOAD_WARNING)\n",
       "    }\n",
       "\n",
       "  }\n",
       "\n",
       "  if (root._bokeh_is_loading === 0) {\n",
       "    console.debug(\"Bokeh: BokehJS loaded, going straight to plotting\");\n",
       "    run_inline_js();\n",
       "  } else {\n",
       "    load_libs(css_urls, js_urls, function() {\n",
       "      console.debug(\"Bokeh: BokehJS plotting callback run at\", now());\n",
       "      run_inline_js();\n",
       "    });\n",
       "  }\n",
       "}(window));"
      ],
      "application/vnd.bokehjs_load.v0+json": "\n(function(root) {\n  function now() {\n    return new Date();\n  }\n\n  var force = true;\n\n  if (typeof root._bokeh_onload_callbacks === \"undefined\" || force === true) {\n    root._bokeh_onload_callbacks = [];\n    root._bokeh_is_loading = undefined;\n  }\n\n  \n\n  \n  if (typeof (root._bokeh_timeout) === \"undefined\" || force === true) {\n    root._bokeh_timeout = Date.now() + 5000;\n    root._bokeh_failed_load = false;\n  }\n\n  var NB_LOAD_WARNING = {'data': {'text/html':\n     \"<div style='background-color: #fdd'>\\n\"+\n     \"<p>\\n\"+\n     \"BokehJS does not appear to have successfully loaded. If loading BokehJS from CDN, this \\n\"+\n     \"may be due to a slow or bad network connection. Possible fixes:\\n\"+\n     \"</p>\\n\"+\n     \"<ul>\\n\"+\n     \"<li>re-rerun `output_notebook()` to attempt to load from CDN again, or</li>\\n\"+\n     \"<li>use INLINE resources instead, as so:</li>\\n\"+\n     \"</ul>\\n\"+\n     \"<code>\\n\"+\n     \"from bokeh.resources import INLINE\\n\"+\n     \"output_notebook(resources=INLINE)\\n\"+\n     \"</code>\\n\"+\n     \"</div>\"}};\n\n  function display_loaded() {\n    var el = document.getElementById(\"1001\");\n    if (el != null) {\n      el.textContent = \"BokehJS is loading...\";\n    }\n    if (root.Bokeh !== undefined) {\n      if (el != null) {\n        el.textContent = \"BokehJS \" + root.Bokeh.version + \" successfully loaded.\";\n      }\n    } else if (Date.now() < root._bokeh_timeout) {\n      setTimeout(display_loaded, 100)\n    }\n  }\n\n\n  function run_callbacks() {\n    try {\n      root._bokeh_onload_callbacks.forEach(function(callback) {\n        if (callback != null)\n          callback();\n      });\n    } finally {\n      delete root._bokeh_onload_callbacks\n    }\n    console.debug(\"Bokeh: all callbacks have finished\");\n  }\n\n  function load_libs(css_urls, js_urls, callback) {\n    if (css_urls == null) css_urls = [];\n    if (js_urls == null) js_urls = [];\n\n    root._bokeh_onload_callbacks.push(callback);\n    if (root._bokeh_is_loading > 0) {\n      console.debug(\"Bokeh: BokehJS is being loaded, scheduling callback at\", now());\n      return null;\n    }\n    if (js_urls == null || js_urls.length === 0) {\n      run_callbacks();\n      return null;\n    }\n    console.debug(\"Bokeh: BokehJS not loaded, scheduling load and callback at\", now());\n    root._bokeh_is_loading = css_urls.length + js_urls.length;\n\n    function on_load() {\n      root._bokeh_is_loading--;\n      if (root._bokeh_is_loading === 0) {\n        console.debug(\"Bokeh: all BokehJS libraries/stylesheets loaded\");\n        run_callbacks()\n      }\n    }\n\n    function on_error() {\n      console.error(\"failed to load \" + url);\n    }\n\n    for (var i = 0; i < css_urls.length; i++) {\n      var url = css_urls[i];\n      const element = document.createElement(\"link\");\n      element.onload = on_load;\n      element.onerror = on_error;\n      element.rel = \"stylesheet\";\n      element.type = \"text/css\";\n      element.href = url;\n      console.debug(\"Bokeh: injecting link tag for BokehJS stylesheet: \", url);\n      document.body.appendChild(element);\n    }\n\n    for (var i = 0; i < js_urls.length; i++) {\n      var url = js_urls[i];\n      var element = document.createElement('script');\n      element.onload = on_load;\n      element.onerror = on_error;\n      element.async = false;\n      element.src = url;\n      console.debug(\"Bokeh: injecting script tag for BokehJS library: \", url);\n      document.head.appendChild(element);\n    }\n  };var element = document.getElementById(\"1001\");\n  if (element == null) {\n    console.error(\"Bokeh: ERROR: autoload.js configured with elementid '1001' but no matching script tag was found. \")\n    return false;\n  }\n\n  function inject_raw_css(css) {\n    const element = document.createElement(\"style\");\n    element.appendChild(document.createTextNode(css));\n    document.body.appendChild(element);\n  }\n\n  var js_urls = [\"https://cdn.pydata.org/bokeh/release/bokeh-1.2.0.min.js\", \"https://cdn.pydata.org/bokeh/release/bokeh-widgets-1.2.0.min.js\", \"https://cdn.pydata.org/bokeh/release/bokeh-tables-1.2.0.min.js\", \"https://cdn.pydata.org/bokeh/release/bokeh-gl-1.2.0.min.js\"];\n  var css_urls = [\"https://cdn.pydata.org/bokeh/release/bokeh-1.2.0.min.css\", \"https://cdn.pydata.org/bokeh/release/bokeh-widgets-1.2.0.min.css\", \"https://cdn.pydata.org/bokeh/release/bokeh-tables-1.2.0.min.css\"];\n\n  var inline_js = [\n    function(Bokeh) {\n      Bokeh.set_log_level(\"info\");\n    },\n    \n    function(Bokeh) {\n      \n    },\n    function(Bokeh) {} // ensure no trailing comma for IE\n  ];\n\n  function run_inline_js() {\n    \n    if ((root.Bokeh !== undefined) || (force === true)) {\n      for (var i = 0; i < inline_js.length; i++) {\n        inline_js[i].call(root, root.Bokeh);\n      }if (force === true) {\n        display_loaded();\n      }} else if (Date.now() < root._bokeh_timeout) {\n      setTimeout(run_inline_js, 100);\n    } else if (!root._bokeh_failed_load) {\n      console.log(\"Bokeh: BokehJS failed to load within specified timeout.\");\n      root._bokeh_failed_load = true;\n    } else if (force !== true) {\n      var cell = $(document.getElementById(\"1001\")).parents('.cell').data().cell;\n      cell.output_area.append_execute_result(NB_LOAD_WARNING)\n    }\n\n  }\n\n  if (root._bokeh_is_loading === 0) {\n    console.debug(\"Bokeh: BokehJS loaded, going straight to plotting\");\n    run_inline_js();\n  } else {\n    load_libs(css_urls, js_urls, function() {\n      console.debug(\"Bokeh: BokehJS plotting callback run at\", now());\n      run_inline_js();\n    });\n  }\n}(window));"
     },
     "metadata": {},
     "output_type": "display_data"
    }
   ],
   "source": [
    "from bokeh.io import show, output_notebook\n",
    "from bokeh.layouts import gridplot\n",
    "from bokeh.models.scales import LogScale\n",
    "output_notebook()"
   ]
  },
  {
   "cell_type": "code",
   "execution_count": 3,
   "metadata": {},
   "outputs": [],
   "source": [
    "import pandas as pd"
   ]
  },
  {
   "cell_type": "code",
   "execution_count": 4,
   "metadata": {},
   "outputs": [],
   "source": [
    "BASE_DIR = '/home/olavur/experiments/2020-11-13_fargen1_exome_analysis'"
   ]
  },
  {
   "cell_type": "markdown",
   "metadata": {},
   "source": [
    "## Load FarGen exome data\n",
    "\n",
    "Load filtered, high-quality, variants."
   ]
  },
  {
   "cell_type": "code",
   "execution_count": 5,
   "metadata": {},
   "outputs": [],
   "source": [
    "mt = hl.read_matrix_table(BASE_DIR + '/data/mt/high_quality_variants.mt/')"
   ]
  },
  {
   "cell_type": "code",
   "execution_count": 6,
   "metadata": {},
   "outputs": [
    {
     "name": "stdout",
     "output_type": "stream",
     "text": [
      "Number of variants: 148305\n",
      "Number of samples: 469\n"
     ]
    }
   ],
   "source": [
    "n_variants, n_samples = mt.count()\n",
    "print('Number of variants: ' + str(n_variants))\n",
    "print('Number of samples: ' + str(n_samples))"
   ]
  },
  {
   "cell_type": "markdown",
   "metadata": {},
   "source": [
    "## Impute sex\n",
    "\n",
    "We impute the sex of the samples by computing the inbreeding coefficient (F) on the X chromosome. This inbreeding coefficient is calculated as $F = \\frac{O - E}{N-E}$ where $O$ is the observed number of homozygotes, $E$ is the expected number of homozygotes, and $N$ is the number of non-missing genotype calls. The expected number of homozygotes is calculated as $E = 1 - 2 f (1 - f)$ where $f$ is the minor-allel frequency.\n",
    "\n",
    "NOTE: the sex imputation method requires diallelic sites."
   ]
  },
  {
   "cell_type": "code",
   "execution_count": 7,
   "metadata": {},
   "outputs": [],
   "source": [
    "mt = mt.filter_rows(hl.len(mt.alleles) == 2)"
   ]
  },
  {
   "cell_type": "code",
   "execution_count": 8,
   "metadata": {},
   "outputs": [
    {
     "name": "stderr",
     "output_type": "stream",
     "text": [
      "2021-10-11 10:32:35 Hail: WARN: cols(): Resulting column table is sorted by 'col_key'.\n",
      "    To preserve matrix table column order, first unkey columns with 'key_cols_by()'\n"
     ]
    }
   ],
   "source": [
    "imputed_sex_ht = hl.impute_sex(mt.GT)"
   ]
  },
  {
   "cell_type": "markdown",
   "metadata": {},
   "source": [
    "Below we've plotted the inbreeding coefficient, and there is a quite clear clustering of individuals."
   ]
  },
  {
   "cell_type": "code",
   "execution_count": 9,
   "metadata": {},
   "outputs": [
    {
     "name": "stderr",
     "output_type": "stream",
     "text": [
      "[Stage 0:=============================>                             (1 + 1) / 2]"
     ]
    },
    {
     "data": {
      "text/html": [
       "\n",
       "\n",
       "\n",
       "\n",
       "\n",
       "\n",
       "  <div class=\"bk-root\" id=\"00081fa9-dd6c-418e-b02f-4e3391184e09\" data-root-id=\"1002\"></div>\n"
      ]
     },
     "metadata": {},
     "output_type": "display_data"
    },
    {
     "data": {
      "application/javascript": [
       "(function(root) {\n",
       "  function embed_document(root) {\n",
       "    \n",
       "  var docs_json = {\"984f9b33-63fd-4cf7-886f-784f41e2ae04\":{\"roots\":{\"references\":[{\"attributes\":{\"background_fill_color\":{\"value\":\"#EEEEEE\"},\"below\":[{\"id\":\"1013\",\"type\":\"LinearAxis\"}],\"center\":[{\"id\":\"1017\",\"type\":\"Grid\"},{\"id\":\"1022\",\"type\":\"Grid\"}],\"left\":[{\"id\":\"1018\",\"type\":\"LinearAxis\"}],\"plot_height\":500,\"plot_width\":800,\"renderers\":[{\"id\":\"1039\",\"type\":\"GlyphRenderer\"}],\"title\":{\"id\":\"1003\",\"type\":\"Title\"},\"toolbar\":{\"id\":\"1029\",\"type\":\"Toolbar\"},\"x_range\":{\"id\":\"1005\",\"type\":\"Range1d\"},\"x_scale\":{\"id\":\"1009\",\"type\":\"LinearScale\"},\"y_range\":{\"id\":\"1007\",\"type\":\"DataRange1d\"},\"y_scale\":{\"id\":\"1011\",\"type\":\"LinearScale\"}},\"id\":\"1002\",\"subtype\":\"Figure\",\"type\":\"Plot\"},{\"attributes\":{},\"id\":\"1009\",\"type\":\"LinearScale\"},{\"attributes\":{\"callback\":null,\"end\":1.0557514867317213,\"start\":-0.5155847090394817},\"id\":\"1005\",\"type\":\"Range1d\"},{\"attributes\":{\"ticker\":{\"id\":\"1014\",\"type\":\"BasicTicker\"}},\"id\":\"1017\",\"type\":\"Grid\"},{\"attributes\":{\"axis_label\":\"Frequency\",\"formatter\":{\"id\":\"1043\",\"type\":\"BasicTickFormatter\"},\"ticker\":{\"id\":\"1019\",\"type\":\"BasicTicker\"}},\"id\":\"1018\",\"type\":\"LinearAxis\"},{\"attributes\":{},\"id\":\"1043\",\"type\":\"BasicTickFormatter\"},{\"attributes\":{\"dimension\":1,\"ticker\":{\"id\":\"1019\",\"type\":\"BasicTicker\"}},\"id\":\"1022\",\"type\":\"Grid\"},{\"attributes\":{\"text\":\"Inbreeding coefficient (F) computed on the X chromosome\"},\"id\":\"1003\",\"type\":\"Title\"},{\"attributes\":{},\"id\":\"1024\",\"type\":\"WheelZoomTool\"},{\"attributes\":{},\"id\":\"1047\",\"type\":\"Selection\"},{\"attributes\":{},\"id\":\"1046\",\"type\":\"UnionRenderers\"},{\"attributes\":{},\"id\":\"1045\",\"type\":\"BasicTickFormatter\"},{\"attributes\":{\"active_drag\":\"auto\",\"active_inspect\":\"auto\",\"active_multi\":null,\"active_scroll\":\"auto\",\"active_tap\":\"auto\",\"tools\":[{\"id\":\"1023\",\"type\":\"PanTool\"},{\"id\":\"1024\",\"type\":\"WheelZoomTool\"},{\"id\":\"1025\",\"type\":\"BoxZoomTool\"},{\"id\":\"1026\",\"type\":\"SaveTool\"},{\"id\":\"1027\",\"type\":\"ResetTool\"},{\"id\":\"1028\",\"type\":\"HelpTool\"}]},\"id\":\"1029\",\"type\":\"Toolbar\"},{\"attributes\":{\"callback\":null,\"data\":{\"left\":[-0.44416033650442704,-0.41559058749040517,-0.3870208384763833,-0.3584510894623614,-0.32988134044833956,-0.3013115914343177,-0.2727418424202958,-0.24417209340627394,-0.21560234439225207,-0.1870325953782302,-0.15846284636420832,-0.12989309735018645,-0.10132334833616458,-0.0727535993221427,-0.04418385030812083,-0.015614101294098959,0.012955647719922914,0.041525396733944786,0.07009514574796666,0.09866489476198853,0.1272346437760104,0.15580439279003228,0.18437414180405415,0.21294389081807602,0.2415136398320979,0.27008338884611977,0.29865313786014164,0.3272228868741635,0.3557926358881854,0.38436238490220725,0.4129321339162291,0.441501882930251,0.47007163194427287,0.49864138095829474,0.5272111299723166,0.5557808789863385,0.5843506280003603,0.6129203770143823,0.641490126028404,0.6700598750424258,0.6986296240564478,0.7271993730704698,0.7557691220844915,0.7843388710985133,0.8129086201125353,0.8414783691265573,0.870048118140579,0.8986178671546008,0.9271876161686228,0.9557573651826448],\"right\":[-0.41559058749040517,-0.3870208384763833,-0.3584510894623614,-0.32988134044833956,-0.3013115914343177,-0.2727418424202958,-0.24417209340627394,-0.21560234439225207,-0.1870325953782302,-0.15846284636420832,-0.12989309735018645,-0.10132334833616458,-0.0727535993221427,-0.04418385030812083,-0.015614101294098959,0.012955647719922914,0.041525396733944786,0.07009514574796666,0.09866489476198853,0.1272346437760104,0.15580439279003228,0.18437414180405415,0.21294389081807602,0.2415136398320979,0.27008338884611977,0.29865313786014164,0.3272228868741635,0.3557926358881854,0.38436238490220725,0.4129321339162291,0.441501882930251,0.47007163194427287,0.49864138095829474,0.5272111299723166,0.5557808789863385,0.5843506280003603,0.6129203770143823,0.641490126028404,0.6700598750424258,0.6986296240564478,0.7271993730704698,0.7557691220844915,0.7843388710985133,0.8129086201125353,0.8414783691265573,0.870048118140579,0.8986178671546008,0.9271876161686228,0.9557573651826448,0.9843271141966665],\"top\":[1,4,4,6,10,14,17,25,28,19,29,22,29,28,13,14,4,3,4,2,2,0,0,0,0,0,0,0,0,0,0,0,0,0,0,0,0,0,0,0,0,0,1,0,4,15,39,69,52,11]},\"selected\":{\"id\":\"1047\",\"type\":\"Selection\"},\"selection_policy\":{\"id\":\"1046\",\"type\":\"UnionRenderers\"}},\"id\":\"1036\",\"type\":\"ColumnDataSource\"},{\"attributes\":{\"data_source\":{\"id\":\"1036\",\"type\":\"ColumnDataSource\"},\"glyph\":{\"id\":\"1037\",\"type\":\"Quad\"},\"hover_glyph\":null,\"muted_glyph\":null,\"nonselection_glyph\":{\"id\":\"1038\",\"type\":\"Quad\"},\"selection_glyph\":null,\"view\":{\"id\":\"1040\",\"type\":\"CDSView\"}},\"id\":\"1039\",\"type\":\"GlyphRenderer\"},{\"attributes\":{\"overlay\":{\"id\":\"1048\",\"type\":\"BoxAnnotation\"}},\"id\":\"1025\",\"type\":\"BoxZoomTool\"},{\"attributes\":{\"bottom_units\":\"screen\",\"fill_alpha\":{\"value\":0.5},\"fill_color\":{\"value\":\"lightgrey\"},\"left_units\":\"screen\",\"level\":\"overlay\",\"line_alpha\":{\"value\":1.0},\"line_color\":{\"value\":\"black\"},\"line_dash\":[4,4],\"line_width\":{\"value\":2},\"render_mode\":\"css\",\"right_units\":\"screen\",\"top_units\":\"screen\"},\"id\":\"1048\",\"type\":\"BoxAnnotation\"},{\"attributes\":{},\"id\":\"1023\",\"type\":\"PanTool\"},{\"attributes\":{},\"id\":\"1026\",\"type\":\"SaveTool\"},{\"attributes\":{},\"id\":\"1011\",\"type\":\"LinearScale\"},{\"attributes\":{\"formatter\":{\"id\":\"1045\",\"type\":\"BasicTickFormatter\"},\"ticker\":{\"id\":\"1014\",\"type\":\"BasicTicker\"}},\"id\":\"1013\",\"type\":\"LinearAxis\"},{\"attributes\":{\"bottom\":{\"value\":0},\"fill_color\":{\"value\":\"#1f77b4\"},\"left\":{\"field\":\"left\"},\"right\":{\"field\":\"right\"},\"top\":{\"field\":\"top\"}},\"id\":\"1037\",\"type\":\"Quad\"},{\"attributes\":{\"bottom\":{\"value\":0},\"fill_alpha\":{\"value\":0.1},\"fill_color\":{\"value\":\"#1f77b4\"},\"left\":{\"field\":\"left\"},\"line_alpha\":{\"value\":0.1},\"line_color\":{\"value\":\"#1f77b4\"},\"right\":{\"field\":\"right\"},\"top\":{\"field\":\"top\"}},\"id\":\"1038\",\"type\":\"Quad\"},{\"attributes\":{\"callback\":null},\"id\":\"1007\",\"type\":\"DataRange1d\"},{\"attributes\":{\"source\":{\"id\":\"1036\",\"type\":\"ColumnDataSource\"}},\"id\":\"1040\",\"type\":\"CDSView\"},{\"attributes\":{},\"id\":\"1028\",\"type\":\"HelpTool\"},{\"attributes\":{},\"id\":\"1014\",\"type\":\"BasicTicker\"},{\"attributes\":{},\"id\":\"1019\",\"type\":\"BasicTicker\"},{\"attributes\":{},\"id\":\"1027\",\"type\":\"ResetTool\"}],\"root_ids\":[\"1002\"]},\"title\":\"Bokeh Application\",\"version\":\"1.2.0\"}};\n",
       "  var render_items = [{\"docid\":\"984f9b33-63fd-4cf7-886f-784f41e2ae04\",\"roots\":{\"1002\":\"00081fa9-dd6c-418e-b02f-4e3391184e09\"}}];\n",
       "  root.Bokeh.embed.embed_items_notebook(docs_json, render_items);\n",
       "\n",
       "  }\n",
       "  if (root.Bokeh !== undefined) {\n",
       "    embed_document(root);\n",
       "  } else {\n",
       "    var attempts = 0;\n",
       "    var timer = setInterval(function(root) {\n",
       "      if (root.Bokeh !== undefined) {\n",
       "        embed_document(root);\n",
       "        clearInterval(timer);\n",
       "      }\n",
       "      attempts++;\n",
       "      if (attempts > 100) {\n",
       "        console.log(\"Bokeh: ERROR: Unable to run BokehJS code because BokehJS library is missing\");\n",
       "        clearInterval(timer);\n",
       "      }\n",
       "    }, 10, root)\n",
       "  }\n",
       "})(window);"
      ],
      "application/vnd.bokehjs_exec.v0+json": ""
     },
     "metadata": {
      "application/vnd.bokehjs_exec.v0+json": {
       "id": "1002"
      }
     },
     "output_type": "display_data"
    }
   ],
   "source": [
    "p = hl.plot.histogram(imputed_sex_ht.f_stat, title='Inbreeding coefficient (F) computed on the X chromosome')\n",
    "p.plot_width = 800\n",
    "p.plot_height = 500\n",
    "show(p)"
   ]
  },
  {
   "cell_type": "markdown",
   "metadata": {},
   "source": [
    "Based on the plot above, we define new $F$ thresholds for male and female, and do the imputation again."
   ]
  },
  {
   "cell_type": "code",
   "execution_count": 10,
   "metadata": {},
   "outputs": [],
   "source": [
    "imputed_sex_ht = hl.impute_sex(mt.GT, female_threshold=0.4, male_threshold=0.4)\n",
    "\n",
    "# Make a new variable 'sex' that is either 'f' or 'm'.\n",
    "imputed_sex_ht = imputed_sex_ht.annotate(sex = hl.if_else(imputed_sex_ht.is_female, 'f', 'm'))"
   ]
  },
  {
   "cell_type": "markdown",
   "metadata": {},
   "source": [
    "## Load self-reported gender data"
   ]
  },
  {
   "cell_type": "code",
   "execution_count": 11,
   "metadata": {},
   "outputs": [
    {
     "name": "stderr",
     "output_type": "stream",
     "text": [
      "2021-10-11 10:32:41 Hail: INFO: Reading table without type imputation\n",
      "  Loading field 'IndividualName' as type str (not specified)\n",
      "  Loading field 'Gender' as type str (not specified)\n"
     ]
    }
   ],
   "source": [
    "# Read the CSV.\n",
    "gender_ht = hl.import_table(BASE_DIR + '/data/metadata/fargen_indi-gen.csv', delimiter=',')\n",
    "\n",
    "# Key the table by individual name.\n",
    "gender_ht = gender_ht.key_by(gender_ht.IndividualName)\n",
    "\n",
    "# Us a boolean 'is_female' variable, like in the imputed data.\n",
    "gender_ht = gender_ht.annotate(gender = hl.if_else(gender_ht.Gender == '0', 'f', 'm'))\n",
    "\n",
    "# Recode the 'Gender' variable into a new 'gender' variable, that is either 'm', 'f', or missing.\n",
    "gender_ht = gender_ht.transmute(gender = hl.case()\n",
    "                                        .when(gender_ht.Gender == '0', 'f')\n",
    "                                        .when(gender_ht.Gender == '1', 'm')\n",
    "                                        .or_missing())"
   ]
  },
  {
   "cell_type": "markdown",
   "metadata": {},
   "source": [
    "## Compare imputed sex with self-reported gender\n",
    "\n",
    "Below we compute a confusion matrix between self-reported gender and imputed sex.\n",
    "\n",
    "We see that 7 samples have disconcordant sex and gender. Of these, 4 are reported as female and imputed as male, and 3 are reported as male and imputed as female."
   ]
  },
  {
   "cell_type": "code",
   "execution_count": 12,
   "metadata": {},
   "outputs": [
    {
     "name": "stderr",
     "output_type": "stream",
     "text": [
      "2021-10-11 10:32:42 Hail: INFO: Coerced sorted dataset\n",
      "2021-10-11 10:32:42 Hail: INFO: Coerced sorted dataset\n",
      "2021-10-11 10:32:42 Hail: INFO: Coerced sorted dataset\n"
     ]
    },
    {
     "data": {
      "text/html": [
       "<div>\n",
       "<style scoped>\n",
       "    .dataframe tbody tr th:only-of-type {\n",
       "        vertical-align: middle;\n",
       "    }\n",
       "\n",
       "    .dataframe tbody tr th {\n",
       "        vertical-align: top;\n",
       "    }\n",
       "\n",
       "    .dataframe thead th {\n",
       "        text-align: right;\n",
       "    }\n",
       "</style>\n",
       "<table border=\"1\" class=\"dataframe\">\n",
       "  <thead>\n",
       "    <tr style=\"text-align: right;\">\n",
       "      <th>Gender</th>\n",
       "      <th>f</th>\n",
       "      <th>m</th>\n",
       "      <th>Sum</th>\n",
       "    </tr>\n",
       "    <tr>\n",
       "      <th>Sex</th>\n",
       "      <th></th>\n",
       "      <th></th>\n",
       "      <th></th>\n",
       "    </tr>\n",
       "  </thead>\n",
       "  <tbody>\n",
       "    <tr>\n",
       "      <th>f</th>\n",
       "      <td>275</td>\n",
       "      <td>3</td>\n",
       "      <td>278</td>\n",
       "    </tr>\n",
       "    <tr>\n",
       "      <th>m</th>\n",
       "      <td>4</td>\n",
       "      <td>187</td>\n",
       "      <td>191</td>\n",
       "    </tr>\n",
       "    <tr>\n",
       "      <th>Sum</th>\n",
       "      <td>279</td>\n",
       "      <td>190</td>\n",
       "      <td>469</td>\n",
       "    </tr>\n",
       "  </tbody>\n",
       "</table>\n",
       "</div>"
      ],
      "text/plain": [
       "Gender    f    m  Sum\n",
       "Sex                  \n",
       "f       275    3  278\n",
       "m         4  187  191\n",
       "Sum     279  190  469"
      ]
     },
     "execution_count": 12,
     "metadata": {},
     "output_type": "execute_result"
    }
   ],
   "source": [
    "# Annotate the imputed sex table with the self-reported gender.\n",
    "imputed_sex_ht = imputed_sex_ht.annotate(gender=gender_ht[imputed_sex_ht.s].gender)\n",
    "\n",
    "# Make Pandas series with the sex and gender.\n",
    "sex = pd.Series(imputed_sex_ht.sex.collect(), name='Sex')\n",
    "gender = pd.Series(imputed_sex_ht.gender.collect(), name='Gender')\n",
    "\n",
    "# Calculate confusion matrix.\n",
    "confusion_table = pd.crosstab(sex, gender, margins=True, margins_name='Sum')\n",
    "\n",
    "confusion_table"
   ]
  },
  {
   "cell_type": "markdown",
   "metadata": {},
   "source": [
    "## Inspect disconcordant samples\n",
    "\n",
    "We will inspect the samples where the self-reported gender is different from the imputed sex.\n",
    "\n",
    "As we have seen, the males and females cluster very nicely w.r.t. the inbreeding coeffcient, so we can be confident that we are correctly imputing the sex. We used imputed samples with $F > 0.4$ as male and $F < 0.4$ as female.\n",
    "\n",
    "Below we see the imputation data for the samples where the imputed sex and self-reported gender mismatch. Note that these samples fall nicely into the categories defined by the cut-off values we defined."
   ]
  },
  {
   "cell_type": "code",
   "execution_count": 13,
   "metadata": {},
   "outputs": [
    {
     "name": "stderr",
     "output_type": "stream",
     "text": [
      "2021-10-11 10:32:44 Hail: INFO: Coerced sorted dataset\n",
      "2021-10-11 10:32:44 Hail: INFO: Coerced sorted dataset\n"
     ]
    },
    {
     "data": {
      "text/html": [
       "<table><thead><tr><td style=\"white-space: nowrap; max-width: 500px; overflow: hidden; text-overflow: ellipsis; \" colspan=\"1\"><div style=\"text-align: left;\"></div></td><td style=\"white-space: nowrap; max-width: 500px; overflow: hidden; text-overflow: ellipsis; \" colspan=\"1\"><div style=\"text-align: left;\"></div></td><td style=\"white-space: nowrap; max-width: 500px; overflow: hidden; text-overflow: ellipsis; \" colspan=\"1\"><div style=\"text-align: left;\"></div></td><td style=\"white-space: nowrap; max-width: 500px; overflow: hidden; text-overflow: ellipsis; \" colspan=\"1\"><div style=\"text-align: left;\"></div></td><td style=\"white-space: nowrap; max-width: 500px; overflow: hidden; text-overflow: ellipsis; \" colspan=\"1\"><div style=\"text-align: left;\"></div></td><td style=\"white-space: nowrap; max-width: 500px; overflow: hidden; text-overflow: ellipsis; \" colspan=\"1\"><div style=\"text-align: left;\"></div></td><td style=\"white-space: nowrap; max-width: 500px; overflow: hidden; text-overflow: ellipsis; \" colspan=\"1\"><div style=\"text-align: left;\"></div></td><td style=\"white-space: nowrap; max-width: 500px; overflow: hidden; text-overflow: ellipsis; \" colspan=\"1\"><div style=\"text-align: left;\"></div></td></tr><tr><td style=\"white-space: nowrap; max-width: 500px; overflow: hidden; text-overflow: ellipsis; \" colspan=\"1\"><div style=\"text-align: left;border-bottom: solid 2px #000; padding-bottom: 5px\">s</div></td><td style=\"white-space: nowrap; max-width: 500px; overflow: hidden; text-overflow: ellipsis; \" colspan=\"1\"><div style=\"text-align: left;border-bottom: solid 2px #000; padding-bottom: 5px\">is_female</div></td><td style=\"white-space: nowrap; max-width: 500px; overflow: hidden; text-overflow: ellipsis; \" colspan=\"1\"><div style=\"text-align: left;border-bottom: solid 2px #000; padding-bottom: 5px\">f_stat</div></td><td style=\"white-space: nowrap; max-width: 500px; overflow: hidden; text-overflow: ellipsis; \" colspan=\"1\"><div style=\"text-align: left;border-bottom: solid 2px #000; padding-bottom: 5px\">n_called</div></td><td style=\"white-space: nowrap; max-width: 500px; overflow: hidden; text-overflow: ellipsis; \" colspan=\"1\"><div style=\"text-align: left;border-bottom: solid 2px #000; padding-bottom: 5px\">expected_homs</div></td><td style=\"white-space: nowrap; max-width: 500px; overflow: hidden; text-overflow: ellipsis; \" colspan=\"1\"><div style=\"text-align: left;border-bottom: solid 2px #000; padding-bottom: 5px\">observed_homs</div></td><td style=\"white-space: nowrap; max-width: 500px; overflow: hidden; text-overflow: ellipsis; \" colspan=\"1\"><div style=\"text-align: left;border-bottom: solid 2px #000; padding-bottom: 5px\">sex</div></td><td style=\"white-space: nowrap; max-width: 500px; overflow: hidden; text-overflow: ellipsis; \" colspan=\"1\"><div style=\"text-align: left;border-bottom: solid 2px #000; padding-bottom: 5px\">gender</div></td></tr><tr><td style=\"white-space: nowrap; max-width: 500px; overflow: hidden; text-overflow: ellipsis; text-align: left;\">str</td><td style=\"white-space: nowrap; max-width: 500px; overflow: hidden; text-overflow: ellipsis; text-align: left;\">bool</td><td style=\"white-space: nowrap; max-width: 500px; overflow: hidden; text-overflow: ellipsis; text-align: left;\">float64</td><td style=\"white-space: nowrap; max-width: 500px; overflow: hidden; text-overflow: ellipsis; text-align: left;\">int64</td><td style=\"white-space: nowrap; max-width: 500px; overflow: hidden; text-overflow: ellipsis; text-align: left;\">float64</td><td style=\"white-space: nowrap; max-width: 500px; overflow: hidden; text-overflow: ellipsis; text-align: left;\">int64</td><td style=\"white-space: nowrap; max-width: 500px; overflow: hidden; text-overflow: ellipsis; text-align: left;\">str</td><td style=\"white-space: nowrap; max-width: 500px; overflow: hidden; text-overflow: ellipsis; text-align: left;\">str</td></tr>\n",
       "</thead><tbody><tr><td style=\"white-space: nowrap; max-width: 500px; overflow: hidden; text-overflow: ellipsis; \">&quot;FN000187&quot;</td><td style=\"white-space: nowrap; max-width: 500px; overflow: hidden; text-overflow: ellipsis; \">true</td><td style=\"white-space: nowrap; max-width: 500px; overflow: hidden; text-overflow: ellipsis; \">-8.52e-02</td><td style=\"white-space: nowrap; max-width: 500px; overflow: hidden; text-overflow: ellipsis; \">1185</td><td style=\"white-space: nowrap; max-width: 500px; overflow: hidden; text-overflow: ellipsis; \">1.01e+03</td><td style=\"white-space: nowrap; max-width: 500px; overflow: hidden; text-overflow: ellipsis; \">992</td><td style=\"white-space: nowrap; max-width: 500px; overflow: hidden; text-overflow: ellipsis; \">&quot;f&quot;</td><td style=\"white-space: nowrap; max-width: 500px; overflow: hidden; text-overflow: ellipsis; \">&quot;m&quot;</td></tr>\n",
       "<tr><td style=\"white-space: nowrap; max-width: 500px; overflow: hidden; text-overflow: ellipsis; \">&quot;FN000861&quot;</td><td style=\"white-space: nowrap; max-width: 500px; overflow: hidden; text-overflow: ellipsis; \">true</td><td style=\"white-space: nowrap; max-width: 500px; overflow: hidden; text-overflow: ellipsis; \">-1.80e-01</td><td style=\"white-space: nowrap; max-width: 500px; overflow: hidden; text-overflow: ellipsis; \">1284</td><td style=\"white-space: nowrap; max-width: 500px; overflow: hidden; text-overflow: ellipsis; \">1.08e+03</td><td style=\"white-space: nowrap; max-width: 500px; overflow: hidden; text-overflow: ellipsis; \">1046</td><td style=\"white-space: nowrap; max-width: 500px; overflow: hidden; text-overflow: ellipsis; \">&quot;f&quot;</td><td style=\"white-space: nowrap; max-width: 500px; overflow: hidden; text-overflow: ellipsis; \">&quot;m&quot;</td></tr>\n",
       "<tr><td style=\"white-space: nowrap; max-width: 500px; overflow: hidden; text-overflow: ellipsis; \">&quot;FN000871&quot;</td><td style=\"white-space: nowrap; max-width: 500px; overflow: hidden; text-overflow: ellipsis; \">true</td><td style=\"white-space: nowrap; max-width: 500px; overflow: hidden; text-overflow: ellipsis; \">-8.36e-02</td><td style=\"white-space: nowrap; max-width: 500px; overflow: hidden; text-overflow: ellipsis; \">1282</td><td style=\"white-space: nowrap; max-width: 500px; overflow: hidden; text-overflow: ellipsis; \">1.08e+03</td><td style=\"white-space: nowrap; max-width: 500px; overflow: hidden; text-overflow: ellipsis; \">1062</td><td style=\"white-space: nowrap; max-width: 500px; overflow: hidden; text-overflow: ellipsis; \">&quot;f&quot;</td><td style=\"white-space: nowrap; max-width: 500px; overflow: hidden; text-overflow: ellipsis; \">&quot;m&quot;</td></tr>\n",
       "<tr><td style=\"white-space: nowrap; max-width: 500px; overflow: hidden; text-overflow: ellipsis; \">&quot;FN000884&quot;</td><td style=\"white-space: nowrap; max-width: 500px; overflow: hidden; text-overflow: ellipsis; \">false</td><td style=\"white-space: nowrap; max-width: 500px; overflow: hidden; text-overflow: ellipsis; \">8.70e-01</td><td style=\"white-space: nowrap; max-width: 500px; overflow: hidden; text-overflow: ellipsis; \">982</td><td style=\"white-space: nowrap; max-width: 500px; overflow: hidden; text-overflow: ellipsis; \">8.59e+02</td><td style=\"white-space: nowrap; max-width: 500px; overflow: hidden; text-overflow: ellipsis; \">966</td><td style=\"white-space: nowrap; max-width: 500px; overflow: hidden; text-overflow: ellipsis; \">&quot;m&quot;</td><td style=\"white-space: nowrap; max-width: 500px; overflow: hidden; text-overflow: ellipsis; \">&quot;f&quot;</td></tr>\n",
       "<tr><td style=\"white-space: nowrap; max-width: 500px; overflow: hidden; text-overflow: ellipsis; \">&quot;FN000902&quot;</td><td style=\"white-space: nowrap; max-width: 500px; overflow: hidden; text-overflow: ellipsis; \">false</td><td style=\"white-space: nowrap; max-width: 500px; overflow: hidden; text-overflow: ellipsis; \">8.82e-01</td><td style=\"white-space: nowrap; max-width: 500px; overflow: hidden; text-overflow: ellipsis; \">716</td><td style=\"white-space: nowrap; max-width: 500px; overflow: hidden; text-overflow: ellipsis; \">6.48e+02</td><td style=\"white-space: nowrap; max-width: 500px; overflow: hidden; text-overflow: ellipsis; \">708</td><td style=\"white-space: nowrap; max-width: 500px; overflow: hidden; text-overflow: ellipsis; \">&quot;m&quot;</td><td style=\"white-space: nowrap; max-width: 500px; overflow: hidden; text-overflow: ellipsis; \">&quot;f&quot;</td></tr>\n",
       "<tr><td style=\"white-space: nowrap; max-width: 500px; overflow: hidden; text-overflow: ellipsis; \">&quot;FN000957&quot;</td><td style=\"white-space: nowrap; max-width: 500px; overflow: hidden; text-overflow: ellipsis; \">false</td><td style=\"white-space: nowrap; max-width: 500px; overflow: hidden; text-overflow: ellipsis; \">8.75e-01</td><td style=\"white-space: nowrap; max-width: 500px; overflow: hidden; text-overflow: ellipsis; \">920</td><td style=\"white-space: nowrap; max-width: 500px; overflow: hidden; text-overflow: ellipsis; \">8.08e+02</td><td style=\"white-space: nowrap; max-width: 500px; overflow: hidden; text-overflow: ellipsis; \">906</td><td style=\"white-space: nowrap; max-width: 500px; overflow: hidden; text-overflow: ellipsis; \">&quot;m&quot;</td><td style=\"white-space: nowrap; max-width: 500px; overflow: hidden; text-overflow: ellipsis; \">&quot;f&quot;</td></tr>\n",
       "<tr><td style=\"white-space: nowrap; max-width: 500px; overflow: hidden; text-overflow: ellipsis; \">&quot;FN001127&quot;</td><td style=\"white-space: nowrap; max-width: 500px; overflow: hidden; text-overflow: ellipsis; \">false</td><td style=\"white-space: nowrap; max-width: 500px; overflow: hidden; text-overflow: ellipsis; \">9.22e-01</td><td style=\"white-space: nowrap; max-width: 500px; overflow: hidden; text-overflow: ellipsis; \">997</td><td style=\"white-space: nowrap; max-width: 500px; overflow: hidden; text-overflow: ellipsis; \">8.68e+02</td><td style=\"white-space: nowrap; max-width: 500px; overflow: hidden; text-overflow: ellipsis; \">987</td><td style=\"white-space: nowrap; max-width: 500px; overflow: hidden; text-overflow: ellipsis; \">&quot;m&quot;</td><td style=\"white-space: nowrap; max-width: 500px; overflow: hidden; text-overflow: ellipsis; \">&quot;f&quot;</td></tr>\n",
       "</tbody></table>"
      ],
      "text/plain": [
       "+------------+-----------+-----------+----------+---------------+\n",
       "| s          | is_female |    f_stat | n_called | expected_homs |\n",
       "+------------+-----------+-----------+----------+---------------+\n",
       "| str        |      bool |   float64 |    int64 |       float64 |\n",
       "+------------+-----------+-----------+----------+---------------+\n",
       "| \"FN000187\" |      true | -8.52e-02 |     1185 |      1.01e+03 |\n",
       "| \"FN000861\" |      true | -1.80e-01 |     1284 |      1.08e+03 |\n",
       "| \"FN000871\" |      true | -8.36e-02 |     1282 |      1.08e+03 |\n",
       "| \"FN000884\" |     false |  8.70e-01 |      982 |      8.59e+02 |\n",
       "| \"FN000902\" |     false |  8.82e-01 |      716 |      6.48e+02 |\n",
       "| \"FN000957\" |     false |  8.75e-01 |      920 |      8.08e+02 |\n",
       "| \"FN001127\" |     false |  9.22e-01 |      997 |      8.68e+02 |\n",
       "+------------+-----------+-----------+----------+---------------+\n",
       "\n",
       "+---------------+-----+--------+\n",
       "| observed_homs | sex | gender |\n",
       "+---------------+-----+--------+\n",
       "|         int64 | str | str    |\n",
       "+---------------+-----+--------+\n",
       "|           992 | \"f\" | \"m\"    |\n",
       "|          1046 | \"f\" | \"m\"    |\n",
       "|          1062 | \"f\" | \"m\"    |\n",
       "|           966 | \"m\" | \"f\"    |\n",
       "|           708 | \"m\" | \"f\"    |\n",
       "|           906 | \"m\" | \"f\"    |\n",
       "|           987 | \"m\" | \"f\"    |\n",
       "+---------------+-----+--------+"
      ]
     },
     "metadata": {},
     "output_type": "display_data"
    }
   ],
   "source": [
    "imputed_sex_ht.filter(imputed_sex_ht.sex != imputed_sex_ht.gender).show()"
   ]
  },
  {
   "cell_type": "markdown",
   "metadata": {},
   "source": [
    "We will investigate whether poor data quality can explain the disconcordancy. If anything seems to be abnormal with these samples, we may distrust the data."
   ]
  },
  {
   "cell_type": "code",
   "execution_count": 14,
   "metadata": {},
   "outputs": [],
   "source": [
    "# Annotate the table with a boolean sex mismatch variable.\n",
    "imputed_sex_ht = imputed_sex_ht.annotate(sex_mismatch = imputed_sex_ht.sex != imputed_sex_ht.gender)\n",
    "\n",
    "# Annotate the matrix table with the same information.\n",
    "mt = mt.annotate_cols(sex_mismatch = imputed_sex_ht[mt.s].sex_mismatch)"
   ]
  },
  {
   "cell_type": "markdown",
   "metadata": {},
   "source": [
    "The plot below shows the per samples DP mean and against different other QC variables. The samples with disconcordant sex are highlighted in blue.\n",
    "\n",
    "We must note that it seems that GQ seems to be correlated with number of heterozygotes. Samples with low genotype quality seem to have fewer heterozygotes. This does make some intuitivt sense. If a sample has low depth it will have fewer called variants, therefore more homozygote reference and therefore fewer heterozygotes. This same pattern is reflected in the call rate and number of singletons."
   ]
  },
  {
   "cell_type": "code",
   "execution_count": 15,
   "metadata": {},
   "outputs": [
    {
     "name": "stderr",
     "output_type": "stream",
     "text": [
      "2021-10-11 10:32:45 Hail: INFO: Coerced sorted dataset\n",
      "2021-10-11 10:32:45 Hail: INFO: Coerced sorted dataset\n",
      "2021-10-11 10:32:47 Hail: INFO: Coerced sorted dataset\n",
      "2021-10-11 10:32:47 Hail: INFO: Coerced sorted dataset\n",
      "2021-10-11 10:32:48 Hail: INFO: Coerced sorted dataset\n",
      "2021-10-11 10:32:48 Hail: INFO: Coerced sorted dataset\n",
      "2021-10-11 10:32:49 Hail: INFO: Coerced sorted dataset\n",
      "2021-10-11 10:32:49 Hail: INFO: Coerced sorted dataset\n"
     ]
    }
   ],
   "source": [
    "exprs_list = [('# heterozygotes', mt.sample_qc.n_het), ('Ti/Tv rate', mt.sample_qc.r_ti_tv), ('Call rate', mt.sample_qc.call_rate), ('# singletons', mt.sample_qc.n_singleton)]\n",
    "plot_list = []\n",
    "for name, exprs in exprs_list:\n",
    "    p = hl.plot.scatter(mt.sample_qc.dp_stats.mean, exprs, label=mt.sex_mismatch, title=name, xlabel='DP mean', ylabel=name)\n",
    "    p.plot_width = 800\n",
    "    p.plot_height = 500\n",
    "    plot_list.append(p)"
   ]
  },
  {
   "cell_type": "code",
   "execution_count": 16,
   "metadata": {},
   "outputs": [
    {
     "data": {
      "text/html": [
       "\n",
       "\n",
       "\n",
       "\n",
       "\n",
       "\n",
       "  <div class=\"bk-root\" id=\"d7ee33ab-f65e-4bee-a775-0a2077a2cb8c\" data-root-id=\"1360\"></div>\n"
      ]
     },
     "metadata": {},
     "output_type": "display_data"
    },
    {
     "data": {
      "application/javascript": [
       "(function(root) {\n",
       "  function embed_document(root) {\n",
       "    \n",
       "  var docs_json = {\"84e39b45-86c1-44ec-984a-d4cc7cbcba98\":{\"roots\":{\"references\":[{\"attributes\":{\"children\":[{\"id\":\"1359\",\"type\":\"ToolbarBox\"},{\"id\":\"1357\",\"type\":\"GridBox\"}]},\"id\":\"1360\",\"type\":\"Column\"},{\"attributes\":{\"overlay\":{\"id\":\"1322\",\"type\":\"BoxAnnotation\"}},\"id\":\"1120\",\"type\":\"BoxZoomTool\"},{\"attributes\":{\"callback\":null,\"data\":{\"index\":[0,1,2,3,4,5,6,7,8,9,10,11,12,13,14,15,16,17,18,19,20,21,22,23,24,25,26,27,28,29,30,31,32,33,34,35,36,37,38,39,40,41,42,43,44,45,46,47,48,49,50,51,52,53,54,55,56,57,58,59,60,61,62,63,64,65,66,67,68,69,70,71,72,73,74,75,76,77,78,79,80,81,82,83,84,85,86,87,88,89,90,91,92,93,94,95,96,97,98,99,100,101,102,103,104,105,106,107,108,109,110,111,112,113,114,115,116,117,118,119,120,121,122,123,124,125,126,127,128,129,130,131,132,133,134,135,136,137,138,139,140,141,142,143,144,145,146,147,148,149,150,151,152,153,154,155,156,157,158,159,160,161,162,163,164,165,166,167,168,169,170,171,172,173,174,175,176,177,178,179,180,181,182,183,184,185,186,187,188,189,190,191,192,193,194,195,196,197,198,199,200,201,202,203,204,205,206,207,208,209,210,211,212,213,214,215,216,217,218,219,220,221,222,223,224,225,226,227,228,229,230,231,232,233,234,235,236,237,238,239,240,241,242,243,244,245,246,247,248,249,250,251,252,253,254,255,256,257,258,259,260,261,262,263,264,265,266,267,268,269,270,271,272,273,274,275,276,277,278,279,280,281,282,283,284,285,286,287,288,289,290,291,292,293,294,295,296,297,298,299,300,301,302,303,304,305,306,307,308,309,310,311,312,313,314,315,316,317,318,319,320,321,322,323,324,325,326,327,328,329,330,331,332,333,334,335,336,337,338,339,340,341,342,343,344,345,346,347,348,349,350,351,352,353,354,355,356,357,358,359,360,361,362,363,364,365,366,367,368,369,370,371,372,373,374,375,376,377,378,379,380,381,382,383,384,385,386,387,388,389,390,391,392,393,394,395,396,397,398,399,400,401,402,403,404,405,406,407,408,409,410,411,412,413,414,415,416,417],\"label\":[\"false\",\"false\",\"false\",\"false\",\"false\",\"false\",\"false\",\"false\",\"false\",\"false\",\"false\",\"false\",\"false\",\"false\",\"false\",\"false\",\"false\",\"false\",\"false\",\"false\",\"false\",\"false\",\"true\",\"false\",\"false\",\"false\",\"false\",\"false\",\"false\",\"false\",\"false\",\"false\",\"false\",\"false\",\"false\",\"false\",\"false\",\"false\",\"false\",\"false\",\"false\",\"false\",\"false\",\"false\",\"false\",\"false\",\"false\",\"false\",\"false\",\"false\",\"false\",\"false\",\"false\",\"false\",\"false\",\"false\",\"false\",\"false\",\"false\",\"false\",\"false\",\"false\",\"false\",\"false\",\"false\",\"false\",\"false\",\"true\",\"false\",\"false\",\"false\",\"false\",\"false\",\"false\",\"false\",\"false\",\"false\",\"false\",\"false\",\"false\",\"false\",\"false\",\"false\",\"false\",\"false\",\"false\",\"false\",\"false\",\"false\",\"false\",\"false\",\"false\",\"false\",\"false\",\"false\",\"false\",\"false\",\"false\",\"false\",\"false\",\"false\",\"false\",\"false\",\"false\",\"false\",\"false\",\"false\",\"false\",\"false\",\"false\",\"false\",\"false\",\"false\",\"false\",\"false\",\"false\",\"false\",\"false\",\"false\",\"false\",\"false\",\"false\",\"false\",\"false\",\"false\",\"false\",\"false\",\"false\",\"false\",\"false\",\"false\",\"false\",\"false\",\"false\",\"false\",\"false\",\"false\",\"false\",\"false\",\"false\",\"false\",\"false\",\"false\",\"false\",\"false\",\"false\",\"false\",\"false\",\"false\",\"false\",\"false\",\"false\",\"false\",\"false\",\"false\",\"false\",\"false\",\"false\",\"false\",\"false\",\"false\",\"false\",\"false\",\"true\",\"false\",\"false\",\"false\",\"false\",\"false\",\"false\",\"false\",\"false\",\"false\",\"false\",\"false\",\"false\",\"false\",\"false\",\"false\",\"false\",\"false\",\"false\",\"false\",\"false\",\"false\",\"false\",\"false\",\"false\",\"false\",\"false\",\"false\",\"false\",\"false\",\"false\",\"false\",\"false\",\"false\",\"false\",\"false\",\"false\",\"false\",\"false\",\"false\",\"false\",\"false\",\"false\",\"false\",\"false\",\"false\",\"false\",\"false\",\"false\",\"false\",\"false\",\"false\",\"false\",\"false\",\"false\",\"false\",\"false\",\"false\",\"false\",\"false\",\"false\",\"false\",\"false\",\"false\",\"false\",\"false\",\"false\",\"false\",\"false\",\"false\",\"false\",\"false\",\"false\",\"false\",\"false\",\"false\",\"false\",\"false\",\"false\",\"false\",\"false\",\"false\",\"false\",\"false\",\"false\",\"false\",\"false\",\"false\",\"false\",\"false\",\"false\",\"false\",\"false\",\"false\",\"false\",\"false\",\"false\",\"false\",\"false\",\"false\",\"false\",\"false\",\"false\",\"false\",\"false\",\"false\",\"false\",\"false\",\"false\",\"false\",\"false\",\"false\",\"false\",\"false\",\"false\",\"false\",\"false\",\"false\",\"false\",\"false\",\"false\",\"false\",\"false\",\"false\",\"false\",\"false\",\"false\",\"false\",\"false\",\"false\",\"false\",\"false\",\"false\",\"false\",\"false\",\"false\",\"false\",\"false\",\"false\",\"false\",\"false\",\"false\",\"false\",\"false\",\"false\",\"false\",\"false\",\"false\",\"false\",\"false\",\"false\",\"false\",\"false\",\"false\",\"false\",\"false\",\"false\",\"false\",\"false\",\"false\",\"false\",\"false\",\"false\",\"false\",\"false\",\"false\",\"false\",\"false\",\"false\",\"false\",\"false\",\"false\",\"false\",\"false\",\"false\",\"false\",\"false\",\"false\",\"false\",\"false\",\"false\",\"false\",\"false\",\"false\",\"true\",\"false\",\"false\",\"false\",\"false\",\"false\",\"false\",\"false\",\"false\",\"false\",\"false\",\"false\",\"false\",\"false\",\"false\",\"false\",\"false\",\"false\",\"false\",\"false\",\"false\",\"false\",\"false\",\"false\",\"false\",\"false\",\"false\",\"false\",\"false\",\"false\",\"false\",\"false\",\"false\",\"false\",\"false\",\"false\",\"false\",\"false\",\"false\",\"false\",\"false\",\"false\",\"false\",\"false\",\"false\",\"false\",\"false\",\"false\",\"false\",\"false\",\"false\",\"false\",\"false\",\"false\",\"false\",\"false\",\"false\",\"false\",\"false\",\"false\",\"false\",\"false\",\"false\",\"false\",\"false\",\"false\",\"false\",\"false\",\"false\",\"false\",\"false\"],\"x\":{\"__ndarray__\":\"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\",\"dtype\":\"float64\",\"shape\":[418]},\"y\":{\"__ndarray__\":\"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\",\"dtype\":\"float64\",\"shape\":[418]}},\"selected\":{\"id\":\"1332\",\"type\":\"Selection\"},\"selection_policy\":{\"id\":\"1331\",\"type\":\"UnionRenderers\"}},\"id\":\"1187\",\"type\":\"ColumnDataSource\"},{\"attributes\":{},\"id\":\"1281\",\"type\":\"WheelZoomTool\"},{\"attributes\":{\"fill_alpha\":{\"value\":0.1},\"fill_color\":{\"value\":\"#1f77b4\"},\"line_alpha\":{\"value\":0.1},\"line_color\":{\"value\":\"#1f77b4\"},\"x\":{\"field\":\"x\"},\"y\":{\"field\":\"y\"}},\"id\":\"1139\",\"type\":\"Circle\"},{\"attributes\":{},\"id\":\"1321\",\"type\":\"Selection\"},{\"attributes\":{\"column_name\":\"label\",\"group\":\"true\"},\"id\":\"1303\",\"type\":\"GroupFilter\"},{\"attributes\":{},\"id\":\"1177\",\"type\":\"HelpTool\"},{\"attributes\":{},\"id\":\"1315\",\"type\":\"BasicTickFormatter\"},{\"attributes\":{},\"id\":\"1121\",\"type\":\"SaveTool\"},{\"attributes\":{},\"id\":\"1123\",\"type\":\"HelpTool\"},{\"attributes\":{},\"id\":\"1109\",\"type\":\"BasicTicker\"},{\"attributes\":{\"axis_label\":\"# heterozygotes\",\"formatter\":{\"id\":\"1315\",\"type\":\"BasicTickFormatter\"},\"ticker\":{\"id\":\"1114\",\"type\":\"BasicTicker\"}},\"id\":\"1113\",\"type\":\"LinearAxis\"},{\"attributes\":{},\"id\":\"1326\",\"type\":\"BasicTickFormatter\"},{\"attributes\":{\"factors\":[\"false\",\"true\"],\"palette\":[\"#1f77b4\",\"#ff7f0e\",\"#2ca02c\",\"#d62728\",\"#9467bd\",\"#8c564b\",\"#e377c2\",\"#7f7f7f\",\"#bcbd22\",\"#17becf\"]},\"id\":\"1242\",\"type\":\"CategoricalColorMapper\"},{\"attributes\":{},\"id\":\"1283\",\"type\":\"SaveTool\"},{\"attributes\":{\"ticker\":{\"id\":\"1109\",\"type\":\"BasicTicker\"}},\"id\":\"1112\",\"type\":\"Grid\"},{\"attributes\":{},\"id\":\"1122\",\"type\":\"ResetTool\"},{\"attributes\":{\"dimension\":1,\"ticker\":{\"id\":\"1114\",\"type\":\"BasicTicker\"}},\"id\":\"1117\",\"type\":\"Grid\"},{\"attributes\":{\"fill_color\":{\"field\":\"label\",\"transform\":{\"id\":\"1296\",\"type\":\"CategoricalColorMapper\"}},\"line_color\":{\"field\":\"label\",\"transform\":{\"id\":\"1296\",\"type\":\"CategoricalColorMapper\"}},\"x\":{\"field\":\"x\"},\"y\":{\"field\":\"y\"}},\"id\":\"1306\",\"type\":\"Circle\"},{\"attributes\":{\"filters\":[{\"id\":\"1195\",\"type\":\"GroupFilter\"}],\"source\":{\"id\":\"1187\",\"type\":\"ColumnDataSource\"}},\"id\":\"1196\",\"type\":\"CDSView\"},{\"attributes\":{\"text\":\"Call rate\"},\"id\":\"1206\",\"type\":\"Title\"},{\"attributes\":{\"active_drag\":\"auto\",\"active_inspect\":\"auto\",\"active_multi\":null,\"active_scroll\":\"auto\",\"active_tap\":\"auto\",\"tools\":[{\"id\":\"1280\",\"type\":\"PanTool\"},{\"id\":\"1281\",\"type\":\"WheelZoomTool\"},{\"id\":\"1282\",\"type\":\"BoxZoomTool\"},{\"id\":\"1283\",\"type\":\"SaveTool\"},{\"id\":\"1284\",\"type\":\"ResetTool\"},{\"id\":\"1285\",\"type\":\"HelpTool\"},{\"id\":\"1294\",\"type\":\"HoverTool\"}]},\"id\":\"1286\",\"type\":\"Toolbar\"},{\"attributes\":{\"filters\":[{\"id\":\"1243\",\"type\":\"GroupFilter\"}],\"source\":{\"id\":\"1241\",\"type\":\"ColumnDataSource\"}},\"id\":\"1244\",\"type\":\"CDSView\"},{\"attributes\":{\"data_source\":{\"id\":\"1295\",\"type\":\"ColumnDataSource\"},\"glyph\":{\"id\":\"1306\",\"type\":\"Circle\"},\"hover_glyph\":null,\"muted_glyph\":null,\"nonselection_glyph\":{\"id\":\"1307\",\"type\":\"Circle\"},\"selection_glyph\":null,\"view\":{\"id\":\"1304\",\"type\":\"CDSView\"}},\"id\":\"1308\",\"type\":\"GlyphRenderer\"},{\"attributes\":{\"fill_color\":{\"field\":\"label\",\"transform\":{\"id\":\"1134\",\"type\":\"CategoricalColorMapper\"}},\"line_color\":{\"field\":\"label\",\"transform\":{\"id\":\"1134\",\"type\":\"CategoricalColorMapper\"}},\"x\":{\"field\":\"x\"},\"y\":{\"field\":\"y\"}},\"id\":\"1138\",\"type\":\"Circle\"},{\"attributes\":{},\"id\":\"1316\",\"type\":\"BasicTicker\"},{\"attributes\":{\"fill_color\":{\"field\":\"label\",\"transform\":{\"id\":\"1188\",\"type\":\"CategoricalColorMapper\"}},\"line_color\":{\"field\":\"label\",\"transform\":{\"id\":\"1188\",\"type\":\"CategoricalColorMapper\"}},\"x\":{\"field\":\"x\"},\"y\":{\"field\":\"y\"}},\"id\":\"1192\",\"type\":\"Circle\"},{\"attributes\":{\"active_drag\":\"auto\",\"active_inspect\":\"auto\",\"active_multi\":null,\"active_scroll\":\"auto\",\"active_tap\":\"auto\",\"tools\":[{\"id\":\"1172\",\"type\":\"PanTool\"},{\"id\":\"1173\",\"type\":\"WheelZoomTool\"},{\"id\":\"1174\",\"type\":\"BoxZoomTool\"},{\"id\":\"1175\",\"type\":\"SaveTool\"},{\"id\":\"1176\",\"type\":\"ResetTool\"},{\"id\":\"1177\",\"type\":\"HelpTool\"},{\"id\":\"1186\",\"type\":\"HoverTool\"}]},\"id\":\"1178\",\"type\":\"Toolbar\"},{\"attributes\":{\"filters\":[{\"id\":\"1135\",\"type\":\"GroupFilter\"}],\"source\":{\"id\":\"1133\",\"type\":\"ColumnDataSource\"}},\"id\":\"1136\",\"type\":\"CDSView\"},{\"attributes\":{},\"id\":\"1317\",\"type\":\"BasicTickFormatter\"},{\"attributes\":{\"fill_alpha\":{\"value\":0.1},\"fill_color\":{\"value\":\"#1f77b4\"},\"line_alpha\":{\"value\":0.1},\"line_color\":{\"value\":\"#1f77b4\"},\"x\":{\"field\":\"x\"},\"y\":{\"field\":\"y\"}},\"id\":\"1247\",\"type\":\"Circle\"},{\"attributes\":{},\"id\":\"1284\",\"type\":\"ResetTool\"},{\"attributes\":{\"callback\":null,\"data\":{\"index\":[0,1,2,3,4,5,6,7,8,9,10,11,12,13,14,15,16,17,18,19,20,21,22,23,24,25,26,27,28,29,30,31,32,33,34,35,36,37,38,39,40,41,42,43,44,45,46,47,48,49,50,51,52,53,54,55,56,57,58,59,60,61,62,63,64,65,66,67,68,69,70,71,72,73,74,75,76,77,78,79,80,81,82,83,84,85,86,87,88,89,90,91,92,93,94,95,96,97,98,99,100,101,102,103,104,105,106,107,108,109,110,111,112,113,114,115,116,117,118,119,120,121,122,123,124,125,126,127,128,129,130,131,132,133,134,135,136,137,138,139,140,141,142,143,144,145,146,147,148,149,150,151,152,153,154,155,156,157,158,159,160,161,162,163,164,165,166,167,168,169,170,171,172,173,174,175,176,177,178,179,180,181,182,183,184,185,186,187,188,189,190,191,192,193,194,195,196,197,198,199,200,201,202,203],\"label\":[\"false\",\"false\",\"false\",\"false\",\"false\",\"false\",\"false\",\"false\",\"false\",\"false\",\"false\",\"false\",\"false\",\"false\",\"false\",\"false\",\"false\",\"false\",\"false\",\"true\",\"false\",\"false\",\"false\",\"false\",\"false\",\"false\",\"false\",\"false\",\"false\",\"false\",\"false\",\"false\",\"false\",\"false\",\"false\",\"false\",\"false\",\"false\",\"false\",\"false\",\"false\",\"false\",\"true\",\"false\",\"false\",\"false\",\"false\",\"false\",\"false\",\"false\",\"false\",\"false\",\"false\",\"false\",\"false\",\"false\",\"false\",\"false\",\"false\",\"false\",\"false\",\"false\",\"false\",\"false\",\"false\",\"false\",\"false\",\"false\",\"false\",\"false\",\"false\",\"false\",\"false\",\"false\",\"false\",\"false\",\"false\",\"false\",\"false\",\"false\",\"false\",\"false\",\"false\",\"false\",\"false\",\"false\",\"false\",\"false\",\"false\",\"false\",\"false\",\"false\",\"false\",\"false\",\"false\",\"false\",\"false\",\"false\",\"false\",\"false\",\"false\",\"false\",\"false\",\"false\",\"false\",\"false\",\"false\",\"false\",\"false\",\"false\",\"false\",\"false\",\"false\",\"false\",\"false\",\"false\",\"false\",\"false\",\"false\",\"false\",\"false\",\"false\",\"false\",\"false\",\"false\",\"false\",\"false\",\"false\",\"false\",\"false\",\"false\",\"false\",\"false\",\"false\",\"false\",\"false\",\"false\",\"false\",\"false\",\"false\",\"false\",\"false\",\"false\",\"false\",\"false\",\"false\",\"false\",\"false\",\"false\",\"false\",\"false\",\"false\",\"false\",\"false\",\"false\",\"false\",\"false\",\"false\",\"false\",\"false\",\"false\",\"false\",\"false\",\"false\",\"false\",\"false\",\"false\",\"false\",\"false\",\"false\",\"false\",\"false\",\"false\",\"false\",\"false\",\"false\",\"false\",\"false\",\"false\",\"false\",\"false\",\"false\",\"false\",\"false\",\"false\",\"false\",\"false\",\"false\",\"false\",\"false\",\"false\",\"false\",\"false\",\"false\",\"false\",\"false\",\"false\",\"false\",\"false\",\"false\",\"false\",\"false\",\"false\",\"false\"],\"x\":{\"__ndarray__\":\"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\",\"dtype\":\"float64\",\"shape\":[204]},\"y\":{\"__ndarray__\":\"AAAAAAAAAAAAAAAAAADwPwAAAAAAAAAAAAAAAAAAAAAAAAAAAAAAAAAAAAAAAAAAAAAAAAAAAAAAAAAAAAAAAAAAAAAAAAAAAAAAAAAAAAAAAAAAAADwPwAAAAAAAAAAAAAAAAAAAAAAAAAAAADwPwAAAAAAAAAAAAAAAAAA8D8AAAAAAADwPwAAAAAAAPA/AAAAAAAAAAAAAAAAAAAAAAAAAAAAAAAAAAAAAAAAAAAAAAAAAAAAAAAAAAAAAPA/AAAAAAAAAAAAAAAAAAAAAAAAAAAAAAAAAAAAAAAAAAAAAAAAAAAAAAAAAAAAAAAAAAAAAAAAAAAAAAAAAAAAAAAAAAAAAAAAAAAAAAAAAAAAAAAAAAAAAAAAAAAAAAAAAAAAAAAAAAAAAAAAAAAAAAAAAAAAAAAAAAAAAAAAAAAAAAAAAAAAAAAAAAAAAAAAAAAAAAAAAAAAAAAAAAAAAAAAAAAAAAAAAAAAAAAAAAAAAAAAAAAAAAAAAAAAAAAAAAAAAAAA8D8AAAAAAAAAAAAAAAAAAAAAAAAAAAAAAAAAAAAAAAAAAAAAAAAAAAAAAAAAAAAA8D8AAAAAAAAAAAAAAAAAAPA/AAAAAAAAAAAAAAAAAAAAAAAAAAAAAAAAAAAAAAAAAAAAAAAAAAAAAAAAAAAAAAAAAAAAAAAAAAAAAAAAAAAAAAAAAAAAAAAAAAAAAAAAAAAAAAAAAAAAAAAAAAAAAAAAAAAAAAAAAAAAAAAAAAAAAAAAAAAAAAAAAAAAAAAAAAAAAAAAAAAAAAAAAAAAAAAAAAAAAAAAAAAAAAAAAAAAAAAAAAAAAAAAAAAAAAAAAAAAAAAAAAAAAAAAAAAAAAAAAAAAAAAA8D8AAAAAAAAAAAAAAAAAAAAAAAAAAAAAAAAAAAAAAAAAAAAAAAAAAAAAAAAAAAAAAAAAAAAAAAAAAAAAAAAAAAAAAAAAAAAAAAAAAAAAAAAAAAAAAAAAAAAAAAAAAAAAAAAAAAAAAAAAAAAAAAAAAPA/AAAAAAAAAAAAAAAAAADwPwAAAAAAAAAAAAAAAAAAAAAAAAAAAAAAAAAAAAAAAAAAAAAAAAAAAAAAAAAAAAAAAAAAAAAAAAAAAAAAAAAAAAAAAAAAAAAAAAAAAAAAAAAAAAAAAAAA8D8AAAAAAAAAAAAAAAAAAPA/AAAAAAAAAAAAAAAAAAAAAAAAAAAAAAAAAAAAAAAAAAAAAAAAAAAAAAAAAAAAAAAAAAAAAAAAAAAAAAAAAAAAAAAAAAAAAPA/AAAAAAAAAAAAAAAAAAAAAAAAAAAAAPA/AAAAAAAAAAAAAAAAAAAAAAAAAAAAAAAAAAAAAAAAAAAAAAAAAADwPwAAAAAAAAAAAAAAAAAAAAAAAAAAAAAAAAAAAAAAAPA/AAAAAAAAAAAAAAAAAAAAAAAAAAAAAAAAAAAAAAAAAAAAAAAAAAAAAAAAAAAAAAAAAAAAAAAA8D8AAAAAAAAAAAAAAAAAAAAAAAAAAAAAAAAAAAAAAAAAAAAAAAAAAAAAAAAAAAAAAAAAAAAAAAAAAAAAAAAAAAAAAAAAAAAAAAAAAAAAAAAAAAAAAAAAAAAAAAAAAAAAAAAAAAAAAAAAAAAAAAAAAAAAAAAAAAAAAAAAAAAAAAAAAAAAAAAAAAAAAAAAAAAAAAAAAAAAAAAAAAAAAAAAAAAAAAAAAAAAAAAAAAAAAADwPwAAAAAAAAAAAAAAAAAAAAAAAAAAAAAAAAAAAAAAAAAAAAAAAAAAAAAAAAAAAADwPwAAAAAAAAAAAAAAAAAAAAAAAAAAAAAAAAAAAAAAAAAAAAAAAAAA8D8AAAAAAAAAAAAAAAAAAABAAAAAAAAAAAAAAAAAAAAAAAAAAAAAAAAAAAAAAAAAAAAAAAAAAAAAAAAAAAAAAAAAAAAAAAAAAAAAAAAAAAAAAAAAAAAAAAAAAAAAAAAAAAAAAAAAAAAAAAAAAAAAAAAAAAAAAAAAAAAAAAAAAAAAAAAAAAAAAAAAAAAAAAAAAAAAAAAAAAAAAAAAAAAAAAAAAAAAAAAA8D8AAAAAAAAAAAAAAAAAAAAAAAAAAAAAAAAAAAAAAAAAAAAAAAAAAAAAAAAAAAAAAAAAAAAAAAAAAAAAAAAAAAAAAAAAAAAAFEAAAAAAAAAAAAAAAAAAAPA/\",\"dtype\":\"float64\",\"shape\":[204]}},\"selected\":{\"id\":\"1354\",\"type\":\"Selection\"},\"selection_policy\":{\"id\":\"1353\",\"type\":\"UnionRenderers\"}},\"id\":\"1295\",\"type\":\"ColumnDataSource\"},{\"attributes\":{},\"id\":\"1118\",\"type\":\"PanTool\"},{\"attributes\":{\"data_source\":{\"id\":\"1133\",\"type\":\"ColumnDataSource\"},\"glyph\":{\"id\":\"1138\",\"type\":\"Circle\"},\"hover_glyph\":null,\"muted_glyph\":null,\"nonselection_glyph\":{\"id\":\"1139\",\"type\":\"Circle\"},\"selection_glyph\":null,\"view\":{\"id\":\"1136\",\"type\":\"CDSView\"}},\"id\":\"1140\",\"type\":\"GlyphRenderer\"},{\"attributes\":{},\"id\":\"1320\",\"type\":\"UnionRenderers\"},{\"attributes\":{\"callback\":null},\"id\":\"1262\",\"type\":\"DataRange1d\"},{\"attributes\":{\"filters\":[{\"id\":\"1141\",\"type\":\"GroupFilter\"}],\"source\":{\"id\":\"1133\",\"type\":\"ColumnDataSource\"}},\"id\":\"1142\",\"type\":\"CDSView\"},{\"attributes\":{\"fill_color\":{\"field\":\"label\",\"transform\":{\"id\":\"1296\",\"type\":\"CategoricalColorMapper\"}},\"line_color\":{\"field\":\"label\",\"transform\":{\"id\":\"1296\",\"type\":\"CategoricalColorMapper\"}},\"x\":{\"field\":\"x\"},\"y\":{\"field\":\"y\"}},\"id\":\"1300\",\"type\":\"Circle\"},{\"attributes\":{\"label\":{\"value\":\"true\"},\"renderers\":[{\"id\":\"1308\",\"type\":\"GlyphRenderer\"}]},\"id\":\"1310\",\"type\":\"LegendItem\"},{\"attributes\":{\"data_source\":{\"id\":\"1295\",\"type\":\"ColumnDataSource\"},\"glyph\":{\"id\":\"1300\",\"type\":\"Circle\"},\"hover_glyph\":null,\"muted_glyph\":null,\"nonselection_glyph\":{\"id\":\"1301\",\"type\":\"Circle\"},\"selection_glyph\":null,\"view\":{\"id\":\"1298\",\"type\":\"CDSView\"}},\"id\":\"1302\",\"type\":\"GlyphRenderer\"},{\"attributes\":{},\"id\":\"1114\",\"type\":\"BasicTicker\"},{\"attributes\":{\"filters\":[{\"id\":\"1297\",\"type\":\"GroupFilter\"}],\"source\":{\"id\":\"1295\",\"type\":\"ColumnDataSource\"}},\"id\":\"1298\",\"type\":\"CDSView\"},{\"attributes\":{\"fill_alpha\":{\"value\":0.1},\"fill_color\":{\"value\":\"#1f77b4\"},\"line_alpha\":{\"value\":0.1},\"line_color\":{\"value\":\"#1f77b4\"},\"x\":{\"field\":\"x\"},\"y\":{\"field\":\"y\"}},\"id\":\"1307\",\"type\":\"Circle\"},{\"attributes\":{\"callback\":null},\"id\":\"1208\",\"type\":\"DataRange1d\"},{\"attributes\":{\"fill_alpha\":{\"value\":0.1},\"fill_color\":{\"value\":\"#1f77b4\"},\"line_alpha\":{\"value\":0.1},\"line_color\":{\"value\":\"#1f77b4\"},\"x\":{\"field\":\"x\"},\"y\":{\"field\":\"y\"}},\"id\":\"1301\",\"type\":\"Circle\"},{\"attributes\":{},\"id\":\"1285\",\"type\":\"HelpTool\"},{\"attributes\":{},\"id\":\"1119\",\"type\":\"WheelZoomTool\"},{\"attributes\":{},\"id\":\"1350\",\"type\":\"BasicTickFormatter\"},{\"attributes\":{\"label\":{\"value\":\"false\"},\"renderers\":[{\"id\":\"1248\",\"type\":\"GlyphRenderer\"}]},\"id\":\"1255\",\"type\":\"LegendItem\"},{\"attributes\":{\"column_name\":\"label\",\"group\":\"true\"},\"id\":\"1141\",\"type\":\"GroupFilter\"},{\"attributes\":{\"factors\":[\"false\",\"true\"],\"palette\":[\"#1f77b4\",\"#ff7f0e\",\"#2ca02c\",\"#d62728\",\"#9467bd\",\"#8c564b\",\"#e377c2\",\"#7f7f7f\",\"#bcbd22\",\"#17becf\"]},\"id\":\"1188\",\"type\":\"CategoricalColorMapper\"},{\"attributes\":{\"overlay\":{\"id\":\"1355\",\"type\":\"BoxAnnotation\"}},\"id\":\"1282\",\"type\":\"BoxZoomTool\"},{\"attributes\":{\"callback\":null,\"data\":{\"index\":[0,1,2,3,4,5,6,7,8,9,10,11,12,13,14,15,16,17,18,19,20,21,22,23,24,25,26,27,28,29,30,31,32,33,34,35,36,37,38,39,40,41,42,43,44,45,46,47,48,49,50,51,52,53,54,55,56,57,58,59,60,61,62,63,64,65,66,67,68,69,70,71,72,73,74,75,76,77,78,79,80,81,82,83,84,85,86,87,88,89,90,91,92,93,94,95,96,97,98,99,100,101,102,103,104,105,106,107,108,109,110,111,112,113,114,115,116,117,118,119,120,121,122,123,124,125,126,127,128,129,130,131,132,133,134,135,136,137,138,139,140,141,142,143,144,145,146,147,148,149,150,151,152,153,154,155,156,157,158,159,160,161,162,163,164,165,166,167,168,169,170,171,172,173,174,175,176,177,178,179,180,181,182,183,184,185,186,187,188,189,190,191,192,193,194,195,196,197,198,199,200,201,202,203,204,205,206,207,208,209,210,211,212,213,214,215,216,217,218,219,220,221,222,223,224,225,226,227,228,229,230,231,232,233,234,235,236,237,238,239,240,241,242,243,244,245,246,247,248,249,250,251,252,253,254,255,256,257,258,259,260,261,262,263,264,265,266,267,268,269,270,271,272,273,274,275,276,277,278,279,280,281,282,283,284,285,286,287,288,289,290,291,292,293,294,295,296,297,298,299,300,301,302,303,304,305,306,307,308,309,310,311,312,313,314,315,316,317,318,319,320,321,322,323,324,325,326,327,328,329,330,331,332,333,334,335,336,337,338,339,340,341,342,343,344,345,346,347,348,349,350,351,352,353,354,355,356,357,358,359,360,361,362,363,364,365,366,367,368,369,370,371,372,373,374,375,376,377,378,379,380,381,382,383,384,385,386,387,388,389,390,391,392,393,394,395,396,397,398,399,400,401,402,403,404,405,406,407,408,409,410,411,412,413,414,415,416,417,418,419,420,421,422,423,424,425,426,427,428,429,430,431,432,433,434,435,436,437,438,439,440,441,442,443,444,445],\"label\":[\"false\",\"false\",\"false\",\"false\",\"false\",\"false\",\"false\",\"false\",\"false\",\"false\",\"false\",\"false\",\"false\",\"false\",\"false\",\"false\",\"false\",\"false\",\"false\",\"false\",\"false\",\"false\",\"true\",\"false\",\"false\",\"false\",\"false\",\"false\",\"false\",\"false\",\"false\",\"false\",\"false\",\"false\",\"false\",\"false\",\"false\",\"false\",\"false\",\"false\",\"false\",\"false\",\"false\",\"false\",\"false\",\"false\",\"false\",\"false\",\"false\",\"false\",\"false\",\"false\",\"false\",\"false\",\"false\",\"false\",\"false\",\"false\",\"false\",\"false\",\"false\",\"false\",\"false\",\"false\",\"false\",\"false\",\"false\",\"true\",\"false\",\"false\",\"false\",\"false\",\"false\",\"false\",\"false\",\"false\",\"false\",\"false\",\"false\",\"false\",\"false\",\"false\",\"false\",\"false\",\"false\",\"false\",\"false\",\"false\",\"false\",\"false\",\"false\",\"false\",\"false\",\"false\",\"false\",\"false\",\"false\",\"false\",\"false\",\"false\",\"false\",\"false\",\"false\",\"false\",\"false\",\"false\",\"false\",\"false\",\"false\",\"false\",\"false\",\"false\",\"false\",\"false\",\"false\",\"false\",\"false\",\"false\",\"false\",\"false\",\"false\",\"false\",\"false\",\"false\",\"false\",\"false\",\"false\",\"false\",\"false\",\"false\",\"false\",\"false\",\"false\",\"false\",\"false\",\"false\",\"false\",\"false\",\"false\",\"false\",\"false\",\"false\",\"false\",\"false\",\"false\",\"false\",\"false\",\"false\",\"false\",\"false\",\"false\",\"false\",\"false\",\"false\",\"false\",\"false\",\"false\",\"false\",\"false\",\"false\",\"false\",\"false\",\"false\",\"false\",\"false\",\"false\",\"false\",\"false\",\"true\",\"false\",\"false\",\"false\",\"false\",\"false\",\"false\",\"false\",\"false\",\"false\",\"false\",\"false\",\"false\",\"false\",\"false\",\"false\",\"true\",\"false\",\"false\",\"false\",\"false\",\"false\",\"false\",\"false\",\"true\",\"false\",\"false\",\"false\",\"false\",\"false\",\"false\",\"false\",\"false\",\"false\",\"false\",\"false\",\"false\",\"false\",\"false\",\"false\",\"false\",\"false\",\"false\",\"false\",\"false\",\"false\",\"false\",\"false\",\"false\",\"false\",\"false\",\"false\",\"false\",\"false\",\"false\",\"false\",\"false\",\"false\",\"false\",\"false\",\"false\",\"false\",\"false\",\"false\",\"false\",\"false\",\"false\",\"false\",\"false\",\"false\",\"false\",\"false\",\"false\",\"false\",\"false\",\"false\",\"false\",\"false\",\"false\",\"false\",\"false\",\"false\",\"false\",\"false\",\"false\",\"false\",\"false\",\"false\",\"false\",\"false\",\"false\",\"false\",\"false\",\"false\",\"false\",\"false\",\"false\",\"false\",\"false\",\"false\",\"false\",\"false\",\"false\",\"false\",\"false\",\"false\",\"false\",\"false\",\"false\",\"false\",\"false\",\"false\",\"false\",\"false\",\"false\",\"false\",\"false\",\"false\",\"false\",\"false\",\"false\",\"false\",\"false\",\"false\",\"false\",\"false\",\"false\",\"false\",\"false\",\"false\",\"false\",\"false\",\"false\",\"false\",\"false\",\"false\",\"false\",\"false\",\"false\",\"false\",\"false\",\"false\",\"false\",\"false\",\"false\",\"false\",\"false\",\"false\",\"false\",\"false\",\"false\",\"false\",\"false\",\"false\",\"false\",\"false\",\"false\",\"false\",\"false\",\"false\",\"false\",\"false\",\"false\",\"false\",\"false\",\"false\",\"false\",\"false\",\"false\",\"false\",\"false\",\"false\",\"false\",\"false\",\"false\",\"false\",\"false\",\"false\",\"false\",\"false\",\"false\",\"false\",\"false\",\"false\",\"false\",\"false\",\"false\",\"false\",\"false\",\"false\",\"false\",\"false\",\"false\",\"false\",\"false\",\"false\",\"false\",\"false\",\"false\",\"false\",\"false\",\"false\",\"false\",\"false\",\"false\",\"false\",\"false\",\"false\",\"false\",\"true\",\"false\",\"false\",\"false\",\"false\",\"false\",\"false\",\"false\",\"false\",\"false\",\"false\",\"false\",\"false\",\"false\",\"false\",\"false\",\"false\",\"false\",\"false\",\"false\",\"false\",\"false\",\"false\",\"false\",\"false\",\"false\",\"false\",\"false\",\"false\",\"false\",\"false\",\"false\",\"false\",\"false\",\"false\",\"false\",\"false\",\"false\",\"false\",\"false\",\"false\",\"false\",\"false\",\"false\",\"false\",\"false\",\"false\",\"false\",\"false\",\"false\",\"false\",\"false\",\"false\",\"false\",\"false\",\"false\",\"false\",\"false\",\"false\",\"false\",\"false\",\"false\",\"false\",\"false\",\"false\",\"false\",\"false\",\"false\",\"false\"],\"x\":{\"__ndarray__\":\"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\",\"dtype\":\"float64\",\"shape\":[446]},\"y\":{\"__ndarray__\":\"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\",\"dtype\":\"float64\",\"shape\":[446]}},\"selected\":{\"id\":\"1321\",\"type\":\"Selection\"},\"selection_policy\":{\"id\":\"1320\",\"type\":\"UnionRenderers\"}},\"id\":\"1133\",\"type\":\"ColumnDataSource\"},{\"attributes\":{\"label\":{\"value\":\"false\"},\"renderers\":[{\"id\":\"1302\",\"type\":\"GlyphRenderer\"}]},\"id\":\"1309\",\"type\":\"LegendItem\"},{\"attributes\":{\"column_name\":\"label\",\"group\":\"true\"},\"id\":\"1195\",\"type\":\"GroupFilter\"},{\"attributes\":{\"label\":{\"value\":\"false\"},\"renderers\":[{\"id\":\"1194\",\"type\":\"GlyphRenderer\"}]},\"id\":\"1201\",\"type\":\"LegendItem\"},{\"attributes\":{\"filters\":[{\"id\":\"1303\",\"type\":\"GroupFilter\"}],\"source\":{\"id\":\"1295\",\"type\":\"ColumnDataSource\"}},\"id\":\"1304\",\"type\":\"CDSView\"},{\"attributes\":{\"factors\":[\"false\",\"true\"],\"palette\":[\"#1f77b4\",\"#ff7f0e\",\"#2ca02c\",\"#d62728\",\"#9467bd\",\"#8c564b\",\"#e377c2\",\"#7f7f7f\",\"#bcbd22\",\"#17becf\"]},\"id\":\"1134\",\"type\":\"CategoricalColorMapper\"},{\"attributes\":{\"below\":[{\"id\":\"1216\",\"type\":\"LinearAxis\"}],\"center\":[{\"id\":\"1220\",\"type\":\"Grid\"},{\"id\":\"1225\",\"type\":\"Grid\"}],\"left\":[{\"id\":\"1221\",\"type\":\"LinearAxis\"},{\"id\":\"1257\",\"type\":\"Legend\"},{\"id\":\"1258\",\"type\":\"ColorBar\"}],\"plot_height\":400,\"plot_width\":600,\"renderers\":[{\"id\":\"1248\",\"type\":\"GlyphRenderer\"},{\"id\":\"1254\",\"type\":\"GlyphRenderer\"}],\"title\":{\"id\":\"1206\",\"type\":\"Title\"},\"toolbar\":{\"id\":\"1232\",\"type\":\"Toolbar\"},\"toolbar_location\":null,\"x_range\":{\"id\":\"1208\",\"type\":\"DataRange1d\"},\"x_scale\":{\"id\":\"1212\",\"type\":\"LinearScale\"},\"y_range\":{\"id\":\"1210\",\"type\":\"DataRange1d\"},\"y_scale\":{\"id\":\"1214\",\"type\":\"LinearScale\"}},\"id\":\"1205\",\"subtype\":\"Figure\",\"type\":\"Plot\"},{\"attributes\":{\"bottom_units\":\"screen\",\"fill_alpha\":{\"value\":0.5},\"fill_color\":{\"value\":\"lightgrey\"},\"left_units\":\"screen\",\"level\":\"overlay\",\"line_alpha\":{\"value\":1.0},\"line_color\":{\"value\":\"black\"},\"line_dash\":[4,4],\"line_width\":{\"value\":2},\"render_mode\":\"css\",\"right_units\":\"screen\",\"top_units\":\"screen\"},\"id\":\"1322\",\"type\":\"BoxAnnotation\"},{\"attributes\":{\"fill_color\":{\"field\":\"label\",\"transform\":{\"id\":\"1242\",\"type\":\"CategoricalColorMapper\"}},\"line_color\":{\"field\":\"label\",\"transform\":{\"id\":\"1242\",\"type\":\"CategoricalColorMapper\"}},\"x\":{\"field\":\"x\"},\"y\":{\"field\":\"y\"}},\"id\":\"1252\",\"type\":\"Circle\"},{\"attributes\":{\"data_source\":{\"id\":\"1241\",\"type\":\"ColumnDataSource\"},\"glyph\":{\"id\":\"1246\",\"type\":\"Circle\"},\"hover_glyph\":null,\"muted_glyph\":null,\"nonselection_glyph\":{\"id\":\"1247\",\"type\":\"Circle\"},\"selection_glyph\":null,\"view\":{\"id\":\"1244\",\"type\":\"CDSView\"}},\"id\":\"1248\",\"type\":\"GlyphRenderer\"},{\"attributes\":{},\"id\":\"1352\",\"type\":\"BasicTickFormatter\"},{\"attributes\":{\"column_name\":\"label\",\"group\":\"true\"},\"id\":\"1249\",\"type\":\"GroupFilter\"},{\"attributes\":{\"label\":{\"value\":\"false\"},\"renderers\":[{\"id\":\"1140\",\"type\":\"GlyphRenderer\"}]},\"id\":\"1147\",\"type\":\"LegendItem\"},{\"attributes\":{\"fill_color\":{\"field\":\"label\",\"transform\":{\"id\":\"1242\",\"type\":\"CategoricalColorMapper\"}},\"line_color\":{\"field\":\"label\",\"transform\":{\"id\":\"1242\",\"type\":\"CategoricalColorMapper\"}},\"x\":{\"field\":\"x\"},\"y\":{\"field\":\"y\"}},\"id\":\"1246\",\"type\":\"Circle\"},{\"attributes\":{\"factors\":[\"false\",\"true\"],\"palette\":[\"#1f77b4\",\"#ff7f0e\",\"#2ca02c\",\"#d62728\",\"#9467bd\",\"#8c564b\",\"#e377c2\",\"#7f7f7f\",\"#bcbd22\",\"#17becf\"]},\"id\":\"1296\",\"type\":\"CategoricalColorMapper\"},{\"attributes\":{\"fill_alpha\":{\"value\":0.1},\"fill_color\":{\"value\":\"#1f77b4\"},\"line_alpha\":{\"value\":0.1},\"line_color\":{\"value\":\"#1f77b4\"},\"x\":{\"field\":\"x\"},\"y\":{\"field\":\"y\"}},\"id\":\"1193\",\"type\":\"Circle\"},{\"attributes\":{},\"id\":\"1327\",\"type\":\"BasicTicker\"},{\"attributes\":{\"active_drag\":\"auto\",\"active_inspect\":\"auto\",\"active_multi\":null,\"active_scroll\":\"auto\",\"active_tap\":\"auto\",\"tools\":[{\"id\":\"1118\",\"type\":\"PanTool\"},{\"id\":\"1119\",\"type\":\"WheelZoomTool\"},{\"id\":\"1120\",\"type\":\"BoxZoomTool\"},{\"id\":\"1121\",\"type\":\"SaveTool\"},{\"id\":\"1122\",\"type\":\"ResetTool\"},{\"id\":\"1123\",\"type\":\"HelpTool\"},{\"id\":\"1132\",\"type\":\"HoverTool\"}]},\"id\":\"1124\",\"type\":\"Toolbar\"},{\"attributes\":{\"filters\":[{\"id\":\"1249\",\"type\":\"GroupFilter\"}],\"source\":{\"id\":\"1241\",\"type\":\"ColumnDataSource\"}},\"id\":\"1250\",\"type\":\"CDSView\"},{\"attributes\":{\"filters\":[{\"id\":\"1189\",\"type\":\"GroupFilter\"}],\"source\":{\"id\":\"1187\",\"type\":\"ColumnDataSource\"}},\"id\":\"1190\",\"type\":\"CDSView\"},{\"attributes\":{\"data_source\":{\"id\":\"1187\",\"type\":\"ColumnDataSource\"},\"glyph\":{\"id\":\"1192\",\"type\":\"Circle\"},\"hover_glyph\":null,\"muted_glyph\":null,\"nonselection_glyph\":{\"id\":\"1193\",\"type\":\"Circle\"},\"selection_glyph\":null,\"view\":{\"id\":\"1190\",\"type\":\"CDSView\"}},\"id\":\"1194\",\"type\":\"GlyphRenderer\"},{\"attributes\":{\"callback\":null},\"id\":\"1156\",\"type\":\"DataRange1d\"},{\"attributes\":{},\"id\":\"1319\",\"type\":\"BasicTickFormatter\"},{\"attributes\":{},\"id\":\"1226\",\"type\":\"PanTool\"},{\"attributes\":{},\"id\":\"1212\",\"type\":\"LinearScale\"},{\"attributes\":{},\"id\":\"1339\",\"type\":\"BasicTickFormatter\"},{\"attributes\":{\"axis_label\":\"DP mean\",\"formatter\":{\"id\":\"1341\",\"type\":\"BasicTickFormatter\"},\"ticker\":{\"id\":\"1217\",\"type\":\"BasicTicker\"}},\"id\":\"1216\",\"type\":\"LinearAxis\"},{\"attributes\":{\"fill_alpha\":{\"value\":0.1},\"fill_color\":{\"value\":\"#1f77b4\"},\"line_alpha\":{\"value\":0.1},\"line_color\":{\"value\":\"#1f77b4\"},\"x\":{\"field\":\"x\"},\"y\":{\"field\":\"y\"}},\"id\":\"1199\",\"type\":\"Circle\"},{\"attributes\":{\"fill_alpha\":{\"value\":0.1},\"fill_color\":{\"value\":\"#1f77b4\"},\"line_alpha\":{\"value\":0.1},\"line_color\":{\"value\":\"#1f77b4\"},\"x\":{\"field\":\"x\"},\"y\":{\"field\":\"y\"}},\"id\":\"1253\",\"type\":\"Circle\"},{\"attributes\":{\"text\":\"# heterozygotes\"},\"id\":\"1098\",\"type\":\"Title\"},{\"attributes\":{\"dimension\":1,\"ticker\":{\"id\":\"1276\",\"type\":\"BasicTicker\"}},\"id\":\"1279\",\"type\":\"Grid\"},{\"attributes\":{\"fill_alpha\":{\"value\":0.1},\"fill_color\":{\"value\":\"#1f77b4\"},\"line_alpha\":{\"value\":0.1},\"line_color\":{\"value\":\"#1f77b4\"},\"x\":{\"field\":\"x\"},\"y\":{\"field\":\"y\"}},\"id\":\"1145\",\"type\":\"Circle\"},{\"attributes\":{},\"id\":\"1342\",\"type\":\"UnionRenderers\"},{\"attributes\":{\"label\":{\"value\":\"true\"},\"renderers\":[{\"id\":\"1200\",\"type\":\"GlyphRenderer\"}]},\"id\":\"1202\",\"type\":\"LegendItem\"},{\"attributes\":{\"column_name\":\"label\",\"group\":\"false\"},\"id\":\"1243\",\"type\":\"GroupFilter\"},{\"attributes\":{\"click_policy\":\"hide\",\"items\":[{\"id\":\"1201\",\"type\":\"LegendItem\"},{\"id\":\"1202\",\"type\":\"LegendItem\"}]},\"id\":\"1203\",\"type\":\"Legend\"},{\"attributes\":{},\"id\":\"1338\",\"type\":\"BasicTicker\"},{\"attributes\":{},\"id\":\"1104\",\"type\":\"LinearScale\"},{\"attributes\":{\"axis_label\":\"DP mean\",\"formatter\":{\"id\":\"1330\",\"type\":\"BasicTickFormatter\"},\"ticker\":{\"id\":\"1163\",\"type\":\"BasicTicker\"}},\"id\":\"1162\",\"type\":\"LinearAxis\"},{\"attributes\":{},\"id\":\"1231\",\"type\":\"HelpTool\"},{\"attributes\":{},\"id\":\"1158\",\"type\":\"LinearScale\"},{\"attributes\":{\"data_source\":{\"id\":\"1187\",\"type\":\"ColumnDataSource\"},\"glyph\":{\"id\":\"1198\",\"type\":\"Circle\"},\"hover_glyph\":null,\"muted_glyph\":null,\"nonselection_glyph\":{\"id\":\"1199\",\"type\":\"Circle\"},\"selection_glyph\":null,\"view\":{\"id\":\"1196\",\"type\":\"CDSView\"}},\"id\":\"1200\",\"type\":\"GlyphRenderer\"},{\"attributes\":{\"dimension\":1,\"ticker\":{\"id\":\"1222\",\"type\":\"BasicTicker\"}},\"id\":\"1225\",\"type\":\"Grid\"},{\"attributes\":{},\"id\":\"1227\",\"type\":\"WheelZoomTool\"},{\"attributes\":{\"dimension\":1,\"ticker\":{\"id\":\"1168\",\"type\":\"BasicTicker\"}},\"id\":\"1171\",\"type\":\"Grid\"},{\"attributes\":{\"color_mapper\":null,\"formatter\":{\"id\":\"1339\",\"type\":\"BasicTickFormatter\"},\"ticker\":{\"id\":\"1338\",\"type\":\"BasicTicker\"},\"visible\":false},\"id\":\"1258\",\"type\":\"ColorBar\"},{\"attributes\":{\"children\":[[{\"id\":\"1097\",\"subtype\":\"Figure\",\"type\":\"Plot\"},0,0],[{\"id\":\"1151\",\"subtype\":\"Figure\",\"type\":\"Plot\"},0,1],[{\"id\":\"1205\",\"subtype\":\"Figure\",\"type\":\"Plot\"},1,0],[{\"id\":\"1259\",\"subtype\":\"Figure\",\"type\":\"Plot\"},1,1]]},\"id\":\"1357\",\"type\":\"GridBox\"},{\"attributes\":{\"active_drag\":\"auto\",\"active_inspect\":\"auto\",\"active_multi\":null,\"active_scroll\":\"auto\",\"active_tap\":\"auto\",\"tools\":[{\"id\":\"1226\",\"type\":\"PanTool\"},{\"id\":\"1227\",\"type\":\"WheelZoomTool\"},{\"id\":\"1228\",\"type\":\"BoxZoomTool\"},{\"id\":\"1229\",\"type\":\"SaveTool\"},{\"id\":\"1230\",\"type\":\"ResetTool\"},{\"id\":\"1231\",\"type\":\"HelpTool\"},{\"id\":\"1240\",\"type\":\"HoverTool\"}]},\"id\":\"1232\",\"type\":\"Toolbar\"},{\"attributes\":{\"below\":[{\"id\":\"1108\",\"type\":\"LinearAxis\"}],\"center\":[{\"id\":\"1112\",\"type\":\"Grid\"},{\"id\":\"1117\",\"type\":\"Grid\"}],\"left\":[{\"id\":\"1113\",\"type\":\"LinearAxis\"},{\"id\":\"1149\",\"type\":\"Legend\"},{\"id\":\"1150\",\"type\":\"ColorBar\"}],\"plot_height\":400,\"plot_width\":600,\"renderers\":[{\"id\":\"1140\",\"type\":\"GlyphRenderer\"},{\"id\":\"1146\",\"type\":\"GlyphRenderer\"}],\"title\":{\"id\":\"1098\",\"type\":\"Title\"},\"toolbar\":{\"id\":\"1124\",\"type\":\"Toolbar\"},\"toolbar_location\":null,\"x_range\":{\"id\":\"1100\",\"type\":\"DataRange1d\"},\"x_scale\":{\"id\":\"1104\",\"type\":\"LinearScale\"},\"y_range\":{\"id\":\"1102\",\"type\":\"DataRange1d\"},\"y_scale\":{\"id\":\"1106\",\"type\":\"LinearScale\"}},\"id\":\"1097\",\"subtype\":\"Figure\",\"type\":\"Plot\"},{\"attributes\":{},\"id\":\"1106\",\"type\":\"LinearScale\"},{\"attributes\":{\"color_mapper\":null,\"formatter\":{\"id\":\"1328\",\"type\":\"BasicTickFormatter\"},\"ticker\":{\"id\":\"1327\",\"type\":\"BasicTicker\"},\"visible\":false},\"id\":\"1204\",\"type\":\"ColorBar\"},{\"attributes\":{\"column_name\":\"label\",\"group\":\"false\"},\"id\":\"1189\",\"type\":\"GroupFilter\"},{\"attributes\":{},\"id\":\"1343\",\"type\":\"Selection\"},{\"attributes\":{\"callback\":null,\"tooltips\":[[\"x\",\"@x\"],[\"y\",\"@y\"],[\"label\",\"@label\"]]},\"id\":\"1240\",\"type\":\"HoverTool\"},{\"attributes\":{},\"id\":\"1176\",\"type\":\"ResetTool\"},{\"attributes\":{},\"id\":\"1328\",\"type\":\"BasicTickFormatter\"},{\"attributes\":{},\"id\":\"1332\",\"type\":\"Selection\"},{\"attributes\":{\"overlay\":{\"id\":\"1333\",\"type\":\"BoxAnnotation\"}},\"id\":\"1174\",\"type\":\"BoxZoomTool\"},{\"attributes\":{\"callback\":null,\"data\":{\"index\":[0,1,2,3,4,5,6,7,8,9,10,11,12,13,14,15,16,17,18,19,20,21,22,23,24,25,26,27,28,29,30,31,32,33,34,35,36,37,38,39,40,41,42,43,44,45,46,47,48,49,50,51,52,53,54,55,56,57,58,59,60,61,62,63,64,65,66,67,68,69,70,71,72,73,74,75,76,77,78,79,80,81,82,83,84,85,86,87,88,89,90,91,92,93,94,95,96,97,98,99,100,101,102,103,104,105,106,107,108,109,110,111,112,113,114,115,116,117,118,119,120,121,122,123,124,125,126,127,128,129,130,131,132,133,134,135,136,137,138,139,140,141,142,143,144,145,146,147,148,149,150,151,152,153,154,155,156,157,158,159,160,161,162,163,164,165,166,167,168,169,170,171,172,173,174,175,176,177,178,179,180,181,182,183,184,185,186,187,188,189,190,191,192,193,194,195,196,197,198,199,200,201,202,203,204,205,206,207,208,209,210,211,212,213,214,215,216,217,218,219,220,221,222,223,224,225,226,227,228,229,230,231,232,233,234,235,236,237,238,239,240,241,242,243,244,245,246,247,248,249,250,251,252,253,254,255,256,257,258,259,260,261,262,263,264,265,266,267,268,269,270,271,272,273,274,275,276,277,278,279,280,281,282,283,284,285,286,287,288,289,290,291,292,293,294,295,296,297,298,299,300,301,302,303,304,305,306,307,308,309,310,311,312,313,314,315,316,317,318,319,320,321,322,323,324,325,326,327,328,329,330,331,332,333,334,335,336,337,338,339,340,341,342,343,344,345,346,347,348,349,350,351,352,353,354,355,356,357,358,359,360,361,362,363,364,365,366,367,368,369,370,371,372,373,374,375,376,377,378,379,380,381,382,383,384,385,386,387,388,389,390,391,392,393,394,395,396,397,398,399,400,401,402,403,404,405,406,407,408,409,410,411,412,413,414,415,416,417,418,419,420,421,422,423,424,425,426,427,428,429,430,431,432,433,434,435,436,437,438,439,440,441,442,443,444,445],\"label\":[\"false\",\"false\",\"false\",\"false\",\"false\",\"false\",\"false\",\"false\",\"false\",\"false\",\"false\",\"false\",\"false\",\"false\",\"false\",\"false\",\"false\",\"false\",\"false\",\"false\",\"false\",\"false\",\"true\",\"false\",\"false\",\"false\",\"false\",\"false\",\"false\",\"false\",\"false\",\"false\",\"false\",\"false\",\"false\",\"false\",\"false\",\"false\",\"false\",\"false\",\"false\",\"false\",\"false\",\"false\",\"false\",\"false\",\"false\",\"false\",\"false\",\"false\",\"false\",\"false\",\"false\",\"false\",\"false\",\"false\",\"false\",\"false\",\"false\",\"false\",\"false\",\"false\",\"false\",\"false\",\"false\",\"false\",\"true\",\"false\",\"false\",\"false\",\"false\",\"false\",\"false\",\"false\",\"false\",\"false\",\"false\",\"false\",\"false\",\"false\",\"false\",\"false\",\"false\",\"false\",\"false\",\"false\",\"false\",\"false\",\"false\",\"false\",\"false\",\"false\",\"false\",\"false\",\"false\",\"false\",\"false\",\"false\",\"false\",\"false\",\"false\",\"false\",\"false\",\"false\",\"false\",\"false\",\"false\",\"false\",\"false\",\"false\",\"false\",\"false\",\"false\",\"false\",\"false\",\"false\",\"false\",\"false\",\"false\",\"false\",\"false\",\"false\",\"false\",\"false\",\"false\",\"false\",\"false\",\"false\",\"false\",\"false\",\"false\",\"false\",\"false\",\"false\",\"false\",\"false\",\"false\",\"false\",\"false\",\"false\",\"false\",\"false\",\"false\",\"false\",\"false\",\"false\",\"false\",\"false\",\"false\",\"false\",\"false\",\"false\",\"false\",\"false\",\"false\",\"false\",\"false\",\"false\",\"false\",\"false\",\"false\",\"false\",\"false\",\"false\",\"false\",\"false\",\"false\",\"false\",\"false\",\"false\",\"false\",\"false\",\"true\",\"false\",\"false\",\"false\",\"false\",\"false\",\"false\",\"false\",\"false\",\"false\",\"false\",\"false\",\"true\",\"false\",\"false\",\"false\",\"false\",\"false\",\"false\",\"false\",\"true\",\"false\",\"false\",\"false\",\"false\",\"false\",\"false\",\"false\",\"false\",\"false\",\"false\",\"false\",\"false\",\"false\",\"false\",\"false\",\"false\",\"false\",\"false\",\"false\",\"false\",\"false\",\"false\",\"false\",\"false\",\"false\",\"false\",\"false\",\"false\",\"false\",\"false\",\"false\",\"false\",\"false\",\"false\",\"false\",\"false\",\"false\",\"false\",\"false\",\"false\",\"false\",\"false\",\"false\",\"false\",\"false\",\"false\",\"false\",\"false\",\"false\",\"false\",\"false\",\"false\",\"false\",\"false\",\"false\",\"false\",\"false\",\"false\",\"false\",\"false\",\"false\",\"false\",\"false\",\"false\",\"false\",\"false\",\"false\",\"false\",\"false\",\"false\",\"false\",\"false\",\"false\",\"false\",\"false\",\"false\",\"false\",\"false\",\"false\",\"false\",\"false\",\"false\",\"false\",\"false\",\"false\",\"false\",\"false\",\"false\",\"false\",\"false\",\"false\",\"false\",\"false\",\"false\",\"false\",\"false\",\"false\",\"false\",\"false\",\"false\",\"false\",\"false\",\"false\",\"false\",\"false\",\"false\",\"false\",\"false\",\"false\",\"false\",\"false\",\"false\",\"false\",\"false\",\"false\",\"false\",\"false\",\"false\",\"false\",\"false\",\"false\",\"false\",\"false\",\"false\",\"false\",\"false\",\"false\",\"false\",\"false\",\"false\",\"false\",\"false\",\"false\",\"false\",\"false\",\"false\",\"false\",\"false\",\"false\",\"false\",\"false\",\"false\",\"false\",\"false\",\"false\",\"false\",\"false\",\"false\",\"false\",\"false\",\"false\",\"false\",\"false\",\"false\",\"false\",\"false\",\"false\",\"false\",\"false\",\"false\",\"false\",\"false\",\"false\",\"false\",\"false\",\"false\",\"false\",\"false\",\"false\",\"false\",\"false\",\"false\",\"false\",\"false\",\"false\",\"false\",\"false\",\"false\",\"false\",\"true\",\"false\",\"false\",\"false\",\"false\",\"true\",\"false\",\"false\",\"false\",\"false\",\"false\",\"false\",\"false\",\"false\",\"false\",\"false\",\"false\",\"false\",\"false\",\"false\",\"false\",\"false\",\"false\",\"false\",\"false\",\"false\",\"false\",\"false\",\"false\",\"false\",\"false\",\"false\",\"false\",\"false\",\"false\",\"false\",\"false\",\"false\",\"false\",\"false\",\"false\",\"false\",\"false\",\"false\",\"false\",\"false\",\"false\",\"false\",\"false\",\"false\",\"false\",\"false\",\"false\",\"false\",\"false\",\"false\",\"false\",\"false\",\"false\",\"false\",\"false\",\"false\",\"false\",\"false\",\"false\",\"false\",\"false\",\"false\",\"false\",\"false\",\"false\",\"false\",\"false\",\"false\"],\"x\":{\"__ndarray__\":\"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\",\"dtype\":\"float64\",\"shape\":[446]},\"y\":{\"__ndarray__\":\"hxPQgtr11T9OK2IJhKXiP0qVCv0R2+E/j01td14a5D9x9aN4T1nlPz7cyUPJzOQ/k6UBZgr44j9/wn5GqfDlP31XxLA82ec/dOjHPo6r5z9F8XX6uDfnP0+rduX8Jek/xwGLv8yK5z+cIk5/yiLlP0urYN41SeQ/sFKR5NPP4j9MoZ7XEPPkP9/l0GbFKuY/ixyZRIT/5z/RhR3ho0blP5RV2NJ+seY/vUV/7S5u6T8NmXfrRpPoPyyZYDf/5ec/z6+otcoX6T+d8ovuzunnP/6ASYoQ8ug/3fChuSyq5z96qQvcTHLoP50f5THngek/WG8512Vq6j9+ZRRYTtbpPzO1tMF3T+s/YZhs8Ts66D/4HNKmHrPpPzDx9CWrw+Y/60/32MQb6T90fK9CmCHqP3J3dCHbvuo/nMSFKuaV6T+PsDSE4+TpP3IZSgGFxOk/acq0kWak6D/dcsF8/1jqP7xH7J/6Ces/qR2R3H576T9C/EZNILfoP9t94emtIek/ijtTxkNR6j9Eqw5uUkfqP1G4t0DM+eg/Zrg4Fdpt6T+S6s4iy1DrP3mbbBr0K+k/72gbKdpQ6T9v2RbbVoPpP0wkzeYly+k/wh+CufRD6D+8dfJj413pP9rjEUQWjeo/cIE2KAAV6j9/PacbrFfqP+yTU37R3ek/MYLC9hji6j/R2kUs0MrrPzSGn7FM0uo/pa75i95z6z+TVTqe8B7sP2JZ/FKlkek/JNTwxMXl6T9Pu4JZIQjqPxyiqCSbe+k/mYP0nS7i6T81hDL/gDbpP6gP8homNeo/iS20BOsK6z/VlT9cjwXrPw3m6Bao7+s/Xhhrxu3d6T/RN2EA5JvqP/nM9y3ateo/TvKdo1726j9i1HNC70HrPyQxvX6Sbes/LkmGvrro6D8zf/fdw9PpPxsv6FQc8+o/EsjxHIA26z+M22zZ2nHqP69aqs8QZes/65y3Hm3B6T+N02afyADqPweKxocPa+o/ZYoyUfEZ6z8MNWUpY3rrP5W3kJPBUuo/d+PxPt9u6j+YAChai3fqP21uXEXqa+s/HlAS30OZ6z/2/zW947PrP3IZSgGFxOk/JcuMJCoC6j8THKlQ+CPqPzR+mXc6Yeo/AjTuZXZy6j+VM2bplHXrP5EDPzeLFuw/+Z5AhDir6T+d8d5t/i3rP7FmjcRWxus/V3iddwFO6j/H4dSi9TPrP27CE3liWeo/Xxav+dr46j8Yp+DvuyXsPxkL87GfPuk/27ukB3QO6z/vpYDgFsvrP91TuOD4veo/ZWMje9gN6z9ndwyqMODrP38GPbcnIOw/SfmRO5KF7D+9yPwWi4/rP55NnNuIjOo/atem0u4u6z/UzbgMVmbrP6jZ5RwrcOs/gsxWVJUj6j/UUeO2gkPqP2EE57ijMes/ZLqlx6UJ6z+hdsyfwqPrP8g1jNZtIeo/fK2ZfDkZ6z84WE0pue3rPzvgVI4Zu+o/i2kKcOVb6z/bGMDbh9/pP85imVXbKOs/BG/maudQ6z+pgmPQXXTrP3t46+THxus/tYAPe/Vt6z+F1n18yJ/rP/ywbeZ9mOs/m77sop/A6j8mXKkP32nrP1UOQUgeqes/7KoHxn6+6z9dQInoSBPsP40oLR+DF+s/rqjIe0J96z9hWguf57rrPyZUo9XM+Oo/KcRJcq8p6z9bv3hxuI3rP6UjJw4pmOs/4kx1Ln7l6z8ZC6SXWPXrPwqlV4rwO+w/HP903mcD6z/eeWlQiFfrP/uEI++nKew/ELOqh57x6j9tULEPbUPrP8ebvDDWjOs/YcbUgJb76z83iR4G90/rP3Guj2sYres/14t9VWqv6z+zkXlVo8LrP6wREwlHQOs/TFqKytlG6z9oGIQjUXPrP29clASzpOs/yCUxSAL26z8lLwGyf4jsPwqk+SNnyew/ZdBKwxDB6j+o0IF8j4zrPyBlWXQl3us/D1/zUyYE7D/wfLU969nsP2r+tagHO+s/LQR9mN1q6z8VfVLF+JvrP/iARjR0Oew/pCyLrsR76z/OQ5C51I3rPzH+l0zsBOw/rMqcMJ4m7D/QCVs8+0fsP/kxyiG5ruw/25SVMVsC6z/zmPPAnGbrPzDo8lCBTew/fdryv1Gx7D/p1Y41vZTpP275LsOfR+s/lTNm6ZR16z+NnPw6RMnrP2llRGn5GOw/762GGik87D9WBH9B+VLsPxyw+MuseOs/NgZSwlPl6z8+frLUnfbrP4PwS/cR2Os/MqcVAB8J7D+0JFINaw/sP3rHZ/eCUes/aCCKXWPk6z8xks5qPcTrP+k5A8MSG+w/AqHGk2fc7D/B6SahsjXsPw5JTli7TOw/hziFV1KK7D99hSxAl5rrP93PjTbM4Os/GbwnhZ1q7D9Kog/vxInsPw/UINZwKOw/xzabIrBK7D8l6eg/YOHsP/vCNSe1X+s/Vnmsw0N37D/7ZRpToY7sP8h698e8DO0/hZHDcDJr6z+jFuayWcTrP+0rGD0PROw/Yp5nRPR87D8wVLwyMI7sP60XXXZGzOw/+SoiTjCw6z/0vUbKoo3sPwYAA1acuOw/uqZ0Jtp26z8QEHdBa3nsP32M1BMgmew/4WXlQj6r7D9FD4P7p83sP6KUd9U/zOs/mhu5XGxI7D8IoBxpM9nsP7Z99UdZFu0/FNTUEcaX6z/A1N8L0fDrP5Azsq0/Buw/t4uUCbJc7D+BnlCQrM/rP6VJ2H24Mew/XoVD9N5H7D+E7+2QiGXsP+CzA+9vw+w/xm4U03ar7D/IevfHvAztP/LuF6fg7+s/5cPDnukU7T98vaXwXfvrP3x/k7hQxew/tl7sq1J77T+Cw6OZsvbsP6EwtC2j/Os/nyNz0tMo7D+PYse9aoPsP8fJc9p3l+w/PfPfVuga7D9ilQOkWJnsP2eHGB5Vwuw/GBuwC33X7D/FMWAB8+fsPwP1fcffyes/IG1frjdP7D9WK44XEl/sP81bomcL4ew/cWnVX4J46z/SFpyXyhvsP2jidyVWruw/DTOpXFCV7D83K6XLWQztP1JnMEe3QO0/LNfUOn6J7D/IS+K3kY/sP4Yi4Fvn0uw/UvtmZQgA7T9cOvBgAj7tPw39nF5V0O0/1k7Jg+br6z8ZYGoXEwztP8J0+R5oEew/aCiQl3VV7D8+rcfkyHPsP6Uy1RvEB+0/TIhBdHtR7D8Yh3ntKxjtP6wJvrTthe0/thEsZqrV7D+zqYsD2hXtPxIzXZilBOw/o4q1zhp27D9aa8E9QKDsP/uy2phJNO0/3lH8E+bY6z+r5Gqr517sP5S4n98DfOw/dC5CfB/A7D8nO+SmxensP3g3WlgQE+w/9hdIaxoH7T9d22faItHsP++NHxiZLu0/6WASmSsn7D8USKQth0nsP5saW/bi1ew/oHg5Uo4/7T/PjpQyak7tP4C3wKRslew/SOPsPyfO7D/NqcATPfnsP9q8s1O2N+0/e9W3npRO7T99KBFsg8nsP58McHDf/uw/96G8gkZw7T9MYTKeYkXsP2+w/B3kSO0/SqoVKdf67D/zxqpqPnHsP2y24WnVruw/onQQ06++7D8wDqTAEOfsP91ycmK4D+0/2ewmymon7T/EG7sFiDDtP3JvH82BBO0/I9yn5JAN7T+Nq6pI3zjtPykguMXyPu0/qwocG3f47D/z7FvazQrtP3j46bl5au0/9fGW+4pt7D/Gq8ik+m7sP18OWqWBPu0/wnuh8vAP7T+88XifbzftPyuDHQcGnO0/Ns/nXc+t7T+FWlkMrjPtP6xGcoZxSe0/0NNOPgCD7T+fzl040sjtP5v0qYZTPOw/+Eo6Nnl07T/1Rl17RYTtP7OJJAFKCO4/Qc7xbvAZ7T8PbqFhwXPtP0naiJ+L6uw/DbDcGK0q7T9rgTPSY1ztP9QqhcYi7uw/s2Nzkbpu7T8gCD6gEQ3tP1NAIXGeNO0/hm+goY947T8cPNqVpH3tP95KBSYWke0/bjaUetzB7T92j+vwHzjuP8XMPvPMpe0/XBPhiukx7T8xW2QGuYztP2dAokWsqO0/HGKLBTQX7j+3L9ebJ/7sP3v8xnStWu0/a5/eB+GE7T9sb2uRLJXtP6XFrdOLVO0/mXpB40u17D8xvyeuVVztPzfdhh8o9Ow/qXIIQvJI7T9IOREma1ftP6BQzBXswO0/zWJKO5Tf7T/sBnYZwtPtP8AoSCUCle0/CDKXunGz7T/z/GdO8uztP+zXYAmXVu0/JyThRNG/7T9hkMiCmzbtP+rSJejZ8+0/MKmCsuqk7T8vRh1x10ftP6HbnpOhnO0/FbsV476I7T8pKL7/BLDtP94imOlzEu4/W0NUAZ4h7T8I9eLo7e/tP+RI/ZRYG+4/at9d8rlW7j/UMS2aq+ztP+ZVPvAn7+0/j+aiTVAX7j9Sjj8d0EztP1BESvB8te0/NS5w5K4a7j89f8Eg4B/uP/c0lToOve0/rKScpsdD7j9goNT2vxjuP1RldHqkW+4/fmsPqwYZ7j9XEy1PlMLtPz/Jtk0zt+0//6z1TFjO7T+T98BjU9vtP+LH7B3Ile0/hLiDLAQu7j/LZnO6cmDuP6s408QYA+4/Bavtu5pY7j9Pc18AqDLuPxoQkJ7ODu4/PBv+eENQ7j8l0Yd34kTuP9c9EI/xTe4/WjRX2bto7j/qbmJAPSTuP+7zT3IBmu4/gFlHas9R7j+A7B8il57uP7HKAVKsTO4/U43htkba7T+6hxxwjJLuPyJp5xQShe4/Un9C9e2T7j8s7SocovfuPw==\",\"dtype\":\"float64\",\"shape\":[446]}},\"selected\":{\"id\":\"1343\",\"type\":\"Selection\"},\"selection_policy\":{\"id\":\"1342\",\"type\":\"UnionRenderers\"}},\"id\":\"1241\",\"type\":\"ColumnDataSource\"},{\"attributes\":{},\"id\":\"1349\",\"type\":\"BasicTicker\"},{\"attributes\":{\"fill_color\":{\"field\":\"label\",\"transform\":{\"id\":\"1134\",\"type\":\"CategoricalColorMapper\"}},\"line_color\":{\"field\":\"label\",\"transform\":{\"id\":\"1134\",\"type\":\"CategoricalColorMapper\"}},\"x\":{\"field\":\"x\"},\"y\":{\"field\":\"y\"}},\"id\":\"1144\",\"type\":\"Circle\"},{\"attributes\":{},\"id\":\"1354\",\"type\":\"Selection\"},{\"attributes\":{\"toolbar\":{\"id\":\"1358\",\"type\":\"ProxyToolbar\"},\"toolbar_location\":\"above\"},\"id\":\"1359\",\"type\":\"ToolbarBox\"},{\"attributes\":{},\"id\":\"1266\",\"type\":\"LinearScale\"},{\"attributes\":{},\"id\":\"1163\",\"type\":\"BasicTicker\"},{\"attributes\":{\"axis_label\":\"Call rate\",\"formatter\":{\"id\":\"1337\",\"type\":\"BasicTickFormatter\"},\"ticker\":{\"id\":\"1222\",\"type\":\"BasicTicker\"}},\"id\":\"1221\",\"type\":\"LinearAxis\"},{\"attributes\":{\"bottom_units\":\"screen\",\"fill_alpha\":{\"value\":0.5},\"fill_color\":{\"value\":\"lightgrey\"},\"left_units\":\"screen\",\"level\":\"overlay\",\"line_alpha\":{\"value\":1.0},\"line_color\":{\"value\":\"black\"},\"line_dash\":[4,4],\"line_width\":{\"value\":2},\"render_mode\":\"css\",\"right_units\":\"screen\",\"top_units\":\"screen\"},\"id\":\"1344\",\"type\":\"BoxAnnotation\"},{\"attributes\":{},\"id\":\"1160\",\"type\":\"LinearScale\"},{\"attributes\":{},\"id\":\"1222\",\"type\":\"BasicTicker\"},{\"attributes\":{},\"id\":\"1353\",\"type\":\"UnionRenderers\"},{\"attributes\":{\"axis_label\":\"Ti/Tv rate\",\"formatter\":{\"id\":\"1326\",\"type\":\"BasicTickFormatter\"},\"ticker\":{\"id\":\"1168\",\"type\":\"BasicTicker\"}},\"id\":\"1167\",\"type\":\"LinearAxis\"},{\"attributes\":{\"axis_label\":\"DP mean\",\"formatter\":{\"id\":\"1319\",\"type\":\"BasicTickFormatter\"},\"ticker\":{\"id\":\"1109\",\"type\":\"BasicTicker\"}},\"id\":\"1108\",\"type\":\"LinearAxis\"},{\"attributes\":{\"text\":\"# singletons\"},\"id\":\"1260\",\"type\":\"Title\"},{\"attributes\":{\"label\":{\"value\":\"true\"},\"renderers\":[{\"id\":\"1146\",\"type\":\"GlyphRenderer\"}]},\"id\":\"1148\",\"type\":\"LegendItem\"},{\"attributes\":{},\"id\":\"1330\",\"type\":\"BasicTickFormatter\"},{\"attributes\":{},\"id\":\"1268\",\"type\":\"LinearScale\"},{\"attributes\":{\"callback\":null,\"tooltips\":[[\"x\",\"@x\"],[\"y\",\"@y\"],[\"label\",\"@label\"]]},\"id\":\"1294\",\"type\":\"HoverTool\"},{\"attributes\":{\"callback\":null},\"id\":\"1100\",\"type\":\"DataRange1d\"},{\"attributes\":{\"below\":[{\"id\":\"1270\",\"type\":\"LinearAxis\"}],\"center\":[{\"id\":\"1274\",\"type\":\"Grid\"},{\"id\":\"1279\",\"type\":\"Grid\"}],\"left\":[{\"id\":\"1275\",\"type\":\"LinearAxis\"},{\"id\":\"1311\",\"type\":\"Legend\"},{\"id\":\"1312\",\"type\":\"ColorBar\"}],\"plot_height\":400,\"plot_width\":600,\"renderers\":[{\"id\":\"1302\",\"type\":\"GlyphRenderer\"},{\"id\":\"1308\",\"type\":\"GlyphRenderer\"}],\"title\":{\"id\":\"1260\",\"type\":\"Title\"},\"toolbar\":{\"id\":\"1286\",\"type\":\"Toolbar\"},\"toolbar_location\":null,\"x_range\":{\"id\":\"1262\",\"type\":\"DataRange1d\"},\"x_scale\":{\"id\":\"1266\",\"type\":\"LinearScale\"},\"y_range\":{\"id\":\"1264\",\"type\":\"DataRange1d\"},\"y_scale\":{\"id\":\"1268\",\"type\":\"LinearScale\"}},\"id\":\"1259\",\"subtype\":\"Figure\",\"type\":\"Plot\"},{\"attributes\":{\"click_policy\":\"hide\",\"items\":[{\"id\":\"1255\",\"type\":\"LegendItem\"},{\"id\":\"1256\",\"type\":\"LegendItem\"}]},\"id\":\"1257\",\"type\":\"Legend\"},{\"attributes\":{\"below\":[{\"id\":\"1162\",\"type\":\"LinearAxis\"}],\"center\":[{\"id\":\"1166\",\"type\":\"Grid\"},{\"id\":\"1171\",\"type\":\"Grid\"}],\"left\":[{\"id\":\"1167\",\"type\":\"LinearAxis\"},{\"id\":\"1203\",\"type\":\"Legend\"},{\"id\":\"1204\",\"type\":\"ColorBar\"}],\"plot_height\":400,\"plot_width\":600,\"renderers\":[{\"id\":\"1194\",\"type\":\"GlyphRenderer\"},{\"id\":\"1200\",\"type\":\"GlyphRenderer\"}],\"title\":{\"id\":\"1152\",\"type\":\"Title\"},\"toolbar\":{\"id\":\"1178\",\"type\":\"Toolbar\"},\"toolbar_location\":null,\"x_range\":{\"id\":\"1154\",\"type\":\"DataRange1d\"},\"x_scale\":{\"id\":\"1158\",\"type\":\"LinearScale\"},\"y_range\":{\"id\":\"1156\",\"type\":\"DataRange1d\"},\"y_scale\":{\"id\":\"1160\",\"type\":\"LinearScale\"}},\"id\":\"1151\",\"subtype\":\"Figure\",\"type\":\"Plot\"},{\"attributes\":{\"color_mapper\":null,\"formatter\":{\"id\":\"1317\",\"type\":\"BasicTickFormatter\"},\"ticker\":{\"id\":\"1316\",\"type\":\"BasicTicker\"},\"visible\":false},\"id\":\"1150\",\"type\":\"ColorBar\"},{\"attributes\":{\"axis_label\":\"DP mean\",\"formatter\":{\"id\":\"1352\",\"type\":\"BasicTickFormatter\"},\"ticker\":{\"id\":\"1271\",\"type\":\"BasicTicker\"}},\"id\":\"1270\",\"type\":\"LinearAxis\"},{\"attributes\":{},\"id\":\"1230\",\"type\":\"ResetTool\"},{\"attributes\":{},\"id\":\"1337\",\"type\":\"BasicTickFormatter\"},{\"attributes\":{\"click_policy\":\"hide\",\"items\":[{\"id\":\"1147\",\"type\":\"LegendItem\"},{\"id\":\"1148\",\"type\":\"LegendItem\"}]},\"id\":\"1149\",\"type\":\"Legend\"},{\"attributes\":{\"callback\":null},\"id\":\"1210\",\"type\":\"DataRange1d\"},{\"attributes\":{\"overlay\":{\"id\":\"1344\",\"type\":\"BoxAnnotation\"}},\"id\":\"1228\",\"type\":\"BoxZoomTool\"},{\"attributes\":{},\"id\":\"1229\",\"type\":\"SaveTool\"},{\"attributes\":{\"data_source\":{\"id\":\"1241\",\"type\":\"ColumnDataSource\"},\"glyph\":{\"id\":\"1252\",\"type\":\"Circle\"},\"hover_glyph\":null,\"muted_glyph\":null,\"nonselection_glyph\":{\"id\":\"1253\",\"type\":\"Circle\"},\"selection_glyph\":null,\"view\":{\"id\":\"1250\",\"type\":\"CDSView\"}},\"id\":\"1254\",\"type\":\"GlyphRenderer\"},{\"attributes\":{},\"id\":\"1341\",\"type\":\"BasicTickFormatter\"},{\"attributes\":{\"callback\":null},\"id\":\"1102\",\"type\":\"DataRange1d\"},{\"attributes\":{\"axis_label\":\"# singletons\",\"formatter\":{\"id\":\"1348\",\"type\":\"BasicTickFormatter\"},\"ticker\":{\"id\":\"1276\",\"type\":\"BasicTicker\"}},\"id\":\"1275\",\"type\":\"LinearAxis\"},{\"attributes\":{\"label\":{\"value\":\"true\"},\"renderers\":[{\"id\":\"1254\",\"type\":\"GlyphRenderer\"}]},\"id\":\"1256\",\"type\":\"LegendItem\"},{\"attributes\":{},\"id\":\"1348\",\"type\":\"BasicTickFormatter\"},{\"attributes\":{\"color_mapper\":null,\"formatter\":{\"id\":\"1350\",\"type\":\"BasicTickFormatter\"},\"ticker\":{\"id\":\"1349\",\"type\":\"BasicTicker\"},\"visible\":false},\"id\":\"1312\",\"type\":\"ColorBar\"},{\"attributes\":{\"bottom_units\":\"screen\",\"fill_alpha\":{\"value\":0.5},\"fill_color\":{\"value\":\"lightgrey\"},\"left_units\":\"screen\",\"level\":\"overlay\",\"line_alpha\":{\"value\":1.0},\"line_color\":{\"value\":\"black\"},\"line_dash\":[4,4],\"line_width\":{\"value\":2},\"render_mode\":\"css\",\"right_units\":\"screen\",\"top_units\":\"screen\"},\"id\":\"1355\",\"type\":\"BoxAnnotation\"},{\"attributes\":{\"text\":\"Ti/Tv rate\"},\"id\":\"1152\",\"type\":\"Title\"},{\"attributes\":{\"ticker\":{\"id\":\"1217\",\"type\":\"BasicTicker\"}},\"id\":\"1220\",\"type\":\"Grid\"},{\"attributes\":{\"fill_color\":{\"field\":\"label\",\"transform\":{\"id\":\"1188\",\"type\":\"CategoricalColorMapper\"}},\"line_color\":{\"field\":\"label\",\"transform\":{\"id\":\"1188\",\"type\":\"CategoricalColorMapper\"}},\"x\":{\"field\":\"x\"},\"y\":{\"field\":\"y\"}},\"id\":\"1198\",\"type\":\"Circle\"},{\"attributes\":{},\"id\":\"1173\",\"type\":\"WheelZoomTool\"},{\"attributes\":{\"data_source\":{\"id\":\"1133\",\"type\":\"ColumnDataSource\"},\"glyph\":{\"id\":\"1144\",\"type\":\"Circle\"},\"hover_glyph\":null,\"muted_glyph\":null,\"nonselection_glyph\":{\"id\":\"1145\",\"type\":\"Circle\"},\"selection_glyph\":null,\"view\":{\"id\":\"1142\",\"type\":\"CDSView\"}},\"id\":\"1146\",\"type\":\"GlyphRenderer\"},{\"attributes\":{\"bottom_units\":\"screen\",\"fill_alpha\":{\"value\":0.5},\"fill_color\":{\"value\":\"lightgrey\"},\"left_units\":\"screen\",\"level\":\"overlay\",\"line_alpha\":{\"value\":1.0},\"line_color\":{\"value\":\"black\"},\"line_dash\":[4,4],\"line_width\":{\"value\":2},\"render_mode\":\"css\",\"right_units\":\"screen\",\"top_units\":\"screen\"},\"id\":\"1333\",\"type\":\"BoxAnnotation\"},{\"attributes\":{},\"id\":\"1276\",\"type\":\"BasicTicker\"},{\"attributes\":{\"callback\":null,\"tooltips\":[[\"x\",\"@x\"],[\"y\",\"@y\"],[\"label\",\"@label\"]]},\"id\":\"1132\",\"type\":\"HoverTool\"},{\"attributes\":{},\"id\":\"1168\",\"type\":\"BasicTicker\"},{\"attributes\":{},\"id\":\"1280\",\"type\":\"PanTool\"},{\"attributes\":{\"ticker\":{\"id\":\"1163\",\"type\":\"BasicTicker\"}},\"id\":\"1166\",\"type\":\"Grid\"},{\"attributes\":{\"callback\":null,\"tooltips\":[[\"x\",\"@x\"],[\"y\",\"@y\"],[\"label\",\"@label\"]]},\"id\":\"1186\",\"type\":\"HoverTool\"},{\"attributes\":{},\"id\":\"1331\",\"type\":\"UnionRenderers\"},{\"attributes\":{},\"id\":\"1172\",\"type\":\"PanTool\"},{\"attributes\":{\"callback\":null},\"id\":\"1264\",\"type\":\"DataRange1d\"},{\"attributes\":{\"ticker\":{\"id\":\"1271\",\"type\":\"BasicTicker\"}},\"id\":\"1274\",\"type\":\"Grid\"},{\"attributes\":{\"callback\":null},\"id\":\"1154\",\"type\":\"DataRange1d\"},{\"attributes\":{\"column_name\":\"label\",\"group\":\"false\"},\"id\":\"1135\",\"type\":\"GroupFilter\"},{\"attributes\":{\"tools\":[{\"id\":\"1118\",\"type\":\"PanTool\"},{\"id\":\"1119\",\"type\":\"WheelZoomTool\"},{\"id\":\"1120\",\"type\":\"BoxZoomTool\"},{\"id\":\"1121\",\"type\":\"SaveTool\"},{\"id\":\"1122\",\"type\":\"ResetTool\"},{\"id\":\"1123\",\"type\":\"HelpTool\"},{\"id\":\"1132\",\"type\":\"HoverTool\"},{\"id\":\"1172\",\"type\":\"PanTool\"},{\"id\":\"1173\",\"type\":\"WheelZoomTool\"},{\"id\":\"1174\",\"type\":\"BoxZoomTool\"},{\"id\":\"1175\",\"type\":\"SaveTool\"},{\"id\":\"1176\",\"type\":\"ResetTool\"},{\"id\":\"1177\",\"type\":\"HelpTool\"},{\"id\":\"1186\",\"type\":\"HoverTool\"},{\"id\":\"1226\",\"type\":\"PanTool\"},{\"id\":\"1227\",\"type\":\"WheelZoomTool\"},{\"id\":\"1228\",\"type\":\"BoxZoomTool\"},{\"id\":\"1229\",\"type\":\"SaveTool\"},{\"id\":\"1230\",\"type\":\"ResetTool\"},{\"id\":\"1231\",\"type\":\"HelpTool\"},{\"id\":\"1240\",\"type\":\"HoverTool\"},{\"id\":\"1280\",\"type\":\"PanTool\"},{\"id\":\"1281\",\"type\":\"WheelZoomTool\"},{\"id\":\"1282\",\"type\":\"BoxZoomTool\"},{\"id\":\"1283\",\"type\":\"SaveTool\"},{\"id\":\"1284\",\"type\":\"ResetTool\"},{\"id\":\"1285\",\"type\":\"HelpTool\"},{\"id\":\"1294\",\"type\":\"HoverTool\"}]},\"id\":\"1358\",\"type\":\"ProxyToolbar\"},{\"attributes\":{},\"id\":\"1175\",\"type\":\"SaveTool\"},{\"attributes\":{\"column_name\":\"label\",\"group\":\"false\"},\"id\":\"1297\",\"type\":\"GroupFilter\"},{\"attributes\":{\"click_policy\":\"hide\",\"items\":[{\"id\":\"1309\",\"type\":\"LegendItem\"},{\"id\":\"1310\",\"type\":\"LegendItem\"}]},\"id\":\"1311\",\"type\":\"Legend\"},{\"attributes\":{},\"id\":\"1217\",\"type\":\"BasicTicker\"},{\"attributes\":{},\"id\":\"1271\",\"type\":\"BasicTicker\"},{\"attributes\":{},\"id\":\"1214\",\"type\":\"LinearScale\"}],\"root_ids\":[\"1360\"]},\"title\":\"Bokeh Application\",\"version\":\"1.2.0\"}};\n",
       "  var render_items = [{\"docid\":\"84e39b45-86c1-44ec-984a-d4cc7cbcba98\",\"roots\":{\"1360\":\"d7ee33ab-f65e-4bee-a775-0a2077a2cb8c\"}}];\n",
       "  root.Bokeh.embed.embed_items_notebook(docs_json, render_items);\n",
       "\n",
       "  }\n",
       "  if (root.Bokeh !== undefined) {\n",
       "    embed_document(root);\n",
       "  } else {\n",
       "    var attempts = 0;\n",
       "    var timer = setInterval(function(root) {\n",
       "      if (root.Bokeh !== undefined) {\n",
       "        embed_document(root);\n",
       "        clearInterval(timer);\n",
       "      }\n",
       "      attempts++;\n",
       "      if (attempts > 100) {\n",
       "        console.log(\"Bokeh: ERROR: Unable to run BokehJS code because BokehJS library is missing\");\n",
       "        clearInterval(timer);\n",
       "      }\n",
       "    }, 10, root)\n",
       "  }\n",
       "})(window);"
      ],
      "application/vnd.bokehjs_exec.v0+json": ""
     },
     "metadata": {
      "application/vnd.bokehjs_exec.v0+json": {
       "id": "1360"
      }
     },
     "output_type": "display_data"
    }
   ],
   "source": [
    "show(gridplot(plot_list, ncols=2, plot_width=600, plot_height=400))"
   ]
  },
  {
   "cell_type": "markdown",
   "metadata": {},
   "source": [
    "There seems to be nothing abnormal with these samples with disconcordant imputed sex and self-reported gender. We will therefore trust that our computation is correct, and keep the samples."
   ]
  }
 ],
 "metadata": {
  "kernelspec": {
   "display_name": "Python [conda env:fargen-1-exome]",
   "language": "python",
   "name": "conda-env-fargen-1-exome-py"
  },
  "language_info": {
   "codemirror_mode": {
    "name": "ipython",
    "version": 3
   },
   "file_extension": ".py",
   "mimetype": "text/x-python",
   "name": "python",
   "nbconvert_exporter": "python",
   "pygments_lexer": "ipython3",
   "version": "3.7.10"
  }
 },
 "nbformat": 4,
 "nbformat_minor": 4
}
