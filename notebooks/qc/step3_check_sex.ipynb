{
 "cells": [
  {
   "cell_type": "markdown",
   "metadata": {},
   "source": [
    "# Sex check\n",
    "\n",
    "We will impute the sex of each sample, and compare this with the self-reported gender.\n",
    "\n",
    "Note the distinction between 'sex' and 'gender' used here: 'sex' refers to the genetic sex, where 'gender' is self-reported. We impute the sex by testing for the presence of a Y chromosome. The gender is obtained from a questionaire given to participants before a blood sample is drawn."
   ]
  },
  {
   "cell_type": "code",
   "execution_count": 2,
   "metadata": {},
   "outputs": [
    {
     "name": "stderr",
     "output_type": "stream",
     "text": [
      "Running on Apache Spark version 2.4.1\n",
      "SparkUI available at http://hms-beagle-848846b477-48ks9:4040\n",
      "Welcome to\n",
      "     __  __     <>__\n",
      "    / /_/ /__  __/ /\n",
      "   / __  / _ `/ / /\n",
      "  /_/ /_/\\_,_/_/_/   version 0.2.61-3c86d3ba497a\n",
      "LOGGING: writing to /home/olavur/experiments/2020-11-13_fargen1_exome_analysis/fargen-1-exome/notebooks/qc/hail-20210607-1119-0.2.61-3c86d3ba497a.log\n"
     ]
    }
   ],
   "source": [
    "import hail as hl\n",
    "hl.init(spark_conf={'spark.driver.memory': '10g'}, tmp_dir='/home/olavur/tmp')"
   ]
  },
  {
   "cell_type": "code",
   "execution_count": 3,
   "metadata": {},
   "outputs": [
    {
     "data": {
      "text/html": [
       "\n",
       "    <div class=\"bk-root\">\n",
       "        <a href=\"https://bokeh.pydata.org\" target=\"_blank\" class=\"bk-logo bk-logo-small bk-logo-notebook\"></a>\n",
       "        <span id=\"1001\">Loading BokehJS ...</span>\n",
       "    </div>"
      ]
     },
     "metadata": {},
     "output_type": "display_data"
    },
    {
     "data": {
      "application/javascript": [
       "\n",
       "(function(root) {\n",
       "  function now() {\n",
       "    return new Date();\n",
       "  }\n",
       "\n",
       "  var force = true;\n",
       "\n",
       "  if (typeof root._bokeh_onload_callbacks === \"undefined\" || force === true) {\n",
       "    root._bokeh_onload_callbacks = [];\n",
       "    root._bokeh_is_loading = undefined;\n",
       "  }\n",
       "\n",
       "  var JS_MIME_TYPE = 'application/javascript';\n",
       "  var HTML_MIME_TYPE = 'text/html';\n",
       "  var EXEC_MIME_TYPE = 'application/vnd.bokehjs_exec.v0+json';\n",
       "  var CLASS_NAME = 'output_bokeh rendered_html';\n",
       "\n",
       "  /**\n",
       "   * Render data to the DOM node\n",
       "   */\n",
       "  function render(props, node) {\n",
       "    var script = document.createElement(\"script\");\n",
       "    node.appendChild(script);\n",
       "  }\n",
       "\n",
       "  /**\n",
       "   * Handle when an output is cleared or removed\n",
       "   */\n",
       "  function handleClearOutput(event, handle) {\n",
       "    var cell = handle.cell;\n",
       "\n",
       "    var id = cell.output_area._bokeh_element_id;\n",
       "    var server_id = cell.output_area._bokeh_server_id;\n",
       "    // Clean up Bokeh references\n",
       "    if (id != null && id in Bokeh.index) {\n",
       "      Bokeh.index[id].model.document.clear();\n",
       "      delete Bokeh.index[id];\n",
       "    }\n",
       "\n",
       "    if (server_id !== undefined) {\n",
       "      // Clean up Bokeh references\n",
       "      var cmd = \"from bokeh.io.state import curstate; print(curstate().uuid_to_server['\" + server_id + \"'].get_sessions()[0].document.roots[0]._id)\";\n",
       "      cell.notebook.kernel.execute(cmd, {\n",
       "        iopub: {\n",
       "          output: function(msg) {\n",
       "            var id = msg.content.text.trim();\n",
       "            if (id in Bokeh.index) {\n",
       "              Bokeh.index[id].model.document.clear();\n",
       "              delete Bokeh.index[id];\n",
       "            }\n",
       "          }\n",
       "        }\n",
       "      });\n",
       "      // Destroy server and session\n",
       "      var cmd = \"import bokeh.io.notebook as ion; ion.destroy_server('\" + server_id + \"')\";\n",
       "      cell.notebook.kernel.execute(cmd);\n",
       "    }\n",
       "  }\n",
       "\n",
       "  /**\n",
       "   * Handle when a new output is added\n",
       "   */\n",
       "  function handleAddOutput(event, handle) {\n",
       "    var output_area = handle.output_area;\n",
       "    var output = handle.output;\n",
       "\n",
       "    // limit handleAddOutput to display_data with EXEC_MIME_TYPE content only\n",
       "    if ((output.output_type != \"display_data\") || (!output.data.hasOwnProperty(EXEC_MIME_TYPE))) {\n",
       "      return\n",
       "    }\n",
       "\n",
       "    var toinsert = output_area.element.find(\".\" + CLASS_NAME.split(' ')[0]);\n",
       "\n",
       "    if (output.metadata[EXEC_MIME_TYPE][\"id\"] !== undefined) {\n",
       "      toinsert[toinsert.length - 1].firstChild.textContent = output.data[JS_MIME_TYPE];\n",
       "      // store reference to embed id on output_area\n",
       "      output_area._bokeh_element_id = output.metadata[EXEC_MIME_TYPE][\"id\"];\n",
       "    }\n",
       "    if (output.metadata[EXEC_MIME_TYPE][\"server_id\"] !== undefined) {\n",
       "      var bk_div = document.createElement(\"div\");\n",
       "      bk_div.innerHTML = output.data[HTML_MIME_TYPE];\n",
       "      var script_attrs = bk_div.children[0].attributes;\n",
       "      for (var i = 0; i < script_attrs.length; i++) {\n",
       "        toinsert[toinsert.length - 1].firstChild.setAttribute(script_attrs[i].name, script_attrs[i].value);\n",
       "      }\n",
       "      // store reference to server id on output_area\n",
       "      output_area._bokeh_server_id = output.metadata[EXEC_MIME_TYPE][\"server_id\"];\n",
       "    }\n",
       "  }\n",
       "\n",
       "  function register_renderer(events, OutputArea) {\n",
       "\n",
       "    function append_mime(data, metadata, element) {\n",
       "      // create a DOM node to render to\n",
       "      var toinsert = this.create_output_subarea(\n",
       "        metadata,\n",
       "        CLASS_NAME,\n",
       "        EXEC_MIME_TYPE\n",
       "      );\n",
       "      this.keyboard_manager.register_events(toinsert);\n",
       "      // Render to node\n",
       "      var props = {data: data, metadata: metadata[EXEC_MIME_TYPE]};\n",
       "      render(props, toinsert[toinsert.length - 1]);\n",
       "      element.append(toinsert);\n",
       "      return toinsert\n",
       "    }\n",
       "\n",
       "    /* Handle when an output is cleared or removed */\n",
       "    events.on('clear_output.CodeCell', handleClearOutput);\n",
       "    events.on('delete.Cell', handleClearOutput);\n",
       "\n",
       "    /* Handle when a new output is added */\n",
       "    events.on('output_added.OutputArea', handleAddOutput);\n",
       "\n",
       "    /**\n",
       "     * Register the mime type and append_mime function with output_area\n",
       "     */\n",
       "    OutputArea.prototype.register_mime_type(EXEC_MIME_TYPE, append_mime, {\n",
       "      /* Is output safe? */\n",
       "      safe: true,\n",
       "      /* Index of renderer in `output_area.display_order` */\n",
       "      index: 0\n",
       "    });\n",
       "  }\n",
       "\n",
       "  // register the mime type if in Jupyter Notebook environment and previously unregistered\n",
       "  if (root.Jupyter !== undefined) {\n",
       "    var events = require('base/js/events');\n",
       "    var OutputArea = require('notebook/js/outputarea').OutputArea;\n",
       "\n",
       "    if (OutputArea.prototype.mime_types().indexOf(EXEC_MIME_TYPE) == -1) {\n",
       "      register_renderer(events, OutputArea);\n",
       "    }\n",
       "  }\n",
       "\n",
       "  \n",
       "  if (typeof (root._bokeh_timeout) === \"undefined\" || force === true) {\n",
       "    root._bokeh_timeout = Date.now() + 5000;\n",
       "    root._bokeh_failed_load = false;\n",
       "  }\n",
       "\n",
       "  var NB_LOAD_WARNING = {'data': {'text/html':\n",
       "     \"<div style='background-color: #fdd'>\\n\"+\n",
       "     \"<p>\\n\"+\n",
       "     \"BokehJS does not appear to have successfully loaded. If loading BokehJS from CDN, this \\n\"+\n",
       "     \"may be due to a slow or bad network connection. Possible fixes:\\n\"+\n",
       "     \"</p>\\n\"+\n",
       "     \"<ul>\\n\"+\n",
       "     \"<li>re-rerun `output_notebook()` to attempt to load from CDN again, or</li>\\n\"+\n",
       "     \"<li>use INLINE resources instead, as so:</li>\\n\"+\n",
       "     \"</ul>\\n\"+\n",
       "     \"<code>\\n\"+\n",
       "     \"from bokeh.resources import INLINE\\n\"+\n",
       "     \"output_notebook(resources=INLINE)\\n\"+\n",
       "     \"</code>\\n\"+\n",
       "     \"</div>\"}};\n",
       "\n",
       "  function display_loaded() {\n",
       "    var el = document.getElementById(\"1001\");\n",
       "    if (el != null) {\n",
       "      el.textContent = \"BokehJS is loading...\";\n",
       "    }\n",
       "    if (root.Bokeh !== undefined) {\n",
       "      if (el != null) {\n",
       "        el.textContent = \"BokehJS \" + root.Bokeh.version + \" successfully loaded.\";\n",
       "      }\n",
       "    } else if (Date.now() < root._bokeh_timeout) {\n",
       "      setTimeout(display_loaded, 100)\n",
       "    }\n",
       "  }\n",
       "\n",
       "\n",
       "  function run_callbacks() {\n",
       "    try {\n",
       "      root._bokeh_onload_callbacks.forEach(function(callback) {\n",
       "        if (callback != null)\n",
       "          callback();\n",
       "      });\n",
       "    } finally {\n",
       "      delete root._bokeh_onload_callbacks\n",
       "    }\n",
       "    console.debug(\"Bokeh: all callbacks have finished\");\n",
       "  }\n",
       "\n",
       "  function load_libs(css_urls, js_urls, callback) {\n",
       "    if (css_urls == null) css_urls = [];\n",
       "    if (js_urls == null) js_urls = [];\n",
       "\n",
       "    root._bokeh_onload_callbacks.push(callback);\n",
       "    if (root._bokeh_is_loading > 0) {\n",
       "      console.debug(\"Bokeh: BokehJS is being loaded, scheduling callback at\", now());\n",
       "      return null;\n",
       "    }\n",
       "    if (js_urls == null || js_urls.length === 0) {\n",
       "      run_callbacks();\n",
       "      return null;\n",
       "    }\n",
       "    console.debug(\"Bokeh: BokehJS not loaded, scheduling load and callback at\", now());\n",
       "    root._bokeh_is_loading = css_urls.length + js_urls.length;\n",
       "\n",
       "    function on_load() {\n",
       "      root._bokeh_is_loading--;\n",
       "      if (root._bokeh_is_loading === 0) {\n",
       "        console.debug(\"Bokeh: all BokehJS libraries/stylesheets loaded\");\n",
       "        run_callbacks()\n",
       "      }\n",
       "    }\n",
       "\n",
       "    function on_error() {\n",
       "      console.error(\"failed to load \" + url);\n",
       "    }\n",
       "\n",
       "    for (var i = 0; i < css_urls.length; i++) {\n",
       "      var url = css_urls[i];\n",
       "      const element = document.createElement(\"link\");\n",
       "      element.onload = on_load;\n",
       "      element.onerror = on_error;\n",
       "      element.rel = \"stylesheet\";\n",
       "      element.type = \"text/css\";\n",
       "      element.href = url;\n",
       "      console.debug(\"Bokeh: injecting link tag for BokehJS stylesheet: \", url);\n",
       "      document.body.appendChild(element);\n",
       "    }\n",
       "\n",
       "    for (var i = 0; i < js_urls.length; i++) {\n",
       "      var url = js_urls[i];\n",
       "      var element = document.createElement('script');\n",
       "      element.onload = on_load;\n",
       "      element.onerror = on_error;\n",
       "      element.async = false;\n",
       "      element.src = url;\n",
       "      console.debug(\"Bokeh: injecting script tag for BokehJS library: \", url);\n",
       "      document.head.appendChild(element);\n",
       "    }\n",
       "  };var element = document.getElementById(\"1001\");\n",
       "  if (element == null) {\n",
       "    console.error(\"Bokeh: ERROR: autoload.js configured with elementid '1001' but no matching script tag was found. \")\n",
       "    return false;\n",
       "  }\n",
       "\n",
       "  function inject_raw_css(css) {\n",
       "    const element = document.createElement(\"style\");\n",
       "    element.appendChild(document.createTextNode(css));\n",
       "    document.body.appendChild(element);\n",
       "  }\n",
       "\n",
       "  var js_urls = [\"https://cdn.pydata.org/bokeh/release/bokeh-1.2.0.min.js\", \"https://cdn.pydata.org/bokeh/release/bokeh-widgets-1.2.0.min.js\", \"https://cdn.pydata.org/bokeh/release/bokeh-tables-1.2.0.min.js\", \"https://cdn.pydata.org/bokeh/release/bokeh-gl-1.2.0.min.js\"];\n",
       "  var css_urls = [\"https://cdn.pydata.org/bokeh/release/bokeh-1.2.0.min.css\", \"https://cdn.pydata.org/bokeh/release/bokeh-widgets-1.2.0.min.css\", \"https://cdn.pydata.org/bokeh/release/bokeh-tables-1.2.0.min.css\"];\n",
       "\n",
       "  var inline_js = [\n",
       "    function(Bokeh) {\n",
       "      Bokeh.set_log_level(\"info\");\n",
       "    },\n",
       "    \n",
       "    function(Bokeh) {\n",
       "      \n",
       "    },\n",
       "    function(Bokeh) {} // ensure no trailing comma for IE\n",
       "  ];\n",
       "\n",
       "  function run_inline_js() {\n",
       "    \n",
       "    if ((root.Bokeh !== undefined) || (force === true)) {\n",
       "      for (var i = 0; i < inline_js.length; i++) {\n",
       "        inline_js[i].call(root, root.Bokeh);\n",
       "      }if (force === true) {\n",
       "        display_loaded();\n",
       "      }} else if (Date.now() < root._bokeh_timeout) {\n",
       "      setTimeout(run_inline_js, 100);\n",
       "    } else if (!root._bokeh_failed_load) {\n",
       "      console.log(\"Bokeh: BokehJS failed to load within specified timeout.\");\n",
       "      root._bokeh_failed_load = true;\n",
       "    } else if (force !== true) {\n",
       "      var cell = $(document.getElementById(\"1001\")).parents('.cell').data().cell;\n",
       "      cell.output_area.append_execute_result(NB_LOAD_WARNING)\n",
       "    }\n",
       "\n",
       "  }\n",
       "\n",
       "  if (root._bokeh_is_loading === 0) {\n",
       "    console.debug(\"Bokeh: BokehJS loaded, going straight to plotting\");\n",
       "    run_inline_js();\n",
       "  } else {\n",
       "    load_libs(css_urls, js_urls, function() {\n",
       "      console.debug(\"Bokeh: BokehJS plotting callback run at\", now());\n",
       "      run_inline_js();\n",
       "    });\n",
       "  }\n",
       "}(window));"
      ],
      "application/vnd.bokehjs_load.v0+json": "\n(function(root) {\n  function now() {\n    return new Date();\n  }\n\n  var force = true;\n\n  if (typeof root._bokeh_onload_callbacks === \"undefined\" || force === true) {\n    root._bokeh_onload_callbacks = [];\n    root._bokeh_is_loading = undefined;\n  }\n\n  \n\n  \n  if (typeof (root._bokeh_timeout) === \"undefined\" || force === true) {\n    root._bokeh_timeout = Date.now() + 5000;\n    root._bokeh_failed_load = false;\n  }\n\n  var NB_LOAD_WARNING = {'data': {'text/html':\n     \"<div style='background-color: #fdd'>\\n\"+\n     \"<p>\\n\"+\n     \"BokehJS does not appear to have successfully loaded. If loading BokehJS from CDN, this \\n\"+\n     \"may be due to a slow or bad network connection. Possible fixes:\\n\"+\n     \"</p>\\n\"+\n     \"<ul>\\n\"+\n     \"<li>re-rerun `output_notebook()` to attempt to load from CDN again, or</li>\\n\"+\n     \"<li>use INLINE resources instead, as so:</li>\\n\"+\n     \"</ul>\\n\"+\n     \"<code>\\n\"+\n     \"from bokeh.resources import INLINE\\n\"+\n     \"output_notebook(resources=INLINE)\\n\"+\n     \"</code>\\n\"+\n     \"</div>\"}};\n\n  function display_loaded() {\n    var el = document.getElementById(\"1001\");\n    if (el != null) {\n      el.textContent = \"BokehJS is loading...\";\n    }\n    if (root.Bokeh !== undefined) {\n      if (el != null) {\n        el.textContent = \"BokehJS \" + root.Bokeh.version + \" successfully loaded.\";\n      }\n    } else if (Date.now() < root._bokeh_timeout) {\n      setTimeout(display_loaded, 100)\n    }\n  }\n\n\n  function run_callbacks() {\n    try {\n      root._bokeh_onload_callbacks.forEach(function(callback) {\n        if (callback != null)\n          callback();\n      });\n    } finally {\n      delete root._bokeh_onload_callbacks\n    }\n    console.debug(\"Bokeh: all callbacks have finished\");\n  }\n\n  function load_libs(css_urls, js_urls, callback) {\n    if (css_urls == null) css_urls = [];\n    if (js_urls == null) js_urls = [];\n\n    root._bokeh_onload_callbacks.push(callback);\n    if (root._bokeh_is_loading > 0) {\n      console.debug(\"Bokeh: BokehJS is being loaded, scheduling callback at\", now());\n      return null;\n    }\n    if (js_urls == null || js_urls.length === 0) {\n      run_callbacks();\n      return null;\n    }\n    console.debug(\"Bokeh: BokehJS not loaded, scheduling load and callback at\", now());\n    root._bokeh_is_loading = css_urls.length + js_urls.length;\n\n    function on_load() {\n      root._bokeh_is_loading--;\n      if (root._bokeh_is_loading === 0) {\n        console.debug(\"Bokeh: all BokehJS libraries/stylesheets loaded\");\n        run_callbacks()\n      }\n    }\n\n    function on_error() {\n      console.error(\"failed to load \" + url);\n    }\n\n    for (var i = 0; i < css_urls.length; i++) {\n      var url = css_urls[i];\n      const element = document.createElement(\"link\");\n      element.onload = on_load;\n      element.onerror = on_error;\n      element.rel = \"stylesheet\";\n      element.type = \"text/css\";\n      element.href = url;\n      console.debug(\"Bokeh: injecting link tag for BokehJS stylesheet: \", url);\n      document.body.appendChild(element);\n    }\n\n    for (var i = 0; i < js_urls.length; i++) {\n      var url = js_urls[i];\n      var element = document.createElement('script');\n      element.onload = on_load;\n      element.onerror = on_error;\n      element.async = false;\n      element.src = url;\n      console.debug(\"Bokeh: injecting script tag for BokehJS library: \", url);\n      document.head.appendChild(element);\n    }\n  };var element = document.getElementById(\"1001\");\n  if (element == null) {\n    console.error(\"Bokeh: ERROR: autoload.js configured with elementid '1001' but no matching script tag was found. \")\n    return false;\n  }\n\n  function inject_raw_css(css) {\n    const element = document.createElement(\"style\");\n    element.appendChild(document.createTextNode(css));\n    document.body.appendChild(element);\n  }\n\n  var js_urls = [\"https://cdn.pydata.org/bokeh/release/bokeh-1.2.0.min.js\", \"https://cdn.pydata.org/bokeh/release/bokeh-widgets-1.2.0.min.js\", \"https://cdn.pydata.org/bokeh/release/bokeh-tables-1.2.0.min.js\", \"https://cdn.pydata.org/bokeh/release/bokeh-gl-1.2.0.min.js\"];\n  var css_urls = [\"https://cdn.pydata.org/bokeh/release/bokeh-1.2.0.min.css\", \"https://cdn.pydata.org/bokeh/release/bokeh-widgets-1.2.0.min.css\", \"https://cdn.pydata.org/bokeh/release/bokeh-tables-1.2.0.min.css\"];\n\n  var inline_js = [\n    function(Bokeh) {\n      Bokeh.set_log_level(\"info\");\n    },\n    \n    function(Bokeh) {\n      \n    },\n    function(Bokeh) {} // ensure no trailing comma for IE\n  ];\n\n  function run_inline_js() {\n    \n    if ((root.Bokeh !== undefined) || (force === true)) {\n      for (var i = 0; i < inline_js.length; i++) {\n        inline_js[i].call(root, root.Bokeh);\n      }if (force === true) {\n        display_loaded();\n      }} else if (Date.now() < root._bokeh_timeout) {\n      setTimeout(run_inline_js, 100);\n    } else if (!root._bokeh_failed_load) {\n      console.log(\"Bokeh: BokehJS failed to load within specified timeout.\");\n      root._bokeh_failed_load = true;\n    } else if (force !== true) {\n      var cell = $(document.getElementById(\"1001\")).parents('.cell').data().cell;\n      cell.output_area.append_execute_result(NB_LOAD_WARNING)\n    }\n\n  }\n\n  if (root._bokeh_is_loading === 0) {\n    console.debug(\"Bokeh: BokehJS loaded, going straight to plotting\");\n    run_inline_js();\n  } else {\n    load_libs(css_urls, js_urls, function() {\n      console.debug(\"Bokeh: BokehJS plotting callback run at\", now());\n      run_inline_js();\n    });\n  }\n}(window));"
     },
     "metadata": {},
     "output_type": "display_data"
    }
   ],
   "source": [
    "from bokeh.io import show, output_notebook\n",
    "from bokeh.layouts import gridplot\n",
    "from bokeh.models.scales import LogScale\n",
    "output_notebook()"
   ]
  },
  {
   "cell_type": "code",
   "execution_count": 4,
   "metadata": {},
   "outputs": [],
   "source": [
    "import pandas as pd"
   ]
  },
  {
   "cell_type": "code",
   "execution_count": 5,
   "metadata": {},
   "outputs": [],
   "source": [
    "BASE_DIR = '/home/olavur/experiments/2020-11-13_fargen1_exome_analysis'"
   ]
  },
  {
   "cell_type": "markdown",
   "metadata": {},
   "source": [
    "## Load FarGen exome data\n",
    "\n",
    "Load filtered, high-quality, variants."
   ]
  },
  {
   "cell_type": "code",
   "execution_count": 6,
   "metadata": {},
   "outputs": [],
   "source": [
    "mt = hl.read_matrix_table(BASE_DIR + '/data/mt/high_quality_variants.mt/')"
   ]
  },
  {
   "cell_type": "code",
   "execution_count": 7,
   "metadata": {},
   "outputs": [
    {
     "name": "stdout",
     "output_type": "stream",
     "text": [
      "Number of variants: 1146382\n",
      "Number of samples: 468\n"
     ]
    }
   ],
   "source": [
    "n_variants, n_samples = mt.count()\n",
    "print('Number of variants: ' + str(n_variants))\n",
    "print('Number of samples: ' + str(n_samples))"
   ]
  },
  {
   "cell_type": "markdown",
   "metadata": {},
   "source": [
    "## Impute sex\n",
    "\n",
    "We impute the sex of the samples by computing the inbreeding coefficient (F) on the X chromosome. This inbreeding coefficient is calculated as $F = \\frac{O - E}{N-E}$ where $O$ is the observed number of homozygotes, $E$ is the expected number of homozygotes, and $N$ is the number of non-missing genotype calls. The expected number of homozygotes is calculated as $E = 1 - 2 f (1 - f)$ where $f$ is the minor-allel frequency.\n",
    "\n",
    "NOTE: the sex imputation method requires diallelic sites."
   ]
  },
  {
   "cell_type": "code",
   "execution_count": 8,
   "metadata": {},
   "outputs": [],
   "source": [
    "mt = mt.filter_rows(hl.len(mt.alleles) == 2)"
   ]
  },
  {
   "cell_type": "code",
   "execution_count": 9,
   "metadata": {},
   "outputs": [
    {
     "name": "stderr",
     "output_type": "stream",
     "text": [
      "2021-06-07 11:30:20 Hail: WARN: cols(): Resulting column table is sorted by 'col_key'.\n",
      "    To preserve matrix table column order, first unkey columns with 'key_cols_by()'\n"
     ]
    }
   ],
   "source": [
    "imputed_sex_ht = hl.impute_sex(mt.GT)"
   ]
  },
  {
   "cell_type": "markdown",
   "metadata": {},
   "source": [
    "Below we've plotted the inbreeding coefficient, and there is a quite clear clustering of individuals."
   ]
  },
  {
   "cell_type": "code",
   "execution_count": 10,
   "metadata": {},
   "outputs": [
    {
     "data": {
      "text/html": [
       "\n",
       "\n",
       "\n",
       "\n",
       "\n",
       "\n",
       "  <div class=\"bk-root\" id=\"85a06a9e-781f-4900-bb42-7079eb4801ed\" data-root-id=\"1002\"></div>\n"
      ]
     },
     "metadata": {},
     "output_type": "display_data"
    },
    {
     "data": {
      "application/javascript": [
       "(function(root) {\n",
       "  function embed_document(root) {\n",
       "    \n",
       "  var docs_json = {\"48388a37-902c-4367-8b78-12f6d53a1079\":{\"roots\":{\"references\":[{\"attributes\":{\"background_fill_color\":{\"value\":\"#EEEEEE\"},\"below\":[{\"id\":\"1013\",\"type\":\"LinearAxis\"}],\"center\":[{\"id\":\"1017\",\"type\":\"Grid\"},{\"id\":\"1022\",\"type\":\"Grid\"}],\"left\":[{\"id\":\"1018\",\"type\":\"LinearAxis\"}],\"plot_height\":500,\"plot_width\":800,\"renderers\":[{\"id\":\"1039\",\"type\":\"GlyphRenderer\"}],\"title\":{\"id\":\"1003\",\"type\":\"Title\"},\"toolbar\":{\"id\":\"1029\",\"type\":\"Toolbar\"},\"x_range\":{\"id\":\"1005\",\"type\":\"Range1d\"},\"x_scale\":{\"id\":\"1009\",\"type\":\"LinearScale\"},\"y_range\":{\"id\":\"1007\",\"type\":\"DataRange1d\"},\"y_scale\":{\"id\":\"1011\",\"type\":\"LinearScale\"}},\"id\":\"1002\",\"subtype\":\"Figure\",\"type\":\"Plot\"},{\"attributes\":{},\"id\":\"1023\",\"type\":\"PanTool\"},{\"attributes\":{},\"id\":\"1026\",\"type\":\"SaveTool\"},{\"attributes\":{\"formatter\":{\"id\":\"1043\",\"type\":\"BasicTickFormatter\"},\"ticker\":{\"id\":\"1014\",\"type\":\"BasicTicker\"}},\"id\":\"1013\",\"type\":\"LinearAxis\"},{\"attributes\":{\"overlay\":{\"id\":\"1048\",\"type\":\"BoxAnnotation\"}},\"id\":\"1025\",\"type\":\"BoxZoomTool\"},{\"attributes\":{},\"id\":\"1024\",\"type\":\"WheelZoomTool\"},{\"attributes\":{},\"id\":\"1043\",\"type\":\"BasicTickFormatter\"},{\"attributes\":{},\"id\":\"1028\",\"type\":\"HelpTool\"},{\"attributes\":{},\"id\":\"1019\",\"type\":\"BasicTicker\"},{\"attributes\":{},\"id\":\"1045\",\"type\":\"BasicTickFormatter\"},{\"attributes\":{\"callback\":null},\"id\":\"1007\",\"type\":\"DataRange1d\"},{\"attributes\":{\"bottom_units\":\"screen\",\"fill_alpha\":{\"value\":0.5},\"fill_color\":{\"value\":\"lightgrey\"},\"left_units\":\"screen\",\"level\":\"overlay\",\"line_alpha\":{\"value\":1.0},\"line_color\":{\"value\":\"black\"},\"line_dash\":[4,4],\"line_width\":{\"value\":2},\"render_mode\":\"css\",\"right_units\":\"screen\",\"top_units\":\"screen\"},\"id\":\"1048\",\"type\":\"BoxAnnotation\"},{\"attributes\":{\"active_drag\":\"auto\",\"active_inspect\":\"auto\",\"active_multi\":null,\"active_scroll\":\"auto\",\"active_tap\":\"auto\",\"tools\":[{\"id\":\"1023\",\"type\":\"PanTool\"},{\"id\":\"1024\",\"type\":\"WheelZoomTool\"},{\"id\":\"1025\",\"type\":\"BoxZoomTool\"},{\"id\":\"1026\",\"type\":\"SaveTool\"},{\"id\":\"1027\",\"type\":\"ResetTool\"},{\"id\":\"1028\",\"type\":\"HelpTool\"}]},\"id\":\"1029\",\"type\":\"Toolbar\"},{\"attributes\":{},\"id\":\"1014\",\"type\":\"BasicTicker\"},{\"attributes\":{\"ticker\":{\"id\":\"1014\",\"type\":\"BasicTicker\"}},\"id\":\"1017\",\"type\":\"Grid\"},{\"attributes\":{\"dimension\":1,\"ticker\":{\"id\":\"1019\",\"type\":\"BasicTicker\"}},\"id\":\"1022\",\"type\":\"Grid\"},{\"attributes\":{},\"id\":\"1009\",\"type\":\"LinearScale\"},{\"attributes\":{\"callback\":null,\"end\":0.9341704293042064,\"start\":-0.39407726035625534},\"id\":\"1005\",\"type\":\"Range1d\"},{\"attributes\":{\"callback\":null,\"data\":{\"left\":[-0.3337023653716889,-0.3095524073778623,-0.28540244938403575,-0.2612524913902092,-0.2371025333963826,-0.21295257540255602,-0.18880261740872945,-0.16465265941490287,-0.1405027014210763,-0.11635274342724972,-0.09220278543342314,-0.06805282743959656,-0.04390286944576999,-0.01975291145194341,0.004397046541883165,0.02854700453570974,0.05269696252953632,0.0768469205233629,0.10099687851718947,0.12514683651101605,0.14929679450484262,0.1734467524986692,0.19759671049249578,0.22174666848632235,0.24589662648014893,0.2700465844739755,0.2941965424678021,0.31834650046162866,0.34249645845545523,0.3666464164492818,0.3907963744431084,0.41494633243693496,0.43909629043076154,0.4632462484245881,0.4873962064184147,0.5115461644122412,0.5356961224060679,0.5598460803998944,0.583996038393721,0.6081459963875475,0.6322959543813742,0.6564459123752007,0.6805958703690274,0.704745828362854,0.7288957863566805,0.753045744350507,0.7771957023443337,0.8013456603381603,0.8254956183319868,0.8496455763258133],\"right\":[-0.3095524073778623,-0.28540244938403575,-0.2612524913902092,-0.2371025333963826,-0.21295257540255602,-0.18880261740872945,-0.16465265941490287,-0.1405027014210763,-0.11635274342724972,-0.09220278543342314,-0.06805282743959656,-0.04390286944576999,-0.01975291145194341,0.004397046541883165,0.02854700453570974,0.05269696252953632,0.0768469205233629,0.10099687851718947,0.12514683651101605,0.14929679450484262,0.1734467524986692,0.19759671049249578,0.22174666848632235,0.24589662648014893,0.2700465844739755,0.2941965424678021,0.31834650046162866,0.34249645845545523,0.3666464164492818,0.3907963744431084,0.41494633243693496,0.43909629043076154,0.4632462484245881,0.4873962064184147,0.5115461644122412,0.5356961224060679,0.5598460803998944,0.583996038393721,0.6081459963875475,0.6322959543813742,0.6564459123752007,0.6805958703690274,0.704745828362854,0.7288957863566805,0.753045744350507,0.7771957023443337,0.8013456603381603,0.8254956183319868,0.8496455763258133,0.87379553431964],\"top\":[1,0,0,0,0,3,1,5,6,9,17,23,31,41,19,43,26,18,16,9,5,2,1,1,0,0,0,0,0,0,0,0,0,0,1,1,3,0,0,2,9,10,12,20,25,23,31,27,19,8]},\"selected\":{\"id\":\"1046\",\"type\":\"Selection\"},\"selection_policy\":{\"id\":\"1047\",\"type\":\"UnionRenderers\"}},\"id\":\"1036\",\"type\":\"ColumnDataSource\"},{\"attributes\":{\"text\":\"Inbreeding coefficient (F) computed on the X chromosome\"},\"id\":\"1003\",\"type\":\"Title\"},{\"attributes\":{\"source\":{\"id\":\"1036\",\"type\":\"ColumnDataSource\"}},\"id\":\"1040\",\"type\":\"CDSView\"},{\"attributes\":{\"data_source\":{\"id\":\"1036\",\"type\":\"ColumnDataSource\"},\"glyph\":{\"id\":\"1037\",\"type\":\"Quad\"},\"hover_glyph\":null,\"muted_glyph\":null,\"nonselection_glyph\":{\"id\":\"1038\",\"type\":\"Quad\"},\"selection_glyph\":null,\"view\":{\"id\":\"1040\",\"type\":\"CDSView\"}},\"id\":\"1039\",\"type\":\"GlyphRenderer\"},{\"attributes\":{},\"id\":\"1011\",\"type\":\"LinearScale\"},{\"attributes\":{\"bottom\":{\"value\":0},\"fill_alpha\":{\"value\":0.1},\"fill_color\":{\"value\":\"#1f77b4\"},\"left\":{\"field\":\"left\"},\"line_alpha\":{\"value\":0.1},\"line_color\":{\"value\":\"#1f77b4\"},\"right\":{\"field\":\"right\"},\"top\":{\"field\":\"top\"}},\"id\":\"1038\",\"type\":\"Quad\"},{\"attributes\":{},\"id\":\"1046\",\"type\":\"Selection\"},{\"attributes\":{\"bottom\":{\"value\":0},\"fill_color\":{\"value\":\"#1f77b4\"},\"left\":{\"field\":\"left\"},\"right\":{\"field\":\"right\"},\"top\":{\"field\":\"top\"}},\"id\":\"1037\",\"type\":\"Quad\"},{\"attributes\":{},\"id\":\"1047\",\"type\":\"UnionRenderers\"},{\"attributes\":{},\"id\":\"1027\",\"type\":\"ResetTool\"},{\"attributes\":{\"axis_label\":\"Frequency\",\"formatter\":{\"id\":\"1045\",\"type\":\"BasicTickFormatter\"},\"ticker\":{\"id\":\"1019\",\"type\":\"BasicTicker\"}},\"id\":\"1018\",\"type\":\"LinearAxis\"}],\"root_ids\":[\"1002\"]},\"title\":\"Bokeh Application\",\"version\":\"1.2.0\"}};\n",
       "  var render_items = [{\"docid\":\"48388a37-902c-4367-8b78-12f6d53a1079\",\"roots\":{\"1002\":\"85a06a9e-781f-4900-bb42-7079eb4801ed\"}}];\n",
       "  root.Bokeh.embed.embed_items_notebook(docs_json, render_items);\n",
       "\n",
       "  }\n",
       "  if (root.Bokeh !== undefined) {\n",
       "    embed_document(root);\n",
       "  } else {\n",
       "    var attempts = 0;\n",
       "    var timer = setInterval(function(root) {\n",
       "      if (root.Bokeh !== undefined) {\n",
       "        embed_document(root);\n",
       "        clearInterval(timer);\n",
       "      }\n",
       "      attempts++;\n",
       "      if (attempts > 100) {\n",
       "        console.log(\"Bokeh: ERROR: Unable to run BokehJS code because BokehJS library is missing\");\n",
       "        clearInterval(timer);\n",
       "      }\n",
       "    }, 10, root)\n",
       "  }\n",
       "})(window);"
      ],
      "application/vnd.bokehjs_exec.v0+json": ""
     },
     "metadata": {
      "application/vnd.bokehjs_exec.v0+json": {
       "id": "1002"
      }
     },
     "output_type": "display_data"
    }
   ],
   "source": [
    "p = hl.plot.histogram(imputed_sex_ht.f_stat, title='Inbreeding coefficient (F) computed on the X chromosome')\n",
    "p.plot_width = 800\n",
    "p.plot_height = 500\n",
    "show(p)"
   ]
  },
  {
   "cell_type": "markdown",
   "metadata": {},
   "source": [
    "Based on the plot above, we define new $F$ thresholds for male and female, and do the imputation again."
   ]
  },
  {
   "cell_type": "code",
   "execution_count": 19,
   "metadata": {},
   "outputs": [],
   "source": [
    "imputed_sex_ht = hl.impute_sex(mt.GT, female_threshold=0.3, male_threshold=0.4)\n",
    "\n",
    "# Make a new variable 'sex' that is either 'f' or 'm'.\n",
    "imputed_sex_ht = imputed_sex_ht.annotate(sex = hl.if_else(imputed_sex_ht.is_female, 'f', 'm'))"
   ]
  },
  {
   "cell_type": "markdown",
   "metadata": {},
   "source": [
    "## Load self-reported gender data"
   ]
  },
  {
   "cell_type": "code",
   "execution_count": 28,
   "metadata": {},
   "outputs": [
    {
     "name": "stderr",
     "output_type": "stream",
     "text": [
      "2021-06-07 11:38:30 Hail: INFO: Reading table without type imputation\n",
      "  Loading field 'IndividualName' as type str (not specified)\n",
      "  Loading field 'Gender' as type str (not specified)\n"
     ]
    }
   ],
   "source": [
    "# Read the CSV.\n",
    "gender_ht = hl.import_table(BASE_DIR + '/data/metadata/fargen_indi-gen.csv', delimiter=',')\n",
    "\n",
    "# Key the table by individual name.\n",
    "gender_ht = gender_ht.key_by(gender_ht.IndividualName)\n",
    "\n",
    "# Us a boolean 'is_female' variable, like in the imputed data.\n",
    "gender_ht = gender_ht.annotate(gender = hl.if_else(gender_ht.Gender == '0', 'f', 'm'))\n",
    "\n",
    "# Recode the 'Gender' variable into a new 'gender' variable, that is either 'm', 'f', or missing.\n",
    "gender_ht = gender_ht.transmute(gender = hl.case()\n",
    "                                        .when(gender_ht.Gender == '0', 'f')\n",
    "                                        .when(gender_ht.Gender == '1', 'm')\n",
    "                                        .or_missing())"
   ]
  },
  {
   "cell_type": "markdown",
   "metadata": {},
   "source": [
    "## Compare imputed sex with self-reported gender\n",
    "\n",
    "Below we compute a confusion matrix between self-reported gender and imputed sex.\n",
    "\n",
    "We see that 7 samples have disconcordant sex and gender. Of these, 4 are reported as female and imputed as male, and 3 are reported as male and imputed as female."
   ]
  },
  {
   "cell_type": "code",
   "execution_count": 30,
   "metadata": {},
   "outputs": [
    {
     "name": "stderr",
     "output_type": "stream",
     "text": [
      "2021-06-07 11:38:35 Hail: INFO: Coerced sorted dataset\n",
      "2021-06-07 11:38:35 Hail: INFO: Coerced sorted dataset\n",
      "2021-06-07 11:38:35 Hail: INFO: Coerced sorted dataset\n",
      "2021-06-07 11:38:35 Hail: INFO: Coerced sorted dataset\n"
     ]
    },
    {
     "data": {
      "text/html": [
       "<div>\n",
       "<style scoped>\n",
       "    .dataframe tbody tr th:only-of-type {\n",
       "        vertical-align: middle;\n",
       "    }\n",
       "\n",
       "    .dataframe tbody tr th {\n",
       "        vertical-align: top;\n",
       "    }\n",
       "\n",
       "    .dataframe thead th {\n",
       "        text-align: right;\n",
       "    }\n",
       "</style>\n",
       "<table border=\"1\" class=\"dataframe\">\n",
       "  <thead>\n",
       "    <tr style=\"text-align: right;\">\n",
       "      <th>Gender</th>\n",
       "      <th>f</th>\n",
       "      <th>m</th>\n",
       "      <th>Sum</th>\n",
       "    </tr>\n",
       "    <tr>\n",
       "      <th>Sex</th>\n",
       "      <th></th>\n",
       "      <th></th>\n",
       "      <th></th>\n",
       "    </tr>\n",
       "  </thead>\n",
       "  <tbody>\n",
       "    <tr>\n",
       "      <th>f</th>\n",
       "      <td>274</td>\n",
       "      <td>3</td>\n",
       "      <td>277</td>\n",
       "    </tr>\n",
       "    <tr>\n",
       "      <th>m</th>\n",
       "      <td>4</td>\n",
       "      <td>187</td>\n",
       "      <td>191</td>\n",
       "    </tr>\n",
       "    <tr>\n",
       "      <th>Sum</th>\n",
       "      <td>278</td>\n",
       "      <td>190</td>\n",
       "      <td>468</td>\n",
       "    </tr>\n",
       "  </tbody>\n",
       "</table>\n",
       "</div>"
      ],
      "text/plain": [
       "Gender    f    m  Sum\n",
       "Sex                  \n",
       "f       274    3  277\n",
       "m         4  187  191\n",
       "Sum     278  190  468"
      ]
     },
     "execution_count": 30,
     "metadata": {},
     "output_type": "execute_result"
    }
   ],
   "source": [
    "# Annotate the imputed sex table with the self-reported gender.\n",
    "imputed_sex_ht = imputed_sex_ht.annotate(gender=gender_ht[imputed_sex_ht.s].gender)\n",
    "\n",
    "# Make Pandas series with the sex and gender.\n",
    "sex = pd.Series(imputed_sex_ht.sex.collect(), name='Sex')\n",
    "gender = pd.Series(imputed_sex_ht.gender.collect(), name='Gender')\n",
    "\n",
    "# Calculate confusion matrix.\n",
    "confusion_table = pd.crosstab(sex, gender, margins=True, margins_name='Sum')\n",
    "\n",
    "confusion_table"
   ]
  },
  {
   "cell_type": "markdown",
   "metadata": {},
   "source": [
    "## Inspect disconcordant samples\n",
    "\n",
    "We will inspect the samples where the self-reported gender is different from the imputed sex.\n",
    "\n",
    "As we have seen, the males and females cluster very nicely w.r.t. the inbreeding coeffcient, so we can be confident that we are correctly imputing the sex. We used imputed samples with $F > 0.4$ as male and $F < 0.3$ as female.\n",
    "\n",
    "Below we see the imputation data for the samples where the imputed sex and self-reported gender mismatch. Note that these samples fall nicely into the categories defined by the cut-off values we defined."
   ]
  },
  {
   "cell_type": "code",
   "execution_count": 45,
   "metadata": {},
   "outputs": [
    {
     "name": "stderr",
     "output_type": "stream",
     "text": [
      "2021-06-07 11:19:23 Hail: INFO: Coerced sorted dataset\n",
      "2021-06-07 11:19:23 Hail: INFO: Coerced sorted dataset\n",
      "2021-06-07 11:19:23 Hail: INFO: Coerced sorted dataset\n",
      "2021-06-07 11:19:23 Hail: INFO: Coerced sorted dataset\n",
      "2021-06-07 11:19:23 Hail: INFO: Coerced sorted dataset\n",
      "2021-06-07 11:19:23 Hail: INFO: Coerced sorted dataset\n"
     ]
    },
    {
     "data": {
      "text/html": [
       "<table><thead><tr><td style=\"white-space: nowrap; max-width: 500px; overflow: hidden; text-overflow: ellipsis; \" colspan=\"1\"><div style=\"text-align: left;\"></div></td><td style=\"white-space: nowrap; max-width: 500px; overflow: hidden; text-overflow: ellipsis; \" colspan=\"1\"><div style=\"text-align: left;\"></div></td><td style=\"white-space: nowrap; max-width: 500px; overflow: hidden; text-overflow: ellipsis; \" colspan=\"1\"><div style=\"text-align: left;\"></div></td><td style=\"white-space: nowrap; max-width: 500px; overflow: hidden; text-overflow: ellipsis; \" colspan=\"1\"><div style=\"text-align: left;\"></div></td><td style=\"white-space: nowrap; max-width: 500px; overflow: hidden; text-overflow: ellipsis; \" colspan=\"1\"><div style=\"text-align: left;\"></div></td><td style=\"white-space: nowrap; max-width: 500px; overflow: hidden; text-overflow: ellipsis; \" colspan=\"1\"><div style=\"text-align: left;\"></div></td><td style=\"white-space: nowrap; max-width: 500px; overflow: hidden; text-overflow: ellipsis; \" colspan=\"1\"><div style=\"text-align: left;\"></div></td><td style=\"white-space: nowrap; max-width: 500px; overflow: hidden; text-overflow: ellipsis; \" colspan=\"1\"><div style=\"text-align: left;\"></div></td><td style=\"white-space: nowrap; max-width: 500px; overflow: hidden; text-overflow: ellipsis; \" colspan=\"1\"><div style=\"text-align: left;\"></div></td><td style=\"white-space: nowrap; max-width: 500px; overflow: hidden; text-overflow: ellipsis; \" colspan=\"1\"><div style=\"text-align: left;\"></div></td><td style=\"white-space: nowrap; max-width: 500px; overflow: hidden; text-overflow: ellipsis; \" colspan=\"1\"><div style=\"text-align: left;\"></div></td></tr><tr><td style=\"white-space: nowrap; max-width: 500px; overflow: hidden; text-overflow: ellipsis; \" colspan=\"1\"><div style=\"text-align: left;border-bottom: solid 2px #000; padding-bottom: 5px\">s</div></td><td style=\"white-space: nowrap; max-width: 500px; overflow: hidden; text-overflow: ellipsis; \" colspan=\"1\"><div style=\"text-align: left;border-bottom: solid 2px #000; padding-bottom: 5px\">is_female</div></td><td style=\"white-space: nowrap; max-width: 500px; overflow: hidden; text-overflow: ellipsis; \" colspan=\"1\"><div style=\"text-align: left;border-bottom: solid 2px #000; padding-bottom: 5px\">f_stat</div></td><td style=\"white-space: nowrap; max-width: 500px; overflow: hidden; text-overflow: ellipsis; \" colspan=\"1\"><div style=\"text-align: left;border-bottom: solid 2px #000; padding-bottom: 5px\">n_called</div></td><td style=\"white-space: nowrap; max-width: 500px; overflow: hidden; text-overflow: ellipsis; \" colspan=\"1\"><div style=\"text-align: left;border-bottom: solid 2px #000; padding-bottom: 5px\">expected_homs</div></td><td style=\"white-space: nowrap; max-width: 500px; overflow: hidden; text-overflow: ellipsis; \" colspan=\"1\"><div style=\"text-align: left;border-bottom: solid 2px #000; padding-bottom: 5px\">observed_homs</div></td><td style=\"white-space: nowrap; max-width: 500px; overflow: hidden; text-overflow: ellipsis; \" colspan=\"1\"><div style=\"text-align: left;border-bottom: solid 2px #000; padding-bottom: 5px\">is_female_actual</div></td><td style=\"white-space: nowrap; max-width: 500px; overflow: hidden; text-overflow: ellipsis; \" colspan=\"1\"><div style=\"text-align: left;border-bottom: solid 2px #000; padding-bottom: 5px\">is_female_gender</div></td><td style=\"white-space: nowrap; max-width: 500px; overflow: hidden; text-overflow: ellipsis; \" colspan=\"1\"><div style=\"text-align: left;border-bottom: solid 2px #000; padding-bottom: 5px\">sex_check</div></td><td style=\"white-space: nowrap; max-width: 500px; overflow: hidden; text-overflow: ellipsis; \" colspan=\"1\"><div style=\"text-align: left;border-bottom: solid 2px #000; padding-bottom: 5px\">sex</div></td><td style=\"white-space: nowrap; max-width: 500px; overflow: hidden; text-overflow: ellipsis; \" colspan=\"1\"><div style=\"text-align: left;border-bottom: solid 2px #000; padding-bottom: 5px\">gender</div></td></tr><tr><td style=\"white-space: nowrap; max-width: 500px; overflow: hidden; text-overflow: ellipsis; text-align: left;\">str</td><td style=\"white-space: nowrap; max-width: 500px; overflow: hidden; text-overflow: ellipsis; text-align: left;\">bool</td><td style=\"white-space: nowrap; max-width: 500px; overflow: hidden; text-overflow: ellipsis; text-align: left;\">float64</td><td style=\"white-space: nowrap; max-width: 500px; overflow: hidden; text-overflow: ellipsis; text-align: left;\">int64</td><td style=\"white-space: nowrap; max-width: 500px; overflow: hidden; text-overflow: ellipsis; text-align: left;\">float64</td><td style=\"white-space: nowrap; max-width: 500px; overflow: hidden; text-overflow: ellipsis; text-align: left;\">int64</td><td style=\"white-space: nowrap; max-width: 500px; overflow: hidden; text-overflow: ellipsis; text-align: left;\">bool</td><td style=\"white-space: nowrap; max-width: 500px; overflow: hidden; text-overflow: ellipsis; text-align: left;\">bool</td><td style=\"white-space: nowrap; max-width: 500px; overflow: hidden; text-overflow: ellipsis; text-align: left;\">bool</td><td style=\"white-space: nowrap; max-width: 500px; overflow: hidden; text-overflow: ellipsis; text-align: left;\">str</td><td style=\"white-space: nowrap; max-width: 500px; overflow: hidden; text-overflow: ellipsis; text-align: left;\">str</td></tr>\n",
       "</thead><tbody><tr><td style=\"white-space: nowrap; max-width: 500px; overflow: hidden; text-overflow: ellipsis; \">&quot;FN000187&quot;</td><td style=\"white-space: nowrap; max-width: 500px; overflow: hidden; text-overflow: ellipsis; \">true</td><td style=\"white-space: nowrap; max-width: 500px; overflow: hidden; text-overflow: ellipsis; \">1.38e-01</td><td style=\"white-space: nowrap; max-width: 500px; overflow: hidden; text-overflow: ellipsis; \">31674</td><td style=\"white-space: nowrap; max-width: 500px; overflow: hidden; text-overflow: ellipsis; \">3.05e+04</td><td style=\"white-space: nowrap; max-width: 500px; overflow: hidden; text-overflow: ellipsis; \">30657</td><td style=\"white-space: nowrap; max-width: 500px; overflow: hidden; text-overflow: ellipsis; \">false</td><td style=\"white-space: nowrap; max-width: 500px; overflow: hidden; text-overflow: ellipsis; \">false</td><td style=\"white-space: nowrap; max-width: 500px; overflow: hidden; text-overflow: ellipsis; \">false</td><td style=\"white-space: nowrap; max-width: 500px; overflow: hidden; text-overflow: ellipsis; \">&quot;f&quot;</td><td style=\"white-space: nowrap; max-width: 500px; overflow: hidden; text-overflow: ellipsis; \">&quot;m&quot;</td></tr>\n",
       "<tr><td style=\"white-space: nowrap; max-width: 500px; overflow: hidden; text-overflow: ellipsis; \">&quot;FN000861&quot;</td><td style=\"white-space: nowrap; max-width: 500px; overflow: hidden; text-overflow: ellipsis; \">true</td><td style=\"white-space: nowrap; max-width: 500px; overflow: hidden; text-overflow: ellipsis; \">3.67e-02</td><td style=\"white-space: nowrap; max-width: 500px; overflow: hidden; text-overflow: ellipsis; \">31670</td><td style=\"white-space: nowrap; max-width: 500px; overflow: hidden; text-overflow: ellipsis; \">3.05e+04</td><td style=\"white-space: nowrap; max-width: 500px; overflow: hidden; text-overflow: ellipsis; \">30534</td><td style=\"white-space: nowrap; max-width: 500px; overflow: hidden; text-overflow: ellipsis; \">false</td><td style=\"white-space: nowrap; max-width: 500px; overflow: hidden; text-overflow: ellipsis; \">false</td><td style=\"white-space: nowrap; max-width: 500px; overflow: hidden; text-overflow: ellipsis; \">false</td><td style=\"white-space: nowrap; max-width: 500px; overflow: hidden; text-overflow: ellipsis; \">&quot;f&quot;</td><td style=\"white-space: nowrap; max-width: 500px; overflow: hidden; text-overflow: ellipsis; \">&quot;m&quot;</td></tr>\n",
       "<tr><td style=\"white-space: nowrap; max-width: 500px; overflow: hidden; text-overflow: ellipsis; \">&quot;FN000871&quot;</td><td style=\"white-space: nowrap; max-width: 500px; overflow: hidden; text-overflow: ellipsis; \">true</td><td style=\"white-space: nowrap; max-width: 500px; overflow: hidden; text-overflow: ellipsis; \">5.66e-02</td><td style=\"white-space: nowrap; max-width: 500px; overflow: hidden; text-overflow: ellipsis; \">31672</td><td style=\"white-space: nowrap; max-width: 500px; overflow: hidden; text-overflow: ellipsis; \">3.05e+04</td><td style=\"white-space: nowrap; max-width: 500px; overflow: hidden; text-overflow: ellipsis; \">30559</td><td style=\"white-space: nowrap; max-width: 500px; overflow: hidden; text-overflow: ellipsis; \">false</td><td style=\"white-space: nowrap; max-width: 500px; overflow: hidden; text-overflow: ellipsis; \">false</td><td style=\"white-space: nowrap; max-width: 500px; overflow: hidden; text-overflow: ellipsis; \">false</td><td style=\"white-space: nowrap; max-width: 500px; overflow: hidden; text-overflow: ellipsis; \">&quot;f&quot;</td><td style=\"white-space: nowrap; max-width: 500px; overflow: hidden; text-overflow: ellipsis; \">&quot;m&quot;</td></tr>\n",
       "<tr><td style=\"white-space: nowrap; max-width: 500px; overflow: hidden; text-overflow: ellipsis; \">&quot;FN000884&quot;</td><td style=\"white-space: nowrap; max-width: 500px; overflow: hidden; text-overflow: ellipsis; \">false</td><td style=\"white-space: nowrap; max-width: 500px; overflow: hidden; text-overflow: ellipsis; \">8.00e-01</td><td style=\"white-space: nowrap; max-width: 500px; overflow: hidden; text-overflow: ellipsis; \">31674</td><td style=\"white-space: nowrap; max-width: 500px; overflow: hidden; text-overflow: ellipsis; \">3.05e+04</td><td style=\"white-space: nowrap; max-width: 500px; overflow: hidden; text-overflow: ellipsis; \">31438</td><td style=\"white-space: nowrap; max-width: 500px; overflow: hidden; text-overflow: ellipsis; \">true</td><td style=\"white-space: nowrap; max-width: 500px; overflow: hidden; text-overflow: ellipsis; \">true</td><td style=\"white-space: nowrap; max-width: 500px; overflow: hidden; text-overflow: ellipsis; \">false</td><td style=\"white-space: nowrap; max-width: 500px; overflow: hidden; text-overflow: ellipsis; \">&quot;m&quot;</td><td style=\"white-space: nowrap; max-width: 500px; overflow: hidden; text-overflow: ellipsis; \">&quot;f&quot;</td></tr>\n",
       "<tr><td style=\"white-space: nowrap; max-width: 500px; overflow: hidden; text-overflow: ellipsis; \">&quot;FN000902&quot;</td><td style=\"white-space: nowrap; max-width: 500px; overflow: hidden; text-overflow: ellipsis; \">false</td><td style=\"white-space: nowrap; max-width: 500px; overflow: hidden; text-overflow: ellipsis; \">7.17e-01</td><td style=\"white-space: nowrap; max-width: 500px; overflow: hidden; text-overflow: ellipsis; \">31677</td><td style=\"white-space: nowrap; max-width: 500px; overflow: hidden; text-overflow: ellipsis; \">3.05e+04</td><td style=\"white-space: nowrap; max-width: 500px; overflow: hidden; text-overflow: ellipsis; \">31343</td><td style=\"white-space: nowrap; max-width: 500px; overflow: hidden; text-overflow: ellipsis; \">true</td><td style=\"white-space: nowrap; max-width: 500px; overflow: hidden; text-overflow: ellipsis; \">true</td><td style=\"white-space: nowrap; max-width: 500px; overflow: hidden; text-overflow: ellipsis; \">false</td><td style=\"white-space: nowrap; max-width: 500px; overflow: hidden; text-overflow: ellipsis; \">&quot;m&quot;</td><td style=\"white-space: nowrap; max-width: 500px; overflow: hidden; text-overflow: ellipsis; \">&quot;f&quot;</td></tr>\n",
       "<tr><td style=\"white-space: nowrap; max-width: 500px; overflow: hidden; text-overflow: ellipsis; \">&quot;FN000957&quot;</td><td style=\"white-space: nowrap; max-width: 500px; overflow: hidden; text-overflow: ellipsis; \">false</td><td style=\"white-space: nowrap; max-width: 500px; overflow: hidden; text-overflow: ellipsis; \">6.38e-01</td><td style=\"white-space: nowrap; max-width: 500px; overflow: hidden; text-overflow: ellipsis; \">31676</td><td style=\"white-space: nowrap; max-width: 500px; overflow: hidden; text-overflow: ellipsis; \">3.05e+04</td><td style=\"white-space: nowrap; max-width: 500px; overflow: hidden; text-overflow: ellipsis; \">31249</td><td style=\"white-space: nowrap; max-width: 500px; overflow: hidden; text-overflow: ellipsis; \">true</td><td style=\"white-space: nowrap; max-width: 500px; overflow: hidden; text-overflow: ellipsis; \">true</td><td style=\"white-space: nowrap; max-width: 500px; overflow: hidden; text-overflow: ellipsis; \">false</td><td style=\"white-space: nowrap; max-width: 500px; overflow: hidden; text-overflow: ellipsis; \">&quot;m&quot;</td><td style=\"white-space: nowrap; max-width: 500px; overflow: hidden; text-overflow: ellipsis; \">&quot;f&quot;</td></tr>\n",
       "<tr><td style=\"white-space: nowrap; max-width: 500px; overflow: hidden; text-overflow: ellipsis; \">&quot;FN001127&quot;</td><td style=\"white-space: nowrap; max-width: 500px; overflow: hidden; text-overflow: ellipsis; \">false</td><td style=\"white-space: nowrap; max-width: 500px; overflow: hidden; text-overflow: ellipsis; \">8.01e-01</td><td style=\"white-space: nowrap; max-width: 500px; overflow: hidden; text-overflow: ellipsis; \">31677</td><td style=\"white-space: nowrap; max-width: 500px; overflow: hidden; text-overflow: ellipsis; \">3.05e+04</td><td style=\"white-space: nowrap; max-width: 500px; overflow: hidden; text-overflow: ellipsis; \">31442</td><td style=\"white-space: nowrap; max-width: 500px; overflow: hidden; text-overflow: ellipsis; \">true</td><td style=\"white-space: nowrap; max-width: 500px; overflow: hidden; text-overflow: ellipsis; \">true</td><td style=\"white-space: nowrap; max-width: 500px; overflow: hidden; text-overflow: ellipsis; \">false</td><td style=\"white-space: nowrap; max-width: 500px; overflow: hidden; text-overflow: ellipsis; \">&quot;m&quot;</td><td style=\"white-space: nowrap; max-width: 500px; overflow: hidden; text-overflow: ellipsis; \">&quot;f&quot;</td></tr>\n",
       "</tbody></table>"
      ],
      "text/plain": [
       "+------------+-----------+----------+----------+---------------+---------------+------------------+------------------+-----------+-----+--------+\n",
       "| s          | is_female |   f_stat | n_called | expected_homs | observed_homs | is_female_actual | is_female_gender | sex_check | sex | gender |\n",
       "+------------+-----------+----------+----------+---------------+---------------+------------------+------------------+-----------+-----+--------+\n",
       "| str        |      bool |  float64 |    int64 |       float64 |         int64 |             bool |             bool |      bool | str | str    |\n",
       "+------------+-----------+----------+----------+---------------+---------------+------------------+------------------+-----------+-----+--------+\n",
       "| \"FN000187\" |      true | 1.38e-01 |    31674 |      3.05e+04 |         30657 |            false |            false |     false | \"f\" | \"m\"    |\n",
       "| \"FN000861\" |      true | 3.67e-02 |    31670 |      3.05e+04 |         30534 |            false |            false |     false | \"f\" | \"m\"    |\n",
       "| \"FN000871\" |      true | 5.66e-02 |    31672 |      3.05e+04 |         30559 |            false |            false |     false | \"f\" | \"m\"    |\n",
       "| \"FN000884\" |     false | 8.00e-01 |    31674 |      3.05e+04 |         31438 |             true |             true |     false | \"m\" | \"f\"    |\n",
       "| \"FN000902\" |     false | 7.17e-01 |    31677 |      3.05e+04 |         31343 |             true |             true |     false | \"m\" | \"f\"    |\n",
       "| \"FN000957\" |     false | 6.38e-01 |    31676 |      3.05e+04 |         31249 |             true |             true |     false | \"m\" | \"f\"    |\n",
       "| \"FN001127\" |     false | 8.01e-01 |    31677 |      3.05e+04 |         31442 |             true |             true |     false | \"m\" | \"f\"    |\n",
       "+------------+-----------+----------+----------+---------------+---------------+------------------+------------------+-----------+-----+--------+"
      ]
     },
     "metadata": {},
     "output_type": "display_data"
    }
   ],
   "source": [
    "imputed_sex_ht.filter(imputed_sex_ht.sex != imputed_sex_ht.gender).show()"
   ]
  },
  {
   "cell_type": "markdown",
   "metadata": {},
   "source": [
    "We will investigate whether poor data quality can explain the disconcordancy. If anything seems to be abnormal with these samples, we may distrust the data."
   ]
  },
  {
   "cell_type": "code",
   "execution_count": 32,
   "metadata": {},
   "outputs": [],
   "source": [
    "# Annotate the table with a boolean sex mismatch variable.\n",
    "imputed_sex_ht = imputed_sex_ht.annotate(sex_mismatch = imputed_sex_ht.sex != imputed_sex_ht.gender)\n",
    "\n",
    "# Annotate the matrix table with the same information.\n",
    "mt = mt.annotate_cols(sex_mismatch = imputed_sex_ht[mt.s].sex_mismatch)"
   ]
  },
  {
   "cell_type": "markdown",
   "metadata": {},
   "source": [
    "The plot below shows the per samples DP mean and against different other QC variables. The samples with disconcordant sex are highlighted in blue.\n",
    "\n",
    "We must note that it seems that GQ seems to be correlated with number of heterozygotes. Samples with low genotype quality seem to have fewer heterozygotes. This does make some intuitivt sense. If a sample has low depth it will have fewer called variants, therefore more homozygote reference and therefore fewer heterozygotes. This same pattern is reflected in the call rate and number of singletons."
   ]
  },
  {
   "cell_type": "code",
   "execution_count": 62,
   "metadata": {},
   "outputs": [
    {
     "name": "stderr",
     "output_type": "stream",
     "text": [
      "2021-06-08 14:15:51 Hail: INFO: Coerced sorted dataset\n",
      "2021-06-08 14:15:51 Hail: INFO: Coerced sorted dataset\n",
      "2021-06-08 14:15:54 Hail: INFO: Coerced sorted dataset\n",
      "2021-06-08 14:15:54 Hail: INFO: Coerced sorted dataset\n",
      "2021-06-08 14:15:57 Hail: INFO: Coerced sorted dataset\n",
      "2021-06-08 14:15:57 Hail: INFO: Coerced sorted dataset\n",
      "2021-06-08 14:16:13 Hail: INFO: Coerced sorted dataset\n",
      "2021-06-08 14:16:13 Hail: INFO: Coerced sorted dataset\n",
      "2021-06-08 14:16:15 Hail: INFO: Coerced sorted dataset\n",
      "2021-06-08 14:16:15 Hail: INFO: Coerced sorted dataset\n",
      "2021-06-08 14:16:19 Hail: INFO: Coerced sorted dataset\n",
      "2021-06-08 14:16:19 Hail: INFO: Coerced sorted dataset\n",
      "2021-06-08 14:16:21 Hail: INFO: Coerced sorted dataset\n",
      "2021-06-08 14:16:21 Hail: INFO: Coerced sorted dataset\n",
      "2021-06-08 14:16:25 Hail: INFO: Coerced sorted dataset\n",
      "2021-06-08 14:16:25 Hail: INFO: Coerced sorted dataset\n"
     ]
    }
   ],
   "source": [
    "exprs_list = [('# heterozygotes', mt.sample_qc.n_het), ('Ti/Tv rate', mt.sample_qc.r_ti_tv), ('Call rate', mt.sample_qc.call_rate), ('# singletons', mt.sample_qc.n_singleton)]\n",
    "plot_list = []\n",
    "for name, exprs in exprs_list:\n",
    "    p = hl.plot.scatter(mt.sample_qc.dp_stats.mean, exprs, label=mt.sex_mismatch, title=name, xlabel='DP mean', ylabel=name)\n",
    "    p.plot_width = 800\n",
    "    p.plot_height = 500\n",
    "    plot_list.append(p)"
   ]
  },
  {
   "cell_type": "code",
   "execution_count": 64,
   "metadata": {},
   "outputs": [
    {
     "data": {
      "text/html": [
       "\n",
       "\n",
       "\n",
       "\n",
       "\n",
       "\n",
       "  <div class=\"bk-root\" id=\"94f2c81e-ba2e-45bf-a4f0-488ada8baf22\" data-root-id=\"5032\"></div>\n"
      ]
     },
     "metadata": {},
     "output_type": "display_data"
    },
    {
     "data": {
      "application/javascript": [
       "(function(root) {\n",
       "  function embed_document(root) {\n",
       "    \n",
       "  var docs_json = {\"01bd33cd-28ad-42ba-a237-6c4471e0d579\":{\"roots\":{\"references\":[{\"attributes\":{\"children\":[{\"id\":\"5031\",\"type\":\"ToolbarBox\"},{\"id\":\"5029\",\"type\":\"GridBox\"}]},\"id\":\"5032\",\"type\":\"Column\"},{\"attributes\":{\"below\":[{\"id\":\"4416\",\"type\":\"LinearAxis\"}],\"center\":[{\"id\":\"4420\",\"type\":\"Grid\"},{\"id\":\"4425\",\"type\":\"Grid\"}],\"left\":[{\"id\":\"4421\",\"type\":\"LinearAxis\"},{\"id\":\"4457\",\"type\":\"Legend\"},{\"id\":\"4458\",\"type\":\"ColorBar\"}],\"plot_height\":400,\"plot_width\":600,\"renderers\":[{\"id\":\"4448\",\"type\":\"GlyphRenderer\"},{\"id\":\"4454\",\"type\":\"GlyphRenderer\"}],\"title\":{\"id\":\"4406\",\"type\":\"Title\"},\"toolbar\":{\"id\":\"4432\",\"type\":\"Toolbar\"},\"toolbar_location\":null,\"x_range\":{\"id\":\"4408\",\"type\":\"DataRange1d\"},\"x_scale\":{\"id\":\"4412\",\"type\":\"LinearScale\"},\"y_range\":{\"id\":\"4410\",\"type\":\"DataRange1d\"},\"y_scale\":{\"id\":\"4414\",\"type\":\"LinearScale\"}},\"id\":\"4405\",\"subtype\":\"Figure\",\"type\":\"Plot\"},{\"attributes\":{},\"id\":\"4478\",\"type\":\"UnionRenderers\"},{\"attributes\":{\"callback\":null},\"id\":\"4248\",\"type\":\"DataRange1d\"},{\"attributes\":{\"fill_color\":{\"field\":\"label\",\"transform\":{\"id\":\"4280\",\"type\":\"CategoricalColorMapper\"}},\"line_color\":{\"field\":\"label\",\"transform\":{\"id\":\"4280\",\"type\":\"CategoricalColorMapper\"}},\"x\":{\"field\":\"x\"},\"y\":{\"field\":\"y\"}},\"id\":\"4284\",\"type\":\"Circle\"},{\"attributes\":{\"callback\":null},\"id\":\"4246\",\"type\":\"DataRange1d\"},{\"attributes\":{\"dimension\":1,\"ticker\":{\"id\":\"4368\",\"type\":\"BasicTicker\"}},\"id\":\"4371\",\"type\":\"Grid\"},{\"attributes\":{},\"id\":\"4483\",\"type\":\"BasicTickFormatter\"},{\"attributes\":{},\"id\":\"4304\",\"type\":\"LinearScale\"},{\"attributes\":{},\"id\":\"4474\",\"type\":\"BasicTickFormatter\"},{\"attributes\":{\"callback\":null,\"tooltips\":[[\"x\",\"@x\"],[\"y\",\"@y\"],[\"label\",\"@label\"]]},\"id\":\"4332\",\"type\":\"HoverTool\"},{\"attributes\":{\"bottom_units\":\"screen\",\"fill_alpha\":{\"value\":0.5},\"fill_color\":{\"value\":\"lightgrey\"},\"left_units\":\"screen\",\"level\":\"overlay\",\"line_alpha\":{\"value\":1.0},\"line_color\":{\"value\":\"black\"},\"line_dash\":[4,4],\"line_width\":{\"value\":2},\"render_mode\":\"css\",\"right_units\":\"screen\",\"top_units\":\"screen\"},\"id\":\"4468\",\"type\":\"BoxAnnotation\"},{\"attributes\":{\"fill_color\":{\"field\":\"label\",\"transform\":{\"id\":\"4388\",\"type\":\"CategoricalColorMapper\"}},\"line_color\":{\"field\":\"label\",\"transform\":{\"id\":\"4388\",\"type\":\"CategoricalColorMapper\"}},\"x\":{\"field\":\"x\"},\"y\":{\"field\":\"y\"}},\"id\":\"4398\",\"type\":\"Circle\"},{\"attributes\":{\"overlay\":{\"id\":\"4490\",\"type\":\"BoxAnnotation\"}},\"id\":\"4374\",\"type\":\"BoxZoomTool\"},{\"attributes\":{},\"id\":\"4252\",\"type\":\"LinearScale\"},{\"attributes\":{\"text\":\"# heterozygotes\"},\"id\":\"4244\",\"type\":\"Title\"},{\"attributes\":{},\"id\":\"4255\",\"type\":\"BasicTicker\"},{\"attributes\":{\"column_name\":\"label\",\"group\":\"false\"},\"id\":\"4281\",\"type\":\"GroupFilter\"},{\"attributes\":{\"dimension\":1,\"ticker\":{\"id\":\"4260\",\"type\":\"BasicTicker\"}},\"id\":\"4263\",\"type\":\"Grid\"},{\"attributes\":{},\"id\":\"4372\",\"type\":\"PanTool\"},{\"attributes\":{\"callback\":null},\"id\":\"4300\",\"type\":\"DataRange1d\"},{\"attributes\":{\"tools\":[{\"id\":\"4264\",\"type\":\"PanTool\"},{\"id\":\"4265\",\"type\":\"WheelZoomTool\"},{\"id\":\"4266\",\"type\":\"BoxZoomTool\"},{\"id\":\"4267\",\"type\":\"SaveTool\"},{\"id\":\"4268\",\"type\":\"ResetTool\"},{\"id\":\"4269\",\"type\":\"HelpTool\"},{\"id\":\"4278\",\"type\":\"HoverTool\"},{\"id\":\"4318\",\"type\":\"PanTool\"},{\"id\":\"4319\",\"type\":\"WheelZoomTool\"},{\"id\":\"4320\",\"type\":\"BoxZoomTool\"},{\"id\":\"4321\",\"type\":\"SaveTool\"},{\"id\":\"4322\",\"type\":\"ResetTool\"},{\"id\":\"4323\",\"type\":\"HelpTool\"},{\"id\":\"4332\",\"type\":\"HoverTool\"},{\"id\":\"4372\",\"type\":\"PanTool\"},{\"id\":\"4373\",\"type\":\"WheelZoomTool\"},{\"id\":\"4374\",\"type\":\"BoxZoomTool\"},{\"id\":\"4375\",\"type\":\"SaveTool\"},{\"id\":\"4376\",\"type\":\"ResetTool\"},{\"id\":\"4377\",\"type\":\"HelpTool\"},{\"id\":\"4386\",\"type\":\"HoverTool\"},{\"id\":\"4426\",\"type\":\"PanTool\"},{\"id\":\"4427\",\"type\":\"WheelZoomTool\"},{\"id\":\"4428\",\"type\":\"BoxZoomTool\"},{\"id\":\"4429\",\"type\":\"SaveTool\"},{\"id\":\"4430\",\"type\":\"ResetTool\"},{\"id\":\"4431\",\"type\":\"HelpTool\"},{\"id\":\"4440\",\"type\":\"HoverTool\"}]},\"id\":\"5030\",\"type\":\"ProxyToolbar\"},{\"attributes\":{\"ticker\":{\"id\":\"4255\",\"type\":\"BasicTicker\"}},\"id\":\"4258\",\"type\":\"Grid\"},{\"attributes\":{},\"id\":\"4464\",\"type\":\"BasicTicker\"},{\"attributes\":{\"fill_alpha\":{\"value\":0.1},\"fill_color\":{\"value\":\"#1f77b4\"},\"line_alpha\":{\"value\":0.1},\"line_color\":{\"value\":\"#1f77b4\"},\"x\":{\"field\":\"x\"},\"y\":{\"field\":\"y\"}},\"id\":\"4291\",\"type\":\"Circle\"},{\"attributes\":{},\"id\":\"4475\",\"type\":\"BasicTicker\"},{\"attributes\":{\"axis_label\":\"DP mean\",\"formatter\":{\"id\":\"4461\",\"type\":\"BasicTickFormatter\"},\"ticker\":{\"id\":\"4255\",\"type\":\"BasicTicker\"}},\"id\":\"4254\",\"type\":\"LinearAxis\"},{\"attributes\":{\"callback\":null},\"id\":\"4302\",\"type\":\"DataRange1d\"},{\"attributes\":{\"filters\":[{\"id\":\"4395\",\"type\":\"GroupFilter\"}],\"source\":{\"id\":\"4387\",\"type\":\"ColumnDataSource\"}},\"id\":\"4396\",\"type\":\"CDSView\"},{\"attributes\":{},\"id\":\"4260\",\"type\":\"BasicTicker\"},{\"attributes\":{},\"id\":\"4488\",\"type\":\"Selection\"},{\"attributes\":{\"color_mapper\":null,\"formatter\":{\"id\":\"4465\",\"type\":\"BasicTickFormatter\"},\"ticker\":{\"id\":\"4464\",\"type\":\"BasicTicker\"},\"visible\":false},\"id\":\"4296\",\"type\":\"ColorBar\"},{\"attributes\":{},\"id\":\"4498\",\"type\":\"BasicTickFormatter\"},{\"attributes\":{},\"id\":\"4465\",\"type\":\"BasicTickFormatter\"},{\"attributes\":{\"filters\":[{\"id\":\"4443\",\"type\":\"GroupFilter\"}],\"source\":{\"id\":\"4441\",\"type\":\"ColumnDataSource\"}},\"id\":\"4444\",\"type\":\"CDSView\"},{\"attributes\":{\"text\":\"Ti/Tv rate\"},\"id\":\"4298\",\"type\":\"Title\"},{\"attributes\":{\"callback\":null},\"id\":\"4356\",\"type\":\"DataRange1d\"},{\"attributes\":{\"active_drag\":\"auto\",\"active_inspect\":\"auto\",\"active_multi\":null,\"active_scroll\":\"auto\",\"active_tap\":\"auto\",\"tools\":[{\"id\":\"4264\",\"type\":\"PanTool\"},{\"id\":\"4265\",\"type\":\"WheelZoomTool\"},{\"id\":\"4266\",\"type\":\"BoxZoomTool\"},{\"id\":\"4267\",\"type\":\"SaveTool\"},{\"id\":\"4268\",\"type\":\"ResetTool\"},{\"id\":\"4269\",\"type\":\"HelpTool\"},{\"id\":\"4278\",\"type\":\"HoverTool\"}]},\"id\":\"4270\",\"type\":\"Toolbar\"},{\"attributes\":{},\"id\":\"4368\",\"type\":\"BasicTicker\"},{\"attributes\":{\"data_source\":{\"id\":\"4387\",\"type\":\"ColumnDataSource\"},\"glyph\":{\"id\":\"4392\",\"type\":\"Circle\"},\"hover_glyph\":null,\"muted_glyph\":null,\"nonselection_glyph\":{\"id\":\"4393\",\"type\":\"Circle\"},\"selection_glyph\":null,\"view\":{\"id\":\"4390\",\"type\":\"CDSView\"}},\"id\":\"4394\",\"type\":\"GlyphRenderer\"},{\"attributes\":{},\"id\":\"4358\",\"type\":\"LinearScale\"},{\"attributes\":{},\"id\":\"4376\",\"type\":\"ResetTool\"},{\"attributes\":{\"axis_label\":\"DP mean\",\"formatter\":{\"id\":\"4472\",\"type\":\"BasicTickFormatter\"},\"ticker\":{\"id\":\"4309\",\"type\":\"BasicTicker\"}},\"id\":\"4308\",\"type\":\"LinearAxis\"},{\"attributes\":{},\"id\":\"4497\",\"type\":\"BasicTicker\"},{\"attributes\":{},\"id\":\"4489\",\"type\":\"UnionRenderers\"},{\"attributes\":{\"bottom_units\":\"screen\",\"fill_alpha\":{\"value\":0.5},\"fill_color\":{\"value\":\"lightgrey\"},\"left_units\":\"screen\",\"level\":\"overlay\",\"line_alpha\":{\"value\":1.0},\"line_color\":{\"value\":\"black\"},\"line_dash\":[4,4],\"line_width\":{\"value\":2},\"render_mode\":\"css\",\"right_units\":\"screen\",\"top_units\":\"screen\"},\"id\":\"4479\",\"type\":\"BoxAnnotation\"},{\"attributes\":{\"filters\":[{\"id\":\"4449\",\"type\":\"GroupFilter\"}],\"source\":{\"id\":\"4441\",\"type\":\"ColumnDataSource\"}},\"id\":\"4450\",\"type\":\"CDSView\"},{\"attributes\":{},\"id\":\"4306\",\"type\":\"LinearScale\"},{\"attributes\":{\"active_drag\":\"auto\",\"active_inspect\":\"auto\",\"active_multi\":null,\"active_scroll\":\"auto\",\"active_tap\":\"auto\",\"tools\":[{\"id\":\"4372\",\"type\":\"PanTool\"},{\"id\":\"4373\",\"type\":\"WheelZoomTool\"},{\"id\":\"4374\",\"type\":\"BoxZoomTool\"},{\"id\":\"4375\",\"type\":\"SaveTool\"},{\"id\":\"4376\",\"type\":\"ResetTool\"},{\"id\":\"4377\",\"type\":\"HelpTool\"},{\"id\":\"4386\",\"type\":\"HoverTool\"}]},\"id\":\"4378\",\"type\":\"Toolbar\"},{\"attributes\":{},\"id\":\"4476\",\"type\":\"BasicTickFormatter\"},{\"attributes\":{\"bottom_units\":\"screen\",\"fill_alpha\":{\"value\":0.5},\"fill_color\":{\"value\":\"lightgrey\"},\"left_units\":\"screen\",\"level\":\"overlay\",\"line_alpha\":{\"value\":1.0},\"line_color\":{\"value\":\"black\"},\"line_dash\":[4,4],\"line_width\":{\"value\":2},\"render_mode\":\"css\",\"right_units\":\"screen\",\"top_units\":\"screen\"},\"id\":\"4490\",\"type\":\"BoxAnnotation\"},{\"attributes\":{\"fill_color\":{\"field\":\"label\",\"transform\":{\"id\":\"4442\",\"type\":\"CategoricalColorMapper\"}},\"line_color\":{\"field\":\"label\",\"transform\":{\"id\":\"4442\",\"type\":\"CategoricalColorMapper\"}},\"x\":{\"field\":\"x\"},\"y\":{\"field\":\"y\"}},\"id\":\"4446\",\"type\":\"Circle\"},{\"attributes\":{},\"id\":\"4264\",\"type\":\"PanTool\"},{\"attributes\":{},\"id\":\"4373\",\"type\":\"WheelZoomTool\"},{\"attributes\":{},\"id\":\"4265\",\"type\":\"WheelZoomTool\"},{\"attributes\":{\"children\":[[{\"id\":\"4243\",\"subtype\":\"Figure\",\"type\":\"Plot\"},0,0],[{\"id\":\"4297\",\"subtype\":\"Figure\",\"type\":\"Plot\"},0,1],[{\"id\":\"4351\",\"subtype\":\"Figure\",\"type\":\"Plot\"},1,0],[{\"id\":\"4405\",\"subtype\":\"Figure\",\"type\":\"Plot\"},1,1]]},\"id\":\"5029\",\"type\":\"GridBox\"},{\"attributes\":{\"label\":{\"value\":\"true\"},\"renderers\":[{\"id\":\"4400\",\"type\":\"GlyphRenderer\"}]},\"id\":\"4402\",\"type\":\"LegendItem\"},{\"attributes\":{\"axis_label\":\"# heterozygotes\",\"formatter\":{\"id\":\"4463\",\"type\":\"BasicTickFormatter\"},\"ticker\":{\"id\":\"4260\",\"type\":\"BasicTicker\"}},\"id\":\"4259\",\"type\":\"LinearAxis\"},{\"attributes\":{\"callback\":null,\"tooltips\":[[\"x\",\"@x\"],[\"y\",\"@y\"],[\"label\",\"@label\"]]},\"id\":\"4386\",\"type\":\"HoverTool\"},{\"attributes\":{\"text\":\"Call rate\"},\"id\":\"4352\",\"type\":\"Title\"},{\"attributes\":{\"data_source\":{\"id\":\"4441\",\"type\":\"ColumnDataSource\"},\"glyph\":{\"id\":\"4446\",\"type\":\"Circle\"},\"hover_glyph\":null,\"muted_glyph\":null,\"nonselection_glyph\":{\"id\":\"4447\",\"type\":\"Circle\"},\"selection_glyph\":null,\"view\":{\"id\":\"4444\",\"type\":\"CDSView\"}},\"id\":\"4448\",\"type\":\"GlyphRenderer\"},{\"attributes\":{},\"id\":\"4467\",\"type\":\"UnionRenderers\"},{\"attributes\":{\"overlay\":{\"id\":\"4468\",\"type\":\"BoxAnnotation\"}},\"id\":\"4266\",\"type\":\"BoxZoomTool\"},{\"attributes\":{\"filters\":[{\"id\":\"4389\",\"type\":\"GroupFilter\"}],\"source\":{\"id\":\"4387\",\"type\":\"ColumnDataSource\"}},\"id\":\"4390\",\"type\":\"CDSView\"},{\"attributes\":{},\"id\":\"4267\",\"type\":\"SaveTool\"},{\"attributes\":{\"fill_alpha\":{\"value\":0.1},\"fill_color\":{\"value\":\"#1f77b4\"},\"line_alpha\":{\"value\":0.1},\"line_color\":{\"value\":\"#1f77b4\"},\"x\":{\"field\":\"x\"},\"y\":{\"field\":\"y\"}},\"id\":\"4285\",\"type\":\"Circle\"},{\"attributes\":{},\"id\":\"4494\",\"type\":\"BasicTickFormatter\"},{\"attributes\":{\"label\":{\"value\":\"false\"},\"renderers\":[{\"id\":\"4448\",\"type\":\"GlyphRenderer\"}]},\"id\":\"4455\",\"type\":\"LegendItem\"},{\"attributes\":{\"factors\":[\"true\",\"false\"],\"palette\":[\"#1f77b4\",\"#ff7f0e\",\"#2ca02c\",\"#d62728\",\"#9467bd\",\"#8c564b\",\"#e377c2\",\"#7f7f7f\",\"#bcbd22\",\"#17becf\"]},\"id\":\"4280\",\"type\":\"CategoricalColorMapper\"},{\"attributes\":{},\"id\":\"4268\",\"type\":\"ResetTool\"},{\"attributes\":{},\"id\":\"4319\",\"type\":\"WheelZoomTool\"},{\"attributes\":{\"fill_alpha\":{\"value\":0.1},\"fill_color\":{\"value\":\"#1f77b4\"},\"line_alpha\":{\"value\":0.1},\"line_color\":{\"value\":\"#1f77b4\"},\"x\":{\"field\":\"x\"},\"y\":{\"field\":\"y\"}},\"id\":\"4447\",\"type\":\"Circle\"},{\"attributes\":{},\"id\":\"4375\",\"type\":\"SaveTool\"},{\"attributes\":{\"filters\":[{\"id\":\"4281\",\"type\":\"GroupFilter\"}],\"source\":{\"id\":\"4279\",\"type\":\"ColumnDataSource\"}},\"id\":\"4282\",\"type\":\"CDSView\"},{\"attributes\":{\"fill_color\":{\"field\":\"label\",\"transform\":{\"id\":\"4442\",\"type\":\"CategoricalColorMapper\"}},\"line_color\":{\"field\":\"label\",\"transform\":{\"id\":\"4442\",\"type\":\"CategoricalColorMapper\"}},\"x\":{\"field\":\"x\"},\"y\":{\"field\":\"y\"}},\"id\":\"4452\",\"type\":\"Circle\"},{\"attributes\":{\"callback\":null,\"tooltips\":[[\"x\",\"@x\"],[\"y\",\"@y\"],[\"label\",\"@label\"]]},\"id\":\"4278\",\"type\":\"HoverTool\"},{\"attributes\":{\"click_policy\":\"hide\",\"items\":[{\"id\":\"4293\",\"type\":\"LegendItem\"},{\"id\":\"4294\",\"type\":\"LegendItem\"}]},\"id\":\"4295\",\"type\":\"Legend\"},{\"attributes\":{},\"id\":\"4477\",\"type\":\"Selection\"},{\"attributes\":{\"column_name\":\"label\",\"group\":\"true\"},\"id\":\"4395\",\"type\":\"GroupFilter\"},{\"attributes\":{},\"id\":\"4486\",\"type\":\"BasicTicker\"},{\"attributes\":{},\"id\":\"4269\",\"type\":\"HelpTool\"},{\"attributes\":{\"filters\":[{\"id\":\"4287\",\"type\":\"GroupFilter\"}],\"source\":{\"id\":\"4279\",\"type\":\"ColumnDataSource\"}},\"id\":\"4288\",\"type\":\"CDSView\"},{\"attributes\":{},\"id\":\"4322\",\"type\":\"ResetTool\"},{\"attributes\":{},\"id\":\"4377\",\"type\":\"HelpTool\"},{\"attributes\":{\"label\":{\"value\":\"true\"},\"renderers\":[{\"id\":\"4454\",\"type\":\"GlyphRenderer\"}]},\"id\":\"4456\",\"type\":\"LegendItem\"},{\"attributes\":{},\"id\":\"4487\",\"type\":\"BasicTickFormatter\"},{\"attributes\":{},\"id\":\"4500\",\"type\":\"UnionRenderers\"},{\"attributes\":{},\"id\":\"4321\",\"type\":\"SaveTool\"},{\"attributes\":{\"callback\":null,\"data\":{\"index\":[0,1,2,3,4,5,6,7,8,9,10,11,12,13,14,15,16,17,18,19,20,21,22,23,24,25,26,27,28,29,30,31,32,33,34,35,36,37,38,39,40,41,42,43,44,45,46,47,48,49,50,51,52,53,54,55,56,57,58,59,60,61,62,63,64,65,66,67,68,69,70,71,72,73,74,75,76,77,78,79,80,81,82,83,84,85,86,87,88,89,90,91,92,93,94,95,96,97,98,99,100,101,102,103,104,105,106,107,108,109,110,111,112,113,114,115,116,117,118,119,120,121,122,123,124,125,126,127,128,129,130,131,132,133,134,135,136,137,138,139,140,141,142,143,144,145,146,147,148,149,150,151,152,153,154,155,156,157,158,159,160,161,162,163,164,165,166,167,168,169,170,171,172,173,174,175,176,177,178,179,180,181,182,183,184,185,186,187,188,189,190,191,192,193,194,195,196,197,198,199,200,201,202,203,204,205,206,207,208,209,210,211,212,213,214,215,216,217,218,219,220,221,222,223,224,225,226,227,228,229,230,231,232,233,234,235,236,237,238,239,240,241,242,243,244,245,246,247,248,249,250,251,252,253,254,255,256,257,258,259,260,261,262,263,264,265,266,267,268,269,270,271,272,273,274,275,276,277,278,279,280,281,282,283,284,285,286,287,288,289,290,291,292,293,294,295,296,297,298,299,300,301,302,303,304,305,306,307,308,309,310,311,312,313,314,315,316,317,318,319,320,321,322,323,324,325,326,327,328,329,330,331,332,333,334,335,336,337,338,339,340,341,342,343,344,345,346,347,348,349,350,351,352,353,354,355,356,357,358,359,360,361,362,363,364,365,366,367,368,369,370,371,372,373,374,375,376,377,378,379,380,381,382,383,384,385,386,387,388,389,390,391,392,393,394,395,396,397,398,399,400,401,402,403,404,405,406,407,408,409,410,411,412,413,414,415,416,417,418,419,420,421,422,423,424,425,426,427,428,429,430,431,432,433,434,435,436,437,438,439,440,441,442,443,444,445,446],\"label\":[\"false\",\"false\",\"false\",\"false\",\"false\",\"false\",\"false\",\"false\",\"false\",\"false\",\"false\",\"false\",\"false\",\"false\",\"false\",\"false\",\"false\",\"false\",\"false\",\"false\",\"false\",\"false\",\"false\",\"false\",\"true\",\"false\",\"false\",\"false\",\"false\",\"false\",\"false\",\"false\",\"false\",\"false\",\"false\",\"false\",\"false\",\"false\",\"false\",\"false\",\"false\",\"false\",\"false\",\"false\",\"false\",\"false\",\"false\",\"false\",\"false\",\"false\",\"false\",\"false\",\"false\",\"false\",\"false\",\"false\",\"false\",\"false\",\"false\",\"false\",\"false\",\"false\",\"false\",\"false\",\"false\",\"false\",\"false\",\"false\",\"false\",\"false\",\"false\",\"false\",\"false\",\"false\",\"false\",\"false\",\"false\",\"false\",\"false\",\"false\",\"false\",\"false\",\"false\",\"false\",\"false\",\"false\",\"false\",\"false\",\"false\",\"false\",\"false\",\"false\",\"false\",\"false\",\"false\",\"false\",\"false\",\"false\",\"false\",\"false\",\"true\",\"false\",\"false\",\"false\",\"false\",\"false\",\"false\",\"false\",\"false\",\"false\",\"false\",\"false\",\"false\",\"false\",\"false\",\"false\",\"false\",\"false\",\"false\",\"false\",\"false\",\"false\",\"false\",\"false\",\"false\",\"false\",\"false\",\"false\",\"false\",\"false\",\"false\",\"false\",\"false\",\"false\",\"false\",\"false\",\"false\",\"false\",\"false\",\"false\",\"false\",\"false\",\"false\",\"false\",\"false\",\"false\",\"false\",\"false\",\"false\",\"false\",\"false\",\"false\",\"false\",\"false\",\"false\",\"false\",\"false\",\"false\",\"false\",\"false\",\"false\",\"false\",\"false\",\"false\",\"false\",\"false\",\"false\",\"false\",\"false\",\"false\",\"false\",\"false\",\"false\",\"false\",\"false\",\"true\",\"false\",\"false\",\"false\",\"false\",\"false\",\"false\",\"false\",\"false\",\"false\",\"true\",\"false\",\"false\",\"false\",\"false\",\"false\",\"false\",\"false\",\"false\",\"false\",\"false\",\"false\",\"false\",\"false\",\"false\",\"false\",\"false\",\"false\",\"false\",\"false\",\"false\",\"false\",\"false\",\"false\",\"false\",\"false\",\"false\",\"false\",\"false\",\"false\",\"false\",\"false\",\"false\",\"false\",\"false\",\"false\",\"false\",\"false\",\"false\",\"false\",\"false\",\"false\",\"true\",\"false\",\"false\",\"false\",\"false\",\"false\",\"false\",\"false\",\"false\",\"false\",\"false\",\"false\",\"false\",\"false\",\"false\",\"false\",\"false\",\"false\",\"false\",\"false\",\"false\",\"false\",\"false\",\"false\",\"false\",\"false\",\"false\",\"false\",\"false\",\"false\",\"false\",\"false\",\"false\",\"false\",\"false\",\"false\",\"false\",\"false\",\"false\",\"false\",\"false\",\"false\",\"false\",\"false\",\"false\",\"false\",\"false\",\"false\",\"false\",\"false\",\"false\",\"false\",\"false\",\"false\",\"false\",\"false\",\"false\",\"false\",\"false\",\"false\",\"false\",\"false\",\"false\",\"false\",\"false\",\"false\",\"false\",\"false\",\"false\",\"false\",\"false\",\"false\",\"false\",\"false\",\"false\",\"false\",\"false\",\"false\",\"false\",\"false\",\"false\",\"false\",\"false\",\"false\",\"false\",\"false\",\"false\",\"false\",\"false\",\"false\",\"false\",\"false\",\"false\",\"false\",\"false\",\"false\",\"false\",\"false\",\"false\",\"false\",\"false\",\"false\",\"false\",\"false\",\"false\",\"false\",\"false\",\"false\",\"false\",\"false\",\"false\",\"false\",\"false\",\"false\",\"false\",\"false\",\"false\",\"false\",\"false\",\"false\",\"false\",\"false\",\"false\",\"false\",\"false\",\"false\",\"false\",\"false\",\"false\",\"false\",\"false\",\"false\",\"false\",\"false\",\"false\",\"false\",\"false\",\"false\",\"false\",\"false\",\"false\",\"false\",\"false\",\"false\",\"false\",\"false\",\"false\",\"false\",\"false\",\"false\",\"false\",\"false\",\"false\",\"false\",\"false\",\"false\",\"false\",\"true\",\"false\",\"true\",\"false\",\"false\",\"false\",\"false\",\"false\",\"false\",\"false\",\"false\",\"false\",\"false\",\"false\",\"false\",\"false\",\"false\",\"false\",\"false\",\"false\",\"false\",\"false\",\"false\",\"false\",\"false\",\"false\",\"false\",\"false\",\"false\",\"false\",\"false\",\"false\",\"false\",\"false\",\"false\",\"false\",\"false\",\"false\",\"false\",\"false\",\"false\",\"false\",\"false\",\"false\",\"false\",\"false\",\"false\",\"false\",\"false\",\"false\",\"false\",\"false\",\"false\",\"false\",\"false\",\"false\",\"false\",\"false\",\"false\",\"false\",\"false\",\"false\",\"false\"],\"x\":{\"__ndarray__\":\"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\",\"dtype\":\"float64\",\"shape\":[447]},\"y\":{\"__ndarray__\":\"AAAAACBf6UAAAAAA4HftQAAAAADAiexAAAAAAGDx70AAAAAAQIrsQAAAAADg7OtAAAAAAICv7UAAAAAAYL7tQAAAAACgse9AAAAAALD68EAAAAAAIEHsQAAAAACgq+1AAAAAABC98EAAAAAA4JftQAAAAABge/BAAAAAAMB17kAAAAAA4J3vQAAAAABg8u9AAAAAACAz70AAAAAAkOjwQAAAAACAKO9AAAAAAAAE8UAAAAAAIBjxQAAAAADAHu9AAAAAAGDm70AAAAAAIN7vQAAAAADA8+9AAAAAAFCX8EAAAAAAADTxQAAAAACwS/FAAAAAAKBh8kAAAAAAcArxQAAAAAAQB/BAAAAAAOAr8UAAAAAA8GTxQAAAAAAAO/BAAAAAAMBP8EAAAAAAgHzwQAAAAAAgAvFAAAAAACBX70AAAAAAIMrwQAAAAAAw4PBAAAAAAPCj8EAAAAAA8G7xQAAAAAAA0u9AAAAAAPDC8EAAAAAAIJLwQAAAAAAgmvBAAAAAAJDM8EAAAAAAMPHwQAAAAABQn/FAAAAAALAy8EAAAAAAQO7wQAAAAAAgeO9AAAAAAJD88EAAAAAAYKXwQAAAAABA2/BAAAAAACA08UAAAAAAUDzxQAAAAABwo/BAAAAAAIDh8UAAAAAAADnwQAAAAADQdPBAAAAAAAD/8EAAAAAAQIvxQAAAAADwlfFAAAAAAJAu8UAAAAAAgG3xQAAAAAAwN/BAAAAAAID470AAAAAAoJrwQAAAAAAQw/FAAAAAAGDd8EAAAAAA8GzwQAAAAABw4PBAAAAAAKB88UAAAAAAQCXwQAAAAAAQM/BAAAAAAEBo8EAAAAAAsBTxQAAAAACQ4PBAAAAAAKAC8UAAAAAAMOjwQAAAAABQEPBAAAAAAMAd8UAAAAAA0JLwQAAAAACQlfBAAAAAAJAS8UAAAAAA0C7xQAAAAABwdfFAAAAAALBw8EAAAAAAIIDxQAAAAAAQLPBAAAAAAGBG8EAAAAAAIOvwQAAAAACgDPFAAAAAACC48EAAAAAAYNXwQAAAAAAwgPFAAAAAACAt8UAAAAAA0HHxQAAAAABgnPFAAAAAALBF8UAAAAAAYEvxQAAAAADAq/FAAAAAAMCr8EAAAAAAYN7wQAAAAACw0/BAAAAAAODk8EAAAAAAIH3xQAAAAADgmfBAAAAAAHD98EAAAAAAcDrxQAAAAAAQvPFAAAAAAKC08EAAAAAAUBbxQAAAAABAxfFAAAAAAJDP8EAAAAAAYC3vQAAAAAAAcfFAAAAAAEC08UAAAAAAAMPxQAAAAABQbPBAAAAAALAF8UAAAAAAgCjxQAAAAACw9PBAAAAAACAC8UAAAAAAwCDxQAAAAABw7PBAAAAAAID38EAAAAAAQNnwQAAAAAAQMvFAAAAAAAA58UAAAAAA0HzxQAAAAACgF/JAAAAAAIDi8EAAAAAA0CzxQAAAAACgePFAAAAAAMBq8EAAAAAAYI7wQAAAAABA0PFAAAAAABD88EAAAAAAsE/xQAAAAABgkvFAAAAAAFDd8EAAAAAAUADxQAAAAAAAD/FAAAAAAOBo8UAAAAAAgLvwQAAAAAAw3vBAAAAAAMDx8EAAAAAAMH/wQAAAAADA7PBAAAAAAAAF8UAAAAAAgGvxQAAAAACAqPFAAAAAABDr8UAAAAAA0BrxQAAAAABQ5PBAAAAAAKB88UAAAAAA4IzxQAAAAADQxPFAAAAAALDU8UAAAAAAMJjwQAAAAAAww/BAAAAAAIAk8EAAAAAAwBvxQAAAAABwEfFAAAAAADBn8UAAAAAAUKnxQAAAAABwv/BAAAAAACD38EAAAAAAsCvxQAAAAADgY/BAAAAAAOCh8EAAAAAAAMzwQAAAAABA3fBAAAAAACBu8EAAAAAA8HLxQAAAAACAqvFAAAAAAIDH8EAAAAAAMOrwQAAAAACwvvFAAAAAAODE8EAAAAAAgPHwQAAAAAAwOfFAAAAAADCL8UAAAAAAEPrxQAAAAACQ//BAAAAAAHDh8EAAAAAAAPjwQAAAAABw/fFAAAAAAGBR8UAAAAAAELvxQAAAAACw0PBAAAAAABAO8UAAAAAAwDPxQAAAAADAS/FAAAAAAIDa8EAAAAAA8OLwQAAAAABwUfFAAAAAALBh8UAAAAAA4JLxQAAAAAAgwfBAAAAAAHCa8UAAAAAAgN7xQAAAAABQxfBAAAAAALD88EAAAAAAUAfxQAAAAACQSPFAAAAAAMBB8UAAAAAAME7xQAAAAABwhfFAAAAAANCO8UAAAAAAoJjxQAAAAAAQtvFAAAAAAKBg8UAAAAAAsAfyQAAAAACwqfBAAAAAAHBA8UAAAAAAoFTxQAAAAACgb/FAAAAAAMC78UAAAAAAQE7xQAAAAAAQwPFAAAAAACAw8UAAAAAAUD7xQAAAAAAQePFAAAAAAGCj8UAAAAAAQL7wQAAAAABAGvFAAAAAAABN8EAAAAAAoBTxQAAAAAAQIvFAAAAAAPBF8UAAAAAAUG7xQAAAAACg3/BAAAAAAPAR8UAAAAAAEC3xQAAAAABwM/FAAAAAAKBD8UAAAAAAoKPxQAAAAAAg9PFAAAAAACCn8UAAAAAA4M/xQAAAAAAwwfBAAAAAABAS8UAAAAAA4DHxQAAAAAAQYvFAAAAAAGCo8UAAAAAAMObxQAAAAAAg8vFAAAAAAEAG8UAAAAAAQG7xQAAAAAAwifFAAAAAAACH8EAAAAAAQM3xQAAAAADgRPJAAAAAACAN8UAAAAAAUC7xQAAAAACgZfFAAAAAAJCl8UAAAAAA4MnxQAAAAAAQa/FAAAAAALCQ8UAAAAAAIJzxQAAAAACgr/FAAAAAABDP8EAAAAAAECvxQAAAAACwVPFAAAAAAEBr8UAAAAAAIMHxQAAAAACQ4fBAAAAAAGBW8UAAAAAA4KXxQAAAAAAQBfJAAAAAAICA70AAAAAAUF7xQAAAAABQxvBAAAAAACBj8UAAAAAAQJLxQAAAAAAgvfFAAAAAABCJ8EAAAAAAELLwQAAAAADg4/BAAAAAALAQ8UAAAAAAAEzxQAAAAACwX/BAAAAAAKB78UAAAAAAcIbxQAAAAAAQsvFAAAAAABBf8UAAAAAAIDnyQAAAAABQ6PBAAAAAADBw8UAAAAAAEIHxQAAAAACAIvJAAAAAAEBd8UAAAAAAwCvxQAAAAAAAf/FAAAAAAEDN8UAAAAAAYDryQAAAAACwnPFAAAAAAACp8UAAAAAAsB3xQAAAAABwhvFAAAAAAPCS8UAAAAAA4JbxQAAAAACAq/FAAAAAAECu8EAAAAAAYNLwQAAAAACQGfFAAAAAAMAw8UAAAAAAEGjxQAAAAADg4PFAAAAAAKBL8UAAAAAAUJDwQAAAAADATPFAAAAAAMBw8UAAAAAAYNrxQAAAAAAA2PFAAAAAAIA28kAAAAAAoCjxQAAAAABQPvFAAAAAAKCw8UAAAAAAkLvxQAAAAACwx/FAAAAAADDD8EAAAAAAwPjwQAAAAACQOvFAAAAAAJAV8UAAAAAAYFDxQAAAAABgdvFAAAAAAKCY8UAAAAAAECzyQAAAAAAQHvFAAAAAAAA+8UAAAAAAMH7xQAAAAABgfvBAAAAAAKCs8EAAAAAAELvxQAAAAACQzPFAAAAAAPCN8EAAAAAAcPPxQAAAAACwCPFAAAAAAEC38UAAAAAAkBjxQAAAAACAW/FAAAAAAODZ8UAAAAAAcE/xQAAAAAAQX/FAAAAAAGBs8UAAAAAA8DTxQAAAAADA3fFAAAAAAICW8UAAAAAAwGnxQAAAAAAQwvFAAAAAAACZ8EAAAAAAAPbwQAAAAAAALfFAAAAAAJDP8UAAAAAAQOrxQAAAAADgJPFAAAAAAACF8UAAAAAA4OvwQAAAAABg/fFAAAAAABCX8kAAAAAAAOvwQAAAAABQmfFAAAAAANDy8UAAAAAAcJrxQAAAAAAgWPFAAAAAAKDN8UAAAAAAkLbxQAAAAACQO/JAAAAAACAy8UAAAAAAIK3xQAAAAABAjvFAAAAAAKB08UAAAAAAELzxQAAAAACA5PBAAAAAAFDz8EAAAAAAQHHxQAAAAABg6fFAAAAAAHCF8UAAAAAA8BLxQAAAAABwofFAAAAAAJDI8UAAAAAAsNLxQAAAAADgQPFAAAAAAHDp8UAAAAAAYPTuQAAAAACg8vBAAAAAAAA58UAAAAAAoEDxQAAAAACQEPFAAAAAABB98UAAAAAAQOPwQAAAAABwgvFAAAAAAMB88UAAAAAAoCjxQAAAAABwPfFAAAAAAPBV8kAAAAAAYCTxQAAAAABwDfFAAAAAAEBF8UAAAAAAoPTwQAAAAADwSfJAAAAAAFB68UAAAAAAALnxQAAAAADgRvFAAAAAAOCB8EAAAAAA4KnxQAAAAAAgLvFAAAAAACBb8UAAAAAA4NfxQAAAAACw0PFAAAAAALDd8UAAAAAAkKTxQAAAAADwu/FAAAAAABBm8UAAAAAAYAzyQAAAAAAQz/FAAAAAAKBY8UAAAAAAADvxQAAAAAAA0PFAAAAAANCH8UAAAAAAIOzwQAAAAABAofFAAAAAACDD8UAAAAAAUPbxQAAAAABQ5/FAAAAAABBT8UAAAAAAkM/xQAAAAADgmvFAAAAAAOCb8UAAAAAAkKXwQAAAAABgAvJAAAAAAICm8UAAAAAAgC3yQAAAAACACPJAAAAAAEDq8UAAAAAAoN3yQAAAAACw6PFAAAAAAPAU8kAAAAAA0ATyQAAAAAAQD/JA\",\"dtype\":\"float64\",\"shape\":[447]}},\"selected\":{\"id\":\"4466\",\"type\":\"Selection\"},\"selection_policy\":{\"id\":\"4467\",\"type\":\"UnionRenderers\"}},\"id\":\"4279\",\"type\":\"ColumnDataSource\"},{\"attributes\":{\"column_name\":\"label\",\"group\":\"false\"},\"id\":\"4389\",\"type\":\"GroupFilter\"},{\"attributes\":{\"column_name\":\"label\",\"group\":\"true\"},\"id\":\"4449\",\"type\":\"GroupFilter\"},{\"attributes\":{\"data_source\":{\"id\":\"4279\",\"type\":\"ColumnDataSource\"},\"glyph\":{\"id\":\"4290\",\"type\":\"Circle\"},\"hover_glyph\":null,\"muted_glyph\":null,\"nonselection_glyph\":{\"id\":\"4291\",\"type\":\"Circle\"},\"selection_glyph\":null,\"view\":{\"id\":\"4288\",\"type\":\"CDSView\"}},\"id\":\"4292\",\"type\":\"GlyphRenderer\"},{\"attributes\":{\"color_mapper\":null,\"formatter\":{\"id\":\"4498\",\"type\":\"BasicTickFormatter\"},\"ticker\":{\"id\":\"4497\",\"type\":\"BasicTicker\"},\"visible\":false},\"id\":\"4458\",\"type\":\"ColorBar\"},{\"attributes\":{},\"id\":\"4472\",\"type\":\"BasicTickFormatter\"},{\"attributes\":{\"bottom_units\":\"screen\",\"fill_alpha\":{\"value\":0.5},\"fill_color\":{\"value\":\"lightgrey\"},\"left_units\":\"screen\",\"level\":\"overlay\",\"line_alpha\":{\"value\":1.0},\"line_color\":{\"value\":\"black\"},\"line_dash\":[4,4],\"line_width\":{\"value\":2},\"render_mode\":\"css\",\"right_units\":\"screen\",\"top_units\":\"screen\"},\"id\":\"4501\",\"type\":\"BoxAnnotation\"},{\"attributes\":{},\"id\":\"4485\",\"type\":\"BasicTickFormatter\"},{\"attributes\":{},\"id\":\"4496\",\"type\":\"BasicTickFormatter\"},{\"attributes\":{\"overlay\":{\"id\":\"4479\",\"type\":\"BoxAnnotation\"}},\"id\":\"4320\",\"type\":\"BoxZoomTool\"},{\"attributes\":{},\"id\":\"4250\",\"type\":\"LinearScale\"},{\"attributes\":{\"label\":{\"value\":\"false\"},\"renderers\":[{\"id\":\"4286\",\"type\":\"GlyphRenderer\"}]},\"id\":\"4293\",\"type\":\"LegendItem\"},{\"attributes\":{\"fill_alpha\":{\"value\":0.1},\"fill_color\":{\"value\":\"#1f77b4\"},\"line_alpha\":{\"value\":0.1},\"line_color\":{\"value\":\"#1f77b4\"},\"x\":{\"field\":\"x\"},\"y\":{\"field\":\"y\"}},\"id\":\"4453\",\"type\":\"Circle\"},{\"attributes\":{\"factors\":[\"true\",\"false\"],\"palette\":[\"#1f77b4\",\"#ff7f0e\",\"#2ca02c\",\"#d62728\",\"#9467bd\",\"#8c564b\",\"#e377c2\",\"#7f7f7f\",\"#bcbd22\",\"#17becf\"]},\"id\":\"4388\",\"type\":\"CategoricalColorMapper\"},{\"attributes\":{\"callback\":null,\"data\":{\"index\":[0,1,2,3,4,5,6,7,8,9,10,11,12,13,14,15,16,17,18,19,20,21,22,23,24,25,26,27,28,29,30,31,32,33,34,35,36,37,38,39,40,41,42,43,44,45,46,47,48,49,50,51,52,53,54,55,56,57,58,59,60,61,62,63,64,65,66,67,68,69,70,71,72,73,74,75,76,77,78,79,80,81,82,83,84,85,86,87,88,89,90,91,92,93,94,95,96,97,98,99,100,101,102,103,104,105,106,107,108,109,110,111,112,113,114,115,116,117,118,119,120,121,122,123,124,125,126,127,128,129,130,131,132,133,134,135,136,137,138,139,140,141,142,143,144,145,146,147,148,149,150,151,152,153,154,155,156,157,158,159,160,161,162,163,164,165,166,167,168,169,170,171,172,173,174,175,176,177,178,179,180,181,182,183,184,185,186,187,188,189,190,191,192,193,194,195,196,197,198,199,200,201,202,203,204,205,206],\"label\":[\"false\",\"false\",\"false\",\"false\",\"false\",\"false\",\"false\",\"false\",\"false\",\"false\",\"false\",\"false\",\"false\",\"false\",\"false\",\"false\",\"false\",\"false\",\"false\",\"false\",\"false\",\"false\",\"false\",\"false\",\"false\",\"false\",\"false\",\"false\",\"false\",\"false\",\"false\",\"false\",\"false\",\"false\",\"false\",\"false\",\"false\",\"false\",\"false\",\"false\",\"false\",\"false\",\"false\",\"false\",\"false\",\"false\",\"false\",\"false\",\"false\",\"false\",\"false\",\"false\",\"false\",\"false\",\"true\",\"false\",\"false\",\"false\",\"false\",\"false\",\"false\",\"false\",\"false\",\"false\",\"false\",\"false\",\"false\",\"false\",\"false\",\"false\",\"false\",\"false\",\"false\",\"false\",\"false\",\"false\",\"false\",\"false\",\"false\",\"false\",\"false\",\"false\",\"false\",\"true\",\"false\",\"false\",\"true\",\"false\",\"false\",\"false\",\"false\",\"false\",\"false\",\"false\",\"false\",\"false\",\"false\",\"false\",\"false\",\"false\",\"false\",\"false\",\"false\",\"false\",\"false\",\"false\",\"false\",\"false\",\"false\",\"false\",\"false\",\"false\",\"false\",\"false\",\"false\",\"false\",\"false\",\"false\",\"false\",\"false\",\"false\",\"false\",\"false\",\"false\",\"false\",\"false\",\"false\",\"false\",\"false\",\"false\",\"false\",\"false\",\"false\",\"false\",\"false\",\"false\",\"false\",\"false\",\"false\",\"false\",\"false\",\"false\",\"false\",\"false\",\"false\",\"false\",\"false\",\"false\",\"false\",\"false\",\"false\",\"false\",\"false\",\"false\",\"false\",\"false\",\"false\",\"false\",\"false\",\"true\",\"false\",\"false\",\"false\",\"false\",\"false\",\"false\",\"false\",\"false\",\"false\",\"false\",\"false\",\"false\",\"false\",\"false\",\"false\",\"false\",\"false\",\"false\",\"false\",\"false\",\"false\",\"false\",\"false\",\"false\",\"false\",\"false\",\"false\",\"false\",\"false\",\"false\",\"false\",\"false\",\"false\",\"false\",\"false\",\"false\",\"false\",\"false\",\"false\",\"false\",\"false\",\"false\",\"false\",\"false\",\"false\",\"false\",\"false\"],\"x\":{\"__ndarray__\":\"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\",\"dtype\":\"float64\",\"shape\":[207]},\"y\":{\"__ndarray__\":\"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\",\"dtype\":\"float64\",\"shape\":[207]}},\"selected\":{\"id\":\"4488\",\"type\":\"Selection\"},\"selection_policy\":{\"id\":\"4489\",\"type\":\"UnionRenderers\"}},\"id\":\"4387\",\"type\":\"ColumnDataSource\"},{\"attributes\":{\"fill_color\":{\"field\":\"label\",\"transform\":{\"id\":\"4388\",\"type\":\"CategoricalColorMapper\"}},\"line_color\":{\"field\":\"label\",\"transform\":{\"id\":\"4388\",\"type\":\"CategoricalColorMapper\"}},\"x\":{\"field\":\"x\"},\"y\":{\"field\":\"y\"}},\"id\":\"4392\",\"type\":\"Circle\"},{\"attributes\":{\"label\":{\"value\":\"true\"},\"renderers\":[{\"id\":\"4292\",\"type\":\"GlyphRenderer\"}]},\"id\":\"4294\",\"type\":\"LegendItem\"},{\"attributes\":{\"fill_alpha\":{\"value\":0.1},\"fill_color\":{\"value\":\"#1f77b4\"},\"line_alpha\":{\"value\":0.1},\"line_color\":{\"value\":\"#1f77b4\"},\"x\":{\"field\":\"x\"},\"y\":{\"field\":\"y\"}},\"id\":\"4393\",\"type\":\"Circle\"},{\"attributes\":{\"data_source\":{\"id\":\"4441\",\"type\":\"ColumnDataSource\"},\"glyph\":{\"id\":\"4452\",\"type\":\"Circle\"},\"hover_glyph\":null,\"muted_glyph\":null,\"nonselection_glyph\":{\"id\":\"4453\",\"type\":\"Circle\"},\"selection_glyph\":null,\"view\":{\"id\":\"4450\",\"type\":\"CDSView\"}},\"id\":\"4454\",\"type\":\"GlyphRenderer\"},{\"attributes\":{\"data_source\":{\"id\":\"4279\",\"type\":\"ColumnDataSource\"},\"glyph\":{\"id\":\"4284\",\"type\":\"Circle\"},\"hover_glyph\":null,\"muted_glyph\":null,\"nonselection_glyph\":{\"id\":\"4285\",\"type\":\"Circle\"},\"selection_glyph\":null,\"view\":{\"id\":\"4282\",\"type\":\"CDSView\"}},\"id\":\"4286\",\"type\":\"GlyphRenderer\"},{\"attributes\":{\"click_policy\":\"hide\",\"items\":[{\"id\":\"4455\",\"type\":\"LegendItem\"},{\"id\":\"4456\",\"type\":\"LegendItem\"}]},\"id\":\"4457\",\"type\":\"Legend\"},{\"attributes\":{\"label\":{\"value\":\"false\"},\"renderers\":[{\"id\":\"4394\",\"type\":\"GlyphRenderer\"}]},\"id\":\"4401\",\"type\":\"LegendItem\"},{\"attributes\":{},\"id\":\"4412\",\"type\":\"LinearScale\"},{\"attributes\":{},\"id\":\"4414\",\"type\":\"LinearScale\"},{\"attributes\":{},\"id\":\"4323\",\"type\":\"HelpTool\"},{\"attributes\":{\"column_name\":\"label\",\"group\":\"true\"},\"id\":\"4287\",\"type\":\"GroupFilter\"},{\"attributes\":{\"active_drag\":\"auto\",\"active_inspect\":\"auto\",\"active_multi\":null,\"active_scroll\":\"auto\",\"active_tap\":\"auto\",\"tools\":[{\"id\":\"4318\",\"type\":\"PanTool\"},{\"id\":\"4319\",\"type\":\"WheelZoomTool\"},{\"id\":\"4320\",\"type\":\"BoxZoomTool\"},{\"id\":\"4321\",\"type\":\"SaveTool\"},{\"id\":\"4322\",\"type\":\"ResetTool\"},{\"id\":\"4323\",\"type\":\"HelpTool\"},{\"id\":\"4332\",\"type\":\"HoverTool\"}]},\"id\":\"4324\",\"type\":\"Toolbar\"},{\"attributes\":{\"callback\":null},\"id\":\"4408\",\"type\":\"DataRange1d\"},{\"attributes\":{},\"id\":\"4309\",\"type\":\"BasicTicker\"},{\"attributes\":{\"axis_label\":\"DP mean\",\"formatter\":{\"id\":\"4494\",\"type\":\"BasicTickFormatter\"},\"ticker\":{\"id\":\"4417\",\"type\":\"BasicTicker\"}},\"id\":\"4416\",\"type\":\"LinearAxis\"},{\"attributes\":{\"dimension\":1,\"ticker\":{\"id\":\"4422\",\"type\":\"BasicTicker\"}},\"id\":\"4425\",\"type\":\"Grid\"},{\"attributes\":{\"below\":[{\"id\":\"4362\",\"type\":\"LinearAxis\"}],\"center\":[{\"id\":\"4366\",\"type\":\"Grid\"},{\"id\":\"4371\",\"type\":\"Grid\"}],\"left\":[{\"id\":\"4367\",\"type\":\"LinearAxis\"},{\"id\":\"4403\",\"type\":\"Legend\"},{\"id\":\"4404\",\"type\":\"ColorBar\"}],\"plot_height\":400,\"plot_width\":600,\"renderers\":[{\"id\":\"4394\",\"type\":\"GlyphRenderer\"},{\"id\":\"4400\",\"type\":\"GlyphRenderer\"}],\"title\":{\"id\":\"4352\",\"type\":\"Title\"},\"toolbar\":{\"id\":\"4378\",\"type\":\"Toolbar\"},\"toolbar_location\":null,\"x_range\":{\"id\":\"4354\",\"type\":\"DataRange1d\"},\"x_scale\":{\"id\":\"4358\",\"type\":\"LinearScale\"},\"y_range\":{\"id\":\"4356\",\"type\":\"DataRange1d\"},\"y_scale\":{\"id\":\"4360\",\"type\":\"LinearScale\"}},\"id\":\"4351\",\"subtype\":\"Figure\",\"type\":\"Plot\"},{\"attributes\":{\"factors\":[\"true\",\"false\"],\"palette\":[\"#1f77b4\",\"#ff7f0e\",\"#2ca02c\",\"#d62728\",\"#9467bd\",\"#8c564b\",\"#e377c2\",\"#7f7f7f\",\"#bcbd22\",\"#17becf\"]},\"id\":\"4334\",\"type\":\"CategoricalColorMapper\"},{\"attributes\":{\"ticker\":{\"id\":\"4309\",\"type\":\"BasicTicker\"}},\"id\":\"4312\",\"type\":\"Grid\"},{\"attributes\":{\"axis_label\":\"# singletons\",\"formatter\":{\"id\":\"4496\",\"type\":\"BasicTickFormatter\"},\"ticker\":{\"id\":\"4422\",\"type\":\"BasicTicker\"}},\"id\":\"4421\",\"type\":\"LinearAxis\"},{\"attributes\":{\"callback\":null,\"data\":{\"index\":[0,1,2,3,4,5,6,7,8,9,10,11,12,13,14,15,16,17,18,19,20,21,22,23,24,25,26,27,28,29,30,31,32,33,34,35,36,37,38,39,40,41,42,43,44,45,46,47,48,49,50,51,52,53,54,55,56,57,58,59,60,61,62,63,64,65,66,67,68,69,70,71,72,73,74,75,76,77,78,79,80,81,82,83,84,85,86,87,88,89,90,91,92,93,94,95,96,97,98,99,100,101,102,103,104,105,106,107,108,109,110,111,112,113,114,115,116,117,118,119,120,121,122,123,124,125,126,127,128,129,130,131,132,133,134,135,136,137,138,139,140,141,142,143,144,145,146,147,148,149,150,151,152,153,154,155,156,157,158,159,160,161,162,163,164,165,166,167,168,169,170,171,172,173,174,175,176,177,178,179,180,181,182,183,184,185,186,187,188,189,190,191,192,193,194,195,196,197,198,199,200,201,202,203,204,205,206,207,208,209,210,211,212,213,214,215,216,217,218,219,220,221,222,223,224,225,226,227,228,229,230,231,232,233,234,235,236,237,238,239,240,241,242,243,244,245,246,247,248,249,250,251,252,253,254,255,256,257,258,259,260,261,262,263,264,265,266,267,268,269,270,271,272,273,274,275,276,277,278,279,280,281,282,283,284,285,286,287,288,289,290,291,292,293,294,295,296,297,298,299,300,301,302,303,304,305,306,307,308,309,310,311,312,313,314,315,316,317,318,319,320,321,322,323,324,325,326,327,328,329,330,331,332,333,334,335,336,337,338,339,340,341,342,343,344,345,346,347,348,349,350,351,352,353,354,355,356,357,358,359,360,361,362,363,364,365,366,367,368,369,370,371,372,373,374,375,376,377,378,379,380,381,382,383,384,385,386,387,388,389,390,391,392,393,394,395,396,397,398,399,400,401],\"label\":[\"false\",\"false\",\"false\",\"false\",\"false\",\"false\",\"false\",\"false\",\"false\",\"false\",\"false\",\"false\",\"false\",\"false\",\"false\",\"false\",\"false\",\"false\",\"false\",\"false\",\"false\",\"false\",\"false\",\"true\",\"false\",\"false\",\"false\",\"false\",\"false\",\"false\",\"false\",\"false\",\"false\",\"false\",\"false\",\"false\",\"false\",\"false\",\"false\",\"false\",\"false\",\"false\",\"false\",\"false\",\"false\",\"false\",\"false\",\"false\",\"false\",\"false\",\"false\",\"false\",\"false\",\"false\",\"false\",\"false\",\"false\",\"false\",\"false\",\"false\",\"false\",\"false\",\"false\",\"false\",\"false\",\"false\",\"false\",\"false\",\"false\",\"false\",\"false\",\"false\",\"false\",\"false\",\"false\",\"false\",\"false\",\"false\",\"false\",\"false\",\"false\",\"false\",\"false\",\"false\",\"false\",\"false\",\"false\",\"false\",\"false\",\"false\",\"false\",\"false\",\"false\",\"false\",\"false\",\"false\",\"false\",\"false\",\"false\",\"false\",\"false\",\"false\",\"false\",\"false\",\"false\",\"false\",\"false\",\"false\",\"false\",\"false\",\"false\",\"false\",\"false\",\"false\",\"false\",\"false\",\"false\",\"false\",\"false\",\"false\",\"false\",\"false\",\"false\",\"false\",\"false\",\"false\",\"false\",\"false\",\"false\",\"false\",\"false\",\"false\",\"false\",\"false\",\"false\",\"false\",\"false\",\"false\",\"false\",\"false\",\"false\",\"false\",\"false\",\"false\",\"false\",\"false\",\"false\",\"false\",\"false\",\"false\",\"false\",\"false\",\"false\",\"false\",\"false\",\"false\",\"false\",\"false\",\"false\",\"false\",\"true\",\"false\",\"false\",\"false\",\"false\",\"false\",\"false\",\"true\",\"false\",\"false\",\"false\",\"false\",\"false\",\"false\",\"false\",\"false\",\"false\",\"false\",\"false\",\"false\",\"false\",\"false\",\"false\",\"false\",\"false\",\"false\",\"false\",\"false\",\"false\",\"false\",\"false\",\"false\",\"false\",\"false\",\"false\",\"false\",\"false\",\"false\",\"false\",\"false\",\"false\",\"false\",\"false\",\"false\",\"false\",\"true\",\"false\",\"false\",\"false\",\"false\",\"false\",\"false\",\"false\",\"false\",\"false\",\"false\",\"false\",\"false\",\"false\",\"false\",\"false\",\"false\",\"false\",\"false\",\"false\",\"false\",\"false\",\"false\",\"false\",\"false\",\"false\",\"false\",\"false\",\"false\",\"false\",\"false\",\"false\",\"false\",\"false\",\"false\",\"false\",\"false\",\"false\",\"false\",\"false\",\"false\",\"false\",\"false\",\"false\",\"false\",\"false\",\"false\",\"false\",\"false\",\"false\",\"false\",\"false\",\"false\",\"false\",\"false\",\"false\",\"false\",\"false\",\"false\",\"false\",\"false\",\"false\",\"false\",\"false\",\"false\",\"false\",\"false\",\"false\",\"false\",\"false\",\"false\",\"false\",\"false\",\"false\",\"false\",\"false\",\"false\",\"false\",\"false\",\"false\",\"false\",\"false\",\"false\",\"false\",\"false\",\"false\",\"false\",\"false\",\"false\",\"false\",\"false\",\"false\",\"false\",\"false\",\"false\",\"false\",\"false\",\"false\",\"false\",\"false\",\"false\",\"false\",\"false\",\"false\",\"false\",\"false\",\"false\",\"false\",\"false\",\"false\",\"false\",\"false\",\"false\",\"false\",\"false\",\"false\",\"false\",\"false\",\"false\",\"false\",\"false\",\"false\",\"false\",\"false\",\"false\",\"false\",\"false\",\"false\",\"false\",\"false\",\"false\",\"false\",\"false\",\"false\",\"false\",\"false\",\"false\",\"false\",\"true\",\"true\",\"false\",\"false\",\"false\",\"false\",\"false\",\"false\",\"false\",\"false\",\"false\",\"false\",\"false\",\"false\",\"false\",\"false\",\"false\",\"false\",\"false\",\"false\",\"false\",\"false\",\"false\",\"false\",\"false\",\"false\",\"false\",\"false\",\"false\",\"false\",\"false\",\"false\",\"false\",\"false\",\"false\",\"false\",\"false\",\"false\",\"false\",\"false\",\"false\",\"false\",\"false\",\"false\",\"false\",\"false\",\"false\",\"false\",\"false\",\"false\",\"false\",\"false\",\"false\",\"false\",\"false\",\"false\",\"false\",\"false\",\"false\"],\"x\":{\"__ndarray__\":\"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\",\"dtype\":\"float64\",\"shape\":[402]},\"y\":{\"__ndarray__\":\"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\",\"dtype\":\"float64\",\"shape\":[402]}},\"selected\":{\"id\":\"4477\",\"type\":\"Selection\"},\"selection_policy\":{\"id\":\"4478\",\"type\":\"UnionRenderers\"}},\"id\":\"4333\",\"type\":\"ColumnDataSource\"},{\"attributes\":{\"callback\":null},\"id\":\"4410\",\"type\":\"DataRange1d\"},{\"attributes\":{\"filters\":[{\"id\":\"4335\",\"type\":\"GroupFilter\"}],\"source\":{\"id\":\"4333\",\"type\":\"ColumnDataSource\"}},\"id\":\"4336\",\"type\":\"CDSView\"},{\"attributes\":{\"color_mapper\":null,\"formatter\":{\"id\":\"4487\",\"type\":\"BasicTickFormatter\"},\"ticker\":{\"id\":\"4486\",\"type\":\"BasicTicker\"},\"visible\":false},\"id\":\"4404\",\"type\":\"ColorBar\"},{\"attributes\":{\"fill_color\":{\"field\":\"label\",\"transform\":{\"id\":\"4334\",\"type\":\"CategoricalColorMapper\"}},\"line_color\":{\"field\":\"label\",\"transform\":{\"id\":\"4334\",\"type\":\"CategoricalColorMapper\"}},\"x\":{\"field\":\"x\"},\"y\":{\"field\":\"y\"}},\"id\":\"4338\",\"type\":\"Circle\"},{\"attributes\":{\"filters\":[{\"id\":\"4341\",\"type\":\"GroupFilter\"}],\"source\":{\"id\":\"4333\",\"type\":\"ColumnDataSource\"}},\"id\":\"4342\",\"type\":\"CDSView\"},{\"attributes\":{\"factors\":[\"true\",\"false\"],\"palette\":[\"#1f77b4\",\"#ff7f0e\",\"#2ca02c\",\"#d62728\",\"#9467bd\",\"#8c564b\",\"#e377c2\",\"#7f7f7f\",\"#bcbd22\",\"#17becf\"]},\"id\":\"4442\",\"type\":\"CategoricalColorMapper\"},{\"attributes\":{},\"id\":\"4427\",\"type\":\"WheelZoomTool\"},{\"attributes\":{\"fill_alpha\":{\"value\":0.1},\"fill_color\":{\"value\":\"#1f77b4\"},\"line_alpha\":{\"value\":0.1},\"line_color\":{\"value\":\"#1f77b4\"},\"x\":{\"field\":\"x\"},\"y\":{\"field\":\"y\"}},\"id\":\"4399\",\"type\":\"Circle\"},{\"attributes\":{\"fill_alpha\":{\"value\":0.1},\"fill_color\":{\"value\":\"#1f77b4\"},\"line_alpha\":{\"value\":0.1},\"line_color\":{\"value\":\"#1f77b4\"},\"x\":{\"field\":\"x\"},\"y\":{\"field\":\"y\"}},\"id\":\"4339\",\"type\":\"Circle\"},{\"attributes\":{},\"id\":\"4426\",\"type\":\"PanTool\"},{\"attributes\":{\"ticker\":{\"id\":\"4417\",\"type\":\"BasicTicker\"}},\"id\":\"4420\",\"type\":\"Grid\"},{\"attributes\":{\"toolbar\":{\"id\":\"5030\",\"type\":\"ProxyToolbar\"},\"toolbar_location\":\"above\"},\"id\":\"5031\",\"type\":\"ToolbarBox\"},{\"attributes\":{\"label\":{\"value\":\"false\"},\"renderers\":[{\"id\":\"4340\",\"type\":\"GlyphRenderer\"}]},\"id\":\"4347\",\"type\":\"LegendItem\"},{\"attributes\":{},\"id\":\"4499\",\"type\":\"Selection\"},{\"attributes\":{\"dimension\":1,\"ticker\":{\"id\":\"4314\",\"type\":\"BasicTicker\"}},\"id\":\"4317\",\"type\":\"Grid\"},{\"attributes\":{\"fill_color\":{\"field\":\"label\",\"transform\":{\"id\":\"4280\",\"type\":\"CategoricalColorMapper\"}},\"line_color\":{\"field\":\"label\",\"transform\":{\"id\":\"4280\",\"type\":\"CategoricalColorMapper\"}},\"x\":{\"field\":\"x\"},\"y\":{\"field\":\"y\"}},\"id\":\"4290\",\"type\":\"Circle\"},{\"attributes\":{\"data_source\":{\"id\":\"4333\",\"type\":\"ColumnDataSource\"},\"glyph\":{\"id\":\"4338\",\"type\":\"Circle\"},\"hover_glyph\":null,\"muted_glyph\":null,\"nonselection_glyph\":{\"id\":\"4339\",\"type\":\"Circle\"},\"selection_glyph\":null,\"view\":{\"id\":\"4336\",\"type\":\"CDSView\"}},\"id\":\"4340\",\"type\":\"GlyphRenderer\"},{\"attributes\":{},\"id\":\"4463\",\"type\":\"BasicTickFormatter\"},{\"attributes\":{},\"id\":\"4461\",\"type\":\"BasicTickFormatter\"},{\"attributes\":{\"active_drag\":\"auto\",\"active_inspect\":\"auto\",\"active_multi\":null,\"active_scroll\":\"auto\",\"active_tap\":\"auto\",\"tools\":[{\"id\":\"4426\",\"type\":\"PanTool\"},{\"id\":\"4427\",\"type\":\"WheelZoomTool\"},{\"id\":\"4428\",\"type\":\"BoxZoomTool\"},{\"id\":\"4429\",\"type\":\"SaveTool\"},{\"id\":\"4430\",\"type\":\"ResetTool\"},{\"id\":\"4431\",\"type\":\"HelpTool\"},{\"id\":\"4440\",\"type\":\"HoverTool\"}]},\"id\":\"4432\",\"type\":\"Toolbar\"},{\"attributes\":{\"fill_color\":{\"field\":\"label\",\"transform\":{\"id\":\"4334\",\"type\":\"CategoricalColorMapper\"}},\"line_color\":{\"field\":\"label\",\"transform\":{\"id\":\"4334\",\"type\":\"CategoricalColorMapper\"}},\"x\":{\"field\":\"x\"},\"y\":{\"field\":\"y\"}},\"id\":\"4344\",\"type\":\"Circle\"},{\"attributes\":{\"column_name\":\"label\",\"group\":\"true\"},\"id\":\"4341\",\"type\":\"GroupFilter\"},{\"attributes\":{},\"id\":\"4466\",\"type\":\"Selection\"},{\"attributes\":{\"column_name\":\"label\",\"group\":\"false\"},\"id\":\"4335\",\"type\":\"GroupFilter\"},{\"attributes\":{\"fill_alpha\":{\"value\":0.1},\"fill_color\":{\"value\":\"#1f77b4\"},\"line_alpha\":{\"value\":0.1},\"line_color\":{\"value\":\"#1f77b4\"},\"x\":{\"field\":\"x\"},\"y\":{\"field\":\"y\"}},\"id\":\"4345\",\"type\":\"Circle\"},{\"attributes\":{\"click_policy\":\"hide\",\"items\":[{\"id\":\"4401\",\"type\":\"LegendItem\"},{\"id\":\"4402\",\"type\":\"LegendItem\"}]},\"id\":\"4403\",\"type\":\"Legend\"},{\"attributes\":{},\"id\":\"4417\",\"type\":\"BasicTicker\"},{\"attributes\":{\"data_source\":{\"id\":\"4333\",\"type\":\"ColumnDataSource\"},\"glyph\":{\"id\":\"4344\",\"type\":\"Circle\"},\"hover_glyph\":null,\"muted_glyph\":null,\"nonselection_glyph\":{\"id\":\"4345\",\"type\":\"Circle\"},\"selection_glyph\":null,\"view\":{\"id\":\"4342\",\"type\":\"CDSView\"}},\"id\":\"4346\",\"type\":\"GlyphRenderer\"},{\"attributes\":{},\"id\":\"4422\",\"type\":\"BasicTicker\"},{\"attributes\":{\"callback\":null},\"id\":\"4354\",\"type\":\"DataRange1d\"},{\"attributes\":{},\"id\":\"4430\",\"type\":\"ResetTool\"},{\"attributes\":{\"data_source\":{\"id\":\"4387\",\"type\":\"ColumnDataSource\"},\"glyph\":{\"id\":\"4398\",\"type\":\"Circle\"},\"hover_glyph\":null,\"muted_glyph\":null,\"nonselection_glyph\":{\"id\":\"4399\",\"type\":\"Circle\"},\"selection_glyph\":null,\"view\":{\"id\":\"4396\",\"type\":\"CDSView\"}},\"id\":\"4400\",\"type\":\"GlyphRenderer\"},{\"attributes\":{\"overlay\":{\"id\":\"4501\",\"type\":\"BoxAnnotation\"}},\"id\":\"4428\",\"type\":\"BoxZoomTool\"},{\"attributes\":{\"label\":{\"value\":\"true\"},\"renderers\":[{\"id\":\"4346\",\"type\":\"GlyphRenderer\"}]},\"id\":\"4348\",\"type\":\"LegendItem\"},{\"attributes\":{\"callback\":null,\"tooltips\":[[\"x\",\"@x\"],[\"y\",\"@y\"],[\"label\",\"@label\"]]},\"id\":\"4440\",\"type\":\"HoverTool\"},{\"attributes\":{\"color_mapper\":null,\"formatter\":{\"id\":\"4476\",\"type\":\"BasicTickFormatter\"},\"ticker\":{\"id\":\"4475\",\"type\":\"BasicTicker\"},\"visible\":false},\"id\":\"4350\",\"type\":\"ColorBar\"},{\"attributes\":{},\"id\":\"4431\",\"type\":\"HelpTool\"},{\"attributes\":{\"click_policy\":\"hide\",\"items\":[{\"id\":\"4347\",\"type\":\"LegendItem\"},{\"id\":\"4348\",\"type\":\"LegendItem\"}]},\"id\":\"4349\",\"type\":\"Legend\"},{\"attributes\":{},\"id\":\"4314\",\"type\":\"BasicTicker\"},{\"attributes\":{\"axis_label\":\"DP mean\",\"formatter\":{\"id\":\"4483\",\"type\":\"BasicTickFormatter\"},\"ticker\":{\"id\":\"4363\",\"type\":\"BasicTicker\"}},\"id\":\"4362\",\"type\":\"LinearAxis\"},{\"attributes\":{\"below\":[{\"id\":\"4254\",\"type\":\"LinearAxis\"}],\"center\":[{\"id\":\"4258\",\"type\":\"Grid\"},{\"id\":\"4263\",\"type\":\"Grid\"}],\"left\":[{\"id\":\"4259\",\"type\":\"LinearAxis\"},{\"id\":\"4295\",\"type\":\"Legend\"},{\"id\":\"4296\",\"type\":\"ColorBar\"}],\"plot_height\":400,\"plot_width\":600,\"renderers\":[{\"id\":\"4286\",\"type\":\"GlyphRenderer\"},{\"id\":\"4292\",\"type\":\"GlyphRenderer\"}],\"title\":{\"id\":\"4244\",\"type\":\"Title\"},\"toolbar\":{\"id\":\"4270\",\"type\":\"Toolbar\"},\"toolbar_location\":null,\"x_range\":{\"id\":\"4246\",\"type\":\"DataRange1d\"},\"x_scale\":{\"id\":\"4250\",\"type\":\"LinearScale\"},\"y_range\":{\"id\":\"4248\",\"type\":\"DataRange1d\"},\"y_scale\":{\"id\":\"4252\",\"type\":\"LinearScale\"}},\"id\":\"4243\",\"subtype\":\"Figure\",\"type\":\"Plot\"},{\"attributes\":{\"axis_label\":\"Call rate\",\"formatter\":{\"id\":\"4485\",\"type\":\"BasicTickFormatter\"},\"ticker\":{\"id\":\"4368\",\"type\":\"BasicTicker\"}},\"id\":\"4367\",\"type\":\"LinearAxis\"},{\"attributes\":{\"callback\":null,\"data\":{\"index\":[0,1,2,3,4,5,6,7,8,9,10,11,12,13,14,15,16,17,18,19,20,21,22,23,24,25,26,27,28,29,30,31,32,33,34,35,36,37,38,39,40,41,42,43,44,45,46,47,48,49,50,51,52,53,54,55,56,57,58,59,60,61,62,63,64,65,66,67,68,69,70,71,72,73,74,75,76,77,78,79,80,81,82,83,84,85,86,87,88,89,90,91,92,93,94,95,96,97,98,99,100,101,102,103,104,105,106,107,108,109,110,111,112,113,114,115,116,117,118,119,120,121,122,123,124,125,126,127,128,129,130,131,132,133,134,135,136,137,138,139,140,141,142,143,144,145,146,147,148,149,150,151,152,153,154,155,156,157,158,159,160,161,162,163,164,165,166,167,168,169,170,171,172,173,174,175,176,177,178,179,180,181,182,183,184,185,186,187,188,189,190,191,192,193,194,195,196,197,198,199,200,201,202,203,204,205,206,207,208,209,210,211,212,213,214,215,216,217,218,219,220,221,222,223,224,225,226,227,228,229,230,231,232,233,234,235,236,237,238,239,240,241,242,243,244,245,246,247,248,249,250,251,252,253,254,255,256,257,258,259,260,261,262,263,264,265,266,267,268,269,270,271,272,273,274,275,276,277,278,279,280,281,282,283,284,285,286,287,288,289,290,291,292,293,294,295,296,297,298,299,300,301,302,303,304,305,306,307,308,309,310,311,312,313,314,315,316,317,318,319,320,321,322,323,324,325,326,327,328,329,330,331,332,333,334,335,336,337,338,339,340,341,342,343,344,345,346,347,348,349,350,351,352,353,354,355,356,357,358,359,360,361,362,363,364,365,366,367,368,369,370,371,372,373,374,375,376,377,378,379,380,381,382,383,384,385,386,387,388,389,390,391,392,393,394,395,396,397,398,399,400,401,402,403,404,405,406,407,408,409,410,411,412,413,414,415,416,417,418,419,420,421,422,423,424,425,426,427,428,429,430,431,432,433,434,435,436,437,438,439,440,441,442,443,444,445,446,447,448,449,450,451,452,453,454,455,456,457,458,459,460,461,462],\"label\":[\"false\",\"false\",\"false\",\"false\",\"false\",\"false\",\"false\",\"false\",\"false\",\"false\",\"false\",\"false\",\"false\",\"false\",\"false\",\"false\",\"false\",\"false\",\"false\",\"false\",\"false\",\"false\",\"false\",\"false\",\"true\",\"false\",\"false\",\"false\",\"false\",\"false\",\"false\",\"false\",\"false\",\"false\",\"false\",\"false\",\"false\",\"false\",\"false\",\"false\",\"false\",\"false\",\"false\",\"false\",\"false\",\"false\",\"false\",\"false\",\"false\",\"false\",\"false\",\"false\",\"false\",\"false\",\"false\",\"false\",\"false\",\"false\",\"false\",\"false\",\"false\",\"false\",\"false\",\"false\",\"false\",\"false\",\"false\",\"false\",\"false\",\"false\",\"false\",\"false\",\"false\",\"false\",\"false\",\"false\",\"false\",\"false\",\"false\",\"false\",\"false\",\"false\",\"false\",\"false\",\"false\",\"false\",\"false\",\"false\",\"false\",\"false\",\"false\",\"false\",\"false\",\"false\",\"false\",\"false\",\"false\",\"false\",\"false\",\"false\",\"false\",\"false\",\"false\",\"false\",\"false\",\"true\",\"false\",\"false\",\"false\",\"false\",\"false\",\"false\",\"false\",\"false\",\"false\",\"false\",\"false\",\"false\",\"false\",\"false\",\"false\",\"false\",\"false\",\"false\",\"false\",\"false\",\"false\",\"false\",\"false\",\"false\",\"false\",\"false\",\"false\",\"false\",\"false\",\"false\",\"false\",\"false\",\"false\",\"false\",\"false\",\"false\",\"false\",\"false\",\"false\",\"false\",\"false\",\"false\",\"false\",\"false\",\"false\",\"false\",\"false\",\"false\",\"false\",\"false\",\"false\",\"false\",\"false\",\"false\",\"false\",\"false\",\"false\",\"false\",\"false\",\"false\",\"false\",\"false\",\"false\",\"false\",\"false\",\"false\",\"false\",\"false\",\"false\",\"false\",\"false\",\"false\",\"false\",\"false\",\"false\",\"false\",\"false\",\"false\",\"true\",\"false\",\"false\",\"false\",\"false\",\"false\",\"false\",\"false\",\"false\",\"false\",\"false\",\"false\",\"true\",\"false\",\"false\",\"false\",\"false\",\"false\",\"false\",\"false\",\"false\",\"false\",\"false\",\"false\",\"false\",\"false\",\"false\",\"false\",\"false\",\"false\",\"false\",\"false\",\"false\",\"false\",\"false\",\"false\",\"false\",\"false\",\"false\",\"false\",\"false\",\"false\",\"false\",\"false\",\"false\",\"false\",\"false\",\"false\",\"false\",\"false\",\"false\",\"false\",\"false\",\"true\",\"false\",\"false\",\"false\",\"false\",\"false\",\"false\",\"false\",\"false\",\"false\",\"false\",\"false\",\"false\",\"false\",\"false\",\"false\",\"false\",\"false\",\"false\",\"false\",\"false\",\"false\",\"false\",\"false\",\"false\",\"false\",\"false\",\"false\",\"false\",\"false\",\"false\",\"false\",\"false\",\"false\",\"false\",\"false\",\"false\",\"false\",\"false\",\"false\",\"false\",\"false\",\"false\",\"false\",\"false\",\"false\",\"false\",\"false\",\"false\",\"false\",\"false\",\"false\",\"false\",\"false\",\"false\",\"false\",\"false\",\"false\",\"false\",\"false\",\"false\",\"false\",\"false\",\"false\",\"false\",\"false\",\"false\",\"false\",\"false\",\"false\",\"false\",\"false\",\"false\",\"false\",\"false\",\"false\",\"false\",\"false\",\"false\",\"false\",\"false\",\"false\",\"false\",\"false\",\"false\",\"false\",\"false\",\"false\",\"false\",\"false\",\"false\",\"false\",\"false\",\"false\",\"false\",\"false\",\"false\",\"false\",\"false\",\"false\",\"false\",\"false\",\"false\",\"false\",\"false\",\"false\",\"false\",\"false\",\"false\",\"false\",\"false\",\"false\",\"false\",\"false\",\"false\",\"false\",\"false\",\"false\",\"false\",\"false\",\"false\",\"false\",\"false\",\"false\",\"false\",\"false\",\"false\",\"false\",\"false\",\"false\",\"false\",\"false\",\"false\",\"false\",\"false\",\"false\",\"false\",\"false\",\"false\",\"false\",\"false\",\"false\",\"false\",\"false\",\"false\",\"false\",\"false\",\"false\",\"false\",\"false\",\"false\",\"false\",\"false\",\"false\",\"false\",\"false\",\"false\",\"false\",\"false\",\"false\",\"false\",\"false\",\"false\",\"true\",\"false\",\"true\",\"false\",\"false\",\"false\",\"false\",\"false\",\"false\",\"false\",\"false\",\"false\",\"false\",\"false\",\"false\",\"false\",\"false\",\"false\",\"false\",\"false\",\"false\",\"false\",\"false\",\"false\",\"false\",\"false\",\"false\",\"false\",\"false\",\"false\",\"false\",\"false\",\"false\",\"false\",\"false\",\"false\",\"false\",\"false\",\"false\",\"false\",\"false\",\"false\",\"false\",\"false\",\"false\",\"false\",\"false\",\"false\",\"false\",\"false\",\"false\",\"false\",\"false\",\"false\",\"false\",\"false\",\"false\",\"false\",\"false\",\"false\",\"false\",\"false\",\"false\"],\"x\":{\"__ndarray__\":\"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\",\"dtype\":\"float64\",\"shape\":[463]},\"y\":{\"__ndarray__\":\"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\",\"dtype\":\"float64\",\"shape\":[463]}},\"selected\":{\"id\":\"4499\",\"type\":\"Selection\"},\"selection_policy\":{\"id\":\"4500\",\"type\":\"UnionRenderers\"}},\"id\":\"4441\",\"type\":\"ColumnDataSource\"},{\"attributes\":{},\"id\":\"4360\",\"type\":\"LinearScale\"},{\"attributes\":{\"column_name\":\"label\",\"group\":\"false\"},\"id\":\"4443\",\"type\":\"GroupFilter\"},{\"attributes\":{\"below\":[{\"id\":\"4308\",\"type\":\"LinearAxis\"}],\"center\":[{\"id\":\"4312\",\"type\":\"Grid\"},{\"id\":\"4317\",\"type\":\"Grid\"}],\"left\":[{\"id\":\"4313\",\"type\":\"LinearAxis\"},{\"id\":\"4349\",\"type\":\"Legend\"},{\"id\":\"4350\",\"type\":\"ColorBar\"}],\"plot_height\":400,\"plot_width\":600,\"renderers\":[{\"id\":\"4340\",\"type\":\"GlyphRenderer\"},{\"id\":\"4346\",\"type\":\"GlyphRenderer\"}],\"title\":{\"id\":\"4298\",\"type\":\"Title\"},\"toolbar\":{\"id\":\"4324\",\"type\":\"Toolbar\"},\"toolbar_location\":null,\"x_range\":{\"id\":\"4300\",\"type\":\"DataRange1d\"},\"x_scale\":{\"id\":\"4304\",\"type\":\"LinearScale\"},\"y_range\":{\"id\":\"4302\",\"type\":\"DataRange1d\"},\"y_scale\":{\"id\":\"4306\",\"type\":\"LinearScale\"}},\"id\":\"4297\",\"subtype\":\"Figure\",\"type\":\"Plot\"},{\"attributes\":{},\"id\":\"4318\",\"type\":\"PanTool\"},{\"attributes\":{\"text\":\"# singletons\"},\"id\":\"4406\",\"type\":\"Title\"},{\"attributes\":{},\"id\":\"4363\",\"type\":\"BasicTicker\"},{\"attributes\":{},\"id\":\"4429\",\"type\":\"SaveTool\"},{\"attributes\":{\"ticker\":{\"id\":\"4363\",\"type\":\"BasicTicker\"}},\"id\":\"4366\",\"type\":\"Grid\"},{\"attributes\":{\"axis_label\":\"Ti/Tv rate\",\"formatter\":{\"id\":\"4474\",\"type\":\"BasicTickFormatter\"},\"ticker\":{\"id\":\"4314\",\"type\":\"BasicTicker\"}},\"id\":\"4313\",\"type\":\"LinearAxis\"}],\"root_ids\":[\"5032\"]},\"title\":\"Bokeh Application\",\"version\":\"1.2.0\"}};\n",
       "  var render_items = [{\"docid\":\"01bd33cd-28ad-42ba-a237-6c4471e0d579\",\"roots\":{\"5032\":\"94f2c81e-ba2e-45bf-a4f0-488ada8baf22\"}}];\n",
       "  root.Bokeh.embed.embed_items_notebook(docs_json, render_items);\n",
       "\n",
       "  }\n",
       "  if (root.Bokeh !== undefined) {\n",
       "    embed_document(root);\n",
       "  } else {\n",
       "    var attempts = 0;\n",
       "    var timer = setInterval(function(root) {\n",
       "      if (root.Bokeh !== undefined) {\n",
       "        embed_document(root);\n",
       "        clearInterval(timer);\n",
       "      }\n",
       "      attempts++;\n",
       "      if (attempts > 100) {\n",
       "        console.log(\"Bokeh: ERROR: Unable to run BokehJS code because BokehJS library is missing\");\n",
       "        clearInterval(timer);\n",
       "      }\n",
       "    }, 10, root)\n",
       "  }\n",
       "})(window);"
      ],
      "application/vnd.bokehjs_exec.v0+json": ""
     },
     "metadata": {
      "application/vnd.bokehjs_exec.v0+json": {
       "id": "5032"
      }
     },
     "output_type": "display_data"
    }
   ],
   "source": [
    "show(gridplot(plot_list, ncols=2, plot_width=600, plot_height=400))"
   ]
  },
  {
   "cell_type": "markdown",
   "metadata": {},
   "source": [
    "There seems to be nothing abnormal with these samples with disconcordant imputed sex and self-reported gender. We will therefore trust that our computation is correct, and keep the samples."
   ]
  }
 ],
 "metadata": {
  "kernelspec": {
   "display_name": "Python [conda env:fargen-1-exome]",
   "language": "python",
   "name": "conda-env-fargen-1-exome-py"
  },
  "language_info": {
   "codemirror_mode": {
    "name": "ipython",
    "version": 3
   },
   "file_extension": ".py",
   "mimetype": "text/x-python",
   "name": "python",
   "nbconvert_exporter": "python",
   "pygments_lexer": "ipython3",
   "version": "3.7.10"
  }
 },
 "nbformat": 4,
 "nbformat_minor": 4
}
