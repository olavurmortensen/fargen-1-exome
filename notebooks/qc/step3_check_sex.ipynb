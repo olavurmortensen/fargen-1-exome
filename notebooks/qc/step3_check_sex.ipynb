{
 "cells": [
  {
   "cell_type": "markdown",
   "metadata": {},
   "source": [
    "# Sex check\n",
    "\n",
    "We will impute the sex of each sample, and compare this with the self-reported gender.\n",
    "\n",
    "Note the distinction between 'sex' and 'gender' used here: 'sex' refers to the genetic sex, where 'gender' is self-reported. We impute the sex by testing for the presence of a Y chromosome. The gender is obtained from a questionaire given to participants before a blood sample is drawn."
   ]
  },
  {
   "cell_type": "code",
   "execution_count": 1,
   "metadata": {},
   "outputs": [
    {
     "name": "stdout",
     "output_type": "stream",
     "text": [
      "2021-09-30 13:58:17 WARN  NativeCodeLoader:62 - Unable to load native-hadoop library for your platform... using builtin-java classes where applicable\n"
     ]
    },
    {
     "name": "stderr",
     "output_type": "stream",
     "text": [
      "Setting default log level to \"WARN\".\n",
      "To adjust logging level use sc.setLogLevel(newLevel). For SparkR, use setLogLevel(newLevel).\n"
     ]
    },
    {
     "name": "stdout",
     "output_type": "stream",
     "text": [
      "2021-09-30 13:58:18 WARN  Hail:37 - This Hail JAR was compiled for Spark 2.4.5, running with Spark 2.4.1.\n",
      "  Compatibility is not guaranteed.\n"
     ]
    },
    {
     "name": "stderr",
     "output_type": "stream",
     "text": [
      "Running on Apache Spark version 2.4.1\n",
      "SparkUI available at http://hms-beagle-6676655f87-78dcj:4040\n",
      "Welcome to\n",
      "     __  __     <>__\n",
      "    / /_/ /__  __/ /\n",
      "   / __  / _ `/ / /\n",
      "  /_/ /_/\\_,_/_/_/   version 0.2.61-3c86d3ba497a\n",
      "LOGGING: writing to /home/olavur/experiments/2020-11-13_fargen1_exome_analysis/fargen-1-exome/notebooks/qc/hail-20210930-1358-0.2.61-3c86d3ba497a.log\n"
     ]
    }
   ],
   "source": [
    "import hail as hl\n",
    "hl.init(spark_conf={'spark.driver.memory': '10g'}, tmp_dir='/home/olavur/tmp')"
   ]
  },
  {
   "cell_type": "code",
   "execution_count": 2,
   "metadata": {},
   "outputs": [
    {
     "data": {
      "text/html": [
       "\n",
       "    <div class=\"bk-root\">\n",
       "        <a href=\"https://bokeh.pydata.org\" target=\"_blank\" class=\"bk-logo bk-logo-small bk-logo-notebook\"></a>\n",
       "        <span id=\"1001\">Loading BokehJS ...</span>\n",
       "    </div>"
      ]
     },
     "metadata": {},
     "output_type": "display_data"
    },
    {
     "data": {
      "application/javascript": [
       "\n",
       "(function(root) {\n",
       "  function now() {\n",
       "    return new Date();\n",
       "  }\n",
       "\n",
       "  var force = true;\n",
       "\n",
       "  if (typeof root._bokeh_onload_callbacks === \"undefined\" || force === true) {\n",
       "    root._bokeh_onload_callbacks = [];\n",
       "    root._bokeh_is_loading = undefined;\n",
       "  }\n",
       "\n",
       "  var JS_MIME_TYPE = 'application/javascript';\n",
       "  var HTML_MIME_TYPE = 'text/html';\n",
       "  var EXEC_MIME_TYPE = 'application/vnd.bokehjs_exec.v0+json';\n",
       "  var CLASS_NAME = 'output_bokeh rendered_html';\n",
       "\n",
       "  /**\n",
       "   * Render data to the DOM node\n",
       "   */\n",
       "  function render(props, node) {\n",
       "    var script = document.createElement(\"script\");\n",
       "    node.appendChild(script);\n",
       "  }\n",
       "\n",
       "  /**\n",
       "   * Handle when an output is cleared or removed\n",
       "   */\n",
       "  function handleClearOutput(event, handle) {\n",
       "    var cell = handle.cell;\n",
       "\n",
       "    var id = cell.output_area._bokeh_element_id;\n",
       "    var server_id = cell.output_area._bokeh_server_id;\n",
       "    // Clean up Bokeh references\n",
       "    if (id != null && id in Bokeh.index) {\n",
       "      Bokeh.index[id].model.document.clear();\n",
       "      delete Bokeh.index[id];\n",
       "    }\n",
       "\n",
       "    if (server_id !== undefined) {\n",
       "      // Clean up Bokeh references\n",
       "      var cmd = \"from bokeh.io.state import curstate; print(curstate().uuid_to_server['\" + server_id + \"'].get_sessions()[0].document.roots[0]._id)\";\n",
       "      cell.notebook.kernel.execute(cmd, {\n",
       "        iopub: {\n",
       "          output: function(msg) {\n",
       "            var id = msg.content.text.trim();\n",
       "            if (id in Bokeh.index) {\n",
       "              Bokeh.index[id].model.document.clear();\n",
       "              delete Bokeh.index[id];\n",
       "            }\n",
       "          }\n",
       "        }\n",
       "      });\n",
       "      // Destroy server and session\n",
       "      var cmd = \"import bokeh.io.notebook as ion; ion.destroy_server('\" + server_id + \"')\";\n",
       "      cell.notebook.kernel.execute(cmd);\n",
       "    }\n",
       "  }\n",
       "\n",
       "  /**\n",
       "   * Handle when a new output is added\n",
       "   */\n",
       "  function handleAddOutput(event, handle) {\n",
       "    var output_area = handle.output_area;\n",
       "    var output = handle.output;\n",
       "\n",
       "    // limit handleAddOutput to display_data with EXEC_MIME_TYPE content only\n",
       "    if ((output.output_type != \"display_data\") || (!output.data.hasOwnProperty(EXEC_MIME_TYPE))) {\n",
       "      return\n",
       "    }\n",
       "\n",
       "    var toinsert = output_area.element.find(\".\" + CLASS_NAME.split(' ')[0]);\n",
       "\n",
       "    if (output.metadata[EXEC_MIME_TYPE][\"id\"] !== undefined) {\n",
       "      toinsert[toinsert.length - 1].firstChild.textContent = output.data[JS_MIME_TYPE];\n",
       "      // store reference to embed id on output_area\n",
       "      output_area._bokeh_element_id = output.metadata[EXEC_MIME_TYPE][\"id\"];\n",
       "    }\n",
       "    if (output.metadata[EXEC_MIME_TYPE][\"server_id\"] !== undefined) {\n",
       "      var bk_div = document.createElement(\"div\");\n",
       "      bk_div.innerHTML = output.data[HTML_MIME_TYPE];\n",
       "      var script_attrs = bk_div.children[0].attributes;\n",
       "      for (var i = 0; i < script_attrs.length; i++) {\n",
       "        toinsert[toinsert.length - 1].firstChild.setAttribute(script_attrs[i].name, script_attrs[i].value);\n",
       "      }\n",
       "      // store reference to server id on output_area\n",
       "      output_area._bokeh_server_id = output.metadata[EXEC_MIME_TYPE][\"server_id\"];\n",
       "    }\n",
       "  }\n",
       "\n",
       "  function register_renderer(events, OutputArea) {\n",
       "\n",
       "    function append_mime(data, metadata, element) {\n",
       "      // create a DOM node to render to\n",
       "      var toinsert = this.create_output_subarea(\n",
       "        metadata,\n",
       "        CLASS_NAME,\n",
       "        EXEC_MIME_TYPE\n",
       "      );\n",
       "      this.keyboard_manager.register_events(toinsert);\n",
       "      // Render to node\n",
       "      var props = {data: data, metadata: metadata[EXEC_MIME_TYPE]};\n",
       "      render(props, toinsert[toinsert.length - 1]);\n",
       "      element.append(toinsert);\n",
       "      return toinsert\n",
       "    }\n",
       "\n",
       "    /* Handle when an output is cleared or removed */\n",
       "    events.on('clear_output.CodeCell', handleClearOutput);\n",
       "    events.on('delete.Cell', handleClearOutput);\n",
       "\n",
       "    /* Handle when a new output is added */\n",
       "    events.on('output_added.OutputArea', handleAddOutput);\n",
       "\n",
       "    /**\n",
       "     * Register the mime type and append_mime function with output_area\n",
       "     */\n",
       "    OutputArea.prototype.register_mime_type(EXEC_MIME_TYPE, append_mime, {\n",
       "      /* Is output safe? */\n",
       "      safe: true,\n",
       "      /* Index of renderer in `output_area.display_order` */\n",
       "      index: 0\n",
       "    });\n",
       "  }\n",
       "\n",
       "  // register the mime type if in Jupyter Notebook environment and previously unregistered\n",
       "  if (root.Jupyter !== undefined) {\n",
       "    var events = require('base/js/events');\n",
       "    var OutputArea = require('notebook/js/outputarea').OutputArea;\n",
       "\n",
       "    if (OutputArea.prototype.mime_types().indexOf(EXEC_MIME_TYPE) == -1) {\n",
       "      register_renderer(events, OutputArea);\n",
       "    }\n",
       "  }\n",
       "\n",
       "  \n",
       "  if (typeof (root._bokeh_timeout) === \"undefined\" || force === true) {\n",
       "    root._bokeh_timeout = Date.now() + 5000;\n",
       "    root._bokeh_failed_load = false;\n",
       "  }\n",
       "\n",
       "  var NB_LOAD_WARNING = {'data': {'text/html':\n",
       "     \"<div style='background-color: #fdd'>\\n\"+\n",
       "     \"<p>\\n\"+\n",
       "     \"BokehJS does not appear to have successfully loaded. If loading BokehJS from CDN, this \\n\"+\n",
       "     \"may be due to a slow or bad network connection. Possible fixes:\\n\"+\n",
       "     \"</p>\\n\"+\n",
       "     \"<ul>\\n\"+\n",
       "     \"<li>re-rerun `output_notebook()` to attempt to load from CDN again, or</li>\\n\"+\n",
       "     \"<li>use INLINE resources instead, as so:</li>\\n\"+\n",
       "     \"</ul>\\n\"+\n",
       "     \"<code>\\n\"+\n",
       "     \"from bokeh.resources import INLINE\\n\"+\n",
       "     \"output_notebook(resources=INLINE)\\n\"+\n",
       "     \"</code>\\n\"+\n",
       "     \"</div>\"}};\n",
       "\n",
       "  function display_loaded() {\n",
       "    var el = document.getElementById(\"1001\");\n",
       "    if (el != null) {\n",
       "      el.textContent = \"BokehJS is loading...\";\n",
       "    }\n",
       "    if (root.Bokeh !== undefined) {\n",
       "      if (el != null) {\n",
       "        el.textContent = \"BokehJS \" + root.Bokeh.version + \" successfully loaded.\";\n",
       "      }\n",
       "    } else if (Date.now() < root._bokeh_timeout) {\n",
       "      setTimeout(display_loaded, 100)\n",
       "    }\n",
       "  }\n",
       "\n",
       "\n",
       "  function run_callbacks() {\n",
       "    try {\n",
       "      root._bokeh_onload_callbacks.forEach(function(callback) {\n",
       "        if (callback != null)\n",
       "          callback();\n",
       "      });\n",
       "    } finally {\n",
       "      delete root._bokeh_onload_callbacks\n",
       "    }\n",
       "    console.debug(\"Bokeh: all callbacks have finished\");\n",
       "  }\n",
       "\n",
       "  function load_libs(css_urls, js_urls, callback) {\n",
       "    if (css_urls == null) css_urls = [];\n",
       "    if (js_urls == null) js_urls = [];\n",
       "\n",
       "    root._bokeh_onload_callbacks.push(callback);\n",
       "    if (root._bokeh_is_loading > 0) {\n",
       "      console.debug(\"Bokeh: BokehJS is being loaded, scheduling callback at\", now());\n",
       "      return null;\n",
       "    }\n",
       "    if (js_urls == null || js_urls.length === 0) {\n",
       "      run_callbacks();\n",
       "      return null;\n",
       "    }\n",
       "    console.debug(\"Bokeh: BokehJS not loaded, scheduling load and callback at\", now());\n",
       "    root._bokeh_is_loading = css_urls.length + js_urls.length;\n",
       "\n",
       "    function on_load() {\n",
       "      root._bokeh_is_loading--;\n",
       "      if (root._bokeh_is_loading === 0) {\n",
       "        console.debug(\"Bokeh: all BokehJS libraries/stylesheets loaded\");\n",
       "        run_callbacks()\n",
       "      }\n",
       "    }\n",
       "\n",
       "    function on_error() {\n",
       "      console.error(\"failed to load \" + url);\n",
       "    }\n",
       "\n",
       "    for (var i = 0; i < css_urls.length; i++) {\n",
       "      var url = css_urls[i];\n",
       "      const element = document.createElement(\"link\");\n",
       "      element.onload = on_load;\n",
       "      element.onerror = on_error;\n",
       "      element.rel = \"stylesheet\";\n",
       "      element.type = \"text/css\";\n",
       "      element.href = url;\n",
       "      console.debug(\"Bokeh: injecting link tag for BokehJS stylesheet: \", url);\n",
       "      document.body.appendChild(element);\n",
       "    }\n",
       "\n",
       "    for (var i = 0; i < js_urls.length; i++) {\n",
       "      var url = js_urls[i];\n",
       "      var element = document.createElement('script');\n",
       "      element.onload = on_load;\n",
       "      element.onerror = on_error;\n",
       "      element.async = false;\n",
       "      element.src = url;\n",
       "      console.debug(\"Bokeh: injecting script tag for BokehJS library: \", url);\n",
       "      document.head.appendChild(element);\n",
       "    }\n",
       "  };var element = document.getElementById(\"1001\");\n",
       "  if (element == null) {\n",
       "    console.error(\"Bokeh: ERROR: autoload.js configured with elementid '1001' but no matching script tag was found. \")\n",
       "    return false;\n",
       "  }\n",
       "\n",
       "  function inject_raw_css(css) {\n",
       "    const element = document.createElement(\"style\");\n",
       "    element.appendChild(document.createTextNode(css));\n",
       "    document.body.appendChild(element);\n",
       "  }\n",
       "\n",
       "  var js_urls = [\"https://cdn.pydata.org/bokeh/release/bokeh-1.2.0.min.js\", \"https://cdn.pydata.org/bokeh/release/bokeh-widgets-1.2.0.min.js\", \"https://cdn.pydata.org/bokeh/release/bokeh-tables-1.2.0.min.js\", \"https://cdn.pydata.org/bokeh/release/bokeh-gl-1.2.0.min.js\"];\n",
       "  var css_urls = [\"https://cdn.pydata.org/bokeh/release/bokeh-1.2.0.min.css\", \"https://cdn.pydata.org/bokeh/release/bokeh-widgets-1.2.0.min.css\", \"https://cdn.pydata.org/bokeh/release/bokeh-tables-1.2.0.min.css\"];\n",
       "\n",
       "  var inline_js = [\n",
       "    function(Bokeh) {\n",
       "      Bokeh.set_log_level(\"info\");\n",
       "    },\n",
       "    \n",
       "    function(Bokeh) {\n",
       "      \n",
       "    },\n",
       "    function(Bokeh) {} // ensure no trailing comma for IE\n",
       "  ];\n",
       "\n",
       "  function run_inline_js() {\n",
       "    \n",
       "    if ((root.Bokeh !== undefined) || (force === true)) {\n",
       "      for (var i = 0; i < inline_js.length; i++) {\n",
       "        inline_js[i].call(root, root.Bokeh);\n",
       "      }if (force === true) {\n",
       "        display_loaded();\n",
       "      }} else if (Date.now() < root._bokeh_timeout) {\n",
       "      setTimeout(run_inline_js, 100);\n",
       "    } else if (!root._bokeh_failed_load) {\n",
       "      console.log(\"Bokeh: BokehJS failed to load within specified timeout.\");\n",
       "      root._bokeh_failed_load = true;\n",
       "    } else if (force !== true) {\n",
       "      var cell = $(document.getElementById(\"1001\")).parents('.cell').data().cell;\n",
       "      cell.output_area.append_execute_result(NB_LOAD_WARNING)\n",
       "    }\n",
       "\n",
       "  }\n",
       "\n",
       "  if (root._bokeh_is_loading === 0) {\n",
       "    console.debug(\"Bokeh: BokehJS loaded, going straight to plotting\");\n",
       "    run_inline_js();\n",
       "  } else {\n",
       "    load_libs(css_urls, js_urls, function() {\n",
       "      console.debug(\"Bokeh: BokehJS plotting callback run at\", now());\n",
       "      run_inline_js();\n",
       "    });\n",
       "  }\n",
       "}(window));"
      ],
      "application/vnd.bokehjs_load.v0+json": "\n(function(root) {\n  function now() {\n    return new Date();\n  }\n\n  var force = true;\n\n  if (typeof root._bokeh_onload_callbacks === \"undefined\" || force === true) {\n    root._bokeh_onload_callbacks = [];\n    root._bokeh_is_loading = undefined;\n  }\n\n  \n\n  \n  if (typeof (root._bokeh_timeout) === \"undefined\" || force === true) {\n    root._bokeh_timeout = Date.now() + 5000;\n    root._bokeh_failed_load = false;\n  }\n\n  var NB_LOAD_WARNING = {'data': {'text/html':\n     \"<div style='background-color: #fdd'>\\n\"+\n     \"<p>\\n\"+\n     \"BokehJS does not appear to have successfully loaded. If loading BokehJS from CDN, this \\n\"+\n     \"may be due to a slow or bad network connection. Possible fixes:\\n\"+\n     \"</p>\\n\"+\n     \"<ul>\\n\"+\n     \"<li>re-rerun `output_notebook()` to attempt to load from CDN again, or</li>\\n\"+\n     \"<li>use INLINE resources instead, as so:</li>\\n\"+\n     \"</ul>\\n\"+\n     \"<code>\\n\"+\n     \"from bokeh.resources import INLINE\\n\"+\n     \"output_notebook(resources=INLINE)\\n\"+\n     \"</code>\\n\"+\n     \"</div>\"}};\n\n  function display_loaded() {\n    var el = document.getElementById(\"1001\");\n    if (el != null) {\n      el.textContent = \"BokehJS is loading...\";\n    }\n    if (root.Bokeh !== undefined) {\n      if (el != null) {\n        el.textContent = \"BokehJS \" + root.Bokeh.version + \" successfully loaded.\";\n      }\n    } else if (Date.now() < root._bokeh_timeout) {\n      setTimeout(display_loaded, 100)\n    }\n  }\n\n\n  function run_callbacks() {\n    try {\n      root._bokeh_onload_callbacks.forEach(function(callback) {\n        if (callback != null)\n          callback();\n      });\n    } finally {\n      delete root._bokeh_onload_callbacks\n    }\n    console.debug(\"Bokeh: all callbacks have finished\");\n  }\n\n  function load_libs(css_urls, js_urls, callback) {\n    if (css_urls == null) css_urls = [];\n    if (js_urls == null) js_urls = [];\n\n    root._bokeh_onload_callbacks.push(callback);\n    if (root._bokeh_is_loading > 0) {\n      console.debug(\"Bokeh: BokehJS is being loaded, scheduling callback at\", now());\n      return null;\n    }\n    if (js_urls == null || js_urls.length === 0) {\n      run_callbacks();\n      return null;\n    }\n    console.debug(\"Bokeh: BokehJS not loaded, scheduling load and callback at\", now());\n    root._bokeh_is_loading = css_urls.length + js_urls.length;\n\n    function on_load() {\n      root._bokeh_is_loading--;\n      if (root._bokeh_is_loading === 0) {\n        console.debug(\"Bokeh: all BokehJS libraries/stylesheets loaded\");\n        run_callbacks()\n      }\n    }\n\n    function on_error() {\n      console.error(\"failed to load \" + url);\n    }\n\n    for (var i = 0; i < css_urls.length; i++) {\n      var url = css_urls[i];\n      const element = document.createElement(\"link\");\n      element.onload = on_load;\n      element.onerror = on_error;\n      element.rel = \"stylesheet\";\n      element.type = \"text/css\";\n      element.href = url;\n      console.debug(\"Bokeh: injecting link tag for BokehJS stylesheet: \", url);\n      document.body.appendChild(element);\n    }\n\n    for (var i = 0; i < js_urls.length; i++) {\n      var url = js_urls[i];\n      var element = document.createElement('script');\n      element.onload = on_load;\n      element.onerror = on_error;\n      element.async = false;\n      element.src = url;\n      console.debug(\"Bokeh: injecting script tag for BokehJS library: \", url);\n      document.head.appendChild(element);\n    }\n  };var element = document.getElementById(\"1001\");\n  if (element == null) {\n    console.error(\"Bokeh: ERROR: autoload.js configured with elementid '1001' but no matching script tag was found. \")\n    return false;\n  }\n\n  function inject_raw_css(css) {\n    const element = document.createElement(\"style\");\n    element.appendChild(document.createTextNode(css));\n    document.body.appendChild(element);\n  }\n\n  var js_urls = [\"https://cdn.pydata.org/bokeh/release/bokeh-1.2.0.min.js\", \"https://cdn.pydata.org/bokeh/release/bokeh-widgets-1.2.0.min.js\", \"https://cdn.pydata.org/bokeh/release/bokeh-tables-1.2.0.min.js\", \"https://cdn.pydata.org/bokeh/release/bokeh-gl-1.2.0.min.js\"];\n  var css_urls = [\"https://cdn.pydata.org/bokeh/release/bokeh-1.2.0.min.css\", \"https://cdn.pydata.org/bokeh/release/bokeh-widgets-1.2.0.min.css\", \"https://cdn.pydata.org/bokeh/release/bokeh-tables-1.2.0.min.css\"];\n\n  var inline_js = [\n    function(Bokeh) {\n      Bokeh.set_log_level(\"info\");\n    },\n    \n    function(Bokeh) {\n      \n    },\n    function(Bokeh) {} // ensure no trailing comma for IE\n  ];\n\n  function run_inline_js() {\n    \n    if ((root.Bokeh !== undefined) || (force === true)) {\n      for (var i = 0; i < inline_js.length; i++) {\n        inline_js[i].call(root, root.Bokeh);\n      }if (force === true) {\n        display_loaded();\n      }} else if (Date.now() < root._bokeh_timeout) {\n      setTimeout(run_inline_js, 100);\n    } else if (!root._bokeh_failed_load) {\n      console.log(\"Bokeh: BokehJS failed to load within specified timeout.\");\n      root._bokeh_failed_load = true;\n    } else if (force !== true) {\n      var cell = $(document.getElementById(\"1001\")).parents('.cell').data().cell;\n      cell.output_area.append_execute_result(NB_LOAD_WARNING)\n    }\n\n  }\n\n  if (root._bokeh_is_loading === 0) {\n    console.debug(\"Bokeh: BokehJS loaded, going straight to plotting\");\n    run_inline_js();\n  } else {\n    load_libs(css_urls, js_urls, function() {\n      console.debug(\"Bokeh: BokehJS plotting callback run at\", now());\n      run_inline_js();\n    });\n  }\n}(window));"
     },
     "metadata": {},
     "output_type": "display_data"
    }
   ],
   "source": [
    "from bokeh.io import show, output_notebook\n",
    "from bokeh.layouts import gridplot\n",
    "from bokeh.models.scales import LogScale\n",
    "output_notebook()"
   ]
  },
  {
   "cell_type": "code",
   "execution_count": 3,
   "metadata": {},
   "outputs": [],
   "source": [
    "import pandas as pd"
   ]
  },
  {
   "cell_type": "code",
   "execution_count": 4,
   "metadata": {},
   "outputs": [],
   "source": [
    "BASE_DIR = '/home/olavur/experiments/2020-11-13_fargen1_exome_analysis'"
   ]
  },
  {
   "cell_type": "markdown",
   "metadata": {},
   "source": [
    "## Load FarGen exome data\n",
    "\n",
    "Load filtered, high-quality, variants."
   ]
  },
  {
   "cell_type": "code",
   "execution_count": 5,
   "metadata": {},
   "outputs": [],
   "source": [
    "mt = hl.read_matrix_table(BASE_DIR + '/data/mt/high_quality_variants.mt/')"
   ]
  },
  {
   "cell_type": "code",
   "execution_count": 6,
   "metadata": {},
   "outputs": [
    {
     "name": "stdout",
     "output_type": "stream",
     "text": [
      "Number of variants: 142496\n",
      "Number of samples: 469\n"
     ]
    }
   ],
   "source": [
    "n_variants, n_samples = mt.count()\n",
    "print('Number of variants: ' + str(n_variants))\n",
    "print('Number of samples: ' + str(n_samples))"
   ]
  },
  {
   "cell_type": "markdown",
   "metadata": {},
   "source": [
    "## Impute sex\n",
    "\n",
    "We impute the sex of the samples by computing the inbreeding coefficient (F) on the X chromosome. This inbreeding coefficient is calculated as $F = \\frac{O - E}{N-E}$ where $O$ is the observed number of homozygotes, $E$ is the expected number of homozygotes, and $N$ is the number of non-missing genotype calls. The expected number of homozygotes is calculated as $E = 1 - 2 f (1 - f)$ where $f$ is the minor-allel frequency.\n",
    "\n",
    "NOTE: the sex imputation method requires diallelic sites."
   ]
  },
  {
   "cell_type": "code",
   "execution_count": 7,
   "metadata": {},
   "outputs": [],
   "source": [
    "mt = mt.filter_rows(hl.len(mt.alleles) == 2)"
   ]
  },
  {
   "cell_type": "code",
   "execution_count": 8,
   "metadata": {},
   "outputs": [
    {
     "name": "stderr",
     "output_type": "stream",
     "text": [
      "2021-09-30 13:58:22 Hail: WARN: cols(): Resulting column table is sorted by 'col_key'.\n",
      "    To preserve matrix table column order, first unkey columns with 'key_cols_by()'\n"
     ]
    }
   ],
   "source": [
    "imputed_sex_ht = hl.impute_sex(mt.GT)"
   ]
  },
  {
   "cell_type": "markdown",
   "metadata": {},
   "source": [
    "Below we've plotted the inbreeding coefficient, and there is a quite clear clustering of individuals."
   ]
  },
  {
   "cell_type": "code",
   "execution_count": 9,
   "metadata": {},
   "outputs": [
    {
     "data": {
      "text/html": [
       "\n",
       "\n",
       "\n",
       "\n",
       "\n",
       "\n",
       "  <div class=\"bk-root\" id=\"225e8c16-e3e9-4573-aa1d-6695aec138f3\" data-root-id=\"1002\"></div>\n"
      ]
     },
     "metadata": {},
     "output_type": "display_data"
    },
    {
     "data": {
      "application/javascript": [
       "(function(root) {\n",
       "  function embed_document(root) {\n",
       "    \n",
       "  var docs_json = {\"52441f06-aa42-47cd-9ec1-08961e549ce3\":{\"roots\":{\"references\":[{\"attributes\":{\"background_fill_color\":{\"value\":\"#EEEEEE\"},\"below\":[{\"id\":\"1013\",\"type\":\"LinearAxis\"}],\"center\":[{\"id\":\"1017\",\"type\":\"Grid\"},{\"id\":\"1022\",\"type\":\"Grid\"}],\"left\":[{\"id\":\"1018\",\"type\":\"LinearAxis\"}],\"plot_height\":500,\"plot_width\":800,\"renderers\":[{\"id\":\"1039\",\"type\":\"GlyphRenderer\"}],\"title\":{\"id\":\"1003\",\"type\":\"Title\"},\"toolbar\":{\"id\":\"1029\",\"type\":\"Toolbar\"},\"x_range\":{\"id\":\"1005\",\"type\":\"Range1d\"},\"x_scale\":{\"id\":\"1009\",\"type\":\"LinearScale\"},\"y_range\":{\"id\":\"1007\",\"type\":\"DataRange1d\"},\"y_scale\":{\"id\":\"1011\",\"type\":\"LinearScale\"}},\"id\":\"1002\",\"subtype\":\"Figure\",\"type\":\"Plot\"},{\"attributes\":{\"data_source\":{\"id\":\"1036\",\"type\":\"ColumnDataSource\"},\"glyph\":{\"id\":\"1037\",\"type\":\"Quad\"},\"hover_glyph\":null,\"muted_glyph\":null,\"nonselection_glyph\":{\"id\":\"1038\",\"type\":\"Quad\"},\"selection_glyph\":null,\"view\":{\"id\":\"1040\",\"type\":\"CDSView\"}},\"id\":\"1039\",\"type\":\"GlyphRenderer\"},{\"attributes\":{\"source\":{\"id\":\"1036\",\"type\":\"ColumnDataSource\"}},\"id\":\"1040\",\"type\":\"CDSView\"},{\"attributes\":{},\"id\":\"1019\",\"type\":\"BasicTicker\"},{\"attributes\":{\"overlay\":{\"id\":\"1046\",\"type\":\"BoxAnnotation\"}},\"id\":\"1025\",\"type\":\"BoxZoomTool\"},{\"attributes\":{},\"id\":\"1028\",\"type\":\"HelpTool\"},{\"attributes\":{},\"id\":\"1011\",\"type\":\"LinearScale\"},{\"attributes\":{\"callback\":null,\"end\":1.071083278535103,\"start\":-0.49274884923716444},\"id\":\"1005\",\"type\":\"Range1d\"},{\"attributes\":{\"axis_label\":\"Frequency\",\"formatter\":{\"id\":\"1043\",\"type\":\"BasicTickFormatter\"},\"ticker\":{\"id\":\"1019\",\"type\":\"BasicTicker\"}},\"id\":\"1018\",\"type\":\"LinearAxis\"},{\"attributes\":{\"ticker\":{\"id\":\"1014\",\"type\":\"BasicTicker\"}},\"id\":\"1017\",\"type\":\"Grid\"},{\"attributes\":{},\"id\":\"1023\",\"type\":\"PanTool\"},{\"attributes\":{},\"id\":\"1043\",\"type\":\"BasicTickFormatter\"},{\"attributes\":{},\"id\":\"1024\",\"type\":\"WheelZoomTool\"},{\"attributes\":{},\"id\":\"1014\",\"type\":\"BasicTicker\"},{\"attributes\":{},\"id\":\"1045\",\"type\":\"BasicTickFormatter\"},{\"attributes\":{\"bottom\":{\"value\":0},\"fill_alpha\":{\"value\":0.1},\"fill_color\":{\"value\":\"#1f77b4\"},\"left\":{\"field\":\"left\"},\"line_alpha\":{\"value\":0.1},\"line_color\":{\"value\":\"#1f77b4\"},\"right\":{\"field\":\"right\"},\"top\":{\"field\":\"top\"}},\"id\":\"1038\",\"type\":\"Quad\"},{\"attributes\":{\"bottom\":{\"value\":0},\"fill_color\":{\"value\":\"#1f77b4\"},\"left\":{\"field\":\"left\"},\"right\":{\"field\":\"right\"},\"top\":{\"field\":\"top\"}},\"id\":\"1037\",\"type\":\"Quad\"},{\"attributes\":{\"callback\":null,\"data\":{\"left\":[-0.42166557070206134,-0.39323225928802014,-0.3647989478739789,-0.33636563645993767,-0.3079323250458964,-0.2794990136318552,-0.251065702217814,-0.22263239080377276,-0.19419907938973152,-0.16576576797569031,-0.13733245656164905,-0.10889914514760785,-0.08046583373356664,-0.052032522319525376,-0.02359921090548417,0.004834100508557093,0.0332674119225983,0.06170072333663951,0.09013403475068071,0.11856734616472198,0.14700065757876324,0.1754339689928044,0.20386728040684565,0.23230059182088691,0.26073390323492807,0.28916721464896933,0.3176005260630106,0.34603383747705185,0.374467148891093,0.40290046030513427,0.43133377171917553,0.4597670831332167,0.48820039454725794,0.5166337059612992,0.5450670173753404,0.5735003287893816,0.6019336402034228,0.6303669516174641,0.6588002630315053,0.6872335744455464,0.7156668858595878,0.744100197273629,0.7725335086876701,0.8009668201017115,0.8294001315157526,0.8578334429297938,0.8862667543438352,0.9147000657578763,0.9431333771719175,0.9715666885859588],\"right\":[-0.39323225928802014,-0.3647989478739789,-0.33636563645993767,-0.3079323250458964,-0.2794990136318552,-0.251065702217814,-0.22263239080377276,-0.19419907938973152,-0.16576576797569031,-0.13733245656164905,-0.10889914514760785,-0.08046583373356664,-0.052032522319525376,-0.02359921090548417,0.004834100508557093,0.0332674119225983,0.06170072333663951,0.09013403475068071,0.11856734616472198,0.14700065757876324,0.1754339689928044,0.20386728040684565,0.23230059182088691,0.26073390323492807,0.28916721464896933,0.3176005260630106,0.34603383747705185,0.374467148891093,0.40290046030513427,0.43133377171917553,0.4597670831332167,0.48820039454725794,0.5166337059612992,0.5450670173753404,0.5735003287893816,0.6019336402034228,0.6303669516174641,0.6588002630315053,0.6872335744455464,0.7156668858595878,0.744100197273629,0.7725335086876701,0.8009668201017115,0.8294001315157526,0.8578334429297938,0.8862667543438352,0.9147000657578763,0.9431333771719175,0.9715666885859588,1.0],\"top\":[1,0,4,2,7,5,13,10,17,22,24,29,25,25,26,17,16,17,10,4,0,2,1,1,0,0,0,0,0,0,0,0,0,0,0,0,0,0,0,0,0,0,1,0,2,3,17,33,86,49]},\"selected\":{\"id\":\"1047\",\"type\":\"Selection\"},\"selection_policy\":{\"id\":\"1048\",\"type\":\"UnionRenderers\"}},\"id\":\"1036\",\"type\":\"ColumnDataSource\"},{\"attributes\":{},\"id\":\"1048\",\"type\":\"UnionRenderers\"},{\"attributes\":{\"text\":\"Inbreeding coefficient (F) computed on the X chromosome\"},\"id\":\"1003\",\"type\":\"Title\"},{\"attributes\":{\"callback\":null},\"id\":\"1007\",\"type\":\"DataRange1d\"},{\"attributes\":{},\"id\":\"1009\",\"type\":\"LinearScale\"},{\"attributes\":{},\"id\":\"1026\",\"type\":\"SaveTool\"},{\"attributes\":{\"bottom_units\":\"screen\",\"fill_alpha\":{\"value\":0.5},\"fill_color\":{\"value\":\"lightgrey\"},\"left_units\":\"screen\",\"level\":\"overlay\",\"line_alpha\":{\"value\":1.0},\"line_color\":{\"value\":\"black\"},\"line_dash\":[4,4],\"line_width\":{\"value\":2},\"render_mode\":\"css\",\"right_units\":\"screen\",\"top_units\":\"screen\"},\"id\":\"1046\",\"type\":\"BoxAnnotation\"},{\"attributes\":{},\"id\":\"1047\",\"type\":\"Selection\"},{\"attributes\":{\"dimension\":1,\"ticker\":{\"id\":\"1019\",\"type\":\"BasicTicker\"}},\"id\":\"1022\",\"type\":\"Grid\"},{\"attributes\":{\"formatter\":{\"id\":\"1045\",\"type\":\"BasicTickFormatter\"},\"ticker\":{\"id\":\"1014\",\"type\":\"BasicTicker\"}},\"id\":\"1013\",\"type\":\"LinearAxis\"},{\"attributes\":{},\"id\":\"1027\",\"type\":\"ResetTool\"},{\"attributes\":{\"active_drag\":\"auto\",\"active_inspect\":\"auto\",\"active_multi\":null,\"active_scroll\":\"auto\",\"active_tap\":\"auto\",\"tools\":[{\"id\":\"1023\",\"type\":\"PanTool\"},{\"id\":\"1024\",\"type\":\"WheelZoomTool\"},{\"id\":\"1025\",\"type\":\"BoxZoomTool\"},{\"id\":\"1026\",\"type\":\"SaveTool\"},{\"id\":\"1027\",\"type\":\"ResetTool\"},{\"id\":\"1028\",\"type\":\"HelpTool\"}]},\"id\":\"1029\",\"type\":\"Toolbar\"}],\"root_ids\":[\"1002\"]},\"title\":\"Bokeh Application\",\"version\":\"1.2.0\"}};\n",
       "  var render_items = [{\"docid\":\"52441f06-aa42-47cd-9ec1-08961e549ce3\",\"roots\":{\"1002\":\"225e8c16-e3e9-4573-aa1d-6695aec138f3\"}}];\n",
       "  root.Bokeh.embed.embed_items_notebook(docs_json, render_items);\n",
       "\n",
       "  }\n",
       "  if (root.Bokeh !== undefined) {\n",
       "    embed_document(root);\n",
       "  } else {\n",
       "    var attempts = 0;\n",
       "    var timer = setInterval(function(root) {\n",
       "      if (root.Bokeh !== undefined) {\n",
       "        embed_document(root);\n",
       "        clearInterval(timer);\n",
       "      }\n",
       "      attempts++;\n",
       "      if (attempts > 100) {\n",
       "        console.log(\"Bokeh: ERROR: Unable to run BokehJS code because BokehJS library is missing\");\n",
       "        clearInterval(timer);\n",
       "      }\n",
       "    }, 10, root)\n",
       "  }\n",
       "})(window);"
      ],
      "application/vnd.bokehjs_exec.v0+json": ""
     },
     "metadata": {
      "application/vnd.bokehjs_exec.v0+json": {
       "id": "1002"
      }
     },
     "output_type": "display_data"
    }
   ],
   "source": [
    "p = hl.plot.histogram(imputed_sex_ht.f_stat, title='Inbreeding coefficient (F) computed on the X chromosome')\n",
    "p.plot_width = 800\n",
    "p.plot_height = 500\n",
    "show(p)"
   ]
  },
  {
   "cell_type": "markdown",
   "metadata": {},
   "source": [
    "Based on the plot above, we define new $F$ thresholds for male and female, and do the imputation again."
   ]
  },
  {
   "cell_type": "code",
   "execution_count": 10,
   "metadata": {},
   "outputs": [],
   "source": [
    "imputed_sex_ht = hl.impute_sex(mt.GT, female_threshold=0.4, male_threshold=0.4)\n",
    "\n",
    "# Make a new variable 'sex' that is either 'f' or 'm'.\n",
    "imputed_sex_ht = imputed_sex_ht.annotate(sex = hl.if_else(imputed_sex_ht.is_female, 'f', 'm'))"
   ]
  },
  {
   "cell_type": "markdown",
   "metadata": {},
   "source": [
    "## Load self-reported gender data"
   ]
  },
  {
   "cell_type": "code",
   "execution_count": 11,
   "metadata": {},
   "outputs": [
    {
     "name": "stderr",
     "output_type": "stream",
     "text": [
      "2021-09-30 13:58:28 Hail: INFO: Reading table without type imputation\n",
      "  Loading field 'IndividualName' as type str (not specified)\n",
      "  Loading field 'Gender' as type str (not specified)\n"
     ]
    }
   ],
   "source": [
    "# Read the CSV.\n",
    "gender_ht = hl.import_table(BASE_DIR + '/data/metadata/fargen_indi-gen.csv', delimiter=',')\n",
    "\n",
    "# Key the table by individual name.\n",
    "gender_ht = gender_ht.key_by(gender_ht.IndividualName)\n",
    "\n",
    "# Us a boolean 'is_female' variable, like in the imputed data.\n",
    "gender_ht = gender_ht.annotate(gender = hl.if_else(gender_ht.Gender == '0', 'f', 'm'))\n",
    "\n",
    "# Recode the 'Gender' variable into a new 'gender' variable, that is either 'm', 'f', or missing.\n",
    "gender_ht = gender_ht.transmute(gender = hl.case()\n",
    "                                        .when(gender_ht.Gender == '0', 'f')\n",
    "                                        .when(gender_ht.Gender == '1', 'm')\n",
    "                                        .or_missing())"
   ]
  },
  {
   "cell_type": "markdown",
   "metadata": {},
   "source": [
    "## Compare imputed sex with self-reported gender\n",
    "\n",
    "Below we compute a confusion matrix between self-reported gender and imputed sex.\n",
    "\n",
    "We see that 7 samples have disconcordant sex and gender. Of these, 4 are reported as female and imputed as male, and 3 are reported as male and imputed as female."
   ]
  },
  {
   "cell_type": "code",
   "execution_count": 12,
   "metadata": {},
   "outputs": [
    {
     "name": "stderr",
     "output_type": "stream",
     "text": [
      "2021-09-30 13:58:29 Hail: INFO: Coerced sorted dataset\n",
      "2021-09-30 13:58:29 Hail: INFO: Coerced sorted dataset\n",
      "2021-09-30 13:58:29 Hail: INFO: Coerced sorted dataset\n"
     ]
    },
    {
     "data": {
      "text/html": [
       "<div>\n",
       "<style scoped>\n",
       "    .dataframe tbody tr th:only-of-type {\n",
       "        vertical-align: middle;\n",
       "    }\n",
       "\n",
       "    .dataframe tbody tr th {\n",
       "        vertical-align: top;\n",
       "    }\n",
       "\n",
       "    .dataframe thead th {\n",
       "        text-align: right;\n",
       "    }\n",
       "</style>\n",
       "<table border=\"1\" class=\"dataframe\">\n",
       "  <thead>\n",
       "    <tr style=\"text-align: right;\">\n",
       "      <th>Gender</th>\n",
       "      <th>f</th>\n",
       "      <th>m</th>\n",
       "      <th>Sum</th>\n",
       "    </tr>\n",
       "    <tr>\n",
       "      <th>Sex</th>\n",
       "      <th></th>\n",
       "      <th></th>\n",
       "      <th></th>\n",
       "    </tr>\n",
       "  </thead>\n",
       "  <tbody>\n",
       "    <tr>\n",
       "      <th>f</th>\n",
       "      <td>275</td>\n",
       "      <td>3</td>\n",
       "      <td>278</td>\n",
       "    </tr>\n",
       "    <tr>\n",
       "      <th>m</th>\n",
       "      <td>4</td>\n",
       "      <td>187</td>\n",
       "      <td>191</td>\n",
       "    </tr>\n",
       "    <tr>\n",
       "      <th>Sum</th>\n",
       "      <td>279</td>\n",
       "      <td>190</td>\n",
       "      <td>469</td>\n",
       "    </tr>\n",
       "  </tbody>\n",
       "</table>\n",
       "</div>"
      ],
      "text/plain": [
       "Gender    f    m  Sum\n",
       "Sex                  \n",
       "f       275    3  278\n",
       "m         4  187  191\n",
       "Sum     279  190  469"
      ]
     },
     "execution_count": 12,
     "metadata": {},
     "output_type": "execute_result"
    }
   ],
   "source": [
    "# Annotate the imputed sex table with the self-reported gender.\n",
    "imputed_sex_ht = imputed_sex_ht.annotate(gender=gender_ht[imputed_sex_ht.s].gender)\n",
    "\n",
    "# Make Pandas series with the sex and gender.\n",
    "sex = pd.Series(imputed_sex_ht.sex.collect(), name='Sex')\n",
    "gender = pd.Series(imputed_sex_ht.gender.collect(), name='Gender')\n",
    "\n",
    "# Calculate confusion matrix.\n",
    "confusion_table = pd.crosstab(sex, gender, margins=True, margins_name='Sum')\n",
    "\n",
    "confusion_table"
   ]
  },
  {
   "cell_type": "markdown",
   "metadata": {},
   "source": [
    "## Inspect disconcordant samples\n",
    "\n",
    "We will inspect the samples where the self-reported gender is different from the imputed sex.\n",
    "\n",
    "As we have seen, the males and females cluster very nicely w.r.t. the inbreeding coeffcient, so we can be confident that we are correctly imputing the sex. We used imputed samples with $F > 0.4$ as male and $F < 0.4$ as female.\n",
    "\n",
    "Below we see the imputation data for the samples where the imputed sex and self-reported gender mismatch. Note that these samples fall nicely into the categories defined by the cut-off values we defined."
   ]
  },
  {
   "cell_type": "code",
   "execution_count": 13,
   "metadata": {},
   "outputs": [
    {
     "name": "stderr",
     "output_type": "stream",
     "text": [
      "2021-09-30 13:58:30 Hail: INFO: Coerced sorted dataset\n",
      "2021-09-30 13:58:30 Hail: INFO: Coerced sorted dataset\n"
     ]
    },
    {
     "data": {
      "text/html": [
       "<table><thead><tr><td style=\"white-space: nowrap; max-width: 500px; overflow: hidden; text-overflow: ellipsis; \" colspan=\"1\"><div style=\"text-align: left;\"></div></td><td style=\"white-space: nowrap; max-width: 500px; overflow: hidden; text-overflow: ellipsis; \" colspan=\"1\"><div style=\"text-align: left;\"></div></td><td style=\"white-space: nowrap; max-width: 500px; overflow: hidden; text-overflow: ellipsis; \" colspan=\"1\"><div style=\"text-align: left;\"></div></td><td style=\"white-space: nowrap; max-width: 500px; overflow: hidden; text-overflow: ellipsis; \" colspan=\"1\"><div style=\"text-align: left;\"></div></td><td style=\"white-space: nowrap; max-width: 500px; overflow: hidden; text-overflow: ellipsis; \" colspan=\"1\"><div style=\"text-align: left;\"></div></td><td style=\"white-space: nowrap; max-width: 500px; overflow: hidden; text-overflow: ellipsis; \" colspan=\"1\"><div style=\"text-align: left;\"></div></td><td style=\"white-space: nowrap; max-width: 500px; overflow: hidden; text-overflow: ellipsis; \" colspan=\"1\"><div style=\"text-align: left;\"></div></td><td style=\"white-space: nowrap; max-width: 500px; overflow: hidden; text-overflow: ellipsis; \" colspan=\"1\"><div style=\"text-align: left;\"></div></td></tr><tr><td style=\"white-space: nowrap; max-width: 500px; overflow: hidden; text-overflow: ellipsis; \" colspan=\"1\"><div style=\"text-align: left;border-bottom: solid 2px #000; padding-bottom: 5px\">s</div></td><td style=\"white-space: nowrap; max-width: 500px; overflow: hidden; text-overflow: ellipsis; \" colspan=\"1\"><div style=\"text-align: left;border-bottom: solid 2px #000; padding-bottom: 5px\">is_female</div></td><td style=\"white-space: nowrap; max-width: 500px; overflow: hidden; text-overflow: ellipsis; \" colspan=\"1\"><div style=\"text-align: left;border-bottom: solid 2px #000; padding-bottom: 5px\">f_stat</div></td><td style=\"white-space: nowrap; max-width: 500px; overflow: hidden; text-overflow: ellipsis; \" colspan=\"1\"><div style=\"text-align: left;border-bottom: solid 2px #000; padding-bottom: 5px\">n_called</div></td><td style=\"white-space: nowrap; max-width: 500px; overflow: hidden; text-overflow: ellipsis; \" colspan=\"1\"><div style=\"text-align: left;border-bottom: solid 2px #000; padding-bottom: 5px\">expected_homs</div></td><td style=\"white-space: nowrap; max-width: 500px; overflow: hidden; text-overflow: ellipsis; \" colspan=\"1\"><div style=\"text-align: left;border-bottom: solid 2px #000; padding-bottom: 5px\">observed_homs</div></td><td style=\"white-space: nowrap; max-width: 500px; overflow: hidden; text-overflow: ellipsis; \" colspan=\"1\"><div style=\"text-align: left;border-bottom: solid 2px #000; padding-bottom: 5px\">sex</div></td><td style=\"white-space: nowrap; max-width: 500px; overflow: hidden; text-overflow: ellipsis; \" colspan=\"1\"><div style=\"text-align: left;border-bottom: solid 2px #000; padding-bottom: 5px\">gender</div></td></tr><tr><td style=\"white-space: nowrap; max-width: 500px; overflow: hidden; text-overflow: ellipsis; text-align: left;\">str</td><td style=\"white-space: nowrap; max-width: 500px; overflow: hidden; text-overflow: ellipsis; text-align: left;\">bool</td><td style=\"white-space: nowrap; max-width: 500px; overflow: hidden; text-overflow: ellipsis; text-align: left;\">float64</td><td style=\"white-space: nowrap; max-width: 500px; overflow: hidden; text-overflow: ellipsis; text-align: left;\">int64</td><td style=\"white-space: nowrap; max-width: 500px; overflow: hidden; text-overflow: ellipsis; text-align: left;\">float64</td><td style=\"white-space: nowrap; max-width: 500px; overflow: hidden; text-overflow: ellipsis; text-align: left;\">int64</td><td style=\"white-space: nowrap; max-width: 500px; overflow: hidden; text-overflow: ellipsis; text-align: left;\">str</td><td style=\"white-space: nowrap; max-width: 500px; overflow: hidden; text-overflow: ellipsis; text-align: left;\">str</td></tr>\n",
       "</thead><tbody><tr><td style=\"white-space: nowrap; max-width: 500px; overflow: hidden; text-overflow: ellipsis; \">&quot;FN000187&quot;</td><td style=\"white-space: nowrap; max-width: 500px; overflow: hidden; text-overflow: ellipsis; \">true</td><td style=\"white-space: nowrap; max-width: 500px; overflow: hidden; text-overflow: ellipsis; \">-6.71e-02</td><td style=\"white-space: nowrap; max-width: 500px; overflow: hidden; text-overflow: ellipsis; \">901</td><td style=\"white-space: nowrap; max-width: 500px; overflow: hidden; text-overflow: ellipsis; \">7.64e+02</td><td style=\"white-space: nowrap; max-width: 500px; overflow: hidden; text-overflow: ellipsis; \">755</td><td style=\"white-space: nowrap; max-width: 500px; overflow: hidden; text-overflow: ellipsis; \">&quot;f&quot;</td><td style=\"white-space: nowrap; max-width: 500px; overflow: hidden; text-overflow: ellipsis; \">&quot;m&quot;</td></tr>\n",
       "<tr><td style=\"white-space: nowrap; max-width: 500px; overflow: hidden; text-overflow: ellipsis; \">&quot;FN000861&quot;</td><td style=\"white-space: nowrap; max-width: 500px; overflow: hidden; text-overflow: ellipsis; \">true</td><td style=\"white-space: nowrap; max-width: 500px; overflow: hidden; text-overflow: ellipsis; \">-1.01e-01</td><td style=\"white-space: nowrap; max-width: 500px; overflow: hidden; text-overflow: ellipsis; \">1016</td><td style=\"white-space: nowrap; max-width: 500px; overflow: hidden; text-overflow: ellipsis; \">8.55e+02</td><td style=\"white-space: nowrap; max-width: 500px; overflow: hidden; text-overflow: ellipsis; \">839</td><td style=\"white-space: nowrap; max-width: 500px; overflow: hidden; text-overflow: ellipsis; \">&quot;f&quot;</td><td style=\"white-space: nowrap; max-width: 500px; overflow: hidden; text-overflow: ellipsis; \">&quot;m&quot;</td></tr>\n",
       "<tr><td style=\"white-space: nowrap; max-width: 500px; overflow: hidden; text-overflow: ellipsis; \">&quot;FN000871&quot;</td><td style=\"white-space: nowrap; max-width: 500px; overflow: hidden; text-overflow: ellipsis; \">true</td><td style=\"white-space: nowrap; max-width: 500px; overflow: hidden; text-overflow: ellipsis; \">-3.52e-02</td><td style=\"white-space: nowrap; max-width: 500px; overflow: hidden; text-overflow: ellipsis; \">1024</td><td style=\"white-space: nowrap; max-width: 500px; overflow: hidden; text-overflow: ellipsis; \">8.60e+02</td><td style=\"white-space: nowrap; max-width: 500px; overflow: hidden; text-overflow: ellipsis; \">854</td><td style=\"white-space: nowrap; max-width: 500px; overflow: hidden; text-overflow: ellipsis; \">&quot;f&quot;</td><td style=\"white-space: nowrap; max-width: 500px; overflow: hidden; text-overflow: ellipsis; \">&quot;m&quot;</td></tr>\n",
       "<tr><td style=\"white-space: nowrap; max-width: 500px; overflow: hidden; text-overflow: ellipsis; \">&quot;FN000884&quot;</td><td style=\"white-space: nowrap; max-width: 500px; overflow: hidden; text-overflow: ellipsis; \">false</td><td style=\"white-space: nowrap; max-width: 500px; overflow: hidden; text-overflow: ellipsis; \">9.67e-01</td><td style=\"white-space: nowrap; max-width: 500px; overflow: hidden; text-overflow: ellipsis; \">727</td><td style=\"white-space: nowrap; max-width: 500px; overflow: hidden; text-overflow: ellipsis; \">6.35e+02</td><td style=\"white-space: nowrap; max-width: 500px; overflow: hidden; text-overflow: ellipsis; \">724</td><td style=\"white-space: nowrap; max-width: 500px; overflow: hidden; text-overflow: ellipsis; \">&quot;m&quot;</td><td style=\"white-space: nowrap; max-width: 500px; overflow: hidden; text-overflow: ellipsis; \">&quot;f&quot;</td></tr>\n",
       "<tr><td style=\"white-space: nowrap; max-width: 500px; overflow: hidden; text-overflow: ellipsis; \">&quot;FN000902&quot;</td><td style=\"white-space: nowrap; max-width: 500px; overflow: hidden; text-overflow: ellipsis; \">false</td><td style=\"white-space: nowrap; max-width: 500px; overflow: hidden; text-overflow: ellipsis; \">9.17e-01</td><td style=\"white-space: nowrap; max-width: 500px; overflow: hidden; text-overflow: ellipsis; \">495</td><td style=\"white-space: nowrap; max-width: 500px; overflow: hidden; text-overflow: ellipsis; \">4.47e+02</td><td style=\"white-space: nowrap; max-width: 500px; overflow: hidden; text-overflow: ellipsis; \">491</td><td style=\"white-space: nowrap; max-width: 500px; overflow: hidden; text-overflow: ellipsis; \">&quot;m&quot;</td><td style=\"white-space: nowrap; max-width: 500px; overflow: hidden; text-overflow: ellipsis; \">&quot;f&quot;</td></tr>\n",
       "<tr><td style=\"white-space: nowrap; max-width: 500px; overflow: hidden; text-overflow: ellipsis; \">&quot;FN000957&quot;</td><td style=\"white-space: nowrap; max-width: 500px; overflow: hidden; text-overflow: ellipsis; \">false</td><td style=\"white-space: nowrap; max-width: 500px; overflow: hidden; text-overflow: ellipsis; \">9.25e-01</td><td style=\"white-space: nowrap; max-width: 500px; overflow: hidden; text-overflow: ellipsis; \">661</td><td style=\"white-space: nowrap; max-width: 500px; overflow: hidden; text-overflow: ellipsis; \">5.82e+02</td><td style=\"white-space: nowrap; max-width: 500px; overflow: hidden; text-overflow: ellipsis; \">655</td><td style=\"white-space: nowrap; max-width: 500px; overflow: hidden; text-overflow: ellipsis; \">&quot;m&quot;</td><td style=\"white-space: nowrap; max-width: 500px; overflow: hidden; text-overflow: ellipsis; \">&quot;f&quot;</td></tr>\n",
       "<tr><td style=\"white-space: nowrap; max-width: 500px; overflow: hidden; text-overflow: ellipsis; \">&quot;FN001127&quot;</td><td style=\"white-space: nowrap; max-width: 500px; overflow: hidden; text-overflow: ellipsis; \">false</td><td style=\"white-space: nowrap; max-width: 500px; overflow: hidden; text-overflow: ellipsis; \">9.80e-01</td><td style=\"white-space: nowrap; max-width: 500px; overflow: hidden; text-overflow: ellipsis; \">756</td><td style=\"white-space: nowrap; max-width: 500px; overflow: hidden; text-overflow: ellipsis; \">6.56e+02</td><td style=\"white-space: nowrap; max-width: 500px; overflow: hidden; text-overflow: ellipsis; \">754</td><td style=\"white-space: nowrap; max-width: 500px; overflow: hidden; text-overflow: ellipsis; \">&quot;m&quot;</td><td style=\"white-space: nowrap; max-width: 500px; overflow: hidden; text-overflow: ellipsis; \">&quot;f&quot;</td></tr>\n",
       "</tbody></table>"
      ],
      "text/plain": [
       "+------------+-----------+-----------+----------+---------------+\n",
       "| s          | is_female |    f_stat | n_called | expected_homs |\n",
       "+------------+-----------+-----------+----------+---------------+\n",
       "| str        |      bool |   float64 |    int64 |       float64 |\n",
       "+------------+-----------+-----------+----------+---------------+\n",
       "| \"FN000187\" |      true | -6.71e-02 |      901 |      7.64e+02 |\n",
       "| \"FN000861\" |      true | -1.01e-01 |     1016 |      8.55e+02 |\n",
       "| \"FN000871\" |      true | -3.52e-02 |     1024 |      8.60e+02 |\n",
       "| \"FN000884\" |     false |  9.67e-01 |      727 |      6.35e+02 |\n",
       "| \"FN000902\" |     false |  9.17e-01 |      495 |      4.47e+02 |\n",
       "| \"FN000957\" |     false |  9.25e-01 |      661 |      5.82e+02 |\n",
       "| \"FN001127\" |     false |  9.80e-01 |      756 |      6.56e+02 |\n",
       "+------------+-----------+-----------+----------+---------------+\n",
       "\n",
       "+---------------+-----+--------+\n",
       "| observed_homs | sex | gender |\n",
       "+---------------+-----+--------+\n",
       "|         int64 | str | str    |\n",
       "+---------------+-----+--------+\n",
       "|           755 | \"f\" | \"m\"    |\n",
       "|           839 | \"f\" | \"m\"    |\n",
       "|           854 | \"f\" | \"m\"    |\n",
       "|           724 | \"m\" | \"f\"    |\n",
       "|           491 | \"m\" | \"f\"    |\n",
       "|           655 | \"m\" | \"f\"    |\n",
       "|           754 | \"m\" | \"f\"    |\n",
       "+---------------+-----+--------+"
      ]
     },
     "metadata": {},
     "output_type": "display_data"
    }
   ],
   "source": [
    "imputed_sex_ht.filter(imputed_sex_ht.sex != imputed_sex_ht.gender).show()"
   ]
  },
  {
   "cell_type": "markdown",
   "metadata": {},
   "source": [
    "We will investigate whether poor data quality can explain the disconcordancy. If anything seems to be abnormal with these samples, we may distrust the data."
   ]
  },
  {
   "cell_type": "code",
   "execution_count": 14,
   "metadata": {},
   "outputs": [],
   "source": [
    "# Annotate the table with a boolean sex mismatch variable.\n",
    "imputed_sex_ht = imputed_sex_ht.annotate(sex_mismatch = imputed_sex_ht.sex != imputed_sex_ht.gender)\n",
    "\n",
    "# Annotate the matrix table with the same information.\n",
    "mt = mt.annotate_cols(sex_mismatch = imputed_sex_ht[mt.s].sex_mismatch)"
   ]
  },
  {
   "cell_type": "markdown",
   "metadata": {},
   "source": [
    "The plot below shows the per samples DP mean and against different other QC variables. The samples with disconcordant sex are highlighted in blue.\n",
    "\n",
    "We must note that it seems that GQ seems to be correlated with number of heterozygotes. Samples with low genotype quality seem to have fewer heterozygotes. This does make some intuitivt sense. If a sample has low depth it will have fewer called variants, therefore more homozygote reference and therefore fewer heterozygotes. This same pattern is reflected in the call rate and number of singletons."
   ]
  },
  {
   "cell_type": "code",
   "execution_count": 15,
   "metadata": {},
   "outputs": [
    {
     "name": "stderr",
     "output_type": "stream",
     "text": [
      "2021-09-30 13:58:32 Hail: INFO: Coerced sorted dataset\n",
      "2021-09-30 13:58:32 Hail: INFO: Coerced sorted dataset\n",
      "2021-09-30 13:58:33 Hail: INFO: Coerced sorted dataset\n",
      "2021-09-30 13:58:33 Hail: INFO: Coerced sorted dataset\n",
      "2021-09-30 13:58:34 Hail: INFO: Coerced sorted dataset\n",
      "2021-09-30 13:58:34 Hail: INFO: Coerced sorted dataset\n",
      "2021-09-30 13:58:35 Hail: INFO: Coerced sorted dataset\n",
      "2021-09-30 13:58:35 Hail: INFO: Coerced sorted dataset\n"
     ]
    }
   ],
   "source": [
    "exprs_list = [('# heterozygotes', mt.sample_qc.n_het), ('Ti/Tv rate', mt.sample_qc.r_ti_tv), ('Call rate', mt.sample_qc.call_rate), ('# singletons', mt.sample_qc.n_singleton)]\n",
    "plot_list = []\n",
    "for name, exprs in exprs_list:\n",
    "    p = hl.plot.scatter(mt.sample_qc.dp_stats.mean, exprs, label=mt.sex_mismatch, title=name, xlabel='DP mean', ylabel=name)\n",
    "    p.plot_width = 800\n",
    "    p.plot_height = 500\n",
    "    plot_list.append(p)"
   ]
  },
  {
   "cell_type": "code",
   "execution_count": 16,
   "metadata": {},
   "outputs": [
    {
     "data": {
      "text/html": [
       "\n",
       "\n",
       "\n",
       "\n",
       "\n",
       "\n",
       "  <div class=\"bk-root\" id=\"2f78bd51-da59-4e7e-9015-870c87cf76f8\" data-root-id=\"1360\"></div>\n"
      ]
     },
     "metadata": {},
     "output_type": "display_data"
    },
    {
     "data": {
      "application/javascript": [
       "(function(root) {\n",
       "  function embed_document(root) {\n",
       "    \n",
       "  var docs_json = {\"04ddf8b5-061b-4c72-a28c-22d6164edca4\":{\"roots\":{\"references\":[{\"attributes\":{\"children\":[{\"id\":\"1359\",\"type\":\"ToolbarBox\"},{\"id\":\"1357\",\"type\":\"GridBox\"}]},\"id\":\"1360\",\"type\":\"Column\"},{\"attributes\":{},\"id\":\"1212\",\"type\":\"LinearScale\"},{\"attributes\":{\"axis_label\":\"DP mean\",\"formatter\":{\"id\":\"1352\",\"type\":\"BasicTickFormatter\"},\"ticker\":{\"id\":\"1271\",\"type\":\"BasicTicker\"}},\"id\":\"1270\",\"type\":\"LinearAxis\"},{\"attributes\":{},\"id\":\"1114\",\"type\":\"BasicTicker\"},{\"attributes\":{\"filters\":[{\"id\":\"1195\",\"type\":\"GroupFilter\"}],\"source\":{\"id\":\"1187\",\"type\":\"ColumnDataSource\"}},\"id\":\"1196\",\"type\":\"CDSView\"},{\"attributes\":{},\"id\":\"1284\",\"type\":\"ResetTool\"},{\"attributes\":{\"axis_label\":\"DP mean\",\"formatter\":{\"id\":\"1330\",\"type\":\"BasicTickFormatter\"},\"ticker\":{\"id\":\"1163\",\"type\":\"BasicTicker\"}},\"id\":\"1162\",\"type\":\"LinearAxis\"},{\"attributes\":{\"column_name\":\"label\",\"group\":\"false\"},\"id\":\"1189\",\"type\":\"GroupFilter\"},{\"attributes\":{},\"id\":\"1283\",\"type\":\"SaveTool\"},{\"attributes\":{\"data_source\":{\"id\":\"1241\",\"type\":\"ColumnDataSource\"},\"glyph\":{\"id\":\"1246\",\"type\":\"Circle\"},\"hover_glyph\":null,\"muted_glyph\":null,\"nonselection_glyph\":{\"id\":\"1247\",\"type\":\"Circle\"},\"selection_glyph\":null,\"view\":{\"id\":\"1244\",\"type\":\"CDSView\"}},\"id\":\"1248\",\"type\":\"GlyphRenderer\"},{\"attributes\":{\"label\":{\"value\":\"true\"},\"renderers\":[{\"id\":\"1146\",\"type\":\"GlyphRenderer\"}]},\"id\":\"1148\",\"type\":\"LegendItem\"},{\"attributes\":{},\"id\":\"1330\",\"type\":\"BasicTickFormatter\"},{\"attributes\":{},\"id\":\"1271\",\"type\":\"BasicTicker\"},{\"attributes\":{},\"id\":\"1333\",\"type\":\"UnionRenderers\"},{\"attributes\":{\"data_source\":{\"id\":\"1133\",\"type\":\"ColumnDataSource\"},\"glyph\":{\"id\":\"1138\",\"type\":\"Circle\"},\"hover_glyph\":null,\"muted_glyph\":null,\"nonselection_glyph\":{\"id\":\"1139\",\"type\":\"Circle\"},\"selection_glyph\":null,\"view\":{\"id\":\"1136\",\"type\":\"CDSView\"}},\"id\":\"1140\",\"type\":\"GlyphRenderer\"},{\"attributes\":{\"fill_color\":{\"field\":\"label\",\"transform\":{\"id\":\"1134\",\"type\":\"CategoricalColorMapper\"}},\"line_color\":{\"field\":\"label\",\"transform\":{\"id\":\"1134\",\"type\":\"CategoricalColorMapper\"}},\"x\":{\"field\":\"x\"},\"y\":{\"field\":\"y\"}},\"id\":\"1144\",\"type\":\"Circle\"},{\"attributes\":{\"factors\":[\"true\",\"false\"],\"palette\":[\"#1f77b4\",\"#ff7f0e\",\"#2ca02c\",\"#d62728\",\"#9467bd\",\"#8c564b\",\"#e377c2\",\"#7f7f7f\",\"#bcbd22\",\"#17becf\"]},\"id\":\"1296\",\"type\":\"CategoricalColorMapper\"},{\"attributes\":{\"active_drag\":\"auto\",\"active_inspect\":\"auto\",\"active_multi\":null,\"active_scroll\":\"auto\",\"active_tap\":\"auto\",\"tools\":[{\"id\":\"1118\",\"type\":\"PanTool\"},{\"id\":\"1119\",\"type\":\"WheelZoomTool\"},{\"id\":\"1120\",\"type\":\"BoxZoomTool\"},{\"id\":\"1121\",\"type\":\"SaveTool\"},{\"id\":\"1122\",\"type\":\"ResetTool\"},{\"id\":\"1123\",\"type\":\"HelpTool\"},{\"id\":\"1132\",\"type\":\"HoverTool\"}]},\"id\":\"1124\",\"type\":\"Toolbar\"},{\"attributes\":{\"label\":{\"value\":\"false\"},\"renderers\":[{\"id\":\"1140\",\"type\":\"GlyphRenderer\"}]},\"id\":\"1147\",\"type\":\"LegendItem\"},{\"attributes\":{\"fill_color\":{\"field\":\"label\",\"transform\":{\"id\":\"1188\",\"type\":\"CategoricalColorMapper\"}},\"line_color\":{\"field\":\"label\",\"transform\":{\"id\":\"1188\",\"type\":\"CategoricalColorMapper\"}},\"x\":{\"field\":\"x\"},\"y\":{\"field\":\"y\"}},\"id\":\"1198\",\"type\":\"Circle\"},{\"attributes\":{\"overlay\":{\"id\":\"1331\",\"type\":\"BoxAnnotation\"}},\"id\":\"1174\",\"type\":\"BoxZoomTool\"},{\"attributes\":{\"axis_label\":\"DP mean\",\"formatter\":{\"id\":\"1319\",\"type\":\"BasicTickFormatter\"},\"ticker\":{\"id\":\"1109\",\"type\":\"BasicTicker\"}},\"id\":\"1108\",\"type\":\"LinearAxis\"},{\"attributes\":{},\"id\":\"1315\",\"type\":\"BasicTickFormatter\"},{\"attributes\":{\"active_drag\":\"auto\",\"active_inspect\":\"auto\",\"active_multi\":null,\"active_scroll\":\"auto\",\"active_tap\":\"auto\",\"tools\":[{\"id\":\"1280\",\"type\":\"PanTool\"},{\"id\":\"1281\",\"type\":\"WheelZoomTool\"},{\"id\":\"1282\",\"type\":\"BoxZoomTool\"},{\"id\":\"1283\",\"type\":\"SaveTool\"},{\"id\":\"1284\",\"type\":\"ResetTool\"},{\"id\":\"1285\",\"type\":\"HelpTool\"},{\"id\":\"1294\",\"type\":\"HoverTool\"}]},\"id\":\"1286\",\"type\":\"Toolbar\"},{\"attributes\":{\"filters\":[{\"id\":\"1135\",\"type\":\"GroupFilter\"}],\"source\":{\"id\":\"1133\",\"type\":\"ColumnDataSource\"}},\"id\":\"1136\",\"type\":\"CDSView\"},{\"attributes\":{},\"id\":\"1348\",\"type\":\"BasicTickFormatter\"},{\"attributes\":{},\"id\":\"1355\",\"type\":\"UnionRenderers\"},{\"attributes\":{\"callback\":null},\"id\":\"1154\",\"type\":\"DataRange1d\"},{\"attributes\":{\"factors\":[\"true\",\"false\"],\"palette\":[\"#1f77b4\",\"#ff7f0e\",\"#2ca02c\",\"#d62728\",\"#9467bd\",\"#8c564b\",\"#e377c2\",\"#7f7f7f\",\"#bcbd22\",\"#17becf\"]},\"id\":\"1242\",\"type\":\"CategoricalColorMapper\"},{\"attributes\":{},\"id\":\"1176\",\"type\":\"ResetTool\"},{\"attributes\":{\"column_name\":\"label\",\"group\":\"false\"},\"id\":\"1243\",\"type\":\"GroupFilter\"},{\"attributes\":{\"label\":{\"value\":\"false\"},\"renderers\":[{\"id\":\"1194\",\"type\":\"GlyphRenderer\"}]},\"id\":\"1201\",\"type\":\"LegendItem\"},{\"attributes\":{\"label\":{\"value\":\"true\"},\"renderers\":[{\"id\":\"1254\",\"type\":\"GlyphRenderer\"}]},\"id\":\"1256\",\"type\":\"LegendItem\"},{\"attributes\":{\"callback\":null},\"id\":\"1156\",\"type\":\"DataRange1d\"},{\"attributes\":{},\"id\":\"1316\",\"type\":\"BasicTicker\"},{\"attributes\":{},\"id\":\"1106\",\"type\":\"LinearScale\"},{\"attributes\":{\"dimension\":1,\"ticker\":{\"id\":\"1276\",\"type\":\"BasicTicker\"}},\"id\":\"1279\",\"type\":\"Grid\"},{\"attributes\":{\"fill_color\":{\"field\":\"label\",\"transform\":{\"id\":\"1134\",\"type\":\"CategoricalColorMapper\"}},\"line_color\":{\"field\":\"label\",\"transform\":{\"id\":\"1134\",\"type\":\"CategoricalColorMapper\"}},\"x\":{\"field\":\"x\"},\"y\":{\"field\":\"y\"}},\"id\":\"1138\",\"type\":\"Circle\"},{\"attributes\":{},\"id\":\"1168\",\"type\":\"BasicTicker\"},{\"attributes\":{\"callback\":null,\"tooltips\":[[\"x\",\"@x\"],[\"y\",\"@y\"],[\"label\",\"@label\"]]},\"id\":\"1294\",\"type\":\"HoverTool\"},{\"attributes\":{\"text\":\"Ti/Tv rate\"},\"id\":\"1152\",\"type\":\"Title\"},{\"attributes\":{\"ticker\":{\"id\":\"1163\",\"type\":\"BasicTicker\"}},\"id\":\"1166\",\"type\":\"Grid\"},{\"attributes\":{},\"id\":\"1338\",\"type\":\"BasicTicker\"},{\"attributes\":{\"callback\":null,\"data\":{\"index\":[0,1,2,3,4,5,6,7,8,9,10,11,12,13,14,15,16,17,18,19,20,21,22,23,24,25,26,27,28,29,30,31,32,33,34,35,36,37,38,39,40,41,42,43,44,45,46,47,48,49,50,51,52,53,54,55,56,57,58,59,60,61,62,63,64,65,66,67,68,69,70,71,72,73,74,75,76,77,78,79,80,81,82,83,84,85,86,87,88,89,90,91,92,93,94,95,96,97,98,99,100,101,102,103,104,105,106,107,108,109,110,111,112,113,114,115,116,117,118,119,120,121,122,123,124,125,126,127,128,129,130,131,132,133,134,135,136,137,138,139,140,141,142,143,144,145,146,147,148,149,150,151,152,153,154,155,156,157,158,159,160,161,162,163,164,165,166,167,168,169,170,171,172,173,174,175,176,177,178,179,180,181,182,183,184,185,186,187,188,189,190,191,192,193,194,195,196,197,198,199,200,201,202,203,204,205,206,207,208,209,210,211,212,213,214,215,216,217,218,219,220,221,222,223,224,225,226,227,228,229,230,231,232,233,234,235,236,237,238,239,240,241,242,243,244,245,246,247,248,249,250,251,252,253,254,255,256,257,258,259,260,261,262,263,264,265,266,267,268,269,270,271,272,273,274,275,276,277,278,279,280,281,282,283,284,285,286,287,288,289,290,291,292,293,294,295,296,297,298,299,300,301,302,303,304,305,306,307,308,309,310,311,312,313,314,315,316,317,318,319,320,321,322,323,324,325,326,327,328,329,330,331,332,333,334,335,336,337,338,339,340,341,342,343,344,345,346,347,348,349,350,351,352,353,354,355,356,357,358,359,360,361,362,363,364,365,366,367,368,369,370,371,372,373,374,375,376,377,378,379,380,381,382,383,384,385,386,387,388,389,390,391,392,393,394,395,396,397,398,399,400,401,402,403,404,405,406,407,408,409,410,411,412,413,414,415,416,417,418,419,420,421,422,423,424,425,426,427,428,429,430,431,432,433,434,435,436,437,438,439,440,441,442,443,444,445,446,447,448,449,450,451],\"label\":[\"false\",\"false\",\"false\",\"false\",\"false\",\"false\",\"false\",\"false\",\"false\",\"false\",\"false\",\"false\",\"false\",\"false\",\"false\",\"false\",\"false\",\"false\",\"false\",\"false\",\"false\",\"false\",\"true\",\"false\",\"false\",\"false\",\"false\",\"false\",\"false\",\"false\",\"false\",\"false\",\"false\",\"false\",\"false\",\"false\",\"false\",\"false\",\"false\",\"false\",\"false\",\"false\",\"false\",\"false\",\"false\",\"false\",\"false\",\"false\",\"false\",\"false\",\"false\",\"false\",\"false\",\"false\",\"false\",\"false\",\"false\",\"false\",\"false\",\"false\",\"false\",\"false\",\"false\",\"false\",\"false\",\"true\",\"false\",\"false\",\"false\",\"false\",\"false\",\"false\",\"false\",\"false\",\"false\",\"false\",\"false\",\"false\",\"false\",\"false\",\"false\",\"false\",\"false\",\"false\",\"false\",\"false\",\"false\",\"false\",\"false\",\"false\",\"false\",\"false\",\"false\",\"false\",\"false\",\"false\",\"false\",\"false\",\"false\",\"false\",\"false\",\"false\",\"false\",\"false\",\"false\",\"false\",\"false\",\"false\",\"false\",\"false\",\"false\",\"false\",\"false\",\"false\",\"false\",\"false\",\"false\",\"false\",\"false\",\"false\",\"false\",\"false\",\"false\",\"false\",\"false\",\"false\",\"false\",\"false\",\"false\",\"false\",\"false\",\"false\",\"false\",\"false\",\"false\",\"false\",\"false\",\"false\",\"false\",\"false\",\"false\",\"false\",\"false\",\"false\",\"false\",\"false\",\"false\",\"false\",\"false\",\"false\",\"false\",\"false\",\"false\",\"false\",\"false\",\"false\",\"false\",\"false\",\"false\",\"false\",\"false\",\"false\",\"false\",\"false\",\"false\",\"false\",\"false\",\"false\",\"false\",\"false\",\"true\",\"false\",\"false\",\"false\",\"false\",\"false\",\"false\",\"false\",\"false\",\"false\",\"false\",\"true\",\"false\",\"false\",\"false\",\"false\",\"false\",\"false\",\"false\",\"false\",\"false\",\"true\",\"false\",\"false\",\"false\",\"false\",\"false\",\"false\",\"false\",\"false\",\"false\",\"false\",\"false\",\"false\",\"false\",\"false\",\"false\",\"false\",\"false\",\"false\",\"false\",\"false\",\"false\",\"false\",\"false\",\"false\",\"false\",\"false\",\"false\",\"false\",\"false\",\"false\",\"false\",\"false\",\"false\",\"false\",\"false\",\"false\",\"false\",\"false\",\"false\",\"false\",\"false\",\"false\",\"false\",\"false\",\"false\",\"false\",\"false\",\"false\",\"false\",\"false\",\"false\",\"false\",\"false\",\"false\",\"false\",\"false\",\"false\",\"false\",\"false\",\"false\",\"false\",\"false\",\"false\",\"false\",\"false\",\"false\",\"false\",\"false\",\"false\",\"false\",\"false\",\"false\",\"false\",\"false\",\"false\",\"false\",\"false\",\"false\",\"false\",\"false\",\"false\",\"false\",\"false\",\"false\",\"false\",\"false\",\"false\",\"false\",\"false\",\"false\",\"false\",\"false\",\"false\",\"false\",\"false\",\"false\",\"false\",\"false\",\"false\",\"false\",\"false\",\"false\",\"false\",\"false\",\"false\",\"false\",\"false\",\"false\",\"false\",\"false\",\"false\",\"false\",\"false\",\"false\",\"false\",\"false\",\"false\",\"false\",\"false\",\"false\",\"false\",\"false\",\"false\",\"false\",\"false\",\"false\",\"false\",\"false\",\"false\",\"false\",\"false\",\"false\",\"false\",\"false\",\"false\",\"false\",\"false\",\"false\",\"false\",\"false\",\"false\",\"false\",\"false\",\"false\",\"false\",\"false\",\"false\",\"false\",\"false\",\"false\",\"false\",\"false\",\"false\",\"false\",\"false\",\"false\",\"false\",\"false\",\"false\",\"false\",\"false\",\"false\",\"false\",\"false\",\"false\",\"false\",\"false\",\"false\",\"false\",\"false\",\"false\",\"false\",\"false\",\"false\",\"false\",\"false\",\"false\",\"false\",\"false\",\"false\",\"false\",\"false\",\"false\",\"false\",\"false\",\"false\",\"false\",\"false\",\"true\",\"false\",\"false\",\"true\",\"false\",\"false\",\"false\",\"false\",\"false\",\"false\",\"false\",\"false\",\"false\",\"false\",\"false\",\"false\",\"false\",\"false\",\"false\",\"false\",\"false\",\"false\",\"false\",\"false\",\"false\",\"false\",\"false\",\"false\",\"false\",\"false\",\"false\",\"false\",\"false\",\"false\",\"false\",\"false\",\"false\",\"false\",\"false\",\"false\",\"false\",\"false\",\"false\",\"false\",\"false\",\"false\",\"false\",\"false\",\"false\",\"false\",\"false\",\"false\",\"false\",\"false\",\"false\",\"false\",\"false\",\"false\",\"false\",\"false\",\"false\",\"false\",\"false\",\"false\",\"false\",\"false\",\"false\",\"false\",\"false\",\"false\",\"false\",\"false\"],\"x\":{\"__ndarray__\":\"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\",\"dtype\":\"float64\",\"shape\":[452]},\"y\":{\"__ndarray__\":\"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\",\"dtype\":\"float64\",\"shape\":[452]}},\"selected\":{\"id\":\"1321\",\"type\":\"Selection\"},\"selection_policy\":{\"id\":\"1322\",\"type\":\"UnionRenderers\"}},\"id\":\"1133\",\"type\":\"ColumnDataSource\"},{\"attributes\":{},\"id\":\"1326\",\"type\":\"BasicTickFormatter\"},{\"attributes\":{\"axis_label\":\"Ti/Tv rate\",\"formatter\":{\"id\":\"1326\",\"type\":\"BasicTickFormatter\"},\"ticker\":{\"id\":\"1168\",\"type\":\"BasicTicker\"}},\"id\":\"1167\",\"type\":\"LinearAxis\"},{\"attributes\":{},\"id\":\"1317\",\"type\":\"BasicTickFormatter\"},{\"attributes\":{\"filters\":[{\"id\":\"1249\",\"type\":\"GroupFilter\"}],\"source\":{\"id\":\"1241\",\"type\":\"ColumnDataSource\"}},\"id\":\"1250\",\"type\":\"CDSView\"},{\"attributes\":{},\"id\":\"1163\",\"type\":\"BasicTicker\"},{\"attributes\":{},\"id\":\"1352\",\"type\":\"BasicTickFormatter\"},{\"attributes\":{\"callback\":null,\"data\":{\"index\":[0,1,2,3,4,5,6,7,8,9,10,11,12,13,14,15,16,17,18,19,20,21,22,23,24,25,26,27,28,29,30,31,32,33,34,35,36,37,38,39,40,41,42,43,44,45,46,47,48,49,50,51,52,53,54,55,56,57,58,59,60,61,62,63,64,65,66,67,68,69,70,71,72,73,74,75,76,77,78,79,80,81,82,83,84,85,86,87,88,89,90,91,92,93,94,95,96,97,98,99,100,101,102,103,104,105,106,107,108,109,110,111,112,113,114,115,116,117,118,119,120,121,122,123,124,125,126,127,128,129,130,131,132,133,134,135,136,137,138,139,140,141,142,143,144,145,146,147,148,149,150,151,152,153,154,155,156,157,158,159,160,161,162,163,164,165,166,167,168,169,170,171,172,173,174,175,176,177,178,179,180,181,182,183,184,185,186,187,188,189,190],\"label\":[\"false\",\"false\",\"false\",\"false\",\"false\",\"false\",\"false\",\"false\",\"false\",\"false\",\"false\",\"false\",\"false\",\"false\",\"false\",\"false\",\"false\",\"false\",\"false\",\"false\",\"false\",\"true\",\"false\",\"false\",\"false\",\"false\",\"false\",\"false\",\"false\",\"false\",\"false\",\"false\",\"false\",\"false\",\"false\",\"false\",\"false\",\"false\",\"false\",\"false\",\"false\",\"false\",\"false\",\"false\",\"false\",\"false\",\"false\",\"false\",\"false\",\"false\",\"false\",\"false\",\"false\",\"false\",\"false\",\"false\",\"false\",\"false\",\"false\",\"false\",\"false\",\"false\",\"false\",\"false\",\"false\",\"false\",\"false\",\"false\",\"false\",\"false\",\"false\",\"false\",\"false\",\"false\",\"false\",\"false\",\"false\",\"false\",\"false\",\"false\",\"false\",\"false\",\"false\",\"false\",\"false\",\"false\",\"false\",\"false\",\"false\",\"false\",\"false\",\"false\",\"false\",\"false\",\"false\",\"false\",\"false\",\"false\",\"false\",\"false\",\"false\",\"false\",\"false\",\"false\",\"false\",\"false\",\"false\",\"false\",\"false\",\"false\",\"false\",\"false\",\"false\",\"false\",\"false\",\"false\",\"false\",\"false\",\"false\",\"false\",\"false\",\"false\",\"false\",\"false\",\"false\",\"false\",\"false\",\"false\",\"false\",\"false\",\"false\",\"false\",\"false\",\"false\",\"false\",\"false\",\"false\",\"false\",\"false\",\"false\",\"false\",\"false\",\"false\",\"false\",\"false\",\"false\",\"false\",\"false\",\"false\",\"false\",\"false\",\"false\",\"false\",\"false\",\"false\",\"false\",\"false\",\"false\",\"false\",\"false\",\"false\",\"false\",\"false\",\"false\",\"false\",\"false\",\"false\",\"false\",\"false\",\"false\",\"false\",\"false\",\"false\",\"false\",\"false\",\"false\",\"false\",\"false\",\"false\",\"false\",\"false\",\"false\",\"false\",\"false\",\"false\",\"false\",\"false\",\"false\",\"false\",\"false\",\"false\"],\"x\":{\"__ndarray__\":\"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\",\"dtype\":\"float64\",\"shape\":[191]},\"y\":{\"__ndarray__\":\"AAAAAAAA8D8AAAAAAADwPwAAAAAAAAAAAAAAAAAAAAAAAAAAAAAAAAAAAAAAAAAAAAAAAAAAAEAAAAAAAADwPwAAAAAAAAAAAAAAAAAAAAAAAAAAAAAAAAAAAAAAAPA/AAAAAAAAAEAAAAAAAAAAAAAAAAAAAABAAAAAAAAAAAAAAAAAAADwPwAAAAAAAAAAAAAAAAAA8D8AAAAAAADwPwAAAAAAAAAAAAAAAAAAAAAAAAAAAAAAAAAAAAAAAAAAAAAAAAAAAAAAAAAAAAAAAAAAAAAAAAAAAAAAAAAAAAAAAAAAAAAAAAAAAAAAAAAAAAAAAAAAAAAAAAAAAAAAAAAAAAAAAAAAAAAAAAAAAAAAAAAAAAAAAAAAAAAAAAAAAAAAAAAAAAAAAAAAAAAAAAAAAAAAAAAAAAAAAAAAAAAAAAAAAAAAAAAAAAAAAAAAAAAAAAAAAAAAAAAAAAAAAAAAAAAAAAAAAAAAAAAAAAAAAAAAAAAAAAAAAAAAAPA/AAAAAAAAAAAAAAAAAAAAAAAAAAAAAAAAAAAAAAAAAAAAAAAAAAAAAAAAAAAAAPA/AAAAAAAAAAAAAAAAAAAAAAAAAAAAAAAAAAAAAAAAAAAAAAAAAAAAAAAAAAAAAPA/AAAAAAAAAAAAAAAAAAAAAAAAAAAAAAAAAAAAAAAA8D8AAAAAAAAAAAAAAAAAAAAAAAAAAAAAAAAAAAAAAAAAAAAAAAAAAAAAAAAAAAAAAAAAAAAAAAAAAAAAAAAAAAAAAAAAAAAAAAAAAAAAAADwPwAAAAAAAAAAAAAAAAAAAAAAAAAAAADwPwAAAAAAAAAAAAAAAAAAAAAAAAAAAADwPwAAAAAAAAAAAAAAAAAAAAAAAAAAAAAAAAAAAAAAAAAAAAAAAAAAAAAAAAAAAAAAAAAAAAAAAAAAAAAAAAAAAAAAAAAAAAAAAAAAAAAAAAAAAAAAAAAAAAAAAAAAAADwPwAAAAAAAAAAAAAAAAAAAAAAAAAAAAAAAAAAAAAAAAAAAAAAAAAAAAAAAAAAAAAAAAAAAAAAAAAAAAAAAAAAAAAAAAAAAAAAAAAAAAAAAPA/AAAAAAAAAAAAAAAAAAAAAAAAAAAAAAAAAAAAAAAAAAAAAAAAAAAAAAAAAAAAAAAAAAAAAAAAAAAAAAAAAAAAAAAAAAAAAPA/AAAAAAAAAAAAAAAAAAAAAAAAAAAAAAAAAAAAAAAAAAAAAAAAAAAAAAAAAAAAAAAAAAAAAAAAAAAAAAAAAAAAAAAAAAAAAAAAAAAAAAAAAAAAAAAAAAAAAAAAAAAAAAAAAAAAAAAAAAAAAAAAAAAAAAAAAAAAAAAAAAAAAAAAAAAAAAAAAAAAAAAAAAAAAAAAAAAAAAAAAAAAAAAAAAAAAAAAAAAAAAAAAAAAAAAAAAAAAAAAAAAAAAAAAAAAAAAAAAAAAAAAAAAAAAAAAADwPwAAAAAAAAAAAAAAAAAAAAAAAAAAAAAAAAAAAAAAAAAAAAAAAAAAAAAAAAAAAAAAAAAAAAAAAAAAAAAAAAAAAAAAAAAAAADwPwAAAAAAAAAAAAAAAAAAAAAAAAAAAAAAAAAAAAAAAAAAAAAAAAAAAAAAAAAAAAAAAAAAAAAAAAAAAAAAAAAA8D8AAAAAAAAAAAAAAAAAAAAAAAAAAAAAAAAAAAAAAADwPwAAAAAAAAAAAAAAAAAAAAAAAAAAAAAAQAAAAAAAAAAAAAAAAAAAAAAAAAAAAAAAAAAAAAAAAAAAAAAAAAAAAAAAAAAAAAAAAAAAAAAAAAAAAAAAAAAAAAAAAAAAAAAAAAAAAAAAAAAAAAAAAAAAAAAAAAAAAAAAAAAAAAAAAAAAAAAAAAAAAAAAAAAAAAAAAAAAAAAAAAAAAAAAAAAAAAAAAAAAAADwPwAAAAAAAAAAAAAAAAAAAAAAAAAAAAAAAAAAAAAAAAAAAAAAAAAAAAAAAAAAAAAAAAAAAAAAAAAAAAAAAAAAAAAAAAAAAAAAAAAAAAAAABBAAAAAAAAAAAAAAAAAAADwPw==\",\"dtype\":\"float64\",\"shape\":[191]}},\"selected\":{\"id\":\"1354\",\"type\":\"Selection\"},\"selection_policy\":{\"id\":\"1355\",\"type\":\"UnionRenderers\"}},\"id\":\"1295\",\"type\":\"ColumnDataSource\"},{\"attributes\":{\"below\":[{\"id\":\"1216\",\"type\":\"LinearAxis\"}],\"center\":[{\"id\":\"1220\",\"type\":\"Grid\"},{\"id\":\"1225\",\"type\":\"Grid\"}],\"left\":[{\"id\":\"1221\",\"type\":\"LinearAxis\"},{\"id\":\"1257\",\"type\":\"Legend\"},{\"id\":\"1258\",\"type\":\"ColorBar\"}],\"plot_height\":400,\"plot_width\":600,\"renderers\":[{\"id\":\"1248\",\"type\":\"GlyphRenderer\"},{\"id\":\"1254\",\"type\":\"GlyphRenderer\"}],\"title\":{\"id\":\"1206\",\"type\":\"Title\"},\"toolbar\":{\"id\":\"1232\",\"type\":\"Toolbar\"},\"toolbar_location\":null,\"x_range\":{\"id\":\"1208\",\"type\":\"DataRange1d\"},\"x_scale\":{\"id\":\"1212\",\"type\":\"LinearScale\"},\"y_range\":{\"id\":\"1210\",\"type\":\"DataRange1d\"},\"y_scale\":{\"id\":\"1214\",\"type\":\"LinearScale\"}},\"id\":\"1205\",\"subtype\":\"Figure\",\"type\":\"Plot\"},{\"attributes\":{\"callback\":null,\"tooltips\":[[\"x\",\"@x\"],[\"y\",\"@y\"],[\"label\",\"@label\"]]},\"id\":\"1132\",\"type\":\"HoverTool\"},{\"attributes\":{},\"id\":\"1121\",\"type\":\"SaveTool\"},{\"attributes\":{\"children\":[[{\"id\":\"1097\",\"subtype\":\"Figure\",\"type\":\"Plot\"},0,0],[{\"id\":\"1151\",\"subtype\":\"Figure\",\"type\":\"Plot\"},0,1],[{\"id\":\"1205\",\"subtype\":\"Figure\",\"type\":\"Plot\"},1,0],[{\"id\":\"1259\",\"subtype\":\"Figure\",\"type\":\"Plot\"},1,1]]},\"id\":\"1357\",\"type\":\"GridBox\"},{\"attributes\":{\"text\":\"# heterozygotes\"},\"id\":\"1098\",\"type\":\"Title\"},{\"attributes\":{\"fill_alpha\":{\"value\":0.1},\"fill_color\":{\"value\":\"#1f77b4\"},\"line_alpha\":{\"value\":0.1},\"line_color\":{\"value\":\"#1f77b4\"},\"x\":{\"field\":\"x\"},\"y\":{\"field\":\"y\"}},\"id\":\"1247\",\"type\":\"Circle\"},{\"attributes\":{\"dimension\":1,\"ticker\":{\"id\":\"1168\",\"type\":\"BasicTicker\"}},\"id\":\"1171\",\"type\":\"Grid\"},{\"attributes\":{\"axis_label\":\"# singletons\",\"formatter\":{\"id\":\"1348\",\"type\":\"BasicTickFormatter\"},\"ticker\":{\"id\":\"1276\",\"type\":\"BasicTicker\"}},\"id\":\"1275\",\"type\":\"LinearAxis\"},{\"attributes\":{\"active_drag\":\"auto\",\"active_inspect\":\"auto\",\"active_multi\":null,\"active_scroll\":\"auto\",\"active_tap\":\"auto\",\"tools\":[{\"id\":\"1172\",\"type\":\"PanTool\"},{\"id\":\"1173\",\"type\":\"WheelZoomTool\"},{\"id\":\"1174\",\"type\":\"BoxZoomTool\"},{\"id\":\"1175\",\"type\":\"SaveTool\"},{\"id\":\"1176\",\"type\":\"ResetTool\"},{\"id\":\"1177\",\"type\":\"HelpTool\"},{\"id\":\"1186\",\"type\":\"HoverTool\"}]},\"id\":\"1178\",\"type\":\"Toolbar\"},{\"attributes\":{\"fill_alpha\":{\"value\":0.1},\"fill_color\":{\"value\":\"#1f77b4\"},\"line_alpha\":{\"value\":0.1},\"line_color\":{\"value\":\"#1f77b4\"},\"x\":{\"field\":\"x\"},\"y\":{\"field\":\"y\"}},\"id\":\"1253\",\"type\":\"Circle\"},{\"attributes\":{},\"id\":\"1276\",\"type\":\"BasicTicker\"},{\"attributes\":{\"filters\":[{\"id\":\"1141\",\"type\":\"GroupFilter\"}],\"source\":{\"id\":\"1133\",\"type\":\"ColumnDataSource\"}},\"id\":\"1142\",\"type\":\"CDSView\"},{\"attributes\":{\"factors\":[\"true\",\"false\"],\"palette\":[\"#1f77b4\",\"#ff7f0e\",\"#2ca02c\",\"#d62728\",\"#9467bd\",\"#8c564b\",\"#e377c2\",\"#7f7f7f\",\"#bcbd22\",\"#17becf\"]},\"id\":\"1134\",\"type\":\"CategoricalColorMapper\"},{\"attributes\":{\"overlay\":{\"id\":\"1353\",\"type\":\"BoxAnnotation\"}},\"id\":\"1282\",\"type\":\"BoxZoomTool\"},{\"attributes\":{\"click_policy\":\"hide\",\"items\":[{\"id\":\"1147\",\"type\":\"LegendItem\"},{\"id\":\"1148\",\"type\":\"LegendItem\"}]},\"id\":\"1149\",\"type\":\"Legend\"},{\"attributes\":{\"label\":{\"value\":\"true\"},\"renderers\":[{\"id\":\"1200\",\"type\":\"GlyphRenderer\"}]},\"id\":\"1202\",\"type\":\"LegendItem\"},{\"attributes\":{\"fill_color\":{\"field\":\"label\",\"transform\":{\"id\":\"1242\",\"type\":\"CategoricalColorMapper\"}},\"line_color\":{\"field\":\"label\",\"transform\":{\"id\":\"1242\",\"type\":\"CategoricalColorMapper\"}},\"x\":{\"field\":\"x\"},\"y\":{\"field\":\"y\"}},\"id\":\"1252\",\"type\":\"Circle\"},{\"attributes\":{},\"id\":\"1173\",\"type\":\"WheelZoomTool\"},{\"attributes\":{\"bottom_units\":\"screen\",\"fill_alpha\":{\"value\":0.5},\"fill_color\":{\"value\":\"lightgrey\"},\"left_units\":\"screen\",\"level\":\"overlay\",\"line_alpha\":{\"value\":1.0},\"line_color\":{\"value\":\"black\"},\"line_dash\":[4,4],\"line_width\":{\"value\":2},\"render_mode\":\"css\",\"right_units\":\"screen\",\"top_units\":\"screen\"},\"id\":\"1353\",\"type\":\"BoxAnnotation\"},{\"attributes\":{\"fill_alpha\":{\"value\":0.1},\"fill_color\":{\"value\":\"#1f77b4\"},\"line_alpha\":{\"value\":0.1},\"line_color\":{\"value\":\"#1f77b4\"},\"x\":{\"field\":\"x\"},\"y\":{\"field\":\"y\"}},\"id\":\"1139\",\"type\":\"Circle\"},{\"attributes\":{\"column_name\":\"label\",\"group\":\"true\"},\"id\":\"1249\",\"type\":\"GroupFilter\"},{\"attributes\":{\"data_source\":{\"id\":\"1133\",\"type\":\"ColumnDataSource\"},\"glyph\":{\"id\":\"1144\",\"type\":\"Circle\"},\"hover_glyph\":null,\"muted_glyph\":null,\"nonselection_glyph\":{\"id\":\"1145\",\"type\":\"Circle\"},\"selection_glyph\":null,\"view\":{\"id\":\"1142\",\"type\":\"CDSView\"}},\"id\":\"1146\",\"type\":\"GlyphRenderer\"},{\"attributes\":{\"callback\":null},\"id\":\"1100\",\"type\":\"DataRange1d\"},{\"attributes\":{\"color_mapper\":null,\"formatter\":{\"id\":\"1328\",\"type\":\"BasicTickFormatter\"},\"ticker\":{\"id\":\"1327\",\"type\":\"BasicTicker\"},\"visible\":false},\"id\":\"1204\",\"type\":\"ColorBar\"},{\"attributes\":{\"fill_alpha\":{\"value\":0.1},\"fill_color\":{\"value\":\"#1f77b4\"},\"line_alpha\":{\"value\":0.1},\"line_color\":{\"value\":\"#1f77b4\"},\"x\":{\"field\":\"x\"},\"y\":{\"field\":\"y\"}},\"id\":\"1193\",\"type\":\"Circle\"},{\"attributes\":{},\"id\":\"1281\",\"type\":\"WheelZoomTool\"},{\"attributes\":{\"fill_alpha\":{\"value\":0.1},\"fill_color\":{\"value\":\"#1f77b4\"},\"line_alpha\":{\"value\":0.1},\"line_color\":{\"value\":\"#1f77b4\"},\"x\":{\"field\":\"x\"},\"y\":{\"field\":\"y\"}},\"id\":\"1145\",\"type\":\"Circle\"},{\"attributes\":{\"label\":{\"value\":\"false\"},\"renderers\":[{\"id\":\"1248\",\"type\":\"GlyphRenderer\"}]},\"id\":\"1255\",\"type\":\"LegendItem\"},{\"attributes\":{},\"id\":\"1160\",\"type\":\"LinearScale\"},{\"attributes\":{\"ticker\":{\"id\":\"1271\",\"type\":\"BasicTicker\"}},\"id\":\"1274\",\"type\":\"Grid\"},{\"attributes\":{\"column_name\":\"label\",\"group\":\"true\"},\"id\":\"1195\",\"type\":\"GroupFilter\"},{\"attributes\":{\"text\":\"Call rate\"},\"id\":\"1206\",\"type\":\"Title\"},{\"attributes\":{},\"id\":\"1328\",\"type\":\"BasicTickFormatter\"},{\"attributes\":{\"fill_color\":{\"field\":\"label\",\"transform\":{\"id\":\"1188\",\"type\":\"CategoricalColorMapper\"}},\"line_color\":{\"field\":\"label\",\"transform\":{\"id\":\"1188\",\"type\":\"CategoricalColorMapper\"}},\"x\":{\"field\":\"x\"},\"y\":{\"field\":\"y\"}},\"id\":\"1192\",\"type\":\"Circle\"},{\"attributes\":{\"fill_color\":{\"field\":\"label\",\"transform\":{\"id\":\"1242\",\"type\":\"CategoricalColorMapper\"}},\"line_color\":{\"field\":\"label\",\"transform\":{\"id\":\"1242\",\"type\":\"CategoricalColorMapper\"}},\"x\":{\"field\":\"x\"},\"y\":{\"field\":\"y\"}},\"id\":\"1246\",\"type\":\"Circle\"},{\"attributes\":{},\"id\":\"1172\",\"type\":\"PanTool\"},{\"attributes\":{},\"id\":\"1280\",\"type\":\"PanTool\"},{\"attributes\":{\"dimension\":1,\"ticker\":{\"id\":\"1114\",\"type\":\"BasicTicker\"}},\"id\":\"1117\",\"type\":\"Grid\"},{\"attributes\":{},\"id\":\"1158\",\"type\":\"LinearScale\"},{\"attributes\":{\"below\":[{\"id\":\"1108\",\"type\":\"LinearAxis\"}],\"center\":[{\"id\":\"1112\",\"type\":\"Grid\"},{\"id\":\"1117\",\"type\":\"Grid\"}],\"left\":[{\"id\":\"1113\",\"type\":\"LinearAxis\"},{\"id\":\"1149\",\"type\":\"Legend\"},{\"id\":\"1150\",\"type\":\"ColorBar\"}],\"plot_height\":400,\"plot_width\":600,\"renderers\":[{\"id\":\"1140\",\"type\":\"GlyphRenderer\"},{\"id\":\"1146\",\"type\":\"GlyphRenderer\"}],\"title\":{\"id\":\"1098\",\"type\":\"Title\"},\"toolbar\":{\"id\":\"1124\",\"type\":\"Toolbar\"},\"toolbar_location\":null,\"x_range\":{\"id\":\"1100\",\"type\":\"DataRange1d\"},\"x_scale\":{\"id\":\"1104\",\"type\":\"LinearScale\"},\"y_range\":{\"id\":\"1102\",\"type\":\"DataRange1d\"},\"y_scale\":{\"id\":\"1106\",\"type\":\"LinearScale\"}},\"id\":\"1097\",\"subtype\":\"Figure\",\"type\":\"Plot\"},{\"attributes\":{\"below\":[{\"id\":\"1162\",\"type\":\"LinearAxis\"}],\"center\":[{\"id\":\"1166\",\"type\":\"Grid\"},{\"id\":\"1171\",\"type\":\"Grid\"}],\"left\":[{\"id\":\"1167\",\"type\":\"LinearAxis\"},{\"id\":\"1203\",\"type\":\"Legend\"},{\"id\":\"1204\",\"type\":\"ColorBar\"}],\"plot_height\":400,\"plot_width\":600,\"renderers\":[{\"id\":\"1194\",\"type\":\"GlyphRenderer\"},{\"id\":\"1200\",\"type\":\"GlyphRenderer\"}],\"title\":{\"id\":\"1152\",\"type\":\"Title\"},\"toolbar\":{\"id\":\"1178\",\"type\":\"Toolbar\"},\"toolbar_location\":null,\"x_range\":{\"id\":\"1154\",\"type\":\"DataRange1d\"},\"x_scale\":{\"id\":\"1158\",\"type\":\"LinearScale\"},\"y_range\":{\"id\":\"1156\",\"type\":\"DataRange1d\"},\"y_scale\":{\"id\":\"1160\",\"type\":\"LinearScale\"}},\"id\":\"1151\",\"subtype\":\"Figure\",\"type\":\"Plot\"},{\"attributes\":{},\"id\":\"1175\",\"type\":\"SaveTool\"},{\"attributes\":{\"color_mapper\":null,\"formatter\":{\"id\":\"1339\",\"type\":\"BasicTickFormatter\"},\"ticker\":{\"id\":\"1338\",\"type\":\"BasicTicker\"},\"visible\":false},\"id\":\"1258\",\"type\":\"ColorBar\"},{\"attributes\":{\"column_name\":\"label\",\"group\":\"false\"},\"id\":\"1297\",\"type\":\"GroupFilter\"},{\"attributes\":{\"data_source\":{\"id\":\"1187\",\"type\":\"ColumnDataSource\"},\"glyph\":{\"id\":\"1198\",\"type\":\"Circle\"},\"hover_glyph\":null,\"muted_glyph\":null,\"nonselection_glyph\":{\"id\":\"1199\",\"type\":\"Circle\"},\"selection_glyph\":null,\"view\":{\"id\":\"1196\",\"type\":\"CDSView\"}},\"id\":\"1200\",\"type\":\"GlyphRenderer\"},{\"attributes\":{\"data_source\":{\"id\":\"1295\",\"type\":\"ColumnDataSource\"},\"glyph\":{\"id\":\"1306\",\"type\":\"Circle\"},\"hover_glyph\":null,\"muted_glyph\":null,\"nonselection_glyph\":{\"id\":\"1307\",\"type\":\"Circle\"},\"selection_glyph\":null,\"view\":{\"id\":\"1304\",\"type\":\"CDSView\"}},\"id\":\"1308\",\"type\":\"GlyphRenderer\"},{\"attributes\":{\"text\":\"# singletons\"},\"id\":\"1260\",\"type\":\"Title\"},{\"attributes\":{},\"id\":\"1119\",\"type\":\"WheelZoomTool\"},{\"attributes\":{},\"id\":\"1104\",\"type\":\"LinearScale\"},{\"attributes\":{},\"id\":\"1354\",\"type\":\"Selection\"},{\"attributes\":{\"click_policy\":\"hide\",\"items\":[{\"id\":\"1309\",\"type\":\"LegendItem\"},{\"id\":\"1310\",\"type\":\"LegendItem\"}]},\"id\":\"1311\",\"type\":\"Legend\"},{\"attributes\":{\"factors\":[\"true\",\"false\"],\"palette\":[\"#1f77b4\",\"#ff7f0e\",\"#2ca02c\",\"#d62728\",\"#9467bd\",\"#8c564b\",\"#e377c2\",\"#7f7f7f\",\"#bcbd22\",\"#17becf\"]},\"id\":\"1188\",\"type\":\"CategoricalColorMapper\"},{\"attributes\":{},\"id\":\"1122\",\"type\":\"ResetTool\"},{\"attributes\":{\"callback\":null,\"tooltips\":[[\"x\",\"@x\"],[\"y\",\"@y\"],[\"label\",\"@label\"]]},\"id\":\"1186\",\"type\":\"HoverTool\"},{\"attributes\":{},\"id\":\"1322\",\"type\":\"UnionRenderers\"},{\"attributes\":{\"click_policy\":\"hide\",\"items\":[{\"id\":\"1201\",\"type\":\"LegendItem\"},{\"id\":\"1202\",\"type\":\"LegendItem\"}]},\"id\":\"1203\",\"type\":\"Legend\"},{\"attributes\":{\"data_source\":{\"id\":\"1187\",\"type\":\"ColumnDataSource\"},\"glyph\":{\"id\":\"1192\",\"type\":\"Circle\"},\"hover_glyph\":null,\"muted_glyph\":null,\"nonselection_glyph\":{\"id\":\"1193\",\"type\":\"Circle\"},\"selection_glyph\":null,\"view\":{\"id\":\"1190\",\"type\":\"CDSView\"}},\"id\":\"1194\",\"type\":\"GlyphRenderer\"},{\"attributes\":{\"label\":{\"value\":\"true\"},\"renderers\":[{\"id\":\"1308\",\"type\":\"GlyphRenderer\"}]},\"id\":\"1310\",\"type\":\"LegendItem\"},{\"attributes\":{\"toolbar\":{\"id\":\"1358\",\"type\":\"ProxyToolbar\"},\"toolbar_location\":\"above\"},\"id\":\"1359\",\"type\":\"ToolbarBox\"},{\"attributes\":{\"bottom_units\":\"screen\",\"fill_alpha\":{\"value\":0.5},\"fill_color\":{\"value\":\"lightgrey\"},\"left_units\":\"screen\",\"level\":\"overlay\",\"line_alpha\":{\"value\":1.0},\"line_color\":{\"value\":\"black\"},\"line_dash\":[4,4],\"line_width\":{\"value\":2},\"render_mode\":\"css\",\"right_units\":\"screen\",\"top_units\":\"screen\"},\"id\":\"1331\",\"type\":\"BoxAnnotation\"},{\"attributes\":{\"callback\":null},\"id\":\"1102\",\"type\":\"DataRange1d\"},{\"attributes\":{\"color_mapper\":null,\"formatter\":{\"id\":\"1350\",\"type\":\"BasicTickFormatter\"},\"ticker\":{\"id\":\"1349\",\"type\":\"BasicTicker\"},\"visible\":false},\"id\":\"1312\",\"type\":\"ColorBar\"},{\"attributes\":{\"color_mapper\":null,\"formatter\":{\"id\":\"1317\",\"type\":\"BasicTickFormatter\"},\"ticker\":{\"id\":\"1316\",\"type\":\"BasicTicker\"},\"visible\":false},\"id\":\"1150\",\"type\":\"ColorBar\"},{\"attributes\":{\"data_source\":{\"id\":\"1241\",\"type\":\"ColumnDataSource\"},\"glyph\":{\"id\":\"1252\",\"type\":\"Circle\"},\"hover_glyph\":null,\"muted_glyph\":null,\"nonselection_glyph\":{\"id\":\"1253\",\"type\":\"Circle\"},\"selection_glyph\":null,\"view\":{\"id\":\"1250\",\"type\":\"CDSView\"}},\"id\":\"1254\",\"type\":\"GlyphRenderer\"},{\"attributes\":{\"callback\":null,\"data\":{\"index\":[0,1,2,3,4,5,6,7,8,9,10,11,12,13,14,15,16,17,18,19,20,21,22,23,24,25,26,27,28,29,30,31,32,33,34,35,36,37,38,39,40,41,42,43,44,45,46,47,48,49,50,51,52,53,54,55,56,57,58,59,60,61,62,63,64,65,66,67,68,69,70,71,72,73,74,75,76,77,78,79,80,81,82,83,84,85,86,87,88,89,90,91,92,93,94,95,96,97,98,99,100,101,102,103,104,105,106,107,108,109,110,111,112,113,114,115,116,117,118,119,120,121,122,123,124,125,126,127,128,129,130,131,132,133,134,135,136,137,138,139,140,141,142,143,144,145,146,147,148,149,150,151,152,153,154,155,156,157,158,159,160,161,162,163,164,165,166,167,168,169,170,171,172,173,174,175,176,177,178,179,180,181,182,183,184,185,186,187,188,189,190,191,192,193,194,195,196,197,198,199,200,201,202,203,204,205,206,207,208,209,210,211,212,213,214,215,216,217,218,219,220,221,222,223,224,225,226,227,228,229,230,231,232,233,234,235,236,237,238,239,240,241,242,243,244,245,246,247,248,249,250,251,252,253,254,255,256,257,258,259,260,261,262,263,264,265,266,267,268,269,270,271,272,273,274,275,276,277,278,279,280,281,282,283,284,285,286,287,288,289,290,291,292,293,294,295,296,297,298,299,300,301,302,303,304,305,306,307,308,309,310,311,312,313,314,315,316,317,318,319,320,321,322,323,324,325,326,327,328,329,330,331,332,333,334,335,336,337,338,339,340,341,342,343,344,345,346,347,348,349,350,351,352,353,354,355,356,357,358,359,360,361,362,363,364,365,366,367,368,369,370,371,372,373,374,375,376,377,378,379,380,381,382,383,384,385,386,387,388,389,390,391,392,393,394,395,396,397,398,399,400,401,402,403,404,405,406,407,408,409,410,411,412,413,414,415,416,417,418],\"label\":[\"false\",\"false\",\"false\",\"false\",\"false\",\"false\",\"false\",\"false\",\"false\",\"false\",\"false\",\"false\",\"false\",\"false\",\"false\",\"false\",\"false\",\"false\",\"false\",\"false\",\"false\",\"false\",\"false\",\"true\",\"false\",\"false\",\"false\",\"false\",\"false\",\"false\",\"false\",\"false\",\"false\",\"false\",\"false\",\"false\",\"false\",\"false\",\"false\",\"false\",\"false\",\"false\",\"false\",\"false\",\"false\",\"false\",\"false\",\"false\",\"false\",\"false\",\"false\",\"false\",\"false\",\"false\",\"false\",\"false\",\"false\",\"false\",\"false\",\"false\",\"false\",\"true\",\"false\",\"false\",\"false\",\"false\",\"false\",\"false\",\"false\",\"false\",\"false\",\"false\",\"false\",\"false\",\"false\",\"false\",\"false\",\"false\",\"false\",\"false\",\"false\",\"false\",\"false\",\"false\",\"false\",\"false\",\"false\",\"false\",\"false\",\"false\",\"false\",\"false\",\"false\",\"false\",\"false\",\"false\",\"false\",\"false\",\"false\",\"false\",\"false\",\"false\",\"false\",\"false\",\"false\",\"false\",\"false\",\"false\",\"false\",\"false\",\"false\",\"false\",\"false\",\"false\",\"false\",\"false\",\"false\",\"false\",\"false\",\"false\",\"false\",\"false\",\"false\",\"false\",\"false\",\"false\",\"false\",\"false\",\"false\",\"false\",\"false\",\"false\",\"false\",\"false\",\"false\",\"false\",\"false\",\"false\",\"false\",\"false\",\"false\",\"false\",\"false\",\"false\",\"false\",\"false\",\"false\",\"false\",\"false\",\"false\",\"false\",\"false\",\"false\",\"false\",\"false\",\"false\",\"false\",\"false\",\"true\",\"false\",\"false\",\"true\",\"false\",\"false\",\"false\",\"false\",\"false\",\"false\",\"true\",\"false\",\"false\",\"false\",\"false\",\"false\",\"false\",\"false\",\"false\",\"false\",\"false\",\"false\",\"false\",\"false\",\"false\",\"false\",\"false\",\"false\",\"false\",\"false\",\"false\",\"false\",\"false\",\"false\",\"false\",\"false\",\"false\",\"false\",\"false\",\"false\",\"false\",\"false\",\"false\",\"false\",\"false\",\"false\",\"false\",\"false\",\"false\",\"false\",\"false\",\"false\",\"false\",\"false\",\"false\",\"false\",\"false\",\"false\",\"false\",\"false\",\"false\",\"false\",\"false\",\"false\",\"false\",\"false\",\"false\",\"false\",\"false\",\"false\",\"false\",\"false\",\"false\",\"false\",\"false\",\"false\",\"false\",\"false\",\"false\",\"false\",\"false\",\"false\",\"false\",\"false\",\"false\",\"false\",\"false\",\"false\",\"false\",\"false\",\"false\",\"false\",\"false\",\"false\",\"false\",\"false\",\"false\",\"false\",\"false\",\"false\",\"false\",\"false\",\"false\",\"false\",\"false\",\"false\",\"false\",\"false\",\"false\",\"false\",\"false\",\"false\",\"false\",\"false\",\"false\",\"false\",\"false\",\"false\",\"false\",\"false\",\"false\",\"false\",\"false\",\"false\",\"false\",\"false\",\"false\",\"false\",\"false\",\"false\",\"false\",\"false\",\"false\",\"false\",\"false\",\"false\",\"false\",\"false\",\"false\",\"false\",\"false\",\"false\",\"false\",\"false\",\"false\",\"false\",\"false\",\"false\",\"false\",\"false\",\"false\",\"false\",\"false\",\"false\",\"false\",\"false\",\"false\",\"false\",\"false\",\"false\",\"false\",\"false\",\"false\",\"false\",\"false\",\"false\",\"false\",\"false\",\"false\",\"false\",\"false\",\"false\",\"false\",\"false\",\"false\",\"false\",\"false\",\"false\",\"false\",\"false\",\"false\",\"false\",\"false\",\"false\",\"false\",\"false\",\"false\",\"false\",\"false\",\"false\",\"true\",\"false\",\"false\",\"false\",\"true\",\"false\",\"false\",\"false\",\"false\",\"false\",\"false\",\"false\",\"false\",\"false\",\"false\",\"false\",\"false\",\"false\",\"false\",\"false\",\"false\",\"false\",\"false\",\"false\",\"false\",\"false\",\"false\",\"false\",\"false\",\"false\",\"false\",\"false\",\"false\",\"false\",\"false\",\"false\",\"false\",\"false\",\"false\",\"false\",\"false\",\"false\",\"false\",\"false\",\"false\",\"false\",\"false\",\"false\",\"false\",\"false\",\"false\",\"false\",\"false\",\"false\",\"false\",\"false\",\"false\",\"false\",\"false\",\"false\",\"false\",\"false\",\"false\",\"false\",\"false\",\"false\",\"false\",\"false\",\"false\",\"false\",\"false\"],\"x\":{\"__ndarray__\":\"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\",\"dtype\":\"float64\",\"shape\":[419]},\"y\":{\"__ndarray__\":\"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\",\"dtype\":\"float64\",\"shape\":[419]}},\"selected\":{\"id\":\"1332\",\"type\":\"Selection\"},\"selection_policy\":{\"id\":\"1333\",\"type\":\"UnionRenderers\"}},\"id\":\"1187\",\"type\":\"ColumnDataSource\"},{\"attributes\":{},\"id\":\"1337\",\"type\":\"BasicTickFormatter\"},{\"attributes\":{},\"id\":\"1118\",\"type\":\"PanTool\"},{\"attributes\":{\"callback\":null},\"id\":\"1264\",\"type\":\"DataRange1d\"},{\"attributes\":{\"bottom_units\":\"screen\",\"fill_alpha\":{\"value\":0.5},\"fill_color\":{\"value\":\"lightgrey\"},\"left_units\":\"screen\",\"level\":\"overlay\",\"line_alpha\":{\"value\":1.0},\"line_color\":{\"value\":\"black\"},\"line_dash\":[4,4],\"line_width\":{\"value\":2},\"render_mode\":\"css\",\"right_units\":\"screen\",\"top_units\":\"screen\"},\"id\":\"1320\",\"type\":\"BoxAnnotation\"},{\"attributes\":{\"overlay\":{\"id\":\"1320\",\"type\":\"BoxAnnotation\"}},\"id\":\"1120\",\"type\":\"BoxZoomTool\"},{\"attributes\":{},\"id\":\"1319\",\"type\":\"BasicTickFormatter\"},{\"attributes\":{},\"id\":\"1285\",\"type\":\"HelpTool\"},{\"attributes\":{\"fill_alpha\":{\"value\":0.1},\"fill_color\":{\"value\":\"#1f77b4\"},\"line_alpha\":{\"value\":0.1},\"line_color\":{\"value\":\"#1f77b4\"},\"x\":{\"field\":\"x\"},\"y\":{\"field\":\"y\"}},\"id\":\"1199\",\"type\":\"Circle\"},{\"attributes\":{\"column_name\":\"label\",\"group\":\"true\"},\"id\":\"1141\",\"type\":\"GroupFilter\"},{\"attributes\":{},\"id\":\"1123\",\"type\":\"HelpTool\"},{\"attributes\":{\"filters\":[{\"id\":\"1189\",\"type\":\"GroupFilter\"}],\"source\":{\"id\":\"1187\",\"type\":\"ColumnDataSource\"}},\"id\":\"1190\",\"type\":\"CDSView\"},{\"attributes\":{},\"id\":\"1321\",\"type\":\"Selection\"},{\"attributes\":{},\"id\":\"1177\",\"type\":\"HelpTool\"},{\"attributes\":{\"tools\":[{\"id\":\"1118\",\"type\":\"PanTool\"},{\"id\":\"1119\",\"type\":\"WheelZoomTool\"},{\"id\":\"1120\",\"type\":\"BoxZoomTool\"},{\"id\":\"1121\",\"type\":\"SaveTool\"},{\"id\":\"1122\",\"type\":\"ResetTool\"},{\"id\":\"1123\",\"type\":\"HelpTool\"},{\"id\":\"1132\",\"type\":\"HoverTool\"},{\"id\":\"1172\",\"type\":\"PanTool\"},{\"id\":\"1173\",\"type\":\"WheelZoomTool\"},{\"id\":\"1174\",\"type\":\"BoxZoomTool\"},{\"id\":\"1175\",\"type\":\"SaveTool\"},{\"id\":\"1176\",\"type\":\"ResetTool\"},{\"id\":\"1177\",\"type\":\"HelpTool\"},{\"id\":\"1186\",\"type\":\"HoverTool\"},{\"id\":\"1226\",\"type\":\"PanTool\"},{\"id\":\"1227\",\"type\":\"WheelZoomTool\"},{\"id\":\"1228\",\"type\":\"BoxZoomTool\"},{\"id\":\"1229\",\"type\":\"SaveTool\"},{\"id\":\"1230\",\"type\":\"ResetTool\"},{\"id\":\"1231\",\"type\":\"HelpTool\"},{\"id\":\"1240\",\"type\":\"HoverTool\"},{\"id\":\"1280\",\"type\":\"PanTool\"},{\"id\":\"1281\",\"type\":\"WheelZoomTool\"},{\"id\":\"1282\",\"type\":\"BoxZoomTool\"},{\"id\":\"1283\",\"type\":\"SaveTool\"},{\"id\":\"1284\",\"type\":\"ResetTool\"},{\"id\":\"1285\",\"type\":\"HelpTool\"},{\"id\":\"1294\",\"type\":\"HoverTool\"}]},\"id\":\"1358\",\"type\":\"ProxyToolbar\"},{\"attributes\":{},\"id\":\"1231\",\"type\":\"HelpTool\"},{\"attributes\":{\"click_policy\":\"hide\",\"items\":[{\"id\":\"1255\",\"type\":\"LegendItem\"},{\"id\":\"1256\",\"type\":\"LegendItem\"}]},\"id\":\"1257\",\"type\":\"Legend\"},{\"attributes\":{},\"id\":\"1341\",\"type\":\"BasicTickFormatter\"},{\"attributes\":{},\"id\":\"1349\",\"type\":\"BasicTicker\"},{\"attributes\":{\"active_drag\":\"auto\",\"active_inspect\":\"auto\",\"active_multi\":null,\"active_scroll\":\"auto\",\"active_tap\":\"auto\",\"tools\":[{\"id\":\"1226\",\"type\":\"PanTool\"},{\"id\":\"1227\",\"type\":\"WheelZoomTool\"},{\"id\":\"1228\",\"type\":\"BoxZoomTool\"},{\"id\":\"1229\",\"type\":\"SaveTool\"},{\"id\":\"1230\",\"type\":\"ResetTool\"},{\"id\":\"1231\",\"type\":\"HelpTool\"},{\"id\":\"1240\",\"type\":\"HoverTool\"}]},\"id\":\"1232\",\"type\":\"Toolbar\"},{\"attributes\":{\"bottom_units\":\"screen\",\"fill_alpha\":{\"value\":0.5},\"fill_color\":{\"value\":\"lightgrey\"},\"left_units\":\"screen\",\"level\":\"overlay\",\"line_alpha\":{\"value\":1.0},\"line_color\":{\"value\":\"black\"},\"line_dash\":[4,4],\"line_width\":{\"value\":2},\"render_mode\":\"css\",\"right_units\":\"screen\",\"top_units\":\"screen\"},\"id\":\"1342\",\"type\":\"BoxAnnotation\"},{\"attributes\":{\"callback\":null,\"data\":{\"index\":[0,1,2,3,4,5,6,7,8,9,10,11,12,13,14,15,16,17,18,19,20,21,22,23,24,25,26,27,28,29,30,31,32,33,34,35,36,37,38,39,40,41,42,43,44,45,46,47,48,49,50,51,52,53,54,55,56,57,58,59,60,61,62,63,64,65,66,67,68,69,70,71,72,73,74,75,76,77,78,79,80,81,82,83,84,85,86,87,88,89,90,91,92,93,94,95,96,97,98,99,100,101,102,103,104,105,106,107,108,109,110,111,112,113,114,115,116,117,118,119,120,121,122,123,124,125,126,127,128,129,130,131,132,133,134,135,136,137,138,139,140,141,142,143,144,145,146,147,148,149,150,151,152,153,154,155,156,157,158,159,160,161,162,163,164,165,166,167,168,169,170,171,172,173,174,175,176,177,178,179,180,181,182,183,184,185,186,187,188,189,190,191,192,193,194,195,196,197,198,199,200,201,202,203,204,205,206,207,208,209,210,211,212,213,214,215,216,217,218,219,220,221,222,223,224,225,226,227,228,229,230,231,232,233,234,235,236,237,238,239,240,241,242,243,244,245,246,247,248,249,250,251,252,253,254,255,256,257,258,259,260,261,262,263,264,265,266,267,268,269,270,271,272,273,274,275,276,277,278,279,280,281,282,283,284,285,286,287,288,289,290,291,292,293,294,295,296,297,298,299,300,301,302,303,304,305,306,307,308,309,310,311,312,313,314,315,316,317,318,319,320,321,322,323,324,325,326,327,328,329,330,331,332,333,334,335,336,337,338,339,340,341,342,343,344,345,346,347,348,349,350,351,352,353,354,355,356,357,358,359,360,361,362,363,364,365,366,367,368,369,370,371,372,373,374,375,376,377,378,379,380,381,382,383,384,385,386,387,388,389,390,391,392,393,394,395,396,397,398,399,400,401,402,403,404,405,406,407,408,409,410,411,412,413,414,415,416,417,418,419,420,421,422,423,424,425,426,427,428,429,430,431,432,433,434,435,436,437,438,439,440,441,442,443,444,445,446,447,448,449],\"label\":[\"false\",\"false\",\"false\",\"false\",\"false\",\"false\",\"false\",\"false\",\"false\",\"false\",\"false\",\"false\",\"false\",\"false\",\"false\",\"false\",\"false\",\"false\",\"false\",\"false\",\"false\",\"false\",\"true\",\"false\",\"false\",\"false\",\"false\",\"false\",\"false\",\"false\",\"false\",\"false\",\"false\",\"false\",\"false\",\"false\",\"false\",\"false\",\"false\",\"false\",\"false\",\"false\",\"false\",\"false\",\"false\",\"false\",\"false\",\"false\",\"false\",\"false\",\"false\",\"false\",\"false\",\"false\",\"false\",\"false\",\"false\",\"false\",\"false\",\"false\",\"false\",\"false\",\"false\",\"false\",\"false\",\"false\",\"true\",\"false\",\"false\",\"false\",\"false\",\"false\",\"false\",\"false\",\"false\",\"false\",\"false\",\"false\",\"false\",\"false\",\"false\",\"false\",\"false\",\"false\",\"false\",\"false\",\"false\",\"false\",\"false\",\"false\",\"false\",\"false\",\"false\",\"false\",\"false\",\"false\",\"false\",\"false\",\"false\",\"false\",\"false\",\"false\",\"false\",\"false\",\"false\",\"false\",\"false\",\"false\",\"false\",\"false\",\"false\",\"false\",\"false\",\"false\",\"false\",\"false\",\"false\",\"false\",\"false\",\"false\",\"false\",\"false\",\"false\",\"false\",\"false\",\"false\",\"false\",\"false\",\"false\",\"false\",\"false\",\"false\",\"false\",\"false\",\"false\",\"false\",\"false\",\"false\",\"false\",\"false\",\"false\",\"false\",\"false\",\"false\",\"false\",\"false\",\"false\",\"false\",\"false\",\"false\",\"false\",\"false\",\"false\",\"false\",\"false\",\"false\",\"false\",\"false\",\"false\",\"false\",\"false\",\"false\",\"false\",\"false\",\"false\",\"false\",\"false\",\"false\",\"false\",\"false\",\"false\",\"false\",\"false\",\"true\",\"false\",\"false\",\"false\",\"false\",\"false\",\"false\",\"true\",\"false\",\"false\",\"false\",\"false\",\"false\",\"false\",\"false\",\"false\",\"false\",\"true\",\"false\",\"false\",\"false\",\"false\",\"false\",\"false\",\"false\",\"false\",\"false\",\"false\",\"false\",\"false\",\"false\",\"false\",\"false\",\"false\",\"false\",\"false\",\"false\",\"false\",\"false\",\"false\",\"false\",\"false\",\"false\",\"false\",\"false\",\"false\",\"false\",\"false\",\"false\",\"false\",\"false\",\"false\",\"false\",\"false\",\"false\",\"false\",\"false\",\"false\",\"false\",\"false\",\"false\",\"false\",\"false\",\"false\",\"false\",\"false\",\"false\",\"false\",\"false\",\"false\",\"false\",\"false\",\"false\",\"false\",\"false\",\"false\",\"false\",\"false\",\"false\",\"false\",\"false\",\"false\",\"false\",\"false\",\"false\",\"false\",\"false\",\"false\",\"false\",\"false\",\"false\",\"false\",\"false\",\"false\",\"false\",\"false\",\"false\",\"false\",\"false\",\"false\",\"false\",\"false\",\"false\",\"false\",\"false\",\"false\",\"false\",\"false\",\"false\",\"false\",\"false\",\"false\",\"false\",\"false\",\"false\",\"false\",\"false\",\"false\",\"false\",\"false\",\"false\",\"false\",\"false\",\"false\",\"false\",\"false\",\"false\",\"false\",\"false\",\"false\",\"false\",\"false\",\"false\",\"false\",\"false\",\"false\",\"false\",\"false\",\"false\",\"false\",\"false\",\"false\",\"false\",\"false\",\"false\",\"false\",\"false\",\"false\",\"false\",\"false\",\"false\",\"false\",\"false\",\"false\",\"false\",\"false\",\"false\",\"false\",\"false\",\"false\",\"false\",\"false\",\"false\",\"false\",\"false\",\"false\",\"false\",\"false\",\"false\",\"false\",\"false\",\"false\",\"false\",\"false\",\"false\",\"false\",\"false\",\"false\",\"false\",\"false\",\"false\",\"false\",\"false\",\"false\",\"false\",\"false\",\"false\",\"false\",\"false\",\"false\",\"false\",\"false\",\"false\",\"false\",\"false\",\"false\",\"false\",\"false\",\"false\",\"false\",\"false\",\"false\",\"false\",\"false\",\"true\",\"false\",\"false\",\"true\",\"false\",\"false\",\"false\",\"false\",\"false\",\"false\",\"false\",\"false\",\"false\",\"false\",\"false\",\"false\",\"false\",\"false\",\"false\",\"false\",\"false\",\"false\",\"false\",\"false\",\"false\",\"false\",\"false\",\"false\",\"false\",\"false\",\"false\",\"false\",\"false\",\"false\",\"false\",\"false\",\"false\",\"false\",\"false\",\"false\",\"false\",\"false\",\"false\",\"false\",\"false\",\"false\",\"false\",\"false\",\"false\",\"false\",\"false\",\"false\",\"false\",\"false\",\"false\",\"false\",\"false\",\"false\",\"false\",\"false\",\"false\",\"false\",\"false\",\"false\",\"false\",\"false\",\"false\",\"false\",\"false\",\"false\",\"false\",\"false\",\"false\"],\"x\":{\"__ndarray__\":\"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\",\"dtype\":\"float64\",\"shape\":[450]},\"y\":{\"__ndarray__\":\"FBt1r4RM4T/H0VM2ozXRPzgpt3bDWOA/vQ090uty5D/FbGz6TOHiP8l4b2kew+M/8xNBBH6w4T/r+zom2+zkP95WpXQXSOc/nkBsQXYr5z809yQ5xujoP/0C3In6cuY/eJADmlUD5z84Kbd2w1jkP+FYvj22RuM/KDbqXgmZ5z+SF26haBTkP8E62rxPceU/GTZXFyKD4T+OTZ8pvGvkP/fYGimR5+U/Qjnsd9I36T+flnSEACvoPwmZkkLywug/SarWIvpt5z/XLOQTrrzoP9z2sotaZec/RvTb9rKL6D9GOwVBcTbnPznG6AMMA+g/sg/DU6Nb6j+In3XaCG7rPzw1uuWUOuk/auGDQl976T9VH/NfX6HpP5cMwTravOc/Tn6PQNn56T9qTjxbSbTqP1seMJ8DLeY/Oq84LqzJ6D/kX8xZ7rbpP00M4tRVT+k/8PCNv0yV6T8hDCn+nw3rP7RvtTxgPuo/vuyiVllW6D/0ZFT0bj7qP2PvDDPoRek/10iJPKdn6D9RXw6O5dvoP6odTEQsJuo/LyNsG+dc6z/p4nGH3LToP941C/mEK+k/vJGlwDXl6D8+SY4x+gDpP83LmyKuT+k/PWUzWvOr6T9hsLTFvX/qP/bvyv7wIOk/7XzHiirs6T+PYXN1ITLqP2LqF+BO1Oc/5KEAURPw6z8Eys53rKjpP+kDDANv0eo/D9oDebuH6z9Yk7mUgUrsPyn5qrp90eo/37GiCju56T/5XpzgeVjpP4H+EbuCxuk/pGBD/KzT6T/3+bSkIwTrP8r0BnvUUOk/l3l5U8T16D+Qa10bVBXqP2sylzJQCew/aKIr1TS16j9tsyOXnwjrP8/kZMGsh+s/LXxQ6GvP6T8WND5Og4TqPz+flnSEAOs/j62REnlO6z+8JO2nS6zpP+ShAFET8Oo/ZwAF9VKZ6D8qKSQv3ELrP4H5HGjpVOo/ehaFUT506z8kcRA69mHqPzPjUO1gIus/X3tG/sWc6z8Eys53rKjrP2SWKGZj0+s/bK4uRAaX6T8FYguyW+HpP5pVA043Zuo/WwKLdgqC6z/YUnPi2UrsPzttBDeHkOk/tVgFZwAF6j/2O+mbSD3qPzN7jScQW+o/5lIGKsFg6j8oGkU2EO7rP4mkai2i3+k/UMLcAJ0x6z9L6S6QJDTrP0h/UgE1buk/i1VwBlBQ7D/Zh+Gp0S3qPzCfAy2d6uo/fYBh4C066j+/idTjoQDrPxUExdkkE+s/3BxCWobz6z9k2FxdiAzpP1j7fFrSEes/KZHn9CwK7D+Z3mCPGkrsP4esOwo2xOw/EnRZfAm/6j8lpn4B7kTrP47l22NrpOs/8fp3ZX946j/9AtyJ+nLrP651bVBVJOo/QePjNEg46z+UCqhxO77rP75eUMLcAOo/aDB+abEK6z+HZRLAdxnsPyxofJwGCes/+aXFKjgD6j87uSLU3qzqP0ys7+uYbOs/aA/k7R7u6z9OPFtJtMDpP6cbM3uNJ+s/08/NtOtM6z+deLaSaIHrP+RfzFnutus/HuSAZtWA6z+1yrLSg6/rP3wlZEoKyes/xpfwGxLh6z+E2pu19TbsP/YVWs0cr+o/oibg4Rt/6z/wXUbYNs7rP5SY+gW4E+s/9vS/UYqS6z+7XDf5PQLrPw3LJIDvMus/sNBq5niV6z/XAWDy6LzrPzfvU1wyBOw/QBY5M6Ec7D8M4tRVT2zsP7gT9eXgWOw/Z9p1JicL6z9zcCzfHlvrP18OjuXbY+s/8Wwl0QIj7D/LA+ZzoKXrP0FsQXYrHOw/Jm40sPvu6j8vI2wb51zrP3+ZKn8scus/6qA9kLd76z9IDaWVscPrP1o61cf81+s/H4Gy8x0r7D8+lazOUR3tPw5Cxz4MT+s/PgdaOtXH6z8CFNRLZcbsPyzVNLXwQes/qZy/39wm7T8x1HH0lM3qP7DQauZ4les/j8k2O3L56z+xTAL4LiPsP9YdBRviZ+w/xlDH0VM26z8cOHDgwIHrP+zkilB7s+s/GymR5/Qs7D92R8GG+FnsP+xMThbMeuw/5niV+Ozu7D+gm2nXmZzrP6cWPij0tes/4G9uExaA7D8vapVlpQfrPwthSPH/bOs/kAOaVQNO7D8BMHl0XnHsP7oBOmMakes/EBRnk0zc6z+goF4qMw7sP36r5QHzOew/RvTb9rKL7D/BW3Q44o3rP73dw12NAew/le4CSUIT7D8eVi7SWCvsP+X8/eY2Yek/1S/Anagv7D8Y21mB/hHsP3NwLN8eW+s/1hgQyEj26z/qXgmZkkLsPycGceqqJ+0/tRHcHEJa7D/EEW9kKXDsP44x+gDDwOw/Y/QBhoG36z9ghTCk+H/sP9SSjhBghew/xKmrntio7D/Q0qk+5r/sP7WDiYjFBOw/MiWF5IVb7D8lzA3QGdPsP5fmMWyuLu0/0URXqmlq7T9BvVRmHKrsP0wenVccF+0/zm3CApBr6z9YAHKta4PsP1tEv20vu+w/YWmLe//U7D8uGYJ1tHnrP3VCzDNf6Os/v0eg7HzH7D/Ijx8/fvzsPxlc5uVNEe0/d6K+HBzL6z/v5qMZGrLsP2jDxVDH0ew/CuWw30nf7D8WX8JvSITrP+lKNU0tfOw/H4Gy8x0r7T9/mSp/LHLtP/TWAWDy6Os/pESe07Mo7D8A+wqtZo7sPx5ROX+/ues/AaIm4OEb7D8sIVNSSF7sP6+ETEkheew/hul6rsGL7D9e/67sDw/tP1Xdvmg6aO0/WQVnAAX16z+Sy08EEfjsP1iJz+5OZ+0/HgoQNQEP7T+TJk2aNGntP8VB6NiH4e0/frXPpyUd7D85EgehYx/sPzLZZkcuP+0/SYk8p2dR7D+zPzzIAc3sP0cDu+9+4Ow/AG24GOo47T+BjGRP/xvsP7NEMRubPuw/ZyGfcOW17D868Wwl0QLtP48VVdjJFe0/wDDwFh2O7D9uVUp3gSTtP/lZp43g5us/8f9suBjq7D9aP8oalknsP+pZFEb50Ow/6P4WsNVf7T9lf3iQA5rtP7XFvX/qPe4/jO2sQP+I6z9N4V2zkE/tP6vlAfM50Ow/hXfNQj7h7D8GUFAvlRntPyNGjBgxYu0/X1DC3ACd7T8g0sXjDrnsP00M4tRVT+0/L2qVZaUH7D//pAJq3I7sP2572UWtsuw/EWV6gz1q7T93fC9O8DzsPxviZ502guw/eyBv93BX7T9CgBXCkOLtP8pcykAlGO0/x8dpkHBS7T/UvRIyJYXtPw72qKG0Muw/rUX02/ay7D8Jj6icv9/sP9NnCu+ahe0/W29Dj/S67D9wtTxgPgftPwb/PD+ki+w/9bpcN/k97T+wjjbvU1ztP9jvpG8i9es/zA3QGdOI7T/nXPDP80PsP9vn05KOEO0/WCEMKf6f7T+g54d08bjtP4LibJKJG+0/zWPYXF2I7T83YQHIta7tPwhpGc6TUew/GoxfWqyC7D+v5xq82M7sP9gQP+u0Ee0/diYnC2Y97T8GbPVXjsTtP9HhiDeyFO0//2LOcrdV7T+1Xfq5mXbsP+iHdPG4Q+0/DXoRkP6k7T/c1RgQyEjtP2SRMxPKYe0/OOKNLAWu7D9tsyOXnwjtPxH4wWpTMe0/AeRa1wZV7T+o3vPWAWDtPxprxd4ZZu0/i5ek/XSJ7T/r+zom2+zsP+5EfTk4lu0/Sw++XlDC7T8TxWxs+kztPxJTvwB3ouw/Qb1UZhyq7D8ChoG36HDtP6TziuPCmu0/cofctH6U7T89HgoQNQHuP+sc1aFtCe4/Sr6qbl807j/CsXx7bI3tP+hAS6f6mO0/ffIOTLHk7T9nmEEvAtLtP1i0UxAUZ+w/A+F+TQzi7T/tp0us7+vtPylrWCYBfO4//GWq/LHI7T+8jLBtnHPtP1/HZJsdue0/04OvF5Qw7T9G00F7IG/tP4TVpmJcxe0/dFSHtiWw7j8vAtKfVEDtP8VsbPpM4e0/plhyHxnv7T/0sHKRxlrtP5RyazeMhe0/mlr4oNDX7T/qxsxe4wnuPzE3QGdMI+4/voTfkAiP7T/vKNgQP+vtPysSdFl8Ce4/ZN1RsCF+7j/i2UqiBUbtP4Gy8x0rqu0//dxMu87k7T/KZrTmV/vtP7n3T73nre0/m9GaX+3z7D+lai2i37btP38B7kR9Oe0/INyviUGc7T/F/7PhYqjtP6cbM3uNJ+4/DhdDHUdP7j+aCeWw30nuP9XjoQBRE+4/rzgurMlc7j/noxkasu7tP/drYhCnru0/DqqKBF0W7j+LdgqC4mzuP8c5F/zz/O0/VdPUwgeF7T+0Av0jdgXuPx4wnwMtne0/O20EN4eQ7T91F0gSmujtP9k7wwx6Ee4/IG/3cFdj7j+fT0s6QoDuP3Ex1HH0lO4/F0MdR0/Z7j9EUrUW0W/uPx7D5upCZO0/noKgOJtk7j9G9Nv2sovuP8LcAJ0xje4/0jKcJ6Oi7T9RoUKFChXuP64kWmBklu4/6hLr+zom7j8orYwdJrXuP3KH3LR+lO4/dF5xXFiT7j9ekvbTJdbuP/tycCzfHu4/Um7thrEw7j8DI7NEMRvuP6o+5r++Qu4/RL9tL7uo7j9LMFja4t7uP8zGps8U3u0/MkYfYBh47j/N8Srx2d3uPz1lM1rzq+4/qP+NUpR87j8xqe3Sz83uPw3GLy1Wwe4/8F1G2DbO7j8AtOFiqOPuP20qxlW8JO8/oRz2O+mb7j8rpbtAktDuP3Qu+Of5Ie8/w5/B+KXF7j8tVsEZQEHuP1gmAXyXEe8/MpcyUAkG7z8iYjFBKg3vP64uRAaXee8/\",\"dtype\":\"float64\",\"shape\":[450]}},\"selected\":{\"id\":\"1343\",\"type\":\"Selection\"},\"selection_policy\":{\"id\":\"1344\",\"type\":\"UnionRenderers\"}},\"id\":\"1241\",\"type\":\"ColumnDataSource\"},{\"attributes\":{\"overlay\":{\"id\":\"1342\",\"type\":\"BoxAnnotation\"}},\"id\":\"1228\",\"type\":\"BoxZoomTool\"},{\"attributes\":{\"label\":{\"value\":\"false\"},\"renderers\":[{\"id\":\"1302\",\"type\":\"GlyphRenderer\"}]},\"id\":\"1309\",\"type\":\"LegendItem\"},{\"attributes\":{\"axis_label\":\"# heterozygotes\",\"formatter\":{\"id\":\"1315\",\"type\":\"BasicTickFormatter\"},\"ticker\":{\"id\":\"1114\",\"type\":\"BasicTicker\"}},\"id\":\"1113\",\"type\":\"LinearAxis\"},{\"attributes\":{},\"id\":\"1230\",\"type\":\"ResetTool\"},{\"attributes\":{\"callback\":null},\"id\":\"1262\",\"type\":\"DataRange1d\"},{\"attributes\":{},\"id\":\"1332\",\"type\":\"Selection\"},{\"attributes\":{},\"id\":\"1222\",\"type\":\"BasicTicker\"},{\"attributes\":{\"column_name\":\"label\",\"group\":\"true\"},\"id\":\"1303\",\"type\":\"GroupFilter\"},{\"attributes\":{},\"id\":\"1339\",\"type\":\"BasicTickFormatter\"},{\"attributes\":{\"fill_color\":{\"field\":\"label\",\"transform\":{\"id\":\"1296\",\"type\":\"CategoricalColorMapper\"}},\"line_color\":{\"field\":\"label\",\"transform\":{\"id\":\"1296\",\"type\":\"CategoricalColorMapper\"}},\"x\":{\"field\":\"x\"},\"y\":{\"field\":\"y\"}},\"id\":\"1300\",\"type\":\"Circle\"},{\"attributes\":{\"fill_alpha\":{\"value\":0.1},\"fill_color\":{\"value\":\"#1f77b4\"},\"line_alpha\":{\"value\":0.1},\"line_color\":{\"value\":\"#1f77b4\"},\"x\":{\"field\":\"x\"},\"y\":{\"field\":\"y\"}},\"id\":\"1301\",\"type\":\"Circle\"},{\"attributes\":{\"filters\":[{\"id\":\"1303\",\"type\":\"GroupFilter\"}],\"source\":{\"id\":\"1295\",\"type\":\"ColumnDataSource\"}},\"id\":\"1304\",\"type\":\"CDSView\"},{\"attributes\":{\"ticker\":{\"id\":\"1109\",\"type\":\"BasicTicker\"}},\"id\":\"1112\",\"type\":\"Grid\"},{\"attributes\":{},\"id\":\"1344\",\"type\":\"UnionRenderers\"},{\"attributes\":{},\"id\":\"1350\",\"type\":\"BasicTickFormatter\"},{\"attributes\":{\"dimension\":1,\"ticker\":{\"id\":\"1222\",\"type\":\"BasicTicker\"}},\"id\":\"1225\",\"type\":\"Grid\"},{\"attributes\":{\"filters\":[{\"id\":\"1297\",\"type\":\"GroupFilter\"}],\"source\":{\"id\":\"1295\",\"type\":\"ColumnDataSource\"}},\"id\":\"1298\",\"type\":\"CDSView\"},{\"attributes\":{},\"id\":\"1214\",\"type\":\"LinearScale\"},{\"attributes\":{},\"id\":\"1229\",\"type\":\"SaveTool\"},{\"attributes\":{\"callback\":null},\"id\":\"1208\",\"type\":\"DataRange1d\"},{\"attributes\":{},\"id\":\"1266\",\"type\":\"LinearScale\"},{\"attributes\":{\"axis_label\":\"DP mean\",\"formatter\":{\"id\":\"1341\",\"type\":\"BasicTickFormatter\"},\"ticker\":{\"id\":\"1217\",\"type\":\"BasicTicker\"}},\"id\":\"1216\",\"type\":\"LinearAxis\"},{\"attributes\":{\"fill_alpha\":{\"value\":0.1},\"fill_color\":{\"value\":\"#1f77b4\"},\"line_alpha\":{\"value\":0.1},\"line_color\":{\"value\":\"#1f77b4\"},\"x\":{\"field\":\"x\"},\"y\":{\"field\":\"y\"}},\"id\":\"1307\",\"type\":\"Circle\"},{\"attributes\":{\"filters\":[{\"id\":\"1243\",\"type\":\"GroupFilter\"}],\"source\":{\"id\":\"1241\",\"type\":\"ColumnDataSource\"}},\"id\":\"1244\",\"type\":\"CDSView\"},{\"attributes\":{},\"id\":\"1327\",\"type\":\"BasicTicker\"},{\"attributes\":{},\"id\":\"1217\",\"type\":\"BasicTicker\"},{\"attributes\":{},\"id\":\"1268\",\"type\":\"LinearScale\"},{\"attributes\":{},\"id\":\"1343\",\"type\":\"Selection\"},{\"attributes\":{\"below\":[{\"id\":\"1270\",\"type\":\"LinearAxis\"}],\"center\":[{\"id\":\"1274\",\"type\":\"Grid\"},{\"id\":\"1279\",\"type\":\"Grid\"}],\"left\":[{\"id\":\"1275\",\"type\":\"LinearAxis\"},{\"id\":\"1311\",\"type\":\"Legend\"},{\"id\":\"1312\",\"type\":\"ColorBar\"}],\"plot_height\":400,\"plot_width\":600,\"renderers\":[{\"id\":\"1302\",\"type\":\"GlyphRenderer\"},{\"id\":\"1308\",\"type\":\"GlyphRenderer\"}],\"title\":{\"id\":\"1260\",\"type\":\"Title\"},\"toolbar\":{\"id\":\"1286\",\"type\":\"Toolbar\"},\"toolbar_location\":null,\"x_range\":{\"id\":\"1262\",\"type\":\"DataRange1d\"},\"x_scale\":{\"id\":\"1266\",\"type\":\"LinearScale\"},\"y_range\":{\"id\":\"1264\",\"type\":\"DataRange1d\"},\"y_scale\":{\"id\":\"1268\",\"type\":\"LinearScale\"}},\"id\":\"1259\",\"subtype\":\"Figure\",\"type\":\"Plot\"},{\"attributes\":{},\"id\":\"1227\",\"type\":\"WheelZoomTool\"},{\"attributes\":{\"data_source\":{\"id\":\"1295\",\"type\":\"ColumnDataSource\"},\"glyph\":{\"id\":\"1300\",\"type\":\"Circle\"},\"hover_glyph\":null,\"muted_glyph\":null,\"nonselection_glyph\":{\"id\":\"1301\",\"type\":\"Circle\"},\"selection_glyph\":null,\"view\":{\"id\":\"1298\",\"type\":\"CDSView\"}},\"id\":\"1302\",\"type\":\"GlyphRenderer\"},{\"attributes\":{\"callback\":null,\"tooltips\":[[\"x\",\"@x\"],[\"y\",\"@y\"],[\"label\",\"@label\"]]},\"id\":\"1240\",\"type\":\"HoverTool\"},{\"attributes\":{\"callback\":null},\"id\":\"1210\",\"type\":\"DataRange1d\"},{\"attributes\":{\"column_name\":\"label\",\"group\":\"false\"},\"id\":\"1135\",\"type\":\"GroupFilter\"},{\"attributes\":{\"ticker\":{\"id\":\"1217\",\"type\":\"BasicTicker\"}},\"id\":\"1220\",\"type\":\"Grid\"},{\"attributes\":{\"axis_label\":\"Call rate\",\"formatter\":{\"id\":\"1337\",\"type\":\"BasicTickFormatter\"},\"ticker\":{\"id\":\"1222\",\"type\":\"BasicTicker\"}},\"id\":\"1221\",\"type\":\"LinearAxis\"},{\"attributes\":{\"fill_color\":{\"field\":\"label\",\"transform\":{\"id\":\"1296\",\"type\":\"CategoricalColorMapper\"}},\"line_color\":{\"field\":\"label\",\"transform\":{\"id\":\"1296\",\"type\":\"CategoricalColorMapper\"}},\"x\":{\"field\":\"x\"},\"y\":{\"field\":\"y\"}},\"id\":\"1306\",\"type\":\"Circle\"},{\"attributes\":{},\"id\":\"1226\",\"type\":\"PanTool\"},{\"attributes\":{},\"id\":\"1109\",\"type\":\"BasicTicker\"}],\"root_ids\":[\"1360\"]},\"title\":\"Bokeh Application\",\"version\":\"1.2.0\"}};\n",
       "  var render_items = [{\"docid\":\"04ddf8b5-061b-4c72-a28c-22d6164edca4\",\"roots\":{\"1360\":\"2f78bd51-da59-4e7e-9015-870c87cf76f8\"}}];\n",
       "  root.Bokeh.embed.embed_items_notebook(docs_json, render_items);\n",
       "\n",
       "  }\n",
       "  if (root.Bokeh !== undefined) {\n",
       "    embed_document(root);\n",
       "  } else {\n",
       "    var attempts = 0;\n",
       "    var timer = setInterval(function(root) {\n",
       "      if (root.Bokeh !== undefined) {\n",
       "        embed_document(root);\n",
       "        clearInterval(timer);\n",
       "      }\n",
       "      attempts++;\n",
       "      if (attempts > 100) {\n",
       "        console.log(\"Bokeh: ERROR: Unable to run BokehJS code because BokehJS library is missing\");\n",
       "        clearInterval(timer);\n",
       "      }\n",
       "    }, 10, root)\n",
       "  }\n",
       "})(window);"
      ],
      "application/vnd.bokehjs_exec.v0+json": ""
     },
     "metadata": {
      "application/vnd.bokehjs_exec.v0+json": {
       "id": "1360"
      }
     },
     "output_type": "display_data"
    }
   ],
   "source": [
    "show(gridplot(plot_list, ncols=2, plot_width=600, plot_height=400))"
   ]
  },
  {
   "cell_type": "markdown",
   "metadata": {},
   "source": [
    "There seems to be nothing abnormal with these samples with disconcordant imputed sex and self-reported gender. We will therefore trust that our computation is correct, and keep the samples."
   ]
  }
 ],
 "metadata": {
  "kernelspec": {
   "display_name": "Python [conda env:fargen-1-exome]",
   "language": "python",
   "name": "conda-env-fargen-1-exome-py"
  },
  "language_info": {
   "codemirror_mode": {
    "name": "ipython",
    "version": 3
   },
   "file_extension": ".py",
   "mimetype": "text/x-python",
   "name": "python",
   "nbconvert_exporter": "python",
   "pygments_lexer": "ipython3",
   "version": "3.7.10"
  }
 },
 "nbformat": 4,
 "nbformat_minor": 4
}
