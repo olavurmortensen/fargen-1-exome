{
 "cells": [
  {
   "cell_type": "markdown",
   "metadata": {},
   "source": [
    "# Sex check\n",
    "\n",
    "We will impute the sex of each sample, and compare this with the self-reported gender.\n",
    "\n",
    "Note the distinction between 'sex' and 'gender' used here: 'sex' refers to the genetic sex, where 'gender' is self-reported. We impute the sex by testing for the presence of a Y chromosome. The gender is obtained from a questionaire given to participants before a blood sample is drawn."
   ]
  },
  {
   "cell_type": "code",
   "execution_count": 2,
   "metadata": {},
   "outputs": [
    {
     "name": "stderr",
     "output_type": "stream",
     "text": [
      "Running on Apache Spark version 2.4.1\n",
      "SparkUI available at http://hms-beagle-848846b477-48ks9:4040\n",
      "Welcome to\n",
      "     __  __     <>__\n",
      "    / /_/ /__  __/ /\n",
      "   / __  / _ `/ / /\n",
      "  /_/ /_/\\_,_/_/_/   version 0.2.61-3c86d3ba497a\n",
      "LOGGING: writing to /home/olavur/experiments/2020-11-13_fargen1_exome_analysis/fargen-1-exome/notebooks/qc/hail-20210607-1119-0.2.61-3c86d3ba497a.log\n"
     ]
    }
   ],
   "source": [
    "import hail as hl\n",
    "hl.init(spark_conf={'spark.driver.memory': '10g'}, tmp_dir='/home/olavur/tmp')"
   ]
  },
  {
   "cell_type": "code",
   "execution_count": 3,
   "metadata": {},
   "outputs": [
    {
     "data": {
      "text/html": [
       "\n",
       "    <div class=\"bk-root\">\n",
       "        <a href=\"https://bokeh.pydata.org\" target=\"_blank\" class=\"bk-logo bk-logo-small bk-logo-notebook\"></a>\n",
       "        <span id=\"1001\">Loading BokehJS ...</span>\n",
       "    </div>"
      ]
     },
     "metadata": {},
     "output_type": "display_data"
    },
    {
     "data": {
      "application/javascript": [
       "\n",
       "(function(root) {\n",
       "  function now() {\n",
       "    return new Date();\n",
       "  }\n",
       "\n",
       "  var force = true;\n",
       "\n",
       "  if (typeof root._bokeh_onload_callbacks === \"undefined\" || force === true) {\n",
       "    root._bokeh_onload_callbacks = [];\n",
       "    root._bokeh_is_loading = undefined;\n",
       "  }\n",
       "\n",
       "  var JS_MIME_TYPE = 'application/javascript';\n",
       "  var HTML_MIME_TYPE = 'text/html';\n",
       "  var EXEC_MIME_TYPE = 'application/vnd.bokehjs_exec.v0+json';\n",
       "  var CLASS_NAME = 'output_bokeh rendered_html';\n",
       "\n",
       "  /**\n",
       "   * Render data to the DOM node\n",
       "   */\n",
       "  function render(props, node) {\n",
       "    var script = document.createElement(\"script\");\n",
       "    node.appendChild(script);\n",
       "  }\n",
       "\n",
       "  /**\n",
       "   * Handle when an output is cleared or removed\n",
       "   */\n",
       "  function handleClearOutput(event, handle) {\n",
       "    var cell = handle.cell;\n",
       "\n",
       "    var id = cell.output_area._bokeh_element_id;\n",
       "    var server_id = cell.output_area._bokeh_server_id;\n",
       "    // Clean up Bokeh references\n",
       "    if (id != null && id in Bokeh.index) {\n",
       "      Bokeh.index[id].model.document.clear();\n",
       "      delete Bokeh.index[id];\n",
       "    }\n",
       "\n",
       "    if (server_id !== undefined) {\n",
       "      // Clean up Bokeh references\n",
       "      var cmd = \"from bokeh.io.state import curstate; print(curstate().uuid_to_server['\" + server_id + \"'].get_sessions()[0].document.roots[0]._id)\";\n",
       "      cell.notebook.kernel.execute(cmd, {\n",
       "        iopub: {\n",
       "          output: function(msg) {\n",
       "            var id = msg.content.text.trim();\n",
       "            if (id in Bokeh.index) {\n",
       "              Bokeh.index[id].model.document.clear();\n",
       "              delete Bokeh.index[id];\n",
       "            }\n",
       "          }\n",
       "        }\n",
       "      });\n",
       "      // Destroy server and session\n",
       "      var cmd = \"import bokeh.io.notebook as ion; ion.destroy_server('\" + server_id + \"')\";\n",
       "      cell.notebook.kernel.execute(cmd);\n",
       "    }\n",
       "  }\n",
       "\n",
       "  /**\n",
       "   * Handle when a new output is added\n",
       "   */\n",
       "  function handleAddOutput(event, handle) {\n",
       "    var output_area = handle.output_area;\n",
       "    var output = handle.output;\n",
       "\n",
       "    // limit handleAddOutput to display_data with EXEC_MIME_TYPE content only\n",
       "    if ((output.output_type != \"display_data\") || (!output.data.hasOwnProperty(EXEC_MIME_TYPE))) {\n",
       "      return\n",
       "    }\n",
       "\n",
       "    var toinsert = output_area.element.find(\".\" + CLASS_NAME.split(' ')[0]);\n",
       "\n",
       "    if (output.metadata[EXEC_MIME_TYPE][\"id\"] !== undefined) {\n",
       "      toinsert[toinsert.length - 1].firstChild.textContent = output.data[JS_MIME_TYPE];\n",
       "      // store reference to embed id on output_area\n",
       "      output_area._bokeh_element_id = output.metadata[EXEC_MIME_TYPE][\"id\"];\n",
       "    }\n",
       "    if (output.metadata[EXEC_MIME_TYPE][\"server_id\"] !== undefined) {\n",
       "      var bk_div = document.createElement(\"div\");\n",
       "      bk_div.innerHTML = output.data[HTML_MIME_TYPE];\n",
       "      var script_attrs = bk_div.children[0].attributes;\n",
       "      for (var i = 0; i < script_attrs.length; i++) {\n",
       "        toinsert[toinsert.length - 1].firstChild.setAttribute(script_attrs[i].name, script_attrs[i].value);\n",
       "      }\n",
       "      // store reference to server id on output_area\n",
       "      output_area._bokeh_server_id = output.metadata[EXEC_MIME_TYPE][\"server_id\"];\n",
       "    }\n",
       "  }\n",
       "\n",
       "  function register_renderer(events, OutputArea) {\n",
       "\n",
       "    function append_mime(data, metadata, element) {\n",
       "      // create a DOM node to render to\n",
       "      var toinsert = this.create_output_subarea(\n",
       "        metadata,\n",
       "        CLASS_NAME,\n",
       "        EXEC_MIME_TYPE\n",
       "      );\n",
       "      this.keyboard_manager.register_events(toinsert);\n",
       "      // Render to node\n",
       "      var props = {data: data, metadata: metadata[EXEC_MIME_TYPE]};\n",
       "      render(props, toinsert[toinsert.length - 1]);\n",
       "      element.append(toinsert);\n",
       "      return toinsert\n",
       "    }\n",
       "\n",
       "    /* Handle when an output is cleared or removed */\n",
       "    events.on('clear_output.CodeCell', handleClearOutput);\n",
       "    events.on('delete.Cell', handleClearOutput);\n",
       "\n",
       "    /* Handle when a new output is added */\n",
       "    events.on('output_added.OutputArea', handleAddOutput);\n",
       "\n",
       "    /**\n",
       "     * Register the mime type and append_mime function with output_area\n",
       "     */\n",
       "    OutputArea.prototype.register_mime_type(EXEC_MIME_TYPE, append_mime, {\n",
       "      /* Is output safe? */\n",
       "      safe: true,\n",
       "      /* Index of renderer in `output_area.display_order` */\n",
       "      index: 0\n",
       "    });\n",
       "  }\n",
       "\n",
       "  // register the mime type if in Jupyter Notebook environment and previously unregistered\n",
       "  if (root.Jupyter !== undefined) {\n",
       "    var events = require('base/js/events');\n",
       "    var OutputArea = require('notebook/js/outputarea').OutputArea;\n",
       "\n",
       "    if (OutputArea.prototype.mime_types().indexOf(EXEC_MIME_TYPE) == -1) {\n",
       "      register_renderer(events, OutputArea);\n",
       "    }\n",
       "  }\n",
       "\n",
       "  \n",
       "  if (typeof (root._bokeh_timeout) === \"undefined\" || force === true) {\n",
       "    root._bokeh_timeout = Date.now() + 5000;\n",
       "    root._bokeh_failed_load = false;\n",
       "  }\n",
       "\n",
       "  var NB_LOAD_WARNING = {'data': {'text/html':\n",
       "     \"<div style='background-color: #fdd'>\\n\"+\n",
       "     \"<p>\\n\"+\n",
       "     \"BokehJS does not appear to have successfully loaded. If loading BokehJS from CDN, this \\n\"+\n",
       "     \"may be due to a slow or bad network connection. Possible fixes:\\n\"+\n",
       "     \"</p>\\n\"+\n",
       "     \"<ul>\\n\"+\n",
       "     \"<li>re-rerun `output_notebook()` to attempt to load from CDN again, or</li>\\n\"+\n",
       "     \"<li>use INLINE resources instead, as so:</li>\\n\"+\n",
       "     \"</ul>\\n\"+\n",
       "     \"<code>\\n\"+\n",
       "     \"from bokeh.resources import INLINE\\n\"+\n",
       "     \"output_notebook(resources=INLINE)\\n\"+\n",
       "     \"</code>\\n\"+\n",
       "     \"</div>\"}};\n",
       "\n",
       "  function display_loaded() {\n",
       "    var el = document.getElementById(\"1001\");\n",
       "    if (el != null) {\n",
       "      el.textContent = \"BokehJS is loading...\";\n",
       "    }\n",
       "    if (root.Bokeh !== undefined) {\n",
       "      if (el != null) {\n",
       "        el.textContent = \"BokehJS \" + root.Bokeh.version + \" successfully loaded.\";\n",
       "      }\n",
       "    } else if (Date.now() < root._bokeh_timeout) {\n",
       "      setTimeout(display_loaded, 100)\n",
       "    }\n",
       "  }\n",
       "\n",
       "\n",
       "  function run_callbacks() {\n",
       "    try {\n",
       "      root._bokeh_onload_callbacks.forEach(function(callback) {\n",
       "        if (callback != null)\n",
       "          callback();\n",
       "      });\n",
       "    } finally {\n",
       "      delete root._bokeh_onload_callbacks\n",
       "    }\n",
       "    console.debug(\"Bokeh: all callbacks have finished\");\n",
       "  }\n",
       "\n",
       "  function load_libs(css_urls, js_urls, callback) {\n",
       "    if (css_urls == null) css_urls = [];\n",
       "    if (js_urls == null) js_urls = [];\n",
       "\n",
       "    root._bokeh_onload_callbacks.push(callback);\n",
       "    if (root._bokeh_is_loading > 0) {\n",
       "      console.debug(\"Bokeh: BokehJS is being loaded, scheduling callback at\", now());\n",
       "      return null;\n",
       "    }\n",
       "    if (js_urls == null || js_urls.length === 0) {\n",
       "      run_callbacks();\n",
       "      return null;\n",
       "    }\n",
       "    console.debug(\"Bokeh: BokehJS not loaded, scheduling load and callback at\", now());\n",
       "    root._bokeh_is_loading = css_urls.length + js_urls.length;\n",
       "\n",
       "    function on_load() {\n",
       "      root._bokeh_is_loading--;\n",
       "      if (root._bokeh_is_loading === 0) {\n",
       "        console.debug(\"Bokeh: all BokehJS libraries/stylesheets loaded\");\n",
       "        run_callbacks()\n",
       "      }\n",
       "    }\n",
       "\n",
       "    function on_error() {\n",
       "      console.error(\"failed to load \" + url);\n",
       "    }\n",
       "\n",
       "    for (var i = 0; i < css_urls.length; i++) {\n",
       "      var url = css_urls[i];\n",
       "      const element = document.createElement(\"link\");\n",
       "      element.onload = on_load;\n",
       "      element.onerror = on_error;\n",
       "      element.rel = \"stylesheet\";\n",
       "      element.type = \"text/css\";\n",
       "      element.href = url;\n",
       "      console.debug(\"Bokeh: injecting link tag for BokehJS stylesheet: \", url);\n",
       "      document.body.appendChild(element);\n",
       "    }\n",
       "\n",
       "    for (var i = 0; i < js_urls.length; i++) {\n",
       "      var url = js_urls[i];\n",
       "      var element = document.createElement('script');\n",
       "      element.onload = on_load;\n",
       "      element.onerror = on_error;\n",
       "      element.async = false;\n",
       "      element.src = url;\n",
       "      console.debug(\"Bokeh: injecting script tag for BokehJS library: \", url);\n",
       "      document.head.appendChild(element);\n",
       "    }\n",
       "  };var element = document.getElementById(\"1001\");\n",
       "  if (element == null) {\n",
       "    console.error(\"Bokeh: ERROR: autoload.js configured with elementid '1001' but no matching script tag was found. \")\n",
       "    return false;\n",
       "  }\n",
       "\n",
       "  function inject_raw_css(css) {\n",
       "    const element = document.createElement(\"style\");\n",
       "    element.appendChild(document.createTextNode(css));\n",
       "    document.body.appendChild(element);\n",
       "  }\n",
       "\n",
       "  var js_urls = [\"https://cdn.pydata.org/bokeh/release/bokeh-1.2.0.min.js\", \"https://cdn.pydata.org/bokeh/release/bokeh-widgets-1.2.0.min.js\", \"https://cdn.pydata.org/bokeh/release/bokeh-tables-1.2.0.min.js\", \"https://cdn.pydata.org/bokeh/release/bokeh-gl-1.2.0.min.js\"];\n",
       "  var css_urls = [\"https://cdn.pydata.org/bokeh/release/bokeh-1.2.0.min.css\", \"https://cdn.pydata.org/bokeh/release/bokeh-widgets-1.2.0.min.css\", \"https://cdn.pydata.org/bokeh/release/bokeh-tables-1.2.0.min.css\"];\n",
       "\n",
       "  var inline_js = [\n",
       "    function(Bokeh) {\n",
       "      Bokeh.set_log_level(\"info\");\n",
       "    },\n",
       "    \n",
       "    function(Bokeh) {\n",
       "      \n",
       "    },\n",
       "    function(Bokeh) {} // ensure no trailing comma for IE\n",
       "  ];\n",
       "\n",
       "  function run_inline_js() {\n",
       "    \n",
       "    if ((root.Bokeh !== undefined) || (force === true)) {\n",
       "      for (var i = 0; i < inline_js.length; i++) {\n",
       "        inline_js[i].call(root, root.Bokeh);\n",
       "      }if (force === true) {\n",
       "        display_loaded();\n",
       "      }} else if (Date.now() < root._bokeh_timeout) {\n",
       "      setTimeout(run_inline_js, 100);\n",
       "    } else if (!root._bokeh_failed_load) {\n",
       "      console.log(\"Bokeh: BokehJS failed to load within specified timeout.\");\n",
       "      root._bokeh_failed_load = true;\n",
       "    } else if (force !== true) {\n",
       "      var cell = $(document.getElementById(\"1001\")).parents('.cell').data().cell;\n",
       "      cell.output_area.append_execute_result(NB_LOAD_WARNING)\n",
       "    }\n",
       "\n",
       "  }\n",
       "\n",
       "  if (root._bokeh_is_loading === 0) {\n",
       "    console.debug(\"Bokeh: BokehJS loaded, going straight to plotting\");\n",
       "    run_inline_js();\n",
       "  } else {\n",
       "    load_libs(css_urls, js_urls, function() {\n",
       "      console.debug(\"Bokeh: BokehJS plotting callback run at\", now());\n",
       "      run_inline_js();\n",
       "    });\n",
       "  }\n",
       "}(window));"
      ],
      "application/vnd.bokehjs_load.v0+json": "\n(function(root) {\n  function now() {\n    return new Date();\n  }\n\n  var force = true;\n\n  if (typeof root._bokeh_onload_callbacks === \"undefined\" || force === true) {\n    root._bokeh_onload_callbacks = [];\n    root._bokeh_is_loading = undefined;\n  }\n\n  \n\n  \n  if (typeof (root._bokeh_timeout) === \"undefined\" || force === true) {\n    root._bokeh_timeout = Date.now() + 5000;\n    root._bokeh_failed_load = false;\n  }\n\n  var NB_LOAD_WARNING = {'data': {'text/html':\n     \"<div style='background-color: #fdd'>\\n\"+\n     \"<p>\\n\"+\n     \"BokehJS does not appear to have successfully loaded. If loading BokehJS from CDN, this \\n\"+\n     \"may be due to a slow or bad network connection. Possible fixes:\\n\"+\n     \"</p>\\n\"+\n     \"<ul>\\n\"+\n     \"<li>re-rerun `output_notebook()` to attempt to load from CDN again, or</li>\\n\"+\n     \"<li>use INLINE resources instead, as so:</li>\\n\"+\n     \"</ul>\\n\"+\n     \"<code>\\n\"+\n     \"from bokeh.resources import INLINE\\n\"+\n     \"output_notebook(resources=INLINE)\\n\"+\n     \"</code>\\n\"+\n     \"</div>\"}};\n\n  function display_loaded() {\n    var el = document.getElementById(\"1001\");\n    if (el != null) {\n      el.textContent = \"BokehJS is loading...\";\n    }\n    if (root.Bokeh !== undefined) {\n      if (el != null) {\n        el.textContent = \"BokehJS \" + root.Bokeh.version + \" successfully loaded.\";\n      }\n    } else if (Date.now() < root._bokeh_timeout) {\n      setTimeout(display_loaded, 100)\n    }\n  }\n\n\n  function run_callbacks() {\n    try {\n      root._bokeh_onload_callbacks.forEach(function(callback) {\n        if (callback != null)\n          callback();\n      });\n    } finally {\n      delete root._bokeh_onload_callbacks\n    }\n    console.debug(\"Bokeh: all callbacks have finished\");\n  }\n\n  function load_libs(css_urls, js_urls, callback) {\n    if (css_urls == null) css_urls = [];\n    if (js_urls == null) js_urls = [];\n\n    root._bokeh_onload_callbacks.push(callback);\n    if (root._bokeh_is_loading > 0) {\n      console.debug(\"Bokeh: BokehJS is being loaded, scheduling callback at\", now());\n      return null;\n    }\n    if (js_urls == null || js_urls.length === 0) {\n      run_callbacks();\n      return null;\n    }\n    console.debug(\"Bokeh: BokehJS not loaded, scheduling load and callback at\", now());\n    root._bokeh_is_loading = css_urls.length + js_urls.length;\n\n    function on_load() {\n      root._bokeh_is_loading--;\n      if (root._bokeh_is_loading === 0) {\n        console.debug(\"Bokeh: all BokehJS libraries/stylesheets loaded\");\n        run_callbacks()\n      }\n    }\n\n    function on_error() {\n      console.error(\"failed to load \" + url);\n    }\n\n    for (var i = 0; i < css_urls.length; i++) {\n      var url = css_urls[i];\n      const element = document.createElement(\"link\");\n      element.onload = on_load;\n      element.onerror = on_error;\n      element.rel = \"stylesheet\";\n      element.type = \"text/css\";\n      element.href = url;\n      console.debug(\"Bokeh: injecting link tag for BokehJS stylesheet: \", url);\n      document.body.appendChild(element);\n    }\n\n    for (var i = 0; i < js_urls.length; i++) {\n      var url = js_urls[i];\n      var element = document.createElement('script');\n      element.onload = on_load;\n      element.onerror = on_error;\n      element.async = false;\n      element.src = url;\n      console.debug(\"Bokeh: injecting script tag for BokehJS library: \", url);\n      document.head.appendChild(element);\n    }\n  };var element = document.getElementById(\"1001\");\n  if (element == null) {\n    console.error(\"Bokeh: ERROR: autoload.js configured with elementid '1001' but no matching script tag was found. \")\n    return false;\n  }\n\n  function inject_raw_css(css) {\n    const element = document.createElement(\"style\");\n    element.appendChild(document.createTextNode(css));\n    document.body.appendChild(element);\n  }\n\n  var js_urls = [\"https://cdn.pydata.org/bokeh/release/bokeh-1.2.0.min.js\", \"https://cdn.pydata.org/bokeh/release/bokeh-widgets-1.2.0.min.js\", \"https://cdn.pydata.org/bokeh/release/bokeh-tables-1.2.0.min.js\", \"https://cdn.pydata.org/bokeh/release/bokeh-gl-1.2.0.min.js\"];\n  var css_urls = [\"https://cdn.pydata.org/bokeh/release/bokeh-1.2.0.min.css\", \"https://cdn.pydata.org/bokeh/release/bokeh-widgets-1.2.0.min.css\", \"https://cdn.pydata.org/bokeh/release/bokeh-tables-1.2.0.min.css\"];\n\n  var inline_js = [\n    function(Bokeh) {\n      Bokeh.set_log_level(\"info\");\n    },\n    \n    function(Bokeh) {\n      \n    },\n    function(Bokeh) {} // ensure no trailing comma for IE\n  ];\n\n  function run_inline_js() {\n    \n    if ((root.Bokeh !== undefined) || (force === true)) {\n      for (var i = 0; i < inline_js.length; i++) {\n        inline_js[i].call(root, root.Bokeh);\n      }if (force === true) {\n        display_loaded();\n      }} else if (Date.now() < root._bokeh_timeout) {\n      setTimeout(run_inline_js, 100);\n    } else if (!root._bokeh_failed_load) {\n      console.log(\"Bokeh: BokehJS failed to load within specified timeout.\");\n      root._bokeh_failed_load = true;\n    } else if (force !== true) {\n      var cell = $(document.getElementById(\"1001\")).parents('.cell').data().cell;\n      cell.output_area.append_execute_result(NB_LOAD_WARNING)\n    }\n\n  }\n\n  if (root._bokeh_is_loading === 0) {\n    console.debug(\"Bokeh: BokehJS loaded, going straight to plotting\");\n    run_inline_js();\n  } else {\n    load_libs(css_urls, js_urls, function() {\n      console.debug(\"Bokeh: BokehJS plotting callback run at\", now());\n      run_inline_js();\n    });\n  }\n}(window));"
     },
     "metadata": {},
     "output_type": "display_data"
    }
   ],
   "source": [
    "from bokeh.io import show, output_notebook\n",
    "from bokeh.layouts import gridplot\n",
    "from bokeh.models.scales import LogScale\n",
    "output_notebook()"
   ]
  },
  {
   "cell_type": "code",
   "execution_count": 4,
   "metadata": {},
   "outputs": [],
   "source": [
    "import pandas as pd"
   ]
  },
  {
   "cell_type": "code",
   "execution_count": 5,
   "metadata": {},
   "outputs": [],
   "source": [
    "BASE_DIR = '/home/olavur/experiments/2020-11-13_fargen1_exome_analysis'\n",
    "RESOURCES_DIR = '/non-fargen/resources'"
   ]
  },
  {
   "cell_type": "markdown",
   "metadata": {},
   "source": [
    "## Load FarGen exome data\n",
    "\n",
    "Load filtered, high-quality, variants."
   ]
  },
  {
   "cell_type": "code",
   "execution_count": 6,
   "metadata": {},
   "outputs": [],
   "source": [
    "mt = hl.read_matrix_table(BASE_DIR + '/data/mt/high_quality_variants.mt/')"
   ]
  },
  {
   "cell_type": "code",
   "execution_count": 7,
   "metadata": {},
   "outputs": [
    {
     "name": "stdout",
     "output_type": "stream",
     "text": [
      "Number of variants: 1146382\n",
      "Number of samples: 468\n"
     ]
    }
   ],
   "source": [
    "n_variants, n_samples = mt.count()\n",
    "print('Number of variants: ' + str(n_variants))\n",
    "print('Number of samples: ' + str(n_samples))"
   ]
  },
  {
   "cell_type": "markdown",
   "metadata": {},
   "source": [
    "## Impute sex\n",
    "\n",
    "We impute the sex of the samples by computing the inbreeding coefficient (F) on the X chromosome. This inbreeding coefficient is calculated as $F = \\frac{O - E}{N-E}$ where $O$ is the observed number of homozygotes, $E$ is the expected number of homozygotes, and $N$ is the number of non-missing genotype calls. The expected number of homozygotes is calculated as $E = 1 - 2 f (1 - f)$ where $f$ is the minor-allel frequency.\n",
    "\n",
    "NOTE: the sex imputation method requires diallelic sites."
   ]
  },
  {
   "cell_type": "code",
   "execution_count": 8,
   "metadata": {},
   "outputs": [],
   "source": [
    "mt = mt.filter_rows(hl.len(mt.alleles) == 2)"
   ]
  },
  {
   "cell_type": "code",
   "execution_count": 9,
   "metadata": {},
   "outputs": [
    {
     "name": "stderr",
     "output_type": "stream",
     "text": [
      "2021-06-07 11:30:20 Hail: WARN: cols(): Resulting column table is sorted by 'col_key'.\n",
      "    To preserve matrix table column order, first unkey columns with 'key_cols_by()'\n"
     ]
    }
   ],
   "source": [
    "imputed_sex_ht = hl.impute_sex(mt.GT)"
   ]
  },
  {
   "cell_type": "markdown",
   "metadata": {},
   "source": [
    "Below we've plotted the inbreeding coefficient, and there is a quite clear clustering of individuals."
   ]
  },
  {
   "cell_type": "code",
   "execution_count": 10,
   "metadata": {},
   "outputs": [
    {
     "data": {
      "text/html": [
       "\n",
       "\n",
       "\n",
       "\n",
       "\n",
       "\n",
       "  <div class=\"bk-root\" id=\"85a06a9e-781f-4900-bb42-7079eb4801ed\" data-root-id=\"1002\"></div>\n"
      ]
     },
     "metadata": {},
     "output_type": "display_data"
    },
    {
     "data": {
      "application/javascript": [
       "(function(root) {\n",
       "  function embed_document(root) {\n",
       "    \n",
       "  var docs_json = {\"48388a37-902c-4367-8b78-12f6d53a1079\":{\"roots\":{\"references\":[{\"attributes\":{\"background_fill_color\":{\"value\":\"#EEEEEE\"},\"below\":[{\"id\":\"1013\",\"type\":\"LinearAxis\"}],\"center\":[{\"id\":\"1017\",\"type\":\"Grid\"},{\"id\":\"1022\",\"type\":\"Grid\"}],\"left\":[{\"id\":\"1018\",\"type\":\"LinearAxis\"}],\"plot_height\":500,\"plot_width\":800,\"renderers\":[{\"id\":\"1039\",\"type\":\"GlyphRenderer\"}],\"title\":{\"id\":\"1003\",\"type\":\"Title\"},\"toolbar\":{\"id\":\"1029\",\"type\":\"Toolbar\"},\"x_range\":{\"id\":\"1005\",\"type\":\"Range1d\"},\"x_scale\":{\"id\":\"1009\",\"type\":\"LinearScale\"},\"y_range\":{\"id\":\"1007\",\"type\":\"DataRange1d\"},\"y_scale\":{\"id\":\"1011\",\"type\":\"LinearScale\"}},\"id\":\"1002\",\"subtype\":\"Figure\",\"type\":\"Plot\"},{\"attributes\":{},\"id\":\"1023\",\"type\":\"PanTool\"},{\"attributes\":{},\"id\":\"1026\",\"type\":\"SaveTool\"},{\"attributes\":{\"formatter\":{\"id\":\"1043\",\"type\":\"BasicTickFormatter\"},\"ticker\":{\"id\":\"1014\",\"type\":\"BasicTicker\"}},\"id\":\"1013\",\"type\":\"LinearAxis\"},{\"attributes\":{\"overlay\":{\"id\":\"1048\",\"type\":\"BoxAnnotation\"}},\"id\":\"1025\",\"type\":\"BoxZoomTool\"},{\"attributes\":{},\"id\":\"1024\",\"type\":\"WheelZoomTool\"},{\"attributes\":{},\"id\":\"1043\",\"type\":\"BasicTickFormatter\"},{\"attributes\":{},\"id\":\"1028\",\"type\":\"HelpTool\"},{\"attributes\":{},\"id\":\"1019\",\"type\":\"BasicTicker\"},{\"attributes\":{},\"id\":\"1045\",\"type\":\"BasicTickFormatter\"},{\"attributes\":{\"callback\":null},\"id\":\"1007\",\"type\":\"DataRange1d\"},{\"attributes\":{\"bottom_units\":\"screen\",\"fill_alpha\":{\"value\":0.5},\"fill_color\":{\"value\":\"lightgrey\"},\"left_units\":\"screen\",\"level\":\"overlay\",\"line_alpha\":{\"value\":1.0},\"line_color\":{\"value\":\"black\"},\"line_dash\":[4,4],\"line_width\":{\"value\":2},\"render_mode\":\"css\",\"right_units\":\"screen\",\"top_units\":\"screen\"},\"id\":\"1048\",\"type\":\"BoxAnnotation\"},{\"attributes\":{\"active_drag\":\"auto\",\"active_inspect\":\"auto\",\"active_multi\":null,\"active_scroll\":\"auto\",\"active_tap\":\"auto\",\"tools\":[{\"id\":\"1023\",\"type\":\"PanTool\"},{\"id\":\"1024\",\"type\":\"WheelZoomTool\"},{\"id\":\"1025\",\"type\":\"BoxZoomTool\"},{\"id\":\"1026\",\"type\":\"SaveTool\"},{\"id\":\"1027\",\"type\":\"ResetTool\"},{\"id\":\"1028\",\"type\":\"HelpTool\"}]},\"id\":\"1029\",\"type\":\"Toolbar\"},{\"attributes\":{},\"id\":\"1014\",\"type\":\"BasicTicker\"},{\"attributes\":{\"ticker\":{\"id\":\"1014\",\"type\":\"BasicTicker\"}},\"id\":\"1017\",\"type\":\"Grid\"},{\"attributes\":{\"dimension\":1,\"ticker\":{\"id\":\"1019\",\"type\":\"BasicTicker\"}},\"id\":\"1022\",\"type\":\"Grid\"},{\"attributes\":{},\"id\":\"1009\",\"type\":\"LinearScale\"},{\"attributes\":{\"callback\":null,\"end\":0.9341704293042064,\"start\":-0.39407726035625534},\"id\":\"1005\",\"type\":\"Range1d\"},{\"attributes\":{\"callback\":null,\"data\":{\"left\":[-0.3337023653716889,-0.3095524073778623,-0.28540244938403575,-0.2612524913902092,-0.2371025333963826,-0.21295257540255602,-0.18880261740872945,-0.16465265941490287,-0.1405027014210763,-0.11635274342724972,-0.09220278543342314,-0.06805282743959656,-0.04390286944576999,-0.01975291145194341,0.004397046541883165,0.02854700453570974,0.05269696252953632,0.0768469205233629,0.10099687851718947,0.12514683651101605,0.14929679450484262,0.1734467524986692,0.19759671049249578,0.22174666848632235,0.24589662648014893,0.2700465844739755,0.2941965424678021,0.31834650046162866,0.34249645845545523,0.3666464164492818,0.3907963744431084,0.41494633243693496,0.43909629043076154,0.4632462484245881,0.4873962064184147,0.5115461644122412,0.5356961224060679,0.5598460803998944,0.583996038393721,0.6081459963875475,0.6322959543813742,0.6564459123752007,0.6805958703690274,0.704745828362854,0.7288957863566805,0.753045744350507,0.7771957023443337,0.8013456603381603,0.8254956183319868,0.8496455763258133],\"right\":[-0.3095524073778623,-0.28540244938403575,-0.2612524913902092,-0.2371025333963826,-0.21295257540255602,-0.18880261740872945,-0.16465265941490287,-0.1405027014210763,-0.11635274342724972,-0.09220278543342314,-0.06805282743959656,-0.04390286944576999,-0.01975291145194341,0.004397046541883165,0.02854700453570974,0.05269696252953632,0.0768469205233629,0.10099687851718947,0.12514683651101605,0.14929679450484262,0.1734467524986692,0.19759671049249578,0.22174666848632235,0.24589662648014893,0.2700465844739755,0.2941965424678021,0.31834650046162866,0.34249645845545523,0.3666464164492818,0.3907963744431084,0.41494633243693496,0.43909629043076154,0.4632462484245881,0.4873962064184147,0.5115461644122412,0.5356961224060679,0.5598460803998944,0.583996038393721,0.6081459963875475,0.6322959543813742,0.6564459123752007,0.6805958703690274,0.704745828362854,0.7288957863566805,0.753045744350507,0.7771957023443337,0.8013456603381603,0.8254956183319868,0.8496455763258133,0.87379553431964],\"top\":[1,0,0,0,0,3,1,5,6,9,17,23,31,41,19,43,26,18,16,9,5,2,1,1,0,0,0,0,0,0,0,0,0,0,1,1,3,0,0,2,9,10,12,20,25,23,31,27,19,8]},\"selected\":{\"id\":\"1046\",\"type\":\"Selection\"},\"selection_policy\":{\"id\":\"1047\",\"type\":\"UnionRenderers\"}},\"id\":\"1036\",\"type\":\"ColumnDataSource\"},{\"attributes\":{\"text\":\"Inbreeding coefficient (F) computed on the X chromosome\"},\"id\":\"1003\",\"type\":\"Title\"},{\"attributes\":{\"source\":{\"id\":\"1036\",\"type\":\"ColumnDataSource\"}},\"id\":\"1040\",\"type\":\"CDSView\"},{\"attributes\":{\"data_source\":{\"id\":\"1036\",\"type\":\"ColumnDataSource\"},\"glyph\":{\"id\":\"1037\",\"type\":\"Quad\"},\"hover_glyph\":null,\"muted_glyph\":null,\"nonselection_glyph\":{\"id\":\"1038\",\"type\":\"Quad\"},\"selection_glyph\":null,\"view\":{\"id\":\"1040\",\"type\":\"CDSView\"}},\"id\":\"1039\",\"type\":\"GlyphRenderer\"},{\"attributes\":{},\"id\":\"1011\",\"type\":\"LinearScale\"},{\"attributes\":{\"bottom\":{\"value\":0},\"fill_alpha\":{\"value\":0.1},\"fill_color\":{\"value\":\"#1f77b4\"},\"left\":{\"field\":\"left\"},\"line_alpha\":{\"value\":0.1},\"line_color\":{\"value\":\"#1f77b4\"},\"right\":{\"field\":\"right\"},\"top\":{\"field\":\"top\"}},\"id\":\"1038\",\"type\":\"Quad\"},{\"attributes\":{},\"id\":\"1046\",\"type\":\"Selection\"},{\"attributes\":{\"bottom\":{\"value\":0},\"fill_color\":{\"value\":\"#1f77b4\"},\"left\":{\"field\":\"left\"},\"right\":{\"field\":\"right\"},\"top\":{\"field\":\"top\"}},\"id\":\"1037\",\"type\":\"Quad\"},{\"attributes\":{},\"id\":\"1047\",\"type\":\"UnionRenderers\"},{\"attributes\":{},\"id\":\"1027\",\"type\":\"ResetTool\"},{\"attributes\":{\"axis_label\":\"Frequency\",\"formatter\":{\"id\":\"1045\",\"type\":\"BasicTickFormatter\"},\"ticker\":{\"id\":\"1019\",\"type\":\"BasicTicker\"}},\"id\":\"1018\",\"type\":\"LinearAxis\"}],\"root_ids\":[\"1002\"]},\"title\":\"Bokeh Application\",\"version\":\"1.2.0\"}};\n",
       "  var render_items = [{\"docid\":\"48388a37-902c-4367-8b78-12f6d53a1079\",\"roots\":{\"1002\":\"85a06a9e-781f-4900-bb42-7079eb4801ed\"}}];\n",
       "  root.Bokeh.embed.embed_items_notebook(docs_json, render_items);\n",
       "\n",
       "  }\n",
       "  if (root.Bokeh !== undefined) {\n",
       "    embed_document(root);\n",
       "  } else {\n",
       "    var attempts = 0;\n",
       "    var timer = setInterval(function(root) {\n",
       "      if (root.Bokeh !== undefined) {\n",
       "        embed_document(root);\n",
       "        clearInterval(timer);\n",
       "      }\n",
       "      attempts++;\n",
       "      if (attempts > 100) {\n",
       "        console.log(\"Bokeh: ERROR: Unable to run BokehJS code because BokehJS library is missing\");\n",
       "        clearInterval(timer);\n",
       "      }\n",
       "    }, 10, root)\n",
       "  }\n",
       "})(window);"
      ],
      "application/vnd.bokehjs_exec.v0+json": ""
     },
     "metadata": {
      "application/vnd.bokehjs_exec.v0+json": {
       "id": "1002"
      }
     },
     "output_type": "display_data"
    }
   ],
   "source": [
    "p = hl.plot.histogram(imputed_sex_ht.f_stat, title='Inbreeding coefficient (F) computed on the X chromosome')\n",
    "p.plot_width = 800\n",
    "p.plot_height = 500\n",
    "show(p)"
   ]
  },
  {
   "cell_type": "markdown",
   "metadata": {},
   "source": [
    "Based on the plot above, we define new $F$ thresholds for male and female, and do the imputation again."
   ]
  },
  {
   "cell_type": "code",
   "execution_count": 19,
   "metadata": {},
   "outputs": [],
   "source": [
    "imputed_sex_ht = hl.impute_sex(mt.GT, female_threshold=0.3, male_threshold=0.4)\n",
    "\n",
    "# Make a new variable 'sex' that is either 'f' or 'm'.\n",
    "imputed_sex_ht = imputed_sex_ht.annotate(sex = hl.if_else(imputed_sex_ht.is_female, 'f', 'm'))"
   ]
  },
  {
   "cell_type": "markdown",
   "metadata": {},
   "source": [
    "## Load self-reported gender data"
   ]
  },
  {
   "cell_type": "code",
   "execution_count": 28,
   "metadata": {},
   "outputs": [
    {
     "name": "stderr",
     "output_type": "stream",
     "text": [
      "2021-06-07 11:38:30 Hail: INFO: Reading table without type imputation\n",
      "  Loading field 'IndividualName' as type str (not specified)\n",
      "  Loading field 'Gender' as type str (not specified)\n"
     ]
    }
   ],
   "source": [
    "# Read the CSV.\n",
    "gender_ht = hl.import_table(BASE_DIR + '/data/metadata/fargen_indi-gen.csv', delimiter=',')\n",
    "\n",
    "# Key the table by individual name.\n",
    "gender_ht = gender_ht.key_by(gender_ht.IndividualName)\n",
    "\n",
    "# Us a boolean 'is_female' variable, like in the imputed data.\n",
    "gender_ht = gender_ht.annotate(gender = hl.if_else(gender_ht.Gender == '0', 'f', 'm'))\n",
    "\n",
    "# Recode the 'Gender' variable into a new 'gender' variable, that is either 'm', 'f', or missing.\n",
    "gender_ht = gender_ht.transmute(gender = hl.case()\n",
    "                                        .when(gender_ht.Gender == '0', 'f')\n",
    "                                        .when(gender_ht.Gender == '1', 'm')\n",
    "                                        .or_missing())"
   ]
  },
  {
   "cell_type": "markdown",
   "metadata": {},
   "source": [
    "## Compare imputed sex with self-reported gender\n",
    "\n",
    "Below we compute a confusion matrix between self-reported gender and imputed sex.\n",
    "\n",
    "We see that 7 samples have disconcordant sex and gender. Of these, 4 are reported as female and imputed as male, and 3 are reported as male and imputed as female."
   ]
  },
  {
   "cell_type": "code",
   "execution_count": 30,
   "metadata": {},
   "outputs": [
    {
     "name": "stderr",
     "output_type": "stream",
     "text": [
      "2021-06-07 11:38:35 Hail: INFO: Coerced sorted dataset\n",
      "2021-06-07 11:38:35 Hail: INFO: Coerced sorted dataset\n",
      "2021-06-07 11:38:35 Hail: INFO: Coerced sorted dataset\n",
      "2021-06-07 11:38:35 Hail: INFO: Coerced sorted dataset\n"
     ]
    },
    {
     "data": {
      "text/html": [
       "<div>\n",
       "<style scoped>\n",
       "    .dataframe tbody tr th:only-of-type {\n",
       "        vertical-align: middle;\n",
       "    }\n",
       "\n",
       "    .dataframe tbody tr th {\n",
       "        vertical-align: top;\n",
       "    }\n",
       "\n",
       "    .dataframe thead th {\n",
       "        text-align: right;\n",
       "    }\n",
       "</style>\n",
       "<table border=\"1\" class=\"dataframe\">\n",
       "  <thead>\n",
       "    <tr style=\"text-align: right;\">\n",
       "      <th>Gender</th>\n",
       "      <th>f</th>\n",
       "      <th>m</th>\n",
       "      <th>Sum</th>\n",
       "    </tr>\n",
       "    <tr>\n",
       "      <th>Sex</th>\n",
       "      <th></th>\n",
       "      <th></th>\n",
       "      <th></th>\n",
       "    </tr>\n",
       "  </thead>\n",
       "  <tbody>\n",
       "    <tr>\n",
       "      <th>f</th>\n",
       "      <td>274</td>\n",
       "      <td>3</td>\n",
       "      <td>277</td>\n",
       "    </tr>\n",
       "    <tr>\n",
       "      <th>m</th>\n",
       "      <td>4</td>\n",
       "      <td>187</td>\n",
       "      <td>191</td>\n",
       "    </tr>\n",
       "    <tr>\n",
       "      <th>Sum</th>\n",
       "      <td>278</td>\n",
       "      <td>190</td>\n",
       "      <td>468</td>\n",
       "    </tr>\n",
       "  </tbody>\n",
       "</table>\n",
       "</div>"
      ],
      "text/plain": [
       "Gender    f    m  Sum\n",
       "Sex                  \n",
       "f       274    3  277\n",
       "m         4  187  191\n",
       "Sum     278  190  468"
      ]
     },
     "execution_count": 30,
     "metadata": {},
     "output_type": "execute_result"
    }
   ],
   "source": [
    "# Annotate the imputed sex table with the self-reported gender.\n",
    "imputed_sex_ht = imputed_sex_ht.annotate(gender=gender_ht[imputed_sex_ht.s].gender)\n",
    "\n",
    "# Make Pandas series with the sex and gender.\n",
    "sex = pd.Series(imputed_sex_ht.sex.collect(), name='Sex')\n",
    "gender = pd.Series(imputed_sex_ht.gender.collect(), name='Gender')\n",
    "\n",
    "# Calculate confusion matrix.\n",
    "confusion_table = pd.crosstab(sex, gender, margins=True, margins_name='Sum')\n",
    "\n",
    "confusion_table"
   ]
  },
  {
   "cell_type": "markdown",
   "metadata": {},
   "source": [
    "## Inspect disconcordant samples\n",
    "\n",
    "We will inspect the samples where the self-reported gender is different from the imputed sex.\n",
    "\n",
    "As we have seen, the males and females cluster very nicely w.r.t. the inbreeding coeffcient, so we can be confident that we are correctly imputing the sex. Below we see the imputation data for the samples where the imputed sex and self-reported gender mismatch."
   ]
  },
  {
   "cell_type": "code",
   "execution_count": 45,
   "metadata": {},
   "outputs": [
    {
     "name": "stderr",
     "output_type": "stream",
     "text": [
      "2021-06-07 11:19:23 Hail: INFO: Coerced sorted dataset\n",
      "2021-06-07 11:19:23 Hail: INFO: Coerced sorted dataset\n",
      "2021-06-07 11:19:23 Hail: INFO: Coerced sorted dataset\n",
      "2021-06-07 11:19:23 Hail: INFO: Coerced sorted dataset\n",
      "2021-06-07 11:19:23 Hail: INFO: Coerced sorted dataset\n",
      "2021-06-07 11:19:23 Hail: INFO: Coerced sorted dataset\n"
     ]
    },
    {
     "data": {
      "text/html": [
       "<table><thead><tr><td style=\"white-space: nowrap; max-width: 500px; overflow: hidden; text-overflow: ellipsis; \" colspan=\"1\"><div style=\"text-align: left;\"></div></td><td style=\"white-space: nowrap; max-width: 500px; overflow: hidden; text-overflow: ellipsis; \" colspan=\"1\"><div style=\"text-align: left;\"></div></td><td style=\"white-space: nowrap; max-width: 500px; overflow: hidden; text-overflow: ellipsis; \" colspan=\"1\"><div style=\"text-align: left;\"></div></td><td style=\"white-space: nowrap; max-width: 500px; overflow: hidden; text-overflow: ellipsis; \" colspan=\"1\"><div style=\"text-align: left;\"></div></td><td style=\"white-space: nowrap; max-width: 500px; overflow: hidden; text-overflow: ellipsis; \" colspan=\"1\"><div style=\"text-align: left;\"></div></td><td style=\"white-space: nowrap; max-width: 500px; overflow: hidden; text-overflow: ellipsis; \" colspan=\"1\"><div style=\"text-align: left;\"></div></td><td style=\"white-space: nowrap; max-width: 500px; overflow: hidden; text-overflow: ellipsis; \" colspan=\"1\"><div style=\"text-align: left;\"></div></td><td style=\"white-space: nowrap; max-width: 500px; overflow: hidden; text-overflow: ellipsis; \" colspan=\"1\"><div style=\"text-align: left;\"></div></td><td style=\"white-space: nowrap; max-width: 500px; overflow: hidden; text-overflow: ellipsis; \" colspan=\"1\"><div style=\"text-align: left;\"></div></td><td style=\"white-space: nowrap; max-width: 500px; overflow: hidden; text-overflow: ellipsis; \" colspan=\"1\"><div style=\"text-align: left;\"></div></td><td style=\"white-space: nowrap; max-width: 500px; overflow: hidden; text-overflow: ellipsis; \" colspan=\"1\"><div style=\"text-align: left;\"></div></td></tr><tr><td style=\"white-space: nowrap; max-width: 500px; overflow: hidden; text-overflow: ellipsis; \" colspan=\"1\"><div style=\"text-align: left;border-bottom: solid 2px #000; padding-bottom: 5px\">s</div></td><td style=\"white-space: nowrap; max-width: 500px; overflow: hidden; text-overflow: ellipsis; \" colspan=\"1\"><div style=\"text-align: left;border-bottom: solid 2px #000; padding-bottom: 5px\">is_female</div></td><td style=\"white-space: nowrap; max-width: 500px; overflow: hidden; text-overflow: ellipsis; \" colspan=\"1\"><div style=\"text-align: left;border-bottom: solid 2px #000; padding-bottom: 5px\">f_stat</div></td><td style=\"white-space: nowrap; max-width: 500px; overflow: hidden; text-overflow: ellipsis; \" colspan=\"1\"><div style=\"text-align: left;border-bottom: solid 2px #000; padding-bottom: 5px\">n_called</div></td><td style=\"white-space: nowrap; max-width: 500px; overflow: hidden; text-overflow: ellipsis; \" colspan=\"1\"><div style=\"text-align: left;border-bottom: solid 2px #000; padding-bottom: 5px\">expected_homs</div></td><td style=\"white-space: nowrap; max-width: 500px; overflow: hidden; text-overflow: ellipsis; \" colspan=\"1\"><div style=\"text-align: left;border-bottom: solid 2px #000; padding-bottom: 5px\">observed_homs</div></td><td style=\"white-space: nowrap; max-width: 500px; overflow: hidden; text-overflow: ellipsis; \" colspan=\"1\"><div style=\"text-align: left;border-bottom: solid 2px #000; padding-bottom: 5px\">is_female_actual</div></td><td style=\"white-space: nowrap; max-width: 500px; overflow: hidden; text-overflow: ellipsis; \" colspan=\"1\"><div style=\"text-align: left;border-bottom: solid 2px #000; padding-bottom: 5px\">is_female_gender</div></td><td style=\"white-space: nowrap; max-width: 500px; overflow: hidden; text-overflow: ellipsis; \" colspan=\"1\"><div style=\"text-align: left;border-bottom: solid 2px #000; padding-bottom: 5px\">sex_check</div></td><td style=\"white-space: nowrap; max-width: 500px; overflow: hidden; text-overflow: ellipsis; \" colspan=\"1\"><div style=\"text-align: left;border-bottom: solid 2px #000; padding-bottom: 5px\">sex</div></td><td style=\"white-space: nowrap; max-width: 500px; overflow: hidden; text-overflow: ellipsis; \" colspan=\"1\"><div style=\"text-align: left;border-bottom: solid 2px #000; padding-bottom: 5px\">gender</div></td></tr><tr><td style=\"white-space: nowrap; max-width: 500px; overflow: hidden; text-overflow: ellipsis; text-align: left;\">str</td><td style=\"white-space: nowrap; max-width: 500px; overflow: hidden; text-overflow: ellipsis; text-align: left;\">bool</td><td style=\"white-space: nowrap; max-width: 500px; overflow: hidden; text-overflow: ellipsis; text-align: left;\">float64</td><td style=\"white-space: nowrap; max-width: 500px; overflow: hidden; text-overflow: ellipsis; text-align: left;\">int64</td><td style=\"white-space: nowrap; max-width: 500px; overflow: hidden; text-overflow: ellipsis; text-align: left;\">float64</td><td style=\"white-space: nowrap; max-width: 500px; overflow: hidden; text-overflow: ellipsis; text-align: left;\">int64</td><td style=\"white-space: nowrap; max-width: 500px; overflow: hidden; text-overflow: ellipsis; text-align: left;\">bool</td><td style=\"white-space: nowrap; max-width: 500px; overflow: hidden; text-overflow: ellipsis; text-align: left;\">bool</td><td style=\"white-space: nowrap; max-width: 500px; overflow: hidden; text-overflow: ellipsis; text-align: left;\">bool</td><td style=\"white-space: nowrap; max-width: 500px; overflow: hidden; text-overflow: ellipsis; text-align: left;\">str</td><td style=\"white-space: nowrap; max-width: 500px; overflow: hidden; text-overflow: ellipsis; text-align: left;\">str</td></tr>\n",
       "</thead><tbody><tr><td style=\"white-space: nowrap; max-width: 500px; overflow: hidden; text-overflow: ellipsis; \">&quot;FN000187&quot;</td><td style=\"white-space: nowrap; max-width: 500px; overflow: hidden; text-overflow: ellipsis; \">true</td><td style=\"white-space: nowrap; max-width: 500px; overflow: hidden; text-overflow: ellipsis; \">1.38e-01</td><td style=\"white-space: nowrap; max-width: 500px; overflow: hidden; text-overflow: ellipsis; \">31674</td><td style=\"white-space: nowrap; max-width: 500px; overflow: hidden; text-overflow: ellipsis; \">3.05e+04</td><td style=\"white-space: nowrap; max-width: 500px; overflow: hidden; text-overflow: ellipsis; \">30657</td><td style=\"white-space: nowrap; max-width: 500px; overflow: hidden; text-overflow: ellipsis; \">false</td><td style=\"white-space: nowrap; max-width: 500px; overflow: hidden; text-overflow: ellipsis; \">false</td><td style=\"white-space: nowrap; max-width: 500px; overflow: hidden; text-overflow: ellipsis; \">false</td><td style=\"white-space: nowrap; max-width: 500px; overflow: hidden; text-overflow: ellipsis; \">&quot;f&quot;</td><td style=\"white-space: nowrap; max-width: 500px; overflow: hidden; text-overflow: ellipsis; \">&quot;m&quot;</td></tr>\n",
       "<tr><td style=\"white-space: nowrap; max-width: 500px; overflow: hidden; text-overflow: ellipsis; \">&quot;FN000861&quot;</td><td style=\"white-space: nowrap; max-width: 500px; overflow: hidden; text-overflow: ellipsis; \">true</td><td style=\"white-space: nowrap; max-width: 500px; overflow: hidden; text-overflow: ellipsis; \">3.67e-02</td><td style=\"white-space: nowrap; max-width: 500px; overflow: hidden; text-overflow: ellipsis; \">31670</td><td style=\"white-space: nowrap; max-width: 500px; overflow: hidden; text-overflow: ellipsis; \">3.05e+04</td><td style=\"white-space: nowrap; max-width: 500px; overflow: hidden; text-overflow: ellipsis; \">30534</td><td style=\"white-space: nowrap; max-width: 500px; overflow: hidden; text-overflow: ellipsis; \">false</td><td style=\"white-space: nowrap; max-width: 500px; overflow: hidden; text-overflow: ellipsis; \">false</td><td style=\"white-space: nowrap; max-width: 500px; overflow: hidden; text-overflow: ellipsis; \">false</td><td style=\"white-space: nowrap; max-width: 500px; overflow: hidden; text-overflow: ellipsis; \">&quot;f&quot;</td><td style=\"white-space: nowrap; max-width: 500px; overflow: hidden; text-overflow: ellipsis; \">&quot;m&quot;</td></tr>\n",
       "<tr><td style=\"white-space: nowrap; max-width: 500px; overflow: hidden; text-overflow: ellipsis; \">&quot;FN000871&quot;</td><td style=\"white-space: nowrap; max-width: 500px; overflow: hidden; text-overflow: ellipsis; \">true</td><td style=\"white-space: nowrap; max-width: 500px; overflow: hidden; text-overflow: ellipsis; \">5.66e-02</td><td style=\"white-space: nowrap; max-width: 500px; overflow: hidden; text-overflow: ellipsis; \">31672</td><td style=\"white-space: nowrap; max-width: 500px; overflow: hidden; text-overflow: ellipsis; \">3.05e+04</td><td style=\"white-space: nowrap; max-width: 500px; overflow: hidden; text-overflow: ellipsis; \">30559</td><td style=\"white-space: nowrap; max-width: 500px; overflow: hidden; text-overflow: ellipsis; \">false</td><td style=\"white-space: nowrap; max-width: 500px; overflow: hidden; text-overflow: ellipsis; \">false</td><td style=\"white-space: nowrap; max-width: 500px; overflow: hidden; text-overflow: ellipsis; \">false</td><td style=\"white-space: nowrap; max-width: 500px; overflow: hidden; text-overflow: ellipsis; \">&quot;f&quot;</td><td style=\"white-space: nowrap; max-width: 500px; overflow: hidden; text-overflow: ellipsis; \">&quot;m&quot;</td></tr>\n",
       "<tr><td style=\"white-space: nowrap; max-width: 500px; overflow: hidden; text-overflow: ellipsis; \">&quot;FN000884&quot;</td><td style=\"white-space: nowrap; max-width: 500px; overflow: hidden; text-overflow: ellipsis; \">false</td><td style=\"white-space: nowrap; max-width: 500px; overflow: hidden; text-overflow: ellipsis; \">8.00e-01</td><td style=\"white-space: nowrap; max-width: 500px; overflow: hidden; text-overflow: ellipsis; \">31674</td><td style=\"white-space: nowrap; max-width: 500px; overflow: hidden; text-overflow: ellipsis; \">3.05e+04</td><td style=\"white-space: nowrap; max-width: 500px; overflow: hidden; text-overflow: ellipsis; \">31438</td><td style=\"white-space: nowrap; max-width: 500px; overflow: hidden; text-overflow: ellipsis; \">true</td><td style=\"white-space: nowrap; max-width: 500px; overflow: hidden; text-overflow: ellipsis; \">true</td><td style=\"white-space: nowrap; max-width: 500px; overflow: hidden; text-overflow: ellipsis; \">false</td><td style=\"white-space: nowrap; max-width: 500px; overflow: hidden; text-overflow: ellipsis; \">&quot;m&quot;</td><td style=\"white-space: nowrap; max-width: 500px; overflow: hidden; text-overflow: ellipsis; \">&quot;f&quot;</td></tr>\n",
       "<tr><td style=\"white-space: nowrap; max-width: 500px; overflow: hidden; text-overflow: ellipsis; \">&quot;FN000902&quot;</td><td style=\"white-space: nowrap; max-width: 500px; overflow: hidden; text-overflow: ellipsis; \">false</td><td style=\"white-space: nowrap; max-width: 500px; overflow: hidden; text-overflow: ellipsis; \">7.17e-01</td><td style=\"white-space: nowrap; max-width: 500px; overflow: hidden; text-overflow: ellipsis; \">31677</td><td style=\"white-space: nowrap; max-width: 500px; overflow: hidden; text-overflow: ellipsis; \">3.05e+04</td><td style=\"white-space: nowrap; max-width: 500px; overflow: hidden; text-overflow: ellipsis; \">31343</td><td style=\"white-space: nowrap; max-width: 500px; overflow: hidden; text-overflow: ellipsis; \">true</td><td style=\"white-space: nowrap; max-width: 500px; overflow: hidden; text-overflow: ellipsis; \">true</td><td style=\"white-space: nowrap; max-width: 500px; overflow: hidden; text-overflow: ellipsis; \">false</td><td style=\"white-space: nowrap; max-width: 500px; overflow: hidden; text-overflow: ellipsis; \">&quot;m&quot;</td><td style=\"white-space: nowrap; max-width: 500px; overflow: hidden; text-overflow: ellipsis; \">&quot;f&quot;</td></tr>\n",
       "<tr><td style=\"white-space: nowrap; max-width: 500px; overflow: hidden; text-overflow: ellipsis; \">&quot;FN000957&quot;</td><td style=\"white-space: nowrap; max-width: 500px; overflow: hidden; text-overflow: ellipsis; \">false</td><td style=\"white-space: nowrap; max-width: 500px; overflow: hidden; text-overflow: ellipsis; \">6.38e-01</td><td style=\"white-space: nowrap; max-width: 500px; overflow: hidden; text-overflow: ellipsis; \">31676</td><td style=\"white-space: nowrap; max-width: 500px; overflow: hidden; text-overflow: ellipsis; \">3.05e+04</td><td style=\"white-space: nowrap; max-width: 500px; overflow: hidden; text-overflow: ellipsis; \">31249</td><td style=\"white-space: nowrap; max-width: 500px; overflow: hidden; text-overflow: ellipsis; \">true</td><td style=\"white-space: nowrap; max-width: 500px; overflow: hidden; text-overflow: ellipsis; \">true</td><td style=\"white-space: nowrap; max-width: 500px; overflow: hidden; text-overflow: ellipsis; \">false</td><td style=\"white-space: nowrap; max-width: 500px; overflow: hidden; text-overflow: ellipsis; \">&quot;m&quot;</td><td style=\"white-space: nowrap; max-width: 500px; overflow: hidden; text-overflow: ellipsis; \">&quot;f&quot;</td></tr>\n",
       "<tr><td style=\"white-space: nowrap; max-width: 500px; overflow: hidden; text-overflow: ellipsis; \">&quot;FN001127&quot;</td><td style=\"white-space: nowrap; max-width: 500px; overflow: hidden; text-overflow: ellipsis; \">false</td><td style=\"white-space: nowrap; max-width: 500px; overflow: hidden; text-overflow: ellipsis; \">8.01e-01</td><td style=\"white-space: nowrap; max-width: 500px; overflow: hidden; text-overflow: ellipsis; \">31677</td><td style=\"white-space: nowrap; max-width: 500px; overflow: hidden; text-overflow: ellipsis; \">3.05e+04</td><td style=\"white-space: nowrap; max-width: 500px; overflow: hidden; text-overflow: ellipsis; \">31442</td><td style=\"white-space: nowrap; max-width: 500px; overflow: hidden; text-overflow: ellipsis; \">true</td><td style=\"white-space: nowrap; max-width: 500px; overflow: hidden; text-overflow: ellipsis; \">true</td><td style=\"white-space: nowrap; max-width: 500px; overflow: hidden; text-overflow: ellipsis; \">false</td><td style=\"white-space: nowrap; max-width: 500px; overflow: hidden; text-overflow: ellipsis; \">&quot;m&quot;</td><td style=\"white-space: nowrap; max-width: 500px; overflow: hidden; text-overflow: ellipsis; \">&quot;f&quot;</td></tr>\n",
       "</tbody></table>"
      ],
      "text/plain": [
       "+------------+-----------+----------+----------+---------------+---------------+------------------+------------------+-----------+-----+--------+\n",
       "| s          | is_female |   f_stat | n_called | expected_homs | observed_homs | is_female_actual | is_female_gender | sex_check | sex | gender |\n",
       "+------------+-----------+----------+----------+---------------+---------------+------------------+------------------+-----------+-----+--------+\n",
       "| str        |      bool |  float64 |    int64 |       float64 |         int64 |             bool |             bool |      bool | str | str    |\n",
       "+------------+-----------+----------+----------+---------------+---------------+------------------+------------------+-----------+-----+--------+\n",
       "| \"FN000187\" |      true | 1.38e-01 |    31674 |      3.05e+04 |         30657 |            false |            false |     false | \"f\" | \"m\"    |\n",
       "| \"FN000861\" |      true | 3.67e-02 |    31670 |      3.05e+04 |         30534 |            false |            false |     false | \"f\" | \"m\"    |\n",
       "| \"FN000871\" |      true | 5.66e-02 |    31672 |      3.05e+04 |         30559 |            false |            false |     false | \"f\" | \"m\"    |\n",
       "| \"FN000884\" |     false | 8.00e-01 |    31674 |      3.05e+04 |         31438 |             true |             true |     false | \"m\" | \"f\"    |\n",
       "| \"FN000902\" |     false | 7.17e-01 |    31677 |      3.05e+04 |         31343 |             true |             true |     false | \"m\" | \"f\"    |\n",
       "| \"FN000957\" |     false | 6.38e-01 |    31676 |      3.05e+04 |         31249 |             true |             true |     false | \"m\" | \"f\"    |\n",
       "| \"FN001127\" |     false | 8.01e-01 |    31677 |      3.05e+04 |         31442 |             true |             true |     false | \"m\" | \"f\"    |\n",
       "+------------+-----------+----------+----------+---------------+---------------+------------------+------------------+-----------+-----+--------+"
      ]
     },
     "metadata": {},
     "output_type": "display_data"
    }
   ],
   "source": [
    "imputed_sex_ht.filter(imputed_sex_ht.sex != imputed_sex_ht.gender).show()"
   ]
  },
  {
   "cell_type": "markdown",
   "metadata": {},
   "source": [
    "**FIXME:** can disconcordance be explained by poor sample quality?"
   ]
  },
  {
   "cell_type": "code",
   "execution_count": 32,
   "metadata": {},
   "outputs": [],
   "source": [
    "# Annotate the table with a boolean sex mismatch variable.\n",
    "imputed_sex_ht = imputed_sex_ht.annotate(sex_mismatch = imputed_sex_ht.sex != imputed_sex_ht.gender)\n",
    "\n",
    "# Annotate the matrix table with the same information.\n",
    "mt = mt.annotate_cols(sex_mismatch = imputed_sex_ht[mt.s].sex_mismatch)"
   ]
  },
  {
   "cell_type": "markdown",
   "metadata": {},
   "source": [
    "The plot below shows"
   ]
  },
  {
   "cell_type": "code",
   "execution_count": 42,
   "metadata": {},
   "outputs": [
    {
     "name": "stderr",
     "output_type": "stream",
     "text": [
      "2021-06-07 14:20:38 Hail: INFO: Coerced sorted dataset\n",
      "2021-06-07 14:20:38 Hail: INFO: Coerced sorted dataset\n",
      "2021-06-07 14:20:41 Hail: INFO: Coerced sorted dataset\n",
      "2021-06-07 14:20:41 Hail: INFO: Coerced sorted dataset\n"
     ]
    },
    {
     "data": {
      "text/html": [
       "\n",
       "\n",
       "\n",
       "\n",
       "\n",
       "\n",
       "  <div class=\"bk-root\" id=\"064eaf7a-0f31-4111-9241-7791c40a8f61\" data-root-id=\"1228\"></div>\n"
      ]
     },
     "metadata": {},
     "output_type": "display_data"
    },
    {
     "data": {
      "application/javascript": [
       "(function(root) {\n",
       "  function embed_document(root) {\n",
       "    \n",
       "  var docs_json = {\"10be7060-9825-45b8-af5e-1a7355366e0b\":{\"roots\":{\"references\":[{\"attributes\":{\"below\":[{\"id\":\"1239\",\"type\":\"LinearAxis\"}],\"center\":[{\"id\":\"1243\",\"type\":\"Grid\"},{\"id\":\"1248\",\"type\":\"Grid\"}],\"left\":[{\"id\":\"1244\",\"type\":\"LinearAxis\"},{\"id\":\"1280\",\"type\":\"Legend\"},{\"id\":\"1281\",\"type\":\"ColorBar\"}],\"plot_height\":500,\"plot_width\":800,\"renderers\":[{\"id\":\"1271\",\"type\":\"GlyphRenderer\"},{\"id\":\"1277\",\"type\":\"GlyphRenderer\"}],\"title\":{\"id\":\"1229\",\"type\":\"Title\"},\"toolbar\":{\"id\":\"1255\",\"type\":\"Toolbar\"},\"x_range\":{\"id\":\"1231\",\"type\":\"DataRange1d\"},\"x_scale\":{\"id\":\"1235\",\"type\":\"LinearScale\"},\"y_range\":{\"id\":\"1233\",\"type\":\"DataRange1d\"},\"y_scale\":{\"id\":\"1237\",\"type\":\"LinearScale\"}},\"id\":\"1228\",\"subtype\":\"Figure\",\"type\":\"Plot\"},{\"attributes\":{},\"id\":\"1306\",\"type\":\"BasicTickFormatter\"},{\"attributes\":{\"fill_color\":{\"field\":\"label\",\"transform\":{\"id\":\"1265\",\"type\":\"CategoricalColorMapper\"}},\"line_color\":{\"field\":\"label\",\"transform\":{\"id\":\"1265\",\"type\":\"CategoricalColorMapper\"}},\"x\":{\"field\":\"x\"},\"y\":{\"field\":\"y\"}},\"id\":\"1269\",\"type\":\"Circle\"},{\"attributes\":{\"overlay\":{\"id\":\"1309\",\"type\":\"BoxAnnotation\"}},\"id\":\"1251\",\"type\":\"BoxZoomTool\"},{\"attributes\":{},\"id\":\"1235\",\"type\":\"LinearScale\"},{\"attributes\":{},\"id\":\"1304\",\"type\":\"BasicTickFormatter\"},{\"attributes\":{\"active_drag\":\"auto\",\"active_inspect\":\"auto\",\"active_multi\":null,\"active_scroll\":\"auto\",\"active_tap\":\"auto\",\"tools\":[{\"id\":\"1249\",\"type\":\"PanTool\"},{\"id\":\"1250\",\"type\":\"WheelZoomTool\"},{\"id\":\"1251\",\"type\":\"BoxZoomTool\"},{\"id\":\"1252\",\"type\":\"SaveTool\"},{\"id\":\"1253\",\"type\":\"ResetTool\"},{\"id\":\"1254\",\"type\":\"HelpTool\"},{\"id\":\"1263\",\"type\":\"HoverTool\"}]},\"id\":\"1255\",\"type\":\"Toolbar\"},{\"attributes\":{\"filters\":[{\"id\":\"1272\",\"type\":\"GroupFilter\"}],\"source\":{\"id\":\"1264\",\"type\":\"ColumnDataSource\"}},\"id\":\"1273\",\"type\":\"CDSView\"},{\"attributes\":{\"text\":\"\"},\"id\":\"1229\",\"type\":\"Title\"},{\"attributes\":{\"color_mapper\":null,\"formatter\":{\"id\":\"1306\",\"type\":\"BasicTickFormatter\"},\"ticker\":{\"id\":\"1305\",\"type\":\"BasicTicker\"},\"visible\":false},\"id\":\"1281\",\"type\":\"ColorBar\"},{\"attributes\":{\"factors\":[\"true\",\"false\"],\"palette\":[\"#1f77b4\",\"#ff7f0e\",\"#2ca02c\",\"#d62728\",\"#9467bd\",\"#8c564b\",\"#e377c2\",\"#7f7f7f\",\"#bcbd22\",\"#17becf\"]},\"id\":\"1265\",\"type\":\"CategoricalColorMapper\"},{\"attributes\":{\"bottom_units\":\"screen\",\"fill_alpha\":{\"value\":0.5},\"fill_color\":{\"value\":\"lightgrey\"},\"left_units\":\"screen\",\"level\":\"overlay\",\"line_alpha\":{\"value\":1.0},\"line_color\":{\"value\":\"black\"},\"line_dash\":[4,4],\"line_width\":{\"value\":2},\"render_mode\":\"css\",\"right_units\":\"screen\",\"top_units\":\"screen\"},\"id\":\"1309\",\"type\":\"BoxAnnotation\"},{\"attributes\":{\"callback\":null},\"id\":\"1231\",\"type\":\"DataRange1d\"},{\"attributes\":{},\"id\":\"1245\",\"type\":\"BasicTicker\"},{\"attributes\":{},\"id\":\"1237\",\"type\":\"LinearScale\"},{\"attributes\":{\"callback\":null,\"tooltips\":[[\"x\",\"@x\"],[\"y\",\"@y\"],[\"label\",\"@label\"]]},\"id\":\"1263\",\"type\":\"HoverTool\"},{\"attributes\":{\"column_name\":\"label\",\"group\":\"false\"},\"id\":\"1266\",\"type\":\"GroupFilter\"},{\"attributes\":{},\"id\":\"1252\",\"type\":\"SaveTool\"},{\"attributes\":{},\"id\":\"1253\",\"type\":\"ResetTool\"},{\"attributes\":{\"label\":{\"value\":\"true\"},\"renderers\":[{\"id\":\"1277\",\"type\":\"GlyphRenderer\"}]},\"id\":\"1279\",\"type\":\"LegendItem\"},{\"attributes\":{\"callback\":null,\"data\":{\"index\":[0,1,2,3,4,5,6,7,8,9,10,11,12,13,14,15,16,17,18,19,20,21,22,23,24,25,26,27,28,29,30,31,32,33,34,35,36,37,38,39,40,41,42,43,44,45,46,47,48,49,50,51,52,53,54,55,56,57,58,59,60,61,62,63,64,65,66,67,68,69,70,71,72,73,74,75,76,77,78,79,80,81,82,83,84,85,86,87,88,89,90,91,92,93,94,95,96,97,98,99,100,101,102,103,104,105,106,107,108,109,110,111,112,113,114,115,116,117,118,119,120,121,122,123,124,125,126,127,128,129,130,131,132,133,134,135,136,137,138,139,140,141,142,143,144,145,146,147,148,149,150,151,152,153,154,155,156,157,158,159,160,161,162,163,164,165,166,167,168,169,170,171,172,173,174,175,176,177,178,179,180,181,182,183,184,185,186,187,188,189,190,191,192,193,194,195,196,197,198,199,200,201,202,203,204,205,206,207,208,209,210,211,212,213,214,215,216,217,218,219,220,221,222,223,224,225,226,227,228,229,230,231,232,233,234,235,236,237,238,239,240,241,242,243,244,245,246,247,248,249,250,251,252,253,254,255,256,257,258,259,260,261,262,263,264,265,266,267,268,269,270,271,272,273,274,275,276,277,278,279,280,281,282,283,284,285,286,287,288,289,290,291,292,293,294,295,296,297,298,299,300,301,302,303,304,305,306,307,308,309,310,311,312,313,314,315,316,317,318,319,320,321,322,323,324,325,326,327,328,329,330,331,332,333,334,335,336,337,338,339,340,341,342,343,344,345,346,347,348,349,350,351,352,353,354,355,356,357,358,359,360,361,362,363,364,365,366,367,368,369,370,371,372,373,374,375,376,377,378,379,380,381,382,383,384,385,386,387,388,389,390,391,392,393,394,395,396,397,398,399,400,401,402,403,404,405,406,407,408,409,410,411,412,413,414,415,416,417,418,419,420,421,422,423,424,425,426,427,428,429,430,431,432,433,434,435,436,437,438,439,440,441,442,443,444,445,446,447],\"label\":[\"false\",\"false\",\"false\",\"false\",\"false\",\"false\",\"false\",\"false\",\"false\",\"false\",\"false\",\"false\",\"false\",\"false\",\"false\",\"false\",\"false\",\"false\",\"false\",\"false\",\"false\",\"false\",\"false\",\"false\",\"false\",\"false\",\"false\",\"false\",\"false\",\"true\",\"false\",\"false\",\"false\",\"false\",\"false\",\"false\",\"false\",\"false\",\"false\",\"false\",\"false\",\"false\",\"false\",\"false\",\"false\",\"false\",\"false\",\"false\",\"false\",\"false\",\"false\",\"false\",\"false\",\"false\",\"false\",\"false\",\"false\",\"false\",\"false\",\"false\",\"false\",\"false\",\"false\",\"false\",\"false\",\"false\",\"false\",\"false\",\"false\",\"false\",\"false\",\"false\",\"false\",\"false\",\"false\",\"false\",\"false\",\"false\",\"false\",\"false\",\"false\",\"false\",\"false\",\"false\",\"false\",\"false\",\"false\",\"false\",\"false\",\"false\",\"false\",\"false\",\"false\",\"false\",\"false\",\"false\",\"false\",\"false\",\"false\",\"false\",\"false\",\"false\",\"false\",\"false\",\"false\",\"false\",\"false\",\"false\",\"false\",\"false\",\"false\",\"false\",\"false\",\"false\",\"false\",\"false\",\"false\",\"false\",\"false\",\"false\",\"false\",\"false\",\"false\",\"false\",\"false\",\"false\",\"false\",\"false\",\"false\",\"false\",\"false\",\"true\",\"false\",\"false\",\"false\",\"false\",\"false\",\"false\",\"false\",\"false\",\"false\",\"false\",\"false\",\"false\",\"false\",\"false\",\"false\",\"false\",\"false\",\"false\",\"false\",\"false\",\"false\",\"false\",\"false\",\"false\",\"false\",\"false\",\"false\",\"false\",\"false\",\"false\",\"false\",\"false\",\"false\",\"false\",\"false\",\"false\",\"false\",\"false\",\"false\",\"false\",\"false\",\"false\",\"false\",\"false\",\"false\",\"false\",\"false\",\"false\",\"false\",\"false\",\"false\",\"false\",\"false\",\"false\",\"false\",\"false\",\"false\",\"false\",\"false\",\"false\",\"false\",\"false\",\"false\",\"false\",\"false\",\"false\",\"false\",\"false\",\"false\",\"false\",\"false\",\"false\",\"false\",\"false\",\"false\",\"false\",\"false\",\"false\",\"false\",\"false\",\"false\",\"false\",\"false\",\"false\",\"false\",\"true\",\"false\",\"false\",\"false\",\"false\",\"false\",\"false\",\"false\",\"false\",\"false\",\"false\",\"false\",\"false\",\"false\",\"false\",\"false\",\"false\",\"false\",\"false\",\"false\",\"false\",\"false\",\"false\",\"false\",\"false\",\"false\",\"false\",\"false\",\"false\",\"false\",\"false\",\"false\",\"false\",\"false\",\"false\",\"false\",\"false\",\"false\",\"false\",\"false\",\"false\",\"false\",\"false\",\"false\",\"false\",\"false\",\"false\",\"false\",\"false\",\"false\",\"false\",\"false\",\"false\",\"false\",\"false\",\"false\",\"false\",\"false\",\"false\",\"false\",\"false\",\"false\",\"false\",\"false\",\"false\",\"false\",\"false\",\"false\",\"false\",\"false\",\"false\",\"false\",\"false\",\"false\",\"false\",\"false\",\"false\",\"false\",\"false\",\"false\",\"false\",\"false\",\"false\",\"false\",\"false\",\"false\",\"false\",\"false\",\"false\",\"false\",\"false\",\"false\",\"false\",\"false\",\"false\",\"false\",\"false\",\"false\",\"true\",\"false\",\"false\",\"false\",\"false\",\"false\",\"false\",\"false\",\"false\",\"false\",\"false\",\"false\",\"false\",\"false\",\"false\",\"false\",\"false\",\"false\",\"false\",\"false\",\"false\",\"false\",\"false\",\"false\",\"false\",\"false\",\"false\",\"false\",\"false\",\"false\",\"false\",\"false\",\"false\",\"false\",\"false\",\"false\",\"false\",\"false\",\"false\",\"false\",\"false\",\"false\",\"false\",\"false\",\"false\",\"false\",\"false\",\"false\",\"false\",\"false\",\"false\",\"false\",\"false\",\"false\",\"false\",\"false\",\"false\",\"false\",\"false\",\"false\",\"false\",\"false\",\"false\",\"false\",\"false\",\"false\",\"false\",\"false\",\"false\",\"false\",\"false\",\"false\",\"false\",\"false\",\"false\",\"false\",\"false\",\"false\",\"true\",\"false\",\"false\",\"false\",\"false\",\"true\",\"false\",\"false\",\"false\",\"false\",\"false\",\"false\",\"false\",\"false\",\"false\",\"false\",\"false\",\"false\",\"false\",\"false\",\"false\",\"false\",\"false\",\"false\",\"false\",\"false\",\"false\",\"false\",\"false\",\"false\",\"false\",\"false\",\"false\",\"false\",\"false\",\"false\",\"false\",\"false\",\"false\",\"false\",\"false\",\"false\",\"false\",\"false\",\"false\",\"false\",\"false\",\"false\",\"false\",\"false\",\"false\",\"false\",\"false\",\"false\",\"false\"],\"x\":{\"__ndarray__\":\"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\",\"dtype\":\"float64\",\"shape\":[448]},\"y\":{\"__ndarray__\":\"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\",\"dtype\":\"float64\",\"shape\":[448]}},\"selected\":{\"id\":\"1307\",\"type\":\"Selection\"},\"selection_policy\":{\"id\":\"1308\",\"type\":\"UnionRenderers\"}},\"id\":\"1264\",\"type\":\"ColumnDataSource\"},{\"attributes\":{\"axis_label\":\"GQ mean\",\"formatter\":{\"id\":\"1302\",\"type\":\"BasicTickFormatter\"},\"ticker\":{\"id\":\"1240\",\"type\":\"BasicTicker\"}},\"id\":\"1239\",\"type\":\"LinearAxis\"},{\"attributes\":{\"fill_alpha\":{\"value\":0.1},\"fill_color\":{\"value\":\"#1f77b4\"},\"line_alpha\":{\"value\":0.1},\"line_color\":{\"value\":\"#1f77b4\"},\"x\":{\"field\":\"x\"},\"y\":{\"field\":\"y\"}},\"id\":\"1276\",\"type\":\"Circle\"},{\"attributes\":{},\"id\":\"1308\",\"type\":\"UnionRenderers\"},{\"attributes\":{},\"id\":\"1249\",\"type\":\"PanTool\"},{\"attributes\":{\"ticker\":{\"id\":\"1240\",\"type\":\"BasicTicker\"}},\"id\":\"1243\",\"type\":\"Grid\"},{\"attributes\":{\"data_source\":{\"id\":\"1264\",\"type\":\"ColumnDataSource\"},\"glyph\":{\"id\":\"1269\",\"type\":\"Circle\"},\"hover_glyph\":null,\"muted_glyph\":null,\"nonselection_glyph\":{\"id\":\"1270\",\"type\":\"Circle\"},\"selection_glyph\":null,\"view\":{\"id\":\"1267\",\"type\":\"CDSView\"}},\"id\":\"1271\",\"type\":\"GlyphRenderer\"},{\"attributes\":{\"data_source\":{\"id\":\"1264\",\"type\":\"ColumnDataSource\"},\"glyph\":{\"id\":\"1275\",\"type\":\"Circle\"},\"hover_glyph\":null,\"muted_glyph\":null,\"nonselection_glyph\":{\"id\":\"1276\",\"type\":\"Circle\"},\"selection_glyph\":null,\"view\":{\"id\":\"1273\",\"type\":\"CDSView\"}},\"id\":\"1277\",\"type\":\"GlyphRenderer\"},{\"attributes\":{\"fill_alpha\":{\"value\":0.1},\"fill_color\":{\"value\":\"#1f77b4\"},\"line_alpha\":{\"value\":0.1},\"line_color\":{\"value\":\"#1f77b4\"},\"x\":{\"field\":\"x\"},\"y\":{\"field\":\"y\"}},\"id\":\"1270\",\"type\":\"Circle\"},{\"attributes\":{\"fill_color\":{\"field\":\"label\",\"transform\":{\"id\":\"1265\",\"type\":\"CategoricalColorMapper\"}},\"line_color\":{\"field\":\"label\",\"transform\":{\"id\":\"1265\",\"type\":\"CategoricalColorMapper\"}},\"x\":{\"field\":\"x\"},\"y\":{\"field\":\"y\"}},\"id\":\"1275\",\"type\":\"Circle\"},{\"attributes\":{\"axis_label\":\"# heterozygotes\",\"formatter\":{\"id\":\"1304\",\"type\":\"BasicTickFormatter\"},\"ticker\":{\"id\":\"1245\",\"type\":\"BasicTicker\"}},\"id\":\"1244\",\"type\":\"LinearAxis\"},{\"attributes\":{\"callback\":null},\"id\":\"1233\",\"type\":\"DataRange1d\"},{\"attributes\":{\"label\":{\"value\":\"false\"},\"renderers\":[{\"id\":\"1271\",\"type\":\"GlyphRenderer\"}]},\"id\":\"1278\",\"type\":\"LegendItem\"},{\"attributes\":{},\"id\":\"1302\",\"type\":\"BasicTickFormatter\"},{\"attributes\":{},\"id\":\"1250\",\"type\":\"WheelZoomTool\"},{\"attributes\":{\"column_name\":\"label\",\"group\":\"true\"},\"id\":\"1272\",\"type\":\"GroupFilter\"},{\"attributes\":{},\"id\":\"1305\",\"type\":\"BasicTicker\"},{\"attributes\":{},\"id\":\"1307\",\"type\":\"Selection\"},{\"attributes\":{\"dimension\":1,\"ticker\":{\"id\":\"1245\",\"type\":\"BasicTicker\"}},\"id\":\"1248\",\"type\":\"Grid\"},{\"attributes\":{\"click_policy\":\"hide\",\"items\":[{\"id\":\"1278\",\"type\":\"LegendItem\"},{\"id\":\"1279\",\"type\":\"LegendItem\"}]},\"id\":\"1280\",\"type\":\"Legend\"},{\"attributes\":{},\"id\":\"1254\",\"type\":\"HelpTool\"},{\"attributes\":{},\"id\":\"1240\",\"type\":\"BasicTicker\"},{\"attributes\":{\"filters\":[{\"id\":\"1266\",\"type\":\"GroupFilter\"}],\"source\":{\"id\":\"1264\",\"type\":\"ColumnDataSource\"}},\"id\":\"1267\",\"type\":\"CDSView\"}],\"root_ids\":[\"1228\"]},\"title\":\"Bokeh Application\",\"version\":\"1.2.0\"}};\n",
       "  var render_items = [{\"docid\":\"10be7060-9825-45b8-af5e-1a7355366e0b\",\"roots\":{\"1228\":\"064eaf7a-0f31-4111-9241-7791c40a8f61\"}}];\n",
       "  root.Bokeh.embed.embed_items_notebook(docs_json, render_items);\n",
       "\n",
       "  }\n",
       "  if (root.Bokeh !== undefined) {\n",
       "    embed_document(root);\n",
       "  } else {\n",
       "    var attempts = 0;\n",
       "    var timer = setInterval(function(root) {\n",
       "      if (root.Bokeh !== undefined) {\n",
       "        embed_document(root);\n",
       "        clearInterval(timer);\n",
       "      }\n",
       "      attempts++;\n",
       "      if (attempts > 100) {\n",
       "        console.log(\"Bokeh: ERROR: Unable to run BokehJS code because BokehJS library is missing\");\n",
       "        clearInterval(timer);\n",
       "      }\n",
       "    }, 10, root)\n",
       "  }\n",
       "})(window);"
      ],
      "application/vnd.bokehjs_exec.v0+json": ""
     },
     "metadata": {
      "application/vnd.bokehjs_exec.v0+json": {
       "id": "1228"
      }
     },
     "output_type": "display_data"
    }
   ],
   "source": [
    "p = hl.plot.scatter(mt.sample_qc.gq_stats.mean, mt.sample_qc.n_het, label=mt.sex_mismatch, title='', xlabel='GQ mean', ylabel='# heterozygotes')\n",
    "p.plot_width = 800\n",
    "p.plot_height = 500\n",
    "show(p)"
   ]
  },
  {
   "cell_type": "code",
   "execution_count": null,
   "metadata": {},
   "outputs": [],
   "source": []
  }
 ],
 "metadata": {
  "kernelspec": {
   "display_name": "Python [conda env:fargen-1-exome]",
   "language": "python",
   "name": "conda-env-fargen-1-exome-py"
  },
  "language_info": {
   "codemirror_mode": {
    "name": "ipython",
    "version": 3
   },
   "file_extension": ".py",
   "mimetype": "text/x-python",
   "name": "python",
   "nbconvert_exporter": "python",
   "pygments_lexer": "ipython3",
   "version": "3.7.10"
  }
 },
 "nbformat": 4,
 "nbformat_minor": 4
}
