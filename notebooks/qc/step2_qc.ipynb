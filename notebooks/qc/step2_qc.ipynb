{
 "cells": [
  {
   "cell_type": "markdown",
   "id": "6b46d6e6-3060-4ed7-8b35-6a09fd271204",
   "metadata": {},
   "source": [
    "# Quality control"
   ]
  },
  {
   "cell_type": "code",
   "execution_count": 1,
   "id": "million-damages",
   "metadata": {},
   "outputs": [
    {
     "name": "stdout",
     "output_type": "stream",
     "text": [
      "2021-09-01 16:05:07 WARN  NativeCodeLoader:62 - Unable to load native-hadoop library for your platform... using builtin-java classes where applicable\n"
     ]
    },
    {
     "name": "stderr",
     "output_type": "stream",
     "text": [
      "Setting default log level to \"WARN\".\n",
      "To adjust logging level use sc.setLogLevel(newLevel). For SparkR, use setLogLevel(newLevel).\n"
     ]
    },
    {
     "name": "stdout",
     "output_type": "stream",
     "text": [
      "2021-09-01 16:05:08 WARN  Hail:37 - This Hail JAR was compiled for Spark 2.4.5, running with Spark 2.4.1.\n",
      "  Compatibility is not guaranteed.\n"
     ]
    },
    {
     "name": "stderr",
     "output_type": "stream",
     "text": [
      "Running on Apache Spark version 2.4.1\n",
      "SparkUI available at http://hms-beagle-848846b477-8tkk6:4040\n",
      "Welcome to\n",
      "     __  __     <>__\n",
      "    / /_/ /__  __/ /\n",
      "   / __  / _ `/ / /\n",
      "  /_/ /_/\\_,_/_/_/   version 0.2.61-3c86d3ba497a\n",
      "LOGGING: writing to /home/olavur/experiments/2020-11-13_fargen1_exome_analysis/fargen-1-exome/notebooks/qc/hail-20210901-1605-0.2.61-3c86d3ba497a.log\n"
     ]
    }
   ],
   "source": [
    "import hail as hl\n",
    "hl.init(spark_conf={'spark.driver.memory': '10g'}, tmp_dir='/home/olavur/tmp')"
   ]
  },
  {
   "cell_type": "code",
   "execution_count": 2,
   "id": "analyzed-warrant",
   "metadata": {},
   "outputs": [
    {
     "data": {
      "text/html": [
       "\n",
       "    <div class=\"bk-root\">\n",
       "        <a href=\"https://bokeh.pydata.org\" target=\"_blank\" class=\"bk-logo bk-logo-small bk-logo-notebook\"></a>\n",
       "        <span id=\"1001\">Loading BokehJS ...</span>\n",
       "    </div>"
      ]
     },
     "metadata": {},
     "output_type": "display_data"
    },
    {
     "data": {
      "application/javascript": [
       "\n",
       "(function(root) {\n",
       "  function now() {\n",
       "    return new Date();\n",
       "  }\n",
       "\n",
       "  var force = true;\n",
       "\n",
       "  if (typeof root._bokeh_onload_callbacks === \"undefined\" || force === true) {\n",
       "    root._bokeh_onload_callbacks = [];\n",
       "    root._bokeh_is_loading = undefined;\n",
       "  }\n",
       "\n",
       "  var JS_MIME_TYPE = 'application/javascript';\n",
       "  var HTML_MIME_TYPE = 'text/html';\n",
       "  var EXEC_MIME_TYPE = 'application/vnd.bokehjs_exec.v0+json';\n",
       "  var CLASS_NAME = 'output_bokeh rendered_html';\n",
       "\n",
       "  /**\n",
       "   * Render data to the DOM node\n",
       "   */\n",
       "  function render(props, node) {\n",
       "    var script = document.createElement(\"script\");\n",
       "    node.appendChild(script);\n",
       "  }\n",
       "\n",
       "  /**\n",
       "   * Handle when an output is cleared or removed\n",
       "   */\n",
       "  function handleClearOutput(event, handle) {\n",
       "    var cell = handle.cell;\n",
       "\n",
       "    var id = cell.output_area._bokeh_element_id;\n",
       "    var server_id = cell.output_area._bokeh_server_id;\n",
       "    // Clean up Bokeh references\n",
       "    if (id != null && id in Bokeh.index) {\n",
       "      Bokeh.index[id].model.document.clear();\n",
       "      delete Bokeh.index[id];\n",
       "    }\n",
       "\n",
       "    if (server_id !== undefined) {\n",
       "      // Clean up Bokeh references\n",
       "      var cmd = \"from bokeh.io.state import curstate; print(curstate().uuid_to_server['\" + server_id + \"'].get_sessions()[0].document.roots[0]._id)\";\n",
       "      cell.notebook.kernel.execute(cmd, {\n",
       "        iopub: {\n",
       "          output: function(msg) {\n",
       "            var id = msg.content.text.trim();\n",
       "            if (id in Bokeh.index) {\n",
       "              Bokeh.index[id].model.document.clear();\n",
       "              delete Bokeh.index[id];\n",
       "            }\n",
       "          }\n",
       "        }\n",
       "      });\n",
       "      // Destroy server and session\n",
       "      var cmd = \"import bokeh.io.notebook as ion; ion.destroy_server('\" + server_id + \"')\";\n",
       "      cell.notebook.kernel.execute(cmd);\n",
       "    }\n",
       "  }\n",
       "\n",
       "  /**\n",
       "   * Handle when a new output is added\n",
       "   */\n",
       "  function handleAddOutput(event, handle) {\n",
       "    var output_area = handle.output_area;\n",
       "    var output = handle.output;\n",
       "\n",
       "    // limit handleAddOutput to display_data with EXEC_MIME_TYPE content only\n",
       "    if ((output.output_type != \"display_data\") || (!output.data.hasOwnProperty(EXEC_MIME_TYPE))) {\n",
       "      return\n",
       "    }\n",
       "\n",
       "    var toinsert = output_area.element.find(\".\" + CLASS_NAME.split(' ')[0]);\n",
       "\n",
       "    if (output.metadata[EXEC_MIME_TYPE][\"id\"] !== undefined) {\n",
       "      toinsert[toinsert.length - 1].firstChild.textContent = output.data[JS_MIME_TYPE];\n",
       "      // store reference to embed id on output_area\n",
       "      output_area._bokeh_element_id = output.metadata[EXEC_MIME_TYPE][\"id\"];\n",
       "    }\n",
       "    if (output.metadata[EXEC_MIME_TYPE][\"server_id\"] !== undefined) {\n",
       "      var bk_div = document.createElement(\"div\");\n",
       "      bk_div.innerHTML = output.data[HTML_MIME_TYPE];\n",
       "      var script_attrs = bk_div.children[0].attributes;\n",
       "      for (var i = 0; i < script_attrs.length; i++) {\n",
       "        toinsert[toinsert.length - 1].firstChild.setAttribute(script_attrs[i].name, script_attrs[i].value);\n",
       "      }\n",
       "      // store reference to server id on output_area\n",
       "      output_area._bokeh_server_id = output.metadata[EXEC_MIME_TYPE][\"server_id\"];\n",
       "    }\n",
       "  }\n",
       "\n",
       "  function register_renderer(events, OutputArea) {\n",
       "\n",
       "    function append_mime(data, metadata, element) {\n",
       "      // create a DOM node to render to\n",
       "      var toinsert = this.create_output_subarea(\n",
       "        metadata,\n",
       "        CLASS_NAME,\n",
       "        EXEC_MIME_TYPE\n",
       "      );\n",
       "      this.keyboard_manager.register_events(toinsert);\n",
       "      // Render to node\n",
       "      var props = {data: data, metadata: metadata[EXEC_MIME_TYPE]};\n",
       "      render(props, toinsert[toinsert.length - 1]);\n",
       "      element.append(toinsert);\n",
       "      return toinsert\n",
       "    }\n",
       "\n",
       "    /* Handle when an output is cleared or removed */\n",
       "    events.on('clear_output.CodeCell', handleClearOutput);\n",
       "    events.on('delete.Cell', handleClearOutput);\n",
       "\n",
       "    /* Handle when a new output is added */\n",
       "    events.on('output_added.OutputArea', handleAddOutput);\n",
       "\n",
       "    /**\n",
       "     * Register the mime type and append_mime function with output_area\n",
       "     */\n",
       "    OutputArea.prototype.register_mime_type(EXEC_MIME_TYPE, append_mime, {\n",
       "      /* Is output safe? */\n",
       "      safe: true,\n",
       "      /* Index of renderer in `output_area.display_order` */\n",
       "      index: 0\n",
       "    });\n",
       "  }\n",
       "\n",
       "  // register the mime type if in Jupyter Notebook environment and previously unregistered\n",
       "  if (root.Jupyter !== undefined) {\n",
       "    var events = require('base/js/events');\n",
       "    var OutputArea = require('notebook/js/outputarea').OutputArea;\n",
       "\n",
       "    if (OutputArea.prototype.mime_types().indexOf(EXEC_MIME_TYPE) == -1) {\n",
       "      register_renderer(events, OutputArea);\n",
       "    }\n",
       "  }\n",
       "\n",
       "  \n",
       "  if (typeof (root._bokeh_timeout) === \"undefined\" || force === true) {\n",
       "    root._bokeh_timeout = Date.now() + 5000;\n",
       "    root._bokeh_failed_load = false;\n",
       "  }\n",
       "\n",
       "  var NB_LOAD_WARNING = {'data': {'text/html':\n",
       "     \"<div style='background-color: #fdd'>\\n\"+\n",
       "     \"<p>\\n\"+\n",
       "     \"BokehJS does not appear to have successfully loaded. If loading BokehJS from CDN, this \\n\"+\n",
       "     \"may be due to a slow or bad network connection. Possible fixes:\\n\"+\n",
       "     \"</p>\\n\"+\n",
       "     \"<ul>\\n\"+\n",
       "     \"<li>re-rerun `output_notebook()` to attempt to load from CDN again, or</li>\\n\"+\n",
       "     \"<li>use INLINE resources instead, as so:</li>\\n\"+\n",
       "     \"</ul>\\n\"+\n",
       "     \"<code>\\n\"+\n",
       "     \"from bokeh.resources import INLINE\\n\"+\n",
       "     \"output_notebook(resources=INLINE)\\n\"+\n",
       "     \"</code>\\n\"+\n",
       "     \"</div>\"}};\n",
       "\n",
       "  function display_loaded() {\n",
       "    var el = document.getElementById(\"1001\");\n",
       "    if (el != null) {\n",
       "      el.textContent = \"BokehJS is loading...\";\n",
       "    }\n",
       "    if (root.Bokeh !== undefined) {\n",
       "      if (el != null) {\n",
       "        el.textContent = \"BokehJS \" + root.Bokeh.version + \" successfully loaded.\";\n",
       "      }\n",
       "    } else if (Date.now() < root._bokeh_timeout) {\n",
       "      setTimeout(display_loaded, 100)\n",
       "    }\n",
       "  }\n",
       "\n",
       "\n",
       "  function run_callbacks() {\n",
       "    try {\n",
       "      root._bokeh_onload_callbacks.forEach(function(callback) {\n",
       "        if (callback != null)\n",
       "          callback();\n",
       "      });\n",
       "    } finally {\n",
       "      delete root._bokeh_onload_callbacks\n",
       "    }\n",
       "    console.debug(\"Bokeh: all callbacks have finished\");\n",
       "  }\n",
       "\n",
       "  function load_libs(css_urls, js_urls, callback) {\n",
       "    if (css_urls == null) css_urls = [];\n",
       "    if (js_urls == null) js_urls = [];\n",
       "\n",
       "    root._bokeh_onload_callbacks.push(callback);\n",
       "    if (root._bokeh_is_loading > 0) {\n",
       "      console.debug(\"Bokeh: BokehJS is being loaded, scheduling callback at\", now());\n",
       "      return null;\n",
       "    }\n",
       "    if (js_urls == null || js_urls.length === 0) {\n",
       "      run_callbacks();\n",
       "      return null;\n",
       "    }\n",
       "    console.debug(\"Bokeh: BokehJS not loaded, scheduling load and callback at\", now());\n",
       "    root._bokeh_is_loading = css_urls.length + js_urls.length;\n",
       "\n",
       "    function on_load() {\n",
       "      root._bokeh_is_loading--;\n",
       "      if (root._bokeh_is_loading === 0) {\n",
       "        console.debug(\"Bokeh: all BokehJS libraries/stylesheets loaded\");\n",
       "        run_callbacks()\n",
       "      }\n",
       "    }\n",
       "\n",
       "    function on_error() {\n",
       "      console.error(\"failed to load \" + url);\n",
       "    }\n",
       "\n",
       "    for (var i = 0; i < css_urls.length; i++) {\n",
       "      var url = css_urls[i];\n",
       "      const element = document.createElement(\"link\");\n",
       "      element.onload = on_load;\n",
       "      element.onerror = on_error;\n",
       "      element.rel = \"stylesheet\";\n",
       "      element.type = \"text/css\";\n",
       "      element.href = url;\n",
       "      console.debug(\"Bokeh: injecting link tag for BokehJS stylesheet: \", url);\n",
       "      document.body.appendChild(element);\n",
       "    }\n",
       "\n",
       "    for (var i = 0; i < js_urls.length; i++) {\n",
       "      var url = js_urls[i];\n",
       "      var element = document.createElement('script');\n",
       "      element.onload = on_load;\n",
       "      element.onerror = on_error;\n",
       "      element.async = false;\n",
       "      element.src = url;\n",
       "      console.debug(\"Bokeh: injecting script tag for BokehJS library: \", url);\n",
       "      document.head.appendChild(element);\n",
       "    }\n",
       "  };var element = document.getElementById(\"1001\");\n",
       "  if (element == null) {\n",
       "    console.error(\"Bokeh: ERROR: autoload.js configured with elementid '1001' but no matching script tag was found. \")\n",
       "    return false;\n",
       "  }\n",
       "\n",
       "  function inject_raw_css(css) {\n",
       "    const element = document.createElement(\"style\");\n",
       "    element.appendChild(document.createTextNode(css));\n",
       "    document.body.appendChild(element);\n",
       "  }\n",
       "\n",
       "  var js_urls = [\"https://cdn.pydata.org/bokeh/release/bokeh-1.2.0.min.js\", \"https://cdn.pydata.org/bokeh/release/bokeh-widgets-1.2.0.min.js\", \"https://cdn.pydata.org/bokeh/release/bokeh-tables-1.2.0.min.js\", \"https://cdn.pydata.org/bokeh/release/bokeh-gl-1.2.0.min.js\"];\n",
       "  var css_urls = [\"https://cdn.pydata.org/bokeh/release/bokeh-1.2.0.min.css\", \"https://cdn.pydata.org/bokeh/release/bokeh-widgets-1.2.0.min.css\", \"https://cdn.pydata.org/bokeh/release/bokeh-tables-1.2.0.min.css\"];\n",
       "\n",
       "  var inline_js = [\n",
       "    function(Bokeh) {\n",
       "      Bokeh.set_log_level(\"info\");\n",
       "    },\n",
       "    \n",
       "    function(Bokeh) {\n",
       "      \n",
       "    },\n",
       "    function(Bokeh) {} // ensure no trailing comma for IE\n",
       "  ];\n",
       "\n",
       "  function run_inline_js() {\n",
       "    \n",
       "    if ((root.Bokeh !== undefined) || (force === true)) {\n",
       "      for (var i = 0; i < inline_js.length; i++) {\n",
       "        inline_js[i].call(root, root.Bokeh);\n",
       "      }if (force === true) {\n",
       "        display_loaded();\n",
       "      }} else if (Date.now() < root._bokeh_timeout) {\n",
       "      setTimeout(run_inline_js, 100);\n",
       "    } else if (!root._bokeh_failed_load) {\n",
       "      console.log(\"Bokeh: BokehJS failed to load within specified timeout.\");\n",
       "      root._bokeh_failed_load = true;\n",
       "    } else if (force !== true) {\n",
       "      var cell = $(document.getElementById(\"1001\")).parents('.cell').data().cell;\n",
       "      cell.output_area.append_execute_result(NB_LOAD_WARNING)\n",
       "    }\n",
       "\n",
       "  }\n",
       "\n",
       "  if (root._bokeh_is_loading === 0) {\n",
       "    console.debug(\"Bokeh: BokehJS loaded, going straight to plotting\");\n",
       "    run_inline_js();\n",
       "  } else {\n",
       "    load_libs(css_urls, js_urls, function() {\n",
       "      console.debug(\"Bokeh: BokehJS plotting callback run at\", now());\n",
       "      run_inline_js();\n",
       "    });\n",
       "  }\n",
       "}(window));"
      ],
      "application/vnd.bokehjs_load.v0+json": "\n(function(root) {\n  function now() {\n    return new Date();\n  }\n\n  var force = true;\n\n  if (typeof root._bokeh_onload_callbacks === \"undefined\" || force === true) {\n    root._bokeh_onload_callbacks = [];\n    root._bokeh_is_loading = undefined;\n  }\n\n  \n\n  \n  if (typeof (root._bokeh_timeout) === \"undefined\" || force === true) {\n    root._bokeh_timeout = Date.now() + 5000;\n    root._bokeh_failed_load = false;\n  }\n\n  var NB_LOAD_WARNING = {'data': {'text/html':\n     \"<div style='background-color: #fdd'>\\n\"+\n     \"<p>\\n\"+\n     \"BokehJS does not appear to have successfully loaded. If loading BokehJS from CDN, this \\n\"+\n     \"may be due to a slow or bad network connection. Possible fixes:\\n\"+\n     \"</p>\\n\"+\n     \"<ul>\\n\"+\n     \"<li>re-rerun `output_notebook()` to attempt to load from CDN again, or</li>\\n\"+\n     \"<li>use INLINE resources instead, as so:</li>\\n\"+\n     \"</ul>\\n\"+\n     \"<code>\\n\"+\n     \"from bokeh.resources import INLINE\\n\"+\n     \"output_notebook(resources=INLINE)\\n\"+\n     \"</code>\\n\"+\n     \"</div>\"}};\n\n  function display_loaded() {\n    var el = document.getElementById(\"1001\");\n    if (el != null) {\n      el.textContent = \"BokehJS is loading...\";\n    }\n    if (root.Bokeh !== undefined) {\n      if (el != null) {\n        el.textContent = \"BokehJS \" + root.Bokeh.version + \" successfully loaded.\";\n      }\n    } else if (Date.now() < root._bokeh_timeout) {\n      setTimeout(display_loaded, 100)\n    }\n  }\n\n\n  function run_callbacks() {\n    try {\n      root._bokeh_onload_callbacks.forEach(function(callback) {\n        if (callback != null)\n          callback();\n      });\n    } finally {\n      delete root._bokeh_onload_callbacks\n    }\n    console.debug(\"Bokeh: all callbacks have finished\");\n  }\n\n  function load_libs(css_urls, js_urls, callback) {\n    if (css_urls == null) css_urls = [];\n    if (js_urls == null) js_urls = [];\n\n    root._bokeh_onload_callbacks.push(callback);\n    if (root._bokeh_is_loading > 0) {\n      console.debug(\"Bokeh: BokehJS is being loaded, scheduling callback at\", now());\n      return null;\n    }\n    if (js_urls == null || js_urls.length === 0) {\n      run_callbacks();\n      return null;\n    }\n    console.debug(\"Bokeh: BokehJS not loaded, scheduling load and callback at\", now());\n    root._bokeh_is_loading = css_urls.length + js_urls.length;\n\n    function on_load() {\n      root._bokeh_is_loading--;\n      if (root._bokeh_is_loading === 0) {\n        console.debug(\"Bokeh: all BokehJS libraries/stylesheets loaded\");\n        run_callbacks()\n      }\n    }\n\n    function on_error() {\n      console.error(\"failed to load \" + url);\n    }\n\n    for (var i = 0; i < css_urls.length; i++) {\n      var url = css_urls[i];\n      const element = document.createElement(\"link\");\n      element.onload = on_load;\n      element.onerror = on_error;\n      element.rel = \"stylesheet\";\n      element.type = \"text/css\";\n      element.href = url;\n      console.debug(\"Bokeh: injecting link tag for BokehJS stylesheet: \", url);\n      document.body.appendChild(element);\n    }\n\n    for (var i = 0; i < js_urls.length; i++) {\n      var url = js_urls[i];\n      var element = document.createElement('script');\n      element.onload = on_load;\n      element.onerror = on_error;\n      element.async = false;\n      element.src = url;\n      console.debug(\"Bokeh: injecting script tag for BokehJS library: \", url);\n      document.head.appendChild(element);\n    }\n  };var element = document.getElementById(\"1001\");\n  if (element == null) {\n    console.error(\"Bokeh: ERROR: autoload.js configured with elementid '1001' but no matching script tag was found. \")\n    return false;\n  }\n\n  function inject_raw_css(css) {\n    const element = document.createElement(\"style\");\n    element.appendChild(document.createTextNode(css));\n    document.body.appendChild(element);\n  }\n\n  var js_urls = [\"https://cdn.pydata.org/bokeh/release/bokeh-1.2.0.min.js\", \"https://cdn.pydata.org/bokeh/release/bokeh-widgets-1.2.0.min.js\", \"https://cdn.pydata.org/bokeh/release/bokeh-tables-1.2.0.min.js\", \"https://cdn.pydata.org/bokeh/release/bokeh-gl-1.2.0.min.js\"];\n  var css_urls = [\"https://cdn.pydata.org/bokeh/release/bokeh-1.2.0.min.css\", \"https://cdn.pydata.org/bokeh/release/bokeh-widgets-1.2.0.min.css\", \"https://cdn.pydata.org/bokeh/release/bokeh-tables-1.2.0.min.css\"];\n\n  var inline_js = [\n    function(Bokeh) {\n      Bokeh.set_log_level(\"info\");\n    },\n    \n    function(Bokeh) {\n      \n    },\n    function(Bokeh) {} // ensure no trailing comma for IE\n  ];\n\n  function run_inline_js() {\n    \n    if ((root.Bokeh !== undefined) || (force === true)) {\n      for (var i = 0; i < inline_js.length; i++) {\n        inline_js[i].call(root, root.Bokeh);\n      }if (force === true) {\n        display_loaded();\n      }} else if (Date.now() < root._bokeh_timeout) {\n      setTimeout(run_inline_js, 100);\n    } else if (!root._bokeh_failed_load) {\n      console.log(\"Bokeh: BokehJS failed to load within specified timeout.\");\n      root._bokeh_failed_load = true;\n    } else if (force !== true) {\n      var cell = $(document.getElementById(\"1001\")).parents('.cell').data().cell;\n      cell.output_area.append_execute_result(NB_LOAD_WARNING)\n    }\n\n  }\n\n  if (root._bokeh_is_loading === 0) {\n    console.debug(\"Bokeh: BokehJS loaded, going straight to plotting\");\n    run_inline_js();\n  } else {\n    load_libs(css_urls, js_urls, function() {\n      console.debug(\"Bokeh: BokehJS plotting callback run at\", now());\n      run_inline_js();\n    });\n  }\n}(window));"
     },
     "metadata": {},
     "output_type": "display_data"
    }
   ],
   "source": [
    "from bokeh.io import show, output_notebook\n",
    "from bokeh.layouts import gridplot\n",
    "from bokeh.models.scales import LogScale\n",
    "output_notebook()"
   ]
  },
  {
   "cell_type": "code",
   "execution_count": 3,
   "id": "a90371f0-f6d2-4b83-a3ef-82b3d4e3256e",
   "metadata": {},
   "outputs": [],
   "source": [
    "import pandas as pd"
   ]
  },
  {
   "cell_type": "markdown",
   "id": "canadian-india",
   "metadata": {},
   "source": [
    "Load variant data."
   ]
  },
  {
   "cell_type": "code",
   "execution_count": 4,
   "id": "assigned-centre",
   "metadata": {},
   "outputs": [],
   "source": [
    "BASE_DIR = '/home/olavur/experiments/2020-11-13_fargen1_exome_analysis'\n",
    "mt = hl.read_matrix_table(BASE_DIR + '/data/mt/variants.mt')"
   ]
  },
  {
   "cell_type": "markdown",
   "id": "8c78f15a-44f9-4615-8474-3de1a817e107",
   "metadata": {},
   "source": [
    "Split multi-allelic variants into separate rows. This makes a lot of analyses much easier.\n",
    "\n",
    "**FIXME:** while `split_multi_hts()` is really useful, it is causing me a lot of headaches in some other areas."
   ]
  },
  {
   "cell_type": "code",
   "execution_count": 5,
   "id": "079945ea-ec80-44c2-aabb-7c6f270e50f5",
   "metadata": {},
   "outputs": [],
   "source": [
    "mt = hl.split_multi_hts(mt)"
   ]
  },
  {
   "cell_type": "code",
   "execution_count": 6,
   "id": "e3f04d99-9bd4-4205-935b-abb721d3bff0",
   "metadata": {},
   "outputs": [
    {
     "name": "stderr",
     "output_type": "stream",
     "text": [
      "[Stage 1:========================================>               (69 + 24) / 96]"
     ]
    },
    {
     "name": "stdout",
     "output_type": "stream",
     "text": [
      "Number of variants: 3358693\n",
      "Number of samples: 474\n"
     ]
    },
    {
     "name": "stderr",
     "output_type": "stream",
     "text": [
      "[Stage 1:======================================================>  (92 + 4) / 96]"
     ]
    }
   ],
   "source": [
    "n_variants, n_samples = mt.count()\n",
    "print('Number of variants: ' + str(n_variants))\n",
    "print('Number of samples: ' + str(n_samples))"
   ]
  },
  {
   "cell_type": "code",
   "execution_count": 7,
   "id": "36baef4b-3254-407e-9964-39d8197a9f04",
   "metadata": {},
   "outputs": [],
   "source": [
    "def variant_counts(mt):\n",
    "    # Count number of variants, SNPs and indels. Only first allele in alternate allele list is considered.\n",
    "    variant_counts_struct = mt.aggregate_rows(hl.struct(\n",
    "        n_variants = hl.agg.count(),\n",
    "        n_snps = hl.agg.count_where(hl.is_snp(mt.alleles[0], mt.alleles[1])) / hl.agg.count(),\n",
    "        n_indels = hl.agg.count_where(hl.is_indel(mt.alleles[0], mt.alleles[1])) / hl.agg.count()))\n",
    "    \n",
    "    variant_counts_pd = pd.DataFrame(variant_counts_struct.values(), index=variant_counts_struct.keys(), columns=[''])\n",
    "    return variant_counts_pd"
   ]
  },
  {
   "cell_type": "code",
   "execution_count": 8,
   "id": "85336743-bbd2-4f11-9590-3db3d57f0bc0",
   "metadata": {},
   "outputs": [
    {
     "name": "stderr",
     "output_type": "stream",
     "text": [
      "[Stage 2:=====================================================> (188 + 4) / 192]"
     ]
    },
    {
     "data": {
      "text/html": [
       "<div>\n",
       "<style scoped>\n",
       "    .dataframe tbody tr th:only-of-type {\n",
       "        vertical-align: middle;\n",
       "    }\n",
       "\n",
       "    .dataframe tbody tr th {\n",
       "        vertical-align: top;\n",
       "    }\n",
       "\n",
       "    .dataframe thead th {\n",
       "        text-align: right;\n",
       "    }\n",
       "</style>\n",
       "<table border=\"1\" class=\"dataframe\">\n",
       "  <thead>\n",
       "    <tr style=\"text-align: right;\">\n",
       "      <th></th>\n",
       "      <th></th>\n",
       "    </tr>\n",
       "  </thead>\n",
       "  <tbody>\n",
       "    <tr>\n",
       "      <th>n_variants</th>\n",
       "      <td>3.358693e+06</td>\n",
       "    </tr>\n",
       "    <tr>\n",
       "      <th>n_snps</th>\n",
       "      <td>4.001976e-01</td>\n",
       "    </tr>\n",
       "    <tr>\n",
       "      <th>n_indels</th>\n",
       "      <td>5.998024e-01</td>\n",
       "    </tr>\n",
       "  </tbody>\n",
       "</table>\n",
       "</div>"
      ],
      "text/plain": [
       "                        \n",
       "n_variants  3.358693e+06\n",
       "n_snps      4.001976e-01\n",
       "n_indels    5.998024e-01"
      ]
     },
     "execution_count": 8,
     "metadata": {},
     "output_type": "execute_result"
    }
   ],
   "source": [
    "variant_counts(mt)"
   ]
  },
  {
   "cell_type": "markdown",
   "id": "deadly-wales",
   "metadata": {},
   "source": [
    "## VQSR filters\n",
    "\n",
    "We will remove variants not passing the VQSR filters. First, however, we will look a bit closer into these values."
   ]
  },
  {
   "cell_type": "code",
   "execution_count": 9,
   "id": "legitimate-selection",
   "metadata": {},
   "outputs": [],
   "source": [
    "mt = mt.transmute_rows(filters=hl.delimit(mt.filters, ','))"
   ]
  },
  {
   "cell_type": "markdown",
   "id": "d3a41375-28d5-411f-a6a6-114f7fc52cdc",
   "metadata": {},
   "source": [
    "We will calculate some mean QC statistics for each VQSR tranch."
   ]
  },
  {
   "cell_type": "code",
   "execution_count": 10,
   "id": "fb4e3d8c-b958-41d1-baab-82e351eb2999",
   "metadata": {},
   "outputs": [],
   "source": [
    "# Calculate variant statistics.\n",
    "mt = hl.variant_qc(mt)\n",
    "\n",
    "# Get rows table.\n",
    "rows_ht = mt.rows()\n",
    "\n",
    "# Aggregate.\n",
    "result = (rows_ht.group_by(rows_ht.filters)\n",
    "         .aggregate(mean_gq = hl.agg.filter(~hl.is_nan(rows_ht.variant_qc.gq_stats.mean), hl.agg.mean(rows_ht.variant_qc.gq_stats.mean)),\n",
    "                   mean_dp = hl.agg.filter(~hl.is_nan(rows_ht.variant_qc.dp_stats.mean), hl.agg.mean(rows_ht.variant_qc.dp_stats.mean)),\n",
    "                   mean_af = hl.agg.filter(~hl.is_nan(rows_ht.variant_qc.AF[0]), hl.agg.mean(1 - rows_ht.variant_qc.AF[0])),\n",
    "                   mean_vqslod = hl.agg.filter(~hl.is_nan(rows_ht.info.VQSLOD), hl.agg.mean(rows_ht.info.VQSLOD)),\n",
    "                   n_variants = hl.agg.count()))"
   ]
  },
  {
   "cell_type": "markdown",
   "id": "5b233371-143e-468f-8548-f51fb1d8f09a",
   "metadata": {},
   "source": [
    "We convert the results to a Pandas dataframe."
   ]
  },
  {
   "cell_type": "code",
   "execution_count": 11,
   "id": "c8f1c0f1-0d81-4f58-b7fb-32a096be2a9e",
   "metadata": {},
   "outputs": [
    {
     "name": "stderr",
     "output_type": "stream",
     "text": [
      "[Stage 3:======================================================>(191 + 1) / 192]2021-09-01 16:06:15 Hail: INFO: Ordering unsorted dataset with network shuffle\n"
     ]
    }
   ],
   "source": [
    "vqsr_stats_pd = result.to_pandas()"
   ]
  },
  {
   "cell_type": "markdown",
   "id": "0016ab27-1509-407b-ae54-b8a8c6482ce8",
   "metadata": {},
   "source": [
    "Below we first print the statistics for the SNPs and then for the indels. The rows are sorted by mean genotype quality. The empty filter row (`filter=''`) corresponds to all unfiltered variants."
   ]
  },
  {
   "cell_type": "code",
   "execution_count": 12,
   "id": "d359bca6-35d9-4ebd-96dd-0304881f243c",
   "metadata": {},
   "outputs": [
    {
     "data": {
      "text/html": [
       "<div>\n",
       "<style scoped>\n",
       "    .dataframe tbody tr th:only-of-type {\n",
       "        vertical-align: middle;\n",
       "    }\n",
       "\n",
       "    .dataframe tbody tr th {\n",
       "        vertical-align: top;\n",
       "    }\n",
       "\n",
       "    .dataframe thead th {\n",
       "        text-align: right;\n",
       "    }\n",
       "</style>\n",
       "<table border=\"1\" class=\"dataframe\">\n",
       "  <thead>\n",
       "    <tr style=\"text-align: right;\">\n",
       "      <th></th>\n",
       "      <th>filters</th>\n",
       "      <th>mean_gq</th>\n",
       "      <th>mean_dp</th>\n",
       "      <th>mean_af</th>\n",
       "      <th>mean_vqslod</th>\n",
       "      <th>n_variants</th>\n",
       "    </tr>\n",
       "  </thead>\n",
       "  <tbody>\n",
       "    <tr>\n",
       "      <th>3</th>\n",
       "      <td>VQSRTrancheSNP99.00to99.90</td>\n",
       "      <td>38.370792</td>\n",
       "      <td>18.238171</td>\n",
       "      <td>0.014862</td>\n",
       "      <td>-1.060170</td>\n",
       "      <td>535602</td>\n",
       "    </tr>\n",
       "    <tr>\n",
       "      <th>4</th>\n",
       "      <td>VQSRTrancheSNP99.90to100.00</td>\n",
       "      <td>41.638284</td>\n",
       "      <td>24.347085</td>\n",
       "      <td>0.012312</td>\n",
       "      <td>-15.672791</td>\n",
       "      <td>363164</td>\n",
       "    </tr>\n",
       "    <tr>\n",
       "      <th>0</th>\n",
       "      <td></td>\n",
       "      <td>50.905433</td>\n",
       "      <td>22.646584</td>\n",
       "      <td>0.064824</td>\n",
       "      <td>inf</td>\n",
       "      <td>1504277</td>\n",
       "    </tr>\n",
       "  </tbody>\n",
       "</table>\n",
       "</div>"
      ],
      "text/plain": [
       "                       filters    mean_gq    mean_dp   mean_af  mean_vqslod  \\\n",
       "3   VQSRTrancheSNP99.00to99.90  38.370792  18.238171  0.014862    -1.060170   \n",
       "4  VQSRTrancheSNP99.90to100.00  41.638284  24.347085  0.012312   -15.672791   \n",
       "0                               50.905433  22.646584  0.064824          inf   \n",
       "\n",
       "   n_variants  \n",
       "3      535602  \n",
       "4      363164  \n",
       "0     1504277  "
      ]
     },
     "execution_count": 12,
     "metadata": {},
     "output_type": "execute_result"
    }
   ],
   "source": [
    "vqsr_stats_pd[vqsr_stats_pd.filters.isin(['VQSRTrancheSNP99.00to99.90', 'VQSRTrancheSNP99.90to100.00', ''])].sort_values('mean_gq')"
   ]
  },
  {
   "cell_type": "code",
   "execution_count": 13,
   "id": "4663e101-a483-42e1-8e02-e522a0459f2e",
   "metadata": {},
   "outputs": [
    {
     "data": {
      "text/html": [
       "<div>\n",
       "<style scoped>\n",
       "    .dataframe tbody tr th:only-of-type {\n",
       "        vertical-align: middle;\n",
       "    }\n",
       "\n",
       "    .dataframe tbody tr th {\n",
       "        vertical-align: top;\n",
       "    }\n",
       "\n",
       "    .dataframe thead th {\n",
       "        text-align: right;\n",
       "    }\n",
       "</style>\n",
       "<table border=\"1\" class=\"dataframe\">\n",
       "  <thead>\n",
       "    <tr style=\"text-align: right;\">\n",
       "      <th></th>\n",
       "      <th>filters</th>\n",
       "      <th>mean_gq</th>\n",
       "      <th>mean_dp</th>\n",
       "      <th>mean_af</th>\n",
       "      <th>mean_vqslod</th>\n",
       "      <th>n_variants</th>\n",
       "    </tr>\n",
       "  </thead>\n",
       "  <tbody>\n",
       "    <tr>\n",
       "      <th>1</th>\n",
       "      <td>VQSRTrancheINDEL99.00to99.90</td>\n",
       "      <td>39.146784</td>\n",
       "      <td>16.936859</td>\n",
       "      <td>0.003169</td>\n",
       "      <td>-1.528588</td>\n",
       "      <td>660377</td>\n",
       "    </tr>\n",
       "    <tr>\n",
       "      <th>0</th>\n",
       "      <td></td>\n",
       "      <td>50.905433</td>\n",
       "      <td>22.646584</td>\n",
       "      <td>0.064824</td>\n",
       "      <td>inf</td>\n",
       "      <td>1504277</td>\n",
       "    </tr>\n",
       "    <tr>\n",
       "      <th>2</th>\n",
       "      <td>VQSRTrancheINDEL99.90to100.00</td>\n",
       "      <td>54.085372</td>\n",
       "      <td>26.461966</td>\n",
       "      <td>0.005288</td>\n",
       "      <td>-5.745145</td>\n",
       "      <td>295273</td>\n",
       "    </tr>\n",
       "  </tbody>\n",
       "</table>\n",
       "</div>"
      ],
      "text/plain": [
       "                         filters    mean_gq    mean_dp   mean_af  mean_vqslod  \\\n",
       "1   VQSRTrancheINDEL99.00to99.90  39.146784  16.936859  0.003169    -1.528588   \n",
       "0                                 50.905433  22.646584  0.064824          inf   \n",
       "2  VQSRTrancheINDEL99.90to100.00  54.085372  26.461966  0.005288    -5.745145   \n",
       "\n",
       "   n_variants  \n",
       "1      660377  \n",
       "0     1504277  \n",
       "2      295273  "
      ]
     },
     "execution_count": 13,
     "metadata": {},
     "output_type": "execute_result"
    }
   ],
   "source": [
    "vqsr_stats_pd[vqsr_stats_pd.filters.isin(['VQSRTrancheINDEL99.00to99.90', 'VQSRTrancheINDEL99.90to100.00', ''])].sort_values('mean_gq')"
   ]
  },
  {
   "cell_type": "markdown",
   "id": "african-lotus",
   "metadata": {},
   "source": [
    "We will only look at the **high-quality variants** from now on. So we remove variants in the 99% to 99.9% and the 99.9% to 100% VQSR tranches, and keep only the unfiltered variants."
   ]
  },
  {
   "cell_type": "code",
   "execution_count": 14,
   "id": "numerous-mayor",
   "metadata": {},
   "outputs": [],
   "source": [
    "mt = mt.filter_rows(mt.filters == '')"
   ]
  },
  {
   "cell_type": "markdown",
   "id": "1787fb13-7a43-4dda-a577-3c91ffedd065",
   "metadata": {},
   "source": [
    "We check how many variants we have remaining after filtering."
   ]
  },
  {
   "cell_type": "markdown",
   "id": "9ec32319-dff2-4e01-90f8-3dd34cda8509",
   "metadata": {},
   "source": [
    "## Genotype QC"
   ]
  },
  {
   "cell_type": "code",
   "execution_count": 15,
   "id": "1a8c4b54-f898-4103-86d3-0360aa22e6f8",
   "metadata": {},
   "outputs": [
    {
     "name": "stderr",
     "output_type": "stream",
     "text": [
      "[Stage 8:======================================================>(191 + 1) / 192]"
     ]
    },
    {
     "data": {
      "text/html": [
       "\n",
       "\n",
       "\n",
       "\n",
       "\n",
       "\n",
       "  <div class=\"bk-root\" id=\"74fbfa55-b652-4df6-acc9-f3c11db1dd80\" data-root-id=\"1002\"></div>\n"
      ]
     },
     "metadata": {},
     "output_type": "display_data"
    },
    {
     "data": {
      "application/javascript": [
       "(function(root) {\n",
       "  function embed_document(root) {\n",
       "    \n",
       "  var docs_json = {\"8e4d61bc-8e8f-4bcb-82bd-7edd81d5fe76\":{\"roots\":{\"references\":[{\"attributes\":{\"background_fill_color\":{\"value\":\"#EEEEEE\"},\"below\":[{\"id\":\"1012\",\"type\":\"LinearAxis\"}],\"center\":[{\"id\":\"1016\",\"type\":\"Grid\"},{\"id\":\"1021\",\"type\":\"Grid\"}],\"left\":[{\"id\":\"1017\",\"type\":\"LinearAxis\"}],\"plot_height\":500,\"plot_width\":800,\"renderers\":[{\"id\":\"1038\",\"type\":\"GlyphRenderer\"}],\"title\":null,\"toolbar\":{\"id\":\"1028\",\"type\":\"Toolbar\"},\"x_range\":{\"id\":\"1004\",\"type\":\"Range1d\"},\"x_scale\":{\"id\":\"1008\",\"type\":\"LinearScale\"},\"y_range\":{\"id\":\"1006\",\"type\":\"DataRange1d\"},\"y_scale\":{\"id\":\"1010\",\"type\":\"LinearScale\"}},\"id\":\"1002\",\"subtype\":\"Figure\",\"type\":\"Plot\"},{\"attributes\":{\"callback\":null},\"id\":\"1006\",\"type\":\"DataRange1d\"},{\"attributes\":{},\"id\":\"1042\",\"type\":\"BasicTickFormatter\"},{\"attributes\":{},\"id\":\"1013\",\"type\":\"BasicTicker\"},{\"attributes\":{},\"id\":\"1018\",\"type\":\"BasicTicker\"},{\"attributes\":{\"dimension\":1,\"ticker\":{\"id\":\"1018\",\"type\":\"BasicTicker\"}},\"id\":\"1021\",\"type\":\"Grid\"},{\"attributes\":{\"bottom\":{\"value\":0},\"fill_color\":{\"value\":\"#1f77b4\"},\"left\":{\"field\":\"left\"},\"right\":{\"field\":\"right\"},\"top\":{\"field\":\"top\"}},\"id\":\"1036\",\"type\":\"Quad\"},{\"attributes\":{\"axis_label\":\"Frequency\",\"formatter\":{\"id\":\"1044\",\"type\":\"BasicTickFormatter\"},\"ticker\":{\"id\":\"1018\",\"type\":\"BasicTicker\"}},\"id\":\"1017\",\"type\":\"LinearAxis\"},{\"attributes\":{},\"id\":\"1045\",\"type\":\"Selection\"},{\"attributes\":{},\"id\":\"1044\",\"type\":\"BasicTickFormatter\"},{\"attributes\":{\"data_source\":{\"id\":\"1035\",\"type\":\"ColumnDataSource\"},\"glyph\":{\"id\":\"1036\",\"type\":\"Quad\"},\"hover_glyph\":null,\"muted_glyph\":null,\"nonselection_glyph\":{\"id\":\"1037\",\"type\":\"Quad\"},\"selection_glyph\":null,\"view\":{\"id\":\"1039\",\"type\":\"CDSView\"}},\"id\":\"1038\",\"type\":\"GlyphRenderer\"},{\"attributes\":{},\"id\":\"1046\",\"type\":\"UnionRenderers\"},{\"attributes\":{},\"id\":\"1008\",\"type\":\"LinearScale\"},{\"attributes\":{\"source\":{\"id\":\"1035\",\"type\":\"ColumnDataSource\"}},\"id\":\"1039\",\"type\":\"CDSView\"},{\"attributes\":{\"bottom\":{\"value\":0},\"fill_alpha\":{\"value\":0.1},\"fill_color\":{\"value\":\"#1f77b4\"},\"left\":{\"field\":\"left\"},\"line_alpha\":{\"value\":0.1},\"line_color\":{\"value\":\"#1f77b4\"},\"right\":{\"field\":\"right\"},\"top\":{\"field\":\"top\"}},\"id\":\"1037\",\"type\":\"Quad\"},{\"attributes\":{\"callback\":null,\"data\":{\"left\":[0.0,2.0,4.0,6.0,8.0,10.0,12.0,14.0,16.0,18.0,20.0,22.0,24.0,26.0,28.0,30.0,32.0,34.0,36.0,38.0,40.0,42.0,44.0,46.0,48.0,50.0,52.0,54.0,56.0,58.0,60.0,62.0,64.0,66.0,68.0,70.0,72.0,74.0,76.0,78.0,80.0,82.0,84.0,86.0,88.0,90.0,92.0,94.0,96.0,98.0],\"right\":[2.0,4.0,6.0,8.0,10.0,12.0,14.0,16.0,18.0,20.0,22.0,24.0,26.0,28.0,30.0,32.0,34.0,36.0,38.0,40.0,42.0,44.0,46.0,48.0,50.0,52.0,54.0,56.0,58.0,60.0,62.0,64.0,66.0,68.0,70.0,72.0,74.0,76.0,78.0,80.0,82.0,84.0,86.0,88.0,90.0,92.0,94.0,96.0,98.0,100.0],\"top\":[45327755,18496707,2518788,21413571,22053799,2625518,22521981,22609969,2755851,22298145,21971180,3028318,21320351,20650419,2908402,19522819,18793951,2766448,17508312,16796372,2571121,15771529,15051327,2783859,14021414,14113313,2578210,12802187,12290607,2398792,20111257,10166814,2394547,6096511,4887567,3772409,12866640,6709293,1964642,4227868,11863882,2237525,5703386,3933017,1385897,9664891,5236375,1556042,3293313,172653527]},\"selected\":{\"id\":\"1045\",\"type\":\"Selection\"},\"selection_policy\":{\"id\":\"1046\",\"type\":\"UnionRenderers\"}},\"id\":\"1035\",\"type\":\"ColumnDataSource\"},{\"attributes\":{\"active_drag\":\"auto\",\"active_inspect\":\"auto\",\"active_multi\":null,\"active_scroll\":\"auto\",\"active_tap\":\"auto\",\"tools\":[{\"id\":\"1022\",\"type\":\"PanTool\"},{\"id\":\"1023\",\"type\":\"WheelZoomTool\"},{\"id\":\"1024\",\"type\":\"BoxZoomTool\"},{\"id\":\"1025\",\"type\":\"SaveTool\"},{\"id\":\"1026\",\"type\":\"ResetTool\"},{\"id\":\"1027\",\"type\":\"HelpTool\"}]},\"id\":\"1028\",\"type\":\"Toolbar\"},{\"attributes\":{\"axis_label\":\"Genotype quality\",\"formatter\":{\"id\":\"1042\",\"type\":\"BasicTickFormatter\"},\"ticker\":{\"id\":\"1013\",\"type\":\"BasicTicker\"}},\"id\":\"1012\",\"type\":\"LinearAxis\"},{\"attributes\":{\"bottom_units\":\"screen\",\"fill_alpha\":{\"value\":0.5},\"fill_color\":{\"value\":\"lightgrey\"},\"left_units\":\"screen\",\"level\":\"overlay\",\"line_alpha\":{\"value\":1.0},\"line_color\":{\"value\":\"black\"},\"line_dash\":[4,4],\"line_width\":{\"value\":2},\"render_mode\":\"css\",\"right_units\":\"screen\",\"top_units\":\"screen\"},\"id\":\"1047\",\"type\":\"BoxAnnotation\"},{\"attributes\":{},\"id\":\"1026\",\"type\":\"ResetTool\"},{\"attributes\":{},\"id\":\"1022\",\"type\":\"PanTool\"},{\"attributes\":{},\"id\":\"1023\",\"type\":\"WheelZoomTool\"},{\"attributes\":{\"callback\":null,\"end\":105.0,\"start\":-5.0},\"id\":\"1004\",\"type\":\"Range1d\"},{\"attributes\":{},\"id\":\"1025\",\"type\":\"SaveTool\"},{\"attributes\":{},\"id\":\"1010\",\"type\":\"LinearScale\"},{\"attributes\":{\"overlay\":{\"id\":\"1047\",\"type\":\"BoxAnnotation\"}},\"id\":\"1024\",\"type\":\"BoxZoomTool\"},{\"attributes\":{\"ticker\":{\"id\":\"1013\",\"type\":\"BasicTicker\"}},\"id\":\"1016\",\"type\":\"Grid\"},{\"attributes\":{},\"id\":\"1027\",\"type\":\"HelpTool\"}],\"root_ids\":[\"1002\"]},\"title\":\"Bokeh Application\",\"version\":\"1.2.0\"}};\n",
       "  var render_items = [{\"docid\":\"8e4d61bc-8e8f-4bcb-82bd-7edd81d5fe76\",\"roots\":{\"1002\":\"74fbfa55-b652-4df6-acc9-f3c11db1dd80\"}}];\n",
       "  root.Bokeh.embed.embed_items_notebook(docs_json, render_items);\n",
       "\n",
       "  }\n",
       "  if (root.Bokeh !== undefined) {\n",
       "    embed_document(root);\n",
       "  } else {\n",
       "    var attempts = 0;\n",
       "    var timer = setInterval(function(root) {\n",
       "      if (root.Bokeh !== undefined) {\n",
       "        embed_document(root);\n",
       "        clearInterval(timer);\n",
       "      }\n",
       "      attempts++;\n",
       "      if (attempts > 100) {\n",
       "        console.log(\"Bokeh: ERROR: Unable to run BokehJS code because BokehJS library is missing\");\n",
       "        clearInterval(timer);\n",
       "      }\n",
       "    }, 10, root)\n",
       "  }\n",
       "})(window);"
      ],
      "application/vnd.bokehjs_exec.v0+json": ""
     },
     "metadata": {
      "application/vnd.bokehjs_exec.v0+json": {
       "id": "1002"
      }
     },
     "output_type": "display_data"
    }
   ],
   "source": [
    "p = hl.plot.histogram(mt.GQ, range=(0, 100))\n",
    "p.xaxis.axis_label = 'Genotype quality'\n",
    "p.plot_width = 800\n",
    "p.plot_height = 500\n",
    "show(p)"
   ]
  },
  {
   "cell_type": "markdown",
   "id": "100625e8-69b7-4eb2-be37-3a188ddf994a",
   "metadata": {},
   "source": [
    "Filter genotypes with low quality (GQ), using GQ > 20 for SNPs and GQ > 40 for indels.\n",
    "\n",
    "After the filter some sites may have become invariant. These are removed.\n",
    "\n",
    "NOTE: Many (or most) of the lower quality genotypes, i.e. the low-end tail of the histogram above, are indels."
   ]
  },
  {
   "cell_type": "code",
   "execution_count": 16,
   "id": "3cca0cc0-6c0a-4841-9083-02e843652105",
   "metadata": {},
   "outputs": [],
   "source": [
    "# Calculate variant statistics.\n",
    "mt = hl.variant_qc(mt)\n",
    "\n",
    "mt = mt.filter_entries(hl.if_else(\n",
    "    hl.is_snp(mt.alleles[0],mt.alleles[1]),\n",
    "    mt.GQ > 20,\n",
    "    mt.GQ > 40))"
   ]
  },
  {
   "cell_type": "markdown",
   "id": "f594e88e-a5b5-4c45-81ce-fa47a111f07e",
   "metadata": {},
   "source": [
    "### Allelic balance\n",
    "\n",
    "Note that since we've split the table, all rows are diallelic.\n",
    "\n",
    "We compute the allelic balance as $AB = \\frac{AD[1]}{DP}$. Note that DP is equivalent to $AD[0] + AD[1]$ for a diallelic site."
   ]
  },
  {
   "cell_type": "code",
   "execution_count": 17,
   "id": "b8ce0a8d-85b3-432e-8bba-af3eb96b5364",
   "metadata": {},
   "outputs": [],
   "source": [
    "mt = mt.annotate_entries(AB = mt.AD[1] / mt.DP)"
   ]
  },
  {
   "cell_type": "code",
   "execution_count": 18,
   "id": "33fecbf9-204b-450f-8488-6ec7e2df10a9",
   "metadata": {},
   "outputs": [
    {
     "name": "stderr",
     "output_type": "stream",
     "text": [
      "[Stage 9:======================================================>(191 + 1) / 192]"
     ]
    },
    {
     "data": {
      "text/html": [
       "\n",
       "\n",
       "\n",
       "\n",
       "\n",
       "\n",
       "  <div class=\"bk-root\" id=\"06ea2463-5a27-49bd-8875-5f0a72e2111e\" data-root-id=\"1096\"></div>\n"
      ]
     },
     "metadata": {},
     "output_type": "display_data"
    },
    {
     "data": {
      "application/javascript": [
       "(function(root) {\n",
       "  function embed_document(root) {\n",
       "    \n",
       "  var docs_json = {\"2481a001-b203-4167-a854-226c5cc76ea2\":{\"roots\":{\"references\":[{\"attributes\":{\"background_fill_color\":{\"value\":\"#EEEEEE\"},\"below\":[{\"id\":\"1106\",\"type\":\"LinearAxis\"}],\"center\":[{\"id\":\"1110\",\"type\":\"Grid\"},{\"id\":\"1115\",\"type\":\"Grid\"}],\"left\":[{\"id\":\"1111\",\"type\":\"LinearAxis\"}],\"plot_height\":500,\"plot_width\":800,\"renderers\":[{\"id\":\"1132\",\"type\":\"GlyphRenderer\"}],\"title\":null,\"toolbar\":{\"id\":\"1122\",\"type\":\"Toolbar\"},\"x_range\":{\"id\":\"1098\",\"type\":\"Range1d\"},\"x_scale\":{\"id\":\"1102\",\"type\":\"LinearScale\"},\"y_range\":{\"id\":\"1100\",\"type\":\"DataRange1d\"},\"y_scale\":{\"id\":\"1104\",\"type\":\"LinearScale\"}},\"id\":\"1096\",\"subtype\":\"Figure\",\"type\":\"Plot\"},{\"attributes\":{\"bottom_units\":\"screen\",\"fill_alpha\":{\"value\":0.5},\"fill_color\":{\"value\":\"lightgrey\"},\"left_units\":\"screen\",\"level\":\"overlay\",\"line_alpha\":{\"value\":1.0},\"line_color\":{\"value\":\"black\"},\"line_dash\":[4,4],\"line_width\":{\"value\":2},\"render_mode\":\"css\",\"right_units\":\"screen\",\"top_units\":\"screen\"},\"id\":\"1149\",\"type\":\"BoxAnnotation\"},{\"attributes\":{\"ticker\":{\"id\":\"1107\",\"type\":\"BasicTicker\"}},\"id\":\"1110\",\"type\":\"Grid\"},{\"attributes\":{},\"id\":\"1102\",\"type\":\"LinearScale\"},{\"attributes\":{},\"id\":\"1144\",\"type\":\"BasicTickFormatter\"},{\"attributes\":{},\"id\":\"1117\",\"type\":\"WheelZoomTool\"},{\"attributes\":{},\"id\":\"1148\",\"type\":\"UnionRenderers\"},{\"attributes\":{\"overlay\":{\"id\":\"1149\",\"type\":\"BoxAnnotation\"}},\"id\":\"1118\",\"type\":\"BoxZoomTool\"},{\"attributes\":{},\"id\":\"1120\",\"type\":\"ResetTool\"},{\"attributes\":{\"active_drag\":\"auto\",\"active_inspect\":\"auto\",\"active_multi\":null,\"active_scroll\":\"auto\",\"active_tap\":\"auto\",\"tools\":[{\"id\":\"1116\",\"type\":\"PanTool\"},{\"id\":\"1117\",\"type\":\"WheelZoomTool\"},{\"id\":\"1118\",\"type\":\"BoxZoomTool\"},{\"id\":\"1119\",\"type\":\"SaveTool\"},{\"id\":\"1120\",\"type\":\"ResetTool\"},{\"id\":\"1121\",\"type\":\"HelpTool\"}]},\"id\":\"1122\",\"type\":\"Toolbar\"},{\"attributes\":{},\"id\":\"1147\",\"type\":\"Selection\"},{\"attributes\":{\"callback\":null,\"data\":{\"left\":[0.0,0.02,0.04,0.06,0.08,0.1,0.12,0.14,0.16,0.18,0.2,0.22,0.24,0.26,0.28,0.3,0.32,0.34,0.36,0.38,0.4,0.42,0.44,0.46,0.48,0.5,0.52,0.54,0.56,0.58,0.6,0.62,0.64,0.66,0.68,0.7000000000000001,0.72,0.74,0.76,0.78,0.8,0.8200000000000001,0.84,0.86,0.88,0.9,0.92,0.9400000000000001,0.96,0.98],\"right\":[0.02,0.04,0.06,0.08,0.1,0.12,0.14,0.16,0.18,0.2,0.22,0.24,0.26,0.28,0.3,0.32,0.34,0.36,0.38,0.4,0.42,0.44,0.46,0.48,0.5,0.52,0.54,0.56,0.58,0.6,0.62,0.64,0.66,0.68,0.7000000000000001,0.72,0.74,0.76,0.78,0.8,0.8200000000000001,0.84,0.86,0.88,0.9,0.92,0.9400000000000001,0.96,0.98,1.0],\"top\":[4466,281,791,2585,16562,95351,262513,433657,446609,412641,642793,604859,647514,565315,739145,892391,1329678,842283,1382985,1058899,2267286,1950699,1955132,2048733,1017324,3681634,1745760,1692740,1607947,955252,1534771,998200,550291,1053388,541600,387899,292542,434510,208080,72597,242349,103104,56653,23061,12570,4422,1700,602,131,4403]},\"selected\":{\"id\":\"1147\",\"type\":\"Selection\"},\"selection_policy\":{\"id\":\"1148\",\"type\":\"UnionRenderers\"}},\"id\":\"1129\",\"type\":\"ColumnDataSource\"},{\"attributes\":{},\"id\":\"1146\",\"type\":\"BasicTickFormatter\"},{\"attributes\":{\"callback\":null,\"end\":1.05,\"start\":-0.05},\"id\":\"1098\",\"type\":\"Range1d\"},{\"attributes\":{},\"id\":\"1104\",\"type\":\"LinearScale\"},{\"attributes\":{\"bottom\":{\"value\":0},\"fill_alpha\":{\"value\":0.1},\"fill_color\":{\"value\":\"#1f77b4\"},\"left\":{\"field\":\"left\"},\"line_alpha\":{\"value\":0.1},\"line_color\":{\"value\":\"#1f77b4\"},\"right\":{\"field\":\"right\"},\"top\":{\"field\":\"top\"}},\"id\":\"1131\",\"type\":\"Quad\"},{\"attributes\":{\"callback\":null},\"id\":\"1100\",\"type\":\"DataRange1d\"},{\"attributes\":{},\"id\":\"1121\",\"type\":\"HelpTool\"},{\"attributes\":{},\"id\":\"1112\",\"type\":\"BasicTicker\"},{\"attributes\":{\"axis_label\":\"Frequency\",\"formatter\":{\"id\":\"1146\",\"type\":\"BasicTickFormatter\"},\"ticker\":{\"id\":\"1112\",\"type\":\"BasicTicker\"}},\"id\":\"1111\",\"type\":\"LinearAxis\"},{\"attributes\":{\"axis_label\":\"Allelic balance\",\"formatter\":{\"id\":\"1144\",\"type\":\"BasicTickFormatter\"},\"ticker\":{\"id\":\"1107\",\"type\":\"BasicTicker\"}},\"id\":\"1106\",\"type\":\"LinearAxis\"},{\"attributes\":{\"dimension\":1,\"ticker\":{\"id\":\"1112\",\"type\":\"BasicTicker\"}},\"id\":\"1115\",\"type\":\"Grid\"},{\"attributes\":{\"bottom\":{\"value\":0},\"fill_color\":{\"value\":\"#1f77b4\"},\"left\":{\"field\":\"left\"},\"right\":{\"field\":\"right\"},\"top\":{\"field\":\"top\"}},\"id\":\"1130\",\"type\":\"Quad\"},{\"attributes\":{},\"id\":\"1116\",\"type\":\"PanTool\"},{\"attributes\":{},\"id\":\"1107\",\"type\":\"BasicTicker\"},{\"attributes\":{\"source\":{\"id\":\"1129\",\"type\":\"ColumnDataSource\"}},\"id\":\"1133\",\"type\":\"CDSView\"},{\"attributes\":{},\"id\":\"1119\",\"type\":\"SaveTool\"},{\"attributes\":{\"data_source\":{\"id\":\"1129\",\"type\":\"ColumnDataSource\"},\"glyph\":{\"id\":\"1130\",\"type\":\"Quad\"},\"hover_glyph\":null,\"muted_glyph\":null,\"nonselection_glyph\":{\"id\":\"1131\",\"type\":\"Quad\"},\"selection_glyph\":null,\"view\":{\"id\":\"1133\",\"type\":\"CDSView\"}},\"id\":\"1132\",\"type\":\"GlyphRenderer\"}],\"root_ids\":[\"1096\"]},\"title\":\"Bokeh Application\",\"version\":\"1.2.0\"}};\n",
       "  var render_items = [{\"docid\":\"2481a001-b203-4167-a854-226c5cc76ea2\",\"roots\":{\"1096\":\"06ea2463-5a27-49bd-8875-5f0a72e2111e\"}}];\n",
       "  root.Bokeh.embed.embed_items_notebook(docs_json, render_items);\n",
       "\n",
       "  }\n",
       "  if (root.Bokeh !== undefined) {\n",
       "    embed_document(root);\n",
       "  } else {\n",
       "    var attempts = 0;\n",
       "    var timer = setInterval(function(root) {\n",
       "      if (root.Bokeh !== undefined) {\n",
       "        embed_document(root);\n",
       "        clearInterval(timer);\n",
       "      }\n",
       "      attempts++;\n",
       "      if (attempts > 100) {\n",
       "        console.log(\"Bokeh: ERROR: Unable to run BokehJS code because BokehJS library is missing\");\n",
       "        clearInterval(timer);\n",
       "      }\n",
       "    }, 10, root)\n",
       "  }\n",
       "})(window);"
      ],
      "application/vnd.bokehjs_exec.v0+json": ""
     },
     "metadata": {
      "application/vnd.bokehjs_exec.v0+json": {
       "id": "1096"
      }
     },
     "output_type": "display_data"
    }
   ],
   "source": [
    "hets_mt = mt.filter_entries(mt.GT.is_het())\n",
    "p = hl.plot.histogram(hets_mt.AB, range=(0, 1))\n",
    "p.xaxis.axis_label = 'Allelic balance'\n",
    "p.plot_width = 800\n",
    "p.plot_height = 500\n",
    "show(p)"
   ]
  },
  {
   "cell_type": "markdown",
   "id": "b044546b-8aa1-427c-ac85-e81c978bba12",
   "metadata": {},
   "source": [
    "Filter all heterozygotes with allelic balance outside the range of $]0.25;0.75[$."
   ]
  },
  {
   "cell_type": "code",
   "execution_count": 19,
   "id": "708b3876-8e0f-44eb-8aa1-6dc8bf0e92c3",
   "metadata": {},
   "outputs": [],
   "source": [
    "mt = mt.filter_entries(hl.if_else(\n",
    "    mt.GT.is_het(),\n",
    "    (mt.AB > 0.25) & (mt.AB < 0.75),\n",
    "    True))"
   ]
  },
  {
   "cell_type": "markdown",
   "id": "b0bddecc-9726-4f35-9d16-f6c1dafb27f5",
   "metadata": {},
   "source": [
    "## Variant QC\n",
    "\n",
    "### Hardy-Weinberg Equilibrium (HWE)\n",
    "\n",
    "Remove variants that significantly deviate from HWE. We use a p-value of $10^{-9}$ for SNPs and $10^{-6}$ for indels. Since our criteria for indels is 1000 times more stringent than for SNPs, we cannot expect the indels to carry information about population structure and inbreeding."
   ]
  },
  {
   "cell_type": "code",
   "execution_count": 20,
   "id": "b16af9a5-b247-4af0-9afc-9a3b7f6d711b",
   "metadata": {},
   "outputs": [],
   "source": [
    "# Update variant statistics.\n",
    "mt = hl.variant_qc(mt)\n",
    "\n",
    "mt = mt.filter_rows(hl.if_else(\n",
    "    hl.is_snp(mt.alleles[0], mt.alleles[1]),\n",
    "    mt.variant_qc.p_value_hwe > 1e-9,\n",
    "    mt.variant_qc.p_value_hwe > 1e-6))"
   ]
  },
  {
   "cell_type": "markdown",
   "id": "48ac3adf-0bee-47db-8fb1-ba977c34af30",
   "metadata": {},
   "source": [
    "### Average variant GQ"
   ]
  },
  {
   "cell_type": "code",
   "execution_count": 21,
   "id": "split-conditioning",
   "metadata": {},
   "outputs": [
    {
     "name": "stderr",
     "output_type": "stream",
     "text": [
      "[Stage 10:=====================================================>(191 + 1) / 192]"
     ]
    },
    {
     "data": {
      "text/html": [
       "\n",
       "\n",
       "\n",
       "\n",
       "\n",
       "\n",
       "  <div class=\"bk-root\" id=\"f28eb45e-fda5-4274-a55b-a85a12ff501f\" data-root-id=\"1198\"></div>\n"
      ]
     },
     "metadata": {},
     "output_type": "display_data"
    },
    {
     "data": {
      "application/javascript": [
       "(function(root) {\n",
       "  function embed_document(root) {\n",
       "    \n",
       "  var docs_json = {\"ff794958-0d3d-4df6-8b0e-6579124d359d\":{\"roots\":{\"references\":[{\"attributes\":{\"background_fill_color\":{\"value\":\"#EEEEEE\"},\"below\":[{\"id\":\"1208\",\"type\":\"LinearAxis\"}],\"center\":[{\"id\":\"1212\",\"type\":\"Grid\"},{\"id\":\"1217\",\"type\":\"Grid\"},{\"id\":\"1242\",\"type\":\"Legend\"}],\"left\":[{\"id\":\"1213\",\"type\":\"LinearAxis\"}],\"plot_height\":500,\"plot_width\":800,\"renderers\":[{\"id\":\"1234\",\"type\":\"GlyphRenderer\"}],\"title\":null,\"toolbar\":{\"id\":\"1224\",\"type\":\"Toolbar\"},\"x_range\":{\"id\":\"1200\",\"type\":\"Range1d\"},\"x_scale\":{\"id\":\"1204\",\"type\":\"LinearScale\"},\"y_range\":{\"id\":\"1202\",\"type\":\"DataRange1d\"},\"y_scale\":{\"id\":\"1206\",\"type\":\"LinearScale\"}},\"id\":\"1198\",\"subtype\":\"Figure\",\"type\":\"Plot\"},{\"attributes\":{},\"id\":\"1214\",\"type\":\"BasicTicker\"},{\"attributes\":{},\"id\":\"1221\",\"type\":\"SaveTool\"},{\"attributes\":{},\"id\":\"1265\",\"type\":\"Selection\"},{\"attributes\":{\"axis_label\":\"Mean GQ per variant histogram\",\"formatter\":{\"id\":\"1238\",\"type\":\"BasicTickFormatter\"},\"ticker\":{\"id\":\"1209\",\"type\":\"BasicTicker\"}},\"id\":\"1208\",\"type\":\"LinearAxis\"},{\"attributes\":{},\"id\":\"1206\",\"type\":\"LinearScale\"},{\"attributes\":{\"dimension\":1,\"ticker\":{\"id\":\"1214\",\"type\":\"BasicTicker\"}},\"id\":\"1217\",\"type\":\"Grid\"},{\"attributes\":{},\"id\":\"1223\",\"type\":\"HelpTool\"},{\"attributes\":{\"source\":{\"id\":\"1231\",\"type\":\"ColumnDataSource\"}},\"id\":\"1235\",\"type\":\"CDSView\"},{\"attributes\":{\"bottom\":{\"value\":0},\"fill_color\":{\"value\":\"#1f77b4\"},\"left\":{\"field\":\"left\"},\"right\":{\"field\":\"right\"},\"top\":{\"field\":\"top\"}},\"id\":\"1232\",\"type\":\"Quad\"},{\"attributes\":{\"axis_label\":\"Frequency\",\"formatter\":{\"id\":\"1240\",\"type\":\"BasicTickFormatter\"},\"ticker\":{\"id\":\"1214\",\"type\":\"BasicTicker\"}},\"id\":\"1213\",\"type\":\"LinearAxis\"},{\"attributes\":{},\"id\":\"1218\",\"type\":\"PanTool\"},{\"attributes\":{},\"id\":\"1209\",\"type\":\"BasicTicker\"},{\"attributes\":{\"overlay\":{\"id\":\"1241\",\"type\":\"BoxAnnotation\"}},\"id\":\"1220\",\"type\":\"BoxZoomTool\"},{\"attributes\":{},\"id\":\"1240\",\"type\":\"BasicTickFormatter\"},{\"attributes\":{},\"id\":\"1222\",\"type\":\"ResetTool\"},{\"attributes\":{\"items\":[{\"id\":\"1243\",\"type\":\"LegendItem\"}]},\"id\":\"1242\",\"type\":\"Legend\"},{\"attributes\":{},\"id\":\"1219\",\"type\":\"WheelZoomTool\"},{\"attributes\":{},\"id\":\"1266\",\"type\":\"UnionRenderers\"},{\"attributes\":{\"data_source\":{\"id\":\"1231\",\"type\":\"ColumnDataSource\"},\"glyph\":{\"id\":\"1232\",\"type\":\"Quad\"},\"hover_glyph\":null,\"muted_glyph\":null,\"nonselection_glyph\":{\"id\":\"1233\",\"type\":\"Quad\"},\"selection_glyph\":null,\"view\":{\"id\":\"1235\",\"type\":\"CDSView\"}},\"id\":\"1234\",\"type\":\"GlyphRenderer\"},{\"attributes\":{},\"id\":\"1204\",\"type\":\"LinearScale\"},{\"attributes\":{\"active_drag\":\"auto\",\"active_inspect\":\"auto\",\"active_multi\":null,\"active_scroll\":\"auto\",\"active_tap\":\"auto\",\"tools\":[{\"id\":\"1218\",\"type\":\"PanTool\"},{\"id\":\"1219\",\"type\":\"WheelZoomTool\"},{\"id\":\"1220\",\"type\":\"BoxZoomTool\"},{\"id\":\"1221\",\"type\":\"SaveTool\"},{\"id\":\"1222\",\"type\":\"ResetTool\"},{\"id\":\"1223\",\"type\":\"HelpTool\"}]},\"id\":\"1224\",\"type\":\"Toolbar\"},{\"attributes\":{\"bottom\":{\"value\":0},\"fill_alpha\":{\"value\":0.1},\"fill_color\":{\"value\":\"#1f77b4\"},\"left\":{\"field\":\"left\"},\"line_alpha\":{\"value\":0.1},\"line_color\":{\"value\":\"#1f77b4\"},\"right\":{\"field\":\"right\"},\"top\":{\"field\":\"top\"}},\"id\":\"1233\",\"type\":\"Quad\"},{\"attributes\":{\"ticker\":{\"id\":\"1209\",\"type\":\"BasicTicker\"}},\"id\":\"1212\",\"type\":\"Grid\"},{\"attributes\":{\"bottom_units\":\"screen\",\"fill_alpha\":{\"value\":0.5},\"fill_color\":{\"value\":\"lightgrey\"},\"left_units\":\"screen\",\"level\":\"overlay\",\"line_alpha\":{\"value\":1.0},\"line_color\":{\"value\":\"black\"},\"line_dash\":[4,4],\"line_width\":{\"value\":2},\"render_mode\":\"css\",\"right_units\":\"screen\",\"top_units\":\"screen\"},\"id\":\"1241\",\"type\":\"BoxAnnotation\"},{\"attributes\":{\"callback\":null,\"end\":105.0,\"start\":-5.0},\"id\":\"1200\",\"type\":\"Range1d\"},{\"attributes\":{\"callback\":null},\"id\":\"1202\",\"type\":\"DataRange1d\"},{\"attributes\":{\"label\":{\"value\":\"Mean GQ per variant histogram\"},\"renderers\":[{\"id\":\"1234\",\"type\":\"GlyphRenderer\"}]},\"id\":\"1243\",\"type\":\"LegendItem\"},{\"attributes\":{\"callback\":null,\"data\":{\"left\":[0.0,2.0,4.0,6.0,8.0,10.0,12.0,14.0,16.0,18.0,20.0,22.0,24.0,26.0,28.0,30.0,32.0,34.0,36.0,38.0,40.0,42.0,44.0,46.0,48.0,50.0,52.0,54.0,56.0,58.0,60.0,62.0,64.0,66.0,68.0,70.0,72.0,74.0,76.0,78.0,80.0,82.0,84.0,86.0,88.0,90.0,92.0,94.0,96.0,98.0],\"right\":[2.0,4.0,6.0,8.0,10.0,12.0,14.0,16.0,18.0,20.0,22.0,24.0,26.0,28.0,30.0,32.0,34.0,36.0,38.0,40.0,42.0,44.0,46.0,48.0,50.0,52.0,54.0,56.0,58.0,60.0,62.0,64.0,66.0,68.0,70.0,72.0,74.0,76.0,78.0,80.0,82.0,84.0,86.0,88.0,90.0,92.0,94.0,96.0,98.0,100.0],\"top\":[17487,0,0,0,0,0,0,0,0,0,480,814,2594,5035,6784,7999,8514,8759,8799,9133,9469,13580,15993,24355,47795,74872,86121,84184,77001,70707,65157,60661,55494,52187,48509,45340,43647,41762,40405,40053,39658,38639,38593,38283,39190,40008,42968,45959,52369,43175]},\"selected\":{\"id\":\"1265\",\"type\":\"Selection\"},\"selection_policy\":{\"id\":\"1266\",\"type\":\"UnionRenderers\"}},\"id\":\"1231\",\"type\":\"ColumnDataSource\"},{\"attributes\":{},\"id\":\"1238\",\"type\":\"BasicTickFormatter\"}],\"root_ids\":[\"1198\"]},\"title\":\"Bokeh Application\",\"version\":\"1.2.0\"}};\n",
       "  var render_items = [{\"docid\":\"ff794958-0d3d-4df6-8b0e-6579124d359d\",\"roots\":{\"1198\":\"f28eb45e-fda5-4274-a55b-a85a12ff501f\"}}];\n",
       "  root.Bokeh.embed.embed_items_notebook(docs_json, render_items);\n",
       "\n",
       "  }\n",
       "  if (root.Bokeh !== undefined) {\n",
       "    embed_document(root);\n",
       "  } else {\n",
       "    var attempts = 0;\n",
       "    var timer = setInterval(function(root) {\n",
       "      if (root.Bokeh !== undefined) {\n",
       "        embed_document(root);\n",
       "        clearInterval(timer);\n",
       "      }\n",
       "      attempts++;\n",
       "      if (attempts > 100) {\n",
       "        console.log(\"Bokeh: ERROR: Unable to run BokehJS code because BokehJS library is missing\");\n",
       "        clearInterval(timer);\n",
       "      }\n",
       "    }, 10, root)\n",
       "  }\n",
       "})(window);"
      ],
      "application/vnd.bokehjs_exec.v0+json": ""
     },
     "metadata": {
      "application/vnd.bokehjs_exec.v0+json": {
       "id": "1198"
      }
     },
     "output_type": "display_data"
    }
   ],
   "source": [
    "p = hl.plot.histogram(mt.variant_qc.gq_stats.mean, range=(0,100), legend='Mean GQ per variant histogram')\n",
    "p.plot_width = 800\n",
    "p.plot_height = 500\n",
    "show(p)"
   ]
  },
  {
   "cell_type": "markdown",
   "id": "middle-seafood",
   "metadata": {},
   "source": [
    "## Sample QC\n",
    "\n",
    "Below we see histograms of sample mean genotype quality and genotype depth. Most samples seem to have good depth and quality, although the deviation between samples is quite large. There are some samples with low depth and quality, but we will not worry about these."
   ]
  },
  {
   "cell_type": "code",
   "execution_count": 22,
   "id": "62a75cc3-0cf1-4c64-b7f0-b473e681f07d",
   "metadata": {},
   "outputs": [],
   "source": [
    "mt = hl.sample_qc(mt)"
   ]
  },
  {
   "cell_type": "code",
   "execution_count": 23,
   "id": "worth-desperate",
   "metadata": {},
   "outputs": [
    {
     "name": "stderr",
     "output_type": "stream",
     "text": [
      "[Stage 11:=====================================================>(191 + 1) / 192]"
     ]
    },
    {
     "data": {
      "text/html": [
       "\n",
       "\n",
       "\n",
       "\n",
       "\n",
       "\n",
       "  <div class=\"bk-root\" id=\"25986879-3682-4e3f-b2cb-fd330face66e\" data-root-id=\"1316\"></div>\n"
      ]
     },
     "metadata": {},
     "output_type": "display_data"
    },
    {
     "data": {
      "application/javascript": [
       "(function(root) {\n",
       "  function embed_document(root) {\n",
       "    \n",
       "  var docs_json = {\"9937f964-f742-4b2b-9c60-a3411b93d7d6\":{\"roots\":{\"references\":[{\"attributes\":{\"background_fill_color\":{\"value\":\"#EEEEEE\"},\"below\":[{\"id\":\"1326\",\"type\":\"LinearAxis\"}],\"center\":[{\"id\":\"1330\",\"type\":\"Grid\"},{\"id\":\"1335\",\"type\":\"Grid\"},{\"id\":\"1360\",\"type\":\"Legend\"}],\"left\":[{\"id\":\"1331\",\"type\":\"LinearAxis\"}],\"plot_height\":500,\"plot_width\":800,\"renderers\":[{\"id\":\"1352\",\"type\":\"GlyphRenderer\"},{\"id\":\"1365\",\"type\":\"GlyphRenderer\"}],\"title\":null,\"toolbar\":{\"id\":\"1342\",\"type\":\"Toolbar\"},\"x_range\":{\"id\":\"1318\",\"type\":\"Range1d\"},\"x_scale\":{\"id\":\"1322\",\"type\":\"LinearScale\"},\"y_range\":{\"id\":\"1320\",\"type\":\"DataRange1d\"},\"y_scale\":{\"id\":\"1324\",\"type\":\"LinearScale\"}},\"id\":\"1316\",\"subtype\":\"Figure\",\"type\":\"Plot\"},{\"attributes\":{},\"id\":\"1337\",\"type\":\"WheelZoomTool\"},{\"attributes\":{},\"id\":\"1336\",\"type\":\"PanTool\"},{\"attributes\":{\"bottom\":{\"value\":0},\"fill_color\":{\"value\":\"#1f77b4\"},\"left\":{\"field\":\"left\"},\"right\":{\"field\":\"right\"},\"top\":{\"field\":\"top\"}},\"id\":\"1350\",\"type\":\"Quad\"},{\"attributes\":{\"bottom\":{\"value\":0},\"fill_alpha\":{\"value\":0.1},\"fill_color\":{\"value\":\"#1f77b4\"},\"left\":{\"value\":59.2},\"line_alpha\":{\"value\":0.1},\"line_color\":{\"value\":\"#1f77b4\"},\"right\":{\"value\":60.0},\"top\":{\"value\":10}},\"id\":\"1364\",\"type\":\"Quad\"},{\"attributes\":{\"label\":{\"value\":\"Mean Sample GQ\"},\"renderers\":[{\"id\":\"1352\",\"type\":\"GlyphRenderer\"}]},\"id\":\"1361\",\"type\":\"LegendItem\"},{\"attributes\":{\"items\":[{\"id\":\"1361\",\"type\":\"LegendItem\"},{\"id\":\"1375\",\"type\":\"LegendItem\"}]},\"id\":\"1360\",\"type\":\"Legend\"},{\"attributes\":{\"callback\":null,\"data\":{},\"selected\":{\"id\":\"1407\",\"type\":\"Selection\"},\"selection_policy\":{\"id\":\"1408\",\"type\":\"UnionRenderers\"}},\"id\":\"1362\",\"type\":\"ColumnDataSource\"},{\"attributes\":{\"source\":{\"id\":\"1362\",\"type\":\"ColumnDataSource\"}},\"id\":\"1366\",\"type\":\"CDSView\"},{\"attributes\":{\"callback\":null},\"id\":\"1320\",\"type\":\"DataRange1d\"},{\"attributes\":{},\"id\":\"1358\",\"type\":\"BasicTickFormatter\"},{\"attributes\":{\"bottom\":{\"value\":0},\"fill_alpha\":{\"value\":0.1},\"fill_color\":{\"value\":\"#1f77b4\"},\"left\":{\"field\":\"left\"},\"line_alpha\":{\"value\":0.1},\"line_color\":{\"value\":\"#1f77b4\"},\"right\":{\"field\":\"right\"},\"top\":{\"field\":\"top\"}},\"id\":\"1351\",\"type\":\"Quad\"},{\"attributes\":{\"bottom\":{\"value\":0},\"fill_color\":{\"value\":\"red\"},\"left\":{\"value\":59.2},\"right\":{\"value\":60.0},\"top\":{\"value\":10}},\"id\":\"1363\",\"type\":\"Quad\"},{\"attributes\":{\"label\":{\"value\":\"Outliers Below\"},\"renderers\":[{\"id\":\"1365\",\"type\":\"GlyphRenderer\"}]},\"id\":\"1375\",\"type\":\"LegendItem\"},{\"attributes\":{\"data_source\":{\"id\":\"1362\",\"type\":\"ColumnDataSource\"},\"glyph\":{\"id\":\"1363\",\"type\":\"Quad\"},\"hover_glyph\":null,\"muted_glyph\":null,\"nonselection_glyph\":{\"id\":\"1364\",\"type\":\"Quad\"},\"selection_glyph\":null,\"view\":{\"id\":\"1366\",\"type\":\"CDSView\"}},\"id\":\"1365\",\"type\":\"GlyphRenderer\"},{\"attributes\":{},\"id\":\"1327\",\"type\":\"BasicTicker\"},{\"attributes\":{},\"id\":\"1324\",\"type\":\"LinearScale\"},{\"attributes\":{},\"id\":\"1332\",\"type\":\"BasicTicker\"},{\"attributes\":{},\"id\":\"1373\",\"type\":\"UnionRenderers\"},{\"attributes\":{},\"id\":\"1356\",\"type\":\"BasicTickFormatter\"},{\"attributes\":{\"axis_label\":\"Mean Sample GQ\",\"formatter\":{\"id\":\"1356\",\"type\":\"BasicTickFormatter\"},\"ticker\":{\"id\":\"1327\",\"type\":\"BasicTicker\"}},\"id\":\"1326\",\"type\":\"LinearAxis\"},{\"attributes\":{\"dimension\":1,\"ticker\":{\"id\":\"1332\",\"type\":\"BasicTicker\"}},\"id\":\"1335\",\"type\":\"Grid\"},{\"attributes\":{\"axis_label\":\"Frequency\",\"formatter\":{\"id\":\"1358\",\"type\":\"BasicTickFormatter\"},\"ticker\":{\"id\":\"1332\",\"type\":\"BasicTicker\"}},\"id\":\"1331\",\"type\":\"LinearAxis\"},{\"attributes\":{},\"id\":\"1341\",\"type\":\"HelpTool\"},{\"attributes\":{},\"id\":\"1407\",\"type\":\"Selection\"},{\"attributes\":{\"callback\":null,\"end\":102.0,\"start\":58.0},\"id\":\"1318\",\"type\":\"Range1d\"},{\"attributes\":{\"bottom_units\":\"screen\",\"fill_alpha\":{\"value\":0.5},\"fill_color\":{\"value\":\"lightgrey\"},\"left_units\":\"screen\",\"level\":\"overlay\",\"line_alpha\":{\"value\":1.0},\"line_color\":{\"value\":\"black\"},\"line_dash\":[4,4],\"line_width\":{\"value\":2},\"render_mode\":\"css\",\"right_units\":\"screen\",\"top_units\":\"screen\"},\"id\":\"1359\",\"type\":\"BoxAnnotation\"},{\"attributes\":{\"callback\":null,\"data\":{\"left\":[60.0,60.8,61.6,62.4,63.2,64.0,64.8,65.6,66.4,67.2,68.0,68.8,69.6,70.4,71.2,72.0,72.8,73.6,74.4,75.2,76.0,76.8,77.6,78.4,79.2,80.0,80.8,81.6,82.4,83.2,84.0,84.8,85.6,86.4,87.2,88.0,88.8,89.6,90.4,91.2,92.0,92.80000000000001,93.6,94.4,95.2,96.0,96.80000000000001,97.6,98.4,99.2],\"right\":[60.8,61.6,62.4,63.2,64.0,64.8,65.6,66.4,67.2,68.0,68.8,69.6,70.4,71.2,72.0,72.8,73.6,74.4,75.2,76.0,76.8,77.6,78.4,79.2,80.0,80.8,81.6,82.4,83.2,84.0,84.8,85.6,86.4,87.2,88.0,88.8,89.6,90.4,91.2,92.0,92.80000000000001,93.6,94.4,95.2,96.0,96.80000000000001,97.6,98.4,99.2,100.0],\"top\":[5,3,2,0,2,8,6,3,11,11,11,9,18,18,25,24,16,26,34,34,31,21,23,26,22,9,16,10,7,11,5,7,2,4,2,1,0,0,0,0,0,1,0,0,0,0,0,0,0,0]},\"selected\":{\"id\":\"1372\",\"type\":\"Selection\"},\"selection_policy\":{\"id\":\"1373\",\"type\":\"UnionRenderers\"}},\"id\":\"1349\",\"type\":\"ColumnDataSource\"},{\"attributes\":{\"data_source\":{\"id\":\"1349\",\"type\":\"ColumnDataSource\"},\"glyph\":{\"id\":\"1350\",\"type\":\"Quad\"},\"hover_glyph\":null,\"muted_glyph\":null,\"nonselection_glyph\":{\"id\":\"1351\",\"type\":\"Quad\"},\"selection_glyph\":null,\"view\":{\"id\":\"1353\",\"type\":\"CDSView\"}},\"id\":\"1352\",\"type\":\"GlyphRenderer\"},{\"attributes\":{},\"id\":\"1322\",\"type\":\"LinearScale\"},{\"attributes\":{},\"id\":\"1339\",\"type\":\"SaveTool\"},{\"attributes\":{},\"id\":\"1408\",\"type\":\"UnionRenderers\"},{\"attributes\":{\"overlay\":{\"id\":\"1359\",\"type\":\"BoxAnnotation\"}},\"id\":\"1338\",\"type\":\"BoxZoomTool\"},{\"attributes\":{},\"id\":\"1372\",\"type\":\"Selection\"},{\"attributes\":{},\"id\":\"1340\",\"type\":\"ResetTool\"},{\"attributes\":{\"source\":{\"id\":\"1349\",\"type\":\"ColumnDataSource\"}},\"id\":\"1353\",\"type\":\"CDSView\"},{\"attributes\":{\"ticker\":{\"id\":\"1327\",\"type\":\"BasicTicker\"}},\"id\":\"1330\",\"type\":\"Grid\"},{\"attributes\":{\"active_drag\":\"auto\",\"active_inspect\":\"auto\",\"active_multi\":null,\"active_scroll\":\"auto\",\"active_tap\":\"auto\",\"tools\":[{\"id\":\"1336\",\"type\":\"PanTool\"},{\"id\":\"1337\",\"type\":\"WheelZoomTool\"},{\"id\":\"1338\",\"type\":\"BoxZoomTool\"},{\"id\":\"1339\",\"type\":\"SaveTool\"},{\"id\":\"1340\",\"type\":\"ResetTool\"},{\"id\":\"1341\",\"type\":\"HelpTool\"}]},\"id\":\"1342\",\"type\":\"Toolbar\"}],\"root_ids\":[\"1316\"]},\"title\":\"Bokeh Application\",\"version\":\"1.2.0\"}};\n",
       "  var render_items = [{\"docid\":\"9937f964-f742-4b2b-9c60-a3411b93d7d6\",\"roots\":{\"1316\":\"25986879-3682-4e3f-b2cb-fd330face66e\"}}];\n",
       "  root.Bokeh.embed.embed_items_notebook(docs_json, render_items);\n",
       "\n",
       "  }\n",
       "  if (root.Bokeh !== undefined) {\n",
       "    embed_document(root);\n",
       "  } else {\n",
       "    var attempts = 0;\n",
       "    var timer = setInterval(function(root) {\n",
       "      if (root.Bokeh !== undefined) {\n",
       "        embed_document(root);\n",
       "        clearInterval(timer);\n",
       "      }\n",
       "      attempts++;\n",
       "      if (attempts > 100) {\n",
       "        console.log(\"Bokeh: ERROR: Unable to run BokehJS code because BokehJS library is missing\");\n",
       "        clearInterval(timer);\n",
       "      }\n",
       "    }, 10, root)\n",
       "  }\n",
       "})(window);"
      ],
      "application/vnd.bokehjs_exec.v0+json": ""
     },
     "metadata": {
      "application/vnd.bokehjs_exec.v0+json": {
       "id": "1316"
      }
     },
     "output_type": "display_data"
    }
   ],
   "source": [
    "p = hl.plot.histogram(mt.sample_qc.gq_stats.mean, range=(0,100), legend='Mean Sample GQ')\n",
    "p.plot_width = 800\n",
    "p.plot_height = 500\n",
    "show(p)"
   ]
  },
  {
   "cell_type": "code",
   "execution_count": 24,
   "id": "manufactured-guidance",
   "metadata": {},
   "outputs": [
    {
     "name": "stderr",
     "output_type": "stream",
     "text": [
      "[Stage 14:=====================================================>(191 + 1) / 192]"
     ]
    },
    {
     "data": {
      "text/html": [
       "\n",
       "\n",
       "\n",
       "\n",
       "\n",
       "\n",
       "  <div class=\"bk-root\" id=\"9cc741af-1a3c-4037-81bb-9367e38527d8\" data-root-id=\"1470\"></div>\n"
      ]
     },
     "metadata": {},
     "output_type": "display_data"
    },
    {
     "data": {
      "application/javascript": [
       "(function(root) {\n",
       "  function embed_document(root) {\n",
       "    \n",
       "  var docs_json = {\"c79cd8b2-725a-4d9c-b0d7-1323ec3c281b\":{\"roots\":{\"references\":[{\"attributes\":{\"background_fill_color\":{\"value\":\"#EEEEEE\"},\"below\":[{\"id\":\"1480\",\"type\":\"LinearAxis\"}],\"center\":[{\"id\":\"1484\",\"type\":\"Grid\"},{\"id\":\"1489\",\"type\":\"Grid\"},{\"id\":\"1514\",\"type\":\"Legend\"}],\"left\":[{\"id\":\"1485\",\"type\":\"LinearAxis\"}],\"plot_height\":500,\"plot_width\":800,\"renderers\":[{\"id\":\"1506\",\"type\":\"GlyphRenderer\"}],\"title\":null,\"toolbar\":{\"id\":\"1496\",\"type\":\"Toolbar\"},\"x_range\":{\"id\":\"1472\",\"type\":\"Range1d\"},\"x_scale\":{\"id\":\"1476\",\"type\":\"LinearScale\"},\"y_range\":{\"id\":\"1474\",\"type\":\"DataRange1d\"},\"y_scale\":{\"id\":\"1478\",\"type\":\"LinearScale\"}},\"id\":\"1470\",\"subtype\":\"Figure\",\"type\":\"Plot\"},{\"attributes\":{},\"id\":\"1476\",\"type\":\"LinearScale\"},{\"attributes\":{\"bottom\":{\"value\":0},\"fill_alpha\":{\"value\":0.1},\"fill_color\":{\"value\":\"#1f77b4\"},\"left\":{\"field\":\"left\"},\"line_alpha\":{\"value\":0.1},\"line_color\":{\"value\":\"#1f77b4\"},\"right\":{\"field\":\"right\"},\"top\":{\"field\":\"top\"}},\"id\":\"1505\",\"type\":\"Quad\"},{\"attributes\":{},\"id\":\"1556\",\"type\":\"UnionRenderers\"},{\"attributes\":{\"bottom_units\":\"screen\",\"fill_alpha\":{\"value\":0.5},\"fill_color\":{\"value\":\"lightgrey\"},\"left_units\":\"screen\",\"level\":\"overlay\",\"line_alpha\":{\"value\":1.0},\"line_color\":{\"value\":\"black\"},\"line_dash\":[4,4],\"line_width\":{\"value\":2},\"render_mode\":\"css\",\"right_units\":\"screen\",\"top_units\":\"screen\"},\"id\":\"1513\",\"type\":\"BoxAnnotation\"},{\"attributes\":{},\"id\":\"1493\",\"type\":\"SaveTool\"},{\"attributes\":{},\"id\":\"1490\",\"type\":\"PanTool\"},{\"attributes\":{\"callback\":null},\"id\":\"1474\",\"type\":\"DataRange1d\"},{\"attributes\":{},\"id\":\"1510\",\"type\":\"BasicTickFormatter\"},{\"attributes\":{},\"id\":\"1555\",\"type\":\"Selection\"},{\"attributes\":{},\"id\":\"1494\",\"type\":\"ResetTool\"},{\"attributes\":{\"active_drag\":\"auto\",\"active_inspect\":\"auto\",\"active_multi\":null,\"active_scroll\":\"auto\",\"active_tap\":\"auto\",\"tools\":[{\"id\":\"1490\",\"type\":\"PanTool\"},{\"id\":\"1491\",\"type\":\"WheelZoomTool\"},{\"id\":\"1492\",\"type\":\"BoxZoomTool\"},{\"id\":\"1493\",\"type\":\"SaveTool\"},{\"id\":\"1494\",\"type\":\"ResetTool\"},{\"id\":\"1495\",\"type\":\"HelpTool\"}]},\"id\":\"1496\",\"type\":\"Toolbar\"},{\"attributes\":{},\"id\":\"1486\",\"type\":\"BasicTicker\"},{\"attributes\":{\"label\":{\"value\":\"Mean Sample DP\"},\"renderers\":[{\"id\":\"1506\",\"type\":\"GlyphRenderer\"}]},\"id\":\"1515\",\"type\":\"LegendItem\"},{\"attributes\":{\"dimension\":1,\"ticker\":{\"id\":\"1486\",\"type\":\"BasicTicker\"}},\"id\":\"1489\",\"type\":\"Grid\"},{\"attributes\":{\"ticker\":{\"id\":\"1481\",\"type\":\"BasicTicker\"}},\"id\":\"1484\",\"type\":\"Grid\"},{\"attributes\":{\"items\":[{\"id\":\"1515\",\"type\":\"LegendItem\"}]},\"id\":\"1514\",\"type\":\"Legend\"},{\"attributes\":{},\"id\":\"1481\",\"type\":\"BasicTicker\"},{\"attributes\":{\"callback\":null,\"end\":63.0,\"start\":-3.0},\"id\":\"1472\",\"type\":\"Range1d\"},{\"attributes\":{\"overlay\":{\"id\":\"1513\",\"type\":\"BoxAnnotation\"}},\"id\":\"1492\",\"type\":\"BoxZoomTool\"},{\"attributes\":{},\"id\":\"1478\",\"type\":\"LinearScale\"},{\"attributes\":{},\"id\":\"1491\",\"type\":\"WheelZoomTool\"},{\"attributes\":{\"data_source\":{\"id\":\"1503\",\"type\":\"ColumnDataSource\"},\"glyph\":{\"id\":\"1504\",\"type\":\"Quad\"},\"hover_glyph\":null,\"muted_glyph\":null,\"nonselection_glyph\":{\"id\":\"1505\",\"type\":\"Quad\"},\"selection_glyph\":null,\"view\":{\"id\":\"1507\",\"type\":\"CDSView\"}},\"id\":\"1506\",\"type\":\"GlyphRenderer\"},{\"attributes\":{},\"id\":\"1495\",\"type\":\"HelpTool\"},{\"attributes\":{},\"id\":\"1512\",\"type\":\"BasicTickFormatter\"},{\"attributes\":{\"source\":{\"id\":\"1503\",\"type\":\"ColumnDataSource\"}},\"id\":\"1507\",\"type\":\"CDSView\"},{\"attributes\":{\"bottom\":{\"value\":0},\"fill_color\":{\"value\":\"#1f77b4\"},\"left\":{\"field\":\"left\"},\"right\":{\"field\":\"right\"},\"top\":{\"field\":\"top\"}},\"id\":\"1504\",\"type\":\"Quad\"},{\"attributes\":{\"callback\":null,\"data\":{\"left\":[0.0,1.2,2.4,3.5999999999999996,4.8,6.0,7.199999999999999,8.4,9.6,10.799999999999999,12.0,13.2,14.399999999999999,15.6,16.8,18.0,19.2,20.4,21.599999999999998,22.8,24.0,25.2,26.4,27.599999999999998,28.799999999999997,30.0,31.2,32.4,33.6,34.8,36.0,37.199999999999996,38.4,39.6,40.8,42.0,43.199999999999996,44.4,45.6,46.8,48.0,49.199999999999996,50.4,51.6,52.8,54.0,55.199999999999996,56.4,57.599999999999994,58.8],\"right\":[1.2,2.4,3.5999999999999996,4.8,6.0,7.199999999999999,8.4,9.6,10.799999999999999,12.0,13.2,14.399999999999999,15.6,16.8,18.0,19.2,20.4,21.599999999999998,22.8,24.0,25.2,26.4,27.599999999999998,28.799999999999997,30.0,31.2,32.4,33.6,34.8,36.0,37.199999999999996,38.4,39.6,40.8,42.0,43.199999999999996,44.4,45.6,46.8,48.0,49.199999999999996,50.4,51.6,52.8,54.0,55.199999999999996,56.4,57.599999999999994,58.8,60.0],\"top\":[0,0,0,0,0,0,0,0,0,0,0,0,0,1,1,3,4,5,5,10,17,22,23,38,38,50,52,46,39,39,20,14,18,7,7,5,4,5,0,0,0,0,0,0,0,0,1,0,0,0]},\"selected\":{\"id\":\"1555\",\"type\":\"Selection\"},\"selection_policy\":{\"id\":\"1556\",\"type\":\"UnionRenderers\"}},\"id\":\"1503\",\"type\":\"ColumnDataSource\"},{\"attributes\":{\"axis_label\":\"Frequency\",\"formatter\":{\"id\":\"1512\",\"type\":\"BasicTickFormatter\"},\"ticker\":{\"id\":\"1486\",\"type\":\"BasicTicker\"}},\"id\":\"1485\",\"type\":\"LinearAxis\"},{\"attributes\":{\"axis_label\":\"Mean Sample DP\",\"formatter\":{\"id\":\"1510\",\"type\":\"BasicTickFormatter\"},\"ticker\":{\"id\":\"1481\",\"type\":\"BasicTicker\"}},\"id\":\"1480\",\"type\":\"LinearAxis\"}],\"root_ids\":[\"1470\"]},\"title\":\"Bokeh Application\",\"version\":\"1.2.0\"}};\n",
       "  var render_items = [{\"docid\":\"c79cd8b2-725a-4d9c-b0d7-1323ec3c281b\",\"roots\":{\"1470\":\"9cc741af-1a3c-4037-81bb-9367e38527d8\"}}];\n",
       "  root.Bokeh.embed.embed_items_notebook(docs_json, render_items);\n",
       "\n",
       "  }\n",
       "  if (root.Bokeh !== undefined) {\n",
       "    embed_document(root);\n",
       "  } else {\n",
       "    var attempts = 0;\n",
       "    var timer = setInterval(function(root) {\n",
       "      if (root.Bokeh !== undefined) {\n",
       "        embed_document(root);\n",
       "        clearInterval(timer);\n",
       "      }\n",
       "      attempts++;\n",
       "      if (attempts > 100) {\n",
       "        console.log(\"Bokeh: ERROR: Unable to run BokehJS code because BokehJS library is missing\");\n",
       "        clearInterval(timer);\n",
       "      }\n",
       "    }, 10, root)\n",
       "  }\n",
       "})(window);"
      ],
      "application/vnd.bokehjs_exec.v0+json": ""
     },
     "metadata": {
      "application/vnd.bokehjs_exec.v0+json": {
       "id": "1470"
      }
     },
     "output_type": "display_data"
    }
   ],
   "source": [
    "p = hl.plot.histogram(mt.sample_qc.dp_stats.mean, range=(0,60), legend='Mean Sample DP')\n",
    "p.plot_width = 800\n",
    "p.plot_height = 500\n",
    "show(p)"
   ]
  },
  {
   "cell_type": "markdown",
   "id": "dcd465d8-a592-4f6c-adac-68228767c8c0",
   "metadata": {},
   "source": [
    "Below is a histogram of the heterozygote/homozygote ratio."
   ]
  },
  {
   "cell_type": "code",
   "execution_count": 25,
   "id": "outstanding-mississippi",
   "metadata": {},
   "outputs": [
    {
     "name": "stderr",
     "output_type": "stream",
     "text": [
      "[Stage 20:=====================================================>(191 + 1) / 192]"
     ]
    },
    {
     "data": {
      "text/html": [
       "\n",
       "\n",
       "\n",
       "\n",
       "\n",
       "\n",
       "  <div class=\"bk-root\" id=\"b60de271-4d84-41f9-b292-f8d12f3d6a36\" data-root-id=\"1606\"></div>\n"
      ]
     },
     "metadata": {},
     "output_type": "display_data"
    },
    {
     "data": {
      "application/javascript": [
       "(function(root) {\n",
       "  function embed_document(root) {\n",
       "    \n",
       "  var docs_json = {\"171ba312-8404-4798-b5b4-c9cdc64a255a\":{\"roots\":{\"references\":[{\"attributes\":{\"background_fill_color\":{\"value\":\"#EEEEEE\"},\"below\":[{\"id\":\"1616\",\"type\":\"LinearAxis\"}],\"center\":[{\"id\":\"1620\",\"type\":\"Grid\"},{\"id\":\"1625\",\"type\":\"Grid\"},{\"id\":\"1650\",\"type\":\"Legend\"}],\"left\":[{\"id\":\"1621\",\"type\":\"LinearAxis\"}],\"plot_height\":500,\"plot_width\":800,\"renderers\":[{\"id\":\"1642\",\"type\":\"GlyphRenderer\"}],\"title\":null,\"toolbar\":{\"id\":\"1632\",\"type\":\"Toolbar\"},\"x_range\":{\"id\":\"1608\",\"type\":\"Range1d\"},\"x_scale\":{\"id\":\"1612\",\"type\":\"LinearScale\"},\"y_range\":{\"id\":\"1610\",\"type\":\"DataRange1d\"},\"y_scale\":{\"id\":\"1614\",\"type\":\"LinearScale\"}},\"id\":\"1606\",\"subtype\":\"Figure\",\"type\":\"Plot\"},{\"attributes\":{\"axis_label\":\"Frequency\",\"formatter\":{\"id\":\"1648\",\"type\":\"BasicTickFormatter\"},\"ticker\":{\"id\":\"1622\",\"type\":\"BasicTicker\"}},\"id\":\"1621\",\"type\":\"LinearAxis\"},{\"attributes\":{\"callback\":null,\"data\":{\"left\":[1.3234227039361095,1.3562316826595064,1.3890406613829032,1.4218496401063,1.454658618829697,1.4874675975530938,1.5202765762764907,1.5530855549998877,1.5858945337232844,1.6187035124466813,1.6515124911700783,1.684321469893475,1.717130448616872,1.7499394273402689,1.7827484060636656,1.8155573847870625,1.8483663635104595,1.8811753422338562,1.9139843209572533,1.94679329968065,1.979602278404047,2.012411257127444,2.0452202358508407,2.0780292145742374,2.1108381932976346,2.1436471720210313,2.1764561507444284,2.209265129467825,2.242074108191222,2.2748830869146186,2.3076920656380158,2.3405010443614125,2.3733100230848097,2.4061190018082064,2.438927980531603,2.471736959255,2.504545937978397,2.5373549167017937,2.570163895425191,2.6029728741485876,2.6357818528719843,2.668590831595381,2.701399810318778,2.7342087890421753,2.767017767765572,2.799826746488969,2.8326357252123655,2.8654447039357622,2.8982536826591594,2.9310626613825566],\"right\":[1.3562316826595064,1.3890406613829032,1.4218496401063,1.454658618829697,1.4874675975530938,1.5202765762764907,1.5530855549998877,1.5858945337232844,1.6187035124466813,1.6515124911700783,1.684321469893475,1.717130448616872,1.7499394273402689,1.7827484060636656,1.8155573847870625,1.8483663635104595,1.8811753422338562,1.9139843209572533,1.94679329968065,1.979602278404047,2.012411257127444,2.0452202358508407,2.0780292145742374,2.1108381932976346,2.1436471720210313,2.1764561507444284,2.209265129467825,2.242074108191222,2.2748830869146186,2.3076920656380158,2.3405010443614125,2.3733100230848097,2.4061190018082064,2.438927980531603,2.471736959255,2.504545937978397,2.5373549167017937,2.570163895425191,2.6029728741485876,2.6357818528719843,2.668590831595381,2.701399810318778,2.7342087890421753,2.767017767765572,2.799826746488969,2.8326357252123655,2.8654447039357622,2.8982536826591594,2.9310626613825566,2.9638716401059533],\"top\":[1,1,0,1,2,10,24,68,128,94,69,34,15,10,4,3,2,0,1,0,1,1,0,0,0,0,0,0,0,0,0,0,0,0,1,0,0,0,0,0,0,1,0,1,0,1,0,0,0,1]},\"selected\":{\"id\":\"1699\",\"type\":\"Selection\"},\"selection_policy\":{\"id\":\"1700\",\"type\":\"UnionRenderers\"}},\"id\":\"1639\",\"type\":\"ColumnDataSource\"},{\"attributes\":{\"bottom\":{\"value\":0},\"fill_alpha\":{\"value\":0.1},\"fill_color\":{\"value\":\"#1f77b4\"},\"left\":{\"field\":\"left\"},\"line_alpha\":{\"value\":0.1},\"line_color\":{\"value\":\"#1f77b4\"},\"right\":{\"field\":\"right\"},\"top\":{\"field\":\"top\"}},\"id\":\"1641\",\"type\":\"Quad\"},{\"attributes\":{\"bottom\":{\"value\":0},\"fill_color\":{\"value\":\"#1f77b4\"},\"left\":{\"field\":\"left\"},\"right\":{\"field\":\"right\"},\"top\":{\"field\":\"top\"}},\"id\":\"1640\",\"type\":\"Quad\"},{\"attributes\":{\"items\":[{\"id\":\"1651\",\"type\":\"LegendItem\"}]},\"id\":\"1650\",\"type\":\"Legend\"},{\"attributes\":{\"dimension\":1,\"ticker\":{\"id\":\"1622\",\"type\":\"BasicTicker\"}},\"id\":\"1625\",\"type\":\"Grid\"},{\"attributes\":{},\"id\":\"1629\",\"type\":\"SaveTool\"},{\"attributes\":{},\"id\":\"1699\",\"type\":\"Selection\"},{\"attributes\":{\"source\":{\"id\":\"1639\",\"type\":\"ColumnDataSource\"}},\"id\":\"1643\",\"type\":\"CDSView\"},{\"attributes\":{},\"id\":\"1612\",\"type\":\"LinearScale\"},{\"attributes\":{\"callback\":null,\"end\":3.0458940869144455,\"start\":1.2414002571276173},\"id\":\"1608\",\"type\":\"Range1d\"},{\"attributes\":{},\"id\":\"1630\",\"type\":\"ResetTool\"},{\"attributes\":{},\"id\":\"1622\",\"type\":\"BasicTicker\"},{\"attributes\":{\"bottom_units\":\"screen\",\"fill_alpha\":{\"value\":0.5},\"fill_color\":{\"value\":\"lightgrey\"},\"left_units\":\"screen\",\"level\":\"overlay\",\"line_alpha\":{\"value\":1.0},\"line_color\":{\"value\":\"black\"},\"line_dash\":[4,4],\"line_width\":{\"value\":2},\"render_mode\":\"css\",\"right_units\":\"screen\",\"top_units\":\"screen\"},\"id\":\"1649\",\"type\":\"BoxAnnotation\"},{\"attributes\":{},\"id\":\"1700\",\"type\":\"UnionRenderers\"},{\"attributes\":{},\"id\":\"1614\",\"type\":\"LinearScale\"},{\"attributes\":{\"overlay\":{\"id\":\"1649\",\"type\":\"BoxAnnotation\"}},\"id\":\"1628\",\"type\":\"BoxZoomTool\"},{\"attributes\":{},\"id\":\"1626\",\"type\":\"PanTool\"},{\"attributes\":{},\"id\":\"1648\",\"type\":\"BasicTickFormatter\"},{\"attributes\":{\"data_source\":{\"id\":\"1639\",\"type\":\"ColumnDataSource\"},\"glyph\":{\"id\":\"1640\",\"type\":\"Quad\"},\"hover_glyph\":null,\"muted_glyph\":null,\"nonselection_glyph\":{\"id\":\"1641\",\"type\":\"Quad\"},\"selection_glyph\":null,\"view\":{\"id\":\"1643\",\"type\":\"CDSView\"}},\"id\":\"1642\",\"type\":\"GlyphRenderer\"},{\"attributes\":{\"label\":{\"value\":\"Het/hom rate\"},\"renderers\":[{\"id\":\"1642\",\"type\":\"GlyphRenderer\"}]},\"id\":\"1651\",\"type\":\"LegendItem\"},{\"attributes\":{},\"id\":\"1646\",\"type\":\"BasicTickFormatter\"},{\"attributes\":{},\"id\":\"1617\",\"type\":\"BasicTicker\"},{\"attributes\":{},\"id\":\"1627\",\"type\":\"WheelZoomTool\"},{\"attributes\":{\"callback\":null},\"id\":\"1610\",\"type\":\"DataRange1d\"},{\"attributes\":{},\"id\":\"1631\",\"type\":\"HelpTool\"},{\"attributes\":{\"axis_label\":\"Het/hom rate\",\"formatter\":{\"id\":\"1646\",\"type\":\"BasicTickFormatter\"},\"ticker\":{\"id\":\"1617\",\"type\":\"BasicTicker\"}},\"id\":\"1616\",\"type\":\"LinearAxis\"},{\"attributes\":{\"active_drag\":\"auto\",\"active_inspect\":\"auto\",\"active_multi\":null,\"active_scroll\":\"auto\",\"active_tap\":\"auto\",\"tools\":[{\"id\":\"1626\",\"type\":\"PanTool\"},{\"id\":\"1627\",\"type\":\"WheelZoomTool\"},{\"id\":\"1628\",\"type\":\"BoxZoomTool\"},{\"id\":\"1629\",\"type\":\"SaveTool\"},{\"id\":\"1630\",\"type\":\"ResetTool\"},{\"id\":\"1631\",\"type\":\"HelpTool\"}]},\"id\":\"1632\",\"type\":\"Toolbar\"},{\"attributes\":{\"ticker\":{\"id\":\"1617\",\"type\":\"BasicTicker\"}},\"id\":\"1620\",\"type\":\"Grid\"}],\"root_ids\":[\"1606\"]},\"title\":\"Bokeh Application\",\"version\":\"1.2.0\"}};\n",
       "  var render_items = [{\"docid\":\"171ba312-8404-4798-b5b4-c9cdc64a255a\",\"roots\":{\"1606\":\"b60de271-4d84-41f9-b292-f8d12f3d6a36\"}}];\n",
       "  root.Bokeh.embed.embed_items_notebook(docs_json, render_items);\n",
       "\n",
       "  }\n",
       "  if (root.Bokeh !== undefined) {\n",
       "    embed_document(root);\n",
       "  } else {\n",
       "    var attempts = 0;\n",
       "    var timer = setInterval(function(root) {\n",
       "      if (root.Bokeh !== undefined) {\n",
       "        embed_document(root);\n",
       "        clearInterval(timer);\n",
       "      }\n",
       "      attempts++;\n",
       "      if (attempts > 100) {\n",
       "        console.log(\"Bokeh: ERROR: Unable to run BokehJS code because BokehJS library is missing\");\n",
       "        clearInterval(timer);\n",
       "      }\n",
       "    }, 10, root)\n",
       "  }\n",
       "})(window);"
      ],
      "application/vnd.bokehjs_exec.v0+json": ""
     },
     "metadata": {
      "application/vnd.bokehjs_exec.v0+json": {
       "id": "1606"
      }
     },
     "output_type": "display_data"
    }
   ],
   "source": [
    "p = hl.plot.histogram(mt.sample_qc.r_het_hom_var, legend='Het/hom rate')\n",
    "p.plot_width = 800\n",
    "p.plot_height = 500\n",
    "show(p)"
   ]
  },
  {
   "cell_type": "markdown",
   "id": "controlling-reconstruction",
   "metadata": {},
   "source": [
    "Looks like there are a few samples with a lot higher het/hom rate than the rest of the samples. Let's check whether this is due to poor coverage."
   ]
  },
  {
   "cell_type": "code",
   "execution_count": 26,
   "id": "standing-flavor",
   "metadata": {},
   "outputs": [],
   "source": [
    "het_hom_thres = 2.3\n",
    "mt = mt.annotate_cols(high_hom_het=mt.sample_qc.r_het_hom_var > het_hom_thres)"
   ]
  },
  {
   "cell_type": "code",
   "execution_count": 27,
   "id": "wooden-aging",
   "metadata": {},
   "outputs": [
    {
     "name": "stderr",
     "output_type": "stream",
     "text": [
      "[Stage 23:=====================================================>(191 + 1) / 192]"
     ]
    },
    {
     "data": {
      "text/html": [
       "\n",
       "\n",
       "\n",
       "\n",
       "\n",
       "\n",
       "  <div class=\"bk-root\" id=\"1d077269-f150-433e-ae8d-ce8ca650fba9\" data-root-id=\"1750\"></div>\n"
      ]
     },
     "metadata": {},
     "output_type": "display_data"
    },
    {
     "data": {
      "application/javascript": [
       "(function(root) {\n",
       "  function embed_document(root) {\n",
       "    \n",
       "  var docs_json = {\"57169abf-048b-41f1-b6e6-2054bf647e15\":{\"roots\":{\"references\":[{\"attributes\":{\"below\":[{\"id\":\"1760\",\"type\":\"LinearAxis\"}],\"center\":[{\"id\":\"1764\",\"type\":\"Grid\"},{\"id\":\"1769\",\"type\":\"Grid\"}],\"left\":[{\"id\":\"1765\",\"type\":\"LinearAxis\"},{\"id\":\"1801\",\"type\":\"Legend\"},{\"id\":\"1802\",\"type\":\"ColorBar\"}],\"plot_height\":600,\"plot_width\":600,\"renderers\":[{\"id\":\"1792\",\"type\":\"GlyphRenderer\"},{\"id\":\"1798\",\"type\":\"GlyphRenderer\"}],\"title\":null,\"toolbar\":{\"id\":\"1776\",\"type\":\"Toolbar\"},\"x_range\":{\"id\":\"1752\",\"type\":\"DataRange1d\"},\"x_scale\":{\"id\":\"1756\",\"type\":\"LinearScale\"},\"y_range\":{\"id\":\"1754\",\"type\":\"DataRange1d\"},\"y_scale\":{\"id\":\"1758\",\"type\":\"LinearScale\"}},\"id\":\"1750\",\"subtype\":\"Figure\",\"type\":\"Plot\"},{\"attributes\":{},\"id\":\"1758\",\"type\":\"LinearScale\"},{\"attributes\":{\"color_mapper\":null,\"formatter\":{\"id\":\"1859\",\"type\":\"BasicTickFormatter\"},\"ticker\":{\"id\":\"1858\",\"type\":\"BasicTicker\"},\"visible\":false},\"id\":\"1802\",\"type\":\"ColorBar\"},{\"attributes\":{},\"id\":\"1773\",\"type\":\"SaveTool\"},{\"attributes\":{},\"id\":\"1774\",\"type\":\"ResetTool\"},{\"attributes\":{},\"id\":\"1857\",\"type\":\"BasicTickFormatter\"},{\"attributes\":{\"axis_label\":\"het/hom rate\",\"formatter\":{\"id\":\"1857\",\"type\":\"BasicTickFormatter\"},\"ticker\":{\"id\":\"1766\",\"type\":\"BasicTicker\"}},\"id\":\"1765\",\"type\":\"LinearAxis\"},{\"attributes\":{},\"id\":\"1771\",\"type\":\"WheelZoomTool\"},{\"attributes\":{\"overlay\":{\"id\":\"1862\",\"type\":\"BoxAnnotation\"}},\"id\":\"1772\",\"type\":\"BoxZoomTool\"},{\"attributes\":{\"active_drag\":\"auto\",\"active_inspect\":\"auto\",\"active_multi\":null,\"active_scroll\":\"auto\",\"active_tap\":\"auto\",\"tools\":[{\"id\":\"1770\",\"type\":\"PanTool\"},{\"id\":\"1771\",\"type\":\"WheelZoomTool\"},{\"id\":\"1772\",\"type\":\"BoxZoomTool\"},{\"id\":\"1773\",\"type\":\"SaveTool\"},{\"id\":\"1774\",\"type\":\"ResetTool\"},{\"id\":\"1775\",\"type\":\"HelpTool\"},{\"id\":\"1784\",\"type\":\"HoverTool\"}]},\"id\":\"1776\",\"type\":\"Toolbar\"},{\"attributes\":{},\"id\":\"1855\",\"type\":\"BasicTickFormatter\"},{\"attributes\":{\"fill_alpha\":{\"value\":0.1},\"fill_color\":{\"value\":\"#1f77b4\"},\"line_alpha\":{\"value\":0.1},\"line_color\":{\"value\":\"#1f77b4\"},\"x\":{\"field\":\"x\"},\"y\":{\"field\":\"y\"}},\"id\":\"1797\",\"type\":\"Circle\"},{\"attributes\":{},\"id\":\"1858\",\"type\":\"BasicTicker\"},{\"attributes\":{\"dimension\":1,\"ticker\":{\"id\":\"1766\",\"type\":\"BasicTicker\"}},\"id\":\"1769\",\"type\":\"Grid\"},{\"attributes\":{\"label\":{\"value\":\"true\"},\"renderers\":[{\"id\":\"1798\",\"type\":\"GlyphRenderer\"}]},\"id\":\"1800\",\"type\":\"LegendItem\"},{\"attributes\":{\"data_source\":{\"id\":\"1785\",\"type\":\"ColumnDataSource\"},\"glyph\":{\"id\":\"1790\",\"type\":\"Circle\"},\"hover_glyph\":null,\"muted_glyph\":null,\"nonselection_glyph\":{\"id\":\"1791\",\"type\":\"Circle\"},\"selection_glyph\":null,\"view\":{\"id\":\"1788\",\"type\":\"CDSView\"}},\"id\":\"1792\",\"type\":\"GlyphRenderer\"},{\"attributes\":{},\"id\":\"1775\",\"type\":\"HelpTool\"},{\"attributes\":{\"filters\":[{\"id\":\"1793\",\"type\":\"GroupFilter\"}],\"source\":{\"id\":\"1785\",\"type\":\"ColumnDataSource\"}},\"id\":\"1794\",\"type\":\"CDSView\"},{\"attributes\":{\"data_source\":{\"id\":\"1785\",\"type\":\"ColumnDataSource\"},\"glyph\":{\"id\":\"1796\",\"type\":\"Circle\"},\"hover_glyph\":null,\"muted_glyph\":null,\"nonselection_glyph\":{\"id\":\"1797\",\"type\":\"Circle\"},\"selection_glyph\":null,\"view\":{\"id\":\"1794\",\"type\":\"CDSView\"}},\"id\":\"1798\",\"type\":\"GlyphRenderer\"},{\"attributes\":{},\"id\":\"1861\",\"type\":\"UnionRenderers\"},{\"attributes\":{\"axis_label\":\"DP mean\",\"formatter\":{\"id\":\"1855\",\"type\":\"BasicTickFormatter\"},\"ticker\":{\"id\":\"1761\",\"type\":\"BasicTicker\"}},\"id\":\"1760\",\"type\":\"LinearAxis\"},{\"attributes\":{},\"id\":\"1756\",\"type\":\"LinearScale\"},{\"attributes\":{\"bottom_units\":\"screen\",\"fill_alpha\":{\"value\":0.5},\"fill_color\":{\"value\":\"lightgrey\"},\"left_units\":\"screen\",\"level\":\"overlay\",\"line_alpha\":{\"value\":1.0},\"line_color\":{\"value\":\"black\"},\"line_dash\":[4,4],\"line_width\":{\"value\":2},\"render_mode\":\"css\",\"right_units\":\"screen\",\"top_units\":\"screen\"},\"id\":\"1862\",\"type\":\"BoxAnnotation\"},{\"attributes\":{},\"id\":\"1761\",\"type\":\"BasicTicker\"},{\"attributes\":{\"factors\":[\"false\",\"true\"],\"palette\":[\"#1f77b4\",\"#ff7f0e\",\"#2ca02c\",\"#d62728\",\"#9467bd\",\"#8c564b\",\"#e377c2\",\"#7f7f7f\",\"#bcbd22\",\"#17becf\"]},\"id\":\"1786\",\"type\":\"CategoricalColorMapper\"},{\"attributes\":{\"callback\":null},\"id\":\"1752\",\"type\":\"DataRange1d\"},{\"attributes\":{\"column_name\":\"label\",\"group\":\"true\"},\"id\":\"1793\",\"type\":\"GroupFilter\"},{\"attributes\":{\"click_policy\":\"hide\",\"items\":[{\"id\":\"1799\",\"type\":\"LegendItem\"},{\"id\":\"1800\",\"type\":\"LegendItem\"}]},\"id\":\"1801\",\"type\":\"Legend\"},{\"attributes\":{\"fill_alpha\":{\"value\":0.1},\"fill_color\":{\"value\":\"#1f77b4\"},\"line_alpha\":{\"value\":0.1},\"line_color\":{\"value\":\"#1f77b4\"},\"x\":{\"field\":\"x\"},\"y\":{\"field\":\"y\"}},\"id\":\"1791\",\"type\":\"Circle\"},{\"attributes\":{\"fill_color\":{\"field\":\"label\",\"transform\":{\"id\":\"1786\",\"type\":\"CategoricalColorMapper\"}},\"line_color\":{\"field\":\"label\",\"transform\":{\"id\":\"1786\",\"type\":\"CategoricalColorMapper\"}},\"x\":{\"field\":\"x\"},\"y\":{\"field\":\"y\"}},\"id\":\"1790\",\"type\":\"Circle\"},{\"attributes\":{\"ticker\":{\"id\":\"1761\",\"type\":\"BasicTicker\"}},\"id\":\"1764\",\"type\":\"Grid\"},{\"attributes\":{\"callback\":null},\"id\":\"1754\",\"type\":\"DataRange1d\"},{\"attributes\":{\"filters\":[{\"id\":\"1787\",\"type\":\"GroupFilter\"}],\"source\":{\"id\":\"1785\",\"type\":\"ColumnDataSource\"}},\"id\":\"1788\",\"type\":\"CDSView\"},{\"attributes\":{},\"id\":\"1766\",\"type\":\"BasicTicker\"},{\"attributes\":{\"fill_color\":{\"field\":\"label\",\"transform\":{\"id\":\"1786\",\"type\":\"CategoricalColorMapper\"}},\"line_color\":{\"field\":\"label\",\"transform\":{\"id\":\"1786\",\"type\":\"CategoricalColorMapper\"}},\"x\":{\"field\":\"x\"},\"y\":{\"field\":\"y\"}},\"id\":\"1796\",\"type\":\"Circle\"},{\"attributes\":{\"callback\":null,\"tooltips\":[[\"x\",\"@x\"],[\"y\",\"@y\"],[\"Sample\",\"@Sample\"],[\"label\",\"@label\"]]},\"id\":\"1784\",\"type\":\"HoverTool\"},{\"attributes\":{\"column_name\":\"label\",\"group\":\"false\"},\"id\":\"1787\",\"type\":\"GroupFilter\"},{\"attributes\":{\"callback\":null,\"data\":{\"Sample\":[\"FN000938\",\"FN000538\",\"FN000559\",\"FN000755\",\"FN000020\",\"FN000557\",\"FN001110\",\"FN001020\",\"FN000761\",\"FN000369\",\"FN000618\",\"FN000893\",\"FN000558\",\"FN000277\",\"FN000878\",\"FN000931\",\"FN000953\",\"FN000862\",\"FN000940\",\"FN000925\",\"FN000544\",\"FN000217\",\"FN001109\",\"FN000902\",\"FN000018\",\"FN001021\",\"FN001022\",\"FN000017\",\"FN001416\",\"FN000933\",\"FN001092\",\"FN000206\",\"FN000190\",\"FN001415\",\"FN000254\",\"FN000178\",\"FN001045\",\"FN000762\",\"FN000019\",\"FN000016\",\"FN001116\",\"FN000399\",\"FN000562\",\"FN000749\",\"FN000817\",\"FN000934\",\"FN000537\",\"FN000804\",\"FN000396\",\"FN000412\",\"FN000873\",\"FN000015\",\"FN000504\",\"FN001251\",\"FN001377\",\"FN000122\",\"FN000935\",\"FN001046\",\"FN000132\",\"FN000476\",\"FN001433\",\"FN000182\",\"FN001346\",\"FN000635\",\"FN000879\",\"FN000506\",\"FN000639\",\"FN000957\",\"FN001247\",\"FN000152\",\"FN000507\",\"FN001089\",\"FN000427\",\"FN001025\",\"FN000503\",\"FN000138\",\"FN001249\",\"FN001093\",\"FN001115\",\"FN000759\",\"FN000251\",\"FN000298\",\"FN001094\",\"FN000502\",\"FN000929\",\"FN000742\",\"FN000125\",\"FN000534\",\"FN000904\",\"FN000435\",\"FN001001\",\"FN000124\",\"FN000932\",\"FN000697\",\"FN000629\",\"FN000810\",\"FN000693\",\"FN000512\",\"FN000105\",\"FN000405\",\"FN000394\",\"FN000400\",\"FN001409\",\"FN000867\",\"FN000617\",\"FN000566\",\"FN001118\",\"FN001120\",\"FN000778\",\"FN000824\",\"FN000326\",\"FN000317\",\"FN001398\",\"FN000116\",\"FN000044\",\"FN000898\",\"FN000738\",\"FN001379\",\"FN001157\",\"FN000377\",\"FN001390\",\"FN001488\",\"FN000119\",\"FN000763\",\"FN000671\",\"FN000121\",\"FN000899\",\"FN000906\",\"FN000930\",\"FN000583\",\"FN000634\",\"FN000240\",\"FN001130\",\"FN001381\",\"FN000969\",\"FN000242\",\"FN000619\",\"FN000021\",\"FN000131\",\"FN000281\",\"FN001400\",\"FN000009\",\"FN001088\",\"FN000381\",\"FN000050\",\"FN000923\",\"FN000022\",\"FN000875\",\"FN001138\",\"FN000442\",\"FN000477\",\"FN000917\",\"FN000106\",\"FN000966\",\"FN000393\",\"FN000111\",\"FN001384\",\"FN000774\",\"FN000411\",\"FN000777\",\"FN000958\",\"FN000599\",\"FN000474\",\"FN001143\",\"FN000320\",\"FN001366\",\"FN000023\",\"FN000625\",\"FN000820\",\"FN000191\",\"FN000447\",\"FN000187\",\"FN000770\",\"FN000928\",\"FN001410\",\"FN000870\",\"FN000954\",\"FN000469\",\"FN000127\",\"FN001426\",\"FN000884\",\"FN001132\",\"FN000541\",\"FN000703\",\"FN000971\",\"FN000306\",\"FN001127\",\"FN000049\",\"FN000408\",\"FN000389\",\"FN000038\",\"FN001482\",\"FN001431\",\"FN000024\",\"FN000527\",\"FN000877\",\"FN000014\",\"FN000305\",\"FN000569\",\"FN000528\",\"FN000513\",\"FN000397\",\"FN000487\",\"FN001135\",\"FN000039\",\"FN000970\",\"FN000889\",\"FN000002\",\"FN000920\",\"FN000955\",\"FN001437\",\"FN001023\",\"FN000854\",\"FN000769\",\"FN000895\",\"FN000410\",\"FN001383\",\"FN000781\",\"FN000794\",\"FN001527\",\"FN001523\",\"FN001439\",\"FN000704\",\"FN001017\",\"FN001091\",\"FN000531\",\"FN000943\",\"FN000809\",\"FN000456\",\"FN000054\",\"FN000244\",\"FN000055\",\"FN001522\",\"FN000034\",\"FN000489\",\"FN000289\",\"FN000549\",\"FN001401\",\"FN000159\",\"FN000780\",\"FN000045\",\"FN001117\",\"FN001134\",\"FN000440\",\"FN000236\",\"FN000529\",\"FN001394\",\"FN000204\",\"FN001085\",\"FN000322\",\"FN001425\",\"FN000962\",\"FN001371\",\"FN000586\",\"FN000607\",\"FN000040\",\"FN000450\",\"FN000776\",\"FN000313\",\"FN000892\",\"FN000998\",\"FN000896\",\"FN001411\",\"FN000360\",\"FN001090\",\"FN001432\",\"FN000510\",\"FN000053\",\"FN001392\",\"FN000985\",\"FN000103\",\"FN000948\",\"FN001495\",\"FN000473\",\"FN000475\",\"FN000392\",\"FN000924\",\"FN001389\",\"FN000200\",\"FN000224\",\"FN001395\",\"FN001133\",\"FN000909\",\"FN000278\",\"FN001486\",\"FN000960\",\"FN000032\",\"FN000035\",\"FN000470\",\"FN000303\",\"FN000387\",\"FN001111\",\"FN000888\",\"FN000403\",\"FN000495\",\"FN000947\",\"FN000518\",\"FN000905\",\"FN000521\",\"FN000177\",\"FN000949\",\"FN000926\",\"FN001418\",\"FN001414\",\"FN000913\",\"FN001440\",\"FN000446\",\"FN000237\",\"FN000130\",\"FN000563\",\"FN000110\",\"FN000526\",\"FN000309\",\"FN000233\",\"FN001417\",\"FN000249\",\"FN001413\",\"FN000525\",\"FN000126\",\"FN000001\",\"FN000160\",\"FN000052\",\"FN000216\",\"FN000767\",\"FN001347\",\"FN001490\",\"FN000922\",\"FN001019\",\"FN000912\",\"FN000376\",\"FN001427\",\"FN001374\",\"FN001150\",\"FN001393\",\"FN000061\",\"FN000284\",\"FN000439\",\"FN000523\",\"FN000768\",\"FN000012\",\"FN001154\",\"FN000417\",\"FN000077\",\"FN000908\",\"FN001152\",\"FN001405\",\"FN001407\",\"FN001149\",\"FN001408\",\"FN000076\",\"FN001082\",\"FN000546\",\"FN000430\",\"FN000766\",\"FN000561\",\"FN000942\",\"FN000488\",\"FN000137\",\"FN000567\",\"FN000807\",\"FN000033\",\"FN000498\",\"FN000426\",\"FN001403\",\"FN000522\",\"FN000451\",\"FN001142\",\"FN000445\",\"FN000388\",\"FN000169\",\"FN001430\",\"FN000551\",\"FN000861\",\"FN001485\",\"FN000375\",\"FN000871\",\"FN000108\",\"FN000591\",\"FN000199\",\"FN001151\",\"FN000483\",\"FN000501\",\"FN001018\",\"FN000519\",\"FN000735\",\"FN000184\",\"FN001428\",\"FN001155\",\"FN000545\",\"FN000107\",\"FN001004\",\"FN000180\",\"FN000424\",\"FN000568\",\"FN001441\",\"FN000952\",\"FN000092\",\"FN000554\",\"FN001444\",\"FN000939\",\"FN000604\",\"FN000097\",\"FN000418\",\"FN001434\",\"FN001158\",\"FN000511\",\"FN001084\",\"FN001380\",\"FN000589\",\"FN001086\",\"FN000197\",\"FN000441\",\"FN000598\",\"FN001438\",\"FN000887\",\"FN000572\",\"FN000163\",\"FN001404\",\"FN000951\",\"FN000550\",\"FN000478\",\"FN000874\",\"FN000419\",\"FN001436\",\"FN000461\",\"FN001139\",\"FN000395\",\"FN001053\",\"FN000156\",\"FN001435\",\"FN000472\",\"FN000950\",\"FN000421\",\"FN001003\",\"FN000215\",\"FN000185\",\"FN001429\",\"FN000139\",\"FN000484\",\"FN000158\",\"FN001153\",\"FN000945\",\"FN001011\"],\"index\":[0,1,2,3,4,5,6,7,8,9,10,11,12,13,14,15,16,17,18,19,20,21,22,23,24,25,26,27,28,29,30,31,32,33,34,35,36,37,38,39,40,41,42,43,44,45,46,47,48,49,50,51,52,53,54,55,56,57,58,59,60,61,62,63,64,65,66,67,68,69,70,71,72,73,74,75,76,77,78,79,80,81,82,83,84,85,86,87,88,89,90,91,92,93,94,95,96,97,98,99,100,101,102,103,104,105,106,107,108,109,110,111,112,113,114,115,116,117,118,119,120,121,122,123,124,125,126,127,128,129,130,131,132,133,134,135,136,137,138,139,140,141,142,143,144,145,146,147,148,149,150,151,152,153,154,155,156,157,158,159,160,161,162,163,164,165,166,167,168,169,170,171,172,173,174,175,176,177,178,179,180,181,182,183,184,185,186,187,188,189,190,191,192,193,194,195,196,197,198,199,200,201,202,203,204,205,206,207,208,209,210,211,212,213,214,215,216,217,218,219,220,221,222,223,224,225,226,227,228,229,230,231,232,233,234,235,236,237,238,239,240,241,242,243,244,245,246,247,248,249,250,251,252,253,254,255,256,257,258,259,260,261,262,263,264,265,266,267,268,269,270,271,272,273,274,275,276,277,278,279,280,281,282,283,284,285,286,287,288,289,290,291,292,293,294,295,296,297,298,299,300,301,302,303,304,305,306,307,308,309,310,311,312,313,314,315,316,317,318,319,320,321,322,323,324,325,326,327,328,329,330,331,332,333,334,335,336,337,338,339,340,341,342,343,344,345,346,347,348,349,350,351,352,353,354,355,356,357,358,359,360,361,362,363,364,365,366,367,368,369,370,371,372,373,374,375,376,377,378,379,380,381,382,383,384,385,386,387,388,389,390,391,392,393,394,395,396,397,398,399,400,401,402,403,404,405,406,407,408,409,410,411,412,413,414,415,416,417,418,419,420,421,422,423,424,425,426,427,428,429,430,431,432,433,434,435,436,437,438,439,440,441,442],\"label\":[\"false\",\"true\",\"false\",\"false\",\"false\",\"false\",\"false\",\"false\",\"false\",\"false\",\"false\",\"false\",\"false\",\"false\",\"false\",\"false\",\"false\",\"false\",\"true\",\"false\",\"false\",\"false\",\"false\",\"false\",\"false\",\"false\",\"false\",\"false\",\"false\",\"false\",\"false\",\"false\",\"false\",\"false\",\"false\",\"false\",\"false\",\"false\",\"false\",\"false\",\"false\",\"false\",\"false\",\"false\",\"false\",\"false\",\"false\",\"false\",\"false\",\"false\",\"false\",\"false\",\"false\",\"false\",\"false\",\"false\",\"false\",\"false\",\"false\",\"false\",\"false\",\"false\",\"false\",\"false\",\"false\",\"false\",\"false\",\"false\",\"false\",\"false\",\"false\",\"false\",\"false\",\"false\",\"false\",\"false\",\"false\",\"false\",\"false\",\"false\",\"false\",\"false\",\"false\",\"false\",\"false\",\"false\",\"false\",\"false\",\"false\",\"false\",\"false\",\"false\",\"false\",\"false\",\"false\",\"false\",\"false\",\"false\",\"false\",\"false\",\"false\",\"false\",\"false\",\"false\",\"false\",\"false\",\"false\",\"false\",\"false\",\"false\",\"false\",\"false\",\"false\",\"false\",\"false\",\"false\",\"false\",\"false\",\"false\",\"false\",\"false\",\"false\",\"false\",\"false\",\"false\",\"false\",\"false\",\"false\",\"false\",\"false\",\"false\",\"false\",\"false\",\"false\",\"false\",\"false\",\"false\",\"false\",\"false\",\"false\",\"false\",\"false\",\"false\",\"false\",\"false\",\"false\",\"false\",\"false\",\"false\",\"false\",\"false\",\"false\",\"false\",\"false\",\"false\",\"false\",\"false\",\"false\",\"false\",\"false\",\"false\",\"false\",\"false\",\"false\",\"false\",\"false\",\"false\",\"false\",\"false\",\"false\",\"false\",\"false\",\"false\",\"false\",\"false\",\"false\",\"false\",\"false\",\"false\",\"false\",\"false\",\"false\",\"false\",\"false\",\"false\",\"false\",\"false\",\"false\",\"false\",\"false\",\"false\",\"false\",\"false\",\"false\",\"false\",\"false\",\"false\",\"false\",\"false\",\"false\",\"false\",\"false\",\"false\",\"false\",\"false\",\"false\",\"false\",\"false\",\"false\",\"false\",\"false\",\"false\",\"false\",\"false\",\"false\",\"false\",\"false\",\"false\",\"false\",\"false\",\"false\",\"false\",\"false\",\"false\",\"false\",\"false\",\"false\",\"false\",\"false\",\"false\",\"false\",\"false\",\"false\",\"false\",\"false\",\"false\",\"false\",\"false\",\"false\",\"false\",\"false\",\"false\",\"false\",\"false\",\"false\",\"false\",\"false\",\"false\",\"false\",\"false\",\"false\",\"false\",\"false\",\"false\",\"false\",\"false\",\"false\",\"false\",\"false\",\"false\",\"false\",\"false\",\"false\",\"false\",\"false\",\"false\",\"false\",\"false\",\"false\",\"false\",\"false\",\"false\",\"false\",\"false\",\"false\",\"false\",\"false\",\"false\",\"false\",\"false\",\"false\",\"false\",\"true\",\"false\",\"false\",\"false\",\"false\",\"false\",\"false\",\"false\",\"false\",\"false\",\"false\",\"false\",\"false\",\"false\",\"false\",\"false\",\"false\",\"false\",\"false\",\"false\",\"false\",\"false\",\"false\",\"false\",\"false\",\"false\",\"false\",\"false\",\"false\",\"false\",\"false\",\"false\",\"false\",\"false\",\"false\",\"false\",\"false\",\"false\",\"false\",\"false\",\"false\",\"false\",\"false\",\"false\",\"false\",\"true\",\"false\",\"false\",\"false\",\"false\",\"false\",\"false\",\"false\",\"false\",\"false\",\"false\",\"false\",\"false\",\"false\",\"false\",\"false\",\"false\",\"false\",\"false\",\"false\",\"false\",\"false\",\"false\",\"false\",\"false\",\"false\",\"false\",\"false\",\"false\",\"false\",\"false\",\"false\",\"false\",\"false\",\"false\",\"false\",\"false\",\"false\",\"false\",\"false\",\"false\",\"false\",\"false\",\"false\",\"false\",\"false\",\"false\",\"false\",\"false\",\"false\",\"false\",\"false\",\"false\",\"false\",\"false\",\"true\",\"false\",\"false\",\"false\",\"false\",\"false\",\"false\",\"false\",\"false\",\"false\",\"false\",\"false\",\"false\",\"false\",\"false\",\"false\",\"false\",\"false\",\"false\",\"false\",\"false\",\"false\",\"false\",\"false\",\"false\",\"false\",\"false\",\"false\",\"false\",\"false\",\"false\",\"false\",\"false\",\"false\",\"false\",\"false\",\"false\",\"false\",\"false\",\"false\",\"false\",\"false\",\"false\",\"false\",\"false\",\"false\",\"false\",\"false\",\"false\",\"false\",\"false\",\"false\",\"false\",\"false\",\"false\",\"false\",\"false\",\"false\",\"false\",\"false\",\"false\"],\"x\":{\"__ndarray__\":\"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\",\"dtype\":\"float64\",\"shape\":[443]},\"y\":{\"__ndarray__\":\"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\",\"dtype\":\"float64\",\"shape\":[443]}},\"selected\":{\"id\":\"1860\",\"type\":\"Selection\"},\"selection_policy\":{\"id\":\"1861\",\"type\":\"UnionRenderers\"}},\"id\":\"1785\",\"type\":\"ColumnDataSource\"},{\"attributes\":{\"label\":{\"value\":\"false\"},\"renderers\":[{\"id\":\"1792\",\"type\":\"GlyphRenderer\"}]},\"id\":\"1799\",\"type\":\"LegendItem\"},{\"attributes\":{},\"id\":\"1859\",\"type\":\"BasicTickFormatter\"},{\"attributes\":{},\"id\":\"1770\",\"type\":\"PanTool\"},{\"attributes\":{},\"id\":\"1860\",\"type\":\"Selection\"}],\"root_ids\":[\"1750\"]},\"title\":\"Bokeh Application\",\"version\":\"1.2.0\"}};\n",
       "  var render_items = [{\"docid\":\"57169abf-048b-41f1-b6e6-2054bf647e15\",\"roots\":{\"1750\":\"1d077269-f150-433e-ae8d-ce8ca650fba9\"}}];\n",
       "  root.Bokeh.embed.embed_items_notebook(docs_json, render_items);\n",
       "\n",
       "  }\n",
       "  if (root.Bokeh !== undefined) {\n",
       "    embed_document(root);\n",
       "  } else {\n",
       "    var attempts = 0;\n",
       "    var timer = setInterval(function(root) {\n",
       "      if (root.Bokeh !== undefined) {\n",
       "        embed_document(root);\n",
       "        clearInterval(timer);\n",
       "      }\n",
       "      attempts++;\n",
       "      if (attempts > 100) {\n",
       "        console.log(\"Bokeh: ERROR: Unable to run BokehJS code because BokehJS library is missing\");\n",
       "        clearInterval(timer);\n",
       "      }\n",
       "    }, 10, root)\n",
       "  }\n",
       "})(window);"
      ],
      "application/vnd.bokehjs_exec.v0+json": ""
     },
     "metadata": {
      "application/vnd.bokehjs_exec.v0+json": {
       "id": "1750"
      }
     },
     "output_type": "display_data"
    }
   ],
   "source": [
    "p = hl.plot.scatter(mt.sample_qc.dp_stats.mean, mt.sample_qc.r_het_hom_var, xlabel='DP mean', ylabel='het/hom rate',\n",
    "                    hover_fields={'Sample': mt.s}, label=mt.high_hom_het)\n",
    "p.plot_width = 600\n",
    "p.plot_height = 600\n",
    "show(p)"
   ]
  },
  {
   "cell_type": "markdown",
   "id": "fundamental-pontiac",
   "metadata": {},
   "source": [
    "The plot above indicates these samples have similar coverage as the other samples, so that doesn't explain the high het/hom rate.\n",
    "\n",
    "We can also check the MultiQC reports of these samples (file paths below), and we see that they are all of reasonable quality."
   ]
  },
  {
   "cell_type": "code",
   "execution_count": 28,
   "id": "incomplete-demographic",
   "metadata": {},
   "outputs": [
    {
     "name": "stderr",
     "output_type": "stream",
     "text": [
      "[Stage 26:=====================================================>(191 + 1) / 192]"
     ]
    },
    {
     "name": "stdout",
     "output_type": "stream",
     "text": [
      "/data/projects/fargen_phase_1/data/single_sample_data/FN000538/multiqc/multiqc_report.html\n",
      "/data/projects/fargen_phase_1/data/single_sample_data/FN000909/multiqc/multiqc_report.html\n",
      "/data/projects/fargen_phase_1/data/single_sample_data/FN000940/multiqc/multiqc_report.html\n",
      "/data/projects/fargen_phase_1/data/single_sample_data/FN001018/multiqc/multiqc_report.html\n",
      "/data/projects/fargen_phase_1/data/single_sample_data/FN001019/multiqc/multiqc_report.html\n"
     ]
    }
   ],
   "source": [
    "high_hethom_samples = mt.filter_cols(mt.sample_qc.r_het_hom_var > het_hom_thres).s.collect()\n",
    "\n",
    "for sample in high_hethom_samples:\n",
    "    print('/data/projects/fargen_phase_1/data/single_sample_data/{sample}/multiqc/multiqc_report.html'.format(sample=sample))"
   ]
  },
  {
   "cell_type": "markdown",
   "id": "psychological-belgium",
   "metadata": {},
   "source": [
    "In the genealogy summary file (`/fargen/fargen_phase_1_utils/multi_sample/joint_genotyping/metadata/genealogy/individuals_summary.csv`), it seems that all these samples have reasonably deep roots in the Faroes. This means we have no reason to suspect this difference is due to these samples being from different populations.\n",
    "\n",
    "These four samples most likely have high het/hom rate due to poor data quality. One potential reason for this is contamination of the sample in the lab.\n",
    "\n",
    "We will **discard high het/hom rate samples**, as they may skew further analyses down the line."
   ]
  },
  {
   "cell_type": "code",
   "execution_count": 29,
   "id": "3f72ac48-5e30-46ee-bca6-195e33cb53e8",
   "metadata": {},
   "outputs": [],
   "source": [
    "mt = mt.filter_cols(mt.sample_qc.r_het_hom_var < het_hom_thres)"
   ]
  },
  {
   "cell_type": "code",
   "execution_count": 30,
   "id": "cooked-gilbert",
   "metadata": {},
   "outputs": [
    {
     "name": "stderr",
     "output_type": "stream",
     "text": [
      "[Stage 30:=====================================================>(191 + 1) / 192]"
     ]
    },
    {
     "name": "stdout",
     "output_type": "stream",
     "text": [
      "Number of variants: 1492532\n",
      "Number of samples: 469\n"
     ]
    }
   ],
   "source": [
    "n_variants, n_samples = mt.count()\n",
    "print('Number of variants: ' + str(n_variants))\n",
    "print('Number of samples: ' + str(n_samples))"
   ]
  },
  {
   "cell_type": "markdown",
   "id": "9d0865cc-3848-49b9-9019-f528a95b9032",
   "metadata": {},
   "source": [
    "## Variant counts"
   ]
  },
  {
   "cell_type": "code",
   "execution_count": 31,
   "id": "94ce055e-0cca-4de2-ad95-0844bc07c06b",
   "metadata": {},
   "outputs": [],
   "source": [
    "# Remove sites that have become invariant after the AB filter.\n",
    "mt = mt.filter_rows(mt.variant_qc.AC[1] > 0)"
   ]
  },
  {
   "cell_type": "code",
   "execution_count": 32,
   "id": "1e09ddb9-3c26-458e-a392-82f28a257669",
   "metadata": {},
   "outputs": [
    {
     "name": "stderr",
     "output_type": "stream",
     "text": [
      "[Stage 31:=====================================================>(191 + 1) / 192]"
     ]
    },
    {
     "data": {
      "text/html": [
       "<div>\n",
       "<style scoped>\n",
       "    .dataframe tbody tr th:only-of-type {\n",
       "        vertical-align: middle;\n",
       "    }\n",
       "\n",
       "    .dataframe tbody tr th {\n",
       "        vertical-align: top;\n",
       "    }\n",
       "\n",
       "    .dataframe thead th {\n",
       "        text-align: right;\n",
       "    }\n",
       "</style>\n",
       "<table border=\"1\" class=\"dataframe\">\n",
       "  <thead>\n",
       "    <tr style=\"text-align: right;\">\n",
       "      <th></th>\n",
       "      <th></th>\n",
       "    </tr>\n",
       "  </thead>\n",
       "  <tbody>\n",
       "    <tr>\n",
       "      <th>n_variants</th>\n",
       "      <td>953581.000000</td>\n",
       "    </tr>\n",
       "    <tr>\n",
       "      <th>n_snps</th>\n",
       "      <td>0.441601</td>\n",
       "    </tr>\n",
       "    <tr>\n",
       "      <th>n_indels</th>\n",
       "      <td>0.558399</td>\n",
       "    </tr>\n",
       "  </tbody>\n",
       "</table>\n",
       "</div>"
      ],
      "text/plain": [
       "                         \n",
       "n_variants  953581.000000\n",
       "n_snps           0.441601\n",
       "n_indels         0.558399"
      ]
     },
     "execution_count": 32,
     "metadata": {},
     "output_type": "execute_result"
    }
   ],
   "source": [
    "variant_counts(mt)"
   ]
  },
  {
   "cell_type": "markdown",
   "id": "81f52b52-99bf-45ef-be72-6de4fdafc3fc",
   "metadata": {},
   "source": [
    "## Write data to file"
   ]
  },
  {
   "cell_type": "code",
   "execution_count": 33,
   "id": "accepting-kingdom",
   "metadata": {},
   "outputs": [],
   "source": [
    "if False:\n",
    "    mt.write(BASE_DIR + '/data/mt/high_quality_variants.mt', overwrite=True)"
   ]
  },
  {
   "cell_type": "markdown",
   "id": "f5721fc8-688d-43c9-b6fb-08ca230c5126",
   "metadata": {},
   "source": [
    "## Summary\n",
    "\n",
    "In this notebook we have:\n",
    "\n",
    "* Filtered variants failing VQSR filter\n",
    "* Filtered variants with genotype quality < 20\n",
    "* Removed four samples with abnormally high het/hom rate (>3)"
   ]
  }
 ],
 "metadata": {
  "kernelspec": {
   "display_name": "Python [conda env:fargen-1-exome]",
   "language": "python",
   "name": "conda-env-fargen-1-exome-py"
  },
  "language_info": {
   "codemirror_mode": {
    "name": "ipython",
    "version": 3
   },
   "file_extension": ".py",
   "mimetype": "text/x-python",
   "name": "python",
   "nbconvert_exporter": "python",
   "pygments_lexer": "ipython3",
   "version": "3.7.10"
  }
 },
 "nbformat": 4,
 "nbformat_minor": 5
}
