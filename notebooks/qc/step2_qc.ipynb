{
 "cells": [
  {
   "cell_type": "code",
   "execution_count": 1,
   "id": "million-damages",
   "metadata": {},
   "outputs": [
    {
     "name": "stderr",
     "output_type": "stream",
     "text": [
      "Running on Apache Spark version 2.4.1\n",
      "SparkUI available at http://hms-beagle-7889d4ff4c-6wxtc:4043\n",
      "Welcome to\n",
      "     __  __     <>__\n",
      "    / /_/ /__  __/ /\n",
      "   / __  / _ `/ / /\n",
      "  /_/ /_/\\_,_/_/_/   version 0.2.61-3c86d3ba497a\n",
      "LOGGING: writing to /home/olavur/experiments/2020-11-13_fargen1_exome_analysis/fargen-1-exome/notebooks/qc/hail-20210316-1056-0.2.61-3c86d3ba497a.log\n"
     ]
    }
   ],
   "source": [
    "import hail as hl\n",
    "hl.init(default_reference='GRCh38', spark_conf={'spark.driver.memory': '10g', 'spark.local.dir': '/home/olavur/tmp'})"
   ]
  },
  {
   "cell_type": "code",
   "execution_count": 2,
   "id": "analyzed-warrant",
   "metadata": {},
   "outputs": [
    {
     "data": {
      "text/html": [
       "\n",
       "    <div class=\"bk-root\">\n",
       "        <a href=\"https://bokeh.pydata.org\" target=\"_blank\" class=\"bk-logo bk-logo-small bk-logo-notebook\"></a>\n",
       "        <span id=\"1001\">Loading BokehJS ...</span>\n",
       "    </div>"
      ]
     },
     "metadata": {},
     "output_type": "display_data"
    },
    {
     "data": {
      "application/javascript": [
       "\n",
       "(function(root) {\n",
       "  function now() {\n",
       "    return new Date();\n",
       "  }\n",
       "\n",
       "  var force = true;\n",
       "\n",
       "  if (typeof root._bokeh_onload_callbacks === \"undefined\" || force === true) {\n",
       "    root._bokeh_onload_callbacks = [];\n",
       "    root._bokeh_is_loading = undefined;\n",
       "  }\n",
       "\n",
       "  var JS_MIME_TYPE = 'application/javascript';\n",
       "  var HTML_MIME_TYPE = 'text/html';\n",
       "  var EXEC_MIME_TYPE = 'application/vnd.bokehjs_exec.v0+json';\n",
       "  var CLASS_NAME = 'output_bokeh rendered_html';\n",
       "\n",
       "  /**\n",
       "   * Render data to the DOM node\n",
       "   */\n",
       "  function render(props, node) {\n",
       "    var script = document.createElement(\"script\");\n",
       "    node.appendChild(script);\n",
       "  }\n",
       "\n",
       "  /**\n",
       "   * Handle when an output is cleared or removed\n",
       "   */\n",
       "  function handleClearOutput(event, handle) {\n",
       "    var cell = handle.cell;\n",
       "\n",
       "    var id = cell.output_area._bokeh_element_id;\n",
       "    var server_id = cell.output_area._bokeh_server_id;\n",
       "    // Clean up Bokeh references\n",
       "    if (id != null && id in Bokeh.index) {\n",
       "      Bokeh.index[id].model.document.clear();\n",
       "      delete Bokeh.index[id];\n",
       "    }\n",
       "\n",
       "    if (server_id !== undefined) {\n",
       "      // Clean up Bokeh references\n",
       "      var cmd = \"from bokeh.io.state import curstate; print(curstate().uuid_to_server['\" + server_id + \"'].get_sessions()[0].document.roots[0]._id)\";\n",
       "      cell.notebook.kernel.execute(cmd, {\n",
       "        iopub: {\n",
       "          output: function(msg) {\n",
       "            var id = msg.content.text.trim();\n",
       "            if (id in Bokeh.index) {\n",
       "              Bokeh.index[id].model.document.clear();\n",
       "              delete Bokeh.index[id];\n",
       "            }\n",
       "          }\n",
       "        }\n",
       "      });\n",
       "      // Destroy server and session\n",
       "      var cmd = \"import bokeh.io.notebook as ion; ion.destroy_server('\" + server_id + \"')\";\n",
       "      cell.notebook.kernel.execute(cmd);\n",
       "    }\n",
       "  }\n",
       "\n",
       "  /**\n",
       "   * Handle when a new output is added\n",
       "   */\n",
       "  function handleAddOutput(event, handle) {\n",
       "    var output_area = handle.output_area;\n",
       "    var output = handle.output;\n",
       "\n",
       "    // limit handleAddOutput to display_data with EXEC_MIME_TYPE content only\n",
       "    if ((output.output_type != \"display_data\") || (!output.data.hasOwnProperty(EXEC_MIME_TYPE))) {\n",
       "      return\n",
       "    }\n",
       "\n",
       "    var toinsert = output_area.element.find(\".\" + CLASS_NAME.split(' ')[0]);\n",
       "\n",
       "    if (output.metadata[EXEC_MIME_TYPE][\"id\"] !== undefined) {\n",
       "      toinsert[toinsert.length - 1].firstChild.textContent = output.data[JS_MIME_TYPE];\n",
       "      // store reference to embed id on output_area\n",
       "      output_area._bokeh_element_id = output.metadata[EXEC_MIME_TYPE][\"id\"];\n",
       "    }\n",
       "    if (output.metadata[EXEC_MIME_TYPE][\"server_id\"] !== undefined) {\n",
       "      var bk_div = document.createElement(\"div\");\n",
       "      bk_div.innerHTML = output.data[HTML_MIME_TYPE];\n",
       "      var script_attrs = bk_div.children[0].attributes;\n",
       "      for (var i = 0; i < script_attrs.length; i++) {\n",
       "        toinsert[toinsert.length - 1].firstChild.setAttribute(script_attrs[i].name, script_attrs[i].value);\n",
       "      }\n",
       "      // store reference to server id on output_area\n",
       "      output_area._bokeh_server_id = output.metadata[EXEC_MIME_TYPE][\"server_id\"];\n",
       "    }\n",
       "  }\n",
       "\n",
       "  function register_renderer(events, OutputArea) {\n",
       "\n",
       "    function append_mime(data, metadata, element) {\n",
       "      // create a DOM node to render to\n",
       "      var toinsert = this.create_output_subarea(\n",
       "        metadata,\n",
       "        CLASS_NAME,\n",
       "        EXEC_MIME_TYPE\n",
       "      );\n",
       "      this.keyboard_manager.register_events(toinsert);\n",
       "      // Render to node\n",
       "      var props = {data: data, metadata: metadata[EXEC_MIME_TYPE]};\n",
       "      render(props, toinsert[toinsert.length - 1]);\n",
       "      element.append(toinsert);\n",
       "      return toinsert\n",
       "    }\n",
       "\n",
       "    /* Handle when an output is cleared or removed */\n",
       "    events.on('clear_output.CodeCell', handleClearOutput);\n",
       "    events.on('delete.Cell', handleClearOutput);\n",
       "\n",
       "    /* Handle when a new output is added */\n",
       "    events.on('output_added.OutputArea', handleAddOutput);\n",
       "\n",
       "    /**\n",
       "     * Register the mime type and append_mime function with output_area\n",
       "     */\n",
       "    OutputArea.prototype.register_mime_type(EXEC_MIME_TYPE, append_mime, {\n",
       "      /* Is output safe? */\n",
       "      safe: true,\n",
       "      /* Index of renderer in `output_area.display_order` */\n",
       "      index: 0\n",
       "    });\n",
       "  }\n",
       "\n",
       "  // register the mime type if in Jupyter Notebook environment and previously unregistered\n",
       "  if (root.Jupyter !== undefined) {\n",
       "    var events = require('base/js/events');\n",
       "    var OutputArea = require('notebook/js/outputarea').OutputArea;\n",
       "\n",
       "    if (OutputArea.prototype.mime_types().indexOf(EXEC_MIME_TYPE) == -1) {\n",
       "      register_renderer(events, OutputArea);\n",
       "    }\n",
       "  }\n",
       "\n",
       "  \n",
       "  if (typeof (root._bokeh_timeout) === \"undefined\" || force === true) {\n",
       "    root._bokeh_timeout = Date.now() + 5000;\n",
       "    root._bokeh_failed_load = false;\n",
       "  }\n",
       "\n",
       "  var NB_LOAD_WARNING = {'data': {'text/html':\n",
       "     \"<div style='background-color: #fdd'>\\n\"+\n",
       "     \"<p>\\n\"+\n",
       "     \"BokehJS does not appear to have successfully loaded. If loading BokehJS from CDN, this \\n\"+\n",
       "     \"may be due to a slow or bad network connection. Possible fixes:\\n\"+\n",
       "     \"</p>\\n\"+\n",
       "     \"<ul>\\n\"+\n",
       "     \"<li>re-rerun `output_notebook()` to attempt to load from CDN again, or</li>\\n\"+\n",
       "     \"<li>use INLINE resources instead, as so:</li>\\n\"+\n",
       "     \"</ul>\\n\"+\n",
       "     \"<code>\\n\"+\n",
       "     \"from bokeh.resources import INLINE\\n\"+\n",
       "     \"output_notebook(resources=INLINE)\\n\"+\n",
       "     \"</code>\\n\"+\n",
       "     \"</div>\"}};\n",
       "\n",
       "  function display_loaded() {\n",
       "    var el = document.getElementById(\"1001\");\n",
       "    if (el != null) {\n",
       "      el.textContent = \"BokehJS is loading...\";\n",
       "    }\n",
       "    if (root.Bokeh !== undefined) {\n",
       "      if (el != null) {\n",
       "        el.textContent = \"BokehJS \" + root.Bokeh.version + \" successfully loaded.\";\n",
       "      }\n",
       "    } else if (Date.now() < root._bokeh_timeout) {\n",
       "      setTimeout(display_loaded, 100)\n",
       "    }\n",
       "  }\n",
       "\n",
       "\n",
       "  function run_callbacks() {\n",
       "    try {\n",
       "      root._bokeh_onload_callbacks.forEach(function(callback) {\n",
       "        if (callback != null)\n",
       "          callback();\n",
       "      });\n",
       "    } finally {\n",
       "      delete root._bokeh_onload_callbacks\n",
       "    }\n",
       "    console.debug(\"Bokeh: all callbacks have finished\");\n",
       "  }\n",
       "\n",
       "  function load_libs(css_urls, js_urls, callback) {\n",
       "    if (css_urls == null) css_urls = [];\n",
       "    if (js_urls == null) js_urls = [];\n",
       "\n",
       "    root._bokeh_onload_callbacks.push(callback);\n",
       "    if (root._bokeh_is_loading > 0) {\n",
       "      console.debug(\"Bokeh: BokehJS is being loaded, scheduling callback at\", now());\n",
       "      return null;\n",
       "    }\n",
       "    if (js_urls == null || js_urls.length === 0) {\n",
       "      run_callbacks();\n",
       "      return null;\n",
       "    }\n",
       "    console.debug(\"Bokeh: BokehJS not loaded, scheduling load and callback at\", now());\n",
       "    root._bokeh_is_loading = css_urls.length + js_urls.length;\n",
       "\n",
       "    function on_load() {\n",
       "      root._bokeh_is_loading--;\n",
       "      if (root._bokeh_is_loading === 0) {\n",
       "        console.debug(\"Bokeh: all BokehJS libraries/stylesheets loaded\");\n",
       "        run_callbacks()\n",
       "      }\n",
       "    }\n",
       "\n",
       "    function on_error() {\n",
       "      console.error(\"failed to load \" + url);\n",
       "    }\n",
       "\n",
       "    for (var i = 0; i < css_urls.length; i++) {\n",
       "      var url = css_urls[i];\n",
       "      const element = document.createElement(\"link\");\n",
       "      element.onload = on_load;\n",
       "      element.onerror = on_error;\n",
       "      element.rel = \"stylesheet\";\n",
       "      element.type = \"text/css\";\n",
       "      element.href = url;\n",
       "      console.debug(\"Bokeh: injecting link tag for BokehJS stylesheet: \", url);\n",
       "      document.body.appendChild(element);\n",
       "    }\n",
       "\n",
       "    for (var i = 0; i < js_urls.length; i++) {\n",
       "      var url = js_urls[i];\n",
       "      var element = document.createElement('script');\n",
       "      element.onload = on_load;\n",
       "      element.onerror = on_error;\n",
       "      element.async = false;\n",
       "      element.src = url;\n",
       "      console.debug(\"Bokeh: injecting script tag for BokehJS library: \", url);\n",
       "      document.head.appendChild(element);\n",
       "    }\n",
       "  };var element = document.getElementById(\"1001\");\n",
       "  if (element == null) {\n",
       "    console.error(\"Bokeh: ERROR: autoload.js configured with elementid '1001' but no matching script tag was found. \")\n",
       "    return false;\n",
       "  }\n",
       "\n",
       "  function inject_raw_css(css) {\n",
       "    const element = document.createElement(\"style\");\n",
       "    element.appendChild(document.createTextNode(css));\n",
       "    document.body.appendChild(element);\n",
       "  }\n",
       "\n",
       "  var js_urls = [\"https://cdn.pydata.org/bokeh/release/bokeh-1.2.0.min.js\", \"https://cdn.pydata.org/bokeh/release/bokeh-widgets-1.2.0.min.js\", \"https://cdn.pydata.org/bokeh/release/bokeh-tables-1.2.0.min.js\", \"https://cdn.pydata.org/bokeh/release/bokeh-gl-1.2.0.min.js\"];\n",
       "  var css_urls = [\"https://cdn.pydata.org/bokeh/release/bokeh-1.2.0.min.css\", \"https://cdn.pydata.org/bokeh/release/bokeh-widgets-1.2.0.min.css\", \"https://cdn.pydata.org/bokeh/release/bokeh-tables-1.2.0.min.css\"];\n",
       "\n",
       "  var inline_js = [\n",
       "    function(Bokeh) {\n",
       "      Bokeh.set_log_level(\"info\");\n",
       "    },\n",
       "    \n",
       "    function(Bokeh) {\n",
       "      \n",
       "    },\n",
       "    function(Bokeh) {} // ensure no trailing comma for IE\n",
       "  ];\n",
       "\n",
       "  function run_inline_js() {\n",
       "    \n",
       "    if ((root.Bokeh !== undefined) || (force === true)) {\n",
       "      for (var i = 0; i < inline_js.length; i++) {\n",
       "        inline_js[i].call(root, root.Bokeh);\n",
       "      }if (force === true) {\n",
       "        display_loaded();\n",
       "      }} else if (Date.now() < root._bokeh_timeout) {\n",
       "      setTimeout(run_inline_js, 100);\n",
       "    } else if (!root._bokeh_failed_load) {\n",
       "      console.log(\"Bokeh: BokehJS failed to load within specified timeout.\");\n",
       "      root._bokeh_failed_load = true;\n",
       "    } else if (force !== true) {\n",
       "      var cell = $(document.getElementById(\"1001\")).parents('.cell').data().cell;\n",
       "      cell.output_area.append_execute_result(NB_LOAD_WARNING)\n",
       "    }\n",
       "\n",
       "  }\n",
       "\n",
       "  if (root._bokeh_is_loading === 0) {\n",
       "    console.debug(\"Bokeh: BokehJS loaded, going straight to plotting\");\n",
       "    run_inline_js();\n",
       "  } else {\n",
       "    load_libs(css_urls, js_urls, function() {\n",
       "      console.debug(\"Bokeh: BokehJS plotting callback run at\", now());\n",
       "      run_inline_js();\n",
       "    });\n",
       "  }\n",
       "}(window));"
      ],
      "application/vnd.bokehjs_load.v0+json": "\n(function(root) {\n  function now() {\n    return new Date();\n  }\n\n  var force = true;\n\n  if (typeof root._bokeh_onload_callbacks === \"undefined\" || force === true) {\n    root._bokeh_onload_callbacks = [];\n    root._bokeh_is_loading = undefined;\n  }\n\n  \n\n  \n  if (typeof (root._bokeh_timeout) === \"undefined\" || force === true) {\n    root._bokeh_timeout = Date.now() + 5000;\n    root._bokeh_failed_load = false;\n  }\n\n  var NB_LOAD_WARNING = {'data': {'text/html':\n     \"<div style='background-color: #fdd'>\\n\"+\n     \"<p>\\n\"+\n     \"BokehJS does not appear to have successfully loaded. If loading BokehJS from CDN, this \\n\"+\n     \"may be due to a slow or bad network connection. Possible fixes:\\n\"+\n     \"</p>\\n\"+\n     \"<ul>\\n\"+\n     \"<li>re-rerun `output_notebook()` to attempt to load from CDN again, or</li>\\n\"+\n     \"<li>use INLINE resources instead, as so:</li>\\n\"+\n     \"</ul>\\n\"+\n     \"<code>\\n\"+\n     \"from bokeh.resources import INLINE\\n\"+\n     \"output_notebook(resources=INLINE)\\n\"+\n     \"</code>\\n\"+\n     \"</div>\"}};\n\n  function display_loaded() {\n    var el = document.getElementById(\"1001\");\n    if (el != null) {\n      el.textContent = \"BokehJS is loading...\";\n    }\n    if (root.Bokeh !== undefined) {\n      if (el != null) {\n        el.textContent = \"BokehJS \" + root.Bokeh.version + \" successfully loaded.\";\n      }\n    } else if (Date.now() < root._bokeh_timeout) {\n      setTimeout(display_loaded, 100)\n    }\n  }\n\n\n  function run_callbacks() {\n    try {\n      root._bokeh_onload_callbacks.forEach(function(callback) {\n        if (callback != null)\n          callback();\n      });\n    } finally {\n      delete root._bokeh_onload_callbacks\n    }\n    console.debug(\"Bokeh: all callbacks have finished\");\n  }\n\n  function load_libs(css_urls, js_urls, callback) {\n    if (css_urls == null) css_urls = [];\n    if (js_urls == null) js_urls = [];\n\n    root._bokeh_onload_callbacks.push(callback);\n    if (root._bokeh_is_loading > 0) {\n      console.debug(\"Bokeh: BokehJS is being loaded, scheduling callback at\", now());\n      return null;\n    }\n    if (js_urls == null || js_urls.length === 0) {\n      run_callbacks();\n      return null;\n    }\n    console.debug(\"Bokeh: BokehJS not loaded, scheduling load and callback at\", now());\n    root._bokeh_is_loading = css_urls.length + js_urls.length;\n\n    function on_load() {\n      root._bokeh_is_loading--;\n      if (root._bokeh_is_loading === 0) {\n        console.debug(\"Bokeh: all BokehJS libraries/stylesheets loaded\");\n        run_callbacks()\n      }\n    }\n\n    function on_error() {\n      console.error(\"failed to load \" + url);\n    }\n\n    for (var i = 0; i < css_urls.length; i++) {\n      var url = css_urls[i];\n      const element = document.createElement(\"link\");\n      element.onload = on_load;\n      element.onerror = on_error;\n      element.rel = \"stylesheet\";\n      element.type = \"text/css\";\n      element.href = url;\n      console.debug(\"Bokeh: injecting link tag for BokehJS stylesheet: \", url);\n      document.body.appendChild(element);\n    }\n\n    for (var i = 0; i < js_urls.length; i++) {\n      var url = js_urls[i];\n      var element = document.createElement('script');\n      element.onload = on_load;\n      element.onerror = on_error;\n      element.async = false;\n      element.src = url;\n      console.debug(\"Bokeh: injecting script tag for BokehJS library: \", url);\n      document.head.appendChild(element);\n    }\n  };var element = document.getElementById(\"1001\");\n  if (element == null) {\n    console.error(\"Bokeh: ERROR: autoload.js configured with elementid '1001' but no matching script tag was found. \")\n    return false;\n  }\n\n  function inject_raw_css(css) {\n    const element = document.createElement(\"style\");\n    element.appendChild(document.createTextNode(css));\n    document.body.appendChild(element);\n  }\n\n  var js_urls = [\"https://cdn.pydata.org/bokeh/release/bokeh-1.2.0.min.js\", \"https://cdn.pydata.org/bokeh/release/bokeh-widgets-1.2.0.min.js\", \"https://cdn.pydata.org/bokeh/release/bokeh-tables-1.2.0.min.js\", \"https://cdn.pydata.org/bokeh/release/bokeh-gl-1.2.0.min.js\"];\n  var css_urls = [\"https://cdn.pydata.org/bokeh/release/bokeh-1.2.0.min.css\", \"https://cdn.pydata.org/bokeh/release/bokeh-widgets-1.2.0.min.css\", \"https://cdn.pydata.org/bokeh/release/bokeh-tables-1.2.0.min.css\"];\n\n  var inline_js = [\n    function(Bokeh) {\n      Bokeh.set_log_level(\"info\");\n    },\n    \n    function(Bokeh) {\n      \n    },\n    function(Bokeh) {} // ensure no trailing comma for IE\n  ];\n\n  function run_inline_js() {\n    \n    if ((root.Bokeh !== undefined) || (force === true)) {\n      for (var i = 0; i < inline_js.length; i++) {\n        inline_js[i].call(root, root.Bokeh);\n      }if (force === true) {\n        display_loaded();\n      }} else if (Date.now() < root._bokeh_timeout) {\n      setTimeout(run_inline_js, 100);\n    } else if (!root._bokeh_failed_load) {\n      console.log(\"Bokeh: BokehJS failed to load within specified timeout.\");\n      root._bokeh_failed_load = true;\n    } else if (force !== true) {\n      var cell = $(document.getElementById(\"1001\")).parents('.cell').data().cell;\n      cell.output_area.append_execute_result(NB_LOAD_WARNING)\n    }\n\n  }\n\n  if (root._bokeh_is_loading === 0) {\n    console.debug(\"Bokeh: BokehJS loaded, going straight to plotting\");\n    run_inline_js();\n  } else {\n    load_libs(css_urls, js_urls, function() {\n      console.debug(\"Bokeh: BokehJS plotting callback run at\", now());\n      run_inline_js();\n    });\n  }\n}(window));"
     },
     "metadata": {},
     "output_type": "display_data"
    }
   ],
   "source": [
    "from bokeh.io import show, output_notebook\n",
    "from bokeh.layouts import gridplot\n",
    "output_notebook()"
   ]
  },
  {
   "cell_type": "markdown",
   "id": "canadian-india",
   "metadata": {},
   "source": [
    "Load variant data."
   ]
  },
  {
   "cell_type": "code",
   "execution_count": 3,
   "id": "assigned-centre",
   "metadata": {},
   "outputs": [],
   "source": [
    "BASE_DIR = '/home/olavur/experiments/2020-11-13_fargen1_exome_analysis'\n",
    "mt = hl.read_matrix_table(BASE_DIR + '/data/mt/variants.mt')"
   ]
  },
  {
   "cell_type": "code",
   "execution_count": 4,
   "id": "derived-prince",
   "metadata": {},
   "outputs": [
    {
     "name": "stdout",
     "output_type": "stream",
     "text": [
      "Number of variants: 3110759\n",
      "Number of samples: 474\n"
     ]
    }
   ],
   "source": [
    "n_variants, n_samples = mt.count()\n",
    "print('Number of variants: ' + str(n_variants))\n",
    "print('Number of samples: ' + str(n_samples))"
   ]
  },
  {
   "cell_type": "markdown",
   "id": "binding-cameroon",
   "metadata": {},
   "source": [
    "Collect QC metrics."
   ]
  },
  {
   "cell_type": "code",
   "execution_count": 5,
   "id": "radio-state",
   "metadata": {},
   "outputs": [],
   "source": [
    "mt = hl.variant_qc(mt)\n",
    "mt = hl.sample_qc(mt)"
   ]
  },
  {
   "cell_type": "markdown",
   "id": "deadly-wales",
   "metadata": {},
   "source": [
    "## VQSR filters"
   ]
  },
  {
   "cell_type": "code",
   "execution_count": 6,
   "id": "legitimate-selection",
   "metadata": {},
   "outputs": [
    {
     "data": {
      "text/plain": [
       "{'': 1332013,\n",
       " 'VQSRTrancheINDEL99.90to100.00': 261474,\n",
       " 'VQSRTrancheINDEL99.00to99.90': 630276,\n",
       " 'VQSRTrancheSNP99.90to100.00': 355989,\n",
       " 'VQSRTrancheSNP99.00to99.90': 531007}"
      ]
     },
     "execution_count": 6,
     "metadata": {},
     "output_type": "execute_result"
    }
   ],
   "source": [
    "mt = mt.transmute_rows(filters=hl.delimit(mt.filters, ','))\n",
    "mt.aggregate_rows(hl.agg.counter(mt.filters))"
   ]
  },
  {
   "cell_type": "markdown",
   "id": "african-lotus",
   "metadata": {},
   "source": [
    "We will only look at the **high-quality variants** from now on, so we filter variants in the 99% to 99.9% and the 99.9% to 100% VQSR tranches."
   ]
  },
  {
   "cell_type": "code",
   "execution_count": 7,
   "id": "numerous-mayor",
   "metadata": {},
   "outputs": [],
   "source": [
    "mt = mt.filter_rows(mt.filters == '')"
   ]
  },
  {
   "cell_type": "code",
   "execution_count": 8,
   "id": "instrumental-competition",
   "metadata": {},
   "outputs": [
    {
     "name": "stdout",
     "output_type": "stream",
     "text": [
      "Number of variants: 1332013\n",
      "Number of samples: 474\n"
     ]
    }
   ],
   "source": [
    "n_variants, n_samples = mt.count()\n",
    "print('Number of variants: ' + str(n_variants))\n",
    "print('Number of samples: ' + str(n_samples))"
   ]
  },
  {
   "cell_type": "markdown",
   "id": "expressed-robinson",
   "metadata": {},
   "source": [
    "## Variant QC"
   ]
  },
  {
   "cell_type": "code",
   "execution_count": 9,
   "id": "split-conditioning",
   "metadata": {},
   "outputs": [
    {
     "data": {
      "text/html": [
       "\n",
       "\n",
       "\n",
       "\n",
       "\n",
       "\n",
       "  <div class=\"bk-root\" id=\"b0fcb36f-fdc0-4e09-af33-e0b1bba1aa02\" data-root-id=\"1002\"></div>\n"
      ]
     },
     "metadata": {},
     "output_type": "display_data"
    },
    {
     "data": {
      "application/javascript": [
       "(function(root) {\n",
       "  function embed_document(root) {\n",
       "    \n",
       "  var docs_json = {\"00e61fd7-7784-47cb-9bef-0516318e91b6\":{\"roots\":{\"references\":[{\"attributes\":{\"background_fill_color\":{\"value\":\"#EEEEEE\"},\"below\":[{\"id\":\"1012\",\"type\":\"LinearAxis\"}],\"center\":[{\"id\":\"1016\",\"type\":\"Grid\"},{\"id\":\"1021\",\"type\":\"Grid\"},{\"id\":\"1046\",\"type\":\"Legend\"}],\"left\":[{\"id\":\"1017\",\"type\":\"LinearAxis\"}],\"plot_height\":500,\"plot_width\":800,\"renderers\":[{\"id\":\"1038\",\"type\":\"GlyphRenderer\"}],\"title\":null,\"toolbar\":{\"id\":\"1028\",\"type\":\"Toolbar\"},\"x_range\":{\"id\":\"1004\",\"type\":\"Range1d\"},\"x_scale\":{\"id\":\"1008\",\"type\":\"LinearScale\"},\"y_range\":{\"id\":\"1006\",\"type\":\"DataRange1d\"},\"y_scale\":{\"id\":\"1010\",\"type\":\"LinearScale\"}},\"id\":\"1002\",\"subtype\":\"Figure\",\"type\":\"Plot\"},{\"attributes\":{},\"id\":\"1025\",\"type\":\"SaveTool\"},{\"attributes\":{\"bottom\":{\"value\":0},\"fill_alpha\":{\"value\":0.1},\"fill_color\":{\"value\":\"#1f77b4\"},\"left\":{\"field\":\"left\"},\"line_alpha\":{\"value\":0.1},\"line_color\":{\"value\":\"#1f77b4\"},\"right\":{\"field\":\"right\"},\"top\":{\"field\":\"top\"}},\"id\":\"1037\",\"type\":\"Quad\"},{\"attributes\":{\"data_source\":{\"id\":\"1035\",\"type\":\"ColumnDataSource\"},\"glyph\":{\"id\":\"1036\",\"type\":\"Quad\"},\"hover_glyph\":null,\"muted_glyph\":null,\"nonselection_glyph\":{\"id\":\"1037\",\"type\":\"Quad\"},\"selection_glyph\":null,\"view\":{\"id\":\"1039\",\"type\":\"CDSView\"}},\"id\":\"1038\",\"type\":\"GlyphRenderer\"},{\"attributes\":{\"dimension\":1,\"ticker\":{\"id\":\"1018\",\"type\":\"BasicTicker\"}},\"id\":\"1021\",\"type\":\"Grid\"},{\"attributes\":{\"active_drag\":\"auto\",\"active_inspect\":\"auto\",\"active_multi\":null,\"active_scroll\":\"auto\",\"active_tap\":\"auto\",\"tools\":[{\"id\":\"1022\",\"type\":\"PanTool\"},{\"id\":\"1023\",\"type\":\"WheelZoomTool\"},{\"id\":\"1024\",\"type\":\"BoxZoomTool\"},{\"id\":\"1025\",\"type\":\"SaveTool\"},{\"id\":\"1026\",\"type\":\"ResetTool\"},{\"id\":\"1027\",\"type\":\"HelpTool\"}]},\"id\":\"1028\",\"type\":\"Toolbar\"},{\"attributes\":{},\"id\":\"1026\",\"type\":\"ResetTool\"},{\"attributes\":{},\"id\":\"1022\",\"type\":\"PanTool\"},{\"attributes\":{},\"id\":\"1027\",\"type\":\"HelpTool\"},{\"attributes\":{\"bottom\":{\"value\":0},\"fill_color\":{\"value\":\"#1f77b4\"},\"left\":{\"field\":\"left\"},\"right\":{\"field\":\"right\"},\"top\":{\"field\":\"top\"}},\"id\":\"1036\",\"type\":\"Quad\"},{\"attributes\":{\"axis_label\":\"Mean GQ per variant histogram\",\"formatter\":{\"id\":\"1041\",\"type\":\"BasicTickFormatter\"},\"ticker\":{\"id\":\"1013\",\"type\":\"BasicTicker\"}},\"id\":\"1012\",\"type\":\"LinearAxis\"},{\"attributes\":{},\"id\":\"1010\",\"type\":\"LinearScale\"},{\"attributes\":{\"label\":{\"value\":\"Mean GQ per variant histogram\"},\"renderers\":[{\"id\":\"1038\",\"type\":\"GlyphRenderer\"}]},\"id\":\"1047\",\"type\":\"LegendItem\"},{\"attributes\":{},\"id\":\"1053\",\"type\":\"UnionRenderers\"},{\"attributes\":{\"overlay\":{\"id\":\"1045\",\"type\":\"BoxAnnotation\"}},\"id\":\"1024\",\"type\":\"BoxZoomTool\"},{\"attributes\":{},\"id\":\"1043\",\"type\":\"BasicTickFormatter\"},{\"attributes\":{},\"id\":\"1023\",\"type\":\"WheelZoomTool\"},{\"attributes\":{\"items\":[{\"id\":\"1047\",\"type\":\"LegendItem\"}]},\"id\":\"1046\",\"type\":\"Legend\"},{\"attributes\":{\"source\":{\"id\":\"1035\",\"type\":\"ColumnDataSource\"}},\"id\":\"1039\",\"type\":\"CDSView\"},{\"attributes\":{\"bottom_units\":\"screen\",\"fill_alpha\":{\"value\":0.5},\"fill_color\":{\"value\":\"lightgrey\"},\"left_units\":\"screen\",\"level\":\"overlay\",\"line_alpha\":{\"value\":1.0},\"line_color\":{\"value\":\"black\"},\"line_dash\":[4,4],\"line_width\":{\"value\":2},\"render_mode\":\"css\",\"right_units\":\"screen\",\"top_units\":\"screen\"},\"id\":\"1045\",\"type\":\"BoxAnnotation\"},{\"attributes\":{\"callback\":null,\"end\":105.0,\"start\":-5.0},\"id\":\"1004\",\"type\":\"Range1d\"},{\"attributes\":{\"callback\":null},\"id\":\"1006\",\"type\":\"DataRange1d\"},{\"attributes\":{\"callback\":null,\"data\":{\"left\":[0.0,2.0,4.0,6.0,8.0,10.0,12.0,14.0,16.0,18.0,20.0,22.0,24.0,26.0,28.0,30.0,32.0,34.0,36.0,38.0,40.0,42.0,44.0,46.0,48.0,50.0,52.0,54.0,56.0,58.0,60.0,62.0,64.0,66.0,68.0,70.0,72.0,74.0,76.0,78.0,80.0,82.0,84.0,86.0,88.0,90.0,92.0,94.0,96.0,98.0],\"right\":[2.0,4.0,6.0,8.0,10.0,12.0,14.0,16.0,18.0,20.0,22.0,24.0,26.0,28.0,30.0,32.0,34.0,36.0,38.0,40.0,42.0,44.0,46.0,48.0,50.0,52.0,54.0,56.0,58.0,60.0,62.0,64.0,66.0,68.0,70.0,72.0,74.0,76.0,78.0,80.0,82.0,84.0,86.0,88.0,90.0,92.0,94.0,96.0,98.0,100.0],\"top\":[454,1276,1645,2078,2667,3393,3859,4646,5563,6936,7564,9344,8993,14598,17470,20274,15915,21459,25781,26948,30853,33501,34407,35261,35446,35619,35461,35307,35275,35225,34205,34179,34161,33762,33255,33405,32746,32876,32869,33437,33788,34664,35343,37437,39882,43309,48062,56160,67865,53390]},\"selected\":{\"id\":\"1054\",\"type\":\"Selection\"},\"selection_policy\":{\"id\":\"1053\",\"type\":\"UnionRenderers\"}},\"id\":\"1035\",\"type\":\"ColumnDataSource\"},{\"attributes\":{},\"id\":\"1054\",\"type\":\"Selection\"},{\"attributes\":{},\"id\":\"1041\",\"type\":\"BasicTickFormatter\"},{\"attributes\":{\"axis_label\":\"Frequency\",\"formatter\":{\"id\":\"1043\",\"type\":\"BasicTickFormatter\"},\"ticker\":{\"id\":\"1018\",\"type\":\"BasicTicker\"}},\"id\":\"1017\",\"type\":\"LinearAxis\"},{\"attributes\":{},\"id\":\"1008\",\"type\":\"LinearScale\"},{\"attributes\":{},\"id\":\"1013\",\"type\":\"BasicTicker\"},{\"attributes\":{},\"id\":\"1018\",\"type\":\"BasicTicker\"},{\"attributes\":{\"ticker\":{\"id\":\"1013\",\"type\":\"BasicTicker\"}},\"id\":\"1016\",\"type\":\"Grid\"}],\"root_ids\":[\"1002\"]},\"title\":\"Bokeh Application\",\"version\":\"1.2.0\"}};\n",
       "  var render_items = [{\"docid\":\"00e61fd7-7784-47cb-9bef-0516318e91b6\",\"roots\":{\"1002\":\"b0fcb36f-fdc0-4e09-af33-e0b1bba1aa02\"}}];\n",
       "  root.Bokeh.embed.embed_items_notebook(docs_json, render_items);\n",
       "\n",
       "  }\n",
       "  if (root.Bokeh !== undefined) {\n",
       "    embed_document(root);\n",
       "  } else {\n",
       "    var attempts = 0;\n",
       "    var timer = setInterval(function(root) {\n",
       "      if (root.Bokeh !== undefined) {\n",
       "        embed_document(root);\n",
       "        clearInterval(timer);\n",
       "      }\n",
       "      attempts++;\n",
       "      if (attempts > 100) {\n",
       "        console.log(\"Bokeh: ERROR: Unable to run BokehJS code because BokehJS library is missing\");\n",
       "        clearInterval(timer);\n",
       "      }\n",
       "    }, 10, root)\n",
       "  }\n",
       "})(window);"
      ],
      "application/vnd.bokehjs_exec.v0+json": ""
     },
     "metadata": {
      "application/vnd.bokehjs_exec.v0+json": {
       "id": "1002"
      }
     },
     "output_type": "display_data"
    }
   ],
   "source": [
    "p = hl.plot.histogram(mt.variant_qc.gq_stats.mean, range=(0,100), legend='Mean GQ per variant histogram')\n",
    "p.plot_width = 800\n",
    "p.plot_height = 500\n",
    "show(p)"
   ]
  },
  {
   "cell_type": "code",
   "execution_count": 10,
   "id": "violent-intranet",
   "metadata": {},
   "outputs": [
    {
     "data": {
      "text/html": [
       "\n",
       "\n",
       "\n",
       "\n",
       "\n",
       "\n",
       "  <div class=\"bk-root\" id=\"6554e187-2d58-4ab7-b45f-f0d3828842e4\" data-root-id=\"1104\"></div>\n"
      ]
     },
     "metadata": {},
     "output_type": "display_data"
    },
    {
     "data": {
      "application/javascript": [
       "(function(root) {\n",
       "  function embed_document(root) {\n",
       "    \n",
       "  var docs_json = {\"a51a5310-13b9-4fb7-832f-63af6974ed04\":{\"roots\":{\"references\":[{\"attributes\":{\"background_fill_color\":{\"value\":\"#EEEEEE\"},\"below\":[{\"id\":\"1114\",\"type\":\"LinearAxis\"}],\"center\":[{\"id\":\"1118\",\"type\":\"Grid\"},{\"id\":\"1123\",\"type\":\"Grid\"},{\"id\":\"1148\",\"type\":\"Legend\"}],\"left\":[{\"id\":\"1119\",\"type\":\"LinearAxis\"}],\"plot_height\":500,\"plot_width\":800,\"renderers\":[{\"id\":\"1140\",\"type\":\"GlyphRenderer\"},{\"id\":\"1153\",\"type\":\"GlyphRenderer\"}],\"title\":null,\"toolbar\":{\"id\":\"1130\",\"type\":\"Toolbar\"},\"x_range\":{\"id\":\"1106\",\"type\":\"Range1d\"},\"x_scale\":{\"id\":\"1110\",\"type\":\"LinearScale\"},\"y_range\":{\"id\":\"1108\",\"type\":\"DataRange1d\"},\"y_scale\":{\"id\":\"1112\",\"type\":\"LinearScale\"}},\"id\":\"1104\",\"subtype\":\"Figure\",\"type\":\"Plot\"},{\"attributes\":{\"bottom\":{\"value\":0},\"fill_alpha\":{\"value\":0.1},\"fill_color\":{\"value\":\"#1f77b4\"},\"left\":{\"field\":\"left\"},\"line_alpha\":{\"value\":0.1},\"line_color\":{\"value\":\"#1f77b4\"},\"right\":{\"field\":\"right\"},\"top\":{\"field\":\"top\"}},\"id\":\"1139\",\"type\":\"Quad\"},{\"attributes\":{\"items\":[{\"id\":\"1149\",\"type\":\"LegendItem\"},{\"id\":\"1163\",\"type\":\"LegendItem\"}]},\"id\":\"1148\",\"type\":\"Legend\"},{\"attributes\":{\"axis_label\":\"Frequency\",\"formatter\":{\"id\":\"1145\",\"type\":\"BasicTickFormatter\"},\"ticker\":{\"id\":\"1120\",\"type\":\"BasicTicker\"}},\"id\":\"1119\",\"type\":\"LinearAxis\"},{\"attributes\":{\"callback\":null,\"end\":105.0,\"start\":-5.0},\"id\":\"1106\",\"type\":\"Range1d\"},{\"attributes\":{},\"id\":\"1128\",\"type\":\"ResetTool\"},{\"attributes\":{\"label\":{\"value\":\"Outliers Above\"},\"renderers\":[{\"id\":\"1153\",\"type\":\"GlyphRenderer\"}]},\"id\":\"1163\",\"type\":\"LegendItem\"},{\"attributes\":{\"ticker\":{\"id\":\"1115\",\"type\":\"BasicTicker\"}},\"id\":\"1118\",\"type\":\"Grid\"},{\"attributes\":{\"bottom_units\":\"screen\",\"fill_alpha\":{\"value\":0.5},\"fill_color\":{\"value\":\"lightgrey\"},\"left_units\":\"screen\",\"level\":\"overlay\",\"line_alpha\":{\"value\":1.0},\"line_color\":{\"value\":\"black\"},\"line_dash\":[4,4],\"line_width\":{\"value\":2},\"render_mode\":\"css\",\"right_units\":\"screen\",\"top_units\":\"screen\"},\"id\":\"1147\",\"type\":\"BoxAnnotation\"},{\"attributes\":{\"active_drag\":\"auto\",\"active_inspect\":\"auto\",\"active_multi\":null,\"active_scroll\":\"auto\",\"active_tap\":\"auto\",\"tools\":[{\"id\":\"1124\",\"type\":\"PanTool\"},{\"id\":\"1125\",\"type\":\"WheelZoomTool\"},{\"id\":\"1126\",\"type\":\"BoxZoomTool\"},{\"id\":\"1127\",\"type\":\"SaveTool\"},{\"id\":\"1128\",\"type\":\"ResetTool\"},{\"id\":\"1129\",\"type\":\"HelpTool\"}]},\"id\":\"1130\",\"type\":\"Toolbar\"},{\"attributes\":{},\"id\":\"1143\",\"type\":\"BasicTickFormatter\"},{\"attributes\":{\"bottom\":{\"value\":0},\"fill_color\":{\"value\":\"green\"},\"left\":{\"value\":100.0},\"right\":{\"value\":102.0},\"top\":{\"value\":5921}},\"id\":\"1151\",\"type\":\"Quad\"},{\"attributes\":{},\"id\":\"1161\",\"type\":\"Selection\"},{\"attributes\":{},\"id\":\"1110\",\"type\":\"LinearScale\"},{\"attributes\":{},\"id\":\"1112\",\"type\":\"LinearScale\"},{\"attributes\":{},\"id\":\"1129\",\"type\":\"HelpTool\"},{\"attributes\":{},\"id\":\"1180\",\"type\":\"Selection\"},{\"attributes\":{},\"id\":\"1160\",\"type\":\"UnionRenderers\"},{\"attributes\":{},\"id\":\"1120\",\"type\":\"BasicTicker\"},{\"attributes\":{\"source\":{\"id\":\"1137\",\"type\":\"ColumnDataSource\"}},\"id\":\"1141\",\"type\":\"CDSView\"},{\"attributes\":{\"dimension\":1,\"ticker\":{\"id\":\"1120\",\"type\":\"BasicTicker\"}},\"id\":\"1123\",\"type\":\"Grid\"},{\"attributes\":{\"data_source\":{\"id\":\"1137\",\"type\":\"ColumnDataSource\"},\"glyph\":{\"id\":\"1138\",\"type\":\"Quad\"},\"hover_glyph\":null,\"muted_glyph\":null,\"nonselection_glyph\":{\"id\":\"1139\",\"type\":\"Quad\"},\"selection_glyph\":null,\"view\":{\"id\":\"1141\",\"type\":\"CDSView\"}},\"id\":\"1140\",\"type\":\"GlyphRenderer\"},{\"attributes\":{},\"id\":\"1179\",\"type\":\"UnionRenderers\"},{\"attributes\":{\"bottom\":{\"value\":0},\"fill_alpha\":{\"value\":0.1},\"fill_color\":{\"value\":\"#1f77b4\"},\"left\":{\"value\":100.0},\"line_alpha\":{\"value\":0.1},\"line_color\":{\"value\":\"#1f77b4\"},\"right\":{\"value\":102.0},\"top\":{\"value\":5921}},\"id\":\"1152\",\"type\":\"Quad\"},{\"attributes\":{\"label\":{\"value\":\"Mean DP per variant histogram\"},\"renderers\":[{\"id\":\"1140\",\"type\":\"GlyphRenderer\"}]},\"id\":\"1149\",\"type\":\"LegendItem\"},{\"attributes\":{\"callback\":null,\"data\":{},\"selected\":{\"id\":\"1180\",\"type\":\"Selection\"},\"selection_policy\":{\"id\":\"1179\",\"type\":\"UnionRenderers\"}},\"id\":\"1150\",\"type\":\"ColumnDataSource\"},{\"attributes\":{\"axis_label\":\"Mean DP per variant histogram\",\"formatter\":{\"id\":\"1143\",\"type\":\"BasicTickFormatter\"},\"ticker\":{\"id\":\"1115\",\"type\":\"BasicTicker\"}},\"id\":\"1114\",\"type\":\"LinearAxis\"},{\"attributes\":{\"data_source\":{\"id\":\"1150\",\"type\":\"ColumnDataSource\"},\"glyph\":{\"id\":\"1151\",\"type\":\"Quad\"},\"hover_glyph\":null,\"muted_glyph\":null,\"nonselection_glyph\":{\"id\":\"1152\",\"type\":\"Quad\"},\"selection_glyph\":null,\"view\":{\"id\":\"1154\",\"type\":\"CDSView\"}},\"id\":\"1153\",\"type\":\"GlyphRenderer\"},{\"attributes\":{\"bottom\":{\"value\":0},\"fill_color\":{\"value\":\"#1f77b4\"},\"left\":{\"field\":\"left\"},\"right\":{\"field\":\"right\"},\"top\":{\"field\":\"top\"}},\"id\":\"1138\",\"type\":\"Quad\"},{\"attributes\":{},\"id\":\"1125\",\"type\":\"WheelZoomTool\"},{\"attributes\":{\"source\":{\"id\":\"1150\",\"type\":\"ColumnDataSource\"}},\"id\":\"1154\",\"type\":\"CDSView\"},{\"attributes\":{\"overlay\":{\"id\":\"1147\",\"type\":\"BoxAnnotation\"}},\"id\":\"1126\",\"type\":\"BoxZoomTool\"},{\"attributes\":{},\"id\":\"1127\",\"type\":\"SaveTool\"},{\"attributes\":{},\"id\":\"1145\",\"type\":\"BasicTickFormatter\"},{\"attributes\":{},\"id\":\"1124\",\"type\":\"PanTool\"},{\"attributes\":{},\"id\":\"1115\",\"type\":\"BasicTicker\"},{\"attributes\":{\"callback\":null,\"data\":{\"left\":[0.0,2.0,4.0,6.0,8.0,10.0,12.0,14.0,16.0,18.0,20.0,22.0,24.0,26.0,28.0,30.0,32.0,34.0,36.0,38.0,40.0,42.0,44.0,46.0,48.0,50.0,52.0,54.0,56.0,58.0,60.0,62.0,64.0,66.0,68.0,70.0,72.0,74.0,76.0,78.0,80.0,82.0,84.0,86.0,88.0,90.0,92.0,94.0,96.0,98.0],\"right\":[2.0,4.0,6.0,8.0,10.0,12.0,14.0,16.0,18.0,20.0,22.0,24.0,26.0,28.0,30.0,32.0,34.0,36.0,38.0,40.0,42.0,44.0,46.0,48.0,50.0,52.0,54.0,56.0,58.0,60.0,62.0,64.0,66.0,68.0,70.0,72.0,74.0,76.0,78.0,80.0,82.0,84.0,86.0,88.0,90.0,92.0,94.0,96.0,98.0,100.0],\"top\":[21079,48712,64961,77272,82705,83804,82196,77361,72680,66498,61713,56871,52355,49069,46243,44045,42343,40193,38503,36419,32691,27412,22141,17924,14137,11128,8842,6933,5713,4759,3947,3418,2775,2526,2089,1873,1673,1431,1246,1204,1079,941,903,739,674,721,633,550,490,478]},\"selected\":{\"id\":\"1161\",\"type\":\"Selection\"},\"selection_policy\":{\"id\":\"1160\",\"type\":\"UnionRenderers\"}},\"id\":\"1137\",\"type\":\"ColumnDataSource\"},{\"attributes\":{\"callback\":null},\"id\":\"1108\",\"type\":\"DataRange1d\"}],\"root_ids\":[\"1104\"]},\"title\":\"Bokeh Application\",\"version\":\"1.2.0\"}};\n",
       "  var render_items = [{\"docid\":\"a51a5310-13b9-4fb7-832f-63af6974ed04\",\"roots\":{\"1104\":\"6554e187-2d58-4ab7-b45f-f0d3828842e4\"}}];\n",
       "  root.Bokeh.embed.embed_items_notebook(docs_json, render_items);\n",
       "\n",
       "  }\n",
       "  if (root.Bokeh !== undefined) {\n",
       "    embed_document(root);\n",
       "  } else {\n",
       "    var attempts = 0;\n",
       "    var timer = setInterval(function(root) {\n",
       "      if (root.Bokeh !== undefined) {\n",
       "        embed_document(root);\n",
       "        clearInterval(timer);\n",
       "      }\n",
       "      attempts++;\n",
       "      if (attempts > 100) {\n",
       "        console.log(\"Bokeh: ERROR: Unable to run BokehJS code because BokehJS library is missing\");\n",
       "        clearInterval(timer);\n",
       "      }\n",
       "    }, 10, root)\n",
       "  }\n",
       "})(window);"
      ],
      "application/vnd.bokehjs_exec.v0+json": ""
     },
     "metadata": {
      "application/vnd.bokehjs_exec.v0+json": {
       "id": "1104"
      }
     },
     "output_type": "display_data"
    }
   ],
   "source": [
    "p = hl.plot.histogram(mt.variant_qc.dp_stats.mean, range=(0,100), legend='Mean DP per variant histogram')\n",
    "p.plot_width = 800\n",
    "p.plot_height = 500\n",
    "show(p)"
   ]
  },
  {
   "cell_type": "markdown",
   "id": "middle-seafood",
   "metadata": {},
   "source": [
    "## Sample QC"
   ]
  },
  {
   "cell_type": "code",
   "execution_count": 11,
   "id": "worth-desperate",
   "metadata": {},
   "outputs": [
    {
     "data": {
      "text/html": [
       "\n",
       "\n",
       "\n",
       "\n",
       "\n",
       "\n",
       "  <div class=\"bk-root\" id=\"ff2d4646-dfd3-4553-8e6d-9b1d01b1c390\" data-root-id=\"1242\"></div>\n"
      ]
     },
     "metadata": {},
     "output_type": "display_data"
    },
    {
     "data": {
      "application/javascript": [
       "(function(root) {\n",
       "  function embed_document(root) {\n",
       "    \n",
       "  var docs_json = {\"ae9242e4-0cc9-4f41-a4f2-e0b2e7abd7fe\":{\"roots\":{\"references\":[{\"attributes\":{\"background_fill_color\":{\"value\":\"#EEEEEE\"},\"below\":[{\"id\":\"1252\",\"type\":\"LinearAxis\"}],\"center\":[{\"id\":\"1256\",\"type\":\"Grid\"},{\"id\":\"1261\",\"type\":\"Grid\"},{\"id\":\"1286\",\"type\":\"Legend\"}],\"left\":[{\"id\":\"1257\",\"type\":\"LinearAxis\"}],\"plot_height\":500,\"plot_width\":800,\"renderers\":[{\"id\":\"1278\",\"type\":\"GlyphRenderer\"}],\"title\":null,\"toolbar\":{\"id\":\"1268\",\"type\":\"Toolbar\"},\"x_range\":{\"id\":\"1244\",\"type\":\"Range1d\"},\"x_scale\":{\"id\":\"1248\",\"type\":\"LinearScale\"},\"y_range\":{\"id\":\"1246\",\"type\":\"DataRange1d\"},\"y_scale\":{\"id\":\"1250\",\"type\":\"LinearScale\"}},\"id\":\"1242\",\"subtype\":\"Figure\",\"type\":\"Plot\"},{\"attributes\":{\"label\":{\"value\":\"Mean Sample GQ\"},\"renderers\":[{\"id\":\"1278\",\"type\":\"GlyphRenderer\"}]},\"id\":\"1287\",\"type\":\"LegendItem\"},{\"attributes\":{\"active_drag\":\"auto\",\"active_inspect\":\"auto\",\"active_multi\":null,\"active_scroll\":\"auto\",\"active_tap\":\"auto\",\"tools\":[{\"id\":\"1262\",\"type\":\"PanTool\"},{\"id\":\"1263\",\"type\":\"WheelZoomTool\"},{\"id\":\"1264\",\"type\":\"BoxZoomTool\"},{\"id\":\"1265\",\"type\":\"SaveTool\"},{\"id\":\"1266\",\"type\":\"ResetTool\"},{\"id\":\"1267\",\"type\":\"HelpTool\"}]},\"id\":\"1268\",\"type\":\"Toolbar\"},{\"attributes\":{},\"id\":\"1253\",\"type\":\"BasicTicker\"},{\"attributes\":{\"source\":{\"id\":\"1275\",\"type\":\"ColumnDataSource\"}},\"id\":\"1279\",\"type\":\"CDSView\"},{\"attributes\":{\"bottom_units\":\"screen\",\"fill_alpha\":{\"value\":0.5},\"fill_color\":{\"value\":\"lightgrey\"},\"left_units\":\"screen\",\"level\":\"overlay\",\"line_alpha\":{\"value\":1.0},\"line_color\":{\"value\":\"black\"},\"line_dash\":[4,4],\"line_width\":{\"value\":2},\"render_mode\":\"css\",\"right_units\":\"screen\",\"top_units\":\"screen\"},\"id\":\"1285\",\"type\":\"BoxAnnotation\"},{\"attributes\":{\"axis_label\":\"Mean Sample GQ\",\"formatter\":{\"id\":\"1281\",\"type\":\"BasicTickFormatter\"},\"ticker\":{\"id\":\"1253\",\"type\":\"BasicTicker\"}},\"id\":\"1252\",\"type\":\"LinearAxis\"},{\"attributes\":{\"ticker\":{\"id\":\"1253\",\"type\":\"BasicTicker\"}},\"id\":\"1256\",\"type\":\"Grid\"},{\"attributes\":{},\"id\":\"1283\",\"type\":\"BasicTickFormatter\"},{\"attributes\":{},\"id\":\"1267\",\"type\":\"HelpTool\"},{\"attributes\":{},\"id\":\"1312\",\"type\":\"Selection\"},{\"attributes\":{},\"id\":\"1281\",\"type\":\"BasicTickFormatter\"},{\"attributes\":{\"callback\":null,\"data\":{\"left\":[10.0,11.8,13.6,15.4,17.2,19.0,20.8,22.6,24.4,26.2,28.0,29.8,31.6,33.400000000000006,35.2,37.0,38.8,40.6,42.4,44.2,46.0,47.800000000000004,49.6,51.4,53.2,55.0,56.800000000000004,58.6,60.4,62.2,64.0,65.80000000000001,67.6,69.4,71.2,73.0,74.8,76.60000000000001,78.4,80.2,82.0,83.8,85.60000000000001,87.4,89.2,91.0,92.8,94.60000000000001,96.4,98.2],\"right\":[11.8,13.6,15.4,17.2,19.0,20.8,22.6,24.4,26.2,28.0,29.8,31.6,33.400000000000006,35.2,37.0,38.8,40.6,42.4,44.2,46.0,47.800000000000004,49.6,51.4,53.2,55.0,56.800000000000004,58.6,60.4,62.2,64.0,65.80000000000001,67.6,69.4,71.2,73.0,74.8,76.60000000000001,78.4,80.2,82.0,83.8,85.60000000000001,87.4,89.2,91.0,92.8,94.60000000000001,96.4,98.2,100.0],\"top\":[0,0,0,0,0,0,0,0,0,0,1,0,0,0,1,3,1,6,4,2,4,8,12,21,22,22,26,45,43,32,52,25,36,29,23,13,16,10,9,2,4,1,0,0,1,0,0,0,0,0]},\"selected\":{\"id\":\"1312\",\"type\":\"Selection\"},\"selection_policy\":{\"id\":\"1311\",\"type\":\"UnionRenderers\"}},\"id\":\"1275\",\"type\":\"ColumnDataSource\"},{\"attributes\":{\"data_source\":{\"id\":\"1275\",\"type\":\"ColumnDataSource\"},\"glyph\":{\"id\":\"1276\",\"type\":\"Quad\"},\"hover_glyph\":null,\"muted_glyph\":null,\"nonselection_glyph\":{\"id\":\"1277\",\"type\":\"Quad\"},\"selection_glyph\":null,\"view\":{\"id\":\"1279\",\"type\":\"CDSView\"}},\"id\":\"1278\",\"type\":\"GlyphRenderer\"},{\"attributes\":{\"bottom\":{\"value\":0},\"fill_alpha\":{\"value\":0.1},\"fill_color\":{\"value\":\"#1f77b4\"},\"left\":{\"field\":\"left\"},\"line_alpha\":{\"value\":0.1},\"line_color\":{\"value\":\"#1f77b4\"},\"right\":{\"field\":\"right\"},\"top\":{\"field\":\"top\"}},\"id\":\"1277\",\"type\":\"Quad\"},{\"attributes\":{\"overlay\":{\"id\":\"1285\",\"type\":\"BoxAnnotation\"}},\"id\":\"1264\",\"type\":\"BoxZoomTool\"},{\"attributes\":{},\"id\":\"1250\",\"type\":\"LinearScale\"},{\"attributes\":{},\"id\":\"1265\",\"type\":\"SaveTool\"},{\"attributes\":{\"items\":[{\"id\":\"1287\",\"type\":\"LegendItem\"}]},\"id\":\"1286\",\"type\":\"Legend\"},{\"attributes\":{\"dimension\":1,\"ticker\":{\"id\":\"1258\",\"type\":\"BasicTicker\"}},\"id\":\"1261\",\"type\":\"Grid\"},{\"attributes\":{},\"id\":\"1258\",\"type\":\"BasicTicker\"},{\"attributes\":{},\"id\":\"1248\",\"type\":\"LinearScale\"},{\"attributes\":{},\"id\":\"1311\",\"type\":\"UnionRenderers\"},{\"attributes\":{\"axis_label\":\"Frequency\",\"formatter\":{\"id\":\"1283\",\"type\":\"BasicTickFormatter\"},\"ticker\":{\"id\":\"1258\",\"type\":\"BasicTicker\"}},\"id\":\"1257\",\"type\":\"LinearAxis\"},{\"attributes\":{\"callback\":null,\"end\":104.5,\"start\":5.5},\"id\":\"1244\",\"type\":\"Range1d\"},{\"attributes\":{\"bottom\":{\"value\":0},\"fill_color\":{\"value\":\"#1f77b4\"},\"left\":{\"field\":\"left\"},\"right\":{\"field\":\"right\"},\"top\":{\"field\":\"top\"}},\"id\":\"1276\",\"type\":\"Quad\"},{\"attributes\":{},\"id\":\"1266\",\"type\":\"ResetTool\"},{\"attributes\":{},\"id\":\"1262\",\"type\":\"PanTool\"},{\"attributes\":{\"callback\":null},\"id\":\"1246\",\"type\":\"DataRange1d\"},{\"attributes\":{},\"id\":\"1263\",\"type\":\"WheelZoomTool\"}],\"root_ids\":[\"1242\"]},\"title\":\"Bokeh Application\",\"version\":\"1.2.0\"}};\n",
       "  var render_items = [{\"docid\":\"ae9242e4-0cc9-4f41-a4f2-e0b2e7abd7fe\",\"roots\":{\"1242\":\"ff2d4646-dfd3-4553-8e6d-9b1d01b1c390\"}}];\n",
       "  root.Bokeh.embed.embed_items_notebook(docs_json, render_items);\n",
       "\n",
       "  }\n",
       "  if (root.Bokeh !== undefined) {\n",
       "    embed_document(root);\n",
       "  } else {\n",
       "    var attempts = 0;\n",
       "    var timer = setInterval(function(root) {\n",
       "      if (root.Bokeh !== undefined) {\n",
       "        embed_document(root);\n",
       "        clearInterval(timer);\n",
       "      }\n",
       "      attempts++;\n",
       "      if (attempts > 100) {\n",
       "        console.log(\"Bokeh: ERROR: Unable to run BokehJS code because BokehJS library is missing\");\n",
       "        clearInterval(timer);\n",
       "      }\n",
       "    }, 10, root)\n",
       "  }\n",
       "})(window);"
      ],
      "application/vnd.bokehjs_exec.v0+json": ""
     },
     "metadata": {
      "application/vnd.bokehjs_exec.v0+json": {
       "id": "1242"
      }
     },
     "output_type": "display_data"
    }
   ],
   "source": [
    "p = hl.plot.histogram(mt.sample_qc.gq_stats.mean, range=(10,100), legend='Mean Sample GQ')\n",
    "p.plot_width = 800\n",
    "p.plot_height = 500\n",
    "show(p)"
   ]
  },
  {
   "cell_type": "code",
   "execution_count": 12,
   "id": "manufactured-guidance",
   "metadata": {},
   "outputs": [
    {
     "data": {
      "text/html": [
       "\n",
       "\n",
       "\n",
       "\n",
       "\n",
       "\n",
       "  <div class=\"bk-root\" id=\"5949c560-f047-4f74-a6a3-8ef75da98971\" data-root-id=\"1362\"></div>\n"
      ]
     },
     "metadata": {},
     "output_type": "display_data"
    },
    {
     "data": {
      "application/javascript": [
       "(function(root) {\n",
       "  function embed_document(root) {\n",
       "    \n",
       "  var docs_json = {\"94be049b-215b-448e-a625-00adcc8ae651\":{\"roots\":{\"references\":[{\"attributes\":{\"background_fill_color\":{\"value\":\"#EEEEEE\"},\"below\":[{\"id\":\"1372\",\"type\":\"LinearAxis\"}],\"center\":[{\"id\":\"1376\",\"type\":\"Grid\"},{\"id\":\"1381\",\"type\":\"Grid\"},{\"id\":\"1406\",\"type\":\"Legend\"}],\"left\":[{\"id\":\"1377\",\"type\":\"LinearAxis\"}],\"plot_height\":500,\"plot_width\":800,\"renderers\":[{\"id\":\"1398\",\"type\":\"GlyphRenderer\"}],\"title\":null,\"toolbar\":{\"id\":\"1388\",\"type\":\"Toolbar\"},\"x_range\":{\"id\":\"1364\",\"type\":\"Range1d\"},\"x_scale\":{\"id\":\"1368\",\"type\":\"LinearScale\"},\"y_range\":{\"id\":\"1366\",\"type\":\"DataRange1d\"},\"y_scale\":{\"id\":\"1370\",\"type\":\"LinearScale\"}},\"id\":\"1362\",\"subtype\":\"Figure\",\"type\":\"Plot\"},{\"attributes\":{},\"id\":\"1373\",\"type\":\"BasicTicker\"},{\"attributes\":{\"dimension\":1,\"ticker\":{\"id\":\"1378\",\"type\":\"BasicTicker\"}},\"id\":\"1381\",\"type\":\"Grid\"},{\"attributes\":{\"ticker\":{\"id\":\"1373\",\"type\":\"BasicTicker\"}},\"id\":\"1376\",\"type\":\"Grid\"},{\"attributes\":{},\"id\":\"1368\",\"type\":\"LinearScale\"},{\"attributes\":{\"callback\":null,\"end\":63.0,\"start\":-3.0},\"id\":\"1364\",\"type\":\"Range1d\"},{\"attributes\":{\"items\":[{\"id\":\"1407\",\"type\":\"LegendItem\"}]},\"id\":\"1406\",\"type\":\"Legend\"},{\"attributes\":{},\"id\":\"1378\",\"type\":\"BasicTicker\"},{\"attributes\":{},\"id\":\"1383\",\"type\":\"WheelZoomTool\"},{\"attributes\":{\"axis_label\":\"Frequency\",\"formatter\":{\"id\":\"1403\",\"type\":\"BasicTickFormatter\"},\"ticker\":{\"id\":\"1378\",\"type\":\"BasicTicker\"}},\"id\":\"1377\",\"type\":\"LinearAxis\"},{\"attributes\":{},\"id\":\"1387\",\"type\":\"HelpTool\"},{\"attributes\":{\"callback\":null},\"id\":\"1366\",\"type\":\"DataRange1d\"},{\"attributes\":{\"callback\":null,\"data\":{\"left\":[0.0,1.2,2.4,3.5999999999999996,4.8,6.0,7.199999999999999,8.4,9.6,10.799999999999999,12.0,13.2,14.399999999999999,15.6,16.8,18.0,19.2,20.4,21.599999999999998,22.8,24.0,25.2,26.4,27.599999999999998,28.799999999999997,30.0,31.2,32.4,33.6,34.8,36.0,37.199999999999996,38.4,39.6,40.8,42.0,43.199999999999996,44.4,45.6,46.8,48.0,49.199999999999996,50.4,51.6,52.8,54.0,55.199999999999996,56.4,57.599999999999994,58.8],\"right\":[1.2,2.4,3.5999999999999996,4.8,6.0,7.199999999999999,8.4,9.6,10.799999999999999,12.0,13.2,14.399999999999999,15.6,16.8,18.0,19.2,20.4,21.599999999999998,22.8,24.0,25.2,26.4,27.599999999999998,28.799999999999997,30.0,31.2,32.4,33.6,34.8,36.0,37.199999999999996,38.4,39.6,40.8,42.0,43.199999999999996,44.4,45.6,46.8,48.0,49.199999999999996,50.4,51.6,52.8,54.0,55.199999999999996,56.4,57.599999999999994,58.8,60.0],\"top\":[0,0,1,0,0,3,5,5,3,8,14,17,24,26,28,43,35,33,45,31,28,34,20,15,13,6,11,6,4,6,3,2,4,0,0,0,0,0,0,0,0,0,0,1,0,0,0,0,0,0]},\"selected\":{\"id\":\"1440\",\"type\":\"Selection\"},\"selection_policy\":{\"id\":\"1439\",\"type\":\"UnionRenderers\"}},\"id\":\"1395\",\"type\":\"ColumnDataSource\"},{\"attributes\":{\"bottom\":{\"value\":0},\"fill_color\":{\"value\":\"#1f77b4\"},\"left\":{\"field\":\"left\"},\"right\":{\"field\":\"right\"},\"top\":{\"field\":\"top\"}},\"id\":\"1396\",\"type\":\"Quad\"},{\"attributes\":{\"source\":{\"id\":\"1395\",\"type\":\"ColumnDataSource\"}},\"id\":\"1399\",\"type\":\"CDSView\"},{\"attributes\":{\"overlay\":{\"id\":\"1405\",\"type\":\"BoxAnnotation\"}},\"id\":\"1384\",\"type\":\"BoxZoomTool\"},{\"attributes\":{},\"id\":\"1386\",\"type\":\"ResetTool\"},{\"attributes\":{\"data_source\":{\"id\":\"1395\",\"type\":\"ColumnDataSource\"},\"glyph\":{\"id\":\"1396\",\"type\":\"Quad\"},\"hover_glyph\":null,\"muted_glyph\":null,\"nonselection_glyph\":{\"id\":\"1397\",\"type\":\"Quad\"},\"selection_glyph\":null,\"view\":{\"id\":\"1399\",\"type\":\"CDSView\"}},\"id\":\"1398\",\"type\":\"GlyphRenderer\"},{\"attributes\":{},\"id\":\"1439\",\"type\":\"UnionRenderers\"},{\"attributes\":{},\"id\":\"1401\",\"type\":\"BasicTickFormatter\"},{\"attributes\":{},\"id\":\"1403\",\"type\":\"BasicTickFormatter\"},{\"attributes\":{},\"id\":\"1382\",\"type\":\"PanTool\"},{\"attributes\":{\"bottom\":{\"value\":0},\"fill_alpha\":{\"value\":0.1},\"fill_color\":{\"value\":\"#1f77b4\"},\"left\":{\"field\":\"left\"},\"line_alpha\":{\"value\":0.1},\"line_color\":{\"value\":\"#1f77b4\"},\"right\":{\"field\":\"right\"},\"top\":{\"field\":\"top\"}},\"id\":\"1397\",\"type\":\"Quad\"},{\"attributes\":{\"bottom_units\":\"screen\",\"fill_alpha\":{\"value\":0.5},\"fill_color\":{\"value\":\"lightgrey\"},\"left_units\":\"screen\",\"level\":\"overlay\",\"line_alpha\":{\"value\":1.0},\"line_color\":{\"value\":\"black\"},\"line_dash\":[4,4],\"line_width\":{\"value\":2},\"render_mode\":\"css\",\"right_units\":\"screen\",\"top_units\":\"screen\"},\"id\":\"1405\",\"type\":\"BoxAnnotation\"},{\"attributes\":{},\"id\":\"1440\",\"type\":\"Selection\"},{\"attributes\":{\"active_drag\":\"auto\",\"active_inspect\":\"auto\",\"active_multi\":null,\"active_scroll\":\"auto\",\"active_tap\":\"auto\",\"tools\":[{\"id\":\"1382\",\"type\":\"PanTool\"},{\"id\":\"1383\",\"type\":\"WheelZoomTool\"},{\"id\":\"1384\",\"type\":\"BoxZoomTool\"},{\"id\":\"1385\",\"type\":\"SaveTool\"},{\"id\":\"1386\",\"type\":\"ResetTool\"},{\"id\":\"1387\",\"type\":\"HelpTool\"}]},\"id\":\"1388\",\"type\":\"Toolbar\"},{\"attributes\":{},\"id\":\"1370\",\"type\":\"LinearScale\"},{\"attributes\":{\"axis_label\":\"Mean Sample DP\",\"formatter\":{\"id\":\"1401\",\"type\":\"BasicTickFormatter\"},\"ticker\":{\"id\":\"1373\",\"type\":\"BasicTicker\"}},\"id\":\"1372\",\"type\":\"LinearAxis\"},{\"attributes\":{\"label\":{\"value\":\"Mean Sample DP\"},\"renderers\":[{\"id\":\"1398\",\"type\":\"GlyphRenderer\"}]},\"id\":\"1407\",\"type\":\"LegendItem\"},{\"attributes\":{},\"id\":\"1385\",\"type\":\"SaveTool\"}],\"root_ids\":[\"1362\"]},\"title\":\"Bokeh Application\",\"version\":\"1.2.0\"}};\n",
       "  var render_items = [{\"docid\":\"94be049b-215b-448e-a625-00adcc8ae651\",\"roots\":{\"1362\":\"5949c560-f047-4f74-a6a3-8ef75da98971\"}}];\n",
       "  root.Bokeh.embed.embed_items_notebook(docs_json, render_items);\n",
       "\n",
       "  }\n",
       "  if (root.Bokeh !== undefined) {\n",
       "    embed_document(root);\n",
       "  } else {\n",
       "    var attempts = 0;\n",
       "    var timer = setInterval(function(root) {\n",
       "      if (root.Bokeh !== undefined) {\n",
       "        embed_document(root);\n",
       "        clearInterval(timer);\n",
       "      }\n",
       "      attempts++;\n",
       "      if (attempts > 100) {\n",
       "        console.log(\"Bokeh: ERROR: Unable to run BokehJS code because BokehJS library is missing\");\n",
       "        clearInterval(timer);\n",
       "      }\n",
       "    }, 10, root)\n",
       "  }\n",
       "})(window);"
      ],
      "application/vnd.bokehjs_exec.v0+json": ""
     },
     "metadata": {
      "application/vnd.bokehjs_exec.v0+json": {
       "id": "1362"
      }
     },
     "output_type": "display_data"
    }
   ],
   "source": [
    "p = hl.plot.histogram(mt.sample_qc.dp_stats.mean, range=(0,60), legend='Mean Sample DP')\n",
    "p.plot_width = 800\n",
    "p.plot_height = 500\n",
    "show(p)"
   ]
  },
  {
   "cell_type": "code",
   "execution_count": 13,
   "id": "outstanding-mississippi",
   "metadata": {},
   "outputs": [
    {
     "data": {
      "text/html": [
       "\n",
       "\n",
       "\n",
       "\n",
       "\n",
       "\n",
       "  <div class=\"bk-root\" id=\"3b882ac2-024f-4d12-8b4d-9c6c3a7fcc0c\" data-root-id=\"1490\"></div>\n"
      ]
     },
     "metadata": {},
     "output_type": "display_data"
    },
    {
     "data": {
      "application/javascript": [
       "(function(root) {\n",
       "  function embed_document(root) {\n",
       "    \n",
       "  var docs_json = {\"67f4855d-2fe3-4932-94dc-9d0278c76234\":{\"roots\":{\"references\":[{\"attributes\":{\"background_fill_color\":{\"value\":\"#EEEEEE\"},\"below\":[{\"id\":\"1500\",\"type\":\"LinearAxis\"}],\"center\":[{\"id\":\"1504\",\"type\":\"Grid\"},{\"id\":\"1509\",\"type\":\"Grid\"},{\"id\":\"1534\",\"type\":\"Legend\"}],\"left\":[{\"id\":\"1505\",\"type\":\"LinearAxis\"}],\"plot_height\":500,\"plot_width\":800,\"renderers\":[{\"id\":\"1526\",\"type\":\"GlyphRenderer\"}],\"title\":null,\"toolbar\":{\"id\":\"1516\",\"type\":\"Toolbar\"},\"x_range\":{\"id\":\"1492\",\"type\":\"Range1d\"},\"x_scale\":{\"id\":\"1496\",\"type\":\"LinearScale\"},\"y_range\":{\"id\":\"1494\",\"type\":\"DataRange1d\"},\"y_scale\":{\"id\":\"1498\",\"type\":\"LinearScale\"}},\"id\":\"1490\",\"subtype\":\"Figure\",\"type\":\"Plot\"},{\"attributes\":{\"dimension\":1,\"ticker\":{\"id\":\"1506\",\"type\":\"BasicTicker\"}},\"id\":\"1509\",\"type\":\"Grid\"},{\"attributes\":{\"bottom\":{\"value\":0},\"fill_alpha\":{\"value\":0.1},\"fill_color\":{\"value\":\"#1f77b4\"},\"left\":{\"field\":\"left\"},\"line_alpha\":{\"value\":0.1},\"line_color\":{\"value\":\"#1f77b4\"},\"right\":{\"field\":\"right\"},\"top\":{\"field\":\"top\"}},\"id\":\"1525\",\"type\":\"Quad\"},{\"attributes\":{\"callback\":null},\"id\":\"1494\",\"type\":\"DataRange1d\"},{\"attributes\":{},\"id\":\"1514\",\"type\":\"ResetTool\"},{\"attributes\":{\"active_drag\":\"auto\",\"active_inspect\":\"auto\",\"active_multi\":null,\"active_scroll\":\"auto\",\"active_tap\":\"auto\",\"tools\":[{\"id\":\"1510\",\"type\":\"PanTool\"},{\"id\":\"1511\",\"type\":\"WheelZoomTool\"},{\"id\":\"1512\",\"type\":\"BoxZoomTool\"},{\"id\":\"1513\",\"type\":\"SaveTool\"},{\"id\":\"1514\",\"type\":\"ResetTool\"},{\"id\":\"1515\",\"type\":\"HelpTool\"}]},\"id\":\"1516\",\"type\":\"Toolbar\"},{\"attributes\":{\"bottom_units\":\"screen\",\"fill_alpha\":{\"value\":0.5},\"fill_color\":{\"value\":\"lightgrey\"},\"left_units\":\"screen\",\"level\":\"overlay\",\"line_alpha\":{\"value\":1.0},\"line_color\":{\"value\":\"black\"},\"line_dash\":[4,4],\"line_width\":{\"value\":2},\"render_mode\":\"css\",\"right_units\":\"screen\",\"top_units\":\"screen\"},\"id\":\"1533\",\"type\":\"BoxAnnotation\"},{\"attributes\":{\"ticker\":{\"id\":\"1501\",\"type\":\"BasicTicker\"}},\"id\":\"1504\",\"type\":\"Grid\"},{\"attributes\":{},\"id\":\"1498\",\"type\":\"LinearScale\"},{\"attributes\":{},\"id\":\"1506\",\"type\":\"BasicTicker\"},{\"attributes\":{\"overlay\":{\"id\":\"1533\",\"type\":\"BoxAnnotation\"}},\"id\":\"1512\",\"type\":\"BoxZoomTool\"},{\"attributes\":{\"axis_label\":\"Het/hom rate\",\"formatter\":{\"id\":\"1529\",\"type\":\"BasicTickFormatter\"},\"ticker\":{\"id\":\"1501\",\"type\":\"BasicTicker\"}},\"id\":\"1500\",\"type\":\"LinearAxis\"},{\"attributes\":{},\"id\":\"1513\",\"type\":\"SaveTool\"},{\"attributes\":{},\"id\":\"1529\",\"type\":\"BasicTickFormatter\"},{\"attributes\":{\"bottom\":{\"value\":0},\"fill_color\":{\"value\":\"#1f77b4\"},\"left\":{\"field\":\"left\"},\"right\":{\"field\":\"right\"},\"top\":{\"field\":\"top\"}},\"id\":\"1524\",\"type\":\"Quad\"},{\"attributes\":{},\"id\":\"1531\",\"type\":\"BasicTickFormatter\"},{\"attributes\":{},\"id\":\"1575\",\"type\":\"UnionRenderers\"},{\"attributes\":{},\"id\":\"1510\",\"type\":\"PanTool\"},{\"attributes\":{},\"id\":\"1511\",\"type\":\"WheelZoomTool\"},{\"attributes\":{},\"id\":\"1576\",\"type\":\"Selection\"},{\"attributes\":{\"callback\":null,\"end\":4.135,\"start\":1.165},\"id\":\"1492\",\"type\":\"Range1d\"},{\"attributes\":{},\"id\":\"1515\",\"type\":\"HelpTool\"},{\"attributes\":{\"label\":{\"value\":\"Het/hom rate\"},\"renderers\":[{\"id\":\"1526\",\"type\":\"GlyphRenderer\"}]},\"id\":\"1535\",\"type\":\"LegendItem\"},{\"attributes\":{},\"id\":\"1501\",\"type\":\"BasicTicker\"},{\"attributes\":{\"callback\":null,\"data\":{\"left\":[1.3,1.354,1.4080000000000001,1.4620000000000002,1.516,1.57,1.624,1.6780000000000002,1.7320000000000002,1.786,1.84,1.8940000000000001,1.9480000000000002,2.0020000000000002,2.056,2.1100000000000003,2.164,2.218,2.2720000000000002,2.326,2.38,2.434,2.4880000000000004,2.5420000000000003,2.596,2.6500000000000004,2.704,2.758,2.8120000000000003,2.8660000000000005,2.92,2.974,3.0280000000000005,3.0820000000000003,3.136,3.1900000000000004,3.244,3.298,3.3520000000000003,3.4060000000000006,3.46,3.5140000000000002,3.5680000000000005,3.622,3.676,3.7300000000000004,3.7840000000000007,3.838,3.8920000000000003,3.9460000000000006],\"right\":[1.354,1.4080000000000001,1.4620000000000002,1.516,1.57,1.624,1.6780000000000002,1.7320000000000002,1.786,1.84,1.8940000000000001,1.9480000000000002,2.0020000000000002,2.056,2.1100000000000003,2.164,2.218,2.2720000000000002,2.326,2.38,2.434,2.4880000000000004,2.5420000000000003,2.596,2.6500000000000004,2.704,2.758,2.8120000000000003,2.8660000000000005,2.92,2.974,3.0280000000000005,3.0820000000000003,3.136,3.1900000000000004,3.244,3.298,3.3520000000000003,3.4060000000000006,3.46,3.5140000000000002,3.5680000000000005,3.622,3.676,3.7300000000000004,3.7840000000000007,3.838,3.8920000000000003,3.9460000000000006,4.0],\"top\":[0,0,0,1,1,0,5,2,5,10,20,28,47,64,61,68,63,38,21,16,13,4,1,1,1,0,0,0,0,0,0,0,0,0,0,1,0,1,0,0,0,1,0,0,1,0,0,0,0,0]},\"selected\":{\"id\":\"1576\",\"type\":\"Selection\"},\"selection_policy\":{\"id\":\"1575\",\"type\":\"UnionRenderers\"}},\"id\":\"1523\",\"type\":\"ColumnDataSource\"},{\"attributes\":{\"source\":{\"id\":\"1523\",\"type\":\"ColumnDataSource\"}},\"id\":\"1527\",\"type\":\"CDSView\"},{\"attributes\":{\"items\":[{\"id\":\"1535\",\"type\":\"LegendItem\"}]},\"id\":\"1534\",\"type\":\"Legend\"},{\"attributes\":{},\"id\":\"1496\",\"type\":\"LinearScale\"},{\"attributes\":{\"axis_label\":\"Frequency\",\"formatter\":{\"id\":\"1531\",\"type\":\"BasicTickFormatter\"},\"ticker\":{\"id\":\"1506\",\"type\":\"BasicTicker\"}},\"id\":\"1505\",\"type\":\"LinearAxis\"},{\"attributes\":{\"data_source\":{\"id\":\"1523\",\"type\":\"ColumnDataSource\"},\"glyph\":{\"id\":\"1524\",\"type\":\"Quad\"},\"hover_glyph\":null,\"muted_glyph\":null,\"nonselection_glyph\":{\"id\":\"1525\",\"type\":\"Quad\"},\"selection_glyph\":null,\"view\":{\"id\":\"1527\",\"type\":\"CDSView\"}},\"id\":\"1526\",\"type\":\"GlyphRenderer\"}],\"root_ids\":[\"1490\"]},\"title\":\"Bokeh Application\",\"version\":\"1.2.0\"}};\n",
       "  var render_items = [{\"docid\":\"67f4855d-2fe3-4932-94dc-9d0278c76234\",\"roots\":{\"1490\":\"3b882ac2-024f-4d12-8b4d-9c6c3a7fcc0c\"}}];\n",
       "  root.Bokeh.embed.embed_items_notebook(docs_json, render_items);\n",
       "\n",
       "  }\n",
       "  if (root.Bokeh !== undefined) {\n",
       "    embed_document(root);\n",
       "  } else {\n",
       "    var attempts = 0;\n",
       "    var timer = setInterval(function(root) {\n",
       "      if (root.Bokeh !== undefined) {\n",
       "        embed_document(root);\n",
       "        clearInterval(timer);\n",
       "      }\n",
       "      attempts++;\n",
       "      if (attempts > 100) {\n",
       "        console.log(\"Bokeh: ERROR: Unable to run BokehJS code because BokehJS library is missing\");\n",
       "        clearInterval(timer);\n",
       "      }\n",
       "    }, 10, root)\n",
       "  }\n",
       "})(window);"
      ],
      "application/vnd.bokehjs_exec.v0+json": ""
     },
     "metadata": {
      "application/vnd.bokehjs_exec.v0+json": {
       "id": "1490"
      }
     },
     "output_type": "display_data"
    }
   ],
   "source": [
    "p = hl.plot.histogram(mt.sample_qc.r_het_hom_var, range=(1.3,4), legend='Het/hom rate')\n",
    "p.plot_width = 800\n",
    "p.plot_height = 500\n",
    "show(p)"
   ]
  },
  {
   "cell_type": "markdown",
   "id": "controlling-reconstruction",
   "metadata": {},
   "source": [
    "Looks like there are a few samples with a lot higher het/hom rate than the rest of the samples. Let's check whether this is due to poor coverage."
   ]
  },
  {
   "cell_type": "code",
   "execution_count": 14,
   "id": "standing-flavor",
   "metadata": {},
   "outputs": [],
   "source": [
    "mt = mt.annotate_cols(high_hom_het=mt.sample_qc.r_het_hom_var > 3)"
   ]
  },
  {
   "cell_type": "code",
   "execution_count": 15,
   "id": "wooden-aging",
   "metadata": {},
   "outputs": [
    {
     "data": {
      "text/html": [
       "\n",
       "\n",
       "\n",
       "\n",
       "\n",
       "\n",
       "  <div class=\"bk-root\" id=\"308836a1-3f5b-4de3-ac33-f784c6ac82bf\" data-root-id=\"1626\"></div>\n"
      ]
     },
     "metadata": {},
     "output_type": "display_data"
    },
    {
     "data": {
      "application/javascript": [
       "(function(root) {\n",
       "  function embed_document(root) {\n",
       "    \n",
       "  var docs_json = {\"4eba3b81-8677-45be-9f65-d1ccdd80758d\":{\"roots\":{\"references\":[{\"attributes\":{\"below\":[{\"id\":\"1636\",\"type\":\"LinearAxis\"}],\"center\":[{\"id\":\"1640\",\"type\":\"Grid\"},{\"id\":\"1645\",\"type\":\"Grid\"}],\"left\":[{\"id\":\"1641\",\"type\":\"LinearAxis\"},{\"id\":\"1677\",\"type\":\"Legend\"},{\"id\":\"1678\",\"type\":\"ColorBar\"}],\"plot_height\":600,\"plot_width\":600,\"renderers\":[{\"id\":\"1668\",\"type\":\"GlyphRenderer\"},{\"id\":\"1674\",\"type\":\"GlyphRenderer\"}],\"title\":null,\"toolbar\":{\"id\":\"1652\",\"type\":\"Toolbar\"},\"x_range\":{\"id\":\"1628\",\"type\":\"DataRange1d\"},\"x_scale\":{\"id\":\"1632\",\"type\":\"LinearScale\"},\"y_range\":{\"id\":\"1630\",\"type\":\"DataRange1d\"},\"y_scale\":{\"id\":\"1634\",\"type\":\"LinearScale\"}},\"id\":\"1626\",\"subtype\":\"Figure\",\"type\":\"Plot\"},{\"attributes\":{},\"id\":\"1726\",\"type\":\"BasicTickFormatter\"},{\"attributes\":{\"filters\":[{\"id\":\"1663\",\"type\":\"GroupFilter\"}],\"source\":{\"id\":\"1661\",\"type\":\"ColumnDataSource\"}},\"id\":\"1664\",\"type\":\"CDSView\"},{\"attributes\":{\"click_policy\":\"hide\",\"items\":[{\"id\":\"1675\",\"type\":\"LegendItem\"},{\"id\":\"1676\",\"type\":\"LegendItem\"}]},\"id\":\"1677\",\"type\":\"Legend\"},{\"attributes\":{\"fill_color\":{\"field\":\"label\",\"transform\":{\"id\":\"1662\",\"type\":\"CategoricalColorMapper\"}},\"line_color\":{\"field\":\"label\",\"transform\":{\"id\":\"1662\",\"type\":\"CategoricalColorMapper\"}},\"x\":{\"field\":\"x\"},\"y\":{\"field\":\"y\"}},\"id\":\"1666\",\"type\":\"Circle\"},{\"attributes\":{\"callback\":null},\"id\":\"1630\",\"type\":\"DataRange1d\"},{\"attributes\":{},\"id\":\"1728\",\"type\":\"UnionRenderers\"},{\"attributes\":{\"column_name\":\"label\",\"group\":\"true\"},\"id\":\"1669\",\"type\":\"GroupFilter\"},{\"attributes\":{},\"id\":\"1724\",\"type\":\"BasicTickFormatter\"},{\"attributes\":{},\"id\":\"1650\",\"type\":\"ResetTool\"},{\"attributes\":{},\"id\":\"1632\",\"type\":\"LinearScale\"},{\"attributes\":{\"bottom_units\":\"screen\",\"fill_alpha\":{\"value\":0.5},\"fill_color\":{\"value\":\"lightgrey\"},\"left_units\":\"screen\",\"level\":\"overlay\",\"line_alpha\":{\"value\":1.0},\"line_color\":{\"value\":\"black\"},\"line_dash\":[4,4],\"line_width\":{\"value\":2},\"render_mode\":\"css\",\"right_units\":\"screen\",\"top_units\":\"screen\"},\"id\":\"1730\",\"type\":\"BoxAnnotation\"},{\"attributes\":{\"callback\":null,\"tooltips\":[[\"x\",\"@x\"],[\"y\",\"@y\"],[\"Sample\",\"@Sample\"],[\"label\",\"@label\"]]},\"id\":\"1660\",\"type\":\"HoverTool\"},{\"attributes\":{\"column_name\":\"label\",\"group\":\"false\"},\"id\":\"1663\",\"type\":\"GroupFilter\"},{\"attributes\":{},\"id\":\"1637\",\"type\":\"BasicTicker\"},{\"attributes\":{\"callback\":null,\"data\":{\"Sample\":[\"FN000538\",\"FN000755\",\"FN000938\",\"FN000020\",\"FN000761\",\"FN000544\",\"FN000557\",\"FN000559\",\"FN001110\",\"FN000277\",\"FN000862\",\"FN000953\",\"FN000618\",\"FN000217\",\"FN000925\",\"FN000878\",\"FN001020\",\"FN000558\",\"FN000206\",\"FN000412\",\"FN000254\",\"FN000902\",\"FN001109\",\"FN000190\",\"FN000762\",\"FN001415\",\"FN000017\",\"FN000018\",\"FN000931\",\"FN000562\",\"FN000507\",\"FN001092\",\"FN001416\",\"FN000504\",\"FN001251\",\"FN000396\",\"FN000019\",\"FN000369\",\"FN000399\",\"FN000476\",\"FN000873\",\"FN001346\",\"FN000804\",\"FN000940\",\"FN000639\",\"FN000506\",\"FN000635\",\"FN000182\",\"FN001022\",\"FN000817\",\"FN001377\",\"FN001116\",\"FN000016\",\"FN000298\",\"FN001249\",\"FN000152\",\"FN001247\",\"FN001433\",\"FN000251\",\"FN000178\",\"FN000394\",\"FN000015\",\"FN000749\",\"FN000933\",\"FN000503\",\"FN000122\",\"FN000759\",\"FN000629\",\"FN000326\",\"FN000502\",\"FN001045\",\"FN000934\",\"FN000138\",\"FN000405\",\"FN001089\",\"FN000512\",\"FN001021\",\"FN000879\",\"FN000414\",\"FN000240\",\"FN000697\",\"FN000317\",\"FN000400\",\"FN000537\",\"FN001409\",\"FN001025\",\"FN000566\",\"FN001115\",\"FN001093\",\"FN000763\",\"FN000281\",\"FN000242\",\"FN001488\",\"FN000929\",\"FN001094\",\"FN000867\",\"FN000898\",\"FN000778\",\"FN000693\",\"FN000866\",\"FN000427\",\"FN000899\",\"FN001398\",\"FN000634\",\"FN000125\",\"FN000411\",\"FN000011\",\"FN000935\",\"FN000583\",\"FN000534\",\"FN000671\",\"FN000442\",\"FN000957\",\"FN000124\",\"FN001390\",\"FN000549\",\"FN001379\",\"FN000105\",\"FN000116\",\"FN001130\",\"FN000377\",\"FN001001\",\"FN001157\",\"FN000071\",\"FN001046\",\"FN001118\",\"FN000306\",\"FN000320\",\"FN000824\",\"FN000044\",\"FN000774\",\"FN000238\",\"FN000021\",\"FN000435\",\"FN001381\",\"FN001120\",\"FN001400\",\"FN000932\",\"FN000930\",\"FN000447\",\"FN000619\",\"FN000474\",\"FN000810\",\"FN000106\",\"FN001138\",\"FN000022\",\"FN000969\",\"FN000777\",\"FN000742\",\"FN000050\",\"FN000393\",\"FN000119\",\"FN000917\",\"FN000875\",\"FN000906\",\"FN001143\",\"FN000923\",\"FN000870\",\"FN000389\",\"FN001410\",\"FN000469\",\"FN000131\",\"FN000305\",\"FN000477\",\"FN000121\",\"FN000023\",\"FN001426\",\"FN000625\",\"FN000009\",\"FN000966\",\"FN000770\",\"FN001088\",\"FN000111\",\"FN000738\",\"FN001523\",\"FN000955\",\"FN001527\",\"FN001384\",\"FN000882\",\"FN000771\",\"FN000602\",\"FN000703\",\"FN000187\",\"FN001482\",\"FN000877\",\"FN000244\",\"FN000191\",\"FN000941\",\"FN000569\",\"FN001132\",\"FN001366\",\"FN000024\",\"FN000541\",\"FN000971\",\"FN000049\",\"FN000397\",\"FN000769\",\"FN000289\",\"FN000236\",\"FN000884\",\"FN000489\",\"FN000958\",\"FN000456\",\"FN000127\",\"FN000954\",\"FN000408\",\"FN000002\",\"FN001135\",\"FN001431\",\"FN001522\",\"FN000920\",\"FN000487\",\"FN000581\",\"FN001371\",\"FN000204\",\"FN001383\",\"FN000895\",\"FN000038\",\"FN000416\",\"FN000928\",\"FN000820\",\"FN000510\",\"FN001017\",\"FN001437\",\"FN000278\",\"FN000410\",\"FN000909\",\"FN000039\",\"FN000889\",\"FN000599\",\"FN000450\",\"FN000914\",\"FN000854\",\"FN000313\",\"FN000531\",\"FN000392\",\"FN000970\",\"FN000527\",\"FN001389\",\"FN000200\",\"FN000370\",\"FN001394\",\"FN000528\",\"FN000055\",\"FN001127\",\"FN001439\",\"FN000248\",\"FN000607\",\"FN000513\",\"FN000943\",\"FN000809\",\"FN000045\",\"FN000586\",\"FN001401\",\"FN000034\",\"FN001425\",\"FN000776\",\"FN000380\",\"FN001091\",\"FN000159\",\"FN000014\",\"FN000282\",\"FN000054\",\"FN000495\",\"FN000475\",\"FN000781\",\"FN000259\",\"FN000794\",\"FN000924\",\"FN000303\",\"FN001411\",\"FN001023\",\"FN001486\",\"FN000780\",\"FN000496\",\"FN000301\",\"FN000322\",\"FN000612\",\"FN000470\",\"FN000628\",\"FN000896\",\"FN000249\",\"FN000962\",\"FN000040\",\"FN001392\",\"FN000948\",\"FN001085\",\"FN000252\",\"FN000529\",\"FN000233\",\"FN000032\",\"FN001432\",\"FN001134\",\"FN000053\",\"FN001117\",\"FN000905\",\"FN001395\",\"FN000446\",\"FN000518\",\"FN001490\",\"FN000403\",\"FN000309\",\"FN000237\",\"FN001133\",\"FN000892\",\"FN001090\",\"FN000360\",\"FN000521\",\"FN000224\",\"FN000001\",\"FN001111\",\"FN000926\",\"FN000284\",\"FN001019\",\"FN000123\",\"FN000890\",\"FN000998\",\"FN000387\",\"FN000103\",\"FN000035\",\"FN001414\",\"FN000498\",\"FN000440\",\"FN001417\",\"FN000036\",\"FN000417\",\"FN001418\",\"FN000563\",\"FN000949\",\"FN000947\",\"FN000886\",\"FN001440\",\"FN001347\",\"FN000767\",\"FN000216\",\"FN000960\",\"FN000526\",\"FN000037\",\"FN000913\",\"FN000488\",\"FN000881\",\"FN000374\",\"FN000052\",\"FN000061\",\"FN000525\",\"FN000110\",\"FN000177\",\"FN000985\",\"FN000807\",\"FN000922\",\"FN000561\",\"FN001393\",\"FN000160\",\"FN001427\",\"FN000386\",\"FN000908\",\"FN000126\",\"FN000169\",\"FN001407\",\"FN001374\",\"FN000130\",\"FN000768\",\"FN000546\",\"FN000523\",\"FN000376\",\"FN000888\",\"FN000567\",\"FN001405\",\"FN001408\",\"FN001150\",\"FN000076\",\"FN000445\",\"FN000077\",\"FN000501\",\"FN000451\",\"FN000483\",\"FN001152\",\"FN001154\",\"FN000912\",\"FN000430\",\"FN001485\",\"FN000942\",\"FN000388\",\"FN000551\",\"FN000522\",\"FN000137\",\"FN000199\",\"FN001018\",\"FN000766\",\"FN001082\",\"FN001149\",\"FN001403\",\"FN001430\",\"FN000033\",\"FN000012\",\"FN000439\",\"FN000184\",\"FN000591\",\"FN000375\",\"FN000108\",\"FN000180\",\"FN000426\",\"FN000545\",\"FN001151\",\"FN000568\",\"FN000519\",\"FN000861\",\"FN000554\",\"FN000871\",\"FN001428\",\"FN000511\",\"FN000735\",\"FN001142\",\"FN000107\",\"FN000952\",\"FN000097\",\"FN000088\",\"FN001155\",\"FN000441\",\"FN000418\",\"FN000092\",\"FN000197\",\"FN001004\",\"FN000550\",\"FN000951\",\"FN000589\",\"FN001441\",\"FN000604\",\"FN001434\",\"FN000939\",\"FN000424\",\"FN001086\",\"FN001380\",\"FN001158\",\"FN000887\",\"FN000572\",\"FN000478\",\"FN001404\",\"FN001084\",\"FN000598\",\"FN001438\",\"FN000419\",\"FN000163\",\"FN000461\",\"FN001436\",\"FN001139\",\"FN000874\",\"FN000950\",\"FN001053\",\"FN001435\",\"FN000156\",\"FN000395\",\"FN000472\",\"FN000484\",\"FN000421\",\"FN000215\",\"FN000185\",\"FN001003\",\"FN001429\",\"FN001153\",\"FN000158\",\"FN000139\",\"FN000945\",\"FN001011\"],\"index\":[0,1,2,3,4,5,6,7,8,9,10,11,12,13,14,15,16,17,18,19,20,21,22,23,24,25,26,27,28,29,30,31,32,33,34,35,36,37,38,39,40,41,42,43,44,45,46,47,48,49,50,51,52,53,54,55,56,57,58,59,60,61,62,63,64,65,66,67,68,69,70,71,72,73,74,75,76,77,78,79,80,81,82,83,84,85,86,87,88,89,90,91,92,93,94,95,96,97,98,99,100,101,102,103,104,105,106,107,108,109,110,111,112,113,114,115,116,117,118,119,120,121,122,123,124,125,126,127,128,129,130,131,132,133,134,135,136,137,138,139,140,141,142,143,144,145,146,147,148,149,150,151,152,153,154,155,156,157,158,159,160,161,162,163,164,165,166,167,168,169,170,171,172,173,174,175,176,177,178,179,180,181,182,183,184,185,186,187,188,189,190,191,192,193,194,195,196,197,198,199,200,201,202,203,204,205,206,207,208,209,210,211,212,213,214,215,216,217,218,219,220,221,222,223,224,225,226,227,228,229,230,231,232,233,234,235,236,237,238,239,240,241,242,243,244,245,246,247,248,249,250,251,252,253,254,255,256,257,258,259,260,261,262,263,264,265,266,267,268,269,270,271,272,273,274,275,276,277,278,279,280,281,282,283,284,285,286,287,288,289,290,291,292,293,294,295,296,297,298,299,300,301,302,303,304,305,306,307,308,309,310,311,312,313,314,315,316,317,318,319,320,321,322,323,324,325,326,327,328,329,330,331,332,333,334,335,336,337,338,339,340,341,342,343,344,345,346,347,348,349,350,351,352,353,354,355,356,357,358,359,360,361,362,363,364,365,366,367,368,369,370,371,372,373,374,375,376,377,378,379,380,381,382,383,384,385,386,387,388,389,390,391,392,393,394,395,396,397,398,399,400,401,402,403,404,405,406,407,408,409,410,411,412,413,414,415,416,417,418,419,420,421,422,423,424,425,426,427,428,429,430,431,432,433,434,435,436,437,438,439,440,441,442,443,444,445,446,447,448,449,450,451,452,453,454,455,456,457,458,459,460,461,462,463],\"label\":[\"false\",\"false\",\"false\",\"false\",\"false\",\"false\",\"false\",\"false\",\"false\",\"false\",\"false\",\"false\",\"false\",\"false\",\"false\",\"false\",\"false\",\"false\",\"false\",\"false\",\"false\",\"false\",\"false\",\"false\",\"false\",\"false\",\"false\",\"false\",\"false\",\"false\",\"false\",\"false\",\"false\",\"false\",\"false\",\"false\",\"false\",\"false\",\"false\",\"false\",\"false\",\"false\",\"false\",\"true\",\"false\",\"false\",\"false\",\"false\",\"false\",\"false\",\"false\",\"false\",\"false\",\"false\",\"false\",\"false\",\"false\",\"false\",\"false\",\"false\",\"false\",\"false\",\"false\",\"false\",\"false\",\"false\",\"false\",\"false\",\"false\",\"false\",\"false\",\"false\",\"false\",\"false\",\"false\",\"false\",\"false\",\"false\",\"false\",\"false\",\"false\",\"false\",\"false\",\"false\",\"false\",\"false\",\"false\",\"false\",\"false\",\"false\",\"false\",\"false\",\"false\",\"false\",\"false\",\"false\",\"false\",\"false\",\"false\",\"false\",\"false\",\"false\",\"false\",\"false\",\"false\",\"false\",\"false\",\"false\",\"false\",\"false\",\"false\",\"false\",\"false\",\"false\",\"false\",\"false\",\"false\",\"false\",\"false\",\"false\",\"false\",\"false\",\"false\",\"false\",\"false\",\"false\",\"false\",\"false\",\"false\",\"false\",\"false\",\"false\",\"false\",\"false\",\"false\",\"false\",\"false\",\"false\",\"false\",\"false\",\"false\",\"false\",\"false\",\"false\",\"false\",\"false\",\"false\",\"false\",\"false\",\"false\",\"false\",\"false\",\"false\",\"false\",\"false\",\"false\",\"false\",\"false\",\"false\",\"false\",\"false\",\"false\",\"false\",\"false\",\"false\",\"false\",\"false\",\"false\",\"false\",\"false\",\"false\",\"false\",\"false\",\"false\",\"false\",\"false\",\"false\",\"false\",\"false\",\"false\",\"false\",\"false\",\"false\",\"false\",\"false\",\"false\",\"false\",\"false\",\"false\",\"false\",\"false\",\"false\",\"false\",\"false\",\"false\",\"false\",\"false\",\"false\",\"false\",\"false\",\"false\",\"false\",\"false\",\"false\",\"false\",\"false\",\"false\",\"false\",\"false\",\"false\",\"false\",\"false\",\"false\",\"false\",\"false\",\"false\",\"false\",\"false\",\"false\",\"false\",\"false\",\"false\",\"false\",\"false\",\"false\",\"false\",\"true\",\"false\",\"false\",\"false\",\"false\",\"false\",\"false\",\"false\",\"false\",\"false\",\"false\",\"false\",\"false\",\"false\",\"false\",\"false\",\"false\",\"false\",\"false\",\"false\",\"false\",\"false\",\"false\",\"false\",\"false\",\"false\",\"false\",\"false\",\"false\",\"false\",\"false\",\"false\",\"false\",\"false\",\"false\",\"false\",\"false\",\"false\",\"false\",\"false\",\"false\",\"false\",\"false\",\"false\",\"false\",\"false\",\"false\",\"false\",\"false\",\"false\",\"false\",\"false\",\"false\",\"false\",\"false\",\"false\",\"false\",\"false\",\"false\",\"false\",\"false\",\"false\",\"false\",\"false\",\"false\",\"false\",\"false\",\"false\",\"false\",\"false\",\"false\",\"false\",\"false\",\"false\",\"false\",\"false\",\"false\",\"false\",\"false\",\"false\",\"false\",\"false\",\"false\",\"false\",\"false\",\"false\",\"false\",\"true\",\"false\",\"false\",\"false\",\"false\",\"false\",\"false\",\"false\",\"false\",\"false\",\"false\",\"false\",\"false\",\"false\",\"false\",\"false\",\"false\",\"false\",\"false\",\"false\",\"false\",\"false\",\"false\",\"false\",\"false\",\"false\",\"false\",\"false\",\"false\",\"false\",\"false\",\"false\",\"false\",\"false\",\"false\",\"false\",\"false\",\"false\",\"false\",\"false\",\"false\",\"false\",\"false\",\"false\",\"false\",\"false\",\"false\",\"false\",\"false\",\"false\",\"false\",\"false\",\"false\",\"false\",\"false\",\"false\",\"false\",\"false\",\"false\",\"false\",\"false\",\"false\",\"false\",\"false\",\"false\",\"false\",\"false\",\"false\",\"false\",\"false\",\"false\",\"false\",\"false\",\"false\",\"true\",\"false\",\"false\",\"false\",\"false\",\"false\",\"false\",\"false\",\"false\",\"false\",\"false\",\"false\",\"false\",\"false\",\"false\",\"false\",\"false\",\"false\",\"false\",\"false\",\"false\",\"false\",\"false\",\"false\",\"false\",\"false\",\"false\",\"false\",\"false\",\"false\",\"false\",\"false\",\"false\",\"false\",\"false\",\"false\",\"false\",\"false\",\"false\",\"false\",\"false\",\"false\",\"false\",\"false\",\"false\",\"false\",\"false\",\"false\",\"false\",\"false\",\"false\",\"false\",\"false\",\"false\",\"false\",\"false\",\"false\",\"false\",\"false\",\"false\",\"false\",\"false\",\"false\",\"false\",\"false\",\"false\",\"false\",\"false\",\"false\",\"false\",\"false\",\"false\",\"false\",\"false\",\"false\",\"false\",\"false\"],\"x\":{\"__ndarray__\":\"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\",\"dtype\":\"float64\",\"shape\":[464]},\"y\":{\"__ndarray__\":\"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\",\"dtype\":\"float64\",\"shape\":[464]}},\"selected\":{\"id\":\"1729\",\"type\":\"Selection\"},\"selection_policy\":{\"id\":\"1728\",\"type\":\"UnionRenderers\"}},\"id\":\"1661\",\"type\":\"ColumnDataSource\"},{\"attributes\":{\"axis_label\":\"het/hom rate\",\"formatter\":{\"id\":\"1724\",\"type\":\"BasicTickFormatter\"},\"ticker\":{\"id\":\"1642\",\"type\":\"BasicTicker\"}},\"id\":\"1641\",\"type\":\"LinearAxis\"},{\"attributes\":{},\"id\":\"1649\",\"type\":\"SaveTool\"},{\"attributes\":{\"color_mapper\":null,\"formatter\":{\"id\":\"1726\",\"type\":\"BasicTickFormatter\"},\"ticker\":{\"id\":\"1727\",\"type\":\"BasicTicker\"},\"visible\":false},\"id\":\"1678\",\"type\":\"ColorBar\"},{\"attributes\":{\"fill_color\":{\"field\":\"label\",\"transform\":{\"id\":\"1662\",\"type\":\"CategoricalColorMapper\"}},\"line_color\":{\"field\":\"label\",\"transform\":{\"id\":\"1662\",\"type\":\"CategoricalColorMapper\"}},\"x\":{\"field\":\"x\"},\"y\":{\"field\":\"y\"}},\"id\":\"1672\",\"type\":\"Circle\"},{\"attributes\":{\"data_source\":{\"id\":\"1661\",\"type\":\"ColumnDataSource\"},\"glyph\":{\"id\":\"1666\",\"type\":\"Circle\"},\"hover_glyph\":null,\"muted_glyph\":null,\"nonselection_glyph\":{\"id\":\"1667\",\"type\":\"Circle\"},\"selection_glyph\":null,\"view\":{\"id\":\"1664\",\"type\":\"CDSView\"}},\"id\":\"1668\",\"type\":\"GlyphRenderer\"},{\"attributes\":{},\"id\":\"1646\",\"type\":\"PanTool\"},{\"attributes\":{},\"id\":\"1647\",\"type\":\"WheelZoomTool\"},{\"attributes\":{\"factors\":[\"true\",\"false\"],\"palette\":[\"#1f77b4\",\"#ff7f0e\",\"#2ca02c\",\"#d62728\",\"#9467bd\",\"#8c564b\",\"#e377c2\",\"#7f7f7f\",\"#bcbd22\",\"#17becf\"]},\"id\":\"1662\",\"type\":\"CategoricalColorMapper\"},{\"attributes\":{\"callback\":null},\"id\":\"1628\",\"type\":\"DataRange1d\"},{\"attributes\":{\"overlay\":{\"id\":\"1730\",\"type\":\"BoxAnnotation\"}},\"id\":\"1648\",\"type\":\"BoxZoomTool\"},{\"attributes\":{},\"id\":\"1722\",\"type\":\"BasicTickFormatter\"},{\"attributes\":{\"active_drag\":\"auto\",\"active_inspect\":\"auto\",\"active_multi\":null,\"active_scroll\":\"auto\",\"active_tap\":\"auto\",\"tools\":[{\"id\":\"1646\",\"type\":\"PanTool\"},{\"id\":\"1647\",\"type\":\"WheelZoomTool\"},{\"id\":\"1648\",\"type\":\"BoxZoomTool\"},{\"id\":\"1649\",\"type\":\"SaveTool\"},{\"id\":\"1650\",\"type\":\"ResetTool\"},{\"id\":\"1651\",\"type\":\"HelpTool\"},{\"id\":\"1660\",\"type\":\"HoverTool\"}]},\"id\":\"1652\",\"type\":\"Toolbar\"},{\"attributes\":{\"filters\":[{\"id\":\"1669\",\"type\":\"GroupFilter\"}],\"source\":{\"id\":\"1661\",\"type\":\"ColumnDataSource\"}},\"id\":\"1670\",\"type\":\"CDSView\"},{\"attributes\":{\"dimension\":1,\"ticker\":{\"id\":\"1642\",\"type\":\"BasicTicker\"}},\"id\":\"1645\",\"type\":\"Grid\"},{\"attributes\":{\"data_source\":{\"id\":\"1661\",\"type\":\"ColumnDataSource\"},\"glyph\":{\"id\":\"1672\",\"type\":\"Circle\"},\"hover_glyph\":null,\"muted_glyph\":null,\"nonselection_glyph\":{\"id\":\"1673\",\"type\":\"Circle\"},\"selection_glyph\":null,\"view\":{\"id\":\"1670\",\"type\":\"CDSView\"}},\"id\":\"1674\",\"type\":\"GlyphRenderer\"},{\"attributes\":{\"axis_label\":\"DP mean\",\"formatter\":{\"id\":\"1722\",\"type\":\"BasicTickFormatter\"},\"ticker\":{\"id\":\"1637\",\"type\":\"BasicTicker\"}},\"id\":\"1636\",\"type\":\"LinearAxis\"},{\"attributes\":{\"fill_alpha\":{\"value\":0.1},\"fill_color\":{\"value\":\"#1f77b4\"},\"line_alpha\":{\"value\":0.1},\"line_color\":{\"value\":\"#1f77b4\"},\"x\":{\"field\":\"x\"},\"y\":{\"field\":\"y\"}},\"id\":\"1667\",\"type\":\"Circle\"},{\"attributes\":{},\"id\":\"1729\",\"type\":\"Selection\"},{\"attributes\":{},\"id\":\"1642\",\"type\":\"BasicTicker\"},{\"attributes\":{\"fill_alpha\":{\"value\":0.1},\"fill_color\":{\"value\":\"#1f77b4\"},\"line_alpha\":{\"value\":0.1},\"line_color\":{\"value\":\"#1f77b4\"},\"x\":{\"field\":\"x\"},\"y\":{\"field\":\"y\"}},\"id\":\"1673\",\"type\":\"Circle\"},{\"attributes\":{\"ticker\":{\"id\":\"1637\",\"type\":\"BasicTicker\"}},\"id\":\"1640\",\"type\":\"Grid\"},{\"attributes\":{},\"id\":\"1727\",\"type\":\"BasicTicker\"},{\"attributes\":{\"label\":{\"value\":\"false\"},\"renderers\":[{\"id\":\"1668\",\"type\":\"GlyphRenderer\"}]},\"id\":\"1675\",\"type\":\"LegendItem\"},{\"attributes\":{\"label\":{\"value\":\"true\"},\"renderers\":[{\"id\":\"1674\",\"type\":\"GlyphRenderer\"}]},\"id\":\"1676\",\"type\":\"LegendItem\"},{\"attributes\":{},\"id\":\"1634\",\"type\":\"LinearScale\"},{\"attributes\":{},\"id\":\"1651\",\"type\":\"HelpTool\"}],\"root_ids\":[\"1626\"]},\"title\":\"Bokeh Application\",\"version\":\"1.2.0\"}};\n",
       "  var render_items = [{\"docid\":\"4eba3b81-8677-45be-9f65-d1ccdd80758d\",\"roots\":{\"1626\":\"308836a1-3f5b-4de3-ac33-f784c6ac82bf\"}}];\n",
       "  root.Bokeh.embed.embed_items_notebook(docs_json, render_items);\n",
       "\n",
       "  }\n",
       "  if (root.Bokeh !== undefined) {\n",
       "    embed_document(root);\n",
       "  } else {\n",
       "    var attempts = 0;\n",
       "    var timer = setInterval(function(root) {\n",
       "      if (root.Bokeh !== undefined) {\n",
       "        embed_document(root);\n",
       "        clearInterval(timer);\n",
       "      }\n",
       "      attempts++;\n",
       "      if (attempts > 100) {\n",
       "        console.log(\"Bokeh: ERROR: Unable to run BokehJS code because BokehJS library is missing\");\n",
       "        clearInterval(timer);\n",
       "      }\n",
       "    }, 10, root)\n",
       "  }\n",
       "})(window);"
      ],
      "application/vnd.bokehjs_exec.v0+json": ""
     },
     "metadata": {
      "application/vnd.bokehjs_exec.v0+json": {
       "id": "1626"
      }
     },
     "output_type": "display_data"
    }
   ],
   "source": [
    "p = hl.plot.scatter(mt.sample_qc.dp_stats.mean, mt.sample_qc.r_het_hom_var, xlabel='DP mean', ylabel='het/hom rate',\n",
    "                    hover_fields={'Sample': mt.s}, label=mt.high_hom_het)\n",
    "p.plot_width = 600\n",
    "p.plot_height = 600\n",
    "show(p)"
   ]
  },
  {
   "cell_type": "markdown",
   "id": "fundamental-pontiac",
   "metadata": {},
   "source": [
    "The plot above indicates these samples have similar coverage as the other samples, so that doesn't explain the high het/hom rate.\n",
    "\n",
    "We can also check the MultiQC reports of these samples (below), and we see that they are all of reasonable quality."
   ]
  },
  {
   "cell_type": "code",
   "execution_count": 16,
   "id": "incomplete-demographic",
   "metadata": {},
   "outputs": [
    {
     "name": "stdout",
     "output_type": "stream",
     "text": [
      "/fargen/data/single_sample_data/FN000909/multiqc/multiqc_report.html\n",
      "/fargen/data/single_sample_data/FN000940/multiqc/multiqc_report.html\n",
      "/fargen/data/single_sample_data/FN001018/multiqc/multiqc_report.html\n",
      "/fargen/data/single_sample_data/FN001019/multiqc/multiqc_report.html\n"
     ]
    }
   ],
   "source": [
    "high_hethom_samples = mt.filter_cols(mt.sample_qc.r_het_hom_var > 3).s.collect()\n",
    "\n",
    "for sample in high_hethom_samples:\n",
    "    print('/fargen/data/single_sample_data/{sample}/multiqc/multiqc_report.html'.format(sample=sample))"
   ]
  },
  {
   "cell_type": "markdown",
   "id": "psychological-belgium",
   "metadata": {},
   "source": [
    "In the genealogy summary file (`/fargen/fargen_phase_1_utils/multi_sample/joint_genotyping/metadata/genealogy/individuals_summary.csv`), it seems that all these samples have reasonably deep roots in the Faroes."
   ]
  },
  {
   "cell_type": "code",
   "execution_count": 17,
   "id": "cooked-gilbert",
   "metadata": {},
   "outputs": [
    {
     "name": "stdout",
     "output_type": "stream",
     "text": [
      "Number of variants: 1332013\n",
      "Number of samples: 474\n"
     ]
    }
   ],
   "source": [
    "n_variants, n_samples = mt.count()\n",
    "print('Number of variants: ' + str(n_variants))\n",
    "print('Number of samples: ' + str(n_samples))"
   ]
  },
  {
   "cell_type": "markdown",
   "id": "instructional-pattern",
   "metadata": {},
   "source": [
    "## Write variants to file\n",
    "\n",
    "We have filtered out poor variants that don't pass the VQSR filters, and variants that fail the HWE test with $p>10^{-6}$. We write this dataset to file."
   ]
  },
  {
   "cell_type": "code",
   "execution_count": 18,
   "id": "accepting-kingdom",
   "metadata": {},
   "outputs": [
    {
     "name": "stderr",
     "output_type": "stream",
     "text": [
      "2021-03-16 11:00:06 Hail: INFO: wrote matrix table with 1332013 rows and 474 columns in 96 partitions to /home/olavur/experiments/2020-11-13_fargen1_exome_analysis/data/mt/high_quality_variants.mt\n",
      "    Total size: 6.19 GiB\n",
      "    * Rows/entries: 6.19 GiB\n",
      "    * Columns: 49.41 KiB\n",
      "    * Globals: 11.00 B\n",
      "    * Smallest partition: 12099 rows (53.34 MiB)\n",
      "    * Largest partition:  14051 rows (71.02 MiB)\n"
     ]
    }
   ],
   "source": [
    "mt.write(BASE_DIR + '/data/mt/high_quality_variants.mt', overwrite=True)"
   ]
  }
 ],
 "metadata": {
  "kernelspec": {
   "display_name": "Python [conda env:fargen-1-exome]",
   "language": "python",
   "name": "conda-env-fargen-1-exome-py"
  },
  "language_info": {
   "codemirror_mode": {
    "name": "ipython",
    "version": 3
   },
   "file_extension": ".py",
   "mimetype": "text/x-python",
   "name": "python",
   "nbconvert_exporter": "python",
   "pygments_lexer": "ipython3",
   "version": "3.7.10"
  }
 },
 "nbformat": 4,
 "nbformat_minor": 5
}
