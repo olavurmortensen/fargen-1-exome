{
 "cells": [
  {
   "cell_type": "markdown",
   "id": "6b46d6e6-3060-4ed7-8b35-6a09fd271204",
   "metadata": {},
   "source": [
    "# Quality control"
   ]
  },
  {
   "cell_type": "code",
   "execution_count": 2,
   "id": "million-damages",
   "metadata": {},
   "outputs": [
    {
     "name": "stdout",
     "output_type": "stream",
     "text": [
      "2021-09-30 14:47:32 WARN  NativeCodeLoader:62 - Unable to load native-hadoop library for your platform... using builtin-java classes where applicable\n"
     ]
    },
    {
     "name": "stderr",
     "output_type": "stream",
     "text": [
      "Setting default log level to \"WARN\".\n",
      "To adjust logging level use sc.setLogLevel(newLevel). For SparkR, use setLogLevel(newLevel).\n"
     ]
    },
    {
     "name": "stdout",
     "output_type": "stream",
     "text": [
      "2021-09-30 14:47:33 WARN  Hail:37 - This Hail JAR was compiled for Spark 2.4.5, running with Spark 2.4.1.\n",
      "  Compatibility is not guaranteed.\n",
      "2021-09-30 14:47:33 WARN  Utils:66 - Service 'SparkUI' could not bind on port 4040. Attempting port 4041.\n"
     ]
    },
    {
     "name": "stderr",
     "output_type": "stream",
     "text": [
      "Running on Apache Spark version 2.4.1\n",
      "SparkUI available at http://hms-beagle-6676655f87-78dcj:4041\n",
      "Welcome to\n",
      "     __  __     <>__\n",
      "    / /_/ /__  __/ /\n",
      "   / __  / _ `/ / /\n",
      "  /_/ /_/\\_,_/_/_/   version 0.2.61-3c86d3ba497a\n",
      "LOGGING: writing to /home/olavur/experiments/2020-11-13_fargen1_exome_analysis/fargen-1-exome/notebooks/qc/hail-20210930-1447-0.2.61-3c86d3ba497a.log\n"
     ]
    }
   ],
   "source": [
    "import hail as hl\n",
    "hl.init(spark_conf={'spark.driver.memory': '10g'}, tmp_dir='/home/olavur/tmp')"
   ]
  },
  {
   "cell_type": "code",
   "execution_count": 3,
   "id": "analyzed-warrant",
   "metadata": {},
   "outputs": [
    {
     "data": {
      "text/html": [
       "\n",
       "    <div class=\"bk-root\">\n",
       "        <a href=\"https://bokeh.pydata.org\" target=\"_blank\" class=\"bk-logo bk-logo-small bk-logo-notebook\"></a>\n",
       "        <span id=\"1001\">Loading BokehJS ...</span>\n",
       "    </div>"
      ]
     },
     "metadata": {},
     "output_type": "display_data"
    },
    {
     "data": {
      "application/javascript": [
       "\n",
       "(function(root) {\n",
       "  function now() {\n",
       "    return new Date();\n",
       "  }\n",
       "\n",
       "  var force = true;\n",
       "\n",
       "  if (typeof root._bokeh_onload_callbacks === \"undefined\" || force === true) {\n",
       "    root._bokeh_onload_callbacks = [];\n",
       "    root._bokeh_is_loading = undefined;\n",
       "  }\n",
       "\n",
       "  var JS_MIME_TYPE = 'application/javascript';\n",
       "  var HTML_MIME_TYPE = 'text/html';\n",
       "  var EXEC_MIME_TYPE = 'application/vnd.bokehjs_exec.v0+json';\n",
       "  var CLASS_NAME = 'output_bokeh rendered_html';\n",
       "\n",
       "  /**\n",
       "   * Render data to the DOM node\n",
       "   */\n",
       "  function render(props, node) {\n",
       "    var script = document.createElement(\"script\");\n",
       "    node.appendChild(script);\n",
       "  }\n",
       "\n",
       "  /**\n",
       "   * Handle when an output is cleared or removed\n",
       "   */\n",
       "  function handleClearOutput(event, handle) {\n",
       "    var cell = handle.cell;\n",
       "\n",
       "    var id = cell.output_area._bokeh_element_id;\n",
       "    var server_id = cell.output_area._bokeh_server_id;\n",
       "    // Clean up Bokeh references\n",
       "    if (id != null && id in Bokeh.index) {\n",
       "      Bokeh.index[id].model.document.clear();\n",
       "      delete Bokeh.index[id];\n",
       "    }\n",
       "\n",
       "    if (server_id !== undefined) {\n",
       "      // Clean up Bokeh references\n",
       "      var cmd = \"from bokeh.io.state import curstate; print(curstate().uuid_to_server['\" + server_id + \"'].get_sessions()[0].document.roots[0]._id)\";\n",
       "      cell.notebook.kernel.execute(cmd, {\n",
       "        iopub: {\n",
       "          output: function(msg) {\n",
       "            var id = msg.content.text.trim();\n",
       "            if (id in Bokeh.index) {\n",
       "              Bokeh.index[id].model.document.clear();\n",
       "              delete Bokeh.index[id];\n",
       "            }\n",
       "          }\n",
       "        }\n",
       "      });\n",
       "      // Destroy server and session\n",
       "      var cmd = \"import bokeh.io.notebook as ion; ion.destroy_server('\" + server_id + \"')\";\n",
       "      cell.notebook.kernel.execute(cmd);\n",
       "    }\n",
       "  }\n",
       "\n",
       "  /**\n",
       "   * Handle when a new output is added\n",
       "   */\n",
       "  function handleAddOutput(event, handle) {\n",
       "    var output_area = handle.output_area;\n",
       "    var output = handle.output;\n",
       "\n",
       "    // limit handleAddOutput to display_data with EXEC_MIME_TYPE content only\n",
       "    if ((output.output_type != \"display_data\") || (!output.data.hasOwnProperty(EXEC_MIME_TYPE))) {\n",
       "      return\n",
       "    }\n",
       "\n",
       "    var toinsert = output_area.element.find(\".\" + CLASS_NAME.split(' ')[0]);\n",
       "\n",
       "    if (output.metadata[EXEC_MIME_TYPE][\"id\"] !== undefined) {\n",
       "      toinsert[toinsert.length - 1].firstChild.textContent = output.data[JS_MIME_TYPE];\n",
       "      // store reference to embed id on output_area\n",
       "      output_area._bokeh_element_id = output.metadata[EXEC_MIME_TYPE][\"id\"];\n",
       "    }\n",
       "    if (output.metadata[EXEC_MIME_TYPE][\"server_id\"] !== undefined) {\n",
       "      var bk_div = document.createElement(\"div\");\n",
       "      bk_div.innerHTML = output.data[HTML_MIME_TYPE];\n",
       "      var script_attrs = bk_div.children[0].attributes;\n",
       "      for (var i = 0; i < script_attrs.length; i++) {\n",
       "        toinsert[toinsert.length - 1].firstChild.setAttribute(script_attrs[i].name, script_attrs[i].value);\n",
       "      }\n",
       "      // store reference to server id on output_area\n",
       "      output_area._bokeh_server_id = output.metadata[EXEC_MIME_TYPE][\"server_id\"];\n",
       "    }\n",
       "  }\n",
       "\n",
       "  function register_renderer(events, OutputArea) {\n",
       "\n",
       "    function append_mime(data, metadata, element) {\n",
       "      // create a DOM node to render to\n",
       "      var toinsert = this.create_output_subarea(\n",
       "        metadata,\n",
       "        CLASS_NAME,\n",
       "        EXEC_MIME_TYPE\n",
       "      );\n",
       "      this.keyboard_manager.register_events(toinsert);\n",
       "      // Render to node\n",
       "      var props = {data: data, metadata: metadata[EXEC_MIME_TYPE]};\n",
       "      render(props, toinsert[toinsert.length - 1]);\n",
       "      element.append(toinsert);\n",
       "      return toinsert\n",
       "    }\n",
       "\n",
       "    /* Handle when an output is cleared or removed */\n",
       "    events.on('clear_output.CodeCell', handleClearOutput);\n",
       "    events.on('delete.Cell', handleClearOutput);\n",
       "\n",
       "    /* Handle when a new output is added */\n",
       "    events.on('output_added.OutputArea', handleAddOutput);\n",
       "\n",
       "    /**\n",
       "     * Register the mime type and append_mime function with output_area\n",
       "     */\n",
       "    OutputArea.prototype.register_mime_type(EXEC_MIME_TYPE, append_mime, {\n",
       "      /* Is output safe? */\n",
       "      safe: true,\n",
       "      /* Index of renderer in `output_area.display_order` */\n",
       "      index: 0\n",
       "    });\n",
       "  }\n",
       "\n",
       "  // register the mime type if in Jupyter Notebook environment and previously unregistered\n",
       "  if (root.Jupyter !== undefined) {\n",
       "    var events = require('base/js/events');\n",
       "    var OutputArea = require('notebook/js/outputarea').OutputArea;\n",
       "\n",
       "    if (OutputArea.prototype.mime_types().indexOf(EXEC_MIME_TYPE) == -1) {\n",
       "      register_renderer(events, OutputArea);\n",
       "    }\n",
       "  }\n",
       "\n",
       "  \n",
       "  if (typeof (root._bokeh_timeout) === \"undefined\" || force === true) {\n",
       "    root._bokeh_timeout = Date.now() + 5000;\n",
       "    root._bokeh_failed_load = false;\n",
       "  }\n",
       "\n",
       "  var NB_LOAD_WARNING = {'data': {'text/html':\n",
       "     \"<div style='background-color: #fdd'>\\n\"+\n",
       "     \"<p>\\n\"+\n",
       "     \"BokehJS does not appear to have successfully loaded. If loading BokehJS from CDN, this \\n\"+\n",
       "     \"may be due to a slow or bad network connection. Possible fixes:\\n\"+\n",
       "     \"</p>\\n\"+\n",
       "     \"<ul>\\n\"+\n",
       "     \"<li>re-rerun `output_notebook()` to attempt to load from CDN again, or</li>\\n\"+\n",
       "     \"<li>use INLINE resources instead, as so:</li>\\n\"+\n",
       "     \"</ul>\\n\"+\n",
       "     \"<code>\\n\"+\n",
       "     \"from bokeh.resources import INLINE\\n\"+\n",
       "     \"output_notebook(resources=INLINE)\\n\"+\n",
       "     \"</code>\\n\"+\n",
       "     \"</div>\"}};\n",
       "\n",
       "  function display_loaded() {\n",
       "    var el = document.getElementById(\"1001\");\n",
       "    if (el != null) {\n",
       "      el.textContent = \"BokehJS is loading...\";\n",
       "    }\n",
       "    if (root.Bokeh !== undefined) {\n",
       "      if (el != null) {\n",
       "        el.textContent = \"BokehJS \" + root.Bokeh.version + \" successfully loaded.\";\n",
       "      }\n",
       "    } else if (Date.now() < root._bokeh_timeout) {\n",
       "      setTimeout(display_loaded, 100)\n",
       "    }\n",
       "  }\n",
       "\n",
       "\n",
       "  function run_callbacks() {\n",
       "    try {\n",
       "      root._bokeh_onload_callbacks.forEach(function(callback) {\n",
       "        if (callback != null)\n",
       "          callback();\n",
       "      });\n",
       "    } finally {\n",
       "      delete root._bokeh_onload_callbacks\n",
       "    }\n",
       "    console.debug(\"Bokeh: all callbacks have finished\");\n",
       "  }\n",
       "\n",
       "  function load_libs(css_urls, js_urls, callback) {\n",
       "    if (css_urls == null) css_urls = [];\n",
       "    if (js_urls == null) js_urls = [];\n",
       "\n",
       "    root._bokeh_onload_callbacks.push(callback);\n",
       "    if (root._bokeh_is_loading > 0) {\n",
       "      console.debug(\"Bokeh: BokehJS is being loaded, scheduling callback at\", now());\n",
       "      return null;\n",
       "    }\n",
       "    if (js_urls == null || js_urls.length === 0) {\n",
       "      run_callbacks();\n",
       "      return null;\n",
       "    }\n",
       "    console.debug(\"Bokeh: BokehJS not loaded, scheduling load and callback at\", now());\n",
       "    root._bokeh_is_loading = css_urls.length + js_urls.length;\n",
       "\n",
       "    function on_load() {\n",
       "      root._bokeh_is_loading--;\n",
       "      if (root._bokeh_is_loading === 0) {\n",
       "        console.debug(\"Bokeh: all BokehJS libraries/stylesheets loaded\");\n",
       "        run_callbacks()\n",
       "      }\n",
       "    }\n",
       "\n",
       "    function on_error() {\n",
       "      console.error(\"failed to load \" + url);\n",
       "    }\n",
       "\n",
       "    for (var i = 0; i < css_urls.length; i++) {\n",
       "      var url = css_urls[i];\n",
       "      const element = document.createElement(\"link\");\n",
       "      element.onload = on_load;\n",
       "      element.onerror = on_error;\n",
       "      element.rel = \"stylesheet\";\n",
       "      element.type = \"text/css\";\n",
       "      element.href = url;\n",
       "      console.debug(\"Bokeh: injecting link tag for BokehJS stylesheet: \", url);\n",
       "      document.body.appendChild(element);\n",
       "    }\n",
       "\n",
       "    for (var i = 0; i < js_urls.length; i++) {\n",
       "      var url = js_urls[i];\n",
       "      var element = document.createElement('script');\n",
       "      element.onload = on_load;\n",
       "      element.onerror = on_error;\n",
       "      element.async = false;\n",
       "      element.src = url;\n",
       "      console.debug(\"Bokeh: injecting script tag for BokehJS library: \", url);\n",
       "      document.head.appendChild(element);\n",
       "    }\n",
       "  };var element = document.getElementById(\"1001\");\n",
       "  if (element == null) {\n",
       "    console.error(\"Bokeh: ERROR: autoload.js configured with elementid '1001' but no matching script tag was found. \")\n",
       "    return false;\n",
       "  }\n",
       "\n",
       "  function inject_raw_css(css) {\n",
       "    const element = document.createElement(\"style\");\n",
       "    element.appendChild(document.createTextNode(css));\n",
       "    document.body.appendChild(element);\n",
       "  }\n",
       "\n",
       "  var js_urls = [\"https://cdn.pydata.org/bokeh/release/bokeh-1.2.0.min.js\", \"https://cdn.pydata.org/bokeh/release/bokeh-widgets-1.2.0.min.js\", \"https://cdn.pydata.org/bokeh/release/bokeh-tables-1.2.0.min.js\", \"https://cdn.pydata.org/bokeh/release/bokeh-gl-1.2.0.min.js\"];\n",
       "  var css_urls = [\"https://cdn.pydata.org/bokeh/release/bokeh-1.2.0.min.css\", \"https://cdn.pydata.org/bokeh/release/bokeh-widgets-1.2.0.min.css\", \"https://cdn.pydata.org/bokeh/release/bokeh-tables-1.2.0.min.css\"];\n",
       "\n",
       "  var inline_js = [\n",
       "    function(Bokeh) {\n",
       "      Bokeh.set_log_level(\"info\");\n",
       "    },\n",
       "    \n",
       "    function(Bokeh) {\n",
       "      \n",
       "    },\n",
       "    function(Bokeh) {} // ensure no trailing comma for IE\n",
       "  ];\n",
       "\n",
       "  function run_inline_js() {\n",
       "    \n",
       "    if ((root.Bokeh !== undefined) || (force === true)) {\n",
       "      for (var i = 0; i < inline_js.length; i++) {\n",
       "        inline_js[i].call(root, root.Bokeh);\n",
       "      }if (force === true) {\n",
       "        display_loaded();\n",
       "      }} else if (Date.now() < root._bokeh_timeout) {\n",
       "      setTimeout(run_inline_js, 100);\n",
       "    } else if (!root._bokeh_failed_load) {\n",
       "      console.log(\"Bokeh: BokehJS failed to load within specified timeout.\");\n",
       "      root._bokeh_failed_load = true;\n",
       "    } else if (force !== true) {\n",
       "      var cell = $(document.getElementById(\"1001\")).parents('.cell').data().cell;\n",
       "      cell.output_area.append_execute_result(NB_LOAD_WARNING)\n",
       "    }\n",
       "\n",
       "  }\n",
       "\n",
       "  if (root._bokeh_is_loading === 0) {\n",
       "    console.debug(\"Bokeh: BokehJS loaded, going straight to plotting\");\n",
       "    run_inline_js();\n",
       "  } else {\n",
       "    load_libs(css_urls, js_urls, function() {\n",
       "      console.debug(\"Bokeh: BokehJS plotting callback run at\", now());\n",
       "      run_inline_js();\n",
       "    });\n",
       "  }\n",
       "}(window));"
      ],
      "application/vnd.bokehjs_load.v0+json": "\n(function(root) {\n  function now() {\n    return new Date();\n  }\n\n  var force = true;\n\n  if (typeof root._bokeh_onload_callbacks === \"undefined\" || force === true) {\n    root._bokeh_onload_callbacks = [];\n    root._bokeh_is_loading = undefined;\n  }\n\n  \n\n  \n  if (typeof (root._bokeh_timeout) === \"undefined\" || force === true) {\n    root._bokeh_timeout = Date.now() + 5000;\n    root._bokeh_failed_load = false;\n  }\n\n  var NB_LOAD_WARNING = {'data': {'text/html':\n     \"<div style='background-color: #fdd'>\\n\"+\n     \"<p>\\n\"+\n     \"BokehJS does not appear to have successfully loaded. If loading BokehJS from CDN, this \\n\"+\n     \"may be due to a slow or bad network connection. Possible fixes:\\n\"+\n     \"</p>\\n\"+\n     \"<ul>\\n\"+\n     \"<li>re-rerun `output_notebook()` to attempt to load from CDN again, or</li>\\n\"+\n     \"<li>use INLINE resources instead, as so:</li>\\n\"+\n     \"</ul>\\n\"+\n     \"<code>\\n\"+\n     \"from bokeh.resources import INLINE\\n\"+\n     \"output_notebook(resources=INLINE)\\n\"+\n     \"</code>\\n\"+\n     \"</div>\"}};\n\n  function display_loaded() {\n    var el = document.getElementById(\"1001\");\n    if (el != null) {\n      el.textContent = \"BokehJS is loading...\";\n    }\n    if (root.Bokeh !== undefined) {\n      if (el != null) {\n        el.textContent = \"BokehJS \" + root.Bokeh.version + \" successfully loaded.\";\n      }\n    } else if (Date.now() < root._bokeh_timeout) {\n      setTimeout(display_loaded, 100)\n    }\n  }\n\n\n  function run_callbacks() {\n    try {\n      root._bokeh_onload_callbacks.forEach(function(callback) {\n        if (callback != null)\n          callback();\n      });\n    } finally {\n      delete root._bokeh_onload_callbacks\n    }\n    console.debug(\"Bokeh: all callbacks have finished\");\n  }\n\n  function load_libs(css_urls, js_urls, callback) {\n    if (css_urls == null) css_urls = [];\n    if (js_urls == null) js_urls = [];\n\n    root._bokeh_onload_callbacks.push(callback);\n    if (root._bokeh_is_loading > 0) {\n      console.debug(\"Bokeh: BokehJS is being loaded, scheduling callback at\", now());\n      return null;\n    }\n    if (js_urls == null || js_urls.length === 0) {\n      run_callbacks();\n      return null;\n    }\n    console.debug(\"Bokeh: BokehJS not loaded, scheduling load and callback at\", now());\n    root._bokeh_is_loading = css_urls.length + js_urls.length;\n\n    function on_load() {\n      root._bokeh_is_loading--;\n      if (root._bokeh_is_loading === 0) {\n        console.debug(\"Bokeh: all BokehJS libraries/stylesheets loaded\");\n        run_callbacks()\n      }\n    }\n\n    function on_error() {\n      console.error(\"failed to load \" + url);\n    }\n\n    for (var i = 0; i < css_urls.length; i++) {\n      var url = css_urls[i];\n      const element = document.createElement(\"link\");\n      element.onload = on_load;\n      element.onerror = on_error;\n      element.rel = \"stylesheet\";\n      element.type = \"text/css\";\n      element.href = url;\n      console.debug(\"Bokeh: injecting link tag for BokehJS stylesheet: \", url);\n      document.body.appendChild(element);\n    }\n\n    for (var i = 0; i < js_urls.length; i++) {\n      var url = js_urls[i];\n      var element = document.createElement('script');\n      element.onload = on_load;\n      element.onerror = on_error;\n      element.async = false;\n      element.src = url;\n      console.debug(\"Bokeh: injecting script tag for BokehJS library: \", url);\n      document.head.appendChild(element);\n    }\n  };var element = document.getElementById(\"1001\");\n  if (element == null) {\n    console.error(\"Bokeh: ERROR: autoload.js configured with elementid '1001' but no matching script tag was found. \")\n    return false;\n  }\n\n  function inject_raw_css(css) {\n    const element = document.createElement(\"style\");\n    element.appendChild(document.createTextNode(css));\n    document.body.appendChild(element);\n  }\n\n  var js_urls = [\"https://cdn.pydata.org/bokeh/release/bokeh-1.2.0.min.js\", \"https://cdn.pydata.org/bokeh/release/bokeh-widgets-1.2.0.min.js\", \"https://cdn.pydata.org/bokeh/release/bokeh-tables-1.2.0.min.js\", \"https://cdn.pydata.org/bokeh/release/bokeh-gl-1.2.0.min.js\"];\n  var css_urls = [\"https://cdn.pydata.org/bokeh/release/bokeh-1.2.0.min.css\", \"https://cdn.pydata.org/bokeh/release/bokeh-widgets-1.2.0.min.css\", \"https://cdn.pydata.org/bokeh/release/bokeh-tables-1.2.0.min.css\"];\n\n  var inline_js = [\n    function(Bokeh) {\n      Bokeh.set_log_level(\"info\");\n    },\n    \n    function(Bokeh) {\n      \n    },\n    function(Bokeh) {} // ensure no trailing comma for IE\n  ];\n\n  function run_inline_js() {\n    \n    if ((root.Bokeh !== undefined) || (force === true)) {\n      for (var i = 0; i < inline_js.length; i++) {\n        inline_js[i].call(root, root.Bokeh);\n      }if (force === true) {\n        display_loaded();\n      }} else if (Date.now() < root._bokeh_timeout) {\n      setTimeout(run_inline_js, 100);\n    } else if (!root._bokeh_failed_load) {\n      console.log(\"Bokeh: BokehJS failed to load within specified timeout.\");\n      root._bokeh_failed_load = true;\n    } else if (force !== true) {\n      var cell = $(document.getElementById(\"1001\")).parents('.cell').data().cell;\n      cell.output_area.append_execute_result(NB_LOAD_WARNING)\n    }\n\n  }\n\n  if (root._bokeh_is_loading === 0) {\n    console.debug(\"Bokeh: BokehJS loaded, going straight to plotting\");\n    run_inline_js();\n  } else {\n    load_libs(css_urls, js_urls, function() {\n      console.debug(\"Bokeh: BokehJS plotting callback run at\", now());\n      run_inline_js();\n    });\n  }\n}(window));"
     },
     "metadata": {},
     "output_type": "display_data"
    }
   ],
   "source": [
    "from bokeh.io import show, output_notebook\n",
    "from bokeh.layouts import gridplot\n",
    "from bokeh.models.scales import LogScale\n",
    "output_notebook()"
   ]
  },
  {
   "cell_type": "code",
   "execution_count": 4,
   "id": "a90371f0-f6d2-4b83-a3ef-82b3d4e3256e",
   "metadata": {},
   "outputs": [],
   "source": [
    "import pandas as pd"
   ]
  },
  {
   "cell_type": "markdown",
   "id": "canadian-india",
   "metadata": {},
   "source": [
    "Load variant data."
   ]
  },
  {
   "cell_type": "code",
   "execution_count": 5,
   "id": "5c5a690f-c65f-42b9-b6b7-c541b50c5635",
   "metadata": {},
   "outputs": [],
   "source": [
    "BASE_DIR = '/home/olavur/experiments/2020-11-13_fargen1_exome_analysis'\n",
    "mt = hl.read_matrix_table(BASE_DIR + '/data/mt/variants.mt')"
   ]
  },
  {
   "cell_type": "code",
   "execution_count": 287,
   "id": "e3f04d99-9bd4-4205-935b-abb721d3bff0",
   "metadata": {},
   "outputs": [
    {
     "name": "stderr",
     "output_type": "stream",
     "text": [
      "[Stage 169:=========================================>            (46 + 14) / 60]"
     ]
    },
    {
     "name": "stdout",
     "output_type": "stream",
     "text": [
      "Number of variants: 2400930\n",
      "Number of samples: 473\n"
     ]
    },
    {
     "name": "stderr",
     "output_type": "stream",
     "text": [
      "[Stage 170:==========================================>           (47 + 13) / 60]"
     ]
    }
   ],
   "source": [
    "n_variants, n_samples = mt.count()\n",
    "print('Number of variants: ' + str(n_variants))\n",
    "print('Number of samples: ' + str(n_samples))"
   ]
  },
  {
   "cell_type": "markdown",
   "id": "39eaca31-56a7-45bf-8026-cbb790c78bc1",
   "metadata": {},
   "source": [
    "## Variant QC"
   ]
  },
  {
   "cell_type": "markdown",
   "id": "eace0bfa-ab61-4827-85d4-09e88c49b970",
   "metadata": {},
   "source": [
    "### Variant counts"
   ]
  },
  {
   "cell_type": "code",
   "execution_count": 288,
   "id": "bcee21b2-1324-4a77-bed3-9b575ddae681",
   "metadata": {},
   "outputs": [],
   "source": [
    "def variant_counts(mt):\n",
    "    # Count number of variants, SNPs and indels. Only first allele in alternate allele list is considered.\n",
    "    variant_counts_struct = mt.aggregate_rows(hl.struct(\n",
    "        n_variants = hl.agg.count(),\n",
    "        snps_fraction = hl.agg.count_where(hl.is_snp(mt.alleles[0], mt.alleles[1])) / hl.agg.count(),\n",
    "        insertions_fraction = hl.agg.count_where(hl.is_insertion(mt.alleles[0], mt.alleles[1])) / hl.agg.count(),\n",
    "        deletions_fraction = hl.agg.count_where(hl.is_deletion(mt.alleles[0], mt.alleles[1])) / hl.agg.count(),\n",
    "        mnp_fraction = hl.agg.count_where(hl.is_mnp(mt.alleles[0], mt.alleles[1])) / hl.agg.count(),\n",
    "        complex_fraction = hl.agg.count_where(hl.is_complex(mt.alleles[0], mt.alleles[1])) / hl.agg.count(),\n",
    "        star_fraction = hl.agg.count_where(hl.is_star(mt.alleles[0], mt.alleles[1])) / hl.agg.count()))\n",
    "    \n",
    "    variant_counts_pd = pd.DataFrame(variant_counts_struct.values(), index=variant_counts_struct.keys(), columns=[''])\n",
    "    return variant_counts_pd"
   ]
  },
  {
   "cell_type": "markdown",
   "id": "a8b50f97-8413-40f7-a8bf-34de85a1471b",
   "metadata": {},
   "source": [
    "Create a dataset where multi-allelic sites are split."
   ]
  },
  {
   "cell_type": "code",
   "execution_count": 6,
   "id": "895d1887-e641-4d03-868e-5c2602a0cd20",
   "metadata": {},
   "outputs": [],
   "source": [
    "# NOTE: permit_shuffle is needed when there are duplicate loci, one of which has multiple alternate alleles. Apparently, this dataset has such sites.\n",
    "split_mt = hl.split_multi_hts(mt, permit_shuffle=True)"
   ]
  },
  {
   "cell_type": "code",
   "execution_count": 289,
   "id": "9fff3e1b-fce3-4dae-88c4-51017e7e2a80",
   "metadata": {},
   "outputs": [
    {
     "name": "stderr",
     "output_type": "stream",
     "text": [
      "[Stage 171:==============================================>     (108 + 12) / 120]"
     ]
    },
    {
     "data": {
      "text/html": [
       "<div>\n",
       "<style scoped>\n",
       "    .dataframe tbody tr th:only-of-type {\n",
       "        vertical-align: middle;\n",
       "    }\n",
       "\n",
       "    .dataframe tbody tr th {\n",
       "        vertical-align: top;\n",
       "    }\n",
       "\n",
       "    .dataframe thead th {\n",
       "        text-align: right;\n",
       "    }\n",
       "</style>\n",
       "<table border=\"1\" class=\"dataframe\">\n",
       "  <thead>\n",
       "    <tr style=\"text-align: right;\">\n",
       "      <th></th>\n",
       "      <th></th>\n",
       "    </tr>\n",
       "  </thead>\n",
       "  <tbody>\n",
       "    <tr>\n",
       "      <th>n_variants</th>\n",
       "      <td>2.400930e+06</td>\n",
       "    </tr>\n",
       "    <tr>\n",
       "      <th>snps_fraction</th>\n",
       "      <td>5.739692e-01</td>\n",
       "    </tr>\n",
       "    <tr>\n",
       "      <th>insertions_fraction</th>\n",
       "      <td>2.652214e-01</td>\n",
       "    </tr>\n",
       "    <tr>\n",
       "      <th>deletions_fraction</th>\n",
       "      <td>1.608094e-01</td>\n",
       "    </tr>\n",
       "    <tr>\n",
       "      <th>mnp_fraction</th>\n",
       "      <td>0.000000e+00</td>\n",
       "    </tr>\n",
       "    <tr>\n",
       "      <th>complex_fraction</th>\n",
       "      <td>0.000000e+00</td>\n",
       "    </tr>\n",
       "    <tr>\n",
       "      <th>star_fraction</th>\n",
       "      <td>0.000000e+00</td>\n",
       "    </tr>\n",
       "  </tbody>\n",
       "</table>\n",
       "</div>"
      ],
      "text/plain": [
       "                                 \n",
       "n_variants           2.400930e+06\n",
       "snps_fraction        5.739692e-01\n",
       "insertions_fraction  2.652214e-01\n",
       "deletions_fraction   1.608094e-01\n",
       "mnp_fraction         0.000000e+00\n",
       "complex_fraction     0.000000e+00\n",
       "star_fraction        0.000000e+00"
      ]
     },
     "execution_count": 289,
     "metadata": {},
     "output_type": "execute_result"
    }
   ],
   "source": [
    "variant_counts(split_mt)"
   ]
  },
  {
   "cell_type": "markdown",
   "id": "436ee677-7395-4d55-a603-81eb3b865fa8",
   "metadata": {},
   "source": [
    "### Variant call quality (QUAL)\n",
    "\n",
    "Plot distribution of QUAL values. Note that a hard cut-off filter has been used on QUAL in the joint genotyping pipeline."
   ]
  },
  {
   "cell_type": "code",
   "execution_count": 290,
   "id": "a925ea05-184a-4ef7-8a2b-07facb9973ac",
   "metadata": {},
   "outputs": [
    {
     "name": "stderr",
     "output_type": "stream",
     "text": [
      "[Stage 173:====================================================>(118 + 2) / 120]"
     ]
    },
    {
     "data": {
      "text/html": [
       "\n",
       "\n",
       "\n",
       "\n",
       "\n",
       "\n",
       "  <div class=\"bk-root\" id=\"0dfe1f96-d7d8-486e-8b85-6246f70b95b4\" data-root-id=\"6369\"></div>\n"
      ]
     },
     "metadata": {},
     "output_type": "display_data"
    },
    {
     "data": {
      "application/javascript": [
       "(function(root) {\n",
       "  function embed_document(root) {\n",
       "    \n",
       "  var docs_json = {\"50faff8f-b899-4d82-add2-ae131d7f3890\":{\"roots\":{\"references\":[{\"attributes\":{\"background_fill_color\":{\"value\":\"#EEEEEE\"},\"below\":[{\"id\":\"6379\",\"type\":\"LinearAxis\"}],\"center\":[{\"id\":\"6383\",\"type\":\"Grid\"},{\"id\":\"6388\",\"type\":\"Grid\"},{\"id\":\"6413\",\"type\":\"Legend\"}],\"left\":[{\"id\":\"6384\",\"type\":\"LinearAxis\"}],\"plot_height\":500,\"plot_width\":800,\"renderers\":[{\"id\":\"6405\",\"type\":\"GlyphRenderer\"}],\"title\":null,\"toolbar\":{\"id\":\"6395\",\"type\":\"Toolbar\"},\"x_range\":{\"id\":\"6371\",\"type\":\"Range1d\"},\"x_scale\":{\"id\":\"6375\",\"type\":\"LinearScale\"},\"y_range\":{\"id\":\"6373\",\"type\":\"DataRange1d\"},\"y_scale\":{\"id\":\"6377\",\"type\":\"LinearScale\"}},\"id\":\"6369\",\"subtype\":\"Figure\",\"type\":\"Plot\"},{\"attributes\":{\"data_source\":{\"id\":\"6402\",\"type\":\"ColumnDataSource\"},\"glyph\":{\"id\":\"6403\",\"type\":\"Quad\"},\"hover_glyph\":null,\"muted_glyph\":null,\"nonselection_glyph\":{\"id\":\"6404\",\"type\":\"Quad\"},\"selection_glyph\":null,\"view\":{\"id\":\"6406\",\"type\":\"CDSView\"}},\"id\":\"6405\",\"type\":\"GlyphRenderer\"},{\"attributes\":{\"bottom\":{\"value\":0},\"fill_alpha\":{\"value\":0.1},\"fill_color\":{\"value\":\"#1f77b4\"},\"left\":{\"field\":\"left\"},\"line_alpha\":{\"value\":0.1},\"line_color\":{\"value\":\"#1f77b4\"},\"right\":{\"field\":\"right\"},\"top\":{\"field\":\"top\"}},\"id\":\"6404\",\"type\":\"Quad\"},{\"attributes\":{},\"id\":\"6392\",\"type\":\"SaveTool\"},{\"attributes\":{\"callback\":null,\"data\":{\"left\":[200.01,127537.655,254875.30000000002,382212.945,509550.59,636888.235,764225.88,891563.525,1018901.17,1146238.815,1273576.46,1400914.105,1528251.75,1655589.395,1782927.04,1910264.685,2037602.33,2164939.9749999996,2292277.6199999996,2419615.2649999997,2546952.9099999997,2674290.5549999997,2801628.1999999997,2928965.8449999997,3056303.4899999998,3183641.135,3310978.78,3438316.425,3565654.07,3692991.715,3820329.36,3947667.005,4075004.65,4202342.295,4329679.9399999995,4457017.585,4584355.2299999995,4711692.875,4839030.52,4966368.165,5093705.81,5221043.455,5348381.1,5475718.745,5603056.39,5730394.035,5857731.68,5985069.325,6112406.97,6239744.615],\"right\":[127537.655,254875.30000000002,382212.945,509550.59,636888.235,764225.88,891563.525,1018901.17,1146238.815,1273576.46,1400914.105,1528251.75,1655589.395,1782927.04,1910264.685,2037602.33,2164939.9749999996,2292277.6199999996,2419615.2649999997,2546952.9099999997,2674290.5549999997,2801628.1999999997,2928965.8449999997,3056303.4899999998,3183641.135,3310978.78,3438316.425,3565654.07,3692991.715,3820329.36,3947667.005,4075004.65,4202342.295,4329679.9399999995,4457017.585,4584355.2299999995,4711692.875,4839030.52,4966368.165,5093705.81,5221043.455,5348381.1,5475718.745,5603056.39,5730394.035,5857731.68,5985069.325,6112406.97,6239744.615,6367082.26],\"top\":[2211044,95436,39880,21050,11488,7104,4194,2856,1910,1336,1096,750,640,444,362,314,246,204,146,100,108,78,38,30,24,10,10,10,6,2,2,4,2,0,4,0,0,0,0,0,0,0,0,0,0,0,0,0,0,2]},\"selected\":{\"id\":\"6637\",\"type\":\"Selection\"},\"selection_policy\":{\"id\":\"6636\",\"type\":\"UnionRenderers\"}},\"id\":\"6402\",\"type\":\"ColumnDataSource\"},{\"attributes\":{\"overlay\":{\"id\":\"6412\",\"type\":\"BoxAnnotation\"}},\"id\":\"6391\",\"type\":\"BoxZoomTool\"},{\"attributes\":{},\"id\":\"6408\",\"type\":\"BasicTickFormatter\"},{\"attributes\":{},\"id\":\"6410\",\"type\":\"BasicTickFormatter\"},{\"attributes\":{\"axis_label\":\"Frequency\",\"formatter\":{\"id\":\"6410\",\"type\":\"BasicTickFormatter\"},\"ticker\":{\"id\":\"6385\",\"type\":\"BasicTicker\"}},\"id\":\"6384\",\"type\":\"LinearAxis\"},{\"attributes\":{},\"id\":\"6389\",\"type\":\"PanTool\"},{\"attributes\":{},\"id\":\"6393\",\"type\":\"ResetTool\"},{\"attributes\":{\"label\":{\"value\":\"Variant call quality (QUAL)\"},\"renderers\":[{\"id\":\"6405\",\"type\":\"GlyphRenderer\"}]},\"id\":\"6414\",\"type\":\"LegendItem\"},{\"attributes\":{},\"id\":\"6377\",\"type\":\"LinearScale\"},{\"attributes\":{\"callback\":null},\"id\":\"6373\",\"type\":\"DataRange1d\"},{\"attributes\":{\"axis_label\":\"Variant call quality (QUAL)\",\"formatter\":{\"id\":\"6408\",\"type\":\"BasicTickFormatter\"},\"ticker\":{\"id\":\"6380\",\"type\":\"BasicTicker\"}},\"id\":\"6379\",\"type\":\"LinearAxis\"},{\"attributes\":{\"callback\":null,\"end\":6685426.3725,\"start\":-318144.10250000004},\"id\":\"6371\",\"type\":\"Range1d\"},{\"attributes\":{},\"id\":\"6385\",\"type\":\"BasicTicker\"},{\"attributes\":{\"source\":{\"id\":\"6402\",\"type\":\"ColumnDataSource\"}},\"id\":\"6406\",\"type\":\"CDSView\"},{\"attributes\":{\"bottom_units\":\"screen\",\"fill_alpha\":{\"value\":0.5},\"fill_color\":{\"value\":\"lightgrey\"},\"left_units\":\"screen\",\"level\":\"overlay\",\"line_alpha\":{\"value\":1.0},\"line_color\":{\"value\":\"black\"},\"line_dash\":[4,4],\"line_width\":{\"value\":2},\"render_mode\":\"css\",\"right_units\":\"screen\",\"top_units\":\"screen\"},\"id\":\"6412\",\"type\":\"BoxAnnotation\"},{\"attributes\":{\"dimension\":1,\"ticker\":{\"id\":\"6385\",\"type\":\"BasicTicker\"}},\"id\":\"6388\",\"type\":\"Grid\"},{\"attributes\":{},\"id\":\"6375\",\"type\":\"LinearScale\"},{\"attributes\":{},\"id\":\"6636\",\"type\":\"UnionRenderers\"},{\"attributes\":{},\"id\":\"6380\",\"type\":\"BasicTicker\"},{\"attributes\":{},\"id\":\"6637\",\"type\":\"Selection\"},{\"attributes\":{\"active_drag\":\"auto\",\"active_inspect\":\"auto\",\"active_multi\":null,\"active_scroll\":\"auto\",\"active_tap\":\"auto\",\"tools\":[{\"id\":\"6389\",\"type\":\"PanTool\"},{\"id\":\"6390\",\"type\":\"WheelZoomTool\"},{\"id\":\"6391\",\"type\":\"BoxZoomTool\"},{\"id\":\"6392\",\"type\":\"SaveTool\"},{\"id\":\"6393\",\"type\":\"ResetTool\"},{\"id\":\"6394\",\"type\":\"HelpTool\"}]},\"id\":\"6395\",\"type\":\"Toolbar\"},{\"attributes\":{},\"id\":\"6394\",\"type\":\"HelpTool\"},{\"attributes\":{},\"id\":\"6390\",\"type\":\"WheelZoomTool\"},{\"attributes\":{\"ticker\":{\"id\":\"6380\",\"type\":\"BasicTicker\"}},\"id\":\"6383\",\"type\":\"Grid\"},{\"attributes\":{\"items\":[{\"id\":\"6414\",\"type\":\"LegendItem\"}]},\"id\":\"6413\",\"type\":\"Legend\"},{\"attributes\":{\"bottom\":{\"value\":0},\"fill_color\":{\"value\":\"#1f77b4\"},\"left\":{\"field\":\"left\"},\"right\":{\"field\":\"right\"},\"top\":{\"field\":\"top\"}},\"id\":\"6403\",\"type\":\"Quad\"}],\"root_ids\":[\"6369\"]},\"title\":\"Bokeh Application\",\"version\":\"1.2.0\"}};\n",
       "  var render_items = [{\"docid\":\"50faff8f-b899-4d82-add2-ae131d7f3890\",\"roots\":{\"6369\":\"0dfe1f96-d7d8-486e-8b85-6246f70b95b4\"}}];\n",
       "  root.Bokeh.embed.embed_items_notebook(docs_json, render_items);\n",
       "\n",
       "  }\n",
       "  if (root.Bokeh !== undefined) {\n",
       "    embed_document(root);\n",
       "  } else {\n",
       "    var attempts = 0;\n",
       "    var timer = setInterval(function(root) {\n",
       "      if (root.Bokeh !== undefined) {\n",
       "        embed_document(root);\n",
       "        clearInterval(timer);\n",
       "      }\n",
       "      attempts++;\n",
       "      if (attempts > 100) {\n",
       "        console.log(\"Bokeh: ERROR: Unable to run BokehJS code because BokehJS library is missing\");\n",
       "        clearInterval(timer);\n",
       "      }\n",
       "    }, 10, root)\n",
       "  }\n",
       "})(window);"
      ],
      "application/vnd.bokehjs_exec.v0+json": ""
     },
     "metadata": {
      "application/vnd.bokehjs_exec.v0+json": {
       "id": "6369"
      }
     },
     "output_type": "display_data"
    }
   ],
   "source": [
    "p = hl.plot.histogram(mt.qual, legend='Variant call quality (QUAL)')\n",
    "p.plot_width = 800\n",
    "p.plot_height = 500\n",
    "show(p)"
   ]
  },
  {
   "cell_type": "code",
   "execution_count": 291,
   "id": "d177274b-461a-44f0-8222-30ddd508d8d7",
   "metadata": {},
   "outputs": [
    {
     "name": "stderr",
     "output_type": "stream",
     "text": [
      "[Stage 175:===================================================> (117 + 3) / 120]"
     ]
    },
    {
     "data": {
      "text/html": [
       "\n",
       "\n",
       "\n",
       "\n",
       "\n",
       "\n",
       "  <div class=\"bk-root\" id=\"9fe7eb22-6756-425e-af54-3f545b6dce67\" data-root-id=\"6687\"></div>\n"
      ]
     },
     "metadata": {},
     "output_type": "display_data"
    },
    {
     "data": {
      "application/javascript": [
       "(function(root) {\n",
       "  function embed_document(root) {\n",
       "    \n",
       "  var docs_json = {\"0b90ba9b-86b7-481b-8e4c-3351e36c8595\":{\"roots\":{\"references\":[{\"attributes\":{\"background_fill_color\":{\"value\":\"#EEEEEE\"},\"below\":[{\"id\":\"6697\",\"type\":\"LinearAxis\"}],\"center\":[{\"id\":\"6701\",\"type\":\"Grid\"},{\"id\":\"6706\",\"type\":\"Grid\"},{\"id\":\"6731\",\"type\":\"Legend\"}],\"left\":[{\"id\":\"6702\",\"type\":\"LinearAxis\"}],\"plot_height\":500,\"plot_width\":800,\"renderers\":[{\"id\":\"6723\",\"type\":\"GlyphRenderer\"}],\"title\":null,\"toolbar\":{\"id\":\"6713\",\"type\":\"Toolbar\"},\"x_range\":{\"id\":\"6689\",\"type\":\"Range1d\"},\"x_scale\":{\"id\":\"6693\",\"type\":\"LinearScale\"},\"y_range\":{\"id\":\"6691\",\"type\":\"DataRange1d\"},\"y_scale\":{\"id\":\"6695\",\"type\":\"LinearScale\"}},\"id\":\"6687\",\"subtype\":\"Figure\",\"type\":\"Plot\"},{\"attributes\":{},\"id\":\"6703\",\"type\":\"BasicTicker\"},{\"attributes\":{\"callback\":null,\"data\":{\"left\":[2.3010517098452263,2.3911094848643306,2.481167259883435,2.571225034902539,2.6612828099216435,2.7513405849407473,2.8413983599598516,2.931456134978956,3.02151390999806,3.1115716850171644,3.2016294600362687,3.291687235055373,3.381745010074477,3.4718027850935815,3.5618605601126854,3.6519183351317897,3.741976110150894,3.832033885169998,3.9220916601891025,4.012149435208206,4.102207210227311,4.192264985246415,4.282322760265519,4.3723805352846234,4.462438310303728,4.552496085322832,4.642553860341936,4.732611635361041,4.822669410380144,4.912727185399248,5.002784960418353,5.092842735437458,5.1829005104565615,5.272958285475665,5.36301606049477,5.453073835513875,5.543131610532979,5.6331893855520825,5.723247160571187,5.813304935590291,5.903362710609395,5.9934204856285,6.083478260647604,6.173536035666708,6.263593810685812,6.353651585704917,6.443709360724021,6.533767135743125,6.623824910762229,6.713882685781333],\"right\":[2.3911094848643306,2.481167259883435,2.571225034902539,2.6612828099216435,2.7513405849407473,2.8413983599598516,2.931456134978956,3.02151390999806,3.1115716850171644,3.2016294600362687,3.291687235055373,3.381745010074477,3.4718027850935815,3.5618605601126854,3.6519183351317897,3.741976110150894,3.832033885169998,3.9220916601891025,4.012149435208206,4.102207210227311,4.192264985246415,4.282322760265519,4.3723805352846234,4.462438310303728,4.552496085322832,4.642553860341936,4.732611635361041,4.822669410380144,4.912727185399248,5.002784960418353,5.092842735437458,5.1829005104565615,5.272958285475665,5.36301606049477,5.453073835513875,5.543131610532979,5.6331893855520825,5.723247160571187,5.813304935590291,5.903362710609395,5.9934204856285,6.083478260647604,6.173536035666708,6.263593810685812,6.353651585704917,6.443709360724021,6.533767135743125,6.623824910762229,6.713882685781333,6.803940460800438],\"top\":[154234,138884,127084,120344,113136,106144,100548,92530,87054,81836,76524,71948,68872,65042,63522,60308,58596,56872,53172,52340,49760,48474,45666,44066,42902,40944,40154,38542,37056,35702,34252,31708,29692,26622,23910,20092,17094,13894,10364,7572,4920,3306,2200,1490,928,474,122,28,4,2]},\"selected\":{\"id\":\"6963\",\"type\":\"Selection\"},\"selection_policy\":{\"id\":\"6962\",\"type\":\"UnionRenderers\"}},\"id\":\"6720\",\"type\":\"ColumnDataSource\"},{\"attributes\":{},\"id\":\"6708\",\"type\":\"WheelZoomTool\"},{\"attributes\":{},\"id\":\"6728\",\"type\":\"BasicTickFormatter\"},{\"attributes\":{\"active_drag\":\"auto\",\"active_inspect\":\"auto\",\"active_multi\":null,\"active_scroll\":\"auto\",\"active_tap\":\"auto\",\"tools\":[{\"id\":\"6707\",\"type\":\"PanTool\"},{\"id\":\"6708\",\"type\":\"WheelZoomTool\"},{\"id\":\"6709\",\"type\":\"BoxZoomTool\"},{\"id\":\"6710\",\"type\":\"SaveTool\"},{\"id\":\"6711\",\"type\":\"ResetTool\"},{\"id\":\"6712\",\"type\":\"HelpTool\"}]},\"id\":\"6713\",\"type\":\"Toolbar\"},{\"attributes\":{},\"id\":\"6711\",\"type\":\"ResetTool\"},{\"attributes\":{\"axis_label\":\"Frequency\",\"formatter\":{\"id\":\"6728\",\"type\":\"BasicTickFormatter\"},\"ticker\":{\"id\":\"6703\",\"type\":\"BasicTicker\"}},\"id\":\"6702\",\"type\":\"LinearAxis\"},{\"attributes\":{\"items\":[{\"id\":\"6732\",\"type\":\"LegendItem\"}]},\"id\":\"6731\",\"type\":\"Legend\"},{\"attributes\":{\"source\":{\"id\":\"6720\",\"type\":\"ColumnDataSource\"}},\"id\":\"6724\",\"type\":\"CDSView\"},{\"attributes\":{\"callback\":null},\"id\":\"6691\",\"type\":\"DataRange1d\"},{\"attributes\":{},\"id\":\"6698\",\"type\":\"BasicTicker\"},{\"attributes\":{},\"id\":\"6695\",\"type\":\"LinearScale\"},{\"attributes\":{},\"id\":\"6707\",\"type\":\"PanTool\"},{\"attributes\":{},\"id\":\"6710\",\"type\":\"SaveTool\"},{\"attributes\":{},\"id\":\"6712\",\"type\":\"HelpTool\"},{\"attributes\":{\"callback\":null,\"end\":7.029084898348199,\"start\":2.075907272297466},\"id\":\"6689\",\"type\":\"Range1d\"},{\"attributes\":{\"dimension\":1,\"ticker\":{\"id\":\"6703\",\"type\":\"BasicTicker\"}},\"id\":\"6706\",\"type\":\"Grid\"},{\"attributes\":{\"axis_label\":\"Variant call quality (log10 of QUAL)\",\"formatter\":{\"id\":\"6726\",\"type\":\"BasicTickFormatter\"},\"ticker\":{\"id\":\"6698\",\"type\":\"BasicTicker\"}},\"id\":\"6697\",\"type\":\"LinearAxis\"},{\"attributes\":{},\"id\":\"6693\",\"type\":\"LinearScale\"},{\"attributes\":{\"bottom_units\":\"screen\",\"fill_alpha\":{\"value\":0.5},\"fill_color\":{\"value\":\"lightgrey\"},\"left_units\":\"screen\",\"level\":\"overlay\",\"line_alpha\":{\"value\":1.0},\"line_color\":{\"value\":\"black\"},\"line_dash\":[4,4],\"line_width\":{\"value\":2},\"render_mode\":\"css\",\"right_units\":\"screen\",\"top_units\":\"screen\"},\"id\":\"6730\",\"type\":\"BoxAnnotation\"},{\"attributes\":{\"label\":{\"value\":\"Variant call quality (log10 of QUAL)\"},\"renderers\":[{\"id\":\"6723\",\"type\":\"GlyphRenderer\"}]},\"id\":\"6732\",\"type\":\"LegendItem\"},{\"attributes\":{},\"id\":\"6963\",\"type\":\"Selection\"},{\"attributes\":{\"ticker\":{\"id\":\"6698\",\"type\":\"BasicTicker\"}},\"id\":\"6701\",\"type\":\"Grid\"},{\"attributes\":{\"bottom\":{\"value\":0},\"fill_alpha\":{\"value\":0.1},\"fill_color\":{\"value\":\"#1f77b4\"},\"left\":{\"field\":\"left\"},\"line_alpha\":{\"value\":0.1},\"line_color\":{\"value\":\"#1f77b4\"},\"right\":{\"field\":\"right\"},\"top\":{\"field\":\"top\"}},\"id\":\"6722\",\"type\":\"Quad\"},{\"attributes\":{\"overlay\":{\"id\":\"6730\",\"type\":\"BoxAnnotation\"}},\"id\":\"6709\",\"type\":\"BoxZoomTool\"},{\"attributes\":{},\"id\":\"6726\",\"type\":\"BasicTickFormatter\"},{\"attributes\":{},\"id\":\"6962\",\"type\":\"UnionRenderers\"},{\"attributes\":{\"bottom\":{\"value\":0},\"fill_color\":{\"value\":\"#1f77b4\"},\"left\":{\"field\":\"left\"},\"right\":{\"field\":\"right\"},\"top\":{\"field\":\"top\"}},\"id\":\"6721\",\"type\":\"Quad\"},{\"attributes\":{\"data_source\":{\"id\":\"6720\",\"type\":\"ColumnDataSource\"},\"glyph\":{\"id\":\"6721\",\"type\":\"Quad\"},\"hover_glyph\":null,\"muted_glyph\":null,\"nonselection_glyph\":{\"id\":\"6722\",\"type\":\"Quad\"},\"selection_glyph\":null,\"view\":{\"id\":\"6724\",\"type\":\"CDSView\"}},\"id\":\"6723\",\"type\":\"GlyphRenderer\"}],\"root_ids\":[\"6687\"]},\"title\":\"Bokeh Application\",\"version\":\"1.2.0\"}};\n",
       "  var render_items = [{\"docid\":\"0b90ba9b-86b7-481b-8e4c-3351e36c8595\",\"roots\":{\"6687\":\"9fe7eb22-6756-425e-af54-3f545b6dce67\"}}];\n",
       "  root.Bokeh.embed.embed_items_notebook(docs_json, render_items);\n",
       "\n",
       "  }\n",
       "  if (root.Bokeh !== undefined) {\n",
       "    embed_document(root);\n",
       "  } else {\n",
       "    var attempts = 0;\n",
       "    var timer = setInterval(function(root) {\n",
       "      if (root.Bokeh !== undefined) {\n",
       "        embed_document(root);\n",
       "        clearInterval(timer);\n",
       "      }\n",
       "      attempts++;\n",
       "      if (attempts > 100) {\n",
       "        console.log(\"Bokeh: ERROR: Unable to run BokehJS code because BokehJS library is missing\");\n",
       "        clearInterval(timer);\n",
       "      }\n",
       "    }, 10, root)\n",
       "  }\n",
       "})(window);"
      ],
      "application/vnd.bokehjs_exec.v0+json": ""
     },
     "metadata": {
      "application/vnd.bokehjs_exec.v0+json": {
       "id": "6687"
      }
     },
     "output_type": "display_data"
    }
   ],
   "source": [
    "p = hl.plot.histogram(hl.log10(mt.qual), legend='Variant call quality (log10 of QUAL)')\n",
    "p.plot_width = 800\n",
    "p.plot_height = 500\n",
    "show(p)"
   ]
  },
  {
   "cell_type": "markdown",
   "id": "deadly-wales",
   "metadata": {},
   "source": [
    "### VQSR filters\n",
    "\n",
    "We will inspect the VQSR tranches.\n",
    "\n",
    "**FIXME:** These variants with `filters = None` have `VQSLOD = NaN`, as shown in the Pandas table below. What are these variants? Why have they not been assigned a VQSLOD?"
   ]
  },
  {
   "cell_type": "code",
   "execution_count": 292,
   "id": "legitimate-selection",
   "metadata": {},
   "outputs": [],
   "source": [
    "mt = mt.transmute_rows(filters=hl.delimit(mt.filters, ','))"
   ]
  },
  {
   "cell_type": "code",
   "execution_count": 293,
   "id": "42c11218-e7ba-4064-b406-fe251dc69571",
   "metadata": {},
   "outputs": [
    {
     "name": "stderr",
     "output_type": "stream",
     "text": [
      "[Stage 176:==========================================>          (96 + 24) / 120]"
     ]
    },
    {
     "data": {
      "text/plain": [
       "{'': 154901,\n",
       " None: 1200465,\n",
       " 'VQSRTrancheINDEL99.90to100.00': 61998,\n",
       " 'VQSRTrancheINDEL99.00to99.90': 98982,\n",
       " 'VQSRTrancheSNP99.90to100.00': 72641,\n",
       " 'VQSRTrancheSNP99.00to99.90': 143262,\n",
       " 'VQSRTrancheINDEL90.00to99.00': 135371,\n",
       " 'VQSRTrancheSNP90.00to99.00': 112581,\n",
       " 'VQSRTrancheSNP50.00to75.00': 103264,\n",
       " 'VQSRTrancheINDEL50.00to75.00': 65385,\n",
       " 'VQSRTrancheSNP75.00to90.00': 93967,\n",
       " 'VQSRTrancheINDEL75.00to90.00': 158113}"
      ]
     },
     "execution_count": 293,
     "metadata": {},
     "output_type": "execute_result"
    }
   ],
   "source": [
    "mt.aggregate_rows(hl.agg.counter(mt.filters))"
   ]
  },
  {
   "cell_type": "markdown",
   "id": "d3a41375-28d5-411f-a6a6-114f7fc52cdc",
   "metadata": {},
   "source": [
    "We will calculate some mean QC statistics for each VQSR tranch."
   ]
  },
  {
   "cell_type": "code",
   "execution_count": 294,
   "id": "fb4e3d8c-b958-41d1-baab-82e351eb2999",
   "metadata": {},
   "outputs": [],
   "source": [
    "# Calculate variant statistics.\n",
    "mt = hl.variant_qc(mt)\n",
    "\n",
    "# Get rows table.\n",
    "rows_ht = mt.rows()\n",
    "\n",
    "# Aggregate.\n",
    "result = (rows_ht.group_by(rows_ht.filters)\n",
    "         .aggregate(mean_gq = hl.agg.filter(~hl.is_nan(rows_ht.variant_qc.gq_stats.mean), hl.agg.mean(rows_ht.variant_qc.gq_stats.mean)),\n",
    "                   mean_dp = hl.agg.filter(~hl.is_nan(rows_ht.variant_qc.dp_stats.mean), hl.agg.mean(rows_ht.variant_qc.dp_stats.mean)),\n",
    "                   mean_af = hl.agg.filter(~hl.is_nan(rows_ht.variant_qc.AF[0]), hl.agg.mean(1 - rows_ht.variant_qc.AF[0])),\n",
    "                   mean_vqslod = hl.agg.filter(~hl.is_nan(rows_ht.info.VQSLOD), hl.agg.mean(rows_ht.info.VQSLOD)),\n",
    "                   n_variants = hl.agg.count()))"
   ]
  },
  {
   "cell_type": "markdown",
   "id": "5b233371-143e-468f-8548-f51fb1d8f09a",
   "metadata": {},
   "source": [
    "We convert the results to a Pandas dataframe."
   ]
  },
  {
   "cell_type": "code",
   "execution_count": 295,
   "id": "c8f1c0f1-0d81-4f58-b7fb-32a096be2a9e",
   "metadata": {},
   "outputs": [
    {
     "name": "stderr",
     "output_type": "stream",
     "text": [
      "[Stage 177:==================================================>  (115 + 5) / 120]2021-09-30 13:42:17 Hail: INFO: Ordering unsorted dataset with network shuffle\n"
     ]
    }
   ],
   "source": [
    "vqsr_stats_pd = result.to_pandas()"
   ]
  },
  {
   "cell_type": "markdown",
   "id": "0016ab27-1509-407b-ae54-b8a8c6482ce8",
   "metadata": {},
   "source": [
    "Below we first print the statistics for the SNPs and then for the indels. The rows are sorted by mean genotype quality. The empty filter row (`filter=''`) corresponds to all unfiltered variants."
   ]
  },
  {
   "cell_type": "code",
   "execution_count": 296,
   "id": "d359bca6-35d9-4ebd-96dd-0304881f243c",
   "metadata": {},
   "outputs": [
    {
     "data": {
      "text/html": [
       "<div>\n",
       "<style scoped>\n",
       "    .dataframe tbody tr th:only-of-type {\n",
       "        vertical-align: middle;\n",
       "    }\n",
       "\n",
       "    .dataframe tbody tr th {\n",
       "        vertical-align: top;\n",
       "    }\n",
       "\n",
       "    .dataframe thead th {\n",
       "        text-align: right;\n",
       "    }\n",
       "</style>\n",
       "<table border=\"1\" class=\"dataframe\">\n",
       "  <thead>\n",
       "    <tr style=\"text-align: right;\">\n",
       "      <th></th>\n",
       "      <th>filters</th>\n",
       "      <th>mean_gq</th>\n",
       "      <th>mean_dp</th>\n",
       "      <th>mean_af</th>\n",
       "      <th>mean_vqslod</th>\n",
       "      <th>n_variants</th>\n",
       "    </tr>\n",
       "  </thead>\n",
       "  <tbody>\n",
       "    <tr>\n",
       "      <th>10</th>\n",
       "      <td>VQSRTrancheSNP99.90to100.00</td>\n",
       "      <td>39.781591</td>\n",
       "      <td>30.639272</td>\n",
       "      <td>0.033365</td>\n",
       "      <td>-48.666990</td>\n",
       "      <td>72641</td>\n",
       "    </tr>\n",
       "    <tr>\n",
       "      <th>9</th>\n",
       "      <td>VQSRTrancheSNP99.00to99.90</td>\n",
       "      <td>41.256575</td>\n",
       "      <td>23.596170</td>\n",
       "      <td>0.055139</td>\n",
       "      <td>-2.138951</td>\n",
       "      <td>143262</td>\n",
       "    </tr>\n",
       "    <tr>\n",
       "      <th>8</th>\n",
       "      <td>VQSRTrancheSNP90.00to99.00</td>\n",
       "      <td>56.848757</td>\n",
       "      <td>26.033100</td>\n",
       "      <td>0.119880</td>\n",
       "      <td>1.310761</td>\n",
       "      <td>112581</td>\n",
       "    </tr>\n",
       "    <tr>\n",
       "      <th>7</th>\n",
       "      <td>VQSRTrancheSNP75.00to90.00</td>\n",
       "      <td>61.561589</td>\n",
       "      <td>27.342556</td>\n",
       "      <td>0.124890</td>\n",
       "      <td>2.819455</td>\n",
       "      <td>93967</td>\n",
       "    </tr>\n",
       "    <tr>\n",
       "      <th>6</th>\n",
       "      <td>VQSRTrancheSNP50.00to75.00</td>\n",
       "      <td>68.090764</td>\n",
       "      <td>30.222961</td>\n",
       "      <td>0.183544</td>\n",
       "      <td>4.374470</td>\n",
       "      <td>103264</td>\n",
       "    </tr>\n",
       "    <tr>\n",
       "      <th>0</th>\n",
       "      <td></td>\n",
       "      <td>72.879413</td>\n",
       "      <td>34.288755</td>\n",
       "      <td>0.263123</td>\n",
       "      <td>6.006016</td>\n",
       "      <td>154901</td>\n",
       "    </tr>\n",
       "    <tr>\n",
       "      <th>11</th>\n",
       "      <td>None</td>\n",
       "      <td>52.422394</td>\n",
       "      <td>26.054926</td>\n",
       "      <td>0.094518</td>\n",
       "      <td>NaN</td>\n",
       "      <td>1200465</td>\n",
       "    </tr>\n",
       "  </tbody>\n",
       "</table>\n",
       "</div>"
      ],
      "text/plain": [
       "                        filters    mean_gq    mean_dp   mean_af  mean_vqslod  \\\n",
       "10  VQSRTrancheSNP99.90to100.00  39.781591  30.639272  0.033365   -48.666990   \n",
       "9    VQSRTrancheSNP99.00to99.90  41.256575  23.596170  0.055139    -2.138951   \n",
       "8    VQSRTrancheSNP90.00to99.00  56.848757  26.033100  0.119880     1.310761   \n",
       "7    VQSRTrancheSNP75.00to90.00  61.561589  27.342556  0.124890     2.819455   \n",
       "6    VQSRTrancheSNP50.00to75.00  68.090764  30.222961  0.183544     4.374470   \n",
       "0                                72.879413  34.288755  0.263123     6.006016   \n",
       "11                         None  52.422394  26.054926  0.094518          NaN   \n",
       "\n",
       "    n_variants  \n",
       "10       72641  \n",
       "9       143262  \n",
       "8       112581  \n",
       "7        93967  \n",
       "6       103264  \n",
       "0       154901  \n",
       "11     1200465  "
      ]
     },
     "execution_count": 296,
     "metadata": {},
     "output_type": "execute_result"
    }
   ],
   "source": [
    "vqsr_stats_pd[vqsr_stats_pd.filters.isin(['VQSRTrancheSNP50.00to75.00', 'VQSRTrancheSNP75.00to90.00', 'VQSRTrancheSNP90.00to99.00', 'VQSRTrancheSNP99.00to99.90', 'VQSRTrancheSNP99.90to100.00', '', None])].sort_values('mean_vqslod')"
   ]
  },
  {
   "cell_type": "code",
   "execution_count": 297,
   "id": "4663e101-a483-42e1-8e02-e522a0459f2e",
   "metadata": {},
   "outputs": [
    {
     "data": {
      "text/html": [
       "<div>\n",
       "<style scoped>\n",
       "    .dataframe tbody tr th:only-of-type {\n",
       "        vertical-align: middle;\n",
       "    }\n",
       "\n",
       "    .dataframe tbody tr th {\n",
       "        vertical-align: top;\n",
       "    }\n",
       "\n",
       "    .dataframe thead th {\n",
       "        text-align: right;\n",
       "    }\n",
       "</style>\n",
       "<table border=\"1\" class=\"dataframe\">\n",
       "  <thead>\n",
       "    <tr style=\"text-align: right;\">\n",
       "      <th></th>\n",
       "      <th>filters</th>\n",
       "      <th>mean_gq</th>\n",
       "      <th>mean_dp</th>\n",
       "      <th>mean_af</th>\n",
       "      <th>mean_vqslod</th>\n",
       "      <th>n_variants</th>\n",
       "    </tr>\n",
       "  </thead>\n",
       "  <tbody>\n",
       "    <tr>\n",
       "      <th>5</th>\n",
       "      <td>VQSRTrancheINDEL99.90to100.00</td>\n",
       "      <td>64.825060</td>\n",
       "      <td>37.630893</td>\n",
       "      <td>0.016393</td>\n",
       "      <td>-14.773025</td>\n",
       "      <td>61998</td>\n",
       "    </tr>\n",
       "    <tr>\n",
       "      <th>4</th>\n",
       "      <td>VQSRTrancheINDEL99.00to99.90</td>\n",
       "      <td>40.318224</td>\n",
       "      <td>21.808810</td>\n",
       "      <td>0.016740</td>\n",
       "      <td>-3.462648</td>\n",
       "      <td>98982</td>\n",
       "    </tr>\n",
       "    <tr>\n",
       "      <th>3</th>\n",
       "      <td>VQSRTrancheINDEL90.00to99.00</td>\n",
       "      <td>33.259442</td>\n",
       "      <td>15.810880</td>\n",
       "      <td>0.028766</td>\n",
       "      <td>1.352714</td>\n",
       "      <td>135371</td>\n",
       "    </tr>\n",
       "    <tr>\n",
       "      <th>2</th>\n",
       "      <td>VQSRTrancheINDEL75.00to90.00</td>\n",
       "      <td>47.140238</td>\n",
       "      <td>21.853790</td>\n",
       "      <td>0.041205</td>\n",
       "      <td>3.251756</td>\n",
       "      <td>158113</td>\n",
       "    </tr>\n",
       "    <tr>\n",
       "      <th>1</th>\n",
       "      <td>VQSRTrancheINDEL50.00to75.00</td>\n",
       "      <td>55.977036</td>\n",
       "      <td>25.266741</td>\n",
       "      <td>0.078265</td>\n",
       "      <td>4.134389</td>\n",
       "      <td>65385</td>\n",
       "    </tr>\n",
       "    <tr>\n",
       "      <th>0</th>\n",
       "      <td></td>\n",
       "      <td>72.879413</td>\n",
       "      <td>34.288755</td>\n",
       "      <td>0.263123</td>\n",
       "      <td>6.006016</td>\n",
       "      <td>154901</td>\n",
       "    </tr>\n",
       "    <tr>\n",
       "      <th>11</th>\n",
       "      <td>None</td>\n",
       "      <td>52.422394</td>\n",
       "      <td>26.054926</td>\n",
       "      <td>0.094518</td>\n",
       "      <td>NaN</td>\n",
       "      <td>1200465</td>\n",
       "    </tr>\n",
       "  </tbody>\n",
       "</table>\n",
       "</div>"
      ],
      "text/plain": [
       "                          filters    mean_gq    mean_dp   mean_af  \\\n",
       "5   VQSRTrancheINDEL99.90to100.00  64.825060  37.630893  0.016393   \n",
       "4    VQSRTrancheINDEL99.00to99.90  40.318224  21.808810  0.016740   \n",
       "3    VQSRTrancheINDEL90.00to99.00  33.259442  15.810880  0.028766   \n",
       "2    VQSRTrancheINDEL75.00to90.00  47.140238  21.853790  0.041205   \n",
       "1    VQSRTrancheINDEL50.00to75.00  55.977036  25.266741  0.078265   \n",
       "0                                  72.879413  34.288755  0.263123   \n",
       "11                           None  52.422394  26.054926  0.094518   \n",
       "\n",
       "    mean_vqslod  n_variants  \n",
       "5    -14.773025       61998  \n",
       "4     -3.462648       98982  \n",
       "3      1.352714      135371  \n",
       "2      3.251756      158113  \n",
       "1      4.134389       65385  \n",
       "0      6.006016      154901  \n",
       "11          NaN     1200465  "
      ]
     },
     "execution_count": 297,
     "metadata": {},
     "output_type": "execute_result"
    }
   ],
   "source": [
    "vqsr_stats_pd[vqsr_stats_pd.filters.isin(['VQSRTrancheINDEL50.00to75.00', 'VQSRTrancheINDEL75.00to90.00', 'VQSRTrancheINDEL90.00to99.00', 'VQSRTrancheINDEL99.00to99.90', 'VQSRTrancheINDEL99.90to100.00', '', None])].sort_values('mean_vqslod')"
   ]
  },
  {
   "cell_type": "markdown",
   "id": "9ec32319-dff2-4e01-90f8-3dd34cda8509",
   "metadata": {},
   "source": [
    "## Genotype QC"
   ]
  },
  {
   "cell_type": "code",
   "execution_count": 298,
   "id": "1a8c4b54-f898-4103-86d3-0360aa22e6f8",
   "metadata": {},
   "outputs": [
    {
     "name": "stderr",
     "output_type": "stream",
     "text": [
      "[Stage 182:===================================================> (117 + 3) / 120]"
     ]
    },
    {
     "data": {
      "text/html": [
       "\n",
       "\n",
       "\n",
       "\n",
       "\n",
       "\n",
       "  <div class=\"bk-root\" id=\"5de3c1a8-8c2e-43f3-8f63-ad1fa8df7680\" data-root-id=\"7013\"></div>\n"
      ]
     },
     "metadata": {},
     "output_type": "display_data"
    },
    {
     "data": {
      "application/javascript": [
       "(function(root) {\n",
       "  function embed_document(root) {\n",
       "    \n",
       "  var docs_json = {\"b784f086-536a-442f-8617-6e19537ba87f\":{\"roots\":{\"references\":[{\"attributes\":{\"background_fill_color\":{\"value\":\"#EEEEEE\"},\"below\":[{\"id\":\"7023\",\"type\":\"LinearAxis\"}],\"center\":[{\"id\":\"7027\",\"type\":\"Grid\"},{\"id\":\"7032\",\"type\":\"Grid\"}],\"left\":[{\"id\":\"7028\",\"type\":\"LinearAxis\"}],\"plot_height\":500,\"plot_width\":800,\"renderers\":[{\"id\":\"7049\",\"type\":\"GlyphRenderer\"}],\"title\":null,\"toolbar\":{\"id\":\"7039\",\"type\":\"Toolbar\"},\"x_range\":{\"id\":\"7015\",\"type\":\"Range1d\"},\"x_scale\":{\"id\":\"7019\",\"type\":\"LinearScale\"},\"y_range\":{\"id\":\"7017\",\"type\":\"DataRange1d\"},\"y_scale\":{\"id\":\"7021\",\"type\":\"LinearScale\"}},\"id\":\"7013\",\"subtype\":\"Figure\",\"type\":\"Plot\"},{\"attributes\":{},\"id\":\"7021\",\"type\":\"LinearScale\"},{\"attributes\":{},\"id\":\"7284\",\"type\":\"BasicTickFormatter\"},{\"attributes\":{\"bottom\":{\"value\":0},\"fill_color\":{\"value\":\"#1f77b4\"},\"left\":{\"field\":\"left\"},\"right\":{\"field\":\"right\"},\"top\":{\"field\":\"top\"}},\"id\":\"7047\",\"type\":\"Quad\"},{\"attributes\":{},\"id\":\"7029\",\"type\":\"BasicTicker\"},{\"attributes\":{\"callback\":null},\"id\":\"7017\",\"type\":\"DataRange1d\"},{\"attributes\":{},\"id\":\"7038\",\"type\":\"HelpTool\"},{\"attributes\":{},\"id\":\"7024\",\"type\":\"BasicTicker\"},{\"attributes\":{},\"id\":\"7019\",\"type\":\"LinearScale\"},{\"attributes\":{\"axis_label\":\"Frequency\",\"formatter\":{\"id\":\"7286\",\"type\":\"BasicTickFormatter\"},\"ticker\":{\"id\":\"7029\",\"type\":\"BasicTicker\"}},\"id\":\"7028\",\"type\":\"LinearAxis\"},{\"attributes\":{\"bottom_units\":\"screen\",\"fill_alpha\":{\"value\":0.5},\"fill_color\":{\"value\":\"lightgrey\"},\"left_units\":\"screen\",\"level\":\"overlay\",\"line_alpha\":{\"value\":1.0},\"line_color\":{\"value\":\"black\"},\"line_dash\":[4,4],\"line_width\":{\"value\":2},\"render_mode\":\"css\",\"right_units\":\"screen\",\"top_units\":\"screen\"},\"id\":\"7290\",\"type\":\"BoxAnnotation\"},{\"attributes\":{\"source\":{\"id\":\"7046\",\"type\":\"ColumnDataSource\"}},\"id\":\"7050\",\"type\":\"CDSView\"},{\"attributes\":{\"axis_label\":\"Genotype quality\",\"formatter\":{\"id\":\"7284\",\"type\":\"BasicTickFormatter\"},\"ticker\":{\"id\":\"7024\",\"type\":\"BasicTicker\"}},\"id\":\"7023\",\"type\":\"LinearAxis\"},{\"attributes\":{\"callback\":null,\"data\":{\"left\":[0.0,2.0,4.0,6.0,8.0,10.0,12.0,14.0,16.0,18.0,20.0,22.0,24.0,26.0,28.0,30.0,32.0,34.0,36.0,38.0,40.0,42.0,44.0,46.0,48.0,50.0,52.0,54.0,56.0,58.0,60.0,62.0,64.0,66.0,68.0,70.0,72.0,74.0,76.0,78.0,80.0,82.0,84.0,86.0,88.0,90.0,92.0,94.0,96.0,98.0],\"right\":[2.0,4.0,6.0,8.0,10.0,12.0,14.0,16.0,18.0,20.0,22.0,24.0,26.0,28.0,30.0,32.0,34.0,36.0,38.0,40.0,42.0,44.0,46.0,48.0,50.0,52.0,54.0,56.0,58.0,60.0,62.0,64.0,66.0,68.0,70.0,72.0,74.0,76.0,78.0,80.0,82.0,84.0,86.0,88.0,90.0,92.0,94.0,96.0,98.0,100.0],\"top\":[121289336,26230366,5538596,29298326,29255484,5549644,29050592,28958490,5688600,28255538,27974076,6220676,27163592,26456906,5834080,24896688,24186098,5481364,22470754,21705946,4996922,20916984,19764600,5559494,18576586,19567584,5083066,17616720,16947452,4630238,25685612,14539592,4551072,9566700,8057128,6430132,17476634,10406164,3961360,7010692,16572546,4228214,9837088,6541074,2810568,13923928,8339686,3091138,5566504,321763482]},\"selected\":{\"id\":\"7289\",\"type\":\"Selection\"},\"selection_policy\":{\"id\":\"7288\",\"type\":\"UnionRenderers\"}},\"id\":\"7046\",\"type\":\"ColumnDataSource\"},{\"attributes\":{},\"id\":\"7034\",\"type\":\"WheelZoomTool\"},{\"attributes\":{},\"id\":\"7036\",\"type\":\"SaveTool\"},{\"attributes\":{},\"id\":\"7037\",\"type\":\"ResetTool\"},{\"attributes\":{},\"id\":\"7033\",\"type\":\"PanTool\"},{\"attributes\":{\"data_source\":{\"id\":\"7046\",\"type\":\"ColumnDataSource\"},\"glyph\":{\"id\":\"7047\",\"type\":\"Quad\"},\"hover_glyph\":null,\"muted_glyph\":null,\"nonselection_glyph\":{\"id\":\"7048\",\"type\":\"Quad\"},\"selection_glyph\":null,\"view\":{\"id\":\"7050\",\"type\":\"CDSView\"}},\"id\":\"7049\",\"type\":\"GlyphRenderer\"},{\"attributes\":{\"ticker\":{\"id\":\"7024\",\"type\":\"BasicTicker\"}},\"id\":\"7027\",\"type\":\"Grid\"},{\"attributes\":{\"dimension\":1,\"ticker\":{\"id\":\"7029\",\"type\":\"BasicTicker\"}},\"id\":\"7032\",\"type\":\"Grid\"},{\"attributes\":{},\"id\":\"7286\",\"type\":\"BasicTickFormatter\"},{\"attributes\":{},\"id\":\"7289\",\"type\":\"Selection\"},{\"attributes\":{\"callback\":null,\"end\":105.0,\"start\":-5.0},\"id\":\"7015\",\"type\":\"Range1d\"},{\"attributes\":{\"overlay\":{\"id\":\"7290\",\"type\":\"BoxAnnotation\"}},\"id\":\"7035\",\"type\":\"BoxZoomTool\"},{\"attributes\":{\"bottom\":{\"value\":0},\"fill_alpha\":{\"value\":0.1},\"fill_color\":{\"value\":\"#1f77b4\"},\"left\":{\"field\":\"left\"},\"line_alpha\":{\"value\":0.1},\"line_color\":{\"value\":\"#1f77b4\"},\"right\":{\"field\":\"right\"},\"top\":{\"field\":\"top\"}},\"id\":\"7048\",\"type\":\"Quad\"},{\"attributes\":{\"active_drag\":\"auto\",\"active_inspect\":\"auto\",\"active_multi\":null,\"active_scroll\":\"auto\",\"active_tap\":\"auto\",\"tools\":[{\"id\":\"7033\",\"type\":\"PanTool\"},{\"id\":\"7034\",\"type\":\"WheelZoomTool\"},{\"id\":\"7035\",\"type\":\"BoxZoomTool\"},{\"id\":\"7036\",\"type\":\"SaveTool\"},{\"id\":\"7037\",\"type\":\"ResetTool\"},{\"id\":\"7038\",\"type\":\"HelpTool\"}]},\"id\":\"7039\",\"type\":\"Toolbar\"},{\"attributes\":{},\"id\":\"7288\",\"type\":\"UnionRenderers\"}],\"root_ids\":[\"7013\"]},\"title\":\"Bokeh Application\",\"version\":\"1.2.0\"}};\n",
       "  var render_items = [{\"docid\":\"b784f086-536a-442f-8617-6e19537ba87f\",\"roots\":{\"7013\":\"5de3c1a8-8c2e-43f3-8f63-ad1fa8df7680\"}}];\n",
       "  root.Bokeh.embed.embed_items_notebook(docs_json, render_items);\n",
       "\n",
       "  }\n",
       "  if (root.Bokeh !== undefined) {\n",
       "    embed_document(root);\n",
       "  } else {\n",
       "    var attempts = 0;\n",
       "    var timer = setInterval(function(root) {\n",
       "      if (root.Bokeh !== undefined) {\n",
       "        embed_document(root);\n",
       "        clearInterval(timer);\n",
       "      }\n",
       "      attempts++;\n",
       "      if (attempts > 100) {\n",
       "        console.log(\"Bokeh: ERROR: Unable to run BokehJS code because BokehJS library is missing\");\n",
       "        clearInterval(timer);\n",
       "      }\n",
       "    }, 10, root)\n",
       "  }\n",
       "})(window);"
      ],
      "application/vnd.bokehjs_exec.v0+json": ""
     },
     "metadata": {
      "application/vnd.bokehjs_exec.v0+json": {
       "id": "7013"
      }
     },
     "output_type": "display_data"
    }
   ],
   "source": [
    "p = hl.plot.histogram(mt.GQ, range=(0, 100))\n",
    "p.xaxis.axis_label = 'Genotype quality'\n",
    "p.plot_width = 800\n",
    "p.plot_height = 500\n",
    "show(p)"
   ]
  },
  {
   "cell_type": "markdown",
   "id": "f594e88e-a5b5-4c45-81ce-fa47a111f07e",
   "metadata": {},
   "source": [
    "### Allelic balance\n",
    "\n",
    "Note that since we've split the table, all rows are diallelic.\n",
    "\n",
    "We compute the allelic balance as $AB = \\frac{AD[1]}{DP}$. Note that DP is equivalent to $AD[0] + AD[1]$ for a diallelic site.\n",
    "\n",
    "**NOTE:** It is important that we use the split dataset here."
   ]
  },
  {
   "cell_type": "code",
   "execution_count": 299,
   "id": "b8ce0a8d-85b3-432e-8bba-af3eb96b5364",
   "metadata": {},
   "outputs": [],
   "source": [
    "split_mt = split_mt.annotate_entries(AB = split_mt.AD[1] / split_mt.DP)"
   ]
  },
  {
   "cell_type": "code",
   "execution_count": 300,
   "id": "33fecbf9-204b-450f-8488-6ec7e2df10a9",
   "metadata": {},
   "outputs": [
    {
     "name": "stderr",
     "output_type": "stream",
     "text": [
      "[Stage 183:==================================================>  (114 + 6) / 120]"
     ]
    },
    {
     "data": {
      "text/html": [
       "\n",
       "\n",
       "\n",
       "\n",
       "\n",
       "\n",
       "  <div class=\"bk-root\" id=\"5bf6f683-3c32-4f4d-b950-7a6a5e7e8a29\" data-root-id=\"7339\"></div>\n"
      ]
     },
     "metadata": {},
     "output_type": "display_data"
    },
    {
     "data": {
      "application/javascript": [
       "(function(root) {\n",
       "  function embed_document(root) {\n",
       "    \n",
       "  var docs_json = {\"1db05cbf-a611-480d-b5b9-de76bca166a1\":{\"roots\":{\"references\":[{\"attributes\":{\"background_fill_color\":{\"value\":\"#EEEEEE\"},\"below\":[{\"id\":\"7349\",\"type\":\"LinearAxis\"}],\"center\":[{\"id\":\"7353\",\"type\":\"Grid\"},{\"id\":\"7358\",\"type\":\"Grid\"}],\"left\":[{\"id\":\"7354\",\"type\":\"LinearAxis\"}],\"plot_height\":500,\"plot_width\":800,\"renderers\":[{\"id\":\"7375\",\"type\":\"GlyphRenderer\"}],\"title\":null,\"toolbar\":{\"id\":\"7365\",\"type\":\"Toolbar\"},\"x_range\":{\"id\":\"7341\",\"type\":\"Range1d\"},\"x_scale\":{\"id\":\"7345\",\"type\":\"LinearScale\"},\"y_range\":{\"id\":\"7343\",\"type\":\"DataRange1d\"},\"y_scale\":{\"id\":\"7347\",\"type\":\"LinearScale\"}},\"id\":\"7339\",\"subtype\":\"Figure\",\"type\":\"Plot\"},{\"attributes\":{\"data_source\":{\"id\":\"7372\",\"type\":\"ColumnDataSource\"},\"glyph\":{\"id\":\"7373\",\"type\":\"Quad\"},\"hover_glyph\":null,\"muted_glyph\":null,\"nonselection_glyph\":{\"id\":\"7374\",\"type\":\"Quad\"},\"selection_glyph\":null,\"view\":{\"id\":\"7376\",\"type\":\"CDSView\"}},\"id\":\"7375\",\"type\":\"GlyphRenderer\"},{\"attributes\":{},\"id\":\"7359\",\"type\":\"PanTool\"},{\"attributes\":{},\"id\":\"7347\",\"type\":\"LinearScale\"},{\"attributes\":{},\"id\":\"7622\",\"type\":\"UnionRenderers\"},{\"attributes\":{\"axis_label\":\"Frequency\",\"formatter\":{\"id\":\"7620\",\"type\":\"BasicTickFormatter\"},\"ticker\":{\"id\":\"7355\",\"type\":\"BasicTicker\"}},\"id\":\"7354\",\"type\":\"LinearAxis\"},{\"attributes\":{\"dimension\":1,\"ticker\":{\"id\":\"7355\",\"type\":\"BasicTicker\"}},\"id\":\"7358\",\"type\":\"Grid\"},{\"attributes\":{},\"id\":\"7360\",\"type\":\"WheelZoomTool\"},{\"attributes\":{\"overlay\":{\"id\":\"7624\",\"type\":\"BoxAnnotation\"}},\"id\":\"7361\",\"type\":\"BoxZoomTool\"},{\"attributes\":{\"ticker\":{\"id\":\"7350\",\"type\":\"BasicTicker\"}},\"id\":\"7353\",\"type\":\"Grid\"},{\"attributes\":{},\"id\":\"7363\",\"type\":\"ResetTool\"},{\"attributes\":{\"source\":{\"id\":\"7372\",\"type\":\"ColumnDataSource\"}},\"id\":\"7376\",\"type\":\"CDSView\"},{\"attributes\":{},\"id\":\"7350\",\"type\":\"BasicTicker\"},{\"attributes\":{},\"id\":\"7345\",\"type\":\"LinearScale\"},{\"attributes\":{\"bottom\":{\"value\":0},\"fill_alpha\":{\"value\":0.1},\"fill_color\":{\"value\":\"#1f77b4\"},\"left\":{\"field\":\"left\"},\"line_alpha\":{\"value\":0.1},\"line_color\":{\"value\":\"#1f77b4\"},\"right\":{\"field\":\"right\"},\"top\":{\"field\":\"top\"}},\"id\":\"7374\",\"type\":\"Quad\"},{\"attributes\":{},\"id\":\"7355\",\"type\":\"BasicTicker\"},{\"attributes\":{},\"id\":\"7364\",\"type\":\"HelpTool\"},{\"attributes\":{\"active_drag\":\"auto\",\"active_inspect\":\"auto\",\"active_multi\":null,\"active_scroll\":\"auto\",\"active_tap\":\"auto\",\"tools\":[{\"id\":\"7359\",\"type\":\"PanTool\"},{\"id\":\"7360\",\"type\":\"WheelZoomTool\"},{\"id\":\"7361\",\"type\":\"BoxZoomTool\"},{\"id\":\"7362\",\"type\":\"SaveTool\"},{\"id\":\"7363\",\"type\":\"ResetTool\"},{\"id\":\"7364\",\"type\":\"HelpTool\"}]},\"id\":\"7365\",\"type\":\"Toolbar\"},{\"attributes\":{\"callback\":null,\"data\":{\"left\":[0.0,0.02,0.04,0.06,0.08,0.1,0.12,0.14,0.16,0.18,0.2,0.22,0.24,0.26,0.28,0.3,0.32,0.34,0.36,0.38,0.4,0.42,0.44,0.46,0.48,0.5,0.52,0.54,0.56,0.58,0.6,0.62,0.64,0.66,0.68,0.7000000000000001,0.72,0.74,0.76,0.78,0.8,0.8200000000000001,0.84,0.86,0.88,0.9,0.92,0.9400000000000001,0.96,0.98],\"right\":[0.02,0.04,0.06,0.08,0.1,0.12,0.14,0.16,0.18,0.2,0.22,0.24,0.26,0.28,0.3,0.32,0.34,0.36,0.38,0.4,0.42,0.44,0.46,0.48,0.5,0.52,0.54,0.56,0.58,0.6,0.62,0.64,0.66,0.68,0.7000000000000001,0.72,0.74,0.76,0.78,0.8,0.8200000000000001,0.84,0.86,0.88,0.9,0.92,0.9400000000000001,0.96,0.98,1.0],\"top\":[6931144,22830,63536,518792,1419458,2700042,2944602,3272446,2501504,1885192,2750568,2225864,2333028,1679408,2068834,2333394,3564526,1946196,3226238,2335228,5091488,4279570,4216518,4338200,2110522,8318528,3673636,3596824,3444580,2015304,3438050,2167476,1174846,2831320,1195170,925548,663332,1311952,529792,185204,866788,461146,344138,219380,200072,81960,43376,6810,1060,1346390]},\"selected\":{\"id\":\"7623\",\"type\":\"Selection\"},\"selection_policy\":{\"id\":\"7622\",\"type\":\"UnionRenderers\"}},\"id\":\"7372\",\"type\":\"ColumnDataSource\"},{\"attributes\":{},\"id\":\"7620\",\"type\":\"BasicTickFormatter\"},{\"attributes\":{\"axis_label\":\"Allelic balance\",\"formatter\":{\"id\":\"7618\",\"type\":\"BasicTickFormatter\"},\"ticker\":{\"id\":\"7350\",\"type\":\"BasicTicker\"}},\"id\":\"7349\",\"type\":\"LinearAxis\"},{\"attributes\":{},\"id\":\"7618\",\"type\":\"BasicTickFormatter\"},{\"attributes\":{\"callback\":null},\"id\":\"7343\",\"type\":\"DataRange1d\"},{\"attributes\":{\"bottom\":{\"value\":0},\"fill_color\":{\"value\":\"#1f77b4\"},\"left\":{\"field\":\"left\"},\"right\":{\"field\":\"right\"},\"top\":{\"field\":\"top\"}},\"id\":\"7373\",\"type\":\"Quad\"},{\"attributes\":{},\"id\":\"7362\",\"type\":\"SaveTool\"},{\"attributes\":{\"callback\":null,\"end\":1.05,\"start\":-0.05},\"id\":\"7341\",\"type\":\"Range1d\"},{\"attributes\":{\"bottom_units\":\"screen\",\"fill_alpha\":{\"value\":0.5},\"fill_color\":{\"value\":\"lightgrey\"},\"left_units\":\"screen\",\"level\":\"overlay\",\"line_alpha\":{\"value\":1.0},\"line_color\":{\"value\":\"black\"},\"line_dash\":[4,4],\"line_width\":{\"value\":2},\"render_mode\":\"css\",\"right_units\":\"screen\",\"top_units\":\"screen\"},\"id\":\"7624\",\"type\":\"BoxAnnotation\"},{\"attributes\":{},\"id\":\"7623\",\"type\":\"Selection\"}],\"root_ids\":[\"7339\"]},\"title\":\"Bokeh Application\",\"version\":\"1.2.0\"}};\n",
       "  var render_items = [{\"docid\":\"1db05cbf-a611-480d-b5b9-de76bca166a1\",\"roots\":{\"7339\":\"5bf6f683-3c32-4f4d-b950-7a6a5e7e8a29\"}}];\n",
       "  root.Bokeh.embed.embed_items_notebook(docs_json, render_items);\n",
       "\n",
       "  }\n",
       "  if (root.Bokeh !== undefined) {\n",
       "    embed_document(root);\n",
       "  } else {\n",
       "    var attempts = 0;\n",
       "    var timer = setInterval(function(root) {\n",
       "      if (root.Bokeh !== undefined) {\n",
       "        embed_document(root);\n",
       "        clearInterval(timer);\n",
       "      }\n",
       "      attempts++;\n",
       "      if (attempts > 100) {\n",
       "        console.log(\"Bokeh: ERROR: Unable to run BokehJS code because BokehJS library is missing\");\n",
       "        clearInterval(timer);\n",
       "      }\n",
       "    }, 10, root)\n",
       "  }\n",
       "})(window);"
      ],
      "application/vnd.bokehjs_exec.v0+json": ""
     },
     "metadata": {
      "application/vnd.bokehjs_exec.v0+json": {
       "id": "7339"
      }
     },
     "output_type": "display_data"
    }
   ],
   "source": [
    "hets_mt = split_mt.filter_entries(split_mt.GT.is_het())\n",
    "p = hl.plot.histogram(hets_mt.AB, range=(0, 1))\n",
    "p.xaxis.axis_label = 'Allelic balance'\n",
    "p.plot_width = 800\n",
    "p.plot_height = 500\n",
    "show(p)"
   ]
  },
  {
   "cell_type": "markdown",
   "id": "82542e77-dfc9-4ef2-a9e7-1718cae1c01e",
   "metadata": {},
   "source": [
    "## Apply filters\n",
    "\n",
    "Remove all variants failing any of the VQSR filters.\n",
    "\n",
    "**NOTE:** We must not used the split dataset for filtering VQSR. This is because VQSR consideres all alleles in the site jointly (unless [allele specific annotations](https://gatk.broadinstitute.org/hc/en-us/articles/360035890551?id=9622) have been used).\n",
    "\n",
    "**FIXME:** be smart about when I use `hl.variant_qc()`."
   ]
  },
  {
   "cell_type": "code",
   "execution_count": 301,
   "id": "623f53c8-afda-4456-90c3-5e585fc259fe",
   "metadata": {},
   "outputs": [],
   "source": [
    "mt = mt.filter_rows(mt.filters == '')"
   ]
  },
  {
   "cell_type": "markdown",
   "id": "13d7b567-3f4a-48da-9c7c-1b245939ee40",
   "metadata": {},
   "source": [
    "Now that we have done VQSR filtering, we may split the multi-allelic sites in the main dataset."
   ]
  },
  {
   "cell_type": "code",
   "execution_count": 6,
   "id": "68cb95c9-1f7c-4351-b8f4-568f0551c1f1",
   "metadata": {},
   "outputs": [],
   "source": [
    "# NOTE: permit_shuffle is needed when there are duplicate loci, one of which has multiple alternate alleles. Apparently, this dataset has such sites.\n",
    "mt = hl.split_multi_hts(mt, permit_shuffle=True)"
   ]
  },
  {
   "cell_type": "markdown",
   "id": "51e4d030-d7d1-447d-89fc-2d6b2a32a7b3",
   "metadata": {},
   "source": [
    "Filter genotypes with low quality (GQ), using GQ > 20 for SNPs and GQ > 40 for indels.\n",
    "\n",
    "After the filter some sites may have become invariant. These are removed.\n",
    "\n",
    "NOTE: Many (or most) of the lower quality genotypes, i.e. the low-end tail of the histogram above, are indels."
   ]
  },
  {
   "cell_type": "code",
   "execution_count": 302,
   "id": "4833384e-be27-4908-8751-8e6282407259",
   "metadata": {},
   "outputs": [],
   "source": [
    "mt = mt.filter_entries(hl.if_else(\n",
    "    hl.is_snp(mt.alleles[0],mt.alleles[1]),\n",
    "    mt.GQ > 20,\n",
    "    mt.GQ > 40))"
   ]
  },
  {
   "cell_type": "markdown",
   "id": "8094081d-634e-45ce-bcb5-1cf1f05d98ac",
   "metadata": {},
   "source": [
    "Filter all heterozygotes with allelic balance outside the range of $]0.25;0.75[$."
   ]
  },
  {
   "cell_type": "code",
   "execution_count": 303,
   "id": "095fbfdc-86ac-4b3a-8974-e73f0151c689",
   "metadata": {},
   "outputs": [],
   "source": [
    "mt = mt.filter_entries(hl.if_else(\n",
    "    mt.GT.is_het(),\n",
    "    (mt.AB > 0.25) & (mt.AB < 0.75),\n",
    "    True))"
   ]
  },
  {
   "cell_type": "markdown",
   "id": "b8ee276b-8c08-4a72-849f-e79f98ac7a25",
   "metadata": {},
   "source": [
    "Remove variants that significantly deviate from HWE. We use a p-value of $10^{-9}$ for SNPs and $10^{-6}$ for indels. Since our criteria for indels is 1000 times more stringent than for SNPs, we cannot expect the indels to carry information about population structure and inbreeding."
   ]
  },
  {
   "cell_type": "code",
   "execution_count": 304,
   "id": "a834a883-afcb-45e4-8121-24364c315b34",
   "metadata": {},
   "outputs": [],
   "source": [
    "# Update variant statistics.\n",
    "mt = hl.variant_qc(mt)\n",
    "\n",
    "mt = mt.filter_rows(hl.if_else(\n",
    "    hl.is_snp(mt.alleles[0], mt.alleles[1]),\n",
    "    mt.variant_qc.p_value_hwe > 1e-9,\n",
    "    mt.variant_qc.p_value_hwe > 1e-6))"
   ]
  },
  {
   "cell_type": "markdown",
   "id": "b54c465b-a581-4417-b3f1-eeef51802a4b",
   "metadata": {},
   "source": [
    "Remove singletons."
   ]
  },
  {
   "cell_type": "code",
   "execution_count": 305,
   "id": "c98742c0-1916-42df-8445-7adc353811d1",
   "metadata": {},
   "outputs": [],
   "source": [
    "mt = mt.filter_rows(mt.variant_qc.AC[1] > 1)"
   ]
  },
  {
   "cell_type": "code",
   "execution_count": 306,
   "id": "5d242080-c7e4-4e96-8dc5-f23b110fd63e",
   "metadata": {},
   "outputs": [
    {
     "name": "stderr",
     "output_type": "stream",
     "text": [
      "[Stage 184:====================================================>(119 + 1) / 120]"
     ]
    },
    {
     "data": {
      "text/html": [
       "<div>\n",
       "<style scoped>\n",
       "    .dataframe tbody tr th:only-of-type {\n",
       "        vertical-align: middle;\n",
       "    }\n",
       "\n",
       "    .dataframe tbody tr th {\n",
       "        vertical-align: top;\n",
       "    }\n",
       "\n",
       "    .dataframe thead th {\n",
       "        text-align: right;\n",
       "    }\n",
       "</style>\n",
       "<table border=\"1\" class=\"dataframe\">\n",
       "  <thead>\n",
       "    <tr style=\"text-align: right;\">\n",
       "      <th></th>\n",
       "      <th></th>\n",
       "    </tr>\n",
       "  </thead>\n",
       "  <tbody>\n",
       "    <tr>\n",
       "      <th>n_variants</th>\n",
       "      <td>142496.000000</td>\n",
       "    </tr>\n",
       "    <tr>\n",
       "      <th>snps_fraction</th>\n",
       "      <td>0.878663</td>\n",
       "    </tr>\n",
       "    <tr>\n",
       "      <th>insertions_fraction</th>\n",
       "      <td>0.055840</td>\n",
       "    </tr>\n",
       "    <tr>\n",
       "      <th>deletions_fraction</th>\n",
       "      <td>0.065497</td>\n",
       "    </tr>\n",
       "    <tr>\n",
       "      <th>mnp_fraction</th>\n",
       "      <td>0.000000</td>\n",
       "    </tr>\n",
       "    <tr>\n",
       "      <th>complex_fraction</th>\n",
       "      <td>0.000000</td>\n",
       "    </tr>\n",
       "    <tr>\n",
       "      <th>star_fraction</th>\n",
       "      <td>0.000000</td>\n",
       "    </tr>\n",
       "  </tbody>\n",
       "</table>\n",
       "</div>"
      ],
      "text/plain": [
       "                                  \n",
       "n_variants           142496.000000\n",
       "snps_fraction             0.878663\n",
       "insertions_fraction       0.055840\n",
       "deletions_fraction        0.065497\n",
       "mnp_fraction              0.000000\n",
       "complex_fraction          0.000000\n",
       "star_fraction             0.000000"
      ]
     },
     "execution_count": 306,
     "metadata": {},
     "output_type": "execute_result"
    }
   ],
   "source": [
    "variant_counts(mt)"
   ]
  },
  {
   "cell_type": "markdown",
   "id": "middle-seafood",
   "metadata": {},
   "source": [
    "## Sample QC\n",
    "\n",
    "Below we see histograms of sample mean genotype quality and genotype depth. Most samples seem to have good depth and quality, although the deviation between samples is quite large. There are some samples with low depth and quality, but we will not worry about these."
   ]
  },
  {
   "cell_type": "code",
   "execution_count": 307,
   "id": "62a75cc3-0cf1-4c64-b7f0-b473e681f07d",
   "metadata": {},
   "outputs": [],
   "source": [
    "mt = hl.sample_qc(mt)"
   ]
  },
  {
   "cell_type": "code",
   "execution_count": 308,
   "id": "worth-desperate",
   "metadata": {},
   "outputs": [
    {
     "name": "stderr",
     "output_type": "stream",
     "text": [
      "[Stage 185:===================================================> (116 + 4) / 120]"
     ]
    },
    {
     "data": {
      "text/html": [
       "\n",
       "\n",
       "\n",
       "\n",
       "\n",
       "\n",
       "  <div class=\"bk-root\" id=\"24341b26-31b4-4317-a853-fa2b9450efe3\" data-root-id=\"7673\"></div>\n"
      ]
     },
     "metadata": {},
     "output_type": "display_data"
    },
    {
     "data": {
      "application/javascript": [
       "(function(root) {\n",
       "  function embed_document(root) {\n",
       "    \n",
       "  var docs_json = {\"730c222a-d00c-4c4b-87f8-9929d8a94b61\":{\"roots\":{\"references\":[{\"attributes\":{\"background_fill_color\":{\"value\":\"#EEEEEE\"},\"below\":[{\"id\":\"7683\",\"type\":\"LinearAxis\"}],\"center\":[{\"id\":\"7687\",\"type\":\"Grid\"},{\"id\":\"7692\",\"type\":\"Grid\"},{\"id\":\"7717\",\"type\":\"Legend\"}],\"left\":[{\"id\":\"7688\",\"type\":\"LinearAxis\"}],\"plot_height\":500,\"plot_width\":800,\"renderers\":[{\"id\":\"7709\",\"type\":\"GlyphRenderer\"}],\"title\":null,\"toolbar\":{\"id\":\"7699\",\"type\":\"Toolbar\"},\"x_range\":{\"id\":\"7675\",\"type\":\"Range1d\"},\"x_scale\":{\"id\":\"7679\",\"type\":\"LinearScale\"},\"y_range\":{\"id\":\"7677\",\"type\":\"DataRange1d\"},\"y_scale\":{\"id\":\"7681\",\"type\":\"LinearScale\"}},\"id\":\"7673\",\"subtype\":\"Figure\",\"type\":\"Plot\"},{\"attributes\":{\"dimension\":1,\"ticker\":{\"id\":\"7689\",\"type\":\"BasicTicker\"}},\"id\":\"7692\",\"type\":\"Grid\"},{\"attributes\":{},\"id\":\"7694\",\"type\":\"WheelZoomTool\"},{\"attributes\":{\"overlay\":{\"id\":\"7716\",\"type\":\"BoxAnnotation\"}},\"id\":\"7695\",\"type\":\"BoxZoomTool\"},{\"attributes\":{},\"id\":\"7689\",\"type\":\"BasicTicker\"},{\"attributes\":{},\"id\":\"7696\",\"type\":\"SaveTool\"},{\"attributes\":{},\"id\":\"7681\",\"type\":\"LinearScale\"},{\"attributes\":{},\"id\":\"7684\",\"type\":\"BasicTicker\"},{\"attributes\":{\"axis_label\":\"Mean Sample GQ\",\"formatter\":{\"id\":\"7712\",\"type\":\"BasicTickFormatter\"},\"ticker\":{\"id\":\"7684\",\"type\":\"BasicTicker\"}},\"id\":\"7683\",\"type\":\"LinearAxis\"},{\"attributes\":{},\"id\":\"7697\",\"type\":\"ResetTool\"},{\"attributes\":{\"callback\":null},\"id\":\"7677\",\"type\":\"DataRange1d\"},{\"attributes\":{},\"id\":\"7698\",\"type\":\"HelpTool\"},{\"attributes\":{},\"id\":\"7714\",\"type\":\"BasicTickFormatter\"},{\"attributes\":{},\"id\":\"7972\",\"type\":\"UnionRenderers\"},{\"attributes\":{},\"id\":\"7712\",\"type\":\"BasicTickFormatter\"},{\"attributes\":{},\"id\":\"7679\",\"type\":\"LinearScale\"},{\"attributes\":{},\"id\":\"7973\",\"type\":\"Selection\"},{\"attributes\":{\"callback\":null,\"end\":105.0,\"start\":-5.0},\"id\":\"7675\",\"type\":\"Range1d\"},{\"attributes\":{\"data_source\":{\"id\":\"7706\",\"type\":\"ColumnDataSource\"},\"glyph\":{\"id\":\"7707\",\"type\":\"Quad\"},\"hover_glyph\":null,\"muted_glyph\":null,\"nonselection_glyph\":{\"id\":\"7708\",\"type\":\"Quad\"},\"selection_glyph\":null,\"view\":{\"id\":\"7710\",\"type\":\"CDSView\"}},\"id\":\"7709\",\"type\":\"GlyphRenderer\"},{\"attributes\":{\"callback\":null,\"data\":{\"left\":[0.0,2.0,4.0,6.0,8.0,10.0,12.0,14.0,16.0,18.0,20.0,22.0,24.0,26.0,28.0,30.0,32.0,34.0,36.0,38.0,40.0,42.0,44.0,46.0,48.0,50.0,52.0,54.0,56.0,58.0,60.0,62.0,64.0,66.0,68.0,70.0,72.0,74.0,76.0,78.0,80.0,82.0,84.0,86.0,88.0,90.0,92.0,94.0,96.0,98.0],\"right\":[2.0,4.0,6.0,8.0,10.0,12.0,14.0,16.0,18.0,20.0,22.0,24.0,26.0,28.0,30.0,32.0,34.0,36.0,38.0,40.0,42.0,44.0,46.0,48.0,50.0,52.0,54.0,56.0,58.0,60.0,62.0,64.0,66.0,68.0,70.0,72.0,74.0,76.0,78.0,80.0,82.0,84.0,86.0,88.0,90.0,92.0,94.0,96.0,98.0,100.0],\"top\":[0,0,0,0,0,0,0,0,0,0,0,0,0,0,0,0,0,0,0,0,0,0,0,0,0,2,0,0,1,3,1,4,8,2,6,7,19,24,31,46,48,62,65,55,42,27,14,5,1,0]},\"selected\":{\"id\":\"7973\",\"type\":\"Selection\"},\"selection_policy\":{\"id\":\"7972\",\"type\":\"UnionRenderers\"}},\"id\":\"7706\",\"type\":\"ColumnDataSource\"},{\"attributes\":{\"bottom\":{\"value\":0},\"fill_color\":{\"value\":\"#1f77b4\"},\"left\":{\"field\":\"left\"},\"right\":{\"field\":\"right\"},\"top\":{\"field\":\"top\"}},\"id\":\"7707\",\"type\":\"Quad\"},{\"attributes\":{\"bottom\":{\"value\":0},\"fill_alpha\":{\"value\":0.1},\"fill_color\":{\"value\":\"#1f77b4\"},\"left\":{\"field\":\"left\"},\"line_alpha\":{\"value\":0.1},\"line_color\":{\"value\":\"#1f77b4\"},\"right\":{\"field\":\"right\"},\"top\":{\"field\":\"top\"}},\"id\":\"7708\",\"type\":\"Quad\"},{\"attributes\":{\"label\":{\"value\":\"Mean Sample GQ\"},\"renderers\":[{\"id\":\"7709\",\"type\":\"GlyphRenderer\"}]},\"id\":\"7718\",\"type\":\"LegendItem\"},{\"attributes\":{},\"id\":\"7693\",\"type\":\"PanTool\"},{\"attributes\":{\"items\":[{\"id\":\"7718\",\"type\":\"LegendItem\"}]},\"id\":\"7717\",\"type\":\"Legend\"},{\"attributes\":{\"source\":{\"id\":\"7706\",\"type\":\"ColumnDataSource\"}},\"id\":\"7710\",\"type\":\"CDSView\"},{\"attributes\":{\"axis_label\":\"Frequency\",\"formatter\":{\"id\":\"7714\",\"type\":\"BasicTickFormatter\"},\"ticker\":{\"id\":\"7689\",\"type\":\"BasicTicker\"}},\"id\":\"7688\",\"type\":\"LinearAxis\"},{\"attributes\":{\"bottom_units\":\"screen\",\"fill_alpha\":{\"value\":0.5},\"fill_color\":{\"value\":\"lightgrey\"},\"left_units\":\"screen\",\"level\":\"overlay\",\"line_alpha\":{\"value\":1.0},\"line_color\":{\"value\":\"black\"},\"line_dash\":[4,4],\"line_width\":{\"value\":2},\"render_mode\":\"css\",\"right_units\":\"screen\",\"top_units\":\"screen\"},\"id\":\"7716\",\"type\":\"BoxAnnotation\"},{\"attributes\":{\"ticker\":{\"id\":\"7684\",\"type\":\"BasicTicker\"}},\"id\":\"7687\",\"type\":\"Grid\"},{\"attributes\":{\"active_drag\":\"auto\",\"active_inspect\":\"auto\",\"active_multi\":null,\"active_scroll\":\"auto\",\"active_tap\":\"auto\",\"tools\":[{\"id\":\"7693\",\"type\":\"PanTool\"},{\"id\":\"7694\",\"type\":\"WheelZoomTool\"},{\"id\":\"7695\",\"type\":\"BoxZoomTool\"},{\"id\":\"7696\",\"type\":\"SaveTool\"},{\"id\":\"7697\",\"type\":\"ResetTool\"},{\"id\":\"7698\",\"type\":\"HelpTool\"}]},\"id\":\"7699\",\"type\":\"Toolbar\"}],\"root_ids\":[\"7673\"]},\"title\":\"Bokeh Application\",\"version\":\"1.2.0\"}};\n",
       "  var render_items = [{\"docid\":\"730c222a-d00c-4c4b-87f8-9929d8a94b61\",\"roots\":{\"7673\":\"24341b26-31b4-4317-a853-fa2b9450efe3\"}}];\n",
       "  root.Bokeh.embed.embed_items_notebook(docs_json, render_items);\n",
       "\n",
       "  }\n",
       "  if (root.Bokeh !== undefined) {\n",
       "    embed_document(root);\n",
       "  } else {\n",
       "    var attempts = 0;\n",
       "    var timer = setInterval(function(root) {\n",
       "      if (root.Bokeh !== undefined) {\n",
       "        embed_document(root);\n",
       "        clearInterval(timer);\n",
       "      }\n",
       "      attempts++;\n",
       "      if (attempts > 100) {\n",
       "        console.log(\"Bokeh: ERROR: Unable to run BokehJS code because BokehJS library is missing\");\n",
       "        clearInterval(timer);\n",
       "      }\n",
       "    }, 10, root)\n",
       "  }\n",
       "})(window);"
      ],
      "application/vnd.bokehjs_exec.v0+json": ""
     },
     "metadata": {
      "application/vnd.bokehjs_exec.v0+json": {
       "id": "7673"
      }
     },
     "output_type": "display_data"
    }
   ],
   "source": [
    "p = hl.plot.histogram(mt.sample_qc.gq_stats.mean, range=(0,100), legend='Mean Sample GQ')\n",
    "p.plot_width = 800\n",
    "p.plot_height = 500\n",
    "show(p)"
   ]
  },
  {
   "cell_type": "code",
   "execution_count": 309,
   "id": "manufactured-guidance",
   "metadata": {},
   "outputs": [
    {
     "name": "stderr",
     "output_type": "stream",
     "text": [
      "[Stage 188:====================================================>(119 + 1) / 120]"
     ]
    },
    {
     "data": {
      "text/html": [
       "\n",
       "\n",
       "\n",
       "\n",
       "\n",
       "\n",
       "  <div class=\"bk-root\" id=\"58eff785-05a2-49a4-8121-c984853dc081\" data-root-id=\"8023\"></div>\n"
      ]
     },
     "metadata": {},
     "output_type": "display_data"
    },
    {
     "data": {
      "application/javascript": [
       "(function(root) {\n",
       "  function embed_document(root) {\n",
       "    \n",
       "  var docs_json = {\"8710eca2-04fa-4537-9005-9beb5e16a464\":{\"roots\":{\"references\":[{\"attributes\":{\"background_fill_color\":{\"value\":\"#EEEEEE\"},\"below\":[{\"id\":\"8033\",\"type\":\"LinearAxis\"}],\"center\":[{\"id\":\"8037\",\"type\":\"Grid\"},{\"id\":\"8042\",\"type\":\"Grid\"},{\"id\":\"8067\",\"type\":\"Legend\"}],\"left\":[{\"id\":\"8038\",\"type\":\"LinearAxis\"}],\"plot_height\":500,\"plot_width\":800,\"renderers\":[{\"id\":\"8059\",\"type\":\"GlyphRenderer\"},{\"id\":\"8072\",\"type\":\"GlyphRenderer\"}],\"title\":null,\"toolbar\":{\"id\":\"8049\",\"type\":\"Toolbar\"},\"x_range\":{\"id\":\"8025\",\"type\":\"Range1d\"},\"x_scale\":{\"id\":\"8029\",\"type\":\"LinearScale\"},\"y_range\":{\"id\":\"8027\",\"type\":\"DataRange1d\"},\"y_scale\":{\"id\":\"8031\",\"type\":\"LinearScale\"}},\"id\":\"8023\",\"subtype\":\"Figure\",\"type\":\"Plot\"},{\"attributes\":{\"bottom\":{\"value\":0},\"fill_color\":{\"value\":\"green\"},\"left\":{\"value\":60.0},\"right\":{\"value\":61.2},\"top\":{\"value\":11}},\"id\":\"8070\",\"type\":\"Quad\"},{\"attributes\":{\"overlay\":{\"id\":\"8066\",\"type\":\"BoxAnnotation\"}},\"id\":\"8045\",\"type\":\"BoxZoomTool\"},{\"attributes\":{\"bottom_units\":\"screen\",\"fill_alpha\":{\"value\":0.5},\"fill_color\":{\"value\":\"lightgrey\"},\"left_units\":\"screen\",\"level\":\"overlay\",\"line_alpha\":{\"value\":1.0},\"line_color\":{\"value\":\"black\"},\"line_dash\":[4,4],\"line_width\":{\"value\":2},\"render_mode\":\"css\",\"right_units\":\"screen\",\"top_units\":\"screen\"},\"id\":\"8066\",\"type\":\"BoxAnnotation\"},{\"attributes\":{\"source\":{\"id\":\"8056\",\"type\":\"ColumnDataSource\"}},\"id\":\"8060\",\"type\":\"CDSView\"},{\"attributes\":{},\"id\":\"8347\",\"type\":\"Selection\"},{\"attributes\":{\"callback\":null},\"id\":\"8027\",\"type\":\"DataRange1d\"},{\"attributes\":{},\"id\":\"8079\",\"type\":\"UnionRenderers\"},{\"attributes\":{\"callback\":null,\"end\":63.0,\"start\":-3.0},\"id\":\"8025\",\"type\":\"Range1d\"},{\"attributes\":{},\"id\":\"8048\",\"type\":\"HelpTool\"},{\"attributes\":{},\"id\":\"8034\",\"type\":\"BasicTicker\"},{\"attributes\":{\"dimension\":1,\"ticker\":{\"id\":\"8039\",\"type\":\"BasicTicker\"}},\"id\":\"8042\",\"type\":\"Grid\"},{\"attributes\":{},\"id\":\"8064\",\"type\":\"BasicTickFormatter\"},{\"attributes\":{},\"id\":\"8062\",\"type\":\"BasicTickFormatter\"},{\"attributes\":{\"data_source\":{\"id\":\"8069\",\"type\":\"ColumnDataSource\"},\"glyph\":{\"id\":\"8070\",\"type\":\"Quad\"},\"hover_glyph\":null,\"muted_glyph\":null,\"nonselection_glyph\":{\"id\":\"8071\",\"type\":\"Quad\"},\"selection_glyph\":null,\"view\":{\"id\":\"8073\",\"type\":\"CDSView\"}},\"id\":\"8072\",\"type\":\"GlyphRenderer\"},{\"attributes\":{},\"id\":\"8047\",\"type\":\"ResetTool\"},{\"attributes\":{},\"id\":\"8346\",\"type\":\"UnionRenderers\"},{\"attributes\":{\"axis_label\":\"Frequency\",\"formatter\":{\"id\":\"8064\",\"type\":\"BasicTickFormatter\"},\"ticker\":{\"id\":\"8039\",\"type\":\"BasicTicker\"}},\"id\":\"8038\",\"type\":\"LinearAxis\"},{\"attributes\":{\"callback\":null,\"data\":{\"left\":[0.0,1.2,2.4,3.5999999999999996,4.8,6.0,7.199999999999999,8.4,9.6,10.799999999999999,12.0,13.2,14.399999999999999,15.6,16.8,18.0,19.2,20.4,21.599999999999998,22.8,24.0,25.2,26.4,27.599999999999998,28.799999999999997,30.0,31.2,32.4,33.6,34.8,36.0,37.199999999999996,38.4,39.6,40.8,42.0,43.199999999999996,44.4,45.6,46.8,48.0,49.199999999999996,50.4,51.6,52.8,54.0,55.199999999999996,56.4,57.599999999999994,58.8],\"right\":[1.2,2.4,3.5999999999999996,4.8,6.0,7.199999999999999,8.4,9.6,10.799999999999999,12.0,13.2,14.399999999999999,15.6,16.8,18.0,19.2,20.4,21.599999999999998,22.8,24.0,25.2,26.4,27.599999999999998,28.799999999999997,30.0,31.2,32.4,33.6,34.8,36.0,37.199999999999996,38.4,39.6,40.8,42.0,43.199999999999996,44.4,45.6,46.8,48.0,49.199999999999996,50.4,51.6,52.8,54.0,55.199999999999996,56.4,57.599999999999994,58.8,60.0],\"top\":[0,0,0,0,0,0,0,0,0,0,0,0,1,1,2,2,3,5,4,5,4,13,13,14,16,22,23,15,23,33,24,31,24,31,22,21,18,15,20,7,9,4,11,8,2,5,5,4,2,0]},\"selected\":{\"id\":\"8080\",\"type\":\"Selection\"},\"selection_policy\":{\"id\":\"8079\",\"type\":\"UnionRenderers\"}},\"id\":\"8056\",\"type\":\"ColumnDataSource\"},{\"attributes\":{\"bottom\":{\"value\":0},\"fill_alpha\":{\"value\":0.1},\"fill_color\":{\"value\":\"#1f77b4\"},\"left\":{\"value\":60.0},\"line_alpha\":{\"value\":0.1},\"line_color\":{\"value\":\"#1f77b4\"},\"right\":{\"value\":61.2},\"top\":{\"value\":11}},\"id\":\"8071\",\"type\":\"Quad\"},{\"attributes\":{\"label\":{\"value\":\"Mean Sample DP\"},\"renderers\":[{\"id\":\"8059\",\"type\":\"GlyphRenderer\"}]},\"id\":\"8068\",\"type\":\"LegendItem\"},{\"attributes\":{\"label\":{\"value\":\"Outliers Above\"},\"renderers\":[{\"id\":\"8072\",\"type\":\"GlyphRenderer\"}]},\"id\":\"8082\",\"type\":\"LegendItem\"},{\"attributes\":{},\"id\":\"8039\",\"type\":\"BasicTicker\"},{\"attributes\":{\"axis_label\":\"Mean Sample DP\",\"formatter\":{\"id\":\"8062\",\"type\":\"BasicTickFormatter\"},\"ticker\":{\"id\":\"8034\",\"type\":\"BasicTicker\"}},\"id\":\"8033\",\"type\":\"LinearAxis\"},{\"attributes\":{\"bottom\":{\"value\":0},\"fill_color\":{\"value\":\"#1f77b4\"},\"left\":{\"field\":\"left\"},\"right\":{\"field\":\"right\"},\"top\":{\"field\":\"top\"}},\"id\":\"8057\",\"type\":\"Quad\"},{\"attributes\":{},\"id\":\"8046\",\"type\":\"SaveTool\"},{\"attributes\":{},\"id\":\"8044\",\"type\":\"WheelZoomTool\"},{\"attributes\":{\"items\":[{\"id\":\"8068\",\"type\":\"LegendItem\"},{\"id\":\"8082\",\"type\":\"LegendItem\"}]},\"id\":\"8067\",\"type\":\"Legend\"},{\"attributes\":{\"data_source\":{\"id\":\"8056\",\"type\":\"ColumnDataSource\"},\"glyph\":{\"id\":\"8057\",\"type\":\"Quad\"},\"hover_glyph\":null,\"muted_glyph\":null,\"nonselection_glyph\":{\"id\":\"8058\",\"type\":\"Quad\"},\"selection_glyph\":null,\"view\":{\"id\":\"8060\",\"type\":\"CDSView\"}},\"id\":\"8059\",\"type\":\"GlyphRenderer\"},{\"attributes\":{},\"id\":\"8029\",\"type\":\"LinearScale\"},{\"attributes\":{\"callback\":null,\"data\":{},\"selected\":{\"id\":\"8347\",\"type\":\"Selection\"},\"selection_policy\":{\"id\":\"8346\",\"type\":\"UnionRenderers\"}},\"id\":\"8069\",\"type\":\"ColumnDataSource\"},{\"attributes\":{},\"id\":\"8080\",\"type\":\"Selection\"},{\"attributes\":{\"ticker\":{\"id\":\"8034\",\"type\":\"BasicTicker\"}},\"id\":\"8037\",\"type\":\"Grid\"},{\"attributes\":{},\"id\":\"8043\",\"type\":\"PanTool\"},{\"attributes\":{},\"id\":\"8031\",\"type\":\"LinearScale\"},{\"attributes\":{\"source\":{\"id\":\"8069\",\"type\":\"ColumnDataSource\"}},\"id\":\"8073\",\"type\":\"CDSView\"},{\"attributes\":{\"active_drag\":\"auto\",\"active_inspect\":\"auto\",\"active_multi\":null,\"active_scroll\":\"auto\",\"active_tap\":\"auto\",\"tools\":[{\"id\":\"8043\",\"type\":\"PanTool\"},{\"id\":\"8044\",\"type\":\"WheelZoomTool\"},{\"id\":\"8045\",\"type\":\"BoxZoomTool\"},{\"id\":\"8046\",\"type\":\"SaveTool\"},{\"id\":\"8047\",\"type\":\"ResetTool\"},{\"id\":\"8048\",\"type\":\"HelpTool\"}]},\"id\":\"8049\",\"type\":\"Toolbar\"},{\"attributes\":{\"bottom\":{\"value\":0},\"fill_alpha\":{\"value\":0.1},\"fill_color\":{\"value\":\"#1f77b4\"},\"left\":{\"field\":\"left\"},\"line_alpha\":{\"value\":0.1},\"line_color\":{\"value\":\"#1f77b4\"},\"right\":{\"field\":\"right\"},\"top\":{\"field\":\"top\"}},\"id\":\"8058\",\"type\":\"Quad\"}],\"root_ids\":[\"8023\"]},\"title\":\"Bokeh Application\",\"version\":\"1.2.0\"}};\n",
       "  var render_items = [{\"docid\":\"8710eca2-04fa-4537-9005-9beb5e16a464\",\"roots\":{\"8023\":\"58eff785-05a2-49a4-8121-c984853dc081\"}}];\n",
       "  root.Bokeh.embed.embed_items_notebook(docs_json, render_items);\n",
       "\n",
       "  }\n",
       "  if (root.Bokeh !== undefined) {\n",
       "    embed_document(root);\n",
       "  } else {\n",
       "    var attempts = 0;\n",
       "    var timer = setInterval(function(root) {\n",
       "      if (root.Bokeh !== undefined) {\n",
       "        embed_document(root);\n",
       "        clearInterval(timer);\n",
       "      }\n",
       "      attempts++;\n",
       "      if (attempts > 100) {\n",
       "        console.log(\"Bokeh: ERROR: Unable to run BokehJS code because BokehJS library is missing\");\n",
       "        clearInterval(timer);\n",
       "      }\n",
       "    }, 10, root)\n",
       "  }\n",
       "})(window);"
      ],
      "application/vnd.bokehjs_exec.v0+json": ""
     },
     "metadata": {
      "application/vnd.bokehjs_exec.v0+json": {
       "id": "8023"
      }
     },
     "output_type": "display_data"
    }
   ],
   "source": [
    "p = hl.plot.histogram(mt.sample_qc.dp_stats.mean, range=(0,60), legend='Mean Sample DP')\n",
    "p.plot_width = 800\n",
    "p.plot_height = 500\n",
    "show(p)"
   ]
  },
  {
   "cell_type": "markdown",
   "id": "dcd465d8-a592-4f6c-adac-68228767c8c0",
   "metadata": {},
   "source": [
    "Below is a histogram of the heterozygote/homozygote ratio."
   ]
  },
  {
   "cell_type": "code",
   "execution_count": 310,
   "id": "outstanding-mississippi",
   "metadata": {},
   "outputs": [
    {
     "name": "stderr",
     "output_type": "stream",
     "text": [
      "[Stage 194:===================================================> (117 + 3) / 120]"
     ]
    },
    {
     "data": {
      "text/html": [
       "\n",
       "\n",
       "\n",
       "\n",
       "\n",
       "\n",
       "  <div class=\"bk-root\" id=\"16ef2022-af83-4a57-bb6c-7af2ebe1ac08\" data-root-id=\"8409\"></div>\n"
      ]
     },
     "metadata": {},
     "output_type": "display_data"
    },
    {
     "data": {
      "application/javascript": [
       "(function(root) {\n",
       "  function embed_document(root) {\n",
       "    \n",
       "  var docs_json = {\"3fcecf04-f051-478b-99da-eb8c975d59e2\":{\"roots\":{\"references\":[{\"attributes\":{\"background_fill_color\":{\"value\":\"#EEEEEE\"},\"below\":[{\"id\":\"8419\",\"type\":\"LinearAxis\"}],\"center\":[{\"id\":\"8423\",\"type\":\"Grid\"},{\"id\":\"8428\",\"type\":\"Grid\"},{\"id\":\"8453\",\"type\":\"Legend\"}],\"left\":[{\"id\":\"8424\",\"type\":\"LinearAxis\"}],\"plot_height\":500,\"plot_width\":800,\"renderers\":[{\"id\":\"8445\",\"type\":\"GlyphRenderer\"}],\"title\":null,\"toolbar\":{\"id\":\"8435\",\"type\":\"Toolbar\"},\"x_range\":{\"id\":\"8411\",\"type\":\"Range1d\"},\"x_scale\":{\"id\":\"8415\",\"type\":\"LinearScale\"},\"y_range\":{\"id\":\"8413\",\"type\":\"DataRange1d\"},\"y_scale\":{\"id\":\"8417\",\"type\":\"LinearScale\"}},\"id\":\"8409\",\"subtype\":\"Figure\",\"type\":\"Plot\"},{\"attributes\":{},\"id\":\"8415\",\"type\":\"LinearScale\"},{\"attributes\":{},\"id\":\"8429\",\"type\":\"PanTool\"},{\"attributes\":{},\"id\":\"8425\",\"type\":\"BasicTicker\"},{\"attributes\":{\"dimension\":1,\"ticker\":{\"id\":\"8425\",\"type\":\"BasicTicker\"}},\"id\":\"8428\",\"type\":\"Grid\"},{\"attributes\":{\"active_drag\":\"auto\",\"active_inspect\":\"auto\",\"active_multi\":null,\"active_scroll\":\"auto\",\"active_tap\":\"auto\",\"tools\":[{\"id\":\"8429\",\"type\":\"PanTool\"},{\"id\":\"8430\",\"type\":\"WheelZoomTool\"},{\"id\":\"8431\",\"type\":\"BoxZoomTool\"},{\"id\":\"8432\",\"type\":\"SaveTool\"},{\"id\":\"8433\",\"type\":\"ResetTool\"},{\"id\":\"8434\",\"type\":\"HelpTool\"}]},\"id\":\"8435\",\"type\":\"Toolbar\"},{\"attributes\":{},\"id\":\"8433\",\"type\":\"ResetTool\"},{\"attributes\":{},\"id\":\"8430\",\"type\":\"WheelZoomTool\"},{\"attributes\":{},\"id\":\"8450\",\"type\":\"BasicTickFormatter\"},{\"attributes\":{},\"id\":\"8727\",\"type\":\"Selection\"},{\"attributes\":{},\"id\":\"8434\",\"type\":\"HelpTool\"},{\"attributes\":{\"bottom_units\":\"screen\",\"fill_alpha\":{\"value\":0.5},\"fill_color\":{\"value\":\"lightgrey\"},\"left_units\":\"screen\",\"level\":\"overlay\",\"line_alpha\":{\"value\":1.0},\"line_color\":{\"value\":\"black\"},\"line_dash\":[4,4],\"line_width\":{\"value\":2},\"render_mode\":\"css\",\"right_units\":\"screen\",\"top_units\":\"screen\"},\"id\":\"8452\",\"type\":\"BoxAnnotation\"},{\"attributes\":{\"axis_label\":\"Het/hom rate\",\"formatter\":{\"id\":\"8448\",\"type\":\"BasicTickFormatter\"},\"ticker\":{\"id\":\"8420\",\"type\":\"BasicTicker\"}},\"id\":\"8419\",\"type\":\"LinearAxis\"},{\"attributes\":{},\"id\":\"8432\",\"type\":\"SaveTool\"},{\"attributes\":{\"axis_label\":\"Frequency\",\"formatter\":{\"id\":\"8450\",\"type\":\"BasicTickFormatter\"},\"ticker\":{\"id\":\"8425\",\"type\":\"BasicTicker\"}},\"id\":\"8424\",\"type\":\"LinearAxis\"},{\"attributes\":{\"items\":[{\"id\":\"8454\",\"type\":\"LegendItem\"}]},\"id\":\"8453\",\"type\":\"Legend\"},{\"attributes\":{\"bottom\":{\"value\":0},\"fill_alpha\":{\"value\":0.1},\"fill_color\":{\"value\":\"#1f77b4\"},\"left\":{\"field\":\"left\"},\"line_alpha\":{\"value\":0.1},\"line_color\":{\"value\":\"#1f77b4\"},\"right\":{\"field\":\"right\"},\"top\":{\"field\":\"top\"}},\"id\":\"8444\",\"type\":\"Quad\"},{\"attributes\":{},\"id\":\"8417\",\"type\":\"LinearScale\"},{\"attributes\":{},\"id\":\"8726\",\"type\":\"UnionRenderers\"},{\"attributes\":{\"source\":{\"id\":\"8442\",\"type\":\"ColumnDataSource\"}},\"id\":\"8446\",\"type\":\"CDSView\"},{\"attributes\":{\"overlay\":{\"id\":\"8452\",\"type\":\"BoxAnnotation\"}},\"id\":\"8431\",\"type\":\"BoxZoomTool\"},{\"attributes\":{\"bottom\":{\"value\":0},\"fill_color\":{\"value\":\"#1f77b4\"},\"left\":{\"field\":\"left\"},\"right\":{\"field\":\"right\"},\"top\":{\"field\":\"top\"}},\"id\":\"8443\",\"type\":\"Quad\"},{\"attributes\":{\"data_source\":{\"id\":\"8442\",\"type\":\"ColumnDataSource\"},\"glyph\":{\"id\":\"8443\",\"type\":\"Quad\"},\"hover_glyph\":null,\"muted_glyph\":null,\"nonselection_glyph\":{\"id\":\"8444\",\"type\":\"Quad\"},\"selection_glyph\":null,\"view\":{\"id\":\"8446\",\"type\":\"CDSView\"}},\"id\":\"8445\",\"type\":\"GlyphRenderer\"},{\"attributes\":{\"callback\":null},\"id\":\"8413\",\"type\":\"DataRange1d\"},{\"attributes\":{\"ticker\":{\"id\":\"8420\",\"type\":\"BasicTicker\"}},\"id\":\"8423\",\"type\":\"Grid\"},{\"attributes\":{},\"id\":\"8420\",\"type\":\"BasicTicker\"},{\"attributes\":{\"callback\":null,\"data\":{\"left\":[1.406998073924608,1.4578431663216807,1.5086882587187533,1.559533351115826,1.6103784435128987,1.6612235359099712,1.7120686283070439,1.7629137207041166,1.8137588131011892,1.864603905498262,1.9154489978953346,1.9662940902924073,2.01713918268948,2.0679842750865527,2.118829367483625,2.1696744598806976,2.2205195522777705,2.2713646446748434,2.322209737071916,2.3730548294689884,2.4238999218660613,2.4747450142631338,2.5255901066602062,2.576435199057279,2.627280291454352,2.6781253838514245,2.728970476248497,2.77981556864557,2.8306606610426424,2.881505753439715,2.9323508458367877,2.9831959382338606,3.034041030630933,3.0848861230280056,3.1357312154250785,3.1865763078221514,3.237421400219224,3.2882664926162963,3.3391115850133692,3.3899566774104417,3.4408017698075146,3.491646862204587,3.5424919546016596,3.5933370469987325,3.644182139395805,3.695027231792878,3.7458723241899503,3.796717416587023,3.8475625089840957,3.898407601381168],\"right\":[1.4578431663216807,1.5086882587187533,1.559533351115826,1.6103784435128987,1.6612235359099712,1.7120686283070439,1.7629137207041166,1.8137588131011892,1.864603905498262,1.9154489978953346,1.9662940902924073,2.01713918268948,2.0679842750865527,2.118829367483625,2.1696744598806976,2.2205195522777705,2.2713646446748434,2.322209737071916,2.3730548294689884,2.4238999218660613,2.4747450142631338,2.5255901066602062,2.576435199057279,2.627280291454352,2.6781253838514245,2.728970476248497,2.77981556864557,2.8306606610426424,2.881505753439715,2.9323508458367877,2.9831959382338606,3.034041030630933,3.0848861230280056,3.1357312154250785,3.1865763078221514,3.237421400219224,3.2882664926162963,3.3391115850133692,3.3899566774104417,3.4408017698075146,3.491646862204587,3.5424919546016596,3.5933370469987325,3.644182139395805,3.695027231792878,3.7458723241899503,3.796717416587023,3.8475625089840957,3.898407601381168,3.949252693778241],\"top\":[1,1,1,0,2,12,53,151,142,79,20,1,5,0,0,0,0,0,0,1,0,0,0,0,0,0,0,0,0,0,0,0,0,0,0,0,0,0,0,0,0,0,0,0,0,0,1,0,1,2]},\"selected\":{\"id\":\"8727\",\"type\":\"Selection\"},\"selection_policy\":{\"id\":\"8726\",\"type\":\"UnionRenderers\"}},\"id\":\"8442\",\"type\":\"ColumnDataSource\"},{\"attributes\":{\"label\":{\"value\":\"Het/hom rate\"},\"renderers\":[{\"id\":\"8445\",\"type\":\"GlyphRenderer\"}]},\"id\":\"8454\",\"type\":\"LegendItem\"},{\"attributes\":{},\"id\":\"8448\",\"type\":\"BasicTickFormatter\"},{\"attributes\":{\"callback\":null,\"end\":4.0763654247709225,\"start\":1.2798853429319264},\"id\":\"8411\",\"type\":\"Range1d\"}],\"root_ids\":[\"8409\"]},\"title\":\"Bokeh Application\",\"version\":\"1.2.0\"}};\n",
       "  var render_items = [{\"docid\":\"3fcecf04-f051-478b-99da-eb8c975d59e2\",\"roots\":{\"8409\":\"16ef2022-af83-4a57-bb6c-7af2ebe1ac08\"}}];\n",
       "  root.Bokeh.embed.embed_items_notebook(docs_json, render_items);\n",
       "\n",
       "  }\n",
       "  if (root.Bokeh !== undefined) {\n",
       "    embed_document(root);\n",
       "  } else {\n",
       "    var attempts = 0;\n",
       "    var timer = setInterval(function(root) {\n",
       "      if (root.Bokeh !== undefined) {\n",
       "        embed_document(root);\n",
       "        clearInterval(timer);\n",
       "      }\n",
       "      attempts++;\n",
       "      if (attempts > 100) {\n",
       "        console.log(\"Bokeh: ERROR: Unable to run BokehJS code because BokehJS library is missing\");\n",
       "        clearInterval(timer);\n",
       "      }\n",
       "    }, 10, root)\n",
       "  }\n",
       "})(window);"
      ],
      "application/vnd.bokehjs_exec.v0+json": ""
     },
     "metadata": {
      "application/vnd.bokehjs_exec.v0+json": {
       "id": "8409"
      }
     },
     "output_type": "display_data"
    }
   ],
   "source": [
    "p = hl.plot.histogram(mt.sample_qc.r_het_hom_var, legend='Het/hom rate')\n",
    "p.plot_width = 800\n",
    "p.plot_height = 500\n",
    "show(p)"
   ]
  },
  {
   "cell_type": "markdown",
   "id": "controlling-reconstruction",
   "metadata": {},
   "source": [
    "Looks like there are a few samples with a lot higher het/hom rate than the rest of the samples. Let's check whether this is due to poor coverage."
   ]
  },
  {
   "cell_type": "code",
   "execution_count": 311,
   "id": "standing-flavor",
   "metadata": {},
   "outputs": [],
   "source": [
    "het_hom_thres = 3\n",
    "mt = mt.annotate_cols(high_hom_het=mt.sample_qc.r_het_hom_var > het_hom_thres)"
   ]
  },
  {
   "cell_type": "code",
   "execution_count": 312,
   "id": "wooden-aging",
   "metadata": {},
   "outputs": [
    {
     "name": "stderr",
     "output_type": "stream",
     "text": [
      "[Stage 197:====================================================>(119 + 1) / 120]"
     ]
    },
    {
     "data": {
      "text/html": [
       "\n",
       "\n",
       "\n",
       "\n",
       "\n",
       "\n",
       "  <div class=\"bk-root\" id=\"60dade7f-08a6-4d89-92c2-e29112ca2669\" data-root-id=\"8777\"></div>\n"
      ]
     },
     "metadata": {},
     "output_type": "display_data"
    },
    {
     "data": {
      "application/javascript": [
       "(function(root) {\n",
       "  function embed_document(root) {\n",
       "    \n",
       "  var docs_json = {\"fa393e62-01d7-421b-8401-cd25152013d5\":{\"roots\":{\"references\":[{\"attributes\":{\"below\":[{\"id\":\"8787\",\"type\":\"LinearAxis\"}],\"center\":[{\"id\":\"8791\",\"type\":\"Grid\"},{\"id\":\"8796\",\"type\":\"Grid\"}],\"left\":[{\"id\":\"8792\",\"type\":\"LinearAxis\"},{\"id\":\"8828\",\"type\":\"Legend\"},{\"id\":\"8829\",\"type\":\"ColorBar\"}],\"plot_height\":600,\"plot_width\":600,\"renderers\":[{\"id\":\"8819\",\"type\":\"GlyphRenderer\"},{\"id\":\"8825\",\"type\":\"GlyphRenderer\"}],\"title\":null,\"toolbar\":{\"id\":\"8803\",\"type\":\"Toolbar\"},\"x_range\":{\"id\":\"8779\",\"type\":\"DataRange1d\"},\"x_scale\":{\"id\":\"8783\",\"type\":\"LinearScale\"},\"y_range\":{\"id\":\"8781\",\"type\":\"DataRange1d\"},\"y_scale\":{\"id\":\"8785\",\"type\":\"LinearScale\"}},\"id\":\"8777\",\"subtype\":\"Figure\",\"type\":\"Plot\"},{\"attributes\":{\"filters\":[{\"id\":\"8814\",\"type\":\"GroupFilter\"}],\"source\":{\"id\":\"8812\",\"type\":\"ColumnDataSource\"}},\"id\":\"8815\",\"type\":\"CDSView\"},{\"attributes\":{\"callback\":null,\"data\":{\"Sample\":[\"FN000938\",\"FN000538\",\"FN000755\",\"FN000559\",\"FN000020\",\"FN000557\",\"FN000761\",\"FN001110\",\"FN001020\",\"FN000369\",\"FN000893\",\"FN000558\",\"FN000618\",\"FN000277\",\"FN000931\",\"FN000953\",\"FN000862\",\"FN000878\",\"FN000544\",\"FN000940\",\"FN000217\",\"FN000925\",\"FN000933\",\"FN000902\",\"FN001109\",\"FN000018\",\"FN000190\",\"FN000017\",\"FN000206\",\"FN001021\",\"FN001022\",\"FN000762\",\"FN001415\",\"FN000934\",\"FN001092\",\"FN000254\",\"FN001116\",\"FN000178\",\"FN000562\",\"FN000412\",\"FN000817\",\"FN001045\",\"FN000019\",\"FN000016\",\"FN000396\",\"FN000749\",\"FN000804\",\"FN000873\",\"FN001251\",\"FN000537\",\"FN000122\",\"FN000182\",\"FN000504\",\"FN001346\",\"FN000476\",\"FN000015\",\"FN001433\",\"FN001247\",\"FN000152\",\"FN001377\",\"FN000132\",\"FN000935\",\"FN000507\",\"FN000957\",\"FN000879\",\"FN001046\",\"FN000635\",\"FN001115\",\"FN000506\",\"FN000639\",\"FN001025\",\"FN001249\",\"FN001089\",\"FN000759\",\"FN000427\",\"FN000298\",\"FN000503\",\"FN000932\",\"FN000071\",\"FN000929\",\"FN001093\",\"FN000138\",\"FN000124\",\"FN000534\",\"FN000251\",\"FN001094\",\"FN000394\",\"FN000125\",\"FN000502\",\"FN000105\",\"FN000904\",\"FN000697\",\"FN001118\",\"FN000044\",\"FN000400\",\"FN000011\",\"FN000824\",\"FN000742\",\"FN000867\",\"FN000405\",\"FN000778\",\"FN000629\",\"FN001409\",\"FN000866\",\"FN000566\",\"FN001001\",\"FN000512\",\"FN000116\",\"FN000693\",\"FN000810\",\"FN000326\",\"FN000898\",\"FN000671\",\"FN000119\",\"FN000377\",\"FN000617\",\"FN000317\",\"FN000121\",\"FN000435\",\"FN000414\",\"FN001390\",\"FN000738\",\"FN001488\",\"FN001157\",\"FN000899\",\"FN001379\",\"FN001398\",\"FN000242\",\"FN000969\",\"FN001130\",\"FN000583\",\"FN000906\",\"FN000240\",\"FN000917\",\"FN001400\",\"FN001088\",\"FN000381\",\"FN000281\",\"FN000875\",\"FN001381\",\"FN000634\",\"FN000411\",\"FN000021\",\"FN000050\",\"FN000111\",\"FN000619\",\"FN000131\",\"FN000966\",\"FN000774\",\"FN000022\",\"FN001138\",\"FN000442\",\"FN000770\",\"FN000009\",\"FN000958\",\"FN000882\",\"FN000954\",\"FN000106\",\"FN000928\",\"FN000477\",\"FN000474\",\"FN000870\",\"FN000527\",\"FN000191\",\"FN001143\",\"FN000187\",\"FN001410\",\"FN000238\",\"FN000023\",\"FN001384\",\"FN000528\",\"FN000408\",\"FN000820\",\"FN000469\",\"FN000771\",\"FN001127\",\"FN000541\",\"FN000306\",\"FN000971\",\"FN000127\",\"FN001426\",\"FN000703\",\"FN000513\",\"FN000397\",\"FN000884\",\"FN001366\",\"FN000914\",\"FN001482\",\"FN000970\",\"FN001132\",\"FN000305\",\"FN000955\",\"FN001431\",\"FN000625\",\"FN000049\",\"FN000038\",\"FN000877\",\"FN000920\",\"FN000531\",\"FN000769\",\"FN000941\",\"FN000410\",\"FN000024\",\"FN000549\",\"FN000569\",\"FN000370\",\"FN000014\",\"FN001135\",\"FN001523\",\"FN000529\",\"FN000895\",\"FN000809\",\"FN000889\",\"FN001439\",\"FN001437\",\"FN000039\",\"FN001527\",\"FN001117\",\"FN000794\",\"FN001017\",\"FN001522\",\"FN001401\",\"FN000854\",\"FN000780\",\"FN000602\",\"FN000259\",\"FN001383\",\"FN000909\",\"FN000289\",\"FN000054\",\"FN001134\",\"FN000924\",\"FN001091\",\"FN000943\",\"FN000045\",\"FN000055\",\"FN000159\",\"FN000473\",\"FN000322\",\"FN001425\",\"FN000244\",\"FN000123\",\"FN000704\",\"FN001371\",\"FN001411\",\"FN000776\",\"FN000489\",\"FN000962\",\"FN000581\",\"FN000416\",\"FN001394\",\"FN000456\",\"FN000612\",\"FN000034\",\"FN000998\",\"FN000236\",\"FN000985\",\"FN000103\",\"FN001085\",\"FN000518\",\"FN000204\",\"FN000892\",\"FN001495\",\"FN001090\",\"FN000896\",\"FN000586\",\"FN000313\",\"FN000392\",\"FN001389\",\"FN000948\",\"FN001432\",\"FN000040\",\"FN000053\",\"FN000521\",\"FN001486\",\"FN000628\",\"FN000450\",\"FN001395\",\"FN001019\",\"FN000380\",\"FN000360\",\"FN000510\",\"FN000890\",\"FN000440\",\"FN000278\",\"FN001392\",\"FN000960\",\"FN000032\",\"FN001133\",\"FN000926\",\"FN000224\",\"FN000036\",\"FN000403\",\"FN000233\",\"FN000200\",\"FN000949\",\"FN000526\",\"FN000470\",\"FN000303\",\"FN000888\",\"FN000947\",\"FN001414\",\"FN001418\",\"FN000248\",\"FN000767\",\"FN000035\",\"FN000525\",\"FN000905\",\"FN000252\",\"FN000563\",\"FN001111\",\"FN000495\",\"FN000496\",\"FN001440\",\"FN000387\",\"FN000768\",\"FN000177\",\"FN000886\",\"FN000301\",\"FN000523\",\"FN000037\",\"FN000130\",\"FN001417\",\"FN000913\",\"FN000249\",\"FN000446\",\"FN000309\",\"FN000922\",\"FN001347\",\"FN000126\",\"FN001490\",\"FN000376\",\"FN000881\",\"FN001427\",\"FN001393\",\"FN000766\",\"FN001413\",\"FN000216\",\"FN000052\",\"FN000077\",\"FN000374\",\"FN000807\",\"FN000160\",\"FN000546\",\"FN001150\",\"FN000522\",\"FN000061\",\"FN000417\",\"FN000284\",\"FN001374\",\"FN000076\",\"FN001405\",\"FN001154\",\"FN000912\",\"FN000012\",\"FN001149\",\"FN001408\",\"FN000908\",\"FN001018\",\"FN001152\",\"FN000386\",\"FN001142\",\"FN001082\",\"FN000498\",\"FN000551\",\"FN001403\",\"FN001407\",\"FN000519\",\"FN000439\",\"FN000942\",\"FN000488\",\"FN001485\",\"FN000033\",\"FN000169\",\"FN000430\",\"FN000567\",\"FN000108\",\"FN000861\",\"FN000545\",\"FN000561\",\"FN001430\",\"FN000871\",\"FN000426\",\"FN000952\",\"FN000375\",\"FN000451\",\"FN000445\",\"FN000388\",\"FN000184\",\"FN000501\",\"FN000483\",\"FN001151\",\"FN001004\",\"FN000088\",\"FN001155\",\"FN000735\",\"FN000591\",\"FN001428\",\"FN000180\",\"FN000107\",\"FN001441\",\"FN000568\",\"FN000097\",\"FN000092\",\"FN000418\",\"FN001444\",\"FN000554\",\"FN000197\",\"FN000424\",\"FN001434\",\"FN001158\",\"FN001084\",\"FN001086\",\"FN000951\",\"FN000939\",\"FN001380\",\"FN001438\",\"FN000511\",\"FN000887\",\"FN000589\",\"FN000604\",\"FN000572\",\"FN001404\",\"FN000163\",\"FN000550\",\"FN000441\",\"FN000419\",\"FN000472\",\"FN001436\",\"FN000874\",\"FN000950\",\"FN000478\",\"FN000395\",\"FN001139\",\"FN000461\",\"FN001053\",\"FN001435\",\"FN000156\",\"FN001003\",\"FN000139\",\"FN000215\",\"FN001429\",\"FN000421\",\"FN000185\",\"FN000484\",\"FN000158\",\"FN001153\",\"FN000945\",\"FN001011\"],\"index\":[0,1,2,3,4,5,6,7,8,9,10,11,12,13,14,15,16,17,18,19,20,21,22,23,24,25,26,27,28,29,30,31,32,33,34,35,36,37,38,39,40,41,42,43,44,45,46,47,48,49,50,51,52,53,54,55,56,57,58,59,60,61,62,63,64,65,66,67,68,69,70,71,72,73,74,75,76,77,78,79,80,81,82,83,84,85,86,87,88,89,90,91,92,93,94,95,96,97,98,99,100,101,102,103,104,105,106,107,108,109,110,111,112,113,114,115,116,117,118,119,120,121,122,123,124,125,126,127,128,129,130,131,132,133,134,135,136,137,138,139,140,141,142,143,144,145,146,147,148,149,150,151,152,153,154,155,156,157,158,159,160,161,162,163,164,165,166,167,168,169,170,171,172,173,174,175,176,177,178,179,180,181,182,183,184,185,186,187,188,189,190,191,192,193,194,195,196,197,198,199,200,201,202,203,204,205,206,207,208,209,210,211,212,213,214,215,216,217,218,219,220,221,222,223,224,225,226,227,228,229,230,231,232,233,234,235,236,237,238,239,240,241,242,243,244,245,246,247,248,249,250,251,252,253,254,255,256,257,258,259,260,261,262,263,264,265,266,267,268,269,270,271,272,273,274,275,276,277,278,279,280,281,282,283,284,285,286,287,288,289,290,291,292,293,294,295,296,297,298,299,300,301,302,303,304,305,306,307,308,309,310,311,312,313,314,315,316,317,318,319,320,321,322,323,324,325,326,327,328,329,330,331,332,333,334,335,336,337,338,339,340,341,342,343,344,345,346,347,348,349,350,351,352,353,354,355,356,357,358,359,360,361,362,363,364,365,366,367,368,369,370,371,372,373,374,375,376,377,378,379,380,381,382,383,384,385,386,387,388,389,390,391,392,393,394,395,396,397,398,399,400,401,402,403,404,405,406,407,408,409,410,411,412,413,414,415,416,417,418,419,420,421,422,423,424,425,426,427,428,429,430,431,432,433,434,435,436,437,438,439,440,441,442,443,444,445,446,447,448],\"label\":[\"false\",\"false\",\"false\",\"false\",\"false\",\"false\",\"false\",\"false\",\"false\",\"false\",\"false\",\"false\",\"false\",\"false\",\"false\",\"false\",\"false\",\"false\",\"false\",\"true\",\"false\",\"false\",\"false\",\"false\",\"false\",\"false\",\"false\",\"false\",\"false\",\"false\",\"false\",\"false\",\"false\",\"false\",\"false\",\"false\",\"false\",\"false\",\"false\",\"false\",\"false\",\"false\",\"false\",\"false\",\"false\",\"false\",\"false\",\"false\",\"false\",\"false\",\"false\",\"false\",\"false\",\"false\",\"false\",\"false\",\"false\",\"false\",\"false\",\"false\",\"false\",\"false\",\"false\",\"false\",\"false\",\"false\",\"false\",\"false\",\"false\",\"false\",\"false\",\"false\",\"false\",\"false\",\"false\",\"false\",\"false\",\"false\",\"false\",\"false\",\"false\",\"false\",\"false\",\"false\",\"false\",\"false\",\"false\",\"false\",\"false\",\"false\",\"false\",\"false\",\"false\",\"false\",\"false\",\"false\",\"false\",\"false\",\"false\",\"false\",\"false\",\"false\",\"false\",\"false\",\"false\",\"false\",\"false\",\"false\",\"false\",\"false\",\"false\",\"false\",\"false\",\"false\",\"false\",\"false\",\"false\",\"false\",\"false\",\"false\",\"false\",\"false\",\"false\",\"false\",\"false\",\"false\",\"false\",\"false\",\"false\",\"false\",\"false\",\"false\",\"false\",\"false\",\"false\",\"false\",\"false\",\"false\",\"false\",\"false\",\"false\",\"false\",\"false\",\"false\",\"false\",\"false\",\"false\",\"false\",\"false\",\"false\",\"false\",\"false\",\"false\",\"false\",\"false\",\"false\",\"false\",\"false\",\"false\",\"false\",\"false\",\"false\",\"false\",\"false\",\"false\",\"false\",\"false\",\"false\",\"false\",\"false\",\"false\",\"false\",\"false\",\"false\",\"false\",\"false\",\"false\",\"false\",\"false\",\"false\",\"false\",\"false\",\"false\",\"false\",\"false\",\"false\",\"false\",\"false\",\"false\",\"false\",\"false\",\"false\",\"false\",\"false\",\"false\",\"false\",\"false\",\"false\",\"false\",\"false\",\"false\",\"false\",\"false\",\"false\",\"false\",\"false\",\"false\",\"false\",\"false\",\"false\",\"false\",\"false\",\"false\",\"false\",\"false\",\"false\",\"false\",\"false\",\"false\",\"false\",\"false\",\"false\",\"false\",\"false\",\"false\",\"false\",\"false\",\"true\",\"false\",\"false\",\"false\",\"false\",\"false\",\"false\",\"false\",\"false\",\"false\",\"false\",\"false\",\"false\",\"false\",\"false\",\"false\",\"false\",\"false\",\"false\",\"false\",\"false\",\"false\",\"false\",\"false\",\"false\",\"false\",\"false\",\"false\",\"false\",\"false\",\"false\",\"false\",\"false\",\"false\",\"false\",\"false\",\"false\",\"false\",\"false\",\"false\",\"false\",\"false\",\"false\",\"false\",\"false\",\"false\",\"false\",\"false\",\"false\",\"false\",\"false\",\"true\",\"false\",\"false\",\"false\",\"false\",\"false\",\"false\",\"false\",\"false\",\"false\",\"false\",\"false\",\"false\",\"false\",\"false\",\"false\",\"false\",\"false\",\"false\",\"false\",\"false\",\"false\",\"false\",\"false\",\"false\",\"false\",\"false\",\"false\",\"false\",\"false\",\"false\",\"false\",\"false\",\"false\",\"false\",\"false\",\"false\",\"false\",\"false\",\"false\",\"false\",\"false\",\"false\",\"false\",\"false\",\"false\",\"false\",\"false\",\"false\",\"false\",\"false\",\"false\",\"false\",\"false\",\"false\",\"false\",\"false\",\"false\",\"false\",\"false\",\"false\",\"false\",\"false\",\"false\",\"false\",\"false\",\"false\",\"false\",\"false\",\"false\",\"false\",\"false\",\"false\",\"false\",\"false\",\"false\",\"false\",\"false\",\"false\",\"false\",\"true\",\"false\",\"false\",\"false\",\"false\",\"false\",\"false\",\"false\",\"false\",\"false\",\"false\",\"false\",\"false\",\"false\",\"false\",\"false\",\"false\",\"false\",\"false\",\"false\",\"false\",\"false\",\"false\",\"false\",\"false\",\"false\",\"false\",\"false\",\"false\",\"false\",\"false\",\"false\",\"false\",\"false\",\"false\",\"false\",\"false\",\"false\",\"false\",\"false\",\"false\",\"false\",\"false\",\"false\",\"false\",\"false\",\"false\",\"false\",\"false\",\"false\",\"false\",\"false\",\"false\",\"false\",\"false\",\"false\",\"false\",\"false\",\"false\",\"false\",\"false\",\"false\",\"false\",\"false\",\"false\",\"false\",\"false\",\"false\",\"false\",\"false\",\"false\",\"false\",\"false\",\"false\",\"false\",\"false\",\"false\",\"false\",\"false\",\"false\",\"false\",\"false\",\"false\",\"false\",\"false\",\"false\",\"false\",\"false\",\"false\",\"false\",\"false\"],\"x\":{\"__ndarray__\":\"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\",\"dtype\":\"float64\",\"shape\":[449]},\"y\":{\"__ndarray__\":\"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\",\"dtype\":\"float64\",\"shape\":[449]}},\"selected\":{\"id\":\"9112\",\"type\":\"Selection\"},\"selection_policy\":{\"id\":\"9111\",\"type\":\"UnionRenderers\"}},\"id\":\"8812\",\"type\":\"ColumnDataSource\"},{\"attributes\":{},\"id\":\"8785\",\"type\":\"LinearScale\"},{\"attributes\":{},\"id\":\"8793\",\"type\":\"BasicTicker\"},{\"attributes\":{\"callback\":null},\"id\":\"8779\",\"type\":\"DataRange1d\"},{\"attributes\":{},\"id\":\"8802\",\"type\":\"HelpTool\"},{\"attributes\":{\"fill_color\":{\"field\":\"label\",\"transform\":{\"id\":\"8813\",\"type\":\"CategoricalColorMapper\"}},\"line_color\":{\"field\":\"label\",\"transform\":{\"id\":\"8813\",\"type\":\"CategoricalColorMapper\"}},\"x\":{\"field\":\"x\"},\"y\":{\"field\":\"y\"}},\"id\":\"8823\",\"type\":\"Circle\"},{\"attributes\":{\"callback\":null,\"tooltips\":[[\"x\",\"@x\"],[\"y\",\"@y\"],[\"Sample\",\"@Sample\"],[\"label\",\"@label\"]]},\"id\":\"8811\",\"type\":\"HoverTool\"},{\"attributes\":{\"color_mapper\":null,\"formatter\":{\"id\":\"9109\",\"type\":\"BasicTickFormatter\"},\"ticker\":{\"id\":\"9110\",\"type\":\"BasicTicker\"},\"visible\":false},\"id\":\"8829\",\"type\":\"ColorBar\"},{\"attributes\":{},\"id\":\"9110\",\"type\":\"BasicTicker\"},{\"attributes\":{},\"id\":\"8797\",\"type\":\"PanTool\"},{\"attributes\":{\"label\":{\"value\":\"true\"},\"renderers\":[{\"id\":\"8825\",\"type\":\"GlyphRenderer\"}]},\"id\":\"8827\",\"type\":\"LegendItem\"},{\"attributes\":{\"axis_label\":\"het/hom rate\",\"formatter\":{\"id\":\"9107\",\"type\":\"BasicTickFormatter\"},\"ticker\":{\"id\":\"8793\",\"type\":\"BasicTicker\"}},\"id\":\"8792\",\"type\":\"LinearAxis\"},{\"attributes\":{\"fill_alpha\":{\"value\":0.1},\"fill_color\":{\"value\":\"#1f77b4\"},\"line_alpha\":{\"value\":0.1},\"line_color\":{\"value\":\"#1f77b4\"},\"x\":{\"field\":\"x\"},\"y\":{\"field\":\"y\"}},\"id\":\"8818\",\"type\":\"Circle\"},{\"attributes\":{},\"id\":\"8801\",\"type\":\"ResetTool\"},{\"attributes\":{},\"id\":\"9107\",\"type\":\"BasicTickFormatter\"},{\"attributes\":{\"fill_color\":{\"field\":\"label\",\"transform\":{\"id\":\"8813\",\"type\":\"CategoricalColorMapper\"}},\"line_color\":{\"field\":\"label\",\"transform\":{\"id\":\"8813\",\"type\":\"CategoricalColorMapper\"}},\"x\":{\"field\":\"x\"},\"y\":{\"field\":\"y\"}},\"id\":\"8817\",\"type\":\"Circle\"},{\"attributes\":{},\"id\":\"8800\",\"type\":\"SaveTool\"},{\"attributes\":{},\"id\":\"8788\",\"type\":\"BasicTicker\"},{\"attributes\":{},\"id\":\"9111\",\"type\":\"UnionRenderers\"},{\"attributes\":{\"column_name\":\"label\",\"group\":\"true\"},\"id\":\"8820\",\"type\":\"GroupFilter\"},{\"attributes\":{},\"id\":\"9109\",\"type\":\"BasicTickFormatter\"},{\"attributes\":{},\"id\":\"8783\",\"type\":\"LinearScale\"},{\"attributes\":{},\"id\":\"8798\",\"type\":\"WheelZoomTool\"},{\"attributes\":{\"bottom_units\":\"screen\",\"fill_alpha\":{\"value\":0.5},\"fill_color\":{\"value\":\"lightgrey\"},\"left_units\":\"screen\",\"level\":\"overlay\",\"line_alpha\":{\"value\":1.0},\"line_color\":{\"value\":\"black\"},\"line_dash\":[4,4],\"line_width\":{\"value\":2},\"render_mode\":\"css\",\"right_units\":\"screen\",\"top_units\":\"screen\"},\"id\":\"9113\",\"type\":\"BoxAnnotation\"},{\"attributes\":{\"click_policy\":\"hide\",\"items\":[{\"id\":\"8826\",\"type\":\"LegendItem\"},{\"id\":\"8827\",\"type\":\"LegendItem\"}]},\"id\":\"8828\",\"type\":\"Legend\"},{\"attributes\":{\"ticker\":{\"id\":\"8788\",\"type\":\"BasicTicker\"}},\"id\":\"8791\",\"type\":\"Grid\"},{\"attributes\":{\"label\":{\"value\":\"false\"},\"renderers\":[{\"id\":\"8819\",\"type\":\"GlyphRenderer\"}]},\"id\":\"8826\",\"type\":\"LegendItem\"},{\"attributes\":{\"axis_label\":\"DP mean\",\"formatter\":{\"id\":\"9105\",\"type\":\"BasicTickFormatter\"},\"ticker\":{\"id\":\"8788\",\"type\":\"BasicTicker\"}},\"id\":\"8787\",\"type\":\"LinearAxis\"},{\"attributes\":{\"callback\":null},\"id\":\"8781\",\"type\":\"DataRange1d\"},{\"attributes\":{\"filters\":[{\"id\":\"8820\",\"type\":\"GroupFilter\"}],\"source\":{\"id\":\"8812\",\"type\":\"ColumnDataSource\"}},\"id\":\"8821\",\"type\":\"CDSView\"},{\"attributes\":{\"overlay\":{\"id\":\"9113\",\"type\":\"BoxAnnotation\"}},\"id\":\"8799\",\"type\":\"BoxZoomTool\"},{\"attributes\":{\"factors\":[\"false\",\"true\"],\"palette\":[\"#1f77b4\",\"#ff7f0e\",\"#2ca02c\",\"#d62728\",\"#9467bd\",\"#8c564b\",\"#e377c2\",\"#7f7f7f\",\"#bcbd22\",\"#17becf\"]},\"id\":\"8813\",\"type\":\"CategoricalColorMapper\"},{\"attributes\":{\"active_drag\":\"auto\",\"active_inspect\":\"auto\",\"active_multi\":null,\"active_scroll\":\"auto\",\"active_tap\":\"auto\",\"tools\":[{\"id\":\"8797\",\"type\":\"PanTool\"},{\"id\":\"8798\",\"type\":\"WheelZoomTool\"},{\"id\":\"8799\",\"type\":\"BoxZoomTool\"},{\"id\":\"8800\",\"type\":\"SaveTool\"},{\"id\":\"8801\",\"type\":\"ResetTool\"},{\"id\":\"8802\",\"type\":\"HelpTool\"},{\"id\":\"8811\",\"type\":\"HoverTool\"}]},\"id\":\"8803\",\"type\":\"Toolbar\"},{\"attributes\":{\"column_name\":\"label\",\"group\":\"false\"},\"id\":\"8814\",\"type\":\"GroupFilter\"},{\"attributes\":{\"data_source\":{\"id\":\"8812\",\"type\":\"ColumnDataSource\"},\"glyph\":{\"id\":\"8823\",\"type\":\"Circle\"},\"hover_glyph\":null,\"muted_glyph\":null,\"nonselection_glyph\":{\"id\":\"8824\",\"type\":\"Circle\"},\"selection_glyph\":null,\"view\":{\"id\":\"8821\",\"type\":\"CDSView\"}},\"id\":\"8825\",\"type\":\"GlyphRenderer\"},{\"attributes\":{},\"id\":\"9105\",\"type\":\"BasicTickFormatter\"},{\"attributes\":{\"dimension\":1,\"ticker\":{\"id\":\"8793\",\"type\":\"BasicTicker\"}},\"id\":\"8796\",\"type\":\"Grid\"},{\"attributes\":{},\"id\":\"9112\",\"type\":\"Selection\"},{\"attributes\":{\"fill_alpha\":{\"value\":0.1},\"fill_color\":{\"value\":\"#1f77b4\"},\"line_alpha\":{\"value\":0.1},\"line_color\":{\"value\":\"#1f77b4\"},\"x\":{\"field\":\"x\"},\"y\":{\"field\":\"y\"}},\"id\":\"8824\",\"type\":\"Circle\"},{\"attributes\":{\"data_source\":{\"id\":\"8812\",\"type\":\"ColumnDataSource\"},\"glyph\":{\"id\":\"8817\",\"type\":\"Circle\"},\"hover_glyph\":null,\"muted_glyph\":null,\"nonselection_glyph\":{\"id\":\"8818\",\"type\":\"Circle\"},\"selection_glyph\":null,\"view\":{\"id\":\"8815\",\"type\":\"CDSView\"}},\"id\":\"8819\",\"type\":\"GlyphRenderer\"}],\"root_ids\":[\"8777\"]},\"title\":\"Bokeh Application\",\"version\":\"1.2.0\"}};\n",
       "  var render_items = [{\"docid\":\"fa393e62-01d7-421b-8401-cd25152013d5\",\"roots\":{\"8777\":\"60dade7f-08a6-4d89-92c2-e29112ca2669\"}}];\n",
       "  root.Bokeh.embed.embed_items_notebook(docs_json, render_items);\n",
       "\n",
       "  }\n",
       "  if (root.Bokeh !== undefined) {\n",
       "    embed_document(root);\n",
       "  } else {\n",
       "    var attempts = 0;\n",
       "    var timer = setInterval(function(root) {\n",
       "      if (root.Bokeh !== undefined) {\n",
       "        embed_document(root);\n",
       "        clearInterval(timer);\n",
       "      }\n",
       "      attempts++;\n",
       "      if (attempts > 100) {\n",
       "        console.log(\"Bokeh: ERROR: Unable to run BokehJS code because BokehJS library is missing\");\n",
       "        clearInterval(timer);\n",
       "      }\n",
       "    }, 10, root)\n",
       "  }\n",
       "})(window);"
      ],
      "application/vnd.bokehjs_exec.v0+json": ""
     },
     "metadata": {
      "application/vnd.bokehjs_exec.v0+json": {
       "id": "8777"
      }
     },
     "output_type": "display_data"
    }
   ],
   "source": [
    "p = hl.plot.scatter(mt.sample_qc.dp_stats.mean, mt.sample_qc.r_het_hom_var, xlabel='DP mean', ylabel='het/hom rate',\n",
    "                    hover_fields={'Sample': mt.s}, label=mt.high_hom_het)\n",
    "p.plot_width = 600\n",
    "p.plot_height = 600\n",
    "show(p)"
   ]
  },
  {
   "cell_type": "markdown",
   "id": "fundamental-pontiac",
   "metadata": {},
   "source": [
    "The plot above indicates these samples have similar coverage as the other samples, so that doesn't explain the high het/hom rate.\n",
    "\n",
    "We can also check the MultiQC reports of these samples (file paths below), and we see that they are all of reasonable quality."
   ]
  },
  {
   "cell_type": "code",
   "execution_count": 313,
   "id": "incomplete-demographic",
   "metadata": {},
   "outputs": [
    {
     "name": "stderr",
     "output_type": "stream",
     "text": [
      "[Stage 200:===================================================> (116 + 4) / 120]"
     ]
    },
    {
     "name": "stdout",
     "output_type": "stream",
     "text": [
      "/data/projects/fargen_phase_1/data/single_sample_data/FN000909/multiqc/multiqc_report.html\n",
      "/data/projects/fargen_phase_1/data/single_sample_data/FN000940/multiqc/multiqc_report.html\n",
      "/data/projects/fargen_phase_1/data/single_sample_data/FN001018/multiqc/multiqc_report.html\n",
      "/data/projects/fargen_phase_1/data/single_sample_data/FN001019/multiqc/multiqc_report.html\n"
     ]
    }
   ],
   "source": [
    "high_hethom_samples = mt.filter_cols(mt.sample_qc.r_het_hom_var > het_hom_thres).s.collect()\n",
    "\n",
    "for sample in high_hethom_samples:\n",
    "    print('/data/projects/fargen_phase_1/data/single_sample_data/{sample}/multiqc/multiqc_report.html'.format(sample=sample))"
   ]
  },
  {
   "cell_type": "markdown",
   "id": "psychological-belgium",
   "metadata": {},
   "source": [
    "In the genealogy summary file (`/fargen/fargen_phase_1_utils/multi_sample/joint_genotyping/metadata/genealogy/individuals_summary.csv`), it seems that all these samples have reasonably deep roots in the Faroes. This means we have no reason to suspect this difference is due to these samples being from different populations.\n",
    "\n",
    "These four samples most likely have high het/hom rate due to poor data quality. One potential reason for this is contamination of the sample in the lab.\n",
    "\n",
    "We will **discard high het/hom rate samples**, as they may skew further analyses down the line."
   ]
  },
  {
   "cell_type": "code",
   "execution_count": 314,
   "id": "3f72ac48-5e30-46ee-bca6-195e33cb53e8",
   "metadata": {},
   "outputs": [],
   "source": [
    "mt = mt.filter_cols(mt.sample_qc.r_het_hom_var < het_hom_thres)"
   ]
  },
  {
   "cell_type": "markdown",
   "id": "b039f83f-cdb2-4505-8b36-8bc7560fde87",
   "metadata": {},
   "source": [
    "Remove sites that may have become invariant after removing these samples."
   ]
  },
  {
   "cell_type": "code",
   "execution_count": 315,
   "id": "9e589620-f4f2-41b2-a48a-7ccb9a753968",
   "metadata": {},
   "outputs": [],
   "source": [
    "mt = mt.filter_rows(mt.variant_qc.AC[1] > 0)"
   ]
  },
  {
   "cell_type": "code",
   "execution_count": 316,
   "id": "cooked-gilbert",
   "metadata": {},
   "outputs": [
    {
     "name": "stderr",
     "output_type": "stream",
     "text": [
      "[Stage 204:==================================================>  (115 + 5) / 120]"
     ]
    },
    {
     "name": "stdout",
     "output_type": "stream",
     "text": [
      "Number of variants: 142496\n",
      "Number of samples: 469\n"
     ]
    },
    {
     "name": "stderr",
     "output_type": "stream",
     "text": [
      "[Stage 204:===================================================> (116 + 4) / 120]"
     ]
    }
   ],
   "source": [
    "n_variants, n_samples = mt.count()\n",
    "print('Number of variants: ' + str(n_variants))\n",
    "print('Number of samples: ' + str(n_samples))"
   ]
  },
  {
   "cell_type": "markdown",
   "id": "9d0865cc-3848-49b9-9019-f528a95b9032",
   "metadata": {},
   "source": [
    "## Variant counts"
   ]
  },
  {
   "cell_type": "code",
   "execution_count": 317,
   "id": "1e09ddb9-3c26-458e-a392-82f28a257669",
   "metadata": {},
   "outputs": [
    {
     "name": "stderr",
     "output_type": "stream",
     "text": [
      "[Stage 205:====================================================>(119 + 1) / 120]"
     ]
    },
    {
     "data": {
      "text/html": [
       "<div>\n",
       "<style scoped>\n",
       "    .dataframe tbody tr th:only-of-type {\n",
       "        vertical-align: middle;\n",
       "    }\n",
       "\n",
       "    .dataframe tbody tr th {\n",
       "        vertical-align: top;\n",
       "    }\n",
       "\n",
       "    .dataframe thead th {\n",
       "        text-align: right;\n",
       "    }\n",
       "</style>\n",
       "<table border=\"1\" class=\"dataframe\">\n",
       "  <thead>\n",
       "    <tr style=\"text-align: right;\">\n",
       "      <th></th>\n",
       "      <th></th>\n",
       "    </tr>\n",
       "  </thead>\n",
       "  <tbody>\n",
       "    <tr>\n",
       "      <th>n_variants</th>\n",
       "      <td>142496.000000</td>\n",
       "    </tr>\n",
       "    <tr>\n",
       "      <th>snps_fraction</th>\n",
       "      <td>0.878663</td>\n",
       "    </tr>\n",
       "    <tr>\n",
       "      <th>insertions_fraction</th>\n",
       "      <td>0.055840</td>\n",
       "    </tr>\n",
       "    <tr>\n",
       "      <th>deletions_fraction</th>\n",
       "      <td>0.065497</td>\n",
       "    </tr>\n",
       "    <tr>\n",
       "      <th>mnp_fraction</th>\n",
       "      <td>0.000000</td>\n",
       "    </tr>\n",
       "    <tr>\n",
       "      <th>complex_fraction</th>\n",
       "      <td>0.000000</td>\n",
       "    </tr>\n",
       "    <tr>\n",
       "      <th>star_fraction</th>\n",
       "      <td>0.000000</td>\n",
       "    </tr>\n",
       "  </tbody>\n",
       "</table>\n",
       "</div>"
      ],
      "text/plain": [
       "                                  \n",
       "n_variants           142496.000000\n",
       "snps_fraction             0.878663\n",
       "insertions_fraction       0.055840\n",
       "deletions_fraction        0.065497\n",
       "mnp_fraction              0.000000\n",
       "complex_fraction          0.000000\n",
       "star_fraction             0.000000"
      ]
     },
     "execution_count": 317,
     "metadata": {},
     "output_type": "execute_result"
    }
   ],
   "source": [
    "variant_counts(mt)"
   ]
  },
  {
   "cell_type": "markdown",
   "id": "81f52b52-99bf-45ef-be72-6de4fdafc3fc",
   "metadata": {},
   "source": [
    "## Write data to file"
   ]
  },
  {
   "cell_type": "code",
   "execution_count": 318,
   "id": "d059a327-ac98-4b3c-a930-d8cd5305a804",
   "metadata": {},
   "outputs": [
    {
     "name": "stderr",
     "output_type": "stream",
     "text": [
      "[Stage 208:==============================================>        (51 + 9) / 60]2021-09-30 13:52:13 Hail: INFO: Ordering unsorted dataset with network shuffle\n",
      "[Stage 211:======================================================>(59 + 1) / 60]2021-09-30 13:54:34 Hail: INFO: wrote matrix table with 142496 rows and 469 columns in 60 partitions to /home/olavur/experiments/2020-11-13_fargen1_exome_analysis/data/mt/high_quality_variants.mt\n",
      "    Total size: 786.13 MiB\n",
      "    * Rows/entries: 786.08 MiB\n",
      "    * Columns: 49.88 KiB\n",
      "    * Globals: 11.00 B\n",
      "    * Smallest partition: 619 rows (2.73 MiB)\n",
      "    * Largest partition:  3085 rows (17.47 MiB)\n"
     ]
    }
   ],
   "source": [
    "if False:\n",
    "    mt.write(BASE_DIR + '/data/mt/high_quality_variants.mt', overwrite=True)"
   ]
  },
  {
   "cell_type": "markdown",
   "id": "f5721fc8-688d-43c9-b6fb-08ca230c5126",
   "metadata": {},
   "source": [
    "## Summary\n",
    "\n",
    "In this notebook we have:\n",
    "\n",
    "* Split multi-allelic sites\n",
    "* Filtered variants failing VQSR filter\n",
    "* Filtered variants with genotype quality (GQ)\n",
    "    * GQ > 20 for SNPs\n",
    "    * GQ > 40 for indels\n",
    "* Filtered variants with allelic balance outside the range $[0.25, 0.75]$\n",
    "* Filtered variants failing HWE filter\n",
    "    * $p > 10^{-9}$ for SNPs\n",
    "    * $p > 10^{-6}$ for indels\n",
    "* Removed singletons\n",
    "* Removed four samples with abnormally high het/hom rate (>3)\n",
    "* Filtered variants with allele count equal to zero"
   ]
  }
 ],
 "metadata": {
  "kernelspec": {
   "display_name": "Python [conda env:fargen-1-exome]",
   "language": "python",
   "name": "conda-env-fargen-1-exome-py"
  },
  "language_info": {
   "codemirror_mode": {
    "name": "ipython",
    "version": 3
   },
   "file_extension": ".py",
   "mimetype": "text/x-python",
   "name": "python",
   "nbconvert_exporter": "python",
   "pygments_lexer": "ipython3",
   "version": "3.7.10"
  }
 },
 "nbformat": 4,
 "nbformat_minor": 5
}
