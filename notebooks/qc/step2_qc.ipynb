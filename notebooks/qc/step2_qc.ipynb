{
 "cells": [
  {
   "cell_type": "markdown",
   "id": "6b46d6e6-3060-4ed7-8b35-6a09fd271204",
   "metadata": {},
   "source": [
    "# Quality control"
   ]
  },
  {
   "cell_type": "code",
   "execution_count": 1,
   "id": "million-damages",
   "metadata": {},
   "outputs": [
    {
     "name": "stderr",
     "output_type": "stream",
     "text": [
      "Running on Apache Spark version 2.4.1\n",
      "SparkUI available at http://hms-beagle-848846b477-48ks9:4040\n",
      "Welcome to\n",
      "     __  __     <>__\n",
      "    / /_/ /__  __/ /\n",
      "   / __  / _ `/ / /\n",
      "  /_/ /_/\\_,_/_/_/   version 0.2.61-3c86d3ba497a\n",
      "LOGGING: writing to /home/olavur/experiments/2020-11-13_fargen1_exome_analysis/fargen-1-exome/notebooks/qc/hail-20210614-1347-0.2.61-3c86d3ba497a.log\n"
     ]
    }
   ],
   "source": [
    "import hail as hl\n",
    "hl.init(spark_conf={'spark.driver.memory': '10g'}, tmp_dir='/home/olavur/tmp')"
   ]
  },
  {
   "cell_type": "code",
   "execution_count": 2,
   "id": "analyzed-warrant",
   "metadata": {},
   "outputs": [
    {
     "data": {
      "text/html": [
       "\n",
       "    <div class=\"bk-root\">\n",
       "        <a href=\"https://bokeh.pydata.org\" target=\"_blank\" class=\"bk-logo bk-logo-small bk-logo-notebook\"></a>\n",
       "        <span id=\"1001\">Loading BokehJS ...</span>\n",
       "    </div>"
      ]
     },
     "metadata": {},
     "output_type": "display_data"
    },
    {
     "data": {
      "application/javascript": [
       "\n",
       "(function(root) {\n",
       "  function now() {\n",
       "    return new Date();\n",
       "  }\n",
       "\n",
       "  var force = true;\n",
       "\n",
       "  if (typeof root._bokeh_onload_callbacks === \"undefined\" || force === true) {\n",
       "    root._bokeh_onload_callbacks = [];\n",
       "    root._bokeh_is_loading = undefined;\n",
       "  }\n",
       "\n",
       "  var JS_MIME_TYPE = 'application/javascript';\n",
       "  var HTML_MIME_TYPE = 'text/html';\n",
       "  var EXEC_MIME_TYPE = 'application/vnd.bokehjs_exec.v0+json';\n",
       "  var CLASS_NAME = 'output_bokeh rendered_html';\n",
       "\n",
       "  /**\n",
       "   * Render data to the DOM node\n",
       "   */\n",
       "  function render(props, node) {\n",
       "    var script = document.createElement(\"script\");\n",
       "    node.appendChild(script);\n",
       "  }\n",
       "\n",
       "  /**\n",
       "   * Handle when an output is cleared or removed\n",
       "   */\n",
       "  function handleClearOutput(event, handle) {\n",
       "    var cell = handle.cell;\n",
       "\n",
       "    var id = cell.output_area._bokeh_element_id;\n",
       "    var server_id = cell.output_area._bokeh_server_id;\n",
       "    // Clean up Bokeh references\n",
       "    if (id != null && id in Bokeh.index) {\n",
       "      Bokeh.index[id].model.document.clear();\n",
       "      delete Bokeh.index[id];\n",
       "    }\n",
       "\n",
       "    if (server_id !== undefined) {\n",
       "      // Clean up Bokeh references\n",
       "      var cmd = \"from bokeh.io.state import curstate; print(curstate().uuid_to_server['\" + server_id + \"'].get_sessions()[0].document.roots[0]._id)\";\n",
       "      cell.notebook.kernel.execute(cmd, {\n",
       "        iopub: {\n",
       "          output: function(msg) {\n",
       "            var id = msg.content.text.trim();\n",
       "            if (id in Bokeh.index) {\n",
       "              Bokeh.index[id].model.document.clear();\n",
       "              delete Bokeh.index[id];\n",
       "            }\n",
       "          }\n",
       "        }\n",
       "      });\n",
       "      // Destroy server and session\n",
       "      var cmd = \"import bokeh.io.notebook as ion; ion.destroy_server('\" + server_id + \"')\";\n",
       "      cell.notebook.kernel.execute(cmd);\n",
       "    }\n",
       "  }\n",
       "\n",
       "  /**\n",
       "   * Handle when a new output is added\n",
       "   */\n",
       "  function handleAddOutput(event, handle) {\n",
       "    var output_area = handle.output_area;\n",
       "    var output = handle.output;\n",
       "\n",
       "    // limit handleAddOutput to display_data with EXEC_MIME_TYPE content only\n",
       "    if ((output.output_type != \"display_data\") || (!output.data.hasOwnProperty(EXEC_MIME_TYPE))) {\n",
       "      return\n",
       "    }\n",
       "\n",
       "    var toinsert = output_area.element.find(\".\" + CLASS_NAME.split(' ')[0]);\n",
       "\n",
       "    if (output.metadata[EXEC_MIME_TYPE][\"id\"] !== undefined) {\n",
       "      toinsert[toinsert.length - 1].firstChild.textContent = output.data[JS_MIME_TYPE];\n",
       "      // store reference to embed id on output_area\n",
       "      output_area._bokeh_element_id = output.metadata[EXEC_MIME_TYPE][\"id\"];\n",
       "    }\n",
       "    if (output.metadata[EXEC_MIME_TYPE][\"server_id\"] !== undefined) {\n",
       "      var bk_div = document.createElement(\"div\");\n",
       "      bk_div.innerHTML = output.data[HTML_MIME_TYPE];\n",
       "      var script_attrs = bk_div.children[0].attributes;\n",
       "      for (var i = 0; i < script_attrs.length; i++) {\n",
       "        toinsert[toinsert.length - 1].firstChild.setAttribute(script_attrs[i].name, script_attrs[i].value);\n",
       "      }\n",
       "      // store reference to server id on output_area\n",
       "      output_area._bokeh_server_id = output.metadata[EXEC_MIME_TYPE][\"server_id\"];\n",
       "    }\n",
       "  }\n",
       "\n",
       "  function register_renderer(events, OutputArea) {\n",
       "\n",
       "    function append_mime(data, metadata, element) {\n",
       "      // create a DOM node to render to\n",
       "      var toinsert = this.create_output_subarea(\n",
       "        metadata,\n",
       "        CLASS_NAME,\n",
       "        EXEC_MIME_TYPE\n",
       "      );\n",
       "      this.keyboard_manager.register_events(toinsert);\n",
       "      // Render to node\n",
       "      var props = {data: data, metadata: metadata[EXEC_MIME_TYPE]};\n",
       "      render(props, toinsert[toinsert.length - 1]);\n",
       "      element.append(toinsert);\n",
       "      return toinsert\n",
       "    }\n",
       "\n",
       "    /* Handle when an output is cleared or removed */\n",
       "    events.on('clear_output.CodeCell', handleClearOutput);\n",
       "    events.on('delete.Cell', handleClearOutput);\n",
       "\n",
       "    /* Handle when a new output is added */\n",
       "    events.on('output_added.OutputArea', handleAddOutput);\n",
       "\n",
       "    /**\n",
       "     * Register the mime type and append_mime function with output_area\n",
       "     */\n",
       "    OutputArea.prototype.register_mime_type(EXEC_MIME_TYPE, append_mime, {\n",
       "      /* Is output safe? */\n",
       "      safe: true,\n",
       "      /* Index of renderer in `output_area.display_order` */\n",
       "      index: 0\n",
       "    });\n",
       "  }\n",
       "\n",
       "  // register the mime type if in Jupyter Notebook environment and previously unregistered\n",
       "  if (root.Jupyter !== undefined) {\n",
       "    var events = require('base/js/events');\n",
       "    var OutputArea = require('notebook/js/outputarea').OutputArea;\n",
       "\n",
       "    if (OutputArea.prototype.mime_types().indexOf(EXEC_MIME_TYPE) == -1) {\n",
       "      register_renderer(events, OutputArea);\n",
       "    }\n",
       "  }\n",
       "\n",
       "  \n",
       "  if (typeof (root._bokeh_timeout) === \"undefined\" || force === true) {\n",
       "    root._bokeh_timeout = Date.now() + 5000;\n",
       "    root._bokeh_failed_load = false;\n",
       "  }\n",
       "\n",
       "  var NB_LOAD_WARNING = {'data': {'text/html':\n",
       "     \"<div style='background-color: #fdd'>\\n\"+\n",
       "     \"<p>\\n\"+\n",
       "     \"BokehJS does not appear to have successfully loaded. If loading BokehJS from CDN, this \\n\"+\n",
       "     \"may be due to a slow or bad network connection. Possible fixes:\\n\"+\n",
       "     \"</p>\\n\"+\n",
       "     \"<ul>\\n\"+\n",
       "     \"<li>re-rerun `output_notebook()` to attempt to load from CDN again, or</li>\\n\"+\n",
       "     \"<li>use INLINE resources instead, as so:</li>\\n\"+\n",
       "     \"</ul>\\n\"+\n",
       "     \"<code>\\n\"+\n",
       "     \"from bokeh.resources import INLINE\\n\"+\n",
       "     \"output_notebook(resources=INLINE)\\n\"+\n",
       "     \"</code>\\n\"+\n",
       "     \"</div>\"}};\n",
       "\n",
       "  function display_loaded() {\n",
       "    var el = document.getElementById(\"1001\");\n",
       "    if (el != null) {\n",
       "      el.textContent = \"BokehJS is loading...\";\n",
       "    }\n",
       "    if (root.Bokeh !== undefined) {\n",
       "      if (el != null) {\n",
       "        el.textContent = \"BokehJS \" + root.Bokeh.version + \" successfully loaded.\";\n",
       "      }\n",
       "    } else if (Date.now() < root._bokeh_timeout) {\n",
       "      setTimeout(display_loaded, 100)\n",
       "    }\n",
       "  }\n",
       "\n",
       "\n",
       "  function run_callbacks() {\n",
       "    try {\n",
       "      root._bokeh_onload_callbacks.forEach(function(callback) {\n",
       "        if (callback != null)\n",
       "          callback();\n",
       "      });\n",
       "    } finally {\n",
       "      delete root._bokeh_onload_callbacks\n",
       "    }\n",
       "    console.debug(\"Bokeh: all callbacks have finished\");\n",
       "  }\n",
       "\n",
       "  function load_libs(css_urls, js_urls, callback) {\n",
       "    if (css_urls == null) css_urls = [];\n",
       "    if (js_urls == null) js_urls = [];\n",
       "\n",
       "    root._bokeh_onload_callbacks.push(callback);\n",
       "    if (root._bokeh_is_loading > 0) {\n",
       "      console.debug(\"Bokeh: BokehJS is being loaded, scheduling callback at\", now());\n",
       "      return null;\n",
       "    }\n",
       "    if (js_urls == null || js_urls.length === 0) {\n",
       "      run_callbacks();\n",
       "      return null;\n",
       "    }\n",
       "    console.debug(\"Bokeh: BokehJS not loaded, scheduling load and callback at\", now());\n",
       "    root._bokeh_is_loading = css_urls.length + js_urls.length;\n",
       "\n",
       "    function on_load() {\n",
       "      root._bokeh_is_loading--;\n",
       "      if (root._bokeh_is_loading === 0) {\n",
       "        console.debug(\"Bokeh: all BokehJS libraries/stylesheets loaded\");\n",
       "        run_callbacks()\n",
       "      }\n",
       "    }\n",
       "\n",
       "    function on_error() {\n",
       "      console.error(\"failed to load \" + url);\n",
       "    }\n",
       "\n",
       "    for (var i = 0; i < css_urls.length; i++) {\n",
       "      var url = css_urls[i];\n",
       "      const element = document.createElement(\"link\");\n",
       "      element.onload = on_load;\n",
       "      element.onerror = on_error;\n",
       "      element.rel = \"stylesheet\";\n",
       "      element.type = \"text/css\";\n",
       "      element.href = url;\n",
       "      console.debug(\"Bokeh: injecting link tag for BokehJS stylesheet: \", url);\n",
       "      document.body.appendChild(element);\n",
       "    }\n",
       "\n",
       "    for (var i = 0; i < js_urls.length; i++) {\n",
       "      var url = js_urls[i];\n",
       "      var element = document.createElement('script');\n",
       "      element.onload = on_load;\n",
       "      element.onerror = on_error;\n",
       "      element.async = false;\n",
       "      element.src = url;\n",
       "      console.debug(\"Bokeh: injecting script tag for BokehJS library: \", url);\n",
       "      document.head.appendChild(element);\n",
       "    }\n",
       "  };var element = document.getElementById(\"1001\");\n",
       "  if (element == null) {\n",
       "    console.error(\"Bokeh: ERROR: autoload.js configured with elementid '1001' but no matching script tag was found. \")\n",
       "    return false;\n",
       "  }\n",
       "\n",
       "  function inject_raw_css(css) {\n",
       "    const element = document.createElement(\"style\");\n",
       "    element.appendChild(document.createTextNode(css));\n",
       "    document.body.appendChild(element);\n",
       "  }\n",
       "\n",
       "  var js_urls = [\"https://cdn.pydata.org/bokeh/release/bokeh-1.2.0.min.js\", \"https://cdn.pydata.org/bokeh/release/bokeh-widgets-1.2.0.min.js\", \"https://cdn.pydata.org/bokeh/release/bokeh-tables-1.2.0.min.js\", \"https://cdn.pydata.org/bokeh/release/bokeh-gl-1.2.0.min.js\"];\n",
       "  var css_urls = [\"https://cdn.pydata.org/bokeh/release/bokeh-1.2.0.min.css\", \"https://cdn.pydata.org/bokeh/release/bokeh-widgets-1.2.0.min.css\", \"https://cdn.pydata.org/bokeh/release/bokeh-tables-1.2.0.min.css\"];\n",
       "\n",
       "  var inline_js = [\n",
       "    function(Bokeh) {\n",
       "      Bokeh.set_log_level(\"info\");\n",
       "    },\n",
       "    \n",
       "    function(Bokeh) {\n",
       "      \n",
       "    },\n",
       "    function(Bokeh) {} // ensure no trailing comma for IE\n",
       "  ];\n",
       "\n",
       "  function run_inline_js() {\n",
       "    \n",
       "    if ((root.Bokeh !== undefined) || (force === true)) {\n",
       "      for (var i = 0; i < inline_js.length; i++) {\n",
       "        inline_js[i].call(root, root.Bokeh);\n",
       "      }if (force === true) {\n",
       "        display_loaded();\n",
       "      }} else if (Date.now() < root._bokeh_timeout) {\n",
       "      setTimeout(run_inline_js, 100);\n",
       "    } else if (!root._bokeh_failed_load) {\n",
       "      console.log(\"Bokeh: BokehJS failed to load within specified timeout.\");\n",
       "      root._bokeh_failed_load = true;\n",
       "    } else if (force !== true) {\n",
       "      var cell = $(document.getElementById(\"1001\")).parents('.cell').data().cell;\n",
       "      cell.output_area.append_execute_result(NB_LOAD_WARNING)\n",
       "    }\n",
       "\n",
       "  }\n",
       "\n",
       "  if (root._bokeh_is_loading === 0) {\n",
       "    console.debug(\"Bokeh: BokehJS loaded, going straight to plotting\");\n",
       "    run_inline_js();\n",
       "  } else {\n",
       "    load_libs(css_urls, js_urls, function() {\n",
       "      console.debug(\"Bokeh: BokehJS plotting callback run at\", now());\n",
       "      run_inline_js();\n",
       "    });\n",
       "  }\n",
       "}(window));"
      ],
      "application/vnd.bokehjs_load.v0+json": "\n(function(root) {\n  function now() {\n    return new Date();\n  }\n\n  var force = true;\n\n  if (typeof root._bokeh_onload_callbacks === \"undefined\" || force === true) {\n    root._bokeh_onload_callbacks = [];\n    root._bokeh_is_loading = undefined;\n  }\n\n  \n\n  \n  if (typeof (root._bokeh_timeout) === \"undefined\" || force === true) {\n    root._bokeh_timeout = Date.now() + 5000;\n    root._bokeh_failed_load = false;\n  }\n\n  var NB_LOAD_WARNING = {'data': {'text/html':\n     \"<div style='background-color: #fdd'>\\n\"+\n     \"<p>\\n\"+\n     \"BokehJS does not appear to have successfully loaded. If loading BokehJS from CDN, this \\n\"+\n     \"may be due to a slow or bad network connection. Possible fixes:\\n\"+\n     \"</p>\\n\"+\n     \"<ul>\\n\"+\n     \"<li>re-rerun `output_notebook()` to attempt to load from CDN again, or</li>\\n\"+\n     \"<li>use INLINE resources instead, as so:</li>\\n\"+\n     \"</ul>\\n\"+\n     \"<code>\\n\"+\n     \"from bokeh.resources import INLINE\\n\"+\n     \"output_notebook(resources=INLINE)\\n\"+\n     \"</code>\\n\"+\n     \"</div>\"}};\n\n  function display_loaded() {\n    var el = document.getElementById(\"1001\");\n    if (el != null) {\n      el.textContent = \"BokehJS is loading...\";\n    }\n    if (root.Bokeh !== undefined) {\n      if (el != null) {\n        el.textContent = \"BokehJS \" + root.Bokeh.version + \" successfully loaded.\";\n      }\n    } else if (Date.now() < root._bokeh_timeout) {\n      setTimeout(display_loaded, 100)\n    }\n  }\n\n\n  function run_callbacks() {\n    try {\n      root._bokeh_onload_callbacks.forEach(function(callback) {\n        if (callback != null)\n          callback();\n      });\n    } finally {\n      delete root._bokeh_onload_callbacks\n    }\n    console.debug(\"Bokeh: all callbacks have finished\");\n  }\n\n  function load_libs(css_urls, js_urls, callback) {\n    if (css_urls == null) css_urls = [];\n    if (js_urls == null) js_urls = [];\n\n    root._bokeh_onload_callbacks.push(callback);\n    if (root._bokeh_is_loading > 0) {\n      console.debug(\"Bokeh: BokehJS is being loaded, scheduling callback at\", now());\n      return null;\n    }\n    if (js_urls == null || js_urls.length === 0) {\n      run_callbacks();\n      return null;\n    }\n    console.debug(\"Bokeh: BokehJS not loaded, scheduling load and callback at\", now());\n    root._bokeh_is_loading = css_urls.length + js_urls.length;\n\n    function on_load() {\n      root._bokeh_is_loading--;\n      if (root._bokeh_is_loading === 0) {\n        console.debug(\"Bokeh: all BokehJS libraries/stylesheets loaded\");\n        run_callbacks()\n      }\n    }\n\n    function on_error() {\n      console.error(\"failed to load \" + url);\n    }\n\n    for (var i = 0; i < css_urls.length; i++) {\n      var url = css_urls[i];\n      const element = document.createElement(\"link\");\n      element.onload = on_load;\n      element.onerror = on_error;\n      element.rel = \"stylesheet\";\n      element.type = \"text/css\";\n      element.href = url;\n      console.debug(\"Bokeh: injecting link tag for BokehJS stylesheet: \", url);\n      document.body.appendChild(element);\n    }\n\n    for (var i = 0; i < js_urls.length; i++) {\n      var url = js_urls[i];\n      var element = document.createElement('script');\n      element.onload = on_load;\n      element.onerror = on_error;\n      element.async = false;\n      element.src = url;\n      console.debug(\"Bokeh: injecting script tag for BokehJS library: \", url);\n      document.head.appendChild(element);\n    }\n  };var element = document.getElementById(\"1001\");\n  if (element == null) {\n    console.error(\"Bokeh: ERROR: autoload.js configured with elementid '1001' but no matching script tag was found. \")\n    return false;\n  }\n\n  function inject_raw_css(css) {\n    const element = document.createElement(\"style\");\n    element.appendChild(document.createTextNode(css));\n    document.body.appendChild(element);\n  }\n\n  var js_urls = [\"https://cdn.pydata.org/bokeh/release/bokeh-1.2.0.min.js\", \"https://cdn.pydata.org/bokeh/release/bokeh-widgets-1.2.0.min.js\", \"https://cdn.pydata.org/bokeh/release/bokeh-tables-1.2.0.min.js\", \"https://cdn.pydata.org/bokeh/release/bokeh-gl-1.2.0.min.js\"];\n  var css_urls = [\"https://cdn.pydata.org/bokeh/release/bokeh-1.2.0.min.css\", \"https://cdn.pydata.org/bokeh/release/bokeh-widgets-1.2.0.min.css\", \"https://cdn.pydata.org/bokeh/release/bokeh-tables-1.2.0.min.css\"];\n\n  var inline_js = [\n    function(Bokeh) {\n      Bokeh.set_log_level(\"info\");\n    },\n    \n    function(Bokeh) {\n      \n    },\n    function(Bokeh) {} // ensure no trailing comma for IE\n  ];\n\n  function run_inline_js() {\n    \n    if ((root.Bokeh !== undefined) || (force === true)) {\n      for (var i = 0; i < inline_js.length; i++) {\n        inline_js[i].call(root, root.Bokeh);\n      }if (force === true) {\n        display_loaded();\n      }} else if (Date.now() < root._bokeh_timeout) {\n      setTimeout(run_inline_js, 100);\n    } else if (!root._bokeh_failed_load) {\n      console.log(\"Bokeh: BokehJS failed to load within specified timeout.\");\n      root._bokeh_failed_load = true;\n    } else if (force !== true) {\n      var cell = $(document.getElementById(\"1001\")).parents('.cell').data().cell;\n      cell.output_area.append_execute_result(NB_LOAD_WARNING)\n    }\n\n  }\n\n  if (root._bokeh_is_loading === 0) {\n    console.debug(\"Bokeh: BokehJS loaded, going straight to plotting\");\n    run_inline_js();\n  } else {\n    load_libs(css_urls, js_urls, function() {\n      console.debug(\"Bokeh: BokehJS plotting callback run at\", now());\n      run_inline_js();\n    });\n  }\n}(window));"
     },
     "metadata": {},
     "output_type": "display_data"
    }
   ],
   "source": [
    "from bokeh.io import show, output_notebook\n",
    "from bokeh.layouts import gridplot\n",
    "from bokeh.models.scales import LogScale\n",
    "output_notebook()"
   ]
  },
  {
   "cell_type": "markdown",
   "id": "canadian-india",
   "metadata": {},
   "source": [
    "Load variant data."
   ]
  },
  {
   "cell_type": "code",
   "execution_count": 3,
   "id": "assigned-centre",
   "metadata": {},
   "outputs": [],
   "source": [
    "BASE_DIR = '/home/olavur/experiments/2020-11-13_fargen1_exome_analysis'\n",
    "mt = hl.read_matrix_table(BASE_DIR + '/data/mt/variants.mt')"
   ]
  },
  {
   "cell_type": "code",
   "execution_count": 4,
   "id": "derived-prince",
   "metadata": {},
   "outputs": [
    {
     "name": "stdout",
     "output_type": "stream",
     "text": [
      "Number of variants: 3110759\n",
      "Number of samples: 472\n"
     ]
    }
   ],
   "source": [
    "n_variants, n_samples = mt.count()\n",
    "print('Number of variants: ' + str(n_variants))\n",
    "print('Number of samples: ' + str(n_samples))"
   ]
  },
  {
   "cell_type": "markdown",
   "id": "binding-cameroon",
   "metadata": {},
   "source": [
    "Collect QC metrics on samples and variants, using built-in Hail methods."
   ]
  },
  {
   "cell_type": "code",
   "execution_count": 5,
   "id": "radio-state",
   "metadata": {},
   "outputs": [],
   "source": [
    "mt = hl.variant_qc(mt)\n",
    "mt = hl.sample_qc(mt)"
   ]
  },
  {
   "cell_type": "markdown",
   "id": "deadly-wales",
   "metadata": {},
   "source": [
    "## VQSR filters\n",
    "\n",
    "We will remove variants not passing the VQSR filters. First, however, we will look a bit closer into these values."
   ]
  },
  {
   "cell_type": "code",
   "execution_count": 6,
   "id": "legitimate-selection",
   "metadata": {},
   "outputs": [],
   "source": [
    "mt = mt.transmute_rows(filters=hl.delimit(mt.filters, ','))"
   ]
  },
  {
   "cell_type": "markdown",
   "id": "d3a41375-28d5-411f-a6a6-114f7fc52cdc",
   "metadata": {},
   "source": [
    "We will calculate some mean QC statistics for each VQSR tranch."
   ]
  },
  {
   "cell_type": "code",
   "execution_count": 7,
   "id": "fb4e3d8c-b958-41d1-baab-82e351eb2999",
   "metadata": {},
   "outputs": [],
   "source": [
    "rows_ht = mt.rows()\n",
    "result = (rows_ht.group_by(rows_ht.filters)\n",
    "         .aggregate(mean_gq = hl.agg.filter(~hl.is_nan(rows_ht.variant_qc.gq_stats.mean), hl.agg.mean(rows_ht.variant_qc.gq_stats.mean)),\n",
    "                   mean_dp = hl.agg.filter(~hl.is_nan(rows_ht.variant_qc.dp_stats.mean), hl.agg.mean(rows_ht.variant_qc.dp_stats.mean)),\n",
    "                   mean_af = hl.agg.filter(~hl.is_nan(rows_ht.variant_qc.AF[0]), hl.agg.mean(1 - rows_ht.variant_qc.AF[0])),\n",
    "                   mean_vqslod = hl.agg.filter(~hl.is_nan(rows_ht.info.VQSLOD), hl.agg.mean(rows_ht.info.VQSLOD)),\n",
    "                   n_variants = hl.agg.count()))"
   ]
  },
  {
   "cell_type": "markdown",
   "id": "5b233371-143e-468f-8548-f51fb1d8f09a",
   "metadata": {},
   "source": [
    "We convert the results to a Pandas dataframe."
   ]
  },
  {
   "cell_type": "code",
   "execution_count": 8,
   "id": "c8f1c0f1-0d81-4f58-b7fb-32a096be2a9e",
   "metadata": {},
   "outputs": [
    {
     "name": "stderr",
     "output_type": "stream",
     "text": [
      "2021-06-14 13:47:35 Hail: INFO: Coerced sorted dataset\n",
      "2021-06-14 13:47:35 Hail: INFO: Coerced dataset with out-of-order partitions.\n"
     ]
    }
   ],
   "source": [
    "vqsr_stats_pd = result.to_pandas()"
   ]
  },
  {
   "cell_type": "markdown",
   "id": "0016ab27-1509-407b-ae54-b8a8c6482ce8",
   "metadata": {},
   "source": [
    "Below we first print the statistics for the SNPs and then for the indels. The rows are sorted by mean genotype quality. The empty filter row (`filter=''`) corresponds to all unfiltered variants."
   ]
  },
  {
   "cell_type": "code",
   "execution_count": 9,
   "id": "d359bca6-35d9-4ebd-96dd-0304881f243c",
   "metadata": {},
   "outputs": [
    {
     "data": {
      "text/html": [
       "<div>\n",
       "<style scoped>\n",
       "    .dataframe tbody tr th:only-of-type {\n",
       "        vertical-align: middle;\n",
       "    }\n",
       "\n",
       "    .dataframe tbody tr th {\n",
       "        vertical-align: top;\n",
       "    }\n",
       "\n",
       "    .dataframe thead th {\n",
       "        text-align: right;\n",
       "    }\n",
       "</style>\n",
       "<table border=\"1\" class=\"dataframe\">\n",
       "  <thead>\n",
       "    <tr style=\"text-align: right;\">\n",
       "      <th></th>\n",
       "      <th>filters</th>\n",
       "      <th>mean_gq</th>\n",
       "      <th>mean_dp</th>\n",
       "      <th>mean_af</th>\n",
       "      <th>mean_vqslod</th>\n",
       "      <th>n_variants</th>\n",
       "    </tr>\n",
       "  </thead>\n",
       "  <tbody>\n",
       "    <tr>\n",
       "      <th>4</th>\n",
       "      <td>VQSRTrancheSNP99.90to100.00</td>\n",
       "      <td>45.259487</td>\n",
       "      <td>24.388426</td>\n",
       "      <td>0.012501</td>\n",
       "      <td>-15.030785</td>\n",
       "      <td>355989</td>\n",
       "    </tr>\n",
       "    <tr>\n",
       "      <th>3</th>\n",
       "      <td>VQSRTrancheSNP99.00to99.90</td>\n",
       "      <td>47.319210</td>\n",
       "      <td>18.250923</td>\n",
       "      <td>0.014949</td>\n",
       "      <td>-1.060047</td>\n",
       "      <td>531007</td>\n",
       "    </tr>\n",
       "    <tr>\n",
       "      <th>0</th>\n",
       "      <td></td>\n",
       "      <td>50.089410</td>\n",
       "      <td>23.245864</td>\n",
       "      <td>0.073181</td>\n",
       "      <td>inf</td>\n",
       "      <td>1332013</td>\n",
       "    </tr>\n",
       "  </tbody>\n",
       "</table>\n",
       "</div>"
      ],
      "text/plain": [
       "                       filters    mean_gq    mean_dp   mean_af  mean_vqslod  \\\n",
       "4  VQSRTrancheSNP99.90to100.00  45.259487  24.388426  0.012501   -15.030785   \n",
       "3   VQSRTrancheSNP99.00to99.90  47.319210  18.250923  0.014949    -1.060047   \n",
       "0                               50.089410  23.245864  0.073181          inf   \n",
       "\n",
       "   n_variants  \n",
       "4      355989  \n",
       "3      531007  \n",
       "0     1332013  "
      ]
     },
     "execution_count": 9,
     "metadata": {},
     "output_type": "execute_result"
    }
   ],
   "source": [
    "vqsr_stats_pd[vqsr_stats_pd.filters.isin(['VQSRTrancheSNP99.00to99.90', 'VQSRTrancheSNP99.90to100.00', ''])].sort_values('mean_gq')"
   ]
  },
  {
   "cell_type": "code",
   "execution_count": 10,
   "id": "4663e101-a483-42e1-8e02-e522a0459f2e",
   "metadata": {},
   "outputs": [
    {
     "data": {
      "text/html": [
       "<div>\n",
       "<style scoped>\n",
       "    .dataframe tbody tr th:only-of-type {\n",
       "        vertical-align: middle;\n",
       "    }\n",
       "\n",
       "    .dataframe tbody tr th {\n",
       "        vertical-align: top;\n",
       "    }\n",
       "\n",
       "    .dataframe thead th {\n",
       "        text-align: right;\n",
       "    }\n",
       "</style>\n",
       "<table border=\"1\" class=\"dataframe\">\n",
       "  <thead>\n",
       "    <tr style=\"text-align: right;\">\n",
       "      <th></th>\n",
       "      <th>filters</th>\n",
       "      <th>mean_gq</th>\n",
       "      <th>mean_dp</th>\n",
       "      <th>mean_af</th>\n",
       "      <th>mean_vqslod</th>\n",
       "      <th>n_variants</th>\n",
       "    </tr>\n",
       "  </thead>\n",
       "  <tbody>\n",
       "    <tr>\n",
       "      <th>1</th>\n",
       "      <td>VQSRTrancheINDEL99.00to99.90</td>\n",
       "      <td>37.965855</td>\n",
       "      <td>17.087049</td>\n",
       "      <td>0.003321</td>\n",
       "      <td>-1.531774</td>\n",
       "      <td>630276</td>\n",
       "    </tr>\n",
       "    <tr>\n",
       "      <th>2</th>\n",
       "      <td>VQSRTrancheINDEL99.90to100.00</td>\n",
       "      <td>49.220394</td>\n",
       "      <td>26.106060</td>\n",
       "      <td>0.005978</td>\n",
       "      <td>-5.601662</td>\n",
       "      <td>261474</td>\n",
       "    </tr>\n",
       "    <tr>\n",
       "      <th>0</th>\n",
       "      <td></td>\n",
       "      <td>50.089410</td>\n",
       "      <td>23.245864</td>\n",
       "      <td>0.073181</td>\n",
       "      <td>inf</td>\n",
       "      <td>1332013</td>\n",
       "    </tr>\n",
       "  </tbody>\n",
       "</table>\n",
       "</div>"
      ],
      "text/plain": [
       "                         filters    mean_gq    mean_dp   mean_af  mean_vqslod  \\\n",
       "1   VQSRTrancheINDEL99.00to99.90  37.965855  17.087049  0.003321    -1.531774   \n",
       "2  VQSRTrancheINDEL99.90to100.00  49.220394  26.106060  0.005978    -5.601662   \n",
       "0                                 50.089410  23.245864  0.073181          inf   \n",
       "\n",
       "   n_variants  \n",
       "1      630276  \n",
       "2      261474  \n",
       "0     1332013  "
      ]
     },
     "execution_count": 10,
     "metadata": {},
     "output_type": "execute_result"
    }
   ],
   "source": [
    "vqsr_stats_pd[vqsr_stats_pd.filters.isin(['VQSRTrancheINDEL99.00to99.90', 'VQSRTrancheINDEL99.90to100.00', ''])].sort_values('mean_gq')"
   ]
  },
  {
   "cell_type": "markdown",
   "id": "african-lotus",
   "metadata": {},
   "source": [
    "We will only look at the **high-quality variants** from now on. So we remove variants in the 99% to 99.9% and the 99.9% to 100% VQSR tranches, and keep only the unfiltered variants."
   ]
  },
  {
   "cell_type": "code",
   "execution_count": 11,
   "id": "numerous-mayor",
   "metadata": {},
   "outputs": [],
   "source": [
    "mt = mt.filter_rows(mt.filters == '')"
   ]
  },
  {
   "cell_type": "markdown",
   "id": "1787fb13-7a43-4dda-a577-3c91ffedd065",
   "metadata": {},
   "source": [
    "We check how many variants we have remaining after filtering."
   ]
  },
  {
   "cell_type": "code",
   "execution_count": 12,
   "id": "instrumental-competition",
   "metadata": {},
   "outputs": [
    {
     "name": "stdout",
     "output_type": "stream",
     "text": [
      "Number of variants: 1332013\n",
      "Number of samples: 472\n"
     ]
    }
   ],
   "source": [
    "n_variants, n_samples = mt.count()\n",
    "print('Number of variants: ' + str(n_variants))\n",
    "print('Number of samples: ' + str(n_samples))"
   ]
  },
  {
   "cell_type": "markdown",
   "id": "expressed-robinson",
   "metadata": {},
   "source": [
    "## Variant QC\n",
    "\n",
    "Below we make a histogram of variant mean genotype quality. We see that a lot of the variants have a mean GQ of just shy of 100, which is quite good. A lot of the variants also have GQ ranging from about 15 to 50."
   ]
  },
  {
   "cell_type": "code",
   "execution_count": 13,
   "id": "split-conditioning",
   "metadata": {},
   "outputs": [
    {
     "data": {
      "text/html": [
       "\n",
       "\n",
       "\n",
       "\n",
       "\n",
       "\n",
       "  <div class=\"bk-root\" id=\"c201e7f5-b933-4c73-a9a9-5d03ba8e45f0\" data-root-id=\"1002\"></div>\n"
      ]
     },
     "metadata": {},
     "output_type": "display_data"
    },
    {
     "data": {
      "application/javascript": [
       "(function(root) {\n",
       "  function embed_document(root) {\n",
       "    \n",
       "  var docs_json = {\"b22aeba4-5729-4326-b7a0-28b7b0724203\":{\"roots\":{\"references\":[{\"attributes\":{\"background_fill_color\":{\"value\":\"#EEEEEE\"},\"below\":[{\"id\":\"1012\",\"type\":\"LinearAxis\"}],\"center\":[{\"id\":\"1016\",\"type\":\"Grid\"},{\"id\":\"1021\",\"type\":\"Grid\"},{\"id\":\"1046\",\"type\":\"Legend\"}],\"left\":[{\"id\":\"1017\",\"type\":\"LinearAxis\"}],\"plot_height\":500,\"plot_width\":800,\"renderers\":[{\"id\":\"1038\",\"type\":\"GlyphRenderer\"}],\"title\":null,\"toolbar\":{\"id\":\"1028\",\"type\":\"Toolbar\"},\"x_range\":{\"id\":\"1004\",\"type\":\"Range1d\"},\"x_scale\":{\"id\":\"1008\",\"type\":\"LinearScale\"},\"y_range\":{\"id\":\"1006\",\"type\":\"DataRange1d\"},\"y_scale\":{\"id\":\"1010\",\"type\":\"LinearScale\"}},\"id\":\"1002\",\"subtype\":\"Figure\",\"type\":\"Plot\"},{\"attributes\":{\"axis_label\":\"Mean GQ per variant histogram\",\"formatter\":{\"id\":\"1041\",\"type\":\"BasicTickFormatter\"},\"ticker\":{\"id\":\"1013\",\"type\":\"BasicTicker\"}},\"id\":\"1012\",\"type\":\"LinearAxis\"},{\"attributes\":{\"label\":{\"value\":\"Mean GQ per variant histogram\"},\"renderers\":[{\"id\":\"1038\",\"type\":\"GlyphRenderer\"}]},\"id\":\"1047\",\"type\":\"LegendItem\"},{\"attributes\":{},\"id\":\"1053\",\"type\":\"Selection\"},{\"attributes\":{},\"id\":\"1008\",\"type\":\"LinearScale\"},{\"attributes\":{},\"id\":\"1026\",\"type\":\"ResetTool\"},{\"attributes\":{\"axis_label\":\"Frequency\",\"formatter\":{\"id\":\"1043\",\"type\":\"BasicTickFormatter\"},\"ticker\":{\"id\":\"1018\",\"type\":\"BasicTicker\"}},\"id\":\"1017\",\"type\":\"LinearAxis\"},{\"attributes\":{},\"id\":\"1022\",\"type\":\"PanTool\"},{\"attributes\":{\"bottom\":{\"value\":0},\"fill_alpha\":{\"value\":0.1},\"fill_color\":{\"value\":\"#1f77b4\"},\"left\":{\"field\":\"left\"},\"line_alpha\":{\"value\":0.1},\"line_color\":{\"value\":\"#1f77b4\"},\"right\":{\"field\":\"right\"},\"top\":{\"field\":\"top\"}},\"id\":\"1037\",\"type\":\"Quad\"},{\"attributes\":{\"callback\":null,\"data\":{\"left\":[0.0,2.0,4.0,6.0,8.0,10.0,12.0,14.0,16.0,18.0,20.0,22.0,24.0,26.0,28.0,30.0,32.0,34.0,36.0,38.0,40.0,42.0,44.0,46.0,48.0,50.0,52.0,54.0,56.0,58.0,60.0,62.0,64.0,66.0,68.0,70.0,72.0,74.0,76.0,78.0,80.0,82.0,84.0,86.0,88.0,90.0,92.0,94.0,96.0,98.0],\"right\":[2.0,4.0,6.0,8.0,10.0,12.0,14.0,16.0,18.0,20.0,22.0,24.0,26.0,28.0,30.0,32.0,34.0,36.0,38.0,40.0,42.0,44.0,46.0,48.0,50.0,52.0,54.0,56.0,58.0,60.0,62.0,64.0,66.0,68.0,70.0,72.0,74.0,76.0,78.0,80.0,82.0,84.0,86.0,88.0,90.0,92.0,94.0,96.0,98.0,100.0],\"top\":[2307,1419,2085,4440,8674,15503,22129,39404,43231,46439,48979,42657,46420,30189,32498,73122,64702,39998,55006,48264,31753,37206,31466,21282,23627,21513,15756,18345,12630,12536,11951,11388,10459,11257,10875,10283,10976,11356,11214,12489,13022,13352,14888,16364,17842,20440,24054,29047,37934,139242]},\"selected\":{\"id\":\"1053\",\"type\":\"Selection\"},\"selection_policy\":{\"id\":\"1054\",\"type\":\"UnionRenderers\"}},\"id\":\"1035\",\"type\":\"ColumnDataSource\"},{\"attributes\":{\"ticker\":{\"id\":\"1013\",\"type\":\"BasicTicker\"}},\"id\":\"1016\",\"type\":\"Grid\"},{\"attributes\":{\"items\":[{\"id\":\"1047\",\"type\":\"LegendItem\"}]},\"id\":\"1046\",\"type\":\"Legend\"},{\"attributes\":{},\"id\":\"1018\",\"type\":\"BasicTicker\"},{\"attributes\":{\"source\":{\"id\":\"1035\",\"type\":\"ColumnDataSource\"}},\"id\":\"1039\",\"type\":\"CDSView\"},{\"attributes\":{},\"id\":\"1041\",\"type\":\"BasicTickFormatter\"},{\"attributes\":{},\"id\":\"1010\",\"type\":\"LinearScale\"},{\"attributes\":{\"dimension\":1,\"ticker\":{\"id\":\"1018\",\"type\":\"BasicTicker\"}},\"id\":\"1021\",\"type\":\"Grid\"},{\"attributes\":{\"callback\":null},\"id\":\"1006\",\"type\":\"DataRange1d\"},{\"attributes\":{\"overlay\":{\"id\":\"1045\",\"type\":\"BoxAnnotation\"}},\"id\":\"1024\",\"type\":\"BoxZoomTool\"},{\"attributes\":{\"active_drag\":\"auto\",\"active_inspect\":\"auto\",\"active_multi\":null,\"active_scroll\":\"auto\",\"active_tap\":\"auto\",\"tools\":[{\"id\":\"1022\",\"type\":\"PanTool\"},{\"id\":\"1023\",\"type\":\"WheelZoomTool\"},{\"id\":\"1024\",\"type\":\"BoxZoomTool\"},{\"id\":\"1025\",\"type\":\"SaveTool\"},{\"id\":\"1026\",\"type\":\"ResetTool\"},{\"id\":\"1027\",\"type\":\"HelpTool\"}]},\"id\":\"1028\",\"type\":\"Toolbar\"},{\"attributes\":{\"data_source\":{\"id\":\"1035\",\"type\":\"ColumnDataSource\"},\"glyph\":{\"id\":\"1036\",\"type\":\"Quad\"},\"hover_glyph\":null,\"muted_glyph\":null,\"nonselection_glyph\":{\"id\":\"1037\",\"type\":\"Quad\"},\"selection_glyph\":null,\"view\":{\"id\":\"1039\",\"type\":\"CDSView\"}},\"id\":\"1038\",\"type\":\"GlyphRenderer\"},{\"attributes\":{\"callback\":null,\"end\":105.0,\"start\":-5.0},\"id\":\"1004\",\"type\":\"Range1d\"},{\"attributes\":{},\"id\":\"1025\",\"type\":\"SaveTool\"},{\"attributes\":{\"bottom\":{\"value\":0},\"fill_color\":{\"value\":\"#1f77b4\"},\"left\":{\"field\":\"left\"},\"right\":{\"field\":\"right\"},\"top\":{\"field\":\"top\"}},\"id\":\"1036\",\"type\":\"Quad\"},{\"attributes\":{\"bottom_units\":\"screen\",\"fill_alpha\":{\"value\":0.5},\"fill_color\":{\"value\":\"lightgrey\"},\"left_units\":\"screen\",\"level\":\"overlay\",\"line_alpha\":{\"value\":1.0},\"line_color\":{\"value\":\"black\"},\"line_dash\":[4,4],\"line_width\":{\"value\":2},\"render_mode\":\"css\",\"right_units\":\"screen\",\"top_units\":\"screen\"},\"id\":\"1045\",\"type\":\"BoxAnnotation\"},{\"attributes\":{},\"id\":\"1013\",\"type\":\"BasicTicker\"},{\"attributes\":{},\"id\":\"1043\",\"type\":\"BasicTickFormatter\"},{\"attributes\":{},\"id\":\"1023\",\"type\":\"WheelZoomTool\"},{\"attributes\":{},\"id\":\"1054\",\"type\":\"UnionRenderers\"},{\"attributes\":{},\"id\":\"1027\",\"type\":\"HelpTool\"}],\"root_ids\":[\"1002\"]},\"title\":\"Bokeh Application\",\"version\":\"1.2.0\"}};\n",
       "  var render_items = [{\"docid\":\"b22aeba4-5729-4326-b7a0-28b7b0724203\",\"roots\":{\"1002\":\"c201e7f5-b933-4c73-a9a9-5d03ba8e45f0\"}}];\n",
       "  root.Bokeh.embed.embed_items_notebook(docs_json, render_items);\n",
       "\n",
       "  }\n",
       "  if (root.Bokeh !== undefined) {\n",
       "    embed_document(root);\n",
       "  } else {\n",
       "    var attempts = 0;\n",
       "    var timer = setInterval(function(root) {\n",
       "      if (root.Bokeh !== undefined) {\n",
       "        embed_document(root);\n",
       "        clearInterval(timer);\n",
       "      }\n",
       "      attempts++;\n",
       "      if (attempts > 100) {\n",
       "        console.log(\"Bokeh: ERROR: Unable to run BokehJS code because BokehJS library is missing\");\n",
       "        clearInterval(timer);\n",
       "      }\n",
       "    }, 10, root)\n",
       "  }\n",
       "})(window);"
      ],
      "application/vnd.bokehjs_exec.v0+json": ""
     },
     "metadata": {
      "application/vnd.bokehjs_exec.v0+json": {
       "id": "1002"
      }
     },
     "output_type": "display_data"
    }
   ],
   "source": [
    "p = hl.plot.histogram(mt.variant_qc.gq_stats.mean, range=(0,100), legend='Mean GQ per variant histogram')\n",
    "p.plot_width = 800\n",
    "p.plot_height = 500\n",
    "show(p)"
   ]
  },
  {
   "cell_type": "markdown",
   "id": "e6b9491d-381c-4ae5-83c0-a1d68c6f836d",
   "metadata": {},
   "source": [
    "VQSR filtering takes into account many factors. Therefore variants with low GQ may pass. As an extra precaution, we will remove variants with GC < 20."
   ]
  },
  {
   "cell_type": "code",
   "execution_count": 14,
   "id": "6afef499-3935-4278-b834-02289c2a3d3a",
   "metadata": {},
   "outputs": [],
   "source": [
    "mt = mt.filter_rows(mt.variant_qc.gq_stats.mean >= 20)"
   ]
  },
  {
   "cell_type": "code",
   "execution_count": 15,
   "id": "6571e47a-189e-48d4-873e-8a591db5e97f",
   "metadata": {},
   "outputs": [
    {
     "name": "stdout",
     "output_type": "stream",
     "text": [
      "Number of variants: 1146382\n",
      "Number of samples: 472\n"
     ]
    }
   ],
   "source": [
    "n_variants, n_samples = mt.count()\n",
    "print('Number of variants: ' + str(n_variants))\n",
    "print('Number of samples: ' + str(n_samples))"
   ]
  },
  {
   "cell_type": "markdown",
   "id": "e880a833-9827-49ff-8872-16e75bac54e7",
   "metadata": {},
   "source": [
    "Let's look at the depth histogram below. It seems quite a lot of variants have low depth. However, these variants may very well still be reliable, so we will keep them."
   ]
  },
  {
   "cell_type": "code",
   "execution_count": 16,
   "id": "70aaad59-f596-4bdd-9a8e-e1678d45633b",
   "metadata": {},
   "outputs": [
    {
     "data": {
      "text/html": [
       "\n",
       "\n",
       "\n",
       "\n",
       "\n",
       "\n",
       "  <div class=\"bk-root\" id=\"27f34251-50cd-4b2f-b876-7cc1688a4a29\" data-root-id=\"1104\"></div>\n"
      ]
     },
     "metadata": {},
     "output_type": "display_data"
    },
    {
     "data": {
      "application/javascript": [
       "(function(root) {\n",
       "  function embed_document(root) {\n",
       "    \n",
       "  var docs_json = {\"8de68168-68eb-431d-aea4-ea524726e3d7\":{\"roots\":{\"references\":[{\"attributes\":{\"background_fill_color\":{\"value\":\"#EEEEEE\"},\"below\":[{\"id\":\"1114\",\"type\":\"LinearAxis\"}],\"center\":[{\"id\":\"1118\",\"type\":\"Grid\"},{\"id\":\"1123\",\"type\":\"Grid\"},{\"id\":\"1148\",\"type\":\"Legend\"}],\"left\":[{\"id\":\"1119\",\"type\":\"LinearAxis\"}],\"plot_height\":500,\"plot_width\":800,\"renderers\":[{\"id\":\"1140\",\"type\":\"GlyphRenderer\"},{\"id\":\"1153\",\"type\":\"GlyphRenderer\"}],\"title\":null,\"toolbar\":{\"id\":\"1130\",\"type\":\"Toolbar\"},\"x_range\":{\"id\":\"1106\",\"type\":\"Range1d\"},\"x_scale\":{\"id\":\"1110\",\"type\":\"LinearScale\"},\"y_range\":{\"id\":\"1108\",\"type\":\"DataRange1d\"},\"y_scale\":{\"id\":\"1112\",\"type\":\"LinearScale\"}},\"id\":\"1104\",\"subtype\":\"Figure\",\"type\":\"Plot\"},{\"attributes\":{\"callback\":null,\"end\":105.0,\"start\":-5.0},\"id\":\"1106\",\"type\":\"Range1d\"},{\"attributes\":{\"source\":{\"id\":\"1137\",\"type\":\"ColumnDataSource\"}},\"id\":\"1141\",\"type\":\"CDSView\"},{\"attributes\":{\"callback\":null,\"data\":{},\"selected\":{\"id\":\"1179\",\"type\":\"Selection\"},\"selection_policy\":{\"id\":\"1180\",\"type\":\"UnionRenderers\"}},\"id\":\"1150\",\"type\":\"ColumnDataSource\"},{\"attributes\":{\"ticker\":{\"id\":\"1115\",\"type\":\"BasicTicker\"}},\"id\":\"1118\",\"type\":\"Grid\"},{\"attributes\":{},\"id\":\"1128\",\"type\":\"ResetTool\"},{\"attributes\":{\"bottom\":{\"value\":0},\"fill_alpha\":{\"value\":0.1},\"fill_color\":{\"value\":\"#1f77b4\"},\"left\":{\"value\":100.0},\"line_alpha\":{\"value\":0.1},\"line_color\":{\"value\":\"#1f77b4\"},\"right\":{\"value\":102.0},\"top\":{\"value\":5886}},\"id\":\"1152\",\"type\":\"Quad\"},{\"attributes\":{},\"id\":\"1125\",\"type\":\"WheelZoomTool\"},{\"attributes\":{\"source\":{\"id\":\"1150\",\"type\":\"ColumnDataSource\"}},\"id\":\"1154\",\"type\":\"CDSView\"},{\"attributes\":{},\"id\":\"1143\",\"type\":\"BasicTickFormatter\"},{\"attributes\":{\"callback\":null},\"id\":\"1108\",\"type\":\"DataRange1d\"},{\"attributes\":{},\"id\":\"1179\",\"type\":\"Selection\"},{\"attributes\":{\"axis_label\":\"Mean DP per variant histogram\",\"formatter\":{\"id\":\"1143\",\"type\":\"BasicTickFormatter\"},\"ticker\":{\"id\":\"1115\",\"type\":\"BasicTicker\"}},\"id\":\"1114\",\"type\":\"LinearAxis\"},{\"attributes\":{},\"id\":\"1112\",\"type\":\"LinearScale\"},{\"attributes\":{},\"id\":\"1120\",\"type\":\"BasicTicker\"},{\"attributes\":{},\"id\":\"1160\",\"type\":\"Selection\"},{\"attributes\":{\"axis_label\":\"Frequency\",\"formatter\":{\"id\":\"1145\",\"type\":\"BasicTickFormatter\"},\"ticker\":{\"id\":\"1120\",\"type\":\"BasicTicker\"}},\"id\":\"1119\",\"type\":\"LinearAxis\"},{\"attributes\":{\"label\":{\"value\":\"Outliers Above\"},\"renderers\":[{\"id\":\"1153\",\"type\":\"GlyphRenderer\"}]},\"id\":\"1163\",\"type\":\"LegendItem\"},{\"attributes\":{\"dimension\":1,\"ticker\":{\"id\":\"1120\",\"type\":\"BasicTicker\"}},\"id\":\"1123\",\"type\":\"Grid\"},{\"attributes\":{},\"id\":\"1129\",\"type\":\"HelpTool\"},{\"attributes\":{},\"id\":\"1145\",\"type\":\"BasicTickFormatter\"},{\"attributes\":{\"bottom\":{\"value\":0},\"fill_color\":{\"value\":\"#1f77b4\"},\"left\":{\"field\":\"left\"},\"right\":{\"field\":\"right\"},\"top\":{\"field\":\"top\"}},\"id\":\"1138\",\"type\":\"Quad\"},{\"attributes\":{\"bottom_units\":\"screen\",\"fill_alpha\":{\"value\":0.5},\"fill_color\":{\"value\":\"lightgrey\"},\"left_units\":\"screen\",\"level\":\"overlay\",\"line_alpha\":{\"value\":1.0},\"line_color\":{\"value\":\"black\"},\"line_dash\":[4,4],\"line_width\":{\"value\":2},\"render_mode\":\"css\",\"right_units\":\"screen\",\"top_units\":\"screen\"},\"id\":\"1147\",\"type\":\"BoxAnnotation\"},{\"attributes\":{\"items\":[{\"id\":\"1149\",\"type\":\"LegendItem\"},{\"id\":\"1163\",\"type\":\"LegendItem\"}]},\"id\":\"1148\",\"type\":\"Legend\"},{\"attributes\":{},\"id\":\"1180\",\"type\":\"UnionRenderers\"},{\"attributes\":{\"callback\":null,\"data\":{\"left\":[0.0,2.0,4.0,6.0,8.0,10.0,12.0,14.0,16.0,18.0,20.0,22.0,24.0,26.0,28.0,30.0,32.0,34.0,36.0,38.0,40.0,42.0,44.0,46.0,48.0,50.0,52.0,54.0,56.0,58.0,60.0,62.0,64.0,66.0,68.0,70.0,72.0,74.0,76.0,78.0,80.0,82.0,84.0,86.0,88.0,90.0,92.0,94.0,96.0,98.0],\"right\":[2.0,4.0,6.0,8.0,10.0,12.0,14.0,16.0,18.0,20.0,22.0,24.0,26.0,28.0,30.0,32.0,34.0,36.0,38.0,40.0,42.0,44.0,46.0,48.0,50.0,52.0,54.0,56.0,58.0,60.0,62.0,64.0,66.0,68.0,70.0,72.0,74.0,76.0,78.0,80.0,82.0,84.0,86.0,88.0,90.0,92.0,94.0,96.0,98.0,100.0],\"top\":[10675,41432,59580,70991,73222,71105,67481,61989,57667,52789,49404,45980,43280,41126,39491,38397,37319,35956,35071,33591,30627,25928,21127,17210,13650,10767,8621,6783,5592,4684,3841,3380,2746,2490,2040,1842,1660,1405,1244,1164,1077,935,876,740,683,707,622,552,495,462]},\"selected\":{\"id\":\"1160\",\"type\":\"Selection\"},\"selection_policy\":{\"id\":\"1161\",\"type\":\"UnionRenderers\"}},\"id\":\"1137\",\"type\":\"ColumnDataSource\"},{\"attributes\":{},\"id\":\"1127\",\"type\":\"SaveTool\"},{\"attributes\":{},\"id\":\"1161\",\"type\":\"UnionRenderers\"},{\"attributes\":{},\"id\":\"1110\",\"type\":\"LinearScale\"},{\"attributes\":{\"active_drag\":\"auto\",\"active_inspect\":\"auto\",\"active_multi\":null,\"active_scroll\":\"auto\",\"active_tap\":\"auto\",\"tools\":[{\"id\":\"1124\",\"type\":\"PanTool\"},{\"id\":\"1125\",\"type\":\"WheelZoomTool\"},{\"id\":\"1126\",\"type\":\"BoxZoomTool\"},{\"id\":\"1127\",\"type\":\"SaveTool\"},{\"id\":\"1128\",\"type\":\"ResetTool\"},{\"id\":\"1129\",\"type\":\"HelpTool\"}]},\"id\":\"1130\",\"type\":\"Toolbar\"},{\"attributes\":{\"label\":{\"value\":\"Mean DP per variant histogram\"},\"renderers\":[{\"id\":\"1140\",\"type\":\"GlyphRenderer\"}]},\"id\":\"1149\",\"type\":\"LegendItem\"},{\"attributes\":{},\"id\":\"1115\",\"type\":\"BasicTicker\"},{\"attributes\":{},\"id\":\"1124\",\"type\":\"PanTool\"},{\"attributes\":{\"data_source\":{\"id\":\"1137\",\"type\":\"ColumnDataSource\"},\"glyph\":{\"id\":\"1138\",\"type\":\"Quad\"},\"hover_glyph\":null,\"muted_glyph\":null,\"nonselection_glyph\":{\"id\":\"1139\",\"type\":\"Quad\"},\"selection_glyph\":null,\"view\":{\"id\":\"1141\",\"type\":\"CDSView\"}},\"id\":\"1140\",\"type\":\"GlyphRenderer\"},{\"attributes\":{\"bottom\":{\"value\":0},\"fill_color\":{\"value\":\"green\"},\"left\":{\"value\":100.0},\"right\":{\"value\":102.0},\"top\":{\"value\":5886}},\"id\":\"1151\",\"type\":\"Quad\"},{\"attributes\":{\"overlay\":{\"id\":\"1147\",\"type\":\"BoxAnnotation\"}},\"id\":\"1126\",\"type\":\"BoxZoomTool\"},{\"attributes\":{\"bottom\":{\"value\":0},\"fill_alpha\":{\"value\":0.1},\"fill_color\":{\"value\":\"#1f77b4\"},\"left\":{\"field\":\"left\"},\"line_alpha\":{\"value\":0.1},\"line_color\":{\"value\":\"#1f77b4\"},\"right\":{\"field\":\"right\"},\"top\":{\"field\":\"top\"}},\"id\":\"1139\",\"type\":\"Quad\"},{\"attributes\":{\"data_source\":{\"id\":\"1150\",\"type\":\"ColumnDataSource\"},\"glyph\":{\"id\":\"1151\",\"type\":\"Quad\"},\"hover_glyph\":null,\"muted_glyph\":null,\"nonselection_glyph\":{\"id\":\"1152\",\"type\":\"Quad\"},\"selection_glyph\":null,\"view\":{\"id\":\"1154\",\"type\":\"CDSView\"}},\"id\":\"1153\",\"type\":\"GlyphRenderer\"}],\"root_ids\":[\"1104\"]},\"title\":\"Bokeh Application\",\"version\":\"1.2.0\"}};\n",
       "  var render_items = [{\"docid\":\"8de68168-68eb-431d-aea4-ea524726e3d7\",\"roots\":{\"1104\":\"27f34251-50cd-4b2f-b876-7cc1688a4a29\"}}];\n",
       "  root.Bokeh.embed.embed_items_notebook(docs_json, render_items);\n",
       "\n",
       "  }\n",
       "  if (root.Bokeh !== undefined) {\n",
       "    embed_document(root);\n",
       "  } else {\n",
       "    var attempts = 0;\n",
       "    var timer = setInterval(function(root) {\n",
       "      if (root.Bokeh !== undefined) {\n",
       "        embed_document(root);\n",
       "        clearInterval(timer);\n",
       "      }\n",
       "      attempts++;\n",
       "      if (attempts > 100) {\n",
       "        console.log(\"Bokeh: ERROR: Unable to run BokehJS code because BokehJS library is missing\");\n",
       "        clearInterval(timer);\n",
       "      }\n",
       "    }, 10, root)\n",
       "  }\n",
       "})(window);"
      ],
      "application/vnd.bokehjs_exec.v0+json": ""
     },
     "metadata": {
      "application/vnd.bokehjs_exec.v0+json": {
       "id": "1104"
      }
     },
     "output_type": "display_data"
    }
   ],
   "source": [
    "p = hl.plot.histogram(mt.variant_qc.dp_stats.mean, range=(0,100), legend='Mean DP per variant histogram')\n",
    "p.plot_width = 800\n",
    "p.plot_height = 500\n",
    "show(p)"
   ]
  },
  {
   "cell_type": "markdown",
   "id": "27dbb2b2-60b1-4ae1-8a85-08eb9f5eefae",
   "metadata": {},
   "source": [
    "At this point, we will refrain from using population filters such as minor allele frquency and Hardy-Weinberg Equilibrium filters. We omit these as the threshold used in these can be quite context dependent."
   ]
  },
  {
   "cell_type": "markdown",
   "id": "middle-seafood",
   "metadata": {},
   "source": [
    "## Sample QC\n",
    "\n",
    "Below we see histograms of sample mean genotype quality and genotype depth. Most samples seem to have good depth and quality, although the deviation between samples is quite large. There are some samples with low depth and quality, but we will not worry about these."
   ]
  },
  {
   "cell_type": "code",
   "execution_count": 17,
   "id": "worth-desperate",
   "metadata": {},
   "outputs": [
    {
     "data": {
      "text/html": [
       "\n",
       "\n",
       "\n",
       "\n",
       "\n",
       "\n",
       "  <div class=\"bk-root\" id=\"8323a707-d21b-4126-a75b-241f0b5c7177\" data-root-id=\"1242\"></div>\n"
      ]
     },
     "metadata": {},
     "output_type": "display_data"
    },
    {
     "data": {
      "application/javascript": [
       "(function(root) {\n",
       "  function embed_document(root) {\n",
       "    \n",
       "  var docs_json = {\"01d33873-8748-4a2b-8a8a-2dc025ec620c\":{\"roots\":{\"references\":[{\"attributes\":{\"background_fill_color\":{\"value\":\"#EEEEEE\"},\"below\":[{\"id\":\"1252\",\"type\":\"LinearAxis\"}],\"center\":[{\"id\":\"1256\",\"type\":\"Grid\"},{\"id\":\"1261\",\"type\":\"Grid\"},{\"id\":\"1286\",\"type\":\"Legend\"}],\"left\":[{\"id\":\"1257\",\"type\":\"LinearAxis\"}],\"plot_height\":500,\"plot_width\":800,\"renderers\":[{\"id\":\"1278\",\"type\":\"GlyphRenderer\"}],\"title\":null,\"toolbar\":{\"id\":\"1268\",\"type\":\"Toolbar\"},\"x_range\":{\"id\":\"1244\",\"type\":\"Range1d\"},\"x_scale\":{\"id\":\"1248\",\"type\":\"LinearScale\"},\"y_range\":{\"id\":\"1246\",\"type\":\"DataRange1d\"},\"y_scale\":{\"id\":\"1250\",\"type\":\"LinearScale\"}},\"id\":\"1242\",\"subtype\":\"Figure\",\"type\":\"Plot\"},{\"attributes\":{\"overlay\":{\"id\":\"1285\",\"type\":\"BoxAnnotation\"}},\"id\":\"1264\",\"type\":\"BoxZoomTool\"},{\"attributes\":{},\"id\":\"1248\",\"type\":\"LinearScale\"},{\"attributes\":{\"callback\":null,\"end\":104.5,\"start\":5.5},\"id\":\"1244\",\"type\":\"Range1d\"},{\"attributes\":{},\"id\":\"1267\",\"type\":\"HelpTool\"},{\"attributes\":{\"source\":{\"id\":\"1275\",\"type\":\"ColumnDataSource\"}},\"id\":\"1279\",\"type\":\"CDSView\"},{\"attributes\":{},\"id\":\"1312\",\"type\":\"UnionRenderers\"},{\"attributes\":{},\"id\":\"1266\",\"type\":\"ResetTool\"},{\"attributes\":{},\"id\":\"1265\",\"type\":\"SaveTool\"},{\"attributes\":{},\"id\":\"1263\",\"type\":\"WheelZoomTool\"},{\"attributes\":{\"label\":{\"value\":\"Mean Sample GQ\"},\"renderers\":[{\"id\":\"1278\",\"type\":\"GlyphRenderer\"}]},\"id\":\"1287\",\"type\":\"LegendItem\"},{\"attributes\":{},\"id\":\"1281\",\"type\":\"BasicTickFormatter\"},{\"attributes\":{},\"id\":\"1262\",\"type\":\"PanTool\"},{\"attributes\":{\"bottom\":{\"value\":0},\"fill_alpha\":{\"value\":0.1},\"fill_color\":{\"value\":\"#1f77b4\"},\"left\":{\"field\":\"left\"},\"line_alpha\":{\"value\":0.1},\"line_color\":{\"value\":\"#1f77b4\"},\"right\":{\"field\":\"right\"},\"top\":{\"field\":\"top\"}},\"id\":\"1277\",\"type\":\"Quad\"},{\"attributes\":{\"active_drag\":\"auto\",\"active_inspect\":\"auto\",\"active_multi\":null,\"active_scroll\":\"auto\",\"active_tap\":\"auto\",\"tools\":[{\"id\":\"1262\",\"type\":\"PanTool\"},{\"id\":\"1263\",\"type\":\"WheelZoomTool\"},{\"id\":\"1264\",\"type\":\"BoxZoomTool\"},{\"id\":\"1265\",\"type\":\"SaveTool\"},{\"id\":\"1266\",\"type\":\"ResetTool\"},{\"id\":\"1267\",\"type\":\"HelpTool\"}]},\"id\":\"1268\",\"type\":\"Toolbar\"},{\"attributes\":{\"data_source\":{\"id\":\"1275\",\"type\":\"ColumnDataSource\"},\"glyph\":{\"id\":\"1276\",\"type\":\"Quad\"},\"hover_glyph\":null,\"muted_glyph\":null,\"nonselection_glyph\":{\"id\":\"1277\",\"type\":\"Quad\"},\"selection_glyph\":null,\"view\":{\"id\":\"1279\",\"type\":\"CDSView\"}},\"id\":\"1278\",\"type\":\"GlyphRenderer\"},{\"attributes\":{\"callback\":null,\"data\":{\"left\":[10.0,11.8,13.6,15.4,17.2,19.0,20.8,22.6,24.4,26.2,28.0,29.8,31.6,33.400000000000006,35.2,37.0,38.8,40.6,42.4,44.2,46.0,47.800000000000004,49.6,51.4,53.2,55.0,56.800000000000004,58.6,60.4,62.2,64.0,65.80000000000001,67.6,69.4,71.2,73.0,74.8,76.60000000000001,78.4,80.2,82.0,83.8,85.60000000000001,87.4,89.2,91.0,92.8,94.60000000000001,96.4,98.2],\"right\":[11.8,13.6,15.4,17.2,19.0,20.8,22.6,24.4,26.2,28.0,29.8,31.6,33.400000000000006,35.2,37.0,38.8,40.6,42.4,44.2,46.0,47.800000000000004,49.6,51.4,53.2,55.0,56.800000000000004,58.6,60.4,62.2,64.0,65.80000000000001,67.6,69.4,71.2,73.0,74.8,76.60000000000001,78.4,80.2,82.0,83.8,85.60000000000001,87.4,89.2,91.0,92.8,94.60000000000001,96.4,98.2,100.0],\"top\":[0,0,0,0,0,0,1,0,0,0,0,0,0,1,3,0,0,3,3,2,1,3,4,6,7,18,18,21,28,39,53,50,43,41,47,28,19,14,11,5,2,0,1,0,0,0,0,0,0,0]},\"selected\":{\"id\":\"1311\",\"type\":\"Selection\"},\"selection_policy\":{\"id\":\"1312\",\"type\":\"UnionRenderers\"}},\"id\":\"1275\",\"type\":\"ColumnDataSource\"},{\"attributes\":{\"axis_label\":\"Frequency\",\"formatter\":{\"id\":\"1283\",\"type\":\"BasicTickFormatter\"},\"ticker\":{\"id\":\"1258\",\"type\":\"BasicTicker\"}},\"id\":\"1257\",\"type\":\"LinearAxis\"},{\"attributes\":{},\"id\":\"1258\",\"type\":\"BasicTicker\"},{\"attributes\":{},\"id\":\"1311\",\"type\":\"Selection\"},{\"attributes\":{},\"id\":\"1283\",\"type\":\"BasicTickFormatter\"},{\"attributes\":{\"bottom_units\":\"screen\",\"fill_alpha\":{\"value\":0.5},\"fill_color\":{\"value\":\"lightgrey\"},\"left_units\":\"screen\",\"level\":\"overlay\",\"line_alpha\":{\"value\":1.0},\"line_color\":{\"value\":\"black\"},\"line_dash\":[4,4],\"line_width\":{\"value\":2},\"render_mode\":\"css\",\"right_units\":\"screen\",\"top_units\":\"screen\"},\"id\":\"1285\",\"type\":\"BoxAnnotation\"},{\"attributes\":{\"axis_label\":\"Mean Sample GQ\",\"formatter\":{\"id\":\"1281\",\"type\":\"BasicTickFormatter\"},\"ticker\":{\"id\":\"1253\",\"type\":\"BasicTicker\"}},\"id\":\"1252\",\"type\":\"LinearAxis\"},{\"attributes\":{\"bottom\":{\"value\":0},\"fill_color\":{\"value\":\"#1f77b4\"},\"left\":{\"field\":\"left\"},\"right\":{\"field\":\"right\"},\"top\":{\"field\":\"top\"}},\"id\":\"1276\",\"type\":\"Quad\"},{\"attributes\":{\"ticker\":{\"id\":\"1253\",\"type\":\"BasicTicker\"}},\"id\":\"1256\",\"type\":\"Grid\"},{\"attributes\":{\"dimension\":1,\"ticker\":{\"id\":\"1258\",\"type\":\"BasicTicker\"}},\"id\":\"1261\",\"type\":\"Grid\"},{\"attributes\":{\"callback\":null},\"id\":\"1246\",\"type\":\"DataRange1d\"},{\"attributes\":{},\"id\":\"1253\",\"type\":\"BasicTicker\"},{\"attributes\":{\"items\":[{\"id\":\"1287\",\"type\":\"LegendItem\"}]},\"id\":\"1286\",\"type\":\"Legend\"},{\"attributes\":{},\"id\":\"1250\",\"type\":\"LinearScale\"}],\"root_ids\":[\"1242\"]},\"title\":\"Bokeh Application\",\"version\":\"1.2.0\"}};\n",
       "  var render_items = [{\"docid\":\"01d33873-8748-4a2b-8a8a-2dc025ec620c\",\"roots\":{\"1242\":\"8323a707-d21b-4126-a75b-241f0b5c7177\"}}];\n",
       "  root.Bokeh.embed.embed_items_notebook(docs_json, render_items);\n",
       "\n",
       "  }\n",
       "  if (root.Bokeh !== undefined) {\n",
       "    embed_document(root);\n",
       "  } else {\n",
       "    var attempts = 0;\n",
       "    var timer = setInterval(function(root) {\n",
       "      if (root.Bokeh !== undefined) {\n",
       "        embed_document(root);\n",
       "        clearInterval(timer);\n",
       "      }\n",
       "      attempts++;\n",
       "      if (attempts > 100) {\n",
       "        console.log(\"Bokeh: ERROR: Unable to run BokehJS code because BokehJS library is missing\");\n",
       "        clearInterval(timer);\n",
       "      }\n",
       "    }, 10, root)\n",
       "  }\n",
       "})(window);"
      ],
      "application/vnd.bokehjs_exec.v0+json": ""
     },
     "metadata": {
      "application/vnd.bokehjs_exec.v0+json": {
       "id": "1242"
      }
     },
     "output_type": "display_data"
    }
   ],
   "source": [
    "p = hl.plot.histogram(mt.sample_qc.gq_stats.mean, range=(10,100), legend='Mean Sample GQ')\n",
    "p.plot_width = 800\n",
    "p.plot_height = 500\n",
    "show(p)"
   ]
  },
  {
   "cell_type": "code",
   "execution_count": 18,
   "id": "manufactured-guidance",
   "metadata": {},
   "outputs": [
    {
     "data": {
      "text/html": [
       "\n",
       "\n",
       "\n",
       "\n",
       "\n",
       "\n",
       "  <div class=\"bk-root\" id=\"9b6a4bde-32af-4dc7-b935-dbb59aa4604d\" data-root-id=\"1362\"></div>\n"
      ]
     },
     "metadata": {},
     "output_type": "display_data"
    },
    {
     "data": {
      "application/javascript": [
       "(function(root) {\n",
       "  function embed_document(root) {\n",
       "    \n",
       "  var docs_json = {\"55d46a59-61cf-4406-91c6-bd3512f70205\":{\"roots\":{\"references\":[{\"attributes\":{\"background_fill_color\":{\"value\":\"#EEEEEE\"},\"below\":[{\"id\":\"1372\",\"type\":\"LinearAxis\"}],\"center\":[{\"id\":\"1376\",\"type\":\"Grid\"},{\"id\":\"1381\",\"type\":\"Grid\"},{\"id\":\"1406\",\"type\":\"Legend\"}],\"left\":[{\"id\":\"1377\",\"type\":\"LinearAxis\"}],\"plot_height\":500,\"plot_width\":800,\"renderers\":[{\"id\":\"1398\",\"type\":\"GlyphRenderer\"}],\"title\":null,\"toolbar\":{\"id\":\"1388\",\"type\":\"Toolbar\"},\"x_range\":{\"id\":\"1364\",\"type\":\"Range1d\"},\"x_scale\":{\"id\":\"1368\",\"type\":\"LinearScale\"},\"y_range\":{\"id\":\"1366\",\"type\":\"DataRange1d\"},\"y_scale\":{\"id\":\"1370\",\"type\":\"LinearScale\"}},\"id\":\"1362\",\"subtype\":\"Figure\",\"type\":\"Plot\"},{\"attributes\":{\"ticker\":{\"id\":\"1373\",\"type\":\"BasicTicker\"}},\"id\":\"1376\",\"type\":\"Grid\"},{\"attributes\":{},\"id\":\"1386\",\"type\":\"ResetTool\"},{\"attributes\":{},\"id\":\"1373\",\"type\":\"BasicTicker\"},{\"attributes\":{\"items\":[{\"id\":\"1407\",\"type\":\"LegendItem\"}]},\"id\":\"1406\",\"type\":\"Legend\"},{\"attributes\":{},\"id\":\"1378\",\"type\":\"BasicTicker\"},{\"attributes\":{\"label\":{\"value\":\"Mean Sample DP\"},\"renderers\":[{\"id\":\"1398\",\"type\":\"GlyphRenderer\"}]},\"id\":\"1407\",\"type\":\"LegendItem\"},{\"attributes\":{\"bottom\":{\"value\":0},\"fill_color\":{\"value\":\"#1f77b4\"},\"left\":{\"field\":\"left\"},\"right\":{\"field\":\"right\"},\"top\":{\"field\":\"top\"}},\"id\":\"1396\",\"type\":\"Quad\"},{\"attributes\":{\"bottom_units\":\"screen\",\"fill_alpha\":{\"value\":0.5},\"fill_color\":{\"value\":\"lightgrey\"},\"left_units\":\"screen\",\"level\":\"overlay\",\"line_alpha\":{\"value\":1.0},\"line_color\":{\"value\":\"black\"},\"line_dash\":[4,4],\"line_width\":{\"value\":2},\"render_mode\":\"css\",\"right_units\":\"screen\",\"top_units\":\"screen\"},\"id\":\"1405\",\"type\":\"BoxAnnotation\"},{\"attributes\":{\"active_drag\":\"auto\",\"active_inspect\":\"auto\",\"active_multi\":null,\"active_scroll\":\"auto\",\"active_tap\":\"auto\",\"tools\":[{\"id\":\"1382\",\"type\":\"PanTool\"},{\"id\":\"1383\",\"type\":\"WheelZoomTool\"},{\"id\":\"1384\",\"type\":\"BoxZoomTool\"},{\"id\":\"1385\",\"type\":\"SaveTool\"},{\"id\":\"1386\",\"type\":\"ResetTool\"},{\"id\":\"1387\",\"type\":\"HelpTool\"}]},\"id\":\"1388\",\"type\":\"Toolbar\"},{\"attributes\":{\"callback\":null,\"end\":63.0,\"start\":-3.0},\"id\":\"1364\",\"type\":\"Range1d\"},{\"attributes\":{\"dimension\":1,\"ticker\":{\"id\":\"1378\",\"type\":\"BasicTicker\"}},\"id\":\"1381\",\"type\":\"Grid\"},{\"attributes\":{},\"id\":\"1368\",\"type\":\"LinearScale\"},{\"attributes\":{\"axis_label\":\"Mean Sample DP\",\"formatter\":{\"id\":\"1401\",\"type\":\"BasicTickFormatter\"},\"ticker\":{\"id\":\"1373\",\"type\":\"BasicTicker\"}},\"id\":\"1372\",\"type\":\"LinearAxis\"},{\"attributes\":{},\"id\":\"1385\",\"type\":\"SaveTool\"},{\"attributes\":{},\"id\":\"1401\",\"type\":\"BasicTickFormatter\"},{\"attributes\":{\"bottom\":{\"value\":0},\"fill_alpha\":{\"value\":0.1},\"fill_color\":{\"value\":\"#1f77b4\"},\"left\":{\"field\":\"left\"},\"line_alpha\":{\"value\":0.1},\"line_color\":{\"value\":\"#1f77b4\"},\"right\":{\"field\":\"right\"},\"top\":{\"field\":\"top\"}},\"id\":\"1397\",\"type\":\"Quad\"},{\"attributes\":{},\"id\":\"1383\",\"type\":\"WheelZoomTool\"},{\"attributes\":{},\"id\":\"1387\",\"type\":\"HelpTool\"},{\"attributes\":{},\"id\":\"1439\",\"type\":\"Selection\"},{\"attributes\":{},\"id\":\"1370\",\"type\":\"LinearScale\"},{\"attributes\":{\"data_source\":{\"id\":\"1395\",\"type\":\"ColumnDataSource\"},\"glyph\":{\"id\":\"1396\",\"type\":\"Quad\"},\"hover_glyph\":null,\"muted_glyph\":null,\"nonselection_glyph\":{\"id\":\"1397\",\"type\":\"Quad\"},\"selection_glyph\":null,\"view\":{\"id\":\"1399\",\"type\":\"CDSView\"}},\"id\":\"1398\",\"type\":\"GlyphRenderer\"},{\"attributes\":{},\"id\":\"1440\",\"type\":\"UnionRenderers\"},{\"attributes\":{\"callback\":null},\"id\":\"1366\",\"type\":\"DataRange1d\"},{\"attributes\":{\"source\":{\"id\":\"1395\",\"type\":\"ColumnDataSource\"}},\"id\":\"1399\",\"type\":\"CDSView\"},{\"attributes\":{\"callback\":null,\"data\":{\"left\":[0.0,1.2,2.4,3.5999999999999996,4.8,6.0,7.199999999999999,8.4,9.6,10.799999999999999,12.0,13.2,14.399999999999999,15.6,16.8,18.0,19.2,20.4,21.599999999999998,22.8,24.0,25.2,26.4,27.599999999999998,28.799999999999997,30.0,31.2,32.4,33.6,34.8,36.0,37.199999999999996,38.4,39.6,40.8,42.0,43.199999999999996,44.4,45.6,46.8,48.0,49.199999999999996,50.4,51.6,52.8,54.0,55.199999999999996,56.4,57.599999999999994,58.8],\"right\":[1.2,2.4,3.5999999999999996,4.8,6.0,7.199999999999999,8.4,9.6,10.799999999999999,12.0,13.2,14.399999999999999,15.6,16.8,18.0,19.2,20.4,21.599999999999998,22.8,24.0,25.2,26.4,27.599999999999998,28.799999999999997,30.0,31.2,32.4,33.6,34.8,36.0,37.199999999999996,38.4,39.6,40.8,42.0,43.199999999999996,44.4,45.6,46.8,48.0,49.199999999999996,50.4,51.6,52.8,54.0,55.199999999999996,56.4,57.599999999999994,58.8,60.0],\"top\":[0,0,1,0,0,3,5,5,3,8,14,17,24,26,28,43,35,33,44,31,28,34,20,14,13,6,11,6,4,6,3,2,4,0,0,0,0,0,0,0,0,0,0,1,0,0,0,0,0,0]},\"selected\":{\"id\":\"1439\",\"type\":\"Selection\"},\"selection_policy\":{\"id\":\"1440\",\"type\":\"UnionRenderers\"}},\"id\":\"1395\",\"type\":\"ColumnDataSource\"},{\"attributes\":{},\"id\":\"1382\",\"type\":\"PanTool\"},{\"attributes\":{},\"id\":\"1403\",\"type\":\"BasicTickFormatter\"},{\"attributes\":{\"axis_label\":\"Frequency\",\"formatter\":{\"id\":\"1403\",\"type\":\"BasicTickFormatter\"},\"ticker\":{\"id\":\"1378\",\"type\":\"BasicTicker\"}},\"id\":\"1377\",\"type\":\"LinearAxis\"},{\"attributes\":{\"overlay\":{\"id\":\"1405\",\"type\":\"BoxAnnotation\"}},\"id\":\"1384\",\"type\":\"BoxZoomTool\"}],\"root_ids\":[\"1362\"]},\"title\":\"Bokeh Application\",\"version\":\"1.2.0\"}};\n",
       "  var render_items = [{\"docid\":\"55d46a59-61cf-4406-91c6-bd3512f70205\",\"roots\":{\"1362\":\"9b6a4bde-32af-4dc7-b935-dbb59aa4604d\"}}];\n",
       "  root.Bokeh.embed.embed_items_notebook(docs_json, render_items);\n",
       "\n",
       "  }\n",
       "  if (root.Bokeh !== undefined) {\n",
       "    embed_document(root);\n",
       "  } else {\n",
       "    var attempts = 0;\n",
       "    var timer = setInterval(function(root) {\n",
       "      if (root.Bokeh !== undefined) {\n",
       "        embed_document(root);\n",
       "        clearInterval(timer);\n",
       "      }\n",
       "      attempts++;\n",
       "      if (attempts > 100) {\n",
       "        console.log(\"Bokeh: ERROR: Unable to run BokehJS code because BokehJS library is missing\");\n",
       "        clearInterval(timer);\n",
       "      }\n",
       "    }, 10, root)\n",
       "  }\n",
       "})(window);"
      ],
      "application/vnd.bokehjs_exec.v0+json": ""
     },
     "metadata": {
      "application/vnd.bokehjs_exec.v0+json": {
       "id": "1362"
      }
     },
     "output_type": "display_data"
    }
   ],
   "source": [
    "p = hl.plot.histogram(mt.sample_qc.dp_stats.mean, range=(0,60), legend='Mean Sample DP')\n",
    "p.plot_width = 800\n",
    "p.plot_height = 500\n",
    "show(p)"
   ]
  },
  {
   "cell_type": "markdown",
   "id": "dcd465d8-a592-4f6c-adac-68228767c8c0",
   "metadata": {},
   "source": [
    "Below is a histogram of the heterozygote/homozygote ratio."
   ]
  },
  {
   "cell_type": "code",
   "execution_count": 19,
   "id": "outstanding-mississippi",
   "metadata": {},
   "outputs": [
    {
     "data": {
      "text/html": [
       "\n",
       "\n",
       "\n",
       "\n",
       "\n",
       "\n",
       "  <div class=\"bk-root\" id=\"906bec2e-a63a-4c7c-b9bb-9daaec185352\" data-root-id=\"1490\"></div>\n"
      ]
     },
     "metadata": {},
     "output_type": "display_data"
    },
    {
     "data": {
      "application/javascript": [
       "(function(root) {\n",
       "  function embed_document(root) {\n",
       "    \n",
       "  var docs_json = {\"83a7bb3b-c713-4708-a278-5aae675cf276\":{\"roots\":{\"references\":[{\"attributes\":{\"background_fill_color\":{\"value\":\"#EEEEEE\"},\"below\":[{\"id\":\"1500\",\"type\":\"LinearAxis\"}],\"center\":[{\"id\":\"1504\",\"type\":\"Grid\"},{\"id\":\"1509\",\"type\":\"Grid\"},{\"id\":\"1534\",\"type\":\"Legend\"}],\"left\":[{\"id\":\"1505\",\"type\":\"LinearAxis\"}],\"plot_height\":500,\"plot_width\":800,\"renderers\":[{\"id\":\"1526\",\"type\":\"GlyphRenderer\"}],\"title\":null,\"toolbar\":{\"id\":\"1516\",\"type\":\"Toolbar\"},\"x_range\":{\"id\":\"1492\",\"type\":\"Range1d\"},\"x_scale\":{\"id\":\"1496\",\"type\":\"LinearScale\"},\"y_range\":{\"id\":\"1494\",\"type\":\"DataRange1d\"},\"y_scale\":{\"id\":\"1498\",\"type\":\"LinearScale\"}},\"id\":\"1490\",\"subtype\":\"Figure\",\"type\":\"Plot\"},{\"attributes\":{\"label\":{\"value\":\"Het/hom rate\"},\"renderers\":[{\"id\":\"1526\",\"type\":\"GlyphRenderer\"}]},\"id\":\"1535\",\"type\":\"LegendItem\"},{\"attributes\":{\"dimension\":1,\"ticker\":{\"id\":\"1506\",\"type\":\"BasicTicker\"}},\"id\":\"1509\",\"type\":\"Grid\"},{\"attributes\":{},\"id\":\"1496\",\"type\":\"LinearScale\"},{\"attributes\":{\"items\":[{\"id\":\"1535\",\"type\":\"LegendItem\"}]},\"id\":\"1534\",\"type\":\"Legend\"},{\"attributes\":{\"overlay\":{\"id\":\"1533\",\"type\":\"BoxAnnotation\"}},\"id\":\"1512\",\"type\":\"BoxZoomTool\"},{\"attributes\":{\"active_drag\":\"auto\",\"active_inspect\":\"auto\",\"active_multi\":null,\"active_scroll\":\"auto\",\"active_tap\":\"auto\",\"tools\":[{\"id\":\"1510\",\"type\":\"PanTool\"},{\"id\":\"1511\",\"type\":\"WheelZoomTool\"},{\"id\":\"1512\",\"type\":\"BoxZoomTool\"},{\"id\":\"1513\",\"type\":\"SaveTool\"},{\"id\":\"1514\",\"type\":\"ResetTool\"},{\"id\":\"1515\",\"type\":\"HelpTool\"}]},\"id\":\"1516\",\"type\":\"Toolbar\"},{\"attributes\":{},\"id\":\"1513\",\"type\":\"SaveTool\"},{\"attributes\":{},\"id\":\"1514\",\"type\":\"ResetTool\"},{\"attributes\":{\"bottom_units\":\"screen\",\"fill_alpha\":{\"value\":0.5},\"fill_color\":{\"value\":\"lightgrey\"},\"left_units\":\"screen\",\"level\":\"overlay\",\"line_alpha\":{\"value\":1.0},\"line_color\":{\"value\":\"black\"},\"line_dash\":[4,4],\"line_width\":{\"value\":2},\"render_mode\":\"css\",\"right_units\":\"screen\",\"top_units\":\"screen\"},\"id\":\"1533\",\"type\":\"BoxAnnotation\"},{\"attributes\":{},\"id\":\"1510\",\"type\":\"PanTool\"},{\"attributes\":{\"callback\":null},\"id\":\"1494\",\"type\":\"DataRange1d\"},{\"attributes\":{},\"id\":\"1531\",\"type\":\"BasicTickFormatter\"},{\"attributes\":{\"bottom\":{\"value\":0},\"fill_alpha\":{\"value\":0.1},\"fill_color\":{\"value\":\"#1f77b4\"},\"left\":{\"field\":\"left\"},\"line_alpha\":{\"value\":0.1},\"line_color\":{\"value\":\"#1f77b4\"},\"right\":{\"field\":\"right\"},\"top\":{\"field\":\"top\"}},\"id\":\"1525\",\"type\":\"Quad\"},{\"attributes\":{\"bottom\":{\"value\":0},\"fill_color\":{\"value\":\"#1f77b4\"},\"left\":{\"field\":\"left\"},\"right\":{\"field\":\"right\"},\"top\":{\"field\":\"top\"}},\"id\":\"1524\",\"type\":\"Quad\"},{\"attributes\":{\"callback\":null,\"end\":4.135,\"start\":1.165},\"id\":\"1492\",\"type\":\"Range1d\"},{\"attributes\":{\"data_source\":{\"id\":\"1523\",\"type\":\"ColumnDataSource\"},\"glyph\":{\"id\":\"1524\",\"type\":\"Quad\"},\"hover_glyph\":null,\"muted_glyph\":null,\"nonselection_glyph\":{\"id\":\"1525\",\"type\":\"Quad\"},\"selection_glyph\":null,\"view\":{\"id\":\"1527\",\"type\":\"CDSView\"}},\"id\":\"1526\",\"type\":\"GlyphRenderer\"},{\"attributes\":{\"axis_label\":\"Frequency\",\"formatter\":{\"id\":\"1531\",\"type\":\"BasicTickFormatter\"},\"ticker\":{\"id\":\"1506\",\"type\":\"BasicTicker\"}},\"id\":\"1505\",\"type\":\"LinearAxis\"},{\"attributes\":{\"callback\":null,\"data\":{\"left\":[1.3,1.354,1.4080000000000001,1.4620000000000002,1.516,1.57,1.624,1.6780000000000002,1.7320000000000002,1.786,1.84,1.8940000000000001,1.9480000000000002,2.0020000000000002,2.056,2.1100000000000003,2.164,2.218,2.2720000000000002,2.326,2.38,2.434,2.4880000000000004,2.5420000000000003,2.596,2.6500000000000004,2.704,2.758,2.8120000000000003,2.8660000000000005,2.92,2.974,3.0280000000000005,3.0820000000000003,3.136,3.1900000000000004,3.244,3.298,3.3520000000000003,3.4060000000000006,3.46,3.5140000000000002,3.5680000000000005,3.622,3.676,3.7300000000000004,3.7840000000000007,3.838,3.8920000000000003,3.9460000000000006],\"right\":[1.354,1.4080000000000001,1.4620000000000002,1.516,1.57,1.624,1.6780000000000002,1.7320000000000002,1.786,1.84,1.8940000000000001,1.9480000000000002,2.0020000000000002,2.056,2.1100000000000003,2.164,2.218,2.2720000000000002,2.326,2.38,2.434,2.4880000000000004,2.5420000000000003,2.596,2.6500000000000004,2.704,2.758,2.8120000000000003,2.8660000000000005,2.92,2.974,3.0280000000000005,3.0820000000000003,3.136,3.1900000000000004,3.244,3.298,3.3520000000000003,3.4060000000000006,3.46,3.5140000000000002,3.5680000000000005,3.622,3.676,3.7300000000000004,3.7840000000000007,3.838,3.8920000000000003,3.9460000000000006,4.0],\"top\":[0,0,0,1,1,0,5,4,6,8,21,37,50,57,65,76,54,30,24,16,7,3,2,1,0,0,0,0,0,0,0,0,0,0,0,1,0,1,0,0,0,1,0,0,1,0,0,0,0,0]},\"selected\":{\"id\":\"1575\",\"type\":\"Selection\"},\"selection_policy\":{\"id\":\"1576\",\"type\":\"UnionRenderers\"}},\"id\":\"1523\",\"type\":\"ColumnDataSource\"},{\"attributes\":{},\"id\":\"1575\",\"type\":\"Selection\"},{\"attributes\":{\"source\":{\"id\":\"1523\",\"type\":\"ColumnDataSource\"}},\"id\":\"1527\",\"type\":\"CDSView\"},{\"attributes\":{},\"id\":\"1506\",\"type\":\"BasicTicker\"},{\"attributes\":{},\"id\":\"1511\",\"type\":\"WheelZoomTool\"},{\"attributes\":{},\"id\":\"1501\",\"type\":\"BasicTicker\"},{\"attributes\":{},\"id\":\"1576\",\"type\":\"UnionRenderers\"},{\"attributes\":{\"ticker\":{\"id\":\"1501\",\"type\":\"BasicTicker\"}},\"id\":\"1504\",\"type\":\"Grid\"},{\"attributes\":{},\"id\":\"1498\",\"type\":\"LinearScale\"},{\"attributes\":{},\"id\":\"1529\",\"type\":\"BasicTickFormatter\"},{\"attributes\":{},\"id\":\"1515\",\"type\":\"HelpTool\"},{\"attributes\":{\"axis_label\":\"Het/hom rate\",\"formatter\":{\"id\":\"1529\",\"type\":\"BasicTickFormatter\"},\"ticker\":{\"id\":\"1501\",\"type\":\"BasicTicker\"}},\"id\":\"1500\",\"type\":\"LinearAxis\"}],\"root_ids\":[\"1490\"]},\"title\":\"Bokeh Application\",\"version\":\"1.2.0\"}};\n",
       "  var render_items = [{\"docid\":\"83a7bb3b-c713-4708-a278-5aae675cf276\",\"roots\":{\"1490\":\"906bec2e-a63a-4c7c-b9bb-9daaec185352\"}}];\n",
       "  root.Bokeh.embed.embed_items_notebook(docs_json, render_items);\n",
       "\n",
       "  }\n",
       "  if (root.Bokeh !== undefined) {\n",
       "    embed_document(root);\n",
       "  } else {\n",
       "    var attempts = 0;\n",
       "    var timer = setInterval(function(root) {\n",
       "      if (root.Bokeh !== undefined) {\n",
       "        embed_document(root);\n",
       "        clearInterval(timer);\n",
       "      }\n",
       "      attempts++;\n",
       "      if (attempts > 100) {\n",
       "        console.log(\"Bokeh: ERROR: Unable to run BokehJS code because BokehJS library is missing\");\n",
       "        clearInterval(timer);\n",
       "      }\n",
       "    }, 10, root)\n",
       "  }\n",
       "})(window);"
      ],
      "application/vnd.bokehjs_exec.v0+json": ""
     },
     "metadata": {
      "application/vnd.bokehjs_exec.v0+json": {
       "id": "1490"
      }
     },
     "output_type": "display_data"
    }
   ],
   "source": [
    "p = hl.plot.histogram(mt.sample_qc.r_het_hom_var, range=(1.3,4), legend='Het/hom rate')\n",
    "p.plot_width = 800\n",
    "p.plot_height = 500\n",
    "show(p)"
   ]
  },
  {
   "cell_type": "markdown",
   "id": "controlling-reconstruction",
   "metadata": {},
   "source": [
    "Looks like there are a few samples with a lot higher het/hom rate than the rest of the samples. Let's check whether this is due to poor coverage."
   ]
  },
  {
   "cell_type": "code",
   "execution_count": 20,
   "id": "standing-flavor",
   "metadata": {},
   "outputs": [],
   "source": [
    "mt = mt.annotate_cols(high_hom_het=mt.sample_qc.r_het_hom_var > 3)"
   ]
  },
  {
   "cell_type": "code",
   "execution_count": 21,
   "id": "wooden-aging",
   "metadata": {},
   "outputs": [
    {
     "data": {
      "text/html": [
       "\n",
       "\n",
       "\n",
       "\n",
       "\n",
       "\n",
       "  <div class=\"bk-root\" id=\"67531150-86a4-47f1-aedc-b1226d6b2775\" data-root-id=\"1626\"></div>\n"
      ]
     },
     "metadata": {},
     "output_type": "display_data"
    },
    {
     "data": {
      "application/javascript": [
       "(function(root) {\n",
       "  function embed_document(root) {\n",
       "    \n",
       "  var docs_json = {\"80ae4ca4-9072-4de4-b6ab-a6d6eb447dce\":{\"roots\":{\"references\":[{\"attributes\":{\"below\":[{\"id\":\"1636\",\"type\":\"LinearAxis\"}],\"center\":[{\"id\":\"1640\",\"type\":\"Grid\"},{\"id\":\"1645\",\"type\":\"Grid\"}],\"left\":[{\"id\":\"1641\",\"type\":\"LinearAxis\"},{\"id\":\"1677\",\"type\":\"Legend\"},{\"id\":\"1678\",\"type\":\"ColorBar\"}],\"plot_height\":600,\"plot_width\":600,\"renderers\":[{\"id\":\"1668\",\"type\":\"GlyphRenderer\"},{\"id\":\"1674\",\"type\":\"GlyphRenderer\"}],\"title\":null,\"toolbar\":{\"id\":\"1652\",\"type\":\"Toolbar\"},\"x_range\":{\"id\":\"1628\",\"type\":\"DataRange1d\"},\"x_scale\":{\"id\":\"1632\",\"type\":\"LinearScale\"},\"y_range\":{\"id\":\"1630\",\"type\":\"DataRange1d\"},\"y_scale\":{\"id\":\"1634\",\"type\":\"LinearScale\"}},\"id\":\"1626\",\"subtype\":\"Figure\",\"type\":\"Plot\"},{\"attributes\":{\"callback\":null,\"tooltips\":[[\"x\",\"@x\"],[\"y\",\"@y\"],[\"Sample\",\"@Sample\"],[\"label\",\"@label\"]]},\"id\":\"1660\",\"type\":\"HoverTool\"},{\"attributes\":{},\"id\":\"1634\",\"type\":\"LinearScale\"},{\"attributes\":{\"axis_label\":\"het/hom rate\",\"formatter\":{\"id\":\"1724\",\"type\":\"BasicTickFormatter\"},\"ticker\":{\"id\":\"1642\",\"type\":\"BasicTicker\"}},\"id\":\"1641\",\"type\":\"LinearAxis\"},{\"attributes\":{\"factors\":[\"false\",\"true\"],\"palette\":[\"#1f77b4\",\"#ff7f0e\",\"#2ca02c\",\"#d62728\",\"#9467bd\",\"#8c564b\",\"#e377c2\",\"#7f7f7f\",\"#bcbd22\",\"#17becf\"]},\"id\":\"1662\",\"type\":\"CategoricalColorMapper\"},{\"attributes\":{\"column_name\":\"label\",\"group\":\"true\"},\"id\":\"1669\",\"type\":\"GroupFilter\"},{\"attributes\":{\"filters\":[{\"id\":\"1663\",\"type\":\"GroupFilter\"}],\"source\":{\"id\":\"1661\",\"type\":\"ColumnDataSource\"}},\"id\":\"1664\",\"type\":\"CDSView\"},{\"attributes\":{},\"id\":\"1728\",\"type\":\"Selection\"},{\"attributes\":{\"callback\":null},\"id\":\"1630\",\"type\":\"DataRange1d\"},{\"attributes\":{\"label\":{\"value\":\"true\"},\"renderers\":[{\"id\":\"1674\",\"type\":\"GlyphRenderer\"}]},\"id\":\"1676\",\"type\":\"LegendItem\"},{\"attributes\":{},\"id\":\"1726\",\"type\":\"BasicTickFormatter\"},{\"attributes\":{},\"id\":\"1637\",\"type\":\"BasicTicker\"},{\"attributes\":{\"overlay\":{\"id\":\"1730\",\"type\":\"BoxAnnotation\"}},\"id\":\"1648\",\"type\":\"BoxZoomTool\"},{\"attributes\":{},\"id\":\"1650\",\"type\":\"ResetTool\"},{\"attributes\":{\"fill_alpha\":{\"value\":0.1},\"fill_color\":{\"value\":\"#1f77b4\"},\"line_alpha\":{\"value\":0.1},\"line_color\":{\"value\":\"#1f77b4\"},\"x\":{\"field\":\"x\"},\"y\":{\"field\":\"y\"}},\"id\":\"1673\",\"type\":\"Circle\"},{\"attributes\":{},\"id\":\"1647\",\"type\":\"WheelZoomTool\"},{\"attributes\":{},\"id\":\"1724\",\"type\":\"BasicTickFormatter\"},{\"attributes\":{\"ticker\":{\"id\":\"1637\",\"type\":\"BasicTicker\"}},\"id\":\"1640\",\"type\":\"Grid\"},{\"attributes\":{\"fill_color\":{\"field\":\"label\",\"transform\":{\"id\":\"1662\",\"type\":\"CategoricalColorMapper\"}},\"line_color\":{\"field\":\"label\",\"transform\":{\"id\":\"1662\",\"type\":\"CategoricalColorMapper\"}},\"x\":{\"field\":\"x\"},\"y\":{\"field\":\"y\"}},\"id\":\"1672\",\"type\":\"Circle\"},{\"attributes\":{\"data_source\":{\"id\":\"1661\",\"type\":\"ColumnDataSource\"},\"glyph\":{\"id\":\"1666\",\"type\":\"Circle\"},\"hover_glyph\":null,\"muted_glyph\":null,\"nonselection_glyph\":{\"id\":\"1667\",\"type\":\"Circle\"},\"selection_glyph\":null,\"view\":{\"id\":\"1664\",\"type\":\"CDSView\"}},\"id\":\"1668\",\"type\":\"GlyphRenderer\"},{\"attributes\":{},\"id\":\"1722\",\"type\":\"BasicTickFormatter\"},{\"attributes\":{\"color_mapper\":null,\"formatter\":{\"id\":\"1726\",\"type\":\"BasicTickFormatter\"},\"ticker\":{\"id\":\"1727\",\"type\":\"BasicTicker\"},\"visible\":false},\"id\":\"1678\",\"type\":\"ColorBar\"},{\"attributes\":{},\"id\":\"1651\",\"type\":\"HelpTool\"},{\"attributes\":{},\"id\":\"1729\",\"type\":\"UnionRenderers\"},{\"attributes\":{\"data_source\":{\"id\":\"1661\",\"type\":\"ColumnDataSource\"},\"glyph\":{\"id\":\"1672\",\"type\":\"Circle\"},\"hover_glyph\":null,\"muted_glyph\":null,\"nonselection_glyph\":{\"id\":\"1673\",\"type\":\"Circle\"},\"selection_glyph\":null,\"view\":{\"id\":\"1670\",\"type\":\"CDSView\"}},\"id\":\"1674\",\"type\":\"GlyphRenderer\"},{\"attributes\":{},\"id\":\"1632\",\"type\":\"LinearScale\"},{\"attributes\":{\"click_policy\":\"hide\",\"items\":[{\"id\":\"1675\",\"type\":\"LegendItem\"},{\"id\":\"1676\",\"type\":\"LegendItem\"}]},\"id\":\"1677\",\"type\":\"Legend\"},{\"attributes\":{},\"id\":\"1646\",\"type\":\"PanTool\"},{\"attributes\":{\"label\":{\"value\":\"false\"},\"renderers\":[{\"id\":\"1668\",\"type\":\"GlyphRenderer\"}]},\"id\":\"1675\",\"type\":\"LegendItem\"},{\"attributes\":{},\"id\":\"1642\",\"type\":\"BasicTicker\"},{\"attributes\":{\"callback\":null,\"data\":{\"Sample\":[\"FN000538\",\"FN000755\",\"FN000938\",\"FN000020\",\"FN000761\",\"FN000544\",\"FN000557\",\"FN000559\",\"FN001110\",\"FN000277\",\"FN000862\",\"FN000953\",\"FN000618\",\"FN000217\",\"FN000925\",\"FN000878\",\"FN001020\",\"FN000893\",\"FN000558\",\"FN000206\",\"FN000412\",\"FN000254\",\"FN000902\",\"FN001109\",\"FN000190\",\"FN000762\",\"FN001415\",\"FN000017\",\"FN000018\",\"FN000931\",\"FN000562\",\"FN000507\",\"FN001092\",\"FN001416\",\"FN000504\",\"FN001251\",\"FN000396\",\"FN000019\",\"FN000369\",\"FN000399\",\"FN000476\",\"FN000873\",\"FN001346\",\"FN000804\",\"FN000940\",\"FN000639\",\"FN000506\",\"FN000635\",\"FN000182\",\"FN001022\",\"FN000817\",\"FN001377\",\"FN001116\",\"FN000016\",\"FN000298\",\"FN001249\",\"FN000152\",\"FN001247\",\"FN001433\",\"FN000251\",\"FN000178\",\"FN000394\",\"FN000015\",\"FN000749\",\"FN000933\",\"FN000132\",\"FN000122\",\"FN000759\",\"FN000629\",\"FN000326\",\"FN000502\",\"FN001045\",\"FN000934\",\"FN000138\",\"FN000405\",\"FN001089\",\"FN000512\",\"FN001021\",\"FN000879\",\"FN000414\",\"FN000240\",\"FN000697\",\"FN000317\",\"FN000400\",\"FN000537\",\"FN001409\",\"FN001025\",\"FN000566\",\"FN001115\",\"FN001093\",\"FN000617\",\"FN000763\",\"FN000281\",\"FN000242\",\"FN001488\",\"FN000929\",\"FN001094\",\"FN000867\",\"FN000898\",\"FN000778\",\"FN000693\",\"FN000866\",\"FN000427\",\"FN000899\",\"FN001398\",\"FN000634\",\"FN000125\",\"FN000411\",\"FN000011\",\"FN000935\",\"FN000583\",\"FN000534\",\"FN000671\",\"FN000442\",\"FN000957\",\"FN000124\",\"FN001390\",\"FN000549\",\"FN001379\",\"FN000105\",\"FN000116\",\"FN001130\",\"FN000377\",\"FN001001\",\"FN001157\",\"FN000071\",\"FN001046\",\"FN001118\",\"FN000306\",\"FN000320\",\"FN000824\",\"FN000904\",\"FN000774\",\"FN000238\",\"FN000021\",\"FN000435\",\"FN001381\",\"FN001120\",\"FN001400\",\"FN000932\",\"FN000930\",\"FN000447\",\"FN000619\",\"FN000474\",\"FN000810\",\"FN000106\",\"FN001138\",\"FN000022\",\"FN000969\",\"FN000777\",\"FN000742\",\"FN000050\",\"FN000393\",\"FN000119\",\"FN000917\",\"FN000875\",\"FN000906\",\"FN001143\",\"FN000923\",\"FN000870\",\"FN000389\",\"FN001410\",\"FN000469\",\"FN000131\",\"FN000305\",\"FN000477\",\"FN000121\",\"FN000023\",\"FN001426\",\"FN000625\",\"FN000009\",\"FN000966\",\"FN000770\",\"FN001088\",\"FN000111\",\"FN000738\",\"FN001523\",\"FN000955\",\"FN001527\",\"FN001384\",\"FN000882\",\"FN000771\",\"FN000602\",\"FN000703\",\"FN000187\",\"FN001482\",\"FN000877\",\"FN000244\",\"FN000191\",\"FN000941\",\"FN000569\",\"FN001132\",\"FN001366\",\"FN000024\",\"FN000541\",\"FN000971\",\"FN000049\",\"FN000397\",\"FN000769\",\"FN000289\",\"FN000236\",\"FN000884\",\"FN000489\",\"FN000958\",\"FN000456\",\"FN000127\",\"FN000954\",\"FN000408\",\"FN000002\",\"FN001135\",\"FN001431\",\"FN001522\",\"FN000920\",\"FN000487\",\"FN000581\",\"FN001371\",\"FN000204\",\"FN001383\",\"FN000895\",\"FN000038\",\"FN000416\",\"FN000928\",\"FN000820\",\"FN000510\",\"FN001017\",\"FN001437\",\"FN000278\",\"FN000410\",\"FN000909\",\"FN000889\",\"FN000599\",\"FN000450\",\"FN000914\",\"FN000854\",\"FN000313\",\"FN000531\",\"FN000392\",\"FN000970\",\"FN000527\",\"FN001389\",\"FN000200\",\"FN000704\",\"FN000370\",\"FN001394\",\"FN000528\",\"FN000055\",\"FN001127\",\"FN001439\",\"FN000248\",\"FN000607\",\"FN000513\",\"FN000943\",\"FN000809\",\"FN000045\",\"FN000586\",\"FN001401\",\"FN000034\",\"FN000473\",\"FN001425\",\"FN000776\",\"FN000380\",\"FN001091\",\"FN000159\",\"FN000014\",\"FN000282\",\"FN000054\",\"FN000495\",\"FN000475\",\"FN000259\",\"FN000794\",\"FN000924\",\"FN000303\",\"FN001411\",\"FN001023\",\"FN001486\",\"FN000780\",\"FN000496\",\"FN000301\",\"FN000322\",\"FN000612\",\"FN000470\",\"FN000628\",\"FN000896\",\"FN000249\",\"FN000962\",\"FN000040\",\"FN001392\",\"FN000948\",\"FN001085\",\"FN000252\",\"FN000529\",\"FN000233\",\"FN000032\",\"FN001432\",\"FN001134\",\"FN000053\",\"FN000905\",\"FN001395\",\"FN000446\",\"FN000518\",\"FN001490\",\"FN000403\",\"FN000309\",\"FN000237\",\"FN001133\",\"FN000892\",\"FN001090\",\"FN000360\",\"FN000521\",\"FN000224\",\"FN000001\",\"FN001111\",\"FN000926\",\"FN000284\",\"FN001019\",\"FN000123\",\"FN000890\",\"FN000998\",\"FN000387\",\"FN000103\",\"FN000035\",\"FN001414\",\"FN000498\",\"FN000440\",\"FN001417\",\"FN000036\",\"FN000417\",\"FN001418\",\"FN000563\",\"FN000949\",\"FN000947\",\"FN000886\",\"FN001440\",\"FN001413\",\"FN001347\",\"FN000767\",\"FN000216\",\"FN000960\",\"FN000526\",\"FN000037\",\"FN000913\",\"FN000488\",\"FN000881\",\"FN000374\",\"FN000052\",\"FN000061\",\"FN000525\",\"FN000110\",\"FN000177\",\"FN000985\",\"FN000807\",\"FN000922\",\"FN000561\",\"FN001393\",\"FN000160\",\"FN001427\",\"FN000386\",\"FN000908\",\"FN000126\",\"FN000169\",\"FN001407\",\"FN001374\",\"FN000130\",\"FN000768\",\"FN000546\",\"FN000523\",\"FN000376\",\"FN000888\",\"FN000567\",\"FN001405\",\"FN001408\",\"FN001150\",\"FN000076\",\"FN000445\",\"FN000077\",\"FN000501\",\"FN000451\",\"FN000483\",\"FN001152\",\"FN001154\",\"FN000912\",\"FN000430\",\"FN001485\",\"FN000942\",\"FN000388\",\"FN000551\",\"FN000522\",\"FN000137\",\"FN000199\",\"FN001018\",\"FN000766\",\"FN001082\",\"FN001149\",\"FN001403\",\"FN001430\",\"FN000033\",\"FN000012\",\"FN000439\",\"FN000184\",\"FN000591\",\"FN000375\",\"FN000108\",\"FN000180\",\"FN000426\",\"FN000545\",\"FN001151\",\"FN000519\",\"FN000861\",\"FN000554\",\"FN000871\",\"FN001428\",\"FN000511\",\"FN000735\",\"FN001142\",\"FN000107\",\"FN000952\",\"FN000097\",\"FN000088\",\"FN001155\",\"FN000441\",\"FN000418\",\"FN001444\",\"FN000092\",\"FN000197\",\"FN001004\",\"FN000550\",\"FN000951\",\"FN000589\",\"FN001441\",\"FN000604\",\"FN001434\",\"FN000939\",\"FN000424\",\"FN001086\",\"FN001380\",\"FN001158\",\"FN000887\",\"FN000572\",\"FN000478\",\"FN001404\",\"FN001084\",\"FN000598\",\"FN001438\",\"FN000419\",\"FN000163\",\"FN000461\",\"FN001436\",\"FN001139\",\"FN000874\",\"FN000950\",\"FN001053\",\"FN001435\",\"FN000156\",\"FN000395\",\"FN000472\",\"FN000484\",\"FN000421\",\"FN000215\",\"FN000185\",\"FN001003\",\"FN001429\",\"FN001153\",\"FN000158\",\"FN000139\",\"FN000945\",\"FN001011\"],\"index\":[0,1,2,3,4,5,6,7,8,9,10,11,12,13,14,15,16,17,18,19,20,21,22,23,24,25,26,27,28,29,30,31,32,33,34,35,36,37,38,39,40,41,42,43,44,45,46,47,48,49,50,51,52,53,54,55,56,57,58,59,60,61,62,63,64,65,66,67,68,69,70,71,72,73,74,75,76,77,78,79,80,81,82,83,84,85,86,87,88,89,90,91,92,93,94,95,96,97,98,99,100,101,102,103,104,105,106,107,108,109,110,111,112,113,114,115,116,117,118,119,120,121,122,123,124,125,126,127,128,129,130,131,132,133,134,135,136,137,138,139,140,141,142,143,144,145,146,147,148,149,150,151,152,153,154,155,156,157,158,159,160,161,162,163,164,165,166,167,168,169,170,171,172,173,174,175,176,177,178,179,180,181,182,183,184,185,186,187,188,189,190,191,192,193,194,195,196,197,198,199,200,201,202,203,204,205,206,207,208,209,210,211,212,213,214,215,216,217,218,219,220,221,222,223,224,225,226,227,228,229,230,231,232,233,234,235,236,237,238,239,240,241,242,243,244,245,246,247,248,249,250,251,252,253,254,255,256,257,258,259,260,261,262,263,264,265,266,267,268,269,270,271,272,273,274,275,276,277,278,279,280,281,282,283,284,285,286,287,288,289,290,291,292,293,294,295,296,297,298,299,300,301,302,303,304,305,306,307,308,309,310,311,312,313,314,315,316,317,318,319,320,321,322,323,324,325,326,327,328,329,330,331,332,333,334,335,336,337,338,339,340,341,342,343,344,345,346,347,348,349,350,351,352,353,354,355,356,357,358,359,360,361,362,363,364,365,366,367,368,369,370,371,372,373,374,375,376,377,378,379,380,381,382,383,384,385,386,387,388,389,390,391,392,393,394,395,396,397,398,399,400,401,402,403,404,405,406,407,408,409,410,411,412,413,414,415,416,417,418,419,420,421,422,423,424,425,426,427,428,429,430,431,432,433,434,435,436,437,438,439,440,441,442,443,444,445,446,447,448,449,450,451,452,453,454,455,456,457,458,459,460,461,462,463,464,465],\"label\":[\"false\",\"false\",\"false\",\"false\",\"false\",\"false\",\"false\",\"false\",\"false\",\"false\",\"false\",\"false\",\"false\",\"false\",\"false\",\"false\",\"false\",\"false\",\"false\",\"false\",\"false\",\"false\",\"false\",\"false\",\"false\",\"false\",\"false\",\"false\",\"false\",\"false\",\"false\",\"false\",\"false\",\"false\",\"false\",\"false\",\"false\",\"false\",\"false\",\"false\",\"false\",\"false\",\"false\",\"false\",\"true\",\"false\",\"false\",\"false\",\"false\",\"false\",\"false\",\"false\",\"false\",\"false\",\"false\",\"false\",\"false\",\"false\",\"false\",\"false\",\"false\",\"false\",\"false\",\"false\",\"false\",\"false\",\"false\",\"false\",\"false\",\"false\",\"false\",\"false\",\"false\",\"false\",\"false\",\"false\",\"false\",\"false\",\"false\",\"false\",\"false\",\"false\",\"false\",\"false\",\"false\",\"false\",\"false\",\"false\",\"false\",\"false\",\"false\",\"false\",\"false\",\"false\",\"false\",\"false\",\"false\",\"false\",\"false\",\"false\",\"false\",\"false\",\"false\",\"false\",\"false\",\"false\",\"false\",\"false\",\"false\",\"false\",\"false\",\"false\",\"false\",\"false\",\"false\",\"false\",\"false\",\"false\",\"false\",\"false\",\"false\",\"false\",\"false\",\"false\",\"false\",\"false\",\"false\",\"false\",\"false\",\"false\",\"false\",\"false\",\"false\",\"false\",\"false\",\"false\",\"false\",\"false\",\"false\",\"false\",\"false\",\"false\",\"false\",\"false\",\"false\",\"false\",\"false\",\"false\",\"false\",\"false\",\"false\",\"false\",\"false\",\"false\",\"false\",\"false\",\"false\",\"false\",\"false\",\"false\",\"false\",\"false\",\"false\",\"false\",\"false\",\"false\",\"false\",\"false\",\"false\",\"false\",\"false\",\"false\",\"false\",\"false\",\"false\",\"false\",\"false\",\"false\",\"false\",\"false\",\"false\",\"false\",\"false\",\"false\",\"false\",\"false\",\"false\",\"false\",\"false\",\"false\",\"false\",\"false\",\"false\",\"false\",\"false\",\"false\",\"false\",\"false\",\"false\",\"false\",\"false\",\"false\",\"false\",\"false\",\"false\",\"false\",\"false\",\"false\",\"false\",\"false\",\"false\",\"false\",\"false\",\"false\",\"false\",\"false\",\"false\",\"false\",\"false\",\"false\",\"false\",\"false\",\"false\",\"false\",\"false\",\"false\",\"false\",\"false\",\"true\",\"false\",\"false\",\"false\",\"false\",\"false\",\"false\",\"false\",\"false\",\"false\",\"false\",\"false\",\"false\",\"false\",\"false\",\"false\",\"false\",\"false\",\"false\",\"false\",\"false\",\"false\",\"false\",\"false\",\"false\",\"false\",\"false\",\"false\",\"false\",\"false\",\"false\",\"false\",\"false\",\"false\",\"false\",\"false\",\"false\",\"false\",\"false\",\"false\",\"false\",\"false\",\"false\",\"false\",\"false\",\"false\",\"false\",\"false\",\"false\",\"false\",\"false\",\"false\",\"false\",\"false\",\"false\",\"false\",\"false\",\"false\",\"false\",\"false\",\"false\",\"false\",\"false\",\"false\",\"false\",\"false\",\"false\",\"false\",\"false\",\"false\",\"false\",\"false\",\"false\",\"false\",\"false\",\"false\",\"false\",\"false\",\"false\",\"false\",\"false\",\"false\",\"false\",\"false\",\"false\",\"false\",\"true\",\"false\",\"false\",\"false\",\"false\",\"false\",\"false\",\"false\",\"false\",\"false\",\"false\",\"false\",\"false\",\"false\",\"false\",\"false\",\"false\",\"false\",\"false\",\"false\",\"false\",\"false\",\"false\",\"false\",\"false\",\"false\",\"false\",\"false\",\"false\",\"false\",\"false\",\"false\",\"false\",\"false\",\"false\",\"false\",\"false\",\"false\",\"false\",\"false\",\"false\",\"false\",\"false\",\"false\",\"false\",\"false\",\"false\",\"false\",\"false\",\"false\",\"false\",\"false\",\"false\",\"false\",\"false\",\"false\",\"false\",\"false\",\"false\",\"false\",\"false\",\"false\",\"false\",\"false\",\"false\",\"false\",\"false\",\"false\",\"false\",\"false\",\"false\",\"false\",\"false\",\"false\",\"false\",\"true\",\"false\",\"false\",\"false\",\"false\",\"false\",\"false\",\"false\",\"false\",\"false\",\"false\",\"false\",\"false\",\"false\",\"false\",\"false\",\"false\",\"false\",\"false\",\"false\",\"false\",\"false\",\"false\",\"false\",\"false\",\"false\",\"false\",\"false\",\"false\",\"false\",\"false\",\"false\",\"false\",\"false\",\"false\",\"false\",\"false\",\"false\",\"false\",\"false\",\"false\",\"false\",\"false\",\"false\",\"false\",\"false\",\"false\",\"false\",\"false\",\"false\",\"false\",\"false\",\"false\",\"false\",\"false\",\"false\",\"false\",\"false\",\"false\",\"false\",\"false\",\"false\",\"false\",\"false\",\"false\",\"false\",\"false\",\"false\",\"false\",\"false\",\"false\",\"false\",\"false\",\"false\",\"false\",\"false\",\"false\"],\"x\":{\"__ndarray__\":\"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\",\"dtype\":\"float64\",\"shape\":[466]},\"y\":{\"__ndarray__\":\"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\",\"dtype\":\"float64\",\"shape\":[466]}},\"selected\":{\"id\":\"1728\",\"type\":\"Selection\"},\"selection_policy\":{\"id\":\"1729\",\"type\":\"UnionRenderers\"}},\"id\":\"1661\",\"type\":\"ColumnDataSource\"},{\"attributes\":{},\"id\":\"1727\",\"type\":\"BasicTicker\"},{\"attributes\":{\"callback\":null},\"id\":\"1628\",\"type\":\"DataRange1d\"},{\"attributes\":{\"active_drag\":\"auto\",\"active_inspect\":\"auto\",\"active_multi\":null,\"active_scroll\":\"auto\",\"active_tap\":\"auto\",\"tools\":[{\"id\":\"1646\",\"type\":\"PanTool\"},{\"id\":\"1647\",\"type\":\"WheelZoomTool\"},{\"id\":\"1648\",\"type\":\"BoxZoomTool\"},{\"id\":\"1649\",\"type\":\"SaveTool\"},{\"id\":\"1650\",\"type\":\"ResetTool\"},{\"id\":\"1651\",\"type\":\"HelpTool\"},{\"id\":\"1660\",\"type\":\"HoverTool\"}]},\"id\":\"1652\",\"type\":\"Toolbar\"},{\"attributes\":{\"dimension\":1,\"ticker\":{\"id\":\"1642\",\"type\":\"BasicTicker\"}},\"id\":\"1645\",\"type\":\"Grid\"},{\"attributes\":{\"fill_alpha\":{\"value\":0.1},\"fill_color\":{\"value\":\"#1f77b4\"},\"line_alpha\":{\"value\":0.1},\"line_color\":{\"value\":\"#1f77b4\"},\"x\":{\"field\":\"x\"},\"y\":{\"field\":\"y\"}},\"id\":\"1667\",\"type\":\"Circle\"},{\"attributes\":{\"bottom_units\":\"screen\",\"fill_alpha\":{\"value\":0.5},\"fill_color\":{\"value\":\"lightgrey\"},\"left_units\":\"screen\",\"level\":\"overlay\",\"line_alpha\":{\"value\":1.0},\"line_color\":{\"value\":\"black\"},\"line_dash\":[4,4],\"line_width\":{\"value\":2},\"render_mode\":\"css\",\"right_units\":\"screen\",\"top_units\":\"screen\"},\"id\":\"1730\",\"type\":\"BoxAnnotation\"},{\"attributes\":{\"axis_label\":\"DP mean\",\"formatter\":{\"id\":\"1722\",\"type\":\"BasicTickFormatter\"},\"ticker\":{\"id\":\"1637\",\"type\":\"BasicTicker\"}},\"id\":\"1636\",\"type\":\"LinearAxis\"},{\"attributes\":{\"filters\":[{\"id\":\"1669\",\"type\":\"GroupFilter\"}],\"source\":{\"id\":\"1661\",\"type\":\"ColumnDataSource\"}},\"id\":\"1670\",\"type\":\"CDSView\"},{\"attributes\":{\"column_name\":\"label\",\"group\":\"false\"},\"id\":\"1663\",\"type\":\"GroupFilter\"},{\"attributes\":{\"fill_color\":{\"field\":\"label\",\"transform\":{\"id\":\"1662\",\"type\":\"CategoricalColorMapper\"}},\"line_color\":{\"field\":\"label\",\"transform\":{\"id\":\"1662\",\"type\":\"CategoricalColorMapper\"}},\"x\":{\"field\":\"x\"},\"y\":{\"field\":\"y\"}},\"id\":\"1666\",\"type\":\"Circle\"},{\"attributes\":{},\"id\":\"1649\",\"type\":\"SaveTool\"}],\"root_ids\":[\"1626\"]},\"title\":\"Bokeh Application\",\"version\":\"1.2.0\"}};\n",
       "  var render_items = [{\"docid\":\"80ae4ca4-9072-4de4-b6ab-a6d6eb447dce\",\"roots\":{\"1626\":\"67531150-86a4-47f1-aedc-b1226d6b2775\"}}];\n",
       "  root.Bokeh.embed.embed_items_notebook(docs_json, render_items);\n",
       "\n",
       "  }\n",
       "  if (root.Bokeh !== undefined) {\n",
       "    embed_document(root);\n",
       "  } else {\n",
       "    var attempts = 0;\n",
       "    var timer = setInterval(function(root) {\n",
       "      if (root.Bokeh !== undefined) {\n",
       "        embed_document(root);\n",
       "        clearInterval(timer);\n",
       "      }\n",
       "      attempts++;\n",
       "      if (attempts > 100) {\n",
       "        console.log(\"Bokeh: ERROR: Unable to run BokehJS code because BokehJS library is missing\");\n",
       "        clearInterval(timer);\n",
       "      }\n",
       "    }, 10, root)\n",
       "  }\n",
       "})(window);"
      ],
      "application/vnd.bokehjs_exec.v0+json": ""
     },
     "metadata": {
      "application/vnd.bokehjs_exec.v0+json": {
       "id": "1626"
      }
     },
     "output_type": "display_data"
    }
   ],
   "source": [
    "p = hl.plot.scatter(mt.sample_qc.dp_stats.mean, mt.sample_qc.r_het_hom_var, xlabel='DP mean', ylabel='het/hom rate',\n",
    "                    hover_fields={'Sample': mt.s}, label=mt.high_hom_het)\n",
    "p.plot_width = 600\n",
    "p.plot_height = 600\n",
    "show(p)"
   ]
  },
  {
   "cell_type": "markdown",
   "id": "fundamental-pontiac",
   "metadata": {},
   "source": [
    "The plot above indicates these samples have similar coverage as the other samples, so that doesn't explain the high het/hom rate.\n",
    "\n",
    "We can also check the MultiQC reports of these samples (file paths below), and we see that they are all of reasonable quality."
   ]
  },
  {
   "cell_type": "code",
   "execution_count": 22,
   "id": "incomplete-demographic",
   "metadata": {},
   "outputs": [
    {
     "name": "stdout",
     "output_type": "stream",
     "text": [
      "/data/projects/fargen_phase_1/data/single_sample_data/FN000909/multiqc/multiqc_report.html\n",
      "/data/projects/fargen_phase_1/data/single_sample_data/FN001019/multiqc/multiqc_report.html\n",
      "/data/projects/fargen_phase_1/data/single_sample_data/FN000940/multiqc/multiqc_report.html\n",
      "/data/projects/fargen_phase_1/data/single_sample_data/FN001018/multiqc/multiqc_report.html\n"
     ]
    }
   ],
   "source": [
    "high_hethom_samples = mt.filter_cols(mt.sample_qc.r_het_hom_var > 3).s.collect()\n",
    "\n",
    "for sample in high_hethom_samples:\n",
    "    print('/data/projects/fargen_phase_1/data/single_sample_data/{sample}/multiqc/multiqc_report.html'.format(sample=sample))"
   ]
  },
  {
   "cell_type": "markdown",
   "id": "psychological-belgium",
   "metadata": {},
   "source": [
    "In the genealogy summary file (`/fargen/fargen_phase_1_utils/multi_sample/joint_genotyping/metadata/genealogy/individuals_summary.csv`), it seems that all these samples have reasonably deep roots in the Faroes. This means we have no reason to suspect this difference is due to these samples being from different populations.\n",
    "\n",
    "These four samples most likely have high het/hom rate due to poor data quality. One potential reason for this is contamination of the sample in the lab.\n",
    "\n",
    "We will **discard high het/hom rate samples**, as they may skew further analyses down the line."
   ]
  },
  {
   "cell_type": "code",
   "execution_count": 23,
   "id": "3f72ac48-5e30-46ee-bca6-195e33cb53e8",
   "metadata": {},
   "outputs": [],
   "source": [
    "mt = mt.filter_cols(mt.sample_qc.r_het_hom_var < 3)"
   ]
  },
  {
   "cell_type": "code",
   "execution_count": 24,
   "id": "cooked-gilbert",
   "metadata": {},
   "outputs": [
    {
     "name": "stdout",
     "output_type": "stream",
     "text": [
      "Number of variants: 1146382\n",
      "Number of samples: 468\n"
     ]
    }
   ],
   "source": [
    "n_variants, n_samples = mt.count()\n",
    "print('Number of variants: ' + str(n_variants))\n",
    "print('Number of samples: ' + str(n_samples))"
   ]
  },
  {
   "cell_type": "markdown",
   "id": "instructional-pattern",
   "metadata": {},
   "source": [
    "## Write variants to file"
   ]
  },
  {
   "cell_type": "code",
   "execution_count": 25,
   "id": "accepting-kingdom",
   "metadata": {},
   "outputs": [
    {
     "name": "stderr",
     "output_type": "stream",
     "text": [
      "2021-06-14 13:50:21 Hail: INFO: wrote matrix table with 1146382 rows and 468 columns in 37 partitions to /home/olavur/experiments/2020-11-13_fargen1_exome_analysis/data/mt/high_quality_variants.mt\n",
      "    Total size: 1.61 GiB\n",
      "    * Rows/entries: 1.61 GiB\n",
      "    * Columns: 49.98 KiB\n",
      "    * Globals: 11.00 B\n",
      "    * Smallest partition: 29355 rows (38.26 MiB)\n",
      "    * Largest partition:  31925 rows (46.83 MiB)\n"
     ]
    }
   ],
   "source": [
    "mt.write(BASE_DIR + '/data/mt/high_quality_variants.mt', overwrite=True)"
   ]
  },
  {
   "cell_type": "markdown",
   "id": "f5721fc8-688d-43c9-b6fb-08ca230c5126",
   "metadata": {},
   "source": [
    "## Summary\n",
    "\n",
    "In this notebook we have:\n",
    "\n",
    "* Filtered variants failing VQSR filter\n",
    "* Filtered variants with genotype quality < 20\n",
    "* Removed four samples with abnormally high het/hom rate (>3)"
   ]
  }
 ],
 "metadata": {
  "kernelspec": {
   "display_name": "Python [conda env:fargen-1-exome]",
   "language": "python",
   "name": "conda-env-fargen-1-exome-py"
  },
  "language_info": {
   "codemirror_mode": {
    "name": "ipython",
    "version": 3
   },
   "file_extension": ".py",
   "mimetype": "text/x-python",
   "name": "python",
   "nbconvert_exporter": "python",
   "pygments_lexer": "ipython3",
   "version": "3.7.10"
  }
 },
 "nbformat": 4,
 "nbformat_minor": 5
}
