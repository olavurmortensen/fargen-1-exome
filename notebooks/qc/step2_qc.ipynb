{
 "cells": [
  {
   "cell_type": "markdown",
   "id": "6b46d6e6-3060-4ed7-8b35-6a09fd271204",
   "metadata": {},
   "source": [
    "# Quality control"
   ]
  },
  {
   "cell_type": "code",
   "execution_count": 1,
   "id": "million-damages",
   "metadata": {},
   "outputs": [
    {
     "name": "stdout",
     "output_type": "stream",
     "text": [
      "2021-10-05 11:39:10 WARN  NativeCodeLoader:62 - Unable to load native-hadoop library for your platform... using builtin-java classes where applicable\n"
     ]
    },
    {
     "name": "stderr",
     "output_type": "stream",
     "text": [
      "Setting default log level to \"WARN\".\n",
      "To adjust logging level use sc.setLogLevel(newLevel). For SparkR, use setLogLevel(newLevel).\n"
     ]
    },
    {
     "name": "stdout",
     "output_type": "stream",
     "text": [
      "2021-10-05 11:39:10 WARN  Hail:37 - This Hail JAR was compiled for Spark 2.4.5, running with Spark 2.4.1.\n",
      "  Compatibility is not guaranteed.\n",
      "2021-10-05 11:39:11 WARN  Utils:66 - Service 'SparkUI' could not bind on port 4040. Attempting port 4041.\n"
     ]
    },
    {
     "name": "stderr",
     "output_type": "stream",
     "text": [
      "Running on Apache Spark version 2.4.1\n",
      "SparkUI available at http://hms-beagle-6676655f87-9xllv:4041\n",
      "Welcome to\n",
      "     __  __     <>__\n",
      "    / /_/ /__  __/ /\n",
      "   / __  / _ `/ / /\n",
      "  /_/ /_/\\_,_/_/_/   version 0.2.61-3c86d3ba497a\n",
      "LOGGING: writing to /home/olavur/experiments/2020-11-13_fargen1_exome_analysis/fargen-1-exome/notebooks/qc/hail-20211005-1139-0.2.61-3c86d3ba497a.log\n"
     ]
    }
   ],
   "source": [
    "import hail as hl\n",
    "hl.init(spark_conf={'spark.driver.memory': '10g'}, tmp_dir='/home/olavur/tmp')"
   ]
  },
  {
   "cell_type": "code",
   "execution_count": 2,
   "id": "analyzed-warrant",
   "metadata": {},
   "outputs": [
    {
     "data": {
      "text/html": [
       "\n",
       "    <div class=\"bk-root\">\n",
       "        <a href=\"https://bokeh.pydata.org\" target=\"_blank\" class=\"bk-logo bk-logo-small bk-logo-notebook\"></a>\n",
       "        <span id=\"1001\">Loading BokehJS ...</span>\n",
       "    </div>"
      ]
     },
     "metadata": {},
     "output_type": "display_data"
    },
    {
     "data": {
      "application/javascript": [
       "\n",
       "(function(root) {\n",
       "  function now() {\n",
       "    return new Date();\n",
       "  }\n",
       "\n",
       "  var force = true;\n",
       "\n",
       "  if (typeof root._bokeh_onload_callbacks === \"undefined\" || force === true) {\n",
       "    root._bokeh_onload_callbacks = [];\n",
       "    root._bokeh_is_loading = undefined;\n",
       "  }\n",
       "\n",
       "  var JS_MIME_TYPE = 'application/javascript';\n",
       "  var HTML_MIME_TYPE = 'text/html';\n",
       "  var EXEC_MIME_TYPE = 'application/vnd.bokehjs_exec.v0+json';\n",
       "  var CLASS_NAME = 'output_bokeh rendered_html';\n",
       "\n",
       "  /**\n",
       "   * Render data to the DOM node\n",
       "   */\n",
       "  function render(props, node) {\n",
       "    var script = document.createElement(\"script\");\n",
       "    node.appendChild(script);\n",
       "  }\n",
       "\n",
       "  /**\n",
       "   * Handle when an output is cleared or removed\n",
       "   */\n",
       "  function handleClearOutput(event, handle) {\n",
       "    var cell = handle.cell;\n",
       "\n",
       "    var id = cell.output_area._bokeh_element_id;\n",
       "    var server_id = cell.output_area._bokeh_server_id;\n",
       "    // Clean up Bokeh references\n",
       "    if (id != null && id in Bokeh.index) {\n",
       "      Bokeh.index[id].model.document.clear();\n",
       "      delete Bokeh.index[id];\n",
       "    }\n",
       "\n",
       "    if (server_id !== undefined) {\n",
       "      // Clean up Bokeh references\n",
       "      var cmd = \"from bokeh.io.state import curstate; print(curstate().uuid_to_server['\" + server_id + \"'].get_sessions()[0].document.roots[0]._id)\";\n",
       "      cell.notebook.kernel.execute(cmd, {\n",
       "        iopub: {\n",
       "          output: function(msg) {\n",
       "            var id = msg.content.text.trim();\n",
       "            if (id in Bokeh.index) {\n",
       "              Bokeh.index[id].model.document.clear();\n",
       "              delete Bokeh.index[id];\n",
       "            }\n",
       "          }\n",
       "        }\n",
       "      });\n",
       "      // Destroy server and session\n",
       "      var cmd = \"import bokeh.io.notebook as ion; ion.destroy_server('\" + server_id + \"')\";\n",
       "      cell.notebook.kernel.execute(cmd);\n",
       "    }\n",
       "  }\n",
       "\n",
       "  /**\n",
       "   * Handle when a new output is added\n",
       "   */\n",
       "  function handleAddOutput(event, handle) {\n",
       "    var output_area = handle.output_area;\n",
       "    var output = handle.output;\n",
       "\n",
       "    // limit handleAddOutput to display_data with EXEC_MIME_TYPE content only\n",
       "    if ((output.output_type != \"display_data\") || (!output.data.hasOwnProperty(EXEC_MIME_TYPE))) {\n",
       "      return\n",
       "    }\n",
       "\n",
       "    var toinsert = output_area.element.find(\".\" + CLASS_NAME.split(' ')[0]);\n",
       "\n",
       "    if (output.metadata[EXEC_MIME_TYPE][\"id\"] !== undefined) {\n",
       "      toinsert[toinsert.length - 1].firstChild.textContent = output.data[JS_MIME_TYPE];\n",
       "      // store reference to embed id on output_area\n",
       "      output_area._bokeh_element_id = output.metadata[EXEC_MIME_TYPE][\"id\"];\n",
       "    }\n",
       "    if (output.metadata[EXEC_MIME_TYPE][\"server_id\"] !== undefined) {\n",
       "      var bk_div = document.createElement(\"div\");\n",
       "      bk_div.innerHTML = output.data[HTML_MIME_TYPE];\n",
       "      var script_attrs = bk_div.children[0].attributes;\n",
       "      for (var i = 0; i < script_attrs.length; i++) {\n",
       "        toinsert[toinsert.length - 1].firstChild.setAttribute(script_attrs[i].name, script_attrs[i].value);\n",
       "      }\n",
       "      // store reference to server id on output_area\n",
       "      output_area._bokeh_server_id = output.metadata[EXEC_MIME_TYPE][\"server_id\"];\n",
       "    }\n",
       "  }\n",
       "\n",
       "  function register_renderer(events, OutputArea) {\n",
       "\n",
       "    function append_mime(data, metadata, element) {\n",
       "      // create a DOM node to render to\n",
       "      var toinsert = this.create_output_subarea(\n",
       "        metadata,\n",
       "        CLASS_NAME,\n",
       "        EXEC_MIME_TYPE\n",
       "      );\n",
       "      this.keyboard_manager.register_events(toinsert);\n",
       "      // Render to node\n",
       "      var props = {data: data, metadata: metadata[EXEC_MIME_TYPE]};\n",
       "      render(props, toinsert[toinsert.length - 1]);\n",
       "      element.append(toinsert);\n",
       "      return toinsert\n",
       "    }\n",
       "\n",
       "    /* Handle when an output is cleared or removed */\n",
       "    events.on('clear_output.CodeCell', handleClearOutput);\n",
       "    events.on('delete.Cell', handleClearOutput);\n",
       "\n",
       "    /* Handle when a new output is added */\n",
       "    events.on('output_added.OutputArea', handleAddOutput);\n",
       "\n",
       "    /**\n",
       "     * Register the mime type and append_mime function with output_area\n",
       "     */\n",
       "    OutputArea.prototype.register_mime_type(EXEC_MIME_TYPE, append_mime, {\n",
       "      /* Is output safe? */\n",
       "      safe: true,\n",
       "      /* Index of renderer in `output_area.display_order` */\n",
       "      index: 0\n",
       "    });\n",
       "  }\n",
       "\n",
       "  // register the mime type if in Jupyter Notebook environment and previously unregistered\n",
       "  if (root.Jupyter !== undefined) {\n",
       "    var events = require('base/js/events');\n",
       "    var OutputArea = require('notebook/js/outputarea').OutputArea;\n",
       "\n",
       "    if (OutputArea.prototype.mime_types().indexOf(EXEC_MIME_TYPE) == -1) {\n",
       "      register_renderer(events, OutputArea);\n",
       "    }\n",
       "  }\n",
       "\n",
       "  \n",
       "  if (typeof (root._bokeh_timeout) === \"undefined\" || force === true) {\n",
       "    root._bokeh_timeout = Date.now() + 5000;\n",
       "    root._bokeh_failed_load = false;\n",
       "  }\n",
       "\n",
       "  var NB_LOAD_WARNING = {'data': {'text/html':\n",
       "     \"<div style='background-color: #fdd'>\\n\"+\n",
       "     \"<p>\\n\"+\n",
       "     \"BokehJS does not appear to have successfully loaded. If loading BokehJS from CDN, this \\n\"+\n",
       "     \"may be due to a slow or bad network connection. Possible fixes:\\n\"+\n",
       "     \"</p>\\n\"+\n",
       "     \"<ul>\\n\"+\n",
       "     \"<li>re-rerun `output_notebook()` to attempt to load from CDN again, or</li>\\n\"+\n",
       "     \"<li>use INLINE resources instead, as so:</li>\\n\"+\n",
       "     \"</ul>\\n\"+\n",
       "     \"<code>\\n\"+\n",
       "     \"from bokeh.resources import INLINE\\n\"+\n",
       "     \"output_notebook(resources=INLINE)\\n\"+\n",
       "     \"</code>\\n\"+\n",
       "     \"</div>\"}};\n",
       "\n",
       "  function display_loaded() {\n",
       "    var el = document.getElementById(\"1001\");\n",
       "    if (el != null) {\n",
       "      el.textContent = \"BokehJS is loading...\";\n",
       "    }\n",
       "    if (root.Bokeh !== undefined) {\n",
       "      if (el != null) {\n",
       "        el.textContent = \"BokehJS \" + root.Bokeh.version + \" successfully loaded.\";\n",
       "      }\n",
       "    } else if (Date.now() < root._bokeh_timeout) {\n",
       "      setTimeout(display_loaded, 100)\n",
       "    }\n",
       "  }\n",
       "\n",
       "\n",
       "  function run_callbacks() {\n",
       "    try {\n",
       "      root._bokeh_onload_callbacks.forEach(function(callback) {\n",
       "        if (callback != null)\n",
       "          callback();\n",
       "      });\n",
       "    } finally {\n",
       "      delete root._bokeh_onload_callbacks\n",
       "    }\n",
       "    console.debug(\"Bokeh: all callbacks have finished\");\n",
       "  }\n",
       "\n",
       "  function load_libs(css_urls, js_urls, callback) {\n",
       "    if (css_urls == null) css_urls = [];\n",
       "    if (js_urls == null) js_urls = [];\n",
       "\n",
       "    root._bokeh_onload_callbacks.push(callback);\n",
       "    if (root._bokeh_is_loading > 0) {\n",
       "      console.debug(\"Bokeh: BokehJS is being loaded, scheduling callback at\", now());\n",
       "      return null;\n",
       "    }\n",
       "    if (js_urls == null || js_urls.length === 0) {\n",
       "      run_callbacks();\n",
       "      return null;\n",
       "    }\n",
       "    console.debug(\"Bokeh: BokehJS not loaded, scheduling load and callback at\", now());\n",
       "    root._bokeh_is_loading = css_urls.length + js_urls.length;\n",
       "\n",
       "    function on_load() {\n",
       "      root._bokeh_is_loading--;\n",
       "      if (root._bokeh_is_loading === 0) {\n",
       "        console.debug(\"Bokeh: all BokehJS libraries/stylesheets loaded\");\n",
       "        run_callbacks()\n",
       "      }\n",
       "    }\n",
       "\n",
       "    function on_error() {\n",
       "      console.error(\"failed to load \" + url);\n",
       "    }\n",
       "\n",
       "    for (var i = 0; i < css_urls.length; i++) {\n",
       "      var url = css_urls[i];\n",
       "      const element = document.createElement(\"link\");\n",
       "      element.onload = on_load;\n",
       "      element.onerror = on_error;\n",
       "      element.rel = \"stylesheet\";\n",
       "      element.type = \"text/css\";\n",
       "      element.href = url;\n",
       "      console.debug(\"Bokeh: injecting link tag for BokehJS stylesheet: \", url);\n",
       "      document.body.appendChild(element);\n",
       "    }\n",
       "\n",
       "    for (var i = 0; i < js_urls.length; i++) {\n",
       "      var url = js_urls[i];\n",
       "      var element = document.createElement('script');\n",
       "      element.onload = on_load;\n",
       "      element.onerror = on_error;\n",
       "      element.async = false;\n",
       "      element.src = url;\n",
       "      console.debug(\"Bokeh: injecting script tag for BokehJS library: \", url);\n",
       "      document.head.appendChild(element);\n",
       "    }\n",
       "  };var element = document.getElementById(\"1001\");\n",
       "  if (element == null) {\n",
       "    console.error(\"Bokeh: ERROR: autoload.js configured with elementid '1001' but no matching script tag was found. \")\n",
       "    return false;\n",
       "  }\n",
       "\n",
       "  function inject_raw_css(css) {\n",
       "    const element = document.createElement(\"style\");\n",
       "    element.appendChild(document.createTextNode(css));\n",
       "    document.body.appendChild(element);\n",
       "  }\n",
       "\n",
       "  var js_urls = [\"https://cdn.pydata.org/bokeh/release/bokeh-1.2.0.min.js\", \"https://cdn.pydata.org/bokeh/release/bokeh-widgets-1.2.0.min.js\", \"https://cdn.pydata.org/bokeh/release/bokeh-tables-1.2.0.min.js\", \"https://cdn.pydata.org/bokeh/release/bokeh-gl-1.2.0.min.js\"];\n",
       "  var css_urls = [\"https://cdn.pydata.org/bokeh/release/bokeh-1.2.0.min.css\", \"https://cdn.pydata.org/bokeh/release/bokeh-widgets-1.2.0.min.css\", \"https://cdn.pydata.org/bokeh/release/bokeh-tables-1.2.0.min.css\"];\n",
       "\n",
       "  var inline_js = [\n",
       "    function(Bokeh) {\n",
       "      Bokeh.set_log_level(\"info\");\n",
       "    },\n",
       "    \n",
       "    function(Bokeh) {\n",
       "      \n",
       "    },\n",
       "    function(Bokeh) {} // ensure no trailing comma for IE\n",
       "  ];\n",
       "\n",
       "  function run_inline_js() {\n",
       "    \n",
       "    if ((root.Bokeh !== undefined) || (force === true)) {\n",
       "      for (var i = 0; i < inline_js.length; i++) {\n",
       "        inline_js[i].call(root, root.Bokeh);\n",
       "      }if (force === true) {\n",
       "        display_loaded();\n",
       "      }} else if (Date.now() < root._bokeh_timeout) {\n",
       "      setTimeout(run_inline_js, 100);\n",
       "    } else if (!root._bokeh_failed_load) {\n",
       "      console.log(\"Bokeh: BokehJS failed to load within specified timeout.\");\n",
       "      root._bokeh_failed_load = true;\n",
       "    } else if (force !== true) {\n",
       "      var cell = $(document.getElementById(\"1001\")).parents('.cell').data().cell;\n",
       "      cell.output_area.append_execute_result(NB_LOAD_WARNING)\n",
       "    }\n",
       "\n",
       "  }\n",
       "\n",
       "  if (root._bokeh_is_loading === 0) {\n",
       "    console.debug(\"Bokeh: BokehJS loaded, going straight to plotting\");\n",
       "    run_inline_js();\n",
       "  } else {\n",
       "    load_libs(css_urls, js_urls, function() {\n",
       "      console.debug(\"Bokeh: BokehJS plotting callback run at\", now());\n",
       "      run_inline_js();\n",
       "    });\n",
       "  }\n",
       "}(window));"
      ],
      "application/vnd.bokehjs_load.v0+json": "\n(function(root) {\n  function now() {\n    return new Date();\n  }\n\n  var force = true;\n\n  if (typeof root._bokeh_onload_callbacks === \"undefined\" || force === true) {\n    root._bokeh_onload_callbacks = [];\n    root._bokeh_is_loading = undefined;\n  }\n\n  \n\n  \n  if (typeof (root._bokeh_timeout) === \"undefined\" || force === true) {\n    root._bokeh_timeout = Date.now() + 5000;\n    root._bokeh_failed_load = false;\n  }\n\n  var NB_LOAD_WARNING = {'data': {'text/html':\n     \"<div style='background-color: #fdd'>\\n\"+\n     \"<p>\\n\"+\n     \"BokehJS does not appear to have successfully loaded. If loading BokehJS from CDN, this \\n\"+\n     \"may be due to a slow or bad network connection. Possible fixes:\\n\"+\n     \"</p>\\n\"+\n     \"<ul>\\n\"+\n     \"<li>re-rerun `output_notebook()` to attempt to load from CDN again, or</li>\\n\"+\n     \"<li>use INLINE resources instead, as so:</li>\\n\"+\n     \"</ul>\\n\"+\n     \"<code>\\n\"+\n     \"from bokeh.resources import INLINE\\n\"+\n     \"output_notebook(resources=INLINE)\\n\"+\n     \"</code>\\n\"+\n     \"</div>\"}};\n\n  function display_loaded() {\n    var el = document.getElementById(\"1001\");\n    if (el != null) {\n      el.textContent = \"BokehJS is loading...\";\n    }\n    if (root.Bokeh !== undefined) {\n      if (el != null) {\n        el.textContent = \"BokehJS \" + root.Bokeh.version + \" successfully loaded.\";\n      }\n    } else if (Date.now() < root._bokeh_timeout) {\n      setTimeout(display_loaded, 100)\n    }\n  }\n\n\n  function run_callbacks() {\n    try {\n      root._bokeh_onload_callbacks.forEach(function(callback) {\n        if (callback != null)\n          callback();\n      });\n    } finally {\n      delete root._bokeh_onload_callbacks\n    }\n    console.debug(\"Bokeh: all callbacks have finished\");\n  }\n\n  function load_libs(css_urls, js_urls, callback) {\n    if (css_urls == null) css_urls = [];\n    if (js_urls == null) js_urls = [];\n\n    root._bokeh_onload_callbacks.push(callback);\n    if (root._bokeh_is_loading > 0) {\n      console.debug(\"Bokeh: BokehJS is being loaded, scheduling callback at\", now());\n      return null;\n    }\n    if (js_urls == null || js_urls.length === 0) {\n      run_callbacks();\n      return null;\n    }\n    console.debug(\"Bokeh: BokehJS not loaded, scheduling load and callback at\", now());\n    root._bokeh_is_loading = css_urls.length + js_urls.length;\n\n    function on_load() {\n      root._bokeh_is_loading--;\n      if (root._bokeh_is_loading === 0) {\n        console.debug(\"Bokeh: all BokehJS libraries/stylesheets loaded\");\n        run_callbacks()\n      }\n    }\n\n    function on_error() {\n      console.error(\"failed to load \" + url);\n    }\n\n    for (var i = 0; i < css_urls.length; i++) {\n      var url = css_urls[i];\n      const element = document.createElement(\"link\");\n      element.onload = on_load;\n      element.onerror = on_error;\n      element.rel = \"stylesheet\";\n      element.type = \"text/css\";\n      element.href = url;\n      console.debug(\"Bokeh: injecting link tag for BokehJS stylesheet: \", url);\n      document.body.appendChild(element);\n    }\n\n    for (var i = 0; i < js_urls.length; i++) {\n      var url = js_urls[i];\n      var element = document.createElement('script');\n      element.onload = on_load;\n      element.onerror = on_error;\n      element.async = false;\n      element.src = url;\n      console.debug(\"Bokeh: injecting script tag for BokehJS library: \", url);\n      document.head.appendChild(element);\n    }\n  };var element = document.getElementById(\"1001\");\n  if (element == null) {\n    console.error(\"Bokeh: ERROR: autoload.js configured with elementid '1001' but no matching script tag was found. \")\n    return false;\n  }\n\n  function inject_raw_css(css) {\n    const element = document.createElement(\"style\");\n    element.appendChild(document.createTextNode(css));\n    document.body.appendChild(element);\n  }\n\n  var js_urls = [\"https://cdn.pydata.org/bokeh/release/bokeh-1.2.0.min.js\", \"https://cdn.pydata.org/bokeh/release/bokeh-widgets-1.2.0.min.js\", \"https://cdn.pydata.org/bokeh/release/bokeh-tables-1.2.0.min.js\", \"https://cdn.pydata.org/bokeh/release/bokeh-gl-1.2.0.min.js\"];\n  var css_urls = [\"https://cdn.pydata.org/bokeh/release/bokeh-1.2.0.min.css\", \"https://cdn.pydata.org/bokeh/release/bokeh-widgets-1.2.0.min.css\", \"https://cdn.pydata.org/bokeh/release/bokeh-tables-1.2.0.min.css\"];\n\n  var inline_js = [\n    function(Bokeh) {\n      Bokeh.set_log_level(\"info\");\n    },\n    \n    function(Bokeh) {\n      \n    },\n    function(Bokeh) {} // ensure no trailing comma for IE\n  ];\n\n  function run_inline_js() {\n    \n    if ((root.Bokeh !== undefined) || (force === true)) {\n      for (var i = 0; i < inline_js.length; i++) {\n        inline_js[i].call(root, root.Bokeh);\n      }if (force === true) {\n        display_loaded();\n      }} else if (Date.now() < root._bokeh_timeout) {\n      setTimeout(run_inline_js, 100);\n    } else if (!root._bokeh_failed_load) {\n      console.log(\"Bokeh: BokehJS failed to load within specified timeout.\");\n      root._bokeh_failed_load = true;\n    } else if (force !== true) {\n      var cell = $(document.getElementById(\"1001\")).parents('.cell').data().cell;\n      cell.output_area.append_execute_result(NB_LOAD_WARNING)\n    }\n\n  }\n\n  if (root._bokeh_is_loading === 0) {\n    console.debug(\"Bokeh: BokehJS loaded, going straight to plotting\");\n    run_inline_js();\n  } else {\n    load_libs(css_urls, js_urls, function() {\n      console.debug(\"Bokeh: BokehJS plotting callback run at\", now());\n      run_inline_js();\n    });\n  }\n}(window));"
     },
     "metadata": {},
     "output_type": "display_data"
    }
   ],
   "source": [
    "from bokeh.io import show, output_notebook\n",
    "from bokeh.layouts import gridplot\n",
    "from bokeh.models.scales import LogScale\n",
    "output_notebook()"
   ]
  },
  {
   "cell_type": "code",
   "execution_count": 3,
   "id": "a90371f0-f6d2-4b83-a3ef-82b3d4e3256e",
   "metadata": {},
   "outputs": [],
   "source": [
    "import pandas as pd"
   ]
  },
  {
   "cell_type": "markdown",
   "id": "canadian-india",
   "metadata": {},
   "source": [
    "Load variant data."
   ]
  },
  {
   "cell_type": "code",
   "execution_count": 150,
   "id": "5c5a690f-c65f-42b9-b6b7-c541b50c5635",
   "metadata": {},
   "outputs": [],
   "source": [
    "BASE_DIR = '/home/olavur/experiments/2020-11-13_fargen1_exome_analysis'\n",
    "mt = hl.read_matrix_table(BASE_DIR + '/data/mt/variants.mt')"
   ]
  },
  {
   "cell_type": "code",
   "execution_count": 151,
   "id": "e3f04d99-9bd4-4205-935b-abb721d3bff0",
   "metadata": {},
   "outputs": [
    {
     "name": "stdout",
     "output_type": "stream",
     "text": [
      "Number of variants: 911929\n",
      "Number of samples: 473\n"
     ]
    }
   ],
   "source": [
    "n_variants, n_samples = mt.count()\n",
    "print('Number of variants: ' + str(n_variants))\n",
    "print('Number of samples: ' + str(n_samples))"
   ]
  },
  {
   "cell_type": "markdown",
   "id": "39eaca31-56a7-45bf-8026-cbb790c78bc1",
   "metadata": {},
   "source": [
    "## Variant QC"
   ]
  },
  {
   "cell_type": "markdown",
   "id": "eace0bfa-ab61-4827-85d4-09e88c49b970",
   "metadata": {},
   "source": [
    "### Variant counts"
   ]
  },
  {
   "cell_type": "code",
   "execution_count": 152,
   "id": "bcee21b2-1324-4a77-bed3-9b575ddae681",
   "metadata": {},
   "outputs": [],
   "source": [
    "def variant_counts(mt):\n",
    "    # Count number of variants, SNPs and indels. Only first allele in alternate allele list is considered.\n",
    "    variant_counts_struct = mt.aggregate_rows(hl.struct(\n",
    "        n_variants = hl.agg.count(),\n",
    "        snps_fraction = hl.agg.count_where(hl.is_snp(mt.alleles[0], mt.alleles[1])) / hl.agg.count(),\n",
    "        insertions_fraction = hl.agg.count_where(hl.is_insertion(mt.alleles[0], mt.alleles[1])) / hl.agg.count(),\n",
    "        deletions_fraction = hl.agg.count_where(hl.is_deletion(mt.alleles[0], mt.alleles[1])) / hl.agg.count(),\n",
    "        mnp_fraction = hl.agg.count_where(hl.is_mnp(mt.alleles[0], mt.alleles[1])) / hl.agg.count(),\n",
    "        complex_fraction = hl.agg.count_where(hl.is_complex(mt.alleles[0], mt.alleles[1])) / hl.agg.count(),\n",
    "        star_fraction = hl.agg.count_where(hl.is_star(mt.alleles[0], mt.alleles[1])) / hl.agg.count()))\n",
    "    \n",
    "    variant_counts_pd = pd.DataFrame(variant_counts_struct.values(), index=variant_counts_struct.keys(), columns=[''])\n",
    "    return variant_counts_pd"
   ]
  },
  {
   "cell_type": "markdown",
   "id": "a8b50f97-8413-40f7-a8bf-34de85a1471b",
   "metadata": {},
   "source": [
    "Create a dataset where multi-allelic sites are split."
   ]
  },
  {
   "cell_type": "code",
   "execution_count": 153,
   "id": "895d1887-e641-4d03-868e-5c2602a0cd20",
   "metadata": {},
   "outputs": [],
   "source": [
    "# NOTE: permit_shuffle is needed when there are duplicate loci, one of which has multiple alternate alleles. Apparently, this dataset has such sites.\n",
    "split_mt = hl.split_multi_hts(mt, permit_shuffle=True)"
   ]
  },
  {
   "cell_type": "code",
   "execution_count": 154,
   "id": "9fff3e1b-fce3-4dae-88c4-51017e7e2a80",
   "metadata": {},
   "outputs": [
    {
     "name": "stderr",
     "output_type": "stream",
     "text": [
      "[Stage 116:==========================================>           (58 + 16) / 74]"
     ]
    },
    {
     "data": {
      "text/html": [
       "<div>\n",
       "<style scoped>\n",
       "    .dataframe tbody tr th:only-of-type {\n",
       "        vertical-align: middle;\n",
       "    }\n",
       "\n",
       "    .dataframe tbody tr th {\n",
       "        vertical-align: top;\n",
       "    }\n",
       "\n",
       "    .dataframe thead th {\n",
       "        text-align: right;\n",
       "    }\n",
       "</style>\n",
       "<table border=\"1\" class=\"dataframe\">\n",
       "  <thead>\n",
       "    <tr style=\"text-align: right;\">\n",
       "      <th></th>\n",
       "      <th></th>\n",
       "    </tr>\n",
       "  </thead>\n",
       "  <tbody>\n",
       "    <tr>\n",
       "      <th>n_variants</th>\n",
       "      <td>1.106101e+06</td>\n",
       "    </tr>\n",
       "    <tr>\n",
       "      <th>snps_fraction</th>\n",
       "      <td>5.907046e-01</td>\n",
       "    </tr>\n",
       "    <tr>\n",
       "      <th>insertions_fraction</th>\n",
       "      <td>2.523793e-01</td>\n",
       "    </tr>\n",
       "    <tr>\n",
       "      <th>deletions_fraction</th>\n",
       "      <td>1.569161e-01</td>\n",
       "    </tr>\n",
       "    <tr>\n",
       "      <th>mnp_fraction</th>\n",
       "      <td>0.000000e+00</td>\n",
       "    </tr>\n",
       "    <tr>\n",
       "      <th>complex_fraction</th>\n",
       "      <td>0.000000e+00</td>\n",
       "    </tr>\n",
       "    <tr>\n",
       "      <th>star_fraction</th>\n",
       "      <td>0.000000e+00</td>\n",
       "    </tr>\n",
       "  </tbody>\n",
       "</table>\n",
       "</div>"
      ],
      "text/plain": [
       "                                 \n",
       "n_variants           1.106101e+06\n",
       "snps_fraction        5.907046e-01\n",
       "insertions_fraction  2.523793e-01\n",
       "deletions_fraction   1.569161e-01\n",
       "mnp_fraction         0.000000e+00\n",
       "complex_fraction     0.000000e+00\n",
       "star_fraction        0.000000e+00"
      ]
     },
     "execution_count": 154,
     "metadata": {},
     "output_type": "execute_result"
    }
   ],
   "source": [
    "variant_counts(split_mt)"
   ]
  },
  {
   "cell_type": "markdown",
   "id": "436ee677-7395-4d55-a603-81eb3b865fa8",
   "metadata": {},
   "source": [
    "### Variant call quality (QUAL)\n",
    "\n",
    "Plot distribution of QUAL values. Note that a hard cut-off filter has been used on QUAL in the joint genotyping pipeline."
   ]
  },
  {
   "cell_type": "code",
   "execution_count": 155,
   "id": "a925ea05-184a-4ef7-8a2b-07facb9973ac",
   "metadata": {},
   "outputs": [
    {
     "data": {
      "text/html": [
       "\n",
       "\n",
       "\n",
       "\n",
       "\n",
       "\n",
       "  <div class=\"bk-root\" id=\"531016ad-a2a1-4fda-8a06-070ce4844a7a\" data-root-id=\"6506\"></div>\n"
      ]
     },
     "metadata": {},
     "output_type": "display_data"
    },
    {
     "data": {
      "application/javascript": [
       "(function(root) {\n",
       "  function embed_document(root) {\n",
       "    \n",
       "  var docs_json = {\"57a49045-ef12-4afd-9614-ae92e3df3dbc\":{\"roots\":{\"references\":[{\"attributes\":{\"background_fill_color\":{\"value\":\"#EEEEEE\"},\"below\":[{\"id\":\"6516\",\"type\":\"LinearAxis\"}],\"center\":[{\"id\":\"6520\",\"type\":\"Grid\"},{\"id\":\"6525\",\"type\":\"Grid\"},{\"id\":\"6550\",\"type\":\"Legend\"}],\"left\":[{\"id\":\"6521\",\"type\":\"LinearAxis\"}],\"plot_height\":500,\"plot_width\":800,\"renderers\":[{\"id\":\"6542\",\"type\":\"GlyphRenderer\"}],\"title\":null,\"toolbar\":{\"id\":\"6532\",\"type\":\"Toolbar\"},\"x_range\":{\"id\":\"6508\",\"type\":\"Range1d\"},\"x_scale\":{\"id\":\"6512\",\"type\":\"LinearScale\"},\"y_range\":{\"id\":\"6510\",\"type\":\"DataRange1d\"},\"y_scale\":{\"id\":\"6514\",\"type\":\"LinearScale\"}},\"id\":\"6506\",\"subtype\":\"Figure\",\"type\":\"Plot\"},{\"attributes\":{\"active_drag\":\"auto\",\"active_inspect\":\"auto\",\"active_multi\":null,\"active_scroll\":\"auto\",\"active_tap\":\"auto\",\"tools\":[{\"id\":\"6526\",\"type\":\"PanTool\"},{\"id\":\"6527\",\"type\":\"WheelZoomTool\"},{\"id\":\"6528\",\"type\":\"BoxZoomTool\"},{\"id\":\"6529\",\"type\":\"SaveTool\"},{\"id\":\"6530\",\"type\":\"ResetTool\"},{\"id\":\"6531\",\"type\":\"HelpTool\"}]},\"id\":\"6532\",\"type\":\"Toolbar\"},{\"attributes\":{\"items\":[{\"id\":\"6551\",\"type\":\"LegendItem\"}]},\"id\":\"6550\",\"type\":\"Legend\"},{\"attributes\":{\"callback\":null},\"id\":\"6510\",\"type\":\"DataRange1d\"},{\"attributes\":{\"source\":{\"id\":\"6539\",\"type\":\"ColumnDataSource\"}},\"id\":\"6543\",\"type\":\"CDSView\"},{\"attributes\":{},\"id\":\"6527\",\"type\":\"WheelZoomTool\"},{\"attributes\":{},\"id\":\"6522\",\"type\":\"BasicTicker\"},{\"attributes\":{\"callback\":null,\"end\":6685426.3725,\"start\":-318144.10250000004},\"id\":\"6508\",\"type\":\"Range1d\"},{\"attributes\":{\"ticker\":{\"id\":\"6517\",\"type\":\"BasicTicker\"}},\"id\":\"6520\",\"type\":\"Grid\"},{\"attributes\":{\"callback\":null,\"data\":{\"left\":[200.01,127537.655,254875.30000000002,382212.945,509550.59,636888.235,764225.88,891563.525,1018901.17,1146238.815,1273576.46,1400914.105,1528251.75,1655589.395,1782927.04,1910264.685,2037602.33,2164939.9749999996,2292277.6199999996,2419615.2649999997,2546952.9099999997,2674290.5549999997,2801628.1999999997,2928965.8449999997,3056303.4899999998,3183641.135,3310978.78,3438316.425,3565654.07,3692991.715,3820329.36,3947667.005,4075004.65,4202342.295,4329679.9399999995,4457017.585,4584355.2299999995,4711692.875,4839030.52,4966368.165,5093705.81,5221043.455,5348381.1,5475718.745,5603056.39,5730394.035,5857731.68,5985069.325,6112406.97,6239744.615],\"right\":[127537.655,254875.30000000002,382212.945,509550.59,636888.235,764225.88,891563.525,1018901.17,1146238.815,1273576.46,1400914.105,1528251.75,1655589.395,1782927.04,1910264.685,2037602.33,2164939.9749999996,2292277.6199999996,2419615.2649999997,2546952.9099999997,2674290.5549999997,2801628.1999999997,2928965.8449999997,3056303.4899999998,3183641.135,3310978.78,3438316.425,3565654.07,3692991.715,3820329.36,3947667.005,4075004.65,4202342.295,4329679.9399999995,4457017.585,4584355.2299999995,4711692.875,4839030.52,4966368.165,5093705.81,5221043.455,5348381.1,5475718.745,5603056.39,5730394.035,5857731.68,5985069.325,6112406.97,6239744.615,6367082.26],\"top\":[827087,41469,18077,9642,5315,3304,1958,1335,874,645,524,359,302,212,174,152,122,99,72,49,51,38,18,15,10,5,5,5,3,1,1,2,1,0,2,0,0,0,0,0,0,0,0,0,0,0,0,0,0,1]},\"selected\":{\"id\":\"6780\",\"type\":\"Selection\"},\"selection_policy\":{\"id\":\"6779\",\"type\":\"UnionRenderers\"}},\"id\":\"6539\",\"type\":\"ColumnDataSource\"},{\"attributes\":{},\"id\":\"6514\",\"type\":\"LinearScale\"},{\"attributes\":{\"axis_label\":\"Frequency\",\"formatter\":{\"id\":\"6548\",\"type\":\"BasicTickFormatter\"},\"ticker\":{\"id\":\"6522\",\"type\":\"BasicTicker\"}},\"id\":\"6521\",\"type\":\"LinearAxis\"},{\"attributes\":{},\"id\":\"6529\",\"type\":\"SaveTool\"},{\"attributes\":{},\"id\":\"6530\",\"type\":\"ResetTool\"},{\"attributes\":{},\"id\":\"6517\",\"type\":\"BasicTicker\"},{\"attributes\":{},\"id\":\"6548\",\"type\":\"BasicTickFormatter\"},{\"attributes\":{},\"id\":\"6780\",\"type\":\"Selection\"},{\"attributes\":{\"bottom\":{\"value\":0},\"fill_alpha\":{\"value\":0.1},\"fill_color\":{\"value\":\"#1f77b4\"},\"left\":{\"field\":\"left\"},\"line_alpha\":{\"value\":0.1},\"line_color\":{\"value\":\"#1f77b4\"},\"right\":{\"field\":\"right\"},\"top\":{\"field\":\"top\"}},\"id\":\"6541\",\"type\":\"Quad\"},{\"attributes\":{\"overlay\":{\"id\":\"6549\",\"type\":\"BoxAnnotation\"}},\"id\":\"6528\",\"type\":\"BoxZoomTool\"},{\"attributes\":{\"bottom\":{\"value\":0},\"fill_color\":{\"value\":\"#1f77b4\"},\"left\":{\"field\":\"left\"},\"right\":{\"field\":\"right\"},\"top\":{\"field\":\"top\"}},\"id\":\"6540\",\"type\":\"Quad\"},{\"attributes\":{\"axis_label\":\"Variant call quality (QUAL)\",\"formatter\":{\"id\":\"6546\",\"type\":\"BasicTickFormatter\"},\"ticker\":{\"id\":\"6517\",\"type\":\"BasicTicker\"}},\"id\":\"6516\",\"type\":\"LinearAxis\"},{\"attributes\":{},\"id\":\"6546\",\"type\":\"BasicTickFormatter\"},{\"attributes\":{},\"id\":\"6779\",\"type\":\"UnionRenderers\"},{\"attributes\":{},\"id\":\"6512\",\"type\":\"LinearScale\"},{\"attributes\":{\"label\":{\"value\":\"Variant call quality (QUAL)\"},\"renderers\":[{\"id\":\"6542\",\"type\":\"GlyphRenderer\"}]},\"id\":\"6551\",\"type\":\"LegendItem\"},{\"attributes\":{},\"id\":\"6526\",\"type\":\"PanTool\"},{\"attributes\":{},\"id\":\"6531\",\"type\":\"HelpTool\"},{\"attributes\":{\"data_source\":{\"id\":\"6539\",\"type\":\"ColumnDataSource\"},\"glyph\":{\"id\":\"6540\",\"type\":\"Quad\"},\"hover_glyph\":null,\"muted_glyph\":null,\"nonselection_glyph\":{\"id\":\"6541\",\"type\":\"Quad\"},\"selection_glyph\":null,\"view\":{\"id\":\"6543\",\"type\":\"CDSView\"}},\"id\":\"6542\",\"type\":\"GlyphRenderer\"},{\"attributes\":{\"dimension\":1,\"ticker\":{\"id\":\"6522\",\"type\":\"BasicTicker\"}},\"id\":\"6525\",\"type\":\"Grid\"},{\"attributes\":{\"bottom_units\":\"screen\",\"fill_alpha\":{\"value\":0.5},\"fill_color\":{\"value\":\"lightgrey\"},\"left_units\":\"screen\",\"level\":\"overlay\",\"line_alpha\":{\"value\":1.0},\"line_color\":{\"value\":\"black\"},\"line_dash\":[4,4],\"line_width\":{\"value\":2},\"render_mode\":\"css\",\"right_units\":\"screen\",\"top_units\":\"screen\"},\"id\":\"6549\",\"type\":\"BoxAnnotation\"}],\"root_ids\":[\"6506\"]},\"title\":\"Bokeh Application\",\"version\":\"1.2.0\"}};\n",
       "  var render_items = [{\"docid\":\"57a49045-ef12-4afd-9614-ae92e3df3dbc\",\"roots\":{\"6506\":\"531016ad-a2a1-4fda-8a06-070ce4844a7a\"}}];\n",
       "  root.Bokeh.embed.embed_items_notebook(docs_json, render_items);\n",
       "\n",
       "  }\n",
       "  if (root.Bokeh !== undefined) {\n",
       "    embed_document(root);\n",
       "  } else {\n",
       "    var attempts = 0;\n",
       "    var timer = setInterval(function(root) {\n",
       "      if (root.Bokeh !== undefined) {\n",
       "        embed_document(root);\n",
       "        clearInterval(timer);\n",
       "      }\n",
       "      attempts++;\n",
       "      if (attempts > 100) {\n",
       "        console.log(\"Bokeh: ERROR: Unable to run BokehJS code because BokehJS library is missing\");\n",
       "        clearInterval(timer);\n",
       "      }\n",
       "    }, 10, root)\n",
       "  }\n",
       "})(window);"
      ],
      "application/vnd.bokehjs_exec.v0+json": ""
     },
     "metadata": {
      "application/vnd.bokehjs_exec.v0+json": {
       "id": "6506"
      }
     },
     "output_type": "display_data"
    }
   ],
   "source": [
    "p = hl.plot.histogram(mt.qual, legend='Variant call quality (QUAL)')\n",
    "p.plot_width = 800\n",
    "p.plot_height = 500\n",
    "show(p)"
   ]
  },
  {
   "cell_type": "code",
   "execution_count": 156,
   "id": "d177274b-461a-44f0-8222-30ddd508d8d7",
   "metadata": {},
   "outputs": [
    {
     "data": {
      "text/html": [
       "\n",
       "\n",
       "\n",
       "\n",
       "\n",
       "\n",
       "  <div class=\"bk-root\" id=\"a64a03e8-1d9c-458d-993b-0e0649b2ea44\" data-root-id=\"6830\"></div>\n"
      ]
     },
     "metadata": {},
     "output_type": "display_data"
    },
    {
     "data": {
      "application/javascript": [
       "(function(root) {\n",
       "  function embed_document(root) {\n",
       "    \n",
       "  var docs_json = {\"64dafd66-1a08-4a8f-b5d1-c745e9aec837\":{\"roots\":{\"references\":[{\"attributes\":{\"background_fill_color\":{\"value\":\"#EEEEEE\"},\"below\":[{\"id\":\"6840\",\"type\":\"LinearAxis\"}],\"center\":[{\"id\":\"6844\",\"type\":\"Grid\"},{\"id\":\"6849\",\"type\":\"Grid\"},{\"id\":\"6874\",\"type\":\"Legend\"}],\"left\":[{\"id\":\"6845\",\"type\":\"LinearAxis\"}],\"plot_height\":500,\"plot_width\":800,\"renderers\":[{\"id\":\"6866\",\"type\":\"GlyphRenderer\"}],\"title\":null,\"toolbar\":{\"id\":\"6856\",\"type\":\"Toolbar\"},\"x_range\":{\"id\":\"6832\",\"type\":\"Range1d\"},\"x_scale\":{\"id\":\"6836\",\"type\":\"LinearScale\"},\"y_range\":{\"id\":\"6834\",\"type\":\"DataRange1d\"},\"y_scale\":{\"id\":\"6838\",\"type\":\"LinearScale\"}},\"id\":\"6830\",\"subtype\":\"Figure\",\"type\":\"Plot\"},{\"attributes\":{},\"id\":\"6836\",\"type\":\"LinearScale\"},{\"attributes\":{},\"id\":\"6853\",\"type\":\"SaveTool\"},{\"attributes\":{\"data_source\":{\"id\":\"6863\",\"type\":\"ColumnDataSource\"},\"glyph\":{\"id\":\"6864\",\"type\":\"Quad\"},\"hover_glyph\":null,\"muted_glyph\":null,\"nonselection_glyph\":{\"id\":\"6865\",\"type\":\"Quad\"},\"selection_glyph\":null,\"view\":{\"id\":\"6867\",\"type\":\"CDSView\"}},\"id\":\"6866\",\"type\":\"GlyphRenderer\"},{\"attributes\":{\"axis_label\":\"Frequency\",\"formatter\":{\"id\":\"6872\",\"type\":\"BasicTickFormatter\"},\"ticker\":{\"id\":\"6846\",\"type\":\"BasicTicker\"}},\"id\":\"6845\",\"type\":\"LinearAxis\"},{\"attributes\":{\"overlay\":{\"id\":\"6873\",\"type\":\"BoxAnnotation\"}},\"id\":\"6852\",\"type\":\"BoxZoomTool\"},{\"attributes\":{\"bottom\":{\"value\":0},\"fill_color\":{\"value\":\"#1f77b4\"},\"left\":{\"field\":\"left\"},\"right\":{\"field\":\"right\"},\"top\":{\"field\":\"top\"}},\"id\":\"6864\",\"type\":\"Quad\"},{\"attributes\":{\"callback\":null,\"data\":{\"left\":[2.3010517098452263,2.3911094848643306,2.481167259883435,2.571225034902539,2.6612828099216435,2.7513405849407473,2.8413983599598516,2.931456134978956,3.02151390999806,3.1115716850171644,3.2016294600362687,3.291687235055373,3.381745010074477,3.4718027850935815,3.5618605601126854,3.6519183351317897,3.741976110150894,3.832033885169998,3.9220916601891025,4.012149435208206,4.102207210227311,4.192264985246415,4.282322760265519,4.3723805352846234,4.462438310303728,4.552496085322832,4.642553860341936,4.732611635361041,4.822669410380144,4.912727185399248,5.002784960418353,5.092842735437458,5.1829005104565615,5.272958285475665,5.36301606049477,5.453073835513875,5.543131610532979,5.6331893855520825,5.723247160571187,5.813304935590291,5.903362710609395,5.9934204856285,6.083478260647604,6.173536035666708,6.263593810685812,6.353651585704917,6.443709360724021,6.533767135743125,6.623824910762229,6.713882685781333],\"right\":[2.3911094848643306,2.481167259883435,2.571225034902539,2.6612828099216435,2.7513405849407473,2.8413983599598516,2.931456134978956,3.02151390999806,3.1115716850171644,3.2016294600362687,3.291687235055373,3.381745010074477,3.4718027850935815,3.5618605601126854,3.6519183351317897,3.741976110150894,3.832033885169998,3.9220916601891025,4.012149435208206,4.102207210227311,4.192264985246415,4.282322760265519,4.3723805352846234,4.462438310303728,4.552496085322832,4.642553860341936,4.732611635361041,4.822669410380144,4.912727185399248,5.002784960418353,5.092842735437458,5.1829005104565615,5.272958285475665,5.36301606049477,5.453073835513875,5.543131610532979,5.6331893855520825,5.723247160571187,5.813304935590291,5.903362710609395,5.9934204856285,6.083478260647604,6.173536035666708,6.263593810685812,6.353651585704917,6.443709360724021,6.533767135743125,6.623824910762229,6.713882685781333,6.803940460800438],\"top\":[61679,54858,49721,46615,43428,40102,37898,34219,32022,29912,27708,25824,24679,23125,22253,21189,20407,19664,18575,18312,17590,17110,16362,16057,15910,15650,15380,15271,14844,14630,14192,13542,12863,11739,10577,9146,7800,6403,4785,3526,2305,1540,1054,704,453,232,57,14,2,1]},\"selected\":{\"id\":\"7112\",\"type\":\"Selection\"},\"selection_policy\":{\"id\":\"7111\",\"type\":\"UnionRenderers\"}},\"id\":\"6863\",\"type\":\"ColumnDataSource\"},{\"attributes\":{},\"id\":\"6872\",\"type\":\"BasicTickFormatter\"},{\"attributes\":{},\"id\":\"6870\",\"type\":\"BasicTickFormatter\"},{\"attributes\":{\"ticker\":{\"id\":\"6841\",\"type\":\"BasicTicker\"}},\"id\":\"6844\",\"type\":\"Grid\"},{\"attributes\":{},\"id\":\"6850\",\"type\":\"PanTool\"},{\"attributes\":{},\"id\":\"6855\",\"type\":\"HelpTool\"},{\"attributes\":{\"bottom\":{\"value\":0},\"fill_alpha\":{\"value\":0.1},\"fill_color\":{\"value\":\"#1f77b4\"},\"left\":{\"field\":\"left\"},\"line_alpha\":{\"value\":0.1},\"line_color\":{\"value\":\"#1f77b4\"},\"right\":{\"field\":\"right\"},\"top\":{\"field\":\"top\"}},\"id\":\"6865\",\"type\":\"Quad\"},{\"attributes\":{\"active_drag\":\"auto\",\"active_inspect\":\"auto\",\"active_multi\":null,\"active_scroll\":\"auto\",\"active_tap\":\"auto\",\"tools\":[{\"id\":\"6850\",\"type\":\"PanTool\"},{\"id\":\"6851\",\"type\":\"WheelZoomTool\"},{\"id\":\"6852\",\"type\":\"BoxZoomTool\"},{\"id\":\"6853\",\"type\":\"SaveTool\"},{\"id\":\"6854\",\"type\":\"ResetTool\"},{\"id\":\"6855\",\"type\":\"HelpTool\"}]},\"id\":\"6856\",\"type\":\"Toolbar\"},{\"attributes\":{},\"id\":\"6846\",\"type\":\"BasicTicker\"},{\"attributes\":{\"callback\":null,\"end\":7.029084898348199,\"start\":2.075907272297466},\"id\":\"6832\",\"type\":\"Range1d\"},{\"attributes\":{},\"id\":\"7111\",\"type\":\"UnionRenderers\"},{\"attributes\":{\"dimension\":1,\"ticker\":{\"id\":\"6846\",\"type\":\"BasicTicker\"}},\"id\":\"6849\",\"type\":\"Grid\"},{\"attributes\":{\"label\":{\"value\":\"Variant call quality (log10 of QUAL)\"},\"renderers\":[{\"id\":\"6866\",\"type\":\"GlyphRenderer\"}]},\"id\":\"6875\",\"type\":\"LegendItem\"},{\"attributes\":{},\"id\":\"6851\",\"type\":\"WheelZoomTool\"},{\"attributes\":{},\"id\":\"6841\",\"type\":\"BasicTicker\"},{\"attributes\":{\"bottom_units\":\"screen\",\"fill_alpha\":{\"value\":0.5},\"fill_color\":{\"value\":\"lightgrey\"},\"left_units\":\"screen\",\"level\":\"overlay\",\"line_alpha\":{\"value\":1.0},\"line_color\":{\"value\":\"black\"},\"line_dash\":[4,4],\"line_width\":{\"value\":2},\"render_mode\":\"css\",\"right_units\":\"screen\",\"top_units\":\"screen\"},\"id\":\"6873\",\"type\":\"BoxAnnotation\"},{\"attributes\":{\"axis_label\":\"Variant call quality (log10 of QUAL)\",\"formatter\":{\"id\":\"6870\",\"type\":\"BasicTickFormatter\"},\"ticker\":{\"id\":\"6841\",\"type\":\"BasicTicker\"}},\"id\":\"6840\",\"type\":\"LinearAxis\"},{\"attributes\":{},\"id\":\"6838\",\"type\":\"LinearScale\"},{\"attributes\":{\"items\":[{\"id\":\"6875\",\"type\":\"LegendItem\"}]},\"id\":\"6874\",\"type\":\"Legend\"},{\"attributes\":{\"source\":{\"id\":\"6863\",\"type\":\"ColumnDataSource\"}},\"id\":\"6867\",\"type\":\"CDSView\"},{\"attributes\":{},\"id\":\"6854\",\"type\":\"ResetTool\"},{\"attributes\":{},\"id\":\"7112\",\"type\":\"Selection\"},{\"attributes\":{\"callback\":null},\"id\":\"6834\",\"type\":\"DataRange1d\"}],\"root_ids\":[\"6830\"]},\"title\":\"Bokeh Application\",\"version\":\"1.2.0\"}};\n",
       "  var render_items = [{\"docid\":\"64dafd66-1a08-4a8f-b5d1-c745e9aec837\",\"roots\":{\"6830\":\"a64a03e8-1d9c-458d-993b-0e0649b2ea44\"}}];\n",
       "  root.Bokeh.embed.embed_items_notebook(docs_json, render_items);\n",
       "\n",
       "  }\n",
       "  if (root.Bokeh !== undefined) {\n",
       "    embed_document(root);\n",
       "  } else {\n",
       "    var attempts = 0;\n",
       "    var timer = setInterval(function(root) {\n",
       "      if (root.Bokeh !== undefined) {\n",
       "        embed_document(root);\n",
       "        clearInterval(timer);\n",
       "      }\n",
       "      attempts++;\n",
       "      if (attempts > 100) {\n",
       "        console.log(\"Bokeh: ERROR: Unable to run BokehJS code because BokehJS library is missing\");\n",
       "        clearInterval(timer);\n",
       "      }\n",
       "    }, 10, root)\n",
       "  }\n",
       "})(window);"
      ],
      "application/vnd.bokehjs_exec.v0+json": ""
     },
     "metadata": {
      "application/vnd.bokehjs_exec.v0+json": {
       "id": "6830"
      }
     },
     "output_type": "display_data"
    }
   ],
   "source": [
    "p = hl.plot.histogram(hl.log10(mt.qual), legend='Variant call quality (log10 of QUAL)')\n",
    "p.plot_width = 800\n",
    "p.plot_height = 500\n",
    "show(p)"
   ]
  },
  {
   "cell_type": "markdown",
   "id": "deadly-wales",
   "metadata": {},
   "source": [
    "### VQSR filters\n",
    "\n",
    "We will inspect the VQSR tranches.\n",
    "\n",
    "**FIXME:** These variants with `filters = None` have `VQSLOD = NaN`, as shown in the Pandas table below. What are these variants? Why have they not been assigned a VQSLOD?"
   ]
  },
  {
   "cell_type": "code",
   "execution_count": 157,
   "id": "legitimate-selection",
   "metadata": {},
   "outputs": [],
   "source": [
    "mt = mt.transmute_rows(filters=hl.delimit(mt.filters, ','))"
   ]
  },
  {
   "cell_type": "code",
   "execution_count": 158,
   "id": "42c11218-e7ba-4064-b406-fe251dc69571",
   "metadata": {},
   "outputs": [
    {
     "data": {
      "text/plain": [
       "{'': 159849,\n",
       " 'VQSRTrancheINDEL99.90to100.00': 53479,\n",
       " 'VQSRTrancheINDEL99.00to99.90': 46133,\n",
       " 'VQSRTrancheSNP99.90to100.00': 68405,\n",
       " 'VQSRTrancheSNP99.00to99.90': 139682,\n",
       " 'VQSRTrancheINDEL90.00to99.00': 56409,\n",
       " 'VQSRTrancheSNP90.00to99.00': 111492,\n",
       " 'VQSRTrancheSNP50.00to75.00': 102544,\n",
       " 'VQSRTrancheINDEL50.00to75.00': 24351,\n",
       " 'VQSRTrancheSNP75.00to90.00': 93294,\n",
       " 'VQSRTrancheINDEL75.00to90.00': 56291}"
      ]
     },
     "execution_count": 158,
     "metadata": {},
     "output_type": "execute_result"
    }
   ],
   "source": [
    "mt.aggregate_rows(hl.agg.counter(mt.filters))"
   ]
  },
  {
   "cell_type": "markdown",
   "id": "d3a41375-28d5-411f-a6a6-114f7fc52cdc",
   "metadata": {},
   "source": [
    "We will calculate some mean QC statistics for each VQSR tranch."
   ]
  },
  {
   "cell_type": "code",
   "execution_count": 159,
   "id": "fb4e3d8c-b958-41d1-baab-82e351eb2999",
   "metadata": {},
   "outputs": [],
   "source": [
    "# Calculate variant statistics.\n",
    "mt = hl.variant_qc(mt)\n",
    "\n",
    "# Get rows table.\n",
    "rows_ht = mt.rows()\n",
    "\n",
    "# Aggregate.\n",
    "result = (rows_ht.group_by(rows_ht.filters)\n",
    "         .aggregate(mean_gq = hl.agg.filter(~hl.is_nan(rows_ht.variant_qc.gq_stats.mean), hl.agg.mean(rows_ht.variant_qc.gq_stats.mean)),\n",
    "                   mean_dp = hl.agg.filter(~hl.is_nan(rows_ht.variant_qc.dp_stats.mean), hl.agg.mean(rows_ht.variant_qc.dp_stats.mean)),\n",
    "                   mean_af = hl.agg.filter(~hl.is_nan(rows_ht.variant_qc.AF[0]), hl.agg.mean(1 - rows_ht.variant_qc.AF[0])),\n",
    "                   mean_vqslod = hl.agg.filter(~hl.is_nan(rows_ht.info.VQSLOD), hl.agg.mean(rows_ht.info.VQSLOD)),\n",
    "                   n_variants = hl.agg.count()))"
   ]
  },
  {
   "cell_type": "markdown",
   "id": "5b233371-143e-468f-8548-f51fb1d8f09a",
   "metadata": {},
   "source": [
    "We convert the results to a Pandas dataframe."
   ]
  },
  {
   "cell_type": "code",
   "execution_count": 160,
   "id": "c8f1c0f1-0d81-4f58-b7fb-32a096be2a9e",
   "metadata": {},
   "outputs": [
    {
     "name": "stderr",
     "output_type": "stream",
     "text": [
      "[Stage 122:=====================================================> (36 + 1) / 37]2021-10-05 13:26:33 Hail: INFO: Ordering unsorted dataset with network shuffle\n"
     ]
    }
   ],
   "source": [
    "vqsr_stats_pd = result.to_pandas()"
   ]
  },
  {
   "cell_type": "markdown",
   "id": "0016ab27-1509-407b-ae54-b8a8c6482ce8",
   "metadata": {},
   "source": [
    "Below we first print the statistics for the SNPs and then for the indels. The rows are sorted by mean genotype quality. The empty filter row (`filter=''`) corresponds to all unfiltered variants."
   ]
  },
  {
   "cell_type": "code",
   "execution_count": 161,
   "id": "d359bca6-35d9-4ebd-96dd-0304881f243c",
   "metadata": {},
   "outputs": [
    {
     "data": {
      "text/html": [
       "<div>\n",
       "<style scoped>\n",
       "    .dataframe tbody tr th:only-of-type {\n",
       "        vertical-align: middle;\n",
       "    }\n",
       "\n",
       "    .dataframe tbody tr th {\n",
       "        vertical-align: top;\n",
       "    }\n",
       "\n",
       "    .dataframe thead th {\n",
       "        text-align: right;\n",
       "    }\n",
       "</style>\n",
       "<table border=\"1\" class=\"dataframe\">\n",
       "  <thead>\n",
       "    <tr style=\"text-align: right;\">\n",
       "      <th></th>\n",
       "      <th>filters</th>\n",
       "      <th>mean_gq</th>\n",
       "      <th>mean_dp</th>\n",
       "      <th>mean_af</th>\n",
       "      <th>mean_vqslod</th>\n",
       "      <th>n_variants</th>\n",
       "    </tr>\n",
       "  </thead>\n",
       "  <tbody>\n",
       "    <tr>\n",
       "      <th>10</th>\n",
       "      <td>VQSRTrancheSNP99.90to100.00</td>\n",
       "      <td>50.122640</td>\n",
       "      <td>31.077643</td>\n",
       "      <td>0.038038</td>\n",
       "      <td>-47.243312</td>\n",
       "      <td>68405</td>\n",
       "    </tr>\n",
       "    <tr>\n",
       "      <th>9</th>\n",
       "      <td>VQSRTrancheSNP99.00to99.90</td>\n",
       "      <td>53.528405</td>\n",
       "      <td>23.751122</td>\n",
       "      <td>0.062698</td>\n",
       "      <td>-2.131846</td>\n",
       "      <td>139682</td>\n",
       "    </tr>\n",
       "    <tr>\n",
       "      <th>8</th>\n",
       "      <td>VQSRTrancheSNP90.00to99.00</td>\n",
       "      <td>67.947504</td>\n",
       "      <td>26.119766</td>\n",
       "      <td>0.122243</td>\n",
       "      <td>1.311792</td>\n",
       "      <td>111492</td>\n",
       "    </tr>\n",
       "    <tr>\n",
       "      <th>7</th>\n",
       "      <td>VQSRTrancheSNP75.00to90.00</td>\n",
       "      <td>68.978084</td>\n",
       "      <td>27.397557</td>\n",
       "      <td>0.126402</td>\n",
       "      <td>2.819369</td>\n",
       "      <td>93294</td>\n",
       "    </tr>\n",
       "    <tr>\n",
       "      <th>6</th>\n",
       "      <td>VQSRTrancheSNP50.00to75.00</td>\n",
       "      <td>72.908350</td>\n",
       "      <td>30.275901</td>\n",
       "      <td>0.185178</td>\n",
       "      <td>4.374752</td>\n",
       "      <td>102544</td>\n",
       "    </tr>\n",
       "    <tr>\n",
       "      <th>0</th>\n",
       "      <td></td>\n",
       "      <td>75.856793</td>\n",
       "      <td>35.295114</td>\n",
       "      <td>0.264691</td>\n",
       "      <td>5.999987</td>\n",
       "      <td>159849</td>\n",
       "    </tr>\n",
       "  </tbody>\n",
       "</table>\n",
       "</div>"
      ],
      "text/plain": [
       "                        filters    mean_gq    mean_dp   mean_af  mean_vqslod  \\\n",
       "10  VQSRTrancheSNP99.90to100.00  50.122640  31.077643  0.038038   -47.243312   \n",
       "9    VQSRTrancheSNP99.00to99.90  53.528405  23.751122  0.062698    -2.131846   \n",
       "8    VQSRTrancheSNP90.00to99.00  67.947504  26.119766  0.122243     1.311792   \n",
       "7    VQSRTrancheSNP75.00to90.00  68.978084  27.397557  0.126402     2.819369   \n",
       "6    VQSRTrancheSNP50.00to75.00  72.908350  30.275901  0.185178     4.374752   \n",
       "0                                75.856793  35.295114  0.264691     5.999987   \n",
       "\n",
       "    n_variants  \n",
       "10       68405  \n",
       "9       139682  \n",
       "8       111492  \n",
       "7        93294  \n",
       "6       102544  \n",
       "0       159849  "
      ]
     },
     "execution_count": 161,
     "metadata": {},
     "output_type": "execute_result"
    }
   ],
   "source": [
    "vqsr_stats_pd[vqsr_stats_pd.filters.isin(['VQSRTrancheSNP50.00to75.00', 'VQSRTrancheSNP75.00to90.00', 'VQSRTrancheSNP90.00to99.00', 'VQSRTrancheSNP99.00to99.90', 'VQSRTrancheSNP99.90to100.00', '', None])].sort_values('mean_vqslod')"
   ]
  },
  {
   "cell_type": "code",
   "execution_count": 162,
   "id": "4663e101-a483-42e1-8e02-e522a0459f2e",
   "metadata": {},
   "outputs": [
    {
     "data": {
      "text/html": [
       "<div>\n",
       "<style scoped>\n",
       "    .dataframe tbody tr th:only-of-type {\n",
       "        vertical-align: middle;\n",
       "    }\n",
       "\n",
       "    .dataframe tbody tr th {\n",
       "        vertical-align: top;\n",
       "    }\n",
       "\n",
       "    .dataframe thead th {\n",
       "        text-align: right;\n",
       "    }\n",
       "</style>\n",
       "<table border=\"1\" class=\"dataframe\">\n",
       "  <thead>\n",
       "    <tr style=\"text-align: right;\">\n",
       "      <th></th>\n",
       "      <th>filters</th>\n",
       "      <th>mean_gq</th>\n",
       "      <th>mean_dp</th>\n",
       "      <th>mean_af</th>\n",
       "      <th>mean_vqslod</th>\n",
       "      <th>n_variants</th>\n",
       "    </tr>\n",
       "  </thead>\n",
       "  <tbody>\n",
       "    <tr>\n",
       "      <th>5</th>\n",
       "      <td>VQSRTrancheINDEL99.90to100.00</td>\n",
       "      <td>71.656205</td>\n",
       "      <td>33.762890</td>\n",
       "      <td>0.022044</td>\n",
       "      <td>-8.835908</td>\n",
       "      <td>53479</td>\n",
       "    </tr>\n",
       "    <tr>\n",
       "      <th>4</th>\n",
       "      <td>VQSRTrancheINDEL99.00to99.90</td>\n",
       "      <td>53.675363</td>\n",
       "      <td>21.572777</td>\n",
       "      <td>0.030319</td>\n",
       "      <td>-1.810456</td>\n",
       "      <td>46133</td>\n",
       "    </tr>\n",
       "    <tr>\n",
       "      <th>3</th>\n",
       "      <td>VQSRTrancheINDEL90.00to99.00</td>\n",
       "      <td>51.933470</td>\n",
       "      <td>19.591386</td>\n",
       "      <td>0.053830</td>\n",
       "      <td>1.435291</td>\n",
       "      <td>56409</td>\n",
       "    </tr>\n",
       "    <tr>\n",
       "      <th>2</th>\n",
       "      <td>VQSRTrancheINDEL75.00to90.00</td>\n",
       "      <td>59.114073</td>\n",
       "      <td>24.343697</td>\n",
       "      <td>0.078168</td>\n",
       "      <td>2.729718</td>\n",
       "      <td>56291</td>\n",
       "    </tr>\n",
       "    <tr>\n",
       "      <th>1</th>\n",
       "      <td>VQSRTrancheINDEL50.00to75.00</td>\n",
       "      <td>61.357614</td>\n",
       "      <td>28.550483</td>\n",
       "      <td>0.130914</td>\n",
       "      <td>4.307886</td>\n",
       "      <td>24351</td>\n",
       "    </tr>\n",
       "    <tr>\n",
       "      <th>0</th>\n",
       "      <td></td>\n",
       "      <td>75.856793</td>\n",
       "      <td>35.295114</td>\n",
       "      <td>0.264691</td>\n",
       "      <td>5.999987</td>\n",
       "      <td>159849</td>\n",
       "    </tr>\n",
       "  </tbody>\n",
       "</table>\n",
       "</div>"
      ],
      "text/plain": [
       "                         filters    mean_gq    mean_dp   mean_af  mean_vqslod  \\\n",
       "5  VQSRTrancheINDEL99.90to100.00  71.656205  33.762890  0.022044    -8.835908   \n",
       "4   VQSRTrancheINDEL99.00to99.90  53.675363  21.572777  0.030319    -1.810456   \n",
       "3   VQSRTrancheINDEL90.00to99.00  51.933470  19.591386  0.053830     1.435291   \n",
       "2   VQSRTrancheINDEL75.00to90.00  59.114073  24.343697  0.078168     2.729718   \n",
       "1   VQSRTrancheINDEL50.00to75.00  61.357614  28.550483  0.130914     4.307886   \n",
       "0                                 75.856793  35.295114  0.264691     5.999987   \n",
       "\n",
       "   n_variants  \n",
       "5       53479  \n",
       "4       46133  \n",
       "3       56409  \n",
       "2       56291  \n",
       "1       24351  \n",
       "0      159849  "
      ]
     },
     "execution_count": 162,
     "metadata": {},
     "output_type": "execute_result"
    }
   ],
   "source": [
    "vqsr_stats_pd[vqsr_stats_pd.filters.isin(['VQSRTrancheINDEL50.00to75.00', 'VQSRTrancheINDEL75.00to90.00', 'VQSRTrancheINDEL90.00to99.00', 'VQSRTrancheINDEL99.00to99.90', 'VQSRTrancheINDEL99.90to100.00', '', None])].sort_values('mean_vqslod')"
   ]
  },
  {
   "cell_type": "markdown",
   "id": "9ec32319-dff2-4e01-90f8-3dd34cda8509",
   "metadata": {},
   "source": [
    "## Genotype QC"
   ]
  },
  {
   "cell_type": "code",
   "execution_count": 163,
   "id": "1a8c4b54-f898-4103-86d3-0360aa22e6f8",
   "metadata": {},
   "outputs": [
    {
     "name": "stderr",
     "output_type": "stream",
     "text": [
      "[Stage 127:====================================>                 (25 + 12) / 37]"
     ]
    },
    {
     "data": {
      "text/html": [
       "\n",
       "\n",
       "\n",
       "\n",
       "\n",
       "\n",
       "  <div class=\"bk-root\" id=\"f470f53e-3cba-4b30-afdf-56350470218b\" data-root-id=\"7162\"></div>\n"
      ]
     },
     "metadata": {},
     "output_type": "display_data"
    },
    {
     "data": {
      "application/javascript": [
       "(function(root) {\n",
       "  function embed_document(root) {\n",
       "    \n",
       "  var docs_json = {\"43a73b33-8d4a-4c33-857f-1fe4b263203b\":{\"roots\":{\"references\":[{\"attributes\":{\"background_fill_color\":{\"value\":\"#EEEEEE\"},\"below\":[{\"id\":\"7172\",\"type\":\"LinearAxis\"}],\"center\":[{\"id\":\"7176\",\"type\":\"Grid\"},{\"id\":\"7181\",\"type\":\"Grid\"}],\"left\":[{\"id\":\"7177\",\"type\":\"LinearAxis\"}],\"plot_height\":500,\"plot_width\":800,\"renderers\":[{\"id\":\"7198\",\"type\":\"GlyphRenderer\"}],\"title\":null,\"toolbar\":{\"id\":\"7188\",\"type\":\"Toolbar\"},\"x_range\":{\"id\":\"7164\",\"type\":\"Range1d\"},\"x_scale\":{\"id\":\"7168\",\"type\":\"LinearScale\"},\"y_range\":{\"id\":\"7166\",\"type\":\"DataRange1d\"},\"y_scale\":{\"id\":\"7170\",\"type\":\"LinearScale\"}},\"id\":\"7162\",\"subtype\":\"Figure\",\"type\":\"Plot\"},{\"attributes\":{},\"id\":\"7442\",\"type\":\"BasicTickFormatter\"},{\"attributes\":{\"bottom\":{\"value\":0},\"fill_color\":{\"value\":\"#1f77b4\"},\"left\":{\"field\":\"left\"},\"right\":{\"field\":\"right\"},\"top\":{\"field\":\"top\"}},\"id\":\"7196\",\"type\":\"Quad\"},{\"attributes\":{},\"id\":\"7185\",\"type\":\"SaveTool\"},{\"attributes\":{\"bottom_units\":\"screen\",\"fill_alpha\":{\"value\":0.5},\"fill_color\":{\"value\":\"lightgrey\"},\"left_units\":\"screen\",\"level\":\"overlay\",\"line_alpha\":{\"value\":1.0},\"line_color\":{\"value\":\"black\"},\"line_dash\":[4,4],\"line_width\":{\"value\":2},\"render_mode\":\"css\",\"right_units\":\"screen\",\"top_units\":\"screen\"},\"id\":\"7445\",\"type\":\"BoxAnnotation\"},{\"attributes\":{\"overlay\":{\"id\":\"7445\",\"type\":\"BoxAnnotation\"}},\"id\":\"7184\",\"type\":\"BoxZoomTool\"},{\"attributes\":{},\"id\":\"7187\",\"type\":\"HelpTool\"},{\"attributes\":{},\"id\":\"7444\",\"type\":\"Selection\"},{\"attributes\":{\"callback\":null,\"data\":{\"left\":[0.0,2.0,4.0,6.0,8.0,10.0,12.0,14.0,16.0,18.0,20.0,22.0,24.0,26.0,28.0,30.0,32.0,34.0,36.0,38.0,40.0,42.0,44.0,46.0,48.0,50.0,52.0,54.0,56.0,58.0,60.0,62.0,64.0,66.0,68.0,70.0,72.0,74.0,76.0,78.0,80.0,82.0,84.0,86.0,88.0,90.0,92.0,94.0,96.0,98.0],\"right\":[2.0,4.0,6.0,8.0,10.0,12.0,14.0,16.0,18.0,20.0,22.0,24.0,26.0,28.0,30.0,32.0,34.0,36.0,38.0,40.0,42.0,44.0,46.0,48.0,50.0,52.0,54.0,56.0,58.0,60.0,62.0,64.0,66.0,68.0,70.0,72.0,74.0,76.0,78.0,80.0,82.0,84.0,86.0,88.0,90.0,92.0,94.0,96.0,98.0,100.0],\"top\":[3297579,4333661,4100155,4452044,4942738,5596062,6407090,7018794,7500174,7279630,6676761,6444647,6633760,6806166,6662654,6861303,6934801,6694030,6921866,6863718,6441484,6723338,6597855,6092994,6401247,6248615,5721710,6103900,6021403,5366314,5741000,5626018,5084752,5406823,5230526,4659278,5057202,4950969,4501216,4730195,4367850,3653837,3965738,3969222,3461719,3614571,3482518,3219915,3625554,156004031]},\"selected\":{\"id\":\"7444\",\"type\":\"Selection\"},\"selection_policy\":{\"id\":\"7443\",\"type\":\"UnionRenderers\"}},\"id\":\"7195\",\"type\":\"ColumnDataSource\"},{\"attributes\":{\"dimension\":1,\"ticker\":{\"id\":\"7178\",\"type\":\"BasicTicker\"}},\"id\":\"7181\",\"type\":\"Grid\"},{\"attributes\":{},\"id\":\"7168\",\"type\":\"LinearScale\"},{\"attributes\":{},\"id\":\"7183\",\"type\":\"WheelZoomTool\"},{\"attributes\":{},\"id\":\"7170\",\"type\":\"LinearScale\"},{\"attributes\":{\"axis_label\":\"Frequency\",\"formatter\":{\"id\":\"7442\",\"type\":\"BasicTickFormatter\"},\"ticker\":{\"id\":\"7178\",\"type\":\"BasicTicker\"}},\"id\":\"7177\",\"type\":\"LinearAxis\"},{\"attributes\":{},\"id\":\"7173\",\"type\":\"BasicTicker\"},{\"attributes\":{\"bottom\":{\"value\":0},\"fill_alpha\":{\"value\":0.1},\"fill_color\":{\"value\":\"#1f77b4\"},\"left\":{\"field\":\"left\"},\"line_alpha\":{\"value\":0.1},\"line_color\":{\"value\":\"#1f77b4\"},\"right\":{\"field\":\"right\"},\"top\":{\"field\":\"top\"}},\"id\":\"7197\",\"type\":\"Quad\"},{\"attributes\":{},\"id\":\"7178\",\"type\":\"BasicTicker\"},{\"attributes\":{},\"id\":\"7443\",\"type\":\"UnionRenderers\"},{\"attributes\":{\"active_drag\":\"auto\",\"active_inspect\":\"auto\",\"active_multi\":null,\"active_scroll\":\"auto\",\"active_tap\":\"auto\",\"tools\":[{\"id\":\"7182\",\"type\":\"PanTool\"},{\"id\":\"7183\",\"type\":\"WheelZoomTool\"},{\"id\":\"7184\",\"type\":\"BoxZoomTool\"},{\"id\":\"7185\",\"type\":\"SaveTool\"},{\"id\":\"7186\",\"type\":\"ResetTool\"},{\"id\":\"7187\",\"type\":\"HelpTool\"}]},\"id\":\"7188\",\"type\":\"Toolbar\"},{\"attributes\":{\"ticker\":{\"id\":\"7173\",\"type\":\"BasicTicker\"}},\"id\":\"7176\",\"type\":\"Grid\"},{\"attributes\":{\"data_source\":{\"id\":\"7195\",\"type\":\"ColumnDataSource\"},\"glyph\":{\"id\":\"7196\",\"type\":\"Quad\"},\"hover_glyph\":null,\"muted_glyph\":null,\"nonselection_glyph\":{\"id\":\"7197\",\"type\":\"Quad\"},\"selection_glyph\":null,\"view\":{\"id\":\"7199\",\"type\":\"CDSView\"}},\"id\":\"7198\",\"type\":\"GlyphRenderer\"},{\"attributes\":{\"axis_label\":\"Genotype quality\",\"formatter\":{\"id\":\"7440\",\"type\":\"BasicTickFormatter\"},\"ticker\":{\"id\":\"7173\",\"type\":\"BasicTicker\"}},\"id\":\"7172\",\"type\":\"LinearAxis\"},{\"attributes\":{\"source\":{\"id\":\"7195\",\"type\":\"ColumnDataSource\"}},\"id\":\"7199\",\"type\":\"CDSView\"},{\"attributes\":{},\"id\":\"7440\",\"type\":\"BasicTickFormatter\"},{\"attributes\":{\"callback\":null},\"id\":\"7166\",\"type\":\"DataRange1d\"},{\"attributes\":{},\"id\":\"7182\",\"type\":\"PanTool\"},{\"attributes\":{\"callback\":null,\"end\":105.0,\"start\":-5.0},\"id\":\"7164\",\"type\":\"Range1d\"},{\"attributes\":{},\"id\":\"7186\",\"type\":\"ResetTool\"}],\"root_ids\":[\"7162\"]},\"title\":\"Bokeh Application\",\"version\":\"1.2.0\"}};\n",
       "  var render_items = [{\"docid\":\"43a73b33-8d4a-4c33-857f-1fe4b263203b\",\"roots\":{\"7162\":\"f470f53e-3cba-4b30-afdf-56350470218b\"}}];\n",
       "  root.Bokeh.embed.embed_items_notebook(docs_json, render_items);\n",
       "\n",
       "  }\n",
       "  if (root.Bokeh !== undefined) {\n",
       "    embed_document(root);\n",
       "  } else {\n",
       "    var attempts = 0;\n",
       "    var timer = setInterval(function(root) {\n",
       "      if (root.Bokeh !== undefined) {\n",
       "        embed_document(root);\n",
       "        clearInterval(timer);\n",
       "      }\n",
       "      attempts++;\n",
       "      if (attempts > 100) {\n",
       "        console.log(\"Bokeh: ERROR: Unable to run BokehJS code because BokehJS library is missing\");\n",
       "        clearInterval(timer);\n",
       "      }\n",
       "    }, 10, root)\n",
       "  }\n",
       "})(window);"
      ],
      "application/vnd.bokehjs_exec.v0+json": ""
     },
     "metadata": {
      "application/vnd.bokehjs_exec.v0+json": {
       "id": "7162"
      }
     },
     "output_type": "display_data"
    }
   ],
   "source": [
    "p = hl.plot.histogram(mt.GQ, range=(0, 100))\n",
    "p.xaxis.axis_label = 'Genotype quality'\n",
    "p.plot_width = 800\n",
    "p.plot_height = 500\n",
    "show(p)"
   ]
  },
  {
   "cell_type": "markdown",
   "id": "f594e88e-a5b5-4c45-81ce-fa47a111f07e",
   "metadata": {},
   "source": [
    "### Allelic balance\n",
    "\n",
    "Note that since we've split the table, all rows are diallelic.\n",
    "\n",
    "We compute the allelic balance as $AB = \\frac{AD[1]}{DP}$. Note that DP is equivalent to $AD[0] + AD[1]$ for a diallelic site.\n",
    "\n",
    "**NOTE:** It is important that we use the split dataset here."
   ]
  },
  {
   "cell_type": "code",
   "execution_count": 164,
   "id": "b8ce0a8d-85b3-432e-8bba-af3eb96b5364",
   "metadata": {},
   "outputs": [],
   "source": [
    "split_mt = split_mt.annotate_entries(AB = split_mt.AD[1] / split_mt.DP)"
   ]
  },
  {
   "cell_type": "code",
   "execution_count": 165,
   "id": "33fecbf9-204b-450f-8488-6ec7e2df10a9",
   "metadata": {},
   "outputs": [
    {
     "name": "stderr",
     "output_type": "stream",
     "text": [
      "[Stage 128:=====================================================> (72 + 2) / 74]"
     ]
    },
    {
     "data": {
      "text/html": [
       "\n",
       "\n",
       "\n",
       "\n",
       "\n",
       "\n",
       "  <div class=\"bk-root\" id=\"4c2339ca-8110-4a99-aa5b-51182f237b35\" data-root-id=\"7494\"></div>\n"
      ]
     },
     "metadata": {},
     "output_type": "display_data"
    },
    {
     "data": {
      "application/javascript": [
       "(function(root) {\n",
       "  function embed_document(root) {\n",
       "    \n",
       "  var docs_json = {\"c3af12fb-8419-473a-894d-1b0bcb475414\":{\"roots\":{\"references\":[{\"attributes\":{\"background_fill_color\":{\"value\":\"#EEEEEE\"},\"below\":[{\"id\":\"7504\",\"type\":\"LinearAxis\"}],\"center\":[{\"id\":\"7508\",\"type\":\"Grid\"},{\"id\":\"7513\",\"type\":\"Grid\"}],\"left\":[{\"id\":\"7509\",\"type\":\"LinearAxis\"}],\"plot_height\":500,\"plot_width\":800,\"renderers\":[{\"id\":\"7530\",\"type\":\"GlyphRenderer\"}],\"title\":null,\"toolbar\":{\"id\":\"7520\",\"type\":\"Toolbar\"},\"x_range\":{\"id\":\"7496\",\"type\":\"Range1d\"},\"x_scale\":{\"id\":\"7500\",\"type\":\"LinearScale\"},\"y_range\":{\"id\":\"7498\",\"type\":\"DataRange1d\"},\"y_scale\":{\"id\":\"7502\",\"type\":\"LinearScale\"}},\"id\":\"7494\",\"subtype\":\"Figure\",\"type\":\"Plot\"},{\"attributes\":{\"data_source\":{\"id\":\"7527\",\"type\":\"ColumnDataSource\"},\"glyph\":{\"id\":\"7528\",\"type\":\"Quad\"},\"hover_glyph\":null,\"muted_glyph\":null,\"nonselection_glyph\":{\"id\":\"7529\",\"type\":\"Quad\"},\"selection_glyph\":null,\"view\":{\"id\":\"7531\",\"type\":\"CDSView\"}},\"id\":\"7530\",\"type\":\"GlyphRenderer\"},{\"attributes\":{\"axis_label\":\"Allelic balance\",\"formatter\":{\"id\":\"7780\",\"type\":\"BasicTickFormatter\"},\"ticker\":{\"id\":\"7505\",\"type\":\"BasicTicker\"}},\"id\":\"7504\",\"type\":\"LinearAxis\"},{\"attributes\":{},\"id\":\"7783\",\"type\":\"UnionRenderers\"},{\"attributes\":{},\"id\":\"7514\",\"type\":\"PanTool\"},{\"attributes\":{},\"id\":\"7519\",\"type\":\"HelpTool\"},{\"attributes\":{},\"id\":\"7784\",\"type\":\"Selection\"},{\"attributes\":{\"dimension\":1,\"ticker\":{\"id\":\"7510\",\"type\":\"BasicTicker\"}},\"id\":\"7513\",\"type\":\"Grid\"},{\"attributes\":{},\"id\":\"7782\",\"type\":\"BasicTickFormatter\"},{\"attributes\":{},\"id\":\"7500\",\"type\":\"LinearScale\"},{\"attributes\":{\"callback\":null,\"data\":{\"left\":[0.0,0.02,0.04,0.06,0.08,0.1,0.12,0.14,0.16,0.18,0.2,0.22,0.24,0.26,0.28,0.3,0.32,0.34,0.36,0.38,0.4,0.42,0.44,0.46,0.48,0.5,0.52,0.54,0.56,0.58,0.6,0.62,0.64,0.66,0.68,0.7000000000000001,0.72,0.74,0.76,0.78,0.8,0.8200000000000001,0.84,0.86,0.88,0.9,0.92,0.9400000000000001,0.96,0.98],\"right\":[0.02,0.04,0.06,0.08,0.1,0.12,0.14,0.16,0.18,0.2,0.22,0.24,0.26,0.28,0.3,0.32,0.34,0.36,0.38,0.4,0.42,0.44,0.46,0.48,0.5,0.52,0.54,0.56,0.58,0.6,0.62,0.64,0.66,0.68,0.7000000000000001,0.72,0.74,0.76,0.78,0.8,0.8200000000000001,0.84,0.86,0.88,0.9,0.92,0.9400000000000001,0.96,0.98,1.0],\"top\":[3055363,8903,26946,241601,669434,1278070,1395234,1539268,1168500,878654,1274482,1032300,1078733,784189,968236,1102689,1674627,938189,1548843,1134931,2450391,2078284,2054515,2124281,1041606,4007771,1800617,1757438,1679467,986808,1662550,1052280,573587,1347828,578559,443931,319556,621098,252354,87971,408741,216602,161087,102172,93521,38366,20369,3141,445,612303]},\"selected\":{\"id\":\"7784\",\"type\":\"Selection\"},\"selection_policy\":{\"id\":\"7783\",\"type\":\"UnionRenderers\"}},\"id\":\"7527\",\"type\":\"ColumnDataSource\"},{\"attributes\":{\"callback\":null},\"id\":\"7498\",\"type\":\"DataRange1d\"},{\"attributes\":{\"ticker\":{\"id\":\"7505\",\"type\":\"BasicTicker\"}},\"id\":\"7508\",\"type\":\"Grid\"},{\"attributes\":{\"axis_label\":\"Frequency\",\"formatter\":{\"id\":\"7782\",\"type\":\"BasicTickFormatter\"},\"ticker\":{\"id\":\"7510\",\"type\":\"BasicTicker\"}},\"id\":\"7509\",\"type\":\"LinearAxis\"},{\"attributes\":{},\"id\":\"7517\",\"type\":\"SaveTool\"},{\"attributes\":{},\"id\":\"7505\",\"type\":\"BasicTicker\"},{\"attributes\":{\"callback\":null,\"end\":1.05,\"start\":-0.05},\"id\":\"7496\",\"type\":\"Range1d\"},{\"attributes\":{\"active_drag\":\"auto\",\"active_inspect\":\"auto\",\"active_multi\":null,\"active_scroll\":\"auto\",\"active_tap\":\"auto\",\"tools\":[{\"id\":\"7514\",\"type\":\"PanTool\"},{\"id\":\"7515\",\"type\":\"WheelZoomTool\"},{\"id\":\"7516\",\"type\":\"BoxZoomTool\"},{\"id\":\"7517\",\"type\":\"SaveTool\"},{\"id\":\"7518\",\"type\":\"ResetTool\"},{\"id\":\"7519\",\"type\":\"HelpTool\"}]},\"id\":\"7520\",\"type\":\"Toolbar\"},{\"attributes\":{},\"id\":\"7510\",\"type\":\"BasicTicker\"},{\"attributes\":{\"source\":{\"id\":\"7527\",\"type\":\"ColumnDataSource\"}},\"id\":\"7531\",\"type\":\"CDSView\"},{\"attributes\":{},\"id\":\"7518\",\"type\":\"ResetTool\"},{\"attributes\":{},\"id\":\"7780\",\"type\":\"BasicTickFormatter\"},{\"attributes\":{\"bottom\":{\"value\":0},\"fill_alpha\":{\"value\":0.1},\"fill_color\":{\"value\":\"#1f77b4\"},\"left\":{\"field\":\"left\"},\"line_alpha\":{\"value\":0.1},\"line_color\":{\"value\":\"#1f77b4\"},\"right\":{\"field\":\"right\"},\"top\":{\"field\":\"top\"}},\"id\":\"7529\",\"type\":\"Quad\"},{\"attributes\":{},\"id\":\"7515\",\"type\":\"WheelZoomTool\"},{\"attributes\":{\"bottom\":{\"value\":0},\"fill_color\":{\"value\":\"#1f77b4\"},\"left\":{\"field\":\"left\"},\"right\":{\"field\":\"right\"},\"top\":{\"field\":\"top\"}},\"id\":\"7528\",\"type\":\"Quad\"},{\"attributes\":{\"overlay\":{\"id\":\"7785\",\"type\":\"BoxAnnotation\"}},\"id\":\"7516\",\"type\":\"BoxZoomTool\"},{\"attributes\":{\"bottom_units\":\"screen\",\"fill_alpha\":{\"value\":0.5},\"fill_color\":{\"value\":\"lightgrey\"},\"left_units\":\"screen\",\"level\":\"overlay\",\"line_alpha\":{\"value\":1.0},\"line_color\":{\"value\":\"black\"},\"line_dash\":[4,4],\"line_width\":{\"value\":2},\"render_mode\":\"css\",\"right_units\":\"screen\",\"top_units\":\"screen\"},\"id\":\"7785\",\"type\":\"BoxAnnotation\"},{\"attributes\":{},\"id\":\"7502\",\"type\":\"LinearScale\"}],\"root_ids\":[\"7494\"]},\"title\":\"Bokeh Application\",\"version\":\"1.2.0\"}};\n",
       "  var render_items = [{\"docid\":\"c3af12fb-8419-473a-894d-1b0bcb475414\",\"roots\":{\"7494\":\"4c2339ca-8110-4a99-aa5b-51182f237b35\"}}];\n",
       "  root.Bokeh.embed.embed_items_notebook(docs_json, render_items);\n",
       "\n",
       "  }\n",
       "  if (root.Bokeh !== undefined) {\n",
       "    embed_document(root);\n",
       "  } else {\n",
       "    var attempts = 0;\n",
       "    var timer = setInterval(function(root) {\n",
       "      if (root.Bokeh !== undefined) {\n",
       "        embed_document(root);\n",
       "        clearInterval(timer);\n",
       "      }\n",
       "      attempts++;\n",
       "      if (attempts > 100) {\n",
       "        console.log(\"Bokeh: ERROR: Unable to run BokehJS code because BokehJS library is missing\");\n",
       "        clearInterval(timer);\n",
       "      }\n",
       "    }, 10, root)\n",
       "  }\n",
       "})(window);"
      ],
      "application/vnd.bokehjs_exec.v0+json": ""
     },
     "metadata": {
      "application/vnd.bokehjs_exec.v0+json": {
       "id": "7494"
      }
     },
     "output_type": "display_data"
    }
   ],
   "source": [
    "hets_mt = split_mt.filter_entries(split_mt.GT.is_het())\n",
    "p = hl.plot.histogram(hets_mt.AB, range=(0, 1))\n",
    "p.xaxis.axis_label = 'Allelic balance'\n",
    "p.plot_width = 800\n",
    "p.plot_height = 500\n",
    "show(p)"
   ]
  },
  {
   "cell_type": "markdown",
   "id": "82542e77-dfc9-4ef2-a9e7-1718cae1c01e",
   "metadata": {},
   "source": [
    "## Apply filters\n",
    "\n",
    "Remove all variants failing any of the VQSR filters.\n",
    "\n",
    "**NOTE:** We must not used the split dataset for filtering VQSR. This is because VQSR consideres all alleles in the site jointly (unless [allele specific annotations](https://gatk.broadinstitute.org/hc/en-us/articles/360035890551?id=9622) have been used).\n",
    "\n",
    "**FIXME:** be smart about when I use `hl.variant_qc()`."
   ]
  },
  {
   "cell_type": "code",
   "execution_count": 166,
   "id": "623f53c8-afda-4456-90c3-5e585fc259fe",
   "metadata": {},
   "outputs": [],
   "source": [
    "mt = mt.filter_rows(mt.filters == '')"
   ]
  },
  {
   "cell_type": "markdown",
   "id": "ffaf1441-45c6-4c5a-a9a0-cab5514f7378",
   "metadata": {},
   "source": [
    "We also use some hard filters. These are the same as the ones used in the single sample version of the [LinkSeq pipeline](https://github.com/olavurmortensen/linkseq/blob/master/main.nf#L593).\n",
    "\n",
    "**NOTE:** We here assume that there only two types of variants in the data, SNPs and indels."
   ]
  },
  {
   "cell_type": "code",
   "execution_count": 167,
   "id": "b96d191c-d2eb-44c0-8e06-6ba8a735cdb9",
   "metadata": {},
   "outputs": [],
   "source": [
    "mt = mt.filter_rows(hl.if_else(\n",
    "    hl.is_snp(mt.alleles[0],mt.alleles[1]),\n",
    "    (mt.info.QD > 2) & (mt.info.SOR < 3) & (mt.info.FS < 60) & (mt.info.MQ > 40) & (mt.info.MQRankSum > -12.5) & (mt.info.ReadPosRankSum > -8),\n",
    "    (mt.info.QD > 2) & (mt.info.FS < 200) & (mt.info.ReadPosRankSum > -20)))"
   ]
  },
  {
   "cell_type": "markdown",
   "id": "51e4d030-d7d1-447d-89fc-2d6b2a32a7b3",
   "metadata": {},
   "source": [
    "Filter genotypes with low quality (GQ), using GQ > 20 for SNPs and GQ > 40 for indels.\n",
    "\n",
    "After the filter some sites may have become invariant. These are removed.\n",
    "\n",
    "NOTE: Many (or most) of the lower quality genotypes, i.e. the low-end tail of the histogram above, are indels."
   ]
  },
  {
   "cell_type": "code",
   "execution_count": 168,
   "id": "4833384e-be27-4908-8751-8e6282407259",
   "metadata": {},
   "outputs": [],
   "source": [
    "mt = mt.filter_entries(hl.if_else(\n",
    "    hl.is_snp(mt.alleles[0],mt.alleles[1]),\n",
    "    mt.GQ > 20,\n",
    "    mt.GQ > 40))"
   ]
  },
  {
   "cell_type": "markdown",
   "id": "79449886-50eb-4b5e-a4b9-95a3cfe45a8f",
   "metadata": {},
   "source": [
    "Before we can filter by allelic balance and do HWE filtering, we need to split multi-allelic sites."
   ]
  },
  {
   "cell_type": "code",
   "execution_count": 169,
   "id": "5c24fb13-d503-464e-b27e-15db256d208b",
   "metadata": {},
   "outputs": [],
   "source": [
    "# NOTE: permit_shuffle is needed when there are duplicate loci, one of which has multiple alternate alleles. Apparently, this dataset has such sites.\n",
    "mt = hl.split_multi_hts(mt, permit_shuffle=True)"
   ]
  },
  {
   "cell_type": "markdown",
   "id": "8094081d-634e-45ce-bcb5-1cf1f05d98ac",
   "metadata": {},
   "source": [
    "Filter all heterozygotes with allelic balance outside the range of $]0.25;0.75[$."
   ]
  },
  {
   "cell_type": "code",
   "execution_count": 170,
   "id": "907ef152-29e0-4f26-88c3-b70635ea8ac2",
   "metadata": {},
   "outputs": [],
   "source": [
    "mt = mt.annotate_entries(AB = mt.AD[1] / mt.DP)"
   ]
  },
  {
   "cell_type": "code",
   "execution_count": 171,
   "id": "095fbfdc-86ac-4b3a-8974-e73f0151c689",
   "metadata": {},
   "outputs": [],
   "source": [
    "mt = mt.filter_entries(hl.if_else(\n",
    "    mt.GT.is_het(),\n",
    "    (mt.AB > 0.25) & (mt.AB < 0.75),\n",
    "    True))"
   ]
  },
  {
   "cell_type": "markdown",
   "id": "b8ee276b-8c08-4a72-849f-e79f98ac7a25",
   "metadata": {},
   "source": [
    "Remove variants that significantly deviate from HWE. We use a p-value of $10^{-9}$ for SNPs and $10^{-6}$ for indels. Since our criteria for indels is 1000 times more stringent than for SNPs, we cannot expect the indels to carry information about population structure and inbreeding."
   ]
  },
  {
   "cell_type": "code",
   "execution_count": 172,
   "id": "a834a883-afcb-45e4-8121-24364c315b34",
   "metadata": {},
   "outputs": [],
   "source": [
    "# Update variant statistics.\n",
    "mt = hl.variant_qc(mt)\n",
    "\n",
    "mt = mt.filter_rows(hl.if_else(\n",
    "    hl.is_snp(mt.alleles[0], mt.alleles[1]),\n",
    "    mt.variant_qc.p_value_hwe > 1e-9,\n",
    "    mt.variant_qc.p_value_hwe > 1e-6))"
   ]
  },
  {
   "cell_type": "markdown",
   "id": "b54c465b-a581-4417-b3f1-eeef51802a4b",
   "metadata": {},
   "source": [
    "Remove singletons."
   ]
  },
  {
   "cell_type": "code",
   "execution_count": 173,
   "id": "c98742c0-1916-42df-8445-7adc353811d1",
   "metadata": {},
   "outputs": [],
   "source": [
    "mt = mt.filter_rows(mt.variant_qc.AC[1] > 1)"
   ]
  },
  {
   "cell_type": "code",
   "execution_count": 174,
   "id": "5d242080-c7e4-4e96-8dc5-f23b110fd63e",
   "metadata": {},
   "outputs": [
    {
     "name": "stderr",
     "output_type": "stream",
     "text": [
      "[Stage 129:======================================================>(73 + 1) / 74]"
     ]
    },
    {
     "data": {
      "text/html": [
       "<div>\n",
       "<style scoped>\n",
       "    .dataframe tbody tr th:only-of-type {\n",
       "        vertical-align: middle;\n",
       "    }\n",
       "\n",
       "    .dataframe tbody tr th {\n",
       "        vertical-align: top;\n",
       "    }\n",
       "\n",
       "    .dataframe thead th {\n",
       "        text-align: right;\n",
       "    }\n",
       "</style>\n",
       "<table border=\"1\" class=\"dataframe\">\n",
       "  <thead>\n",
       "    <tr style=\"text-align: right;\">\n",
       "      <th></th>\n",
       "      <th></th>\n",
       "    </tr>\n",
       "  </thead>\n",
       "  <tbody>\n",
       "    <tr>\n",
       "      <th>n_variants</th>\n",
       "      <td>148305.000000</td>\n",
       "    </tr>\n",
       "    <tr>\n",
       "      <th>snps_fraction</th>\n",
       "      <td>0.841172</td>\n",
       "    </tr>\n",
       "    <tr>\n",
       "      <th>insertions_fraction</th>\n",
       "      <td>0.072648</td>\n",
       "    </tr>\n",
       "    <tr>\n",
       "      <th>deletions_fraction</th>\n",
       "      <td>0.086181</td>\n",
       "    </tr>\n",
       "    <tr>\n",
       "      <th>mnp_fraction</th>\n",
       "      <td>0.000000</td>\n",
       "    </tr>\n",
       "    <tr>\n",
       "      <th>complex_fraction</th>\n",
       "      <td>0.000000</td>\n",
       "    </tr>\n",
       "    <tr>\n",
       "      <th>star_fraction</th>\n",
       "      <td>0.000000</td>\n",
       "    </tr>\n",
       "  </tbody>\n",
       "</table>\n",
       "</div>"
      ],
      "text/plain": [
       "                                  \n",
       "n_variants           148305.000000\n",
       "snps_fraction             0.841172\n",
       "insertions_fraction       0.072648\n",
       "deletions_fraction        0.086181\n",
       "mnp_fraction              0.000000\n",
       "complex_fraction          0.000000\n",
       "star_fraction             0.000000"
      ]
     },
     "execution_count": 174,
     "metadata": {},
     "output_type": "execute_result"
    }
   ],
   "source": [
    "variant_counts(mt)"
   ]
  },
  {
   "cell_type": "markdown",
   "id": "middle-seafood",
   "metadata": {},
   "source": [
    "## Sample QC\n",
    "\n",
    "Below we see histograms of sample mean genotype quality and genotype depth. Most samples seem to have good depth and quality, although the deviation between samples is quite large. There are some samples with low depth and quality, but we will not worry about these."
   ]
  },
  {
   "cell_type": "code",
   "execution_count": 175,
   "id": "62a75cc3-0cf1-4c64-b7f0-b473e681f07d",
   "metadata": {},
   "outputs": [],
   "source": [
    "mt = hl.sample_qc(mt)"
   ]
  },
  {
   "cell_type": "code",
   "execution_count": 176,
   "id": "worth-desperate",
   "metadata": {},
   "outputs": [
    {
     "name": "stderr",
     "output_type": "stream",
     "text": [
      "[Stage 130:======================================================>(73 + 1) / 74]"
     ]
    },
    {
     "data": {
      "text/html": [
       "\n",
       "\n",
       "\n",
       "\n",
       "\n",
       "\n",
       "  <div class=\"bk-root\" id=\"11a3bc28-b976-424c-ab1f-30c0c8b6852d\" data-root-id=\"7834\"></div>\n"
      ]
     },
     "metadata": {},
     "output_type": "display_data"
    },
    {
     "data": {
      "application/javascript": [
       "(function(root) {\n",
       "  function embed_document(root) {\n",
       "    \n",
       "  var docs_json = {\"a9d1874a-cff5-4ae8-b2dd-2d84e3c4a576\":{\"roots\":{\"references\":[{\"attributes\":{\"background_fill_color\":{\"value\":\"#EEEEEE\"},\"below\":[{\"id\":\"7844\",\"type\":\"LinearAxis\"}],\"center\":[{\"id\":\"7848\",\"type\":\"Grid\"},{\"id\":\"7853\",\"type\":\"Grid\"},{\"id\":\"7878\",\"type\":\"Legend\"}],\"left\":[{\"id\":\"7849\",\"type\":\"LinearAxis\"}],\"plot_height\":500,\"plot_width\":800,\"renderers\":[{\"id\":\"7870\",\"type\":\"GlyphRenderer\"}],\"title\":null,\"toolbar\":{\"id\":\"7860\",\"type\":\"Toolbar\"},\"x_range\":{\"id\":\"7836\",\"type\":\"Range1d\"},\"x_scale\":{\"id\":\"7840\",\"type\":\"LinearScale\"},\"y_range\":{\"id\":\"7838\",\"type\":\"DataRange1d\"},\"y_scale\":{\"id\":\"7842\",\"type\":\"LinearScale\"}},\"id\":\"7834\",\"subtype\":\"Figure\",\"type\":\"Plot\"},{\"attributes\":{\"label\":{\"value\":\"Mean Sample GQ\"},\"renderers\":[{\"id\":\"7870\",\"type\":\"GlyphRenderer\"}]},\"id\":\"7879\",\"type\":\"LegendItem\"},{\"attributes\":{\"dimension\":1,\"ticker\":{\"id\":\"7850\",\"type\":\"BasicTicker\"}},\"id\":\"7853\",\"type\":\"Grid\"},{\"attributes\":{},\"id\":\"7859\",\"type\":\"HelpTool\"},{\"attributes\":{},\"id\":\"7874\",\"type\":\"BasicTickFormatter\"},{\"attributes\":{},\"id\":\"7854\",\"type\":\"PanTool\"},{\"attributes\":{\"items\":[{\"id\":\"7879\",\"type\":\"LegendItem\"}]},\"id\":\"7878\",\"type\":\"Legend\"},{\"attributes\":{\"callback\":null,\"data\":{\"left\":[0.0,2.0,4.0,6.0,8.0,10.0,12.0,14.0,16.0,18.0,20.0,22.0,24.0,26.0,28.0,30.0,32.0,34.0,36.0,38.0,40.0,42.0,44.0,46.0,48.0,50.0,52.0,54.0,56.0,58.0,60.0,62.0,64.0,66.0,68.0,70.0,72.0,74.0,76.0,78.0,80.0,82.0,84.0,86.0,88.0,90.0,92.0,94.0,96.0,98.0],\"right\":[2.0,4.0,6.0,8.0,10.0,12.0,14.0,16.0,18.0,20.0,22.0,24.0,26.0,28.0,30.0,32.0,34.0,36.0,38.0,40.0,42.0,44.0,46.0,48.0,50.0,52.0,54.0,56.0,58.0,60.0,62.0,64.0,66.0,68.0,70.0,72.0,74.0,76.0,78.0,80.0,82.0,84.0,86.0,88.0,90.0,92.0,94.0,96.0,98.0,100.0],\"top\":[0,0,0,0,0,0,0,0,0,0,0,0,0,0,0,0,0,0,0,0,0,1,0,0,1,1,0,1,3,2,3,6,3,6,7,16,24,24,37,42,53,65,52,54,31,25,10,5,1,0]},\"selected\":{\"id\":\"8140\",\"type\":\"Selection\"},\"selection_policy\":{\"id\":\"8139\",\"type\":\"UnionRenderers\"}},\"id\":\"7867\",\"type\":\"ColumnDataSource\"},{\"attributes\":{},\"id\":\"7858\",\"type\":\"ResetTool\"},{\"attributes\":{\"overlay\":{\"id\":\"7877\",\"type\":\"BoxAnnotation\"}},\"id\":\"7856\",\"type\":\"BoxZoomTool\"},{\"attributes\":{},\"id\":\"7842\",\"type\":\"LinearScale\"},{\"attributes\":{\"callback\":null},\"id\":\"7838\",\"type\":\"DataRange1d\"},{\"attributes\":{\"active_drag\":\"auto\",\"active_inspect\":\"auto\",\"active_multi\":null,\"active_scroll\":\"auto\",\"active_tap\":\"auto\",\"tools\":[{\"id\":\"7854\",\"type\":\"PanTool\"},{\"id\":\"7855\",\"type\":\"WheelZoomTool\"},{\"id\":\"7856\",\"type\":\"BoxZoomTool\"},{\"id\":\"7857\",\"type\":\"SaveTool\"},{\"id\":\"7858\",\"type\":\"ResetTool\"},{\"id\":\"7859\",\"type\":\"HelpTool\"}]},\"id\":\"7860\",\"type\":\"Toolbar\"},{\"attributes\":{\"bottom\":{\"value\":0},\"fill_alpha\":{\"value\":0.1},\"fill_color\":{\"value\":\"#1f77b4\"},\"left\":{\"field\":\"left\"},\"line_alpha\":{\"value\":0.1},\"line_color\":{\"value\":\"#1f77b4\"},\"right\":{\"field\":\"right\"},\"top\":{\"field\":\"top\"}},\"id\":\"7869\",\"type\":\"Quad\"},{\"attributes\":{\"axis_label\":\"Mean Sample GQ\",\"formatter\":{\"id\":\"7874\",\"type\":\"BasicTickFormatter\"},\"ticker\":{\"id\":\"7845\",\"type\":\"BasicTicker\"}},\"id\":\"7844\",\"type\":\"LinearAxis\"},{\"attributes\":{},\"id\":\"7857\",\"type\":\"SaveTool\"},{\"attributes\":{},\"id\":\"7876\",\"type\":\"BasicTickFormatter\"},{\"attributes\":{},\"id\":\"8140\",\"type\":\"Selection\"},{\"attributes\":{\"bottom\":{\"value\":0},\"fill_color\":{\"value\":\"#1f77b4\"},\"left\":{\"field\":\"left\"},\"right\":{\"field\":\"right\"},\"top\":{\"field\":\"top\"}},\"id\":\"7868\",\"type\":\"Quad\"},{\"attributes\":{},\"id\":\"8139\",\"type\":\"UnionRenderers\"},{\"attributes\":{\"bottom_units\":\"screen\",\"fill_alpha\":{\"value\":0.5},\"fill_color\":{\"value\":\"lightgrey\"},\"left_units\":\"screen\",\"level\":\"overlay\",\"line_alpha\":{\"value\":1.0},\"line_color\":{\"value\":\"black\"},\"line_dash\":[4,4],\"line_width\":{\"value\":2},\"render_mode\":\"css\",\"right_units\":\"screen\",\"top_units\":\"screen\"},\"id\":\"7877\",\"type\":\"BoxAnnotation\"},{\"attributes\":{\"axis_label\":\"Frequency\",\"formatter\":{\"id\":\"7876\",\"type\":\"BasicTickFormatter\"},\"ticker\":{\"id\":\"7850\",\"type\":\"BasicTicker\"}},\"id\":\"7849\",\"type\":\"LinearAxis\"},{\"attributes\":{\"ticker\":{\"id\":\"7845\",\"type\":\"BasicTicker\"}},\"id\":\"7848\",\"type\":\"Grid\"},{\"attributes\":{},\"id\":\"7840\",\"type\":\"LinearScale\"},{\"attributes\":{},\"id\":\"7850\",\"type\":\"BasicTicker\"},{\"attributes\":{\"callback\":null,\"end\":105.0,\"start\":-5.0},\"id\":\"7836\",\"type\":\"Range1d\"},{\"attributes\":{\"data_source\":{\"id\":\"7867\",\"type\":\"ColumnDataSource\"},\"glyph\":{\"id\":\"7868\",\"type\":\"Quad\"},\"hover_glyph\":null,\"muted_glyph\":null,\"nonselection_glyph\":{\"id\":\"7869\",\"type\":\"Quad\"},\"selection_glyph\":null,\"view\":{\"id\":\"7871\",\"type\":\"CDSView\"}},\"id\":\"7870\",\"type\":\"GlyphRenderer\"},{\"attributes\":{},\"id\":\"7845\",\"type\":\"BasicTicker\"},{\"attributes\":{},\"id\":\"7855\",\"type\":\"WheelZoomTool\"},{\"attributes\":{\"source\":{\"id\":\"7867\",\"type\":\"ColumnDataSource\"}},\"id\":\"7871\",\"type\":\"CDSView\"}],\"root_ids\":[\"7834\"]},\"title\":\"Bokeh Application\",\"version\":\"1.2.0\"}};\n",
       "  var render_items = [{\"docid\":\"a9d1874a-cff5-4ae8-b2dd-2d84e3c4a576\",\"roots\":{\"7834\":\"11a3bc28-b976-424c-ab1f-30c0c8b6852d\"}}];\n",
       "  root.Bokeh.embed.embed_items_notebook(docs_json, render_items);\n",
       "\n",
       "  }\n",
       "  if (root.Bokeh !== undefined) {\n",
       "    embed_document(root);\n",
       "  } else {\n",
       "    var attempts = 0;\n",
       "    var timer = setInterval(function(root) {\n",
       "      if (root.Bokeh !== undefined) {\n",
       "        embed_document(root);\n",
       "        clearInterval(timer);\n",
       "      }\n",
       "      attempts++;\n",
       "      if (attempts > 100) {\n",
       "        console.log(\"Bokeh: ERROR: Unable to run BokehJS code because BokehJS library is missing\");\n",
       "        clearInterval(timer);\n",
       "      }\n",
       "    }, 10, root)\n",
       "  }\n",
       "})(window);"
      ],
      "application/vnd.bokehjs_exec.v0+json": ""
     },
     "metadata": {
      "application/vnd.bokehjs_exec.v0+json": {
       "id": "7834"
      }
     },
     "output_type": "display_data"
    }
   ],
   "source": [
    "p = hl.plot.histogram(mt.sample_qc.gq_stats.mean, range=(0,100), legend='Mean Sample GQ')\n",
    "p.plot_width = 800\n",
    "p.plot_height = 500\n",
    "show(p)"
   ]
  },
  {
   "cell_type": "code",
   "execution_count": 177,
   "id": "manufactured-guidance",
   "metadata": {},
   "outputs": [
    {
     "name": "stderr",
     "output_type": "stream",
     "text": [
      "[Stage 133:======================================================>(73 + 1) / 74]"
     ]
    },
    {
     "data": {
      "text/html": [
       "\n",
       "\n",
       "\n",
       "\n",
       "\n",
       "\n",
       "  <div class=\"bk-root\" id=\"d741ece1-2b06-4687-b751-267a8a0b79d4\" data-root-id=\"8190\"></div>\n"
      ]
     },
     "metadata": {},
     "output_type": "display_data"
    },
    {
     "data": {
      "application/javascript": [
       "(function(root) {\n",
       "  function embed_document(root) {\n",
       "    \n",
       "  var docs_json = {\"a547c2e7-8fd1-4668-b29d-4f8f51d3d8c1\":{\"roots\":{\"references\":[{\"attributes\":{\"background_fill_color\":{\"value\":\"#EEEEEE\"},\"below\":[{\"id\":\"8200\",\"type\":\"LinearAxis\"}],\"center\":[{\"id\":\"8204\",\"type\":\"Grid\"},{\"id\":\"8209\",\"type\":\"Grid\"},{\"id\":\"8234\",\"type\":\"Legend\"}],\"left\":[{\"id\":\"8205\",\"type\":\"LinearAxis\"}],\"plot_height\":500,\"plot_width\":800,\"renderers\":[{\"id\":\"8226\",\"type\":\"GlyphRenderer\"},{\"id\":\"8239\",\"type\":\"GlyphRenderer\"}],\"title\":null,\"toolbar\":{\"id\":\"8216\",\"type\":\"Toolbar\"},\"x_range\":{\"id\":\"8192\",\"type\":\"Range1d\"},\"x_scale\":{\"id\":\"8196\",\"type\":\"LinearScale\"},\"y_range\":{\"id\":\"8194\",\"type\":\"DataRange1d\"},\"y_scale\":{\"id\":\"8198\",\"type\":\"LinearScale\"}},\"id\":\"8190\",\"subtype\":\"Figure\",\"type\":\"Plot\"},{\"attributes\":{},\"id\":\"8196\",\"type\":\"LinearScale\"},{\"attributes\":{},\"id\":\"8230\",\"type\":\"BasicTickFormatter\"},{\"attributes\":{\"ticker\":{\"id\":\"8201\",\"type\":\"BasicTicker\"}},\"id\":\"8204\",\"type\":\"Grid\"},{\"attributes\":{},\"id\":\"8206\",\"type\":\"BasicTicker\"},{\"attributes\":{\"label\":{\"value\":\"Outliers Above\"},\"renderers\":[{\"id\":\"8239\",\"type\":\"GlyphRenderer\"}]},\"id\":\"8249\",\"type\":\"LegendItem\"},{\"attributes\":{},\"id\":\"8198\",\"type\":\"LinearScale\"},{\"attributes\":{\"callback\":null},\"id\":\"8194\",\"type\":\"DataRange1d\"},{\"attributes\":{\"bottom\":{\"value\":0},\"fill_color\":{\"value\":\"#1f77b4\"},\"left\":{\"field\":\"left\"},\"right\":{\"field\":\"right\"},\"top\":{\"field\":\"top\"}},\"id\":\"8224\",\"type\":\"Quad\"},{\"attributes\":{},\"id\":\"8215\",\"type\":\"HelpTool\"},{\"attributes\":{\"label\":{\"value\":\"Mean Sample DP\"},\"renderers\":[{\"id\":\"8226\",\"type\":\"GlyphRenderer\"}]},\"id\":\"8235\",\"type\":\"LegendItem\"},{\"attributes\":{},\"id\":\"8247\",\"type\":\"Selection\"},{\"attributes\":{\"data_source\":{\"id\":\"8223\",\"type\":\"ColumnDataSource\"},\"glyph\":{\"id\":\"8224\",\"type\":\"Quad\"},\"hover_glyph\":null,\"muted_glyph\":null,\"nonselection_glyph\":{\"id\":\"8225\",\"type\":\"Quad\"},\"selection_glyph\":null,\"view\":{\"id\":\"8227\",\"type\":\"CDSView\"}},\"id\":\"8226\",\"type\":\"GlyphRenderer\"},{\"attributes\":{\"axis_label\":\"Mean Sample DP\",\"formatter\":{\"id\":\"8230\",\"type\":\"BasicTickFormatter\"},\"ticker\":{\"id\":\"8201\",\"type\":\"BasicTicker\"}},\"id\":\"8200\",\"type\":\"LinearAxis\"},{\"attributes\":{\"callback\":null,\"end\":63.0,\"start\":-3.0},\"id\":\"8192\",\"type\":\"Range1d\"},{\"attributes\":{\"dimension\":1,\"ticker\":{\"id\":\"8206\",\"type\":\"BasicTicker\"}},\"id\":\"8209\",\"type\":\"Grid\"},{\"attributes\":{},\"id\":\"8210\",\"type\":\"PanTool\"},{\"attributes\":{},\"id\":\"8246\",\"type\":\"UnionRenderers\"},{\"attributes\":{\"overlay\":{\"id\":\"8233\",\"type\":\"BoxAnnotation\"}},\"id\":\"8212\",\"type\":\"BoxZoomTool\"},{\"attributes\":{\"callback\":null,\"data\":{},\"selected\":{\"id\":\"8520\",\"type\":\"Selection\"},\"selection_policy\":{\"id\":\"8519\",\"type\":\"UnionRenderers\"}},\"id\":\"8236\",\"type\":\"ColumnDataSource\"},{\"attributes\":{},\"id\":\"8232\",\"type\":\"BasicTickFormatter\"},{\"attributes\":{\"source\":{\"id\":\"8236\",\"type\":\"ColumnDataSource\"}},\"id\":\"8240\",\"type\":\"CDSView\"},{\"attributes\":{\"data_source\":{\"id\":\"8236\",\"type\":\"ColumnDataSource\"},\"glyph\":{\"id\":\"8237\",\"type\":\"Quad\"},\"hover_glyph\":null,\"muted_glyph\":null,\"nonselection_glyph\":{\"id\":\"8238\",\"type\":\"Quad\"},\"selection_glyph\":null,\"view\":{\"id\":\"8240\",\"type\":\"CDSView\"}},\"id\":\"8239\",\"type\":\"GlyphRenderer\"},{\"attributes\":{\"items\":[{\"id\":\"8235\",\"type\":\"LegendItem\"},{\"id\":\"8249\",\"type\":\"LegendItem\"}]},\"id\":\"8234\",\"type\":\"Legend\"},{\"attributes\":{},\"id\":\"8211\",\"type\":\"WheelZoomTool\"},{\"attributes\":{\"source\":{\"id\":\"8223\",\"type\":\"ColumnDataSource\"}},\"id\":\"8227\",\"type\":\"CDSView\"},{\"attributes\":{\"active_drag\":\"auto\",\"active_inspect\":\"auto\",\"active_multi\":null,\"active_scroll\":\"auto\",\"active_tap\":\"auto\",\"tools\":[{\"id\":\"8210\",\"type\":\"PanTool\"},{\"id\":\"8211\",\"type\":\"WheelZoomTool\"},{\"id\":\"8212\",\"type\":\"BoxZoomTool\"},{\"id\":\"8213\",\"type\":\"SaveTool\"},{\"id\":\"8214\",\"type\":\"ResetTool\"},{\"id\":\"8215\",\"type\":\"HelpTool\"}]},\"id\":\"8216\",\"type\":\"Toolbar\"},{\"attributes\":{},\"id\":\"8201\",\"type\":\"BasicTicker\"},{\"attributes\":{},\"id\":\"8213\",\"type\":\"SaveTool\"},{\"attributes\":{\"axis_label\":\"Frequency\",\"formatter\":{\"id\":\"8232\",\"type\":\"BasicTickFormatter\"},\"ticker\":{\"id\":\"8206\",\"type\":\"BasicTicker\"}},\"id\":\"8205\",\"type\":\"LinearAxis\"},{\"attributes\":{\"bottom\":{\"value\":0},\"fill_alpha\":{\"value\":0.1},\"fill_color\":{\"value\":\"#1f77b4\"},\"left\":{\"field\":\"left\"},\"line_alpha\":{\"value\":0.1},\"line_color\":{\"value\":\"#1f77b4\"},\"right\":{\"field\":\"right\"},\"top\":{\"field\":\"top\"}},\"id\":\"8225\",\"type\":\"Quad\"},{\"attributes\":{},\"id\":\"8214\",\"type\":\"ResetTool\"},{\"attributes\":{},\"id\":\"8519\",\"type\":\"UnionRenderers\"},{\"attributes\":{\"bottom_units\":\"screen\",\"fill_alpha\":{\"value\":0.5},\"fill_color\":{\"value\":\"lightgrey\"},\"left_units\":\"screen\",\"level\":\"overlay\",\"line_alpha\":{\"value\":1.0},\"line_color\":{\"value\":\"black\"},\"line_dash\":[4,4],\"line_width\":{\"value\":2},\"render_mode\":\"css\",\"right_units\":\"screen\",\"top_units\":\"screen\"},\"id\":\"8233\",\"type\":\"BoxAnnotation\"},{\"attributes\":{\"callback\":null,\"data\":{\"left\":[0.0,1.2,2.4,3.5999999999999996,4.8,6.0,7.199999999999999,8.4,9.6,10.799999999999999,12.0,13.2,14.399999999999999,15.6,16.8,18.0,19.2,20.4,21.599999999999998,22.8,24.0,25.2,26.4,27.599999999999998,28.799999999999997,30.0,31.2,32.4,33.6,34.8,36.0,37.199999999999996,38.4,39.6,40.8,42.0,43.199999999999996,44.4,45.6,46.8,48.0,49.199999999999996,50.4,51.6,52.8,54.0,55.199999999999996,56.4,57.599999999999994,58.8],\"right\":[1.2,2.4,3.5999999999999996,4.8,6.0,7.199999999999999,8.4,9.6,10.799999999999999,12.0,13.2,14.399999999999999,15.6,16.8,18.0,19.2,20.4,21.599999999999998,22.8,24.0,25.2,26.4,27.599999999999998,28.799999999999997,30.0,31.2,32.4,33.6,34.8,36.0,37.199999999999996,38.4,39.6,40.8,42.0,43.199999999999996,44.4,45.6,46.8,48.0,49.199999999999996,50.4,51.6,52.8,54.0,55.199999999999996,56.4,57.599999999999994,58.8,60.0],\"top\":[0,0,0,0,0,0,0,0,0,0,1,1,0,1,3,2,4,7,3,2,13,10,10,16,18,24,17,18,26,36,18,33,26,25,22,23,13,19,17,5,9,4,11,8,1,6,4,4,2,0]},\"selected\":{\"id\":\"8247\",\"type\":\"Selection\"},\"selection_policy\":{\"id\":\"8246\",\"type\":\"UnionRenderers\"}},\"id\":\"8223\",\"type\":\"ColumnDataSource\"},{\"attributes\":{\"bottom\":{\"value\":0},\"fill_alpha\":{\"value\":0.1},\"fill_color\":{\"value\":\"#1f77b4\"},\"left\":{\"value\":60.0},\"line_alpha\":{\"value\":0.1},\"line_color\":{\"value\":\"#1f77b4\"},\"right\":{\"value\":61.2},\"top\":{\"value\":11}},\"id\":\"8238\",\"type\":\"Quad\"},{\"attributes\":{},\"id\":\"8520\",\"type\":\"Selection\"},{\"attributes\":{\"bottom\":{\"value\":0},\"fill_color\":{\"value\":\"green\"},\"left\":{\"value\":60.0},\"right\":{\"value\":61.2},\"top\":{\"value\":11}},\"id\":\"8237\",\"type\":\"Quad\"}],\"root_ids\":[\"8190\"]},\"title\":\"Bokeh Application\",\"version\":\"1.2.0\"}};\n",
       "  var render_items = [{\"docid\":\"a547c2e7-8fd1-4668-b29d-4f8f51d3d8c1\",\"roots\":{\"8190\":\"d741ece1-2b06-4687-b751-267a8a0b79d4\"}}];\n",
       "  root.Bokeh.embed.embed_items_notebook(docs_json, render_items);\n",
       "\n",
       "  }\n",
       "  if (root.Bokeh !== undefined) {\n",
       "    embed_document(root);\n",
       "  } else {\n",
       "    var attempts = 0;\n",
       "    var timer = setInterval(function(root) {\n",
       "      if (root.Bokeh !== undefined) {\n",
       "        embed_document(root);\n",
       "        clearInterval(timer);\n",
       "      }\n",
       "      attempts++;\n",
       "      if (attempts > 100) {\n",
       "        console.log(\"Bokeh: ERROR: Unable to run BokehJS code because BokehJS library is missing\");\n",
       "        clearInterval(timer);\n",
       "      }\n",
       "    }, 10, root)\n",
       "  }\n",
       "})(window);"
      ],
      "application/vnd.bokehjs_exec.v0+json": ""
     },
     "metadata": {
      "application/vnd.bokehjs_exec.v0+json": {
       "id": "8190"
      }
     },
     "output_type": "display_data"
    }
   ],
   "source": [
    "p = hl.plot.histogram(mt.sample_qc.dp_stats.mean, range=(0,60), legend='Mean Sample DP')\n",
    "p.plot_width = 800\n",
    "p.plot_height = 500\n",
    "show(p)"
   ]
  },
  {
   "cell_type": "markdown",
   "id": "dcd465d8-a592-4f6c-adac-68228767c8c0",
   "metadata": {},
   "source": [
    "Below is a histogram of the heterozygote/homozygote ratio."
   ]
  },
  {
   "cell_type": "code",
   "execution_count": 178,
   "id": "outstanding-mississippi",
   "metadata": {},
   "outputs": [
    {
     "name": "stderr",
     "output_type": "stream",
     "text": [
      "[Stage 139:======================================================>(73 + 1) / 74]"
     ]
    },
    {
     "data": {
      "text/html": [
       "\n",
       "\n",
       "\n",
       "\n",
       "\n",
       "\n",
       "  <div class=\"bk-root\" id=\"1a2a359d-415e-4461-9563-bca439ce0f77\" data-root-id=\"8582\"></div>\n"
      ]
     },
     "metadata": {},
     "output_type": "display_data"
    },
    {
     "data": {
      "application/javascript": [
       "(function(root) {\n",
       "  function embed_document(root) {\n",
       "    \n",
       "  var docs_json = {\"4b6577f8-aaca-48bd-b113-d6030c9dd102\":{\"roots\":{\"references\":[{\"attributes\":{\"background_fill_color\":{\"value\":\"#EEEEEE\"},\"below\":[{\"id\":\"8592\",\"type\":\"LinearAxis\"}],\"center\":[{\"id\":\"8596\",\"type\":\"Grid\"},{\"id\":\"8601\",\"type\":\"Grid\"},{\"id\":\"8626\",\"type\":\"Legend\"}],\"left\":[{\"id\":\"8597\",\"type\":\"LinearAxis\"}],\"plot_height\":500,\"plot_width\":800,\"renderers\":[{\"id\":\"8618\",\"type\":\"GlyphRenderer\"}],\"title\":null,\"toolbar\":{\"id\":\"8608\",\"type\":\"Toolbar\"},\"x_range\":{\"id\":\"8584\",\"type\":\"Range1d\"},\"x_scale\":{\"id\":\"8588\",\"type\":\"LinearScale\"},\"y_range\":{\"id\":\"8586\",\"type\":\"DataRange1d\"},\"y_scale\":{\"id\":\"8590\",\"type\":\"LinearScale\"}},\"id\":\"8582\",\"subtype\":\"Figure\",\"type\":\"Plot\"},{\"attributes\":{\"callback\":null,\"end\":4.002339031343138,\"start\":1.3005472719058813},\"id\":\"8584\",\"type\":\"Range1d\"},{\"attributes\":{},\"id\":\"8590\",\"type\":\"LinearScale\"},{\"attributes\":{},\"id\":\"8593\",\"type\":\"BasicTicker\"},{\"attributes\":{\"axis_label\":\"Het/hom rate\",\"formatter\":{\"id\":\"8622\",\"type\":\"BasicTickFormatter\"},\"ticker\":{\"id\":\"8593\",\"type\":\"BasicTicker\"}},\"id\":\"8592\",\"type\":\"LinearAxis\"},{\"attributes\":{},\"id\":\"8607\",\"type\":\"HelpTool\"},{\"attributes\":{},\"id\":\"8606\",\"type\":\"ResetTool\"},{\"attributes\":{},\"id\":\"8905\",\"type\":\"UnionRenderers\"},{\"attributes\":{\"overlay\":{\"id\":\"8625\",\"type\":\"BoxAnnotation\"}},\"id\":\"8604\",\"type\":\"BoxZoomTool\"},{\"attributes\":{},\"id\":\"8906\",\"type\":\"Selection\"},{\"attributes\":{\"data_source\":{\"id\":\"8615\",\"type\":\"ColumnDataSource\"},\"glyph\":{\"id\":\"8616\",\"type\":\"Quad\"},\"hover_glyph\":null,\"muted_glyph\":null,\"nonselection_glyph\":{\"id\":\"8617\",\"type\":\"Quad\"},\"selection_glyph\":null,\"view\":{\"id\":\"8619\",\"type\":\"CDSView\"}},\"id\":\"8618\",\"type\":\"GlyphRenderer\"},{\"attributes\":{\"active_drag\":\"auto\",\"active_inspect\":\"auto\",\"active_multi\":null,\"active_scroll\":\"auto\",\"active_tap\":\"auto\",\"tools\":[{\"id\":\"8602\",\"type\":\"PanTool\"},{\"id\":\"8603\",\"type\":\"WheelZoomTool\"},{\"id\":\"8604\",\"type\":\"BoxZoomTool\"},{\"id\":\"8605\",\"type\":\"SaveTool\"},{\"id\":\"8606\",\"type\":\"ResetTool\"},{\"id\":\"8607\",\"type\":\"HelpTool\"}]},\"id\":\"8608\",\"type\":\"Toolbar\"},{\"attributes\":{},\"id\":\"8603\",\"type\":\"WheelZoomTool\"},{\"attributes\":{\"source\":{\"id\":\"8615\",\"type\":\"ColumnDataSource\"}},\"id\":\"8619\",\"type\":\"CDSView\"},{\"attributes\":{},\"id\":\"8602\",\"type\":\"PanTool\"},{\"attributes\":{\"bottom\":{\"value\":0},\"fill_alpha\":{\"value\":0.1},\"fill_color\":{\"value\":\"#1f77b4\"},\"left\":{\"field\":\"left\"},\"line_alpha\":{\"value\":0.1},\"line_color\":{\"value\":\"#1f77b4\"},\"right\":{\"field\":\"right\"},\"top\":{\"field\":\"top\"}},\"id\":\"8617\",\"type\":\"Quad\"},{\"attributes\":{\"bottom_units\":\"screen\",\"fill_alpha\":{\"value\":0.5},\"fill_color\":{\"value\":\"lightgrey\"},\"left_units\":\"screen\",\"level\":\"overlay\",\"line_alpha\":{\"value\":1.0},\"line_color\":{\"value\":\"black\"},\"line_dash\":[4,4],\"line_width\":{\"value\":2},\"render_mode\":\"css\",\"right_units\":\"screen\",\"top_units\":\"screen\"},\"id\":\"8625\",\"type\":\"BoxAnnotation\"},{\"attributes\":{},\"id\":\"8598\",\"type\":\"BasicTicker\"},{\"attributes\":{},\"id\":\"8624\",\"type\":\"BasicTickFormatter\"},{\"attributes\":{},\"id\":\"8622\",\"type\":\"BasicTickFormatter\"},{\"attributes\":{\"items\":[{\"id\":\"8627\",\"type\":\"LegendItem\"}]},\"id\":\"8626\",\"type\":\"Legend\"},{\"attributes\":{\"bottom\":{\"value\":0},\"fill_color\":{\"value\":\"#1f77b4\"},\"left\":{\"field\":\"left\"},\"right\":{\"field\":\"right\"},\"top\":{\"field\":\"top\"}},\"id\":\"8616\",\"type\":\"Quad\"},{\"attributes\":{\"callback\":null},\"id\":\"8586\",\"type\":\"DataRange1d\"},{\"attributes\":{\"callback\":null,\"data\":{\"left\":[1.4233559882439384,1.4724794747791612,1.521602961314384,1.5707264478496068,1.6198499343848298,1.6689734209200526,1.7180969074552754,1.7672203939904982,1.816343880525721,1.865467367060944,1.9145908535961669,1.9637143401313897,2.0128378266666127,2.0619613132018353,2.1110847997370583,2.1602082862722813,2.209331772807504,2.2584552593427265,2.3075787458779495,2.3567022324131726,2.405825718948395,2.454949205483618,2.504072692018841,2.5531961785540638,2.6023196650892864,2.65144315162451,2.7005666381597324,2.749690124694955,2.798813611230178,2.847937097765401,2.8970605843006236,2.9461840708358467,2.9953075573710697,3.0444310439062923,3.093554530441515,3.1426780169767383,3.191801503511961,3.2409249900471835,3.2900484765824065,3.3391719631176295,3.388295449652852,3.4374189361880747,3.486542422723298,3.5356659092585208,3.5847893957937433,3.633912882328967,3.6830363688641894,3.732159855399412,3.7812833419346346,3.830406828469858],\"right\":[1.4724794747791612,1.521602961314384,1.5707264478496068,1.6198499343848298,1.6689734209200526,1.7180969074552754,1.7672203939904982,1.816343880525721,1.865467367060944,1.9145908535961669,1.9637143401313897,2.0128378266666127,2.0619613132018353,2.1110847997370583,2.1602082862722813,2.209331772807504,2.2584552593427265,2.3075787458779495,2.3567022324131726,2.405825718948395,2.454949205483618,2.504072692018841,2.5531961785540638,2.6023196650892864,2.65144315162451,2.7005666381597324,2.749690124694955,2.798813611230178,2.847937097765401,2.8970605843006236,2.9461840708358467,2.9953075573710697,3.0444310439062923,3.093554530441515,3.1426780169767383,3.191801503511961,3.2409249900471835,3.2900484765824065,3.3391719631176295,3.388295449652852,3.4374189361880747,3.486542422723298,3.5356659092585208,3.5847893957937433,3.633912882328967,3.6830363688641894,3.732159855399412,3.7812833419346346,3.830406828469858,3.8795303150050806],\"top\":[1,1,1,0,2,6,35,118,153,101,35,9,2,4,0,0,0,0,1,0,0,0,0,0,0,0,0,0,0,0,0,0,0,0,0,0,0,0,0,0,0,0,0,0,0,0,1,0,0,3]},\"selected\":{\"id\":\"8906\",\"type\":\"Selection\"},\"selection_policy\":{\"id\":\"8905\",\"type\":\"UnionRenderers\"}},\"id\":\"8615\",\"type\":\"ColumnDataSource\"},{\"attributes\":{\"label\":{\"value\":\"Het/hom rate\"},\"renderers\":[{\"id\":\"8618\",\"type\":\"GlyphRenderer\"}]},\"id\":\"8627\",\"type\":\"LegendItem\"},{\"attributes\":{\"dimension\":1,\"ticker\":{\"id\":\"8598\",\"type\":\"BasicTicker\"}},\"id\":\"8601\",\"type\":\"Grid\"},{\"attributes\":{},\"id\":\"8588\",\"type\":\"LinearScale\"},{\"attributes\":{\"axis_label\":\"Frequency\",\"formatter\":{\"id\":\"8624\",\"type\":\"BasicTickFormatter\"},\"ticker\":{\"id\":\"8598\",\"type\":\"BasicTicker\"}},\"id\":\"8597\",\"type\":\"LinearAxis\"},{\"attributes\":{},\"id\":\"8605\",\"type\":\"SaveTool\"},{\"attributes\":{\"ticker\":{\"id\":\"8593\",\"type\":\"BasicTicker\"}},\"id\":\"8596\",\"type\":\"Grid\"}],\"root_ids\":[\"8582\"]},\"title\":\"Bokeh Application\",\"version\":\"1.2.0\"}};\n",
       "  var render_items = [{\"docid\":\"4b6577f8-aaca-48bd-b113-d6030c9dd102\",\"roots\":{\"8582\":\"1a2a359d-415e-4461-9563-bca439ce0f77\"}}];\n",
       "  root.Bokeh.embed.embed_items_notebook(docs_json, render_items);\n",
       "\n",
       "  }\n",
       "  if (root.Bokeh !== undefined) {\n",
       "    embed_document(root);\n",
       "  } else {\n",
       "    var attempts = 0;\n",
       "    var timer = setInterval(function(root) {\n",
       "      if (root.Bokeh !== undefined) {\n",
       "        embed_document(root);\n",
       "        clearInterval(timer);\n",
       "      }\n",
       "      attempts++;\n",
       "      if (attempts > 100) {\n",
       "        console.log(\"Bokeh: ERROR: Unable to run BokehJS code because BokehJS library is missing\");\n",
       "        clearInterval(timer);\n",
       "      }\n",
       "    }, 10, root)\n",
       "  }\n",
       "})(window);"
      ],
      "application/vnd.bokehjs_exec.v0+json": ""
     },
     "metadata": {
      "application/vnd.bokehjs_exec.v0+json": {
       "id": "8582"
      }
     },
     "output_type": "display_data"
    }
   ],
   "source": [
    "p = hl.plot.histogram(mt.sample_qc.r_het_hom_var, legend='Het/hom rate')\n",
    "p.plot_width = 800\n",
    "p.plot_height = 500\n",
    "show(p)"
   ]
  },
  {
   "cell_type": "markdown",
   "id": "controlling-reconstruction",
   "metadata": {},
   "source": [
    "Looks like there are a few samples with a lot higher het/hom rate than the rest of the samples. Let's check whether this is due to poor coverage."
   ]
  },
  {
   "cell_type": "code",
   "execution_count": 179,
   "id": "standing-flavor",
   "metadata": {},
   "outputs": [],
   "source": [
    "het_hom_thres = 3\n",
    "mt = mt.annotate_cols(high_hom_het=mt.sample_qc.r_het_hom_var > het_hom_thres)"
   ]
  },
  {
   "cell_type": "code",
   "execution_count": 180,
   "id": "wooden-aging",
   "metadata": {},
   "outputs": [
    {
     "name": "stderr",
     "output_type": "stream",
     "text": [
      "[Stage 142:======================================================>(73 + 1) / 74]"
     ]
    },
    {
     "data": {
      "text/html": [
       "\n",
       "\n",
       "\n",
       "\n",
       "\n",
       "\n",
       "  <div class=\"bk-root\" id=\"16ae1ef9-4e9d-42b4-9772-8aaf2b539e98\" data-root-id=\"8956\"></div>\n"
      ]
     },
     "metadata": {},
     "output_type": "display_data"
    },
    {
     "data": {
      "application/javascript": [
       "(function(root) {\n",
       "  function embed_document(root) {\n",
       "    \n",
       "  var docs_json = {\"2559a6f1-3f64-4dea-a99e-8514a12f4a8b\":{\"roots\":{\"references\":[{\"attributes\":{\"below\":[{\"id\":\"8966\",\"type\":\"LinearAxis\"}],\"center\":[{\"id\":\"8970\",\"type\":\"Grid\"},{\"id\":\"8975\",\"type\":\"Grid\"}],\"left\":[{\"id\":\"8971\",\"type\":\"LinearAxis\"},{\"id\":\"9007\",\"type\":\"Legend\"},{\"id\":\"9008\",\"type\":\"ColorBar\"}],\"plot_height\":600,\"plot_width\":600,\"renderers\":[{\"id\":\"8998\",\"type\":\"GlyphRenderer\"},{\"id\":\"9004\",\"type\":\"GlyphRenderer\"}],\"title\":null,\"toolbar\":{\"id\":\"8982\",\"type\":\"Toolbar\"},\"x_range\":{\"id\":\"8958\",\"type\":\"DataRange1d\"},\"x_scale\":{\"id\":\"8962\",\"type\":\"LinearScale\"},\"y_range\":{\"id\":\"8960\",\"type\":\"DataRange1d\"},\"y_scale\":{\"id\":\"8964\",\"type\":\"LinearScale\"}},\"id\":\"8956\",\"subtype\":\"Figure\",\"type\":\"Plot\"},{\"attributes\":{},\"id\":\"9295\",\"type\":\"BasicTickFormatter\"},{\"attributes\":{\"overlay\":{\"id\":\"9298\",\"type\":\"BoxAnnotation\"}},\"id\":\"8978\",\"type\":\"BoxZoomTool\"},{\"attributes\":{\"active_drag\":\"auto\",\"active_inspect\":\"auto\",\"active_multi\":null,\"active_scroll\":\"auto\",\"active_tap\":\"auto\",\"tools\":[{\"id\":\"8976\",\"type\":\"PanTool\"},{\"id\":\"8977\",\"type\":\"WheelZoomTool\"},{\"id\":\"8978\",\"type\":\"BoxZoomTool\"},{\"id\":\"8979\",\"type\":\"SaveTool\"},{\"id\":\"8980\",\"type\":\"ResetTool\"},{\"id\":\"8981\",\"type\":\"HelpTool\"},{\"id\":\"8990\",\"type\":\"HoverTool\"}]},\"id\":\"8982\",\"type\":\"Toolbar\"},{\"attributes\":{\"data_source\":{\"id\":\"8991\",\"type\":\"ColumnDataSource\"},\"glyph\":{\"id\":\"8996\",\"type\":\"Circle\"},\"hover_glyph\":null,\"muted_glyph\":null,\"nonselection_glyph\":{\"id\":\"8997\",\"type\":\"Circle\"},\"selection_glyph\":null,\"view\":{\"id\":\"8994\",\"type\":\"CDSView\"}},\"id\":\"8998\",\"type\":\"GlyphRenderer\"},{\"attributes\":{},\"id\":\"8976\",\"type\":\"PanTool\"},{\"attributes\":{\"data_source\":{\"id\":\"8991\",\"type\":\"ColumnDataSource\"},\"glyph\":{\"id\":\"9002\",\"type\":\"Circle\"},\"hover_glyph\":null,\"muted_glyph\":null,\"nonselection_glyph\":{\"id\":\"9003\",\"type\":\"Circle\"},\"selection_glyph\":null,\"view\":{\"id\":\"9000\",\"type\":\"CDSView\"}},\"id\":\"9004\",\"type\":\"GlyphRenderer\"},{\"attributes\":{\"filters\":[{\"id\":\"8999\",\"type\":\"GroupFilter\"}],\"source\":{\"id\":\"8991\",\"type\":\"ColumnDataSource\"}},\"id\":\"9000\",\"type\":\"CDSView\"},{\"attributes\":{},\"id\":\"8979\",\"type\":\"SaveTool\"},{\"attributes\":{\"factors\":[\"false\",\"true\"],\"palette\":[\"#1f77b4\",\"#ff7f0e\",\"#2ca02c\",\"#d62728\",\"#9467bd\",\"#8c564b\",\"#e377c2\",\"#7f7f7f\",\"#bcbd22\",\"#17becf\"]},\"id\":\"8992\",\"type\":\"CategoricalColorMapper\"},{\"attributes\":{\"axis_label\":\"DP mean\",\"formatter\":{\"id\":\"9291\",\"type\":\"BasicTickFormatter\"},\"ticker\":{\"id\":\"8967\",\"type\":\"BasicTicker\"}},\"id\":\"8966\",\"type\":\"LinearAxis\"},{\"attributes\":{\"click_policy\":\"hide\",\"items\":[{\"id\":\"9005\",\"type\":\"LegendItem\"},{\"id\":\"9006\",\"type\":\"LegendItem\"}]},\"id\":\"9007\",\"type\":\"Legend\"},{\"attributes\":{\"fill_color\":{\"field\":\"label\",\"transform\":{\"id\":\"8992\",\"type\":\"CategoricalColorMapper\"}},\"line_color\":{\"field\":\"label\",\"transform\":{\"id\":\"8992\",\"type\":\"CategoricalColorMapper\"}},\"x\":{\"field\":\"x\"},\"y\":{\"field\":\"y\"}},\"id\":\"9002\",\"type\":\"Circle\"},{\"attributes\":{},\"id\":\"9296\",\"type\":\"UnionRenderers\"},{\"attributes\":{\"column_name\":\"label\",\"group\":\"false\"},\"id\":\"8993\",\"type\":\"GroupFilter\"},{\"attributes\":{},\"id\":\"8977\",\"type\":\"WheelZoomTool\"},{\"attributes\":{},\"id\":\"8980\",\"type\":\"ResetTool\"},{\"attributes\":{},\"id\":\"8962\",\"type\":\"LinearScale\"},{\"attributes\":{},\"id\":\"8967\",\"type\":\"BasicTicker\"},{\"attributes\":{},\"id\":\"8972\",\"type\":\"BasicTicker\"},{\"attributes\":{\"ticker\":{\"id\":\"8967\",\"type\":\"BasicTicker\"}},\"id\":\"8970\",\"type\":\"Grid\"},{\"attributes\":{\"callback\":null},\"id\":\"8958\",\"type\":\"DataRange1d\"},{\"attributes\":{},\"id\":\"8964\",\"type\":\"LinearScale\"},{\"attributes\":{\"color_mapper\":null,\"formatter\":{\"id\":\"9295\",\"type\":\"BasicTickFormatter\"},\"ticker\":{\"id\":\"9294\",\"type\":\"BasicTicker\"},\"visible\":false},\"id\":\"9008\",\"type\":\"ColorBar\"},{\"attributes\":{},\"id\":\"9293\",\"type\":\"BasicTickFormatter\"},{\"attributes\":{\"filters\":[{\"id\":\"8993\",\"type\":\"GroupFilter\"}],\"source\":{\"id\":\"8991\",\"type\":\"ColumnDataSource\"}},\"id\":\"8994\",\"type\":\"CDSView\"},{\"attributes\":{\"fill_alpha\":{\"value\":0.1},\"fill_color\":{\"value\":\"#1f77b4\"},\"line_alpha\":{\"value\":0.1},\"line_color\":{\"value\":\"#1f77b4\"},\"x\":{\"field\":\"x\"},\"y\":{\"field\":\"y\"}},\"id\":\"9003\",\"type\":\"Circle\"},{\"attributes\":{\"bottom_units\":\"screen\",\"fill_alpha\":{\"value\":0.5},\"fill_color\":{\"value\":\"lightgrey\"},\"left_units\":\"screen\",\"level\":\"overlay\",\"line_alpha\":{\"value\":1.0},\"line_color\":{\"value\":\"black\"},\"line_dash\":[4,4],\"line_width\":{\"value\":2},\"render_mode\":\"css\",\"right_units\":\"screen\",\"top_units\":\"screen\"},\"id\":\"9298\",\"type\":\"BoxAnnotation\"},{\"attributes\":{\"callback\":null,\"tooltips\":[[\"x\",\"@x\"],[\"y\",\"@y\"],[\"Sample\",\"@Sample\"],[\"label\",\"@label\"]]},\"id\":\"8990\",\"type\":\"HoverTool\"},{\"attributes\":{\"fill_color\":{\"field\":\"label\",\"transform\":{\"id\":\"8992\",\"type\":\"CategoricalColorMapper\"}},\"line_color\":{\"field\":\"label\",\"transform\":{\"id\":\"8992\",\"type\":\"CategoricalColorMapper\"}},\"x\":{\"field\":\"x\"},\"y\":{\"field\":\"y\"}},\"id\":\"8996\",\"type\":\"Circle\"},{\"attributes\":{\"axis_label\":\"het/hom rate\",\"formatter\":{\"id\":\"9293\",\"type\":\"BasicTickFormatter\"},\"ticker\":{\"id\":\"8972\",\"type\":\"BasicTicker\"}},\"id\":\"8971\",\"type\":\"LinearAxis\"},{\"attributes\":{\"column_name\":\"label\",\"group\":\"true\"},\"id\":\"8999\",\"type\":\"GroupFilter\"},{\"attributes\":{\"dimension\":1,\"ticker\":{\"id\":\"8972\",\"type\":\"BasicTicker\"}},\"id\":\"8975\",\"type\":\"Grid\"},{\"attributes\":{\"callback\":null},\"id\":\"8960\",\"type\":\"DataRange1d\"},{\"attributes\":{\"label\":{\"value\":\"true\"},\"renderers\":[{\"id\":\"9004\",\"type\":\"GlyphRenderer\"}]},\"id\":\"9006\",\"type\":\"LegendItem\"},{\"attributes\":{\"label\":{\"value\":\"false\"},\"renderers\":[{\"id\":\"8998\",\"type\":\"GlyphRenderer\"}]},\"id\":\"9005\",\"type\":\"LegendItem\"},{\"attributes\":{},\"id\":\"9297\",\"type\":\"Selection\"},{\"attributes\":{},\"id\":\"9291\",\"type\":\"BasicTickFormatter\"},{\"attributes\":{\"callback\":null,\"data\":{\"Sample\":[\"FN000538\",\"FN000938\",\"FN000755\",\"FN000559\",\"FN000020\",\"FN000557\",\"FN000761\",\"FN001110\",\"FN001020\",\"FN000893\",\"FN000369\",\"FN000618\",\"FN000558\",\"FN000277\",\"FN000953\",\"FN000862\",\"FN000931\",\"FN000878\",\"FN000544\",\"FN000217\",\"FN000925\",\"FN000940\",\"FN000933\",\"FN000902\",\"FN000018\",\"FN000190\",\"FN001109\",\"FN000017\",\"FN000206\",\"FN000762\",\"FN001415\",\"FN001022\",\"FN001092\",\"FN001021\",\"FN001416\",\"FN000934\",\"FN000254\",\"FN000412\",\"FN001116\",\"FN000178\",\"FN000562\",\"FN000019\",\"FN000817\",\"FN000399\",\"FN000396\",\"FN001045\",\"FN000016\",\"FN000804\",\"FN000873\",\"FN000749\",\"FN001251\",\"FN000122\",\"FN000182\",\"FN000537\",\"FN000504\",\"FN001346\",\"FN000476\",\"FN001433\",\"FN001247\",\"FN000152\",\"FN000015\",\"FN000507\",\"FN001377\",\"FN000132\",\"FN000635\",\"FN000935\",\"FN000879\",\"FN000957\",\"FN001046\",\"FN001115\",\"FN000506\",\"FN000639\",\"FN001249\",\"FN000759\",\"FN001089\",\"FN000298\",\"FN000503\",\"FN001025\",\"FN000427\",\"FN000932\",\"FN001093\",\"FN000138\",\"FN000124\",\"FN000534\",\"FN000251\",\"FN001094\",\"FN000394\",\"FN000125\",\"FN000502\",\"FN000105\",\"FN000400\",\"FN000904\",\"FN000697\",\"FN000405\",\"FN000044\",\"FN000011\",\"FN000778\",\"FN001118\",\"FN001120\",\"FN000867\",\"FN000566\",\"FN000512\",\"FN000629\",\"FN001409\",\"FN000824\",\"FN000742\",\"FN000866\",\"FN000763\",\"FN000116\",\"FN000326\",\"FN001001\",\"FN000898\",\"FN000693\",\"FN000810\",\"FN000317\",\"FN000671\",\"FN000414\",\"FN000377\",\"FN000617\",\"FN000119\",\"FN000121\",\"FN000435\",\"FN001390\",\"FN000738\",\"FN001488\",\"FN001157\",\"FN000930\",\"FN000899\",\"FN001379\",\"FN001398\",\"FN000240\",\"FN000242\",\"FN001130\",\"FN000583\",\"FN000969\",\"FN000906\",\"FN000917\",\"FN000281\",\"FN001400\",\"FN000381\",\"FN001088\",\"FN000923\",\"FN000875\",\"FN000634\",\"FN000411\",\"FN000021\",\"FN000050\",\"FN000774\",\"FN000619\",\"FN000022\",\"FN000131\",\"FN000966\",\"FN001138\",\"FN000442\",\"FN000770\",\"FN000777\",\"FN000882\",\"FN000954\",\"FN000106\",\"FN000009\",\"FN000958\",\"FN000928\",\"FN000474\",\"FN000870\",\"FN000477\",\"FN000320\",\"FN000191\",\"FN001143\",\"FN000527\",\"FN000187\",\"FN000393\",\"FN000238\",\"FN000023\",\"FN000408\",\"FN000771\",\"FN001384\",\"FN000469\",\"FN000528\",\"FN000599\",\"FN000820\",\"FN000541\",\"FN000306\",\"FN000971\",\"FN001127\",\"FN000447\",\"FN001426\",\"FN000397\",\"FN000389\",\"FN000127\",\"FN000703\",\"FN001482\",\"FN000884\",\"FN001366\",\"FN000914\",\"FN001132\",\"FN000513\",\"FN000305\",\"FN000955\",\"FN000970\",\"FN000038\",\"FN001431\",\"FN000920\",\"FN000487\",\"FN000625\",\"FN000531\",\"FN000049\",\"FN000877\",\"FN000769\",\"FN000024\",\"FN000941\",\"FN000410\",\"FN000569\",\"FN000370\",\"FN001523\",\"FN000014\",\"FN001135\",\"FN000529\",\"FN000895\",\"FN001437\",\"FN000809\",\"FN000889\",\"FN001439\",\"FN000039\",\"FN001527\",\"FN001522\",\"FN001117\",\"FN000002\",\"FN001017\",\"FN000909\",\"FN000794\",\"FN001023\",\"FN000602\",\"FN001401\",\"FN000289\",\"FN000780\",\"FN000924\",\"FN000259\",\"FN000854\",\"FN001383\",\"FN000054\",\"FN001134\",\"FN000473\",\"FN000943\",\"FN000244\",\"FN000045\",\"FN001091\",\"FN000159\",\"FN000322\",\"FN001425\",\"FN001371\",\"FN000123\",\"FN000704\",\"FN000489\",\"FN001411\",\"FN000416\",\"FN000776\",\"FN000962\",\"FN000581\",\"FN001394\",\"FN000456\",\"FN000236\",\"FN000034\",\"FN000998\",\"FN000612\",\"FN000204\",\"FN000103\",\"FN000518\",\"FN000985\",\"FN001495\",\"FN001085\",\"FN000892\",\"FN000392\",\"FN000607\",\"FN000586\",\"FN000313\",\"FN001090\",\"FN001389\",\"FN000948\",\"FN000896\",\"FN001432\",\"FN000040\",\"FN000053\",\"FN001019\",\"FN000521\",\"FN000282\",\"FN000628\",\"FN000450\",\"FN000278\",\"FN001395\",\"FN000510\",\"FN000380\",\"FN000890\",\"FN000360\",\"FN000960\",\"FN000032\",\"FN001133\",\"FN000926\",\"FN000440\",\"FN001392\",\"FN000403\",\"FN000475\",\"FN000233\",\"FN000224\",\"FN000036\",\"FN000200\",\"FN000303\",\"FN000526\",\"FN000470\",\"FN000888\",\"FN000949\",\"FN000947\",\"FN001414\",\"FN001418\",\"FN000248\",\"FN000110\",\"FN000767\",\"FN000035\",\"FN000525\",\"FN000905\",\"FN000252\",\"FN000496\",\"FN000495\",\"FN001111\",\"FN000563\",\"FN000301\",\"FN000768\",\"FN001440\",\"FN000387\",\"FN000523\",\"FN000249\",\"FN000886\",\"FN000309\",\"FN001417\",\"FN000237\",\"FN000037\",\"FN000446\",\"FN000913\",\"FN000376\",\"FN000922\",\"FN001347\",\"FN000126\",\"FN001490\",\"FN000881\",\"FN001393\",\"FN000052\",\"FN000077\",\"FN000546\",\"FN000374\",\"FN000001\",\"FN000807\",\"FN001427\",\"FN000766\",\"FN000216\",\"FN000522\",\"FN001150\",\"FN000417\",\"FN000284\",\"FN001374\",\"FN001405\",\"FN000076\",\"FN000912\",\"FN001154\",\"FN001018\",\"FN001149\",\"FN000908\",\"FN000012\",\"FN000498\",\"FN001152\",\"FN000386\",\"FN001142\",\"FN001082\",\"FN001485\",\"FN000551\",\"FN001403\",\"FN000488\",\"FN000519\",\"FN000942\",\"FN000169\",\"FN000439\",\"FN000567\",\"FN000861\",\"FN000137\",\"FN000033\",\"FN000545\",\"FN000430\",\"FN000108\",\"FN000561\",\"FN000871\",\"FN001430\",\"FN000426\",\"FN000952\",\"FN000445\",\"FN000375\",\"FN000451\",\"FN000388\",\"FN000501\",\"FN000184\",\"FN000483\",\"FN000199\",\"FN000088\",\"FN001151\",\"FN001004\",\"FN001155\",\"FN000735\",\"FN001428\",\"FN000591\",\"FN000180\",\"FN000107\",\"FN000097\",\"FN001441\",\"FN000568\",\"FN000418\",\"FN000197\",\"FN000092\",\"FN001444\",\"FN000554\",\"FN000598\",\"FN000424\",\"FN001434\",\"FN001158\",\"FN000951\",\"FN001084\",\"FN001086\",\"FN000939\",\"FN000511\",\"FN001380\",\"FN000887\",\"FN001438\",\"FN000589\",\"FN000604\",\"FN000572\",\"FN000163\",\"FN001404\",\"FN000550\",\"FN000441\",\"FN000419\",\"FN000472\",\"FN000950\",\"FN000874\",\"FN000478\",\"FN000395\",\"FN001139\",\"FN000461\",\"FN001053\",\"FN001435\",\"FN000156\",\"FN001003\",\"FN000139\",\"FN000215\",\"FN001429\",\"FN000421\",\"FN000185\",\"FN000484\",\"FN000158\",\"FN001153\",\"FN000945\",\"FN001011\"],\"index\":[0,1,2,3,4,5,6,7,8,9,10,11,12,13,14,15,16,17,18,19,20,21,22,23,24,25,26,27,28,29,30,31,32,33,34,35,36,37,38,39,40,41,42,43,44,45,46,47,48,49,50,51,52,53,54,55,56,57,58,59,60,61,62,63,64,65,66,67,68,69,70,71,72,73,74,75,76,77,78,79,80,81,82,83,84,85,86,87,88,89,90,91,92,93,94,95,96,97,98,99,100,101,102,103,104,105,106,107,108,109,110,111,112,113,114,115,116,117,118,119,120,121,122,123,124,125,126,127,128,129,130,131,132,133,134,135,136,137,138,139,140,141,142,143,144,145,146,147,148,149,150,151,152,153,154,155,156,157,158,159,160,161,162,163,164,165,166,167,168,169,170,171,172,173,174,175,176,177,178,179,180,181,182,183,184,185,186,187,188,189,190,191,192,193,194,195,196,197,198,199,200,201,202,203,204,205,206,207,208,209,210,211,212,213,214,215,216,217,218,219,220,221,222,223,224,225,226,227,228,229,230,231,232,233,234,235,236,237,238,239,240,241,242,243,244,245,246,247,248,249,250,251,252,253,254,255,256,257,258,259,260,261,262,263,264,265,266,267,268,269,270,271,272,273,274,275,276,277,278,279,280,281,282,283,284,285,286,287,288,289,290,291,292,293,294,295,296,297,298,299,300,301,302,303,304,305,306,307,308,309,310,311,312,313,314,315,316,317,318,319,320,321,322,323,324,325,326,327,328,329,330,331,332,333,334,335,336,337,338,339,340,341,342,343,344,345,346,347,348,349,350,351,352,353,354,355,356,357,358,359,360,361,362,363,364,365,366,367,368,369,370,371,372,373,374,375,376,377,378,379,380,381,382,383,384,385,386,387,388,389,390,391,392,393,394,395,396,397,398,399,400,401,402,403,404,405,406,407,408,409,410,411,412,413,414,415,416,417,418,419,420,421,422,423,424,425,426,427,428,429,430,431,432,433,434,435,436,437,438,439,440,441,442,443,444,445,446,447,448,449,450,451,452,453,454,455,456],\"label\":[\"false\",\"false\",\"false\",\"false\",\"false\",\"false\",\"false\",\"false\",\"false\",\"false\",\"false\",\"false\",\"false\",\"false\",\"false\",\"false\",\"false\",\"false\",\"false\",\"false\",\"false\",\"true\",\"false\",\"false\",\"false\",\"false\",\"false\",\"false\",\"false\",\"false\",\"false\",\"false\",\"false\",\"false\",\"false\",\"false\",\"false\",\"false\",\"false\",\"false\",\"false\",\"false\",\"false\",\"false\",\"false\",\"false\",\"false\",\"false\",\"false\",\"false\",\"false\",\"false\",\"false\",\"false\",\"false\",\"false\",\"false\",\"false\",\"false\",\"false\",\"false\",\"false\",\"false\",\"false\",\"false\",\"false\",\"false\",\"false\",\"false\",\"false\",\"false\",\"false\",\"false\",\"false\",\"false\",\"false\",\"false\",\"false\",\"false\",\"false\",\"false\",\"false\",\"false\",\"false\",\"false\",\"false\",\"false\",\"false\",\"false\",\"false\",\"false\",\"false\",\"false\",\"false\",\"false\",\"false\",\"false\",\"false\",\"false\",\"false\",\"false\",\"false\",\"false\",\"false\",\"false\",\"false\",\"false\",\"false\",\"false\",\"false\",\"false\",\"false\",\"false\",\"false\",\"false\",\"false\",\"false\",\"false\",\"false\",\"false\",\"false\",\"false\",\"false\",\"false\",\"false\",\"false\",\"false\",\"false\",\"false\",\"false\",\"false\",\"false\",\"false\",\"false\",\"false\",\"false\",\"false\",\"false\",\"false\",\"false\",\"false\",\"false\",\"false\",\"false\",\"false\",\"false\",\"false\",\"false\",\"false\",\"false\",\"false\",\"false\",\"false\",\"false\",\"false\",\"false\",\"false\",\"false\",\"false\",\"false\",\"false\",\"false\",\"false\",\"false\",\"false\",\"false\",\"false\",\"false\",\"false\",\"false\",\"false\",\"false\",\"false\",\"false\",\"false\",\"false\",\"false\",\"false\",\"false\",\"false\",\"false\",\"false\",\"false\",\"false\",\"false\",\"false\",\"false\",\"false\",\"false\",\"false\",\"false\",\"false\",\"false\",\"false\",\"false\",\"false\",\"false\",\"false\",\"false\",\"false\",\"false\",\"false\",\"false\",\"false\",\"false\",\"false\",\"false\",\"false\",\"false\",\"false\",\"false\",\"false\",\"false\",\"false\",\"false\",\"false\",\"false\",\"false\",\"false\",\"false\",\"false\",\"false\",\"false\",\"false\",\"false\",\"false\",\"false\",\"false\",\"true\",\"false\",\"false\",\"false\",\"false\",\"false\",\"false\",\"false\",\"false\",\"false\",\"false\",\"false\",\"false\",\"false\",\"false\",\"false\",\"false\",\"false\",\"false\",\"false\",\"false\",\"false\",\"false\",\"false\",\"false\",\"false\",\"false\",\"false\",\"false\",\"false\",\"false\",\"false\",\"false\",\"false\",\"false\",\"false\",\"false\",\"false\",\"false\",\"false\",\"false\",\"false\",\"false\",\"false\",\"false\",\"false\",\"false\",\"false\",\"false\",\"false\",\"false\",\"false\",\"false\",\"false\",\"true\",\"false\",\"false\",\"false\",\"false\",\"false\",\"false\",\"false\",\"false\",\"false\",\"false\",\"false\",\"false\",\"false\",\"false\",\"false\",\"false\",\"false\",\"false\",\"false\",\"false\",\"false\",\"false\",\"false\",\"false\",\"false\",\"false\",\"false\",\"false\",\"false\",\"false\",\"false\",\"false\",\"false\",\"false\",\"false\",\"false\",\"false\",\"false\",\"false\",\"false\",\"false\",\"false\",\"false\",\"false\",\"false\",\"false\",\"false\",\"false\",\"false\",\"false\",\"false\",\"false\",\"false\",\"false\",\"false\",\"false\",\"false\",\"false\",\"false\",\"false\",\"false\",\"false\",\"false\",\"false\",\"false\",\"false\",\"false\",\"false\",\"false\",\"false\",\"false\",\"false\",\"false\",\"false\",\"false\",\"false\",\"false\",\"false\",\"false\",\"true\",\"false\",\"false\",\"false\",\"false\",\"false\",\"false\",\"false\",\"false\",\"false\",\"false\",\"false\",\"false\",\"false\",\"false\",\"false\",\"false\",\"false\",\"false\",\"false\",\"false\",\"false\",\"false\",\"false\",\"false\",\"false\",\"false\",\"false\",\"false\",\"false\",\"false\",\"false\",\"false\",\"false\",\"false\",\"false\",\"false\",\"false\",\"false\",\"false\",\"false\",\"false\",\"false\",\"false\",\"false\",\"false\",\"false\",\"false\",\"false\",\"false\",\"false\",\"false\",\"false\",\"false\",\"false\",\"false\",\"false\",\"false\",\"false\",\"false\",\"false\",\"false\",\"false\",\"false\",\"false\",\"false\",\"false\",\"false\",\"false\",\"false\",\"false\",\"false\",\"false\",\"false\",\"false\",\"false\",\"false\",\"false\",\"false\",\"false\",\"false\",\"false\",\"false\",\"false\",\"false\",\"false\",\"false\",\"false\",\"false\",\"false\",\"false\",\"false\",\"false\",\"false\",\"false\"],\"x\":{\"__ndarray__\":\"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\",\"dtype\":\"float64\",\"shape\":[457]},\"y\":{\"__ndarray__\":\"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\",\"dtype\":\"float64\",\"shape\":[457]}},\"selected\":{\"id\":\"9297\",\"type\":\"Selection\"},\"selection_policy\":{\"id\":\"9296\",\"type\":\"UnionRenderers\"}},\"id\":\"8991\",\"type\":\"ColumnDataSource\"},{\"attributes\":{\"fill_alpha\":{\"value\":0.1},\"fill_color\":{\"value\":\"#1f77b4\"},\"line_alpha\":{\"value\":0.1},\"line_color\":{\"value\":\"#1f77b4\"},\"x\":{\"field\":\"x\"},\"y\":{\"field\":\"y\"}},\"id\":\"8997\",\"type\":\"Circle\"},{\"attributes\":{},\"id\":\"9294\",\"type\":\"BasicTicker\"},{\"attributes\":{},\"id\":\"8981\",\"type\":\"HelpTool\"}],\"root_ids\":[\"8956\"]},\"title\":\"Bokeh Application\",\"version\":\"1.2.0\"}};\n",
       "  var render_items = [{\"docid\":\"2559a6f1-3f64-4dea-a99e-8514a12f4a8b\",\"roots\":{\"8956\":\"16ae1ef9-4e9d-42b4-9772-8aaf2b539e98\"}}];\n",
       "  root.Bokeh.embed.embed_items_notebook(docs_json, render_items);\n",
       "\n",
       "  }\n",
       "  if (root.Bokeh !== undefined) {\n",
       "    embed_document(root);\n",
       "  } else {\n",
       "    var attempts = 0;\n",
       "    var timer = setInterval(function(root) {\n",
       "      if (root.Bokeh !== undefined) {\n",
       "        embed_document(root);\n",
       "        clearInterval(timer);\n",
       "      }\n",
       "      attempts++;\n",
       "      if (attempts > 100) {\n",
       "        console.log(\"Bokeh: ERROR: Unable to run BokehJS code because BokehJS library is missing\");\n",
       "        clearInterval(timer);\n",
       "      }\n",
       "    }, 10, root)\n",
       "  }\n",
       "})(window);"
      ],
      "application/vnd.bokehjs_exec.v0+json": ""
     },
     "metadata": {
      "application/vnd.bokehjs_exec.v0+json": {
       "id": "8956"
      }
     },
     "output_type": "display_data"
    }
   ],
   "source": [
    "p = hl.plot.scatter(mt.sample_qc.dp_stats.mean, mt.sample_qc.r_het_hom_var, xlabel='DP mean', ylabel='het/hom rate',\n",
    "                    hover_fields={'Sample': mt.s}, label=mt.high_hom_het)\n",
    "p.plot_width = 600\n",
    "p.plot_height = 600\n",
    "show(p)"
   ]
  },
  {
   "cell_type": "markdown",
   "id": "fundamental-pontiac",
   "metadata": {},
   "source": [
    "The plot above indicates these samples have similar coverage as the other samples, so that doesn't explain the high het/hom rate.\n",
    "\n",
    "We can also check the MultiQC reports of these samples (file paths below), and we see that they are all of reasonable quality."
   ]
  },
  {
   "cell_type": "code",
   "execution_count": 181,
   "id": "incomplete-demographic",
   "metadata": {},
   "outputs": [
    {
     "name": "stderr",
     "output_type": "stream",
     "text": [
      "[Stage 145:======================================================>(73 + 1) / 74]"
     ]
    },
    {
     "name": "stdout",
     "output_type": "stream",
     "text": [
      "/data/projects/fargen_phase_1/data/single_sample_data/FN000909/multiqc/multiqc_report.html\n",
      "/data/projects/fargen_phase_1/data/single_sample_data/FN000940/multiqc/multiqc_report.html\n",
      "/data/projects/fargen_phase_1/data/single_sample_data/FN001018/multiqc/multiqc_report.html\n",
      "/data/projects/fargen_phase_1/data/single_sample_data/FN001019/multiqc/multiqc_report.html\n"
     ]
    }
   ],
   "source": [
    "high_hethom_samples = mt.filter_cols(mt.sample_qc.r_het_hom_var > het_hom_thres).s.collect()\n",
    "\n",
    "for sample in high_hethom_samples:\n",
    "    print('/data/projects/fargen_phase_1/data/single_sample_data/{sample}/multiqc/multiqc_report.html'.format(sample=sample))"
   ]
  },
  {
   "cell_type": "markdown",
   "id": "psychological-belgium",
   "metadata": {},
   "source": [
    "In the genealogy summary file (`/fargen/fargen_phase_1_utils/multi_sample/joint_genotyping/metadata/genealogy/individuals_summary.csv`), it seems that all these samples have reasonably deep roots in the Faroes. This means we have no reason to suspect this difference is due to these samples being from different populations.\n",
    "\n",
    "These four samples most likely have high het/hom rate due to poor data quality. One potential reason for this is contamination of the sample in the lab.\n",
    "\n",
    "We will **discard high het/hom rate samples**, as they may skew further analyses down the line."
   ]
  },
  {
   "cell_type": "code",
   "execution_count": 182,
   "id": "3f72ac48-5e30-46ee-bca6-195e33cb53e8",
   "metadata": {},
   "outputs": [],
   "source": [
    "mt = mt.filter_cols(mt.sample_qc.r_het_hom_var < het_hom_thres)"
   ]
  },
  {
   "cell_type": "markdown",
   "id": "b039f83f-cdb2-4505-8b36-8bc7560fde87",
   "metadata": {},
   "source": [
    "Remove sites that may have become invariant after removing these samples."
   ]
  },
  {
   "cell_type": "code",
   "execution_count": 183,
   "id": "9e589620-f4f2-41b2-a48a-7ccb9a753968",
   "metadata": {},
   "outputs": [],
   "source": [
    "mt = mt.filter_rows(mt.variant_qc.AC[1] > 0)"
   ]
  },
  {
   "cell_type": "code",
   "execution_count": 184,
   "id": "cooked-gilbert",
   "metadata": {},
   "outputs": [
    {
     "name": "stderr",
     "output_type": "stream",
     "text": [
      "[Stage 149:======================================================>(73 + 1) / 74]"
     ]
    },
    {
     "name": "stdout",
     "output_type": "stream",
     "text": [
      "Number of variants: 148305\n",
      "Number of samples: 469\n"
     ]
    }
   ],
   "source": [
    "n_variants, n_samples = mt.count()\n",
    "print('Number of variants: ' + str(n_variants))\n",
    "print('Number of samples: ' + str(n_samples))"
   ]
  },
  {
   "cell_type": "markdown",
   "id": "9d0865cc-3848-49b9-9019-f528a95b9032",
   "metadata": {},
   "source": [
    "## Variant counts"
   ]
  },
  {
   "cell_type": "code",
   "execution_count": 185,
   "id": "1e09ddb9-3c26-458e-a392-82f28a257669",
   "metadata": {},
   "outputs": [
    {
     "name": "stderr",
     "output_type": "stream",
     "text": [
      "[Stage 150:======================================================>(73 + 1) / 74]"
     ]
    },
    {
     "data": {
      "text/html": [
       "<div>\n",
       "<style scoped>\n",
       "    .dataframe tbody tr th:only-of-type {\n",
       "        vertical-align: middle;\n",
       "    }\n",
       "\n",
       "    .dataframe tbody tr th {\n",
       "        vertical-align: top;\n",
       "    }\n",
       "\n",
       "    .dataframe thead th {\n",
       "        text-align: right;\n",
       "    }\n",
       "</style>\n",
       "<table border=\"1\" class=\"dataframe\">\n",
       "  <thead>\n",
       "    <tr style=\"text-align: right;\">\n",
       "      <th></th>\n",
       "      <th></th>\n",
       "    </tr>\n",
       "  </thead>\n",
       "  <tbody>\n",
       "    <tr>\n",
       "      <th>n_variants</th>\n",
       "      <td>148305.000000</td>\n",
       "    </tr>\n",
       "    <tr>\n",
       "      <th>snps_fraction</th>\n",
       "      <td>0.841172</td>\n",
       "    </tr>\n",
       "    <tr>\n",
       "      <th>insertions_fraction</th>\n",
       "      <td>0.072648</td>\n",
       "    </tr>\n",
       "    <tr>\n",
       "      <th>deletions_fraction</th>\n",
       "      <td>0.086181</td>\n",
       "    </tr>\n",
       "    <tr>\n",
       "      <th>mnp_fraction</th>\n",
       "      <td>0.000000</td>\n",
       "    </tr>\n",
       "    <tr>\n",
       "      <th>complex_fraction</th>\n",
       "      <td>0.000000</td>\n",
       "    </tr>\n",
       "    <tr>\n",
       "      <th>star_fraction</th>\n",
       "      <td>0.000000</td>\n",
       "    </tr>\n",
       "  </tbody>\n",
       "</table>\n",
       "</div>"
      ],
      "text/plain": [
       "                                  \n",
       "n_variants           148305.000000\n",
       "snps_fraction             0.841172\n",
       "insertions_fraction       0.072648\n",
       "deletions_fraction        0.086181\n",
       "mnp_fraction              0.000000\n",
       "complex_fraction          0.000000\n",
       "star_fraction             0.000000"
      ]
     },
     "execution_count": 185,
     "metadata": {},
     "output_type": "execute_result"
    }
   ],
   "source": [
    "variant_counts(mt)"
   ]
  },
  {
   "cell_type": "markdown",
   "id": "81f52b52-99bf-45ef-be72-6de4fdafc3fc",
   "metadata": {},
   "source": [
    "## Write data to file"
   ]
  },
  {
   "cell_type": "code",
   "execution_count": 187,
   "id": "d059a327-ac98-4b3c-a930-d8cd5305a804",
   "metadata": {},
   "outputs": [
    {
     "name": "stderr",
     "output_type": "stream",
     "text": [
      "[Stage 153:=================================================>     (33 + 4) / 37]2021-10-05 13:32:35 Hail: INFO: Coerced sorted dataset\n",
      "[Stage 155:=====================================================> (36 + 1) / 37]2021-10-05 13:33:08 Hail: INFO: wrote matrix table with 148305 rows and 469 columns in 37 partitions to /home/olavur/experiments/2020-11-13_fargen1_exome_analysis/data/mt/high_quality_variants.mt\n",
      "    Total size: 815.71 MiB\n",
      "    * Rows/entries: 815.66 MiB\n",
      "    * Columns: 49.90 KiB\n",
      "    * Globals: 11.00 B\n",
      "    * Smallest partition: 1506 rows (6.77 MiB)\n",
      "    * Largest partition:  4413 rows (25.47 MiB)\n"
     ]
    }
   ],
   "source": [
    "if False:\n",
    "    mt.write(BASE_DIR + '/data/mt/high_quality_variants.mt', overwrite=True)"
   ]
  },
  {
   "cell_type": "markdown",
   "id": "f5721fc8-688d-43c9-b6fb-08ca230c5126",
   "metadata": {},
   "source": [
    "## Summary\n",
    "\n",
    "In this notebook we have:\n",
    "\n",
    "* Split multi-allelic sites\n",
    "* Filtered variants failing VQSR filter\n",
    "* Filtered variants with genotype quality (GQ)\n",
    "    * GQ > 20 for SNPs\n",
    "    * GQ > 40 for indels\n",
    "* Filtered variants with allelic balance outside the range $[0.25, 0.75]$\n",
    "* Filtered variants failing HWE filter\n",
    "    * $p > 10^{-9}$ for SNPs\n",
    "    * $p > 10^{-6}$ for indels\n",
    "* Removed singletons\n",
    "* Removed four samples with abnormally high het/hom rate (>3)\n",
    "* Filtered variants with allele count equal to zero"
   ]
  }
 ],
 "metadata": {
  "kernelspec": {
   "display_name": "Python [conda env:fargen-1-exome]",
   "language": "python",
   "name": "conda-env-fargen-1-exome-py"
  },
  "language_info": {
   "codemirror_mode": {
    "name": "ipython",
    "version": 3
   },
   "file_extension": ".py",
   "mimetype": "text/x-python",
   "name": "python",
   "nbconvert_exporter": "python",
   "pygments_lexer": "ipython3",
   "version": "3.7.10"
  }
 },
 "nbformat": 4,
 "nbformat_minor": 5
}
