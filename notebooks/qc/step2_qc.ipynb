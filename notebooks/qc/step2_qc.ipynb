{
 "cells": [
  {
   "cell_type": "markdown",
   "id": "6b46d6e6-3060-4ed7-8b35-6a09fd271204",
   "metadata": {},
   "source": [
    "# Quality control"
   ]
  },
  {
   "cell_type": "code",
   "execution_count": 1,
   "id": "million-damages",
   "metadata": {},
   "outputs": [
    {
     "name": "stdout",
     "output_type": "stream",
     "text": [
      "2021-08-31 14:26:09 WARN  NativeCodeLoader:62 - Unable to load native-hadoop library for your platform... using builtin-java classes where applicable\n"
     ]
    },
    {
     "name": "stderr",
     "output_type": "stream",
     "text": [
      "Setting default log level to \"WARN\".\n",
      "To adjust logging level use sc.setLogLevel(newLevel). For SparkR, use setLogLevel(newLevel).\n"
     ]
    },
    {
     "name": "stdout",
     "output_type": "stream",
     "text": [
      "2021-08-31 14:26:10 WARN  Hail:37 - This Hail JAR was compiled for Spark 2.4.5, running with Spark 2.4.1.\n",
      "  Compatibility is not guaranteed.\n"
     ]
    },
    {
     "name": "stderr",
     "output_type": "stream",
     "text": [
      "Running on Apache Spark version 2.4.1\n",
      "SparkUI available at http://hms-beagle-848846b477-8tkk6:4040\n",
      "Welcome to\n",
      "     __  __     <>__\n",
      "    / /_/ /__  __/ /\n",
      "   / __  / _ `/ / /\n",
      "  /_/ /_/\\_,_/_/_/   version 0.2.61-3c86d3ba497a\n",
      "LOGGING: writing to /home/olavur/experiments/2020-11-13_fargen1_exome_analysis/fargen-1-exome/notebooks/qc/hail-20210831-1426-0.2.61-3c86d3ba497a.log\n"
     ]
    }
   ],
   "source": [
    "import hail as hl\n",
    "hl.init(spark_conf={'spark.driver.memory': '10g'}, tmp_dir='/home/olavur/tmp')"
   ]
  },
  {
   "cell_type": "code",
   "execution_count": 2,
   "id": "analyzed-warrant",
   "metadata": {},
   "outputs": [
    {
     "data": {
      "text/html": [
       "\n",
       "    <div class=\"bk-root\">\n",
       "        <a href=\"https://bokeh.pydata.org\" target=\"_blank\" class=\"bk-logo bk-logo-small bk-logo-notebook\"></a>\n",
       "        <span id=\"1001\">Loading BokehJS ...</span>\n",
       "    </div>"
      ]
     },
     "metadata": {},
     "output_type": "display_data"
    },
    {
     "data": {
      "application/javascript": [
       "\n",
       "(function(root) {\n",
       "  function now() {\n",
       "    return new Date();\n",
       "  }\n",
       "\n",
       "  var force = true;\n",
       "\n",
       "  if (typeof root._bokeh_onload_callbacks === \"undefined\" || force === true) {\n",
       "    root._bokeh_onload_callbacks = [];\n",
       "    root._bokeh_is_loading = undefined;\n",
       "  }\n",
       "\n",
       "  var JS_MIME_TYPE = 'application/javascript';\n",
       "  var HTML_MIME_TYPE = 'text/html';\n",
       "  var EXEC_MIME_TYPE = 'application/vnd.bokehjs_exec.v0+json';\n",
       "  var CLASS_NAME = 'output_bokeh rendered_html';\n",
       "\n",
       "  /**\n",
       "   * Render data to the DOM node\n",
       "   */\n",
       "  function render(props, node) {\n",
       "    var script = document.createElement(\"script\");\n",
       "    node.appendChild(script);\n",
       "  }\n",
       "\n",
       "  /**\n",
       "   * Handle when an output is cleared or removed\n",
       "   */\n",
       "  function handleClearOutput(event, handle) {\n",
       "    var cell = handle.cell;\n",
       "\n",
       "    var id = cell.output_area._bokeh_element_id;\n",
       "    var server_id = cell.output_area._bokeh_server_id;\n",
       "    // Clean up Bokeh references\n",
       "    if (id != null && id in Bokeh.index) {\n",
       "      Bokeh.index[id].model.document.clear();\n",
       "      delete Bokeh.index[id];\n",
       "    }\n",
       "\n",
       "    if (server_id !== undefined) {\n",
       "      // Clean up Bokeh references\n",
       "      var cmd = \"from bokeh.io.state import curstate; print(curstate().uuid_to_server['\" + server_id + \"'].get_sessions()[0].document.roots[0]._id)\";\n",
       "      cell.notebook.kernel.execute(cmd, {\n",
       "        iopub: {\n",
       "          output: function(msg) {\n",
       "            var id = msg.content.text.trim();\n",
       "            if (id in Bokeh.index) {\n",
       "              Bokeh.index[id].model.document.clear();\n",
       "              delete Bokeh.index[id];\n",
       "            }\n",
       "          }\n",
       "        }\n",
       "      });\n",
       "      // Destroy server and session\n",
       "      var cmd = \"import bokeh.io.notebook as ion; ion.destroy_server('\" + server_id + \"')\";\n",
       "      cell.notebook.kernel.execute(cmd);\n",
       "    }\n",
       "  }\n",
       "\n",
       "  /**\n",
       "   * Handle when a new output is added\n",
       "   */\n",
       "  function handleAddOutput(event, handle) {\n",
       "    var output_area = handle.output_area;\n",
       "    var output = handle.output;\n",
       "\n",
       "    // limit handleAddOutput to display_data with EXEC_MIME_TYPE content only\n",
       "    if ((output.output_type != \"display_data\") || (!output.data.hasOwnProperty(EXEC_MIME_TYPE))) {\n",
       "      return\n",
       "    }\n",
       "\n",
       "    var toinsert = output_area.element.find(\".\" + CLASS_NAME.split(' ')[0]);\n",
       "\n",
       "    if (output.metadata[EXEC_MIME_TYPE][\"id\"] !== undefined) {\n",
       "      toinsert[toinsert.length - 1].firstChild.textContent = output.data[JS_MIME_TYPE];\n",
       "      // store reference to embed id on output_area\n",
       "      output_area._bokeh_element_id = output.metadata[EXEC_MIME_TYPE][\"id\"];\n",
       "    }\n",
       "    if (output.metadata[EXEC_MIME_TYPE][\"server_id\"] !== undefined) {\n",
       "      var bk_div = document.createElement(\"div\");\n",
       "      bk_div.innerHTML = output.data[HTML_MIME_TYPE];\n",
       "      var script_attrs = bk_div.children[0].attributes;\n",
       "      for (var i = 0; i < script_attrs.length; i++) {\n",
       "        toinsert[toinsert.length - 1].firstChild.setAttribute(script_attrs[i].name, script_attrs[i].value);\n",
       "      }\n",
       "      // store reference to server id on output_area\n",
       "      output_area._bokeh_server_id = output.metadata[EXEC_MIME_TYPE][\"server_id\"];\n",
       "    }\n",
       "  }\n",
       "\n",
       "  function register_renderer(events, OutputArea) {\n",
       "\n",
       "    function append_mime(data, metadata, element) {\n",
       "      // create a DOM node to render to\n",
       "      var toinsert = this.create_output_subarea(\n",
       "        metadata,\n",
       "        CLASS_NAME,\n",
       "        EXEC_MIME_TYPE\n",
       "      );\n",
       "      this.keyboard_manager.register_events(toinsert);\n",
       "      // Render to node\n",
       "      var props = {data: data, metadata: metadata[EXEC_MIME_TYPE]};\n",
       "      render(props, toinsert[toinsert.length - 1]);\n",
       "      element.append(toinsert);\n",
       "      return toinsert\n",
       "    }\n",
       "\n",
       "    /* Handle when an output is cleared or removed */\n",
       "    events.on('clear_output.CodeCell', handleClearOutput);\n",
       "    events.on('delete.Cell', handleClearOutput);\n",
       "\n",
       "    /* Handle when a new output is added */\n",
       "    events.on('output_added.OutputArea', handleAddOutput);\n",
       "\n",
       "    /**\n",
       "     * Register the mime type and append_mime function with output_area\n",
       "     */\n",
       "    OutputArea.prototype.register_mime_type(EXEC_MIME_TYPE, append_mime, {\n",
       "      /* Is output safe? */\n",
       "      safe: true,\n",
       "      /* Index of renderer in `output_area.display_order` */\n",
       "      index: 0\n",
       "    });\n",
       "  }\n",
       "\n",
       "  // register the mime type if in Jupyter Notebook environment and previously unregistered\n",
       "  if (root.Jupyter !== undefined) {\n",
       "    var events = require('base/js/events');\n",
       "    var OutputArea = require('notebook/js/outputarea').OutputArea;\n",
       "\n",
       "    if (OutputArea.prototype.mime_types().indexOf(EXEC_MIME_TYPE) == -1) {\n",
       "      register_renderer(events, OutputArea);\n",
       "    }\n",
       "  }\n",
       "\n",
       "  \n",
       "  if (typeof (root._bokeh_timeout) === \"undefined\" || force === true) {\n",
       "    root._bokeh_timeout = Date.now() + 5000;\n",
       "    root._bokeh_failed_load = false;\n",
       "  }\n",
       "\n",
       "  var NB_LOAD_WARNING = {'data': {'text/html':\n",
       "     \"<div style='background-color: #fdd'>\\n\"+\n",
       "     \"<p>\\n\"+\n",
       "     \"BokehJS does not appear to have successfully loaded. If loading BokehJS from CDN, this \\n\"+\n",
       "     \"may be due to a slow or bad network connection. Possible fixes:\\n\"+\n",
       "     \"</p>\\n\"+\n",
       "     \"<ul>\\n\"+\n",
       "     \"<li>re-rerun `output_notebook()` to attempt to load from CDN again, or</li>\\n\"+\n",
       "     \"<li>use INLINE resources instead, as so:</li>\\n\"+\n",
       "     \"</ul>\\n\"+\n",
       "     \"<code>\\n\"+\n",
       "     \"from bokeh.resources import INLINE\\n\"+\n",
       "     \"output_notebook(resources=INLINE)\\n\"+\n",
       "     \"</code>\\n\"+\n",
       "     \"</div>\"}};\n",
       "\n",
       "  function display_loaded() {\n",
       "    var el = document.getElementById(\"1001\");\n",
       "    if (el != null) {\n",
       "      el.textContent = \"BokehJS is loading...\";\n",
       "    }\n",
       "    if (root.Bokeh !== undefined) {\n",
       "      if (el != null) {\n",
       "        el.textContent = \"BokehJS \" + root.Bokeh.version + \" successfully loaded.\";\n",
       "      }\n",
       "    } else if (Date.now() < root._bokeh_timeout) {\n",
       "      setTimeout(display_loaded, 100)\n",
       "    }\n",
       "  }\n",
       "\n",
       "\n",
       "  function run_callbacks() {\n",
       "    try {\n",
       "      root._bokeh_onload_callbacks.forEach(function(callback) {\n",
       "        if (callback != null)\n",
       "          callback();\n",
       "      });\n",
       "    } finally {\n",
       "      delete root._bokeh_onload_callbacks\n",
       "    }\n",
       "    console.debug(\"Bokeh: all callbacks have finished\");\n",
       "  }\n",
       "\n",
       "  function load_libs(css_urls, js_urls, callback) {\n",
       "    if (css_urls == null) css_urls = [];\n",
       "    if (js_urls == null) js_urls = [];\n",
       "\n",
       "    root._bokeh_onload_callbacks.push(callback);\n",
       "    if (root._bokeh_is_loading > 0) {\n",
       "      console.debug(\"Bokeh: BokehJS is being loaded, scheduling callback at\", now());\n",
       "      return null;\n",
       "    }\n",
       "    if (js_urls == null || js_urls.length === 0) {\n",
       "      run_callbacks();\n",
       "      return null;\n",
       "    }\n",
       "    console.debug(\"Bokeh: BokehJS not loaded, scheduling load and callback at\", now());\n",
       "    root._bokeh_is_loading = css_urls.length + js_urls.length;\n",
       "\n",
       "    function on_load() {\n",
       "      root._bokeh_is_loading--;\n",
       "      if (root._bokeh_is_loading === 0) {\n",
       "        console.debug(\"Bokeh: all BokehJS libraries/stylesheets loaded\");\n",
       "        run_callbacks()\n",
       "      }\n",
       "    }\n",
       "\n",
       "    function on_error() {\n",
       "      console.error(\"failed to load \" + url);\n",
       "    }\n",
       "\n",
       "    for (var i = 0; i < css_urls.length; i++) {\n",
       "      var url = css_urls[i];\n",
       "      const element = document.createElement(\"link\");\n",
       "      element.onload = on_load;\n",
       "      element.onerror = on_error;\n",
       "      element.rel = \"stylesheet\";\n",
       "      element.type = \"text/css\";\n",
       "      element.href = url;\n",
       "      console.debug(\"Bokeh: injecting link tag for BokehJS stylesheet: \", url);\n",
       "      document.body.appendChild(element);\n",
       "    }\n",
       "\n",
       "    for (var i = 0; i < js_urls.length; i++) {\n",
       "      var url = js_urls[i];\n",
       "      var element = document.createElement('script');\n",
       "      element.onload = on_load;\n",
       "      element.onerror = on_error;\n",
       "      element.async = false;\n",
       "      element.src = url;\n",
       "      console.debug(\"Bokeh: injecting script tag for BokehJS library: \", url);\n",
       "      document.head.appendChild(element);\n",
       "    }\n",
       "  };var element = document.getElementById(\"1001\");\n",
       "  if (element == null) {\n",
       "    console.error(\"Bokeh: ERROR: autoload.js configured with elementid '1001' but no matching script tag was found. \")\n",
       "    return false;\n",
       "  }\n",
       "\n",
       "  function inject_raw_css(css) {\n",
       "    const element = document.createElement(\"style\");\n",
       "    element.appendChild(document.createTextNode(css));\n",
       "    document.body.appendChild(element);\n",
       "  }\n",
       "\n",
       "  var js_urls = [\"https://cdn.pydata.org/bokeh/release/bokeh-1.2.0.min.js\", \"https://cdn.pydata.org/bokeh/release/bokeh-widgets-1.2.0.min.js\", \"https://cdn.pydata.org/bokeh/release/bokeh-tables-1.2.0.min.js\", \"https://cdn.pydata.org/bokeh/release/bokeh-gl-1.2.0.min.js\"];\n",
       "  var css_urls = [\"https://cdn.pydata.org/bokeh/release/bokeh-1.2.0.min.css\", \"https://cdn.pydata.org/bokeh/release/bokeh-widgets-1.2.0.min.css\", \"https://cdn.pydata.org/bokeh/release/bokeh-tables-1.2.0.min.css\"];\n",
       "\n",
       "  var inline_js = [\n",
       "    function(Bokeh) {\n",
       "      Bokeh.set_log_level(\"info\");\n",
       "    },\n",
       "    \n",
       "    function(Bokeh) {\n",
       "      \n",
       "    },\n",
       "    function(Bokeh) {} // ensure no trailing comma for IE\n",
       "  ];\n",
       "\n",
       "  function run_inline_js() {\n",
       "    \n",
       "    if ((root.Bokeh !== undefined) || (force === true)) {\n",
       "      for (var i = 0; i < inline_js.length; i++) {\n",
       "        inline_js[i].call(root, root.Bokeh);\n",
       "      }if (force === true) {\n",
       "        display_loaded();\n",
       "      }} else if (Date.now() < root._bokeh_timeout) {\n",
       "      setTimeout(run_inline_js, 100);\n",
       "    } else if (!root._bokeh_failed_load) {\n",
       "      console.log(\"Bokeh: BokehJS failed to load within specified timeout.\");\n",
       "      root._bokeh_failed_load = true;\n",
       "    } else if (force !== true) {\n",
       "      var cell = $(document.getElementById(\"1001\")).parents('.cell').data().cell;\n",
       "      cell.output_area.append_execute_result(NB_LOAD_WARNING)\n",
       "    }\n",
       "\n",
       "  }\n",
       "\n",
       "  if (root._bokeh_is_loading === 0) {\n",
       "    console.debug(\"Bokeh: BokehJS loaded, going straight to plotting\");\n",
       "    run_inline_js();\n",
       "  } else {\n",
       "    load_libs(css_urls, js_urls, function() {\n",
       "      console.debug(\"Bokeh: BokehJS plotting callback run at\", now());\n",
       "      run_inline_js();\n",
       "    });\n",
       "  }\n",
       "}(window));"
      ],
      "application/vnd.bokehjs_load.v0+json": "\n(function(root) {\n  function now() {\n    return new Date();\n  }\n\n  var force = true;\n\n  if (typeof root._bokeh_onload_callbacks === \"undefined\" || force === true) {\n    root._bokeh_onload_callbacks = [];\n    root._bokeh_is_loading = undefined;\n  }\n\n  \n\n  \n  if (typeof (root._bokeh_timeout) === \"undefined\" || force === true) {\n    root._bokeh_timeout = Date.now() + 5000;\n    root._bokeh_failed_load = false;\n  }\n\n  var NB_LOAD_WARNING = {'data': {'text/html':\n     \"<div style='background-color: #fdd'>\\n\"+\n     \"<p>\\n\"+\n     \"BokehJS does not appear to have successfully loaded. If loading BokehJS from CDN, this \\n\"+\n     \"may be due to a slow or bad network connection. Possible fixes:\\n\"+\n     \"</p>\\n\"+\n     \"<ul>\\n\"+\n     \"<li>re-rerun `output_notebook()` to attempt to load from CDN again, or</li>\\n\"+\n     \"<li>use INLINE resources instead, as so:</li>\\n\"+\n     \"</ul>\\n\"+\n     \"<code>\\n\"+\n     \"from bokeh.resources import INLINE\\n\"+\n     \"output_notebook(resources=INLINE)\\n\"+\n     \"</code>\\n\"+\n     \"</div>\"}};\n\n  function display_loaded() {\n    var el = document.getElementById(\"1001\");\n    if (el != null) {\n      el.textContent = \"BokehJS is loading...\";\n    }\n    if (root.Bokeh !== undefined) {\n      if (el != null) {\n        el.textContent = \"BokehJS \" + root.Bokeh.version + \" successfully loaded.\";\n      }\n    } else if (Date.now() < root._bokeh_timeout) {\n      setTimeout(display_loaded, 100)\n    }\n  }\n\n\n  function run_callbacks() {\n    try {\n      root._bokeh_onload_callbacks.forEach(function(callback) {\n        if (callback != null)\n          callback();\n      });\n    } finally {\n      delete root._bokeh_onload_callbacks\n    }\n    console.debug(\"Bokeh: all callbacks have finished\");\n  }\n\n  function load_libs(css_urls, js_urls, callback) {\n    if (css_urls == null) css_urls = [];\n    if (js_urls == null) js_urls = [];\n\n    root._bokeh_onload_callbacks.push(callback);\n    if (root._bokeh_is_loading > 0) {\n      console.debug(\"Bokeh: BokehJS is being loaded, scheduling callback at\", now());\n      return null;\n    }\n    if (js_urls == null || js_urls.length === 0) {\n      run_callbacks();\n      return null;\n    }\n    console.debug(\"Bokeh: BokehJS not loaded, scheduling load and callback at\", now());\n    root._bokeh_is_loading = css_urls.length + js_urls.length;\n\n    function on_load() {\n      root._bokeh_is_loading--;\n      if (root._bokeh_is_loading === 0) {\n        console.debug(\"Bokeh: all BokehJS libraries/stylesheets loaded\");\n        run_callbacks()\n      }\n    }\n\n    function on_error() {\n      console.error(\"failed to load \" + url);\n    }\n\n    for (var i = 0; i < css_urls.length; i++) {\n      var url = css_urls[i];\n      const element = document.createElement(\"link\");\n      element.onload = on_load;\n      element.onerror = on_error;\n      element.rel = \"stylesheet\";\n      element.type = \"text/css\";\n      element.href = url;\n      console.debug(\"Bokeh: injecting link tag for BokehJS stylesheet: \", url);\n      document.body.appendChild(element);\n    }\n\n    for (var i = 0; i < js_urls.length; i++) {\n      var url = js_urls[i];\n      var element = document.createElement('script');\n      element.onload = on_load;\n      element.onerror = on_error;\n      element.async = false;\n      element.src = url;\n      console.debug(\"Bokeh: injecting script tag for BokehJS library: \", url);\n      document.head.appendChild(element);\n    }\n  };var element = document.getElementById(\"1001\");\n  if (element == null) {\n    console.error(\"Bokeh: ERROR: autoload.js configured with elementid '1001' but no matching script tag was found. \")\n    return false;\n  }\n\n  function inject_raw_css(css) {\n    const element = document.createElement(\"style\");\n    element.appendChild(document.createTextNode(css));\n    document.body.appendChild(element);\n  }\n\n  var js_urls = [\"https://cdn.pydata.org/bokeh/release/bokeh-1.2.0.min.js\", \"https://cdn.pydata.org/bokeh/release/bokeh-widgets-1.2.0.min.js\", \"https://cdn.pydata.org/bokeh/release/bokeh-tables-1.2.0.min.js\", \"https://cdn.pydata.org/bokeh/release/bokeh-gl-1.2.0.min.js\"];\n  var css_urls = [\"https://cdn.pydata.org/bokeh/release/bokeh-1.2.0.min.css\", \"https://cdn.pydata.org/bokeh/release/bokeh-widgets-1.2.0.min.css\", \"https://cdn.pydata.org/bokeh/release/bokeh-tables-1.2.0.min.css\"];\n\n  var inline_js = [\n    function(Bokeh) {\n      Bokeh.set_log_level(\"info\");\n    },\n    \n    function(Bokeh) {\n      \n    },\n    function(Bokeh) {} // ensure no trailing comma for IE\n  ];\n\n  function run_inline_js() {\n    \n    if ((root.Bokeh !== undefined) || (force === true)) {\n      for (var i = 0; i < inline_js.length; i++) {\n        inline_js[i].call(root, root.Bokeh);\n      }if (force === true) {\n        display_loaded();\n      }} else if (Date.now() < root._bokeh_timeout) {\n      setTimeout(run_inline_js, 100);\n    } else if (!root._bokeh_failed_load) {\n      console.log(\"Bokeh: BokehJS failed to load within specified timeout.\");\n      root._bokeh_failed_load = true;\n    } else if (force !== true) {\n      var cell = $(document.getElementById(\"1001\")).parents('.cell').data().cell;\n      cell.output_area.append_execute_result(NB_LOAD_WARNING)\n    }\n\n  }\n\n  if (root._bokeh_is_loading === 0) {\n    console.debug(\"Bokeh: BokehJS loaded, going straight to plotting\");\n    run_inline_js();\n  } else {\n    load_libs(css_urls, js_urls, function() {\n      console.debug(\"Bokeh: BokehJS plotting callback run at\", now());\n      run_inline_js();\n    });\n  }\n}(window));"
     },
     "metadata": {},
     "output_type": "display_data"
    }
   ],
   "source": [
    "from bokeh.io import show, output_notebook\n",
    "from bokeh.layouts import gridplot\n",
    "from bokeh.models.scales import LogScale\n",
    "output_notebook()"
   ]
  },
  {
   "cell_type": "code",
   "execution_count": 3,
   "id": "a90371f0-f6d2-4b83-a3ef-82b3d4e3256e",
   "metadata": {},
   "outputs": [],
   "source": [
    "import pandas as pd"
   ]
  },
  {
   "cell_type": "markdown",
   "id": "canadian-india",
   "metadata": {},
   "source": [
    "Load variant data."
   ]
  },
  {
   "cell_type": "code",
   "execution_count": 46,
   "id": "assigned-centre",
   "metadata": {},
   "outputs": [],
   "source": [
    "BASE_DIR = '/home/olavur/experiments/2020-11-13_fargen1_exome_analysis'\n",
    "mt = hl.read_matrix_table(BASE_DIR + '/data/mt/variants.mt')"
   ]
  },
  {
   "cell_type": "markdown",
   "id": "8c78f15a-44f9-4615-8474-3de1a817e107",
   "metadata": {},
   "source": [
    "Split multi-allelic variants into separate rows. This makes a lot of analyses much easier.\n",
    "\n",
    "**FIXME:** while `split_multi_hts()` is really useful, it is causing me a lot of headaches in some other areas."
   ]
  },
  {
   "cell_type": "code",
   "execution_count": 47,
   "id": "079945ea-ec80-44c2-aabb-7c6f270e50f5",
   "metadata": {},
   "outputs": [],
   "source": [
    "mt = hl.split_multi_hts(mt)"
   ]
  },
  {
   "cell_type": "code",
   "execution_count": 6,
   "id": "e3f04d99-9bd4-4205-935b-abb721d3bff0",
   "metadata": {},
   "outputs": [
    {
     "name": "stderr",
     "output_type": "stream",
     "text": [
      "[Stage 1:======================================================>  (92 + 4) / 96]"
     ]
    },
    {
     "name": "stdout",
     "output_type": "stream",
     "text": [
      "Number of variants: 3358693\n",
      "Number of samples: 474\n"
     ]
    }
   ],
   "source": [
    "n_variants, n_samples = mt.count()\n",
    "print('Number of variants: ' + str(n_variants))\n",
    "print('Number of samples: ' + str(n_samples))"
   ]
  },
  {
   "cell_type": "markdown",
   "id": "deadly-wales",
   "metadata": {},
   "source": [
    "## VQSR filters\n",
    "\n",
    "We will remove variants not passing the VQSR filters. First, however, we will look a bit closer into these values."
   ]
  },
  {
   "cell_type": "code",
   "execution_count": 48,
   "id": "legitimate-selection",
   "metadata": {},
   "outputs": [],
   "source": [
    "mt = mt.transmute_rows(filters=hl.delimit(mt.filters, ','))"
   ]
  },
  {
   "cell_type": "markdown",
   "id": "d3a41375-28d5-411f-a6a6-114f7fc52cdc",
   "metadata": {},
   "source": [
    "We will calculate some mean QC statistics for each VQSR tranch."
   ]
  },
  {
   "cell_type": "code",
   "execution_count": 30,
   "id": "fb4e3d8c-b958-41d1-baab-82e351eb2999",
   "metadata": {},
   "outputs": [],
   "source": [
    "# Calculate variant statistics.\n",
    "mt = hl.variant_qc(mt)\n",
    "\n",
    "# Get rows table.\n",
    "rows_ht = mt.rows()\n",
    "\n",
    "# Aggregate.\n",
    "result = (rows_ht.group_by(rows_ht.filters)\n",
    "         .aggregate(mean_gq = hl.agg.filter(~hl.is_nan(rows_ht.variant_qc.gq_stats.mean), hl.agg.mean(rows_ht.variant_qc.gq_stats.mean)),\n",
    "                   mean_dp = hl.agg.filter(~hl.is_nan(rows_ht.variant_qc.dp_stats.mean), hl.agg.mean(rows_ht.variant_qc.dp_stats.mean)),\n",
    "                   mean_af = hl.agg.filter(~hl.is_nan(rows_ht.variant_qc.AF[0]), hl.agg.mean(1 - rows_ht.variant_qc.AF[0])),\n",
    "                   mean_vqslod = hl.agg.filter(~hl.is_nan(rows_ht.info.VQSLOD), hl.agg.mean(rows_ht.info.VQSLOD)),\n",
    "                   n_variants = hl.agg.count()))"
   ]
  },
  {
   "cell_type": "markdown",
   "id": "5b233371-143e-468f-8548-f51fb1d8f09a",
   "metadata": {},
   "source": [
    "We convert the results to a Pandas dataframe."
   ]
  },
  {
   "cell_type": "code",
   "execution_count": 10,
   "id": "c8f1c0f1-0d81-4f58-b7fb-32a096be2a9e",
   "metadata": {},
   "outputs": [
    {
     "name": "stderr",
     "output_type": "stream",
     "text": [
      "2021-07-01 13:38:35 Hail: INFO: Coerced sorted dataset\n",
      "2021-07-01 13:38:35 Hail: INFO: Coerced dataset with out-of-order partitions.\n"
     ]
    }
   ],
   "source": [
    "vqsr_stats_pd = result.to_pandas()"
   ]
  },
  {
   "cell_type": "markdown",
   "id": "0016ab27-1509-407b-ae54-b8a8c6482ce8",
   "metadata": {},
   "source": [
    "Below we first print the statistics for the SNPs and then for the indels. The rows are sorted by mean genotype quality. The empty filter row (`filter=''`) corresponds to all unfiltered variants."
   ]
  },
  {
   "cell_type": "code",
   "execution_count": 11,
   "id": "d359bca6-35d9-4ebd-96dd-0304881f243c",
   "metadata": {},
   "outputs": [
    {
     "data": {
      "text/html": [
       "<div>\n",
       "<style scoped>\n",
       "    .dataframe tbody tr th:only-of-type {\n",
       "        vertical-align: middle;\n",
       "    }\n",
       "\n",
       "    .dataframe tbody tr th {\n",
       "        vertical-align: top;\n",
       "    }\n",
       "\n",
       "    .dataframe thead th {\n",
       "        text-align: right;\n",
       "    }\n",
       "</style>\n",
       "<table border=\"1\" class=\"dataframe\">\n",
       "  <thead>\n",
       "    <tr style=\"text-align: right;\">\n",
       "      <th></th>\n",
       "      <th>filters</th>\n",
       "      <th>mean_gq</th>\n",
       "      <th>mean_dp</th>\n",
       "      <th>mean_af</th>\n",
       "      <th>mean_vqslod</th>\n",
       "      <th>n_variants</th>\n",
       "    </tr>\n",
       "  </thead>\n",
       "  <tbody>\n",
       "    <tr>\n",
       "      <th>4</th>\n",
       "      <td>VQSRTrancheSNP99.90to100.00</td>\n",
       "      <td>45.499120</td>\n",
       "      <td>24.340795</td>\n",
       "      <td>0.012273</td>\n",
       "      <td>-15.686973</td>\n",
       "      <td>362624</td>\n",
       "    </tr>\n",
       "    <tr>\n",
       "      <th>3</th>\n",
       "      <td>VQSRTrancheSNP99.00to99.90</td>\n",
       "      <td>47.375904</td>\n",
       "      <td>18.232193</td>\n",
       "      <td>0.014849</td>\n",
       "      <td>-1.060235</td>\n",
       "      <td>534577</td>\n",
       "    </tr>\n",
       "    <tr>\n",
       "      <th>0</th>\n",
       "      <td></td>\n",
       "      <td>49.489804</td>\n",
       "      <td>22.634224</td>\n",
       "      <td>0.064870</td>\n",
       "      <td>inf</td>\n",
       "      <td>1502654</td>\n",
       "    </tr>\n",
       "  </tbody>\n",
       "</table>\n",
       "</div>"
      ],
      "text/plain": [
       "                       filters    mean_gq    mean_dp   mean_af  mean_vqslod  \\\n",
       "4  VQSRTrancheSNP99.90to100.00  45.499120  24.340795  0.012273   -15.686973   \n",
       "3   VQSRTrancheSNP99.00to99.90  47.375904  18.232193  0.014849    -1.060235   \n",
       "0                               49.489804  22.634224  0.064870          inf   \n",
       "\n",
       "   n_variants  \n",
       "4      362624  \n",
       "3      534577  \n",
       "0     1502654  "
      ]
     },
     "execution_count": 11,
     "metadata": {},
     "output_type": "execute_result"
    }
   ],
   "source": [
    "vqsr_stats_pd[vqsr_stats_pd.filters.isin(['VQSRTrancheSNP99.00to99.90', 'VQSRTrancheSNP99.90to100.00', ''])].sort_values('mean_gq')"
   ]
  },
  {
   "cell_type": "code",
   "execution_count": 12,
   "id": "4663e101-a483-42e1-8e02-e522a0459f2e",
   "metadata": {},
   "outputs": [
    {
     "data": {
      "text/html": [
       "<div>\n",
       "<style scoped>\n",
       "    .dataframe tbody tr th:only-of-type {\n",
       "        vertical-align: middle;\n",
       "    }\n",
       "\n",
       "    .dataframe tbody tr th {\n",
       "        vertical-align: top;\n",
       "    }\n",
       "\n",
       "    .dataframe thead th {\n",
       "        text-align: right;\n",
       "    }\n",
       "</style>\n",
       "<table border=\"1\" class=\"dataframe\">\n",
       "  <thead>\n",
       "    <tr style=\"text-align: right;\">\n",
       "      <th></th>\n",
       "      <th>filters</th>\n",
       "      <th>mean_gq</th>\n",
       "      <th>mean_dp</th>\n",
       "      <th>mean_af</th>\n",
       "      <th>mean_vqslod</th>\n",
       "      <th>n_variants</th>\n",
       "    </tr>\n",
       "  </thead>\n",
       "  <tbody>\n",
       "    <tr>\n",
       "      <th>1</th>\n",
       "      <td>VQSRTrancheINDEL99.00to99.90</td>\n",
       "      <td>38.512388</td>\n",
       "      <td>16.930223</td>\n",
       "      <td>0.003176</td>\n",
       "      <td>-1.528497</td>\n",
       "      <td>658985</td>\n",
       "    </tr>\n",
       "    <tr>\n",
       "      <th>0</th>\n",
       "      <td></td>\n",
       "      <td>49.489804</td>\n",
       "      <td>22.634224</td>\n",
       "      <td>0.064870</td>\n",
       "      <td>inf</td>\n",
       "      <td>1502654</td>\n",
       "    </tr>\n",
       "    <tr>\n",
       "      <th>2</th>\n",
       "      <td>VQSRTrancheINDEL99.90to100.00</td>\n",
       "      <td>51.322732</td>\n",
       "      <td>26.458137</td>\n",
       "      <td>0.005304</td>\n",
       "      <td>-5.745079</td>\n",
       "      <td>294725</td>\n",
       "    </tr>\n",
       "  </tbody>\n",
       "</table>\n",
       "</div>"
      ],
      "text/plain": [
       "                         filters    mean_gq    mean_dp   mean_af  mean_vqslod  \\\n",
       "1   VQSRTrancheINDEL99.00to99.90  38.512388  16.930223  0.003176    -1.528497   \n",
       "0                                 49.489804  22.634224  0.064870          inf   \n",
       "2  VQSRTrancheINDEL99.90to100.00  51.322732  26.458137  0.005304    -5.745079   \n",
       "\n",
       "   n_variants  \n",
       "1      658985  \n",
       "0     1502654  \n",
       "2      294725  "
      ]
     },
     "execution_count": 12,
     "metadata": {},
     "output_type": "execute_result"
    }
   ],
   "source": [
    "vqsr_stats_pd[vqsr_stats_pd.filters.isin(['VQSRTrancheINDEL99.00to99.90', 'VQSRTrancheINDEL99.90to100.00', ''])].sort_values('mean_gq')"
   ]
  },
  {
   "cell_type": "markdown",
   "id": "african-lotus",
   "metadata": {},
   "source": [
    "We will only look at the **high-quality variants** from now on. So we remove variants in the 99% to 99.9% and the 99.9% to 100% VQSR tranches, and keep only the unfiltered variants."
   ]
  },
  {
   "cell_type": "code",
   "execution_count": 49,
   "id": "numerous-mayor",
   "metadata": {},
   "outputs": [],
   "source": [
    "mt = mt.filter_rows(mt.filters == '')"
   ]
  },
  {
   "cell_type": "markdown",
   "id": "1787fb13-7a43-4dda-a577-3c91ffedd065",
   "metadata": {},
   "source": [
    "We check how many variants we have remaining after filtering."
   ]
  },
  {
   "cell_type": "code",
   "execution_count": 14,
   "id": "instrumental-competition",
   "metadata": {},
   "outputs": [
    {
     "name": "stdout",
     "output_type": "stream",
     "text": [
      "Number of variants: 1502654\n",
      "Number of samples: 472\n"
     ]
    }
   ],
   "source": [
    "n_variants, n_samples = mt.count()\n",
    "print('Number of variants: ' + str(n_variants))\n",
    "print('Number of samples: ' + str(n_samples))"
   ]
  },
  {
   "cell_type": "markdown",
   "id": "9ec32319-dff2-4e01-90f8-3dd34cda8509",
   "metadata": {},
   "source": [
    "## Genotype QC"
   ]
  },
  {
   "cell_type": "code",
   "execution_count": 15,
   "id": "1a8c4b54-f898-4103-86d3-0360aa22e6f8",
   "metadata": {},
   "outputs": [
    {
     "data": {
      "text/html": [
       "\n",
       "\n",
       "\n",
       "\n",
       "\n",
       "\n",
       "  <div class=\"bk-root\" id=\"718b6698-f73c-4b76-a526-774a4ce68848\" data-root-id=\"1002\"></div>\n"
      ]
     },
     "metadata": {},
     "output_type": "display_data"
    },
    {
     "data": {
      "application/javascript": [
       "(function(root) {\n",
       "  function embed_document(root) {\n",
       "    \n",
       "  var docs_json = {\"62fb9e63-b078-4022-9659-c8446cd10a8a\":{\"roots\":{\"references\":[{\"attributes\":{\"background_fill_color\":{\"value\":\"#EEEEEE\"},\"below\":[{\"id\":\"1012\",\"type\":\"LinearAxis\"}],\"center\":[{\"id\":\"1016\",\"type\":\"Grid\"},{\"id\":\"1021\",\"type\":\"Grid\"}],\"left\":[{\"id\":\"1017\",\"type\":\"LinearAxis\"}],\"plot_height\":500,\"plot_width\":800,\"renderers\":[{\"id\":\"1038\",\"type\":\"GlyphRenderer\"}],\"title\":null,\"toolbar\":{\"id\":\"1028\",\"type\":\"Toolbar\"},\"x_range\":{\"id\":\"1004\",\"type\":\"Range1d\"},\"x_scale\":{\"id\":\"1008\",\"type\":\"LinearScale\"},\"y_range\":{\"id\":\"1006\",\"type\":\"DataRange1d\"},\"y_scale\":{\"id\":\"1010\",\"type\":\"LinearScale\"}},\"id\":\"1002\",\"subtype\":\"Figure\",\"type\":\"Plot\"},{\"attributes\":{\"bottom\":{\"value\":0},\"fill_alpha\":{\"value\":0.1},\"fill_color\":{\"value\":\"#1f77b4\"},\"left\":{\"field\":\"left\"},\"line_alpha\":{\"value\":0.1},\"line_color\":{\"value\":\"#1f77b4\"},\"right\":{\"field\":\"right\"},\"top\":{\"field\":\"top\"}},\"id\":\"1037\",\"type\":\"Quad\"},{\"attributes\":{\"bottom\":{\"value\":0},\"fill_color\":{\"value\":\"#1f77b4\"},\"left\":{\"field\":\"left\"},\"right\":{\"field\":\"right\"},\"top\":{\"field\":\"top\"}},\"id\":\"1036\",\"type\":\"Quad\"},{\"attributes\":{\"bottom_units\":\"screen\",\"fill_alpha\":{\"value\":0.5},\"fill_color\":{\"value\":\"lightgrey\"},\"left_units\":\"screen\",\"level\":\"overlay\",\"line_alpha\":{\"value\":1.0},\"line_color\":{\"value\":\"black\"},\"line_dash\":[4,4],\"line_width\":{\"value\":2},\"render_mode\":\"css\",\"right_units\":\"screen\",\"top_units\":\"screen\"},\"id\":\"1047\",\"type\":\"BoxAnnotation\"},{\"attributes\":{},\"id\":\"1041\",\"type\":\"BasicTickFormatter\"},{\"attributes\":{},\"id\":\"1027\",\"type\":\"HelpTool\"},{\"attributes\":{},\"id\":\"1023\",\"type\":\"WheelZoomTool\"},{\"attributes\":{\"active_drag\":\"auto\",\"active_inspect\":\"auto\",\"active_multi\":null,\"active_scroll\":\"auto\",\"active_tap\":\"auto\",\"tools\":[{\"id\":\"1022\",\"type\":\"PanTool\"},{\"id\":\"1023\",\"type\":\"WheelZoomTool\"},{\"id\":\"1024\",\"type\":\"BoxZoomTool\"},{\"id\":\"1025\",\"type\":\"SaveTool\"},{\"id\":\"1026\",\"type\":\"ResetTool\"},{\"id\":\"1027\",\"type\":\"HelpTool\"}]},\"id\":\"1028\",\"type\":\"Toolbar\"},{\"attributes\":{},\"id\":\"1025\",\"type\":\"SaveTool\"},{\"attributes\":{},\"id\":\"1046\",\"type\":\"Selection\"},{\"attributes\":{},\"id\":\"1026\",\"type\":\"ResetTool\"},{\"attributes\":{},\"id\":\"1045\",\"type\":\"UnionRenderers\"},{\"attributes\":{},\"id\":\"1013\",\"type\":\"BasicTicker\"},{\"attributes\":{},\"id\":\"1022\",\"type\":\"PanTool\"},{\"attributes\":{\"data_source\":{\"id\":\"1035\",\"type\":\"ColumnDataSource\"},\"glyph\":{\"id\":\"1036\",\"type\":\"Quad\"},\"hover_glyph\":null,\"muted_glyph\":null,\"nonselection_glyph\":{\"id\":\"1037\",\"type\":\"Quad\"},\"selection_glyph\":null,\"view\":{\"id\":\"1039\",\"type\":\"CDSView\"}},\"id\":\"1038\",\"type\":\"GlyphRenderer\"},{\"attributes\":{\"dimension\":1,\"ticker\":{\"id\":\"1018\",\"type\":\"BasicTicker\"}},\"id\":\"1021\",\"type\":\"Grid\"},{\"attributes\":{},\"id\":\"1010\",\"type\":\"LinearScale\"},{\"attributes\":{\"axis_label\":\"Genotype quality\",\"formatter\":{\"id\":\"1043\",\"type\":\"BasicTickFormatter\"},\"ticker\":{\"id\":\"1013\",\"type\":\"BasicTicker\"}},\"id\":\"1012\",\"type\":\"LinearAxis\"},{\"attributes\":{\"callback\":null,\"data\":{\"left\":[0.0,2.0,4.0,6.0,8.0,10.0,12.0,14.0,16.0,18.0,20.0,22.0,24.0,26.0,28.0,30.0,32.0,34.0,36.0,38.0,40.0,42.0,44.0,46.0,48.0,50.0,52.0,54.0,56.0,58.0,60.0,62.0,64.0,66.0,68.0,70.0,72.0,74.0,76.0,78.0,80.0,82.0,84.0,86.0,88.0,90.0,92.0,94.0,96.0,98.0],\"right\":[2.0,4.0,6.0,8.0,10.0,12.0,14.0,16.0,18.0,20.0,22.0,24.0,26.0,28.0,30.0,32.0,34.0,36.0,38.0,40.0,42.0,44.0,46.0,48.0,50.0,52.0,54.0,56.0,58.0,60.0,62.0,64.0,66.0,68.0,70.0,72.0,74.0,76.0,78.0,80.0,82.0,84.0,86.0,88.0,90.0,92.0,94.0,96.0,98.0,100.0],\"top\":[4161881,2044645,974672,1380217,1220170,906594,1167748,1203465,1071069,1220270,1246902,1124294,1224385,1237531,1141701,1242067,1254289,1154086,1191229,1168486,1036909,1041362,1016529,920954,925070,922822,881909,951578,1016251,849942,856125,868466,805577,797552,794640,707669,727257,721630,634610,652425,625668,583026,580184,583198,548752,546667,551753,520941,518674,38971383]},\"selected\":{\"id\":\"1046\",\"type\":\"Selection\"},\"selection_policy\":{\"id\":\"1045\",\"type\":\"UnionRenderers\"}},\"id\":\"1035\",\"type\":\"ColumnDataSource\"},{\"attributes\":{\"source\":{\"id\":\"1035\",\"type\":\"ColumnDataSource\"}},\"id\":\"1039\",\"type\":\"CDSView\"},{\"attributes\":{\"ticker\":{\"id\":\"1013\",\"type\":\"BasicTicker\"}},\"id\":\"1016\",\"type\":\"Grid\"},{\"attributes\":{},\"id\":\"1008\",\"type\":\"LinearScale\"},{\"attributes\":{\"overlay\":{\"id\":\"1047\",\"type\":\"BoxAnnotation\"}},\"id\":\"1024\",\"type\":\"BoxZoomTool\"},{\"attributes\":{\"callback\":null},\"id\":\"1006\",\"type\":\"DataRange1d\"},{\"attributes\":{},\"id\":\"1043\",\"type\":\"BasicTickFormatter\"},{\"attributes\":{\"callback\":null,\"end\":105.0,\"start\":-5.0},\"id\":\"1004\",\"type\":\"Range1d\"},{\"attributes\":{},\"id\":\"1018\",\"type\":\"BasicTicker\"},{\"attributes\":{\"axis_label\":\"Frequency\",\"formatter\":{\"id\":\"1041\",\"type\":\"BasicTickFormatter\"},\"ticker\":{\"id\":\"1018\",\"type\":\"BasicTicker\"}},\"id\":\"1017\",\"type\":\"LinearAxis\"}],\"root_ids\":[\"1002\"]},\"title\":\"Bokeh Application\",\"version\":\"1.2.0\"}};\n",
       "  var render_items = [{\"docid\":\"62fb9e63-b078-4022-9659-c8446cd10a8a\",\"roots\":{\"1002\":\"718b6698-f73c-4b76-a526-774a4ce68848\"}}];\n",
       "  root.Bokeh.embed.embed_items_notebook(docs_json, render_items);\n",
       "\n",
       "  }\n",
       "  if (root.Bokeh !== undefined) {\n",
       "    embed_document(root);\n",
       "  } else {\n",
       "    var attempts = 0;\n",
       "    var timer = setInterval(function(root) {\n",
       "      if (root.Bokeh !== undefined) {\n",
       "        embed_document(root);\n",
       "        clearInterval(timer);\n",
       "      }\n",
       "      attempts++;\n",
       "      if (attempts > 100) {\n",
       "        console.log(\"Bokeh: ERROR: Unable to run BokehJS code because BokehJS library is missing\");\n",
       "        clearInterval(timer);\n",
       "      }\n",
       "    }, 10, root)\n",
       "  }\n",
       "})(window);"
      ],
      "application/vnd.bokehjs_exec.v0+json": ""
     },
     "metadata": {
      "application/vnd.bokehjs_exec.v0+json": {
       "id": "1002"
      }
     },
     "output_type": "display_data"
    }
   ],
   "source": [
    "p = hl.plot.histogram(mt.GQ, range=(0, 100))\n",
    "p.xaxis.axis_label = 'Genotype quality'\n",
    "p.plot_width = 800\n",
    "p.plot_height = 500\n",
    "show(p)"
   ]
  },
  {
   "cell_type": "markdown",
   "id": "100625e8-69b7-4eb2-be37-3a188ddf994a",
   "metadata": {},
   "source": [
    "Filter genotypes with low quality (GQ), using GQ > 20 for SNPs and GQ > 40 for indels.\n",
    "\n",
    "After the filter some sites may have become invariant. These are removed.\n",
    "\n",
    "NOTE: Many (or most) of the lower quality genotypes, i.e. the low-end tail of the histogram above, are indels."
   ]
  },
  {
   "cell_type": "code",
   "execution_count": 50,
   "id": "3cca0cc0-6c0a-4841-9083-02e843652105",
   "metadata": {},
   "outputs": [],
   "source": [
    "# Calculate variant statistics.\n",
    "mt = hl.variant_qc(mt)\n",
    "\n",
    "mt = mt.filter_entries(hl.if_else(\n",
    "    hl.is_snp(mt.alleles[0],mt.alleles[1]),\n",
    "    mt.GQ > 20,\n",
    "    mt.GQ > 40))\n",
    "\n",
    "# Update variant statistics.\n",
    "mt = hl.variant_qc(mt)"
   ]
  },
  {
   "cell_type": "markdown",
   "id": "f594e88e-a5b5-4c45-81ce-fa47a111f07e",
   "metadata": {},
   "source": [
    "### Allelic balance\n",
    "\n",
    "Note that since we've split the table, all rows are diallelic.\n",
    "\n",
    "We compute the allelic balance as $AB = \\frac{AD[1]}{DP}$. Note that DP is equivalent to $AD[0] + AD[1]$."
   ]
  },
  {
   "cell_type": "code",
   "execution_count": 51,
   "id": "b8ce0a8d-85b3-432e-8bba-af3eb96b5364",
   "metadata": {},
   "outputs": [],
   "source": [
    "mt = mt.annotate_entries(AB = mt.AD[1] / mt.DP)"
   ]
  },
  {
   "cell_type": "code",
   "execution_count": 43,
   "id": "33fecbf9-204b-450f-8488-6ec7e2df10a9",
   "metadata": {},
   "outputs": [
    {
     "name": "stderr",
     "output_type": "stream",
     "text": [
      "[Stage 16:=====================================================>(191 + 1) / 192]"
     ]
    },
    {
     "data": {
      "text/html": [
       "\n",
       "\n",
       "\n",
       "\n",
       "\n",
       "\n",
       "  <div class=\"bk-root\" id=\"bf97dbab-d1f9-48d3-9591-834f1e3d25f2\" data-root-id=\"1198\"></div>\n"
      ]
     },
     "metadata": {},
     "output_type": "display_data"
    },
    {
     "data": {
      "application/javascript": [
       "(function(root) {\n",
       "  function embed_document(root) {\n",
       "    \n",
       "  var docs_json = {\"10cf2b6f-8b44-41ff-bd09-b70bcbf5ed73\":{\"roots\":{\"references\":[{\"attributes\":{\"background_fill_color\":{\"value\":\"#EEEEEE\"},\"below\":[{\"id\":\"1208\",\"type\":\"LinearAxis\"}],\"center\":[{\"id\":\"1212\",\"type\":\"Grid\"},{\"id\":\"1217\",\"type\":\"Grid\"}],\"left\":[{\"id\":\"1213\",\"type\":\"LinearAxis\"}],\"plot_height\":500,\"plot_width\":800,\"renderers\":[{\"id\":\"1234\",\"type\":\"GlyphRenderer\"}],\"title\":null,\"toolbar\":{\"id\":\"1224\",\"type\":\"Toolbar\"},\"x_range\":{\"id\":\"1200\",\"type\":\"Range1d\"},\"x_scale\":{\"id\":\"1204\",\"type\":\"LinearScale\"},\"y_range\":{\"id\":\"1202\",\"type\":\"DataRange1d\"},\"y_scale\":{\"id\":\"1206\",\"type\":\"LinearScale\"}},\"id\":\"1198\",\"subtype\":\"Figure\",\"type\":\"Plot\"},{\"attributes\":{\"bottom_units\":\"screen\",\"fill_alpha\":{\"value\":0.5},\"fill_color\":{\"value\":\"lightgrey\"},\"left_units\":\"screen\",\"level\":\"overlay\",\"line_alpha\":{\"value\":1.0},\"line_color\":{\"value\":\"black\"},\"line_dash\":[4,4],\"line_width\":{\"value\":2},\"render_mode\":\"css\",\"right_units\":\"screen\",\"top_units\":\"screen\"},\"id\":\"1257\",\"type\":\"BoxAnnotation\"},{\"attributes\":{\"axis_label\":\"Frequency\",\"formatter\":{\"id\":\"1254\",\"type\":\"BasicTickFormatter\"},\"ticker\":{\"id\":\"1214\",\"type\":\"BasicTicker\"}},\"id\":\"1213\",\"type\":\"LinearAxis\"},{\"attributes\":{\"dimension\":1,\"ticker\":{\"id\":\"1214\",\"type\":\"BasicTicker\"}},\"id\":\"1217\",\"type\":\"Grid\"},{\"attributes\":{\"overlay\":{\"id\":\"1257\",\"type\":\"BoxAnnotation\"}},\"id\":\"1220\",\"type\":\"BoxZoomTool\"},{\"attributes\":{},\"id\":\"1221\",\"type\":\"SaveTool\"},{\"attributes\":{\"bottom\":{\"value\":0},\"fill_alpha\":{\"value\":0.1},\"fill_color\":{\"value\":\"#1f77b4\"},\"left\":{\"field\":\"left\"},\"line_alpha\":{\"value\":0.1},\"line_color\":{\"value\":\"#1f77b4\"},\"right\":{\"field\":\"right\"},\"top\":{\"field\":\"top\"}},\"id\":\"1233\",\"type\":\"Quad\"},{\"attributes\":{\"data_source\":{\"id\":\"1231\",\"type\":\"ColumnDataSource\"},\"glyph\":{\"id\":\"1232\",\"type\":\"Quad\"},\"hover_glyph\":null,\"muted_glyph\":null,\"nonselection_glyph\":{\"id\":\"1233\",\"type\":\"Quad\"},\"selection_glyph\":null,\"view\":{\"id\":\"1235\",\"type\":\"CDSView\"}},\"id\":\"1234\",\"type\":\"GlyphRenderer\"},{\"attributes\":{},\"id\":\"1204\",\"type\":\"LinearScale\"},{\"attributes\":{\"callback\":null},\"id\":\"1202\",\"type\":\"DataRange1d\"},{\"attributes\":{},\"id\":\"1214\",\"type\":\"BasicTicker\"},{\"attributes\":{\"ticker\":{\"id\":\"1209\",\"type\":\"BasicTicker\"}},\"id\":\"1212\",\"type\":\"Grid\"},{\"attributes\":{\"callback\":null,\"end\":1.05,\"start\":-0.05},\"id\":\"1200\",\"type\":\"Range1d\"},{\"attributes\":{},\"id\":\"1206\",\"type\":\"LinearScale\"},{\"attributes\":{},\"id\":\"1254\",\"type\":\"BasicTickFormatter\"},{\"attributes\":{\"bottom\":{\"value\":0},\"fill_color\":{\"value\":\"#1f77b4\"},\"left\":{\"field\":\"left\"},\"right\":{\"field\":\"right\"},\"top\":{\"field\":\"top\"}},\"id\":\"1232\",\"type\":\"Quad\"},{\"attributes\":{},\"id\":\"1258\",\"type\":\"Selection\"},{\"attributes\":{},\"id\":\"1256\",\"type\":\"BasicTickFormatter\"},{\"attributes\":{},\"id\":\"1218\",\"type\":\"PanTool\"},{\"attributes\":{\"axis_label\":\"Allelic balance\",\"formatter\":{\"id\":\"1256\",\"type\":\"BasicTickFormatter\"},\"ticker\":{\"id\":\"1209\",\"type\":\"BasicTicker\"}},\"id\":\"1208\",\"type\":\"LinearAxis\"},{\"attributes\":{},\"id\":\"1222\",\"type\":\"ResetTool\"},{\"attributes\":{},\"id\":\"1209\",\"type\":\"BasicTicker\"},{\"attributes\":{\"callback\":null,\"data\":{\"left\":[0.0,0.02,0.04,0.06,0.08,0.1,0.12,0.14,0.16,0.18,0.2,0.22,0.24,0.26,0.28,0.3,0.32,0.34,0.36,0.38,0.4,0.42,0.44,0.46,0.48,0.5,0.52,0.54,0.56,0.58,0.6,0.62,0.64,0.66,0.68,0.7000000000000001,0.72,0.74,0.76,0.78,0.8,0.8200000000000001,0.84,0.86,0.88,0.9,0.92,0.9400000000000001,0.96,0.98],\"right\":[0.02,0.04,0.06,0.08,0.1,0.12,0.14,0.16,0.18,0.2,0.22,0.24,0.26,0.28,0.3,0.32,0.34,0.36,0.38,0.4,0.42,0.44,0.46,0.48,0.5,0.52,0.54,0.56,0.58,0.6,0.62,0.64,0.66,0.68,0.7000000000000001,0.72,0.74,0.76,0.78,0.8,0.8200000000000001,0.84,0.86,0.88,0.9,0.92,0.9400000000000001,0.96,0.98,1.0],\"top\":[4466,281,791,2585,16562,95351,262513,433657,446609,412641,642793,604859,647514,565315,739145,892391,1329678,842283,1382985,1058899,2267286,1950699,1955132,2048733,1017324,3681634,1745760,1692740,1607947,955252,1534771,998200,550291,1053388,541600,387899,292542,434510,208080,72597,242349,103104,56653,23061,12570,4422,1700,602,131,4403]},\"selected\":{\"id\":\"1258\",\"type\":\"Selection\"},\"selection_policy\":{\"id\":\"1259\",\"type\":\"UnionRenderers\"}},\"id\":\"1231\",\"type\":\"ColumnDataSource\"},{\"attributes\":{},\"id\":\"1259\",\"type\":\"UnionRenderers\"},{\"attributes\":{\"source\":{\"id\":\"1231\",\"type\":\"ColumnDataSource\"}},\"id\":\"1235\",\"type\":\"CDSView\"},{\"attributes\":{},\"id\":\"1219\",\"type\":\"WheelZoomTool\"},{\"attributes\":{\"active_drag\":\"auto\",\"active_inspect\":\"auto\",\"active_multi\":null,\"active_scroll\":\"auto\",\"active_tap\":\"auto\",\"tools\":[{\"id\":\"1218\",\"type\":\"PanTool\"},{\"id\":\"1219\",\"type\":\"WheelZoomTool\"},{\"id\":\"1220\",\"type\":\"BoxZoomTool\"},{\"id\":\"1221\",\"type\":\"SaveTool\"},{\"id\":\"1222\",\"type\":\"ResetTool\"},{\"id\":\"1223\",\"type\":\"HelpTool\"}]},\"id\":\"1224\",\"type\":\"Toolbar\"},{\"attributes\":{},\"id\":\"1223\",\"type\":\"HelpTool\"}],\"root_ids\":[\"1198\"]},\"title\":\"Bokeh Application\",\"version\":\"1.2.0\"}};\n",
       "  var render_items = [{\"docid\":\"10cf2b6f-8b44-41ff-bd09-b70bcbf5ed73\",\"roots\":{\"1198\":\"bf97dbab-d1f9-48d3-9591-834f1e3d25f2\"}}];\n",
       "  root.Bokeh.embed.embed_items_notebook(docs_json, render_items);\n",
       "\n",
       "  }\n",
       "  if (root.Bokeh !== undefined) {\n",
       "    embed_document(root);\n",
       "  } else {\n",
       "    var attempts = 0;\n",
       "    var timer = setInterval(function(root) {\n",
       "      if (root.Bokeh !== undefined) {\n",
       "        embed_document(root);\n",
       "        clearInterval(timer);\n",
       "      }\n",
       "      attempts++;\n",
       "      if (attempts > 100) {\n",
       "        console.log(\"Bokeh: ERROR: Unable to run BokehJS code because BokehJS library is missing\");\n",
       "        clearInterval(timer);\n",
       "      }\n",
       "    }, 10, root)\n",
       "  }\n",
       "})(window);"
      ],
      "application/vnd.bokehjs_exec.v0+json": ""
     },
     "metadata": {
      "application/vnd.bokehjs_exec.v0+json": {
       "id": "1198"
      }
     },
     "output_type": "display_data"
    }
   ],
   "source": [
    "hets_mt = mt.filter_entries(mt.GT.is_het())\n",
    "p = hl.plot.histogram(hets_mt.AB, range=(0, 1))\n",
    "p.xaxis.axis_label = 'Allelic balance'\n",
    "p.plot_width = 800\n",
    "p.plot_height = 500\n",
    "show(p)"
   ]
  },
  {
   "cell_type": "markdown",
   "id": "b044546b-8aa1-427c-ac85-e81c978bba12",
   "metadata": {},
   "source": [
    "Filter all heterozygotes with allelic balance outside the range of $]0.25;0.75[$."
   ]
  },
  {
   "cell_type": "code",
   "execution_count": 53,
   "id": "708b3876-8e0f-44eb-8aa1-6dc8bf0e92c3",
   "metadata": {},
   "outputs": [],
   "source": [
    "mt = mt.filter_entries(hl.if_else(\n",
    "    mt.GT.is_het(),\n",
    "    (mt.AB > 0.25) & (mt.AB < 0.75),\n",
    "    True))"
   ]
  },
  {
   "cell_type": "code",
   "execution_count": null,
   "id": "7497c350-c1f9-421b-8e94-088f67128c27",
   "metadata": {},
   "outputs": [],
   "source": [
    "n_variants, n_samples = mt.count()\n",
    "print('Number of variants: ' + str(n_variants))\n",
    "print('Number of samples: ' + str(n_samples))"
   ]
  },
  {
   "cell_type": "markdown",
   "id": "b0bddecc-9726-4f35-9d16-f6c1dafb27f5",
   "metadata": {},
   "source": [
    "## Variant QC\n",
    "\n",
    "### Hardy-Weinberg Equilibrium (HWE)\n",
    "\n",
    "Remove variants that significantly deviate from HWE. We use a p-value of $10^{-9}$ for SNPs and $10^{-6}$ for indels. Since our criteria for indels is 1000 times more stringent than for SNPs, we cannot expect the indels to carry information about population structure and inbreeding."
   ]
  },
  {
   "cell_type": "code",
   "execution_count": 17,
   "id": "b16af9a5-b247-4af0-9afc-9a3b7f6d711b",
   "metadata": {},
   "outputs": [],
   "source": [
    "mt = mt.filter_rows(hl.if_else(\n",
    "    hl.is_snp(mt.alleles[0], mt.alleles[1]),\n",
    "    mt.variant_qc.p_value_hwe > 1e-6,\n",
    "    mt.variant_qc.p_value_hwe > 1e-9))"
   ]
  },
  {
   "cell_type": "markdown",
   "id": "48ac3adf-0bee-47db-8fb1-ba977c34af30",
   "metadata": {},
   "source": [
    "### Average variant GQ"
   ]
  },
  {
   "cell_type": "code",
   "execution_count": 18,
   "id": "split-conditioning",
   "metadata": {},
   "outputs": [
    {
     "data": {
      "text/html": [
       "\n",
       "\n",
       "\n",
       "\n",
       "\n",
       "\n",
       "  <div class=\"bk-root\" id=\"1507dda1-b494-4c1d-9602-ea591fdc26ed\" data-root-id=\"1096\"></div>\n"
      ]
     },
     "metadata": {},
     "output_type": "display_data"
    },
    {
     "data": {
      "application/javascript": [
       "(function(root) {\n",
       "  function embed_document(root) {\n",
       "    \n",
       "  var docs_json = {\"8ee82769-46dd-4174-a183-5c06222c6bad\":{\"roots\":{\"references\":[{\"attributes\":{\"background_fill_color\":{\"value\":\"#EEEEEE\"},\"below\":[{\"id\":\"1106\",\"type\":\"LinearAxis\"}],\"center\":[{\"id\":\"1110\",\"type\":\"Grid\"},{\"id\":\"1115\",\"type\":\"Grid\"},{\"id\":\"1140\",\"type\":\"Legend\"}],\"left\":[{\"id\":\"1111\",\"type\":\"LinearAxis\"}],\"plot_height\":500,\"plot_width\":800,\"renderers\":[{\"id\":\"1132\",\"type\":\"GlyphRenderer\"}],\"title\":null,\"toolbar\":{\"id\":\"1122\",\"type\":\"Toolbar\"},\"x_range\":{\"id\":\"1098\",\"type\":\"Range1d\"},\"x_scale\":{\"id\":\"1102\",\"type\":\"LinearScale\"},\"y_range\":{\"id\":\"1100\",\"type\":\"DataRange1d\"},\"y_scale\":{\"id\":\"1104\",\"type\":\"LinearScale\"}},\"id\":\"1096\",\"subtype\":\"Figure\",\"type\":\"Plot\"},{\"attributes\":{},\"id\":\"1119\",\"type\":\"SaveTool\"},{\"attributes\":{},\"id\":\"1104\",\"type\":\"LinearScale\"},{\"attributes\":{\"ticker\":{\"id\":\"1107\",\"type\":\"BasicTicker\"}},\"id\":\"1110\",\"type\":\"Grid\"},{\"attributes\":{\"overlay\":{\"id\":\"1139\",\"type\":\"BoxAnnotation\"}},\"id\":\"1118\",\"type\":\"BoxZoomTool\"},{\"attributes\":{\"source\":{\"id\":\"1129\",\"type\":\"ColumnDataSource\"}},\"id\":\"1133\",\"type\":\"CDSView\"},{\"attributes\":{},\"id\":\"1135\",\"type\":\"BasicTickFormatter\"},{\"attributes\":{\"bottom\":{\"value\":0},\"fill_color\":{\"value\":\"#1f77b4\"},\"left\":{\"field\":\"left\"},\"right\":{\"field\":\"right\"},\"top\":{\"field\":\"top\"}},\"id\":\"1130\",\"type\":\"Quad\"},{\"attributes\":{},\"id\":\"1107\",\"type\":\"BasicTicker\"},{\"attributes\":{},\"id\":\"1137\",\"type\":\"BasicTickFormatter\"},{\"attributes\":{\"axis_label\":\"Mean GQ per variant histogram\",\"formatter\":{\"id\":\"1137\",\"type\":\"BasicTickFormatter\"},\"ticker\":{\"id\":\"1107\",\"type\":\"BasicTicker\"}},\"id\":\"1106\",\"type\":\"LinearAxis\"},{\"attributes\":{\"callback\":null,\"data\":{\"left\":[0.0,2.0,4.0,6.0,8.0,10.0,12.0,14.0,16.0,18.0,20.0,22.0,24.0,26.0,28.0,30.0,32.0,34.0,36.0,38.0,40.0,42.0,44.0,46.0,48.0,50.0,52.0,54.0,56.0,58.0,60.0,62.0,64.0,66.0,68.0,70.0,72.0,74.0,76.0,78.0,80.0,82.0,84.0,86.0,88.0,90.0,92.0,94.0,96.0,98.0],\"right\":[2.0,4.0,6.0,8.0,10.0,12.0,14.0,16.0,18.0,20.0,22.0,24.0,26.0,28.0,30.0,32.0,34.0,36.0,38.0,40.0,42.0,44.0,46.0,48.0,50.0,52.0,54.0,56.0,58.0,60.0,62.0,64.0,66.0,68.0,70.0,72.0,74.0,76.0,78.0,80.0,82.0,84.0,86.0,88.0,90.0,92.0,94.0,96.0,98.0,100.0],\"top\":[0,0,0,0,0,0,0,0,0,0,1204,1164,1926,462,629,1848,2007,1171,1867,2380,13174,35824,33285,25229,31623,33283,30456,36006,31096,31940,31087,28706,26161,24409,21694,19353,17859,16079,14006,13569,13070,11722,11944,11937,11626,12404,12990,13755,14068,118796]},\"selected\":{\"id\":\"1156\",\"type\":\"Selection\"},\"selection_policy\":{\"id\":\"1155\",\"type\":\"UnionRenderers\"}},\"id\":\"1129\",\"type\":\"ColumnDataSource\"},{\"attributes\":{},\"id\":\"1120\",\"type\":\"ResetTool\"},{\"attributes\":{},\"id\":\"1121\",\"type\":\"HelpTool\"},{\"attributes\":{\"bottom_units\":\"screen\",\"fill_alpha\":{\"value\":0.5},\"fill_color\":{\"value\":\"lightgrey\"},\"left_units\":\"screen\",\"level\":\"overlay\",\"line_alpha\":{\"value\":1.0},\"line_color\":{\"value\":\"black\"},\"line_dash\":[4,4],\"line_width\":{\"value\":2},\"render_mode\":\"css\",\"right_units\":\"screen\",\"top_units\":\"screen\"},\"id\":\"1139\",\"type\":\"BoxAnnotation\"},{\"attributes\":{},\"id\":\"1102\",\"type\":\"LinearScale\"},{\"attributes\":{},\"id\":\"1116\",\"type\":\"PanTool\"},{\"attributes\":{\"bottom\":{\"value\":0},\"fill_alpha\":{\"value\":0.1},\"fill_color\":{\"value\":\"#1f77b4\"},\"left\":{\"field\":\"left\"},\"line_alpha\":{\"value\":0.1},\"line_color\":{\"value\":\"#1f77b4\"},\"right\":{\"field\":\"right\"},\"top\":{\"field\":\"top\"}},\"id\":\"1131\",\"type\":\"Quad\"},{\"attributes\":{},\"id\":\"1155\",\"type\":\"UnionRenderers\"},{\"attributes\":{\"axis_label\":\"Frequency\",\"formatter\":{\"id\":\"1135\",\"type\":\"BasicTickFormatter\"},\"ticker\":{\"id\":\"1112\",\"type\":\"BasicTicker\"}},\"id\":\"1111\",\"type\":\"LinearAxis\"},{\"attributes\":{},\"id\":\"1156\",\"type\":\"Selection\"},{\"attributes\":{\"callback\":null},\"id\":\"1100\",\"type\":\"DataRange1d\"},{\"attributes\":{},\"id\":\"1112\",\"type\":\"BasicTicker\"},{\"attributes\":{\"active_drag\":\"auto\",\"active_inspect\":\"auto\",\"active_multi\":null,\"active_scroll\":\"auto\",\"active_tap\":\"auto\",\"tools\":[{\"id\":\"1116\",\"type\":\"PanTool\"},{\"id\":\"1117\",\"type\":\"WheelZoomTool\"},{\"id\":\"1118\",\"type\":\"BoxZoomTool\"},{\"id\":\"1119\",\"type\":\"SaveTool\"},{\"id\":\"1120\",\"type\":\"ResetTool\"},{\"id\":\"1121\",\"type\":\"HelpTool\"}]},\"id\":\"1122\",\"type\":\"Toolbar\"},{\"attributes\":{},\"id\":\"1117\",\"type\":\"WheelZoomTool\"},{\"attributes\":{\"dimension\":1,\"ticker\":{\"id\":\"1112\",\"type\":\"BasicTicker\"}},\"id\":\"1115\",\"type\":\"Grid\"},{\"attributes\":{\"callback\":null,\"end\":105.0,\"start\":-5.0},\"id\":\"1098\",\"type\":\"Range1d\"},{\"attributes\":{\"data_source\":{\"id\":\"1129\",\"type\":\"ColumnDataSource\"},\"glyph\":{\"id\":\"1130\",\"type\":\"Quad\"},\"hover_glyph\":null,\"muted_glyph\":null,\"nonselection_glyph\":{\"id\":\"1131\",\"type\":\"Quad\"},\"selection_glyph\":null,\"view\":{\"id\":\"1133\",\"type\":\"CDSView\"}},\"id\":\"1132\",\"type\":\"GlyphRenderer\"},{\"attributes\":{\"label\":{\"value\":\"Mean GQ per variant histogram\"},\"renderers\":[{\"id\":\"1132\",\"type\":\"GlyphRenderer\"}]},\"id\":\"1141\",\"type\":\"LegendItem\"},{\"attributes\":{\"items\":[{\"id\":\"1141\",\"type\":\"LegendItem\"}]},\"id\":\"1140\",\"type\":\"Legend\"}],\"root_ids\":[\"1096\"]},\"title\":\"Bokeh Application\",\"version\":\"1.2.0\"}};\n",
       "  var render_items = [{\"docid\":\"8ee82769-46dd-4174-a183-5c06222c6bad\",\"roots\":{\"1096\":\"1507dda1-b494-4c1d-9602-ea591fdc26ed\"}}];\n",
       "  root.Bokeh.embed.embed_items_notebook(docs_json, render_items);\n",
       "\n",
       "  }\n",
       "  if (root.Bokeh !== undefined) {\n",
       "    embed_document(root);\n",
       "  } else {\n",
       "    var attempts = 0;\n",
       "    var timer = setInterval(function(root) {\n",
       "      if (root.Bokeh !== undefined) {\n",
       "        embed_document(root);\n",
       "        clearInterval(timer);\n",
       "      }\n",
       "      attempts++;\n",
       "      if (attempts > 100) {\n",
       "        console.log(\"Bokeh: ERROR: Unable to run BokehJS code because BokehJS library is missing\");\n",
       "        clearInterval(timer);\n",
       "      }\n",
       "    }, 10, root)\n",
       "  }\n",
       "})(window);"
      ],
      "application/vnd.bokehjs_exec.v0+json": ""
     },
     "metadata": {
      "application/vnd.bokehjs_exec.v0+json": {
       "id": "1096"
      }
     },
     "output_type": "display_data"
    }
   ],
   "source": [
    "p = hl.plot.histogram(mt.variant_qc.gq_stats.mean, range=(0,100), legend='Mean GQ per variant histogram')\n",
    "p.plot_width = 800\n",
    "p.plot_height = 500\n",
    "show(p)"
   ]
  },
  {
   "cell_type": "markdown",
   "id": "middle-seafood",
   "metadata": {},
   "source": [
    "## Sample QC\n",
    "\n",
    "Below we see histograms of sample mean genotype quality and genotype depth. Most samples seem to have good depth and quality, although the deviation between samples is quite large. There are some samples with low depth and quality, but we will not worry about these."
   ]
  },
  {
   "cell_type": "code",
   "execution_count": 20,
   "id": "62a75cc3-0cf1-4c64-b7f0-b473e681f07d",
   "metadata": {},
   "outputs": [],
   "source": [
    "mt = hl.sample_qc(mt)"
   ]
  },
  {
   "cell_type": "code",
   "execution_count": 21,
   "id": "worth-desperate",
   "metadata": {},
   "outputs": [
    {
     "data": {
      "text/html": [
       "\n",
       "\n",
       "\n",
       "\n",
       "\n",
       "\n",
       "  <div class=\"bk-root\" id=\"8e13670e-909f-4fe8-9317-275412c1dcdc\" data-root-id=\"1206\"></div>\n"
      ]
     },
     "metadata": {},
     "output_type": "display_data"
    },
    {
     "data": {
      "application/javascript": [
       "(function(root) {\n",
       "  function embed_document(root) {\n",
       "    \n",
       "  var docs_json = {\"f6cb38bc-924d-45a2-ba13-87f83b78f35e\":{\"roots\":{\"references\":[{\"attributes\":{\"background_fill_color\":{\"value\":\"#EEEEEE\"},\"below\":[{\"id\":\"1216\",\"type\":\"LinearAxis\"}],\"center\":[{\"id\":\"1220\",\"type\":\"Grid\"},{\"id\":\"1225\",\"type\":\"Grid\"},{\"id\":\"1250\",\"type\":\"Legend\"}],\"left\":[{\"id\":\"1221\",\"type\":\"LinearAxis\"}],\"plot_height\":500,\"plot_width\":800,\"renderers\":[{\"id\":\"1242\",\"type\":\"GlyphRenderer\"}],\"title\":null,\"toolbar\":{\"id\":\"1232\",\"type\":\"Toolbar\"},\"x_range\":{\"id\":\"1208\",\"type\":\"Range1d\"},\"x_scale\":{\"id\":\"1212\",\"type\":\"LinearScale\"},\"y_range\":{\"id\":\"1210\",\"type\":\"DataRange1d\"},\"y_scale\":{\"id\":\"1214\",\"type\":\"LinearScale\"}},\"id\":\"1206\",\"subtype\":\"Figure\",\"type\":\"Plot\"},{\"attributes\":{},\"id\":\"1274\",\"type\":\"Selection\"},{\"attributes\":{},\"id\":\"1222\",\"type\":\"BasicTicker\"},{\"attributes\":{\"bottom\":{\"value\":0},\"fill_color\":{\"value\":\"#1f77b4\"},\"left\":{\"field\":\"left\"},\"right\":{\"field\":\"right\"},\"top\":{\"field\":\"top\"}},\"id\":\"1240\",\"type\":\"Quad\"},{\"attributes\":{\"bottom\":{\"value\":0},\"fill_alpha\":{\"value\":0.1},\"fill_color\":{\"value\":\"#1f77b4\"},\"left\":{\"field\":\"left\"},\"line_alpha\":{\"value\":0.1},\"line_color\":{\"value\":\"#1f77b4\"},\"right\":{\"field\":\"right\"},\"top\":{\"field\":\"top\"}},\"id\":\"1241\",\"type\":\"Quad\"},{\"attributes\":{},\"id\":\"1229\",\"type\":\"SaveTool\"},{\"attributes\":{\"items\":[{\"id\":\"1251\",\"type\":\"LegendItem\"}]},\"id\":\"1250\",\"type\":\"Legend\"},{\"attributes\":{\"axis_label\":\"Frequency\",\"formatter\":{\"id\":\"1245\",\"type\":\"BasicTickFormatter\"},\"ticker\":{\"id\":\"1222\",\"type\":\"BasicTicker\"}},\"id\":\"1221\",\"type\":\"LinearAxis\"},{\"attributes\":{\"bottom_units\":\"screen\",\"fill_alpha\":{\"value\":0.5},\"fill_color\":{\"value\":\"lightgrey\"},\"left_units\":\"screen\",\"level\":\"overlay\",\"line_alpha\":{\"value\":1.0},\"line_color\":{\"value\":\"black\"},\"line_dash\":[4,4],\"line_width\":{\"value\":2},\"render_mode\":\"css\",\"right_units\":\"screen\",\"top_units\":\"screen\"},\"id\":\"1249\",\"type\":\"BoxAnnotation\"},{\"attributes\":{\"callback\":null},\"id\":\"1210\",\"type\":\"DataRange1d\"},{\"attributes\":{\"overlay\":{\"id\":\"1249\",\"type\":\"BoxAnnotation\"}},\"id\":\"1228\",\"type\":\"BoxZoomTool\"},{\"attributes\":{},\"id\":\"1217\",\"type\":\"BasicTicker\"},{\"attributes\":{\"active_drag\":\"auto\",\"active_inspect\":\"auto\",\"active_multi\":null,\"active_scroll\":\"auto\",\"active_tap\":\"auto\",\"tools\":[{\"id\":\"1226\",\"type\":\"PanTool\"},{\"id\":\"1227\",\"type\":\"WheelZoomTool\"},{\"id\":\"1228\",\"type\":\"BoxZoomTool\"},{\"id\":\"1229\",\"type\":\"SaveTool\"},{\"id\":\"1230\",\"type\":\"ResetTool\"},{\"id\":\"1231\",\"type\":\"HelpTool\"}]},\"id\":\"1232\",\"type\":\"Toolbar\"},{\"attributes\":{\"callback\":null,\"end\":104.5,\"start\":5.5},\"id\":\"1208\",\"type\":\"Range1d\"},{\"attributes\":{},\"id\":\"1245\",\"type\":\"BasicTickFormatter\"},{\"attributes\":{},\"id\":\"1214\",\"type\":\"LinearScale\"},{\"attributes\":{},\"id\":\"1231\",\"type\":\"HelpTool\"},{\"attributes\":{\"axis_label\":\"Mean Sample GQ\",\"formatter\":{\"id\":\"1247\",\"type\":\"BasicTickFormatter\"},\"ticker\":{\"id\":\"1217\",\"type\":\"BasicTicker\"}},\"id\":\"1216\",\"type\":\"LinearAxis\"},{\"attributes\":{\"callback\":null,\"data\":{\"left\":[10.0,11.8,13.6,15.4,17.2,19.0,20.8,22.6,24.4,26.2,28.0,29.8,31.6,33.400000000000006,35.2,37.0,38.8,40.6,42.4,44.2,46.0,47.800000000000004,49.6,51.4,53.2,55.0,56.800000000000004,58.6,60.4,62.2,64.0,65.80000000000001,67.6,69.4,71.2,73.0,74.8,76.60000000000001,78.4,80.2,82.0,83.8,85.60000000000001,87.4,89.2,91.0,92.8,94.60000000000001,96.4,98.2],\"right\":[11.8,13.6,15.4,17.2,19.0,20.8,22.6,24.4,26.2,28.0,29.8,31.6,33.400000000000006,35.2,37.0,38.8,40.6,42.4,44.2,46.0,47.800000000000004,49.6,51.4,53.2,55.0,56.800000000000004,58.6,60.4,62.2,64.0,65.80000000000001,67.6,69.4,71.2,73.0,74.8,76.60000000000001,78.4,80.2,82.0,83.8,85.60000000000001,87.4,89.2,91.0,92.8,94.60000000000001,96.4,98.2,100.0],\"top\":[0,0,0,0,0,0,0,0,0,0,0,0,0,0,0,0,0,0,0,0,0,0,0,0,0,0,0,0,0,1,1,1,3,9,6,17,40,45,99,108,83,37,20,1,1,0,0,0,0,0]},\"selected\":{\"id\":\"1274\",\"type\":\"Selection\"},\"selection_policy\":{\"id\":\"1273\",\"type\":\"UnionRenderers\"}},\"id\":\"1239\",\"type\":\"ColumnDataSource\"},{\"attributes\":{\"ticker\":{\"id\":\"1217\",\"type\":\"BasicTicker\"}},\"id\":\"1220\",\"type\":\"Grid\"},{\"attributes\":{},\"id\":\"1247\",\"type\":\"BasicTickFormatter\"},{\"attributes\":{\"label\":{\"value\":\"Mean Sample GQ\"},\"renderers\":[{\"id\":\"1242\",\"type\":\"GlyphRenderer\"}]},\"id\":\"1251\",\"type\":\"LegendItem\"},{\"attributes\":{},\"id\":\"1230\",\"type\":\"ResetTool\"},{\"attributes\":{},\"id\":\"1273\",\"type\":\"UnionRenderers\"},{\"attributes\":{\"source\":{\"id\":\"1239\",\"type\":\"ColumnDataSource\"}},\"id\":\"1243\",\"type\":\"CDSView\"},{\"attributes\":{},\"id\":\"1227\",\"type\":\"WheelZoomTool\"},{\"attributes\":{\"dimension\":1,\"ticker\":{\"id\":\"1222\",\"type\":\"BasicTicker\"}},\"id\":\"1225\",\"type\":\"Grid\"},{\"attributes\":{\"data_source\":{\"id\":\"1239\",\"type\":\"ColumnDataSource\"},\"glyph\":{\"id\":\"1240\",\"type\":\"Quad\"},\"hover_glyph\":null,\"muted_glyph\":null,\"nonselection_glyph\":{\"id\":\"1241\",\"type\":\"Quad\"},\"selection_glyph\":null,\"view\":{\"id\":\"1243\",\"type\":\"CDSView\"}},\"id\":\"1242\",\"type\":\"GlyphRenderer\"},{\"attributes\":{},\"id\":\"1212\",\"type\":\"LinearScale\"},{\"attributes\":{},\"id\":\"1226\",\"type\":\"PanTool\"}],\"root_ids\":[\"1206\"]},\"title\":\"Bokeh Application\",\"version\":\"1.2.0\"}};\n",
       "  var render_items = [{\"docid\":\"f6cb38bc-924d-45a2-ba13-87f83b78f35e\",\"roots\":{\"1206\":\"8e13670e-909f-4fe8-9317-275412c1dcdc\"}}];\n",
       "  root.Bokeh.embed.embed_items_notebook(docs_json, render_items);\n",
       "\n",
       "  }\n",
       "  if (root.Bokeh !== undefined) {\n",
       "    embed_document(root);\n",
       "  } else {\n",
       "    var attempts = 0;\n",
       "    var timer = setInterval(function(root) {\n",
       "      if (root.Bokeh !== undefined) {\n",
       "        embed_document(root);\n",
       "        clearInterval(timer);\n",
       "      }\n",
       "      attempts++;\n",
       "      if (attempts > 100) {\n",
       "        console.log(\"Bokeh: ERROR: Unable to run BokehJS code because BokehJS library is missing\");\n",
       "        clearInterval(timer);\n",
       "      }\n",
       "    }, 10, root)\n",
       "  }\n",
       "})(window);"
      ],
      "application/vnd.bokehjs_exec.v0+json": ""
     },
     "metadata": {
      "application/vnd.bokehjs_exec.v0+json": {
       "id": "1206"
      }
     },
     "output_type": "display_data"
    }
   ],
   "source": [
    "p = hl.plot.histogram(mt.sample_qc.gq_stats.mean, range=(60,100), legend='Mean Sample GQ')\n",
    "p.plot_width = 800\n",
    "p.plot_height = 500\n",
    "show(p)"
   ]
  },
  {
   "cell_type": "code",
   "execution_count": 22,
   "id": "manufactured-guidance",
   "metadata": {},
   "outputs": [
    {
     "data": {
      "text/html": [
       "\n",
       "\n",
       "\n",
       "\n",
       "\n",
       "\n",
       "  <div class=\"bk-root\" id=\"ec5861ef-1648-464b-9b81-4d3945a8052f\" data-root-id=\"1324\"></div>\n"
      ]
     },
     "metadata": {},
     "output_type": "display_data"
    },
    {
     "data": {
      "application/javascript": [
       "(function(root) {\n",
       "  function embed_document(root) {\n",
       "    \n",
       "  var docs_json = {\"ae8f9913-5b8a-4bb0-8cc9-d1321e67337f\":{\"roots\":{\"references\":[{\"attributes\":{\"background_fill_color\":{\"value\":\"#EEEEEE\"},\"below\":[{\"id\":\"1334\",\"type\":\"LinearAxis\"}],\"center\":[{\"id\":\"1338\",\"type\":\"Grid\"},{\"id\":\"1343\",\"type\":\"Grid\"},{\"id\":\"1368\",\"type\":\"Legend\"}],\"left\":[{\"id\":\"1339\",\"type\":\"LinearAxis\"}],\"plot_height\":500,\"plot_width\":800,\"renderers\":[{\"id\":\"1360\",\"type\":\"GlyphRenderer\"},{\"id\":\"1373\",\"type\":\"GlyphRenderer\"}],\"title\":null,\"toolbar\":{\"id\":\"1350\",\"type\":\"Toolbar\"},\"x_range\":{\"id\":\"1326\",\"type\":\"Range1d\"},\"x_scale\":{\"id\":\"1330\",\"type\":\"LinearScale\"},\"y_range\":{\"id\":\"1328\",\"type\":\"DataRange1d\"},\"y_scale\":{\"id\":\"1332\",\"type\":\"LinearScale\"}},\"id\":\"1324\",\"subtype\":\"Figure\",\"type\":\"Plot\"},{\"attributes\":{\"axis_label\":\"Frequency\",\"formatter\":{\"id\":\"1363\",\"type\":\"BasicTickFormatter\"},\"ticker\":{\"id\":\"1340\",\"type\":\"BasicTicker\"}},\"id\":\"1339\",\"type\":\"LinearAxis\"},{\"attributes\":{\"source\":{\"id\":\"1357\",\"type\":\"ColumnDataSource\"}},\"id\":\"1361\",\"type\":\"CDSView\"},{\"attributes\":{},\"id\":\"1335\",\"type\":\"BasicTicker\"},{\"attributes\":{},\"id\":\"1340\",\"type\":\"BasicTicker\"},{\"attributes\":{},\"id\":\"1365\",\"type\":\"BasicTickFormatter\"},{\"attributes\":{},\"id\":\"1381\",\"type\":\"Selection\"},{\"attributes\":{},\"id\":\"1344\",\"type\":\"PanTool\"},{\"attributes\":{},\"id\":\"1416\",\"type\":\"Selection\"},{\"attributes\":{\"dimension\":1,\"ticker\":{\"id\":\"1340\",\"type\":\"BasicTicker\"}},\"id\":\"1343\",\"type\":\"Grid\"},{\"attributes\":{\"callback\":null},\"id\":\"1328\",\"type\":\"DataRange1d\"},{\"attributes\":{\"active_drag\":\"auto\",\"active_inspect\":\"auto\",\"active_multi\":null,\"active_scroll\":\"auto\",\"active_tap\":\"auto\",\"tools\":[{\"id\":\"1344\",\"type\":\"PanTool\"},{\"id\":\"1345\",\"type\":\"WheelZoomTool\"},{\"id\":\"1346\",\"type\":\"BoxZoomTool\"},{\"id\":\"1347\",\"type\":\"SaveTool\"},{\"id\":\"1348\",\"type\":\"ResetTool\"},{\"id\":\"1349\",\"type\":\"HelpTool\"}]},\"id\":\"1350\",\"type\":\"Toolbar\"},{\"attributes\":{\"callback\":null,\"data\":{\"left\":[0.0,1.2,2.4,3.5999999999999996,4.8,6.0,7.199999999999999,8.4,9.6,10.799999999999999,12.0,13.2,14.399999999999999,15.6,16.8,18.0,19.2,20.4,21.599999999999998,22.8,24.0,25.2,26.4,27.599999999999998,28.799999999999997,30.0,31.2,32.4,33.6,34.8,36.0,37.199999999999996,38.4,39.6,40.8,42.0,43.199999999999996,44.4,45.6,46.8,48.0,49.199999999999996,50.4,51.6,52.8,54.0,55.199999999999996,56.4,57.599999999999994,58.8],\"right\":[1.2,2.4,3.5999999999999996,4.8,6.0,7.199999999999999,8.4,9.6,10.799999999999999,12.0,13.2,14.399999999999999,15.6,16.8,18.0,19.2,20.4,21.599999999999998,22.8,24.0,25.2,26.4,27.599999999999998,28.799999999999997,30.0,31.2,32.4,33.6,34.8,36.0,37.199999999999996,38.4,39.6,40.8,42.0,43.199999999999996,44.4,45.6,46.8,48.0,49.199999999999996,50.4,51.6,52.8,54.0,55.199999999999996,56.4,57.599999999999994,58.8,60.0],\"top\":[0,0,0,0,0,0,0,0,1,1,0,2,3,7,4,4,5,18,13,18,19,20,23,31,34,27,34,32,33,19,22,17,15,11,7,7,9,5,6,4,3,6,2,2,2,1,2,0,2,0]},\"selected\":{\"id\":\"1381\",\"type\":\"Selection\"},\"selection_policy\":{\"id\":\"1380\",\"type\":\"UnionRenderers\"}},\"id\":\"1357\",\"type\":\"ColumnDataSource\"},{\"attributes\":{\"bottom\":{\"value\":0},\"fill_alpha\":{\"value\":0.1},\"fill_color\":{\"value\":\"#1f77b4\"},\"left\":{\"field\":\"left\"},\"line_alpha\":{\"value\":0.1},\"line_color\":{\"value\":\"#1f77b4\"},\"right\":{\"field\":\"right\"},\"top\":{\"field\":\"top\"}},\"id\":\"1359\",\"type\":\"Quad\"},{\"attributes\":{\"bottom\":{\"value\":0},\"fill_alpha\":{\"value\":0.1},\"fill_color\":{\"value\":\"#1f77b4\"},\"left\":{\"value\":60.0},\"line_alpha\":{\"value\":0.1},\"line_color\":{\"value\":\"#1f77b4\"},\"right\":{\"value\":61.2},\"top\":{\"value\":1}},\"id\":\"1372\",\"type\":\"Quad\"},{\"attributes\":{\"bottom_units\":\"screen\",\"fill_alpha\":{\"value\":0.5},\"fill_color\":{\"value\":\"lightgrey\"},\"left_units\":\"screen\",\"level\":\"overlay\",\"line_alpha\":{\"value\":1.0},\"line_color\":{\"value\":\"black\"},\"line_dash\":[4,4],\"line_width\":{\"value\":2},\"render_mode\":\"css\",\"right_units\":\"screen\",\"top_units\":\"screen\"},\"id\":\"1367\",\"type\":\"BoxAnnotation\"},{\"attributes\":{\"label\":{\"value\":\"Mean Sample DP\"},\"renderers\":[{\"id\":\"1360\",\"type\":\"GlyphRenderer\"}]},\"id\":\"1369\",\"type\":\"LegendItem\"},{\"attributes\":{},\"id\":\"1363\",\"type\":\"BasicTickFormatter\"},{\"attributes\":{},\"id\":\"1345\",\"type\":\"WheelZoomTool\"},{\"attributes\":{\"source\":{\"id\":\"1370\",\"type\":\"ColumnDataSource\"}},\"id\":\"1374\",\"type\":\"CDSView\"},{\"attributes\":{\"callback\":null,\"data\":{},\"selected\":{\"id\":\"1416\",\"type\":\"Selection\"},\"selection_policy\":{\"id\":\"1415\",\"type\":\"UnionRenderers\"}},\"id\":\"1370\",\"type\":\"ColumnDataSource\"},{\"attributes\":{\"bottom\":{\"value\":0},\"fill_color\":{\"value\":\"green\"},\"left\":{\"value\":60.0},\"right\":{\"value\":61.2},\"top\":{\"value\":1}},\"id\":\"1371\",\"type\":\"Quad\"},{\"attributes\":{},\"id\":\"1349\",\"type\":\"HelpTool\"},{\"attributes\":{},\"id\":\"1348\",\"type\":\"ResetTool\"},{\"attributes\":{\"data_source\":{\"id\":\"1357\",\"type\":\"ColumnDataSource\"},\"glyph\":{\"id\":\"1358\",\"type\":\"Quad\"},\"hover_glyph\":null,\"muted_glyph\":null,\"nonselection_glyph\":{\"id\":\"1359\",\"type\":\"Quad\"},\"selection_glyph\":null,\"view\":{\"id\":\"1361\",\"type\":\"CDSView\"}},\"id\":\"1360\",\"type\":\"GlyphRenderer\"},{\"attributes\":{},\"id\":\"1415\",\"type\":\"UnionRenderers\"},{\"attributes\":{},\"id\":\"1347\",\"type\":\"SaveTool\"},{\"attributes\":{\"callback\":null,\"end\":63.0,\"start\":-3.0},\"id\":\"1326\",\"type\":\"Range1d\"},{\"attributes\":{\"bottom\":{\"value\":0},\"fill_color\":{\"value\":\"#1f77b4\"},\"left\":{\"field\":\"left\"},\"right\":{\"field\":\"right\"},\"top\":{\"field\":\"top\"}},\"id\":\"1358\",\"type\":\"Quad\"},{\"attributes\":{\"ticker\":{\"id\":\"1335\",\"type\":\"BasicTicker\"}},\"id\":\"1338\",\"type\":\"Grid\"},{\"attributes\":{},\"id\":\"1380\",\"type\":\"UnionRenderers\"},{\"attributes\":{\"overlay\":{\"id\":\"1367\",\"type\":\"BoxAnnotation\"}},\"id\":\"1346\",\"type\":\"BoxZoomTool\"},{\"attributes\":{\"items\":[{\"id\":\"1369\",\"type\":\"LegendItem\"},{\"id\":\"1383\",\"type\":\"LegendItem\"}]},\"id\":\"1368\",\"type\":\"Legend\"},{\"attributes\":{\"data_source\":{\"id\":\"1370\",\"type\":\"ColumnDataSource\"},\"glyph\":{\"id\":\"1371\",\"type\":\"Quad\"},\"hover_glyph\":null,\"muted_glyph\":null,\"nonselection_glyph\":{\"id\":\"1372\",\"type\":\"Quad\"},\"selection_glyph\":null,\"view\":{\"id\":\"1374\",\"type\":\"CDSView\"}},\"id\":\"1373\",\"type\":\"GlyphRenderer\"},{\"attributes\":{\"label\":{\"value\":\"Outliers Above\"},\"renderers\":[{\"id\":\"1373\",\"type\":\"GlyphRenderer\"}]},\"id\":\"1383\",\"type\":\"LegendItem\"},{\"attributes\":{\"axis_label\":\"Mean Sample DP\",\"formatter\":{\"id\":\"1365\",\"type\":\"BasicTickFormatter\"},\"ticker\":{\"id\":\"1335\",\"type\":\"BasicTicker\"}},\"id\":\"1334\",\"type\":\"LinearAxis\"},{\"attributes\":{},\"id\":\"1332\",\"type\":\"LinearScale\"},{\"attributes\":{},\"id\":\"1330\",\"type\":\"LinearScale\"}],\"root_ids\":[\"1324\"]},\"title\":\"Bokeh Application\",\"version\":\"1.2.0\"}};\n",
       "  var render_items = [{\"docid\":\"ae8f9913-5b8a-4bb0-8cc9-d1321e67337f\",\"roots\":{\"1324\":\"ec5861ef-1648-464b-9b81-4d3945a8052f\"}}];\n",
       "  root.Bokeh.embed.embed_items_notebook(docs_json, render_items);\n",
       "\n",
       "  }\n",
       "  if (root.Bokeh !== undefined) {\n",
       "    embed_document(root);\n",
       "  } else {\n",
       "    var attempts = 0;\n",
       "    var timer = setInterval(function(root) {\n",
       "      if (root.Bokeh !== undefined) {\n",
       "        embed_document(root);\n",
       "        clearInterval(timer);\n",
       "      }\n",
       "      attempts++;\n",
       "      if (attempts > 100) {\n",
       "        console.log(\"Bokeh: ERROR: Unable to run BokehJS code because BokehJS library is missing\");\n",
       "        clearInterval(timer);\n",
       "      }\n",
       "    }, 10, root)\n",
       "  }\n",
       "})(window);"
      ],
      "application/vnd.bokehjs_exec.v0+json": ""
     },
     "metadata": {
      "application/vnd.bokehjs_exec.v0+json": {
       "id": "1324"
      }
     },
     "output_type": "display_data"
    }
   ],
   "source": [
    "p = hl.plot.histogram(mt.sample_qc.dp_stats.mean, range=(0,60), legend='Mean Sample DP')\n",
    "p.plot_width = 800\n",
    "p.plot_height = 500\n",
    "show(p)"
   ]
  },
  {
   "cell_type": "markdown",
   "id": "dcd465d8-a592-4f6c-adac-68228767c8c0",
   "metadata": {},
   "source": [
    "Below is a histogram of the heterozygote/homozygote ratio."
   ]
  },
  {
   "cell_type": "code",
   "execution_count": 34,
   "id": "outstanding-mississippi",
   "metadata": {},
   "outputs": [
    {
     "data": {
      "text/html": [
       "\n",
       "\n",
       "\n",
       "\n",
       "\n",
       "\n",
       "  <div class=\"bk-root\" id=\"ee868fd6-13a5-4180-b64b-2e6ab7024070\" data-root-id=\"1958\"></div>\n"
      ]
     },
     "metadata": {},
     "output_type": "display_data"
    },
    {
     "data": {
      "application/javascript": [
       "(function(root) {\n",
       "  function embed_document(root) {\n",
       "    \n",
       "  var docs_json = {\"7a100a52-aab7-457e-b530-2054f917bea3\":{\"roots\":{\"references\":[{\"attributes\":{\"background_fill_color\":{\"value\":\"#EEEEEE\"},\"below\":[{\"id\":\"1968\",\"type\":\"LinearAxis\"}],\"center\":[{\"id\":\"1972\",\"type\":\"Grid\"},{\"id\":\"1977\",\"type\":\"Grid\"},{\"id\":\"2002\",\"type\":\"Legend\"}],\"left\":[{\"id\":\"1973\",\"type\":\"LinearAxis\"}],\"plot_height\":500,\"plot_width\":800,\"renderers\":[{\"id\":\"1994\",\"type\":\"GlyphRenderer\"}],\"title\":null,\"toolbar\":{\"id\":\"1984\",\"type\":\"Toolbar\"},\"x_range\":{\"id\":\"1960\",\"type\":\"Range1d\"},\"x_scale\":{\"id\":\"1964\",\"type\":\"LinearScale\"},\"y_range\":{\"id\":\"1962\",\"type\":\"DataRange1d\"},\"y_scale\":{\"id\":\"1966\",\"type\":\"LinearScale\"}},\"id\":\"1958\",\"subtype\":\"Figure\",\"type\":\"Plot\"},{\"attributes\":{\"callback\":null,\"end\":1.555,\"start\":0.34500000000000003},\"id\":\"1960\",\"type\":\"Range1d\"},{\"attributes\":{},\"id\":\"1983\",\"type\":\"HelpTool\"},{\"attributes\":{},\"id\":\"1964\",\"type\":\"LinearScale\"},{\"attributes\":{},\"id\":\"1969\",\"type\":\"BasicTicker\"},{\"attributes\":{\"ticker\":{\"id\":\"1969\",\"type\":\"BasicTicker\"}},\"id\":\"1972\",\"type\":\"Grid\"},{\"attributes\":{\"active_drag\":\"auto\",\"active_inspect\":\"auto\",\"active_multi\":null,\"active_scroll\":\"auto\",\"active_tap\":\"auto\",\"tools\":[{\"id\":\"1978\",\"type\":\"PanTool\"},{\"id\":\"1979\",\"type\":\"WheelZoomTool\"},{\"id\":\"1980\",\"type\":\"BoxZoomTool\"},{\"id\":\"1981\",\"type\":\"SaveTool\"},{\"id\":\"1982\",\"type\":\"ResetTool\"},{\"id\":\"1983\",\"type\":\"HelpTool\"}]},\"id\":\"1984\",\"type\":\"Toolbar\"},{\"attributes\":{\"bottom\":{\"value\":0},\"fill_alpha\":{\"value\":0.1},\"fill_color\":{\"value\":\"#1f77b4\"},\"left\":{\"field\":\"left\"},\"line_alpha\":{\"value\":0.1},\"line_color\":{\"value\":\"#1f77b4\"},\"right\":{\"field\":\"right\"},\"top\":{\"field\":\"top\"}},\"id\":\"1993\",\"type\":\"Quad\"},{\"attributes\":{\"axis_label\":\"Het/hom rate\",\"formatter\":{\"id\":\"1999\",\"type\":\"BasicTickFormatter\"},\"ticker\":{\"id\":\"1969\",\"type\":\"BasicTicker\"}},\"id\":\"1968\",\"type\":\"LinearAxis\"},{\"attributes\":{\"source\":{\"id\":\"1991\",\"type\":\"ColumnDataSource\"}},\"id\":\"1995\",\"type\":\"CDSView\"},{\"attributes\":{\"callback\":null,\"data\":{\"left\":[0.4,0.42200000000000004,0.444,0.466,0.48800000000000004,0.51,0.532,0.554,0.5760000000000001,0.5980000000000001,0.6200000000000001,0.642,0.664,0.686,0.7080000000000001,0.73,0.752,0.774,0.796,0.8180000000000001,0.8400000000000001,0.8620000000000001,0.8840000000000001,0.906,0.928,0.9500000000000001,0.9720000000000001,0.9940000000000001,1.016,1.038,1.06,1.082,1.104,1.1260000000000001,1.1480000000000001,1.1700000000000002,1.1920000000000002,1.214,1.2360000000000002,1.258,1.2800000000000002,1.302,1.324,1.346,1.368,1.3900000000000001,1.412,1.4340000000000002,1.456,1.4780000000000002],\"right\":[0.42200000000000004,0.444,0.466,0.48800000000000004,0.51,0.532,0.554,0.5760000000000001,0.5980000000000001,0.6200000000000001,0.642,0.664,0.686,0.7080000000000001,0.73,0.752,0.774,0.796,0.8180000000000001,0.8400000000000001,0.8620000000000001,0.8840000000000001,0.906,0.928,0.9500000000000001,0.9720000000000001,0.9940000000000001,1.016,1.038,1.06,1.082,1.104,1.1260000000000001,1.1480000000000001,1.1700000000000002,1.1920000000000002,1.214,1.2360000000000002,1.258,1.2800000000000002,1.302,1.324,1.346,1.368,1.3900000000000001,1.412,1.4340000000000002,1.456,1.4780000000000002,1.5],\"top\":[0,0,1,5,6,18,33,63,75,40,58,58,40,24,18,13,7,3,2,2,2,1,1,0,0,0,0,0,1,0,0,1,0,0,0,0,0,0,0,0,0,0,0,0,0,0,0,0,0,0]},\"selected\":{\"id\":\"2072\",\"type\":\"Selection\"},\"selection_policy\":{\"id\":\"2071\",\"type\":\"UnionRenderers\"}},\"id\":\"1991\",\"type\":\"ColumnDataSource\"},{\"attributes\":{},\"id\":\"2072\",\"type\":\"Selection\"},{\"attributes\":{},\"id\":\"1997\",\"type\":\"BasicTickFormatter\"},{\"attributes\":{},\"id\":\"1978\",\"type\":\"PanTool\"},{\"attributes\":{},\"id\":\"1999\",\"type\":\"BasicTickFormatter\"},{\"attributes\":{},\"id\":\"1981\",\"type\":\"SaveTool\"},{\"attributes\":{\"overlay\":{\"id\":\"2001\",\"type\":\"BoxAnnotation\"}},\"id\":\"1980\",\"type\":\"BoxZoomTool\"},{\"attributes\":{\"callback\":null},\"id\":\"1962\",\"type\":\"DataRange1d\"},{\"attributes\":{\"axis_label\":\"Frequency\",\"formatter\":{\"id\":\"1997\",\"type\":\"BasicTickFormatter\"},\"ticker\":{\"id\":\"1974\",\"type\":\"BasicTicker\"}},\"id\":\"1973\",\"type\":\"LinearAxis\"},{\"attributes\":{},\"id\":\"1982\",\"type\":\"ResetTool\"},{\"attributes\":{\"items\":[{\"id\":\"2003\",\"type\":\"LegendItem\"}]},\"id\":\"2002\",\"type\":\"Legend\"},{\"attributes\":{\"dimension\":1,\"ticker\":{\"id\":\"1974\",\"type\":\"BasicTicker\"}},\"id\":\"1977\",\"type\":\"Grid\"},{\"attributes\":{},\"id\":\"1966\",\"type\":\"LinearScale\"},{\"attributes\":{\"label\":{\"value\":\"Het/hom rate\"},\"renderers\":[{\"id\":\"1994\",\"type\":\"GlyphRenderer\"}]},\"id\":\"2003\",\"type\":\"LegendItem\"},{\"attributes\":{\"bottom_units\":\"screen\",\"fill_alpha\":{\"value\":0.5},\"fill_color\":{\"value\":\"lightgrey\"},\"left_units\":\"screen\",\"level\":\"overlay\",\"line_alpha\":{\"value\":1.0},\"line_color\":{\"value\":\"black\"},\"line_dash\":[4,4],\"line_width\":{\"value\":2},\"render_mode\":\"css\",\"right_units\":\"screen\",\"top_units\":\"screen\"},\"id\":\"2001\",\"type\":\"BoxAnnotation\"},{\"attributes\":{\"data_source\":{\"id\":\"1991\",\"type\":\"ColumnDataSource\"},\"glyph\":{\"id\":\"1992\",\"type\":\"Quad\"},\"hover_glyph\":null,\"muted_glyph\":null,\"nonselection_glyph\":{\"id\":\"1993\",\"type\":\"Quad\"},\"selection_glyph\":null,\"view\":{\"id\":\"1995\",\"type\":\"CDSView\"}},\"id\":\"1994\",\"type\":\"GlyphRenderer\"},{\"attributes\":{\"bottom\":{\"value\":0},\"fill_color\":{\"value\":\"#1f77b4\"},\"left\":{\"field\":\"left\"},\"right\":{\"field\":\"right\"},\"top\":{\"field\":\"top\"}},\"id\":\"1992\",\"type\":\"Quad\"},{\"attributes\":{},\"id\":\"2071\",\"type\":\"UnionRenderers\"},{\"attributes\":{},\"id\":\"1979\",\"type\":\"WheelZoomTool\"},{\"attributes\":{},\"id\":\"1974\",\"type\":\"BasicTicker\"}],\"root_ids\":[\"1958\"]},\"title\":\"Bokeh Application\",\"version\":\"1.2.0\"}};\n",
       "  var render_items = [{\"docid\":\"7a100a52-aab7-457e-b530-2054f917bea3\",\"roots\":{\"1958\":\"ee868fd6-13a5-4180-b64b-2e6ab7024070\"}}];\n",
       "  root.Bokeh.embed.embed_items_notebook(docs_json, render_items);\n",
       "\n",
       "  }\n",
       "  if (root.Bokeh !== undefined) {\n",
       "    embed_document(root);\n",
       "  } else {\n",
       "    var attempts = 0;\n",
       "    var timer = setInterval(function(root) {\n",
       "      if (root.Bokeh !== undefined) {\n",
       "        embed_document(root);\n",
       "        clearInterval(timer);\n",
       "      }\n",
       "      attempts++;\n",
       "      if (attempts > 100) {\n",
       "        console.log(\"Bokeh: ERROR: Unable to run BokehJS code because BokehJS library is missing\");\n",
       "        clearInterval(timer);\n",
       "      }\n",
       "    }, 10, root)\n",
       "  }\n",
       "})(window);"
      ],
      "application/vnd.bokehjs_exec.v0+json": ""
     },
     "metadata": {
      "application/vnd.bokehjs_exec.v0+json": {
       "id": "1958"
      }
     },
     "output_type": "display_data"
    }
   ],
   "source": [
    "p = hl.plot.histogram(mt.sample_qc.r_het_hom_var, range=(0.4,1.5), legend='Het/hom rate')\n",
    "p.plot_width = 800\n",
    "p.plot_height = 500\n",
    "show(p)"
   ]
  },
  {
   "cell_type": "markdown",
   "id": "controlling-reconstruction",
   "metadata": {},
   "source": [
    "**FIXME:** after HWE filtering, het/hom rate distribution has changed. No samples with outrageously high rates left. Change code below.\n",
    "\n",
    "Looks like there are a few samples with a lot higher het/hom rate than the rest of the samples. Let's check whether this is due to poor coverage."
   ]
  },
  {
   "cell_type": "code",
   "execution_count": 24,
   "id": "standing-flavor",
   "metadata": {},
   "outputs": [],
   "source": [
    "mt = mt.annotate_cols(high_hom_het=mt.sample_qc.r_het_hom_var > 3)"
   ]
  },
  {
   "cell_type": "code",
   "execution_count": 25,
   "id": "wooden-aging",
   "metadata": {},
   "outputs": [
    {
     "data": {
      "text/html": [
       "\n",
       "\n",
       "\n",
       "\n",
       "\n",
       "\n",
       "  <div class=\"bk-root\" id=\"841dfb36-1c0f-4a9b-9ad5-aed0df8e8b43\" data-root-id=\"1642\"></div>\n"
      ]
     },
     "metadata": {},
     "output_type": "display_data"
    },
    {
     "data": {
      "application/javascript": [
       "(function(root) {\n",
       "  function embed_document(root) {\n",
       "    \n",
       "  var docs_json = {\"6621e85b-4dd5-4dfe-8178-ac06ee855065\":{\"roots\":{\"references\":[{\"attributes\":{\"below\":[{\"id\":\"1652\",\"type\":\"LinearAxis\"}],\"center\":[{\"id\":\"1656\",\"type\":\"Grid\"},{\"id\":\"1661\",\"type\":\"Grid\"}],\"left\":[{\"id\":\"1657\",\"type\":\"LinearAxis\"},{\"id\":\"1686\",\"type\":\"Legend\"},{\"id\":\"1687\",\"type\":\"ColorBar\"}],\"plot_height\":600,\"plot_width\":600,\"renderers\":[{\"id\":\"1684\",\"type\":\"GlyphRenderer\"}],\"title\":null,\"toolbar\":{\"id\":\"1668\",\"type\":\"Toolbar\"},\"x_range\":{\"id\":\"1644\",\"type\":\"DataRange1d\"},\"x_scale\":{\"id\":\"1648\",\"type\":\"LinearScale\"},\"y_range\":{\"id\":\"1646\",\"type\":\"DataRange1d\"},\"y_scale\":{\"id\":\"1650\",\"type\":\"LinearScale\"}},\"id\":\"1642\",\"subtype\":\"Figure\",\"type\":\"Plot\"},{\"attributes\":{\"filters\":[{\"id\":\"1679\",\"type\":\"GroupFilter\"}],\"source\":{\"id\":\"1677\",\"type\":\"ColumnDataSource\"}},\"id\":\"1680\",\"type\":\"CDSView\"},{\"attributes\":{\"active_drag\":\"auto\",\"active_inspect\":\"auto\",\"active_multi\":null,\"active_scroll\":\"auto\",\"active_tap\":\"auto\",\"tools\":[{\"id\":\"1662\",\"type\":\"PanTool\"},{\"id\":\"1663\",\"type\":\"WheelZoomTool\"},{\"id\":\"1664\",\"type\":\"BoxZoomTool\"},{\"id\":\"1665\",\"type\":\"SaveTool\"},{\"id\":\"1666\",\"type\":\"ResetTool\"},{\"id\":\"1667\",\"type\":\"HelpTool\"},{\"id\":\"1676\",\"type\":\"HoverTool\"}]},\"id\":\"1668\",\"type\":\"Toolbar\"},{\"attributes\":{},\"id\":\"1653\",\"type\":\"BasicTicker\"},{\"attributes\":{\"callback\":null,\"tooltips\":[[\"x\",\"@x\"],[\"y\",\"@y\"],[\"Sample\",\"@Sample\"],[\"label\",\"@label\"]]},\"id\":\"1676\",\"type\":\"HoverTool\"},{\"attributes\":{\"fill_alpha\":{\"value\":0.1},\"fill_color\":{\"value\":\"#1f77b4\"},\"line_alpha\":{\"value\":0.1},\"line_color\":{\"value\":\"#1f77b4\"},\"x\":{\"field\":\"x\"},\"y\":{\"field\":\"y\"}},\"id\":\"1683\",\"type\":\"Circle\"},{\"attributes\":{\"click_policy\":\"hide\",\"items\":[{\"id\":\"1685\",\"type\":\"LegendItem\"}]},\"id\":\"1686\",\"type\":\"Legend\"},{\"attributes\":{\"fill_color\":{\"field\":\"label\",\"transform\":{\"id\":\"1678\",\"type\":\"CategoricalColorMapper\"}},\"line_color\":{\"field\":\"label\",\"transform\":{\"id\":\"1678\",\"type\":\"CategoricalColorMapper\"}},\"x\":{\"field\":\"x\"},\"y\":{\"field\":\"y\"}},\"id\":\"1682\",\"type\":\"Circle\"},{\"attributes\":{},\"id\":\"1666\",\"type\":\"ResetTool\"},{\"attributes\":{\"axis_label\":\"DP mean\",\"formatter\":{\"id\":\"1737\",\"type\":\"BasicTickFormatter\"},\"ticker\":{\"id\":\"1653\",\"type\":\"BasicTicker\"}},\"id\":\"1652\",\"type\":\"LinearAxis\"},{\"attributes\":{},\"id\":\"1663\",\"type\":\"WheelZoomTool\"},{\"attributes\":{\"dimension\":1,\"ticker\":{\"id\":\"1658\",\"type\":\"BasicTicker\"}},\"id\":\"1661\",\"type\":\"Grid\"},{\"attributes\":{\"ticker\":{\"id\":\"1653\",\"type\":\"BasicTicker\"}},\"id\":\"1656\",\"type\":\"Grid\"},{\"attributes\":{\"overlay\":{\"id\":\"1741\",\"type\":\"BoxAnnotation\"}},\"id\":\"1664\",\"type\":\"BoxZoomTool\"},{\"attributes\":{},\"id\":\"1735\",\"type\":\"BasicTickFormatter\"},{\"attributes\":{\"bottom_units\":\"screen\",\"fill_alpha\":{\"value\":0.5},\"fill_color\":{\"value\":\"lightgrey\"},\"left_units\":\"screen\",\"level\":\"overlay\",\"line_alpha\":{\"value\":1.0},\"line_color\":{\"value\":\"black\"},\"line_dash\":[4,4],\"line_width\":{\"value\":2},\"render_mode\":\"css\",\"right_units\":\"screen\",\"top_units\":\"screen\"},\"id\":\"1741\",\"type\":\"BoxAnnotation\"},{\"attributes\":{},\"id\":\"1736\",\"type\":\"BasicTicker\"},{\"attributes\":{\"callback\":null,\"data\":{\"Sample\":[\"FN000538\",\"FN000938\",\"FN000755\",\"FN000559\",\"FN000557\",\"FN000761\",\"FN000020\",\"FN001020\",\"FN000893\",\"FN000369\",\"FN000558\",\"FN000277\",\"FN000931\",\"FN000953\",\"FN001110\",\"FN000878\",\"FN000862\",\"FN000618\",\"FN000933\",\"FN000940\",\"FN000544\",\"FN000217\",\"FN000934\",\"FN000762\",\"FN001022\",\"FN001021\",\"FN000925\",\"FN000902\",\"FN001045\",\"FN000178\",\"FN000018\",\"FN000190\",\"FN000396\",\"FN001109\",\"FN000749\",\"FN001415\",\"FN001416\",\"FN000017\",\"FN000537\",\"FN000804\",\"FN000399\",\"FN000206\",\"FN001092\",\"FN001116\",\"FN000817\",\"FN000412\",\"FN001251\",\"FN000016\",\"FN000935\",\"FN000254\",\"FN000957\",\"FN000873\",\"FN000562\",\"FN001046\",\"FN000019\",\"FN001346\",\"FN001247\",\"FN000932\",\"FN000534\",\"FN001433\",\"FN000122\",\"FN000759\",\"FN000071\",\"FN000015\",\"FN000504\",\"FN000182\",\"FN000929\",\"FN000476\",\"FN000132\",\"FN000152\",\"FN001115\",\"FN000904\",\"FN001377\",\"FN001089\",\"FN001249\",\"FN000742\",\"FN000394\",\"FN000507\",\"FN000044\",\"FN000879\",\"FN001093\",\"FN000635\",\"FN001025\",\"FN001094\",\"FN000138\",\"FN000298\",\"FN000763\",\"FN000506\",\"FN000503\",\"FN000427\",\"FN000124\",\"FN000778\",\"FN000125\",\"FN000251\",\"FN000105\",\"FN001120\",\"FN000400\",\"FN000738\",\"FN000116\",\"FN001409\",\"FN000405\",\"FN000866\",\"FN000867\",\"FN000697\",\"FN000377\",\"FN001118\",\"FN000011\",\"FN001001\",\"FN000930\",\"FN000810\",\"FN000566\",\"FN000512\",\"FN000502\",\"FN000898\",\"FN001488\",\"FN000119\",\"FN001390\",\"FN000326\",\"FN000693\",\"FN000121\",\"FN000671\",\"FN000629\",\"FN000435\",\"FN000528\",\"FN001157\",\"FN000527\",\"FN000414\",\"FN000928\",\"FN000899\",\"FN001398\",\"FN000021\",\"FN000317\",\"FN001400\",\"FN001088\",\"FN001130\",\"FN000882\",\"FN000281\",\"FN000111\",\"FN000411\",\"FN001379\",\"FN000969\",\"FN000958\",\"FN000408\",\"FN000875\",\"FN000906\",\"FN000617\",\"FN000954\",\"FN001381\",\"FN000917\",\"FN001138\",\"FN000131\",\"FN000583\",\"FN000529\",\"FN000770\",\"FN000022\",\"FN000513\",\"FN000774\",\"FN000050\",\"FN000191\",\"FN000870\",\"FN000923\",\"FN000397\",\"FN000777\",\"FN000009\",\"FN000370\",\"FN000381\",\"FN001482\",\"FN000820\",\"FN000393\",\"FN000599\",\"FN000771\",\"FN000106\",\"FN000970\",\"FN000634\",\"FN001132\",\"FN000240\",\"FN000966\",\"FN000884\",\"FN001127\",\"FN001143\",\"FN000023\",\"FN000914\",\"FN000477\",\"FN000049\",\"FN000127\",\"FN000619\",\"FN000531\",\"FN000187\",\"FN000703\",\"FN000320\",\"FN000469\",\"FN000410\",\"FN000971\",\"FN000038\",\"FN001384\",\"FN000474\",\"FN000306\",\"FN001366\",\"FN000794\",\"FN000014\",\"FN001426\",\"FN001410\",\"FN000541\",\"FN000769\",\"FN001023\",\"FN000442\",\"FN000238\",\"FN000809\",\"FN000877\",\"FN001431\",\"FN000487\",\"FN000305\",\"FN000389\",\"FN001523\",\"FN001134\",\"FN000024\",\"FN000920\",\"FN000625\",\"FN001017\",\"FN000780\",\"FN001439\",\"FN001437\",\"FN000569\",\"FN001117\",\"FN001135\",\"FN000259\",\"FN000895\",\"FN000941\",\"FN000955\",\"FN000447\",\"FN001522\",\"FN000322\",\"FN001401\",\"FN000924\",\"FN000055\",\"FN000776\",\"FN000892\",\"FN001425\",\"FN000123\",\"FN000054\",\"FN000889\",\"FN001527\",\"FN000998\",\"FN000962\",\"FN000473\",\"FN000039\",\"FN000002\",\"FN000159\",\"FN000518\",\"FN000704\",\"FN000416\",\"FN001090\",\"FN001085\",\"FN001411\",\"FN000289\",\"FN001383\",\"FN000888\",\"FN001371\",\"FN000854\",\"FN000909\",\"FN001091\",\"FN001432\",\"FN000045\",\"FN001486\",\"FN000034\",\"FN000282\",\"FN000612\",\"FN000943\",\"FN000768\",\"FN000896\",\"FN001389\",\"FN000581\",\"FN000103\",\"FN000767\",\"FN000890\",\"FN000244\",\"FN000224\",\"FN000602\",\"FN000549\",\"FN000040\",\"FN000949\",\"FN001019\",\"FN001394\",\"FN000489\",\"FN000948\",\"FN001395\",\"FN000960\",\"FN000586\",\"FN000521\",\"FN000032\",\"FN001495\",\"FN000380\",\"FN000360\",\"FN000526\",\"FN000456\",\"FN000233\",\"FN000110\",\"FN000926\",\"FN000236\",\"FN000278\",\"FN000766\",\"FN000403\",\"FN000313\",\"FN000475\",\"FN000607\",\"FN000303\",\"FN000450\",\"FN000036\",\"FN000204\",\"FN001347\",\"FN000177\",\"FN000525\",\"FN001418\",\"FN001414\",\"FN000947\",\"FN000510\",\"FN001111\",\"FN000392\",\"FN000628\",\"FN000922\",\"FN000470\",\"FN000035\",\"FN001133\",\"FN000886\",\"FN001392\",\"FN000130\",\"FN000523\",\"FN000376\",\"FN000440\",\"FN000496\",\"FN000252\",\"FN001440\",\"FN001417\",\"FN000200\",\"FN000905\",\"FN000301\",\"FN000563\",\"FN000037\",\"FN000495\",\"FN000374\",\"FN000077\",\"FN000881\",\"FN000248\",\"FN000913\",\"FN001427\",\"FN000309\",\"FN000387\",\"FN000052\",\"FN000446\",\"FN001393\",\"FN000076\",\"FN000061\",\"FN000546\",\"FN000160\",\"FN001485\",\"FN000807\",\"FN000249\",\"FN000012\",\"FN000522\",\"FN000216\",\"FN001490\",\"FN000001\",\"FN001413\",\"FN001405\",\"FN000237\",\"FN001150\",\"FN000284\",\"FN001018\",\"FN001149\",\"FN001374\",\"FN001408\",\"FN001142\",\"FN000519\",\"FN001082\",\"FN000912\",\"FN001152\",\"FN000108\",\"FN001154\",\"FN000137\",\"FN000861\",\"FN000417\",\"FN000908\",\"FN000498\",\"FN000871\",\"FN001407\",\"FN000169\",\"FN000386\",\"FN000430\",\"FN000545\",\"FN001004\",\"FN001430\",\"FN000952\",\"FN001403\",\"FN000033\",\"FN000088\",\"FN000375\",\"FN000942\",\"FN000426\",\"FN000561\",\"FN000551\",\"FN000439\",\"FN000388\",\"FN000488\",\"FN000567\",\"FN000501\",\"FN000735\",\"FN000445\",\"FN000451\",\"FN000184\",\"FN000199\",\"FN001151\",\"FN001155\",\"FN000483\",\"FN000180\",\"FN000598\",\"FN001441\",\"FN001084\",\"FN000097\",\"FN000107\",\"FN001428\",\"FN000591\",\"FN000418\",\"FN001434\",\"FN000424\",\"FN001158\",\"FN001438\",\"FN000092\",\"FN000197\",\"FN000887\",\"FN000589\",\"FN001444\",\"FN000939\",\"FN001380\",\"FN000951\",\"FN001086\",\"FN000554\",\"FN000572\",\"FN000163\",\"FN000419\",\"FN000395\",\"FN000472\",\"FN001436\",\"FN000604\",\"FN000511\",\"FN001404\",\"FN000478\",\"FN000874\",\"FN001435\",\"FN000156\",\"FN000950\",\"FN001139\",\"FN001003\",\"FN000461\",\"FN001053\",\"FN000139\",\"FN000441\",\"FN000550\",\"FN000215\",\"FN001429\",\"FN000185\",\"FN000158\",\"FN000421\",\"FN000484\",\"FN001153\",\"FN000945\",\"FN001011\"],\"index\":[0,1,2,3,4,5,6,7,8,9,10,11,12,13,14,15,16,17,18,19,20,21,22,23,24,25,26,27,28,29,30,31,32,33,34,35,36,37,38,39,40,41,42,43,44,45,46,47,48,49,50,51,52,53,54,55,56,57,58,59,60,61,62,63,64,65,66,67,68,69,70,71,72,73,74,75,76,77,78,79,80,81,82,83,84,85,86,87,88,89,90,91,92,93,94,95,96,97,98,99,100,101,102,103,104,105,106,107,108,109,110,111,112,113,114,115,116,117,118,119,120,121,122,123,124,125,126,127,128,129,130,131,132,133,134,135,136,137,138,139,140,141,142,143,144,145,146,147,148,149,150,151,152,153,154,155,156,157,158,159,160,161,162,163,164,165,166,167,168,169,170,171,172,173,174,175,176,177,178,179,180,181,182,183,184,185,186,187,188,189,190,191,192,193,194,195,196,197,198,199,200,201,202,203,204,205,206,207,208,209,210,211,212,213,214,215,216,217,218,219,220,221,222,223,224,225,226,227,228,229,230,231,232,233,234,235,236,237,238,239,240,241,242,243,244,245,246,247,248,249,250,251,252,253,254,255,256,257,258,259,260,261,262,263,264,265,266,267,268,269,270,271,272,273,274,275,276,277,278,279,280,281,282,283,284,285,286,287,288,289,290,291,292,293,294,295,296,297,298,299,300,301,302,303,304,305,306,307,308,309,310,311,312,313,314,315,316,317,318,319,320,321,322,323,324,325,326,327,328,329,330,331,332,333,334,335,336,337,338,339,340,341,342,343,344,345,346,347,348,349,350,351,352,353,354,355,356,357,358,359,360,361,362,363,364,365,366,367,368,369,370,371,372,373,374,375,376,377,378,379,380,381,382,383,384,385,386,387,388,389,390,391,392,393,394,395,396,397,398,399,400,401,402,403,404,405,406,407,408,409,410,411,412,413,414,415,416,417,418,419,420,421,422,423,424,425,426,427,428,429,430,431,432,433,434,435,436,437,438,439,440,441,442,443,444,445,446,447,448,449,450,451,452,453,454,455,456,457,458,459,460,461,462,463,464,465],\"label\":[\"false\",\"false\",\"false\",\"false\",\"false\",\"false\",\"false\",\"false\",\"false\",\"false\",\"false\",\"false\",\"false\",\"false\",\"false\",\"false\",\"false\",\"false\",\"false\",\"false\",\"false\",\"false\",\"false\",\"false\",\"false\",\"false\",\"false\",\"false\",\"false\",\"false\",\"false\",\"false\",\"false\",\"false\",\"false\",\"false\",\"false\",\"false\",\"false\",\"false\",\"false\",\"false\",\"false\",\"false\",\"false\",\"false\",\"false\",\"false\",\"false\",\"false\",\"false\",\"false\",\"false\",\"false\",\"false\",\"false\",\"false\",\"false\",\"false\",\"false\",\"false\",\"false\",\"false\",\"false\",\"false\",\"false\",\"false\",\"false\",\"false\",\"false\",\"false\",\"false\",\"false\",\"false\",\"false\",\"false\",\"false\",\"false\",\"false\",\"false\",\"false\",\"false\",\"false\",\"false\",\"false\",\"false\",\"false\",\"false\",\"false\",\"false\",\"false\",\"false\",\"false\",\"false\",\"false\",\"false\",\"false\",\"false\",\"false\",\"false\",\"false\",\"false\",\"false\",\"false\",\"false\",\"false\",\"false\",\"false\",\"false\",\"false\",\"false\",\"false\",\"false\",\"false\",\"false\",\"false\",\"false\",\"false\",\"false\",\"false\",\"false\",\"false\",\"false\",\"false\",\"false\",\"false\",\"false\",\"false\",\"false\",\"false\",\"false\",\"false\",\"false\",\"false\",\"false\",\"false\",\"false\",\"false\",\"false\",\"false\",\"false\",\"false\",\"false\",\"false\",\"false\",\"false\",\"false\",\"false\",\"false\",\"false\",\"false\",\"false\",\"false\",\"false\",\"false\",\"false\",\"false\",\"false\",\"false\",\"false\",\"false\",\"false\",\"false\",\"false\",\"false\",\"false\",\"false\",\"false\",\"false\",\"false\",\"false\",\"false\",\"false\",\"false\",\"false\",\"false\",\"false\",\"false\",\"false\",\"false\",\"false\",\"false\",\"false\",\"false\",\"false\",\"false\",\"false\",\"false\",\"false\",\"false\",\"false\",\"false\",\"false\",\"false\",\"false\",\"false\",\"false\",\"false\",\"false\",\"false\",\"false\",\"false\",\"false\",\"false\",\"false\",\"false\",\"false\",\"false\",\"false\",\"false\",\"false\",\"false\",\"false\",\"false\",\"false\",\"false\",\"false\",\"false\",\"false\",\"false\",\"false\",\"false\",\"false\",\"false\",\"false\",\"false\",\"false\",\"false\",\"false\",\"false\",\"false\",\"false\",\"false\",\"false\",\"false\",\"false\",\"false\",\"false\",\"false\",\"false\",\"false\",\"false\",\"false\",\"false\",\"false\",\"false\",\"false\",\"false\",\"false\",\"false\",\"false\",\"false\",\"false\",\"false\",\"false\",\"false\",\"false\",\"false\",\"false\",\"false\",\"false\",\"false\",\"false\",\"false\",\"false\",\"false\",\"false\",\"false\",\"false\",\"false\",\"false\",\"false\",\"false\",\"false\",\"false\",\"false\",\"false\",\"false\",\"false\",\"false\",\"false\",\"false\",\"false\",\"false\",\"false\",\"false\",\"false\",\"false\",\"false\",\"false\",\"false\",\"false\",\"false\",\"false\",\"false\",\"false\",\"false\",\"false\",\"false\",\"false\",\"false\",\"false\",\"false\",\"false\",\"false\",\"false\",\"false\",\"false\",\"false\",\"false\",\"false\",\"false\",\"false\",\"false\",\"false\",\"false\",\"false\",\"false\",\"false\",\"false\",\"false\",\"false\",\"false\",\"false\",\"false\",\"false\",\"false\",\"false\",\"false\",\"false\",\"false\",\"false\",\"false\",\"false\",\"false\",\"false\",\"false\",\"false\",\"false\",\"false\",\"false\",\"false\",\"false\",\"false\",\"false\",\"false\",\"false\",\"false\",\"false\",\"false\",\"false\",\"false\",\"false\",\"false\",\"false\",\"false\",\"false\",\"false\",\"false\",\"false\",\"false\",\"false\",\"false\",\"false\",\"false\",\"false\",\"false\",\"false\",\"false\",\"false\",\"false\",\"false\",\"false\",\"false\",\"false\",\"false\",\"false\",\"false\",\"false\",\"false\",\"false\",\"false\",\"false\",\"false\",\"false\",\"false\",\"false\",\"false\",\"false\",\"false\",\"false\",\"false\",\"false\",\"false\",\"false\",\"false\",\"false\",\"false\",\"false\",\"false\",\"false\",\"false\",\"false\",\"false\",\"false\",\"false\",\"false\",\"false\",\"false\",\"false\",\"false\",\"false\",\"false\",\"false\",\"false\",\"false\",\"false\",\"false\",\"false\",\"false\",\"false\",\"false\",\"false\",\"false\",\"false\",\"false\",\"false\",\"false\",\"false\",\"false\",\"false\",\"false\",\"false\",\"false\",\"false\",\"false\",\"false\",\"false\",\"false\",\"false\",\"false\",\"false\",\"false\",\"false\",\"false\",\"false\",\"false\",\"false\",\"false\",\"false\",\"false\",\"false\",\"false\",\"false\",\"false\",\"false\",\"false\",\"false\",\"false\",\"false\",\"false\",\"false\",\"false\",\"false\",\"false\",\"false\"],\"x\":{\"__ndarray__\":\"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\",\"dtype\":\"float64\",\"shape\":[466]},\"y\":{\"__ndarray__\":\"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\",\"dtype\":\"float64\",\"shape\":[466]}},\"selected\":{\"id\":\"1740\",\"type\":\"Selection\"},\"selection_policy\":{\"id\":\"1739\",\"type\":\"UnionRenderers\"}},\"id\":\"1677\",\"type\":\"ColumnDataSource\"},{\"attributes\":{\"axis_label\":\"het/hom rate\",\"formatter\":{\"id\":\"1733\",\"type\":\"BasicTickFormatter\"},\"ticker\":{\"id\":\"1658\",\"type\":\"BasicTicker\"}},\"id\":\"1657\",\"type\":\"LinearAxis\"},{\"attributes\":{},\"id\":\"1648\",\"type\":\"LinearScale\"},{\"attributes\":{\"label\":{\"value\":\"false\"},\"renderers\":[{\"id\":\"1684\",\"type\":\"GlyphRenderer\"}]},\"id\":\"1685\",\"type\":\"LegendItem\"},{\"attributes\":{},\"id\":\"1739\",\"type\":\"UnionRenderers\"},{\"attributes\":{\"callback\":null},\"id\":\"1646\",\"type\":\"DataRange1d\"},{\"attributes\":{},\"id\":\"1658\",\"type\":\"BasicTicker\"},{\"attributes\":{},\"id\":\"1737\",\"type\":\"BasicTickFormatter\"},{\"attributes\":{},\"id\":\"1740\",\"type\":\"Selection\"},{\"attributes\":{\"column_name\":\"label\",\"group\":\"false\"},\"id\":\"1679\",\"type\":\"GroupFilter\"},{\"attributes\":{\"callback\":null},\"id\":\"1644\",\"type\":\"DataRange1d\"},{\"attributes\":{},\"id\":\"1733\",\"type\":\"BasicTickFormatter\"},{\"attributes\":{\"data_source\":{\"id\":\"1677\",\"type\":\"ColumnDataSource\"},\"glyph\":{\"id\":\"1682\",\"type\":\"Circle\"},\"hover_glyph\":null,\"muted_glyph\":null,\"nonselection_glyph\":{\"id\":\"1683\",\"type\":\"Circle\"},\"selection_glyph\":null,\"view\":{\"id\":\"1680\",\"type\":\"CDSView\"}},\"id\":\"1684\",\"type\":\"GlyphRenderer\"},{\"attributes\":{\"factors\":[\"false\"],\"palette\":[\"#1f77b4\",\"#ff7f0e\",\"#2ca02c\",\"#d62728\",\"#9467bd\",\"#8c564b\",\"#e377c2\",\"#7f7f7f\",\"#bcbd22\",\"#17becf\"]},\"id\":\"1678\",\"type\":\"CategoricalColorMapper\"},{\"attributes\":{},\"id\":\"1650\",\"type\":\"LinearScale\"},{\"attributes\":{},\"id\":\"1662\",\"type\":\"PanTool\"},{\"attributes\":{},\"id\":\"1665\",\"type\":\"SaveTool\"},{\"attributes\":{},\"id\":\"1667\",\"type\":\"HelpTool\"},{\"attributes\":{\"color_mapper\":null,\"formatter\":{\"id\":\"1735\",\"type\":\"BasicTickFormatter\"},\"ticker\":{\"id\":\"1736\",\"type\":\"BasicTicker\"},\"visible\":false},\"id\":\"1687\",\"type\":\"ColorBar\"}],\"root_ids\":[\"1642\"]},\"title\":\"Bokeh Application\",\"version\":\"1.2.0\"}};\n",
       "  var render_items = [{\"docid\":\"6621e85b-4dd5-4dfe-8178-ac06ee855065\",\"roots\":{\"1642\":\"841dfb36-1c0f-4a9b-9ad5-aed0df8e8b43\"}}];\n",
       "  root.Bokeh.embed.embed_items_notebook(docs_json, render_items);\n",
       "\n",
       "  }\n",
       "  if (root.Bokeh !== undefined) {\n",
       "    embed_document(root);\n",
       "  } else {\n",
       "    var attempts = 0;\n",
       "    var timer = setInterval(function(root) {\n",
       "      if (root.Bokeh !== undefined) {\n",
       "        embed_document(root);\n",
       "        clearInterval(timer);\n",
       "      }\n",
       "      attempts++;\n",
       "      if (attempts > 100) {\n",
       "        console.log(\"Bokeh: ERROR: Unable to run BokehJS code because BokehJS library is missing\");\n",
       "        clearInterval(timer);\n",
       "      }\n",
       "    }, 10, root)\n",
       "  }\n",
       "})(window);"
      ],
      "application/vnd.bokehjs_exec.v0+json": ""
     },
     "metadata": {
      "application/vnd.bokehjs_exec.v0+json": {
       "id": "1642"
      }
     },
     "output_type": "display_data"
    }
   ],
   "source": [
    "p = hl.plot.scatter(mt.sample_qc.dp_stats.mean, mt.sample_qc.r_het_hom_var, xlabel='DP mean', ylabel='het/hom rate',\n",
    "                    hover_fields={'Sample': mt.s}, label=mt.high_hom_het)\n",
    "p.plot_width = 600\n",
    "p.plot_height = 600\n",
    "show(p)"
   ]
  },
  {
   "cell_type": "markdown",
   "id": "fundamental-pontiac",
   "metadata": {},
   "source": [
    "The plot above indicates these samples have similar coverage as the other samples, so that doesn't explain the high het/hom rate.\n",
    "\n",
    "We can also check the MultiQC reports of these samples (file paths below), and we see that they are all of reasonable quality."
   ]
  },
  {
   "cell_type": "code",
   "execution_count": 26,
   "id": "incomplete-demographic",
   "metadata": {},
   "outputs": [],
   "source": [
    "high_hethom_samples = mt.filter_cols(mt.sample_qc.r_het_hom_var > 3).s.collect()\n",
    "\n",
    "for sample in high_hethom_samples:\n",
    "    print('/data/projects/fargen_phase_1/data/single_sample_data/{sample}/multiqc/multiqc_report.html'.format(sample=sample))"
   ]
  },
  {
   "cell_type": "markdown",
   "id": "psychological-belgium",
   "metadata": {},
   "source": [
    "In the genealogy summary file (`/fargen/fargen_phase_1_utils/multi_sample/joint_genotyping/metadata/genealogy/individuals_summary.csv`), it seems that all these samples have reasonably deep roots in the Faroes. This means we have no reason to suspect this difference is due to these samples being from different populations.\n",
    "\n",
    "These four samples most likely have high het/hom rate due to poor data quality. One potential reason for this is contamination of the sample in the lab.\n",
    "\n",
    "We will **discard high het/hom rate samples**, as they may skew further analyses down the line."
   ]
  },
  {
   "cell_type": "code",
   "execution_count": 27,
   "id": "3f72ac48-5e30-46ee-bca6-195e33cb53e8",
   "metadata": {},
   "outputs": [],
   "source": [
    "mt = mt.filter_cols(mt.sample_qc.r_het_hom_var < 3)"
   ]
  },
  {
   "cell_type": "code",
   "execution_count": 28,
   "id": "cooked-gilbert",
   "metadata": {},
   "outputs": [
    {
     "name": "stdout",
     "output_type": "stream",
     "text": [
      "Number of variants: 761809\n",
      "Number of samples: 472\n"
     ]
    }
   ],
   "source": [
    "n_variants, n_samples = mt.count()\n",
    "print('Number of variants: ' + str(n_variants))\n",
    "print('Number of samples: ' + str(n_samples))"
   ]
  },
  {
   "cell_type": "markdown",
   "id": "9d0865cc-3848-49b9-9019-f528a95b9032",
   "metadata": {},
   "source": [
    "## Variant counts"
   ]
  },
  {
   "cell_type": "code",
   "execution_count": 29,
   "id": "bdccdcb6-8783-43a2-8d7d-250dfbf908a3",
   "metadata": {},
   "outputs": [],
   "source": [
    "def variant_counts(mt):\n",
    "    # Count number of variants, SNPs and indels. Only first allele in alternate allele list is considered.\n",
    "    variant_counts_struct = mt.aggregate_rows(hl.struct(\n",
    "        n_variants = hl.agg.count(),\n",
    "        n_snps = hl.agg.count_where(hl.is_snp(mt.alleles[0], mt.alleles[1])) / hl.agg.count(),\n",
    "        n_indels = hl.agg.count_where(hl.is_indel(mt.alleles[0], mt.alleles[1])) / hl.agg.count()))\n",
    "    \n",
    "    variant_counts_pd = pd.DataFrame(variant_counts_struct.values(), index=variant_counts_struct.keys(), columns=[''])\n",
    "    return variant_counts_pd"
   ]
  },
  {
   "cell_type": "code",
   "execution_count": 30,
   "id": "1e09ddb9-3c26-458e-a392-82f28a257669",
   "metadata": {},
   "outputs": [
    {
     "data": {
      "text/html": [
       "<div>\n",
       "<style scoped>\n",
       "    .dataframe tbody tr th:only-of-type {\n",
       "        vertical-align: middle;\n",
       "    }\n",
       "\n",
       "    .dataframe tbody tr th {\n",
       "        vertical-align: top;\n",
       "    }\n",
       "\n",
       "    .dataframe thead th {\n",
       "        text-align: right;\n",
       "    }\n",
       "</style>\n",
       "<table border=\"1\" class=\"dataframe\">\n",
       "  <thead>\n",
       "    <tr style=\"text-align: right;\">\n",
       "      <th></th>\n",
       "      <th></th>\n",
       "    </tr>\n",
       "  </thead>\n",
       "  <tbody>\n",
       "    <tr>\n",
       "      <th>n_variants</th>\n",
       "      <td>761809.000000</td>\n",
       "    </tr>\n",
       "    <tr>\n",
       "      <th>n_snps</th>\n",
       "      <td>0.293392</td>\n",
       "    </tr>\n",
       "    <tr>\n",
       "      <th>n_indels</th>\n",
       "      <td>0.706608</td>\n",
       "    </tr>\n",
       "  </tbody>\n",
       "</table>\n",
       "</div>"
      ],
      "text/plain": [
       "                         \n",
       "n_variants  761809.000000\n",
       "n_snps           0.293392\n",
       "n_indels         0.706608"
      ]
     },
     "execution_count": 30,
     "metadata": {},
     "output_type": "execute_result"
    }
   ],
   "source": [
    "variant_counts(mt)"
   ]
  },
  {
   "cell_type": "markdown",
   "id": "81f52b52-99bf-45ef-be72-6de4fdafc3fc",
   "metadata": {},
   "source": [
    "## Write data to file"
   ]
  },
  {
   "cell_type": "code",
   "execution_count": 31,
   "id": "accepting-kingdom",
   "metadata": {},
   "outputs": [],
   "source": [
    "if False:\n",
    "    mt.write(BASE_DIR + '/data/mt/high_quality_variants.mt', overwrite=True)"
   ]
  },
  {
   "cell_type": "markdown",
   "id": "f5721fc8-688d-43c9-b6fb-08ca230c5126",
   "metadata": {},
   "source": [
    "## Summary\n",
    "\n",
    "In this notebook we have:\n",
    "\n",
    "* Filtered variants failing VQSR filter\n",
    "* Filtered variants with genotype quality < 20\n",
    "* Removed four samples with abnormally high het/hom rate (>3)"
   ]
  }
 ],
 "metadata": {
  "kernelspec": {
   "display_name": "Python [conda env:fargen-1-exome]",
   "language": "python",
   "name": "conda-env-fargen-1-exome-py"
  },
  "language_info": {
   "codemirror_mode": {
    "name": "ipython",
    "version": 3
   },
   "file_extension": ".py",
   "mimetype": "text/x-python",
   "name": "python",
   "nbconvert_exporter": "python",
   "pygments_lexer": "ipython3",
   "version": "3.7.10"
  }
 },
 "nbformat": 4,
 "nbformat_minor": 5
}
