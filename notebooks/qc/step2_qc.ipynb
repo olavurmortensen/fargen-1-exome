{
 "cells": [
  {
   "cell_type": "markdown",
   "id": "6b46d6e6-3060-4ed7-8b35-6a09fd271204",
   "metadata": {},
   "source": [
    "# Quality control"
   ]
  },
  {
   "cell_type": "code",
   "execution_count": 1,
   "id": "million-damages",
   "metadata": {},
   "outputs": [
    {
     "name": "stdout",
     "output_type": "stream",
     "text": [
      "2021-09-28 09:23:02 WARN  NativeCodeLoader:62 - Unable to load native-hadoop library for your platform... using builtin-java classes where applicable\n"
     ]
    },
    {
     "name": "stderr",
     "output_type": "stream",
     "text": [
      "Setting default log level to \"WARN\".\n",
      "To adjust logging level use sc.setLogLevel(newLevel). For SparkR, use setLogLevel(newLevel).\n"
     ]
    },
    {
     "name": "stdout",
     "output_type": "stream",
     "text": [
      "2021-09-28 09:23:03 WARN  Hail:37 - This Hail JAR was compiled for Spark 2.4.5, running with Spark 2.4.1.\n",
      "  Compatibility is not guaranteed.\n",
      "2021-09-28 09:23:04 WARN  Utils:66 - Service 'SparkUI' could not bind on port 4040. Attempting port 4041.\n"
     ]
    },
    {
     "name": "stderr",
     "output_type": "stream",
     "text": [
      "Running on Apache Spark version 2.4.1\n",
      "SparkUI available at http://hms-beagle-848846b477-8tkk6:4041\n",
      "Welcome to\n",
      "     __  __     <>__\n",
      "    / /_/ /__  __/ /\n",
      "   / __  / _ `/ / /\n",
      "  /_/ /_/\\_,_/_/_/   version 0.2.61-3c86d3ba497a\n",
      "LOGGING: writing to /home/olavur/experiments/2020-11-13_fargen1_exome_analysis/fargen-1-exome/notebooks/qc/hail-20210928-0923-0.2.61-3c86d3ba497a.log\n"
     ]
    }
   ],
   "source": [
    "import hail as hl\n",
    "hl.init(spark_conf={'spark.driver.memory': '10g'}, tmp_dir='/home/olavur/tmp')"
   ]
  },
  {
   "cell_type": "code",
   "execution_count": 2,
   "id": "analyzed-warrant",
   "metadata": {},
   "outputs": [
    {
     "data": {
      "text/html": [
       "\n",
       "    <div class=\"bk-root\">\n",
       "        <a href=\"https://bokeh.pydata.org\" target=\"_blank\" class=\"bk-logo bk-logo-small bk-logo-notebook\"></a>\n",
       "        <span id=\"1001\">Loading BokehJS ...</span>\n",
       "    </div>"
      ]
     },
     "metadata": {},
     "output_type": "display_data"
    },
    {
     "data": {
      "application/javascript": [
       "\n",
       "(function(root) {\n",
       "  function now() {\n",
       "    return new Date();\n",
       "  }\n",
       "\n",
       "  var force = true;\n",
       "\n",
       "  if (typeof root._bokeh_onload_callbacks === \"undefined\" || force === true) {\n",
       "    root._bokeh_onload_callbacks = [];\n",
       "    root._bokeh_is_loading = undefined;\n",
       "  }\n",
       "\n",
       "  var JS_MIME_TYPE = 'application/javascript';\n",
       "  var HTML_MIME_TYPE = 'text/html';\n",
       "  var EXEC_MIME_TYPE = 'application/vnd.bokehjs_exec.v0+json';\n",
       "  var CLASS_NAME = 'output_bokeh rendered_html';\n",
       "\n",
       "  /**\n",
       "   * Render data to the DOM node\n",
       "   */\n",
       "  function render(props, node) {\n",
       "    var script = document.createElement(\"script\");\n",
       "    node.appendChild(script);\n",
       "  }\n",
       "\n",
       "  /**\n",
       "   * Handle when an output is cleared or removed\n",
       "   */\n",
       "  function handleClearOutput(event, handle) {\n",
       "    var cell = handle.cell;\n",
       "\n",
       "    var id = cell.output_area._bokeh_element_id;\n",
       "    var server_id = cell.output_area._bokeh_server_id;\n",
       "    // Clean up Bokeh references\n",
       "    if (id != null && id in Bokeh.index) {\n",
       "      Bokeh.index[id].model.document.clear();\n",
       "      delete Bokeh.index[id];\n",
       "    }\n",
       "\n",
       "    if (server_id !== undefined) {\n",
       "      // Clean up Bokeh references\n",
       "      var cmd = \"from bokeh.io.state import curstate; print(curstate().uuid_to_server['\" + server_id + \"'].get_sessions()[0].document.roots[0]._id)\";\n",
       "      cell.notebook.kernel.execute(cmd, {\n",
       "        iopub: {\n",
       "          output: function(msg) {\n",
       "            var id = msg.content.text.trim();\n",
       "            if (id in Bokeh.index) {\n",
       "              Bokeh.index[id].model.document.clear();\n",
       "              delete Bokeh.index[id];\n",
       "            }\n",
       "          }\n",
       "        }\n",
       "      });\n",
       "      // Destroy server and session\n",
       "      var cmd = \"import bokeh.io.notebook as ion; ion.destroy_server('\" + server_id + \"')\";\n",
       "      cell.notebook.kernel.execute(cmd);\n",
       "    }\n",
       "  }\n",
       "\n",
       "  /**\n",
       "   * Handle when a new output is added\n",
       "   */\n",
       "  function handleAddOutput(event, handle) {\n",
       "    var output_area = handle.output_area;\n",
       "    var output = handle.output;\n",
       "\n",
       "    // limit handleAddOutput to display_data with EXEC_MIME_TYPE content only\n",
       "    if ((output.output_type != \"display_data\") || (!output.data.hasOwnProperty(EXEC_MIME_TYPE))) {\n",
       "      return\n",
       "    }\n",
       "\n",
       "    var toinsert = output_area.element.find(\".\" + CLASS_NAME.split(' ')[0]);\n",
       "\n",
       "    if (output.metadata[EXEC_MIME_TYPE][\"id\"] !== undefined) {\n",
       "      toinsert[toinsert.length - 1].firstChild.textContent = output.data[JS_MIME_TYPE];\n",
       "      // store reference to embed id on output_area\n",
       "      output_area._bokeh_element_id = output.metadata[EXEC_MIME_TYPE][\"id\"];\n",
       "    }\n",
       "    if (output.metadata[EXEC_MIME_TYPE][\"server_id\"] !== undefined) {\n",
       "      var bk_div = document.createElement(\"div\");\n",
       "      bk_div.innerHTML = output.data[HTML_MIME_TYPE];\n",
       "      var script_attrs = bk_div.children[0].attributes;\n",
       "      for (var i = 0; i < script_attrs.length; i++) {\n",
       "        toinsert[toinsert.length - 1].firstChild.setAttribute(script_attrs[i].name, script_attrs[i].value);\n",
       "      }\n",
       "      // store reference to server id on output_area\n",
       "      output_area._bokeh_server_id = output.metadata[EXEC_MIME_TYPE][\"server_id\"];\n",
       "    }\n",
       "  }\n",
       "\n",
       "  function register_renderer(events, OutputArea) {\n",
       "\n",
       "    function append_mime(data, metadata, element) {\n",
       "      // create a DOM node to render to\n",
       "      var toinsert = this.create_output_subarea(\n",
       "        metadata,\n",
       "        CLASS_NAME,\n",
       "        EXEC_MIME_TYPE\n",
       "      );\n",
       "      this.keyboard_manager.register_events(toinsert);\n",
       "      // Render to node\n",
       "      var props = {data: data, metadata: metadata[EXEC_MIME_TYPE]};\n",
       "      render(props, toinsert[toinsert.length - 1]);\n",
       "      element.append(toinsert);\n",
       "      return toinsert\n",
       "    }\n",
       "\n",
       "    /* Handle when an output is cleared or removed */\n",
       "    events.on('clear_output.CodeCell', handleClearOutput);\n",
       "    events.on('delete.Cell', handleClearOutput);\n",
       "\n",
       "    /* Handle when a new output is added */\n",
       "    events.on('output_added.OutputArea', handleAddOutput);\n",
       "\n",
       "    /**\n",
       "     * Register the mime type and append_mime function with output_area\n",
       "     */\n",
       "    OutputArea.prototype.register_mime_type(EXEC_MIME_TYPE, append_mime, {\n",
       "      /* Is output safe? */\n",
       "      safe: true,\n",
       "      /* Index of renderer in `output_area.display_order` */\n",
       "      index: 0\n",
       "    });\n",
       "  }\n",
       "\n",
       "  // register the mime type if in Jupyter Notebook environment and previously unregistered\n",
       "  if (root.Jupyter !== undefined) {\n",
       "    var events = require('base/js/events');\n",
       "    var OutputArea = require('notebook/js/outputarea').OutputArea;\n",
       "\n",
       "    if (OutputArea.prototype.mime_types().indexOf(EXEC_MIME_TYPE) == -1) {\n",
       "      register_renderer(events, OutputArea);\n",
       "    }\n",
       "  }\n",
       "\n",
       "  \n",
       "  if (typeof (root._bokeh_timeout) === \"undefined\" || force === true) {\n",
       "    root._bokeh_timeout = Date.now() + 5000;\n",
       "    root._bokeh_failed_load = false;\n",
       "  }\n",
       "\n",
       "  var NB_LOAD_WARNING = {'data': {'text/html':\n",
       "     \"<div style='background-color: #fdd'>\\n\"+\n",
       "     \"<p>\\n\"+\n",
       "     \"BokehJS does not appear to have successfully loaded. If loading BokehJS from CDN, this \\n\"+\n",
       "     \"may be due to a slow or bad network connection. Possible fixes:\\n\"+\n",
       "     \"</p>\\n\"+\n",
       "     \"<ul>\\n\"+\n",
       "     \"<li>re-rerun `output_notebook()` to attempt to load from CDN again, or</li>\\n\"+\n",
       "     \"<li>use INLINE resources instead, as so:</li>\\n\"+\n",
       "     \"</ul>\\n\"+\n",
       "     \"<code>\\n\"+\n",
       "     \"from bokeh.resources import INLINE\\n\"+\n",
       "     \"output_notebook(resources=INLINE)\\n\"+\n",
       "     \"</code>\\n\"+\n",
       "     \"</div>\"}};\n",
       "\n",
       "  function display_loaded() {\n",
       "    var el = document.getElementById(\"1001\");\n",
       "    if (el != null) {\n",
       "      el.textContent = \"BokehJS is loading...\";\n",
       "    }\n",
       "    if (root.Bokeh !== undefined) {\n",
       "      if (el != null) {\n",
       "        el.textContent = \"BokehJS \" + root.Bokeh.version + \" successfully loaded.\";\n",
       "      }\n",
       "    } else if (Date.now() < root._bokeh_timeout) {\n",
       "      setTimeout(display_loaded, 100)\n",
       "    }\n",
       "  }\n",
       "\n",
       "\n",
       "  function run_callbacks() {\n",
       "    try {\n",
       "      root._bokeh_onload_callbacks.forEach(function(callback) {\n",
       "        if (callback != null)\n",
       "          callback();\n",
       "      });\n",
       "    } finally {\n",
       "      delete root._bokeh_onload_callbacks\n",
       "    }\n",
       "    console.debug(\"Bokeh: all callbacks have finished\");\n",
       "  }\n",
       "\n",
       "  function load_libs(css_urls, js_urls, callback) {\n",
       "    if (css_urls == null) css_urls = [];\n",
       "    if (js_urls == null) js_urls = [];\n",
       "\n",
       "    root._bokeh_onload_callbacks.push(callback);\n",
       "    if (root._bokeh_is_loading > 0) {\n",
       "      console.debug(\"Bokeh: BokehJS is being loaded, scheduling callback at\", now());\n",
       "      return null;\n",
       "    }\n",
       "    if (js_urls == null || js_urls.length === 0) {\n",
       "      run_callbacks();\n",
       "      return null;\n",
       "    }\n",
       "    console.debug(\"Bokeh: BokehJS not loaded, scheduling load and callback at\", now());\n",
       "    root._bokeh_is_loading = css_urls.length + js_urls.length;\n",
       "\n",
       "    function on_load() {\n",
       "      root._bokeh_is_loading--;\n",
       "      if (root._bokeh_is_loading === 0) {\n",
       "        console.debug(\"Bokeh: all BokehJS libraries/stylesheets loaded\");\n",
       "        run_callbacks()\n",
       "      }\n",
       "    }\n",
       "\n",
       "    function on_error() {\n",
       "      console.error(\"failed to load \" + url);\n",
       "    }\n",
       "\n",
       "    for (var i = 0; i < css_urls.length; i++) {\n",
       "      var url = css_urls[i];\n",
       "      const element = document.createElement(\"link\");\n",
       "      element.onload = on_load;\n",
       "      element.onerror = on_error;\n",
       "      element.rel = \"stylesheet\";\n",
       "      element.type = \"text/css\";\n",
       "      element.href = url;\n",
       "      console.debug(\"Bokeh: injecting link tag for BokehJS stylesheet: \", url);\n",
       "      document.body.appendChild(element);\n",
       "    }\n",
       "\n",
       "    for (var i = 0; i < js_urls.length; i++) {\n",
       "      var url = js_urls[i];\n",
       "      var element = document.createElement('script');\n",
       "      element.onload = on_load;\n",
       "      element.onerror = on_error;\n",
       "      element.async = false;\n",
       "      element.src = url;\n",
       "      console.debug(\"Bokeh: injecting script tag for BokehJS library: \", url);\n",
       "      document.head.appendChild(element);\n",
       "    }\n",
       "  };var element = document.getElementById(\"1001\");\n",
       "  if (element == null) {\n",
       "    console.error(\"Bokeh: ERROR: autoload.js configured with elementid '1001' but no matching script tag was found. \")\n",
       "    return false;\n",
       "  }\n",
       "\n",
       "  function inject_raw_css(css) {\n",
       "    const element = document.createElement(\"style\");\n",
       "    element.appendChild(document.createTextNode(css));\n",
       "    document.body.appendChild(element);\n",
       "  }\n",
       "\n",
       "  var js_urls = [\"https://cdn.pydata.org/bokeh/release/bokeh-1.2.0.min.js\", \"https://cdn.pydata.org/bokeh/release/bokeh-widgets-1.2.0.min.js\", \"https://cdn.pydata.org/bokeh/release/bokeh-tables-1.2.0.min.js\", \"https://cdn.pydata.org/bokeh/release/bokeh-gl-1.2.0.min.js\"];\n",
       "  var css_urls = [\"https://cdn.pydata.org/bokeh/release/bokeh-1.2.0.min.css\", \"https://cdn.pydata.org/bokeh/release/bokeh-widgets-1.2.0.min.css\", \"https://cdn.pydata.org/bokeh/release/bokeh-tables-1.2.0.min.css\"];\n",
       "\n",
       "  var inline_js = [\n",
       "    function(Bokeh) {\n",
       "      Bokeh.set_log_level(\"info\");\n",
       "    },\n",
       "    \n",
       "    function(Bokeh) {\n",
       "      \n",
       "    },\n",
       "    function(Bokeh) {} // ensure no trailing comma for IE\n",
       "  ];\n",
       "\n",
       "  function run_inline_js() {\n",
       "    \n",
       "    if ((root.Bokeh !== undefined) || (force === true)) {\n",
       "      for (var i = 0; i < inline_js.length; i++) {\n",
       "        inline_js[i].call(root, root.Bokeh);\n",
       "      }if (force === true) {\n",
       "        display_loaded();\n",
       "      }} else if (Date.now() < root._bokeh_timeout) {\n",
       "      setTimeout(run_inline_js, 100);\n",
       "    } else if (!root._bokeh_failed_load) {\n",
       "      console.log(\"Bokeh: BokehJS failed to load within specified timeout.\");\n",
       "      root._bokeh_failed_load = true;\n",
       "    } else if (force !== true) {\n",
       "      var cell = $(document.getElementById(\"1001\")).parents('.cell').data().cell;\n",
       "      cell.output_area.append_execute_result(NB_LOAD_WARNING)\n",
       "    }\n",
       "\n",
       "  }\n",
       "\n",
       "  if (root._bokeh_is_loading === 0) {\n",
       "    console.debug(\"Bokeh: BokehJS loaded, going straight to plotting\");\n",
       "    run_inline_js();\n",
       "  } else {\n",
       "    load_libs(css_urls, js_urls, function() {\n",
       "      console.debug(\"Bokeh: BokehJS plotting callback run at\", now());\n",
       "      run_inline_js();\n",
       "    });\n",
       "  }\n",
       "}(window));"
      ],
      "application/vnd.bokehjs_load.v0+json": "\n(function(root) {\n  function now() {\n    return new Date();\n  }\n\n  var force = true;\n\n  if (typeof root._bokeh_onload_callbacks === \"undefined\" || force === true) {\n    root._bokeh_onload_callbacks = [];\n    root._bokeh_is_loading = undefined;\n  }\n\n  \n\n  \n  if (typeof (root._bokeh_timeout) === \"undefined\" || force === true) {\n    root._bokeh_timeout = Date.now() + 5000;\n    root._bokeh_failed_load = false;\n  }\n\n  var NB_LOAD_WARNING = {'data': {'text/html':\n     \"<div style='background-color: #fdd'>\\n\"+\n     \"<p>\\n\"+\n     \"BokehJS does not appear to have successfully loaded. If loading BokehJS from CDN, this \\n\"+\n     \"may be due to a slow or bad network connection. Possible fixes:\\n\"+\n     \"</p>\\n\"+\n     \"<ul>\\n\"+\n     \"<li>re-rerun `output_notebook()` to attempt to load from CDN again, or</li>\\n\"+\n     \"<li>use INLINE resources instead, as so:</li>\\n\"+\n     \"</ul>\\n\"+\n     \"<code>\\n\"+\n     \"from bokeh.resources import INLINE\\n\"+\n     \"output_notebook(resources=INLINE)\\n\"+\n     \"</code>\\n\"+\n     \"</div>\"}};\n\n  function display_loaded() {\n    var el = document.getElementById(\"1001\");\n    if (el != null) {\n      el.textContent = \"BokehJS is loading...\";\n    }\n    if (root.Bokeh !== undefined) {\n      if (el != null) {\n        el.textContent = \"BokehJS \" + root.Bokeh.version + \" successfully loaded.\";\n      }\n    } else if (Date.now() < root._bokeh_timeout) {\n      setTimeout(display_loaded, 100)\n    }\n  }\n\n\n  function run_callbacks() {\n    try {\n      root._bokeh_onload_callbacks.forEach(function(callback) {\n        if (callback != null)\n          callback();\n      });\n    } finally {\n      delete root._bokeh_onload_callbacks\n    }\n    console.debug(\"Bokeh: all callbacks have finished\");\n  }\n\n  function load_libs(css_urls, js_urls, callback) {\n    if (css_urls == null) css_urls = [];\n    if (js_urls == null) js_urls = [];\n\n    root._bokeh_onload_callbacks.push(callback);\n    if (root._bokeh_is_loading > 0) {\n      console.debug(\"Bokeh: BokehJS is being loaded, scheduling callback at\", now());\n      return null;\n    }\n    if (js_urls == null || js_urls.length === 0) {\n      run_callbacks();\n      return null;\n    }\n    console.debug(\"Bokeh: BokehJS not loaded, scheduling load and callback at\", now());\n    root._bokeh_is_loading = css_urls.length + js_urls.length;\n\n    function on_load() {\n      root._bokeh_is_loading--;\n      if (root._bokeh_is_loading === 0) {\n        console.debug(\"Bokeh: all BokehJS libraries/stylesheets loaded\");\n        run_callbacks()\n      }\n    }\n\n    function on_error() {\n      console.error(\"failed to load \" + url);\n    }\n\n    for (var i = 0; i < css_urls.length; i++) {\n      var url = css_urls[i];\n      const element = document.createElement(\"link\");\n      element.onload = on_load;\n      element.onerror = on_error;\n      element.rel = \"stylesheet\";\n      element.type = \"text/css\";\n      element.href = url;\n      console.debug(\"Bokeh: injecting link tag for BokehJS stylesheet: \", url);\n      document.body.appendChild(element);\n    }\n\n    for (var i = 0; i < js_urls.length; i++) {\n      var url = js_urls[i];\n      var element = document.createElement('script');\n      element.onload = on_load;\n      element.onerror = on_error;\n      element.async = false;\n      element.src = url;\n      console.debug(\"Bokeh: injecting script tag for BokehJS library: \", url);\n      document.head.appendChild(element);\n    }\n  };var element = document.getElementById(\"1001\");\n  if (element == null) {\n    console.error(\"Bokeh: ERROR: autoload.js configured with elementid '1001' but no matching script tag was found. \")\n    return false;\n  }\n\n  function inject_raw_css(css) {\n    const element = document.createElement(\"style\");\n    element.appendChild(document.createTextNode(css));\n    document.body.appendChild(element);\n  }\n\n  var js_urls = [\"https://cdn.pydata.org/bokeh/release/bokeh-1.2.0.min.js\", \"https://cdn.pydata.org/bokeh/release/bokeh-widgets-1.2.0.min.js\", \"https://cdn.pydata.org/bokeh/release/bokeh-tables-1.2.0.min.js\", \"https://cdn.pydata.org/bokeh/release/bokeh-gl-1.2.0.min.js\"];\n  var css_urls = [\"https://cdn.pydata.org/bokeh/release/bokeh-1.2.0.min.css\", \"https://cdn.pydata.org/bokeh/release/bokeh-widgets-1.2.0.min.css\", \"https://cdn.pydata.org/bokeh/release/bokeh-tables-1.2.0.min.css\"];\n\n  var inline_js = [\n    function(Bokeh) {\n      Bokeh.set_log_level(\"info\");\n    },\n    \n    function(Bokeh) {\n      \n    },\n    function(Bokeh) {} // ensure no trailing comma for IE\n  ];\n\n  function run_inline_js() {\n    \n    if ((root.Bokeh !== undefined) || (force === true)) {\n      for (var i = 0; i < inline_js.length; i++) {\n        inline_js[i].call(root, root.Bokeh);\n      }if (force === true) {\n        display_loaded();\n      }} else if (Date.now() < root._bokeh_timeout) {\n      setTimeout(run_inline_js, 100);\n    } else if (!root._bokeh_failed_load) {\n      console.log(\"Bokeh: BokehJS failed to load within specified timeout.\");\n      root._bokeh_failed_load = true;\n    } else if (force !== true) {\n      var cell = $(document.getElementById(\"1001\")).parents('.cell').data().cell;\n      cell.output_area.append_execute_result(NB_LOAD_WARNING)\n    }\n\n  }\n\n  if (root._bokeh_is_loading === 0) {\n    console.debug(\"Bokeh: BokehJS loaded, going straight to plotting\");\n    run_inline_js();\n  } else {\n    load_libs(css_urls, js_urls, function() {\n      console.debug(\"Bokeh: BokehJS plotting callback run at\", now());\n      run_inline_js();\n    });\n  }\n}(window));"
     },
     "metadata": {},
     "output_type": "display_data"
    }
   ],
   "source": [
    "from bokeh.io import show, output_notebook\n",
    "from bokeh.layouts import gridplot\n",
    "from bokeh.models.scales import LogScale\n",
    "output_notebook()"
   ]
  },
  {
   "cell_type": "code",
   "execution_count": 3,
   "id": "a90371f0-f6d2-4b83-a3ef-82b3d4e3256e",
   "metadata": {},
   "outputs": [],
   "source": [
    "import pandas as pd"
   ]
  },
  {
   "cell_type": "markdown",
   "id": "feb782aa-263d-48e3-80f2-d847f3b04c8c",
   "metadata": {},
   "source": [
    "**TODO:**\n",
    "\n",
    "* Probably a good idea to filter out sigletons here."
   ]
  },
  {
   "cell_type": "markdown",
   "id": "canadian-india",
   "metadata": {},
   "source": [
    "Load variant data."
   ]
  },
  {
   "cell_type": "code",
   "execution_count": 43,
   "id": "5c5a690f-c65f-42b9-b6b7-c541b50c5635",
   "metadata": {},
   "outputs": [],
   "source": [
    "BASE_DIR = '/home/olavur/experiments/2020-11-13_fargen1_exome_analysis'\n",
    "mt = hl.read_matrix_table(BASE_DIR + '/data/mt/variants.mt')"
   ]
  },
  {
   "cell_type": "markdown",
   "id": "8c78f15a-44f9-4615-8474-3de1a817e107",
   "metadata": {},
   "source": [
    "Split multi-allelic variants into separate rows. This makes a lot of analyses much easier.\n",
    "\n",
    "**FIXME:** while `split_multi_hts()` is really useful, it is causing me a lot of headaches in some other areas."
   ]
  },
  {
   "cell_type": "code",
   "execution_count": 44,
   "id": "079945ea-ec80-44c2-aabb-7c6f270e50f5",
   "metadata": {},
   "outputs": [],
   "source": [
    "mt = hl.split_multi_hts(mt, permit_shuffle=True)"
   ]
  },
  {
   "cell_type": "code",
   "execution_count": 45,
   "id": "e3f04d99-9bd4-4205-935b-abb721d3bff0",
   "metadata": {},
   "outputs": [
    {
     "name": "stdout",
     "output_type": "stream",
     "text": [
      "Number of variants: 229834\n",
      "Number of samples: 473\n"
     ]
    }
   ],
   "source": [
    "n_variants, n_samples = mt.count()\n",
    "print('Number of variants: ' + str(n_variants))\n",
    "print('Number of samples: ' + str(n_samples))"
   ]
  },
  {
   "cell_type": "code",
   "execution_count": 46,
   "id": "36baef4b-3254-407e-9964-39d8197a9f04",
   "metadata": {},
   "outputs": [],
   "source": [
    "def variant_counts(mt):\n",
    "    # Count number of variants, SNPs and indels. Only first allele in alternate allele list is considered.\n",
    "    variant_counts_struct = mt.aggregate_rows(hl.struct(\n",
    "        n_variants = hl.agg.count(),\n",
    "        snps_fraction = hl.agg.count_where(hl.is_snp(mt.alleles[0], mt.alleles[1])) / hl.agg.count(),\n",
    "        indels_fraction = hl.agg.count_where(hl.is_indel(mt.alleles[0], mt.alleles[1])) / hl.agg.count()))\n",
    "    \n",
    "    variant_counts_pd = pd.DataFrame(variant_counts_struct.values(), index=variant_counts_struct.keys(), columns=[''])\n",
    "    return variant_counts_pd"
   ]
  },
  {
   "cell_type": "code",
   "execution_count": 47,
   "id": "85336743-bbd2-4f11-9590-3db3d57f0bc0",
   "metadata": {},
   "outputs": [
    {
     "data": {
      "text/html": [
       "<div>\n",
       "<style scoped>\n",
       "    .dataframe tbody tr th:only-of-type {\n",
       "        vertical-align: middle;\n",
       "    }\n",
       "\n",
       "    .dataframe tbody tr th {\n",
       "        vertical-align: top;\n",
       "    }\n",
       "\n",
       "    .dataframe thead th {\n",
       "        text-align: right;\n",
       "    }\n",
       "</style>\n",
       "<table border=\"1\" class=\"dataframe\">\n",
       "  <thead>\n",
       "    <tr style=\"text-align: right;\">\n",
       "      <th></th>\n",
       "      <th></th>\n",
       "    </tr>\n",
       "  </thead>\n",
       "  <tbody>\n",
       "    <tr>\n",
       "      <th>n_variants</th>\n",
       "      <td>229834.000000</td>\n",
       "    </tr>\n",
       "    <tr>\n",
       "      <th>snps_fraction</th>\n",
       "      <td>0.812073</td>\n",
       "    </tr>\n",
       "    <tr>\n",
       "      <th>indels_fraction</th>\n",
       "      <td>0.187927</td>\n",
       "    </tr>\n",
       "  </tbody>\n",
       "</table>\n",
       "</div>"
      ],
      "text/plain": [
       "                              \n",
       "n_variants       229834.000000\n",
       "snps_fraction         0.812073\n",
       "indels_fraction       0.187927"
      ]
     },
     "execution_count": 47,
     "metadata": {},
     "output_type": "execute_result"
    }
   ],
   "source": [
    "variant_counts(mt)"
   ]
  },
  {
   "cell_type": "markdown",
   "id": "deadly-wales",
   "metadata": {},
   "source": [
    "## VQSR filters\n",
    "\n",
    "We will remove variants not passing the VQSR filters. First, however, we will look a bit closer into these values."
   ]
  },
  {
   "cell_type": "code",
   "execution_count": 48,
   "id": "legitimate-selection",
   "metadata": {},
   "outputs": [],
   "source": [
    "mt = mt.transmute_rows(filters=hl.delimit(mt.filters, ','))"
   ]
  },
  {
   "cell_type": "code",
   "execution_count": 49,
   "id": "42c11218-e7ba-4064-b406-fe251dc69571",
   "metadata": {},
   "outputs": [
    {
     "data": {
      "text/plain": [
       "{'': 91718,\n",
       " None: 114917,\n",
       " 'VQSRTrancheINDEL99.90to100.00': 53,\n",
       " 'VQSRTrancheINDEL99.00to99.90': 1864,\n",
       " 'VQSRTrancheSNP99.90to100.00': 548,\n",
       " 'VQSRTrancheSNP99.00to99.90': 4018,\n",
       " 'VQSRTrancheINDEL90.00to99.00': 4856,\n",
       " 'VQSRTrancheSNP90.00to99.00': 11860}"
      ]
     },
     "execution_count": 49,
     "metadata": {},
     "output_type": "execute_result"
    }
   ],
   "source": [
    "mt.aggregate_rows(hl.agg.counter(mt.filters))"
   ]
  },
  {
   "cell_type": "markdown",
   "id": "d3a41375-28d5-411f-a6a6-114f7fc52cdc",
   "metadata": {},
   "source": [
    "We will calculate some mean QC statistics for each VQSR tranch."
   ]
  },
  {
   "cell_type": "code",
   "execution_count": 50,
   "id": "fb4e3d8c-b958-41d1-baab-82e351eb2999",
   "metadata": {},
   "outputs": [],
   "source": [
    "# Calculate variant statistics.\n",
    "mt = hl.variant_qc(mt)\n",
    "\n",
    "# Get rows table.\n",
    "rows_ht = mt.rows()\n",
    "\n",
    "# Aggregate.\n",
    "result = (rows_ht.group_by(rows_ht.filters)\n",
    "         .aggregate(mean_gq = hl.agg.filter(~hl.is_nan(rows_ht.variant_qc.gq_stats.mean), hl.agg.mean(rows_ht.variant_qc.gq_stats.mean)),\n",
    "                   mean_dp = hl.agg.filter(~hl.is_nan(rows_ht.variant_qc.dp_stats.mean), hl.agg.mean(rows_ht.variant_qc.dp_stats.mean)),\n",
    "                   mean_af = hl.agg.filter(~hl.is_nan(rows_ht.variant_qc.AF[0]), hl.agg.mean(1 - rows_ht.variant_qc.AF[0])),\n",
    "                   mean_vqslod = hl.agg.filter(~hl.is_nan(rows_ht.info.VQSLOD), hl.agg.mean(rows_ht.info.VQSLOD)),\n",
    "                   n_variants = hl.agg.count()))"
   ]
  },
  {
   "cell_type": "markdown",
   "id": "5b233371-143e-468f-8548-f51fb1d8f09a",
   "metadata": {},
   "source": [
    "We convert the results to a Pandas dataframe."
   ]
  },
  {
   "cell_type": "code",
   "execution_count": 51,
   "id": "c8f1c0f1-0d81-4f58-b7fb-32a096be2a9e",
   "metadata": {},
   "outputs": [
    {
     "name": "stderr",
     "output_type": "stream",
     "text": [
      "[Stage 44:====================================================>   (15 + 1) / 16]2021-09-28 09:53:53 Hail: INFO: Ordering unsorted dataset with network shuffle\n"
     ]
    }
   ],
   "source": [
    "vqsr_stats_pd = result.to_pandas()"
   ]
  },
  {
   "cell_type": "markdown",
   "id": "0016ab27-1509-407b-ae54-b8a8c6482ce8",
   "metadata": {},
   "source": [
    "Below we first print the statistics for the SNPs and then for the indels. The rows are sorted by mean genotype quality. The empty filter row (`filter=''`) corresponds to all unfiltered variants."
   ]
  },
  {
   "cell_type": "code",
   "execution_count": 52,
   "id": "d359bca6-35d9-4ebd-96dd-0304881f243c",
   "metadata": {},
   "outputs": [
    {
     "data": {
      "text/html": [
       "<div>\n",
       "<style scoped>\n",
       "    .dataframe tbody tr th:only-of-type {\n",
       "        vertical-align: middle;\n",
       "    }\n",
       "\n",
       "    .dataframe tbody tr th {\n",
       "        vertical-align: top;\n",
       "    }\n",
       "\n",
       "    .dataframe thead th {\n",
       "        text-align: right;\n",
       "    }\n",
       "</style>\n",
       "<table border=\"1\" class=\"dataframe\">\n",
       "  <thead>\n",
       "    <tr style=\"text-align: right;\">\n",
       "      <th></th>\n",
       "      <th>filters</th>\n",
       "      <th>mean_gq</th>\n",
       "      <th>mean_dp</th>\n",
       "      <th>mean_af</th>\n",
       "      <th>mean_vqslod</th>\n",
       "      <th>n_variants</th>\n",
       "    </tr>\n",
       "  </thead>\n",
       "  <tbody>\n",
       "    <tr>\n",
       "      <th>6</th>\n",
       "      <td>VQSRTrancheSNP99.90to100.00</td>\n",
       "      <td>67.016624</td>\n",
       "      <td>48.829652</td>\n",
       "      <td>0.580670</td>\n",
       "      <td>-28.934914</td>\n",
       "      <td>548</td>\n",
       "    </tr>\n",
       "    <tr>\n",
       "      <th>5</th>\n",
       "      <td>VQSRTrancheSNP99.00to99.90</td>\n",
       "      <td>77.295291</td>\n",
       "      <td>47.716385</td>\n",
       "      <td>0.528285</td>\n",
       "      <td>-1.892502</td>\n",
       "      <td>4018</td>\n",
       "    </tr>\n",
       "    <tr>\n",
       "      <th>4</th>\n",
       "      <td>VQSRTrancheSNP90.00to99.00</td>\n",
       "      <td>77.397878</td>\n",
       "      <td>41.130287</td>\n",
       "      <td>0.568779</td>\n",
       "      <td>1.408824</td>\n",
       "      <td>11860</td>\n",
       "    </tr>\n",
       "    <tr>\n",
       "      <th>0</th>\n",
       "      <td></td>\n",
       "      <td>81.534412</td>\n",
       "      <td>43.228872</td>\n",
       "      <td>0.523656</td>\n",
       "      <td>4.720143</td>\n",
       "      <td>91718</td>\n",
       "    </tr>\n",
       "  </tbody>\n",
       "</table>\n",
       "</div>"
      ],
      "text/plain": [
       "                       filters    mean_gq    mean_dp   mean_af  mean_vqslod  \\\n",
       "6  VQSRTrancheSNP99.90to100.00  67.016624  48.829652  0.580670   -28.934914   \n",
       "5   VQSRTrancheSNP99.00to99.90  77.295291  47.716385  0.528285    -1.892502   \n",
       "4   VQSRTrancheSNP90.00to99.00  77.397878  41.130287  0.568779     1.408824   \n",
       "0                               81.534412  43.228872  0.523656     4.720143   \n",
       "\n",
       "   n_variants  \n",
       "6         548  \n",
       "5        4018  \n",
       "4       11860  \n",
       "0       91718  "
      ]
     },
     "execution_count": 52,
     "metadata": {},
     "output_type": "execute_result"
    }
   ],
   "source": [
    "vqsr_stats_pd[vqsr_stats_pd.filters.isin(['VQSRTrancheSNP90.00to99.00', 'VQSRTrancheSNP99.00to99.90', 'VQSRTrancheSNP99.90to100.00', ''])].sort_values('mean_vqslod')"
   ]
  },
  {
   "cell_type": "code",
   "execution_count": 53,
   "id": "4663e101-a483-42e1-8e02-e522a0459f2e",
   "metadata": {},
   "outputs": [
    {
     "data": {
      "text/html": [
       "<div>\n",
       "<style scoped>\n",
       "    .dataframe tbody tr th:only-of-type {\n",
       "        vertical-align: middle;\n",
       "    }\n",
       "\n",
       "    .dataframe tbody tr th {\n",
       "        vertical-align: top;\n",
       "    }\n",
       "\n",
       "    .dataframe thead th {\n",
       "        text-align: right;\n",
       "    }\n",
       "</style>\n",
       "<table border=\"1\" class=\"dataframe\">\n",
       "  <thead>\n",
       "    <tr style=\"text-align: right;\">\n",
       "      <th></th>\n",
       "      <th>filters</th>\n",
       "      <th>mean_gq</th>\n",
       "      <th>mean_dp</th>\n",
       "      <th>mean_af</th>\n",
       "      <th>mean_vqslod</th>\n",
       "      <th>n_variants</th>\n",
       "    </tr>\n",
       "  </thead>\n",
       "  <tbody>\n",
       "    <tr>\n",
       "      <th>3</th>\n",
       "      <td>VQSRTrancheINDEL99.90to100.00</td>\n",
       "      <td>60.661981</td>\n",
       "      <td>28.263731</td>\n",
       "      <td>0.183336</td>\n",
       "      <td>-92.501132</td>\n",
       "      <td>53</td>\n",
       "    </tr>\n",
       "    <tr>\n",
       "      <th>2</th>\n",
       "      <td>VQSRTrancheINDEL99.00to99.90</td>\n",
       "      <td>73.732753</td>\n",
       "      <td>44.697718</td>\n",
       "      <td>0.199547</td>\n",
       "      <td>-1.945062</td>\n",
       "      <td>1864</td>\n",
       "    </tr>\n",
       "    <tr>\n",
       "      <th>1</th>\n",
       "      <td>VQSRTrancheINDEL90.00to99.00</td>\n",
       "      <td>70.528396</td>\n",
       "      <td>34.666267</td>\n",
       "      <td>0.262361</td>\n",
       "      <td>0.910408</td>\n",
       "      <td>4856</td>\n",
       "    </tr>\n",
       "    <tr>\n",
       "      <th>0</th>\n",
       "      <td></td>\n",
       "      <td>81.534412</td>\n",
       "      <td>43.228872</td>\n",
       "      <td>0.523656</td>\n",
       "      <td>4.720143</td>\n",
       "      <td>91718</td>\n",
       "    </tr>\n",
       "  </tbody>\n",
       "</table>\n",
       "</div>"
      ],
      "text/plain": [
       "                         filters    mean_gq    mean_dp   mean_af  mean_vqslod  \\\n",
       "3  VQSRTrancheINDEL99.90to100.00  60.661981  28.263731  0.183336   -92.501132   \n",
       "2   VQSRTrancheINDEL99.00to99.90  73.732753  44.697718  0.199547    -1.945062   \n",
       "1   VQSRTrancheINDEL90.00to99.00  70.528396  34.666267  0.262361     0.910408   \n",
       "0                                 81.534412  43.228872  0.523656     4.720143   \n",
       "\n",
       "   n_variants  \n",
       "3          53  \n",
       "2        1864  \n",
       "1        4856  \n",
       "0       91718  "
      ]
     },
     "execution_count": 53,
     "metadata": {},
     "output_type": "execute_result"
    }
   ],
   "source": [
    "vqsr_stats_pd[vqsr_stats_pd.filters.isin(['VQSRTrancheINDEL90.00to99.00', 'VQSRTrancheINDEL99.00to99.90', 'VQSRTrancheINDEL99.90to100.00', ''])].sort_values('mean_vqslod')"
   ]
  },
  {
   "cell_type": "markdown",
   "id": "african-lotus",
   "metadata": {},
   "source": [
    "We will only look at the **high-quality variants** from now on. So we remove variants in the 90% to 100% VQSR tranches, and keep only the unfiltered variants."
   ]
  },
  {
   "cell_type": "code",
   "execution_count": 54,
   "id": "numerous-mayor",
   "metadata": {},
   "outputs": [],
   "source": [
    "mt = mt.filter_rows(mt.filters == '')"
   ]
  },
  {
   "cell_type": "markdown",
   "id": "1787fb13-7a43-4dda-a577-3c91ffedd065",
   "metadata": {},
   "source": [
    "We check how many variants we have remaining after filtering."
   ]
  },
  {
   "cell_type": "markdown",
   "id": "9ec32319-dff2-4e01-90f8-3dd34cda8509",
   "metadata": {},
   "source": [
    "## Genotype QC"
   ]
  },
  {
   "cell_type": "code",
   "execution_count": 55,
   "id": "1a8c4b54-f898-4103-86d3-0360aa22e6f8",
   "metadata": {},
   "outputs": [
    {
     "name": "stderr",
     "output_type": "stream",
     "text": [
      "[Stage 49:=================================================>      (14 + 2) / 16]"
     ]
    },
    {
     "data": {
      "text/html": [
       "\n",
       "\n",
       "\n",
       "\n",
       "\n",
       "\n",
       "  <div class=\"bk-root\" id=\"6b426767-86e6-45eb-bc2c-5df17e537839\" data-root-id=\"2245\"></div>\n"
      ]
     },
     "metadata": {},
     "output_type": "display_data"
    },
    {
     "data": {
      "application/javascript": [
       "(function(root) {\n",
       "  function embed_document(root) {\n",
       "    \n",
       "  var docs_json = {\"d7508171-d9b1-454b-a37a-40bda96408eb\":{\"roots\":{\"references\":[{\"attributes\":{\"background_fill_color\":{\"value\":\"#EEEEEE\"},\"below\":[{\"id\":\"2255\",\"type\":\"LinearAxis\"}],\"center\":[{\"id\":\"2259\",\"type\":\"Grid\"},{\"id\":\"2264\",\"type\":\"Grid\"}],\"left\":[{\"id\":\"2260\",\"type\":\"LinearAxis\"}],\"plot_height\":500,\"plot_width\":800,\"renderers\":[{\"id\":\"2281\",\"type\":\"GlyphRenderer\"}],\"title\":null,\"toolbar\":{\"id\":\"2271\",\"type\":\"Toolbar\"},\"x_range\":{\"id\":\"2247\",\"type\":\"Range1d\"},\"x_scale\":{\"id\":\"2251\",\"type\":\"LinearScale\"},\"y_range\":{\"id\":\"2249\",\"type\":\"DataRange1d\"},\"y_scale\":{\"id\":\"2253\",\"type\":\"LinearScale\"}},\"id\":\"2245\",\"subtype\":\"Figure\",\"type\":\"Plot\"},{\"attributes\":{\"overlay\":{\"id\":\"2366\",\"type\":\"BoxAnnotation\"}},\"id\":\"2267\",\"type\":\"BoxZoomTool\"},{\"attributes\":{\"bottom_units\":\"screen\",\"fill_alpha\":{\"value\":0.5},\"fill_color\":{\"value\":\"lightgrey\"},\"left_units\":\"screen\",\"level\":\"overlay\",\"line_alpha\":{\"value\":1.0},\"line_color\":{\"value\":\"black\"},\"line_dash\":[4,4],\"line_width\":{\"value\":2},\"render_mode\":\"css\",\"right_units\":\"screen\",\"top_units\":\"screen\"},\"id\":\"2366\",\"type\":\"BoxAnnotation\"},{\"attributes\":{\"callback\":null,\"end\":105.0,\"start\":-5.0},\"id\":\"2247\",\"type\":\"Range1d\"},{\"attributes\":{},\"id\":\"2361\",\"type\":\"BasicTickFormatter\"},{\"attributes\":{\"callback\":null,\"data\":{\"left\":[0.0,2.0,4.0,6.0,8.0,10.0,12.0,14.0,16.0,18.0,20.0,22.0,24.0,26.0,28.0,30.0,32.0,34.0,36.0,38.0,40.0,42.0,44.0,46.0,48.0,50.0,52.0,54.0,56.0,58.0,60.0,62.0,64.0,66.0,68.0,70.0,72.0,74.0,76.0,78.0,80.0,82.0,84.0,86.0,88.0,90.0,92.0,94.0,96.0,98.0],\"right\":[2.0,4.0,6.0,8.0,10.0,12.0,14.0,16.0,18.0,20.0,22.0,24.0,26.0,28.0,30.0,32.0,34.0,36.0,38.0,40.0,42.0,44.0,46.0,48.0,50.0,52.0,54.0,56.0,58.0,60.0,62.0,64.0,66.0,68.0,70.0,72.0,74.0,76.0,78.0,80.0,82.0,84.0,86.0,88.0,90.0,92.0,94.0,96.0,98.0,100.0],\"top\":[481836,95703,52118,170729,231131,65137,273824,333968,91346,349100,414478,124522,402029,471652,155158,421043,493858,179771,423662,499541,193886,423691,497989,216551,416600,509143,233347,413989,486250,239449,513194,465483,243600,335656,376366,267105,435806,398418,235983,291483,489003,242080,325137,324608,220050,409459,348119,221450,261287,27615543]},\"selected\":{\"id\":\"2364\",\"type\":\"Selection\"},\"selection_policy\":{\"id\":\"2365\",\"type\":\"UnionRenderers\"}},\"id\":\"2278\",\"type\":\"ColumnDataSource\"},{\"attributes\":{},\"id\":\"2266\",\"type\":\"WheelZoomTool\"},{\"attributes\":{},\"id\":\"2270\",\"type\":\"HelpTool\"},{\"attributes\":{\"callback\":null},\"id\":\"2249\",\"type\":\"DataRange1d\"},{\"attributes\":{\"axis_label\":\"Frequency\",\"formatter\":{\"id\":\"2361\",\"type\":\"BasicTickFormatter\"},\"ticker\":{\"id\":\"2261\",\"type\":\"BasicTicker\"}},\"id\":\"2260\",\"type\":\"LinearAxis\"},{\"attributes\":{},\"id\":\"2363\",\"type\":\"BasicTickFormatter\"},{\"attributes\":{},\"id\":\"2251\",\"type\":\"LinearScale\"},{\"attributes\":{\"ticker\":{\"id\":\"2256\",\"type\":\"BasicTicker\"}},\"id\":\"2259\",\"type\":\"Grid\"},{\"attributes\":{\"source\":{\"id\":\"2278\",\"type\":\"ColumnDataSource\"}},\"id\":\"2282\",\"type\":\"CDSView\"},{\"attributes\":{\"bottom\":{\"value\":0},\"fill_alpha\":{\"value\":0.1},\"fill_color\":{\"value\":\"#1f77b4\"},\"left\":{\"field\":\"left\"},\"line_alpha\":{\"value\":0.1},\"line_color\":{\"value\":\"#1f77b4\"},\"right\":{\"field\":\"right\"},\"top\":{\"field\":\"top\"}},\"id\":\"2280\",\"type\":\"Quad\"},{\"attributes\":{\"active_drag\":\"auto\",\"active_inspect\":\"auto\",\"active_multi\":null,\"active_scroll\":\"auto\",\"active_tap\":\"auto\",\"tools\":[{\"id\":\"2265\",\"type\":\"PanTool\"},{\"id\":\"2266\",\"type\":\"WheelZoomTool\"},{\"id\":\"2267\",\"type\":\"BoxZoomTool\"},{\"id\":\"2268\",\"type\":\"SaveTool\"},{\"id\":\"2269\",\"type\":\"ResetTool\"},{\"id\":\"2270\",\"type\":\"HelpTool\"}]},\"id\":\"2271\",\"type\":\"Toolbar\"},{\"attributes\":{\"dimension\":1,\"ticker\":{\"id\":\"2261\",\"type\":\"BasicTicker\"}},\"id\":\"2264\",\"type\":\"Grid\"},{\"attributes\":{},\"id\":\"2261\",\"type\":\"BasicTicker\"},{\"attributes\":{\"axis_label\":\"Genotype quality\",\"formatter\":{\"id\":\"2363\",\"type\":\"BasicTickFormatter\"},\"ticker\":{\"id\":\"2256\",\"type\":\"BasicTicker\"}},\"id\":\"2255\",\"type\":\"LinearAxis\"},{\"attributes\":{},\"id\":\"2365\",\"type\":\"UnionRenderers\"},{\"attributes\":{\"data_source\":{\"id\":\"2278\",\"type\":\"ColumnDataSource\"},\"glyph\":{\"id\":\"2279\",\"type\":\"Quad\"},\"hover_glyph\":null,\"muted_glyph\":null,\"nonselection_glyph\":{\"id\":\"2280\",\"type\":\"Quad\"},\"selection_glyph\":null,\"view\":{\"id\":\"2282\",\"type\":\"CDSView\"}},\"id\":\"2281\",\"type\":\"GlyphRenderer\"},{\"attributes\":{},\"id\":\"2256\",\"type\":\"BasicTicker\"},{\"attributes\":{},\"id\":\"2364\",\"type\":\"Selection\"},{\"attributes\":{},\"id\":\"2268\",\"type\":\"SaveTool\"},{\"attributes\":{},\"id\":\"2265\",\"type\":\"PanTool\"},{\"attributes\":{},\"id\":\"2253\",\"type\":\"LinearScale\"},{\"attributes\":{\"bottom\":{\"value\":0},\"fill_color\":{\"value\":\"#1f77b4\"},\"left\":{\"field\":\"left\"},\"right\":{\"field\":\"right\"},\"top\":{\"field\":\"top\"}},\"id\":\"2279\",\"type\":\"Quad\"},{\"attributes\":{},\"id\":\"2269\",\"type\":\"ResetTool\"}],\"root_ids\":[\"2245\"]},\"title\":\"Bokeh Application\",\"version\":\"1.2.0\"}};\n",
       "  var render_items = [{\"docid\":\"d7508171-d9b1-454b-a37a-40bda96408eb\",\"roots\":{\"2245\":\"6b426767-86e6-45eb-bc2c-5df17e537839\"}}];\n",
       "  root.Bokeh.embed.embed_items_notebook(docs_json, render_items);\n",
       "\n",
       "  }\n",
       "  if (root.Bokeh !== undefined) {\n",
       "    embed_document(root);\n",
       "  } else {\n",
       "    var attempts = 0;\n",
       "    var timer = setInterval(function(root) {\n",
       "      if (root.Bokeh !== undefined) {\n",
       "        embed_document(root);\n",
       "        clearInterval(timer);\n",
       "      }\n",
       "      attempts++;\n",
       "      if (attempts > 100) {\n",
       "        console.log(\"Bokeh: ERROR: Unable to run BokehJS code because BokehJS library is missing\");\n",
       "        clearInterval(timer);\n",
       "      }\n",
       "    }, 10, root)\n",
       "  }\n",
       "})(window);"
      ],
      "application/vnd.bokehjs_exec.v0+json": ""
     },
     "metadata": {
      "application/vnd.bokehjs_exec.v0+json": {
       "id": "2245"
      }
     },
     "output_type": "display_data"
    }
   ],
   "source": [
    "p = hl.plot.histogram(mt.GQ, range=(0, 100))\n",
    "p.xaxis.axis_label = 'Genotype quality'\n",
    "p.plot_width = 800\n",
    "p.plot_height = 500\n",
    "show(p)"
   ]
  },
  {
   "cell_type": "markdown",
   "id": "100625e8-69b7-4eb2-be37-3a188ddf994a",
   "metadata": {},
   "source": [
    "Filter genotypes with low quality (GQ), using GQ > 20 for SNPs and GQ > 40 for indels.\n",
    "\n",
    "After the filter some sites may have become invariant. These are removed.\n",
    "\n",
    "NOTE: Many (or most) of the lower quality genotypes, i.e. the low-end tail of the histogram above, are indels."
   ]
  },
  {
   "cell_type": "code",
   "execution_count": 56,
   "id": "3cca0cc0-6c0a-4841-9083-02e843652105",
   "metadata": {},
   "outputs": [],
   "source": [
    "# Calculate variant statistics.\n",
    "mt = hl.variant_qc(mt)\n",
    "\n",
    "mt = mt.filter_entries(hl.if_else(\n",
    "    hl.is_snp(mt.alleles[0],mt.alleles[1]),\n",
    "    mt.GQ > 20,\n",
    "    mt.GQ > 40))"
   ]
  },
  {
   "cell_type": "markdown",
   "id": "f594e88e-a5b5-4c45-81ce-fa47a111f07e",
   "metadata": {},
   "source": [
    "### Allelic balance\n",
    "\n",
    "Note that since we've split the table, all rows are diallelic.\n",
    "\n",
    "We compute the allelic balance as $AB = \\frac{AD[1]}{DP}$. Note that DP is equivalent to $AD[0] + AD[1]$ for a diallelic site."
   ]
  },
  {
   "cell_type": "code",
   "execution_count": 57,
   "id": "b8ce0a8d-85b3-432e-8bba-af3eb96b5364",
   "metadata": {},
   "outputs": [],
   "source": [
    "mt = mt.annotate_entries(AB = mt.AD[1] / mt.DP)"
   ]
  },
  {
   "cell_type": "code",
   "execution_count": 58,
   "id": "33fecbf9-204b-450f-8488-6ec7e2df10a9",
   "metadata": {},
   "outputs": [
    {
     "name": "stderr",
     "output_type": "stream",
     "text": [
      "[Stage 50:====================================================>   (15 + 1) / 16]"
     ]
    },
    {
     "data": {
      "text/html": [
       "\n",
       "\n",
       "\n",
       "\n",
       "\n",
       "\n",
       "  <div class=\"bk-root\" id=\"4d224163-4859-4f3f-bbb3-ab5d212d769b\" data-root-id=\"2415\"></div>\n"
      ]
     },
     "metadata": {},
     "output_type": "display_data"
    },
    {
     "data": {
      "application/javascript": [
       "(function(root) {\n",
       "  function embed_document(root) {\n",
       "    \n",
       "  var docs_json = {\"e2641447-686d-4646-a593-f3ff70086e82\":{\"roots\":{\"references\":[{\"attributes\":{\"background_fill_color\":{\"value\":\"#EEEEEE\"},\"below\":[{\"id\":\"2425\",\"type\":\"LinearAxis\"}],\"center\":[{\"id\":\"2429\",\"type\":\"Grid\"},{\"id\":\"2434\",\"type\":\"Grid\"}],\"left\":[{\"id\":\"2430\",\"type\":\"LinearAxis\"}],\"plot_height\":500,\"plot_width\":800,\"renderers\":[{\"id\":\"2451\",\"type\":\"GlyphRenderer\"}],\"title\":null,\"toolbar\":{\"id\":\"2441\",\"type\":\"Toolbar\"},\"x_range\":{\"id\":\"2417\",\"type\":\"Range1d\"},\"x_scale\":{\"id\":\"2421\",\"type\":\"LinearScale\"},\"y_range\":{\"id\":\"2419\",\"type\":\"DataRange1d\"},\"y_scale\":{\"id\":\"2423\",\"type\":\"LinearScale\"}},\"id\":\"2415\",\"subtype\":\"Figure\",\"type\":\"Plot\"},{\"attributes\":{\"data_source\":{\"id\":\"2448\",\"type\":\"ColumnDataSource\"},\"glyph\":{\"id\":\"2449\",\"type\":\"Quad\"},\"hover_glyph\":null,\"muted_glyph\":null,\"nonselection_glyph\":{\"id\":\"2450\",\"type\":\"Quad\"},\"selection_glyph\":null,\"view\":{\"id\":\"2452\",\"type\":\"CDSView\"}},\"id\":\"2451\",\"type\":\"GlyphRenderer\"},{\"attributes\":{\"callback\":null,\"data\":{\"left\":[0.0,0.02,0.04,0.06,0.08,0.1,0.12,0.14,0.16,0.18,0.2,0.22,0.24,0.26,0.28,0.3,0.32,0.34,0.36,0.38,0.4,0.42,0.44,0.46,0.48,0.5,0.52,0.54,0.56,0.58,0.6,0.62,0.64,0.66,0.68,0.7000000000000001,0.72,0.74,0.76,0.78,0.8,0.8200000000000001,0.84,0.86,0.88,0.9,0.92,0.9400000000000001,0.96,0.98],\"right\":[0.02,0.04,0.06,0.08,0.1,0.12,0.14,0.16,0.18,0.2,0.22,0.24,0.26,0.28,0.3,0.32,0.34,0.36,0.38,0.4,0.42,0.44,0.46,0.48,0.5,0.52,0.54,0.56,0.58,0.6,0.62,0.64,0.66,0.68,0.7000000000000001,0.72,0.74,0.76,0.78,0.8,0.8200000000000001,0.84,0.86,0.88,0.9,0.92,0.9400000000000001,0.96,0.98,1.0],\"top\":[186,30,68,270,1650,8293,19583,36107,42967,45654,86147,102933,120157,150547,184596,293811,352268,378689,541153,515840,878713,887670,931932,1051663,633460,1401126,887127,795411,718543,470748,569769,390858,255597,268624,205894,122984,111509,98548,69552,31901,59601,29331,20270,10783,6246,2609,819,282,79,575]},\"selected\":{\"id\":\"2542\",\"type\":\"Selection\"},\"selection_policy\":{\"id\":\"2543\",\"type\":\"UnionRenderers\"}},\"id\":\"2448\",\"type\":\"ColumnDataSource\"},{\"attributes\":{\"bottom_units\":\"screen\",\"fill_alpha\":{\"value\":0.5},\"fill_color\":{\"value\":\"lightgrey\"},\"left_units\":\"screen\",\"level\":\"overlay\",\"line_alpha\":{\"value\":1.0},\"line_color\":{\"value\":\"black\"},\"line_dash\":[4,4],\"line_width\":{\"value\":2},\"render_mode\":\"css\",\"right_units\":\"screen\",\"top_units\":\"screen\"},\"id\":\"2544\",\"type\":\"BoxAnnotation\"},{\"attributes\":{},\"id\":\"2439\",\"type\":\"ResetTool\"},{\"attributes\":{},\"id\":\"2435\",\"type\":\"PanTool\"},{\"attributes\":{},\"id\":\"2421\",\"type\":\"LinearScale\"},{\"attributes\":{},\"id\":\"2539\",\"type\":\"BasicTickFormatter\"},{\"attributes\":{\"callback\":null},\"id\":\"2419\",\"type\":\"DataRange1d\"},{\"attributes\":{},\"id\":\"2436\",\"type\":\"WheelZoomTool\"},{\"attributes\":{\"overlay\":{\"id\":\"2544\",\"type\":\"BoxAnnotation\"}},\"id\":\"2437\",\"type\":\"BoxZoomTool\"},{\"attributes\":{},\"id\":\"2543\",\"type\":\"UnionRenderers\"},{\"attributes\":{\"bottom\":{\"value\":0},\"fill_color\":{\"value\":\"#1f77b4\"},\"left\":{\"field\":\"left\"},\"right\":{\"field\":\"right\"},\"top\":{\"field\":\"top\"}},\"id\":\"2449\",\"type\":\"Quad\"},{\"attributes\":{\"callback\":null,\"end\":1.05,\"start\":-0.05},\"id\":\"2417\",\"type\":\"Range1d\"},{\"attributes\":{},\"id\":\"2426\",\"type\":\"BasicTicker\"},{\"attributes\":{},\"id\":\"2440\",\"type\":\"HelpTool\"},{\"attributes\":{},\"id\":\"2431\",\"type\":\"BasicTicker\"},{\"attributes\":{},\"id\":\"2438\",\"type\":\"SaveTool\"},{\"attributes\":{\"ticker\":{\"id\":\"2426\",\"type\":\"BasicTicker\"}},\"id\":\"2429\",\"type\":\"Grid\"},{\"attributes\":{},\"id\":\"2542\",\"type\":\"Selection\"},{\"attributes\":{},\"id\":\"2423\",\"type\":\"LinearScale\"},{\"attributes\":{\"source\":{\"id\":\"2448\",\"type\":\"ColumnDataSource\"}},\"id\":\"2452\",\"type\":\"CDSView\"},{\"attributes\":{\"axis_label\":\"Frequency\",\"formatter\":{\"id\":\"2539\",\"type\":\"BasicTickFormatter\"},\"ticker\":{\"id\":\"2431\",\"type\":\"BasicTicker\"}},\"id\":\"2430\",\"type\":\"LinearAxis\"},{\"attributes\":{\"dimension\":1,\"ticker\":{\"id\":\"2431\",\"type\":\"BasicTicker\"}},\"id\":\"2434\",\"type\":\"Grid\"},{\"attributes\":{\"active_drag\":\"auto\",\"active_inspect\":\"auto\",\"active_multi\":null,\"active_scroll\":\"auto\",\"active_tap\":\"auto\",\"tools\":[{\"id\":\"2435\",\"type\":\"PanTool\"},{\"id\":\"2436\",\"type\":\"WheelZoomTool\"},{\"id\":\"2437\",\"type\":\"BoxZoomTool\"},{\"id\":\"2438\",\"type\":\"SaveTool\"},{\"id\":\"2439\",\"type\":\"ResetTool\"},{\"id\":\"2440\",\"type\":\"HelpTool\"}]},\"id\":\"2441\",\"type\":\"Toolbar\"},{\"attributes\":{\"bottom\":{\"value\":0},\"fill_alpha\":{\"value\":0.1},\"fill_color\":{\"value\":\"#1f77b4\"},\"left\":{\"field\":\"left\"},\"line_alpha\":{\"value\":0.1},\"line_color\":{\"value\":\"#1f77b4\"},\"right\":{\"field\":\"right\"},\"top\":{\"field\":\"top\"}},\"id\":\"2450\",\"type\":\"Quad\"},{\"attributes\":{},\"id\":\"2541\",\"type\":\"BasicTickFormatter\"},{\"attributes\":{\"axis_label\":\"Allelic balance\",\"formatter\":{\"id\":\"2541\",\"type\":\"BasicTickFormatter\"},\"ticker\":{\"id\":\"2426\",\"type\":\"BasicTicker\"}},\"id\":\"2425\",\"type\":\"LinearAxis\"}],\"root_ids\":[\"2415\"]},\"title\":\"Bokeh Application\",\"version\":\"1.2.0\"}};\n",
       "  var render_items = [{\"docid\":\"e2641447-686d-4646-a593-f3ff70086e82\",\"roots\":{\"2415\":\"4d224163-4859-4f3f-bbb3-ab5d212d769b\"}}];\n",
       "  root.Bokeh.embed.embed_items_notebook(docs_json, render_items);\n",
       "\n",
       "  }\n",
       "  if (root.Bokeh !== undefined) {\n",
       "    embed_document(root);\n",
       "  } else {\n",
       "    var attempts = 0;\n",
       "    var timer = setInterval(function(root) {\n",
       "      if (root.Bokeh !== undefined) {\n",
       "        embed_document(root);\n",
       "        clearInterval(timer);\n",
       "      }\n",
       "      attempts++;\n",
       "      if (attempts > 100) {\n",
       "        console.log(\"Bokeh: ERROR: Unable to run BokehJS code because BokehJS library is missing\");\n",
       "        clearInterval(timer);\n",
       "      }\n",
       "    }, 10, root)\n",
       "  }\n",
       "})(window);"
      ],
      "application/vnd.bokehjs_exec.v0+json": ""
     },
     "metadata": {
      "application/vnd.bokehjs_exec.v0+json": {
       "id": "2415"
      }
     },
     "output_type": "display_data"
    }
   ],
   "source": [
    "hets_mt = mt.filter_entries(mt.GT.is_het())\n",
    "p = hl.plot.histogram(hets_mt.AB, range=(0, 1))\n",
    "p.xaxis.axis_label = 'Allelic balance'\n",
    "p.plot_width = 800\n",
    "p.plot_height = 500\n",
    "show(p)"
   ]
  },
  {
   "cell_type": "markdown",
   "id": "b044546b-8aa1-427c-ac85-e81c978bba12",
   "metadata": {},
   "source": [
    "Filter all heterozygotes with allelic balance outside the range of $]0.25;0.75[$."
   ]
  },
  {
   "cell_type": "code",
   "execution_count": 59,
   "id": "708b3876-8e0f-44eb-8aa1-6dc8bf0e92c3",
   "metadata": {},
   "outputs": [],
   "source": [
    "mt = mt.filter_entries(hl.if_else(\n",
    "    mt.GT.is_het(),\n",
    "    (mt.AB > 0.25) & (mt.AB < 0.75),\n",
    "    True))"
   ]
  },
  {
   "cell_type": "markdown",
   "id": "b0bddecc-9726-4f35-9d16-f6c1dafb27f5",
   "metadata": {},
   "source": [
    "## Variant QC"
   ]
  },
  {
   "cell_type": "markdown",
   "id": "ba2c88f7-2a5c-43e5-a0ee-4db8edba0af2",
   "metadata": {},
   "source": [
    "### Variant call quality (QUAL)"
   ]
  },
  {
   "cell_type": "code",
   "execution_count": 60,
   "id": "b98ecd0f-2677-4f15-a16c-f1796df381af",
   "metadata": {},
   "outputs": [
    {
     "data": {
      "text/html": [
       "\n",
       "\n",
       "\n",
       "\n",
       "\n",
       "\n",
       "  <div class=\"bk-root\" id=\"b29320da-5f64-40dd-8763-016881146d25\" data-root-id=\"2593\"></div>\n"
      ]
     },
     "metadata": {},
     "output_type": "display_data"
    },
    {
     "data": {
      "application/javascript": [
       "(function(root) {\n",
       "  function embed_document(root) {\n",
       "    \n",
       "  var docs_json = {\"748ed572-0f8c-4283-b1a5-010bb34fcaa6\":{\"roots\":{\"references\":[{\"attributes\":{\"background_fill_color\":{\"value\":\"#EEEEEE\"},\"below\":[{\"id\":\"2603\",\"type\":\"LinearAxis\"}],\"center\":[{\"id\":\"2607\",\"type\":\"Grid\"},{\"id\":\"2612\",\"type\":\"Grid\"},{\"id\":\"2637\",\"type\":\"Legend\"}],\"left\":[{\"id\":\"2608\",\"type\":\"LinearAxis\"}],\"plot_height\":500,\"plot_width\":800,\"renderers\":[{\"id\":\"2629\",\"type\":\"GlyphRenderer\"}],\"title\":null,\"toolbar\":{\"id\":\"2619\",\"type\":\"Toolbar\"},\"x_range\":{\"id\":\"2595\",\"type\":\"Range1d\"},\"x_scale\":{\"id\":\"2599\",\"type\":\"LinearScale\"},\"y_range\":{\"id\":\"2597\",\"type\":\"DataRange1d\"},\"y_scale\":{\"id\":\"2601\",\"type\":\"LinearScale\"}},\"id\":\"2593\",\"subtype\":\"Figure\",\"type\":\"Plot\"},{\"attributes\":{\"axis_label\":\"Frequency\",\"formatter\":{\"id\":\"2633\",\"type\":\"BasicTickFormatter\"},\"ticker\":{\"id\":\"2609\",\"type\":\"BasicTicker\"}},\"id\":\"2608\",\"type\":\"LinearAxis\"},{\"attributes\":{},\"id\":\"2609\",\"type\":\"BasicTicker\"},{\"attributes\":{},\"id\":\"2613\",\"type\":\"PanTool\"},{\"attributes\":{\"source\":{\"id\":\"2626\",\"type\":\"ColumnDataSource\"}},\"id\":\"2630\",\"type\":\"CDSView\"},{\"attributes\":{},\"id\":\"2604\",\"type\":\"BasicTicker\"},{\"attributes\":{},\"id\":\"2633\",\"type\":\"BasicTickFormatter\"},{\"attributes\":{\"items\":[{\"id\":\"2638\",\"type\":\"LegendItem\"}]},\"id\":\"2637\",\"type\":\"Legend\"},{\"attributes\":{\"axis_label\":\"Variant call quality (QUAL)\",\"formatter\":{\"id\":\"2635\",\"type\":\"BasicTickFormatter\"},\"ticker\":{\"id\":\"2604\",\"type\":\"BasicTicker\"}},\"id\":\"2603\",\"type\":\"LinearAxis\"},{\"attributes\":{\"bottom\":{\"value\":0},\"fill_color\":{\"value\":\"#1f77b4\"},\"left\":{\"field\":\"left\"},\"right\":{\"field\":\"right\"},\"top\":{\"field\":\"top\"}},\"id\":\"2627\",\"type\":\"Quad\"},{\"attributes\":{},\"id\":\"2736\",\"type\":\"Selection\"},{\"attributes\":{\"dimension\":1,\"ticker\":{\"id\":\"2609\",\"type\":\"BasicTicker\"}},\"id\":\"2612\",\"type\":\"Grid\"},{\"attributes\":{\"callback\":null},\"id\":\"2597\",\"type\":\"DataRange1d\"},{\"attributes\":{\"data_source\":{\"id\":\"2626\",\"type\":\"ColumnDataSource\"},\"glyph\":{\"id\":\"2627\",\"type\":\"Quad\"},\"hover_glyph\":null,\"muted_glyph\":null,\"nonselection_glyph\":{\"id\":\"2628\",\"type\":\"Quad\"},\"selection_glyph\":null,\"view\":{\"id\":\"2630\",\"type\":\"CDSView\"}},\"id\":\"2629\",\"type\":\"GlyphRenderer\"},{\"attributes\":{},\"id\":\"2614\",\"type\":\"WheelZoomTool\"},{\"attributes\":{},\"id\":\"2635\",\"type\":\"BasicTickFormatter\"},{\"attributes\":{\"bottom\":{\"value\":0},\"fill_alpha\":{\"value\":0.1},\"fill_color\":{\"value\":\"#1f77b4\"},\"left\":{\"field\":\"left\"},\"line_alpha\":{\"value\":0.1},\"line_color\":{\"value\":\"#1f77b4\"},\"right\":{\"field\":\"right\"},\"top\":{\"field\":\"top\"}},\"id\":\"2628\",\"type\":\"Quad\"},{\"attributes\":{\"active_drag\":\"auto\",\"active_inspect\":\"auto\",\"active_multi\":null,\"active_scroll\":\"auto\",\"active_tap\":\"auto\",\"tools\":[{\"id\":\"2613\",\"type\":\"PanTool\"},{\"id\":\"2614\",\"type\":\"WheelZoomTool\"},{\"id\":\"2615\",\"type\":\"BoxZoomTool\"},{\"id\":\"2616\",\"type\":\"SaveTool\"},{\"id\":\"2617\",\"type\":\"ResetTool\"},{\"id\":\"2618\",\"type\":\"HelpTool\"}]},\"id\":\"2619\",\"type\":\"Toolbar\"},{\"attributes\":{\"overlay\":{\"id\":\"2636\",\"type\":\"BoxAnnotation\"}},\"id\":\"2615\",\"type\":\"BoxZoomTool\"},{\"attributes\":{},\"id\":\"2601\",\"type\":\"LinearScale\"},{\"attributes\":{\"callback\":null,\"end\":6680436.279,\"start\":-213352.13900000002},\"id\":\"2595\",\"type\":\"Range1d\"},{\"attributes\":{},\"id\":\"2618\",\"type\":\"HelpTool\"},{\"attributes\":{\"ticker\":{\"id\":\"2604\",\"type\":\"BasicTicker\"}},\"id\":\"2607\",\"type\":\"Grid\"},{\"attributes\":{},\"id\":\"2616\",\"type\":\"SaveTool\"},{\"attributes\":{},\"id\":\"2737\",\"type\":\"UnionRenderers\"},{\"attributes\":{\"bottom_units\":\"screen\",\"fill_alpha\":{\"value\":0.5},\"fill_color\":{\"value\":\"lightgrey\"},\"left_units\":\"screen\",\"level\":\"overlay\",\"line_alpha\":{\"value\":1.0},\"line_color\":{\"value\":\"black\"},\"line_dash\":[4,4],\"line_width\":{\"value\":2},\"render_mode\":\"css\",\"right_units\":\"screen\",\"top_units\":\"screen\"},\"id\":\"2636\",\"type\":\"BoxAnnotation\"},{\"attributes\":{},\"id\":\"2599\",\"type\":\"LinearScale\"},{\"attributes\":{},\"id\":\"2617\",\"type\":\"ResetTool\"},{\"attributes\":{\"label\":{\"value\":\"Variant call quality (QUAL)\"},\"renderers\":[{\"id\":\"2629\",\"type\":\"GlyphRenderer\"}]},\"id\":\"2638\",\"type\":\"LegendItem\"},{\"attributes\":{\"callback\":null,\"data\":{\"left\":[100001.88,225343.4876,350685.0952,476026.7028,601368.3104000001,726709.9180000001,852051.5256,977393.1332,1102734.7408,1228076.3484,1353417.9560000002,1478759.5636,1604101.1712000002,1729442.7788,1854784.3864000002,1980125.994,2105467.6016,2230809.2092,2356150.8168,2481492.4244,2606834.032,2732175.6396,2857517.2472,2982858.8548,3108200.4624,3233542.07,3358883.6776,3484225.2852,3609566.8928,3734908.5004,3860250.108,3985591.7155999998,4110933.3232,4236274.9308,4361616.5384,4486958.146,4612299.7536,4737641.3612,4862982.9688,4988324.5764,5113666.184,5239007.7916,5364349.3992,5489691.0068,5615032.6144,5740374.222,5865715.8296,5991057.4372,6116399.0448,6241740.6524],\"right\":[225343.4876,350685.0952,476026.7028,601368.3104000001,726709.9180000001,852051.5256,977393.1332,1102734.7408,1228076.3484,1353417.9560000002,1478759.5636,1604101.1712000002,1729442.7788,1854784.3864000002,1980125.994,2105467.6016,2230809.2092,2356150.8168,2481492.4244,2606834.032,2732175.6396,2857517.2472,2982858.8548,3108200.4624,3233542.07,3358883.6776,3484225.2852,3609566.8928,3734908.5004,3860250.108,3985591.7155999998,4110933.3232,4236274.9308,4361616.5384,4486958.146,4612299.7536,4737641.3612,4862982.9688,4988324.5764,5113666.184,5239007.7916,5364349.3992,5489691.0068,5615032.6144,5740374.222,5865715.8296,5991057.4372,6116399.0448,6241740.6524,6367082.26],\"top\":[46391,19497,10029,5567,3328,2019,1303,895,597,493,322,274,211,169,147,109,91,82,40,42,37,22,14,16,3,4,4,1,3,2,0,2,1,0,2,0,0,0,0,0,0,0,0,0,0,0,0,0,0,1]},\"selected\":{\"id\":\"2736\",\"type\":\"Selection\"},\"selection_policy\":{\"id\":\"2737\",\"type\":\"UnionRenderers\"}},\"id\":\"2626\",\"type\":\"ColumnDataSource\"}],\"root_ids\":[\"2593\"]},\"title\":\"Bokeh Application\",\"version\":\"1.2.0\"}};\n",
       "  var render_items = [{\"docid\":\"748ed572-0f8c-4283-b1a5-010bb34fcaa6\",\"roots\":{\"2593\":\"b29320da-5f64-40dd-8763-016881146d25\"}}];\n",
       "  root.Bokeh.embed.embed_items_notebook(docs_json, render_items);\n",
       "\n",
       "  }\n",
       "  if (root.Bokeh !== undefined) {\n",
       "    embed_document(root);\n",
       "  } else {\n",
       "    var attempts = 0;\n",
       "    var timer = setInterval(function(root) {\n",
       "      if (root.Bokeh !== undefined) {\n",
       "        embed_document(root);\n",
       "        clearInterval(timer);\n",
       "      }\n",
       "      attempts++;\n",
       "      if (attempts > 100) {\n",
       "        console.log(\"Bokeh: ERROR: Unable to run BokehJS code because BokehJS library is missing\");\n",
       "        clearInterval(timer);\n",
       "      }\n",
       "    }, 10, root)\n",
       "  }\n",
       "})(window);"
      ],
      "application/vnd.bokehjs_exec.v0+json": ""
     },
     "metadata": {
      "application/vnd.bokehjs_exec.v0+json": {
       "id": "2593"
      }
     },
     "output_type": "display_data"
    }
   ],
   "source": [
    "p = hl.plot.histogram(mt.qual, legend='Variant call quality (QUAL)')\n",
    "p.plot_width = 800\n",
    "p.plot_height = 500\n",
    "show(p)"
   ]
  },
  {
   "cell_type": "code",
   "execution_count": 61,
   "id": "9d854ba9-5211-47b8-a506-18fa764207ca",
   "metadata": {},
   "outputs": [
    {
     "data": {
      "text/html": [
       "\n",
       "\n",
       "\n",
       "\n",
       "\n",
       "\n",
       "  <div class=\"bk-root\" id=\"7a7fff95-870d-4477-8c25-d847847fa827\" data-root-id=\"2787\"></div>\n"
      ]
     },
     "metadata": {},
     "output_type": "display_data"
    },
    {
     "data": {
      "application/javascript": [
       "(function(root) {\n",
       "  function embed_document(root) {\n",
       "    \n",
       "  var docs_json = {\"6649773b-25cf-4c7d-a010-eac789bea3a8\":{\"roots\":{\"references\":[{\"attributes\":{\"background_fill_color\":{\"value\":\"#EEEEEE\"},\"below\":[{\"id\":\"2797\",\"type\":\"LinearAxis\"}],\"center\":[{\"id\":\"2801\",\"type\":\"Grid\"},{\"id\":\"2806\",\"type\":\"Grid\"},{\"id\":\"2831\",\"type\":\"Legend\"}],\"left\":[{\"id\":\"2802\",\"type\":\"LinearAxis\"}],\"plot_height\":500,\"plot_width\":800,\"renderers\":[{\"id\":\"2823\",\"type\":\"GlyphRenderer\"}],\"title\":null,\"toolbar\":{\"id\":\"2813\",\"type\":\"Toolbar\"},\"x_range\":{\"id\":\"2789\",\"type\":\"Range1d\"},\"x_scale\":{\"id\":\"2793\",\"type\":\"LinearScale\"},\"y_range\":{\"id\":\"2791\",\"type\":\"DataRange1d\"},\"y_scale\":{\"id\":\"2795\",\"type\":\"LinearScale\"}},\"id\":\"2787\",\"subtype\":\"Figure\",\"type\":\"Plot\"},{\"attributes\":{},\"id\":\"2938\",\"type\":\"Selection\"},{\"attributes\":{},\"id\":\"2793\",\"type\":\"LinearScale\"},{\"attributes\":{},\"id\":\"2795\",\"type\":\"LinearScale\"},{\"attributes\":{},\"id\":\"2811\",\"type\":\"ResetTool\"},{\"attributes\":{\"bottom\":{\"value\":0},\"fill_color\":{\"value\":\"#1f77b4\"},\"left\":{\"field\":\"left\"},\"right\":{\"field\":\"right\"},\"top\":{\"field\":\"top\"}},\"id\":\"2821\",\"type\":\"Quad\"},{\"attributes\":{},\"id\":\"2803\",\"type\":\"BasicTicker\"},{\"attributes\":{},\"id\":\"2829\",\"type\":\"BasicTickFormatter\"},{\"attributes\":{},\"id\":\"2798\",\"type\":\"BasicTicker\"},{\"attributes\":{\"callback\":null,\"end\":6.894137075607484,\"start\":4.909811549852466},\"id\":\"2789\",\"type\":\"Range1d\"},{\"attributes\":{},\"id\":\"2939\",\"type\":\"UnionRenderers\"},{\"attributes\":{\"ticker\":{\"id\":\"2798\",\"type\":\"BasicTicker\"}},\"id\":\"2801\",\"type\":\"Grid\"},{\"attributes\":{\"label\":{\"value\":\"Variant call quality (log10 of QUAL)\"},\"renderers\":[{\"id\":\"2823\",\"type\":\"GlyphRenderer\"}]},\"id\":\"2832\",\"type\":\"LegendItem\"},{\"attributes\":{\"callback\":null},\"id\":\"2791\",\"type\":\"DataRange1d\"},{\"attributes\":{},\"id\":\"2810\",\"type\":\"SaveTool\"},{\"attributes\":{\"data_source\":{\"id\":\"2820\",\"type\":\"ColumnDataSource\"},\"glyph\":{\"id\":\"2821\",\"type\":\"Quad\"},\"hover_glyph\":null,\"muted_glyph\":null,\"nonselection_glyph\":{\"id\":\"2822\",\"type\":\"Quad\"},\"selection_glyph\":null,\"view\":{\"id\":\"2824\",\"type\":\"CDSView\"}},\"id\":\"2823\",\"type\":\"GlyphRenderer\"},{\"attributes\":{\"axis_label\":\"Frequency\",\"formatter\":{\"id\":\"2827\",\"type\":\"BasicTickFormatter\"},\"ticker\":{\"id\":\"2803\",\"type\":\"BasicTicker\"}},\"id\":\"2802\",\"type\":\"LinearAxis\"},{\"attributes\":{\"callback\":null,\"data\":{\"left\":[5.000008164659512,5.03608681058233,5.072165456505149,5.1082441024279674,5.1443227483507865,5.180401394273605,5.216480040196423,5.252558686119242,5.28863733204206,5.324715977964878,5.360794623887697,5.3968732698105155,5.432951915733335,5.469030561656153,5.505109207578971,5.54118785350179,5.577266499424608,5.613345145347427,5.649423791270245,5.685502437193064,5.721581083115883,5.757659729038701,5.793738374961519,5.829817020884338,5.865895666807156,5.901974312729975,5.9380529586527935,5.974131604575612,6.010210250498431,6.046288896421249,6.082367542344068,6.118446188266886,6.154524834189704,6.190603480112523,6.2266821260353415,6.26276077195816,6.298839417880979,6.334918063803797,6.370996709726615,6.407075355649434,6.443154001572252,6.479232647495071,6.51531129341789,6.551389939340709,6.587468585263527,6.623547231186345,6.659625877109164,6.695704523031982,6.7317831689548004,6.7678618148776195],\"right\":[5.03608681058233,5.072165456505149,5.1082441024279674,5.1443227483507865,5.180401394273605,5.216480040196423,5.252558686119242,5.28863733204206,5.324715977964878,5.360794623887697,5.3968732698105155,5.432951915733335,5.469030561656153,5.505109207578971,5.54118785350179,5.577266499424608,5.613345145347427,5.649423791270245,5.685502437193064,5.721581083115883,5.757659729038701,5.793738374961519,5.829817020884338,5.865895666807156,5.901974312729975,5.9380529586527935,5.974131604575612,6.010210250498431,6.046288896421249,6.082367542344068,6.118446188266886,6.154524834189704,6.190603480112523,6.2266821260353415,6.26276077195816,6.298839417880979,6.334918063803797,6.370996709726615,6.407075355649434,6.443154001572252,6.479232647495071,6.51531129341789,6.551389939340709,6.587468585263527,6.623547231186345,6.659625877109164,6.695704523031982,6.7317831689548004,6.7678618148776195,6.803940460800438],\"top\":[5081,5069,5001,4867,4873,4753,4571,4540,4368,4174,3985,3982,3683,3435,3167,2981,2895,2595,2408,2125,1881,1672,1583,1254,1164,900,801,698,576,461,441,344,288,249,198,187,149,121,66,69,27,17,8,5,3,2,0,0,0,1]},\"selected\":{\"id\":\"2938\",\"type\":\"Selection\"},\"selection_policy\":{\"id\":\"2939\",\"type\":\"UnionRenderers\"}},\"id\":\"2820\",\"type\":\"ColumnDataSource\"},{\"attributes\":{\"items\":[{\"id\":\"2832\",\"type\":\"LegendItem\"}]},\"id\":\"2831\",\"type\":\"Legend\"},{\"attributes\":{\"bottom\":{\"value\":0},\"fill_alpha\":{\"value\":0.1},\"fill_color\":{\"value\":\"#1f77b4\"},\"left\":{\"field\":\"left\"},\"line_alpha\":{\"value\":0.1},\"line_color\":{\"value\":\"#1f77b4\"},\"right\":{\"field\":\"right\"},\"top\":{\"field\":\"top\"}},\"id\":\"2822\",\"type\":\"Quad\"},{\"attributes\":{},\"id\":\"2827\",\"type\":\"BasicTickFormatter\"},{\"attributes\":{\"overlay\":{\"id\":\"2830\",\"type\":\"BoxAnnotation\"}},\"id\":\"2809\",\"type\":\"BoxZoomTool\"},{\"attributes\":{\"axis_label\":\"Variant call quality (log10 of QUAL)\",\"formatter\":{\"id\":\"2829\",\"type\":\"BasicTickFormatter\"},\"ticker\":{\"id\":\"2798\",\"type\":\"BasicTicker\"}},\"id\":\"2797\",\"type\":\"LinearAxis\"},{\"attributes\":{\"active_drag\":\"auto\",\"active_inspect\":\"auto\",\"active_multi\":null,\"active_scroll\":\"auto\",\"active_tap\":\"auto\",\"tools\":[{\"id\":\"2807\",\"type\":\"PanTool\"},{\"id\":\"2808\",\"type\":\"WheelZoomTool\"},{\"id\":\"2809\",\"type\":\"BoxZoomTool\"},{\"id\":\"2810\",\"type\":\"SaveTool\"},{\"id\":\"2811\",\"type\":\"ResetTool\"},{\"id\":\"2812\",\"type\":\"HelpTool\"}]},\"id\":\"2813\",\"type\":\"Toolbar\"},{\"attributes\":{},\"id\":\"2812\",\"type\":\"HelpTool\"},{\"attributes\":{\"source\":{\"id\":\"2820\",\"type\":\"ColumnDataSource\"}},\"id\":\"2824\",\"type\":\"CDSView\"},{\"attributes\":{},\"id\":\"2807\",\"type\":\"PanTool\"},{\"attributes\":{\"bottom_units\":\"screen\",\"fill_alpha\":{\"value\":0.5},\"fill_color\":{\"value\":\"lightgrey\"},\"left_units\":\"screen\",\"level\":\"overlay\",\"line_alpha\":{\"value\":1.0},\"line_color\":{\"value\":\"black\"},\"line_dash\":[4,4],\"line_width\":{\"value\":2},\"render_mode\":\"css\",\"right_units\":\"screen\",\"top_units\":\"screen\"},\"id\":\"2830\",\"type\":\"BoxAnnotation\"},{\"attributes\":{\"dimension\":1,\"ticker\":{\"id\":\"2803\",\"type\":\"BasicTicker\"}},\"id\":\"2806\",\"type\":\"Grid\"},{\"attributes\":{},\"id\":\"2808\",\"type\":\"WheelZoomTool\"}],\"root_ids\":[\"2787\"]},\"title\":\"Bokeh Application\",\"version\":\"1.2.0\"}};\n",
       "  var render_items = [{\"docid\":\"6649773b-25cf-4c7d-a010-eac789bea3a8\",\"roots\":{\"2787\":\"7a7fff95-870d-4477-8c25-d847847fa827\"}}];\n",
       "  root.Bokeh.embed.embed_items_notebook(docs_json, render_items);\n",
       "\n",
       "  }\n",
       "  if (root.Bokeh !== undefined) {\n",
       "    embed_document(root);\n",
       "  } else {\n",
       "    var attempts = 0;\n",
       "    var timer = setInterval(function(root) {\n",
       "      if (root.Bokeh !== undefined) {\n",
       "        embed_document(root);\n",
       "        clearInterval(timer);\n",
       "      }\n",
       "      attempts++;\n",
       "      if (attempts > 100) {\n",
       "        console.log(\"Bokeh: ERROR: Unable to run BokehJS code because BokehJS library is missing\");\n",
       "        clearInterval(timer);\n",
       "      }\n",
       "    }, 10, root)\n",
       "  }\n",
       "})(window);"
      ],
      "application/vnd.bokehjs_exec.v0+json": ""
     },
     "metadata": {
      "application/vnd.bokehjs_exec.v0+json": {
       "id": "2787"
      }
     },
     "output_type": "display_data"
    }
   ],
   "source": [
    "p = hl.plot.histogram(hl.log10(mt.qual), legend='Variant call quality (log10 of QUAL)')\n",
    "p.plot_width = 800\n",
    "p.plot_height = 500\n",
    "show(p)"
   ]
  },
  {
   "cell_type": "markdown",
   "id": "84415ff6-d3d6-43f8-9281-8d74dc990243",
   "metadata": {},
   "source": [
    "### Hardy-Weinberg Equilibrium (HWE)\n",
    "\n",
    "Remove variants that significantly deviate from HWE. We use a p-value of $10^{-9}$ for SNPs and $10^{-6}$ for indels. Since our criteria for indels is 1000 times more stringent than for SNPs, we cannot expect the indels to carry information about population structure and inbreeding."
   ]
  },
  {
   "cell_type": "code",
   "execution_count": 62,
   "id": "b16af9a5-b247-4af0-9afc-9a3b7f6d711b",
   "metadata": {},
   "outputs": [],
   "source": [
    "# Update variant statistics.\n",
    "mt = hl.variant_qc(mt)\n",
    "\n",
    "mt = mt.filter_rows(hl.if_else(\n",
    "    hl.is_snp(mt.alleles[0], mt.alleles[1]),\n",
    "    mt.variant_qc.p_value_hwe > 1e-9,\n",
    "    mt.variant_qc.p_value_hwe > 1e-6))"
   ]
  },
  {
   "cell_type": "markdown",
   "id": "48ac3adf-0bee-47db-8fb1-ba977c34af30",
   "metadata": {},
   "source": [
    "### Average variant GQ"
   ]
  },
  {
   "cell_type": "code",
   "execution_count": 63,
   "id": "split-conditioning",
   "metadata": {},
   "outputs": [
    {
     "name": "stderr",
     "output_type": "stream",
     "text": [
      "[Stage 55:=================================================>      (14 + 2) / 16]"
     ]
    },
    {
     "data": {
      "text/html": [
       "\n",
       "\n",
       "\n",
       "\n",
       "\n",
       "\n",
       "  <div class=\"bk-root\" id=\"27f4c395-d906-44aa-9c41-ae4e5ff37b1b\" data-root-id=\"2989\"></div>\n"
      ]
     },
     "metadata": {},
     "output_type": "display_data"
    },
    {
     "data": {
      "application/javascript": [
       "(function(root) {\n",
       "  function embed_document(root) {\n",
       "    \n",
       "  var docs_json = {\"0d934d29-fae7-482b-87a0-cbca3b18b9b5\":{\"roots\":{\"references\":[{\"attributes\":{\"background_fill_color\":{\"value\":\"#EEEEEE\"},\"below\":[{\"id\":\"2999\",\"type\":\"LinearAxis\"}],\"center\":[{\"id\":\"3003\",\"type\":\"Grid\"},{\"id\":\"3008\",\"type\":\"Grid\"},{\"id\":\"3033\",\"type\":\"Legend\"}],\"left\":[{\"id\":\"3004\",\"type\":\"LinearAxis\"}],\"plot_height\":500,\"plot_width\":800,\"renderers\":[{\"id\":\"3025\",\"type\":\"GlyphRenderer\"}],\"title\":null,\"toolbar\":{\"id\":\"3015\",\"type\":\"Toolbar\"},\"x_range\":{\"id\":\"2991\",\"type\":\"Range1d\"},\"x_scale\":{\"id\":\"2995\",\"type\":\"LinearScale\"},\"y_range\":{\"id\":\"2993\",\"type\":\"DataRange1d\"},\"y_scale\":{\"id\":\"2997\",\"type\":\"LinearScale\"}},\"id\":\"2989\",\"subtype\":\"Figure\",\"type\":\"Plot\"},{\"attributes\":{\"dimension\":1,\"ticker\":{\"id\":\"3005\",\"type\":\"BasicTicker\"}},\"id\":\"3008\",\"type\":\"Grid\"},{\"attributes\":{\"callback\":null,\"data\":{\"left\":[0.0,2.0,4.0,6.0,8.0,10.0,12.0,14.0,16.0,18.0,20.0,22.0,24.0,26.0,28.0,30.0,32.0,34.0,36.0,38.0,40.0,42.0,44.0,46.0,48.0,50.0,52.0,54.0,56.0,58.0,60.0,62.0,64.0,66.0,68.0,70.0,72.0,74.0,76.0,78.0,80.0,82.0,84.0,86.0,88.0,90.0,92.0,94.0,96.0,98.0],\"right\":[2.0,4.0,6.0,8.0,10.0,12.0,14.0,16.0,18.0,20.0,22.0,24.0,26.0,28.0,30.0,32.0,34.0,36.0,38.0,40.0,42.0,44.0,46.0,48.0,50.0,52.0,54.0,56.0,58.0,60.0,62.0,64.0,66.0,68.0,70.0,72.0,74.0,76.0,78.0,80.0,82.0,84.0,86.0,88.0,90.0,92.0,94.0,96.0,98.0,100.0],\"top\":[0,0,0,0,0,0,0,0,0,0,0,0,0,2,55,141,198,252,262,299,341,378,449,431,484,542,657,710,820,840,949,1032,1190,1371,1561,1651,1846,2064,2349,2670,3057,3328,3911,4213,4924,5368,6599,8435,12063,13443]},\"selected\":{\"id\":\"3148\",\"type\":\"Selection\"},\"selection_policy\":{\"id\":\"3149\",\"type\":\"UnionRenderers\"}},\"id\":\"3022\",\"type\":\"ColumnDataSource\"},{\"attributes\":{},\"id\":\"3029\",\"type\":\"BasicTickFormatter\"},{\"attributes\":{\"overlay\":{\"id\":\"3032\",\"type\":\"BoxAnnotation\"}},\"id\":\"3011\",\"type\":\"BoxZoomTool\"},{\"attributes\":{\"items\":[{\"id\":\"3034\",\"type\":\"LegendItem\"}]},\"id\":\"3033\",\"type\":\"Legend\"},{\"attributes\":{},\"id\":\"3009\",\"type\":\"PanTool\"},{\"attributes\":{},\"id\":\"3149\",\"type\":\"UnionRenderers\"},{\"attributes\":{\"axis_label\":\"Frequency\",\"formatter\":{\"id\":\"3029\",\"type\":\"BasicTickFormatter\"},\"ticker\":{\"id\":\"3005\",\"type\":\"BasicTicker\"}},\"id\":\"3004\",\"type\":\"LinearAxis\"},{\"attributes\":{\"ticker\":{\"id\":\"3000\",\"type\":\"BasicTicker\"}},\"id\":\"3003\",\"type\":\"Grid\"},{\"attributes\":{\"active_drag\":\"auto\",\"active_inspect\":\"auto\",\"active_multi\":null,\"active_scroll\":\"auto\",\"active_tap\":\"auto\",\"tools\":[{\"id\":\"3009\",\"type\":\"PanTool\"},{\"id\":\"3010\",\"type\":\"WheelZoomTool\"},{\"id\":\"3011\",\"type\":\"BoxZoomTool\"},{\"id\":\"3012\",\"type\":\"SaveTool\"},{\"id\":\"3013\",\"type\":\"ResetTool\"},{\"id\":\"3014\",\"type\":\"HelpTool\"}]},\"id\":\"3015\",\"type\":\"Toolbar\"},{\"attributes\":{},\"id\":\"2997\",\"type\":\"LinearScale\"},{\"attributes\":{},\"id\":\"3014\",\"type\":\"HelpTool\"},{\"attributes\":{},\"id\":\"3148\",\"type\":\"Selection\"},{\"attributes\":{\"bottom_units\":\"screen\",\"fill_alpha\":{\"value\":0.5},\"fill_color\":{\"value\":\"lightgrey\"},\"left_units\":\"screen\",\"level\":\"overlay\",\"line_alpha\":{\"value\":1.0},\"line_color\":{\"value\":\"black\"},\"line_dash\":[4,4],\"line_width\":{\"value\":2},\"render_mode\":\"css\",\"right_units\":\"screen\",\"top_units\":\"screen\"},\"id\":\"3032\",\"type\":\"BoxAnnotation\"},{\"attributes\":{},\"id\":\"3005\",\"type\":\"BasicTicker\"},{\"attributes\":{\"source\":{\"id\":\"3022\",\"type\":\"ColumnDataSource\"}},\"id\":\"3026\",\"type\":\"CDSView\"},{\"attributes\":{\"bottom\":{\"value\":0},\"fill_color\":{\"value\":\"#1f77b4\"},\"left\":{\"field\":\"left\"},\"right\":{\"field\":\"right\"},\"top\":{\"field\":\"top\"}},\"id\":\"3023\",\"type\":\"Quad\"},{\"attributes\":{\"bottom\":{\"value\":0},\"fill_alpha\":{\"value\":0.1},\"fill_color\":{\"value\":\"#1f77b4\"},\"left\":{\"field\":\"left\"},\"line_alpha\":{\"value\":0.1},\"line_color\":{\"value\":\"#1f77b4\"},\"right\":{\"field\":\"right\"},\"top\":{\"field\":\"top\"}},\"id\":\"3024\",\"type\":\"Quad\"},{\"attributes\":{\"data_source\":{\"id\":\"3022\",\"type\":\"ColumnDataSource\"},\"glyph\":{\"id\":\"3023\",\"type\":\"Quad\"},\"hover_glyph\":null,\"muted_glyph\":null,\"nonselection_glyph\":{\"id\":\"3024\",\"type\":\"Quad\"},\"selection_glyph\":null,\"view\":{\"id\":\"3026\",\"type\":\"CDSView\"}},\"id\":\"3025\",\"type\":\"GlyphRenderer\"},{\"attributes\":{\"axis_label\":\"Mean GQ per variant histogram\",\"formatter\":{\"id\":\"3031\",\"type\":\"BasicTickFormatter\"},\"ticker\":{\"id\":\"3000\",\"type\":\"BasicTicker\"}},\"id\":\"2999\",\"type\":\"LinearAxis\"},{\"attributes\":{\"label\":{\"value\":\"Mean GQ per variant histogram\"},\"renderers\":[{\"id\":\"3025\",\"type\":\"GlyphRenderer\"}]},\"id\":\"3034\",\"type\":\"LegendItem\"},{\"attributes\":{},\"id\":\"2995\",\"type\":\"LinearScale\"},{\"attributes\":{},\"id\":\"3000\",\"type\":\"BasicTicker\"},{\"attributes\":{},\"id\":\"3031\",\"type\":\"BasicTickFormatter\"},{\"attributes\":{},\"id\":\"3013\",\"type\":\"ResetTool\"},{\"attributes\":{},\"id\":\"3012\",\"type\":\"SaveTool\"},{\"attributes\":{\"callback\":null,\"end\":105.0,\"start\":-5.0},\"id\":\"2991\",\"type\":\"Range1d\"},{\"attributes\":{\"callback\":null},\"id\":\"2993\",\"type\":\"DataRange1d\"},{\"attributes\":{},\"id\":\"3010\",\"type\":\"WheelZoomTool\"}],\"root_ids\":[\"2989\"]},\"title\":\"Bokeh Application\",\"version\":\"1.2.0\"}};\n",
       "  var render_items = [{\"docid\":\"0d934d29-fae7-482b-87a0-cbca3b18b9b5\",\"roots\":{\"2989\":\"27f4c395-d906-44aa-9c41-ae4e5ff37b1b\"}}];\n",
       "  root.Bokeh.embed.embed_items_notebook(docs_json, render_items);\n",
       "\n",
       "  }\n",
       "  if (root.Bokeh !== undefined) {\n",
       "    embed_document(root);\n",
       "  } else {\n",
       "    var attempts = 0;\n",
       "    var timer = setInterval(function(root) {\n",
       "      if (root.Bokeh !== undefined) {\n",
       "        embed_document(root);\n",
       "        clearInterval(timer);\n",
       "      }\n",
       "      attempts++;\n",
       "      if (attempts > 100) {\n",
       "        console.log(\"Bokeh: ERROR: Unable to run BokehJS code because BokehJS library is missing\");\n",
       "        clearInterval(timer);\n",
       "      }\n",
       "    }, 10, root)\n",
       "  }\n",
       "})(window);"
      ],
      "application/vnd.bokehjs_exec.v0+json": ""
     },
     "metadata": {
      "application/vnd.bokehjs_exec.v0+json": {
       "id": "2989"
      }
     },
     "output_type": "display_data"
    }
   ],
   "source": [
    "p = hl.plot.histogram(mt.variant_qc.gq_stats.mean, range=(0,100), legend='Mean GQ per variant histogram')\n",
    "p.plot_width = 800\n",
    "p.plot_height = 500\n",
    "show(p)"
   ]
  },
  {
   "cell_type": "markdown",
   "id": "middle-seafood",
   "metadata": {},
   "source": [
    "## Sample QC\n",
    "\n",
    "Below we see histograms of sample mean genotype quality and genotype depth. Most samples seem to have good depth and quality, although the deviation between samples is quite large. There are some samples with low depth and quality, but we will not worry about these."
   ]
  },
  {
   "cell_type": "code",
   "execution_count": 64,
   "id": "62a75cc3-0cf1-4c64-b7f0-b473e681f07d",
   "metadata": {},
   "outputs": [],
   "source": [
    "mt = hl.sample_qc(mt)"
   ]
  },
  {
   "cell_type": "code",
   "execution_count": 65,
   "id": "worth-desperate",
   "metadata": {},
   "outputs": [
    {
     "name": "stderr",
     "output_type": "stream",
     "text": [
      "[Stage 56:====================================================>   (15 + 1) / 16]"
     ]
    },
    {
     "data": {
      "text/html": [
       "\n",
       "\n",
       "\n",
       "\n",
       "\n",
       "\n",
       "  <div class=\"bk-root\" id=\"ead6fdb2-92a2-4e2f-8c22-e1f7c5601990\" data-root-id=\"3199\"></div>\n"
      ]
     },
     "metadata": {},
     "output_type": "display_data"
    },
    {
     "data": {
      "application/javascript": [
       "(function(root) {\n",
       "  function embed_document(root) {\n",
       "    \n",
       "  var docs_json = {\"bc52a6fa-362a-4c38-8403-dde50f845893\":{\"roots\":{\"references\":[{\"attributes\":{\"background_fill_color\":{\"value\":\"#EEEEEE\"},\"below\":[{\"id\":\"3209\",\"type\":\"LinearAxis\"}],\"center\":[{\"id\":\"3213\",\"type\":\"Grid\"},{\"id\":\"3218\",\"type\":\"Grid\"},{\"id\":\"3243\",\"type\":\"Legend\"}],\"left\":[{\"id\":\"3214\",\"type\":\"LinearAxis\"}],\"plot_height\":500,\"plot_width\":800,\"renderers\":[{\"id\":\"3235\",\"type\":\"GlyphRenderer\"}],\"title\":null,\"toolbar\":{\"id\":\"3225\",\"type\":\"Toolbar\"},\"x_range\":{\"id\":\"3201\",\"type\":\"Range1d\"},\"x_scale\":{\"id\":\"3205\",\"type\":\"LinearScale\"},\"y_range\":{\"id\":\"3203\",\"type\":\"DataRange1d\"},\"y_scale\":{\"id\":\"3207\",\"type\":\"LinearScale\"}},\"id\":\"3199\",\"subtype\":\"Figure\",\"type\":\"Plot\"},{\"attributes\":{\"callback\":null},\"id\":\"3203\",\"type\":\"DataRange1d\"},{\"attributes\":{\"callback\":null,\"data\":{\"left\":[0.0,2.0,4.0,6.0,8.0,10.0,12.0,14.0,16.0,18.0,20.0,22.0,24.0,26.0,28.0,30.0,32.0,34.0,36.0,38.0,40.0,42.0,44.0,46.0,48.0,50.0,52.0,54.0,56.0,58.0,60.0,62.0,64.0,66.0,68.0,70.0,72.0,74.0,76.0,78.0,80.0,82.0,84.0,86.0,88.0,90.0,92.0,94.0,96.0,98.0],\"right\":[2.0,4.0,6.0,8.0,10.0,12.0,14.0,16.0,18.0,20.0,22.0,24.0,26.0,28.0,30.0,32.0,34.0,36.0,38.0,40.0,42.0,44.0,46.0,48.0,50.0,52.0,54.0,56.0,58.0,60.0,62.0,64.0,66.0,68.0,70.0,72.0,74.0,76.0,78.0,80.0,82.0,84.0,86.0,88.0,90.0,92.0,94.0,96.0,98.0,100.0],\"top\":[0,0,0,0,0,0,0,0,0,0,0,0,0,0,0,0,0,0,0,0,0,0,0,0,0,0,0,0,1,1,0,1,2,2,4,9,0,8,11,22,33,44,62,63,71,68,40,23,7,1]},\"selected\":{\"id\":\"3366\",\"type\":\"Selection\"},\"selection_policy\":{\"id\":\"3367\",\"type\":\"UnionRenderers\"}},\"id\":\"3232\",\"type\":\"ColumnDataSource\"},{\"attributes\":{},\"id\":\"3239\",\"type\":\"BasicTickFormatter\"},{\"attributes\":{},\"id\":\"3367\",\"type\":\"UnionRenderers\"},{\"attributes\":{\"active_drag\":\"auto\",\"active_inspect\":\"auto\",\"active_multi\":null,\"active_scroll\":\"auto\",\"active_tap\":\"auto\",\"tools\":[{\"id\":\"3219\",\"type\":\"PanTool\"},{\"id\":\"3220\",\"type\":\"WheelZoomTool\"},{\"id\":\"3221\",\"type\":\"BoxZoomTool\"},{\"id\":\"3222\",\"type\":\"SaveTool\"},{\"id\":\"3223\",\"type\":\"ResetTool\"},{\"id\":\"3224\",\"type\":\"HelpTool\"}]},\"id\":\"3225\",\"type\":\"Toolbar\"},{\"attributes\":{},\"id\":\"3210\",\"type\":\"BasicTicker\"},{\"attributes\":{\"dimension\":1,\"ticker\":{\"id\":\"3215\",\"type\":\"BasicTicker\"}},\"id\":\"3218\",\"type\":\"Grid\"},{\"attributes\":{\"callback\":null,\"end\":105.0,\"start\":-5.0},\"id\":\"3201\",\"type\":\"Range1d\"},{\"attributes\":{\"axis_label\":\"Mean Sample GQ\",\"formatter\":{\"id\":\"3241\",\"type\":\"BasicTickFormatter\"},\"ticker\":{\"id\":\"3210\",\"type\":\"BasicTicker\"}},\"id\":\"3209\",\"type\":\"LinearAxis\"},{\"attributes\":{\"bottom_units\":\"screen\",\"fill_alpha\":{\"value\":0.5},\"fill_color\":{\"value\":\"lightgrey\"},\"left_units\":\"screen\",\"level\":\"overlay\",\"line_alpha\":{\"value\":1.0},\"line_color\":{\"value\":\"black\"},\"line_dash\":[4,4],\"line_width\":{\"value\":2},\"render_mode\":\"css\",\"right_units\":\"screen\",\"top_units\":\"screen\"},\"id\":\"3242\",\"type\":\"BoxAnnotation\"},{\"attributes\":{},\"id\":\"3207\",\"type\":\"LinearScale\"},{\"attributes\":{},\"id\":\"3205\",\"type\":\"LinearScale\"},{\"attributes\":{\"bottom\":{\"value\":0},\"fill_alpha\":{\"value\":0.1},\"fill_color\":{\"value\":\"#1f77b4\"},\"left\":{\"field\":\"left\"},\"line_alpha\":{\"value\":0.1},\"line_color\":{\"value\":\"#1f77b4\"},\"right\":{\"field\":\"right\"},\"top\":{\"field\":\"top\"}},\"id\":\"3234\",\"type\":\"Quad\"},{\"attributes\":{},\"id\":\"3224\",\"type\":\"HelpTool\"},{\"attributes\":{\"data_source\":{\"id\":\"3232\",\"type\":\"ColumnDataSource\"},\"glyph\":{\"id\":\"3233\",\"type\":\"Quad\"},\"hover_glyph\":null,\"muted_glyph\":null,\"nonselection_glyph\":{\"id\":\"3234\",\"type\":\"Quad\"},\"selection_glyph\":null,\"view\":{\"id\":\"3236\",\"type\":\"CDSView\"}},\"id\":\"3235\",\"type\":\"GlyphRenderer\"},{\"attributes\":{},\"id\":\"3366\",\"type\":\"Selection\"},{\"attributes\":{\"source\":{\"id\":\"3232\",\"type\":\"ColumnDataSource\"}},\"id\":\"3236\",\"type\":\"CDSView\"},{\"attributes\":{},\"id\":\"3222\",\"type\":\"SaveTool\"},{\"attributes\":{\"items\":[{\"id\":\"3244\",\"type\":\"LegendItem\"}]},\"id\":\"3243\",\"type\":\"Legend\"},{\"attributes\":{\"overlay\":{\"id\":\"3242\",\"type\":\"BoxAnnotation\"}},\"id\":\"3221\",\"type\":\"BoxZoomTool\"},{\"attributes\":{},\"id\":\"3219\",\"type\":\"PanTool\"},{\"attributes\":{},\"id\":\"3223\",\"type\":\"ResetTool\"},{\"attributes\":{\"axis_label\":\"Frequency\",\"formatter\":{\"id\":\"3239\",\"type\":\"BasicTickFormatter\"},\"ticker\":{\"id\":\"3215\",\"type\":\"BasicTicker\"}},\"id\":\"3214\",\"type\":\"LinearAxis\"},{\"attributes\":{\"ticker\":{\"id\":\"3210\",\"type\":\"BasicTicker\"}},\"id\":\"3213\",\"type\":\"Grid\"},{\"attributes\":{\"bottom\":{\"value\":0},\"fill_color\":{\"value\":\"#1f77b4\"},\"left\":{\"field\":\"left\"},\"right\":{\"field\":\"right\"},\"top\":{\"field\":\"top\"}},\"id\":\"3233\",\"type\":\"Quad\"},{\"attributes\":{},\"id\":\"3215\",\"type\":\"BasicTicker\"},{\"attributes\":{},\"id\":\"3241\",\"type\":\"BasicTickFormatter\"},{\"attributes\":{},\"id\":\"3220\",\"type\":\"WheelZoomTool\"},{\"attributes\":{\"label\":{\"value\":\"Mean Sample GQ\"},\"renderers\":[{\"id\":\"3235\",\"type\":\"GlyphRenderer\"}]},\"id\":\"3244\",\"type\":\"LegendItem\"}],\"root_ids\":[\"3199\"]},\"title\":\"Bokeh Application\",\"version\":\"1.2.0\"}};\n",
       "  var render_items = [{\"docid\":\"bc52a6fa-362a-4c38-8403-dde50f845893\",\"roots\":{\"3199\":\"ead6fdb2-92a2-4e2f-8c22-e1f7c5601990\"}}];\n",
       "  root.Bokeh.embed.embed_items_notebook(docs_json, render_items);\n",
       "\n",
       "  }\n",
       "  if (root.Bokeh !== undefined) {\n",
       "    embed_document(root);\n",
       "  } else {\n",
       "    var attempts = 0;\n",
       "    var timer = setInterval(function(root) {\n",
       "      if (root.Bokeh !== undefined) {\n",
       "        embed_document(root);\n",
       "        clearInterval(timer);\n",
       "      }\n",
       "      attempts++;\n",
       "      if (attempts > 100) {\n",
       "        console.log(\"Bokeh: ERROR: Unable to run BokehJS code because BokehJS library is missing\");\n",
       "        clearInterval(timer);\n",
       "      }\n",
       "    }, 10, root)\n",
       "  }\n",
       "})(window);"
      ],
      "application/vnd.bokehjs_exec.v0+json": ""
     },
     "metadata": {
      "application/vnd.bokehjs_exec.v0+json": {
       "id": "3199"
      }
     },
     "output_type": "display_data"
    }
   ],
   "source": [
    "p = hl.plot.histogram(mt.sample_qc.gq_stats.mean, range=(0,100), legend='Mean Sample GQ')\n",
    "p.plot_width = 800\n",
    "p.plot_height = 500\n",
    "show(p)"
   ]
  },
  {
   "cell_type": "code",
   "execution_count": 66,
   "id": "manufactured-guidance",
   "metadata": {},
   "outputs": [
    {
     "name": "stderr",
     "output_type": "stream",
     "text": [
      "[Stage 58:====================================================>   (15 + 1) / 16]"
     ]
    },
    {
     "data": {
      "text/html": [
       "\n",
       "\n",
       "\n",
       "\n",
       "\n",
       "\n",
       "  <div class=\"bk-root\" id=\"1f64dc80-d159-4c19-af72-5a5f0d9d08f6\" data-root-id=\"3417\"></div>\n"
      ]
     },
     "metadata": {},
     "output_type": "display_data"
    },
    {
     "data": {
      "application/javascript": [
       "(function(root) {\n",
       "  function embed_document(root) {\n",
       "    \n",
       "  var docs_json = {\"8a193cf8-6ea1-4c8a-8932-f91392b052b8\":{\"roots\":{\"references\":[{\"attributes\":{\"background_fill_color\":{\"value\":\"#EEEEEE\"},\"below\":[{\"id\":\"3427\",\"type\":\"LinearAxis\"}],\"center\":[{\"id\":\"3431\",\"type\":\"Grid\"},{\"id\":\"3436\",\"type\":\"Grid\"},{\"id\":\"3461\",\"type\":\"Legend\"}],\"left\":[{\"id\":\"3432\",\"type\":\"LinearAxis\"}],\"plot_height\":500,\"plot_width\":800,\"renderers\":[{\"id\":\"3453\",\"type\":\"GlyphRenderer\"},{\"id\":\"3466\",\"type\":\"GlyphRenderer\"}],\"title\":null,\"toolbar\":{\"id\":\"3443\",\"type\":\"Toolbar\"},\"x_range\":{\"id\":\"3419\",\"type\":\"Range1d\"},\"x_scale\":{\"id\":\"3423\",\"type\":\"LinearScale\"},\"y_range\":{\"id\":\"3421\",\"type\":\"DataRange1d\"},\"y_scale\":{\"id\":\"3425\",\"type\":\"LinearScale\"}},\"id\":\"3417\",\"subtype\":\"Figure\",\"type\":\"Plot\"},{\"attributes\":{},\"id\":\"3425\",\"type\":\"LinearScale\"},{\"attributes\":{\"source\":{\"id\":\"3450\",\"type\":\"ColumnDataSource\"}},\"id\":\"3454\",\"type\":\"CDSView\"},{\"attributes\":{\"callback\":null,\"data\":{\"left\":[0.0,1.2,2.4,3.5999999999999996,4.8,6.0,7.199999999999999,8.4,9.6,10.799999999999999,12.0,13.2,14.399999999999999,15.6,16.8,18.0,19.2,20.4,21.599999999999998,22.8,24.0,25.2,26.4,27.599999999999998,28.799999999999997,30.0,31.2,32.4,33.6,34.8,36.0,37.199999999999996,38.4,39.6,40.8,42.0,43.199999999999996,44.4,45.6,46.8,48.0,49.199999999999996,50.4,51.6,52.8,54.0,55.199999999999996,56.4,57.599999999999994,58.8],\"right\":[1.2,2.4,3.5999999999999996,4.8,6.0,7.199999999999999,8.4,9.6,10.799999999999999,12.0,13.2,14.399999999999999,15.6,16.8,18.0,19.2,20.4,21.599999999999998,22.8,24.0,25.2,26.4,27.599999999999998,28.799999999999997,30.0,31.2,32.4,33.6,34.8,36.0,37.199999999999996,38.4,39.6,40.8,42.0,43.199999999999996,44.4,45.6,46.8,48.0,49.199999999999996,50.4,51.6,52.8,54.0,55.199999999999996,56.4,57.599999999999994,58.8,60.0],\"top\":[0,0,0,0,0,0,0,0,0,0,0,0,1,0,1,2,2,3,4,4,3,3,5,8,16,6,11,13,19,14,12,17,21,14,29,14,21,22,17,20,21,13,19,10,9,12,9,11,7,2]},\"selected\":{\"id\":\"3473\",\"type\":\"Selection\"},\"selection_policy\":{\"id\":\"3474\",\"type\":\"UnionRenderers\"}},\"id\":\"3450\",\"type\":\"ColumnDataSource\"},{\"attributes\":{},\"id\":\"3441\",\"type\":\"ResetTool\"},{\"attributes\":{\"data_source\":{\"id\":\"3450\",\"type\":\"ColumnDataSource\"},\"glyph\":{\"id\":\"3451\",\"type\":\"Quad\"},\"hover_glyph\":null,\"muted_glyph\":null,\"nonselection_glyph\":{\"id\":\"3452\",\"type\":\"Quad\"},\"selection_glyph\":null,\"view\":{\"id\":\"3454\",\"type\":\"CDSView\"}},\"id\":\"3453\",\"type\":\"GlyphRenderer\"},{\"attributes\":{\"active_drag\":\"auto\",\"active_inspect\":\"auto\",\"active_multi\":null,\"active_scroll\":\"auto\",\"active_tap\":\"auto\",\"tools\":[{\"id\":\"3437\",\"type\":\"PanTool\"},{\"id\":\"3438\",\"type\":\"WheelZoomTool\"},{\"id\":\"3439\",\"type\":\"BoxZoomTool\"},{\"id\":\"3440\",\"type\":\"SaveTool\"},{\"id\":\"3441\",\"type\":\"ResetTool\"},{\"id\":\"3442\",\"type\":\"HelpTool\"}]},\"id\":\"3443\",\"type\":\"Toolbar\"},{\"attributes\":{},\"id\":\"3473\",\"type\":\"Selection\"},{\"attributes\":{\"label\":{\"value\":\"Outliers Above\"},\"renderers\":[{\"id\":\"3466\",\"type\":\"GlyphRenderer\"}]},\"id\":\"3476\",\"type\":\"LegendItem\"},{\"attributes\":{\"axis_label\":\"Mean Sample DP\",\"formatter\":{\"id\":\"3459\",\"type\":\"BasicTickFormatter\"},\"ticker\":{\"id\":\"3428\",\"type\":\"BasicTicker\"}},\"id\":\"3427\",\"type\":\"LinearAxis\"},{\"attributes\":{\"source\":{\"id\":\"3463\",\"type\":\"ColumnDataSource\"}},\"id\":\"3467\",\"type\":\"CDSView\"},{\"attributes\":{\"axis_label\":\"Frequency\",\"formatter\":{\"id\":\"3457\",\"type\":\"BasicTickFormatter\"},\"ticker\":{\"id\":\"3433\",\"type\":\"BasicTicker\"}},\"id\":\"3432\",\"type\":\"LinearAxis\"},{\"attributes\":{\"callback\":null,\"end\":63.0,\"start\":-3.0},\"id\":\"3419\",\"type\":\"Range1d\"},{\"attributes\":{},\"id\":\"3442\",\"type\":\"HelpTool\"},{\"attributes\":{\"callback\":null,\"data\":{},\"selected\":{\"id\":\"3608\",\"type\":\"Selection\"},\"selection_policy\":{\"id\":\"3609\",\"type\":\"UnionRenderers\"}},\"id\":\"3463\",\"type\":\"ColumnDataSource\"},{\"attributes\":{\"bottom_units\":\"screen\",\"fill_alpha\":{\"value\":0.5},\"fill_color\":{\"value\":\"lightgrey\"},\"left_units\":\"screen\",\"level\":\"overlay\",\"line_alpha\":{\"value\":1.0},\"line_color\":{\"value\":\"black\"},\"line_dash\":[4,4],\"line_width\":{\"value\":2},\"render_mode\":\"css\",\"right_units\":\"screen\",\"top_units\":\"screen\"},\"id\":\"3460\",\"type\":\"BoxAnnotation\"},{\"attributes\":{\"bottom\":{\"value\":0},\"fill_alpha\":{\"value\":0.1},\"fill_color\":{\"value\":\"#1f77b4\"},\"left\":{\"value\":60.0},\"line_alpha\":{\"value\":0.1},\"line_color\":{\"value\":\"#1f77b4\"},\"right\":{\"value\":61.2},\"top\":{\"value\":58}},\"id\":\"3465\",\"type\":\"Quad\"},{\"attributes\":{},\"id\":\"3474\",\"type\":\"UnionRenderers\"},{\"attributes\":{},\"id\":\"3457\",\"type\":\"BasicTickFormatter\"},{\"attributes\":{},\"id\":\"3433\",\"type\":\"BasicTicker\"},{\"attributes\":{\"data_source\":{\"id\":\"3463\",\"type\":\"ColumnDataSource\"},\"glyph\":{\"id\":\"3464\",\"type\":\"Quad\"},\"hover_glyph\":null,\"muted_glyph\":null,\"nonselection_glyph\":{\"id\":\"3465\",\"type\":\"Quad\"},\"selection_glyph\":null,\"view\":{\"id\":\"3467\",\"type\":\"CDSView\"}},\"id\":\"3466\",\"type\":\"GlyphRenderer\"},{\"attributes\":{},\"id\":\"3608\",\"type\":\"Selection\"},{\"attributes\":{\"callback\":null},\"id\":\"3421\",\"type\":\"DataRange1d\"},{\"attributes\":{},\"id\":\"3440\",\"type\":\"SaveTool\"},{\"attributes\":{\"bottom\":{\"value\":0},\"fill_alpha\":{\"value\":0.1},\"fill_color\":{\"value\":\"#1f77b4\"},\"left\":{\"field\":\"left\"},\"line_alpha\":{\"value\":0.1},\"line_color\":{\"value\":\"#1f77b4\"},\"right\":{\"field\":\"right\"},\"top\":{\"field\":\"top\"}},\"id\":\"3452\",\"type\":\"Quad\"},{\"attributes\":{},\"id\":\"3423\",\"type\":\"LinearScale\"},{\"attributes\":{\"bottom\":{\"value\":0},\"fill_color\":{\"value\":\"#1f77b4\"},\"left\":{\"field\":\"left\"},\"right\":{\"field\":\"right\"},\"top\":{\"field\":\"top\"}},\"id\":\"3451\",\"type\":\"Quad\"},{\"attributes\":{},\"id\":\"3437\",\"type\":\"PanTool\"},{\"attributes\":{},\"id\":\"3609\",\"type\":\"UnionRenderers\"},{\"attributes\":{},\"id\":\"3428\",\"type\":\"BasicTicker\"},{\"attributes\":{\"label\":{\"value\":\"Mean Sample DP\"},\"renderers\":[{\"id\":\"3453\",\"type\":\"GlyphRenderer\"}]},\"id\":\"3462\",\"type\":\"LegendItem\"},{\"attributes\":{\"bottom\":{\"value\":0},\"fill_color\":{\"value\":\"green\"},\"left\":{\"value\":60.0},\"right\":{\"value\":61.2},\"top\":{\"value\":58}},\"id\":\"3464\",\"type\":\"Quad\"},{\"attributes\":{\"items\":[{\"id\":\"3462\",\"type\":\"LegendItem\"},{\"id\":\"3476\",\"type\":\"LegendItem\"}]},\"id\":\"3461\",\"type\":\"Legend\"},{\"attributes\":{\"dimension\":1,\"ticker\":{\"id\":\"3433\",\"type\":\"BasicTicker\"}},\"id\":\"3436\",\"type\":\"Grid\"},{\"attributes\":{\"ticker\":{\"id\":\"3428\",\"type\":\"BasicTicker\"}},\"id\":\"3431\",\"type\":\"Grid\"},{\"attributes\":{\"overlay\":{\"id\":\"3460\",\"type\":\"BoxAnnotation\"}},\"id\":\"3439\",\"type\":\"BoxZoomTool\"},{\"attributes\":{},\"id\":\"3459\",\"type\":\"BasicTickFormatter\"},{\"attributes\":{},\"id\":\"3438\",\"type\":\"WheelZoomTool\"}],\"root_ids\":[\"3417\"]},\"title\":\"Bokeh Application\",\"version\":\"1.2.0\"}};\n",
       "  var render_items = [{\"docid\":\"8a193cf8-6ea1-4c8a-8932-f91392b052b8\",\"roots\":{\"3417\":\"1f64dc80-d159-4c19-af72-5a5f0d9d08f6\"}}];\n",
       "  root.Bokeh.embed.embed_items_notebook(docs_json, render_items);\n",
       "\n",
       "  }\n",
       "  if (root.Bokeh !== undefined) {\n",
       "    embed_document(root);\n",
       "  } else {\n",
       "    var attempts = 0;\n",
       "    var timer = setInterval(function(root) {\n",
       "      if (root.Bokeh !== undefined) {\n",
       "        embed_document(root);\n",
       "        clearInterval(timer);\n",
       "      }\n",
       "      attempts++;\n",
       "      if (attempts > 100) {\n",
       "        console.log(\"Bokeh: ERROR: Unable to run BokehJS code because BokehJS library is missing\");\n",
       "        clearInterval(timer);\n",
       "      }\n",
       "    }, 10, root)\n",
       "  }\n",
       "})(window);"
      ],
      "application/vnd.bokehjs_exec.v0+json": ""
     },
     "metadata": {
      "application/vnd.bokehjs_exec.v0+json": {
       "id": "3417"
      }
     },
     "output_type": "display_data"
    }
   ],
   "source": [
    "p = hl.plot.histogram(mt.sample_qc.dp_stats.mean, range=(0,60), legend='Mean Sample DP')\n",
    "p.plot_width = 800\n",
    "p.plot_height = 500\n",
    "show(p)"
   ]
  },
  {
   "cell_type": "markdown",
   "id": "dcd465d8-a592-4f6c-adac-68228767c8c0",
   "metadata": {},
   "source": [
    "Below is a histogram of the heterozygote/homozygote ratio."
   ]
  },
  {
   "cell_type": "code",
   "execution_count": 67,
   "id": "outstanding-mississippi",
   "metadata": {},
   "outputs": [
    {
     "name": "stderr",
     "output_type": "stream",
     "text": [
      "[Stage 62:====================================================>   (15 + 1) / 16]"
     ]
    },
    {
     "data": {
      "text/html": [
       "\n",
       "\n",
       "\n",
       "\n",
       "\n",
       "\n",
       "  <div class=\"bk-root\" id=\"6b9625db-b420-4a65-a5dd-1aa03347d17a\" data-root-id=\"3671\"></div>\n"
      ]
     },
     "metadata": {},
     "output_type": "display_data"
    },
    {
     "data": {
      "application/javascript": [
       "(function(root) {\n",
       "  function embed_document(root) {\n",
       "    \n",
       "  var docs_json = {\"49ea6b4a-9f4b-4b3f-8b9f-1be4f4dec2f3\":{\"roots\":{\"references\":[{\"attributes\":{\"background_fill_color\":{\"value\":\"#EEEEEE\"},\"below\":[{\"id\":\"3681\",\"type\":\"LinearAxis\"}],\"center\":[{\"id\":\"3685\",\"type\":\"Grid\"},{\"id\":\"3690\",\"type\":\"Grid\"},{\"id\":\"3715\",\"type\":\"Legend\"}],\"left\":[{\"id\":\"3686\",\"type\":\"LinearAxis\"}],\"plot_height\":500,\"plot_width\":800,\"renderers\":[{\"id\":\"3707\",\"type\":\"GlyphRenderer\"}],\"title\":null,\"toolbar\":{\"id\":\"3697\",\"type\":\"Toolbar\"},\"x_range\":{\"id\":\"3673\",\"type\":\"Range1d\"},\"x_scale\":{\"id\":\"3677\",\"type\":\"LinearScale\"},\"y_range\":{\"id\":\"3675\",\"type\":\"DataRange1d\"},\"y_scale\":{\"id\":\"3679\",\"type\":\"LinearScale\"}},\"id\":\"3671\",\"subtype\":\"Figure\",\"type\":\"Plot\"},{\"attributes\":{\"items\":[{\"id\":\"3716\",\"type\":\"LegendItem\"}]},\"id\":\"3715\",\"type\":\"Legend\"},{\"attributes\":{},\"id\":\"3856\",\"type\":\"Selection\"},{\"attributes\":{},\"id\":\"3713\",\"type\":\"BasicTickFormatter\"},{\"attributes\":{\"callback\":null,\"end\":1.6863448679085848,\"start\":0.7067753911846375},\"id\":\"3673\",\"type\":\"Range1d\"},{\"attributes\":{},\"id\":\"3711\",\"type\":\"BasicTickFormatter\"},{\"attributes\":{\"ticker\":{\"id\":\"3682\",\"type\":\"BasicTicker\"}},\"id\":\"3685\",\"type\":\"Grid\"},{\"attributes\":{\"data_source\":{\"id\":\"3704\",\"type\":\"ColumnDataSource\"},\"glyph\":{\"id\":\"3705\",\"type\":\"Quad\"},\"hover_glyph\":null,\"muted_glyph\":null,\"nonselection_glyph\":{\"id\":\"3706\",\"type\":\"Quad\"},\"selection_glyph\":null,\"view\":{\"id\":\"3708\",\"type\":\"CDSView\"}},\"id\":\"3707\",\"type\":\"GlyphRenderer\"},{\"attributes\":{\"bottom_units\":\"screen\",\"fill_alpha\":{\"value\":0.5},\"fill_color\":{\"value\":\"lightgrey\"},\"left_units\":\"screen\",\"level\":\"overlay\",\"line_alpha\":{\"value\":1.0},\"line_color\":{\"value\":\"black\"},\"line_dash\":[4,4],\"line_width\":{\"value\":2},\"render_mode\":\"css\",\"right_units\":\"screen\",\"top_units\":\"screen\"},\"id\":\"3714\",\"type\":\"BoxAnnotation\"},{\"attributes\":{\"bottom\":{\"value\":0},\"fill_alpha\":{\"value\":0.1},\"fill_color\":{\"value\":\"#1f77b4\"},\"left\":{\"field\":\"left\"},\"line_alpha\":{\"value\":0.1},\"line_color\":{\"value\":\"#1f77b4\"},\"right\":{\"field\":\"right\"},\"top\":{\"field\":\"top\"}},\"id\":\"3706\",\"type\":\"Quad\"},{\"attributes\":{},\"id\":\"3677\",\"type\":\"LinearScale\"},{\"attributes\":{\"label\":{\"value\":\"Het/hom rate\"},\"renderers\":[{\"id\":\"3707\",\"type\":\"GlyphRenderer\"}]},\"id\":\"3716\",\"type\":\"LegendItem\"},{\"attributes\":{},\"id\":\"3691\",\"type\":\"PanTool\"},{\"attributes\":{},\"id\":\"3695\",\"type\":\"ResetTool\"},{\"attributes\":{\"axis_label\":\"Frequency\",\"formatter\":{\"id\":\"3711\",\"type\":\"BasicTickFormatter\"},\"ticker\":{\"id\":\"3687\",\"type\":\"BasicTicker\"}},\"id\":\"3686\",\"type\":\"LinearAxis\"},{\"attributes\":{\"axis_label\":\"Het/hom rate\",\"formatter\":{\"id\":\"3713\",\"type\":\"BasicTickFormatter\"},\"ticker\":{\"id\":\"3682\",\"type\":\"BasicTicker\"}},\"id\":\"3681\",\"type\":\"LinearAxis\"},{\"attributes\":{},\"id\":\"3687\",\"type\":\"BasicTicker\"},{\"attributes\":{},\"id\":\"3857\",\"type\":\"UnionRenderers\"},{\"attributes\":{\"dimension\":1,\"ticker\":{\"id\":\"3687\",\"type\":\"BasicTicker\"}},\"id\":\"3690\",\"type\":\"Grid\"},{\"attributes\":{},\"id\":\"3692\",\"type\":\"WheelZoomTool\"},{\"attributes\":{},\"id\":\"3694\",\"type\":\"SaveTool\"},{\"attributes\":{},\"id\":\"3682\",\"type\":\"BasicTicker\"},{\"attributes\":{\"source\":{\"id\":\"3704\",\"type\":\"ColumnDataSource\"}},\"id\":\"3708\",\"type\":\"CDSView\"},{\"attributes\":{},\"id\":\"3679\",\"type\":\"LinearScale\"},{\"attributes\":{\"callback\":null,\"data\":{\"left\":[0.7513012764902715,0.7691116306125251,0.7869219847347786,0.8047323388570322,0.8225426929792858,0.8403530471015394,0.858163401223793,0.8759737553460466,0.8937841094683001,0.9115944635905537,0.9294048177128074,0.9472151718350609,0.9650255259573145,0.982835880079568,1.0006462342018216,1.0184565883240753,1.0362669424463289,1.0540772965685825,1.0718876506908361,1.0896980048130895,1.1075083589353432,1.1253187130575968,1.1431290671798504,1.1609394213021038,1.1787497754243574,1.196560129546611,1.2143704836688647,1.2321808377911183,1.249991191913372,1.2678015460356256,1.2856119001578792,1.3034222542801326,1.3212326084023862,1.3390429625246398,1.3568533166468932,1.3746636707691469,1.3924740248914005,1.410284379013654,1.4280947331359077,1.4459050872581614,1.463715441380415,1.4815257955026686,1.4993361496249222,1.5171465037471756,1.5349568578694293,1.5527672119916829,1.5705775661139363,1.58838792023619,1.6061982743584435,1.6240086284806972],\"right\":[0.7691116306125251,0.7869219847347786,0.8047323388570322,0.8225426929792858,0.8403530471015394,0.858163401223793,0.8759737553460466,0.8937841094683001,0.9115944635905537,0.9294048177128074,0.9472151718350609,0.9650255259573145,0.982835880079568,1.0006462342018216,1.0184565883240753,1.0362669424463289,1.0540772965685825,1.0718876506908361,1.0896980048130895,1.1075083589353432,1.1253187130575968,1.1431290671798504,1.1609394213021038,1.1787497754243574,1.196560129546611,1.2143704836688647,1.2321808377911183,1.249991191913372,1.2678015460356256,1.2856119001578792,1.3034222542801326,1.3212326084023862,1.3390429625246398,1.3568533166468932,1.3746636707691469,1.3924740248914005,1.410284379013654,1.4280947331359077,1.4459050872581614,1.463715441380415,1.4815257955026686,1.4993361496249222,1.5171465037471756,1.5349568578694293,1.5527672119916829,1.5705775661139363,1.58838792023619,1.6061982743584435,1.6240086284806972,1.6418189826029508],\"top\":[2,1,0,0,7,15,66,104,115,63,50,14,8,8,6,3,2,1,0,2,0,0,0,1,0,0,0,0,0,0,0,0,0,0,0,0,0,0,0,0,0,0,0,1,2,0,0,0,1,1]},\"selected\":{\"id\":\"3856\",\"type\":\"Selection\"},\"selection_policy\":{\"id\":\"3857\",\"type\":\"UnionRenderers\"}},\"id\":\"3704\",\"type\":\"ColumnDataSource\"},{\"attributes\":{\"active_drag\":\"auto\",\"active_inspect\":\"auto\",\"active_multi\":null,\"active_scroll\":\"auto\",\"active_tap\":\"auto\",\"tools\":[{\"id\":\"3691\",\"type\":\"PanTool\"},{\"id\":\"3692\",\"type\":\"WheelZoomTool\"},{\"id\":\"3693\",\"type\":\"BoxZoomTool\"},{\"id\":\"3694\",\"type\":\"SaveTool\"},{\"id\":\"3695\",\"type\":\"ResetTool\"},{\"id\":\"3696\",\"type\":\"HelpTool\"}]},\"id\":\"3697\",\"type\":\"Toolbar\"},{\"attributes\":{\"bottom\":{\"value\":0},\"fill_color\":{\"value\":\"#1f77b4\"},\"left\":{\"field\":\"left\"},\"right\":{\"field\":\"right\"},\"top\":{\"field\":\"top\"}},\"id\":\"3705\",\"type\":\"Quad\"},{\"attributes\":{},\"id\":\"3696\",\"type\":\"HelpTool\"},{\"attributes\":{\"callback\":null},\"id\":\"3675\",\"type\":\"DataRange1d\"},{\"attributes\":{\"overlay\":{\"id\":\"3714\",\"type\":\"BoxAnnotation\"}},\"id\":\"3693\",\"type\":\"BoxZoomTool\"}],\"root_ids\":[\"3671\"]},\"title\":\"Bokeh Application\",\"version\":\"1.2.0\"}};\n",
       "  var render_items = [{\"docid\":\"49ea6b4a-9f4b-4b3f-8b9f-1be4f4dec2f3\",\"roots\":{\"3671\":\"6b9625db-b420-4a65-a5dd-1aa03347d17a\"}}];\n",
       "  root.Bokeh.embed.embed_items_notebook(docs_json, render_items);\n",
       "\n",
       "  }\n",
       "  if (root.Bokeh !== undefined) {\n",
       "    embed_document(root);\n",
       "  } else {\n",
       "    var attempts = 0;\n",
       "    var timer = setInterval(function(root) {\n",
       "      if (root.Bokeh !== undefined) {\n",
       "        embed_document(root);\n",
       "        clearInterval(timer);\n",
       "      }\n",
       "      attempts++;\n",
       "      if (attempts > 100) {\n",
       "        console.log(\"Bokeh: ERROR: Unable to run BokehJS code because BokehJS library is missing\");\n",
       "        clearInterval(timer);\n",
       "      }\n",
       "    }, 10, root)\n",
       "  }\n",
       "})(window);"
      ],
      "application/vnd.bokehjs_exec.v0+json": ""
     },
     "metadata": {
      "application/vnd.bokehjs_exec.v0+json": {
       "id": "3671"
      }
     },
     "output_type": "display_data"
    }
   ],
   "source": [
    "p = hl.plot.histogram(mt.sample_qc.r_het_hom_var, legend='Het/hom rate')\n",
    "p.plot_width = 800\n",
    "p.plot_height = 500\n",
    "show(p)"
   ]
  },
  {
   "cell_type": "markdown",
   "id": "controlling-reconstruction",
   "metadata": {},
   "source": [
    "Looks like there are a few samples with a lot higher het/hom rate than the rest of the samples. Let's check whether this is due to poor coverage."
   ]
  },
  {
   "cell_type": "code",
   "execution_count": 68,
   "id": "standing-flavor",
   "metadata": {},
   "outputs": [],
   "source": [
    "het_hom_thres = 1.4\n",
    "mt = mt.annotate_cols(high_hom_het=mt.sample_qc.r_het_hom_var > het_hom_thres)"
   ]
  },
  {
   "cell_type": "code",
   "execution_count": 69,
   "id": "wooden-aging",
   "metadata": {},
   "outputs": [
    {
     "name": "stderr",
     "output_type": "stream",
     "text": [
      "[Stage 64:=================================================>      (14 + 2) / 16]"
     ]
    },
    {
     "data": {
      "text/html": [
       "\n",
       "\n",
       "\n",
       "\n",
       "\n",
       "\n",
       "  <div class=\"bk-root\" id=\"f29825de-3b86-4412-a5f5-daddce6b57a8\" data-root-id=\"3907\"></div>\n"
      ]
     },
     "metadata": {},
     "output_type": "display_data"
    },
    {
     "data": {
      "application/javascript": [
       "(function(root) {\n",
       "  function embed_document(root) {\n",
       "    \n",
       "  var docs_json = {\"fe004f61-fbaf-4c07-9bb6-2705e33e7141\":{\"roots\":{\"references\":[{\"attributes\":{\"below\":[{\"id\":\"3917\",\"type\":\"LinearAxis\"}],\"center\":[{\"id\":\"3921\",\"type\":\"Grid\"},{\"id\":\"3926\",\"type\":\"Grid\"}],\"left\":[{\"id\":\"3922\",\"type\":\"LinearAxis\"},{\"id\":\"3958\",\"type\":\"Legend\"},{\"id\":\"3959\",\"type\":\"ColorBar\"}],\"plot_height\":600,\"plot_width\":600,\"renderers\":[{\"id\":\"3949\",\"type\":\"GlyphRenderer\"},{\"id\":\"3955\",\"type\":\"GlyphRenderer\"}],\"title\":null,\"toolbar\":{\"id\":\"3933\",\"type\":\"Toolbar\"},\"x_range\":{\"id\":\"3909\",\"type\":\"DataRange1d\"},\"x_scale\":{\"id\":\"3913\",\"type\":\"LinearScale\"},\"y_range\":{\"id\":\"3911\",\"type\":\"DataRange1d\"},\"y_scale\":{\"id\":\"3915\",\"type\":\"LinearScale\"}},\"id\":\"3907\",\"subtype\":\"Figure\",\"type\":\"Plot\"},{\"attributes\":{\"data_source\":{\"id\":\"3942\",\"type\":\"ColumnDataSource\"},\"glyph\":{\"id\":\"3953\",\"type\":\"Circle\"},\"hover_glyph\":null,\"muted_glyph\":null,\"nonselection_glyph\":{\"id\":\"3954\",\"type\":\"Circle\"},\"selection_glyph\":null,\"view\":{\"id\":\"3951\",\"type\":\"CDSView\"}},\"id\":\"3955\",\"type\":\"GlyphRenderer\"},{\"attributes\":{\"column_name\":\"label\",\"group\":\"true\"},\"id\":\"3950\",\"type\":\"GroupFilter\"},{\"attributes\":{\"fill_color\":{\"field\":\"label\",\"transform\":{\"id\":\"3943\",\"type\":\"CategoricalColorMapper\"}},\"line_color\":{\"field\":\"label\",\"transform\":{\"id\":\"3943\",\"type\":\"CategoricalColorMapper\"}},\"x\":{\"field\":\"x\"},\"y\":{\"field\":\"y\"}},\"id\":\"3947\",\"type\":\"Circle\"},{\"attributes\":{\"fill_alpha\":{\"value\":0.1},\"fill_color\":{\"value\":\"#1f77b4\"},\"line_alpha\":{\"value\":0.1},\"line_color\":{\"value\":\"#1f77b4\"},\"x\":{\"field\":\"x\"},\"y\":{\"field\":\"y\"}},\"id\":\"3954\",\"type\":\"Circle\"},{\"attributes\":{},\"id\":\"3927\",\"type\":\"PanTool\"},{\"attributes\":{\"data_source\":{\"id\":\"3942\",\"type\":\"ColumnDataSource\"},\"glyph\":{\"id\":\"3947\",\"type\":\"Circle\"},\"hover_glyph\":null,\"muted_glyph\":null,\"nonselection_glyph\":{\"id\":\"3948\",\"type\":\"Circle\"},\"selection_glyph\":null,\"view\":{\"id\":\"3945\",\"type\":\"CDSView\"}},\"id\":\"3949\",\"type\":\"GlyphRenderer\"},{\"attributes\":{},\"id\":\"3918\",\"type\":\"BasicTicker\"},{\"attributes\":{},\"id\":\"4105\",\"type\":\"BasicTicker\"},{\"attributes\":{\"bottom_units\":\"screen\",\"fill_alpha\":{\"value\":0.5},\"fill_color\":{\"value\":\"lightgrey\"},\"left_units\":\"screen\",\"level\":\"overlay\",\"line_alpha\":{\"value\":1.0},\"line_color\":{\"value\":\"black\"},\"line_dash\":[4,4],\"line_width\":{\"value\":2},\"render_mode\":\"css\",\"right_units\":\"screen\",\"top_units\":\"screen\"},\"id\":\"4111\",\"type\":\"BoxAnnotation\"},{\"attributes\":{\"overlay\":{\"id\":\"4111\",\"type\":\"BoxAnnotation\"}},\"id\":\"3929\",\"type\":\"BoxZoomTool\"},{\"attributes\":{},\"id\":\"3931\",\"type\":\"ResetTool\"},{\"attributes\":{\"callback\":null,\"tooltips\":[[\"x\",\"@x\"],[\"y\",\"@y\"],[\"Sample\",\"@Sample\"],[\"label\",\"@label\"]]},\"id\":\"3941\",\"type\":\"HoverTool\"},{\"attributes\":{\"ticker\":{\"id\":\"3918\",\"type\":\"BasicTicker\"}},\"id\":\"3921\",\"type\":\"Grid\"},{\"attributes\":{},\"id\":\"4104\",\"type\":\"BasicTickFormatter\"},{\"attributes\":{\"callback\":null},\"id\":\"3911\",\"type\":\"DataRange1d\"},{\"attributes\":{},\"id\":\"3913\",\"type\":\"LinearScale\"},{\"attributes\":{},\"id\":\"4106\",\"type\":\"BasicTickFormatter\"},{\"attributes\":{\"column_name\":\"label\",\"group\":\"false\"},\"id\":\"3944\",\"type\":\"GroupFilter\"},{\"attributes\":{},\"id\":\"4109\",\"type\":\"Selection\"},{\"attributes\":{\"axis_label\":\"het/hom rate\",\"formatter\":{\"id\":\"4104\",\"type\":\"BasicTickFormatter\"},\"ticker\":{\"id\":\"3923\",\"type\":\"BasicTicker\"}},\"id\":\"3922\",\"type\":\"LinearAxis\"},{\"attributes\":{},\"id\":\"4110\",\"type\":\"UnionRenderers\"},{\"attributes\":{},\"id\":\"3923\",\"type\":\"BasicTicker\"},{\"attributes\":{\"click_policy\":\"hide\",\"items\":[{\"id\":\"3956\",\"type\":\"LegendItem\"},{\"id\":\"3957\",\"type\":\"LegendItem\"}]},\"id\":\"3958\",\"type\":\"Legend\"},{\"attributes\":{\"axis_label\":\"DP mean\",\"formatter\":{\"id\":\"4108\",\"type\":\"BasicTickFormatter\"},\"ticker\":{\"id\":\"3918\",\"type\":\"BasicTicker\"}},\"id\":\"3917\",\"type\":\"LinearAxis\"},{\"attributes\":{\"dimension\":1,\"ticker\":{\"id\":\"3923\",\"type\":\"BasicTicker\"}},\"id\":\"3926\",\"type\":\"Grid\"},{\"attributes\":{\"factors\":[\"true\",\"false\"],\"palette\":[\"#1f77b4\",\"#ff7f0e\",\"#2ca02c\",\"#d62728\",\"#9467bd\",\"#8c564b\",\"#e377c2\",\"#7f7f7f\",\"#bcbd22\",\"#17becf\"]},\"id\":\"3943\",\"type\":\"CategoricalColorMapper\"},{\"attributes\":{\"filters\":[{\"id\":\"3944\",\"type\":\"GroupFilter\"}],\"source\":{\"id\":\"3942\",\"type\":\"ColumnDataSource\"}},\"id\":\"3945\",\"type\":\"CDSView\"},{\"attributes\":{},\"id\":\"3915\",\"type\":\"LinearScale\"},{\"attributes\":{\"fill_alpha\":{\"value\":0.1},\"fill_color\":{\"value\":\"#1f77b4\"},\"line_alpha\":{\"value\":0.1},\"line_color\":{\"value\":\"#1f77b4\"},\"x\":{\"field\":\"x\"},\"y\":{\"field\":\"y\"}},\"id\":\"3948\",\"type\":\"Circle\"},{\"attributes\":{},\"id\":\"3932\",\"type\":\"HelpTool\"},{\"attributes\":{\"filters\":[{\"id\":\"3950\",\"type\":\"GroupFilter\"}],\"source\":{\"id\":\"3942\",\"type\":\"ColumnDataSource\"}},\"id\":\"3951\",\"type\":\"CDSView\"},{\"attributes\":{\"label\":{\"value\":\"false\"},\"renderers\":[{\"id\":\"3949\",\"type\":\"GlyphRenderer\"}]},\"id\":\"3956\",\"type\":\"LegendItem\"},{\"attributes\":{\"callback\":null},\"id\":\"3909\",\"type\":\"DataRange1d\"},{\"attributes\":{\"active_drag\":\"auto\",\"active_inspect\":\"auto\",\"active_multi\":null,\"active_scroll\":\"auto\",\"active_tap\":\"auto\",\"tools\":[{\"id\":\"3927\",\"type\":\"PanTool\"},{\"id\":\"3928\",\"type\":\"WheelZoomTool\"},{\"id\":\"3929\",\"type\":\"BoxZoomTool\"},{\"id\":\"3930\",\"type\":\"SaveTool\"},{\"id\":\"3931\",\"type\":\"ResetTool\"},{\"id\":\"3932\",\"type\":\"HelpTool\"},{\"id\":\"3941\",\"type\":\"HoverTool\"}]},\"id\":\"3933\",\"type\":\"Toolbar\"},{\"attributes\":{\"label\":{\"value\":\"true\"},\"renderers\":[{\"id\":\"3955\",\"type\":\"GlyphRenderer\"}]},\"id\":\"3957\",\"type\":\"LegendItem\"},{\"attributes\":{},\"id\":\"3928\",\"type\":\"WheelZoomTool\"},{\"attributes\":{\"fill_color\":{\"field\":\"label\",\"transform\":{\"id\":\"3943\",\"type\":\"CategoricalColorMapper\"}},\"line_color\":{\"field\":\"label\",\"transform\":{\"id\":\"3943\",\"type\":\"CategoricalColorMapper\"}},\"x\":{\"field\":\"x\"},\"y\":{\"field\":\"y\"}},\"id\":\"3953\",\"type\":\"Circle\"},{\"attributes\":{},\"id\":\"4108\",\"type\":\"BasicTickFormatter\"},{\"attributes\":{},\"id\":\"3930\",\"type\":\"SaveTool\"},{\"attributes\":{\"callback\":null,\"data\":{\"Sample\":[\"FN000938\",\"FN000538\",\"FN000559\",\"FN000755\",\"FN000557\",\"FN000020\",\"FN000761\",\"FN000369\",\"FN001020\",\"FN000893\",\"FN000558\",\"FN000931\",\"FN001110\",\"FN000953\",\"FN000618\",\"FN000277\",\"FN000878\",\"FN000862\",\"FN000933\",\"FN000940\",\"FN000217\",\"FN000544\",\"FN000925\",\"FN000934\",\"FN000190\",\"FN000902\",\"FN001021\",\"FN000762\",\"FN001022\",\"FN000018\",\"FN001109\",\"FN000017\",\"FN001415\",\"FN000206\",\"FN000178\",\"FN001092\",\"FN001045\",\"FN000396\",\"FN001416\",\"FN000817\",\"FN001116\",\"FN000749\",\"FN000254\",\"FN000562\",\"FN000399\",\"FN000412\",\"FN000537\",\"FN000804\",\"FN000016\",\"FN000019\",\"FN001251\",\"FN000873\",\"FN000182\",\"FN000122\",\"FN000957\",\"FN001433\",\"FN001346\",\"FN000935\",\"FN000152\",\"FN000932\",\"FN001046\",\"FN000476\",\"FN000759\",\"FN000132\",\"FN000015\",\"FN001377\",\"FN000071\",\"FN001115\",\"FN000534\",\"FN000507\",\"FN000879\",\"FN001249\",\"FN000929\",\"FN000635\",\"FN001089\",\"FN001025\",\"FN000124\",\"FN000298\",\"FN000394\",\"FN000506\",\"FN000904\",\"FN001093\",\"FN000503\",\"FN000044\",\"FN000427\",\"FN000138\",\"FN000763\",\"FN000639\",\"FN000125\",\"FN000742\",\"FN000105\",\"FN000400\",\"FN000778\",\"FN000824\",\"FN000251\",\"FN000405\",\"FN001120\",\"FN000697\",\"FN000867\",\"FN001409\",\"FN000866\",\"FN000502\",\"FN000377\",\"FN000566\",\"FN001001\",\"FN000011\",\"FN000512\",\"FN000738\",\"FN000898\",\"FN000810\",\"FN000671\",\"FN000326\",\"FN000119\",\"FN000121\",\"FN000930\",\"FN000629\",\"FN000693\",\"FN000414\",\"FN001390\",\"FN001488\",\"FN001157\",\"FN000317\",\"FN000617\",\"FN000917\",\"FN000435\",\"FN000899\",\"FN001379\",\"FN001130\",\"FN001400\",\"FN001088\",\"FN000969\",\"FN000875\",\"FN000906\",\"FN001398\",\"FN000242\",\"FN000411\",\"FN000583\",\"FN000111\",\"FN000528\",\"FN000281\",\"FN000527\",\"FN000928\",\"FN000923\",\"FN000021\",\"FN000954\",\"FN000381\",\"FN000770\",\"FN000882\",\"FN000774\",\"FN000408\",\"FN001381\",\"FN000240\",\"FN000050\",\"FN001138\",\"FN000958\",\"FN000131\",\"FN000022\",\"FN000966\",\"FN000634\",\"FN000771\",\"FN000191\",\"FN000106\",\"FN000397\",\"FN000009\",\"FN000187\",\"FN000474\",\"FN000320\",\"FN000442\",\"FN000393\",\"FN000513\",\"FN000023\",\"FN000820\",\"FN001143\",\"FN000541\",\"FN001410\",\"FN000477\",\"FN000971\",\"FN001482\",\"FN001127\",\"FN000529\",\"FN000531\",\"FN000703\",\"FN000410\",\"FN000970\",\"FN000370\",\"FN000599\",\"FN000238\",\"FN000306\",\"FN000127\",\"FN001426\",\"FN000769\",\"FN000389\",\"FN001132\",\"FN000305\",\"FN000920\",\"FN000955\",\"FN000487\",\"FN000049\",\"FN000038\",\"FN001366\",\"FN000809\",\"FN000914\",\"FN000909\",\"FN000877\",\"FN001431\",\"FN000447\",\"FN000024\",\"FN001523\",\"FN000941\",\"FN000625\",\"FN000014\",\"FN001135\",\"FN000924\",\"FN000549\",\"FN001117\",\"FN001439\",\"FN000895\",\"FN000794\",\"FN001023\",\"FN000473\",\"FN001134\",\"FN000780\",\"FN001437\",\"FN001017\",\"FN001401\",\"FN000259\",\"FN000889\",\"FN001527\",\"FN001019\",\"FN000039\",\"FN000518\",\"FN000289\",\"FN000123\",\"FN000776\",\"FN000322\",\"FN001425\",\"FN000602\",\"FN001411\",\"FN000002\",\"FN000416\",\"FN000055\",\"FN000159\",\"FN000962\",\"FN001371\",\"FN001091\",\"FN000704\",\"FN001383\",\"FN000943\",\"FN000854\",\"FN000998\",\"FN000892\",\"FN000244\",\"FN001394\",\"FN000103\",\"FN001085\",\"FN000034\",\"FN001090\",\"FN000521\",\"FN000282\",\"FN000612\",\"FN000489\",\"FN000581\",\"FN001495\",\"FN001389\",\"FN001486\",\"FN000236\",\"FN000948\",\"FN001432\",\"FN000456\",\"FN001395\",\"FN000233\",\"FN000204\",\"FN000392\",\"FN000896\",\"FN000526\",\"FN000767\",\"FN000607\",\"FN000888\",\"FN000040\",\"FN000313\",\"FN000768\",\"FN000926\",\"FN000278\",\"FN000960\",\"FN000032\",\"FN000628\",\"FN000403\",\"FN000949\",\"FN000525\",\"FN000450\",\"FN001133\",\"FN000036\",\"FN000510\",\"FN000224\",\"FN001414\",\"FN000470\",\"FN000303\",\"FN000475\",\"FN000947\",\"FN000360\",\"FN000523\",\"FN001418\",\"FN001392\",\"FN000766\",\"FN000440\",\"FN000496\",\"FN000035\",\"FN000563\",\"FN000376\",\"FN000905\",\"FN000252\",\"FN001347\",\"FN000301\",\"FN001111\",\"FN000248\",\"FN000922\",\"FN000495\",\"FN000177\",\"FN001417\",\"FN000886\",\"FN001440\",\"FN000037\",\"FN000130\",\"FN000309\",\"FN001018\",\"FN000126\",\"FN001490\",\"FN000546\",\"FN000807\",\"FN000881\",\"FN000077\",\"FN000522\",\"FN001393\",\"FN000237\",\"FN000387\",\"FN001427\",\"FN000446\",\"FN000052\",\"FN000160\",\"FN000061\",\"FN000216\",\"FN000417\",\"FN000001\",\"FN000076\",\"FN001413\",\"FN000284\",\"FN001150\",\"FN000519\",\"FN001405\",\"FN001149\",\"FN000952\",\"FN001408\",\"FN001374\",\"FN000012\",\"FN001485\",\"FN000498\",\"FN001142\",\"FN000908\",\"FN001154\",\"FN001152\",\"FN000912\",\"FN001082\",\"FN001403\",\"FN000861\",\"FN000551\",\"FN000108\",\"FN000169\",\"FN000871\",\"FN000942\",\"FN001407\",\"FN000137\",\"FN001430\",\"FN000488\",\"FN000567\",\"FN000561\",\"FN000430\",\"FN000375\",\"FN000426\",\"FN000088\",\"FN000439\",\"FN001004\",\"FN000184\",\"FN000445\",\"FN000501\",\"FN000451\",\"FN000388\",\"FN000483\",\"FN000735\",\"FN000199\",\"FN001151\",\"FN001155\",\"FN000180\",\"FN001428\",\"FN000097\",\"FN000591\",\"FN000107\",\"FN001441\",\"FN000197\",\"FN000418\",\"FN000951\",\"FN000598\",\"FN000092\",\"FN001434\",\"FN001084\",\"FN001158\",\"FN001086\",\"FN000887\",\"FN001444\",\"FN000568\",\"FN000424\",\"FN001438\",\"FN000554\",\"FN000939\",\"FN000511\",\"FN000589\",\"FN000572\",\"FN000472\",\"FN000604\",\"FN000419\",\"FN000950\",\"FN000163\",\"FN001404\",\"FN001436\",\"FN000395\",\"FN000550\",\"FN000874\",\"FN000478\",\"FN001139\",\"FN001435\",\"FN000461\",\"FN001053\",\"FN000156\",\"FN001003\",\"FN000139\",\"FN000215\",\"FN001429\",\"FN000185\",\"FN000484\",\"FN000421\",\"FN000158\",\"FN000945\",\"FN001153\",\"FN001011\"],\"index\":[0,1,2,3,4,5,6,7,8,9,10,11,12,13,14,15,16,17,18,19,20,21,22,23,24,25,26,27,28,29,30,31,32,33,34,35,36,37,38,39,40,41,42,43,44,45,46,47,48,49,50,51,52,53,54,55,56,57,58,59,60,61,62,63,64,65,66,67,68,69,70,71,72,73,74,75,76,77,78,79,80,81,82,83,84,85,86,87,88,89,90,91,92,93,94,95,96,97,98,99,100,101,102,103,104,105,106,107,108,109,110,111,112,113,114,115,116,117,118,119,120,121,122,123,124,125,126,127,128,129,130,131,132,133,134,135,136,137,138,139,140,141,142,143,144,145,146,147,148,149,150,151,152,153,154,155,156,157,158,159,160,161,162,163,164,165,166,167,168,169,170,171,172,173,174,175,176,177,178,179,180,181,182,183,184,185,186,187,188,189,190,191,192,193,194,195,196,197,198,199,200,201,202,203,204,205,206,207,208,209,210,211,212,213,214,215,216,217,218,219,220,221,222,223,224,225,226,227,228,229,230,231,232,233,234,235,236,237,238,239,240,241,242,243,244,245,246,247,248,249,250,251,252,253,254,255,256,257,258,259,260,261,262,263,264,265,266,267,268,269,270,271,272,273,274,275,276,277,278,279,280,281,282,283,284,285,286,287,288,289,290,291,292,293,294,295,296,297,298,299,300,301,302,303,304,305,306,307,308,309,310,311,312,313,314,315,316,317,318,319,320,321,322,323,324,325,326,327,328,329,330,331,332,333,334,335,336,337,338,339,340,341,342,343,344,345,346,347,348,349,350,351,352,353,354,355,356,357,358,359,360,361,362,363,364,365,366,367,368,369,370,371,372,373,374,375,376,377,378,379,380,381,382,383,384,385,386,387,388,389,390,391,392,393,394,395,396,397,398,399,400,401,402,403,404,405,406,407,408,409,410,411,412,413,414,415,416,417,418,419,420,421,422,423,424,425,426,427,428,429,430,431,432,433,434,435,436,437,438,439,440,441,442],\"label\":[\"false\",\"true\",\"false\",\"false\",\"false\",\"false\",\"false\",\"false\",\"false\",\"false\",\"false\",\"false\",\"false\",\"false\",\"false\",\"false\",\"false\",\"false\",\"false\",\"true\",\"false\",\"false\",\"false\",\"false\",\"false\",\"false\",\"false\",\"false\",\"false\",\"false\",\"false\",\"false\",\"false\",\"false\",\"false\",\"false\",\"false\",\"false\",\"false\",\"false\",\"false\",\"false\",\"false\",\"false\",\"false\",\"false\",\"false\",\"false\",\"false\",\"false\",\"false\",\"false\",\"false\",\"false\",\"false\",\"false\",\"false\",\"false\",\"false\",\"false\",\"false\",\"false\",\"false\",\"false\",\"false\",\"false\",\"false\",\"false\",\"false\",\"false\",\"false\",\"false\",\"false\",\"false\",\"false\",\"false\",\"false\",\"false\",\"false\",\"false\",\"false\",\"false\",\"false\",\"false\",\"false\",\"false\",\"false\",\"false\",\"false\",\"false\",\"false\",\"false\",\"false\",\"false\",\"false\",\"false\",\"false\",\"false\",\"false\",\"false\",\"false\",\"false\",\"false\",\"false\",\"false\",\"false\",\"false\",\"false\",\"false\",\"false\",\"false\",\"false\",\"false\",\"false\",\"false\",\"false\",\"false\",\"false\",\"false\",\"false\",\"false\",\"false\",\"false\",\"false\",\"false\",\"false\",\"false\",\"false\",\"false\",\"false\",\"false\",\"false\",\"false\",\"false\",\"false\",\"false\",\"false\",\"false\",\"false\",\"false\",\"false\",\"false\",\"false\",\"false\",\"false\",\"false\",\"false\",\"false\",\"false\",\"false\",\"false\",\"false\",\"false\",\"false\",\"false\",\"false\",\"false\",\"false\",\"false\",\"false\",\"false\",\"false\",\"false\",\"false\",\"false\",\"false\",\"false\",\"false\",\"false\",\"false\",\"false\",\"false\",\"false\",\"false\",\"false\",\"false\",\"false\",\"false\",\"false\",\"false\",\"false\",\"false\",\"false\",\"false\",\"false\",\"false\",\"false\",\"false\",\"false\",\"false\",\"false\",\"false\",\"false\",\"false\",\"false\",\"false\",\"false\",\"false\",\"false\",\"false\",\"false\",\"false\",\"true\",\"false\",\"false\",\"false\",\"false\",\"false\",\"false\",\"false\",\"false\",\"false\",\"false\",\"false\",\"false\",\"false\",\"false\",\"false\",\"false\",\"false\",\"false\",\"false\",\"false\",\"false\",\"false\",\"false\",\"false\",\"false\",\"true\",\"false\",\"false\",\"false\",\"false\",\"false\",\"false\",\"false\",\"false\",\"false\",\"false\",\"false\",\"false\",\"false\",\"false\",\"false\",\"false\",\"false\",\"false\",\"false\",\"false\",\"false\",\"false\",\"false\",\"false\",\"false\",\"false\",\"false\",\"false\",\"false\",\"false\",\"false\",\"false\",\"false\",\"false\",\"false\",\"false\",\"false\",\"false\",\"false\",\"false\",\"false\",\"false\",\"false\",\"false\",\"false\",\"false\",\"false\",\"false\",\"false\",\"false\",\"false\",\"false\",\"false\",\"false\",\"false\",\"false\",\"false\",\"false\",\"false\",\"false\",\"false\",\"false\",\"false\",\"false\",\"false\",\"false\",\"false\",\"false\",\"false\",\"false\",\"false\",\"false\",\"false\",\"false\",\"false\",\"false\",\"false\",\"false\",\"false\",\"false\",\"false\",\"false\",\"false\",\"false\",\"false\",\"false\",\"false\",\"false\",\"false\",\"false\",\"false\",\"false\",\"false\",\"false\",\"false\",\"true\",\"false\",\"false\",\"false\",\"false\",\"false\",\"false\",\"false\",\"false\",\"false\",\"false\",\"false\",\"false\",\"false\",\"false\",\"false\",\"false\",\"false\",\"false\",\"false\",\"false\",\"false\",\"false\",\"false\",\"false\",\"false\",\"false\",\"false\",\"false\",\"false\",\"false\",\"false\",\"false\",\"false\",\"false\",\"false\",\"false\",\"false\",\"false\",\"false\",\"false\",\"false\",\"false\",\"false\",\"false\",\"false\",\"false\",\"false\",\"false\",\"false\",\"false\",\"false\",\"false\",\"false\",\"false\",\"false\",\"false\",\"false\",\"false\",\"false\",\"false\",\"false\",\"false\",\"false\",\"false\",\"false\",\"false\",\"false\",\"false\",\"false\",\"false\",\"false\",\"false\",\"false\",\"false\",\"false\",\"false\",\"false\",\"false\",\"false\",\"false\",\"false\",\"false\",\"false\",\"false\",\"false\",\"false\",\"false\",\"false\",\"false\",\"false\",\"false\",\"false\",\"false\",\"false\",\"false\",\"false\",\"false\",\"false\",\"false\",\"false\",\"false\",\"false\",\"false\",\"false\",\"false\",\"false\",\"false\",\"false\",\"false\",\"false\",\"false\",\"false\",\"false\",\"false\",\"false\",\"false\",\"false\",\"false\"],\"x\":{\"__ndarray__\":\"XPJNTajfLkBtn7I9egkxQKU0VT4FwTJA4Mt1lHDnMkD+jU8EXuMzQHY04uypATRAlqEi3XwFNUCWra3+PkU1QF+M4Gh2fjVAfKSWr9rINUAqOT4yJus1QJsZO1O/UjZAX0kEE+8sNkC8WjAAIyA3QIkMb0fFfDdAxK7CEnppN0AErU7YUYw3QKYCCzVpHDhAupuoqkmKOECR2sBAV6c4QBlQQ5hVhDlAOxgam0N8OUBQ0uxe5WU6QHYQhQw5qjpARl5YEc4QO0DuuVbwKyY7QJwq7501XztA3pHUl+RSO0DAGZb15aQ7QB9/EglVrDtApELOWUv9O0C5PW7B2WI8QFs6+8yTRzxALwTfEX1jPED2wehmKpU8QE7gnqB1izxAICL0FMXTPEBr7wljqO48QF4F0H/U5jxAzZgTFAHuPECKRXVLmv88QFndRoLiLj1A2f1J+4gxPUAxNAjJ2Vw9QAXWPYV5SD1ASx5s9ZlOPUAUfPnu6a89QHO9P+1khD1AzRVkjCjjPUDDaIr429o9QLx13F50vz1ASVzQhSHvPUAYkvsz8p0+QMs1OWwBhD5AC3NIZAPaPkCfkX3XhRc/QEBtu6oh4z5A9x0Jqh49P0DTfGSH1EU/QGG2dxTycz9AVT1mS5JpP0AOffavSJ8/QFkTKU+9BEBAk6HjWhj+P0B1IdqvnglAQH7CX6B4JEBAatjVXn81QECCyvYxCjhAQB1/5l7wKUBAxuzjjaE0QECYPCKMH1lAQDuSKB11UEBAL9GbSuVlQEBw3YEpwH5AQEILo8eJb0BAtU67ZkegQECpcvquNL1AQFa9pf+SrEBA2QDMZKy6QEBke9SZcsNAQFEAxu0u5UBAT83ucXvsQEBWk95JAetAQN7uLfec50BAFn5Ewnr+QECIwrj+CQhBQE3/HaHbAUFAPxWhWqsAQUBhEIiPFxpBQBldjn2dLUFASvWVzM8iQUB1lGp42j9BQArtPSODQkFAPOwvuepDQUB7MVPaBExBQF0DEgXSUkFAoYQ1Ex5YQUAe7sjn725BQGoaOH5/WEFAOVC89FOTQUAFRPiZC3lBQB4Lpppql0FAvcJu24maQUBNmYLZx5lBQCfsUwmWy0FAGpb82K/ZQUAbFk+VBOFBQJ/nGqlM0kFA9LnEgkoFQkBUjclJVflBQNXjOaoKB0JA8+q2Db77QUBE4zfJhx5CQNf4zWl8KkJA6p/bwGsXQkB/HG1muRBCQJn8Vbd7HkJAO1a39MEnQkCrCfz4BDpCQPlMtNAOX0JA9QA0wnODQkAVMVKU5XFCQKlR3Uf2nkJAZ5hevmKwQkBsPefwEcxCQFwN+nt/xUJA/AbNwYvWQkDCUgoJwddCQJNgQbCR7EJA48+BI4L+QkAFT3TaVPxCQD/7sRNG90JAXnZk7qkeQ0BIRKvCag5DQPg45GQfFENAMY002/sGQ0AX2+4mUSpDQCw3QESbPENAPshRxSA8Q0C5vQyHPjBDQFL2N1L2J0NAHzsuhwVEQ0BdTs4hqkpDQMXigz0SVUNAPv5qv4E+Q0CiA5KcwE9DQKQ7KDCRaUNABO2ck/NdQ0D6zZNrVF5DQO7p+u7OkENA5585stWOQ0CCszdWJH1DQCD/tkwko0NAYqR0OG+1Q0C1zSQ3wKBDQEuG51mLn0NAxZkSuCalQ0AxZyLr/rlDQPOj4u1g3ENA8bMxTmQQREAQ4gYMRwhEQLV2IjAG/0NA87qKBIghREBHdMeCVjZEQFHwqXBLNERAFMZyKdtEREBCmcKFxktEQNu97aiaRERAScTAHptqRED8wLwpTFZEQIwSxwzLbERA0DC47U9oRECkXayoj1NEQOkUTrClikRA8VwSBbCLREDFsLVFZIlEQNM1CfBlf0RANA93cfJ4REDKVk8fhntEQNL/aFPwfURAcYXJlBx5REDhAPv7XqBEQNHzyaAXkkRACvqeQNeRREDSruFPaaxEQNR4keHls0RAM2m4O3O3REC9r+lcqbJEQO+8qouzq0RACLh/7z/OREA4Q/Qy+95EQFmrAz3110RALcfihbfQRED+z3fOygJFQNS7ayMr7ERAhjNyXK31REC52l2ijPlEQDYxoqg1+ERAUaDVBoMHRUBg6OTmIB5FQPfgfwrxDUVAVgjguU0NRUCh+R3rxhtFQFTQyOvQKEVAYONlfD0yRUCxg6fGRjJFQGn/77mOU0VADLWgi3VcRUB+jHfSU4lFQNHpcpXukUVA1fSQvOijRUBo7bLN/7dFQO9q2OJJqEVACjUCXrGpRUDx3uxhYcZFQEm6t1FLzEVAo8XeKTXGRUA/qhRlO9ZFQF+gJkOizUVAbYnMMvO8RUBnX9nPF+tFQKLksKWr5UVADlhtwV7cRUDKt+IJ/fVFQAPcDOWG7UVALwBjuNH/RUBacKFvkAxGQAG8hz9dAUZA63WFthH/RUAZ/HfSCx5GQHbAYbgLQUZAJfDV568+RkDfQzZOU0lGQP+kSBr3RkZAXdagl8lQRkC/ltl+yFpGQA7Hd1/eb0ZAtRRX5NNyRkApC5DE/HZGQOSzVGu7gEZABBl0RXl+RkBi6C+RYn1GQLqjPkT5nUZAIQ/cyb2XRkBaV/ELcapGQJS2VwWPp0ZAOvTccr+cRkDz1uASxrxGQGAIt1dwzEZAlem2TETXRkCAzg12XORGQJROt0q40UZAz6eBtFHhRkCHIj3c0fpGQHUgkRfIB0dA91zuOeclR0CnzTBffyJHQMv4lgV2DUdAhAmuLNIPR0CbJgqyBiBHQDYOlUw3KUdA4C6+YS4vR0D+HZ1Wzj1HQOM5Q/9BXUdAci2pzGVcR0DCJNeZumRHQADkMrPsgkdACC8DWsJxR0Bx6kr+fnBHQMAUrIfqjkdAcek2zaCbR0C64Lna8KFHQEd/u2d1oEdALUYRP1iTR0AztZpPMJpHQPJqsgzkmUdA6e2/TdO4R0CT1nltobJHQOFqJJ5grUdAxLRmSOK5R0CvaGQiMdBHQPyMM/PL0EdAlHZ6f37wR0B/u53Xzg9IQPAokVHVCUhAYR1t3qcYSEBdxi1QlBJIQGSljhpjE0hAHzSvPaQKSEBhWyVW5xlIQN1FEJbhLUhA33rUrgZESEAw07ww3z1IQMPdJLEnWEhAvgwXHDNdSEBl6+6KcXJIQE2f/U3tXEhAt1FVD4tlSEB3I/PsNWlIQIFl2EQZfEhAtxo3lsiDSEC38L71LoRIQKBlx1DXr0hAQ65tBGm6SECFqyugOMNIQPJFM/51yUhAKEj7Wv/nSEByv0CfGvdIQGkAtFlR+EhAfHP7KIAZSUDVF3/0aCVJQFtb+0JqH0lAtALxmJgXSUCd8w0YcDhJQP/cZh2CLklAr2j21Qs8SUCiqHLwOTxJQK1/mz85ZElA0SddpVJVSUCweV7CXWhJQHqzxTj3T0lAxDG4/X50SUA5ePze7YFJQPjuPK2lbklAaU65BG6FSUClSogH/5JJQMOJXggdoUlA/irsv+mVSUAvwYLT2JhJQBVBpcdWvUlAQBh0Lea6SUB48xwNhMFJQEKQGZlP4UlA+kGLC33fSUAeowzha81JQNzRzoa54ElAKiQXPaHWSUBQpzYJQiRKQDOXnzy4UUpAuNw4ZkJRSkBfNB+Xk3tKQMAcB5I8lkpA8deX4zB+SkC2u7FTtINKQLizEiFYq0pAENl/G5SsSkDT9pUqwptKQJd9ExAVwkpABOkGwVHwSkCIOlaitg9LQFqKY1chLUtAgeily4kiS0B8XloXxyRLQJLNUz3uNUtA5d0Z8zs+S0Bf3KcGCExLQOSz7C0MgktA0pdTf86ES0DtnDDaOXFLQImP/0wDmktAlJCANCKoS0CUIN7oUJJLQAcBGbA0t0tA2RI/8OLmS0B1gecB4N9LQFaqmqbm+EtALeJkA7nuS0AJiykhiSNMQLidzgipJkxAj3ByhUI1TEAI9g8OTjVMQBoNb4m+PkxANTmfJe1ITEAX6ctuzYhMQKBsxjWRqkxAHpJ5SOahTEBpRSYBJspMQAasbMWlzkxA+8Um+yvHTEC/+v+E6/1MQOlNw7SJME1ALV7fIcc3TUDnWVXLlyJNQPxPaNdORU1ALm5gP29fTUDssxiL73FNQJIlyNser01APKTWZCM7TkDEQDqofTNOQBM0pyQIXU5Ap8JLGmdeTkAkqMykfFZOQKU9w53vfE5AkbEqZ+aeTkCXsv2Sj/FOQMcJuPV65k5A9mulMAUuT0BHQyKfpz1PQEQBlX8ebU9A87f6aNZeT0BKKyplzq1PQILw1VE5yk9AUx3yCsLqT0BW8a+l3eRPQNnNhrV+6U9AFuoxuIcFUEAzb0Jj3QFQQPDhWE6MHFBAshax4+YeUEDw5UuMajlQQCz2hFUUT1BAMWLWfO1UUEAFFw1rH3hQQFj49GrOi1BA7Y8R9T6QUEC7gydqttdQQFVctQHH4FBAg0Id/AsQUUDge7NlfCNRQOG6PH7tSVFALDvFSyCEUUCT6r90np9RQPYZDeivsFFAG0VabKPHUUDr9VQ6NNVRQFhKK5p3H1JAZdFwOtQkUkC0qLLHODxSQLS1VzGik1JA/JlxmsOWUkDF5hJQvq9SQNNfBknM0VJAlNtTeXBoU0COf/ygmIVTQAaIdtC0s1NAXdNZVcMUVEByk4Z/3XVUQIXzzLoqvFRABMYxSTbXVECVN/cPt9pUQB0e8Bb/11VAg+6hNgHQVUAaPllygrFdQA==\",\"dtype\":\"float64\",\"shape\":[443]},\"y\":{\"__ndarray__\":\"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\",\"dtype\":\"float64\",\"shape\":[443]}},\"selected\":{\"id\":\"4109\",\"type\":\"Selection\"},\"selection_policy\":{\"id\":\"4110\",\"type\":\"UnionRenderers\"}},\"id\":\"3942\",\"type\":\"ColumnDataSource\"},{\"attributes\":{\"color_mapper\":null,\"formatter\":{\"id\":\"4106\",\"type\":\"BasicTickFormatter\"},\"ticker\":{\"id\":\"4105\",\"type\":\"BasicTicker\"},\"visible\":false},\"id\":\"3959\",\"type\":\"ColorBar\"}],\"root_ids\":[\"3907\"]},\"title\":\"Bokeh Application\",\"version\":\"1.2.0\"}};\n",
       "  var render_items = [{\"docid\":\"fe004f61-fbaf-4c07-9bb6-2705e33e7141\",\"roots\":{\"3907\":\"f29825de-3b86-4412-a5f5-daddce6b57a8\"}}];\n",
       "  root.Bokeh.embed.embed_items_notebook(docs_json, render_items);\n",
       "\n",
       "  }\n",
       "  if (root.Bokeh !== undefined) {\n",
       "    embed_document(root);\n",
       "  } else {\n",
       "    var attempts = 0;\n",
       "    var timer = setInterval(function(root) {\n",
       "      if (root.Bokeh !== undefined) {\n",
       "        embed_document(root);\n",
       "        clearInterval(timer);\n",
       "      }\n",
       "      attempts++;\n",
       "      if (attempts > 100) {\n",
       "        console.log(\"Bokeh: ERROR: Unable to run BokehJS code because BokehJS library is missing\");\n",
       "        clearInterval(timer);\n",
       "      }\n",
       "    }, 10, root)\n",
       "  }\n",
       "})(window);"
      ],
      "application/vnd.bokehjs_exec.v0+json": ""
     },
     "metadata": {
      "application/vnd.bokehjs_exec.v0+json": {
       "id": "3907"
      }
     },
     "output_type": "display_data"
    }
   ],
   "source": [
    "p = hl.plot.scatter(mt.sample_qc.dp_stats.mean, mt.sample_qc.r_het_hom_var, xlabel='DP mean', ylabel='het/hom rate',\n",
    "                    hover_fields={'Sample': mt.s}, label=mt.high_hom_het)\n",
    "p.plot_width = 600\n",
    "p.plot_height = 600\n",
    "show(p)"
   ]
  },
  {
   "cell_type": "markdown",
   "id": "fundamental-pontiac",
   "metadata": {},
   "source": [
    "The plot above indicates these samples have similar coverage as the other samples, so that doesn't explain the high het/hom rate.\n",
    "\n",
    "We can also check the MultiQC reports of these samples (file paths below), and we see that they are all of reasonable quality."
   ]
  },
  {
   "cell_type": "code",
   "execution_count": 70,
   "id": "incomplete-demographic",
   "metadata": {},
   "outputs": [
    {
     "name": "stderr",
     "output_type": "stream",
     "text": [
      "[Stage 66:=============================================>          (13 + 3) / 16]"
     ]
    },
    {
     "name": "stdout",
     "output_type": "stream",
     "text": [
      "/data/projects/fargen_phase_1/data/single_sample_data/FN000538/multiqc/multiqc_report.html\n",
      "/data/projects/fargen_phase_1/data/single_sample_data/FN000909/multiqc/multiqc_report.html\n",
      "/data/projects/fargen_phase_1/data/single_sample_data/FN000940/multiqc/multiqc_report.html\n",
      "/data/projects/fargen_phase_1/data/single_sample_data/FN001018/multiqc/multiqc_report.html\n",
      "/data/projects/fargen_phase_1/data/single_sample_data/FN001019/multiqc/multiqc_report.html\n"
     ]
    }
   ],
   "source": [
    "high_hethom_samples = mt.filter_cols(mt.sample_qc.r_het_hom_var > het_hom_thres).s.collect()\n",
    "\n",
    "for sample in high_hethom_samples:\n",
    "    print('/data/projects/fargen_phase_1/data/single_sample_data/{sample}/multiqc/multiqc_report.html'.format(sample=sample))"
   ]
  },
  {
   "cell_type": "markdown",
   "id": "psychological-belgium",
   "metadata": {},
   "source": [
    "In the genealogy summary file (`/fargen/fargen_phase_1_utils/multi_sample/joint_genotyping/metadata/genealogy/individuals_summary.csv`), it seems that all these samples have reasonably deep roots in the Faroes. This means we have no reason to suspect this difference is due to these samples being from different populations.\n",
    "\n",
    "These four samples most likely have high het/hom rate due to poor data quality. One potential reason for this is contamination of the sample in the lab.\n",
    "\n",
    "We will **discard high het/hom rate samples**, as they may skew further analyses down the line."
   ]
  },
  {
   "cell_type": "code",
   "execution_count": 71,
   "id": "3f72ac48-5e30-46ee-bca6-195e33cb53e8",
   "metadata": {},
   "outputs": [],
   "source": [
    "mt = mt.filter_cols(mt.sample_qc.r_het_hom_var < het_hom_thres)"
   ]
  },
  {
   "cell_type": "code",
   "execution_count": 72,
   "id": "cooked-gilbert",
   "metadata": {},
   "outputs": [
    {
     "name": "stderr",
     "output_type": "stream",
     "text": [
      "[Stage 68:=================================================>      (14 + 2) / 16]"
     ]
    },
    {
     "name": "stdout",
     "output_type": "stream",
     "text": [
      "Number of variants: 88885\n",
      "Number of samples: 468\n"
     ]
    }
   ],
   "source": [
    "n_variants, n_samples = mt.count()\n",
    "print('Number of variants: ' + str(n_variants))\n",
    "print('Number of samples: ' + str(n_samples))"
   ]
  },
  {
   "cell_type": "markdown",
   "id": "9d0865cc-3848-49b9-9019-f528a95b9032",
   "metadata": {},
   "source": [
    "## Variant counts"
   ]
  },
  {
   "cell_type": "code",
   "execution_count": 73,
   "id": "94ce055e-0cca-4de2-ad95-0844bc07c06b",
   "metadata": {},
   "outputs": [],
   "source": [
    "# Remove sites that have become invariant after the AB filter.\n",
    "mt = mt.filter_rows(mt.variant_qc.AC[1] > 0)"
   ]
  },
  {
   "cell_type": "code",
   "execution_count": 74,
   "id": "1e09ddb9-3c26-458e-a392-82f28a257669",
   "metadata": {},
   "outputs": [
    {
     "name": "stderr",
     "output_type": "stream",
     "text": [
      "[Stage 69:====================================================>   (15 + 1) / 16]"
     ]
    },
    {
     "data": {
      "text/html": [
       "<div>\n",
       "<style scoped>\n",
       "    .dataframe tbody tr th:only-of-type {\n",
       "        vertical-align: middle;\n",
       "    }\n",
       "\n",
       "    .dataframe tbody tr th {\n",
       "        vertical-align: top;\n",
       "    }\n",
       "\n",
       "    .dataframe thead th {\n",
       "        text-align: right;\n",
       "    }\n",
       "</style>\n",
       "<table border=\"1\" class=\"dataframe\">\n",
       "  <thead>\n",
       "    <tr style=\"text-align: right;\">\n",
       "      <th></th>\n",
       "      <th></th>\n",
       "    </tr>\n",
       "  </thead>\n",
       "  <tbody>\n",
       "    <tr>\n",
       "      <th>n_variants</th>\n",
       "      <td>86300.000000</td>\n",
       "    </tr>\n",
       "    <tr>\n",
       "      <th>snps_fraction</th>\n",
       "      <td>0.866095</td>\n",
       "    </tr>\n",
       "    <tr>\n",
       "      <th>indels_fraction</th>\n",
       "      <td>0.133905</td>\n",
       "    </tr>\n",
       "  </tbody>\n",
       "</table>\n",
       "</div>"
      ],
      "text/plain": [
       "                             \n",
       "n_variants       86300.000000\n",
       "snps_fraction        0.866095\n",
       "indels_fraction      0.133905"
      ]
     },
     "execution_count": 74,
     "metadata": {},
     "output_type": "execute_result"
    }
   ],
   "source": [
    "variant_counts(mt)"
   ]
  },
  {
   "cell_type": "markdown",
   "id": "81f52b52-99bf-45ef-be72-6de4fdafc3fc",
   "metadata": {},
   "source": [
    "## Write data to file"
   ]
  },
  {
   "cell_type": "code",
   "execution_count": 75,
   "id": "d059a327-ac98-4b3c-a930-d8cd5305a804",
   "metadata": {},
   "outputs": [
    {
     "name": "stderr",
     "output_type": "stream",
     "text": [
      "[Stage 71:>                                                         (0 + 8) / 8]2021-09-28 09:57:56 Hail: INFO: Ordering unsorted dataset with network shuffle\n",
      "[Stage 74:==================================================>       (7 + 1) / 8]2021-09-28 09:58:37 Hail: INFO: wrote matrix table with 86300 rows and 468 columns in 8 partitions to /home/olavur/experiments/2020-11-13_fargen1_exome_analysis/data/mt/high_quality_variants.mt\n",
      "    Total size: 585.32 MiB\n",
      "    * Rows/entries: 585.27 MiB\n",
      "    * Columns: 49.87 KiB\n",
      "    * Globals: 11.00 B\n",
      "    * Smallest partition: 10027 rows (68.56 MiB)\n",
      "    * Largest partition:  11876 rows (78.96 MiB)\n"
     ]
    }
   ],
   "source": [
    "if False:\n",
    "    mt.write(BASE_DIR + '/data/mt/high_quality_variants.mt', overwrite=True)"
   ]
  },
  {
   "cell_type": "markdown",
   "id": "f5721fc8-688d-43c9-b6fb-08ca230c5126",
   "metadata": {},
   "source": [
    "## Summary\n",
    "\n",
    "In this notebook we have:\n",
    "\n",
    "* Split multi-allelic sites\n",
    "* Filtered variants failing VQSR filter\n",
    "* Filtered variants with genotype quality (GQ)\n",
    "    * GQ > 20 for SNPs\n",
    "    * GQ > 40 for indels\n",
    "* Filtered variants with allelic balance outside the range $[0.25, 0.75]$\n",
    "* Filtered variants failing HWE filter\n",
    "    * $p > 10^{-9}$ for SNPs\n",
    "    * $p > 10^{-6}$ for indels\n",
    "* Removed four samples with abnormally high het/hom rate (>1.4)\n",
    "* Filtered variants with allele count equal to zero"
   ]
  }
 ],
 "metadata": {
  "kernelspec": {
   "display_name": "Python [conda env:fargen-1-exome]",
   "language": "python",
   "name": "conda-env-fargen-1-exome-py"
  },
  "language_info": {
   "codemirror_mode": {
    "name": "ipython",
    "version": 3
   },
   "file_extension": ".py",
   "mimetype": "text/x-python",
   "name": "python",
   "nbconvert_exporter": "python",
   "pygments_lexer": "ipython3",
   "version": "3.7.10"
  }
 },
 "nbformat": 4,
 "nbformat_minor": 5
}
