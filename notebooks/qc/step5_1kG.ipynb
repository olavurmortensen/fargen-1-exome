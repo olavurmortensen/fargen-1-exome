{
 "cells": [
  {
   "cell_type": "markdown",
   "metadata": {},
   "source": [
    "# Principal Component Analysis"
   ]
  },
  {
   "cell_type": "code",
   "execution_count": 1,
   "metadata": {},
   "outputs": [
    {
     "name": "stderr",
     "output_type": "stream",
     "text": [
      "Running on Apache Spark version 2.4.1\n",
      "SparkUI available at http://hms-beagle-7889d4ff4c-6wxtc:4040\n",
      "Welcome to\n",
      "     __  __     <>__\n",
      "    / /_/ /__  __/ /\n",
      "   / __  / _ `/ / /\n",
      "  /_/ /_/\\_,_/_/_/   version 0.2.61-3c86d3ba497a\n",
      "LOGGING: writing to /home/olavur/experiments/2020-11-13_fargen1_exome_analysis/fargen-1-exome/notebooks/qc/hail-20210310-1448-0.2.61-3c86d3ba497a.log\n"
     ]
    }
   ],
   "source": [
    "import hail as hl\n",
    "hl.init(spark_conf={'spark.driver.memory': '10g', 'spark.local.dir': '/home/olavur/tmp'})"
   ]
  },
  {
   "cell_type": "code",
   "execution_count": 2,
   "metadata": {},
   "outputs": [
    {
     "data": {
      "text/html": [
       "\n",
       "    <div class=\"bk-root\">\n",
       "        <a href=\"https://bokeh.pydata.org\" target=\"_blank\" class=\"bk-logo bk-logo-small bk-logo-notebook\"></a>\n",
       "        <span id=\"1001\">Loading BokehJS ...</span>\n",
       "    </div>"
      ]
     },
     "metadata": {},
     "output_type": "display_data"
    },
    {
     "data": {
      "application/javascript": [
       "\n",
       "(function(root) {\n",
       "  function now() {\n",
       "    return new Date();\n",
       "  }\n",
       "\n",
       "  var force = true;\n",
       "\n",
       "  if (typeof root._bokeh_onload_callbacks === \"undefined\" || force === true) {\n",
       "    root._bokeh_onload_callbacks = [];\n",
       "    root._bokeh_is_loading = undefined;\n",
       "  }\n",
       "\n",
       "  var JS_MIME_TYPE = 'application/javascript';\n",
       "  var HTML_MIME_TYPE = 'text/html';\n",
       "  var EXEC_MIME_TYPE = 'application/vnd.bokehjs_exec.v0+json';\n",
       "  var CLASS_NAME = 'output_bokeh rendered_html';\n",
       "\n",
       "  /**\n",
       "   * Render data to the DOM node\n",
       "   */\n",
       "  function render(props, node) {\n",
       "    var script = document.createElement(\"script\");\n",
       "    node.appendChild(script);\n",
       "  }\n",
       "\n",
       "  /**\n",
       "   * Handle when an output is cleared or removed\n",
       "   */\n",
       "  function handleClearOutput(event, handle) {\n",
       "    var cell = handle.cell;\n",
       "\n",
       "    var id = cell.output_area._bokeh_element_id;\n",
       "    var server_id = cell.output_area._bokeh_server_id;\n",
       "    // Clean up Bokeh references\n",
       "    if (id != null && id in Bokeh.index) {\n",
       "      Bokeh.index[id].model.document.clear();\n",
       "      delete Bokeh.index[id];\n",
       "    }\n",
       "\n",
       "    if (server_id !== undefined) {\n",
       "      // Clean up Bokeh references\n",
       "      var cmd = \"from bokeh.io.state import curstate; print(curstate().uuid_to_server['\" + server_id + \"'].get_sessions()[0].document.roots[0]._id)\";\n",
       "      cell.notebook.kernel.execute(cmd, {\n",
       "        iopub: {\n",
       "          output: function(msg) {\n",
       "            var id = msg.content.text.trim();\n",
       "            if (id in Bokeh.index) {\n",
       "              Bokeh.index[id].model.document.clear();\n",
       "              delete Bokeh.index[id];\n",
       "            }\n",
       "          }\n",
       "        }\n",
       "      });\n",
       "      // Destroy server and session\n",
       "      var cmd = \"import bokeh.io.notebook as ion; ion.destroy_server('\" + server_id + \"')\";\n",
       "      cell.notebook.kernel.execute(cmd);\n",
       "    }\n",
       "  }\n",
       "\n",
       "  /**\n",
       "   * Handle when a new output is added\n",
       "   */\n",
       "  function handleAddOutput(event, handle) {\n",
       "    var output_area = handle.output_area;\n",
       "    var output = handle.output;\n",
       "\n",
       "    // limit handleAddOutput to display_data with EXEC_MIME_TYPE content only\n",
       "    if ((output.output_type != \"display_data\") || (!output.data.hasOwnProperty(EXEC_MIME_TYPE))) {\n",
       "      return\n",
       "    }\n",
       "\n",
       "    var toinsert = output_area.element.find(\".\" + CLASS_NAME.split(' ')[0]);\n",
       "\n",
       "    if (output.metadata[EXEC_MIME_TYPE][\"id\"] !== undefined) {\n",
       "      toinsert[toinsert.length - 1].firstChild.textContent = output.data[JS_MIME_TYPE];\n",
       "      // store reference to embed id on output_area\n",
       "      output_area._bokeh_element_id = output.metadata[EXEC_MIME_TYPE][\"id\"];\n",
       "    }\n",
       "    if (output.metadata[EXEC_MIME_TYPE][\"server_id\"] !== undefined) {\n",
       "      var bk_div = document.createElement(\"div\");\n",
       "      bk_div.innerHTML = output.data[HTML_MIME_TYPE];\n",
       "      var script_attrs = bk_div.children[0].attributes;\n",
       "      for (var i = 0; i < script_attrs.length; i++) {\n",
       "        toinsert[toinsert.length - 1].firstChild.setAttribute(script_attrs[i].name, script_attrs[i].value);\n",
       "      }\n",
       "      // store reference to server id on output_area\n",
       "      output_area._bokeh_server_id = output.metadata[EXEC_MIME_TYPE][\"server_id\"];\n",
       "    }\n",
       "  }\n",
       "\n",
       "  function register_renderer(events, OutputArea) {\n",
       "\n",
       "    function append_mime(data, metadata, element) {\n",
       "      // create a DOM node to render to\n",
       "      var toinsert = this.create_output_subarea(\n",
       "        metadata,\n",
       "        CLASS_NAME,\n",
       "        EXEC_MIME_TYPE\n",
       "      );\n",
       "      this.keyboard_manager.register_events(toinsert);\n",
       "      // Render to node\n",
       "      var props = {data: data, metadata: metadata[EXEC_MIME_TYPE]};\n",
       "      render(props, toinsert[toinsert.length - 1]);\n",
       "      element.append(toinsert);\n",
       "      return toinsert\n",
       "    }\n",
       "\n",
       "    /* Handle when an output is cleared or removed */\n",
       "    events.on('clear_output.CodeCell', handleClearOutput);\n",
       "    events.on('delete.Cell', handleClearOutput);\n",
       "\n",
       "    /* Handle when a new output is added */\n",
       "    events.on('output_added.OutputArea', handleAddOutput);\n",
       "\n",
       "    /**\n",
       "     * Register the mime type and append_mime function with output_area\n",
       "     */\n",
       "    OutputArea.prototype.register_mime_type(EXEC_MIME_TYPE, append_mime, {\n",
       "      /* Is output safe? */\n",
       "      safe: true,\n",
       "      /* Index of renderer in `output_area.display_order` */\n",
       "      index: 0\n",
       "    });\n",
       "  }\n",
       "\n",
       "  // register the mime type if in Jupyter Notebook environment and previously unregistered\n",
       "  if (root.Jupyter !== undefined) {\n",
       "    var events = require('base/js/events');\n",
       "    var OutputArea = require('notebook/js/outputarea').OutputArea;\n",
       "\n",
       "    if (OutputArea.prototype.mime_types().indexOf(EXEC_MIME_TYPE) == -1) {\n",
       "      register_renderer(events, OutputArea);\n",
       "    }\n",
       "  }\n",
       "\n",
       "  \n",
       "  if (typeof (root._bokeh_timeout) === \"undefined\" || force === true) {\n",
       "    root._bokeh_timeout = Date.now() + 5000;\n",
       "    root._bokeh_failed_load = false;\n",
       "  }\n",
       "\n",
       "  var NB_LOAD_WARNING = {'data': {'text/html':\n",
       "     \"<div style='background-color: #fdd'>\\n\"+\n",
       "     \"<p>\\n\"+\n",
       "     \"BokehJS does not appear to have successfully loaded. If loading BokehJS from CDN, this \\n\"+\n",
       "     \"may be due to a slow or bad network connection. Possible fixes:\\n\"+\n",
       "     \"</p>\\n\"+\n",
       "     \"<ul>\\n\"+\n",
       "     \"<li>re-rerun `output_notebook()` to attempt to load from CDN again, or</li>\\n\"+\n",
       "     \"<li>use INLINE resources instead, as so:</li>\\n\"+\n",
       "     \"</ul>\\n\"+\n",
       "     \"<code>\\n\"+\n",
       "     \"from bokeh.resources import INLINE\\n\"+\n",
       "     \"output_notebook(resources=INLINE)\\n\"+\n",
       "     \"</code>\\n\"+\n",
       "     \"</div>\"}};\n",
       "\n",
       "  function display_loaded() {\n",
       "    var el = document.getElementById(\"1001\");\n",
       "    if (el != null) {\n",
       "      el.textContent = \"BokehJS is loading...\";\n",
       "    }\n",
       "    if (root.Bokeh !== undefined) {\n",
       "      if (el != null) {\n",
       "        el.textContent = \"BokehJS \" + root.Bokeh.version + \" successfully loaded.\";\n",
       "      }\n",
       "    } else if (Date.now() < root._bokeh_timeout) {\n",
       "      setTimeout(display_loaded, 100)\n",
       "    }\n",
       "  }\n",
       "\n",
       "\n",
       "  function run_callbacks() {\n",
       "    try {\n",
       "      root._bokeh_onload_callbacks.forEach(function(callback) {\n",
       "        if (callback != null)\n",
       "          callback();\n",
       "      });\n",
       "    } finally {\n",
       "      delete root._bokeh_onload_callbacks\n",
       "    }\n",
       "    console.debug(\"Bokeh: all callbacks have finished\");\n",
       "  }\n",
       "\n",
       "  function load_libs(css_urls, js_urls, callback) {\n",
       "    if (css_urls == null) css_urls = [];\n",
       "    if (js_urls == null) js_urls = [];\n",
       "\n",
       "    root._bokeh_onload_callbacks.push(callback);\n",
       "    if (root._bokeh_is_loading > 0) {\n",
       "      console.debug(\"Bokeh: BokehJS is being loaded, scheduling callback at\", now());\n",
       "      return null;\n",
       "    }\n",
       "    if (js_urls == null || js_urls.length === 0) {\n",
       "      run_callbacks();\n",
       "      return null;\n",
       "    }\n",
       "    console.debug(\"Bokeh: BokehJS not loaded, scheduling load and callback at\", now());\n",
       "    root._bokeh_is_loading = css_urls.length + js_urls.length;\n",
       "\n",
       "    function on_load() {\n",
       "      root._bokeh_is_loading--;\n",
       "      if (root._bokeh_is_loading === 0) {\n",
       "        console.debug(\"Bokeh: all BokehJS libraries/stylesheets loaded\");\n",
       "        run_callbacks()\n",
       "      }\n",
       "    }\n",
       "\n",
       "    function on_error() {\n",
       "      console.error(\"failed to load \" + url);\n",
       "    }\n",
       "\n",
       "    for (var i = 0; i < css_urls.length; i++) {\n",
       "      var url = css_urls[i];\n",
       "      const element = document.createElement(\"link\");\n",
       "      element.onload = on_load;\n",
       "      element.onerror = on_error;\n",
       "      element.rel = \"stylesheet\";\n",
       "      element.type = \"text/css\";\n",
       "      element.href = url;\n",
       "      console.debug(\"Bokeh: injecting link tag for BokehJS stylesheet: \", url);\n",
       "      document.body.appendChild(element);\n",
       "    }\n",
       "\n",
       "    for (var i = 0; i < js_urls.length; i++) {\n",
       "      var url = js_urls[i];\n",
       "      var element = document.createElement('script');\n",
       "      element.onload = on_load;\n",
       "      element.onerror = on_error;\n",
       "      element.async = false;\n",
       "      element.src = url;\n",
       "      console.debug(\"Bokeh: injecting script tag for BokehJS library: \", url);\n",
       "      document.head.appendChild(element);\n",
       "    }\n",
       "  };var element = document.getElementById(\"1001\");\n",
       "  if (element == null) {\n",
       "    console.error(\"Bokeh: ERROR: autoload.js configured with elementid '1001' but no matching script tag was found. \")\n",
       "    return false;\n",
       "  }\n",
       "\n",
       "  function inject_raw_css(css) {\n",
       "    const element = document.createElement(\"style\");\n",
       "    element.appendChild(document.createTextNode(css));\n",
       "    document.body.appendChild(element);\n",
       "  }\n",
       "\n",
       "  var js_urls = [\"https://cdn.pydata.org/bokeh/release/bokeh-1.2.0.min.js\", \"https://cdn.pydata.org/bokeh/release/bokeh-widgets-1.2.0.min.js\", \"https://cdn.pydata.org/bokeh/release/bokeh-tables-1.2.0.min.js\", \"https://cdn.pydata.org/bokeh/release/bokeh-gl-1.2.0.min.js\"];\n",
       "  var css_urls = [\"https://cdn.pydata.org/bokeh/release/bokeh-1.2.0.min.css\", \"https://cdn.pydata.org/bokeh/release/bokeh-widgets-1.2.0.min.css\", \"https://cdn.pydata.org/bokeh/release/bokeh-tables-1.2.0.min.css\"];\n",
       "\n",
       "  var inline_js = [\n",
       "    function(Bokeh) {\n",
       "      Bokeh.set_log_level(\"info\");\n",
       "    },\n",
       "    \n",
       "    function(Bokeh) {\n",
       "      \n",
       "    },\n",
       "    function(Bokeh) {} // ensure no trailing comma for IE\n",
       "  ];\n",
       "\n",
       "  function run_inline_js() {\n",
       "    \n",
       "    if ((root.Bokeh !== undefined) || (force === true)) {\n",
       "      for (var i = 0; i < inline_js.length; i++) {\n",
       "        inline_js[i].call(root, root.Bokeh);\n",
       "      }if (force === true) {\n",
       "        display_loaded();\n",
       "      }} else if (Date.now() < root._bokeh_timeout) {\n",
       "      setTimeout(run_inline_js, 100);\n",
       "    } else if (!root._bokeh_failed_load) {\n",
       "      console.log(\"Bokeh: BokehJS failed to load within specified timeout.\");\n",
       "      root._bokeh_failed_load = true;\n",
       "    } else if (force !== true) {\n",
       "      var cell = $(document.getElementById(\"1001\")).parents('.cell').data().cell;\n",
       "      cell.output_area.append_execute_result(NB_LOAD_WARNING)\n",
       "    }\n",
       "\n",
       "  }\n",
       "\n",
       "  if (root._bokeh_is_loading === 0) {\n",
       "    console.debug(\"Bokeh: BokehJS loaded, going straight to plotting\");\n",
       "    run_inline_js();\n",
       "  } else {\n",
       "    load_libs(css_urls, js_urls, function() {\n",
       "      console.debug(\"Bokeh: BokehJS plotting callback run at\", now());\n",
       "      run_inline_js();\n",
       "    });\n",
       "  }\n",
       "}(window));"
      ],
      "application/vnd.bokehjs_load.v0+json": "\n(function(root) {\n  function now() {\n    return new Date();\n  }\n\n  var force = true;\n\n  if (typeof root._bokeh_onload_callbacks === \"undefined\" || force === true) {\n    root._bokeh_onload_callbacks = [];\n    root._bokeh_is_loading = undefined;\n  }\n\n  \n\n  \n  if (typeof (root._bokeh_timeout) === \"undefined\" || force === true) {\n    root._bokeh_timeout = Date.now() + 5000;\n    root._bokeh_failed_load = false;\n  }\n\n  var NB_LOAD_WARNING = {'data': {'text/html':\n     \"<div style='background-color: #fdd'>\\n\"+\n     \"<p>\\n\"+\n     \"BokehJS does not appear to have successfully loaded. If loading BokehJS from CDN, this \\n\"+\n     \"may be due to a slow or bad network connection. Possible fixes:\\n\"+\n     \"</p>\\n\"+\n     \"<ul>\\n\"+\n     \"<li>re-rerun `output_notebook()` to attempt to load from CDN again, or</li>\\n\"+\n     \"<li>use INLINE resources instead, as so:</li>\\n\"+\n     \"</ul>\\n\"+\n     \"<code>\\n\"+\n     \"from bokeh.resources import INLINE\\n\"+\n     \"output_notebook(resources=INLINE)\\n\"+\n     \"</code>\\n\"+\n     \"</div>\"}};\n\n  function display_loaded() {\n    var el = document.getElementById(\"1001\");\n    if (el != null) {\n      el.textContent = \"BokehJS is loading...\";\n    }\n    if (root.Bokeh !== undefined) {\n      if (el != null) {\n        el.textContent = \"BokehJS \" + root.Bokeh.version + \" successfully loaded.\";\n      }\n    } else if (Date.now() < root._bokeh_timeout) {\n      setTimeout(display_loaded, 100)\n    }\n  }\n\n\n  function run_callbacks() {\n    try {\n      root._bokeh_onload_callbacks.forEach(function(callback) {\n        if (callback != null)\n          callback();\n      });\n    } finally {\n      delete root._bokeh_onload_callbacks\n    }\n    console.debug(\"Bokeh: all callbacks have finished\");\n  }\n\n  function load_libs(css_urls, js_urls, callback) {\n    if (css_urls == null) css_urls = [];\n    if (js_urls == null) js_urls = [];\n\n    root._bokeh_onload_callbacks.push(callback);\n    if (root._bokeh_is_loading > 0) {\n      console.debug(\"Bokeh: BokehJS is being loaded, scheduling callback at\", now());\n      return null;\n    }\n    if (js_urls == null || js_urls.length === 0) {\n      run_callbacks();\n      return null;\n    }\n    console.debug(\"Bokeh: BokehJS not loaded, scheduling load and callback at\", now());\n    root._bokeh_is_loading = css_urls.length + js_urls.length;\n\n    function on_load() {\n      root._bokeh_is_loading--;\n      if (root._bokeh_is_loading === 0) {\n        console.debug(\"Bokeh: all BokehJS libraries/stylesheets loaded\");\n        run_callbacks()\n      }\n    }\n\n    function on_error() {\n      console.error(\"failed to load \" + url);\n    }\n\n    for (var i = 0; i < css_urls.length; i++) {\n      var url = css_urls[i];\n      const element = document.createElement(\"link\");\n      element.onload = on_load;\n      element.onerror = on_error;\n      element.rel = \"stylesheet\";\n      element.type = \"text/css\";\n      element.href = url;\n      console.debug(\"Bokeh: injecting link tag for BokehJS stylesheet: \", url);\n      document.body.appendChild(element);\n    }\n\n    for (var i = 0; i < js_urls.length; i++) {\n      var url = js_urls[i];\n      var element = document.createElement('script');\n      element.onload = on_load;\n      element.onerror = on_error;\n      element.async = false;\n      element.src = url;\n      console.debug(\"Bokeh: injecting script tag for BokehJS library: \", url);\n      document.head.appendChild(element);\n    }\n  };var element = document.getElementById(\"1001\");\n  if (element == null) {\n    console.error(\"Bokeh: ERROR: autoload.js configured with elementid '1001' but no matching script tag was found. \")\n    return false;\n  }\n\n  function inject_raw_css(css) {\n    const element = document.createElement(\"style\");\n    element.appendChild(document.createTextNode(css));\n    document.body.appendChild(element);\n  }\n\n  var js_urls = [\"https://cdn.pydata.org/bokeh/release/bokeh-1.2.0.min.js\", \"https://cdn.pydata.org/bokeh/release/bokeh-widgets-1.2.0.min.js\", \"https://cdn.pydata.org/bokeh/release/bokeh-tables-1.2.0.min.js\", \"https://cdn.pydata.org/bokeh/release/bokeh-gl-1.2.0.min.js\"];\n  var css_urls = [\"https://cdn.pydata.org/bokeh/release/bokeh-1.2.0.min.css\", \"https://cdn.pydata.org/bokeh/release/bokeh-widgets-1.2.0.min.css\", \"https://cdn.pydata.org/bokeh/release/bokeh-tables-1.2.0.min.css\"];\n\n  var inline_js = [\n    function(Bokeh) {\n      Bokeh.set_log_level(\"info\");\n    },\n    \n    function(Bokeh) {\n      \n    },\n    function(Bokeh) {} // ensure no trailing comma for IE\n  ];\n\n  function run_inline_js() {\n    \n    if ((root.Bokeh !== undefined) || (force === true)) {\n      for (var i = 0; i < inline_js.length; i++) {\n        inline_js[i].call(root, root.Bokeh);\n      }if (force === true) {\n        display_loaded();\n      }} else if (Date.now() < root._bokeh_timeout) {\n      setTimeout(run_inline_js, 100);\n    } else if (!root._bokeh_failed_load) {\n      console.log(\"Bokeh: BokehJS failed to load within specified timeout.\");\n      root._bokeh_failed_load = true;\n    } else if (force !== true) {\n      var cell = $(document.getElementById(\"1001\")).parents('.cell').data().cell;\n      cell.output_area.append_execute_result(NB_LOAD_WARNING)\n    }\n\n  }\n\n  if (root._bokeh_is_loading === 0) {\n    console.debug(\"Bokeh: BokehJS loaded, going straight to plotting\");\n    run_inline_js();\n  } else {\n    load_libs(css_urls, js_urls, function() {\n      console.debug(\"Bokeh: BokehJS plotting callback run at\", now());\n      run_inline_js();\n    });\n  }\n}(window));"
     },
     "metadata": {},
     "output_type": "display_data"
    }
   ],
   "source": [
    "from bokeh.io import show, output_notebook\n",
    "from bokeh.layouts import gridplot\n",
    "from bokeh.models.scales import LogScale\n",
    "output_notebook()"
   ]
  },
  {
   "cell_type": "code",
   "execution_count": 3,
   "metadata": {},
   "outputs": [],
   "source": [
    "BASE_DIR = '/home/olavur/experiments/2020-11-13_fargen1_exome_analysis'"
   ]
  },
  {
   "cell_type": "markdown",
   "metadata": {},
   "source": [
    "## Load 1000 Genomes data"
   ]
  },
  {
   "cell_type": "code",
   "execution_count": 4,
   "metadata": {},
   "outputs": [
    {
     "name": "stderr",
     "output_type": "stream",
     "text": [
      "2021-03-10 14:48:06 Hail: INFO: 1KG files found\n"
     ]
    }
   ],
   "source": [
    "hl.utils.get_1kg(BASE_DIR + '/data/1kG_subset/')"
   ]
  },
  {
   "cell_type": "code",
   "execution_count": 5,
   "metadata": {},
   "outputs": [],
   "source": [
    "kg_mt = hl.read_matrix_table(BASE_DIR + '/data/1kG_subset/1kg.mt')"
   ]
  },
  {
   "cell_type": "code",
   "execution_count": 6,
   "metadata": {},
   "outputs": [
    {
     "name": "stdout",
     "output_type": "stream",
     "text": [
      "Number of variants: 10879\n",
      "Number of samples: 284\n"
     ]
    }
   ],
   "source": [
    "n_variants, n_samples = kg_mt.count()\n",
    "print('Number of variants: ' + str(n_variants))\n",
    "print('Number of samples: ' + str(n_samples))"
   ]
  },
  {
   "cell_type": "markdown",
   "metadata": {},
   "source": [
    "Convert the dataset from reference genom GRCh37 to GRCh38."
   ]
  },
  {
   "cell_type": "code",
   "execution_count": 7,
   "metadata": {},
   "outputs": [],
   "source": [
    "# Create a liftover from GRCh37 to GRCh38.\n",
    "rg37 = hl.get_reference('GRCh37')\n",
    "rg38 = hl.get_reference('GRCh38')\n",
    "rg37.add_liftover(BASE_DIR + '/data/resources/liftover/grch37_to_grch38.over.chain.gz', rg38)"
   ]
  },
  {
   "cell_type": "code",
   "execution_count": 8,
   "metadata": {},
   "outputs": [],
   "source": [
    "# Define the locus in GRCh38.\n",
    "kg_mt = kg_mt.annotate_rows(new_locus=hl.liftover(kg_mt.locus, 'GRCh38'))\n",
    "# Remove sites where the new locus isn't defined.\n",
    "kg_mt = kg_mt.filter_rows(hl.is_defined(kg_mt.new_locus))  \n",
    "# Replace the loci by the new loci, and key the rows by locus and alleles.\n",
    "# NOTE: the FarGen exome dataset is keyed by both the locus and the alleles, and it is important that the 1kG\n",
    "# dataset is keyed by the same fields.\n",
    "kg_mt = kg_mt.key_rows_by(locus=kg_mt.new_locus, alleles=kg_mt.alleles)  "
   ]
  },
  {
   "cell_type": "markdown",
   "metadata": {},
   "source": [
    "**TODO:** filter variants based on depth/GQ?"
   ]
  },
  {
   "cell_type": "markdown",
   "metadata": {},
   "source": [
    "## Load FarGen exome data\n",
    "\n",
    "Load filtered, high-quality, variants."
   ]
  },
  {
   "cell_type": "code",
   "execution_count": 9,
   "metadata": {},
   "outputs": [],
   "source": [
    "fargen_mt = hl.read_matrix_table(BASE_DIR + '/data/mt/high_quality_variants.mt/')"
   ]
  },
  {
   "cell_type": "code",
   "execution_count": 10,
   "metadata": {},
   "outputs": [
    {
     "name": "stdout",
     "output_type": "stream",
     "text": [
      "Number of variants: 1194405\n",
      "Number of samples: 474\n"
     ]
    }
   ],
   "source": [
    "n_variants, n_samples = fargen_mt.count()\n",
    "print('Number of variants: ' + str(n_variants))\n",
    "print('Number of samples: ' + str(n_samples))"
   ]
  },
  {
   "cell_type": "markdown",
   "metadata": {},
   "source": [
    "## Drop unconcordant fields\n",
    "\n",
    "We cannot merge the datasets if there are row/column/entry fields that are not in both datasets, so we simply drop all these.\n",
    "\n",
    "**NOTE:** Many of these fields are actually in both datasets, I'm not sure why Hail doesn't accept that they are the same, perhaps the *order* must be the same as well.\n",
    "\n",
    "**NOTE:** I could have used `mt.select('GT', 'alleles', 's')` (or something similar) for the same effect here. Perhaps the `select()` operator even puts the fields in the correct order, such that Hail recognizes that for example the `AD` field in both datasets are the same."
   ]
  },
  {
   "cell_type": "code",
   "execution_count": 12,
   "metadata": {},
   "outputs": [],
   "source": [
    "# Drop row fields.\n",
    "fargen_mt = fargen_mt.drop('MIN_DP', 'PGT', 'PID', 'PP', 'PS', 'RGQ', 'SB', 'AD', 'DP', 'GQ', 'PL')\n",
    "kg_mt = kg_mt.drop('AD', 'DP', 'GQ', 'PL')\n",
    "\n",
    "# Drop column fields.\n",
    "fargen_mt = fargen_mt.drop('sample_qc', 'high_hom_het')"
   ]
  },
  {
   "cell_type": "markdown",
   "metadata": {},
   "source": [
    "## Merge datasets"
   ]
  },
  {
   "cell_type": "code",
   "execution_count": 13,
   "metadata": {},
   "outputs": [],
   "source": [
    "mt = fargen_mt.union_cols(kg_mt)"
   ]
  },
  {
   "cell_type": "code",
   "execution_count": 14,
   "metadata": {},
   "outputs": [
    {
     "name": "stderr",
     "output_type": "stream",
     "text": [
      "2021-03-10 14:48:11 Hail: INFO: Ordering unsorted dataset with network shuffle\n"
     ]
    },
    {
     "name": "stdout",
     "output_type": "stream",
     "text": [
      "Number of variants: 1930\n",
      "Number of samples: 758\n"
     ]
    }
   ],
   "source": [
    "n_variants, n_samples = mt.count()\n",
    "print('Number of variants: ' + str(n_variants))\n",
    "print('Number of samples: ' + str(n_samples))"
   ]
  },
  {
   "cell_type": "markdown",
   "metadata": {},
   "source": [
    "## Population filters\n",
    "\n",
    "Remove variants failing HWE test with $p > 10^{-6}$. Also discard multi-allelic sites."
   ]
  },
  {
   "cell_type": "code",
   "execution_count": 15,
   "metadata": {},
   "outputs": [],
   "source": [
    "mt = mt.filter_rows(hl.len(mt.alleles) == 2)\n",
    "mt = mt.annotate_rows(hwe=hl.agg.hardy_weinberg_test(mt.GT))\n",
    "mt = mt.filter_rows(mt.hwe.p_value > 1e-6)"
   ]
  },
  {
   "cell_type": "code",
   "execution_count": 16,
   "metadata": {},
   "outputs": [
    {
     "name": "stderr",
     "output_type": "stream",
     "text": [
      "2021-03-10 14:48:15 Hail: INFO: Ordering unsorted dataset with network shuffle\n"
     ]
    },
    {
     "name": "stdout",
     "output_type": "stream",
     "text": [
      "Number of variants: 1793\n",
      "Number of samples: 758\n"
     ]
    }
   ],
   "source": [
    "n_variants, n_samples = mt.count()\n",
    "print('Number of variants: ' + str(n_variants))\n",
    "print('Number of samples: ' + str(n_samples))"
   ]
  },
  {
   "cell_type": "markdown",
   "metadata": {},
   "source": [
    "Remove variants with minor allele frequency under 0.01."
   ]
  },
  {
   "cell_type": "code",
   "execution_count": 17,
   "metadata": {},
   "outputs": [],
   "source": [
    "maf_filter = 0.01\n",
    "mt = mt.filter_rows(mt.info.AF[0] > maf_filter)\n",
    "mt = mt.filter_rows(mt.info.AF[0] < (1 - maf_filter))"
   ]
  },
  {
   "cell_type": "code",
   "execution_count": 18,
   "metadata": {},
   "outputs": [
    {
     "name": "stderr",
     "output_type": "stream",
     "text": [
      "2021-03-10 14:48:23 Hail: INFO: Ordering unsorted dataset with network shuffle\n"
     ]
    },
    {
     "name": "stdout",
     "output_type": "stream",
     "text": [
      "Number of variants: 1585\n",
      "Number of samples: 758\n"
     ]
    }
   ],
   "source": [
    "n_variants, n_samples = mt.count()\n",
    "print('Number of variants: ' + str(n_variants))\n",
    "print('Number of samples: ' + str(n_samples))"
   ]
  },
  {
   "cell_type": "markdown",
   "metadata": {},
   "source": [
    "## LD pruning"
   ]
  },
  {
   "cell_type": "code",
   "execution_count": 19,
   "metadata": {},
   "outputs": [
    {
     "name": "stderr",
     "output_type": "stream",
     "text": [
      "2021-03-10 14:48:30 Hail: INFO: ld_prune: running local pruning stage with max queue size of 279621 variants\n",
      "2021-03-10 14:48:30 Hail: INFO: Ordering unsorted dataset with network shuffle\n",
      "2021-03-10 14:48:38 Hail: INFO: wrote table with 1528 rows in 111 partitions to /tmp/4CN2YUxa8ruQhhqTaMPoex\n",
      "    Total size: 63.63 KiB\n",
      "    * Rows: 63.62 KiB\n",
      "    * Globals: 11.00 B\n",
      "    * Smallest partition: 0 rows (21.00 B)\n",
      "    * Largest partition:  35 rows (1.31 KiB)\n",
      "2021-03-10 14:48:39 Hail: INFO: Ordering unsorted dataset with network shuffle\n",
      "2021-03-10 14:50:08 Hail: INFO: Wrote all 1 blocks of 1528 x 758 matrix with block size 4096.\n",
      "2021-03-10 14:50:15 Hail: INFO: wrote table with 0 rows in 1 partition to /tmp/9L1dijnHHJrR2C9QYP9Cy5\n",
      "    Total size: 21.06 KiB\n",
      "    * Rows: 21.00 B\n",
      "    * Globals: 21.04 KiB\n",
      "    * Smallest partition: 0 rows (21.00 B)\n",
      "    * Largest partition:  0 rows (21.00 B)\n"
     ]
    }
   ],
   "source": [
    "pruned_variant_table = hl.ld_prune(mt.GT, r2=0.2, bp_window_size=500000)\n",
    "mt = mt.filter_rows(hl.is_defined(pruned_variant_table[mt.row_key]))"
   ]
  },
  {
   "cell_type": "code",
   "execution_count": 20,
   "metadata": {},
   "outputs": [
    {
     "name": "stderr",
     "output_type": "stream",
     "text": [
      "2021-03-10 14:50:17 Hail: INFO: Ordering unsorted dataset with network shuffle\n"
     ]
    },
    {
     "name": "stdout",
     "output_type": "stream",
     "text": [
      "Number of variants: 1528\n",
      "Number of samples: 758\n"
     ]
    }
   ],
   "source": [
    "n_variants, n_samples = mt.count()\n",
    "print('Number of variants: ' + str(n_variants))\n",
    "print('Number of samples: ' + str(n_samples))"
   ]
  },
  {
   "cell_type": "markdown",
   "metadata": {},
   "source": [
    "## PCA"
   ]
  },
  {
   "cell_type": "code",
   "execution_count": 21,
   "metadata": {},
   "outputs": [
    {
     "name": "stderr",
     "output_type": "stream",
     "text": [
      "2021-03-10 14:50:25 Hail: INFO: Ordering unsorted dataset with network shuffle\n",
      "2021-03-10 14:50:31 Hail: INFO: hwe_normalized_pca: running PCA using 1528 variants.\n",
      "2021-03-10 14:50:32 Hail: INFO: Ordering unsorted dataset with network shuffle\n",
      "2021-03-10 14:50:38 Hail: INFO: pca: running PCA with 2 components...\n"
     ]
    }
   ],
   "source": [
    "eigenvalues, scores, loadings = hl.hwe_normalized_pca(mt.GT, k=2)"
   ]
  },
  {
   "cell_type": "code",
   "execution_count": 22,
   "metadata": {},
   "outputs": [],
   "source": [
    "mt = mt.annotate_cols(scores = scores[mt.s].scores)"
   ]
  },
  {
   "cell_type": "code",
   "execution_count": 23,
   "metadata": {},
   "outputs": [
    {
     "data": {
      "text/html": [
       "\n",
       "\n",
       "\n",
       "\n",
       "\n",
       "\n",
       "  <div class=\"bk-root\" id=\"18298f3d-f09a-4528-81fd-33f39dcd5375\" data-root-id=\"1002\"></div>\n"
      ]
     },
     "metadata": {},
     "output_type": "display_data"
    },
    {
     "data": {
      "application/javascript": [
       "(function(root) {\n",
       "  function embed_document(root) {\n",
       "    \n",
       "  var docs_json = {\"8c677934-15ad-4581-91e3-19a3024e2d75\":{\"roots\":{\"references\":[{\"attributes\":{\"below\":[{\"id\":\"1013\",\"type\":\"LinearAxis\"}],\"center\":[{\"id\":\"1017\",\"type\":\"Grid\"},{\"id\":\"1022\",\"type\":\"Grid\"}],\"left\":[{\"id\":\"1018\",\"type\":\"LinearAxis\"}],\"plot_height\":600,\"plot_width\":800,\"renderers\":[{\"id\":\"1042\",\"type\":\"GlyphRenderer\"}],\"title\":{\"id\":\"1003\",\"type\":\"Title\"},\"toolbar\":{\"id\":\"1029\",\"type\":\"Toolbar\"},\"x_range\":{\"id\":\"1005\",\"type\":\"DataRange1d\"},\"x_scale\":{\"id\":\"1009\",\"type\":\"LinearScale\"},\"y_range\":{\"id\":\"1007\",\"type\":\"DataRange1d\"},\"y_scale\":{\"id\":\"1011\",\"type\":\"LinearScale\"}},\"id\":\"1002\",\"subtype\":\"Figure\",\"type\":\"Plot\"},{\"attributes\":{},\"id\":\"1051\",\"type\":\"Selection\"},{\"attributes\":{\"ticker\":{\"id\":\"1014\",\"type\":\"BasicTicker\"}},\"id\":\"1017\",\"type\":\"Grid\"},{\"attributes\":{\"fill_color\":{\"value\":\"#1f77b4\"},\"line_color\":{\"value\":\"#1f77b4\"},\"x\":{\"field\":\"x\"},\"y\":{\"field\":\"y\"}},\"id\":\"1040\",\"type\":\"Circle\"},{\"attributes\":{\"text\":\"PCA\"},\"id\":\"1003\",\"type\":\"Title\"},{\"attributes\":{\"data_source\":{\"id\":\"1038\",\"type\":\"ColumnDataSource\"},\"glyph\":{\"id\":\"1040\",\"type\":\"Circle\"},\"hover_glyph\":null,\"muted_glyph\":null,\"nonselection_glyph\":{\"id\":\"1041\",\"type\":\"Circle\"},\"selection_glyph\":null,\"view\":{\"id\":\"1043\",\"type\":\"CDSView\"}},\"id\":\"1042\",\"type\":\"GlyphRenderer\"},{\"attributes\":{\"source\":{\"id\":\"1038\",\"type\":\"ColumnDataSource\"}},\"id\":\"1043\",\"type\":\"CDSView\"},{\"attributes\":{\"axis_label\":\"PC2\",\"formatter\":{\"id\":\"1047\",\"type\":\"BasicTickFormatter\"},\"ticker\":{\"id\":\"1019\",\"type\":\"BasicTicker\"}},\"id\":\"1018\",\"type\":\"LinearAxis\"},{\"attributes\":{\"active_drag\":\"auto\",\"active_inspect\":\"auto\",\"active_multi\":null,\"active_scroll\":\"auto\",\"active_tap\":\"auto\",\"tools\":[{\"id\":\"1023\",\"type\":\"PanTool\"},{\"id\":\"1024\",\"type\":\"WheelZoomTool\"},{\"id\":\"1025\",\"type\":\"BoxZoomTool\"},{\"id\":\"1026\",\"type\":\"SaveTool\"},{\"id\":\"1027\",\"type\":\"ResetTool\"},{\"id\":\"1028\",\"type\":\"HelpTool\"},{\"id\":\"1037\",\"type\":\"HoverTool\"}]},\"id\":\"1029\",\"type\":\"Toolbar\"},{\"attributes\":{\"fill_alpha\":{\"value\":0.1},\"fill_color\":{\"value\":\"#1f77b4\"},\"line_alpha\":{\"value\":0.1},\"line_color\":{\"value\":\"#1f77b4\"},\"x\":{\"field\":\"x\"},\"y\":{\"field\":\"y\"}},\"id\":\"1041\",\"type\":\"Circle\"},{\"attributes\":{\"dimension\":1,\"ticker\":{\"id\":\"1019\",\"type\":\"BasicTicker\"}},\"id\":\"1022\",\"type\":\"Grid\"},{\"attributes\":{},\"id\":\"1023\",\"type\":\"PanTool\"},{\"attributes\":{\"callback\":null,\"data\":{\"Sample\":[\"HG02464\",\"HG03267\",\"HG02629\",\"HG03458\",\"HG03105\",\"NA18873\",\"HG03091\",\"NA19397\",\"NA19185\",\"HG03074\",\"HG03511\",\"NA19446\",\"HG02840\",\"HG03193\",\"NA19209\",\"NA19096\",\"HG03451\",\"HG03419\",\"NA18916\",\"HG03380\",\"HG03449\",\"HG02798\",\"HG03366\",\"HG02973\",\"HG03247\",\"HG03556\",\"HG02771\",\"HG02881\",\"NA19390\",\"HG03354\",\"HG02595\",\"HG02811\",\"NA19399\",\"HG03367\",\"NA19113\",\"HG03127\",\"HG03224\",\"NA19118\",\"HG03259\",\"HG02814\",\"HG03241\",\"NA19317\",\"NA19321\",\"NA19379\",\"NA18853\",\"HG02511\",\"NA19384\",\"NA19404\",\"HG02561\",\"HG02010\",\"HG02768\",\"NA18874\",\"HG03563\",\"HG01915\",\"HG02318\",\"NA19466\",\"NA19314\",\"NA18865\",\"HG02970\",\"HG02054\",\"HG03046\",\"HG02497\",\"NA19456\",\"NA18516\",\"NA19448\",\"HG02870\",\"NA19455\",\"HG02419\",\"HG02574\",\"NA19311\",\"NA19701\",\"NA20318\",\"HG02580\",\"HG00704\",\"HG00607\",\"HG01241\",\"HG00583\",\"HG01801\",\"NA18990\",\"NA18975\",\"HG01863\",\"NA20351\",\"HG02521\",\"NA18740\",\"NA19086\",\"HG00623\",\"NA18960\",\"HG00472\",\"NA18557\",\"HG02373\",\"NA18525\",\"HG02122\",\"FN001086\",\"HG00452\",\"NA18565\",\"HG01799\",\"HG00881\",\"HG02250\",\"HG02389\",\"NA18966\",\"NA19063\",\"NA18616\",\"HG00590\",\"NA19060\",\"HG02383\",\"HG00705\",\"NA18976\",\"NA18630\",\"HG01817\",\"HG02087\",\"HG02165\",\"NA18619\",\"HG02020\",\"HG01813\",\"HG02086\",\"HG01848\",\"HG02130\",\"HG02386\",\"NA19076\",\"NA18623\",\"HG02154\",\"HG00657\",\"HG02351\",\"HG00598\",\"HG01812\",\"HG01857\",\"HG01849\",\"HG02116\",\"HG00421\",\"HG02152\",\"NA19087\",\"HG02363\",\"HG02388\",\"HG00534\",\"HG02397\",\"HG01806\",\"NA18978\",\"HG01924\",\"HG00619\",\"HG00663\",\"HG00436\",\"NA18631\",\"NA18541\",\"HG02131\",\"HG00864\",\"HG01874\",\"HG00530\",\"HG02384\",\"HG03598\",\"NA18534\",\"NA19720\",\"HG03684\",\"HG02345\",\"HG03800\",\"HG03832\",\"HG01965\",\"HG03009\",\"NA21118\",\"HG03905\",\"HG04140\",\"HG01572\",\"HG01991\",\"HG04054\",\"HG02259\",\"HG04229\",\"HG03815\",\"NA21113\",\"NA21101\",\"HG03937\",\"HG02688\",\"NA19761\",\"HG03850\",\"HG03873\",\"HG03973\",\"HG04096\",\"HG04210\",\"HG03740\",\"HG02298\",\"NA20888\",\"HG04099\",\"NA19786\",\"HG03686\",\"HG04209\",\"HG03731\",\"HG04239\",\"HG01052\",\"HG01970\",\"NA19657\",\"HG03603\",\"HG04171\",\"HG03607\",\"NA19756\",\"NA21133\",\"NA21143\",\"HG03491\",\"NA21116\",\"HG04063\",\"HG03948\",\"HG03755\",\"HG04059\",\"NA21114\",\"HG02699\",\"HG03690\",\"HG03237\",\"NA20864\",\"HG01443\",\"HG01348\",\"NA19670\",\"NA20910\",\"HG00733\",\"HG03490\",\"HG02603\",\"HG01396\",\"HG01248\",\"HG02682\",\"HG02792\",\"NA20858\",\"NA20877\",\"NA20869\",\"HG01498\",\"HG02651\",\"HG03897\",\"HG03636\",\"NA19764\",\"FN001153\",\"HG01070\",\"NA19655\",\"NA19678\",\"HG01164\",\"HG02690\",\"HG01284\",\"NA20518\",\"HG01275\",\"HG00369\",\"HG01630\",\"FN000917\",\"HG01075\",\"HG01174\",\"NA20587\",\"HG01256\",\"HG00335\",\"HG01491\",\"HG02236\",\"NA20799\",\"HG00274\",\"NA20757\",\"NA11919\",\"FN000538\",\"FN000240\",\"HG00177\",\"NA20529\",\"HG01783\",\"NA12273\",\"HG01537\",\"NA07347\",\"NA12878\",\"NA19679\",\"FN000953\",\"NA20800\",\"HG00265\",\"NA20798\",\"FN000934\",\"HG01623\",\"HG00271\",\"HG00129\",\"NA20810\",\"NA12045\",\"HG01334\",\"FN000184\",\"FN001495\",\"FN000496\",\"FN001434\",\"HG02224\",\"HG00332\",\"FN000598\",\"HG00242\",\"FN000071\",\"FN001437\",\"NA20826\",\"FN001001\",\"NA12760\",\"FN000445\",\"FN001435\",\"FN001436\",\"FN000985\",\"HG02232\",\"FN000902\",\"HG00254\",\"NA20517\",\"FN000395\",\"NA12414\",\"FN000088\",\"FN001247\",\"FN000215\",\"HG00099\",\"FN000092\",\"NA12342\",\"FN001155\",\"FN000507\",\"FN000163\",\"FN000854\",\"FN001152\",\"FN000159\",\"FN001346\",\"FN001485\",\"FN000998\",\"FN001138\",\"FN000671\",\"FN000187\",\"FN000948\",\"FN000893\",\"FN001251\",\"FN000254\",\"FN001158\",\"FN001011\",\"FN000628\",\"FN000017\",\"FN000932\",\"FN000251\",\"FN000488\",\"HG00105\",\"FN000396\",\"FN000386\",\"FN000200\",\"FN000199\",\"FN001426\",\"FN000768\",\"FN000430\",\"FN000878\",\"FN000259\",\"FN000566\",\"FN000435\",\"FN000544\",\"FN000546\",\"FN000824\",\"FN000412\",\"FN000376\",\"FN000629\",\"FN000969\",\"FN000639\",\"FN000185\",\"FN000426\",\"FN001018\",\"HG01790\",\"FN000871\",\"FN000809\",\"FN000607\",\"FN000862\",\"FN001053\",\"FN000887\",\"FN000322\",\"FN001410\",\"FN000377\",\"HG00148\",\"FN000947\",\"FN000450\",\"FN001425\",\"FN000053\",\"FN001366\",\"FN001441\",\"FN000107\",\"FN000562\",\"FN000586\",\"FN000534\",\"FN000388\",\"FN000105\",\"FN000169\",\"FN000558\",\"FN000935\",\"FN001411\",\"FN000749\",\"FN000110\",\"HG00182\",\"FN000277\",\"FN000557\",\"FN001427\",\"FN000248\",\"FN000625\",\"FN001092\",\"FN001004\",\"FN000055\",\"FN000249\",\"FN000217\",\"FN000127\",\"FN001433\",\"NA12546\",\"FN000478\",\"FN000777\",\"FN000320\",\"FN001408\",\"FN000197\",\"FN000045\",\"FN000954\",\"FN001414\",\"FN000381\",\"FN001088\",\"FN000882\",\"FN000418\",\"FN000771\",\"FN000178\",\"FN000441\",\"FN000895\",\"FN001135\",\"FN000763\",\"FN000926\",\"FN000870\",\"FN000522\",\"FN001398\",\"FN001025\",\"FN001249\",\"FN000392\",\"FN000563\",\"FN000943\",\"FN000470\",\"FN001021\",\"FN000303\",\"FN000076\",\"FN000909\",\"FN001407\",\"FN000545\",\"FN000037\",\"FN000952\",\"FN000410\",\"FN000506\",\"FN000794\",\"FN000103\",\"FN000116\",\"FN000804\",\"FN000559\",\"FN000097\",\"FN000920\",\"FN001430\",\"FN000190\",\"FN001377\",\"FN001431\",\"FN000015\",\"FN000180\",\"FN000602\",\"FN001142\",\"FN000931\",\"FN000591\",\"FN000131\",\"FN001109\",\"FN000703\",\"FN000461\",\"FN000958\",\"FN000890\",\"FN001415\",\"FN000867\",\"FN000405\",\"FN000938\",\"FN000619\",\"FN001347\",\"FN000875\",\"FN000476\",\"FN000326\",\"FN001089\",\"FN000945\",\"FN000111\",\"FN000942\",\"FN001020\",\"FN000525\",\"FN000451\",\"FN000237\",\"FN000233\",\"FN000002\",\"FN000121\",\"FN001130\",\"FN001150\",\"FN000617\",\"FN000810\",\"FN000568\",\"FN000774\",\"FN000216\",\"FN000399\",\"FN001482\",\"FN000018\",\"FN000780\",\"FN001416\",\"FN000879\",\"FN000742\",\"FN000152\",\"HG00118\",\"FN000693\",\"FN000504\",\"FN001133\",\"FN000125\",\"FN000873\",\"FN000928\",\"FN000529\",\"FN000369\",\"FN000957\",\"FN000456\",\"FN000925\",\"FN001390\",\"FN000305\",\"FN001143\",\"FN000158\",\"FN000281\",\"FN000419\",\"FN000411\",\"FN001380\",\"FN000930\",\"FN000551\",\"FN000238\",\"FN000447\",\"FN000807\",\"FN000892\",\"FN000697\",\"FN000394\",\"FN000589\",\"FN000473\",\"FN000035\",\"FN000403\",\"FN000020\",\"FN000137\",\"FN000755\",\"FN000021\",\"FN000206\",\"FN000955\",\"FN000138\",\"FN000923\",\"FN000704\",\"FN000769\",\"FN000618\",\"FN000502\",\"FN001085\",\"FN000408\",\"FN001094\",\"FN001117\",\"FN001440\",\"FN000182\",\"FN000495\",\"FN000400\",\"FN000612\",\"FN000421\",\"FN001017\",\"FN001149\",\"FN000518\",\"FN000970\",\"FN000009\",\"FN000778\",\"FN000933\",\"FN000511\",\"FN001438\",\"FN000475\",\"FN000914\",\"FN001394\",\"FN001154\",\"FN000781\",\"NA11918\",\"FN000583\",\"FN000501\",\"FN000912\",\"FN001393\",\"FN000156\",\"FN001134\",\"FN000309\",\"FN000424\",\"FN000244\",\"FN001023\",\"FN001432\",\"FN000971\",\"FN000766\",\"FN000049\",\"FN000581\",\"FN000474\",\"FN001381\",\"FN000033\",\"FN001389\",\"FN001127\",\"FN000442\",\"FN001091\",\"FN000054\",\"FN000039\",\"FN000528\",\"FN000483\",\"FN000635\",\"FN000477\",\"FN000950\",\"FN001046\",\"FN001022\",\"FN001116\",\"FN000001\",\"FN000861\",\"FN000440\",\"FN001444\",\"FN000531\",\"FN000022\",\"FN001413\",\"FN000439\",\"FN001439\",\"FN000106\",\"FN000132\",\"FN000817\",\"FN000387\",\"HG00096\",\"FN000130\",\"FN000770\",\"FN000123\",\"FN001120\",\"FN000119\",\"FN001384\",\"FN001392\",\"FN001379\",\"FN000820\",\"FN000567\",\"FN000191\",\"FN001486\",\"FN001139\",\"FN001110\",\"FN000380\",\"FN001400\",\"FN000489\",\"FN000393\",\"FN000960\",\"FN001395\",\"FN000874\",\"FN001409\",\"FN000061\",\"FN000962\",\"FN001417\",\"FN000905\",\"FN000282\",\"FN000040\",\"FN001488\",\"FN000108\",\"FN000554\",\"FN000177\",\"FN000126\",\"FN000541\",\"FN001019\",\"FN000634\",\"FN000278\",\"FN000904\",\"FN000896\",\"FN000767\",\"FN000929\",\"FN000899\",\"FN000898\",\"FN000572\",\"FN000052\",\"FN000738\",\"FN000313\",\"FN001084\",\"FN000735\",\"FN001115\",\"FN000888\",\"FN000224\",\"FN001490\",\"FN000472\",\"FN000949\",\"FN000038\",\"FN000375\",\"FN000124\",\"FN000599\",\"FN001082\",\"FN001403\",\"FN000550\",\"FN000317\",\"FN000759\",\"FN000252\",\"FN000604\",\"FN000389\",\"FN000160\",\"FN000776\",\"FN001157\",\"FN000050\",\"FN001401\",\"FN000761\",\"FN000416\",\"FN000024\",\"FN001527\",\"FN001418\",\"FN001404\",\"FN000549\",\"FN000881\",\"FN001405\",\"FN001003\",\"FN000527\",\"FN000941\",\"FN000397\",\"FN000289\",\"FN000139\",\"FN001045\",\"FN001374\",\"FN000032\",\"FN000561\",\"FN000122\",\"FN000526\",\"FN000370\",\"FN000906\",\"FN001132\",\"FN000924\",\"FN001428\",\"FN000012\",\"FN000023\",\"FN000036\",\"FN000469\",\"FN001429\",\"FN000523\",\"FN000762\",\"FN000044\",\"FN000966\",\"FN000512\",\"FN000519\",\"FN001093\",\"FN000537\",\"FN000014\",\"FN000284\",\"FN001522\",\"FN000569\",\"FN000521\",\"FN000077\",\"FN001523\",\"FN000034\",\"FN000951\",\"FN000301\",\"FN000877\",\"FN000513\",\"FN000866\",\"FN000236\",\"FN000503\",\"FN000889\",\"FN000242\",\"FN000886\",\"FN000011\",\"FN000939\",\"FN000510\"],\"index\":[0,1,2,3,4,5,6,7,8,9,10,11,12,13,14,15,16,17,18,19,20,21,22,23,24,25,26,27,28,29,30,31,32,33,34,35,36,37,38,39,40,41,42,43,44,45,46,47,48,49,50,51,52,53,54,55,56,57,58,59,60,61,62,63,64,65,66,67,68,69,70,71,72,73,74,75,76,77,78,79,80,81,82,83,84,85,86,87,88,89,90,91,92,93,94,95,96,97,98,99,100,101,102,103,104,105,106,107,108,109,110,111,112,113,114,115,116,117,118,119,120,121,122,123,124,125,126,127,128,129,130,131,132,133,134,135,136,137,138,139,140,141,142,143,144,145,146,147,148,149,150,151,152,153,154,155,156,157,158,159,160,161,162,163,164,165,166,167,168,169,170,171,172,173,174,175,176,177,178,179,180,181,182,183,184,185,186,187,188,189,190,191,192,193,194,195,196,197,198,199,200,201,202,203,204,205,206,207,208,209,210,211,212,213,214,215,216,217,218,219,220,221,222,223,224,225,226,227,228,229,230,231,232,233,234,235,236,237,238,239,240,241,242,243,244,245,246,247,248,249,250,251,252,253,254,255,256,257,258,259,260,261,262,263,264,265,266,267,268,269,270,271,272,273,274,275,276,277,278,279,280,281,282,283,284,285,286,287,288,289,290,291,292,293,294,295,296,297,298,299,300,301,302,303,304,305,306,307,308,309,310,311,312,313,314,315,316,317,318,319,320,321,322,323,324,325,326,327,328,329,330,331,332,333,334,335,336,337,338,339,340,341,342,343,344,345,346,347,348,349,350,351,352,353,354,355,356,357,358,359,360,361,362,363,364,365,366,367,368,369,370,371,372,373,374,375,376,377,378,379,380,381,382,383,384,385,386,387,388,389,390,391,392,393,394,395,396,397,398,399,400,401,402,403,404,405,406,407,408,409,410,411,412,413,414,415,416,417,418,419,420,421,422,423,424,425,426,427,428,429,430,431,432,433,434,435,436,437,438,439,440,441,442,443,444,445,446,447,448,449,450,451,452,453,454,455,456,457,458,459,460,461,462,463,464,465,466,467,468,469,470,471,472,473,474,475,476,477,478,479,480,481,482,483,484,485,486,487,488,489,490,491,492,493,494,495,496,497,498,499,500,501,502,503,504,505,506,507,508,509,510,511,512,513,514,515,516,517,518,519,520,521,522,523,524,525,526,527,528,529,530,531,532,533,534,535,536,537,538,539,540,541,542,543,544,545,546,547,548,549,550,551,552,553,554,555,556,557,558,559,560,561,562,563,564,565,566,567,568,569,570,571,572,573,574,575,576,577,578,579,580,581,582,583,584,585,586,587,588,589,590,591,592,593,594,595,596,597,598,599,600,601,602,603,604,605,606,607,608,609,610,611,612,613,614,615,616,617,618,619,620,621,622,623,624,625,626,627,628,629,630,631,632,633,634,635,636,637,638,639,640,641,642,643,644,645,646,647,648,649,650,651,652,653,654,655,656,657,658,659,660,661,662,663,664,665,666,667,668,669,670,671,672,673,674,675,676,677,678,679,680,681,682,683,684,685,686,687,688,689,690,691,692,693,694,695,696,697,698,699,700,701,702,703,704,705,706,707,708,709,710,711,712,713,714,715,716,717,718,719,720,721,722,723,724,725,726,727,728],\"x\":{\"__ndarray__\":\"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\",\"dtype\":\"float64\",\"shape\":[729]},\"y\":{\"__ndarray__\":\"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\",\"dtype\":\"float64\",\"shape\":[729]}},\"selected\":{\"id\":\"1051\",\"type\":\"Selection\"},\"selection_policy\":{\"id\":\"1050\",\"type\":\"UnionRenderers\"}},\"id\":\"1038\",\"type\":\"ColumnDataSource\"},{\"attributes\":{\"bottom_units\":\"screen\",\"fill_alpha\":{\"value\":0.5},\"fill_color\":{\"value\":\"lightgrey\"},\"left_units\":\"screen\",\"level\":\"overlay\",\"line_alpha\":{\"value\":1.0},\"line_color\":{\"value\":\"black\"},\"line_dash\":[4,4],\"line_width\":{\"value\":2},\"render_mode\":\"css\",\"right_units\":\"screen\",\"top_units\":\"screen\"},\"id\":\"1049\",\"type\":\"BoxAnnotation\"},{\"attributes\":{},\"id\":\"1009\",\"type\":\"LinearScale\"},{\"attributes\":{},\"id\":\"1024\",\"type\":\"WheelZoomTool\"},{\"attributes\":{},\"id\":\"1011\",\"type\":\"LinearScale\"},{\"attributes\":{\"overlay\":{\"id\":\"1049\",\"type\":\"BoxAnnotation\"}},\"id\":\"1025\",\"type\":\"BoxZoomTool\"},{\"attributes\":{},\"id\":\"1027\",\"type\":\"ResetTool\"},{\"attributes\":{},\"id\":\"1019\",\"type\":\"BasicTicker\"},{\"attributes\":{},\"id\":\"1026\",\"type\":\"SaveTool\"},{\"attributes\":{},\"id\":\"1047\",\"type\":\"BasicTickFormatter\"},{\"attributes\":{\"axis_label\":\"PC1\",\"formatter\":{\"id\":\"1045\",\"type\":\"BasicTickFormatter\"},\"ticker\":{\"id\":\"1014\",\"type\":\"BasicTicker\"}},\"id\":\"1013\",\"type\":\"LinearAxis\"},{\"attributes\":{},\"id\":\"1045\",\"type\":\"BasicTickFormatter\"},{\"attributes\":{\"callback\":null,\"tooltips\":[[\"x\",\"@x\"],[\"y\",\"@y\"],[\"Sample\",\"@Sample\"]]},\"id\":\"1037\",\"type\":\"HoverTool\"},{\"attributes\":{},\"id\":\"1028\",\"type\":\"HelpTool\"},{\"attributes\":{},\"id\":\"1014\",\"type\":\"BasicTicker\"},{\"attributes\":{},\"id\":\"1050\",\"type\":\"UnionRenderers\"},{\"attributes\":{\"callback\":null},\"id\":\"1005\",\"type\":\"DataRange1d\"},{\"attributes\":{\"callback\":null},\"id\":\"1007\",\"type\":\"DataRange1d\"}],\"root_ids\":[\"1002\"]},\"title\":\"Bokeh Application\",\"version\":\"1.2.0\"}};\n",
       "  var render_items = [{\"docid\":\"8c677934-15ad-4581-91e3-19a3024e2d75\",\"roots\":{\"1002\":\"18298f3d-f09a-4528-81fd-33f39dcd5375\"}}];\n",
       "  root.Bokeh.embed.embed_items_notebook(docs_json, render_items);\n",
       "\n",
       "  }\n",
       "  if (root.Bokeh !== undefined) {\n",
       "    embed_document(root);\n",
       "  } else {\n",
       "    var attempts = 0;\n",
       "    var timer = setInterval(function(root) {\n",
       "      if (root.Bokeh !== undefined) {\n",
       "        embed_document(root);\n",
       "        clearInterval(timer);\n",
       "      }\n",
       "      attempts++;\n",
       "      if (attempts > 100) {\n",
       "        console.log(\"Bokeh: ERROR: Unable to run BokehJS code because BokehJS library is missing\");\n",
       "        clearInterval(timer);\n",
       "      }\n",
       "    }, 10, root)\n",
       "  }\n",
       "})(window);"
      ],
      "application/vnd.bokehjs_exec.v0+json": ""
     },
     "metadata": {
      "application/vnd.bokehjs_exec.v0+json": {
       "id": "1002"
      }
     },
     "output_type": "display_data"
    }
   ],
   "source": [
    "p = hl.plot.scatter(mt.scores[0],\n",
    "                    mt.scores[1],\n",
    "                    hover_fields={'Sample': mt.s},\n",
    "                    title='PCA', xlabel='PC1', ylabel='PC2')\n",
    "p.plot_width = 800\n",
    "p.plot_height = 600\n",
    "show(p)"
   ]
  },
  {
   "cell_type": "code",
   "execution_count": null,
   "metadata": {},
   "outputs": [],
   "source": []
  }
 ],
 "metadata": {
  "kernelspec": {
   "display_name": "Python [conda env:fargen-1-exome]",
   "language": "python",
   "name": "conda-env-fargen-1-exome-py"
  },
  "language_info": {
   "codemirror_mode": {
    "name": "ipython",
    "version": 3
   },
   "file_extension": ".py",
   "mimetype": "text/x-python",
   "name": "python",
   "nbconvert_exporter": "python",
   "pygments_lexer": "ipython3",
   "version": "3.7.10"
  }
 },
 "nbformat": 4,
 "nbformat_minor": 4
}
