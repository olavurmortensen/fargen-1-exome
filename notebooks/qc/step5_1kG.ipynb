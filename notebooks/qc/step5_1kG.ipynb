{
 "cells": [
  {
   "cell_type": "markdown",
   "metadata": {},
   "source": [
    "# Principal Component Analysis"
   ]
  },
  {
   "cell_type": "code",
   "execution_count": 1,
   "metadata": {},
   "outputs": [
    {
     "name": "stderr",
     "output_type": "stream",
     "text": [
      "Running on Apache Spark version 2.4.1\n",
      "SparkUI available at http://hms-beagle-7889d4ff4c-6wxtc:4040\n",
      "Welcome to\n",
      "     __  __     <>__\n",
      "    / /_/ /__  __/ /\n",
      "   / __  / _ `/ / /\n",
      "  /_/ /_/\\_,_/_/_/   version 0.2.61-3c86d3ba497a\n",
      "LOGGING: writing to /home/olavur/experiments/2020-11-13_fargen1_exome_analysis/fargen-1-exome/notebooks/qc/hail-20210311-0847-0.2.61-3c86d3ba497a.log\n"
     ]
    }
   ],
   "source": [
    "import hail as hl\n",
    "hl.init(spark_conf={'spark.driver.memory': '10g', 'spark.local.dir': '/home/olavur/tmp'})"
   ]
  },
  {
   "cell_type": "code",
   "execution_count": 2,
   "metadata": {},
   "outputs": [
    {
     "data": {
      "text/html": [
       "\n",
       "    <div class=\"bk-root\">\n",
       "        <a href=\"https://bokeh.pydata.org\" target=\"_blank\" class=\"bk-logo bk-logo-small bk-logo-notebook\"></a>\n",
       "        <span id=\"1001\">Loading BokehJS ...</span>\n",
       "    </div>"
      ]
     },
     "metadata": {},
     "output_type": "display_data"
    },
    {
     "data": {
      "application/javascript": [
       "\n",
       "(function(root) {\n",
       "  function now() {\n",
       "    return new Date();\n",
       "  }\n",
       "\n",
       "  var force = true;\n",
       "\n",
       "  if (typeof root._bokeh_onload_callbacks === \"undefined\" || force === true) {\n",
       "    root._bokeh_onload_callbacks = [];\n",
       "    root._bokeh_is_loading = undefined;\n",
       "  }\n",
       "\n",
       "  var JS_MIME_TYPE = 'application/javascript';\n",
       "  var HTML_MIME_TYPE = 'text/html';\n",
       "  var EXEC_MIME_TYPE = 'application/vnd.bokehjs_exec.v0+json';\n",
       "  var CLASS_NAME = 'output_bokeh rendered_html';\n",
       "\n",
       "  /**\n",
       "   * Render data to the DOM node\n",
       "   */\n",
       "  function render(props, node) {\n",
       "    var script = document.createElement(\"script\");\n",
       "    node.appendChild(script);\n",
       "  }\n",
       "\n",
       "  /**\n",
       "   * Handle when an output is cleared or removed\n",
       "   */\n",
       "  function handleClearOutput(event, handle) {\n",
       "    var cell = handle.cell;\n",
       "\n",
       "    var id = cell.output_area._bokeh_element_id;\n",
       "    var server_id = cell.output_area._bokeh_server_id;\n",
       "    // Clean up Bokeh references\n",
       "    if (id != null && id in Bokeh.index) {\n",
       "      Bokeh.index[id].model.document.clear();\n",
       "      delete Bokeh.index[id];\n",
       "    }\n",
       "\n",
       "    if (server_id !== undefined) {\n",
       "      // Clean up Bokeh references\n",
       "      var cmd = \"from bokeh.io.state import curstate; print(curstate().uuid_to_server['\" + server_id + \"'].get_sessions()[0].document.roots[0]._id)\";\n",
       "      cell.notebook.kernel.execute(cmd, {\n",
       "        iopub: {\n",
       "          output: function(msg) {\n",
       "            var id = msg.content.text.trim();\n",
       "            if (id in Bokeh.index) {\n",
       "              Bokeh.index[id].model.document.clear();\n",
       "              delete Bokeh.index[id];\n",
       "            }\n",
       "          }\n",
       "        }\n",
       "      });\n",
       "      // Destroy server and session\n",
       "      var cmd = \"import bokeh.io.notebook as ion; ion.destroy_server('\" + server_id + \"')\";\n",
       "      cell.notebook.kernel.execute(cmd);\n",
       "    }\n",
       "  }\n",
       "\n",
       "  /**\n",
       "   * Handle when a new output is added\n",
       "   */\n",
       "  function handleAddOutput(event, handle) {\n",
       "    var output_area = handle.output_area;\n",
       "    var output = handle.output;\n",
       "\n",
       "    // limit handleAddOutput to display_data with EXEC_MIME_TYPE content only\n",
       "    if ((output.output_type != \"display_data\") || (!output.data.hasOwnProperty(EXEC_MIME_TYPE))) {\n",
       "      return\n",
       "    }\n",
       "\n",
       "    var toinsert = output_area.element.find(\".\" + CLASS_NAME.split(' ')[0]);\n",
       "\n",
       "    if (output.metadata[EXEC_MIME_TYPE][\"id\"] !== undefined) {\n",
       "      toinsert[toinsert.length - 1].firstChild.textContent = output.data[JS_MIME_TYPE];\n",
       "      // store reference to embed id on output_area\n",
       "      output_area._bokeh_element_id = output.metadata[EXEC_MIME_TYPE][\"id\"];\n",
       "    }\n",
       "    if (output.metadata[EXEC_MIME_TYPE][\"server_id\"] !== undefined) {\n",
       "      var bk_div = document.createElement(\"div\");\n",
       "      bk_div.innerHTML = output.data[HTML_MIME_TYPE];\n",
       "      var script_attrs = bk_div.children[0].attributes;\n",
       "      for (var i = 0; i < script_attrs.length; i++) {\n",
       "        toinsert[toinsert.length - 1].firstChild.setAttribute(script_attrs[i].name, script_attrs[i].value);\n",
       "      }\n",
       "      // store reference to server id on output_area\n",
       "      output_area._bokeh_server_id = output.metadata[EXEC_MIME_TYPE][\"server_id\"];\n",
       "    }\n",
       "  }\n",
       "\n",
       "  function register_renderer(events, OutputArea) {\n",
       "\n",
       "    function append_mime(data, metadata, element) {\n",
       "      // create a DOM node to render to\n",
       "      var toinsert = this.create_output_subarea(\n",
       "        metadata,\n",
       "        CLASS_NAME,\n",
       "        EXEC_MIME_TYPE\n",
       "      );\n",
       "      this.keyboard_manager.register_events(toinsert);\n",
       "      // Render to node\n",
       "      var props = {data: data, metadata: metadata[EXEC_MIME_TYPE]};\n",
       "      render(props, toinsert[toinsert.length - 1]);\n",
       "      element.append(toinsert);\n",
       "      return toinsert\n",
       "    }\n",
       "\n",
       "    /* Handle when an output is cleared or removed */\n",
       "    events.on('clear_output.CodeCell', handleClearOutput);\n",
       "    events.on('delete.Cell', handleClearOutput);\n",
       "\n",
       "    /* Handle when a new output is added */\n",
       "    events.on('output_added.OutputArea', handleAddOutput);\n",
       "\n",
       "    /**\n",
       "     * Register the mime type and append_mime function with output_area\n",
       "     */\n",
       "    OutputArea.prototype.register_mime_type(EXEC_MIME_TYPE, append_mime, {\n",
       "      /* Is output safe? */\n",
       "      safe: true,\n",
       "      /* Index of renderer in `output_area.display_order` */\n",
       "      index: 0\n",
       "    });\n",
       "  }\n",
       "\n",
       "  // register the mime type if in Jupyter Notebook environment and previously unregistered\n",
       "  if (root.Jupyter !== undefined) {\n",
       "    var events = require('base/js/events');\n",
       "    var OutputArea = require('notebook/js/outputarea').OutputArea;\n",
       "\n",
       "    if (OutputArea.prototype.mime_types().indexOf(EXEC_MIME_TYPE) == -1) {\n",
       "      register_renderer(events, OutputArea);\n",
       "    }\n",
       "  }\n",
       "\n",
       "  \n",
       "  if (typeof (root._bokeh_timeout) === \"undefined\" || force === true) {\n",
       "    root._bokeh_timeout = Date.now() + 5000;\n",
       "    root._bokeh_failed_load = false;\n",
       "  }\n",
       "\n",
       "  var NB_LOAD_WARNING = {'data': {'text/html':\n",
       "     \"<div style='background-color: #fdd'>\\n\"+\n",
       "     \"<p>\\n\"+\n",
       "     \"BokehJS does not appear to have successfully loaded. If loading BokehJS from CDN, this \\n\"+\n",
       "     \"may be due to a slow or bad network connection. Possible fixes:\\n\"+\n",
       "     \"</p>\\n\"+\n",
       "     \"<ul>\\n\"+\n",
       "     \"<li>re-rerun `output_notebook()` to attempt to load from CDN again, or</li>\\n\"+\n",
       "     \"<li>use INLINE resources instead, as so:</li>\\n\"+\n",
       "     \"</ul>\\n\"+\n",
       "     \"<code>\\n\"+\n",
       "     \"from bokeh.resources import INLINE\\n\"+\n",
       "     \"output_notebook(resources=INLINE)\\n\"+\n",
       "     \"</code>\\n\"+\n",
       "     \"</div>\"}};\n",
       "\n",
       "  function display_loaded() {\n",
       "    var el = document.getElementById(\"1001\");\n",
       "    if (el != null) {\n",
       "      el.textContent = \"BokehJS is loading...\";\n",
       "    }\n",
       "    if (root.Bokeh !== undefined) {\n",
       "      if (el != null) {\n",
       "        el.textContent = \"BokehJS \" + root.Bokeh.version + \" successfully loaded.\";\n",
       "      }\n",
       "    } else if (Date.now() < root._bokeh_timeout) {\n",
       "      setTimeout(display_loaded, 100)\n",
       "    }\n",
       "  }\n",
       "\n",
       "\n",
       "  function run_callbacks() {\n",
       "    try {\n",
       "      root._bokeh_onload_callbacks.forEach(function(callback) {\n",
       "        if (callback != null)\n",
       "          callback();\n",
       "      });\n",
       "    } finally {\n",
       "      delete root._bokeh_onload_callbacks\n",
       "    }\n",
       "    console.debug(\"Bokeh: all callbacks have finished\");\n",
       "  }\n",
       "\n",
       "  function load_libs(css_urls, js_urls, callback) {\n",
       "    if (css_urls == null) css_urls = [];\n",
       "    if (js_urls == null) js_urls = [];\n",
       "\n",
       "    root._bokeh_onload_callbacks.push(callback);\n",
       "    if (root._bokeh_is_loading > 0) {\n",
       "      console.debug(\"Bokeh: BokehJS is being loaded, scheduling callback at\", now());\n",
       "      return null;\n",
       "    }\n",
       "    if (js_urls == null || js_urls.length === 0) {\n",
       "      run_callbacks();\n",
       "      return null;\n",
       "    }\n",
       "    console.debug(\"Bokeh: BokehJS not loaded, scheduling load and callback at\", now());\n",
       "    root._bokeh_is_loading = css_urls.length + js_urls.length;\n",
       "\n",
       "    function on_load() {\n",
       "      root._bokeh_is_loading--;\n",
       "      if (root._bokeh_is_loading === 0) {\n",
       "        console.debug(\"Bokeh: all BokehJS libraries/stylesheets loaded\");\n",
       "        run_callbacks()\n",
       "      }\n",
       "    }\n",
       "\n",
       "    function on_error() {\n",
       "      console.error(\"failed to load \" + url);\n",
       "    }\n",
       "\n",
       "    for (var i = 0; i < css_urls.length; i++) {\n",
       "      var url = css_urls[i];\n",
       "      const element = document.createElement(\"link\");\n",
       "      element.onload = on_load;\n",
       "      element.onerror = on_error;\n",
       "      element.rel = \"stylesheet\";\n",
       "      element.type = \"text/css\";\n",
       "      element.href = url;\n",
       "      console.debug(\"Bokeh: injecting link tag for BokehJS stylesheet: \", url);\n",
       "      document.body.appendChild(element);\n",
       "    }\n",
       "\n",
       "    for (var i = 0; i < js_urls.length; i++) {\n",
       "      var url = js_urls[i];\n",
       "      var element = document.createElement('script');\n",
       "      element.onload = on_load;\n",
       "      element.onerror = on_error;\n",
       "      element.async = false;\n",
       "      element.src = url;\n",
       "      console.debug(\"Bokeh: injecting script tag for BokehJS library: \", url);\n",
       "      document.head.appendChild(element);\n",
       "    }\n",
       "  };var element = document.getElementById(\"1001\");\n",
       "  if (element == null) {\n",
       "    console.error(\"Bokeh: ERROR: autoload.js configured with elementid '1001' but no matching script tag was found. \")\n",
       "    return false;\n",
       "  }\n",
       "\n",
       "  function inject_raw_css(css) {\n",
       "    const element = document.createElement(\"style\");\n",
       "    element.appendChild(document.createTextNode(css));\n",
       "    document.body.appendChild(element);\n",
       "  }\n",
       "\n",
       "  var js_urls = [\"https://cdn.pydata.org/bokeh/release/bokeh-1.2.0.min.js\", \"https://cdn.pydata.org/bokeh/release/bokeh-widgets-1.2.0.min.js\", \"https://cdn.pydata.org/bokeh/release/bokeh-tables-1.2.0.min.js\", \"https://cdn.pydata.org/bokeh/release/bokeh-gl-1.2.0.min.js\"];\n",
       "  var css_urls = [\"https://cdn.pydata.org/bokeh/release/bokeh-1.2.0.min.css\", \"https://cdn.pydata.org/bokeh/release/bokeh-widgets-1.2.0.min.css\", \"https://cdn.pydata.org/bokeh/release/bokeh-tables-1.2.0.min.css\"];\n",
       "\n",
       "  var inline_js = [\n",
       "    function(Bokeh) {\n",
       "      Bokeh.set_log_level(\"info\");\n",
       "    },\n",
       "    \n",
       "    function(Bokeh) {\n",
       "      \n",
       "    },\n",
       "    function(Bokeh) {} // ensure no trailing comma for IE\n",
       "  ];\n",
       "\n",
       "  function run_inline_js() {\n",
       "    \n",
       "    if ((root.Bokeh !== undefined) || (force === true)) {\n",
       "      for (var i = 0; i < inline_js.length; i++) {\n",
       "        inline_js[i].call(root, root.Bokeh);\n",
       "      }if (force === true) {\n",
       "        display_loaded();\n",
       "      }} else if (Date.now() < root._bokeh_timeout) {\n",
       "      setTimeout(run_inline_js, 100);\n",
       "    } else if (!root._bokeh_failed_load) {\n",
       "      console.log(\"Bokeh: BokehJS failed to load within specified timeout.\");\n",
       "      root._bokeh_failed_load = true;\n",
       "    } else if (force !== true) {\n",
       "      var cell = $(document.getElementById(\"1001\")).parents('.cell').data().cell;\n",
       "      cell.output_area.append_execute_result(NB_LOAD_WARNING)\n",
       "    }\n",
       "\n",
       "  }\n",
       "\n",
       "  if (root._bokeh_is_loading === 0) {\n",
       "    console.debug(\"Bokeh: BokehJS loaded, going straight to plotting\");\n",
       "    run_inline_js();\n",
       "  } else {\n",
       "    load_libs(css_urls, js_urls, function() {\n",
       "      console.debug(\"Bokeh: BokehJS plotting callback run at\", now());\n",
       "      run_inline_js();\n",
       "    });\n",
       "  }\n",
       "}(window));"
      ],
      "application/vnd.bokehjs_load.v0+json": "\n(function(root) {\n  function now() {\n    return new Date();\n  }\n\n  var force = true;\n\n  if (typeof root._bokeh_onload_callbacks === \"undefined\" || force === true) {\n    root._bokeh_onload_callbacks = [];\n    root._bokeh_is_loading = undefined;\n  }\n\n  \n\n  \n  if (typeof (root._bokeh_timeout) === \"undefined\" || force === true) {\n    root._bokeh_timeout = Date.now() + 5000;\n    root._bokeh_failed_load = false;\n  }\n\n  var NB_LOAD_WARNING = {'data': {'text/html':\n     \"<div style='background-color: #fdd'>\\n\"+\n     \"<p>\\n\"+\n     \"BokehJS does not appear to have successfully loaded. If loading BokehJS from CDN, this \\n\"+\n     \"may be due to a slow or bad network connection. Possible fixes:\\n\"+\n     \"</p>\\n\"+\n     \"<ul>\\n\"+\n     \"<li>re-rerun `output_notebook()` to attempt to load from CDN again, or</li>\\n\"+\n     \"<li>use INLINE resources instead, as so:</li>\\n\"+\n     \"</ul>\\n\"+\n     \"<code>\\n\"+\n     \"from bokeh.resources import INLINE\\n\"+\n     \"output_notebook(resources=INLINE)\\n\"+\n     \"</code>\\n\"+\n     \"</div>\"}};\n\n  function display_loaded() {\n    var el = document.getElementById(\"1001\");\n    if (el != null) {\n      el.textContent = \"BokehJS is loading...\";\n    }\n    if (root.Bokeh !== undefined) {\n      if (el != null) {\n        el.textContent = \"BokehJS \" + root.Bokeh.version + \" successfully loaded.\";\n      }\n    } else if (Date.now() < root._bokeh_timeout) {\n      setTimeout(display_loaded, 100)\n    }\n  }\n\n\n  function run_callbacks() {\n    try {\n      root._bokeh_onload_callbacks.forEach(function(callback) {\n        if (callback != null)\n          callback();\n      });\n    } finally {\n      delete root._bokeh_onload_callbacks\n    }\n    console.debug(\"Bokeh: all callbacks have finished\");\n  }\n\n  function load_libs(css_urls, js_urls, callback) {\n    if (css_urls == null) css_urls = [];\n    if (js_urls == null) js_urls = [];\n\n    root._bokeh_onload_callbacks.push(callback);\n    if (root._bokeh_is_loading > 0) {\n      console.debug(\"Bokeh: BokehJS is being loaded, scheduling callback at\", now());\n      return null;\n    }\n    if (js_urls == null || js_urls.length === 0) {\n      run_callbacks();\n      return null;\n    }\n    console.debug(\"Bokeh: BokehJS not loaded, scheduling load and callback at\", now());\n    root._bokeh_is_loading = css_urls.length + js_urls.length;\n\n    function on_load() {\n      root._bokeh_is_loading--;\n      if (root._bokeh_is_loading === 0) {\n        console.debug(\"Bokeh: all BokehJS libraries/stylesheets loaded\");\n        run_callbacks()\n      }\n    }\n\n    function on_error() {\n      console.error(\"failed to load \" + url);\n    }\n\n    for (var i = 0; i < css_urls.length; i++) {\n      var url = css_urls[i];\n      const element = document.createElement(\"link\");\n      element.onload = on_load;\n      element.onerror = on_error;\n      element.rel = \"stylesheet\";\n      element.type = \"text/css\";\n      element.href = url;\n      console.debug(\"Bokeh: injecting link tag for BokehJS stylesheet: \", url);\n      document.body.appendChild(element);\n    }\n\n    for (var i = 0; i < js_urls.length; i++) {\n      var url = js_urls[i];\n      var element = document.createElement('script');\n      element.onload = on_load;\n      element.onerror = on_error;\n      element.async = false;\n      element.src = url;\n      console.debug(\"Bokeh: injecting script tag for BokehJS library: \", url);\n      document.head.appendChild(element);\n    }\n  };var element = document.getElementById(\"1001\");\n  if (element == null) {\n    console.error(\"Bokeh: ERROR: autoload.js configured with elementid '1001' but no matching script tag was found. \")\n    return false;\n  }\n\n  function inject_raw_css(css) {\n    const element = document.createElement(\"style\");\n    element.appendChild(document.createTextNode(css));\n    document.body.appendChild(element);\n  }\n\n  var js_urls = [\"https://cdn.pydata.org/bokeh/release/bokeh-1.2.0.min.js\", \"https://cdn.pydata.org/bokeh/release/bokeh-widgets-1.2.0.min.js\", \"https://cdn.pydata.org/bokeh/release/bokeh-tables-1.2.0.min.js\", \"https://cdn.pydata.org/bokeh/release/bokeh-gl-1.2.0.min.js\"];\n  var css_urls = [\"https://cdn.pydata.org/bokeh/release/bokeh-1.2.0.min.css\", \"https://cdn.pydata.org/bokeh/release/bokeh-widgets-1.2.0.min.css\", \"https://cdn.pydata.org/bokeh/release/bokeh-tables-1.2.0.min.css\"];\n\n  var inline_js = [\n    function(Bokeh) {\n      Bokeh.set_log_level(\"info\");\n    },\n    \n    function(Bokeh) {\n      \n    },\n    function(Bokeh) {} // ensure no trailing comma for IE\n  ];\n\n  function run_inline_js() {\n    \n    if ((root.Bokeh !== undefined) || (force === true)) {\n      for (var i = 0; i < inline_js.length; i++) {\n        inline_js[i].call(root, root.Bokeh);\n      }if (force === true) {\n        display_loaded();\n      }} else if (Date.now() < root._bokeh_timeout) {\n      setTimeout(run_inline_js, 100);\n    } else if (!root._bokeh_failed_load) {\n      console.log(\"Bokeh: BokehJS failed to load within specified timeout.\");\n      root._bokeh_failed_load = true;\n    } else if (force !== true) {\n      var cell = $(document.getElementById(\"1001\")).parents('.cell').data().cell;\n      cell.output_area.append_execute_result(NB_LOAD_WARNING)\n    }\n\n  }\n\n  if (root._bokeh_is_loading === 0) {\n    console.debug(\"Bokeh: BokehJS loaded, going straight to plotting\");\n    run_inline_js();\n  } else {\n    load_libs(css_urls, js_urls, function() {\n      console.debug(\"Bokeh: BokehJS plotting callback run at\", now());\n      run_inline_js();\n    });\n  }\n}(window));"
     },
     "metadata": {},
     "output_type": "display_data"
    }
   ],
   "source": [
    "from bokeh.io import show, output_notebook\n",
    "from bokeh.layouts import gridplot\n",
    "from bokeh.models.scales import LogScale\n",
    "output_notebook()"
   ]
  },
  {
   "cell_type": "code",
   "execution_count": 3,
   "metadata": {},
   "outputs": [],
   "source": [
    "BASE_DIR = '/home/olavur/experiments/2020-11-13_fargen1_exome_analysis'"
   ]
  },
  {
   "cell_type": "markdown",
   "metadata": {},
   "source": [
    "## Load 1000 Genomes data"
   ]
  },
  {
   "cell_type": "code",
   "execution_count": 4,
   "metadata": {},
   "outputs": [
    {
     "name": "stderr",
     "output_type": "stream",
     "text": [
      "2021-03-11 08:47:38 Hail: INFO: 1KG files found\n"
     ]
    }
   ],
   "source": [
    "hl.utils.get_1kg(BASE_DIR + '/data/1kG_subset/')"
   ]
  },
  {
   "cell_type": "code",
   "execution_count": 5,
   "metadata": {},
   "outputs": [],
   "source": [
    "kg_mt = hl.read_matrix_table(BASE_DIR + '/data/1kG_subset/1kg.mt')"
   ]
  },
  {
   "cell_type": "code",
   "execution_count": 6,
   "metadata": {},
   "outputs": [
    {
     "name": "stdout",
     "output_type": "stream",
     "text": [
      "Number of variants: 10879\n",
      "Number of samples: 284\n"
     ]
    }
   ],
   "source": [
    "n_variants, n_samples = kg_mt.count()\n",
    "print('Number of variants: ' + str(n_variants))\n",
    "print('Number of samples: ' + str(n_samples))"
   ]
  },
  {
   "cell_type": "markdown",
   "metadata": {},
   "source": [
    "Convert the dataset from reference genom GRCh37 to GRCh38."
   ]
  },
  {
   "cell_type": "code",
   "execution_count": 7,
   "metadata": {},
   "outputs": [],
   "source": [
    "# Create a liftover from GRCh37 to GRCh38.\n",
    "rg37 = hl.get_reference('GRCh37')\n",
    "rg38 = hl.get_reference('GRCh38')\n",
    "rg37.add_liftover(BASE_DIR + '/data/resources/liftover/grch37_to_grch38.over.chain.gz', rg38)"
   ]
  },
  {
   "cell_type": "code",
   "execution_count": 8,
   "metadata": {},
   "outputs": [],
   "source": [
    "# Define the locus in GRCh38.\n",
    "kg_mt = kg_mt.annotate_rows(new_locus=hl.liftover(kg_mt.locus, 'GRCh38'))\n",
    "# Remove sites where the new locus isn't defined.\n",
    "kg_mt = kg_mt.filter_rows(hl.is_defined(kg_mt.new_locus))  \n",
    "# Replace the loci by the new loci, and key the rows by locus and alleles.\n",
    "# NOTE: the FarGen exome dataset is keyed by both the locus and the alleles, and it is important that the 1kG\n",
    "# dataset is keyed by the same fields.\n",
    "kg_mt = kg_mt.key_rows_by(locus=kg_mt.new_locus, alleles=kg_mt.alleles)  "
   ]
  },
  {
   "cell_type": "markdown",
   "metadata": {},
   "source": [
    "**TODO:** filter variants based on depth/GQ?"
   ]
  },
  {
   "cell_type": "markdown",
   "metadata": {},
   "source": [
    "## Load FarGen exome data\n",
    "\n",
    "Load filtered, high-quality, variants."
   ]
  },
  {
   "cell_type": "code",
   "execution_count": 9,
   "metadata": {},
   "outputs": [],
   "source": [
    "fargen_mt = hl.read_matrix_table(BASE_DIR + '/data/mt/high_quality_variants.mt/')"
   ]
  },
  {
   "cell_type": "code",
   "execution_count": 10,
   "metadata": {},
   "outputs": [
    {
     "name": "stdout",
     "output_type": "stream",
     "text": [
      "Number of variants: 1194405\n",
      "Number of samples: 474\n"
     ]
    }
   ],
   "source": [
    "n_variants, n_samples = fargen_mt.count()\n",
    "print('Number of variants: ' + str(n_variants))\n",
    "print('Number of samples: ' + str(n_samples))"
   ]
  },
  {
   "cell_type": "markdown",
   "metadata": {},
   "source": [
    "## Drop unconcordant fields\n",
    "\n",
    "We cannot merge the datasets if there are row/column/entry fields that are not in both datasets, so we simply drop all these.\n",
    "\n",
    "**NOTE:** Many of these fields are actually in both datasets, I'm not sure why Hail doesn't accept that they are the same, perhaps the *order* must be the same as well.\n",
    "\n",
    "**NOTE:** I could have used `mt.select('GT', 'alleles', 's')` (or something similar) for the same effect here. Perhaps the `select()` operator even puts the fields in the correct order, such that Hail recognizes that for example the `AD` field in both datasets are the same."
   ]
  },
  {
   "cell_type": "code",
   "execution_count": 11,
   "metadata": {},
   "outputs": [],
   "source": [
    "# Drop row fields.\n",
    "fargen_mt = fargen_mt.drop('MIN_DP', 'PGT', 'PID', 'PP', 'PS', 'RGQ', 'SB', 'AD', 'DP', 'GQ', 'PL')\n",
    "kg_mt = kg_mt.drop('AD', 'DP', 'GQ', 'PL')\n",
    "\n",
    "# Drop column fields.\n",
    "fargen_mt = fargen_mt.drop('sample_qc', 'high_hom_het')"
   ]
  },
  {
   "cell_type": "markdown",
   "metadata": {},
   "source": [
    "## Merge datasets\n",
    "\n",
    "**TODO:** merge so that unique variants are kept."
   ]
  },
  {
   "cell_type": "code",
   "execution_count": 12,
   "metadata": {},
   "outputs": [],
   "source": [
    "mt = fargen_mt.union_cols(kg_mt)"
   ]
  },
  {
   "cell_type": "code",
   "execution_count": 13,
   "metadata": {},
   "outputs": [
    {
     "name": "stderr",
     "output_type": "stream",
     "text": [
      "2021-03-11 08:47:43 Hail: INFO: Ordering unsorted dataset with network shuffle\n"
     ]
    },
    {
     "name": "stdout",
     "output_type": "stream",
     "text": [
      "Number of variants: 1930\n",
      "Number of samples: 758\n"
     ]
    }
   ],
   "source": [
    "n_variants, n_samples = mt.count()\n",
    "print('Number of variants: ' + str(n_variants))\n",
    "print('Number of samples: ' + str(n_samples))"
   ]
  },
  {
   "cell_type": "markdown",
   "metadata": {},
   "source": [
    "## Population filters\n",
    "\n",
    "**TODO:** Lower HWE threshold. I want to remove genotyping errors, not deviations from HWE due to population structure.\n",
    "\n",
    "Remove variants failing HWE test with $p < 10^{-6}$. Also discard multi-allelic sites."
   ]
  },
  {
   "cell_type": "code",
   "execution_count": 14,
   "metadata": {},
   "outputs": [],
   "source": [
    "mt = mt.filter_rows(hl.len(mt.alleles) == 2)\n",
    "mt = mt.annotate_rows(hwe=hl.agg.hardy_weinberg_test(mt.GT))\n",
    "mt = mt.filter_rows(mt.hwe.p_value > 1e-6)"
   ]
  },
  {
   "cell_type": "code",
   "execution_count": 15,
   "metadata": {},
   "outputs": [
    {
     "name": "stderr",
     "output_type": "stream",
     "text": [
      "2021-03-11 08:47:47 Hail: INFO: Ordering unsorted dataset with network shuffle\n"
     ]
    },
    {
     "name": "stdout",
     "output_type": "stream",
     "text": [
      "Number of variants: 1793\n",
      "Number of samples: 758\n"
     ]
    }
   ],
   "source": [
    "n_variants, n_samples = mt.count()\n",
    "print('Number of variants: ' + str(n_variants))\n",
    "print('Number of samples: ' + str(n_samples))"
   ]
  },
  {
   "cell_type": "markdown",
   "metadata": {},
   "source": [
    "Remove variants with minor allele frequency under 0.01."
   ]
  },
  {
   "cell_type": "code",
   "execution_count": 16,
   "metadata": {},
   "outputs": [],
   "source": [
    "maf_filter = 0.01\n",
    "mt = mt.filter_rows(mt.info.AF[0] > maf_filter)\n",
    "mt = mt.filter_rows(mt.info.AF[0] < (1 - maf_filter))"
   ]
  },
  {
   "cell_type": "code",
   "execution_count": 17,
   "metadata": {},
   "outputs": [
    {
     "name": "stderr",
     "output_type": "stream",
     "text": [
      "2021-03-11 08:47:55 Hail: INFO: Ordering unsorted dataset with network shuffle\n"
     ]
    },
    {
     "name": "stdout",
     "output_type": "stream",
     "text": [
      "Number of variants: 1585\n",
      "Number of samples: 758\n"
     ]
    }
   ],
   "source": [
    "n_variants, n_samples = mt.count()\n",
    "print('Number of variants: ' + str(n_variants))\n",
    "print('Number of samples: ' + str(n_samples))"
   ]
  },
  {
   "cell_type": "markdown",
   "metadata": {},
   "source": [
    "## LD pruning\n",
    "\n",
    "**TODO:** tune r2 parameter"
   ]
  },
  {
   "cell_type": "code",
   "execution_count": 18,
   "metadata": {},
   "outputs": [
    {
     "name": "stderr",
     "output_type": "stream",
     "text": [
      "2021-03-11 08:48:02 Hail: INFO: ld_prune: running local pruning stage with max queue size of 279621 variants\n",
      "2021-03-11 08:48:02 Hail: INFO: Ordering unsorted dataset with network shuffle\n",
      "2021-03-11 08:48:10 Hail: INFO: wrote table with 1528 rows in 111 partitions to /tmp/Gu76CE68M9FXSYpoJVVYn1\n",
      "    Total size: 63.63 KiB\n",
      "    * Rows: 63.62 KiB\n",
      "    * Globals: 11.00 B\n",
      "    * Smallest partition: 0 rows (21.00 B)\n",
      "    * Largest partition:  35 rows (1.31 KiB)\n",
      "2021-03-11 08:48:10 Hail: INFO: Ordering unsorted dataset with network shuffle\n",
      "2021-03-11 08:49:43 Hail: INFO: Wrote all 1 blocks of 1528 x 758 matrix with block size 4096.\n",
      "2021-03-11 08:49:50 Hail: INFO: wrote table with 0 rows in 1 partition to /tmp/6ylTtUU3ZE3BKZt24eaQOT\n",
      "    Total size: 21.06 KiB\n",
      "    * Rows: 21.00 B\n",
      "    * Globals: 21.04 KiB\n",
      "    * Smallest partition: 0 rows (21.00 B)\n",
      "    * Largest partition:  0 rows (21.00 B)\n"
     ]
    }
   ],
   "source": [
    "pruned_variant_table = hl.ld_prune(mt.GT, r2=0.2, bp_window_size=500000)\n",
    "mt = mt.filter_rows(hl.is_defined(pruned_variant_table[mt.row_key]))"
   ]
  },
  {
   "cell_type": "code",
   "execution_count": 19,
   "metadata": {},
   "outputs": [
    {
     "name": "stderr",
     "output_type": "stream",
     "text": [
      "2021-03-11 08:49:51 Hail: INFO: Ordering unsorted dataset with network shuffle\n"
     ]
    },
    {
     "name": "stdout",
     "output_type": "stream",
     "text": [
      "Number of variants: 1528\n",
      "Number of samples: 758\n"
     ]
    }
   ],
   "source": [
    "n_variants, n_samples = mt.count()\n",
    "print('Number of variants: ' + str(n_variants))\n",
    "print('Number of samples: ' + str(n_samples))"
   ]
  },
  {
   "cell_type": "markdown",
   "metadata": {},
   "source": [
    "## PCA"
   ]
  },
  {
   "cell_type": "code",
   "execution_count": 20,
   "metadata": {},
   "outputs": [
    {
     "name": "stderr",
     "output_type": "stream",
     "text": [
      "2021-03-11 08:49:58 Hail: INFO: Ordering unsorted dataset with network shuffle\n",
      "2021-03-11 08:50:05 Hail: INFO: hwe_normalized_pca: running PCA using 1528 variants.\n",
      "2021-03-11 08:50:06 Hail: INFO: Ordering unsorted dataset with network shuffle\n",
      "2021-03-11 08:50:12 Hail: INFO: pca: running PCA with 2 components...\n"
     ]
    }
   ],
   "source": [
    "eigenvalues, scores, loadings = hl.hwe_normalized_pca(mt.GT, k=2)"
   ]
  },
  {
   "cell_type": "code",
   "execution_count": 21,
   "metadata": {},
   "outputs": [],
   "source": [
    "mt = mt.annotate_cols(scores = scores[mt.s].scores)"
   ]
  },
  {
   "cell_type": "code",
   "execution_count": 22,
   "metadata": {},
   "outputs": [
    {
     "data": {
      "text/html": [
       "\n",
       "\n",
       "\n",
       "\n",
       "\n",
       "\n",
       "  <div class=\"bk-root\" id=\"9ae789de-b17a-41b7-8bde-4058fc0fabc0\" data-root-id=\"1002\"></div>\n"
      ]
     },
     "metadata": {},
     "output_type": "display_data"
    },
    {
     "data": {
      "application/javascript": [
       "(function(root) {\n",
       "  function embed_document(root) {\n",
       "    \n",
       "  var docs_json = {\"3107bd52-af9b-424e-acce-bf74b9fed51a\":{\"roots\":{\"references\":[{\"attributes\":{\"below\":[{\"id\":\"1013\",\"type\":\"LinearAxis\"}],\"center\":[{\"id\":\"1017\",\"type\":\"Grid\"},{\"id\":\"1022\",\"type\":\"Grid\"}],\"left\":[{\"id\":\"1018\",\"type\":\"LinearAxis\"}],\"plot_height\":600,\"plot_width\":800,\"renderers\":[{\"id\":\"1042\",\"type\":\"GlyphRenderer\"}],\"title\":{\"id\":\"1003\",\"type\":\"Title\"},\"toolbar\":{\"id\":\"1029\",\"type\":\"Toolbar\"},\"x_range\":{\"id\":\"1005\",\"type\":\"DataRange1d\"},\"x_scale\":{\"id\":\"1009\",\"type\":\"LinearScale\"},\"y_range\":{\"id\":\"1007\",\"type\":\"DataRange1d\"},\"y_scale\":{\"id\":\"1011\",\"type\":\"LinearScale\"}},\"id\":\"1002\",\"subtype\":\"Figure\",\"type\":\"Plot\"},{\"attributes\":{\"callback\":null},\"id\":\"1007\",\"type\":\"DataRange1d\"},{\"attributes\":{\"callback\":null,\"tooltips\":[[\"x\",\"@x\"],[\"y\",\"@y\"],[\"Sample\",\"@Sample\"]]},\"id\":\"1037\",\"type\":\"HoverTool\"},{\"attributes\":{\"active_drag\":\"auto\",\"active_inspect\":\"auto\",\"active_multi\":null,\"active_scroll\":\"auto\",\"active_tap\":\"auto\",\"tools\":[{\"id\":\"1023\",\"type\":\"PanTool\"},{\"id\":\"1024\",\"type\":\"WheelZoomTool\"},{\"id\":\"1025\",\"type\":\"BoxZoomTool\"},{\"id\":\"1026\",\"type\":\"SaveTool\"},{\"id\":\"1027\",\"type\":\"ResetTool\"},{\"id\":\"1028\",\"type\":\"HelpTool\"},{\"id\":\"1037\",\"type\":\"HoverTool\"}]},\"id\":\"1029\",\"type\":\"Toolbar\"},{\"attributes\":{\"text\":\"PCA\"},\"id\":\"1003\",\"type\":\"Title\"},{\"attributes\":{},\"id\":\"1024\",\"type\":\"WheelZoomTool\"},{\"attributes\":{},\"id\":\"1009\",\"type\":\"LinearScale\"},{\"attributes\":{\"bottom_units\":\"screen\",\"fill_alpha\":{\"value\":0.5},\"fill_color\":{\"value\":\"lightgrey\"},\"left_units\":\"screen\",\"level\":\"overlay\",\"line_alpha\":{\"value\":1.0},\"line_color\":{\"value\":\"black\"},\"line_dash\":[4,4],\"line_width\":{\"value\":2},\"render_mode\":\"css\",\"right_units\":\"screen\",\"top_units\":\"screen\"},\"id\":\"1049\",\"type\":\"BoxAnnotation\"},{\"attributes\":{},\"id\":\"1023\",\"type\":\"PanTool\"},{\"attributes\":{},\"id\":\"1051\",\"type\":\"Selection\"},{\"attributes\":{},\"id\":\"1050\",\"type\":\"UnionRenderers\"},{\"attributes\":{},\"id\":\"1011\",\"type\":\"LinearScale\"},{\"attributes\":{\"fill_alpha\":{\"value\":0.1},\"fill_color\":{\"value\":\"#1f77b4\"},\"line_alpha\":{\"value\":0.1},\"line_color\":{\"value\":\"#1f77b4\"},\"x\":{\"field\":\"x\"},\"y\":{\"field\":\"y\"}},\"id\":\"1041\",\"type\":\"Circle\"},{\"attributes\":{\"callback\":null},\"id\":\"1005\",\"type\":\"DataRange1d\"},{\"attributes\":{\"overlay\":{\"id\":\"1049\",\"type\":\"BoxAnnotation\"}},\"id\":\"1025\",\"type\":\"BoxZoomTool\"},{\"attributes\":{},\"id\":\"1028\",\"type\":\"HelpTool\"},{\"attributes\":{},\"id\":\"1014\",\"type\":\"BasicTicker\"},{\"attributes\":{\"axis_label\":\"PC1\",\"formatter\":{\"id\":\"1045\",\"type\":\"BasicTickFormatter\"},\"ticker\":{\"id\":\"1014\",\"type\":\"BasicTicker\"}},\"id\":\"1013\",\"type\":\"LinearAxis\"},{\"attributes\":{\"dimension\":1,\"ticker\":{\"id\":\"1019\",\"type\":\"BasicTicker\"}},\"id\":\"1022\",\"type\":\"Grid\"},{\"attributes\":{},\"id\":\"1026\",\"type\":\"SaveTool\"},{\"attributes\":{},\"id\":\"1047\",\"type\":\"BasicTickFormatter\"},{\"attributes\":{\"data_source\":{\"id\":\"1038\",\"type\":\"ColumnDataSource\"},\"glyph\":{\"id\":\"1040\",\"type\":\"Circle\"},\"hover_glyph\":null,\"muted_glyph\":null,\"nonselection_glyph\":{\"id\":\"1041\",\"type\":\"Circle\"},\"selection_glyph\":null,\"view\":{\"id\":\"1043\",\"type\":\"CDSView\"}},\"id\":\"1042\",\"type\":\"GlyphRenderer\"},{\"attributes\":{},\"id\":\"1027\",\"type\":\"ResetTool\"},{\"attributes\":{\"ticker\":{\"id\":\"1014\",\"type\":\"BasicTicker\"}},\"id\":\"1017\",\"type\":\"Grid\"},{\"attributes\":{\"callback\":null,\"data\":{\"Sample\":[\"HG02464\",\"HG03267\",\"HG02629\",\"HG03458\",\"HG03105\",\"HG03091\",\"NA18873\",\"NA19397\",\"NA19185\",\"HG03074\",\"HG03511\",\"NA19446\",\"HG02840\",\"HG03193\",\"NA19209\",\"NA19096\",\"HG03451\",\"HG03419\",\"NA18916\",\"HG03449\",\"HG02798\",\"HG03380\",\"HG02462\",\"HG03366\",\"HG02973\",\"HG03247\",\"HG03556\",\"HG02771\",\"HG02881\",\"NA19390\",\"HG03354\",\"HG02595\",\"HG02811\",\"NA19399\",\"HG03367\",\"NA19113\",\"HG03127\",\"HG03224\",\"NA19118\",\"HG03259\",\"HG02814\",\"HG03241\",\"NA19317\",\"NA19321\",\"NA19379\",\"NA18853\",\"HG02511\",\"NA19384\",\"NA19404\",\"HG02561\",\"HG02010\",\"HG02768\",\"HG03563\",\"HG02760\",\"NA18874\",\"HG01915\",\"NA19466\",\"HG02318\",\"NA19314\",\"NA18865\",\"HG02970\",\"HG02054\",\"HG03046\",\"HG02497\",\"NA19456\",\"NA18516\",\"NA19448\",\"HG02870\",\"NA19455\",\"HG02419\",\"HG02574\",\"NA19311\",\"NA19701\",\"NA20318\",\"HG02580\",\"HG00704\",\"HG00607\",\"HG01241\",\"HG00583\",\"HG01801\",\"NA18990\",\"NA18975\",\"NA20351\",\"HG02521\",\"HG01863\",\"NA18740\",\"NA19086\",\"HG00623\",\"NA18960\",\"NA18557\",\"HG00472\",\"HG02373\",\"NA18525\",\"FN001086\",\"HG02122\",\"NA18565\",\"HG00452\",\"HG02250\",\"HG01799\",\"HG02389\",\"HG00881\",\"NA18966\",\"NA19063\",\"NA18616\",\"HG00590\",\"NA19060\",\"HG02383\",\"HG00705\",\"NA18976\",\"NA18630\",\"HG01817\",\"HG02165\",\"HG02087\",\"NA18619\",\"HG02086\",\"HG02020\",\"HG01813\",\"HG01848\",\"HG02386\",\"HG02130\",\"NA19076\",\"NA18623\",\"HG02154\",\"HG00657\",\"HG00598\",\"HG02351\",\"HG01857\",\"HG01849\",\"HG01812\",\"HG02116\",\"HG00421\",\"HG02152\",\"NA19087\",\"HG02363\",\"HG02388\",\"HG00534\",\"HG02397\",\"HG01806\",\"NA18978\",\"HG01924\",\"HG00619\",\"HG00663\",\"HG00436\",\"NA18631\",\"NA18541\",\"HG02131\",\"HG00864\",\"HG01874\",\"HG00530\",\"HG02384\",\"HG03598\",\"NA18534\",\"NA19720\",\"HG03684\",\"HG02345\",\"HG03800\",\"HG03832\",\"HG01965\",\"HG03009\",\"NA21118\",\"HG03905\",\"HG04140\",\"HG01572\",\"HG04054\",\"HG01991\",\"HG02259\",\"HG03815\",\"HG04229\",\"NA21101\",\"NA21113\",\"HG03937\",\"HG02688\",\"NA19761\",\"HG03850\",\"HG03973\",\"HG04096\",\"HG03873\",\"HG04210\",\"HG03740\",\"HG02298\",\"HG03686\",\"NA20888\",\"HG04099\",\"NA19786\",\"HG04209\",\"HG01052\",\"HG03731\",\"HG04239\",\"HG01970\",\"NA19657\",\"HG03603\",\"HG04171\",\"HG03607\",\"NA19756\",\"NA21133\",\"NA21143\",\"HG03491\",\"NA21116\",\"HG04063\",\"HG03948\",\"HG04059\",\"HG03755\",\"NA21114\",\"HG03690\",\"HG02699\",\"HG03237\",\"NA20864\",\"HG01443\",\"HG01348\",\"NA19670\",\"NA20910\",\"HG00733\",\"HG03490\",\"HG01396\",\"HG02603\",\"HG01248\",\"HG02682\",\"HG02792\",\"NA20858\",\"NA20877\",\"NA20869\",\"HG01498\",\"HG02651\",\"HG03897\",\"HG03636\",\"NA19764\",\"FN001153\",\"HG01070\",\"NA19655\",\"NA19678\",\"HG01164\",\"HG02690\",\"HG01284\",\"NA20518\",\"HG01275\",\"HG00369\",\"HG01630\",\"FN000917\",\"HG01075\",\"HG01174\",\"NA20587\",\"HG01256\",\"HG00335\",\"HG02236\",\"HG01491\",\"NA20799\",\"HG00274\",\"NA20757\",\"NA11919\",\"FN000538\",\"FN000240\",\"HG00177\",\"HG01783\",\"NA20529\",\"HG01784\",\"NA12273\",\"HG01537\",\"NA07347\",\"NA12878\",\"NA19679\",\"FN000953\",\"NA20800\",\"HG00265\",\"FN000934\",\"HG00271\",\"NA20798\",\"HG01623\",\"HG00129\",\"NA20810\",\"NA12045\",\"HG01606\",\"FN000184\",\"HG01334\",\"FN000496\",\"FN001495\",\"FN001434\",\"HG02224\",\"HG00332\",\"FN000598\",\"HG00242\",\"FN000071\",\"FN001437\",\"NA20826\",\"FN000884\",\"NA12760\",\"FN000445\",\"FN001435\",\"FN000985\",\"HG02232\",\"NA20517\",\"FN000395\",\"NA12414\",\"FN000902\",\"HG00254\",\"FN000215\",\"FN000088\",\"HG00099\",\"FN000092\",\"FN001247\",\"FN001155\",\"NA12342\",\"FN000507\",\"FN000163\",\"FN000159\",\"FN000854\",\"FN001152\",\"FN001346\",\"FN001485\",\"FN000998\",\"FN001138\",\"FN000671\",\"FN000187\",\"FN000948\",\"FN000893\",\"FN001251\",\"FN001158\",\"FN001011\",\"FN000254\",\"FN000628\",\"FN000017\",\"FN000932\",\"HG00105\",\"FN000396\",\"FN000386\",\"FN000200\",\"FN000199\",\"FN000768\",\"FN000251\",\"FN000488\",\"FN000878\",\"FN001426\",\"FN000430\",\"FN000259\",\"FN000566\",\"FN000544\",\"FN000546\",\"FN000376\",\"FN000435\",\"FN000969\",\"FN000426\",\"FN001018\",\"FN000824\",\"HG01790\",\"FN000412\",\"FN000629\",\"FN000639\",\"FN000887\",\"FN000322\",\"FN000871\",\"FN000809\",\"FN000607\",\"FN000862\",\"FN001053\",\"FN000947\",\"FN001410\",\"FN000053\",\"FN000377\",\"HG00148\",\"FN000450\",\"FN001425\",\"FN001366\",\"FN001441\",\"FN000107\",\"FN000562\",\"FN000586\",\"FN000110\",\"FN000534\",\"FN000388\",\"FN000105\",\"FN000169\",\"FN000558\",\"FN000935\",\"FN001411\",\"FN000749\",\"HG00182\",\"FN000277\",\"FN000557\",\"FN001427\",\"FN000248\",\"FN001092\",\"FN000217\",\"FN000127\",\"FN001433\",\"NA12546\",\"FN000625\",\"FN001004\",\"FN000055\",\"FN000478\",\"FN000777\",\"FN000249\",\"FN000320\",\"FN001408\",\"FN000197\",\"FN000954\",\"FN001414\",\"FN000381\",\"FN001088\",\"FN000418\",\"FN000771\",\"FN000045\",\"FN000441\",\"FN000204\",\"FN001135\",\"FN000882\",\"FN000178\",\"FN000522\",\"FN000895\",\"FN001398\",\"FN000926\",\"FN001249\",\"FN000392\",\"FN000870\",\"FN000943\",\"FN000470\",\"FN001021\",\"FN000076\",\"FN001025\",\"FN000563\",\"FN000037\",\"FN000417\",\"FN000303\",\"FN000940\",\"FN000909\",\"FN000116\",\"FN001407\",\"FN000545\",\"FN000559\",\"FN000952\",\"FN000097\",\"FN000410\",\"FN000506\",\"FN000794\",\"FN001430\",\"FN000190\",\"FN000103\",\"FN001431\",\"FN001142\",\"FN000920\",\"FN001377\",\"FN000890\",\"FN000015\",\"FN000180\",\"FN000602\",\"FN000487\",\"FN000931\",\"FN000591\",\"FN000131\",\"FN000867\",\"FN000908\",\"FN001109\",\"FN001347\",\"FN000326\",\"FN000703\",\"FN000958\",\"FN000525\",\"FN000405\",\"FN000938\",\"FN000619\",\"FN001383\",\"FN000875\",\"FN000476\",\"FN001089\",\"FN000945\",\"FN000111\",\"FN000942\",\"FN001020\",\"FN000451\",\"FN000913\",\"FN000237\",\"FN000002\",\"FN000121\",\"FN001130\",\"FN001150\",\"FN000617\",\"FN000810\",\"FN000568\",\"FN000774\",\"FN000216\",\"FN000399\",\"FN001482\",\"FN000018\",\"FN000780\",\"FN001416\",\"FN000742\",\"FN000152\",\"HG00118\",\"FN000693\",\"FN000504\",\"FN001133\",\"FN000873\",\"FN000928\",\"FN000529\",\"FN000369\",\"FN000456\",\"FN001390\",\"FN000305\",\"FN001143\",\"FN000414\",\"FN000158\",\"FN000957\",\"FN000281\",\"FN000411\",\"FN000925\",\"FN001380\",\"FN000930\",\"FN000551\",\"FN000238\",\"FN000807\",\"FN000892\",\"FN000697\",\"FN000419\",\"FN000394\",\"FN000473\",\"FN000403\",\"FN000137\",\"FN000755\",\"FN000447\",\"FN000021\",\"FN000206\",\"FN000138\",\"FN000589\",\"FN000035\",\"FN000020\",\"FN001085\",\"FN000955\",\"FN000408\",\"FN001094\",\"FN001117\",\"FN000923\",\"FN000704\",\"FN000769\",\"FN000618\",\"FN000502\",\"FN000612\",\"FN000421\",\"FN001017\",\"FN000518\",\"FN000009\",\"FN001440\",\"FN000182\",\"FN000495\",\"FN000400\",\"FN001149\",\"FN000970\",\"FN000778\",\"FN001394\",\"FN001154\",\"FN000933\",\"FN000511\",\"FN001438\",\"FN000914\",\"FN001134\",\"FN000781\",\"NA11918\",\"FN000244\",\"FN000583\",\"FN000501\",\"FN000912\",\"FN000581\",\"FN001393\",\"FN000156\",\"FN001381\",\"FN000033\",\"FN000309\",\"FN000424\",\"FN001023\",\"FN001432\",\"FN000971\",\"FN000049\",\"FN000474\",\"FN001389\",\"FN001127\",\"FN000442\",\"FN001091\",\"FN000054\",\"FN000039\",\"FN000528\",\"FN000019\",\"FN000483\",\"FN000635\",\"FN000477\",\"FN000950\",\"FN001046\",\"FN001116\",\"FN000001\",\"FN001371\",\"FN000440\",\"FN001444\",\"FN000531\",\"FN000022\",\"FN001413\",\"FN001439\",\"FN000106\",\"FN001022\",\"FN001111\",\"FN001118\",\"FN000387\",\"FN000130\",\"FN000770\",\"FN000123\",\"FN001120\",\"FN000306\",\"FN000119\",\"FN001384\",\"HG00096\",\"FN000191\",\"FN001486\",\"FN001110\",\"FN001392\",\"FN000380\",\"FN001400\",\"FN000489\",\"FN001379\",\"FN000820\",\"FN000393\",\"FN000567\",\"FN000960\",\"FN000874\",\"FN001409\",\"FN000061\",\"FN001139\",\"FN000962\",\"FN000905\",\"FN000040\",\"FN001488\",\"FN000108\",\"FN000554\",\"FN001417\",\"FN000282\",\"FN000177\",\"FN000126\",\"FN000541\",\"FN001019\",\"FN000767\",\"FN000572\",\"FN000634\",\"FN000738\",\"FN000278\",\"FN000904\",\"FN000896\",\"FN000735\",\"FN001115\",\"FN001490\",\"FN000929\",\"FN000899\",\"FN000898\",\"FN000949\",\"FN000052\",\"FN000313\",\"FN001084\",\"FN000888\",\"FN000224\",\"FN000599\",\"FN000472\",\"FN000038\",\"FN000375\",\"FN000124\",\"FN001082\",\"FN001403\",\"FN001151\",\"FN000317\",\"FN000759\",\"FN000252\",\"FN000604\",\"FN000389\",\"FN000160\",\"FN000776\",\"FN001157\",\"FN000050\",\"FN001401\",\"FN000761\",\"FN000416\",\"FN000024\",\"FN001527\",\"FN001418\",\"FN001404\",\"FN000549\",\"FN000881\",\"FN001003\",\"FN000922\",\"FN000527\",\"FN000941\",\"FN000397\",\"FN001405\",\"FN000139\",\"FN001045\",\"FN001374\",\"FN000032\",\"FN000561\",\"FN000122\",\"FN000289\",\"FN000526\",\"FN000370\",\"FN000906\",\"FN001132\",\"FN000924\",\"FN000023\",\"FN000036\",\"FN001429\",\"FN000523\",\"FN001428\",\"FN000012\",\"FN000762\",\"FN000469\",\"FN000044\",\"FN000966\",\"FN000512\",\"FN000374\",\"FN000519\",\"FN001093\",\"FN001522\",\"FN000537\",\"FN000014\",\"FN000284\",\"FN000569\",\"FN000521\",\"FN000077\",\"FN001523\",\"FN000034\",\"FN000951\",\"FN000301\",\"FN000877\",\"FN000513\",\"FN000866\",\"FN000236\",\"FN000503\",\"FN000889\",\"FN000242\",\"FN000886\",\"FN000011\",\"FN000939\",\"FN000510\"],\"index\":[0,1,2,3,4,5,6,7,8,9,10,11,12,13,14,15,16,17,18,19,20,21,22,23,24,25,26,27,28,29,30,31,32,33,34,35,36,37,38,39,40,41,42,43,44,45,46,47,48,49,50,51,52,53,54,55,56,57,58,59,60,61,62,63,64,65,66,67,68,69,70,71,72,73,74,75,76,77,78,79,80,81,82,83,84,85,86,87,88,89,90,91,92,93,94,95,96,97,98,99,100,101,102,103,104,105,106,107,108,109,110,111,112,113,114,115,116,117,118,119,120,121,122,123,124,125,126,127,128,129,130,131,132,133,134,135,136,137,138,139,140,141,142,143,144,145,146,147,148,149,150,151,152,153,154,155,156,157,158,159,160,161,162,163,164,165,166,167,168,169,170,171,172,173,174,175,176,177,178,179,180,181,182,183,184,185,186,187,188,189,190,191,192,193,194,195,196,197,198,199,200,201,202,203,204,205,206,207,208,209,210,211,212,213,214,215,216,217,218,219,220,221,222,223,224,225,226,227,228,229,230,231,232,233,234,235,236,237,238,239,240,241,242,243,244,245,246,247,248,249,250,251,252,253,254,255,256,257,258,259,260,261,262,263,264,265,266,267,268,269,270,271,272,273,274,275,276,277,278,279,280,281,282,283,284,285,286,287,288,289,290,291,292,293,294,295,296,297,298,299,300,301,302,303,304,305,306,307,308,309,310,311,312,313,314,315,316,317,318,319,320,321,322,323,324,325,326,327,328,329,330,331,332,333,334,335,336,337,338,339,340,341,342,343,344,345,346,347,348,349,350,351,352,353,354,355,356,357,358,359,360,361,362,363,364,365,366,367,368,369,370,371,372,373,374,375,376,377,378,379,380,381,382,383,384,385,386,387,388,389,390,391,392,393,394,395,396,397,398,399,400,401,402,403,404,405,406,407,408,409,410,411,412,413,414,415,416,417,418,419,420,421,422,423,424,425,426,427,428,429,430,431,432,433,434,435,436,437,438,439,440,441,442,443,444,445,446,447,448,449,450,451,452,453,454,455,456,457,458,459,460,461,462,463,464,465,466,467,468,469,470,471,472,473,474,475,476,477,478,479,480,481,482,483,484,485,486,487,488,489,490,491,492,493,494,495,496,497,498,499,500,501,502,503,504,505,506,507,508,509,510,511,512,513,514,515,516,517,518,519,520,521,522,523,524,525,526,527,528,529,530,531,532,533,534,535,536,537,538,539,540,541,542,543,544,545,546,547,548,549,550,551,552,553,554,555,556,557,558,559,560,561,562,563,564,565,566,567,568,569,570,571,572,573,574,575,576,577,578,579,580,581,582,583,584,585,586,587,588,589,590,591,592,593,594,595,596,597,598,599,600,601,602,603,604,605,606,607,608,609,610,611,612,613,614,615,616,617,618,619,620,621,622,623,624,625,626,627,628,629,630,631,632,633,634,635,636,637,638,639,640,641,642,643,644,645,646,647,648,649,650,651,652,653,654,655,656,657,658,659,660,661,662,663,664,665,666,667,668,669,670,671,672,673,674,675,676,677,678,679,680,681,682,683,684,685,686,687,688,689,690,691,692,693,694,695,696,697,698,699,700,701,702,703,704,705,706,707,708,709,710,711,712,713,714,715,716,717,718,719,720,721,722,723,724,725,726,727,728,729,730,731],\"x\":{\"__ndarray__\":\"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\",\"dtype\":\"float64\",\"shape\":[732]},\"y\":{\"__ndarray__\":\"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\",\"dtype\":\"float64\",\"shape\":[732]}},\"selected\":{\"id\":\"1051\",\"type\":\"Selection\"},\"selection_policy\":{\"id\":\"1050\",\"type\":\"UnionRenderers\"}},\"id\":\"1038\",\"type\":\"ColumnDataSource\"},{\"attributes\":{},\"id\":\"1045\",\"type\":\"BasicTickFormatter\"},{\"attributes\":{},\"id\":\"1019\",\"type\":\"BasicTicker\"},{\"attributes\":{\"fill_color\":{\"value\":\"#1f77b4\"},\"line_color\":{\"value\":\"#1f77b4\"},\"x\":{\"field\":\"x\"},\"y\":{\"field\":\"y\"}},\"id\":\"1040\",\"type\":\"Circle\"},{\"attributes\":{\"axis_label\":\"PC2\",\"formatter\":{\"id\":\"1047\",\"type\":\"BasicTickFormatter\"},\"ticker\":{\"id\":\"1019\",\"type\":\"BasicTicker\"}},\"id\":\"1018\",\"type\":\"LinearAxis\"},{\"attributes\":{\"source\":{\"id\":\"1038\",\"type\":\"ColumnDataSource\"}},\"id\":\"1043\",\"type\":\"CDSView\"}],\"root_ids\":[\"1002\"]},\"title\":\"Bokeh Application\",\"version\":\"1.2.0\"}};\n",
       "  var render_items = [{\"docid\":\"3107bd52-af9b-424e-acce-bf74b9fed51a\",\"roots\":{\"1002\":\"9ae789de-b17a-41b7-8bde-4058fc0fabc0\"}}];\n",
       "  root.Bokeh.embed.embed_items_notebook(docs_json, render_items);\n",
       "\n",
       "  }\n",
       "  if (root.Bokeh !== undefined) {\n",
       "    embed_document(root);\n",
       "  } else {\n",
       "    var attempts = 0;\n",
       "    var timer = setInterval(function(root) {\n",
       "      if (root.Bokeh !== undefined) {\n",
       "        embed_document(root);\n",
       "        clearInterval(timer);\n",
       "      }\n",
       "      attempts++;\n",
       "      if (attempts > 100) {\n",
       "        console.log(\"Bokeh: ERROR: Unable to run BokehJS code because BokehJS library is missing\");\n",
       "        clearInterval(timer);\n",
       "      }\n",
       "    }, 10, root)\n",
       "  }\n",
       "})(window);"
      ],
      "application/vnd.bokehjs_exec.v0+json": ""
     },
     "metadata": {
      "application/vnd.bokehjs_exec.v0+json": {
       "id": "1002"
      }
     },
     "output_type": "display_data"
    }
   ],
   "source": [
    "p = hl.plot.scatter(mt.scores[0],\n",
    "                    mt.scores[1],\n",
    "                    hover_fields={'Sample': mt.s},\n",
    "                    title='PCA', xlabel='PC1', ylabel='PC2')\n",
    "p.plot_width = 800\n",
    "p.plot_height = 600\n",
    "show(p)"
   ]
  },
  {
   "cell_type": "code",
   "execution_count": null,
   "metadata": {},
   "outputs": [],
   "source": []
  }
 ],
 "metadata": {
  "kernelspec": {
   "display_name": "Python [conda env:fargen-1-exome]",
   "language": "python",
   "name": "conda-env-fargen-1-exome-py"
  },
  "language_info": {
   "codemirror_mode": {
    "name": "ipython",
    "version": 3
   },
   "file_extension": ".py",
   "mimetype": "text/x-python",
   "name": "python",
   "nbconvert_exporter": "python",
   "pygments_lexer": "ipython3",
   "version": "3.7.10"
  }
 },
 "nbformat": 4,
 "nbformat_minor": 4
}
