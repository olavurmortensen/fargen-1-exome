{
 "cells": [
  {
   "cell_type": "markdown",
   "metadata": {},
   "source": [
    "# Principal Component Analysis"
   ]
  },
  {
   "cell_type": "code",
   "execution_count": 1,
   "metadata": {},
   "outputs": [
    {
     "name": "stderr",
     "output_type": "stream",
     "text": [
      "Running on Apache Spark version 2.4.1\n",
      "SparkUI available at http://hms-beagle-7889d4ff4c-z7fmq:4041\n",
      "Welcome to\n",
      "     __  __     <>__\n",
      "    / /_/ /__  __/ /\n",
      "   / __  / _ `/ / /\n",
      "  /_/ /_/\\_,_/_/_/   version 0.2.61-3c86d3ba497a\n",
      "LOGGING: writing to /home/olavur/experiments/2020-11-13_fargen1_exome_analysis/fargen-1-exome/notebooks/hail-20210304-1442-0.2.61-3c86d3ba497a.log\n"
     ]
    }
   ],
   "source": [
    "import hail as hl\n",
    "hl.init(spark_conf={'spark.driver.memory': '10g'})"
   ]
  },
  {
   "cell_type": "code",
   "execution_count": 34,
   "metadata": {},
   "outputs": [
    {
     "data": {
      "text/html": [
       "\n",
       "    <div class=\"bk-root\">\n",
       "        <a href=\"https://bokeh.pydata.org\" target=\"_blank\" class=\"bk-logo bk-logo-small bk-logo-notebook\"></a>\n",
       "        <span id=\"1043\">Loading BokehJS ...</span>\n",
       "    </div>"
      ]
     },
     "metadata": {},
     "output_type": "display_data"
    },
    {
     "data": {
      "application/javascript": [
       "\n",
       "(function(root) {\n",
       "  function now() {\n",
       "    return new Date();\n",
       "  }\n",
       "\n",
       "  var force = true;\n",
       "\n",
       "  if (typeof root._bokeh_onload_callbacks === \"undefined\" || force === true) {\n",
       "    root._bokeh_onload_callbacks = [];\n",
       "    root._bokeh_is_loading = undefined;\n",
       "  }\n",
       "\n",
       "  var JS_MIME_TYPE = 'application/javascript';\n",
       "  var HTML_MIME_TYPE = 'text/html';\n",
       "  var EXEC_MIME_TYPE = 'application/vnd.bokehjs_exec.v0+json';\n",
       "  var CLASS_NAME = 'output_bokeh rendered_html';\n",
       "\n",
       "  /**\n",
       "   * Render data to the DOM node\n",
       "   */\n",
       "  function render(props, node) {\n",
       "    var script = document.createElement(\"script\");\n",
       "    node.appendChild(script);\n",
       "  }\n",
       "\n",
       "  /**\n",
       "   * Handle when an output is cleared or removed\n",
       "   */\n",
       "  function handleClearOutput(event, handle) {\n",
       "    var cell = handle.cell;\n",
       "\n",
       "    var id = cell.output_area._bokeh_element_id;\n",
       "    var server_id = cell.output_area._bokeh_server_id;\n",
       "    // Clean up Bokeh references\n",
       "    if (id != null && id in Bokeh.index) {\n",
       "      Bokeh.index[id].model.document.clear();\n",
       "      delete Bokeh.index[id];\n",
       "    }\n",
       "\n",
       "    if (server_id !== undefined) {\n",
       "      // Clean up Bokeh references\n",
       "      var cmd = \"from bokeh.io.state import curstate; print(curstate().uuid_to_server['\" + server_id + \"'].get_sessions()[0].document.roots[0]._id)\";\n",
       "      cell.notebook.kernel.execute(cmd, {\n",
       "        iopub: {\n",
       "          output: function(msg) {\n",
       "            var id = msg.content.text.trim();\n",
       "            if (id in Bokeh.index) {\n",
       "              Bokeh.index[id].model.document.clear();\n",
       "              delete Bokeh.index[id];\n",
       "            }\n",
       "          }\n",
       "        }\n",
       "      });\n",
       "      // Destroy server and session\n",
       "      var cmd = \"import bokeh.io.notebook as ion; ion.destroy_server('\" + server_id + \"')\";\n",
       "      cell.notebook.kernel.execute(cmd);\n",
       "    }\n",
       "  }\n",
       "\n",
       "  /**\n",
       "   * Handle when a new output is added\n",
       "   */\n",
       "  function handleAddOutput(event, handle) {\n",
       "    var output_area = handle.output_area;\n",
       "    var output = handle.output;\n",
       "\n",
       "    // limit handleAddOutput to display_data with EXEC_MIME_TYPE content only\n",
       "    if ((output.output_type != \"display_data\") || (!output.data.hasOwnProperty(EXEC_MIME_TYPE))) {\n",
       "      return\n",
       "    }\n",
       "\n",
       "    var toinsert = output_area.element.find(\".\" + CLASS_NAME.split(' ')[0]);\n",
       "\n",
       "    if (output.metadata[EXEC_MIME_TYPE][\"id\"] !== undefined) {\n",
       "      toinsert[toinsert.length - 1].firstChild.textContent = output.data[JS_MIME_TYPE];\n",
       "      // store reference to embed id on output_area\n",
       "      output_area._bokeh_element_id = output.metadata[EXEC_MIME_TYPE][\"id\"];\n",
       "    }\n",
       "    if (output.metadata[EXEC_MIME_TYPE][\"server_id\"] !== undefined) {\n",
       "      var bk_div = document.createElement(\"div\");\n",
       "      bk_div.innerHTML = output.data[HTML_MIME_TYPE];\n",
       "      var script_attrs = bk_div.children[0].attributes;\n",
       "      for (var i = 0; i < script_attrs.length; i++) {\n",
       "        toinsert[toinsert.length - 1].firstChild.setAttribute(script_attrs[i].name, script_attrs[i].value);\n",
       "      }\n",
       "      // store reference to server id on output_area\n",
       "      output_area._bokeh_server_id = output.metadata[EXEC_MIME_TYPE][\"server_id\"];\n",
       "    }\n",
       "  }\n",
       "\n",
       "  function register_renderer(events, OutputArea) {\n",
       "\n",
       "    function append_mime(data, metadata, element) {\n",
       "      // create a DOM node to render to\n",
       "      var toinsert = this.create_output_subarea(\n",
       "        metadata,\n",
       "        CLASS_NAME,\n",
       "        EXEC_MIME_TYPE\n",
       "      );\n",
       "      this.keyboard_manager.register_events(toinsert);\n",
       "      // Render to node\n",
       "      var props = {data: data, metadata: metadata[EXEC_MIME_TYPE]};\n",
       "      render(props, toinsert[toinsert.length - 1]);\n",
       "      element.append(toinsert);\n",
       "      return toinsert\n",
       "    }\n",
       "\n",
       "    /* Handle when an output is cleared or removed */\n",
       "    events.on('clear_output.CodeCell', handleClearOutput);\n",
       "    events.on('delete.Cell', handleClearOutput);\n",
       "\n",
       "    /* Handle when a new output is added */\n",
       "    events.on('output_added.OutputArea', handleAddOutput);\n",
       "\n",
       "    /**\n",
       "     * Register the mime type and append_mime function with output_area\n",
       "     */\n",
       "    OutputArea.prototype.register_mime_type(EXEC_MIME_TYPE, append_mime, {\n",
       "      /* Is output safe? */\n",
       "      safe: true,\n",
       "      /* Index of renderer in `output_area.display_order` */\n",
       "      index: 0\n",
       "    });\n",
       "  }\n",
       "\n",
       "  // register the mime type if in Jupyter Notebook environment and previously unregistered\n",
       "  if (root.Jupyter !== undefined) {\n",
       "    var events = require('base/js/events');\n",
       "    var OutputArea = require('notebook/js/outputarea').OutputArea;\n",
       "\n",
       "    if (OutputArea.prototype.mime_types().indexOf(EXEC_MIME_TYPE) == -1) {\n",
       "      register_renderer(events, OutputArea);\n",
       "    }\n",
       "  }\n",
       "\n",
       "  \n",
       "  if (typeof (root._bokeh_timeout) === \"undefined\" || force === true) {\n",
       "    root._bokeh_timeout = Date.now() + 5000;\n",
       "    root._bokeh_failed_load = false;\n",
       "  }\n",
       "\n",
       "  var NB_LOAD_WARNING = {'data': {'text/html':\n",
       "     \"<div style='background-color: #fdd'>\\n\"+\n",
       "     \"<p>\\n\"+\n",
       "     \"BokehJS does not appear to have successfully loaded. If loading BokehJS from CDN, this \\n\"+\n",
       "     \"may be due to a slow or bad network connection. Possible fixes:\\n\"+\n",
       "     \"</p>\\n\"+\n",
       "     \"<ul>\\n\"+\n",
       "     \"<li>re-rerun `output_notebook()` to attempt to load from CDN again, or</li>\\n\"+\n",
       "     \"<li>use INLINE resources instead, as so:</li>\\n\"+\n",
       "     \"</ul>\\n\"+\n",
       "     \"<code>\\n\"+\n",
       "     \"from bokeh.resources import INLINE\\n\"+\n",
       "     \"output_notebook(resources=INLINE)\\n\"+\n",
       "     \"</code>\\n\"+\n",
       "     \"</div>\"}};\n",
       "\n",
       "  function display_loaded() {\n",
       "    var el = document.getElementById(\"1043\");\n",
       "    if (el != null) {\n",
       "      el.textContent = \"BokehJS is loading...\";\n",
       "    }\n",
       "    if (root.Bokeh !== undefined) {\n",
       "      if (el != null) {\n",
       "        el.textContent = \"BokehJS \" + root.Bokeh.version + \" successfully loaded.\";\n",
       "      }\n",
       "    } else if (Date.now() < root._bokeh_timeout) {\n",
       "      setTimeout(display_loaded, 100)\n",
       "    }\n",
       "  }\n",
       "\n",
       "\n",
       "  function run_callbacks() {\n",
       "    try {\n",
       "      root._bokeh_onload_callbacks.forEach(function(callback) {\n",
       "        if (callback != null)\n",
       "          callback();\n",
       "      });\n",
       "    } finally {\n",
       "      delete root._bokeh_onload_callbacks\n",
       "    }\n",
       "    console.debug(\"Bokeh: all callbacks have finished\");\n",
       "  }\n",
       "\n",
       "  function load_libs(css_urls, js_urls, callback) {\n",
       "    if (css_urls == null) css_urls = [];\n",
       "    if (js_urls == null) js_urls = [];\n",
       "\n",
       "    root._bokeh_onload_callbacks.push(callback);\n",
       "    if (root._bokeh_is_loading > 0) {\n",
       "      console.debug(\"Bokeh: BokehJS is being loaded, scheduling callback at\", now());\n",
       "      return null;\n",
       "    }\n",
       "    if (js_urls == null || js_urls.length === 0) {\n",
       "      run_callbacks();\n",
       "      return null;\n",
       "    }\n",
       "    console.debug(\"Bokeh: BokehJS not loaded, scheduling load and callback at\", now());\n",
       "    root._bokeh_is_loading = css_urls.length + js_urls.length;\n",
       "\n",
       "    function on_load() {\n",
       "      root._bokeh_is_loading--;\n",
       "      if (root._bokeh_is_loading === 0) {\n",
       "        console.debug(\"Bokeh: all BokehJS libraries/stylesheets loaded\");\n",
       "        run_callbacks()\n",
       "      }\n",
       "    }\n",
       "\n",
       "    function on_error() {\n",
       "      console.error(\"failed to load \" + url);\n",
       "    }\n",
       "\n",
       "    for (var i = 0; i < css_urls.length; i++) {\n",
       "      var url = css_urls[i];\n",
       "      const element = document.createElement(\"link\");\n",
       "      element.onload = on_load;\n",
       "      element.onerror = on_error;\n",
       "      element.rel = \"stylesheet\";\n",
       "      element.type = \"text/css\";\n",
       "      element.href = url;\n",
       "      console.debug(\"Bokeh: injecting link tag for BokehJS stylesheet: \", url);\n",
       "      document.body.appendChild(element);\n",
       "    }\n",
       "\n",
       "    for (var i = 0; i < js_urls.length; i++) {\n",
       "      var url = js_urls[i];\n",
       "      var element = document.createElement('script');\n",
       "      element.onload = on_load;\n",
       "      element.onerror = on_error;\n",
       "      element.async = false;\n",
       "      element.src = url;\n",
       "      console.debug(\"Bokeh: injecting script tag for BokehJS library: \", url);\n",
       "      document.head.appendChild(element);\n",
       "    }\n",
       "  };var element = document.getElementById(\"1043\");\n",
       "  if (element == null) {\n",
       "    console.error(\"Bokeh: ERROR: autoload.js configured with elementid '1043' but no matching script tag was found. \")\n",
       "    return false;\n",
       "  }\n",
       "\n",
       "  function inject_raw_css(css) {\n",
       "    const element = document.createElement(\"style\");\n",
       "    element.appendChild(document.createTextNode(css));\n",
       "    document.body.appendChild(element);\n",
       "  }\n",
       "\n",
       "  var js_urls = [\"https://cdn.pydata.org/bokeh/release/bokeh-1.2.0.min.js\", \"https://cdn.pydata.org/bokeh/release/bokeh-widgets-1.2.0.min.js\", \"https://cdn.pydata.org/bokeh/release/bokeh-tables-1.2.0.min.js\", \"https://cdn.pydata.org/bokeh/release/bokeh-gl-1.2.0.min.js\"];\n",
       "  var css_urls = [\"https://cdn.pydata.org/bokeh/release/bokeh-1.2.0.min.css\", \"https://cdn.pydata.org/bokeh/release/bokeh-widgets-1.2.0.min.css\", \"https://cdn.pydata.org/bokeh/release/bokeh-tables-1.2.0.min.css\"];\n",
       "\n",
       "  var inline_js = [\n",
       "    function(Bokeh) {\n",
       "      Bokeh.set_log_level(\"info\");\n",
       "    },\n",
       "    \n",
       "    function(Bokeh) {\n",
       "      \n",
       "    },\n",
       "    function(Bokeh) {} // ensure no trailing comma for IE\n",
       "  ];\n",
       "\n",
       "  function run_inline_js() {\n",
       "    \n",
       "    if ((root.Bokeh !== undefined) || (force === true)) {\n",
       "      for (var i = 0; i < inline_js.length; i++) {\n",
       "        inline_js[i].call(root, root.Bokeh);\n",
       "      }if (force === true) {\n",
       "        display_loaded();\n",
       "      }} else if (Date.now() < root._bokeh_timeout) {\n",
       "      setTimeout(run_inline_js, 100);\n",
       "    } else if (!root._bokeh_failed_load) {\n",
       "      console.log(\"Bokeh: BokehJS failed to load within specified timeout.\");\n",
       "      root._bokeh_failed_load = true;\n",
       "    } else if (force !== true) {\n",
       "      var cell = $(document.getElementById(\"1043\")).parents('.cell').data().cell;\n",
       "      cell.output_area.append_execute_result(NB_LOAD_WARNING)\n",
       "    }\n",
       "\n",
       "  }\n",
       "\n",
       "  if (root._bokeh_is_loading === 0) {\n",
       "    console.debug(\"Bokeh: BokehJS loaded, going straight to plotting\");\n",
       "    run_inline_js();\n",
       "  } else {\n",
       "    load_libs(css_urls, js_urls, function() {\n",
       "      console.debug(\"Bokeh: BokehJS plotting callback run at\", now());\n",
       "      run_inline_js();\n",
       "    });\n",
       "  }\n",
       "}(window));"
      ],
      "application/vnd.bokehjs_load.v0+json": "\n(function(root) {\n  function now() {\n    return new Date();\n  }\n\n  var force = true;\n\n  if (typeof root._bokeh_onload_callbacks === \"undefined\" || force === true) {\n    root._bokeh_onload_callbacks = [];\n    root._bokeh_is_loading = undefined;\n  }\n\n  \n\n  \n  if (typeof (root._bokeh_timeout) === \"undefined\" || force === true) {\n    root._bokeh_timeout = Date.now() + 5000;\n    root._bokeh_failed_load = false;\n  }\n\n  var NB_LOAD_WARNING = {'data': {'text/html':\n     \"<div style='background-color: #fdd'>\\n\"+\n     \"<p>\\n\"+\n     \"BokehJS does not appear to have successfully loaded. If loading BokehJS from CDN, this \\n\"+\n     \"may be due to a slow or bad network connection. Possible fixes:\\n\"+\n     \"</p>\\n\"+\n     \"<ul>\\n\"+\n     \"<li>re-rerun `output_notebook()` to attempt to load from CDN again, or</li>\\n\"+\n     \"<li>use INLINE resources instead, as so:</li>\\n\"+\n     \"</ul>\\n\"+\n     \"<code>\\n\"+\n     \"from bokeh.resources import INLINE\\n\"+\n     \"output_notebook(resources=INLINE)\\n\"+\n     \"</code>\\n\"+\n     \"</div>\"}};\n\n  function display_loaded() {\n    var el = document.getElementById(\"1043\");\n    if (el != null) {\n      el.textContent = \"BokehJS is loading...\";\n    }\n    if (root.Bokeh !== undefined) {\n      if (el != null) {\n        el.textContent = \"BokehJS \" + root.Bokeh.version + \" successfully loaded.\";\n      }\n    } else if (Date.now() < root._bokeh_timeout) {\n      setTimeout(display_loaded, 100)\n    }\n  }\n\n\n  function run_callbacks() {\n    try {\n      root._bokeh_onload_callbacks.forEach(function(callback) {\n        if (callback != null)\n          callback();\n      });\n    } finally {\n      delete root._bokeh_onload_callbacks\n    }\n    console.debug(\"Bokeh: all callbacks have finished\");\n  }\n\n  function load_libs(css_urls, js_urls, callback) {\n    if (css_urls == null) css_urls = [];\n    if (js_urls == null) js_urls = [];\n\n    root._bokeh_onload_callbacks.push(callback);\n    if (root._bokeh_is_loading > 0) {\n      console.debug(\"Bokeh: BokehJS is being loaded, scheduling callback at\", now());\n      return null;\n    }\n    if (js_urls == null || js_urls.length === 0) {\n      run_callbacks();\n      return null;\n    }\n    console.debug(\"Bokeh: BokehJS not loaded, scheduling load and callback at\", now());\n    root._bokeh_is_loading = css_urls.length + js_urls.length;\n\n    function on_load() {\n      root._bokeh_is_loading--;\n      if (root._bokeh_is_loading === 0) {\n        console.debug(\"Bokeh: all BokehJS libraries/stylesheets loaded\");\n        run_callbacks()\n      }\n    }\n\n    function on_error() {\n      console.error(\"failed to load \" + url);\n    }\n\n    for (var i = 0; i < css_urls.length; i++) {\n      var url = css_urls[i];\n      const element = document.createElement(\"link\");\n      element.onload = on_load;\n      element.onerror = on_error;\n      element.rel = \"stylesheet\";\n      element.type = \"text/css\";\n      element.href = url;\n      console.debug(\"Bokeh: injecting link tag for BokehJS stylesheet: \", url);\n      document.body.appendChild(element);\n    }\n\n    for (var i = 0; i < js_urls.length; i++) {\n      var url = js_urls[i];\n      var element = document.createElement('script');\n      element.onload = on_load;\n      element.onerror = on_error;\n      element.async = false;\n      element.src = url;\n      console.debug(\"Bokeh: injecting script tag for BokehJS library: \", url);\n      document.head.appendChild(element);\n    }\n  };var element = document.getElementById(\"1043\");\n  if (element == null) {\n    console.error(\"Bokeh: ERROR: autoload.js configured with elementid '1043' but no matching script tag was found. \")\n    return false;\n  }\n\n  function inject_raw_css(css) {\n    const element = document.createElement(\"style\");\n    element.appendChild(document.createTextNode(css));\n    document.body.appendChild(element);\n  }\n\n  var js_urls = [\"https://cdn.pydata.org/bokeh/release/bokeh-1.2.0.min.js\", \"https://cdn.pydata.org/bokeh/release/bokeh-widgets-1.2.0.min.js\", \"https://cdn.pydata.org/bokeh/release/bokeh-tables-1.2.0.min.js\", \"https://cdn.pydata.org/bokeh/release/bokeh-gl-1.2.0.min.js\"];\n  var css_urls = [\"https://cdn.pydata.org/bokeh/release/bokeh-1.2.0.min.css\", \"https://cdn.pydata.org/bokeh/release/bokeh-widgets-1.2.0.min.css\", \"https://cdn.pydata.org/bokeh/release/bokeh-tables-1.2.0.min.css\"];\n\n  var inline_js = [\n    function(Bokeh) {\n      Bokeh.set_log_level(\"info\");\n    },\n    \n    function(Bokeh) {\n      \n    },\n    function(Bokeh) {} // ensure no trailing comma for IE\n  ];\n\n  function run_inline_js() {\n    \n    if ((root.Bokeh !== undefined) || (force === true)) {\n      for (var i = 0; i < inline_js.length; i++) {\n        inline_js[i].call(root, root.Bokeh);\n      }if (force === true) {\n        display_loaded();\n      }} else if (Date.now() < root._bokeh_timeout) {\n      setTimeout(run_inline_js, 100);\n    } else if (!root._bokeh_failed_load) {\n      console.log(\"Bokeh: BokehJS failed to load within specified timeout.\");\n      root._bokeh_failed_load = true;\n    } else if (force !== true) {\n      var cell = $(document.getElementById(\"1043\")).parents('.cell').data().cell;\n      cell.output_area.append_execute_result(NB_LOAD_WARNING)\n    }\n\n  }\n\n  if (root._bokeh_is_loading === 0) {\n    console.debug(\"Bokeh: BokehJS loaded, going straight to plotting\");\n    run_inline_js();\n  } else {\n    load_libs(css_urls, js_urls, function() {\n      console.debug(\"Bokeh: BokehJS plotting callback run at\", now());\n      run_inline_js();\n    });\n  }\n}(window));"
     },
     "metadata": {},
     "output_type": "display_data"
    }
   ],
   "source": [
    "from bokeh.io import show, output_notebook\n",
    "from bokeh.layouts import gridplot\n",
    "from bokeh.models.scales import LogScale\n",
    "output_notebook()"
   ]
  },
  {
   "cell_type": "code",
   "execution_count": 2,
   "metadata": {},
   "outputs": [],
   "source": [
    "BASE_DIR = '/home/olavur/experiments/2020-11-13_fargen1_exome_analysis'"
   ]
  },
  {
   "cell_type": "markdown",
   "metadata": {},
   "source": [
    "## Load 1000 Genomes data"
   ]
  },
  {
   "cell_type": "code",
   "execution_count": 5,
   "metadata": {},
   "outputs": [
    {
     "name": "stderr",
     "output_type": "stream",
     "text": [
      "2021-03-04 13:48:36 Hail: INFO: downloading 1KG VCF ...\n",
      "  Source: https://storage.googleapis.com/hail-tutorial/1kg.vcf.bgz\n",
      "2021-03-04 13:48:39 Hail: INFO: importing VCF and writing to matrix table...\n",
      "2021-03-04 13:48:39 Hail: INFO: Coerced sorted dataset\n",
      "2021-03-04 13:48:40 Hail: INFO: wrote matrix table with 10879 rows and 284 columns in 16 partitions to /home/olavur/experiments/2020-11-13_fargen1_exome_analysis/data/1kG_subset/1kg.mt\n",
      "    Total size: 15.97 MiB\n",
      "    * Rows/entries: 15.97 MiB\n",
      "    * Columns: 1.31 KiB\n",
      "    * Globals: 11.00 B\n",
      "    * Smallest partition: 708 rows (1007.66 KiB)\n",
      "    * Largest partition:  680 rows (1.01 MiB)\n",
      "2021-03-04 13:48:40 Hail: INFO: downloading 1KG annotations ...\n",
      "  Source: https://storage.googleapis.com/hail-tutorial/1kg_annotations.txt\n",
      "2021-03-04 13:48:41 Hail: INFO: downloading Ensembl gene annotations ...\n",
      "  Source: https://storage.googleapis.com/hail-tutorial/ensembl_gene_annotations.txt\n",
      "2021-03-04 13:48:43 Hail: INFO: Done!\n"
     ]
    }
   ],
   "source": [
    "hl.utils.get_1kg(BASE_DIR + '/data/1kG_subset/')"
   ]
  },
  {
   "cell_type": "code",
   "execution_count": 12,
   "metadata": {},
   "outputs": [],
   "source": [
    "kg_mt = hl.read_matrix_table(BASE_DIR + '/data/1kG_subset/1kg.mt')"
   ]
  },
  {
   "cell_type": "code",
   "execution_count": 78,
   "metadata": {},
   "outputs": [
    {
     "name": "stdout",
     "output_type": "stream",
     "text": [
      "Number of variants: 10879\n",
      "Number of samples: 284\n"
     ]
    }
   ],
   "source": [
    "n_variants, n_samples = kg_mt.count()\n",
    "print('Number of variants: ' + str(n_variants))\n",
    "print('Number of samples: ' + str(n_samples))"
   ]
  },
  {
   "cell_type": "markdown",
   "metadata": {},
   "source": [
    "Convert the dataset from reference genom GRCh37 to GRCh38."
   ]
  },
  {
   "cell_type": "code",
   "execution_count": 4,
   "metadata": {},
   "outputs": [],
   "source": [
    "# Create a liftover from GRCh37 to GRCh38.\n",
    "rg37 = hl.get_reference('GRCh37')\n",
    "rg38 = hl.get_reference('GRCh38')\n",
    "rg37.add_liftover(BASE_DIR + '/data/liftover/grch37_to_grch38.over.chain.gz', rg38)"
   ]
  },
  {
   "cell_type": "code",
   "execution_count": 13,
   "metadata": {},
   "outputs": [],
   "source": [
    "# Define the locus in GRCh38.\n",
    "kg_mt = kg_mt.annotate_rows(new_locus=hl.liftover(kg_mt.locus, 'GRCh38'))\n",
    "# Remove sites where the new locus isn't defined.\n",
    "kg_mt = kg_mt.filter_rows(hl.is_defined(kg_mt.new_locus))  \n",
    "# Replace the loci by the new loci, and key the rows by locus and alleles.\n",
    "# NOTE: the FarGen exome dataset is keyed by both the locus and the alleles, and it is important that the 1kG\n",
    "# dataset is keyed by the same fields.\n",
    "kg_mt = kg_mt.key_rows_by(locus=kg_mt.new_locus, alleles=kg_mt.alleles)  "
   ]
  },
  {
   "cell_type": "markdown",
   "metadata": {},
   "source": [
    "**TODO:** filter variants based on depth/GQ?"
   ]
  },
  {
   "cell_type": "markdown",
   "metadata": {},
   "source": [
    "## Load FarGen exome data\n",
    "\n",
    "Load filtered, high-quality, variants."
   ]
  },
  {
   "cell_type": "code",
   "execution_count": 7,
   "metadata": {},
   "outputs": [],
   "source": [
    "fargen_mt = hl.read_matrix_table(BASE_DIR + '/data/mt/high_quality_variants.mt/')"
   ]
  },
  {
   "cell_type": "code",
   "execution_count": 29,
   "metadata": {},
   "outputs": [
    {
     "name": "stdout",
     "output_type": "stream",
     "text": [
      "Number of variants: 1194405\n",
      "Number of samples: 474\n"
     ]
    }
   ],
   "source": [
    "n_variants, n_samples = fargen_mt.count()\n",
    "print('Number of variants: ' + str(n_variants))\n",
    "print('Number of samples: ' + str(n_samples))"
   ]
  },
  {
   "cell_type": "markdown",
   "metadata": {},
   "source": [
    "## Drop unconcordant fields\n",
    "\n",
    "We cannot merge the datasets if there are row/column/entry fields that are not in both datasets, so we simply drop all these.\n",
    "\n",
    "**NOTE:** Many of these fields are actually in both datasets, I'm not sure why Hail doesn't accept that they are the same, perhaps the *order* must be the same as well.\n",
    "\n",
    "**NOTE:** I could have used `mt.select('GT', 'alleles', 's')` (or something similar) for the same effect here."
   ]
  },
  {
   "cell_type": "code",
   "execution_count": 9,
   "metadata": {},
   "outputs": [],
   "source": [
    "# Drop row fields.\n",
    "fargen_mt = fargen_mt.drop('MIN_DP', 'PGT', 'PID', 'PP', 'PS', 'RGQ', 'SB', 'AD', 'DP', 'GQ', 'PL')\n",
    "kg_mt = kg_mt.drop('AD', 'DP', 'GQ', 'PL')\n",
    "\n",
    "# Drop column fields.\n",
    "fargen_mt = fargen_mt.drop('sample_qc', 'high_hom_het')\n",
    "\n",
    "# Drop entry fields.\n",
    "kg_mt = kg_mt.drop('AD', 'DP', 'GQ', 'PL')"
   ]
  },
  {
   "cell_type": "markdown",
   "metadata": {},
   "source": [
    "## Merge datasets"
   ]
  },
  {
   "cell_type": "code",
   "execution_count": 18,
   "metadata": {},
   "outputs": [],
   "source": [
    "mt = fargen_mt.union_cols(kg_mt)"
   ]
  },
  {
   "cell_type": "code",
   "execution_count": 19,
   "metadata": {},
   "outputs": [
    {
     "name": "stderr",
     "output_type": "stream",
     "text": [
      "2021-03-04 14:47:35 Hail: INFO: Ordering unsorted dataset with network shuffle\n"
     ]
    },
    {
     "name": "stdout",
     "output_type": "stream",
     "text": [
      "Number of variants: 1930\n",
      "Number of samples: 758\n"
     ]
    }
   ],
   "source": [
    "n_variants, n_samples = mt.count()\n",
    "print('Number of variants: ' + str(n_variants))\n",
    "print('Number of samples: ' + str(n_samples))"
   ]
  },
  {
   "cell_type": "markdown",
   "metadata": {},
   "source": [
    "## Population filters\n",
    "\n",
    "Remove variants failing HWE test with $p > 10^{-6}$. Also discard multi-allelic sites."
   ]
  },
  {
   "cell_type": "code",
   "execution_count": 24,
   "metadata": {},
   "outputs": [],
   "source": [
    "mt = mt.filter_rows(hl.len(mt.alleles) == 2)\n",
    "mt = mt.annotate_rows(hwe=hl.agg.hardy_weinberg_test(mt.GT))\n",
    "mt = mt.filter_rows(mt.hwe.p_value > 1e-6)"
   ]
  },
  {
   "cell_type": "code",
   "execution_count": 25,
   "metadata": {},
   "outputs": [
    {
     "name": "stderr",
     "output_type": "stream",
     "text": [
      "2021-03-04 14:52:25 Hail: INFO: Ordering unsorted dataset with network shuffle\n"
     ]
    },
    {
     "name": "stdout",
     "output_type": "stream",
     "text": [
      "Number of variants: 1793\n",
      "Number of samples: 758\n"
     ]
    }
   ],
   "source": [
    "n_variants, n_samples = mt.count()\n",
    "print('Number of variants: ' + str(n_variants))\n",
    "print('Number of samples: ' + str(n_samples))"
   ]
  },
  {
   "cell_type": "markdown",
   "metadata": {},
   "source": [
    "Remove variants with minor allele frequency under 0.01."
   ]
  },
  {
   "cell_type": "code",
   "execution_count": 26,
   "metadata": {},
   "outputs": [],
   "source": [
    "maf_filter = 0.01\n",
    "mt = mt.filter_rows(mt.info.AF[0] > maf_filter)\n",
    "mt = mt.filter_rows(mt.info.AF[0] < (1 - maf_filter))"
   ]
  },
  {
   "cell_type": "code",
   "execution_count": 27,
   "metadata": {},
   "outputs": [
    {
     "name": "stderr",
     "output_type": "stream",
     "text": [
      "2021-03-04 14:53:48 Hail: INFO: Ordering unsorted dataset with network shuffle\n"
     ]
    },
    {
     "name": "stdout",
     "output_type": "stream",
     "text": [
      "Number of variants: 1585\n",
      "Number of samples: 758\n"
     ]
    }
   ],
   "source": [
    "n_variants, n_samples = mt.count()\n",
    "print('Number of variants: ' + str(n_variants))\n",
    "print('Number of samples: ' + str(n_samples))"
   ]
  },
  {
   "cell_type": "markdown",
   "metadata": {},
   "source": [
    "## LD pruning"
   ]
  },
  {
   "cell_type": "code",
   "execution_count": 29,
   "metadata": {},
   "outputs": [
    {
     "name": "stderr",
     "output_type": "stream",
     "text": [
      "2021-03-04 14:58:25 Hail: INFO: ld_prune: running local pruning stage with max queue size of 279621 variants\n",
      "2021-03-04 14:58:26 Hail: INFO: Ordering unsorted dataset with network shuffle\n",
      "2021-03-04 14:58:32 Hail: INFO: wrote table with 1528 rows in 111 partitions to /tmp/b6xZEf9yeYKlV56m652JLP\n",
      "    Total size: 63.63 KiB\n",
      "    * Rows: 63.62 KiB\n",
      "    * Globals: 11.00 B\n",
      "    * Smallest partition: 0 rows (21.00 B)\n",
      "    * Largest partition:  35 rows (1.31 KiB)\n",
      "2021-03-04 14:58:33 Hail: INFO: Ordering unsorted dataset with network shuffle\n",
      "2021-03-04 15:00:08 Hail: INFO: Wrote all 1 blocks of 1528 x 758 matrix with block size 4096.\n",
      "2021-03-04 15:00:15 Hail: INFO: wrote table with 0 rows in 1 partition to /tmp/82f4M4jrvUw38IxvUs9OrM\n",
      "    Total size: 21.06 KiB\n",
      "    * Rows: 21.00 B\n",
      "    * Globals: 21.04 KiB\n",
      "    * Smallest partition: 0 rows (21.00 B)\n",
      "    * Largest partition:  0 rows (21.00 B)\n"
     ]
    }
   ],
   "source": [
    "pruned_variant_table = hl.ld_prune(mt.GT, r2=0.2, bp_window_size=500000)\n",
    "mt = mt.filter_rows(hl.is_defined(pruned_variant_table[mt.row_key]))"
   ]
  },
  {
   "cell_type": "code",
   "execution_count": 30,
   "metadata": {},
   "outputs": [
    {
     "name": "stderr",
     "output_type": "stream",
     "text": [
      "2021-03-04 15:00:43 Hail: INFO: Ordering unsorted dataset with network shuffle\n"
     ]
    },
    {
     "name": "stdout",
     "output_type": "stream",
     "text": [
      "Number of variants: 1528\n",
      "Number of samples: 758\n"
     ]
    }
   ],
   "source": [
    "n_variants, n_samples = mt.count()\n",
    "print('Number of variants: ' + str(n_variants))\n",
    "print('Number of samples: ' + str(n_samples))"
   ]
  },
  {
   "cell_type": "markdown",
   "metadata": {},
   "source": [
    "## PCA"
   ]
  },
  {
   "cell_type": "code",
   "execution_count": 31,
   "metadata": {},
   "outputs": [
    {
     "name": "stderr",
     "output_type": "stream",
     "text": [
      "2021-03-04 15:00:55 Hail: INFO: Ordering unsorted dataset with network shuffle\n",
      "2021-03-04 15:01:02 Hail: INFO: hwe_normalized_pca: running PCA using 1528 variants.\n",
      "2021-03-04 15:01:03 Hail: INFO: Ordering unsorted dataset with network shuffle\n",
      "2021-03-04 15:01:14 Hail: INFO: pca: running PCA with 2 components...\n"
     ]
    }
   ],
   "source": [
    "eigenvalues, scores, loadings = hl.hwe_normalized_pca(mt.GT, k=2)"
   ]
  },
  {
   "cell_type": "code",
   "execution_count": 32,
   "metadata": {},
   "outputs": [],
   "source": [
    "mt = mt.annotate_cols(scores = scores[mt.s].scores)"
   ]
  },
  {
   "cell_type": "code",
   "execution_count": 37,
   "metadata": {},
   "outputs": [
    {
     "data": {
      "text/html": [
       "\n",
       "\n",
       "\n",
       "\n",
       "\n",
       "\n",
       "  <div class=\"bk-root\" id=\"3b16cf40-1f14-4578-9a75-378b6618c6d2\" data-root-id=\"1179\"></div>\n"
      ]
     },
     "metadata": {},
     "output_type": "display_data"
    },
    {
     "data": {
      "application/javascript": [
       "(function(root) {\n",
       "  function embed_document(root) {\n",
       "    \n",
       "  var docs_json = {\"4ea52a9a-d0f5-4477-a235-b6ad9d3ecb65\":{\"roots\":{\"references\":[{\"attributes\":{\"below\":[{\"id\":\"1190\",\"type\":\"LinearAxis\"}],\"center\":[{\"id\":\"1194\",\"type\":\"Grid\"},{\"id\":\"1199\",\"type\":\"Grid\"}],\"left\":[{\"id\":\"1195\",\"type\":\"LinearAxis\"}],\"plot_height\":600,\"plot_width\":800,\"renderers\":[{\"id\":\"1219\",\"type\":\"GlyphRenderer\"}],\"title\":{\"id\":\"1180\",\"type\":\"Title\"},\"toolbar\":{\"id\":\"1206\",\"type\":\"Toolbar\"},\"x_range\":{\"id\":\"1182\",\"type\":\"DataRange1d\"},\"x_scale\":{\"id\":\"1186\",\"type\":\"LinearScale\"},\"y_range\":{\"id\":\"1184\",\"type\":\"DataRange1d\"},\"y_scale\":{\"id\":\"1188\",\"type\":\"LinearScale\"}},\"id\":\"1179\",\"subtype\":\"Figure\",\"type\":\"Plot\"},{\"attributes\":{\"callback\":null,\"data\":{\"Sample\":[\"HG02464\",\"HG03267\",\"HG02629\",\"HG03458\",\"HG03105\",\"HG03091\",\"NA18873\",\"NA19397\",\"NA19185\",\"HG03074\",\"HG03511\",\"NA19446\",\"HG02840\",\"HG03193\",\"HG03419\",\"NA18916\",\"HG03451\",\"NA19096\",\"NA19209\",\"HG03380\",\"HG02798\",\"HG03449\",\"HG03366\",\"HG03247\",\"HG02973\",\"HG03556\",\"HG02771\",\"HG02881\",\"NA19390\",\"HG03354\",\"HG02595\",\"HG02811\",\"NA19399\",\"NA19113\",\"HG03367\",\"HG03127\",\"HG03224\",\"NA19118\",\"HG03259\",\"HG03241\",\"HG02814\",\"NA19317\",\"NA19321\",\"NA18853\",\"NA19379\",\"NA19384\",\"HG02511\",\"NA19404\",\"HG02768\",\"HG02010\",\"HG02561\",\"NA18874\",\"HG02760\",\"HG03563\",\"HG01915\",\"NA19466\",\"NA19314\",\"HG02318\",\"NA18865\",\"HG02970\",\"HG02054\",\"HG03046\",\"HG02497\",\"NA19456\",\"NA19448\",\"NA18516\",\"NA19455\",\"HG02870\",\"HG02419\",\"HG02574\",\"NA19311\",\"NA19701\",\"NA20318\",\"HG02580\",\"HG00704\",\"HG00607\",\"HG01241\",\"HG00583\",\"HG01801\",\"NA18990\",\"NA18975\",\"HG01863\",\"HG02521\",\"NA20351\",\"NA18740\",\"NA19086\",\"NA18960\",\"HG00623\",\"HG00472\",\"NA18557\",\"HG02373\",\"FN001086\",\"HG02122\",\"NA18525\",\"NA18565\",\"HG00452\",\"HG00881\",\"HG01799\",\"HG02389\",\"HG02250\",\"NA19063\",\"NA18966\",\"NA18616\",\"HG02383\",\"NA19060\",\"HG00590\",\"NA18976\",\"HG00705\",\"HG01817\",\"NA18630\",\"HG02087\",\"NA18619\",\"HG02165\",\"HG02086\",\"HG01813\",\"HG02020\",\"HG01848\",\"HG02386\",\"NA19076\",\"HG02130\",\"HG02154\",\"NA18623\",\"HG00657\",\"HG02351\",\"HG01857\",\"HG01812\",\"HG00598\",\"HG01849\",\"HG00421\",\"HG02116\",\"HG02152\",\"HG02363\",\"NA19087\",\"HG01806\",\"HG02397\",\"HG02388\",\"NA18978\",\"HG01924\",\"HG00619\",\"HG00663\",\"NA18631\",\"HG00436\",\"NA18541\",\"HG02131\",\"HG00864\",\"HG01874\",\"HG00530\",\"HG02384\",\"HG03598\",\"NA18534\",\"NA19720\",\"HG03684\",\"HG02345\",\"HG03800\",\"HG01965\",\"HG03832\",\"HG03009\",\"NA21118\",\"HG01991\",\"HG01572\",\"HG04140\",\"HG03905\",\"HG04054\",\"HG02259\",\"HG03815\",\"HG04229\",\"NA21113\",\"NA21101\",\"HG03937\",\"HG02688\",\"HG03850\",\"NA19761\",\"HG03873\",\"HG04096\",\"HG03973\",\"HG04210\",\"HG03740\",\"HG02298\",\"NA19786\",\"HG04099\",\"NA20888\",\"HG04209\",\"HG03686\",\"HG04239\",\"HG03731\",\"HG01970\",\"NA19657\",\"HG01052\",\"HG03603\",\"HG04171\",\"HG03607\",\"NA19756\",\"NA21133\",\"NA21143\",\"HG04063\",\"NA21116\",\"HG03491\",\"HG03948\",\"HG04059\",\"HG03755\",\"HG03690\",\"NA21114\",\"HG02699\",\"NA20864\",\"HG03237\",\"HG01443\",\"HG01348\",\"NA19670\",\"NA20910\",\"HG00733\",\"HG03490\",\"HG02603\",\"HG01396\",\"HG01248\",\"HG02792\",\"HG02682\",\"NA20858\",\"NA20877\",\"NA20869\",\"HG02651\",\"HG01498\",\"HG03897\",\"HG03636\",\"NA19764\",\"FN001153\",\"HG01070\",\"NA19655\",\"NA19678\",\"HG02690\",\"HG01164\",\"HG01284\",\"NA20518\",\"HG01275\",\"HG00369\",\"HG01630\",\"FN000917\",\"HG01075\",\"HG01174\",\"HG01256\",\"NA20587\",\"HG00335\",\"HG01491\",\"HG02236\",\"HG00274\",\"NA20799\",\"NA20757\",\"NA11919\",\"FN000538\",\"HG00177\",\"FN000240\",\"NA20529\",\"HG01783\",\"NA12273\",\"NA12878\",\"NA19679\",\"NA07347\",\"HG01537\",\"FN000953\",\"HG00265\",\"NA20800\",\"NA20798\",\"HG00271\",\"HG01623\",\"FN000934\",\"HG00129\",\"NA12045\",\"NA20810\",\"HG01334\",\"FN000184\",\"HG01606\",\"HG00332\",\"HG02224\",\"FN001495\",\"FN000496\",\"FN000071\",\"FN001434\",\"HG00242\",\"FN001437\",\"NA12760\",\"FN000598\",\"FN001001\",\"NA20826\",\"FN000884\",\"FN000985\",\"FN001435\",\"FN000445\",\"FN001436\",\"NA12414\",\"FN000395\",\"NA20517\",\"HG00254\",\"FN000902\",\"FN000088\",\"NA12342\",\"FN000092\",\"FN000215\",\"FN001247\",\"FN001155\",\"FN000854\",\"FN000163\",\"FN000507\",\"FN000159\",\"FN001152\",\"FN000998\",\"FN001485\",\"FN001346\",\"FN001138\",\"FN001158\",\"FN001251\",\"FN000187\",\"FN000893\",\"FN000948\",\"FN000932\",\"FN000017\",\"FN000254\",\"FN001011\",\"FN000386\",\"FN000396\",\"FN000628\",\"HG00105\",\"FN000878\",\"FN000488\",\"FN000251\",\"FN000199\",\"FN000259\",\"FN000430\",\"FN000768\",\"FN001426\",\"FN000200\",\"FN000544\",\"FN000566\",\"FN000435\",\"FN000376\",\"FN000546\",\"FN000629\",\"FN000412\",\"HG01790\",\"FN000824\",\"FN001018\",\"FN000426\",\"FN000969\",\"FN000862\",\"FN000607\",\"FN000809\",\"FN000871\",\"FN000322\",\"FN000887\",\"FN001053\",\"FN000185\",\"FN000639\",\"FN001410\",\"FN000947\",\"HG00148\",\"FN000377\",\"FN000534\",\"FN000586\",\"FN000562\",\"FN000107\",\"FN001441\",\"FN001366\",\"FN000053\",\"FN000450\",\"HG00182\",\"FN000110\",\"FN001411\",\"FN000935\",\"FN000558\",\"FN000169\",\"FN001425\",\"FN000388\",\"FN000749\",\"FN001092\",\"FN000248\",\"FN000105\",\"FN001427\",\"FN000277\",\"FN000249\",\"FN000777\",\"FN000478\",\"FN000055\",\"FN001004\",\"FN000625\",\"NA12546\",\"FN001433\",\"FN000127\",\"FN000217\",\"FN000557\",\"FN000771\",\"FN000418\",\"FN000882\",\"FN001088\",\"FN000381\",\"FN001414\",\"FN000954\",\"FN000298\",\"FN001408\",\"FN000320\",\"FN000178\",\"FN000926\",\"FN001135\",\"FN000895\",\"FN000441\",\"FN000045\",\"FN000563\",\"FN000392\",\"FN001249\",\"FN001025\",\"FN001398\",\"FN000522\",\"FN000870\",\"FN000909\",\"FN000076\",\"FN000940\",\"FN000470\",\"FN000417\",\"FN000943\",\"FN000116\",\"FN000103\",\"FN000794\",\"FN000506\",\"FN000410\",\"FN000952\",\"FN000037\",\"FN000545\",\"FN001407\",\"FN000180\",\"FN000015\",\"FN001431\",\"FN001377\",\"FN000190\",\"FN001430\",\"FN000920\",\"FN000097\",\"FN000559\",\"FN001415\",\"FN000958\",\"FN000461\",\"FN000703\",\"FN000326\",\"FN001109\",\"FN000131\",\"FN000591\",\"FN000931\",\"FN000487\",\"FN001142\",\"FN000602\",\"FN000111\",\"FN000945\",\"FN001089\",\"FN000476\",\"FN001347\",\"FN000002\",\"FN000619\",\"FN000938\",\"FN000405\",\"FN000867\",\"FN000525\",\"FN001150\",\"FN001130\",\"FN000018\",\"FN000121\",\"FN000233\",\"FN000237\",\"FN000451\",\"FN001020\",\"FN000942\",\"FN001482\",\"FN000879\",\"FN000399\",\"FN000216\",\"FN000774\",\"FN000568\",\"FN000810\",\"FN000617\",\"HG00118\",\"FN000152\",\"FN000742\",\"FN000369\",\"FN000529\",\"FN001416\",\"FN000125\",\"FN000780\",\"FN000281\",\"FN000158\",\"FN001143\",\"FN000928\",\"FN000305\",\"FN000873\",\"FN001133\",\"FN000504\",\"FN000456\",\"FN000394\",\"FN000419\",\"FN000360\",\"FN000414\",\"FN000930\",\"FN001390\",\"FN001380\",\"FN000925\",\"FN000411\",\"FN000138\",\"FN000206\",\"FN000697\",\"FN000892\",\"FN000021\",\"FN000447\",\"FN000238\",\"FN000551\",\"FN000403\",\"FN000473\",\"FN000955\",\"FN001085\",\"FN000755\",\"FN000137\",\"FN000020\",\"FN000035\",\"FN000589\",\"FN001017\",\"FN000421\",\"FN000612\",\"FN000502\",\"FN000618\",\"FN000769\",\"FN000704\",\"FN001117\",\"FN001094\",\"FN000408\",\"FN000400\",\"FN000495\",\"FN000182\",\"FN001440\",\"FN000009\",\"FN000518\",\"FN001154\",\"FN001394\",\"FN000475\",\"FN001438\",\"FN000511\",\"FN000933\",\"FN001149\",\"FN000244\",\"NA11918\",\"FN000781\",\"FN001134\",\"FN000914\",\"FN000912\",\"FN000501\",\"FN000583\",\"FN000424\",\"FN001389\",\"FN000309\",\"FN000033\",\"FN001381\",\"FN000156\",\"FN001393\",\"FN000581\",\"FN000766\",\"FN000971\",\"FN001432\",\"FN001023\",\"FN001046\",\"FN000950\",\"FN000477\",\"FN000635\",\"FN000483\",\"FN000019\",\"FN000039\",\"FN000054\",\"FN000442\",\"FN000474\",\"FN001127\",\"FN000049\",\"FN000531\",\"FN001444\",\"FN000528\",\"FN000440\",\"FN001371\",\"FN000861\",\"FN000001\",\"FN001091\",\"FN001116\",\"FN000770\",\"FN000130\",\"FN000387\",\"FN001111\",\"FN001022\",\"FN000106\",\"FN001439\",\"FN000439\",\"FN001413\",\"FN000022\",\"FN000567\",\"FN000123\",\"HG00096\",\"FN001384\",\"FN000119\",\"FN000306\",\"FN001120\",\"FN000960\",\"FN000393\",\"FN000820\",\"FN001379\",\"FN000489\",\"FN001400\",\"FN000380\",\"FN001110\",\"FN001486\",\"FN000191\",\"FN001417\",\"FN000962\",\"FN001139\",\"FN000061\",\"FN001409\",\"FN000874\",\"FN001395\",\"FN000554\",\"FN000108\",\"FN001488\",\"FN000040\",\"FN000282\",\"FN000905\",\"FN000126\",\"FN000177\",\"FN001019\",\"FN000541\",\"FN000767\",\"FN000896\",\"FN000904\",\"FN000278\",\"FN000738\",\"FN000634\",\"FN000224\",\"FN000888\",\"FN001115\",\"FN000735\",\"FN001084\",\"FN000313\",\"FN000052\",\"FN000498\",\"FN000898\",\"FN000899\",\"FN000929\",\"FN001490\",\"FN000124\",\"FN000375\",\"FN000038\",\"FN000472\",\"FN000599\",\"FN000389\",\"FN000317\",\"FN000550\",\"FN000016\",\"FN001403\",\"FN001082\",\"FN000160\",\"FN000050\",\"FN000604\",\"FN000252\",\"FN000759\",\"FN000416\",\"FN000881\",\"FN000549\",\"FN000761\",\"FN001401\",\"FN001418\",\"FN001527\",\"FN001157\",\"FN000024\",\"FN001405\",\"FN000397\",\"FN001404\",\"FN001003\",\"FN000289\",\"FN000561\",\"FN001374\",\"FN001045\",\"FN000941\",\"FN000527\",\"FN000139\",\"FN000370\",\"FN000122\",\"FN000526\",\"FN000032\",\"FN000906\",\"FN001132\",\"FN000036\",\"FN000023\",\"FN000924\",\"FN000762\",\"FN000012\",\"FN001428\",\"FN000523\",\"FN001429\",\"FN000044\",\"FN000469\",\"FN000966\",\"FN000014\",\"FN000374\",\"FN001093\",\"FN000512\",\"FN000569\",\"FN000537\",\"FN001522\",\"FN000519\",\"FN000284\",\"FN001523\",\"FN000077\",\"FN000521\",\"FN000034\",\"FN000301\",\"FN000951\",\"FN000877\",\"FN000513\",\"FN000866\",\"FN000236\",\"FN000503\",\"FN000242\",\"FN000889\",\"FN000886\",\"FN000011\",\"FN000939\",\"FN000510\"],\"index\":[0,1,2,3,4,5,6,7,8,9,10,11,12,13,14,15,16,17,18,19,20,21,22,23,24,25,26,27,28,29,30,31,32,33,34,35,36,37,38,39,40,41,42,43,44,45,46,47,48,49,50,51,52,53,54,55,56,57,58,59,60,61,62,63,64,65,66,67,68,69,70,71,72,73,74,75,76,77,78,79,80,81,82,83,84,85,86,87,88,89,90,91,92,93,94,95,96,97,98,99,100,101,102,103,104,105,106,107,108,109,110,111,112,113,114,115,116,117,118,119,120,121,122,123,124,125,126,127,128,129,130,131,132,133,134,135,136,137,138,139,140,141,142,143,144,145,146,147,148,149,150,151,152,153,154,155,156,157,158,159,160,161,162,163,164,165,166,167,168,169,170,171,172,173,174,175,176,177,178,179,180,181,182,183,184,185,186,187,188,189,190,191,192,193,194,195,196,197,198,199,200,201,202,203,204,205,206,207,208,209,210,211,212,213,214,215,216,217,218,219,220,221,222,223,224,225,226,227,228,229,230,231,232,233,234,235,236,237,238,239,240,241,242,243,244,245,246,247,248,249,250,251,252,253,254,255,256,257,258,259,260,261,262,263,264,265,266,267,268,269,270,271,272,273,274,275,276,277,278,279,280,281,282,283,284,285,286,287,288,289,290,291,292,293,294,295,296,297,298,299,300,301,302,303,304,305,306,307,308,309,310,311,312,313,314,315,316,317,318,319,320,321,322,323,324,325,326,327,328,329,330,331,332,333,334,335,336,337,338,339,340,341,342,343,344,345,346,347,348,349,350,351,352,353,354,355,356,357,358,359,360,361,362,363,364,365,366,367,368,369,370,371,372,373,374,375,376,377,378,379,380,381,382,383,384,385,386,387,388,389,390,391,392,393,394,395,396,397,398,399,400,401,402,403,404,405,406,407,408,409,410,411,412,413,414,415,416,417,418,419,420,421,422,423,424,425,426,427,428,429,430,431,432,433,434,435,436,437,438,439,440,441,442,443,444,445,446,447,448,449,450,451,452,453,454,455,456,457,458,459,460,461,462,463,464,465,466,467,468,469,470,471,472,473,474,475,476,477,478,479,480,481,482,483,484,485,486,487,488,489,490,491,492,493,494,495,496,497,498,499,500,501,502,503,504,505,506,507,508,509,510,511,512,513,514,515,516,517,518,519,520,521,522,523,524,525,526,527,528,529,530,531,532,533,534,535,536,537,538,539,540,541,542,543,544,545,546,547,548,549,550,551,552,553,554,555,556,557,558,559,560,561,562,563,564,565,566,567,568,569,570,571,572,573,574,575,576,577,578,579,580,581,582,583,584,585,586,587,588,589,590,591,592,593,594,595,596,597,598,599,600,601,602,603,604,605,606,607,608,609,610,611,612,613,614,615,616,617,618,619,620,621,622,623,624,625,626,627,628,629,630,631,632,633,634,635,636,637,638,639,640,641,642,643,644,645,646,647,648,649,650,651,652,653,654,655,656,657,658,659,660,661,662,663,664,665,666,667,668,669,670,671,672,673,674,675,676,677,678,679,680,681,682,683,684,685,686,687,688,689,690,691,692,693,694,695,696,697,698,699,700,701,702,703,704,705,706,707,708,709,710,711,712,713,714,715,716,717,718,719,720,721],\"x\":{\"__ndarray__\":\"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\",\"dtype\":\"float64\",\"shape\":[722]},\"y\":{\"__ndarray__\":\"yyCnjtiM1T/IF6NyFp7VPxK804CW5NI/Ueh1qOva0T+TsOfOYujVPxpzqffEctM/kLnr3Hsi1D/sSIhQ+LbSP13P7VVmSdE/v1jWXgga1T/I24mR0CLUP/uMJYuJG9I/jZMJpqHu1D8cIASNxrvSP5CrdKJfEtE/ik2Q90lx1D8aYvGEa43UPyP2ZzNF2tQ/6UhUvQx81j+sShL13oLVP4DcXH5tfNY/38LtYinS1j+cifm4/sPRP/w+eBzF1dI/SsDVrD1M0z9aMYadKpfQP0GNSQfHt9I/skjFV6Z51T+IuIttjunPP5/VeEcK19M/L2DOJRS80z/u9v8IznDUP4fIA6vtTtI/wbjZj7w41D8uP1pysznYPyvfE2bs2tM/GMca4f7U0j8PkD/bCkvSPxwZ+Q4uj9I/9jsqv0m90j/Yy/Gf9hvTPzzZWioWB8s/6XkuoP6D1D80WbdieKTQP/kJp7WK+dE/0LvzDYy40T+cyOC8bz/TP4icRe6fw8g/VJ2MPqJw0j+JRqjgHibTPymv2lpB49U/L55iYcQe0D9pa3vGL4nSP6yoIhyAntI/ngUjgVxB0j8rZ7E996XJPwoGypNyDtI/bKhPtRg01T+4aUlYbgvTPy0PV0h5BdM/vzABseA+zj9vTkJMelPTPxvl9jklgdM//q8uQDeu1D+vFwyFUEHPP90zblRGh9E/KMjdt0styj+IuVcB89fQP87ZiY4OP9E/4t00rAP50z/EVHgEolbHP508hBUzxM8/20IrUgkIyz/M7ItfSFTOP6JBgMkgSNe/j8Ewkiq6179ovJJOoYvEP4A1KeX9I9q/dtSRRmCB178hgEgAecXav/S1gduVWNm/JwLt2xNF1794tt12IurWv4Yfwy6qTsQ/y8aJjqUx3L+o8V5IYFfYv4SuDWpGt9m/3oo4IZNj2L8ky5Qyp9XXv+TlpMRiSta/x8I8mxKY2b/hIoz6Q5jZv+MfRLh3zNe/Yw5k31a+17+GrKnjCJXZv1RkUxlQ0NS/VK71Wdxx27+hJKJy6ejXv15yEWgzTti/12Gbumk817/Zr6uCqCXYv+cxo4CWW9e/m3hwSVF517/GpMtNVNvZv91BCq7ylNm/TQm40tXr1r+E7zV+1LDYv3slZciaYda/QEjox8b71r+u7I2wpdnVv5rCBFCmcNi/42JaaxZf2b+QbTLSAjvYv7/oVNmL09q/82rfG5qi17/xFE45I77Uvzd9lWWfmNa/SfL1jTj22r+v+ZryNB/YvzRzg/c1vNW/YloFGuaU2r+eEuc7K3LZv74B6GzqkNW/d/gfIr3r178CLU268snbv5jP8xEK8Ni/IHzbp1rE179Y3nyVTbfYv1cbwSyVM9m/+iQZl46R179U7XcfVoDXv86oajmIbdy/S8LvlvzG2b/owWTT7T7Zv6S+dIXjE9i/H4PYorN217/tiMzkQZzXv+J7TZuKFcW/hDHcIKSM1b8ELaCLNV3Zv4EYDy8P39a/fzg5Iz841r8SSgC5rD3Wv+EBoiRI69S/MLfpy/JU1781mJOVRAfZvzyAPsLTvdS/anRTYddT2L93Y8NkFlfBv3EzNSszvtS/As3bPd/7vL+c4Jn3epy9vyc/9pN76r+/6uScfLK9xb84mdnWrBzCv0FztFSL4b6/FB6/PDdzuL8sined1qO1v+QrxZaIQcy/o+lBQMGzyb9pZfQ9CtnHvw4Rw4yjWMa/AIGsIPJhxb9gWM7BHDvSv91CwG1tVcW/jpbbdjUHwr8jwu+PKNm3v72OW+Ne2qG/cNc3i48VyL9B5Z5QILu+v4I+WLrWa8S/bzlCVBXTw7/E4jfzpRTEv0ugrTy29bu/h5pFKspmur8RjQ7YYN/Ev8604Dl57b2/swffiZzhur+qPBEwVZnGv1DtSumbkr6/I6OkIbmqvb/MYIm9GBq9vxywZEdEN7O/sIanRzgFwL/zjfi8IBy3v98+RG8fWMS/9y2M4JSxwL/1zr3yhCeNP1f7xcyLQse/KJeeXWqbwr9iEcpvjEa+v6gdd2/6DMK/qN0TH/b1tL+U1B0GFLfCv7A64p5CS8G/Af59iTdUwL/hlrAkrY+mv1yjAGEo3cO/XF8KvLxDwL9tcPQ7tvq/v0zzWd1wBcG/rvFebucOwL8R75zljXOxv41eojAnhcC/62p+csR1tL/sgjcgqc7Av0xnI2xPZrS/+Lf3eUgqwb9j2c3SsN+pv8yrClcPH5w/yLZg7VjssL/wZf3mZwKxv4Xp0XlK/3O/EsO3mBiZor8DMEBGmELDv0eVHpedNLe/ialDMk4DuL+2KE1hBIi4v6BPDT421b2/wfHgmJ6ZtL9su5Bbgmmwv4zqJ9DqzsW/j8gXN1nup7/Ms2bTyw3Av0tOUEpc6MS/k9UnhDQFrL/VSPfE39axv1z/FhFxBm6/YbJYdh/ou7/5RkbfHXxqP8J1zakfrKi/ft/ydSINrT+vu169hm14P3NpVFh4Rpg/IDXN5hOTm789knsYBUWnv6c/DoHF9kg/pTUJeRXshL+XePXOmX+kv/Mpn2ZTRpO/ArSHzXSun7+7Vq7hamOlv2czIBOg+JI/AUwGrgi9Yb8Vm9ak+159Py32WFsBc4Y/qFRsIX8iiL/UjLP9hySwP8AEhhuAopi/7mMyUpNFrD9N5qS+0QOQP/aNXmlXyZE/E7rBWtQChj9OxB1tl4yjP0Ed+OviT6Y/Btlfbaatqz/8d3tBlO6wP0KfDOgotI0/q94VE/jJdL/Pz/t154CEPwgo+hPNO5C/GcdBwi7Gjb9JXJ8KwKqMP+UREk2ZbaE/ucs6UrIJo79WPTCtWgKTP2xQUKJETbE/60crauXNo78E5xHUo5hyPwFcIBy5KJM/DrQ3BPJTnr9k5YYrx02SP9RPC/BePac/EYtS50uBqD9aaPzrnEeOP3gGpOd805M/nBk7LdCfoD8S2aBzuNR4P1UwkfoZs5s/pzdy9fMIpT9HSHU1pt6mP2/wvkG8NrQ/ddShflqzpj/WqaTeSdhYP0wPOmQr0a4/mNdlB7SNsT9OFGCDzOGQP8pIxNtY+2E/kzCFI5GQdD/uZMVb8SqQP8u9rII4EKk/2mHNSPHsrj9jZyEIsuilPzOiQx9ET4A/qriMBVVflD9rbm0wL0WpP5BJ5U7w2rI/IOXZkhsupz+c1CGS+r56P2f75fdlXaA/68BlSyocpj9j++6uXd6OP1qy2BqiQ6M/QbNVblYClL/wziZ4B8GXPwVir38F9bA/9wxEJ4V5br/oTkSlO5CBP/dEVuiTs6Q/tUpOVZYpqz/5vOo4WKqxP5jrPtA4DLQ/bpOGVJfRkr+PHsHnIJSTPyTykYsb2KE/T5UJymy6pD8cHW/ECDB5P209qJIi5ZI/t326sMw3lT+5pdNEo1qXPwyFHFx2c30/SrkYK0FWmD85KDDz5fafP601/Rw3eLA/KO5eGlgTmL8NhWG+HB2MP6aLLdSGY6I/EYvNGfvVpD/tq6amQLOwP27MIempLzO/poowTsWpfj/YjxVP5pJpP+pev1muRW8/1sLEV2Acrz/nZukX5I+Cv1iIDXXirYo/wbwyQuP3lz/7GqhrD96aP/R7Jfu8BJ4/GW6vqfEArj/X2ET7exixP17E75QgHIC/9pHcuiXPhT/QrfJEeKWJP5gSF4nquJA/1xdwkqAPpj/Yg/8Bni2qPzIbd+I6Mqw/GXlTIfnHrz/UVC43sjCwPwtkuE/N8oy/85wbNuuPib9ueTcRai9uPx01SLrxTZ8/BY+hGmUnej9DnrMqE8aFPwmrG6hv35I/xwtRw267oD/XMjyt2xWhPzjfB82adqM/0rtCDwYpqz/xulFjYCSwP8IvM7PvP1c/R76SDg/egT928YLvoW2IP07TqmmGI4s/79B7WEnxlT8hacWfGc+mP6oTAhQNhqs/GRmXc3jHrT/QpubC4nGFP4GPmzn4D5E/ESCjnTQHpT8X5OL/JxupP3rPE4/Raak/Tnq/zduUuz/LwQzkJESVv5MBVE5vpII/2owxqgJDhz+B6bSUuVGMP3R5txZHl48/CcaLcziAlD9QwaUU5ISXP3vwxwxldZg/RWECVyFhpD+uPAbQmUWpP5+ZZzOuhq4/fyg/hdQbeb84Wn4CXaxvPyoIGXDZYIM/KzCauHlslz+Xj3BklGqcP8zrHA0Bg6I/JEuam347pT+FIxTLrXWqP0jDbg+0PbA/dXqWjTSBsj/j1XMIUb+Mvys9m1mRRIg/wKEkzENajT+gGPP00S6bP8SIOmR+56I/aEGPL8VWpz8C5naMe6Nqv/jkSoP5G0y/C9OoMrpThj9x/Bv6xGqRP4b2yOCKEZk/fhSnsN5Epz8or9aZNCy1P2WIICc5EHo/kOL9bsIOmD+sIcKcDJKfP4a/PDw81KU/EMlhL6c5pj+m3hY/GiG0P0pwd/uW7pm/WmE/BcWCbj+3puBb4NuaP7HhjRJ5aZw/308D1Em0oz/i8Uq/itOtP6hMoFRqErE/v2cNVxi0sT+p2Afki+ezP2HJ6nuvE5m/83BoiE3UX79oMjCAnd9qP4DEdNVceoE/CqrWRLm+jz8KVZo9+j+SP+QFJMxYC6Y/qlktvUNIqD/SlvuaOqeuP7qWVtdzIE4/8uOtBB8dfj9Lk5cRNzuHP55A+VTQwIk/4pLw5hoMjT98JE3D+46oP4vFGIzYG6s/g9u2Zr07rD9I9ZGje/CvP6I4EGjeZLA/i6uf8IyCsD9pks722/m2Pw0IC0Re246/lxbTLBmlHz8BhbLGuKVvP/1HkEX99pA/93DDkPlomD+GHaqTw2ybP/Jm45rfjZ0/fUftAfQVoz+4D45+5banP0nWb0Hiiqo/oFnPYeWGrz8xmBXhr9Zgv+hQDRxFj1Q/x8uKHbdHiz+78y8Edn2TP+V/hiePfKI/l7iNBxHXoj/4OFvZt3imPyZKCP15JrI/3X4QYe57tT+WKSk7kZ6RP6tlFQ2MSJM/d98gGoKsmj9GwwQDQuCbP+x9ESbKqaA/tnE6Wedopz+tVWINpB2uP6wBFO9iDbE/HwlhSdvzez+/dPfy0HGJP0DdHLtn65E/FPox1CTLlj/QXRqGopGYP512y9eVvZs/c62dWJv+oj8RmTFmGXOxP5+xTRcuFYg/KvFFB2UNkD/h5ZU4e/uTP7dxZpxt9Zs/uy/WnHiWoD/uT1PcS1uiP018zCTx/qQ/G4d0ZVOWrz+nHj6EfAK0PxsOTXH62WM/0e3SANAIcz/w9vpOMGmHPz+AxL9r/ZA/gMADz31hpT9YZMdh5gOqP9CqLsPHBKw/xDQ8/DjDrT/vq2aw+n2xP7V3rPDESp6/bVOnAifDXr+Z2V6j3bp/P5VKaZtrwoQ/jU7PpMiFkD+1z8yTbPGXP1+YIQJRVaI/qx6ASbDEoj9ZAAzL11KpP8FmQUMQUK4/85WGMppnbb8vt9gGWVtJP74u00pmnp0/gwWaCLRaoT9W1FH7PgGjP6t0nA3Auao/qBW5tSlgsj+vm6H9+NCdvz/dQAB6046/2H4E04N7Vz+Ew+vgzCKXP0xwZUxE2Zg/lk96bQ/DnD+X1ICQW3ijP30W0FxwPqk/PZp6Qes7sz8sf5yA5me0P6Nq0jHjzJU/A9gVXPxflz880kRdXDaaP2n/hIy/baQ/Mqbif7GGpT+b2bMBk1KqP96/Y1HRGpM/7wpBo646lT+THoKYFSmpP9r4EZl8V6o/iiwU0m8trz+Em6UAgXyxP1wD9BZpwrM/rpNckqdjpb+j6pdn/vRrvwNVhoGziWA/SihRYYAcjj8ofRwg4OqXPxEjoJqCe6U/mOMb9ouvpz8jgmqcxXmpP/C4+o0sd4C/0sjLgg09eT/H7Ff9abaAP4ZfgHk7oY4/bCJZ/qEBnT9S1r+/gbWgP/W77vCltaM/SM7nFP7vpD9yyO5HoAuqP1m1DXdqx6w/dGNT5AUOrj+9NSSZ3XivP9gKfz06K5K/Fuk+4FWohr/K6/cW0nt9v7DjvH0FVHS/iFcms1WPO7+B7/CADr96P1HeBxLUgY8/Bi3qIhvDkj8BEDw/kvueP2tgsdkHxqA/SoPcrnqfpD9Nih3Z+GylP08Sq/FDnZC/a5NfczIJdj+/27v06/l8P9UN2qIGZIo/6mzWe/yCkD/m7lAQ4ByRPwxzd49Ylpc/oE3la6+imj/Qi5Q8gQOdP69m/FLdm3Q/H2HGuKHZkj+k2AU6yzCaP/BUPQuuA6A/Ao//3F4coT+vXAgzVlqjP8j/7H1JraU/SMmM86wbpj/rfllJmuqmP39vkgXchqg/q+r7Vioxgr/MBIu+6ihIv8LYW6R9MJk/0NF+R90Bmj+c3FtCPC6fPz4hp4ZP4KY/XCIMf5tDsT8r++57I0aQv9Cla+AjvU6/rQjoAL/+bz/NuEH2Wqx4P6X0S1ZTB4s/bKsGS51wjj9Zyc0orKeRPy0rbCHjYKA/P0JpU3CFrT8/NB4oML6zPyN1Pmhg75U/CbTk93WHpD+4dqQSKVSlP1G3Qb3C66Y/ZMNm3cnHpz9pqb64QJqqPwwOdWS3ka0/GPHbGvvenz8g+wv9PCqhP21+JH+RHKM/glxYrxT0pT/dZCtA4A2qP5KtGBnNa60/xnFig6uQhb86A04I2yORP7lPiGWft6M/PuuHw6yqqD9VN+X0AAGAP7SLvg1vk4c/UoSOrHdUlT+MZXpmkfWYPwhm5dptRZ8/DtONJXIsoD/492B/8xumv1+pJPSwyaS/s/syOWuYU7/8RnIQ2+KCP9HD0GTSqI0/3X0G1ojwkT/x70+7FNmgP97leLTz1aE/TnascKqXpj9RNL5Z0c+rP2l11H55NrI/s4upyDeosz8dCOlGILmKP/P5Doj4r5A/RCccJzgknT/XOoSBWX6mPzkGD7DnfLE/Ronh1oxNnT+x8KOCJbehP7T5bdu4I6Q/P4SE46RUpD+k6v7LGeelP06EJPEje64/mknuRokzhz9tjQPycQigP9F8KrYhK6M/Zt0HNuPVpD/aWbVOzGStP95zo3HcgpC/woLPGHnDRL8nynT+ZqZqP+26v0sHpI8/B+Nwx9J5nT9SsUtt/DijPzfCbjiJw6Y/IgNVvXbppz8JKLzVgiiuP1U8SwJJ/ZS/oRYo6hT1Yb/ZwrGBz0WFP98bzLhsmLY/NYJNvbNod7/tknMF5vmXP+G6Esc9GKo/ATBzQdcUqz9eJoUMrN6uP+1U6saS/LA/MdG4eQkGtj+SKPJOWpSCP9N5/kna/o8/h89MPb00mj+QEwaDok6pP/e+084KYXg/G6+mOnISsj8jdkmzwCtzP+th9G5gFYQ/vjmDNGKspT9ujFIy+JeZP6KyQk2QKqM/GsbVtNZoqD8MTgsj3OmsP4kKCYLv1q0/TI4RGkO+kj8hmuRUh163P+HMXDLwnbE/2mJxbmthdr+rDn8AxDSSP6/7Of2h854/QD8mWjTIoT99tCb/RaCav6xRY9kYKpI/TcNb/+qulD8agFurFFKnP7CXS6z1las/vBwEuGrLpj+JyvLLCt6qP8mNpKCRV64/OdOyHxbvdT8uxgYMA0eaP6kK0GcrF6U/+j1jOQECqj/IEBBxNnahP6WlE+XhBLI/cXO5PHLFmj929+nGvj+iPx+S/thTB32/LXvMJlAJsT/X0rdhToeNP5dO0BQ/Vqk/qF1f7VQzgT/ubx6i6eGiPw==\",\"dtype\":\"float64\",\"shape\":[722]}},\"selected\":{\"id\":\"1235\",\"type\":\"Selection\"},\"selection_policy\":{\"id\":\"1236\",\"type\":\"UnionRenderers\"}},\"id\":\"1215\",\"type\":\"ColumnDataSource\"},{\"attributes\":{},\"id\":\"1230\",\"type\":\"BasicTickFormatter\"},{\"attributes\":{\"text\":\"PCA\"},\"id\":\"1180\",\"type\":\"Title\"},{\"attributes\":{\"active_drag\":\"auto\",\"active_inspect\":\"auto\",\"active_multi\":null,\"active_scroll\":\"auto\",\"active_tap\":\"auto\",\"tools\":[{\"id\":\"1200\",\"type\":\"PanTool\"},{\"id\":\"1201\",\"type\":\"WheelZoomTool\"},{\"id\":\"1202\",\"type\":\"BoxZoomTool\"},{\"id\":\"1203\",\"type\":\"SaveTool\"},{\"id\":\"1204\",\"type\":\"ResetTool\"},{\"id\":\"1205\",\"type\":\"HelpTool\"},{\"id\":\"1214\",\"type\":\"HoverTool\"}]},\"id\":\"1206\",\"type\":\"Toolbar\"},{\"attributes\":{\"callback\":null},\"id\":\"1182\",\"type\":\"DataRange1d\"},{\"attributes\":{},\"id\":\"1200\",\"type\":\"PanTool\"},{\"attributes\":{\"overlay\":{\"id\":\"1234\",\"type\":\"BoxAnnotation\"}},\"id\":\"1202\",\"type\":\"BoxZoomTool\"},{\"attributes\":{\"fill_alpha\":{\"value\":0.1},\"fill_color\":{\"value\":\"#1f77b4\"},\"line_alpha\":{\"value\":0.1},\"line_color\":{\"value\":\"#1f77b4\"},\"x\":{\"field\":\"x\"},\"y\":{\"field\":\"y\"}},\"id\":\"1218\",\"type\":\"Circle\"},{\"attributes\":{\"axis_label\":\"PC2\",\"formatter\":{\"id\":\"1232\",\"type\":\"BasicTickFormatter\"},\"ticker\":{\"id\":\"1196\",\"type\":\"BasicTicker\"}},\"id\":\"1195\",\"type\":\"LinearAxis\"},{\"attributes\":{\"bottom_units\":\"screen\",\"fill_alpha\":{\"value\":0.5},\"fill_color\":{\"value\":\"lightgrey\"},\"left_units\":\"screen\",\"level\":\"overlay\",\"line_alpha\":{\"value\":1.0},\"line_color\":{\"value\":\"black\"},\"line_dash\":[4,4],\"line_width\":{\"value\":2},\"render_mode\":\"css\",\"right_units\":\"screen\",\"top_units\":\"screen\"},\"id\":\"1234\",\"type\":\"BoxAnnotation\"},{\"attributes\":{},\"id\":\"1201\",\"type\":\"WheelZoomTool\"},{\"attributes\":{\"source\":{\"id\":\"1215\",\"type\":\"ColumnDataSource\"}},\"id\":\"1220\",\"type\":\"CDSView\"},{\"attributes\":{},\"id\":\"1203\",\"type\":\"SaveTool\"},{\"attributes\":{\"data_source\":{\"id\":\"1215\",\"type\":\"ColumnDataSource\"},\"glyph\":{\"id\":\"1217\",\"type\":\"Circle\"},\"hover_glyph\":null,\"muted_glyph\":null,\"nonselection_glyph\":{\"id\":\"1218\",\"type\":\"Circle\"},\"selection_glyph\":null,\"view\":{\"id\":\"1220\",\"type\":\"CDSView\"}},\"id\":\"1219\",\"type\":\"GlyphRenderer\"},{\"attributes\":{},\"id\":\"1204\",\"type\":\"ResetTool\"},{\"attributes\":{\"callback\":null},\"id\":\"1184\",\"type\":\"DataRange1d\"},{\"attributes\":{\"callback\":null,\"tooltips\":[[\"x\",\"@x\"],[\"y\",\"@y\"],[\"Sample\",\"@Sample\"]]},\"id\":\"1214\",\"type\":\"HoverTool\"},{\"attributes\":{},\"id\":\"1191\",\"type\":\"BasicTicker\"},{\"attributes\":{},\"id\":\"1232\",\"type\":\"BasicTickFormatter\"},{\"attributes\":{},\"id\":\"1188\",\"type\":\"LinearScale\"},{\"attributes\":{\"dimension\":1,\"ticker\":{\"id\":\"1196\",\"type\":\"BasicTicker\"}},\"id\":\"1199\",\"type\":\"Grid\"},{\"attributes\":{},\"id\":\"1196\",\"type\":\"BasicTicker\"},{\"attributes\":{},\"id\":\"1235\",\"type\":\"Selection\"},{\"attributes\":{\"axis_label\":\"PC1\",\"formatter\":{\"id\":\"1230\",\"type\":\"BasicTickFormatter\"},\"ticker\":{\"id\":\"1191\",\"type\":\"BasicTicker\"}},\"id\":\"1190\",\"type\":\"LinearAxis\"},{\"attributes\":{\"ticker\":{\"id\":\"1191\",\"type\":\"BasicTicker\"}},\"id\":\"1194\",\"type\":\"Grid\"},{\"attributes\":{},\"id\":\"1236\",\"type\":\"UnionRenderers\"},{\"attributes\":{},\"id\":\"1186\",\"type\":\"LinearScale\"},{\"attributes\":{\"fill_color\":{\"value\":\"#1f77b4\"},\"line_color\":{\"value\":\"#1f77b4\"},\"x\":{\"field\":\"x\"},\"y\":{\"field\":\"y\"}},\"id\":\"1217\",\"type\":\"Circle\"},{\"attributes\":{},\"id\":\"1205\",\"type\":\"HelpTool\"}],\"root_ids\":[\"1179\"]},\"title\":\"Bokeh Application\",\"version\":\"1.2.0\"}};\n",
       "  var render_items = [{\"docid\":\"4ea52a9a-d0f5-4477-a235-b6ad9d3ecb65\",\"roots\":{\"1179\":\"3b16cf40-1f14-4578-9a75-378b6618c6d2\"}}];\n",
       "  root.Bokeh.embed.embed_items_notebook(docs_json, render_items);\n",
       "\n",
       "  }\n",
       "  if (root.Bokeh !== undefined) {\n",
       "    embed_document(root);\n",
       "  } else {\n",
       "    var attempts = 0;\n",
       "    var timer = setInterval(function(root) {\n",
       "      if (root.Bokeh !== undefined) {\n",
       "        embed_document(root);\n",
       "        clearInterval(timer);\n",
       "      }\n",
       "      attempts++;\n",
       "      if (attempts > 100) {\n",
       "        console.log(\"Bokeh: ERROR: Unable to run BokehJS code because BokehJS library is missing\");\n",
       "        clearInterval(timer);\n",
       "      }\n",
       "    }, 10, root)\n",
       "  }\n",
       "})(window);"
      ],
      "application/vnd.bokehjs_exec.v0+json": ""
     },
     "metadata": {
      "application/vnd.bokehjs_exec.v0+json": {
       "id": "1179"
      }
     },
     "output_type": "display_data"
    }
   ],
   "source": [
    "p = hl.plot.scatter(mt.scores[0],\n",
    "                    mt.scores[1],\n",
    "                    hover_fields={'Sample': mt.s},\n",
    "                    title='PCA', xlabel='PC1', ylabel='PC2')\n",
    "p.plot_width = 800\n",
    "p.plot_height = 600\n",
    "show(p)"
   ]
  },
  {
   "cell_type": "code",
   "execution_count": null,
   "metadata": {},
   "outputs": [],
   "source": []
  }
 ],
 "metadata": {
  "kernelspec": {
   "display_name": "Python [conda env:fargen-1-exome]",
   "language": "python",
   "name": "conda-env-fargen-1-exome-py"
  },
  "language_info": {
   "codemirror_mode": {
    "name": "ipython",
    "version": 3
   },
   "file_extension": ".py",
   "mimetype": "text/x-python",
   "name": "python",
   "nbconvert_exporter": "python",
   "pygments_lexer": "ipython3",
   "version": "3.7.10"
  }
 },
 "nbformat": 4,
 "nbformat_minor": 4
}
