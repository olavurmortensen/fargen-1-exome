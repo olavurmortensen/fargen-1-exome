{
 "cells": [
  {
   "cell_type": "markdown",
   "metadata": {},
   "source": [
    "# Population structure - PCA of the FarGen cohort"
   ]
  },
  {
   "cell_type": "code",
   "execution_count": 1,
   "metadata": {},
   "outputs": [
    {
     "name": "stderr",
     "output_type": "stream",
     "text": [
      "Running on Apache Spark version 2.4.1\n",
      "SparkUI available at http://hms-beagle-848846b477-48ks9:4041\n",
      "Welcome to\n",
      "     __  __     <>__\n",
      "    / /_/ /__  __/ /\n",
      "   / __  / _ `/ / /\n",
      "  /_/ /_/\\_,_/_/_/   version 0.2.61-3c86d3ba497a\n",
      "LOGGING: writing to /home/olavur/experiments/2020-11-13_fargen1_exome_analysis/fargen-1-exome/notebooks/qc/hail-20210615-1207-0.2.61-3c86d3ba497a.log\n"
     ]
    }
   ],
   "source": [
    "import hail as hl\n",
    "hl.init(spark_conf={'spark.driver.memory': '100g'}, tmp_dir='/home/olavur/tmp')"
   ]
  },
  {
   "cell_type": "code",
   "execution_count": 2,
   "metadata": {},
   "outputs": [
    {
     "data": {
      "text/html": [
       "\n",
       "    <div class=\"bk-root\">\n",
       "        <a href=\"https://bokeh.pydata.org\" target=\"_blank\" class=\"bk-logo bk-logo-small bk-logo-notebook\"></a>\n",
       "        <span id=\"1001\">Loading BokehJS ...</span>\n",
       "    </div>"
      ]
     },
     "metadata": {},
     "output_type": "display_data"
    },
    {
     "data": {
      "application/javascript": [
       "\n",
       "(function(root) {\n",
       "  function now() {\n",
       "    return new Date();\n",
       "  }\n",
       "\n",
       "  var force = true;\n",
       "\n",
       "  if (typeof root._bokeh_onload_callbacks === \"undefined\" || force === true) {\n",
       "    root._bokeh_onload_callbacks = [];\n",
       "    root._bokeh_is_loading = undefined;\n",
       "  }\n",
       "\n",
       "  var JS_MIME_TYPE = 'application/javascript';\n",
       "  var HTML_MIME_TYPE = 'text/html';\n",
       "  var EXEC_MIME_TYPE = 'application/vnd.bokehjs_exec.v0+json';\n",
       "  var CLASS_NAME = 'output_bokeh rendered_html';\n",
       "\n",
       "  /**\n",
       "   * Render data to the DOM node\n",
       "   */\n",
       "  function render(props, node) {\n",
       "    var script = document.createElement(\"script\");\n",
       "    node.appendChild(script);\n",
       "  }\n",
       "\n",
       "  /**\n",
       "   * Handle when an output is cleared or removed\n",
       "   */\n",
       "  function handleClearOutput(event, handle) {\n",
       "    var cell = handle.cell;\n",
       "\n",
       "    var id = cell.output_area._bokeh_element_id;\n",
       "    var server_id = cell.output_area._bokeh_server_id;\n",
       "    // Clean up Bokeh references\n",
       "    if (id != null && id in Bokeh.index) {\n",
       "      Bokeh.index[id].model.document.clear();\n",
       "      delete Bokeh.index[id];\n",
       "    }\n",
       "\n",
       "    if (server_id !== undefined) {\n",
       "      // Clean up Bokeh references\n",
       "      var cmd = \"from bokeh.io.state import curstate; print(curstate().uuid_to_server['\" + server_id + \"'].get_sessions()[0].document.roots[0]._id)\";\n",
       "      cell.notebook.kernel.execute(cmd, {\n",
       "        iopub: {\n",
       "          output: function(msg) {\n",
       "            var id = msg.content.text.trim();\n",
       "            if (id in Bokeh.index) {\n",
       "              Bokeh.index[id].model.document.clear();\n",
       "              delete Bokeh.index[id];\n",
       "            }\n",
       "          }\n",
       "        }\n",
       "      });\n",
       "      // Destroy server and session\n",
       "      var cmd = \"import bokeh.io.notebook as ion; ion.destroy_server('\" + server_id + \"')\";\n",
       "      cell.notebook.kernel.execute(cmd);\n",
       "    }\n",
       "  }\n",
       "\n",
       "  /**\n",
       "   * Handle when a new output is added\n",
       "   */\n",
       "  function handleAddOutput(event, handle) {\n",
       "    var output_area = handle.output_area;\n",
       "    var output = handle.output;\n",
       "\n",
       "    // limit handleAddOutput to display_data with EXEC_MIME_TYPE content only\n",
       "    if ((output.output_type != \"display_data\") || (!output.data.hasOwnProperty(EXEC_MIME_TYPE))) {\n",
       "      return\n",
       "    }\n",
       "\n",
       "    var toinsert = output_area.element.find(\".\" + CLASS_NAME.split(' ')[0]);\n",
       "\n",
       "    if (output.metadata[EXEC_MIME_TYPE][\"id\"] !== undefined) {\n",
       "      toinsert[toinsert.length - 1].firstChild.textContent = output.data[JS_MIME_TYPE];\n",
       "      // store reference to embed id on output_area\n",
       "      output_area._bokeh_element_id = output.metadata[EXEC_MIME_TYPE][\"id\"];\n",
       "    }\n",
       "    if (output.metadata[EXEC_MIME_TYPE][\"server_id\"] !== undefined) {\n",
       "      var bk_div = document.createElement(\"div\");\n",
       "      bk_div.innerHTML = output.data[HTML_MIME_TYPE];\n",
       "      var script_attrs = bk_div.children[0].attributes;\n",
       "      for (var i = 0; i < script_attrs.length; i++) {\n",
       "        toinsert[toinsert.length - 1].firstChild.setAttribute(script_attrs[i].name, script_attrs[i].value);\n",
       "      }\n",
       "      // store reference to server id on output_area\n",
       "      output_area._bokeh_server_id = output.metadata[EXEC_MIME_TYPE][\"server_id\"];\n",
       "    }\n",
       "  }\n",
       "\n",
       "  function register_renderer(events, OutputArea) {\n",
       "\n",
       "    function append_mime(data, metadata, element) {\n",
       "      // create a DOM node to render to\n",
       "      var toinsert = this.create_output_subarea(\n",
       "        metadata,\n",
       "        CLASS_NAME,\n",
       "        EXEC_MIME_TYPE\n",
       "      );\n",
       "      this.keyboard_manager.register_events(toinsert);\n",
       "      // Render to node\n",
       "      var props = {data: data, metadata: metadata[EXEC_MIME_TYPE]};\n",
       "      render(props, toinsert[toinsert.length - 1]);\n",
       "      element.append(toinsert);\n",
       "      return toinsert\n",
       "    }\n",
       "\n",
       "    /* Handle when an output is cleared or removed */\n",
       "    events.on('clear_output.CodeCell', handleClearOutput);\n",
       "    events.on('delete.Cell', handleClearOutput);\n",
       "\n",
       "    /* Handle when a new output is added */\n",
       "    events.on('output_added.OutputArea', handleAddOutput);\n",
       "\n",
       "    /**\n",
       "     * Register the mime type and append_mime function with output_area\n",
       "     */\n",
       "    OutputArea.prototype.register_mime_type(EXEC_MIME_TYPE, append_mime, {\n",
       "      /* Is output safe? */\n",
       "      safe: true,\n",
       "      /* Index of renderer in `output_area.display_order` */\n",
       "      index: 0\n",
       "    });\n",
       "  }\n",
       "\n",
       "  // register the mime type if in Jupyter Notebook environment and previously unregistered\n",
       "  if (root.Jupyter !== undefined) {\n",
       "    var events = require('base/js/events');\n",
       "    var OutputArea = require('notebook/js/outputarea').OutputArea;\n",
       "\n",
       "    if (OutputArea.prototype.mime_types().indexOf(EXEC_MIME_TYPE) == -1) {\n",
       "      register_renderer(events, OutputArea);\n",
       "    }\n",
       "  }\n",
       "\n",
       "  \n",
       "  if (typeof (root._bokeh_timeout) === \"undefined\" || force === true) {\n",
       "    root._bokeh_timeout = Date.now() + 5000;\n",
       "    root._bokeh_failed_load = false;\n",
       "  }\n",
       "\n",
       "  var NB_LOAD_WARNING = {'data': {'text/html':\n",
       "     \"<div style='background-color: #fdd'>\\n\"+\n",
       "     \"<p>\\n\"+\n",
       "     \"BokehJS does not appear to have successfully loaded. If loading BokehJS from CDN, this \\n\"+\n",
       "     \"may be due to a slow or bad network connection. Possible fixes:\\n\"+\n",
       "     \"</p>\\n\"+\n",
       "     \"<ul>\\n\"+\n",
       "     \"<li>re-rerun `output_notebook()` to attempt to load from CDN again, or</li>\\n\"+\n",
       "     \"<li>use INLINE resources instead, as so:</li>\\n\"+\n",
       "     \"</ul>\\n\"+\n",
       "     \"<code>\\n\"+\n",
       "     \"from bokeh.resources import INLINE\\n\"+\n",
       "     \"output_notebook(resources=INLINE)\\n\"+\n",
       "     \"</code>\\n\"+\n",
       "     \"</div>\"}};\n",
       "\n",
       "  function display_loaded() {\n",
       "    var el = document.getElementById(\"1001\");\n",
       "    if (el != null) {\n",
       "      el.textContent = \"BokehJS is loading...\";\n",
       "    }\n",
       "    if (root.Bokeh !== undefined) {\n",
       "      if (el != null) {\n",
       "        el.textContent = \"BokehJS \" + root.Bokeh.version + \" successfully loaded.\";\n",
       "      }\n",
       "    } else if (Date.now() < root._bokeh_timeout) {\n",
       "      setTimeout(display_loaded, 100)\n",
       "    }\n",
       "  }\n",
       "\n",
       "\n",
       "  function run_callbacks() {\n",
       "    try {\n",
       "      root._bokeh_onload_callbacks.forEach(function(callback) {\n",
       "        if (callback != null)\n",
       "          callback();\n",
       "      });\n",
       "    } finally {\n",
       "      delete root._bokeh_onload_callbacks\n",
       "    }\n",
       "    console.debug(\"Bokeh: all callbacks have finished\");\n",
       "  }\n",
       "\n",
       "  function load_libs(css_urls, js_urls, callback) {\n",
       "    if (css_urls == null) css_urls = [];\n",
       "    if (js_urls == null) js_urls = [];\n",
       "\n",
       "    root._bokeh_onload_callbacks.push(callback);\n",
       "    if (root._bokeh_is_loading > 0) {\n",
       "      console.debug(\"Bokeh: BokehJS is being loaded, scheduling callback at\", now());\n",
       "      return null;\n",
       "    }\n",
       "    if (js_urls == null || js_urls.length === 0) {\n",
       "      run_callbacks();\n",
       "      return null;\n",
       "    }\n",
       "    console.debug(\"Bokeh: BokehJS not loaded, scheduling load and callback at\", now());\n",
       "    root._bokeh_is_loading = css_urls.length + js_urls.length;\n",
       "\n",
       "    function on_load() {\n",
       "      root._bokeh_is_loading--;\n",
       "      if (root._bokeh_is_loading === 0) {\n",
       "        console.debug(\"Bokeh: all BokehJS libraries/stylesheets loaded\");\n",
       "        run_callbacks()\n",
       "      }\n",
       "    }\n",
       "\n",
       "    function on_error() {\n",
       "      console.error(\"failed to load \" + url);\n",
       "    }\n",
       "\n",
       "    for (var i = 0; i < css_urls.length; i++) {\n",
       "      var url = css_urls[i];\n",
       "      const element = document.createElement(\"link\");\n",
       "      element.onload = on_load;\n",
       "      element.onerror = on_error;\n",
       "      element.rel = \"stylesheet\";\n",
       "      element.type = \"text/css\";\n",
       "      element.href = url;\n",
       "      console.debug(\"Bokeh: injecting link tag for BokehJS stylesheet: \", url);\n",
       "      document.body.appendChild(element);\n",
       "    }\n",
       "\n",
       "    for (var i = 0; i < js_urls.length; i++) {\n",
       "      var url = js_urls[i];\n",
       "      var element = document.createElement('script');\n",
       "      element.onload = on_load;\n",
       "      element.onerror = on_error;\n",
       "      element.async = false;\n",
       "      element.src = url;\n",
       "      console.debug(\"Bokeh: injecting script tag for BokehJS library: \", url);\n",
       "      document.head.appendChild(element);\n",
       "    }\n",
       "  };var element = document.getElementById(\"1001\");\n",
       "  if (element == null) {\n",
       "    console.error(\"Bokeh: ERROR: autoload.js configured with elementid '1001' but no matching script tag was found. \")\n",
       "    return false;\n",
       "  }\n",
       "\n",
       "  function inject_raw_css(css) {\n",
       "    const element = document.createElement(\"style\");\n",
       "    element.appendChild(document.createTextNode(css));\n",
       "    document.body.appendChild(element);\n",
       "  }\n",
       "\n",
       "  var js_urls = [\"https://cdn.pydata.org/bokeh/release/bokeh-1.2.0.min.js\", \"https://cdn.pydata.org/bokeh/release/bokeh-widgets-1.2.0.min.js\", \"https://cdn.pydata.org/bokeh/release/bokeh-tables-1.2.0.min.js\", \"https://cdn.pydata.org/bokeh/release/bokeh-gl-1.2.0.min.js\"];\n",
       "  var css_urls = [\"https://cdn.pydata.org/bokeh/release/bokeh-1.2.0.min.css\", \"https://cdn.pydata.org/bokeh/release/bokeh-widgets-1.2.0.min.css\", \"https://cdn.pydata.org/bokeh/release/bokeh-tables-1.2.0.min.css\"];\n",
       "\n",
       "  var inline_js = [\n",
       "    function(Bokeh) {\n",
       "      Bokeh.set_log_level(\"info\");\n",
       "    },\n",
       "    \n",
       "    function(Bokeh) {\n",
       "      \n",
       "    },\n",
       "    function(Bokeh) {} // ensure no trailing comma for IE\n",
       "  ];\n",
       "\n",
       "  function run_inline_js() {\n",
       "    \n",
       "    if ((root.Bokeh !== undefined) || (force === true)) {\n",
       "      for (var i = 0; i < inline_js.length; i++) {\n",
       "        inline_js[i].call(root, root.Bokeh);\n",
       "      }if (force === true) {\n",
       "        display_loaded();\n",
       "      }} else if (Date.now() < root._bokeh_timeout) {\n",
       "      setTimeout(run_inline_js, 100);\n",
       "    } else if (!root._bokeh_failed_load) {\n",
       "      console.log(\"Bokeh: BokehJS failed to load within specified timeout.\");\n",
       "      root._bokeh_failed_load = true;\n",
       "    } else if (force !== true) {\n",
       "      var cell = $(document.getElementById(\"1001\")).parents('.cell').data().cell;\n",
       "      cell.output_area.append_execute_result(NB_LOAD_WARNING)\n",
       "    }\n",
       "\n",
       "  }\n",
       "\n",
       "  if (root._bokeh_is_loading === 0) {\n",
       "    console.debug(\"Bokeh: BokehJS loaded, going straight to plotting\");\n",
       "    run_inline_js();\n",
       "  } else {\n",
       "    load_libs(css_urls, js_urls, function() {\n",
       "      console.debug(\"Bokeh: BokehJS plotting callback run at\", now());\n",
       "      run_inline_js();\n",
       "    });\n",
       "  }\n",
       "}(window));"
      ],
      "application/vnd.bokehjs_load.v0+json": "\n(function(root) {\n  function now() {\n    return new Date();\n  }\n\n  var force = true;\n\n  if (typeof root._bokeh_onload_callbacks === \"undefined\" || force === true) {\n    root._bokeh_onload_callbacks = [];\n    root._bokeh_is_loading = undefined;\n  }\n\n  \n\n  \n  if (typeof (root._bokeh_timeout) === \"undefined\" || force === true) {\n    root._bokeh_timeout = Date.now() + 5000;\n    root._bokeh_failed_load = false;\n  }\n\n  var NB_LOAD_WARNING = {'data': {'text/html':\n     \"<div style='background-color: #fdd'>\\n\"+\n     \"<p>\\n\"+\n     \"BokehJS does not appear to have successfully loaded. If loading BokehJS from CDN, this \\n\"+\n     \"may be due to a slow or bad network connection. Possible fixes:\\n\"+\n     \"</p>\\n\"+\n     \"<ul>\\n\"+\n     \"<li>re-rerun `output_notebook()` to attempt to load from CDN again, or</li>\\n\"+\n     \"<li>use INLINE resources instead, as so:</li>\\n\"+\n     \"</ul>\\n\"+\n     \"<code>\\n\"+\n     \"from bokeh.resources import INLINE\\n\"+\n     \"output_notebook(resources=INLINE)\\n\"+\n     \"</code>\\n\"+\n     \"</div>\"}};\n\n  function display_loaded() {\n    var el = document.getElementById(\"1001\");\n    if (el != null) {\n      el.textContent = \"BokehJS is loading...\";\n    }\n    if (root.Bokeh !== undefined) {\n      if (el != null) {\n        el.textContent = \"BokehJS \" + root.Bokeh.version + \" successfully loaded.\";\n      }\n    } else if (Date.now() < root._bokeh_timeout) {\n      setTimeout(display_loaded, 100)\n    }\n  }\n\n\n  function run_callbacks() {\n    try {\n      root._bokeh_onload_callbacks.forEach(function(callback) {\n        if (callback != null)\n          callback();\n      });\n    } finally {\n      delete root._bokeh_onload_callbacks\n    }\n    console.debug(\"Bokeh: all callbacks have finished\");\n  }\n\n  function load_libs(css_urls, js_urls, callback) {\n    if (css_urls == null) css_urls = [];\n    if (js_urls == null) js_urls = [];\n\n    root._bokeh_onload_callbacks.push(callback);\n    if (root._bokeh_is_loading > 0) {\n      console.debug(\"Bokeh: BokehJS is being loaded, scheduling callback at\", now());\n      return null;\n    }\n    if (js_urls == null || js_urls.length === 0) {\n      run_callbacks();\n      return null;\n    }\n    console.debug(\"Bokeh: BokehJS not loaded, scheduling load and callback at\", now());\n    root._bokeh_is_loading = css_urls.length + js_urls.length;\n\n    function on_load() {\n      root._bokeh_is_loading--;\n      if (root._bokeh_is_loading === 0) {\n        console.debug(\"Bokeh: all BokehJS libraries/stylesheets loaded\");\n        run_callbacks()\n      }\n    }\n\n    function on_error() {\n      console.error(\"failed to load \" + url);\n    }\n\n    for (var i = 0; i < css_urls.length; i++) {\n      var url = css_urls[i];\n      const element = document.createElement(\"link\");\n      element.onload = on_load;\n      element.onerror = on_error;\n      element.rel = \"stylesheet\";\n      element.type = \"text/css\";\n      element.href = url;\n      console.debug(\"Bokeh: injecting link tag for BokehJS stylesheet: \", url);\n      document.body.appendChild(element);\n    }\n\n    for (var i = 0; i < js_urls.length; i++) {\n      var url = js_urls[i];\n      var element = document.createElement('script');\n      element.onload = on_load;\n      element.onerror = on_error;\n      element.async = false;\n      element.src = url;\n      console.debug(\"Bokeh: injecting script tag for BokehJS library: \", url);\n      document.head.appendChild(element);\n    }\n  };var element = document.getElementById(\"1001\");\n  if (element == null) {\n    console.error(\"Bokeh: ERROR: autoload.js configured with elementid '1001' but no matching script tag was found. \")\n    return false;\n  }\n\n  function inject_raw_css(css) {\n    const element = document.createElement(\"style\");\n    element.appendChild(document.createTextNode(css));\n    document.body.appendChild(element);\n  }\n\n  var js_urls = [\"https://cdn.pydata.org/bokeh/release/bokeh-1.2.0.min.js\", \"https://cdn.pydata.org/bokeh/release/bokeh-widgets-1.2.0.min.js\", \"https://cdn.pydata.org/bokeh/release/bokeh-tables-1.2.0.min.js\", \"https://cdn.pydata.org/bokeh/release/bokeh-gl-1.2.0.min.js\"];\n  var css_urls = [\"https://cdn.pydata.org/bokeh/release/bokeh-1.2.0.min.css\", \"https://cdn.pydata.org/bokeh/release/bokeh-widgets-1.2.0.min.css\", \"https://cdn.pydata.org/bokeh/release/bokeh-tables-1.2.0.min.css\"];\n\n  var inline_js = [\n    function(Bokeh) {\n      Bokeh.set_log_level(\"info\");\n    },\n    \n    function(Bokeh) {\n      \n    },\n    function(Bokeh) {} // ensure no trailing comma for IE\n  ];\n\n  function run_inline_js() {\n    \n    if ((root.Bokeh !== undefined) || (force === true)) {\n      for (var i = 0; i < inline_js.length; i++) {\n        inline_js[i].call(root, root.Bokeh);\n      }if (force === true) {\n        display_loaded();\n      }} else if (Date.now() < root._bokeh_timeout) {\n      setTimeout(run_inline_js, 100);\n    } else if (!root._bokeh_failed_load) {\n      console.log(\"Bokeh: BokehJS failed to load within specified timeout.\");\n      root._bokeh_failed_load = true;\n    } else if (force !== true) {\n      var cell = $(document.getElementById(\"1001\")).parents('.cell').data().cell;\n      cell.output_area.append_execute_result(NB_LOAD_WARNING)\n    }\n\n  }\n\n  if (root._bokeh_is_loading === 0) {\n    console.debug(\"Bokeh: BokehJS loaded, going straight to plotting\");\n    run_inline_js();\n  } else {\n    load_libs(css_urls, js_urls, function() {\n      console.debug(\"Bokeh: BokehJS plotting callback run at\", now());\n      run_inline_js();\n    });\n  }\n}(window));"
     },
     "metadata": {},
     "output_type": "display_data"
    }
   ],
   "source": [
    "from bokeh.io import show, output_notebook\n",
    "from bokeh.layouts import gridplot\n",
    "from bokeh.models.scales import LogScale\n",
    "output_notebook()"
   ]
  },
  {
   "cell_type": "code",
   "execution_count": 3,
   "metadata": {},
   "outputs": [],
   "source": [
    "import pandas as pd"
   ]
  },
  {
   "cell_type": "markdown",
   "metadata": {},
   "source": [
    "## Load FarGen data\n",
    "\n",
    "Use high-quality variants."
   ]
  },
  {
   "cell_type": "code",
   "execution_count": 4,
   "metadata": {},
   "outputs": [],
   "source": [
    "BASE_DIR = '/home/olavur/experiments/2020-11-13_fargen1_exome_analysis'\n",
    "mt = hl.read_matrix_table(BASE_DIR + '/data/mt/high_quality_variants.mt')"
   ]
  },
  {
   "cell_type": "code",
   "execution_count": 5,
   "metadata": {},
   "outputs": [
    {
     "name": "stdout",
     "output_type": "stream",
     "text": [
      "Number of variants: 1146382\n",
      "Number of samples: 468\n"
     ]
    }
   ],
   "source": [
    "n_variants, n_samples = mt.count()\n",
    "print('Number of variants: ' + str(n_variants))\n",
    "print('Number of samples: ' + str(n_samples))"
   ]
  },
  {
   "cell_type": "markdown",
   "metadata": {},
   "source": [
    "## Population filters\n",
    "\n",
    "Apply HWE filter to remove potential genotyping errors. Note that if we use a stringent HWE filter we risk removing evidence of population structure from our data. Therefore, we shall use a lenient filter, only removing variants with very strong deviation from HWE at $p<10^{-9}$."
   ]
  },
  {
   "cell_type": "code",
   "execution_count": 6,
   "metadata": {},
   "outputs": [],
   "source": [
    "mt = mt.annotate_rows(hwe=hl.agg.hardy_weinberg_test(mt.GT))\n",
    "mt = mt.filter_rows(mt.hwe.p_value > 1e-9)"
   ]
  },
  {
   "cell_type": "markdown",
   "metadata": {},
   "source": [
    "To filter rare variants, we first must calculate the minor allele frequency."
   ]
  },
  {
   "cell_type": "code",
   "execution_count": 7,
   "metadata": {},
   "outputs": [],
   "source": [
    "# The number of alleles at the site is the sum of the ploidy at each site.\n",
    "# This number should be twice the number of samples.\n",
    "# If there are missing genotype calls, the number of alleles will be less.\n",
    "AN_exprs = hl.agg.sum(mt.GT.ploidy)\n",
    "mt = mt.annotate_rows(AN=AN_exprs)\n",
    "\n",
    "# Calculate the number of alternate alleles at each site.\n",
    "AC_exprs = hl.agg.sum(mt.GT.n_alt_alleles())\n",
    "mt = mt.annotate_rows(AC=AC_exprs)\n",
    "\n",
    "# Calculate the alternate allele frequency.\n",
    "mt = mt.annotate_rows(AF=mt.AC / mt.AN)"
   ]
  },
  {
   "cell_type": "markdown",
   "metadata": {},
   "source": [
    "Remove variants with minor allele frequency under 0.01. Note that we remove only very rare variants, because common variants can be insufficient to describe fine-scale population structure at a subpopulation scale."
   ]
  },
  {
   "cell_type": "code",
   "execution_count": 8,
   "metadata": {},
   "outputs": [],
   "source": [
    "maf_filter = 0.01\n",
    "mt = mt.filter_rows((mt.AF > maf_filter) & (mt.AF < (1 - maf_filter)))"
   ]
  },
  {
   "cell_type": "markdown",
   "metadata": {},
   "source": [
    "## Filter indels\n",
    "\n",
    "Remove all indels from the dataset.\n",
    "\n",
    "**NOTE:** this code only works because there are only diallelic sites. If there were multi-allelic sites, I would have to check all allele pairs."
   ]
  },
  {
   "cell_type": "code",
   "execution_count": 9,
   "metadata": {},
   "outputs": [],
   "source": [
    "mt = mt.filter_rows(hl.is_snp(mt.alleles[0], mt.alleles[1]))"
   ]
  },
  {
   "cell_type": "markdown",
   "metadata": {},
   "source": [
    "## LD pruning\n",
    "\n",
    "Before we calculate LD, we remove multi-allelic sites.\n",
    "\n",
    "**NOTE:** I can do LD pruning on multi-allelic sites using [split_multi()](https://hail.is/docs/0.2/methods/genetics.html#hail.methods.split_multi)."
   ]
  },
  {
   "cell_type": "code",
   "execution_count": 10,
   "metadata": {},
   "outputs": [],
   "source": [
    "mt = mt.filter_rows(hl.len(mt.alleles) == 2)"
   ]
  },
  {
   "cell_type": "markdown",
   "metadata": {},
   "source": [
    "Prune variants with $r^2 > 0.2$ within a 500 000 basepair window.\n",
    "\n",
    "**NOTE:** this $r^2$ value is quite arbitrary. It is the default from the Hail method and I did not try other values."
   ]
  },
  {
   "cell_type": "code",
   "execution_count": 11,
   "metadata": {},
   "outputs": [
    {
     "name": "stderr",
     "output_type": "stream",
     "text": [
      "2021-06-15 12:07:25 Hail: INFO: ld_prune: running local pruning stage with max queue size of 401850 variants\n",
      "2021-06-15 12:07:39 Hail: INFO: wrote table with 84041 rows in 37 partitions to /home/olavur/tmp/Z1cRyg3S0j88Mrm40mXXiY\n",
      "    Total size: 2.06 MiB\n",
      "    * Rows: 2.06 MiB\n",
      "    * Globals: 11.00 B\n",
      "    * Smallest partition: 1048 rows (25.28 KiB)\n",
      "    * Largest partition:  2875 rows (72.31 KiB)\n",
      "2021-06-15 12:07:56 Hail: INFO: Wrote all 21 blocks of 84041 x 468 matrix with block size 4096.\n",
      "2021-06-15 12:10:09 Hail: INFO: wrote table with 185 rows in 41 partitions to /home/olavur/tmp/7iwLMorU7fyciApDaFz59F\n",
      "    Total size: 856.50 KiB\n",
      "    * Rows: 4.88 KiB\n",
      "    * Globals: 851.62 KiB\n",
      "    * Smallest partition: 0 rows (21.00 B)\n",
      "    * Largest partition:  22 rows (461.00 B)\n"
     ]
    }
   ],
   "source": [
    "pruned_variant_table = hl.ld_prune(mt.GT, r2=0.2, bp_window_size=500000)\n",
    "mt = mt.filter_rows(hl.is_defined(pruned_variant_table[mt.row_key]))"
   ]
  },
  {
   "cell_type": "markdown",
   "metadata": {},
   "source": [
    "Make a checkpoint, caching all operations done on the matrix table."
   ]
  },
  {
   "cell_type": "code",
   "execution_count": 12,
   "metadata": {},
   "outputs": [],
   "source": [
    "if False:\n",
    "    mt = mt.checkpoint('/home/olavur/tmp/ld_pruned.ht')\n",
    "else:\n",
    "    mt = hl.read_matrix_table('/home/olavur/tmp/ld_pruned.ht')"
   ]
  },
  {
   "cell_type": "code",
   "execution_count": 13,
   "metadata": {},
   "outputs": [
    {
     "name": "stdout",
     "output_type": "stream",
     "text": [
      "Number of variants: 83887\n",
      "Number of samples: 468\n"
     ]
    }
   ],
   "source": [
    "n_variants, n_samples = mt.count()\n",
    "print('Number of variants: ' + str(n_variants))\n",
    "print('Number of samples: ' + str(n_samples))"
   ]
  },
  {
   "cell_type": "markdown",
   "metadata": {},
   "source": [
    "This may be a lot of variants to run a PCA analysis on, but as mentioned previously, we do not want to remove too many rare variants as these can hold a lot of information about fine-scale population structure."
   ]
  },
  {
   "cell_type": "markdown",
   "metadata": {},
   "source": [
    "## Annotate birth place region\n",
    "\n",
    "Import data containing the birthplace ID of all FarGen participants. We will annotate the matrix table with these IDs.\n",
    "\n",
    "First we read a table containing the birthplace but with the 'RIN' participant ID. We will have to map this 'RIN' ID to an 'FN' ID."
   ]
  },
  {
   "cell_type": "code",
   "execution_count": 14,
   "metadata": {},
   "outputs": [
    {
     "name": "stderr",
     "output_type": "stream",
     "text": [
      "2021-06-15 12:10:10 Hail: INFO: Reading table without type imputation\n",
      "  Loading field 'ind' as type str (not specified)\n",
      "  Loading field 'region' as type str (not specified)\n"
     ]
    }
   ],
   "source": [
    "rin_birthplace_ht = hl.import_table(BASE_DIR + '/data/metadata/birthplace/rin_region.csv', delimiter=',')\n",
    "# Rename \"ind\" to \"rin\".\n",
    "# Convert the region variable to float.\n",
    "rin_birthplace_ht = rin_birthplace_ht.transmute(rin=rin_birthplace_ht.ind, birthplace=hl.float64(rin_birthplace_ht.region))\n",
    "\n",
    "rin_birthplace_ht = rin_birthplace_ht.key_by(rin_birthplace_ht.rin)"
   ]
  },
  {
   "cell_type": "markdown",
   "metadata": {},
   "source": [
    "Import table with 'RIN' IDs and corresponding 'FN' IDs."
   ]
  },
  {
   "cell_type": "code",
   "execution_count": 15,
   "metadata": {},
   "outputs": [
    {
     "name": "stderr",
     "output_type": "stream",
     "text": [
      "2021-06-15 12:10:10 Hail: WARN: Name collision: field 'sample' already in object dict. \n",
      "  This field must be referenced with __getitem__ syntax: obj['sample']\n",
      "2021-06-15 12:10:10 Hail: INFO: Reading table without type imputation\n",
      "  Loading field 'rin' as type str (not specified)\n",
      "  Loading field 'sample' as type str (not specified)\n"
     ]
    }
   ],
   "source": [
    "fargen_rin_ht = hl.import_table(BASE_DIR + '/data/metadata/birthplace/fargen_rin_samplename.csv', delimiter=',')\n",
    "fargen_rin_ht = fargen_rin_ht.key_by(fargen_rin_ht.rin)"
   ]
  },
  {
   "cell_type": "markdown",
   "metadata": {},
   "source": [
    "Make a table with 'RIN', 'FN' and birthplace."
   ]
  },
  {
   "cell_type": "code",
   "execution_count": 16,
   "metadata": {},
   "outputs": [],
   "source": [
    "# Annotate the table with the birthplace by the samplenames.\n",
    "samplename_birthplace_ht = rin_birthplace_ht.annotate(samplename=fargen_rin_ht[rin_birthplace_ht.rin].sample)\n",
    "samplename_birthplace_ht = samplename_birthplace_ht.key_by(samplename_birthplace_ht.samplename)"
   ]
  },
  {
   "cell_type": "markdown",
   "metadata": {},
   "source": [
    "Finally, we an annotate the matrix table with birthplace of samples."
   ]
  },
  {
   "cell_type": "code",
   "execution_count": 17,
   "metadata": {},
   "outputs": [],
   "source": [
    "mt = mt.annotate_cols(birthplace = samplename_birthplace_ht[mt.s].birthplace)"
   ]
  },
  {
   "cell_type": "markdown",
   "metadata": {},
   "source": [
    "Count the number of samples in each region. Note that `birthplace=6` means that we do not know the birthplace of the sample."
   ]
  },
  {
   "cell_type": "code",
   "execution_count": 18,
   "metadata": {},
   "outputs": [
    {
     "name": "stderr",
     "output_type": "stream",
     "text": [
      "2021-06-15 12:10:10 Hail: WARN: cols(): Resulting column table is sorted by 'col_key'.\n",
      "    To preserve matrix table column order, first unkey columns with 'key_cols_by()'\n",
      "2021-06-15 12:10:10 Hail: WARN: Name collision: field 'count' already in object dict. \n",
      "  This field must be referenced with __getitem__ syntax: obj['count']\n",
      "2021-06-15 12:10:11 Hail: INFO: Ordering unsorted dataset with network shuffle\n",
      "2021-06-15 12:10:11 Hail: INFO: Ordering unsorted dataset with network shuffle\n",
      "2021-06-15 12:10:14 Hail: INFO: Coerced sorted dataset\n",
      "2021-06-15 12:10:14 Hail: INFO: Coerced dataset with out-of-order partitions.\n"
     ]
    },
    {
     "data": {
      "text/html": [
       "<div>\n",
       "<style scoped>\n",
       "    .dataframe tbody tr th:only-of-type {\n",
       "        vertical-align: middle;\n",
       "    }\n",
       "\n",
       "    .dataframe tbody tr th {\n",
       "        vertical-align: top;\n",
       "    }\n",
       "\n",
       "    .dataframe thead th {\n",
       "        text-align: right;\n",
       "    }\n",
       "</style>\n",
       "<table border=\"1\" class=\"dataframe\">\n",
       "  <thead>\n",
       "    <tr style=\"text-align: right;\">\n",
       "      <th></th>\n",
       "      <th>birthplace</th>\n",
       "      <th>count</th>\n",
       "    </tr>\n",
       "  </thead>\n",
       "  <tbody>\n",
       "    <tr>\n",
       "      <th>0</th>\n",
       "      <td>1.0</td>\n",
       "      <td>69</td>\n",
       "    </tr>\n",
       "    <tr>\n",
       "      <th>1</th>\n",
       "      <td>2.0</td>\n",
       "      <td>99</td>\n",
       "    </tr>\n",
       "    <tr>\n",
       "      <th>2</th>\n",
       "      <td>3.0</td>\n",
       "      <td>177</td>\n",
       "    </tr>\n",
       "    <tr>\n",
       "      <th>3</th>\n",
       "      <td>4.0</td>\n",
       "      <td>28</td>\n",
       "    </tr>\n",
       "    <tr>\n",
       "      <th>4</th>\n",
       "      <td>5.0</td>\n",
       "      <td>17</td>\n",
       "    </tr>\n",
       "    <tr>\n",
       "      <th>5</th>\n",
       "      <td>6.0</td>\n",
       "      <td>34</td>\n",
       "    </tr>\n",
       "    <tr>\n",
       "      <th>6</th>\n",
       "      <td>NaN</td>\n",
       "      <td>44</td>\n",
       "    </tr>\n",
       "  </tbody>\n",
       "</table>\n",
       "</div>"
      ],
      "text/plain": [
       "   birthplace  count\n",
       "0         1.0     69\n",
       "1         2.0     99\n",
       "2         3.0    177\n",
       "3         4.0     28\n",
       "4         5.0     17\n",
       "5         6.0     34\n",
       "6         NaN     44"
      ]
     },
     "execution_count": 18,
     "metadata": {},
     "output_type": "execute_result"
    }
   ],
   "source": [
    "cols_ht = mt.cols()\n",
    "result = (cols_ht.group_by(cols_ht.birthplace)\n",
    "    .aggregate(count = hl.agg.count()))\n",
    "result.to_pandas()"
   ]
  },
  {
   "cell_type": "markdown",
   "metadata": {},
   "source": [
    "## Filter related individuals\n",
    "\n",
    "Estimate the relatedness between the samples by the PC-Relate method, with a minimum alternate allele frequency of 0.001."
   ]
  },
  {
   "cell_type": "code",
   "execution_count": 19,
   "metadata": {},
   "outputs": [
    {
     "name": "stderr",
     "output_type": "stream",
     "text": [
      "2021-06-15 12:10:17 Hail: INFO: hwe_normalized_pca: running PCA using 83887 variants.\n",
      "2021-06-15 12:10:18 Hail: INFO: pca: running PCA with 2 components...\n",
      "2021-06-15 12:10:46 Hail: INFO: Wrote all 21 blocks of 83887 x 468 matrix with block size 4096.\n"
     ]
    }
   ],
   "source": [
    "pc_rel = hl.pc_relate(mt.GT, 0.001, k=2, statistics='kin')"
   ]
  },
  {
   "cell_type": "markdown",
   "metadata": {},
   "source": [
    "Plot all the relatedness coefficients in a histogram to get an overview."
   ]
  },
  {
   "cell_type": "code",
   "execution_count": 20,
   "metadata": {},
   "outputs": [
    {
     "name": "stderr",
     "output_type": "stream",
     "text": [
      "2021-06-15 12:10:47 Hail: INFO: wrote matrix with 3 rows and 83887 columns as 21 blocks of size 4096 to /home/olavur/tmp/pcrelate-write-read-e25n1fSr0R4vAaQL80t2MY.bm\n",
      "2021-06-15 12:10:47 Hail: INFO: wrote matrix with 83887 rows and 468 columns as 21 blocks of size 4096 to /home/olavur/tmp/pcrelate-write-read-yLWrx5hKEPFZ5omcu7susr.bm\n",
      "2021-06-15 12:11:18 Hail: INFO: wrote matrix with 468 rows and 468 columns as 1 block of size 4096 to /home/olavur/tmp/pcrelate-write-read-oschpShlfYlA2pdxvaP1Sq.bm\n",
      "2021-06-15 12:11:49 Hail: INFO: wrote matrix with 468 rows and 468 columns as 1 block of size 4096 to /home/olavur/tmp/pcrelate-write-read-ddcESr9wsjbb10DVVCmF5s.bm\n",
      "2021-06-15 12:11:49 Hail: INFO: wrote matrix with 468 rows and 468 columns as 1 block of size 4096 to /home/olavur/tmp/pcrelate-write-read-xbGOQ1MRpyQEcP5elmGJQC.bm\n",
      "2021-06-15 12:11:49 Hail: INFO: Ordering unsorted dataset with network shuffle\n",
      "2021-06-15 12:11:51 Hail: INFO: wrote matrix with 3 rows and 83887 columns as 21 blocks of size 4096 to /home/olavur/tmp/pcrelate-write-read-ZKPTPXrojMpml1Old9pAUL.bm\n",
      "2021-06-15 12:11:51 Hail: INFO: wrote matrix with 83887 rows and 468 columns as 21 blocks of size 4096 to /home/olavur/tmp/pcrelate-write-read-YMvJ2Zh8gs0QqyzIBKuQ7s.bm\n",
      "2021-06-15 12:12:22 Hail: INFO: wrote matrix with 468 rows and 468 columns as 1 block of size 4096 to /home/olavur/tmp/pcrelate-write-read-yU3FrQviHNqfGFwUTlRpHx.bm\n",
      "2021-06-15 12:12:50 Hail: INFO: wrote matrix with 468 rows and 468 columns as 1 block of size 4096 to /home/olavur/tmp/pcrelate-write-read-wl7KzCpWcbBFxIhagLmpIs.bm\n",
      "2021-06-15 12:12:50 Hail: INFO: wrote matrix with 468 rows and 468 columns as 1 block of size 4096 to /home/olavur/tmp/pcrelate-write-read-L9km1ocBQnpHlQ856lw67t.bm\n",
      "2021-06-15 12:12:50 Hail: INFO: Ordering unsorted dataset with network shuffle\n"
     ]
    },
    {
     "data": {
      "text/html": [
       "\n",
       "\n",
       "\n",
       "\n",
       "\n",
       "\n",
       "  <div class=\"bk-root\" id=\"e876c390-fcec-41fd-8e0c-5f276bcedc8f\" data-root-id=\"1002\"></div>\n"
      ]
     },
     "metadata": {},
     "output_type": "display_data"
    },
    {
     "data": {
      "application/javascript": [
       "(function(root) {\n",
       "  function embed_document(root) {\n",
       "    \n",
       "  var docs_json = {\"cd9176cf-90cd-4a8d-811c-8be5c9f7d345\":{\"roots\":{\"references\":[{\"attributes\":{\"background_fill_color\":{\"value\":\"#EEEEEE\"},\"below\":[{\"id\":\"1013\",\"type\":\"LinearAxis\"}],\"center\":[{\"id\":\"1017\",\"type\":\"Grid\"},{\"id\":\"1022\",\"type\":\"Grid\"}],\"left\":[{\"id\":\"1018\",\"type\":\"LinearAxis\"}],\"renderers\":[{\"id\":\"1039\",\"type\":\"GlyphRenderer\"}],\"title\":{\"id\":\"1003\",\"type\":\"Title\"},\"toolbar\":{\"id\":\"1029\",\"type\":\"Toolbar\"},\"x_range\":{\"id\":\"1005\",\"type\":\"Range1d\"},\"x_scale\":{\"id\":\"1009\",\"type\":\"LinearScale\"},\"y_range\":{\"id\":\"1007\",\"type\":\"DataRange1d\"},\"y_scale\":{\"id\":\"1011\",\"type\":\"LinearScale\"}},\"id\":\"1002\",\"subtype\":\"Figure\",\"type\":\"Plot\"},{\"attributes\":{\"bottom\":{\"value\":0},\"fill_alpha\":{\"value\":0.1},\"fill_color\":{\"value\":\"#1f77b4\"},\"left\":{\"field\":\"left\"},\"line_alpha\":{\"value\":0.1},\"line_color\":{\"value\":\"#1f77b4\"},\"right\":{\"field\":\"right\"},\"top\":{\"field\":\"top\"}},\"id\":\"1038\",\"type\":\"Quad\"},{\"attributes\":{},\"id\":\"1019\",\"type\":\"BasicTicker\"},{\"attributes\":{},\"id\":\"1023\",\"type\":\"PanTool\"},{\"attributes\":{\"active_drag\":\"auto\",\"active_inspect\":\"auto\",\"active_multi\":null,\"active_scroll\":\"auto\",\"active_tap\":\"auto\",\"tools\":[{\"id\":\"1023\",\"type\":\"PanTool\"},{\"id\":\"1024\",\"type\":\"WheelZoomTool\"},{\"id\":\"1025\",\"type\":\"BoxZoomTool\"},{\"id\":\"1026\",\"type\":\"SaveTool\"},{\"id\":\"1027\",\"type\":\"ResetTool\"},{\"id\":\"1028\",\"type\":\"HelpTool\"}]},\"id\":\"1029\",\"type\":\"Toolbar\"},{\"attributes\":{\"axis_label\":\"Frequency\",\"formatter\":{\"id\":\"1045\",\"type\":\"BasicTickFormatter\"},\"ticker\":{\"id\":\"1019\",\"type\":\"BasicTicker\"}},\"id\":\"1018\",\"type\":\"LinearAxis\"},{\"attributes\":{\"bottom\":{\"value\":0},\"fill_color\":{\"value\":\"#1f77b4\"},\"left\":{\"field\":\"left\"},\"right\":{\"field\":\"right\"},\"top\":{\"field\":\"top\"}},\"id\":\"1037\",\"type\":\"Quad\"},{\"attributes\":{\"overlay\":{\"id\":\"1048\",\"type\":\"BoxAnnotation\"}},\"id\":\"1025\",\"type\":\"BoxZoomTool\"},{\"attributes\":{},\"id\":\"1009\",\"type\":\"LinearScale\"},{\"attributes\":{\"callback\":null,\"data\":{\"left\":[-0.11089768576039166,-0.09894369279306783,-0.08698969982574402,-0.07503570685842019,-0.06308171389109637,-0.051127720923772546,-0.03917372795644872,-0.027219734989124902,-0.015265742021801074,-0.003311749054477245,0.00864224391284657,0.0205962368801704,0.03255022984749423,0.044504222814818056,0.05645821578214186,0.06841220874946569,0.08036620171678951,0.09232019468411334,0.10427418765143717,0.11622818061876097,0.1281821735860848,0.14013616655340866,0.15209015952073246,0.16404415248805626,0.17599814545538012,0.18795213842270392,0.19990613139002777,0.21186012435735158,0.22381411732467538,0.23576811029199923,0.24772210325932303,0.2596760962266469,0.2716300891939707,0.2835840821612945,0.29553807512861835,0.30749206809594215,0.319446061063266,0.3314000540305898,0.3433540469979136,0.35530803996523747,0.36726203293256127,0.3792160258998851,0.391170018867209,0.4031240118345328,0.4150780048018566,0.4270319977691804,0.4389859907365042,0.4509399837038281,0.4628939766711519,0.4748479696384757],\"right\":[-0.09894369279306783,-0.08698969982574402,-0.07503570685842019,-0.06308171389109637,-0.051127720923772546,-0.03917372795644872,-0.027219734989124902,-0.015265742021801074,-0.003311749054477245,0.00864224391284657,0.0205962368801704,0.03255022984749423,0.044504222814818056,0.05645821578214186,0.06841220874946569,0.08036620171678951,0.09232019468411334,0.10427418765143717,0.11622818061876097,0.1281821735860848,0.14013616655340866,0.15209015952073246,0.16404415248805626,0.17599814545538012,0.18795213842270392,0.19990613139002777,0.21186012435735158,0.22381411732467538,0.23576811029199923,0.24772210325932303,0.2596760962266469,0.2716300891939707,0.2835840821612945,0.29553807512861835,0.30749206809594215,0.319446061063266,0.3314000540305898,0.3433540469979136,0.35530803996523747,0.36726203293256127,0.3792160258998851,0.391170018867209,0.4031240118345328,0.4150780048018566,0.4270319977691804,0.4389859907365042,0.4509399837038281,0.4628939766711519,0.4748479696384757,0.4868019626057995],\"top\":[1,1,0,0,0,4,26,333,36363,69542,2567,240,46,32,24,9,3,5,9,2,6,1,0,1,1,3,6,16,20,12,1,2,0,0,0,0,0,0,1,0,0,0,0,0,0,0,0,0,0,1]},\"selected\":{\"id\":\"1047\",\"type\":\"Selection\"},\"selection_policy\":{\"id\":\"1046\",\"type\":\"UnionRenderers\"}},\"id\":\"1036\",\"type\":\"ColumnDataSource\"},{\"attributes\":{},\"id\":\"1045\",\"type\":\"BasicTickFormatter\"},{\"attributes\":{\"source\":{\"id\":\"1036\",\"type\":\"ColumnDataSource\"}},\"id\":\"1040\",\"type\":\"CDSView\"},{\"attributes\":{},\"id\":\"1014\",\"type\":\"BasicTicker\"},{\"attributes\":{\"callback\":null,\"end\":0.5166869450241091,\"start\":-0.14078266817870122},\"id\":\"1005\",\"type\":\"Range1d\"},{\"attributes\":{\"text\":\"Histogram of kinship coefficient\"},\"id\":\"1003\",\"type\":\"Title\"},{\"attributes\":{},\"id\":\"1024\",\"type\":\"WheelZoomTool\"},{\"attributes\":{\"callback\":null},\"id\":\"1007\",\"type\":\"DataRange1d\"},{\"attributes\":{},\"id\":\"1028\",\"type\":\"HelpTool\"},{\"attributes\":{},\"id\":\"1026\",\"type\":\"SaveTool\"},{\"attributes\":{},\"id\":\"1046\",\"type\":\"UnionRenderers\"},{\"attributes\":{},\"id\":\"1047\",\"type\":\"Selection\"},{\"attributes\":{},\"id\":\"1043\",\"type\":\"BasicTickFormatter\"},{\"attributes\":{\"bottom_units\":\"screen\",\"fill_alpha\":{\"value\":0.5},\"fill_color\":{\"value\":\"lightgrey\"},\"left_units\":\"screen\",\"level\":\"overlay\",\"line_alpha\":{\"value\":1.0},\"line_color\":{\"value\":\"black\"},\"line_dash\":[4,4],\"line_width\":{\"value\":2},\"render_mode\":\"css\",\"right_units\":\"screen\",\"top_units\":\"screen\"},\"id\":\"1048\",\"type\":\"BoxAnnotation\"},{\"attributes\":{},\"id\":\"1011\",\"type\":\"LinearScale\"},{\"attributes\":{\"data_source\":{\"id\":\"1036\",\"type\":\"ColumnDataSource\"},\"glyph\":{\"id\":\"1037\",\"type\":\"Quad\"},\"hover_glyph\":null,\"muted_glyph\":null,\"nonselection_glyph\":{\"id\":\"1038\",\"type\":\"Quad\"},\"selection_glyph\":null,\"view\":{\"id\":\"1040\",\"type\":\"CDSView\"}},\"id\":\"1039\",\"type\":\"GlyphRenderer\"},{\"attributes\":{\"dimension\":1,\"ticker\":{\"id\":\"1019\",\"type\":\"BasicTicker\"}},\"id\":\"1022\",\"type\":\"Grid\"},{\"attributes\":{\"ticker\":{\"id\":\"1014\",\"type\":\"BasicTicker\"}},\"id\":\"1017\",\"type\":\"Grid\"},{\"attributes\":{},\"id\":\"1027\",\"type\":\"ResetTool\"},{\"attributes\":{\"formatter\":{\"id\":\"1043\",\"type\":\"BasicTickFormatter\"},\"ticker\":{\"id\":\"1014\",\"type\":\"BasicTicker\"}},\"id\":\"1013\",\"type\":\"LinearAxis\"}],\"root_ids\":[\"1002\"]},\"title\":\"Bokeh Application\",\"version\":\"1.2.0\"}};\n",
       "  var render_items = [{\"docid\":\"cd9176cf-90cd-4a8d-811c-8be5c9f7d345\",\"roots\":{\"1002\":\"e876c390-fcec-41fd-8e0c-5f276bcedc8f\"}}];\n",
       "  root.Bokeh.embed.embed_items_notebook(docs_json, render_items);\n",
       "\n",
       "  }\n",
       "  if (root.Bokeh !== undefined) {\n",
       "    embed_document(root);\n",
       "  } else {\n",
       "    var attempts = 0;\n",
       "    var timer = setInterval(function(root) {\n",
       "      if (root.Bokeh !== undefined) {\n",
       "        embed_document(root);\n",
       "        clearInterval(timer);\n",
       "      }\n",
       "      attempts++;\n",
       "      if (attempts > 100) {\n",
       "        console.log(\"Bokeh: ERROR: Unable to run BokehJS code because BokehJS library is missing\");\n",
       "        clearInterval(timer);\n",
       "      }\n",
       "    }, 10, root)\n",
       "  }\n",
       "})(window);"
      ],
      "application/vnd.bokehjs_exec.v0+json": ""
     },
     "metadata": {
      "application/vnd.bokehjs_exec.v0+json": {
       "id": "1002"
      }
     },
     "output_type": "display_data"
    }
   ],
   "source": [
    "p = hl.plot.histogram(pc_rel.kin, title='Histogram of kinship coefficient')\n",
    "show(p)"
   ]
  },
  {
   "cell_type": "markdown",
   "metadata": {},
   "source": [
    "**FIXME:** why did I used $2^{-3}$? If this is like the kinship coefficients I'm used to, the cutoff for second degree relationships is $2^{-4}$."
   ]
  },
  {
   "cell_type": "code",
   "execution_count": 21,
   "metadata": {},
   "outputs": [],
   "source": [
    "pairs = pc_rel.filter(pc_rel['kin'] > 2**(-4))"
   ]
  },
  {
   "cell_type": "markdown",
   "metadata": {},
   "source": [
    "Then we find the maximal independent set, consistent of the samples to remove."
   ]
  },
  {
   "cell_type": "code",
   "execution_count": 22,
   "metadata": {},
   "outputs": [
    {
     "name": "stderr",
     "output_type": "stream",
     "text": [
      "2021-06-15 12:12:52 Hail: INFO: wrote matrix with 3 rows and 83887 columns as 21 blocks of size 4096 to /home/olavur/tmp/pcrelate-write-read-4DyFtqloLa80JNpOymKr1V.bm\n",
      "2021-06-15 12:12:52 Hail: INFO: wrote matrix with 83887 rows and 468 columns as 21 blocks of size 4096 to /home/olavur/tmp/pcrelate-write-read-x0s73o6PgkIQkMGPH22ChJ.bm\n",
      "2021-06-15 12:13:19 Hail: INFO: wrote matrix with 468 rows and 468 columns as 1 block of size 4096 to /home/olavur/tmp/pcrelate-write-read-W1aTjFjpjea06QgzmXwKOL.bm\n",
      "2021-06-15 12:13:49 Hail: INFO: wrote matrix with 468 rows and 468 columns as 1 block of size 4096 to /home/olavur/tmp/pcrelate-write-read-ZOHlNAYw1UEQHlw9433tOQ.bm\n",
      "2021-06-15 12:13:49 Hail: INFO: wrote matrix with 468 rows and 468 columns as 1 block of size 4096 to /home/olavur/tmp/pcrelate-write-read-uvDZGcAdoQDE38iRQ0ZPDs.bm\n",
      "2021-06-15 12:13:49 Hail: INFO: Ordering unsorted dataset with network shuffle\n",
      "2021-06-15 12:13:50 Hail: INFO: wrote table with 104 rows in 1 partition to /home/olavur/tmp/yzkPGt8TpYn4C5CPOZcdTS\n",
      "    Total size: 1.08 KiB\n",
      "    * Rows: 1.06 KiB\n",
      "    * Globals: 11.00 B\n",
      "    * Smallest partition: 104 rows (1.06 KiB)\n",
      "    * Largest partition:  104 rows (1.06 KiB)\n"
     ]
    }
   ],
   "source": [
    "related_samples_to_remove = hl.maximal_independent_set(pairs.i, pairs.j, keep=False)"
   ]
  },
  {
   "cell_type": "markdown",
   "metadata": {},
   "source": [
    "Now we filter these individuals from the matrix table."
   ]
  },
  {
   "cell_type": "code",
   "execution_count": 23,
   "metadata": {},
   "outputs": [],
   "source": [
    "mt = mt.filter_cols(hl.is_defined(related_samples_to_remove[mt.col_key]), keep=False)"
   ]
  },
  {
   "cell_type": "markdown",
   "metadata": {},
   "source": [
    "Make a checkpoint, caching all operations done on the matrix table."
   ]
  },
  {
   "cell_type": "code",
   "execution_count": 24,
   "metadata": {},
   "outputs": [],
   "source": [
    "if False:\n",
    "    mt = mt.checkpoint('/home/olavur/tmp/rel_pruned.ht')\n",
    "else:\n",
    "    mt = hl.read_matrix_table('/home/olavur/tmp/rel_pruned.ht')"
   ]
  },
  {
   "cell_type": "code",
   "execution_count": 25,
   "metadata": {},
   "outputs": [
    {
     "name": "stdout",
     "output_type": "stream",
     "text": [
      "Number of variants: 83887\n",
      "Number of samples: 389\n"
     ]
    }
   ],
   "source": [
    "n_variants, n_samples = mt.count()\n",
    "print('Number of variants: ' + str(n_variants))\n",
    "print('Number of samples: ' + str(n_samples))"
   ]
  },
  {
   "cell_type": "markdown",
   "metadata": {},
   "source": [
    "## Compute PCA"
   ]
  },
  {
   "cell_type": "code",
   "execution_count": 34,
   "metadata": {},
   "outputs": [
    {
     "name": "stderr",
     "output_type": "stream",
     "text": [
      "2021-06-15 14:09:20 Hail: INFO: hwe_normalized_pca: running PCA using 83887 variants.\n",
      "2021-06-15 14:09:21 Hail: INFO: pca: running PCA with 4 components...\n"
     ]
    }
   ],
   "source": [
    "eigenvalues, scores, loadings = hl.hwe_normalized_pca(mt.GT, k=4)"
   ]
  },
  {
   "cell_type": "code",
   "execution_count": 35,
   "metadata": {},
   "outputs": [],
   "source": [
    "mt = mt.annotate_cols(scores = scores[mt.s].scores)"
   ]
  },
  {
   "cell_type": "code",
   "execution_count": 36,
   "metadata": {},
   "outputs": [
    {
     "data": {
      "text/html": [
       "\n",
       "\n",
       "\n",
       "\n",
       "\n",
       "\n",
       "  <div class=\"bk-root\" id=\"1c1a3134-10bb-4292-b456-8adb084a2334\" data-root-id=\"1441\"></div>\n"
      ]
     },
     "metadata": {},
     "output_type": "display_data"
    },
    {
     "data": {
      "application/javascript": [
       "(function(root) {\n",
       "  function embed_document(root) {\n",
       "    \n",
       "  var docs_json = {\"9f4894af-f405-4bde-a0c3-06dc675caced\":{\"roots\":{\"references\":[{\"attributes\":{\"below\":[{\"id\":\"1452\",\"type\":\"LinearAxis\"}],\"center\":[{\"id\":\"1456\",\"type\":\"Grid\"},{\"id\":\"1461\",\"type\":\"Grid\"}],\"left\":[{\"id\":\"1457\",\"type\":\"LinearAxis\"},{\"id\":\"1528\",\"type\":\"Legend\"},{\"id\":\"1529\",\"type\":\"ColorBar\"}],\"plot_height\":600,\"plot_width\":800,\"renderers\":[{\"id\":\"1484\",\"type\":\"GlyphRenderer\"},{\"id\":\"1490\",\"type\":\"GlyphRenderer\"},{\"id\":\"1496\",\"type\":\"GlyphRenderer\"},{\"id\":\"1502\",\"type\":\"GlyphRenderer\"},{\"id\":\"1508\",\"type\":\"GlyphRenderer\"},{\"id\":\"1514\",\"type\":\"GlyphRenderer\"},{\"id\":\"1520\",\"type\":\"GlyphRenderer\"}],\"title\":{\"id\":\"1442\",\"type\":\"Title\"},\"toolbar\":{\"id\":\"1468\",\"type\":\"Toolbar\"},\"x_range\":{\"id\":\"1444\",\"type\":\"DataRange1d\"},\"x_scale\":{\"id\":\"1448\",\"type\":\"LinearScale\"},\"y_range\":{\"id\":\"1446\",\"type\":\"DataRange1d\"},\"y_scale\":{\"id\":\"1450\",\"type\":\"LinearScale\"}},\"id\":\"1441\",\"subtype\":\"Figure\",\"type\":\"Plot\"},{\"attributes\":{\"axis_label\":\"PC1\",\"formatter\":{\"id\":\"1560\",\"type\":\"BasicTickFormatter\"},\"ticker\":{\"id\":\"1453\",\"type\":\"BasicTicker\"}},\"id\":\"1452\",\"type\":\"LinearAxis\"},{\"attributes\":{\"data_source\":{\"id\":\"1477\",\"type\":\"ColumnDataSource\"},\"glyph\":{\"id\":\"1506\",\"type\":\"Circle\"},\"hover_glyph\":null,\"muted_glyph\":null,\"nonselection_glyph\":{\"id\":\"1507\",\"type\":\"Circle\"},\"selection_glyph\":null,\"view\":{\"id\":\"1504\",\"type\":\"CDSView\"}},\"id\":\"1508\",\"type\":\"GlyphRenderer\"},{\"attributes\":{\"data_source\":{\"id\":\"1477\",\"type\":\"ColumnDataSource\"},\"glyph\":{\"id\":\"1494\",\"type\":\"Circle\"},\"hover_glyph\":null,\"muted_glyph\":null,\"nonselection_glyph\":{\"id\":\"1495\",\"type\":\"Circle\"},\"selection_glyph\":null,\"view\":{\"id\":\"1492\",\"type\":\"CDSView\"}},\"id\":\"1496\",\"type\":\"GlyphRenderer\"},{\"attributes\":{\"filters\":[{\"id\":\"1491\",\"type\":\"GroupFilter\"}],\"source\":{\"id\":\"1477\",\"type\":\"ColumnDataSource\"}},\"id\":\"1492\",\"type\":\"CDSView\"},{\"attributes\":{\"filters\":[{\"id\":\"1509\",\"type\":\"GroupFilter\"}],\"source\":{\"id\":\"1477\",\"type\":\"ColumnDataSource\"}},\"id\":\"1510\",\"type\":\"CDSView\"},{\"attributes\":{\"label\":{\"value\":\"3.00000e+00\"},\"renderers\":[{\"id\":\"1496\",\"type\":\"GlyphRenderer\"}]},\"id\":\"1523\",\"type\":\"LegendItem\"},{\"attributes\":{\"fill_alpha\":{\"value\":0.1},\"fill_color\":{\"value\":\"#1f77b4\"},\"line_alpha\":{\"value\":0.1},\"line_color\":{\"value\":\"#1f77b4\"},\"x\":{\"field\":\"x\"},\"y\":{\"field\":\"y\"}},\"id\":\"1489\",\"type\":\"Circle\"},{\"attributes\":{\"filters\":[{\"id\":\"1497\",\"type\":\"GroupFilter\"}],\"source\":{\"id\":\"1477\",\"type\":\"ColumnDataSource\"}},\"id\":\"1498\",\"type\":\"CDSView\"},{\"attributes\":{},\"id\":\"1462\",\"type\":\"PanTool\"},{\"attributes\":{},\"id\":\"1565\",\"type\":\"UnionRenderers\"},{\"attributes\":{\"data_source\":{\"id\":\"1477\",\"type\":\"ColumnDataSource\"},\"glyph\":{\"id\":\"1518\",\"type\":\"Circle\"},\"hover_glyph\":null,\"muted_glyph\":null,\"nonselection_glyph\":{\"id\":\"1519\",\"type\":\"Circle\"},\"selection_glyph\":null,\"view\":{\"id\":\"1516\",\"type\":\"CDSView\"}},\"id\":\"1520\",\"type\":\"GlyphRenderer\"},{\"attributes\":{\"column_name\":\"label\",\"group\":\"6.00000e+00\"},\"id\":\"1509\",\"type\":\"GroupFilter\"},{\"attributes\":{\"data_source\":{\"id\":\"1477\",\"type\":\"ColumnDataSource\"},\"glyph\":{\"id\":\"1482\",\"type\":\"Circle\"},\"hover_glyph\":null,\"muted_glyph\":null,\"nonselection_glyph\":{\"id\":\"1483\",\"type\":\"Circle\"},\"selection_glyph\":null,\"view\":{\"id\":\"1480\",\"type\":\"CDSView\"}},\"id\":\"1484\",\"type\":\"GlyphRenderer\"},{\"attributes\":{\"active_drag\":\"auto\",\"active_inspect\":\"auto\",\"active_multi\":null,\"active_scroll\":\"auto\",\"active_tap\":\"auto\",\"tools\":[{\"id\":\"1462\",\"type\":\"PanTool\"},{\"id\":\"1463\",\"type\":\"WheelZoomTool\"},{\"id\":\"1464\",\"type\":\"BoxZoomTool\"},{\"id\":\"1465\",\"type\":\"SaveTool\"},{\"id\":\"1466\",\"type\":\"ResetTool\"},{\"id\":\"1467\",\"type\":\"HelpTool\"},{\"id\":\"1476\",\"type\":\"HoverTool\"}]},\"id\":\"1468\",\"type\":\"Toolbar\"},{\"attributes\":{\"text\":\"PCA\"},\"id\":\"1442\",\"type\":\"Title\"},{\"attributes\":{\"callback\":null,\"tooltips\":[[\"x\",\"@x\"],[\"y\",\"@y\"],[\"label\",\"@label\"]]},\"id\":\"1476\",\"type\":\"HoverTool\"},{\"attributes\":{\"column_name\":\"label\",\"group\":\"5.00000e+00\"},\"id\":\"1503\",\"type\":\"GroupFilter\"},{\"attributes\":{\"column_name\":\"label\",\"group\":\"NA\"},\"id\":\"1515\",\"type\":\"GroupFilter\"},{\"attributes\":{},\"id\":\"1467\",\"type\":\"HelpTool\"},{\"attributes\":{},\"id\":\"1560\",\"type\":\"BasicTickFormatter\"},{\"attributes\":{\"fill_alpha\":{\"value\":0.1},\"fill_color\":{\"value\":\"#1f77b4\"},\"line_alpha\":{\"value\":0.1},\"line_color\":{\"value\":\"#1f77b4\"},\"x\":{\"field\":\"x\"},\"y\":{\"field\":\"y\"}},\"id\":\"1495\",\"type\":\"Circle\"},{\"attributes\":{},\"id\":\"1463\",\"type\":\"WheelZoomTool\"},{\"attributes\":{\"column_name\":\"label\",\"group\":\"3.00000e+00\"},\"id\":\"1491\",\"type\":\"GroupFilter\"},{\"attributes\":{\"filters\":[{\"id\":\"1485\",\"type\":\"GroupFilter\"}],\"source\":{\"id\":\"1477\",\"type\":\"ColumnDataSource\"}},\"id\":\"1486\",\"type\":\"CDSView\"},{\"attributes\":{\"fill_color\":{\"field\":\"label\",\"transform\":{\"id\":\"1478\",\"type\":\"CategoricalColorMapper\"}},\"line_color\":{\"field\":\"label\",\"transform\":{\"id\":\"1478\",\"type\":\"CategoricalColorMapper\"}},\"x\":{\"field\":\"x\"},\"y\":{\"field\":\"y\"}},\"id\":\"1506\",\"type\":\"Circle\"},{\"attributes\":{\"fill_color\":{\"field\":\"label\",\"transform\":{\"id\":\"1478\",\"type\":\"CategoricalColorMapper\"}},\"line_color\":{\"field\":\"label\",\"transform\":{\"id\":\"1478\",\"type\":\"CategoricalColorMapper\"}},\"x\":{\"field\":\"x\"},\"y\":{\"field\":\"y\"}},\"id\":\"1494\",\"type\":\"Circle\"},{\"attributes\":{\"fill_alpha\":{\"value\":0.1},\"fill_color\":{\"value\":\"#1f77b4\"},\"line_alpha\":{\"value\":0.1},\"line_color\":{\"value\":\"#1f77b4\"},\"x\":{\"field\":\"x\"},\"y\":{\"field\":\"y\"}},\"id\":\"1483\",\"type\":\"Circle\"},{\"attributes\":{\"filters\":[{\"id\":\"1515\",\"type\":\"GroupFilter\"}],\"source\":{\"id\":\"1477\",\"type\":\"ColumnDataSource\"}},\"id\":\"1516\",\"type\":\"CDSView\"},{\"attributes\":{\"label\":{\"value\":\"NA\"},\"renderers\":[{\"id\":\"1520\",\"type\":\"GlyphRenderer\"}]},\"id\":\"1527\",\"type\":\"LegendItem\"},{\"attributes\":{\"bottom_units\":\"screen\",\"fill_alpha\":{\"value\":0.5},\"fill_color\":{\"value\":\"lightgrey\"},\"left_units\":\"screen\",\"level\":\"overlay\",\"line_alpha\":{\"value\":1.0},\"line_color\":{\"value\":\"black\"},\"line_dash\":[4,4],\"line_width\":{\"value\":2},\"render_mode\":\"css\",\"right_units\":\"screen\",\"top_units\":\"screen\"},\"id\":\"1567\",\"type\":\"BoxAnnotation\"},{\"attributes\":{\"fill_alpha\":{\"value\":0.1},\"fill_color\":{\"value\":\"#1f77b4\"},\"line_alpha\":{\"value\":0.1},\"line_color\":{\"value\":\"#1f77b4\"},\"x\":{\"field\":\"x\"},\"y\":{\"field\":\"y\"}},\"id\":\"1501\",\"type\":\"Circle\"},{\"attributes\":{\"label\":{\"value\":\"1.00000e+00\"},\"renderers\":[{\"id\":\"1484\",\"type\":\"GlyphRenderer\"}]},\"id\":\"1521\",\"type\":\"LegendItem\"},{\"attributes\":{\"data_source\":{\"id\":\"1477\",\"type\":\"ColumnDataSource\"},\"glyph\":{\"id\":\"1512\",\"type\":\"Circle\"},\"hover_glyph\":null,\"muted_glyph\":null,\"nonselection_glyph\":{\"id\":\"1513\",\"type\":\"Circle\"},\"selection_glyph\":null,\"view\":{\"id\":\"1510\",\"type\":\"CDSView\"}},\"id\":\"1514\",\"type\":\"GlyphRenderer\"},{\"attributes\":{\"data_source\":{\"id\":\"1477\",\"type\":\"ColumnDataSource\"},\"glyph\":{\"id\":\"1500\",\"type\":\"Circle\"},\"hover_glyph\":null,\"muted_glyph\":null,\"nonselection_glyph\":{\"id\":\"1501\",\"type\":\"Circle\"},\"selection_glyph\":null,\"view\":{\"id\":\"1498\",\"type\":\"CDSView\"}},\"id\":\"1502\",\"type\":\"GlyphRenderer\"},{\"attributes\":{\"label\":{\"value\":\"6.00000e+00\"},\"renderers\":[{\"id\":\"1514\",\"type\":\"GlyphRenderer\"}]},\"id\":\"1526\",\"type\":\"LegendItem\"},{\"attributes\":{},\"id\":\"1564\",\"type\":\"BasicTickFormatter\"},{\"attributes\":{},\"id\":\"1466\",\"type\":\"ResetTool\"},{\"attributes\":{\"click_policy\":\"hide\",\"items\":[{\"id\":\"1521\",\"type\":\"LegendItem\"},{\"id\":\"1522\",\"type\":\"LegendItem\"},{\"id\":\"1523\",\"type\":\"LegendItem\"},{\"id\":\"1524\",\"type\":\"LegendItem\"},{\"id\":\"1525\",\"type\":\"LegendItem\"},{\"id\":\"1526\",\"type\":\"LegendItem\"},{\"id\":\"1527\",\"type\":\"LegendItem\"}]},\"id\":\"1528\",\"type\":\"Legend\"},{\"attributes\":{\"callback\":null,\"data\":{\"index\":[0,1,2,3,4,5,6,7,8,9,10,11,12,13,14,15,16,17,18,19,20,21,22,23,24,25,26,27,28,29,30,31,32,33,34,35,36,37,38,39,40,41,42,43,44,45,46,47,48,49,50,51,52,53,54,55,56,57,58,59,60,61,62,63,64,65,66,67,68,69,70,71,72,73,74,75,76,77,78,79,80,81,82,83,84,85,86,87,88,89,90,91,92,93,94,95,96,97,98,99,100,101,102,103,104,105,106,107,108,109,110,111,112,113,114,115,116,117,118,119,120,121,122,123,124,125,126,127,128,129,130,131,132,133,134,135,136,137,138,139,140,141,142,143,144,145,146,147,148,149,150,151,152,153,154,155,156,157,158,159,160,161,162,163,164,165,166,167,168,169,170,171,172,173,174,175,176,177,178,179,180,181,182,183,184,185,186,187,188,189,190,191,192,193,194,195,196,197,198,199,200,201,202,203,204,205,206,207,208,209,210,211,212,213,214,215,216,217,218,219,220,221,222,223,224,225,226,227,228,229,230,231,232,233,234,235,236,237,238,239,240,241,242,243,244,245,246,247,248,249,250,251,252,253,254,255,256,257,258,259,260,261,262,263,264,265,266,267,268,269,270,271,272,273,274,275,276,277,278,279,280,281,282,283,284,285,286,287,288,289,290,291,292,293,294,295,296,297,298,299,300,301,302,303,304,305,306,307,308,309,310,311,312,313,314,315,316,317,318,319,320,321,322,323,324,325,326,327,328,329,330,331,332,333,334,335,336,337,338,339,340,341,342,343,344,345,346,347,348,349,350,351,352,353,354,355,356,357,358,359,360,361,362,363,364,365,366,367,368,369,370,371,372,373,374,375,376,377,378,379],\"label\":[\"3.00000e+00\",\"NA\",\"3.00000e+00\",\"3.00000e+00\",\"NA\",\"6.00000e+00\",\"3.00000e+00\",\"3.00000e+00\",\"3.00000e+00\",\"1.00000e+00\",\"1.00000e+00\",\"1.00000e+00\",\"NA\",\"NA\",\"3.00000e+00\",\"NA\",\"3.00000e+00\",\"5.00000e+00\",\"2.00000e+00\",\"3.00000e+00\",\"3.00000e+00\",\"3.00000e+00\",\"6.00000e+00\",\"3.00000e+00\",\"1.00000e+00\",\"2.00000e+00\",\"3.00000e+00\",\"3.00000e+00\",\"NA\",\"2.00000e+00\",\"6.00000e+00\",\"3.00000e+00\",\"NA\",\"1.00000e+00\",\"3.00000e+00\",\"5.00000e+00\",\"3.00000e+00\",\"1.00000e+00\",\"2.00000e+00\",\"3.00000e+00\",\"2.00000e+00\",\"3.00000e+00\",\"2.00000e+00\",\"2.00000e+00\",\"1.00000e+00\",\"3.00000e+00\",\"3.00000e+00\",\"3.00000e+00\",\"3.00000e+00\",\"2.00000e+00\",\"3.00000e+00\",\"3.00000e+00\",\"3.00000e+00\",\"1.00000e+00\",\"3.00000e+00\",\"NA\",\"3.00000e+00\",\"6.00000e+00\",\"2.00000e+00\",\"1.00000e+00\",\"3.00000e+00\",\"1.00000e+00\",\"3.00000e+00\",\"1.00000e+00\",\"6.00000e+00\",\"3.00000e+00\",\"3.00000e+00\",\"6.00000e+00\",\"1.00000e+00\",\"3.00000e+00\",\"NA\",\"2.00000e+00\",\"2.00000e+00\",\"2.00000e+00\",\"3.00000e+00\",\"3.00000e+00\",\"1.00000e+00\",\"2.00000e+00\",\"3.00000e+00\",\"6.00000e+00\",\"2.00000e+00\",\"1.00000e+00\",\"1.00000e+00\",\"3.00000e+00\",\"4.00000e+00\",\"1.00000e+00\",\"5.00000e+00\",\"2.00000e+00\",\"3.00000e+00\",\"6.00000e+00\",\"3.00000e+00\",\"6.00000e+00\",\"1.00000e+00\",\"3.00000e+00\",\"1.00000e+00\",\"2.00000e+00\",\"2.00000e+00\",\"2.00000e+00\",\"3.00000e+00\",\"6.00000e+00\",\"3.00000e+00\",\"2.00000e+00\",\"3.00000e+00\",\"3.00000e+00\",\"1.00000e+00\",\"3.00000e+00\",\"3.00000e+00\",\"2.00000e+00\",\"1.00000e+00\",\"NA\",\"2.00000e+00\",\"2.00000e+00\",\"1.00000e+00\",\"2.00000e+00\",\"3.00000e+00\",\"1.00000e+00\",\"3.00000e+00\",\"2.00000e+00\",\"3.00000e+00\",\"3.00000e+00\",\"3.00000e+00\",\"2.00000e+00\",\"3.00000e+00\",\"3.00000e+00\",\"3.00000e+00\",\"6.00000e+00\",\"2.00000e+00\",\"6.00000e+00\",\"5.00000e+00\",\"4.00000e+00\",\"6.00000e+00\",\"NA\",\"3.00000e+00\",\"2.00000e+00\",\"2.00000e+00\",\"2.00000e+00\",\"3.00000e+00\",\"3.00000e+00\",\"3.00000e+00\",\"4.00000e+00\",\"NA\",\"2.00000e+00\",\"1.00000e+00\",\"3.00000e+00\",\"1.00000e+00\",\"3.00000e+00\",\"1.00000e+00\",\"2.00000e+00\",\"1.00000e+00\",\"1.00000e+00\",\"3.00000e+00\",\"3.00000e+00\",\"2.00000e+00\",\"3.00000e+00\",\"1.00000e+00\",\"2.00000e+00\",\"3.00000e+00\",\"3.00000e+00\",\"4.00000e+00\",\"6.00000e+00\",\"2.00000e+00\",\"3.00000e+00\",\"3.00000e+00\",\"3.00000e+00\",\"3.00000e+00\",\"3.00000e+00\",\"3.00000e+00\",\"2.00000e+00\",\"2.00000e+00\",\"NA\",\"3.00000e+00\",\"3.00000e+00\",\"3.00000e+00\",\"2.00000e+00\",\"3.00000e+00\",\"3.00000e+00\",\"1.00000e+00\",\"2.00000e+00\",\"3.00000e+00\",\"1.00000e+00\",\"NA\",\"3.00000e+00\",\"2.00000e+00\",\"2.00000e+00\",\"2.00000e+00\",\"3.00000e+00\",\"3.00000e+00\",\"6.00000e+00\",\"2.00000e+00\",\"2.00000e+00\",\"2.00000e+00\",\"3.00000e+00\",\"3.00000e+00\",\"3.00000e+00\",\"4.00000e+00\",\"2.00000e+00\",\"1.00000e+00\",\"2.00000e+00\",\"3.00000e+00\",\"6.00000e+00\",\"3.00000e+00\",\"1.00000e+00\",\"6.00000e+00\",\"3.00000e+00\",\"3.00000e+00\",\"3.00000e+00\",\"3.00000e+00\",\"3.00000e+00\",\"5.00000e+00\",\"6.00000e+00\",\"NA\",\"4.00000e+00\",\"NA\",\"2.00000e+00\",\"3.00000e+00\",\"2.00000e+00\",\"6.00000e+00\",\"5.00000e+00\",\"3.00000e+00\",\"3.00000e+00\",\"3.00000e+00\",\"2.00000e+00\",\"1.00000e+00\",\"2.00000e+00\",\"3.00000e+00\",\"1.00000e+00\",\"2.00000e+00\",\"NA\",\"1.00000e+00\",\"2.00000e+00\",\"3.00000e+00\",\"3.00000e+00\",\"3.00000e+00\",\"3.00000e+00\",\"6.00000e+00\",\"6.00000e+00\",\"2.00000e+00\",\"1.00000e+00\",\"3.00000e+00\",\"1.00000e+00\",\"3.00000e+00\",\"1.00000e+00\",\"5.00000e+00\",\"3.00000e+00\",\"1.00000e+00\",\"3.00000e+00\",\"1.00000e+00\",\"NA\",\"2.00000e+00\",\"6.00000e+00\",\"5.00000e+00\",\"6.00000e+00\",\"3.00000e+00\",\"4.00000e+00\",\"1.00000e+00\",\"3.00000e+00\",\"4.00000e+00\",\"4.00000e+00\",\"3.00000e+00\",\"2.00000e+00\",\"3.00000e+00\",\"4.00000e+00\",\"2.00000e+00\",\"4.00000e+00\",\"3.00000e+00\",\"6.00000e+00\",\"5.00000e+00\",\"2.00000e+00\",\"NA\",\"3.00000e+00\",\"3.00000e+00\",\"3.00000e+00\",\"1.00000e+00\",\"6.00000e+00\",\"3.00000e+00\",\"3.00000e+00\",\"3.00000e+00\",\"2.00000e+00\",\"2.00000e+00\",\"2.00000e+00\",\"2.00000e+00\",\"3.00000e+00\",\"1.00000e+00\",\"4.00000e+00\",\"3.00000e+00\",\"3.00000e+00\",\"2.00000e+00\",\"2.00000e+00\",\"1.00000e+00\",\"2.00000e+00\",\"3.00000e+00\",\"2.00000e+00\",\"NA\",\"3.00000e+00\",\"1.00000e+00\",\"3.00000e+00\",\"3.00000e+00\",\"NA\",\"2.00000e+00\",\"4.00000e+00\",\"2.00000e+00\",\"3.00000e+00\",\"2.00000e+00\",\"2.00000e+00\",\"4.00000e+00\",\"6.00000e+00\",\"3.00000e+00\",\"3.00000e+00\",\"2.00000e+00\",\"3.00000e+00\",\"3.00000e+00\",\"3.00000e+00\",\"3.00000e+00\",\"5.00000e+00\",\"3.00000e+00\",\"6.00000e+00\",\"1.00000e+00\",\"NA\",\"3.00000e+00\",\"3.00000e+00\",\"3.00000e+00\",\"3.00000e+00\",\"6.00000e+00\",\"3.00000e+00\",\"3.00000e+00\",\"5.00000e+00\",\"NA\",\"1.00000e+00\",\"2.00000e+00\",\"1.00000e+00\",\"3.00000e+00\",\"2.00000e+00\",\"NA\",\"4.00000e+00\",\"4.00000e+00\",\"5.00000e+00\",\"3.00000e+00\",\"1.00000e+00\",\"3.00000e+00\",\"4.00000e+00\",\"2.00000e+00\",\"4.00000e+00\",\"3.00000e+00\",\"2.00000e+00\",\"3.00000e+00\",\"6.00000e+00\",\"2.00000e+00\",\"1.00000e+00\",\"6.00000e+00\",\"3.00000e+00\",\"2.00000e+00\",\"3.00000e+00\",\"3.00000e+00\",\"1.00000e+00\",\"NA\",\"6.00000e+00\",\"NA\",\"1.00000e+00\",\"4.00000e+00\",\"NA\",\"3.00000e+00\",\"3.00000e+00\",\"3.00000e+00\",\"NA\",\"4.00000e+00\",\"1.00000e+00\",\"5.00000e+00\",\"6.00000e+00\",\"2.00000e+00\",\"4.00000e+00\",\"5.00000e+00\",\"NA\",\"3.00000e+00\",\"1.00000e+00\",\"NA\",\"3.00000e+00\",\"5.00000e+00\",\"3.00000e+00\",\"5.00000e+00\",\"5.00000e+00\"],\"x\":{\"__ndarray__\":\"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\",\"dtype\":\"float64\",\"shape\":[380]},\"y\":{\"__ndarray__\":\"l2jH+I3Zx79/FBJUFMjGv+ug2NvsRMa/FObHz3L5w78GkLoSZ+bCv5e5f46VAMe/S1rOesn2xL+SWSTW7UPAv0S5V91oar6/LniWMKGIw79D9fATe0O5v3JmD2HApLK/vIH37mGSxb9NjD2X89PEv+6tXMRf8r6/xkZDc20ku79nOK7fx3O6vzMUTIMgH7+/PsRBTCcYgr8kTnuUQei5v3oBbxQx0rW/MYOPRKmgtb+rgotS5Xi7v+ZjiOCUrbq/UbfABVmUtb9kdqBKEAG1v6xyZtkIxKu/1San1xlZpb9e0Di433Cdv4eyTl3J1rq/8uwKZe99tr8asGOt+giyv1MM/uAbhqq/W4SU+JApib/QmmwZ7Gi6vzV1Yp04WLi/IWLhgqvttr8KWawo/iC0v2xsYmp3XrC/ekUvsY6Zrb/R7iVzUBKov7hXsHMAOKW/y5SvqIFZnb9ooDO/cgKWv8ziX2Mt7YE/r/xBc8Xcrr9kurv7p5S0vzzeRjtwb7K/RCa8KDtQr79mQ/QbdLiov/+/MlMNRKi/1nZlLMOwpb/+UxX0cLifvxWdj1NLVpi//q5iXUJ5hr9Ho37G06+6v1Iu8xC00Le/Y3CYsy8vtr+xqi4KA3uxvyc7dTWUgKS/Z1RTagLXl78RRgZy1UN4vyvii76e37O/7Ox0Q5ATsL+hkBVpiy6lv19IVZWaW6S/Ol2FZaCtor8W0udP1BGbv6fYhpPsyZE/aZZKa3NTt7+wnYLUZqSqv80XHKMzzKm/5Nh1jbVXqb+ysA9Ey5qovzNfOemf55m/Pm+Ukbufj7+GC7cTr1OIv30dYPVK3ZQ/n2S5ybVFur8uUj5UUue4v1VPrlZGwrC/jCERXsQPsL8U8cAhhO+vvyDytJ3czqi/fOJEibDApL81ojfuZK+iv2Y/DKQsX5e/FYj9CE2Gdb9legJa1Ta7v59sI6ICR7i/ZdIpbAGMsb/UcvuorW6vv/aVpm2cTqi/yr4b8gm7p7/KjPhiqIZNv0l68JAq2JM/JkR1wHJdlj+wLdwyEsaeP5d/LRJ+Are/hk2BmZDpq78AdhjwkMuovwyRafE59aO/OXzwMDDPn7+y6Ga3ucyev609VWD4lZi/Guz9gA1Qjr+ySXstS9yPPwiprcbt1Kc/z4cHY0leqL8aEWt1Pjqiv+vHz9df/5m/LDKFQmWDkL8/1ApvI+GjP5TFA3FAha8/A6M6Y42srr+MHbn7++5mvxF+wDVgH4w/B8cFu8Bijz85AlHfgGO0v1syJzYR87O/5RByFwkKsr+lk7FSz66nvw7V3cVLj6S/vv+HzKnaoL83VIL4WOqIv5M9hIQarIa/E63iLvligj9s02u2E2K1v0kVzAWeEaq/pqbuqW0Ypr/tF7hguO+iv8IR0Xtdg5C/mvpS+9zzi7+ugqA0RXt/vw3aPr9bgDS/4c5Wj71jfT99GwRNi2qLP83rmO1Ya5o//l7EY3IZpD/dSbQDWpOmP9QPurS6Kqk/CAbs+TDVqj9E1rPbIqe0P+BpiVNrFKm/33cn54cspr8qgb7rvY+Uv9TyFZhHxZC/wpDAYqMAir9y/AZiOBd4v7qAvn7Kjnc/5LFQbiuFeT/6kL/qsOl+P7dm5RT10Ic/w6O9vIkhiz+q/2fiW5mlPwsQwimGbaY/VpKNVoLLpj+lATF8rFi7P7iTJ/A+66i/LJS2/nv0pb+L6zAi5wGhv1DHCAj2A6C/4qBlDjFjmL+NqO+31Qt6v/vQCIIugFU/yH1GazRUeT8Qq3AqFhSAP4+Ji5BffJc/4GzGa8+hoj+7lXdhShiwP8yUXONuYLe/WZr8lHrksL86epD8eo6cv2jVL5R/SY2/5356S8wmdr+FapXbX7ZQP6MlRI+XKGU/2UGKM1gDbD/MzT5oM3mHP9XJBPF4HpE/mryfUv5skj+W4V9AL4OXPzODbvbqp6M/rPYU0MeutT+Xn6+QN76+P9OBy9vA8La/F1cu41Sjsr/Xwh02t8Onv68J1F8nSaC/CUH12xBzkb/mET9JmOuSP30y4KU99Zk/9uUAls+0mj/b9qUarsOeP1Sej3udpZ8/Lc+jg9G7oT9/21q7EkikP5meBUb/Ea4/SGHn0vFSuD9OGS4/t3Wzv7DdXH6/0Xm/miKzN4Nrcr+Cxk9Lw+CUPwv8p/pkh6I/Bnp4rdZnsD/zrOJ/H2W2P5rWzDAeJKS/BaaEVLpXnr/3PsDnW72bv81/L2rDVpq/dnzn0tdVhr+AVFWi0tpfP2AKZEamjJE/Wq3KQn7pkj+N6uwkLXqkP14LKZ2diLE/6OjAKZIyrr/byIPqKXKsv8G66HdSkaW/k+l12bduib969BQbZLOAv7ES/joSO3g/jEqDSTqbgz+GMIMWq3+SP+pcVq/Ip5s/nOfLW48NpD/t1QVgo4erP+dDAmqTs7A/EiGOFpBHtD+83bwUPd61P+G+baF7gbc/Q6n99wymrb8BnO/VN6akvwJsvu02VJy/Lk2NgTsVkb9ew+jLPtePvySh+C2cp2s/fk4h9kqniD/YvYBGy3aWP37PwVIeEqo/WmJsvMdHsT/+IV4XT1G3P6U7ObZ3b7C/xzUYXaf7l7+72bDTIM99v+PnDiv0MpE/hsEtSTB/sD93IaTMzzW0PxO027OT/LW/EUM/wr+gqL+ODaAtIyOjv/eo6zsSSlu/zXarBefeUj8Hfai97quPP1OBCdVu9Ks/ADl8KuFesD8A77wSBXW0P+NEul7m6JK/NF/X5FG1jr8qlJan0d2TP0L6YUF2eqU/dOhiSbNnpz9jbz0XD52sPwT6IErxrbk/RoB8luAHrL+Mi8VW6258P4XGlQ5y1og/FO+qE9ZMmD9C5L+LjOqoP3/e0wm6va4/v8LJnO/2uD/uAStc9X67P1NxrJ9z18A/cajs5X2PV79Efbg172igPz5X4UQ26qA/C5/vhZCCoz9NPbOuKCKtPxaTpOg4Ka4/q3vi9jkosD+/vDAHCYXAPyr+iPm0ksM/XbY22SK8sL8gwIkkVS+Qv48NCNJlfZQ/A5ga6FUQqT+4Lq4Eov6yP1lQ+Sf8jLY/dS9N+5BmxD/d/mM/hyOdP2o26OOfF6U/zA6d0p4lqT8S5yUDw42rP9ZwpuLeZrM/4oefwkSIyD8QENE8NFyjvzJ6q4nsKZs/PfVVhXigoz9/o9zxHn+nP5m/vQcfw6k/SFxeer3zqz8EMtTHfgGyP8JEnPX007s/KnSN3bUdvj+4ezsNITzCP7z1V/kz35q/qRflkdyCg79Kqwy/YyF4P4+TuoFuF5w/g6BGML6ctT/uNqr0zz+7PzVCUf1axrs/W3JsXlD9wT9DNusePJ+Xv3gwYMeye4M/6cxmyXEeiz/Z+03scVqdP5FlqeTOW6o/4Kq9GHOCsD8V3FY0SQO0P9N8i/KgSkU/AjGn0mWSgD8fIes0OL+KP/FLFI4nXqg/bxSsiTDtsT82aAspom2yPyRDtrUIerk/CSDzxb1Bvj+LYh4pVPGiv4OwuAanV5i//aKJVjIZTj9XdXpKErexP90pUqZ5iLY/3i7XKEScuT+Y3dwd6/PEP4/CMTxcILQ/BGHwZjPrtT+jmtbVNQTFP3FJqaSfkKU/OSJ8vIdtsT8NrrrW1cq7P6cBjhRDnr4/1Ijb4omDrj+fIdBEyUGCPzK4/+VzZpQ/+PuioGnxoz8IMkvsQPmoP8tMrSGGnMo/Sbk+fEILmj/z71/0TWuhP5UQxzZiKsE/MBOTrbUxqj8146C08OqzP2f50mw15rU/nWDgEfggjD9u3jNvp9yrP6m8nn82/rM/5R5WnzXuuT8af3QH2YPBP5TIBQe6f58/iSM3lMywvD9aPbicu5+5P5CcX1SyLLS/kviU/VedmT8ZC8AtyVPDPwwtjKart8c/A540kFcSyb+MyPrCwvWxPxwVZ+uR7bE/Fek3Dbl6wj96Yur4qrG5P3fpJ8rX0sU/XpX+oMCstz8ou66SHdDBP0lsMtNPQ7Q/xJKA6LVauT+iy26DDznBv4otrtE7LsW/9SoHaM+VwL+9Ussbya3Gvw==\",\"dtype\":\"float64\",\"shape\":[380]}},\"selected\":{\"id\":\"1566\",\"type\":\"Selection\"},\"selection_policy\":{\"id\":\"1565\",\"type\":\"UnionRenderers\"}},\"id\":\"1477\",\"type\":\"ColumnDataSource\"},{\"attributes\":{\"fill_alpha\":{\"value\":0.1},\"fill_color\":{\"value\":\"#1f77b4\"},\"line_alpha\":{\"value\":0.1},\"line_color\":{\"value\":\"#1f77b4\"},\"x\":{\"field\":\"x\"},\"y\":{\"field\":\"y\"}},\"id\":\"1513\",\"type\":\"Circle\"},{\"attributes\":{\"filters\":[{\"id\":\"1503\",\"type\":\"GroupFilter\"}],\"source\":{\"id\":\"1477\",\"type\":\"ColumnDataSource\"}},\"id\":\"1504\",\"type\":\"CDSView\"},{\"attributes\":{\"fill_color\":{\"field\":\"label\",\"transform\":{\"id\":\"1478\",\"type\":\"CategoricalColorMapper\"}},\"line_color\":{\"field\":\"label\",\"transform\":{\"id\":\"1478\",\"type\":\"CategoricalColorMapper\"}},\"x\":{\"field\":\"x\"},\"y\":{\"field\":\"y\"}},\"id\":\"1512\",\"type\":\"Circle\"},{\"attributes\":{\"label\":{\"value\":\"2.00000e+00\"},\"renderers\":[{\"id\":\"1490\",\"type\":\"GlyphRenderer\"}]},\"id\":\"1522\",\"type\":\"LegendItem\"},{\"attributes\":{},\"id\":\"1566\",\"type\":\"Selection\"},{\"attributes\":{},\"id\":\"1562\",\"type\":\"BasicTickFormatter\"},{\"attributes\":{\"data_source\":{\"id\":\"1477\",\"type\":\"ColumnDataSource\"},\"glyph\":{\"id\":\"1488\",\"type\":\"Circle\"},\"hover_glyph\":null,\"muted_glyph\":null,\"nonselection_glyph\":{\"id\":\"1489\",\"type\":\"Circle\"},\"selection_glyph\":null,\"view\":{\"id\":\"1486\",\"type\":\"CDSView\"}},\"id\":\"1490\",\"type\":\"GlyphRenderer\"},{\"attributes\":{\"fill_color\":{\"field\":\"label\",\"transform\":{\"id\":\"1478\",\"type\":\"CategoricalColorMapper\"}},\"line_color\":{\"field\":\"label\",\"transform\":{\"id\":\"1478\",\"type\":\"CategoricalColorMapper\"}},\"x\":{\"field\":\"x\"},\"y\":{\"field\":\"y\"}},\"id\":\"1518\",\"type\":\"Circle\"},{\"attributes\":{\"label\":{\"value\":\"4.00000e+00\"},\"renderers\":[{\"id\":\"1502\",\"type\":\"GlyphRenderer\"}]},\"id\":\"1524\",\"type\":\"LegendItem\"},{\"attributes\":{\"label\":{\"value\":\"5.00000e+00\"},\"renderers\":[{\"id\":\"1508\",\"type\":\"GlyphRenderer\"}]},\"id\":\"1525\",\"type\":\"LegendItem\"},{\"attributes\":{\"factors\":[\"6.00000e+00\",\"3.00000e+00\",\"4.00000e+00\",\"2.00000e+00\",\"1.00000e+00\",\"5.00000e+00\",\"NA\"],\"palette\":[\"#1f77b4\",\"#ff7f0e\",\"#2ca02c\",\"#d62728\",\"#9467bd\",\"#8c564b\",\"#e377c2\",\"#7f7f7f\",\"#bcbd22\",\"#17becf\"]},\"id\":\"1478\",\"type\":\"CategoricalColorMapper\"},{\"attributes\":{\"column_name\":\"label\",\"group\":\"2.00000e+00\"},\"id\":\"1485\",\"type\":\"GroupFilter\"},{\"attributes\":{\"ticker\":{\"id\":\"1453\",\"type\":\"BasicTicker\"}},\"id\":\"1456\",\"type\":\"Grid\"},{\"attributes\":{\"filters\":[{\"id\":\"1479\",\"type\":\"GroupFilter\"}],\"source\":{\"id\":\"1477\",\"type\":\"ColumnDataSource\"}},\"id\":\"1480\",\"type\":\"CDSView\"},{\"attributes\":{},\"id\":\"1563\",\"type\":\"BasicTicker\"},{\"attributes\":{},\"id\":\"1448\",\"type\":\"LinearScale\"},{\"attributes\":{},\"id\":\"1453\",\"type\":\"BasicTicker\"},{\"attributes\":{\"fill_color\":{\"field\":\"label\",\"transform\":{\"id\":\"1478\",\"type\":\"CategoricalColorMapper\"}},\"line_color\":{\"field\":\"label\",\"transform\":{\"id\":\"1478\",\"type\":\"CategoricalColorMapper\"}},\"x\":{\"field\":\"x\"},\"y\":{\"field\":\"y\"}},\"id\":\"1482\",\"type\":\"Circle\"},{\"attributes\":{},\"id\":\"1458\",\"type\":\"BasicTicker\"},{\"attributes\":{\"callback\":null},\"id\":\"1446\",\"type\":\"DataRange1d\"},{\"attributes\":{\"column_name\":\"label\",\"group\":\"1.00000e+00\"},\"id\":\"1479\",\"type\":\"GroupFilter\"},{\"attributes\":{\"axis_label\":\"PC2\",\"formatter\":{\"id\":\"1562\",\"type\":\"BasicTickFormatter\"},\"ticker\":{\"id\":\"1458\",\"type\":\"BasicTicker\"}},\"id\":\"1457\",\"type\":\"LinearAxis\"},{\"attributes\":{\"color_mapper\":null,\"formatter\":{\"id\":\"1564\",\"type\":\"BasicTickFormatter\"},\"ticker\":{\"id\":\"1563\",\"type\":\"BasicTicker\"},\"visible\":false},\"id\":\"1529\",\"type\":\"ColorBar\"},{\"attributes\":{\"fill_alpha\":{\"value\":0.1},\"fill_color\":{\"value\":\"#1f77b4\"},\"line_alpha\":{\"value\":0.1},\"line_color\":{\"value\":\"#1f77b4\"},\"x\":{\"field\":\"x\"},\"y\":{\"field\":\"y\"}},\"id\":\"1519\",\"type\":\"Circle\"},{\"attributes\":{\"column_name\":\"label\",\"group\":\"4.00000e+00\"},\"id\":\"1497\",\"type\":\"GroupFilter\"},{\"attributes\":{},\"id\":\"1465\",\"type\":\"SaveTool\"},{\"attributes\":{},\"id\":\"1450\",\"type\":\"LinearScale\"},{\"attributes\":{\"fill_color\":{\"field\":\"label\",\"transform\":{\"id\":\"1478\",\"type\":\"CategoricalColorMapper\"}},\"line_color\":{\"field\":\"label\",\"transform\":{\"id\":\"1478\",\"type\":\"CategoricalColorMapper\"}},\"x\":{\"field\":\"x\"},\"y\":{\"field\":\"y\"}},\"id\":\"1488\",\"type\":\"Circle\"},{\"attributes\":{\"fill_color\":{\"field\":\"label\",\"transform\":{\"id\":\"1478\",\"type\":\"CategoricalColorMapper\"}},\"line_color\":{\"field\":\"label\",\"transform\":{\"id\":\"1478\",\"type\":\"CategoricalColorMapper\"}},\"x\":{\"field\":\"x\"},\"y\":{\"field\":\"y\"}},\"id\":\"1500\",\"type\":\"Circle\"},{\"attributes\":{\"callback\":null},\"id\":\"1444\",\"type\":\"DataRange1d\"},{\"attributes\":{\"fill_alpha\":{\"value\":0.1},\"fill_color\":{\"value\":\"#1f77b4\"},\"line_alpha\":{\"value\":0.1},\"line_color\":{\"value\":\"#1f77b4\"},\"x\":{\"field\":\"x\"},\"y\":{\"field\":\"y\"}},\"id\":\"1507\",\"type\":\"Circle\"},{\"attributes\":{\"dimension\":1,\"ticker\":{\"id\":\"1458\",\"type\":\"BasicTicker\"}},\"id\":\"1461\",\"type\":\"Grid\"},{\"attributes\":{\"overlay\":{\"id\":\"1567\",\"type\":\"BoxAnnotation\"}},\"id\":\"1464\",\"type\":\"BoxZoomTool\"}],\"root_ids\":[\"1441\"]},\"title\":\"Bokeh Application\",\"version\":\"1.2.0\"}};\n",
       "  var render_items = [{\"docid\":\"9f4894af-f405-4bde-a0c3-06dc675caced\",\"roots\":{\"1441\":\"1c1a3134-10bb-4292-b456-8adb084a2334\"}}];\n",
       "  root.Bokeh.embed.embed_items_notebook(docs_json, render_items);\n",
       "\n",
       "  }\n",
       "  if (root.Bokeh !== undefined) {\n",
       "    embed_document(root);\n",
       "  } else {\n",
       "    var attempts = 0;\n",
       "    var timer = setInterval(function(root) {\n",
       "      if (root.Bokeh !== undefined) {\n",
       "        embed_document(root);\n",
       "        clearInterval(timer);\n",
       "      }\n",
       "      attempts++;\n",
       "      if (attempts > 100) {\n",
       "        console.log(\"Bokeh: ERROR: Unable to run BokehJS code because BokehJS library is missing\");\n",
       "        clearInterval(timer);\n",
       "      }\n",
       "    }, 10, root)\n",
       "  }\n",
       "})(window);"
      ],
      "application/vnd.bokehjs_exec.v0+json": ""
     },
     "metadata": {
      "application/vnd.bokehjs_exec.v0+json": {
       "id": "1441"
      }
     },
     "output_type": "display_data"
    }
   ],
   "source": [
    "p = hl.plot.scatter(mt.scores[0],\n",
    "                    mt.scores[1],\n",
    "                    label=hl.str(mt.birthplace),\n",
    "                    title='PCA', xlabel='PC1', ylabel='PC2')\n",
    "p.plot_width = 800\n",
    "p.plot_height = 600\n",
    "show(p)"
   ]
  },
  {
   "cell_type": "code",
   "execution_count": 40,
   "metadata": {},
   "outputs": [],
   "source": [
    "mt = mt.annotate_cols(pc1_outliers = (mt.scores[0] > 0.4))"
   ]
  },
  {
   "cell_type": "code",
   "execution_count": 45,
   "metadata": {},
   "outputs": [],
   "source": [
    "exprs_list = [('# heterozygotes', mt.sample_qc.n_het), ('Ti/Tv rate', mt.sample_qc.r_ti_tv), ('Call rate', mt.sample_qc.call_rate), ('# singletons', mt.sample_qc.n_singleton)]\n",
    "plot_list = []\n",
    "for name, exprs in exprs_list:\n",
    "    p = hl.plot.scatter(mt.sample_qc.dp_stats.mean, exprs, label=mt.pc1_outliers, xlabel='DP mean', ylabel=name, legend=False)\n",
    "    p.plot_width = 800\n",
    "    p.plot_height = 500\n",
    "    plot_list.append(p)"
   ]
  },
  {
   "cell_type": "code",
   "execution_count": 46,
   "metadata": {},
   "outputs": [
    {
     "data": {
      "text/html": [
       "\n",
       "\n",
       "\n",
       "\n",
       "\n",
       "\n",
       "  <div class=\"bk-root\" id=\"36c7388f-4879-4045-b646-22cfbb11eefc\" data-root-id=\"3091\"></div>\n"
      ]
     },
     "metadata": {},
     "output_type": "display_data"
    },
    {
     "data": {
      "application/javascript": [
       "(function(root) {\n",
       "  function embed_document(root) {\n",
       "    \n",
       "  var docs_json = {\"530ff8ae-8fcd-4de1-9b8a-2dd3a76d9140\":{\"roots\":{\"references\":[{\"attributes\":{\"children\":[{\"id\":\"3090\",\"type\":\"ToolbarBox\"},{\"id\":\"3088\",\"type\":\"GridBox\"}]},\"id\":\"3091\",\"type\":\"Column\"},{\"attributes\":{},\"id\":\"2946\",\"type\":\"LinearScale\"},{\"attributes\":{\"dimension\":1,\"ticker\":{\"id\":\"2954\",\"type\":\"BasicTicker\"}},\"id\":\"2957\",\"type\":\"Grid\"},{\"attributes\":{\"fill_alpha\":{\"value\":0.1},\"fill_color\":{\"value\":\"#1f77b4\"},\"line_alpha\":{\"value\":0.1},\"line_color\":{\"value\":\"#1f77b4\"},\"x\":{\"field\":\"x\"},\"y\":{\"field\":\"y\"}},\"id\":\"2879\",\"type\":\"Circle\"},{\"attributes\":{},\"id\":\"3002\",\"type\":\"BasicTicker\"},{\"attributes\":{},\"id\":\"3070\",\"type\":\"BasicTickFormatter\"},{\"attributes\":{\"click_policy\":\"hide\",\"items\":[{\"id\":\"2934\",\"type\":\"LegendItem\"},{\"id\":\"2935\",\"type\":\"LegendItem\"}],\"visible\":false},\"id\":\"2936\",\"type\":\"Legend\"},{\"attributes\":{},\"id\":\"2949\",\"type\":\"BasicTicker\"},{\"attributes\":{},\"id\":\"3015\",\"type\":\"ResetTool\"},{\"attributes\":{\"axis_label\":\"Call rate\",\"formatter\":{\"id\":\"3070\",\"type\":\"BasicTickFormatter\"},\"ticker\":{\"id\":\"2954\",\"type\":\"BasicTicker\"}},\"id\":\"2953\",\"type\":\"LinearAxis\"},{\"attributes\":{\"axis_label\":\"# singletons\",\"formatter\":{\"id\":\"3081\",\"type\":\"BasicTickFormatter\"},\"ticker\":{\"id\":\"3007\",\"type\":\"BasicTicker\"}},\"id\":\"3006\",\"type\":\"LinearAxis\"},{\"attributes\":{\"color_mapper\":null,\"formatter\":{\"id\":\"3061\",\"type\":\"BasicTickFormatter\"},\"ticker\":{\"id\":\"3060\",\"type\":\"BasicTicker\"},\"visible\":false},\"id\":\"2937\",\"type\":\"ColorBar\"},{\"attributes\":{\"click_policy\":\"hide\",\"items\":[{\"id\":\"3040\",\"type\":\"LegendItem\"},{\"id\":\"3041\",\"type\":\"LegendItem\"}],\"visible\":false},\"id\":\"3042\",\"type\":\"Legend\"},{\"attributes\":{},\"id\":\"3060\",\"type\":\"BasicTicker\"},{\"attributes\":{\"data_source\":{\"id\":\"2867\",\"type\":\"ColumnDataSource\"},\"glyph\":{\"id\":\"2878\",\"type\":\"Circle\"},\"hover_glyph\":null,\"muted_glyph\":null,\"nonselection_glyph\":{\"id\":\"2879\",\"type\":\"Circle\"},\"selection_glyph\":null,\"view\":{\"id\":\"2876\",\"type\":\"CDSView\"}},\"id\":\"2880\",\"type\":\"GlyphRenderer\"},{\"attributes\":{\"fill_color\":{\"field\":\"label\",\"transform\":{\"id\":\"3027\",\"type\":\"CategoricalColorMapper\"}},\"line_color\":{\"field\":\"label\",\"transform\":{\"id\":\"3027\",\"type\":\"CategoricalColorMapper\"}},\"x\":{\"field\":\"x\"},\"y\":{\"field\":\"y\"}},\"id\":\"3031\",\"type\":\"Circle\"},{\"attributes\":{\"label\":{\"value\":\"true\"},\"renderers\":[{\"id\":\"2933\",\"type\":\"GlyphRenderer\"}]},\"id\":\"2935\",\"type\":\"LegendItem\"},{\"attributes\":{\"color_mapper\":null,\"formatter\":{\"id\":\"3050\",\"type\":\"BasicTickFormatter\"},\"ticker\":{\"id\":\"3049\",\"type\":\"BasicTicker\"},\"visible\":false},\"id\":\"2884\",\"type\":\"ColorBar\"},{\"attributes\":{\"ticker\":{\"id\":\"3002\",\"type\":\"BasicTicker\"}},\"id\":\"3005\",\"type\":\"Grid\"},{\"attributes\":{},\"id\":\"2958\",\"type\":\"PanTool\"},{\"attributes\":{\"active_drag\":\"auto\",\"active_inspect\":\"auto\",\"active_multi\":null,\"active_scroll\":\"auto\",\"active_tap\":\"auto\",\"tools\":[{\"id\":\"2958\",\"type\":\"PanTool\"},{\"id\":\"2959\",\"type\":\"WheelZoomTool\"},{\"id\":\"2960\",\"type\":\"BoxZoomTool\"},{\"id\":\"2961\",\"type\":\"SaveTool\"},{\"id\":\"2962\",\"type\":\"ResetTool\"},{\"id\":\"2963\",\"type\":\"HelpTool\"},{\"id\":\"2972\",\"type\":\"HoverTool\"}]},\"id\":\"2964\",\"type\":\"Toolbar\"},{\"attributes\":{\"label\":{\"value\":\"true\"},\"renderers\":[{\"id\":\"2880\",\"type\":\"GlyphRenderer\"}]},\"id\":\"2882\",\"type\":\"LegendItem\"},{\"attributes\":{\"callback\":null},\"id\":\"2834\",\"type\":\"DataRange1d\"},{\"attributes\":{\"callback\":null,\"data\":{\"index\":[0,1,2,3,4,5,6,7,8,9,10,11,12,13,14,15,16,17,18,19,20,21,22,23,24,25,26,27,28,29,30,31,32,33,34,35,36,37,38,39,40,41,42,43,44,45,46,47,48,49,50,51,52,53,54,55,56,57,58,59,60,61,62,63,64,65,66,67,68,69,70,71,72,73,74,75,76,77,78,79,80,81,82,83,84,85,86,87,88,89,90,91,92,93,94,95,96,97,98,99,100,101,102,103,104,105,106,107,108,109,110,111,112,113,114,115,116,117,118,119,120,121,122,123,124,125,126,127,128,129,130,131,132,133,134,135,136,137,138,139,140,141,142,143,144,145,146,147,148,149,150,151,152,153,154,155,156,157,158,159,160,161,162,163,164,165,166,167,168,169,170,171,172,173,174,175,176,177,178,179,180,181,182,183,184,185,186,187,188,189,190,191,192,193,194,195,196,197,198,199,200,201,202,203,204,205,206,207,208,209,210,211,212,213,214,215,216,217,218,219,220,221,222,223,224,225,226,227,228,229,230,231,232,233,234,235,236,237,238,239,240,241,242,243,244,245,246,247,248,249,250,251,252,253,254,255,256,257,258,259,260,261,262,263,264,265,266,267,268,269,270,271,272,273,274,275,276,277,278,279,280,281,282,283,284,285,286,287,288,289,290,291,292,293,294,295,296,297,298,299,300,301,302,303,304,305,306,307,308,309,310,311,312,313,314,315,316,317,318,319,320,321,322,323,324,325,326,327,328,329,330,331,332,333,334,335,336,337,338,339,340,341,342,343,344,345,346,347,348,349,350,351,352,353,354,355,356,357,358,359,360,361,362,363,364,365,366,367,368,369,370,371,372,373,374,375,376],\"label\":[\"false\",\"false\",\"false\",\"false\",\"false\",\"false\",\"false\",\"false\",\"false\",\"false\",\"false\",\"false\",\"false\",\"false\",\"false\",\"false\",\"false\",\"false\",\"false\",\"false\",\"false\",\"false\",\"false\",\"false\",\"false\",\"false\",\"false\",\"false\",\"false\",\"false\",\"false\",\"false\",\"false\",\"false\",\"false\",\"false\",\"false\",\"false\",\"false\",\"false\",\"false\",\"false\",\"false\",\"false\",\"false\",\"false\",\"false\",\"false\",\"false\",\"false\",\"false\",\"false\",\"false\",\"false\",\"false\",\"false\",\"false\",\"false\",\"false\",\"false\",\"false\",\"false\",\"false\",\"false\",\"false\",\"false\",\"false\",\"false\",\"false\",\"false\",\"false\",\"false\",\"false\",\"false\",\"false\",\"false\",\"false\",\"false\",\"false\",\"false\",\"false\",\"false\",\"false\",\"false\",\"false\",\"false\",\"false\",\"false\",\"false\",\"false\",\"false\",\"false\",\"false\",\"false\",\"false\",\"false\",\"false\",\"false\",\"false\",\"false\",\"false\",\"false\",\"false\",\"false\",\"false\",\"false\",\"false\",\"false\",\"false\",\"false\",\"false\",\"false\",\"false\",\"false\",\"false\",\"false\",\"false\",\"false\",\"false\",\"false\",\"false\",\"false\",\"false\",\"false\",\"false\",\"false\",\"false\",\"false\",\"false\",\"false\",\"false\",\"false\",\"false\",\"false\",\"false\",\"false\",\"false\",\"false\",\"false\",\"false\",\"false\",\"false\",\"false\",\"false\",\"false\",\"false\",\"false\",\"false\",\"false\",\"false\",\"false\",\"false\",\"false\",\"false\",\"false\",\"false\",\"false\",\"false\",\"false\",\"false\",\"false\",\"false\",\"false\",\"false\",\"false\",\"false\",\"false\",\"false\",\"false\",\"false\",\"false\",\"false\",\"false\",\"false\",\"false\",\"false\",\"false\",\"false\",\"false\",\"false\",\"false\",\"false\",\"false\",\"false\",\"false\",\"false\",\"false\",\"false\",\"false\",\"false\",\"false\",\"false\",\"false\",\"false\",\"false\",\"false\",\"false\",\"false\",\"false\",\"false\",\"false\",\"false\",\"false\",\"false\",\"false\",\"false\",\"false\",\"false\",\"false\",\"false\",\"false\",\"false\",\"false\",\"false\",\"false\",\"false\",\"false\",\"false\",\"false\",\"false\",\"false\",\"false\",\"false\",\"false\",\"false\",\"false\",\"false\",\"false\",\"false\",\"false\",\"false\",\"false\",\"false\",\"false\",\"false\",\"false\",\"false\",\"false\",\"false\",\"false\",\"false\",\"false\",\"false\",\"false\",\"false\",\"false\",\"false\",\"false\",\"false\",\"false\",\"false\",\"false\",\"false\",\"false\",\"false\",\"false\",\"false\",\"false\",\"false\",\"false\",\"false\",\"false\",\"false\",\"false\",\"false\",\"false\",\"false\",\"true\",\"false\",\"false\",\"false\",\"false\",\"false\",\"false\",\"false\",\"false\",\"false\",\"false\",\"false\",\"false\",\"false\",\"false\",\"false\",\"false\",\"false\",\"false\",\"false\",\"false\",\"false\",\"false\",\"false\",\"false\",\"false\",\"false\",\"false\",\"false\",\"false\",\"false\",\"false\",\"false\",\"false\",\"false\",\"false\",\"false\",\"false\",\"false\",\"false\",\"false\",\"false\",\"false\",\"false\",\"false\",\"false\",\"false\",\"false\",\"false\",\"false\",\"false\",\"false\",\"false\",\"false\",\"false\",\"false\",\"false\",\"false\",\"false\",\"false\",\"false\",\"false\",\"false\",\"false\",\"false\",\"false\",\"false\",\"false\",\"false\",\"false\",\"false\",\"false\",\"false\",\"false\",\"false\",\"false\",\"true\",\"false\",\"false\",\"false\",\"false\",\"false\",\"false\",\"false\",\"false\",\"false\",\"false\",\"false\",\"false\",\"false\",\"true\",\"false\",\"false\",\"false\",\"false\",\"false\",\"false\",\"false\",\"true\",\"false\",\"false\",\"false\",\"false\",\"false\",\"false\",\"false\",\"false\",\"false\",\"false\",\"false\"],\"x\":{\"__ndarray__\":\"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\",\"dtype\":\"float64\",\"shape\":[377]},\"y\":{\"__ndarray__\":\"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\",\"dtype\":\"float64\",\"shape\":[377]}},\"selected\":{\"id\":\"3063\",\"type\":\"Selection\"},\"selection_policy\":{\"id\":\"3062\",\"type\":\"UnionRenderers\"}},\"id\":\"2920\",\"type\":\"ColumnDataSource\"},{\"attributes\":{\"filters\":[{\"id\":\"3034\",\"type\":\"GroupFilter\"}],\"source\":{\"id\":\"3026\",\"type\":\"ColumnDataSource\"}},\"id\":\"3035\",\"type\":\"CDSView\"},{\"attributes\":{\"below\":[{\"id\":\"3001\",\"type\":\"LinearAxis\"}],\"center\":[{\"id\":\"3005\",\"type\":\"Grid\"},{\"id\":\"3010\",\"type\":\"Grid\"}],\"left\":[{\"id\":\"3006\",\"type\":\"LinearAxis\"},{\"id\":\"3042\",\"type\":\"Legend\"},{\"id\":\"3043\",\"type\":\"ColorBar\"}],\"plot_height\":400,\"plot_width\":600,\"renderers\":[{\"id\":\"3033\",\"type\":\"GlyphRenderer\"},{\"id\":\"3039\",\"type\":\"GlyphRenderer\"}],\"title\":null,\"toolbar\":{\"id\":\"3017\",\"type\":\"Toolbar\"},\"toolbar_location\":null,\"x_range\":{\"id\":\"2993\",\"type\":\"DataRange1d\"},\"x_scale\":{\"id\":\"2997\",\"type\":\"LinearScale\"},\"y_range\":{\"id\":\"2995\",\"type\":\"DataRange1d\"},\"y_scale\":{\"id\":\"2999\",\"type\":\"LinearScale\"}},\"id\":\"2991\",\"subtype\":\"Figure\",\"type\":\"Plot\"},{\"attributes\":{},\"id\":\"2959\",\"type\":\"WheelZoomTool\"},{\"attributes\":{\"click_policy\":\"hide\",\"items\":[{\"id\":\"2881\",\"type\":\"LegendItem\"},{\"id\":\"2882\",\"type\":\"LegendItem\"}],\"visible\":false},\"id\":\"2883\",\"type\":\"Legend\"},{\"attributes\":{\"axis_label\":\"Ti/Tv rate\",\"formatter\":{\"id\":\"3059\",\"type\":\"BasicTickFormatter\"},\"ticker\":{\"id\":\"2901\",\"type\":\"BasicTicker\"}},\"id\":\"2900\",\"type\":\"LinearAxis\"},{\"attributes\":{\"overlay\":{\"id\":\"3075\",\"type\":\"BoxAnnotation\"}},\"id\":\"2960\",\"type\":\"BoxZoomTool\"},{\"attributes\":{\"callback\":null},\"id\":\"2836\",\"type\":\"DataRange1d\"},{\"attributes\":{\"callback\":null,\"data\":{\"index\":[0,1,2,3,4,5,6,7,8,9,10,11,12,13,14,15,16,17,18,19,20,21,22,23,24,25,26,27,28,29,30,31,32,33,34,35,36,37,38,39,40,41,42,43,44,45,46,47,48,49,50,51,52,53,54,55,56,57,58,59,60,61,62,63,64,65,66,67,68,69,70,71,72,73,74,75,76,77,78,79,80,81,82,83,84,85,86,87,88,89,90,91,92,93,94,95,96,97,98,99,100,101,102,103,104,105,106,107,108,109,110,111,112,113,114,115,116,117,118,119,120,121,122,123,124,125,126,127,128,129,130,131,132,133,134,135,136,137,138,139,140,141,142,143,144,145,146,147,148,149,150,151,152,153,154,155,156,157,158,159,160,161,162,163,164,165,166,167,168,169,170,171,172,173,174,175,176,177,178,179,180,181,182,183,184,185,186,187,188,189,190,191,192,193,194,195,196,197,198,199,200,201,202,203,204,205,206,207,208,209,210,211,212,213,214,215,216,217,218,219,220,221,222,223,224,225,226,227,228,229,230,231,232,233,234,235,236,237,238,239,240,241,242,243,244,245,246,247,248,249,250,251,252,253,254,255,256,257,258,259,260,261,262,263,264,265,266,267,268,269,270,271,272,273,274,275,276,277,278,279,280,281,282,283,284,285,286,287,288,289,290,291,292,293,294,295,296,297,298,299,300,301,302,303,304,305,306,307,308,309,310,311,312,313,314,315,316,317,318,319,320,321,322,323,324,325,326,327,328,329,330,331,332,333,334,335,336,337,338,339,340,341,342,343,344,345,346,347,348,349,350,351,352,353,354,355,356,357,358,359,360,361,362,363,364,365,366,367,368,369,370,371,372,373,374,375,376,377,378,379,380,381,382,383,384],\"label\":[\"false\",\"false\",\"false\",\"false\",\"false\",\"false\",\"false\",\"false\",\"false\",\"false\",\"false\",\"false\",\"false\",\"false\",\"false\",\"false\",\"false\",\"false\",\"false\",\"false\",\"false\",\"false\",\"false\",\"false\",\"false\",\"false\",\"false\",\"false\",\"false\",\"false\",\"false\",\"false\",\"false\",\"false\",\"false\",\"false\",\"false\",\"false\",\"false\",\"false\",\"false\",\"false\",\"false\",\"false\",\"false\",\"false\",\"false\",\"false\",\"false\",\"false\",\"false\",\"false\",\"false\",\"false\",\"false\",\"false\",\"false\",\"false\",\"false\",\"false\",\"false\",\"false\",\"false\",\"false\",\"false\",\"false\",\"false\",\"false\",\"false\",\"false\",\"false\",\"false\",\"false\",\"false\",\"false\",\"false\",\"false\",\"false\",\"false\",\"false\",\"false\",\"false\",\"false\",\"false\",\"false\",\"false\",\"false\",\"false\",\"false\",\"false\",\"false\",\"false\",\"false\",\"false\",\"false\",\"false\",\"false\",\"false\",\"false\",\"false\",\"false\",\"false\",\"false\",\"false\",\"false\",\"false\",\"false\",\"false\",\"false\",\"false\",\"false\",\"false\",\"false\",\"false\",\"false\",\"false\",\"false\",\"false\",\"false\",\"false\",\"false\",\"false\",\"false\",\"false\",\"false\",\"false\",\"false\",\"false\",\"false\",\"false\",\"false\",\"false\",\"false\",\"false\",\"false\",\"false\",\"false\",\"false\",\"false\",\"false\",\"false\",\"false\",\"false\",\"false\",\"false\",\"false\",\"false\",\"false\",\"false\",\"false\",\"false\",\"false\",\"false\",\"false\",\"false\",\"false\",\"false\",\"false\",\"false\",\"false\",\"false\",\"false\",\"false\",\"false\",\"false\",\"false\",\"false\",\"false\",\"false\",\"false\",\"false\",\"false\",\"false\",\"false\",\"false\",\"false\",\"false\",\"false\",\"false\",\"false\",\"false\",\"false\",\"false\",\"false\",\"false\",\"false\",\"false\",\"false\",\"false\",\"false\",\"false\",\"false\",\"false\",\"false\",\"false\",\"false\",\"false\",\"false\",\"false\",\"false\",\"false\",\"false\",\"false\",\"false\",\"false\",\"false\",\"false\",\"false\",\"false\",\"false\",\"false\",\"false\",\"false\",\"false\",\"false\",\"false\",\"false\",\"false\",\"false\",\"false\",\"false\",\"false\",\"false\",\"false\",\"false\",\"false\",\"false\",\"false\",\"false\",\"false\",\"false\",\"false\",\"false\",\"false\",\"false\",\"false\",\"false\",\"false\",\"false\",\"false\",\"false\",\"false\",\"false\",\"false\",\"false\",\"false\",\"false\",\"false\",\"false\",\"false\",\"false\",\"false\",\"false\",\"false\",\"false\",\"false\",\"false\",\"false\",\"false\",\"false\",\"false\",\"false\",\"false\",\"false\",\"false\",\"false\",\"false\",\"false\",\"false\",\"false\",\"false\",\"false\",\"false\",\"true\",\"false\",\"false\",\"false\",\"false\",\"false\",\"false\",\"false\",\"false\",\"false\",\"false\",\"false\",\"false\",\"false\",\"false\",\"false\",\"false\",\"false\",\"false\",\"false\",\"false\",\"false\",\"false\",\"false\",\"false\",\"false\",\"false\",\"false\",\"false\",\"false\",\"false\",\"false\",\"false\",\"false\",\"false\",\"false\",\"false\",\"false\",\"false\",\"false\",\"false\",\"false\",\"false\",\"false\",\"false\",\"false\",\"false\",\"false\",\"false\",\"false\",\"false\",\"false\",\"false\",\"false\",\"false\",\"false\",\"false\",\"false\",\"false\",\"false\",\"false\",\"false\",\"false\",\"false\",\"false\",\"false\",\"false\",\"false\",\"false\",\"false\",\"false\",\"false\",\"false\",\"false\",\"false\",\"false\",\"false\",\"false\",\"true\",\"false\",\"false\",\"false\",\"false\",\"false\",\"false\",\"false\",\"false\",\"false\",\"false\",\"false\",\"false\",\"true\",\"false\",\"false\",\"false\",\"false\",\"false\",\"false\",\"false\",\"true\",\"false\",\"false\",\"false\",\"false\",\"false\",\"false\",\"false\",\"false\",\"false\",\"false\",\"false\",\"false\"],\"x\":{\"__ndarray__\":\"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\",\"dtype\":\"float64\",\"shape\":[385]},\"y\":{\"__ndarray__\":\"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\",\"dtype\":\"float64\",\"shape\":[385]}},\"selected\":{\"id\":\"3085\",\"type\":\"Selection\"},\"selection_policy\":{\"id\":\"3084\",\"type\":\"UnionRenderers\"}},\"id\":\"3026\",\"type\":\"ColumnDataSource\"},{\"attributes\":{\"filters\":[{\"id\":\"2928\",\"type\":\"GroupFilter\"}],\"source\":{\"id\":\"2920\",\"type\":\"ColumnDataSource\"}},\"id\":\"2929\",\"type\":\"CDSView\"},{\"attributes\":{},\"id\":\"2961\",\"type\":\"SaveTool\"},{\"attributes\":{\"dimension\":1,\"ticker\":{\"id\":\"2901\",\"type\":\"BasicTicker\"}},\"id\":\"2904\",\"type\":\"Grid\"},{\"attributes\":{\"fill_alpha\":{\"value\":0.1},\"fill_color\":{\"value\":\"#1f77b4\"},\"line_alpha\":{\"value\":0.1},\"line_color\":{\"value\":\"#1f77b4\"},\"x\":{\"field\":\"x\"},\"y\":{\"field\":\"y\"}},\"id\":\"2926\",\"type\":\"Circle\"},{\"attributes\":{\"label\":{\"value\":\"true\"},\"renderers\":[{\"id\":\"3039\",\"type\":\"GlyphRenderer\"}]},\"id\":\"3041\",\"type\":\"LegendItem\"},{\"attributes\":{},\"id\":\"3014\",\"type\":\"SaveTool\"},{\"attributes\":{\"data_source\":{\"id\":\"2920\",\"type\":\"ColumnDataSource\"},\"glyph\":{\"id\":\"2925\",\"type\":\"Circle\"},\"hover_glyph\":null,\"muted_glyph\":null,\"nonselection_glyph\":{\"id\":\"2926\",\"type\":\"Circle\"},\"selection_glyph\":null,\"view\":{\"id\":\"2923\",\"type\":\"CDSView\"}},\"id\":\"2927\",\"type\":\"GlyphRenderer\"},{\"attributes\":{},\"id\":\"2963\",\"type\":\"HelpTool\"},{\"attributes\":{\"active_drag\":\"auto\",\"active_inspect\":\"auto\",\"active_multi\":null,\"active_scroll\":\"auto\",\"active_tap\":\"auto\",\"tools\":[{\"id\":\"3011\",\"type\":\"PanTool\"},{\"id\":\"3012\",\"type\":\"WheelZoomTool\"},{\"id\":\"3013\",\"type\":\"BoxZoomTool\"},{\"id\":\"3014\",\"type\":\"SaveTool\"},{\"id\":\"3015\",\"type\":\"ResetTool\"},{\"id\":\"3016\",\"type\":\"HelpTool\"},{\"id\":\"3025\",\"type\":\"HoverTool\"}]},\"id\":\"3017\",\"type\":\"Toolbar\"},{\"attributes\":{},\"id\":\"2848\",\"type\":\"BasicTicker\"},{\"attributes\":{},\"id\":\"2962\",\"type\":\"ResetTool\"},{\"attributes\":{\"axis_label\":\"DP mean\",\"formatter\":{\"id\":\"3046\",\"type\":\"BasicTickFormatter\"},\"ticker\":{\"id\":\"2843\",\"type\":\"BasicTicker\"}},\"id\":\"2842\",\"type\":\"LinearAxis\"},{\"attributes\":{\"filters\":[{\"id\":\"3028\",\"type\":\"GroupFilter\"}],\"source\":{\"id\":\"3026\",\"type\":\"ColumnDataSource\"}},\"id\":\"3029\",\"type\":\"CDSView\"},{\"attributes\":{\"factors\":[\"false\",\"true\"],\"palette\":[\"#1f77b4\",\"#ff7f0e\",\"#2ca02c\",\"#d62728\",\"#9467bd\",\"#8c564b\",\"#e377c2\",\"#7f7f7f\",\"#bcbd22\",\"#17becf\"]},\"id\":\"3027\",\"type\":\"CategoricalColorMapper\"},{\"attributes\":{\"overlay\":{\"id\":\"3086\",\"type\":\"BoxAnnotation\"}},\"id\":\"3013\",\"type\":\"BoxZoomTool\"},{\"attributes\":{},\"id\":\"2843\",\"type\":\"BasicTicker\"},{\"attributes\":{},\"id\":\"3049\",\"type\":\"BasicTicker\"},{\"attributes\":{\"callback\":null,\"tooltips\":[[\"x\",\"@x\"],[\"y\",\"@y\"],[\"label\",\"@label\"]]},\"id\":\"2972\",\"type\":\"HoverTool\"},{\"attributes\":{\"axis_label\":\"# heterozygotes\",\"formatter\":{\"id\":\"3048\",\"type\":\"BasicTickFormatter\"},\"ticker\":{\"id\":\"2848\",\"type\":\"BasicTicker\"}},\"id\":\"2847\",\"type\":\"LinearAxis\"},{\"attributes\":{\"data_source\":{\"id\":\"2973\",\"type\":\"ColumnDataSource\"},\"glyph\":{\"id\":\"2978\",\"type\":\"Circle\"},\"hover_glyph\":null,\"muted_glyph\":null,\"nonselection_glyph\":{\"id\":\"2979\",\"type\":\"Circle\"},\"selection_glyph\":null,\"view\":{\"id\":\"2976\",\"type\":\"CDSView\"}},\"id\":\"2980\",\"type\":\"GlyphRenderer\"},{\"attributes\":{},\"id\":\"3012\",\"type\":\"WheelZoomTool\"},{\"attributes\":{\"bottom_units\":\"screen\",\"fill_alpha\":{\"value\":0.5},\"fill_color\":{\"value\":\"lightgrey\"},\"left_units\":\"screen\",\"level\":\"overlay\",\"line_alpha\":{\"value\":1.0},\"line_color\":{\"value\":\"black\"},\"line_dash\":[4,4],\"line_width\":{\"value\":2},\"render_mode\":\"css\",\"right_units\":\"screen\",\"top_units\":\"screen\"},\"id\":\"3075\",\"type\":\"BoxAnnotation\"},{\"attributes\":{},\"id\":\"3016\",\"type\":\"HelpTool\"},{\"attributes\":{\"callback\":null,\"tooltips\":[[\"x\",\"@x\"],[\"y\",\"@y\"],[\"label\",\"@label\"]]},\"id\":\"3025\",\"type\":\"HoverTool\"},{\"attributes\":{},\"id\":\"3048\",\"type\":\"BasicTickFormatter\"},{\"attributes\":{},\"id\":\"3059\",\"type\":\"BasicTickFormatter\"},{\"attributes\":{\"data_source\":{\"id\":\"2920\",\"type\":\"ColumnDataSource\"},\"glyph\":{\"id\":\"2931\",\"type\":\"Circle\"},\"hover_glyph\":null,\"muted_glyph\":null,\"nonselection_glyph\":{\"id\":\"2932\",\"type\":\"Circle\"},\"selection_glyph\":null,\"view\":{\"id\":\"2929\",\"type\":\"CDSView\"}},\"id\":\"2933\",\"type\":\"GlyphRenderer\"},{\"attributes\":{\"active_drag\":\"auto\",\"active_inspect\":\"auto\",\"active_multi\":null,\"active_scroll\":\"auto\",\"active_tap\":\"auto\",\"tools\":[{\"id\":\"2905\",\"type\":\"PanTool\"},{\"id\":\"2906\",\"type\":\"WheelZoomTool\"},{\"id\":\"2907\",\"type\":\"BoxZoomTool\"},{\"id\":\"2908\",\"type\":\"SaveTool\"},{\"id\":\"2909\",\"type\":\"ResetTool\"},{\"id\":\"2910\",\"type\":\"HelpTool\"},{\"id\":\"2919\",\"type\":\"HoverTool\"}]},\"id\":\"2911\",\"type\":\"Toolbar\"},{\"attributes\":{},\"id\":\"3007\",\"type\":\"BasicTicker\"},{\"attributes\":{\"column_name\":\"label\",\"group\":\"false\"},\"id\":\"2975\",\"type\":\"GroupFilter\"},{\"attributes\":{\"below\":[{\"id\":\"2842\",\"type\":\"LinearAxis\"}],\"center\":[{\"id\":\"2846\",\"type\":\"Grid\"},{\"id\":\"2851\",\"type\":\"Grid\"}],\"left\":[{\"id\":\"2847\",\"type\":\"LinearAxis\"},{\"id\":\"2883\",\"type\":\"Legend\"},{\"id\":\"2884\",\"type\":\"ColorBar\"}],\"plot_height\":400,\"plot_width\":600,\"renderers\":[{\"id\":\"2874\",\"type\":\"GlyphRenderer\"},{\"id\":\"2880\",\"type\":\"GlyphRenderer\"}],\"title\":null,\"toolbar\":{\"id\":\"2858\",\"type\":\"Toolbar\"},\"toolbar_location\":null,\"x_range\":{\"id\":\"2834\",\"type\":\"DataRange1d\"},\"x_scale\":{\"id\":\"2838\",\"type\":\"LinearScale\"},\"y_range\":{\"id\":\"2836\",\"type\":\"DataRange1d\"},\"y_scale\":{\"id\":\"2840\",\"type\":\"LinearScale\"}},\"id\":\"2832\",\"subtype\":\"Figure\",\"type\":\"Plot\"},{\"attributes\":{},\"id\":\"2840\",\"type\":\"LinearScale\"},{\"attributes\":{\"fill_alpha\":{\"value\":0.1},\"fill_color\":{\"value\":\"#1f77b4\"},\"line_alpha\":{\"value\":0.1},\"line_color\":{\"value\":\"#1f77b4\"},\"x\":{\"field\":\"x\"},\"y\":{\"field\":\"y\"}},\"id\":\"2932\",\"type\":\"Circle\"},{\"attributes\":{\"data_source\":{\"id\":\"3026\",\"type\":\"ColumnDataSource\"},\"glyph\":{\"id\":\"3037\",\"type\":\"Circle\"},\"hover_glyph\":null,\"muted_glyph\":null,\"nonselection_glyph\":{\"id\":\"3038\",\"type\":\"Circle\"},\"selection_glyph\":null,\"view\":{\"id\":\"3035\",\"type\":\"CDSView\"}},\"id\":\"3039\",\"type\":\"GlyphRenderer\"},{\"attributes\":{},\"id\":\"2901\",\"type\":\"BasicTicker\"},{\"attributes\":{\"callback\":null,\"data\":{\"index\":[0,1,2,3,4,5,6,7,8,9,10,11,12,13,14,15,16,17,18,19,20,21,22,23,24,25,26,27,28,29,30,31,32,33,34,35,36,37,38,39,40,41,42,43,44,45,46,47,48,49,50,51,52,53,54,55,56,57,58,59,60,61,62,63,64,65,66,67,68,69,70,71,72,73,74,75,76,77,78,79,80,81,82,83,84,85,86,87,88,89,90,91,92,93,94,95,96,97,98,99,100,101,102,103,104,105,106,107,108,109,110,111,112,113,114,115,116,117,118,119,120,121,122,123,124,125,126,127,128,129,130,131,132,133,134,135,136,137,138,139,140,141,142,143,144,145,146,147,148,149,150,151,152,153,154,155,156,157,158,159,160,161,162,163,164,165,166,167,168,169,170,171,172,173,174,175,176,177,178,179,180,181,182,183,184,185,186,187,188,189,190,191,192,193,194],\"label\":[\"false\",\"false\",\"false\",\"false\",\"false\",\"false\",\"false\",\"false\",\"false\",\"false\",\"false\",\"false\",\"false\",\"false\",\"false\",\"false\",\"false\",\"false\",\"false\",\"false\",\"false\",\"false\",\"false\",\"false\",\"false\",\"false\",\"false\",\"false\",\"false\",\"false\",\"false\",\"false\",\"false\",\"false\",\"false\",\"false\",\"false\",\"false\",\"false\",\"false\",\"false\",\"false\",\"false\",\"false\",\"false\",\"false\",\"false\",\"false\",\"false\",\"false\",\"false\",\"false\",\"false\",\"false\",\"false\",\"false\",\"false\",\"false\",\"false\",\"false\",\"false\",\"false\",\"false\",\"false\",\"false\",\"false\",\"false\",\"false\",\"false\",\"false\",\"false\",\"false\",\"false\",\"false\",\"false\",\"false\",\"false\",\"false\",\"false\",\"false\",\"false\",\"false\",\"false\",\"false\",\"false\",\"false\",\"false\",\"false\",\"false\",\"false\",\"false\",\"false\",\"false\",\"false\",\"false\",\"false\",\"false\",\"false\",\"false\",\"false\",\"false\",\"false\",\"false\",\"false\",\"false\",\"false\",\"false\",\"false\",\"false\",\"false\",\"false\",\"false\",\"false\",\"false\",\"false\",\"false\",\"false\",\"false\",\"false\",\"false\",\"false\",\"false\",\"true\",\"false\",\"false\",\"false\",\"false\",\"false\",\"false\",\"false\",\"false\",\"false\",\"false\",\"false\",\"false\",\"false\",\"false\",\"false\",\"false\",\"false\",\"false\",\"false\",\"false\",\"false\",\"false\",\"false\",\"false\",\"false\",\"false\",\"false\",\"false\",\"false\",\"false\",\"false\",\"false\",\"false\",\"false\",\"false\",\"false\",\"false\",\"false\",\"false\",\"false\",\"false\",\"false\",\"true\",\"false\",\"false\",\"false\",\"false\",\"false\",\"false\",\"false\",\"false\",\"false\",\"false\",\"true\",\"false\",\"false\",\"false\",\"false\",\"false\",\"false\",\"true\",\"false\",\"false\",\"false\",\"false\",\"false\",\"false\",\"false\",\"false\",\"false\",\"false\",\"false\"],\"x\":{\"__ndarray__\":\"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\",\"dtype\":\"float64\",\"shape\":[195]},\"y\":{\"__ndarray__\":\"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\",\"dtype\":\"float64\",\"shape\":[195]}},\"selected\":{\"id\":\"3074\",\"type\":\"Selection\"},\"selection_policy\":{\"id\":\"3073\",\"type\":\"UnionRenderers\"}},\"id\":\"2973\",\"type\":\"ColumnDataSource\"},{\"attributes\":{},\"id\":\"2905\",\"type\":\"PanTool\"},{\"attributes\":{},\"id\":\"2838\",\"type\":\"LinearScale\"},{\"attributes\":{\"fill_color\":{\"field\":\"label\",\"transform\":{\"id\":\"2921\",\"type\":\"CategoricalColorMapper\"}},\"line_color\":{\"field\":\"label\",\"transform\":{\"id\":\"2921\",\"type\":\"CategoricalColorMapper\"}},\"x\":{\"field\":\"x\"},\"y\":{\"field\":\"y\"}},\"id\":\"2931\",\"type\":\"Circle\"},{\"attributes\":{\"column_name\":\"label\",\"group\":\"false\"},\"id\":\"3028\",\"type\":\"GroupFilter\"},{\"attributes\":{},\"id\":\"2906\",\"type\":\"WheelZoomTool\"},{\"attributes\":{},\"id\":\"2997\",\"type\":\"LinearScale\"},{\"attributes\":{\"label\":{\"value\":\"false\"},\"renderers\":[{\"id\":\"3033\",\"type\":\"GlyphRenderer\"}]},\"id\":\"3040\",\"type\":\"LegendItem\"},{\"attributes\":{\"bottom_units\":\"screen\",\"fill_alpha\":{\"value\":0.5},\"fill_color\":{\"value\":\"lightgrey\"},\"left_units\":\"screen\",\"level\":\"overlay\",\"line_alpha\":{\"value\":1.0},\"line_color\":{\"value\":\"black\"},\"line_dash\":[4,4],\"line_width\":{\"value\":2},\"render_mode\":\"css\",\"right_units\":\"screen\",\"top_units\":\"screen\"},\"id\":\"3053\",\"type\":\"BoxAnnotation\"},{\"attributes\":{},\"id\":\"2908\",\"type\":\"SaveTool\"},{\"attributes\":{\"dimension\":1,\"ticker\":{\"id\":\"2848\",\"type\":\"BasicTicker\"}},\"id\":\"2851\",\"type\":\"Grid\"},{\"attributes\":{},\"id\":\"2954\",\"type\":\"BasicTicker\"},{\"attributes\":{\"ticker\":{\"id\":\"2843\",\"type\":\"BasicTicker\"}},\"id\":\"2846\",\"type\":\"Grid\"},{\"attributes\":{},\"id\":\"2910\",\"type\":\"HelpTool\"},{\"attributes\":{},\"id\":\"2999\",\"type\":\"LinearScale\"},{\"attributes\":{\"callback\":null,\"tooltips\":[[\"x\",\"@x\"],[\"y\",\"@y\"],[\"label\",\"@label\"]]},\"id\":\"2866\",\"type\":\"HoverTool\"},{\"attributes\":{},\"id\":\"2909\",\"type\":\"ResetTool\"},{\"attributes\":{\"ticker\":{\"id\":\"2949\",\"type\":\"BasicTicker\"}},\"id\":\"2952\",\"type\":\"Grid\"},{\"attributes\":{\"fill_alpha\":{\"value\":0.1},\"fill_color\":{\"value\":\"#1f77b4\"},\"line_alpha\":{\"value\":0.1},\"line_color\":{\"value\":\"#1f77b4\"},\"x\":{\"field\":\"x\"},\"y\":{\"field\":\"y\"}},\"id\":\"3038\",\"type\":\"Circle\"},{\"attributes\":{\"column_name\":\"label\",\"group\":\"true\"},\"id\":\"2928\",\"type\":\"GroupFilter\"},{\"attributes\":{\"callback\":null,\"tooltips\":[[\"x\",\"@x\"],[\"y\",\"@y\"],[\"label\",\"@label\"]]},\"id\":\"2919\",\"type\":\"HoverTool\"},{\"attributes\":{},\"id\":\"3011\",\"type\":\"PanTool\"},{\"attributes\":{},\"id\":\"3057\",\"type\":\"BasicTickFormatter\"},{\"attributes\":{},\"id\":\"2852\",\"type\":\"PanTool\"},{\"attributes\":{\"fill_color\":{\"field\":\"label\",\"transform\":{\"id\":\"2921\",\"type\":\"CategoricalColorMapper\"}},\"line_color\":{\"field\":\"label\",\"transform\":{\"id\":\"2921\",\"type\":\"CategoricalColorMapper\"}},\"x\":{\"field\":\"x\"},\"y\":{\"field\":\"y\"}},\"id\":\"2925\",\"type\":\"Circle\"},{\"attributes\":{\"column_name\":\"label\",\"group\":\"false\"},\"id\":\"2922\",\"type\":\"GroupFilter\"},{\"attributes\":{\"children\":[[{\"id\":\"2832\",\"subtype\":\"Figure\",\"type\":\"Plot\"},0,0],[{\"id\":\"2885\",\"subtype\":\"Figure\",\"type\":\"Plot\"},0,1],[{\"id\":\"2938\",\"subtype\":\"Figure\",\"type\":\"Plot\"},1,0],[{\"id\":\"2991\",\"subtype\":\"Figure\",\"type\":\"Plot\"},1,1]]},\"id\":\"3088\",\"type\":\"GridBox\"},{\"attributes\":{\"overlay\":{\"id\":\"3064\",\"type\":\"BoxAnnotation\"}},\"id\":\"2907\",\"type\":\"BoxZoomTool\"},{\"attributes\":{\"factors\":[\"false\",\"true\"],\"palette\":[\"#1f77b4\",\"#ff7f0e\",\"#2ca02c\",\"#d62728\",\"#9467bd\",\"#8c564b\",\"#e377c2\",\"#7f7f7f\",\"#bcbd22\",\"#17becf\"]},\"id\":\"2921\",\"type\":\"CategoricalColorMapper\"},{\"attributes\":{\"axis_label\":\"DP mean\",\"formatter\":{\"id\":\"3068\",\"type\":\"BasicTickFormatter\"},\"ticker\":{\"id\":\"2949\",\"type\":\"BasicTicker\"}},\"id\":\"2948\",\"type\":\"LinearAxis\"},{\"attributes\":{\"fill_color\":{\"field\":\"label\",\"transform\":{\"id\":\"2974\",\"type\":\"CategoricalColorMapper\"}},\"line_color\":{\"field\":\"label\",\"transform\":{\"id\":\"2974\",\"type\":\"CategoricalColorMapper\"}},\"x\":{\"field\":\"x\"},\"y\":{\"field\":\"y\"}},\"id\":\"2978\",\"type\":\"Circle\"},{\"attributes\":{\"axis_label\":\"DP mean\",\"formatter\":{\"id\":\"3079\",\"type\":\"BasicTickFormatter\"},\"ticker\":{\"id\":\"3002\",\"type\":\"BasicTicker\"}},\"id\":\"3001\",\"type\":\"LinearAxis\"},{\"attributes\":{},\"id\":\"2856\",\"type\":\"ResetTool\"},{\"attributes\":{\"callback\":null},\"id\":\"2940\",\"type\":\"DataRange1d\"},{\"attributes\":{\"color_mapper\":null,\"formatter\":{\"id\":\"3072\",\"type\":\"BasicTickFormatter\"},\"ticker\":{\"id\":\"3071\",\"type\":\"BasicTicker\"},\"visible\":false},\"id\":\"2990\",\"type\":\"ColorBar\"},{\"attributes\":{\"ticker\":{\"id\":\"2896\",\"type\":\"BasicTicker\"}},\"id\":\"2899\",\"type\":\"Grid\"},{\"attributes\":{\"fill_alpha\":{\"value\":0.1},\"fill_color\":{\"value\":\"#1f77b4\"},\"line_alpha\":{\"value\":0.1},\"line_color\":{\"value\":\"#1f77b4\"},\"x\":{\"field\":\"x\"},\"y\":{\"field\":\"y\"}},\"id\":\"3032\",\"type\":\"Circle\"},{\"attributes\":{},\"id\":\"2855\",\"type\":\"SaveTool\"},{\"attributes\":{\"below\":[{\"id\":\"2948\",\"type\":\"LinearAxis\"}],\"center\":[{\"id\":\"2952\",\"type\":\"Grid\"},{\"id\":\"2957\",\"type\":\"Grid\"}],\"left\":[{\"id\":\"2953\",\"type\":\"LinearAxis\"},{\"id\":\"2989\",\"type\":\"Legend\"},{\"id\":\"2990\",\"type\":\"ColorBar\"}],\"plot_height\":400,\"plot_width\":600,\"renderers\":[{\"id\":\"2980\",\"type\":\"GlyphRenderer\"},{\"id\":\"2986\",\"type\":\"GlyphRenderer\"}],\"title\":null,\"toolbar\":{\"id\":\"2964\",\"type\":\"Toolbar\"},\"toolbar_location\":null,\"x_range\":{\"id\":\"2940\",\"type\":\"DataRange1d\"},\"x_scale\":{\"id\":\"2944\",\"type\":\"LinearScale\"},\"y_range\":{\"id\":\"2942\",\"type\":\"DataRange1d\"},\"y_scale\":{\"id\":\"2946\",\"type\":\"LinearScale\"}},\"id\":\"2938\",\"subtype\":\"Figure\",\"type\":\"Plot\"},{\"attributes\":{},\"id\":\"2857\",\"type\":\"HelpTool\"},{\"attributes\":{},\"id\":\"2896\",\"type\":\"BasicTicker\"},{\"attributes\":{\"filters\":[{\"id\":\"2981\",\"type\":\"GroupFilter\"}],\"source\":{\"id\":\"2973\",\"type\":\"ColumnDataSource\"}},\"id\":\"2982\",\"type\":\"CDSView\"},{\"attributes\":{\"callback\":null},\"id\":\"2889\",\"type\":\"DataRange1d\"},{\"attributes\":{\"data_source\":{\"id\":\"2973\",\"type\":\"ColumnDataSource\"},\"glyph\":{\"id\":\"2984\",\"type\":\"Circle\"},\"hover_glyph\":null,\"muted_glyph\":null,\"nonselection_glyph\":{\"id\":\"2985\",\"type\":\"Circle\"},\"selection_glyph\":null,\"view\":{\"id\":\"2982\",\"type\":\"CDSView\"}},\"id\":\"2986\",\"type\":\"GlyphRenderer\"},{\"attributes\":{\"column_name\":\"label\",\"group\":\"true\"},\"id\":\"3034\",\"type\":\"GroupFilter\"},{\"attributes\":{\"factors\":[\"false\",\"true\"],\"palette\":[\"#1f77b4\",\"#ff7f0e\",\"#2ca02c\",\"#d62728\",\"#9467bd\",\"#8c564b\",\"#e377c2\",\"#7f7f7f\",\"#bcbd22\",\"#17becf\"]},\"id\":\"2868\",\"type\":\"CategoricalColorMapper\"},{\"attributes\":{\"callback\":null,\"data\":{\"index\":[0,1,2,3,4,5,6,7,8,9,10,11,12,13,14,15,16,17,18,19,20,21,22,23,24,25,26,27,28,29,30,31,32,33,34,35,36,37,38,39,40,41,42,43,44,45,46,47,48,49,50,51,52,53,54,55,56,57,58,59,60,61,62,63,64,65,66,67,68,69,70,71,72,73,74,75,76,77,78,79,80,81,82,83,84,85,86,87,88,89,90,91,92,93,94,95,96,97,98,99,100,101,102,103,104,105,106,107,108,109,110,111,112,113,114,115,116,117,118,119,120,121,122,123,124,125,126,127,128,129,130,131,132,133,134,135,136,137,138,139,140,141,142,143,144,145,146,147,148,149,150,151,152,153,154,155,156,157,158,159,160,161,162,163,164,165,166,167,168,169,170,171,172,173,174,175,176,177,178,179,180,181,182,183,184,185,186,187,188,189,190,191,192,193,194,195,196,197,198,199,200,201,202,203,204,205,206,207,208,209,210,211,212,213,214,215,216,217,218,219,220,221,222,223,224,225,226,227,228,229,230,231,232,233,234,235,236,237,238,239,240,241,242,243,244,245,246,247,248,249,250,251,252,253,254,255,256,257,258,259,260,261,262,263,264,265,266,267,268,269,270,271,272,273,274,275,276,277,278,279,280,281,282,283,284,285,286,287,288,289,290,291,292,293,294,295,296,297,298,299,300,301,302,303,304,305,306,307,308,309,310,311,312,313,314,315,316,317,318,319,320,321,322,323,324,325,326,327,328,329,330,331,332,333,334,335,336,337,338,339,340,341,342,343,344,345,346,347,348,349,350,351,352,353,354,355,356,357,358,359,360,361,362,363,364,365,366,367,368,369,370,371,372,373,374,375,376,377,378,379,380,381,382,383,384],\"label\":[\"false\",\"false\",\"false\",\"false\",\"false\",\"false\",\"false\",\"false\",\"false\",\"false\",\"false\",\"false\",\"false\",\"false\",\"false\",\"false\",\"false\",\"false\",\"false\",\"false\",\"false\",\"false\",\"false\",\"false\",\"false\",\"false\",\"false\",\"false\",\"false\",\"false\",\"false\",\"false\",\"false\",\"false\",\"false\",\"false\",\"false\",\"false\",\"false\",\"false\",\"false\",\"false\",\"false\",\"false\",\"false\",\"false\",\"false\",\"false\",\"false\",\"false\",\"false\",\"false\",\"false\",\"false\",\"false\",\"false\",\"false\",\"false\",\"false\",\"false\",\"false\",\"false\",\"false\",\"false\",\"false\",\"false\",\"false\",\"false\",\"false\",\"false\",\"false\",\"false\",\"false\",\"false\",\"false\",\"false\",\"false\",\"false\",\"false\",\"false\",\"false\",\"false\",\"false\",\"false\",\"false\",\"false\",\"false\",\"false\",\"false\",\"false\",\"false\",\"false\",\"false\",\"false\",\"false\",\"false\",\"false\",\"false\",\"false\",\"false\",\"false\",\"false\",\"false\",\"false\",\"false\",\"false\",\"false\",\"false\",\"false\",\"false\",\"false\",\"false\",\"false\",\"false\",\"false\",\"false\",\"false\",\"false\",\"false\",\"false\",\"false\",\"false\",\"false\",\"false\",\"false\",\"false\",\"false\",\"false\",\"false\",\"false\",\"false\",\"false\",\"false\",\"false\",\"false\",\"false\",\"false\",\"false\",\"false\",\"false\",\"false\",\"false\",\"false\",\"false\",\"false\",\"false\",\"false\",\"false\",\"false\",\"false\",\"false\",\"false\",\"false\",\"false\",\"false\",\"false\",\"false\",\"false\",\"false\",\"false\",\"false\",\"false\",\"false\",\"false\",\"false\",\"false\",\"false\",\"false\",\"false\",\"false\",\"false\",\"false\",\"false\",\"false\",\"false\",\"false\",\"false\",\"false\",\"false\",\"false\",\"false\",\"false\",\"false\",\"false\",\"false\",\"false\",\"false\",\"false\",\"false\",\"false\",\"false\",\"false\",\"false\",\"false\",\"false\",\"false\",\"false\",\"false\",\"false\",\"false\",\"false\",\"false\",\"false\",\"false\",\"false\",\"false\",\"false\",\"false\",\"false\",\"false\",\"false\",\"false\",\"false\",\"false\",\"false\",\"false\",\"false\",\"false\",\"false\",\"false\",\"false\",\"false\",\"false\",\"false\",\"false\",\"false\",\"false\",\"false\",\"false\",\"false\",\"false\",\"false\",\"false\",\"false\",\"false\",\"false\",\"false\",\"false\",\"false\",\"false\",\"false\",\"false\",\"false\",\"false\",\"false\",\"false\",\"false\",\"false\",\"false\",\"false\",\"false\",\"false\",\"false\",\"false\",\"false\",\"false\",\"false\",\"false\",\"false\",\"false\",\"false\",\"false\",\"false\",\"false\",\"false\",\"false\",\"false\",\"false\",\"false\",\"false\",\"false\",\"false\",\"true\",\"false\",\"false\",\"false\",\"false\",\"false\",\"false\",\"false\",\"false\",\"false\",\"false\",\"false\",\"false\",\"false\",\"false\",\"false\",\"false\",\"false\",\"false\",\"false\",\"false\",\"false\",\"false\",\"false\",\"false\",\"false\",\"false\",\"false\",\"false\",\"false\",\"false\",\"false\",\"false\",\"false\",\"false\",\"false\",\"false\",\"false\",\"false\",\"false\",\"false\",\"false\",\"false\",\"false\",\"false\",\"false\",\"false\",\"false\",\"false\",\"false\",\"false\",\"false\",\"false\",\"false\",\"false\",\"false\",\"false\",\"false\",\"false\",\"false\",\"false\",\"false\",\"false\",\"false\",\"false\",\"false\",\"false\",\"false\",\"false\",\"false\",\"false\",\"false\",\"false\",\"false\",\"false\",\"false\",\"false\",\"false\",\"false\",\"true\",\"false\",\"false\",\"false\",\"false\",\"false\",\"false\",\"false\",\"false\",\"false\",\"false\",\"false\",\"false\",\"true\",\"false\",\"false\",\"false\",\"false\",\"false\",\"false\",\"false\",\"true\",\"false\",\"false\",\"false\",\"false\",\"false\",\"false\",\"false\",\"false\",\"false\",\"false\",\"false\",\"false\"],\"x\":{\"__ndarray__\":\"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\",\"dtype\":\"float64\",\"shape\":[385]},\"y\":{\"__ndarray__\":\"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\",\"dtype\":\"float64\",\"shape\":[385]}},\"selected\":{\"id\":\"3052\",\"type\":\"Selection\"},\"selection_policy\":{\"id\":\"3051\",\"type\":\"UnionRenderers\"}},\"id\":\"2867\",\"type\":\"ColumnDataSource\"},{\"attributes\":{},\"id\":\"2891\",\"type\":\"LinearScale\"},{\"attributes\":{\"axis_label\":\"DP mean\",\"formatter\":{\"id\":\"3057\",\"type\":\"BasicTickFormatter\"},\"ticker\":{\"id\":\"2896\",\"type\":\"BasicTicker\"}},\"id\":\"2895\",\"type\":\"LinearAxis\"},{\"attributes\":{\"callback\":null},\"id\":\"2942\",\"type\":\"DataRange1d\"},{\"attributes\":{\"callback\":null},\"id\":\"2993\",\"type\":\"DataRange1d\"},{\"attributes\":{\"click_policy\":\"hide\",\"items\":[{\"id\":\"2987\",\"type\":\"LegendItem\"},{\"id\":\"2988\",\"type\":\"LegendItem\"}],\"visible\":false},\"id\":\"2989\",\"type\":\"Legend\"},{\"attributes\":{\"fill_color\":{\"field\":\"label\",\"transform\":{\"id\":\"3027\",\"type\":\"CategoricalColorMapper\"}},\"line_color\":{\"field\":\"label\",\"transform\":{\"id\":\"3027\",\"type\":\"CategoricalColorMapper\"}},\"x\":{\"field\":\"x\"},\"y\":{\"field\":\"y\"}},\"id\":\"3037\",\"type\":\"Circle\"},{\"attributes\":{},\"id\":\"3052\",\"type\":\"Selection\"},{\"attributes\":{},\"id\":\"2893\",\"type\":\"LinearScale\"},{\"attributes\":{},\"id\":\"2944\",\"type\":\"LinearScale\"},{\"attributes\":{\"filters\":[{\"id\":\"2869\",\"type\":\"GroupFilter\"}],\"source\":{\"id\":\"2867\",\"type\":\"ColumnDataSource\"}},\"id\":\"2870\",\"type\":\"CDSView\"},{\"attributes\":{},\"id\":\"3051\",\"type\":\"UnionRenderers\"},{\"attributes\":{\"below\":[{\"id\":\"2895\",\"type\":\"LinearAxis\"}],\"center\":[{\"id\":\"2899\",\"type\":\"Grid\"},{\"id\":\"2904\",\"type\":\"Grid\"}],\"left\":[{\"id\":\"2900\",\"type\":\"LinearAxis\"},{\"id\":\"2936\",\"type\":\"Legend\"},{\"id\":\"2937\",\"type\":\"ColorBar\"}],\"plot_height\":400,\"plot_width\":600,\"renderers\":[{\"id\":\"2927\",\"type\":\"GlyphRenderer\"},{\"id\":\"2933\",\"type\":\"GlyphRenderer\"}],\"title\":null,\"toolbar\":{\"id\":\"2911\",\"type\":\"Toolbar\"},\"toolbar_location\":null,\"x_range\":{\"id\":\"2887\",\"type\":\"DataRange1d\"},\"x_scale\":{\"id\":\"2891\",\"type\":\"LinearScale\"},\"y_range\":{\"id\":\"2889\",\"type\":\"DataRange1d\"},\"y_scale\":{\"id\":\"2893\",\"type\":\"LinearScale\"}},\"id\":\"2885\",\"subtype\":\"Figure\",\"type\":\"Plot\"},{\"attributes\":{\"column_name\":\"label\",\"group\":\"true\"},\"id\":\"2981\",\"type\":\"GroupFilter\"},{\"attributes\":{\"callback\":null},\"id\":\"2887\",\"type\":\"DataRange1d\"},{\"attributes\":{},\"id\":\"3073\",\"type\":\"UnionRenderers\"},{\"attributes\":{\"fill_alpha\":{\"value\":0.1},\"fill_color\":{\"value\":\"#1f77b4\"},\"line_alpha\":{\"value\":0.1},\"line_color\":{\"value\":\"#1f77b4\"},\"x\":{\"field\":\"x\"},\"y\":{\"field\":\"y\"}},\"id\":\"2873\",\"type\":\"Circle\"},{\"attributes\":{\"data_source\":{\"id\":\"2867\",\"type\":\"ColumnDataSource\"},\"glyph\":{\"id\":\"2872\",\"type\":\"Circle\"},\"hover_glyph\":null,\"muted_glyph\":null,\"nonselection_glyph\":{\"id\":\"2873\",\"type\":\"Circle\"},\"selection_glyph\":null,\"view\":{\"id\":\"2870\",\"type\":\"CDSView\"}},\"id\":\"2874\",\"type\":\"GlyphRenderer\"},{\"attributes\":{\"data_source\":{\"id\":\"3026\",\"type\":\"ColumnDataSource\"},\"glyph\":{\"id\":\"3031\",\"type\":\"Circle\"},\"hover_glyph\":null,\"muted_glyph\":null,\"nonselection_glyph\":{\"id\":\"3032\",\"type\":\"Circle\"},\"selection_glyph\":null,\"view\":{\"id\":\"3029\",\"type\":\"CDSView\"}},\"id\":\"3033\",\"type\":\"GlyphRenderer\"},{\"attributes\":{},\"id\":\"3074\",\"type\":\"Selection\"},{\"attributes\":{\"fill_color\":{\"field\":\"label\",\"transform\":{\"id\":\"2868\",\"type\":\"CategoricalColorMapper\"}},\"line_color\":{\"field\":\"label\",\"transform\":{\"id\":\"2868\",\"type\":\"CategoricalColorMapper\"}},\"x\":{\"field\":\"x\"},\"y\":{\"field\":\"y\"}},\"id\":\"2872\",\"type\":\"Circle\"},{\"attributes\":{\"filters\":[{\"id\":\"2875\",\"type\":\"GroupFilter\"}],\"source\":{\"id\":\"2867\",\"type\":\"ColumnDataSource\"}},\"id\":\"2876\",\"type\":\"CDSView\"},{\"attributes\":{\"column_name\":\"label\",\"group\":\"false\"},\"id\":\"2869\",\"type\":\"GroupFilter\"},{\"attributes\":{\"label\":{\"value\":\"false\"},\"renderers\":[{\"id\":\"2874\",\"type\":\"GlyphRenderer\"}]},\"id\":\"2881\",\"type\":\"LegendItem\"},{\"attributes\":{\"label\":{\"value\":\"false\"},\"renderers\":[{\"id\":\"2927\",\"type\":\"GlyphRenderer\"}]},\"id\":\"2934\",\"type\":\"LegendItem\"},{\"attributes\":{\"filters\":[{\"id\":\"2922\",\"type\":\"GroupFilter\"}],\"source\":{\"id\":\"2920\",\"type\":\"ColumnDataSource\"}},\"id\":\"2923\",\"type\":\"CDSView\"},{\"attributes\":{},\"id\":\"3061\",\"type\":\"BasicTickFormatter\"},{\"attributes\":{},\"id\":\"3071\",\"type\":\"BasicTicker\"},{\"attributes\":{\"fill_color\":{\"field\":\"label\",\"transform\":{\"id\":\"2868\",\"type\":\"CategoricalColorMapper\"}},\"line_color\":{\"field\":\"label\",\"transform\":{\"id\":\"2868\",\"type\":\"CategoricalColorMapper\"}},\"x\":{\"field\":\"x\"},\"y\":{\"field\":\"y\"}},\"id\":\"2878\",\"type\":\"Circle\"},{\"attributes\":{\"color_mapper\":null,\"formatter\":{\"id\":\"3083\",\"type\":\"BasicTickFormatter\"},\"ticker\":{\"id\":\"3082\",\"type\":\"BasicTicker\"},\"visible\":false},\"id\":\"3043\",\"type\":\"ColorBar\"},{\"attributes\":{\"column_name\":\"label\",\"group\":\"true\"},\"id\":\"2875\",\"type\":\"GroupFilter\"},{\"attributes\":{},\"id\":\"3081\",\"type\":\"BasicTickFormatter\"},{\"attributes\":{\"active_drag\":\"auto\",\"active_inspect\":\"auto\",\"active_multi\":null,\"active_scroll\":\"auto\",\"active_tap\":\"auto\",\"tools\":[{\"id\":\"2852\",\"type\":\"PanTool\"},{\"id\":\"2853\",\"type\":\"WheelZoomTool\"},{\"id\":\"2854\",\"type\":\"BoxZoomTool\"},{\"id\":\"2855\",\"type\":\"SaveTool\"},{\"id\":\"2856\",\"type\":\"ResetTool\"},{\"id\":\"2857\",\"type\":\"HelpTool\"},{\"id\":\"2866\",\"type\":\"HoverTool\"}]},\"id\":\"2858\",\"type\":\"Toolbar\"},{\"attributes\":{\"filters\":[{\"id\":\"2975\",\"type\":\"GroupFilter\"}],\"source\":{\"id\":\"2973\",\"type\":\"ColumnDataSource\"}},\"id\":\"2976\",\"type\":\"CDSView\"},{\"attributes\":{\"bottom_units\":\"screen\",\"fill_alpha\":{\"value\":0.5},\"fill_color\":{\"value\":\"lightgrey\"},\"left_units\":\"screen\",\"level\":\"overlay\",\"line_alpha\":{\"value\":1.0},\"line_color\":{\"value\":\"black\"},\"line_dash\":[4,4],\"line_width\":{\"value\":2},\"render_mode\":\"css\",\"right_units\":\"screen\",\"top_units\":\"screen\"},\"id\":\"3064\",\"type\":\"BoxAnnotation\"},{\"attributes\":{\"label\":{\"value\":\"true\"},\"renderers\":[{\"id\":\"2986\",\"type\":\"GlyphRenderer\"}]},\"id\":\"2988\",\"type\":\"LegendItem\"},{\"attributes\":{},\"id\":\"2853\",\"type\":\"WheelZoomTool\"},{\"attributes\":{\"factors\":[\"false\",\"true\"],\"palette\":[\"#1f77b4\",\"#ff7f0e\",\"#2ca02c\",\"#d62728\",\"#9467bd\",\"#8c564b\",\"#e377c2\",\"#7f7f7f\",\"#bcbd22\",\"#17becf\"]},\"id\":\"2974\",\"type\":\"CategoricalColorMapper\"},{\"attributes\":{\"overlay\":{\"id\":\"3053\",\"type\":\"BoxAnnotation\"}},\"id\":\"2854\",\"type\":\"BoxZoomTool\"},{\"attributes\":{},\"id\":\"3082\",\"type\":\"BasicTicker\"},{\"attributes\":{\"fill_alpha\":{\"value\":0.1},\"fill_color\":{\"value\":\"#1f77b4\"},\"line_alpha\":{\"value\":0.1},\"line_color\":{\"value\":\"#1f77b4\"},\"x\":{\"field\":\"x\"},\"y\":{\"field\":\"y\"}},\"id\":\"2979\",\"type\":\"Circle\"},{\"attributes\":{},\"id\":\"3084\",\"type\":\"UnionRenderers\"},{\"attributes\":{\"callback\":null},\"id\":\"2995\",\"type\":\"DataRange1d\"},{\"attributes\":{},\"id\":\"3046\",\"type\":\"BasicTickFormatter\"},{\"attributes\":{},\"id\":\"3085\",\"type\":\"Selection\"},{\"attributes\":{},\"id\":\"3083\",\"type\":\"BasicTickFormatter\"},{\"attributes\":{},\"id\":\"3072\",\"type\":\"BasicTickFormatter\"},{\"attributes\":{\"dimension\":1,\"ticker\":{\"id\":\"3007\",\"type\":\"BasicTicker\"}},\"id\":\"3010\",\"type\":\"Grid\"},{\"attributes\":{\"bottom_units\":\"screen\",\"fill_alpha\":{\"value\":0.5},\"fill_color\":{\"value\":\"lightgrey\"},\"left_units\":\"screen\",\"level\":\"overlay\",\"line_alpha\":{\"value\":1.0},\"line_color\":{\"value\":\"black\"},\"line_dash\":[4,4],\"line_width\":{\"value\":2},\"render_mode\":\"css\",\"right_units\":\"screen\",\"top_units\":\"screen\"},\"id\":\"3086\",\"type\":\"BoxAnnotation\"},{\"attributes\":{},\"id\":\"3063\",\"type\":\"Selection\"},{\"attributes\":{},\"id\":\"3068\",\"type\":\"BasicTickFormatter\"},{\"attributes\":{\"fill_alpha\":{\"value\":0.1},\"fill_color\":{\"value\":\"#1f77b4\"},\"line_alpha\":{\"value\":0.1},\"line_color\":{\"value\":\"#1f77b4\"},\"x\":{\"field\":\"x\"},\"y\":{\"field\":\"y\"}},\"id\":\"2985\",\"type\":\"Circle\"},{\"attributes\":{},\"id\":\"3079\",\"type\":\"BasicTickFormatter\"},{\"attributes\":{\"toolbar\":{\"id\":\"3089\",\"type\":\"ProxyToolbar\"},\"toolbar_location\":\"above\"},\"id\":\"3090\",\"type\":\"ToolbarBox\"},{\"attributes\":{},\"id\":\"3050\",\"type\":\"BasicTickFormatter\"},{\"attributes\":{},\"id\":\"3062\",\"type\":\"UnionRenderers\"},{\"attributes\":{\"fill_color\":{\"field\":\"label\",\"transform\":{\"id\":\"2974\",\"type\":\"CategoricalColorMapper\"}},\"line_color\":{\"field\":\"label\",\"transform\":{\"id\":\"2974\",\"type\":\"CategoricalColorMapper\"}},\"x\":{\"field\":\"x\"},\"y\":{\"field\":\"y\"}},\"id\":\"2984\",\"type\":\"Circle\"},{\"attributes\":{\"label\":{\"value\":\"false\"},\"renderers\":[{\"id\":\"2980\",\"type\":\"GlyphRenderer\"}]},\"id\":\"2987\",\"type\":\"LegendItem\"},{\"attributes\":{\"tools\":[{\"id\":\"2852\",\"type\":\"PanTool\"},{\"id\":\"2853\",\"type\":\"WheelZoomTool\"},{\"id\":\"2854\",\"type\":\"BoxZoomTool\"},{\"id\":\"2855\",\"type\":\"SaveTool\"},{\"id\":\"2856\",\"type\":\"ResetTool\"},{\"id\":\"2857\",\"type\":\"HelpTool\"},{\"id\":\"2866\",\"type\":\"HoverTool\"},{\"id\":\"2905\",\"type\":\"PanTool\"},{\"id\":\"2906\",\"type\":\"WheelZoomTool\"},{\"id\":\"2907\",\"type\":\"BoxZoomTool\"},{\"id\":\"2908\",\"type\":\"SaveTool\"},{\"id\":\"2909\",\"type\":\"ResetTool\"},{\"id\":\"2910\",\"type\":\"HelpTool\"},{\"id\":\"2919\",\"type\":\"HoverTool\"},{\"id\":\"2958\",\"type\":\"PanTool\"},{\"id\":\"2959\",\"type\":\"WheelZoomTool\"},{\"id\":\"2960\",\"type\":\"BoxZoomTool\"},{\"id\":\"2961\",\"type\":\"SaveTool\"},{\"id\":\"2962\",\"type\":\"ResetTool\"},{\"id\":\"2963\",\"type\":\"HelpTool\"},{\"id\":\"2972\",\"type\":\"HoverTool\"},{\"id\":\"3011\",\"type\":\"PanTool\"},{\"id\":\"3012\",\"type\":\"WheelZoomTool\"},{\"id\":\"3013\",\"type\":\"BoxZoomTool\"},{\"id\":\"3014\",\"type\":\"SaveTool\"},{\"id\":\"3015\",\"type\":\"ResetTool\"},{\"id\":\"3016\",\"type\":\"HelpTool\"},{\"id\":\"3025\",\"type\":\"HoverTool\"}]},\"id\":\"3089\",\"type\":\"ProxyToolbar\"}],\"root_ids\":[\"3091\"]},\"title\":\"Bokeh Application\",\"version\":\"1.2.0\"}};\n",
       "  var render_items = [{\"docid\":\"530ff8ae-8fcd-4de1-9b8a-2dd3a76d9140\",\"roots\":{\"3091\":\"36c7388f-4879-4045-b646-22cfbb11eefc\"}}];\n",
       "  root.Bokeh.embed.embed_items_notebook(docs_json, render_items);\n",
       "\n",
       "  }\n",
       "  if (root.Bokeh !== undefined) {\n",
       "    embed_document(root);\n",
       "  } else {\n",
       "    var attempts = 0;\n",
       "    var timer = setInterval(function(root) {\n",
       "      if (root.Bokeh !== undefined) {\n",
       "        embed_document(root);\n",
       "        clearInterval(timer);\n",
       "      }\n",
       "      attempts++;\n",
       "      if (attempts > 100) {\n",
       "        console.log(\"Bokeh: ERROR: Unable to run BokehJS code because BokehJS library is missing\");\n",
       "        clearInterval(timer);\n",
       "      }\n",
       "    }, 10, root)\n",
       "  }\n",
       "})(window);"
      ],
      "application/vnd.bokehjs_exec.v0+json": ""
     },
     "metadata": {
      "application/vnd.bokehjs_exec.v0+json": {
       "id": "3091"
      }
     },
     "output_type": "display_data"
    }
   ],
   "source": [
    "show(gridplot(plot_list, ncols=2, plot_width=600, plot_height=400))"
   ]
  },
  {
   "cell_type": "markdown",
   "metadata": {},
   "source": [
    "## Filter outliers\n",
    "\n",
    "In the PCA plot above, it seems we have a few outliers. These individuals may have non-Faroese ancestry, whether they are part Faroese or not, or they may be very closely related. Either way, they prevent us from detecting possible population structure in the data.\n",
    "\n",
    "As we see in the plot above, both PC 1 and 2 describe the variation between these outliers and the rest of the samples. So if we remove these outlier individuals, we may be able to detect population structure."
   ]
  },
  {
   "cell_type": "code",
   "execution_count": 29,
   "metadata": {},
   "outputs": [],
   "source": [
    "mt = mt.filter_cols(mt.scores[0] < 0.4)"
   ]
  },
  {
   "cell_type": "markdown",
   "metadata": {},
   "source": [
    "Now we just do the PCA again, and see if PC 1 and 2 show signs of population structure."
   ]
  },
  {
   "cell_type": "code",
   "execution_count": 30,
   "metadata": {},
   "outputs": [
    {
     "name": "stderr",
     "output_type": "stream",
     "text": [
      "2021-06-15 12:14:02 Hail: INFO: hwe_normalized_pca: running PCA using 83887 variants.\n",
      "2021-06-15 12:14:03 Hail: INFO: pca: running PCA with 4 components...\n"
     ]
    }
   ],
   "source": [
    "eigenvalues, scores, loadings = hl.hwe_normalized_pca(mt.GT, k=4)"
   ]
  },
  {
   "cell_type": "code",
   "execution_count": 31,
   "metadata": {},
   "outputs": [],
   "source": [
    "mt = mt.annotate_cols(scores = scores[mt.s].scores)"
   ]
  },
  {
   "cell_type": "code",
   "execution_count": 32,
   "metadata": {},
   "outputs": [
    {
     "data": {
      "text/html": [
       "\n",
       "\n",
       "\n",
       "\n",
       "\n",
       "\n",
       "  <div class=\"bk-root\" id=\"76437172-2e03-4f6a-bfe4-623acde32be4\" data-root-id=\"1264\"></div>\n"
      ]
     },
     "metadata": {},
     "output_type": "display_data"
    },
    {
     "data": {
      "application/javascript": [
       "(function(root) {\n",
       "  function embed_document(root) {\n",
       "    \n",
       "  var docs_json = {\"507f91e6-234c-4ead-a7a0-04a0fd81365a\":{\"roots\":{\"references\":[{\"attributes\":{\"below\":[{\"id\":\"1275\",\"type\":\"LinearAxis\"}],\"center\":[{\"id\":\"1279\",\"type\":\"Grid\"},{\"id\":\"1284\",\"type\":\"Grid\"}],\"left\":[{\"id\":\"1280\",\"type\":\"LinearAxis\"},{\"id\":\"1351\",\"type\":\"Legend\"},{\"id\":\"1352\",\"type\":\"ColorBar\"}],\"plot_height\":600,\"plot_width\":800,\"renderers\":[{\"id\":\"1307\",\"type\":\"GlyphRenderer\"},{\"id\":\"1313\",\"type\":\"GlyphRenderer\"},{\"id\":\"1319\",\"type\":\"GlyphRenderer\"},{\"id\":\"1325\",\"type\":\"GlyphRenderer\"},{\"id\":\"1331\",\"type\":\"GlyphRenderer\"},{\"id\":\"1337\",\"type\":\"GlyphRenderer\"},{\"id\":\"1343\",\"type\":\"GlyphRenderer\"}],\"title\":{\"id\":\"1265\",\"type\":\"Title\"},\"toolbar\":{\"id\":\"1291\",\"type\":\"Toolbar\"},\"x_range\":{\"id\":\"1267\",\"type\":\"DataRange1d\"},\"x_scale\":{\"id\":\"1271\",\"type\":\"LinearScale\"},\"y_range\":{\"id\":\"1269\",\"type\":\"DataRange1d\"},\"y_scale\":{\"id\":\"1273\",\"type\":\"LinearScale\"}},\"id\":\"1264\",\"subtype\":\"Figure\",\"type\":\"Plot\"},{\"attributes\":{},\"id\":\"1290\",\"type\":\"HelpTool\"},{\"attributes\":{\"data_source\":{\"id\":\"1300\",\"type\":\"ColumnDataSource\"},\"glyph\":{\"id\":\"1341\",\"type\":\"Circle\"},\"hover_glyph\":null,\"muted_glyph\":null,\"nonselection_glyph\":{\"id\":\"1342\",\"type\":\"Circle\"},\"selection_glyph\":null,\"view\":{\"id\":\"1339\",\"type\":\"CDSView\"}},\"id\":\"1343\",\"type\":\"GlyphRenderer\"},{\"attributes\":{\"color_mapper\":null,\"formatter\":{\"id\":\"1377\",\"type\":\"BasicTickFormatter\"},\"ticker\":{\"id\":\"1376\",\"type\":\"BasicTicker\"},\"visible\":false},\"id\":\"1352\",\"type\":\"ColorBar\"},{\"attributes\":{\"fill_alpha\":{\"value\":0.1},\"fill_color\":{\"value\":\"#1f77b4\"},\"line_alpha\":{\"value\":0.1},\"line_color\":{\"value\":\"#1f77b4\"},\"x\":{\"field\":\"x\"},\"y\":{\"field\":\"y\"}},\"id\":\"1324\",\"type\":\"Circle\"},{\"attributes\":{\"label\":{\"value\":\"1.00000e+00\"},\"renderers\":[{\"id\":\"1307\",\"type\":\"GlyphRenderer\"}]},\"id\":\"1344\",\"type\":\"LegendItem\"},{\"attributes\":{\"fill_color\":{\"field\":\"label\",\"transform\":{\"id\":\"1301\",\"type\":\"CategoricalColorMapper\"}},\"line_color\":{\"field\":\"label\",\"transform\":{\"id\":\"1301\",\"type\":\"CategoricalColorMapper\"}},\"x\":{\"field\":\"x\"},\"y\":{\"field\":\"y\"}},\"id\":\"1323\",\"type\":\"Circle\"},{\"attributes\":{},\"id\":\"1376\",\"type\":\"BasicTicker\"},{\"attributes\":{\"overlay\":{\"id\":\"1380\",\"type\":\"BoxAnnotation\"}},\"id\":\"1287\",\"type\":\"BoxZoomTool\"},{\"attributes\":{\"fill_color\":{\"field\":\"label\",\"transform\":{\"id\":\"1301\",\"type\":\"CategoricalColorMapper\"}},\"line_color\":{\"field\":\"label\",\"transform\":{\"id\":\"1301\",\"type\":\"CategoricalColorMapper\"}},\"x\":{\"field\":\"x\"},\"y\":{\"field\":\"y\"}},\"id\":\"1329\",\"type\":\"Circle\"},{\"attributes\":{\"label\":{\"value\":\"NA\"},\"renderers\":[{\"id\":\"1343\",\"type\":\"GlyphRenderer\"}]},\"id\":\"1350\",\"type\":\"LegendItem\"},{\"attributes\":{},\"id\":\"1285\",\"type\":\"PanTool\"},{\"attributes\":{\"callback\":null},\"id\":\"1269\",\"type\":\"DataRange1d\"},{\"attributes\":{},\"id\":\"1276\",\"type\":\"BasicTicker\"},{\"attributes\":{\"fill_color\":{\"field\":\"label\",\"transform\":{\"id\":\"1301\",\"type\":\"CategoricalColorMapper\"}},\"line_color\":{\"field\":\"label\",\"transform\":{\"id\":\"1301\",\"type\":\"CategoricalColorMapper\"}},\"x\":{\"field\":\"x\"},\"y\":{\"field\":\"y\"}},\"id\":\"1311\",\"type\":\"Circle\"},{\"attributes\":{\"label\":{\"value\":\"5.00000e+00\"},\"renderers\":[{\"id\":\"1331\",\"type\":\"GlyphRenderer\"}]},\"id\":\"1348\",\"type\":\"LegendItem\"},{\"attributes\":{},\"id\":\"1377\",\"type\":\"BasicTickFormatter\"},{\"attributes\":{\"click_policy\":\"hide\",\"items\":[{\"id\":\"1344\",\"type\":\"LegendItem\"},{\"id\":\"1345\",\"type\":\"LegendItem\"},{\"id\":\"1346\",\"type\":\"LegendItem\"},{\"id\":\"1347\",\"type\":\"LegendItem\"},{\"id\":\"1348\",\"type\":\"LegendItem\"},{\"id\":\"1349\",\"type\":\"LegendItem\"},{\"id\":\"1350\",\"type\":\"LegendItem\"}]},\"id\":\"1351\",\"type\":\"Legend\"},{\"attributes\":{\"label\":{\"value\":\"4.00000e+00\"},\"renderers\":[{\"id\":\"1325\",\"type\":\"GlyphRenderer\"}]},\"id\":\"1347\",\"type\":\"LegendItem\"},{\"attributes\":{\"column_name\":\"label\",\"group\":\"3.00000e+00\"},\"id\":\"1314\",\"type\":\"GroupFilter\"},{\"attributes\":{\"text\":\"PCA\"},\"id\":\"1265\",\"type\":\"Title\"},{\"attributes\":{\"fill_alpha\":{\"value\":0.1},\"fill_color\":{\"value\":\"#1f77b4\"},\"line_alpha\":{\"value\":0.1},\"line_color\":{\"value\":\"#1f77b4\"},\"x\":{\"field\":\"x\"},\"y\":{\"field\":\"y\"}},\"id\":\"1318\",\"type\":\"Circle\"},{\"attributes\":{\"fill_color\":{\"field\":\"label\",\"transform\":{\"id\":\"1301\",\"type\":\"CategoricalColorMapper\"}},\"line_color\":{\"field\":\"label\",\"transform\":{\"id\":\"1301\",\"type\":\"CategoricalColorMapper\"}},\"x\":{\"field\":\"x\"},\"y\":{\"field\":\"y\"}},\"id\":\"1335\",\"type\":\"Circle\"},{\"attributes\":{\"data_source\":{\"id\":\"1300\",\"type\":\"ColumnDataSource\"},\"glyph\":{\"id\":\"1323\",\"type\":\"Circle\"},\"hover_glyph\":null,\"muted_glyph\":null,\"nonselection_glyph\":{\"id\":\"1324\",\"type\":\"Circle\"},\"selection_glyph\":null,\"view\":{\"id\":\"1321\",\"type\":\"CDSView\"}},\"id\":\"1325\",\"type\":\"GlyphRenderer\"},{\"attributes\":{\"filters\":[{\"id\":\"1308\",\"type\":\"GroupFilter\"}],\"source\":{\"id\":\"1300\",\"type\":\"ColumnDataSource\"}},\"id\":\"1309\",\"type\":\"CDSView\"},{\"attributes\":{\"data_source\":{\"id\":\"1300\",\"type\":\"ColumnDataSource\"},\"glyph\":{\"id\":\"1335\",\"type\":\"Circle\"},\"hover_glyph\":null,\"muted_glyph\":null,\"nonselection_glyph\":{\"id\":\"1336\",\"type\":\"Circle\"},\"selection_glyph\":null,\"view\":{\"id\":\"1333\",\"type\":\"CDSView\"}},\"id\":\"1337\",\"type\":\"GlyphRenderer\"},{\"attributes\":{\"data_source\":{\"id\":\"1300\",\"type\":\"ColumnDataSource\"},\"glyph\":{\"id\":\"1305\",\"type\":\"Circle\"},\"hover_glyph\":null,\"muted_glyph\":null,\"nonselection_glyph\":{\"id\":\"1306\",\"type\":\"Circle\"},\"selection_glyph\":null,\"view\":{\"id\":\"1303\",\"type\":\"CDSView\"}},\"id\":\"1307\",\"type\":\"GlyphRenderer\"},{\"attributes\":{\"fill_color\":{\"field\":\"label\",\"transform\":{\"id\":\"1301\",\"type\":\"CategoricalColorMapper\"}},\"line_color\":{\"field\":\"label\",\"transform\":{\"id\":\"1301\",\"type\":\"CategoricalColorMapper\"}},\"x\":{\"field\":\"x\"},\"y\":{\"field\":\"y\"}},\"id\":\"1305\",\"type\":\"Circle\"},{\"attributes\":{\"fill_color\":{\"field\":\"label\",\"transform\":{\"id\":\"1301\",\"type\":\"CategoricalColorMapper\"}},\"line_color\":{\"field\":\"label\",\"transform\":{\"id\":\"1301\",\"type\":\"CategoricalColorMapper\"}},\"x\":{\"field\":\"x\"},\"y\":{\"field\":\"y\"}},\"id\":\"1317\",\"type\":\"Circle\"},{\"attributes\":{\"fill_alpha\":{\"value\":0.1},\"fill_color\":{\"value\":\"#1f77b4\"},\"line_alpha\":{\"value\":0.1},\"line_color\":{\"value\":\"#1f77b4\"},\"x\":{\"field\":\"x\"},\"y\":{\"field\":\"y\"}},\"id\":\"1336\",\"type\":\"Circle\"},{\"attributes\":{\"filters\":[{\"id\":\"1332\",\"type\":\"GroupFilter\"}],\"source\":{\"id\":\"1300\",\"type\":\"ColumnDataSource\"}},\"id\":\"1333\",\"type\":\"CDSView\"},{\"attributes\":{},\"id\":\"1378\",\"type\":\"UnionRenderers\"},{\"attributes\":{\"fill_color\":{\"field\":\"label\",\"transform\":{\"id\":\"1301\",\"type\":\"CategoricalColorMapper\"}},\"line_color\":{\"field\":\"label\",\"transform\":{\"id\":\"1301\",\"type\":\"CategoricalColorMapper\"}},\"x\":{\"field\":\"x\"},\"y\":{\"field\":\"y\"}},\"id\":\"1341\",\"type\":\"Circle\"},{\"attributes\":{\"label\":{\"value\":\"2.00000e+00\"},\"renderers\":[{\"id\":\"1313\",\"type\":\"GlyphRenderer\"}]},\"id\":\"1345\",\"type\":\"LegendItem\"},{\"attributes\":{},\"id\":\"1375\",\"type\":\"BasicTickFormatter\"},{\"attributes\":{\"column_name\":\"label\",\"group\":\"NA\"},\"id\":\"1338\",\"type\":\"GroupFilter\"},{\"attributes\":{\"data_source\":{\"id\":\"1300\",\"type\":\"ColumnDataSource\"},\"glyph\":{\"id\":\"1311\",\"type\":\"Circle\"},\"hover_glyph\":null,\"muted_glyph\":null,\"nonselection_glyph\":{\"id\":\"1312\",\"type\":\"Circle\"},\"selection_glyph\":null,\"view\":{\"id\":\"1309\",\"type\":\"CDSView\"}},\"id\":\"1313\",\"type\":\"GlyphRenderer\"},{\"attributes\":{\"axis_label\":\"PC2\",\"formatter\":{\"id\":\"1375\",\"type\":\"BasicTickFormatter\"},\"ticker\":{\"id\":\"1281\",\"type\":\"BasicTicker\"}},\"id\":\"1280\",\"type\":\"LinearAxis\"},{\"attributes\":{},\"id\":\"1271\",\"type\":\"LinearScale\"},{\"attributes\":{\"fill_alpha\":{\"value\":0.1},\"fill_color\":{\"value\":\"#1f77b4\"},\"line_alpha\":{\"value\":0.1},\"line_color\":{\"value\":\"#1f77b4\"},\"x\":{\"field\":\"x\"},\"y\":{\"field\":\"y\"}},\"id\":\"1306\",\"type\":\"Circle\"},{\"attributes\":{},\"id\":\"1273\",\"type\":\"LinearScale\"},{\"attributes\":{\"filters\":[{\"id\":\"1302\",\"type\":\"GroupFilter\"}],\"source\":{\"id\":\"1300\",\"type\":\"ColumnDataSource\"}},\"id\":\"1303\",\"type\":\"CDSView\"},{\"attributes\":{\"filters\":[{\"id\":\"1320\",\"type\":\"GroupFilter\"}],\"source\":{\"id\":\"1300\",\"type\":\"ColumnDataSource\"}},\"id\":\"1321\",\"type\":\"CDSView\"},{\"attributes\":{\"filters\":[{\"id\":\"1338\",\"type\":\"GroupFilter\"}],\"source\":{\"id\":\"1300\",\"type\":\"ColumnDataSource\"}},\"id\":\"1339\",\"type\":\"CDSView\"},{\"attributes\":{\"callback\":null},\"id\":\"1267\",\"type\":\"DataRange1d\"},{\"attributes\":{\"fill_alpha\":{\"value\":0.1},\"fill_color\":{\"value\":\"#1f77b4\"},\"line_alpha\":{\"value\":0.1},\"line_color\":{\"value\":\"#1f77b4\"},\"x\":{\"field\":\"x\"},\"y\":{\"field\":\"y\"}},\"id\":\"1312\",\"type\":\"Circle\"},{\"attributes\":{\"column_name\":\"label\",\"group\":\"1.00000e+00\"},\"id\":\"1302\",\"type\":\"GroupFilter\"},{\"attributes\":{},\"id\":\"1281\",\"type\":\"BasicTicker\"},{\"attributes\":{\"label\":{\"value\":\"3.00000e+00\"},\"renderers\":[{\"id\":\"1319\",\"type\":\"GlyphRenderer\"}]},\"id\":\"1346\",\"type\":\"LegendItem\"},{\"attributes\":{\"column_name\":\"label\",\"group\":\"5.00000e+00\"},\"id\":\"1326\",\"type\":\"GroupFilter\"},{\"attributes\":{\"data_source\":{\"id\":\"1300\",\"type\":\"ColumnDataSource\"},\"glyph\":{\"id\":\"1317\",\"type\":\"Circle\"},\"hover_glyph\":null,\"muted_glyph\":null,\"nonselection_glyph\":{\"id\":\"1318\",\"type\":\"Circle\"},\"selection_glyph\":null,\"view\":{\"id\":\"1315\",\"type\":\"CDSView\"}},\"id\":\"1319\",\"type\":\"GlyphRenderer\"},{\"attributes\":{\"data_source\":{\"id\":\"1300\",\"type\":\"ColumnDataSource\"},\"glyph\":{\"id\":\"1329\",\"type\":\"Circle\"},\"hover_glyph\":null,\"muted_glyph\":null,\"nonselection_glyph\":{\"id\":\"1330\",\"type\":\"Circle\"},\"selection_glyph\":null,\"view\":{\"id\":\"1327\",\"type\":\"CDSView\"}},\"id\":\"1331\",\"type\":\"GlyphRenderer\"},{\"attributes\":{\"fill_alpha\":{\"value\":0.1},\"fill_color\":{\"value\":\"#1f77b4\"},\"line_alpha\":{\"value\":0.1},\"line_color\":{\"value\":\"#1f77b4\"},\"x\":{\"field\":\"x\"},\"y\":{\"field\":\"y\"}},\"id\":\"1330\",\"type\":\"Circle\"},{\"attributes\":{\"fill_alpha\":{\"value\":0.1},\"fill_color\":{\"value\":\"#1f77b4\"},\"line_alpha\":{\"value\":0.1},\"line_color\":{\"value\":\"#1f77b4\"},\"x\":{\"field\":\"x\"},\"y\":{\"field\":\"y\"}},\"id\":\"1342\",\"type\":\"Circle\"},{\"attributes\":{},\"id\":\"1286\",\"type\":\"WheelZoomTool\"},{\"attributes\":{\"axis_label\":\"PC1\",\"formatter\":{\"id\":\"1373\",\"type\":\"BasicTickFormatter\"},\"ticker\":{\"id\":\"1276\",\"type\":\"BasicTicker\"}},\"id\":\"1275\",\"type\":\"LinearAxis\"},{\"attributes\":{\"filters\":[{\"id\":\"1314\",\"type\":\"GroupFilter\"}],\"source\":{\"id\":\"1300\",\"type\":\"ColumnDataSource\"}},\"id\":\"1315\",\"type\":\"CDSView\"},{\"attributes\":{\"callback\":null,\"tooltips\":[[\"x\",\"@x\"],[\"y\",\"@y\"],[\"label\",\"@label\"]]},\"id\":\"1299\",\"type\":\"HoverTool\"},{\"attributes\":{\"column_name\":\"label\",\"group\":\"4.00000e+00\"},\"id\":\"1320\",\"type\":\"GroupFilter\"},{\"attributes\":{\"column_name\":\"label\",\"group\":\"6.00000e+00\"},\"id\":\"1332\",\"type\":\"GroupFilter\"},{\"attributes\":{\"label\":{\"value\":\"6.00000e+00\"},\"renderers\":[{\"id\":\"1337\",\"type\":\"GlyphRenderer\"}]},\"id\":\"1349\",\"type\":\"LegendItem\"},{\"attributes\":{},\"id\":\"1288\",\"type\":\"SaveTool\"},{\"attributes\":{},\"id\":\"1373\",\"type\":\"BasicTickFormatter\"},{\"attributes\":{\"factors\":[\"6.00000e+00\",\"3.00000e+00\",\"4.00000e+00\",\"2.00000e+00\",\"1.00000e+00\",\"5.00000e+00\",\"NA\"],\"palette\":[\"#1f77b4\",\"#ff7f0e\",\"#2ca02c\",\"#d62728\",\"#9467bd\",\"#8c564b\",\"#e377c2\",\"#7f7f7f\",\"#bcbd22\",\"#17becf\"]},\"id\":\"1301\",\"type\":\"CategoricalColorMapper\"},{\"attributes\":{\"active_drag\":\"auto\",\"active_inspect\":\"auto\",\"active_multi\":null,\"active_scroll\":\"auto\",\"active_tap\":\"auto\",\"tools\":[{\"id\":\"1285\",\"type\":\"PanTool\"},{\"id\":\"1286\",\"type\":\"WheelZoomTool\"},{\"id\":\"1287\",\"type\":\"BoxZoomTool\"},{\"id\":\"1288\",\"type\":\"SaveTool\"},{\"id\":\"1289\",\"type\":\"ResetTool\"},{\"id\":\"1290\",\"type\":\"HelpTool\"},{\"id\":\"1299\",\"type\":\"HoverTool\"}]},\"id\":\"1291\",\"type\":\"Toolbar\"},{\"attributes\":{},\"id\":\"1379\",\"type\":\"Selection\"},{\"attributes\":{\"dimension\":1,\"ticker\":{\"id\":\"1281\",\"type\":\"BasicTicker\"}},\"id\":\"1284\",\"type\":\"Grid\"},{\"attributes\":{\"callback\":null,\"data\":{\"index\":[0,1,2,3,4,5,6,7,8,9,10,11,12,13,14,15,16,17,18,19,20,21,22,23,24,25,26,27,28,29,30,31,32,33,34,35,36,37,38,39,40,41,42,43,44,45,46,47,48,49,50,51,52,53,54,55,56,57,58,59,60,61,62,63,64,65,66,67,68,69,70,71,72,73,74,75,76,77,78,79,80,81,82,83,84,85,86,87,88,89,90,91,92,93,94,95,96,97,98,99,100,101,102,103,104,105,106,107,108,109,110,111,112,113,114,115,116,117,118,119,120,121,122,123,124,125,126,127,128,129,130,131,132,133,134,135,136,137,138,139,140,141,142,143,144,145,146,147,148,149,150,151,152,153,154,155,156,157,158,159,160,161,162,163,164,165,166,167,168,169,170,171,172,173,174,175,176,177,178,179,180,181,182,183,184,185,186,187,188,189,190,191,192,193,194,195,196,197,198,199,200,201,202,203,204,205,206,207,208,209,210,211,212,213,214,215,216,217,218,219,220,221,222,223,224,225,226,227,228,229,230,231,232,233,234,235,236,237,238,239,240,241,242,243,244,245,246,247,248,249,250,251,252,253,254,255,256,257,258,259,260,261,262,263,264,265,266,267,268,269,270,271,272,273,274,275,276,277,278,279,280,281,282,283,284,285,286,287,288,289,290,291,292,293,294,295,296,297,298,299,300,301,302,303,304,305,306,307,308,309,310,311,312,313,314,315,316,317,318,319,320,321,322,323,324,325,326,327,328,329,330,331,332,333,334,335,336,337,338,339,340,341,342,343,344,345,346,347,348,349,350,351,352,353,354,355,356,357,358,359,360,361,362,363,364,365,366,367,368,369,370,371,372,373,374,375,376,377,378,379,380,381,382,383],\"label\":[\"3.00000e+00\",\"6.00000e+00\",\"NA\",\"3.00000e+00\",\"NA\",\"5.00000e+00\",\"3.00000e+00\",\"NA\",\"3.00000e+00\",\"1.00000e+00\",\"NA\",\"3.00000e+00\",\"3.00000e+00\",\"NA\",\"5.00000e+00\",\"3.00000e+00\",\"NA\",\"2.00000e+00\",\"3.00000e+00\",\"1.00000e+00\",\"6.00000e+00\",\"3.00000e+00\",\"3.00000e+00\",\"NA\",\"3.00000e+00\",\"3.00000e+00\",\"3.00000e+00\",\"5.00000e+00\",\"3.00000e+00\",\"6.00000e+00\",\"3.00000e+00\",\"3.00000e+00\",\"3.00000e+00\",\"3.00000e+00\",\"6.00000e+00\",\"1.00000e+00\",\"3.00000e+00\",\"6.00000e+00\",\"2.00000e+00\",\"3.00000e+00\",\"1.00000e+00\",\"6.00000e+00\",\"3.00000e+00\",\"3.00000e+00\",\"1.00000e+00\",\"3.00000e+00\",\"3.00000e+00\",\"3.00000e+00\",\"6.00000e+00\",\"3.00000e+00\",\"2.00000e+00\",\"2.00000e+00\",\"2.00000e+00\",\"3.00000e+00\",\"3.00000e+00\",\"3.00000e+00\",\"3.00000e+00\",\"2.00000e+00\",\"1.00000e+00\",\"1.00000e+00\",\"3.00000e+00\",\"1.00000e+00\",\"3.00000e+00\",\"6.00000e+00\",\"3.00000e+00\",\"3.00000e+00\",\"3.00000e+00\",\"3.00000e+00\",\"6.00000e+00\",\"3.00000e+00\",\"NA\",\"2.00000e+00\",\"NA\",\"2.00000e+00\",\"3.00000e+00\",\"2.00000e+00\",\"3.00000e+00\",\"1.00000e+00\",\"6.00000e+00\",\"2.00000e+00\",\"2.00000e+00\",\"1.00000e+00\",\"1.00000e+00\",\"2.00000e+00\",\"5.00000e+00\",\"3.00000e+00\",\"3.00000e+00\",\"4.00000e+00\",\"3.00000e+00\",\"3.00000e+00\",\"1.00000e+00\",\"6.00000e+00\",\"3.00000e+00\",\"3.00000e+00\",\"2.00000e+00\",\"5.00000e+00\",\"3.00000e+00\",\"3.00000e+00\",\"3.00000e+00\",\"5.00000e+00\",\"3.00000e+00\",\"6.00000e+00\",\"6.00000e+00\",\"4.00000e+00\",\"2.00000e+00\",\"4.00000e+00\",\"1.00000e+00\",\"3.00000e+00\",\"NA\",\"2.00000e+00\",\"3.00000e+00\",\"1.00000e+00\",\"1.00000e+00\",\"3.00000e+00\",\"6.00000e+00\",\"1.00000e+00\",\"6.00000e+00\",\"4.00000e+00\",\"3.00000e+00\",\"6.00000e+00\",\"2.00000e+00\",\"2.00000e+00\",\"3.00000e+00\",\"6.00000e+00\",\"3.00000e+00\",\"NA\",\"3.00000e+00\",\"3.00000e+00\",\"3.00000e+00\",\"3.00000e+00\",\"2.00000e+00\",\"5.00000e+00\",\"1.00000e+00\",\"2.00000e+00\",\"3.00000e+00\",\"3.00000e+00\",\"5.00000e+00\",\"1.00000e+00\",\"3.00000e+00\",\"3.00000e+00\",\"3.00000e+00\",\"2.00000e+00\",\"3.00000e+00\",\"3.00000e+00\",\"3.00000e+00\",\"3.00000e+00\",\"3.00000e+00\",\"3.00000e+00\",\"1.00000e+00\",\"5.00000e+00\",\"2.00000e+00\",\"2.00000e+00\",\"2.00000e+00\",\"3.00000e+00\",\"1.00000e+00\",\"1.00000e+00\",\"3.00000e+00\",\"6.00000e+00\",\"NA\",\"3.00000e+00\",\"2.00000e+00\",\"4.00000e+00\",\"2.00000e+00\",\"1.00000e+00\",\"2.00000e+00\",\"NA\",\"6.00000e+00\",\"2.00000e+00\",\"1.00000e+00\",\"NA\",\"1.00000e+00\",\"6.00000e+00\",\"3.00000e+00\",\"3.00000e+00\",\"3.00000e+00\",\"5.00000e+00\",\"1.00000e+00\",\"4.00000e+00\",\"6.00000e+00\",\"3.00000e+00\",\"1.00000e+00\",\"1.00000e+00\",\"2.00000e+00\",\"1.00000e+00\",\"3.00000e+00\",\"2.00000e+00\",\"1.00000e+00\",\"3.00000e+00\",\"1.00000e+00\",\"3.00000e+00\",\"1.00000e+00\",\"3.00000e+00\",\"3.00000e+00\",\"3.00000e+00\",\"2.00000e+00\",\"3.00000e+00\",\"3.00000e+00\",\"2.00000e+00\",\"4.00000e+00\",\"2.00000e+00\",\"3.00000e+00\",\"3.00000e+00\",\"3.00000e+00\",\"2.00000e+00\",\"1.00000e+00\",\"1.00000e+00\",\"2.00000e+00\",\"6.00000e+00\",\"3.00000e+00\",\"3.00000e+00\",\"2.00000e+00\",\"3.00000e+00\",\"3.00000e+00\",\"1.00000e+00\",\"6.00000e+00\",\"2.00000e+00\",\"1.00000e+00\",\"3.00000e+00\",\"3.00000e+00\",\"6.00000e+00\",\"2.00000e+00\",\"NA\",\"2.00000e+00\",\"2.00000e+00\",\"2.00000e+00\",\"NA\",\"2.00000e+00\",\"2.00000e+00\",\"3.00000e+00\",\"4.00000e+00\",\"3.00000e+00\",\"5.00000e+00\",\"3.00000e+00\",\"2.00000e+00\",\"3.00000e+00\",\"3.00000e+00\",\"2.00000e+00\",\"3.00000e+00\",\"3.00000e+00\",\"2.00000e+00\",\"6.00000e+00\",\"2.00000e+00\",\"3.00000e+00\",\"NA\",\"3.00000e+00\",\"3.00000e+00\",\"3.00000e+00\",\"6.00000e+00\",\"1.00000e+00\",\"2.00000e+00\",\"6.00000e+00\",\"4.00000e+00\",\"2.00000e+00\",\"3.00000e+00\",\"3.00000e+00\",\"2.00000e+00\",\"3.00000e+00\",\"1.00000e+00\",\"2.00000e+00\",\"1.00000e+00\",\"2.00000e+00\",\"3.00000e+00\",\"3.00000e+00\",\"2.00000e+00\",\"2.00000e+00\",\"3.00000e+00\",\"1.00000e+00\",\"3.00000e+00\",\"1.00000e+00\",\"4.00000e+00\",\"3.00000e+00\",\"NA\",\"3.00000e+00\",\"6.00000e+00\",\"3.00000e+00\",\"3.00000e+00\",\"3.00000e+00\",\"3.00000e+00\",\"NA\",\"NA\",\"2.00000e+00\",\"2.00000e+00\",\"2.00000e+00\",\"NA\",\"3.00000e+00\",\"6.00000e+00\",\"1.00000e+00\",\"2.00000e+00\",\"NA\",\"4.00000e+00\",\"3.00000e+00\",\"1.00000e+00\",\"1.00000e+00\",\"3.00000e+00\",\"2.00000e+00\",\"NA\",\"3.00000e+00\",\"2.00000e+00\",\"2.00000e+00\",\"2.00000e+00\",\"2.00000e+00\",\"4.00000e+00\",\"NA\",\"2.00000e+00\",\"NA\",\"3.00000e+00\",\"3.00000e+00\",\"1.00000e+00\",\"2.00000e+00\",\"2.00000e+00\",\"NA\",\"3.00000e+00\",\"2.00000e+00\",\"3.00000e+00\",\"3.00000e+00\",\"1.00000e+00\",\"3.00000e+00\",\"3.00000e+00\",\"1.00000e+00\",\"2.00000e+00\",\"3.00000e+00\",\"6.00000e+00\",\"4.00000e+00\",\"3.00000e+00\",\"2.00000e+00\",\"NA\",\"2.00000e+00\",\"2.00000e+00\",\"4.00000e+00\",\"3.00000e+00\",\"5.00000e+00\",\"3.00000e+00\",\"2.00000e+00\",\"3.00000e+00\",\"1.00000e+00\",\"3.00000e+00\",\"NA\",\"2.00000e+00\",\"3.00000e+00\",\"3.00000e+00\",\"5.00000e+00\",\"3.00000e+00\",\"NA\",\"3.00000e+00\",\"6.00000e+00\",\"3.00000e+00\",\"3.00000e+00\",\"1.00000e+00\",\"4.00000e+00\",\"NA\",\"NA\",\"4.00000e+00\",\"3.00000e+00\",\"2.00000e+00\",\"1.00000e+00\",\"3.00000e+00\",\"2.00000e+00\",\"2.00000e+00\",\"3.00000e+00\",\"3.00000e+00\",\"2.00000e+00\",\"1.00000e+00\",\"3.00000e+00\",\"5.00000e+00\",\"4.00000e+00\",\"2.00000e+00\",\"1.00000e+00\",\"3.00000e+00\",\"3.00000e+00\",\"3.00000e+00\",\"4.00000e+00\",\"2.00000e+00\",\"3.00000e+00\",\"4.00000e+00\",\"1.00000e+00\",\"1.00000e+00\",\"4.00000e+00\",\"1.00000e+00\",\"4.00000e+00\",\"4.00000e+00\",\"NA\",\"1.00000e+00\",\"1.00000e+00\",\"1.00000e+00\"],\"x\":{\"__ndarray__\":\"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\",\"dtype\":\"float64\",\"shape\":[384]},\"y\":{\"__ndarray__\":\"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\",\"dtype\":\"float64\",\"shape\":[384]}},\"selected\":{\"id\":\"1379\",\"type\":\"Selection\"},\"selection_policy\":{\"id\":\"1378\",\"type\":\"UnionRenderers\"}},\"id\":\"1300\",\"type\":\"ColumnDataSource\"},{\"attributes\":{\"filters\":[{\"id\":\"1326\",\"type\":\"GroupFilter\"}],\"source\":{\"id\":\"1300\",\"type\":\"ColumnDataSource\"}},\"id\":\"1327\",\"type\":\"CDSView\"},{\"attributes\":{\"column_name\":\"label\",\"group\":\"2.00000e+00\"},\"id\":\"1308\",\"type\":\"GroupFilter\"},{\"attributes\":{\"ticker\":{\"id\":\"1276\",\"type\":\"BasicTicker\"}},\"id\":\"1279\",\"type\":\"Grid\"},{\"attributes\":{\"bottom_units\":\"screen\",\"fill_alpha\":{\"value\":0.5},\"fill_color\":{\"value\":\"lightgrey\"},\"left_units\":\"screen\",\"level\":\"overlay\",\"line_alpha\":{\"value\":1.0},\"line_color\":{\"value\":\"black\"},\"line_dash\":[4,4],\"line_width\":{\"value\":2},\"render_mode\":\"css\",\"right_units\":\"screen\",\"top_units\":\"screen\"},\"id\":\"1380\",\"type\":\"BoxAnnotation\"},{\"attributes\":{},\"id\":\"1289\",\"type\":\"ResetTool\"}],\"root_ids\":[\"1264\"]},\"title\":\"Bokeh Application\",\"version\":\"1.2.0\"}};\n",
       "  var render_items = [{\"docid\":\"507f91e6-234c-4ead-a7a0-04a0fd81365a\",\"roots\":{\"1264\":\"76437172-2e03-4f6a-bfe4-623acde32be4\"}}];\n",
       "  root.Bokeh.embed.embed_items_notebook(docs_json, render_items);\n",
       "\n",
       "  }\n",
       "  if (root.Bokeh !== undefined) {\n",
       "    embed_document(root);\n",
       "  } else {\n",
       "    var attempts = 0;\n",
       "    var timer = setInterval(function(root) {\n",
       "      if (root.Bokeh !== undefined) {\n",
       "        embed_document(root);\n",
       "        clearInterval(timer);\n",
       "      }\n",
       "      attempts++;\n",
       "      if (attempts > 100) {\n",
       "        console.log(\"Bokeh: ERROR: Unable to run BokehJS code because BokehJS library is missing\");\n",
       "        clearInterval(timer);\n",
       "      }\n",
       "    }, 10, root)\n",
       "  }\n",
       "})(window);"
      ],
      "application/vnd.bokehjs_exec.v0+json": ""
     },
     "metadata": {
      "application/vnd.bokehjs_exec.v0+json": {
       "id": "1264"
      }
     },
     "output_type": "display_data"
    }
   ],
   "source": [
    "p = hl.plot.scatter(mt.scores[0],\n",
    "                    mt.scores[1],\n",
    "                    label=hl.str(mt.birthplace),\n",
    "                    title='PCA', xlabel='PC1', ylabel='PC2')\n",
    "p.plot_width = 800\n",
    "p.plot_height = 600\n",
    "show(p)"
   ]
  },
  {
   "cell_type": "markdown",
   "metadata": {},
   "source": [
    "Region number | Region name(s)\n",
    "-----|-----\n",
    "1 | Norðoyggjar\n",
    "2 | Eysturoy og Norðstreymoy\n",
    "3 | Suðurstreymoy\n",
    "4 | Vágar og Mykines\n",
    "5 | Sandoy, Skúvoy, Stóra Dímun\n",
    "6 | Suðuroy"
   ]
  },
  {
   "cell_type": "markdown",
   "metadata": {},
   "source": [
    "From this PCA, it looks like there is very little population structure. But I'm not so convinced, I see this as a failure to detect population structure, not a success to show that there is no population structure."
   ]
  }
 ],
 "metadata": {
  "kernelspec": {
   "display_name": "Python [conda env:fargen-1-exome]",
   "language": "python",
   "name": "conda-env-fargen-1-exome-py"
  },
  "language_info": {
   "codemirror_mode": {
    "name": "ipython",
    "version": 3
   },
   "file_extension": ".py",
   "mimetype": "text/x-python",
   "name": "python",
   "nbconvert_exporter": "python",
   "pygments_lexer": "ipython3",
   "version": "3.7.10"
  }
 },
 "nbformat": 4,
 "nbformat_minor": 4
}
