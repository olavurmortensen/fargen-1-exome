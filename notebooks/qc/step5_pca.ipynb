{
 "cells": [
  {
   "cell_type": "markdown",
   "metadata": {},
   "source": [
    "# Population structure - PCA of the FarGen cohort"
   ]
  },
  {
   "cell_type": "code",
   "execution_count": 2,
   "metadata": {},
   "outputs": [
    {
     "name": "stderr",
     "output_type": "stream",
     "text": [
      "Running on Apache Spark version 2.4.1\n",
      "SparkUI available at http://hms-beagle-848846b477-48ks9:4045\n",
      "Welcome to\n",
      "     __  __     <>__\n",
      "    / /_/ /__  __/ /\n",
      "   / __  / _ `/ / /\n",
      "  /_/ /_/\\_,_/_/_/   version 0.2.61-3c86d3ba497a\n",
      "LOGGING: writing to /home/olavur/experiments/2020-11-13_fargen1_exome_analysis/fargen-1-exome/notebooks/qc/hail-20210628-1457-0.2.61-3c86d3ba497a.log\n"
     ]
    }
   ],
   "source": [
    "import hail as hl\n",
    "hl.init(spark_conf={'spark.driver.memory': '100g'}, tmp_dir='/home/olavur/tmp')"
   ]
  },
  {
   "cell_type": "code",
   "execution_count": 3,
   "metadata": {},
   "outputs": [
    {
     "data": {
      "text/html": [
       "\n",
       "    <div class=\"bk-root\">\n",
       "        <a href=\"https://bokeh.pydata.org\" target=\"_blank\" class=\"bk-logo bk-logo-small bk-logo-notebook\"></a>\n",
       "        <span id=\"1001\">Loading BokehJS ...</span>\n",
       "    </div>"
      ]
     },
     "metadata": {},
     "output_type": "display_data"
    },
    {
     "data": {
      "application/javascript": [
       "\n",
       "(function(root) {\n",
       "  function now() {\n",
       "    return new Date();\n",
       "  }\n",
       "\n",
       "  var force = true;\n",
       "\n",
       "  if (typeof root._bokeh_onload_callbacks === \"undefined\" || force === true) {\n",
       "    root._bokeh_onload_callbacks = [];\n",
       "    root._bokeh_is_loading = undefined;\n",
       "  }\n",
       "\n",
       "  var JS_MIME_TYPE = 'application/javascript';\n",
       "  var HTML_MIME_TYPE = 'text/html';\n",
       "  var EXEC_MIME_TYPE = 'application/vnd.bokehjs_exec.v0+json';\n",
       "  var CLASS_NAME = 'output_bokeh rendered_html';\n",
       "\n",
       "  /**\n",
       "   * Render data to the DOM node\n",
       "   */\n",
       "  function render(props, node) {\n",
       "    var script = document.createElement(\"script\");\n",
       "    node.appendChild(script);\n",
       "  }\n",
       "\n",
       "  /**\n",
       "   * Handle when an output is cleared or removed\n",
       "   */\n",
       "  function handleClearOutput(event, handle) {\n",
       "    var cell = handle.cell;\n",
       "\n",
       "    var id = cell.output_area._bokeh_element_id;\n",
       "    var server_id = cell.output_area._bokeh_server_id;\n",
       "    // Clean up Bokeh references\n",
       "    if (id != null && id in Bokeh.index) {\n",
       "      Bokeh.index[id].model.document.clear();\n",
       "      delete Bokeh.index[id];\n",
       "    }\n",
       "\n",
       "    if (server_id !== undefined) {\n",
       "      // Clean up Bokeh references\n",
       "      var cmd = \"from bokeh.io.state import curstate; print(curstate().uuid_to_server['\" + server_id + \"'].get_sessions()[0].document.roots[0]._id)\";\n",
       "      cell.notebook.kernel.execute(cmd, {\n",
       "        iopub: {\n",
       "          output: function(msg) {\n",
       "            var id = msg.content.text.trim();\n",
       "            if (id in Bokeh.index) {\n",
       "              Bokeh.index[id].model.document.clear();\n",
       "              delete Bokeh.index[id];\n",
       "            }\n",
       "          }\n",
       "        }\n",
       "      });\n",
       "      // Destroy server and session\n",
       "      var cmd = \"import bokeh.io.notebook as ion; ion.destroy_server('\" + server_id + \"')\";\n",
       "      cell.notebook.kernel.execute(cmd);\n",
       "    }\n",
       "  }\n",
       "\n",
       "  /**\n",
       "   * Handle when a new output is added\n",
       "   */\n",
       "  function handleAddOutput(event, handle) {\n",
       "    var output_area = handle.output_area;\n",
       "    var output = handle.output;\n",
       "\n",
       "    // limit handleAddOutput to display_data with EXEC_MIME_TYPE content only\n",
       "    if ((output.output_type != \"display_data\") || (!output.data.hasOwnProperty(EXEC_MIME_TYPE))) {\n",
       "      return\n",
       "    }\n",
       "\n",
       "    var toinsert = output_area.element.find(\".\" + CLASS_NAME.split(' ')[0]);\n",
       "\n",
       "    if (output.metadata[EXEC_MIME_TYPE][\"id\"] !== undefined) {\n",
       "      toinsert[toinsert.length - 1].firstChild.textContent = output.data[JS_MIME_TYPE];\n",
       "      // store reference to embed id on output_area\n",
       "      output_area._bokeh_element_id = output.metadata[EXEC_MIME_TYPE][\"id\"];\n",
       "    }\n",
       "    if (output.metadata[EXEC_MIME_TYPE][\"server_id\"] !== undefined) {\n",
       "      var bk_div = document.createElement(\"div\");\n",
       "      bk_div.innerHTML = output.data[HTML_MIME_TYPE];\n",
       "      var script_attrs = bk_div.children[0].attributes;\n",
       "      for (var i = 0; i < script_attrs.length; i++) {\n",
       "        toinsert[toinsert.length - 1].firstChild.setAttribute(script_attrs[i].name, script_attrs[i].value);\n",
       "      }\n",
       "      // store reference to server id on output_area\n",
       "      output_area._bokeh_server_id = output.metadata[EXEC_MIME_TYPE][\"server_id\"];\n",
       "    }\n",
       "  }\n",
       "\n",
       "  function register_renderer(events, OutputArea) {\n",
       "\n",
       "    function append_mime(data, metadata, element) {\n",
       "      // create a DOM node to render to\n",
       "      var toinsert = this.create_output_subarea(\n",
       "        metadata,\n",
       "        CLASS_NAME,\n",
       "        EXEC_MIME_TYPE\n",
       "      );\n",
       "      this.keyboard_manager.register_events(toinsert);\n",
       "      // Render to node\n",
       "      var props = {data: data, metadata: metadata[EXEC_MIME_TYPE]};\n",
       "      render(props, toinsert[toinsert.length - 1]);\n",
       "      element.append(toinsert);\n",
       "      return toinsert\n",
       "    }\n",
       "\n",
       "    /* Handle when an output is cleared or removed */\n",
       "    events.on('clear_output.CodeCell', handleClearOutput);\n",
       "    events.on('delete.Cell', handleClearOutput);\n",
       "\n",
       "    /* Handle when a new output is added */\n",
       "    events.on('output_added.OutputArea', handleAddOutput);\n",
       "\n",
       "    /**\n",
       "     * Register the mime type and append_mime function with output_area\n",
       "     */\n",
       "    OutputArea.prototype.register_mime_type(EXEC_MIME_TYPE, append_mime, {\n",
       "      /* Is output safe? */\n",
       "      safe: true,\n",
       "      /* Index of renderer in `output_area.display_order` */\n",
       "      index: 0\n",
       "    });\n",
       "  }\n",
       "\n",
       "  // register the mime type if in Jupyter Notebook environment and previously unregistered\n",
       "  if (root.Jupyter !== undefined) {\n",
       "    var events = require('base/js/events');\n",
       "    var OutputArea = require('notebook/js/outputarea').OutputArea;\n",
       "\n",
       "    if (OutputArea.prototype.mime_types().indexOf(EXEC_MIME_TYPE) == -1) {\n",
       "      register_renderer(events, OutputArea);\n",
       "    }\n",
       "  }\n",
       "\n",
       "  \n",
       "  if (typeof (root._bokeh_timeout) === \"undefined\" || force === true) {\n",
       "    root._bokeh_timeout = Date.now() + 5000;\n",
       "    root._bokeh_failed_load = false;\n",
       "  }\n",
       "\n",
       "  var NB_LOAD_WARNING = {'data': {'text/html':\n",
       "     \"<div style='background-color: #fdd'>\\n\"+\n",
       "     \"<p>\\n\"+\n",
       "     \"BokehJS does not appear to have successfully loaded. If loading BokehJS from CDN, this \\n\"+\n",
       "     \"may be due to a slow or bad network connection. Possible fixes:\\n\"+\n",
       "     \"</p>\\n\"+\n",
       "     \"<ul>\\n\"+\n",
       "     \"<li>re-rerun `output_notebook()` to attempt to load from CDN again, or</li>\\n\"+\n",
       "     \"<li>use INLINE resources instead, as so:</li>\\n\"+\n",
       "     \"</ul>\\n\"+\n",
       "     \"<code>\\n\"+\n",
       "     \"from bokeh.resources import INLINE\\n\"+\n",
       "     \"output_notebook(resources=INLINE)\\n\"+\n",
       "     \"</code>\\n\"+\n",
       "     \"</div>\"}};\n",
       "\n",
       "  function display_loaded() {\n",
       "    var el = document.getElementById(\"1001\");\n",
       "    if (el != null) {\n",
       "      el.textContent = \"BokehJS is loading...\";\n",
       "    }\n",
       "    if (root.Bokeh !== undefined) {\n",
       "      if (el != null) {\n",
       "        el.textContent = \"BokehJS \" + root.Bokeh.version + \" successfully loaded.\";\n",
       "      }\n",
       "    } else if (Date.now() < root._bokeh_timeout) {\n",
       "      setTimeout(display_loaded, 100)\n",
       "    }\n",
       "  }\n",
       "\n",
       "\n",
       "  function run_callbacks() {\n",
       "    try {\n",
       "      root._bokeh_onload_callbacks.forEach(function(callback) {\n",
       "        if (callback != null)\n",
       "          callback();\n",
       "      });\n",
       "    } finally {\n",
       "      delete root._bokeh_onload_callbacks\n",
       "    }\n",
       "    console.debug(\"Bokeh: all callbacks have finished\");\n",
       "  }\n",
       "\n",
       "  function load_libs(css_urls, js_urls, callback) {\n",
       "    if (css_urls == null) css_urls = [];\n",
       "    if (js_urls == null) js_urls = [];\n",
       "\n",
       "    root._bokeh_onload_callbacks.push(callback);\n",
       "    if (root._bokeh_is_loading > 0) {\n",
       "      console.debug(\"Bokeh: BokehJS is being loaded, scheduling callback at\", now());\n",
       "      return null;\n",
       "    }\n",
       "    if (js_urls == null || js_urls.length === 0) {\n",
       "      run_callbacks();\n",
       "      return null;\n",
       "    }\n",
       "    console.debug(\"Bokeh: BokehJS not loaded, scheduling load and callback at\", now());\n",
       "    root._bokeh_is_loading = css_urls.length + js_urls.length;\n",
       "\n",
       "    function on_load() {\n",
       "      root._bokeh_is_loading--;\n",
       "      if (root._bokeh_is_loading === 0) {\n",
       "        console.debug(\"Bokeh: all BokehJS libraries/stylesheets loaded\");\n",
       "        run_callbacks()\n",
       "      }\n",
       "    }\n",
       "\n",
       "    function on_error() {\n",
       "      console.error(\"failed to load \" + url);\n",
       "    }\n",
       "\n",
       "    for (var i = 0; i < css_urls.length; i++) {\n",
       "      var url = css_urls[i];\n",
       "      const element = document.createElement(\"link\");\n",
       "      element.onload = on_load;\n",
       "      element.onerror = on_error;\n",
       "      element.rel = \"stylesheet\";\n",
       "      element.type = \"text/css\";\n",
       "      element.href = url;\n",
       "      console.debug(\"Bokeh: injecting link tag for BokehJS stylesheet: \", url);\n",
       "      document.body.appendChild(element);\n",
       "    }\n",
       "\n",
       "    for (var i = 0; i < js_urls.length; i++) {\n",
       "      var url = js_urls[i];\n",
       "      var element = document.createElement('script');\n",
       "      element.onload = on_load;\n",
       "      element.onerror = on_error;\n",
       "      element.async = false;\n",
       "      element.src = url;\n",
       "      console.debug(\"Bokeh: injecting script tag for BokehJS library: \", url);\n",
       "      document.head.appendChild(element);\n",
       "    }\n",
       "  };var element = document.getElementById(\"1001\");\n",
       "  if (element == null) {\n",
       "    console.error(\"Bokeh: ERROR: autoload.js configured with elementid '1001' but no matching script tag was found. \")\n",
       "    return false;\n",
       "  }\n",
       "\n",
       "  function inject_raw_css(css) {\n",
       "    const element = document.createElement(\"style\");\n",
       "    element.appendChild(document.createTextNode(css));\n",
       "    document.body.appendChild(element);\n",
       "  }\n",
       "\n",
       "  var js_urls = [\"https://cdn.pydata.org/bokeh/release/bokeh-1.2.0.min.js\", \"https://cdn.pydata.org/bokeh/release/bokeh-widgets-1.2.0.min.js\", \"https://cdn.pydata.org/bokeh/release/bokeh-tables-1.2.0.min.js\", \"https://cdn.pydata.org/bokeh/release/bokeh-gl-1.2.0.min.js\"];\n",
       "  var css_urls = [\"https://cdn.pydata.org/bokeh/release/bokeh-1.2.0.min.css\", \"https://cdn.pydata.org/bokeh/release/bokeh-widgets-1.2.0.min.css\", \"https://cdn.pydata.org/bokeh/release/bokeh-tables-1.2.0.min.css\"];\n",
       "\n",
       "  var inline_js = [\n",
       "    function(Bokeh) {\n",
       "      Bokeh.set_log_level(\"info\");\n",
       "    },\n",
       "    \n",
       "    function(Bokeh) {\n",
       "      \n",
       "    },\n",
       "    function(Bokeh) {} // ensure no trailing comma for IE\n",
       "  ];\n",
       "\n",
       "  function run_inline_js() {\n",
       "    \n",
       "    if ((root.Bokeh !== undefined) || (force === true)) {\n",
       "      for (var i = 0; i < inline_js.length; i++) {\n",
       "        inline_js[i].call(root, root.Bokeh);\n",
       "      }if (force === true) {\n",
       "        display_loaded();\n",
       "      }} else if (Date.now() < root._bokeh_timeout) {\n",
       "      setTimeout(run_inline_js, 100);\n",
       "    } else if (!root._bokeh_failed_load) {\n",
       "      console.log(\"Bokeh: BokehJS failed to load within specified timeout.\");\n",
       "      root._bokeh_failed_load = true;\n",
       "    } else if (force !== true) {\n",
       "      var cell = $(document.getElementById(\"1001\")).parents('.cell').data().cell;\n",
       "      cell.output_area.append_execute_result(NB_LOAD_WARNING)\n",
       "    }\n",
       "\n",
       "  }\n",
       "\n",
       "  if (root._bokeh_is_loading === 0) {\n",
       "    console.debug(\"Bokeh: BokehJS loaded, going straight to plotting\");\n",
       "    run_inline_js();\n",
       "  } else {\n",
       "    load_libs(css_urls, js_urls, function() {\n",
       "      console.debug(\"Bokeh: BokehJS plotting callback run at\", now());\n",
       "      run_inline_js();\n",
       "    });\n",
       "  }\n",
       "}(window));"
      ],
      "application/vnd.bokehjs_load.v0+json": "\n(function(root) {\n  function now() {\n    return new Date();\n  }\n\n  var force = true;\n\n  if (typeof root._bokeh_onload_callbacks === \"undefined\" || force === true) {\n    root._bokeh_onload_callbacks = [];\n    root._bokeh_is_loading = undefined;\n  }\n\n  \n\n  \n  if (typeof (root._bokeh_timeout) === \"undefined\" || force === true) {\n    root._bokeh_timeout = Date.now() + 5000;\n    root._bokeh_failed_load = false;\n  }\n\n  var NB_LOAD_WARNING = {'data': {'text/html':\n     \"<div style='background-color: #fdd'>\\n\"+\n     \"<p>\\n\"+\n     \"BokehJS does not appear to have successfully loaded. If loading BokehJS from CDN, this \\n\"+\n     \"may be due to a slow or bad network connection. Possible fixes:\\n\"+\n     \"</p>\\n\"+\n     \"<ul>\\n\"+\n     \"<li>re-rerun `output_notebook()` to attempt to load from CDN again, or</li>\\n\"+\n     \"<li>use INLINE resources instead, as so:</li>\\n\"+\n     \"</ul>\\n\"+\n     \"<code>\\n\"+\n     \"from bokeh.resources import INLINE\\n\"+\n     \"output_notebook(resources=INLINE)\\n\"+\n     \"</code>\\n\"+\n     \"</div>\"}};\n\n  function display_loaded() {\n    var el = document.getElementById(\"1001\");\n    if (el != null) {\n      el.textContent = \"BokehJS is loading...\";\n    }\n    if (root.Bokeh !== undefined) {\n      if (el != null) {\n        el.textContent = \"BokehJS \" + root.Bokeh.version + \" successfully loaded.\";\n      }\n    } else if (Date.now() < root._bokeh_timeout) {\n      setTimeout(display_loaded, 100)\n    }\n  }\n\n\n  function run_callbacks() {\n    try {\n      root._bokeh_onload_callbacks.forEach(function(callback) {\n        if (callback != null)\n          callback();\n      });\n    } finally {\n      delete root._bokeh_onload_callbacks\n    }\n    console.debug(\"Bokeh: all callbacks have finished\");\n  }\n\n  function load_libs(css_urls, js_urls, callback) {\n    if (css_urls == null) css_urls = [];\n    if (js_urls == null) js_urls = [];\n\n    root._bokeh_onload_callbacks.push(callback);\n    if (root._bokeh_is_loading > 0) {\n      console.debug(\"Bokeh: BokehJS is being loaded, scheduling callback at\", now());\n      return null;\n    }\n    if (js_urls == null || js_urls.length === 0) {\n      run_callbacks();\n      return null;\n    }\n    console.debug(\"Bokeh: BokehJS not loaded, scheduling load and callback at\", now());\n    root._bokeh_is_loading = css_urls.length + js_urls.length;\n\n    function on_load() {\n      root._bokeh_is_loading--;\n      if (root._bokeh_is_loading === 0) {\n        console.debug(\"Bokeh: all BokehJS libraries/stylesheets loaded\");\n        run_callbacks()\n      }\n    }\n\n    function on_error() {\n      console.error(\"failed to load \" + url);\n    }\n\n    for (var i = 0; i < css_urls.length; i++) {\n      var url = css_urls[i];\n      const element = document.createElement(\"link\");\n      element.onload = on_load;\n      element.onerror = on_error;\n      element.rel = \"stylesheet\";\n      element.type = \"text/css\";\n      element.href = url;\n      console.debug(\"Bokeh: injecting link tag for BokehJS stylesheet: \", url);\n      document.body.appendChild(element);\n    }\n\n    for (var i = 0; i < js_urls.length; i++) {\n      var url = js_urls[i];\n      var element = document.createElement('script');\n      element.onload = on_load;\n      element.onerror = on_error;\n      element.async = false;\n      element.src = url;\n      console.debug(\"Bokeh: injecting script tag for BokehJS library: \", url);\n      document.head.appendChild(element);\n    }\n  };var element = document.getElementById(\"1001\");\n  if (element == null) {\n    console.error(\"Bokeh: ERROR: autoload.js configured with elementid '1001' but no matching script tag was found. \")\n    return false;\n  }\n\n  function inject_raw_css(css) {\n    const element = document.createElement(\"style\");\n    element.appendChild(document.createTextNode(css));\n    document.body.appendChild(element);\n  }\n\n  var js_urls = [\"https://cdn.pydata.org/bokeh/release/bokeh-1.2.0.min.js\", \"https://cdn.pydata.org/bokeh/release/bokeh-widgets-1.2.0.min.js\", \"https://cdn.pydata.org/bokeh/release/bokeh-tables-1.2.0.min.js\", \"https://cdn.pydata.org/bokeh/release/bokeh-gl-1.2.0.min.js\"];\n  var css_urls = [\"https://cdn.pydata.org/bokeh/release/bokeh-1.2.0.min.css\", \"https://cdn.pydata.org/bokeh/release/bokeh-widgets-1.2.0.min.css\", \"https://cdn.pydata.org/bokeh/release/bokeh-tables-1.2.0.min.css\"];\n\n  var inline_js = [\n    function(Bokeh) {\n      Bokeh.set_log_level(\"info\");\n    },\n    \n    function(Bokeh) {\n      \n    },\n    function(Bokeh) {} // ensure no trailing comma for IE\n  ];\n\n  function run_inline_js() {\n    \n    if ((root.Bokeh !== undefined) || (force === true)) {\n      for (var i = 0; i < inline_js.length; i++) {\n        inline_js[i].call(root, root.Bokeh);\n      }if (force === true) {\n        display_loaded();\n      }} else if (Date.now() < root._bokeh_timeout) {\n      setTimeout(run_inline_js, 100);\n    } else if (!root._bokeh_failed_load) {\n      console.log(\"Bokeh: BokehJS failed to load within specified timeout.\");\n      root._bokeh_failed_load = true;\n    } else if (force !== true) {\n      var cell = $(document.getElementById(\"1001\")).parents('.cell').data().cell;\n      cell.output_area.append_execute_result(NB_LOAD_WARNING)\n    }\n\n  }\n\n  if (root._bokeh_is_loading === 0) {\n    console.debug(\"Bokeh: BokehJS loaded, going straight to plotting\");\n    run_inline_js();\n  } else {\n    load_libs(css_urls, js_urls, function() {\n      console.debug(\"Bokeh: BokehJS plotting callback run at\", now());\n      run_inline_js();\n    });\n  }\n}(window));"
     },
     "metadata": {},
     "output_type": "display_data"
    }
   ],
   "source": [
    "from bokeh.io import show, output_notebook\n",
    "from bokeh.layouts import gridplot\n",
    "from bokeh.models.scales import LogScale\n",
    "output_notebook()"
   ]
  },
  {
   "cell_type": "code",
   "execution_count": 4,
   "metadata": {},
   "outputs": [],
   "source": [
    "import pandas as pd"
   ]
  },
  {
   "cell_type": "markdown",
   "metadata": {},
   "source": [
    "## Load FarGen data\n",
    "\n",
    "Use high-quality variants."
   ]
  },
  {
   "cell_type": "code",
   "execution_count": 5,
   "metadata": {},
   "outputs": [],
   "source": [
    "BASE_DIR = '/home/olavur/experiments/2020-11-13_fargen1_exome_analysis'\n",
    "mt = hl.read_matrix_table(BASE_DIR + '/data/mt/high_quality_variants.mt')"
   ]
  },
  {
   "cell_type": "code",
   "execution_count": 6,
   "metadata": {},
   "outputs": [
    {
     "name": "stdout",
     "output_type": "stream",
     "text": [
      "Number of variants: 1146382\n",
      "Number of samples: 468\n"
     ]
    }
   ],
   "source": [
    "n_variants, n_samples = mt.count()\n",
    "print('Number of variants: ' + str(n_variants))\n",
    "print('Number of samples: ' + str(n_samples))"
   ]
  },
  {
   "cell_type": "markdown",
   "metadata": {},
   "source": [
    "## Population filters\n",
    "\n",
    "Apply HWE filter to remove potential genotyping errors. Note that if we use a stringent HWE filter we risk removing evidence of population structure from our data. Therefore, we shall use a lenient filter, only removing variants with very strong deviation from HWE at $p<10^{-9}$."
   ]
  },
  {
   "cell_type": "code",
   "execution_count": 6,
   "metadata": {},
   "outputs": [],
   "source": [
    "mt = mt.annotate_rows(hwe=hl.agg.hardy_weinberg_test(mt.GT))\n",
    "mt = mt.filter_rows(mt.hwe.p_value > 1e-9)"
   ]
  },
  {
   "cell_type": "markdown",
   "metadata": {},
   "source": [
    "To filter rare variants, we first must calculate the minor allele frequency."
   ]
  },
  {
   "cell_type": "code",
   "execution_count": 7,
   "metadata": {},
   "outputs": [],
   "source": [
    "# The number of alleles at the site is the sum of the ploidy at each site.\n",
    "# This number should be twice the number of samples.\n",
    "# If there are missing genotype calls, the number of alleles will be less.\n",
    "AN_exprs = hl.agg.sum(mt.GT.ploidy)\n",
    "mt = mt.annotate_rows(AN=AN_exprs)\n",
    "\n",
    "# Calculate the number of alternate alleles at each site.\n",
    "AC_exprs = hl.agg.sum(mt.GT.n_alt_alleles())\n",
    "mt = mt.annotate_rows(AC=AC_exprs)\n",
    "\n",
    "# Calculate the alternate allele frequency.\n",
    "mt = mt.annotate_rows(AF=mt.AC / mt.AN)"
   ]
  },
  {
   "cell_type": "markdown",
   "metadata": {},
   "source": [
    "Remove variants with minor allele frequency under 0.01. Note that we remove only very rare variants, because common variants can be insufficient to describe fine-scale population structure at a subpopulation scale."
   ]
  },
  {
   "cell_type": "code",
   "execution_count": 8,
   "metadata": {},
   "outputs": [],
   "source": [
    "maf_filter = 0.01\n",
    "mt = mt.filter_rows((mt.AF > maf_filter) & (mt.AF < (1 - maf_filter)))"
   ]
  },
  {
   "cell_type": "markdown",
   "metadata": {},
   "source": [
    "## Filter indels\n",
    "\n",
    "Remove all indels from the dataset.\n",
    "\n",
    "**NOTE:** this code only works because there are only diallelic sites. If there were multi-allelic sites, I would have to check all allele pairs."
   ]
  },
  {
   "cell_type": "code",
   "execution_count": 9,
   "metadata": {},
   "outputs": [],
   "source": [
    "mt = mt.filter_rows(hl.is_snp(mt.alleles[0], mt.alleles[1]))"
   ]
  },
  {
   "cell_type": "markdown",
   "metadata": {},
   "source": [
    "## LD pruning\n",
    "\n",
    "Before we calculate LD, we remove multi-allelic sites.\n",
    "\n",
    "**NOTE:** I can do LD pruning on multi-allelic sites using [split_multi()](https://hail.is/docs/0.2/methods/genetics.html#hail.methods.split_multi)."
   ]
  },
  {
   "cell_type": "code",
   "execution_count": 10,
   "metadata": {},
   "outputs": [],
   "source": [
    "mt = mt.filter_rows(hl.len(mt.alleles) == 2)"
   ]
  },
  {
   "cell_type": "markdown",
   "metadata": {},
   "source": [
    "Prune variants with $r^2 > 0.2$ within a 500 000 basepair window.\n",
    "\n",
    "**NOTE:** this $r^2$ value is quite arbitrary. It is the default from the Hail method and I did not try other values."
   ]
  },
  {
   "cell_type": "code",
   "execution_count": 11,
   "metadata": {},
   "outputs": [
    {
     "name": "stderr",
     "output_type": "stream",
     "text": [
      "2021-06-15 12:07:25 Hail: INFO: ld_prune: running local pruning stage with max queue size of 401850 variants\n",
      "2021-06-15 12:07:39 Hail: INFO: wrote table with 84041 rows in 37 partitions to /home/olavur/tmp/Z1cRyg3S0j88Mrm40mXXiY\n",
      "    Total size: 2.06 MiB\n",
      "    * Rows: 2.06 MiB\n",
      "    * Globals: 11.00 B\n",
      "    * Smallest partition: 1048 rows (25.28 KiB)\n",
      "    * Largest partition:  2875 rows (72.31 KiB)\n",
      "2021-06-15 12:07:56 Hail: INFO: Wrote all 21 blocks of 84041 x 468 matrix with block size 4096.\n",
      "2021-06-15 12:10:09 Hail: INFO: wrote table with 185 rows in 41 partitions to /home/olavur/tmp/7iwLMorU7fyciApDaFz59F\n",
      "    Total size: 856.50 KiB\n",
      "    * Rows: 4.88 KiB\n",
      "    * Globals: 851.62 KiB\n",
      "    * Smallest partition: 0 rows (21.00 B)\n",
      "    * Largest partition:  22 rows (461.00 B)\n"
     ]
    }
   ],
   "source": [
    "pruned_variant_table = hl.ld_prune(mt.GT, r2=0.2, bp_window_size=500000)\n",
    "mt = mt.filter_rows(hl.is_defined(pruned_variant_table[mt.row_key]))"
   ]
  },
  {
   "cell_type": "markdown",
   "metadata": {},
   "source": [
    "Make a checkpoint, caching all operations done on the matrix table."
   ]
  },
  {
   "cell_type": "code",
   "execution_count": 12,
   "metadata": {},
   "outputs": [],
   "source": [
    "if False:\n",
    "    mt = mt.checkpoint('/home/olavur/tmp/ld_pruned.ht')\n",
    "else:\n",
    "    mt = hl.read_matrix_table('/home/olavur/tmp/ld_pruned.ht')"
   ]
  },
  {
   "cell_type": "code",
   "execution_count": 13,
   "metadata": {},
   "outputs": [
    {
     "name": "stdout",
     "output_type": "stream",
     "text": [
      "Number of variants: 83887\n",
      "Number of samples: 468\n"
     ]
    }
   ],
   "source": [
    "n_variants, n_samples = mt.count()\n",
    "print('Number of variants: ' + str(n_variants))\n",
    "print('Number of samples: ' + str(n_samples))"
   ]
  },
  {
   "cell_type": "markdown",
   "metadata": {},
   "source": [
    "This may be a lot of variants to run a PCA analysis on, but as mentioned previously, we do not want to remove too many rare variants as these can hold a lot of information about fine-scale population structure."
   ]
  },
  {
   "cell_type": "markdown",
   "metadata": {},
   "source": [
    "## Annotate birth place region\n",
    "\n",
    "Import data containing the birthplace ID of all FarGen participants. We will annotate the matrix table with these IDs.\n",
    "\n",
    "First we read a table containing the birthplace but with the 'RIN' participant ID. We will have to map this 'RIN' ID to an 'FN' ID."
   ]
  },
  {
   "cell_type": "code",
   "execution_count": 14,
   "metadata": {},
   "outputs": [
    {
     "name": "stderr",
     "output_type": "stream",
     "text": [
      "2021-06-15 12:10:10 Hail: INFO: Reading table without type imputation\n",
      "  Loading field 'ind' as type str (not specified)\n",
      "  Loading field 'region' as type str (not specified)\n"
     ]
    }
   ],
   "source": [
    "rin_birthplace_ht = hl.import_table(BASE_DIR + '/data/metadata/birthplace/rin_region.csv', delimiter=',')\n",
    "# Rename \"ind\" to \"rin\".\n",
    "# Convert the region variable to float.\n",
    "rin_birthplace_ht = rin_birthplace_ht.transmute(rin=rin_birthplace_ht.ind, birthplace=hl.float64(rin_birthplace_ht.region))\n",
    "\n",
    "rin_birthplace_ht = rin_birthplace_ht.key_by(rin_birthplace_ht.rin)"
   ]
  },
  {
   "cell_type": "markdown",
   "metadata": {},
   "source": [
    "Import table with 'RIN' IDs and corresponding 'FN' IDs."
   ]
  },
  {
   "cell_type": "code",
   "execution_count": 15,
   "metadata": {},
   "outputs": [
    {
     "name": "stderr",
     "output_type": "stream",
     "text": [
      "2021-06-15 12:10:10 Hail: WARN: Name collision: field 'sample' already in object dict. \n",
      "  This field must be referenced with __getitem__ syntax: obj['sample']\n",
      "2021-06-15 12:10:10 Hail: INFO: Reading table without type imputation\n",
      "  Loading field 'rin' as type str (not specified)\n",
      "  Loading field 'sample' as type str (not specified)\n"
     ]
    }
   ],
   "source": [
    "fargen_rin_ht = hl.import_table(BASE_DIR + '/data/metadata/birthplace/fargen_rin_samplename.csv', delimiter=',')\n",
    "fargen_rin_ht = fargen_rin_ht.key_by(fargen_rin_ht.rin)"
   ]
  },
  {
   "cell_type": "markdown",
   "metadata": {},
   "source": [
    "Make a table with 'RIN', 'FN' and birthplace."
   ]
  },
  {
   "cell_type": "code",
   "execution_count": 16,
   "metadata": {},
   "outputs": [],
   "source": [
    "# Annotate the table with the birthplace by the samplenames.\n",
    "samplename_birthplace_ht = rin_birthplace_ht.annotate(samplename=fargen_rin_ht[rin_birthplace_ht.rin].sample)\n",
    "samplename_birthplace_ht = samplename_birthplace_ht.key_by(samplename_birthplace_ht.samplename)"
   ]
  },
  {
   "cell_type": "markdown",
   "metadata": {},
   "source": [
    "Finally, we an annotate the matrix table with birthplace of samples."
   ]
  },
  {
   "cell_type": "code",
   "execution_count": 17,
   "metadata": {},
   "outputs": [],
   "source": [
    "mt = mt.annotate_cols(birthplace = samplename_birthplace_ht[mt.s].birthplace)"
   ]
  },
  {
   "cell_type": "markdown",
   "metadata": {},
   "source": [
    "Count the number of samples in each region. Note that `birthplace=6` means that we do not know the birthplace of the sample."
   ]
  },
  {
   "cell_type": "code",
   "execution_count": 18,
   "metadata": {},
   "outputs": [
    {
     "name": "stderr",
     "output_type": "stream",
     "text": [
      "2021-06-15 12:10:10 Hail: WARN: cols(): Resulting column table is sorted by 'col_key'.\n",
      "    To preserve matrix table column order, first unkey columns with 'key_cols_by()'\n",
      "2021-06-15 12:10:10 Hail: WARN: Name collision: field 'count' already in object dict. \n",
      "  This field must be referenced with __getitem__ syntax: obj['count']\n",
      "2021-06-15 12:10:11 Hail: INFO: Ordering unsorted dataset with network shuffle\n",
      "2021-06-15 12:10:11 Hail: INFO: Ordering unsorted dataset with network shuffle\n",
      "2021-06-15 12:10:14 Hail: INFO: Coerced sorted dataset\n",
      "2021-06-15 12:10:14 Hail: INFO: Coerced dataset with out-of-order partitions.\n"
     ]
    },
    {
     "data": {
      "text/html": [
       "<div>\n",
       "<style scoped>\n",
       "    .dataframe tbody tr th:only-of-type {\n",
       "        vertical-align: middle;\n",
       "    }\n",
       "\n",
       "    .dataframe tbody tr th {\n",
       "        vertical-align: top;\n",
       "    }\n",
       "\n",
       "    .dataframe thead th {\n",
       "        text-align: right;\n",
       "    }\n",
       "</style>\n",
       "<table border=\"1\" class=\"dataframe\">\n",
       "  <thead>\n",
       "    <tr style=\"text-align: right;\">\n",
       "      <th></th>\n",
       "      <th>birthplace</th>\n",
       "      <th>count</th>\n",
       "    </tr>\n",
       "  </thead>\n",
       "  <tbody>\n",
       "    <tr>\n",
       "      <th>0</th>\n",
       "      <td>1.0</td>\n",
       "      <td>69</td>\n",
       "    </tr>\n",
       "    <tr>\n",
       "      <th>1</th>\n",
       "      <td>2.0</td>\n",
       "      <td>99</td>\n",
       "    </tr>\n",
       "    <tr>\n",
       "      <th>2</th>\n",
       "      <td>3.0</td>\n",
       "      <td>177</td>\n",
       "    </tr>\n",
       "    <tr>\n",
       "      <th>3</th>\n",
       "      <td>4.0</td>\n",
       "      <td>28</td>\n",
       "    </tr>\n",
       "    <tr>\n",
       "      <th>4</th>\n",
       "      <td>5.0</td>\n",
       "      <td>17</td>\n",
       "    </tr>\n",
       "    <tr>\n",
       "      <th>5</th>\n",
       "      <td>6.0</td>\n",
       "      <td>34</td>\n",
       "    </tr>\n",
       "    <tr>\n",
       "      <th>6</th>\n",
       "      <td>NaN</td>\n",
       "      <td>44</td>\n",
       "    </tr>\n",
       "  </tbody>\n",
       "</table>\n",
       "</div>"
      ],
      "text/plain": [
       "   birthplace  count\n",
       "0         1.0     69\n",
       "1         2.0     99\n",
       "2         3.0    177\n",
       "3         4.0     28\n",
       "4         5.0     17\n",
       "5         6.0     34\n",
       "6         NaN     44"
      ]
     },
     "execution_count": 18,
     "metadata": {},
     "output_type": "execute_result"
    }
   ],
   "source": [
    "cols_ht = mt.cols()\n",
    "result = (cols_ht.group_by(cols_ht.birthplace)\n",
    "    .aggregate(count = hl.agg.count()))\n",
    "result.to_pandas()"
   ]
  },
  {
   "cell_type": "markdown",
   "metadata": {},
   "source": [
    "## Filter related individuals\n",
    "\n",
    "Estimate the relatedness between the samples by the PC-Relate method, with a minimum alternate allele frequency of 0.001."
   ]
  },
  {
   "cell_type": "code",
   "execution_count": 19,
   "metadata": {},
   "outputs": [
    {
     "name": "stderr",
     "output_type": "stream",
     "text": [
      "2021-06-15 12:10:17 Hail: INFO: hwe_normalized_pca: running PCA using 83887 variants.\n",
      "2021-06-15 12:10:18 Hail: INFO: pca: running PCA with 2 components...\n",
      "2021-06-15 12:10:46 Hail: INFO: Wrote all 21 blocks of 83887 x 468 matrix with block size 4096.\n"
     ]
    }
   ],
   "source": [
    "pc_rel = hl.pc_relate(mt.GT, 0.001, k=2, statistics='kin')"
   ]
  },
  {
   "cell_type": "markdown",
   "metadata": {},
   "source": [
    "Plot all the relatedness coefficients in a histogram to get an overview."
   ]
  },
  {
   "cell_type": "code",
   "execution_count": 20,
   "metadata": {},
   "outputs": [
    {
     "name": "stderr",
     "output_type": "stream",
     "text": [
      "2021-06-15 12:10:47 Hail: INFO: wrote matrix with 3 rows and 83887 columns as 21 blocks of size 4096 to /home/olavur/tmp/pcrelate-write-read-e25n1fSr0R4vAaQL80t2MY.bm\n",
      "2021-06-15 12:10:47 Hail: INFO: wrote matrix with 83887 rows and 468 columns as 21 blocks of size 4096 to /home/olavur/tmp/pcrelate-write-read-yLWrx5hKEPFZ5omcu7susr.bm\n",
      "2021-06-15 12:11:18 Hail: INFO: wrote matrix with 468 rows and 468 columns as 1 block of size 4096 to /home/olavur/tmp/pcrelate-write-read-oschpShlfYlA2pdxvaP1Sq.bm\n",
      "2021-06-15 12:11:49 Hail: INFO: wrote matrix with 468 rows and 468 columns as 1 block of size 4096 to /home/olavur/tmp/pcrelate-write-read-ddcESr9wsjbb10DVVCmF5s.bm\n",
      "2021-06-15 12:11:49 Hail: INFO: wrote matrix with 468 rows and 468 columns as 1 block of size 4096 to /home/olavur/tmp/pcrelate-write-read-xbGOQ1MRpyQEcP5elmGJQC.bm\n",
      "2021-06-15 12:11:49 Hail: INFO: Ordering unsorted dataset with network shuffle\n",
      "2021-06-15 12:11:51 Hail: INFO: wrote matrix with 3 rows and 83887 columns as 21 blocks of size 4096 to /home/olavur/tmp/pcrelate-write-read-ZKPTPXrojMpml1Old9pAUL.bm\n",
      "2021-06-15 12:11:51 Hail: INFO: wrote matrix with 83887 rows and 468 columns as 21 blocks of size 4096 to /home/olavur/tmp/pcrelate-write-read-YMvJ2Zh8gs0QqyzIBKuQ7s.bm\n",
      "2021-06-15 12:12:22 Hail: INFO: wrote matrix with 468 rows and 468 columns as 1 block of size 4096 to /home/olavur/tmp/pcrelate-write-read-yU3FrQviHNqfGFwUTlRpHx.bm\n",
      "2021-06-15 12:12:50 Hail: INFO: wrote matrix with 468 rows and 468 columns as 1 block of size 4096 to /home/olavur/tmp/pcrelate-write-read-wl7KzCpWcbBFxIhagLmpIs.bm\n",
      "2021-06-15 12:12:50 Hail: INFO: wrote matrix with 468 rows and 468 columns as 1 block of size 4096 to /home/olavur/tmp/pcrelate-write-read-L9km1ocBQnpHlQ856lw67t.bm\n",
      "2021-06-15 12:12:50 Hail: INFO: Ordering unsorted dataset with network shuffle\n"
     ]
    },
    {
     "data": {
      "text/html": [
       "\n",
       "\n",
       "\n",
       "\n",
       "\n",
       "\n",
       "  <div class=\"bk-root\" id=\"e876c390-fcec-41fd-8e0c-5f276bcedc8f\" data-root-id=\"1002\"></div>\n"
      ]
     },
     "metadata": {},
     "output_type": "display_data"
    },
    {
     "data": {
      "application/javascript": [
       "(function(root) {\n",
       "  function embed_document(root) {\n",
       "    \n",
       "  var docs_json = {\"cd9176cf-90cd-4a8d-811c-8be5c9f7d345\":{\"roots\":{\"references\":[{\"attributes\":{\"background_fill_color\":{\"value\":\"#EEEEEE\"},\"below\":[{\"id\":\"1013\",\"type\":\"LinearAxis\"}],\"center\":[{\"id\":\"1017\",\"type\":\"Grid\"},{\"id\":\"1022\",\"type\":\"Grid\"}],\"left\":[{\"id\":\"1018\",\"type\":\"LinearAxis\"}],\"renderers\":[{\"id\":\"1039\",\"type\":\"GlyphRenderer\"}],\"title\":{\"id\":\"1003\",\"type\":\"Title\"},\"toolbar\":{\"id\":\"1029\",\"type\":\"Toolbar\"},\"x_range\":{\"id\":\"1005\",\"type\":\"Range1d\"},\"x_scale\":{\"id\":\"1009\",\"type\":\"LinearScale\"},\"y_range\":{\"id\":\"1007\",\"type\":\"DataRange1d\"},\"y_scale\":{\"id\":\"1011\",\"type\":\"LinearScale\"}},\"id\":\"1002\",\"subtype\":\"Figure\",\"type\":\"Plot\"},{\"attributes\":{\"bottom\":{\"value\":0},\"fill_alpha\":{\"value\":0.1},\"fill_color\":{\"value\":\"#1f77b4\"},\"left\":{\"field\":\"left\"},\"line_alpha\":{\"value\":0.1},\"line_color\":{\"value\":\"#1f77b4\"},\"right\":{\"field\":\"right\"},\"top\":{\"field\":\"top\"}},\"id\":\"1038\",\"type\":\"Quad\"},{\"attributes\":{},\"id\":\"1019\",\"type\":\"BasicTicker\"},{\"attributes\":{},\"id\":\"1023\",\"type\":\"PanTool\"},{\"attributes\":{\"active_drag\":\"auto\",\"active_inspect\":\"auto\",\"active_multi\":null,\"active_scroll\":\"auto\",\"active_tap\":\"auto\",\"tools\":[{\"id\":\"1023\",\"type\":\"PanTool\"},{\"id\":\"1024\",\"type\":\"WheelZoomTool\"},{\"id\":\"1025\",\"type\":\"BoxZoomTool\"},{\"id\":\"1026\",\"type\":\"SaveTool\"},{\"id\":\"1027\",\"type\":\"ResetTool\"},{\"id\":\"1028\",\"type\":\"HelpTool\"}]},\"id\":\"1029\",\"type\":\"Toolbar\"},{\"attributes\":{\"axis_label\":\"Frequency\",\"formatter\":{\"id\":\"1045\",\"type\":\"BasicTickFormatter\"},\"ticker\":{\"id\":\"1019\",\"type\":\"BasicTicker\"}},\"id\":\"1018\",\"type\":\"LinearAxis\"},{\"attributes\":{\"bottom\":{\"value\":0},\"fill_color\":{\"value\":\"#1f77b4\"},\"left\":{\"field\":\"left\"},\"right\":{\"field\":\"right\"},\"top\":{\"field\":\"top\"}},\"id\":\"1037\",\"type\":\"Quad\"},{\"attributes\":{\"overlay\":{\"id\":\"1048\",\"type\":\"BoxAnnotation\"}},\"id\":\"1025\",\"type\":\"BoxZoomTool\"},{\"attributes\":{},\"id\":\"1009\",\"type\":\"LinearScale\"},{\"attributes\":{\"callback\":null,\"data\":{\"left\":[-0.11089768576039166,-0.09894369279306783,-0.08698969982574402,-0.07503570685842019,-0.06308171389109637,-0.051127720923772546,-0.03917372795644872,-0.027219734989124902,-0.015265742021801074,-0.003311749054477245,0.00864224391284657,0.0205962368801704,0.03255022984749423,0.044504222814818056,0.05645821578214186,0.06841220874946569,0.08036620171678951,0.09232019468411334,0.10427418765143717,0.11622818061876097,0.1281821735860848,0.14013616655340866,0.15209015952073246,0.16404415248805626,0.17599814545538012,0.18795213842270392,0.19990613139002777,0.21186012435735158,0.22381411732467538,0.23576811029199923,0.24772210325932303,0.2596760962266469,0.2716300891939707,0.2835840821612945,0.29553807512861835,0.30749206809594215,0.319446061063266,0.3314000540305898,0.3433540469979136,0.35530803996523747,0.36726203293256127,0.3792160258998851,0.391170018867209,0.4031240118345328,0.4150780048018566,0.4270319977691804,0.4389859907365042,0.4509399837038281,0.4628939766711519,0.4748479696384757],\"right\":[-0.09894369279306783,-0.08698969982574402,-0.07503570685842019,-0.06308171389109637,-0.051127720923772546,-0.03917372795644872,-0.027219734989124902,-0.015265742021801074,-0.003311749054477245,0.00864224391284657,0.0205962368801704,0.03255022984749423,0.044504222814818056,0.05645821578214186,0.06841220874946569,0.08036620171678951,0.09232019468411334,0.10427418765143717,0.11622818061876097,0.1281821735860848,0.14013616655340866,0.15209015952073246,0.16404415248805626,0.17599814545538012,0.18795213842270392,0.19990613139002777,0.21186012435735158,0.22381411732467538,0.23576811029199923,0.24772210325932303,0.2596760962266469,0.2716300891939707,0.2835840821612945,0.29553807512861835,0.30749206809594215,0.319446061063266,0.3314000540305898,0.3433540469979136,0.35530803996523747,0.36726203293256127,0.3792160258998851,0.391170018867209,0.4031240118345328,0.4150780048018566,0.4270319977691804,0.4389859907365042,0.4509399837038281,0.4628939766711519,0.4748479696384757,0.4868019626057995],\"top\":[1,1,0,0,0,4,26,333,36363,69542,2567,240,46,32,24,9,3,5,9,2,6,1,0,1,1,3,6,16,20,12,1,2,0,0,0,0,0,0,1,0,0,0,0,0,0,0,0,0,0,1]},\"selected\":{\"id\":\"1047\",\"type\":\"Selection\"},\"selection_policy\":{\"id\":\"1046\",\"type\":\"UnionRenderers\"}},\"id\":\"1036\",\"type\":\"ColumnDataSource\"},{\"attributes\":{},\"id\":\"1045\",\"type\":\"BasicTickFormatter\"},{\"attributes\":{\"source\":{\"id\":\"1036\",\"type\":\"ColumnDataSource\"}},\"id\":\"1040\",\"type\":\"CDSView\"},{\"attributes\":{},\"id\":\"1014\",\"type\":\"BasicTicker\"},{\"attributes\":{\"callback\":null,\"end\":0.5166869450241091,\"start\":-0.14078266817870122},\"id\":\"1005\",\"type\":\"Range1d\"},{\"attributes\":{\"text\":\"Histogram of kinship coefficient\"},\"id\":\"1003\",\"type\":\"Title\"},{\"attributes\":{},\"id\":\"1024\",\"type\":\"WheelZoomTool\"},{\"attributes\":{\"callback\":null},\"id\":\"1007\",\"type\":\"DataRange1d\"},{\"attributes\":{},\"id\":\"1028\",\"type\":\"HelpTool\"},{\"attributes\":{},\"id\":\"1026\",\"type\":\"SaveTool\"},{\"attributes\":{},\"id\":\"1046\",\"type\":\"UnionRenderers\"},{\"attributes\":{},\"id\":\"1047\",\"type\":\"Selection\"},{\"attributes\":{},\"id\":\"1043\",\"type\":\"BasicTickFormatter\"},{\"attributes\":{\"bottom_units\":\"screen\",\"fill_alpha\":{\"value\":0.5},\"fill_color\":{\"value\":\"lightgrey\"},\"left_units\":\"screen\",\"level\":\"overlay\",\"line_alpha\":{\"value\":1.0},\"line_color\":{\"value\":\"black\"},\"line_dash\":[4,4],\"line_width\":{\"value\":2},\"render_mode\":\"css\",\"right_units\":\"screen\",\"top_units\":\"screen\"},\"id\":\"1048\",\"type\":\"BoxAnnotation\"},{\"attributes\":{},\"id\":\"1011\",\"type\":\"LinearScale\"},{\"attributes\":{\"data_source\":{\"id\":\"1036\",\"type\":\"ColumnDataSource\"},\"glyph\":{\"id\":\"1037\",\"type\":\"Quad\"},\"hover_glyph\":null,\"muted_glyph\":null,\"nonselection_glyph\":{\"id\":\"1038\",\"type\":\"Quad\"},\"selection_glyph\":null,\"view\":{\"id\":\"1040\",\"type\":\"CDSView\"}},\"id\":\"1039\",\"type\":\"GlyphRenderer\"},{\"attributes\":{\"dimension\":1,\"ticker\":{\"id\":\"1019\",\"type\":\"BasicTicker\"}},\"id\":\"1022\",\"type\":\"Grid\"},{\"attributes\":{\"ticker\":{\"id\":\"1014\",\"type\":\"BasicTicker\"}},\"id\":\"1017\",\"type\":\"Grid\"},{\"attributes\":{},\"id\":\"1027\",\"type\":\"ResetTool\"},{\"attributes\":{\"formatter\":{\"id\":\"1043\",\"type\":\"BasicTickFormatter\"},\"ticker\":{\"id\":\"1014\",\"type\":\"BasicTicker\"}},\"id\":\"1013\",\"type\":\"LinearAxis\"}],\"root_ids\":[\"1002\"]},\"title\":\"Bokeh Application\",\"version\":\"1.2.0\"}};\n",
       "  var render_items = [{\"docid\":\"cd9176cf-90cd-4a8d-811c-8be5c9f7d345\",\"roots\":{\"1002\":\"e876c390-fcec-41fd-8e0c-5f276bcedc8f\"}}];\n",
       "  root.Bokeh.embed.embed_items_notebook(docs_json, render_items);\n",
       "\n",
       "  }\n",
       "  if (root.Bokeh !== undefined) {\n",
       "    embed_document(root);\n",
       "  } else {\n",
       "    var attempts = 0;\n",
       "    var timer = setInterval(function(root) {\n",
       "      if (root.Bokeh !== undefined) {\n",
       "        embed_document(root);\n",
       "        clearInterval(timer);\n",
       "      }\n",
       "      attempts++;\n",
       "      if (attempts > 100) {\n",
       "        console.log(\"Bokeh: ERROR: Unable to run BokehJS code because BokehJS library is missing\");\n",
       "        clearInterval(timer);\n",
       "      }\n",
       "    }, 10, root)\n",
       "  }\n",
       "})(window);"
      ],
      "application/vnd.bokehjs_exec.v0+json": ""
     },
     "metadata": {
      "application/vnd.bokehjs_exec.v0+json": {
       "id": "1002"
      }
     },
     "output_type": "display_data"
    }
   ],
   "source": [
    "p = hl.plot.histogram(pc_rel.kin, title='Histogram of kinship coefficient')\n",
    "show(p)"
   ]
  },
  {
   "cell_type": "markdown",
   "metadata": {},
   "source": [
    "**FIXME:** why did I used $2^{-3}$? If this is like the kinship coefficients I'm used to, the cutoff for second degree relationships is $2^{-4}$."
   ]
  },
  {
   "cell_type": "code",
   "execution_count": 21,
   "metadata": {},
   "outputs": [],
   "source": [
    "pairs = pc_rel.filter(pc_rel['kin'] > 2**(-4))"
   ]
  },
  {
   "cell_type": "markdown",
   "metadata": {},
   "source": [
    "Then we find the maximal independent set, consistent of the samples to remove."
   ]
  },
  {
   "cell_type": "code",
   "execution_count": 22,
   "metadata": {},
   "outputs": [
    {
     "name": "stderr",
     "output_type": "stream",
     "text": [
      "2021-06-15 12:12:52 Hail: INFO: wrote matrix with 3 rows and 83887 columns as 21 blocks of size 4096 to /home/olavur/tmp/pcrelate-write-read-4DyFtqloLa80JNpOymKr1V.bm\n",
      "2021-06-15 12:12:52 Hail: INFO: wrote matrix with 83887 rows and 468 columns as 21 blocks of size 4096 to /home/olavur/tmp/pcrelate-write-read-x0s73o6PgkIQkMGPH22ChJ.bm\n",
      "2021-06-15 12:13:19 Hail: INFO: wrote matrix with 468 rows and 468 columns as 1 block of size 4096 to /home/olavur/tmp/pcrelate-write-read-W1aTjFjpjea06QgzmXwKOL.bm\n",
      "2021-06-15 12:13:49 Hail: INFO: wrote matrix with 468 rows and 468 columns as 1 block of size 4096 to /home/olavur/tmp/pcrelate-write-read-ZOHlNAYw1UEQHlw9433tOQ.bm\n",
      "2021-06-15 12:13:49 Hail: INFO: wrote matrix with 468 rows and 468 columns as 1 block of size 4096 to /home/olavur/tmp/pcrelate-write-read-uvDZGcAdoQDE38iRQ0ZPDs.bm\n",
      "2021-06-15 12:13:49 Hail: INFO: Ordering unsorted dataset with network shuffle\n",
      "2021-06-15 12:13:50 Hail: INFO: wrote table with 104 rows in 1 partition to /home/olavur/tmp/yzkPGt8TpYn4C5CPOZcdTS\n",
      "    Total size: 1.08 KiB\n",
      "    * Rows: 1.06 KiB\n",
      "    * Globals: 11.00 B\n",
      "    * Smallest partition: 104 rows (1.06 KiB)\n",
      "    * Largest partition:  104 rows (1.06 KiB)\n"
     ]
    }
   ],
   "source": [
    "related_samples_to_remove = hl.maximal_independent_set(pairs.i, pairs.j, keep=False)"
   ]
  },
  {
   "cell_type": "markdown",
   "metadata": {},
   "source": [
    "Now we filter these individuals from the matrix table."
   ]
  },
  {
   "cell_type": "code",
   "execution_count": 23,
   "metadata": {},
   "outputs": [],
   "source": [
    "mt = mt.filter_cols(hl.is_defined(related_samples_to_remove[mt.col_key]), keep=False)"
   ]
  },
  {
   "cell_type": "markdown",
   "metadata": {},
   "source": [
    "Make a checkpoint, caching all operations done on the matrix table."
   ]
  },
  {
   "cell_type": "code",
   "execution_count": 33,
   "metadata": {},
   "outputs": [],
   "source": [
    "if False:\n",
    "    mt = mt.checkpoint('/home/olavur/tmp/rel_pruned.ht')\n",
    "else:\n",
    "    mt = hl.read_matrix_table('/home/olavur/tmp/rel_pruned.ht')"
   ]
  },
  {
   "cell_type": "code",
   "execution_count": 34,
   "metadata": {},
   "outputs": [
    {
     "name": "stdout",
     "output_type": "stream",
     "text": [
      "Number of variants: 83887\n",
      "Number of samples: 389\n"
     ]
    }
   ],
   "source": [
    "n_variants, n_samples = mt.count()\n",
    "print('Number of variants: ' + str(n_variants))\n",
    "print('Number of samples: ' + str(n_samples))"
   ]
  },
  {
   "cell_type": "markdown",
   "metadata": {},
   "source": [
    "## Compute PCA"
   ]
  },
  {
   "cell_type": "code",
   "execution_count": 35,
   "metadata": {},
   "outputs": [
    {
     "name": "stderr",
     "output_type": "stream",
     "text": [
      "2021-06-28 15:05:59 Hail: INFO: hwe_normalized_pca: running PCA using 83887 variants.\n",
      "2021-06-28 15:06:00 Hail: INFO: pca: running PCA with 4 components...\n"
     ]
    }
   ],
   "source": [
    "eigenvalues, scores, loadings = hl.hwe_normalized_pca(mt.GT, k=4)"
   ]
  },
  {
   "cell_type": "code",
   "execution_count": 36,
   "metadata": {},
   "outputs": [],
   "source": [
    "mt = mt.annotate_cols(scores = scores[mt.s].scores)"
   ]
  },
  {
   "cell_type": "code",
   "execution_count": 11,
   "metadata": {},
   "outputs": [
    {
     "data": {
      "text/html": [
       "\n",
       "\n",
       "\n",
       "\n",
       "\n",
       "\n",
       "  <div class=\"bk-root\" id=\"e8e1cd47-eae4-4050-a69c-ca62e6099780\" data-root-id=\"1002\"></div>\n"
      ]
     },
     "metadata": {},
     "output_type": "display_data"
    },
    {
     "data": {
      "application/javascript": [
       "(function(root) {\n",
       "  function embed_document(root) {\n",
       "    \n",
       "  var docs_json = {\"194f91c6-55ad-42ed-bb74-ab5fec4f8ee8\":{\"roots\":{\"references\":[{\"attributes\":{\"below\":[{\"id\":\"1013\",\"type\":\"LinearAxis\"}],\"center\":[{\"id\":\"1017\",\"type\":\"Grid\"},{\"id\":\"1022\",\"type\":\"Grid\"}],\"left\":[{\"id\":\"1018\",\"type\":\"LinearAxis\"},{\"id\":\"1089\",\"type\":\"Legend\"},{\"id\":\"1090\",\"type\":\"ColorBar\"}],\"plot_height\":600,\"plot_width\":800,\"renderers\":[{\"id\":\"1045\",\"type\":\"GlyphRenderer\"},{\"id\":\"1051\",\"type\":\"GlyphRenderer\"},{\"id\":\"1057\",\"type\":\"GlyphRenderer\"},{\"id\":\"1063\",\"type\":\"GlyphRenderer\"},{\"id\":\"1069\",\"type\":\"GlyphRenderer\"},{\"id\":\"1075\",\"type\":\"GlyphRenderer\"},{\"id\":\"1081\",\"type\":\"GlyphRenderer\"}],\"title\":{\"id\":\"1003\",\"type\":\"Title\"},\"toolbar\":{\"id\":\"1029\",\"type\":\"Toolbar\"},\"x_range\":{\"id\":\"1005\",\"type\":\"DataRange1d\"},\"x_scale\":{\"id\":\"1009\",\"type\":\"LinearScale\"},\"y_range\":{\"id\":\"1007\",\"type\":\"DataRange1d\"},\"y_scale\":{\"id\":\"1011\",\"type\":\"LinearScale\"}},\"id\":\"1002\",\"subtype\":\"Figure\",\"type\":\"Plot\"},{\"attributes\":{\"fill_color\":{\"field\":\"label\",\"transform\":{\"id\":\"1039\",\"type\":\"CategoricalColorMapper\"}},\"line_color\":{\"field\":\"label\",\"transform\":{\"id\":\"1039\",\"type\":\"CategoricalColorMapper\"}},\"x\":{\"field\":\"x\"},\"y\":{\"field\":\"y\"}},\"id\":\"1043\",\"type\":\"Circle\"},{\"attributes\":{\"filters\":[{\"id\":\"1052\",\"type\":\"GroupFilter\"}],\"source\":{\"id\":\"1038\",\"type\":\"ColumnDataSource\"}},\"id\":\"1053\",\"type\":\"CDSView\"},{\"attributes\":{},\"id\":\"1098\",\"type\":\"Selection\"},{\"attributes\":{},\"id\":\"1099\",\"type\":\"UnionRenderers\"},{\"attributes\":{\"fill_alpha\":{\"value\":0.1},\"fill_color\":{\"value\":\"#1f77b4\"},\"line_alpha\":{\"value\":0.1},\"line_color\":{\"value\":\"#1f77b4\"},\"x\":{\"field\":\"x\"},\"y\":{\"field\":\"y\"}},\"id\":\"1044\",\"type\":\"Circle\"},{\"attributes\":{\"callback\":null},\"id\":\"1007\",\"type\":\"DataRange1d\"},{\"attributes\":{\"data_source\":{\"id\":\"1038\",\"type\":\"ColumnDataSource\"},\"glyph\":{\"id\":\"1043\",\"type\":\"Circle\"},\"hover_glyph\":null,\"muted_glyph\":null,\"nonselection_glyph\":{\"id\":\"1044\",\"type\":\"Circle\"},\"selection_glyph\":null,\"view\":{\"id\":\"1041\",\"type\":\"CDSView\"}},\"id\":\"1045\",\"type\":\"GlyphRenderer\"},{\"attributes\":{\"data_source\":{\"id\":\"1038\",\"type\":\"ColumnDataSource\"},\"glyph\":{\"id\":\"1079\",\"type\":\"Circle\"},\"hover_glyph\":null,\"muted_glyph\":null,\"nonselection_glyph\":{\"id\":\"1080\",\"type\":\"Circle\"},\"selection_glyph\":null,\"view\":{\"id\":\"1077\",\"type\":\"CDSView\"}},\"id\":\"1081\",\"type\":\"GlyphRenderer\"},{\"attributes\":{\"active_drag\":\"auto\",\"active_inspect\":\"auto\",\"active_multi\":null,\"active_scroll\":\"auto\",\"active_tap\":\"auto\",\"tools\":[{\"id\":\"1023\",\"type\":\"PanTool\"},{\"id\":\"1024\",\"type\":\"WheelZoomTool\"},{\"id\":\"1025\",\"type\":\"BoxZoomTool\"},{\"id\":\"1026\",\"type\":\"SaveTool\"},{\"id\":\"1027\",\"type\":\"ResetTool\"},{\"id\":\"1028\",\"type\":\"HelpTool\"},{\"id\":\"1037\",\"type\":\"HoverTool\"}]},\"id\":\"1029\",\"type\":\"Toolbar\"},{\"attributes\":{\"label\":{\"value\":\"4.00000e+00\"},\"renderers\":[{\"id\":\"1063\",\"type\":\"GlyphRenderer\"}]},\"id\":\"1085\",\"type\":\"LegendItem\"},{\"attributes\":{\"filters\":[{\"id\":\"1040\",\"type\":\"GroupFilter\"}],\"source\":{\"id\":\"1038\",\"type\":\"ColumnDataSource\"}},\"id\":\"1041\",\"type\":\"CDSView\"},{\"attributes\":{\"fill_color\":{\"field\":\"label\",\"transform\":{\"id\":\"1039\",\"type\":\"CategoricalColorMapper\"}},\"line_color\":{\"field\":\"label\",\"transform\":{\"id\":\"1039\",\"type\":\"CategoricalColorMapper\"}},\"x\":{\"field\":\"x\"},\"y\":{\"field\":\"y\"}},\"id\":\"1079\",\"type\":\"Circle\"},{\"attributes\":{\"bottom_units\":\"screen\",\"fill_alpha\":{\"value\":0.5},\"fill_color\":{\"value\":\"lightgrey\"},\"left_units\":\"screen\",\"level\":\"overlay\",\"line_alpha\":{\"value\":1.0},\"line_color\":{\"value\":\"black\"},\"line_dash\":[4,4],\"line_width\":{\"value\":2},\"render_mode\":\"css\",\"right_units\":\"screen\",\"top_units\":\"screen\"},\"id\":\"1100\",\"type\":\"BoxAnnotation\"},{\"attributes\":{\"dimension\":1,\"ticker\":{\"id\":\"1019\",\"type\":\"BasicTicker\"}},\"id\":\"1022\",\"type\":\"Grid\"},{\"attributes\":{\"label\":{\"value\":\"5.00000e+00\"},\"renderers\":[{\"id\":\"1069\",\"type\":\"GlyphRenderer\"}]},\"id\":\"1086\",\"type\":\"LegendItem\"},{\"attributes\":{\"column_name\":\"label\",\"group\":\"4.00000e+00\"},\"id\":\"1058\",\"type\":\"GroupFilter\"},{\"attributes\":{\"data_source\":{\"id\":\"1038\",\"type\":\"ColumnDataSource\"},\"glyph\":{\"id\":\"1055\",\"type\":\"Circle\"},\"hover_glyph\":null,\"muted_glyph\":null,\"nonselection_glyph\":{\"id\":\"1056\",\"type\":\"Circle\"},\"selection_glyph\":null,\"view\":{\"id\":\"1053\",\"type\":\"CDSView\"}},\"id\":\"1057\",\"type\":\"GlyphRenderer\"},{\"attributes\":{},\"id\":\"1023\",\"type\":\"PanTool\"},{\"attributes\":{\"axis_label\":\"PC2\",\"formatter\":{\"id\":\"1093\",\"type\":\"BasicTickFormatter\"},\"ticker\":{\"id\":\"1019\",\"type\":\"BasicTicker\"}},\"id\":\"1018\",\"type\":\"LinearAxis\"},{\"attributes\":{\"label\":{\"value\":\"2.00000e+00\"},\"renderers\":[{\"id\":\"1051\",\"type\":\"GlyphRenderer\"}]},\"id\":\"1083\",\"type\":\"LegendItem\"},{\"attributes\":{\"label\":{\"value\":\"6.00000e+00\"},\"renderers\":[{\"id\":\"1075\",\"type\":\"GlyphRenderer\"}]},\"id\":\"1087\",\"type\":\"LegendItem\"},{\"attributes\":{},\"id\":\"1095\",\"type\":\"BasicTickFormatter\"},{\"attributes\":{},\"id\":\"1024\",\"type\":\"WheelZoomTool\"},{\"attributes\":{\"column_name\":\"label\",\"group\":\"NA\"},\"id\":\"1076\",\"type\":\"GroupFilter\"},{\"attributes\":{\"label\":{\"value\":\"1.00000e+00\"},\"renderers\":[{\"id\":\"1045\",\"type\":\"GlyphRenderer\"}]},\"id\":\"1082\",\"type\":\"LegendItem\"},{\"attributes\":{\"filters\":[{\"id\":\"1064\",\"type\":\"GroupFilter\"}],\"source\":{\"id\":\"1038\",\"type\":\"ColumnDataSource\"}},\"id\":\"1065\",\"type\":\"CDSView\"},{\"attributes\":{\"overlay\":{\"id\":\"1100\",\"type\":\"BoxAnnotation\"}},\"id\":\"1025\",\"type\":\"BoxZoomTool\"},{\"attributes\":{\"column_name\":\"label\",\"group\":\"1.00000e+00\"},\"id\":\"1040\",\"type\":\"GroupFilter\"},{\"attributes\":{\"color_mapper\":null,\"formatter\":{\"id\":\"1095\",\"type\":\"BasicTickFormatter\"},\"ticker\":{\"id\":\"1094\",\"type\":\"BasicTicker\"},\"visible\":false},\"id\":\"1090\",\"type\":\"ColorBar\"},{\"attributes\":{\"ticker\":{\"id\":\"1014\",\"type\":\"BasicTicker\"}},\"id\":\"1017\",\"type\":\"Grid\"},{\"attributes\":{},\"id\":\"1097\",\"type\":\"BasicTickFormatter\"},{\"attributes\":{\"data_source\":{\"id\":\"1038\",\"type\":\"ColumnDataSource\"},\"glyph\":{\"id\":\"1061\",\"type\":\"Circle\"},\"hover_glyph\":null,\"muted_glyph\":null,\"nonselection_glyph\":{\"id\":\"1062\",\"type\":\"Circle\"},\"selection_glyph\":null,\"view\":{\"id\":\"1059\",\"type\":\"CDSView\"}},\"id\":\"1063\",\"type\":\"GlyphRenderer\"},{\"attributes\":{\"label\":{\"value\":\"3.00000e+00\"},\"renderers\":[{\"id\":\"1057\",\"type\":\"GlyphRenderer\"}]},\"id\":\"1084\",\"type\":\"LegendItem\"},{\"attributes\":{},\"id\":\"1094\",\"type\":\"BasicTicker\"},{\"attributes\":{},\"id\":\"1009\",\"type\":\"LinearScale\"},{\"attributes\":{\"filters\":[{\"id\":\"1058\",\"type\":\"GroupFilter\"}],\"source\":{\"id\":\"1038\",\"type\":\"ColumnDataSource\"}},\"id\":\"1059\",\"type\":\"CDSView\"},{\"attributes\":{},\"id\":\"1027\",\"type\":\"ResetTool\"},{\"attributes\":{},\"id\":\"1019\",\"type\":\"BasicTicker\"},{\"attributes\":{\"fill_color\":{\"field\":\"label\",\"transform\":{\"id\":\"1039\",\"type\":\"CategoricalColorMapper\"}},\"line_color\":{\"field\":\"label\",\"transform\":{\"id\":\"1039\",\"type\":\"CategoricalColorMapper\"}},\"x\":{\"field\":\"x\"},\"y\":{\"field\":\"y\"}},\"id\":\"1049\",\"type\":\"Circle\"},{\"attributes\":{\"fill_alpha\":{\"value\":0.1},\"fill_color\":{\"value\":\"#1f77b4\"},\"line_alpha\":{\"value\":0.1},\"line_color\":{\"value\":\"#1f77b4\"},\"x\":{\"field\":\"x\"},\"y\":{\"field\":\"y\"}},\"id\":\"1074\",\"type\":\"Circle\"},{\"attributes\":{\"fill_alpha\":{\"value\":0.1},\"fill_color\":{\"value\":\"#1f77b4\"},\"line_alpha\":{\"value\":0.1},\"line_color\":{\"value\":\"#1f77b4\"},\"x\":{\"field\":\"x\"},\"y\":{\"field\":\"y\"}},\"id\":\"1080\",\"type\":\"Circle\"},{\"attributes\":{\"fill_alpha\":{\"value\":0.1},\"fill_color\":{\"value\":\"#1f77b4\"},\"line_alpha\":{\"value\":0.1},\"line_color\":{\"value\":\"#1f77b4\"},\"x\":{\"field\":\"x\"},\"y\":{\"field\":\"y\"}},\"id\":\"1062\",\"type\":\"Circle\"},{\"attributes\":{\"fill_alpha\":{\"value\":0.1},\"fill_color\":{\"value\":\"#1f77b4\"},\"line_alpha\":{\"value\":0.1},\"line_color\":{\"value\":\"#1f77b4\"},\"x\":{\"field\":\"x\"},\"y\":{\"field\":\"y\"}},\"id\":\"1068\",\"type\":\"Circle\"},{\"attributes\":{},\"id\":\"1026\",\"type\":\"SaveTool\"},{\"attributes\":{\"column_name\":\"label\",\"group\":\"2.00000e+00\"},\"id\":\"1046\",\"type\":\"GroupFilter\"},{\"attributes\":{\"column_name\":\"label\",\"group\":\"5.00000e+00\"},\"id\":\"1064\",\"type\":\"GroupFilter\"},{\"attributes\":{\"fill_alpha\":{\"value\":0.1},\"fill_color\":{\"value\":\"#1f77b4\"},\"line_alpha\":{\"value\":0.1},\"line_color\":{\"value\":\"#1f77b4\"},\"x\":{\"field\":\"x\"},\"y\":{\"field\":\"y\"}},\"id\":\"1056\",\"type\":\"Circle\"},{\"attributes\":{\"callback\":null,\"tooltips\":[[\"x\",\"@x\"],[\"y\",\"@y\"],[\"label\",\"@label\"]]},\"id\":\"1037\",\"type\":\"HoverTool\"},{\"attributes\":{\"data_source\":{\"id\":\"1038\",\"type\":\"ColumnDataSource\"},\"glyph\":{\"id\":\"1049\",\"type\":\"Circle\"},\"hover_glyph\":null,\"muted_glyph\":null,\"nonselection_glyph\":{\"id\":\"1050\",\"type\":\"Circle\"},\"selection_glyph\":null,\"view\":{\"id\":\"1047\",\"type\":\"CDSView\"}},\"id\":\"1051\",\"type\":\"GlyphRenderer\"},{\"attributes\":{\"label\":{\"value\":\"NA\"},\"renderers\":[{\"id\":\"1081\",\"type\":\"GlyphRenderer\"}]},\"id\":\"1088\",\"type\":\"LegendItem\"},{\"attributes\":{\"fill_alpha\":{\"value\":0.1},\"fill_color\":{\"value\":\"#1f77b4\"},\"line_alpha\":{\"value\":0.1},\"line_color\":{\"value\":\"#1f77b4\"},\"x\":{\"field\":\"x\"},\"y\":{\"field\":\"y\"}},\"id\":\"1050\",\"type\":\"Circle\"},{\"attributes\":{},\"id\":\"1028\",\"type\":\"HelpTool\"},{\"attributes\":{\"fill_color\":{\"field\":\"label\",\"transform\":{\"id\":\"1039\",\"type\":\"CategoricalColorMapper\"}},\"line_color\":{\"field\":\"label\",\"transform\":{\"id\":\"1039\",\"type\":\"CategoricalColorMapper\"}},\"x\":{\"field\":\"x\"},\"y\":{\"field\":\"y\"}},\"id\":\"1055\",\"type\":\"Circle\"},{\"attributes\":{\"column_name\":\"label\",\"group\":\"6.00000e+00\"},\"id\":\"1070\",\"type\":\"GroupFilter\"},{\"attributes\":{\"callback\":null},\"id\":\"1005\",\"type\":\"DataRange1d\"},{\"attributes\":{\"data_source\":{\"id\":\"1038\",\"type\":\"ColumnDataSource\"},\"glyph\":{\"id\":\"1067\",\"type\":\"Circle\"},\"hover_glyph\":null,\"muted_glyph\":null,\"nonselection_glyph\":{\"id\":\"1068\",\"type\":\"Circle\"},\"selection_glyph\":null,\"view\":{\"id\":\"1065\",\"type\":\"CDSView\"}},\"id\":\"1069\",\"type\":\"GlyphRenderer\"},{\"attributes\":{\"data_source\":{\"id\":\"1038\",\"type\":\"ColumnDataSource\"},\"glyph\":{\"id\":\"1073\",\"type\":\"Circle\"},\"hover_glyph\":null,\"muted_glyph\":null,\"nonselection_glyph\":{\"id\":\"1074\",\"type\":\"Circle\"},\"selection_glyph\":null,\"view\":{\"id\":\"1071\",\"type\":\"CDSView\"}},\"id\":\"1075\",\"type\":\"GlyphRenderer\"},{\"attributes\":{\"filters\":[{\"id\":\"1076\",\"type\":\"GroupFilter\"}],\"source\":{\"id\":\"1038\",\"type\":\"ColumnDataSource\"}},\"id\":\"1077\",\"type\":\"CDSView\"},{\"attributes\":{},\"id\":\"1093\",\"type\":\"BasicTickFormatter\"},{\"attributes\":{\"fill_color\":{\"field\":\"label\",\"transform\":{\"id\":\"1039\",\"type\":\"CategoricalColorMapper\"}},\"line_color\":{\"field\":\"label\",\"transform\":{\"id\":\"1039\",\"type\":\"CategoricalColorMapper\"}},\"x\":{\"field\":\"x\"},\"y\":{\"field\":\"y\"}},\"id\":\"1067\",\"type\":\"Circle\"},{\"attributes\":{},\"id\":\"1014\",\"type\":\"BasicTicker\"},{\"attributes\":{\"text\":\"PCA\"},\"id\":\"1003\",\"type\":\"Title\"},{\"attributes\":{\"fill_color\":{\"field\":\"label\",\"transform\":{\"id\":\"1039\",\"type\":\"CategoricalColorMapper\"}},\"line_color\":{\"field\":\"label\",\"transform\":{\"id\":\"1039\",\"type\":\"CategoricalColorMapper\"}},\"x\":{\"field\":\"x\"},\"y\":{\"field\":\"y\"}},\"id\":\"1061\",\"type\":\"Circle\"},{\"attributes\":{\"filters\":[{\"id\":\"1070\",\"type\":\"GroupFilter\"}],\"source\":{\"id\":\"1038\",\"type\":\"ColumnDataSource\"}},\"id\":\"1071\",\"type\":\"CDSView\"},{\"attributes\":{\"factors\":[\"1.00000e+00\",\"2.00000e+00\",\"3.00000e+00\",\"5.00000e+00\",\"6.00000e+00\",\"NA\",\"4.00000e+00\"],\"palette\":[\"#1f77b4\",\"#ff7f0e\",\"#2ca02c\",\"#d62728\",\"#9467bd\",\"#8c564b\",\"#e377c2\",\"#7f7f7f\",\"#bcbd22\",\"#17becf\"]},\"id\":\"1039\",\"type\":\"CategoricalColorMapper\"},{\"attributes\":{\"filters\":[{\"id\":\"1046\",\"type\":\"GroupFilter\"}],\"source\":{\"id\":\"1038\",\"type\":\"ColumnDataSource\"}},\"id\":\"1047\",\"type\":\"CDSView\"},{\"attributes\":{\"column_name\":\"label\",\"group\":\"3.00000e+00\"},\"id\":\"1052\",\"type\":\"GroupFilter\"},{\"attributes\":{\"axis_label\":\"PC1\",\"formatter\":{\"id\":\"1097\",\"type\":\"BasicTickFormatter\"},\"ticker\":{\"id\":\"1014\",\"type\":\"BasicTicker\"}},\"id\":\"1013\",\"type\":\"LinearAxis\"},{\"attributes\":{\"callback\":null,\"data\":{\"index\":[0,1,2,3,4,5,6,7,8,9,10,11,12,13,14,15,16,17,18,19,20,21,22,23,24,25,26,27,28,29,30,31,32,33,34,35,36,37,38,39,40,41,42,43,44,45,46,47,48,49,50,51,52,53,54,55,56,57,58,59,60,61,62,63,64,65,66,67,68,69,70,71,72,73,74,75,76,77,78,79,80,81,82,83,84,85,86,87,88,89,90,91,92,93,94,95,96,97,98,99,100,101,102,103,104,105,106,107,108,109,110,111,112,113,114,115,116,117,118,119,120,121,122,123,124,125,126,127,128,129,130,131,132,133,134,135,136,137,138,139,140,141,142,143,144,145,146,147,148,149,150,151,152,153,154,155,156,157,158,159,160,161,162,163,164,165,166,167,168,169,170,171,172,173,174,175,176,177,178,179,180,181,182,183,184,185,186,187,188,189,190,191,192,193,194,195,196,197,198,199,200,201,202,203,204,205,206,207,208,209,210,211,212,213,214,215,216,217,218,219,220,221,222,223,224,225,226,227,228,229,230,231,232,233,234,235,236,237,238,239,240,241,242,243,244,245,246,247,248,249,250,251,252,253,254,255,256,257,258,259,260,261,262,263,264,265,266,267,268,269,270,271,272,273,274,275,276,277,278,279,280,281,282,283,284,285,286,287,288,289,290,291,292,293,294,295,296,297,298,299,300,301,302,303,304,305,306,307,308,309,310,311,312,313,314,315,316,317,318,319,320,321,322,323,324,325,326,327,328,329,330,331,332,333,334,335,336,337,338,339,340,341,342,343,344,345,346,347,348,349,350,351,352,353,354,355,356,357,358,359,360,361,362,363,364,365,366,367,368,369,370,371,372,373,374,375,376,377,378,379],\"label\":[\"5.00000e+00\",\"5.00000e+00\",\"3.00000e+00\",\"5.00000e+00\",\"3.00000e+00\",\"NA\",\"1.00000e+00\",\"3.00000e+00\",\"5.00000e+00\",\"NA\",\"2.00000e+00\",\"4.00000e+00\",\"5.00000e+00\",\"6.00000e+00\",\"3.00000e+00\",\"NA\",\"4.00000e+00\",\"1.00000e+00\",\"3.00000e+00\",\"3.00000e+00\",\"NA\",\"NA\",\"6.00000e+00\",\"NA\",\"1.00000e+00\",\"4.00000e+00\",\"3.00000e+00\",\"3.00000e+00\",\"1.00000e+00\",\"6.00000e+00\",\"3.00000e+00\",\"2.00000e+00\",\"2.00000e+00\",\"3.00000e+00\",\"6.00000e+00\",\"2.00000e+00\",\"1.00000e+00\",\"3.00000e+00\",\"3.00000e+00\",\"4.00000e+00\",\"2.00000e+00\",\"4.00000e+00\",\"5.00000e+00\",\"3.00000e+00\",\"1.00000e+00\",\"2.00000e+00\",\"1.00000e+00\",\"3.00000e+00\",\"2.00000e+00\",\"NA\",\"4.00000e+00\",\"4.00000e+00\",\"3.00000e+00\",\"3.00000e+00\",\"6.00000e+00\",\"3.00000e+00\",\"3.00000e+00\",\"5.00000e+00\",\"NA\",\"1.00000e+00\",\"5.00000e+00\",\"3.00000e+00\",\"6.00000e+00\",\"1.00000e+00\",\"NA\",\"3.00000e+00\",\"3.00000e+00\",\"6.00000e+00\",\"3.00000e+00\",\"3.00000e+00\",\"2.00000e+00\",\"3.00000e+00\",\"3.00000e+00\",\"3.00000e+00\",\"3.00000e+00\",\"3.00000e+00\",\"3.00000e+00\",\"NA\",\"2.00000e+00\",\"4.00000e+00\",\"2.00000e+00\",\"3.00000e+00\",\"2.00000e+00\",\"2.00000e+00\",\"4.00000e+00\",\"2.00000e+00\",\"3.00000e+00\",\"2.00000e+00\",\"NA\",\"3.00000e+00\",\"1.00000e+00\",\"1.00000e+00\",\"4.00000e+00\",\"3.00000e+00\",\"3.00000e+00\",\"2.00000e+00\",\"2.00000e+00\",\"1.00000e+00\",\"6.00000e+00\",\"3.00000e+00\",\"3.00000e+00\",\"3.00000e+00\",\"2.00000e+00\",\"2.00000e+00\",\"2.00000e+00\",\"2.00000e+00\",\"3.00000e+00\",\"3.00000e+00\",\"6.00000e+00\",\"5.00000e+00\",\"2.00000e+00\",\"NA\",\"3.00000e+00\",\"3.00000e+00\",\"3.00000e+00\",\"1.00000e+00\",\"4.00000e+00\",\"3.00000e+00\",\"2.00000e+00\",\"3.00000e+00\",\"4.00000e+00\",\"2.00000e+00\",\"4.00000e+00\",\"2.00000e+00\",\"6.00000e+00\",\"5.00000e+00\",\"6.00000e+00\",\"3.00000e+00\",\"4.00000e+00\",\"1.00000e+00\",\"3.00000e+00\",\"4.00000e+00\",\"5.00000e+00\",\"3.00000e+00\",\"1.00000e+00\",\"3.00000e+00\",\"1.00000e+00\",\"NA\",\"3.00000e+00\",\"3.00000e+00\",\"3.00000e+00\",\"6.00000e+00\",\"NA\",\"2.00000e+00\",\"1.00000e+00\",\"3.00000e+00\",\"1.00000e+00\",\"3.00000e+00\",\"1.00000e+00\",\"6.00000e+00\",\"5.00000e+00\",\"3.00000e+00\",\"3.00000e+00\",\"3.00000e+00\",\"2.00000e+00\",\"1.00000e+00\",\"2.00000e+00\",\"3.00000e+00\",\"1.00000e+00\",\"2.00000e+00\",\"NA\",\"1.00000e+00\",\"2.00000e+00\",\"3.00000e+00\",\"3.00000e+00\",\"3.00000e+00\",\"5.00000e+00\",\"6.00000e+00\",\"NA\",\"4.00000e+00\",\"NA\",\"2.00000e+00\",\"3.00000e+00\",\"2.00000e+00\",\"6.00000e+00\",\"3.00000e+00\",\"1.00000e+00\",\"6.00000e+00\",\"3.00000e+00\",\"3.00000e+00\",\"3.00000e+00\",\"3.00000e+00\",\"3.00000e+00\",\"6.00000e+00\",\"2.00000e+00\",\"2.00000e+00\",\"2.00000e+00\",\"3.00000e+00\",\"3.00000e+00\",\"3.00000e+00\",\"4.00000e+00\",\"2.00000e+00\",\"1.00000e+00\",\"2.00000e+00\",\"3.00000e+00\",\"3.00000e+00\",\"3.00000e+00\",\"3.00000e+00\",\"2.00000e+00\",\"3.00000e+00\",\"3.00000e+00\",\"1.00000e+00\",\"2.00000e+00\",\"3.00000e+00\",\"1.00000e+00\",\"NA\",\"3.00000e+00\",\"2.00000e+00\",\"2.00000e+00\",\"2.00000e+00\",\"4.00000e+00\",\"6.00000e+00\",\"2.00000e+00\",\"3.00000e+00\",\"3.00000e+00\",\"3.00000e+00\",\"3.00000e+00\",\"3.00000e+00\",\"3.00000e+00\",\"2.00000e+00\",\"2.00000e+00\",\"1.00000e+00\",\"3.00000e+00\",\"1.00000e+00\",\"3.00000e+00\",\"1.00000e+00\",\"2.00000e+00\",\"1.00000e+00\",\"1.00000e+00\",\"3.00000e+00\",\"3.00000e+00\",\"2.00000e+00\",\"3.00000e+00\",\"1.00000e+00\",\"2.00000e+00\",\"3.00000e+00\",\"3.00000e+00\",\"6.00000e+00\",\"5.00000e+00\",\"4.00000e+00\",\"6.00000e+00\",\"NA\",\"3.00000e+00\",\"2.00000e+00\",\"2.00000e+00\",\"2.00000e+00\",\"3.00000e+00\",\"3.00000e+00\",\"3.00000e+00\",\"4.00000e+00\",\"NA\",\"2.00000e+00\",\"1.00000e+00\",\"3.00000e+00\",\"3.00000e+00\",\"3.00000e+00\",\"2.00000e+00\",\"3.00000e+00\",\"3.00000e+00\",\"3.00000e+00\",\"6.00000e+00\",\"2.00000e+00\",\"3.00000e+00\",\"1.00000e+00\",\"3.00000e+00\",\"2.00000e+00\",\"1.00000e+00\",\"NA\",\"2.00000e+00\",\"2.00000e+00\",\"1.00000e+00\",\"2.00000e+00\",\"3.00000e+00\",\"6.00000e+00\",\"3.00000e+00\",\"2.00000e+00\",\"3.00000e+00\",\"3.00000e+00\",\"1.00000e+00\",\"3.00000e+00\",\"3.00000e+00\",\"2.00000e+00\",\"3.00000e+00\",\"6.00000e+00\",\"3.00000e+00\",\"6.00000e+00\",\"1.00000e+00\",\"3.00000e+00\",\"1.00000e+00\",\"2.00000e+00\",\"2.00000e+00\",\"2.00000e+00\",\"3.00000e+00\",\"6.00000e+00\",\"2.00000e+00\",\"3.00000e+00\",\"1.00000e+00\",\"3.00000e+00\",\"4.00000e+00\",\"1.00000e+00\",\"5.00000e+00\",\"2.00000e+00\",\"3.00000e+00\",\"NA\",\"2.00000e+00\",\"2.00000e+00\",\"2.00000e+00\",\"3.00000e+00\",\"3.00000e+00\",\"1.00000e+00\",\"2.00000e+00\",\"3.00000e+00\",\"1.00000e+00\",\"6.00000e+00\",\"3.00000e+00\",\"3.00000e+00\",\"6.00000e+00\",\"1.00000e+00\",\"NA\",\"3.00000e+00\",\"6.00000e+00\",\"2.00000e+00\",\"1.00000e+00\",\"3.00000e+00\",\"1.00000e+00\",\"3.00000e+00\",\"3.00000e+00\",\"3.00000e+00\",\"2.00000e+00\",\"3.00000e+00\",\"3.00000e+00\",\"3.00000e+00\",\"1.00000e+00\",\"3.00000e+00\",\"3.00000e+00\",\"3.00000e+00\",\"5.00000e+00\",\"3.00000e+00\",\"1.00000e+00\",\"2.00000e+00\",\"3.00000e+00\",\"2.00000e+00\",\"3.00000e+00\",\"2.00000e+00\",\"2.00000e+00\",\"1.00000e+00\",\"2.00000e+00\",\"6.00000e+00\",\"3.00000e+00\",\"NA\",\"1.00000e+00\",\"6.00000e+00\",\"3.00000e+00\",\"1.00000e+00\",\"2.00000e+00\",\"3.00000e+00\",\"3.00000e+00\",\"NA\",\"3.00000e+00\",\"3.00000e+00\",\"3.00000e+00\",\"NA\",\"2.00000e+00\",\"3.00000e+00\",\"NA\",\"3.00000e+00\",\"NA\",\"NA\",\"1.00000e+00\",\"1.00000e+00\",\"1.00000e+00\",\"3.00000e+00\",\"6.00000e+00\",\"3.00000e+00\",\"3.00000e+00\",\"3.00000e+00\",\"NA\",\"NA\",\"3.00000e+00\",\"3.00000e+00\"],\"x\":{\"__ndarray__\":\"l4NuiuMR67+YlizqYv3nvzZOVcqwLee/Tg3JQ1I45L9Qlvoe1DOyv9slp0qpcLC/NNm6h71br7+NUs6yzm2qvwzlMZ1Dg6e/Aq6j6szHp7+WXGil5+SmvxIoe3QOkaa/BdmvjXFmpb+3XlqUCJOlvwOYA+WYk6S/ApzQgTI1pL+WMF5TP5ekv8OnIEdMy6S/TZX7U2l6o7+pykwpv2+iv6+j5fmLlKG/S0CMZVXgoL9VA3XRZFGhv/3xh7c+HKG/vJtDFmHvoL+0A3qh7bCgv98yR/fAdJ+/2gkch+Jan7+7GrZYc1egv05WuRn+jJ6/mH3OCWQynb96U8YJ/jSev6XWHgX1Mpy/aHJaXxB2m7/Sr4+cu/Sbv+WTTe42f5y/7SYjHsDDm7803CL/GESav0dzymRD4Ze/3HeXmZD/mL9iGFqCHJWXv8bpEpcA9Ze/J3twR1Xblr9ieMjK5kKXv4tq2piuy5W/CmM02iXelL+1wdFZznCUv3Peg7ahk5S/ACJxn/Dok78GjYzBmj6Uv0Y8v4+5O5W/391MwhKDlb+qXxLq0aqSvwF1MmZQupK/LRm8IwAXk7/MmTEFc4iTv8IY3xsSE5K/sJ0GodwHk7+RdnF2op+Tv7R9iOe3K5O/3b4uj7fikL/GZ0q+pZ6Qv9UlGwaPSJC/stXx7Ed9kL89Yvb7VPOQv66uBpodm5C/7RPF+vDPkL+vODwmUa+Nv8eLVT1Z8oy/TG4m9qtzj79mXTRhZRyNv8qzN95C04y/hdpxd7Wjjb8iK2/An/+Pv04AVT4MdI2/l4SK99eWir/W+N7lg16Mv4jYRpPRJoy/Chsg5Uheib/ftdPLilqLv/lgmesJf4u/H/dqgvCdir8l/pKtQJmJv71gQNfRbou/o6PotWi0i7+zvbn8d5uGv+ElN+2dDoi/Zkifc6qFiL9q1Ct1vTWIv0pqcObln4e/8kagGGizhr9hOF4j3nCDv9V2UPgqIIW/TTtKIoa0hL+2I0Kp0pqEvwUXu63QfoO/6JJVtL2igb/3Hy84aK2Dv3b/RIeZVYG/qLOmtDEPf7/VgUUfkc+Av7dlqC/XjX2/29FeCWXbf7+vvPl4b2qBv2P+pw/uS4G/s6RzV2rqfb/tfevbl9d/v5Lu2312DHW/FJKce6oCer8hIKVAc3J0vySV39NTfXi/moF5WOQpdr8mlcAhhHx4v85TWrxSzXi/H+rvRWwaer8HuAPjFf10v6+ciCP2xXK/jaIGdBmaab+v4EN/oOlrv+cgyt+CmHO/yycrgtN2cL8GIj9ZdcpvvzRwBq4CGW6/LnH8cb5dXr933AGOA+xgv7PLaPaoe2S/2cPNQC8cYr9HMs/QzAZpv5woZg9LiWS/V46tTZ6JWr+/PdB97xlnv1RB/rRA+GO/q8WMr4cYPz8bAXpydfo2vw6PA2HWgDw/nl7S7tpgCT/pnSS6vchHvz+0tTO9Tki/jUqsZyNZYj8kX3m3XbBiPz/Cdu5DJlI/NzP6kX4DYD8Cy8jdM/tTP/T+Bkd05lA/bg8a21bYXj/TpS/jiHFAP6DGOnj7jVI/qc1+guFzWD+fHsBbAq5VP43Nn9hynW0/gt0pBe0sYz8bGpE6hD5wP/Xf8TyxUWk/iE0gL9EDbj89Z2VAtXRtP25y+QM692c/wsf3L9tVYz8IsKIOV+ZkP0X3ltIFiWs/9WkImgnwaT/p4YP34MhnP+aBrhQhYnA/A8AcPE/wbz/g84Bu2JBtP3S4s3STeHE/G7F8OxltdT9m7AFmMdlxPzgcX4s0IHY/MZqRRYV9cj840eFldAhzP3nw88dAD3U/RZBysCqbcz/Gm776whBzP4+NiWVlPXc/TCfI2gB+ej8WwTbevLx7PwfwlTTEhn4/UxJqIsUJfz8wvwWrYsJ6P/90CfN5Rng/5qRwOsFkeT/FzWTET0SCP6QNQt1r9YE/U2EMgpaXgj+IcM31OoSDP3N6FywQaYM/JuBlc3OPgj9ghYfw04uCPz/4z5ruF4A/AAn/Dwu5fz8mtJdGjWCBP9t8AlSk7YE/cucWpj/YgD9WEpYu89d/P2K5KzjtdoE/kzYNxLfBhT/B/xg/ZCyFP6Hkgq0JV4U/vcZXmTbqgz9oQbfHnWKFP27C1eho94U/fXdxYX8Hhj8q6aiapzuGP9yL8SaMK4U/vxkfaPFKhj/duVwfHlKEPzC/0SYleIQ/egEWzU7Ugz8hE9XU2/uEPzsJbM/twYY/FxAEUHFUij97QdKnfuWJP3LXduqSw4g/p8ll920AiD/qtLbFW/eIP5eCDabBmYo/LO+GFDC2ij+N4ozP/GOIPyExx4JKUIc/aKm53iLqhz9iuQJ1s9eIP93Pd5Xf1Yc/v4An7OsVjT9v3v20mYmMP+5KohtvSIs/PgMa33z5ij+hi39VP52LP792YLA2FI0/zyTxf/OgjD9HXcnSGraMPy4fvfDsd4s/UM/f/Kkriz+aehV8ceuLP9cQG1NrVo0/7c3JMWcRjj+2v+ioDjSNP55Ml/LcWI0/UAL3xr9OkD+BrbBf+KCQP1Z8EaJXwZA/SSbIQuXBjj80Z2L3VxSQP5Wrtry18ZA//VaTAAsgjz9F4pvrCvePPy9B3P7J9JA/0aIe2MAmkT91949uWfyQP0dLfAZjUpA/5Lhg9YWZjz/RF2VqNjmQP5UUJryqFZE/cPuK3hTqjz+NypWDdhaSP+E4rrtpmpE/zd4x4PhQkT8HNPu12RiSPxicUs2ZW5E/Q4xvdLHgkT+q6vfCwZ6RPy/r2+rTP5I/qkKuAvVpkT8itbp2c7KUP0dwbI/vI5Q/0devx5QJkz8oF0EsU9eTP6tBQF3fvZU/zZri+Mq8lT9NUL1btd6VP0lIi45cuZU/w/YTxM+llj9Y61+hPFmWP0jz7y7pIZc/ZBybNUcwmD+SxgQcYNOWP7yzaUjPIJg/jsqInj+qlz/JDO38UEiYP5qGDEHzzJY/jRhbjdhIlz92BRyad+uWP878wf/h65c/NQvVatBAmj/F9uP9lTiaPxA8WhKY3Zg/slk18NTimT/YM8qbaLOYP1xSIUjOfJk/3qP1KTU7mj9Dj514ZGmaP29dq1cFEJk/j5zTulLEmD9EVdXVmJuaP43AQ1uhF5s/gCdO5dq+mj/N0454yx6bP8Unv0i9y5s/ACdUG/BPmz8RrSYXj/GaP0Bh25y8OZs//m+R5AB7mj8VKUO1gMOaP41UzvS5kpw/Cth2m5vlnT95ghW2xZGcP9CPA60nIp4/bGXMfLDznD/9NUCudSCdP6KV44irzpw/JMC8uSMBnj8eTlY9nTWdP/HAFswRNJ4/K24jlrlonz+W8zKJY8ueP/OSOcFdHJ8/xJtng7Munj9pRfLsLnKfPylgggbnVp4/3rh3kq4loD/iTBqRiESgP3KxS4VU3aA/pP3MALKjoD+EFDJpbi+gPxL1JUW+LKA/YpK1g/cooD/MASk9CbOhPzj+2uaBw6E/yOAZ6RsaoT9ssvn1V0+hP6z3OQmrH6E/u7ShxskToT8rm1m89NehP5Sjm59RLqE/+ao27coOoT9Jf9oxPuuhPzPWpNA1MaM/MX2TStn+oj9Hx/15qeWiPxR2KCGwPqM/p54mLCajoz96+pVjbD+jP04ujGDe+aI/p6XrYZLVoj9SZXMRgtaiP82CAUjxyqI/aaYL83t6oz/IxrPuN0+kP5BCS5SjLqQ/ludZd4C2oz+9ZtOito+kPzLwfAkUMqQ/uqYLp/O6pD/b418A3rakP1RbX88Je6U/1StZ0a7BpD89AuVgDaOkPwtc87NZ6KQ/XkBzDn1MpT90PaqdTZalP73EXngAXKY/VOjivy0Upj8o2cLi/PSmP3FF/bilg6Y/BMoFD/QTqD+wlPqoJBuoPwjw34QQ9Kc/FaYfxfpeqD/PGV+jz4WoPxqkcBQEjak/yWXhCVa8qT+0TmZ1nuqpPwGdtIQ5Bqs/2T2ar3jlrD8hZqVrTOisP861JxjV5aw/8RmPF3oPrT+WGpjgTjStP0GevaDap60/elI6BzPjrT/JE0QGfFiuPw==\",\"dtype\":\"float64\",\"shape\":[380]},\"y\":{\"__ndarray__\":\"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\",\"dtype\":\"float64\",\"shape\":[380]}},\"selected\":{\"id\":\"1098\",\"type\":\"Selection\"},\"selection_policy\":{\"id\":\"1099\",\"type\":\"UnionRenderers\"}},\"id\":\"1038\",\"type\":\"ColumnDataSource\"},{\"attributes\":{\"fill_color\":{\"field\":\"label\",\"transform\":{\"id\":\"1039\",\"type\":\"CategoricalColorMapper\"}},\"line_color\":{\"field\":\"label\",\"transform\":{\"id\":\"1039\",\"type\":\"CategoricalColorMapper\"}},\"x\":{\"field\":\"x\"},\"y\":{\"field\":\"y\"}},\"id\":\"1073\",\"type\":\"Circle\"},{\"attributes\":{},\"id\":\"1011\",\"type\":\"LinearScale\"},{\"attributes\":{\"click_policy\":\"hide\",\"items\":[{\"id\":\"1082\",\"type\":\"LegendItem\"},{\"id\":\"1083\",\"type\":\"LegendItem\"},{\"id\":\"1084\",\"type\":\"LegendItem\"},{\"id\":\"1085\",\"type\":\"LegendItem\"},{\"id\":\"1086\",\"type\":\"LegendItem\"},{\"id\":\"1087\",\"type\":\"LegendItem\"},{\"id\":\"1088\",\"type\":\"LegendItem\"}]},\"id\":\"1089\",\"type\":\"Legend\"}],\"root_ids\":[\"1002\"]},\"title\":\"Bokeh Application\",\"version\":\"1.2.0\"}};\n",
       "  var render_items = [{\"docid\":\"194f91c6-55ad-42ed-bb74-ab5fec4f8ee8\",\"roots\":{\"1002\":\"e8e1cd47-eae4-4050-a69c-ca62e6099780\"}}];\n",
       "  root.Bokeh.embed.embed_items_notebook(docs_json, render_items);\n",
       "\n",
       "  }\n",
       "  if (root.Bokeh !== undefined) {\n",
       "    embed_document(root);\n",
       "  } else {\n",
       "    var attempts = 0;\n",
       "    var timer = setInterval(function(root) {\n",
       "      if (root.Bokeh !== undefined) {\n",
       "        embed_document(root);\n",
       "        clearInterval(timer);\n",
       "      }\n",
       "      attempts++;\n",
       "      if (attempts > 100) {\n",
       "        console.log(\"Bokeh: ERROR: Unable to run BokehJS code because BokehJS library is missing\");\n",
       "        clearInterval(timer);\n",
       "      }\n",
       "    }, 10, root)\n",
       "  }\n",
       "})(window);"
      ],
      "application/vnd.bokehjs_exec.v0+json": ""
     },
     "metadata": {
      "application/vnd.bokehjs_exec.v0+json": {
       "id": "1002"
      }
     },
     "output_type": "display_data"
    }
   ],
   "source": [
    "p = hl.plot.scatter(mt.scores[0],\n",
    "                    mt.scores[1],\n",
    "                    label=hl.str(mt.birthplace),\n",
    "                    title='PCA', xlabel='PC1', ylabel='PC2')\n",
    "p.plot_width = 800\n",
    "p.plot_height = 600\n",
    "show(p)"
   ]
  },
  {
   "cell_type": "markdown",
   "metadata": {},
   "source": [
    "Above are the two first principal components plotted against eachother. Note that there are four outlier samples. These outliers may be due to the quality of these samples, so we shall invesigate them closer below.\n",
    "\n",
    "As we see below, there seems to be nothing abnormal about these four samples. They may therefore potentially be *ancestry outliers*."
   ]
  },
  {
   "cell_type": "code",
   "execution_count": 21,
   "metadata": {},
   "outputs": [],
   "source": [
    "mt = mt.annotate_cols(pc1_outliers = (mt.scores[0] < -0.4))"
   ]
  },
  {
   "cell_type": "code",
   "execution_count": 22,
   "metadata": {},
   "outputs": [],
   "source": [
    "exprs_list = [('# heterozygotes', mt.sample_qc.n_het), ('Ti/Tv rate', mt.sample_qc.r_ti_tv), ('Call rate', mt.sample_qc.call_rate), ('# singletons', mt.sample_qc.n_singleton)]\n",
    "plot_list = []\n",
    "for name, exprs in exprs_list:\n",
    "    p = hl.plot.scatter(mt.sample_qc.dp_stats.mean, exprs, label=mt.pc1_outliers, xlabel='DP mean', ylabel=name, legend=False)\n",
    "    p.plot_width = 800\n",
    "    p.plot_height = 500\n",
    "    plot_list.append(p)"
   ]
  },
  {
   "cell_type": "code",
   "execution_count": 23,
   "metadata": {},
   "outputs": [
    {
     "data": {
      "text/html": [
       "\n",
       "\n",
       "\n",
       "\n",
       "\n",
       "\n",
       "  <div class=\"bk-root\" id=\"eb806a99-712a-468c-a1f5-a3fc96e54c62\" data-root-id=\"3134\"></div>\n"
      ]
     },
     "metadata": {},
     "output_type": "display_data"
    },
    {
     "data": {
      "application/javascript": [
       "(function(root) {\n",
       "  function embed_document(root) {\n",
       "    \n",
       "  var docs_json = {\"3da9b142-3d07-42d7-9aac-c4f9516a240a\":{\"roots\":{\"references\":[{\"attributes\":{\"children\":[{\"id\":\"3133\",\"type\":\"ToolbarBox\"},{\"id\":\"3131\",\"type\":\"GridBox\"}]},\"id\":\"3134\",\"type\":\"Column\"},{\"attributes\":{\"below\":[{\"id\":\"2938\",\"type\":\"LinearAxis\"}],\"center\":[{\"id\":\"2942\",\"type\":\"Grid\"},{\"id\":\"2947\",\"type\":\"Grid\"}],\"left\":[{\"id\":\"2943\",\"type\":\"LinearAxis\"},{\"id\":\"2979\",\"type\":\"Legend\"},{\"id\":\"2980\",\"type\":\"ColorBar\"}],\"plot_height\":400,\"plot_width\":600,\"renderers\":[{\"id\":\"2970\",\"type\":\"GlyphRenderer\"},{\"id\":\"2976\",\"type\":\"GlyphRenderer\"}],\"title\":null,\"toolbar\":{\"id\":\"2954\",\"type\":\"Toolbar\"},\"toolbar_location\":null,\"x_range\":{\"id\":\"2930\",\"type\":\"DataRange1d\"},\"x_scale\":{\"id\":\"2934\",\"type\":\"LinearScale\"},\"y_range\":{\"id\":\"2932\",\"type\":\"DataRange1d\"},\"y_scale\":{\"id\":\"2936\",\"type\":\"LinearScale\"}},\"id\":\"2928\",\"subtype\":\"Figure\",\"type\":\"Plot\"},{\"attributes\":{},\"id\":\"3054\",\"type\":\"PanTool\"},{\"attributes\":{\"active_drag\":\"auto\",\"active_inspect\":\"auto\",\"active_multi\":null,\"active_scroll\":\"auto\",\"active_tap\":\"auto\",\"tools\":[{\"id\":\"2895\",\"type\":\"PanTool\"},{\"id\":\"2896\",\"type\":\"WheelZoomTool\"},{\"id\":\"2897\",\"type\":\"BoxZoomTool\"},{\"id\":\"2898\",\"type\":\"SaveTool\"},{\"id\":\"2899\",\"type\":\"ResetTool\"},{\"id\":\"2900\",\"type\":\"HelpTool\"},{\"id\":\"2909\",\"type\":\"HoverTool\"}]},\"id\":\"2901\",\"type\":\"Toolbar\"},{\"attributes\":{\"fill_alpha\":{\"value\":0.1},\"fill_color\":{\"value\":\"#1f77b4\"},\"line_alpha\":{\"value\":0.1},\"line_color\":{\"value\":\"#1f77b4\"},\"x\":{\"field\":\"x\"},\"y\":{\"field\":\"y\"}},\"id\":\"2916\",\"type\":\"Circle\"},{\"attributes\":{\"fill_alpha\":{\"value\":0.1},\"fill_color\":{\"value\":\"#1f77b4\"},\"line_alpha\":{\"value\":0.1},\"line_color\":{\"value\":\"#1f77b4\"},\"x\":{\"field\":\"x\"},\"y\":{\"field\":\"y\"}},\"id\":\"3075\",\"type\":\"Circle\"},{\"attributes\":{},\"id\":\"3104\",\"type\":\"BasicTickFormatter\"},{\"attributes\":{\"fill_color\":{\"field\":\"label\",\"transform\":{\"id\":\"2964\",\"type\":\"CategoricalColorMapper\"}},\"line_color\":{\"field\":\"label\",\"transform\":{\"id\":\"2964\",\"type\":\"CategoricalColorMapper\"}},\"x\":{\"field\":\"x\"},\"y\":{\"field\":\"y\"}},\"id\":\"2974\",\"type\":\"Circle\"},{\"attributes\":{},\"id\":\"2951\",\"type\":\"SaveTool\"},{\"attributes\":{},\"id\":\"3106\",\"type\":\"UnionRenderers\"},{\"attributes\":{\"dimension\":1,\"ticker\":{\"id\":\"3050\",\"type\":\"BasicTicker\"}},\"id\":\"3053\",\"type\":\"Grid\"},{\"attributes\":{\"bottom_units\":\"screen\",\"fill_alpha\":{\"value\":0.5},\"fill_color\":{\"value\":\"lightgrey\"},\"left_units\":\"screen\",\"level\":\"overlay\",\"line_alpha\":{\"value\":1.0},\"line_color\":{\"value\":\"black\"},\"line_dash\":[4,4],\"line_width\":{\"value\":2},\"render_mode\":\"css\",\"right_units\":\"screen\",\"top_units\":\"screen\"},\"id\":\"3118\",\"type\":\"BoxAnnotation\"},{\"attributes\":{\"column_name\":\"label\",\"group\":\"false\"},\"id\":\"2912\",\"type\":\"GroupFilter\"},{\"attributes\":{\"data_source\":{\"id\":\"3069\",\"type\":\"ColumnDataSource\"},\"glyph\":{\"id\":\"3074\",\"type\":\"Circle\"},\"hover_glyph\":null,\"muted_glyph\":null,\"nonselection_glyph\":{\"id\":\"3075\",\"type\":\"Circle\"},\"selection_glyph\":null,\"view\":{\"id\":\"3072\",\"type\":\"CDSView\"}},\"id\":\"3076\",\"type\":\"GlyphRenderer\"},{\"attributes\":{\"label\":{\"value\":\"false\"},\"renderers\":[{\"id\":\"2970\",\"type\":\"GlyphRenderer\"}]},\"id\":\"2977\",\"type\":\"LegendItem\"},{\"attributes\":{\"column_name\":\"label\",\"group\":\"false\"},\"id\":\"3071\",\"type\":\"GroupFilter\"},{\"attributes\":{},\"id\":\"3111\",\"type\":\"BasicTickFormatter\"},{\"attributes\":{\"ticker\":{\"id\":\"2886\",\"type\":\"BasicTicker\"}},\"id\":\"2889\",\"type\":\"Grid\"},{\"attributes\":{\"callback\":null},\"id\":\"3036\",\"type\":\"DataRange1d\"},{\"attributes\":{\"label\":{\"value\":\"false\"},\"renderers\":[{\"id\":\"3023\",\"type\":\"GlyphRenderer\"}]},\"id\":\"3030\",\"type\":\"LegendItem\"},{\"attributes\":{},\"id\":\"3050\",\"type\":\"BasicTicker\"},{\"attributes\":{\"below\":[{\"id\":\"2885\",\"type\":\"LinearAxis\"}],\"center\":[{\"id\":\"2889\",\"type\":\"Grid\"},{\"id\":\"2894\",\"type\":\"Grid\"}],\"left\":[{\"id\":\"2890\",\"type\":\"LinearAxis\"},{\"id\":\"2926\",\"type\":\"Legend\"},{\"id\":\"2927\",\"type\":\"ColorBar\"}],\"plot_height\":400,\"plot_width\":600,\"renderers\":[{\"id\":\"2917\",\"type\":\"GlyphRenderer\"},{\"id\":\"2923\",\"type\":\"GlyphRenderer\"}],\"title\":null,\"toolbar\":{\"id\":\"2901\",\"type\":\"Toolbar\"},\"toolbar_location\":null,\"x_range\":{\"id\":\"2877\",\"type\":\"DataRange1d\"},\"x_scale\":{\"id\":\"2881\",\"type\":\"LinearScale\"},\"y_range\":{\"id\":\"2879\",\"type\":\"DataRange1d\"},\"y_scale\":{\"id\":\"2883\",\"type\":\"LinearScale\"}},\"id\":\"2875\",\"subtype\":\"Figure\",\"type\":\"Plot\"},{\"attributes\":{\"active_drag\":\"auto\",\"active_inspect\":\"auto\",\"active_multi\":null,\"active_scroll\":\"auto\",\"active_tap\":\"auto\",\"tools\":[{\"id\":\"2948\",\"type\":\"PanTool\"},{\"id\":\"2949\",\"type\":\"WheelZoomTool\"},{\"id\":\"2950\",\"type\":\"BoxZoomTool\"},{\"id\":\"2951\",\"type\":\"SaveTool\"},{\"id\":\"2952\",\"type\":\"ResetTool\"},{\"id\":\"2953\",\"type\":\"HelpTool\"},{\"id\":\"2962\",\"type\":\"HoverTool\"}]},\"id\":\"2954\",\"type\":\"Toolbar\"},{\"attributes\":{},\"id\":\"2952\",\"type\":\"ResetTool\"},{\"attributes\":{\"callback\":null,\"data\":{\"index\":[0,1,2,3,4,5,6,7,8,9,10,11,12,13,14,15,16,17,18,19,20,21,22,23,24,25,26,27,28,29,30,31,32,33,34,35,36,37,38,39,40,41,42,43,44,45,46,47,48,49,50,51,52,53,54,55,56,57,58,59,60,61,62,63,64,65,66,67,68,69,70,71,72,73,74,75,76,77,78,79,80,81,82,83,84,85,86,87,88,89,90,91,92,93,94,95,96,97,98,99,100,101,102,103,104,105,106,107,108,109,110,111,112,113,114,115,116,117,118,119,120,121,122,123,124,125,126,127,128,129,130,131,132,133,134,135,136,137,138,139,140,141,142,143,144,145,146,147,148,149,150,151,152,153,154,155,156,157,158,159,160,161,162,163,164,165,166,167,168,169,170,171,172,173,174,175,176,177,178,179,180,181,182,183,184,185,186,187,188,189,190,191,192,193,194],\"label\":[\"false\",\"false\",\"false\",\"false\",\"false\",\"false\",\"false\",\"false\",\"false\",\"false\",\"false\",\"false\",\"false\",\"false\",\"false\",\"false\",\"false\",\"false\",\"false\",\"false\",\"false\",\"false\",\"false\",\"false\",\"false\",\"false\",\"false\",\"false\",\"false\",\"false\",\"false\",\"false\",\"false\",\"false\",\"false\",\"false\",\"false\",\"false\",\"false\",\"false\",\"false\",\"false\",\"false\",\"false\",\"false\",\"false\",\"false\",\"false\",\"false\",\"false\",\"false\",\"false\",\"false\",\"false\",\"false\",\"false\",\"false\",\"false\",\"false\",\"false\",\"false\",\"false\",\"false\",\"false\",\"false\",\"false\",\"false\",\"false\",\"false\",\"false\",\"false\",\"false\",\"false\",\"false\",\"false\",\"false\",\"false\",\"false\",\"false\",\"false\",\"false\",\"false\",\"false\",\"false\",\"false\",\"false\",\"false\",\"false\",\"false\",\"false\",\"false\",\"false\",\"false\",\"false\",\"false\",\"false\",\"false\",\"false\",\"false\",\"false\",\"false\",\"false\",\"false\",\"false\",\"false\",\"false\",\"false\",\"false\",\"false\",\"false\",\"false\",\"false\",\"false\",\"false\",\"false\",\"false\",\"false\",\"false\",\"false\",\"false\",\"false\",\"false\",\"false\",\"false\",\"false\",\"false\",\"false\",\"false\",\"false\",\"false\",\"false\",\"false\",\"false\",\"false\",\"false\",\"false\",\"false\",\"false\",\"false\",\"false\",\"false\",\"false\",\"false\",\"false\",\"false\",\"false\",\"false\",\"false\",\"false\",\"false\",\"false\",\"false\",\"false\",\"false\",\"false\",\"false\",\"false\",\"false\",\"false\",\"false\",\"false\",\"false\",\"false\",\"false\",\"false\",\"true\",\"false\",\"false\",\"false\",\"false\",\"false\",\"false\",\"false\",\"false\",\"false\",\"false\",\"true\",\"false\",\"false\",\"false\",\"false\",\"false\",\"false\",\"true\",\"false\",\"false\",\"false\",\"false\",\"false\",\"false\",\"false\",\"false\",\"false\",\"false\",\"false\"],\"x\":{\"__ndarray__\":\"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\",\"dtype\":\"float64\",\"shape\":[195]},\"y\":{\"__ndarray__\":\"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\",\"dtype\":\"float64\",\"shape\":[195]}},\"selected\":{\"id\":\"3116\",\"type\":\"Selection\"},\"selection_policy\":{\"id\":\"3117\",\"type\":\"UnionRenderers\"}},\"id\":\"3016\",\"type\":\"ColumnDataSource\"},{\"attributes\":{\"column_name\":\"label\",\"group\":\"true\"},\"id\":\"2971\",\"type\":\"GroupFilter\"},{\"attributes\":{\"callback\":null,\"tooltips\":[[\"x\",\"@x\"],[\"y\",\"@y\"],[\"label\",\"@label\"]]},\"id\":\"3068\",\"type\":\"HoverTool\"},{\"attributes\":{},\"id\":\"2895\",\"type\":\"PanTool\"},{\"attributes\":{},\"id\":\"2953\",\"type\":\"HelpTool\"},{\"attributes\":{\"fill_alpha\":{\"value\":0.1},\"fill_color\":{\"value\":\"#1f77b4\"},\"line_alpha\":{\"value\":0.1},\"line_color\":{\"value\":\"#1f77b4\"},\"x\":{\"field\":\"x\"},\"y\":{\"field\":\"y\"}},\"id\":\"2922\",\"type\":\"Circle\"},{\"attributes\":{\"filters\":[{\"id\":\"2971\",\"type\":\"GroupFilter\"}],\"source\":{\"id\":\"2963\",\"type\":\"ColumnDataSource\"}},\"id\":\"2972\",\"type\":\"CDSView\"},{\"attributes\":{},\"id\":\"2944\",\"type\":\"BasicTicker\"},{\"attributes\":{\"data_source\":{\"id\":\"2963\",\"type\":\"ColumnDataSource\"},\"glyph\":{\"id\":\"2968\",\"type\":\"Circle\"},\"hover_glyph\":null,\"muted_glyph\":null,\"nonselection_glyph\":{\"id\":\"2969\",\"type\":\"Circle\"},\"selection_glyph\":null,\"view\":{\"id\":\"2966\",\"type\":\"CDSView\"}},\"id\":\"2970\",\"type\":\"GlyphRenderer\"},{\"attributes\":{},\"id\":\"2987\",\"type\":\"LinearScale\"},{\"attributes\":{\"factors\":[\"false\",\"true\"],\"palette\":[\"#1f77b4\",\"#ff7f0e\",\"#2ca02c\",\"#d62728\",\"#9467bd\",\"#8c564b\",\"#e377c2\",\"#7f7f7f\",\"#bcbd22\",\"#17becf\"]},\"id\":\"3070\",\"type\":\"CategoricalColorMapper\"},{\"attributes\":{\"column_name\":\"label\",\"group\":\"true\"},\"id\":\"2918\",\"type\":\"GroupFilter\"},{\"attributes\":{\"overlay\":{\"id\":\"3107\",\"type\":\"BoxAnnotation\"}},\"id\":\"2950\",\"type\":\"BoxZoomTool\"},{\"attributes\":{},\"id\":\"3055\",\"type\":\"WheelZoomTool\"},{\"attributes\":{\"dimension\":1,\"ticker\":{\"id\":\"2944\",\"type\":\"BasicTicker\"}},\"id\":\"2947\",\"type\":\"Grid\"},{\"attributes\":{\"fill_alpha\":{\"value\":0.1},\"fill_color\":{\"value\":\"#1f77b4\"},\"line_alpha\":{\"value\":0.1},\"line_color\":{\"value\":\"#1f77b4\"},\"x\":{\"field\":\"x\"},\"y\":{\"field\":\"y\"}},\"id\":\"2969\",\"type\":\"Circle\"},{\"attributes\":{},\"id\":\"2891\",\"type\":\"BasicTicker\"},{\"attributes\":{\"ticker\":{\"id\":\"3045\",\"type\":\"BasicTicker\"}},\"id\":\"3048\",\"type\":\"Grid\"},{\"attributes\":{\"bottom_units\":\"screen\",\"fill_alpha\":{\"value\":0.5},\"fill_color\":{\"value\":\"lightgrey\"},\"left_units\":\"screen\",\"level\":\"overlay\",\"line_alpha\":{\"value\":1.0},\"line_color\":{\"value\":\"black\"},\"line_dash\":[4,4],\"line_width\":{\"value\":2},\"render_mode\":\"css\",\"right_units\":\"screen\",\"top_units\":\"screen\"},\"id\":\"3107\",\"type\":\"BoxAnnotation\"},{\"attributes\":{\"callback\":null},\"id\":\"3038\",\"type\":\"DataRange1d\"},{\"attributes\":{},\"id\":\"3112\",\"type\":\"BasicTicker\"},{\"attributes\":{\"column_name\":\"label\",\"group\":\"false\"},\"id\":\"2965\",\"type\":\"GroupFilter\"},{\"attributes\":{\"toolbar\":{\"id\":\"3132\",\"type\":\"ProxyToolbar\"},\"toolbar_location\":\"above\"},\"id\":\"3133\",\"type\":\"ToolbarBox\"},{\"attributes\":{\"axis_label\":\"# singletons\",\"formatter\":{\"id\":\"3122\",\"type\":\"BasicTickFormatter\"},\"ticker\":{\"id\":\"3050\",\"type\":\"BasicTicker\"}},\"id\":\"3049\",\"type\":\"LinearAxis\"},{\"attributes\":{\"axis_label\":\"# heterozygotes\",\"formatter\":{\"id\":\"3089\",\"type\":\"BasicTickFormatter\"},\"ticker\":{\"id\":\"2891\",\"type\":\"BasicTicker\"}},\"id\":\"2890\",\"type\":\"LinearAxis\"},{\"attributes\":{\"callback\":null,\"data\":{\"index\":[0,1,2,3,4,5,6,7,8,9,10,11,12,13,14,15,16,17,18,19,20,21,22,23,24,25,26,27,28,29,30,31,32,33,34,35,36,37,38,39,40,41,42,43,44,45,46,47,48,49,50,51,52,53,54,55,56,57,58,59,60,61,62,63,64,65,66,67,68,69,70,71,72,73,74,75,76,77,78,79,80,81,82,83,84,85,86,87,88,89,90,91,92,93,94,95,96,97,98,99,100,101,102,103,104,105,106,107,108,109,110,111,112,113,114,115,116,117,118,119,120,121,122,123,124,125,126,127,128,129,130,131,132,133,134,135,136,137,138,139,140,141,142,143,144,145,146,147,148,149,150,151,152,153,154,155,156,157,158,159,160,161,162,163,164,165,166,167,168,169,170,171,172,173,174,175,176,177,178,179,180,181,182,183,184,185,186,187,188,189,190,191,192,193,194,195,196,197,198,199,200,201,202,203,204,205,206,207,208,209,210,211,212,213,214,215,216,217,218,219,220,221,222,223,224,225,226,227,228,229,230,231,232,233,234,235,236,237,238,239,240,241,242,243,244,245,246,247,248,249,250,251,252,253,254,255,256,257,258,259,260,261,262,263,264,265,266,267,268,269,270,271,272,273,274,275,276,277,278,279,280,281,282,283,284,285,286,287,288,289,290,291,292,293,294,295,296,297,298,299,300,301,302,303,304,305,306,307,308,309,310,311,312,313,314,315,316,317,318,319,320,321,322,323,324,325,326,327,328,329,330,331,332,333,334,335,336,337,338,339,340,341,342,343,344,345,346,347,348,349,350,351,352,353,354,355,356,357,358,359,360,361,362,363,364,365,366,367,368,369,370,371,372,373,374,375],\"label\":[\"false\",\"false\",\"false\",\"false\",\"false\",\"false\",\"false\",\"false\",\"false\",\"false\",\"false\",\"false\",\"false\",\"false\",\"false\",\"false\",\"false\",\"false\",\"false\",\"false\",\"false\",\"false\",\"false\",\"false\",\"false\",\"false\",\"false\",\"false\",\"false\",\"false\",\"false\",\"false\",\"false\",\"false\",\"false\",\"false\",\"false\",\"false\",\"false\",\"false\",\"false\",\"false\",\"false\",\"false\",\"false\",\"false\",\"false\",\"false\",\"false\",\"false\",\"false\",\"false\",\"false\",\"false\",\"false\",\"false\",\"false\",\"false\",\"false\",\"false\",\"false\",\"false\",\"false\",\"false\",\"false\",\"false\",\"false\",\"false\",\"false\",\"false\",\"false\",\"false\",\"false\",\"false\",\"false\",\"false\",\"false\",\"false\",\"false\",\"false\",\"false\",\"false\",\"false\",\"false\",\"false\",\"false\",\"false\",\"false\",\"false\",\"false\",\"false\",\"false\",\"false\",\"false\",\"false\",\"false\",\"false\",\"false\",\"false\",\"false\",\"false\",\"false\",\"false\",\"false\",\"false\",\"false\",\"false\",\"false\",\"false\",\"false\",\"false\",\"false\",\"false\",\"false\",\"false\",\"false\",\"false\",\"false\",\"false\",\"false\",\"false\",\"false\",\"false\",\"false\",\"false\",\"false\",\"false\",\"false\",\"false\",\"false\",\"false\",\"false\",\"false\",\"false\",\"false\",\"false\",\"false\",\"false\",\"false\",\"false\",\"false\",\"false\",\"false\",\"false\",\"false\",\"false\",\"false\",\"false\",\"false\",\"false\",\"false\",\"false\",\"false\",\"false\",\"false\",\"false\",\"false\",\"false\",\"false\",\"false\",\"false\",\"false\",\"false\",\"false\",\"false\",\"false\",\"false\",\"false\",\"false\",\"false\",\"false\",\"false\",\"false\",\"false\",\"false\",\"false\",\"false\",\"false\",\"false\",\"false\",\"false\",\"false\",\"false\",\"false\",\"false\",\"false\",\"false\",\"false\",\"false\",\"false\",\"false\",\"false\",\"false\",\"false\",\"false\",\"false\",\"false\",\"false\",\"false\",\"false\",\"false\",\"false\",\"false\",\"false\",\"false\",\"false\",\"false\",\"false\",\"false\",\"false\",\"false\",\"false\",\"false\",\"false\",\"false\",\"false\",\"false\",\"false\",\"false\",\"false\",\"false\",\"false\",\"false\",\"false\",\"false\",\"false\",\"false\",\"false\",\"false\",\"false\",\"false\",\"false\",\"false\",\"false\",\"false\",\"false\",\"false\",\"false\",\"false\",\"false\",\"false\",\"false\",\"false\",\"false\",\"false\",\"false\",\"false\",\"false\",\"false\",\"false\",\"false\",\"false\",\"false\",\"false\",\"false\",\"false\",\"false\",\"false\",\"false\",\"false\",\"false\",\"false\",\"false\",\"false\",\"false\",\"false\",\"true\",\"false\",\"false\",\"false\",\"false\",\"false\",\"false\",\"false\",\"false\",\"false\",\"false\",\"false\",\"false\",\"false\",\"false\",\"false\",\"false\",\"false\",\"false\",\"false\",\"false\",\"false\",\"false\",\"false\",\"false\",\"false\",\"false\",\"false\",\"false\",\"false\",\"false\",\"false\",\"false\",\"false\",\"false\",\"false\",\"false\",\"false\",\"false\",\"false\",\"false\",\"false\",\"false\",\"false\",\"false\",\"false\",\"false\",\"false\",\"false\",\"false\",\"false\",\"false\",\"false\",\"false\",\"false\",\"false\",\"false\",\"false\",\"false\",\"false\",\"false\",\"false\",\"false\",\"false\",\"false\",\"false\",\"false\",\"false\",\"false\",\"false\",\"false\",\"false\",\"false\",\"false\",\"false\",\"false\",\"true\",\"false\",\"false\",\"false\",\"false\",\"false\",\"false\",\"false\",\"false\",\"false\",\"false\",\"false\",\"false\",\"false\",\"true\",\"false\",\"false\",\"false\",\"false\",\"false\",\"false\",\"false\",\"true\",\"false\",\"false\",\"false\",\"false\",\"false\",\"false\",\"false\",\"false\",\"false\",\"false\",\"false\"],\"x\":{\"__ndarray__\":\"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\",\"dtype\":\"float64\",\"shape\":[376]},\"y\":{\"__ndarray__\":\"veds8mdzAUCmebx2iK8AQPNvTf37MQBA/m9RcEgMAUA5Sb28EZABQBND9TiaBQFAzEwoeuMFAEAyYyklp8EAQMOTcBpzuwBA/dIoxnyVAEDNnq65/O8AQNRpbc0wvgBA+OYbzm7iAEADFlTG0bUAQFkmiYigRwBAdW7S+AIHAUC3pZb7gCsAQBDa5Il8TgBAOUWW3WxB/z9fz2a6j88AQC40nmsp8QBAwoRr5dZo/z/Yf76RaGEAQCFy7o2m8P8/Hx5491qXAEBX2VyDL34AQB2MvGlflABACWeyVUoDAUAuHQ1ngKsAQLl3gBu0IP8/m707no0lAEAN7AbmAzQAQEGDzAZjcgBAavv3UIeaAEDz+xVkTg0AQHCmWZp5WgBA2hYX5JaOAEAOEaYW3bAAQKeEe3HLyQBAdKFklhBeAEAGJUumRVYAQLPA8piYGgFARuxbezar/z/oZMgREV7/P1SDCkUPFwBAWZbNktJ4AEDFgdDR9tsAQPpp/dZpHQBAU9jYgC5fAEC9G5+5dHr/P2KdnQqrvP8/VED4cZQqAECVHhIjZZ8AQFJKpydwbgBAf9cYAGatAEAfLezdsp4AQP13CvuPRAFALPNXJMPE/z+ljIXeRwsBQI/X3dh1UgBAt3G87CiGAEDF753PtI8AQPsVxOzclwBA+qo4l70IAECvBU+dHYMAQA8ZTz+9U/8/+V10BjFl/z+6SQFWHGT/P0Iy5QxlPwBALm1Ao48MAECs9VlfTBQAQIFBjOpiYQBAnOn7rdqjAEBRe7bzTysAQF/8xr/GYgBAd+790Ac1AUBwyBO1uaL/P4vZzdziAABA53EaoYg8AEASnq9N/UoAQCOxM6CyYQBAWbwQAAtMAEB/UsxYRFUAQFbD9LCxbABA12Wxb+mHAEDm37imIcr/PzYDaJjvWwBAM0cjW3k+AUC93A3CDWgAQGtFq93rbv8/0Ofs8ESH/z+qUiZKMk0BQP11pQOzJgBAgF5SljM5AEBybcN4ekUAQMUJWY1u6wBAYTOE8Mh+AEBIyL9STFEBQNxWCdEK8P8/DDehrshDAUAE5E1zKgAAQHuKVuRoNgBA5QOLorizAED6vPOJIcwAQJoQ51FYIAFAHbbo1Wx8/z8DLGkkdtf/P4LPkUXkV/4/2S+qjufo/z8ONmGMGFYAQDBIZnTCIQFAESW1a5MJAEBUU2JGv9AAQLd+1yPKNwBAyGfgwmNGAEBQP92FTVkAQBIiUDGtQQFAv52ay58o/j+TluTmAer/PwKdYLj1jABA84Nm26ILAUA3AYQk0GYAQNTn++fviQBA+0ouzXvyAED5Rvchj/X/Pw74sVUbmwBAMjSDQyMjAEDtMBTCED8AQCfTE2L6dwBAfa/GCMj3AEB/gCpH6AcAQNoGJ2EFKgBA3zdzjlFhAEAYTeD4dnIAQCETVMLc6wBAZAXXWhINAEDoxFvsvrv+P8CdTAmzVAFA6+Mgumyj/z+1pYaok+T/PxNTNOxvzABAx1rUMEpTAEDc58AfSZQAQGzLf5BSFwFA4hignxGlAEC1N+QjvrsAQKL/N6a68/8/IZjiuSgUAEB9b/6gaD4AQNePHWBppABAn45ouB5vAEAwsJHZTeUAQJwe4a0VvwBA46Aq/qd//z+8uLms0QUAQCk9G8fPRQBAPyJqmpuJ/j+PhEcHra7/P2pFZp4zPQBA/uN8rBan/j+TZ07C+VUAQDJQnvsizABA9xiJ7AXaAEBJIa8hD8r/P+vCUY1/rwBAtPgQ6wX2/T/RMX/kLnoAQFXvEYRT2v4/VuKpEvYfAEDVfW89V4AAQDYAtOBZhwBAPpcvQf3eAEDmXI6LzAEAQNH9vepQFgBAW+OJHRxiAEB4Mmxuo+j/P2rGYXcAMQFAdiSv5Yd9/z8/3xShppT/P38Ds8RZqv8/rojK0PZB/z8jZeDp1uz/P8uBbDz7VwBAo+mdF7KqAECID3mSKxkAQBgcNHdOKQBAXFngF/v7/z/1DCQmO8UAQPyOcFzH5/8/FCgXBqdhAECQmABHwmoAQBZh14YMHQBAf1nyZTItAEArWaAzwsP+P59zIG06BQBADyzXQZn//z8lWXT5V1AAQA4ZS+UQ0gBAMn2Itm3VAEC2PGq4Wdn/P/KfP0FqqgBAJz+L0z6D/z/jBrrb0pEAQHvBFEETKgFA/QHnUdMRAEAtNLqFPyoAQCHZkH90cgBArdzg+seFAEAqKSwzVXr/P8gnNGxxUABAXZUOuqhuAEA8paLvdZgAQCLiEnrov/4/HRfOlXfQ/j9FM2VSHNX/P/UBxUXtIwBAKre/+J6n/z8PzmhTMeb/P8eiupKkhP8/Ikc2yEhFAEDria/tR+X+P+NcCTmjEABAhtqnFYs8AED43JppwlQAQGdy+86KyP8/KfcN82MnAEANEd6WDlX/P6bsIhKnCgBAbVOUuXxrAEDqm97yoyD/P2KLsB/FPABAOzY5tuYt/z8ej3MWvcz/P0gnfy1u4QBAn+hmBGuK/z8bDdkQF/H/P9uAMtvdIgBAfUooCjRHAEDC8LRaHC8AQIAzXtmhMwBA4tcbqbpcAEBziqKCdDYBQIFeoZHsbf8/PEN+nZTV/z8Q+8zi2g0AQHe6A9pGNQBArSWlEcD1/z8mV7zjsjEAQM1mu9TSRQBA3w9pBFDQ/j/h1gY+Ez7/P/m+nEciEgBA+Fk++Fk+AEAaTEr85nsAQJ9IIX6lFgBAUcoiTAmxAEAhg/tuHIT/P5NFrtxDHP8/ismu/iF1AEAMkGYMqb8AQDPDdIfFbQBAGDp7BE84AEB+nHGLb4MAQBGGmG98jABAGJwXw0/q/j9tS6LdWSD/P/WNOhWBgABAjxb+F+zm/j/qOscaiRAAQC3bLLi+l/8/T1EBTbtaAED0yeT2RvUAQOxj+JC8u/8/eFo2WHyYAEAFyvvJRK8AQHsIUENLBgBA+RcJf1ORAEAHVwcR6pkAQNMZtV2l9v8/I9k0IFMVAEDiMeridpT+P32jwuhc9f8/URZj9X4AAECOHuzHQFD9Py3piwVFVP8/OlXFmqtt/z8nnzqydvf/P64iJdyvcABAnnPtpdwIAED2P99AHA8AQEm9XF9JIABAJ9ujgH1IAECd58C579AAQEeNK0eNAwBAJPZJX/lTAEDrG0ZwRJoAQMNsKjdmL/8/oOWA122DAEDOy+J2yxwAQBd9kZYtp/8/n0asgdrf/z/fvfZnNXIAQKESHPt/fABAiCSggmON/z+tHS0LkV//Pw24VEmGCABAtUfT23MPAUAIPgOc+DL/P4oJxRQfbABA2T8J0hANAECaVdQriTYAQPjOK7IoRQBA5c6/xOpFAECe4LSDH+X+P4vnYsTPlwBAxY/leyV5/z9G729K9OcAQPkvqZWzjwBAyEJ0AghiAEDAvx39y8z+P6VaI72V0P8/hVn8EQcfAUCYSYDfPywAQOp1LdOFVABAHq5rw2ycAEBzV5mmssMAQGmmlxuNNP8/uRqD1r1MAEAUUkPHBagAQFZHFg8qFgFAeiz9KldmAEDklTD1o2MAQAmz2CdbdQBA+4fCdNKEAEA+wDXqYwMAQJg28PlOlABAVEUpX+yo/j+fPEuGF0X/P0V7dAmBGABAQ2Hx3t/mAEA1iiVf41D/P3wKj1IcIQBA0YYIbYhQAEDU3RtN9ecAQJqy2RBXEgBArXROQoJqAEC2PGBCKikBQMVtb+z1sf8/XdwOsxZjAEBq0WHkRhMAQPT5a4EyLQBASbS9hG8U/z9FTdRETdT8P+K4RsP+2P4/Wdw7IzsIAEDx0uVC/93+P0suK0A+YgBAB5I5JMot/z9iVQnraRr/P1rvkGzlbgBAzinaRMj8/z+GsyJZHLX/PwjQic/s1v8/Q4d/zNT4/j9K8EaswokAQHEeT/Erhv4/Sfy1KtMUAED4uMpKuSP+P9OmG20bNAFAbp93xNWf/j+iFiu+6IT+P/+W5dVjz/8/vwQShvNLAEDbgPoVkdj/P1/JqK296P8/AkX+xxTq/z8=\",\"dtype\":\"float64\",\"shape\":[376]}},\"selected\":{\"id\":\"3105\",\"type\":\"Selection\"},\"selection_policy\":{\"id\":\"3106\",\"type\":\"UnionRenderers\"}},\"id\":\"2963\",\"type\":\"ColumnDataSource\"},{\"attributes\":{\"dimension\":1,\"ticker\":{\"id\":\"2891\",\"type\":\"BasicTicker\"}},\"id\":\"2894\",\"type\":\"Grid\"},{\"attributes\":{\"callback\":null,\"data\":{\"index\":[0,1,2,3,4,5,6,7,8,9,10,11,12,13,14,15,16,17,18,19,20,21,22,23,24,25,26,27,28,29,30,31,32,33,34,35,36,37,38,39,40,41,42,43,44,45,46,47,48,49,50,51,52,53,54,55,56,57,58,59,60,61,62,63,64,65,66,67,68,69,70,71,72,73,74,75,76,77,78,79,80,81,82,83,84,85,86,87,88,89,90,91,92,93,94,95,96,97,98,99,100,101,102,103,104,105,106,107,108,109,110,111,112,113,114,115,116,117,118,119,120,121,122,123,124,125,126,127,128,129,130,131,132,133,134,135,136,137,138,139,140,141,142,143,144,145,146,147,148,149,150,151,152,153,154,155,156,157,158,159,160,161,162,163,164,165,166,167,168,169,170,171,172,173,174,175,176,177,178,179,180,181,182,183,184,185,186,187,188,189,190,191,192,193,194,195,196,197,198,199,200,201,202,203,204,205,206,207,208,209,210,211,212,213,214,215,216,217,218,219,220,221,222,223,224,225,226,227,228,229,230,231,232,233,234,235,236,237,238,239,240,241,242,243,244,245,246,247,248,249,250,251,252,253,254,255,256,257,258,259,260,261,262,263,264,265,266,267,268,269,270,271,272,273,274,275,276,277,278,279,280,281,282,283,284,285,286,287,288,289,290,291,292,293,294,295,296,297,298,299,300,301,302,303,304,305,306,307,308,309,310,311,312,313,314,315,316,317,318,319,320,321,322,323,324,325,326,327,328,329,330,331,332,333,334,335,336,337,338,339,340,341,342,343,344,345,346,347,348,349,350,351,352,353,354,355,356,357,358,359,360,361,362,363,364,365,366,367,368,369,370,371,372,373,374,375,376,377,378,379,380,381,382,383,384],\"label\":[\"false\",\"false\",\"false\",\"false\",\"false\",\"false\",\"false\",\"false\",\"false\",\"false\",\"false\",\"false\",\"false\",\"false\",\"false\",\"false\",\"false\",\"false\",\"false\",\"false\",\"false\",\"false\",\"false\",\"false\",\"false\",\"false\",\"false\",\"false\",\"false\",\"false\",\"false\",\"false\",\"false\",\"false\",\"false\",\"false\",\"false\",\"false\",\"false\",\"false\",\"false\",\"false\",\"false\",\"false\",\"false\",\"false\",\"false\",\"false\",\"false\",\"false\",\"false\",\"false\",\"false\",\"false\",\"false\",\"false\",\"false\",\"false\",\"false\",\"false\",\"false\",\"false\",\"false\",\"false\",\"false\",\"false\",\"false\",\"false\",\"false\",\"false\",\"false\",\"false\",\"false\",\"false\",\"false\",\"false\",\"false\",\"false\",\"false\",\"false\",\"false\",\"false\",\"false\",\"false\",\"false\",\"false\",\"false\",\"false\",\"false\",\"false\",\"false\",\"false\",\"false\",\"false\",\"false\",\"false\",\"false\",\"false\",\"false\",\"false\",\"false\",\"false\",\"false\",\"false\",\"false\",\"false\",\"false\",\"false\",\"false\",\"false\",\"false\",\"false\",\"false\",\"false\",\"false\",\"false\",\"false\",\"false\",\"false\",\"false\",\"false\",\"false\",\"false\",\"false\",\"false\",\"false\",\"false\",\"false\",\"false\",\"false\",\"false\",\"false\",\"false\",\"false\",\"false\",\"false\",\"false\",\"false\",\"false\",\"false\",\"false\",\"false\",\"false\",\"false\",\"false\",\"false\",\"false\",\"false\",\"false\",\"false\",\"false\",\"false\",\"false\",\"false\",\"false\",\"false\",\"false\",\"false\",\"false\",\"false\",\"false\",\"false\",\"false\",\"false\",\"false\",\"false\",\"false\",\"false\",\"false\",\"false\",\"false\",\"false\",\"false\",\"false\",\"false\",\"false\",\"false\",\"false\",\"false\",\"false\",\"false\",\"false\",\"false\",\"false\",\"false\",\"false\",\"false\",\"false\",\"false\",\"false\",\"false\",\"false\",\"false\",\"false\",\"false\",\"false\",\"false\",\"false\",\"false\",\"false\",\"false\",\"false\",\"false\",\"false\",\"false\",\"false\",\"false\",\"false\",\"false\",\"false\",\"false\",\"false\",\"false\",\"false\",\"false\",\"false\",\"false\",\"false\",\"false\",\"false\",\"false\",\"false\",\"false\",\"false\",\"false\",\"false\",\"false\",\"false\",\"false\",\"false\",\"false\",\"false\",\"false\",\"false\",\"false\",\"false\",\"false\",\"false\",\"false\",\"false\",\"false\",\"false\",\"false\",\"false\",\"false\",\"false\",\"false\",\"false\",\"false\",\"false\",\"false\",\"false\",\"false\",\"false\",\"false\",\"false\",\"false\",\"false\",\"false\",\"false\",\"false\",\"false\",\"false\",\"false\",\"false\",\"false\",\"false\",\"false\",\"false\",\"false\",\"false\",\"false\",\"false\",\"true\",\"false\",\"false\",\"false\",\"false\",\"false\",\"false\",\"false\",\"false\",\"false\",\"false\",\"false\",\"false\",\"false\",\"false\",\"false\",\"false\",\"false\",\"false\",\"false\",\"false\",\"false\",\"false\",\"false\",\"false\",\"false\",\"false\",\"false\",\"false\",\"false\",\"false\",\"false\",\"false\",\"false\",\"false\",\"false\",\"false\",\"false\",\"false\",\"false\",\"false\",\"false\",\"false\",\"false\",\"false\",\"false\",\"false\",\"false\",\"false\",\"false\",\"false\",\"false\",\"false\",\"false\",\"false\",\"false\",\"false\",\"false\",\"false\",\"false\",\"false\",\"false\",\"false\",\"false\",\"false\",\"false\",\"false\",\"false\",\"false\",\"false\",\"false\",\"false\",\"false\",\"false\",\"false\",\"false\",\"false\",\"false\",\"true\",\"false\",\"false\",\"false\",\"false\",\"false\",\"false\",\"false\",\"false\",\"false\",\"false\",\"false\",\"false\",\"true\",\"false\",\"false\",\"false\",\"false\",\"false\",\"false\",\"false\",\"true\",\"false\",\"false\",\"false\",\"false\",\"false\",\"false\",\"false\",\"false\",\"false\",\"false\",\"false\",\"false\"],\"x\":{\"__ndarray__\":\"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\",\"dtype\":\"float64\",\"shape\":[385]},\"y\":{\"__ndarray__\":\"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\",\"dtype\":\"float64\",\"shape\":[385]}},\"selected\":{\"id\":\"3127\",\"type\":\"Selection\"},\"selection_policy\":{\"id\":\"3128\",\"type\":\"UnionRenderers\"}},\"id\":\"3069\",\"type\":\"ColumnDataSource\"},{\"attributes\":{\"data_source\":{\"id\":\"2910\",\"type\":\"ColumnDataSource\"},\"glyph\":{\"id\":\"2915\",\"type\":\"Circle\"},\"hover_glyph\":null,\"muted_glyph\":null,\"nonselection_glyph\":{\"id\":\"2916\",\"type\":\"Circle\"},\"selection_glyph\":null,\"view\":{\"id\":\"2913\",\"type\":\"CDSView\"}},\"id\":\"2917\",\"type\":\"GlyphRenderer\"},{\"attributes\":{\"callback\":null},\"id\":\"2985\",\"type\":\"DataRange1d\"},{\"attributes\":{\"filters\":[{\"id\":\"3071\",\"type\":\"GroupFilter\"}],\"source\":{\"id\":\"3069\",\"type\":\"ColumnDataSource\"}},\"id\":\"3072\",\"type\":\"CDSView\"},{\"attributes\":{},\"id\":\"2881\",\"type\":\"LinearScale\"},{\"attributes\":{\"axis_label\":\"DP mean\",\"formatter\":{\"id\":\"3115\",\"type\":\"BasicTickFormatter\"},\"ticker\":{\"id\":\"2992\",\"type\":\"BasicTicker\"}},\"id\":\"2991\",\"type\":\"LinearAxis\"},{\"attributes\":{\"fill_alpha\":{\"value\":0.1},\"fill_color\":{\"value\":\"#1f77b4\"},\"line_alpha\":{\"value\":0.1},\"line_color\":{\"value\":\"#1f77b4\"},\"x\":{\"field\":\"x\"},\"y\":{\"field\":\"y\"}},\"id\":\"3028\",\"type\":\"Circle\"},{\"attributes\":{\"click_policy\":\"hide\",\"items\":[{\"id\":\"3083\",\"type\":\"LegendItem\"},{\"id\":\"3084\",\"type\":\"LegendItem\"}],\"visible\":false},\"id\":\"3085\",\"type\":\"Legend\"},{\"attributes\":{\"bottom_units\":\"screen\",\"fill_alpha\":{\"value\":0.5},\"fill_color\":{\"value\":\"lightgrey\"},\"left_units\":\"screen\",\"level\":\"overlay\",\"line_alpha\":{\"value\":1.0},\"line_color\":{\"value\":\"black\"},\"line_dash\":[4,4],\"line_width\":{\"value\":2},\"render_mode\":\"css\",\"right_units\":\"screen\",\"top_units\":\"screen\"},\"id\":\"3129\",\"type\":\"BoxAnnotation\"},{\"attributes\":{\"filters\":[{\"id\":\"2918\",\"type\":\"GroupFilter\"}],\"source\":{\"id\":\"2910\",\"type\":\"ColumnDataSource\"}},\"id\":\"2919\",\"type\":\"CDSView\"},{\"attributes\":{\"data_source\":{\"id\":\"3016\",\"type\":\"ColumnDataSource\"},\"glyph\":{\"id\":\"3027\",\"type\":\"Circle\"},\"hover_glyph\":null,\"muted_glyph\":null,\"nonselection_glyph\":{\"id\":\"3028\",\"type\":\"Circle\"},\"selection_glyph\":null,\"view\":{\"id\":\"3025\",\"type\":\"CDSView\"}},\"id\":\"3029\",\"type\":\"GlyphRenderer\"},{\"attributes\":{\"data_source\":{\"id\":\"2963\",\"type\":\"ColumnDataSource\"},\"glyph\":{\"id\":\"2974\",\"type\":\"Circle\"},\"hover_glyph\":null,\"muted_glyph\":null,\"nonselection_glyph\":{\"id\":\"2975\",\"type\":\"Circle\"},\"selection_glyph\":null,\"view\":{\"id\":\"2972\",\"type\":\"CDSView\"}},\"id\":\"2976\",\"type\":\"GlyphRenderer\"},{\"attributes\":{\"callback\":null,\"tooltips\":[[\"x\",\"@x\"],[\"y\",\"@y\"],[\"label\",\"@label\"]]},\"id\":\"3015\",\"type\":\"HoverTool\"},{\"attributes\":{\"fill_color\":{\"field\":\"label\",\"transform\":{\"id\":\"2911\",\"type\":\"CategoricalColorMapper\"}},\"line_color\":{\"field\":\"label\",\"transform\":{\"id\":\"2911\",\"type\":\"CategoricalColorMapper\"}},\"x\":{\"field\":\"x\"},\"y\":{\"field\":\"y\"}},\"id\":\"2915\",\"type\":\"Circle\"},{\"attributes\":{\"fill_alpha\":{\"value\":0.1},\"fill_color\":{\"value\":\"#1f77b4\"},\"line_alpha\":{\"value\":0.1},\"line_color\":{\"value\":\"#1f77b4\"},\"x\":{\"field\":\"x\"},\"y\":{\"field\":\"y\"}},\"id\":\"3081\",\"type\":\"Circle\"},{\"attributes\":{},\"id\":\"2896\",\"type\":\"WheelZoomTool\"},{\"attributes\":{\"axis_label\":\"Ti/Tv rate\",\"formatter\":{\"id\":\"3100\",\"type\":\"BasicTickFormatter\"},\"ticker\":{\"id\":\"2944\",\"type\":\"BasicTicker\"}},\"id\":\"2943\",\"type\":\"LinearAxis\"},{\"attributes\":{},\"id\":\"3122\",\"type\":\"BasicTickFormatter\"},{\"attributes\":{\"bottom_units\":\"screen\",\"fill_alpha\":{\"value\":0.5},\"fill_color\":{\"value\":\"lightgrey\"},\"left_units\":\"screen\",\"level\":\"overlay\",\"line_alpha\":{\"value\":1.0},\"line_color\":{\"value\":\"black\"},\"line_dash\":[4,4],\"line_width\":{\"value\":2},\"render_mode\":\"css\",\"right_units\":\"screen\",\"top_units\":\"screen\"},\"id\":\"3096\",\"type\":\"BoxAnnotation\"},{\"attributes\":{},\"id\":\"3117\",\"type\":\"UnionRenderers\"},{\"attributes\":{},\"id\":\"3128\",\"type\":\"UnionRenderers\"},{\"attributes\":{\"overlay\":{\"id\":\"3118\",\"type\":\"BoxAnnotation\"}},\"id\":\"3003\",\"type\":\"BoxZoomTool\"},{\"attributes\":{\"label\":{\"value\":\"true\"},\"renderers\":[{\"id\":\"3029\",\"type\":\"GlyphRenderer\"}]},\"id\":\"3031\",\"type\":\"LegendItem\"},{\"attributes\":{\"column_name\":\"label\",\"group\":\"true\"},\"id\":\"3077\",\"type\":\"GroupFilter\"},{\"attributes\":{\"color_mapper\":null,\"formatter\":{\"id\":\"3091\",\"type\":\"BasicTickFormatter\"},\"ticker\":{\"id\":\"3090\",\"type\":\"BasicTicker\"},\"visible\":false},\"id\":\"2927\",\"type\":\"ColorBar\"},{\"attributes\":{\"label\":{\"value\":\"true\"},\"renderers\":[{\"id\":\"2923\",\"type\":\"GlyphRenderer\"}]},\"id\":\"2925\",\"type\":\"LegendItem\"},{\"attributes\":{},\"id\":\"3004\",\"type\":\"SaveTool\"},{\"attributes\":{\"callback\":null,\"tooltips\":[[\"x\",\"@x\"],[\"y\",\"@y\"],[\"label\",\"@label\"]]},\"id\":\"2962\",\"type\":\"HoverTool\"},{\"attributes\":{},\"id\":\"2948\",\"type\":\"PanTool\"},{\"attributes\":{},\"id\":\"3005\",\"type\":\"ResetTool\"},{\"attributes\":{\"click_policy\":\"hide\",\"items\":[{\"id\":\"3030\",\"type\":\"LegendItem\"},{\"id\":\"3031\",\"type\":\"LegendItem\"}],\"visible\":false},\"id\":\"3032\",\"type\":\"Legend\"},{\"attributes\":{\"label\":{\"value\":\"true\"},\"renderers\":[{\"id\":\"2976\",\"type\":\"GlyphRenderer\"}]},\"id\":\"2978\",\"type\":\"LegendItem\"},{\"attributes\":{\"ticker\":{\"id\":\"2992\",\"type\":\"BasicTicker\"}},\"id\":\"2995\",\"type\":\"Grid\"},{\"attributes\":{\"click_policy\":\"hide\",\"items\":[{\"id\":\"2924\",\"type\":\"LegendItem\"},{\"id\":\"2925\",\"type\":\"LegendItem\"}],\"visible\":false},\"id\":\"2926\",\"type\":\"Legend\"},{\"attributes\":{},\"id\":\"3094\",\"type\":\"Selection\"},{\"attributes\":{\"below\":[{\"id\":\"3044\",\"type\":\"LinearAxis\"}],\"center\":[{\"id\":\"3048\",\"type\":\"Grid\"},{\"id\":\"3053\",\"type\":\"Grid\"}],\"left\":[{\"id\":\"3049\",\"type\":\"LinearAxis\"},{\"id\":\"3085\",\"type\":\"Legend\"},{\"id\":\"3086\",\"type\":\"ColorBar\"}],\"plot_height\":400,\"plot_width\":600,\"renderers\":[{\"id\":\"3076\",\"type\":\"GlyphRenderer\"},{\"id\":\"3082\",\"type\":\"GlyphRenderer\"}],\"title\":null,\"toolbar\":{\"id\":\"3060\",\"type\":\"Toolbar\"},\"toolbar_location\":null,\"x_range\":{\"id\":\"3036\",\"type\":\"DataRange1d\"},\"x_scale\":{\"id\":\"3040\",\"type\":\"LinearScale\"},\"y_range\":{\"id\":\"3038\",\"type\":\"DataRange1d\"},\"y_scale\":{\"id\":\"3042\",\"type\":\"LinearScale\"}},\"id\":\"3034\",\"subtype\":\"Figure\",\"type\":\"Plot\"},{\"attributes\":{\"fill_color\":{\"field\":\"label\",\"transform\":{\"id\":\"2964\",\"type\":\"CategoricalColorMapper\"}},\"line_color\":{\"field\":\"label\",\"transform\":{\"id\":\"2964\",\"type\":\"CategoricalColorMapper\"}},\"x\":{\"field\":\"x\"},\"y\":{\"field\":\"y\"}},\"id\":\"2968\",\"type\":\"Circle\"},{\"attributes\":{\"fill_color\":{\"field\":\"label\",\"transform\":{\"id\":\"3017\",\"type\":\"CategoricalColorMapper\"}},\"line_color\":{\"field\":\"label\",\"transform\":{\"id\":\"3017\",\"type\":\"CategoricalColorMapper\"}},\"x\":{\"field\":\"x\"},\"y\":{\"field\":\"y\"}},\"id\":\"3021\",\"type\":\"Circle\"},{\"attributes\":{\"callback\":null,\"tooltips\":[[\"x\",\"@x\"],[\"y\",\"@y\"],[\"label\",\"@label\"]]},\"id\":\"2909\",\"type\":\"HoverTool\"},{\"attributes\":{},\"id\":\"3002\",\"type\":\"WheelZoomTool\"},{\"attributes\":{},\"id\":\"3100\",\"type\":\"BasicTickFormatter\"},{\"attributes\":{\"fill_color\":{\"field\":\"label\",\"transform\":{\"id\":\"3070\",\"type\":\"CategoricalColorMapper\"}},\"line_color\":{\"field\":\"label\",\"transform\":{\"id\":\"3070\",\"type\":\"CategoricalColorMapper\"}},\"x\":{\"field\":\"x\"},\"y\":{\"field\":\"y\"}},\"id\":\"3080\",\"type\":\"Circle\"},{\"attributes\":{\"factors\":[\"false\",\"true\"],\"palette\":[\"#1f77b4\",\"#ff7f0e\",\"#2ca02c\",\"#d62728\",\"#9467bd\",\"#8c564b\",\"#e377c2\",\"#7f7f7f\",\"#bcbd22\",\"#17becf\"]},\"id\":\"2911\",\"type\":\"CategoricalColorMapper\"},{\"attributes\":{},\"id\":\"3095\",\"type\":\"UnionRenderers\"},{\"attributes\":{\"factors\":[\"false\",\"true\"],\"palette\":[\"#1f77b4\",\"#ff7f0e\",\"#2ca02c\",\"#d62728\",\"#9467bd\",\"#8c564b\",\"#e377c2\",\"#7f7f7f\",\"#bcbd22\",\"#17becf\"]},\"id\":\"3017\",\"type\":\"CategoricalColorMapper\"},{\"attributes\":{\"label\":{\"value\":\"false\"},\"renderers\":[{\"id\":\"2917\",\"type\":\"GlyphRenderer\"}]},\"id\":\"2924\",\"type\":\"LegendItem\"},{\"attributes\":{},\"id\":\"3045\",\"type\":\"BasicTicker\"},{\"attributes\":{\"active_drag\":\"auto\",\"active_inspect\":\"auto\",\"active_multi\":null,\"active_scroll\":\"auto\",\"active_tap\":\"auto\",\"tools\":[{\"id\":\"3001\",\"type\":\"PanTool\"},{\"id\":\"3002\",\"type\":\"WheelZoomTool\"},{\"id\":\"3003\",\"type\":\"BoxZoomTool\"},{\"id\":\"3004\",\"type\":\"SaveTool\"},{\"id\":\"3005\",\"type\":\"ResetTool\"},{\"id\":\"3006\",\"type\":\"HelpTool\"},{\"id\":\"3015\",\"type\":\"HoverTool\"}]},\"id\":\"3007\",\"type\":\"Toolbar\"},{\"attributes\":{},\"id\":\"2898\",\"type\":\"SaveTool\"},{\"attributes\":{\"color_mapper\":null,\"formatter\":{\"id\":\"3113\",\"type\":\"BasicTickFormatter\"},\"ticker\":{\"id\":\"3112\",\"type\":\"BasicTicker\"},\"visible\":false},\"id\":\"3033\",\"type\":\"ColorBar\"},{\"attributes\":{},\"id\":\"3040\",\"type\":\"LinearScale\"},{\"attributes\":{\"filters\":[{\"id\":\"2912\",\"type\":\"GroupFilter\"}],\"source\":{\"id\":\"2910\",\"type\":\"ColumnDataSource\"}},\"id\":\"2913\",\"type\":\"CDSView\"},{\"attributes\":{\"fill_alpha\":{\"value\":0.1},\"fill_color\":{\"value\":\"#1f77b4\"},\"line_alpha\":{\"value\":0.1},\"line_color\":{\"value\":\"#1f77b4\"},\"x\":{\"field\":\"x\"},\"y\":{\"field\":\"y\"}},\"id\":\"2975\",\"type\":\"Circle\"},{\"attributes\":{\"callback\":null},\"id\":\"2877\",\"type\":\"DataRange1d\"},{\"attributes\":{\"active_drag\":\"auto\",\"active_inspect\":\"auto\",\"active_multi\":null,\"active_scroll\":\"auto\",\"active_tap\":\"auto\",\"tools\":[{\"id\":\"3054\",\"type\":\"PanTool\"},{\"id\":\"3055\",\"type\":\"WheelZoomTool\"},{\"id\":\"3056\",\"type\":\"BoxZoomTool\"},{\"id\":\"3057\",\"type\":\"SaveTool\"},{\"id\":\"3058\",\"type\":\"ResetTool\"},{\"id\":\"3059\",\"type\":\"HelpTool\"},{\"id\":\"3068\",\"type\":\"HoverTool\"}]},\"id\":\"3060\",\"type\":\"Toolbar\"},{\"attributes\":{\"fill_color\":{\"field\":\"label\",\"transform\":{\"id\":\"2911\",\"type\":\"CategoricalColorMapper\"}},\"line_color\":{\"field\":\"label\",\"transform\":{\"id\":\"2911\",\"type\":\"CategoricalColorMapper\"}},\"x\":{\"field\":\"x\"},\"y\":{\"field\":\"y\"}},\"id\":\"2921\",\"type\":\"Circle\"},{\"attributes\":{},\"id\":\"2899\",\"type\":\"ResetTool\"},{\"attributes\":{},\"id\":\"3090\",\"type\":\"BasicTicker\"},{\"attributes\":{},\"id\":\"2949\",\"type\":\"WheelZoomTool\"},{\"attributes\":{},\"id\":\"3105\",\"type\":\"Selection\"},{\"attributes\":{\"callback\":null},\"id\":\"2932\",\"type\":\"DataRange1d\"},{\"attributes\":{},\"id\":\"3102\",\"type\":\"BasicTickFormatter\"},{\"attributes\":{},\"id\":\"2992\",\"type\":\"BasicTicker\"},{\"attributes\":{},\"id\":\"2934\",\"type\":\"LinearScale\"},{\"attributes\":{},\"id\":\"3089\",\"type\":\"BasicTickFormatter\"},{\"attributes\":{\"callback\":null},\"id\":\"2983\",\"type\":\"DataRange1d\"},{\"attributes\":{\"dimension\":1,\"ticker\":{\"id\":\"2997\",\"type\":\"BasicTicker\"}},\"id\":\"3000\",\"type\":\"Grid\"},{\"attributes\":{\"axis_label\":\"DP mean\",\"formatter\":{\"id\":\"3104\",\"type\":\"BasicTickFormatter\"},\"ticker\":{\"id\":\"2939\",\"type\":\"BasicTicker\"}},\"id\":\"2938\",\"type\":\"LinearAxis\"},{\"attributes\":{\"filters\":[{\"id\":\"2965\",\"type\":\"GroupFilter\"}],\"source\":{\"id\":\"2963\",\"type\":\"ColumnDataSource\"}},\"id\":\"2966\",\"type\":\"CDSView\"},{\"attributes\":{\"callback\":null},\"id\":\"2879\",\"type\":\"DataRange1d\"},{\"attributes\":{\"overlay\":{\"id\":\"3096\",\"type\":\"BoxAnnotation\"}},\"id\":\"2897\",\"type\":\"BoxZoomTool\"},{\"attributes\":{\"filters\":[{\"id\":\"3024\",\"type\":\"GroupFilter\"}],\"source\":{\"id\":\"3016\",\"type\":\"ColumnDataSource\"}},\"id\":\"3025\",\"type\":\"CDSView\"},{\"attributes\":{},\"id\":\"3006\",\"type\":\"HelpTool\"},{\"attributes\":{\"callback\":null},\"id\":\"2930\",\"type\":\"DataRange1d\"},{\"attributes\":{},\"id\":\"3059\",\"type\":\"HelpTool\"},{\"attributes\":{},\"id\":\"3101\",\"type\":\"BasicTicker\"},{\"attributes\":{\"fill_alpha\":{\"value\":0.1},\"fill_color\":{\"value\":\"#1f77b4\"},\"line_alpha\":{\"value\":0.1},\"line_color\":{\"value\":\"#1f77b4\"},\"x\":{\"field\":\"x\"},\"y\":{\"field\":\"y\"}},\"id\":\"3022\",\"type\":\"Circle\"},{\"attributes\":{\"filters\":[{\"id\":\"3077\",\"type\":\"GroupFilter\"}],\"source\":{\"id\":\"3069\",\"type\":\"ColumnDataSource\"}},\"id\":\"3078\",\"type\":\"CDSView\"},{\"attributes\":{\"color_mapper\":null,\"formatter\":{\"id\":\"3102\",\"type\":\"BasicTickFormatter\"},\"ticker\":{\"id\":\"3101\",\"type\":\"BasicTicker\"},\"visible\":false},\"id\":\"2980\",\"type\":\"ColorBar\"},{\"attributes\":{\"color_mapper\":null,\"formatter\":{\"id\":\"3124\",\"type\":\"BasicTickFormatter\"},\"ticker\":{\"id\":\"3123\",\"type\":\"BasicTicker\"},\"visible\":false},\"id\":\"3086\",\"type\":\"ColorBar\"},{\"attributes\":{},\"id\":\"3093\",\"type\":\"BasicTickFormatter\"},{\"attributes\":{\"children\":[[{\"id\":\"2875\",\"subtype\":\"Figure\",\"type\":\"Plot\"},0,0],[{\"id\":\"2928\",\"subtype\":\"Figure\",\"type\":\"Plot\"},0,1],[{\"id\":\"2981\",\"subtype\":\"Figure\",\"type\":\"Plot\"},1,0],[{\"id\":\"3034\",\"subtype\":\"Figure\",\"type\":\"Plot\"},1,1]]},\"id\":\"3131\",\"type\":\"GridBox\"},{\"attributes\":{\"below\":[{\"id\":\"2991\",\"type\":\"LinearAxis\"}],\"center\":[{\"id\":\"2995\",\"type\":\"Grid\"},{\"id\":\"3000\",\"type\":\"Grid\"}],\"left\":[{\"id\":\"2996\",\"type\":\"LinearAxis\"},{\"id\":\"3032\",\"type\":\"Legend\"},{\"id\":\"3033\",\"type\":\"ColorBar\"}],\"plot_height\":400,\"plot_width\":600,\"renderers\":[{\"id\":\"3023\",\"type\":\"GlyphRenderer\"},{\"id\":\"3029\",\"type\":\"GlyphRenderer\"}],\"title\":null,\"toolbar\":{\"id\":\"3007\",\"type\":\"Toolbar\"},\"toolbar_location\":null,\"x_range\":{\"id\":\"2983\",\"type\":\"DataRange1d\"},\"x_scale\":{\"id\":\"2987\",\"type\":\"LinearScale\"},\"y_range\":{\"id\":\"2985\",\"type\":\"DataRange1d\"},\"y_scale\":{\"id\":\"2989\",\"type\":\"LinearScale\"}},\"id\":\"2981\",\"subtype\":\"Figure\",\"type\":\"Plot\"},{\"attributes\":{\"axis_label\":\"Call rate\",\"formatter\":{\"id\":\"3111\",\"type\":\"BasicTickFormatter\"},\"ticker\":{\"id\":\"2997\",\"type\":\"BasicTicker\"}},\"id\":\"2996\",\"type\":\"LinearAxis\"},{\"attributes\":{\"data_source\":{\"id\":\"3016\",\"type\":\"ColumnDataSource\"},\"glyph\":{\"id\":\"3021\",\"type\":\"Circle\"},\"hover_glyph\":null,\"muted_glyph\":null,\"nonselection_glyph\":{\"id\":\"3022\",\"type\":\"Circle\"},\"selection_glyph\":null,\"view\":{\"id\":\"3019\",\"type\":\"CDSView\"}},\"id\":\"3023\",\"type\":\"GlyphRenderer\"},{\"attributes\":{\"label\":{\"value\":\"true\"},\"renderers\":[{\"id\":\"3082\",\"type\":\"GlyphRenderer\"}]},\"id\":\"3084\",\"type\":\"LegendItem\"},{\"attributes\":{},\"id\":\"2989\",\"type\":\"LinearScale\"},{\"attributes\":{},\"id\":\"2900\",\"type\":\"HelpTool\"},{\"attributes\":{},\"id\":\"3091\",\"type\":\"BasicTickFormatter\"},{\"attributes\":{\"ticker\":{\"id\":\"2939\",\"type\":\"BasicTicker\"}},\"id\":\"2942\",\"type\":\"Grid\"},{\"attributes\":{},\"id\":\"3127\",\"type\":\"Selection\"},{\"attributes\":{\"overlay\":{\"id\":\"3129\",\"type\":\"BoxAnnotation\"}},\"id\":\"3056\",\"type\":\"BoxZoomTool\"},{\"attributes\":{\"callback\":null,\"data\":{\"index\":[0,1,2,3,4,5,6,7,8,9,10,11,12,13,14,15,16,17,18,19,20,21,22,23,24,25,26,27,28,29,30,31,32,33,34,35,36,37,38,39,40,41,42,43,44,45,46,47,48,49,50,51,52,53,54,55,56,57,58,59,60,61,62,63,64,65,66,67,68,69,70,71,72,73,74,75,76,77,78,79,80,81,82,83,84,85,86,87,88,89,90,91,92,93,94,95,96,97,98,99,100,101,102,103,104,105,106,107,108,109,110,111,112,113,114,115,116,117,118,119,120,121,122,123,124,125,126,127,128,129,130,131,132,133,134,135,136,137,138,139,140,141,142,143,144,145,146,147,148,149,150,151,152,153,154,155,156,157,158,159,160,161,162,163,164,165,166,167,168,169,170,171,172,173,174,175,176,177,178,179,180,181,182,183,184,185,186,187,188,189,190,191,192,193,194,195,196,197,198,199,200,201,202,203,204,205,206,207,208,209,210,211,212,213,214,215,216,217,218,219,220,221,222,223,224,225,226,227,228,229,230,231,232,233,234,235,236,237,238,239,240,241,242,243,244,245,246,247,248,249,250,251,252,253,254,255,256,257,258,259,260,261,262,263,264,265,266,267,268,269,270,271,272,273,274,275,276,277,278,279,280,281,282,283,284,285,286,287,288,289,290,291,292,293,294,295,296,297,298,299,300,301,302,303,304,305,306,307,308,309,310,311,312,313,314,315,316,317,318,319,320,321,322,323,324,325,326,327,328,329,330,331,332,333,334,335,336,337,338,339,340,341,342,343,344,345,346,347,348,349,350,351,352,353,354,355,356,357,358,359,360,361,362,363,364,365,366,367,368,369,370,371,372,373,374,375,376,377,378,379,380,381,382,383,384,385],\"label\":[\"false\",\"false\",\"false\",\"false\",\"false\",\"false\",\"false\",\"false\",\"false\",\"false\",\"false\",\"false\",\"false\",\"false\",\"false\",\"false\",\"false\",\"false\",\"false\",\"false\",\"false\",\"false\",\"false\",\"false\",\"false\",\"false\",\"false\",\"false\",\"false\",\"false\",\"false\",\"false\",\"false\",\"false\",\"false\",\"false\",\"false\",\"false\",\"false\",\"false\",\"false\",\"false\",\"false\",\"false\",\"false\",\"false\",\"false\",\"false\",\"false\",\"false\",\"false\",\"false\",\"false\",\"false\",\"false\",\"false\",\"false\",\"false\",\"false\",\"false\",\"false\",\"false\",\"false\",\"false\",\"false\",\"false\",\"false\",\"false\",\"false\",\"false\",\"false\",\"false\",\"false\",\"false\",\"false\",\"false\",\"false\",\"false\",\"false\",\"false\",\"false\",\"false\",\"false\",\"false\",\"false\",\"false\",\"false\",\"false\",\"false\",\"false\",\"false\",\"false\",\"false\",\"false\",\"false\",\"false\",\"false\",\"false\",\"false\",\"false\",\"false\",\"false\",\"false\",\"false\",\"false\",\"false\",\"false\",\"false\",\"false\",\"false\",\"false\",\"false\",\"false\",\"false\",\"false\",\"false\",\"false\",\"false\",\"false\",\"false\",\"false\",\"false\",\"false\",\"false\",\"false\",\"false\",\"false\",\"false\",\"false\",\"false\",\"false\",\"false\",\"false\",\"false\",\"false\",\"false\",\"false\",\"false\",\"false\",\"false\",\"false\",\"false\",\"false\",\"false\",\"false\",\"false\",\"false\",\"false\",\"false\",\"false\",\"false\",\"false\",\"false\",\"false\",\"false\",\"false\",\"false\",\"false\",\"false\",\"false\",\"false\",\"false\",\"false\",\"false\",\"false\",\"false\",\"false\",\"false\",\"false\",\"false\",\"false\",\"false\",\"false\",\"false\",\"false\",\"false\",\"false\",\"false\",\"false\",\"false\",\"false\",\"false\",\"false\",\"false\",\"false\",\"false\",\"false\",\"false\",\"false\",\"false\",\"false\",\"false\",\"false\",\"false\",\"false\",\"false\",\"false\",\"false\",\"false\",\"false\",\"false\",\"false\",\"false\",\"false\",\"false\",\"false\",\"false\",\"false\",\"false\",\"false\",\"false\",\"false\",\"false\",\"false\",\"false\",\"false\",\"false\",\"false\",\"false\",\"false\",\"false\",\"false\",\"false\",\"false\",\"false\",\"false\",\"false\",\"false\",\"false\",\"false\",\"false\",\"false\",\"false\",\"false\",\"false\",\"false\",\"false\",\"false\",\"false\",\"false\",\"false\",\"false\",\"false\",\"false\",\"false\",\"false\",\"false\",\"false\",\"false\",\"false\",\"false\",\"false\",\"false\",\"false\",\"false\",\"false\",\"false\",\"false\",\"false\",\"false\",\"false\",\"false\",\"false\",\"false\",\"false\",\"false\",\"false\",\"false\",\"false\",\"false\",\"false\",\"false\",\"false\",\"false\",\"true\",\"false\",\"false\",\"false\",\"false\",\"false\",\"false\",\"false\",\"false\",\"false\",\"false\",\"false\",\"false\",\"false\",\"false\",\"false\",\"false\",\"false\",\"false\",\"false\",\"false\",\"false\",\"false\",\"false\",\"false\",\"false\",\"false\",\"false\",\"false\",\"false\",\"false\",\"false\",\"false\",\"false\",\"false\",\"false\",\"false\",\"false\",\"false\",\"false\",\"false\",\"false\",\"false\",\"false\",\"false\",\"false\",\"false\",\"false\",\"false\",\"false\",\"false\",\"false\",\"false\",\"false\",\"false\",\"false\",\"false\",\"false\",\"false\",\"false\",\"false\",\"false\",\"false\",\"false\",\"false\",\"false\",\"false\",\"false\",\"false\",\"false\",\"false\",\"false\",\"false\",\"false\",\"false\",\"false\",\"false\",\"false\",\"false\",\"true\",\"false\",\"false\",\"false\",\"false\",\"false\",\"false\",\"false\",\"false\",\"false\",\"false\",\"false\",\"true\",\"false\",\"false\",\"false\",\"false\",\"false\",\"false\",\"false\",\"true\",\"false\",\"false\",\"false\",\"false\",\"false\",\"false\",\"false\",\"false\",\"false\",\"false\",\"false\",\"false\"],\"x\":{\"__ndarray__\":\"tUnXlQX3CUBeSueO//caQMNwSNpJIBxAsN0b3CwCHUDP7AC4PxQfQC5i/4zWWyBAt6wMs7iiIECCUY0w96MgQIrGpdHq0CBAgwVJ3KInIkCbvsPXqzQiQPrGzt6MtCJAMw0Ry/XuIkBf2UkLjrIjQLO2mDF70SNArOo49n2lJUDMZP6phXImQLmOTDMyUSdAX/0rAMjIJ0D+eXEso68nQC22FZT38idA6KA9cggvKECQJ5366C0oQJ2ybbAuPShAmU5uzI5+KEBpaRU9pvwoQGSjUYnq2ilA3FK2zTnHKUCmWO5pgucpQC8qi7cPFCpAWrJkjTZRKkARmpaCSyQqQBXvA8NXKCpAvDIvzrgeK0CUsOLBXf4qQGf0aNkmLytAkow5irNqK0B4gzFYG4YrQBduChcNlitAOYHGTtypK0CBkRJNIa4rQMQfe1P0yStASeF+UBIKLEBvq+3t3jAsQAQAttggmSxAZidejQbBLEDnmbNpS60sQBFKlPor8SxA1eQxrXzdLEDn/ea7jCMtQD8NkhEuIy1ANOvzpkViLUBXhLJmemgtQA9hp0AbQS1AxQHZJQNtLUCr6KEtKHctQEs2UAlljC1AzS7QNi/pLUCNSOq4f+ctQJAV3YO6HS5A+4J4t7wkLkCosxmZZ0suQCheUXg4pC5A++ohU0qmLkAA4+dQ654uQGyq6mBU3C5AIWMbcvHdLkCI0tEXZEkvQCMK+jzqNy9AmHLBzqxXL0DG8gTUCXAvQARD61TV4C9Apffde5fYL0AsfdtPKfIvQFZfgo3bBDBA2PEztBELMECLMtnE0B4wQPyzpb2BIDBA7Rg2S48WMEAiryImhE0wQANezs7/TDBADP4V6WRqMEAOQs5LZ3IwQKq4vOIgZTBAuCD0ha2IMECapg2WUoswQM72fJiEgzBA681HwGqCMED8YmEU85swQNNNbr1HtjBALG7abNTGMEAEFFipyMEwQPw609E70DBAs5AnY4/pMEBH+2BxgOcwQNkz00y86DBATpM9k1EUMUAjYumMoiQxQEh7vxGbKjFAPlF1c+oiMUBvRLmuk08xQFZ6nEngSzFAlEA7CmtcMUBlV/tvB2MxQGNz/JirgDFAvkLYSFfKMUCCvf9CSNMxQLXjhcLzzjFAvHWIjjnKMUAn4M2YAu0xQHyvkHbo7TFAoXt7Llz8MUD5AiTJsfgxQGrZKe7eBDJA1WWl+OgEMkDQeLXrYAUyQKkLs8g5DDJAmpJ2Q60TMkApIZglYT4yQBQ3AYHCMzJA9qxVghQ1MkAn7amoxiUyQNfS0WHVNzJAFiZGYbJOMkDzIOPLUEAyQEfYcxrBQzJAXUXBON9IMkCPVMuWKXQyQE9hljgdXzJA6re3g1lbMkCZ9RNVKnoyQFVZKWjRhDJAn7VSHL+VMkAMy5Ixx6AyQFmyg27RjjJATTACsTqmMkDLkJ5He7QyQBnU1siNtTJAHRgUGMK9MkAM0d4HR8AyQAI0VAY4wDJAnsXrVyfMMkA1B1tLb/YyQBeDFvci5TJAen2GDMUKM0Cce47NphEzQLj8kHh/+zJAI1XmEMwZM0AnNG7NuRUzQDQXugwtFTNAP7hQhGg8M0APiTaHsEIzQL7qLpaQWjNATNZGyAxMM0CUo5fCpWMzQPpW2GggfTNA/IBtzMKBM0CnzdDZD44zQF2jYplWpTNAC6cVURXNM0DKWmz/Fb4zQEV634t43jNA5N5t5o3QM0CkJ8ph2OYzQM/o9AY/+DNAyOEGrqH1M0CVI0RgO/gzQPvMWytm9DNATzmV0lcaNEBabE7OMwY0QDKlYm5FHTRAbydlytIjNEC6oC2RCE40QIk3BZBHOjRA0P3OgLU9NEASI72Lc0I0QLcVByy5SDRAG9Pg3/VtNEAh/oQUDnU0QKdUISy2cTRA9+0bobiWNED77YRKuJg0QCjq+4a6uDRAwc/zpV20NEAgNZdiraU0QKeb3Hw00TRAdRLOUgPQNEB5grrpeMc0QPyLxqEf0jRAGXCNWkXaNEBFRs5rVe00QCrg+1t0+zRA/J0Zj+MBNUDfyqx/5xc1QITD+kxLGzVAEaHYlZwdNUCV0zqzgh81QLKGsMtSMDVAWM+ibhgtNUDubXKQhnE1QJibWJfEXDVAuHA/8I57NUDYhRyjxH01QMHawdrffjVAyCtZXOyPNUBGCELw5KY1QEjuRUl8rDVARIcn/xzaNUDLwtgt4No1QPlQT/AkzzVArFKX8YPmNUDKhnuQDPg1QCys8pZu8jVABBJ1wc35NUD4SBNgNe01QMsGL5Ul7jVAtGx0ggAGNkBVuL3PvBA2QAd9eKsD/DVAApmWIfP+NUAaytB83AI2QAywSF2MIjZAdI/QU3kWNkBmHCDYiCQ2QDsh4/zHIjZAEpUlORdBNkCAn5pdLTA2QK2reJ3PUDZAETmCmVtXNkAoBMKoSWo2QPJC6gp0eDZAkQAJQ/h8NkDUJp7UG382QFIJY5BRkjZAEV1Fjj6oNkDu4J+/9Lc2QPSj8TADwTZAIuxKsMHMNkBNQiIF2tA2QKTui1854jZAjD4WYvTtNkDEZpr1vvQ2QLUnUYeKGjdA7Gt7iYw0N0BWH9HekCU3QBk7Y47ZLzdAWxFNTNkjN0Bg0oZ22z43QKfoja2bRTdAuWZwOeZAN0Dge18asE03QN2mk48YWjdAgFmqE3peN0A6sPvaYFg3QNgihgspWzdATK3cXlFbN0B7pDVJjok3QHGghP0pijdAOmlYQFqNN0CyrYtuhLc3QBlbufUO1DdANK0r6WHiN0Cw2Y/w6A04QLYiccaTEThAB80/Kb5QOEAYE9aaC1I4QAigWFtndDhA18+731SPOEDKztJY7I04QGaFcOY4gjhA9wcN6BikOEA0QO9BbsQ4QHrCSwDtwjhAE/xFNLW8OEA1OO/gXOE4QAF2qoXMyjhATSoh+MvPOECH/tkASeY4QD9+9wTo5zhAL2rqU5saOUA7Jj7JkSQ5QA0LG/56JjlAPSJNT1Q1OUB434YkzTk5QCnV2jFsOzlAxjY94oFQOUA+bgkJcH45QOb2vQF4kjlA1HFmrumdOUDggMk8WJ45QFouPKjqvjlAJewWL9C5OUCk3iY03cY5QAz4iq0f3DlAbgVFfk3mOUBSPqz5zuo5QHqyE+sl4TlAQdK8E+fQOUBJN6LQvv85QATFFPFKCDpA26TzidgGOkBsMw+K3g46QAQNUpwhGzpA7hdpStdUOkCbawl8YUo6QOA8UcuQTjpAiDSFP55JOkC8C68uUmU6QBGYecQiVjpAXLFSVc+GOkCzGvJljLU6QGF2cG8nqjpA+h4ZN860OkB58pDkJbw6QFyNyAQXzjpAAXonxhvcOkD8tOVz7OY6QBeLuIq2AjtAUGSUwHscO0Czlbjx8Rk7QNaR6C9GNTtA4RRU9Mc0O0AqkILyVFE7QEgAHw7SiTtAcJTy/z6jO0CjfsqDCfA7QIvIrVV0CzxAet0o50opPEAMp3ULMD88QN28rYLgYTxAmPxy1LJ5PEBxtRivY4g8QP9fZZWMlDxATNenJr2oPEBlYNa3H6E8QKmx4cE5sjxATdsGnKC/PEAMbcbB7xE9QK/8iVH+Ez1AVzo5j5wcPUBwN1iFDzY9QFy4f27qZj1AEr2Zm9B8PUARdGQbbH09QBfJ2FOOnD1AQ+Pu9aO5PUC3xidL7bg9QNPOPM9Dyj1ATZNIAa/ZPUDCTDEdf1Q+QHZwb3kOmD5AcI/niErQPkBM12gxnt4+QGQL/sCU7j5A9vlq3ylbP0A9WSkzgW0/QGV4SzOziz9AnJyEF6+1P0A6o1TeO+k/QE0U72oQ9T9AMdX/rysbQEBU8UaGRyFAQB7ZVHflLEBAbQTfjNI3QEB5DnKbulNAQM7up2/uYkBAYGCfYptjQECmO53DwJJAQGyeIMUVvkBAEC65JFIAQUCvNiM2EBpBQL5gYnrLH0FAts7fku9rQUD7kuULuZ9BQLMoePGTnkFAgZUvvmK1QUDSC6j0kL9BQOULRhoB9kFAd+IMhEYeQkA9SnnGwzlCQDDX1fCGdkJAhLE0QUnQQkBb2003z+FCQNzuTRFFpENAZZeiLJC+Q0Ch3XtxFutJQA==\",\"dtype\":\"float64\",\"shape\":[386]},\"y\":{\"__ndarray__\":\"AAAAAFAt8kAAAAAAMHP2QAAAAADQIfpAAAAAALAV9kAAAAAA4HH0QAAAAAAw9vVAAAAAAPDb9kAAAAAAkGb6QAAAAABAQPtAAAAAAHD79UAAAAAAoMH2QAAAAACASvpAAAAAAKBo9kAAAAAAwLP4QAAAAADQXPhAAAAAAKA7+EAAAAAAsM/7QAAAAACwv/tAAAAAAHB3+EAAAAAAAMD8QAAAAACggPdAAAAAACCF+UAAAAAAAIv6QAAAAAAwRP1AAAAAAEB7/UAAAAAAAPX4QAAAAADQYPlAAAAAAEB1+UAAAAAAcFv7QAAAAADwD/tAAAAAALBg+kAAAAAAoCf+QAAAAAAgHgBBAAAAAEBH+0AAAAAAIFL7QAAAAACAWvhAAAAAABAv+0AAAAAA0Kf8QAAAAACAtPlAAAAAAGCa+kAAAAAAsLD6QAAAAAAQZftAAAAAAPDO+EAAAAAAoC/8QAAAAADA7v1AAAAAACBf+0AAAAAAYIL8QAAAAACQE/hAAAAAAODN+kAAAAAA4NT6QAAAAAAQevxAAAAAAMAO+0AAAAAAQOb7QAAAAACwpP1AAAAAAMAH/kAAAAAAQJP7QAAAAADQwftAAAAAAGAF+UAAAAAA8Kf5QAAAAAAwA/hAAAAAADAo/EAAAAAAsLP7QAAAAAAAMPpAAAAAAHDt+kAAAAAAQDf8QAAAAADgP/pAAAAAACBw/UAAAAAAYMX7QAAAAABQWf1AAAAAAJCA+kAAAAAA4HT9QAAAAADgLPtAAAAAAGBf/EAAAAAA4Hn6QAAAAABgkfpAAAAAAKB0/EAAAAAA0HT5QAAAAADApvtAAAAAAEDT+0AAAAAAELr7QAAAAABArPxAAAAAAMDv+0AAAAAAIE38QAAAAADQkPxAAAAAAPDN+UAAAAAAYL36QAAAAADwHftAAAAAANCl+0AAAAAAMGL5QAAAAAAAx/hAAAAAAHAv+0AAAAAA0A7+QAAAAADgIvtAAAAAAFBA+UAAAAAAAJ/8QAAAAABQz/5AAAAAAND1+0AAAAAA8LT5QAAAAABQ1fpAAAAAAPD++0AAAAAAgJT5QAAAAAAA+fpAAAAAABDn9kAAAAAAoOP9QAAAAADA6f1AAAAAANBT+kAAAAAAsGL6QAAAAACgaPxAAAAAAOAh/UAAAAAAoAP8QAAAAACAN/xAAAAAAGAo+UAAAAAAQPb6QAAAAAAwfvtAAAAAAGBC/UAAAAAAkPL/QAAAAADgQfpAAAAAALCA/UAAAAAAIJb5QAAAAADgmPpAAAAAAABR/EAAAAAA0Fz8QAAAAABwCP1AAAAAAPA5+kAAAAAAMB/7QAAAAABgH/1AAAAAAAC4/0AAAAAA4Fv6QAAAAACwZvtAAAAAAICQ/UAAAAAAkEn7QAAAAAAAV/1AAAAAAHBW+UAAAAAAUF36QAAAAAAA3ftAAAAAADCE/UAAAAAAEI75QAAAAACQ8/lAAAAAAGDM+0AAAAAAgAn8QAAAAAAgwvxAAAAAAIA//EAAAAAAsCr5QAAAAAAgOP9AAAAAAGDB+kAAAAAAMD37QAAAAACwyf5AAAAAAFBA+UAAAAAA0Jf6QAAAAAAw8ftAAAAAADDG+kAAAAAAYNX7QAAAAAAgpPtAAAAAAEBb/EAAAAAAMOr6QAAAAAAgVftAAAAAABAP+UAAAAAAcHn6QAAAAADwOPpAAAAAAOAV+0AAAAAA8Bv9QAAAAABAx/xAAAAAACC7/UAAAAAAsMz/QAAAAADQCvpAAAAAAPAV+kAAAAAAwPP8QAAAAACAJv5AAAAAAPCj+kAAAAAAkL78QAAAAAAwuftAAAAAADCR/0AAAAAAADn6QAAAAACwD/tAAAAAAJDs/EAAAAAAED39QAAAAAAgEv5AAAAAAKDB+0AAAAAAUJn8QAAAAADQ5vxAAAAAAADR+EAAAAAAYIf9QAAAAADw5fxAAAAAAEB2/kAAAAAAgKr+QAAAAABQs/pAAAAAABCz+0AAAAAA4Cb9QAAAAACArv1AAAAAAOBB/UAAAAAAsIr9QAAAAACQm/tAAAAAABAs/EAAAAAAMDb8QAAAAAAAYfxAAAAAAFB3/EAAAAAAUCb9QAAAAAAgzfxAAAAAAEDw/EAAAAAAwHz9QAAAAADgO/9AAAAAACAp+kAAAAAAsFP7QAAAAACAHfxAAAAAAJBJ/EAAAAAAoG3+QAAAAABw5fpAAAAAAPBZ+kAAAAAAYMH7QAAAAAAwfP1AAAAAAJAQ+0AAAAAA8Hz7QAAAAACwqftAAAAAACBf/EAAAAAAsO/8QAAAAACwWv1AAAAAAFBR+kAAAAAAcIn7QAAAAAAgRvxAAAAAAFAq/UAAAAAAYPj9QAAAAACg/PpAAAAAAGBU/UAAAAAAIE3/QAAAAAAgqP9AAAAAABC7/UAAAAAAoCH/QAAAAADgFvpAAAAAAMBs/UAAAAAA0LX8QAAAAABwF/1AAAAAAODG/UAAAAAAMNL9QAAAAADwwP5AAAAAAEDI/EAAAAAAQPv7QAAAAAAgZPxAAAAAAOBv/kAAAAAAQFn8QAAAAADwo/9AAAAAAIBc/kAAAAAA8C3/QAAAAAAAA/tAAAAAAJCB+0AAAAAAQAf9QAAAAADwFf1AAAAAABB9/UAAAAAA4G/6QAAAAABQQvtAAAAAAODB+0AAAAAAQC/9QAAAAAAAUfpAAAAAAPDs+0AAAAAAgIT9QAAAAABwHP5AAAAAAFB+/kAAAAAAsLv7QAAAAAAwyfxAAAAAAEAN/kAAAAAA0BwAQQAAAACQKP5AAAAAADBs/UAAAAAA8Bz8QAAAAABQyvxAAAAAACA6/EAAAAAAcG39QAAAAACAs/1AAAAAAGCO+0AAAAAAENv8QAAAAADwL/1AAAAAAEDV/EAAAAAAUDz7QAAAAACgA/xAAAAAAJAf/EAAAAAAAMb9QAAAAACwGf9AAAAAAKC7/0AAAAAAgOb8QAAAAADwS/9AAAAAAGAH+kAAAAAAwPf8QAAAAABQ9P1AAAAAAADa+kAAAAAA0Aj8QAAAAABwLP1AAAAAAAC1/EAAAAAAEIn7QAAAAADQHvxAAAAAADBW/EAAAAAAwJ79QAAAAACAaf1AAAAAAKCO/UAAAAAAYCoAQQAAAABQM/xAAAAAABB3/UAAAAAAAOr9QAAAAABgpf9AAAAAAOAgAUEAAAAAAM78QAAAAABgj/pAAAAAAID8+0AAAAAAMP38QAAAAACwH/5AAAAAANB+/EAAAAAAAJj8QAAAAABAL/1AAAAAACBQ/UAAAAAAsGT7QAAAAABAkv1AAAAAAJA9/UAAAAAA0Hb7QAAAAAAQrPxAAAAAAEAN/kAAAAAAEMP/QAAAAAAwr/5AAAAAAKBz/EAAAAAAgMH+QAAAAABAHftAAAAAACBl/UAAAAAAUJn/QAAAAAAwPfxAAAAAAGBP/kAAAAAAkIj8QAAAAABAcPxAAAAAAAB7AEEAAAAAQLb7QAAAAACQaP5AAAAAACDD+kAAAAAA4GH9QAAAAACwV/xAAAAAACBH/0AAAAAAAAP7QAAAAAAAqPtAAAAAAOB1+0AAAAAAoPD7QAAAAADwiPxAAAAAAADi+kAAAAAA4Pv6QAAAAACAKvxAAAAAACBT/kAAAAAAYOr7QAAAAAAQofxAAAAAAGC0+UAAAAAAkBv7QAAAAADw8/tAAAAAAMAf/EAAAAAAUCX9QAAAAAAwb/5AAAAAANDm/0AAAAAAEMD8QAAAAAAQC/tAAAAAAOAb/EAAAAAAAOL+QAAAAADwc/5AAAAAAIDa+kAAAAAAcMz8QAAAAABgWvpAAAAAAED4/UAAAAAAgB79QAAAAABw/P1AAAAAAKDd/EAAAAAAgMP/QAAAAAB4SABBAAAAAGCFAUEAAAAAoNz8QAAAAADwuPxAAAAAABCm/kAAAAAAEO3+QAAAAABg/P5AAAAAAGAk/UAAAAAAUEX+QAAAAABgvP5AAAAAADBe/kAAAAAAEOL8QAAAAABww/9AAAAAAPBsAEEAAAAA8Av8QAAAAABQE/9AAAAAAED8+kAAAAAAYAAAQQAAAAAAQgBBAAAAANAB/0AAAAAAoJ/9QAAAAADwbP9AAAAAAAAJ/kAAAAAAUFr/QA==\",\"dtype\":\"float64\",\"shape\":[386]}},\"selected\":{\"id\":\"3094\",\"type\":\"Selection\"},\"selection_policy\":{\"id\":\"3095\",\"type\":\"UnionRenderers\"}},\"id\":\"2910\",\"type\":\"ColumnDataSource\"},{\"attributes\":{\"filters\":[{\"id\":\"3018\",\"type\":\"GroupFilter\"}],\"source\":{\"id\":\"3016\",\"type\":\"ColumnDataSource\"}},\"id\":\"3019\",\"type\":\"CDSView\"},{\"attributes\":{\"label\":{\"value\":\"false\"},\"renderers\":[{\"id\":\"3076\",\"type\":\"GlyphRenderer\"}]},\"id\":\"3083\",\"type\":\"LegendItem\"},{\"attributes\":{},\"id\":\"3116\",\"type\":\"Selection\"},{\"attributes\":{},\"id\":\"3001\",\"type\":\"PanTool\"},{\"attributes\":{},\"id\":\"2997\",\"type\":\"BasicTicker\"},{\"attributes\":{},\"id\":\"3123\",\"type\":\"BasicTicker\"},{\"attributes\":{\"tools\":[{\"id\":\"2895\",\"type\":\"PanTool\"},{\"id\":\"2896\",\"type\":\"WheelZoomTool\"},{\"id\":\"2897\",\"type\":\"BoxZoomTool\"},{\"id\":\"2898\",\"type\":\"SaveTool\"},{\"id\":\"2899\",\"type\":\"ResetTool\"},{\"id\":\"2900\",\"type\":\"HelpTool\"},{\"id\":\"2909\",\"type\":\"HoverTool\"},{\"id\":\"2948\",\"type\":\"PanTool\"},{\"id\":\"2949\",\"type\":\"WheelZoomTool\"},{\"id\":\"2950\",\"type\":\"BoxZoomTool\"},{\"id\":\"2951\",\"type\":\"SaveTool\"},{\"id\":\"2952\",\"type\":\"ResetTool\"},{\"id\":\"2953\",\"type\":\"HelpTool\"},{\"id\":\"2962\",\"type\":\"HoverTool\"},{\"id\":\"3001\",\"type\":\"PanTool\"},{\"id\":\"3002\",\"type\":\"WheelZoomTool\"},{\"id\":\"3003\",\"type\":\"BoxZoomTool\"},{\"id\":\"3004\",\"type\":\"SaveTool\"},{\"id\":\"3005\",\"type\":\"ResetTool\"},{\"id\":\"3006\",\"type\":\"HelpTool\"},{\"id\":\"3015\",\"type\":\"HoverTool\"},{\"id\":\"3054\",\"type\":\"PanTool\"},{\"id\":\"3055\",\"type\":\"WheelZoomTool\"},{\"id\":\"3056\",\"type\":\"BoxZoomTool\"},{\"id\":\"3057\",\"type\":\"SaveTool\"},{\"id\":\"3058\",\"type\":\"ResetTool\"},{\"id\":\"3059\",\"type\":\"HelpTool\"},{\"id\":\"3068\",\"type\":\"HoverTool\"}]},\"id\":\"3132\",\"type\":\"ProxyToolbar\"},{\"attributes\":{},\"id\":\"3115\",\"type\":\"BasicTickFormatter\"},{\"attributes\":{\"fill_color\":{\"field\":\"label\",\"transform\":{\"id\":\"3017\",\"type\":\"CategoricalColorMapper\"}},\"line_color\":{\"field\":\"label\",\"transform\":{\"id\":\"3017\",\"type\":\"CategoricalColorMapper\"}},\"x\":{\"field\":\"x\"},\"y\":{\"field\":\"y\"}},\"id\":\"3027\",\"type\":\"Circle\"},{\"attributes\":{\"data_source\":{\"id\":\"2910\",\"type\":\"ColumnDataSource\"},\"glyph\":{\"id\":\"2921\",\"type\":\"Circle\"},\"hover_glyph\":null,\"muted_glyph\":null,\"nonselection_glyph\":{\"id\":\"2922\",\"type\":\"Circle\"},\"selection_glyph\":null,\"view\":{\"id\":\"2919\",\"type\":\"CDSView\"}},\"id\":\"2923\",\"type\":\"GlyphRenderer\"},{\"attributes\":{},\"id\":\"3042\",\"type\":\"LinearScale\"},{\"attributes\":{},\"id\":\"2883\",\"type\":\"LinearScale\"},{\"attributes\":{\"column_name\":\"label\",\"group\":\"true\"},\"id\":\"3024\",\"type\":\"GroupFilter\"},{\"attributes\":{\"data_source\":{\"id\":\"3069\",\"type\":\"ColumnDataSource\"},\"glyph\":{\"id\":\"3080\",\"type\":\"Circle\"},\"hover_glyph\":null,\"muted_glyph\":null,\"nonselection_glyph\":{\"id\":\"3081\",\"type\":\"Circle\"},\"selection_glyph\":null,\"view\":{\"id\":\"3078\",\"type\":\"CDSView\"}},\"id\":\"3082\",\"type\":\"GlyphRenderer\"},{\"attributes\":{},\"id\":\"3126\",\"type\":\"BasicTickFormatter\"},{\"attributes\":{\"factors\":[\"false\",\"true\"],\"palette\":[\"#1f77b4\",\"#ff7f0e\",\"#2ca02c\",\"#d62728\",\"#9467bd\",\"#8c564b\",\"#e377c2\",\"#7f7f7f\",\"#bcbd22\",\"#17becf\"]},\"id\":\"2964\",\"type\":\"CategoricalColorMapper\"},{\"attributes\":{\"column_name\":\"label\",\"group\":\"false\"},\"id\":\"3018\",\"type\":\"GroupFilter\"},{\"attributes\":{\"fill_color\":{\"field\":\"label\",\"transform\":{\"id\":\"3070\",\"type\":\"CategoricalColorMapper\"}},\"line_color\":{\"field\":\"label\",\"transform\":{\"id\":\"3070\",\"type\":\"CategoricalColorMapper\"}},\"x\":{\"field\":\"x\"},\"y\":{\"field\":\"y\"}},\"id\":\"3074\",\"type\":\"Circle\"},{\"attributes\":{\"axis_label\":\"DP mean\",\"formatter\":{\"id\":\"3126\",\"type\":\"BasicTickFormatter\"},\"ticker\":{\"id\":\"3045\",\"type\":\"BasicTicker\"}},\"id\":\"3044\",\"type\":\"LinearAxis\"},{\"attributes\":{},\"id\":\"2886\",\"type\":\"BasicTicker\"},{\"attributes\":{},\"id\":\"3124\",\"type\":\"BasicTickFormatter\"},{\"attributes\":{},\"id\":\"3057\",\"type\":\"SaveTool\"},{\"attributes\":{},\"id\":\"3058\",\"type\":\"ResetTool\"},{\"attributes\":{\"click_policy\":\"hide\",\"items\":[{\"id\":\"2977\",\"type\":\"LegendItem\"},{\"id\":\"2978\",\"type\":\"LegendItem\"}],\"visible\":false},\"id\":\"2979\",\"type\":\"Legend\"},{\"attributes\":{},\"id\":\"2939\",\"type\":\"BasicTicker\"},{\"attributes\":{},\"id\":\"3113\",\"type\":\"BasicTickFormatter\"},{\"attributes\":{},\"id\":\"2936\",\"type\":\"LinearScale\"},{\"attributes\":{\"axis_label\":\"DP mean\",\"formatter\":{\"id\":\"3093\",\"type\":\"BasicTickFormatter\"},\"ticker\":{\"id\":\"2886\",\"type\":\"BasicTicker\"}},\"id\":\"2885\",\"type\":\"LinearAxis\"}],\"root_ids\":[\"3134\"]},\"title\":\"Bokeh Application\",\"version\":\"1.2.0\"}};\n",
       "  var render_items = [{\"docid\":\"3da9b142-3d07-42d7-9aac-c4f9516a240a\",\"roots\":{\"3134\":\"eb806a99-712a-468c-a1f5-a3fc96e54c62\"}}];\n",
       "  root.Bokeh.embed.embed_items_notebook(docs_json, render_items);\n",
       "\n",
       "  }\n",
       "  if (root.Bokeh !== undefined) {\n",
       "    embed_document(root);\n",
       "  } else {\n",
       "    var attempts = 0;\n",
       "    var timer = setInterval(function(root) {\n",
       "      if (root.Bokeh !== undefined) {\n",
       "        embed_document(root);\n",
       "        clearInterval(timer);\n",
       "      }\n",
       "      attempts++;\n",
       "      if (attempts > 100) {\n",
       "        console.log(\"Bokeh: ERROR: Unable to run BokehJS code because BokehJS library is missing\");\n",
       "        clearInterval(timer);\n",
       "      }\n",
       "    }, 10, root)\n",
       "  }\n",
       "})(window);"
      ],
      "application/vnd.bokehjs_exec.v0+json": ""
     },
     "metadata": {
      "application/vnd.bokehjs_exec.v0+json": {
       "id": "3134"
      }
     },
     "output_type": "display_data"
    }
   ],
   "source": [
    "show(gridplot(plot_list, ncols=2, plot_width=600, plot_height=400))"
   ]
  },
  {
   "cell_type": "markdown",
   "metadata": {},
   "source": [
    "## Remove potential ancestry outliers from full dataset\n",
    "\n",
    "In further analysis of the dataset, we do not want to include these four potential ancestry outliers (PAO). We will therefore load the full dataset, discard the PAOs, and write the data again."
   ]
  },
  {
   "cell_type": "code",
   "execution_count": 52,
   "metadata": {},
   "outputs": [
    {
     "name": "stdout",
     "output_type": "stream",
     "text": [
      "Number of potential ancestry outliers: 4\n"
     ]
    }
   ],
   "source": [
    "# Potential ancestry outliers.\n",
    "pao_list = mt.filter_cols(mt.scores[0] < -0.4).s.collect()\n",
    "\n",
    "print('Number of potential ancestry outliers: {n}'.format(n=len(pao_list)))"
   ]
  },
  {
   "cell_type": "code",
   "execution_count": 50,
   "metadata": {},
   "outputs": [],
   "source": [
    "# Read original matrix table.\n",
    "full_mt = hl.read_matrix_table(BASE_DIR + '/data/mt/high_quality_variants.mt')\n",
    "\n",
    "# Annotate with the list of potential ancestry outliers.\n",
    "full_mt = full_mt.annotate_globals(pao_list = pao_list)\n",
    "\n",
    "# Remove the potential ancestry outliers.\n",
    "pao_removed_mt = full_mt.filter_cols(~full_mt.pao_list.contains(full_mt.s))"
   ]
  },
  {
   "cell_type": "code",
   "execution_count": 51,
   "metadata": {},
   "outputs": [
    {
     "name": "stdout",
     "output_type": "stream",
     "text": [
      "Number of variants: 1146382\n",
      "Number of samples: 464\n"
     ]
    }
   ],
   "source": [
    "n_variants, n_samples = pao_removed_mt.count()\n",
    "print('Number of variants: ' + str(n_variants))\n",
    "print('Number of samples: ' + str(n_samples))"
   ]
  },
  {
   "cell_type": "markdown",
   "metadata": {},
   "source": [
    "Update variant QC information, as this has changed when we have removed some samples."
   ]
  },
  {
   "cell_type": "code",
   "execution_count": 55,
   "metadata": {},
   "outputs": [],
   "source": [
    "pao_removed_mt = hl.variant_qc(pao_removed_mt)"
   ]
  },
  {
   "cell_type": "markdown",
   "metadata": {},
   "source": [
    "Write the resulting matrix table to file."
   ]
  },
  {
   "cell_type": "code",
   "execution_count": 56,
   "metadata": {},
   "outputs": [
    {
     "name": "stderr",
     "output_type": "stream",
     "text": [
      "2021-06-28 15:23:08 Hail: INFO: wrote matrix table with 1146382 rows and 464 columns in 37 partitions to /home/olavur/experiments/2020-11-13_fargen1_exome_analysis/data/mt/high_quality_variants_pao_removed.mt\n",
      "    Total size: 1.60 GiB\n",
      "    * Rows/entries: 1.60 GiB\n",
      "    * Columns: 49.53 KiB\n",
      "    * Globals: 39.00 B\n",
      "    * Smallest partition: 29355 rows (37.99 MiB)\n",
      "    * Largest partition:  31925 rows (46.47 MiB)\n"
     ]
    }
   ],
   "source": [
    "pao_removed_mt.write(BASE_DIR + '/data/mt/high_quality_variants_pao_removed.mt', overwrite=True)"
   ]
  },
  {
   "cell_type": "markdown",
   "metadata": {},
   "source": [
    "## PCA without outliers\n",
    "\n",
    "These PCA outerliers prevent us from detecting population structure in the PCA above. Whether they are ancestry outliers or whether something else is at play, we must remove them to be able to detect population structure."
   ]
  },
  {
   "cell_type": "code",
   "execution_count": 24,
   "metadata": {},
   "outputs": [],
   "source": [
    "mt = mt.filter_cols(mt.scores[0] > -0.4)"
   ]
  },
  {
   "cell_type": "markdown",
   "metadata": {},
   "source": [
    "Now we just do the PCA again, and see if PC 1 and 2 show signs of population structure."
   ]
  },
  {
   "cell_type": "code",
   "execution_count": 25,
   "metadata": {},
   "outputs": [
    {
     "name": "stderr",
     "output_type": "stream",
     "text": [
      "2021-06-28 15:01:05 Hail: INFO: hwe_normalized_pca: running PCA using 83887 variants.\n",
      "2021-06-28 15:01:06 Hail: INFO: pca: running PCA with 4 components...\n"
     ]
    }
   ],
   "source": [
    "eigenvalues, scores, loadings = hl.hwe_normalized_pca(mt.GT, k=4)"
   ]
  },
  {
   "cell_type": "code",
   "execution_count": 26,
   "metadata": {},
   "outputs": [],
   "source": [
    "mt = mt.annotate_cols(scores = scores[mt.s].scores)"
   ]
  },
  {
   "cell_type": "code",
   "execution_count": 27,
   "metadata": {},
   "outputs": [
    {
     "data": {
      "text/html": [
       "\n",
       "\n",
       "\n",
       "\n",
       "\n",
       "\n",
       "  <div class=\"bk-root\" id=\"0f501d6a-18c4-410b-a917-ccac8c809993\" data-root-id=\"3545\"></div>\n"
      ]
     },
     "metadata": {},
     "output_type": "display_data"
    },
    {
     "data": {
      "application/javascript": [
       "(function(root) {\n",
       "  function embed_document(root) {\n",
       "    \n",
       "  var docs_json = {\"24ccc62b-c2ae-43c2-b492-00ea11fbde73\":{\"roots\":{\"references\":[{\"attributes\":{\"below\":[{\"id\":\"3556\",\"type\":\"LinearAxis\"}],\"center\":[{\"id\":\"3560\",\"type\":\"Grid\"},{\"id\":\"3565\",\"type\":\"Grid\"}],\"left\":[{\"id\":\"3561\",\"type\":\"LinearAxis\"},{\"id\":\"3632\",\"type\":\"Legend\"},{\"id\":\"3633\",\"type\":\"ColorBar\"}],\"plot_height\":600,\"plot_width\":800,\"renderers\":[{\"id\":\"3588\",\"type\":\"GlyphRenderer\"},{\"id\":\"3594\",\"type\":\"GlyphRenderer\"},{\"id\":\"3600\",\"type\":\"GlyphRenderer\"},{\"id\":\"3606\",\"type\":\"GlyphRenderer\"},{\"id\":\"3612\",\"type\":\"GlyphRenderer\"},{\"id\":\"3618\",\"type\":\"GlyphRenderer\"},{\"id\":\"3624\",\"type\":\"GlyphRenderer\"}],\"title\":{\"id\":\"3546\",\"type\":\"Title\"},\"toolbar\":{\"id\":\"3572\",\"type\":\"Toolbar\"},\"x_range\":{\"id\":\"3548\",\"type\":\"DataRange1d\"},\"x_scale\":{\"id\":\"3552\",\"type\":\"LinearScale\"},\"y_range\":{\"id\":\"3550\",\"type\":\"DataRange1d\"},\"y_scale\":{\"id\":\"3554\",\"type\":\"LinearScale\"}},\"id\":\"3545\",\"subtype\":\"Figure\",\"type\":\"Plot\"},{\"attributes\":{\"data_source\":{\"id\":\"3581\",\"type\":\"ColumnDataSource\"},\"glyph\":{\"id\":\"3610\",\"type\":\"Circle\"},\"hover_glyph\":null,\"muted_glyph\":null,\"nonselection_glyph\":{\"id\":\"3611\",\"type\":\"Circle\"},\"selection_glyph\":null,\"view\":{\"id\":\"3608\",\"type\":\"CDSView\"}},\"id\":\"3612\",\"type\":\"GlyphRenderer\"},{\"attributes\":{\"label\":{\"value\":\"4.00000e+00\"},\"renderers\":[{\"id\":\"3606\",\"type\":\"GlyphRenderer\"}]},\"id\":\"3628\",\"type\":\"LegendItem\"},{\"attributes\":{\"fill_alpha\":{\"value\":0.1},\"fill_color\":{\"value\":\"#1f77b4\"},\"line_alpha\":{\"value\":0.1},\"line_color\":{\"value\":\"#1f77b4\"},\"x\":{\"field\":\"x\"},\"y\":{\"field\":\"y\"}},\"id\":\"3611\",\"type\":\"Circle\"},{\"attributes\":{},\"id\":\"3557\",\"type\":\"BasicTicker\"},{\"attributes\":{},\"id\":\"3566\",\"type\":\"PanTool\"},{\"attributes\":{\"factors\":[\"2.00000e+00\",\"1.00000e+00\",\"3.00000e+00\",\"5.00000e+00\",\"6.00000e+00\",\"NA\",\"4.00000e+00\"],\"palette\":[\"#1f77b4\",\"#ff7f0e\",\"#2ca02c\",\"#d62728\",\"#9467bd\",\"#8c564b\",\"#e377c2\",\"#7f7f7f\",\"#bcbd22\",\"#17becf\"]},\"id\":\"3582\",\"type\":\"CategoricalColorMapper\"},{\"attributes\":{\"bottom_units\":\"screen\",\"fill_alpha\":{\"value\":0.5},\"fill_color\":{\"value\":\"lightgrey\"},\"left_units\":\"screen\",\"level\":\"overlay\",\"line_alpha\":{\"value\":1.0},\"line_color\":{\"value\":\"black\"},\"line_dash\":[4,4],\"line_width\":{\"value\":2},\"render_mode\":\"css\",\"right_units\":\"screen\",\"top_units\":\"screen\"},\"id\":\"3813\",\"type\":\"BoxAnnotation\"},{\"attributes\":{\"label\":{\"value\":\"NA\"},\"renderers\":[{\"id\":\"3624\",\"type\":\"GlyphRenderer\"}]},\"id\":\"3631\",\"type\":\"LegendItem\"},{\"attributes\":{\"filters\":[{\"id\":\"3619\",\"type\":\"GroupFilter\"}],\"source\":{\"id\":\"3581\",\"type\":\"ColumnDataSource\"}},\"id\":\"3620\",\"type\":\"CDSView\"},{\"attributes\":{\"axis_label\":\"PC2\",\"formatter\":{\"id\":\"3806\",\"type\":\"BasicTickFormatter\"},\"ticker\":{\"id\":\"3562\",\"type\":\"BasicTicker\"}},\"id\":\"3561\",\"type\":\"LinearAxis\"},{\"attributes\":{\"color_mapper\":null,\"formatter\":{\"id\":\"3808\",\"type\":\"BasicTickFormatter\"},\"ticker\":{\"id\":\"3807\",\"type\":\"BasicTicker\"},\"visible\":false},\"id\":\"3633\",\"type\":\"ColorBar\"},{\"attributes\":{\"data_source\":{\"id\":\"3581\",\"type\":\"ColumnDataSource\"},\"glyph\":{\"id\":\"3622\",\"type\":\"Circle\"},\"hover_glyph\":null,\"muted_glyph\":null,\"nonselection_glyph\":{\"id\":\"3623\",\"type\":\"Circle\"},\"selection_glyph\":null,\"view\":{\"id\":\"3620\",\"type\":\"CDSView\"}},\"id\":\"3624\",\"type\":\"GlyphRenderer\"},{\"attributes\":{\"column_name\":\"label\",\"group\":\"2.00000e+00\"},\"id\":\"3589\",\"type\":\"GroupFilter\"},{\"attributes\":{\"data_source\":{\"id\":\"3581\",\"type\":\"ColumnDataSource\"},\"glyph\":{\"id\":\"3598\",\"type\":\"Circle\"},\"hover_glyph\":null,\"muted_glyph\":null,\"nonselection_glyph\":{\"id\":\"3599\",\"type\":\"Circle\"},\"selection_glyph\":null,\"view\":{\"id\":\"3596\",\"type\":\"CDSView\"}},\"id\":\"3600\",\"type\":\"GlyphRenderer\"},{\"attributes\":{\"column_name\":\"label\",\"group\":\"1.00000e+00\"},\"id\":\"3583\",\"type\":\"GroupFilter\"},{\"attributes\":{\"column_name\":\"label\",\"group\":\"5.00000e+00\"},\"id\":\"3607\",\"type\":\"GroupFilter\"},{\"attributes\":{\"filters\":[{\"id\":\"3583\",\"type\":\"GroupFilter\"}],\"source\":{\"id\":\"3581\",\"type\":\"ColumnDataSource\"}},\"id\":\"3584\",\"type\":\"CDSView\"},{\"attributes\":{\"fill_alpha\":{\"value\":0.1},\"fill_color\":{\"value\":\"#1f77b4\"},\"line_alpha\":{\"value\":0.1},\"line_color\":{\"value\":\"#1f77b4\"},\"x\":{\"field\":\"x\"},\"y\":{\"field\":\"y\"}},\"id\":\"3617\",\"type\":\"Circle\"},{\"attributes\":{\"fill_alpha\":{\"value\":0.1},\"fill_color\":{\"value\":\"#1f77b4\"},\"line_alpha\":{\"value\":0.1},\"line_color\":{\"value\":\"#1f77b4\"},\"x\":{\"field\":\"x\"},\"y\":{\"field\":\"y\"}},\"id\":\"3623\",\"type\":\"Circle\"},{\"attributes\":{},\"id\":\"3569\",\"type\":\"SaveTool\"},{\"attributes\":{\"fill_color\":{\"field\":\"label\",\"transform\":{\"id\":\"3582\",\"type\":\"CategoricalColorMapper\"}},\"line_color\":{\"field\":\"label\",\"transform\":{\"id\":\"3582\",\"type\":\"CategoricalColorMapper\"}},\"x\":{\"field\":\"x\"},\"y\":{\"field\":\"y\"}},\"id\":\"3604\",\"type\":\"Circle\"},{\"attributes\":{\"data_source\":{\"id\":\"3581\",\"type\":\"ColumnDataSource\"},\"glyph\":{\"id\":\"3592\",\"type\":\"Circle\"},\"hover_glyph\":null,\"muted_glyph\":null,\"nonselection_glyph\":{\"id\":\"3593\",\"type\":\"Circle\"},\"selection_glyph\":null,\"view\":{\"id\":\"3590\",\"type\":\"CDSView\"}},\"id\":\"3594\",\"type\":\"GlyphRenderer\"},{\"attributes\":{},\"id\":\"3567\",\"type\":\"WheelZoomTool\"},{\"attributes\":{},\"id\":\"3554\",\"type\":\"LinearScale\"},{\"attributes\":{\"fill_color\":{\"field\":\"label\",\"transform\":{\"id\":\"3582\",\"type\":\"CategoricalColorMapper\"}},\"line_color\":{\"field\":\"label\",\"transform\":{\"id\":\"3582\",\"type\":\"CategoricalColorMapper\"}},\"x\":{\"field\":\"x\"},\"y\":{\"field\":\"y\"}},\"id\":\"3610\",\"type\":\"Circle\"},{\"attributes\":{\"fill_color\":{\"field\":\"label\",\"transform\":{\"id\":\"3582\",\"type\":\"CategoricalColorMapper\"}},\"line_color\":{\"field\":\"label\",\"transform\":{\"id\":\"3582\",\"type\":\"CategoricalColorMapper\"}},\"x\":{\"field\":\"x\"},\"y\":{\"field\":\"y\"}},\"id\":\"3598\",\"type\":\"Circle\"},{\"attributes\":{\"fill_color\":{\"field\":\"label\",\"transform\":{\"id\":\"3582\",\"type\":\"CategoricalColorMapper\"}},\"line_color\":{\"field\":\"label\",\"transform\":{\"id\":\"3582\",\"type\":\"CategoricalColorMapper\"}},\"x\":{\"field\":\"x\"},\"y\":{\"field\":\"y\"}},\"id\":\"3616\",\"type\":\"Circle\"},{\"attributes\":{\"data_source\":{\"id\":\"3581\",\"type\":\"ColumnDataSource\"},\"glyph\":{\"id\":\"3586\",\"type\":\"Circle\"},\"hover_glyph\":null,\"muted_glyph\":null,\"nonselection_glyph\":{\"id\":\"3587\",\"type\":\"Circle\"},\"selection_glyph\":null,\"view\":{\"id\":\"3584\",\"type\":\"CDSView\"}},\"id\":\"3588\",\"type\":\"GlyphRenderer\"},{\"attributes\":{},\"id\":\"3807\",\"type\":\"BasicTicker\"},{\"attributes\":{\"column_name\":\"label\",\"group\":\"3.00000e+00\"},\"id\":\"3595\",\"type\":\"GroupFilter\"},{\"attributes\":{\"fill_alpha\":{\"value\":0.1},\"fill_color\":{\"value\":\"#1f77b4\"},\"line_alpha\":{\"value\":0.1},\"line_color\":{\"value\":\"#1f77b4\"},\"x\":{\"field\":\"x\"},\"y\":{\"field\":\"y\"}},\"id\":\"3593\",\"type\":\"Circle\"},{\"attributes\":{\"dimension\":1,\"ticker\":{\"id\":\"3562\",\"type\":\"BasicTicker\"}},\"id\":\"3565\",\"type\":\"Grid\"},{\"attributes\":{\"data_source\":{\"id\":\"3581\",\"type\":\"ColumnDataSource\"},\"glyph\":{\"id\":\"3604\",\"type\":\"Circle\"},\"hover_glyph\":null,\"muted_glyph\":null,\"nonselection_glyph\":{\"id\":\"3605\",\"type\":\"Circle\"},\"selection_glyph\":null,\"view\":{\"id\":\"3602\",\"type\":\"CDSView\"}},\"id\":\"3606\",\"type\":\"GlyphRenderer\"},{\"attributes\":{},\"id\":\"3562\",\"type\":\"BasicTicker\"},{\"attributes\":{\"active_drag\":\"auto\",\"active_inspect\":\"auto\",\"active_multi\":null,\"active_scroll\":\"auto\",\"active_tap\":\"auto\",\"tools\":[{\"id\":\"3566\",\"type\":\"PanTool\"},{\"id\":\"3567\",\"type\":\"WheelZoomTool\"},{\"id\":\"3568\",\"type\":\"BoxZoomTool\"},{\"id\":\"3569\",\"type\":\"SaveTool\"},{\"id\":\"3570\",\"type\":\"ResetTool\"},{\"id\":\"3571\",\"type\":\"HelpTool\"},{\"id\":\"3580\",\"type\":\"HoverTool\"}]},\"id\":\"3572\",\"type\":\"Toolbar\"},{\"attributes\":{\"fill_color\":{\"field\":\"label\",\"transform\":{\"id\":\"3582\",\"type\":\"CategoricalColorMapper\"}},\"line_color\":{\"field\":\"label\",\"transform\":{\"id\":\"3582\",\"type\":\"CategoricalColorMapper\"}},\"x\":{\"field\":\"x\"},\"y\":{\"field\":\"y\"}},\"id\":\"3592\",\"type\":\"Circle\"},{\"attributes\":{\"ticker\":{\"id\":\"3557\",\"type\":\"BasicTicker\"}},\"id\":\"3560\",\"type\":\"Grid\"},{\"attributes\":{},\"id\":\"3806\",\"type\":\"BasicTickFormatter\"},{\"attributes\":{\"label\":{\"value\":\"2.00000e+00\"},\"renderers\":[{\"id\":\"3594\",\"type\":\"GlyphRenderer\"}]},\"id\":\"3626\",\"type\":\"LegendItem\"},{\"attributes\":{\"axis_label\":\"PC1\",\"formatter\":{\"id\":\"3810\",\"type\":\"BasicTickFormatter\"},\"ticker\":{\"id\":\"3557\",\"type\":\"BasicTicker\"}},\"id\":\"3556\",\"type\":\"LinearAxis\"},{\"attributes\":{},\"id\":\"3810\",\"type\":\"BasicTickFormatter\"},{\"attributes\":{\"filters\":[{\"id\":\"3613\",\"type\":\"GroupFilter\"}],\"source\":{\"id\":\"3581\",\"type\":\"ColumnDataSource\"}},\"id\":\"3614\",\"type\":\"CDSView\"},{\"attributes\":{\"fill_color\":{\"field\":\"label\",\"transform\":{\"id\":\"3582\",\"type\":\"CategoricalColorMapper\"}},\"line_color\":{\"field\":\"label\",\"transform\":{\"id\":\"3582\",\"type\":\"CategoricalColorMapper\"}},\"x\":{\"field\":\"x\"},\"y\":{\"field\":\"y\"}},\"id\":\"3586\",\"type\":\"Circle\"},{\"attributes\":{\"fill_alpha\":{\"value\":0.1},\"fill_color\":{\"value\":\"#1f77b4\"},\"line_alpha\":{\"value\":0.1},\"line_color\":{\"value\":\"#1f77b4\"},\"x\":{\"field\":\"x\"},\"y\":{\"field\":\"y\"}},\"id\":\"3599\",\"type\":\"Circle\"},{\"attributes\":{\"column_name\":\"label\",\"group\":\"6.00000e+00\"},\"id\":\"3613\",\"type\":\"GroupFilter\"},{\"attributes\":{\"fill_color\":{\"field\":\"label\",\"transform\":{\"id\":\"3582\",\"type\":\"CategoricalColorMapper\"}},\"line_color\":{\"field\":\"label\",\"transform\":{\"id\":\"3582\",\"type\":\"CategoricalColorMapper\"}},\"x\":{\"field\":\"x\"},\"y\":{\"field\":\"y\"}},\"id\":\"3622\",\"type\":\"Circle\"},{\"attributes\":{\"filters\":[{\"id\":\"3595\",\"type\":\"GroupFilter\"}],\"source\":{\"id\":\"3581\",\"type\":\"ColumnDataSource\"}},\"id\":\"3596\",\"type\":\"CDSView\"},{\"attributes\":{\"overlay\":{\"id\":\"3813\",\"type\":\"BoxAnnotation\"}},\"id\":\"3568\",\"type\":\"BoxZoomTool\"},{\"attributes\":{\"callback\":null,\"tooltips\":[[\"x\",\"@x\"],[\"y\",\"@y\"],[\"label\",\"@label\"]]},\"id\":\"3580\",\"type\":\"HoverTool\"},{\"attributes\":{},\"id\":\"3811\",\"type\":\"Selection\"},{\"attributes\":{\"fill_alpha\":{\"value\":0.1},\"fill_color\":{\"value\":\"#1f77b4\"},\"line_alpha\":{\"value\":0.1},\"line_color\":{\"value\":\"#1f77b4\"},\"x\":{\"field\":\"x\"},\"y\":{\"field\":\"y\"}},\"id\":\"3605\",\"type\":\"Circle\"},{\"attributes\":{},\"id\":\"3570\",\"type\":\"ResetTool\"},{\"attributes\":{},\"id\":\"3812\",\"type\":\"UnionRenderers\"},{\"attributes\":{\"filters\":[{\"id\":\"3589\",\"type\":\"GroupFilter\"}],\"source\":{\"id\":\"3581\",\"type\":\"ColumnDataSource\"}},\"id\":\"3590\",\"type\":\"CDSView\"},{\"attributes\":{\"filters\":[{\"id\":\"3607\",\"type\":\"GroupFilter\"}],\"source\":{\"id\":\"3581\",\"type\":\"ColumnDataSource\"}},\"id\":\"3608\",\"type\":\"CDSView\"},{\"attributes\":{\"column_name\":\"label\",\"group\":\"NA\"},\"id\":\"3619\",\"type\":\"GroupFilter\"},{\"attributes\":{\"data_source\":{\"id\":\"3581\",\"type\":\"ColumnDataSource\"},\"glyph\":{\"id\":\"3616\",\"type\":\"Circle\"},\"hover_glyph\":null,\"muted_glyph\":null,\"nonselection_glyph\":{\"id\":\"3617\",\"type\":\"Circle\"},\"selection_glyph\":null,\"view\":{\"id\":\"3614\",\"type\":\"CDSView\"}},\"id\":\"3618\",\"type\":\"GlyphRenderer\"},{\"attributes\":{\"label\":{\"value\":\"5.00000e+00\"},\"renderers\":[{\"id\":\"3612\",\"type\":\"GlyphRenderer\"}]},\"id\":\"3629\",\"type\":\"LegendItem\"},{\"attributes\":{},\"id\":\"3808\",\"type\":\"BasicTickFormatter\"},{\"attributes\":{\"label\":{\"value\":\"6.00000e+00\"},\"renderers\":[{\"id\":\"3618\",\"type\":\"GlyphRenderer\"}]},\"id\":\"3630\",\"type\":\"LegendItem\"},{\"attributes\":{\"fill_alpha\":{\"value\":0.1},\"fill_color\":{\"value\":\"#1f77b4\"},\"line_alpha\":{\"value\":0.1},\"line_color\":{\"value\":\"#1f77b4\"},\"x\":{\"field\":\"x\"},\"y\":{\"field\":\"y\"}},\"id\":\"3587\",\"type\":\"Circle\"},{\"attributes\":{},\"id\":\"3571\",\"type\":\"HelpTool\"},{\"attributes\":{\"callback\":null},\"id\":\"3548\",\"type\":\"DataRange1d\"},{\"attributes\":{\"label\":{\"value\":\"1.00000e+00\"},\"renderers\":[{\"id\":\"3588\",\"type\":\"GlyphRenderer\"}]},\"id\":\"3625\",\"type\":\"LegendItem\"},{\"attributes\":{\"label\":{\"value\":\"3.00000e+00\"},\"renderers\":[{\"id\":\"3600\",\"type\":\"GlyphRenderer\"}]},\"id\":\"3627\",\"type\":\"LegendItem\"},{\"attributes\":{\"filters\":[{\"id\":\"3601\",\"type\":\"GroupFilter\"}],\"source\":{\"id\":\"3581\",\"type\":\"ColumnDataSource\"}},\"id\":\"3602\",\"type\":\"CDSView\"},{\"attributes\":{\"click_policy\":\"hide\",\"items\":[{\"id\":\"3625\",\"type\":\"LegendItem\"},{\"id\":\"3626\",\"type\":\"LegendItem\"},{\"id\":\"3627\",\"type\":\"LegendItem\"},{\"id\":\"3628\",\"type\":\"LegendItem\"},{\"id\":\"3629\",\"type\":\"LegendItem\"},{\"id\":\"3630\",\"type\":\"LegendItem\"},{\"id\":\"3631\",\"type\":\"LegendItem\"}]},\"id\":\"3632\",\"type\":\"Legend\"},{\"attributes\":{},\"id\":\"3552\",\"type\":\"LinearScale\"},{\"attributes\":{\"callback\":null,\"data\":{\"index\":[0,1,2,3,4,5,6,7,8,9,10,11,12,13,14,15,16,17,18,19,20,21,22,23,24,25,26,27,28,29,30,31,32,33,34,35,36,37,38,39,40,41,42,43,44,45,46,47,48,49,50,51,52,53,54,55,56,57,58,59,60,61,62,63,64,65,66,67,68,69,70,71,72,73,74,75,76,77,78,79,80,81,82,83,84,85,86,87,88,89,90,91,92,93,94,95,96,97,98,99,100,101,102,103,104,105,106,107,108,109,110,111,112,113,114,115,116,117,118,119,120,121,122,123,124,125,126,127,128,129,130,131,132,133,134,135,136,137,138,139,140,141,142,143,144,145,146,147,148,149,150,151,152,153,154,155,156,157,158,159,160,161,162,163,164,165,166,167,168,169,170,171,172,173,174,175,176,177,178,179,180,181,182,183,184,185,186,187,188,189,190,191,192,193,194,195,196,197,198,199,200,201,202,203,204,205,206,207,208,209,210,211,212,213,214,215,216,217,218,219,220,221,222,223,224,225,226,227,228,229,230,231,232,233,234,235,236,237,238,239,240,241,242,243,244,245,246,247,248,249,250,251,252,253,254,255,256,257,258,259,260,261,262,263,264,265,266,267,268,269,270,271,272,273,274,275,276,277,278,279,280,281,282,283,284,285,286,287,288,289,290,291,292,293,294,295,296,297,298,299,300,301,302,303,304,305,306,307,308,309,310,311,312,313,314,315,316,317,318,319,320,321,322,323,324,325,326,327,328,329,330,331,332,333,334,335,336,337,338,339,340,341,342,343,344,345,346,347,348,349,350,351,352,353,354,355,356,357,358,359,360,361,362,363,364,365,366,367,368,369,370,371,372,373,374,375,376,377,378,379,380,381,382,383],\"label\":[\"1.00000e+00\",\"1.00000e+00\",\"NA\",\"1.00000e+00\",\"4.00000e+00\",\"4.00000e+00\",\"1.00000e+00\",\"4.00000e+00\",\"1.00000e+00\",\"1.00000e+00\",\"4.00000e+00\",\"3.00000e+00\",\"2.00000e+00\",\"4.00000e+00\",\"3.00000e+00\",\"3.00000e+00\",\"3.00000e+00\",\"2.00000e+00\",\"4.00000e+00\",\"1.00000e+00\",\"5.00000e+00\",\"3.00000e+00\",\"1.00000e+00\",\"2.00000e+00\",\"3.00000e+00\",\"3.00000e+00\",\"2.00000e+00\",\"2.00000e+00\",\"3.00000e+00\",\"1.00000e+00\",\"2.00000e+00\",\"3.00000e+00\",\"4.00000e+00\",\"NA\",\"NA\",\"4.00000e+00\",\"1.00000e+00\",\"3.00000e+00\",\"3.00000e+00\",\"6.00000e+00\",\"3.00000e+00\",\"NA\",\"3.00000e+00\",\"5.00000e+00\",\"3.00000e+00\",\"2.00000e+00\",\"3.00000e+00\",\"3.00000e+00\",\"3.00000e+00\",\"NA\",\"1.00000e+00\",\"2.00000e+00\",\"3.00000e+00\",\"5.00000e+00\",\"3.00000e+00\",\"4.00000e+00\",\"2.00000e+00\",\"2.00000e+00\",\"3.00000e+00\",\"NA\",\"2.00000e+00\",\"4.00000e+00\",\"6.00000e+00\",\"3.00000e+00\",\"2.00000e+00\",\"1.00000e+00\",\"3.00000e+00\",\"3.00000e+00\",\"1.00000e+00\",\"3.00000e+00\",\"3.00000e+00\",\"3.00000e+00\",\"2.00000e+00\",\"NA\",\"2.00000e+00\",\"2.00000e+00\",\"1.00000e+00\",\"3.00000e+00\",\"NA\",\"3.00000e+00\",\"NA\",\"2.00000e+00\",\"4.00000e+00\",\"2.00000e+00\",\"2.00000e+00\",\"2.00000e+00\",\"2.00000e+00\",\"3.00000e+00\",\"3.00000e+00\",\"1.00000e+00\",\"NA\",\"2.00000e+00\",\"1.00000e+00\",\"3.00000e+00\",\"4.00000e+00\",\"NA\",\"2.00000e+00\",\"6.00000e+00\",\"1.00000e+00\",\"3.00000e+00\",\"NA\",\"2.00000e+00\",\"2.00000e+00\",\"2.00000e+00\",\"NA\",\"NA\",\"3.00000e+00\",\"3.00000e+00\",\"3.00000e+00\",\"3.00000e+00\",\"6.00000e+00\",\"3.00000e+00\",\"NA\",\"3.00000e+00\",\"4.00000e+00\",\"1.00000e+00\",\"3.00000e+00\",\"1.00000e+00\",\"3.00000e+00\",\"2.00000e+00\",\"2.00000e+00\",\"3.00000e+00\",\"3.00000e+00\",\"2.00000e+00\",\"1.00000e+00\",\"2.00000e+00\",\"1.00000e+00\",\"3.00000e+00\",\"2.00000e+00\",\"3.00000e+00\",\"3.00000e+00\",\"2.00000e+00\",\"6.00000e+00\",\"2.00000e+00\",\"4.00000e+00\",\"1.00000e+00\",\"6.00000e+00\",\"3.00000e+00\",\"3.00000e+00\",\"3.00000e+00\",\"3.00000e+00\",\"2.00000e+00\",\"6.00000e+00\",\"2.00000e+00\",\"NA\",\"3.00000e+00\",\"3.00000e+00\",\"2.00000e+00\",\"3.00000e+00\",\"3.00000e+00\",\"2.00000e+00\",\"3.00000e+00\",\"3.00000e+00\",\"5.00000e+00\",\"3.00000e+00\",\"2.00000e+00\",\"4.00000e+00\",\"2.00000e+00\",\"NA\",\"2.00000e+00\",\"2.00000e+00\",\"2.00000e+00\",\"NA\",\"2.00000e+00\",\"6.00000e+00\",\"3.00000e+00\",\"3.00000e+00\",\"1.00000e+00\",\"2.00000e+00\",\"6.00000e+00\",\"1.00000e+00\",\"3.00000e+00\",\"3.00000e+00\",\"3.00000e+00\",\"2.00000e+00\",\"3.00000e+00\",\"6.00000e+00\",\"2.00000e+00\",\"1.00000e+00\",\"1.00000e+00\",\"2.00000e+00\",\"3.00000e+00\",\"3.00000e+00\",\"3.00000e+00\",\"2.00000e+00\",\"4.00000e+00\",\"2.00000e+00\",\"3.00000e+00\",\"3.00000e+00\",\"2.00000e+00\",\"3.00000e+00\",\"3.00000e+00\",\"1.00000e+00\",\"3.00000e+00\",\"3.00000e+00\",\"1.00000e+00\",\"3.00000e+00\",\"1.00000e+00\",\"2.00000e+00\",\"3.00000e+00\",\"1.00000e+00\",\"1.00000e+00\",\"2.00000e+00\",\"1.00000e+00\",\"3.00000e+00\",\"4.00000e+00\",\"6.00000e+00\",\"1.00000e+00\",\"3.00000e+00\",\"5.00000e+00\",\"3.00000e+00\",\"1.00000e+00\",\"3.00000e+00\",\"6.00000e+00\",\"1.00000e+00\",\"2.00000e+00\",\"NA\",\"6.00000e+00\",\"6.00000e+00\",\"NA\",\"1.00000e+00\",\"2.00000e+00\",\"4.00000e+00\",\"2.00000e+00\",\"3.00000e+00\",\"NA\",\"6.00000e+00\",\"3.00000e+00\",\"1.00000e+00\",\"1.00000e+00\",\"3.00000e+00\",\"2.00000e+00\",\"2.00000e+00\",\"2.00000e+00\",\"5.00000e+00\",\"1.00000e+00\",\"3.00000e+00\",\"3.00000e+00\",\"3.00000e+00\",\"3.00000e+00\",\"3.00000e+00\",\"3.00000e+00\",\"2.00000e+00\",\"3.00000e+00\",\"3.00000e+00\",\"3.00000e+00\",\"1.00000e+00\",\"5.00000e+00\",\"3.00000e+00\",\"3.00000e+00\",\"2.00000e+00\",\"1.00000e+00\",\"5.00000e+00\",\"2.00000e+00\",\"3.00000e+00\",\"3.00000e+00\",\"3.00000e+00\",\"3.00000e+00\",\"NA\",\"3.00000e+00\",\"3.00000e+00\",\"2.00000e+00\",\"2.00000e+00\",\"6.00000e+00\",\"6.00000e+00\",\"3.00000e+00\",\"4.00000e+00\",\"1.00000e+00\",\"6.00000e+00\",\"6.00000e+00\",\"3.00000e+00\",\"1.00000e+00\",\"1.00000e+00\",\"2.00000e+00\",\"3.00000e+00\",\"NA\",\"3.00000e+00\",\"1.00000e+00\",\"4.00000e+00\",\"2.00000e+00\",\"4.00000e+00\",\"5.00000e+00\",\"6.00000e+00\",\"6.00000e+00\",\"3.00000e+00\",\"3.00000e+00\",\"3.00000e+00\",\"2.00000e+00\",\"3.00000e+00\",\"5.00000e+00\",\"6.00000e+00\",\"3.00000e+00\",\"3.00000e+00\",\"1.00000e+00\",\"4.00000e+00\",\"3.00000e+00\",\"3.00000e+00\",\"3.00000e+00\",\"3.00000e+00\",\"1.00000e+00\",\"5.00000e+00\",\"2.00000e+00\",\"1.00000e+00\",\"2.00000e+00\",\"2.00000e+00\",\"6.00000e+00\",\"1.00000e+00\",\"3.00000e+00\",\"2.00000e+00\",\"3.00000e+00\",\"2.00000e+00\",\"NA\",\"2.00000e+00\",\"NA\",\"3.00000e+00\",\"6.00000e+00\",\"3.00000e+00\",\"3.00000e+00\",\"3.00000e+00\",\"3.00000e+00\",\"6.00000e+00\",\"1.00000e+00\",\"3.00000e+00\",\"1.00000e+00\",\"3.00000e+00\",\"1.00000e+00\",\"3.00000e+00\",\"2.00000e+00\",\"3.00000e+00\",\"3.00000e+00\",\"3.00000e+00\",\"2.00000e+00\",\"2.00000e+00\",\"2.00000e+00\",\"3.00000e+00\",\"6.00000e+00\",\"3.00000e+00\",\"3.00000e+00\",\"3.00000e+00\",\"1.00000e+00\",\"3.00000e+00\",\"3.00000e+00\",\"6.00000e+00\",\"1.00000e+00\",\"3.00000e+00\",\"6.00000e+00\",\"2.00000e+00\",\"3.00000e+00\",\"1.00000e+00\",\"6.00000e+00\",\"3.00000e+00\",\"3.00000e+00\",\"3.00000e+00\",\"3.00000e+00\",\"6.00000e+00\",\"3.00000e+00\",\"5.00000e+00\",\"3.00000e+00\",\"3.00000e+00\",\"3.00000e+00\",\"3.00000e+00\",\"NA\",\"3.00000e+00\",\"1.00000e+00\",\"6.00000e+00\",\"3.00000e+00\",\"2.00000e+00\",\"NA\",\"3.00000e+00\",\"5.00000e+00\",\"NA\",\"3.00000e+00\",\"3.00000e+00\",\"NA\",\"1.00000e+00\",\"3.00000e+00\",\"NA\",\"3.00000e+00\",\"5.00000e+00\",\"NA\",\"3.00000e+00\",\"NA\",\"6.00000e+00\",\"3.00000e+00\"],\"x\":{\"__ndarray__\":\"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\",\"dtype\":\"float64\",\"shape\":[384]},\"y\":{\"__ndarray__\":\"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\",\"dtype\":\"float64\",\"shape\":[384]}},\"selected\":{\"id\":\"3811\",\"type\":\"Selection\"},\"selection_policy\":{\"id\":\"3812\",\"type\":\"UnionRenderers\"}},\"id\":\"3581\",\"type\":\"ColumnDataSource\"},{\"attributes\":{\"column_name\":\"label\",\"group\":\"4.00000e+00\"},\"id\":\"3601\",\"type\":\"GroupFilter\"},{\"attributes\":{\"text\":\"PCA\"},\"id\":\"3546\",\"type\":\"Title\"},{\"attributes\":{\"callback\":null},\"id\":\"3550\",\"type\":\"DataRange1d\"}],\"root_ids\":[\"3545\"]},\"title\":\"Bokeh Application\",\"version\":\"1.2.0\"}};\n",
       "  var render_items = [{\"docid\":\"24ccc62b-c2ae-43c2-b492-00ea11fbde73\",\"roots\":{\"3545\":\"0f501d6a-18c4-410b-a917-ccac8c809993\"}}];\n",
       "  root.Bokeh.embed.embed_items_notebook(docs_json, render_items);\n",
       "\n",
       "  }\n",
       "  if (root.Bokeh !== undefined) {\n",
       "    embed_document(root);\n",
       "  } else {\n",
       "    var attempts = 0;\n",
       "    var timer = setInterval(function(root) {\n",
       "      if (root.Bokeh !== undefined) {\n",
       "        embed_document(root);\n",
       "        clearInterval(timer);\n",
       "      }\n",
       "      attempts++;\n",
       "      if (attempts > 100) {\n",
       "        console.log(\"Bokeh: ERROR: Unable to run BokehJS code because BokehJS library is missing\");\n",
       "        clearInterval(timer);\n",
       "      }\n",
       "    }, 10, root)\n",
       "  }\n",
       "})(window);"
      ],
      "application/vnd.bokehjs_exec.v0+json": ""
     },
     "metadata": {
      "application/vnd.bokehjs_exec.v0+json": {
       "id": "3545"
      }
     },
     "output_type": "display_data"
    }
   ],
   "source": [
    "p = hl.plot.scatter(mt.scores[0],\n",
    "                    mt.scores[1],\n",
    "                    label=hl.str(mt.birthplace),\n",
    "                    title='PCA', xlabel='PC1', ylabel='PC2')\n",
    "p.plot_width = 800\n",
    "p.plot_height = 600\n",
    "show(p)"
   ]
  },
  {
   "cell_type": "markdown",
   "metadata": {},
   "source": [
    "Region number | Region name(s)\n",
    "-----|-----\n",
    "1 | Norðoyggjar\n",
    "2 | Eysturoy og Norðstreymoy\n",
    "3 | Suðurstreymoy\n",
    "4 | Vágar og Mykines\n",
    "5 | Sandoy, Skúvoy, Stóra Dímun\n",
    "6 | Suðuroy"
   ]
  },
  {
   "cell_type": "markdown",
   "metadata": {},
   "source": [
    "From this PCA, it looks like there is very little population structure. But I'm not so convinced, I see this as a failure to detect population structure, not a success to show that there is no population structure."
   ]
  },
  {
   "cell_type": "markdown",
   "metadata": {},
   "source": [
    "## Summary\n",
    "\n",
    "In this notebook we have:\n",
    "\n",
    "* Investigate population structure in the cohort\n",
    "* Removed potential ancestry outliers from the data"
   ]
  }
 ],
 "metadata": {
  "kernelspec": {
   "display_name": "Python [conda env:fargen-1-exome]",
   "language": "python",
   "name": "conda-env-fargen-1-exome-py"
  },
  "language_info": {
   "codemirror_mode": {
    "name": "ipython",
    "version": 3
   },
   "file_extension": ".py",
   "mimetype": "text/x-python",
   "name": "python",
   "nbconvert_exporter": "python",
   "pygments_lexer": "ipython3",
   "version": "3.7.10"
  }
 },
 "nbformat": 4,
 "nbformat_minor": 4
}
