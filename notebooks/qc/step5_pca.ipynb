{
 "cells": [
  {
   "cell_type": "markdown",
   "metadata": {},
   "source": [
    "# Population structure - PCA of the FarGen cohort"
   ]
  },
  {
   "cell_type": "code",
   "execution_count": 1,
   "metadata": {},
   "outputs": [
    {
     "name": "stderr",
     "output_type": "stream",
     "text": [
      "Running on Apache Spark version 2.4.1\n",
      "SparkUI available at http://hms-beagle-848846b477-48ks9:4041\n",
      "Welcome to\n",
      "     __  __     <>__\n",
      "    / /_/ /__  __/ /\n",
      "   / __  / _ `/ / /\n",
      "  /_/ /_/\\_,_/_/_/   version 0.2.61-3c86d3ba497a\n",
      "LOGGING: writing to /home/olavur/experiments/2020-11-13_fargen1_exome_analysis/fargen-1-exome/notebooks/qc/hail-20210604-1228-0.2.61-3c86d3ba497a.log\n"
     ]
    }
   ],
   "source": [
    "import hail as hl\n",
    "hl.init(spark_conf={'spark.driver.memory': '100g'}, tmp_dir='/home/olavur/tmp')"
   ]
  },
  {
   "cell_type": "code",
   "execution_count": 2,
   "metadata": {},
   "outputs": [
    {
     "data": {
      "text/html": [
       "\n",
       "    <div class=\"bk-root\">\n",
       "        <a href=\"https://bokeh.pydata.org\" target=\"_blank\" class=\"bk-logo bk-logo-small bk-logo-notebook\"></a>\n",
       "        <span id=\"1001\">Loading BokehJS ...</span>\n",
       "    </div>"
      ]
     },
     "metadata": {},
     "output_type": "display_data"
    },
    {
     "data": {
      "application/javascript": [
       "\n",
       "(function(root) {\n",
       "  function now() {\n",
       "    return new Date();\n",
       "  }\n",
       "\n",
       "  var force = true;\n",
       "\n",
       "  if (typeof root._bokeh_onload_callbacks === \"undefined\" || force === true) {\n",
       "    root._bokeh_onload_callbacks = [];\n",
       "    root._bokeh_is_loading = undefined;\n",
       "  }\n",
       "\n",
       "  var JS_MIME_TYPE = 'application/javascript';\n",
       "  var HTML_MIME_TYPE = 'text/html';\n",
       "  var EXEC_MIME_TYPE = 'application/vnd.bokehjs_exec.v0+json';\n",
       "  var CLASS_NAME = 'output_bokeh rendered_html';\n",
       "\n",
       "  /**\n",
       "   * Render data to the DOM node\n",
       "   */\n",
       "  function render(props, node) {\n",
       "    var script = document.createElement(\"script\");\n",
       "    node.appendChild(script);\n",
       "  }\n",
       "\n",
       "  /**\n",
       "   * Handle when an output is cleared or removed\n",
       "   */\n",
       "  function handleClearOutput(event, handle) {\n",
       "    var cell = handle.cell;\n",
       "\n",
       "    var id = cell.output_area._bokeh_element_id;\n",
       "    var server_id = cell.output_area._bokeh_server_id;\n",
       "    // Clean up Bokeh references\n",
       "    if (id != null && id in Bokeh.index) {\n",
       "      Bokeh.index[id].model.document.clear();\n",
       "      delete Bokeh.index[id];\n",
       "    }\n",
       "\n",
       "    if (server_id !== undefined) {\n",
       "      // Clean up Bokeh references\n",
       "      var cmd = \"from bokeh.io.state import curstate; print(curstate().uuid_to_server['\" + server_id + \"'].get_sessions()[0].document.roots[0]._id)\";\n",
       "      cell.notebook.kernel.execute(cmd, {\n",
       "        iopub: {\n",
       "          output: function(msg) {\n",
       "            var id = msg.content.text.trim();\n",
       "            if (id in Bokeh.index) {\n",
       "              Bokeh.index[id].model.document.clear();\n",
       "              delete Bokeh.index[id];\n",
       "            }\n",
       "          }\n",
       "        }\n",
       "      });\n",
       "      // Destroy server and session\n",
       "      var cmd = \"import bokeh.io.notebook as ion; ion.destroy_server('\" + server_id + \"')\";\n",
       "      cell.notebook.kernel.execute(cmd);\n",
       "    }\n",
       "  }\n",
       "\n",
       "  /**\n",
       "   * Handle when a new output is added\n",
       "   */\n",
       "  function handleAddOutput(event, handle) {\n",
       "    var output_area = handle.output_area;\n",
       "    var output = handle.output;\n",
       "\n",
       "    // limit handleAddOutput to display_data with EXEC_MIME_TYPE content only\n",
       "    if ((output.output_type != \"display_data\") || (!output.data.hasOwnProperty(EXEC_MIME_TYPE))) {\n",
       "      return\n",
       "    }\n",
       "\n",
       "    var toinsert = output_area.element.find(\".\" + CLASS_NAME.split(' ')[0]);\n",
       "\n",
       "    if (output.metadata[EXEC_MIME_TYPE][\"id\"] !== undefined) {\n",
       "      toinsert[toinsert.length - 1].firstChild.textContent = output.data[JS_MIME_TYPE];\n",
       "      // store reference to embed id on output_area\n",
       "      output_area._bokeh_element_id = output.metadata[EXEC_MIME_TYPE][\"id\"];\n",
       "    }\n",
       "    if (output.metadata[EXEC_MIME_TYPE][\"server_id\"] !== undefined) {\n",
       "      var bk_div = document.createElement(\"div\");\n",
       "      bk_div.innerHTML = output.data[HTML_MIME_TYPE];\n",
       "      var script_attrs = bk_div.children[0].attributes;\n",
       "      for (var i = 0; i < script_attrs.length; i++) {\n",
       "        toinsert[toinsert.length - 1].firstChild.setAttribute(script_attrs[i].name, script_attrs[i].value);\n",
       "      }\n",
       "      // store reference to server id on output_area\n",
       "      output_area._bokeh_server_id = output.metadata[EXEC_MIME_TYPE][\"server_id\"];\n",
       "    }\n",
       "  }\n",
       "\n",
       "  function register_renderer(events, OutputArea) {\n",
       "\n",
       "    function append_mime(data, metadata, element) {\n",
       "      // create a DOM node to render to\n",
       "      var toinsert = this.create_output_subarea(\n",
       "        metadata,\n",
       "        CLASS_NAME,\n",
       "        EXEC_MIME_TYPE\n",
       "      );\n",
       "      this.keyboard_manager.register_events(toinsert);\n",
       "      // Render to node\n",
       "      var props = {data: data, metadata: metadata[EXEC_MIME_TYPE]};\n",
       "      render(props, toinsert[toinsert.length - 1]);\n",
       "      element.append(toinsert);\n",
       "      return toinsert\n",
       "    }\n",
       "\n",
       "    /* Handle when an output is cleared or removed */\n",
       "    events.on('clear_output.CodeCell', handleClearOutput);\n",
       "    events.on('delete.Cell', handleClearOutput);\n",
       "\n",
       "    /* Handle when a new output is added */\n",
       "    events.on('output_added.OutputArea', handleAddOutput);\n",
       "\n",
       "    /**\n",
       "     * Register the mime type and append_mime function with output_area\n",
       "     */\n",
       "    OutputArea.prototype.register_mime_type(EXEC_MIME_TYPE, append_mime, {\n",
       "      /* Is output safe? */\n",
       "      safe: true,\n",
       "      /* Index of renderer in `output_area.display_order` */\n",
       "      index: 0\n",
       "    });\n",
       "  }\n",
       "\n",
       "  // register the mime type if in Jupyter Notebook environment and previously unregistered\n",
       "  if (root.Jupyter !== undefined) {\n",
       "    var events = require('base/js/events');\n",
       "    var OutputArea = require('notebook/js/outputarea').OutputArea;\n",
       "\n",
       "    if (OutputArea.prototype.mime_types().indexOf(EXEC_MIME_TYPE) == -1) {\n",
       "      register_renderer(events, OutputArea);\n",
       "    }\n",
       "  }\n",
       "\n",
       "  \n",
       "  if (typeof (root._bokeh_timeout) === \"undefined\" || force === true) {\n",
       "    root._bokeh_timeout = Date.now() + 5000;\n",
       "    root._bokeh_failed_load = false;\n",
       "  }\n",
       "\n",
       "  var NB_LOAD_WARNING = {'data': {'text/html':\n",
       "     \"<div style='background-color: #fdd'>\\n\"+\n",
       "     \"<p>\\n\"+\n",
       "     \"BokehJS does not appear to have successfully loaded. If loading BokehJS from CDN, this \\n\"+\n",
       "     \"may be due to a slow or bad network connection. Possible fixes:\\n\"+\n",
       "     \"</p>\\n\"+\n",
       "     \"<ul>\\n\"+\n",
       "     \"<li>re-rerun `output_notebook()` to attempt to load from CDN again, or</li>\\n\"+\n",
       "     \"<li>use INLINE resources instead, as so:</li>\\n\"+\n",
       "     \"</ul>\\n\"+\n",
       "     \"<code>\\n\"+\n",
       "     \"from bokeh.resources import INLINE\\n\"+\n",
       "     \"output_notebook(resources=INLINE)\\n\"+\n",
       "     \"</code>\\n\"+\n",
       "     \"</div>\"}};\n",
       "\n",
       "  function display_loaded() {\n",
       "    var el = document.getElementById(\"1001\");\n",
       "    if (el != null) {\n",
       "      el.textContent = \"BokehJS is loading...\";\n",
       "    }\n",
       "    if (root.Bokeh !== undefined) {\n",
       "      if (el != null) {\n",
       "        el.textContent = \"BokehJS \" + root.Bokeh.version + \" successfully loaded.\";\n",
       "      }\n",
       "    } else if (Date.now() < root._bokeh_timeout) {\n",
       "      setTimeout(display_loaded, 100)\n",
       "    }\n",
       "  }\n",
       "\n",
       "\n",
       "  function run_callbacks() {\n",
       "    try {\n",
       "      root._bokeh_onload_callbacks.forEach(function(callback) {\n",
       "        if (callback != null)\n",
       "          callback();\n",
       "      });\n",
       "    } finally {\n",
       "      delete root._bokeh_onload_callbacks\n",
       "    }\n",
       "    console.debug(\"Bokeh: all callbacks have finished\");\n",
       "  }\n",
       "\n",
       "  function load_libs(css_urls, js_urls, callback) {\n",
       "    if (css_urls == null) css_urls = [];\n",
       "    if (js_urls == null) js_urls = [];\n",
       "\n",
       "    root._bokeh_onload_callbacks.push(callback);\n",
       "    if (root._bokeh_is_loading > 0) {\n",
       "      console.debug(\"Bokeh: BokehJS is being loaded, scheduling callback at\", now());\n",
       "      return null;\n",
       "    }\n",
       "    if (js_urls == null || js_urls.length === 0) {\n",
       "      run_callbacks();\n",
       "      return null;\n",
       "    }\n",
       "    console.debug(\"Bokeh: BokehJS not loaded, scheduling load and callback at\", now());\n",
       "    root._bokeh_is_loading = css_urls.length + js_urls.length;\n",
       "\n",
       "    function on_load() {\n",
       "      root._bokeh_is_loading--;\n",
       "      if (root._bokeh_is_loading === 0) {\n",
       "        console.debug(\"Bokeh: all BokehJS libraries/stylesheets loaded\");\n",
       "        run_callbacks()\n",
       "      }\n",
       "    }\n",
       "\n",
       "    function on_error() {\n",
       "      console.error(\"failed to load \" + url);\n",
       "    }\n",
       "\n",
       "    for (var i = 0; i < css_urls.length; i++) {\n",
       "      var url = css_urls[i];\n",
       "      const element = document.createElement(\"link\");\n",
       "      element.onload = on_load;\n",
       "      element.onerror = on_error;\n",
       "      element.rel = \"stylesheet\";\n",
       "      element.type = \"text/css\";\n",
       "      element.href = url;\n",
       "      console.debug(\"Bokeh: injecting link tag for BokehJS stylesheet: \", url);\n",
       "      document.body.appendChild(element);\n",
       "    }\n",
       "\n",
       "    for (var i = 0; i < js_urls.length; i++) {\n",
       "      var url = js_urls[i];\n",
       "      var element = document.createElement('script');\n",
       "      element.onload = on_load;\n",
       "      element.onerror = on_error;\n",
       "      element.async = false;\n",
       "      element.src = url;\n",
       "      console.debug(\"Bokeh: injecting script tag for BokehJS library: \", url);\n",
       "      document.head.appendChild(element);\n",
       "    }\n",
       "  };var element = document.getElementById(\"1001\");\n",
       "  if (element == null) {\n",
       "    console.error(\"Bokeh: ERROR: autoload.js configured with elementid '1001' but no matching script tag was found. \")\n",
       "    return false;\n",
       "  }\n",
       "\n",
       "  function inject_raw_css(css) {\n",
       "    const element = document.createElement(\"style\");\n",
       "    element.appendChild(document.createTextNode(css));\n",
       "    document.body.appendChild(element);\n",
       "  }\n",
       "\n",
       "  var js_urls = [\"https://cdn.pydata.org/bokeh/release/bokeh-1.2.0.min.js\", \"https://cdn.pydata.org/bokeh/release/bokeh-widgets-1.2.0.min.js\", \"https://cdn.pydata.org/bokeh/release/bokeh-tables-1.2.0.min.js\", \"https://cdn.pydata.org/bokeh/release/bokeh-gl-1.2.0.min.js\"];\n",
       "  var css_urls = [\"https://cdn.pydata.org/bokeh/release/bokeh-1.2.0.min.css\", \"https://cdn.pydata.org/bokeh/release/bokeh-widgets-1.2.0.min.css\", \"https://cdn.pydata.org/bokeh/release/bokeh-tables-1.2.0.min.css\"];\n",
       "\n",
       "  var inline_js = [\n",
       "    function(Bokeh) {\n",
       "      Bokeh.set_log_level(\"info\");\n",
       "    },\n",
       "    \n",
       "    function(Bokeh) {\n",
       "      \n",
       "    },\n",
       "    function(Bokeh) {} // ensure no trailing comma for IE\n",
       "  ];\n",
       "\n",
       "  function run_inline_js() {\n",
       "    \n",
       "    if ((root.Bokeh !== undefined) || (force === true)) {\n",
       "      for (var i = 0; i < inline_js.length; i++) {\n",
       "        inline_js[i].call(root, root.Bokeh);\n",
       "      }if (force === true) {\n",
       "        display_loaded();\n",
       "      }} else if (Date.now() < root._bokeh_timeout) {\n",
       "      setTimeout(run_inline_js, 100);\n",
       "    } else if (!root._bokeh_failed_load) {\n",
       "      console.log(\"Bokeh: BokehJS failed to load within specified timeout.\");\n",
       "      root._bokeh_failed_load = true;\n",
       "    } else if (force !== true) {\n",
       "      var cell = $(document.getElementById(\"1001\")).parents('.cell').data().cell;\n",
       "      cell.output_area.append_execute_result(NB_LOAD_WARNING)\n",
       "    }\n",
       "\n",
       "  }\n",
       "\n",
       "  if (root._bokeh_is_loading === 0) {\n",
       "    console.debug(\"Bokeh: BokehJS loaded, going straight to plotting\");\n",
       "    run_inline_js();\n",
       "  } else {\n",
       "    load_libs(css_urls, js_urls, function() {\n",
       "      console.debug(\"Bokeh: BokehJS plotting callback run at\", now());\n",
       "      run_inline_js();\n",
       "    });\n",
       "  }\n",
       "}(window));"
      ],
      "application/vnd.bokehjs_load.v0+json": "\n(function(root) {\n  function now() {\n    return new Date();\n  }\n\n  var force = true;\n\n  if (typeof root._bokeh_onload_callbacks === \"undefined\" || force === true) {\n    root._bokeh_onload_callbacks = [];\n    root._bokeh_is_loading = undefined;\n  }\n\n  \n\n  \n  if (typeof (root._bokeh_timeout) === \"undefined\" || force === true) {\n    root._bokeh_timeout = Date.now() + 5000;\n    root._bokeh_failed_load = false;\n  }\n\n  var NB_LOAD_WARNING = {'data': {'text/html':\n     \"<div style='background-color: #fdd'>\\n\"+\n     \"<p>\\n\"+\n     \"BokehJS does not appear to have successfully loaded. If loading BokehJS from CDN, this \\n\"+\n     \"may be due to a slow or bad network connection. Possible fixes:\\n\"+\n     \"</p>\\n\"+\n     \"<ul>\\n\"+\n     \"<li>re-rerun `output_notebook()` to attempt to load from CDN again, or</li>\\n\"+\n     \"<li>use INLINE resources instead, as so:</li>\\n\"+\n     \"</ul>\\n\"+\n     \"<code>\\n\"+\n     \"from bokeh.resources import INLINE\\n\"+\n     \"output_notebook(resources=INLINE)\\n\"+\n     \"</code>\\n\"+\n     \"</div>\"}};\n\n  function display_loaded() {\n    var el = document.getElementById(\"1001\");\n    if (el != null) {\n      el.textContent = \"BokehJS is loading...\";\n    }\n    if (root.Bokeh !== undefined) {\n      if (el != null) {\n        el.textContent = \"BokehJS \" + root.Bokeh.version + \" successfully loaded.\";\n      }\n    } else if (Date.now() < root._bokeh_timeout) {\n      setTimeout(display_loaded, 100)\n    }\n  }\n\n\n  function run_callbacks() {\n    try {\n      root._bokeh_onload_callbacks.forEach(function(callback) {\n        if (callback != null)\n          callback();\n      });\n    } finally {\n      delete root._bokeh_onload_callbacks\n    }\n    console.debug(\"Bokeh: all callbacks have finished\");\n  }\n\n  function load_libs(css_urls, js_urls, callback) {\n    if (css_urls == null) css_urls = [];\n    if (js_urls == null) js_urls = [];\n\n    root._bokeh_onload_callbacks.push(callback);\n    if (root._bokeh_is_loading > 0) {\n      console.debug(\"Bokeh: BokehJS is being loaded, scheduling callback at\", now());\n      return null;\n    }\n    if (js_urls == null || js_urls.length === 0) {\n      run_callbacks();\n      return null;\n    }\n    console.debug(\"Bokeh: BokehJS not loaded, scheduling load and callback at\", now());\n    root._bokeh_is_loading = css_urls.length + js_urls.length;\n\n    function on_load() {\n      root._bokeh_is_loading--;\n      if (root._bokeh_is_loading === 0) {\n        console.debug(\"Bokeh: all BokehJS libraries/stylesheets loaded\");\n        run_callbacks()\n      }\n    }\n\n    function on_error() {\n      console.error(\"failed to load \" + url);\n    }\n\n    for (var i = 0; i < css_urls.length; i++) {\n      var url = css_urls[i];\n      const element = document.createElement(\"link\");\n      element.onload = on_load;\n      element.onerror = on_error;\n      element.rel = \"stylesheet\";\n      element.type = \"text/css\";\n      element.href = url;\n      console.debug(\"Bokeh: injecting link tag for BokehJS stylesheet: \", url);\n      document.body.appendChild(element);\n    }\n\n    for (var i = 0; i < js_urls.length; i++) {\n      var url = js_urls[i];\n      var element = document.createElement('script');\n      element.onload = on_load;\n      element.onerror = on_error;\n      element.async = false;\n      element.src = url;\n      console.debug(\"Bokeh: injecting script tag for BokehJS library: \", url);\n      document.head.appendChild(element);\n    }\n  };var element = document.getElementById(\"1001\");\n  if (element == null) {\n    console.error(\"Bokeh: ERROR: autoload.js configured with elementid '1001' but no matching script tag was found. \")\n    return false;\n  }\n\n  function inject_raw_css(css) {\n    const element = document.createElement(\"style\");\n    element.appendChild(document.createTextNode(css));\n    document.body.appendChild(element);\n  }\n\n  var js_urls = [\"https://cdn.pydata.org/bokeh/release/bokeh-1.2.0.min.js\", \"https://cdn.pydata.org/bokeh/release/bokeh-widgets-1.2.0.min.js\", \"https://cdn.pydata.org/bokeh/release/bokeh-tables-1.2.0.min.js\", \"https://cdn.pydata.org/bokeh/release/bokeh-gl-1.2.0.min.js\"];\n  var css_urls = [\"https://cdn.pydata.org/bokeh/release/bokeh-1.2.0.min.css\", \"https://cdn.pydata.org/bokeh/release/bokeh-widgets-1.2.0.min.css\", \"https://cdn.pydata.org/bokeh/release/bokeh-tables-1.2.0.min.css\"];\n\n  var inline_js = [\n    function(Bokeh) {\n      Bokeh.set_log_level(\"info\");\n    },\n    \n    function(Bokeh) {\n      \n    },\n    function(Bokeh) {} // ensure no trailing comma for IE\n  ];\n\n  function run_inline_js() {\n    \n    if ((root.Bokeh !== undefined) || (force === true)) {\n      for (var i = 0; i < inline_js.length; i++) {\n        inline_js[i].call(root, root.Bokeh);\n      }if (force === true) {\n        display_loaded();\n      }} else if (Date.now() < root._bokeh_timeout) {\n      setTimeout(run_inline_js, 100);\n    } else if (!root._bokeh_failed_load) {\n      console.log(\"Bokeh: BokehJS failed to load within specified timeout.\");\n      root._bokeh_failed_load = true;\n    } else if (force !== true) {\n      var cell = $(document.getElementById(\"1001\")).parents('.cell').data().cell;\n      cell.output_area.append_execute_result(NB_LOAD_WARNING)\n    }\n\n  }\n\n  if (root._bokeh_is_loading === 0) {\n    console.debug(\"Bokeh: BokehJS loaded, going straight to plotting\");\n    run_inline_js();\n  } else {\n    load_libs(css_urls, js_urls, function() {\n      console.debug(\"Bokeh: BokehJS plotting callback run at\", now());\n      run_inline_js();\n    });\n  }\n}(window));"
     },
     "metadata": {},
     "output_type": "display_data"
    }
   ],
   "source": [
    "from bokeh.io import show, output_notebook\n",
    "from bokeh.layouts import gridplot\n",
    "from bokeh.models.scales import LogScale\n",
    "output_notebook()"
   ]
  },
  {
   "cell_type": "code",
   "execution_count": 3,
   "metadata": {},
   "outputs": [],
   "source": [
    "import pandas as pd"
   ]
  },
  {
   "cell_type": "markdown",
   "metadata": {},
   "source": [
    "## Load FarGen data\n",
    "\n",
    "Use high-quality variants."
   ]
  },
  {
   "cell_type": "code",
   "execution_count": 4,
   "metadata": {},
   "outputs": [],
   "source": [
    "BASE_DIR = '/home/olavur/experiments/2020-11-13_fargen1_exome_analysis'\n",
    "mt = hl.read_matrix_table(BASE_DIR + '/data/mt/high_quality_variants.mt')"
   ]
  },
  {
   "cell_type": "code",
   "execution_count": 6,
   "metadata": {},
   "outputs": [
    {
     "name": "stdout",
     "output_type": "stream",
     "text": [
      "Number of variants: 1146382\n",
      "Number of samples: 468\n"
     ]
    }
   ],
   "source": [
    "n_variants, n_samples = mt.count()\n",
    "print('Number of variants: ' + str(n_variants))\n",
    "print('Number of samples: ' + str(n_samples))"
   ]
  },
  {
   "cell_type": "markdown",
   "metadata": {},
   "source": [
    "## Population filters\n",
    "\n",
    "Apply HWE filter to remove potential genotyping errors. Note that if we use a stringent HWE filter we risk removing evidence of population structure from our data. Therefore, we shall use a lenient filter, only removing variants with very strong deviation from HWE at $p<10^{-9}$."
   ]
  },
  {
   "cell_type": "code",
   "execution_count": 7,
   "metadata": {},
   "outputs": [],
   "source": [
    "mt = mt.annotate_rows(hwe=hl.agg.hardy_weinberg_test(mt.GT))\n",
    "mt = mt.filter_rows(mt.hwe.p_value > 1e-9)"
   ]
  },
  {
   "cell_type": "markdown",
   "metadata": {},
   "source": [
    "To filter rare variants, we first must calculate the minor allele frequency."
   ]
  },
  {
   "cell_type": "code",
   "execution_count": 8,
   "metadata": {},
   "outputs": [],
   "source": [
    "# The number of alleles at the site is the sum of the ploidy at each site.\n",
    "# This number should be twice the number of samples.\n",
    "# If there are missing genotype calls, the number of alleles will be less.\n",
    "AN_exprs = hl.agg.sum(mt.GT.ploidy)\n",
    "mt = mt.annotate_rows(AN=AN_exprs)\n",
    "\n",
    "# Calculate the number of alternate alleles at each site.\n",
    "AC_exprs = hl.agg.sum(mt.GT.n_alt_alleles())\n",
    "mt = mt.annotate_rows(AC=AC_exprs)\n",
    "\n",
    "# Calculate the alternate allele frequency.\n",
    "mt = mt.annotate_rows(AF=mt.AC / mt.AN)"
   ]
  },
  {
   "cell_type": "markdown",
   "metadata": {},
   "source": [
    "Remove variants with minor allele frequency under 0.01. Note that we remove only very rare variants, because common variants can be insufficient to describe fine-scale population structure at a subpopulation scale."
   ]
  },
  {
   "cell_type": "code",
   "execution_count": 9,
   "metadata": {},
   "outputs": [],
   "source": [
    "maf_filter = 0.01\n",
    "mt = mt.filter_rows((mt.AF > maf_filter) & (mt.AF < (1 - maf_filter)))"
   ]
  },
  {
   "cell_type": "markdown",
   "metadata": {},
   "source": [
    "## Filter indels\n",
    "\n",
    "Remove all indels from the dataset.\n",
    "\n",
    "**NOTE:** this code only works because there are only diallelic sites. If there were multi-allelic sites, I would have to check all allele pairs."
   ]
  },
  {
   "cell_type": "code",
   "execution_count": 10,
   "metadata": {},
   "outputs": [],
   "source": [
    "mt = mt.filter_rows(hl.is_snp(mt.alleles[0], mt.alleles[1]))"
   ]
  },
  {
   "cell_type": "markdown",
   "metadata": {},
   "source": [
    "## LD pruning\n",
    "\n",
    "Before we calculate LD, we remove multi-allelic sites.\n",
    "\n",
    "**NOTE:** I can do LD pruning on multi-allelic sites using [split_multi()](https://hail.is/docs/0.2/methods/genetics.html#hail.methods.split_multi)."
   ]
  },
  {
   "cell_type": "code",
   "execution_count": 11,
   "metadata": {},
   "outputs": [],
   "source": [
    "mt = mt.filter_rows(hl.len(mt.alleles) == 2)"
   ]
  },
  {
   "cell_type": "markdown",
   "metadata": {},
   "source": [
    "Prune variants with $r^2 > 0.2$ within a 500 000 basepair window.\n",
    "\n",
    "**NOTE:** this $r^2$ value is quite arbitrary. It is the default from the Hail method and I did not try other values."
   ]
  },
  {
   "cell_type": "code",
   "execution_count": 12,
   "metadata": {},
   "outputs": [
    {
     "name": "stderr",
     "output_type": "stream",
     "text": [
      "2021-06-04 12:29:01 Hail: INFO: ld_prune: running local pruning stage with max queue size of 401850 variants\n",
      "2021-06-04 12:29:15 Hail: INFO: wrote table with 84041 rows in 37 partitions to /home/olavur/tmp/ABC4ejVYKpuAu3E9HCuX9k\n",
      "    Total size: 2.06 MiB\n",
      "    * Rows: 2.06 MiB\n",
      "    * Globals: 11.00 B\n",
      "    * Smallest partition: 1048 rows (25.28 KiB)\n",
      "    * Largest partition:  2875 rows (72.31 KiB)\n",
      "2021-06-04 12:29:32 Hail: INFO: Wrote all 21 blocks of 84041 x 468 matrix with block size 4096.\n",
      "2021-06-04 12:32:42 Hail: INFO: wrote table with 185 rows in 41 partitions to /home/olavur/tmp/RrRAxUWCQcO5Jpa0dEvHQn\n",
      "    Total size: 856.50 KiB\n",
      "    * Rows: 4.88 KiB\n",
      "    * Globals: 851.62 KiB\n",
      "    * Smallest partition: 0 rows (21.00 B)\n",
      "    * Largest partition:  22 rows (461.00 B)\n"
     ]
    }
   ],
   "source": [
    "pruned_variant_table = hl.ld_prune(mt.GT, r2=0.2, bp_window_size=500000)\n",
    "mt = mt.filter_rows(hl.is_defined(pruned_variant_table[mt.row_key]))"
   ]
  },
  {
   "cell_type": "markdown",
   "metadata": {},
   "source": [
    "Make a checkpoint, caching all operations done on the matrix table."
   ]
  },
  {
   "cell_type": "code",
   "execution_count": null,
   "metadata": {},
   "outputs": [],
   "source": [
    "if False:\n",
    "    mt = mt.checkpoint('/home/olavur/tmp/ld_pruned.ht')\n",
    "else:\n",
    "    mt = hl.read_matrix_table('/home/olavur/tmp/ld_pruned.ht')"
   ]
  },
  {
   "cell_type": "code",
   "execution_count": 14,
   "metadata": {},
   "outputs": [
    {
     "name": "stdout",
     "output_type": "stream",
     "text": [
      "Number of variants: 83887\n",
      "Number of samples: 468\n"
     ]
    }
   ],
   "source": [
    "n_variants, n_samples = mt.count()\n",
    "print('Number of variants: ' + str(n_variants))\n",
    "print('Number of samples: ' + str(n_samples))"
   ]
  },
  {
   "cell_type": "markdown",
   "metadata": {},
   "source": [
    "This may be a lot of variants to run a PCA analysis on, but as mentioned previously, we do not want to remove too many rare variants as these can hold a lot of information about fine-scale population structure."
   ]
  },
  {
   "cell_type": "markdown",
   "metadata": {},
   "source": [
    "## Annotate birth place region\n",
    "\n",
    "Import data containing the birthplace ID of all FarGen participants. We will annotate the matrix table with these IDs.\n",
    "\n",
    "First we read a table containing the birthplace but with the 'RIN' participant ID. We will have to map this 'RIN' ID to an 'FN' ID."
   ]
  },
  {
   "cell_type": "code",
   "execution_count": 15,
   "metadata": {},
   "outputs": [
    {
     "name": "stderr",
     "output_type": "stream",
     "text": [
      "2021-06-04 12:45:17 Hail: INFO: Reading table without type imputation\n",
      "  Loading field 'ind' as type str (not specified)\n",
      "  Loading field 'region' as type str (not specified)\n"
     ]
    }
   ],
   "source": [
    "rin_birthplace_ht = hl.import_table(BASE_DIR + '/data/metadata/birthplace/rin_region.csv', delimiter=',')\n",
    "# Rename \"ind\" to \"rin\".\n",
    "# Convert the region variable to float.\n",
    "rin_birthplace_ht = rin_birthplace_ht.transmute(rin=rin_birthplace_ht.ind, birthplace=hl.float64(rin_birthplace_ht.region))\n",
    "\n",
    "rin_birthplace_ht = rin_birthplace_ht.key_by(rin_birthplace_ht.rin)"
   ]
  },
  {
   "cell_type": "markdown",
   "metadata": {},
   "source": [
    "Import table with 'RIN' IDs and corresponding 'FN' IDs."
   ]
  },
  {
   "cell_type": "code",
   "execution_count": 16,
   "metadata": {},
   "outputs": [
    {
     "name": "stderr",
     "output_type": "stream",
     "text": [
      "2021-06-04 12:45:17 Hail: WARN: Name collision: field 'sample' already in object dict. \n",
      "  This field must be referenced with __getitem__ syntax: obj['sample']\n",
      "2021-06-04 12:45:17 Hail: INFO: Reading table without type imputation\n",
      "  Loading field 'rin' as type str (not specified)\n",
      "  Loading field 'sample' as type str (not specified)\n"
     ]
    }
   ],
   "source": [
    "fargen_rin_ht = hl.import_table(BASE_DIR + '/data/metadata/birthplace/fargen_rin_samplename.csv', delimiter=',')\n",
    "fargen_rin_ht = fargen_rin_ht.key_by(fargen_rin_ht.rin)"
   ]
  },
  {
   "cell_type": "markdown",
   "metadata": {},
   "source": [
    "Make a table with 'RIN', 'FN' and birthplace."
   ]
  },
  {
   "cell_type": "code",
   "execution_count": 17,
   "metadata": {},
   "outputs": [],
   "source": [
    "# Annotate the table with the birthplace by the samplenames.\n",
    "samplename_birthplace_ht = rin_birthplace_ht.annotate(samplename=fargen_rin_ht[rin_birthplace_ht.rin].sample)\n",
    "samplename_birthplace_ht = samplename_birthplace_ht.key_by(samplename_birthplace_ht.samplename)"
   ]
  },
  {
   "cell_type": "markdown",
   "metadata": {},
   "source": [
    "Finally, we an annotate the matrix table with birthplace of samples."
   ]
  },
  {
   "cell_type": "code",
   "execution_count": 18,
   "metadata": {},
   "outputs": [],
   "source": [
    "mt = mt.annotate_cols(birthplace = samplename_birthplace_ht[mt.s].birthplace)"
   ]
  },
  {
   "cell_type": "markdown",
   "metadata": {},
   "source": [
    "Count the number of samples in each region. Note that `birthplace=6` means that we do not know the birthplace of the sample."
   ]
  },
  {
   "cell_type": "code",
   "execution_count": 19,
   "metadata": {},
   "outputs": [
    {
     "name": "stderr",
     "output_type": "stream",
     "text": [
      "2021-06-04 12:45:20 Hail: WARN: cols(): Resulting column table is sorted by 'col_key'.\n",
      "    To preserve matrix table column order, first unkey columns with 'key_cols_by()'\n",
      "2021-06-04 12:45:20 Hail: WARN: Name collision: field 'count' already in object dict. \n",
      "  This field must be referenced with __getitem__ syntax: obj['count']\n",
      "2021-06-04 12:45:20 Hail: INFO: Ordering unsorted dataset with network shuffle\n",
      "2021-06-04 12:45:21 Hail: INFO: Ordering unsorted dataset with network shuffle\n",
      "2021-06-04 12:45:23 Hail: INFO: Coerced sorted dataset\n",
      "2021-06-04 12:45:23 Hail: INFO: Coerced dataset with out-of-order partitions.\n"
     ]
    },
    {
     "data": {
      "text/html": [
       "<div>\n",
       "<style scoped>\n",
       "    .dataframe tbody tr th:only-of-type {\n",
       "        vertical-align: middle;\n",
       "    }\n",
       "\n",
       "    .dataframe tbody tr th {\n",
       "        vertical-align: top;\n",
       "    }\n",
       "\n",
       "    .dataframe thead th {\n",
       "        text-align: right;\n",
       "    }\n",
       "</style>\n",
       "<table border=\"1\" class=\"dataframe\">\n",
       "  <thead>\n",
       "    <tr style=\"text-align: right;\">\n",
       "      <th></th>\n",
       "      <th>birthplace</th>\n",
       "      <th>count</th>\n",
       "    </tr>\n",
       "  </thead>\n",
       "  <tbody>\n",
       "    <tr>\n",
       "      <th>0</th>\n",
       "      <td>1.0</td>\n",
       "      <td>69</td>\n",
       "    </tr>\n",
       "    <tr>\n",
       "      <th>1</th>\n",
       "      <td>2.0</td>\n",
       "      <td>99</td>\n",
       "    </tr>\n",
       "    <tr>\n",
       "      <th>2</th>\n",
       "      <td>3.0</td>\n",
       "      <td>177</td>\n",
       "    </tr>\n",
       "    <tr>\n",
       "      <th>3</th>\n",
       "      <td>4.0</td>\n",
       "      <td>28</td>\n",
       "    </tr>\n",
       "    <tr>\n",
       "      <th>4</th>\n",
       "      <td>5.0</td>\n",
       "      <td>17</td>\n",
       "    </tr>\n",
       "    <tr>\n",
       "      <th>5</th>\n",
       "      <td>6.0</td>\n",
       "      <td>34</td>\n",
       "    </tr>\n",
       "    <tr>\n",
       "      <th>6</th>\n",
       "      <td>NaN</td>\n",
       "      <td>44</td>\n",
       "    </tr>\n",
       "  </tbody>\n",
       "</table>\n",
       "</div>"
      ],
      "text/plain": [
       "   birthplace  count\n",
       "0         1.0     69\n",
       "1         2.0     99\n",
       "2         3.0    177\n",
       "3         4.0     28\n",
       "4         5.0     17\n",
       "5         6.0     34\n",
       "6         NaN     44"
      ]
     },
     "execution_count": 19,
     "metadata": {},
     "output_type": "execute_result"
    }
   ],
   "source": [
    "cols_ht = mt.cols()\n",
    "result = (cols_ht.group_by(cols_ht.birthplace)\n",
    "    .aggregate(count = hl.agg.count()))\n",
    "result.to_pandas()"
   ]
  },
  {
   "cell_type": "markdown",
   "metadata": {},
   "source": [
    "## Filter related individuals\n",
    "\n",
    "Estimate the relatedness between the samples by the PC-Relate method, with a minimum alternate allele frequency of 0.001."
   ]
  },
  {
   "cell_type": "code",
   "execution_count": 20,
   "metadata": {},
   "outputs": [
    {
     "name": "stderr",
     "output_type": "stream",
     "text": [
      "2021-06-04 12:45:37 Hail: INFO: hwe_normalized_pca: running PCA using 83887 variants.\n",
      "2021-06-04 12:45:38 Hail: INFO: pca: running PCA with 2 components...\n",
      "2021-06-04 12:46:08 Hail: INFO: Wrote all 21 blocks of 83887 x 468 matrix with block size 4096.\n"
     ]
    }
   ],
   "source": [
    "pc_rel = hl.pc_relate(mt.GT, 0.001, k=2, statistics='kin')"
   ]
  },
  {
   "cell_type": "markdown",
   "metadata": {},
   "source": [
    "Plot all the relatedness coefficients in a histogram to get an overview."
   ]
  },
  {
   "cell_type": "code",
   "execution_count": 21,
   "metadata": {},
   "outputs": [
    {
     "name": "stderr",
     "output_type": "stream",
     "text": [
      "2021-06-04 12:51:17 Hail: INFO: wrote matrix with 3 rows and 83887 columns as 21 blocks of size 4096 to /home/olavur/tmp/pcrelate-write-read-CG9VBnJsl4RQj58eOSDn64.bm\n",
      "2021-06-04 12:51:17 Hail: INFO: wrote matrix with 83887 rows and 468 columns as 21 blocks of size 4096 to /home/olavur/tmp/pcrelate-write-read-zN0wq5ThJ7qHVDzqnOapDK.bm\n",
      "2021-06-04 12:51:50 Hail: INFO: wrote matrix with 468 rows and 468 columns as 1 block of size 4096 to /home/olavur/tmp/pcrelate-write-read-yvaT4AeXMF9y0bHS3rip1i.bm\n",
      "2021-06-04 12:52:18 Hail: INFO: wrote matrix with 468 rows and 468 columns as 1 block of size 4096 to /home/olavur/tmp/pcrelate-write-read-RZyDsiW0tPoJhSqeZBbNuk.bm\n",
      "2021-06-04 12:52:19 Hail: INFO: wrote matrix with 468 rows and 468 columns as 1 block of size 4096 to /home/olavur/tmp/pcrelate-write-read-oQLZAnN4nqyMpOek1eoZjo.bm\n",
      "2021-06-04 12:52:19 Hail: INFO: Ordering unsorted dataset with network shuffle\n",
      "2021-06-04 12:52:22 Hail: INFO: wrote matrix with 3 rows and 83887 columns as 21 blocks of size 4096 to /home/olavur/tmp/pcrelate-write-read-LLVZ1fUWVSATXh0My3IQ5p.bm\n",
      "2021-06-04 12:52:22 Hail: INFO: wrote matrix with 83887 rows and 468 columns as 21 blocks of size 4096 to /home/olavur/tmp/pcrelate-write-read-O8SUIecHv31qHq9uZqabLa.bm\n",
      "2021-06-04 12:52:52 Hail: INFO: wrote matrix with 468 rows and 468 columns as 1 block of size 4096 to /home/olavur/tmp/pcrelate-write-read-qOqhSFShJGY8kyTdjTiBJj.bm\n",
      "2021-06-04 12:53:18 Hail: INFO: wrote matrix with 468 rows and 468 columns as 1 block of size 4096 to /home/olavur/tmp/pcrelate-write-read-IgdFkaPpujTMefGo4XocgJ.bm\n",
      "2021-06-04 12:53:18 Hail: INFO: wrote matrix with 468 rows and 468 columns as 1 block of size 4096 to /home/olavur/tmp/pcrelate-write-read-HrYfF6aynuQFQn2dVI3IbF.bm\n",
      "2021-06-04 12:53:19 Hail: INFO: Ordering unsorted dataset with network shuffle\n"
     ]
    },
    {
     "data": {
      "text/html": [
       "\n",
       "\n",
       "\n",
       "\n",
       "\n",
       "\n",
       "  <div class=\"bk-root\" id=\"7dd78b6a-5fa2-4ae5-be45-110f2a92333d\" data-root-id=\"1002\"></div>\n"
      ]
     },
     "metadata": {},
     "output_type": "display_data"
    },
    {
     "data": {
      "application/javascript": [
       "(function(root) {\n",
       "  function embed_document(root) {\n",
       "    \n",
       "  var docs_json = {\"21af17de-29d6-45cd-ab38-ce70678694e8\":{\"roots\":{\"references\":[{\"attributes\":{\"background_fill_color\":{\"value\":\"#EEEEEE\"},\"below\":[{\"id\":\"1013\",\"type\":\"LinearAxis\"}],\"center\":[{\"id\":\"1017\",\"type\":\"Grid\"},{\"id\":\"1022\",\"type\":\"Grid\"}],\"left\":[{\"id\":\"1018\",\"type\":\"LinearAxis\"}],\"renderers\":[{\"id\":\"1039\",\"type\":\"GlyphRenderer\"}],\"title\":{\"id\":\"1003\",\"type\":\"Title\"},\"toolbar\":{\"id\":\"1029\",\"type\":\"Toolbar\"},\"x_range\":{\"id\":\"1005\",\"type\":\"Range1d\"},\"x_scale\":{\"id\":\"1009\",\"type\":\"LinearScale\"},\"y_range\":{\"id\":\"1007\",\"type\":\"DataRange1d\"},\"y_scale\":{\"id\":\"1011\",\"type\":\"LinearScale\"}},\"id\":\"1002\",\"subtype\":\"Figure\",\"type\":\"Plot\"},{\"attributes\":{},\"id\":\"1026\",\"type\":\"SaveTool\"},{\"attributes\":{\"overlay\":{\"id\":\"1046\",\"type\":\"BoxAnnotation\"}},\"id\":\"1025\",\"type\":\"BoxZoomTool\"},{\"attributes\":{},\"id\":\"1048\",\"type\":\"UnionRenderers\"},{\"attributes\":{},\"id\":\"1047\",\"type\":\"Selection\"},{\"attributes\":{},\"id\":\"1023\",\"type\":\"PanTool\"},{\"attributes\":{\"callback\":null},\"id\":\"1007\",\"type\":\"DataRange1d\"},{\"attributes\":{\"active_drag\":\"auto\",\"active_inspect\":\"auto\",\"active_multi\":null,\"active_scroll\":\"auto\",\"active_tap\":\"auto\",\"tools\":[{\"id\":\"1023\",\"type\":\"PanTool\"},{\"id\":\"1024\",\"type\":\"WheelZoomTool\"},{\"id\":\"1025\",\"type\":\"BoxZoomTool\"},{\"id\":\"1026\",\"type\":\"SaveTool\"},{\"id\":\"1027\",\"type\":\"ResetTool\"},{\"id\":\"1028\",\"type\":\"HelpTool\"}]},\"id\":\"1029\",\"type\":\"Toolbar\"},{\"attributes\":{\"formatter\":{\"id\":\"1044\",\"type\":\"BasicTickFormatter\"},\"ticker\":{\"id\":\"1014\",\"type\":\"BasicTicker\"}},\"id\":\"1013\",\"type\":\"LinearAxis\"},{\"attributes\":{},\"id\":\"1024\",\"type\":\"WheelZoomTool\"},{\"attributes\":{\"bottom\":{\"value\":0},\"fill_color\":{\"value\":\"#1f77b4\"},\"left\":{\"field\":\"left\"},\"right\":{\"field\":\"right\"},\"top\":{\"field\":\"top\"}},\"id\":\"1037\",\"type\":\"Quad\"},{\"attributes\":{},\"id\":\"1019\",\"type\":\"BasicTicker\"},{\"attributes\":{\"bottom\":{\"value\":0},\"fill_alpha\":{\"value\":0.1},\"fill_color\":{\"value\":\"#1f77b4\"},\"left\":{\"field\":\"left\"},\"line_alpha\":{\"value\":0.1},\"line_color\":{\"value\":\"#1f77b4\"},\"right\":{\"field\":\"right\"},\"top\":{\"field\":\"top\"}},\"id\":\"1038\",\"type\":\"Quad\"},{\"attributes\":{\"ticker\":{\"id\":\"1014\",\"type\":\"BasicTicker\"}},\"id\":\"1017\",\"type\":\"Grid\"},{\"attributes\":{},\"id\":\"1044\",\"type\":\"BasicTickFormatter\"},{\"attributes\":{},\"id\":\"1014\",\"type\":\"BasicTicker\"},{\"attributes\":{},\"id\":\"1042\",\"type\":\"BasicTickFormatter\"},{\"attributes\":{\"callback\":null,\"end\":0.5166869450241087,\"start\":-0.1407826681787015},\"id\":\"1005\",\"type\":\"Range1d\"},{\"attributes\":{},\"id\":\"1027\",\"type\":\"ResetTool\"},{\"attributes\":{\"callback\":null,\"data\":{\"left\":[-0.11089768576039194,-0.09894369279306811,-0.0869896998257443,-0.07503570685842047,-0.06308171389109665,-0.051127720923772824,-0.039173727956448995,-0.02721973498912518,-0.015265742021801351,-0.0033117490544775224,0.008642243912846292,0.02059623688017012,0.03255022984749395,0.04450422281481778,0.05645821578214158,0.06841220874946541,0.08036620171678924,0.09232019468411307,0.1042741876514369,0.1162281806187607,0.12818217358608452,0.14013616655340838,0.15209015952073218,0.16404415248805598,0.17599814545537984,0.18795213842270364,0.1999061313900275,0.2118601243573513,0.2238141173246751,0.23576811029199896,0.24772210325932276,0.2596760962266466,0.2716300891939704,0.2835840821612942,0.29553807512861807,0.3074920680959419,0.31944606106326573,0.33140005403058953,0.34335404699791333,0.3553080399652372,0.367262032932561,0.37921602589988485,0.3911700188672087,0.4031240118345325,0.4150780048018563,0.4270319977691801,0.4389859907365039,0.4509399837038278,0.4628939766711516,0.4748479696384754],\"right\":[-0.09894369279306811,-0.0869896998257443,-0.07503570685842047,-0.06308171389109665,-0.051127720923772824,-0.039173727956448995,-0.02721973498912518,-0.015265742021801351,-0.0033117490544775224,0.008642243912846292,0.02059623688017012,0.03255022984749395,0.04450422281481778,0.05645821578214158,0.06841220874946541,0.08036620171678924,0.09232019468411307,0.1042741876514369,0.1162281806187607,0.12818217358608452,0.14013616655340838,0.15209015952073218,0.16404415248805598,0.17599814545537984,0.18795213842270364,0.1999061313900275,0.2118601243573513,0.2238141173246751,0.23576811029199896,0.24772210325932276,0.2596760962266466,0.2716300891939704,0.2835840821612942,0.29553807512861807,0.3074920680959419,0.31944606106326573,0.33140005403058953,0.34335404699791333,0.3553080399652372,0.367262032932561,0.37921602589988485,0.3911700188672087,0.4031240118345325,0.4150780048018563,0.4270319977691801,0.4389859907365039,0.4509399837038278,0.4628939766711516,0.4748479696384754,0.4868019626057992],\"top\":[1,1,0,0,0,4,26,333,36363,69542,2567,240,46,32,24,9,3,5,9,2,6,1,0,1,1,3,6,16,20,12,1,2,0,0,0,0,0,0,1,0,0,0,0,0,0,0,0,0,0,1]},\"selected\":{\"id\":\"1047\",\"type\":\"Selection\"},\"selection_policy\":{\"id\":\"1048\",\"type\":\"UnionRenderers\"}},\"id\":\"1036\",\"type\":\"ColumnDataSource\"},{\"attributes\":{},\"id\":\"1011\",\"type\":\"LinearScale\"},{\"attributes\":{\"text\":\"Histogram of kinship coefficient\"},\"id\":\"1003\",\"type\":\"Title\"},{\"attributes\":{\"axis_label\":\"Frequency\",\"formatter\":{\"id\":\"1042\",\"type\":\"BasicTickFormatter\"},\"ticker\":{\"id\":\"1019\",\"type\":\"BasicTicker\"}},\"id\":\"1018\",\"type\":\"LinearAxis\"},{\"attributes\":{\"bottom_units\":\"screen\",\"fill_alpha\":{\"value\":0.5},\"fill_color\":{\"value\":\"lightgrey\"},\"left_units\":\"screen\",\"level\":\"overlay\",\"line_alpha\":{\"value\":1.0},\"line_color\":{\"value\":\"black\"},\"line_dash\":[4,4],\"line_width\":{\"value\":2},\"render_mode\":\"css\",\"right_units\":\"screen\",\"top_units\":\"screen\"},\"id\":\"1046\",\"type\":\"BoxAnnotation\"},{\"attributes\":{},\"id\":\"1009\",\"type\":\"LinearScale\"},{\"attributes\":{\"dimension\":1,\"ticker\":{\"id\":\"1019\",\"type\":\"BasicTicker\"}},\"id\":\"1022\",\"type\":\"Grid\"},{\"attributes\":{\"source\":{\"id\":\"1036\",\"type\":\"ColumnDataSource\"}},\"id\":\"1040\",\"type\":\"CDSView\"},{\"attributes\":{\"data_source\":{\"id\":\"1036\",\"type\":\"ColumnDataSource\"},\"glyph\":{\"id\":\"1037\",\"type\":\"Quad\"},\"hover_glyph\":null,\"muted_glyph\":null,\"nonselection_glyph\":{\"id\":\"1038\",\"type\":\"Quad\"},\"selection_glyph\":null,\"view\":{\"id\":\"1040\",\"type\":\"CDSView\"}},\"id\":\"1039\",\"type\":\"GlyphRenderer\"},{\"attributes\":{},\"id\":\"1028\",\"type\":\"HelpTool\"}],\"root_ids\":[\"1002\"]},\"title\":\"Bokeh Application\",\"version\":\"1.2.0\"}};\n",
       "  var render_items = [{\"docid\":\"21af17de-29d6-45cd-ab38-ce70678694e8\",\"roots\":{\"1002\":\"7dd78b6a-5fa2-4ae5-be45-110f2a92333d\"}}];\n",
       "  root.Bokeh.embed.embed_items_notebook(docs_json, render_items);\n",
       "\n",
       "  }\n",
       "  if (root.Bokeh !== undefined) {\n",
       "    embed_document(root);\n",
       "  } else {\n",
       "    var attempts = 0;\n",
       "    var timer = setInterval(function(root) {\n",
       "      if (root.Bokeh !== undefined) {\n",
       "        embed_document(root);\n",
       "        clearInterval(timer);\n",
       "      }\n",
       "      attempts++;\n",
       "      if (attempts > 100) {\n",
       "        console.log(\"Bokeh: ERROR: Unable to run BokehJS code because BokehJS library is missing\");\n",
       "        clearInterval(timer);\n",
       "      }\n",
       "    }, 10, root)\n",
       "  }\n",
       "})(window);"
      ],
      "application/vnd.bokehjs_exec.v0+json": ""
     },
     "metadata": {
      "application/vnd.bokehjs_exec.v0+json": {
       "id": "1002"
      }
     },
     "output_type": "display_data"
    }
   ],
   "source": [
    "p = hl.plot.histogram(pc_rel.kin, title='Histogram of kinship coefficient')\n",
    "show(p)"
   ]
  },
  {
   "cell_type": "markdown",
   "metadata": {},
   "source": [
    "**FIXME:** why did I used $2^{-3}$? If this is like the kinship coefficients I'm used to, the cutoff for second degree relationships is $2^{-4}$."
   ]
  },
  {
   "cell_type": "code",
   "execution_count": 22,
   "metadata": {},
   "outputs": [],
   "source": [
    "pairs = pc_rel.filter(pc_rel['kin'] > 2**(-4))"
   ]
  },
  {
   "cell_type": "markdown",
   "metadata": {},
   "source": [
    "Then we find the maximal independent set, consistent of the samples to remove."
   ]
  },
  {
   "cell_type": "code",
   "execution_count": 23,
   "metadata": {},
   "outputs": [
    {
     "name": "stderr",
     "output_type": "stream",
     "text": [
      "2021-06-04 13:06:45 Hail: INFO: wrote matrix with 3 rows and 83887 columns as 21 blocks of size 4096 to /home/olavur/tmp/pcrelate-write-read-Nnp6aKsQsuNPSpAvD0NIVk.bm\n",
      "2021-06-04 13:06:45 Hail: INFO: wrote matrix with 83887 rows and 468 columns as 21 blocks of size 4096 to /home/olavur/tmp/pcrelate-write-read-sHTpC1kGM5IJ7nYT13BsQm.bm\n",
      "2021-06-04 13:07:14 Hail: INFO: wrote matrix with 468 rows and 468 columns as 1 block of size 4096 to /home/olavur/tmp/pcrelate-write-read-h636dKSqcJhWcLy84f6oQw.bm\n",
      "2021-06-04 13:07:41 Hail: INFO: wrote matrix with 468 rows and 468 columns as 1 block of size 4096 to /home/olavur/tmp/pcrelate-write-read-38Kwo6HgytZeLq1H6R9uhV.bm\n",
      "2021-06-04 13:07:41 Hail: INFO: wrote matrix with 468 rows and 468 columns as 1 block of size 4096 to /home/olavur/tmp/pcrelate-write-read-sCUMFr8GSXQOwQ903bMMso.bm\n",
      "2021-06-04 13:07:41 Hail: INFO: Ordering unsorted dataset with network shuffle\n",
      "2021-06-04 13:07:42 Hail: INFO: wrote table with 104 rows in 1 partition to /home/olavur/tmp/hns3qpFHXlX09tPLpuEZu2\n",
      "    Total size: 1.08 KiB\n",
      "    * Rows: 1.06 KiB\n",
      "    * Globals: 11.00 B\n",
      "    * Smallest partition: 104 rows (1.06 KiB)\n",
      "    * Largest partition:  104 rows (1.06 KiB)\n"
     ]
    }
   ],
   "source": [
    "related_samples_to_remove = hl.maximal_independent_set(pairs.i, pairs.j, keep=False)"
   ]
  },
  {
   "cell_type": "markdown",
   "metadata": {},
   "source": [
    "Now we filter these individuals from the matrix table."
   ]
  },
  {
   "cell_type": "code",
   "execution_count": 24,
   "metadata": {},
   "outputs": [],
   "source": [
    "mt = mt.filter_cols(hl.is_defined(related_samples_to_remove[mt.col_key]), keep=False)"
   ]
  },
  {
   "cell_type": "markdown",
   "metadata": {},
   "source": [
    "Make a checkpoint, caching all operations done on the matrix table."
   ]
  },
  {
   "cell_type": "code",
   "execution_count": 37,
   "metadata": {},
   "outputs": [],
   "source": [
    "if False:\n",
    "    mt = mt.checkpoint('/home/olavur/tmp/rel_pruned.ht')\n",
    "else:\n",
    "    mt = hl.read_matrix_table('/home/olavur/tmp/rel_pruned.ht')"
   ]
  },
  {
   "cell_type": "code",
   "execution_count": 38,
   "metadata": {},
   "outputs": [
    {
     "name": "stdout",
     "output_type": "stream",
     "text": [
      "Number of variants: 83887\n",
      "Number of samples: 389\n"
     ]
    }
   ],
   "source": [
    "n_variants, n_samples = mt.count()\n",
    "print('Number of variants: ' + str(n_variants))\n",
    "print('Number of samples: ' + str(n_samples))"
   ]
  },
  {
   "cell_type": "markdown",
   "metadata": {},
   "source": [
    "## Compute PCA"
   ]
  },
  {
   "cell_type": "code",
   "execution_count": 39,
   "metadata": {},
   "outputs": [
    {
     "name": "stderr",
     "output_type": "stream",
     "text": [
      "2021-06-04 13:17:04 Hail: INFO: hwe_normalized_pca: running PCA using 83887 variants.\n",
      "2021-06-04 13:17:05 Hail: INFO: pca: running PCA with 4 components...\n"
     ]
    }
   ],
   "source": [
    "eigenvalues, scores, loadings = hl.hwe_normalized_pca(mt.GT, k=4)"
   ]
  },
  {
   "cell_type": "code",
   "execution_count": 54,
   "metadata": {},
   "outputs": [],
   "source": [
    "mt = mt.annotate_cols(scores = scores[mt.s].scores)"
   ]
  },
  {
   "cell_type": "code",
   "execution_count": 41,
   "metadata": {},
   "outputs": [
    {
     "data": {
      "text/html": [
       "\n",
       "\n",
       "\n",
       "\n",
       "\n",
       "\n",
       "  <div class=\"bk-root\" id=\"48c488c5-7f88-403c-b61b-1f2896ca4416\" data-root-id=\"1441\"></div>\n"
      ]
     },
     "metadata": {},
     "output_type": "display_data"
    },
    {
     "data": {
      "application/javascript": [
       "(function(root) {\n",
       "  function embed_document(root) {\n",
       "    \n",
       "  var docs_json = {\"6d408116-c393-46f5-a1e8-dfdccac18136\":{\"roots\":{\"references\":[{\"attributes\":{\"below\":[{\"id\":\"1452\",\"type\":\"LinearAxis\"}],\"center\":[{\"id\":\"1456\",\"type\":\"Grid\"},{\"id\":\"1461\",\"type\":\"Grid\"}],\"left\":[{\"id\":\"1457\",\"type\":\"LinearAxis\"},{\"id\":\"1528\",\"type\":\"Legend\"},{\"id\":\"1529\",\"type\":\"ColorBar\"}],\"plot_height\":600,\"plot_width\":800,\"renderers\":[{\"id\":\"1484\",\"type\":\"GlyphRenderer\"},{\"id\":\"1490\",\"type\":\"GlyphRenderer\"},{\"id\":\"1496\",\"type\":\"GlyphRenderer\"},{\"id\":\"1502\",\"type\":\"GlyphRenderer\"},{\"id\":\"1508\",\"type\":\"GlyphRenderer\"},{\"id\":\"1514\",\"type\":\"GlyphRenderer\"},{\"id\":\"1520\",\"type\":\"GlyphRenderer\"}],\"title\":{\"id\":\"1442\",\"type\":\"Title\"},\"toolbar\":{\"id\":\"1468\",\"type\":\"Toolbar\"},\"x_range\":{\"id\":\"1444\",\"type\":\"DataRange1d\"},\"x_scale\":{\"id\":\"1448\",\"type\":\"LinearScale\"},\"y_range\":{\"id\":\"1446\",\"type\":\"DataRange1d\"},\"y_scale\":{\"id\":\"1450\",\"type\":\"LinearScale\"}},\"id\":\"1441\",\"subtype\":\"Figure\",\"type\":\"Plot\"},{\"attributes\":{\"fill_alpha\":{\"value\":0.1},\"fill_color\":{\"value\":\"#1f77b4\"},\"line_alpha\":{\"value\":0.1},\"line_color\":{\"value\":\"#1f77b4\"},\"x\":{\"field\":\"x\"},\"y\":{\"field\":\"y\"}},\"id\":\"1501\",\"type\":\"Circle\"},{\"attributes\":{\"color_mapper\":null,\"formatter\":{\"id\":\"1561\",\"type\":\"BasicTickFormatter\"},\"ticker\":{\"id\":\"1562\",\"type\":\"BasicTicker\"},\"visible\":false},\"id\":\"1529\",\"type\":\"ColorBar\"},{\"attributes\":{},\"id\":\"1463\",\"type\":\"WheelZoomTool\"},{\"attributes\":{\"fill_color\":{\"field\":\"label\",\"transform\":{\"id\":\"1478\",\"type\":\"CategoricalColorMapper\"}},\"line_color\":{\"field\":\"label\",\"transform\":{\"id\":\"1478\",\"type\":\"CategoricalColorMapper\"}},\"x\":{\"field\":\"x\"},\"y\":{\"field\":\"y\"}},\"id\":\"1518\",\"type\":\"Circle\"},{\"attributes\":{\"text\":\"PCA\"},\"id\":\"1442\",\"type\":\"Title\"},{\"attributes\":{\"label\":{\"value\":\"3.00000e+00\"},\"renderers\":[{\"id\":\"1496\",\"type\":\"GlyphRenderer\"}]},\"id\":\"1523\",\"type\":\"LegendItem\"},{\"attributes\":{\"axis_label\":\"PC1\",\"formatter\":{\"id\":\"1563\",\"type\":\"BasicTickFormatter\"},\"ticker\":{\"id\":\"1453\",\"type\":\"BasicTicker\"}},\"id\":\"1452\",\"type\":\"LinearAxis\"},{\"attributes\":{},\"id\":\"1458\",\"type\":\"BasicTicker\"},{\"attributes\":{\"filters\":[{\"id\":\"1503\",\"type\":\"GroupFilter\"}],\"source\":{\"id\":\"1477\",\"type\":\"ColumnDataSource\"}},\"id\":\"1504\",\"type\":\"CDSView\"},{\"attributes\":{\"overlay\":{\"id\":\"1565\",\"type\":\"BoxAnnotation\"}},\"id\":\"1464\",\"type\":\"BoxZoomTool\"},{\"attributes\":{\"fill_alpha\":{\"value\":0.1},\"fill_color\":{\"value\":\"#1f77b4\"},\"line_alpha\":{\"value\":0.1},\"line_color\":{\"value\":\"#1f77b4\"},\"x\":{\"field\":\"x\"},\"y\":{\"field\":\"y\"}},\"id\":\"1483\",\"type\":\"Circle\"},{\"attributes\":{\"fill_alpha\":{\"value\":0.1},\"fill_color\":{\"value\":\"#1f77b4\"},\"line_alpha\":{\"value\":0.1},\"line_color\":{\"value\":\"#1f77b4\"},\"x\":{\"field\":\"x\"},\"y\":{\"field\":\"y\"}},\"id\":\"1489\",\"type\":\"Circle\"},{\"attributes\":{\"filters\":[{\"id\":\"1515\",\"type\":\"GroupFilter\"}],\"source\":{\"id\":\"1477\",\"type\":\"ColumnDataSource\"}},\"id\":\"1516\",\"type\":\"CDSView\"},{\"attributes\":{\"ticker\":{\"id\":\"1453\",\"type\":\"BasicTicker\"}},\"id\":\"1456\",\"type\":\"Grid\"},{\"attributes\":{\"filters\":[{\"id\":\"1491\",\"type\":\"GroupFilter\"}],\"source\":{\"id\":\"1477\",\"type\":\"ColumnDataSource\"}},\"id\":\"1492\",\"type\":\"CDSView\"},{\"attributes\":{\"fill_color\":{\"field\":\"label\",\"transform\":{\"id\":\"1478\",\"type\":\"CategoricalColorMapper\"}},\"line_color\":{\"field\":\"label\",\"transform\":{\"id\":\"1478\",\"type\":\"CategoricalColorMapper\"}},\"x\":{\"field\":\"x\"},\"y\":{\"field\":\"y\"}},\"id\":\"1506\",\"type\":\"Circle\"},{\"attributes\":{},\"id\":\"1448\",\"type\":\"LinearScale\"},{\"attributes\":{\"dimension\":1,\"ticker\":{\"id\":\"1458\",\"type\":\"BasicTicker\"}},\"id\":\"1461\",\"type\":\"Grid\"},{\"attributes\":{},\"id\":\"1465\",\"type\":\"SaveTool\"},{\"attributes\":{\"fill_color\":{\"field\":\"label\",\"transform\":{\"id\":\"1478\",\"type\":\"CategoricalColorMapper\"}},\"line_color\":{\"field\":\"label\",\"transform\":{\"id\":\"1478\",\"type\":\"CategoricalColorMapper\"}},\"x\":{\"field\":\"x\"},\"y\":{\"field\":\"y\"}},\"id\":\"1500\",\"type\":\"Circle\"},{\"attributes\":{\"column_name\":\"label\",\"group\":\"5.00000e+00\"},\"id\":\"1503\",\"type\":\"GroupFilter\"},{\"attributes\":{\"label\":{\"value\":\"4.00000e+00\"},\"renderers\":[{\"id\":\"1502\",\"type\":\"GlyphRenderer\"}]},\"id\":\"1524\",\"type\":\"LegendItem\"},{\"attributes\":{\"label\":{\"value\":\"1.00000e+00\"},\"renderers\":[{\"id\":\"1484\",\"type\":\"GlyphRenderer\"}]},\"id\":\"1521\",\"type\":\"LegendItem\"},{\"attributes\":{\"label\":{\"value\":\"5.00000e+00\"},\"renderers\":[{\"id\":\"1508\",\"type\":\"GlyphRenderer\"}]},\"id\":\"1525\",\"type\":\"LegendItem\"},{\"attributes\":{},\"id\":\"1467\",\"type\":\"HelpTool\"},{\"attributes\":{},\"id\":\"1466\",\"type\":\"ResetTool\"},{\"attributes\":{},\"id\":\"1567\",\"type\":\"UnionRenderers\"},{\"attributes\":{},\"id\":\"1562\",\"type\":\"BasicTicker\"},{\"attributes\":{\"fill_color\":{\"field\":\"label\",\"transform\":{\"id\":\"1478\",\"type\":\"CategoricalColorMapper\"}},\"line_color\":{\"field\":\"label\",\"transform\":{\"id\":\"1478\",\"type\":\"CategoricalColorMapper\"}},\"x\":{\"field\":\"x\"},\"y\":{\"field\":\"y\"}},\"id\":\"1512\",\"type\":\"Circle\"},{\"attributes\":{\"label\":{\"value\":\"6.00000e+00\"},\"renderers\":[{\"id\":\"1514\",\"type\":\"GlyphRenderer\"}]},\"id\":\"1526\",\"type\":\"LegendItem\"},{\"attributes\":{},\"id\":\"1453\",\"type\":\"BasicTicker\"},{\"attributes\":{\"fill_alpha\":{\"value\":0.1},\"fill_color\":{\"value\":\"#1f77b4\"},\"line_alpha\":{\"value\":0.1},\"line_color\":{\"value\":\"#1f77b4\"},\"x\":{\"field\":\"x\"},\"y\":{\"field\":\"y\"}},\"id\":\"1507\",\"type\":\"Circle\"},{\"attributes\":{\"callback\":null,\"tooltips\":[[\"x\",\"@x\"],[\"y\",\"@y\"],[\"label\",\"@label\"]]},\"id\":\"1476\",\"type\":\"HoverTool\"},{\"attributes\":{\"fill_color\":{\"field\":\"label\",\"transform\":{\"id\":\"1478\",\"type\":\"CategoricalColorMapper\"}},\"line_color\":{\"field\":\"label\",\"transform\":{\"id\":\"1478\",\"type\":\"CategoricalColorMapper\"}},\"x\":{\"field\":\"x\"},\"y\":{\"field\":\"y\"}},\"id\":\"1488\",\"type\":\"Circle\"},{\"attributes\":{\"label\":{\"value\":\"2.00000e+00\"},\"renderers\":[{\"id\":\"1490\",\"type\":\"GlyphRenderer\"}]},\"id\":\"1522\",\"type\":\"LegendItem\"},{\"attributes\":{\"fill_color\":{\"field\":\"label\",\"transform\":{\"id\":\"1478\",\"type\":\"CategoricalColorMapper\"}},\"line_color\":{\"field\":\"label\",\"transform\":{\"id\":\"1478\",\"type\":\"CategoricalColorMapper\"}},\"x\":{\"field\":\"x\"},\"y\":{\"field\":\"y\"}},\"id\":\"1494\",\"type\":\"Circle\"},{\"attributes\":{\"filters\":[{\"id\":\"1509\",\"type\":\"GroupFilter\"}],\"source\":{\"id\":\"1477\",\"type\":\"ColumnDataSource\"}},\"id\":\"1510\",\"type\":\"CDSView\"},{\"attributes\":{\"callback\":null},\"id\":\"1444\",\"type\":\"DataRange1d\"},{\"attributes\":{},\"id\":\"1450\",\"type\":\"LinearScale\"},{\"attributes\":{\"click_policy\":\"hide\",\"items\":[{\"id\":\"1521\",\"type\":\"LegendItem\"},{\"id\":\"1522\",\"type\":\"LegendItem\"},{\"id\":\"1523\",\"type\":\"LegendItem\"},{\"id\":\"1524\",\"type\":\"LegendItem\"},{\"id\":\"1525\",\"type\":\"LegendItem\"},{\"id\":\"1526\",\"type\":\"LegendItem\"},{\"id\":\"1527\",\"type\":\"LegendItem\"}]},\"id\":\"1528\",\"type\":\"Legend\"},{\"attributes\":{},\"id\":\"1559\",\"type\":\"BasicTickFormatter\"},{\"attributes\":{\"filters\":[{\"id\":\"1479\",\"type\":\"GroupFilter\"}],\"source\":{\"id\":\"1477\",\"type\":\"ColumnDataSource\"}},\"id\":\"1480\",\"type\":\"CDSView\"},{\"attributes\":{\"filters\":[{\"id\":\"1485\",\"type\":\"GroupFilter\"}],\"source\":{\"id\":\"1477\",\"type\":\"ColumnDataSource\"}},\"id\":\"1486\",\"type\":\"CDSView\"},{\"attributes\":{\"column_name\":\"label\",\"group\":\"2.00000e+00\"},\"id\":\"1485\",\"type\":\"GroupFilter\"},{\"attributes\":{\"column_name\":\"label\",\"group\":\"3.00000e+00\"},\"id\":\"1491\",\"type\":\"GroupFilter\"},{\"attributes\":{\"data_source\":{\"id\":\"1477\",\"type\":\"ColumnDataSource\"},\"glyph\":{\"id\":\"1482\",\"type\":\"Circle\"},\"hover_glyph\":null,\"muted_glyph\":null,\"nonselection_glyph\":{\"id\":\"1483\",\"type\":\"Circle\"},\"selection_glyph\":null,\"view\":{\"id\":\"1480\",\"type\":\"CDSView\"}},\"id\":\"1484\",\"type\":\"GlyphRenderer\"},{\"attributes\":{},\"id\":\"1561\",\"type\":\"BasicTickFormatter\"},{\"attributes\":{\"fill_alpha\":{\"value\":0.1},\"fill_color\":{\"value\":\"#1f77b4\"},\"line_alpha\":{\"value\":0.1},\"line_color\":{\"value\":\"#1f77b4\"},\"x\":{\"field\":\"x\"},\"y\":{\"field\":\"y\"}},\"id\":\"1519\",\"type\":\"Circle\"},{\"attributes\":{\"column_name\":\"label\",\"group\":\"6.00000e+00\"},\"id\":\"1509\",\"type\":\"GroupFilter\"},{\"attributes\":{\"axis_label\":\"PC2\",\"formatter\":{\"id\":\"1559\",\"type\":\"BasicTickFormatter\"},\"ticker\":{\"id\":\"1458\",\"type\":\"BasicTicker\"}},\"id\":\"1457\",\"type\":\"LinearAxis\"},{\"attributes\":{\"data_source\":{\"id\":\"1477\",\"type\":\"ColumnDataSource\"},\"glyph\":{\"id\":\"1506\",\"type\":\"Circle\"},\"hover_glyph\":null,\"muted_glyph\":null,\"nonselection_glyph\":{\"id\":\"1507\",\"type\":\"Circle\"},\"selection_glyph\":null,\"view\":{\"id\":\"1504\",\"type\":\"CDSView\"}},\"id\":\"1508\",\"type\":\"GlyphRenderer\"},{\"attributes\":{\"filters\":[{\"id\":\"1497\",\"type\":\"GroupFilter\"}],\"source\":{\"id\":\"1477\",\"type\":\"ColumnDataSource\"}},\"id\":\"1498\",\"type\":\"CDSView\"},{\"attributes\":{\"callback\":null,\"data\":{\"index\":[0,1,2,3,4,5,6,7,8,9,10,11,12,13,14,15,16,17,18,19,20,21,22,23,24,25,26,27,28,29,30,31,32,33,34,35,36,37,38,39,40,41,42,43,44,45,46,47,48,49,50,51,52,53,54,55,56,57,58,59,60,61,62,63,64,65,66,67,68,69,70,71,72,73,74,75,76,77,78,79,80,81,82,83,84,85,86,87,88,89,90,91,92,93,94,95,96,97,98,99,100,101,102,103,104,105,106,107,108,109,110,111,112,113,114,115,116,117,118,119,120,121,122,123,124,125,126,127,128,129,130,131,132,133,134,135,136,137,138,139,140,141,142,143,144,145,146,147,148,149,150,151,152,153,154,155,156,157,158,159,160,161,162,163,164,165,166,167,168,169,170,171,172,173,174,175,176,177,178,179,180,181,182,183,184,185,186,187,188,189,190,191,192,193,194,195,196,197,198,199,200,201,202,203,204,205,206,207,208,209,210,211,212,213,214,215,216,217,218,219,220,221,222,223,224,225,226,227,228,229,230,231,232,233,234,235,236,237,238,239,240,241,242,243,244,245,246,247,248,249,250,251,252,253,254,255,256,257,258,259,260,261,262,263,264,265,266,267,268,269,270,271,272,273,274,275,276,277,278,279,280,281,282,283,284,285,286,287,288,289,290,291,292,293,294,295,296,297,298,299,300,301,302,303,304,305,306,307,308,309,310,311,312,313,314,315,316,317,318,319,320,321,322,323,324,325,326,327,328,329,330,331,332,333,334,335,336,337,338,339,340,341,342,343,344,345,346,347,348,349,350,351,352,353,354,355,356,357,358,359,360,361,362,363,364,365,366,367,368,369,370,371,372,373,374,375,376,377,378,379,380],\"label\":[\"3.00000e+00\",\"NA\",\"3.00000e+00\",\"3.00000e+00\",\"3.00000e+00\",\"NA\",\"6.00000e+00\",\"3.00000e+00\",\"3.00000e+00\",\"1.00000e+00\",\"1.00000e+00\",\"1.00000e+00\",\"NA\",\"NA\",\"NA\",\"3.00000e+00\",\"3.00000e+00\",\"2.00000e+00\",\"3.00000e+00\",\"NA\",\"5.00000e+00\",\"3.00000e+00\",\"3.00000e+00\",\"NA\",\"3.00000e+00\",\"NA\",\"3.00000e+00\",\"2.00000e+00\",\"3.00000e+00\",\"6.00000e+00\",\"1.00000e+00\",\"1.00000e+00\",\"2.00000e+00\",\"3.00000e+00\",\"6.00000e+00\",\"2.00000e+00\",\"2.00000e+00\",\"2.00000e+00\",\"3.00000e+00\",\"2.00000e+00\",\"3.00000e+00\",\"1.00000e+00\",\"3.00000e+00\",\"5.00000e+00\",\"3.00000e+00\",\"3.00000e+00\",\"3.00000e+00\",\"3.00000e+00\",\"3.00000e+00\",\"3.00000e+00\",\"1.00000e+00\",\"3.00000e+00\",\"3.00000e+00\",\"2.00000e+00\",\"3.00000e+00\",\"6.00000e+00\",\"1.00000e+00\",\"3.00000e+00\",\"1.00000e+00\",\"2.00000e+00\",\"3.00000e+00\",\"NA\",\"1.00000e+00\",\"1.00000e+00\",\"6.00000e+00\",\"3.00000e+00\",\"3.00000e+00\",\"6.00000e+00\",\"2.00000e+00\",\"NA\",\"1.00000e+00\",\"3.00000e+00\",\"2.00000e+00\",\"3.00000e+00\",\"3.00000e+00\",\"2.00000e+00\",\"2.00000e+00\",\"3.00000e+00\",\"2.00000e+00\",\"1.00000e+00\",\"2.00000e+00\",\"5.00000e+00\",\"1.00000e+00\",\"4.00000e+00\",\"3.00000e+00\",\"1.00000e+00\",\"3.00000e+00\",\"2.00000e+00\",\"6.00000e+00\",\"6.00000e+00\",\"3.00000e+00\",\"3.00000e+00\",\"2.00000e+00\",\"2.00000e+00\",\"3.00000e+00\",\"4.00000e+00\",\"3.00000e+00\",\"1.00000e+00\",\"6.00000e+00\",\"6.00000e+00\",\"3.00000e+00\",\"2.00000e+00\",\"2.00000e+00\",\"1.00000e+00\",\"3.00000e+00\",\"3.00000e+00\",\"1.00000e+00\",\"3.00000e+00\",\"2.00000e+00\",\"3.00000e+00\",\"3.00000e+00\",\"2.00000e+00\",\"2.00000e+00\",\"NA\",\"1.00000e+00\",\"3.00000e+00\",\"2.00000e+00\",\"3.00000e+00\",\"1.00000e+00\",\"2.00000e+00\",\"3.00000e+00\",\"3.00000e+00\",\"2.00000e+00\",\"2.00000e+00\",\"6.00000e+00\",\"3.00000e+00\",\"3.00000e+00\",\"3.00000e+00\",\"3.00000e+00\",\"4.00000e+00\",\"2.00000e+00\",\"3.00000e+00\",\"3.00000e+00\",\"3.00000e+00\",\"1.00000e+00\",\"NA\",\"4.00000e+00\",\"3.00000e+00\",\"1.00000e+00\",\"2.00000e+00\",\"2.00000e+00\",\"NA\",\"6.00000e+00\",\"2.00000e+00\",\"5.00000e+00\",\"6.00000e+00\",\"3.00000e+00\",\"3.00000e+00\",\"1.00000e+00\",\"3.00000e+00\",\"2.00000e+00\",\"3.00000e+00\",\"3.00000e+00\",\"3.00000e+00\",\"1.00000e+00\",\"3.00000e+00\",\"2.00000e+00\",\"1.00000e+00\",\"3.00000e+00\",\"1.00000e+00\",\"3.00000e+00\",\"2.00000e+00\",\"NA\",\"2.00000e+00\",\"2.00000e+00\",\"3.00000e+00\",\"3.00000e+00\",\"3.00000e+00\",\"3.00000e+00\",\"2.00000e+00\",\"6.00000e+00\",\"2.00000e+00\",\"2.00000e+00\",\"3.00000e+00\",\"NA\",\"1.00000e+00\",\"3.00000e+00\",\"2.00000e+00\",\"1.00000e+00\",\"3.00000e+00\",\"3.00000e+00\",\"2.00000e+00\",\"2.00000e+00\",\"3.00000e+00\",\"2.00000e+00\",\"3.00000e+00\",\"3.00000e+00\",\"3.00000e+00\",\"2.00000e+00\",\"1.00000e+00\",\"2.00000e+00\",\"4.00000e+00\",\"3.00000e+00\",\"3.00000e+00\",\"3.00000e+00\",\"6.00000e+00\",\"2.00000e+00\",\"1.00000e+00\",\"6.00000e+00\",\"3.00000e+00\",\"3.00000e+00\",\"3.00000e+00\",\"2.00000e+00\",\"3.00000e+00\",\"3.00000e+00\",\"3.00000e+00\",\"6.00000e+00\",\"2.00000e+00\",\"1.00000e+00\",\"3.00000e+00\",\"2.00000e+00\",\"NA\",\"4.00000e+00\",\"NA\",\"6.00000e+00\",\"5.00000e+00\",\"3.00000e+00\",\"3.00000e+00\",\"3.00000e+00\",\"3.00000e+00\",\"NA\",\"2.00000e+00\",\"1.00000e+00\",\"3.00000e+00\",\"2.00000e+00\",\"1.00000e+00\",\"1.00000e+00\",\"2.00000e+00\",\"3.00000e+00\",\"3.00000e+00\",\"6.00000e+00\",\"6.00000e+00\",\"3.00000e+00\",\"5.00000e+00\",\"3.00000e+00\",\"6.00000e+00\",\"1.00000e+00\",\"3.00000e+00\",\"1.00000e+00\",\"3.00000e+00\",\"2.00000e+00\",\"1.00000e+00\",\"NA\",\"3.00000e+00\",\"5.00000e+00\",\"NA\",\"1.00000e+00\",\"1.00000e+00\",\"3.00000e+00\",\"3.00000e+00\",\"4.00000e+00\",\"3.00000e+00\",\"2.00000e+00\",\"4.00000e+00\",\"3.00000e+00\",\"6.00000e+00\",\"3.00000e+00\",\"5.00000e+00\",\"6.00000e+00\",\"2.00000e+00\",\"1.00000e+00\",\"4.00000e+00\",\"2.00000e+00\",\"4.00000e+00\",\"3.00000e+00\",\"5.00000e+00\",\"4.00000e+00\",\"3.00000e+00\",\"3.00000e+00\",\"3.00000e+00\",\"3.00000e+00\",\"NA\",\"2.00000e+00\",\"6.00000e+00\",\"3.00000e+00\",\"2.00000e+00\",\"2.00000e+00\",\"2.00000e+00\",\"2.00000e+00\",\"2.00000e+00\",\"3.00000e+00\",\"3.00000e+00\",\"3.00000e+00\",\"6.00000e+00\",\"1.00000e+00\",\"2.00000e+00\",\"3.00000e+00\",\"3.00000e+00\",\"4.00000e+00\",\"1.00000e+00\",\"1.00000e+00\",\"2.00000e+00\",\"3.00000e+00\",\"NA\",\"2.00000e+00\",\"2.00000e+00\",\"3.00000e+00\",\"2.00000e+00\",\"4.00000e+00\",\"3.00000e+00\",\"2.00000e+00\",\"3.00000e+00\",\"3.00000e+00\",\"2.00000e+00\",\"4.00000e+00\",\"NA\",\"2.00000e+00\",\"3.00000e+00\",\"3.00000e+00\",\"3.00000e+00\",\"3.00000e+00\",\"3.00000e+00\",\"1.00000e+00\",\"6.00000e+00\",\"3.00000e+00\",\"6.00000e+00\",\"3.00000e+00\",\"3.00000e+00\",\"3.00000e+00\",\"NA\",\"3.00000e+00\",\"5.00000e+00\",\"1.00000e+00\",\"NA\",\"NA\",\"5.00000e+00\",\"2.00000e+00\",\"3.00000e+00\",\"6.00000e+00\",\"3.00000e+00\",\"3.00000e+00\",\"1.00000e+00\",\"4.00000e+00\",\"4.00000e+00\",\"3.00000e+00\",\"1.00000e+00\",\"2.00000e+00\",\"4.00000e+00\",\"2.00000e+00\",\"3.00000e+00\",\"5.00000e+00\",\"3.00000e+00\",\"4.00000e+00\",\"3.00000e+00\",\"3.00000e+00\",\"1.00000e+00\",\"2.00000e+00\",\"6.00000e+00\",\"3.00000e+00\",\"2.00000e+00\",\"2.00000e+00\",\"3.00000e+00\",\"6.00000e+00\",\"1.00000e+00\",\"3.00000e+00\",\"4.00000e+00\",\"1.00000e+00\",\"NA\",\"6.00000e+00\",\"NA\",\"3.00000e+00\",\"NA\",\"3.00000e+00\",\"NA\",\"1.00000e+00\",\"4.00000e+00\",\"3.00000e+00\",\"6.00000e+00\",\"5.00000e+00\",\"4.00000e+00\",\"2.00000e+00\",\"NA\",\"5.00000e+00\",\"3.00000e+00\",\"1.00000e+00\",\"NA\",\"3.00000e+00\",\"5.00000e+00\",\"3.00000e+00\",\"5.00000e+00\",\"5.00000e+00\"],\"x\":{\"__ndarray__\":\"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\",\"dtype\":\"float64\",\"shape\":[381]},\"y\":{\"__ndarray__\":\"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\",\"dtype\":\"float64\",\"shape\":[381]}},\"selected\":{\"id\":\"1566\",\"type\":\"Selection\"},\"selection_policy\":{\"id\":\"1567\",\"type\":\"UnionRenderers\"}},\"id\":\"1477\",\"type\":\"ColumnDataSource\"},{\"attributes\":{\"fill_alpha\":{\"value\":0.1},\"fill_color\":{\"value\":\"#1f77b4\"},\"line_alpha\":{\"value\":0.1},\"line_color\":{\"value\":\"#1f77b4\"},\"x\":{\"field\":\"x\"},\"y\":{\"field\":\"y\"}},\"id\":\"1495\",\"type\":\"Circle\"},{\"attributes\":{\"column_name\":\"label\",\"group\":\"NA\"},\"id\":\"1515\",\"type\":\"GroupFilter\"},{\"attributes\":{\"data_source\":{\"id\":\"1477\",\"type\":\"ColumnDataSource\"},\"glyph\":{\"id\":\"1494\",\"type\":\"Circle\"},\"hover_glyph\":null,\"muted_glyph\":null,\"nonselection_glyph\":{\"id\":\"1495\",\"type\":\"Circle\"},\"selection_glyph\":null,\"view\":{\"id\":\"1492\",\"type\":\"CDSView\"}},\"id\":\"1496\",\"type\":\"GlyphRenderer\"},{\"attributes\":{\"data_source\":{\"id\":\"1477\",\"type\":\"ColumnDataSource\"},\"glyph\":{\"id\":\"1518\",\"type\":\"Circle\"},\"hover_glyph\":null,\"muted_glyph\":null,\"nonselection_glyph\":{\"id\":\"1519\",\"type\":\"Circle\"},\"selection_glyph\":null,\"view\":{\"id\":\"1516\",\"type\":\"CDSView\"}},\"id\":\"1520\",\"type\":\"GlyphRenderer\"},{\"attributes\":{\"data_source\":{\"id\":\"1477\",\"type\":\"ColumnDataSource\"},\"glyph\":{\"id\":\"1488\",\"type\":\"Circle\"},\"hover_glyph\":null,\"muted_glyph\":null,\"nonselection_glyph\":{\"id\":\"1489\",\"type\":\"Circle\"},\"selection_glyph\":null,\"view\":{\"id\":\"1486\",\"type\":\"CDSView\"}},\"id\":\"1490\",\"type\":\"GlyphRenderer\"},{\"attributes\":{\"factors\":[\"2.00000e+00\",\"1.00000e+00\",\"3.00000e+00\",\"5.00000e+00\",\"6.00000e+00\",\"NA\",\"4.00000e+00\"],\"palette\":[\"#1f77b4\",\"#ff7f0e\",\"#2ca02c\",\"#d62728\",\"#9467bd\",\"#8c564b\",\"#e377c2\",\"#7f7f7f\",\"#bcbd22\",\"#17becf\"]},\"id\":\"1478\",\"type\":\"CategoricalColorMapper\"},{\"attributes\":{\"bottom_units\":\"screen\",\"fill_alpha\":{\"value\":0.5},\"fill_color\":{\"value\":\"lightgrey\"},\"left_units\":\"screen\",\"level\":\"overlay\",\"line_alpha\":{\"value\":1.0},\"line_color\":{\"value\":\"black\"},\"line_dash\":[4,4],\"line_width\":{\"value\":2},\"render_mode\":\"css\",\"right_units\":\"screen\",\"top_units\":\"screen\"},\"id\":\"1565\",\"type\":\"BoxAnnotation\"},{\"attributes\":{\"fill_alpha\":{\"value\":0.1},\"fill_color\":{\"value\":\"#1f77b4\"},\"line_alpha\":{\"value\":0.1},\"line_color\":{\"value\":\"#1f77b4\"},\"x\":{\"field\":\"x\"},\"y\":{\"field\":\"y\"}},\"id\":\"1513\",\"type\":\"Circle\"},{\"attributes\":{\"label\":{\"value\":\"NA\"},\"renderers\":[{\"id\":\"1520\",\"type\":\"GlyphRenderer\"}]},\"id\":\"1527\",\"type\":\"LegendItem\"},{\"attributes\":{},\"id\":\"1563\",\"type\":\"BasicTickFormatter\"},{\"attributes\":{\"fill_color\":{\"field\":\"label\",\"transform\":{\"id\":\"1478\",\"type\":\"CategoricalColorMapper\"}},\"line_color\":{\"field\":\"label\",\"transform\":{\"id\":\"1478\",\"type\":\"CategoricalColorMapper\"}},\"x\":{\"field\":\"x\"},\"y\":{\"field\":\"y\"}},\"id\":\"1482\",\"type\":\"Circle\"},{\"attributes\":{},\"id\":\"1566\",\"type\":\"Selection\"},{\"attributes\":{\"column_name\":\"label\",\"group\":\"4.00000e+00\"},\"id\":\"1497\",\"type\":\"GroupFilter\"},{\"attributes\":{\"callback\":null},\"id\":\"1446\",\"type\":\"DataRange1d\"},{\"attributes\":{\"data_source\":{\"id\":\"1477\",\"type\":\"ColumnDataSource\"},\"glyph\":{\"id\":\"1512\",\"type\":\"Circle\"},\"hover_glyph\":null,\"muted_glyph\":null,\"nonselection_glyph\":{\"id\":\"1513\",\"type\":\"Circle\"},\"selection_glyph\":null,\"view\":{\"id\":\"1510\",\"type\":\"CDSView\"}},\"id\":\"1514\",\"type\":\"GlyphRenderer\"},{\"attributes\":{\"column_name\":\"label\",\"group\":\"1.00000e+00\"},\"id\":\"1479\",\"type\":\"GroupFilter\"},{\"attributes\":{\"active_drag\":\"auto\",\"active_inspect\":\"auto\",\"active_multi\":null,\"active_scroll\":\"auto\",\"active_tap\":\"auto\",\"tools\":[{\"id\":\"1462\",\"type\":\"PanTool\"},{\"id\":\"1463\",\"type\":\"WheelZoomTool\"},{\"id\":\"1464\",\"type\":\"BoxZoomTool\"},{\"id\":\"1465\",\"type\":\"SaveTool\"},{\"id\":\"1466\",\"type\":\"ResetTool\"},{\"id\":\"1467\",\"type\":\"HelpTool\"},{\"id\":\"1476\",\"type\":\"HoverTool\"}]},\"id\":\"1468\",\"type\":\"Toolbar\"},{\"attributes\":{\"data_source\":{\"id\":\"1477\",\"type\":\"ColumnDataSource\"},\"glyph\":{\"id\":\"1500\",\"type\":\"Circle\"},\"hover_glyph\":null,\"muted_glyph\":null,\"nonselection_glyph\":{\"id\":\"1501\",\"type\":\"Circle\"},\"selection_glyph\":null,\"view\":{\"id\":\"1498\",\"type\":\"CDSView\"}},\"id\":\"1502\",\"type\":\"GlyphRenderer\"},{\"attributes\":{},\"id\":\"1462\",\"type\":\"PanTool\"}],\"root_ids\":[\"1441\"]},\"title\":\"Bokeh Application\",\"version\":\"1.2.0\"}};\n",
       "  var render_items = [{\"docid\":\"6d408116-c393-46f5-a1e8-dfdccac18136\",\"roots\":{\"1441\":\"48c488c5-7f88-403c-b61b-1f2896ca4416\"}}];\n",
       "  root.Bokeh.embed.embed_items_notebook(docs_json, render_items);\n",
       "\n",
       "  }\n",
       "  if (root.Bokeh !== undefined) {\n",
       "    embed_document(root);\n",
       "  } else {\n",
       "    var attempts = 0;\n",
       "    var timer = setInterval(function(root) {\n",
       "      if (root.Bokeh !== undefined) {\n",
       "        embed_document(root);\n",
       "        clearInterval(timer);\n",
       "      }\n",
       "      attempts++;\n",
       "      if (attempts > 100) {\n",
       "        console.log(\"Bokeh: ERROR: Unable to run BokehJS code because BokehJS library is missing\");\n",
       "        clearInterval(timer);\n",
       "      }\n",
       "    }, 10, root)\n",
       "  }\n",
       "})(window);"
      ],
      "application/vnd.bokehjs_exec.v0+json": ""
     },
     "metadata": {
      "application/vnd.bokehjs_exec.v0+json": {
       "id": "1441"
      }
     },
     "output_type": "display_data"
    }
   ],
   "source": [
    "p = hl.plot.scatter(mt.scores[0],\n",
    "                    mt.scores[1],\n",
    "                    label=hl.str(mt.birthplace),\n",
    "                    title='PCA', xlabel='PC1', ylabel='PC2')\n",
    "p.plot_width = 800\n",
    "p.plot_height = 600\n",
    "show(p)"
   ]
  },
  {
   "cell_type": "markdown",
   "metadata": {},
   "source": [
    "## Filter outliers\n",
    "\n",
    "In the PCA plot above, it seems we have a few outliers. These individuals may have non-Faroese ancestry, whether they are part Faroese or not, or they may be very closely related. Either way, they prevent us from detecting possible population structure in the data.\n",
    "\n",
    "As we see in the plot above, both PC 1 and 2 describe the variation between these outliers and the rest of the samples. So if we remove these outlier individuals, we may be able to detect population structure."
   ]
  },
  {
   "cell_type": "code",
   "execution_count": 55,
   "metadata": {},
   "outputs": [],
   "source": [
    "mt = mt.filter_cols(mt.scores[0] < 0.4)"
   ]
  },
  {
   "cell_type": "markdown",
   "metadata": {},
   "source": [
    "Now we just do the PCA again, and see if PC 1 and 2 show signs of population structure."
   ]
  },
  {
   "cell_type": "code",
   "execution_count": 56,
   "metadata": {},
   "outputs": [
    {
     "name": "stderr",
     "output_type": "stream",
     "text": [
      "2021-06-04 13:23:04 Hail: INFO: hwe_normalized_pca: running PCA using 83887 variants.\n",
      "2021-06-04 13:23:04 Hail: INFO: pca: running PCA with 4 components...\n"
     ]
    }
   ],
   "source": [
    "eigenvalues, scores, loadings = hl.hwe_normalized_pca(mt.GT, k=4)"
   ]
  },
  {
   "cell_type": "code",
   "execution_count": 57,
   "metadata": {},
   "outputs": [],
   "source": [
    "mt = mt.annotate_cols(scores = scores[mt.s].scores)"
   ]
  },
  {
   "cell_type": "code",
   "execution_count": 58,
   "metadata": {},
   "outputs": [
    {
     "data": {
      "text/html": [
       "\n",
       "\n",
       "\n",
       "\n",
       "\n",
       "\n",
       "  <div class=\"bk-root\" id=\"fb7564c1-0fe5-446d-9be0-1d96a28692d5\" data-root-id=\"1628\"></div>\n"
      ]
     },
     "metadata": {},
     "output_type": "display_data"
    },
    {
     "data": {
      "application/javascript": [
       "(function(root) {\n",
       "  function embed_document(root) {\n",
       "    \n",
       "  var docs_json = {\"99502432-d08d-4d97-a5c8-7ab774cffffc\":{\"roots\":{\"references\":[{\"attributes\":{\"below\":[{\"id\":\"1639\",\"type\":\"LinearAxis\"}],\"center\":[{\"id\":\"1643\",\"type\":\"Grid\"},{\"id\":\"1648\",\"type\":\"Grid\"}],\"left\":[{\"id\":\"1644\",\"type\":\"LinearAxis\"},{\"id\":\"1715\",\"type\":\"Legend\"},{\"id\":\"1716\",\"type\":\"ColorBar\"}],\"plot_height\":600,\"plot_width\":800,\"renderers\":[{\"id\":\"1671\",\"type\":\"GlyphRenderer\"},{\"id\":\"1677\",\"type\":\"GlyphRenderer\"},{\"id\":\"1683\",\"type\":\"GlyphRenderer\"},{\"id\":\"1689\",\"type\":\"GlyphRenderer\"},{\"id\":\"1695\",\"type\":\"GlyphRenderer\"},{\"id\":\"1701\",\"type\":\"GlyphRenderer\"},{\"id\":\"1707\",\"type\":\"GlyphRenderer\"}],\"title\":{\"id\":\"1629\",\"type\":\"Title\"},\"toolbar\":{\"id\":\"1655\",\"type\":\"Toolbar\"},\"x_range\":{\"id\":\"1631\",\"type\":\"DataRange1d\"},\"x_scale\":{\"id\":\"1635\",\"type\":\"LinearScale\"},\"y_range\":{\"id\":\"1633\",\"type\":\"DataRange1d\"},\"y_scale\":{\"id\":\"1637\",\"type\":\"LinearScale\"}},\"id\":\"1628\",\"subtype\":\"Figure\",\"type\":\"Plot\"},{\"attributes\":{\"label\":{\"value\":\"5.00000e+00\"},\"renderers\":[{\"id\":\"1695\",\"type\":\"GlyphRenderer\"}]},\"id\":\"1712\",\"type\":\"LegendItem\"},{\"attributes\":{\"column_name\":\"label\",\"group\":\"6.00000e+00\"},\"id\":\"1696\",\"type\":\"GroupFilter\"},{\"attributes\":{},\"id\":\"1640\",\"type\":\"BasicTicker\"},{\"attributes\":{\"column_name\":\"label\",\"group\":\"3.00000e+00\"},\"id\":\"1678\",\"type\":\"GroupFilter\"},{\"attributes\":{},\"id\":\"1760\",\"type\":\"BasicTickFormatter\"},{\"attributes\":{},\"id\":\"1764\",\"type\":\"UnionRenderers\"},{\"attributes\":{\"fill_alpha\":{\"value\":0.1},\"fill_color\":{\"value\":\"#1f77b4\"},\"line_alpha\":{\"value\":0.1},\"line_color\":{\"value\":\"#1f77b4\"},\"x\":{\"field\":\"x\"},\"y\":{\"field\":\"y\"}},\"id\":\"1682\",\"type\":\"Circle\"},{\"attributes\":{\"column_name\":\"label\",\"group\":\"1.00000e+00\"},\"id\":\"1666\",\"type\":\"GroupFilter\"},{\"attributes\":{},\"id\":\"1645\",\"type\":\"BasicTicker\"},{\"attributes\":{\"fill_alpha\":{\"value\":0.1},\"fill_color\":{\"value\":\"#1f77b4\"},\"line_alpha\":{\"value\":0.1},\"line_color\":{\"value\":\"#1f77b4\"},\"x\":{\"field\":\"x\"},\"y\":{\"field\":\"y\"}},\"id\":\"1670\",\"type\":\"Circle\"},{\"attributes\":{},\"id\":\"1758\",\"type\":\"BasicTickFormatter\"},{\"attributes\":{\"fill_color\":{\"field\":\"label\",\"transform\":{\"id\":\"1665\",\"type\":\"CategoricalColorMapper\"}},\"line_color\":{\"field\":\"label\",\"transform\":{\"id\":\"1665\",\"type\":\"CategoricalColorMapper\"}},\"x\":{\"field\":\"x\"},\"y\":{\"field\":\"y\"}},\"id\":\"1687\",\"type\":\"Circle\"},{\"attributes\":{\"fill_alpha\":{\"value\":0.1},\"fill_color\":{\"value\":\"#1f77b4\"},\"line_alpha\":{\"value\":0.1},\"line_color\":{\"value\":\"#1f77b4\"},\"x\":{\"field\":\"x\"},\"y\":{\"field\":\"y\"}},\"id\":\"1700\",\"type\":\"Circle\"},{\"attributes\":{\"data_source\":{\"id\":\"1664\",\"type\":\"ColumnDataSource\"},\"glyph\":{\"id\":\"1699\",\"type\":\"Circle\"},\"hover_glyph\":null,\"muted_glyph\":null,\"nonselection_glyph\":{\"id\":\"1700\",\"type\":\"Circle\"},\"selection_glyph\":null,\"view\":{\"id\":\"1697\",\"type\":\"CDSView\"}},\"id\":\"1701\",\"type\":\"GlyphRenderer\"},{\"attributes\":{\"text\":\"PCA\"},\"id\":\"1629\",\"type\":\"Title\"},{\"attributes\":{\"label\":{\"value\":\"3.00000e+00\"},\"renderers\":[{\"id\":\"1683\",\"type\":\"GlyphRenderer\"}]},\"id\":\"1710\",\"type\":\"LegendItem\"},{\"attributes\":{\"column_name\":\"label\",\"group\":\"4.00000e+00\"},\"id\":\"1684\",\"type\":\"GroupFilter\"},{\"attributes\":{\"data_source\":{\"id\":\"1664\",\"type\":\"ColumnDataSource\"},\"glyph\":{\"id\":\"1669\",\"type\":\"Circle\"},\"hover_glyph\":null,\"muted_glyph\":null,\"nonselection_glyph\":{\"id\":\"1670\",\"type\":\"Circle\"},\"selection_glyph\":null,\"view\":{\"id\":\"1667\",\"type\":\"CDSView\"}},\"id\":\"1671\",\"type\":\"GlyphRenderer\"},{\"attributes\":{},\"id\":\"1653\",\"type\":\"ResetTool\"},{\"attributes\":{\"bottom_units\":\"screen\",\"fill_alpha\":{\"value\":0.5},\"fill_color\":{\"value\":\"lightgrey\"},\"left_units\":\"screen\",\"level\":\"overlay\",\"line_alpha\":{\"value\":1.0},\"line_color\":{\"value\":\"black\"},\"line_dash\":[4,4],\"line_width\":{\"value\":2},\"render_mode\":\"css\",\"right_units\":\"screen\",\"top_units\":\"screen\"},\"id\":\"1762\",\"type\":\"BoxAnnotation\"},{\"attributes\":{\"data_source\":{\"id\":\"1664\",\"type\":\"ColumnDataSource\"},\"glyph\":{\"id\":\"1687\",\"type\":\"Circle\"},\"hover_glyph\":null,\"muted_glyph\":null,\"nonselection_glyph\":{\"id\":\"1688\",\"type\":\"Circle\"},\"selection_glyph\":null,\"view\":{\"id\":\"1685\",\"type\":\"CDSView\"}},\"id\":\"1689\",\"type\":\"GlyphRenderer\"},{\"attributes\":{\"data_source\":{\"id\":\"1664\",\"type\":\"ColumnDataSource\"},\"glyph\":{\"id\":\"1705\",\"type\":\"Circle\"},\"hover_glyph\":null,\"muted_glyph\":null,\"nonselection_glyph\":{\"id\":\"1706\",\"type\":\"Circle\"},\"selection_glyph\":null,\"view\":{\"id\":\"1703\",\"type\":\"CDSView\"}},\"id\":\"1707\",\"type\":\"GlyphRenderer\"},{\"attributes\":{\"filters\":[{\"id\":\"1666\",\"type\":\"GroupFilter\"}],\"source\":{\"id\":\"1664\",\"type\":\"ColumnDataSource\"}},\"id\":\"1667\",\"type\":\"CDSView\"},{\"attributes\":{\"fill_color\":{\"field\":\"label\",\"transform\":{\"id\":\"1665\",\"type\":\"CategoricalColorMapper\"}},\"line_color\":{\"field\":\"label\",\"transform\":{\"id\":\"1665\",\"type\":\"CategoricalColorMapper\"}},\"x\":{\"field\":\"x\"},\"y\":{\"field\":\"y\"}},\"id\":\"1675\",\"type\":\"Circle\"},{\"attributes\":{},\"id\":\"1635\",\"type\":\"LinearScale\"},{\"attributes\":{\"filters\":[{\"id\":\"1684\",\"type\":\"GroupFilter\"}],\"source\":{\"id\":\"1664\",\"type\":\"ColumnDataSource\"}},\"id\":\"1685\",\"type\":\"CDSView\"},{\"attributes\":{},\"id\":\"1763\",\"type\":\"Selection\"},{\"attributes\":{\"column_name\":\"label\",\"group\":\"2.00000e+00\"},\"id\":\"1672\",\"type\":\"GroupFilter\"},{\"attributes\":{\"fill_color\":{\"field\":\"label\",\"transform\":{\"id\":\"1665\",\"type\":\"CategoricalColorMapper\"}},\"line_color\":{\"field\":\"label\",\"transform\":{\"id\":\"1665\",\"type\":\"CategoricalColorMapper\"}},\"x\":{\"field\":\"x\"},\"y\":{\"field\":\"y\"}},\"id\":\"1669\",\"type\":\"Circle\"},{\"attributes\":{\"filters\":[{\"id\":\"1672\",\"type\":\"GroupFilter\"}],\"source\":{\"id\":\"1664\",\"type\":\"ColumnDataSource\"}},\"id\":\"1673\",\"type\":\"CDSView\"},{\"attributes\":{\"fill_alpha\":{\"value\":0.1},\"fill_color\":{\"value\":\"#1f77b4\"},\"line_alpha\":{\"value\":0.1},\"line_color\":{\"value\":\"#1f77b4\"},\"x\":{\"field\":\"x\"},\"y\":{\"field\":\"y\"}},\"id\":\"1694\",\"type\":\"Circle\"},{\"attributes\":{\"fill_color\":{\"field\":\"label\",\"transform\":{\"id\":\"1665\",\"type\":\"CategoricalColorMapper\"}},\"line_color\":{\"field\":\"label\",\"transform\":{\"id\":\"1665\",\"type\":\"CategoricalColorMapper\"}},\"x\":{\"field\":\"x\"},\"y\":{\"field\":\"y\"}},\"id\":\"1699\",\"type\":\"Circle\"},{\"attributes\":{\"data_source\":{\"id\":\"1664\",\"type\":\"ColumnDataSource\"},\"glyph\":{\"id\":\"1693\",\"type\":\"Circle\"},\"hover_glyph\":null,\"muted_glyph\":null,\"nonselection_glyph\":{\"id\":\"1694\",\"type\":\"Circle\"},\"selection_glyph\":null,\"view\":{\"id\":\"1691\",\"type\":\"CDSView\"}},\"id\":\"1695\",\"type\":\"GlyphRenderer\"},{\"attributes\":{\"fill_alpha\":{\"value\":0.1},\"fill_color\":{\"value\":\"#1f77b4\"},\"line_alpha\":{\"value\":0.1},\"line_color\":{\"value\":\"#1f77b4\"},\"x\":{\"field\":\"x\"},\"y\":{\"field\":\"y\"}},\"id\":\"1706\",\"type\":\"Circle\"},{\"attributes\":{},\"id\":\"1756\",\"type\":\"BasicTickFormatter\"},{\"attributes\":{},\"id\":\"1650\",\"type\":\"WheelZoomTool\"},{\"attributes\":{\"label\":{\"value\":\"2.00000e+00\"},\"renderers\":[{\"id\":\"1677\",\"type\":\"GlyphRenderer\"}]},\"id\":\"1709\",\"type\":\"LegendItem\"},{\"attributes\":{\"filters\":[{\"id\":\"1678\",\"type\":\"GroupFilter\"}],\"source\":{\"id\":\"1664\",\"type\":\"ColumnDataSource\"}},\"id\":\"1679\",\"type\":\"CDSView\"},{\"attributes\":{\"column_name\":\"label\",\"group\":\"NA\"},\"id\":\"1702\",\"type\":\"GroupFilter\"},{\"attributes\":{\"axis_label\":\"PC2\",\"formatter\":{\"id\":\"1756\",\"type\":\"BasicTickFormatter\"},\"ticker\":{\"id\":\"1645\",\"type\":\"BasicTicker\"}},\"id\":\"1644\",\"type\":\"LinearAxis\"},{\"attributes\":{},\"id\":\"1637\",\"type\":\"LinearScale\"},{\"attributes\":{\"fill_color\":{\"field\":\"label\",\"transform\":{\"id\":\"1665\",\"type\":\"CategoricalColorMapper\"}},\"line_color\":{\"field\":\"label\",\"transform\":{\"id\":\"1665\",\"type\":\"CategoricalColorMapper\"}},\"x\":{\"field\":\"x\"},\"y\":{\"field\":\"y\"}},\"id\":\"1705\",\"type\":\"Circle\"},{\"attributes\":{\"column_name\":\"label\",\"group\":\"5.00000e+00\"},\"id\":\"1690\",\"type\":\"GroupFilter\"},{\"attributes\":{\"label\":{\"value\":\"NA\"},\"renderers\":[{\"id\":\"1707\",\"type\":\"GlyphRenderer\"}]},\"id\":\"1714\",\"type\":\"LegendItem\"},{\"attributes\":{\"overlay\":{\"id\":\"1762\",\"type\":\"BoxAnnotation\"}},\"id\":\"1651\",\"type\":\"BoxZoomTool\"},{\"attributes\":{},\"id\":\"1652\",\"type\":\"SaveTool\"},{\"attributes\":{\"fill_alpha\":{\"value\":0.1},\"fill_color\":{\"value\":\"#1f77b4\"},\"line_alpha\":{\"value\":0.1},\"line_color\":{\"value\":\"#1f77b4\"},\"x\":{\"field\":\"x\"},\"y\":{\"field\":\"y\"}},\"id\":\"1676\",\"type\":\"Circle\"},{\"attributes\":{\"data_source\":{\"id\":\"1664\",\"type\":\"ColumnDataSource\"},\"glyph\":{\"id\":\"1675\",\"type\":\"Circle\"},\"hover_glyph\":null,\"muted_glyph\":null,\"nonselection_glyph\":{\"id\":\"1676\",\"type\":\"Circle\"},\"selection_glyph\":null,\"view\":{\"id\":\"1673\",\"type\":\"CDSView\"}},\"id\":\"1677\",\"type\":\"GlyphRenderer\"},{\"attributes\":{\"label\":{\"value\":\"1.00000e+00\"},\"renderers\":[{\"id\":\"1671\",\"type\":\"GlyphRenderer\"}]},\"id\":\"1708\",\"type\":\"LegendItem\"},{\"attributes\":{\"callback\":null,\"data\":{\"index\":[0,1,2,3,4,5,6,7,8,9,10,11,12,13,14,15,16,17,18,19,20,21,22,23,24,25,26,27,28,29,30,31,32,33,34,35,36,37,38,39,40,41,42,43,44,45,46,47,48,49,50,51,52,53,54,55,56,57,58,59,60,61,62,63,64,65,66,67,68,69,70,71,72,73,74,75,76,77,78,79,80,81,82,83,84,85,86,87,88,89,90,91,92,93,94,95,96,97,98,99,100,101,102,103,104,105,106,107,108,109,110,111,112,113,114,115,116,117,118,119,120,121,122,123,124,125,126,127,128,129,130,131,132,133,134,135,136,137,138,139,140,141,142,143,144,145,146,147,148,149,150,151,152,153,154,155,156,157,158,159,160,161,162,163,164,165,166,167,168,169,170,171,172,173,174,175,176,177,178,179,180,181,182,183,184,185,186,187,188,189,190,191,192,193,194,195,196,197,198,199,200,201,202,203,204,205,206,207,208,209,210,211,212,213,214,215,216,217,218,219,220,221,222,223,224,225,226,227,228,229,230,231,232,233,234,235,236,237,238,239,240,241,242,243,244,245,246,247,248,249,250,251,252,253,254,255,256,257,258,259,260,261,262,263,264,265,266,267,268,269,270,271,272,273,274,275,276,277,278,279,280,281,282,283,284,285,286,287,288,289,290,291,292,293,294,295,296,297,298,299,300,301,302,303,304,305,306,307,308,309,310,311,312,313,314,315,316,317,318,319,320,321,322,323,324,325,326,327,328,329,330,331,332,333,334,335,336,337,338,339,340,341,342,343,344,345,346,347,348,349,350,351,352,353,354,355,356,357,358,359,360,361,362,363,364,365,366,367,368,369,370,371,372,373,374,375,376,377,378,379,380,381,382,383],\"label\":[\"1.00000e+00\",\"1.00000e+00\",\"NA\",\"1.00000e+00\",\"4.00000e+00\",\"4.00000e+00\",\"1.00000e+00\",\"4.00000e+00\",\"1.00000e+00\",\"1.00000e+00\",\"4.00000e+00\",\"3.00000e+00\",\"2.00000e+00\",\"4.00000e+00\",\"3.00000e+00\",\"3.00000e+00\",\"3.00000e+00\",\"1.00000e+00\",\"2.00000e+00\",\"4.00000e+00\",\"5.00000e+00\",\"3.00000e+00\",\"1.00000e+00\",\"2.00000e+00\",\"3.00000e+00\",\"2.00000e+00\",\"3.00000e+00\",\"2.00000e+00\",\"3.00000e+00\",\"1.00000e+00\",\"3.00000e+00\",\"2.00000e+00\",\"4.00000e+00\",\"NA\",\"NA\",\"4.00000e+00\",\"1.00000e+00\",\"3.00000e+00\",\"3.00000e+00\",\"6.00000e+00\",\"3.00000e+00\",\"NA\",\"3.00000e+00\",\"5.00000e+00\",\"3.00000e+00\",\"3.00000e+00\",\"2.00000e+00\",\"NA\",\"3.00000e+00\",\"1.00000e+00\",\"3.00000e+00\",\"2.00000e+00\",\"3.00000e+00\",\"5.00000e+00\",\"3.00000e+00\",\"4.00000e+00\",\"2.00000e+00\",\"2.00000e+00\",\"2.00000e+00\",\"3.00000e+00\",\"4.00000e+00\",\"NA\",\"3.00000e+00\",\"6.00000e+00\",\"2.00000e+00\",\"3.00000e+00\",\"1.00000e+00\",\"3.00000e+00\",\"1.00000e+00\",\"3.00000e+00\",\"3.00000e+00\",\"3.00000e+00\",\"2.00000e+00\",\"NA\",\"2.00000e+00\",\"2.00000e+00\",\"1.00000e+00\",\"3.00000e+00\",\"NA\",\"3.00000e+00\",\"2.00000e+00\",\"NA\",\"4.00000e+00\",\"2.00000e+00\",\"2.00000e+00\",\"2.00000e+00\",\"2.00000e+00\",\"3.00000e+00\",\"3.00000e+00\",\"NA\",\"2.00000e+00\",\"1.00000e+00\",\"1.00000e+00\",\"3.00000e+00\",\"4.00000e+00\",\"NA\",\"2.00000e+00\",\"1.00000e+00\",\"6.00000e+00\",\"3.00000e+00\",\"NA\",\"2.00000e+00\",\"2.00000e+00\",\"2.00000e+00\",\"NA\",\"3.00000e+00\",\"NA\",\"3.00000e+00\",\"3.00000e+00\",\"6.00000e+00\",\"3.00000e+00\",\"3.00000e+00\",\"NA\",\"3.00000e+00\",\"4.00000e+00\",\"1.00000e+00\",\"3.00000e+00\",\"1.00000e+00\",\"3.00000e+00\",\"2.00000e+00\",\"3.00000e+00\",\"3.00000e+00\",\"2.00000e+00\",\"1.00000e+00\",\"2.00000e+00\",\"2.00000e+00\",\"1.00000e+00\",\"3.00000e+00\",\"2.00000e+00\",\"3.00000e+00\",\"3.00000e+00\",\"2.00000e+00\",\"4.00000e+00\",\"6.00000e+00\",\"2.00000e+00\",\"1.00000e+00\",\"6.00000e+00\",\"3.00000e+00\",\"3.00000e+00\",\"3.00000e+00\",\"3.00000e+00\",\"2.00000e+00\",\"2.00000e+00\",\"NA\",\"6.00000e+00\",\"3.00000e+00\",\"3.00000e+00\",\"2.00000e+00\",\"3.00000e+00\",\"3.00000e+00\",\"2.00000e+00\",\"3.00000e+00\",\"3.00000e+00\",\"5.00000e+00\",\"3.00000e+00\",\"2.00000e+00\",\"4.00000e+00\",\"NA\",\"2.00000e+00\",\"2.00000e+00\",\"2.00000e+00\",\"2.00000e+00\",\"NA\",\"2.00000e+00\",\"6.00000e+00\",\"3.00000e+00\",\"3.00000e+00\",\"1.00000e+00\",\"2.00000e+00\",\"6.00000e+00\",\"1.00000e+00\",\"3.00000e+00\",\"3.00000e+00\",\"2.00000e+00\",\"3.00000e+00\",\"3.00000e+00\",\"6.00000e+00\",\"2.00000e+00\",\"1.00000e+00\",\"1.00000e+00\",\"2.00000e+00\",\"3.00000e+00\",\"3.00000e+00\",\"3.00000e+00\",\"2.00000e+00\",\"4.00000e+00\",\"2.00000e+00\",\"3.00000e+00\",\"2.00000e+00\",\"3.00000e+00\",\"3.00000e+00\",\"3.00000e+00\",\"3.00000e+00\",\"3.00000e+00\",\"1.00000e+00\",\"1.00000e+00\",\"3.00000e+00\",\"1.00000e+00\",\"2.00000e+00\",\"3.00000e+00\",\"1.00000e+00\",\"1.00000e+00\",\"2.00000e+00\",\"1.00000e+00\",\"3.00000e+00\",\"4.00000e+00\",\"6.00000e+00\",\"1.00000e+00\",\"3.00000e+00\",\"5.00000e+00\",\"3.00000e+00\",\"1.00000e+00\",\"3.00000e+00\",\"6.00000e+00\",\"1.00000e+00\",\"2.00000e+00\",\"NA\",\"6.00000e+00\",\"6.00000e+00\",\"NA\",\"1.00000e+00\",\"2.00000e+00\",\"4.00000e+00\",\"2.00000e+00\",\"3.00000e+00\",\"1.00000e+00\",\"NA\",\"6.00000e+00\",\"3.00000e+00\",\"1.00000e+00\",\"3.00000e+00\",\"2.00000e+00\",\"2.00000e+00\",\"2.00000e+00\",\"5.00000e+00\",\"1.00000e+00\",\"3.00000e+00\",\"3.00000e+00\",\"3.00000e+00\",\"3.00000e+00\",\"3.00000e+00\",\"3.00000e+00\",\"2.00000e+00\",\"3.00000e+00\",\"3.00000e+00\",\"3.00000e+00\",\"1.00000e+00\",\"5.00000e+00\",\"3.00000e+00\",\"3.00000e+00\",\"2.00000e+00\",\"1.00000e+00\",\"5.00000e+00\",\"2.00000e+00\",\"3.00000e+00\",\"3.00000e+00\",\"3.00000e+00\",\"3.00000e+00\",\"NA\",\"3.00000e+00\",\"6.00000e+00\",\"3.00000e+00\",\"2.00000e+00\",\"2.00000e+00\",\"6.00000e+00\",\"3.00000e+00\",\"4.00000e+00\",\"1.00000e+00\",\"6.00000e+00\",\"6.00000e+00\",\"3.00000e+00\",\"1.00000e+00\",\"1.00000e+00\",\"2.00000e+00\",\"3.00000e+00\",\"NA\",\"3.00000e+00\",\"1.00000e+00\",\"4.00000e+00\",\"2.00000e+00\",\"4.00000e+00\",\"5.00000e+00\",\"6.00000e+00\",\"6.00000e+00\",\"3.00000e+00\",\"3.00000e+00\",\"3.00000e+00\",\"3.00000e+00\",\"5.00000e+00\",\"2.00000e+00\",\"6.00000e+00\",\"3.00000e+00\",\"3.00000e+00\",\"1.00000e+00\",\"4.00000e+00\",\"3.00000e+00\",\"3.00000e+00\",\"3.00000e+00\",\"3.00000e+00\",\"1.00000e+00\",\"5.00000e+00\",\"2.00000e+00\",\"1.00000e+00\",\"2.00000e+00\",\"6.00000e+00\",\"2.00000e+00\",\"1.00000e+00\",\"3.00000e+00\",\"2.00000e+00\",\"NA\",\"3.00000e+00\",\"2.00000e+00\",\"2.00000e+00\",\"NA\",\"6.00000e+00\",\"3.00000e+00\",\"3.00000e+00\",\"3.00000e+00\",\"3.00000e+00\",\"3.00000e+00\",\"6.00000e+00\",\"3.00000e+00\",\"1.00000e+00\",\"3.00000e+00\",\"1.00000e+00\",\"1.00000e+00\",\"2.00000e+00\",\"3.00000e+00\",\"3.00000e+00\",\"3.00000e+00\",\"3.00000e+00\",\"2.00000e+00\",\"2.00000e+00\",\"2.00000e+00\",\"3.00000e+00\",\"6.00000e+00\",\"3.00000e+00\",\"3.00000e+00\",\"3.00000e+00\",\"3.00000e+00\",\"1.00000e+00\",\"3.00000e+00\",\"6.00000e+00\",\"1.00000e+00\",\"3.00000e+00\",\"2.00000e+00\",\"6.00000e+00\",\"3.00000e+00\",\"6.00000e+00\",\"1.00000e+00\",\"3.00000e+00\",\"3.00000e+00\",\"3.00000e+00\",\"6.00000e+00\",\"3.00000e+00\",\"3.00000e+00\",\"5.00000e+00\",\"3.00000e+00\",\"3.00000e+00\",\"3.00000e+00\",\"NA\",\"3.00000e+00\",\"3.00000e+00\",\"6.00000e+00\",\"1.00000e+00\",\"3.00000e+00\",\"2.00000e+00\",\"NA\",\"3.00000e+00\",\"5.00000e+00\",\"NA\",\"3.00000e+00\",\"3.00000e+00\",\"NA\",\"1.00000e+00\",\"3.00000e+00\",\"NA\",\"3.00000e+00\",\"5.00000e+00\",\"NA\",\"3.00000e+00\",\"NA\",\"6.00000e+00\",\"3.00000e+00\"],\"x\":{\"__ndarray__\":\"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\",\"dtype\":\"float64\",\"shape\":[384]},\"y\":{\"__ndarray__\":\"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\",\"dtype\":\"float64\",\"shape\":[384]}},\"selected\":{\"id\":\"1763\",\"type\":\"Selection\"},\"selection_policy\":{\"id\":\"1764\",\"type\":\"UnionRenderers\"}},\"id\":\"1664\",\"type\":\"ColumnDataSource\"},{\"attributes\":{\"data_source\":{\"id\":\"1664\",\"type\":\"ColumnDataSource\"},\"glyph\":{\"id\":\"1681\",\"type\":\"Circle\"},\"hover_glyph\":null,\"muted_glyph\":null,\"nonselection_glyph\":{\"id\":\"1682\",\"type\":\"Circle\"},\"selection_glyph\":null,\"view\":{\"id\":\"1679\",\"type\":\"CDSView\"}},\"id\":\"1683\",\"type\":\"GlyphRenderer\"},{\"attributes\":{\"label\":{\"value\":\"4.00000e+00\"},\"renderers\":[{\"id\":\"1689\",\"type\":\"GlyphRenderer\"}]},\"id\":\"1711\",\"type\":\"LegendItem\"},{\"attributes\":{},\"id\":\"1654\",\"type\":\"HelpTool\"},{\"attributes\":{\"axis_label\":\"PC1\",\"formatter\":{\"id\":\"1760\",\"type\":\"BasicTickFormatter\"},\"ticker\":{\"id\":\"1640\",\"type\":\"BasicTicker\"}},\"id\":\"1639\",\"type\":\"LinearAxis\"},{\"attributes\":{\"click_policy\":\"hide\",\"items\":[{\"id\":\"1708\",\"type\":\"LegendItem\"},{\"id\":\"1709\",\"type\":\"LegendItem\"},{\"id\":\"1710\",\"type\":\"LegendItem\"},{\"id\":\"1711\",\"type\":\"LegendItem\"},{\"id\":\"1712\",\"type\":\"LegendItem\"},{\"id\":\"1713\",\"type\":\"LegendItem\"},{\"id\":\"1714\",\"type\":\"LegendItem\"}]},\"id\":\"1715\",\"type\":\"Legend\"},{\"attributes\":{},\"id\":\"1759\",\"type\":\"BasicTicker\"},{\"attributes\":{\"callback\":null,\"tooltips\":[[\"x\",\"@x\"],[\"y\",\"@y\"],[\"label\",\"@label\"]]},\"id\":\"1663\",\"type\":\"HoverTool\"},{\"attributes\":{\"filters\":[{\"id\":\"1696\",\"type\":\"GroupFilter\"}],\"source\":{\"id\":\"1664\",\"type\":\"ColumnDataSource\"}},\"id\":\"1697\",\"type\":\"CDSView\"},{\"attributes\":{\"dimension\":1,\"ticker\":{\"id\":\"1645\",\"type\":\"BasicTicker\"}},\"id\":\"1648\",\"type\":\"Grid\"},{\"attributes\":{\"fill_alpha\":{\"value\":0.1},\"fill_color\":{\"value\":\"#1f77b4\"},\"line_alpha\":{\"value\":0.1},\"line_color\":{\"value\":\"#1f77b4\"},\"x\":{\"field\":\"x\"},\"y\":{\"field\":\"y\"}},\"id\":\"1688\",\"type\":\"Circle\"},{\"attributes\":{\"label\":{\"value\":\"6.00000e+00\"},\"renderers\":[{\"id\":\"1701\",\"type\":\"GlyphRenderer\"}]},\"id\":\"1713\",\"type\":\"LegendItem\"},{\"attributes\":{},\"id\":\"1649\",\"type\":\"PanTool\"},{\"attributes\":{\"filters\":[{\"id\":\"1690\",\"type\":\"GroupFilter\"}],\"source\":{\"id\":\"1664\",\"type\":\"ColumnDataSource\"}},\"id\":\"1691\",\"type\":\"CDSView\"},{\"attributes\":{\"fill_color\":{\"field\":\"label\",\"transform\":{\"id\":\"1665\",\"type\":\"CategoricalColorMapper\"}},\"line_color\":{\"field\":\"label\",\"transform\":{\"id\":\"1665\",\"type\":\"CategoricalColorMapper\"}},\"x\":{\"field\":\"x\"},\"y\":{\"field\":\"y\"}},\"id\":\"1681\",\"type\":\"Circle\"},{\"attributes\":{\"factors\":[\"2.00000e+00\",\"3.00000e+00\",\"1.00000e+00\",\"5.00000e+00\",\"6.00000e+00\",\"NA\",\"4.00000e+00\"],\"palette\":[\"#1f77b4\",\"#ff7f0e\",\"#2ca02c\",\"#d62728\",\"#9467bd\",\"#8c564b\",\"#e377c2\",\"#7f7f7f\",\"#bcbd22\",\"#17becf\"]},\"id\":\"1665\",\"type\":\"CategoricalColorMapper\"},{\"attributes\":{\"fill_color\":{\"field\":\"label\",\"transform\":{\"id\":\"1665\",\"type\":\"CategoricalColorMapper\"}},\"line_color\":{\"field\":\"label\",\"transform\":{\"id\":\"1665\",\"type\":\"CategoricalColorMapper\"}},\"x\":{\"field\":\"x\"},\"y\":{\"field\":\"y\"}},\"id\":\"1693\",\"type\":\"Circle\"},{\"attributes\":{\"filters\":[{\"id\":\"1702\",\"type\":\"GroupFilter\"}],\"source\":{\"id\":\"1664\",\"type\":\"ColumnDataSource\"}},\"id\":\"1703\",\"type\":\"CDSView\"},{\"attributes\":{\"color_mapper\":null,\"formatter\":{\"id\":\"1758\",\"type\":\"BasicTickFormatter\"},\"ticker\":{\"id\":\"1759\",\"type\":\"BasicTicker\"},\"visible\":false},\"id\":\"1716\",\"type\":\"ColorBar\"},{\"attributes\":{\"active_drag\":\"auto\",\"active_inspect\":\"auto\",\"active_multi\":null,\"active_scroll\":\"auto\",\"active_tap\":\"auto\",\"tools\":[{\"id\":\"1649\",\"type\":\"PanTool\"},{\"id\":\"1650\",\"type\":\"WheelZoomTool\"},{\"id\":\"1651\",\"type\":\"BoxZoomTool\"},{\"id\":\"1652\",\"type\":\"SaveTool\"},{\"id\":\"1653\",\"type\":\"ResetTool\"},{\"id\":\"1654\",\"type\":\"HelpTool\"},{\"id\":\"1663\",\"type\":\"HoverTool\"}]},\"id\":\"1655\",\"type\":\"Toolbar\"},{\"attributes\":{\"callback\":null},\"id\":\"1631\",\"type\":\"DataRange1d\"},{\"attributes\":{\"ticker\":{\"id\":\"1640\",\"type\":\"BasicTicker\"}},\"id\":\"1643\",\"type\":\"Grid\"},{\"attributes\":{\"callback\":null},\"id\":\"1633\",\"type\":\"DataRange1d\"}],\"root_ids\":[\"1628\"]},\"title\":\"Bokeh Application\",\"version\":\"1.2.0\"}};\n",
       "  var render_items = [{\"docid\":\"99502432-d08d-4d97-a5c8-7ab774cffffc\",\"roots\":{\"1628\":\"fb7564c1-0fe5-446d-9be0-1d96a28692d5\"}}];\n",
       "  root.Bokeh.embed.embed_items_notebook(docs_json, render_items);\n",
       "\n",
       "  }\n",
       "  if (root.Bokeh !== undefined) {\n",
       "    embed_document(root);\n",
       "  } else {\n",
       "    var attempts = 0;\n",
       "    var timer = setInterval(function(root) {\n",
       "      if (root.Bokeh !== undefined) {\n",
       "        embed_document(root);\n",
       "        clearInterval(timer);\n",
       "      }\n",
       "      attempts++;\n",
       "      if (attempts > 100) {\n",
       "        console.log(\"Bokeh: ERROR: Unable to run BokehJS code because BokehJS library is missing\");\n",
       "        clearInterval(timer);\n",
       "      }\n",
       "    }, 10, root)\n",
       "  }\n",
       "})(window);"
      ],
      "application/vnd.bokehjs_exec.v0+json": ""
     },
     "metadata": {
      "application/vnd.bokehjs_exec.v0+json": {
       "id": "1628"
      }
     },
     "output_type": "display_data"
    }
   ],
   "source": [
    "p = hl.plot.scatter(mt.scores[0],\n",
    "                    mt.scores[1],\n",
    "                    label=hl.str(mt.birthplace),\n",
    "                    title='PCA', xlabel='PC1', ylabel='PC2')\n",
    "p.plot_width = 800\n",
    "p.plot_height = 600\n",
    "show(p)"
   ]
  },
  {
   "cell_type": "markdown",
   "metadata": {},
   "source": [
    "Region number | Region name(s)\n",
    "-----|-----\n",
    "1 | Norðoyggjar\n",
    "2 | Eysturoy og Norðstreymoy\n",
    "3 | Suðurstreymoy\n",
    "4 | Vágar og Mykines\n",
    "5 | Sandoy, Skúvoy, Stóra Dímun\n",
    "6 | Suðuroy"
   ]
  },
  {
   "cell_type": "markdown",
   "metadata": {},
   "source": [
    "From this PCA, it looks like there is very little population structure. But I'm not so convinced, I see this as a failure to detect population structure, not a success to show that there is no population structure."
   ]
  }
 ],
 "metadata": {
  "kernelspec": {
   "display_name": "Python [conda env:fargen-1-exome]",
   "language": "python",
   "name": "conda-env-fargen-1-exome-py"
  },
  "language_info": {
   "codemirror_mode": {
    "name": "ipython",
    "version": 3
   },
   "file_extension": ".py",
   "mimetype": "text/x-python",
   "name": "python",
   "nbconvert_exporter": "python",
   "pygments_lexer": "ipython3",
   "version": "3.7.10"
  }
 },
 "nbformat": 4,
 "nbformat_minor": 4
}
