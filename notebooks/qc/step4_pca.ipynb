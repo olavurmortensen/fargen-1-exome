{
 "cells": [
  {
   "cell_type": "markdown",
   "metadata": {},
   "source": [
    "# Principal Component Analysis"
   ]
  },
  {
   "cell_type": "code",
   "execution_count": 1,
   "metadata": {},
   "outputs": [
    {
     "name": "stderr",
     "output_type": "stream",
     "text": [
      "Running on Apache Spark version 2.4.1\n",
      "SparkUI available at http://hms-beagle-848846b477-48ks9:4040\n",
      "Welcome to\n",
      "     __  __     <>__\n",
      "    / /_/ /__  __/ /\n",
      "   / __  / _ `/ / /\n",
      "  /_/ /_/\\_,_/_/_/   version 0.2.61-3c86d3ba497a\n",
      "LOGGING: writing to /home/olavur/experiments/2020-11-13_fargen1_exome_analysis/fargen-1-exome/notebooks/qc/hail-20210513-0935-0.2.61-3c86d3ba497a.log\n"
     ]
    }
   ],
   "source": [
    "import hail as hl\n",
    "hl.init(spark_conf={'spark.driver.memory': '10g'}, tmp_dir='/home/olavur/tmp')"
   ]
  },
  {
   "cell_type": "code",
   "execution_count": 2,
   "metadata": {},
   "outputs": [
    {
     "data": {
      "text/html": [
       "\n",
       "    <div class=\"bk-root\">\n",
       "        <a href=\"https://bokeh.pydata.org\" target=\"_blank\" class=\"bk-logo bk-logo-small bk-logo-notebook\"></a>\n",
       "        <span id=\"1001\">Loading BokehJS ...</span>\n",
       "    </div>"
      ]
     },
     "metadata": {},
     "output_type": "display_data"
    },
    {
     "data": {
      "application/javascript": [
       "\n",
       "(function(root) {\n",
       "  function now() {\n",
       "    return new Date();\n",
       "  }\n",
       "\n",
       "  var force = true;\n",
       "\n",
       "  if (typeof root._bokeh_onload_callbacks === \"undefined\" || force === true) {\n",
       "    root._bokeh_onload_callbacks = [];\n",
       "    root._bokeh_is_loading = undefined;\n",
       "  }\n",
       "\n",
       "  var JS_MIME_TYPE = 'application/javascript';\n",
       "  var HTML_MIME_TYPE = 'text/html';\n",
       "  var EXEC_MIME_TYPE = 'application/vnd.bokehjs_exec.v0+json';\n",
       "  var CLASS_NAME = 'output_bokeh rendered_html';\n",
       "\n",
       "  /**\n",
       "   * Render data to the DOM node\n",
       "   */\n",
       "  function render(props, node) {\n",
       "    var script = document.createElement(\"script\");\n",
       "    node.appendChild(script);\n",
       "  }\n",
       "\n",
       "  /**\n",
       "   * Handle when an output is cleared or removed\n",
       "   */\n",
       "  function handleClearOutput(event, handle) {\n",
       "    var cell = handle.cell;\n",
       "\n",
       "    var id = cell.output_area._bokeh_element_id;\n",
       "    var server_id = cell.output_area._bokeh_server_id;\n",
       "    // Clean up Bokeh references\n",
       "    if (id != null && id in Bokeh.index) {\n",
       "      Bokeh.index[id].model.document.clear();\n",
       "      delete Bokeh.index[id];\n",
       "    }\n",
       "\n",
       "    if (server_id !== undefined) {\n",
       "      // Clean up Bokeh references\n",
       "      var cmd = \"from bokeh.io.state import curstate; print(curstate().uuid_to_server['\" + server_id + \"'].get_sessions()[0].document.roots[0]._id)\";\n",
       "      cell.notebook.kernel.execute(cmd, {\n",
       "        iopub: {\n",
       "          output: function(msg) {\n",
       "            var id = msg.content.text.trim();\n",
       "            if (id in Bokeh.index) {\n",
       "              Bokeh.index[id].model.document.clear();\n",
       "              delete Bokeh.index[id];\n",
       "            }\n",
       "          }\n",
       "        }\n",
       "      });\n",
       "      // Destroy server and session\n",
       "      var cmd = \"import bokeh.io.notebook as ion; ion.destroy_server('\" + server_id + \"')\";\n",
       "      cell.notebook.kernel.execute(cmd);\n",
       "    }\n",
       "  }\n",
       "\n",
       "  /**\n",
       "   * Handle when a new output is added\n",
       "   */\n",
       "  function handleAddOutput(event, handle) {\n",
       "    var output_area = handle.output_area;\n",
       "    var output = handle.output;\n",
       "\n",
       "    // limit handleAddOutput to display_data with EXEC_MIME_TYPE content only\n",
       "    if ((output.output_type != \"display_data\") || (!output.data.hasOwnProperty(EXEC_MIME_TYPE))) {\n",
       "      return\n",
       "    }\n",
       "\n",
       "    var toinsert = output_area.element.find(\".\" + CLASS_NAME.split(' ')[0]);\n",
       "\n",
       "    if (output.metadata[EXEC_MIME_TYPE][\"id\"] !== undefined) {\n",
       "      toinsert[toinsert.length - 1].firstChild.textContent = output.data[JS_MIME_TYPE];\n",
       "      // store reference to embed id on output_area\n",
       "      output_area._bokeh_element_id = output.metadata[EXEC_MIME_TYPE][\"id\"];\n",
       "    }\n",
       "    if (output.metadata[EXEC_MIME_TYPE][\"server_id\"] !== undefined) {\n",
       "      var bk_div = document.createElement(\"div\");\n",
       "      bk_div.innerHTML = output.data[HTML_MIME_TYPE];\n",
       "      var script_attrs = bk_div.children[0].attributes;\n",
       "      for (var i = 0; i < script_attrs.length; i++) {\n",
       "        toinsert[toinsert.length - 1].firstChild.setAttribute(script_attrs[i].name, script_attrs[i].value);\n",
       "      }\n",
       "      // store reference to server id on output_area\n",
       "      output_area._bokeh_server_id = output.metadata[EXEC_MIME_TYPE][\"server_id\"];\n",
       "    }\n",
       "  }\n",
       "\n",
       "  function register_renderer(events, OutputArea) {\n",
       "\n",
       "    function append_mime(data, metadata, element) {\n",
       "      // create a DOM node to render to\n",
       "      var toinsert = this.create_output_subarea(\n",
       "        metadata,\n",
       "        CLASS_NAME,\n",
       "        EXEC_MIME_TYPE\n",
       "      );\n",
       "      this.keyboard_manager.register_events(toinsert);\n",
       "      // Render to node\n",
       "      var props = {data: data, metadata: metadata[EXEC_MIME_TYPE]};\n",
       "      render(props, toinsert[toinsert.length - 1]);\n",
       "      element.append(toinsert);\n",
       "      return toinsert\n",
       "    }\n",
       "\n",
       "    /* Handle when an output is cleared or removed */\n",
       "    events.on('clear_output.CodeCell', handleClearOutput);\n",
       "    events.on('delete.Cell', handleClearOutput);\n",
       "\n",
       "    /* Handle when a new output is added */\n",
       "    events.on('output_added.OutputArea', handleAddOutput);\n",
       "\n",
       "    /**\n",
       "     * Register the mime type and append_mime function with output_area\n",
       "     */\n",
       "    OutputArea.prototype.register_mime_type(EXEC_MIME_TYPE, append_mime, {\n",
       "      /* Is output safe? */\n",
       "      safe: true,\n",
       "      /* Index of renderer in `output_area.display_order` */\n",
       "      index: 0\n",
       "    });\n",
       "  }\n",
       "\n",
       "  // register the mime type if in Jupyter Notebook environment and previously unregistered\n",
       "  if (root.Jupyter !== undefined) {\n",
       "    var events = require('base/js/events');\n",
       "    var OutputArea = require('notebook/js/outputarea').OutputArea;\n",
       "\n",
       "    if (OutputArea.prototype.mime_types().indexOf(EXEC_MIME_TYPE) == -1) {\n",
       "      register_renderer(events, OutputArea);\n",
       "    }\n",
       "  }\n",
       "\n",
       "  \n",
       "  if (typeof (root._bokeh_timeout) === \"undefined\" || force === true) {\n",
       "    root._bokeh_timeout = Date.now() + 5000;\n",
       "    root._bokeh_failed_load = false;\n",
       "  }\n",
       "\n",
       "  var NB_LOAD_WARNING = {'data': {'text/html':\n",
       "     \"<div style='background-color: #fdd'>\\n\"+\n",
       "     \"<p>\\n\"+\n",
       "     \"BokehJS does not appear to have successfully loaded. If loading BokehJS from CDN, this \\n\"+\n",
       "     \"may be due to a slow or bad network connection. Possible fixes:\\n\"+\n",
       "     \"</p>\\n\"+\n",
       "     \"<ul>\\n\"+\n",
       "     \"<li>re-rerun `output_notebook()` to attempt to load from CDN again, or</li>\\n\"+\n",
       "     \"<li>use INLINE resources instead, as so:</li>\\n\"+\n",
       "     \"</ul>\\n\"+\n",
       "     \"<code>\\n\"+\n",
       "     \"from bokeh.resources import INLINE\\n\"+\n",
       "     \"output_notebook(resources=INLINE)\\n\"+\n",
       "     \"</code>\\n\"+\n",
       "     \"</div>\"}};\n",
       "\n",
       "  function display_loaded() {\n",
       "    var el = document.getElementById(\"1001\");\n",
       "    if (el != null) {\n",
       "      el.textContent = \"BokehJS is loading...\";\n",
       "    }\n",
       "    if (root.Bokeh !== undefined) {\n",
       "      if (el != null) {\n",
       "        el.textContent = \"BokehJS \" + root.Bokeh.version + \" successfully loaded.\";\n",
       "      }\n",
       "    } else if (Date.now() < root._bokeh_timeout) {\n",
       "      setTimeout(display_loaded, 100)\n",
       "    }\n",
       "  }\n",
       "\n",
       "\n",
       "  function run_callbacks() {\n",
       "    try {\n",
       "      root._bokeh_onload_callbacks.forEach(function(callback) {\n",
       "        if (callback != null)\n",
       "          callback();\n",
       "      });\n",
       "    } finally {\n",
       "      delete root._bokeh_onload_callbacks\n",
       "    }\n",
       "    console.debug(\"Bokeh: all callbacks have finished\");\n",
       "  }\n",
       "\n",
       "  function load_libs(css_urls, js_urls, callback) {\n",
       "    if (css_urls == null) css_urls = [];\n",
       "    if (js_urls == null) js_urls = [];\n",
       "\n",
       "    root._bokeh_onload_callbacks.push(callback);\n",
       "    if (root._bokeh_is_loading > 0) {\n",
       "      console.debug(\"Bokeh: BokehJS is being loaded, scheduling callback at\", now());\n",
       "      return null;\n",
       "    }\n",
       "    if (js_urls == null || js_urls.length === 0) {\n",
       "      run_callbacks();\n",
       "      return null;\n",
       "    }\n",
       "    console.debug(\"Bokeh: BokehJS not loaded, scheduling load and callback at\", now());\n",
       "    root._bokeh_is_loading = css_urls.length + js_urls.length;\n",
       "\n",
       "    function on_load() {\n",
       "      root._bokeh_is_loading--;\n",
       "      if (root._bokeh_is_loading === 0) {\n",
       "        console.debug(\"Bokeh: all BokehJS libraries/stylesheets loaded\");\n",
       "        run_callbacks()\n",
       "      }\n",
       "    }\n",
       "\n",
       "    function on_error() {\n",
       "      console.error(\"failed to load \" + url);\n",
       "    }\n",
       "\n",
       "    for (var i = 0; i < css_urls.length; i++) {\n",
       "      var url = css_urls[i];\n",
       "      const element = document.createElement(\"link\");\n",
       "      element.onload = on_load;\n",
       "      element.onerror = on_error;\n",
       "      element.rel = \"stylesheet\";\n",
       "      element.type = \"text/css\";\n",
       "      element.href = url;\n",
       "      console.debug(\"Bokeh: injecting link tag for BokehJS stylesheet: \", url);\n",
       "      document.body.appendChild(element);\n",
       "    }\n",
       "\n",
       "    for (var i = 0; i < js_urls.length; i++) {\n",
       "      var url = js_urls[i];\n",
       "      var element = document.createElement('script');\n",
       "      element.onload = on_load;\n",
       "      element.onerror = on_error;\n",
       "      element.async = false;\n",
       "      element.src = url;\n",
       "      console.debug(\"Bokeh: injecting script tag for BokehJS library: \", url);\n",
       "      document.head.appendChild(element);\n",
       "    }\n",
       "  };var element = document.getElementById(\"1001\");\n",
       "  if (element == null) {\n",
       "    console.error(\"Bokeh: ERROR: autoload.js configured with elementid '1001' but no matching script tag was found. \")\n",
       "    return false;\n",
       "  }\n",
       "\n",
       "  function inject_raw_css(css) {\n",
       "    const element = document.createElement(\"style\");\n",
       "    element.appendChild(document.createTextNode(css));\n",
       "    document.body.appendChild(element);\n",
       "  }\n",
       "\n",
       "  var js_urls = [\"https://cdn.pydata.org/bokeh/release/bokeh-1.2.0.min.js\", \"https://cdn.pydata.org/bokeh/release/bokeh-widgets-1.2.0.min.js\", \"https://cdn.pydata.org/bokeh/release/bokeh-tables-1.2.0.min.js\", \"https://cdn.pydata.org/bokeh/release/bokeh-gl-1.2.0.min.js\"];\n",
       "  var css_urls = [\"https://cdn.pydata.org/bokeh/release/bokeh-1.2.0.min.css\", \"https://cdn.pydata.org/bokeh/release/bokeh-widgets-1.2.0.min.css\", \"https://cdn.pydata.org/bokeh/release/bokeh-tables-1.2.0.min.css\"];\n",
       "\n",
       "  var inline_js = [\n",
       "    function(Bokeh) {\n",
       "      Bokeh.set_log_level(\"info\");\n",
       "    },\n",
       "    \n",
       "    function(Bokeh) {\n",
       "      \n",
       "    },\n",
       "    function(Bokeh) {} // ensure no trailing comma for IE\n",
       "  ];\n",
       "\n",
       "  function run_inline_js() {\n",
       "    \n",
       "    if ((root.Bokeh !== undefined) || (force === true)) {\n",
       "      for (var i = 0; i < inline_js.length; i++) {\n",
       "        inline_js[i].call(root, root.Bokeh);\n",
       "      }if (force === true) {\n",
       "        display_loaded();\n",
       "      }} else if (Date.now() < root._bokeh_timeout) {\n",
       "      setTimeout(run_inline_js, 100);\n",
       "    } else if (!root._bokeh_failed_load) {\n",
       "      console.log(\"Bokeh: BokehJS failed to load within specified timeout.\");\n",
       "      root._bokeh_failed_load = true;\n",
       "    } else if (force !== true) {\n",
       "      var cell = $(document.getElementById(\"1001\")).parents('.cell').data().cell;\n",
       "      cell.output_area.append_execute_result(NB_LOAD_WARNING)\n",
       "    }\n",
       "\n",
       "  }\n",
       "\n",
       "  if (root._bokeh_is_loading === 0) {\n",
       "    console.debug(\"Bokeh: BokehJS loaded, going straight to plotting\");\n",
       "    run_inline_js();\n",
       "  } else {\n",
       "    load_libs(css_urls, js_urls, function() {\n",
       "      console.debug(\"Bokeh: BokehJS plotting callback run at\", now());\n",
       "      run_inline_js();\n",
       "    });\n",
       "  }\n",
       "}(window));"
      ],
      "application/vnd.bokehjs_load.v0+json": "\n(function(root) {\n  function now() {\n    return new Date();\n  }\n\n  var force = true;\n\n  if (typeof root._bokeh_onload_callbacks === \"undefined\" || force === true) {\n    root._bokeh_onload_callbacks = [];\n    root._bokeh_is_loading = undefined;\n  }\n\n  \n\n  \n  if (typeof (root._bokeh_timeout) === \"undefined\" || force === true) {\n    root._bokeh_timeout = Date.now() + 5000;\n    root._bokeh_failed_load = false;\n  }\n\n  var NB_LOAD_WARNING = {'data': {'text/html':\n     \"<div style='background-color: #fdd'>\\n\"+\n     \"<p>\\n\"+\n     \"BokehJS does not appear to have successfully loaded. If loading BokehJS from CDN, this \\n\"+\n     \"may be due to a slow or bad network connection. Possible fixes:\\n\"+\n     \"</p>\\n\"+\n     \"<ul>\\n\"+\n     \"<li>re-rerun `output_notebook()` to attempt to load from CDN again, or</li>\\n\"+\n     \"<li>use INLINE resources instead, as so:</li>\\n\"+\n     \"</ul>\\n\"+\n     \"<code>\\n\"+\n     \"from bokeh.resources import INLINE\\n\"+\n     \"output_notebook(resources=INLINE)\\n\"+\n     \"</code>\\n\"+\n     \"</div>\"}};\n\n  function display_loaded() {\n    var el = document.getElementById(\"1001\");\n    if (el != null) {\n      el.textContent = \"BokehJS is loading...\";\n    }\n    if (root.Bokeh !== undefined) {\n      if (el != null) {\n        el.textContent = \"BokehJS \" + root.Bokeh.version + \" successfully loaded.\";\n      }\n    } else if (Date.now() < root._bokeh_timeout) {\n      setTimeout(display_loaded, 100)\n    }\n  }\n\n\n  function run_callbacks() {\n    try {\n      root._bokeh_onload_callbacks.forEach(function(callback) {\n        if (callback != null)\n          callback();\n      });\n    } finally {\n      delete root._bokeh_onload_callbacks\n    }\n    console.debug(\"Bokeh: all callbacks have finished\");\n  }\n\n  function load_libs(css_urls, js_urls, callback) {\n    if (css_urls == null) css_urls = [];\n    if (js_urls == null) js_urls = [];\n\n    root._bokeh_onload_callbacks.push(callback);\n    if (root._bokeh_is_loading > 0) {\n      console.debug(\"Bokeh: BokehJS is being loaded, scheduling callback at\", now());\n      return null;\n    }\n    if (js_urls == null || js_urls.length === 0) {\n      run_callbacks();\n      return null;\n    }\n    console.debug(\"Bokeh: BokehJS not loaded, scheduling load and callback at\", now());\n    root._bokeh_is_loading = css_urls.length + js_urls.length;\n\n    function on_load() {\n      root._bokeh_is_loading--;\n      if (root._bokeh_is_loading === 0) {\n        console.debug(\"Bokeh: all BokehJS libraries/stylesheets loaded\");\n        run_callbacks()\n      }\n    }\n\n    function on_error() {\n      console.error(\"failed to load \" + url);\n    }\n\n    for (var i = 0; i < css_urls.length; i++) {\n      var url = css_urls[i];\n      const element = document.createElement(\"link\");\n      element.onload = on_load;\n      element.onerror = on_error;\n      element.rel = \"stylesheet\";\n      element.type = \"text/css\";\n      element.href = url;\n      console.debug(\"Bokeh: injecting link tag for BokehJS stylesheet: \", url);\n      document.body.appendChild(element);\n    }\n\n    for (var i = 0; i < js_urls.length; i++) {\n      var url = js_urls[i];\n      var element = document.createElement('script');\n      element.onload = on_load;\n      element.onerror = on_error;\n      element.async = false;\n      element.src = url;\n      console.debug(\"Bokeh: injecting script tag for BokehJS library: \", url);\n      document.head.appendChild(element);\n    }\n  };var element = document.getElementById(\"1001\");\n  if (element == null) {\n    console.error(\"Bokeh: ERROR: autoload.js configured with elementid '1001' but no matching script tag was found. \")\n    return false;\n  }\n\n  function inject_raw_css(css) {\n    const element = document.createElement(\"style\");\n    element.appendChild(document.createTextNode(css));\n    document.body.appendChild(element);\n  }\n\n  var js_urls = [\"https://cdn.pydata.org/bokeh/release/bokeh-1.2.0.min.js\", \"https://cdn.pydata.org/bokeh/release/bokeh-widgets-1.2.0.min.js\", \"https://cdn.pydata.org/bokeh/release/bokeh-tables-1.2.0.min.js\", \"https://cdn.pydata.org/bokeh/release/bokeh-gl-1.2.0.min.js\"];\n  var css_urls = [\"https://cdn.pydata.org/bokeh/release/bokeh-1.2.0.min.css\", \"https://cdn.pydata.org/bokeh/release/bokeh-widgets-1.2.0.min.css\", \"https://cdn.pydata.org/bokeh/release/bokeh-tables-1.2.0.min.css\"];\n\n  var inline_js = [\n    function(Bokeh) {\n      Bokeh.set_log_level(\"info\");\n    },\n    \n    function(Bokeh) {\n      \n    },\n    function(Bokeh) {} // ensure no trailing comma for IE\n  ];\n\n  function run_inline_js() {\n    \n    if ((root.Bokeh !== undefined) || (force === true)) {\n      for (var i = 0; i < inline_js.length; i++) {\n        inline_js[i].call(root, root.Bokeh);\n      }if (force === true) {\n        display_loaded();\n      }} else if (Date.now() < root._bokeh_timeout) {\n      setTimeout(run_inline_js, 100);\n    } else if (!root._bokeh_failed_load) {\n      console.log(\"Bokeh: BokehJS failed to load within specified timeout.\");\n      root._bokeh_failed_load = true;\n    } else if (force !== true) {\n      var cell = $(document.getElementById(\"1001\")).parents('.cell').data().cell;\n      cell.output_area.append_execute_result(NB_LOAD_WARNING)\n    }\n\n  }\n\n  if (root._bokeh_is_loading === 0) {\n    console.debug(\"Bokeh: BokehJS loaded, going straight to plotting\");\n    run_inline_js();\n  } else {\n    load_libs(css_urls, js_urls, function() {\n      console.debug(\"Bokeh: BokehJS plotting callback run at\", now());\n      run_inline_js();\n    });\n  }\n}(window));"
     },
     "metadata": {},
     "output_type": "display_data"
    }
   ],
   "source": [
    "from bokeh.io import show, output_notebook\n",
    "from bokeh.layouts import gridplot\n",
    "from bokeh.models.scales import LogScale\n",
    "output_notebook()"
   ]
  },
  {
   "cell_type": "code",
   "execution_count": 3,
   "metadata": {},
   "outputs": [],
   "source": [
    "import pandas as pd"
   ]
  },
  {
   "cell_type": "markdown",
   "metadata": {},
   "source": [
    "## Load FarGen data\n",
    "\n",
    "Use LD pruned diallelic sites."
   ]
  },
  {
   "cell_type": "code",
   "execution_count": 4,
   "metadata": {},
   "outputs": [],
   "source": [
    "BASE_DIR = '/home/olavur/experiments/2020-11-13_fargen1_exome_analysis'\n",
    "mt = hl.read_matrix_table(BASE_DIR + '/data/mt/ld_pruned_diallelic_common.mt')"
   ]
  },
  {
   "cell_type": "code",
   "execution_count": 5,
   "metadata": {},
   "outputs": [
    {
     "name": "stdout",
     "output_type": "stream",
     "text": [
      "Number of variants: 134452\n",
      "Number of samples: 474\n"
     ]
    }
   ],
   "source": [
    "n_variants, n_samples = mt.count()\n",
    "print('Number of variants: ' + str(n_variants))\n",
    "print('Number of samples: ' + str(n_samples))"
   ]
  },
  {
   "cell_type": "markdown",
   "metadata": {},
   "source": [
    "### Add population filters\n",
    "\n",
    "Use a HWE filter and a minor allele frequency filter. The LD pruned data is already filtered with MAF > 0.01, but we will use a more stringent filter."
   ]
  },
  {
   "cell_type": "code",
   "execution_count": 6,
   "metadata": {},
   "outputs": [],
   "source": [
    "mt = mt.annotate_rows(hwe=hl.agg.hardy_weinberg_test(mt.GT))\n",
    "mt = mt.filter_rows(mt.hwe.p_value > 1e-6)"
   ]
  },
  {
   "cell_type": "markdown",
   "metadata": {},
   "source": [
    "Calculate allele frequencies."
   ]
  },
  {
   "cell_type": "code",
   "execution_count": 7,
   "metadata": {},
   "outputs": [],
   "source": [
    "# The number of alleles at the site is the sum of the ploidy at each site.\n",
    "# This number should be twice the number of samples.\n",
    "# If there are missing genotype calls, the number of alleles will be less.\n",
    "AN_exprs = hl.agg.sum(mt.GT.ploidy)\n",
    "mt = mt.annotate_rows(AN=AN_exprs)\n",
    "\n",
    "# Calculate the number of alternate alleles at each site.\n",
    "AC_exprs = hl.agg.sum(mt.GT.n_alt_alleles())\n",
    "mt = mt.annotate_rows(AC=AC_exprs)\n",
    "\n",
    "# Calculate the alternate allele frequency.\n",
    "mt = mt.annotate_rows(AF=mt.AC / mt.AN)"
   ]
  },
  {
   "cell_type": "markdown",
   "metadata": {},
   "source": [
    "**TODO:** I can increase the MAF threshold if still a lot of variants remain.\n",
    "\n",
    "Remove variants with minor allele frequency under 0.05."
   ]
  },
  {
   "cell_type": "code",
   "execution_count": 8,
   "metadata": {},
   "outputs": [],
   "source": [
    "maf_filter = 0.05\n",
    "mt = mt.filter_rows((mt.AF > maf_filter) & (mt.AF < (1 - maf_filter)))"
   ]
  },
  {
   "cell_type": "markdown",
   "metadata": {},
   "source": [
    "### Filter indels\n",
    "\n",
    "Remove all indels from the dataset."
   ]
  },
  {
   "cell_type": "code",
   "execution_count": 9,
   "metadata": {},
   "outputs": [],
   "source": [
    "mt = mt.filter_rows(hl.is_snp(mt.alleles[0], mt.alleles[1]))"
   ]
  },
  {
   "cell_type": "markdown",
   "metadata": {},
   "source": [
    "## Annotate birth place region"
   ]
  },
  {
   "cell_type": "code",
   "execution_count": 10,
   "metadata": {},
   "outputs": [
    {
     "name": "stderr",
     "output_type": "stream",
     "text": [
      "2021-05-13 09:35:59 Hail: WARN: Name collision: field 'sample' already in object dict. \n",
      "  This field must be referenced with __getitem__ syntax: obj['sample']\n",
      "2021-05-13 09:35:59 Hail: INFO: Reading table without type imputation\n",
      "  Loading field 'rin' as type str (not specified)\n",
      "  Loading field 'sample' as type str (not specified)\n"
     ]
    }
   ],
   "source": [
    "fargen_rin_ht = hl.import_table(BASE_DIR + '/data/metadata/birthplace/fargen_rin_samplename.csv', delimiter=',')\n",
    "fargen_rin_ht = fargen_rin_ht.key_by(fargen_rin_ht.rin)"
   ]
  },
  {
   "cell_type": "code",
   "execution_count": 11,
   "metadata": {},
   "outputs": [
    {
     "name": "stdout",
     "output_type": "stream",
     "text": [
      "----------------------------------------\n",
      "Global fields:\n",
      "    None\n",
      "----------------------------------------\n",
      "Row fields:\n",
      "    'rin': str \n",
      "    'sample': str \n",
      "----------------------------------------\n",
      "Key: ['rin']\n",
      "----------------------------------------\n"
     ]
    }
   ],
   "source": [
    "fargen_rin_ht.describe()"
   ]
  },
  {
   "cell_type": "code",
   "execution_count": 12,
   "metadata": {},
   "outputs": [
    {
     "name": "stderr",
     "output_type": "stream",
     "text": [
      "2021-05-13 09:36:00 Hail: INFO: Reading table without type imputation\n",
      "  Loading field 'ind' as type str (not specified)\n",
      "  Loading field 'region' as type str (not specified)\n"
     ]
    }
   ],
   "source": [
    "rin_birthplace_ht = hl.import_table(BASE_DIR + '/data/metadata/birthplace/rin_region.csv', delimiter=',')\n",
    "# Rename \"ind\" to \"rin\".\n",
    "# Convert the region variable to float.\n",
    "rin_birthplace_ht = rin_birthplace_ht.transmute(rin=rin_birthplace_ht.ind, birthplace=hl.float64(rin_birthplace_ht.region))\n",
    "\n",
    "rin_birthplace_ht = rin_birthplace_ht.key_by(rin_birthplace_ht.rin)"
   ]
  },
  {
   "cell_type": "code",
   "execution_count": 13,
   "metadata": {},
   "outputs": [
    {
     "name": "stdout",
     "output_type": "stream",
     "text": [
      "----------------------------------------\n",
      "Global fields:\n",
      "    None\n",
      "----------------------------------------\n",
      "Row fields:\n",
      "    'rin': str \n",
      "    'birthplace': float64 \n",
      "----------------------------------------\n",
      "Key: ['rin']\n",
      "----------------------------------------\n"
     ]
    }
   ],
   "source": [
    "rin_birthplace_ht.describe()"
   ]
  },
  {
   "cell_type": "code",
   "execution_count": 14,
   "metadata": {},
   "outputs": [],
   "source": [
    "# Annotate the table with the birthplace by the samplenames.\n",
    "samplename_birthplace_ht = rin_birthplace_ht.annotate(samplename=fargen_rin_ht[rin_birthplace_ht.rin].sample)\n",
    "samplename_birthplace_ht = samplename_birthplace_ht.key_by(samplename_birthplace_ht.samplename)"
   ]
  },
  {
   "cell_type": "code",
   "execution_count": 15,
   "metadata": {},
   "outputs": [
    {
     "name": "stdout",
     "output_type": "stream",
     "text": [
      "----------------------------------------\n",
      "Global fields:\n",
      "    None\n",
      "----------------------------------------\n",
      "Row fields:\n",
      "    'rin': str \n",
      "    'birthplace': float64 \n",
      "    'samplename': str \n",
      "----------------------------------------\n",
      "Key: ['samplename']\n",
      "----------------------------------------\n"
     ]
    }
   ],
   "source": [
    "samplename_birthplace_ht.describe()"
   ]
  },
  {
   "cell_type": "code",
   "execution_count": 16,
   "metadata": {},
   "outputs": [],
   "source": [
    "mt = mt.annotate_cols(birthplace = samplename_birthplace_ht[mt.s].birthplace)"
   ]
  },
  {
   "cell_type": "code",
   "execution_count": 17,
   "metadata": {},
   "outputs": [
    {
     "name": "stderr",
     "output_type": "stream",
     "text": [
      "2021-05-13 09:36:05 Hail: INFO: Ordering unsorted dataset with network shuffle\n",
      "2021-05-13 09:36:05 Hail: INFO: Ordering unsorted dataset with network shuffle\n",
      "2021-05-13 09:36:09 Hail: INFO: Ordering unsorted dataset with network shuffle\n",
      "2021-05-13 09:36:09 Hail: INFO: Ordering unsorted dataset with network shuffle\n"
     ]
    },
    {
     "data": {
      "text/html": [
       "\n",
       "\n",
       "\n",
       "\n",
       "\n",
       "\n",
       "  <div class=\"bk-root\" id=\"26088735-02da-481c-a381-dbe15b7ce651\" data-root-id=\"1002\"></div>\n"
      ]
     },
     "metadata": {},
     "output_type": "display_data"
    },
    {
     "data": {
      "application/javascript": [
       "(function(root) {\n",
       "  function embed_document(root) {\n",
       "    \n",
       "  var docs_json = {\"20869f89-63e4-40d7-8fe7-b92e0c1ed8f4\":{\"roots\":{\"references\":[{\"attributes\":{\"background_fill_color\":{\"value\":\"#EEEEEE\"},\"below\":[{\"id\":\"1012\",\"type\":\"LinearAxis\"}],\"center\":[{\"id\":\"1016\",\"type\":\"Grid\"},{\"id\":\"1021\",\"type\":\"Grid\"}],\"left\":[{\"id\":\"1017\",\"type\":\"LinearAxis\"}],\"renderers\":[{\"id\":\"1038\",\"type\":\"GlyphRenderer\"}],\"title\":null,\"toolbar\":{\"id\":\"1028\",\"type\":\"Toolbar\"},\"x_range\":{\"id\":\"1004\",\"type\":\"Range1d\"},\"x_scale\":{\"id\":\"1008\",\"type\":\"LinearScale\"},\"y_range\":{\"id\":\"1006\",\"type\":\"DataRange1d\"},\"y_scale\":{\"id\":\"1010\",\"type\":\"LinearScale\"}},\"id\":\"1002\",\"subtype\":\"Figure\",\"type\":\"Plot\"},{\"attributes\":{\"axis_label\":\"Frequency\",\"formatter\":{\"id\":\"1044\",\"type\":\"BasicTickFormatter\"},\"ticker\":{\"id\":\"1018\",\"type\":\"BasicTicker\"}},\"id\":\"1017\",\"type\":\"LinearAxis\"},{\"attributes\":{},\"id\":\"1042\",\"type\":\"BasicTickFormatter\"},{\"attributes\":{\"bottom_units\":\"screen\",\"fill_alpha\":{\"value\":0.5},\"fill_color\":{\"value\":\"lightgrey\"},\"left_units\":\"screen\",\"level\":\"overlay\",\"line_alpha\":{\"value\":1.0},\"line_color\":{\"value\":\"black\"},\"line_dash\":[4,4],\"line_width\":{\"value\":2},\"render_mode\":\"css\",\"right_units\":\"screen\",\"top_units\":\"screen\"},\"id\":\"1047\",\"type\":\"BoxAnnotation\"},{\"attributes\":{\"bottom\":{\"value\":0},\"fill_color\":{\"value\":\"#1f77b4\"},\"left\":{\"field\":\"left\"},\"right\":{\"field\":\"right\"},\"top\":{\"field\":\"top\"}},\"id\":\"1036\",\"type\":\"Quad\"},{\"attributes\":{\"callback\":null,\"data\":{\"left\":[1.0,1.1,1.2,1.3,1.4,1.5,1.6,1.7000000000000002,1.8,1.9,2.0,2.1,2.2,2.3,2.4000000000000004,2.5,2.6,2.7,2.8,2.9000000000000004,3.0,3.1,3.2,3.3000000000000003,3.4000000000000004,3.5,3.6,3.7,3.8000000000000003,3.9000000000000004,4.0,4.1,4.2,4.300000000000001,4.4,4.5,4.6,4.7,4.800000000000001,4.9,5.0,5.1000000000000005,5.2,5.3,5.4,5.5,5.6000000000000005,5.7,5.800000000000001,5.9],\"right\":[1.1,1.2,1.3,1.4,1.5,1.6,1.7000000000000002,1.8,1.9,2.0,2.1,2.2,2.3,2.4000000000000004,2.5,2.6,2.7,2.8,2.9000000000000004,3.0,3.1,3.2,3.3000000000000003,3.4000000000000004,3.5,3.6,3.7,3.8000000000000003,3.9000000000000004,4.0,4.1,4.2,4.300000000000001,4.4,4.5,4.6,4.7,4.800000000000001,4.9,5.0,5.1000000000000005,5.2,5.3,5.4,5.5,5.6000000000000005,5.7,5.800000000000001,5.9,6.0],\"top\":[69,0,0,0,0,0,0,0,0,0,101,0,0,0,0,0,0,0,0,0,181,0,0,0,0,0,0,0,0,0,28,0,0,0,0,0,0,0,0,0,17,0,0,0,0,0,0,0,0,34]},\"selected\":{\"id\":\"1046\",\"type\":\"Selection\"},\"selection_policy\":{\"id\":\"1045\",\"type\":\"UnionRenderers\"}},\"id\":\"1035\",\"type\":\"ColumnDataSource\"},{\"attributes\":{\"active_drag\":\"auto\",\"active_inspect\":\"auto\",\"active_multi\":null,\"active_scroll\":\"auto\",\"active_tap\":\"auto\",\"tools\":[{\"id\":\"1022\",\"type\":\"PanTool\"},{\"id\":\"1023\",\"type\":\"WheelZoomTool\"},{\"id\":\"1024\",\"type\":\"BoxZoomTool\"},{\"id\":\"1025\",\"type\":\"SaveTool\"},{\"id\":\"1026\",\"type\":\"ResetTool\"},{\"id\":\"1027\",\"type\":\"HelpTool\"}]},\"id\":\"1028\",\"type\":\"Toolbar\"},{\"attributes\":{},\"id\":\"1046\",\"type\":\"Selection\"},{\"attributes\":{},\"id\":\"1022\",\"type\":\"PanTool\"},{\"attributes\":{},\"id\":\"1008\",\"type\":\"LinearScale\"},{\"attributes\":{},\"id\":\"1044\",\"type\":\"BasicTickFormatter\"},{\"attributes\":{},\"id\":\"1045\",\"type\":\"UnionRenderers\"},{\"attributes\":{},\"id\":\"1023\",\"type\":\"WheelZoomTool\"},{\"attributes\":{\"formatter\":{\"id\":\"1042\",\"type\":\"BasicTickFormatter\"},\"ticker\":{\"id\":\"1013\",\"type\":\"BasicTicker\"}},\"id\":\"1012\",\"type\":\"LinearAxis\"},{\"attributes\":{\"data_source\":{\"id\":\"1035\",\"type\":\"ColumnDataSource\"},\"glyph\":{\"id\":\"1036\",\"type\":\"Quad\"},\"hover_glyph\":null,\"muted_glyph\":null,\"nonselection_glyph\":{\"id\":\"1037\",\"type\":\"Quad\"},\"selection_glyph\":null,\"view\":{\"id\":\"1039\",\"type\":\"CDSView\"}},\"id\":\"1038\",\"type\":\"GlyphRenderer\"},{\"attributes\":{\"overlay\":{\"id\":\"1047\",\"type\":\"BoxAnnotation\"}},\"id\":\"1024\",\"type\":\"BoxZoomTool\"},{\"attributes\":{\"source\":{\"id\":\"1035\",\"type\":\"ColumnDataSource\"}},\"id\":\"1039\",\"type\":\"CDSView\"},{\"attributes\":{},\"id\":\"1026\",\"type\":\"ResetTool\"},{\"attributes\":{},\"id\":\"1027\",\"type\":\"HelpTool\"},{\"attributes\":{},\"id\":\"1010\",\"type\":\"LinearScale\"},{\"attributes\":{},\"id\":\"1025\",\"type\":\"SaveTool\"},{\"attributes\":{},\"id\":\"1018\",\"type\":\"BasicTicker\"},{\"attributes\":{\"bottom\":{\"value\":0},\"fill_alpha\":{\"value\":0.1},\"fill_color\":{\"value\":\"#1f77b4\"},\"left\":{\"field\":\"left\"},\"line_alpha\":{\"value\":0.1},\"line_color\":{\"value\":\"#1f77b4\"},\"right\":{\"field\":\"right\"},\"top\":{\"field\":\"top\"}},\"id\":\"1037\",\"type\":\"Quad\"},{\"attributes\":{\"callback\":null,\"end\":6.25,\"start\":0.75},\"id\":\"1004\",\"type\":\"Range1d\"},{\"attributes\":{},\"id\":\"1013\",\"type\":\"BasicTicker\"},{\"attributes\":{\"dimension\":1,\"ticker\":{\"id\":\"1018\",\"type\":\"BasicTicker\"}},\"id\":\"1021\",\"type\":\"Grid\"},{\"attributes\":{\"callback\":null},\"id\":\"1006\",\"type\":\"DataRange1d\"},{\"attributes\":{\"ticker\":{\"id\":\"1013\",\"type\":\"BasicTicker\"}},\"id\":\"1016\",\"type\":\"Grid\"}],\"root_ids\":[\"1002\"]},\"title\":\"Bokeh Application\",\"version\":\"1.2.0\"}};\n",
       "  var render_items = [{\"docid\":\"20869f89-63e4-40d7-8fe7-b92e0c1ed8f4\",\"roots\":{\"1002\":\"26088735-02da-481c-a381-dbe15b7ce651\"}}];\n",
       "  root.Bokeh.embed.embed_items_notebook(docs_json, render_items);\n",
       "\n",
       "  }\n",
       "  if (root.Bokeh !== undefined) {\n",
       "    embed_document(root);\n",
       "  } else {\n",
       "    var attempts = 0;\n",
       "    var timer = setInterval(function(root) {\n",
       "      if (root.Bokeh !== undefined) {\n",
       "        embed_document(root);\n",
       "        clearInterval(timer);\n",
       "      }\n",
       "      attempts++;\n",
       "      if (attempts > 100) {\n",
       "        console.log(\"Bokeh: ERROR: Unable to run BokehJS code because BokehJS library is missing\");\n",
       "        clearInterval(timer);\n",
       "      }\n",
       "    }, 10, root)\n",
       "  }\n",
       "})(window);"
      ],
      "application/vnd.bokehjs_exec.v0+json": ""
     },
     "metadata": {
      "application/vnd.bokehjs_exec.v0+json": {
       "id": "1002"
      }
     },
     "output_type": "display_data"
    }
   ],
   "source": [
    "p = hl.plot.histogram(mt.birthplace)\n",
    "show(p)"
   ]
  },
  {
   "cell_type": "markdown",
   "metadata": {},
   "source": [
    "## Filter related individuals\n",
    "\n",
    "Estimate the relatedness between the samples by the PC-Relate method, with a minimum alternate allele frequency of 0.001."
   ]
  },
  {
   "cell_type": "code",
   "execution_count": 18,
   "metadata": {},
   "outputs": [
    {
     "name": "stderr",
     "output_type": "stream",
     "text": [
      "2021-05-13 09:36:16 Hail: INFO: hwe_normalized_pca: running PCA using 39986 variants.\n",
      "2021-05-13 09:36:19 Hail: INFO: pca: running PCA with 2 components...\n",
      "2021-05-13 09:36:47 Hail: INFO: Wrote all 10 blocks of 39986 x 474 matrix with block size 4096.\n"
     ]
    }
   ],
   "source": [
    "pc_rel = hl.pc_relate(mt.GT, 0.001, k=2, statistics='kin')"
   ]
  },
  {
   "cell_type": "markdown",
   "metadata": {},
   "source": [
    "Plot all the relatedness coefficients in a histogram to get an overview."
   ]
  },
  {
   "cell_type": "code",
   "execution_count": 19,
   "metadata": {},
   "outputs": [
    {
     "name": "stderr",
     "output_type": "stream",
     "text": [
      "2021-05-13 09:36:49 Hail: INFO: wrote matrix with 3 rows and 39986 columns as 10 blocks of size 4096 to /home/olavur/tmp/pcrelate-write-read-9HMFM0WvbQsV3OpG5AW0pN.bm\n",
      "2021-05-13 09:36:49 Hail: INFO: wrote matrix with 39986 rows and 474 columns as 10 blocks of size 4096 to /home/olavur/tmp/pcrelate-write-read-aB2jPKUTO2WKhyXeCfcQIz.bm\n",
      "2021-05-13 09:37:03 Hail: INFO: wrote matrix with 474 rows and 474 columns as 1 block of size 4096 to /home/olavur/tmp/pcrelate-write-read-BxxdtozjJ64yNOmBai7mQg.bm\n",
      "2021-05-13 09:37:17 Hail: INFO: wrote matrix with 474 rows and 474 columns as 1 block of size 4096 to /home/olavur/tmp/pcrelate-write-read-PgXRlFPj00xpVsbA4Seobx.bm\n",
      "2021-05-13 09:37:18 Hail: INFO: wrote matrix with 474 rows and 474 columns as 1 block of size 4096 to /home/olavur/tmp/pcrelate-write-read-6pw04vU6BxHkP4LMAozMaU.bm\n",
      "2021-05-13 09:37:18 Hail: INFO: Ordering unsorted dataset with network shuffle\n",
      "2021-05-13 09:37:19 Hail: INFO: wrote matrix with 3 rows and 39986 columns as 10 blocks of size 4096 to /home/olavur/tmp/pcrelate-write-read-qHYLuTWe8uOKnXGt8dPVmO.bm\n",
      "2021-05-13 09:37:19 Hail: INFO: wrote matrix with 39986 rows and 474 columns as 10 blocks of size 4096 to /home/olavur/tmp/pcrelate-write-read-1XJ4RhTqjoMgSarFaYOyfI.bm\n",
      "2021-05-13 09:37:33 Hail: INFO: wrote matrix with 474 rows and 474 columns as 1 block of size 4096 to /home/olavur/tmp/pcrelate-write-read-W5wATxBvhjzuQFp5Y5CEWU.bm\n",
      "2021-05-13 09:37:48 Hail: INFO: wrote matrix with 474 rows and 474 columns as 1 block of size 4096 to /home/olavur/tmp/pcrelate-write-read-wh919yZnXJrfGNmlOS5P4J.bm\n",
      "2021-05-13 09:37:48 Hail: INFO: wrote matrix with 474 rows and 474 columns as 1 block of size 4096 to /home/olavur/tmp/pcrelate-write-read-shm9sJCMBiLi0kgwGFKd5F.bm\n",
      "2021-05-13 09:37:48 Hail: INFO: Ordering unsorted dataset with network shuffle\n"
     ]
    },
    {
     "data": {
      "text/html": [
       "\n",
       "\n",
       "\n",
       "\n",
       "\n",
       "\n",
       "  <div class=\"bk-root\" id=\"66221c48-15b8-436d-a682-71c23afb6c0c\" data-root-id=\"1096\"></div>\n"
      ]
     },
     "metadata": {},
     "output_type": "display_data"
    },
    {
     "data": {
      "application/javascript": [
       "(function(root) {\n",
       "  function embed_document(root) {\n",
       "    \n",
       "  var docs_json = {\"fa1bc509-9315-4755-965e-47efc151185a\":{\"roots\":{\"references\":[{\"attributes\":{\"background_fill_color\":{\"value\":\"#EEEEEE\"},\"below\":[{\"id\":\"1107\",\"type\":\"LinearAxis\"}],\"center\":[{\"id\":\"1111\",\"type\":\"Grid\"},{\"id\":\"1116\",\"type\":\"Grid\"}],\"left\":[{\"id\":\"1112\",\"type\":\"LinearAxis\"}],\"renderers\":[{\"id\":\"1133\",\"type\":\"GlyphRenderer\"}],\"title\":{\"id\":\"1097\",\"type\":\"Title\"},\"toolbar\":{\"id\":\"1123\",\"type\":\"Toolbar\"},\"x_range\":{\"id\":\"1099\",\"type\":\"Range1d\"},\"x_scale\":{\"id\":\"1103\",\"type\":\"LinearScale\"},\"y_range\":{\"id\":\"1101\",\"type\":\"DataRange1d\"},\"y_scale\":{\"id\":\"1105\",\"type\":\"LinearScale\"}},\"id\":\"1096\",\"subtype\":\"Figure\",\"type\":\"Plot\"},{\"attributes\":{\"source\":{\"id\":\"1130\",\"type\":\"ColumnDataSource\"}},\"id\":\"1134\",\"type\":\"CDSView\"},{\"attributes\":{\"data_source\":{\"id\":\"1130\",\"type\":\"ColumnDataSource\"},\"glyph\":{\"id\":\"1131\",\"type\":\"Quad\"},\"hover_glyph\":null,\"muted_glyph\":null,\"nonselection_glyph\":{\"id\":\"1132\",\"type\":\"Quad\"},\"selection_glyph\":null,\"view\":{\"id\":\"1134\",\"type\":\"CDSView\"}},\"id\":\"1133\",\"type\":\"GlyphRenderer\"},{\"attributes\":{},\"id\":\"1147\",\"type\":\"BasicTickFormatter\"},{\"attributes\":{\"callback\":null,\"end\":0.49326906975267265,\"start\":-0.1365868153262139},\"id\":\"1099\",\"type\":\"Range1d\"},{\"attributes\":{\"bottom\":{\"value\":0},\"fill_alpha\":{\"value\":0.1},\"fill_color\":{\"value\":\"#1f77b4\"},\"left\":{\"field\":\"left\"},\"line_alpha\":{\"value\":0.1},\"line_color\":{\"value\":\"#1f77b4\"},\"right\":{\"field\":\"right\"},\"top\":{\"field\":\"top\"}},\"id\":\"1132\",\"type\":\"Quad\"},{\"attributes\":{\"axis_label\":\"Frequency\",\"formatter\":{\"id\":\"1147\",\"type\":\"BasicTickFormatter\"},\"ticker\":{\"id\":\"1113\",\"type\":\"BasicTicker\"}},\"id\":\"1112\",\"type\":\"LinearAxis\"},{\"attributes\":{},\"id\":\"1145\",\"type\":\"BasicTickFormatter\"},{\"attributes\":{},\"id\":\"1113\",\"type\":\"BasicTicker\"},{\"attributes\":{\"overlay\":{\"id\":\"1150\",\"type\":\"BoxAnnotation\"}},\"id\":\"1119\",\"type\":\"BoxZoomTool\"},{\"attributes\":{},\"id\":\"1120\",\"type\":\"SaveTool\"},{\"attributes\":{},\"id\":\"1118\",\"type\":\"WheelZoomTool\"},{\"attributes\":{\"bottom_units\":\"screen\",\"fill_alpha\":{\"value\":0.5},\"fill_color\":{\"value\":\"lightgrey\"},\"left_units\":\"screen\",\"level\":\"overlay\",\"line_alpha\":{\"value\":1.0},\"line_color\":{\"value\":\"black\"},\"line_dash\":[4,4],\"line_width\":{\"value\":2},\"render_mode\":\"css\",\"right_units\":\"screen\",\"top_units\":\"screen\"},\"id\":\"1150\",\"type\":\"BoxAnnotation\"},{\"attributes\":{\"callback\":null,\"data\":{\"left\":[-0.10795700236808269,-0.0965050771848302,-0.08505315200157772,-0.07360122681832523,-0.062149301635072755,-0.05069737645182027,-0.039245451268567794,-0.02779352608531531,-0.016341600902062825,-0.004889675718810341,0.006562249464442144,0.018014174647694628,0.0294660998309471,0.0409180250141996,0.05236995019745207,0.06382187538070457,0.07527380056395704,0.0867257257472095,0.098177650930462,0.10962957611371447,0.12108150129696697,0.13253342648021943,0.14398535166347193,0.15543727684672443,0.16688920202997687,0.17834112721322937,0.18979305239648186,0.2012449775797343,0.2126969027629868,0.2241488279462393,0.2356007531294918,0.24705267831274424,0.25850460349599674,0.26995652867924924,0.2814084538625017,0.2928603790457542,0.3043123042290067,0.3157642294122592,0.3272161545955116,0.3386680797787641,0.3501200049620166,0.36157193014526906,0.37302385532852156,0.38447578051177406,0.39592770569502655,0.407379630878279,0.41883155606153155,0.430283481244784,0.44173540642803644,0.453187331611289],\"right\":[-0.0965050771848302,-0.08505315200157772,-0.07360122681832523,-0.062149301635072755,-0.05069737645182027,-0.039245451268567794,-0.02779352608531531,-0.016341600902062825,-0.004889675718810341,0.006562249464442144,0.018014174647694628,0.0294660998309471,0.0409180250141996,0.05236995019745207,0.06382187538070457,0.07527380056395704,0.0867257257472095,0.098177650930462,0.10962957611371447,0.12108150129696697,0.13253342648021943,0.14398535166347193,0.15543727684672443,0.16688920202997687,0.17834112721322937,0.18979305239648186,0.2012449775797343,0.2126969027629868,0.2241488279462393,0.2356007531294918,0.24705267831274424,0.25850460349599674,0.26995652867924924,0.2814084538625017,0.2928603790457542,0.3043123042290067,0.3157642294122592,0.3272161545955116,0.3386680797787641,0.3501200049620166,0.36157193014526906,0.37302385532852156,0.38447578051177406,0.39592770569502655,0.407379630878279,0.41883155606153155,0.430283481244784,0.44173540642803644,0.453187331611289,0.46463925679454143],\"top\":[1,1,0,0,0,1,8,171,24863,80757,5738,294,80,35,41,12,6,4,9,5,6,4,0,1,1,1,4,5,18,25,5,2,1,0,0,0,0,0,0,0,1,0,0,0,0,0,0,0,0,1]},\"selected\":{\"id\":\"1149\",\"type\":\"Selection\"},\"selection_policy\":{\"id\":\"1148\",\"type\":\"UnionRenderers\"}},\"id\":\"1130\",\"type\":\"ColumnDataSource\"},{\"attributes\":{},\"id\":\"1117\",\"type\":\"PanTool\"},{\"attributes\":{},\"id\":\"1105\",\"type\":\"LinearScale\"},{\"attributes\":{},\"id\":\"1148\",\"type\":\"UnionRenderers\"},{\"attributes\":{},\"id\":\"1103\",\"type\":\"LinearScale\"},{\"attributes\":{},\"id\":\"1122\",\"type\":\"HelpTool\"},{\"attributes\":{},\"id\":\"1149\",\"type\":\"Selection\"},{\"attributes\":{},\"id\":\"1108\",\"type\":\"BasicTicker\"},{\"attributes\":{},\"id\":\"1121\",\"type\":\"ResetTool\"},{\"attributes\":{\"text\":\"Histogram of kinship coefficient\"},\"id\":\"1097\",\"type\":\"Title\"},{\"attributes\":{\"active_drag\":\"auto\",\"active_inspect\":\"auto\",\"active_multi\":null,\"active_scroll\":\"auto\",\"active_tap\":\"auto\",\"tools\":[{\"id\":\"1117\",\"type\":\"PanTool\"},{\"id\":\"1118\",\"type\":\"WheelZoomTool\"},{\"id\":\"1119\",\"type\":\"BoxZoomTool\"},{\"id\":\"1120\",\"type\":\"SaveTool\"},{\"id\":\"1121\",\"type\":\"ResetTool\"},{\"id\":\"1122\",\"type\":\"HelpTool\"}]},\"id\":\"1123\",\"type\":\"Toolbar\"},{\"attributes\":{\"ticker\":{\"id\":\"1108\",\"type\":\"BasicTicker\"}},\"id\":\"1111\",\"type\":\"Grid\"},{\"attributes\":{\"callback\":null},\"id\":\"1101\",\"type\":\"DataRange1d\"},{\"attributes\":{\"formatter\":{\"id\":\"1145\",\"type\":\"BasicTickFormatter\"},\"ticker\":{\"id\":\"1108\",\"type\":\"BasicTicker\"}},\"id\":\"1107\",\"type\":\"LinearAxis\"},{\"attributes\":{\"dimension\":1,\"ticker\":{\"id\":\"1113\",\"type\":\"BasicTicker\"}},\"id\":\"1116\",\"type\":\"Grid\"},{\"attributes\":{\"bottom\":{\"value\":0},\"fill_color\":{\"value\":\"#1f77b4\"},\"left\":{\"field\":\"left\"},\"right\":{\"field\":\"right\"},\"top\":{\"field\":\"top\"}},\"id\":\"1131\",\"type\":\"Quad\"}],\"root_ids\":[\"1096\"]},\"title\":\"Bokeh Application\",\"version\":\"1.2.0\"}};\n",
       "  var render_items = [{\"docid\":\"fa1bc509-9315-4755-965e-47efc151185a\",\"roots\":{\"1096\":\"66221c48-15b8-436d-a682-71c23afb6c0c\"}}];\n",
       "  root.Bokeh.embed.embed_items_notebook(docs_json, render_items);\n",
       "\n",
       "  }\n",
       "  if (root.Bokeh !== undefined) {\n",
       "    embed_document(root);\n",
       "  } else {\n",
       "    var attempts = 0;\n",
       "    var timer = setInterval(function(root) {\n",
       "      if (root.Bokeh !== undefined) {\n",
       "        embed_document(root);\n",
       "        clearInterval(timer);\n",
       "      }\n",
       "      attempts++;\n",
       "      if (attempts > 100) {\n",
       "        console.log(\"Bokeh: ERROR: Unable to run BokehJS code because BokehJS library is missing\");\n",
       "        clearInterval(timer);\n",
       "      }\n",
       "    }, 10, root)\n",
       "  }\n",
       "})(window);"
      ],
      "application/vnd.bokehjs_exec.v0+json": ""
     },
     "metadata": {
      "application/vnd.bokehjs_exec.v0+json": {
       "id": "1096"
      }
     },
     "output_type": "display_data"
    }
   ],
   "source": [
    "p = hl.plot.histogram(pc_rel.kin, title='Histogram of kinship coefficient')\n",
    "show(p)"
   ]
  },
  {
   "cell_type": "code",
   "execution_count": 20,
   "metadata": {},
   "outputs": [],
   "source": [
    "pairs = pc_rel.filter(pc_rel['kin'] > 2**(-3))"
   ]
  },
  {
   "cell_type": "markdown",
   "metadata": {},
   "source": [
    "Then we find the maximal independent set, consistent of the samples to remove."
   ]
  },
  {
   "cell_type": "code",
   "execution_count": 21,
   "metadata": {},
   "outputs": [
    {
     "name": "stderr",
     "output_type": "stream",
     "text": [
      "2021-05-13 09:37:51 Hail: INFO: wrote matrix with 3 rows and 39986 columns as 10 blocks of size 4096 to /home/olavur/tmp/pcrelate-write-read-odhpcmgDvcXfisINv8c1Sf.bm\n",
      "2021-05-13 09:37:51 Hail: INFO: wrote matrix with 39986 rows and 474 columns as 10 blocks of size 4096 to /home/olavur/tmp/pcrelate-write-read-eas2vCLzhhHGbOSbiH0iIo.bm\n",
      "2021-05-13 09:38:05 Hail: INFO: wrote matrix with 474 rows and 474 columns as 1 block of size 4096 to /home/olavur/tmp/pcrelate-write-read-0Vj8Pr5coHDH4JBg09Y45q.bm\n",
      "2021-05-13 09:38:21 Hail: INFO: wrote matrix with 474 rows and 474 columns as 1 block of size 4096 to /home/olavur/tmp/pcrelate-write-read-NoTLi7G4fWVwE7yIh6WYhL.bm\n",
      "2021-05-13 09:38:21 Hail: INFO: wrote matrix with 474 rows and 474 columns as 1 block of size 4096 to /home/olavur/tmp/pcrelate-write-read-7tUDx9a1KPhP6FaZ4elgZd.bm\n",
      "2021-05-13 09:38:21 Hail: INFO: Ordering unsorted dataset with network shuffle\n",
      "2021-05-13 09:38:22 Hail: INFO: wrote table with 72 rows in 1 partition to /home/olavur/tmp/wGvBWxZDs3JfnWr16K0Scf\n",
      "    Total size: 772.00 B\n",
      "    * Rows: 761.00 B\n",
      "    * Globals: 11.00 B\n",
      "    * Smallest partition: 72 rows (761.00 B)\n",
      "    * Largest partition:  72 rows (761.00 B)\n"
     ]
    }
   ],
   "source": [
    "related_samples_to_remove = hl.maximal_independent_set(pairs.i, pairs.j, keep=False)"
   ]
  },
  {
   "cell_type": "markdown",
   "metadata": {},
   "source": [
    "Now we filter these individuals from the matrix table."
   ]
  },
  {
   "cell_type": "code",
   "execution_count": 22,
   "metadata": {},
   "outputs": [
    {
     "name": "stderr",
     "output_type": "stream",
     "text": [
      "2021-05-13 09:38:22 Hail: WARN: cols(): Resulting column table is sorted by 'col_key'.\n",
      "    To preserve matrix table column order, first unkey columns with 'key_cols_by()'\n"
     ]
    }
   ],
   "source": [
    "pruned_mt = mt.filter_cols(hl.is_defined(related_samples_to_remove[mt.col_key]), keep=False)"
   ]
  },
  {
   "cell_type": "code",
   "execution_count": 23,
   "metadata": {},
   "outputs": [
    {
     "name": "stderr",
     "output_type": "stream",
     "text": [
      "2021-05-13 09:38:23 Hail: INFO: Coerced sorted dataset\n",
      "2021-05-13 09:38:23 Hail: INFO: Ordering unsorted dataset with network shuffle\n"
     ]
    },
    {
     "name": "stdout",
     "output_type": "stream",
     "text": [
      "Samples before prune: 474\n",
      "Sample after prune: 416\n"
     ]
    }
   ],
   "source": [
    "samples_before_prune = mt.count_cols()\n",
    "samples_after_prune = pruned_mt.count_cols()\n",
    "print('Samples before prune: {n}\\nSample after prune: {m}'.format(n=samples_before_prune, m=samples_after_prune))"
   ]
  },
  {
   "cell_type": "markdown",
   "metadata": {},
   "source": [
    "## Compute PCA"
   ]
  },
  {
   "cell_type": "code",
   "execution_count": 24,
   "metadata": {},
   "outputs": [
    {
     "name": "stderr",
     "output_type": "stream",
     "text": [
      "2021-05-13 09:38:24 Hail: INFO: Coerced sorted dataset\n",
      "2021-05-13 09:38:24 Hail: INFO: Ordering unsorted dataset with network shuffle\n",
      "2021-05-13 09:38:27 Hail: INFO: hwe_normalized_pca: running PCA using 39986 variants.\n",
      "2021-05-13 09:38:27 Hail: INFO: Coerced sorted dataset\n",
      "2021-05-13 09:38:27 Hail: INFO: Ordering unsorted dataset with network shuffle\n",
      "2021-05-13 09:38:29 Hail: INFO: pca: running PCA with 2 components...\n"
     ]
    }
   ],
   "source": [
    "eigenvalues, scores, loadings = hl.hwe_normalized_pca(pruned_mt.GT, k=2)"
   ]
  },
  {
   "cell_type": "code",
   "execution_count": 25,
   "metadata": {},
   "outputs": [],
   "source": [
    "pruned_mt = pruned_mt.annotate_cols(scores = scores[pruned_mt.s].scores)"
   ]
  },
  {
   "cell_type": "code",
   "execution_count": 26,
   "metadata": {},
   "outputs": [
    {
     "name": "stderr",
     "output_type": "stream",
     "text": [
      "2021-05-13 09:38:37 Hail: INFO: Ordering unsorted dataset with network shuffle\n",
      "2021-05-13 09:38:37 Hail: INFO: Ordering unsorted dataset with network shuffle\n",
      "2021-05-13 09:38:38 Hail: INFO: Coerced sorted dataset\n",
      "2021-05-13 09:38:38 Hail: INFO: Ordering unsorted dataset with network shuffle\n"
     ]
    },
    {
     "data": {
      "text/html": [
       "\n",
       "\n",
       "\n",
       "\n",
       "\n",
       "\n",
       "  <div class=\"bk-root\" id=\"c90427e4-5c45-4ff3-84ee-ab7c04984dd9\" data-root-id=\"1199\"></div>\n"
      ]
     },
     "metadata": {},
     "output_type": "display_data"
    },
    {
     "data": {
      "application/javascript": [
       "(function(root) {\n",
       "  function embed_document(root) {\n",
       "    \n",
       "  var docs_json = {\"d31cca97-545f-41a0-acf9-5c5874fbd524\":{\"roots\":{\"references\":[{\"attributes\":{\"below\":[{\"id\":\"1210\",\"type\":\"LinearAxis\"}],\"center\":[{\"id\":\"1214\",\"type\":\"Grid\"},{\"id\":\"1219\",\"type\":\"Grid\"}],\"left\":[{\"id\":\"1215\",\"type\":\"LinearAxis\"},{\"id\":\"1286\",\"type\":\"Legend\"},{\"id\":\"1287\",\"type\":\"ColorBar\"}],\"plot_height\":600,\"plot_width\":800,\"renderers\":[{\"id\":\"1242\",\"type\":\"GlyphRenderer\"},{\"id\":\"1248\",\"type\":\"GlyphRenderer\"},{\"id\":\"1254\",\"type\":\"GlyphRenderer\"},{\"id\":\"1260\",\"type\":\"GlyphRenderer\"},{\"id\":\"1266\",\"type\":\"GlyphRenderer\"},{\"id\":\"1272\",\"type\":\"GlyphRenderer\"},{\"id\":\"1278\",\"type\":\"GlyphRenderer\"}],\"title\":{\"id\":\"1200\",\"type\":\"Title\"},\"toolbar\":{\"id\":\"1226\",\"type\":\"Toolbar\"},\"x_range\":{\"id\":\"1202\",\"type\":\"DataRange1d\"},\"x_scale\":{\"id\":\"1206\",\"type\":\"LinearScale\"},\"y_range\":{\"id\":\"1204\",\"type\":\"DataRange1d\"},\"y_scale\":{\"id\":\"1208\",\"type\":\"LinearScale\"}},\"id\":\"1199\",\"subtype\":\"Figure\",\"type\":\"Plot\"},{\"attributes\":{\"callback\":null},\"id\":\"1204\",\"type\":\"DataRange1d\"},{\"attributes\":{},\"id\":\"1309\",\"type\":\"BasicTicker\"},{\"attributes\":{\"column_name\":\"label\",\"group\":\"4.00000e+00\"},\"id\":\"1255\",\"type\":\"GroupFilter\"},{\"attributes\":{\"filters\":[{\"id\":\"1255\",\"type\":\"GroupFilter\"}],\"source\":{\"id\":\"1235\",\"type\":\"ColumnDataSource\"}},\"id\":\"1256\",\"type\":\"CDSView\"},{\"attributes\":{\"overlay\":{\"id\":\"1313\",\"type\":\"BoxAnnotation\"}},\"id\":\"1222\",\"type\":\"BoxZoomTool\"},{\"attributes\":{\"data_source\":{\"id\":\"1235\",\"type\":\"ColumnDataSource\"},\"glyph\":{\"id\":\"1276\",\"type\":\"Circle\"},\"hover_glyph\":null,\"muted_glyph\":null,\"nonselection_glyph\":{\"id\":\"1277\",\"type\":\"Circle\"},\"selection_glyph\":null,\"view\":{\"id\":\"1274\",\"type\":\"CDSView\"}},\"id\":\"1278\",\"type\":\"GlyphRenderer\"},{\"attributes\":{\"label\":{\"value\":\"3.00000e+00\"},\"renderers\":[{\"id\":\"1254\",\"type\":\"GlyphRenderer\"}]},\"id\":\"1281\",\"type\":\"LegendItem\"},{\"attributes\":{},\"id\":\"1311\",\"type\":\"UnionRenderers\"},{\"attributes\":{\"axis_label\":\"PC2\",\"formatter\":{\"id\":\"1308\",\"type\":\"BasicTickFormatter\"},\"ticker\":{\"id\":\"1216\",\"type\":\"BasicTicker\"}},\"id\":\"1215\",\"type\":\"LinearAxis\"},{\"attributes\":{\"fill_color\":{\"field\":\"label\",\"transform\":{\"id\":\"1236\",\"type\":\"CategoricalColorMapper\"}},\"line_color\":{\"field\":\"label\",\"transform\":{\"id\":\"1236\",\"type\":\"CategoricalColorMapper\"}},\"x\":{\"field\":\"x\"},\"y\":{\"field\":\"y\"}},\"id\":\"1258\",\"type\":\"Circle\"},{\"attributes\":{\"fill_alpha\":{\"value\":0.1},\"fill_color\":{\"value\":\"#1f77b4\"},\"line_alpha\":{\"value\":0.1},\"line_color\":{\"value\":\"#1f77b4\"},\"x\":{\"field\":\"x\"},\"y\":{\"field\":\"y\"}},\"id\":\"1277\",\"type\":\"Circle\"},{\"attributes\":{},\"id\":\"1312\",\"type\":\"Selection\"},{\"attributes\":{\"active_drag\":\"auto\",\"active_inspect\":\"auto\",\"active_multi\":null,\"active_scroll\":\"auto\",\"active_tap\":\"auto\",\"tools\":[{\"id\":\"1220\",\"type\":\"PanTool\"},{\"id\":\"1221\",\"type\":\"WheelZoomTool\"},{\"id\":\"1222\",\"type\":\"BoxZoomTool\"},{\"id\":\"1223\",\"type\":\"SaveTool\"},{\"id\":\"1224\",\"type\":\"ResetTool\"},{\"id\":\"1225\",\"type\":\"HelpTool\"},{\"id\":\"1234\",\"type\":\"HoverTool\"}]},\"id\":\"1226\",\"type\":\"Toolbar\"},{\"attributes\":{\"fill_alpha\":{\"value\":0.1},\"fill_color\":{\"value\":\"#1f77b4\"},\"line_alpha\":{\"value\":0.1},\"line_color\":{\"value\":\"#1f77b4\"},\"x\":{\"field\":\"x\"},\"y\":{\"field\":\"y\"}},\"id\":\"1265\",\"type\":\"Circle\"},{\"attributes\":{},\"id\":\"1308\",\"type\":\"BasicTickFormatter\"},{\"attributes\":{\"fill_color\":{\"field\":\"label\",\"transform\":{\"id\":\"1236\",\"type\":\"CategoricalColorMapper\"}},\"line_color\":{\"field\":\"label\",\"transform\":{\"id\":\"1236\",\"type\":\"CategoricalColorMapper\"}},\"x\":{\"field\":\"x\"},\"y\":{\"field\":\"y\"}},\"id\":\"1276\",\"type\":\"Circle\"},{\"attributes\":{\"label\":{\"value\":\"5.00000e+00\"},\"renderers\":[{\"id\":\"1266\",\"type\":\"GlyphRenderer\"}]},\"id\":\"1283\",\"type\":\"LegendItem\"},{\"attributes\":{\"data_source\":{\"id\":\"1235\",\"type\":\"ColumnDataSource\"},\"glyph\":{\"id\":\"1252\",\"type\":\"Circle\"},\"hover_glyph\":null,\"muted_glyph\":null,\"nonselection_glyph\":{\"id\":\"1253\",\"type\":\"Circle\"},\"selection_glyph\":null,\"view\":{\"id\":\"1250\",\"type\":\"CDSView\"}},\"id\":\"1254\",\"type\":\"GlyphRenderer\"},{\"attributes\":{\"data_source\":{\"id\":\"1235\",\"type\":\"ColumnDataSource\"},\"glyph\":{\"id\":\"1246\",\"type\":\"Circle\"},\"hover_glyph\":null,\"muted_glyph\":null,\"nonselection_glyph\":{\"id\":\"1247\",\"type\":\"Circle\"},\"selection_glyph\":null,\"view\":{\"id\":\"1244\",\"type\":\"CDSView\"}},\"id\":\"1248\",\"type\":\"GlyphRenderer\"},{\"attributes\":{\"data_source\":{\"id\":\"1235\",\"type\":\"ColumnDataSource\"},\"glyph\":{\"id\":\"1264\",\"type\":\"Circle\"},\"hover_glyph\":null,\"muted_glyph\":null,\"nonselection_glyph\":{\"id\":\"1265\",\"type\":\"Circle\"},\"selection_glyph\":null,\"view\":{\"id\":\"1262\",\"type\":\"CDSView\"}},\"id\":\"1266\",\"type\":\"GlyphRenderer\"},{\"attributes\":{\"color_mapper\":null,\"formatter\":{\"id\":\"1310\",\"type\":\"BasicTickFormatter\"},\"ticker\":{\"id\":\"1309\",\"type\":\"BasicTicker\"},\"visible\":false},\"id\":\"1287\",\"type\":\"ColorBar\"},{\"attributes\":{},\"id\":\"1224\",\"type\":\"ResetTool\"},{\"attributes\":{\"label\":{\"value\":\"NA\"},\"renderers\":[{\"id\":\"1278\",\"type\":\"GlyphRenderer\"}]},\"id\":\"1285\",\"type\":\"LegendItem\"},{\"attributes\":{\"factors\":[\"6.00000e+00\",\"2.00000e+00\",\"5.00000e+00\",\"1.00000e+00\",\"3.00000e+00\",\"NA\",\"4.00000e+00\"],\"palette\":[\"#1f77b4\",\"#ff7f0e\",\"#2ca02c\",\"#d62728\",\"#9467bd\",\"#8c564b\",\"#e377c2\",\"#7f7f7f\",\"#bcbd22\",\"#17becf\"]},\"id\":\"1236\",\"type\":\"CategoricalColorMapper\"},{\"attributes\":{\"column_name\":\"label\",\"group\":\"2.00000e+00\"},\"id\":\"1243\",\"type\":\"GroupFilter\"},{\"attributes\":{\"fill_color\":{\"field\":\"label\",\"transform\":{\"id\":\"1236\",\"type\":\"CategoricalColorMapper\"}},\"line_color\":{\"field\":\"label\",\"transform\":{\"id\":\"1236\",\"type\":\"CategoricalColorMapper\"}},\"x\":{\"field\":\"x\"},\"y\":{\"field\":\"y\"}},\"id\":\"1270\",\"type\":\"Circle\"},{\"attributes\":{\"filters\":[{\"id\":\"1243\",\"type\":\"GroupFilter\"}],\"source\":{\"id\":\"1235\",\"type\":\"ColumnDataSource\"}},\"id\":\"1244\",\"type\":\"CDSView\"},{\"attributes\":{\"filters\":[{\"id\":\"1261\",\"type\":\"GroupFilter\"}],\"source\":{\"id\":\"1235\",\"type\":\"ColumnDataSource\"}},\"id\":\"1262\",\"type\":\"CDSView\"},{\"attributes\":{},\"id\":\"1216\",\"type\":\"BasicTicker\"},{\"attributes\":{\"ticker\":{\"id\":\"1211\",\"type\":\"BasicTicker\"}},\"id\":\"1214\",\"type\":\"Grid\"},{\"attributes\":{\"callback\":null,\"data\":{\"index\":[0,1,2,3,4,5,6,7,8,9,10,11,12,13,14,15,16,17,18,19,20,21,22,23,24,25,26,27,28,29,30,31,32,33,34,35,36,37,38,39,40,41,42,43,44,45,46,47,48,49,50,51,52,53,54,55,56,57,58,59,60,61,62,63,64,65,66,67,68,69,70,71,72,73,74,75,76,77,78,79,80,81,82,83,84,85,86,87,88,89,90,91,92,93,94,95,96,97,98,99,100,101,102,103,104,105,106,107,108,109,110,111,112,113,114,115,116,117,118,119,120,121,122,123,124,125,126,127,128,129,130,131,132,133,134,135,136,137,138,139,140,141,142,143,144,145,146,147,148,149,150,151,152,153,154,155,156,157,158,159,160,161,162,163,164,165,166,167,168,169,170,171,172,173,174,175,176,177,178,179,180,181,182,183,184,185,186,187,188,189,190,191,192,193,194,195,196,197,198,199,200,201,202,203,204,205,206,207,208,209,210,211,212,213,214,215,216,217,218,219,220,221,222,223,224,225,226,227,228,229,230,231,232,233,234,235,236,237,238,239,240,241,242,243,244,245,246,247,248,249,250,251,252,253,254,255,256,257,258,259,260,261,262,263,264,265,266,267,268,269,270,271,272,273,274,275,276,277,278,279,280,281,282,283,284,285,286,287,288,289,290,291,292,293,294,295,296,297,298,299,300,301,302,303,304,305,306,307,308,309,310,311,312,313,314,315,316,317,318,319,320,321,322,323,324,325,326,327,328,329,330,331,332,333,334,335,336,337,338,339,340,341,342,343,344,345,346,347,348,349,350,351,352,353,354,355,356,357,358,359,360,361,362,363,364,365,366,367,368,369,370,371,372,373,374,375,376,377,378,379,380,381,382,383,384,385,386,387,388,389,390,391,392,393,394,395,396,397,398,399,400,401],\"label\":[\"5.00000e+00\",\"5.00000e+00\",\"3.00000e+00\",\"5.00000e+00\",\"1.00000e+00\",\"1.00000e+00\",\"2.00000e+00\",\"NA\",\"1.00000e+00\",\"4.00000e+00\",\"4.00000e+00\",\"6.00000e+00\",\"3.00000e+00\",\"4.00000e+00\",\"3.00000e+00\",\"3.00000e+00\",\"NA\",\"3.00000e+00\",\"1.00000e+00\",\"4.00000e+00\",\"5.00000e+00\",\"1.00000e+00\",\"1.00000e+00\",\"3.00000e+00\",\"3.00000e+00\",\"6.00000e+00\",\"NA\",\"2.00000e+00\",\"2.00000e+00\",\"3.00000e+00\",\"4.00000e+00\",\"1.00000e+00\",\"3.00000e+00\",\"3.00000e+00\",\"3.00000e+00\",\"NA\",\"1.00000e+00\",\"3.00000e+00\",\"5.00000e+00\",\"1.00000e+00\",\"2.00000e+00\",\"5.00000e+00\",\"4.00000e+00\",\"2.00000e+00\",\"2.00000e+00\",\"2.00000e+00\",\"1.00000e+00\",\"2.00000e+00\",\"6.00000e+00\",\"2.00000e+00\",\"3.00000e+00\",\"NA\",\"NA\",\"NA\",\"1.00000e+00\",\"4.00000e+00\",\"3.00000e+00\",\"4.00000e+00\",\"3.00000e+00\",\"1.00000e+00\",\"4.00000e+00\",\"3.00000e+00\",\"4.00000e+00\",\"2.00000e+00\",\"2.00000e+00\",\"3.00000e+00\",\"6.00000e+00\",\"3.00000e+00\",\"1.00000e+00\",\"NA\",\"NA\",\"2.00000e+00\",\"3.00000e+00\",\"3.00000e+00\",\"3.00000e+00\",\"2.00000e+00\",\"2.00000e+00\",\"3.00000e+00\",\"3.00000e+00\",\"3.00000e+00\",\"3.00000e+00\",\"3.00000e+00\",\"4.00000e+00\",\"NA\",\"2.00000e+00\",\"NA\",\"3.00000e+00\",\"1.00000e+00\",\"NA\",\"2.00000e+00\",\"1.00000e+00\",\"2.00000e+00\",\"2.00000e+00\",\"6.00000e+00\",\"3.00000e+00\",\"3.00000e+00\",\"2.00000e+00\",\"2.00000e+00\",\"NA\",\"2.00000e+00\",\"3.00000e+00\",\"1.00000e+00\",\"3.00000e+00\",\"2.00000e+00\",\"5.00000e+00\",\"3.00000e+00\",\"3.00000e+00\",\"3.00000e+00\",\"3.00000e+00\",\"3.00000e+00\",\"2.00000e+00\",\"2.00000e+00\",\"3.00000e+00\",\"3.00000e+00\",\"NA\",\"3.00000e+00\",\"6.00000e+00\",\"NA\",\"2.00000e+00\",\"2.00000e+00\",\"3.00000e+00\",\"6.00000e+00\",\"3.00000e+00\",\"2.00000e+00\",\"1.00000e+00\",\"3.00000e+00\",\"4.00000e+00\",\"3.00000e+00\",\"6.00000e+00\",\"3.00000e+00\",\"3.00000e+00\",\"2.00000e+00\",\"2.00000e+00\",\"2.00000e+00\",\"3.00000e+00\",\"3.00000e+00\",\"2.00000e+00\",\"4.00000e+00\",\"2.00000e+00\",\"NA\",\"2.00000e+00\",\"NA\",\"3.00000e+00\",\"3.00000e+00\",\"2.00000e+00\",\"6.00000e+00\",\"3.00000e+00\",\"3.00000e+00\",\"3.00000e+00\",\"6.00000e+00\",\"3.00000e+00\",\"3.00000e+00\",\"2.00000e+00\",\"3.00000e+00\",\"NA\",\"1.00000e+00\",\"1.00000e+00\",\"6.00000e+00\",\"3.00000e+00\",\"2.00000e+00\",\"3.00000e+00\",\"2.00000e+00\",\"2.00000e+00\",\"6.00000e+00\",\"2.00000e+00\",\"1.00000e+00\",\"NA\",\"2.00000e+00\",\"1.00000e+00\",\"3.00000e+00\",\"3.00000e+00\",\"1.00000e+00\",\"2.00000e+00\",\"6.00000e+00\",\"3.00000e+00\",\"3.00000e+00\",\"4.00000e+00\",\"4.00000e+00\",\"4.00000e+00\",\"3.00000e+00\",\"1.00000e+00\",\"4.00000e+00\",\"3.00000e+00\",\"3.00000e+00\",\"4.00000e+00\",\"3.00000e+00\",\"3.00000e+00\",\"4.00000e+00\",\"5.00000e+00\",\"1.00000e+00\",\"2.00000e+00\",\"6.00000e+00\",\"2.00000e+00\",\"1.00000e+00\",\"3.00000e+00\",\"2.00000e+00\",\"2.00000e+00\",\"2.00000e+00\",\"NA\",\"1.00000e+00\",\"6.00000e+00\",\"3.00000e+00\",\"2.00000e+00\",\"4.00000e+00\",\"3.00000e+00\",\"NA\",\"3.00000e+00\",\"3.00000e+00\",\"3.00000e+00\",\"3.00000e+00\",\"2.00000e+00\",\"1.00000e+00\",\"2.00000e+00\",\"3.00000e+00\",\"6.00000e+00\",\"NA\",\"3.00000e+00\",\"NA\",\"2.00000e+00\",\"3.00000e+00\",\"3.00000e+00\",\"NA\",\"5.00000e+00\",\"3.00000e+00\",\"3.00000e+00\",\"3.00000e+00\",\"1.00000e+00\",\"4.00000e+00\",\"2.00000e+00\",\"2.00000e+00\",\"3.00000e+00\",\"3.00000e+00\",\"2.00000e+00\",\"2.00000e+00\",\"1.00000e+00\",\"3.00000e+00\",\"NA\",\"3.00000e+00\",\"5.00000e+00\",\"5.00000e+00\",\"3.00000e+00\",\"6.00000e+00\",\"6.00000e+00\",\"6.00000e+00\",\"3.00000e+00\",\"2.00000e+00\",\"2.00000e+00\",\"1.00000e+00\",\"3.00000e+00\",\"3.00000e+00\",\"2.00000e+00\",\"2.00000e+00\",\"3.00000e+00\",\"4.00000e+00\",\"3.00000e+00\",\"3.00000e+00\",\"3.00000e+00\",\"5.00000e+00\",\"1.00000e+00\",\"4.00000e+00\",\"2.00000e+00\",\"1.00000e+00\",\"3.00000e+00\",\"2.00000e+00\",\"2.00000e+00\",\"3.00000e+00\",\"2.00000e+00\",\"2.00000e+00\",\"3.00000e+00\",\"1.00000e+00\",\"3.00000e+00\",\"1.00000e+00\",\"4.00000e+00\",\"1.00000e+00\",\"3.00000e+00\",\"2.00000e+00\",\"3.00000e+00\",\"3.00000e+00\",\"6.00000e+00\",\"6.00000e+00\",\"3.00000e+00\",\"1.00000e+00\",\"3.00000e+00\",\"1.00000e+00\",\"3.00000e+00\",\"1.00000e+00\",\"1.00000e+00\",\"3.00000e+00\",\"3.00000e+00\",\"1.00000e+00\",\"2.00000e+00\",\"6.00000e+00\",\"6.00000e+00\",\"1.00000e+00\",\"3.00000e+00\",\"3.00000e+00\",\"2.00000e+00\",\"NA\",\"2.00000e+00\",\"3.00000e+00\",\"NA\",\"3.00000e+00\",\"2.00000e+00\",\"3.00000e+00\",\"4.00000e+00\",\"3.00000e+00\",\"6.00000e+00\",\"2.00000e+00\",\"1.00000e+00\",\"3.00000e+00\",\"6.00000e+00\",\"3.00000e+00\",\"5.00000e+00\",\"3.00000e+00\",\"3.00000e+00\",\"3.00000e+00\",\"NA\",\"3.00000e+00\",\"3.00000e+00\",\"6.00000e+00\",\"3.00000e+00\",\"2.00000e+00\",\"2.00000e+00\",\"3.00000e+00\",\"NA\",\"3.00000e+00\",\"3.00000e+00\",\"2.00000e+00\",\"3.00000e+00\",\"1.00000e+00\",\"5.00000e+00\",\"2.00000e+00\",\"1.00000e+00\",\"2.00000e+00\",\"2.00000e+00\",\"4.00000e+00\",\"3.00000e+00\",\"2.00000e+00\",\"2.00000e+00\",\"3.00000e+00\",\"2.00000e+00\",\"1.00000e+00\",\"3.00000e+00\",\"6.00000e+00\",\"1.00000e+00\",\"1.00000e+00\",\"3.00000e+00\",\"1.00000e+00\",\"3.00000e+00\",\"6.00000e+00\",\"3.00000e+00\",\"6.00000e+00\",\"3.00000e+00\",\"3.00000e+00\",\"1.00000e+00\",\"6.00000e+00\",\"2.00000e+00\",\"3.00000e+00\",\"3.00000e+00\",\"3.00000e+00\",\"NA\",\"3.00000e+00\",\"3.00000e+00\",\"5.00000e+00\",\"3.00000e+00\",\"3.00000e+00\",\"3.00000e+00\",\"1.00000e+00\",\"3.00000e+00\",\"6.00000e+00\",\"3.00000e+00\",\"2.00000e+00\",\"3.00000e+00\",\"3.00000e+00\",\"3.00000e+00\",\"3.00000e+00\",\"1.00000e+00\",\"NA\",\"2.00000e+00\",\"2.00000e+00\",\"3.00000e+00\",\"3.00000e+00\",\"6.00000e+00\",\"NA\",\"NA\",\"1.00000e+00\",\"3.00000e+00\",\"3.00000e+00\",\"5.00000e+00\",\"5.00000e+00\",\"3.00000e+00\",\"1.00000e+00\",\"3.00000e+00\",\"NA\",\"NA\",\"6.00000e+00\",\"3.00000e+00\",\"NA\",\"NA\",\"3.00000e+00\",\"2.00000e+00\",\"3.00000e+00\"],\"x\":{\"__ndarray__\":\"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\",\"dtype\":\"float64\",\"shape\":[402]},\"y\":{\"__ndarray__\":\"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\",\"dtype\":\"float64\",\"shape\":[402]}},\"selected\":{\"id\":\"1312\",\"type\":\"Selection\"},\"selection_policy\":{\"id\":\"1311\",\"type\":\"UnionRenderers\"}},\"id\":\"1235\",\"type\":\"ColumnDataSource\"},{\"attributes\":{\"fill_color\":{\"field\":\"label\",\"transform\":{\"id\":\"1236\",\"type\":\"CategoricalColorMapper\"}},\"line_color\":{\"field\":\"label\",\"transform\":{\"id\":\"1236\",\"type\":\"CategoricalColorMapper\"}},\"x\":{\"field\":\"x\"},\"y\":{\"field\":\"y\"}},\"id\":\"1246\",\"type\":\"Circle\"},{\"attributes\":{\"filters\":[{\"id\":\"1267\",\"type\":\"GroupFilter\"}],\"source\":{\"id\":\"1235\",\"type\":\"ColumnDataSource\"}},\"id\":\"1268\",\"type\":\"CDSView\"},{\"attributes\":{\"text\":\"PCA\"},\"id\":\"1200\",\"type\":\"Title\"},{\"attributes\":{\"dimension\":1,\"ticker\":{\"id\":\"1216\",\"type\":\"BasicTicker\"}},\"id\":\"1219\",\"type\":\"Grid\"},{\"attributes\":{},\"id\":\"1310\",\"type\":\"BasicTickFormatter\"},{\"attributes\":{\"column_name\":\"label\",\"group\":\"5.00000e+00\"},\"id\":\"1261\",\"type\":\"GroupFilter\"},{\"attributes\":{\"column_name\":\"label\",\"group\":\"3.00000e+00\"},\"id\":\"1249\",\"type\":\"GroupFilter\"},{\"attributes\":{\"fill_alpha\":{\"value\":0.1},\"fill_color\":{\"value\":\"#1f77b4\"},\"line_alpha\":{\"value\":0.1},\"line_color\":{\"value\":\"#1f77b4\"},\"x\":{\"field\":\"x\"},\"y\":{\"field\":\"y\"}},\"id\":\"1247\",\"type\":\"Circle\"},{\"attributes\":{\"column_name\":\"label\",\"group\":\"6.00000e+00\"},\"id\":\"1267\",\"type\":\"GroupFilter\"},{\"attributes\":{\"fill_alpha\":{\"value\":0.1},\"fill_color\":{\"value\":\"#1f77b4\"},\"line_alpha\":{\"value\":0.1},\"line_color\":{\"value\":\"#1f77b4\"},\"x\":{\"field\":\"x\"},\"y\":{\"field\":\"y\"}},\"id\":\"1259\",\"type\":\"Circle\"},{\"attributes\":{},\"id\":\"1220\",\"type\":\"PanTool\"},{\"attributes\":{\"label\":{\"value\":\"2.00000e+00\"},\"renderers\":[{\"id\":\"1248\",\"type\":\"GlyphRenderer\"}]},\"id\":\"1280\",\"type\":\"LegendItem\"},{\"attributes\":{\"label\":{\"value\":\"6.00000e+00\"},\"renderers\":[{\"id\":\"1272\",\"type\":\"GlyphRenderer\"}]},\"id\":\"1284\",\"type\":\"LegendItem\"},{\"attributes\":{},\"id\":\"1225\",\"type\":\"HelpTool\"},{\"attributes\":{\"column_name\":\"label\",\"group\":\"1.00000e+00\"},\"id\":\"1237\",\"type\":\"GroupFilter\"},{\"attributes\":{},\"id\":\"1208\",\"type\":\"LinearScale\"},{\"attributes\":{\"data_source\":{\"id\":\"1235\",\"type\":\"ColumnDataSource\"},\"glyph\":{\"id\":\"1240\",\"type\":\"Circle\"},\"hover_glyph\":null,\"muted_glyph\":null,\"nonselection_glyph\":{\"id\":\"1241\",\"type\":\"Circle\"},\"selection_glyph\":null,\"view\":{\"id\":\"1238\",\"type\":\"CDSView\"}},\"id\":\"1242\",\"type\":\"GlyphRenderer\"},{\"attributes\":{\"data_source\":{\"id\":\"1235\",\"type\":\"ColumnDataSource\"},\"glyph\":{\"id\":\"1258\",\"type\":\"Circle\"},\"hover_glyph\":null,\"muted_glyph\":null,\"nonselection_glyph\":{\"id\":\"1259\",\"type\":\"Circle\"},\"selection_glyph\":null,\"view\":{\"id\":\"1256\",\"type\":\"CDSView\"}},\"id\":\"1260\",\"type\":\"GlyphRenderer\"},{\"attributes\":{\"fill_color\":{\"field\":\"label\",\"transform\":{\"id\":\"1236\",\"type\":\"CategoricalColorMapper\"}},\"line_color\":{\"field\":\"label\",\"transform\":{\"id\":\"1236\",\"type\":\"CategoricalColorMapper\"}},\"x\":{\"field\":\"x\"},\"y\":{\"field\":\"y\"}},\"id\":\"1252\",\"type\":\"Circle\"},{\"attributes\":{\"bottom_units\":\"screen\",\"fill_alpha\":{\"value\":0.5},\"fill_color\":{\"value\":\"lightgrey\"},\"left_units\":\"screen\",\"level\":\"overlay\",\"line_alpha\":{\"value\":1.0},\"line_color\":{\"value\":\"black\"},\"line_dash\":[4,4],\"line_width\":{\"value\":2},\"render_mode\":\"css\",\"right_units\":\"screen\",\"top_units\":\"screen\"},\"id\":\"1313\",\"type\":\"BoxAnnotation\"},{\"attributes\":{\"filters\":[{\"id\":\"1237\",\"type\":\"GroupFilter\"}],\"source\":{\"id\":\"1235\",\"type\":\"ColumnDataSource\"}},\"id\":\"1238\",\"type\":\"CDSView\"},{\"attributes\":{\"fill_alpha\":{\"value\":0.1},\"fill_color\":{\"value\":\"#1f77b4\"},\"line_alpha\":{\"value\":0.1},\"line_color\":{\"value\":\"#1f77b4\"},\"x\":{\"field\":\"x\"},\"y\":{\"field\":\"y\"}},\"id\":\"1271\",\"type\":\"Circle\"},{\"attributes\":{},\"id\":\"1221\",\"type\":\"WheelZoomTool\"},{\"attributes\":{\"callback\":null},\"id\":\"1202\",\"type\":\"DataRange1d\"},{\"attributes\":{\"fill_alpha\":{\"value\":0.1},\"fill_color\":{\"value\":\"#1f77b4\"},\"line_alpha\":{\"value\":0.1},\"line_color\":{\"value\":\"#1f77b4\"},\"x\":{\"field\":\"x\"},\"y\":{\"field\":\"y\"}},\"id\":\"1241\",\"type\":\"Circle\"},{\"attributes\":{\"filters\":[{\"id\":\"1249\",\"type\":\"GroupFilter\"}],\"source\":{\"id\":\"1235\",\"type\":\"ColumnDataSource\"}},\"id\":\"1250\",\"type\":\"CDSView\"},{\"attributes\":{},\"id\":\"1206\",\"type\":\"LinearScale\"},{\"attributes\":{\"callback\":null,\"tooltips\":[[\"x\",\"@x\"],[\"y\",\"@y\"],[\"label\",\"@label\"]]},\"id\":\"1234\",\"type\":\"HoverTool\"},{\"attributes\":{\"label\":{\"value\":\"1.00000e+00\"},\"renderers\":[{\"id\":\"1242\",\"type\":\"GlyphRenderer\"}]},\"id\":\"1279\",\"type\":\"LegendItem\"},{\"attributes\":{\"fill_color\":{\"field\":\"label\",\"transform\":{\"id\":\"1236\",\"type\":\"CategoricalColorMapper\"}},\"line_color\":{\"field\":\"label\",\"transform\":{\"id\":\"1236\",\"type\":\"CategoricalColorMapper\"}},\"x\":{\"field\":\"x\"},\"y\":{\"field\":\"y\"}},\"id\":\"1264\",\"type\":\"Circle\"},{\"attributes\":{},\"id\":\"1211\",\"type\":\"BasicTicker\"},{\"attributes\":{},\"id\":\"1306\",\"type\":\"BasicTickFormatter\"},{\"attributes\":{},\"id\":\"1223\",\"type\":\"SaveTool\"},{\"attributes\":{\"column_name\":\"label\",\"group\":\"NA\"},\"id\":\"1273\",\"type\":\"GroupFilter\"},{\"attributes\":{\"click_policy\":\"hide\",\"items\":[{\"id\":\"1279\",\"type\":\"LegendItem\"},{\"id\":\"1280\",\"type\":\"LegendItem\"},{\"id\":\"1281\",\"type\":\"LegendItem\"},{\"id\":\"1282\",\"type\":\"LegendItem\"},{\"id\":\"1283\",\"type\":\"LegendItem\"},{\"id\":\"1284\",\"type\":\"LegendItem\"},{\"id\":\"1285\",\"type\":\"LegendItem\"}]},\"id\":\"1286\",\"type\":\"Legend\"},{\"attributes\":{\"fill_color\":{\"field\":\"label\",\"transform\":{\"id\":\"1236\",\"type\":\"CategoricalColorMapper\"}},\"line_color\":{\"field\":\"label\",\"transform\":{\"id\":\"1236\",\"type\":\"CategoricalColorMapper\"}},\"x\":{\"field\":\"x\"},\"y\":{\"field\":\"y\"}},\"id\":\"1240\",\"type\":\"Circle\"},{\"attributes\":{\"axis_label\":\"PC1\",\"formatter\":{\"id\":\"1306\",\"type\":\"BasicTickFormatter\"},\"ticker\":{\"id\":\"1211\",\"type\":\"BasicTicker\"}},\"id\":\"1210\",\"type\":\"LinearAxis\"},{\"attributes\":{\"fill_alpha\":{\"value\":0.1},\"fill_color\":{\"value\":\"#1f77b4\"},\"line_alpha\":{\"value\":0.1},\"line_color\":{\"value\":\"#1f77b4\"},\"x\":{\"field\":\"x\"},\"y\":{\"field\":\"y\"}},\"id\":\"1253\",\"type\":\"Circle\"},{\"attributes\":{\"label\":{\"value\":\"4.00000e+00\"},\"renderers\":[{\"id\":\"1260\",\"type\":\"GlyphRenderer\"}]},\"id\":\"1282\",\"type\":\"LegendItem\"},{\"attributes\":{\"filters\":[{\"id\":\"1273\",\"type\":\"GroupFilter\"}],\"source\":{\"id\":\"1235\",\"type\":\"ColumnDataSource\"}},\"id\":\"1274\",\"type\":\"CDSView\"},{\"attributes\":{\"data_source\":{\"id\":\"1235\",\"type\":\"ColumnDataSource\"},\"glyph\":{\"id\":\"1270\",\"type\":\"Circle\"},\"hover_glyph\":null,\"muted_glyph\":null,\"nonselection_glyph\":{\"id\":\"1271\",\"type\":\"Circle\"},\"selection_glyph\":null,\"view\":{\"id\":\"1268\",\"type\":\"CDSView\"}},\"id\":\"1272\",\"type\":\"GlyphRenderer\"}],\"root_ids\":[\"1199\"]},\"title\":\"Bokeh Application\",\"version\":\"1.2.0\"}};\n",
       "  var render_items = [{\"docid\":\"d31cca97-545f-41a0-acf9-5c5874fbd524\",\"roots\":{\"1199\":\"c90427e4-5c45-4ff3-84ee-ab7c04984dd9\"}}];\n",
       "  root.Bokeh.embed.embed_items_notebook(docs_json, render_items);\n",
       "\n",
       "  }\n",
       "  if (root.Bokeh !== undefined) {\n",
       "    embed_document(root);\n",
       "  } else {\n",
       "    var attempts = 0;\n",
       "    var timer = setInterval(function(root) {\n",
       "      if (root.Bokeh !== undefined) {\n",
       "        embed_document(root);\n",
       "        clearInterval(timer);\n",
       "      }\n",
       "      attempts++;\n",
       "      if (attempts > 100) {\n",
       "        console.log(\"Bokeh: ERROR: Unable to run BokehJS code because BokehJS library is missing\");\n",
       "        clearInterval(timer);\n",
       "      }\n",
       "    }, 10, root)\n",
       "  }\n",
       "})(window);"
      ],
      "application/vnd.bokehjs_exec.v0+json": ""
     },
     "metadata": {
      "application/vnd.bokehjs_exec.v0+json": {
       "id": "1199"
      }
     },
     "output_type": "display_data"
    }
   ],
   "source": [
    "p = hl.plot.scatter(pruned_mt.scores[0],\n",
    "                    pruned_mt.scores[1],\n",
    "                    label=hl.str(pruned_mt.birthplace),\n",
    "                    title='PCA', xlabel='PC1', ylabel='PC2')\n",
    "p.plot_width = 800\n",
    "p.plot_height = 600\n",
    "show(p)"
   ]
  },
  {
   "cell_type": "markdown",
   "metadata": {},
   "source": [
    "## Filter outliers\n",
    "\n",
    "In the PCA plot above, it seems we have a few outliers. These individuals may have non-Faroese ancestry, whether they are part Faroese or not, or they may be very closely related. Either way, they prevent us from detecting possible population structure in the data.\n",
    "\n",
    "As we see in the plot above, both PC 1 and 2 describe the variation between these outliers and the rest of the samples. So if we remove these outlier individuals, we may be able to detect population structure."
   ]
  },
  {
   "cell_type": "code",
   "execution_count": 31,
   "metadata": {},
   "outputs": [],
   "source": [
    "no_outerliers_mt = pruned_mt.filter_cols(pruned_mt.scores[1] < 0.4)"
   ]
  },
  {
   "cell_type": "markdown",
   "metadata": {},
   "source": [
    "Now we just do the PCA again, and see if PC 1 and 2 show signs of population structure."
   ]
  },
  {
   "cell_type": "code",
   "execution_count": 32,
   "metadata": {},
   "outputs": [
    {
     "name": "stderr",
     "output_type": "stream",
     "text": [
      "2021-05-13 09:39:42 Hail: INFO: Coerced sorted dataset\n",
      "2021-05-13 09:39:42 Hail: INFO: Ordering unsorted dataset with network shuffle\n",
      "2021-05-13 09:39:44 Hail: INFO: hwe_normalized_pca: running PCA using 39986 variants.\n",
      "2021-05-13 09:39:44 Hail: INFO: Coerced sorted dataset\n",
      "2021-05-13 09:39:44 Hail: INFO: Ordering unsorted dataset with network shuffle\n",
      "2021-05-13 09:39:46 Hail: INFO: pca: running PCA with 2 components...\n"
     ]
    }
   ],
   "source": [
    "eigenvalues, scores, loadings = hl.hwe_normalized_pca(no_outerliers_mt.GT, k=2)"
   ]
  },
  {
   "cell_type": "code",
   "execution_count": 33,
   "metadata": {},
   "outputs": [],
   "source": [
    "no_outerliers_mt = no_outerliers_mt.annotate_cols(scores = scores[no_outerliers_mt.s].scores)"
   ]
  },
  {
   "cell_type": "code",
   "execution_count": 34,
   "metadata": {},
   "outputs": [
    {
     "name": "stderr",
     "output_type": "stream",
     "text": [
      "2021-05-13 09:39:56 Hail: INFO: Ordering unsorted dataset with network shuffle\n",
      "2021-05-13 09:39:56 Hail: INFO: Ordering unsorted dataset with network shuffle\n",
      "2021-05-13 09:39:57 Hail: INFO: Coerced sorted dataset\n",
      "2021-05-13 09:39:58 Hail: INFO: Ordering unsorted dataset with network shuffle\n"
     ]
    },
    {
     "data": {
      "text/html": [
       "\n",
       "\n",
       "\n",
       "\n",
       "\n",
       "\n",
       "  <div class=\"bk-root\" id=\"e444429c-bb92-45b0-8afb-b610ceca0311\" data-root-id=\"1559\"></div>\n"
      ]
     },
     "metadata": {},
     "output_type": "display_data"
    },
    {
     "data": {
      "application/javascript": [
       "(function(root) {\n",
       "  function embed_document(root) {\n",
       "    \n",
       "  var docs_json = {\"94841470-b75d-4676-b881-a4b7407c43ce\":{\"roots\":{\"references\":[{\"attributes\":{\"below\":[{\"id\":\"1570\",\"type\":\"LinearAxis\"}],\"center\":[{\"id\":\"1574\",\"type\":\"Grid\"},{\"id\":\"1579\",\"type\":\"Grid\"}],\"left\":[{\"id\":\"1575\",\"type\":\"LinearAxis\"},{\"id\":\"1646\",\"type\":\"Legend\"},{\"id\":\"1647\",\"type\":\"ColorBar\"}],\"plot_height\":600,\"plot_width\":800,\"renderers\":[{\"id\":\"1602\",\"type\":\"GlyphRenderer\"},{\"id\":\"1608\",\"type\":\"GlyphRenderer\"},{\"id\":\"1614\",\"type\":\"GlyphRenderer\"},{\"id\":\"1620\",\"type\":\"GlyphRenderer\"},{\"id\":\"1626\",\"type\":\"GlyphRenderer\"},{\"id\":\"1632\",\"type\":\"GlyphRenderer\"},{\"id\":\"1638\",\"type\":\"GlyphRenderer\"}],\"title\":{\"id\":\"1560\",\"type\":\"Title\"},\"toolbar\":{\"id\":\"1586\",\"type\":\"Toolbar\"},\"x_range\":{\"id\":\"1562\",\"type\":\"DataRange1d\"},\"x_scale\":{\"id\":\"1566\",\"type\":\"LinearScale\"},\"y_range\":{\"id\":\"1564\",\"type\":\"DataRange1d\"},\"y_scale\":{\"id\":\"1568\",\"type\":\"LinearScale\"}},\"id\":\"1559\",\"subtype\":\"Figure\",\"type\":\"Plot\"},{\"attributes\":{\"data_source\":{\"id\":\"1595\",\"type\":\"ColumnDataSource\"},\"glyph\":{\"id\":\"1612\",\"type\":\"Circle\"},\"hover_glyph\":null,\"muted_glyph\":null,\"nonselection_glyph\":{\"id\":\"1613\",\"type\":\"Circle\"},\"selection_glyph\":null,\"view\":{\"id\":\"1610\",\"type\":\"CDSView\"}},\"id\":\"1614\",\"type\":\"GlyphRenderer\"},{\"attributes\":{\"callback\":null,\"tooltips\":[[\"x\",\"@x\"],[\"y\",\"@y\"],[\"label\",\"@label\"]]},\"id\":\"1594\",\"type\":\"HoverTool\"},{\"attributes\":{\"fill_color\":{\"field\":\"label\",\"transform\":{\"id\":\"1596\",\"type\":\"CategoricalColorMapper\"}},\"line_color\":{\"field\":\"label\",\"transform\":{\"id\":\"1596\",\"type\":\"CategoricalColorMapper\"}},\"x\":{\"field\":\"x\"},\"y\":{\"field\":\"y\"}},\"id\":\"1624\",\"type\":\"Circle\"},{\"attributes\":{\"fill_color\":{\"field\":\"label\",\"transform\":{\"id\":\"1596\",\"type\":\"CategoricalColorMapper\"}},\"line_color\":{\"field\":\"label\",\"transform\":{\"id\":\"1596\",\"type\":\"CategoricalColorMapper\"}},\"x\":{\"field\":\"x\"},\"y\":{\"field\":\"y\"}},\"id\":\"1630\",\"type\":\"Circle\"},{\"attributes\":{\"column_name\":\"label\",\"group\":\"3.00000e+00\"},\"id\":\"1609\",\"type\":\"GroupFilter\"},{\"attributes\":{},\"id\":\"1580\",\"type\":\"PanTool\"},{\"attributes\":{\"callback\":null},\"id\":\"1564\",\"type\":\"DataRange1d\"},{\"attributes\":{\"label\":{\"value\":\"6.00000e+00\"},\"renderers\":[{\"id\":\"1632\",\"type\":\"GlyphRenderer\"}]},\"id\":\"1644\",\"type\":\"LegendItem\"},{\"attributes\":{\"axis_label\":\"PC2\",\"formatter\":{\"id\":\"1688\",\"type\":\"BasicTickFormatter\"},\"ticker\":{\"id\":\"1576\",\"type\":\"BasicTicker\"}},\"id\":\"1575\",\"type\":\"LinearAxis\"},{\"attributes\":{\"fill_alpha\":{\"value\":0.1},\"fill_color\":{\"value\":\"#1f77b4\"},\"line_alpha\":{\"value\":0.1},\"line_color\":{\"value\":\"#1f77b4\"},\"x\":{\"field\":\"x\"},\"y\":{\"field\":\"y\"}},\"id\":\"1601\",\"type\":\"Circle\"},{\"attributes\":{\"fill_alpha\":{\"value\":0.1},\"fill_color\":{\"value\":\"#1f77b4\"},\"line_alpha\":{\"value\":0.1},\"line_color\":{\"value\":\"#1f77b4\"},\"x\":{\"field\":\"x\"},\"y\":{\"field\":\"y\"}},\"id\":\"1625\",\"type\":\"Circle\"},{\"attributes\":{},\"id\":\"1692\",\"type\":\"Selection\"},{\"attributes\":{\"fill_alpha\":{\"value\":0.1},\"fill_color\":{\"value\":\"#1f77b4\"},\"line_alpha\":{\"value\":0.1},\"line_color\":{\"value\":\"#1f77b4\"},\"x\":{\"field\":\"x\"},\"y\":{\"field\":\"y\"}},\"id\":\"1631\",\"type\":\"Circle\"},{\"attributes\":{\"column_name\":\"label\",\"group\":\"5.00000e+00\"},\"id\":\"1621\",\"type\":\"GroupFilter\"},{\"attributes\":{\"axis_label\":\"PC1\",\"formatter\":{\"id\":\"1686\",\"type\":\"BasicTickFormatter\"},\"ticker\":{\"id\":\"1571\",\"type\":\"BasicTicker\"}},\"id\":\"1570\",\"type\":\"LinearAxis\"},{\"attributes\":{},\"id\":\"1583\",\"type\":\"SaveTool\"},{\"attributes\":{},\"id\":\"1689\",\"type\":\"BasicTicker\"},{\"attributes\":{\"filters\":[{\"id\":\"1627\",\"type\":\"GroupFilter\"}],\"source\":{\"id\":\"1595\",\"type\":\"ColumnDataSource\"}},\"id\":\"1628\",\"type\":\"CDSView\"},{\"attributes\":{\"data_source\":{\"id\":\"1595\",\"type\":\"ColumnDataSource\"},\"glyph\":{\"id\":\"1630\",\"type\":\"Circle\"},\"hover_glyph\":null,\"muted_glyph\":null,\"nonselection_glyph\":{\"id\":\"1631\",\"type\":\"Circle\"},\"selection_glyph\":null,\"view\":{\"id\":\"1628\",\"type\":\"CDSView\"}},\"id\":\"1632\",\"type\":\"GlyphRenderer\"},{\"attributes\":{\"text\":\"PCA\"},\"id\":\"1560\",\"type\":\"Title\"},{\"attributes\":{\"dimension\":1,\"ticker\":{\"id\":\"1576\",\"type\":\"BasicTicker\"}},\"id\":\"1579\",\"type\":\"Grid\"},{\"attributes\":{\"filters\":[{\"id\":\"1621\",\"type\":\"GroupFilter\"}],\"source\":{\"id\":\"1595\",\"type\":\"ColumnDataSource\"}},\"id\":\"1622\",\"type\":\"CDSView\"},{\"attributes\":{\"fill_alpha\":{\"value\":0.1},\"fill_color\":{\"value\":\"#1f77b4\"},\"line_alpha\":{\"value\":0.1},\"line_color\":{\"value\":\"#1f77b4\"},\"x\":{\"field\":\"x\"},\"y\":{\"field\":\"y\"}},\"id\":\"1637\",\"type\":\"Circle\"},{\"attributes\":{\"column_name\":\"label\",\"group\":\"2.00000e+00\"},\"id\":\"1603\",\"type\":\"GroupFilter\"},{\"attributes\":{\"data_source\":{\"id\":\"1595\",\"type\":\"ColumnDataSource\"},\"glyph\":{\"id\":\"1624\",\"type\":\"Circle\"},\"hover_glyph\":null,\"muted_glyph\":null,\"nonselection_glyph\":{\"id\":\"1625\",\"type\":\"Circle\"},\"selection_glyph\":null,\"view\":{\"id\":\"1622\",\"type\":\"CDSView\"}},\"id\":\"1626\",\"type\":\"GlyphRenderer\"},{\"attributes\":{\"filters\":[{\"id\":\"1609\",\"type\":\"GroupFilter\"}],\"source\":{\"id\":\"1595\",\"type\":\"ColumnDataSource\"}},\"id\":\"1610\",\"type\":\"CDSView\"},{\"attributes\":{},\"id\":\"1686\",\"type\":\"BasicTickFormatter\"},{\"attributes\":{\"label\":{\"value\":\"3.00000e+00\"},\"renderers\":[{\"id\":\"1614\",\"type\":\"GlyphRenderer\"}]},\"id\":\"1641\",\"type\":\"LegendItem\"},{\"attributes\":{\"bottom_units\":\"screen\",\"fill_alpha\":{\"value\":0.5},\"fill_color\":{\"value\":\"lightgrey\"},\"left_units\":\"screen\",\"level\":\"overlay\",\"line_alpha\":{\"value\":1.0},\"line_color\":{\"value\":\"black\"},\"line_dash\":[4,4],\"line_width\":{\"value\":2},\"render_mode\":\"css\",\"right_units\":\"screen\",\"top_units\":\"screen\"},\"id\":\"1693\",\"type\":\"BoxAnnotation\"},{\"attributes\":{\"data_source\":{\"id\":\"1595\",\"type\":\"ColumnDataSource\"},\"glyph\":{\"id\":\"1636\",\"type\":\"Circle\"},\"hover_glyph\":null,\"muted_glyph\":null,\"nonselection_glyph\":{\"id\":\"1637\",\"type\":\"Circle\"},\"selection_glyph\":null,\"view\":{\"id\":\"1634\",\"type\":\"CDSView\"}},\"id\":\"1638\",\"type\":\"GlyphRenderer\"},{\"attributes\":{\"ticker\":{\"id\":\"1571\",\"type\":\"BasicTicker\"}},\"id\":\"1574\",\"type\":\"Grid\"},{\"attributes\":{\"fill_color\":{\"field\":\"label\",\"transform\":{\"id\":\"1596\",\"type\":\"CategoricalColorMapper\"}},\"line_color\":{\"field\":\"label\",\"transform\":{\"id\":\"1596\",\"type\":\"CategoricalColorMapper\"}},\"x\":{\"field\":\"x\"},\"y\":{\"field\":\"y\"}},\"id\":\"1600\",\"type\":\"Circle\"},{\"attributes\":{},\"id\":\"1584\",\"type\":\"ResetTool\"},{\"attributes\":{},\"id\":\"1688\",\"type\":\"BasicTickFormatter\"},{\"attributes\":{\"data_source\":{\"id\":\"1595\",\"type\":\"ColumnDataSource\"},\"glyph\":{\"id\":\"1600\",\"type\":\"Circle\"},\"hover_glyph\":null,\"muted_glyph\":null,\"nonselection_glyph\":{\"id\":\"1601\",\"type\":\"Circle\"},\"selection_glyph\":null,\"view\":{\"id\":\"1598\",\"type\":\"CDSView\"}},\"id\":\"1602\",\"type\":\"GlyphRenderer\"},{\"attributes\":{\"fill_alpha\":{\"value\":0.1},\"fill_color\":{\"value\":\"#1f77b4\"},\"line_alpha\":{\"value\":0.1},\"line_color\":{\"value\":\"#1f77b4\"},\"x\":{\"field\":\"x\"},\"y\":{\"field\":\"y\"}},\"id\":\"1607\",\"type\":\"Circle\"},{\"attributes\":{\"fill_color\":{\"field\":\"label\",\"transform\":{\"id\":\"1596\",\"type\":\"CategoricalColorMapper\"}},\"line_color\":{\"field\":\"label\",\"transform\":{\"id\":\"1596\",\"type\":\"CategoricalColorMapper\"}},\"x\":{\"field\":\"x\"},\"y\":{\"field\":\"y\"}},\"id\":\"1618\",\"type\":\"Circle\"},{\"attributes\":{\"overlay\":{\"id\":\"1693\",\"type\":\"BoxAnnotation\"}},\"id\":\"1582\",\"type\":\"BoxZoomTool\"},{\"attributes\":{\"callback\":null},\"id\":\"1562\",\"type\":\"DataRange1d\"},{\"attributes\":{\"label\":{\"value\":\"5.00000e+00\"},\"renderers\":[{\"id\":\"1626\",\"type\":\"GlyphRenderer\"}]},\"id\":\"1643\",\"type\":\"LegendItem\"},{\"attributes\":{\"column_name\":\"label\",\"group\":\"4.00000e+00\"},\"id\":\"1615\",\"type\":\"GroupFilter\"},{\"attributes\":{\"click_policy\":\"hide\",\"items\":[{\"id\":\"1639\",\"type\":\"LegendItem\"},{\"id\":\"1640\",\"type\":\"LegendItem\"},{\"id\":\"1641\",\"type\":\"LegendItem\"},{\"id\":\"1642\",\"type\":\"LegendItem\"},{\"id\":\"1643\",\"type\":\"LegendItem\"},{\"id\":\"1644\",\"type\":\"LegendItem\"},{\"id\":\"1645\",\"type\":\"LegendItem\"}]},\"id\":\"1646\",\"type\":\"Legend\"},{\"attributes\":{},\"id\":\"1691\",\"type\":\"UnionRenderers\"},{\"attributes\":{\"column_name\":\"label\",\"group\":\"NA\"},\"id\":\"1633\",\"type\":\"GroupFilter\"},{\"attributes\":{\"data_source\":{\"id\":\"1595\",\"type\":\"ColumnDataSource\"},\"glyph\":{\"id\":\"1606\",\"type\":\"Circle\"},\"hover_glyph\":null,\"muted_glyph\":null,\"nonselection_glyph\":{\"id\":\"1607\",\"type\":\"Circle\"},\"selection_glyph\":null,\"view\":{\"id\":\"1604\",\"type\":\"CDSView\"}},\"id\":\"1608\",\"type\":\"GlyphRenderer\"},{\"attributes\":{\"callback\":null,\"data\":{\"index\":[0,1,2,3,4,5,6,7,8,9,10,11,12,13,14,15,16,17,18,19,20,21,22,23,24,25,26,27,28,29,30,31,32,33,34,35,36,37,38,39,40,41,42,43,44,45,46,47,48,49,50,51,52,53,54,55,56,57,58,59,60,61,62,63,64,65,66,67,68,69,70,71,72,73,74,75,76,77,78,79,80,81,82,83,84,85,86,87,88,89,90,91,92,93,94,95,96,97,98,99,100,101,102,103,104,105,106,107,108,109,110,111,112,113,114,115,116,117,118,119,120,121,122,123,124,125,126,127,128,129,130,131,132,133,134,135,136,137,138,139,140,141,142,143,144,145,146,147,148,149,150,151,152,153,154,155,156,157,158,159,160,161,162,163,164,165,166,167,168,169,170,171,172,173,174,175,176,177,178,179,180,181,182,183,184,185,186,187,188,189,190,191,192,193,194,195,196,197,198,199,200,201,202,203,204,205,206,207,208,209,210,211,212,213,214,215,216,217,218,219,220,221,222,223,224,225,226,227,228,229,230,231,232,233,234,235,236,237,238,239,240,241,242,243,244,245,246,247,248,249,250,251,252,253,254,255,256,257,258,259,260,261,262,263,264,265,266,267,268,269,270,271,272,273,274,275,276,277,278,279,280,281,282,283,284,285,286,287,288,289,290,291,292,293,294,295,296,297,298,299,300,301,302,303,304,305,306,307,308,309,310,311,312,313,314,315,316,317,318,319,320,321,322,323,324,325,326,327,328,329,330,331,332,333,334,335,336,337,338,339,340,341,342,343,344,345,346,347,348,349,350,351,352,353,354,355,356,357,358,359,360,361,362,363,364,365,366,367,368,369,370,371,372,373,374,375,376,377,378,379,380,381,382,383,384,385,386,387,388,389,390,391,392,393,394,395,396,397,398,399,400,401,402,403,404,405,406,407,408,409,410],\"label\":[\"1.00000e+00\",\"1.00000e+00\",\"2.00000e+00\",\"NA\",\"4.00000e+00\",\"4.00000e+00\",\"1.00000e+00\",\"4.00000e+00\",\"3.00000e+00\",\"1.00000e+00\",\"6.00000e+00\",\"3.00000e+00\",\"1.00000e+00\",\"4.00000e+00\",\"3.00000e+00\",\"3.00000e+00\",\"1.00000e+00\",\"1.00000e+00\",\"3.00000e+00\",\"3.00000e+00\",\"NA\",\"3.00000e+00\",\"4.00000e+00\",\"2.00000e+00\",\"5.00000e+00\",\"NA\",\"4.00000e+00\",\"3.00000e+00\",\"2.00000e+00\",\"3.00000e+00\",\"6.00000e+00\",\"5.00000e+00\",\"3.00000e+00\",\"1.00000e+00\",\"3.00000e+00\",\"3.00000e+00\",\"4.00000e+00\",\"5.00000e+00\",\"2.00000e+00\",\"1.00000e+00\",\"2.00000e+00\",\"1.00000e+00\",\"NA\",\"3.00000e+00\",\"2.00000e+00\",\"2.00000e+00\",\"1.00000e+00\",\"3.00000e+00\",\"4.00000e+00\",\"6.00000e+00\",\"NA\",\"3.00000e+00\",\"1.00000e+00\",\"3.00000e+00\",\"2.00000e+00\",\"NA\",\"3.00000e+00\",\"2.00000e+00\",\"3.00000e+00\",\"4.00000e+00\",\"NA\",\"2.00000e+00\",\"2.00000e+00\",\"2.00000e+00\",\"1.00000e+00\",\"3.00000e+00\",\"3.00000e+00\",\"3.00000e+00\",\"2.00000e+00\",\"3.00000e+00\",\"2.00000e+00\",\"NA\",\"2.00000e+00\",\"2.00000e+00\",\"3.00000e+00\",\"NA\",\"4.00000e+00\",\"1.00000e+00\",\"1.00000e+00\",\"3.00000e+00\",\"2.00000e+00\",\"2.00000e+00\",\"3.00000e+00\",\"3.00000e+00\",\"3.00000e+00\",\"NA\",\"NA\",\"2.00000e+00\",\"3.00000e+00\",\"2.00000e+00\",\"3.00000e+00\",\"6.00000e+00\",\"NA\",\"4.00000e+00\",\"2.00000e+00\",\"1.00000e+00\",\"2.00000e+00\",\"6.00000e+00\",\"3.00000e+00\",\"2.00000e+00\",\"6.00000e+00\",\"NA\",\"3.00000e+00\",\"3.00000e+00\",\"3.00000e+00\",\"3.00000e+00\",\"2.00000e+00\",\"2.00000e+00\",\"3.00000e+00\",\"2.00000e+00\",\"3.00000e+00\",\"4.00000e+00\",\"5.00000e+00\",\"3.00000e+00\",\"3.00000e+00\",\"3.00000e+00\",\"2.00000e+00\",\"3.00000e+00\",\"6.00000e+00\",\"2.00000e+00\",\"3.00000e+00\",\"NA\",\"3.00000e+00\",\"3.00000e+00\",\"NA\",\"6.00000e+00\",\"3.00000e+00\",\"2.00000e+00\",\"1.00000e+00\",\"3.00000e+00\",\"2.00000e+00\",\"2.00000e+00\",\"2.00000e+00\",\"3.00000e+00\",\"2.00000e+00\",\"2.00000e+00\",\"2.00000e+00\",\"2.00000e+00\",\"NA\",\"2.00000e+00\",\"3.00000e+00\",\"1.00000e+00\",\"4.00000e+00\",\"NA\",\"6.00000e+00\",\"2.00000e+00\",\"3.00000e+00\",\"6.00000e+00\",\"2.00000e+00\",\"3.00000e+00\",\"3.00000e+00\",\"3.00000e+00\",\"3.00000e+00\",\"3.00000e+00\",\"3.00000e+00\",\"1.00000e+00\",\"3.00000e+00\",\"2.00000e+00\",\"3.00000e+00\",\"3.00000e+00\",\"NA\",\"1.00000e+00\",\"3.00000e+00\",\"3.00000e+00\",\"2.00000e+00\",\"2.00000e+00\",\"NA\",\"3.00000e+00\",\"2.00000e+00\",\"2.00000e+00\",\"2.00000e+00\",\"6.00000e+00\",\"3.00000e+00\",\"2.00000e+00\",\"1.00000e+00\",\"3.00000e+00\",\"1.00000e+00\",\"3.00000e+00\",\"2.00000e+00\",\"6.00000e+00\",\"4.00000e+00\",\"3.00000e+00\",\"6.00000e+00\",\"4.00000e+00\",\"4.00000e+00\",\"6.00000e+00\",\"3.00000e+00\",\"3.00000e+00\",\"3.00000e+00\",\"2.00000e+00\",\"1.00000e+00\",\"3.00000e+00\",\"2.00000e+00\",\"NA\",\"6.00000e+00\",\"3.00000e+00\",\"4.00000e+00\",\"4.00000e+00\",\"2.00000e+00\",\"3.00000e+00\",\"1.00000e+00\",\"3.00000e+00\",\"1.00000e+00\",\"2.00000e+00\",\"NA\",\"4.00000e+00\",\"2.00000e+00\",\"3.00000e+00\",\"3.00000e+00\",\"1.00000e+00\",\"3.00000e+00\",\"1.00000e+00\",\"4.00000e+00\",\"NA\",\"2.00000e+00\",\"3.00000e+00\",\"5.00000e+00\",\"3.00000e+00\",\"4.00000e+00\",\"6.00000e+00\",\"2.00000e+00\",\"2.00000e+00\",\"3.00000e+00\",\"3.00000e+00\",\"NA\",\"1.00000e+00\",\"6.00000e+00\",\"5.00000e+00\",\"2.00000e+00\",\"3.00000e+00\",\"3.00000e+00\",\"1.00000e+00\",\"NA\",\"2.00000e+00\",\"2.00000e+00\",\"1.00000e+00\",\"3.00000e+00\",\"NA\",\"3.00000e+00\",\"1.00000e+00\",\"3.00000e+00\",\"6.00000e+00\",\"1.00000e+00\",\"1.00000e+00\",\"2.00000e+00\",\"3.00000e+00\",\"1.00000e+00\",\"4.00000e+00\",\"2.00000e+00\",\"2.00000e+00\",\"2.00000e+00\",\"3.00000e+00\",\"3.00000e+00\",\"3.00000e+00\",\"3.00000e+00\",\"5.00000e+00\",\"3.00000e+00\",\"3.00000e+00\",\"4.00000e+00\",\"3.00000e+00\",\"6.00000e+00\",\"3.00000e+00\",\"2.00000e+00\",\"3.00000e+00\",\"3.00000e+00\",\"6.00000e+00\",\"2.00000e+00\",\"2.00000e+00\",\"2.00000e+00\",\"5.00000e+00\",\"2.00000e+00\",\"6.00000e+00\",\"1.00000e+00\",\"3.00000e+00\",\"3.00000e+00\",\"3.00000e+00\",\"3.00000e+00\",\"1.00000e+00\",\"1.00000e+00\",\"1.00000e+00\",\"5.00000e+00\",\"2.00000e+00\",\"1.00000e+00\",\"3.00000e+00\",\"2.00000e+00\",\"1.00000e+00\",\"3.00000e+00\",\"NA\",\"3.00000e+00\",\"6.00000e+00\",\"3.00000e+00\",\"3.00000e+00\",\"1.00000e+00\",\"3.00000e+00\",\"1.00000e+00\",\"3.00000e+00\",\"3.00000e+00\",\"6.00000e+00\",\"6.00000e+00\",\"4.00000e+00\",\"3.00000e+00\",\"3.00000e+00\",\"1.00000e+00\",\"3.00000e+00\",\"3.00000e+00\",\"2.00000e+00\",\"2.00000e+00\",\"NA\",\"3.00000e+00\",\"2.00000e+00\",\"3.00000e+00\",\"3.00000e+00\",\"5.00000e+00\",\"2.00000e+00\",\"NA\",\"2.00000e+00\",\"6.00000e+00\",\"3.00000e+00\",\"2.00000e+00\",\"3.00000e+00\",\"3.00000e+00\",\"4.00000e+00\",\"1.00000e+00\",\"3.00000e+00\",\"3.00000e+00\",\"3.00000e+00\",\"2.00000e+00\",\"6.00000e+00\",\"3.00000e+00\",\"3.00000e+00\",\"2.00000e+00\",\"2.00000e+00\",\"3.00000e+00\",\"3.00000e+00\",\"2.00000e+00\",\"NA\",\"5.00000e+00\",\"3.00000e+00\",\"1.00000e+00\",\"6.00000e+00\",\"1.00000e+00\",\"2.00000e+00\",\"3.00000e+00\",\"3.00000e+00\",\"2.00000e+00\",\"2.00000e+00\",\"3.00000e+00\",\"2.00000e+00\",\"3.00000e+00\",\"1.00000e+00\",\"1.00000e+00\",\"2.00000e+00\",\"6.00000e+00\",\"4.00000e+00\",\"3.00000e+00\",\"1.00000e+00\",\"1.00000e+00\",\"6.00000e+00\",\"1.00000e+00\",\"6.00000e+00\",\"3.00000e+00\",\"3.00000e+00\",\"3.00000e+00\",\"2.00000e+00\",\"NA\",\"3.00000e+00\",\"3.00000e+00\",\"3.00000e+00\",\"3.00000e+00\",\"6.00000e+00\",\"5.00000e+00\",\"3.00000e+00\",\"3.00000e+00\",\"1.00000e+00\",\"3.00000e+00\",\"2.00000e+00\",\"3.00000e+00\",\"3.00000e+00\",\"3.00000e+00\",\"1.00000e+00\",\"3.00000e+00\",\"6.00000e+00\",\"3.00000e+00\",\"3.00000e+00\",\"3.00000e+00\",\"3.00000e+00\",\"NA\",\"2.00000e+00\",\"2.00000e+00\",\"3.00000e+00\",\"3.00000e+00\",\"NA\",\"6.00000e+00\",\"1.00000e+00\",\"3.00000e+00\",\"NA\",\"3.00000e+00\",\"5.00000e+00\",\"3.00000e+00\",\"1.00000e+00\",\"NA\",\"3.00000e+00\",\"NA\",\"6.00000e+00\",\"3.00000e+00\",\"5.00000e+00\",\"NA\",\"NA\",\"3.00000e+00\",\"2.00000e+00\",\"3.00000e+00\"],\"x\":{\"__ndarray__\":\"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\",\"dtype\":\"float64\",\"shape\":[411]},\"y\":{\"__ndarray__\":\"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\",\"dtype\":\"float64\",\"shape\":[411]}},\"selected\":{\"id\":\"1692\",\"type\":\"Selection\"},\"selection_policy\":{\"id\":\"1691\",\"type\":\"UnionRenderers\"}},\"id\":\"1595\",\"type\":\"ColumnDataSource\"},{\"attributes\":{\"fill_color\":{\"field\":\"label\",\"transform\":{\"id\":\"1596\",\"type\":\"CategoricalColorMapper\"}},\"line_color\":{\"field\":\"label\",\"transform\":{\"id\":\"1596\",\"type\":\"CategoricalColorMapper\"}},\"x\":{\"field\":\"x\"},\"y\":{\"field\":\"y\"}},\"id\":\"1636\",\"type\":\"Circle\"},{\"attributes\":{\"label\":{\"value\":\"1.00000e+00\"},\"renderers\":[{\"id\":\"1602\",\"type\":\"GlyphRenderer\"}]},\"id\":\"1639\",\"type\":\"LegendItem\"},{\"attributes\":{\"label\":{\"value\":\"NA\"},\"renderers\":[{\"id\":\"1638\",\"type\":\"GlyphRenderer\"}]},\"id\":\"1645\",\"type\":\"LegendItem\"},{\"attributes\":{\"color_mapper\":null,\"formatter\":{\"id\":\"1690\",\"type\":\"BasicTickFormatter\"},\"ticker\":{\"id\":\"1689\",\"type\":\"BasicTicker\"},\"visible\":false},\"id\":\"1647\",\"type\":\"ColorBar\"},{\"attributes\":{},\"id\":\"1576\",\"type\":\"BasicTicker\"},{\"attributes\":{\"label\":{\"value\":\"4.00000e+00\"},\"renderers\":[{\"id\":\"1620\",\"type\":\"GlyphRenderer\"}]},\"id\":\"1642\",\"type\":\"LegendItem\"},{\"attributes\":{\"factors\":[\"6.00000e+00\",\"2.00000e+00\",\"5.00000e+00\",\"1.00000e+00\",\"3.00000e+00\",\"NA\",\"4.00000e+00\"],\"palette\":[\"#1f77b4\",\"#ff7f0e\",\"#2ca02c\",\"#d62728\",\"#9467bd\",\"#8c564b\",\"#e377c2\",\"#7f7f7f\",\"#bcbd22\",\"#17becf\"]},\"id\":\"1596\",\"type\":\"CategoricalColorMapper\"},{\"attributes\":{\"filters\":[{\"id\":\"1597\",\"type\":\"GroupFilter\"}],\"source\":{\"id\":\"1595\",\"type\":\"ColumnDataSource\"}},\"id\":\"1598\",\"type\":\"CDSView\"},{\"attributes\":{\"filters\":[{\"id\":\"1603\",\"type\":\"GroupFilter\"}],\"source\":{\"id\":\"1595\",\"type\":\"ColumnDataSource\"}},\"id\":\"1604\",\"type\":\"CDSView\"},{\"attributes\":{\"filters\":[{\"id\":\"1615\",\"type\":\"GroupFilter\"}],\"source\":{\"id\":\"1595\",\"type\":\"ColumnDataSource\"}},\"id\":\"1616\",\"type\":\"CDSView\"},{\"attributes\":{},\"id\":\"1581\",\"type\":\"WheelZoomTool\"},{\"attributes\":{\"fill_alpha\":{\"value\":0.1},\"fill_color\":{\"value\":\"#1f77b4\"},\"line_alpha\":{\"value\":0.1},\"line_color\":{\"value\":\"#1f77b4\"},\"x\":{\"field\":\"x\"},\"y\":{\"field\":\"y\"}},\"id\":\"1619\",\"type\":\"Circle\"},{\"attributes\":{},\"id\":\"1585\",\"type\":\"HelpTool\"},{\"attributes\":{},\"id\":\"1571\",\"type\":\"BasicTicker\"},{\"attributes\":{},\"id\":\"1690\",\"type\":\"BasicTickFormatter\"},{\"attributes\":{\"active_drag\":\"auto\",\"active_inspect\":\"auto\",\"active_multi\":null,\"active_scroll\":\"auto\",\"active_tap\":\"auto\",\"tools\":[{\"id\":\"1580\",\"type\":\"PanTool\"},{\"id\":\"1581\",\"type\":\"WheelZoomTool\"},{\"id\":\"1582\",\"type\":\"BoxZoomTool\"},{\"id\":\"1583\",\"type\":\"SaveTool\"},{\"id\":\"1584\",\"type\":\"ResetTool\"},{\"id\":\"1585\",\"type\":\"HelpTool\"},{\"id\":\"1594\",\"type\":\"HoverTool\"}]},\"id\":\"1586\",\"type\":\"Toolbar\"},{\"attributes\":{\"column_name\":\"label\",\"group\":\"6.00000e+00\"},\"id\":\"1627\",\"type\":\"GroupFilter\"},{\"attributes\":{\"fill_alpha\":{\"value\":0.1},\"fill_color\":{\"value\":\"#1f77b4\"},\"line_alpha\":{\"value\":0.1},\"line_color\":{\"value\":\"#1f77b4\"},\"x\":{\"field\":\"x\"},\"y\":{\"field\":\"y\"}},\"id\":\"1613\",\"type\":\"Circle\"},{\"attributes\":{\"column_name\":\"label\",\"group\":\"1.00000e+00\"},\"id\":\"1597\",\"type\":\"GroupFilter\"},{\"attributes\":{\"fill_color\":{\"field\":\"label\",\"transform\":{\"id\":\"1596\",\"type\":\"CategoricalColorMapper\"}},\"line_color\":{\"field\":\"label\",\"transform\":{\"id\":\"1596\",\"type\":\"CategoricalColorMapper\"}},\"x\":{\"field\":\"x\"},\"y\":{\"field\":\"y\"}},\"id\":\"1612\",\"type\":\"Circle\"},{\"attributes\":{\"filters\":[{\"id\":\"1633\",\"type\":\"GroupFilter\"}],\"source\":{\"id\":\"1595\",\"type\":\"ColumnDataSource\"}},\"id\":\"1634\",\"type\":\"CDSView\"},{\"attributes\":{},\"id\":\"1566\",\"type\":\"LinearScale\"},{\"attributes\":{\"data_source\":{\"id\":\"1595\",\"type\":\"ColumnDataSource\"},\"glyph\":{\"id\":\"1618\",\"type\":\"Circle\"},\"hover_glyph\":null,\"muted_glyph\":null,\"nonselection_glyph\":{\"id\":\"1619\",\"type\":\"Circle\"},\"selection_glyph\":null,\"view\":{\"id\":\"1616\",\"type\":\"CDSView\"}},\"id\":\"1620\",\"type\":\"GlyphRenderer\"},{\"attributes\":{\"label\":{\"value\":\"2.00000e+00\"},\"renderers\":[{\"id\":\"1608\",\"type\":\"GlyphRenderer\"}]},\"id\":\"1640\",\"type\":\"LegendItem\"},{\"attributes\":{\"fill_color\":{\"field\":\"label\",\"transform\":{\"id\":\"1596\",\"type\":\"CategoricalColorMapper\"}},\"line_color\":{\"field\":\"label\",\"transform\":{\"id\":\"1596\",\"type\":\"CategoricalColorMapper\"}},\"x\":{\"field\":\"x\"},\"y\":{\"field\":\"y\"}},\"id\":\"1606\",\"type\":\"Circle\"},{\"attributes\":{},\"id\":\"1568\",\"type\":\"LinearScale\"}],\"root_ids\":[\"1559\"]},\"title\":\"Bokeh Application\",\"version\":\"1.2.0\"}};\n",
       "  var render_items = [{\"docid\":\"94841470-b75d-4676-b881-a4b7407c43ce\",\"roots\":{\"1559\":\"e444429c-bb92-45b0-8afb-b610ceca0311\"}}];\n",
       "  root.Bokeh.embed.embed_items_notebook(docs_json, render_items);\n",
       "\n",
       "  }\n",
       "  if (root.Bokeh !== undefined) {\n",
       "    embed_document(root);\n",
       "  } else {\n",
       "    var attempts = 0;\n",
       "    var timer = setInterval(function(root) {\n",
       "      if (root.Bokeh !== undefined) {\n",
       "        embed_document(root);\n",
       "        clearInterval(timer);\n",
       "      }\n",
       "      attempts++;\n",
       "      if (attempts > 100) {\n",
       "        console.log(\"Bokeh: ERROR: Unable to run BokehJS code because BokehJS library is missing\");\n",
       "        clearInterval(timer);\n",
       "      }\n",
       "    }, 10, root)\n",
       "  }\n",
       "})(window);"
      ],
      "application/vnd.bokehjs_exec.v0+json": ""
     },
     "metadata": {
      "application/vnd.bokehjs_exec.v0+json": {
       "id": "1559"
      }
     },
     "output_type": "display_data"
    }
   ],
   "source": [
    "p = hl.plot.scatter(no_outerliers_mt.scores[0],\n",
    "                    no_outerliers_mt.scores[1],\n",
    "                    label=hl.str(no_outerliers_mt.birthplace),\n",
    "                    title='PCA', xlabel='PC1', ylabel='PC2')\n",
    "p.plot_width = 800\n",
    "p.plot_height = 600\n",
    "show(p)"
   ]
  },
  {
   "cell_type": "markdown",
   "metadata": {},
   "source": [
    "Region number | Region name(s)\n",
    "-----|-----\n",
    "1 | Norðoyggjar\n",
    "2 | Eysturoy og Norðstreymoy\n",
    "3 | Suðurstreymoy\n",
    "4 | Vágar og Mykines\n",
    "5 | Sandoy, Skúvoy, Stóra Dímun\n",
    "6 | Suðuroy"
   ]
  },
  {
   "cell_type": "markdown",
   "metadata": {},
   "source": [
    "From this PCA, it looks like there is very little population structure. But I'm not so convinced, I see this as a failure to detect population structure, not a success to show that there is no population structure."
   ]
  },
  {
   "cell_type": "markdown",
   "metadata": {},
   "source": [
    "## Remove the capital region"
   ]
  },
  {
   "cell_type": "code",
   "execution_count": 37,
   "metadata": {},
   "outputs": [],
   "source": [
    "filter_central_mt = no_outerliers_mt.filter_cols(no_outerliers_mt.birthplace != 3)"
   ]
  },
  {
   "cell_type": "code",
   "execution_count": 38,
   "metadata": {},
   "outputs": [
    {
     "name": "stderr",
     "output_type": "stream",
     "text": [
      "2021-05-13 09:56:14 Hail: INFO: Ordering unsorted dataset with network shuffle\n",
      "2021-05-13 09:56:14 Hail: INFO: Ordering unsorted dataset with network shuffle\n",
      "2021-05-13 09:56:15 Hail: INFO: Coerced sorted dataset\n",
      "2021-05-13 09:56:15 Hail: INFO: Ordering unsorted dataset with network shuffle\n",
      "2021-05-13 09:56:17 Hail: INFO: hwe_normalized_pca: running PCA using 39986 variants.\n",
      "2021-05-13 09:56:17 Hail: INFO: Ordering unsorted dataset with network shuffle\n",
      "2021-05-13 09:56:17 Hail: INFO: Ordering unsorted dataset with network shuffle\n",
      "2021-05-13 09:56:19 Hail: INFO: Coerced sorted dataset\n",
      "2021-05-13 09:56:19 Hail: INFO: Ordering unsorted dataset with network shuffle\n",
      "2021-05-13 09:56:22 Hail: INFO: pca: running PCA with 2 components...\n"
     ]
    }
   ],
   "source": [
    "eigenvalues, scores, loadings = hl.hwe_normalized_pca(filter_central_mt.GT, k=2)"
   ]
  },
  {
   "cell_type": "code",
   "execution_count": 39,
   "metadata": {},
   "outputs": [],
   "source": [
    "filter_central_mt = filter_central_mt.annotate_cols(scores = scores[filter_central_mt.s].scores)"
   ]
  },
  {
   "cell_type": "code",
   "execution_count": 40,
   "metadata": {},
   "outputs": [
    {
     "name": "stderr",
     "output_type": "stream",
     "text": [
      "2021-05-13 09:56:40 Hail: INFO: Ordering unsorted dataset with network shuffle\n",
      "2021-05-13 09:56:40 Hail: INFO: Ordering unsorted dataset with network shuffle\n",
      "2021-05-13 09:56:41 Hail: INFO: Coerced sorted dataset\n",
      "2021-05-13 09:56:41 Hail: INFO: Ordering unsorted dataset with network shuffle\n"
     ]
    },
    {
     "data": {
      "text/html": [
       "\n",
       "\n",
       "\n",
       "\n",
       "\n",
       "\n",
       "  <div class=\"bk-root\" id=\"7fd507a6-6f1b-4660-af82-c2419d8f53d3\" data-root-id=\"1754\"></div>\n"
      ]
     },
     "metadata": {},
     "output_type": "display_data"
    },
    {
     "data": {
      "application/javascript": [
       "(function(root) {\n",
       "  function embed_document(root) {\n",
       "    \n",
       "  var docs_json = {\"fec97067-2437-47ac-b577-5a39ebfbaf1c\":{\"roots\":{\"references\":[{\"attributes\":{\"below\":[{\"id\":\"1765\",\"type\":\"LinearAxis\"}],\"center\":[{\"id\":\"1769\",\"type\":\"Grid\"},{\"id\":\"1774\",\"type\":\"Grid\"}],\"left\":[{\"id\":\"1770\",\"type\":\"LinearAxis\"},{\"id\":\"1827\",\"type\":\"Legend\"},{\"id\":\"1828\",\"type\":\"ColorBar\"}],\"plot_height\":600,\"plot_width\":800,\"renderers\":[{\"id\":\"1797\",\"type\":\"GlyphRenderer\"},{\"id\":\"1803\",\"type\":\"GlyphRenderer\"},{\"id\":\"1809\",\"type\":\"GlyphRenderer\"},{\"id\":\"1815\",\"type\":\"GlyphRenderer\"},{\"id\":\"1821\",\"type\":\"GlyphRenderer\"}],\"title\":{\"id\":\"1755\",\"type\":\"Title\"},\"toolbar\":{\"id\":\"1781\",\"type\":\"Toolbar\"},\"x_range\":{\"id\":\"1757\",\"type\":\"DataRange1d\"},\"x_scale\":{\"id\":\"1761\",\"type\":\"LinearScale\"},\"y_range\":{\"id\":\"1759\",\"type\":\"DataRange1d\"},\"y_scale\":{\"id\":\"1763\",\"type\":\"LinearScale\"}},\"id\":\"1754\",\"subtype\":\"Figure\",\"type\":\"Plot\"},{\"attributes\":{\"bottom_units\":\"screen\",\"fill_alpha\":{\"value\":0.5},\"fill_color\":{\"value\":\"lightgrey\"},\"left_units\":\"screen\",\"level\":\"overlay\",\"line_alpha\":{\"value\":1.0},\"line_color\":{\"value\":\"black\"},\"line_dash\":[4,4],\"line_width\":{\"value\":2},\"render_mode\":\"css\",\"right_units\":\"screen\",\"top_units\":\"screen\"},\"id\":\"1884\",\"type\":\"BoxAnnotation\"},{\"attributes\":{\"callback\":null,\"data\":{\"index\":[0,1,2,3,4,5,6,7,8,9,10,11,12,13,14,15,16,17,18,19,20,21,22,23,24,25,26,27,28,29,30,31,32,33,34,35,36,37,38,39,40,41,42,43,44,45,46,47,48,49,50,51,52,53,54,55,56,57,58,59,60,61,62,63,64,65,66,67,68,69,70,71,72,73,74,75,76,77,78,79,80,81,82,83,84,85,86,87,88,89,90,91,92,93,94,95,96,97,98,99,100,101,102,103,104,105,106,107,108,109,110,111,112,113,114,115,116,117,118,119,120,121,122,123,124,125,126,127,128,129,130,131,132,133,134,135,136,137,138,139,140,141,142,143,144,145,146,147,148,149,150,151,152,153,154,155,156,157,158,159,160,161,162,163,164,165,166,167,168,169,170,171,172,173,174,175,176,177,178,179,180,181,182,183,184,185,186,187,188,189,190,191,192,193,194,195,196,197,198,199,200,201,202,203,204,205,206,207,208,209,210,211,212,213,214,215,216,217,218],\"label\":[\"1.00000e+00\",\"4.00000e+00\",\"1.00000e+00\",\"2.00000e+00\",\"4.00000e+00\",\"1.00000e+00\",\"4.00000e+00\",\"4.00000e+00\",\"4.00000e+00\",\"1.00000e+00\",\"1.00000e+00\",\"2.00000e+00\",\"4.00000e+00\",\"1.00000e+00\",\"1.00000e+00\",\"1.00000e+00\",\"2.00000e+00\",\"2.00000e+00\",\"6.00000e+00\",\"2.00000e+00\",\"1.00000e+00\",\"1.00000e+00\",\"6.00000e+00\",\"2.00000e+00\",\"5.00000e+00\",\"1.00000e+00\",\"4.00000e+00\",\"2.00000e+00\",\"4.00000e+00\",\"4.00000e+00\",\"5.00000e+00\",\"1.00000e+00\",\"2.00000e+00\",\"6.00000e+00\",\"4.00000e+00\",\"2.00000e+00\",\"2.00000e+00\",\"4.00000e+00\",\"5.00000e+00\",\"2.00000e+00\",\"2.00000e+00\",\"2.00000e+00\",\"1.00000e+00\",\"1.00000e+00\",\"2.00000e+00\",\"1.00000e+00\",\"2.00000e+00\",\"1.00000e+00\",\"2.00000e+00\",\"2.00000e+00\",\"2.00000e+00\",\"2.00000e+00\",\"2.00000e+00\",\"2.00000e+00\",\"2.00000e+00\",\"2.00000e+00\",\"4.00000e+00\",\"2.00000e+00\",\"6.00000e+00\",\"2.00000e+00\",\"2.00000e+00\",\"2.00000e+00\",\"2.00000e+00\",\"2.00000e+00\",\"4.00000e+00\",\"6.00000e+00\",\"6.00000e+00\",\"2.00000e+00\",\"1.00000e+00\",\"2.00000e+00\",\"2.00000e+00\",\"2.00000e+00\",\"2.00000e+00\",\"1.00000e+00\",\"5.00000e+00\",\"2.00000e+00\",\"6.00000e+00\",\"6.00000e+00\",\"2.00000e+00\",\"1.00000e+00\",\"2.00000e+00\",\"2.00000e+00\",\"1.00000e+00\",\"6.00000e+00\",\"4.00000e+00\",\"1.00000e+00\",\"1.00000e+00\",\"2.00000e+00\",\"2.00000e+00\",\"2.00000e+00\",\"2.00000e+00\",\"4.00000e+00\",\"2.00000e+00\",\"2.00000e+00\",\"6.00000e+00\",\"4.00000e+00\",\"4.00000e+00\",\"2.00000e+00\",\"6.00000e+00\",\"1.00000e+00\",\"2.00000e+00\",\"2.00000e+00\",\"4.00000e+00\",\"2.00000e+00\",\"2.00000e+00\",\"2.00000e+00\",\"4.00000e+00\",\"2.00000e+00\",\"4.00000e+00\",\"2.00000e+00\",\"2.00000e+00\",\"1.00000e+00\",\"2.00000e+00\",\"2.00000e+00\",\"2.00000e+00\",\"1.00000e+00\",\"4.00000e+00\",\"5.00000e+00\",\"2.00000e+00\",\"1.00000e+00\",\"6.00000e+00\",\"6.00000e+00\",\"1.00000e+00\",\"1.00000e+00\",\"1.00000e+00\",\"2.00000e+00\",\"1.00000e+00\",\"4.00000e+00\",\"1.00000e+00\",\"2.00000e+00\",\"6.00000e+00\",\"2.00000e+00\",\"2.00000e+00\",\"6.00000e+00\",\"1.00000e+00\",\"6.00000e+00\",\"6.00000e+00\",\"2.00000e+00\",\"2.00000e+00\",\"1.00000e+00\",\"6.00000e+00\",\"4.00000e+00\",\"5.00000e+00\",\"5.00000e+00\",\"1.00000e+00\",\"6.00000e+00\",\"2.00000e+00\",\"6.00000e+00\",\"1.00000e+00\",\"2.00000e+00\",\"1.00000e+00\",\"5.00000e+00\",\"6.00000e+00\",\"2.00000e+00\",\"2.00000e+00\",\"1.00000e+00\",\"1.00000e+00\",\"2.00000e+00\",\"4.00000e+00\",\"1.00000e+00\",\"5.00000e+00\",\"6.00000e+00\",\"5.00000e+00\",\"1.00000e+00\",\"2.00000e+00\",\"4.00000e+00\",\"1.00000e+00\",\"2.00000e+00\",\"2.00000e+00\",\"1.00000e+00\",\"2.00000e+00\",\"2.00000e+00\",\"2.00000e+00\",\"2.00000e+00\",\"2.00000e+00\",\"2.00000e+00\",\"1.00000e+00\",\"1.00000e+00\",\"6.00000e+00\",\"2.00000e+00\",\"2.00000e+00\",\"6.00000e+00\",\"1.00000e+00\",\"2.00000e+00\",\"2.00000e+00\",\"2.00000e+00\",\"6.00000e+00\",\"6.00000e+00\",\"5.00000e+00\",\"1.00000e+00\",\"2.00000e+00\",\"1.00000e+00\",\"1.00000e+00\",\"1.00000e+00\",\"1.00000e+00\",\"2.00000e+00\",\"4.00000e+00\",\"2.00000e+00\",\"1.00000e+00\",\"6.00000e+00\",\"2.00000e+00\",\"5.00000e+00\",\"6.00000e+00\",\"6.00000e+00\",\"6.00000e+00\",\"6.00000e+00\",\"1.00000e+00\",\"1.00000e+00\",\"2.00000e+00\",\"6.00000e+00\",\"2.00000e+00\",\"2.00000e+00\",\"5.00000e+00\",\"6.00000e+00\",\"1.00000e+00\",\"1.00000e+00\",\"5.00000e+00\",\"6.00000e+00\",\"2.00000e+00\"],\"x\":{\"__ndarray__\":\"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\",\"dtype\":\"float64\",\"shape\":[219]},\"y\":{\"__ndarray__\":\"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\",\"dtype\":\"float64\",\"shape\":[219]}},\"selected\":{\"id\":\"1883\",\"type\":\"Selection\"},\"selection_policy\":{\"id\":\"1882\",\"type\":\"UnionRenderers\"}},\"id\":\"1790\",\"type\":\"ColumnDataSource\"},{\"attributes\":{},\"id\":\"1877\",\"type\":\"BasicTickFormatter\"},{\"attributes\":{\"color_mapper\":null,\"formatter\":{\"id\":\"1881\",\"type\":\"BasicTickFormatter\"},\"ticker\":{\"id\":\"1880\",\"type\":\"BasicTicker\"},\"visible\":false},\"id\":\"1828\",\"type\":\"ColorBar\"},{\"attributes\":{\"fill_color\":{\"field\":\"label\",\"transform\":{\"id\":\"1791\",\"type\":\"CategoricalColorMapper\"}},\"line_color\":{\"field\":\"label\",\"transform\":{\"id\":\"1791\",\"type\":\"CategoricalColorMapper\"}},\"x\":{\"field\":\"x\"},\"y\":{\"field\":\"y\"}},\"id\":\"1795\",\"type\":\"Circle\"},{\"attributes\":{},\"id\":\"1880\",\"type\":\"BasicTicker\"},{\"attributes\":{},\"id\":\"1780\",\"type\":\"HelpTool\"},{\"attributes\":{},\"id\":\"1766\",\"type\":\"BasicTicker\"},{\"attributes\":{\"column_name\":\"label\",\"group\":\"2.00000e+00\"},\"id\":\"1798\",\"type\":\"GroupFilter\"},{\"attributes\":{\"fill_alpha\":{\"value\":0.1},\"fill_color\":{\"value\":\"#1f77b4\"},\"line_alpha\":{\"value\":0.1},\"line_color\":{\"value\":\"#1f77b4\"},\"x\":{\"field\":\"x\"},\"y\":{\"field\":\"y\"}},\"id\":\"1802\",\"type\":\"Circle\"},{\"attributes\":{},\"id\":\"1775\",\"type\":\"PanTool\"},{\"attributes\":{\"factors\":[\"6.00000e+00\",\"2.00000e+00\",\"5.00000e+00\",\"1.00000e+00\",\"4.00000e+00\"],\"palette\":[\"#1f77b4\",\"#ff7f0e\",\"#2ca02c\",\"#d62728\",\"#9467bd\",\"#8c564b\",\"#e377c2\",\"#7f7f7f\",\"#bcbd22\",\"#17becf\"]},\"id\":\"1791\",\"type\":\"CategoricalColorMapper\"},{\"attributes\":{\"text\":\"PCA\"},\"id\":\"1755\",\"type\":\"Title\"},{\"attributes\":{\"fill_color\":{\"field\":\"label\",\"transform\":{\"id\":\"1791\",\"type\":\"CategoricalColorMapper\"}},\"line_color\":{\"field\":\"label\",\"transform\":{\"id\":\"1791\",\"type\":\"CategoricalColorMapper\"}},\"x\":{\"field\":\"x\"},\"y\":{\"field\":\"y\"}},\"id\":\"1807\",\"type\":\"Circle\"},{\"attributes\":{\"overlay\":{\"id\":\"1884\",\"type\":\"BoxAnnotation\"}},\"id\":\"1777\",\"type\":\"BoxZoomTool\"},{\"attributes\":{\"label\":{\"value\":\"2.00000e+00\"},\"renderers\":[{\"id\":\"1803\",\"type\":\"GlyphRenderer\"}]},\"id\":\"1823\",\"type\":\"LegendItem\"},{\"attributes\":{},\"id\":\"1879\",\"type\":\"BasicTickFormatter\"},{\"attributes\":{\"fill_alpha\":{\"value\":0.1},\"fill_color\":{\"value\":\"#1f77b4\"},\"line_alpha\":{\"value\":0.1},\"line_color\":{\"value\":\"#1f77b4\"},\"x\":{\"field\":\"x\"},\"y\":{\"field\":\"y\"}},\"id\":\"1796\",\"type\":\"Circle\"},{\"attributes\":{\"label\":{\"value\":\"6.00000e+00\"},\"renderers\":[{\"id\":\"1821\",\"type\":\"GlyphRenderer\"}]},\"id\":\"1826\",\"type\":\"LegendItem\"},{\"attributes\":{\"column_name\":\"label\",\"group\":\"4.00000e+00\"},\"id\":\"1804\",\"type\":\"GroupFilter\"},{\"attributes\":{\"filters\":[{\"id\":\"1810\",\"type\":\"GroupFilter\"}],\"source\":{\"id\":\"1790\",\"type\":\"ColumnDataSource\"}},\"id\":\"1811\",\"type\":\"CDSView\"},{\"attributes\":{\"active_drag\":\"auto\",\"active_inspect\":\"auto\",\"active_multi\":null,\"active_scroll\":\"auto\",\"active_tap\":\"auto\",\"tools\":[{\"id\":\"1775\",\"type\":\"PanTool\"},{\"id\":\"1776\",\"type\":\"WheelZoomTool\"},{\"id\":\"1777\",\"type\":\"BoxZoomTool\"},{\"id\":\"1778\",\"type\":\"SaveTool\"},{\"id\":\"1779\",\"type\":\"ResetTool\"},{\"id\":\"1780\",\"type\":\"HelpTool\"},{\"id\":\"1789\",\"type\":\"HoverTool\"}]},\"id\":\"1781\",\"type\":\"Toolbar\"},{\"attributes\":{\"filters\":[{\"id\":\"1804\",\"type\":\"GroupFilter\"}],\"source\":{\"id\":\"1790\",\"type\":\"ColumnDataSource\"}},\"id\":\"1805\",\"type\":\"CDSView\"},{\"attributes\":{},\"id\":\"1883\",\"type\":\"Selection\"},{\"attributes\":{},\"id\":\"1771\",\"type\":\"BasicTicker\"},{\"attributes\":{\"label\":{\"value\":\"1.00000e+00\"},\"renderers\":[{\"id\":\"1797\",\"type\":\"GlyphRenderer\"}]},\"id\":\"1822\",\"type\":\"LegendItem\"},{\"attributes\":{},\"id\":\"1763\",\"type\":\"LinearScale\"},{\"attributes\":{},\"id\":\"1882\",\"type\":\"UnionRenderers\"},{\"attributes\":{\"label\":{\"value\":\"4.00000e+00\"},\"renderers\":[{\"id\":\"1809\",\"type\":\"GlyphRenderer\"}]},\"id\":\"1824\",\"type\":\"LegendItem\"},{\"attributes\":{\"callback\":null},\"id\":\"1759\",\"type\":\"DataRange1d\"},{\"attributes\":{\"fill_alpha\":{\"value\":0.1},\"fill_color\":{\"value\":\"#1f77b4\"},\"line_alpha\":{\"value\":0.1},\"line_color\":{\"value\":\"#1f77b4\"},\"x\":{\"field\":\"x\"},\"y\":{\"field\":\"y\"}},\"id\":\"1808\",\"type\":\"Circle\"},{\"attributes\":{\"callback\":null},\"id\":\"1757\",\"type\":\"DataRange1d\"},{\"attributes\":{\"axis_label\":\"PC1\",\"formatter\":{\"id\":\"1877\",\"type\":\"BasicTickFormatter\"},\"ticker\":{\"id\":\"1766\",\"type\":\"BasicTicker\"}},\"id\":\"1765\",\"type\":\"LinearAxis\"},{\"attributes\":{},\"id\":\"1778\",\"type\":\"SaveTool\"},{\"attributes\":{\"fill_color\":{\"field\":\"label\",\"transform\":{\"id\":\"1791\",\"type\":\"CategoricalColorMapper\"}},\"line_color\":{\"field\":\"label\",\"transform\":{\"id\":\"1791\",\"type\":\"CategoricalColorMapper\"}},\"x\":{\"field\":\"x\"},\"y\":{\"field\":\"y\"}},\"id\":\"1801\",\"type\":\"Circle\"},{\"attributes\":{},\"id\":\"1776\",\"type\":\"WheelZoomTool\"},{\"attributes\":{\"callback\":null,\"tooltips\":[[\"x\",\"@x\"],[\"y\",\"@y\"],[\"label\",\"@label\"]]},\"id\":\"1789\",\"type\":\"HoverTool\"},{\"attributes\":{\"data_source\":{\"id\":\"1790\",\"type\":\"ColumnDataSource\"},\"glyph\":{\"id\":\"1819\",\"type\":\"Circle\"},\"hover_glyph\":null,\"muted_glyph\":null,\"nonselection_glyph\":{\"id\":\"1820\",\"type\":\"Circle\"},\"selection_glyph\":null,\"view\":{\"id\":\"1817\",\"type\":\"CDSView\"}},\"id\":\"1821\",\"type\":\"GlyphRenderer\"},{\"attributes\":{\"fill_alpha\":{\"value\":0.1},\"fill_color\":{\"value\":\"#1f77b4\"},\"line_alpha\":{\"value\":0.1},\"line_color\":{\"value\":\"#1f77b4\"},\"x\":{\"field\":\"x\"},\"y\":{\"field\":\"y\"}},\"id\":\"1820\",\"type\":\"Circle\"},{\"attributes\":{},\"id\":\"1779\",\"type\":\"ResetTool\"},{\"attributes\":{\"data_source\":{\"id\":\"1790\",\"type\":\"ColumnDataSource\"},\"glyph\":{\"id\":\"1807\",\"type\":\"Circle\"},\"hover_glyph\":null,\"muted_glyph\":null,\"nonselection_glyph\":{\"id\":\"1808\",\"type\":\"Circle\"},\"selection_glyph\":null,\"view\":{\"id\":\"1805\",\"type\":\"CDSView\"}},\"id\":\"1809\",\"type\":\"GlyphRenderer\"},{\"attributes\":{\"filters\":[{\"id\":\"1798\",\"type\":\"GroupFilter\"}],\"source\":{\"id\":\"1790\",\"type\":\"ColumnDataSource\"}},\"id\":\"1799\",\"type\":\"CDSView\"},{\"attributes\":{\"label\":{\"value\":\"5.00000e+00\"},\"renderers\":[{\"id\":\"1815\",\"type\":\"GlyphRenderer\"}]},\"id\":\"1825\",\"type\":\"LegendItem\"},{\"attributes\":{\"click_policy\":\"hide\",\"items\":[{\"id\":\"1822\",\"type\":\"LegendItem\"},{\"id\":\"1823\",\"type\":\"LegendItem\"},{\"id\":\"1824\",\"type\":\"LegendItem\"},{\"id\":\"1825\",\"type\":\"LegendItem\"},{\"id\":\"1826\",\"type\":\"LegendItem\"}]},\"id\":\"1827\",\"type\":\"Legend\"},{\"attributes\":{\"ticker\":{\"id\":\"1766\",\"type\":\"BasicTicker\"}},\"id\":\"1769\",\"type\":\"Grid\"},{\"attributes\":{\"data_source\":{\"id\":\"1790\",\"type\":\"ColumnDataSource\"},\"glyph\":{\"id\":\"1795\",\"type\":\"Circle\"},\"hover_glyph\":null,\"muted_glyph\":null,\"nonselection_glyph\":{\"id\":\"1796\",\"type\":\"Circle\"},\"selection_glyph\":null,\"view\":{\"id\":\"1793\",\"type\":\"CDSView\"}},\"id\":\"1797\",\"type\":\"GlyphRenderer\"},{\"attributes\":{\"column_name\":\"label\",\"group\":\"1.00000e+00\"},\"id\":\"1792\",\"type\":\"GroupFilter\"},{\"attributes\":{\"data_source\":{\"id\":\"1790\",\"type\":\"ColumnDataSource\"},\"glyph\":{\"id\":\"1801\",\"type\":\"Circle\"},\"hover_glyph\":null,\"muted_glyph\":null,\"nonselection_glyph\":{\"id\":\"1802\",\"type\":\"Circle\"},\"selection_glyph\":null,\"view\":{\"id\":\"1799\",\"type\":\"CDSView\"}},\"id\":\"1803\",\"type\":\"GlyphRenderer\"},{\"attributes\":{\"column_name\":\"label\",\"group\":\"5.00000e+00\"},\"id\":\"1810\",\"type\":\"GroupFilter\"},{\"attributes\":{\"dimension\":1,\"ticker\":{\"id\":\"1771\",\"type\":\"BasicTicker\"}},\"id\":\"1774\",\"type\":\"Grid\"},{\"attributes\":{\"filters\":[{\"id\":\"1792\",\"type\":\"GroupFilter\"}],\"source\":{\"id\":\"1790\",\"type\":\"ColumnDataSource\"}},\"id\":\"1793\",\"type\":\"CDSView\"},{\"attributes\":{\"filters\":[{\"id\":\"1816\",\"type\":\"GroupFilter\"}],\"source\":{\"id\":\"1790\",\"type\":\"ColumnDataSource\"}},\"id\":\"1817\",\"type\":\"CDSView\"},{\"attributes\":{},\"id\":\"1881\",\"type\":\"BasicTickFormatter\"},{\"attributes\":{\"fill_color\":{\"field\":\"label\",\"transform\":{\"id\":\"1791\",\"type\":\"CategoricalColorMapper\"}},\"line_color\":{\"field\":\"label\",\"transform\":{\"id\":\"1791\",\"type\":\"CategoricalColorMapper\"}},\"x\":{\"field\":\"x\"},\"y\":{\"field\":\"y\"}},\"id\":\"1819\",\"type\":\"Circle\"},{\"attributes\":{},\"id\":\"1761\",\"type\":\"LinearScale\"},{\"attributes\":{\"axis_label\":\"PC2\",\"formatter\":{\"id\":\"1879\",\"type\":\"BasicTickFormatter\"},\"ticker\":{\"id\":\"1771\",\"type\":\"BasicTicker\"}},\"id\":\"1770\",\"type\":\"LinearAxis\"},{\"attributes\":{\"fill_alpha\":{\"value\":0.1},\"fill_color\":{\"value\":\"#1f77b4\"},\"line_alpha\":{\"value\":0.1},\"line_color\":{\"value\":\"#1f77b4\"},\"x\":{\"field\":\"x\"},\"y\":{\"field\":\"y\"}},\"id\":\"1814\",\"type\":\"Circle\"},{\"attributes\":{\"column_name\":\"label\",\"group\":\"6.00000e+00\"},\"id\":\"1816\",\"type\":\"GroupFilter\"},{\"attributes\":{\"fill_color\":{\"field\":\"label\",\"transform\":{\"id\":\"1791\",\"type\":\"CategoricalColorMapper\"}},\"line_color\":{\"field\":\"label\",\"transform\":{\"id\":\"1791\",\"type\":\"CategoricalColorMapper\"}},\"x\":{\"field\":\"x\"},\"y\":{\"field\":\"y\"}},\"id\":\"1813\",\"type\":\"Circle\"},{\"attributes\":{\"data_source\":{\"id\":\"1790\",\"type\":\"ColumnDataSource\"},\"glyph\":{\"id\":\"1813\",\"type\":\"Circle\"},\"hover_glyph\":null,\"muted_glyph\":null,\"nonselection_glyph\":{\"id\":\"1814\",\"type\":\"Circle\"},\"selection_glyph\":null,\"view\":{\"id\":\"1811\",\"type\":\"CDSView\"}},\"id\":\"1815\",\"type\":\"GlyphRenderer\"}],\"root_ids\":[\"1754\"]},\"title\":\"Bokeh Application\",\"version\":\"1.2.0\"}};\n",
       "  var render_items = [{\"docid\":\"fec97067-2437-47ac-b577-5a39ebfbaf1c\",\"roots\":{\"1754\":\"7fd507a6-6f1b-4660-af82-c2419d8f53d3\"}}];\n",
       "  root.Bokeh.embed.embed_items_notebook(docs_json, render_items);\n",
       "\n",
       "  }\n",
       "  if (root.Bokeh !== undefined) {\n",
       "    embed_document(root);\n",
       "  } else {\n",
       "    var attempts = 0;\n",
       "    var timer = setInterval(function(root) {\n",
       "      if (root.Bokeh !== undefined) {\n",
       "        embed_document(root);\n",
       "        clearInterval(timer);\n",
       "      }\n",
       "      attempts++;\n",
       "      if (attempts > 100) {\n",
       "        console.log(\"Bokeh: ERROR: Unable to run BokehJS code because BokehJS library is missing\");\n",
       "        clearInterval(timer);\n",
       "      }\n",
       "    }, 10, root)\n",
       "  }\n",
       "})(window);"
      ],
      "application/vnd.bokehjs_exec.v0+json": ""
     },
     "metadata": {
      "application/vnd.bokehjs_exec.v0+json": {
       "id": "1754"
      }
     },
     "output_type": "display_data"
    }
   ],
   "source": [
    "p = hl.plot.scatter(filter_central_mt.scores[0],\n",
    "                    filter_central_mt.scores[1],\n",
    "                    label=hl.str(filter_central_mt.birthplace),\n",
    "                    title='PCA', xlabel='PC1', ylabel='PC2')\n",
    "p.plot_width = 800\n",
    "p.plot_height = 600\n",
    "show(p)"
   ]
  },
  {
   "cell_type": "code",
   "execution_count": null,
   "metadata": {},
   "outputs": [],
   "source": []
  }
 ],
 "metadata": {
  "kernelspec": {
   "display_name": "Python [conda env:fargen-1-exome]",
   "language": "python",
   "name": "conda-env-fargen-1-exome-py"
  },
  "language_info": {
   "codemirror_mode": {
    "name": "ipython",
    "version": 3
   },
   "file_extension": ".py",
   "mimetype": "text/x-python",
   "name": "python",
   "nbconvert_exporter": "python",
   "pygments_lexer": "ipython3",
   "version": "3.7.10"
  }
 },
 "nbformat": 4,
 "nbformat_minor": 4
}
