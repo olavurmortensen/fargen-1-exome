{
 "cells": [
  {
   "cell_type": "markdown",
   "metadata": {},
   "source": [
    "# Principal Component Analysis"
   ]
  },
  {
   "cell_type": "code",
   "execution_count": 1,
   "metadata": {},
   "outputs": [
    {
     "name": "stderr",
     "output_type": "stream",
     "text": [
      "Running on Apache Spark version 2.4.1\n",
      "SparkUI available at http://hms-beagle-848846b477-48ks9:4041\n",
      "Welcome to\n",
      "     __  __     <>__\n",
      "    / /_/ /__  __/ /\n",
      "   / __  / _ `/ / /\n",
      "  /_/ /_/\\_,_/_/_/   version 0.2.61-3c86d3ba497a\n",
      "LOGGING: writing to /home/olavur/experiments/2020-11-13_fargen1_exome_analysis/fargen-1-exome/notebooks/qc/hail-20210512-1305-0.2.61-3c86d3ba497a.log\n"
     ]
    }
   ],
   "source": [
    "import hail as hl\n",
    "hl.init(spark_conf={'spark.driver.memory': '10g'}, tmp_dir='/home/olavur/tmp')"
   ]
  },
  {
   "cell_type": "code",
   "execution_count": 2,
   "metadata": {},
   "outputs": [
    {
     "data": {
      "text/html": [
       "\n",
       "    <div class=\"bk-root\">\n",
       "        <a href=\"https://bokeh.pydata.org\" target=\"_blank\" class=\"bk-logo bk-logo-small bk-logo-notebook\"></a>\n",
       "        <span id=\"1001\">Loading BokehJS ...</span>\n",
       "    </div>"
      ]
     },
     "metadata": {},
     "output_type": "display_data"
    },
    {
     "data": {
      "application/javascript": [
       "\n",
       "(function(root) {\n",
       "  function now() {\n",
       "    return new Date();\n",
       "  }\n",
       "\n",
       "  var force = true;\n",
       "\n",
       "  if (typeof root._bokeh_onload_callbacks === \"undefined\" || force === true) {\n",
       "    root._bokeh_onload_callbacks = [];\n",
       "    root._bokeh_is_loading = undefined;\n",
       "  }\n",
       "\n",
       "  var JS_MIME_TYPE = 'application/javascript';\n",
       "  var HTML_MIME_TYPE = 'text/html';\n",
       "  var EXEC_MIME_TYPE = 'application/vnd.bokehjs_exec.v0+json';\n",
       "  var CLASS_NAME = 'output_bokeh rendered_html';\n",
       "\n",
       "  /**\n",
       "   * Render data to the DOM node\n",
       "   */\n",
       "  function render(props, node) {\n",
       "    var script = document.createElement(\"script\");\n",
       "    node.appendChild(script);\n",
       "  }\n",
       "\n",
       "  /**\n",
       "   * Handle when an output is cleared or removed\n",
       "   */\n",
       "  function handleClearOutput(event, handle) {\n",
       "    var cell = handle.cell;\n",
       "\n",
       "    var id = cell.output_area._bokeh_element_id;\n",
       "    var server_id = cell.output_area._bokeh_server_id;\n",
       "    // Clean up Bokeh references\n",
       "    if (id != null && id in Bokeh.index) {\n",
       "      Bokeh.index[id].model.document.clear();\n",
       "      delete Bokeh.index[id];\n",
       "    }\n",
       "\n",
       "    if (server_id !== undefined) {\n",
       "      // Clean up Bokeh references\n",
       "      var cmd = \"from bokeh.io.state import curstate; print(curstate().uuid_to_server['\" + server_id + \"'].get_sessions()[0].document.roots[0]._id)\";\n",
       "      cell.notebook.kernel.execute(cmd, {\n",
       "        iopub: {\n",
       "          output: function(msg) {\n",
       "            var id = msg.content.text.trim();\n",
       "            if (id in Bokeh.index) {\n",
       "              Bokeh.index[id].model.document.clear();\n",
       "              delete Bokeh.index[id];\n",
       "            }\n",
       "          }\n",
       "        }\n",
       "      });\n",
       "      // Destroy server and session\n",
       "      var cmd = \"import bokeh.io.notebook as ion; ion.destroy_server('\" + server_id + \"')\";\n",
       "      cell.notebook.kernel.execute(cmd);\n",
       "    }\n",
       "  }\n",
       "\n",
       "  /**\n",
       "   * Handle when a new output is added\n",
       "   */\n",
       "  function handleAddOutput(event, handle) {\n",
       "    var output_area = handle.output_area;\n",
       "    var output = handle.output;\n",
       "\n",
       "    // limit handleAddOutput to display_data with EXEC_MIME_TYPE content only\n",
       "    if ((output.output_type != \"display_data\") || (!output.data.hasOwnProperty(EXEC_MIME_TYPE))) {\n",
       "      return\n",
       "    }\n",
       "\n",
       "    var toinsert = output_area.element.find(\".\" + CLASS_NAME.split(' ')[0]);\n",
       "\n",
       "    if (output.metadata[EXEC_MIME_TYPE][\"id\"] !== undefined) {\n",
       "      toinsert[toinsert.length - 1].firstChild.textContent = output.data[JS_MIME_TYPE];\n",
       "      // store reference to embed id on output_area\n",
       "      output_area._bokeh_element_id = output.metadata[EXEC_MIME_TYPE][\"id\"];\n",
       "    }\n",
       "    if (output.metadata[EXEC_MIME_TYPE][\"server_id\"] !== undefined) {\n",
       "      var bk_div = document.createElement(\"div\");\n",
       "      bk_div.innerHTML = output.data[HTML_MIME_TYPE];\n",
       "      var script_attrs = bk_div.children[0].attributes;\n",
       "      for (var i = 0; i < script_attrs.length; i++) {\n",
       "        toinsert[toinsert.length - 1].firstChild.setAttribute(script_attrs[i].name, script_attrs[i].value);\n",
       "      }\n",
       "      // store reference to server id on output_area\n",
       "      output_area._bokeh_server_id = output.metadata[EXEC_MIME_TYPE][\"server_id\"];\n",
       "    }\n",
       "  }\n",
       "\n",
       "  function register_renderer(events, OutputArea) {\n",
       "\n",
       "    function append_mime(data, metadata, element) {\n",
       "      // create a DOM node to render to\n",
       "      var toinsert = this.create_output_subarea(\n",
       "        metadata,\n",
       "        CLASS_NAME,\n",
       "        EXEC_MIME_TYPE\n",
       "      );\n",
       "      this.keyboard_manager.register_events(toinsert);\n",
       "      // Render to node\n",
       "      var props = {data: data, metadata: metadata[EXEC_MIME_TYPE]};\n",
       "      render(props, toinsert[toinsert.length - 1]);\n",
       "      element.append(toinsert);\n",
       "      return toinsert\n",
       "    }\n",
       "\n",
       "    /* Handle when an output is cleared or removed */\n",
       "    events.on('clear_output.CodeCell', handleClearOutput);\n",
       "    events.on('delete.Cell', handleClearOutput);\n",
       "\n",
       "    /* Handle when a new output is added */\n",
       "    events.on('output_added.OutputArea', handleAddOutput);\n",
       "\n",
       "    /**\n",
       "     * Register the mime type and append_mime function with output_area\n",
       "     */\n",
       "    OutputArea.prototype.register_mime_type(EXEC_MIME_TYPE, append_mime, {\n",
       "      /* Is output safe? */\n",
       "      safe: true,\n",
       "      /* Index of renderer in `output_area.display_order` */\n",
       "      index: 0\n",
       "    });\n",
       "  }\n",
       "\n",
       "  // register the mime type if in Jupyter Notebook environment and previously unregistered\n",
       "  if (root.Jupyter !== undefined) {\n",
       "    var events = require('base/js/events');\n",
       "    var OutputArea = require('notebook/js/outputarea').OutputArea;\n",
       "\n",
       "    if (OutputArea.prototype.mime_types().indexOf(EXEC_MIME_TYPE) == -1) {\n",
       "      register_renderer(events, OutputArea);\n",
       "    }\n",
       "  }\n",
       "\n",
       "  \n",
       "  if (typeof (root._bokeh_timeout) === \"undefined\" || force === true) {\n",
       "    root._bokeh_timeout = Date.now() + 5000;\n",
       "    root._bokeh_failed_load = false;\n",
       "  }\n",
       "\n",
       "  var NB_LOAD_WARNING = {'data': {'text/html':\n",
       "     \"<div style='background-color: #fdd'>\\n\"+\n",
       "     \"<p>\\n\"+\n",
       "     \"BokehJS does not appear to have successfully loaded. If loading BokehJS from CDN, this \\n\"+\n",
       "     \"may be due to a slow or bad network connection. Possible fixes:\\n\"+\n",
       "     \"</p>\\n\"+\n",
       "     \"<ul>\\n\"+\n",
       "     \"<li>re-rerun `output_notebook()` to attempt to load from CDN again, or</li>\\n\"+\n",
       "     \"<li>use INLINE resources instead, as so:</li>\\n\"+\n",
       "     \"</ul>\\n\"+\n",
       "     \"<code>\\n\"+\n",
       "     \"from bokeh.resources import INLINE\\n\"+\n",
       "     \"output_notebook(resources=INLINE)\\n\"+\n",
       "     \"</code>\\n\"+\n",
       "     \"</div>\"}};\n",
       "\n",
       "  function display_loaded() {\n",
       "    var el = document.getElementById(\"1001\");\n",
       "    if (el != null) {\n",
       "      el.textContent = \"BokehJS is loading...\";\n",
       "    }\n",
       "    if (root.Bokeh !== undefined) {\n",
       "      if (el != null) {\n",
       "        el.textContent = \"BokehJS \" + root.Bokeh.version + \" successfully loaded.\";\n",
       "      }\n",
       "    } else if (Date.now() < root._bokeh_timeout) {\n",
       "      setTimeout(display_loaded, 100)\n",
       "    }\n",
       "  }\n",
       "\n",
       "\n",
       "  function run_callbacks() {\n",
       "    try {\n",
       "      root._bokeh_onload_callbacks.forEach(function(callback) {\n",
       "        if (callback != null)\n",
       "          callback();\n",
       "      });\n",
       "    } finally {\n",
       "      delete root._bokeh_onload_callbacks\n",
       "    }\n",
       "    console.debug(\"Bokeh: all callbacks have finished\");\n",
       "  }\n",
       "\n",
       "  function load_libs(css_urls, js_urls, callback) {\n",
       "    if (css_urls == null) css_urls = [];\n",
       "    if (js_urls == null) js_urls = [];\n",
       "\n",
       "    root._bokeh_onload_callbacks.push(callback);\n",
       "    if (root._bokeh_is_loading > 0) {\n",
       "      console.debug(\"Bokeh: BokehJS is being loaded, scheduling callback at\", now());\n",
       "      return null;\n",
       "    }\n",
       "    if (js_urls == null || js_urls.length === 0) {\n",
       "      run_callbacks();\n",
       "      return null;\n",
       "    }\n",
       "    console.debug(\"Bokeh: BokehJS not loaded, scheduling load and callback at\", now());\n",
       "    root._bokeh_is_loading = css_urls.length + js_urls.length;\n",
       "\n",
       "    function on_load() {\n",
       "      root._bokeh_is_loading--;\n",
       "      if (root._bokeh_is_loading === 0) {\n",
       "        console.debug(\"Bokeh: all BokehJS libraries/stylesheets loaded\");\n",
       "        run_callbacks()\n",
       "      }\n",
       "    }\n",
       "\n",
       "    function on_error() {\n",
       "      console.error(\"failed to load \" + url);\n",
       "    }\n",
       "\n",
       "    for (var i = 0; i < css_urls.length; i++) {\n",
       "      var url = css_urls[i];\n",
       "      const element = document.createElement(\"link\");\n",
       "      element.onload = on_load;\n",
       "      element.onerror = on_error;\n",
       "      element.rel = \"stylesheet\";\n",
       "      element.type = \"text/css\";\n",
       "      element.href = url;\n",
       "      console.debug(\"Bokeh: injecting link tag for BokehJS stylesheet: \", url);\n",
       "      document.body.appendChild(element);\n",
       "    }\n",
       "\n",
       "    for (var i = 0; i < js_urls.length; i++) {\n",
       "      var url = js_urls[i];\n",
       "      var element = document.createElement('script');\n",
       "      element.onload = on_load;\n",
       "      element.onerror = on_error;\n",
       "      element.async = false;\n",
       "      element.src = url;\n",
       "      console.debug(\"Bokeh: injecting script tag for BokehJS library: \", url);\n",
       "      document.head.appendChild(element);\n",
       "    }\n",
       "  };var element = document.getElementById(\"1001\");\n",
       "  if (element == null) {\n",
       "    console.error(\"Bokeh: ERROR: autoload.js configured with elementid '1001' but no matching script tag was found. \")\n",
       "    return false;\n",
       "  }\n",
       "\n",
       "  function inject_raw_css(css) {\n",
       "    const element = document.createElement(\"style\");\n",
       "    element.appendChild(document.createTextNode(css));\n",
       "    document.body.appendChild(element);\n",
       "  }\n",
       "\n",
       "  var js_urls = [\"https://cdn.pydata.org/bokeh/release/bokeh-1.2.0.min.js\", \"https://cdn.pydata.org/bokeh/release/bokeh-widgets-1.2.0.min.js\", \"https://cdn.pydata.org/bokeh/release/bokeh-tables-1.2.0.min.js\", \"https://cdn.pydata.org/bokeh/release/bokeh-gl-1.2.0.min.js\"];\n",
       "  var css_urls = [\"https://cdn.pydata.org/bokeh/release/bokeh-1.2.0.min.css\", \"https://cdn.pydata.org/bokeh/release/bokeh-widgets-1.2.0.min.css\", \"https://cdn.pydata.org/bokeh/release/bokeh-tables-1.2.0.min.css\"];\n",
       "\n",
       "  var inline_js = [\n",
       "    function(Bokeh) {\n",
       "      Bokeh.set_log_level(\"info\");\n",
       "    },\n",
       "    \n",
       "    function(Bokeh) {\n",
       "      \n",
       "    },\n",
       "    function(Bokeh) {} // ensure no trailing comma for IE\n",
       "  ];\n",
       "\n",
       "  function run_inline_js() {\n",
       "    \n",
       "    if ((root.Bokeh !== undefined) || (force === true)) {\n",
       "      for (var i = 0; i < inline_js.length; i++) {\n",
       "        inline_js[i].call(root, root.Bokeh);\n",
       "      }if (force === true) {\n",
       "        display_loaded();\n",
       "      }} else if (Date.now() < root._bokeh_timeout) {\n",
       "      setTimeout(run_inline_js, 100);\n",
       "    } else if (!root._bokeh_failed_load) {\n",
       "      console.log(\"Bokeh: BokehJS failed to load within specified timeout.\");\n",
       "      root._bokeh_failed_load = true;\n",
       "    } else if (force !== true) {\n",
       "      var cell = $(document.getElementById(\"1001\")).parents('.cell').data().cell;\n",
       "      cell.output_area.append_execute_result(NB_LOAD_WARNING)\n",
       "    }\n",
       "\n",
       "  }\n",
       "\n",
       "  if (root._bokeh_is_loading === 0) {\n",
       "    console.debug(\"Bokeh: BokehJS loaded, going straight to plotting\");\n",
       "    run_inline_js();\n",
       "  } else {\n",
       "    load_libs(css_urls, js_urls, function() {\n",
       "      console.debug(\"Bokeh: BokehJS plotting callback run at\", now());\n",
       "      run_inline_js();\n",
       "    });\n",
       "  }\n",
       "}(window));"
      ],
      "application/vnd.bokehjs_load.v0+json": "\n(function(root) {\n  function now() {\n    return new Date();\n  }\n\n  var force = true;\n\n  if (typeof root._bokeh_onload_callbacks === \"undefined\" || force === true) {\n    root._bokeh_onload_callbacks = [];\n    root._bokeh_is_loading = undefined;\n  }\n\n  \n\n  \n  if (typeof (root._bokeh_timeout) === \"undefined\" || force === true) {\n    root._bokeh_timeout = Date.now() + 5000;\n    root._bokeh_failed_load = false;\n  }\n\n  var NB_LOAD_WARNING = {'data': {'text/html':\n     \"<div style='background-color: #fdd'>\\n\"+\n     \"<p>\\n\"+\n     \"BokehJS does not appear to have successfully loaded. If loading BokehJS from CDN, this \\n\"+\n     \"may be due to a slow or bad network connection. Possible fixes:\\n\"+\n     \"</p>\\n\"+\n     \"<ul>\\n\"+\n     \"<li>re-rerun `output_notebook()` to attempt to load from CDN again, or</li>\\n\"+\n     \"<li>use INLINE resources instead, as so:</li>\\n\"+\n     \"</ul>\\n\"+\n     \"<code>\\n\"+\n     \"from bokeh.resources import INLINE\\n\"+\n     \"output_notebook(resources=INLINE)\\n\"+\n     \"</code>\\n\"+\n     \"</div>\"}};\n\n  function display_loaded() {\n    var el = document.getElementById(\"1001\");\n    if (el != null) {\n      el.textContent = \"BokehJS is loading...\";\n    }\n    if (root.Bokeh !== undefined) {\n      if (el != null) {\n        el.textContent = \"BokehJS \" + root.Bokeh.version + \" successfully loaded.\";\n      }\n    } else if (Date.now() < root._bokeh_timeout) {\n      setTimeout(display_loaded, 100)\n    }\n  }\n\n\n  function run_callbacks() {\n    try {\n      root._bokeh_onload_callbacks.forEach(function(callback) {\n        if (callback != null)\n          callback();\n      });\n    } finally {\n      delete root._bokeh_onload_callbacks\n    }\n    console.debug(\"Bokeh: all callbacks have finished\");\n  }\n\n  function load_libs(css_urls, js_urls, callback) {\n    if (css_urls == null) css_urls = [];\n    if (js_urls == null) js_urls = [];\n\n    root._bokeh_onload_callbacks.push(callback);\n    if (root._bokeh_is_loading > 0) {\n      console.debug(\"Bokeh: BokehJS is being loaded, scheduling callback at\", now());\n      return null;\n    }\n    if (js_urls == null || js_urls.length === 0) {\n      run_callbacks();\n      return null;\n    }\n    console.debug(\"Bokeh: BokehJS not loaded, scheduling load and callback at\", now());\n    root._bokeh_is_loading = css_urls.length + js_urls.length;\n\n    function on_load() {\n      root._bokeh_is_loading--;\n      if (root._bokeh_is_loading === 0) {\n        console.debug(\"Bokeh: all BokehJS libraries/stylesheets loaded\");\n        run_callbacks()\n      }\n    }\n\n    function on_error() {\n      console.error(\"failed to load \" + url);\n    }\n\n    for (var i = 0; i < css_urls.length; i++) {\n      var url = css_urls[i];\n      const element = document.createElement(\"link\");\n      element.onload = on_load;\n      element.onerror = on_error;\n      element.rel = \"stylesheet\";\n      element.type = \"text/css\";\n      element.href = url;\n      console.debug(\"Bokeh: injecting link tag for BokehJS stylesheet: \", url);\n      document.body.appendChild(element);\n    }\n\n    for (var i = 0; i < js_urls.length; i++) {\n      var url = js_urls[i];\n      var element = document.createElement('script');\n      element.onload = on_load;\n      element.onerror = on_error;\n      element.async = false;\n      element.src = url;\n      console.debug(\"Bokeh: injecting script tag for BokehJS library: \", url);\n      document.head.appendChild(element);\n    }\n  };var element = document.getElementById(\"1001\");\n  if (element == null) {\n    console.error(\"Bokeh: ERROR: autoload.js configured with elementid '1001' but no matching script tag was found. \")\n    return false;\n  }\n\n  function inject_raw_css(css) {\n    const element = document.createElement(\"style\");\n    element.appendChild(document.createTextNode(css));\n    document.body.appendChild(element);\n  }\n\n  var js_urls = [\"https://cdn.pydata.org/bokeh/release/bokeh-1.2.0.min.js\", \"https://cdn.pydata.org/bokeh/release/bokeh-widgets-1.2.0.min.js\", \"https://cdn.pydata.org/bokeh/release/bokeh-tables-1.2.0.min.js\", \"https://cdn.pydata.org/bokeh/release/bokeh-gl-1.2.0.min.js\"];\n  var css_urls = [\"https://cdn.pydata.org/bokeh/release/bokeh-1.2.0.min.css\", \"https://cdn.pydata.org/bokeh/release/bokeh-widgets-1.2.0.min.css\", \"https://cdn.pydata.org/bokeh/release/bokeh-tables-1.2.0.min.css\"];\n\n  var inline_js = [\n    function(Bokeh) {\n      Bokeh.set_log_level(\"info\");\n    },\n    \n    function(Bokeh) {\n      \n    },\n    function(Bokeh) {} // ensure no trailing comma for IE\n  ];\n\n  function run_inline_js() {\n    \n    if ((root.Bokeh !== undefined) || (force === true)) {\n      for (var i = 0; i < inline_js.length; i++) {\n        inline_js[i].call(root, root.Bokeh);\n      }if (force === true) {\n        display_loaded();\n      }} else if (Date.now() < root._bokeh_timeout) {\n      setTimeout(run_inline_js, 100);\n    } else if (!root._bokeh_failed_load) {\n      console.log(\"Bokeh: BokehJS failed to load within specified timeout.\");\n      root._bokeh_failed_load = true;\n    } else if (force !== true) {\n      var cell = $(document.getElementById(\"1001\")).parents('.cell').data().cell;\n      cell.output_area.append_execute_result(NB_LOAD_WARNING)\n    }\n\n  }\n\n  if (root._bokeh_is_loading === 0) {\n    console.debug(\"Bokeh: BokehJS loaded, going straight to plotting\");\n    run_inline_js();\n  } else {\n    load_libs(css_urls, js_urls, function() {\n      console.debug(\"Bokeh: BokehJS plotting callback run at\", now());\n      run_inline_js();\n    });\n  }\n}(window));"
     },
     "metadata": {},
     "output_type": "display_data"
    }
   ],
   "source": [
    "from bokeh.io import show, output_notebook\n",
    "from bokeh.layouts import gridplot\n",
    "from bokeh.models.scales import LogScale\n",
    "output_notebook()"
   ]
  },
  {
   "cell_type": "code",
   "execution_count": 36,
   "metadata": {},
   "outputs": [],
   "source": [
    "import pandas as pd"
   ]
  },
  {
   "cell_type": "markdown",
   "metadata": {},
   "source": [
    "## Load FarGen data\n",
    "\n",
    "Use LD pruned diallelic sites."
   ]
  },
  {
   "cell_type": "code",
   "execution_count": 124,
   "metadata": {},
   "outputs": [],
   "source": [
    "BASE_DIR = '/home/olavur/experiments/2020-11-13_fargen1_exome_analysis'\n",
    "mt = hl.read_matrix_table(BASE_DIR + '/data/mt/ld_pruned_diallelic_common.mt')"
   ]
  },
  {
   "cell_type": "code",
   "execution_count": 125,
   "metadata": {},
   "outputs": [
    {
     "name": "stdout",
     "output_type": "stream",
     "text": [
      "Number of variants: 134452\n",
      "Number of samples: 474\n"
     ]
    }
   ],
   "source": [
    "n_variants, n_samples = mt.count()\n",
    "print('Number of variants: ' + str(n_variants))\n",
    "print('Number of samples: ' + str(n_samples))"
   ]
  },
  {
   "cell_type": "markdown",
   "metadata": {},
   "source": [
    "### Add population filters\n",
    "\n",
    "Use a HWE filter and a minor allele frequency filter. The LD pruned data is already filtered with MAF > 0.01, but we will use a more stringent filter."
   ]
  },
  {
   "cell_type": "code",
   "execution_count": 126,
   "metadata": {},
   "outputs": [],
   "source": [
    "mt = mt.annotate_rows(hwe=hl.agg.hardy_weinberg_test(mt.GT))\n",
    "mt = mt.filter_rows(mt.hwe.p_value > 1e-6)"
   ]
  },
  {
   "cell_type": "markdown",
   "metadata": {},
   "source": [
    "Calculate allele frequencies."
   ]
  },
  {
   "cell_type": "code",
   "execution_count": 127,
   "metadata": {},
   "outputs": [],
   "source": [
    "# The number of alleles at the site is the sum of the ploidy at each site.\n",
    "# This number should be twice the number of samples.\n",
    "# If there are missing genotype calls, the number of alleles will be less.\n",
    "AN_exprs = hl.agg.sum(mt.GT.ploidy)\n",
    "mt = mt.annotate_rows(AN=AN_exprs)\n",
    "\n",
    "# Calculate the number of alternate alleles at each site.\n",
    "AC_exprs = hl.agg.sum(mt.GT.n_alt_alleles())\n",
    "mt = mt.annotate_rows(AC=AC_exprs)\n",
    "\n",
    "# Calculate the alternate allele frequency.\n",
    "mt = mt.annotate_rows(AF=mt.AC / mt.AN)"
   ]
  },
  {
   "cell_type": "markdown",
   "metadata": {},
   "source": [
    "**TODO:** I can increase the MAF threshold if still a lot of variants remain.\n",
    "\n",
    "Remove variants with minor allele frequency under 0.05."
   ]
  },
  {
   "cell_type": "code",
   "execution_count": 128,
   "metadata": {},
   "outputs": [],
   "source": [
    "maf_filter = 0.05\n",
    "mt = mt.filter_rows((mt.AF > maf_filter) & (mt.AF < (1 - maf_filter)))"
   ]
  },
  {
   "cell_type": "markdown",
   "metadata": {},
   "source": [
    "## Annotate birth place region"
   ]
  },
  {
   "cell_type": "code",
   "execution_count": 136,
   "metadata": {},
   "outputs": [
    {
     "name": "stderr",
     "output_type": "stream",
     "text": [
      "2021-05-12 16:06:26 Hail: INFO: Reading table without type imputation\n",
      "  Loading field 'rin' as type str (not specified)\n",
      "  Loading field 'sample' as type str (not specified)\n"
     ]
    }
   ],
   "source": [
    "fargen_rin_ht = hl.import_table(BASE_DIR + '/data/metadata/birthplace/fargen_rin_samplename.csv', delimiter=',')\n",
    "fargen_rin_ht = fargen_rin_ht.key_by(fargen_rin_ht.rin)"
   ]
  },
  {
   "cell_type": "code",
   "execution_count": 137,
   "metadata": {},
   "outputs": [
    {
     "name": "stdout",
     "output_type": "stream",
     "text": [
      "----------------------------------------\n",
      "Global fields:\n",
      "    None\n",
      "----------------------------------------\n",
      "Row fields:\n",
      "    'rin': str \n",
      "    'sample': str \n",
      "----------------------------------------\n",
      "Key: ['rin']\n",
      "----------------------------------------\n"
     ]
    }
   ],
   "source": [
    "fargen_rin_ht.describe()"
   ]
  },
  {
   "cell_type": "code",
   "execution_count": 138,
   "metadata": {},
   "outputs": [
    {
     "name": "stderr",
     "output_type": "stream",
     "text": [
      "2021-05-12 16:06:28 Hail: INFO: Reading table without type imputation\n",
      "  Loading field 'ind' as type str (not specified)\n",
      "  Loading field 'region' as type str (not specified)\n"
     ]
    }
   ],
   "source": [
    "rin_birthplace_ht = hl.import_table(BASE_DIR + '/data/metadata/birthplace/rin_region.csv', delimiter=',')\n",
    "# Rename \"ind\" to \"rin\".\n",
    "# Convert the region variable to float.\n",
    "rin_birthplace_ht = rin_birthplace_ht.transmute(rin=rin_birthplace_ht.ind, birthplace=hl.float64(rin_birthplace_ht.region))\n",
    "\n",
    "rin_birthplace_ht = rin_birthplace_ht.key_by(rin_birthplace_ht.rin)"
   ]
  },
  {
   "cell_type": "code",
   "execution_count": 139,
   "metadata": {},
   "outputs": [
    {
     "name": "stdout",
     "output_type": "stream",
     "text": [
      "----------------------------------------\n",
      "Global fields:\n",
      "    None\n",
      "----------------------------------------\n",
      "Row fields:\n",
      "    'rin': str \n",
      "    'birthplace': float64 \n",
      "----------------------------------------\n",
      "Key: ['rin']\n",
      "----------------------------------------\n"
     ]
    }
   ],
   "source": [
    "rin_birthplace_ht.describe()"
   ]
  },
  {
   "cell_type": "code",
   "execution_count": 140,
   "metadata": {},
   "outputs": [],
   "source": [
    "# Annotate the table with the birthplace by the samplenames.\n",
    "samplename_birthplace_ht = rin_birthplace_ht.annotate(samplename=fargen_rin_ht[rin_birthplace_ht.rin].sample)\n",
    "samplename_birthplace_ht = samplename_birthplace_ht.key_by(samplename_birthplace_ht.samplename)"
   ]
  },
  {
   "cell_type": "code",
   "execution_count": 141,
   "metadata": {},
   "outputs": [
    {
     "name": "stdout",
     "output_type": "stream",
     "text": [
      "----------------------------------------\n",
      "Global fields:\n",
      "    None\n",
      "----------------------------------------\n",
      "Row fields:\n",
      "    'rin': str \n",
      "    'birthplace': float64 \n",
      "    'samplename': str \n",
      "----------------------------------------\n",
      "Key: ['samplename']\n",
      "----------------------------------------\n"
     ]
    }
   ],
   "source": [
    "samplename_birthplace_ht.describe()"
   ]
  },
  {
   "cell_type": "code",
   "execution_count": 143,
   "metadata": {},
   "outputs": [],
   "source": [
    "mt = mt.annotate_cols(birthplace = samplename_birthplace_ht[mt.s].birthplace)"
   ]
  },
  {
   "cell_type": "code",
   "execution_count": 144,
   "metadata": {},
   "outputs": [
    {
     "name": "stderr",
     "output_type": "stream",
     "text": [
      "2021-05-12 16:07:18 Hail: INFO: Ordering unsorted dataset with network shuffle\n",
      "2021-05-12 16:07:18 Hail: INFO: Ordering unsorted dataset with network shuffle\n",
      "2021-05-12 16:07:19 Hail: INFO: Ordering unsorted dataset with network shuffle\n",
      "2021-05-12 16:07:20 Hail: INFO: Ordering unsorted dataset with network shuffle\n"
     ]
    },
    {
     "data": {
      "text/html": [
       "\n",
       "\n",
       "\n",
       "\n",
       "\n",
       "\n",
       "  <div class=\"bk-root\" id=\"581217d2-f49f-45bd-90a5-6eba6fc9c2e9\" data-root-id=\"3140\"></div>\n"
      ]
     },
     "metadata": {},
     "output_type": "display_data"
    },
    {
     "data": {
      "application/javascript": [
       "(function(root) {\n",
       "  function embed_document(root) {\n",
       "    \n",
       "  var docs_json = {\"8f1abca2-5bcd-4003-8e27-d4da374c0362\":{\"roots\":{\"references\":[{\"attributes\":{\"background_fill_color\":{\"value\":\"#EEEEEE\"},\"below\":[{\"id\":\"3150\",\"type\":\"LinearAxis\"}],\"center\":[{\"id\":\"3154\",\"type\":\"Grid\"},{\"id\":\"3159\",\"type\":\"Grid\"}],\"left\":[{\"id\":\"3155\",\"type\":\"LinearAxis\"}],\"renderers\":[{\"id\":\"3176\",\"type\":\"GlyphRenderer\"}],\"title\":null,\"toolbar\":{\"id\":\"3166\",\"type\":\"Toolbar\"},\"x_range\":{\"id\":\"3142\",\"type\":\"Range1d\"},\"x_scale\":{\"id\":\"3146\",\"type\":\"LinearScale\"},\"y_range\":{\"id\":\"3144\",\"type\":\"DataRange1d\"},\"y_scale\":{\"id\":\"3148\",\"type\":\"LinearScale\"}},\"id\":\"3140\",\"subtype\":\"Figure\",\"type\":\"Plot\"},{\"attributes\":{\"axis_label\":\"Frequency\",\"formatter\":{\"id\":\"3289\",\"type\":\"BasicTickFormatter\"},\"ticker\":{\"id\":\"3156\",\"type\":\"BasicTicker\"}},\"id\":\"3155\",\"type\":\"LinearAxis\"},{\"attributes\":{\"bottom\":{\"value\":0},\"fill_color\":{\"value\":\"#1f77b4\"},\"left\":{\"field\":\"left\"},\"right\":{\"field\":\"right\"},\"top\":{\"field\":\"top\"}},\"id\":\"3174\",\"type\":\"Quad\"},{\"attributes\":{\"bottom\":{\"value\":0},\"fill_alpha\":{\"value\":0.1},\"fill_color\":{\"value\":\"#1f77b4\"},\"left\":{\"field\":\"left\"},\"line_alpha\":{\"value\":0.1},\"line_color\":{\"value\":\"#1f77b4\"},\"right\":{\"field\":\"right\"},\"top\":{\"field\":\"top\"}},\"id\":\"3175\",\"type\":\"Quad\"},{\"attributes\":{\"ticker\":{\"id\":\"3151\",\"type\":\"BasicTicker\"}},\"id\":\"3154\",\"type\":\"Grid\"},{\"attributes\":{},\"id\":\"3291\",\"type\":\"BasicTickFormatter\"},{\"attributes\":{},\"id\":\"3160\",\"type\":\"PanTool\"},{\"attributes\":{},\"id\":\"3164\",\"type\":\"ResetTool\"},{\"attributes\":{},\"id\":\"3165\",\"type\":\"HelpTool\"},{\"attributes\":{\"overlay\":{\"id\":\"3295\",\"type\":\"BoxAnnotation\"}},\"id\":\"3162\",\"type\":\"BoxZoomTool\"},{\"attributes\":{\"dimension\":1,\"ticker\":{\"id\":\"3156\",\"type\":\"BasicTicker\"}},\"id\":\"3159\",\"type\":\"Grid\"},{\"attributes\":{},\"id\":\"3289\",\"type\":\"BasicTickFormatter\"},{\"attributes\":{},\"id\":\"3156\",\"type\":\"BasicTicker\"},{\"attributes\":{\"data_source\":{\"id\":\"3173\",\"type\":\"ColumnDataSource\"},\"glyph\":{\"id\":\"3174\",\"type\":\"Quad\"},\"hover_glyph\":null,\"muted_glyph\":null,\"nonselection_glyph\":{\"id\":\"3175\",\"type\":\"Quad\"},\"selection_glyph\":null,\"view\":{\"id\":\"3177\",\"type\":\"CDSView\"}},\"id\":\"3176\",\"type\":\"GlyphRenderer\"},{\"attributes\":{},\"id\":\"3151\",\"type\":\"BasicTicker\"},{\"attributes\":{},\"id\":\"3293\",\"type\":\"UnionRenderers\"},{\"attributes\":{\"active_drag\":\"auto\",\"active_inspect\":\"auto\",\"active_multi\":null,\"active_scroll\":\"auto\",\"active_tap\":\"auto\",\"tools\":[{\"id\":\"3160\",\"type\":\"PanTool\"},{\"id\":\"3161\",\"type\":\"WheelZoomTool\"},{\"id\":\"3162\",\"type\":\"BoxZoomTool\"},{\"id\":\"3163\",\"type\":\"SaveTool\"},{\"id\":\"3164\",\"type\":\"ResetTool\"},{\"id\":\"3165\",\"type\":\"HelpTool\"}]},\"id\":\"3166\",\"type\":\"Toolbar\"},{\"attributes\":{\"formatter\":{\"id\":\"3291\",\"type\":\"BasicTickFormatter\"},\"ticker\":{\"id\":\"3151\",\"type\":\"BasicTicker\"}},\"id\":\"3150\",\"type\":\"LinearAxis\"},{\"attributes\":{},\"id\":\"3146\",\"type\":\"LinearScale\"},{\"attributes\":{\"callback\":null,\"end\":6.25,\"start\":0.75},\"id\":\"3142\",\"type\":\"Range1d\"},{\"attributes\":{},\"id\":\"3163\",\"type\":\"SaveTool\"},{\"attributes\":{},\"id\":\"3161\",\"type\":\"WheelZoomTool\"},{\"attributes\":{\"callback\":null},\"id\":\"3144\",\"type\":\"DataRange1d\"},{\"attributes\":{\"callback\":null,\"data\":{\"left\":[1.0,1.1,1.2,1.3,1.4,1.5,1.6,1.7000000000000002,1.8,1.9,2.0,2.1,2.2,2.3,2.4000000000000004,2.5,2.6,2.7,2.8,2.9000000000000004,3.0,3.1,3.2,3.3000000000000003,3.4000000000000004,3.5,3.6,3.7,3.8000000000000003,3.9000000000000004,4.0,4.1,4.2,4.300000000000001,4.4,4.5,4.6,4.7,4.800000000000001,4.9,5.0,5.1000000000000005,5.2,5.3,5.4,5.5,5.6000000000000005,5.7,5.800000000000001,5.9],\"right\":[1.1,1.2,1.3,1.4,1.5,1.6,1.7000000000000002,1.8,1.9,2.0,2.1,2.2,2.3,2.4000000000000004,2.5,2.6,2.7,2.8,2.9000000000000004,3.0,3.1,3.2,3.3000000000000003,3.4000000000000004,3.5,3.6,3.7,3.8000000000000003,3.9000000000000004,4.0,4.1,4.2,4.300000000000001,4.4,4.5,4.6,4.7,4.800000000000001,4.9,5.0,5.1000000000000005,5.2,5.3,5.4,5.5,5.6000000000000005,5.7,5.800000000000001,5.9,6.0],\"top\":[69,0,0,0,0,0,0,0,0,0,101,0,0,0,0,0,0,0,0,0,181,0,0,0,0,0,0,0,0,0,28,0,0,0,0,0,0,0,0,0,17,0,0,0,0,0,0,0,0,34]},\"selected\":{\"id\":\"3294\",\"type\":\"Selection\"},\"selection_policy\":{\"id\":\"3293\",\"type\":\"UnionRenderers\"}},\"id\":\"3173\",\"type\":\"ColumnDataSource\"},{\"attributes\":{},\"id\":\"3148\",\"type\":\"LinearScale\"},{\"attributes\":{\"source\":{\"id\":\"3173\",\"type\":\"ColumnDataSource\"}},\"id\":\"3177\",\"type\":\"CDSView\"},{\"attributes\":{},\"id\":\"3294\",\"type\":\"Selection\"},{\"attributes\":{\"bottom_units\":\"screen\",\"fill_alpha\":{\"value\":0.5},\"fill_color\":{\"value\":\"lightgrey\"},\"left_units\":\"screen\",\"level\":\"overlay\",\"line_alpha\":{\"value\":1.0},\"line_color\":{\"value\":\"black\"},\"line_dash\":[4,4],\"line_width\":{\"value\":2},\"render_mode\":\"css\",\"right_units\":\"screen\",\"top_units\":\"screen\"},\"id\":\"3295\",\"type\":\"BoxAnnotation\"}],\"root_ids\":[\"3140\"]},\"title\":\"Bokeh Application\",\"version\":\"1.2.0\"}};\n",
       "  var render_items = [{\"docid\":\"8f1abca2-5bcd-4003-8e27-d4da374c0362\",\"roots\":{\"3140\":\"581217d2-f49f-45bd-90a5-6eba6fc9c2e9\"}}];\n",
       "  root.Bokeh.embed.embed_items_notebook(docs_json, render_items);\n",
       "\n",
       "  }\n",
       "  if (root.Bokeh !== undefined) {\n",
       "    embed_document(root);\n",
       "  } else {\n",
       "    var attempts = 0;\n",
       "    var timer = setInterval(function(root) {\n",
       "      if (root.Bokeh !== undefined) {\n",
       "        embed_document(root);\n",
       "        clearInterval(timer);\n",
       "      }\n",
       "      attempts++;\n",
       "      if (attempts > 100) {\n",
       "        console.log(\"Bokeh: ERROR: Unable to run BokehJS code because BokehJS library is missing\");\n",
       "        clearInterval(timer);\n",
       "      }\n",
       "    }, 10, root)\n",
       "  }\n",
       "})(window);"
      ],
      "application/vnd.bokehjs_exec.v0+json": ""
     },
     "metadata": {
      "application/vnd.bokehjs_exec.v0+json": {
       "id": "3140"
      }
     },
     "output_type": "display_data"
    }
   ],
   "source": [
    "p = hl.plot.histogram(mt.birthplace)\n",
    "show(p)"
   ]
  },
  {
   "cell_type": "markdown",
   "metadata": {},
   "source": [
    "## Filter related individuals\n",
    "\n",
    "Estimate the relatedness between the samples by the PC-Relate method, with a minimum alternate allele frequency of 0.001."
   ]
  },
  {
   "cell_type": "code",
   "execution_count": 145,
   "metadata": {},
   "outputs": [
    {
     "name": "stderr",
     "output_type": "stream",
     "text": [
      "2021-05-12 16:07:27 Hail: INFO: hwe_normalized_pca: running PCA using 46925 variants.\n",
      "2021-05-12 16:07:30 Hail: INFO: pca: running PCA with 2 components...\n",
      "2021-05-12 16:07:51 Hail: INFO: Wrote all 12 blocks of 46925 x 474 matrix with block size 4096.\n"
     ]
    }
   ],
   "source": [
    "pc_rel = hl.pc_relate(mt.GT, 0.001, k=2, statistics='kin')"
   ]
  },
  {
   "cell_type": "markdown",
   "metadata": {},
   "source": [
    "Plot all the relatedness coefficients in a histogram to get an overview."
   ]
  },
  {
   "cell_type": "code",
   "execution_count": 146,
   "metadata": {},
   "outputs": [
    {
     "name": "stderr",
     "output_type": "stream",
     "text": [
      "2021-05-12 16:07:51 Hail: INFO: wrote matrix with 3 rows and 46925 columns as 12 blocks of size 4096 to /home/olavur/tmp/pcrelate-write-read-81UQFFcEfgnn1AoOQS85Ej.bm\n",
      "2021-05-12 16:07:51 Hail: INFO: wrote matrix with 46925 rows and 474 columns as 12 blocks of size 4096 to /home/olavur/tmp/pcrelate-write-read-pgHDldXZeZOpIR8C8vs2ml.bm\n",
      "2021-05-12 16:08:17 Hail: INFO: wrote matrix with 474 rows and 474 columns as 1 block of size 4096 to /home/olavur/tmp/pcrelate-write-read-4jGag1x4r1BIB8FkiMP3k2.bm\n",
      "2021-05-12 16:08:45 Hail: INFO: wrote matrix with 474 rows and 474 columns as 1 block of size 4096 to /home/olavur/tmp/pcrelate-write-read-oqm90OJKAi1SFQLbshDKui.bm\n",
      "2021-05-12 16:08:45 Hail: INFO: wrote matrix with 474 rows and 474 columns as 1 block of size 4096 to /home/olavur/tmp/pcrelate-write-read-ZUT0ZzgcKCsiHqkhflRNkF.bm\n",
      "2021-05-12 16:08:45 Hail: INFO: Ordering unsorted dataset with network shuffle\n",
      "2021-05-12 16:08:46 Hail: INFO: wrote matrix with 3 rows and 46925 columns as 12 blocks of size 4096 to /home/olavur/tmp/pcrelate-write-read-KlQ2p7t51xGAc5FYIfMSPl.bm\n",
      "2021-05-12 16:08:46 Hail: INFO: wrote matrix with 46925 rows and 474 columns as 12 blocks of size 4096 to /home/olavur/tmp/pcrelate-write-read-4cJTfuZDkfRzyNMC8lj26c.bm\n",
      "2021-05-12 16:09:13 Hail: INFO: wrote matrix with 474 rows and 474 columns as 1 block of size 4096 to /home/olavur/tmp/pcrelate-write-read-zUJcGUQC5FmzUn8RN4W9R1.bm\n",
      "2021-05-12 16:09:39 Hail: INFO: wrote matrix with 474 rows and 474 columns as 1 block of size 4096 to /home/olavur/tmp/pcrelate-write-read-C5ZojYHUUUxRLx9IkToLdL.bm\n",
      "2021-05-12 16:09:39 Hail: INFO: wrote matrix with 474 rows and 474 columns as 1 block of size 4096 to /home/olavur/tmp/pcrelate-write-read-lkeXO5pkXyz8wPbXUmtdRp.bm\n",
      "2021-05-12 16:09:39 Hail: INFO: Ordering unsorted dataset with network shuffle\n"
     ]
    },
    {
     "data": {
      "text/html": [
       "\n",
       "\n",
       "\n",
       "\n",
       "\n",
       "\n",
       "  <div class=\"bk-root\" id=\"bbf215da-5429-4148-ba57-45e961fab0ad\" data-root-id=\"3344\"></div>\n"
      ]
     },
     "metadata": {},
     "output_type": "display_data"
    },
    {
     "data": {
      "application/javascript": [
       "(function(root) {\n",
       "  function embed_document(root) {\n",
       "    \n",
       "  var docs_json = {\"e6c5ee0d-5df6-4797-862d-86bfefa48bf6\":{\"roots\":{\"references\":[{\"attributes\":{\"background_fill_color\":{\"value\":\"#EEEEEE\"},\"below\":[{\"id\":\"3355\",\"type\":\"LinearAxis\"}],\"center\":[{\"id\":\"3359\",\"type\":\"Grid\"},{\"id\":\"3364\",\"type\":\"Grid\"}],\"left\":[{\"id\":\"3360\",\"type\":\"LinearAxis\"}],\"renderers\":[{\"id\":\"3381\",\"type\":\"GlyphRenderer\"}],\"title\":{\"id\":\"3345\",\"type\":\"Title\"},\"toolbar\":{\"id\":\"3371\",\"type\":\"Toolbar\"},\"x_range\":{\"id\":\"3347\",\"type\":\"Range1d\"},\"x_scale\":{\"id\":\"3351\",\"type\":\"LinearScale\"},\"y_range\":{\"id\":\"3349\",\"type\":\"DataRange1d\"},\"y_scale\":{\"id\":\"3353\",\"type\":\"LinearScale\"}},\"id\":\"3344\",\"subtype\":\"Figure\",\"type\":\"Plot\"},{\"attributes\":{},\"id\":\"3361\",\"type\":\"BasicTicker\"},{\"attributes\":{},\"id\":\"3351\",\"type\":\"LinearScale\"},{\"attributes\":{\"callback\":null},\"id\":\"3349\",\"type\":\"DataRange1d\"},{\"attributes\":{\"callback\":null,\"end\":0.47100986546662027,\"start\":-0.13709556139594564},\"id\":\"3347\",\"type\":\"Range1d\"},{\"attributes\":{},\"id\":\"3370\",\"type\":\"HelpTool\"},{\"attributes\":{\"text\":\"Histogram of kinship coefficient\"},\"id\":\"3345\",\"type\":\"Title\"},{\"attributes\":{\"dimension\":1,\"ticker\":{\"id\":\"3361\",\"type\":\"BasicTicker\"}},\"id\":\"3364\",\"type\":\"Grid\"},{\"attributes\":{\"bottom\":{\"value\":0},\"fill_color\":{\"value\":\"#1f77b4\"},\"left\":{\"field\":\"left\"},\"right\":{\"field\":\"right\"},\"top\":{\"field\":\"top\"}},\"id\":\"3379\",\"type\":\"Quad\"},{\"attributes\":{\"overlay\":{\"id\":\"3508\",\"type\":\"BoxAnnotation\"}},\"id\":\"3367\",\"type\":\"BoxZoomTool\"},{\"attributes\":{},\"id\":\"3353\",\"type\":\"LinearScale\"},{\"attributes\":{},\"id\":\"3366\",\"type\":\"WheelZoomTool\"},{\"attributes\":{\"axis_label\":\"Frequency\",\"formatter\":{\"id\":\"3502\",\"type\":\"BasicTickFormatter\"},\"ticker\":{\"id\":\"3361\",\"type\":\"BasicTicker\"}},\"id\":\"3360\",\"type\":\"LinearAxis\"},{\"attributes\":{\"active_drag\":\"auto\",\"active_inspect\":\"auto\",\"active_multi\":null,\"active_scroll\":\"auto\",\"active_tap\":\"auto\",\"tools\":[{\"id\":\"3365\",\"type\":\"PanTool\"},{\"id\":\"3366\",\"type\":\"WheelZoomTool\"},{\"id\":\"3367\",\"type\":\"BoxZoomTool\"},{\"id\":\"3368\",\"type\":\"SaveTool\"},{\"id\":\"3369\",\"type\":\"ResetTool\"},{\"id\":\"3370\",\"type\":\"HelpTool\"}]},\"id\":\"3371\",\"type\":\"Toolbar\"},{\"attributes\":{},\"id\":\"3504\",\"type\":\"BasicTickFormatter\"},{\"attributes\":{},\"id\":\"3365\",\"type\":\"PanTool\"},{\"attributes\":{\"ticker\":{\"id\":\"3356\",\"type\":\"BasicTicker\"}},\"id\":\"3359\",\"type\":\"Grid\"},{\"attributes\":{},\"id\":\"3369\",\"type\":\"ResetTool\"},{\"attributes\":{\"data_source\":{\"id\":\"3378\",\"type\":\"ColumnDataSource\"},\"glyph\":{\"id\":\"3379\",\"type\":\"Quad\"},\"hover_glyph\":null,\"muted_glyph\":null,\"nonselection_glyph\":{\"id\":\"3380\",\"type\":\"Quad\"},\"selection_glyph\":null,\"view\":{\"id\":\"3382\",\"type\":\"CDSView\"}},\"id\":\"3381\",\"type\":\"GlyphRenderer\"},{\"attributes\":{},\"id\":\"3502\",\"type\":\"BasicTickFormatter\"},{\"attributes\":{},\"id\":\"3368\",\"type\":\"SaveTool\"},{\"attributes\":{},\"id\":\"3356\",\"type\":\"BasicTicker\"},{\"attributes\":{},\"id\":\"3506\",\"type\":\"UnionRenderers\"},{\"attributes\":{\"callback\":null,\"data\":{\"left\":[-0.10945440562946537,-0.09839794332287327,-0.08734148101628116,-0.07628501870968905,-0.06522855640309694,-0.054172094096504836,-0.043115631789912734,-0.03205916948332062,-0.021002707176728516,-0.009946244870136414,0.0011102174364557016,0.012166679743047804,0.023223142049639905,0.03427960435623201,0.04533606666282414,0.05639252896941624,0.06744899127600834,0.07850545358260044,0.08956191588919254,0.10061837819578467,0.11167484050237678,0.12273130280896888,0.13378776511556098,0.1448442274221531,0.15590068972874518,0.16695715203533731,0.1780136143419294,0.18907007664852152,0.20012653895511365,0.21118300126170572,0.22223946356829785,0.23329592587488993,0.24435238818148206,0.25540885048807416,0.26646531279466623,0.2775217751012584,0.2885782374078505,0.29963469971444257,0.31069116202103475,0.3217476243276268,0.3328040866342189,0.343860548940811,0.35491701124740316,0.36597347355399523,0.3770299358605873,0.3880863981671795,0.39914286047377157,0.41019932278036364,0.4212557850869557,0.4323122473935479],\"right\":[-0.09839794332287327,-0.08734148101628116,-0.07628501870968905,-0.06522855640309694,-0.054172094096504836,-0.043115631789912734,-0.03205916948332062,-0.021002707176728516,-0.009946244870136414,0.0011102174364557016,0.012166679743047804,0.023223142049639905,0.03427960435623201,0.04533606666282414,0.05639252896941624,0.06744899127600834,0.07850545358260044,0.08956191588919254,0.10061837819578467,0.11167484050237678,0.12273130280896888,0.13378776511556098,0.1448442274221531,0.15590068972874518,0.16695715203533731,0.1780136143419294,0.18907007664852152,0.20012653895511365,0.21118300126170572,0.22223946356829785,0.23329592587488993,0.24435238818148206,0.25540885048807416,0.26646531279466623,0.2775217751012584,0.2885782374078505,0.29963469971444257,0.31069116202103475,0.3217476243276268,0.3328040866342189,0.343860548940811,0.35491701124740316,0.36597347355399523,0.3770299358605873,0.3880863981671795,0.39914286047377157,0.41019932278036364,0.4212557850869557,0.4323122473935479,0.44336870970014],\"top\":[1,1,0,0,0,0,4,34,2505,78181,30222,813,126,47,45,15,13,3,9,6,6,4,1,0,2,0,4,3,17,24,9,3,1,0,0,0,0,0,0,0,1,0,0,0,0,0,0,0,0,1]},\"selected\":{\"id\":\"3507\",\"type\":\"Selection\"},\"selection_policy\":{\"id\":\"3506\",\"type\":\"UnionRenderers\"}},\"id\":\"3378\",\"type\":\"ColumnDataSource\"},{\"attributes\":{\"bottom\":{\"value\":0},\"fill_alpha\":{\"value\":0.1},\"fill_color\":{\"value\":\"#1f77b4\"},\"left\":{\"field\":\"left\"},\"line_alpha\":{\"value\":0.1},\"line_color\":{\"value\":\"#1f77b4\"},\"right\":{\"field\":\"right\"},\"top\":{\"field\":\"top\"}},\"id\":\"3380\",\"type\":\"Quad\"},{\"attributes\":{\"source\":{\"id\":\"3378\",\"type\":\"ColumnDataSource\"}},\"id\":\"3382\",\"type\":\"CDSView\"},{\"attributes\":{},\"id\":\"3507\",\"type\":\"Selection\"},{\"attributes\":{\"bottom_units\":\"screen\",\"fill_alpha\":{\"value\":0.5},\"fill_color\":{\"value\":\"lightgrey\"},\"left_units\":\"screen\",\"level\":\"overlay\",\"line_alpha\":{\"value\":1.0},\"line_color\":{\"value\":\"black\"},\"line_dash\":[4,4],\"line_width\":{\"value\":2},\"render_mode\":\"css\",\"right_units\":\"screen\",\"top_units\":\"screen\"},\"id\":\"3508\",\"type\":\"BoxAnnotation\"},{\"attributes\":{\"formatter\":{\"id\":\"3504\",\"type\":\"BasicTickFormatter\"},\"ticker\":{\"id\":\"3356\",\"type\":\"BasicTicker\"}},\"id\":\"3355\",\"type\":\"LinearAxis\"}],\"root_ids\":[\"3344\"]},\"title\":\"Bokeh Application\",\"version\":\"1.2.0\"}};\n",
       "  var render_items = [{\"docid\":\"e6c5ee0d-5df6-4797-862d-86bfefa48bf6\",\"roots\":{\"3344\":\"bbf215da-5429-4148-ba57-45e961fab0ad\"}}];\n",
       "  root.Bokeh.embed.embed_items_notebook(docs_json, render_items);\n",
       "\n",
       "  }\n",
       "  if (root.Bokeh !== undefined) {\n",
       "    embed_document(root);\n",
       "  } else {\n",
       "    var attempts = 0;\n",
       "    var timer = setInterval(function(root) {\n",
       "      if (root.Bokeh !== undefined) {\n",
       "        embed_document(root);\n",
       "        clearInterval(timer);\n",
       "      }\n",
       "      attempts++;\n",
       "      if (attempts > 100) {\n",
       "        console.log(\"Bokeh: ERROR: Unable to run BokehJS code because BokehJS library is missing\");\n",
       "        clearInterval(timer);\n",
       "      }\n",
       "    }, 10, root)\n",
       "  }\n",
       "})(window);"
      ],
      "application/vnd.bokehjs_exec.v0+json": ""
     },
     "metadata": {
      "application/vnd.bokehjs_exec.v0+json": {
       "id": "3344"
      }
     },
     "output_type": "display_data"
    }
   ],
   "source": [
    "p = hl.plot.histogram(pc_rel.kin, title='Histogram of kinship coefficient')\n",
    "show(p)"
   ]
  },
  {
   "cell_type": "code",
   "execution_count": 147,
   "metadata": {},
   "outputs": [],
   "source": [
    "pairs = pc_rel.filter(pc_rel['kin'] > 2**(-3))"
   ]
  },
  {
   "cell_type": "markdown",
   "metadata": {},
   "source": [
    "Then we find the maximal independent set, consistent of the samples to remove."
   ]
  },
  {
   "cell_type": "code",
   "execution_count": 148,
   "metadata": {},
   "outputs": [
    {
     "name": "stderr",
     "output_type": "stream",
     "text": [
      "2021-05-12 16:09:40 Hail: INFO: wrote matrix with 3 rows and 46925 columns as 12 blocks of size 4096 to /home/olavur/tmp/pcrelate-write-read-aSTl5nTKM7y2P1JRfKfXfi.bm\n",
      "2021-05-12 16:09:41 Hail: INFO: wrote matrix with 46925 rows and 474 columns as 12 blocks of size 4096 to /home/olavur/tmp/pcrelate-write-read-6EON74HlMLF1bsIUU4GGQT.bm\n",
      "2021-05-12 16:10:08 Hail: INFO: wrote matrix with 474 rows and 474 columns as 1 block of size 4096 to /home/olavur/tmp/pcrelate-write-read-QEW1kns1w6OjiK6GctFfvj.bm\n",
      "2021-05-12 16:10:33 Hail: INFO: wrote matrix with 474 rows and 474 columns as 1 block of size 4096 to /home/olavur/tmp/pcrelate-write-read-41HnlTah2NdkT66JxjOKvq.bm\n",
      "2021-05-12 16:10:33 Hail: INFO: wrote matrix with 474 rows and 474 columns as 1 block of size 4096 to /home/olavur/tmp/pcrelate-write-read-ZHvD5tGPQv3IN74il5xsBx.bm\n",
      "2021-05-12 16:10:34 Hail: INFO: Ordering unsorted dataset with network shuffle\n",
      "2021-05-12 16:10:34 Hail: INFO: wrote table with 70 rows in 1 partition to /home/olavur/tmp/91YtUbsSjVNDCyjv43Lpqy\n",
      "    Total size: 757.00 B\n",
      "    * Rows: 746.00 B\n",
      "    * Globals: 11.00 B\n",
      "    * Smallest partition: 70 rows (746.00 B)\n",
      "    * Largest partition:  70 rows (746.00 B)\n"
     ]
    }
   ],
   "source": [
    "related_samples_to_remove = hl.maximal_independent_set(pairs.i, pairs.j, keep=False)"
   ]
  },
  {
   "cell_type": "markdown",
   "metadata": {},
   "source": [
    "Now we filter these individuals from the matrix table."
   ]
  },
  {
   "cell_type": "code",
   "execution_count": 149,
   "metadata": {},
   "outputs": [],
   "source": [
    "pruned_mt = mt.filter_cols(hl.is_defined(related_samples_to_remove[mt.col_key]), keep=False)"
   ]
  },
  {
   "cell_type": "code",
   "execution_count": 150,
   "metadata": {},
   "outputs": [
    {
     "name": "stderr",
     "output_type": "stream",
     "text": [
      "2021-05-12 16:10:35 Hail: INFO: Coerced sorted dataset\n",
      "2021-05-12 16:10:35 Hail: INFO: Ordering unsorted dataset with network shuffle\n"
     ]
    },
    {
     "name": "stdout",
     "output_type": "stream",
     "text": [
      "Samples before prune: 474\n",
      "Sample after prune: 418\n"
     ]
    }
   ],
   "source": [
    "samples_before_prune = mt.count_cols()\n",
    "samples_after_prune = pruned_mt.count_cols()\n",
    "print('Samples before prune: {n}\\nSample after prune: {m}'.format(n=samples_before_prune, m=samples_after_prune))"
   ]
  },
  {
   "cell_type": "markdown",
   "metadata": {},
   "source": [
    "## Compute PCA"
   ]
  },
  {
   "cell_type": "code",
   "execution_count": 151,
   "metadata": {},
   "outputs": [
    {
     "name": "stderr",
     "output_type": "stream",
     "text": [
      "2021-05-12 16:10:36 Hail: INFO: Coerced sorted dataset\n",
      "2021-05-12 16:10:36 Hail: INFO: Ordering unsorted dataset with network shuffle\n",
      "2021-05-12 16:10:39 Hail: INFO: hwe_normalized_pca: running PCA using 46925 variants.\n",
      "2021-05-12 16:10:39 Hail: INFO: Coerced sorted dataset\n",
      "2021-05-12 16:10:39 Hail: INFO: Ordering unsorted dataset with network shuffle\n",
      "2021-05-12 16:10:41 Hail: INFO: pca: running PCA with 2 components...\n"
     ]
    }
   ],
   "source": [
    "eigenvalues, scores, loadings = hl.hwe_normalized_pca(pruned_mt.GT, k=2)"
   ]
  },
  {
   "cell_type": "code",
   "execution_count": 152,
   "metadata": {},
   "outputs": [],
   "source": [
    "pruned_mt = pruned_mt.annotate_cols(scores = scores[pruned_mt.s].scores)"
   ]
  },
  {
   "cell_type": "code",
   "execution_count": 153,
   "metadata": {},
   "outputs": [
    {
     "name": "stderr",
     "output_type": "stream",
     "text": [
      "2021-05-12 16:10:48 Hail: INFO: Ordering unsorted dataset with network shuffle\n",
      "2021-05-12 16:10:48 Hail: INFO: Ordering unsorted dataset with network shuffle\n",
      "2021-05-12 16:10:49 Hail: INFO: Coerced sorted dataset\n",
      "2021-05-12 16:10:49 Hail: INFO: Ordering unsorted dataset with network shuffle\n"
     ]
    },
    {
     "data": {
      "text/html": [
       "\n",
       "\n",
       "\n",
       "\n",
       "\n",
       "\n",
       "  <div class=\"bk-root\" id=\"ba205d48-54a4-4765-bacd-488f7ff8f876\" data-root-id=\"3557\"></div>\n"
      ]
     },
     "metadata": {},
     "output_type": "display_data"
    },
    {
     "data": {
      "application/javascript": [
       "(function(root) {\n",
       "  function embed_document(root) {\n",
       "    \n",
       "  var docs_json = {\"5a195d6c-7295-4d23-8979-afd5ca26b8e6\":{\"roots\":{\"references\":[{\"attributes\":{\"below\":[{\"id\":\"3568\",\"type\":\"LinearAxis\"}],\"center\":[{\"id\":\"3572\",\"type\":\"Grid\"},{\"id\":\"3577\",\"type\":\"Grid\"}],\"left\":[{\"id\":\"3573\",\"type\":\"LinearAxis\"},{\"id\":\"3644\",\"type\":\"Legend\"},{\"id\":\"3645\",\"type\":\"ColorBar\"}],\"plot_height\":600,\"plot_width\":800,\"renderers\":[{\"id\":\"3600\",\"type\":\"GlyphRenderer\"},{\"id\":\"3606\",\"type\":\"GlyphRenderer\"},{\"id\":\"3612\",\"type\":\"GlyphRenderer\"},{\"id\":\"3618\",\"type\":\"GlyphRenderer\"},{\"id\":\"3624\",\"type\":\"GlyphRenderer\"},{\"id\":\"3630\",\"type\":\"GlyphRenderer\"},{\"id\":\"3636\",\"type\":\"GlyphRenderer\"}],\"title\":{\"id\":\"3558\",\"type\":\"Title\"},\"toolbar\":{\"id\":\"3584\",\"type\":\"Toolbar\"},\"x_range\":{\"id\":\"3560\",\"type\":\"DataRange1d\"},\"x_scale\":{\"id\":\"3564\",\"type\":\"LinearScale\"},\"y_range\":{\"id\":\"3562\",\"type\":\"DataRange1d\"},\"y_scale\":{\"id\":\"3566\",\"type\":\"LinearScale\"}},\"id\":\"3557\",\"subtype\":\"Figure\",\"type\":\"Plot\"},{\"attributes\":{\"axis_label\":\"PC2\",\"formatter\":{\"id\":\"3773\",\"type\":\"BasicTickFormatter\"},\"ticker\":{\"id\":\"3574\",\"type\":\"BasicTicker\"}},\"id\":\"3573\",\"type\":\"LinearAxis\"},{\"attributes\":{\"callback\":null,\"data\":{\"index\":[0,1,2,3,4,5,6,7,8,9,10,11,12,13,14,15,16,17,18,19,20,21,22,23,24,25,26,27,28,29,30,31,32,33,34,35,36,37,38,39,40,41,42,43,44,45,46,47,48,49,50,51,52,53,54,55,56,57,58,59,60,61,62,63,64,65,66,67,68,69,70,71,72,73,74,75,76,77,78,79,80,81,82,83,84,85,86,87,88,89,90,91,92,93,94,95,96,97,98,99,100,101,102,103,104,105,106,107,108,109,110,111,112,113,114,115,116,117,118,119,120,121,122,123,124,125,126,127,128,129,130,131,132,133,134,135,136,137,138,139,140,141,142,143,144,145,146,147,148,149,150,151,152,153,154,155,156,157,158,159,160,161,162,163,164,165,166,167,168,169,170,171,172,173,174,175,176,177,178,179,180,181,182,183,184,185,186,187,188,189,190,191,192,193,194,195,196,197,198,199,200,201,202,203,204,205,206,207,208,209,210,211,212,213,214,215,216,217,218,219,220,221,222,223,224,225,226,227,228,229,230,231,232,233,234,235,236,237,238,239,240,241,242,243,244,245,246,247,248,249,250,251,252,253,254,255,256,257,258,259,260,261,262,263,264,265,266,267,268,269,270,271,272,273,274,275,276,277,278,279,280,281,282,283,284,285,286,287,288,289,290,291,292,293,294,295,296,297,298,299,300,301,302,303,304,305,306,307,308,309,310,311,312,313,314,315,316,317,318,319,320,321,322,323,324,325,326,327,328,329,330,331,332,333,334,335,336,337,338,339,340,341,342,343,344,345,346,347,348,349,350,351,352,353,354,355,356,357,358,359,360,361,362,363,364,365,366,367,368,369,370,371,372,373,374,375,376,377,378,379,380,381,382,383,384,385,386,387,388,389,390,391,392,393,394,395,396,397,398,399,400,401],\"label\":[\"5.00000e+00\",\"5.00000e+00\",\"3.00000e+00\",\"5.00000e+00\",\"1.00000e+00\",\"1.00000e+00\",\"NA\",\"2.00000e+00\",\"4.00000e+00\",\"6.00000e+00\",\"3.00000e+00\",\"1.00000e+00\",\"3.00000e+00\",\"4.00000e+00\",\"2.00000e+00\",\"1.00000e+00\",\"4.00000e+00\",\"3.00000e+00\",\"6.00000e+00\",\"3.00000e+00\",\"3.00000e+00\",\"NA\",\"5.00000e+00\",\"3.00000e+00\",\"1.00000e+00\",\"3.00000e+00\",\"1.00000e+00\",\"4.00000e+00\",\"2.00000e+00\",\"4.00000e+00\",\"2.00000e+00\",\"2.00000e+00\",\"3.00000e+00\",\"2.00000e+00\",\"2.00000e+00\",\"2.00000e+00\",\"2.00000e+00\",\"6.00000e+00\",\"3.00000e+00\",\"4.00000e+00\",\"2.00000e+00\",\"5.00000e+00\",\"NA\",\"4.00000e+00\",\"NA\",\"NA\",\"1.00000e+00\",\"3.00000e+00\",\"1.00000e+00\",\"3.00000e+00\",\"3.00000e+00\",\"NA\",\"3.00000e+00\",\"5.00000e+00\",\"3.00000e+00\",\"1.00000e+00\",\"3.00000e+00\",\"3.00000e+00\",\"2.00000e+00\",\"2.00000e+00\",\"4.00000e+00\",\"4.00000e+00\",\"2.00000e+00\",\"4.00000e+00\",\"3.00000e+00\",\"3.00000e+00\",\"NA\",\"3.00000e+00\",\"2.00000e+00\",\"3.00000e+00\",\"4.00000e+00\",\"6.00000e+00\",\"3.00000e+00\",\"3.00000e+00\",\"3.00000e+00\",\"2.00000e+00\",\"3.00000e+00\",\"3.00000e+00\",\"2.00000e+00\",\"6.00000e+00\",\"NA\",\"2.00000e+00\",\"1.00000e+00\",\"2.00000e+00\",\"3.00000e+00\",\"2.00000e+00\",\"3.00000e+00\",\"4.00000e+00\",\"2.00000e+00\",\"3.00000e+00\",\"NA\",\"2.00000e+00\",\"3.00000e+00\",\"3.00000e+00\",\"2.00000e+00\",\"3.00000e+00\",\"2.00000e+00\",\"2.00000e+00\",\"NA\",\"NA\",\"2.00000e+00\",\"3.00000e+00\",\"3.00000e+00\",\"1.00000e+00\",\"1.00000e+00\",\"6.00000e+00\",\"3.00000e+00\",\"1.00000e+00\",\"NA\",\"3.00000e+00\",\"2.00000e+00\",\"1.00000e+00\",\"1.00000e+00\",\"2.00000e+00\",\"6.00000e+00\",\"NA\",\"3.00000e+00\",\"3.00000e+00\",\"2.00000e+00\",\"1.00000e+00\",\"5.00000e+00\",\"2.00000e+00\",\"4.00000e+00\",\"NA\",\"2.00000e+00\",\"3.00000e+00\",\"2.00000e+00\",\"6.00000e+00\",\"NA\",\"3.00000e+00\",\"3.00000e+00\",\"2.00000e+00\",\"3.00000e+00\",\"2.00000e+00\",\"2.00000e+00\",\"NA\",\"3.00000e+00\",\"3.00000e+00\",\"2.00000e+00\",\"3.00000e+00\",\"3.00000e+00\",\"3.00000e+00\",\"NA\",\"3.00000e+00\",\"1.00000e+00\",\"2.00000e+00\",\"3.00000e+00\",\"NA\",\"2.00000e+00\",\"3.00000e+00\",\"3.00000e+00\",\"6.00000e+00\",\"3.00000e+00\",\"6.00000e+00\",\"6.00000e+00\",\"2.00000e+00\",\"2.00000e+00\",\"3.00000e+00\",\"1.00000e+00\",\"6.00000e+00\",\"3.00000e+00\",\"4.00000e+00\",\"4.00000e+00\",\"3.00000e+00\",\"3.00000e+00\",\"4.00000e+00\",\"2.00000e+00\",\"3.00000e+00\",\"4.00000e+00\",\"1.00000e+00\",\"6.00000e+00\",\"3.00000e+00\",\"3.00000e+00\",\"2.00000e+00\",\"3.00000e+00\",\"4.00000e+00\",\"3.00000e+00\",\"3.00000e+00\",\"3.00000e+00\",\"3.00000e+00\",\"1.00000e+00\",\"1.00000e+00\",\"3.00000e+00\",\"3.00000e+00\",\"2.00000e+00\",\"4.00000e+00\",\"2.00000e+00\",\"4.00000e+00\",\"5.00000e+00\",\"2.00000e+00\",\"1.00000e+00\",\"2.00000e+00\",\"2.00000e+00\",\"2.00000e+00\",\"6.00000e+00\",\"1.00000e+00\",\"2.00000e+00\",\"2.00000e+00\",\"3.00000e+00\",\"2.00000e+00\",\"3.00000e+00\",\"1.00000e+00\",\"1.00000e+00\",\"NA\",\"2.00000e+00\",\"3.00000e+00\",\"6.00000e+00\",\"2.00000e+00\",\"6.00000e+00\",\"1.00000e+00\",\"3.00000e+00\",\"1.00000e+00\",\"4.00000e+00\",\"NA\",\"3.00000e+00\",\"3.00000e+00\",\"3.00000e+00\",\"2.00000e+00\",\"2.00000e+00\",\"NA\",\"1.00000e+00\",\"6.00000e+00\",\"1.00000e+00\",\"3.00000e+00\",\"3.00000e+00\",\"3.00000e+00\",\"3.00000e+00\",\"5.00000e+00\",\"3.00000e+00\",\"2.00000e+00\",\"3.00000e+00\",\"3.00000e+00\",\"2.00000e+00\",\"1.00000e+00\",\"2.00000e+00\",\"4.00000e+00\",\"3.00000e+00\",\"NA\",\"3.00000e+00\",\"3.00000e+00\",\"2.00000e+00\",\"1.00000e+00\",\"3.00000e+00\",\"2.00000e+00\",\"3.00000e+00\",\"3.00000e+00\",\"NA\",\"4.00000e+00\",\"3.00000e+00\",\"2.00000e+00\",\"5.00000e+00\",\"3.00000e+00\",\"2.00000e+00\",\"3.00000e+00\",\"3.00000e+00\",\"2.00000e+00\",\"2.00000e+00\",\"1.00000e+00\",\"3.00000e+00\",\"6.00000e+00\",\"3.00000e+00\",\"1.00000e+00\",\"1.00000e+00\",\"2.00000e+00\",\"3.00000e+00\",\"1.00000e+00\",\"1.00000e+00\",\"3.00000e+00\",\"3.00000e+00\",\"3.00000e+00\",\"3.00000e+00\",\"5.00000e+00\",\"5.00000e+00\",\"1.00000e+00\",\"2.00000e+00\",\"4.00000e+00\",\"6.00000e+00\",\"2.00000e+00\",\"6.00000e+00\",\"4.00000e+00\",\"6.00000e+00\",\"1.00000e+00\",\"3.00000e+00\",\"3.00000e+00\",\"6.00000e+00\",\"NA\",\"3.00000e+00\",\"3.00000e+00\",\"6.00000e+00\",\"3.00000e+00\",\"3.00000e+00\",\"2.00000e+00\",\"3.00000e+00\",\"3.00000e+00\",\"2.00000e+00\",\"3.00000e+00\",\"2.00000e+00\",\"1.00000e+00\",\"3.00000e+00\",\"3.00000e+00\",\"1.00000e+00\",\"6.00000e+00\",\"1.00000e+00\",\"1.00000e+00\",\"3.00000e+00\",\"3.00000e+00\",\"1.00000e+00\",\"3.00000e+00\",\"2.00000e+00\",\"NA\",\"2.00000e+00\",\"6.00000e+00\",\"3.00000e+00\",\"5.00000e+00\",\"3.00000e+00\",\"3.00000e+00\",\"NA\",\"2.00000e+00\",\"3.00000e+00\",\"4.00000e+00\",\"2.00000e+00\",\"1.00000e+00\",\"3.00000e+00\",\"2.00000e+00\",\"3.00000e+00\",\"3.00000e+00\",\"3.00000e+00\",\"3.00000e+00\",\"3.00000e+00\",\"5.00000e+00\",\"6.00000e+00\",\"6.00000e+00\",\"2.00000e+00\",\"2.00000e+00\",\"3.00000e+00\",\"3.00000e+00\",\"2.00000e+00\",\"3.00000e+00\",\"3.00000e+00\",\"2.00000e+00\",\"3.00000e+00\",\"2.00000e+00\",\"6.00000e+00\",\"1.00000e+00\",\"3.00000e+00\",\"3.00000e+00\",\"3.00000e+00\",\"NA\",\"6.00000e+00\",\"2.00000e+00\",\"1.00000e+00\",\"6.00000e+00\",\"2.00000e+00\",\"1.00000e+00\",\"3.00000e+00\",\"3.00000e+00\",\"3.00000e+00\",\"2.00000e+00\",\"3.00000e+00\",\"3.00000e+00\",\"5.00000e+00\",\"3.00000e+00\",\"3.00000e+00\",\"1.00000e+00\",\"3.00000e+00\",\"3.00000e+00\",\"3.00000e+00\",\"3.00000e+00\",\"6.00000e+00\",\"2.00000e+00\",\"3.00000e+00\",\"3.00000e+00\",\"1.00000e+00\",\"1.00000e+00\",\"3.00000e+00\",\"3.00000e+00\",\"3.00000e+00\",\"3.00000e+00\",\"NA\",\"3.00000e+00\",\"2.00000e+00\",\"2.00000e+00\",\"NA\",\"3.00000e+00\",\"6.00000e+00\",\"1.00000e+00\",\"NA\",\"3.00000e+00\",\"5.00000e+00\",\"3.00000e+00\",\"5.00000e+00\",\"1.00000e+00\",\"3.00000e+00\",\"NA\",\"NA\",\"6.00000e+00\",\"3.00000e+00\",\"3.00000e+00\",\"NA\",\"NA\",\"2.00000e+00\",\"3.00000e+00\"],\"x\":{\"__ndarray__\":\"Q6BkH1Or1b82DSfTEvjSvxbdXOEhgdG/cpsVfTu/0L9ho/rnSqHFv72cMccvqsS/B7nG9PkgxL9cke8eH8nDv/AkxlXqm8O/zQxpVTAGw7/BdK56D+7BvywYpszq2MG/T60YxJ8Zwb+jhxDyyQPBvx8+xo70+sC/ghSf+IkJwb9E1MGfGMzAvxcRo/qX17+/lTJ+7rQ4v7+OYSkQd/2+v12JjuD/tr6/qJd4gVGevr8bBFysVaO+v/aUphjeH72/YAuSLzrwvL926ocqrO28vxfVVI1g3by/udt/etCMvL/Jw3ISg1G8vwI+WyR8SLy/pg8lMwcevL/Zw9wK2Na6v0sXMG+FY7q/yqmYdmaGub/Uas9iSXC5v4EpR0EFJ7m/OX4emtu/uL8lvI+Z0vG4v9KONtcxy7i/gc6QMyBouL8hJm71UEu4v0MQY3mfJLi/K1QFWeUduL+GJYOwJli4v823BoO4DLi/wQ/edWrkt7/TO8LgHtS3vx6uedG9Tbe/K/HaBYBZt7+c+qBJXKO2v+jjoSr/gba/klohcCxQtr9+jAxwfyW2v4m1b7ds57W/WrjtcVcatr9vWNtCALO1v1bZp+tFf7W/gD84gFQptb+nJ4UG/RW1v+6y1SLZD7W/ChMWnfU7tb/OSEsBC1u0v0eOnKwkd7S/wJ8WnzodtL9LCCnHmgK0vyVrYNynUbO/chzC385Hs7+StaNX0uqyv83h2B/R9LK/HoyjG357sr/65jAXiyWyv4Viw4pgcLK/qqnjmvoSsr+aK9RFhqqxv82nxYHFrbG/yh/FZg4osb9zF6kKEsewvyFmlPk/x7C/2LZR8hWlsL+ZITF1YfCvvzvJkI98GbC/DMl1KTnar78jZ92xsp2vv+OgvM/J1a+/zRk5JXvHr7+BD/WoTD+vv08RWCxqB6+/L5EzLwyIrr916wxlWDOuv3nHHsTwra2/pf2ofZ7srb9IEEY21+mtvxKYttCMVK2/SYOcVIXXrL9AoPXThFWtvwffPPdQ3qy/BrhFuNNlrL9NinXJQvWrv5RYe+/uMqu/N8dNsbXtqr9JOALRokGrv/g1LTadD6u//U0/TXzvqb8MeETPOxuqv9jP6qdF5qm/kJzks21fqb+7IvCyq4Kpv94i74Pe3Ki/t9cLifIPqL+zw3AjXOenv1GH14YTQqe/Pb2RpMlNp79j0BFpQ1Knv2ptkdZ0xqa/yPFwnQlPpr+W+0CeuUilv1S/yTz0fKW/TrAGDQPSpb9RFi7AMtSlv2WgHTTjbaW/XQU27xwGpb/uWdZqLB+lvzmQ2NF9/qS/l+kmU58npb/DWP73EF6kvwFnjKeX26O/pGR9NI3yor9h8bK7Nx2jv9x5AfaXM6O/d5CdNjtCor/wq9okF4Givz+/8RCAkaK/zW935tdUor/g7lDKLo2hv5jQacwvHKK/6/DHcZE+ob/Xd+SeCF+hv+X/O5oOKKG/05f7+LG2oL9gf6g5bbOfv2//xAoeC6C/XIs+MKMLoL9AnpNAvdafv/UWESv9b56/o/45IeMsnr+A8DEYxjafv+6yg0pu95u/Rywnr/Gmm790mEFhOcKbv05qjiyYF5y/NP1a0+uQmr8s34aYm2Oav02dgX7lHpm/aeCYbJdGmb/Dxrz7G4aZvxcK9NcRJZq/aqnk2OZHmb/rHOoVjaCYvyVket2GjZi/Qhr0LrtRl79vmAJ90qeXv0Bh66MF35a/Kd4zDP0llr8ewtHwgFyWv57Nl6tLPZa/FXI2KSUYlr+r0lSj8/OVv93fIMAxpZO/Xel/kDjpk79KYUxxA2qSv8CsdAq0u5G/F2NzwRGwkL9jYZ71Jx+Ovzdus0dEuY6/vYwhTePZjL/dL5EfXGaMv4RT3fcF44u/VM9B6gZOi7/gRfkMCPCGv90OL8kCM4i/ZvIRHRPXhb/KfttUGpCBv03z0IWJoYG/c5Tbr/6JgL/tNeNXOGqBv/nzIQqdCnm/2jEH8XUue79uouivm4F4vwAOo8RIMHO//23nGX2jZr9yMN9hmWVpv/TaSG+BOWi/ek12IiXyaL8E8foIbbGkvqqYj1EqmQe/JwkTKwn5T7+DmrZ3uikLvyxzAi86GzS/OSqnGFxfBr9Drdo4ezRBP+AOWV+zyT4/U7dacHEdQz8r0sRSWVVFP9K9fIPv7T8/+rBdG8w0VT+VrCPP7vlcP0/JoiZgeGI/gluiMMaeXT8XR9lJk3lkPxl/4K9oUmk/XRJLPO9FZT+JsXtEV15xP4XjFLYRJnI/SlY6ZplPcz+YOlf9IfFwP00tBPifGHc/DYXohlO2ez+AGsb3bJB6P5evvlQpc3k/1injfwlyfT/NhYn6xVF/P7KzG2N8Q34/QdF8HY9Lgj+qdJpi6UKCP3eGUckGlYM/bO4GGOSPhj/6X3Cy5cKEPx/AzOwteoU/QDZfsEFRhT8IL0tfOeuGP6qQrrbORIg/gPZBI/ApiT8ly83i4f+JP/dX++8Uook/UjOMAUHCij9pCtaSfg2LP7aL3NKbYIw/BlhMmpTKjT+cxp/I252NP2VIfh/3Wo8/L32SnzGXjj/DrW4najCQPw0ZrPdYS5E/L4NeE8BWkT/lfeWykzWSP8IDduEoDpI/iy0yDri3kz/X5hBJyPmSP5S2nXbVTZQ/uFu30lptlD8ArfLIg1mWPzi/CXa6mpU/Jso4PXz6lT9kb/dZKuCWP1XFvRz8Apg/saCX1xapmD8y+Upo/Q+ZP7ramfN+TZo/mRCWG50+mT+2QhPxta6ZP9gbU/aWHpk/OCzKXEEjmT8nD1fFrLqZP1Prp32Pq5o/3Gk2EwKGmz9T6cIFmR2cP4jEe7Zs0ps/udgqMCZxnT/tJ+eJOFGfP5RwDFoIU58/jS7OjSA8nz9rS11xRjugP4UwKUd5wKA/QAYGhv0noT+GfDeMFkShP+wPrFC1C6I/sTXv7R39oT+csYF/tOWhP60qv9FpyaI/FZIPMVc+oj9GudOV6GiiP5/43YzfNaI/DDx13GkCoz/XYEEkTk+jPwdD898gMKM/UiK7ywsApD+1lZiZ7MOjP9MC58n/M6Q/2ZeD1yA1pT+MuudLuD+lP/M8yIg1mKU/IfAHNd9cpT/CNc9jPjumP22mpqoAeqY/A8jv6uBypj8ydaWuYWOmP4oTkDsg2qY/nVqnTa36pj8fHp3jHoGnP2HALrfjWag/uoLjHU/WqD/8mYSZv7ypPw6p5zAP7Kk/0uZzstUWqj/+B8NWrkmqPwyMpuqDx6o/77G8iWBoqz+z7gO9cyOrP+Lgt/Iu5as/dvT4zeDFqz9GkowjwwKsPxo762zMdqw/BsDxuLTErD/UNsj10VSsP1nfRUNSXq0/bVYtc1wjrT/Rh0iCSGWtP0TbnsX6Xa0/IzRMV2phrT/N86hgj4qtP8bGJ3QTwa0/au+wSbxRrj9l4tG99zivP+XGAOVgEa8/5txsREiErz/VgFbu+3qvPwAwVbIXJLA/uIfI63UYsD+iEH9+jm+wP596oXUjq7A/PxVOcQw0sT8C+cyY6CCxP1qZmcK//bA/XNjemQAasT+Zf2NdHf+wP7FjfUahdrE/hIhw67CHsT9pqmue4s+xP1p3MmZSGLM/ivj22T4Fsz808R4Qhz2zP3FK6j12mrM/HLUp8fvxsz8HK09x19WzPzLfX01mF7Q/UntlYV7vtD97WPqKtuS0P+JW+wVnw7Q/GPMZFb2CtT+i2hp5VE61PwetANaI6LU/tJu283I6tj+TFfkWbqq2P1Z/JGatpbY//GVXsGentz+DcUvmf5+3Pxhxa0udJbg/NWGrfeRouD9+0i/uIZm4P5Pgp+ugBbk/9CM+r+AwuT9dVsjOCVy5P89Iz78Haro/9yAdmb/Iuj8Fm6vW+MG7P4xnkkTCobs/G4rk38N9vD+O2GNKDq68P7ioX1LO9rw/NKKus5tFvT9Hz8WPznS9P9RxUqlLu74/Kv0DR3/jvj8/Bcv6pV6/P7ZxAUYq9r8/hPeRwQVSwD/RnlimImjAP8HhrQ39ccA/5pANfrBXwT8h1KeBZ4HBP5IEk4VBGMI/wAOn8WACwj+d+Qrit6rCP/OGIoqHzcI/SKyW+Xcowz8pRycYEcDDP3CMcPh8O8Q/Echp0bLkxD+yBa3osxvFP1+A2GkKJcc/zYw8KCiyxz+utJ/WHbvHP49SySrAWMk/yapwji6UyT8fTLLErRLLP0BrCnRq2ss/PRvMcqoBzD9L/tGp4IvOPzL7ggchtc4//QKgv5UQzz+Fuh3vtk7PP+zUvFf4ctE/\",\"dtype\":\"float64\",\"shape\":[402]},\"y\":{\"__ndarray__\":\"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\",\"dtype\":\"float64\",\"shape\":[402]}},\"selected\":{\"id\":\"3780\",\"type\":\"Selection\"},\"selection_policy\":{\"id\":\"3779\",\"type\":\"UnionRenderers\"}},\"id\":\"3593\",\"type\":\"ColumnDataSource\"},{\"attributes\":{\"filters\":[{\"id\":\"3619\",\"type\":\"GroupFilter\"}],\"source\":{\"id\":\"3593\",\"type\":\"ColumnDataSource\"}},\"id\":\"3620\",\"type\":\"CDSView\"},{\"attributes\":{\"fill_alpha\":{\"value\":0.1},\"fill_color\":{\"value\":\"#1f77b4\"},\"line_alpha\":{\"value\":0.1},\"line_color\":{\"value\":\"#1f77b4\"},\"x\":{\"field\":\"x\"},\"y\":{\"field\":\"y\"}},\"id\":\"3629\",\"type\":\"Circle\"},{\"attributes\":{},\"id\":\"3582\",\"type\":\"ResetTool\"},{\"attributes\":{\"label\":{\"value\":\"NA\"},\"renderers\":[{\"id\":\"3636\",\"type\":\"GlyphRenderer\"}]},\"id\":\"3643\",\"type\":\"LegendItem\"},{\"attributes\":{\"column_name\":\"label\",\"group\":\"2.00000e+00\"},\"id\":\"3601\",\"type\":\"GroupFilter\"},{\"attributes\":{\"filters\":[{\"id\":\"3595\",\"type\":\"GroupFilter\"}],\"source\":{\"id\":\"3593\",\"type\":\"ColumnDataSource\"}},\"id\":\"3596\",\"type\":\"CDSView\"},{\"attributes\":{\"filters\":[{\"id\":\"3607\",\"type\":\"GroupFilter\"}],\"source\":{\"id\":\"3593\",\"type\":\"ColumnDataSource\"}},\"id\":\"3608\",\"type\":\"CDSView\"},{\"attributes\":{\"fill_alpha\":{\"value\":0.1},\"fill_color\":{\"value\":\"#1f77b4\"},\"line_alpha\":{\"value\":0.1},\"line_color\":{\"value\":\"#1f77b4\"},\"x\":{\"field\":\"x\"},\"y\":{\"field\":\"y\"}},\"id\":\"3635\",\"type\":\"Circle\"},{\"attributes\":{},\"id\":\"3776\",\"type\":\"BasicTicker\"},{\"attributes\":{\"data_source\":{\"id\":\"3593\",\"type\":\"ColumnDataSource\"},\"glyph\":{\"id\":\"3598\",\"type\":\"Circle\"},\"hover_glyph\":null,\"muted_glyph\":null,\"nonselection_glyph\":{\"id\":\"3599\",\"type\":\"Circle\"},\"selection_glyph\":null,\"view\":{\"id\":\"3596\",\"type\":\"CDSView\"}},\"id\":\"3600\",\"type\":\"GlyphRenderer\"},{\"attributes\":{\"callback\":null},\"id\":\"3560\",\"type\":\"DataRange1d\"},{\"attributes\":{\"column_name\":\"label\",\"group\":\"1.00000e+00\"},\"id\":\"3595\",\"type\":\"GroupFilter\"},{\"attributes\":{\"column_name\":\"label\",\"group\":\"4.00000e+00\"},\"id\":\"3613\",\"type\":\"GroupFilter\"},{\"attributes\":{\"axis_label\":\"PC1\",\"formatter\":{\"id\":\"3777\",\"type\":\"BasicTickFormatter\"},\"ticker\":{\"id\":\"3569\",\"type\":\"BasicTicker\"}},\"id\":\"3568\",\"type\":\"LinearAxis\"},{\"attributes\":{\"fill_color\":{\"field\":\"label\",\"transform\":{\"id\":\"3594\",\"type\":\"CategoricalColorMapper\"}},\"line_color\":{\"field\":\"label\",\"transform\":{\"id\":\"3594\",\"type\":\"CategoricalColorMapper\"}},\"x\":{\"field\":\"x\"},\"y\":{\"field\":\"y\"}},\"id\":\"3604\",\"type\":\"Circle\"},{\"attributes\":{\"filters\":[{\"id\":\"3631\",\"type\":\"GroupFilter\"}],\"source\":{\"id\":\"3593\",\"type\":\"ColumnDataSource\"}},\"id\":\"3632\",\"type\":\"CDSView\"},{\"attributes\":{},\"id\":\"3780\",\"type\":\"Selection\"},{\"attributes\":{\"fill_alpha\":{\"value\":0.1},\"fill_color\":{\"value\":\"#1f77b4\"},\"line_alpha\":{\"value\":0.1},\"line_color\":{\"value\":\"#1f77b4\"},\"x\":{\"field\":\"x\"},\"y\":{\"field\":\"y\"}},\"id\":\"3599\",\"type\":\"Circle\"},{\"attributes\":{},\"id\":\"3777\",\"type\":\"BasicTickFormatter\"},{\"attributes\":{\"data_source\":{\"id\":\"3593\",\"type\":\"ColumnDataSource\"},\"glyph\":{\"id\":\"3622\",\"type\":\"Circle\"},\"hover_glyph\":null,\"muted_glyph\":null,\"nonselection_glyph\":{\"id\":\"3623\",\"type\":\"Circle\"},\"selection_glyph\":null,\"view\":{\"id\":\"3620\",\"type\":\"CDSView\"}},\"id\":\"3624\",\"type\":\"GlyphRenderer\"},{\"attributes\":{\"dimension\":1,\"ticker\":{\"id\":\"3574\",\"type\":\"BasicTicker\"}},\"id\":\"3577\",\"type\":\"Grid\"},{\"attributes\":{\"filters\":[{\"id\":\"3613\",\"type\":\"GroupFilter\"}],\"source\":{\"id\":\"3593\",\"type\":\"ColumnDataSource\"}},\"id\":\"3614\",\"type\":\"CDSView\"},{\"attributes\":{\"overlay\":{\"id\":\"3781\",\"type\":\"BoxAnnotation\"}},\"id\":\"3580\",\"type\":\"BoxZoomTool\"},{\"attributes\":{\"label\":{\"value\":\"1.00000e+00\"},\"renderers\":[{\"id\":\"3600\",\"type\":\"GlyphRenderer\"}]},\"id\":\"3637\",\"type\":\"LegendItem\"},{\"attributes\":{\"label\":{\"value\":\"4.00000e+00\"},\"renderers\":[{\"id\":\"3618\",\"type\":\"GlyphRenderer\"}]},\"id\":\"3640\",\"type\":\"LegendItem\"},{\"attributes\":{\"factors\":[\"4.00000e+00\",\"1.00000e+00\",\"3.00000e+00\",\"NA\",\"6.00000e+00\",\"5.00000e+00\",\"2.00000e+00\"],\"palette\":[\"#1f77b4\",\"#ff7f0e\",\"#2ca02c\",\"#d62728\",\"#9467bd\",\"#8c564b\",\"#e377c2\",\"#7f7f7f\",\"#bcbd22\",\"#17becf\"]},\"id\":\"3594\",\"type\":\"CategoricalColorMapper\"},{\"attributes\":{},\"id\":\"3569\",\"type\":\"BasicTicker\"},{\"attributes\":{},\"id\":\"3581\",\"type\":\"SaveTool\"},{\"attributes\":{\"label\":{\"value\":\"5.00000e+00\"},\"renderers\":[{\"id\":\"3624\",\"type\":\"GlyphRenderer\"}]},\"id\":\"3641\",\"type\":\"LegendItem\"},{\"attributes\":{\"text\":\"PCA\"},\"id\":\"3558\",\"type\":\"Title\"},{\"attributes\":{},\"id\":\"3583\",\"type\":\"HelpTool\"},{\"attributes\":{\"label\":{\"value\":\"6.00000e+00\"},\"renderers\":[{\"id\":\"3630\",\"type\":\"GlyphRenderer\"}]},\"id\":\"3642\",\"type\":\"LegendItem\"},{\"attributes\":{\"column_name\":\"label\",\"group\":\"6.00000e+00\"},\"id\":\"3625\",\"type\":\"GroupFilter\"},{\"attributes\":{\"fill_alpha\":{\"value\":0.1},\"fill_color\":{\"value\":\"#1f77b4\"},\"line_alpha\":{\"value\":0.1},\"line_color\":{\"value\":\"#1f77b4\"},\"x\":{\"field\":\"x\"},\"y\":{\"field\":\"y\"}},\"id\":\"3623\",\"type\":\"Circle\"},{\"attributes\":{\"fill_color\":{\"field\":\"label\",\"transform\":{\"id\":\"3594\",\"type\":\"CategoricalColorMapper\"}},\"line_color\":{\"field\":\"label\",\"transform\":{\"id\":\"3594\",\"type\":\"CategoricalColorMapper\"}},\"x\":{\"field\":\"x\"},\"y\":{\"field\":\"y\"}},\"id\":\"3634\",\"type\":\"Circle\"},{\"attributes\":{\"column_name\":\"label\",\"group\":\"3.00000e+00\"},\"id\":\"3607\",\"type\":\"GroupFilter\"},{\"attributes\":{\"color_mapper\":null,\"formatter\":{\"id\":\"3775\",\"type\":\"BasicTickFormatter\"},\"ticker\":{\"id\":\"3776\",\"type\":\"BasicTicker\"},\"visible\":false},\"id\":\"3645\",\"type\":\"ColorBar\"},{\"attributes\":{\"fill_color\":{\"field\":\"label\",\"transform\":{\"id\":\"3594\",\"type\":\"CategoricalColorMapper\"}},\"line_color\":{\"field\":\"label\",\"transform\":{\"id\":\"3594\",\"type\":\"CategoricalColorMapper\"}},\"x\":{\"field\":\"x\"},\"y\":{\"field\":\"y\"}},\"id\":\"3610\",\"type\":\"Circle\"},{\"attributes\":{\"active_drag\":\"auto\",\"active_inspect\":\"auto\",\"active_multi\":null,\"active_scroll\":\"auto\",\"active_tap\":\"auto\",\"tools\":[{\"id\":\"3578\",\"type\":\"PanTool\"},{\"id\":\"3579\",\"type\":\"WheelZoomTool\"},{\"id\":\"3580\",\"type\":\"BoxZoomTool\"},{\"id\":\"3581\",\"type\":\"SaveTool\"},{\"id\":\"3582\",\"type\":\"ResetTool\"},{\"id\":\"3583\",\"type\":\"HelpTool\"},{\"id\":\"3592\",\"type\":\"HoverTool\"}]},\"id\":\"3584\",\"type\":\"Toolbar\"},{\"attributes\":{\"data_source\":{\"id\":\"3593\",\"type\":\"ColumnDataSource\"},\"glyph\":{\"id\":\"3610\",\"type\":\"Circle\"},\"hover_glyph\":null,\"muted_glyph\":null,\"nonselection_glyph\":{\"id\":\"3611\",\"type\":\"Circle\"},\"selection_glyph\":null,\"view\":{\"id\":\"3608\",\"type\":\"CDSView\"}},\"id\":\"3612\",\"type\":\"GlyphRenderer\"},{\"attributes\":{},\"id\":\"3578\",\"type\":\"PanTool\"},{\"attributes\":{\"label\":{\"value\":\"3.00000e+00\"},\"renderers\":[{\"id\":\"3612\",\"type\":\"GlyphRenderer\"}]},\"id\":\"3639\",\"type\":\"LegendItem\"},{\"attributes\":{\"data_source\":{\"id\":\"3593\",\"type\":\"ColumnDataSource\"},\"glyph\":{\"id\":\"3616\",\"type\":\"Circle\"},\"hover_glyph\":null,\"muted_glyph\":null,\"nonselection_glyph\":{\"id\":\"3617\",\"type\":\"Circle\"},\"selection_glyph\":null,\"view\":{\"id\":\"3614\",\"type\":\"CDSView\"}},\"id\":\"3618\",\"type\":\"GlyphRenderer\"},{\"attributes\":{},\"id\":\"3775\",\"type\":\"BasicTickFormatter\"},{\"attributes\":{\"fill_alpha\":{\"value\":0.1},\"fill_color\":{\"value\":\"#1f77b4\"},\"line_alpha\":{\"value\":0.1},\"line_color\":{\"value\":\"#1f77b4\"},\"x\":{\"field\":\"x\"},\"y\":{\"field\":\"y\"}},\"id\":\"3611\",\"type\":\"Circle\"},{\"attributes\":{\"callback\":null,\"tooltips\":[[\"x\",\"@x\"],[\"y\",\"@y\"],[\"label\",\"@label\"]]},\"id\":\"3592\",\"type\":\"HoverTool\"},{\"attributes\":{},\"id\":\"3773\",\"type\":\"BasicTickFormatter\"},{\"attributes\":{\"data_source\":{\"id\":\"3593\",\"type\":\"ColumnDataSource\"},\"glyph\":{\"id\":\"3634\",\"type\":\"Circle\"},\"hover_glyph\":null,\"muted_glyph\":null,\"nonselection_glyph\":{\"id\":\"3635\",\"type\":\"Circle\"},\"selection_glyph\":null,\"view\":{\"id\":\"3632\",\"type\":\"CDSView\"}},\"id\":\"3636\",\"type\":\"GlyphRenderer\"},{\"attributes\":{\"label\":{\"value\":\"2.00000e+00\"},\"renderers\":[{\"id\":\"3606\",\"type\":\"GlyphRenderer\"}]},\"id\":\"3638\",\"type\":\"LegendItem\"},{\"attributes\":{\"fill_color\":{\"field\":\"label\",\"transform\":{\"id\":\"3594\",\"type\":\"CategoricalColorMapper\"}},\"line_color\":{\"field\":\"label\",\"transform\":{\"id\":\"3594\",\"type\":\"CategoricalColorMapper\"}},\"x\":{\"field\":\"x\"},\"y\":{\"field\":\"y\"}},\"id\":\"3598\",\"type\":\"Circle\"},{\"attributes\":{\"filters\":[{\"id\":\"3601\",\"type\":\"GroupFilter\"}],\"source\":{\"id\":\"3593\",\"type\":\"ColumnDataSource\"}},\"id\":\"3602\",\"type\":\"CDSView\"},{\"attributes\":{\"fill_alpha\":{\"value\":0.1},\"fill_color\":{\"value\":\"#1f77b4\"},\"line_alpha\":{\"value\":0.1},\"line_color\":{\"value\":\"#1f77b4\"},\"x\":{\"field\":\"x\"},\"y\":{\"field\":\"y\"}},\"id\":\"3605\",\"type\":\"Circle\"},{\"attributes\":{\"fill_color\":{\"field\":\"label\",\"transform\":{\"id\":\"3594\",\"type\":\"CategoricalColorMapper\"}},\"line_color\":{\"field\":\"label\",\"transform\":{\"id\":\"3594\",\"type\":\"CategoricalColorMapper\"}},\"x\":{\"field\":\"x\"},\"y\":{\"field\":\"y\"}},\"id\":\"3628\",\"type\":\"Circle\"},{\"attributes\":{},\"id\":\"3579\",\"type\":\"WheelZoomTool\"},{\"attributes\":{\"data_source\":{\"id\":\"3593\",\"type\":\"ColumnDataSource\"},\"glyph\":{\"id\":\"3628\",\"type\":\"Circle\"},\"hover_glyph\":null,\"muted_glyph\":null,\"nonselection_glyph\":{\"id\":\"3629\",\"type\":\"Circle\"},\"selection_glyph\":null,\"view\":{\"id\":\"3626\",\"type\":\"CDSView\"}},\"id\":\"3630\",\"type\":\"GlyphRenderer\"},{\"attributes\":{\"data_source\":{\"id\":\"3593\",\"type\":\"ColumnDataSource\"},\"glyph\":{\"id\":\"3604\",\"type\":\"Circle\"},\"hover_glyph\":null,\"muted_glyph\":null,\"nonselection_glyph\":{\"id\":\"3605\",\"type\":\"Circle\"},\"selection_glyph\":null,\"view\":{\"id\":\"3602\",\"type\":\"CDSView\"}},\"id\":\"3606\",\"type\":\"GlyphRenderer\"},{\"attributes\":{},\"id\":\"3564\",\"type\":\"LinearScale\"},{\"attributes\":{\"fill_color\":{\"field\":\"label\",\"transform\":{\"id\":\"3594\",\"type\":\"CategoricalColorMapper\"}},\"line_color\":{\"field\":\"label\",\"transform\":{\"id\":\"3594\",\"type\":\"CategoricalColorMapper\"}},\"x\":{\"field\":\"x\"},\"y\":{\"field\":\"y\"}},\"id\":\"3616\",\"type\":\"Circle\"},{\"attributes\":{\"fill_alpha\":{\"value\":0.1},\"fill_color\":{\"value\":\"#1f77b4\"},\"line_alpha\":{\"value\":0.1},\"line_color\":{\"value\":\"#1f77b4\"},\"x\":{\"field\":\"x\"},\"y\":{\"field\":\"y\"}},\"id\":\"3617\",\"type\":\"Circle\"},{\"attributes\":{\"bottom_units\":\"screen\",\"fill_alpha\":{\"value\":0.5},\"fill_color\":{\"value\":\"lightgrey\"},\"left_units\":\"screen\",\"level\":\"overlay\",\"line_alpha\":{\"value\":1.0},\"line_color\":{\"value\":\"black\"},\"line_dash\":[4,4],\"line_width\":{\"value\":2},\"render_mode\":\"css\",\"right_units\":\"screen\",\"top_units\":\"screen\"},\"id\":\"3781\",\"type\":\"BoxAnnotation\"},{\"attributes\":{\"click_policy\":\"hide\",\"items\":[{\"id\":\"3637\",\"type\":\"LegendItem\"},{\"id\":\"3638\",\"type\":\"LegendItem\"},{\"id\":\"3639\",\"type\":\"LegendItem\"},{\"id\":\"3640\",\"type\":\"LegendItem\"},{\"id\":\"3641\",\"type\":\"LegendItem\"},{\"id\":\"3642\",\"type\":\"LegendItem\"},{\"id\":\"3643\",\"type\":\"LegendItem\"}]},\"id\":\"3644\",\"type\":\"Legend\"},{\"attributes\":{},\"id\":\"3779\",\"type\":\"UnionRenderers\"},{\"attributes\":{\"callback\":null},\"id\":\"3562\",\"type\":\"DataRange1d\"},{\"attributes\":{\"ticker\":{\"id\":\"3569\",\"type\":\"BasicTicker\"}},\"id\":\"3572\",\"type\":\"Grid\"},{\"attributes\":{\"fill_color\":{\"field\":\"label\",\"transform\":{\"id\":\"3594\",\"type\":\"CategoricalColorMapper\"}},\"line_color\":{\"field\":\"label\",\"transform\":{\"id\":\"3594\",\"type\":\"CategoricalColorMapper\"}},\"x\":{\"field\":\"x\"},\"y\":{\"field\":\"y\"}},\"id\":\"3622\",\"type\":\"Circle\"},{\"attributes\":{\"filters\":[{\"id\":\"3625\",\"type\":\"GroupFilter\"}],\"source\":{\"id\":\"3593\",\"type\":\"ColumnDataSource\"}},\"id\":\"3626\",\"type\":\"CDSView\"},{\"attributes\":{},\"id\":\"3574\",\"type\":\"BasicTicker\"},{\"attributes\":{\"column_name\":\"label\",\"group\":\"5.00000e+00\"},\"id\":\"3619\",\"type\":\"GroupFilter\"},{\"attributes\":{},\"id\":\"3566\",\"type\":\"LinearScale\"},{\"attributes\":{\"column_name\":\"label\",\"group\":\"NA\"},\"id\":\"3631\",\"type\":\"GroupFilter\"}],\"root_ids\":[\"3557\"]},\"title\":\"Bokeh Application\",\"version\":\"1.2.0\"}};\n",
       "  var render_items = [{\"docid\":\"5a195d6c-7295-4d23-8979-afd5ca26b8e6\",\"roots\":{\"3557\":\"ba205d48-54a4-4765-bacd-488f7ff8f876\"}}];\n",
       "  root.Bokeh.embed.embed_items_notebook(docs_json, render_items);\n",
       "\n",
       "  }\n",
       "  if (root.Bokeh !== undefined) {\n",
       "    embed_document(root);\n",
       "  } else {\n",
       "    var attempts = 0;\n",
       "    var timer = setInterval(function(root) {\n",
       "      if (root.Bokeh !== undefined) {\n",
       "        embed_document(root);\n",
       "        clearInterval(timer);\n",
       "      }\n",
       "      attempts++;\n",
       "      if (attempts > 100) {\n",
       "        console.log(\"Bokeh: ERROR: Unable to run BokehJS code because BokehJS library is missing\");\n",
       "        clearInterval(timer);\n",
       "      }\n",
       "    }, 10, root)\n",
       "  }\n",
       "})(window);"
      ],
      "application/vnd.bokehjs_exec.v0+json": ""
     },
     "metadata": {
      "application/vnd.bokehjs_exec.v0+json": {
       "id": "3557"
      }
     },
     "output_type": "display_data"
    }
   ],
   "source": [
    "p = hl.plot.scatter(pruned_mt.scores[0],\n",
    "                    pruned_mt.scores[1],\n",
    "                    label=hl.str(pruned_mt.birthplace),\n",
    "                    title='PCA', xlabel='PC1', ylabel='PC2')\n",
    "p.plot_width = 800\n",
    "p.plot_height = 600\n",
    "show(p)"
   ]
  },
  {
   "cell_type": "markdown",
   "metadata": {},
   "source": [
    "## Filter outliers\n",
    "\n",
    "In the PCA plot above, it seems we have a few outliers. These individuals may have non-Faroese ancestry, whether they are part Faroese or not, or they may be very closely related. Either way, they prevent us from detecting possible population structure in the data.\n",
    "\n",
    "As we see in the plot above, both PC 1 and 2 describe the variation between these outliers and the rest of the samples. So if we remove these outlier individuals, we may be able to detect population structure."
   ]
  },
  {
   "cell_type": "code",
   "execution_count": 154,
   "metadata": {},
   "outputs": [],
   "source": [
    "no_outerliers_mt = pruned_mt.filter_cols(pruned_mt.scores[1] > -0.2)"
   ]
  },
  {
   "cell_type": "markdown",
   "metadata": {},
   "source": [
    "Now we just do the PCA again, and see if PC 1 and 2 show signs of population structure."
   ]
  },
  {
   "cell_type": "code",
   "execution_count": 155,
   "metadata": {},
   "outputs": [
    {
     "name": "stderr",
     "output_type": "stream",
     "text": [
      "2021-05-12 16:12:50 Hail: INFO: Coerced sorted dataset\n",
      "2021-05-12 16:12:50 Hail: INFO: Ordering unsorted dataset with network shuffle\n",
      "2021-05-12 16:12:52 Hail: INFO: hwe_normalized_pca: running PCA using 46925 variants.\n",
      "2021-05-12 16:12:52 Hail: INFO: Coerced sorted dataset\n",
      "2021-05-12 16:12:52 Hail: INFO: Ordering unsorted dataset with network shuffle\n",
      "2021-05-12 16:12:54 Hail: INFO: pca: running PCA with 2 components...\n"
     ]
    }
   ],
   "source": [
    "eigenvalues, scores, loadings = hl.hwe_normalized_pca(no_outerliers_mt.GT, k=2)"
   ]
  },
  {
   "cell_type": "code",
   "execution_count": 156,
   "metadata": {},
   "outputs": [],
   "source": [
    "no_outerliers_mt = no_outerliers_mt.annotate_cols(scores = scores[no_outerliers_mt.s].scores)"
   ]
  },
  {
   "cell_type": "code",
   "execution_count": 157,
   "metadata": {},
   "outputs": [
    {
     "name": "stderr",
     "output_type": "stream",
     "text": [
      "2021-05-12 16:13:05 Hail: INFO: Ordering unsorted dataset with network shuffle\n",
      "2021-05-12 16:13:05 Hail: INFO: Ordering unsorted dataset with network shuffle\n",
      "2021-05-12 16:13:06 Hail: INFO: Coerced sorted dataset\n",
      "2021-05-12 16:13:06 Hail: INFO: Ordering unsorted dataset with network shuffle\n"
     ]
    },
    {
     "data": {
      "text/html": [
       "\n",
       "\n",
       "\n",
       "\n",
       "\n",
       "\n",
       "  <div class=\"bk-root\" id=\"f883f5dd-4cdf-47b8-82c9-71c182c89ed8\" data-root-id=\"3842\"></div>\n"
      ]
     },
     "metadata": {},
     "output_type": "display_data"
    },
    {
     "data": {
      "application/javascript": [
       "(function(root) {\n",
       "  function embed_document(root) {\n",
       "    \n",
       "  var docs_json = {\"46598296-3d00-41c1-81d9-8bf6f1ff8814\":{\"roots\":{\"references\":[{\"attributes\":{\"below\":[{\"id\":\"3853\",\"type\":\"LinearAxis\"}],\"center\":[{\"id\":\"3857\",\"type\":\"Grid\"},{\"id\":\"3862\",\"type\":\"Grid\"}],\"left\":[{\"id\":\"3858\",\"type\":\"LinearAxis\"},{\"id\":\"3929\",\"type\":\"Legend\"},{\"id\":\"3930\",\"type\":\"ColorBar\"}],\"plot_height\":600,\"plot_width\":800,\"renderers\":[{\"id\":\"3885\",\"type\":\"GlyphRenderer\"},{\"id\":\"3891\",\"type\":\"GlyphRenderer\"},{\"id\":\"3897\",\"type\":\"GlyphRenderer\"},{\"id\":\"3903\",\"type\":\"GlyphRenderer\"},{\"id\":\"3909\",\"type\":\"GlyphRenderer\"},{\"id\":\"3915\",\"type\":\"GlyphRenderer\"},{\"id\":\"3921\",\"type\":\"GlyphRenderer\"}],\"title\":{\"id\":\"3843\",\"type\":\"Title\"},\"toolbar\":{\"id\":\"3869\",\"type\":\"Toolbar\"},\"x_range\":{\"id\":\"3845\",\"type\":\"DataRange1d\"},\"x_scale\":{\"id\":\"3849\",\"type\":\"LinearScale\"},\"y_range\":{\"id\":\"3847\",\"type\":\"DataRange1d\"},\"y_scale\":{\"id\":\"3851\",\"type\":\"LinearScale\"}},\"id\":\"3842\",\"subtype\":\"Figure\",\"type\":\"Plot\"},{\"attributes\":{\"fill_color\":{\"field\":\"label\",\"transform\":{\"id\":\"3879\",\"type\":\"CategoricalColorMapper\"}},\"line_color\":{\"field\":\"label\",\"transform\":{\"id\":\"3879\",\"type\":\"CategoricalColorMapper\"}},\"x\":{\"field\":\"x\"},\"y\":{\"field\":\"y\"}},\"id\":\"3907\",\"type\":\"Circle\"},{\"attributes\":{},\"id\":\"3863\",\"type\":\"PanTool\"},{\"attributes\":{\"factors\":[\"4.00000e+00\",\"1.00000e+00\",\"3.00000e+00\",\"NA\",\"6.00000e+00\",\"5.00000e+00\",\"2.00000e+00\"],\"palette\":[\"#1f77b4\",\"#ff7f0e\",\"#2ca02c\",\"#d62728\",\"#9467bd\",\"#8c564b\",\"#e377c2\",\"#7f7f7f\",\"#bcbd22\",\"#17becf\"]},\"id\":\"3879\",\"type\":\"CategoricalColorMapper\"},{\"attributes\":{\"fill_alpha\":{\"value\":0.1},\"fill_color\":{\"value\":\"#1f77b4\"},\"line_alpha\":{\"value\":0.1},\"line_color\":{\"value\":\"#1f77b4\"},\"x\":{\"field\":\"x\"},\"y\":{\"field\":\"y\"}},\"id\":\"3920\",\"type\":\"Circle\"},{\"attributes\":{\"data_source\":{\"id\":\"3878\",\"type\":\"ColumnDataSource\"},\"glyph\":{\"id\":\"3919\",\"type\":\"Circle\"},\"hover_glyph\":null,\"muted_glyph\":null,\"nonselection_glyph\":{\"id\":\"3920\",\"type\":\"Circle\"},\"selection_glyph\":null,\"view\":{\"id\":\"3917\",\"type\":\"CDSView\"}},\"id\":\"3921\",\"type\":\"GlyphRenderer\"},{\"attributes\":{},\"id\":\"3851\",\"type\":\"LinearScale\"},{\"attributes\":{},\"id\":\"3864\",\"type\":\"WheelZoomTool\"},{\"attributes\":{\"overlay\":{\"id\":\"4076\",\"type\":\"BoxAnnotation\"}},\"id\":\"3865\",\"type\":\"BoxZoomTool\"},{\"attributes\":{},\"id\":\"3849\",\"type\":\"LinearScale\"},{\"attributes\":{},\"id\":\"4068\",\"type\":\"BasicTickFormatter\"},{\"attributes\":{\"label\":{\"value\":\"NA\"},\"renderers\":[{\"id\":\"3921\",\"type\":\"GlyphRenderer\"}]},\"id\":\"3928\",\"type\":\"LegendItem\"},{\"attributes\":{\"active_drag\":\"auto\",\"active_inspect\":\"auto\",\"active_multi\":null,\"active_scroll\":\"auto\",\"active_tap\":\"auto\",\"tools\":[{\"id\":\"3863\",\"type\":\"PanTool\"},{\"id\":\"3864\",\"type\":\"WheelZoomTool\"},{\"id\":\"3865\",\"type\":\"BoxZoomTool\"},{\"id\":\"3866\",\"type\":\"SaveTool\"},{\"id\":\"3867\",\"type\":\"ResetTool\"},{\"id\":\"3868\",\"type\":\"HelpTool\"},{\"id\":\"3877\",\"type\":\"HoverTool\"}]},\"id\":\"3869\",\"type\":\"Toolbar\"},{\"attributes\":{},\"id\":\"3866\",\"type\":\"SaveTool\"},{\"attributes\":{\"fill_color\":{\"field\":\"label\",\"transform\":{\"id\":\"3879\",\"type\":\"CategoricalColorMapper\"}},\"line_color\":{\"field\":\"label\",\"transform\":{\"id\":\"3879\",\"type\":\"CategoricalColorMapper\"}},\"x\":{\"field\":\"x\"},\"y\":{\"field\":\"y\"}},\"id\":\"3913\",\"type\":\"Circle\"},{\"attributes\":{\"label\":{\"value\":\"1.00000e+00\"},\"renderers\":[{\"id\":\"3885\",\"type\":\"GlyphRenderer\"}]},\"id\":\"3922\",\"type\":\"LegendItem\"},{\"attributes\":{\"label\":{\"value\":\"6.00000e+00\"},\"renderers\":[{\"id\":\"3915\",\"type\":\"GlyphRenderer\"}]},\"id\":\"3927\",\"type\":\"LegendItem\"},{\"attributes\":{\"fill_alpha\":{\"value\":0.1},\"fill_color\":{\"value\":\"#1f77b4\"},\"line_alpha\":{\"value\":0.1},\"line_color\":{\"value\":\"#1f77b4\"},\"x\":{\"field\":\"x\"},\"y\":{\"field\":\"y\"}},\"id\":\"3884\",\"type\":\"Circle\"},{\"attributes\":{\"fill_alpha\":{\"value\":0.1},\"fill_color\":{\"value\":\"#1f77b4\"},\"line_alpha\":{\"value\":0.1},\"line_color\":{\"value\":\"#1f77b4\"},\"x\":{\"field\":\"x\"},\"y\":{\"field\":\"y\"}},\"id\":\"3908\",\"type\":\"Circle\"},{\"attributes\":{},\"id\":\"3868\",\"type\":\"HelpTool\"},{\"attributes\":{\"label\":{\"value\":\"5.00000e+00\"},\"renderers\":[{\"id\":\"3909\",\"type\":\"GlyphRenderer\"}]},\"id\":\"3926\",\"type\":\"LegendItem\"},{\"attributes\":{\"data_source\":{\"id\":\"3878\",\"type\":\"ColumnDataSource\"},\"glyph\":{\"id\":\"3907\",\"type\":\"Circle\"},\"hover_glyph\":null,\"muted_glyph\":null,\"nonselection_glyph\":{\"id\":\"3908\",\"type\":\"Circle\"},\"selection_glyph\":null,\"view\":{\"id\":\"3905\",\"type\":\"CDSView\"}},\"id\":\"3909\",\"type\":\"GlyphRenderer\"},{\"attributes\":{\"fill_alpha\":{\"value\":0.1},\"fill_color\":{\"value\":\"#1f77b4\"},\"line_alpha\":{\"value\":0.1},\"line_color\":{\"value\":\"#1f77b4\"},\"x\":{\"field\":\"x\"},\"y\":{\"field\":\"y\"}},\"id\":\"3896\",\"type\":\"Circle\"},{\"attributes\":{},\"id\":\"4070\",\"type\":\"BasicTickFormatter\"},{\"attributes\":{},\"id\":\"4071\",\"type\":\"BasicTicker\"},{\"attributes\":{},\"id\":\"3867\",\"type\":\"ResetTool\"},{\"attributes\":{\"label\":{\"value\":\"4.00000e+00\"},\"renderers\":[{\"id\":\"3903\",\"type\":\"GlyphRenderer\"}]},\"id\":\"3925\",\"type\":\"LegendItem\"},{\"attributes\":{\"callback\":null},\"id\":\"3847\",\"type\":\"DataRange1d\"},{\"attributes\":{\"callback\":null,\"data\":{\"index\":[0,1,2,3,4,5,6,7,8,9,10,11,12,13,14,15,16,17,18,19,20,21,22,23,24,25,26,27,28,29,30,31,32,33,34,35,36,37,38,39,40,41,42,43,44,45,46,47,48,49,50,51,52,53,54,55,56,57,58,59,60,61,62,63,64,65,66,67,68,69,70,71,72,73,74,75,76,77,78,79,80,81,82,83,84,85,86,87,88,89,90,91,92,93,94,95,96,97,98,99,100,101,102,103,104,105,106,107,108,109,110,111,112,113,114,115,116,117,118,119,120,121,122,123,124,125,126,127,128,129,130,131,132,133,134,135,136,137,138,139,140,141,142,143,144,145,146,147,148,149,150,151,152,153,154,155,156,157,158,159,160,161,162,163,164,165,166,167,168,169,170,171,172,173,174,175,176,177,178,179,180,181,182,183,184,185,186,187,188,189,190,191,192,193,194,195,196,197,198,199,200,201,202,203,204,205,206,207,208,209,210,211,212,213,214,215,216,217,218,219,220,221,222,223,224,225,226,227,228,229,230,231,232,233,234,235,236,237,238,239,240,241,242,243,244,245,246,247,248,249,250,251,252,253,254,255,256,257,258,259,260,261,262,263,264,265,266,267,268,269,270,271,272,273,274,275,276,277,278,279,280,281,282,283,284,285,286,287,288,289,290,291,292,293,294,295,296,297,298,299,300,301,302,303,304,305,306,307,308,309,310,311,312,313,314,315,316,317,318,319,320,321,322,323,324,325,326,327,328,329,330,331,332,333,334,335,336,337,338,339,340,341,342,343,344,345,346,347,348,349,350,351,352,353,354,355,356,357,358,359,360,361,362,363,364,365,366,367,368,369,370,371,372,373,374,375,376,377,378,379,380,381,382,383,384,385,386,387,388,389,390,391,392,393,394,395,396,397,398,399,400,401,402,403,404,405,406,407,408,409,410],\"label\":[\"1.00000e+00\",\"NA\",\"4.00000e+00\",\"1.00000e+00\",\"2.00000e+00\",\"6.00000e+00\",\"1.00000e+00\",\"3.00000e+00\",\"1.00000e+00\",\"2.00000e+00\",\"4.00000e+00\",\"4.00000e+00\",\"3.00000e+00\",\"3.00000e+00\",\"3.00000e+00\",\"6.00000e+00\",\"1.00000e+00\",\"3.00000e+00\",\"4.00000e+00\",\"3.00000e+00\",\"5.00000e+00\",\"3.00000e+00\",\"3.00000e+00\",\"4.00000e+00\",\"2.00000e+00\",\"NA\",\"1.00000e+00\",\"2.00000e+00\",\"2.00000e+00\",\"4.00000e+00\",\"3.00000e+00\",\"2.00000e+00\",\"2.00000e+00\",\"3.00000e+00\",\"1.00000e+00\",\"2.00000e+00\",\"3.00000e+00\",\"4.00000e+00\",\"1.00000e+00\",\"6.00000e+00\",\"1.00000e+00\",\"NA\",\"3.00000e+00\",\"3.00000e+00\",\"5.00000e+00\",\"2.00000e+00\",\"NA\",\"3.00000e+00\",\"NA\",\"4.00000e+00\",\"5.00000e+00\",\"NA\",\"3.00000e+00\",\"2.00000e+00\",\"2.00000e+00\",\"2.00000e+00\",\"3.00000e+00\",\"2.00000e+00\",\"1.00000e+00\",\"3.00000e+00\",\"3.00000e+00\",\"3.00000e+00\",\"4.00000e+00\",\"4.00000e+00\",\"3.00000e+00\",\"NA\",\"3.00000e+00\",\"2.00000e+00\",\"3.00000e+00\",\"3.00000e+00\",\"3.00000e+00\",\"6.00000e+00\",\"3.00000e+00\",\"2.00000e+00\",\"2.00000e+00\",\"3.00000e+00\",\"3.00000e+00\",\"1.00000e+00\",\"4.00000e+00\",\"3.00000e+00\",\"NA\",\"3.00000e+00\",\"2.00000e+00\",\"2.00000e+00\",\"2.00000e+00\",\"4.00000e+00\",\"2.00000e+00\",\"6.00000e+00\",\"2.00000e+00\",\"3.00000e+00\",\"2.00000e+00\",\"3.00000e+00\",\"NA\",\"2.00000e+00\",\"3.00000e+00\",\"1.00000e+00\",\"2.00000e+00\",\"1.00000e+00\",\"3.00000e+00\",\"NA\",\"1.00000e+00\",\"3.00000e+00\",\"3.00000e+00\",\"2.00000e+00\",\"1.00000e+00\",\"NA\",\"2.00000e+00\",\"3.00000e+00\",\"1.00000e+00\",\"2.00000e+00\",\"3.00000e+00\",\"2.00000e+00\",\"6.00000e+00\",\"3.00000e+00\",\"3.00000e+00\",\"NA\",\"6.00000e+00\",\"3.00000e+00\",\"6.00000e+00\",\"2.00000e+00\",\"4.00000e+00\",\"NA\",\"NA\",\"1.00000e+00\",\"5.00000e+00\",\"NA\",\"2.00000e+00\",\"2.00000e+00\",\"NA\",\"2.00000e+00\",\"2.00000e+00\",\"2.00000e+00\",\"NA\",\"3.00000e+00\",\"3.00000e+00\",\"3.00000e+00\",\"2.00000e+00\",\"2.00000e+00\",\"3.00000e+00\",\"3.00000e+00\",\"2.00000e+00\",\"2.00000e+00\",\"3.00000e+00\",\"3.00000e+00\",\"3.00000e+00\",\"3.00000e+00\",\"2.00000e+00\",\"1.00000e+00\",\"NA\",\"3.00000e+00\",\"1.00000e+00\",\"3.00000e+00\",\"2.00000e+00\",\"4.00000e+00\",\"6.00000e+00\",\"NA\",\"3.00000e+00\",\"3.00000e+00\",\"3.00000e+00\",\"6.00000e+00\",\"6.00000e+00\",\"4.00000e+00\",\"2.00000e+00\",\"3.00000e+00\",\"3.00000e+00\",\"6.00000e+00\",\"6.00000e+00\",\"3.00000e+00\",\"3.00000e+00\",\"4.00000e+00\",\"2.00000e+00\",\"3.00000e+00\",\"6.00000e+00\",\"3.00000e+00\",\"3.00000e+00\",\"2.00000e+00\",\"3.00000e+00\",\"3.00000e+00\",\"1.00000e+00\",\"1.00000e+00\",\"4.00000e+00\",\"3.00000e+00\",\"1.00000e+00\",\"3.00000e+00\",\"NA\",\"4.00000e+00\",\"3.00000e+00\",\"2.00000e+00\",\"2.00000e+00\",\"3.00000e+00\",\"2.00000e+00\",\"4.00000e+00\",\"1.00000e+00\",\"2.00000e+00\",\"NA\",\"1.00000e+00\",\"4.00000e+00\",\"3.00000e+00\",\"3.00000e+00\",\"6.00000e+00\",\"2.00000e+00\",\"6.00000e+00\",\"1.00000e+00\",\"2.00000e+00\",\"3.00000e+00\",\"3.00000e+00\",\"1.00000e+00\",\"NA\",\"2.00000e+00\",\"5.00000e+00\",\"4.00000e+00\",\"2.00000e+00\",\"3.00000e+00\",\"3.00000e+00\",\"3.00000e+00\",\"3.00000e+00\",\"6.00000e+00\",\"NA\",\"3.00000e+00\",\"2.00000e+00\",\"1.00000e+00\",\"3.00000e+00\",\"6.00000e+00\",\"2.00000e+00\",\"4.00000e+00\",\"2.00000e+00\",\"2.00000e+00\",\"2.00000e+00\",\"3.00000e+00\",\"2.00000e+00\",\"1.00000e+00\",\"5.00000e+00\",\"2.00000e+00\",\"1.00000e+00\",\"1.00000e+00\",\"3.00000e+00\",\"3.00000e+00\",\"3.00000e+00\",\"3.00000e+00\",\"3.00000e+00\",\"NA\",\"2.00000e+00\",\"2.00000e+00\",\"1.00000e+00\",\"3.00000e+00\",\"3.00000e+00\",\"4.00000e+00\",\"2.00000e+00\",\"3.00000e+00\",\"3.00000e+00\",\"3.00000e+00\",\"1.00000e+00\",\"2.00000e+00\",\"2.00000e+00\",\"3.00000e+00\",\"1.00000e+00\",\"1.00000e+00\",\"3.00000e+00\",\"NA\",\"1.00000e+00\",\"3.00000e+00\",\"3.00000e+00\",\"2.00000e+00\",\"3.00000e+00\",\"5.00000e+00\",\"6.00000e+00\",\"3.00000e+00\",\"2.00000e+00\",\"3.00000e+00\",\"2.00000e+00\",\"3.00000e+00\",\"1.00000e+00\",\"3.00000e+00\",\"3.00000e+00\",\"2.00000e+00\",\"1.00000e+00\",\"3.00000e+00\",\"6.00000e+00\",\"1.00000e+00\",\"1.00000e+00\",\"6.00000e+00\",\"5.00000e+00\",\"5.00000e+00\",\"6.00000e+00\",\"3.00000e+00\",\"2.00000e+00\",\"3.00000e+00\",\"3.00000e+00\",\"4.00000e+00\",\"3.00000e+00\",\"6.00000e+00\",\"4.00000e+00\",\"3.00000e+00\",\"3.00000e+00\",\"NA\",\"1.00000e+00\",\"2.00000e+00\",\"3.00000e+00\",\"2.00000e+00\",\"3.00000e+00\",\"6.00000e+00\",\"2.00000e+00\",\"3.00000e+00\",\"3.00000e+00\",\"1.00000e+00\",\"3.00000e+00\",\"3.00000e+00\",\"3.00000e+00\",\"3.00000e+00\",\"1.00000e+00\",\"6.00000e+00\",\"1.00000e+00\",\"5.00000e+00\",\"2.00000e+00\",\"NA\",\"2.00000e+00\",\"3.00000e+00\",\"3.00000e+00\",\"1.00000e+00\",\"2.00000e+00\",\"6.00000e+00\",\"3.00000e+00\",\"3.00000e+00\",\"1.00000e+00\",\"3.00000e+00\",\"NA\",\"1.00000e+00\",\"2.00000e+00\",\"2.00000e+00\",\"3.00000e+00\",\"3.00000e+00\",\"3.00000e+00\",\"3.00000e+00\",\"4.00000e+00\",\"3.00000e+00\",\"6.00000e+00\",\"2.00000e+00\",\"5.00000e+00\",\"2.00000e+00\",\"3.00000e+00\",\"3.00000e+00\",\"2.00000e+00\",\"3.00000e+00\",\"2.00000e+00\",\"3.00000e+00\",\"6.00000e+00\",\"2.00000e+00\",\"1.00000e+00\",\"2.00000e+00\",\"NA\",\"6.00000e+00\",\"3.00000e+00\",\"3.00000e+00\",\"3.00000e+00\",\"6.00000e+00\",\"3.00000e+00\",\"3.00000e+00\",\"2.00000e+00\",\"1.00000e+00\",\"6.00000e+00\",\"1.00000e+00\",\"1.00000e+00\",\"2.00000e+00\",\"3.00000e+00\",\"3.00000e+00\",\"2.00000e+00\",\"3.00000e+00\",\"3.00000e+00\",\"5.00000e+00\",\"3.00000e+00\",\"3.00000e+00\",\"3.00000e+00\",\"1.00000e+00\",\"3.00000e+00\",\"2.00000e+00\",\"3.00000e+00\",\"3.00000e+00\",\"3.00000e+00\",\"3.00000e+00\",\"6.00000e+00\",\"3.00000e+00\",\"1.00000e+00\",\"1.00000e+00\",\"3.00000e+00\",\"3.00000e+00\",\"3.00000e+00\",\"3.00000e+00\",\"NA\",\"3.00000e+00\",\"2.00000e+00\",\"2.00000e+00\",\"NA\",\"3.00000e+00\",\"6.00000e+00\",\"1.00000e+00\",\"NA\",\"5.00000e+00\",\"3.00000e+00\",\"3.00000e+00\",\"1.00000e+00\",\"NA\",\"3.00000e+00\",\"NA\",\"5.00000e+00\",\"3.00000e+00\",\"6.00000e+00\",\"3.00000e+00\",\"NA\",\"NA\",\"2.00000e+00\",\"3.00000e+00\"],\"x\":{\"__ndarray__\":\"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\",\"dtype\":\"float64\",\"shape\":[411]},\"y\":{\"__ndarray__\":\"JotDgCGkj786g7JnwduSv9k3A33ezrO/lt0+AjMjhT9hA3+ucWKzv9sbxK0vdMW/Tn0Ut9uzuz/dednHWffAv+ZbPD5PkbQ/Sh+Hol8ytj8660ABHmuWPz9FnM+TiZC/h/GS+BVBwL8rDRle6ESqv0t+iml9Drs/SPMzkKkpzr8Ji6htxv24P3hfWm1Df7W/7G4b9BSTkb+LiI+rv3ayv77PC2V/pry/XfxGCtrEs78hImAG2hG/vyCKTp5y9qm/tyvEVxLowT8k4gcxJKe2vxzVbjpX/bC/AwQ4z8yYrj+Qq4sY65iYv6oqyp5hOGw/y8xOPHZLpL8ODHBOCSh0vz3XVjEZdZ0/EN5MXyowsT8uPq2QivO0P21xcTFkU7k/VPWLfNDtsT/W7aZNi9a1P6Ar/SkJBbk/N/1lTGrtxb/vtD7KxaK1PzsiTpjAoaI/OkbuK6Famz/gquhxe4K1P0WnehOb+ri/1TRfY/cZdr/DXl3RWsWUPz1RmHqNl6S/Xf2eXZicrT8PYsSaQWmdvwqpGp/llrK/0mtIvv78mT923h2as0eyv9Oy6hqSYK4/IEgOZm6Bp79MPBoc7J6YPwqTcgagx4g/eIVEgSNblT9/5G32bkeqP+O12GsDxaa/FJh4tW4rZz91WvUM2uy6P+Q/3BfXNma/o67Vt9pqp7+ArVs4EhikvzEDxoGWc7q/H9/5B/HpqT+u//oOkBW4Pz7v2miopTI/rwxLAUvJqD8KeGSKliqKP2PXSklxG72/xaaSYibuqL9aDOg8bQiyP46wLmNv6sI/hk6Fun7ztr9YUve6mMCcv2FufewkxLw/CQrfSOI/hb86fTmStVaov+8OMRDyp6S/JrWYEkchcb+K4B6j4gW9Pwqh5ZsoxaY/kBmHlCI8tT9Ik88IbO+tvx2os9ysArI/NJKwtW3tn7+a7bJS2rGGP3jNjwN1tqY/4fEDBJpJrD84UPqUVFe/v6/rspUee68/NG+QQmvwtD/catabnDeTP7V1//0pQHa/5XzvpvptsD/7zCMz0pu2P0jxJGoAMra/OGmykloVbT8vwdhMMd7BP8/1OF//yYm/FpgOwCMNtT9PqiWIuF6sP6OoD79Gtqs/zcWl2dnFur88/ScvsaJiPxlII0kIPqY/m4Ob2Us0uj+/Llh49SyZv/0yexolC64/j7f1KHWmuj+wk+1y/7C9v2EEETyjB6i/00DOjvFPtb/ycxMO3dCwP7Qmg+IkacW/DCm1c4xJrL+tswI7dO68vzB5NCErPaw/0y+2q1rysT+tX4UOBWiEv7CliUAYyqI/8+SboOqrrb/gAA8vt0yzvzKtxaqfSqo/dVxMTOdKvb/7rzlaCXy5PzcnqSZ6vZk/wuovp2Uirj/V21gzXwK6PznfkJfW3Ki/2Y781hedqT8FgHqB3Z2kv1uq4VucRKo/8IboG7pifL+VfLiXM7GaP6DntxM92rM/J98jpG0EsD99gkZBz0e6v/oBo05rN7c/jt3O1EsZuz/kkwZxOdvBv7hG6n7ba6i/AxvbKMJQkT9Pwfu7Bk2pv0tJffxWHZA/SWExU+iRmT9vnf0Y3IyKv/qIa9hmeLS/N4AfJS5btT+koA3tIxS7vwUVmJgze5Q/Ewjg3WbYkL82tzQKcyHDv4X9MQgJE7y/PDSvTFkzfD9vv3No0jOdP9ZYdYL94KE/Yqnigdifwr/55ytw6besv7rEdrMpzVs/0pxpuEJirj/S/4olOgO+v9C788IRPHU/NxstMZVWr7/fXfzSPOi5vz/S2GSyQaY/hj55SGnarL+8E888zJqVv6T0HDj5R6c/iu9cH6YPsz/2TM5NF0K8v8YXrIGiwZS/34KkH/bBVz/MEFx1Cq6KP+LfeVJUDI6/rWpTh7E8fz9ltvaIwe6TP6JPDqEi760/YlG46lCXiL9/Cgxv2DbGv1V/pgOgXqw/twGnIddptD+hdSLCSEGtPzPrk/e08J6/iLbCFK/hlz8Px7zJxEiaP3eg4cWz36E/mWlVBxsdkr821/2ottiwPzC3v+a+/pQ/fg1POOnJuz+sWuJPj9e7P/rOIgb2CcC/TxcBWciRv7+AX6WvhHexv5vLvKf9HqM/iIhh3DOFpz8J0MKPJDfAv4MXNSMIBLE/f+mzYibumr+hKbOmxOGXv/kvsR/SlWk/eoGcN5cmlj9E/9nIPW2eP54RY0BI8Z8/XLRN6e9jwz9UytjPuoS2P2UqG6dhY7i/5XrdMZ13p78hnuo2GYmmP72F/w5ocIe/6tB/m2zYq7/i8MM5FG+vvyUyLN/pbIc/DhKUj427rL8TqsHPH16Bv5alJ1fBALE/9bmua7GCsT+4eXyxsG62P5ERHOeoJYC/0O0k5VYbw7+u2WzvQlSgP4Rc/ZvrC64/bfhvMpR/vD8MCqfabT+ev2p9dcL8Oro/vD9ijLUjob8z9a/ZmjmyPz0k0Wig2rI/tp0/j/Mysr9ROWyw86Vlv+84oRyUa6s/hI46prbLuD8fD7Yhf02kPxWFfLzlKLI/LhS/38FJvL9R0dc3QrSnP773Yam7OLC/a75NaPZLqL8R9QZdiNKnPyhWU0mcE7s/otVnpiiRib8f77DdFyqsv7njb5nr152/LeJkx41Aa7/QOXHrBTDAP2Ssbw3XFrW/DDEe7QB2gr8pLcOLXx2yP9u4r1cLiLY/JLnmhRyqsj8M9EA0naqvPz3x3b0LKZE/zcqefRnMpj9F6ZkaGsm0P8TSjsyWEKC/FF2psEdfnz8I0PQ7LvijP7SPuEPzOZq/bpn2s0ZXcD8Y8+kroIuVP3hOZ+qqZrY/oYMAi5NEw7+YUy9r3/7Bv7t7BjsqzLq/cRdWTHbShz9WmCKUKACOP3SzDvHAvqo/FJm84IdBsD925V5SIHm2P+RrXHq6kLK/M3seTHQcnb+i8d47AxmBv4DoIthQujo/IpQU6sPtsL/MffmujU+Nv+sSX85dgbI/eMbvbzDmqL89QKc4mmaiP7aBU5e3abu/HRIe2pizur8YIHlt68mzvyHYw/wg1oO/pQCdLJqyoT+39Z0y8RCpP5gW4DJ4lKa/rD4K7zUkgj/R/XwQgH6UvwOBEvW9XMO/DrcFVAKnpL9D6qcB9oSwvwMj7m67JZa/m8xXenLheb/J5YeUSJmmv5tWi1T8o5A/ihaNpebTsL8QVQxva2OQP7oOVKkI7ZU/IFHplajUoT+olW3kgbCoP2nuqGRnpKS/uYsTPo//vr8vyqpnOy6evxsFw0k1Umc/nmggj0chqz9gTRDpEiasv+pDPnjTIYI/jFsY1Tr6qT/ezZKaMMCmv85kxxmbYrQ/0MmvKrTqpj+iKle0n6W5P1FcJVp247k/xyZ4tusVtz//RpJqePufP5f7qu8lCq4/CEVacN8HsT9HyPq1ceiGP0e+hNkVd7C/0NfyMDAusT8biaRHXby0vwEUwp9+K5M/mazkM3jklz/zx/PbCOubP6zT5I0ApKE/91+PCj2ZsD+7yuGV9mG3v1zfukPEa56/G8uWf61CjL9gNZG3p561v0kq6Q21GpK/n0Cbxj4InT+5rNbdo9u3vywXkar50rW/+XJoJ/XVhT/1kIinS22tv+/q08RXqqo/Pyx27Zwtkb/JmqRXKPSjP0ILywm76Gw/3mW4vKvVm79EZDexYT+Cv+iMvpwU03q//pZpeitLv78BcrtDW7quP3rftRk+W7Y/XdgUumP1sj/23sY1kF2YPzZyLoaBK8G/lzAf7rZusz/I3RtijiGSv8vuR2Wbz5o/L+OsOV+bo7892JiK+BB1P79yHN7ckKa/TCxXlfKjuz9FdCdRg4agP/PTAoKu97i/fbxkzHGbpz/nHc2uqqWgP2xWHQP6oH4/3zwAMmI6hj+31JV0/K+mvybFKomrv5s/9hHbJ1k6nb/NhCiQW9yYP0/nZuSzxJ+/yFYbTtTspz9gNQM1uxuiPx6A3wAilpY/RxmRDKisir8FtZknJ1akv1G3cbcGFZG/yYmZlh7/gz+HqVWqwWG3v6vtItixQ5e/REEtelHErT8hRGmcN9ihvzpL5f2pRoc/iJjCcfjdrD/3un1WMrOMP5RMojdGPam/oJY3yojGnr/Z0d6lINWQvxidPfYyMJA/by00+JhPjD+UahzyTW5wv3ZIE7ygELI/2B+6MVDKmT+++6xvrDqEPw9c5geLI4k/z00Hfawsr79oRJS6Z6itPy4/W/6t0aY/n1ndTO/bmL+QrcQ3gZWoP45TVwP2vIO/+xgI4DgaoL8qCltnkDaMv3eEJ3I1crO/k6YplhJ0ob9cxWUQfd6sv4IszuB8MHY/yFtRGLVlqb9dr0eAoLqFP+CWc8sh2aO/zi7a2XHSZr+STxP2o7iWP6t/AHV5PqC/\",\"dtype\":\"float64\",\"shape\":[411]}},\"selected\":{\"id\":\"4075\",\"type\":\"Selection\"},\"selection_policy\":{\"id\":\"4074\",\"type\":\"UnionRenderers\"}},\"id\":\"3878\",\"type\":\"ColumnDataSource\"},{\"attributes\":{\"filters\":[{\"id\":\"3910\",\"type\":\"GroupFilter\"}],\"source\":{\"id\":\"3878\",\"type\":\"ColumnDataSource\"}},\"id\":\"3911\",\"type\":\"CDSView\"},{\"attributes\":{},\"id\":\"4072\",\"type\":\"BasicTickFormatter\"},{\"attributes\":{\"axis_label\":\"PC1\",\"formatter\":{\"id\":\"4072\",\"type\":\"BasicTickFormatter\"},\"ticker\":{\"id\":\"3854\",\"type\":\"BasicTicker\"}},\"id\":\"3853\",\"type\":\"LinearAxis\"},{\"attributes\":{\"label\":{\"value\":\"3.00000e+00\"},\"renderers\":[{\"id\":\"3897\",\"type\":\"GlyphRenderer\"}]},\"id\":\"3924\",\"type\":\"LegendItem\"},{\"attributes\":{\"column_name\":\"label\",\"group\":\"6.00000e+00\"},\"id\":\"3910\",\"type\":\"GroupFilter\"},{\"attributes\":{\"fill_color\":{\"field\":\"label\",\"transform\":{\"id\":\"3879\",\"type\":\"CategoricalColorMapper\"}},\"line_color\":{\"field\":\"label\",\"transform\":{\"id\":\"3879\",\"type\":\"CategoricalColorMapper\"}},\"x\":{\"field\":\"x\"},\"y\":{\"field\":\"y\"}},\"id\":\"3889\",\"type\":\"Circle\"},{\"attributes\":{\"callback\":null,\"tooltips\":[[\"x\",\"@x\"],[\"y\",\"@y\"],[\"label\",\"@label\"]]},\"id\":\"3877\",\"type\":\"HoverTool\"},{\"attributes\":{\"label\":{\"value\":\"2.00000e+00\"},\"renderers\":[{\"id\":\"3891\",\"type\":\"GlyphRenderer\"}]},\"id\":\"3923\",\"type\":\"LegendItem\"},{\"attributes\":{\"click_policy\":\"hide\",\"items\":[{\"id\":\"3922\",\"type\":\"LegendItem\"},{\"id\":\"3923\",\"type\":\"LegendItem\"},{\"id\":\"3924\",\"type\":\"LegendItem\"},{\"id\":\"3925\",\"type\":\"LegendItem\"},{\"id\":\"3926\",\"type\":\"LegendItem\"},{\"id\":\"3927\",\"type\":\"LegendItem\"},{\"id\":\"3928\",\"type\":\"LegendItem\"}]},\"id\":\"3929\",\"type\":\"Legend\"},{\"attributes\":{\"column_name\":\"label\",\"group\":\"2.00000e+00\"},\"id\":\"3886\",\"type\":\"GroupFilter\"},{\"attributes\":{\"data_source\":{\"id\":\"3878\",\"type\":\"ColumnDataSource\"},\"glyph\":{\"id\":\"3895\",\"type\":\"Circle\"},\"hover_glyph\":null,\"muted_glyph\":null,\"nonselection_glyph\":{\"id\":\"3896\",\"type\":\"Circle\"},\"selection_glyph\":null,\"view\":{\"id\":\"3893\",\"type\":\"CDSView\"}},\"id\":\"3897\",\"type\":\"GlyphRenderer\"},{\"attributes\":{\"color_mapper\":null,\"formatter\":{\"id\":\"4070\",\"type\":\"BasicTickFormatter\"},\"ticker\":{\"id\":\"4071\",\"type\":\"BasicTicker\"},\"visible\":false},\"id\":\"3930\",\"type\":\"ColorBar\"},{\"attributes\":{\"data_source\":{\"id\":\"3878\",\"type\":\"ColumnDataSource\"},\"glyph\":{\"id\":\"3883\",\"type\":\"Circle\"},\"hover_glyph\":null,\"muted_glyph\":null,\"nonselection_glyph\":{\"id\":\"3884\",\"type\":\"Circle\"},\"selection_glyph\":null,\"view\":{\"id\":\"3881\",\"type\":\"CDSView\"}},\"id\":\"3885\",\"type\":\"GlyphRenderer\"},{\"attributes\":{\"filters\":[{\"id\":\"3898\",\"type\":\"GroupFilter\"}],\"source\":{\"id\":\"3878\",\"type\":\"ColumnDataSource\"}},\"id\":\"3899\",\"type\":\"CDSView\"},{\"attributes\":{\"fill_color\":{\"field\":\"label\",\"transform\":{\"id\":\"3879\",\"type\":\"CategoricalColorMapper\"}},\"line_color\":{\"field\":\"label\",\"transform\":{\"id\":\"3879\",\"type\":\"CategoricalColorMapper\"}},\"x\":{\"field\":\"x\"},\"y\":{\"field\":\"y\"}},\"id\":\"3919\",\"type\":\"Circle\"},{\"attributes\":{\"bottom_units\":\"screen\",\"fill_alpha\":{\"value\":0.5},\"fill_color\":{\"value\":\"lightgrey\"},\"left_units\":\"screen\",\"level\":\"overlay\",\"line_alpha\":{\"value\":1.0},\"line_color\":{\"value\":\"black\"},\"line_dash\":[4,4],\"line_width\":{\"value\":2},\"render_mode\":\"css\",\"right_units\":\"screen\",\"top_units\":\"screen\"},\"id\":\"4076\",\"type\":\"BoxAnnotation\"},{\"attributes\":{\"filters\":[{\"id\":\"3880\",\"type\":\"GroupFilter\"}],\"source\":{\"id\":\"3878\",\"type\":\"ColumnDataSource\"}},\"id\":\"3881\",\"type\":\"CDSView\"},{\"attributes\":{\"column_name\":\"label\",\"group\":\"3.00000e+00\"},\"id\":\"3892\",\"type\":\"GroupFilter\"},{\"attributes\":{\"fill_color\":{\"field\":\"label\",\"transform\":{\"id\":\"3879\",\"type\":\"CategoricalColorMapper\"}},\"line_color\":{\"field\":\"label\",\"transform\":{\"id\":\"3879\",\"type\":\"CategoricalColorMapper\"}},\"x\":{\"field\":\"x\"},\"y\":{\"field\":\"y\"}},\"id\":\"3901\",\"type\":\"Circle\"},{\"attributes\":{\"ticker\":{\"id\":\"3854\",\"type\":\"BasicTicker\"}},\"id\":\"3857\",\"type\":\"Grid\"},{\"attributes\":{\"text\":\"PCA\"},\"id\":\"3843\",\"type\":\"Title\"},{\"attributes\":{\"fill_alpha\":{\"value\":0.1},\"fill_color\":{\"value\":\"#1f77b4\"},\"line_alpha\":{\"value\":0.1},\"line_color\":{\"value\":\"#1f77b4\"},\"x\":{\"field\":\"x\"},\"y\":{\"field\":\"y\"}},\"id\":\"3914\",\"type\":\"Circle\"},{\"attributes\":{\"column_name\":\"label\",\"group\":\"1.00000e+00\"},\"id\":\"3880\",\"type\":\"GroupFilter\"},{\"attributes\":{\"data_source\":{\"id\":\"3878\",\"type\":\"ColumnDataSource\"},\"glyph\":{\"id\":\"3913\",\"type\":\"Circle\"},\"hover_glyph\":null,\"muted_glyph\":null,\"nonselection_glyph\":{\"id\":\"3914\",\"type\":\"Circle\"},\"selection_glyph\":null,\"view\":{\"id\":\"3911\",\"type\":\"CDSView\"}},\"id\":\"3915\",\"type\":\"GlyphRenderer\"},{\"attributes\":{\"callback\":null},\"id\":\"3845\",\"type\":\"DataRange1d\"},{\"attributes\":{\"fill_alpha\":{\"value\":0.1},\"fill_color\":{\"value\":\"#1f77b4\"},\"line_alpha\":{\"value\":0.1},\"line_color\":{\"value\":\"#1f77b4\"},\"x\":{\"field\":\"x\"},\"y\":{\"field\":\"y\"}},\"id\":\"3890\",\"type\":\"Circle\"},{\"attributes\":{\"column_name\":\"label\",\"group\":\"4.00000e+00\"},\"id\":\"3898\",\"type\":\"GroupFilter\"},{\"attributes\":{\"dimension\":1,\"ticker\":{\"id\":\"3859\",\"type\":\"BasicTicker\"}},\"id\":\"3862\",\"type\":\"Grid\"},{\"attributes\":{\"fill_color\":{\"field\":\"label\",\"transform\":{\"id\":\"3879\",\"type\":\"CategoricalColorMapper\"}},\"line_color\":{\"field\":\"label\",\"transform\":{\"id\":\"3879\",\"type\":\"CategoricalColorMapper\"}},\"x\":{\"field\":\"x\"},\"y\":{\"field\":\"y\"}},\"id\":\"3883\",\"type\":\"Circle\"},{\"attributes\":{},\"id\":\"4074\",\"type\":\"UnionRenderers\"},{\"attributes\":{\"filters\":[{\"id\":\"3886\",\"type\":\"GroupFilter\"}],\"source\":{\"id\":\"3878\",\"type\":\"ColumnDataSource\"}},\"id\":\"3887\",\"type\":\"CDSView\"},{\"attributes\":{\"filters\":[{\"id\":\"3916\",\"type\":\"GroupFilter\"}],\"source\":{\"id\":\"3878\",\"type\":\"ColumnDataSource\"}},\"id\":\"3917\",\"type\":\"CDSView\"},{\"attributes\":{},\"id\":\"4075\",\"type\":\"Selection\"},{\"attributes\":{\"column_name\":\"label\",\"group\":\"5.00000e+00\"},\"id\":\"3904\",\"type\":\"GroupFilter\"},{\"attributes\":{\"fill_color\":{\"field\":\"label\",\"transform\":{\"id\":\"3879\",\"type\":\"CategoricalColorMapper\"}},\"line_color\":{\"field\":\"label\",\"transform\":{\"id\":\"3879\",\"type\":\"CategoricalColorMapper\"}},\"x\":{\"field\":\"x\"},\"y\":{\"field\":\"y\"}},\"id\":\"3895\",\"type\":\"Circle\"},{\"attributes\":{\"fill_alpha\":{\"value\":0.1},\"fill_color\":{\"value\":\"#1f77b4\"},\"line_alpha\":{\"value\":0.1},\"line_color\":{\"value\":\"#1f77b4\"},\"x\":{\"field\":\"x\"},\"y\":{\"field\":\"y\"}},\"id\":\"3902\",\"type\":\"Circle\"},{\"attributes\":{},\"id\":\"3859\",\"type\":\"BasicTicker\"},{\"attributes\":{\"data_source\":{\"id\":\"3878\",\"type\":\"ColumnDataSource\"},\"glyph\":{\"id\":\"3901\",\"type\":\"Circle\"},\"hover_glyph\":null,\"muted_glyph\":null,\"nonselection_glyph\":{\"id\":\"3902\",\"type\":\"Circle\"},\"selection_glyph\":null,\"view\":{\"id\":\"3899\",\"type\":\"CDSView\"}},\"id\":\"3903\",\"type\":\"GlyphRenderer\"},{\"attributes\":{},\"id\":\"3854\",\"type\":\"BasicTicker\"},{\"attributes\":{\"column_name\":\"label\",\"group\":\"NA\"},\"id\":\"3916\",\"type\":\"GroupFilter\"},{\"attributes\":{\"axis_label\":\"PC2\",\"formatter\":{\"id\":\"4068\",\"type\":\"BasicTickFormatter\"},\"ticker\":{\"id\":\"3859\",\"type\":\"BasicTicker\"}},\"id\":\"3858\",\"type\":\"LinearAxis\"},{\"attributes\":{\"filters\":[{\"id\":\"3892\",\"type\":\"GroupFilter\"}],\"source\":{\"id\":\"3878\",\"type\":\"ColumnDataSource\"}},\"id\":\"3893\",\"type\":\"CDSView\"},{\"attributes\":{\"data_source\":{\"id\":\"3878\",\"type\":\"ColumnDataSource\"},\"glyph\":{\"id\":\"3889\",\"type\":\"Circle\"},\"hover_glyph\":null,\"muted_glyph\":null,\"nonselection_glyph\":{\"id\":\"3890\",\"type\":\"Circle\"},\"selection_glyph\":null,\"view\":{\"id\":\"3887\",\"type\":\"CDSView\"}},\"id\":\"3891\",\"type\":\"GlyphRenderer\"},{\"attributes\":{\"filters\":[{\"id\":\"3904\",\"type\":\"GroupFilter\"}],\"source\":{\"id\":\"3878\",\"type\":\"ColumnDataSource\"}},\"id\":\"3905\",\"type\":\"CDSView\"}],\"root_ids\":[\"3842\"]},\"title\":\"Bokeh Application\",\"version\":\"1.2.0\"}};\n",
       "  var render_items = [{\"docid\":\"46598296-3d00-41c1-81d9-8bf6f1ff8814\",\"roots\":{\"3842\":\"f883f5dd-4cdf-47b8-82c9-71c182c89ed8\"}}];\n",
       "  root.Bokeh.embed.embed_items_notebook(docs_json, render_items);\n",
       "\n",
       "  }\n",
       "  if (root.Bokeh !== undefined) {\n",
       "    embed_document(root);\n",
       "  } else {\n",
       "    var attempts = 0;\n",
       "    var timer = setInterval(function(root) {\n",
       "      if (root.Bokeh !== undefined) {\n",
       "        embed_document(root);\n",
       "        clearInterval(timer);\n",
       "      }\n",
       "      attempts++;\n",
       "      if (attempts > 100) {\n",
       "        console.log(\"Bokeh: ERROR: Unable to run BokehJS code because BokehJS library is missing\");\n",
       "        clearInterval(timer);\n",
       "      }\n",
       "    }, 10, root)\n",
       "  }\n",
       "})(window);"
      ],
      "application/vnd.bokehjs_exec.v0+json": ""
     },
     "metadata": {
      "application/vnd.bokehjs_exec.v0+json": {
       "id": "3842"
      }
     },
     "output_type": "display_data"
    }
   ],
   "source": [
    "p = hl.plot.scatter(no_outerliers_mt.scores[0],\n",
    "                    no_outerliers_mt.scores[1],\n",
    "                    label=hl.str(no_outerliers_mt.birthplace),\n",
    "                    title='PCA', xlabel='PC1', ylabel='PC2')\n",
    "p.plot_width = 800\n",
    "p.plot_height = 600\n",
    "show(p)"
   ]
  },
  {
   "cell_type": "markdown",
   "metadata": {},
   "source": [
    "From this PCA, it looks like there is very little population structure. But I'm not so convinced, I see this as a failure to detect population structure, not a success to show that there is no population structure."
   ]
  },
  {
   "cell_type": "code",
   "execution_count": null,
   "metadata": {},
   "outputs": [],
   "source": []
  }
 ],
 "metadata": {
  "kernelspec": {
   "display_name": "Python [conda env:fargen-1-exome]",
   "language": "python",
   "name": "conda-env-fargen-1-exome-py"
  },
  "language_info": {
   "codemirror_mode": {
    "name": "ipython",
    "version": 3
   },
   "file_extension": ".py",
   "mimetype": "text/x-python",
   "name": "python",
   "nbconvert_exporter": "python",
   "pygments_lexer": "ipython3",
   "version": "3.7.10"
  }
 },
 "nbformat": 4,
 "nbformat_minor": 4
}
