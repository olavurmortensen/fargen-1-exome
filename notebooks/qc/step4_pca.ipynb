{
 "cells": [
  {
   "cell_type": "markdown",
   "metadata": {},
   "source": [
    "# Principal Component Analysis"
   ]
  },
  {
   "cell_type": "code",
   "execution_count": 1,
   "metadata": {},
   "outputs": [
    {
     "name": "stderr",
     "output_type": "stream",
     "text": [
      "Running on Apache Spark version 2.4.1\n",
      "SparkUI available at http://hms-beagle-848846b477-48ks9:4040\n",
      "Welcome to\n",
      "     __  __     <>__\n",
      "    / /_/ /__  __/ /\n",
      "   / __  / _ `/ / /\n",
      "  /_/ /_/\\_,_/_/_/   version 0.2.61-3c86d3ba497a\n",
      "LOGGING: writing to /home/olavur/experiments/2020-11-13_fargen1_exome_analysis/fargen-1-exome/notebooks/qc/hail-20210526-1347-0.2.61-3c86d3ba497a.log\n"
     ]
    }
   ],
   "source": [
    "import hail as hl\n",
    "hl.init(spark_conf={'spark.driver.memory': '100g'}, tmp_dir='/home/olavur/tmp')"
   ]
  },
  {
   "cell_type": "code",
   "execution_count": 2,
   "metadata": {},
   "outputs": [
    {
     "data": {
      "text/html": [
       "\n",
       "    <div class=\"bk-root\">\n",
       "        <a href=\"https://bokeh.pydata.org\" target=\"_blank\" class=\"bk-logo bk-logo-small bk-logo-notebook\"></a>\n",
       "        <span id=\"1001\">Loading BokehJS ...</span>\n",
       "    </div>"
      ]
     },
     "metadata": {},
     "output_type": "display_data"
    },
    {
     "data": {
      "application/javascript": [
       "\n",
       "(function(root) {\n",
       "  function now() {\n",
       "    return new Date();\n",
       "  }\n",
       "\n",
       "  var force = true;\n",
       "\n",
       "  if (typeof root._bokeh_onload_callbacks === \"undefined\" || force === true) {\n",
       "    root._bokeh_onload_callbacks = [];\n",
       "    root._bokeh_is_loading = undefined;\n",
       "  }\n",
       "\n",
       "  var JS_MIME_TYPE = 'application/javascript';\n",
       "  var HTML_MIME_TYPE = 'text/html';\n",
       "  var EXEC_MIME_TYPE = 'application/vnd.bokehjs_exec.v0+json';\n",
       "  var CLASS_NAME = 'output_bokeh rendered_html';\n",
       "\n",
       "  /**\n",
       "   * Render data to the DOM node\n",
       "   */\n",
       "  function render(props, node) {\n",
       "    var script = document.createElement(\"script\");\n",
       "    node.appendChild(script);\n",
       "  }\n",
       "\n",
       "  /**\n",
       "   * Handle when an output is cleared or removed\n",
       "   */\n",
       "  function handleClearOutput(event, handle) {\n",
       "    var cell = handle.cell;\n",
       "\n",
       "    var id = cell.output_area._bokeh_element_id;\n",
       "    var server_id = cell.output_area._bokeh_server_id;\n",
       "    // Clean up Bokeh references\n",
       "    if (id != null && id in Bokeh.index) {\n",
       "      Bokeh.index[id].model.document.clear();\n",
       "      delete Bokeh.index[id];\n",
       "    }\n",
       "\n",
       "    if (server_id !== undefined) {\n",
       "      // Clean up Bokeh references\n",
       "      var cmd = \"from bokeh.io.state import curstate; print(curstate().uuid_to_server['\" + server_id + \"'].get_sessions()[0].document.roots[0]._id)\";\n",
       "      cell.notebook.kernel.execute(cmd, {\n",
       "        iopub: {\n",
       "          output: function(msg) {\n",
       "            var id = msg.content.text.trim();\n",
       "            if (id in Bokeh.index) {\n",
       "              Bokeh.index[id].model.document.clear();\n",
       "              delete Bokeh.index[id];\n",
       "            }\n",
       "          }\n",
       "        }\n",
       "      });\n",
       "      // Destroy server and session\n",
       "      var cmd = \"import bokeh.io.notebook as ion; ion.destroy_server('\" + server_id + \"')\";\n",
       "      cell.notebook.kernel.execute(cmd);\n",
       "    }\n",
       "  }\n",
       "\n",
       "  /**\n",
       "   * Handle when a new output is added\n",
       "   */\n",
       "  function handleAddOutput(event, handle) {\n",
       "    var output_area = handle.output_area;\n",
       "    var output = handle.output;\n",
       "\n",
       "    // limit handleAddOutput to display_data with EXEC_MIME_TYPE content only\n",
       "    if ((output.output_type != \"display_data\") || (!output.data.hasOwnProperty(EXEC_MIME_TYPE))) {\n",
       "      return\n",
       "    }\n",
       "\n",
       "    var toinsert = output_area.element.find(\".\" + CLASS_NAME.split(' ')[0]);\n",
       "\n",
       "    if (output.metadata[EXEC_MIME_TYPE][\"id\"] !== undefined) {\n",
       "      toinsert[toinsert.length - 1].firstChild.textContent = output.data[JS_MIME_TYPE];\n",
       "      // store reference to embed id on output_area\n",
       "      output_area._bokeh_element_id = output.metadata[EXEC_MIME_TYPE][\"id\"];\n",
       "    }\n",
       "    if (output.metadata[EXEC_MIME_TYPE][\"server_id\"] !== undefined) {\n",
       "      var bk_div = document.createElement(\"div\");\n",
       "      bk_div.innerHTML = output.data[HTML_MIME_TYPE];\n",
       "      var script_attrs = bk_div.children[0].attributes;\n",
       "      for (var i = 0; i < script_attrs.length; i++) {\n",
       "        toinsert[toinsert.length - 1].firstChild.setAttribute(script_attrs[i].name, script_attrs[i].value);\n",
       "      }\n",
       "      // store reference to server id on output_area\n",
       "      output_area._bokeh_server_id = output.metadata[EXEC_MIME_TYPE][\"server_id\"];\n",
       "    }\n",
       "  }\n",
       "\n",
       "  function register_renderer(events, OutputArea) {\n",
       "\n",
       "    function append_mime(data, metadata, element) {\n",
       "      // create a DOM node to render to\n",
       "      var toinsert = this.create_output_subarea(\n",
       "        metadata,\n",
       "        CLASS_NAME,\n",
       "        EXEC_MIME_TYPE\n",
       "      );\n",
       "      this.keyboard_manager.register_events(toinsert);\n",
       "      // Render to node\n",
       "      var props = {data: data, metadata: metadata[EXEC_MIME_TYPE]};\n",
       "      render(props, toinsert[toinsert.length - 1]);\n",
       "      element.append(toinsert);\n",
       "      return toinsert\n",
       "    }\n",
       "\n",
       "    /* Handle when an output is cleared or removed */\n",
       "    events.on('clear_output.CodeCell', handleClearOutput);\n",
       "    events.on('delete.Cell', handleClearOutput);\n",
       "\n",
       "    /* Handle when a new output is added */\n",
       "    events.on('output_added.OutputArea', handleAddOutput);\n",
       "\n",
       "    /**\n",
       "     * Register the mime type and append_mime function with output_area\n",
       "     */\n",
       "    OutputArea.prototype.register_mime_type(EXEC_MIME_TYPE, append_mime, {\n",
       "      /* Is output safe? */\n",
       "      safe: true,\n",
       "      /* Index of renderer in `output_area.display_order` */\n",
       "      index: 0\n",
       "    });\n",
       "  }\n",
       "\n",
       "  // register the mime type if in Jupyter Notebook environment and previously unregistered\n",
       "  if (root.Jupyter !== undefined) {\n",
       "    var events = require('base/js/events');\n",
       "    var OutputArea = require('notebook/js/outputarea').OutputArea;\n",
       "\n",
       "    if (OutputArea.prototype.mime_types().indexOf(EXEC_MIME_TYPE) == -1) {\n",
       "      register_renderer(events, OutputArea);\n",
       "    }\n",
       "  }\n",
       "\n",
       "  \n",
       "  if (typeof (root._bokeh_timeout) === \"undefined\" || force === true) {\n",
       "    root._bokeh_timeout = Date.now() + 5000;\n",
       "    root._bokeh_failed_load = false;\n",
       "  }\n",
       "\n",
       "  var NB_LOAD_WARNING = {'data': {'text/html':\n",
       "     \"<div style='background-color: #fdd'>\\n\"+\n",
       "     \"<p>\\n\"+\n",
       "     \"BokehJS does not appear to have successfully loaded. If loading BokehJS from CDN, this \\n\"+\n",
       "     \"may be due to a slow or bad network connection. Possible fixes:\\n\"+\n",
       "     \"</p>\\n\"+\n",
       "     \"<ul>\\n\"+\n",
       "     \"<li>re-rerun `output_notebook()` to attempt to load from CDN again, or</li>\\n\"+\n",
       "     \"<li>use INLINE resources instead, as so:</li>\\n\"+\n",
       "     \"</ul>\\n\"+\n",
       "     \"<code>\\n\"+\n",
       "     \"from bokeh.resources import INLINE\\n\"+\n",
       "     \"output_notebook(resources=INLINE)\\n\"+\n",
       "     \"</code>\\n\"+\n",
       "     \"</div>\"}};\n",
       "\n",
       "  function display_loaded() {\n",
       "    var el = document.getElementById(\"1001\");\n",
       "    if (el != null) {\n",
       "      el.textContent = \"BokehJS is loading...\";\n",
       "    }\n",
       "    if (root.Bokeh !== undefined) {\n",
       "      if (el != null) {\n",
       "        el.textContent = \"BokehJS \" + root.Bokeh.version + \" successfully loaded.\";\n",
       "      }\n",
       "    } else if (Date.now() < root._bokeh_timeout) {\n",
       "      setTimeout(display_loaded, 100)\n",
       "    }\n",
       "  }\n",
       "\n",
       "\n",
       "  function run_callbacks() {\n",
       "    try {\n",
       "      root._bokeh_onload_callbacks.forEach(function(callback) {\n",
       "        if (callback != null)\n",
       "          callback();\n",
       "      });\n",
       "    } finally {\n",
       "      delete root._bokeh_onload_callbacks\n",
       "    }\n",
       "    console.debug(\"Bokeh: all callbacks have finished\");\n",
       "  }\n",
       "\n",
       "  function load_libs(css_urls, js_urls, callback) {\n",
       "    if (css_urls == null) css_urls = [];\n",
       "    if (js_urls == null) js_urls = [];\n",
       "\n",
       "    root._bokeh_onload_callbacks.push(callback);\n",
       "    if (root._bokeh_is_loading > 0) {\n",
       "      console.debug(\"Bokeh: BokehJS is being loaded, scheduling callback at\", now());\n",
       "      return null;\n",
       "    }\n",
       "    if (js_urls == null || js_urls.length === 0) {\n",
       "      run_callbacks();\n",
       "      return null;\n",
       "    }\n",
       "    console.debug(\"Bokeh: BokehJS not loaded, scheduling load and callback at\", now());\n",
       "    root._bokeh_is_loading = css_urls.length + js_urls.length;\n",
       "\n",
       "    function on_load() {\n",
       "      root._bokeh_is_loading--;\n",
       "      if (root._bokeh_is_loading === 0) {\n",
       "        console.debug(\"Bokeh: all BokehJS libraries/stylesheets loaded\");\n",
       "        run_callbacks()\n",
       "      }\n",
       "    }\n",
       "\n",
       "    function on_error() {\n",
       "      console.error(\"failed to load \" + url);\n",
       "    }\n",
       "\n",
       "    for (var i = 0; i < css_urls.length; i++) {\n",
       "      var url = css_urls[i];\n",
       "      const element = document.createElement(\"link\");\n",
       "      element.onload = on_load;\n",
       "      element.onerror = on_error;\n",
       "      element.rel = \"stylesheet\";\n",
       "      element.type = \"text/css\";\n",
       "      element.href = url;\n",
       "      console.debug(\"Bokeh: injecting link tag for BokehJS stylesheet: \", url);\n",
       "      document.body.appendChild(element);\n",
       "    }\n",
       "\n",
       "    for (var i = 0; i < js_urls.length; i++) {\n",
       "      var url = js_urls[i];\n",
       "      var element = document.createElement('script');\n",
       "      element.onload = on_load;\n",
       "      element.onerror = on_error;\n",
       "      element.async = false;\n",
       "      element.src = url;\n",
       "      console.debug(\"Bokeh: injecting script tag for BokehJS library: \", url);\n",
       "      document.head.appendChild(element);\n",
       "    }\n",
       "  };var element = document.getElementById(\"1001\");\n",
       "  if (element == null) {\n",
       "    console.error(\"Bokeh: ERROR: autoload.js configured with elementid '1001' but no matching script tag was found. \")\n",
       "    return false;\n",
       "  }\n",
       "\n",
       "  function inject_raw_css(css) {\n",
       "    const element = document.createElement(\"style\");\n",
       "    element.appendChild(document.createTextNode(css));\n",
       "    document.body.appendChild(element);\n",
       "  }\n",
       "\n",
       "  var js_urls = [\"https://cdn.pydata.org/bokeh/release/bokeh-1.2.0.min.js\", \"https://cdn.pydata.org/bokeh/release/bokeh-widgets-1.2.0.min.js\", \"https://cdn.pydata.org/bokeh/release/bokeh-tables-1.2.0.min.js\", \"https://cdn.pydata.org/bokeh/release/bokeh-gl-1.2.0.min.js\"];\n",
       "  var css_urls = [\"https://cdn.pydata.org/bokeh/release/bokeh-1.2.0.min.css\", \"https://cdn.pydata.org/bokeh/release/bokeh-widgets-1.2.0.min.css\", \"https://cdn.pydata.org/bokeh/release/bokeh-tables-1.2.0.min.css\"];\n",
       "\n",
       "  var inline_js = [\n",
       "    function(Bokeh) {\n",
       "      Bokeh.set_log_level(\"info\");\n",
       "    },\n",
       "    \n",
       "    function(Bokeh) {\n",
       "      \n",
       "    },\n",
       "    function(Bokeh) {} // ensure no trailing comma for IE\n",
       "  ];\n",
       "\n",
       "  function run_inline_js() {\n",
       "    \n",
       "    if ((root.Bokeh !== undefined) || (force === true)) {\n",
       "      for (var i = 0; i < inline_js.length; i++) {\n",
       "        inline_js[i].call(root, root.Bokeh);\n",
       "      }if (force === true) {\n",
       "        display_loaded();\n",
       "      }} else if (Date.now() < root._bokeh_timeout) {\n",
       "      setTimeout(run_inline_js, 100);\n",
       "    } else if (!root._bokeh_failed_load) {\n",
       "      console.log(\"Bokeh: BokehJS failed to load within specified timeout.\");\n",
       "      root._bokeh_failed_load = true;\n",
       "    } else if (force !== true) {\n",
       "      var cell = $(document.getElementById(\"1001\")).parents('.cell').data().cell;\n",
       "      cell.output_area.append_execute_result(NB_LOAD_WARNING)\n",
       "    }\n",
       "\n",
       "  }\n",
       "\n",
       "  if (root._bokeh_is_loading === 0) {\n",
       "    console.debug(\"Bokeh: BokehJS loaded, going straight to plotting\");\n",
       "    run_inline_js();\n",
       "  } else {\n",
       "    load_libs(css_urls, js_urls, function() {\n",
       "      console.debug(\"Bokeh: BokehJS plotting callback run at\", now());\n",
       "      run_inline_js();\n",
       "    });\n",
       "  }\n",
       "}(window));"
      ],
      "application/vnd.bokehjs_load.v0+json": "\n(function(root) {\n  function now() {\n    return new Date();\n  }\n\n  var force = true;\n\n  if (typeof root._bokeh_onload_callbacks === \"undefined\" || force === true) {\n    root._bokeh_onload_callbacks = [];\n    root._bokeh_is_loading = undefined;\n  }\n\n  \n\n  \n  if (typeof (root._bokeh_timeout) === \"undefined\" || force === true) {\n    root._bokeh_timeout = Date.now() + 5000;\n    root._bokeh_failed_load = false;\n  }\n\n  var NB_LOAD_WARNING = {'data': {'text/html':\n     \"<div style='background-color: #fdd'>\\n\"+\n     \"<p>\\n\"+\n     \"BokehJS does not appear to have successfully loaded. If loading BokehJS from CDN, this \\n\"+\n     \"may be due to a slow or bad network connection. Possible fixes:\\n\"+\n     \"</p>\\n\"+\n     \"<ul>\\n\"+\n     \"<li>re-rerun `output_notebook()` to attempt to load from CDN again, or</li>\\n\"+\n     \"<li>use INLINE resources instead, as so:</li>\\n\"+\n     \"</ul>\\n\"+\n     \"<code>\\n\"+\n     \"from bokeh.resources import INLINE\\n\"+\n     \"output_notebook(resources=INLINE)\\n\"+\n     \"</code>\\n\"+\n     \"</div>\"}};\n\n  function display_loaded() {\n    var el = document.getElementById(\"1001\");\n    if (el != null) {\n      el.textContent = \"BokehJS is loading...\";\n    }\n    if (root.Bokeh !== undefined) {\n      if (el != null) {\n        el.textContent = \"BokehJS \" + root.Bokeh.version + \" successfully loaded.\";\n      }\n    } else if (Date.now() < root._bokeh_timeout) {\n      setTimeout(display_loaded, 100)\n    }\n  }\n\n\n  function run_callbacks() {\n    try {\n      root._bokeh_onload_callbacks.forEach(function(callback) {\n        if (callback != null)\n          callback();\n      });\n    } finally {\n      delete root._bokeh_onload_callbacks\n    }\n    console.debug(\"Bokeh: all callbacks have finished\");\n  }\n\n  function load_libs(css_urls, js_urls, callback) {\n    if (css_urls == null) css_urls = [];\n    if (js_urls == null) js_urls = [];\n\n    root._bokeh_onload_callbacks.push(callback);\n    if (root._bokeh_is_loading > 0) {\n      console.debug(\"Bokeh: BokehJS is being loaded, scheduling callback at\", now());\n      return null;\n    }\n    if (js_urls == null || js_urls.length === 0) {\n      run_callbacks();\n      return null;\n    }\n    console.debug(\"Bokeh: BokehJS not loaded, scheduling load and callback at\", now());\n    root._bokeh_is_loading = css_urls.length + js_urls.length;\n\n    function on_load() {\n      root._bokeh_is_loading--;\n      if (root._bokeh_is_loading === 0) {\n        console.debug(\"Bokeh: all BokehJS libraries/stylesheets loaded\");\n        run_callbacks()\n      }\n    }\n\n    function on_error() {\n      console.error(\"failed to load \" + url);\n    }\n\n    for (var i = 0; i < css_urls.length; i++) {\n      var url = css_urls[i];\n      const element = document.createElement(\"link\");\n      element.onload = on_load;\n      element.onerror = on_error;\n      element.rel = \"stylesheet\";\n      element.type = \"text/css\";\n      element.href = url;\n      console.debug(\"Bokeh: injecting link tag for BokehJS stylesheet: \", url);\n      document.body.appendChild(element);\n    }\n\n    for (var i = 0; i < js_urls.length; i++) {\n      var url = js_urls[i];\n      var element = document.createElement('script');\n      element.onload = on_load;\n      element.onerror = on_error;\n      element.async = false;\n      element.src = url;\n      console.debug(\"Bokeh: injecting script tag for BokehJS library: \", url);\n      document.head.appendChild(element);\n    }\n  };var element = document.getElementById(\"1001\");\n  if (element == null) {\n    console.error(\"Bokeh: ERROR: autoload.js configured with elementid '1001' but no matching script tag was found. \")\n    return false;\n  }\n\n  function inject_raw_css(css) {\n    const element = document.createElement(\"style\");\n    element.appendChild(document.createTextNode(css));\n    document.body.appendChild(element);\n  }\n\n  var js_urls = [\"https://cdn.pydata.org/bokeh/release/bokeh-1.2.0.min.js\", \"https://cdn.pydata.org/bokeh/release/bokeh-widgets-1.2.0.min.js\", \"https://cdn.pydata.org/bokeh/release/bokeh-tables-1.2.0.min.js\", \"https://cdn.pydata.org/bokeh/release/bokeh-gl-1.2.0.min.js\"];\n  var css_urls = [\"https://cdn.pydata.org/bokeh/release/bokeh-1.2.0.min.css\", \"https://cdn.pydata.org/bokeh/release/bokeh-widgets-1.2.0.min.css\", \"https://cdn.pydata.org/bokeh/release/bokeh-tables-1.2.0.min.css\"];\n\n  var inline_js = [\n    function(Bokeh) {\n      Bokeh.set_log_level(\"info\");\n    },\n    \n    function(Bokeh) {\n      \n    },\n    function(Bokeh) {} // ensure no trailing comma for IE\n  ];\n\n  function run_inline_js() {\n    \n    if ((root.Bokeh !== undefined) || (force === true)) {\n      for (var i = 0; i < inline_js.length; i++) {\n        inline_js[i].call(root, root.Bokeh);\n      }if (force === true) {\n        display_loaded();\n      }} else if (Date.now() < root._bokeh_timeout) {\n      setTimeout(run_inline_js, 100);\n    } else if (!root._bokeh_failed_load) {\n      console.log(\"Bokeh: BokehJS failed to load within specified timeout.\");\n      root._bokeh_failed_load = true;\n    } else if (force !== true) {\n      var cell = $(document.getElementById(\"1001\")).parents('.cell').data().cell;\n      cell.output_area.append_execute_result(NB_LOAD_WARNING)\n    }\n\n  }\n\n  if (root._bokeh_is_loading === 0) {\n    console.debug(\"Bokeh: BokehJS loaded, going straight to plotting\");\n    run_inline_js();\n  } else {\n    load_libs(css_urls, js_urls, function() {\n      console.debug(\"Bokeh: BokehJS plotting callback run at\", now());\n      run_inline_js();\n    });\n  }\n}(window));"
     },
     "metadata": {},
     "output_type": "display_data"
    }
   ],
   "source": [
    "from bokeh.io import show, output_notebook\n",
    "from bokeh.layouts import gridplot\n",
    "from bokeh.models.scales import LogScale\n",
    "output_notebook()"
   ]
  },
  {
   "cell_type": "code",
   "execution_count": 3,
   "metadata": {},
   "outputs": [],
   "source": [
    "import pandas as pd"
   ]
  },
  {
   "cell_type": "markdown",
   "metadata": {},
   "source": [
    "## Load FarGen data\n",
    "\n",
    "Use LD pruned diallelic sites."
   ]
  },
  {
   "cell_type": "code",
   "execution_count": 4,
   "metadata": {},
   "outputs": [],
   "source": [
    "BASE_DIR = '/home/olavur/experiments/2020-11-13_fargen1_exome_analysis'\n",
    "mt = hl.read_matrix_table(BASE_DIR + '/data/mt/ld_pruned_diallelic_common.mt')"
   ]
  },
  {
   "cell_type": "code",
   "execution_count": 5,
   "metadata": {},
   "outputs": [
    {
     "name": "stdout",
     "output_type": "stream",
     "text": [
      "Number of variants: 134452\n",
      "Number of samples: 474\n"
     ]
    }
   ],
   "source": [
    "n_variants, n_samples = mt.count()\n",
    "print('Number of variants: ' + str(n_variants))\n",
    "print('Number of samples: ' + str(n_samples))"
   ]
  },
  {
   "cell_type": "markdown",
   "metadata": {},
   "source": [
    "### Add population filters\n",
    "\n",
    "Use a HWE filter and a minor allele frequency filter. The LD pruned data is already filtered with MAF > 0.01, but we will use a more stringent filter."
   ]
  },
  {
   "cell_type": "code",
   "execution_count": 6,
   "metadata": {},
   "outputs": [],
   "source": [
    "mt = mt.annotate_rows(hwe=hl.agg.hardy_weinberg_test(mt.GT))\n",
    "mt = mt.filter_rows(mt.hwe.p_value > 1e-6)"
   ]
  },
  {
   "cell_type": "markdown",
   "metadata": {},
   "source": [
    "Calculate allele frequencies."
   ]
  },
  {
   "cell_type": "code",
   "execution_count": 7,
   "metadata": {},
   "outputs": [],
   "source": [
    "# The number of alleles at the site is the sum of the ploidy at each site.\n",
    "# This number should be twice the number of samples.\n",
    "# If there are missing genotype calls, the number of alleles will be less.\n",
    "AN_exprs = hl.agg.sum(mt.GT.ploidy)\n",
    "mt = mt.annotate_rows(AN=AN_exprs)\n",
    "\n",
    "# Calculate the number of alternate alleles at each site.\n",
    "AC_exprs = hl.agg.sum(mt.GT.n_alt_alleles())\n",
    "mt = mt.annotate_rows(AC=AC_exprs)\n",
    "\n",
    "# Calculate the alternate allele frequency.\n",
    "mt = mt.annotate_rows(AF=mt.AC / mt.AN)"
   ]
  },
  {
   "cell_type": "markdown",
   "metadata": {},
   "source": [
    "**TODO:** I can increase the MAF threshold if still a lot of variants remain.\n",
    "\n",
    "Remove variants with minor allele frequency under 0.05."
   ]
  },
  {
   "cell_type": "code",
   "execution_count": 8,
   "metadata": {},
   "outputs": [],
   "source": [
    "maf_filter = 0.05\n",
    "mt = mt.filter_rows((mt.AF > maf_filter) & (mt.AF < (1 - maf_filter)))"
   ]
  },
  {
   "cell_type": "markdown",
   "metadata": {},
   "source": [
    "### Filter indels\n",
    "\n",
    "Remove all indels from the dataset."
   ]
  },
  {
   "cell_type": "code",
   "execution_count": 9,
   "metadata": {},
   "outputs": [],
   "source": [
    "mt = mt.filter_rows(hl.is_snp(mt.alleles[0], mt.alleles[1]))"
   ]
  },
  {
   "cell_type": "markdown",
   "metadata": {},
   "source": [
    "## Annotate birth place region"
   ]
  },
  {
   "cell_type": "code",
   "execution_count": 10,
   "metadata": {},
   "outputs": [
    {
     "name": "stderr",
     "output_type": "stream",
     "text": [
      "2021-05-26 13:47:22 Hail: WARN: Name collision: field 'sample' already in object dict. \n",
      "  This field must be referenced with __getitem__ syntax: obj['sample']\n",
      "2021-05-26 13:47:22 Hail: INFO: Reading table without type imputation\n",
      "  Loading field 'rin' as type str (not specified)\n",
      "  Loading field 'sample' as type str (not specified)\n"
     ]
    }
   ],
   "source": [
    "fargen_rin_ht = hl.import_table(BASE_DIR + '/data/metadata/birthplace/fargen_rin_samplename.csv', delimiter=',')\n",
    "fargen_rin_ht = fargen_rin_ht.key_by(fargen_rin_ht.rin)"
   ]
  },
  {
   "cell_type": "code",
   "execution_count": 11,
   "metadata": {},
   "outputs": [
    {
     "name": "stdout",
     "output_type": "stream",
     "text": [
      "----------------------------------------\n",
      "Global fields:\n",
      "    None\n",
      "----------------------------------------\n",
      "Row fields:\n",
      "    'rin': str \n",
      "    'sample': str \n",
      "----------------------------------------\n",
      "Key: ['rin']\n",
      "----------------------------------------\n"
     ]
    }
   ],
   "source": [
    "fargen_rin_ht.describe()"
   ]
  },
  {
   "cell_type": "code",
   "execution_count": 12,
   "metadata": {},
   "outputs": [
    {
     "name": "stderr",
     "output_type": "stream",
     "text": [
      "2021-05-26 13:47:22 Hail: INFO: Reading table without type imputation\n",
      "  Loading field 'ind' as type str (not specified)\n",
      "  Loading field 'region' as type str (not specified)\n"
     ]
    }
   ],
   "source": [
    "rin_birthplace_ht = hl.import_table(BASE_DIR + '/data/metadata/birthplace/rin_region.csv', delimiter=',')\n",
    "# Rename \"ind\" to \"rin\".\n",
    "# Convert the region variable to float.\n",
    "rin_birthplace_ht = rin_birthplace_ht.transmute(rin=rin_birthplace_ht.ind, birthplace=hl.float64(rin_birthplace_ht.region))\n",
    "\n",
    "rin_birthplace_ht = rin_birthplace_ht.key_by(rin_birthplace_ht.rin)"
   ]
  },
  {
   "cell_type": "code",
   "execution_count": 13,
   "metadata": {},
   "outputs": [
    {
     "name": "stdout",
     "output_type": "stream",
     "text": [
      "----------------------------------------\n",
      "Global fields:\n",
      "    None\n",
      "----------------------------------------\n",
      "Row fields:\n",
      "    'rin': str \n",
      "    'birthplace': float64 \n",
      "----------------------------------------\n",
      "Key: ['rin']\n",
      "----------------------------------------\n"
     ]
    }
   ],
   "source": [
    "rin_birthplace_ht.describe()"
   ]
  },
  {
   "cell_type": "code",
   "execution_count": 14,
   "metadata": {},
   "outputs": [],
   "source": [
    "# Annotate the table with the birthplace by the samplenames.\n",
    "samplename_birthplace_ht = rin_birthplace_ht.annotate(samplename=fargen_rin_ht[rin_birthplace_ht.rin].sample)\n",
    "samplename_birthplace_ht = samplename_birthplace_ht.key_by(samplename_birthplace_ht.samplename)"
   ]
  },
  {
   "cell_type": "code",
   "execution_count": 15,
   "metadata": {},
   "outputs": [
    {
     "name": "stdout",
     "output_type": "stream",
     "text": [
      "----------------------------------------\n",
      "Global fields:\n",
      "    None\n",
      "----------------------------------------\n",
      "Row fields:\n",
      "    'rin': str \n",
      "    'birthplace': float64 \n",
      "    'samplename': str \n",
      "----------------------------------------\n",
      "Key: ['samplename']\n",
      "----------------------------------------\n"
     ]
    }
   ],
   "source": [
    "samplename_birthplace_ht.describe()"
   ]
  },
  {
   "cell_type": "code",
   "execution_count": 16,
   "metadata": {},
   "outputs": [],
   "source": [
    "mt = mt.annotate_cols(birthplace = samplename_birthplace_ht[mt.s].birthplace)"
   ]
  },
  {
   "cell_type": "code",
   "execution_count": 17,
   "metadata": {},
   "outputs": [
    {
     "name": "stderr",
     "output_type": "stream",
     "text": [
      "2021-05-26 13:47:25 Hail: INFO: Ordering unsorted dataset with network shuffle\n",
      "2021-05-26 13:47:25 Hail: INFO: Ordering unsorted dataset with network shuffle\n",
      "2021-05-26 13:47:29 Hail: INFO: Ordering unsorted dataset with network shuffle\n",
      "2021-05-26 13:47:29 Hail: INFO: Ordering unsorted dataset with network shuffle\n"
     ]
    },
    {
     "data": {
      "text/html": [
       "\n",
       "\n",
       "\n",
       "\n",
       "\n",
       "\n",
       "  <div class=\"bk-root\" id=\"7ed035fa-2328-4d19-bca0-a774bd6db2bd\" data-root-id=\"1002\"></div>\n"
      ]
     },
     "metadata": {},
     "output_type": "display_data"
    },
    {
     "data": {
      "application/javascript": [
       "(function(root) {\n",
       "  function embed_document(root) {\n",
       "    \n",
       "  var docs_json = {\"ac407c5c-2a8e-4921-9b00-e3f0310eab90\":{\"roots\":{\"references\":[{\"attributes\":{\"background_fill_color\":{\"value\":\"#EEEEEE\"},\"below\":[{\"id\":\"1012\",\"type\":\"LinearAxis\"}],\"center\":[{\"id\":\"1016\",\"type\":\"Grid\"},{\"id\":\"1021\",\"type\":\"Grid\"}],\"left\":[{\"id\":\"1017\",\"type\":\"LinearAxis\"}],\"renderers\":[{\"id\":\"1038\",\"type\":\"GlyphRenderer\"}],\"title\":null,\"toolbar\":{\"id\":\"1028\",\"type\":\"Toolbar\"},\"x_range\":{\"id\":\"1004\",\"type\":\"Range1d\"},\"x_scale\":{\"id\":\"1008\",\"type\":\"LinearScale\"},\"y_range\":{\"id\":\"1006\",\"type\":\"DataRange1d\"},\"y_scale\":{\"id\":\"1010\",\"type\":\"LinearScale\"}},\"id\":\"1002\",\"subtype\":\"Figure\",\"type\":\"Plot\"},{\"attributes\":{},\"id\":\"1010\",\"type\":\"LinearScale\"},{\"attributes\":{\"callback\":null,\"end\":6.25,\"start\":0.75},\"id\":\"1004\",\"type\":\"Range1d\"},{\"attributes\":{\"callback\":null},\"id\":\"1006\",\"type\":\"DataRange1d\"},{\"attributes\":{},\"id\":\"1022\",\"type\":\"PanTool\"},{\"attributes\":{\"bottom_units\":\"screen\",\"fill_alpha\":{\"value\":0.5},\"fill_color\":{\"value\":\"lightgrey\"},\"left_units\":\"screen\",\"level\":\"overlay\",\"line_alpha\":{\"value\":1.0},\"line_color\":{\"value\":\"black\"},\"line_dash\":[4,4],\"line_width\":{\"value\":2},\"render_mode\":\"css\",\"right_units\":\"screen\",\"top_units\":\"screen\"},\"id\":\"1047\",\"type\":\"BoxAnnotation\"},{\"attributes\":{\"active_drag\":\"auto\",\"active_inspect\":\"auto\",\"active_multi\":null,\"active_scroll\":\"auto\",\"active_tap\":\"auto\",\"tools\":[{\"id\":\"1022\",\"type\":\"PanTool\"},{\"id\":\"1023\",\"type\":\"WheelZoomTool\"},{\"id\":\"1024\",\"type\":\"BoxZoomTool\"},{\"id\":\"1025\",\"type\":\"SaveTool\"},{\"id\":\"1026\",\"type\":\"ResetTool\"},{\"id\":\"1027\",\"type\":\"HelpTool\"}]},\"id\":\"1028\",\"type\":\"Toolbar\"},{\"attributes\":{},\"id\":\"1008\",\"type\":\"LinearScale\"},{\"attributes\":{},\"id\":\"1023\",\"type\":\"WheelZoomTool\"},{\"attributes\":{},\"id\":\"1045\",\"type\":\"Selection\"},{\"attributes\":{\"dimension\":1,\"ticker\":{\"id\":\"1018\",\"type\":\"BasicTicker\"}},\"id\":\"1021\",\"type\":\"Grid\"},{\"attributes\":{},\"id\":\"1043\",\"type\":\"BasicTickFormatter\"},{\"attributes\":{\"overlay\":{\"id\":\"1047\",\"type\":\"BoxAnnotation\"}},\"id\":\"1024\",\"type\":\"BoxZoomTool\"},{\"attributes\":{\"formatter\":{\"id\":\"1043\",\"type\":\"BasicTickFormatter\"},\"ticker\":{\"id\":\"1013\",\"type\":\"BasicTicker\"}},\"id\":\"1012\",\"type\":\"LinearAxis\"},{\"attributes\":{},\"id\":\"1025\",\"type\":\"SaveTool\"},{\"attributes\":{\"data_source\":{\"id\":\"1035\",\"type\":\"ColumnDataSource\"},\"glyph\":{\"id\":\"1036\",\"type\":\"Quad\"},\"hover_glyph\":null,\"muted_glyph\":null,\"nonselection_glyph\":{\"id\":\"1037\",\"type\":\"Quad\"},\"selection_glyph\":null,\"view\":{\"id\":\"1039\",\"type\":\"CDSView\"}},\"id\":\"1038\",\"type\":\"GlyphRenderer\"},{\"attributes\":{\"axis_label\":\"Frequency\",\"formatter\":{\"id\":\"1041\",\"type\":\"BasicTickFormatter\"},\"ticker\":{\"id\":\"1018\",\"type\":\"BasicTicker\"}},\"id\":\"1017\",\"type\":\"LinearAxis\"},{\"attributes\":{},\"id\":\"1046\",\"type\":\"UnionRenderers\"},{\"attributes\":{\"callback\":null,\"data\":{\"left\":[1.0,1.1,1.2,1.3,1.4,1.5,1.6,1.7000000000000002,1.8,1.9,2.0,2.1,2.2,2.3,2.4000000000000004,2.5,2.6,2.7,2.8,2.9000000000000004,3.0,3.1,3.2,3.3000000000000003,3.4000000000000004,3.5,3.6,3.7,3.8000000000000003,3.9000000000000004,4.0,4.1,4.2,4.300000000000001,4.4,4.5,4.6,4.7,4.800000000000001,4.9,5.0,5.1000000000000005,5.2,5.3,5.4,5.5,5.6000000000000005,5.7,5.800000000000001,5.9],\"right\":[1.1,1.2,1.3,1.4,1.5,1.6,1.7000000000000002,1.8,1.9,2.0,2.1,2.2,2.3,2.4000000000000004,2.5,2.6,2.7,2.8,2.9000000000000004,3.0,3.1,3.2,3.3000000000000003,3.4000000000000004,3.5,3.6,3.7,3.8000000000000003,3.9000000000000004,4.0,4.1,4.2,4.300000000000001,4.4,4.5,4.6,4.7,4.800000000000001,4.9,5.0,5.1000000000000005,5.2,5.3,5.4,5.5,5.6000000000000005,5.7,5.800000000000001,5.9,6.0],\"top\":[69,0,0,0,0,0,0,0,0,0,101,0,0,0,0,0,0,0,0,0,181,0,0,0,0,0,0,0,0,0,28,0,0,0,0,0,0,0,0,0,17,0,0,0,0,0,0,0,0,34]},\"selected\":{\"id\":\"1045\",\"type\":\"Selection\"},\"selection_policy\":{\"id\":\"1046\",\"type\":\"UnionRenderers\"}},\"id\":\"1035\",\"type\":\"ColumnDataSource\"},{\"attributes\":{},\"id\":\"1027\",\"type\":\"HelpTool\"},{\"attributes\":{\"source\":{\"id\":\"1035\",\"type\":\"ColumnDataSource\"}},\"id\":\"1039\",\"type\":\"CDSView\"},{\"attributes\":{\"bottom\":{\"value\":0},\"fill_color\":{\"value\":\"#1f77b4\"},\"left\":{\"field\":\"left\"},\"right\":{\"field\":\"right\"},\"top\":{\"field\":\"top\"}},\"id\":\"1036\",\"type\":\"Quad\"},{\"attributes\":{},\"id\":\"1013\",\"type\":\"BasicTicker\"},{\"attributes\":{\"bottom\":{\"value\":0},\"fill_alpha\":{\"value\":0.1},\"fill_color\":{\"value\":\"#1f77b4\"},\"left\":{\"field\":\"left\"},\"line_alpha\":{\"value\":0.1},\"line_color\":{\"value\":\"#1f77b4\"},\"right\":{\"field\":\"right\"},\"top\":{\"field\":\"top\"}},\"id\":\"1037\",\"type\":\"Quad\"},{\"attributes\":{},\"id\":\"1018\",\"type\":\"BasicTicker\"},{\"attributes\":{},\"id\":\"1026\",\"type\":\"ResetTool\"},{\"attributes\":{\"ticker\":{\"id\":\"1013\",\"type\":\"BasicTicker\"}},\"id\":\"1016\",\"type\":\"Grid\"},{\"attributes\":{},\"id\":\"1041\",\"type\":\"BasicTickFormatter\"}],\"root_ids\":[\"1002\"]},\"title\":\"Bokeh Application\",\"version\":\"1.2.0\"}};\n",
       "  var render_items = [{\"docid\":\"ac407c5c-2a8e-4921-9b00-e3f0310eab90\",\"roots\":{\"1002\":\"7ed035fa-2328-4d19-bca0-a774bd6db2bd\"}}];\n",
       "  root.Bokeh.embed.embed_items_notebook(docs_json, render_items);\n",
       "\n",
       "  }\n",
       "  if (root.Bokeh !== undefined) {\n",
       "    embed_document(root);\n",
       "  } else {\n",
       "    var attempts = 0;\n",
       "    var timer = setInterval(function(root) {\n",
       "      if (root.Bokeh !== undefined) {\n",
       "        embed_document(root);\n",
       "        clearInterval(timer);\n",
       "      }\n",
       "      attempts++;\n",
       "      if (attempts > 100) {\n",
       "        console.log(\"Bokeh: ERROR: Unable to run BokehJS code because BokehJS library is missing\");\n",
       "        clearInterval(timer);\n",
       "      }\n",
       "    }, 10, root)\n",
       "  }\n",
       "})(window);"
      ],
      "application/vnd.bokehjs_exec.v0+json": ""
     },
     "metadata": {
      "application/vnd.bokehjs_exec.v0+json": {
       "id": "1002"
      }
     },
     "output_type": "display_data"
    }
   ],
   "source": [
    "p = hl.plot.histogram(mt.birthplace)\n",
    "show(p)"
   ]
  },
  {
   "cell_type": "markdown",
   "metadata": {},
   "source": [
    "## Filter related individuals\n",
    "\n",
    "Estimate the relatedness between the samples by the PC-Relate method, with a minimum alternate allele frequency of 0.001."
   ]
  },
  {
   "cell_type": "code",
   "execution_count": 18,
   "metadata": {},
   "outputs": [
    {
     "name": "stderr",
     "output_type": "stream",
     "text": [
      "2021-05-26 13:47:36 Hail: INFO: hwe_normalized_pca: running PCA using 39986 variants.\n",
      "2021-05-26 13:47:40 Hail: INFO: pca: running PCA with 2 components...\n",
      "2021-05-26 13:48:12 Hail: INFO: Wrote all 10 blocks of 39986 x 474 matrix with block size 4096.\n"
     ]
    }
   ],
   "source": [
    "pc_rel = hl.pc_relate(mt.GT, 0.001, k=2, statistics='kin')"
   ]
  },
  {
   "cell_type": "markdown",
   "metadata": {},
   "source": [
    "Plot all the relatedness coefficients in a histogram to get an overview."
   ]
  },
  {
   "cell_type": "code",
   "execution_count": 19,
   "metadata": {},
   "outputs": [
    {
     "name": "stderr",
     "output_type": "stream",
     "text": [
      "2021-05-26 13:48:13 Hail: INFO: wrote matrix with 3 rows and 39986 columns as 10 blocks of size 4096 to /home/olavur/tmp/pcrelate-write-read-pCDSvTTnu8oA89BdnEQFEJ.bm\n",
      "2021-05-26 13:48:13 Hail: INFO: wrote matrix with 39986 rows and 474 columns as 10 blocks of size 4096 to /home/olavur/tmp/pcrelate-write-read-zcw7ERDoajuMEqMlvjqe3Q.bm\n",
      "2021-05-26 13:48:26 Hail: INFO: wrote matrix with 474 rows and 474 columns as 1 block of size 4096 to /home/olavur/tmp/pcrelate-write-read-Q7TWY0nu8beBWorclHg1W3.bm\n",
      "2021-05-26 13:48:37 Hail: INFO: wrote matrix with 474 rows and 474 columns as 1 block of size 4096 to /home/olavur/tmp/pcrelate-write-read-KEm2XOVAkCR7F7t5KEfL17.bm\n",
      "2021-05-26 13:48:37 Hail: INFO: wrote matrix with 474 rows and 474 columns as 1 block of size 4096 to /home/olavur/tmp/pcrelate-write-read-axxkMgTg50prFkqAuy8Esu.bm\n",
      "2021-05-26 13:48:38 Hail: INFO: Ordering unsorted dataset with network shuffle\n",
      "2021-05-26 13:48:39 Hail: INFO: wrote matrix with 3 rows and 39986 columns as 10 blocks of size 4096 to /home/olavur/tmp/pcrelate-write-read-MDrLrB2pBc4TnzhxE6MfJU.bm\n",
      "2021-05-26 13:48:39 Hail: INFO: wrote matrix with 39986 rows and 474 columns as 10 blocks of size 4096 to /home/olavur/tmp/pcrelate-write-read-tAiosHTJbIDOeVvsUkb58E.bm\n",
      "2021-05-26 13:48:55 Hail: INFO: wrote matrix with 474 rows and 474 columns as 1 block of size 4096 to /home/olavur/tmp/pcrelate-write-read-CPE3vqE6KQWL6ePzaCqkDj.bm\n",
      "2021-05-26 13:49:13 Hail: INFO: wrote matrix with 474 rows and 474 columns as 1 block of size 4096 to /home/olavur/tmp/pcrelate-write-read-mBCNGBKp0w1st8TSiLMC8i.bm\n",
      "2021-05-26 13:49:13 Hail: INFO: wrote matrix with 474 rows and 474 columns as 1 block of size 4096 to /home/olavur/tmp/pcrelate-write-read-5XNbYldffbZM19xL8Ne2On.bm\n",
      "2021-05-26 13:49:13 Hail: INFO: Ordering unsorted dataset with network shuffle\n"
     ]
    },
    {
     "data": {
      "text/html": [
       "\n",
       "\n",
       "\n",
       "\n",
       "\n",
       "\n",
       "  <div class=\"bk-root\" id=\"6e42b1d9-334b-4184-bcf8-91ff4af7612c\" data-root-id=\"1096\"></div>\n"
      ]
     },
     "metadata": {},
     "output_type": "display_data"
    },
    {
     "data": {
      "application/javascript": [
       "(function(root) {\n",
       "  function embed_document(root) {\n",
       "    \n",
       "  var docs_json = {\"63d66a12-22a6-458c-8a74-a7a71bafe04e\":{\"roots\":{\"references\":[{\"attributes\":{\"background_fill_color\":{\"value\":\"#EEEEEE\"},\"below\":[{\"id\":\"1107\",\"type\":\"LinearAxis\"}],\"center\":[{\"id\":\"1111\",\"type\":\"Grid\"},{\"id\":\"1116\",\"type\":\"Grid\"}],\"left\":[{\"id\":\"1112\",\"type\":\"LinearAxis\"}],\"renderers\":[{\"id\":\"1133\",\"type\":\"GlyphRenderer\"}],\"title\":{\"id\":\"1097\",\"type\":\"Title\"},\"toolbar\":{\"id\":\"1123\",\"type\":\"Toolbar\"},\"x_range\":{\"id\":\"1099\",\"type\":\"Range1d\"},\"x_scale\":{\"id\":\"1103\",\"type\":\"LinearScale\"},\"y_range\":{\"id\":\"1101\",\"type\":\"DataRange1d\"},\"y_scale\":{\"id\":\"1105\",\"type\":\"LinearScale\"}},\"id\":\"1096\",\"subtype\":\"Figure\",\"type\":\"Plot\"},{\"attributes\":{\"text\":\"Histogram of kinship coefficient\"},\"id\":\"1097\",\"type\":\"Title\"},{\"attributes\":{\"bottom\":{\"value\":0},\"fill_color\":{\"value\":\"#1f77b4\"},\"left\":{\"field\":\"left\"},\"right\":{\"field\":\"right\"},\"top\":{\"field\":\"top\"}},\"id\":\"1131\",\"type\":\"Quad\"},{\"attributes\":{},\"id\":\"1103\",\"type\":\"LinearScale\"},{\"attributes\":{},\"id\":\"1146\",\"type\":\"BasicTickFormatter\"},{\"attributes\":{},\"id\":\"1122\",\"type\":\"HelpTool\"},{\"attributes\":{},\"id\":\"1118\",\"type\":\"WheelZoomTool\"},{\"attributes\":{},\"id\":\"1144\",\"type\":\"BasicTickFormatter\"},{\"attributes\":{\"dimension\":1,\"ticker\":{\"id\":\"1113\",\"type\":\"BasicTicker\"}},\"id\":\"1116\",\"type\":\"Grid\"},{\"attributes\":{\"active_drag\":\"auto\",\"active_inspect\":\"auto\",\"active_multi\":null,\"active_scroll\":\"auto\",\"active_tap\":\"auto\",\"tools\":[{\"id\":\"1117\",\"type\":\"PanTool\"},{\"id\":\"1118\",\"type\":\"WheelZoomTool\"},{\"id\":\"1119\",\"type\":\"BoxZoomTool\"},{\"id\":\"1120\",\"type\":\"SaveTool\"},{\"id\":\"1121\",\"type\":\"ResetTool\"},{\"id\":\"1122\",\"type\":\"HelpTool\"}]},\"id\":\"1123\",\"type\":\"Toolbar\"},{\"attributes\":{\"formatter\":{\"id\":\"1146\",\"type\":\"BasicTickFormatter\"},\"ticker\":{\"id\":\"1108\",\"type\":\"BasicTicker\"}},\"id\":\"1107\",\"type\":\"LinearAxis\"},{\"attributes\":{},\"id\":\"1108\",\"type\":\"BasicTicker\"},{\"attributes\":{},\"id\":\"1120\",\"type\":\"SaveTool\"},{\"attributes\":{},\"id\":\"1121\",\"type\":\"ResetTool\"},{\"attributes\":{},\"id\":\"1148\",\"type\":\"Selection\"},{\"attributes\":{\"callback\":null,\"data\":{\"left\":[-0.10795700236808185,-0.09650507718482938,-0.08505315200157693,-0.07360122681832446,-0.062149301635071985,-0.050697376451819515,-0.03924545126856706,-0.027793526085314588,-0.016341600902062117,-0.004889675718809647,0.006562249464442824,0.018014174647695294,0.029466099830947737,0.04091802501420021,0.05236995019745268,0.06382187538070515,0.07527380056395762,0.08672572574721009,0.09817765093046256,0.10962957611371503,0.1210815012969675,0.13253342648021993,0.14398535166347243,0.15543727684672487,0.1668892020299773,0.1783411272132298,0.18979305239648225,0.20124497757973475,0.2126969027629872,0.2241488279462397,0.23560075312949214,0.24705267831274463,0.2585046034959971,0.2699565286792495,0.281408453862502,0.29286037904575446,0.30431230422900696,0.3157642294122594,0.3272161545955119,0.33866807977876434,0.35012000496201684,0.3615719301452693,0.3730238553285217,0.3844757805117742,0.3959277056950267,0.40737963087827916,0.4188315560615316,0.43028348124478405,0.4417354064280365,0.45318733161128905],\"right\":[-0.09650507718482938,-0.08505315200157693,-0.07360122681832446,-0.062149301635071985,-0.050697376451819515,-0.03924545126856706,-0.027793526085314588,-0.016341600902062117,-0.004889675718809647,0.006562249464442824,0.018014174647695294,0.029466099830947737,0.04091802501420021,0.05236995019745268,0.06382187538070515,0.07527380056395762,0.08672572574721009,0.09817765093046256,0.10962957611371503,0.1210815012969675,0.13253342648021993,0.14398535166347243,0.15543727684672487,0.1668892020299773,0.1783411272132298,0.18979305239648225,0.20124497757973475,0.2126969027629872,0.2241488279462397,0.23560075312949214,0.24705267831274463,0.2585046034959971,0.2699565286792495,0.281408453862502,0.29286037904575446,0.30431230422900696,0.3157642294122594,0.3272161545955119,0.33866807977876434,0.35012000496201684,0.3615719301452693,0.3730238553285217,0.3844757805117742,0.3959277056950267,0.40737963087827916,0.4188315560615316,0.43028348124478405,0.4417354064280365,0.45318733161128905,0.4646392567945415],\"top\":[1,1,0,0,0,1,8,171,24863,80757,5738,294,80,35,41,12,6,4,9,5,6,4,0,1,1,1,4,5,18,25,5,2,1,0,0,0,0,0,0,0,1,0,0,0,0,0,0,0,0,1]},\"selected\":{\"id\":\"1148\",\"type\":\"Selection\"},\"selection_policy\":{\"id\":\"1149\",\"type\":\"UnionRenderers\"}},\"id\":\"1130\",\"type\":\"ColumnDataSource\"},{\"attributes\":{\"bottom\":{\"value\":0},\"fill_alpha\":{\"value\":0.1},\"fill_color\":{\"value\":\"#1f77b4\"},\"left\":{\"field\":\"left\"},\"line_alpha\":{\"value\":0.1},\"line_color\":{\"value\":\"#1f77b4\"},\"right\":{\"field\":\"right\"},\"top\":{\"field\":\"top\"}},\"id\":\"1132\",\"type\":\"Quad\"},{\"attributes\":{\"data_source\":{\"id\":\"1130\",\"type\":\"ColumnDataSource\"},\"glyph\":{\"id\":\"1131\",\"type\":\"Quad\"},\"hover_glyph\":null,\"muted_glyph\":null,\"nonselection_glyph\":{\"id\":\"1132\",\"type\":\"Quad\"},\"selection_glyph\":null,\"view\":{\"id\":\"1134\",\"type\":\"CDSView\"}},\"id\":\"1133\",\"type\":\"GlyphRenderer\"},{\"attributes\":{},\"id\":\"1149\",\"type\":\"UnionRenderers\"},{\"attributes\":{\"ticker\":{\"id\":\"1108\",\"type\":\"BasicTicker\"}},\"id\":\"1111\",\"type\":\"Grid\"},{\"attributes\":{\"bottom_units\":\"screen\",\"fill_alpha\":{\"value\":0.5},\"fill_color\":{\"value\":\"lightgrey\"},\"left_units\":\"screen\",\"level\":\"overlay\",\"line_alpha\":{\"value\":1.0},\"line_color\":{\"value\":\"black\"},\"line_dash\":[4,4],\"line_width\":{\"value\":2},\"render_mode\":\"css\",\"right_units\":\"screen\",\"top_units\":\"screen\"},\"id\":\"1150\",\"type\":\"BoxAnnotation\"},{\"attributes\":{},\"id\":\"1105\",\"type\":\"LinearScale\"},{\"attributes\":{\"callback\":null},\"id\":\"1101\",\"type\":\"DataRange1d\"},{\"attributes\":{\"overlay\":{\"id\":\"1150\",\"type\":\"BoxAnnotation\"}},\"id\":\"1119\",\"type\":\"BoxZoomTool\"},{\"attributes\":{\"callback\":null,\"end\":0.49326906975267265,\"start\":-0.13658681532621303},\"id\":\"1099\",\"type\":\"Range1d\"},{\"attributes\":{\"source\":{\"id\":\"1130\",\"type\":\"ColumnDataSource\"}},\"id\":\"1134\",\"type\":\"CDSView\"},{\"attributes\":{},\"id\":\"1117\",\"type\":\"PanTool\"},{\"attributes\":{\"axis_label\":\"Frequency\",\"formatter\":{\"id\":\"1144\",\"type\":\"BasicTickFormatter\"},\"ticker\":{\"id\":\"1113\",\"type\":\"BasicTicker\"}},\"id\":\"1112\",\"type\":\"LinearAxis\"},{\"attributes\":{},\"id\":\"1113\",\"type\":\"BasicTicker\"}],\"root_ids\":[\"1096\"]},\"title\":\"Bokeh Application\",\"version\":\"1.2.0\"}};\n",
       "  var render_items = [{\"docid\":\"63d66a12-22a6-458c-8a74-a7a71bafe04e\",\"roots\":{\"1096\":\"6e42b1d9-334b-4184-bcf8-91ff4af7612c\"}}];\n",
       "  root.Bokeh.embed.embed_items_notebook(docs_json, render_items);\n",
       "\n",
       "  }\n",
       "  if (root.Bokeh !== undefined) {\n",
       "    embed_document(root);\n",
       "  } else {\n",
       "    var attempts = 0;\n",
       "    var timer = setInterval(function(root) {\n",
       "      if (root.Bokeh !== undefined) {\n",
       "        embed_document(root);\n",
       "        clearInterval(timer);\n",
       "      }\n",
       "      attempts++;\n",
       "      if (attempts > 100) {\n",
       "        console.log(\"Bokeh: ERROR: Unable to run BokehJS code because BokehJS library is missing\");\n",
       "        clearInterval(timer);\n",
       "      }\n",
       "    }, 10, root)\n",
       "  }\n",
       "})(window);"
      ],
      "application/vnd.bokehjs_exec.v0+json": ""
     },
     "metadata": {
      "application/vnd.bokehjs_exec.v0+json": {
       "id": "1096"
      }
     },
     "output_type": "display_data"
    }
   ],
   "source": [
    "p = hl.plot.histogram(pc_rel.kin, title='Histogram of kinship coefficient')\n",
    "show(p)"
   ]
  },
  {
   "cell_type": "code",
   "execution_count": 20,
   "metadata": {},
   "outputs": [],
   "source": [
    "pairs = pc_rel.filter(pc_rel['kin'] > 2**(-3))"
   ]
  },
  {
   "cell_type": "markdown",
   "metadata": {},
   "source": [
    "Then we find the maximal independent set, consistent of the samples to remove."
   ]
  },
  {
   "cell_type": "code",
   "execution_count": 21,
   "metadata": {},
   "outputs": [
    {
     "name": "stderr",
     "output_type": "stream",
     "text": [
      "2021-05-26 13:49:15 Hail: INFO: wrote matrix with 3 rows and 39986 columns as 10 blocks of size 4096 to /home/olavur/tmp/pcrelate-write-read-XClyq2VyHdWUZEaMf2LuX6.bm\n",
      "2021-05-26 13:49:15 Hail: INFO: wrote matrix with 39986 rows and 474 columns as 10 blocks of size 4096 to /home/olavur/tmp/pcrelate-write-read-mwqOQd0Y7zR0S1AG32UhVP.bm\n",
      "2021-05-26 13:49:28 Hail: INFO: wrote matrix with 474 rows and 474 columns as 1 block of size 4096 to /home/olavur/tmp/pcrelate-write-read-Fdw974MIon5PuOa5y3kBU6.bm\n",
      "2021-05-26 13:49:42 Hail: INFO: wrote matrix with 474 rows and 474 columns as 1 block of size 4096 to /home/olavur/tmp/pcrelate-write-read-9cOrFPitOWXxg3RmXSq1du.bm\n",
      "2021-05-26 13:49:42 Hail: INFO: wrote matrix with 474 rows and 474 columns as 1 block of size 4096 to /home/olavur/tmp/pcrelate-write-read-2BYw022i6tlArLtJu9oPZx.bm\n",
      "2021-05-26 13:49:42 Hail: INFO: Ordering unsorted dataset with network shuffle\n",
      "2021-05-26 13:49:43 Hail: INFO: wrote table with 72 rows in 1 partition to /home/olavur/tmp/ArTIWlTgaX5hbHJvieTqqG\n",
      "    Total size: 772.00 B\n",
      "    * Rows: 761.00 B\n",
      "    * Globals: 11.00 B\n",
      "    * Smallest partition: 72 rows (761.00 B)\n",
      "    * Largest partition:  72 rows (761.00 B)\n"
     ]
    }
   ],
   "source": [
    "related_samples_to_remove = hl.maximal_independent_set(pairs.i, pairs.j, keep=False)"
   ]
  },
  {
   "cell_type": "markdown",
   "metadata": {},
   "source": [
    "Now we filter these individuals from the matrix table."
   ]
  },
  {
   "cell_type": "code",
   "execution_count": 22,
   "metadata": {},
   "outputs": [
    {
     "name": "stderr",
     "output_type": "stream",
     "text": [
      "2021-05-26 13:49:44 Hail: WARN: cols(): Resulting column table is sorted by 'col_key'.\n",
      "    To preserve matrix table column order, first unkey columns with 'key_cols_by()'\n"
     ]
    }
   ],
   "source": [
    "pruned_mt = mt.filter_cols(hl.is_defined(related_samples_to_remove[mt.col_key]), keep=False)"
   ]
  },
  {
   "cell_type": "code",
   "execution_count": 23,
   "metadata": {},
   "outputs": [
    {
     "name": "stderr",
     "output_type": "stream",
     "text": [
      "2021-05-26 13:49:44 Hail: INFO: Coerced sorted dataset\n",
      "2021-05-26 13:49:44 Hail: INFO: Ordering unsorted dataset with network shuffle\n"
     ]
    },
    {
     "name": "stdout",
     "output_type": "stream",
     "text": [
      "Samples before prune: 474\n",
      "Sample after prune: 416\n"
     ]
    }
   ],
   "source": [
    "samples_before_prune = mt.count_cols()\n",
    "samples_after_prune = pruned_mt.count_cols()\n",
    "print('Samples before prune: {n}\\nSample after prune: {m}'.format(n=samples_before_prune, m=samples_after_prune))"
   ]
  },
  {
   "cell_type": "markdown",
   "metadata": {},
   "source": [
    "## Compute PCA"
   ]
  },
  {
   "cell_type": "code",
   "execution_count": 24,
   "metadata": {},
   "outputs": [
    {
     "name": "stderr",
     "output_type": "stream",
     "text": [
      "2021-05-26 13:49:45 Hail: INFO: Coerced sorted dataset\n",
      "2021-05-26 13:49:46 Hail: INFO: Ordering unsorted dataset with network shuffle\n",
      "2021-05-26 13:49:48 Hail: INFO: hwe_normalized_pca: running PCA using 39986 variants.\n",
      "2021-05-26 13:49:49 Hail: INFO: Coerced sorted dataset\n",
      "2021-05-26 13:49:49 Hail: INFO: Ordering unsorted dataset with network shuffle\n",
      "2021-05-26 13:49:51 Hail: INFO: pca: running PCA with 2 components...\n"
     ]
    }
   ],
   "source": [
    "eigenvalues, scores, loadings = hl.hwe_normalized_pca(pruned_mt.GT, k=2)"
   ]
  },
  {
   "cell_type": "code",
   "execution_count": 25,
   "metadata": {},
   "outputs": [],
   "source": [
    "pruned_mt = pruned_mt.annotate_cols(scores = scores[pruned_mt.s].scores)"
   ]
  },
  {
   "cell_type": "code",
   "execution_count": 26,
   "metadata": {},
   "outputs": [
    {
     "name": "stderr",
     "output_type": "stream",
     "text": [
      "2021-05-26 13:50:04 Hail: INFO: Ordering unsorted dataset with network shuffle\n",
      "2021-05-26 13:50:04 Hail: INFO: Ordering unsorted dataset with network shuffle\n",
      "2021-05-26 13:50:05 Hail: INFO: Coerced sorted dataset\n",
      "2021-05-26 13:50:05 Hail: INFO: Ordering unsorted dataset with network shuffle\n"
     ]
    },
    {
     "data": {
      "text/html": [
       "\n",
       "\n",
       "\n",
       "\n",
       "\n",
       "\n",
       "  <div class=\"bk-root\" id=\"fd6f0cec-c791-480d-877d-5b0d0139a635\" data-root-id=\"1199\"></div>\n"
      ]
     },
     "metadata": {},
     "output_type": "display_data"
    },
    {
     "data": {
      "application/javascript": [
       "(function(root) {\n",
       "  function embed_document(root) {\n",
       "    \n",
       "  var docs_json = {\"925a37fe-7e36-4701-b954-06bbfc05b91d\":{\"roots\":{\"references\":[{\"attributes\":{\"below\":[{\"id\":\"1210\",\"type\":\"LinearAxis\"}],\"center\":[{\"id\":\"1214\",\"type\":\"Grid\"},{\"id\":\"1219\",\"type\":\"Grid\"}],\"left\":[{\"id\":\"1215\",\"type\":\"LinearAxis\"},{\"id\":\"1286\",\"type\":\"Legend\"},{\"id\":\"1287\",\"type\":\"ColorBar\"}],\"plot_height\":600,\"plot_width\":800,\"renderers\":[{\"id\":\"1242\",\"type\":\"GlyphRenderer\"},{\"id\":\"1248\",\"type\":\"GlyphRenderer\"},{\"id\":\"1254\",\"type\":\"GlyphRenderer\"},{\"id\":\"1260\",\"type\":\"GlyphRenderer\"},{\"id\":\"1266\",\"type\":\"GlyphRenderer\"},{\"id\":\"1272\",\"type\":\"GlyphRenderer\"},{\"id\":\"1278\",\"type\":\"GlyphRenderer\"}],\"title\":{\"id\":\"1200\",\"type\":\"Title\"},\"toolbar\":{\"id\":\"1226\",\"type\":\"Toolbar\"},\"x_range\":{\"id\":\"1202\",\"type\":\"DataRange1d\"},\"x_scale\":{\"id\":\"1206\",\"type\":\"LinearScale\"},\"y_range\":{\"id\":\"1204\",\"type\":\"DataRange1d\"},\"y_scale\":{\"id\":\"1208\",\"type\":\"LinearScale\"}},\"id\":\"1199\",\"subtype\":\"Figure\",\"type\":\"Plot\"},{\"attributes\":{\"label\":{\"value\":\"2.00000e+00\"},\"renderers\":[{\"id\":\"1248\",\"type\":\"GlyphRenderer\"}]},\"id\":\"1280\",\"type\":\"LegendItem\"},{\"attributes\":{},\"id\":\"1206\",\"type\":\"LinearScale\"},{\"attributes\":{},\"id\":\"1225\",\"type\":\"HelpTool\"},{\"attributes\":{\"callback\":null},\"id\":\"1204\",\"type\":\"DataRange1d\"},{\"attributes\":{\"fill_color\":{\"field\":\"label\",\"transform\":{\"id\":\"1236\",\"type\":\"CategoricalColorMapper\"}},\"line_color\":{\"field\":\"label\",\"transform\":{\"id\":\"1236\",\"type\":\"CategoricalColorMapper\"}},\"x\":{\"field\":\"x\"},\"y\":{\"field\":\"y\"}},\"id\":\"1252\",\"type\":\"Circle\"},{\"attributes\":{\"fill_alpha\":{\"value\":0.1},\"fill_color\":{\"value\":\"#1f77b4\"},\"line_alpha\":{\"value\":0.1},\"line_color\":{\"value\":\"#1f77b4\"},\"x\":{\"field\":\"x\"},\"y\":{\"field\":\"y\"}},\"id\":\"1277\",\"type\":\"Circle\"},{\"attributes\":{\"callback\":null,\"data\":{\"index\":[0,1,2,3,4,5,6,7,8,9,10,11,12,13,14,15,16,17,18,19,20,21,22,23,24,25,26,27,28,29,30,31,32,33,34,35,36,37,38,39,40,41,42,43,44,45,46,47,48,49,50,51,52,53,54,55,56,57,58,59,60,61,62,63,64,65,66,67,68,69,70,71,72,73,74,75,76,77,78,79,80,81,82,83,84,85,86,87,88,89,90,91,92,93,94,95,96,97,98,99,100,101,102,103,104,105,106,107,108,109,110,111,112,113,114,115,116,117,118,119,120,121,122,123,124,125,126,127,128,129,130,131,132,133,134,135,136,137,138,139,140,141,142,143,144,145,146,147,148,149,150,151,152,153,154,155,156,157,158,159,160,161,162,163,164,165,166,167,168,169,170,171,172,173,174,175,176,177,178,179,180,181,182,183,184,185,186,187,188,189,190,191,192,193,194,195,196,197,198,199,200,201,202,203,204,205,206,207,208,209,210,211,212,213,214,215,216,217,218,219,220,221,222,223,224,225,226,227,228,229,230,231,232,233,234,235,236,237,238,239,240,241,242,243,244,245,246,247,248,249,250,251,252,253,254,255,256,257,258,259,260,261,262,263,264,265,266,267,268,269,270,271,272,273,274,275,276,277,278,279,280,281,282,283,284,285,286,287,288,289,290,291,292,293,294,295,296,297,298,299,300,301,302,303,304,305,306,307,308,309,310,311,312,313,314,315,316,317,318,319,320,321,322,323,324,325,326,327,328,329,330,331,332,333,334,335,336,337,338,339,340,341,342,343,344,345,346,347,348,349,350,351,352,353,354,355,356,357,358,359,360,361,362,363,364,365,366,367,368,369,370,371,372,373,374,375,376,377,378,379,380,381,382,383,384,385,386,387,388,389,390,391,392,393,394,395,396,397,398,399,400,401,402],\"label\":[\"5.00000e+00\",\"5.00000e+00\",\"3.00000e+00\",\"5.00000e+00\",\"1.00000e+00\",\"1.00000e+00\",\"2.00000e+00\",\"NA\",\"1.00000e+00\",\"4.00000e+00\",\"4.00000e+00\",\"6.00000e+00\",\"3.00000e+00\",\"4.00000e+00\",\"3.00000e+00\",\"3.00000e+00\",\"NA\",\"3.00000e+00\",\"1.00000e+00\",\"4.00000e+00\",\"5.00000e+00\",\"1.00000e+00\",\"1.00000e+00\",\"3.00000e+00\",\"3.00000e+00\",\"6.00000e+00\",\"NA\",\"2.00000e+00\",\"2.00000e+00\",\"3.00000e+00\",\"4.00000e+00\",\"1.00000e+00\",\"3.00000e+00\",\"3.00000e+00\",\"3.00000e+00\",\"NA\",\"1.00000e+00\",\"3.00000e+00\",\"5.00000e+00\",\"1.00000e+00\",\"2.00000e+00\",\"5.00000e+00\",\"4.00000e+00\",\"2.00000e+00\",\"2.00000e+00\",\"2.00000e+00\",\"1.00000e+00\",\"2.00000e+00\",\"6.00000e+00\",\"2.00000e+00\",\"3.00000e+00\",\"NA\",\"NA\",\"NA\",\"1.00000e+00\",\"4.00000e+00\",\"3.00000e+00\",\"4.00000e+00\",\"2.00000e+00\",\"1.00000e+00\",\"4.00000e+00\",\"3.00000e+00\",\"4.00000e+00\",\"2.00000e+00\",\"2.00000e+00\",\"3.00000e+00\",\"6.00000e+00\",\"3.00000e+00\",\"1.00000e+00\",\"NA\",\"NA\",\"2.00000e+00\",\"3.00000e+00\",\"3.00000e+00\",\"3.00000e+00\",\"2.00000e+00\",\"2.00000e+00\",\"3.00000e+00\",\"3.00000e+00\",\"3.00000e+00\",\"3.00000e+00\",\"3.00000e+00\",\"4.00000e+00\",\"NA\",\"2.00000e+00\",\"NA\",\"3.00000e+00\",\"1.00000e+00\",\"NA\",\"2.00000e+00\",\"1.00000e+00\",\"2.00000e+00\",\"2.00000e+00\",\"6.00000e+00\",\"3.00000e+00\",\"3.00000e+00\",\"2.00000e+00\",\"2.00000e+00\",\"NA\",\"2.00000e+00\",\"3.00000e+00\",\"1.00000e+00\",\"3.00000e+00\",\"2.00000e+00\",\"5.00000e+00\",\"3.00000e+00\",\"3.00000e+00\",\"3.00000e+00\",\"3.00000e+00\",\"3.00000e+00\",\"2.00000e+00\",\"2.00000e+00\",\"3.00000e+00\",\"3.00000e+00\",\"NA\",\"6.00000e+00\",\"6.00000e+00\",\"NA\",\"2.00000e+00\",\"2.00000e+00\",\"3.00000e+00\",\"6.00000e+00\",\"3.00000e+00\",\"2.00000e+00\",\"1.00000e+00\",\"3.00000e+00\",\"4.00000e+00\",\"3.00000e+00\",\"6.00000e+00\",\"3.00000e+00\",\"3.00000e+00\",\"2.00000e+00\",\"2.00000e+00\",\"2.00000e+00\",\"3.00000e+00\",\"3.00000e+00\",\"2.00000e+00\",\"4.00000e+00\",\"2.00000e+00\",\"NA\",\"2.00000e+00\",\"2.00000e+00\",\"NA\",\"3.00000e+00\",\"3.00000e+00\",\"2.00000e+00\",\"6.00000e+00\",\"3.00000e+00\",\"3.00000e+00\",\"3.00000e+00\",\"6.00000e+00\",\"3.00000e+00\",\"3.00000e+00\",\"2.00000e+00\",\"3.00000e+00\",\"NA\",\"1.00000e+00\",\"3.00000e+00\",\"6.00000e+00\",\"3.00000e+00\",\"2.00000e+00\",\"3.00000e+00\",\"2.00000e+00\",\"2.00000e+00\",\"6.00000e+00\",\"2.00000e+00\",\"2.00000e+00\",\"1.00000e+00\",\"NA\",\"2.00000e+00\",\"1.00000e+00\",\"3.00000e+00\",\"1.00000e+00\",\"2.00000e+00\",\"6.00000e+00\",\"3.00000e+00\",\"3.00000e+00\",\"4.00000e+00\",\"4.00000e+00\",\"4.00000e+00\",\"3.00000e+00\",\"1.00000e+00\",\"4.00000e+00\",\"3.00000e+00\",\"3.00000e+00\",\"4.00000e+00\",\"3.00000e+00\",\"3.00000e+00\",\"4.00000e+00\",\"5.00000e+00\",\"1.00000e+00\",\"2.00000e+00\",\"6.00000e+00\",\"2.00000e+00\",\"1.00000e+00\",\"3.00000e+00\",\"2.00000e+00\",\"2.00000e+00\",\"2.00000e+00\",\"NA\",\"1.00000e+00\",\"6.00000e+00\",\"3.00000e+00\",\"2.00000e+00\",\"4.00000e+00\",\"3.00000e+00\",\"NA\",\"3.00000e+00\",\"1.00000e+00\",\"3.00000e+00\",\"3.00000e+00\",\"2.00000e+00\",\"2.00000e+00\",\"1.00000e+00\",\"2.00000e+00\",\"3.00000e+00\",\"6.00000e+00\",\"NA\",\"3.00000e+00\",\"NA\",\"2.00000e+00\",\"3.00000e+00\",\"3.00000e+00\",\"NA\",\"5.00000e+00\",\"3.00000e+00\",\"3.00000e+00\",\"3.00000e+00\",\"1.00000e+00\",\"1.00000e+00\",\"4.00000e+00\",\"2.00000e+00\",\"3.00000e+00\",\"3.00000e+00\",\"2.00000e+00\",\"2.00000e+00\",\"1.00000e+00\",\"3.00000e+00\",\"NA\",\"3.00000e+00\",\"5.00000e+00\",\"5.00000e+00\",\"3.00000e+00\",\"6.00000e+00\",\"6.00000e+00\",\"6.00000e+00\",\"3.00000e+00\",\"2.00000e+00\",\"2.00000e+00\",\"1.00000e+00\",\"3.00000e+00\",\"3.00000e+00\",\"2.00000e+00\",\"2.00000e+00\",\"3.00000e+00\",\"4.00000e+00\",\"3.00000e+00\",\"3.00000e+00\",\"3.00000e+00\",\"5.00000e+00\",\"1.00000e+00\",\"4.00000e+00\",\"2.00000e+00\",\"1.00000e+00\",\"3.00000e+00\",\"2.00000e+00\",\"2.00000e+00\",\"3.00000e+00\",\"2.00000e+00\",\"2.00000e+00\",\"3.00000e+00\",\"1.00000e+00\",\"3.00000e+00\",\"1.00000e+00\",\"4.00000e+00\",\"1.00000e+00\",\"3.00000e+00\",\"2.00000e+00\",\"3.00000e+00\",\"3.00000e+00\",\"6.00000e+00\",\"6.00000e+00\",\"3.00000e+00\",\"1.00000e+00\",\"3.00000e+00\",\"1.00000e+00\",\"3.00000e+00\",\"1.00000e+00\",\"1.00000e+00\",\"3.00000e+00\",\"3.00000e+00\",\"1.00000e+00\",\"2.00000e+00\",\"6.00000e+00\",\"6.00000e+00\",\"1.00000e+00\",\"3.00000e+00\",\"2.00000e+00\",\"NA\",\"2.00000e+00\",\"3.00000e+00\",\"NA\",\"3.00000e+00\",\"2.00000e+00\",\"3.00000e+00\",\"4.00000e+00\",\"3.00000e+00\",\"6.00000e+00\",\"2.00000e+00\",\"1.00000e+00\",\"3.00000e+00\",\"6.00000e+00\",\"3.00000e+00\",\"5.00000e+00\",\"3.00000e+00\",\"3.00000e+00\",\"3.00000e+00\",\"NA\",\"3.00000e+00\",\"3.00000e+00\",\"6.00000e+00\",\"3.00000e+00\",\"2.00000e+00\",\"2.00000e+00\",\"3.00000e+00\",\"NA\",\"3.00000e+00\",\"3.00000e+00\",\"2.00000e+00\",\"3.00000e+00\",\"1.00000e+00\",\"5.00000e+00\",\"2.00000e+00\",\"1.00000e+00\",\"2.00000e+00\",\"2.00000e+00\",\"4.00000e+00\",\"3.00000e+00\",\"2.00000e+00\",\"2.00000e+00\",\"3.00000e+00\",\"2.00000e+00\",\"1.00000e+00\",\"3.00000e+00\",\"6.00000e+00\",\"1.00000e+00\",\"1.00000e+00\",\"3.00000e+00\",\"1.00000e+00\",\"3.00000e+00\",\"6.00000e+00\",\"3.00000e+00\",\"6.00000e+00\",\"3.00000e+00\",\"3.00000e+00\",\"1.00000e+00\",\"6.00000e+00\",\"2.00000e+00\",\"3.00000e+00\",\"3.00000e+00\",\"3.00000e+00\",\"NA\",\"3.00000e+00\",\"3.00000e+00\",\"5.00000e+00\",\"3.00000e+00\",\"3.00000e+00\",\"3.00000e+00\",\"1.00000e+00\",\"3.00000e+00\",\"6.00000e+00\",\"3.00000e+00\",\"2.00000e+00\",\"3.00000e+00\",\"3.00000e+00\",\"3.00000e+00\",\"3.00000e+00\",\"1.00000e+00\",\"NA\",\"2.00000e+00\",\"2.00000e+00\",\"3.00000e+00\",\"3.00000e+00\",\"6.00000e+00\",\"NA\",\"NA\",\"1.00000e+00\",\"3.00000e+00\",\"3.00000e+00\",\"5.00000e+00\",\"5.00000e+00\",\"3.00000e+00\",\"1.00000e+00\",\"3.00000e+00\",\"NA\",\"NA\",\"6.00000e+00\",\"3.00000e+00\",\"NA\",\"NA\",\"3.00000e+00\",\"2.00000e+00\",\"3.00000e+00\"],\"x\":{\"__ndarray__\":\"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\",\"dtype\":\"float64\",\"shape\":[403]},\"y\":{\"__ndarray__\":\"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\",\"dtype\":\"float64\",\"shape\":[403]}},\"selected\":{\"id\":\"1311\",\"type\":\"Selection\"},\"selection_policy\":{\"id\":\"1312\",\"type\":\"UnionRenderers\"}},\"id\":\"1235\",\"type\":\"ColumnDataSource\"},{\"attributes\":{\"fill_color\":{\"field\":\"label\",\"transform\":{\"id\":\"1236\",\"type\":\"CategoricalColorMapper\"}},\"line_color\":{\"field\":\"label\",\"transform\":{\"id\":\"1236\",\"type\":\"CategoricalColorMapper\"}},\"x\":{\"field\":\"x\"},\"y\":{\"field\":\"y\"}},\"id\":\"1258\",\"type\":\"Circle\"},{\"attributes\":{\"column_name\":\"label\",\"group\":\"5.00000e+00\"},\"id\":\"1261\",\"type\":\"GroupFilter\"},{\"attributes\":{\"data_source\":{\"id\":\"1235\",\"type\":\"ColumnDataSource\"},\"glyph\":{\"id\":\"1258\",\"type\":\"Circle\"},\"hover_glyph\":null,\"muted_glyph\":null,\"nonselection_glyph\":{\"id\":\"1259\",\"type\":\"Circle\"},\"selection_glyph\":null,\"view\":{\"id\":\"1256\",\"type\":\"CDSView\"}},\"id\":\"1260\",\"type\":\"GlyphRenderer\"},{\"attributes\":{\"data_source\":{\"id\":\"1235\",\"type\":\"ColumnDataSource\"},\"glyph\":{\"id\":\"1276\",\"type\":\"Circle\"},\"hover_glyph\":null,\"muted_glyph\":null,\"nonselection_glyph\":{\"id\":\"1277\",\"type\":\"Circle\"},\"selection_glyph\":null,\"view\":{\"id\":\"1274\",\"type\":\"CDSView\"}},\"id\":\"1278\",\"type\":\"GlyphRenderer\"},{\"attributes\":{},\"id\":\"1208\",\"type\":\"LinearScale\"},{\"attributes\":{\"label\":{\"value\":\"NA\"},\"renderers\":[{\"id\":\"1278\",\"type\":\"GlyphRenderer\"}]},\"id\":\"1285\",\"type\":\"LegendItem\"},{\"attributes\":{\"column_name\":\"label\",\"group\":\"1.00000e+00\"},\"id\":\"1237\",\"type\":\"GroupFilter\"},{\"attributes\":{\"filters\":[{\"id\":\"1243\",\"type\":\"GroupFilter\"}],\"source\":{\"id\":\"1235\",\"type\":\"ColumnDataSource\"}},\"id\":\"1244\",\"type\":\"CDSView\"},{\"attributes\":{},\"id\":\"1307\",\"type\":\"BasicTickFormatter\"},{\"attributes\":{},\"id\":\"1223\",\"type\":\"SaveTool\"},{\"attributes\":{\"filters\":[{\"id\":\"1255\",\"type\":\"GroupFilter\"}],\"source\":{\"id\":\"1235\",\"type\":\"ColumnDataSource\"}},\"id\":\"1256\",\"type\":\"CDSView\"},{\"attributes\":{},\"id\":\"1211\",\"type\":\"BasicTicker\"},{\"attributes\":{\"label\":{\"value\":\"3.00000e+00\"},\"renderers\":[{\"id\":\"1254\",\"type\":\"GlyphRenderer\"}]},\"id\":\"1281\",\"type\":\"LegendItem\"},{\"attributes\":{\"callback\":null,\"tooltips\":[[\"x\",\"@x\"],[\"y\",\"@y\"],[\"label\",\"@label\"]]},\"id\":\"1234\",\"type\":\"HoverTool\"},{\"attributes\":{\"data_source\":{\"id\":\"1235\",\"type\":\"ColumnDataSource\"},\"glyph\":{\"id\":\"1270\",\"type\":\"Circle\"},\"hover_glyph\":null,\"muted_glyph\":null,\"nonselection_glyph\":{\"id\":\"1271\",\"type\":\"Circle\"},\"selection_glyph\":null,\"view\":{\"id\":\"1268\",\"type\":\"CDSView\"}},\"id\":\"1272\",\"type\":\"GlyphRenderer\"},{\"attributes\":{\"fill_color\":{\"field\":\"label\",\"transform\":{\"id\":\"1236\",\"type\":\"CategoricalColorMapper\"}},\"line_color\":{\"field\":\"label\",\"transform\":{\"id\":\"1236\",\"type\":\"CategoricalColorMapper\"}},\"x\":{\"field\":\"x\"},\"y\":{\"field\":\"y\"}},\"id\":\"1240\",\"type\":\"Circle\"},{\"attributes\":{\"callback\":null},\"id\":\"1202\",\"type\":\"DataRange1d\"},{\"attributes\":{\"factors\":[\"3.00000e+00\",\"6.00000e+00\",\"5.00000e+00\",\"4.00000e+00\",\"2.00000e+00\",\"1.00000e+00\",\"NA\"],\"palette\":[\"#1f77b4\",\"#ff7f0e\",\"#2ca02c\",\"#d62728\",\"#9467bd\",\"#8c564b\",\"#e377c2\",\"#7f7f7f\",\"#bcbd22\",\"#17becf\"]},\"id\":\"1236\",\"type\":\"CategoricalColorMapper\"},{\"attributes\":{\"column_name\":\"label\",\"group\":\"6.00000e+00\"},\"id\":\"1267\",\"type\":\"GroupFilter\"},{\"attributes\":{\"fill_alpha\":{\"value\":0.1},\"fill_color\":{\"value\":\"#1f77b4\"},\"line_alpha\":{\"value\":0.1},\"line_color\":{\"value\":\"#1f77b4\"},\"x\":{\"field\":\"x\"},\"y\":{\"field\":\"y\"}},\"id\":\"1259\",\"type\":\"Circle\"},{\"attributes\":{},\"id\":\"1220\",\"type\":\"PanTool\"},{\"attributes\":{},\"id\":\"1309\",\"type\":\"BasicTickFormatter\"},{\"attributes\":{\"column_name\":\"label\",\"group\":\"NA\"},\"id\":\"1273\",\"type\":\"GroupFilter\"},{\"attributes\":{\"fill_color\":{\"field\":\"label\",\"transform\":{\"id\":\"1236\",\"type\":\"CategoricalColorMapper\"}},\"line_color\":{\"field\":\"label\",\"transform\":{\"id\":\"1236\",\"type\":\"CategoricalColorMapper\"}},\"x\":{\"field\":\"x\"},\"y\":{\"field\":\"y\"}},\"id\":\"1246\",\"type\":\"Circle\"},{\"attributes\":{\"filters\":[{\"id\":\"1249\",\"type\":\"GroupFilter\"}],\"source\":{\"id\":\"1235\",\"type\":\"ColumnDataSource\"}},\"id\":\"1250\",\"type\":\"CDSView\"},{\"attributes\":{\"fill_alpha\":{\"value\":0.1},\"fill_color\":{\"value\":\"#1f77b4\"},\"line_alpha\":{\"value\":0.1},\"line_color\":{\"value\":\"#1f77b4\"},\"x\":{\"field\":\"x\"},\"y\":{\"field\":\"y\"}},\"id\":\"1253\",\"type\":\"Circle\"},{\"attributes\":{\"label\":{\"value\":\"5.00000e+00\"},\"renderers\":[{\"id\":\"1266\",\"type\":\"GlyphRenderer\"}]},\"id\":\"1283\",\"type\":\"LegendItem\"},{\"attributes\":{\"axis_label\":\"PC2\",\"formatter\":{\"id\":\"1305\",\"type\":\"BasicTickFormatter\"},\"ticker\":{\"id\":\"1216\",\"type\":\"BasicTicker\"}},\"id\":\"1215\",\"type\":\"LinearAxis\"},{\"attributes\":{\"filters\":[{\"id\":\"1261\",\"type\":\"GroupFilter\"}],\"source\":{\"id\":\"1235\",\"type\":\"ColumnDataSource\"}},\"id\":\"1262\",\"type\":\"CDSView\"},{\"attributes\":{\"column_name\":\"label\",\"group\":\"2.00000e+00\"},\"id\":\"1243\",\"type\":\"GroupFilter\"},{\"attributes\":{\"column_name\":\"label\",\"group\":\"4.00000e+00\"},\"id\":\"1255\",\"type\":\"GroupFilter\"},{\"attributes\":{\"fill_alpha\":{\"value\":0.1},\"fill_color\":{\"value\":\"#1f77b4\"},\"line_alpha\":{\"value\":0.1},\"line_color\":{\"value\":\"#1f77b4\"},\"x\":{\"field\":\"x\"},\"y\":{\"field\":\"y\"}},\"id\":\"1265\",\"type\":\"Circle\"},{\"attributes\":{},\"id\":\"1216\",\"type\":\"BasicTicker\"},{\"attributes\":{\"label\":{\"value\":\"1.00000e+00\"},\"renderers\":[{\"id\":\"1242\",\"type\":\"GlyphRenderer\"}]},\"id\":\"1279\",\"type\":\"LegendItem\"},{\"attributes\":{\"fill_alpha\":{\"value\":0.1},\"fill_color\":{\"value\":\"#1f77b4\"},\"line_alpha\":{\"value\":0.1},\"line_color\":{\"value\":\"#1f77b4\"},\"x\":{\"field\":\"x\"},\"y\":{\"field\":\"y\"}},\"id\":\"1241\",\"type\":\"Circle\"},{\"attributes\":{\"fill_alpha\":{\"value\":0.1},\"fill_color\":{\"value\":\"#1f77b4\"},\"line_alpha\":{\"value\":0.1},\"line_color\":{\"value\":\"#1f77b4\"},\"x\":{\"field\":\"x\"},\"y\":{\"field\":\"y\"}},\"id\":\"1247\",\"type\":\"Circle\"},{\"attributes\":{\"filters\":[{\"id\":\"1273\",\"type\":\"GroupFilter\"}],\"source\":{\"id\":\"1235\",\"type\":\"ColumnDataSource\"}},\"id\":\"1274\",\"type\":\"CDSView\"},{\"attributes\":{\"overlay\":{\"id\":\"1313\",\"type\":\"BoxAnnotation\"}},\"id\":\"1222\",\"type\":\"BoxZoomTool\"},{\"attributes\":{\"click_policy\":\"hide\",\"items\":[{\"id\":\"1279\",\"type\":\"LegendItem\"},{\"id\":\"1280\",\"type\":\"LegendItem\"},{\"id\":\"1281\",\"type\":\"LegendItem\"},{\"id\":\"1282\",\"type\":\"LegendItem\"},{\"id\":\"1283\",\"type\":\"LegendItem\"},{\"id\":\"1284\",\"type\":\"LegendItem\"},{\"id\":\"1285\",\"type\":\"LegendItem\"}]},\"id\":\"1286\",\"type\":\"Legend\"},{\"attributes\":{\"label\":{\"value\":\"4.00000e+00\"},\"renderers\":[{\"id\":\"1260\",\"type\":\"GlyphRenderer\"}]},\"id\":\"1282\",\"type\":\"LegendItem\"},{\"attributes\":{},\"id\":\"1308\",\"type\":\"BasicTicker\"},{\"attributes\":{\"color_mapper\":null,\"formatter\":{\"id\":\"1307\",\"type\":\"BasicTickFormatter\"},\"ticker\":{\"id\":\"1308\",\"type\":\"BasicTicker\"},\"visible\":false},\"id\":\"1287\",\"type\":\"ColorBar\"},{\"attributes\":{\"dimension\":1,\"ticker\":{\"id\":\"1216\",\"type\":\"BasicTicker\"}},\"id\":\"1219\",\"type\":\"Grid\"},{\"attributes\":{\"active_drag\":\"auto\",\"active_inspect\":\"auto\",\"active_multi\":null,\"active_scroll\":\"auto\",\"active_tap\":\"auto\",\"tools\":[{\"id\":\"1220\",\"type\":\"PanTool\"},{\"id\":\"1221\",\"type\":\"WheelZoomTool\"},{\"id\":\"1222\",\"type\":\"BoxZoomTool\"},{\"id\":\"1223\",\"type\":\"SaveTool\"},{\"id\":\"1224\",\"type\":\"ResetTool\"},{\"id\":\"1225\",\"type\":\"HelpTool\"},{\"id\":\"1234\",\"type\":\"HoverTool\"}]},\"id\":\"1226\",\"type\":\"Toolbar\"},{\"attributes\":{\"fill_color\":{\"field\":\"label\",\"transform\":{\"id\":\"1236\",\"type\":\"CategoricalColorMapper\"}},\"line_color\":{\"field\":\"label\",\"transform\":{\"id\":\"1236\",\"type\":\"CategoricalColorMapper\"}},\"x\":{\"field\":\"x\"},\"y\":{\"field\":\"y\"}},\"id\":\"1270\",\"type\":\"Circle\"},{\"attributes\":{},\"id\":\"1311\",\"type\":\"Selection\"},{\"attributes\":{\"text\":\"PCA\"},\"id\":\"1200\",\"type\":\"Title\"},{\"attributes\":{},\"id\":\"1305\",\"type\":\"BasicTickFormatter\"},{\"attributes\":{},\"id\":\"1221\",\"type\":\"WheelZoomTool\"},{\"attributes\":{},\"id\":\"1224\",\"type\":\"ResetTool\"},{\"attributes\":{},\"id\":\"1312\",\"type\":\"UnionRenderers\"},{\"attributes\":{\"column_name\":\"label\",\"group\":\"3.00000e+00\"},\"id\":\"1249\",\"type\":\"GroupFilter\"},{\"attributes\":{\"filters\":[{\"id\":\"1237\",\"type\":\"GroupFilter\"}],\"source\":{\"id\":\"1235\",\"type\":\"ColumnDataSource\"}},\"id\":\"1238\",\"type\":\"CDSView\"},{\"attributes\":{\"fill_color\":{\"field\":\"label\",\"transform\":{\"id\":\"1236\",\"type\":\"CategoricalColorMapper\"}},\"line_color\":{\"field\":\"label\",\"transform\":{\"id\":\"1236\",\"type\":\"CategoricalColorMapper\"}},\"x\":{\"field\":\"x\"},\"y\":{\"field\":\"y\"}},\"id\":\"1276\",\"type\":\"Circle\"},{\"attributes\":{\"data_source\":{\"id\":\"1235\",\"type\":\"ColumnDataSource\"},\"glyph\":{\"id\":\"1264\",\"type\":\"Circle\"},\"hover_glyph\":null,\"muted_glyph\":null,\"nonselection_glyph\":{\"id\":\"1265\",\"type\":\"Circle\"},\"selection_glyph\":null,\"view\":{\"id\":\"1262\",\"type\":\"CDSView\"}},\"id\":\"1266\",\"type\":\"GlyphRenderer\"},{\"attributes\":{\"fill_alpha\":{\"value\":0.1},\"fill_color\":{\"value\":\"#1f77b4\"},\"line_alpha\":{\"value\":0.1},\"line_color\":{\"value\":\"#1f77b4\"},\"x\":{\"field\":\"x\"},\"y\":{\"field\":\"y\"}},\"id\":\"1271\",\"type\":\"Circle\"},{\"attributes\":{\"label\":{\"value\":\"6.00000e+00\"},\"renderers\":[{\"id\":\"1272\",\"type\":\"GlyphRenderer\"}]},\"id\":\"1284\",\"type\":\"LegendItem\"},{\"attributes\":{\"data_source\":{\"id\":\"1235\",\"type\":\"ColumnDataSource\"},\"glyph\":{\"id\":\"1246\",\"type\":\"Circle\"},\"hover_glyph\":null,\"muted_glyph\":null,\"nonselection_glyph\":{\"id\":\"1247\",\"type\":\"Circle\"},\"selection_glyph\":null,\"view\":{\"id\":\"1244\",\"type\":\"CDSView\"}},\"id\":\"1248\",\"type\":\"GlyphRenderer\"},{\"attributes\":{\"data_source\":{\"id\":\"1235\",\"type\":\"ColumnDataSource\"},\"glyph\":{\"id\":\"1240\",\"type\":\"Circle\"},\"hover_glyph\":null,\"muted_glyph\":null,\"nonselection_glyph\":{\"id\":\"1241\",\"type\":\"Circle\"},\"selection_glyph\":null,\"view\":{\"id\":\"1238\",\"type\":\"CDSView\"}},\"id\":\"1242\",\"type\":\"GlyphRenderer\"},{\"attributes\":{\"fill_color\":{\"field\":\"label\",\"transform\":{\"id\":\"1236\",\"type\":\"CategoricalColorMapper\"}},\"line_color\":{\"field\":\"label\",\"transform\":{\"id\":\"1236\",\"type\":\"CategoricalColorMapper\"}},\"x\":{\"field\":\"x\"},\"y\":{\"field\":\"y\"}},\"id\":\"1264\",\"type\":\"Circle\"},{\"attributes\":{\"filters\":[{\"id\":\"1267\",\"type\":\"GroupFilter\"}],\"source\":{\"id\":\"1235\",\"type\":\"ColumnDataSource\"}},\"id\":\"1268\",\"type\":\"CDSView\"},{\"attributes\":{\"axis_label\":\"PC1\",\"formatter\":{\"id\":\"1309\",\"type\":\"BasicTickFormatter\"},\"ticker\":{\"id\":\"1211\",\"type\":\"BasicTicker\"}},\"id\":\"1210\",\"type\":\"LinearAxis\"},{\"attributes\":{\"bottom_units\":\"screen\",\"fill_alpha\":{\"value\":0.5},\"fill_color\":{\"value\":\"lightgrey\"},\"left_units\":\"screen\",\"level\":\"overlay\",\"line_alpha\":{\"value\":1.0},\"line_color\":{\"value\":\"black\"},\"line_dash\":[4,4],\"line_width\":{\"value\":2},\"render_mode\":\"css\",\"right_units\":\"screen\",\"top_units\":\"screen\"},\"id\":\"1313\",\"type\":\"BoxAnnotation\"},{\"attributes\":{\"ticker\":{\"id\":\"1211\",\"type\":\"BasicTicker\"}},\"id\":\"1214\",\"type\":\"Grid\"},{\"attributes\":{\"data_source\":{\"id\":\"1235\",\"type\":\"ColumnDataSource\"},\"glyph\":{\"id\":\"1252\",\"type\":\"Circle\"},\"hover_glyph\":null,\"muted_glyph\":null,\"nonselection_glyph\":{\"id\":\"1253\",\"type\":\"Circle\"},\"selection_glyph\":null,\"view\":{\"id\":\"1250\",\"type\":\"CDSView\"}},\"id\":\"1254\",\"type\":\"GlyphRenderer\"}],\"root_ids\":[\"1199\"]},\"title\":\"Bokeh Application\",\"version\":\"1.2.0\"}};\n",
       "  var render_items = [{\"docid\":\"925a37fe-7e36-4701-b954-06bbfc05b91d\",\"roots\":{\"1199\":\"fd6f0cec-c791-480d-877d-5b0d0139a635\"}}];\n",
       "  root.Bokeh.embed.embed_items_notebook(docs_json, render_items);\n",
       "\n",
       "  }\n",
       "  if (root.Bokeh !== undefined) {\n",
       "    embed_document(root);\n",
       "  } else {\n",
       "    var attempts = 0;\n",
       "    var timer = setInterval(function(root) {\n",
       "      if (root.Bokeh !== undefined) {\n",
       "        embed_document(root);\n",
       "        clearInterval(timer);\n",
       "      }\n",
       "      attempts++;\n",
       "      if (attempts > 100) {\n",
       "        console.log(\"Bokeh: ERROR: Unable to run BokehJS code because BokehJS library is missing\");\n",
       "        clearInterval(timer);\n",
       "      }\n",
       "    }, 10, root)\n",
       "  }\n",
       "})(window);"
      ],
      "application/vnd.bokehjs_exec.v0+json": ""
     },
     "metadata": {
      "application/vnd.bokehjs_exec.v0+json": {
       "id": "1199"
      }
     },
     "output_type": "display_data"
    }
   ],
   "source": [
    "p = hl.plot.scatter(pruned_mt.scores[0],\n",
    "                    pruned_mt.scores[1],\n",
    "                    label=hl.str(pruned_mt.birthplace),\n",
    "                    title='PCA', xlabel='PC1', ylabel='PC2')\n",
    "p.plot_width = 800\n",
    "p.plot_height = 600\n",
    "show(p)"
   ]
  },
  {
   "cell_type": "markdown",
   "metadata": {},
   "source": [
    "## Filter outliers\n",
    "\n",
    "In the PCA plot above, it seems we have a few outliers. These individuals may have non-Faroese ancestry, whether they are part Faroese or not, or they may be very closely related. Either way, they prevent us from detecting possible population structure in the data.\n",
    "\n",
    "As we see in the plot above, both PC 1 and 2 describe the variation between these outliers and the rest of the samples. So if we remove these outlier individuals, we may be able to detect population structure."
   ]
  },
  {
   "cell_type": "code",
   "execution_count": 27,
   "metadata": {},
   "outputs": [],
   "source": [
    "no_outerliers_mt = pruned_mt.filter_cols(pruned_mt.scores[1] < 0.4)"
   ]
  },
  {
   "cell_type": "markdown",
   "metadata": {},
   "source": [
    "Now we just do the PCA again, and see if PC 1 and 2 show signs of population structure."
   ]
  },
  {
   "cell_type": "code",
   "execution_count": 28,
   "metadata": {},
   "outputs": [
    {
     "name": "stderr",
     "output_type": "stream",
     "text": [
      "2021-05-26 13:50:07 Hail: INFO: Coerced sorted dataset\n",
      "2021-05-26 13:50:07 Hail: INFO: Ordering unsorted dataset with network shuffle\n",
      "2021-05-26 13:50:08 Hail: INFO: hwe_normalized_pca: running PCA using 39986 variants.\n",
      "2021-05-26 13:50:09 Hail: INFO: Coerced sorted dataset\n",
      "2021-05-26 13:50:09 Hail: INFO: Ordering unsorted dataset with network shuffle\n",
      "2021-05-26 13:50:12 Hail: INFO: pca: running PCA with 2 components...\n"
     ]
    }
   ],
   "source": [
    "eigenvalues, scores, loadings = hl.hwe_normalized_pca(no_outerliers_mt.GT, k=2)"
   ]
  },
  {
   "cell_type": "code",
   "execution_count": 29,
   "metadata": {},
   "outputs": [],
   "source": [
    "no_outerliers_mt = no_outerliers_mt.annotate_cols(scores = scores[no_outerliers_mt.s].scores)"
   ]
  },
  {
   "cell_type": "code",
   "execution_count": 30,
   "metadata": {},
   "outputs": [
    {
     "name": "stderr",
     "output_type": "stream",
     "text": [
      "2021-05-26 13:50:21 Hail: INFO: Ordering unsorted dataset with network shuffle\n",
      "2021-05-26 13:50:21 Hail: INFO: Ordering unsorted dataset with network shuffle\n",
      "2021-05-26 13:50:22 Hail: INFO: Coerced sorted dataset\n",
      "2021-05-26 13:50:22 Hail: INFO: Ordering unsorted dataset with network shuffle\n"
     ]
    },
    {
     "data": {
      "text/html": [
       "\n",
       "\n",
       "\n",
       "\n",
       "\n",
       "\n",
       "  <div class=\"bk-root\" id=\"0d8475d2-f3c9-435d-bbb6-aa3c69032a6c\" data-root-id=\"1374\"></div>\n"
      ]
     },
     "metadata": {},
     "output_type": "display_data"
    },
    {
     "data": {
      "application/javascript": [
       "(function(root) {\n",
       "  function embed_document(root) {\n",
       "    \n",
       "  var docs_json = {\"24465f5b-94a2-43ee-b3e1-ead8dfb0ec26\":{\"roots\":{\"references\":[{\"attributes\":{\"below\":[{\"id\":\"1385\",\"type\":\"LinearAxis\"}],\"center\":[{\"id\":\"1389\",\"type\":\"Grid\"},{\"id\":\"1394\",\"type\":\"Grid\"}],\"left\":[{\"id\":\"1390\",\"type\":\"LinearAxis\"},{\"id\":\"1461\",\"type\":\"Legend\"},{\"id\":\"1462\",\"type\":\"ColorBar\"}],\"plot_height\":600,\"plot_width\":800,\"renderers\":[{\"id\":\"1417\",\"type\":\"GlyphRenderer\"},{\"id\":\"1423\",\"type\":\"GlyphRenderer\"},{\"id\":\"1429\",\"type\":\"GlyphRenderer\"},{\"id\":\"1435\",\"type\":\"GlyphRenderer\"},{\"id\":\"1441\",\"type\":\"GlyphRenderer\"},{\"id\":\"1447\",\"type\":\"GlyphRenderer\"},{\"id\":\"1453\",\"type\":\"GlyphRenderer\"}],\"title\":{\"id\":\"1375\",\"type\":\"Title\"},\"toolbar\":{\"id\":\"1401\",\"type\":\"Toolbar\"},\"x_range\":{\"id\":\"1377\",\"type\":\"DataRange1d\"},\"x_scale\":{\"id\":\"1381\",\"type\":\"LinearScale\"},\"y_range\":{\"id\":\"1379\",\"type\":\"DataRange1d\"},\"y_scale\":{\"id\":\"1383\",\"type\":\"LinearScale\"}},\"id\":\"1374\",\"subtype\":\"Figure\",\"type\":\"Plot\"},{\"attributes\":{\"filters\":[{\"id\":\"1424\",\"type\":\"GroupFilter\"}],\"source\":{\"id\":\"1410\",\"type\":\"ColumnDataSource\"}},\"id\":\"1425\",\"type\":\"CDSView\"},{\"attributes\":{},\"id\":\"1400\",\"type\":\"HelpTool\"},{\"attributes\":{\"column_name\":\"label\",\"group\":\"NA\"},\"id\":\"1448\",\"type\":\"GroupFilter\"},{\"attributes\":{\"fill_alpha\":{\"value\":0.1},\"fill_color\":{\"value\":\"#1f77b4\"},\"line_alpha\":{\"value\":0.1},\"line_color\":{\"value\":\"#1f77b4\"},\"x\":{\"field\":\"x\"},\"y\":{\"field\":\"y\"}},\"id\":\"1422\",\"type\":\"Circle\"},{\"attributes\":{\"dimension\":1,\"ticker\":{\"id\":\"1391\",\"type\":\"BasicTicker\"}},\"id\":\"1394\",\"type\":\"Grid\"},{\"attributes\":{\"text\":\"PCA\"},\"id\":\"1375\",\"type\":\"Title\"},{\"attributes\":{\"data_source\":{\"id\":\"1410\",\"type\":\"ColumnDataSource\"},\"glyph\":{\"id\":\"1451\",\"type\":\"Circle\"},\"hover_glyph\":null,\"muted_glyph\":null,\"nonselection_glyph\":{\"id\":\"1452\",\"type\":\"Circle\"},\"selection_glyph\":null,\"view\":{\"id\":\"1449\",\"type\":\"CDSView\"}},\"id\":\"1453\",\"type\":\"GlyphRenderer\"},{\"attributes\":{\"fill_alpha\":{\"value\":0.1},\"fill_color\":{\"value\":\"#1f77b4\"},\"line_alpha\":{\"value\":0.1},\"line_color\":{\"value\":\"#1f77b4\"},\"x\":{\"field\":\"x\"},\"y\":{\"field\":\"y\"}},\"id\":\"1452\",\"type\":\"Circle\"},{\"attributes\":{},\"id\":\"1493\",\"type\":\"BasicTicker\"},{\"attributes\":{\"fill_color\":{\"field\":\"label\",\"transform\":{\"id\":\"1411\",\"type\":\"CategoricalColorMapper\"}},\"line_color\":{\"field\":\"label\",\"transform\":{\"id\":\"1411\",\"type\":\"CategoricalColorMapper\"}},\"x\":{\"field\":\"x\"},\"y\":{\"field\":\"y\"}},\"id\":\"1415\",\"type\":\"Circle\"},{\"attributes\":{\"bottom_units\":\"screen\",\"fill_alpha\":{\"value\":0.5},\"fill_color\":{\"value\":\"lightgrey\"},\"left_units\":\"screen\",\"level\":\"overlay\",\"line_alpha\":{\"value\":1.0},\"line_color\":{\"value\":\"black\"},\"line_dash\":[4,4],\"line_width\":{\"value\":2},\"render_mode\":\"css\",\"right_units\":\"screen\",\"top_units\":\"screen\"},\"id\":\"1498\",\"type\":\"BoxAnnotation\"},{\"attributes\":{\"data_source\":{\"id\":\"1410\",\"type\":\"ColumnDataSource\"},\"glyph\":{\"id\":\"1415\",\"type\":\"Circle\"},\"hover_glyph\":null,\"muted_glyph\":null,\"nonselection_glyph\":{\"id\":\"1416\",\"type\":\"Circle\"},\"selection_glyph\":null,\"view\":{\"id\":\"1413\",\"type\":\"CDSView\"}},\"id\":\"1417\",\"type\":\"GlyphRenderer\"},{\"attributes\":{\"fill_color\":{\"field\":\"label\",\"transform\":{\"id\":\"1411\",\"type\":\"CategoricalColorMapper\"}},\"line_color\":{\"field\":\"label\",\"transform\":{\"id\":\"1411\",\"type\":\"CategoricalColorMapper\"}},\"x\":{\"field\":\"x\"},\"y\":{\"field\":\"y\"}},\"id\":\"1427\",\"type\":\"Circle\"},{\"attributes\":{\"fill_color\":{\"field\":\"label\",\"transform\":{\"id\":\"1411\",\"type\":\"CategoricalColorMapper\"}},\"line_color\":{\"field\":\"label\",\"transform\":{\"id\":\"1411\",\"type\":\"CategoricalColorMapper\"}},\"x\":{\"field\":\"x\"},\"y\":{\"field\":\"y\"}},\"id\":\"1439\",\"type\":\"Circle\"},{\"attributes\":{},\"id\":\"1383\",\"type\":\"LinearScale\"},{\"attributes\":{\"fill_color\":{\"field\":\"label\",\"transform\":{\"id\":\"1411\",\"type\":\"CategoricalColorMapper\"}},\"line_color\":{\"field\":\"label\",\"transform\":{\"id\":\"1411\",\"type\":\"CategoricalColorMapper\"}},\"x\":{\"field\":\"x\"},\"y\":{\"field\":\"y\"}},\"id\":\"1421\",\"type\":\"Circle\"},{\"attributes\":{\"label\":{\"value\":\"NA\"},\"renderers\":[{\"id\":\"1453\",\"type\":\"GlyphRenderer\"}]},\"id\":\"1460\",\"type\":\"LegendItem\"},{\"attributes\":{\"fill_alpha\":{\"value\":0.1},\"fill_color\":{\"value\":\"#1f77b4\"},\"line_alpha\":{\"value\":0.1},\"line_color\":{\"value\":\"#1f77b4\"},\"x\":{\"field\":\"x\"},\"y\":{\"field\":\"y\"}},\"id\":\"1440\",\"type\":\"Circle\"},{\"attributes\":{},\"id\":\"1386\",\"type\":\"BasicTicker\"},{\"attributes\":{\"column_name\":\"label\",\"group\":\"3.00000e+00\"},\"id\":\"1424\",\"type\":\"GroupFilter\"},{\"attributes\":{},\"id\":\"1381\",\"type\":\"LinearScale\"},{\"attributes\":{\"filters\":[{\"id\":\"1436\",\"type\":\"GroupFilter\"}],\"source\":{\"id\":\"1410\",\"type\":\"ColumnDataSource\"}},\"id\":\"1437\",\"type\":\"CDSView\"},{\"attributes\":{\"filters\":[{\"id\":\"1442\",\"type\":\"GroupFilter\"}],\"source\":{\"id\":\"1410\",\"type\":\"ColumnDataSource\"}},\"id\":\"1443\",\"type\":\"CDSView\"},{\"attributes\":{\"data_source\":{\"id\":\"1410\",\"type\":\"ColumnDataSource\"},\"glyph\":{\"id\":\"1439\",\"type\":\"Circle\"},\"hover_glyph\":null,\"muted_glyph\":null,\"nonselection_glyph\":{\"id\":\"1440\",\"type\":\"Circle\"},\"selection_glyph\":null,\"view\":{\"id\":\"1437\",\"type\":\"CDSView\"}},\"id\":\"1441\",\"type\":\"GlyphRenderer\"},{\"attributes\":{\"callback\":null,\"data\":{\"index\":[0,1,2,3,4,5,6,7,8,9,10,11,12,13,14,15,16,17,18,19,20,21,22,23,24,25,26,27,28,29,30,31,32,33,34,35,36,37,38,39,40,41,42,43,44,45,46,47,48,49,50,51,52,53,54,55,56,57,58,59,60,61,62,63,64,65,66,67,68,69,70,71,72,73,74,75,76,77,78,79,80,81,82,83,84,85,86,87,88,89,90,91,92,93,94,95,96,97,98,99,100,101,102,103,104,105,106,107,108,109,110,111,112,113,114,115,116,117,118,119,120,121,122,123,124,125,126,127,128,129,130,131,132,133,134,135,136,137,138,139,140,141,142,143,144,145,146,147,148,149,150,151,152,153,154,155,156,157,158,159,160,161,162,163,164,165,166,167,168,169,170,171,172,173,174,175,176,177,178,179,180,181,182,183,184,185,186,187,188,189,190,191,192,193,194,195,196,197,198,199,200,201,202,203,204,205,206,207,208,209,210,211,212,213,214,215,216,217,218,219,220,221,222,223,224,225,226,227,228,229,230,231,232,233,234,235,236,237,238,239,240,241,242,243,244,245,246,247,248,249,250,251,252,253,254,255,256,257,258,259,260,261,262,263,264,265,266,267,268,269,270,271,272,273,274,275,276,277,278,279,280,281,282,283,284,285,286,287,288,289,290,291,292,293,294,295,296,297,298,299,300,301,302,303,304,305,306,307,308,309,310,311,312,313,314,315,316,317,318,319,320,321,322,323,324,325,326,327,328,329,330,331,332,333,334,335,336,337,338,339,340,341,342,343,344,345,346,347,348,349,350,351,352,353,354,355,356,357,358,359,360,361,362,363,364,365,366,367,368,369,370,371,372,373,374,375,376,377,378,379,380,381,382,383,384,385,386,387,388,389,390,391,392,393,394,395,396,397,398,399,400,401,402,403,404,405,406,407,408,409,410,411],\"label\":[\"1.00000e+00\",\"1.00000e+00\",\"NA\",\"2.00000e+00\",\"4.00000e+00\",\"4.00000e+00\",\"1.00000e+00\",\"4.00000e+00\",\"3.00000e+00\",\"1.00000e+00\",\"6.00000e+00\",\"1.00000e+00\",\"3.00000e+00\",\"3.00000e+00\",\"4.00000e+00\",\"3.00000e+00\",\"1.00000e+00\",\"1.00000e+00\",\"3.00000e+00\",\"3.00000e+00\",\"NA\",\"4.00000e+00\",\"3.00000e+00\",\"2.00000e+00\",\"NA\",\"5.00000e+00\",\"4.00000e+00\",\"2.00000e+00\",\"3.00000e+00\",\"3.00000e+00\",\"6.00000e+00\",\"5.00000e+00\",\"3.00000e+00\",\"3.00000e+00\",\"1.00000e+00\",\"3.00000e+00\",\"4.00000e+00\",\"2.00000e+00\",\"5.00000e+00\",\"1.00000e+00\",\"2.00000e+00\",\"NA\",\"1.00000e+00\",\"3.00000e+00\",\"1.00000e+00\",\"2.00000e+00\",\"2.00000e+00\",\"3.00000e+00\",\"4.00000e+00\",\"6.00000e+00\",\"NA\",\"1.00000e+00\",\"3.00000e+00\",\"2.00000e+00\",\"3.00000e+00\",\"3.00000e+00\",\"NA\",\"3.00000e+00\",\"2.00000e+00\",\"4.00000e+00\",\"2.00000e+00\",\"NA\",\"2.00000e+00\",\"2.00000e+00\",\"1.00000e+00\",\"3.00000e+00\",\"2.00000e+00\",\"3.00000e+00\",\"3.00000e+00\",\"2.00000e+00\",\"2.00000e+00\",\"NA\",\"2.00000e+00\",\"3.00000e+00\",\"3.00000e+00\",\"NA\",\"1.00000e+00\",\"1.00000e+00\",\"3.00000e+00\",\"4.00000e+00\",\"2.00000e+00\",\"3.00000e+00\",\"3.00000e+00\",\"2.00000e+00\",\"3.00000e+00\",\"NA\",\"2.00000e+00\",\"NA\",\"2.00000e+00\",\"3.00000e+00\",\"3.00000e+00\",\"4.00000e+00\",\"NA\",\"6.00000e+00\",\"1.00000e+00\",\"2.00000e+00\",\"2.00000e+00\",\"3.00000e+00\",\"6.00000e+00\",\"2.00000e+00\",\"6.00000e+00\",\"NA\",\"3.00000e+00\",\"3.00000e+00\",\"2.00000e+00\",\"2.00000e+00\",\"3.00000e+00\",\"3.00000e+00\",\"3.00000e+00\",\"2.00000e+00\",\"4.00000e+00\",\"3.00000e+00\",\"3.00000e+00\",\"5.00000e+00\",\"2.00000e+00\",\"3.00000e+00\",\"3.00000e+00\",\"3.00000e+00\",\"6.00000e+00\",\"2.00000e+00\",\"NA\",\"3.00000e+00\",\"3.00000e+00\",\"NA\",\"3.00000e+00\",\"2.00000e+00\",\"3.00000e+00\",\"2.00000e+00\",\"2.00000e+00\",\"3.00000e+00\",\"1.00000e+00\",\"6.00000e+00\",\"2.00000e+00\",\"2.00000e+00\",\"3.00000e+00\",\"2.00000e+00\",\"2.00000e+00\",\"2.00000e+00\",\"NA\",\"2.00000e+00\",\"1.00000e+00\",\"3.00000e+00\",\"NA\",\"4.00000e+00\",\"2.00000e+00\",\"6.00000e+00\",\"6.00000e+00\",\"3.00000e+00\",\"3.00000e+00\",\"2.00000e+00\",\"3.00000e+00\",\"3.00000e+00\",\"3.00000e+00\",\"2.00000e+00\",\"3.00000e+00\",\"1.00000e+00\",\"1.00000e+00\",\"NA\",\"3.00000e+00\",\"3.00000e+00\",\"3.00000e+00\",\"3.00000e+00\",\"3.00000e+00\",\"NA\",\"2.00000e+00\",\"2.00000e+00\",\"3.00000e+00\",\"2.00000e+00\",\"2.00000e+00\",\"3.00000e+00\",\"2.00000e+00\",\"3.00000e+00\",\"6.00000e+00\",\"1.00000e+00\",\"2.00000e+00\",\"1.00000e+00\",\"3.00000e+00\",\"2.00000e+00\",\"3.00000e+00\",\"6.00000e+00\",\"3.00000e+00\",\"4.00000e+00\",\"4.00000e+00\",\"6.00000e+00\",\"4.00000e+00\",\"6.00000e+00\",\"3.00000e+00\",\"NA\",\"2.00000e+00\",\"1.00000e+00\",\"3.00000e+00\",\"3.00000e+00\",\"2.00000e+00\",\"3.00000e+00\",\"4.00000e+00\",\"3.00000e+00\",\"6.00000e+00\",\"1.00000e+00\",\"3.00000e+00\",\"2.00000e+00\",\"4.00000e+00\",\"2.00000e+00\",\"1.00000e+00\",\"3.00000e+00\",\"3.00000e+00\",\"2.00000e+00\",\"4.00000e+00\",\"NA\",\"1.00000e+00\",\"1.00000e+00\",\"3.00000e+00\",\"3.00000e+00\",\"4.00000e+00\",\"2.00000e+00\",\"3.00000e+00\",\"NA\",\"3.00000e+00\",\"4.00000e+00\",\"5.00000e+00\",\"2.00000e+00\",\"6.00000e+00\",\"3.00000e+00\",\"2.00000e+00\",\"NA\",\"3.00000e+00\",\"1.00000e+00\",\"3.00000e+00\",\"3.00000e+00\",\"5.00000e+00\",\"6.00000e+00\",\"2.00000e+00\",\"2.00000e+00\",\"NA\",\"1.00000e+00\",\"2.00000e+00\",\"1.00000e+00\",\"2.00000e+00\",\"3.00000e+00\",\"NA\",\"3.00000e+00\",\"1.00000e+00\",\"2.00000e+00\",\"1.00000e+00\",\"1.00000e+00\",\"6.00000e+00\",\"3.00000e+00\",\"3.00000e+00\",\"4.00000e+00\",\"1.00000e+00\",\"2.00000e+00\",\"2.00000e+00\",\"2.00000e+00\",\"3.00000e+00\",\"3.00000e+00\",\"4.00000e+00\",\"3.00000e+00\",\"3.00000e+00\",\"3.00000e+00\",\"3.00000e+00\",\"3.00000e+00\",\"5.00000e+00\",\"2.00000e+00\",\"3.00000e+00\",\"6.00000e+00\",\"3.00000e+00\",\"2.00000e+00\",\"3.00000e+00\",\"2.00000e+00\",\"6.00000e+00\",\"2.00000e+00\",\"2.00000e+00\",\"5.00000e+00\",\"6.00000e+00\",\"1.00000e+00\",\"3.00000e+00\",\"3.00000e+00\",\"3.00000e+00\",\"1.00000e+00\",\"1.00000e+00\",\"1.00000e+00\",\"3.00000e+00\",\"2.00000e+00\",\"5.00000e+00\",\"3.00000e+00\",\"1.00000e+00\",\"1.00000e+00\",\"2.00000e+00\",\"3.00000e+00\",\"6.00000e+00\",\"NA\",\"3.00000e+00\",\"3.00000e+00\",\"3.00000e+00\",\"1.00000e+00\",\"1.00000e+00\",\"3.00000e+00\",\"3.00000e+00\",\"3.00000e+00\",\"3.00000e+00\",\"4.00000e+00\",\"6.00000e+00\",\"6.00000e+00\",\"1.00000e+00\",\"3.00000e+00\",\"3.00000e+00\",\"3.00000e+00\",\"2.00000e+00\",\"NA\",\"2.00000e+00\",\"3.00000e+00\",\"3.00000e+00\",\"2.00000e+00\",\"NA\",\"2.00000e+00\",\"5.00000e+00\",\"3.00000e+00\",\"6.00000e+00\",\"2.00000e+00\",\"2.00000e+00\",\"3.00000e+00\",\"3.00000e+00\",\"3.00000e+00\",\"1.00000e+00\",\"4.00000e+00\",\"3.00000e+00\",\"3.00000e+00\",\"3.00000e+00\",\"6.00000e+00\",\"2.00000e+00\",\"3.00000e+00\",\"2.00000e+00\",\"3.00000e+00\",\"2.00000e+00\",\"3.00000e+00\",\"NA\",\"2.00000e+00\",\"3.00000e+00\",\"1.00000e+00\",\"3.00000e+00\",\"1.00000e+00\",\"5.00000e+00\",\"2.00000e+00\",\"6.00000e+00\",\"3.00000e+00\",\"2.00000e+00\",\"2.00000e+00\",\"3.00000e+00\",\"3.00000e+00\",\"2.00000e+00\",\"2.00000e+00\",\"1.00000e+00\",\"1.00000e+00\",\"3.00000e+00\",\"6.00000e+00\",\"4.00000e+00\",\"3.00000e+00\",\"1.00000e+00\",\"1.00000e+00\",\"1.00000e+00\",\"6.00000e+00\",\"6.00000e+00\",\"3.00000e+00\",\"3.00000e+00\",\"2.00000e+00\",\"3.00000e+00\",\"NA\",\"3.00000e+00\",\"3.00000e+00\",\"3.00000e+00\",\"3.00000e+00\",\"6.00000e+00\",\"5.00000e+00\",\"3.00000e+00\",\"3.00000e+00\",\"1.00000e+00\",\"3.00000e+00\",\"2.00000e+00\",\"3.00000e+00\",\"3.00000e+00\",\"3.00000e+00\",\"1.00000e+00\",\"6.00000e+00\",\"3.00000e+00\",\"3.00000e+00\",\"3.00000e+00\",\"3.00000e+00\",\"NA\",\"3.00000e+00\",\"2.00000e+00\",\"2.00000e+00\",\"3.00000e+00\",\"3.00000e+00\",\"NA\",\"6.00000e+00\",\"1.00000e+00\",\"3.00000e+00\",\"NA\",\"3.00000e+00\",\"5.00000e+00\",\"3.00000e+00\",\"1.00000e+00\",\"NA\",\"3.00000e+00\",\"NA\",\"6.00000e+00\",\"3.00000e+00\",\"5.00000e+00\",\"NA\",\"3.00000e+00\",\"NA\",\"2.00000e+00\",\"3.00000e+00\"],\"x\":{\"__ndarray__\":\"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\",\"dtype\":\"float64\",\"shape\":[412]},\"y\":{\"__ndarray__\":\"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\",\"dtype\":\"float64\",\"shape\":[412]}},\"selected\":{\"id\":\"1496\",\"type\":\"Selection\"},\"selection_policy\":{\"id\":\"1497\",\"type\":\"UnionRenderers\"}},\"id\":\"1410\",\"type\":\"ColumnDataSource\"},{\"attributes\":{\"fill_alpha\":{\"value\":0.1},\"fill_color\":{\"value\":\"#1f77b4\"},\"line_alpha\":{\"value\":0.1},\"line_color\":{\"value\":\"#1f77b4\"},\"x\":{\"field\":\"x\"},\"y\":{\"field\":\"y\"}},\"id\":\"1416\",\"type\":\"Circle\"},{\"attributes\":{},\"id\":\"1391\",\"type\":\"BasicTicker\"},{\"attributes\":{\"data_source\":{\"id\":\"1410\",\"type\":\"ColumnDataSource\"},\"glyph\":{\"id\":\"1433\",\"type\":\"Circle\"},\"hover_glyph\":null,\"muted_glyph\":null,\"nonselection_glyph\":{\"id\":\"1434\",\"type\":\"Circle\"},\"selection_glyph\":null,\"view\":{\"id\":\"1431\",\"type\":\"CDSView\"}},\"id\":\"1435\",\"type\":\"GlyphRenderer\"},{\"attributes\":{\"axis_label\":\"PC1\",\"formatter\":{\"id\":\"1494\",\"type\":\"BasicTickFormatter\"},\"ticker\":{\"id\":\"1386\",\"type\":\"BasicTicker\"}},\"id\":\"1385\",\"type\":\"LinearAxis\"},{\"attributes\":{\"column_name\":\"label\",\"group\":\"6.00000e+00\"},\"id\":\"1442\",\"type\":\"GroupFilter\"},{\"attributes\":{\"data_source\":{\"id\":\"1410\",\"type\":\"ColumnDataSource\"},\"glyph\":{\"id\":\"1427\",\"type\":\"Circle\"},\"hover_glyph\":null,\"muted_glyph\":null,\"nonselection_glyph\":{\"id\":\"1428\",\"type\":\"Circle\"},\"selection_glyph\":null,\"view\":{\"id\":\"1425\",\"type\":\"CDSView\"}},\"id\":\"1429\",\"type\":\"GlyphRenderer\"},{\"attributes\":{\"label\":{\"value\":\"3.00000e+00\"},\"renderers\":[{\"id\":\"1429\",\"type\":\"GlyphRenderer\"}]},\"id\":\"1456\",\"type\":\"LegendItem\"},{\"attributes\":{\"column_name\":\"label\",\"group\":\"5.00000e+00\"},\"id\":\"1436\",\"type\":\"GroupFilter\"},{\"attributes\":{\"color_mapper\":null,\"formatter\":{\"id\":\"1492\",\"type\":\"BasicTickFormatter\"},\"ticker\":{\"id\":\"1493\",\"type\":\"BasicTicker\"},\"visible\":false},\"id\":\"1462\",\"type\":\"ColorBar\"},{\"attributes\":{\"filters\":[{\"id\":\"1418\",\"type\":\"GroupFilter\"}],\"source\":{\"id\":\"1410\",\"type\":\"ColumnDataSource\"}},\"id\":\"1419\",\"type\":\"CDSView\"},{\"attributes\":{\"fill_color\":{\"field\":\"label\",\"transform\":{\"id\":\"1411\",\"type\":\"CategoricalColorMapper\"}},\"line_color\":{\"field\":\"label\",\"transform\":{\"id\":\"1411\",\"type\":\"CategoricalColorMapper\"}},\"x\":{\"field\":\"x\"},\"y\":{\"field\":\"y\"}},\"id\":\"1433\",\"type\":\"Circle\"},{\"attributes\":{\"fill_alpha\":{\"value\":0.1},\"fill_color\":{\"value\":\"#1f77b4\"},\"line_alpha\":{\"value\":0.1},\"line_color\":{\"value\":\"#1f77b4\"},\"x\":{\"field\":\"x\"},\"y\":{\"field\":\"y\"}},\"id\":\"1428\",\"type\":\"Circle\"},{\"attributes\":{\"ticker\":{\"id\":\"1386\",\"type\":\"BasicTicker\"}},\"id\":\"1389\",\"type\":\"Grid\"},{\"attributes\":{\"fill_alpha\":{\"value\":0.1},\"fill_color\":{\"value\":\"#1f77b4\"},\"line_alpha\":{\"value\":0.1},\"line_color\":{\"value\":\"#1f77b4\"},\"x\":{\"field\":\"x\"},\"y\":{\"field\":\"y\"}},\"id\":\"1434\",\"type\":\"Circle\"},{\"attributes\":{\"column_name\":\"label\",\"group\":\"4.00000e+00\"},\"id\":\"1430\",\"type\":\"GroupFilter\"},{\"attributes\":{\"filters\":[{\"id\":\"1430\",\"type\":\"GroupFilter\"}],\"source\":{\"id\":\"1410\",\"type\":\"ColumnDataSource\"}},\"id\":\"1431\",\"type\":\"CDSView\"},{\"attributes\":{\"callback\":null,\"tooltips\":[[\"x\",\"@x\"],[\"y\",\"@y\"],[\"label\",\"@label\"]]},\"id\":\"1409\",\"type\":\"HoverTool\"},{\"attributes\":{\"click_policy\":\"hide\",\"items\":[{\"id\":\"1454\",\"type\":\"LegendItem\"},{\"id\":\"1455\",\"type\":\"LegendItem\"},{\"id\":\"1456\",\"type\":\"LegendItem\"},{\"id\":\"1457\",\"type\":\"LegendItem\"},{\"id\":\"1458\",\"type\":\"LegendItem\"},{\"id\":\"1459\",\"type\":\"LegendItem\"},{\"id\":\"1460\",\"type\":\"LegendItem\"}]},\"id\":\"1461\",\"type\":\"Legend\"},{\"attributes\":{\"active_drag\":\"auto\",\"active_inspect\":\"auto\",\"active_multi\":null,\"active_scroll\":\"auto\",\"active_tap\":\"auto\",\"tools\":[{\"id\":\"1395\",\"type\":\"PanTool\"},{\"id\":\"1396\",\"type\":\"WheelZoomTool\"},{\"id\":\"1397\",\"type\":\"BoxZoomTool\"},{\"id\":\"1398\",\"type\":\"SaveTool\"},{\"id\":\"1399\",\"type\":\"ResetTool\"},{\"id\":\"1400\",\"type\":\"HelpTool\"},{\"id\":\"1409\",\"type\":\"HoverTool\"}]},\"id\":\"1401\",\"type\":\"Toolbar\"},{\"attributes\":{},\"id\":\"1396\",\"type\":\"WheelZoomTool\"},{\"attributes\":{\"column_name\":\"label\",\"group\":\"1.00000e+00\"},\"id\":\"1412\",\"type\":\"GroupFilter\"},{\"attributes\":{\"fill_color\":{\"field\":\"label\",\"transform\":{\"id\":\"1411\",\"type\":\"CategoricalColorMapper\"}},\"line_color\":{\"field\":\"label\",\"transform\":{\"id\":\"1411\",\"type\":\"CategoricalColorMapper\"}},\"x\":{\"field\":\"x\"},\"y\":{\"field\":\"y\"}},\"id\":\"1451\",\"type\":\"Circle\"},{\"attributes\":{\"label\":{\"value\":\"4.00000e+00\"},\"renderers\":[{\"id\":\"1435\",\"type\":\"GlyphRenderer\"}]},\"id\":\"1457\",\"type\":\"LegendItem\"},{\"attributes\":{},\"id\":\"1398\",\"type\":\"SaveTool\"},{\"attributes\":{},\"id\":\"1497\",\"type\":\"UnionRenderers\"},{\"attributes\":{\"filters\":[{\"id\":\"1412\",\"type\":\"GroupFilter\"}],\"source\":{\"id\":\"1410\",\"type\":\"ColumnDataSource\"}},\"id\":\"1413\",\"type\":\"CDSView\"},{\"attributes\":{\"fill_alpha\":{\"value\":0.1},\"fill_color\":{\"value\":\"#1f77b4\"},\"line_alpha\":{\"value\":0.1},\"line_color\":{\"value\":\"#1f77b4\"},\"x\":{\"field\":\"x\"},\"y\":{\"field\":\"y\"}},\"id\":\"1446\",\"type\":\"Circle\"},{\"attributes\":{\"label\":{\"value\":\"2.00000e+00\"},\"renderers\":[{\"id\":\"1423\",\"type\":\"GlyphRenderer\"}]},\"id\":\"1455\",\"type\":\"LegendItem\"},{\"attributes\":{},\"id\":\"1496\",\"type\":\"Selection\"},{\"attributes\":{\"callback\":null},\"id\":\"1379\",\"type\":\"DataRange1d\"},{\"attributes\":{\"fill_color\":{\"field\":\"label\",\"transform\":{\"id\":\"1411\",\"type\":\"CategoricalColorMapper\"}},\"line_color\":{\"field\":\"label\",\"transform\":{\"id\":\"1411\",\"type\":\"CategoricalColorMapper\"}},\"x\":{\"field\":\"x\"},\"y\":{\"field\":\"y\"}},\"id\":\"1445\",\"type\":\"Circle\"},{\"attributes\":{\"overlay\":{\"id\":\"1498\",\"type\":\"BoxAnnotation\"}},\"id\":\"1397\",\"type\":\"BoxZoomTool\"},{\"attributes\":{},\"id\":\"1399\",\"type\":\"ResetTool\"},{\"attributes\":{\"data_source\":{\"id\":\"1410\",\"type\":\"ColumnDataSource\"},\"glyph\":{\"id\":\"1445\",\"type\":\"Circle\"},\"hover_glyph\":null,\"muted_glyph\":null,\"nonselection_glyph\":{\"id\":\"1446\",\"type\":\"Circle\"},\"selection_glyph\":null,\"view\":{\"id\":\"1443\",\"type\":\"CDSView\"}},\"id\":\"1447\",\"type\":\"GlyphRenderer\"},{\"attributes\":{},\"id\":\"1395\",\"type\":\"PanTool\"},{\"attributes\":{\"factors\":[\"3.00000e+00\",\"6.00000e+00\",\"5.00000e+00\",\"4.00000e+00\",\"2.00000e+00\",\"1.00000e+00\",\"NA\"],\"palette\":[\"#1f77b4\",\"#ff7f0e\",\"#2ca02c\",\"#d62728\",\"#9467bd\",\"#8c564b\",\"#e377c2\",\"#7f7f7f\",\"#bcbd22\",\"#17becf\"]},\"id\":\"1411\",\"type\":\"CategoricalColorMapper\"},{\"attributes\":{\"filters\":[{\"id\":\"1448\",\"type\":\"GroupFilter\"}],\"source\":{\"id\":\"1410\",\"type\":\"ColumnDataSource\"}},\"id\":\"1449\",\"type\":\"CDSView\"},{\"attributes\":{\"label\":{\"value\":\"1.00000e+00\"},\"renderers\":[{\"id\":\"1417\",\"type\":\"GlyphRenderer\"}]},\"id\":\"1454\",\"type\":\"LegendItem\"},{\"attributes\":{\"axis_label\":\"PC2\",\"formatter\":{\"id\":\"1490\",\"type\":\"BasicTickFormatter\"},\"ticker\":{\"id\":\"1391\",\"type\":\"BasicTicker\"}},\"id\":\"1390\",\"type\":\"LinearAxis\"},{\"attributes\":{},\"id\":\"1490\",\"type\":\"BasicTickFormatter\"},{\"attributes\":{\"label\":{\"value\":\"6.00000e+00\"},\"renderers\":[{\"id\":\"1447\",\"type\":\"GlyphRenderer\"}]},\"id\":\"1459\",\"type\":\"LegendItem\"},{\"attributes\":{},\"id\":\"1494\",\"type\":\"BasicTickFormatter\"},{\"attributes\":{\"column_name\":\"label\",\"group\":\"2.00000e+00\"},\"id\":\"1418\",\"type\":\"GroupFilter\"},{\"attributes\":{\"callback\":null},\"id\":\"1377\",\"type\":\"DataRange1d\"},{\"attributes\":{},\"id\":\"1492\",\"type\":\"BasicTickFormatter\"},{\"attributes\":{\"data_source\":{\"id\":\"1410\",\"type\":\"ColumnDataSource\"},\"glyph\":{\"id\":\"1421\",\"type\":\"Circle\"},\"hover_glyph\":null,\"muted_glyph\":null,\"nonselection_glyph\":{\"id\":\"1422\",\"type\":\"Circle\"},\"selection_glyph\":null,\"view\":{\"id\":\"1419\",\"type\":\"CDSView\"}},\"id\":\"1423\",\"type\":\"GlyphRenderer\"},{\"attributes\":{\"label\":{\"value\":\"5.00000e+00\"},\"renderers\":[{\"id\":\"1441\",\"type\":\"GlyphRenderer\"}]},\"id\":\"1458\",\"type\":\"LegendItem\"}],\"root_ids\":[\"1374\"]},\"title\":\"Bokeh Application\",\"version\":\"1.2.0\"}};\n",
       "  var render_items = [{\"docid\":\"24465f5b-94a2-43ee-b3e1-ead8dfb0ec26\",\"roots\":{\"1374\":\"0d8475d2-f3c9-435d-bbb6-aa3c69032a6c\"}}];\n",
       "  root.Bokeh.embed.embed_items_notebook(docs_json, render_items);\n",
       "\n",
       "  }\n",
       "  if (root.Bokeh !== undefined) {\n",
       "    embed_document(root);\n",
       "  } else {\n",
       "    var attempts = 0;\n",
       "    var timer = setInterval(function(root) {\n",
       "      if (root.Bokeh !== undefined) {\n",
       "        embed_document(root);\n",
       "        clearInterval(timer);\n",
       "      }\n",
       "      attempts++;\n",
       "      if (attempts > 100) {\n",
       "        console.log(\"Bokeh: ERROR: Unable to run BokehJS code because BokehJS library is missing\");\n",
       "        clearInterval(timer);\n",
       "      }\n",
       "    }, 10, root)\n",
       "  }\n",
       "})(window);"
      ],
      "application/vnd.bokehjs_exec.v0+json": ""
     },
     "metadata": {
      "application/vnd.bokehjs_exec.v0+json": {
       "id": "1374"
      }
     },
     "output_type": "display_data"
    }
   ],
   "source": [
    "p = hl.plot.scatter(no_outerliers_mt.scores[0],\n",
    "                    no_outerliers_mt.scores[1],\n",
    "                    label=hl.str(no_outerliers_mt.birthplace),\n",
    "                    title='PCA', xlabel='PC1', ylabel='PC2')\n",
    "p.plot_width = 800\n",
    "p.plot_height = 600\n",
    "show(p)"
   ]
  },
  {
   "cell_type": "markdown",
   "metadata": {},
   "source": [
    "Region number | Region name(s)\n",
    "-----|-----\n",
    "1 | Norðoyggjar\n",
    "2 | Eysturoy og Norðstreymoy\n",
    "3 | Suðurstreymoy\n",
    "4 | Vágar og Mykines\n",
    "5 | Sandoy, Skúvoy, Stóra Dímun\n",
    "6 | Suðuroy"
   ]
  },
  {
   "cell_type": "markdown",
   "metadata": {},
   "source": [
    "From this PCA, it looks like there is very little population structure. But I'm not so convinced, I see this as a failure to detect population structure, not a success to show that there is no population structure."
   ]
  },
  {
   "cell_type": "markdown",
   "metadata": {},
   "source": [
    "## Remove the capital region"
   ]
  },
  {
   "cell_type": "code",
   "execution_count": 31,
   "metadata": {},
   "outputs": [],
   "source": [
    "filter_central_mt = no_outerliers_mt.filter_cols(no_outerliers_mt.birthplace != 3)"
   ]
  },
  {
   "cell_type": "code",
   "execution_count": 32,
   "metadata": {},
   "outputs": [
    {
     "name": "stderr",
     "output_type": "stream",
     "text": [
      "2021-05-26 13:50:24 Hail: INFO: Ordering unsorted dataset with network shuffle\n",
      "2021-05-26 13:50:24 Hail: INFO: Ordering unsorted dataset with network shuffle\n",
      "2021-05-26 13:50:25 Hail: INFO: Coerced sorted dataset\n",
      "2021-05-26 13:50:25 Hail: INFO: Ordering unsorted dataset with network shuffle\n",
      "2021-05-26 13:50:28 Hail: INFO: hwe_normalized_pca: running PCA using 39986 variants.\n",
      "2021-05-26 13:50:28 Hail: INFO: Ordering unsorted dataset with network shuffle\n",
      "2021-05-26 13:50:28 Hail: INFO: Ordering unsorted dataset with network shuffle\n",
      "2021-05-26 13:50:30 Hail: INFO: Coerced sorted dataset\n",
      "2021-05-26 13:50:30 Hail: INFO: Ordering unsorted dataset with network shuffle\n",
      "2021-05-26 13:50:32 Hail: INFO: pca: running PCA with 2 components...\n"
     ]
    }
   ],
   "source": [
    "eigenvalues, scores, loadings = hl.hwe_normalized_pca(filter_central_mt.GT, k=2)"
   ]
  },
  {
   "cell_type": "code",
   "execution_count": 33,
   "metadata": {},
   "outputs": [],
   "source": [
    "filter_central_mt = filter_central_mt.annotate_cols(scores = scores[filter_central_mt.s].scores)"
   ]
  },
  {
   "cell_type": "code",
   "execution_count": 34,
   "metadata": {},
   "outputs": [
    {
     "name": "stderr",
     "output_type": "stream",
     "text": [
      "2021-05-26 13:50:46 Hail: INFO: Ordering unsorted dataset with network shuffle\n",
      "2021-05-26 13:50:46 Hail: INFO: Ordering unsorted dataset with network shuffle\n",
      "2021-05-26 13:50:47 Hail: INFO: Coerced sorted dataset\n",
      "2021-05-26 13:50:47 Hail: INFO: Ordering unsorted dataset with network shuffle\n"
     ]
    },
    {
     "data": {
      "text/html": [
       "\n",
       "\n",
       "\n",
       "\n",
       "\n",
       "\n",
       "  <div class=\"bk-root\" id=\"d2b5c66d-e9f1-4e12-84a0-a8bdf5c916a6\" data-root-id=\"1559\"></div>\n"
      ]
     },
     "metadata": {},
     "output_type": "display_data"
    },
    {
     "data": {
      "application/javascript": [
       "(function(root) {\n",
       "  function embed_document(root) {\n",
       "    \n",
       "  var docs_json = {\"154f2bde-f14f-4ee6-b478-52e410b950c0\":{\"roots\":{\"references\":[{\"attributes\":{\"below\":[{\"id\":\"1570\",\"type\":\"LinearAxis\"}],\"center\":[{\"id\":\"1574\",\"type\":\"Grid\"},{\"id\":\"1579\",\"type\":\"Grid\"}],\"left\":[{\"id\":\"1575\",\"type\":\"LinearAxis\"},{\"id\":\"1632\",\"type\":\"Legend\"},{\"id\":\"1633\",\"type\":\"ColorBar\"}],\"plot_height\":600,\"plot_width\":800,\"renderers\":[{\"id\":\"1602\",\"type\":\"GlyphRenderer\"},{\"id\":\"1608\",\"type\":\"GlyphRenderer\"},{\"id\":\"1614\",\"type\":\"GlyphRenderer\"},{\"id\":\"1620\",\"type\":\"GlyphRenderer\"},{\"id\":\"1626\",\"type\":\"GlyphRenderer\"}],\"title\":{\"id\":\"1560\",\"type\":\"Title\"},\"toolbar\":{\"id\":\"1586\",\"type\":\"Toolbar\"},\"x_range\":{\"id\":\"1562\",\"type\":\"DataRange1d\"},\"x_scale\":{\"id\":\"1566\",\"type\":\"LinearScale\"},\"y_range\":{\"id\":\"1564\",\"type\":\"DataRange1d\"},\"y_scale\":{\"id\":\"1568\",\"type\":\"LinearScale\"}},\"id\":\"1559\",\"subtype\":\"Figure\",\"type\":\"Plot\"},{\"attributes\":{\"callback\":null,\"tooltips\":[[\"x\",\"@x\"],[\"y\",\"@y\"],[\"label\",\"@label\"]]},\"id\":\"1594\",\"type\":\"HoverTool\"},{\"attributes\":{\"column_name\":\"label\",\"group\":\"6.00000e+00\"},\"id\":\"1621\",\"type\":\"GroupFilter\"},{\"attributes\":{\"data_source\":{\"id\":\"1595\",\"type\":\"ColumnDataSource\"},\"glyph\":{\"id\":\"1612\",\"type\":\"Circle\"},\"hover_glyph\":null,\"muted_glyph\":null,\"nonselection_glyph\":{\"id\":\"1613\",\"type\":\"Circle\"},\"selection_glyph\":null,\"view\":{\"id\":\"1610\",\"type\":\"CDSView\"}},\"id\":\"1614\",\"type\":\"GlyphRenderer\"},{\"attributes\":{\"label\":{\"value\":\"2.00000e+00\"},\"renderers\":[{\"id\":\"1608\",\"type\":\"GlyphRenderer\"}]},\"id\":\"1628\",\"type\":\"LegendItem\"},{\"attributes\":{\"column_name\":\"label\",\"group\":\"1.00000e+00\"},\"id\":\"1597\",\"type\":\"GroupFilter\"},{\"attributes\":{\"axis_label\":\"PC1\",\"formatter\":{\"id\":\"1675\",\"type\":\"BasicTickFormatter\"},\"ticker\":{\"id\":\"1571\",\"type\":\"BasicTicker\"}},\"id\":\"1570\",\"type\":\"LinearAxis\"},{\"attributes\":{\"filters\":[{\"id\":\"1597\",\"type\":\"GroupFilter\"}],\"source\":{\"id\":\"1595\",\"type\":\"ColumnDataSource\"}},\"id\":\"1598\",\"type\":\"CDSView\"},{\"attributes\":{\"fill_alpha\":{\"value\":0.1},\"fill_color\":{\"value\":\"#1f77b4\"},\"line_alpha\":{\"value\":0.1},\"line_color\":{\"value\":\"#1f77b4\"},\"x\":{\"field\":\"x\"},\"y\":{\"field\":\"y\"}},\"id\":\"1613\",\"type\":\"Circle\"},{\"attributes\":{\"label\":{\"value\":\"5.00000e+00\"},\"renderers\":[{\"id\":\"1620\",\"type\":\"GlyphRenderer\"}]},\"id\":\"1630\",\"type\":\"LegendItem\"},{\"attributes\":{\"fill_alpha\":{\"value\":0.1},\"fill_color\":{\"value\":\"#1f77b4\"},\"line_alpha\":{\"value\":0.1},\"line_color\":{\"value\":\"#1f77b4\"},\"x\":{\"field\":\"x\"},\"y\":{\"field\":\"y\"}},\"id\":\"1607\",\"type\":\"Circle\"},{\"attributes\":{},\"id\":\"1571\",\"type\":\"BasicTicker\"},{\"attributes\":{\"filters\":[{\"id\":\"1615\",\"type\":\"GroupFilter\"}],\"source\":{\"id\":\"1595\",\"type\":\"ColumnDataSource\"}},\"id\":\"1616\",\"type\":\"CDSView\"},{\"attributes\":{\"overlay\":{\"id\":\"1679\",\"type\":\"BoxAnnotation\"}},\"id\":\"1582\",\"type\":\"BoxZoomTool\"},{\"attributes\":{},\"id\":\"1678\",\"type\":\"UnionRenderers\"},{\"attributes\":{\"fill_color\":{\"field\":\"label\",\"transform\":{\"id\":\"1596\",\"type\":\"CategoricalColorMapper\"}},\"line_color\":{\"field\":\"label\",\"transform\":{\"id\":\"1596\",\"type\":\"CategoricalColorMapper\"}},\"x\":{\"field\":\"x\"},\"y\":{\"field\":\"y\"}},\"id\":\"1618\",\"type\":\"Circle\"},{\"attributes\":{},\"id\":\"1585\",\"type\":\"HelpTool\"},{\"attributes\":{\"column_name\":\"label\",\"group\":\"5.00000e+00\"},\"id\":\"1615\",\"type\":\"GroupFilter\"},{\"attributes\":{},\"id\":\"1566\",\"type\":\"LinearScale\"},{\"attributes\":{\"column_name\":\"label\",\"group\":\"2.00000e+00\"},\"id\":\"1603\",\"type\":\"GroupFilter\"},{\"attributes\":{\"fill_color\":{\"field\":\"label\",\"transform\":{\"id\":\"1596\",\"type\":\"CategoricalColorMapper\"}},\"line_color\":{\"field\":\"label\",\"transform\":{\"id\":\"1596\",\"type\":\"CategoricalColorMapper\"}},\"x\":{\"field\":\"x\"},\"y\":{\"field\":\"y\"}},\"id\":\"1612\",\"type\":\"Circle\"},{\"attributes\":{},\"id\":\"1584\",\"type\":\"ResetTool\"},{\"attributes\":{\"fill_color\":{\"field\":\"label\",\"transform\":{\"id\":\"1596\",\"type\":\"CategoricalColorMapper\"}},\"line_color\":{\"field\":\"label\",\"transform\":{\"id\":\"1596\",\"type\":\"CategoricalColorMapper\"}},\"x\":{\"field\":\"x\"},\"y\":{\"field\":\"y\"}},\"id\":\"1600\",\"type\":\"Circle\"},{\"attributes\":{\"column_name\":\"label\",\"group\":\"4.00000e+00\"},\"id\":\"1609\",\"type\":\"GroupFilter\"},{\"attributes\":{\"click_policy\":\"hide\",\"items\":[{\"id\":\"1627\",\"type\":\"LegendItem\"},{\"id\":\"1628\",\"type\":\"LegendItem\"},{\"id\":\"1629\",\"type\":\"LegendItem\"},{\"id\":\"1630\",\"type\":\"LegendItem\"},{\"id\":\"1631\",\"type\":\"LegendItem\"}]},\"id\":\"1632\",\"type\":\"Legend\"},{\"attributes\":{\"label\":{\"value\":\"1.00000e+00\"},\"renderers\":[{\"id\":\"1602\",\"type\":\"GlyphRenderer\"}]},\"id\":\"1627\",\"type\":\"LegendItem\"},{\"attributes\":{},\"id\":\"1674\",\"type\":\"BasicTicker\"},{\"attributes\":{},\"id\":\"1580\",\"type\":\"PanTool\"},{\"attributes\":{},\"id\":\"1583\",\"type\":\"SaveTool\"},{\"attributes\":{},\"id\":\"1677\",\"type\":\"Selection\"},{\"attributes\":{\"dimension\":1,\"ticker\":{\"id\":\"1576\",\"type\":\"BasicTicker\"}},\"id\":\"1579\",\"type\":\"Grid\"},{\"attributes\":{\"label\":{\"value\":\"4.00000e+00\"},\"renderers\":[{\"id\":\"1614\",\"type\":\"GlyphRenderer\"}]},\"id\":\"1629\",\"type\":\"LegendItem\"},{\"attributes\":{\"factors\":[\"6.00000e+00\",\"5.00000e+00\",\"4.00000e+00\",\"2.00000e+00\",\"1.00000e+00\"],\"palette\":[\"#1f77b4\",\"#ff7f0e\",\"#2ca02c\",\"#d62728\",\"#9467bd\",\"#8c564b\",\"#e377c2\",\"#7f7f7f\",\"#bcbd22\",\"#17becf\"]},\"id\":\"1596\",\"type\":\"CategoricalColorMapper\"},{\"attributes\":{},\"id\":\"1671\",\"type\":\"BasicTickFormatter\"},{\"attributes\":{\"label\":{\"value\":\"6.00000e+00\"},\"renderers\":[{\"id\":\"1626\",\"type\":\"GlyphRenderer\"}]},\"id\":\"1631\",\"type\":\"LegendItem\"},{\"attributes\":{\"filters\":[{\"id\":\"1603\",\"type\":\"GroupFilter\"}],\"source\":{\"id\":\"1595\",\"type\":\"ColumnDataSource\"}},\"id\":\"1604\",\"type\":\"CDSView\"},{\"attributes\":{\"fill_alpha\":{\"value\":0.1},\"fill_color\":{\"value\":\"#1f77b4\"},\"line_alpha\":{\"value\":0.1},\"line_color\":{\"value\":\"#1f77b4\"},\"x\":{\"field\":\"x\"},\"y\":{\"field\":\"y\"}},\"id\":\"1619\",\"type\":\"Circle\"},{\"attributes\":{\"color_mapper\":null,\"formatter\":{\"id\":\"1673\",\"type\":\"BasicTickFormatter\"},\"ticker\":{\"id\":\"1674\",\"type\":\"BasicTicker\"},\"visible\":false},\"id\":\"1633\",\"type\":\"ColorBar\"},{\"attributes\":{\"ticker\":{\"id\":\"1571\",\"type\":\"BasicTicker\"}},\"id\":\"1574\",\"type\":\"Grid\"},{\"attributes\":{\"data_source\":{\"id\":\"1595\",\"type\":\"ColumnDataSource\"},\"glyph\":{\"id\":\"1606\",\"type\":\"Circle\"},\"hover_glyph\":null,\"muted_glyph\":null,\"nonselection_glyph\":{\"id\":\"1607\",\"type\":\"Circle\"},\"selection_glyph\":null,\"view\":{\"id\":\"1604\",\"type\":\"CDSView\"}},\"id\":\"1608\",\"type\":\"GlyphRenderer\"},{\"attributes\":{\"fill_alpha\":{\"value\":0.1},\"fill_color\":{\"value\":\"#1f77b4\"},\"line_alpha\":{\"value\":0.1},\"line_color\":{\"value\":\"#1f77b4\"},\"x\":{\"field\":\"x\"},\"y\":{\"field\":\"y\"}},\"id\":\"1601\",\"type\":\"Circle\"},{\"attributes\":{},\"id\":\"1581\",\"type\":\"WheelZoomTool\"},{\"attributes\":{\"filters\":[{\"id\":\"1621\",\"type\":\"GroupFilter\"}],\"source\":{\"id\":\"1595\",\"type\":\"ColumnDataSource\"}},\"id\":\"1622\",\"type\":\"CDSView\"},{\"attributes\":{\"fill_alpha\":{\"value\":0.1},\"fill_color\":{\"value\":\"#1f77b4\"},\"line_alpha\":{\"value\":0.1},\"line_color\":{\"value\":\"#1f77b4\"},\"x\":{\"field\":\"x\"},\"y\":{\"field\":\"y\"}},\"id\":\"1625\",\"type\":\"Circle\"},{\"attributes\":{},\"id\":\"1675\",\"type\":\"BasicTickFormatter\"},{\"attributes\":{\"bottom_units\":\"screen\",\"fill_alpha\":{\"value\":0.5},\"fill_color\":{\"value\":\"lightgrey\"},\"left_units\":\"screen\",\"level\":\"overlay\",\"line_alpha\":{\"value\":1.0},\"line_color\":{\"value\":\"black\"},\"line_dash\":[4,4],\"line_width\":{\"value\":2},\"render_mode\":\"css\",\"right_units\":\"screen\",\"top_units\":\"screen\"},\"id\":\"1679\",\"type\":\"BoxAnnotation\"},{\"attributes\":{\"data_source\":{\"id\":\"1595\",\"type\":\"ColumnDataSource\"},\"glyph\":{\"id\":\"1618\",\"type\":\"Circle\"},\"hover_glyph\":null,\"muted_glyph\":null,\"nonselection_glyph\":{\"id\":\"1619\",\"type\":\"Circle\"},\"selection_glyph\":null,\"view\":{\"id\":\"1616\",\"type\":\"CDSView\"}},\"id\":\"1620\",\"type\":\"GlyphRenderer\"},{\"attributes\":{\"callback\":null,\"data\":{\"index\":[0,1,2,3,4,5,6,7,8,9,10,11,12,13,14,15,16,17,18,19,20,21,22,23,24,25,26,27,28,29,30,31,32,33,34,35,36,37,38,39,40,41,42,43,44,45,46,47,48,49,50,51,52,53,54,55,56,57,58,59,60,61,62,63,64,65,66,67,68,69,70,71,72,73,74,75,76,77,78,79,80,81,82,83,84,85,86,87,88,89,90,91,92,93,94,95,96,97,98,99,100,101,102,103,104,105,106,107,108,109,110,111,112,113,114,115,116,117,118,119,120,121,122,123,124,125,126,127,128,129,130,131,132,133,134,135,136,137,138,139,140,141,142,143,144,145,146,147,148,149,150,151,152,153,154,155,156,157,158,159,160,161,162,163,164,165,166,167,168,169,170,171,172,173,174,175,176,177,178,179,180,181,182,183,184,185,186,187,188,189,190,191,192,193,194,195,196,197,198,199,200,201,202,203,204,205,206,207,208,209,210,211,212,213,214,215,216,217,218],\"label\":[\"1.00000e+00\",\"4.00000e+00\",\"1.00000e+00\",\"2.00000e+00\",\"4.00000e+00\",\"1.00000e+00\",\"4.00000e+00\",\"4.00000e+00\",\"4.00000e+00\",\"1.00000e+00\",\"1.00000e+00\",\"2.00000e+00\",\"4.00000e+00\",\"1.00000e+00\",\"1.00000e+00\",\"1.00000e+00\",\"2.00000e+00\",\"2.00000e+00\",\"6.00000e+00\",\"2.00000e+00\",\"1.00000e+00\",\"1.00000e+00\",\"6.00000e+00\",\"2.00000e+00\",\"5.00000e+00\",\"1.00000e+00\",\"4.00000e+00\",\"2.00000e+00\",\"4.00000e+00\",\"4.00000e+00\",\"5.00000e+00\",\"1.00000e+00\",\"2.00000e+00\",\"6.00000e+00\",\"4.00000e+00\",\"2.00000e+00\",\"2.00000e+00\",\"4.00000e+00\",\"5.00000e+00\",\"2.00000e+00\",\"2.00000e+00\",\"2.00000e+00\",\"1.00000e+00\",\"1.00000e+00\",\"2.00000e+00\",\"1.00000e+00\",\"2.00000e+00\",\"1.00000e+00\",\"2.00000e+00\",\"2.00000e+00\",\"2.00000e+00\",\"2.00000e+00\",\"2.00000e+00\",\"2.00000e+00\",\"2.00000e+00\",\"2.00000e+00\",\"4.00000e+00\",\"2.00000e+00\",\"6.00000e+00\",\"2.00000e+00\",\"2.00000e+00\",\"2.00000e+00\",\"2.00000e+00\",\"2.00000e+00\",\"4.00000e+00\",\"6.00000e+00\",\"6.00000e+00\",\"2.00000e+00\",\"1.00000e+00\",\"2.00000e+00\",\"2.00000e+00\",\"2.00000e+00\",\"2.00000e+00\",\"1.00000e+00\",\"5.00000e+00\",\"2.00000e+00\",\"6.00000e+00\",\"6.00000e+00\",\"2.00000e+00\",\"1.00000e+00\",\"2.00000e+00\",\"2.00000e+00\",\"1.00000e+00\",\"6.00000e+00\",\"4.00000e+00\",\"1.00000e+00\",\"1.00000e+00\",\"2.00000e+00\",\"2.00000e+00\",\"2.00000e+00\",\"2.00000e+00\",\"4.00000e+00\",\"2.00000e+00\",\"2.00000e+00\",\"6.00000e+00\",\"4.00000e+00\",\"4.00000e+00\",\"2.00000e+00\",\"6.00000e+00\",\"1.00000e+00\",\"2.00000e+00\",\"2.00000e+00\",\"4.00000e+00\",\"2.00000e+00\",\"2.00000e+00\",\"2.00000e+00\",\"4.00000e+00\",\"2.00000e+00\",\"4.00000e+00\",\"2.00000e+00\",\"2.00000e+00\",\"1.00000e+00\",\"2.00000e+00\",\"2.00000e+00\",\"2.00000e+00\",\"1.00000e+00\",\"4.00000e+00\",\"5.00000e+00\",\"2.00000e+00\",\"1.00000e+00\",\"6.00000e+00\",\"6.00000e+00\",\"1.00000e+00\",\"1.00000e+00\",\"1.00000e+00\",\"2.00000e+00\",\"1.00000e+00\",\"4.00000e+00\",\"1.00000e+00\",\"2.00000e+00\",\"6.00000e+00\",\"2.00000e+00\",\"2.00000e+00\",\"6.00000e+00\",\"1.00000e+00\",\"6.00000e+00\",\"6.00000e+00\",\"2.00000e+00\",\"2.00000e+00\",\"1.00000e+00\",\"6.00000e+00\",\"4.00000e+00\",\"5.00000e+00\",\"5.00000e+00\",\"1.00000e+00\",\"6.00000e+00\",\"2.00000e+00\",\"6.00000e+00\",\"1.00000e+00\",\"2.00000e+00\",\"1.00000e+00\",\"5.00000e+00\",\"6.00000e+00\",\"2.00000e+00\",\"2.00000e+00\",\"1.00000e+00\",\"1.00000e+00\",\"2.00000e+00\",\"4.00000e+00\",\"1.00000e+00\",\"5.00000e+00\",\"6.00000e+00\",\"5.00000e+00\",\"1.00000e+00\",\"2.00000e+00\",\"4.00000e+00\",\"1.00000e+00\",\"2.00000e+00\",\"2.00000e+00\",\"1.00000e+00\",\"2.00000e+00\",\"2.00000e+00\",\"2.00000e+00\",\"2.00000e+00\",\"2.00000e+00\",\"2.00000e+00\",\"1.00000e+00\",\"1.00000e+00\",\"6.00000e+00\",\"2.00000e+00\",\"2.00000e+00\",\"6.00000e+00\",\"1.00000e+00\",\"2.00000e+00\",\"2.00000e+00\",\"2.00000e+00\",\"6.00000e+00\",\"6.00000e+00\",\"5.00000e+00\",\"1.00000e+00\",\"2.00000e+00\",\"1.00000e+00\",\"1.00000e+00\",\"1.00000e+00\",\"1.00000e+00\",\"2.00000e+00\",\"4.00000e+00\",\"2.00000e+00\",\"1.00000e+00\",\"6.00000e+00\",\"2.00000e+00\",\"5.00000e+00\",\"6.00000e+00\",\"6.00000e+00\",\"6.00000e+00\",\"6.00000e+00\",\"1.00000e+00\",\"1.00000e+00\",\"2.00000e+00\",\"6.00000e+00\",\"2.00000e+00\",\"2.00000e+00\",\"5.00000e+00\",\"6.00000e+00\",\"1.00000e+00\",\"1.00000e+00\",\"5.00000e+00\",\"6.00000e+00\",\"2.00000e+00\"],\"x\":{\"__ndarray__\":\"kSHYrnTiy7+DA5MkIBzLv/d60VBqMcq/coScXcuSyb9Gm6WN8wDJv+OZ/BLCRca/m/68UHILxr9UJ7GHTFnFvzyfdPWV48S/PMQ0sYSnxL+gXsNFxTvDv1uYa545EcO/uc3Xx3ehwb8SVSDPIL/Av80ZVsUp1sC/mmMt8ahQwL8rSthOBuy/vxeL8QYjoL+/mhj0CBg7v78P+RhNB6y+vzJc6XcHsr6/RGtPJIsOvr9+tqUeL7a9v7Gy8SEjtr2/vDdaW9Rjvb/q5+Zyb2S9v5sDTBSaLry/8v4AKtVPu790CY8KRES7v3KpqwEQF7u/+7RE7X7Tur+rvm/+Rc66v936lfBasrq/ZKhnHcH3ub+LTbMLuv25vxd+M85lMLm/b8APFcYEub9soqAyYYK4v6WxoKi4Sri/avfkcqGWt792r3WpyvG2v9Kp2TpHhra/V0/bL/dJtr9NucCDPzy2v9I9bj4SmrW/78BPM4HHtb8tCHLeMG61v1K6wATEu7S/QN1w5GCHtL9ak6niUoe0v6Xa7EOXUrS/WQNAvCijs79YFr6FLS+zv57WInpAJ7C/n03/wP5Jr7/TSkBVpAKuv7wbQHgCsKy/emNkRXbGrL/ch2Jc+3irvzka5iyyH6u/hEkOCLYmqr8Bq/u3szuov1t26vZinqe/5H6yNCEMp7/Qkshbg1Gmv1ChfF2LuaS/draWdNdbo7/OLv71812jv2q0zCF3EaO/Bm+kswTVob/HBDrcLj2gvzQfgV4fgaC/Od7giEyKoL8EDY+3ZJadv86S+7lXB5u/E8f71Uarmr+t3Skh7laYv750XkHfl5e/4hdl339vl78UsXJKb8WWv0dZCA/KT5e/c5R/JeJhl78SufC3BAGWv9nAK1D5XpW/kCoSPLxilb/i6xTkUGKUv6ea1ZNbqZS/hMkxryGAk7+d0Kk+/EWQv3xjtxjkQJC/AhdixRp1jr/KxH7RfOKMv0Vqm2cAXYy/e2vxosNhhb9Lyq9GSOaAv1ayZDtvyn6/ODxSP1UFe7+jvgKtA9d7vzVCXADD53S/JGr0RwNccL/upLsOMGdtv21Z+dc8XWa/FTKZXxhEYr84mEa7mKNjv/PWnXTQ5V4/HIhZnjyhYz+wTQXMBc9jPzrQOKwdVHI/mDdRkP+2dT9NYkVvYMp7P7qufztk+n0/rmW6BMVmfz8UVLZcLPiCPw9vqGSqloM/SAiJgtS2hD8+iUZ/DIOFP6Uk27xleYg/Eqoja82qiT9Bmuxj/lGJP7TRcQIuTYs/5PzllYDljD9vfSpfJRiRP6BbQ+aLcpA/Hux1uFbxkD+ZaOtzo0aRP4gdJa2dr5I/PqiW50rOkz8vn5Uop26UP9CwGL6cdJU/gqN9xESblj8CaqAtBFmXP3JyiGj9AJg/A+eTOYwrmT8qusHt+aydP5r9CSdE058/uU11MzZGoD+3Y1OOlsCgP3VQQKYzE6E/nw7NwviRoT8+ctAKEn+iPzTwVLfPwKI/KwtpRvD7oj/WBG8tF/+jP37jwjgQt6M/zsBAYSa3oz/wkcpxMOWkP/DQDskLoqQ/raEo99BipT/PAoLH9yClP8XuR2GyJKU/ne7zCOh7pz8Zv4AghASoP92IyIyJlag/HPic1hioqD9D3kKUj2yoP/2m++bZNas/WfjpGArbqz9i8GfU8rqsP43sa+77Uq0/m3dghdEurT8fzgCmbL+tP8TmxzIfp64/+pNVN1j+rj/rLlD1x9GvP2/XdpEup68/HHQyWnQfsD+Cx/T5TqGwP+5EI0fOg7A/F5aSrvDNsD+MkkGP9auxP42xeSShWrI/KE1sQVdnsj+Nhn3Bn0yzPxmBNWs5drM/AaUBAPphsz9fG544aIazP0vWIGnALLQ/rsO1nTwXtD9el9UbzUa0P3VM/m+gbLQ/4skm55xotD+pahcPeba0PziouUTd5rQ/yw9yu9M5tT+hzIWtffa1P2+68UeRZLY/DHHAHT19tz+JULSwfdK3Pw3ZoSMEBbg/yARN+Kjatz8t06f7ndu4P/m8+EqC2bg/cS7ix9fYuT/lWWufOA+6P2eEdKA8W7o/eT6NO2qEuj9GSAcp/AK7P2wmNphyWbs/5+2TwdFHuz8ySP3wrs+7P74oG0soubs/gptba4L2vD83QPEEN/u9PzxhKjM/0b4/RbTYmqZivz/m/cbhmEnAP3BaW2ZoD8E/UrTw/3cewT/mhMpkxK3BP6ufu+d7uME/c/mR+4AKwj+a2kNpVxLDP1tT6Q+XcMQ/cfnESfzUxT+0HVmfBU7GP+qFveFa4Ms/7bXmLOE7zT993UGW9ETNP73S1Z5rfM8/\",\"dtype\":\"float64\",\"shape\":[219]},\"y\":{\"__ndarray__\":\"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\",\"dtype\":\"float64\",\"shape\":[219]}},\"selected\":{\"id\":\"1677\",\"type\":\"Selection\"},\"selection_policy\":{\"id\":\"1678\",\"type\":\"UnionRenderers\"}},\"id\":\"1595\",\"type\":\"ColumnDataSource\"},{\"attributes\":{\"data_source\":{\"id\":\"1595\",\"type\":\"ColumnDataSource\"},\"glyph\":{\"id\":\"1624\",\"type\":\"Circle\"},\"hover_glyph\":null,\"muted_glyph\":null,\"nonselection_glyph\":{\"id\":\"1625\",\"type\":\"Circle\"},\"selection_glyph\":null,\"view\":{\"id\":\"1622\",\"type\":\"CDSView\"}},\"id\":\"1626\",\"type\":\"GlyphRenderer\"},{\"attributes\":{},\"id\":\"1568\",\"type\":\"LinearScale\"},{\"attributes\":{\"text\":\"PCA\"},\"id\":\"1560\",\"type\":\"Title\"},{\"attributes\":{},\"id\":\"1576\",\"type\":\"BasicTicker\"},{\"attributes\":{\"active_drag\":\"auto\",\"active_inspect\":\"auto\",\"active_multi\":null,\"active_scroll\":\"auto\",\"active_tap\":\"auto\",\"tools\":[{\"id\":\"1580\",\"type\":\"PanTool\"},{\"id\":\"1581\",\"type\":\"WheelZoomTool\"},{\"id\":\"1582\",\"type\":\"BoxZoomTool\"},{\"id\":\"1583\",\"type\":\"SaveTool\"},{\"id\":\"1584\",\"type\":\"ResetTool\"},{\"id\":\"1585\",\"type\":\"HelpTool\"},{\"id\":\"1594\",\"type\":\"HoverTool\"}]},\"id\":\"1586\",\"type\":\"Toolbar\"},{\"attributes\":{\"callback\":null},\"id\":\"1562\",\"type\":\"DataRange1d\"},{\"attributes\":{\"filters\":[{\"id\":\"1609\",\"type\":\"GroupFilter\"}],\"source\":{\"id\":\"1595\",\"type\":\"ColumnDataSource\"}},\"id\":\"1610\",\"type\":\"CDSView\"},{\"attributes\":{\"fill_color\":{\"field\":\"label\",\"transform\":{\"id\":\"1596\",\"type\":\"CategoricalColorMapper\"}},\"line_color\":{\"field\":\"label\",\"transform\":{\"id\":\"1596\",\"type\":\"CategoricalColorMapper\"}},\"x\":{\"field\":\"x\"},\"y\":{\"field\":\"y\"}},\"id\":\"1624\",\"type\":\"Circle\"},{\"attributes\":{\"axis_label\":\"PC2\",\"formatter\":{\"id\":\"1671\",\"type\":\"BasicTickFormatter\"},\"ticker\":{\"id\":\"1576\",\"type\":\"BasicTicker\"}},\"id\":\"1575\",\"type\":\"LinearAxis\"},{\"attributes\":{\"callback\":null},\"id\":\"1564\",\"type\":\"DataRange1d\"},{\"attributes\":{\"fill_color\":{\"field\":\"label\",\"transform\":{\"id\":\"1596\",\"type\":\"CategoricalColorMapper\"}},\"line_color\":{\"field\":\"label\",\"transform\":{\"id\":\"1596\",\"type\":\"CategoricalColorMapper\"}},\"x\":{\"field\":\"x\"},\"y\":{\"field\":\"y\"}},\"id\":\"1606\",\"type\":\"Circle\"},{\"attributes\":{\"data_source\":{\"id\":\"1595\",\"type\":\"ColumnDataSource\"},\"glyph\":{\"id\":\"1600\",\"type\":\"Circle\"},\"hover_glyph\":null,\"muted_glyph\":null,\"nonselection_glyph\":{\"id\":\"1601\",\"type\":\"Circle\"},\"selection_glyph\":null,\"view\":{\"id\":\"1598\",\"type\":\"CDSView\"}},\"id\":\"1602\",\"type\":\"GlyphRenderer\"},{\"attributes\":{},\"id\":\"1673\",\"type\":\"BasicTickFormatter\"}],\"root_ids\":[\"1559\"]},\"title\":\"Bokeh Application\",\"version\":\"1.2.0\"}};\n",
       "  var render_items = [{\"docid\":\"154f2bde-f14f-4ee6-b478-52e410b950c0\",\"roots\":{\"1559\":\"d2b5c66d-e9f1-4e12-84a0-a8bdf5c916a6\"}}];\n",
       "  root.Bokeh.embed.embed_items_notebook(docs_json, render_items);\n",
       "\n",
       "  }\n",
       "  if (root.Bokeh !== undefined) {\n",
       "    embed_document(root);\n",
       "  } else {\n",
       "    var attempts = 0;\n",
       "    var timer = setInterval(function(root) {\n",
       "      if (root.Bokeh !== undefined) {\n",
       "        embed_document(root);\n",
       "        clearInterval(timer);\n",
       "      }\n",
       "      attempts++;\n",
       "      if (attempts > 100) {\n",
       "        console.log(\"Bokeh: ERROR: Unable to run BokehJS code because BokehJS library is missing\");\n",
       "        clearInterval(timer);\n",
       "      }\n",
       "    }, 10, root)\n",
       "  }\n",
       "})(window);"
      ],
      "application/vnd.bokehjs_exec.v0+json": ""
     },
     "metadata": {
      "application/vnd.bokehjs_exec.v0+json": {
       "id": "1559"
      }
     },
     "output_type": "display_data"
    }
   ],
   "source": [
    "p = hl.plot.scatter(filter_central_mt.scores[0],\n",
    "                    filter_central_mt.scores[1],\n",
    "                    label=hl.str(filter_central_mt.birthplace),\n",
    "                    title='PCA', xlabel='PC1', ylabel='PC2')\n",
    "p.plot_width = 800\n",
    "p.plot_height = 600\n",
    "show(p)"
   ]
  },
  {
   "cell_type": "code",
   "execution_count": null,
   "metadata": {},
   "outputs": [],
   "source": []
  }
 ],
 "metadata": {
  "kernelspec": {
   "display_name": "Python [conda env:fargen-1-exome]",
   "language": "python",
   "name": "conda-env-fargen-1-exome-py"
  },
  "language_info": {
   "codemirror_mode": {
    "name": "ipython",
    "version": 3
   },
   "file_extension": ".py",
   "mimetype": "text/x-python",
   "name": "python",
   "nbconvert_exporter": "python",
   "pygments_lexer": "ipython3",
   "version": "3.7.10"
  }
 },
 "nbformat": 4,
 "nbformat_minor": 4
}
