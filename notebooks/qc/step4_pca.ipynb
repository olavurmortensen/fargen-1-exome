{
 "cells": [
  {
   "cell_type": "markdown",
   "metadata": {},
   "source": [
    "# Population structure - PCA of the FarGen cohort"
   ]
  },
  {
   "cell_type": "code",
   "execution_count": 1,
   "metadata": {},
   "outputs": [
    {
     "name": "stdout",
     "output_type": "stream",
     "text": [
      "2021-09-28 10:28:16 WARN  NativeCodeLoader:62 - Unable to load native-hadoop library for your platform... using builtin-java classes where applicable\n"
     ]
    },
    {
     "name": "stderr",
     "output_type": "stream",
     "text": [
      "Setting default log level to \"WARN\".\n",
      "To adjust logging level use sc.setLogLevel(newLevel). For SparkR, use setLogLevel(newLevel).\n"
     ]
    },
    {
     "name": "stdout",
     "output_type": "stream",
     "text": [
      "2021-09-28 10:28:17 WARN  Hail:37 - This Hail JAR was compiled for Spark 2.4.5, running with Spark 2.4.1.\n",
      "  Compatibility is not guaranteed.\n",
      "2021-09-28 10:28:18 WARN  Utils:66 - Service 'SparkUI' could not bind on port 4040. Attempting port 4041.\n",
      "2021-09-28 10:28:18 WARN  Utils:66 - Service 'SparkUI' could not bind on port 4041. Attempting port 4042.\n",
      "2021-09-28 10:28:18 WARN  Utils:66 - Service 'SparkUI' could not bind on port 4042. Attempting port 4043.\n"
     ]
    },
    {
     "name": "stderr",
     "output_type": "stream",
     "text": [
      "Running on Apache Spark version 2.4.1\n",
      "SparkUI available at http://hms-beagle-848846b477-8tkk6:4043\n",
      "Welcome to\n",
      "     __  __     <>__\n",
      "    / /_/ /__  __/ /\n",
      "   / __  / _ `/ / /\n",
      "  /_/ /_/\\_,_/_/_/   version 0.2.61-3c86d3ba497a\n",
      "LOGGING: writing to /home/olavur/experiments/2020-11-13_fargen1_exome_analysis/fargen-1-exome/notebooks/qc/hail-20210928-1028-0.2.61-3c86d3ba497a.log\n"
     ]
    }
   ],
   "source": [
    "import hail as hl\n",
    "hl.init(spark_conf={'spark.driver.memory': '100g'}, tmp_dir='/home/olavur/tmp')"
   ]
  },
  {
   "cell_type": "code",
   "execution_count": 2,
   "metadata": {},
   "outputs": [
    {
     "data": {
      "text/html": [
       "\n",
       "    <div class=\"bk-root\">\n",
       "        <a href=\"https://bokeh.pydata.org\" target=\"_blank\" class=\"bk-logo bk-logo-small bk-logo-notebook\"></a>\n",
       "        <span id=\"1001\">Loading BokehJS ...</span>\n",
       "    </div>"
      ]
     },
     "metadata": {},
     "output_type": "display_data"
    },
    {
     "data": {
      "application/javascript": [
       "\n",
       "(function(root) {\n",
       "  function now() {\n",
       "    return new Date();\n",
       "  }\n",
       "\n",
       "  var force = true;\n",
       "\n",
       "  if (typeof root._bokeh_onload_callbacks === \"undefined\" || force === true) {\n",
       "    root._bokeh_onload_callbacks = [];\n",
       "    root._bokeh_is_loading = undefined;\n",
       "  }\n",
       "\n",
       "  var JS_MIME_TYPE = 'application/javascript';\n",
       "  var HTML_MIME_TYPE = 'text/html';\n",
       "  var EXEC_MIME_TYPE = 'application/vnd.bokehjs_exec.v0+json';\n",
       "  var CLASS_NAME = 'output_bokeh rendered_html';\n",
       "\n",
       "  /**\n",
       "   * Render data to the DOM node\n",
       "   */\n",
       "  function render(props, node) {\n",
       "    var script = document.createElement(\"script\");\n",
       "    node.appendChild(script);\n",
       "  }\n",
       "\n",
       "  /**\n",
       "   * Handle when an output is cleared or removed\n",
       "   */\n",
       "  function handleClearOutput(event, handle) {\n",
       "    var cell = handle.cell;\n",
       "\n",
       "    var id = cell.output_area._bokeh_element_id;\n",
       "    var server_id = cell.output_area._bokeh_server_id;\n",
       "    // Clean up Bokeh references\n",
       "    if (id != null && id in Bokeh.index) {\n",
       "      Bokeh.index[id].model.document.clear();\n",
       "      delete Bokeh.index[id];\n",
       "    }\n",
       "\n",
       "    if (server_id !== undefined) {\n",
       "      // Clean up Bokeh references\n",
       "      var cmd = \"from bokeh.io.state import curstate; print(curstate().uuid_to_server['\" + server_id + \"'].get_sessions()[0].document.roots[0]._id)\";\n",
       "      cell.notebook.kernel.execute(cmd, {\n",
       "        iopub: {\n",
       "          output: function(msg) {\n",
       "            var id = msg.content.text.trim();\n",
       "            if (id in Bokeh.index) {\n",
       "              Bokeh.index[id].model.document.clear();\n",
       "              delete Bokeh.index[id];\n",
       "            }\n",
       "          }\n",
       "        }\n",
       "      });\n",
       "      // Destroy server and session\n",
       "      var cmd = \"import bokeh.io.notebook as ion; ion.destroy_server('\" + server_id + \"')\";\n",
       "      cell.notebook.kernel.execute(cmd);\n",
       "    }\n",
       "  }\n",
       "\n",
       "  /**\n",
       "   * Handle when a new output is added\n",
       "   */\n",
       "  function handleAddOutput(event, handle) {\n",
       "    var output_area = handle.output_area;\n",
       "    var output = handle.output;\n",
       "\n",
       "    // limit handleAddOutput to display_data with EXEC_MIME_TYPE content only\n",
       "    if ((output.output_type != \"display_data\") || (!output.data.hasOwnProperty(EXEC_MIME_TYPE))) {\n",
       "      return\n",
       "    }\n",
       "\n",
       "    var toinsert = output_area.element.find(\".\" + CLASS_NAME.split(' ')[0]);\n",
       "\n",
       "    if (output.metadata[EXEC_MIME_TYPE][\"id\"] !== undefined) {\n",
       "      toinsert[toinsert.length - 1].firstChild.textContent = output.data[JS_MIME_TYPE];\n",
       "      // store reference to embed id on output_area\n",
       "      output_area._bokeh_element_id = output.metadata[EXEC_MIME_TYPE][\"id\"];\n",
       "    }\n",
       "    if (output.metadata[EXEC_MIME_TYPE][\"server_id\"] !== undefined) {\n",
       "      var bk_div = document.createElement(\"div\");\n",
       "      bk_div.innerHTML = output.data[HTML_MIME_TYPE];\n",
       "      var script_attrs = bk_div.children[0].attributes;\n",
       "      for (var i = 0; i < script_attrs.length; i++) {\n",
       "        toinsert[toinsert.length - 1].firstChild.setAttribute(script_attrs[i].name, script_attrs[i].value);\n",
       "      }\n",
       "      // store reference to server id on output_area\n",
       "      output_area._bokeh_server_id = output.metadata[EXEC_MIME_TYPE][\"server_id\"];\n",
       "    }\n",
       "  }\n",
       "\n",
       "  function register_renderer(events, OutputArea) {\n",
       "\n",
       "    function append_mime(data, metadata, element) {\n",
       "      // create a DOM node to render to\n",
       "      var toinsert = this.create_output_subarea(\n",
       "        metadata,\n",
       "        CLASS_NAME,\n",
       "        EXEC_MIME_TYPE\n",
       "      );\n",
       "      this.keyboard_manager.register_events(toinsert);\n",
       "      // Render to node\n",
       "      var props = {data: data, metadata: metadata[EXEC_MIME_TYPE]};\n",
       "      render(props, toinsert[toinsert.length - 1]);\n",
       "      element.append(toinsert);\n",
       "      return toinsert\n",
       "    }\n",
       "\n",
       "    /* Handle when an output is cleared or removed */\n",
       "    events.on('clear_output.CodeCell', handleClearOutput);\n",
       "    events.on('delete.Cell', handleClearOutput);\n",
       "\n",
       "    /* Handle when a new output is added */\n",
       "    events.on('output_added.OutputArea', handleAddOutput);\n",
       "\n",
       "    /**\n",
       "     * Register the mime type and append_mime function with output_area\n",
       "     */\n",
       "    OutputArea.prototype.register_mime_type(EXEC_MIME_TYPE, append_mime, {\n",
       "      /* Is output safe? */\n",
       "      safe: true,\n",
       "      /* Index of renderer in `output_area.display_order` */\n",
       "      index: 0\n",
       "    });\n",
       "  }\n",
       "\n",
       "  // register the mime type if in Jupyter Notebook environment and previously unregistered\n",
       "  if (root.Jupyter !== undefined) {\n",
       "    var events = require('base/js/events');\n",
       "    var OutputArea = require('notebook/js/outputarea').OutputArea;\n",
       "\n",
       "    if (OutputArea.prototype.mime_types().indexOf(EXEC_MIME_TYPE) == -1) {\n",
       "      register_renderer(events, OutputArea);\n",
       "    }\n",
       "  }\n",
       "\n",
       "  \n",
       "  if (typeof (root._bokeh_timeout) === \"undefined\" || force === true) {\n",
       "    root._bokeh_timeout = Date.now() + 5000;\n",
       "    root._bokeh_failed_load = false;\n",
       "  }\n",
       "\n",
       "  var NB_LOAD_WARNING = {'data': {'text/html':\n",
       "     \"<div style='background-color: #fdd'>\\n\"+\n",
       "     \"<p>\\n\"+\n",
       "     \"BokehJS does not appear to have successfully loaded. If loading BokehJS from CDN, this \\n\"+\n",
       "     \"may be due to a slow or bad network connection. Possible fixes:\\n\"+\n",
       "     \"</p>\\n\"+\n",
       "     \"<ul>\\n\"+\n",
       "     \"<li>re-rerun `output_notebook()` to attempt to load from CDN again, or</li>\\n\"+\n",
       "     \"<li>use INLINE resources instead, as so:</li>\\n\"+\n",
       "     \"</ul>\\n\"+\n",
       "     \"<code>\\n\"+\n",
       "     \"from bokeh.resources import INLINE\\n\"+\n",
       "     \"output_notebook(resources=INLINE)\\n\"+\n",
       "     \"</code>\\n\"+\n",
       "     \"</div>\"}};\n",
       "\n",
       "  function display_loaded() {\n",
       "    var el = document.getElementById(\"1001\");\n",
       "    if (el != null) {\n",
       "      el.textContent = \"BokehJS is loading...\";\n",
       "    }\n",
       "    if (root.Bokeh !== undefined) {\n",
       "      if (el != null) {\n",
       "        el.textContent = \"BokehJS \" + root.Bokeh.version + \" successfully loaded.\";\n",
       "      }\n",
       "    } else if (Date.now() < root._bokeh_timeout) {\n",
       "      setTimeout(display_loaded, 100)\n",
       "    }\n",
       "  }\n",
       "\n",
       "\n",
       "  function run_callbacks() {\n",
       "    try {\n",
       "      root._bokeh_onload_callbacks.forEach(function(callback) {\n",
       "        if (callback != null)\n",
       "          callback();\n",
       "      });\n",
       "    } finally {\n",
       "      delete root._bokeh_onload_callbacks\n",
       "    }\n",
       "    console.debug(\"Bokeh: all callbacks have finished\");\n",
       "  }\n",
       "\n",
       "  function load_libs(css_urls, js_urls, callback) {\n",
       "    if (css_urls == null) css_urls = [];\n",
       "    if (js_urls == null) js_urls = [];\n",
       "\n",
       "    root._bokeh_onload_callbacks.push(callback);\n",
       "    if (root._bokeh_is_loading > 0) {\n",
       "      console.debug(\"Bokeh: BokehJS is being loaded, scheduling callback at\", now());\n",
       "      return null;\n",
       "    }\n",
       "    if (js_urls == null || js_urls.length === 0) {\n",
       "      run_callbacks();\n",
       "      return null;\n",
       "    }\n",
       "    console.debug(\"Bokeh: BokehJS not loaded, scheduling load and callback at\", now());\n",
       "    root._bokeh_is_loading = css_urls.length + js_urls.length;\n",
       "\n",
       "    function on_load() {\n",
       "      root._bokeh_is_loading--;\n",
       "      if (root._bokeh_is_loading === 0) {\n",
       "        console.debug(\"Bokeh: all BokehJS libraries/stylesheets loaded\");\n",
       "        run_callbacks()\n",
       "      }\n",
       "    }\n",
       "\n",
       "    function on_error() {\n",
       "      console.error(\"failed to load \" + url);\n",
       "    }\n",
       "\n",
       "    for (var i = 0; i < css_urls.length; i++) {\n",
       "      var url = css_urls[i];\n",
       "      const element = document.createElement(\"link\");\n",
       "      element.onload = on_load;\n",
       "      element.onerror = on_error;\n",
       "      element.rel = \"stylesheet\";\n",
       "      element.type = \"text/css\";\n",
       "      element.href = url;\n",
       "      console.debug(\"Bokeh: injecting link tag for BokehJS stylesheet: \", url);\n",
       "      document.body.appendChild(element);\n",
       "    }\n",
       "\n",
       "    for (var i = 0; i < js_urls.length; i++) {\n",
       "      var url = js_urls[i];\n",
       "      var element = document.createElement('script');\n",
       "      element.onload = on_load;\n",
       "      element.onerror = on_error;\n",
       "      element.async = false;\n",
       "      element.src = url;\n",
       "      console.debug(\"Bokeh: injecting script tag for BokehJS library: \", url);\n",
       "      document.head.appendChild(element);\n",
       "    }\n",
       "  };var element = document.getElementById(\"1001\");\n",
       "  if (element == null) {\n",
       "    console.error(\"Bokeh: ERROR: autoload.js configured with elementid '1001' but no matching script tag was found. \")\n",
       "    return false;\n",
       "  }\n",
       "\n",
       "  function inject_raw_css(css) {\n",
       "    const element = document.createElement(\"style\");\n",
       "    element.appendChild(document.createTextNode(css));\n",
       "    document.body.appendChild(element);\n",
       "  }\n",
       "\n",
       "  var js_urls = [\"https://cdn.pydata.org/bokeh/release/bokeh-1.2.0.min.js\", \"https://cdn.pydata.org/bokeh/release/bokeh-widgets-1.2.0.min.js\", \"https://cdn.pydata.org/bokeh/release/bokeh-tables-1.2.0.min.js\", \"https://cdn.pydata.org/bokeh/release/bokeh-gl-1.2.0.min.js\"];\n",
       "  var css_urls = [\"https://cdn.pydata.org/bokeh/release/bokeh-1.2.0.min.css\", \"https://cdn.pydata.org/bokeh/release/bokeh-widgets-1.2.0.min.css\", \"https://cdn.pydata.org/bokeh/release/bokeh-tables-1.2.0.min.css\"];\n",
       "\n",
       "  var inline_js = [\n",
       "    function(Bokeh) {\n",
       "      Bokeh.set_log_level(\"info\");\n",
       "    },\n",
       "    \n",
       "    function(Bokeh) {\n",
       "      \n",
       "    },\n",
       "    function(Bokeh) {} // ensure no trailing comma for IE\n",
       "  ];\n",
       "\n",
       "  function run_inline_js() {\n",
       "    \n",
       "    if ((root.Bokeh !== undefined) || (force === true)) {\n",
       "      for (var i = 0; i < inline_js.length; i++) {\n",
       "        inline_js[i].call(root, root.Bokeh);\n",
       "      }if (force === true) {\n",
       "        display_loaded();\n",
       "      }} else if (Date.now() < root._bokeh_timeout) {\n",
       "      setTimeout(run_inline_js, 100);\n",
       "    } else if (!root._bokeh_failed_load) {\n",
       "      console.log(\"Bokeh: BokehJS failed to load within specified timeout.\");\n",
       "      root._bokeh_failed_load = true;\n",
       "    } else if (force !== true) {\n",
       "      var cell = $(document.getElementById(\"1001\")).parents('.cell').data().cell;\n",
       "      cell.output_area.append_execute_result(NB_LOAD_WARNING)\n",
       "    }\n",
       "\n",
       "  }\n",
       "\n",
       "  if (root._bokeh_is_loading === 0) {\n",
       "    console.debug(\"Bokeh: BokehJS loaded, going straight to plotting\");\n",
       "    run_inline_js();\n",
       "  } else {\n",
       "    load_libs(css_urls, js_urls, function() {\n",
       "      console.debug(\"Bokeh: BokehJS plotting callback run at\", now());\n",
       "      run_inline_js();\n",
       "    });\n",
       "  }\n",
       "}(window));"
      ],
      "application/vnd.bokehjs_load.v0+json": "\n(function(root) {\n  function now() {\n    return new Date();\n  }\n\n  var force = true;\n\n  if (typeof root._bokeh_onload_callbacks === \"undefined\" || force === true) {\n    root._bokeh_onload_callbacks = [];\n    root._bokeh_is_loading = undefined;\n  }\n\n  \n\n  \n  if (typeof (root._bokeh_timeout) === \"undefined\" || force === true) {\n    root._bokeh_timeout = Date.now() + 5000;\n    root._bokeh_failed_load = false;\n  }\n\n  var NB_LOAD_WARNING = {'data': {'text/html':\n     \"<div style='background-color: #fdd'>\\n\"+\n     \"<p>\\n\"+\n     \"BokehJS does not appear to have successfully loaded. If loading BokehJS from CDN, this \\n\"+\n     \"may be due to a slow or bad network connection. Possible fixes:\\n\"+\n     \"</p>\\n\"+\n     \"<ul>\\n\"+\n     \"<li>re-rerun `output_notebook()` to attempt to load from CDN again, or</li>\\n\"+\n     \"<li>use INLINE resources instead, as so:</li>\\n\"+\n     \"</ul>\\n\"+\n     \"<code>\\n\"+\n     \"from bokeh.resources import INLINE\\n\"+\n     \"output_notebook(resources=INLINE)\\n\"+\n     \"</code>\\n\"+\n     \"</div>\"}};\n\n  function display_loaded() {\n    var el = document.getElementById(\"1001\");\n    if (el != null) {\n      el.textContent = \"BokehJS is loading...\";\n    }\n    if (root.Bokeh !== undefined) {\n      if (el != null) {\n        el.textContent = \"BokehJS \" + root.Bokeh.version + \" successfully loaded.\";\n      }\n    } else if (Date.now() < root._bokeh_timeout) {\n      setTimeout(display_loaded, 100)\n    }\n  }\n\n\n  function run_callbacks() {\n    try {\n      root._bokeh_onload_callbacks.forEach(function(callback) {\n        if (callback != null)\n          callback();\n      });\n    } finally {\n      delete root._bokeh_onload_callbacks\n    }\n    console.debug(\"Bokeh: all callbacks have finished\");\n  }\n\n  function load_libs(css_urls, js_urls, callback) {\n    if (css_urls == null) css_urls = [];\n    if (js_urls == null) js_urls = [];\n\n    root._bokeh_onload_callbacks.push(callback);\n    if (root._bokeh_is_loading > 0) {\n      console.debug(\"Bokeh: BokehJS is being loaded, scheduling callback at\", now());\n      return null;\n    }\n    if (js_urls == null || js_urls.length === 0) {\n      run_callbacks();\n      return null;\n    }\n    console.debug(\"Bokeh: BokehJS not loaded, scheduling load and callback at\", now());\n    root._bokeh_is_loading = css_urls.length + js_urls.length;\n\n    function on_load() {\n      root._bokeh_is_loading--;\n      if (root._bokeh_is_loading === 0) {\n        console.debug(\"Bokeh: all BokehJS libraries/stylesheets loaded\");\n        run_callbacks()\n      }\n    }\n\n    function on_error() {\n      console.error(\"failed to load \" + url);\n    }\n\n    for (var i = 0; i < css_urls.length; i++) {\n      var url = css_urls[i];\n      const element = document.createElement(\"link\");\n      element.onload = on_load;\n      element.onerror = on_error;\n      element.rel = \"stylesheet\";\n      element.type = \"text/css\";\n      element.href = url;\n      console.debug(\"Bokeh: injecting link tag for BokehJS stylesheet: \", url);\n      document.body.appendChild(element);\n    }\n\n    for (var i = 0; i < js_urls.length; i++) {\n      var url = js_urls[i];\n      var element = document.createElement('script');\n      element.onload = on_load;\n      element.onerror = on_error;\n      element.async = false;\n      element.src = url;\n      console.debug(\"Bokeh: injecting script tag for BokehJS library: \", url);\n      document.head.appendChild(element);\n    }\n  };var element = document.getElementById(\"1001\");\n  if (element == null) {\n    console.error(\"Bokeh: ERROR: autoload.js configured with elementid '1001' but no matching script tag was found. \")\n    return false;\n  }\n\n  function inject_raw_css(css) {\n    const element = document.createElement(\"style\");\n    element.appendChild(document.createTextNode(css));\n    document.body.appendChild(element);\n  }\n\n  var js_urls = [\"https://cdn.pydata.org/bokeh/release/bokeh-1.2.0.min.js\", \"https://cdn.pydata.org/bokeh/release/bokeh-widgets-1.2.0.min.js\", \"https://cdn.pydata.org/bokeh/release/bokeh-tables-1.2.0.min.js\", \"https://cdn.pydata.org/bokeh/release/bokeh-gl-1.2.0.min.js\"];\n  var css_urls = [\"https://cdn.pydata.org/bokeh/release/bokeh-1.2.0.min.css\", \"https://cdn.pydata.org/bokeh/release/bokeh-widgets-1.2.0.min.css\", \"https://cdn.pydata.org/bokeh/release/bokeh-tables-1.2.0.min.css\"];\n\n  var inline_js = [\n    function(Bokeh) {\n      Bokeh.set_log_level(\"info\");\n    },\n    \n    function(Bokeh) {\n      \n    },\n    function(Bokeh) {} // ensure no trailing comma for IE\n  ];\n\n  function run_inline_js() {\n    \n    if ((root.Bokeh !== undefined) || (force === true)) {\n      for (var i = 0; i < inline_js.length; i++) {\n        inline_js[i].call(root, root.Bokeh);\n      }if (force === true) {\n        display_loaded();\n      }} else if (Date.now() < root._bokeh_timeout) {\n      setTimeout(run_inline_js, 100);\n    } else if (!root._bokeh_failed_load) {\n      console.log(\"Bokeh: BokehJS failed to load within specified timeout.\");\n      root._bokeh_failed_load = true;\n    } else if (force !== true) {\n      var cell = $(document.getElementById(\"1001\")).parents('.cell').data().cell;\n      cell.output_area.append_execute_result(NB_LOAD_WARNING)\n    }\n\n  }\n\n  if (root._bokeh_is_loading === 0) {\n    console.debug(\"Bokeh: BokehJS loaded, going straight to plotting\");\n    run_inline_js();\n  } else {\n    load_libs(css_urls, js_urls, function() {\n      console.debug(\"Bokeh: BokehJS plotting callback run at\", now());\n      run_inline_js();\n    });\n  }\n}(window));"
     },
     "metadata": {},
     "output_type": "display_data"
    }
   ],
   "source": [
    "from bokeh.io import show, output_notebook\n",
    "from bokeh.layouts import gridplot\n",
    "from bokeh.models.scales import LogScale\n",
    "output_notebook()"
   ]
  },
  {
   "cell_type": "code",
   "execution_count": 3,
   "metadata": {},
   "outputs": [],
   "source": [
    "import pandas as pd"
   ]
  },
  {
   "cell_type": "markdown",
   "metadata": {},
   "source": [
    "## Load FarGen data\n",
    "\n",
    "Use high-quality variants."
   ]
  },
  {
   "cell_type": "code",
   "execution_count": 12,
   "metadata": {},
   "outputs": [],
   "source": [
    "BASE_DIR = '/home/olavur/experiments/2020-11-13_fargen1_exome_analysis'\n",
    "mt = hl.read_matrix_table(BASE_DIR + '/data/mt/high_quality_variants.mt')"
   ]
  },
  {
   "cell_type": "code",
   "execution_count": 13,
   "metadata": {},
   "outputs": [
    {
     "name": "stdout",
     "output_type": "stream",
     "text": [
      "Number of variants: 86300\n",
      "Number of samples: 468\n"
     ]
    }
   ],
   "source": [
    "n_variants, n_samples = mt.count()\n",
    "print('Number of variants: ' + str(n_variants))\n",
    "print('Number of samples: ' + str(n_samples))"
   ]
  },
  {
   "cell_type": "markdown",
   "metadata": {},
   "source": [
    "## Population filters\n",
    "\n",
    "To filter rare variants, we first must calculate the minor allele frequency."
   ]
  },
  {
   "cell_type": "code",
   "execution_count": 14,
   "metadata": {},
   "outputs": [],
   "source": [
    "# The number of alleles at the site is the sum of the ploidy at each site.\n",
    "# This number should be twice the number of samples.\n",
    "# If there are missing genotype calls, the number of alleles will be less.\n",
    "AN_exprs = hl.agg.sum(mt.GT.ploidy)\n",
    "mt = mt.annotate_rows(AN=AN_exprs)\n",
    "\n",
    "# Calculate the number of alternate alleles at each site.\n",
    "AC_exprs = hl.agg.sum(mt.GT.n_alt_alleles())\n",
    "mt = mt.annotate_rows(AC=AC_exprs)\n",
    "\n",
    "# Calculate the alternate allele frequency.\n",
    "mt = mt.annotate_rows(AF=mt.AC / mt.AN)"
   ]
  },
  {
   "cell_type": "markdown",
   "metadata": {},
   "source": [
    "Remove variants with minor allele frequency under 0.01. Note that we remove only very rare variants, because common variants can be insufficient to describe fine-scale population structure at a subpopulation scale."
   ]
  },
  {
   "cell_type": "code",
   "execution_count": 15,
   "metadata": {},
   "outputs": [],
   "source": [
    "maf_filter = 0.01\n",
    "mt = mt.filter_rows((mt.AF > maf_filter) & (mt.AF < (1 - maf_filter)))"
   ]
  },
  {
   "cell_type": "markdown",
   "metadata": {},
   "source": [
    "## Filter indels\n",
    "\n",
    "Remove all indels from the dataset."
   ]
  },
  {
   "cell_type": "code",
   "execution_count": 16,
   "metadata": {},
   "outputs": [],
   "source": [
    "mt = mt.filter_rows(hl.is_snp(mt.alleles[0], mt.alleles[1]))"
   ]
  },
  {
   "cell_type": "markdown",
   "metadata": {},
   "source": [
    "## LD pruning\n",
    "\n",
    "Before we calculate LD, we remove multi-allelic sites.\n",
    "\n",
    "**NOTE:** I can do LD pruning on multi-allelic sites using [split_multi()](https://hail.is/docs/0.2/methods/genetics.html#hail.methods.split_multi)."
   ]
  },
  {
   "cell_type": "code",
   "execution_count": 17,
   "metadata": {},
   "outputs": [],
   "source": [
    "mt = mt.filter_rows(hl.len(mt.alleles) == 2)"
   ]
  },
  {
   "cell_type": "markdown",
   "metadata": {},
   "source": [
    "Prune variants with $r^2 > 0.2$ within a 500 000 basepair window.\n",
    "\n",
    "**NOTE:** this $r^2$ value is quite arbitrary. It is the default from the Hail method and I did not try other values."
   ]
  },
  {
   "cell_type": "code",
   "execution_count": 18,
   "metadata": {},
   "outputs": [
    {
     "name": "stderr",
     "output_type": "stream",
     "text": [
      "2021-09-28 10:29:19 Hail: INFO: ld_prune: running local pruning stage with max queue size of 401850 variants\n",
      "[Stage 1:===================================================>       (7 + 1) / 8]2021-09-28 10:29:21 Hail: INFO: wrote table with 21318 rows in 8 partitions to /home/olavur/tmp/YXRXzYh4j7kwaCVIMeGmTY\n",
      "    Total size: 681.02 KiB\n",
      "    * Rows: 681.01 KiB\n",
      "    * Globals: 11.00 B\n",
      "    * Smallest partition: 2347 rows (75.35 KiB)\n",
      "    * Largest partition:  2907 rows (92.71 KiB)\n",
      "[Stage 3:=================================================>         (5 + 1) / 6]2021-09-28 10:29:28 Hail: INFO: Wrote all 6 blocks of 21318 x 468 matrix with block size 4096.\n",
      "[Stage 7:===============================================>          (9 + 2) / 11]2021-09-28 10:30:02 Hail: INFO: wrote table with 6 rows in 11 partitions to /home/olavur/tmp/maHwwR6t6Ig2QznnhGX8jE\n",
      "    Total size: 294.85 KiB\n",
      "    * Rows: 445.00 B\n",
      "    * Globals: 294.41 KiB\n",
      "    * Smallest partition: 0 rows (21.00 B)\n",
      "    * Largest partition:  2 rows (81.00 B)\n"
     ]
    }
   ],
   "source": [
    "pruned_variant_table = hl.ld_prune(mt.GT, r2=0.2, bp_window_size=500000)\n",
    "mt = mt.filter_rows(hl.is_defined(pruned_variant_table[mt.row_key]))"
   ]
  },
  {
   "cell_type": "markdown",
   "metadata": {},
   "source": [
    "Make a checkpoint, caching all operations done on the matrix table."
   ]
  },
  {
   "cell_type": "code",
   "execution_count": 20,
   "metadata": {},
   "outputs": [
    {
     "name": "stderr",
     "output_type": "stream",
     "text": [
      "[Stage 11:==================================================>       (7 + 1) / 8]2021-09-28 10:30:54 Hail: INFO: wrote matrix table with 21312 rows and 468 columns in 8 partitions to /home/olavur/tmp/ld_pruned.ht\n",
      "    Total size: 155.30 MiB\n",
      "    * Rows/entries: 155.25 MiB\n",
      "    * Columns: 52.00 KiB\n",
      "    * Globals: 11.00 B\n",
      "    * Smallest partition: 2345 rows (17.00 MiB)\n",
      "    * Largest partition:  2905 rows (21.10 MiB)\n"
     ]
    }
   ],
   "source": [
    "if True:\n",
    "    mt = mt.checkpoint('/home/olavur/tmp/ld_pruned.ht')\n",
    "else:\n",
    "    mt = hl.read_matrix_table('/home/olavur/tmp/ld_pruned.ht')"
   ]
  },
  {
   "cell_type": "code",
   "execution_count": 21,
   "metadata": {},
   "outputs": [
    {
     "name": "stdout",
     "output_type": "stream",
     "text": [
      "Number of variants: 21312\n",
      "Number of samples: 468\n"
     ]
    }
   ],
   "source": [
    "n_variants, n_samples = mt.count()\n",
    "print('Number of variants: ' + str(n_variants))\n",
    "print('Number of samples: ' + str(n_samples))"
   ]
  },
  {
   "cell_type": "markdown",
   "metadata": {},
   "source": [
    "This may be a lot of variants to run a PCA analysis on, but as mentioned previously, we do not want to remove too many rare variants as these can hold a lot of information about fine-scale population structure."
   ]
  },
  {
   "cell_type": "markdown",
   "metadata": {},
   "source": [
    "## Annotate birth place region\n",
    "\n",
    "Import data containing the birthplace ID of all FarGen participants. We will annotate the matrix table with these IDs.\n",
    "\n",
    "First we read a table containing the birthplace but with the 'RIN' participant ID. We will have to map this 'RIN' ID to an 'FN' ID."
   ]
  },
  {
   "cell_type": "code",
   "execution_count": 22,
   "metadata": {},
   "outputs": [
    {
     "name": "stderr",
     "output_type": "stream",
     "text": [
      "2021-09-28 10:31:01 Hail: INFO: Reading table without type imputation\n",
      "  Loading field 'ind' as type str (not specified)\n",
      "  Loading field 'region' as type str (not specified)\n"
     ]
    }
   ],
   "source": [
    "rin_birthplace_ht = hl.import_table(BASE_DIR + '/data/metadata/birthplace/rin_region.csv', delimiter=',')\n",
    "# Rename \"ind\" to \"rin\".\n",
    "# Convert the region variable to float.\n",
    "rin_birthplace_ht = rin_birthplace_ht.transmute(rin=rin_birthplace_ht.ind, birthplace=hl.float64(rin_birthplace_ht.region))\n",
    "\n",
    "rin_birthplace_ht = rin_birthplace_ht.key_by(rin_birthplace_ht.rin)"
   ]
  },
  {
   "cell_type": "markdown",
   "metadata": {},
   "source": [
    "Import table with 'RIN' IDs and corresponding 'FN' IDs."
   ]
  },
  {
   "cell_type": "code",
   "execution_count": 23,
   "metadata": {},
   "outputs": [
    {
     "name": "stderr",
     "output_type": "stream",
     "text": [
      "2021-09-28 10:31:01 Hail: WARN: Name collision: field 'sample' already in object dict. \n",
      "  This field must be referenced with __getitem__ syntax: obj['sample']\n",
      "2021-09-28 10:31:01 Hail: INFO: Reading table without type imputation\n",
      "  Loading field 'rin' as type str (not specified)\n",
      "  Loading field 'sample' as type str (not specified)\n"
     ]
    }
   ],
   "source": [
    "fargen_rin_ht = hl.import_table(BASE_DIR + '/data/metadata/birthplace/fargen_rin_samplename.csv', delimiter=',')\n",
    "fargen_rin_ht = fargen_rin_ht.key_by(fargen_rin_ht.rin)"
   ]
  },
  {
   "cell_type": "markdown",
   "metadata": {},
   "source": [
    "Make a table with 'RIN', 'FN' and birthplace."
   ]
  },
  {
   "cell_type": "code",
   "execution_count": 24,
   "metadata": {},
   "outputs": [],
   "source": [
    "# Annotate the table with the birthplace by the samplenames.\n",
    "samplename_birthplace_ht = rin_birthplace_ht.annotate(samplename=fargen_rin_ht[rin_birthplace_ht.rin].sample)\n",
    "samplename_birthplace_ht = samplename_birthplace_ht.key_by(samplename_birthplace_ht.samplename)"
   ]
  },
  {
   "cell_type": "markdown",
   "metadata": {},
   "source": [
    "Finally, we an annotate the matrix table with birthplace of samples."
   ]
  },
  {
   "cell_type": "code",
   "execution_count": 25,
   "metadata": {},
   "outputs": [],
   "source": [
    "mt = mt.annotate_cols(birthplace = samplename_birthplace_ht[mt.s].birthplace)"
   ]
  },
  {
   "cell_type": "markdown",
   "metadata": {},
   "source": [
    "Count the number of samples in each region. Note that `birthplace=6` means that we do not know the birthplace of the sample."
   ]
  },
  {
   "cell_type": "code",
   "execution_count": 26,
   "metadata": {},
   "outputs": [
    {
     "name": "stderr",
     "output_type": "stream",
     "text": [
      "2021-09-28 10:31:01 Hail: WARN: cols(): Resulting column table is sorted by 'col_key'.\n",
      "    To preserve matrix table column order, first unkey columns with 'key_cols_by()'\n",
      "2021-09-28 10:31:01 Hail: WARN: Name collision: field 'count' already in object dict. \n",
      "  This field must be referenced with __getitem__ syntax: obj['count']\n",
      "2021-09-28 10:31:02 Hail: INFO: Ordering unsorted dataset with network shuffle\n",
      "2021-09-28 10:31:02 Hail: INFO: Ordering unsorted dataset with network shuffle\n",
      "[Stage 16:>                                                         (0 + 1) / 1]2021-09-28 10:31:05 Hail: INFO: Coerced sorted dataset\n",
      "2021-09-28 10:31:05 Hail: INFO: Coerced dataset with out-of-order partitions.\n",
      "[Stage 20:>                                                         (0 + 7) / 7]"
     ]
    },
    {
     "data": {
      "text/html": [
       "<div>\n",
       "<style scoped>\n",
       "    .dataframe tbody tr th:only-of-type {\n",
       "        vertical-align: middle;\n",
       "    }\n",
       "\n",
       "    .dataframe tbody tr th {\n",
       "        vertical-align: top;\n",
       "    }\n",
       "\n",
       "    .dataframe thead th {\n",
       "        text-align: right;\n",
       "    }\n",
       "</style>\n",
       "<table border=\"1\" class=\"dataframe\">\n",
       "  <thead>\n",
       "    <tr style=\"text-align: right;\">\n",
       "      <th></th>\n",
       "      <th>birthplace</th>\n",
       "      <th>count</th>\n",
       "    </tr>\n",
       "  </thead>\n",
       "  <tbody>\n",
       "    <tr>\n",
       "      <th>0</th>\n",
       "      <td>1.0</td>\n",
       "      <td>69</td>\n",
       "    </tr>\n",
       "    <tr>\n",
       "      <th>1</th>\n",
       "      <td>2.0</td>\n",
       "      <td>99</td>\n",
       "    </tr>\n",
       "    <tr>\n",
       "      <th>2</th>\n",
       "      <td>3.0</td>\n",
       "      <td>177</td>\n",
       "    </tr>\n",
       "    <tr>\n",
       "      <th>3</th>\n",
       "      <td>4.0</td>\n",
       "      <td>28</td>\n",
       "    </tr>\n",
       "    <tr>\n",
       "      <th>4</th>\n",
       "      <td>5.0</td>\n",
       "      <td>17</td>\n",
       "    </tr>\n",
       "    <tr>\n",
       "      <th>5</th>\n",
       "      <td>6.0</td>\n",
       "      <td>34</td>\n",
       "    </tr>\n",
       "    <tr>\n",
       "      <th>6</th>\n",
       "      <td>NaN</td>\n",
       "      <td>44</td>\n",
       "    </tr>\n",
       "  </tbody>\n",
       "</table>\n",
       "</div>"
      ],
      "text/plain": [
       "   birthplace  count\n",
       "0         1.0     69\n",
       "1         2.0     99\n",
       "2         3.0    177\n",
       "3         4.0     28\n",
       "4         5.0     17\n",
       "5         6.0     34\n",
       "6         NaN     44"
      ]
     },
     "execution_count": 26,
     "metadata": {},
     "output_type": "execute_result"
    }
   ],
   "source": [
    "cols_ht = mt.cols()\n",
    "result = (cols_ht.group_by(cols_ht.birthplace)\n",
    "    .aggregate(count = hl.agg.count()))\n",
    "result.to_pandas()"
   ]
  },
  {
   "cell_type": "markdown",
   "metadata": {},
   "source": [
    "## Filter related individuals\n",
    "\n",
    "Estimate the relatedness between the samples by the PC-Relate method, with a minimum alternate allele frequency of 0.001."
   ]
  },
  {
   "cell_type": "code",
   "execution_count": 27,
   "metadata": {},
   "outputs": [
    {
     "name": "stderr",
     "output_type": "stream",
     "text": [
      "[Stage 21:>                                                         (0 + 8) / 8]2021-09-28 10:31:08 Hail: INFO: hwe_normalized_pca: running PCA using 21312 variants.\n",
      "[Stage 22:==============>                                           (2 + 6) / 8]2021-09-28 10:31:10 Hail: INFO: pca: running PCA with 2 components...\n",
      "[Stage 426:======================================>                  (4 + 2) / 6]2021-09-28 10:31:30 Hail: INFO: Wrote all 6 blocks of 21312 x 468 matrix with block size 4096.\n"
     ]
    }
   ],
   "source": [
    "pc_rel = hl.pc_relate(mt.GT, 0.001, k=2, statistics='kin')"
   ]
  },
  {
   "cell_type": "markdown",
   "metadata": {},
   "source": [
    "Plot all the relatedness coefficients in a histogram to get an overview."
   ]
  },
  {
   "cell_type": "code",
   "execution_count": 28,
   "metadata": {},
   "outputs": [
    {
     "name": "stderr",
     "output_type": "stream",
     "text": [
      "2021-09-28 10:31:31 Hail: INFO: wrote matrix with 3 rows and 21312 columns as 6 blocks of size 4096 to /home/olavur/tmp/pcrelate-write-read-WlIg9kPQtZOeabY7IiDdNF.bm\n",
      "2021-09-28 10:31:31 Hail: INFO: wrote matrix with 21312 rows and 468 columns as 6 blocks of size 4096 to /home/olavur/tmp/pcrelate-write-read-Vp2po5irnuBP3IVXgt1y1V.bm\n",
      "[Stage 429:>                                                        (0 + 1) / 1]2021-09-28 10:31:39 Hail: INFO: wrote matrix with 468 rows and 468 columns as 1 block of size 4096 to /home/olavur/tmp/pcrelate-write-read-TmQfR1xBpLdUlxgjD393cp.bm\n",
      "[Stage 430:>                                                        (0 + 1) / 1]2021-09-28 10:31:46 Hail: INFO: wrote matrix with 468 rows and 468 columns as 1 block of size 4096 to /home/olavur/tmp/pcrelate-write-read-U7xTBVjbdwinyoA4OMSqzY.bm\n",
      "2021-09-28 10:31:46 Hail: INFO: wrote matrix with 468 rows and 468 columns as 1 block of size 4096 to /home/olavur/tmp/pcrelate-write-read-tclNjmlrnXFG8MkyQrhUAx.bm\n",
      "2021-09-28 10:31:46 Hail: INFO: Ordering unsorted dataset with network shuffle\n",
      "2021-09-28 10:31:47 Hail: INFO: wrote matrix with 3 rows and 21312 columns as 6 blocks of size 4096 to /home/olavur/tmp/pcrelate-write-read-TcG9l2bJyW4aCkmowTgtMS.bm\n",
      "2021-09-28 10:31:48 Hail: INFO: wrote matrix with 21312 rows and 468 columns as 6 blocks of size 4096 to /home/olavur/tmp/pcrelate-write-read-xgrjhwVQu72Vy3UWHMbp8g.bm\n",
      "[Stage 437:>                                                        (0 + 1) / 1]2021-09-28 10:31:55 Hail: INFO: wrote matrix with 468 rows and 468 columns as 1 block of size 4096 to /home/olavur/tmp/pcrelate-write-read-fDloUVFWSb0m5K35CpL1PB.bm\n",
      "[Stage 438:>                                                        (0 + 1) / 1]2021-09-28 10:32:02 Hail: INFO: wrote matrix with 468 rows and 468 columns as 1 block of size 4096 to /home/olavur/tmp/pcrelate-write-read-RdWzlmihRp4jJS1xUUAmhq.bm\n",
      "2021-09-28 10:32:02 Hail: INFO: wrote matrix with 468 rows and 468 columns as 1 block of size 4096 to /home/olavur/tmp/pcrelate-write-read-8WbJeC6PcTejrooNKM62Kf.bm\n",
      "2021-09-28 10:32:02 Hail: INFO: Ordering unsorted dataset with network shuffle\n"
     ]
    },
    {
     "data": {
      "text/html": [
       "\n",
       "\n",
       "\n",
       "\n",
       "\n",
       "\n",
       "  <div class=\"bk-root\" id=\"e48f29fa-c3ba-4b48-a2f0-15370b9b93c4\" data-root-id=\"1002\"></div>\n"
      ]
     },
     "metadata": {},
     "output_type": "display_data"
    },
    {
     "data": {
      "application/javascript": [
       "(function(root) {\n",
       "  function embed_document(root) {\n",
       "    \n",
       "  var docs_json = {\"12afbd8c-8aed-450e-803a-6603de115ec9\":{\"roots\":{\"references\":[{\"attributes\":{\"background_fill_color\":{\"value\":\"#EEEEEE\"},\"below\":[{\"id\":\"1013\",\"type\":\"LinearAxis\"}],\"center\":[{\"id\":\"1017\",\"type\":\"Grid\"},{\"id\":\"1022\",\"type\":\"Grid\"}],\"left\":[{\"id\":\"1018\",\"type\":\"LinearAxis\"}],\"renderers\":[{\"id\":\"1039\",\"type\":\"GlyphRenderer\"}],\"title\":{\"id\":\"1003\",\"type\":\"Title\"},\"toolbar\":{\"id\":\"1029\",\"type\":\"Toolbar\"},\"x_range\":{\"id\":\"1005\",\"type\":\"Range1d\"},\"x_scale\":{\"id\":\"1009\",\"type\":\"LinearScale\"},\"y_range\":{\"id\":\"1007\",\"type\":\"DataRange1d\"},\"y_scale\":{\"id\":\"1011\",\"type\":\"LinearScale\"}},\"id\":\"1002\",\"subtype\":\"Figure\",\"type\":\"Plot\"},{\"attributes\":{\"dimension\":1,\"ticker\":{\"id\":\"1019\",\"type\":\"BasicTicker\"}},\"id\":\"1022\",\"type\":\"Grid\"},{\"attributes\":{},\"id\":\"1048\",\"type\":\"UnionRenderers\"},{\"attributes\":{\"axis_label\":\"Frequency\",\"formatter\":{\"id\":\"1043\",\"type\":\"BasicTickFormatter\"},\"ticker\":{\"id\":\"1019\",\"type\":\"BasicTicker\"}},\"id\":\"1018\",\"type\":\"LinearAxis\"},{\"attributes\":{},\"id\":\"1009\",\"type\":\"LinearScale\"},{\"attributes\":{},\"id\":\"1014\",\"type\":\"BasicTicker\"},{\"attributes\":{\"overlay\":{\"id\":\"1046\",\"type\":\"BoxAnnotation\"}},\"id\":\"1025\",\"type\":\"BoxZoomTool\"},{\"attributes\":{\"callback\":null},\"id\":\"1007\",\"type\":\"DataRange1d\"},{\"attributes\":{\"text\":\"Histogram of kinship coefficient\"},\"id\":\"1003\",\"type\":\"Title\"},{\"attributes\":{},\"id\":\"1045\",\"type\":\"BasicTickFormatter\"},{\"attributes\":{\"formatter\":{\"id\":\"1045\",\"type\":\"BasicTickFormatter\"},\"ticker\":{\"id\":\"1014\",\"type\":\"BasicTicker\"}},\"id\":\"1013\",\"type\":\"LinearAxis\"},{\"attributes\":{\"ticker\":{\"id\":\"1014\",\"type\":\"BasicTicker\"}},\"id\":\"1017\",\"type\":\"Grid\"},{\"attributes\":{},\"id\":\"1024\",\"type\":\"WheelZoomTool\"},{\"attributes\":{\"source\":{\"id\":\"1036\",\"type\":\"ColumnDataSource\"}},\"id\":\"1040\",\"type\":\"CDSView\"},{\"attributes\":{\"active_drag\":\"auto\",\"active_inspect\":\"auto\",\"active_multi\":null,\"active_scroll\":\"auto\",\"active_tap\":\"auto\",\"tools\":[{\"id\":\"1023\",\"type\":\"PanTool\"},{\"id\":\"1024\",\"type\":\"WheelZoomTool\"},{\"id\":\"1025\",\"type\":\"BoxZoomTool\"},{\"id\":\"1026\",\"type\":\"SaveTool\"},{\"id\":\"1027\",\"type\":\"ResetTool\"},{\"id\":\"1028\",\"type\":\"HelpTool\"}]},\"id\":\"1029\",\"type\":\"Toolbar\"},{\"attributes\":{},\"id\":\"1019\",\"type\":\"BasicTicker\"},{\"attributes\":{\"callback\":null,\"data\":{\"left\":[-0.1818895413125447,-0.16804732582516727,-0.15420511033778983,-0.1403628948504124,-0.12652067936303496,-0.11267846387565754,-0.0988362483882801,-0.08499403290090267,-0.07115181741352523,-0.0573096019261478,-0.04346738643877038,-0.029625170951392943,-0.015782955464015508,-0.0019407399766380729,0.011901475510739362,0.025743690998116797,0.03958590648549423,0.05342812197287167,0.0672703374602491,0.08111255294762654,0.09495476843500394,0.10879698392238141,0.12263919940975881,0.13648141489713628,0.15032363038451368,0.16416584587189115,0.17800806135926855,0.19185027684664602,0.20569249233402342,0.2195347078214009,0.2333769233087783,0.24721913879615576,0.26106135428353316,0.27490356977091057,0.28874578525828803,0.30258800074566544,0.3164302162330429,0.33027243172042037,0.3441146472077978,0.3579568626951752,0.3717990781825526,0.3856412936699301,0.3994835091573075,0.4133257246446849,0.42716794013206233,0.44101015561943985,0.45485237110681725,0.46869458659419466,0.48253680208157207,0.4963790175689495],\"right\":[-0.16804732582516727,-0.15420511033778983,-0.1403628948504124,-0.12652067936303496,-0.11267846387565754,-0.0988362483882801,-0.08499403290090267,-0.07115181741352523,-0.0573096019261478,-0.04346738643877038,-0.029625170951392943,-0.015782955464015508,-0.0019407399766380729,0.011901475510739362,0.025743690998116797,0.03958590648549423,0.05342812197287167,0.0672703374602491,0.08111255294762654,0.09495476843500394,0.10879698392238141,0.12263919940975881,0.13648141489713628,0.15032363038451368,0.16416584587189115,0.17800806135926855,0.19185027684664602,0.20569249233402342,0.2195347078214009,0.2333769233087783,0.24721913879615576,0.26106135428353316,0.27490356977091057,0.28874578525828803,0.30258800074566544,0.3164302162330429,0.33027243172042037,0.3441146472077978,0.3579568626951752,0.3717990781825526,0.3856412936699301,0.3994835091573075,0.4133257246446849,0.42716794013206233,0.44101015561943985,0.45485237110681725,0.46869458659419466,0.48253680208157207,0.4963790175689495,0.5102212330563269],\"top\":[1,0,0,0,1,0,1,1,4,14,24,563,51280,55045,1975,161,49,43,16,10,8,7,7,9,0,0,0,1,3,4,17,22,9,1,0,0,0,0,0,0,0,0,0,0,0,0,0,1,0,1]},\"selected\":{\"id\":\"1047\",\"type\":\"Selection\"},\"selection_policy\":{\"id\":\"1048\",\"type\":\"UnionRenderers\"}},\"id\":\"1036\",\"type\":\"ColumnDataSource\"},{\"attributes\":{},\"id\":\"1043\",\"type\":\"BasicTickFormatter\"},{\"attributes\":{\"bottom_units\":\"screen\",\"fill_alpha\":{\"value\":0.5},\"fill_color\":{\"value\":\"lightgrey\"},\"left_units\":\"screen\",\"level\":\"overlay\",\"line_alpha\":{\"value\":1.0},\"line_color\":{\"value\":\"black\"},\"line_dash\":[4,4],\"line_width\":{\"value\":2},\"render_mode\":\"css\",\"right_units\":\"screen\",\"top_units\":\"screen\"},\"id\":\"1046\",\"type\":\"BoxAnnotation\"},{\"attributes\":{},\"id\":\"1026\",\"type\":\"SaveTool\"},{\"attributes\":{\"bottom\":{\"value\":0},\"fill_alpha\":{\"value\":0.1},\"fill_color\":{\"value\":\"#1f77b4\"},\"left\":{\"field\":\"left\"},\"line_alpha\":{\"value\":0.1},\"line_color\":{\"value\":\"#1f77b4\"},\"right\":{\"field\":\"right\"},\"top\":{\"field\":\"top\"}},\"id\":\"1038\",\"type\":\"Quad\"},{\"attributes\":{},\"id\":\"1011\",\"type\":\"LinearScale\"},{\"attributes\":{\"data_source\":{\"id\":\"1036\",\"type\":\"ColumnDataSource\"},\"glyph\":{\"id\":\"1037\",\"type\":\"Quad\"},\"hover_glyph\":null,\"muted_glyph\":null,\"nonselection_glyph\":{\"id\":\"1038\",\"type\":\"Quad\"},\"selection_glyph\":null,\"view\":{\"id\":\"1040\",\"type\":\"CDSView\"}},\"id\":\"1039\",\"type\":\"GlyphRenderer\"},{\"attributes\":{\"callback\":null,\"end\":0.5448267717747706,\"start\":-0.21649508003098827},\"id\":\"1005\",\"type\":\"Range1d\"},{\"attributes\":{},\"id\":\"1028\",\"type\":\"HelpTool\"},{\"attributes\":{},\"id\":\"1027\",\"type\":\"ResetTool\"},{\"attributes\":{},\"id\":\"1023\",\"type\":\"PanTool\"},{\"attributes\":{},\"id\":\"1047\",\"type\":\"Selection\"},{\"attributes\":{\"bottom\":{\"value\":0},\"fill_color\":{\"value\":\"#1f77b4\"},\"left\":{\"field\":\"left\"},\"right\":{\"field\":\"right\"},\"top\":{\"field\":\"top\"}},\"id\":\"1037\",\"type\":\"Quad\"}],\"root_ids\":[\"1002\"]},\"title\":\"Bokeh Application\",\"version\":\"1.2.0\"}};\n",
       "  var render_items = [{\"docid\":\"12afbd8c-8aed-450e-803a-6603de115ec9\",\"roots\":{\"1002\":\"e48f29fa-c3ba-4b48-a2f0-15370b9b93c4\"}}];\n",
       "  root.Bokeh.embed.embed_items_notebook(docs_json, render_items);\n",
       "\n",
       "  }\n",
       "  if (root.Bokeh !== undefined) {\n",
       "    embed_document(root);\n",
       "  } else {\n",
       "    var attempts = 0;\n",
       "    var timer = setInterval(function(root) {\n",
       "      if (root.Bokeh !== undefined) {\n",
       "        embed_document(root);\n",
       "        clearInterval(timer);\n",
       "      }\n",
       "      attempts++;\n",
       "      if (attempts > 100) {\n",
       "        console.log(\"Bokeh: ERROR: Unable to run BokehJS code because BokehJS library is missing\");\n",
       "        clearInterval(timer);\n",
       "      }\n",
       "    }, 10, root)\n",
       "  }\n",
       "})(window);"
      ],
      "application/vnd.bokehjs_exec.v0+json": ""
     },
     "metadata": {
      "application/vnd.bokehjs_exec.v0+json": {
       "id": "1002"
      }
     },
     "output_type": "display_data"
    }
   ],
   "source": [
    "p = hl.plot.histogram(pc_rel.kin, title='Histogram of kinship coefficient')\n",
    "show(p)"
   ]
  },
  {
   "cell_type": "code",
   "execution_count": 29,
   "metadata": {},
   "outputs": [],
   "source": [
    "pairs = pc_rel.filter(pc_rel['kin'] > 2**(-4))"
   ]
  },
  {
   "cell_type": "markdown",
   "metadata": {},
   "source": [
    "Then we find the maximal independent set, consistent of the samples to remove."
   ]
  },
  {
   "cell_type": "code",
   "execution_count": 30,
   "metadata": {},
   "outputs": [
    {
     "name": "stderr",
     "output_type": "stream",
     "text": [
      "2021-09-28 10:32:04 Hail: INFO: wrote matrix with 3 rows and 21312 columns as 6 blocks of size 4096 to /home/olavur/tmp/pcrelate-write-read-tUxstYCgxkSt7UGcMQHwPa.bm\n",
      "2021-09-28 10:32:04 Hail: INFO: wrote matrix with 21312 rows and 468 columns as 6 blocks of size 4096 to /home/olavur/tmp/pcrelate-write-read-Y6l6UQ6b40BkgiHLh28VN8.bm\n",
      "[Stage 445:>                                                        (0 + 1) / 1]2021-09-28 10:32:12 Hail: INFO: wrote matrix with 468 rows and 468 columns as 1 block of size 4096 to /home/olavur/tmp/pcrelate-write-read-oLyYDlWaREgsRaolnkd5LF.bm\n",
      "[Stage 446:>                                                        (0 + 1) / 1]2021-09-28 10:32:19 Hail: INFO: wrote matrix with 468 rows and 468 columns as 1 block of size 4096 to /home/olavur/tmp/pcrelate-write-read-dmLjHmBDtqbdyGU6jACvRl.bm\n",
      "2021-09-28 10:32:19 Hail: INFO: wrote matrix with 468 rows and 468 columns as 1 block of size 4096 to /home/olavur/tmp/pcrelate-write-read-PAYiRQeLT7lOYRB2j9GZR6.bm\n",
      "2021-09-28 10:32:19 Hail: INFO: Ordering unsorted dataset with network shuffle\n",
      "2021-09-28 10:32:20 Hail: INFO: wrote table with 134 rows in 1 partition to /home/olavur/tmp/huuTVa384ow6QjbV2WkYoc\n",
      "    Total size: 1.29 KiB\n",
      "    * Rows: 1.28 KiB\n",
      "    * Globals: 11.00 B\n",
      "    * Smallest partition: 134 rows (1.28 KiB)\n",
      "    * Largest partition:  134 rows (1.28 KiB)\n"
     ]
    }
   ],
   "source": [
    "related_samples_to_remove = hl.maximal_independent_set(pairs.i, pairs.j, keep=False)"
   ]
  },
  {
   "cell_type": "markdown",
   "metadata": {},
   "source": [
    "Now we filter these individuals from the matrix table."
   ]
  },
  {
   "cell_type": "code",
   "execution_count": 31,
   "metadata": {},
   "outputs": [],
   "source": [
    "mt = mt.filter_cols(hl.is_defined(related_samples_to_remove[mt.col_key]), keep=False)"
   ]
  },
  {
   "cell_type": "markdown",
   "metadata": {},
   "source": [
    "Make a checkpoint, caching all operations done on the matrix table."
   ]
  },
  {
   "cell_type": "code",
   "execution_count": 33,
   "metadata": {},
   "outputs": [
    {
     "name": "stderr",
     "output_type": "stream",
     "text": [
      "2021-09-28 10:32:36 Hail: INFO: Ordering unsorted dataset with network shuffle\n",
      "2021-09-28 10:32:36 Hail: INFO: Ordering unsorted dataset with network shuffle\n",
      "[Stage 456:>                                                        (0 + 1) / 1]2021-09-28 10:32:38 Hail: INFO: Coerced sorted dataset\n",
      "2021-09-28 10:32:38 Hail: INFO: Ordering unsorted dataset with network shuffle\n",
      "[Stage 461:>                                                        (0 + 8) / 8]2021-09-28 10:32:40 Hail: INFO: wrote matrix table with 21312 rows and 374 columns in 8 partitions to /home/olavur/tmp/rel_pruned.ht\n",
      "    Total size: 126.05 MiB\n",
      "    * Rows/entries: 126.00 MiB\n",
      "    * Columns: 42.64 KiB\n",
      "    * Globals: 11.00 B\n",
      "    * Smallest partition: 2345 rows (13.80 MiB)\n",
      "    * Largest partition:  2905 rows (17.13 MiB)\n"
     ]
    }
   ],
   "source": [
    "if True:\n",
    "    mt = mt.checkpoint('/home/olavur/tmp/rel_pruned.ht')\n",
    "else:\n",
    "    mt = hl.read_matrix_table('/home/olavur/tmp/rel_pruned.ht')"
   ]
  },
  {
   "cell_type": "code",
   "execution_count": 34,
   "metadata": {},
   "outputs": [
    {
     "name": "stdout",
     "output_type": "stream",
     "text": [
      "Number of variants: 21312\n",
      "Number of samples: 374\n"
     ]
    }
   ],
   "source": [
    "n_variants, n_samples = mt.count()\n",
    "print('Number of variants: ' + str(n_variants))\n",
    "print('Number of samples: ' + str(n_samples))"
   ]
  },
  {
   "cell_type": "markdown",
   "metadata": {},
   "source": [
    "## Compute PCA"
   ]
  },
  {
   "cell_type": "code",
   "execution_count": 35,
   "metadata": {},
   "outputs": [
    {
     "name": "stderr",
     "output_type": "stream",
     "text": [
      "2021-09-28 10:32:50 Hail: INFO: hwe_normalized_pca: running PCA using 21312 variants.\n",
      "2021-09-28 10:32:51 Hail: INFO: pca: running PCA with 4 components...\n",
      "[Stage 477:>                                                        (0 + 2) / 2]"
     ]
    }
   ],
   "source": [
    "eigenvalues, scores, loadings = hl.hwe_normalized_pca(mt.GT, k=4)"
   ]
  },
  {
   "cell_type": "code",
   "execution_count": 36,
   "metadata": {},
   "outputs": [],
   "source": [
    "mt = mt.annotate_cols(scores = scores[mt.s].scores)"
   ]
  },
  {
   "cell_type": "code",
   "execution_count": 37,
   "metadata": {},
   "outputs": [
    {
     "data": {
      "text/html": [
       "\n",
       "\n",
       "\n",
       "\n",
       "\n",
       "\n",
       "  <div class=\"bk-root\" id=\"52f56fef-3edc-4e01-95be-38ee7f12fa1b\" data-root-id=\"1097\"></div>\n"
      ]
     },
     "metadata": {},
     "output_type": "display_data"
    },
    {
     "data": {
      "application/javascript": [
       "(function(root) {\n",
       "  function embed_document(root) {\n",
       "    \n",
       "  var docs_json = {\"76eef185-68b1-48aa-a82f-c2de54b816be\":{\"roots\":{\"references\":[{\"attributes\":{\"below\":[{\"id\":\"1108\",\"type\":\"LinearAxis\"}],\"center\":[{\"id\":\"1112\",\"type\":\"Grid\"},{\"id\":\"1117\",\"type\":\"Grid\"}],\"left\":[{\"id\":\"1113\",\"type\":\"LinearAxis\"},{\"id\":\"1184\",\"type\":\"Legend\"},{\"id\":\"1185\",\"type\":\"ColorBar\"}],\"plot_height\":600,\"plot_width\":800,\"renderers\":[{\"id\":\"1140\",\"type\":\"GlyphRenderer\"},{\"id\":\"1146\",\"type\":\"GlyphRenderer\"},{\"id\":\"1152\",\"type\":\"GlyphRenderer\"},{\"id\":\"1158\",\"type\":\"GlyphRenderer\"},{\"id\":\"1164\",\"type\":\"GlyphRenderer\"},{\"id\":\"1170\",\"type\":\"GlyphRenderer\"},{\"id\":\"1176\",\"type\":\"GlyphRenderer\"}],\"title\":{\"id\":\"1098\",\"type\":\"Title\"},\"toolbar\":{\"id\":\"1124\",\"type\":\"Toolbar\"},\"x_range\":{\"id\":\"1100\",\"type\":\"DataRange1d\"},\"x_scale\":{\"id\":\"1104\",\"type\":\"LinearScale\"},\"y_range\":{\"id\":\"1102\",\"type\":\"DataRange1d\"},\"y_scale\":{\"id\":\"1106\",\"type\":\"LinearScale\"}},\"id\":\"1097\",\"subtype\":\"Figure\",\"type\":\"Plot\"},{\"attributes\":{\"overlay\":{\"id\":\"1201\",\"type\":\"BoxAnnotation\"}},\"id\":\"1120\",\"type\":\"BoxZoomTool\"},{\"attributes\":{\"fill_alpha\":{\"value\":0.1},\"fill_color\":{\"value\":\"#1f77b4\"},\"line_alpha\":{\"value\":0.1},\"line_color\":{\"value\":\"#1f77b4\"},\"x\":{\"field\":\"x\"},\"y\":{\"field\":\"y\"}},\"id\":\"1169\",\"type\":\"Circle\"},{\"attributes\":{\"bottom_units\":\"screen\",\"fill_alpha\":{\"value\":0.5},\"fill_color\":{\"value\":\"lightgrey\"},\"left_units\":\"screen\",\"level\":\"overlay\",\"line_alpha\":{\"value\":1.0},\"line_color\":{\"value\":\"black\"},\"line_dash\":[4,4],\"line_width\":{\"value\":2},\"render_mode\":\"css\",\"right_units\":\"screen\",\"top_units\":\"screen\"},\"id\":\"1201\",\"type\":\"BoxAnnotation\"},{\"attributes\":{\"click_policy\":\"hide\",\"items\":[{\"id\":\"1177\",\"type\":\"LegendItem\"},{\"id\":\"1178\",\"type\":\"LegendItem\"},{\"id\":\"1179\",\"type\":\"LegendItem\"},{\"id\":\"1180\",\"type\":\"LegendItem\"},{\"id\":\"1181\",\"type\":\"LegendItem\"},{\"id\":\"1182\",\"type\":\"LegendItem\"},{\"id\":\"1183\",\"type\":\"LegendItem\"}]},\"id\":\"1184\",\"type\":\"Legend\"},{\"attributes\":{},\"id\":\"1196\",\"type\":\"BasicTickFormatter\"},{\"attributes\":{\"factors\":[\"NA\",\"4.00000e+00\",\"1.00000e+00\",\"3.00000e+00\",\"5.00000e+00\",\"2.00000e+00\",\"6.00000e+00\"],\"palette\":[\"#1f77b4\",\"#ff7f0e\",\"#2ca02c\",\"#d62728\",\"#9467bd\",\"#8c564b\",\"#e377c2\",\"#7f7f7f\",\"#bcbd22\",\"#17becf\"]},\"id\":\"1134\",\"type\":\"CategoricalColorMapper\"},{\"attributes\":{\"fill_color\":{\"field\":\"label\",\"transform\":{\"id\":\"1134\",\"type\":\"CategoricalColorMapper\"}},\"line_color\":{\"field\":\"label\",\"transform\":{\"id\":\"1134\",\"type\":\"CategoricalColorMapper\"}},\"x\":{\"field\":\"x\"},\"y\":{\"field\":\"y\"}},\"id\":\"1138\",\"type\":\"Circle\"},{\"attributes\":{},\"id\":\"1119\",\"type\":\"WheelZoomTool\"},{\"attributes\":{\"filters\":[{\"id\":\"1141\",\"type\":\"GroupFilter\"}],\"source\":{\"id\":\"1133\",\"type\":\"ColumnDataSource\"}},\"id\":\"1142\",\"type\":\"CDSView\"},{\"attributes\":{\"filters\":[{\"id\":\"1147\",\"type\":\"GroupFilter\"}],\"source\":{\"id\":\"1133\",\"type\":\"ColumnDataSource\"}},\"id\":\"1148\",\"type\":\"CDSView\"},{\"attributes\":{\"callback\":null,\"data\":{\"index\":[0,1,2,3,4,5,6,7,8,9,10,11,12,13,14,15,16,17,18,19,20,21,22,23,24,25,26,27,28,29,30,31,32,33,34,35,36,37,38,39,40,41,42,43,44,45,46,47,48,49,50,51,52,53,54,55,56,57,58,59,60,61,62,63,64,65,66,67,68,69,70,71,72,73,74,75,76,77,78,79,80,81,82,83,84,85,86,87,88,89,90,91,92,93,94,95,96,97,98,99,100,101,102,103,104,105,106,107,108,109,110,111,112,113,114,115,116,117,118,119,120,121,122,123,124,125,126,127,128,129,130,131,132,133,134,135,136,137,138,139,140,141,142,143,144,145,146,147,148,149,150,151,152,153,154,155,156,157,158,159,160,161,162,163,164,165,166,167,168,169,170,171,172,173,174,175,176,177,178,179,180,181,182,183,184,185,186,187,188,189,190,191,192,193,194,195,196,197,198,199,200,201,202,203,204,205,206,207,208,209,210,211,212,213,214,215,216,217,218,219,220,221,222,223,224,225,226,227,228,229,230,231,232,233,234,235,236,237,238,239,240,241,242,243,244,245,246,247,248,249,250,251,252,253,254,255,256,257,258,259,260,261,262,263,264,265,266,267,268,269,270,271,272,273,274,275,276,277,278,279,280,281,282,283,284,285,286,287,288,289,290,291,292,293,294,295,296,297,298,299,300,301,302,303,304,305,306,307,308,309,310,311,312,313,314,315,316,317,318,319,320,321,322,323,324,325,326,327,328,329,330,331],\"label\":[\"2.00000e+00\",\"2.00000e+00\",\"3.00000e+00\",\"NA\",\"3.00000e+00\",\"2.00000e+00\",\"1.00000e+00\",\"2.00000e+00\",\"3.00000e+00\",\"1.00000e+00\",\"2.00000e+00\",\"2.00000e+00\",\"6.00000e+00\",\"3.00000e+00\",\"1.00000e+00\",\"2.00000e+00\",\"3.00000e+00\",\"3.00000e+00\",\"1.00000e+00\",\"2.00000e+00\",\"1.00000e+00\",\"NA\",\"2.00000e+00\",\"1.00000e+00\",\"2.00000e+00\",\"6.00000e+00\",\"2.00000e+00\",\"2.00000e+00\",\"1.00000e+00\",\"1.00000e+00\",\"3.00000e+00\",\"1.00000e+00\",\"3.00000e+00\",\"2.00000e+00\",\"6.00000e+00\",\"3.00000e+00\",\"1.00000e+00\",\"2.00000e+00\",\"1.00000e+00\",\"2.00000e+00\",\"2.00000e+00\",\"3.00000e+00\",\"2.00000e+00\",\"1.00000e+00\",\"3.00000e+00\",\"2.00000e+00\",\"4.00000e+00\",\"4.00000e+00\",\"1.00000e+00\",\"3.00000e+00\",\"NA\",\"2.00000e+00\",\"1.00000e+00\",\"4.00000e+00\",\"1.00000e+00\",\"4.00000e+00\",\"NA\",\"3.00000e+00\",\"1.00000e+00\",\"2.00000e+00\",\"1.00000e+00\",\"4.00000e+00\",\"1.00000e+00\",\"1.00000e+00\",\"3.00000e+00\",\"2.00000e+00\",\"3.00000e+00\",\"3.00000e+00\",\"1.00000e+00\",\"NA\",\"2.00000e+00\",\"2.00000e+00\",\"1.00000e+00\",\"3.00000e+00\",\"6.00000e+00\",\"2.00000e+00\",\"1.00000e+00\",\"2.00000e+00\",\"3.00000e+00\",\"3.00000e+00\",\"1.00000e+00\",\"3.00000e+00\",\"4.00000e+00\",\"6.00000e+00\",\"1.00000e+00\",\"1.00000e+00\",\"NA\",\"4.00000e+00\",\"3.00000e+00\",\"6.00000e+00\",\"3.00000e+00\",\"2.00000e+00\",\"3.00000e+00\",\"3.00000e+00\",\"3.00000e+00\",\"3.00000e+00\",\"NA\",\"3.00000e+00\",\"3.00000e+00\",\"1.00000e+00\",\"3.00000e+00\",\"NA\",\"NA\",\"2.00000e+00\",\"1.00000e+00\",\"3.00000e+00\",\"3.00000e+00\",\"2.00000e+00\",\"3.00000e+00\",\"3.00000e+00\",\"3.00000e+00\",\"3.00000e+00\",\"1.00000e+00\",\"NA\",\"3.00000e+00\",\"1.00000e+00\",\"3.00000e+00\",\"6.00000e+00\",\"2.00000e+00\",\"2.00000e+00\",\"3.00000e+00\",\"6.00000e+00\",\"3.00000e+00\",\"2.00000e+00\",\"2.00000e+00\",\"2.00000e+00\",\"3.00000e+00\",\"2.00000e+00\",\"2.00000e+00\",\"5.00000e+00\",\"4.00000e+00\",\"3.00000e+00\",\"3.00000e+00\",\"3.00000e+00\",\"1.00000e+00\",\"4.00000e+00\",\"2.00000e+00\",\"NA\",\"1.00000e+00\",\"3.00000e+00\",\"1.00000e+00\",\"4.00000e+00\",\"3.00000e+00\",\"4.00000e+00\",\"3.00000e+00\",\"3.00000e+00\",\"6.00000e+00\",\"1.00000e+00\",\"3.00000e+00\",\"3.00000e+00\",\"3.00000e+00\",\"3.00000e+00\",\"2.00000e+00\",\"3.00000e+00\",\"2.00000e+00\",\"6.00000e+00\",\"2.00000e+00\",\"2.00000e+00\",\"4.00000e+00\",\"2.00000e+00\",\"3.00000e+00\",\"2.00000e+00\",\"3.00000e+00\",\"2.00000e+00\",\"3.00000e+00\",\"2.00000e+00\",\"1.00000e+00\",\"3.00000e+00\",\"3.00000e+00\",\"6.00000e+00\",\"2.00000e+00\",\"NA\",\"2.00000e+00\",\"2.00000e+00\",\"2.00000e+00\",\"3.00000e+00\",\"NA\",\"4.00000e+00\",\"NA\",\"3.00000e+00\",\"1.00000e+00\",\"NA\",\"5.00000e+00\",\"1.00000e+00\",\"5.00000e+00\",\"2.00000e+00\",\"2.00000e+00\",\"4.00000e+00\",\"3.00000e+00\",\"3.00000e+00\",\"3.00000e+00\",\"3.00000e+00\",\"4.00000e+00\",\"1.00000e+00\",\"3.00000e+00\",\"4.00000e+00\",\"2.00000e+00\",\"3.00000e+00\",\"3.00000e+00\",\"3.00000e+00\",\"3.00000e+00\",\"5.00000e+00\",\"3.00000e+00\",\"2.00000e+00\",\"1.00000e+00\",\"1.00000e+00\",\"3.00000e+00\",\"NA\",\"2.00000e+00\",\"2.00000e+00\",\"3.00000e+00\",\"3.00000e+00\",\"1.00000e+00\",\"3.00000e+00\",\"2.00000e+00\",\"2.00000e+00\",\"3.00000e+00\",\"6.00000e+00\",\"3.00000e+00\",\"3.00000e+00\",\"4.00000e+00\",\"3.00000e+00\",\"3.00000e+00\",\"3.00000e+00\",\"3.00000e+00\",\"1.00000e+00\",\"3.00000e+00\",\"3.00000e+00\",\"NA\",\"1.00000e+00\",\"3.00000e+00\",\"6.00000e+00\",\"3.00000e+00\",\"1.00000e+00\",\"4.00000e+00\",\"NA\",\"2.00000e+00\",\"1.00000e+00\",\"3.00000e+00\",\"NA\",\"3.00000e+00\",\"3.00000e+00\",\"3.00000e+00\",\"3.00000e+00\",\"6.00000e+00\",\"6.00000e+00\",\"6.00000e+00\",\"2.00000e+00\",\"2.00000e+00\",\"3.00000e+00\",\"3.00000e+00\",\"5.00000e+00\",\"3.00000e+00\",\"2.00000e+00\",\"NA\",\"6.00000e+00\",\"2.00000e+00\",\"NA\",\"1.00000e+00\",\"3.00000e+00\",\"4.00000e+00\",\"4.00000e+00\",\"3.00000e+00\",\"3.00000e+00\",\"NA\",\"2.00000e+00\",\"5.00000e+00\",\"NA\",\"3.00000e+00\",\"5.00000e+00\",\"4.00000e+00\",\"3.00000e+00\",\"3.00000e+00\",\"6.00000e+00\",\"3.00000e+00\",\"4.00000e+00\",\"6.00000e+00\",\"2.00000e+00\",\"NA\",\"3.00000e+00\",\"3.00000e+00\",\"3.00000e+00\",\"3.00000e+00\",\"5.00000e+00\",\"3.00000e+00\",\"3.00000e+00\",\"6.00000e+00\",\"3.00000e+00\",\"2.00000e+00\",\"6.00000e+00\",\"3.00000e+00\",\"3.00000e+00\",\"6.00000e+00\",\"2.00000e+00\",\"2.00000e+00\",\"5.00000e+00\",\"1.00000e+00\",\"6.00000e+00\",\"6.00000e+00\",\"3.00000e+00\",\"3.00000e+00\",\"6.00000e+00\",\"3.00000e+00\",\"1.00000e+00\",\"3.00000e+00\",\"3.00000e+00\",\"3.00000e+00\",\"3.00000e+00\",\"2.00000e+00\",\"6.00000e+00\",\"3.00000e+00\",\"6.00000e+00\",\"5.00000e+00\",\"3.00000e+00\",\"1.00000e+00\",\"6.00000e+00\",\"3.00000e+00\",\"3.00000e+00\",\"NA\",\"6.00000e+00\",\"2.00000e+00\",\"2.00000e+00\",\"1.00000e+00\",\"NA\",\"3.00000e+00\",\"3.00000e+00\",\"NA\",\"5.00000e+00\",\"5.00000e+00\",\"5.00000e+00\",\"3.00000e+00\",\"5.00000e+00\"],\"x\":{\"__ndarray__\":\"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\",\"dtype\":\"float64\",\"shape\":[332]},\"y\":{\"__ndarray__\":\"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\",\"dtype\":\"float64\",\"shape\":[332]}},\"selected\":{\"id\":\"1202\",\"type\":\"Selection\"},\"selection_policy\":{\"id\":\"1203\",\"type\":\"UnionRenderers\"}},\"id\":\"1133\",\"type\":\"ColumnDataSource\"},{\"attributes\":{\"filters\":[{\"id\":\"1165\",\"type\":\"GroupFilter\"}],\"source\":{\"id\":\"1133\",\"type\":\"ColumnDataSource\"}},\"id\":\"1166\",\"type\":\"CDSView\"},{\"attributes\":{\"callback\":null},\"id\":\"1102\",\"type\":\"DataRange1d\"},{\"attributes\":{\"data_source\":{\"id\":\"1133\",\"type\":\"ColumnDataSource\"},\"glyph\":{\"id\":\"1156\",\"type\":\"Circle\"},\"hover_glyph\":null,\"muted_glyph\":null,\"nonselection_glyph\":{\"id\":\"1157\",\"type\":\"Circle\"},\"selection_glyph\":null,\"view\":{\"id\":\"1154\",\"type\":\"CDSView\"}},\"id\":\"1158\",\"type\":\"GlyphRenderer\"},{\"attributes\":{},\"id\":\"1118\",\"type\":\"PanTool\"},{\"attributes\":{\"fill_color\":{\"field\":\"label\",\"transform\":{\"id\":\"1134\",\"type\":\"CategoricalColorMapper\"}},\"line_color\":{\"field\":\"label\",\"transform\":{\"id\":\"1134\",\"type\":\"CategoricalColorMapper\"}},\"x\":{\"field\":\"x\"},\"y\":{\"field\":\"y\"}},\"id\":\"1144\",\"type\":\"Circle\"},{\"attributes\":{},\"id\":\"1106\",\"type\":\"LinearScale\"},{\"attributes\":{\"data_source\":{\"id\":\"1133\",\"type\":\"ColumnDataSource\"},\"glyph\":{\"id\":\"1144\",\"type\":\"Circle\"},\"hover_glyph\":null,\"muted_glyph\":null,\"nonselection_glyph\":{\"id\":\"1145\",\"type\":\"Circle\"},\"selection_glyph\":null,\"view\":{\"id\":\"1142\",\"type\":\"CDSView\"}},\"id\":\"1146\",\"type\":\"GlyphRenderer\"},{\"attributes\":{\"label\":{\"value\":\"3.00000e+00\"},\"renderers\":[{\"id\":\"1152\",\"type\":\"GlyphRenderer\"}]},\"id\":\"1179\",\"type\":\"LegendItem\"},{\"attributes\":{},\"id\":\"1202\",\"type\":\"Selection\"},{\"attributes\":{\"color_mapper\":null,\"formatter\":{\"id\":\"1198\",\"type\":\"BasicTickFormatter\"},\"ticker\":{\"id\":\"1197\",\"type\":\"BasicTicker\"},\"visible\":false},\"id\":\"1185\",\"type\":\"ColorBar\"},{\"attributes\":{\"active_drag\":\"auto\",\"active_inspect\":\"auto\",\"active_multi\":null,\"active_scroll\":\"auto\",\"active_tap\":\"auto\",\"tools\":[{\"id\":\"1118\",\"type\":\"PanTool\"},{\"id\":\"1119\",\"type\":\"WheelZoomTool\"},{\"id\":\"1120\",\"type\":\"BoxZoomTool\"},{\"id\":\"1121\",\"type\":\"SaveTool\"},{\"id\":\"1122\",\"type\":\"ResetTool\"},{\"id\":\"1123\",\"type\":\"HelpTool\"},{\"id\":\"1132\",\"type\":\"HoverTool\"}]},\"id\":\"1124\",\"type\":\"Toolbar\"},{\"attributes\":{},\"id\":\"1121\",\"type\":\"SaveTool\"},{\"attributes\":{\"ticker\":{\"id\":\"1109\",\"type\":\"BasicTicker\"}},\"id\":\"1112\",\"type\":\"Grid\"},{\"attributes\":{\"label\":{\"value\":\"2.00000e+00\"},\"renderers\":[{\"id\":\"1146\",\"type\":\"GlyphRenderer\"}]},\"id\":\"1178\",\"type\":\"LegendItem\"},{\"attributes\":{\"data_source\":{\"id\":\"1133\",\"type\":\"ColumnDataSource\"},\"glyph\":{\"id\":\"1138\",\"type\":\"Circle\"},\"hover_glyph\":null,\"muted_glyph\":null,\"nonselection_glyph\":{\"id\":\"1139\",\"type\":\"Circle\"},\"selection_glyph\":null,\"view\":{\"id\":\"1136\",\"type\":\"CDSView\"}},\"id\":\"1140\",\"type\":\"GlyphRenderer\"},{\"attributes\":{\"fill_alpha\":{\"value\":0.1},\"fill_color\":{\"value\":\"#1f77b4\"},\"line_alpha\":{\"value\":0.1},\"line_color\":{\"value\":\"#1f77b4\"},\"x\":{\"field\":\"x\"},\"y\":{\"field\":\"y\"}},\"id\":\"1145\",\"type\":\"Circle\"},{\"attributes\":{\"fill_alpha\":{\"value\":0.1},\"fill_color\":{\"value\":\"#1f77b4\"},\"line_alpha\":{\"value\":0.1},\"line_color\":{\"value\":\"#1f77b4\"},\"x\":{\"field\":\"x\"},\"y\":{\"field\":\"y\"}},\"id\":\"1175\",\"type\":\"Circle\"},{\"attributes\":{\"text\":\"PCA\"},\"id\":\"1098\",\"type\":\"Title\"},{\"attributes\":{\"data_source\":{\"id\":\"1133\",\"type\":\"ColumnDataSource\"},\"glyph\":{\"id\":\"1150\",\"type\":\"Circle\"},\"hover_glyph\":null,\"muted_glyph\":null,\"nonselection_glyph\":{\"id\":\"1151\",\"type\":\"Circle\"},\"selection_glyph\":null,\"view\":{\"id\":\"1148\",\"type\":\"CDSView\"}},\"id\":\"1152\",\"type\":\"GlyphRenderer\"},{\"attributes\":{\"fill_alpha\":{\"value\":0.1},\"fill_color\":{\"value\":\"#1f77b4\"},\"line_alpha\":{\"value\":0.1},\"line_color\":{\"value\":\"#1f77b4\"},\"x\":{\"field\":\"x\"},\"y\":{\"field\":\"y\"}},\"id\":\"1139\",\"type\":\"Circle\"},{\"attributes\":{\"fill_color\":{\"field\":\"label\",\"transform\":{\"id\":\"1134\",\"type\":\"CategoricalColorMapper\"}},\"line_color\":{\"field\":\"label\",\"transform\":{\"id\":\"1134\",\"type\":\"CategoricalColorMapper\"}},\"x\":{\"field\":\"x\"},\"y\":{\"field\":\"y\"}},\"id\":\"1156\",\"type\":\"Circle\"},{\"attributes\":{\"data_source\":{\"id\":\"1133\",\"type\":\"ColumnDataSource\"},\"glyph\":{\"id\":\"1174\",\"type\":\"Circle\"},\"hover_glyph\":null,\"muted_glyph\":null,\"nonselection_glyph\":{\"id\":\"1175\",\"type\":\"Circle\"},\"selection_glyph\":null,\"view\":{\"id\":\"1172\",\"type\":\"CDSView\"}},\"id\":\"1176\",\"type\":\"GlyphRenderer\"},{\"attributes\":{\"fill_color\":{\"field\":\"label\",\"transform\":{\"id\":\"1134\",\"type\":\"CategoricalColorMapper\"}},\"line_color\":{\"field\":\"label\",\"transform\":{\"id\":\"1134\",\"type\":\"CategoricalColorMapper\"}},\"x\":{\"field\":\"x\"},\"y\":{\"field\":\"y\"}},\"id\":\"1168\",\"type\":\"Circle\"},{\"attributes\":{},\"id\":\"1197\",\"type\":\"BasicTicker\"},{\"attributes\":{\"fill_alpha\":{\"value\":0.1},\"fill_color\":{\"value\":\"#1f77b4\"},\"line_alpha\":{\"value\":0.1},\"line_color\":{\"value\":\"#1f77b4\"},\"x\":{\"field\":\"x\"},\"y\":{\"field\":\"y\"}},\"id\":\"1163\",\"type\":\"Circle\"},{\"attributes\":{\"column_name\":\"label\",\"group\":\"2.00000e+00\"},\"id\":\"1141\",\"type\":\"GroupFilter\"},{\"attributes\":{\"column_name\":\"label\",\"group\":\"NA\"},\"id\":\"1171\",\"type\":\"GroupFilter\"},{\"attributes\":{\"column_name\":\"label\",\"group\":\"4.00000e+00\"},\"id\":\"1153\",\"type\":\"GroupFilter\"},{\"attributes\":{\"label\":{\"value\":\"6.00000e+00\"},\"renderers\":[{\"id\":\"1170\",\"type\":\"GlyphRenderer\"}]},\"id\":\"1182\",\"type\":\"LegendItem\"},{\"attributes\":{},\"id\":\"1203\",\"type\":\"UnionRenderers\"},{\"attributes\":{},\"id\":\"1104\",\"type\":\"LinearScale\"},{\"attributes\":{\"label\":{\"value\":\"4.00000e+00\"},\"renderers\":[{\"id\":\"1158\",\"type\":\"GlyphRenderer\"}]},\"id\":\"1180\",\"type\":\"LegendItem\"},{\"attributes\":{\"label\":{\"value\":\"5.00000e+00\"},\"renderers\":[{\"id\":\"1164\",\"type\":\"GlyphRenderer\"}]},\"id\":\"1181\",\"type\":\"LegendItem\"},{\"attributes\":{},\"id\":\"1109\",\"type\":\"BasicTicker\"},{\"attributes\":{\"axis_label\":\"PC2\",\"formatter\":{\"id\":\"1196\",\"type\":\"BasicTickFormatter\"},\"ticker\":{\"id\":\"1114\",\"type\":\"BasicTicker\"}},\"id\":\"1113\",\"type\":\"LinearAxis\"},{\"attributes\":{\"fill_color\":{\"field\":\"label\",\"transform\":{\"id\":\"1134\",\"type\":\"CategoricalColorMapper\"}},\"line_color\":{\"field\":\"label\",\"transform\":{\"id\":\"1134\",\"type\":\"CategoricalColorMapper\"}},\"x\":{\"field\":\"x\"},\"y\":{\"field\":\"y\"}},\"id\":\"1150\",\"type\":\"Circle\"},{\"attributes\":{\"column_name\":\"label\",\"group\":\"6.00000e+00\"},\"id\":\"1165\",\"type\":\"GroupFilter\"},{\"attributes\":{\"label\":{\"value\":\"1.00000e+00\"},\"renderers\":[{\"id\":\"1140\",\"type\":\"GlyphRenderer\"}]},\"id\":\"1177\",\"type\":\"LegendItem\"},{\"attributes\":{\"filters\":[{\"id\":\"1153\",\"type\":\"GroupFilter\"}],\"source\":{\"id\":\"1133\",\"type\":\"ColumnDataSource\"}},\"id\":\"1154\",\"type\":\"CDSView\"},{\"attributes\":{\"callback\":null},\"id\":\"1100\",\"type\":\"DataRange1d\"},{\"attributes\":{\"label\":{\"value\":\"NA\"},\"renderers\":[{\"id\":\"1176\",\"type\":\"GlyphRenderer\"}]},\"id\":\"1183\",\"type\":\"LegendItem\"},{\"attributes\":{\"callback\":null,\"tooltips\":[[\"x\",\"@x\"],[\"y\",\"@y\"],[\"label\",\"@label\"]]},\"id\":\"1132\",\"type\":\"HoverTool\"},{\"attributes\":{},\"id\":\"1200\",\"type\":\"BasicTickFormatter\"},{\"attributes\":{\"data_source\":{\"id\":\"1133\",\"type\":\"ColumnDataSource\"},\"glyph\":{\"id\":\"1162\",\"type\":\"Circle\"},\"hover_glyph\":null,\"muted_glyph\":null,\"nonselection_glyph\":{\"id\":\"1163\",\"type\":\"Circle\"},\"selection_glyph\":null,\"view\":{\"id\":\"1160\",\"type\":\"CDSView\"}},\"id\":\"1164\",\"type\":\"GlyphRenderer\"},{\"attributes\":{},\"id\":\"1114\",\"type\":\"BasicTicker\"},{\"attributes\":{\"filters\":[{\"id\":\"1171\",\"type\":\"GroupFilter\"}],\"source\":{\"id\":\"1133\",\"type\":\"ColumnDataSource\"}},\"id\":\"1172\",\"type\":\"CDSView\"},{\"attributes\":{\"fill_color\":{\"field\":\"label\",\"transform\":{\"id\":\"1134\",\"type\":\"CategoricalColorMapper\"}},\"line_color\":{\"field\":\"label\",\"transform\":{\"id\":\"1134\",\"type\":\"CategoricalColorMapper\"}},\"x\":{\"field\":\"x\"},\"y\":{\"field\":\"y\"}},\"id\":\"1162\",\"type\":\"Circle\"},{\"attributes\":{\"filters\":[{\"id\":\"1159\",\"type\":\"GroupFilter\"}],\"source\":{\"id\":\"1133\",\"type\":\"ColumnDataSource\"}},\"id\":\"1160\",\"type\":\"CDSView\"},{\"attributes\":{\"fill_color\":{\"field\":\"label\",\"transform\":{\"id\":\"1134\",\"type\":\"CategoricalColorMapper\"}},\"line_color\":{\"field\":\"label\",\"transform\":{\"id\":\"1134\",\"type\":\"CategoricalColorMapper\"}},\"x\":{\"field\":\"x\"},\"y\":{\"field\":\"y\"}},\"id\":\"1174\",\"type\":\"Circle\"},{\"attributes\":{\"column_name\":\"label\",\"group\":\"1.00000e+00\"},\"id\":\"1135\",\"type\":\"GroupFilter\"},{\"attributes\":{\"data_source\":{\"id\":\"1133\",\"type\":\"ColumnDataSource\"},\"glyph\":{\"id\":\"1168\",\"type\":\"Circle\"},\"hover_glyph\":null,\"muted_glyph\":null,\"nonselection_glyph\":{\"id\":\"1169\",\"type\":\"Circle\"},\"selection_glyph\":null,\"view\":{\"id\":\"1166\",\"type\":\"CDSView\"}},\"id\":\"1170\",\"type\":\"GlyphRenderer\"},{\"attributes\":{},\"id\":\"1123\",\"type\":\"HelpTool\"},{\"attributes\":{\"filters\":[{\"id\":\"1135\",\"type\":\"GroupFilter\"}],\"source\":{\"id\":\"1133\",\"type\":\"ColumnDataSource\"}},\"id\":\"1136\",\"type\":\"CDSView\"},{\"attributes\":{\"column_name\":\"label\",\"group\":\"3.00000e+00\"},\"id\":\"1147\",\"type\":\"GroupFilter\"},{\"attributes\":{\"dimension\":1,\"ticker\":{\"id\":\"1114\",\"type\":\"BasicTicker\"}},\"id\":\"1117\",\"type\":\"Grid\"},{\"attributes\":{},\"id\":\"1198\",\"type\":\"BasicTickFormatter\"},{\"attributes\":{\"fill_alpha\":{\"value\":0.1},\"fill_color\":{\"value\":\"#1f77b4\"},\"line_alpha\":{\"value\":0.1},\"line_color\":{\"value\":\"#1f77b4\"},\"x\":{\"field\":\"x\"},\"y\":{\"field\":\"y\"}},\"id\":\"1151\",\"type\":\"Circle\"},{\"attributes\":{\"fill_alpha\":{\"value\":0.1},\"fill_color\":{\"value\":\"#1f77b4\"},\"line_alpha\":{\"value\":0.1},\"line_color\":{\"value\":\"#1f77b4\"},\"x\":{\"field\":\"x\"},\"y\":{\"field\":\"y\"}},\"id\":\"1157\",\"type\":\"Circle\"},{\"attributes\":{},\"id\":\"1122\",\"type\":\"ResetTool\"},{\"attributes\":{\"column_name\":\"label\",\"group\":\"5.00000e+00\"},\"id\":\"1159\",\"type\":\"GroupFilter\"},{\"attributes\":{\"axis_label\":\"PC1\",\"formatter\":{\"id\":\"1200\",\"type\":\"BasicTickFormatter\"},\"ticker\":{\"id\":\"1109\",\"type\":\"BasicTicker\"}},\"id\":\"1108\",\"type\":\"LinearAxis\"}],\"root_ids\":[\"1097\"]},\"title\":\"Bokeh Application\",\"version\":\"1.2.0\"}};\n",
       "  var render_items = [{\"docid\":\"76eef185-68b1-48aa-a82f-c2de54b816be\",\"roots\":{\"1097\":\"52f56fef-3edc-4e01-95be-38ee7f12fa1b\"}}];\n",
       "  root.Bokeh.embed.embed_items_notebook(docs_json, render_items);\n",
       "\n",
       "  }\n",
       "  if (root.Bokeh !== undefined) {\n",
       "    embed_document(root);\n",
       "  } else {\n",
       "    var attempts = 0;\n",
       "    var timer = setInterval(function(root) {\n",
       "      if (root.Bokeh !== undefined) {\n",
       "        embed_document(root);\n",
       "        clearInterval(timer);\n",
       "      }\n",
       "      attempts++;\n",
       "      if (attempts > 100) {\n",
       "        console.log(\"Bokeh: ERROR: Unable to run BokehJS code because BokehJS library is missing\");\n",
       "        clearInterval(timer);\n",
       "      }\n",
       "    }, 10, root)\n",
       "  }\n",
       "})(window);"
      ],
      "application/vnd.bokehjs_exec.v0+json": ""
     },
     "metadata": {
      "application/vnd.bokehjs_exec.v0+json": {
       "id": "1097"
      }
     },
     "output_type": "display_data"
    }
   ],
   "source": [
    "p = hl.plot.scatter(mt.scores[0],\n",
    "                    mt.scores[1],\n",
    "                    label=hl.str(mt.birthplace),\n",
    "                    title='PCA', xlabel='PC1', ylabel='PC2')\n",
    "p.plot_width = 800\n",
    "p.plot_height = 600\n",
    "show(p)"
   ]
  },
  {
   "cell_type": "markdown",
   "metadata": {},
   "source": [
    "Above are the two first principal components plotted against eachother. Note that there are four outlier samples. These outliers may be due to the quality of these samples, so we shall invesigate them closer below.\n",
    "\n",
    "As we see below, there seems to be nothing abnormal about these four samples. They may therefore potentially be *ancestry outliers*."
   ]
  },
  {
   "cell_type": "code",
   "execution_count": 66,
   "metadata": {},
   "outputs": [],
   "source": [
    "mt = mt.annotate_cols(pc_outliers = mt.scores[1] > 0.2)"
   ]
  },
  {
   "cell_type": "code",
   "execution_count": 67,
   "metadata": {},
   "outputs": [],
   "source": [
    "exprs_list = [('# heterozygotes', mt.sample_qc.n_het), ('Ti/Tv rate', mt.sample_qc.r_ti_tv), ('Call rate', mt.sample_qc.call_rate), ('# singletons', mt.sample_qc.n_singleton)]\n",
    "plot_list = []\n",
    "for name, exprs in exprs_list:\n",
    "    p = hl.plot.scatter(mt.sample_qc.dp_stats.mean, exprs, label=mt.pc_outliers, xlabel='DP mean', ylabel=name, legend=True)\n",
    "    p.plot_width = 800\n",
    "    p.plot_height = 500\n",
    "    plot_list.append(p)"
   ]
  },
  {
   "cell_type": "code",
   "execution_count": 68,
   "metadata": {},
   "outputs": [
    {
     "data": {
      "text/html": [
       "\n",
       "\n",
       "\n",
       "\n",
       "\n",
       "\n",
       "  <div class=\"bk-root\" id=\"876589df-0e1c-4f2f-a83a-9c3f76b917bd\" data-root-id=\"4685\"></div>\n"
      ]
     },
     "metadata": {},
     "output_type": "display_data"
    },
    {
     "data": {
      "application/javascript": [
       "(function(root) {\n",
       "  function embed_document(root) {\n",
       "    \n",
       "  var docs_json = {\"4eec2f81-d7f8-4896-8bac-229a5c2ecb43\":{\"roots\":{\"references\":[{\"attributes\":{\"children\":[{\"id\":\"4684\",\"type\":\"ToolbarBox\"},{\"id\":\"4682\",\"type\":\"GridBox\"}]},\"id\":\"4685\",\"type\":\"Column\"},{\"attributes\":{\"axis_label\":\"Call rate\",\"formatter\":{\"id\":\"4662\",\"type\":\"BasicTickFormatter\"},\"ticker\":{\"id\":\"4548\",\"type\":\"BasicTicker\"}},\"id\":\"4547\",\"type\":\"LinearAxis\"},{\"attributes\":{\"data_source\":{\"id\":\"4461\",\"type\":\"ColumnDataSource\"},\"glyph\":{\"id\":\"4466\",\"type\":\"Circle\"},\"hover_glyph\":null,\"muted_glyph\":null,\"nonselection_glyph\":{\"id\":\"4467\",\"type\":\"Circle\"},\"selection_glyph\":null,\"view\":{\"id\":\"4464\",\"type\":\"CDSView\"}},\"id\":\"4468\",\"type\":\"GlyphRenderer\"},{\"attributes\":{\"data_source\":{\"id\":\"4514\",\"type\":\"ColumnDataSource\"},\"glyph\":{\"id\":\"4519\",\"type\":\"Circle\"},\"hover_glyph\":null,\"muted_glyph\":null,\"nonselection_glyph\":{\"id\":\"4520\",\"type\":\"Circle\"},\"selection_glyph\":null,\"view\":{\"id\":\"4517\",\"type\":\"CDSView\"}},\"id\":\"4521\",\"type\":\"GlyphRenderer\"},{\"attributes\":{\"data_source\":{\"id\":\"4620\",\"type\":\"ColumnDataSource\"},\"glyph\":{\"id\":\"4631\",\"type\":\"Circle\"},\"hover_glyph\":null,\"muted_glyph\":null,\"nonselection_glyph\":{\"id\":\"4632\",\"type\":\"Circle\"},\"selection_glyph\":null,\"view\":{\"id\":\"4629\",\"type\":\"CDSView\"}},\"id\":\"4633\",\"type\":\"GlyphRenderer\"},{\"attributes\":{},\"id\":\"4499\",\"type\":\"PanTool\"},{\"attributes\":{},\"id\":\"4503\",\"type\":\"ResetTool\"},{\"attributes\":{\"callback\":null},\"id\":\"4481\",\"type\":\"DataRange1d\"},{\"attributes\":{\"click_policy\":\"hide\",\"items\":[{\"id\":\"4634\",\"type\":\"LegendItem\"},{\"id\":\"4635\",\"type\":\"LegendItem\"}]},\"id\":\"4636\",\"type\":\"Legend\"},{\"attributes\":{\"label\":{\"value\":\"false\"},\"renderers\":[{\"id\":\"4468\",\"type\":\"GlyphRenderer\"}]},\"id\":\"4475\",\"type\":\"LegendItem\"},{\"attributes\":{\"fill_alpha\":{\"value\":0.1},\"fill_color\":{\"value\":\"#1f77b4\"},\"line_alpha\":{\"value\":0.1},\"line_color\":{\"value\":\"#1f77b4\"},\"x\":{\"field\":\"x\"},\"y\":{\"field\":\"y\"}},\"id\":\"4520\",\"type\":\"Circle\"},{\"attributes\":{\"filters\":[{\"id\":\"4522\",\"type\":\"GroupFilter\"}],\"source\":{\"id\":\"4514\",\"type\":\"ColumnDataSource\"}},\"id\":\"4523\",\"type\":\"CDSView\"},{\"attributes\":{\"label\":{\"value\":\"true\"},\"renderers\":[{\"id\":\"4633\",\"type\":\"GlyphRenderer\"}]},\"id\":\"4635\",\"type\":\"LegendItem\"},{\"attributes\":{\"tools\":[{\"id\":\"4446\",\"type\":\"PanTool\"},{\"id\":\"4447\",\"type\":\"WheelZoomTool\"},{\"id\":\"4448\",\"type\":\"BoxZoomTool\"},{\"id\":\"4449\",\"type\":\"SaveTool\"},{\"id\":\"4450\",\"type\":\"ResetTool\"},{\"id\":\"4451\",\"type\":\"HelpTool\"},{\"id\":\"4460\",\"type\":\"HoverTool\"},{\"id\":\"4499\",\"type\":\"PanTool\"},{\"id\":\"4500\",\"type\":\"WheelZoomTool\"},{\"id\":\"4501\",\"type\":\"BoxZoomTool\"},{\"id\":\"4502\",\"type\":\"SaveTool\"},{\"id\":\"4503\",\"type\":\"ResetTool\"},{\"id\":\"4504\",\"type\":\"HelpTool\"},{\"id\":\"4513\",\"type\":\"HoverTool\"},{\"id\":\"4552\",\"type\":\"PanTool\"},{\"id\":\"4553\",\"type\":\"WheelZoomTool\"},{\"id\":\"4554\",\"type\":\"BoxZoomTool\"},{\"id\":\"4555\",\"type\":\"SaveTool\"},{\"id\":\"4556\",\"type\":\"ResetTool\"},{\"id\":\"4557\",\"type\":\"HelpTool\"},{\"id\":\"4566\",\"type\":\"HoverTool\"},{\"id\":\"4605\",\"type\":\"PanTool\"},{\"id\":\"4606\",\"type\":\"WheelZoomTool\"},{\"id\":\"4607\",\"type\":\"BoxZoomTool\"},{\"id\":\"4608\",\"type\":\"SaveTool\"},{\"id\":\"4609\",\"type\":\"ResetTool\"},{\"id\":\"4610\",\"type\":\"HelpTool\"},{\"id\":\"4619\",\"type\":\"HoverTool\"}]},\"id\":\"4683\",\"type\":\"ProxyToolbar\"},{\"attributes\":{\"fill_alpha\":{\"value\":0.1},\"fill_color\":{\"value\":\"#1f77b4\"},\"line_alpha\":{\"value\":0.1},\"line_color\":{\"value\":\"#1f77b4\"},\"x\":{\"field\":\"x\"},\"y\":{\"field\":\"y\"}},\"id\":\"4467\",\"type\":\"Circle\"},{\"attributes\":{\"callback\":null,\"tooltips\":[[\"x\",\"@x\"],[\"y\",\"@y\"],[\"label\",\"@label\"]]},\"id\":\"4619\",\"type\":\"HoverTool\"},{\"attributes\":{\"color_mapper\":null,\"formatter\":{\"id\":\"4675\",\"type\":\"BasicTickFormatter\"},\"ticker\":{\"id\":\"4674\",\"type\":\"BasicTicker\"},\"visible\":false},\"id\":\"4637\",\"type\":\"ColorBar\"},{\"attributes\":{\"fill_color\":{\"field\":\"label\",\"transform\":{\"id\":\"4462\",\"type\":\"CategoricalColorMapper\"}},\"line_color\":{\"field\":\"label\",\"transform\":{\"id\":\"4462\",\"type\":\"CategoricalColorMapper\"}},\"x\":{\"field\":\"x\"},\"y\":{\"field\":\"y\"}},\"id\":\"4472\",\"type\":\"Circle\"},{\"attributes\":{},\"id\":\"4651\",\"type\":\"BasicTickFormatter\"},{\"attributes\":{},\"id\":\"4674\",\"type\":\"BasicTicker\"},{\"attributes\":{\"below\":[{\"id\":\"4489\",\"type\":\"LinearAxis\"}],\"center\":[{\"id\":\"4493\",\"type\":\"Grid\"},{\"id\":\"4498\",\"type\":\"Grid\"}],\"left\":[{\"id\":\"4494\",\"type\":\"LinearAxis\"},{\"id\":\"4530\",\"type\":\"Legend\"},{\"id\":\"4531\",\"type\":\"ColorBar\"}],\"plot_height\":400,\"plot_width\":600,\"renderers\":[{\"id\":\"4521\",\"type\":\"GlyphRenderer\"},{\"id\":\"4527\",\"type\":\"GlyphRenderer\"}],\"title\":null,\"toolbar\":{\"id\":\"4505\",\"type\":\"Toolbar\"},\"toolbar_location\":null,\"x_range\":{\"id\":\"4481\",\"type\":\"DataRange1d\"},\"x_scale\":{\"id\":\"4485\",\"type\":\"LinearScale\"},\"y_range\":{\"id\":\"4483\",\"type\":\"DataRange1d\"},\"y_scale\":{\"id\":\"4487\",\"type\":\"LinearScale\"}},\"id\":\"4479\",\"subtype\":\"Figure\",\"type\":\"Plot\"},{\"attributes\":{\"label\":{\"value\":\"false\"},\"renderers\":[{\"id\":\"4521\",\"type\":\"GlyphRenderer\"}]},\"id\":\"4528\",\"type\":\"LegendItem\"},{\"attributes\":{\"column_name\":\"label\",\"group\":\"true\"},\"id\":\"4469\",\"type\":\"GroupFilter\"},{\"attributes\":{\"callback\":null,\"tooltips\":[[\"x\",\"@x\"],[\"y\",\"@y\"],[\"label\",\"@label\"]]},\"id\":\"4460\",\"type\":\"HoverTool\"},{\"attributes\":{},\"id\":\"4642\",\"type\":\"BasicTickFormatter\"},{\"attributes\":{\"fill_alpha\":{\"value\":0.1},\"fill_color\":{\"value\":\"#1f77b4\"},\"line_alpha\":{\"value\":0.1},\"line_color\":{\"value\":\"#1f77b4\"},\"x\":{\"field\":\"x\"},\"y\":{\"field\":\"y\"}},\"id\":\"4473\",\"type\":\"Circle\"},{\"attributes\":{\"data_source\":{\"id\":\"4461\",\"type\":\"ColumnDataSource\"},\"glyph\":{\"id\":\"4472\",\"type\":\"Circle\"},\"hover_glyph\":null,\"muted_glyph\":null,\"nonselection_glyph\":{\"id\":\"4473\",\"type\":\"Circle\"},\"selection_glyph\":null,\"view\":{\"id\":\"4470\",\"type\":\"CDSView\"}},\"id\":\"4474\",\"type\":\"GlyphRenderer\"},{\"attributes\":{\"fill_color\":{\"field\":\"label\",\"transform\":{\"id\":\"4515\",\"type\":\"CategoricalColorMapper\"}},\"line_color\":{\"field\":\"label\",\"transform\":{\"id\":\"4515\",\"type\":\"CategoricalColorMapper\"}},\"x\":{\"field\":\"x\"},\"y\":{\"field\":\"y\"}},\"id\":\"4525\",\"type\":\"Circle\"},{\"attributes\":{},\"id\":\"4663\",\"type\":\"BasicTicker\"},{\"attributes\":{\"column_name\":\"label\",\"group\":\"true\"},\"id\":\"4522\",\"type\":\"GroupFilter\"},{\"attributes\":{},\"id\":\"4502\",\"type\":\"SaveTool\"},{\"attributes\":{},\"id\":\"4647\",\"type\":\"UnionRenderers\"},{\"attributes\":{\"click_policy\":\"hide\",\"items\":[{\"id\":\"4475\",\"type\":\"LegendItem\"},{\"id\":\"4476\",\"type\":\"LegendItem\"}]},\"id\":\"4477\",\"type\":\"Legend\"},{\"attributes\":{\"callback\":null},\"id\":\"4430\",\"type\":\"DataRange1d\"},{\"attributes\":{\"bottom_units\":\"screen\",\"fill_alpha\":{\"value\":0.5},\"fill_color\":{\"value\":\"lightgrey\"},\"left_units\":\"screen\",\"level\":\"overlay\",\"line_alpha\":{\"value\":1.0},\"line_color\":{\"value\":\"black\"},\"line_dash\":[4,4],\"line_width\":{\"value\":2},\"render_mode\":\"css\",\"right_units\":\"screen\",\"top_units\":\"screen\"},\"id\":\"4645\",\"type\":\"BoxAnnotation\"},{\"attributes\":{\"fill_alpha\":{\"value\":0.1},\"fill_color\":{\"value\":\"#1f77b4\"},\"line_alpha\":{\"value\":0.1},\"line_color\":{\"value\":\"#1f77b4\"},\"x\":{\"field\":\"x\"},\"y\":{\"field\":\"y\"}},\"id\":\"4526\",\"type\":\"Circle\"},{\"attributes\":{\"data_source\":{\"id\":\"4514\",\"type\":\"ColumnDataSource\"},\"glyph\":{\"id\":\"4525\",\"type\":\"Circle\"},\"hover_glyph\":null,\"muted_glyph\":null,\"nonselection_glyph\":{\"id\":\"4526\",\"type\":\"Circle\"},\"selection_glyph\":null,\"view\":{\"id\":\"4523\",\"type\":\"CDSView\"}},\"id\":\"4527\",\"type\":\"GlyphRenderer\"},{\"attributes\":{\"label\":{\"value\":\"true\"},\"renderers\":[{\"id\":\"4474\",\"type\":\"GlyphRenderer\"}]},\"id\":\"4476\",\"type\":\"LegendItem\"},{\"attributes\":{\"callback\":null},\"id\":\"4428\",\"type\":\"DataRange1d\"},{\"attributes\":{\"color_mapper\":null,\"formatter\":{\"id\":\"4642\",\"type\":\"BasicTickFormatter\"},\"ticker\":{\"id\":\"4641\",\"type\":\"BasicTicker\"},\"visible\":false},\"id\":\"4478\",\"type\":\"ColorBar\"},{\"attributes\":{},\"id\":\"4500\",\"type\":\"WheelZoomTool\"},{\"attributes\":{\"click_policy\":\"hide\",\"items\":[{\"id\":\"4528\",\"type\":\"LegendItem\"},{\"id\":\"4529\",\"type\":\"LegendItem\"}]},\"id\":\"4530\",\"type\":\"Legend\"},{\"attributes\":{\"label\":{\"value\":\"true\"},\"renderers\":[{\"id\":\"4527\",\"type\":\"GlyphRenderer\"}]},\"id\":\"4529\",\"type\":\"LegendItem\"},{\"attributes\":{},\"id\":\"4504\",\"type\":\"HelpTool\"},{\"attributes\":{\"axis_label\":\"DP mean\",\"formatter\":{\"id\":\"4644\",\"type\":\"BasicTickFormatter\"},\"ticker\":{\"id\":\"4437\",\"type\":\"BasicTicker\"}},\"id\":\"4436\",\"type\":\"LinearAxis\"},{\"attributes\":{},\"id\":\"4432\",\"type\":\"LinearScale\"},{\"attributes\":{\"color_mapper\":null,\"formatter\":{\"id\":\"4653\",\"type\":\"BasicTickFormatter\"},\"ticker\":{\"id\":\"4652\",\"type\":\"BasicTicker\"},\"visible\":false},\"id\":\"4531\",\"type\":\"ColorBar\"},{\"attributes\":{\"dimension\":1,\"ticker\":{\"id\":\"4548\",\"type\":\"BasicTicker\"}},\"id\":\"4551\",\"type\":\"Grid\"},{\"attributes\":{\"overlay\":{\"id\":\"4656\",\"type\":\"BoxAnnotation\"}},\"id\":\"4501\",\"type\":\"BoxZoomTool\"},{\"attributes\":{},\"id\":\"4437\",\"type\":\"BasicTicker\"},{\"attributes\":{\"fill_color\":{\"field\":\"label\",\"transform\":{\"id\":\"4462\",\"type\":\"CategoricalColorMapper\"}},\"line_color\":{\"field\":\"label\",\"transform\":{\"id\":\"4462\",\"type\":\"CategoricalColorMapper\"}},\"x\":{\"field\":\"x\"},\"y\":{\"field\":\"y\"}},\"id\":\"4466\",\"type\":\"Circle\"},{\"attributes\":{},\"id\":\"4548\",\"type\":\"BasicTicker\"},{\"attributes\":{\"ticker\":{\"id\":\"4543\",\"type\":\"BasicTicker\"}},\"id\":\"4546\",\"type\":\"Grid\"},{\"attributes\":{\"column_name\":\"label\",\"group\":\"false\"},\"id\":\"4463\",\"type\":\"GroupFilter\"},{\"attributes\":{},\"id\":\"4485\",\"type\":\"LinearScale\"},{\"attributes\":{\"callback\":null,\"data\":{\"index\":[0,1,2,3,4,5,6,7,8,9,10,11,12,13,14,15,16,17,18,19,20,21,22,23,24,25,26,27,28,29,30,31,32,33,34,35,36,37,38,39,40,41,42,43,44,45,46,47,48,49,50,51,52,53,54,55,56,57,58,59,60,61,62,63,64,65,66,67,68,69,70,71,72,73,74,75,76,77,78,79,80,81,82,83,84,85,86,87,88,89,90,91,92,93,94,95,96,97,98,99,100,101,102,103,104,105,106,107,108,109,110,111,112,113,114,115,116,117,118,119,120,121,122,123,124,125,126,127,128,129,130,131,132,133,134,135,136,137,138,139,140,141,142,143,144,145,146,147,148,149,150,151,152,153,154,155,156,157,158,159,160,161,162,163,164,165,166,167,168,169,170,171,172,173,174,175,176,177,178,179,180,181,182,183,184,185,186,187,188,189,190,191,192,193,194,195,196,197,198,199,200,201,202,203,204,205,206,207,208,209,210,211,212,213,214,215,216,217,218,219,220,221,222,223,224,225,226,227,228,229,230,231,232,233,234,235,236,237,238,239,240,241,242,243,244,245,246,247,248,249,250,251,252,253,254,255,256,257,258,259,260,261,262,263,264,265,266,267,268,269,270,271,272,273,274,275,276,277,278,279,280,281,282,283,284,285,286,287,288,289,290,291,292,293,294,295,296,297,298,299,300,301,302,303,304,305,306,307,308,309,310,311,312,313,314,315,316,317,318,319,320,321,322,323,324,325,326,327,328,329,330,331,332,333,334,335,336,337,338,339,340,341,342,343,344,345],\"label\":[\"false\",\"false\",\"false\",\"false\",\"false\",\"false\",\"false\",\"false\",\"false\",\"false\",\"false\",\"false\",\"false\",\"false\",\"false\",\"false\",\"false\",\"false\",\"false\",\"false\",\"false\",\"false\",\"false\",\"false\",\"false\",\"false\",\"false\",\"false\",\"false\",\"false\",\"false\",\"false\",\"false\",\"false\",\"false\",\"false\",\"false\",\"false\",\"false\",\"false\",\"false\",\"false\",\"false\",\"false\",\"false\",\"false\",\"false\",\"false\",\"false\",\"false\",\"false\",\"false\",\"false\",\"false\",\"false\",\"false\",\"false\",\"false\",\"false\",\"false\",\"false\",\"false\",\"false\",\"false\",\"false\",\"false\",\"true\",\"false\",\"false\",\"false\",\"false\",\"false\",\"false\",\"false\",\"false\",\"false\",\"false\",\"false\",\"false\",\"false\",\"false\",\"false\",\"false\",\"false\",\"false\",\"false\",\"false\",\"false\",\"false\",\"false\",\"false\",\"false\",\"false\",\"false\",\"false\",\"false\",\"false\",\"false\",\"false\",\"false\",\"false\",\"false\",\"false\",\"false\",\"false\",\"false\",\"false\",\"false\",\"false\",\"false\",\"false\",\"false\",\"false\",\"false\",\"false\",\"false\",\"false\",\"false\",\"false\",\"false\",\"false\",\"false\",\"false\",\"false\",\"false\",\"false\",\"false\",\"false\",\"false\",\"false\",\"false\",\"false\",\"false\",\"false\",\"false\",\"true\",\"false\",\"false\",\"false\",\"false\",\"false\",\"false\",\"false\",\"false\",\"false\",\"false\",\"false\",\"false\",\"false\",\"false\",\"false\",\"false\",\"false\",\"false\",\"false\",\"false\",\"false\",\"false\",\"false\",\"false\",\"false\",\"false\",\"false\",\"false\",\"false\",\"false\",\"false\",\"false\",\"false\",\"false\",\"false\",\"false\",\"false\",\"false\",\"false\",\"false\",\"false\",\"false\",\"false\",\"false\",\"false\",\"false\",\"false\",\"false\",\"false\",\"false\",\"false\",\"false\",\"false\",\"false\",\"false\",\"false\",\"false\",\"false\",\"false\",\"false\",\"false\",\"false\",\"false\",\"false\",\"false\",\"false\",\"false\",\"true\",\"false\",\"false\",\"false\",\"false\",\"false\",\"false\",\"false\",\"false\",\"false\",\"false\",\"false\",\"false\",\"false\",\"false\",\"false\",\"false\",\"false\",\"false\",\"false\",\"false\",\"false\",\"false\",\"false\",\"false\",\"false\",\"false\",\"false\",\"false\",\"false\",\"false\",\"false\",\"false\",\"false\",\"false\",\"false\",\"false\",\"false\",\"false\",\"false\",\"true\",\"false\",\"false\",\"false\",\"false\",\"false\",\"false\",\"false\",\"false\",\"false\",\"false\",\"false\",\"false\",\"false\",\"false\",\"false\",\"false\",\"false\",\"false\",\"false\",\"false\",\"false\",\"false\",\"false\",\"false\",\"false\",\"false\",\"false\",\"false\",\"false\",\"false\",\"false\",\"false\",\"false\",\"false\",\"false\",\"false\",\"false\",\"false\",\"false\",\"false\",\"false\",\"false\",\"false\",\"false\",\"false\",\"false\",\"false\",\"false\",\"false\",\"false\",\"false\",\"false\",\"false\",\"false\",\"false\",\"false\",\"false\",\"false\",\"false\",\"false\",\"false\",\"false\",\"false\",\"true\",\"false\",\"false\",\"false\",\"false\",\"false\",\"false\",\"false\",\"false\",\"false\",\"true\",\"false\",\"false\",\"false\",\"false\",\"false\",\"false\",\"false\",\"false\",\"false\",\"false\",\"false\",\"false\",\"false\",\"false\",\"true\",\"false\",\"false\",\"false\",\"false\",\"false\",\"false\",\"false\",\"false\",\"false\",\"false\",\"false\",\"false\",\"false\"],\"x\":{\"__ndarray__\":\"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\",\"dtype\":\"float64\",\"shape\":[346]},\"y\":{\"__ndarray__\":\"Ki6qgQLnA0BV4dnGH6wDQOwPxabM+QNA0yy+XZzVA0DCjopwxh0EQI9u2v3TeQNAoaRci9mVA0AzE5uEq38DQOyF/2040gNAwxK6YR/oA0BaSc/3g9MDQJAJOYtFOARAl5aWlpakA0BQu/3iu6MDQFT7bnM6egNAvxH3/pwABECXSdjM05ADQOFvoPFmjQNADPndScWzA0CCDkR/jZsDQHCI102ufQNA9pI4UXPCA0Ci5dWJb3ADQF8/mBycuANALEF3WLKIA0CrzHD42J4DQDkoAksztwNAUNKX7pCIA0BhOfq2/IQDQFsJCQABxwNAxRiLNwKRA0C4F0VDHbwDQGQ+MLSbnQNASP9jdbydA0DmBpOGfsoDQAuNq9T1nANALliGnyGXA0BOoL1Mv5wDQIMYUwpRkQNARNrk2wqoA0Brhf3gSbADQPow06BRNQNAPD7ulI99A0DV88IZbVYDQGfTNNSNogNAhgLhjECTA0DOPAhjgJMDQDvtxLJ71wNAdtnmCpaDA0CvhYTHb5IDQOhqjGNqyQNACIZZG1W5A0CNaVimrXgDQFoAPnJ3kQNAYHvIZcWgA0CKwBcVoIMDQDjY7nl7XQNAkEu+2T9+A0BcvjlC8MMDQKrVRRJNegNAriIGhdhDA0DV63gyDXADQPg7GgK8oANAz78E6DpjA0Ci5MMNbWUDQAbRptAYdwNAMmWnM9+qA0D0cg8z+3oDQLvZnUQpiwNAQ/zteB91A0B81uloJ4QDQKQvWWWyqANA7tl3+JKsA0B50fcWi3kDQJL2nAtKigNAiHcS2XGfA0CNCRbkq4wDQA8AfwT/kANAPqfgDjZtA0BteLz/xokDQF0IKwGBsQNAbeumjjCSA0B7Arks518DQNcNU/PecgNAbNFdttxtA0AtZCELWYIDQHSPArFwkQNAY9BfMJZOA0AW55Dc9ncDQGR0PFi/ggNAEH+vZkGZA0AfRd68R6UDQKcfpvmYmANAv2c6z9x/A0CZDaudSLsDQF0V1tsJegNAR2DyMahmA0ABd3KOjG0DQFdvdn+5dwNALgxb9cZ+A0Dxv7ALSJgDQDGpNVUoTgNAbURVR71pA0CFQWhumYEDQBslKpjPiQNAZYnCV0qVA0CA8uyRfK0DQGuthGlXSwNAE222bfxoA0DJ2p6MfocDQMc1uRtslANAqp9fya1FA0DFWYFaPmUDQHD+OKEniwNAVBL7Fo+YA0BbQ5q3ylQDQBxAUEqInQNAV8AVcAVcA0Clj6PqMXgDQBAT0A3vfwNAxVzwKEdbA0Cw3Ag9wWQDQLlnvyR3eANAI5fLx5yPA0AeR/rl2HgDQItVUWLbgANAyip7jQmHA0CeKUgKIWIDQIJ1Y8jfggNAtysj4K+GA0BbKso1tnEDQKyy5XXKOgNAHCt4pipqA0DHg3mBQ4cDQHUo9PZxlgNAWFYqDO+ZA0BRX97QXFUDQKxBSnrjeANAy0p7CqV/A0B25N1RhJMDQCQrXb2ZtgNAJMvuuahiA0BHoGF3+GgDQKnSIg5mcANAV5mR2IFTA0DrO2mypWgDQERoHwydiwNAFjcMC8FfA0BixHjs8nEDQOzfmuvfmgNApIilOyRbA0Dicq56W2cDQNpXUKHejgNAp9yHVhNlA0CJv5PGPHUDQD/KU249oANAZS4hqAxIA0CyWlF5lYADQHGdASMuhwNAMKFBEuReA0DGE4vS3msDQJcrSo+iiQNAdNFFF12WA0Ct+6a9QmgDQFBhrWJodgNAkESv0lCCA0DfqW8eJGEDQGjknb/FaQNApROMvTuMA0DC/ygYJagDQPJcBfwjQANAbJa7741TA0DNHi8Ow4UDQFL8QZtSmwNAq6qqqqpSA0BrZWXKrmwDQHYSz0TVdANAwk7QcvZYA0Di6q+yMm8DQBpiCkkcswNAjxBYodlYA0CC9yqTbF4DQLebdacicwNA2rX4pu90A0BvOKZU+X4DQH+F1L5BaANAhYqlOYCFA0DtdHsDwJcDQK9SX5iSYgNAPdJTdCdZA0AXcM0j7XMDQEOokBSWWgNAifIw4p9gA0B+hDDn63MDQH8g6/NeXANAoQUAimORA0ANcmyX+GQDQD/jeZmMowNALF2p2/RTA0DvBzushWkDQJvlEAoZcwNAwHQebNlDA0AW1Hn1hE4DQPRECpoGYwNAPBv1nY12A0DKsacjx4QDQF2ECbaNLwNAKwph+zBfA0DiVhp7EGcDQPNGYT2rewNAFs+eogBlA0BI/auaWHMDQBJKPdSiXANAogsCYPp3A0Bif/HpGHsDQK7I+A2BhgNAuoqcwQdBA0CEwdE7FSwDQF87KWo2PQNA4wR2WxdoA0DNs1BTWowDQHJZNQZ9SANA2S/xZIBoA0C6rV/6/oIDQIBg0NjYswNAOvgJDzVSA0CzhxecuZYDQET6xzgldQNAjEb4mlI7A0BNadYypVkDQObIzjPmYQNASIjvo9aTA0A6vw5rZ2wDQJ6vF2cpcQNAtim7owyOA0BQj7IlzWUDQEcs5DN6dQNAeSoLHNuCA0CjJxC/QEoDQLzpR3MJWgNAuRx5X3ldA0A9ed/A5mgDQO27o9yXWANAMYEpCYZnA0CrajmP31UDQIBo/VIHXgNAV9v7piJ0A0AX3YncxHADQPU0jYlFpgNABg+8QSZVA0A+GdJjxmsDQJYTQBiCSANA7H7d2OhPA0BbzEoFIV4DQEd1I4/3dQNA4IVVryp9A0A5003l/0EDQB34ss9QRgNA2Qs0SW9NA0BmgeQSfmkDQMhufokEmQNAnp+Kb/QuA0C0JzbW6EoDQE+og8v2hQNAn14cj9xEA0A7U8ZYP34DQDDEUUGtPANAgIvBipaJA0Ak/xNvqZwDQG7CCOn8TANAylwJ11dsA0C86/gmApQDQPSGO4qyRQNA06xM4hZTA0BicB237F4DQGPDrZL9VwNAnfq69ilhA0ABqgCqAGoDQFKeHeZBfwNABD+q8H5cA0BEyotsD3sDQAv3CofCWwNAfk/7fv5vA0B4i8zfn0kDQEpQQKPgOgNAyiNRjlxrA0DvTifFgHUDQKaT6mg9cgNAr+vJW2hUA0Dz3K8jZFIDQF2FpkhuWwNA0U1jcwxsA0BTsNB5qj4DQN4vn19FRwNAz2D7TG9WA0CpiNc7l1YDQPG4nNjVMgNAPwWPtERFA0B7qw2bX2UDQFzzZ5YLdgNAHdtFw9RLA0CqHgfaH1YDQEoS9hteZANAjWKoeOhXA0Dj6KacQiwDQEMJ/pLrYANAtnwnJjZ2A0AjrSfVG0kDQH4yfSjdJwNAVkiB7MFiA0AKmEshlIgDQN4FLVzWLQNACSUBYqZDA0CK5rqh7lQDQFL9fd4mTQNATNJnH6ZEA0Ar7gVlrF8DQHyMSFQ2KwNA/cZgbOJRA0BuVT/aoFkDQJtEfIBEWgNA0yFc7h9aA0DR58VfM2kDQN08ImcNZQNAliF+Gq0sA0Bi1gIOx0oDQCSfofEFVQNAyPECPxFxA0Dd/yxvRVwDQBSNZo5EZgNAbzb7zVpFA0AF14ebKGwDQNYNS3M2WgNAB016Ab02A0Do39r9pVwDQMSPG6fpVQNAgpGazpZ5A0B8xx0aVEADQGiH3iTBUQNAmYUlvO1dA0CQ1RfoAkgDQHC5QFkBgANAI48Tj/pnA0BlUg3iiigDQHa3R3miZwNATMps/RZsA0A=\",\"dtype\":\"float64\",\"shape\":[346]}},\"selected\":{\"id\":\"4657\",\"type\":\"Selection\"},\"selection_policy\":{\"id\":\"4658\",\"type\":\"UnionRenderers\"}},\"id\":\"4514\",\"type\":\"ColumnDataSource\"},{\"attributes\":{\"callback\":null},\"id\":\"4536\",\"type\":\"DataRange1d\"},{\"attributes\":{\"factors\":[\"true\",\"false\"],\"palette\":[\"#1f77b4\",\"#ff7f0e\",\"#2ca02c\",\"#d62728\",\"#9467bd\",\"#8c564b\",\"#e377c2\",\"#7f7f7f\",\"#bcbd22\",\"#17becf\"]},\"id\":\"4515\",\"type\":\"CategoricalColorMapper\"},{\"attributes\":{},\"id\":\"4543\",\"type\":\"BasicTicker\"},{\"attributes\":{\"callback\":null,\"tooltips\":[[\"x\",\"@x\"],[\"y\",\"@y\"],[\"label\",\"@label\"]]},\"id\":\"4566\",\"type\":\"HoverTool\"},{\"attributes\":{\"dimension\":1,\"ticker\":{\"id\":\"4442\",\"type\":\"BasicTicker\"}},\"id\":\"4445\",\"type\":\"Grid\"},{\"attributes\":{},\"id\":\"4652\",\"type\":\"BasicTicker\"},{\"attributes\":{\"axis_label\":\"DP mean\",\"formatter\":{\"id\":\"4655\",\"type\":\"BasicTickFormatter\"},\"ticker\":{\"id\":\"4490\",\"type\":\"BasicTicker\"}},\"id\":\"4489\",\"type\":\"LinearAxis\"},{\"attributes\":{},\"id\":\"4552\",\"type\":\"PanTool\"},{\"attributes\":{},\"id\":\"4434\",\"type\":\"LinearScale\"},{\"attributes\":{\"active_drag\":\"auto\",\"active_inspect\":\"auto\",\"active_multi\":null,\"active_scroll\":\"auto\",\"active_tap\":\"auto\",\"tools\":[{\"id\":\"4499\",\"type\":\"PanTool\"},{\"id\":\"4500\",\"type\":\"WheelZoomTool\"},{\"id\":\"4501\",\"type\":\"BoxZoomTool\"},{\"id\":\"4502\",\"type\":\"SaveTool\"},{\"id\":\"4503\",\"type\":\"ResetTool\"},{\"id\":\"4504\",\"type\":\"HelpTool\"},{\"id\":\"4513\",\"type\":\"HoverTool\"}]},\"id\":\"4505\",\"type\":\"Toolbar\"},{\"attributes\":{\"column_name\":\"label\",\"group\":\"false\"},\"id\":\"4569\",\"type\":\"GroupFilter\"},{\"attributes\":{\"callback\":null},\"id\":\"4534\",\"type\":\"DataRange1d\"},{\"attributes\":{},\"id\":\"4442\",\"type\":\"BasicTicker\"},{\"attributes\":{\"filters\":[{\"id\":\"4463\",\"type\":\"GroupFilter\"}],\"source\":{\"id\":\"4461\",\"type\":\"ColumnDataSource\"}},\"id\":\"4464\",\"type\":\"CDSView\"},{\"attributes\":{},\"id\":\"4644\",\"type\":\"BasicTickFormatter\"},{\"attributes\":{},\"id\":\"4553\",\"type\":\"WheelZoomTool\"},{\"attributes\":{\"axis_label\":\"# heterozygotes\",\"formatter\":{\"id\":\"4640\",\"type\":\"BasicTickFormatter\"},\"ticker\":{\"id\":\"4442\",\"type\":\"BasicTicker\"}},\"id\":\"4441\",\"type\":\"LinearAxis\"},{\"attributes\":{\"ticker\":{\"id\":\"4437\",\"type\":\"BasicTicker\"}},\"id\":\"4440\",\"type\":\"Grid\"},{\"attributes\":{\"overlay\":{\"id\":\"4667\",\"type\":\"BoxAnnotation\"}},\"id\":\"4554\",\"type\":\"BoxZoomTool\"},{\"attributes\":{},\"id\":\"4653\",\"type\":\"BasicTickFormatter\"},{\"attributes\":{\"factors\":[\"true\",\"false\"],\"palette\":[\"#1f77b4\",\"#ff7f0e\",\"#2ca02c\",\"#d62728\",\"#9467bd\",\"#8c564b\",\"#e377c2\",\"#7f7f7f\",\"#bcbd22\",\"#17becf\"]},\"id\":\"4462\",\"type\":\"CategoricalColorMapper\"},{\"attributes\":{},\"id\":\"4446\",\"type\":\"PanTool\"},{\"attributes\":{\"column_name\":\"label\",\"group\":\"false\"},\"id\":\"4516\",\"type\":\"GroupFilter\"},{\"attributes\":{},\"id\":\"4538\",\"type\":\"LinearScale\"},{\"attributes\":{},\"id\":\"4449\",\"type\":\"SaveTool\"},{\"attributes\":{\"fill_color\":{\"field\":\"label\",\"transform\":{\"id\":\"4515\",\"type\":\"CategoricalColorMapper\"}},\"line_color\":{\"field\":\"label\",\"transform\":{\"id\":\"4515\",\"type\":\"CategoricalColorMapper\"}},\"x\":{\"field\":\"x\"},\"y\":{\"field\":\"y\"}},\"id\":\"4519\",\"type\":\"Circle\"},{\"attributes\":{\"below\":[{\"id\":\"4542\",\"type\":\"LinearAxis\"}],\"center\":[{\"id\":\"4546\",\"type\":\"Grid\"},{\"id\":\"4551\",\"type\":\"Grid\"}],\"left\":[{\"id\":\"4547\",\"type\":\"LinearAxis\"},{\"id\":\"4583\",\"type\":\"Legend\"},{\"id\":\"4584\",\"type\":\"ColorBar\"}],\"plot_height\":400,\"plot_width\":600,\"renderers\":[{\"id\":\"4574\",\"type\":\"GlyphRenderer\"},{\"id\":\"4580\",\"type\":\"GlyphRenderer\"}],\"title\":null,\"toolbar\":{\"id\":\"4558\",\"type\":\"Toolbar\"},\"toolbar_location\":null,\"x_range\":{\"id\":\"4534\",\"type\":\"DataRange1d\"},\"x_scale\":{\"id\":\"4538\",\"type\":\"LinearScale\"},\"y_range\":{\"id\":\"4536\",\"type\":\"DataRange1d\"},\"y_scale\":{\"id\":\"4540\",\"type\":\"LinearScale\"}},\"id\":\"4532\",\"subtype\":\"Figure\",\"type\":\"Plot\"},{\"attributes\":{},\"id\":\"4641\",\"type\":\"BasicTicker\"},{\"attributes\":{},\"id\":\"4447\",\"type\":\"WheelZoomTool\"},{\"attributes\":{\"active_drag\":\"auto\",\"active_inspect\":\"auto\",\"active_multi\":null,\"active_scroll\":\"auto\",\"active_tap\":\"auto\",\"tools\":[{\"id\":\"4446\",\"type\":\"PanTool\"},{\"id\":\"4447\",\"type\":\"WheelZoomTool\"},{\"id\":\"4448\",\"type\":\"BoxZoomTool\"},{\"id\":\"4449\",\"type\":\"SaveTool\"},{\"id\":\"4450\",\"type\":\"ResetTool\"},{\"id\":\"4451\",\"type\":\"HelpTool\"},{\"id\":\"4460\",\"type\":\"HoverTool\"}]},\"id\":\"4452\",\"type\":\"Toolbar\"},{\"attributes\":{\"overlay\":{\"id\":\"4645\",\"type\":\"BoxAnnotation\"}},\"id\":\"4448\",\"type\":\"BoxZoomTool\"},{\"attributes\":{},\"id\":\"4640\",\"type\":\"BasicTickFormatter\"},{\"attributes\":{\"callback\":null,\"data\":{\"index\":[0,1,2,3,4,5,6,7,8,9,10,11,12,13,14,15,16,17,18,19,20,21,22,23,24,25,26,27,28,29,30,31,32,33,34,35,36,37,38,39,40,41,42,43,44,45,46,47,48,49,50,51,52,53,54,55,56,57,58,59,60,61,62,63,64,65,66,67,68,69,70,71,72,73,74,75,76,77,78,79,80,81,82,83,84,85,86,87,88,89,90,91,92,93,94,95,96,97,98,99,100,101,102,103,104,105,106,107,108,109,110,111,112,113,114,115,116,117,118,119,120,121,122,123,124,125,126,127,128,129,130,131,132,133,134,135,136,137,138,139,140,141,142,143,144,145,146,147,148,149,150,151,152,153,154,155,156,157,158,159,160,161,162,163,164,165,166,167,168,169,170,171,172,173,174,175,176,177,178,179,180,181,182,183,184,185,186,187,188,189,190,191,192,193,194,195,196,197,198,199,200,201,202,203,204,205,206,207,208,209,210,211,212,213,214,215,216,217,218,219,220,221,222,223,224,225,226,227,228,229,230,231,232,233,234,235,236,237,238,239,240,241,242,243,244,245,246,247,248,249,250,251,252,253,254,255,256,257,258,259,260,261,262,263,264,265,266,267,268,269,270,271,272,273,274,275,276,277,278,279,280,281,282,283,284,285,286,287,288,289,290,291,292,293,294,295,296,297,298,299,300,301,302,303,304,305,306,307,308,309,310,311,312,313,314,315,316,317,318,319,320,321,322,323,324,325,326,327,328,329,330,331,332,333,334,335,336,337,338,339,340,341,342,343,344,345,346,347,348,349,350,351,352,353,354,355,356,357,358,359],\"label\":[\"false\",\"false\",\"false\",\"false\",\"false\",\"false\",\"false\",\"false\",\"false\",\"false\",\"false\",\"false\",\"false\",\"false\",\"false\",\"false\",\"false\",\"false\",\"false\",\"false\",\"false\",\"false\",\"false\",\"false\",\"false\",\"false\",\"false\",\"false\",\"false\",\"false\",\"false\",\"false\",\"false\",\"false\",\"false\",\"false\",\"false\",\"false\",\"false\",\"false\",\"false\",\"false\",\"false\",\"false\",\"false\",\"false\",\"false\",\"false\",\"false\",\"false\",\"false\",\"false\",\"false\",\"false\",\"false\",\"false\",\"false\",\"false\",\"false\",\"false\",\"false\",\"false\",\"false\",\"false\",\"false\",\"true\",\"false\",\"false\",\"false\",\"false\",\"false\",\"false\",\"false\",\"false\",\"false\",\"false\",\"false\",\"false\",\"false\",\"false\",\"false\",\"false\",\"false\",\"false\",\"false\",\"false\",\"false\",\"false\",\"false\",\"false\",\"false\",\"false\",\"false\",\"false\",\"false\",\"false\",\"false\",\"false\",\"false\",\"false\",\"false\",\"false\",\"false\",\"false\",\"false\",\"false\",\"false\",\"false\",\"false\",\"false\",\"false\",\"false\",\"false\",\"false\",\"false\",\"false\",\"false\",\"false\",\"false\",\"false\",\"false\",\"false\",\"false\",\"false\",\"false\",\"false\",\"false\",\"false\",\"false\",\"false\",\"false\",\"false\",\"false\",\"false\",\"false\",\"false\",\"false\",\"false\",\"false\",\"false\",\"true\",\"false\",\"false\",\"false\",\"false\",\"false\",\"false\",\"false\",\"false\",\"false\",\"false\",\"false\",\"false\",\"false\",\"false\",\"false\",\"false\",\"false\",\"false\",\"false\",\"false\",\"false\",\"false\",\"false\",\"false\",\"false\",\"false\",\"false\",\"false\",\"false\",\"false\",\"false\",\"false\",\"false\",\"false\",\"false\",\"false\",\"false\",\"false\",\"false\",\"false\",\"false\",\"false\",\"false\",\"false\",\"false\",\"false\",\"false\",\"false\",\"false\",\"false\",\"false\",\"false\",\"false\",\"false\",\"false\",\"true\",\"false\",\"false\",\"false\",\"false\",\"false\",\"false\",\"false\",\"false\",\"false\",\"false\",\"false\",\"false\",\"false\",\"false\",\"false\",\"false\",\"false\",\"false\",\"false\",\"false\",\"false\",\"false\",\"false\",\"false\",\"true\",\"false\",\"false\",\"false\",\"false\",\"false\",\"false\",\"false\",\"false\",\"false\",\"false\",\"false\",\"false\",\"false\",\"false\",\"false\",\"false\",\"false\",\"false\",\"false\",\"false\",\"false\",\"false\",\"false\",\"false\",\"false\",\"false\",\"false\",\"false\",\"false\",\"false\",\"false\",\"false\",\"false\",\"false\",\"false\",\"false\",\"false\",\"false\",\"false\",\"true\",\"false\",\"false\",\"false\",\"false\",\"false\",\"false\",\"false\",\"false\",\"false\",\"false\",\"false\",\"false\",\"false\",\"false\",\"false\",\"false\",\"false\",\"false\",\"false\",\"false\",\"false\",\"false\",\"false\",\"false\",\"false\",\"false\",\"false\",\"false\",\"false\",\"false\",\"false\",\"false\",\"false\",\"false\",\"false\",\"false\",\"false\",\"false\",\"false\",\"false\",\"false\",\"false\",\"false\",\"false\",\"false\",\"false\",\"false\",\"false\",\"false\",\"false\",\"false\",\"false\",\"false\",\"false\",\"false\",\"false\",\"false\",\"false\",\"false\",\"true\",\"false\",\"false\",\"false\",\"false\",\"false\",\"false\",\"false\",\"false\",\"false\",\"true\",\"false\",\"false\",\"false\",\"false\",\"false\",\"false\",\"false\",\"false\",\"false\",\"false\",\"false\",\"false\",\"false\",\"false\",\"true\",\"false\",\"false\",\"false\",\"false\",\"false\",\"false\",\"false\",\"false\",\"false\",\"false\",\"false\",\"false\",\"false\"],\"x\":{\"__ndarray__\":\"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\",\"dtype\":\"float64\",\"shape\":[360]},\"y\":{\"__ndarray__\":\"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\",\"dtype\":\"float64\",\"shape\":[360]}},\"selected\":{\"id\":\"4646\",\"type\":\"Selection\"},\"selection_policy\":{\"id\":\"4647\",\"type\":\"UnionRenderers\"}},\"id\":\"4461\",\"type\":\"ColumnDataSource\"},{\"attributes\":{\"filters\":[{\"id\":\"4469\",\"type\":\"GroupFilter\"}],\"source\":{\"id\":\"4461\",\"type\":\"ColumnDataSource\"}},\"id\":\"4470\",\"type\":\"CDSView\"},{\"attributes\":{},\"id\":\"4662\",\"type\":\"BasicTickFormatter\"},{\"attributes\":{},\"id\":\"4487\",\"type\":\"LinearScale\"},{\"attributes\":{\"children\":[[{\"id\":\"4426\",\"subtype\":\"Figure\",\"type\":\"Plot\"},0,0],[{\"id\":\"4479\",\"subtype\":\"Figure\",\"type\":\"Plot\"},0,1],[{\"id\":\"4532\",\"subtype\":\"Figure\",\"type\":\"Plot\"},1,0],[{\"id\":\"4585\",\"subtype\":\"Figure\",\"type\":\"Plot\"},1,1]]},\"id\":\"4682\",\"type\":\"GridBox\"},{\"attributes\":{\"data_source\":{\"id\":\"4567\",\"type\":\"ColumnDataSource\"},\"glyph\":{\"id\":\"4578\",\"type\":\"Circle\"},\"hover_glyph\":null,\"muted_glyph\":null,\"nonselection_glyph\":{\"id\":\"4579\",\"type\":\"Circle\"},\"selection_glyph\":null,\"view\":{\"id\":\"4576\",\"type\":\"CDSView\"}},\"id\":\"4580\",\"type\":\"GlyphRenderer\"},{\"attributes\":{\"click_policy\":\"hide\",\"items\":[{\"id\":\"4581\",\"type\":\"LegendItem\"},{\"id\":\"4582\",\"type\":\"LegendItem\"}]},\"id\":\"4583\",\"type\":\"Legend\"},{\"attributes\":{\"fill_alpha\":{\"value\":0.1},\"fill_color\":{\"value\":\"#1f77b4\"},\"line_alpha\":{\"value\":0.1},\"line_color\":{\"value\":\"#1f77b4\"},\"x\":{\"field\":\"x\"},\"y\":{\"field\":\"y\"}},\"id\":\"4626\",\"type\":\"Circle\"},{\"attributes\":{\"label\":{\"value\":\"true\"},\"renderers\":[{\"id\":\"4580\",\"type\":\"GlyphRenderer\"}]},\"id\":\"4582\",\"type\":\"LegendItem\"},{\"attributes\":{},\"id\":\"4451\",\"type\":\"HelpTool\"},{\"attributes\":{},\"id\":\"4677\",\"type\":\"BasicTickFormatter\"},{\"attributes\":{\"fill_color\":{\"field\":\"label\",\"transform\":{\"id\":\"4621\",\"type\":\"CategoricalColorMapper\"}},\"line_color\":{\"field\":\"label\",\"transform\":{\"id\":\"4621\",\"type\":\"CategoricalColorMapper\"}},\"x\":{\"field\":\"x\"},\"y\":{\"field\":\"y\"}},\"id\":\"4625\",\"type\":\"Circle\"},{\"attributes\":{},\"id\":\"4646\",\"type\":\"Selection\"},{\"attributes\":{\"callback\":null,\"data\":{\"index\":[0,1,2,3,4,5,6,7,8,9,10,11,12,13,14,15,16,17,18,19,20,21,22,23,24,25,26,27,28,29,30,31,32,33,34,35,36,37,38,39,40,41,42,43,44,45,46,47,48,49,50,51,52,53,54,55,56,57,58,59,60,61,62,63,64,65,66,67,68,69,70,71,72,73,74,75,76,77,78,79,80,81,82,83,84,85,86,87,88,89,90,91,92,93,94,95,96,97,98,99,100,101,102,103,104,105,106,107,108,109,110,111,112,113,114,115,116,117,118,119,120,121,122,123,124,125,126,127,128,129,130,131,132,133,134,135,136,137,138,139,140,141,142,143,144,145,146,147,148,149,150,151,152,153,154,155,156,157,158,159,160,161,162,163,164,165,166,167,168,169,170,171,172,173,174,175,176,177,178,179,180,181,182,183,184,185,186,187,188,189,190,191,192,193,194,195,196,197,198,199,200,201,202,203,204,205,206,207,208,209,210,211,212,213,214,215,216,217,218,219,220,221,222,223,224,225,226,227,228,229,230,231,232,233,234,235,236,237,238,239,240,241,242,243,244,245,246,247,248,249,250,251,252,253,254,255,256,257,258,259,260,261,262,263,264,265,266,267,268,269,270,271,272,273,274,275,276,277,278,279,280,281,282,283,284,285,286,287,288,289,290,291,292,293,294,295,296,297,298,299,300,301,302,303,304,305,306,307,308,309,310,311,312,313,314,315,316,317,318,319,320,321],\"label\":[\"false\",\"false\",\"false\",\"false\",\"false\",\"false\",\"false\",\"false\",\"false\",\"false\",\"false\",\"false\",\"false\",\"false\",\"false\",\"false\",\"false\",\"false\",\"false\",\"false\",\"false\",\"false\",\"false\",\"false\",\"false\",\"false\",\"false\",\"false\",\"false\",\"false\",\"false\",\"false\",\"false\",\"false\",\"false\",\"false\",\"false\",\"false\",\"false\",\"false\",\"false\",\"false\",\"false\",\"false\",\"false\",\"false\",\"false\",\"false\",\"false\",\"false\",\"false\",\"false\",\"false\",\"false\",\"false\",\"false\",\"false\",\"false\",\"false\",\"false\",\"false\",\"false\",\"false\",\"true\",\"false\",\"false\",\"false\",\"false\",\"false\",\"false\",\"false\",\"false\",\"false\",\"false\",\"false\",\"false\",\"false\",\"false\",\"false\",\"false\",\"false\",\"false\",\"false\",\"false\",\"false\",\"false\",\"false\",\"false\",\"false\",\"false\",\"false\",\"false\",\"false\",\"false\",\"false\",\"false\",\"false\",\"false\",\"false\",\"false\",\"false\",\"false\",\"false\",\"false\",\"false\",\"false\",\"false\",\"false\",\"false\",\"false\",\"false\",\"false\",\"false\",\"false\",\"false\",\"false\",\"false\",\"false\",\"false\",\"false\",\"false\",\"false\",\"false\",\"true\",\"false\",\"false\",\"false\",\"false\",\"false\",\"false\",\"false\",\"false\",\"false\",\"false\",\"false\",\"false\",\"false\",\"false\",\"false\",\"false\",\"false\",\"false\",\"false\",\"false\",\"false\",\"false\",\"false\",\"false\",\"false\",\"false\",\"false\",\"false\",\"false\",\"false\",\"false\",\"false\",\"false\",\"false\",\"false\",\"false\",\"false\",\"false\",\"false\",\"false\",\"false\",\"false\",\"false\",\"false\",\"false\",\"false\",\"false\",\"false\",\"false\",\"false\",\"false\",\"false\",\"true\",\"false\",\"false\",\"false\",\"false\",\"false\",\"false\",\"false\",\"false\",\"false\",\"false\",\"false\",\"false\",\"false\",\"false\",\"false\",\"false\",\"false\",\"true\",\"false\",\"false\",\"false\",\"false\",\"false\",\"false\",\"false\",\"false\",\"false\",\"false\",\"false\",\"false\",\"false\",\"false\",\"false\",\"false\",\"false\",\"false\",\"false\",\"false\",\"false\",\"false\",\"false\",\"false\",\"false\",\"false\",\"false\",\"false\",\"false\",\"false\",\"false\",\"false\",\"false\",\"false\",\"false\",\"false\",\"false\",\"false\",\"true\",\"false\",\"false\",\"false\",\"false\",\"false\",\"false\",\"false\",\"false\",\"false\",\"false\",\"false\",\"false\",\"false\",\"false\",\"false\",\"false\",\"false\",\"false\",\"false\",\"false\",\"false\",\"false\",\"false\",\"false\",\"false\",\"false\",\"false\",\"false\",\"false\",\"false\",\"false\",\"false\",\"false\",\"false\",\"false\",\"false\",\"false\",\"false\",\"false\",\"false\",\"false\",\"false\",\"false\",\"false\",\"false\",\"false\",\"false\",\"false\",\"false\",\"false\",\"false\",\"true\",\"false\",\"false\",\"false\",\"false\",\"false\",\"false\",\"false\",\"false\",\"true\",\"false\",\"false\",\"false\",\"false\",\"false\",\"false\",\"false\",\"false\",\"false\",\"false\",\"false\",\"false\",\"false\",\"true\",\"false\",\"false\",\"false\",\"false\",\"false\",\"false\",\"false\",\"false\",\"false\",\"false\",\"false\",\"false\",\"false\"],\"x\":{\"__ndarray__\":\"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\",\"dtype\":\"float64\",\"shape\":[322]},\"y\":{\"__ndarray__\":\"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\",\"dtype\":\"float64\",\"shape\":[322]}},\"selected\":{\"id\":\"4679\",\"type\":\"Selection\"},\"selection_policy\":{\"id\":\"4680\",\"type\":\"UnionRenderers\"}},\"id\":\"4620\",\"type\":\"ColumnDataSource\"},{\"attributes\":{\"color_mapper\":null,\"formatter\":{\"id\":\"4664\",\"type\":\"BasicTickFormatter\"},\"ticker\":{\"id\":\"4663\",\"type\":\"BasicTicker\"},\"visible\":false},\"id\":\"4584\",\"type\":\"ColorBar\"},{\"attributes\":{\"filters\":[{\"id\":\"4628\",\"type\":\"GroupFilter\"}],\"source\":{\"id\":\"4620\",\"type\":\"ColumnDataSource\"}},\"id\":\"4629\",\"type\":\"CDSView\"},{\"attributes\":{\"bottom_units\":\"screen\",\"fill_alpha\":{\"value\":0.5},\"fill_color\":{\"value\":\"lightgrey\"},\"left_units\":\"screen\",\"level\":\"overlay\",\"line_alpha\":{\"value\":1.0},\"line_color\":{\"value\":\"black\"},\"line_dash\":[4,4],\"line_width\":{\"value\":2},\"render_mode\":\"css\",\"right_units\":\"screen\",\"top_units\":\"screen\"},\"id\":\"4656\",\"type\":\"BoxAnnotation\"},{\"attributes\":{},\"id\":\"4601\",\"type\":\"BasicTicker\"},{\"attributes\":{\"axis_label\":\"# singletons\",\"formatter\":{\"id\":\"4673\",\"type\":\"BasicTickFormatter\"},\"ticker\":{\"id\":\"4601\",\"type\":\"BasicTicker\"}},\"id\":\"4600\",\"type\":\"LinearAxis\"},{\"attributes\":{},\"id\":\"4555\",\"type\":\"SaveTool\"},{\"attributes\":{\"fill_color\":{\"field\":\"label\",\"transform\":{\"id\":\"4621\",\"type\":\"CategoricalColorMapper\"}},\"line_color\":{\"field\":\"label\",\"transform\":{\"id\":\"4621\",\"type\":\"CategoricalColorMapper\"}},\"x\":{\"field\":\"x\"},\"y\":{\"field\":\"y\"}},\"id\":\"4631\",\"type\":\"Circle\"},{\"attributes\":{\"fill_alpha\":{\"value\":0.1},\"fill_color\":{\"value\":\"#1f77b4\"},\"line_alpha\":{\"value\":0.1},\"line_color\":{\"value\":\"#1f77b4\"},\"x\":{\"field\":\"x\"},\"y\":{\"field\":\"y\"}},\"id\":\"4632\",\"type\":\"Circle\"},{\"attributes\":{},\"id\":\"4556\",\"type\":\"ResetTool\"},{\"attributes\":{},\"id\":\"4655\",\"type\":\"BasicTickFormatter\"},{\"attributes\":{\"fill_color\":{\"field\":\"label\",\"transform\":{\"id\":\"4568\",\"type\":\"CategoricalColorMapper\"}},\"line_color\":{\"field\":\"label\",\"transform\":{\"id\":\"4568\",\"type\":\"CategoricalColorMapper\"}},\"x\":{\"field\":\"x\"},\"y\":{\"field\":\"y\"}},\"id\":\"4578\",\"type\":\"Circle\"},{\"attributes\":{},\"id\":\"4680\",\"type\":\"UnionRenderers\"},{\"attributes\":{},\"id\":\"4557\",\"type\":\"HelpTool\"},{\"attributes\":{},\"id\":\"4673\",\"type\":\"BasicTickFormatter\"},{\"attributes\":{\"active_drag\":\"auto\",\"active_inspect\":\"auto\",\"active_multi\":null,\"active_scroll\":\"auto\",\"active_tap\":\"auto\",\"tools\":[{\"id\":\"4552\",\"type\":\"PanTool\"},{\"id\":\"4553\",\"type\":\"WheelZoomTool\"},{\"id\":\"4554\",\"type\":\"BoxZoomTool\"},{\"id\":\"4555\",\"type\":\"SaveTool\"},{\"id\":\"4556\",\"type\":\"ResetTool\"},{\"id\":\"4557\",\"type\":\"HelpTool\"},{\"id\":\"4566\",\"type\":\"HoverTool\"}]},\"id\":\"4558\",\"type\":\"Toolbar\"},{\"attributes\":{},\"id\":\"4596\",\"type\":\"BasicTicker\"},{\"attributes\":{\"column_name\":\"label\",\"group\":\"true\"},\"id\":\"4628\",\"type\":\"GroupFilter\"},{\"attributes\":{},\"id\":\"4679\",\"type\":\"Selection\"},{\"attributes\":{},\"id\":\"4593\",\"type\":\"LinearScale\"},{\"attributes\":{\"filters\":[{\"id\":\"4569\",\"type\":\"GroupFilter\"}],\"source\":{\"id\":\"4567\",\"type\":\"ColumnDataSource\"}},\"id\":\"4570\",\"type\":\"CDSView\"},{\"attributes\":{\"callback\":null},\"id\":\"4483\",\"type\":\"DataRange1d\"},{\"attributes\":{\"ticker\":{\"id\":\"4596\",\"type\":\"BasicTicker\"}},\"id\":\"4599\",\"type\":\"Grid\"},{\"attributes\":{\"filters\":[{\"id\":\"4575\",\"type\":\"GroupFilter\"}],\"source\":{\"id\":\"4567\",\"type\":\"ColumnDataSource\"}},\"id\":\"4576\",\"type\":\"CDSView\"},{\"attributes\":{\"column_name\":\"label\",\"group\":\"false\"},\"id\":\"4622\",\"type\":\"GroupFilter\"},{\"attributes\":{\"axis_label\":\"DP mean\",\"formatter\":{\"id\":\"4677\",\"type\":\"BasicTickFormatter\"},\"ticker\":{\"id\":\"4596\",\"type\":\"BasicTicker\"}},\"id\":\"4595\",\"type\":\"LinearAxis\"},{\"attributes\":{\"callback\":null,\"data\":{\"index\":[0,1,2,3,4,5,6,7,8,9,10,11,12,13,14,15,16,17,18,19,20,21,22,23,24,25,26,27,28,29,30,31,32,33,34,35,36,37,38,39,40,41,42,43,44,45,46,47,48,49,50,51,52,53,54,55,56,57,58,59,60,61,62,63,64,65,66,67,68,69,70,71,72,73,74,75,76,77,78,79,80,81,82,83,84,85,86,87,88,89,90,91,92,93,94,95,96,97,98,99,100,101,102,103,104,105,106,107,108,109,110,111,112,113,114,115,116,117,118,119,120,121,122,123,124,125,126,127,128,129,130,131,132,133,134,135,136,137,138,139,140,141,142,143,144,145,146,147,148,149,150,151,152,153,154,155,156,157,158,159,160,161,162,163,164,165,166,167,168,169,170,171,172,173,174,175,176,177,178,179,180,181,182,183,184,185,186,187,188,189,190,191,192,193,194,195,196,197,198,199,200,201,202,203,204,205,206,207,208,209,210,211,212,213,214,215,216,217,218,219,220,221,222,223,224,225,226,227,228,229,230,231,232,233,234,235,236,237,238,239,240,241,242,243,244,245,246,247,248,249,250,251,252,253,254,255,256,257,258,259,260,261,262,263,264,265,266,267,268,269,270,271,272,273,274,275,276,277,278,279,280,281,282,283,284,285,286,287,288,289,290,291,292,293,294,295,296,297,298,299,300,301,302,303,304,305,306,307,308,309,310,311,312,313,314,315,316,317,318,319,320,321,322,323,324,325,326,327,328,329,330,331,332,333,334,335,336,337,338,339,340,341,342,343,344,345,346,347,348,349,350,351,352,353,354,355,356,357,358,359,360,361],\"label\":[\"false\",\"false\",\"false\",\"false\",\"false\",\"false\",\"false\",\"false\",\"false\",\"false\",\"false\",\"false\",\"false\",\"false\",\"false\",\"false\",\"false\",\"false\",\"false\",\"false\",\"false\",\"false\",\"false\",\"false\",\"false\",\"false\",\"false\",\"false\",\"false\",\"false\",\"false\",\"false\",\"false\",\"false\",\"false\",\"false\",\"false\",\"false\",\"false\",\"false\",\"false\",\"false\",\"false\",\"false\",\"false\",\"false\",\"false\",\"false\",\"false\",\"false\",\"false\",\"false\",\"false\",\"false\",\"false\",\"false\",\"false\",\"false\",\"false\",\"false\",\"false\",\"false\",\"false\",\"false\",\"false\",\"true\",\"false\",\"false\",\"false\",\"false\",\"false\",\"false\",\"false\",\"false\",\"false\",\"false\",\"false\",\"false\",\"false\",\"false\",\"false\",\"false\",\"false\",\"false\",\"false\",\"false\",\"false\",\"false\",\"false\",\"false\",\"false\",\"false\",\"false\",\"false\",\"false\",\"false\",\"false\",\"false\",\"false\",\"false\",\"false\",\"false\",\"false\",\"false\",\"false\",\"false\",\"false\",\"false\",\"false\",\"false\",\"false\",\"false\",\"false\",\"false\",\"false\",\"false\",\"false\",\"false\",\"false\",\"false\",\"false\",\"false\",\"false\",\"false\",\"false\",\"false\",\"false\",\"false\",\"false\",\"false\",\"false\",\"false\",\"false\",\"false\",\"false\",\"false\",\"false\",\"false\",\"false\",\"false\",\"false\",\"false\",\"true\",\"false\",\"false\",\"false\",\"false\",\"false\",\"false\",\"false\",\"false\",\"false\",\"false\",\"false\",\"false\",\"false\",\"false\",\"false\",\"false\",\"false\",\"false\",\"false\",\"false\",\"false\",\"false\",\"false\",\"false\",\"false\",\"false\",\"false\",\"false\",\"false\",\"false\",\"false\",\"false\",\"false\",\"false\",\"false\",\"false\",\"false\",\"false\",\"false\",\"false\",\"false\",\"false\",\"false\",\"false\",\"false\",\"false\",\"false\",\"false\",\"false\",\"false\",\"false\",\"false\",\"false\",\"false\",\"false\",\"true\",\"false\",\"false\",\"false\",\"false\",\"false\",\"false\",\"false\",\"false\",\"false\",\"false\",\"false\",\"false\",\"false\",\"false\",\"false\",\"false\",\"false\",\"false\",\"false\",\"false\",\"false\",\"false\",\"false\",\"false\",\"true\",\"false\",\"false\",\"false\",\"false\",\"false\",\"false\",\"false\",\"false\",\"false\",\"false\",\"false\",\"false\",\"false\",\"false\",\"false\",\"false\",\"false\",\"false\",\"false\",\"false\",\"false\",\"false\",\"false\",\"false\",\"false\",\"false\",\"false\",\"false\",\"false\",\"false\",\"false\",\"false\",\"false\",\"false\",\"false\",\"false\",\"false\",\"false\",\"false\",\"true\",\"false\",\"false\",\"false\",\"false\",\"false\",\"false\",\"false\",\"false\",\"false\",\"false\",\"false\",\"false\",\"false\",\"false\",\"false\",\"false\",\"false\",\"false\",\"false\",\"false\",\"false\",\"false\",\"false\",\"false\",\"false\",\"false\",\"false\",\"false\",\"false\",\"false\",\"false\",\"false\",\"false\",\"false\",\"false\",\"false\",\"false\",\"false\",\"false\",\"false\",\"false\",\"false\",\"false\",\"false\",\"false\",\"false\",\"false\",\"false\",\"false\",\"false\",\"false\",\"false\",\"false\",\"false\",\"false\",\"false\",\"false\",\"false\",\"false\",\"false\",\"false\",\"true\",\"false\",\"false\",\"false\",\"false\",\"false\",\"false\",\"false\",\"false\",\"true\",\"false\",\"false\",\"false\",\"false\",\"false\",\"false\",\"false\",\"false\",\"false\",\"false\",\"false\",\"false\",\"false\",\"true\",\"false\",\"false\",\"false\",\"false\",\"false\",\"false\",\"false\",\"false\",\"false\",\"false\",\"false\",\"false\",\"false\"],\"x\":{\"__ndarray__\":\"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\",\"dtype\":\"float64\",\"shape\":[362]},\"y\":{\"__ndarray__\":\"nCoefofM4j/w8SY2FmDmPy2rW3y+zuU/XdpbPPe25T/FUxp/ybvjP1vjsUxvXOo/ORniFUoR6T/787hrDs3nP0xqIbZvKek/oPUJRjr75D/1RLVOQKjmP9AzL2/kNuk/IiiKA8dh5z818oBJ8wXmP4cH/yw1feM/UT7vEZlx5j8tv7uJqmToP1Pv5TFnIus/xxfd9wSX6T9CarfpdJPqPzmWemlNOuk/GG62p4US7T/gP6YR0DnrP0upVBmxVuw/r4yq8BsP6j+kvE4e8VLqP3I+1lmICus/LgVS+mOr7D/CUvpGTNzrP08ljh4zX+o/r7gR++8R7D/h/Mu+kjXrP6FPAMTf1+s/k20358gR7T+5uHvH6qfqP1DjR4B0xus/M29TW/f06j/asln438zqPxeY9UhcPuw/Ln4JoGo36z8n3AKDEI/rP/wIrS15zus/DznJfj+a7D83n9B5xd/tP9NKEdxLSes/N//sbWWT6z9dPW4MFHPsP9UXtuj9Pew/depXF9uy7D9Z/gVD1frpP69cnPZLNes/xZnqrYPI7D/FDNP6kKbrP83fe8Y5lOs/IasrbsT+6z+JOEq+gpnsP9oYfwN69Ow/15Y85/136j+UOLSKfS/rPwiFir32Mu0/XkM9ZQ0h7D+eNHdnfO7sP5fzIPNAZew/CoI9xHgB7T9HXSkO/yftP5+kErsLm+s/lUgz6mwo7D8AeCPxhyDtP/Nqh74bw+0/Ii8nzz9B7T9D1z8Ch9TtP61H4vLh+es/hp+UWZ0b7D9GTaquDy/sP9St6e1nP+0/YiWcdSlR7D9FDR1VUFzsP8tX2XXCeu0/kl5MPFiE7T+rhO3sJVDsP4jHGrZ0gew/jY4l0CoT7T+aGFpWmpnsPw58o9F8nuw/HB9zCVP97D/fn/zDcLPtPyDuBcEBA+w/qcuo7V/x7T/VJqGTbsvrP6KAonIuHew/4+ILfasC7T++EH9CkPjtP2c92NgOCes/huJurNof7D8Kgj3EeAHtP3/cau3jJu0/KXmZlfKp7T/XiXmlisHtPyzFxKCk2Ow/FZtCQtpv7D/tDt1TepvtP38fRUAhK+0/xdOorknt7D/zJhm3X1PsPxoZpLBZT+0/kDD3hodw7T+U8TJIRFTuP1gDe6VQA+0/clI2Z3Sg7T8bWJ1VmrbrP3nkvSTfT+w/n9mVF1d97T+JhdQXtujtP/F7K66LFuw/W0C7BZKk7D+g32RwUCvtPwJdz/ohgu0/9QvFwPm07D9eTe1rA2ztP7i98ClmsO0/jfO2JkbP7T/L7HjGrRDtP8fyErmpc+0/zb5Yd9pH7D8Xq8GhyWjtPy6bhf/NrO0/04VjkZDZ7D/H8hK5qXPtP6ijIpGIi+0/rzY+A3Km7T+rhYGhpLvtPwct9mZP8+0/s3lNvKz17D+6NzyE66ftP8NKcqlTaO0/AfJuSw0Y7T9BbyxM8JvtPyPLKS2j8O0/4SgzyWY47T8y3pS4CPzsP6c4wuFzIe0/wgHJ/Ry27T9DGhpVxNjtP23ehP/qC+4/odZIHtlL7T8Td52T/6btP2TjVddquO0/oWNg0ctt7j9Fo1Baul3tP3WxLcuT+e0/mU3dsuV77j85k2cu0M7tPzef0HnF3+0/F814pacg7j+GBCawuNfsP9xABWBRWu0/+jdhMcsC7j/IjhUXDSPuP1VTUvgBhO4/Sz+IHhtY7T+zJ4i+/mPtPyOah35Uq+0/eoDAgkL/7D+i0/skWxrtP/VnOsWdke0/TNuKfH4H7j9/cp7yTSjuP3rELor+bu4/cCThsaOM7T8Y00f+oM7tP4m2dsYELu4/h+nRuVI57T9WKH+irOztP7e3IdFsAu4/BqqOulIc7j+/f4bhoDnrP2BKoHKFOu0/dQwPG7lq7T8F/6Cxft/tPx1psGkIG+4//OJOOp8/7j83TQt8F07uP1Mc4fC5kO4/SHbEv2UA7j8p5PlEBxTuP/2WWJXqW+4/HGPhEA9t7j/ccacOoJ/tP21SAQF3Ve4/76HDX2Zr7j/vC5Ba/GntPx6yWRU/ze0/5tc25jRd7j8oDjnm3T/tPzw1OeUsLO4/xFrxCENh7j+H5JYV2PbuP0r/+sRbhe0/9gM9IwFB7j+YmdNXml/uPxLcLuoaY+4/j5WI3aIs7j+TsaXuhIHuP9kcYLF2ke4/tusQeTl57j8PIlY21pjuPzV3Sh3uee0/rNjaU9G47j8vcUZe94DuP3nubSvVmu0/uZOxiI+E7j/wDCQPe9XuP33HsOl56+0/5a+wiV337T+MNpF5g9PtP6TaXjLTM+4/6gtb9P4e7j9hEXYmPoHuPxydnxHVke4/yODaFLu07T8bvsJgNN7tP/jGMSm96u0/zjNpLeX87T8LD1V3ayPuP3BGmLWBRO4/3Udobclz7j/kVxwztrfuP5KJH5KtG+4//hCk729T7j9VXG5KeWPuP59mrcpJn+4/7VJLWzYL7z97R5Y2+0XuP8+eydz5Zu4/sDwNXGtU7T8V0MWeJVLuP4LasajkYO4/0rrm7du77j9mM2KQGYTuP5YxwKEDJ+4/IflJfHa57j81aF9yfeztPxFi44+Va+4/u0e749qg7j/8Ta/ps6nuP5+ga8sPxO4/7RiNWnDm7j/LYYl8uMXuPxFALIy3s+0/aWG3ReqX7j9nz2TufDPvP931om8b4u4/oGx8I0NN7j8Y7OKvB6fuP499geC6v+4/7zZjsFEB7j8Qpb3i0m/uP9BS0zdFg+4/647CoPv17T9snvelKznuP/crw3/Ypu4/yHYOGiW27j/YmfgEerruP5/aKczV6O4/UvRalOIq7j+gVHUmW+DuP5/aKczV6O4/ZJGQ2bwm7j8DM5BZS1buP3Qf23Mmle4/4WOFfqvI7j/ueT0DjwXuPxxj4RAPbe4/9EBIHUWX7j/mjo06/qruP1Cl4o+yyu4/zo/eMYnZ7j/Oj94xidnuP/tH4JC6++4/v+9b8zCs7j+izsCA4NfuP/DSZQ61sO4/pB05hRA47j+Y05FYYITuP/X0UXiQs+4/q5hN+hHm7j/xAwi9A/buP6RO2zNffe4/mT7yB3Xu7j9gjg56QaruP1xjBr7ux+4/U0e0Rg8o7z8DXmOvoO3uPzMB4HBlH+8/Mn54xGhI7z9BcMAAbwfvP6vJ76hgK+8/0i5j72cF7z9aZlO3bPnuP9JoIfAtKu8/DqgK3FCh7j/J4W7JOSDvP/rEeOS9JO8/BkneETT97j/nthOX1RDvP1tdN2X1Ge8/UpOq68ML7z+kNtQ2dxDvP7TlQSBAy+4/ub6E3uQb7z/UEw/5AWfvPzfaIi8KcO8/n9opzNXo7j8lDEs74S7vP0JF7aoZcO4/rQl9AiD+7j8q9Hik9gzvP52juMSN9e4/WSbGXa0m7z+gl095mOTuPxdakFiaQu8/smUnbcEl7z94ATqEQsXuP8BRoFDONu8/JYnjjuRX7z/S5blDMVPvP2cqRj6ipO4/2NO2BUDf7j/sG9pT7hfvP6J8+4IyRu8/Zo/XlL1g7z/05WbNHybvPy0izlnHIO8/o2rD3kOH7z+v7igMul/vPzvUiDwODe8/nNenbFps7z8wougMRsbuP3xXFZbqPu8/wcvrqlMu7z86xZ2RnX/vP5KKs0Ysh+8/gnDlrU5i7z/l8x6RGWfvP20i8wane+8/YHYHfVk97z+JyUIfcljvPwsZBX5hbu8/izpyJ4Bw7z8p7qlL/V7vP+HIFtXGhO8/QWHVVf557z+2gUR+o3rvP5tUQMBdle8/gbO/AIxm7z/F5wi8NYPvP5TBJE50eu8/wQ7G/ZAy7z8Ygha1cajvP++0j7jTle8/FZebUt6Y7z/Z7FG3prfvPw==\",\"dtype\":\"float64\",\"shape\":[362]}},\"selected\":{\"id\":\"4668\",\"type\":\"Selection\"},\"selection_policy\":{\"id\":\"4669\",\"type\":\"UnionRenderers\"}},\"id\":\"4567\",\"type\":\"ColumnDataSource\"},{\"attributes\":{\"factors\":[\"true\",\"false\"],\"palette\":[\"#1f77b4\",\"#ff7f0e\",\"#2ca02c\",\"#d62728\",\"#9467bd\",\"#8c564b\",\"#e377c2\",\"#7f7f7f\",\"#bcbd22\",\"#17becf\"]},\"id\":\"4621\",\"type\":\"CategoricalColorMapper\"},{\"attributes\":{},\"id\":\"4540\",\"type\":\"LinearScale\"},{\"attributes\":{\"fill_color\":{\"field\":\"label\",\"transform\":{\"id\":\"4568\",\"type\":\"CategoricalColorMapper\"}},\"line_color\":{\"field\":\"label\",\"transform\":{\"id\":\"4568\",\"type\":\"CategoricalColorMapper\"}},\"x\":{\"field\":\"x\"},\"y\":{\"field\":\"y\"}},\"id\":\"4572\",\"type\":\"Circle\"},{\"attributes\":{\"data_source\":{\"id\":\"4620\",\"type\":\"ColumnDataSource\"},\"glyph\":{\"id\":\"4625\",\"type\":\"Circle\"},\"hover_glyph\":null,\"muted_glyph\":null,\"nonselection_glyph\":{\"id\":\"4626\",\"type\":\"Circle\"},\"selection_glyph\":null,\"view\":{\"id\":\"4623\",\"type\":\"CDSView\"}},\"id\":\"4627\",\"type\":\"GlyphRenderer\"},{\"attributes\":{\"dimension\":1,\"ticker\":{\"id\":\"4601\",\"type\":\"BasicTicker\"}},\"id\":\"4604\",\"type\":\"Grid\"},{\"attributes\":{},\"id\":\"4495\",\"type\":\"BasicTicker\"},{\"attributes\":{\"fill_alpha\":{\"value\":0.1},\"fill_color\":{\"value\":\"#1f77b4\"},\"line_alpha\":{\"value\":0.1},\"line_color\":{\"value\":\"#1f77b4\"},\"x\":{\"field\":\"x\"},\"y\":{\"field\":\"y\"}},\"id\":\"4573\",\"type\":\"Circle\"},{\"attributes\":{},\"id\":\"4657\",\"type\":\"Selection\"},{\"attributes\":{\"overlay\":{\"id\":\"4678\",\"type\":\"BoxAnnotation\"}},\"id\":\"4607\",\"type\":\"BoxZoomTool\"},{\"attributes\":{\"dimension\":1,\"ticker\":{\"id\":\"4495\",\"type\":\"BasicTicker\"}},\"id\":\"4498\",\"type\":\"Grid\"},{\"attributes\":{\"callback\":null},\"id\":\"4589\",\"type\":\"DataRange1d\"},{\"attributes\":{},\"id\":\"4664\",\"type\":\"BasicTickFormatter\"},{\"attributes\":{\"label\":{\"value\":\"false\"},\"renderers\":[{\"id\":\"4627\",\"type\":\"GlyphRenderer\"}]},\"id\":\"4634\",\"type\":\"LegendItem\"},{\"attributes\":{},\"id\":\"4666\",\"type\":\"BasicTickFormatter\"},{\"attributes\":{},\"id\":\"4675\",\"type\":\"BasicTickFormatter\"},{\"attributes\":{\"below\":[{\"id\":\"4436\",\"type\":\"LinearAxis\"}],\"center\":[{\"id\":\"4440\",\"type\":\"Grid\"},{\"id\":\"4445\",\"type\":\"Grid\"}],\"left\":[{\"id\":\"4441\",\"type\":\"LinearAxis\"},{\"id\":\"4477\",\"type\":\"Legend\"},{\"id\":\"4478\",\"type\":\"ColorBar\"}],\"plot_height\":400,\"plot_width\":600,\"renderers\":[{\"id\":\"4468\",\"type\":\"GlyphRenderer\"},{\"id\":\"4474\",\"type\":\"GlyphRenderer\"}],\"title\":null,\"toolbar\":{\"id\":\"4452\",\"type\":\"Toolbar\"},\"toolbar_location\":null,\"x_range\":{\"id\":\"4428\",\"type\":\"DataRange1d\"},\"x_scale\":{\"id\":\"4432\",\"type\":\"LinearScale\"},\"y_range\":{\"id\":\"4430\",\"type\":\"DataRange1d\"},\"y_scale\":{\"id\":\"4434\",\"type\":\"LinearScale\"}},\"id\":\"4426\",\"subtype\":\"Figure\",\"type\":\"Plot\"},{\"attributes\":{},\"id\":\"4605\",\"type\":\"PanTool\"},{\"attributes\":{},\"id\":\"4591\",\"type\":\"LinearScale\"},{\"attributes\":{\"data_source\":{\"id\":\"4567\",\"type\":\"ColumnDataSource\"},\"glyph\":{\"id\":\"4572\",\"type\":\"Circle\"},\"hover_glyph\":null,\"muted_glyph\":null,\"nonselection_glyph\":{\"id\":\"4573\",\"type\":\"Circle\"},\"selection_glyph\":null,\"view\":{\"id\":\"4570\",\"type\":\"CDSView\"}},\"id\":\"4574\",\"type\":\"GlyphRenderer\"},{\"attributes\":{\"active_drag\":\"auto\",\"active_inspect\":\"auto\",\"active_multi\":null,\"active_scroll\":\"auto\",\"active_tap\":\"auto\",\"tools\":[{\"id\":\"4605\",\"type\":\"PanTool\"},{\"id\":\"4606\",\"type\":\"WheelZoomTool\"},{\"id\":\"4607\",\"type\":\"BoxZoomTool\"},{\"id\":\"4608\",\"type\":\"SaveTool\"},{\"id\":\"4609\",\"type\":\"ResetTool\"},{\"id\":\"4610\",\"type\":\"HelpTool\"},{\"id\":\"4619\",\"type\":\"HoverTool\"}]},\"id\":\"4611\",\"type\":\"Toolbar\"},{\"attributes\":{\"bottom_units\":\"screen\",\"fill_alpha\":{\"value\":0.5},\"fill_color\":{\"value\":\"lightgrey\"},\"left_units\":\"screen\",\"level\":\"overlay\",\"line_alpha\":{\"value\":1.0},\"line_color\":{\"value\":\"black\"},\"line_dash\":[4,4],\"line_width\":{\"value\":2},\"render_mode\":\"css\",\"right_units\":\"screen\",\"top_units\":\"screen\"},\"id\":\"4667\",\"type\":\"BoxAnnotation\"},{\"attributes\":{\"axis_label\":\"Ti/Tv rate\",\"formatter\":{\"id\":\"4651\",\"type\":\"BasicTickFormatter\"},\"ticker\":{\"id\":\"4495\",\"type\":\"BasicTicker\"}},\"id\":\"4494\",\"type\":\"LinearAxis\"},{\"attributes\":{\"filters\":[{\"id\":\"4622\",\"type\":\"GroupFilter\"}],\"source\":{\"id\":\"4620\",\"type\":\"ColumnDataSource\"}},\"id\":\"4623\",\"type\":\"CDSView\"},{\"attributes\":{\"factors\":[\"true\",\"false\"],\"palette\":[\"#1f77b4\",\"#ff7f0e\",\"#2ca02c\",\"#d62728\",\"#9467bd\",\"#8c564b\",\"#e377c2\",\"#7f7f7f\",\"#bcbd22\",\"#17becf\"]},\"id\":\"4568\",\"type\":\"CategoricalColorMapper\"},{\"attributes\":{},\"id\":\"4606\",\"type\":\"WheelZoomTool\"},{\"attributes\":{\"callback\":null},\"id\":\"4587\",\"type\":\"DataRange1d\"},{\"attributes\":{\"filters\":[{\"id\":\"4516\",\"type\":\"GroupFilter\"}],\"source\":{\"id\":\"4514\",\"type\":\"ColumnDataSource\"}},\"id\":\"4517\",\"type\":\"CDSView\"},{\"attributes\":{},\"id\":\"4658\",\"type\":\"UnionRenderers\"},{\"attributes\":{},\"id\":\"4490\",\"type\":\"BasicTicker\"},{\"attributes\":{},\"id\":\"4668\",\"type\":\"Selection\"},{\"attributes\":{},\"id\":\"4608\",\"type\":\"SaveTool\"},{\"attributes\":{\"ticker\":{\"id\":\"4490\",\"type\":\"BasicTicker\"}},\"id\":\"4493\",\"type\":\"Grid\"},{\"attributes\":{\"toolbar\":{\"id\":\"4683\",\"type\":\"ProxyToolbar\"},\"toolbar_location\":\"above\"},\"id\":\"4684\",\"type\":\"ToolbarBox\"},{\"attributes\":{},\"id\":\"4609\",\"type\":\"ResetTool\"},{\"attributes\":{},\"id\":\"4669\",\"type\":\"UnionRenderers\"},{\"attributes\":{\"label\":{\"value\":\"false\"},\"renderers\":[{\"id\":\"4574\",\"type\":\"GlyphRenderer\"}]},\"id\":\"4581\",\"type\":\"LegendItem\"},{\"attributes\":{\"below\":[{\"id\":\"4595\",\"type\":\"LinearAxis\"}],\"center\":[{\"id\":\"4599\",\"type\":\"Grid\"},{\"id\":\"4604\",\"type\":\"Grid\"}],\"left\":[{\"id\":\"4600\",\"type\":\"LinearAxis\"},{\"id\":\"4636\",\"type\":\"Legend\"},{\"id\":\"4637\",\"type\":\"ColorBar\"}],\"plot_height\":400,\"plot_width\":600,\"renderers\":[{\"id\":\"4627\",\"type\":\"GlyphRenderer\"},{\"id\":\"4633\",\"type\":\"GlyphRenderer\"}],\"title\":null,\"toolbar\":{\"id\":\"4611\",\"type\":\"Toolbar\"},\"toolbar_location\":null,\"x_range\":{\"id\":\"4587\",\"type\":\"DataRange1d\"},\"x_scale\":{\"id\":\"4591\",\"type\":\"LinearScale\"},\"y_range\":{\"id\":\"4589\",\"type\":\"DataRange1d\"},\"y_scale\":{\"id\":\"4593\",\"type\":\"LinearScale\"}},\"id\":\"4585\",\"subtype\":\"Figure\",\"type\":\"Plot\"},{\"attributes\":{\"bottom_units\":\"screen\",\"fill_alpha\":{\"value\":0.5},\"fill_color\":{\"value\":\"lightgrey\"},\"left_units\":\"screen\",\"level\":\"overlay\",\"line_alpha\":{\"value\":1.0},\"line_color\":{\"value\":\"black\"},\"line_dash\":[4,4],\"line_width\":{\"value\":2},\"render_mode\":\"css\",\"right_units\":\"screen\",\"top_units\":\"screen\"},\"id\":\"4678\",\"type\":\"BoxAnnotation\"},{\"attributes\":{},\"id\":\"4450\",\"type\":\"ResetTool\"},{\"attributes\":{},\"id\":\"4610\",\"type\":\"HelpTool\"},{\"attributes\":{\"column_name\":\"label\",\"group\":\"true\"},\"id\":\"4575\",\"type\":\"GroupFilter\"},{\"attributes\":{\"callback\":null,\"tooltips\":[[\"x\",\"@x\"],[\"y\",\"@y\"],[\"label\",\"@label\"]]},\"id\":\"4513\",\"type\":\"HoverTool\"},{\"attributes\":{\"axis_label\":\"DP mean\",\"formatter\":{\"id\":\"4666\",\"type\":\"BasicTickFormatter\"},\"ticker\":{\"id\":\"4543\",\"type\":\"BasicTicker\"}},\"id\":\"4542\",\"type\":\"LinearAxis\"},{\"attributes\":{\"fill_alpha\":{\"value\":0.1},\"fill_color\":{\"value\":\"#1f77b4\"},\"line_alpha\":{\"value\":0.1},\"line_color\":{\"value\":\"#1f77b4\"},\"x\":{\"field\":\"x\"},\"y\":{\"field\":\"y\"}},\"id\":\"4579\",\"type\":\"Circle\"}],\"root_ids\":[\"4685\"]},\"title\":\"Bokeh Application\",\"version\":\"1.2.0\"}};\n",
       "  var render_items = [{\"docid\":\"4eec2f81-d7f8-4896-8bac-229a5c2ecb43\",\"roots\":{\"4685\":\"876589df-0e1c-4f2f-a83a-9c3f76b917bd\"}}];\n",
       "  root.Bokeh.embed.embed_items_notebook(docs_json, render_items);\n",
       "\n",
       "  }\n",
       "  if (root.Bokeh !== undefined) {\n",
       "    embed_document(root);\n",
       "  } else {\n",
       "    var attempts = 0;\n",
       "    var timer = setInterval(function(root) {\n",
       "      if (root.Bokeh !== undefined) {\n",
       "        embed_document(root);\n",
       "        clearInterval(timer);\n",
       "      }\n",
       "      attempts++;\n",
       "      if (attempts > 100) {\n",
       "        console.log(\"Bokeh: ERROR: Unable to run BokehJS code because BokehJS library is missing\");\n",
       "        clearInterval(timer);\n",
       "      }\n",
       "    }, 10, root)\n",
       "  }\n",
       "})(window);"
      ],
      "application/vnd.bokehjs_exec.v0+json": ""
     },
     "metadata": {
      "application/vnd.bokehjs_exec.v0+json": {
       "id": "4685"
      }
     },
     "output_type": "display_data"
    }
   ],
   "source": [
    "show(gridplot(plot_list, ncols=2, plot_width=600, plot_height=400))"
   ]
  },
  {
   "cell_type": "markdown",
   "metadata": {},
   "source": [
    "## Remove potential ancestry outliers from full dataset\n",
    "\n",
    "In further analysis of the dataset, we do not want to include these four potential ancestry outliers (PAO). We will therefore load the full dataset, discard the PAOs, and write the data again."
   ]
  },
  {
   "cell_type": "code",
   "execution_count": 69,
   "metadata": {},
   "outputs": [
    {
     "name": "stdout",
     "output_type": "stream",
     "text": [
      "Number of potential ancestry outliers: 8\n"
     ]
    }
   ],
   "source": [
    "# Potential ancestry outliers.\n",
    "pao_list = mt.filter_cols(mt.pc_outliers).s.collect()\n",
    "\n",
    "print('Number of potential ancestry outliers: {n}'.format(n=len(pao_list)))"
   ]
  },
  {
   "cell_type": "code",
   "execution_count": 70,
   "metadata": {},
   "outputs": [],
   "source": [
    "# Read original matrix table.\n",
    "full_mt = hl.read_matrix_table(BASE_DIR + '/data/mt/high_quality_variants.mt')\n",
    "\n",
    "# Annotate with the list of potential ancestry outliers.\n",
    "full_mt = full_mt.annotate_globals(pao_list = pao_list)\n",
    "\n",
    "# Remove the potential ancestry outliers.\n",
    "pao_removed_mt = full_mt.filter_cols(~full_mt.pao_list.contains(full_mt.s))"
   ]
  },
  {
   "cell_type": "code",
   "execution_count": 71,
   "metadata": {},
   "outputs": [
    {
     "name": "stdout",
     "output_type": "stream",
     "text": [
      "Number of variants: 86300\n",
      "Number of samples: 460\n"
     ]
    }
   ],
   "source": [
    "n_variants, n_samples = pao_removed_mt.count()\n",
    "print('Number of variants: ' + str(n_variants))\n",
    "print('Number of samples: ' + str(n_samples))"
   ]
  },
  {
   "cell_type": "markdown",
   "metadata": {},
   "source": [
    "Update variant QC information, as this has changed when we have removed some samples. Also remove invariant sites."
   ]
  },
  {
   "cell_type": "code",
   "execution_count": 72,
   "metadata": {},
   "outputs": [],
   "source": [
    "pao_removed_mt = hl.variant_qc(pao_removed_mt)\n",
    "\n",
    "pao_removed_mt = pao_removed_mt.filter_rows(pao_removed_mt.variant_qc.AC[1] > 0)"
   ]
  },
  {
   "cell_type": "code",
   "execution_count": 73,
   "metadata": {},
   "outputs": [
    {
     "name": "stderr",
     "output_type": "stream",
     "text": [
      "[Stage 628:>                                                        (0 + 8) / 8]"
     ]
    },
    {
     "name": "stdout",
     "output_type": "stream",
     "text": [
      "Number of variants: 86254\n",
      "Number of samples: 460\n"
     ]
    }
   ],
   "source": [
    "n_variants, n_samples = pao_removed_mt.count()\n",
    "print('Number of variants: ' + str(n_variants))\n",
    "print('Number of samples: ' + str(n_samples))"
   ]
  },
  {
   "cell_type": "markdown",
   "metadata": {},
   "source": [
    "Write the resulting matrix table to file."
   ]
  },
  {
   "cell_type": "code",
   "execution_count": 56,
   "metadata": {},
   "outputs": [
    {
     "name": "stderr",
     "output_type": "stream",
     "text": [
      "[Stage 611:==========================================>              (6 + 2) / 8]2021-09-28 10:37:06 Hail: INFO: wrote matrix table with 86254 rows and 460 columns in 8 partitions to /home/olavur/experiments/2020-11-13_fargen1_exome_analysis/data/mt/high_quality_variants_pao_removed.mt\n",
      "    Total size: 574.79 MiB\n",
      "    * Rows/entries: 574.75 MiB\n",
      "    * Columns: 48.99 KiB\n",
      "    * Globals: 59.00 B\n",
      "    * Smallest partition: 10019 rows (67.33 MiB)\n",
      "    * Largest partition:  11871 rows (77.58 MiB)\n"
     ]
    }
   ],
   "source": [
    "if False:\n",
    "    pao_removed_mt.write(BASE_DIR + '/data/mt/high_quality_variants_pao_removed.mt', overwrite=True)"
   ]
  },
  {
   "cell_type": "markdown",
   "metadata": {},
   "source": [
    "## PCA without outliers\n",
    "\n",
    "These PCA outerliers prevent us from detecting population structure in the PCA above. Whether they are ancestry outliers or whether something else is at play, we must remove them to be able to detect population structure."
   ]
  },
  {
   "cell_type": "code",
   "execution_count": 78,
   "metadata": {},
   "outputs": [],
   "source": [
    "mt = mt.filter_cols(~mt.pc_outliers)"
   ]
  },
  {
   "cell_type": "markdown",
   "metadata": {},
   "source": [
    "Now we just do the PCA again, and see if PC 1 and 2 show signs of population structure."
   ]
  },
  {
   "cell_type": "code",
   "execution_count": 79,
   "metadata": {},
   "outputs": [
    {
     "name": "stderr",
     "output_type": "stream",
     "text": [
      "2021-09-28 10:43:38 Hail: INFO: hwe_normalized_pca: running PCA using 21312 variants.\n",
      "2021-09-28 10:43:39 Hail: INFO: pca: running PCA with 4 components...\n",
      "[Stage 765:>                                                        (0 + 8) / 8]"
     ]
    }
   ],
   "source": [
    "eigenvalues, scores, loadings = hl.hwe_normalized_pca(mt.GT, k=4)"
   ]
  },
  {
   "cell_type": "code",
   "execution_count": 80,
   "metadata": {},
   "outputs": [],
   "source": [
    "mt = mt.annotate_cols(scores = scores[mt.s].scores)"
   ]
  },
  {
   "cell_type": "code",
   "execution_count": 81,
   "metadata": {},
   "outputs": [
    {
     "data": {
      "text/html": [
       "\n",
       "\n",
       "\n",
       "\n",
       "\n",
       "\n",
       "  <div class=\"bk-root\" id=\"83cc2905-c45f-4e26-9ff0-a59fab9ab8e1\" data-root-id=\"5184\"></div>\n"
      ]
     },
     "metadata": {},
     "output_type": "display_data"
    },
    {
     "data": {
      "application/javascript": [
       "(function(root) {\n",
       "  function embed_document(root) {\n",
       "    \n",
       "  var docs_json = {\"8e28e8a2-1814-476c-843b-bfadee3b0887\":{\"roots\":{\"references\":[{\"attributes\":{\"below\":[{\"id\":\"5195\",\"type\":\"LinearAxis\"}],\"center\":[{\"id\":\"5199\",\"type\":\"Grid\"},{\"id\":\"5204\",\"type\":\"Grid\"}],\"left\":[{\"id\":\"5200\",\"type\":\"LinearAxis\"},{\"id\":\"5271\",\"type\":\"Legend\"},{\"id\":\"5272\",\"type\":\"ColorBar\"}],\"plot_height\":600,\"plot_width\":800,\"renderers\":[{\"id\":\"5227\",\"type\":\"GlyphRenderer\"},{\"id\":\"5233\",\"type\":\"GlyphRenderer\"},{\"id\":\"5239\",\"type\":\"GlyphRenderer\"},{\"id\":\"5245\",\"type\":\"GlyphRenderer\"},{\"id\":\"5251\",\"type\":\"GlyphRenderer\"},{\"id\":\"5257\",\"type\":\"GlyphRenderer\"},{\"id\":\"5263\",\"type\":\"GlyphRenderer\"}],\"title\":{\"id\":\"5185\",\"type\":\"Title\"},\"toolbar\":{\"id\":\"5211\",\"type\":\"Toolbar\"},\"x_range\":{\"id\":\"5187\",\"type\":\"DataRange1d\"},\"x_scale\":{\"id\":\"5191\",\"type\":\"LinearScale\"},\"y_range\":{\"id\":\"5189\",\"type\":\"DataRange1d\"},\"y_scale\":{\"id\":\"5193\",\"type\":\"LinearScale\"}},\"id\":\"5184\",\"subtype\":\"Figure\",\"type\":\"Plot\"},{\"attributes\":{\"data_source\":{\"id\":\"5220\",\"type\":\"ColumnDataSource\"},\"glyph\":{\"id\":\"5249\",\"type\":\"Circle\"},\"hover_glyph\":null,\"muted_glyph\":null,\"nonselection_glyph\":{\"id\":\"5250\",\"type\":\"Circle\"},\"selection_glyph\":null,\"view\":{\"id\":\"5247\",\"type\":\"CDSView\"}},\"id\":\"5251\",\"type\":\"GlyphRenderer\"},{\"attributes\":{},\"id\":\"5534\",\"type\":\"BasicTicker\"},{\"attributes\":{},\"id\":\"5201\",\"type\":\"BasicTicker\"},{\"attributes\":{\"label\":{\"value\":\"3.00000e+00\"},\"renderers\":[{\"id\":\"5239\",\"type\":\"GlyphRenderer\"}]},\"id\":\"5266\",\"type\":\"LegendItem\"},{\"attributes\":{\"filters\":[{\"id\":\"5222\",\"type\":\"GroupFilter\"}],\"source\":{\"id\":\"5220\",\"type\":\"ColumnDataSource\"}},\"id\":\"5223\",\"type\":\"CDSView\"},{\"attributes\":{\"fill_alpha\":{\"value\":0.1},\"fill_color\":{\"value\":\"#1f77b4\"},\"line_alpha\":{\"value\":0.1},\"line_color\":{\"value\":\"#1f77b4\"},\"x\":{\"field\":\"x\"},\"y\":{\"field\":\"y\"}},\"id\":\"5232\",\"type\":\"Circle\"},{\"attributes\":{\"fill_alpha\":{\"value\":0.1},\"fill_color\":{\"value\":\"#1f77b4\"},\"line_alpha\":{\"value\":0.1},\"line_color\":{\"value\":\"#1f77b4\"},\"x\":{\"field\":\"x\"},\"y\":{\"field\":\"y\"}},\"id\":\"5256\",\"type\":\"Circle\"},{\"attributes\":{\"data_source\":{\"id\":\"5220\",\"type\":\"ColumnDataSource\"},\"glyph\":{\"id\":\"5231\",\"type\":\"Circle\"},\"hover_glyph\":null,\"muted_glyph\":null,\"nonselection_glyph\":{\"id\":\"5232\",\"type\":\"Circle\"},\"selection_glyph\":null,\"view\":{\"id\":\"5229\",\"type\":\"CDSView\"}},\"id\":\"5233\",\"type\":\"GlyphRenderer\"},{\"attributes\":{\"filters\":[{\"id\":\"5240\",\"type\":\"GroupFilter\"}],\"source\":{\"id\":\"5220\",\"type\":\"ColumnDataSource\"}},\"id\":\"5241\",\"type\":\"CDSView\"},{\"attributes\":{\"fill_alpha\":{\"value\":0.1},\"fill_color\":{\"value\":\"#1f77b4\"},\"line_alpha\":{\"value\":0.1},\"line_color\":{\"value\":\"#1f77b4\"},\"x\":{\"field\":\"x\"},\"y\":{\"field\":\"y\"}},\"id\":\"5250\",\"type\":\"Circle\"},{\"attributes\":{\"filters\":[{\"id\":\"5228\",\"type\":\"GroupFilter\"}],\"source\":{\"id\":\"5220\",\"type\":\"ColumnDataSource\"}},\"id\":\"5229\",\"type\":\"CDSView\"},{\"attributes\":{\"fill_color\":{\"field\":\"label\",\"transform\":{\"id\":\"5221\",\"type\":\"CategoricalColorMapper\"}},\"line_color\":{\"field\":\"label\",\"transform\":{\"id\":\"5221\",\"type\":\"CategoricalColorMapper\"}},\"x\":{\"field\":\"x\"},\"y\":{\"field\":\"y\"}},\"id\":\"5255\",\"type\":\"Circle\"},{\"attributes\":{\"active_drag\":\"auto\",\"active_inspect\":\"auto\",\"active_multi\":null,\"active_scroll\":\"auto\",\"active_tap\":\"auto\",\"tools\":[{\"id\":\"5205\",\"type\":\"PanTool\"},{\"id\":\"5206\",\"type\":\"WheelZoomTool\"},{\"id\":\"5207\",\"type\":\"BoxZoomTool\"},{\"id\":\"5208\",\"type\":\"SaveTool\"},{\"id\":\"5209\",\"type\":\"ResetTool\"},{\"id\":\"5210\",\"type\":\"HelpTool\"},{\"id\":\"5219\",\"type\":\"HoverTool\"}]},\"id\":\"5211\",\"type\":\"Toolbar\"},{\"attributes\":{\"label\":{\"value\":\"6.00000e+00\"},\"renderers\":[{\"id\":\"5257\",\"type\":\"GlyphRenderer\"}]},\"id\":\"5269\",\"type\":\"LegendItem\"},{\"attributes\":{\"fill_color\":{\"field\":\"label\",\"transform\":{\"id\":\"5221\",\"type\":\"CategoricalColorMapper\"}},\"line_color\":{\"field\":\"label\",\"transform\":{\"id\":\"5221\",\"type\":\"CategoricalColorMapper\"}},\"x\":{\"field\":\"x\"},\"y\":{\"field\":\"y\"}},\"id\":\"5225\",\"type\":\"Circle\"},{\"attributes\":{\"fill_color\":{\"field\":\"label\",\"transform\":{\"id\":\"5221\",\"type\":\"CategoricalColorMapper\"}},\"line_color\":{\"field\":\"label\",\"transform\":{\"id\":\"5221\",\"type\":\"CategoricalColorMapper\"}},\"x\":{\"field\":\"x\"},\"y\":{\"field\":\"y\"}},\"id\":\"5261\",\"type\":\"Circle\"},{\"attributes\":{\"data_source\":{\"id\":\"5220\",\"type\":\"ColumnDataSource\"},\"glyph\":{\"id\":\"5225\",\"type\":\"Circle\"},\"hover_glyph\":null,\"muted_glyph\":null,\"nonselection_glyph\":{\"id\":\"5226\",\"type\":\"Circle\"},\"selection_glyph\":null,\"view\":{\"id\":\"5223\",\"type\":\"CDSView\"}},\"id\":\"5227\",\"type\":\"GlyphRenderer\"},{\"attributes\":{\"data_source\":{\"id\":\"5220\",\"type\":\"ColumnDataSource\"},\"glyph\":{\"id\":\"5255\",\"type\":\"Circle\"},\"hover_glyph\":null,\"muted_glyph\":null,\"nonselection_glyph\":{\"id\":\"5256\",\"type\":\"Circle\"},\"selection_glyph\":null,\"view\":{\"id\":\"5253\",\"type\":\"CDSView\"}},\"id\":\"5257\",\"type\":\"GlyphRenderer\"},{\"attributes\":{\"column_name\":\"label\",\"group\":\"3.00000e+00\"},\"id\":\"5234\",\"type\":\"GroupFilter\"},{\"attributes\":{\"callback\":null,\"data\":{\"index\":[0,1,2,3,4,5,6,7,8,9,10,11,12,13,14,15,16,17,18,19,20,21,22,23,24,25,26,27,28,29,30,31,32,33,34,35,36,37,38,39,40,41,42,43,44,45,46,47,48,49,50,51,52,53,54,55,56,57,58,59,60,61,62,63,64,65,66,67,68,69,70,71,72,73,74,75,76,77,78,79,80,81,82,83,84,85,86,87,88,89,90,91,92,93,94,95,96,97,98,99,100,101,102,103,104,105,106,107,108,109,110,111,112,113,114,115,116,117,118,119,120,121,122,123,124,125,126,127,128,129,130,131,132,133,134,135,136,137,138,139,140,141,142,143,144,145,146,147,148,149,150,151,152,153,154,155,156,157,158,159,160,161,162,163,164,165,166,167,168,169,170,171,172,173,174,175,176,177,178,179,180,181,182,183,184,185,186,187,188,189,190,191,192,193,194,195,196,197,198,199,200,201,202,203,204,205,206,207,208,209,210,211,212,213,214,215,216,217,218,219,220,221,222,223,224,225,226,227,228,229,230,231,232,233,234,235,236,237,238,239,240,241,242,243,244,245,246,247,248,249,250,251,252,253,254,255,256,257,258,259,260,261,262,263,264,265,266,267,268,269,270,271,272,273,274,275,276,277,278,279,280,281,282,283,284,285,286,287,288,289,290,291,292,293,294,295,296,297,298,299,300,301,302,303,304,305,306,307,308,309,310,311,312,313,314,315,316,317,318,319,320,321,322,323,324,325,326,327,328,329,330,331,332,333,334,335,336,337,338,339,340,341,342,343,344,345,346,347,348,349,350,351,352,353,354,355,356,357,358,359,360,361,362,363],\"label\":[\"1.00000e+00\",\"1.00000e+00\",\"1.00000e+00\",\"1.00000e+00\",\"1.00000e+00\",\"1.00000e+00\",\"3.00000e+00\",\"2.00000e+00\",\"1.00000e+00\",\"1.00000e+00\",\"2.00000e+00\",\"2.00000e+00\",\"2.00000e+00\",\"1.00000e+00\",\"2.00000e+00\",\"NA\",\"1.00000e+00\",\"2.00000e+00\",\"1.00000e+00\",\"4.00000e+00\",\"3.00000e+00\",\"1.00000e+00\",\"3.00000e+00\",\"1.00000e+00\",\"1.00000e+00\",\"1.00000e+00\",\"2.00000e+00\",\"2.00000e+00\",\"1.00000e+00\",\"2.00000e+00\",\"2.00000e+00\",\"2.00000e+00\",\"3.00000e+00\",\"1.00000e+00\",\"1.00000e+00\",\"1.00000e+00\",\"2.00000e+00\",\"3.00000e+00\",\"3.00000e+00\",\"3.00000e+00\",\"2.00000e+00\",\"1.00000e+00\",\"1.00000e+00\",\"2.00000e+00\",\"2.00000e+00\",\"1.00000e+00\",\"3.00000e+00\",\"1.00000e+00\",\"3.00000e+00\",\"2.00000e+00\",\"3.00000e+00\",\"3.00000e+00\",\"1.00000e+00\",\"3.00000e+00\",\"2.00000e+00\",\"2.00000e+00\",\"1.00000e+00\",\"2.00000e+00\",\"1.00000e+00\",\"3.00000e+00\",\"1.00000e+00\",\"3.00000e+00\",\"NA\",\"3.00000e+00\",\"2.00000e+00\",\"1.00000e+00\",\"2.00000e+00\",\"3.00000e+00\",\"2.00000e+00\",\"2.00000e+00\",\"2.00000e+00\",\"NA\",\"2.00000e+00\",\"3.00000e+00\",\"2.00000e+00\",\"1.00000e+00\",\"2.00000e+00\",\"2.00000e+00\",\"1.00000e+00\",\"2.00000e+00\",\"3.00000e+00\",\"1.00000e+00\",\"2.00000e+00\",\"2.00000e+00\",\"3.00000e+00\",\"2.00000e+00\",\"2.00000e+00\",\"2.00000e+00\",\"NA\",\"2.00000e+00\",\"2.00000e+00\",\"3.00000e+00\",\"3.00000e+00\",\"2.00000e+00\",\"2.00000e+00\",\"1.00000e+00\",\"3.00000e+00\",\"3.00000e+00\",\"1.00000e+00\",\"2.00000e+00\",\"4.00000e+00\",\"2.00000e+00\",\"3.00000e+00\",\"NA\",\"6.00000e+00\",\"1.00000e+00\",\"3.00000e+00\",\"4.00000e+00\",\"1.00000e+00\",\"1.00000e+00\",\"3.00000e+00\",\"2.00000e+00\",\"NA\",\"3.00000e+00\",\"1.00000e+00\",\"3.00000e+00\",\"2.00000e+00\",\"3.00000e+00\",\"3.00000e+00\",\"3.00000e+00\",\"2.00000e+00\",\"2.00000e+00\",\"6.00000e+00\",\"3.00000e+00\",\"NA\",\"2.00000e+00\",\"3.00000e+00\",\"2.00000e+00\",\"3.00000e+00\",\"3.00000e+00\",\"2.00000e+00\",\"2.00000e+00\",\"2.00000e+00\",\"3.00000e+00\",\"3.00000e+00\",\"NA\",\"3.00000e+00\",\"3.00000e+00\",\"3.00000e+00\",\"3.00000e+00\",\"3.00000e+00\",\"3.00000e+00\",\"3.00000e+00\",\"3.00000e+00\",\"2.00000e+00\",\"3.00000e+00\",\"1.00000e+00\",\"4.00000e+00\",\"3.00000e+00\",\"4.00000e+00\",\"4.00000e+00\",\"3.00000e+00\",\"NA\",\"3.00000e+00\",\"2.00000e+00\",\"NA\",\"2.00000e+00\",\"3.00000e+00\",\"2.00000e+00\",\"NA\",\"NA\",\"2.00000e+00\",\"4.00000e+00\",\"4.00000e+00\",\"2.00000e+00\",\"4.00000e+00\",\"2.00000e+00\",\"2.00000e+00\",\"3.00000e+00\",\"1.00000e+00\",\"3.00000e+00\",\"3.00000e+00\",\"2.00000e+00\",\"3.00000e+00\",\"3.00000e+00\",\"3.00000e+00\",\"NA\",\"1.00000e+00\",\"1.00000e+00\",\"2.00000e+00\",\"3.00000e+00\",\"3.00000e+00\",\"2.00000e+00\",\"3.00000e+00\",\"3.00000e+00\",\"3.00000e+00\",\"4.00000e+00\",\"3.00000e+00\",\"3.00000e+00\",\"4.00000e+00\",\"3.00000e+00\",\"NA\",\"3.00000e+00\",\"3.00000e+00\",\"2.00000e+00\",\"3.00000e+00\",\"3.00000e+00\",\"1.00000e+00\",\"1.00000e+00\",\"4.00000e+00\",\"NA\",\"3.00000e+00\",\"1.00000e+00\",\"3.00000e+00\",\"4.00000e+00\",\"2.00000e+00\",\"4.00000e+00\",\"2.00000e+00\",\"4.00000e+00\",\"NA\",\"3.00000e+00\",\"3.00000e+00\",\"3.00000e+00\",\"6.00000e+00\",\"3.00000e+00\",\"3.00000e+00\",\"5.00000e+00\",\"NA\",\"4.00000e+00\",\"6.00000e+00\",\"4.00000e+00\",\"NA\",\"NA\",\"NA\",\"3.00000e+00\",\"4.00000e+00\",\"3.00000e+00\",\"3.00000e+00\",\"NA\",\"2.00000e+00\",\"NA\",\"1.00000e+00\",\"3.00000e+00\",\"3.00000e+00\",\"1.00000e+00\",\"4.00000e+00\",\"4.00000e+00\",\"6.00000e+00\",\"3.00000e+00\",\"3.00000e+00\",\"3.00000e+00\",\"3.00000e+00\",\"3.00000e+00\",\"3.00000e+00\",\"2.00000e+00\",\"3.00000e+00\",\"3.00000e+00\",\"2.00000e+00\",\"3.00000e+00\",\"2.00000e+00\",\"3.00000e+00\",\"2.00000e+00\",\"3.00000e+00\",\"1.00000e+00\",\"6.00000e+00\",\"1.00000e+00\",\"3.00000e+00\",\"3.00000e+00\",\"3.00000e+00\",\"3.00000e+00\",\"NA\",\"2.00000e+00\",\"2.00000e+00\",\"3.00000e+00\",\"2.00000e+00\",\"6.00000e+00\",\"3.00000e+00\",\"5.00000e+00\",\"3.00000e+00\",\"6.00000e+00\",\"3.00000e+00\",\"3.00000e+00\",\"3.00000e+00\",\"3.00000e+00\",\"3.00000e+00\",\"2.00000e+00\",\"6.00000e+00\",\"3.00000e+00\",\"3.00000e+00\",\"1.00000e+00\",\"3.00000e+00\",\"3.00000e+00\",\"NA\",\"4.00000e+00\",\"3.00000e+00\",\"3.00000e+00\",\"3.00000e+00\",\"5.00000e+00\",\"3.00000e+00\",\"5.00000e+00\",\"3.00000e+00\",\"4.00000e+00\",\"5.00000e+00\",\"3.00000e+00\",\"3.00000e+00\",\"3.00000e+00\",\"6.00000e+00\",\"3.00000e+00\",\"1.00000e+00\",\"6.00000e+00\",\"6.00000e+00\",\"5.00000e+00\",\"4.00000e+00\",\"6.00000e+00\",\"3.00000e+00\",\"NA\",\"3.00000e+00\",\"6.00000e+00\",\"3.00000e+00\",\"5.00000e+00\",\"3.00000e+00\",\"3.00000e+00\",\"3.00000e+00\",\"3.00000e+00\",\"6.00000e+00\",\"3.00000e+00\",\"3.00000e+00\",\"1.00000e+00\",\"3.00000e+00\",\"3.00000e+00\",\"1.00000e+00\",\"5.00000e+00\",\"3.00000e+00\",\"3.00000e+00\",\"6.00000e+00\",\"3.00000e+00\",\"NA\",\"2.00000e+00\",\"3.00000e+00\",\"6.00000e+00\",\"6.00000e+00\",\"5.00000e+00\",\"6.00000e+00\",\"3.00000e+00\",\"3.00000e+00\",\"2.00000e+00\",\"NA\",\"5.00000e+00\",\"5.00000e+00\",\"6.00000e+00\",\"6.00000e+00\",\"2.00000e+00\",\"NA\",\"3.00000e+00\",\"NA\",\"3.00000e+00\",\"3.00000e+00\",\"6.00000e+00\",\"6.00000e+00\",\"6.00000e+00\",\"6.00000e+00\",\"6.00000e+00\",\"3.00000e+00\",\"3.00000e+00\",\"6.00000e+00\",\"6.00000e+00\",\"5.00000e+00\",\"3.00000e+00\",\"6.00000e+00\",\"3.00000e+00\",\"3.00000e+00\",\"6.00000e+00\",\"6.00000e+00\",\"6.00000e+00\"],\"x\":{\"__ndarray__\":\"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\",\"dtype\":\"float64\",\"shape\":[364]},\"y\":{\"__ndarray__\":\"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\",\"dtype\":\"float64\",\"shape\":[364]}},\"selected\":{\"id\":\"5539\",\"type\":\"Selection\"},\"selection_policy\":{\"id\":\"5540\",\"type\":\"UnionRenderers\"}},\"id\":\"5220\",\"type\":\"ColumnDataSource\"},{\"attributes\":{\"axis_label\":\"PC2\",\"formatter\":{\"id\":\"5533\",\"type\":\"BasicTickFormatter\"},\"ticker\":{\"id\":\"5201\",\"type\":\"BasicTicker\"}},\"id\":\"5200\",\"type\":\"LinearAxis\"},{\"attributes\":{\"label\":{\"value\":\"4.00000e+00\"},\"renderers\":[{\"id\":\"5245\",\"type\":\"GlyphRenderer\"}]},\"id\":\"5267\",\"type\":\"LegendItem\"},{\"attributes\":{},\"id\":\"5535\",\"type\":\"BasicTickFormatter\"},{\"attributes\":{\"data_source\":{\"id\":\"5220\",\"type\":\"ColumnDataSource\"},\"glyph\":{\"id\":\"5261\",\"type\":\"Circle\"},\"hover_glyph\":null,\"muted_glyph\":null,\"nonselection_glyph\":{\"id\":\"5262\",\"type\":\"Circle\"},\"selection_glyph\":null,\"view\":{\"id\":\"5259\",\"type\":\"CDSView\"}},\"id\":\"5263\",\"type\":\"GlyphRenderer\"},{\"attributes\":{\"color_mapper\":null,\"formatter\":{\"id\":\"5535\",\"type\":\"BasicTickFormatter\"},\"ticker\":{\"id\":\"5534\",\"type\":\"BasicTicker\"},\"visible\":false},\"id\":\"5272\",\"type\":\"ColorBar\"},{\"attributes\":{\"fill_color\":{\"field\":\"label\",\"transform\":{\"id\":\"5221\",\"type\":\"CategoricalColorMapper\"}},\"line_color\":{\"field\":\"label\",\"transform\":{\"id\":\"5221\",\"type\":\"CategoricalColorMapper\"}},\"x\":{\"field\":\"x\"},\"y\":{\"field\":\"y\"}},\"id\":\"5249\",\"type\":\"Circle\"},{\"attributes\":{\"dimension\":1,\"ticker\":{\"id\":\"5201\",\"type\":\"BasicTicker\"}},\"id\":\"5204\",\"type\":\"Grid\"},{\"attributes\":{\"callback\":null,\"tooltips\":[[\"x\",\"@x\"],[\"y\",\"@y\"],[\"label\",\"@label\"]]},\"id\":\"5219\",\"type\":\"HoverTool\"},{\"attributes\":{},\"id\":\"5191\",\"type\":\"LinearScale\"},{\"attributes\":{},\"id\":\"5533\",\"type\":\"BasicTickFormatter\"},{\"attributes\":{\"fill_alpha\":{\"value\":0.1},\"fill_color\":{\"value\":\"#1f77b4\"},\"line_alpha\":{\"value\":0.1},\"line_color\":{\"value\":\"#1f77b4\"},\"x\":{\"field\":\"x\"},\"y\":{\"field\":\"y\"}},\"id\":\"5226\",\"type\":\"Circle\"},{\"attributes\":{},\"id\":\"5537\",\"type\":\"BasicTickFormatter\"},{\"attributes\":{\"fill_color\":{\"field\":\"label\",\"transform\":{\"id\":\"5221\",\"type\":\"CategoricalColorMapper\"}},\"line_color\":{\"field\":\"label\",\"transform\":{\"id\":\"5221\",\"type\":\"CategoricalColorMapper\"}},\"x\":{\"field\":\"x\"},\"y\":{\"field\":\"y\"}},\"id\":\"5237\",\"type\":\"Circle\"},{\"attributes\":{\"filters\":[{\"id\":\"5246\",\"type\":\"GroupFilter\"}],\"source\":{\"id\":\"5220\",\"type\":\"ColumnDataSource\"}},\"id\":\"5247\",\"type\":\"CDSView\"},{\"attributes\":{\"fill_alpha\":{\"value\":0.1},\"fill_color\":{\"value\":\"#1f77b4\"},\"line_alpha\":{\"value\":0.1},\"line_color\":{\"value\":\"#1f77b4\"},\"x\":{\"field\":\"x\"},\"y\":{\"field\":\"y\"}},\"id\":\"5262\",\"type\":\"Circle\"},{\"attributes\":{\"column_name\":\"label\",\"group\":\"6.00000e+00\"},\"id\":\"5252\",\"type\":\"GroupFilter\"},{\"attributes\":{\"label\":{\"value\":\"1.00000e+00\"},\"renderers\":[{\"id\":\"5227\",\"type\":\"GlyphRenderer\"}]},\"id\":\"5264\",\"type\":\"LegendItem\"},{\"attributes\":{},\"id\":\"5205\",\"type\":\"PanTool\"},{\"attributes\":{\"data_source\":{\"id\":\"5220\",\"type\":\"ColumnDataSource\"},\"glyph\":{\"id\":\"5237\",\"type\":\"Circle\"},\"hover_glyph\":null,\"muted_glyph\":null,\"nonselection_glyph\":{\"id\":\"5238\",\"type\":\"Circle\"},\"selection_glyph\":null,\"view\":{\"id\":\"5235\",\"type\":\"CDSView\"}},\"id\":\"5239\",\"type\":\"GlyphRenderer\"},{\"attributes\":{\"label\":{\"value\":\"2.00000e+00\"},\"renderers\":[{\"id\":\"5233\",\"type\":\"GlyphRenderer\"}]},\"id\":\"5265\",\"type\":\"LegendItem\"},{\"attributes\":{\"label\":{\"value\":\"NA\"},\"renderers\":[{\"id\":\"5263\",\"type\":\"GlyphRenderer\"}]},\"id\":\"5270\",\"type\":\"LegendItem\"},{\"attributes\":{\"fill_alpha\":{\"value\":0.1},\"fill_color\":{\"value\":\"#1f77b4\"},\"line_alpha\":{\"value\":0.1},\"line_color\":{\"value\":\"#1f77b4\"},\"x\":{\"field\":\"x\"},\"y\":{\"field\":\"y\"}},\"id\":\"5238\",\"type\":\"Circle\"},{\"attributes\":{\"callback\":null},\"id\":\"5187\",\"type\":\"DataRange1d\"},{\"attributes\":{},\"id\":\"5206\",\"type\":\"WheelZoomTool\"},{\"attributes\":{\"filters\":[{\"id\":\"5234\",\"type\":\"GroupFilter\"}],\"source\":{\"id\":\"5220\",\"type\":\"ColumnDataSource\"}},\"id\":\"5235\",\"type\":\"CDSView\"},{\"attributes\":{\"column_name\":\"label\",\"group\":\"2.00000e+00\"},\"id\":\"5228\",\"type\":\"GroupFilter\"},{\"attributes\":{\"fill_color\":{\"field\":\"label\",\"transform\":{\"id\":\"5221\",\"type\":\"CategoricalColorMapper\"}},\"line_color\":{\"field\":\"label\",\"transform\":{\"id\":\"5221\",\"type\":\"CategoricalColorMapper\"}},\"x\":{\"field\":\"x\"},\"y\":{\"field\":\"y\"}},\"id\":\"5231\",\"type\":\"Circle\"},{\"attributes\":{\"factors\":[\"NA\",\"4.00000e+00\",\"1.00000e+00\",\"3.00000e+00\",\"5.00000e+00\",\"2.00000e+00\",\"6.00000e+00\"],\"palette\":[\"#1f77b4\",\"#ff7f0e\",\"#2ca02c\",\"#d62728\",\"#9467bd\",\"#8c564b\",\"#e377c2\",\"#7f7f7f\",\"#bcbd22\",\"#17becf\"]},\"id\":\"5221\",\"type\":\"CategoricalColorMapper\"},{\"attributes\":{\"column_name\":\"label\",\"group\":\"1.00000e+00\"},\"id\":\"5222\",\"type\":\"GroupFilter\"},{\"attributes\":{\"axis_label\":\"PC1\",\"formatter\":{\"id\":\"5537\",\"type\":\"BasicTickFormatter\"},\"ticker\":{\"id\":\"5196\",\"type\":\"BasicTicker\"}},\"id\":\"5195\",\"type\":\"LinearAxis\"},{\"attributes\":{\"filters\":[{\"id\":\"5252\",\"type\":\"GroupFilter\"}],\"source\":{\"id\":\"5220\",\"type\":\"ColumnDataSource\"}},\"id\":\"5253\",\"type\":\"CDSView\"},{\"attributes\":{\"column_name\":\"label\",\"group\":\"4.00000e+00\"},\"id\":\"5240\",\"type\":\"GroupFilter\"},{\"attributes\":{\"column_name\":\"label\",\"group\":\"NA\"},\"id\":\"5258\",\"type\":\"GroupFilter\"},{\"attributes\":{\"callback\":null},\"id\":\"5189\",\"type\":\"DataRange1d\"},{\"attributes\":{},\"id\":\"5208\",\"type\":\"SaveTool\"},{\"attributes\":{\"fill_color\":{\"field\":\"label\",\"transform\":{\"id\":\"5221\",\"type\":\"CategoricalColorMapper\"}},\"line_color\":{\"field\":\"label\",\"transform\":{\"id\":\"5221\",\"type\":\"CategoricalColorMapper\"}},\"x\":{\"field\":\"x\"},\"y\":{\"field\":\"y\"}},\"id\":\"5243\",\"type\":\"Circle\"},{\"attributes\":{\"overlay\":{\"id\":\"5538\",\"type\":\"BoxAnnotation\"}},\"id\":\"5207\",\"type\":\"BoxZoomTool\"},{\"attributes\":{},\"id\":\"5209\",\"type\":\"ResetTool\"},{\"attributes\":{},\"id\":\"5196\",\"type\":\"BasicTicker\"},{\"attributes\":{},\"id\":\"5539\",\"type\":\"Selection\"},{\"attributes\":{\"label\":{\"value\":\"5.00000e+00\"},\"renderers\":[{\"id\":\"5251\",\"type\":\"GlyphRenderer\"}]},\"id\":\"5268\",\"type\":\"LegendItem\"},{\"attributes\":{\"filters\":[{\"id\":\"5258\",\"type\":\"GroupFilter\"}],\"source\":{\"id\":\"5220\",\"type\":\"ColumnDataSource\"}},\"id\":\"5259\",\"type\":\"CDSView\"},{\"attributes\":{},\"id\":\"5193\",\"type\":\"LinearScale\"},{\"attributes\":{\"fill_alpha\":{\"value\":0.1},\"fill_color\":{\"value\":\"#1f77b4\"},\"line_alpha\":{\"value\":0.1},\"line_color\":{\"value\":\"#1f77b4\"},\"x\":{\"field\":\"x\"},\"y\":{\"field\":\"y\"}},\"id\":\"5244\",\"type\":\"Circle\"},{\"attributes\":{\"click_policy\":\"hide\",\"items\":[{\"id\":\"5264\",\"type\":\"LegendItem\"},{\"id\":\"5265\",\"type\":\"LegendItem\"},{\"id\":\"5266\",\"type\":\"LegendItem\"},{\"id\":\"5267\",\"type\":\"LegendItem\"},{\"id\":\"5268\",\"type\":\"LegendItem\"},{\"id\":\"5269\",\"type\":\"LegendItem\"},{\"id\":\"5270\",\"type\":\"LegendItem\"}]},\"id\":\"5271\",\"type\":\"Legend\"},{\"attributes\":{},\"id\":\"5210\",\"type\":\"HelpTool\"},{\"attributes\":{\"bottom_units\":\"screen\",\"fill_alpha\":{\"value\":0.5},\"fill_color\":{\"value\":\"lightgrey\"},\"left_units\":\"screen\",\"level\":\"overlay\",\"line_alpha\":{\"value\":1.0},\"line_color\":{\"value\":\"black\"},\"line_dash\":[4,4],\"line_width\":{\"value\":2},\"render_mode\":\"css\",\"right_units\":\"screen\",\"top_units\":\"screen\"},\"id\":\"5538\",\"type\":\"BoxAnnotation\"},{\"attributes\":{},\"id\":\"5540\",\"type\":\"UnionRenderers\"},{\"attributes\":{\"ticker\":{\"id\":\"5196\",\"type\":\"BasicTicker\"}},\"id\":\"5199\",\"type\":\"Grid\"},{\"attributes\":{\"column_name\":\"label\",\"group\":\"5.00000e+00\"},\"id\":\"5246\",\"type\":\"GroupFilter\"},{\"attributes\":{\"text\":\"PCA\"},\"id\":\"5185\",\"type\":\"Title\"},{\"attributes\":{\"data_source\":{\"id\":\"5220\",\"type\":\"ColumnDataSource\"},\"glyph\":{\"id\":\"5243\",\"type\":\"Circle\"},\"hover_glyph\":null,\"muted_glyph\":null,\"nonselection_glyph\":{\"id\":\"5244\",\"type\":\"Circle\"},\"selection_glyph\":null,\"view\":{\"id\":\"5241\",\"type\":\"CDSView\"}},\"id\":\"5245\",\"type\":\"GlyphRenderer\"}],\"root_ids\":[\"5184\"]},\"title\":\"Bokeh Application\",\"version\":\"1.2.0\"}};\n",
       "  var render_items = [{\"docid\":\"8e28e8a2-1814-476c-843b-bfadee3b0887\",\"roots\":{\"5184\":\"83cc2905-c45f-4e26-9ff0-a59fab9ab8e1\"}}];\n",
       "  root.Bokeh.embed.embed_items_notebook(docs_json, render_items);\n",
       "\n",
       "  }\n",
       "  if (root.Bokeh !== undefined) {\n",
       "    embed_document(root);\n",
       "  } else {\n",
       "    var attempts = 0;\n",
       "    var timer = setInterval(function(root) {\n",
       "      if (root.Bokeh !== undefined) {\n",
       "        embed_document(root);\n",
       "        clearInterval(timer);\n",
       "      }\n",
       "      attempts++;\n",
       "      if (attempts > 100) {\n",
       "        console.log(\"Bokeh: ERROR: Unable to run BokehJS code because BokehJS library is missing\");\n",
       "        clearInterval(timer);\n",
       "      }\n",
       "    }, 10, root)\n",
       "  }\n",
       "})(window);"
      ],
      "application/vnd.bokehjs_exec.v0+json": ""
     },
     "metadata": {
      "application/vnd.bokehjs_exec.v0+json": {
       "id": "5184"
      }
     },
     "output_type": "display_data"
    }
   ],
   "source": [
    "p = hl.plot.scatter(mt.scores[0],\n",
    "                    mt.scores[1],\n",
    "                    label=hl.str(mt.birthplace),\n",
    "                    title='PCA', xlabel='PC1', ylabel='PC2')\n",
    "p.plot_width = 800\n",
    "p.plot_height = 600\n",
    "show(p)"
   ]
  },
  {
   "cell_type": "markdown",
   "metadata": {},
   "source": [
    "Region number | Region name(s)\n",
    "-----|-----\n",
    "1 | Norðoyggjar\n",
    "2 | Eysturoy og Norðstreymoy\n",
    "3 | Suðurstreymoy\n",
    "4 | Vágar og Mykines\n",
    "5 | Sandoy, Skúvoy, Stóra Dímun\n",
    "6 | Suðuroy"
   ]
  },
  {
   "cell_type": "markdown",
   "metadata": {},
   "source": [
    "From this PCA, it looks like there is very little population structure. But I'm not so convinced, I see this as a failure to detect population structure, not a success to show that there is no population structure."
   ]
  },
  {
   "cell_type": "markdown",
   "metadata": {},
   "source": [
    "## Summary\n",
    "\n",
    "In this notebook we have:\n",
    "\n",
    "* Investigate population structure in the cohort\n",
    "* Removed potential ancestry outliers from the data"
   ]
  }
 ],
 "metadata": {
  "kernelspec": {
   "display_name": "Python [conda env:fargen-1-exome]",
   "language": "python",
   "name": "conda-env-fargen-1-exome-py"
  },
  "language_info": {
   "codemirror_mode": {
    "name": "ipython",
    "version": 3
   },
   "file_extension": ".py",
   "mimetype": "text/x-python",
   "name": "python",
   "nbconvert_exporter": "python",
   "pygments_lexer": "ipython3",
   "version": "3.7.10"
  }
 },
 "nbformat": 4,
 "nbformat_minor": 4
}
