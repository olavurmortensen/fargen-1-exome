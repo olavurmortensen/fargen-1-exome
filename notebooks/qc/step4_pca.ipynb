{
 "cells": [
  {
   "cell_type": "markdown",
   "metadata": {},
   "source": [
    "# Population structure - PCA of the FarGen cohort"
   ]
  },
  {
   "cell_type": "code",
   "execution_count": 1,
   "metadata": {},
   "outputs": [
    {
     "name": "stdout",
     "output_type": "stream",
     "text": [
      "2021-10-11 10:35:08 WARN  NativeCodeLoader:62 - Unable to load native-hadoop library for your platform... using builtin-java classes where applicable\n"
     ]
    },
    {
     "name": "stderr",
     "output_type": "stream",
     "text": [
      "Setting default log level to \"WARN\".\n",
      "To adjust logging level use sc.setLogLevel(newLevel). For SparkR, use setLogLevel(newLevel).\n"
     ]
    },
    {
     "name": "stdout",
     "output_type": "stream",
     "text": [
      "2021-10-11 10:35:09 WARN  Hail:37 - This Hail JAR was compiled for Spark 2.4.5, running with Spark 2.4.1.\n",
      "  Compatibility is not guaranteed.\n"
     ]
    },
    {
     "name": "stderr",
     "output_type": "stream",
     "text": [
      "Running on Apache Spark version 2.4.1\n",
      "SparkUI available at http://hms-beagle-6676655f87-9xllv:4040\n",
      "Welcome to\n",
      "     __  __     <>__\n",
      "    / /_/ /__  __/ /\n",
      "   / __  / _ `/ / /\n",
      "  /_/ /_/\\_,_/_/_/   version 0.2.61-3c86d3ba497a\n",
      "LOGGING: writing to /home/olavur/experiments/2020-11-13_fargen1_exome_analysis/fargen-1-exome/notebooks/qc/hail-20211011-1035-0.2.61-3c86d3ba497a.log\n"
     ]
    }
   ],
   "source": [
    "import hail as hl\n",
    "hl.init(spark_conf={'spark.driver.memory': '100g'}, tmp_dir='/home/olavur/tmp')"
   ]
  },
  {
   "cell_type": "code",
   "execution_count": 2,
   "metadata": {},
   "outputs": [
    {
     "data": {
      "text/html": [
       "\n",
       "    <div class=\"bk-root\">\n",
       "        <a href=\"https://bokeh.pydata.org\" target=\"_blank\" class=\"bk-logo bk-logo-small bk-logo-notebook\"></a>\n",
       "        <span id=\"1001\">Loading BokehJS ...</span>\n",
       "    </div>"
      ]
     },
     "metadata": {},
     "output_type": "display_data"
    },
    {
     "data": {
      "application/javascript": [
       "\n",
       "(function(root) {\n",
       "  function now() {\n",
       "    return new Date();\n",
       "  }\n",
       "\n",
       "  var force = true;\n",
       "\n",
       "  if (typeof root._bokeh_onload_callbacks === \"undefined\" || force === true) {\n",
       "    root._bokeh_onload_callbacks = [];\n",
       "    root._bokeh_is_loading = undefined;\n",
       "  }\n",
       "\n",
       "  var JS_MIME_TYPE = 'application/javascript';\n",
       "  var HTML_MIME_TYPE = 'text/html';\n",
       "  var EXEC_MIME_TYPE = 'application/vnd.bokehjs_exec.v0+json';\n",
       "  var CLASS_NAME = 'output_bokeh rendered_html';\n",
       "\n",
       "  /**\n",
       "   * Render data to the DOM node\n",
       "   */\n",
       "  function render(props, node) {\n",
       "    var script = document.createElement(\"script\");\n",
       "    node.appendChild(script);\n",
       "  }\n",
       "\n",
       "  /**\n",
       "   * Handle when an output is cleared or removed\n",
       "   */\n",
       "  function handleClearOutput(event, handle) {\n",
       "    var cell = handle.cell;\n",
       "\n",
       "    var id = cell.output_area._bokeh_element_id;\n",
       "    var server_id = cell.output_area._bokeh_server_id;\n",
       "    // Clean up Bokeh references\n",
       "    if (id != null && id in Bokeh.index) {\n",
       "      Bokeh.index[id].model.document.clear();\n",
       "      delete Bokeh.index[id];\n",
       "    }\n",
       "\n",
       "    if (server_id !== undefined) {\n",
       "      // Clean up Bokeh references\n",
       "      var cmd = \"from bokeh.io.state import curstate; print(curstate().uuid_to_server['\" + server_id + \"'].get_sessions()[0].document.roots[0]._id)\";\n",
       "      cell.notebook.kernel.execute(cmd, {\n",
       "        iopub: {\n",
       "          output: function(msg) {\n",
       "            var id = msg.content.text.trim();\n",
       "            if (id in Bokeh.index) {\n",
       "              Bokeh.index[id].model.document.clear();\n",
       "              delete Bokeh.index[id];\n",
       "            }\n",
       "          }\n",
       "        }\n",
       "      });\n",
       "      // Destroy server and session\n",
       "      var cmd = \"import bokeh.io.notebook as ion; ion.destroy_server('\" + server_id + \"')\";\n",
       "      cell.notebook.kernel.execute(cmd);\n",
       "    }\n",
       "  }\n",
       "\n",
       "  /**\n",
       "   * Handle when a new output is added\n",
       "   */\n",
       "  function handleAddOutput(event, handle) {\n",
       "    var output_area = handle.output_area;\n",
       "    var output = handle.output;\n",
       "\n",
       "    // limit handleAddOutput to display_data with EXEC_MIME_TYPE content only\n",
       "    if ((output.output_type != \"display_data\") || (!output.data.hasOwnProperty(EXEC_MIME_TYPE))) {\n",
       "      return\n",
       "    }\n",
       "\n",
       "    var toinsert = output_area.element.find(\".\" + CLASS_NAME.split(' ')[0]);\n",
       "\n",
       "    if (output.metadata[EXEC_MIME_TYPE][\"id\"] !== undefined) {\n",
       "      toinsert[toinsert.length - 1].firstChild.textContent = output.data[JS_MIME_TYPE];\n",
       "      // store reference to embed id on output_area\n",
       "      output_area._bokeh_element_id = output.metadata[EXEC_MIME_TYPE][\"id\"];\n",
       "    }\n",
       "    if (output.metadata[EXEC_MIME_TYPE][\"server_id\"] !== undefined) {\n",
       "      var bk_div = document.createElement(\"div\");\n",
       "      bk_div.innerHTML = output.data[HTML_MIME_TYPE];\n",
       "      var script_attrs = bk_div.children[0].attributes;\n",
       "      for (var i = 0; i < script_attrs.length; i++) {\n",
       "        toinsert[toinsert.length - 1].firstChild.setAttribute(script_attrs[i].name, script_attrs[i].value);\n",
       "      }\n",
       "      // store reference to server id on output_area\n",
       "      output_area._bokeh_server_id = output.metadata[EXEC_MIME_TYPE][\"server_id\"];\n",
       "    }\n",
       "  }\n",
       "\n",
       "  function register_renderer(events, OutputArea) {\n",
       "\n",
       "    function append_mime(data, metadata, element) {\n",
       "      // create a DOM node to render to\n",
       "      var toinsert = this.create_output_subarea(\n",
       "        metadata,\n",
       "        CLASS_NAME,\n",
       "        EXEC_MIME_TYPE\n",
       "      );\n",
       "      this.keyboard_manager.register_events(toinsert);\n",
       "      // Render to node\n",
       "      var props = {data: data, metadata: metadata[EXEC_MIME_TYPE]};\n",
       "      render(props, toinsert[toinsert.length - 1]);\n",
       "      element.append(toinsert);\n",
       "      return toinsert\n",
       "    }\n",
       "\n",
       "    /* Handle when an output is cleared or removed */\n",
       "    events.on('clear_output.CodeCell', handleClearOutput);\n",
       "    events.on('delete.Cell', handleClearOutput);\n",
       "\n",
       "    /* Handle when a new output is added */\n",
       "    events.on('output_added.OutputArea', handleAddOutput);\n",
       "\n",
       "    /**\n",
       "     * Register the mime type and append_mime function with output_area\n",
       "     */\n",
       "    OutputArea.prototype.register_mime_type(EXEC_MIME_TYPE, append_mime, {\n",
       "      /* Is output safe? */\n",
       "      safe: true,\n",
       "      /* Index of renderer in `output_area.display_order` */\n",
       "      index: 0\n",
       "    });\n",
       "  }\n",
       "\n",
       "  // register the mime type if in Jupyter Notebook environment and previously unregistered\n",
       "  if (root.Jupyter !== undefined) {\n",
       "    var events = require('base/js/events');\n",
       "    var OutputArea = require('notebook/js/outputarea').OutputArea;\n",
       "\n",
       "    if (OutputArea.prototype.mime_types().indexOf(EXEC_MIME_TYPE) == -1) {\n",
       "      register_renderer(events, OutputArea);\n",
       "    }\n",
       "  }\n",
       "\n",
       "  \n",
       "  if (typeof (root._bokeh_timeout) === \"undefined\" || force === true) {\n",
       "    root._bokeh_timeout = Date.now() + 5000;\n",
       "    root._bokeh_failed_load = false;\n",
       "  }\n",
       "\n",
       "  var NB_LOAD_WARNING = {'data': {'text/html':\n",
       "     \"<div style='background-color: #fdd'>\\n\"+\n",
       "     \"<p>\\n\"+\n",
       "     \"BokehJS does not appear to have successfully loaded. If loading BokehJS from CDN, this \\n\"+\n",
       "     \"may be due to a slow or bad network connection. Possible fixes:\\n\"+\n",
       "     \"</p>\\n\"+\n",
       "     \"<ul>\\n\"+\n",
       "     \"<li>re-rerun `output_notebook()` to attempt to load from CDN again, or</li>\\n\"+\n",
       "     \"<li>use INLINE resources instead, as so:</li>\\n\"+\n",
       "     \"</ul>\\n\"+\n",
       "     \"<code>\\n\"+\n",
       "     \"from bokeh.resources import INLINE\\n\"+\n",
       "     \"output_notebook(resources=INLINE)\\n\"+\n",
       "     \"</code>\\n\"+\n",
       "     \"</div>\"}};\n",
       "\n",
       "  function display_loaded() {\n",
       "    var el = document.getElementById(\"1001\");\n",
       "    if (el != null) {\n",
       "      el.textContent = \"BokehJS is loading...\";\n",
       "    }\n",
       "    if (root.Bokeh !== undefined) {\n",
       "      if (el != null) {\n",
       "        el.textContent = \"BokehJS \" + root.Bokeh.version + \" successfully loaded.\";\n",
       "      }\n",
       "    } else if (Date.now() < root._bokeh_timeout) {\n",
       "      setTimeout(display_loaded, 100)\n",
       "    }\n",
       "  }\n",
       "\n",
       "\n",
       "  function run_callbacks() {\n",
       "    try {\n",
       "      root._bokeh_onload_callbacks.forEach(function(callback) {\n",
       "        if (callback != null)\n",
       "          callback();\n",
       "      });\n",
       "    } finally {\n",
       "      delete root._bokeh_onload_callbacks\n",
       "    }\n",
       "    console.debug(\"Bokeh: all callbacks have finished\");\n",
       "  }\n",
       "\n",
       "  function load_libs(css_urls, js_urls, callback) {\n",
       "    if (css_urls == null) css_urls = [];\n",
       "    if (js_urls == null) js_urls = [];\n",
       "\n",
       "    root._bokeh_onload_callbacks.push(callback);\n",
       "    if (root._bokeh_is_loading > 0) {\n",
       "      console.debug(\"Bokeh: BokehJS is being loaded, scheduling callback at\", now());\n",
       "      return null;\n",
       "    }\n",
       "    if (js_urls == null || js_urls.length === 0) {\n",
       "      run_callbacks();\n",
       "      return null;\n",
       "    }\n",
       "    console.debug(\"Bokeh: BokehJS not loaded, scheduling load and callback at\", now());\n",
       "    root._bokeh_is_loading = css_urls.length + js_urls.length;\n",
       "\n",
       "    function on_load() {\n",
       "      root._bokeh_is_loading--;\n",
       "      if (root._bokeh_is_loading === 0) {\n",
       "        console.debug(\"Bokeh: all BokehJS libraries/stylesheets loaded\");\n",
       "        run_callbacks()\n",
       "      }\n",
       "    }\n",
       "\n",
       "    function on_error() {\n",
       "      console.error(\"failed to load \" + url);\n",
       "    }\n",
       "\n",
       "    for (var i = 0; i < css_urls.length; i++) {\n",
       "      var url = css_urls[i];\n",
       "      const element = document.createElement(\"link\");\n",
       "      element.onload = on_load;\n",
       "      element.onerror = on_error;\n",
       "      element.rel = \"stylesheet\";\n",
       "      element.type = \"text/css\";\n",
       "      element.href = url;\n",
       "      console.debug(\"Bokeh: injecting link tag for BokehJS stylesheet: \", url);\n",
       "      document.body.appendChild(element);\n",
       "    }\n",
       "\n",
       "    for (var i = 0; i < js_urls.length; i++) {\n",
       "      var url = js_urls[i];\n",
       "      var element = document.createElement('script');\n",
       "      element.onload = on_load;\n",
       "      element.onerror = on_error;\n",
       "      element.async = false;\n",
       "      element.src = url;\n",
       "      console.debug(\"Bokeh: injecting script tag for BokehJS library: \", url);\n",
       "      document.head.appendChild(element);\n",
       "    }\n",
       "  };var element = document.getElementById(\"1001\");\n",
       "  if (element == null) {\n",
       "    console.error(\"Bokeh: ERROR: autoload.js configured with elementid '1001' but no matching script tag was found. \")\n",
       "    return false;\n",
       "  }\n",
       "\n",
       "  function inject_raw_css(css) {\n",
       "    const element = document.createElement(\"style\");\n",
       "    element.appendChild(document.createTextNode(css));\n",
       "    document.body.appendChild(element);\n",
       "  }\n",
       "\n",
       "  var js_urls = [\"https://cdn.pydata.org/bokeh/release/bokeh-1.2.0.min.js\", \"https://cdn.pydata.org/bokeh/release/bokeh-widgets-1.2.0.min.js\", \"https://cdn.pydata.org/bokeh/release/bokeh-tables-1.2.0.min.js\", \"https://cdn.pydata.org/bokeh/release/bokeh-gl-1.2.0.min.js\"];\n",
       "  var css_urls = [\"https://cdn.pydata.org/bokeh/release/bokeh-1.2.0.min.css\", \"https://cdn.pydata.org/bokeh/release/bokeh-widgets-1.2.0.min.css\", \"https://cdn.pydata.org/bokeh/release/bokeh-tables-1.2.0.min.css\"];\n",
       "\n",
       "  var inline_js = [\n",
       "    function(Bokeh) {\n",
       "      Bokeh.set_log_level(\"info\");\n",
       "    },\n",
       "    \n",
       "    function(Bokeh) {\n",
       "      \n",
       "    },\n",
       "    function(Bokeh) {} // ensure no trailing comma for IE\n",
       "  ];\n",
       "\n",
       "  function run_inline_js() {\n",
       "    \n",
       "    if ((root.Bokeh !== undefined) || (force === true)) {\n",
       "      for (var i = 0; i < inline_js.length; i++) {\n",
       "        inline_js[i].call(root, root.Bokeh);\n",
       "      }if (force === true) {\n",
       "        display_loaded();\n",
       "      }} else if (Date.now() < root._bokeh_timeout) {\n",
       "      setTimeout(run_inline_js, 100);\n",
       "    } else if (!root._bokeh_failed_load) {\n",
       "      console.log(\"Bokeh: BokehJS failed to load within specified timeout.\");\n",
       "      root._bokeh_failed_load = true;\n",
       "    } else if (force !== true) {\n",
       "      var cell = $(document.getElementById(\"1001\")).parents('.cell').data().cell;\n",
       "      cell.output_area.append_execute_result(NB_LOAD_WARNING)\n",
       "    }\n",
       "\n",
       "  }\n",
       "\n",
       "  if (root._bokeh_is_loading === 0) {\n",
       "    console.debug(\"Bokeh: BokehJS loaded, going straight to plotting\");\n",
       "    run_inline_js();\n",
       "  } else {\n",
       "    load_libs(css_urls, js_urls, function() {\n",
       "      console.debug(\"Bokeh: BokehJS plotting callback run at\", now());\n",
       "      run_inline_js();\n",
       "    });\n",
       "  }\n",
       "}(window));"
      ],
      "application/vnd.bokehjs_load.v0+json": "\n(function(root) {\n  function now() {\n    return new Date();\n  }\n\n  var force = true;\n\n  if (typeof root._bokeh_onload_callbacks === \"undefined\" || force === true) {\n    root._bokeh_onload_callbacks = [];\n    root._bokeh_is_loading = undefined;\n  }\n\n  \n\n  \n  if (typeof (root._bokeh_timeout) === \"undefined\" || force === true) {\n    root._bokeh_timeout = Date.now() + 5000;\n    root._bokeh_failed_load = false;\n  }\n\n  var NB_LOAD_WARNING = {'data': {'text/html':\n     \"<div style='background-color: #fdd'>\\n\"+\n     \"<p>\\n\"+\n     \"BokehJS does not appear to have successfully loaded. If loading BokehJS from CDN, this \\n\"+\n     \"may be due to a slow or bad network connection. Possible fixes:\\n\"+\n     \"</p>\\n\"+\n     \"<ul>\\n\"+\n     \"<li>re-rerun `output_notebook()` to attempt to load from CDN again, or</li>\\n\"+\n     \"<li>use INLINE resources instead, as so:</li>\\n\"+\n     \"</ul>\\n\"+\n     \"<code>\\n\"+\n     \"from bokeh.resources import INLINE\\n\"+\n     \"output_notebook(resources=INLINE)\\n\"+\n     \"</code>\\n\"+\n     \"</div>\"}};\n\n  function display_loaded() {\n    var el = document.getElementById(\"1001\");\n    if (el != null) {\n      el.textContent = \"BokehJS is loading...\";\n    }\n    if (root.Bokeh !== undefined) {\n      if (el != null) {\n        el.textContent = \"BokehJS \" + root.Bokeh.version + \" successfully loaded.\";\n      }\n    } else if (Date.now() < root._bokeh_timeout) {\n      setTimeout(display_loaded, 100)\n    }\n  }\n\n\n  function run_callbacks() {\n    try {\n      root._bokeh_onload_callbacks.forEach(function(callback) {\n        if (callback != null)\n          callback();\n      });\n    } finally {\n      delete root._bokeh_onload_callbacks\n    }\n    console.debug(\"Bokeh: all callbacks have finished\");\n  }\n\n  function load_libs(css_urls, js_urls, callback) {\n    if (css_urls == null) css_urls = [];\n    if (js_urls == null) js_urls = [];\n\n    root._bokeh_onload_callbacks.push(callback);\n    if (root._bokeh_is_loading > 0) {\n      console.debug(\"Bokeh: BokehJS is being loaded, scheduling callback at\", now());\n      return null;\n    }\n    if (js_urls == null || js_urls.length === 0) {\n      run_callbacks();\n      return null;\n    }\n    console.debug(\"Bokeh: BokehJS not loaded, scheduling load and callback at\", now());\n    root._bokeh_is_loading = css_urls.length + js_urls.length;\n\n    function on_load() {\n      root._bokeh_is_loading--;\n      if (root._bokeh_is_loading === 0) {\n        console.debug(\"Bokeh: all BokehJS libraries/stylesheets loaded\");\n        run_callbacks()\n      }\n    }\n\n    function on_error() {\n      console.error(\"failed to load \" + url);\n    }\n\n    for (var i = 0; i < css_urls.length; i++) {\n      var url = css_urls[i];\n      const element = document.createElement(\"link\");\n      element.onload = on_load;\n      element.onerror = on_error;\n      element.rel = \"stylesheet\";\n      element.type = \"text/css\";\n      element.href = url;\n      console.debug(\"Bokeh: injecting link tag for BokehJS stylesheet: \", url);\n      document.body.appendChild(element);\n    }\n\n    for (var i = 0; i < js_urls.length; i++) {\n      var url = js_urls[i];\n      var element = document.createElement('script');\n      element.onload = on_load;\n      element.onerror = on_error;\n      element.async = false;\n      element.src = url;\n      console.debug(\"Bokeh: injecting script tag for BokehJS library: \", url);\n      document.head.appendChild(element);\n    }\n  };var element = document.getElementById(\"1001\");\n  if (element == null) {\n    console.error(\"Bokeh: ERROR: autoload.js configured with elementid '1001' but no matching script tag was found. \")\n    return false;\n  }\n\n  function inject_raw_css(css) {\n    const element = document.createElement(\"style\");\n    element.appendChild(document.createTextNode(css));\n    document.body.appendChild(element);\n  }\n\n  var js_urls = [\"https://cdn.pydata.org/bokeh/release/bokeh-1.2.0.min.js\", \"https://cdn.pydata.org/bokeh/release/bokeh-widgets-1.2.0.min.js\", \"https://cdn.pydata.org/bokeh/release/bokeh-tables-1.2.0.min.js\", \"https://cdn.pydata.org/bokeh/release/bokeh-gl-1.2.0.min.js\"];\n  var css_urls = [\"https://cdn.pydata.org/bokeh/release/bokeh-1.2.0.min.css\", \"https://cdn.pydata.org/bokeh/release/bokeh-widgets-1.2.0.min.css\", \"https://cdn.pydata.org/bokeh/release/bokeh-tables-1.2.0.min.css\"];\n\n  var inline_js = [\n    function(Bokeh) {\n      Bokeh.set_log_level(\"info\");\n    },\n    \n    function(Bokeh) {\n      \n    },\n    function(Bokeh) {} // ensure no trailing comma for IE\n  ];\n\n  function run_inline_js() {\n    \n    if ((root.Bokeh !== undefined) || (force === true)) {\n      for (var i = 0; i < inline_js.length; i++) {\n        inline_js[i].call(root, root.Bokeh);\n      }if (force === true) {\n        display_loaded();\n      }} else if (Date.now() < root._bokeh_timeout) {\n      setTimeout(run_inline_js, 100);\n    } else if (!root._bokeh_failed_load) {\n      console.log(\"Bokeh: BokehJS failed to load within specified timeout.\");\n      root._bokeh_failed_load = true;\n    } else if (force !== true) {\n      var cell = $(document.getElementById(\"1001\")).parents('.cell').data().cell;\n      cell.output_area.append_execute_result(NB_LOAD_WARNING)\n    }\n\n  }\n\n  if (root._bokeh_is_loading === 0) {\n    console.debug(\"Bokeh: BokehJS loaded, going straight to plotting\");\n    run_inline_js();\n  } else {\n    load_libs(css_urls, js_urls, function() {\n      console.debug(\"Bokeh: BokehJS plotting callback run at\", now());\n      run_inline_js();\n    });\n  }\n}(window));"
     },
     "metadata": {},
     "output_type": "display_data"
    }
   ],
   "source": [
    "from bokeh.io import show, output_notebook\n",
    "from bokeh.layouts import gridplot\n",
    "from bokeh.models.scales import LogScale\n",
    "output_notebook()"
   ]
  },
  {
   "cell_type": "code",
   "execution_count": 3,
   "metadata": {},
   "outputs": [],
   "source": [
    "import pandas as pd"
   ]
  },
  {
   "cell_type": "markdown",
   "metadata": {},
   "source": [
    "## Load FarGen data\n",
    "\n",
    "Use high-quality variants."
   ]
  },
  {
   "cell_type": "code",
   "execution_count": 13,
   "metadata": {},
   "outputs": [],
   "source": [
    "BASE_DIR = '/home/olavur/experiments/2020-11-13_fargen1_exome_analysis'\n",
    "mt = hl.read_matrix_table(BASE_DIR + '/data/mt/high_quality_variants.mt')"
   ]
  },
  {
   "cell_type": "code",
   "execution_count": 5,
   "metadata": {},
   "outputs": [
    {
     "name": "stdout",
     "output_type": "stream",
     "text": [
      "Number of variants: 148305\n",
      "Number of samples: 469\n"
     ]
    }
   ],
   "source": [
    "n_variants, n_samples = mt.count()\n",
    "print('Number of variants: ' + str(n_variants))\n",
    "print('Number of samples: ' + str(n_samples))"
   ]
  },
  {
   "cell_type": "markdown",
   "metadata": {},
   "source": [
    "## Population filters\n",
    "\n",
    "Update variants stats."
   ]
  },
  {
   "cell_type": "code",
   "execution_count": 14,
   "metadata": {},
   "outputs": [],
   "source": [
    "mt = hl.variant_qc(mt)"
   ]
  },
  {
   "cell_type": "markdown",
   "metadata": {},
   "source": [
    "Remove variants with minor allele frequency under 0.01. Note that we remove only very rare variants, because common variants can be insufficient to describe fine-scale population structure at a subpopulation scale."
   ]
  },
  {
   "cell_type": "code",
   "execution_count": 15,
   "metadata": {},
   "outputs": [],
   "source": [
    "maf_filter = 0.01\n",
    "mt = mt.filter_rows((mt.variant_qc.AF[1] > maf_filter) & (mt.variant_qc.AF[1] < (1 - maf_filter)))"
   ]
  },
  {
   "cell_type": "markdown",
   "metadata": {},
   "source": [
    "## Filter indels\n",
    "\n",
    "Remove all indels from the dataset."
   ]
  },
  {
   "cell_type": "code",
   "execution_count": 16,
   "metadata": {},
   "outputs": [],
   "source": [
    "mt = mt.filter_rows(hl.is_snp(mt.alleles[0], mt.alleles[1]))"
   ]
  },
  {
   "cell_type": "markdown",
   "metadata": {},
   "source": [
    "## LD pruning\n",
    "\n",
    "Before we calculate LD, we remove multi-allelic sites.\n",
    "\n",
    "**NOTE:** I can do LD pruning on multi-allelic sites using [split_multi()](https://hail.is/docs/0.2/methods/genetics.html#hail.methods.split_multi)."
   ]
  },
  {
   "cell_type": "code",
   "execution_count": 17,
   "metadata": {},
   "outputs": [],
   "source": [
    "# NOTE: Now that this dataset is split, it should be possible to do LD pruning without removing multi-allelic sites.\n",
    "#mt = mt.filter_rows(hl.len(mt.alleles) == 2)"
   ]
  },
  {
   "cell_type": "markdown",
   "metadata": {},
   "source": [
    "Prune variants with $r^2 > 0.2$ within a 500 000 basepair window.\n",
    "\n",
    "**NOTE:** this $r^2$ value is quite arbitrary. It is the default from the Hail method and I did not try other values."
   ]
  },
  {
   "cell_type": "code",
   "execution_count": 17,
   "metadata": {},
   "outputs": [
    {
     "name": "stderr",
     "output_type": "stream",
     "text": [
      "2021-10-11 10:44:15 Hail: INFO: ld_prune: running local pruning stage with max queue size of 399458 variants\n",
      "[Stage 6:=======================================================> (36 + 1) / 37]2021-10-11 10:44:20 Hail: INFO: wrote table with 47302 rows in 37 partitions to /home/olavur/tmp/spBX4fm8KcVfpppVwSF2Qv\n",
      "    Total size: 1.44 MiB\n",
      "    * Rows: 1.44 MiB\n",
      "    * Globals: 11.00 B\n",
      "    * Smallest partition: 655 rows (21.18 KiB)\n",
      "    * Largest partition:  1513 rows (47.13 KiB)\n",
      "[Stage 8:=============================>                            (6 + 6) / 12]2021-10-11 10:44:25 Hail: INFO: Wrote all 12 blocks of 47302 x 469 matrix with block size 4096.\n",
      "[Stage 12:=====================================================>  (22 + 1) / 23]2021-10-11 10:45:21 Hail: INFO: wrote table with 58 rows in 23 partitions to /home/olavur/tmp/vJjuzFTF3JoT73C2bkHN9x\n",
      "    Total size: 653.15 KiB\n",
      "    * Rows: 1.92 KiB\n",
      "    * Globals: 651.24 KiB\n",
      "    * Smallest partition: 0 rows (21.00 B)\n",
      "    * Largest partition:  10 rows (263.00 B)\n"
     ]
    }
   ],
   "source": [
    "pruned_variant_table = hl.ld_prune(mt.GT, r2=0.2, bp_window_size=500000)\n",
    "mt = mt.filter_rows(hl.is_defined(pruned_variant_table[mt.row_key]))"
   ]
  },
  {
   "cell_type": "markdown",
   "metadata": {},
   "source": [
    "Make a checkpoint, caching all operations done on the matrix table."
   ]
  },
  {
   "cell_type": "code",
   "execution_count": 19,
   "metadata": {},
   "outputs": [
    {
     "name": "stderr",
     "output_type": "stream",
     "text": [
      "[Stage 16:=====================================>                 (25 + 12) / 37]2021-10-11 10:47:07 Hail: INFO: wrote matrix table with 47253 rows and 469 columns in 37 partitions to /home/olavur/tmp/ld_pruned.ht\n",
      "    Total size: 282.87 MiB\n",
      "    * Rows/entries: 282.82 MiB\n",
      "    * Columns: 52.33 KiB\n",
      "    * Globals: 11.00 B\n",
      "    * Smallest partition: 655 rows (3.40 MiB)\n",
      "    * Largest partition:  1516 rows (9.25 MiB)\n"
     ]
    }
   ],
   "source": [
    "if True:\n",
    "    mt = mt.checkpoint('/home/olavur/tmp/ld_pruned.ht', overwrite=True)\n",
    "else:\n",
    "    mt = hl.read_matrix_table('/home/olavur/tmp/ld_pruned.ht')"
   ]
  },
  {
   "cell_type": "code",
   "execution_count": 20,
   "metadata": {},
   "outputs": [
    {
     "name": "stdout",
     "output_type": "stream",
     "text": [
      "Number of variants: 47253\n",
      "Number of samples: 469\n"
     ]
    }
   ],
   "source": [
    "n_variants, n_samples = mt.count()\n",
    "print('Number of variants: ' + str(n_variants))\n",
    "print('Number of samples: ' + str(n_samples))"
   ]
  },
  {
   "cell_type": "markdown",
   "metadata": {},
   "source": [
    "This may be a lot of variants to run a PCA analysis on, but as mentioned previously, we do not want to remove too many rare variants as these can hold a lot of information about fine-scale population structure."
   ]
  },
  {
   "cell_type": "markdown",
   "metadata": {},
   "source": [
    "## Annotate birth place region\n",
    "\n",
    "Import data containing the birthplace ID of all FarGen participants. We will annotate the matrix table with these IDs.\n",
    "\n",
    "First we read a table containing the birthplace but with the 'RIN' participant ID. We will have to map this 'RIN' ID to an 'FN' ID."
   ]
  },
  {
   "cell_type": "code",
   "execution_count": 21,
   "metadata": {},
   "outputs": [
    {
     "name": "stderr",
     "output_type": "stream",
     "text": [
      "2021-10-11 10:47:27 Hail: INFO: Reading table without type imputation\n",
      "  Loading field 'ind' as type str (not specified)\n",
      "  Loading field 'region' as type str (not specified)\n"
     ]
    }
   ],
   "source": [
    "rin_birthplace_ht = hl.import_table(BASE_DIR + '/data/metadata/birthplace/rin_region.csv', delimiter=',')\n",
    "# Rename \"ind\" to \"rin\".\n",
    "# Convert the region variable to float.\n",
    "rin_birthplace_ht = rin_birthplace_ht.transmute(rin=rin_birthplace_ht.ind, birthplace=hl.float64(rin_birthplace_ht.region))\n",
    "\n",
    "rin_birthplace_ht = rin_birthplace_ht.key_by(rin_birthplace_ht.rin)"
   ]
  },
  {
   "cell_type": "markdown",
   "metadata": {},
   "source": [
    "Import table with 'RIN' IDs and corresponding 'FN' IDs."
   ]
  },
  {
   "cell_type": "code",
   "execution_count": 22,
   "metadata": {},
   "outputs": [
    {
     "name": "stderr",
     "output_type": "stream",
     "text": [
      "2021-10-11 10:47:28 Hail: WARN: Name collision: field 'sample' already in object dict. \n",
      "  This field must be referenced with __getitem__ syntax: obj['sample']\n",
      "2021-10-11 10:47:28 Hail: INFO: Reading table without type imputation\n",
      "  Loading field 'rin' as type str (not specified)\n",
      "  Loading field 'sample' as type str (not specified)\n"
     ]
    }
   ],
   "source": [
    "fargen_rin_ht = hl.import_table(BASE_DIR + '/data/metadata/birthplace/fargen_rin_samplename.csv', delimiter=',')\n",
    "fargen_rin_ht = fargen_rin_ht.key_by(fargen_rin_ht.rin)"
   ]
  },
  {
   "cell_type": "markdown",
   "metadata": {},
   "source": [
    "Make a table with 'RIN', 'FN' and birthplace."
   ]
  },
  {
   "cell_type": "code",
   "execution_count": 23,
   "metadata": {},
   "outputs": [],
   "source": [
    "# Annotate the table with the birthplace by the samplenames.\n",
    "samplename_birthplace_ht = rin_birthplace_ht.annotate(samplename=fargen_rin_ht[rin_birthplace_ht.rin].sample)\n",
    "samplename_birthplace_ht = samplename_birthplace_ht.key_by(samplename_birthplace_ht.samplename)"
   ]
  },
  {
   "cell_type": "markdown",
   "metadata": {},
   "source": [
    "Finally, we an annotate the matrix table with birthplace of samples."
   ]
  },
  {
   "cell_type": "code",
   "execution_count": 24,
   "metadata": {},
   "outputs": [],
   "source": [
    "mt = mt.annotate_cols(birthplace = samplename_birthplace_ht[mt.s].birthplace)"
   ]
  },
  {
   "cell_type": "markdown",
   "metadata": {},
   "source": [
    "Count the number of samples in each region. Note that `birthplace=6` means that we do not know the birthplace of the sample."
   ]
  },
  {
   "cell_type": "code",
   "execution_count": 25,
   "metadata": {},
   "outputs": [
    {
     "name": "stderr",
     "output_type": "stream",
     "text": [
      "2021-10-11 10:47:32 Hail: WARN: cols(): Resulting column table is sorted by 'col_key'.\n",
      "    To preserve matrix table column order, first unkey columns with 'key_cols_by()'\n",
      "2021-10-11 10:47:32 Hail: WARN: Name collision: field 'count' already in object dict. \n",
      "  This field must be referenced with __getitem__ syntax: obj['count']\n",
      "2021-10-11 10:47:33 Hail: INFO: Ordering unsorted dataset with network shuffle\n",
      "2021-10-11 10:47:33 Hail: INFO: Ordering unsorted dataset with network shuffle\n",
      "[Stage 21:>                                                         (0 + 1) / 1]2021-10-11 10:47:35 Hail: INFO: Coerced sorted dataset\n",
      "2021-10-11 10:47:35 Hail: INFO: Coerced dataset with out-of-order partitions.\n"
     ]
    },
    {
     "data": {
      "text/html": [
       "<div>\n",
       "<style scoped>\n",
       "    .dataframe tbody tr th:only-of-type {\n",
       "        vertical-align: middle;\n",
       "    }\n",
       "\n",
       "    .dataframe tbody tr th {\n",
       "        vertical-align: top;\n",
       "    }\n",
       "\n",
       "    .dataframe thead th {\n",
       "        text-align: right;\n",
       "    }\n",
       "</style>\n",
       "<table border=\"1\" class=\"dataframe\">\n",
       "  <thead>\n",
       "    <tr style=\"text-align: right;\">\n",
       "      <th></th>\n",
       "      <th>birthplace</th>\n",
       "      <th>count</th>\n",
       "    </tr>\n",
       "  </thead>\n",
       "  <tbody>\n",
       "    <tr>\n",
       "      <th>0</th>\n",
       "      <td>1.0</td>\n",
       "      <td>69</td>\n",
       "    </tr>\n",
       "    <tr>\n",
       "      <th>1</th>\n",
       "      <td>2.0</td>\n",
       "      <td>99</td>\n",
       "    </tr>\n",
       "    <tr>\n",
       "      <th>2</th>\n",
       "      <td>3.0</td>\n",
       "      <td>178</td>\n",
       "    </tr>\n",
       "    <tr>\n",
       "      <th>3</th>\n",
       "      <td>4.0</td>\n",
       "      <td>28</td>\n",
       "    </tr>\n",
       "    <tr>\n",
       "      <th>4</th>\n",
       "      <td>5.0</td>\n",
       "      <td>17</td>\n",
       "    </tr>\n",
       "    <tr>\n",
       "      <th>5</th>\n",
       "      <td>6.0</td>\n",
       "      <td>34</td>\n",
       "    </tr>\n",
       "    <tr>\n",
       "      <th>6</th>\n",
       "      <td>NaN</td>\n",
       "      <td>44</td>\n",
       "    </tr>\n",
       "  </tbody>\n",
       "</table>\n",
       "</div>"
      ],
      "text/plain": [
       "   birthplace  count\n",
       "0         1.0     69\n",
       "1         2.0     99\n",
       "2         3.0    178\n",
       "3         4.0     28\n",
       "4         5.0     17\n",
       "5         6.0     34\n",
       "6         NaN     44"
      ]
     },
     "execution_count": 25,
     "metadata": {},
     "output_type": "execute_result"
    }
   ],
   "source": [
    "cols_ht = mt.cols()\n",
    "result = (cols_ht.group_by(cols_ht.birthplace)\n",
    "    .aggregate(count = hl.agg.count()))\n",
    "result.to_pandas()"
   ]
  },
  {
   "cell_type": "markdown",
   "metadata": {},
   "source": [
    "## Filter related individuals\n",
    "\n",
    "Estimate the relatedness between the samples by the PC-Relate method, with a minimum alternate allele frequency of 0.001."
   ]
  },
  {
   "cell_type": "code",
   "execution_count": 26,
   "metadata": {},
   "outputs": [
    {
     "name": "stderr",
     "output_type": "stream",
     "text": [
      "[Stage 26:>                                                       (0 + 24) / 37]2021-10-11 10:47:52 Hail: INFO: hwe_normalized_pca: running PCA using 47253 variants.\n",
      "[Stage 27:>                                                       (0 + 24) / 37]2021-10-11 10:47:53 Hail: INFO: pca: running PCA with 2 components...\n",
      "[Stage 471:==================================================>    (11 + 1) / 12]2021-10-11 10:48:30 Hail: INFO: Wrote all 12 blocks of 47253 x 469 matrix with block size 4096.\n"
     ]
    }
   ],
   "source": [
    "pc_rel = hl.pc_relate(mt.GT, 0.001, k=2, statistics='kin')"
   ]
  },
  {
   "cell_type": "markdown",
   "metadata": {},
   "source": [
    "Plot all the relatedness coefficients in a histogram to get an overview."
   ]
  },
  {
   "cell_type": "code",
   "execution_count": 27,
   "metadata": {},
   "outputs": [
    {
     "name": "stderr",
     "output_type": "stream",
     "text": [
      "2021-10-11 10:48:48 Hail: INFO: wrote matrix with 3 rows and 47253 columns as 12 blocks of size 4096 to /home/olavur/tmp/pcrelate-write-read-Joao6xcmx8ZfHJcXqK5rw2.bm\n",
      "[Stage 473:====>                                                  (1 + 11) / 12]2021-10-11 10:48:49 Hail: INFO: wrote matrix with 47253 rows and 469 columns as 12 blocks of size 4096 to /home/olavur/tmp/pcrelate-write-read-pK8SOisS31U2XK8JVFFFHj.bm\n",
      "[Stage 474:>                                                        (0 + 1) / 1]2021-10-11 10:49:02 Hail: INFO: wrote matrix with 469 rows and 469 columns as 1 block of size 4096 to /home/olavur/tmp/pcrelate-write-read-M59wTgNCaryrx4AOnXBzXq.bm\n",
      "[Stage 475:>                                                        (0 + 1) / 1]2021-10-11 10:49:18 Hail: INFO: wrote matrix with 469 rows and 469 columns as 1 block of size 4096 to /home/olavur/tmp/pcrelate-write-read-2RyCPbkcH3EUjkBQQ2K537.bm\n",
      "2021-10-11 10:49:18 Hail: INFO: wrote matrix with 469 rows and 469 columns as 1 block of size 4096 to /home/olavur/tmp/pcrelate-write-read-fFsThfVdKT2Gp3czTvt7rs.bm\n",
      "2021-10-11 10:49:18 Hail: INFO: Ordering unsorted dataset with network shuffle\n",
      "2021-10-11 10:49:19 Hail: INFO: wrote matrix with 3 rows and 47253 columns as 12 blocks of size 4096 to /home/olavur/tmp/pcrelate-write-read-Ndki24bK8K7tvYv8JwGNB0.bm\n",
      "2021-10-11 10:49:19 Hail: INFO: wrote matrix with 47253 rows and 469 columns as 12 blocks of size 4096 to /home/olavur/tmp/pcrelate-write-read-gpRGFROnVyCIMhSgaLdmjp.bm\n",
      "[Stage 482:>                                                        (0 + 1) / 1]2021-10-11 10:49:34 Hail: INFO: wrote matrix with 469 rows and 469 columns as 1 block of size 4096 to /home/olavur/tmp/pcrelate-write-read-5pL8HuHZHWtLNCU0bqrlcw.bm\n",
      "[Stage 483:>                                                        (0 + 1) / 1]2021-10-11 10:49:47 Hail: INFO: wrote matrix with 469 rows and 469 columns as 1 block of size 4096 to /home/olavur/tmp/pcrelate-write-read-H04b7VtRjxrVbn79NaVgyF.bm\n",
      "2021-10-11 10:49:47 Hail: INFO: wrote matrix with 469 rows and 469 columns as 1 block of size 4096 to /home/olavur/tmp/pcrelate-write-read-q3tvyYbwRBfCvzNYBfd7Md.bm\n",
      "2021-10-11 10:49:47 Hail: INFO: Ordering unsorted dataset with network shuffle\n"
     ]
    },
    {
     "data": {
      "text/html": [
       "\n",
       "\n",
       "\n",
       "\n",
       "\n",
       "\n",
       "  <div class=\"bk-root\" id=\"468145ed-e71c-4ac6-b179-207728f23aea\" data-root-id=\"1308\"></div>\n"
      ]
     },
     "metadata": {},
     "output_type": "display_data"
    },
    {
     "data": {
      "application/javascript": [
       "(function(root) {\n",
       "  function embed_document(root) {\n",
       "    \n",
       "  var docs_json = {\"dd88f34a-f235-4c34-bea8-8000e13dc708\":{\"roots\":{\"references\":[{\"attributes\":{\"background_fill_color\":{\"value\":\"#EEEEEE\"},\"below\":[{\"id\":\"1319\",\"type\":\"LinearAxis\"}],\"center\":[{\"id\":\"1323\",\"type\":\"Grid\"},{\"id\":\"1328\",\"type\":\"Grid\"}],\"left\":[{\"id\":\"1324\",\"type\":\"LinearAxis\"}],\"renderers\":[{\"id\":\"1345\",\"type\":\"GlyphRenderer\"}],\"title\":{\"id\":\"1309\",\"type\":\"Title\"},\"toolbar\":{\"id\":\"1335\",\"type\":\"Toolbar\"},\"x_range\":{\"id\":\"1311\",\"type\":\"Range1d\"},\"x_scale\":{\"id\":\"1315\",\"type\":\"LinearScale\"},\"y_range\":{\"id\":\"1313\",\"type\":\"DataRange1d\"},\"y_scale\":{\"id\":\"1317\",\"type\":\"LinearScale\"}},\"id\":\"1308\",\"subtype\":\"Figure\",\"type\":\"Plot\"},{\"attributes\":{},\"id\":\"1317\",\"type\":\"LinearScale\"},{\"attributes\":{},\"id\":\"1315\",\"type\":\"LinearScale\"},{\"attributes\":{\"data_source\":{\"id\":\"1342\",\"type\":\"ColumnDataSource\"},\"glyph\":{\"id\":\"1343\",\"type\":\"Quad\"},\"hover_glyph\":null,\"muted_glyph\":null,\"nonselection_glyph\":{\"id\":\"1344\",\"type\":\"Quad\"},\"selection_glyph\":null,\"view\":{\"id\":\"1346\",\"type\":\"CDSView\"}},\"id\":\"1345\",\"type\":\"GlyphRenderer\"},{\"attributes\":{\"dimension\":1,\"ticker\":{\"id\":\"1325\",\"type\":\"BasicTicker\"}},\"id\":\"1328\",\"type\":\"Grid\"},{\"attributes\":{\"callback\":null},\"id\":\"1313\",\"type\":\"DataRange1d\"},{\"attributes\":{},\"id\":\"1325\",\"type\":\"BasicTicker\"},{\"attributes\":{},\"id\":\"1378\",\"type\":\"UnionRenderers\"},{\"attributes\":{\"formatter\":{\"id\":\"1372\",\"type\":\"BasicTickFormatter\"},\"ticker\":{\"id\":\"1320\",\"type\":\"BasicTicker\"}},\"id\":\"1319\",\"type\":\"LinearAxis\"},{\"attributes\":{\"overlay\":{\"id\":\"1376\",\"type\":\"BoxAnnotation\"}},\"id\":\"1331\",\"type\":\"BoxZoomTool\"},{\"attributes\":{},\"id\":\"1372\",\"type\":\"BasicTickFormatter\"},{\"attributes\":{\"source\":{\"id\":\"1342\",\"type\":\"ColumnDataSource\"}},\"id\":\"1346\",\"type\":\"CDSView\"},{\"attributes\":{\"bottom_units\":\"screen\",\"fill_alpha\":{\"value\":0.5},\"fill_color\":{\"value\":\"lightgrey\"},\"left_units\":\"screen\",\"level\":\"overlay\",\"line_alpha\":{\"value\":1.0},\"line_color\":{\"value\":\"black\"},\"line_dash\":[4,4],\"line_width\":{\"value\":2},\"render_mode\":\"css\",\"right_units\":\"screen\",\"top_units\":\"screen\"},\"id\":\"1376\",\"type\":\"BoxAnnotation\"},{\"attributes\":{\"text\":\"Histogram of kinship coefficient\"},\"id\":\"1309\",\"type\":\"Title\"},{\"attributes\":{\"active_drag\":\"auto\",\"active_inspect\":\"auto\",\"active_multi\":null,\"active_scroll\":\"auto\",\"active_tap\":\"auto\",\"tools\":[{\"id\":\"1329\",\"type\":\"PanTool\"},{\"id\":\"1330\",\"type\":\"WheelZoomTool\"},{\"id\":\"1331\",\"type\":\"BoxZoomTool\"},{\"id\":\"1332\",\"type\":\"SaveTool\"},{\"id\":\"1333\",\"type\":\"ResetTool\"},{\"id\":\"1334\",\"type\":\"HelpTool\"}]},\"id\":\"1335\",\"type\":\"Toolbar\"},{\"attributes\":{\"axis_label\":\"Frequency\",\"formatter\":{\"id\":\"1374\",\"type\":\"BasicTickFormatter\"},\"ticker\":{\"id\":\"1325\",\"type\":\"BasicTicker\"}},\"id\":\"1324\",\"type\":\"LinearAxis\"},{\"attributes\":{},\"id\":\"1333\",\"type\":\"ResetTool\"},{\"attributes\":{},\"id\":\"1332\",\"type\":\"SaveTool\"},{\"attributes\":{\"ticker\":{\"id\":\"1320\",\"type\":\"BasicTicker\"}},\"id\":\"1323\",\"type\":\"Grid\"},{\"attributes\":{\"bottom\":{\"value\":0},\"fill_color\":{\"value\":\"#1f77b4\"},\"left\":{\"field\":\"left\"},\"right\":{\"field\":\"right\"},\"top\":{\"field\":\"top\"}},\"id\":\"1343\",\"type\":\"Quad\"},{\"attributes\":{},\"id\":\"1320\",\"type\":\"BasicTicker\"},{\"attributes\":{},\"id\":\"1330\",\"type\":\"WheelZoomTool\"},{\"attributes\":{\"callback\":null,\"data\":{\"left\":[-0.15738119241030338,-0.14460950344351556,-0.13183781447672777,-0.11906612550993995,-0.10629443654315213,-0.0935227475763643,-0.0807510586095765,-0.0679793696427887,-0.055207680676000875,-0.042435991709213056,-0.029664302742425236,-0.016892613775637444,-0.004120924808849624,0.008650764157938196,0.021422453124725988,0.03419414209151381,0.04696583105830163,0.05973752002508945,0.07250920899187727,0.08528089795866506,0.0980525869254529,0.11082427589224067,0.12359596485902849,0.1363676538258163,0.14913934279260413,0.16191103175939195,0.17468272072617977,0.1874544096929676,0.20022609865975535,0.21299778762654317,0.225769476593331,0.2385411655601188,0.25131285452690666,0.2640845434936945,0.2768562324604823,0.2896279214272701,0.30239961039405794,0.31517129936084565,0.32794298832763347,0.3407146772944213,0.3534863662612092,0.3662580552279969,0.37902974419478475,0.39180143316157257,0.4045731221283604,0.4173448110951482,0.430116500061936,0.44288818902872384,0.45565987799551166,0.4684315669622995],\"right\":[-0.14460950344351556,-0.13183781447672777,-0.11906612550993995,-0.10629443654315213,-0.0935227475763643,-0.0807510586095765,-0.0679793696427887,-0.055207680676000875,-0.042435991709213056,-0.029664302742425236,-0.016892613775637444,-0.004120924808849624,0.008650764157938196,0.021422453124725988,0.03419414209151381,0.04696583105830163,0.05973752002508945,0.07250920899187727,0.08528089795866506,0.0980525869254529,0.11082427589224067,0.12359596485902849,0.1363676538258163,0.14913934279260413,0.16191103175939195,0.17468272072617977,0.1874544096929676,0.20022609865975535,0.21299778762654317,0.225769476593331,0.2385411655601188,0.25131285452690666,0.2640845434936945,0.2768562324604823,0.2896279214272701,0.30239961039405794,0.31517129936084565,0.32794298832763347,0.3407146772944213,0.3534863662612092,0.3662580552279969,0.37902974419478475,0.39180143316157257,0.4045731221283604,0.4173448110951482,0.430116500061936,0.44288818902872384,0.45565987799551166,0.4684315669622995,0.4812032559290873],\"top\":[1,0,1,0,0,2,0,0,7,37,254,32139,73619,3236,237,59,31,24,9,5,6,4,7,4,0,0,0,7,3,5,26,18,2,0,1,0,0,0,0,0,0,0,0,0,1,0,0,0,0,1]},\"selected\":{\"id\":\"1377\",\"type\":\"Selection\"},\"selection_policy\":{\"id\":\"1378\",\"type\":\"UnionRenderers\"}},\"id\":\"1342\",\"type\":\"ColumnDataSource\"},{\"attributes\":{\"callback\":null,\"end\":0.5131324783460568,\"start\":-0.1893104148272729},\"id\":\"1311\",\"type\":\"Range1d\"},{\"attributes\":{},\"id\":\"1374\",\"type\":\"BasicTickFormatter\"},{\"attributes\":{},\"id\":\"1334\",\"type\":\"HelpTool\"},{\"attributes\":{},\"id\":\"1377\",\"type\":\"Selection\"},{\"attributes\":{},\"id\":\"1329\",\"type\":\"PanTool\"},{\"attributes\":{\"bottom\":{\"value\":0},\"fill_alpha\":{\"value\":0.1},\"fill_color\":{\"value\":\"#1f77b4\"},\"left\":{\"field\":\"left\"},\"line_alpha\":{\"value\":0.1},\"line_color\":{\"value\":\"#1f77b4\"},\"right\":{\"field\":\"right\"},\"top\":{\"field\":\"top\"}},\"id\":\"1344\",\"type\":\"Quad\"}],\"root_ids\":[\"1308\"]},\"title\":\"Bokeh Application\",\"version\":\"1.2.0\"}};\n",
       "  var render_items = [{\"docid\":\"dd88f34a-f235-4c34-bea8-8000e13dc708\",\"roots\":{\"1308\":\"468145ed-e71c-4ac6-b179-207728f23aea\"}}];\n",
       "  root.Bokeh.embed.embed_items_notebook(docs_json, render_items);\n",
       "\n",
       "  }\n",
       "  if (root.Bokeh !== undefined) {\n",
       "    embed_document(root);\n",
       "  } else {\n",
       "    var attempts = 0;\n",
       "    var timer = setInterval(function(root) {\n",
       "      if (root.Bokeh !== undefined) {\n",
       "        embed_document(root);\n",
       "        clearInterval(timer);\n",
       "      }\n",
       "      attempts++;\n",
       "      if (attempts > 100) {\n",
       "        console.log(\"Bokeh: ERROR: Unable to run BokehJS code because BokehJS library is missing\");\n",
       "        clearInterval(timer);\n",
       "      }\n",
       "    }, 10, root)\n",
       "  }\n",
       "})(window);"
      ],
      "application/vnd.bokehjs_exec.v0+json": ""
     },
     "metadata": {
      "application/vnd.bokehjs_exec.v0+json": {
       "id": "1308"
      }
     },
     "output_type": "display_data"
    }
   ],
   "source": [
    "p = hl.plot.histogram(pc_rel.kin, title='Histogram of kinship coefficient')\n",
    "show(p)"
   ]
  },
  {
   "cell_type": "code",
   "execution_count": 28,
   "metadata": {},
   "outputs": [],
   "source": [
    "pairs = pc_rel.filter(pc_rel['kin'] > 2**(-4))"
   ]
  },
  {
   "cell_type": "markdown",
   "metadata": {},
   "source": [
    "Then we find the maximal independent set, consistent of the samples to remove."
   ]
  },
  {
   "cell_type": "code",
   "execution_count": 29,
   "metadata": {},
   "outputs": [
    {
     "name": "stderr",
     "output_type": "stream",
     "text": [
      "2021-10-11 10:49:56 Hail: INFO: wrote matrix with 3 rows and 47253 columns as 12 blocks of size 4096 to /home/olavur/tmp/pcrelate-write-read-EpVp4eBJVXcezOAlWQXJnD.bm\n",
      "2021-10-11 10:49:56 Hail: INFO: wrote matrix with 47253 rows and 469 columns as 12 blocks of size 4096 to /home/olavur/tmp/pcrelate-write-read-xJhb3aRMoeEx3YZXbQGJ8N.bm\n",
      "[Stage 490:>                                                        (0 + 1) / 1]2021-10-11 10:50:12 Hail: INFO: wrote matrix with 469 rows and 469 columns as 1 block of size 4096 to /home/olavur/tmp/pcrelate-write-read-Az6WCIuamTrbFEoygjFGfQ.bm\n",
      "[Stage 491:>                                                        (0 + 1) / 1]2021-10-11 10:50:27 Hail: INFO: wrote matrix with 469 rows and 469 columns as 1 block of size 4096 to /home/olavur/tmp/pcrelate-write-read-RYb5qVT8pgNwY2Oh1yXfRP.bm\n",
      "2021-10-11 10:50:27 Hail: INFO: wrote matrix with 469 rows and 469 columns as 1 block of size 4096 to /home/olavur/tmp/pcrelate-write-read-KmtrKLZhMuKvsnLXD97yGX.bm\n",
      "2021-10-11 10:50:27 Hail: INFO: Ordering unsorted dataset with network shuffle\n",
      "2021-10-11 10:50:28 Hail: INFO: wrote table with 115 rows in 1 partition to /home/olavur/tmp/ygkgYDBuU1RwqYvlPJJ1FZ\n",
      "    Total size: 1.15 KiB\n",
      "    * Rows: 1.14 KiB\n",
      "    * Globals: 11.00 B\n",
      "    * Smallest partition: 115 rows (1.14 KiB)\n",
      "    * Largest partition:  115 rows (1.14 KiB)\n"
     ]
    }
   ],
   "source": [
    "related_samples_to_remove = hl.maximal_independent_set(pairs.i, pairs.j, keep=False)"
   ]
  },
  {
   "cell_type": "markdown",
   "metadata": {},
   "source": [
    "Now we filter these individuals from the matrix table."
   ]
  },
  {
   "cell_type": "code",
   "execution_count": 30,
   "metadata": {},
   "outputs": [],
   "source": [
    "mt = mt.filter_cols(hl.is_defined(related_samples_to_remove[mt.col_key]), keep=False)"
   ]
  },
  {
   "cell_type": "markdown",
   "metadata": {},
   "source": [
    "Make a checkpoint, caching all operations done on the matrix table."
   ]
  },
  {
   "cell_type": "code",
   "execution_count": 32,
   "metadata": {},
   "outputs": [
    {
     "name": "stderr",
     "output_type": "stream",
     "text": [
      "2021-10-11 10:50:52 Hail: INFO: Ordering unsorted dataset with network shuffle\n",
      "2021-10-11 10:50:52 Hail: INFO: Ordering unsorted dataset with network shuffle\n",
      "2021-10-11 10:50:53 Hail: INFO: Coerced sorted dataset\n",
      "2021-10-11 10:50:53 Hail: INFO: Ordering unsorted dataset with network shuffle\n",
      "[Stage 515:===================================>                  (24 + 13) / 37]2021-10-11 10:50:57 Hail: INFO: wrote matrix table with 47253 rows and 382 columns in 37 partitions to /home/olavur/tmp/rel_pruned.ht\n",
      "    Total size: 234.44 MiB\n",
      "    * Rows/entries: 234.40 MiB\n",
      "    * Columns: 43.62 KiB\n",
      "    * Globals: 11.00 B\n",
      "    * Smallest partition: 655 rows (2.82 MiB)\n",
      "    * Largest partition:  1516 rows (7.67 MiB)\n"
     ]
    }
   ],
   "source": [
    "if True:\n",
    "    mt = mt.checkpoint('/home/olavur/tmp/rel_pruned.ht', overwrite=True)\n",
    "else:\n",
    "    mt = hl.read_matrix_table('/home/olavur/tmp/rel_pruned.ht')"
   ]
  },
  {
   "cell_type": "code",
   "execution_count": 33,
   "metadata": {},
   "outputs": [
    {
     "name": "stdout",
     "output_type": "stream",
     "text": [
      "Number of variants: 47253\n",
      "Number of samples: 382\n"
     ]
    }
   ],
   "source": [
    "n_variants, n_samples = mt.count()\n",
    "print('Number of variants: ' + str(n_variants))\n",
    "print('Number of samples: ' + str(n_samples))"
   ]
  },
  {
   "cell_type": "markdown",
   "metadata": {},
   "source": [
    "## Compute PCA"
   ]
  },
  {
   "cell_type": "code",
   "execution_count": 34,
   "metadata": {},
   "outputs": [
    {
     "name": "stderr",
     "output_type": "stream",
     "text": [
      "2021-10-11 10:51:05 Hail: INFO: hwe_normalized_pca: running PCA using 47253 variants.\n",
      "2021-10-11 10:51:06 Hail: INFO: pca: running PCA with 4 components...\n",
      "[Stage 660:==========================>                           (18 + 19) / 37]"
     ]
    }
   ],
   "source": [
    "eigenvalues, scores, loadings = hl.hwe_normalized_pca(mt.GT, k=4)"
   ]
  },
  {
   "cell_type": "code",
   "execution_count": 35,
   "metadata": {},
   "outputs": [],
   "source": [
    "mt = mt.annotate_cols(scores = scores[mt.s].scores)"
   ]
  },
  {
   "cell_type": "code",
   "execution_count": 36,
   "metadata": {},
   "outputs": [
    {
     "data": {
      "text/html": [
       "\n",
       "\n",
       "\n",
       "\n",
       "\n",
       "\n",
       "  <div class=\"bk-root\" id=\"872e001d-3e3b-4c46-9613-b50f0b24f43e\" data-root-id=\"1427\"></div>\n"
      ]
     },
     "metadata": {},
     "output_type": "display_data"
    },
    {
     "data": {
      "application/javascript": [
       "(function(root) {\n",
       "  function embed_document(root) {\n",
       "    \n",
       "  var docs_json = {\"87b746ae-3dca-4c60-b2af-90c161d9d8c5\":{\"roots\":{\"references\":[{\"attributes\":{\"below\":[{\"id\":\"1438\",\"type\":\"LinearAxis\"}],\"center\":[{\"id\":\"1442\",\"type\":\"Grid\"},{\"id\":\"1447\",\"type\":\"Grid\"}],\"left\":[{\"id\":\"1443\",\"type\":\"LinearAxis\"},{\"id\":\"1514\",\"type\":\"Legend\"},{\"id\":\"1515\",\"type\":\"ColorBar\"}],\"plot_height\":600,\"plot_width\":800,\"renderers\":[{\"id\":\"1470\",\"type\":\"GlyphRenderer\"},{\"id\":\"1476\",\"type\":\"GlyphRenderer\"},{\"id\":\"1482\",\"type\":\"GlyphRenderer\"},{\"id\":\"1488\",\"type\":\"GlyphRenderer\"},{\"id\":\"1494\",\"type\":\"GlyphRenderer\"},{\"id\":\"1500\",\"type\":\"GlyphRenderer\"},{\"id\":\"1506\",\"type\":\"GlyphRenderer\"}],\"title\":{\"id\":\"1428\",\"type\":\"Title\"},\"toolbar\":{\"id\":\"1454\",\"type\":\"Toolbar\"},\"x_range\":{\"id\":\"1430\",\"type\":\"DataRange1d\"},\"x_scale\":{\"id\":\"1434\",\"type\":\"LinearScale\"},\"y_range\":{\"id\":\"1432\",\"type\":\"DataRange1d\"},\"y_scale\":{\"id\":\"1436\",\"type\":\"LinearScale\"}},\"id\":\"1427\",\"subtype\":\"Figure\",\"type\":\"Plot\"},{\"attributes\":{\"filters\":[{\"id\":\"1495\",\"type\":\"GroupFilter\"}],\"source\":{\"id\":\"1463\",\"type\":\"ColumnDataSource\"}},\"id\":\"1496\",\"type\":\"CDSView\"},{\"attributes\":{\"callback\":null,\"data\":{\"index\":[0,1,2,3,4,5,6,7,8,9,10,11,12,13,14,15,16,17,18,19,20,21,22,23,24,25,26,27,28,29,30,31,32,33,34,35,36,37,38,39,40,41,42,43,44,45,46,47,48,49,50,51,52,53,54,55,56,57,58,59,60,61,62,63,64,65,66,67,68,69,70,71,72,73,74,75,76,77,78,79,80,81,82,83,84,85,86,87,88,89,90,91,92,93,94,95,96,97,98,99,100,101,102,103,104,105,106,107,108,109,110,111,112,113,114,115,116,117,118,119,120,121,122,123,124,125,126,127,128,129,130,131,132,133,134,135,136,137,138,139,140,141,142,143,144,145,146,147,148,149,150,151,152,153,154,155,156,157,158,159,160,161,162,163,164,165,166,167,168,169,170,171,172,173,174,175,176,177,178,179,180,181,182,183,184,185,186,187,188,189,190,191,192,193,194,195,196,197,198,199,200,201,202,203,204,205,206,207,208,209,210,211,212,213,214,215,216,217,218,219,220,221,222,223,224,225,226,227,228,229,230,231,232,233,234,235,236,237,238,239,240,241,242,243,244,245,246,247,248,249,250,251,252,253,254,255,256,257,258,259,260,261,262,263,264,265,266,267,268,269,270,271,272,273,274,275,276,277,278,279,280,281,282,283,284,285,286,287,288,289,290,291,292,293,294,295,296,297,298,299,300,301,302,303,304,305,306,307,308,309,310,311,312,313,314,315,316,317,318,319,320,321,322,323,324,325,326,327,328,329,330,331,332,333,334,335,336,337,338,339,340,341,342,343,344,345,346,347,348,349,350,351,352,353,354,355,356,357,358,359,360,361,362,363,364,365,366,367,368,369,370,371,372],\"label\":[\"NA\",\"3.00000e+00\",\"2.00000e+00\",\"1.00000e+00\",\"2.00000e+00\",\"2.00000e+00\",\"2.00000e+00\",\"NA\",\"2.00000e+00\",\"1.00000e+00\",\"2.00000e+00\",\"4.00000e+00\",\"2.00000e+00\",\"2.00000e+00\",\"2.00000e+00\",\"1.00000e+00\",\"1.00000e+00\",\"3.00000e+00\",\"NA\",\"2.00000e+00\",\"1.00000e+00\",\"3.00000e+00\",\"3.00000e+00\",\"6.00000e+00\",\"4.00000e+00\",\"3.00000e+00\",\"3.00000e+00\",\"1.00000e+00\",\"3.00000e+00\",\"1.00000e+00\",\"2.00000e+00\",\"3.00000e+00\",\"3.00000e+00\",\"1.00000e+00\",\"3.00000e+00\",\"3.00000e+00\",\"3.00000e+00\",\"3.00000e+00\",\"2.00000e+00\",\"3.00000e+00\",\"3.00000e+00\",\"2.00000e+00\",\"2.00000e+00\",\"1.00000e+00\",\"3.00000e+00\",\"6.00000e+00\",\"4.00000e+00\",\"3.00000e+00\",\"2.00000e+00\",\"2.00000e+00\",\"1.00000e+00\",\"4.00000e+00\",\"2.00000e+00\",\"NA\",\"2.00000e+00\",\"1.00000e+00\",\"1.00000e+00\",\"1.00000e+00\",\"4.00000e+00\",\"1.00000e+00\",\"2.00000e+00\",\"3.00000e+00\",\"4.00000e+00\",\"4.00000e+00\",\"2.00000e+00\",\"2.00000e+00\",\"2.00000e+00\",\"3.00000e+00\",\"1.00000e+00\",\"1.00000e+00\",\"1.00000e+00\",\"1.00000e+00\",\"6.00000e+00\",\"2.00000e+00\",\"3.00000e+00\",\"2.00000e+00\",\"3.00000e+00\",\"3.00000e+00\",\"2.00000e+00\",\"1.00000e+00\",\"3.00000e+00\",\"3.00000e+00\",\"2.00000e+00\",\"2.00000e+00\",\"3.00000e+00\",\"3.00000e+00\",\"3.00000e+00\",\"3.00000e+00\",\"3.00000e+00\",\"2.00000e+00\",\"3.00000e+00\",\"3.00000e+00\",\"3.00000e+00\",\"3.00000e+00\",\"3.00000e+00\",\"1.00000e+00\",\"3.00000e+00\",\"3.00000e+00\",\"3.00000e+00\",\"3.00000e+00\",\"3.00000e+00\",\"NA\",\"1.00000e+00\",\"3.00000e+00\",\"NA\",\"3.00000e+00\",\"1.00000e+00\",\"1.00000e+00\",\"1.00000e+00\",\"1.00000e+00\",\"3.00000e+00\",\"3.00000e+00\",\"3.00000e+00\",\"2.00000e+00\",\"NA\",\"NA\",\"2.00000e+00\",\"3.00000e+00\",\"3.00000e+00\",\"3.00000e+00\",\"2.00000e+00\",\"2.00000e+00\",\"2.00000e+00\",\"1.00000e+00\",\"1.00000e+00\",\"3.00000e+00\",\"2.00000e+00\",\"2.00000e+00\",\"1.00000e+00\",\"1.00000e+00\",\"1.00000e+00\",\"2.00000e+00\",\"3.00000e+00\",\"6.00000e+00\",\"4.00000e+00\",\"3.00000e+00\",\"NA\",\"3.00000e+00\",\"3.00000e+00\",\"1.00000e+00\",\"2.00000e+00\",\"3.00000e+00\",\"1.00000e+00\",\"2.00000e+00\",\"3.00000e+00\",\"3.00000e+00\",\"4.00000e+00\",\"3.00000e+00\",\"1.00000e+00\",\"NA\",\"3.00000e+00\",\"2.00000e+00\",\"3.00000e+00\",\"NA\",\"3.00000e+00\",\"3.00000e+00\",\"1.00000e+00\",\"3.00000e+00\",\"3.00000e+00\",\"6.00000e+00\",\"NA\",\"2.00000e+00\",\"3.00000e+00\",\"5.00000e+00\",\"3.00000e+00\",\"2.00000e+00\",\"3.00000e+00\",\"4.00000e+00\",\"6.00000e+00\",\"3.00000e+00\",\"3.00000e+00\",\"1.00000e+00\",\"2.00000e+00\",\"1.00000e+00\",\"2.00000e+00\",\"1.00000e+00\",\"2.00000e+00\",\"3.00000e+00\",\"2.00000e+00\",\"2.00000e+00\",\"2.00000e+00\",\"6.00000e+00\",\"3.00000e+00\",\"3.00000e+00\",\"NA\",\"4.00000e+00\",\"3.00000e+00\",\"3.00000e+00\",\"2.00000e+00\",\"3.00000e+00\",\"4.00000e+00\",\"5.00000e+00\",\"3.00000e+00\",\"2.00000e+00\",\"4.00000e+00\",\"1.00000e+00\",\"6.00000e+00\",\"2.00000e+00\",\"3.00000e+00\",\"3.00000e+00\",\"2.00000e+00\",\"1.00000e+00\",\"3.00000e+00\",\"4.00000e+00\",\"6.00000e+00\",\"5.00000e+00\",\"4.00000e+00\",\"3.00000e+00\",\"3.00000e+00\",\"3.00000e+00\",\"3.00000e+00\",\"NA\",\"4.00000e+00\",\"NA\",\"1.00000e+00\",\"NA\",\"1.00000e+00\",\"NA\",\"3.00000e+00\",\"3.00000e+00\",\"5.00000e+00\",\"6.00000e+00\",\"5.00000e+00\",\"5.00000e+00\",\"3.00000e+00\",\"6.00000e+00\",\"3.00000e+00\",\"3.00000e+00\",\"3.00000e+00\",\"4.00000e+00\",\"3.00000e+00\",\"3.00000e+00\",\"3.00000e+00\",\"3.00000e+00\",\"2.00000e+00\",\"2.00000e+00\",\"2.00000e+00\",\"2.00000e+00\",\"2.00000e+00\",\"1.00000e+00\",\"3.00000e+00\",\"3.00000e+00\",\"3.00000e+00\",\"1.00000e+00\",\"3.00000e+00\",\"6.00000e+00\",\"NA\",\"3.00000e+00\",\"4.00000e+00\",\"3.00000e+00\",\"2.00000e+00\",\"NA\",\"3.00000e+00\",\"1.00000e+00\",\"2.00000e+00\",\"4.00000e+00\",\"2.00000e+00\",\"2.00000e+00\",\"3.00000e+00\",\"3.00000e+00\",\"3.00000e+00\",\"4.00000e+00\",\"3.00000e+00\",\"3.00000e+00\",\"3.00000e+00\",\"4.00000e+00\",\"2.00000e+00\",\"3.00000e+00\",\"2.00000e+00\",\"NA\",\"2.00000e+00\",\"2.00000e+00\",\"3.00000e+00\",\"6.00000e+00\",\"6.00000e+00\",\"3.00000e+00\",\"3.00000e+00\",\"5.00000e+00\",\"3.00000e+00\",\"6.00000e+00\",\"1.00000e+00\",\"NA\",\"3.00000e+00\",\"3.00000e+00\",\"3.00000e+00\",\"2.00000e+00\",\"NA\",\"3.00000e+00\",\"3.00000e+00\",\"2.00000e+00\",\"3.00000e+00\",\"1.00000e+00\",\"NA\",\"2.00000e+00\",\"3.00000e+00\",\"3.00000e+00\",\"1.00000e+00\",\"1.00000e+00\",\"3.00000e+00\",\"6.00000e+00\",\"6.00000e+00\",\"6.00000e+00\",\"3.00000e+00\",\"NA\",\"3.00000e+00\",\"3.00000e+00\",\"6.00000e+00\",\"3.00000e+00\",\"3.00000e+00\",\"6.00000e+00\",\"5.00000e+00\",\"3.00000e+00\",\"3.00000e+00\",\"3.00000e+00\",\"3.00000e+00\",\"5.00000e+00\",\"3.00000e+00\",\"3.00000e+00\",\"6.00000e+00\",\"2.00000e+00\",\"5.00000e+00\",\"5.00000e+00\",\"3.00000e+00\",\"6.00000e+00\",\"3.00000e+00\",\"3.00000e+00\",\"3.00000e+00\",\"1.00000e+00\",\"3.00000e+00\",\"3.00000e+00\",\"2.00000e+00\",\"6.00000e+00\",\"5.00000e+00\",\"3.00000e+00\",\"3.00000e+00\",\"4.00000e+00\",\"3.00000e+00\",\"6.00000e+00\",\"6.00000e+00\",\"6.00000e+00\",\"6.00000e+00\",\"3.00000e+00\",\"3.00000e+00\",\"3.00000e+00\",\"3.00000e+00\",\"1.00000e+00\",\"2.00000e+00\",\"NA\",\"4.00000e+00\",\"3.00000e+00\",\"3.00000e+00\",\"6.00000e+00\",\"2.00000e+00\",\"2.00000e+00\",\"3.00000e+00\",\"1.00000e+00\",\"3.00000e+00\",\"2.00000e+00\",\"6.00000e+00\",\"2.00000e+00\",\"2.00000e+00\",\"1.00000e+00\",\"NA\",\"6.00000e+00\",\"1.00000e+00\",\"NA\",\"NA\",\"3.00000e+00\",\"5.00000e+00\",\"5.00000e+00\",\"3.00000e+00\",\"5.00000e+00\",\"5.00000e+00\"],\"x\":{\"__ndarray__\":\"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\",\"dtype\":\"float64\",\"shape\":[373]},\"y\":{\"__ndarray__\":\"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\",\"dtype\":\"float64\",\"shape\":[373]}},\"selected\":{\"id\":\"1556\",\"type\":\"Selection\"},\"selection_policy\":{\"id\":\"1557\",\"type\":\"UnionRenderers\"}},\"id\":\"1463\",\"type\":\"ColumnDataSource\"},{\"attributes\":{\"fill_color\":{\"field\":\"label\",\"transform\":{\"id\":\"1464\",\"type\":\"CategoricalColorMapper\"}},\"line_color\":{\"field\":\"label\",\"transform\":{\"id\":\"1464\",\"type\":\"CategoricalColorMapper\"}},\"x\":{\"field\":\"x\"},\"y\":{\"field\":\"y\"}},\"id\":\"1480\",\"type\":\"Circle\"},{\"attributes\":{\"axis_label\":\"PC2\",\"formatter\":{\"id\":\"1551\",\"type\":\"BasicTickFormatter\"},\"ticker\":{\"id\":\"1444\",\"type\":\"BasicTicker\"}},\"id\":\"1443\",\"type\":\"LinearAxis\"},{\"attributes\":{\"column_name\":\"label\",\"group\":\"3.00000e+00\"},\"id\":\"1477\",\"type\":\"GroupFilter\"},{\"attributes\":{},\"id\":\"1551\",\"type\":\"BasicTickFormatter\"},{\"attributes\":{},\"id\":\"1553\",\"type\":\"BasicTickFormatter\"},{\"attributes\":{\"fill_alpha\":{\"value\":0.1},\"fill_color\":{\"value\":\"#1f77b4\"},\"line_alpha\":{\"value\":0.1},\"line_color\":{\"value\":\"#1f77b4\"},\"x\":{\"field\":\"x\"},\"y\":{\"field\":\"y\"}},\"id\":\"1481\",\"type\":\"Circle\"},{\"attributes\":{\"fill_color\":{\"field\":\"label\",\"transform\":{\"id\":\"1464\",\"type\":\"CategoricalColorMapper\"}},\"line_color\":{\"field\":\"label\",\"transform\":{\"id\":\"1464\",\"type\":\"CategoricalColorMapper\"}},\"x\":{\"field\":\"x\"},\"y\":{\"field\":\"y\"}},\"id\":\"1486\",\"type\":\"Circle\"},{\"attributes\":{},\"id\":\"1554\",\"type\":\"BasicTicker\"},{\"attributes\":{\"fill_color\":{\"field\":\"label\",\"transform\":{\"id\":\"1464\",\"type\":\"CategoricalColorMapper\"}},\"line_color\":{\"field\":\"label\",\"transform\":{\"id\":\"1464\",\"type\":\"CategoricalColorMapper\"}},\"x\":{\"field\":\"x\"},\"y\":{\"field\":\"y\"}},\"id\":\"1498\",\"type\":\"Circle\"},{\"attributes\":{\"filters\":[{\"id\":\"1501\",\"type\":\"GroupFilter\"}],\"source\":{\"id\":\"1463\",\"type\":\"ColumnDataSource\"}},\"id\":\"1502\",\"type\":\"CDSView\"},{\"attributes\":{},\"id\":\"1549\",\"type\":\"BasicTickFormatter\"},{\"attributes\":{\"filters\":[{\"id\":\"1489\",\"type\":\"GroupFilter\"}],\"source\":{\"id\":\"1463\",\"type\":\"ColumnDataSource\"}},\"id\":\"1490\",\"type\":\"CDSView\"},{\"attributes\":{\"fill_alpha\":{\"value\":0.1},\"fill_color\":{\"value\":\"#1f77b4\"},\"line_alpha\":{\"value\":0.1},\"line_color\":{\"value\":\"#1f77b4\"},\"x\":{\"field\":\"x\"},\"y\":{\"field\":\"y\"}},\"id\":\"1505\",\"type\":\"Circle\"},{\"attributes\":{\"text\":\"PCA\"},\"id\":\"1428\",\"type\":\"Title\"},{\"attributes\":{\"filters\":[{\"id\":\"1471\",\"type\":\"GroupFilter\"}],\"source\":{\"id\":\"1463\",\"type\":\"ColumnDataSource\"}},\"id\":\"1472\",\"type\":\"CDSView\"},{\"attributes\":{\"ticker\":{\"id\":\"1439\",\"type\":\"BasicTicker\"}},\"id\":\"1442\",\"type\":\"Grid\"},{\"attributes\":{},\"id\":\"1557\",\"type\":\"UnionRenderers\"},{\"attributes\":{\"active_drag\":\"auto\",\"active_inspect\":\"auto\",\"active_multi\":null,\"active_scroll\":\"auto\",\"active_tap\":\"auto\",\"tools\":[{\"id\":\"1448\",\"type\":\"PanTool\"},{\"id\":\"1449\",\"type\":\"WheelZoomTool\"},{\"id\":\"1450\",\"type\":\"BoxZoomTool\"},{\"id\":\"1451\",\"type\":\"SaveTool\"},{\"id\":\"1452\",\"type\":\"ResetTool\"},{\"id\":\"1453\",\"type\":\"HelpTool\"},{\"id\":\"1462\",\"type\":\"HoverTool\"}]},\"id\":\"1454\",\"type\":\"Toolbar\"},{\"attributes\":{\"data_source\":{\"id\":\"1463\",\"type\":\"ColumnDataSource\"},\"glyph\":{\"id\":\"1474\",\"type\":\"Circle\"},\"hover_glyph\":null,\"muted_glyph\":null,\"nonselection_glyph\":{\"id\":\"1475\",\"type\":\"Circle\"},\"selection_glyph\":null,\"view\":{\"id\":\"1472\",\"type\":\"CDSView\"}},\"id\":\"1476\",\"type\":\"GlyphRenderer\"},{\"attributes\":{\"data_source\":{\"id\":\"1463\",\"type\":\"ColumnDataSource\"},\"glyph\":{\"id\":\"1498\",\"type\":\"Circle\"},\"hover_glyph\":null,\"muted_glyph\":null,\"nonselection_glyph\":{\"id\":\"1499\",\"type\":\"Circle\"},\"selection_glyph\":null,\"view\":{\"id\":\"1496\",\"type\":\"CDSView\"}},\"id\":\"1500\",\"type\":\"GlyphRenderer\"},{\"attributes\":{\"color_mapper\":null,\"formatter\":{\"id\":\"1553\",\"type\":\"BasicTickFormatter\"},\"ticker\":{\"id\":\"1554\",\"type\":\"BasicTicker\"},\"visible\":false},\"id\":\"1515\",\"type\":\"ColorBar\"},{\"attributes\":{\"data_source\":{\"id\":\"1463\",\"type\":\"ColumnDataSource\"},\"glyph\":{\"id\":\"1480\",\"type\":\"Circle\"},\"hover_glyph\":null,\"muted_glyph\":null,\"nonselection_glyph\":{\"id\":\"1481\",\"type\":\"Circle\"},\"selection_glyph\":null,\"view\":{\"id\":\"1478\",\"type\":\"CDSView\"}},\"id\":\"1482\",\"type\":\"GlyphRenderer\"},{\"attributes\":{\"data_source\":{\"id\":\"1463\",\"type\":\"ColumnDataSource\"},\"glyph\":{\"id\":\"1504\",\"type\":\"Circle\"},\"hover_glyph\":null,\"muted_glyph\":null,\"nonselection_glyph\":{\"id\":\"1505\",\"type\":\"Circle\"},\"selection_glyph\":null,\"view\":{\"id\":\"1502\",\"type\":\"CDSView\"}},\"id\":\"1506\",\"type\":\"GlyphRenderer\"},{\"attributes\":{\"fill_alpha\":{\"value\":0.1},\"fill_color\":{\"value\":\"#1f77b4\"},\"line_alpha\":{\"value\":0.1},\"line_color\":{\"value\":\"#1f77b4\"},\"x\":{\"field\":\"x\"},\"y\":{\"field\":\"y\"}},\"id\":\"1469\",\"type\":\"Circle\"},{\"attributes\":{\"data_source\":{\"id\":\"1463\",\"type\":\"ColumnDataSource\"},\"glyph\":{\"id\":\"1468\",\"type\":\"Circle\"},\"hover_glyph\":null,\"muted_glyph\":null,\"nonselection_glyph\":{\"id\":\"1469\",\"type\":\"Circle\"},\"selection_glyph\":null,\"view\":{\"id\":\"1466\",\"type\":\"CDSView\"}},\"id\":\"1470\",\"type\":\"GlyphRenderer\"},{\"attributes\":{\"column_name\":\"label\",\"group\":\"4.00000e+00\"},\"id\":\"1483\",\"type\":\"GroupFilter\"},{\"attributes\":{\"click_policy\":\"hide\",\"items\":[{\"id\":\"1507\",\"type\":\"LegendItem\"},{\"id\":\"1508\",\"type\":\"LegendItem\"},{\"id\":\"1509\",\"type\":\"LegendItem\"},{\"id\":\"1510\",\"type\":\"LegendItem\"},{\"id\":\"1511\",\"type\":\"LegendItem\"},{\"id\":\"1512\",\"type\":\"LegendItem\"},{\"id\":\"1513\",\"type\":\"LegendItem\"}]},\"id\":\"1514\",\"type\":\"Legend\"},{\"attributes\":{\"callback\":null},\"id\":\"1432\",\"type\":\"DataRange1d\"},{\"attributes\":{\"dimension\":1,\"ticker\":{\"id\":\"1444\",\"type\":\"BasicTicker\"}},\"id\":\"1447\",\"type\":\"Grid\"},{\"attributes\":{\"data_source\":{\"id\":\"1463\",\"type\":\"ColumnDataSource\"},\"glyph\":{\"id\":\"1492\",\"type\":\"Circle\"},\"hover_glyph\":null,\"muted_glyph\":null,\"nonselection_glyph\":{\"id\":\"1493\",\"type\":\"Circle\"},\"selection_glyph\":null,\"view\":{\"id\":\"1490\",\"type\":\"CDSView\"}},\"id\":\"1494\",\"type\":\"GlyphRenderer\"},{\"attributes\":{},\"id\":\"1444\",\"type\":\"BasicTicker\"},{\"attributes\":{\"label\":{\"value\":\"NA\"},\"renderers\":[{\"id\":\"1506\",\"type\":\"GlyphRenderer\"}]},\"id\":\"1513\",\"type\":\"LegendItem\"},{\"attributes\":{\"bottom_units\":\"screen\",\"fill_alpha\":{\"value\":0.5},\"fill_color\":{\"value\":\"lightgrey\"},\"left_units\":\"screen\",\"level\":\"overlay\",\"line_alpha\":{\"value\":1.0},\"line_color\":{\"value\":\"black\"},\"line_dash\":[4,4],\"line_width\":{\"value\":2},\"render_mode\":\"css\",\"right_units\":\"screen\",\"top_units\":\"screen\"},\"id\":\"1555\",\"type\":\"BoxAnnotation\"},{\"attributes\":{\"column_name\":\"label\",\"group\":\"2.00000e+00\"},\"id\":\"1471\",\"type\":\"GroupFilter\"},{\"attributes\":{\"data_source\":{\"id\":\"1463\",\"type\":\"ColumnDataSource\"},\"glyph\":{\"id\":\"1486\",\"type\":\"Circle\"},\"hover_glyph\":null,\"muted_glyph\":null,\"nonselection_glyph\":{\"id\":\"1487\",\"type\":\"Circle\"},\"selection_glyph\":null,\"view\":{\"id\":\"1484\",\"type\":\"CDSView\"}},\"id\":\"1488\",\"type\":\"GlyphRenderer\"},{\"attributes\":{},\"id\":\"1448\",\"type\":\"PanTool\"},{\"attributes\":{\"filters\":[{\"id\":\"1465\",\"type\":\"GroupFilter\"}],\"source\":{\"id\":\"1463\",\"type\":\"ColumnDataSource\"}},\"id\":\"1466\",\"type\":\"CDSView\"},{\"attributes\":{},\"id\":\"1556\",\"type\":\"Selection\"},{\"attributes\":{},\"id\":\"1449\",\"type\":\"WheelZoomTool\"},{\"attributes\":{\"label\":{\"value\":\"4.00000e+00\"},\"renderers\":[{\"id\":\"1488\",\"type\":\"GlyphRenderer\"}]},\"id\":\"1510\",\"type\":\"LegendItem\"},{\"attributes\":{\"column_name\":\"label\",\"group\":\"6.00000e+00\"},\"id\":\"1495\",\"type\":\"GroupFilter\"},{\"attributes\":{\"column_name\":\"label\",\"group\":\"NA\"},\"id\":\"1501\",\"type\":\"GroupFilter\"},{\"attributes\":{\"label\":{\"value\":\"2.00000e+00\"},\"renderers\":[{\"id\":\"1476\",\"type\":\"GlyphRenderer\"}]},\"id\":\"1508\",\"type\":\"LegendItem\"},{\"attributes\":{},\"id\":\"1451\",\"type\":\"SaveTool\"},{\"attributes\":{\"fill_alpha\":{\"value\":0.1},\"fill_color\":{\"value\":\"#1f77b4\"},\"line_alpha\":{\"value\":0.1},\"line_color\":{\"value\":\"#1f77b4\"},\"x\":{\"field\":\"x\"},\"y\":{\"field\":\"y\"}},\"id\":\"1487\",\"type\":\"Circle\"},{\"attributes\":{\"fill_alpha\":{\"value\":0.1},\"fill_color\":{\"value\":\"#1f77b4\"},\"line_alpha\":{\"value\":0.1},\"line_color\":{\"value\":\"#1f77b4\"},\"x\":{\"field\":\"x\"},\"y\":{\"field\":\"y\"}},\"id\":\"1499\",\"type\":\"Circle\"},{\"attributes\":{\"overlay\":{\"id\":\"1555\",\"type\":\"BoxAnnotation\"}},\"id\":\"1450\",\"type\":\"BoxZoomTool\"},{\"attributes\":{\"factors\":[\"2.00000e+00\",\"NA\",\"1.00000e+00\",\"6.00000e+00\",\"3.00000e+00\",\"5.00000e+00\",\"4.00000e+00\"],\"palette\":[\"#1f77b4\",\"#ff7f0e\",\"#2ca02c\",\"#d62728\",\"#9467bd\",\"#8c564b\",\"#e377c2\",\"#7f7f7f\",\"#bcbd22\",\"#17becf\"]},\"id\":\"1464\",\"type\":\"CategoricalColorMapper\"},{\"attributes\":{\"label\":{\"value\":\"3.00000e+00\"},\"renderers\":[{\"id\":\"1482\",\"type\":\"GlyphRenderer\"}]},\"id\":\"1509\",\"type\":\"LegendItem\"},{\"attributes\":{},\"id\":\"1439\",\"type\":\"BasicTicker\"},{\"attributes\":{\"label\":{\"value\":\"1.00000e+00\"},\"renderers\":[{\"id\":\"1470\",\"type\":\"GlyphRenderer\"}]},\"id\":\"1507\",\"type\":\"LegendItem\"},{\"attributes\":{},\"id\":\"1453\",\"type\":\"HelpTool\"},{\"attributes\":{\"fill_alpha\":{\"value\":0.1},\"fill_color\":{\"value\":\"#1f77b4\"},\"line_alpha\":{\"value\":0.1},\"line_color\":{\"value\":\"#1f77b4\"},\"x\":{\"field\":\"x\"},\"y\":{\"field\":\"y\"}},\"id\":\"1475\",\"type\":\"Circle\"},{\"attributes\":{\"column_name\":\"label\",\"group\":\"5.00000e+00\"},\"id\":\"1489\",\"type\":\"GroupFilter\"},{\"attributes\":{\"axis_label\":\"PC1\",\"formatter\":{\"id\":\"1549\",\"type\":\"BasicTickFormatter\"},\"ticker\":{\"id\":\"1439\",\"type\":\"BasicTicker\"}},\"id\":\"1438\",\"type\":\"LinearAxis\"},{\"attributes\":{\"label\":{\"value\":\"6.00000e+00\"},\"renderers\":[{\"id\":\"1500\",\"type\":\"GlyphRenderer\"}]},\"id\":\"1512\",\"type\":\"LegendItem\"},{\"attributes\":{\"filters\":[{\"id\":\"1477\",\"type\":\"GroupFilter\"}],\"source\":{\"id\":\"1463\",\"type\":\"ColumnDataSource\"}},\"id\":\"1478\",\"type\":\"CDSView\"},{\"attributes\":{\"label\":{\"value\":\"5.00000e+00\"},\"renderers\":[{\"id\":\"1494\",\"type\":\"GlyphRenderer\"}]},\"id\":\"1511\",\"type\":\"LegendItem\"},{\"attributes\":{\"callback\":null,\"tooltips\":[[\"x\",\"@x\"],[\"y\",\"@y\"],[\"label\",\"@label\"]]},\"id\":\"1462\",\"type\":\"HoverTool\"},{\"attributes\":{\"fill_color\":{\"field\":\"label\",\"transform\":{\"id\":\"1464\",\"type\":\"CategoricalColorMapper\"}},\"line_color\":{\"field\":\"label\",\"transform\":{\"id\":\"1464\",\"type\":\"CategoricalColorMapper\"}},\"x\":{\"field\":\"x\"},\"y\":{\"field\":\"y\"}},\"id\":\"1474\",\"type\":\"Circle\"},{\"attributes\":{\"fill_color\":{\"field\":\"label\",\"transform\":{\"id\":\"1464\",\"type\":\"CategoricalColorMapper\"}},\"line_color\":{\"field\":\"label\",\"transform\":{\"id\":\"1464\",\"type\":\"CategoricalColorMapper\"}},\"x\":{\"field\":\"x\"},\"y\":{\"field\":\"y\"}},\"id\":\"1504\",\"type\":\"Circle\"},{\"attributes\":{},\"id\":\"1452\",\"type\":\"ResetTool\"},{\"attributes\":{\"fill_color\":{\"field\":\"label\",\"transform\":{\"id\":\"1464\",\"type\":\"CategoricalColorMapper\"}},\"line_color\":{\"field\":\"label\",\"transform\":{\"id\":\"1464\",\"type\":\"CategoricalColorMapper\"}},\"x\":{\"field\":\"x\"},\"y\":{\"field\":\"y\"}},\"id\":\"1468\",\"type\":\"Circle\"},{\"attributes\":{},\"id\":\"1434\",\"type\":\"LinearScale\"},{\"attributes\":{\"filters\":[{\"id\":\"1483\",\"type\":\"GroupFilter\"}],\"source\":{\"id\":\"1463\",\"type\":\"ColumnDataSource\"}},\"id\":\"1484\",\"type\":\"CDSView\"},{\"attributes\":{\"fill_alpha\":{\"value\":0.1},\"fill_color\":{\"value\":\"#1f77b4\"},\"line_alpha\":{\"value\":0.1},\"line_color\":{\"value\":\"#1f77b4\"},\"x\":{\"field\":\"x\"},\"y\":{\"field\":\"y\"}},\"id\":\"1493\",\"type\":\"Circle\"},{\"attributes\":{\"fill_color\":{\"field\":\"label\",\"transform\":{\"id\":\"1464\",\"type\":\"CategoricalColorMapper\"}},\"line_color\":{\"field\":\"label\",\"transform\":{\"id\":\"1464\",\"type\":\"CategoricalColorMapper\"}},\"x\":{\"field\":\"x\"},\"y\":{\"field\":\"y\"}},\"id\":\"1492\",\"type\":\"Circle\"},{\"attributes\":{\"column_name\":\"label\",\"group\":\"1.00000e+00\"},\"id\":\"1465\",\"type\":\"GroupFilter\"},{\"attributes\":{},\"id\":\"1436\",\"type\":\"LinearScale\"},{\"attributes\":{\"callback\":null},\"id\":\"1430\",\"type\":\"DataRange1d\"}],\"root_ids\":[\"1427\"]},\"title\":\"Bokeh Application\",\"version\":\"1.2.0\"}};\n",
       "  var render_items = [{\"docid\":\"87b746ae-3dca-4c60-b2af-90c161d9d8c5\",\"roots\":{\"1427\":\"872e001d-3e3b-4c46-9613-b50f0b24f43e\"}}];\n",
       "  root.Bokeh.embed.embed_items_notebook(docs_json, render_items);\n",
       "\n",
       "  }\n",
       "  if (root.Bokeh !== undefined) {\n",
       "    embed_document(root);\n",
       "  } else {\n",
       "    var attempts = 0;\n",
       "    var timer = setInterval(function(root) {\n",
       "      if (root.Bokeh !== undefined) {\n",
       "        embed_document(root);\n",
       "        clearInterval(timer);\n",
       "      }\n",
       "      attempts++;\n",
       "      if (attempts > 100) {\n",
       "        console.log(\"Bokeh: ERROR: Unable to run BokehJS code because BokehJS library is missing\");\n",
       "        clearInterval(timer);\n",
       "      }\n",
       "    }, 10, root)\n",
       "  }\n",
       "})(window);"
      ],
      "application/vnd.bokehjs_exec.v0+json": ""
     },
     "metadata": {
      "application/vnd.bokehjs_exec.v0+json": {
       "id": "1427"
      }
     },
     "output_type": "display_data"
    }
   ],
   "source": [
    "p = hl.plot.scatter(mt.scores[0],\n",
    "                    mt.scores[1],\n",
    "                    label=hl.str(mt.birthplace),\n",
    "                    title='PCA', xlabel='PC1', ylabel='PC2')\n",
    "p.plot_width = 800\n",
    "p.plot_height = 600\n",
    "show(p)"
   ]
  },
  {
   "cell_type": "markdown",
   "metadata": {},
   "source": [
    "Above are the two first principal components plotted against eachother. Note that there are four outlier samples. These outliers may be due to the quality of these samples, so we shall invesigate them closer below.\n",
    "\n",
    "As we see below, there seems to be nothing abnormal about these four samples. They may therefore potentially be *ancestry outliers*."
   ]
  },
  {
   "cell_type": "code",
   "execution_count": 40,
   "metadata": {},
   "outputs": [],
   "source": [
    "mt = mt.annotate_cols(pc_outliers = mt.scores[0] > 0.2)"
   ]
  },
  {
   "cell_type": "code",
   "execution_count": 41,
   "metadata": {},
   "outputs": [],
   "source": [
    "exprs_list = [('# heterozygotes', mt.sample_qc.n_het), ('Ti/Tv rate', mt.sample_qc.r_ti_tv), ('Call rate', mt.sample_qc.call_rate), ('# singletons', mt.sample_qc.n_singleton)]\n",
    "plot_list = []\n",
    "for name, exprs in exprs_list:\n",
    "    p = hl.plot.scatter(mt.sample_qc.dp_stats.mean, exprs, label=mt.pc_outliers, xlabel='DP mean', ylabel=name, legend=True)\n",
    "    p.plot_width = 800\n",
    "    p.plot_height = 500\n",
    "    plot_list.append(p)"
   ]
  },
  {
   "cell_type": "code",
   "execution_count": 42,
   "metadata": {},
   "outputs": [
    {
     "data": {
      "text/html": [
       "\n",
       "\n",
       "\n",
       "\n",
       "\n",
       "\n",
       "  <div class=\"bk-root\" id=\"21faff83-c31b-4073-b02b-8aebd1e25806\" data-root-id=\"2431\"></div>\n"
      ]
     },
     "metadata": {},
     "output_type": "display_data"
    },
    {
     "data": {
      "application/javascript": [
       "(function(root) {\n",
       "  function embed_document(root) {\n",
       "    \n",
       "  var docs_json = {\"bbd5d127-4ddf-4229-bbde-633cfbd953ba\":{\"roots\":{\"references\":[{\"attributes\":{\"children\":[{\"id\":\"2430\",\"type\":\"ToolbarBox\"},{\"id\":\"2428\",\"type\":\"GridBox\"}]},\"id\":\"2431\",\"type\":\"Column\"},{\"attributes\":{\"overlay\":{\"id\":\"2413\",\"type\":\"BoxAnnotation\"}},\"id\":\"2300\",\"type\":\"BoxZoomTool\"},{\"attributes\":{},\"id\":\"2246\",\"type\":\"WheelZoomTool\"},{\"attributes\":{},\"id\":\"2245\",\"type\":\"PanTool\"},{\"attributes\":{},\"id\":\"2299\",\"type\":\"WheelZoomTool\"},{\"attributes\":{},\"id\":\"2409\",\"type\":\"BasicTickFormatter\"},{\"attributes\":{},\"id\":\"2301\",\"type\":\"SaveTool\"},{\"attributes\":{},\"id\":\"2415\",\"type\":\"UnionRenderers\"},{\"attributes\":{\"callback\":null},\"id\":\"2282\",\"type\":\"DataRange1d\"},{\"attributes\":{\"overlay\":{\"id\":\"2402\",\"type\":\"BoxAnnotation\"}},\"id\":\"2247\",\"type\":\"BoxZoomTool\"},{\"attributes\":{},\"id\":\"2303\",\"type\":\"HelpTool\"},{\"attributes\":{},\"id\":\"2420\",\"type\":\"BasicTickFormatter\"},{\"attributes\":{\"active_drag\":\"auto\",\"active_inspect\":\"auto\",\"active_multi\":null,\"active_scroll\":\"auto\",\"active_tap\":\"auto\",\"tools\":[{\"id\":\"2298\",\"type\":\"PanTool\"},{\"id\":\"2299\",\"type\":\"WheelZoomTool\"},{\"id\":\"2300\",\"type\":\"BoxZoomTool\"},{\"id\":\"2301\",\"type\":\"SaveTool\"},{\"id\":\"2302\",\"type\":\"ResetTool\"},{\"id\":\"2303\",\"type\":\"HelpTool\"},{\"id\":\"2312\",\"type\":\"HoverTool\"}]},\"id\":\"2304\",\"type\":\"Toolbar\"},{\"attributes\":{},\"id\":\"2302\",\"type\":\"ResetTool\"},{\"attributes\":{\"tools\":[{\"id\":\"2192\",\"type\":\"PanTool\"},{\"id\":\"2193\",\"type\":\"WheelZoomTool\"},{\"id\":\"2194\",\"type\":\"BoxZoomTool\"},{\"id\":\"2195\",\"type\":\"SaveTool\"},{\"id\":\"2196\",\"type\":\"ResetTool\"},{\"id\":\"2197\",\"type\":\"HelpTool\"},{\"id\":\"2206\",\"type\":\"HoverTool\"},{\"id\":\"2245\",\"type\":\"PanTool\"},{\"id\":\"2246\",\"type\":\"WheelZoomTool\"},{\"id\":\"2247\",\"type\":\"BoxZoomTool\"},{\"id\":\"2248\",\"type\":\"SaveTool\"},{\"id\":\"2249\",\"type\":\"ResetTool\"},{\"id\":\"2250\",\"type\":\"HelpTool\"},{\"id\":\"2259\",\"type\":\"HoverTool\"},{\"id\":\"2298\",\"type\":\"PanTool\"},{\"id\":\"2299\",\"type\":\"WheelZoomTool\"},{\"id\":\"2300\",\"type\":\"BoxZoomTool\"},{\"id\":\"2301\",\"type\":\"SaveTool\"},{\"id\":\"2302\",\"type\":\"ResetTool\"},{\"id\":\"2303\",\"type\":\"HelpTool\"},{\"id\":\"2312\",\"type\":\"HoverTool\"},{\"id\":\"2351\",\"type\":\"PanTool\"},{\"id\":\"2352\",\"type\":\"WheelZoomTool\"},{\"id\":\"2353\",\"type\":\"BoxZoomTool\"},{\"id\":\"2354\",\"type\":\"SaveTool\"},{\"id\":\"2355\",\"type\":\"ResetTool\"},{\"id\":\"2356\",\"type\":\"HelpTool\"},{\"id\":\"2365\",\"type\":\"HoverTool\"}]},\"id\":\"2429\",\"type\":\"ProxyToolbar\"},{\"attributes\":{\"callback\":null,\"tooltips\":[[\"x\",\"@x\"],[\"y\",\"@y\"],[\"label\",\"@label\"]]},\"id\":\"2259\",\"type\":\"HoverTool\"},{\"attributes\":{\"below\":[{\"id\":\"2288\",\"type\":\"LinearAxis\"}],\"center\":[{\"id\":\"2292\",\"type\":\"Grid\"},{\"id\":\"2297\",\"type\":\"Grid\"}],\"left\":[{\"id\":\"2293\",\"type\":\"LinearAxis\"},{\"id\":\"2329\",\"type\":\"Legend\"},{\"id\":\"2330\",\"type\":\"ColorBar\"}],\"plot_height\":400,\"plot_width\":600,\"renderers\":[{\"id\":\"2320\",\"type\":\"GlyphRenderer\"},{\"id\":\"2326\",\"type\":\"GlyphRenderer\"}],\"title\":null,\"toolbar\":{\"id\":\"2304\",\"type\":\"Toolbar\"},\"toolbar_location\":null,\"x_range\":{\"id\":\"2280\",\"type\":\"DataRange1d\"},\"x_scale\":{\"id\":\"2284\",\"type\":\"LinearScale\"},\"y_range\":{\"id\":\"2282\",\"type\":\"DataRange1d\"},\"y_scale\":{\"id\":\"2286\",\"type\":\"LinearScale\"}},\"id\":\"2278\",\"subtype\":\"Figure\",\"type\":\"Plot\"},{\"attributes\":{\"bottom_units\":\"screen\",\"fill_alpha\":{\"value\":0.5},\"fill_color\":{\"value\":\"lightgrey\"},\"left_units\":\"screen\",\"level\":\"overlay\",\"line_alpha\":{\"value\":1.0},\"line_color\":{\"value\":\"black\"},\"line_dash\":[4,4],\"line_width\":{\"value\":2},\"render_mode\":\"css\",\"right_units\":\"screen\",\"top_units\":\"screen\"},\"id\":\"2413\",\"type\":\"BoxAnnotation\"},{\"attributes\":{\"fill_alpha\":{\"value\":0.1},\"fill_color\":{\"value\":\"#1f77b4\"},\"line_alpha\":{\"value\":0.1},\"line_color\":{\"value\":\"#1f77b4\"},\"x\":{\"field\":\"x\"},\"y\":{\"field\":\"y\"}},\"id\":\"2325\",\"type\":\"Circle\"},{\"attributes\":{\"callback\":null},\"id\":\"2333\",\"type\":\"DataRange1d\"},{\"attributes\":{},\"id\":\"2412\",\"type\":\"BasicTicker\"},{\"attributes\":{\"click_policy\":\"hide\",\"items\":[{\"id\":\"2327\",\"type\":\"LegendItem\"},{\"id\":\"2328\",\"type\":\"LegendItem\"}]},\"id\":\"2329\",\"type\":\"Legend\"},{\"attributes\":{\"callback\":null,\"data\":{\"index\":[0,1,2,3,4,5,6,7,8,9,10,11,12,13,14,15,16,17,18,19,20,21,22,23,24,25,26,27,28,29,30,31,32,33,34,35,36,37,38,39,40,41,42,43,44,45,46,47,48,49,50,51,52,53,54,55,56,57,58,59,60,61,62,63,64,65,66,67,68,69,70,71,72,73,74,75,76,77,78,79,80,81,82,83,84,85,86,87,88,89,90,91,92,93,94,95,96,97,98,99,100,101,102,103,104,105,106,107,108,109,110,111,112,113,114,115,116,117,118,119,120,121,122,123,124,125,126,127,128,129,130,131,132,133,134,135,136,137,138,139,140,141,142,143,144,145,146,147,148,149,150,151,152,153,154,155,156,157,158,159,160,161,162,163,164,165,166,167,168,169,170,171,172,173,174,175,176,177,178,179,180,181,182,183,184,185,186,187,188,189,190,191,192,193,194,195,196,197,198,199,200,201,202,203,204,205,206,207,208,209,210,211,212,213,214,215,216,217,218,219,220,221,222,223,224,225,226,227,228,229,230,231,232,233,234,235,236,237,238,239,240,241,242,243,244,245,246,247,248,249,250,251,252,253,254,255,256,257,258,259,260,261,262,263,264,265,266,267,268,269,270,271,272,273,274,275,276,277,278,279,280,281,282,283,284,285,286,287,288,289,290,291,292,293,294,295,296,297,298,299,300,301,302,303,304,305,306,307,308,309,310,311,312,313,314,315,316,317,318,319,320,321,322,323,324,325,326,327,328,329,330,331,332,333,334,335,336,337,338,339,340,341,342,343,344,345,346,347,348,349,350,351,352,353,354,355,356,357,358,359,360,361,362,363,364,365,366,367,368,369],\"label\":[\"false\",\"false\",\"false\",\"false\",\"false\",\"false\",\"false\",\"false\",\"false\",\"false\",\"false\",\"false\",\"false\",\"false\",\"false\",\"false\",\"false\",\"false\",\"false\",\"false\",\"false\",\"false\",\"false\",\"false\",\"false\",\"false\",\"false\",\"false\",\"false\",\"false\",\"false\",\"false\",\"false\",\"false\",\"false\",\"false\",\"false\",\"false\",\"false\",\"false\",\"false\",\"false\",\"false\",\"false\",\"false\",\"false\",\"false\",\"false\",\"false\",\"false\",\"false\",\"false\",\"false\",\"false\",\"false\",\"false\",\"false\",\"false\",\"false\",\"false\",\"false\",\"false\",\"false\",\"false\",\"false\",\"false\",\"false\",\"false\",\"false\",\"false\",\"false\",\"false\",\"false\",\"false\",\"false\",\"false\",\"false\",\"false\",\"false\",\"false\",\"false\",\"false\",\"false\",\"false\",\"false\",\"false\",\"false\",\"false\",\"false\",\"false\",\"false\",\"false\",\"false\",\"false\",\"false\",\"false\",\"false\",\"false\",\"false\",\"false\",\"false\",\"false\",\"false\",\"false\",\"false\",\"false\",\"false\",\"false\",\"false\",\"false\",\"false\",\"false\",\"false\",\"false\",\"false\",\"false\",\"false\",\"false\",\"false\",\"false\",\"false\",\"false\",\"false\",\"false\",\"false\",\"false\",\"false\",\"false\",\"false\",\"false\",\"false\",\"false\",\"false\",\"false\",\"false\",\"false\",\"false\",\"false\",\"false\",\"false\",\"false\",\"false\",\"false\",\"false\",\"false\",\"false\",\"false\",\"false\",\"false\",\"false\",\"false\",\"false\",\"false\",\"false\",\"false\",\"false\",\"false\",\"false\",\"false\",\"false\",\"false\",\"false\",\"false\",\"false\",\"false\",\"false\",\"false\",\"false\",\"false\",\"false\",\"false\",\"false\",\"false\",\"false\",\"false\",\"false\",\"false\",\"false\",\"false\",\"false\",\"false\",\"false\",\"false\",\"false\",\"false\",\"false\",\"false\",\"false\",\"false\",\"false\",\"false\",\"false\",\"false\",\"false\",\"false\",\"false\",\"false\",\"false\",\"false\",\"false\",\"false\",\"false\",\"false\",\"false\",\"false\",\"false\",\"false\",\"false\",\"false\",\"false\",\"false\",\"false\",\"false\",\"false\",\"false\",\"false\",\"false\",\"false\",\"false\",\"false\",\"false\",\"false\",\"false\",\"false\",\"false\",\"false\",\"false\",\"false\",\"false\",\"false\",\"false\",\"false\",\"false\",\"false\",\"false\",\"false\",\"false\",\"false\",\"false\",\"false\",\"false\",\"false\",\"false\",\"false\",\"false\",\"false\",\"false\",\"false\",\"false\",\"false\",\"false\",\"false\",\"false\",\"false\",\"false\",\"false\",\"true\",\"false\",\"false\",\"false\",\"false\",\"false\",\"false\",\"false\",\"false\",\"false\",\"false\",\"false\",\"false\",\"false\",\"false\",\"false\",\"false\",\"false\",\"false\",\"false\",\"false\",\"false\",\"false\",\"false\",\"false\",\"false\",\"false\",\"false\",\"false\",\"false\",\"false\",\"false\",\"false\",\"false\",\"false\",\"false\",\"false\",\"false\",\"false\",\"false\",\"false\",\"false\",\"false\",\"false\",\"false\",\"false\",\"false\",\"false\",\"false\",\"false\",\"false\",\"false\",\"false\",\"false\",\"false\",\"false\",\"false\",\"false\",\"false\",\"false\",\"false\",\"false\",\"false\",\"false\",\"false\",\"false\",\"false\",\"false\",\"false\",\"false\",\"false\",\"true\",\"false\",\"false\",\"false\",\"false\",\"false\",\"false\",\"false\",\"false\",\"false\",\"false\",\"false\",\"false\",\"false\",\"false\",\"true\",\"false\",\"false\",\"false\",\"false\",\"false\",\"false\",\"false\",\"false\",\"false\",\"false\",\"false\",\"false\",\"false\",\"false\",\"false\",\"false\",\"true\",\"false\",\"false\",\"false\",\"false\",\"false\",\"false\",\"false\",\"false\",\"false\",\"false\"],\"x\":{\"__ndarray__\":\"+1GDqWxUKkA+jMFE040sQD3imgPSOTFAYx7wwuczMUDebBnL190xQLUfi9x5VTJAIQ35AyPGMkAxqKgxwGMzQNYSXmIWIjRAFzCO6X0sNEBGpV7ivUI0QOYBw838jDRAEuOdrs6+NEALrCIu2lw1QGhikjZNNDVAqKiZ8J1DNUChR0w/KUA1QFeUHMAXUzZANbBY/OiyNkD8nKLT1fw3QCf2JeQyJThAbawsf84jOEDgQU67wHk4QG3vBowhljhAhw0Uk9e0OEDoQL0hJro4QB3um21v9zhA8vBbOHHwOEA5QhHBYCk5QKEkLXjuKjlA1K7iI+QwOUDDl5w2XM45QEEDKc6DxTlA776qEFj5OUCRTN0cs9w5QNDO9AjGHzpAN8cQwT5POkAJvSPjtXk6QDbDe52UjDpAewZcy32nOkDf/KTJvu86QE3vzc2WLDtAsLR9j0YRO0AXaHLDDYA7QIBbf1EXbztA1YY8TPS8O0DbRGs+cbA7QIk8YBR75DtAAbxAV6HMO0BYYuIvQe47QAEM1ExNADxA55VL27spPEAi9sYv0Zo8QAyZkFzadjxADcvsnd6UPEAftDQVurI8QPF8acmuozxAarNYPvK2PEAY7jCH4No8QNsCScra6TxAYw2Z/j8LPUCSKMSBYB09QDzxLYJWCD1A8HfQE5NjPUDCDe0R6mw9QLOMoMnFmz1AmpmZmZl5PUAUkyjiWII9QO0Bn0ColT1AJ7ZkzpmZPUBd8lqWa649QKxIdSo0qT1ATKMuyvq5PUAO1B2/2uY9QHXHghIe/T1AYpCutJ10PkA2cihcJX0+QF0W8sRmdT5A4AzLDF18PkCmcpc366M+QI/8fcdYrD5AtIbr0g+rPkB4EwBe7o0+QCR6pSrkmj5Am2CigeLWPkBgP7hzubE+QMi1aTbHtz5A4gI2pirGPkABxLT3lrg+QOms9X0yyz5ADFCGi9n5PkBIl93u6vU+QLNU8e8N4D5Ac70RgMYgP0DXNKqitBI/QKo3kiPuUT9Alm33R2BFP0BFxs83eYU/QCZSgQjVYj9AvT+2WLzQP0Bj/f/SJ7k/QKZOGjzzxT9Ag4jsl6TFP0CrlTebntg/QBjloSb8DEBAFLYiLYIPQEBYtBASxxZAQIiZO+FoDUBAPwIX9CVEQEBIsiS1LjhAQOsmBxFvR0BAIvDUIfBUQED/CQn0I3BAQBJIVEkSYUBAnOz0x3NjQEDoHXN0e4VAQCX4DwwtjkBAfMSeQ4aWQEDOJk/SJppAQCoJ4+OCoEBAd4R3dM6VQECJV3xV2q9AQIvBUdr7qUBAY01PxgDJQEAGwV7Xo+BAQOinyMBT1kBAbO/N8RHPQEA2bKrZluBAQO+cUVbw8kBAsp6wYZfrQEAUCAqVb+xAQPIM2zh7DEFAniqdZhwOQUDgBkXAfgtBQCMT2AaLDEFA0vL/lboPQUBDba+c2SBBQIZoomDXKEFAo4bTSoo0QUBLRtIDj1BBQDdSLS/bSkFApDBen2FHQUDLPQj3GE9BQL6/8h2SWkFAavENX39fQUCvLTROHWhBQD7rq6geZUFAhaxTiHt6QUAufGxi7GhBQPyS/VbBdkFA+fmgXAOIQUCWUMjSVKRBQP2VvA2BpEFAELEBy9ahQUCmQU2uzqlBQFyqto8Bu0FATKTWbyWyQUA4Cn27eKpBQM+Byczs1EFAFnXgoVHFQUAIT3atp8lBQGbSZdJl0kFAIc+PxxzQQUB1XppRNd9BQEJLsAN/5EFAjhsH1EjaQUAU82cbjflBQJAuDm5S+0FA8RqiD0n+QUBkDCYyEf9BQM4n/xOLEEJAU85/+PIMQkCt8zPAFB1CQJpVGgJnSEJAjGJbq4NpQkClfEiH5XRCQF3JfQ1AhEJA+QbspviHQkBRXl8uWpNCQOfPlvB3mkJAaCcYbXGLQkDdjhcdhqZCQL+aE/qOskJAQAoNoLjEQkB7TSjMGbNCQKuTLDEHzkJA8O/kG+bYQkCcl6UA89xCQGdsYdf420JAOrejDrDSQkBiemRgAtFCQOZ33lNk50JAUkL/vCDvQkDScmL/P/RCQDKs9H/b/EJAtmqg1zsAQ0DrLYS9xglDQALYBmAbAENAh6dyk/33QkAVsc4onB1DQOBJtTxuFkNAZiWn1p0VQ0CgRPNKOCVDQP5MGCPCMkNAIue62TAiQ0ClOJpUeUhDQEoFnxPjQENAlV/KL+U3Q0Bs53ZEJUJDQKx3KWInX0NAuV1y2vp4Q0ANpsleNYxDQLtnHC9SfkNA+6JXafB/Q0B+HY3vKrdDQAh6k/XMqUNAIO81z12vQ0CfWQH7ZcBDQNhtPwBTykNAmZdb7OPIQ0Ace/TJesBDQC4XIUM33UNAB8SQr4bdQ0DVvbelSNZDQBqLLIgG2UNAfmlImoT7Q0BUcYLV9PZDQHgNKs9W6kNAkLtQuKgBREBOxJ+OpQlEQFaWAGUTHURAGBF8aSVARED7Fp3Efi1EQBozmuKkLURArHtq610sREBH818x5k5EQLAmbsmpSURA1tHAcy9oREDReV2qYl9EQPmQ4i7mXURA7EydL+BXREBFNgWot29EQE9QXHftbURAi49IVW12RECF7ouOx4dEQGo3WTsmkURAlYnS+2SeREDC27DJjpxEQLDpuAPknkRALwHZOA/CRED3ZDAIOrpEQMaohpCot0RAyDPtl0y+RED2dnwtcdlEQNcbrRNO3URAlO+mf+3zRED11dOz+fpEQD/2UBy4F0VAnh/g6WQVRUCs2A+xrSNFQFfcq57YJ0VA4/bzTq0hRUAAfnQfSR1FQKgtJl4eMUVAoWIIYuI8RUDp/Aia40ZFQFeC9CXuPEVAdmIpTYRRRUBCySspqHhFQHjUog5UoEVACHxhoEeTRUBSGVWSPoxFQACFAdpelkVA+1/yrTmRRUCJata2FatFQBWrgEMwoUVAEgajBH2qRUDBbGeV3bVFQNBA+BY52kVAsAO0SOvXRUAVVV5a7u5FQGyaMtt39EVAsMhzoackRkBBtHVMjiZGQCR9zJVvSUZAoJtInYNLRkC2mGsefl5GQLef7bSYWUZAOpsPljdmRkCrWAZaGmNGQNHCg7i2dUZAhANJ64yERkATr/x8UZZGQM6H2tlRnUZANdADMce+RkANoIaLRrJGQGsOthU0w0ZABw0ygt7ARkDuaJZc9uNGQNiR64gG2UZAQ79/sbT8RkBKEsErBf1GQMeR5p/Y8UZAQamJiq3tRkDlBShxJwBHQI5X5SXN7kZATjlha7oFR0D2n8AXxh1HQJDI1LL5HkdAwAkPgOosR0BDy/ZQsEBHQGsZtGxLSkdAhSuY6MNmR0CWXnDaZVpHQHjlvXico0dAUwpa1ATCR0CVkN4Lw9ZHQJ2ZMDmoE0hALhQWUZQMSEA2AR71YCVIQKCrDmKJNUhAcj/3gQdeSEAiMxggFHJIQDGRf0O4b0hAa5xZdYiDSEB/NeqLO7VIQCJPbdmnEUlAKnwEKnwGSUD/n8UfLyJJQM93du3daUlAuuqYqKpdSUCvH382poJJQLktGsKslklAq672aIKsSUCJVEiXwZ9JQGYIvTtwpElAPqYWzE+aSUAmymQFFb5JQBpNVz086ElAQsHfilwESkA9N0VzZQRKQCwDwMYeBUpArMU0pPAXSkCKPwGJpTFKQNlxEcZ6ZEpA3rA8c0mNSkDSewINvjJLQKQZLgEdREtAlQto4jFRS0AGKGkZV3RLQOxihUEtfEtAyDNLjmSMS0Dtvci6DNlLQNWbYKSe/UtAuTabkcYUTEBCOfv1A0hMQEOdm18UXkxAkqFq70enTEBQ75XmIrdMQMNTD8O16kxA/a22ik0wTkCCHyKzYZBOQKllytEpg05AH5mGn8EKT0D1Dxo11yxPQHAfwjChlk9AfhPzOODTT0Amyr4lNU9QQBLfyVXHY1BA5MvC9xSLVUA=\",\"dtype\":\"float64\",\"shape\":[370]},\"y\":{\"__ndarray__\":\"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\",\"dtype\":\"float64\",\"shape\":[370]}},\"selected\":{\"id\":\"2414\",\"type\":\"Selection\"},\"selection_policy\":{\"id\":\"2415\",\"type\":\"UnionRenderers\"}},\"id\":\"2313\",\"type\":\"ColumnDataSource\"},{\"attributes\":{\"filters\":[{\"id\":\"2321\",\"type\":\"GroupFilter\"}],\"source\":{\"id\":\"2313\",\"type\":\"ColumnDataSource\"}},\"id\":\"2322\",\"type\":\"CDSView\"},{\"attributes\":{},\"id\":\"2418\",\"type\":\"BasicTickFormatter\"},{\"attributes\":{\"filters\":[{\"id\":\"2368\",\"type\":\"GroupFilter\"}],\"source\":{\"id\":\"2366\",\"type\":\"ColumnDataSource\"}},\"id\":\"2369\",\"type\":\"CDSView\"},{\"attributes\":{\"fill_alpha\":{\"value\":0.1},\"fill_color\":{\"value\":\"#1f77b4\"},\"line_alpha\":{\"value\":0.1},\"line_color\":{\"value\":\"#1f77b4\"},\"x\":{\"field\":\"x\"},\"y\":{\"field\":\"y\"}},\"id\":\"2319\",\"type\":\"Circle\"},{\"attributes\":{},\"id\":\"2411\",\"type\":\"BasicTickFormatter\"},{\"attributes\":{\"filters\":[{\"id\":\"2374\",\"type\":\"GroupFilter\"}],\"source\":{\"id\":\"2366\",\"type\":\"ColumnDataSource\"}},\"id\":\"2375\",\"type\":\"CDSView\"},{\"attributes\":{\"data_source\":{\"id\":\"2313\",\"type\":\"ColumnDataSource\"},\"glyph\":{\"id\":\"2324\",\"type\":\"Circle\"},\"hover_glyph\":null,\"muted_glyph\":null,\"nonselection_glyph\":{\"id\":\"2325\",\"type\":\"Circle\"},\"selection_glyph\":null,\"view\":{\"id\":\"2322\",\"type\":\"CDSView\"}},\"id\":\"2326\",\"type\":\"GlyphRenderer\"},{\"attributes\":{},\"id\":\"2425\",\"type\":\"Selection\"},{\"attributes\":{\"fill_color\":{\"field\":\"label\",\"transform\":{\"id\":\"2314\",\"type\":\"CategoricalColorMapper\"}},\"line_color\":{\"field\":\"label\",\"transform\":{\"id\":\"2314\",\"type\":\"CategoricalColorMapper\"}},\"x\":{\"field\":\"x\"},\"y\":{\"field\":\"y\"}},\"id\":\"2318\",\"type\":\"Circle\"},{\"attributes\":{\"filters\":[{\"id\":\"2315\",\"type\":\"GroupFilter\"}],\"source\":{\"id\":\"2313\",\"type\":\"ColumnDataSource\"}},\"id\":\"2316\",\"type\":\"CDSView\"},{\"attributes\":{\"factors\":[\"false\",\"true\"],\"palette\":[\"#1f77b4\",\"#ff7f0e\",\"#2ca02c\",\"#d62728\",\"#9467bd\",\"#8c564b\",\"#e377c2\",\"#7f7f7f\",\"#bcbd22\",\"#17becf\"]},\"id\":\"2314\",\"type\":\"CategoricalColorMapper\"},{\"attributes\":{\"callback\":null},\"id\":\"2335\",\"type\":\"DataRange1d\"},{\"attributes\":{\"callback\":null,\"tooltips\":[[\"x\",\"@x\"],[\"y\",\"@y\"],[\"label\",\"@label\"]]},\"id\":\"2312\",\"type\":\"HoverTool\"},{\"attributes\":{\"data_source\":{\"id\":\"2313\",\"type\":\"ColumnDataSource\"},\"glyph\":{\"id\":\"2318\",\"type\":\"Circle\"},\"hover_glyph\":null,\"muted_glyph\":null,\"nonselection_glyph\":{\"id\":\"2319\",\"type\":\"Circle\"},\"selection_glyph\":null,\"view\":{\"id\":\"2316\",\"type\":\"CDSView\"}},\"id\":\"2320\",\"type\":\"GlyphRenderer\"},{\"attributes\":{\"label\":{\"value\":\"false\"},\"renderers\":[{\"id\":\"2320\",\"type\":\"GlyphRenderer\"}]},\"id\":\"2327\",\"type\":\"LegendItem\"},{\"attributes\":{},\"id\":\"2396\",\"type\":\"BasicTickFormatter\"},{\"attributes\":{},\"id\":\"2398\",\"type\":\"BasicTickFormatter\"},{\"attributes\":{\"fill_color\":{\"field\":\"label\",\"transform\":{\"id\":\"2314\",\"type\":\"CategoricalColorMapper\"}},\"line_color\":{\"field\":\"label\",\"transform\":{\"id\":\"2314\",\"type\":\"CategoricalColorMapper\"}},\"x\":{\"field\":\"x\"},\"y\":{\"field\":\"y\"}},\"id\":\"2324\",\"type\":\"Circle\"},{\"attributes\":{\"fill_alpha\":{\"value\":0.1},\"fill_color\":{\"value\":\"#1f77b4\"},\"line_alpha\":{\"value\":0.1},\"line_color\":{\"value\":\"#1f77b4\"},\"x\":{\"field\":\"x\"},\"y\":{\"field\":\"y\"}},\"id\":\"2372\",\"type\":\"Circle\"},{\"attributes\":{\"column_name\":\"label\",\"group\":\"true\"},\"id\":\"2321\",\"type\":\"GroupFilter\"},{\"attributes\":{\"label\":{\"value\":\"true\"},\"renderers\":[{\"id\":\"2326\",\"type\":\"GlyphRenderer\"}]},\"id\":\"2328\",\"type\":\"LegendItem\"},{\"attributes\":{\"color_mapper\":null,\"formatter\":{\"id\":\"2411\",\"type\":\"BasicTickFormatter\"},\"ticker\":{\"id\":\"2412\",\"type\":\"BasicTicker\"},\"visible\":false},\"id\":\"2330\",\"type\":\"ColorBar\"},{\"attributes\":{},\"id\":\"2294\",\"type\":\"BasicTicker\"},{\"attributes\":{},\"id\":\"2393\",\"type\":\"UnionRenderers\"},{\"attributes\":{},\"id\":\"2401\",\"type\":\"BasicTicker\"},{\"attributes\":{},\"id\":\"2342\",\"type\":\"BasicTicker\"},{\"attributes\":{\"axis_label\":\"DP mean\",\"formatter\":{\"id\":\"2418\",\"type\":\"BasicTickFormatter\"},\"ticker\":{\"id\":\"2342\",\"type\":\"BasicTicker\"}},\"id\":\"2341\",\"type\":\"LinearAxis\"},{\"attributes\":{\"factors\":[\"false\",\"true\"],\"palette\":[\"#1f77b4\",\"#ff7f0e\",\"#2ca02c\",\"#d62728\",\"#9467bd\",\"#8c564b\",\"#e377c2\",\"#7f7f7f\",\"#bcbd22\",\"#17becf\"]},\"id\":\"2367\",\"type\":\"CategoricalColorMapper\"},{\"attributes\":{\"dimension\":1,\"ticker\":{\"id\":\"2294\",\"type\":\"BasicTicker\"}},\"id\":\"2297\",\"type\":\"Grid\"},{\"attributes\":{\"bottom_units\":\"screen\",\"fill_alpha\":{\"value\":0.5},\"fill_color\":{\"value\":\"lightgrey\"},\"left_units\":\"screen\",\"level\":\"overlay\",\"line_alpha\":{\"value\":1.0},\"line_color\":{\"value\":\"black\"},\"line_dash\":[4,4],\"line_width\":{\"value\":2},\"render_mode\":\"css\",\"right_units\":\"screen\",\"top_units\":\"screen\"},\"id\":\"2402\",\"type\":\"BoxAnnotation\"},{\"attributes\":{},\"id\":\"2404\",\"type\":\"UnionRenderers\"},{\"attributes\":{\"fill_color\":{\"field\":\"label\",\"transform\":{\"id\":\"2367\",\"type\":\"CategoricalColorMapper\"}},\"line_color\":{\"field\":\"label\",\"transform\":{\"id\":\"2367\",\"type\":\"CategoricalColorMapper\"}},\"x\":{\"field\":\"x\"},\"y\":{\"field\":\"y\"}},\"id\":\"2371\",\"type\":\"Circle\"},{\"attributes\":{\"label\":{\"value\":\"false\"},\"renderers\":[{\"id\":\"2373\",\"type\":\"GlyphRenderer\"}]},\"id\":\"2380\",\"type\":\"LegendItem\"},{\"attributes\":{},\"id\":\"2407\",\"type\":\"BasicTickFormatter\"},{\"attributes\":{\"column_name\":\"label\",\"group\":\"true\"},\"id\":\"2374\",\"type\":\"GroupFilter\"},{\"attributes\":{},\"id\":\"2403\",\"type\":\"Selection\"},{\"attributes\":{},\"id\":\"2298\",\"type\":\"PanTool\"},{\"attributes\":{\"data_source\":{\"id\":\"2366\",\"type\":\"ColumnDataSource\"},\"glyph\":{\"id\":\"2371\",\"type\":\"Circle\"},\"hover_glyph\":null,\"muted_glyph\":null,\"nonselection_glyph\":{\"id\":\"2372\",\"type\":\"Circle\"},\"selection_glyph\":null,\"view\":{\"id\":\"2369\",\"type\":\"CDSView\"}},\"id\":\"2373\",\"type\":\"GlyphRenderer\"},{\"attributes\":{},\"id\":\"2414\",\"type\":\"Selection\"},{\"attributes\":{},\"id\":\"2196\",\"type\":\"ResetTool\"},{\"attributes\":{},\"id\":\"2248\",\"type\":\"SaveTool\"},{\"attributes\":{\"axis_label\":\"# singletons\",\"formatter\":{\"id\":\"2420\",\"type\":\"BasicTickFormatter\"},\"ticker\":{\"id\":\"2347\",\"type\":\"BasicTicker\"}},\"id\":\"2346\",\"type\":\"LinearAxis\"},{\"attributes\":{},\"id\":\"2197\",\"type\":\"HelpTool\"},{\"attributes\":{},\"id\":\"2249\",\"type\":\"ResetTool\"},{\"attributes\":{\"callback\":null},\"id\":\"2176\",\"type\":\"DataRange1d\"},{\"attributes\":{},\"id\":\"2347\",\"type\":\"BasicTicker\"},{\"attributes\":{\"active_drag\":\"auto\",\"active_inspect\":\"auto\",\"active_multi\":null,\"active_scroll\":\"auto\",\"active_tap\":\"auto\",\"tools\":[{\"id\":\"2192\",\"type\":\"PanTool\"},{\"id\":\"2193\",\"type\":\"WheelZoomTool\"},{\"id\":\"2194\",\"type\":\"BoxZoomTool\"},{\"id\":\"2195\",\"type\":\"SaveTool\"},{\"id\":\"2196\",\"type\":\"ResetTool\"},{\"id\":\"2197\",\"type\":\"HelpTool\"},{\"id\":\"2206\",\"type\":\"HoverTool\"}]},\"id\":\"2198\",\"type\":\"Toolbar\"},{\"attributes\":{\"bottom_units\":\"screen\",\"fill_alpha\":{\"value\":0.5},\"fill_color\":{\"value\":\"lightgrey\"},\"left_units\":\"screen\",\"level\":\"overlay\",\"line_alpha\":{\"value\":1.0},\"line_color\":{\"value\":\"black\"},\"line_dash\":[4,4],\"line_width\":{\"value\":2},\"render_mode\":\"css\",\"right_units\":\"screen\",\"top_units\":\"screen\"},\"id\":\"2391\",\"type\":\"BoxAnnotation\"},{\"attributes\":{},\"id\":\"2250\",\"type\":\"HelpTool\"},{\"attributes\":{},\"id\":\"2192\",\"type\":\"PanTool\"},{\"attributes\":{},\"id\":\"2387\",\"type\":\"BasicTickFormatter\"},{\"attributes\":{\"dimension\":1,\"ticker\":{\"id\":\"2347\",\"type\":\"BasicTicker\"}},\"id\":\"2350\",\"type\":\"Grid\"},{\"attributes\":{},\"id\":\"2389\",\"type\":\"BasicTickFormatter\"},{\"attributes\":{\"active_drag\":\"auto\",\"active_inspect\":\"auto\",\"active_multi\":null,\"active_scroll\":\"auto\",\"active_tap\":\"auto\",\"tools\":[{\"id\":\"2245\",\"type\":\"PanTool\"},{\"id\":\"2246\",\"type\":\"WheelZoomTool\"},{\"id\":\"2247\",\"type\":\"BoxZoomTool\"},{\"id\":\"2248\",\"type\":\"SaveTool\"},{\"id\":\"2249\",\"type\":\"ResetTool\"},{\"id\":\"2250\",\"type\":\"HelpTool\"},{\"id\":\"2259\",\"type\":\"HoverTool\"}]},\"id\":\"2251\",\"type\":\"Toolbar\"},{\"attributes\":{\"ticker\":{\"id\":\"2342\",\"type\":\"BasicTicker\"}},\"id\":\"2345\",\"type\":\"Grid\"},{\"attributes\":{},\"id\":\"2390\",\"type\":\"BasicTicker\"},{\"attributes\":{\"filters\":[{\"id\":\"2215\",\"type\":\"GroupFilter\"}],\"source\":{\"id\":\"2207\",\"type\":\"ColumnDataSource\"}},\"id\":\"2216\",\"type\":\"CDSView\"},{\"attributes\":{},\"id\":\"2392\",\"type\":\"Selection\"},{\"attributes\":{\"axis_label\":\"DP mean\",\"formatter\":{\"id\":\"2407\",\"type\":\"BasicTickFormatter\"},\"ticker\":{\"id\":\"2289\",\"type\":\"BasicTicker\"}},\"id\":\"2288\",\"type\":\"LinearAxis\"},{\"attributes\":{\"click_policy\":\"hide\",\"items\":[{\"id\":\"2380\",\"type\":\"LegendItem\"},{\"id\":\"2381\",\"type\":\"LegendItem\"}]},\"id\":\"2382\",\"type\":\"Legend\"},{\"attributes\":{},\"id\":\"2385\",\"type\":\"BasicTickFormatter\"},{\"attributes\":{\"callback\":null,\"data\":{\"index\":[0,1,2,3,4,5,6,7,8,9,10,11,12,13,14,15,16,17,18,19,20,21,22,23,24,25,26,27,28,29,30,31,32,33,34,35,36,37,38,39,40,41,42,43,44,45,46,47,48,49,50,51,52,53,54,55,56,57,58,59,60,61,62,63,64,65,66,67,68,69,70,71,72,73,74,75,76,77,78,79,80,81,82,83,84,85,86,87,88,89,90,91,92,93,94,95,96,97,98,99,100,101,102,103,104,105,106,107,108,109,110,111,112,113,114,115,116,117,118,119,120,121,122,123,124,125,126,127,128,129,130,131,132,133,134,135,136,137,138,139,140,141,142,143,144,145,146,147,148,149,150,151,152,153,154,155,156,157,158,159,160,161,162,163,164,165,166,167,168,169,170,171,172,173,174,175,176,177,178,179,180,181,182,183,184,185,186,187,188,189,190,191,192,193,194,195,196,197,198,199,200,201,202,203,204,205,206,207,208,209,210,211,212,213,214,215,216,217,218,219,220,221,222,223,224,225,226,227,228,229,230,231,232,233,234,235,236,237,238,239,240,241,242,243,244,245,246,247,248,249,250,251,252,253,254,255,256,257,258,259,260,261,262,263,264,265,266,267,268,269,270,271,272,273,274,275,276,277,278,279,280,281,282,283,284,285,286,287,288,289,290,291,292,293,294,295,296,297,298,299,300,301,302,303,304,305,306,307,308,309,310,311,312,313,314,315,316,317,318,319,320,321,322,323,324,325,326,327,328,329,330,331,332,333,334,335,336,337,338,339,340,341,342,343,344,345,346,347,348,349,350,351,352,353,354,355,356,357,358,359,360,361,362,363,364],\"label\":[\"false\",\"false\",\"false\",\"false\",\"false\",\"false\",\"false\",\"false\",\"false\",\"false\",\"false\",\"false\",\"false\",\"false\",\"false\",\"false\",\"false\",\"false\",\"false\",\"false\",\"false\",\"false\",\"false\",\"false\",\"false\",\"false\",\"false\",\"false\",\"false\",\"false\",\"false\",\"false\",\"false\",\"false\",\"false\",\"false\",\"false\",\"false\",\"false\",\"false\",\"false\",\"false\",\"false\",\"false\",\"false\",\"false\",\"false\",\"false\",\"false\",\"false\",\"false\",\"false\",\"false\",\"false\",\"false\",\"false\",\"false\",\"false\",\"false\",\"false\",\"false\",\"false\",\"false\",\"false\",\"false\",\"false\",\"false\",\"false\",\"false\",\"false\",\"false\",\"false\",\"false\",\"false\",\"false\",\"false\",\"false\",\"false\",\"false\",\"false\",\"false\",\"false\",\"false\",\"false\",\"false\",\"false\",\"false\",\"false\",\"false\",\"false\",\"false\",\"false\",\"false\",\"false\",\"false\",\"false\",\"false\",\"false\",\"false\",\"false\",\"false\",\"false\",\"false\",\"false\",\"false\",\"false\",\"false\",\"false\",\"false\",\"false\",\"false\",\"false\",\"false\",\"false\",\"false\",\"false\",\"false\",\"false\",\"false\",\"false\",\"false\",\"false\",\"false\",\"false\",\"false\",\"false\",\"false\",\"false\",\"false\",\"false\",\"false\",\"false\",\"false\",\"false\",\"false\",\"false\",\"false\",\"false\",\"false\",\"false\",\"false\",\"false\",\"false\",\"false\",\"false\",\"false\",\"false\",\"false\",\"false\",\"false\",\"false\",\"false\",\"false\",\"false\",\"false\",\"false\",\"false\",\"false\",\"false\",\"false\",\"false\",\"false\",\"false\",\"false\",\"false\",\"false\",\"false\",\"false\",\"false\",\"false\",\"false\",\"false\",\"false\",\"false\",\"false\",\"false\",\"false\",\"false\",\"false\",\"false\",\"false\",\"false\",\"false\",\"false\",\"false\",\"false\",\"false\",\"false\",\"false\",\"false\",\"false\",\"false\",\"false\",\"false\",\"false\",\"false\",\"false\",\"false\",\"false\",\"false\",\"false\",\"false\",\"false\",\"false\",\"false\",\"false\",\"false\",\"false\",\"false\",\"false\",\"false\",\"false\",\"false\",\"false\",\"false\",\"false\",\"false\",\"false\",\"false\",\"false\",\"false\",\"false\",\"false\",\"false\",\"false\",\"false\",\"false\",\"false\",\"false\",\"false\",\"false\",\"false\",\"false\",\"false\",\"false\",\"false\",\"false\",\"false\",\"false\",\"false\",\"false\",\"false\",\"false\",\"false\",\"false\",\"false\",\"false\",\"false\",\"false\",\"false\",\"false\",\"false\",\"false\",\"false\",\"true\",\"false\",\"false\",\"false\",\"false\",\"false\",\"false\",\"false\",\"false\",\"false\",\"false\",\"false\",\"false\",\"false\",\"false\",\"false\",\"false\",\"false\",\"false\",\"false\",\"false\",\"false\",\"false\",\"false\",\"false\",\"false\",\"false\",\"false\",\"false\",\"false\",\"false\",\"false\",\"false\",\"false\",\"false\",\"false\",\"false\",\"false\",\"false\",\"false\",\"false\",\"false\",\"false\",\"false\",\"false\",\"false\",\"false\",\"false\",\"false\",\"false\",\"false\",\"false\",\"false\",\"false\",\"false\",\"false\",\"false\",\"false\",\"false\",\"false\",\"false\",\"false\",\"false\",\"false\",\"false\",\"false\",\"false\",\"false\",\"false\",\"true\",\"false\",\"false\",\"false\",\"false\",\"false\",\"false\",\"false\",\"false\",\"false\",\"false\",\"false\",\"false\",\"false\",\"true\",\"false\",\"false\",\"false\",\"false\",\"false\",\"false\",\"false\",\"false\",\"false\",\"false\",\"false\",\"false\",\"false\",\"false\",\"false\",\"false\",\"true\",\"false\",\"false\",\"false\",\"false\",\"false\",\"false\",\"false\",\"false\",\"false\",\"false\"],\"x\":{\"__ndarray__\":\"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\",\"dtype\":\"float64\",\"shape\":[365]},\"y\":{\"__ndarray__\":\"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\",\"dtype\":\"float64\",\"shape\":[365]}},\"selected\":{\"id\":\"2392\",\"type\":\"Selection\"},\"selection_policy\":{\"id\":\"2393\",\"type\":\"UnionRenderers\"}},\"id\":\"2207\",\"type\":\"ColumnDataSource\"},{\"attributes\":{\"callback\":null},\"id\":\"2174\",\"type\":\"DataRange1d\"},{\"attributes\":{},\"id\":\"2339\",\"type\":\"LinearScale\"},{\"attributes\":{},\"id\":\"2236\",\"type\":\"BasicTicker\"},{\"attributes\":{},\"id\":\"2423\",\"type\":\"BasicTicker\"},{\"attributes\":{\"callback\":null,\"data\":{\"index\":[0,1,2,3,4,5,6,7,8,9,10,11,12,13,14,15,16,17,18,19,20,21,22,23,24,25,26,27,28,29,30,31,32,33,34,35,36,37,38,39,40,41,42,43,44,45,46,47,48,49,50,51,52,53,54,55,56,57,58,59,60,61,62,63,64,65,66,67,68,69,70,71,72,73,74,75,76,77,78,79,80,81,82,83,84,85,86,87,88,89,90,91,92,93,94,95,96,97,98,99,100,101,102,103,104,105,106,107,108,109,110,111,112,113,114,115,116,117,118,119,120,121,122,123,124,125,126,127,128,129,130,131,132,133,134,135,136,137,138,139,140,141,142,143,144,145,146,147,148,149,150,151,152,153,154,155,156,157,158,159,160,161,162,163,164,165,166,167,168,169,170,171,172,173,174,175,176,177,178,179,180,181,182,183,184,185,186,187,188,189,190,191,192,193,194,195,196,197,198,199,200,201,202,203,204,205,206,207,208,209,210,211,212,213,214,215,216,217,218,219,220,221,222,223,224,225,226,227,228,229,230,231,232,233,234,235,236,237,238,239,240,241,242,243,244,245,246,247,248,249,250,251,252,253,254,255,256,257,258,259,260,261,262,263,264,265,266,267,268,269,270,271,272,273,274,275,276,277,278,279,280,281,282,283,284,285,286,287,288,289,290,291,292,293,294,295,296,297,298,299,300,301,302,303,304,305,306,307,308,309,310,311,312,313,314,315,316,317,318,319,320,321,322,323,324,325,326,327,328,329,330,331,332,333,334,335,336,337,338,339,340,341,342,343,344,345,346,347,348,349,350,351],\"label\":[\"false\",\"false\",\"false\",\"false\",\"false\",\"false\",\"false\",\"false\",\"false\",\"false\",\"false\",\"false\",\"false\",\"false\",\"false\",\"false\",\"false\",\"false\",\"false\",\"false\",\"false\",\"false\",\"false\",\"false\",\"false\",\"false\",\"false\",\"false\",\"false\",\"false\",\"false\",\"false\",\"false\",\"false\",\"false\",\"false\",\"false\",\"false\",\"false\",\"false\",\"false\",\"false\",\"false\",\"false\",\"false\",\"false\",\"false\",\"false\",\"false\",\"false\",\"false\",\"false\",\"false\",\"false\",\"false\",\"false\",\"false\",\"false\",\"false\",\"false\",\"false\",\"false\",\"false\",\"false\",\"false\",\"false\",\"false\",\"false\",\"false\",\"false\",\"false\",\"false\",\"false\",\"false\",\"false\",\"false\",\"false\",\"false\",\"false\",\"false\",\"false\",\"false\",\"false\",\"false\",\"false\",\"false\",\"false\",\"false\",\"false\",\"false\",\"false\",\"false\",\"false\",\"false\",\"false\",\"false\",\"false\",\"false\",\"false\",\"false\",\"false\",\"false\",\"false\",\"false\",\"false\",\"false\",\"false\",\"false\",\"false\",\"false\",\"false\",\"false\",\"false\",\"false\",\"false\",\"false\",\"false\",\"false\",\"false\",\"false\",\"false\",\"false\",\"false\",\"false\",\"false\",\"false\",\"false\",\"false\",\"false\",\"false\",\"false\",\"false\",\"false\",\"false\",\"false\",\"false\",\"false\",\"false\",\"false\",\"false\",\"false\",\"false\",\"false\",\"false\",\"false\",\"false\",\"false\",\"false\",\"false\",\"false\",\"false\",\"false\",\"false\",\"false\",\"false\",\"false\",\"false\",\"false\",\"false\",\"false\",\"false\",\"false\",\"false\",\"false\",\"false\",\"false\",\"false\",\"false\",\"false\",\"false\",\"false\",\"false\",\"false\",\"false\",\"false\",\"false\",\"false\",\"false\",\"false\",\"false\",\"false\",\"false\",\"false\",\"false\",\"false\",\"false\",\"false\",\"false\",\"false\",\"false\",\"false\",\"false\",\"false\",\"false\",\"false\",\"false\",\"false\",\"false\",\"false\",\"false\",\"false\",\"false\",\"false\",\"false\",\"false\",\"false\",\"false\",\"false\",\"false\",\"false\",\"false\",\"false\",\"false\",\"false\",\"false\",\"false\",\"false\",\"false\",\"false\",\"false\",\"false\",\"false\",\"false\",\"false\",\"false\",\"false\",\"false\",\"false\",\"false\",\"false\",\"false\",\"false\",\"false\",\"false\",\"false\",\"false\",\"false\",\"false\",\"true\",\"false\",\"false\",\"false\",\"false\",\"false\",\"false\",\"false\",\"false\",\"false\",\"false\",\"false\",\"false\",\"false\",\"false\",\"false\",\"false\",\"false\",\"false\",\"false\",\"false\",\"false\",\"false\",\"false\",\"false\",\"false\",\"false\",\"false\",\"false\",\"false\",\"false\",\"false\",\"false\",\"false\",\"false\",\"false\",\"false\",\"false\",\"false\",\"false\",\"false\",\"false\",\"false\",\"false\",\"false\",\"false\",\"false\",\"false\",\"false\",\"false\",\"false\",\"false\",\"false\",\"false\",\"false\",\"false\",\"false\",\"false\",\"false\",\"false\",\"false\",\"false\",\"false\",\"false\",\"false\",\"false\",\"false\",\"false\",\"false\",\"false\",\"false\",\"true\",\"false\",\"false\",\"false\",\"false\",\"false\",\"false\",\"false\",\"false\",\"false\",\"false\",\"false\",\"false\",\"false\",\"false\",\"true\",\"false\",\"false\",\"false\",\"false\",\"false\",\"false\",\"false\",\"false\",\"false\",\"false\",\"false\",\"false\",\"false\",\"false\",\"false\",\"false\",\"true\",\"false\",\"false\",\"false\",\"false\",\"false\",\"false\",\"false\",\"false\",\"false\",\"false\"],\"x\":{\"__ndarray__\":\"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\",\"dtype\":\"float64\",\"shape\":[352]},\"y\":{\"__ndarray__\":\"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\",\"dtype\":\"float64\",\"shape\":[352]}},\"selected\":{\"id\":\"2403\",\"type\":\"Selection\"},\"selection_policy\":{\"id\":\"2404\",\"type\":\"UnionRenderers\"}},\"id\":\"2260\",\"type\":\"ColumnDataSource\"},{\"attributes\":{\"fill_color\":{\"field\":\"label\",\"transform\":{\"id\":\"2367\",\"type\":\"CategoricalColorMapper\"}},\"line_color\":{\"field\":\"label\",\"transform\":{\"id\":\"2367\",\"type\":\"CategoricalColorMapper\"}},\"x\":{\"field\":\"x\"},\"y\":{\"field\":\"y\"}},\"id\":\"2377\",\"type\":\"Circle\"},{\"attributes\":{},\"id\":\"2351\",\"type\":\"PanTool\"},{\"attributes\":{\"fill_color\":{\"field\":\"label\",\"transform\":{\"id\":\"2208\",\"type\":\"CategoricalColorMapper\"}},\"line_color\":{\"field\":\"label\",\"transform\":{\"id\":\"2208\",\"type\":\"CategoricalColorMapper\"}},\"x\":{\"field\":\"x\"},\"y\":{\"field\":\"y\"}},\"id\":\"2212\",\"type\":\"Circle\"},{\"attributes\":{\"fill_alpha\":{\"value\":0.1},\"fill_color\":{\"value\":\"#1f77b4\"},\"line_alpha\":{\"value\":0.1},\"line_color\":{\"value\":\"#1f77b4\"},\"x\":{\"field\":\"x\"},\"y\":{\"field\":\"y\"}},\"id\":\"2266\",\"type\":\"Circle\"},{\"attributes\":{},\"id\":\"2352\",\"type\":\"WheelZoomTool\"},{\"attributes\":{\"dimension\":1,\"ticker\":{\"id\":\"2188\",\"type\":\"BasicTicker\"}},\"id\":\"2191\",\"type\":\"Grid\"},{\"attributes\":{},\"id\":\"2286\",\"type\":\"LinearScale\"},{\"attributes\":{\"callback\":null},\"id\":\"2227\",\"type\":\"DataRange1d\"},{\"attributes\":{\"active_drag\":\"auto\",\"active_inspect\":\"auto\",\"active_multi\":null,\"active_scroll\":\"auto\",\"active_tap\":\"auto\",\"tools\":[{\"id\":\"2351\",\"type\":\"PanTool\"},{\"id\":\"2352\",\"type\":\"WheelZoomTool\"},{\"id\":\"2353\",\"type\":\"BoxZoomTool\"},{\"id\":\"2354\",\"type\":\"SaveTool\"},{\"id\":\"2355\",\"type\":\"ResetTool\"},{\"id\":\"2356\",\"type\":\"HelpTool\"},{\"id\":\"2365\",\"type\":\"HoverTool\"}]},\"id\":\"2357\",\"type\":\"Toolbar\"},{\"attributes\":{\"fill_color\":{\"field\":\"label\",\"transform\":{\"id\":\"2261\",\"type\":\"CategoricalColorMapper\"}},\"line_color\":{\"field\":\"label\",\"transform\":{\"id\":\"2261\",\"type\":\"CategoricalColorMapper\"}},\"x\":{\"field\":\"x\"},\"y\":{\"field\":\"y\"}},\"id\":\"2265\",\"type\":\"Circle\"},{\"attributes\":{},\"id\":\"2426\",\"type\":\"UnionRenderers\"},{\"attributes\":{},\"id\":\"2178\",\"type\":\"LinearScale\"},{\"attributes\":{\"filters\":[{\"id\":\"2209\",\"type\":\"GroupFilter\"}],\"source\":{\"id\":\"2207\",\"type\":\"ColumnDataSource\"}},\"id\":\"2210\",\"type\":\"CDSView\"},{\"attributes\":{\"filters\":[{\"id\":\"2268\",\"type\":\"GroupFilter\"}],\"source\":{\"id\":\"2260\",\"type\":\"ColumnDataSource\"}},\"id\":\"2269\",\"type\":\"CDSView\"},{\"attributes\":{\"axis_label\":\"Call rate\",\"formatter\":{\"id\":\"2409\",\"type\":\"BasicTickFormatter\"},\"ticker\":{\"id\":\"2294\",\"type\":\"BasicTicker\"}},\"id\":\"2293\",\"type\":\"LinearAxis\"},{\"attributes\":{\"column_name\":\"label\",\"group\":\"false\"},\"id\":\"2209\",\"type\":\"GroupFilter\"},{\"attributes\":{\"overlay\":{\"id\":\"2424\",\"type\":\"BoxAnnotation\"}},\"id\":\"2353\",\"type\":\"BoxZoomTool\"},{\"attributes\":{\"axis_label\":\"DP mean\",\"formatter\":{\"id\":\"2385\",\"type\":\"BasicTickFormatter\"},\"ticker\":{\"id\":\"2183\",\"type\":\"BasicTicker\"}},\"id\":\"2182\",\"type\":\"LinearAxis\"},{\"attributes\":{\"data_source\":{\"id\":\"2207\",\"type\":\"ColumnDataSource\"},\"glyph\":{\"id\":\"2212\",\"type\":\"Circle\"},\"hover_glyph\":null,\"muted_glyph\":null,\"nonselection_glyph\":{\"id\":\"2213\",\"type\":\"Circle\"},\"selection_glyph\":null,\"view\":{\"id\":\"2210\",\"type\":\"CDSView\"}},\"id\":\"2214\",\"type\":\"GlyphRenderer\"},{\"attributes\":{\"factors\":[\"false\",\"true\"],\"palette\":[\"#1f77b4\",\"#ff7f0e\",\"#2ca02c\",\"#d62728\",\"#9467bd\",\"#8c564b\",\"#e377c2\",\"#7f7f7f\",\"#bcbd22\",\"#17becf\"]},\"id\":\"2208\",\"type\":\"CategoricalColorMapper\"},{\"attributes\":{\"below\":[{\"id\":\"2235\",\"type\":\"LinearAxis\"}],\"center\":[{\"id\":\"2239\",\"type\":\"Grid\"},{\"id\":\"2244\",\"type\":\"Grid\"}],\"left\":[{\"id\":\"2240\",\"type\":\"LinearAxis\"},{\"id\":\"2276\",\"type\":\"Legend\"},{\"id\":\"2277\",\"type\":\"ColorBar\"}],\"plot_height\":400,\"plot_width\":600,\"renderers\":[{\"id\":\"2267\",\"type\":\"GlyphRenderer\"},{\"id\":\"2273\",\"type\":\"GlyphRenderer\"}],\"title\":null,\"toolbar\":{\"id\":\"2251\",\"type\":\"Toolbar\"},\"toolbar_location\":null,\"x_range\":{\"id\":\"2227\",\"type\":\"DataRange1d\"},\"x_scale\":{\"id\":\"2231\",\"type\":\"LinearScale\"},\"y_range\":{\"id\":\"2229\",\"type\":\"DataRange1d\"},\"y_scale\":{\"id\":\"2233\",\"type\":\"LinearScale\"}},\"id\":\"2225\",\"subtype\":\"Figure\",\"type\":\"Plot\"},{\"attributes\":{},\"id\":\"2355\",\"type\":\"ResetTool\"},{\"attributes\":{\"ticker\":{\"id\":\"2236\",\"type\":\"BasicTicker\"}},\"id\":\"2239\",\"type\":\"Grid\"},{\"attributes\":{},\"id\":\"2183\",\"type\":\"BasicTicker\"},{\"attributes\":{\"factors\":[\"false\",\"true\"],\"palette\":[\"#1f77b4\",\"#ff7f0e\",\"#2ca02c\",\"#d62728\",\"#9467bd\",\"#8c564b\",\"#e377c2\",\"#7f7f7f\",\"#bcbd22\",\"#17becf\"]},\"id\":\"2261\",\"type\":\"CategoricalColorMapper\"},{\"attributes\":{},\"id\":\"2180\",\"type\":\"LinearScale\"},{\"attributes\":{},\"id\":\"2354\",\"type\":\"SaveTool\"},{\"attributes\":{\"fill_alpha\":{\"value\":0.1},\"fill_color\":{\"value\":\"#1f77b4\"},\"line_alpha\":{\"value\":0.1},\"line_color\":{\"value\":\"#1f77b4\"},\"x\":{\"field\":\"x\"},\"y\":{\"field\":\"y\"}},\"id\":\"2213\",\"type\":\"Circle\"},{\"attributes\":{\"data_source\":{\"id\":\"2366\",\"type\":\"ColumnDataSource\"},\"glyph\":{\"id\":\"2377\",\"type\":\"Circle\"},\"hover_glyph\":null,\"muted_glyph\":null,\"nonselection_glyph\":{\"id\":\"2378\",\"type\":\"Circle\"},\"selection_glyph\":null,\"view\":{\"id\":\"2375\",\"type\":\"CDSView\"}},\"id\":\"2379\",\"type\":\"GlyphRenderer\"},{\"attributes\":{\"label\":{\"value\":\"false\"},\"renderers\":[{\"id\":\"2267\",\"type\":\"GlyphRenderer\"}]},\"id\":\"2274\",\"type\":\"LegendItem\"},{\"attributes\":{\"callback\":null},\"id\":\"2229\",\"type\":\"DataRange1d\"},{\"attributes\":{},\"id\":\"2289\",\"type\":\"BasicTicker\"},{\"attributes\":{\"overlay\":{\"id\":\"2391\",\"type\":\"BoxAnnotation\"}},\"id\":\"2194\",\"type\":\"BoxZoomTool\"},{\"attributes\":{\"callback\":null,\"tooltips\":[[\"x\",\"@x\"],[\"y\",\"@y\"],[\"label\",\"@label\"]]},\"id\":\"2365\",\"type\":\"HoverTool\"},{\"attributes\":{\"label\":{\"value\":\"false\"},\"renderers\":[{\"id\":\"2214\",\"type\":\"GlyphRenderer\"}]},\"id\":\"2221\",\"type\":\"LegendItem\"},{\"attributes\":{\"ticker\":{\"id\":\"2183\",\"type\":\"BasicTicker\"}},\"id\":\"2186\",\"type\":\"Grid\"},{\"attributes\":{\"data_source\":{\"id\":\"2260\",\"type\":\"ColumnDataSource\"},\"glyph\":{\"id\":\"2265\",\"type\":\"Circle\"},\"hover_glyph\":null,\"muted_glyph\":null,\"nonselection_glyph\":{\"id\":\"2266\",\"type\":\"Circle\"},\"selection_glyph\":null,\"view\":{\"id\":\"2263\",\"type\":\"CDSView\"}},\"id\":\"2267\",\"type\":\"GlyphRenderer\"},{\"attributes\":{},\"id\":\"2400\",\"type\":\"BasicTickFormatter\"},{\"attributes\":{},\"id\":\"2356\",\"type\":\"HelpTool\"},{\"attributes\":{\"fill_color\":{\"field\":\"label\",\"transform\":{\"id\":\"2208\",\"type\":\"CategoricalColorMapper\"}},\"line_color\":{\"field\":\"label\",\"transform\":{\"id\":\"2208\",\"type\":\"CategoricalColorMapper\"}},\"x\":{\"field\":\"x\"},\"y\":{\"field\":\"y\"}},\"id\":\"2218\",\"type\":\"Circle\"},{\"attributes\":{\"column_name\":\"label\",\"group\":\"true\"},\"id\":\"2215\",\"type\":\"GroupFilter\"},{\"attributes\":{},\"id\":\"2233\",\"type\":\"LinearScale\"},{\"attributes\":{},\"id\":\"2422\",\"type\":\"BasicTickFormatter\"},{\"attributes\":{\"fill_alpha\":{\"value\":0.1},\"fill_color\":{\"value\":\"#1f77b4\"},\"line_alpha\":{\"value\":0.1},\"line_color\":{\"value\":\"#1f77b4\"},\"x\":{\"field\":\"x\"},\"y\":{\"field\":\"y\"}},\"id\":\"2378\",\"type\":\"Circle\"},{\"attributes\":{\"callback\":null},\"id\":\"2280\",\"type\":\"DataRange1d\"},{\"attributes\":{\"fill_color\":{\"field\":\"label\",\"transform\":{\"id\":\"2261\",\"type\":\"CategoricalColorMapper\"}},\"line_color\":{\"field\":\"label\",\"transform\":{\"id\":\"2261\",\"type\":\"CategoricalColorMapper\"}},\"x\":{\"field\":\"x\"},\"y\":{\"field\":\"y\"}},\"id\":\"2271\",\"type\":\"Circle\"},{\"attributes\":{\"axis_label\":\"# heterozygotes\",\"formatter\":{\"id\":\"2387\",\"type\":\"BasicTickFormatter\"},\"ticker\":{\"id\":\"2188\",\"type\":\"BasicTicker\"}},\"id\":\"2187\",\"type\":\"LinearAxis\"},{\"attributes\":{\"column_name\":\"label\",\"group\":\"true\"},\"id\":\"2268\",\"type\":\"GroupFilter\"},{\"attributes\":{\"below\":[{\"id\":\"2182\",\"type\":\"LinearAxis\"}],\"center\":[{\"id\":\"2186\",\"type\":\"Grid\"},{\"id\":\"2191\",\"type\":\"Grid\"}],\"left\":[{\"id\":\"2187\",\"type\":\"LinearAxis\"},{\"id\":\"2223\",\"type\":\"Legend\"},{\"id\":\"2224\",\"type\":\"ColorBar\"}],\"plot_height\":400,\"plot_width\":600,\"renderers\":[{\"id\":\"2214\",\"type\":\"GlyphRenderer\"},{\"id\":\"2220\",\"type\":\"GlyphRenderer\"}],\"title\":null,\"toolbar\":{\"id\":\"2198\",\"type\":\"Toolbar\"},\"toolbar_location\":null,\"x_range\":{\"id\":\"2174\",\"type\":\"DataRange1d\"},\"x_scale\":{\"id\":\"2178\",\"type\":\"LinearScale\"},\"y_range\":{\"id\":\"2176\",\"type\":\"DataRange1d\"},\"y_scale\":{\"id\":\"2180\",\"type\":\"LinearScale\"}},\"id\":\"2172\",\"subtype\":\"Figure\",\"type\":\"Plot\"},{\"attributes\":{},\"id\":\"2188\",\"type\":\"BasicTicker\"},{\"attributes\":{\"column_name\":\"label\",\"group\":\"false\"},\"id\":\"2368\",\"type\":\"GroupFilter\"},{\"attributes\":{\"bottom_units\":\"screen\",\"fill_alpha\":{\"value\":0.5},\"fill_color\":{\"value\":\"lightgrey\"},\"left_units\":\"screen\",\"level\":\"overlay\",\"line_alpha\":{\"value\":1.0},\"line_color\":{\"value\":\"black\"},\"line_dash\":[4,4],\"line_width\":{\"value\":2},\"render_mode\":\"css\",\"right_units\":\"screen\",\"top_units\":\"screen\"},\"id\":\"2424\",\"type\":\"BoxAnnotation\"},{\"attributes\":{\"fill_alpha\":{\"value\":0.1},\"fill_color\":{\"value\":\"#1f77b4\"},\"line_alpha\":{\"value\":0.1},\"line_color\":{\"value\":\"#1f77b4\"},\"x\":{\"field\":\"x\"},\"y\":{\"field\":\"y\"}},\"id\":\"2219\",\"type\":\"Circle\"},{\"attributes\":{\"fill_alpha\":{\"value\":0.1},\"fill_color\":{\"value\":\"#1f77b4\"},\"line_alpha\":{\"value\":0.1},\"line_color\":{\"value\":\"#1f77b4\"},\"x\":{\"field\":\"x\"},\"y\":{\"field\":\"y\"}},\"id\":\"2272\",\"type\":\"Circle\"},{\"attributes\":{\"callback\":null,\"data\":{\"index\":[0,1,2,3,4,5,6,7,8,9,10,11,12,13,14,15,16,17,18,19,20,21,22,23,24,25,26,27,28,29,30,31,32,33,34,35,36,37,38,39,40,41,42,43,44,45,46,47,48,49,50,51,52,53,54,55,56,57,58,59,60,61,62,63,64,65,66,67,68,69,70,71,72,73,74,75,76,77,78,79,80,81,82,83,84,85,86,87,88,89,90,91,92,93,94,95,96,97,98,99,100,101,102,103,104,105,106,107,108,109,110,111,112,113,114,115,116,117,118,119,120,121,122,123,124,125,126,127,128,129,130,131,132,133,134,135,136,137,138,139,140,141,142,143,144,145,146,147,148,149,150,151,152,153,154,155,156,157,158,159,160,161,162,163,164,165,166,167,168,169,170,171,172,173,174,175,176,177,178,179,180,181,182,183,184,185,186,187,188,189],\"label\":[\"false\",\"false\",\"false\",\"false\",\"false\",\"false\",\"false\",\"false\",\"false\",\"false\",\"false\",\"false\",\"false\",\"false\",\"false\",\"false\",\"false\",\"false\",\"false\",\"false\",\"false\",\"false\",\"false\",\"false\",\"false\",\"false\",\"false\",\"false\",\"false\",\"false\",\"false\",\"false\",\"false\",\"false\",\"false\",\"false\",\"false\",\"false\",\"false\",\"false\",\"false\",\"false\",\"false\",\"false\",\"false\",\"false\",\"false\",\"false\",\"false\",\"false\",\"false\",\"false\",\"false\",\"false\",\"false\",\"false\",\"false\",\"false\",\"false\",\"false\",\"false\",\"false\",\"false\",\"false\",\"false\",\"false\",\"false\",\"false\",\"false\",\"false\",\"false\",\"false\",\"false\",\"false\",\"false\",\"false\",\"false\",\"false\",\"false\",\"false\",\"false\",\"false\",\"false\",\"false\",\"false\",\"false\",\"false\",\"false\",\"false\",\"false\",\"false\",\"false\",\"false\",\"false\",\"false\",\"false\",\"false\",\"false\",\"false\",\"false\",\"false\",\"false\",\"false\",\"false\",\"false\",\"false\",\"false\",\"false\",\"false\",\"false\",\"false\",\"false\",\"false\",\"false\",\"false\",\"false\",\"false\",\"true\",\"false\",\"false\",\"false\",\"false\",\"false\",\"false\",\"false\",\"false\",\"false\",\"false\",\"false\",\"false\",\"false\",\"false\",\"false\",\"false\",\"false\",\"false\",\"false\",\"false\",\"false\",\"false\",\"false\",\"false\",\"false\",\"false\",\"false\",\"false\",\"false\",\"false\",\"false\",\"false\",\"false\",\"false\",\"false\",\"false\",\"true\",\"false\",\"false\",\"false\",\"false\",\"false\",\"false\",\"false\",\"false\",\"false\",\"true\",\"false\",\"false\",\"false\",\"false\",\"false\",\"false\",\"false\",\"false\",\"false\",\"false\",\"false\",\"false\",\"false\",\"false\",\"false\",\"true\",\"false\",\"false\",\"false\",\"false\",\"false\",\"false\",\"false\",\"false\",\"false\"],\"x\":{\"__ndarray__\":\"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\",\"dtype\":\"float64\",\"shape\":[190]},\"y\":{\"__ndarray__\":\"AAAAAAAAAAAAAAAAAADwPwAAAAAAAAAAAAAAAAAAAAAAAAAAAAAAAAAAAAAAAAAAAAAAAAAAAAAAAAAAAAAAAAAAAAAAAAAAAAAAAAAA8D8AAAAAAAAAAAAAAAAAAPA/AAAAAAAAAAAAAAAAAADwPwAAAAAAAPA/AAAAAAAA8D8AAAAAAAAAAAAAAAAAAAAAAAAAAAAAAAAAAAAAAAAAAAAAAAAAAPA/AAAAAAAAAAAAAAAAAAAAAAAAAAAAAAAAAAAAAAAAAAAAAAAAAAAAAAAAAAAAAAAAAAAAAAAAAAAAAAAAAAAAAAAAAAAAAAAAAAAAAAAAAAAAAAAAAAAAAAAAAAAAAAAAAAAAAAAAAAAAAAAAAAAAAAAAAAAAAAAAAAAAAAAAAAAAAAAAAAAAAAAAAAAAAAAAAAAAAAAAAAAAAAAAAAAAAAAAAAAAAAAAAAAAAAAAAAAAAAAAAADwPwAAAAAAAAAAAAAAAAAAAAAAAAAAAAAAAAAAAAAAAAAAAAAAAAAAAAAAAAAAAADwPwAAAAAAAAAAAAAAAAAA8D8AAAAAAAAAAAAAAAAAAAAAAAAAAAAAAAAAAAAAAAAAAAAAAAAAAAAAAAAAAAAAAAAAAAAAAAAAAAAAAAAAAAAAAAAAAAAAAAAAAAAAAAAAAAAAAAAAAAAAAAAAAAAAAAAAAAAAAAAAAAAAAAAAAAAAAAAAAAAAAAAAAAAAAAAAAAAAAAAAAAAAAAAAAAAAAAAAAAAAAAAAAAAAAAAAAAAAAAAAAAAAAAAAAAAAAAAAAAAAAAAAAAAAAAAAAAAAAAAAAAAAAAAAAAAAAAAAAAAAAAAAAAAAAAAAAAAAAAAAAAAAAAAAAAAAAAAAAAAAAAAAAAAAAAAAAAAAAAAAAAAAAAAAAAAAAAAAAAAAAAAAAAAAAAAAAAAAAAAAAAAA8D8AAAAAAAAAAAAAAAAAAPA/AAAAAAAAAAAAAAAAAAAAAAAAAAAAAAAAAAAAAAAAAAAAAAAAAAAAAAAAAAAAAAAAAAAAAAAAAAAAAAAAAAAAAAAAAAAAAAAAAAAAAAAA8D8AAAAAAAAAAAAAAAAAAAAAAAAAAAAAAAAAAAAAAAAAAAAAAAAAAAAAAAAAAAAAAAAAAAAAAAAAAAAAAAAAAAAAAAAAAAAAAAAAAAAAAADwPwAAAAAAAAAAAAAAAAAAAAAAAAAAAADwPwAAAAAAAAAAAAAAAAAAAAAAAAAAAAAAAAAAAAAAAAAAAAAAAAAA8D8AAAAAAAAAAAAAAAAAAAAAAAAAAAAAAAAAAAAAAADwPwAAAAAAAAAAAAAAAAAAAAAAAAAAAAAAAAAAAAAAAAAAAAAAAAAAAAAAAAAAAAAAAAAAAAAAAPA/AAAAAAAAAAAAAAAAAAAAAAAAAAAAAAAAAAAAAAAAAAAAAAAAAAAAAAAAAAAAAAAAAAAAAAAAAAAAAAAAAAAAAAAAAAAAAAAAAAAAAAAAAAAAAAAAAAAAAAAAAAAAAAAAAAAAAAAAAAAAAAAAAAAAAAAAAAAAAAAAAAAAAAAAAAAAAAAAAAAAAAAAAAAAAAAAAAAAAAAAAAAAAAAAAAAAAAAAAAAAAPA/AAAAAAAAAAAAAAAAAAAAAAAAAAAAAAAAAAAAAAAAAAAAAAAAAAAAAAAAAAAAAPA/AAAAAAAAAAAAAAAAAAAAAAAAAAAAAAAAAAAAAAAAAAAAAAAAAADwPwAAAAAAAAAAAAAAAAAAAAAAAAAAAAAAAAAAAAAAAAAAAAAAAAAAAAAAAAAAAAAAAAAAAAAAAAAAAAAAAAAAAAAAAAAAAAAAAAAAAAAAAAAAAAAAAAAAAAAAAAAAAAAAAAAAAAAAAAAAAAAAAAAAAAAAAAAAAAAAAAAAAAAAAAAAAAAAAAAAAAAAAAAAAAAAAAAAAAAAAAAAAAAAAAAA8D8AAAAAAAAAAAAAAAAAAAAAAAAAAAAAAAAAAAAAAAAAAAAAAAAAAAAAAAAAAAAAAAAAAAAAAAAUQAAAAAAAAAAAAAAAAAAA8D8=\",\"dtype\":\"float64\",\"shape\":[190]}},\"selected\":{\"id\":\"2425\",\"type\":\"Selection\"},\"selection_policy\":{\"id\":\"2426\",\"type\":\"UnionRenderers\"}},\"id\":\"2366\",\"type\":\"ColumnDataSource\"},{\"attributes\":{\"data_source\":{\"id\":\"2207\",\"type\":\"ColumnDataSource\"},\"glyph\":{\"id\":\"2218\",\"type\":\"Circle\"},\"hover_glyph\":null,\"muted_glyph\":null,\"nonselection_glyph\":{\"id\":\"2219\",\"type\":\"Circle\"},\"selection_glyph\":null,\"view\":{\"id\":\"2216\",\"type\":\"CDSView\"}},\"id\":\"2220\",\"type\":\"GlyphRenderer\"},{\"attributes\":{\"label\":{\"value\":\"true\"},\"renderers\":[{\"id\":\"2379\",\"type\":\"GlyphRenderer\"}]},\"id\":\"2381\",\"type\":\"LegendItem\"},{\"attributes\":{\"data_source\":{\"id\":\"2260\",\"type\":\"ColumnDataSource\"},\"glyph\":{\"id\":\"2271\",\"type\":\"Circle\"},\"hover_glyph\":null,\"muted_glyph\":null,\"nonselection_glyph\":{\"id\":\"2272\",\"type\":\"Circle\"},\"selection_glyph\":null,\"view\":{\"id\":\"2269\",\"type\":\"CDSView\"}},\"id\":\"2273\",\"type\":\"GlyphRenderer\"},{\"attributes\":{\"color_mapper\":null,\"formatter\":{\"id\":\"2422\",\"type\":\"BasicTickFormatter\"},\"ticker\":{\"id\":\"2423\",\"type\":\"BasicTicker\"},\"visible\":false},\"id\":\"2383\",\"type\":\"ColorBar\"},{\"attributes\":{},\"id\":\"2193\",\"type\":\"WheelZoomTool\"},{\"attributes\":{\"toolbar\":{\"id\":\"2429\",\"type\":\"ProxyToolbar\"},\"toolbar_location\":\"above\"},\"id\":\"2430\",\"type\":\"ToolbarBox\"},{\"attributes\":{\"click_policy\":\"hide\",\"items\":[{\"id\":\"2221\",\"type\":\"LegendItem\"},{\"id\":\"2222\",\"type\":\"LegendItem\"}]},\"id\":\"2223\",\"type\":\"Legend\"},{\"attributes\":{\"click_policy\":\"hide\",\"items\":[{\"id\":\"2274\",\"type\":\"LegendItem\"},{\"id\":\"2275\",\"type\":\"LegendItem\"}]},\"id\":\"2276\",\"type\":\"Legend\"},{\"attributes\":{},\"id\":\"2195\",\"type\":\"SaveTool\"},{\"attributes\":{\"label\":{\"value\":\"true\"},\"renderers\":[{\"id\":\"2220\",\"type\":\"GlyphRenderer\"}]},\"id\":\"2222\",\"type\":\"LegendItem\"},{\"attributes\":{\"column_name\":\"label\",\"group\":\"false\"},\"id\":\"2315\",\"type\":\"GroupFilter\"},{\"attributes\":{\"color_mapper\":null,\"formatter\":{\"id\":\"2400\",\"type\":\"BasicTickFormatter\"},\"ticker\":{\"id\":\"2401\",\"type\":\"BasicTicker\"},\"visible\":false},\"id\":\"2277\",\"type\":\"ColorBar\"},{\"attributes\":{\"callback\":null,\"tooltips\":[[\"x\",\"@x\"],[\"y\",\"@y\"],[\"label\",\"@label\"]]},\"id\":\"2206\",\"type\":\"HoverTool\"},{\"attributes\":{\"label\":{\"value\":\"true\"},\"renderers\":[{\"id\":\"2273\",\"type\":\"GlyphRenderer\"}]},\"id\":\"2275\",\"type\":\"LegendItem\"},{\"attributes\":{\"color_mapper\":null,\"formatter\":{\"id\":\"2389\",\"type\":\"BasicTickFormatter\"},\"ticker\":{\"id\":\"2390\",\"type\":\"BasicTicker\"},\"visible\":false},\"id\":\"2224\",\"type\":\"ColorBar\"},{\"attributes\":{\"axis_label\":\"DP mean\",\"formatter\":{\"id\":\"2396\",\"type\":\"BasicTickFormatter\"},\"ticker\":{\"id\":\"2236\",\"type\":\"BasicTicker\"}},\"id\":\"2235\",\"type\":\"LinearAxis\"},{\"attributes\":{},\"id\":\"2284\",\"type\":\"LinearScale\"},{\"attributes\":{\"ticker\":{\"id\":\"2289\",\"type\":\"BasicTicker\"}},\"id\":\"2292\",\"type\":\"Grid\"},{\"attributes\":{},\"id\":\"2337\",\"type\":\"LinearScale\"},{\"attributes\":{\"column_name\":\"label\",\"group\":\"false\"},\"id\":\"2262\",\"type\":\"GroupFilter\"},{\"attributes\":{\"children\":[[{\"id\":\"2172\",\"subtype\":\"Figure\",\"type\":\"Plot\"},0,0],[{\"id\":\"2225\",\"subtype\":\"Figure\",\"type\":\"Plot\"},0,1],[{\"id\":\"2278\",\"subtype\":\"Figure\",\"type\":\"Plot\"},1,0],[{\"id\":\"2331\",\"subtype\":\"Figure\",\"type\":\"Plot\"},1,1]]},\"id\":\"2428\",\"type\":\"GridBox\"},{\"attributes\":{\"axis_label\":\"Ti/Tv rate\",\"formatter\":{\"id\":\"2398\",\"type\":\"BasicTickFormatter\"},\"ticker\":{\"id\":\"2241\",\"type\":\"BasicTicker\"}},\"id\":\"2240\",\"type\":\"LinearAxis\"},{\"attributes\":{\"filters\":[{\"id\":\"2262\",\"type\":\"GroupFilter\"}],\"source\":{\"id\":\"2260\",\"type\":\"ColumnDataSource\"}},\"id\":\"2263\",\"type\":\"CDSView\"},{\"attributes\":{},\"id\":\"2231\",\"type\":\"LinearScale\"},{\"attributes\":{},\"id\":\"2241\",\"type\":\"BasicTicker\"},{\"attributes\":{\"below\":[{\"id\":\"2341\",\"type\":\"LinearAxis\"}],\"center\":[{\"id\":\"2345\",\"type\":\"Grid\"},{\"id\":\"2350\",\"type\":\"Grid\"}],\"left\":[{\"id\":\"2346\",\"type\":\"LinearAxis\"},{\"id\":\"2382\",\"type\":\"Legend\"},{\"id\":\"2383\",\"type\":\"ColorBar\"}],\"plot_height\":400,\"plot_width\":600,\"renderers\":[{\"id\":\"2373\",\"type\":\"GlyphRenderer\"},{\"id\":\"2379\",\"type\":\"GlyphRenderer\"}],\"title\":null,\"toolbar\":{\"id\":\"2357\",\"type\":\"Toolbar\"},\"toolbar_location\":null,\"x_range\":{\"id\":\"2333\",\"type\":\"DataRange1d\"},\"x_scale\":{\"id\":\"2337\",\"type\":\"LinearScale\"},\"y_range\":{\"id\":\"2335\",\"type\":\"DataRange1d\"},\"y_scale\":{\"id\":\"2339\",\"type\":\"LinearScale\"}},\"id\":\"2331\",\"subtype\":\"Figure\",\"type\":\"Plot\"},{\"attributes\":{\"dimension\":1,\"ticker\":{\"id\":\"2241\",\"type\":\"BasicTicker\"}},\"id\":\"2244\",\"type\":\"Grid\"}],\"root_ids\":[\"2431\"]},\"title\":\"Bokeh Application\",\"version\":\"1.2.0\"}};\n",
       "  var render_items = [{\"docid\":\"bbd5d127-4ddf-4229-bbde-633cfbd953ba\",\"roots\":{\"2431\":\"21faff83-c31b-4073-b02b-8aebd1e25806\"}}];\n",
       "  root.Bokeh.embed.embed_items_notebook(docs_json, render_items);\n",
       "\n",
       "  }\n",
       "  if (root.Bokeh !== undefined) {\n",
       "    embed_document(root);\n",
       "  } else {\n",
       "    var attempts = 0;\n",
       "    var timer = setInterval(function(root) {\n",
       "      if (root.Bokeh !== undefined) {\n",
       "        embed_document(root);\n",
       "        clearInterval(timer);\n",
       "      }\n",
       "      attempts++;\n",
       "      if (attempts > 100) {\n",
       "        console.log(\"Bokeh: ERROR: Unable to run BokehJS code because BokehJS library is missing\");\n",
       "        clearInterval(timer);\n",
       "      }\n",
       "    }, 10, root)\n",
       "  }\n",
       "})(window);"
      ],
      "application/vnd.bokehjs_exec.v0+json": ""
     },
     "metadata": {
      "application/vnd.bokehjs_exec.v0+json": {
       "id": "2431"
      }
     },
     "output_type": "display_data"
    }
   ],
   "source": [
    "show(gridplot(plot_list, ncols=2, plot_width=600, plot_height=400))"
   ]
  },
  {
   "cell_type": "markdown",
   "metadata": {},
   "source": [
    "## Remove potential ancestry outliers from full dataset\n",
    "\n",
    "In further analysis of the dataset, we do not want to include these four potential ancestry outliers (PAO). We will therefore load the full dataset, discard the PAOs, and write the data again."
   ]
  },
  {
   "cell_type": "code",
   "execution_count": 43,
   "metadata": {},
   "outputs": [
    {
     "name": "stdout",
     "output_type": "stream",
     "text": [
      "Number of potential ancestry outliers: 4\n"
     ]
    }
   ],
   "source": [
    "# Potential ancestry outliers.\n",
    "pao_list = mt.filter_cols(mt.pc_outliers).s.collect()\n",
    "\n",
    "print('Number of potential ancestry outliers: {n}'.format(n=len(pao_list)))"
   ]
  },
  {
   "cell_type": "code",
   "execution_count": 44,
   "metadata": {},
   "outputs": [],
   "source": [
    "# Read original matrix table.\n",
    "full_mt = hl.read_matrix_table(BASE_DIR + '/data/mt/high_quality_variants.mt')\n",
    "\n",
    "# Annotate with the list of potential ancestry outliers.\n",
    "full_mt = full_mt.annotate_globals(pao_list = pao_list)\n",
    "\n",
    "# Remove the potential ancestry outliers.\n",
    "pao_removed_mt = full_mt.filter_cols(~full_mt.pao_list.contains(full_mt.s))"
   ]
  },
  {
   "cell_type": "code",
   "execution_count": 45,
   "metadata": {},
   "outputs": [
    {
     "name": "stdout",
     "output_type": "stream",
     "text": [
      "Number of variants: 148305\n",
      "Number of samples: 465\n"
     ]
    }
   ],
   "source": [
    "n_variants, n_samples = pao_removed_mt.count()\n",
    "print('Number of variants: ' + str(n_variants))\n",
    "print('Number of samples: ' + str(n_samples))"
   ]
  },
  {
   "cell_type": "markdown",
   "metadata": {},
   "source": [
    "Update variant QC information, as this has changed when we have removed some samples. Also remove invariant sites."
   ]
  },
  {
   "cell_type": "code",
   "execution_count": 46,
   "metadata": {},
   "outputs": [],
   "source": [
    "pao_removed_mt = hl.variant_qc(pao_removed_mt)\n",
    "\n",
    "pao_removed_mt = pao_removed_mt.filter_rows(pao_removed_mt.variant_qc.AC[1] > 0)"
   ]
  },
  {
   "cell_type": "code",
   "execution_count": 47,
   "metadata": {},
   "outputs": [
    {
     "name": "stderr",
     "output_type": "stream",
     "text": [
      "[Stage 758:===================================>                  (24 + 13) / 37]"
     ]
    },
    {
     "name": "stdout",
     "output_type": "stream",
     "text": [
      "Number of variants: 148267\n",
      "Number of samples: 465\n"
     ]
    }
   ],
   "source": [
    "n_variants, n_samples = pao_removed_mt.count()\n",
    "print('Number of variants: ' + str(n_variants))\n",
    "print('Number of samples: ' + str(n_samples))"
   ]
  },
  {
   "cell_type": "markdown",
   "metadata": {},
   "source": [
    "Write the resulting matrix table to file."
   ]
  },
  {
   "cell_type": "code",
   "execution_count": 48,
   "metadata": {},
   "outputs": [
    {
     "name": "stderr",
     "output_type": "stream",
     "text": [
      "[Stage 759:==================================================>    (34 + 3) / 37]2021-10-11 10:54:21 Hail: INFO: wrote matrix table with 148267 rows and 465 columns in 37 partitions to /home/olavur/experiments/2020-11-13_fargen1_exome_analysis/data/mt/high_quality_variants_pao_removed.mt\n",
      "    Total size: 808.14 MiB\n",
      "    * Rows/entries: 808.09 MiB\n",
      "    * Columns: 49.46 KiB\n",
      "    * Globals: 39.00 B\n",
      "    * Smallest partition: 1506 rows (6.70 MiB)\n",
      "    * Largest partition:  4487 rows (25.24 MiB)\n"
     ]
    }
   ],
   "source": [
    "if True:\n",
    "    pao_removed_mt.write(BASE_DIR + '/data/mt/high_quality_variants_pao_removed.mt', overwrite=True)"
   ]
  },
  {
   "cell_type": "markdown",
   "metadata": {},
   "source": [
    "## PCA without outliers\n",
    "\n",
    "These PCA outerliers prevent us from detecting population structure in the PCA above. Whether they are ancestry outliers or whether something else is at play, we must remove them to be able to detect population structure."
   ]
  },
  {
   "cell_type": "code",
   "execution_count": 49,
   "metadata": {},
   "outputs": [],
   "source": [
    "mt = mt.filter_cols(~mt.pc_outliers)"
   ]
  },
  {
   "cell_type": "markdown",
   "metadata": {},
   "source": [
    "Now we just do the PCA again, and see if PC 1 and 2 show signs of population structure."
   ]
  },
  {
   "cell_type": "code",
   "execution_count": 50,
   "metadata": {},
   "outputs": [
    {
     "name": "stderr",
     "output_type": "stream",
     "text": [
      "2021-10-11 10:54:26 Hail: INFO: hwe_normalized_pca: running PCA using 47253 variants.\n",
      "[Stage 761:=====================================>                (26 + 11) / 37]2021-10-11 10:54:28 Hail: INFO: pca: running PCA with 4 components...\n",
      "[Stage 836:==================>                                   (13 + 24) / 37]"
     ]
    }
   ],
   "source": [
    "eigenvalues, scores, loadings = hl.hwe_normalized_pca(mt.GT, k=4)"
   ]
  },
  {
   "cell_type": "code",
   "execution_count": 51,
   "metadata": {},
   "outputs": [],
   "source": [
    "mt = mt.annotate_cols(scores = scores[mt.s].scores)"
   ]
  },
  {
   "cell_type": "code",
   "execution_count": 52,
   "metadata": {},
   "outputs": [
    {
     "data": {
      "text/html": [
       "\n",
       "\n",
       "\n",
       "\n",
       "\n",
       "\n",
       "  <div class=\"bk-root\" id=\"eb042e92-f6e9-4995-b98a-81e09722e572\" data-root-id=\"2794\"></div>\n"
      ]
     },
     "metadata": {},
     "output_type": "display_data"
    },
    {
     "data": {
      "application/javascript": [
       "(function(root) {\n",
       "  function embed_document(root) {\n",
       "    \n",
       "  var docs_json = {\"ff160b2e-365f-4f74-ab67-c7de5bc25190\":{\"roots\":{\"references\":[{\"attributes\":{\"below\":[{\"id\":\"2805\",\"type\":\"LinearAxis\"}],\"center\":[{\"id\":\"2809\",\"type\":\"Grid\"},{\"id\":\"2814\",\"type\":\"Grid\"}],\"left\":[{\"id\":\"2810\",\"type\":\"LinearAxis\"},{\"id\":\"2881\",\"type\":\"Legend\"},{\"id\":\"2882\",\"type\":\"ColorBar\"}],\"plot_height\":600,\"plot_width\":800,\"renderers\":[{\"id\":\"2837\",\"type\":\"GlyphRenderer\"},{\"id\":\"2843\",\"type\":\"GlyphRenderer\"},{\"id\":\"2849\",\"type\":\"GlyphRenderer\"},{\"id\":\"2855\",\"type\":\"GlyphRenderer\"},{\"id\":\"2861\",\"type\":\"GlyphRenderer\"},{\"id\":\"2867\",\"type\":\"GlyphRenderer\"},{\"id\":\"2873\",\"type\":\"GlyphRenderer\"}],\"title\":{\"id\":\"2795\",\"type\":\"Title\"},\"toolbar\":{\"id\":\"2821\",\"type\":\"Toolbar\"},\"x_range\":{\"id\":\"2797\",\"type\":\"DataRange1d\"},\"x_scale\":{\"id\":\"2801\",\"type\":\"LinearScale\"},\"y_range\":{\"id\":\"2799\",\"type\":\"DataRange1d\"},\"y_scale\":{\"id\":\"2803\",\"type\":\"LinearScale\"}},\"id\":\"2794\",\"subtype\":\"Figure\",\"type\":\"Plot\"},{\"attributes\":{\"column_name\":\"label\",\"group\":\"1.00000e+00\"},\"id\":\"2832\",\"type\":\"GroupFilter\"},{\"attributes\":{\"label\":{\"value\":\"1.00000e+00\"},\"renderers\":[{\"id\":\"2837\",\"type\":\"GlyphRenderer\"}]},\"id\":\"2874\",\"type\":\"LegendItem\"},{\"attributes\":{\"callback\":null,\"data\":{\"index\":[0,1,2,3,4,5,6,7,8,9,10,11,12,13,14,15,16,17,18,19,20,21,22,23,24,25,26,27,28,29,30,31,32,33,34,35,36,37,38,39,40,41,42,43,44,45,46,47,48,49,50,51,52,53,54,55,56,57,58,59,60,61,62,63,64,65,66,67,68,69,70,71,72,73,74,75,76,77,78,79,80,81,82,83,84,85,86,87,88,89,90,91,92,93,94,95,96,97,98,99,100,101,102,103,104,105,106,107,108,109,110,111,112,113,114,115,116,117,118,119,120,121,122,123,124,125,126,127,128,129,130,131,132,133,134,135,136,137,138,139,140,141,142,143,144,145,146,147,148,149,150,151,152,153,154,155,156,157,158,159,160,161,162,163,164,165,166,167,168,169,170,171,172,173,174,175,176,177,178,179,180,181,182,183,184,185,186,187,188,189,190,191,192,193,194,195,196,197,198,199,200,201,202,203,204,205,206,207,208,209,210,211,212,213,214,215,216,217,218,219,220,221,222,223,224,225,226,227,228,229,230,231,232,233,234,235,236,237,238,239,240,241,242,243,244,245,246,247,248,249,250,251,252,253,254,255,256,257,258,259,260,261,262,263,264,265,266,267,268,269,270,271,272,273,274,275,276,277,278,279,280,281,282,283,284,285,286,287,288,289,290,291,292,293,294,295,296,297,298,299,300,301,302,303,304,305,306,307,308,309,310,311,312,313,314,315,316,317,318,319,320,321,322,323,324,325,326,327,328,329,330,331,332,333,334,335,336,337,338,339,340,341,342,343,344,345,346,347,348,349,350,351,352,353,354,355,356,357,358,359,360,361,362,363,364,365,366,367,368,369,370,371,372,373,374,375,376],\"label\":[\"6.00000e+00\",\"3.00000e+00\",\"6.00000e+00\",\"3.00000e+00\",\"NA\",\"3.00000e+00\",\"6.00000e+00\",\"6.00000e+00\",\"6.00000e+00\",\"6.00000e+00\",\"6.00000e+00\",\"5.00000e+00\",\"5.00000e+00\",\"3.00000e+00\",\"3.00000e+00\",\"6.00000e+00\",\"6.00000e+00\",\"3.00000e+00\",\"6.00000e+00\",\"3.00000e+00\",\"6.00000e+00\",\"6.00000e+00\",\"6.00000e+00\",\"NA\",\"NA\",\"3.00000e+00\",\"NA\",\"3.00000e+00\",\"6.00000e+00\",\"3.00000e+00\",\"2.00000e+00\",\"2.00000e+00\",\"5.00000e+00\",\"6.00000e+00\",\"3.00000e+00\",\"3.00000e+00\",\"3.00000e+00\",\"3.00000e+00\",\"5.00000e+00\",\"3.00000e+00\",\"3.00000e+00\",\"2.00000e+00\",\"5.00000e+00\",\"6.00000e+00\",\"3.00000e+00\",\"5.00000e+00\",\"2.00000e+00\",\"5.00000e+00\",\"3.00000e+00\",\"3.00000e+00\",\"3.00000e+00\",\"3.00000e+00\",\"3.00000e+00\",\"3.00000e+00\",\"5.00000e+00\",\"6.00000e+00\",\"6.00000e+00\",\"3.00000e+00\",\"1.00000e+00\",\"6.00000e+00\",\"2.00000e+00\",\"3.00000e+00\",\"3.00000e+00\",\"4.00000e+00\",\"3.00000e+00\",\"6.00000e+00\",\"5.00000e+00\",\"4.00000e+00\",\"3.00000e+00\",\"3.00000e+00\",\"3.00000e+00\",\"1.00000e+00\",\"3.00000e+00\",\"3.00000e+00\",\"3.00000e+00\",\"6.00000e+00\",\"3.00000e+00\",\"3.00000e+00\",\"4.00000e+00\",\"3.00000e+00\",\"3.00000e+00\",\"NA\",\"6.00000e+00\",\"3.00000e+00\",\"6.00000e+00\",\"3.00000e+00\",\"3.00000e+00\",\"3.00000e+00\",\"5.00000e+00\",\"3.00000e+00\",\"3.00000e+00\",\"3.00000e+00\",\"2.00000e+00\",\"3.00000e+00\",\"5.00000e+00\",\"3.00000e+00\",\"3.00000e+00\",\"3.00000e+00\",\"4.00000e+00\",\"3.00000e+00\",\"1.00000e+00\",\"1.00000e+00\",\"NA\",\"5.00000e+00\",\"6.00000e+00\",\"4.00000e+00\",\"3.00000e+00\",\"3.00000e+00\",\"6.00000e+00\",\"6.00000e+00\",\"3.00000e+00\",\"3.00000e+00\",\"4.00000e+00\",\"3.00000e+00\",\"1.00000e+00\",\"3.00000e+00\",\"NA\",\"6.00000e+00\",\"3.00000e+00\",\"6.00000e+00\",\"1.00000e+00\",\"2.00000e+00\",\"3.00000e+00\",\"3.00000e+00\",\"NA\",\"3.00000e+00\",\"NA\",\"3.00000e+00\",\"3.00000e+00\",\"3.00000e+00\",\"3.00000e+00\",\"3.00000e+00\",\"3.00000e+00\",\"1.00000e+00\",\"2.00000e+00\",\"3.00000e+00\",\"NA\",\"4.00000e+00\",\"3.00000e+00\",\"3.00000e+00\",\"6.00000e+00\",\"2.00000e+00\",\"4.00000e+00\",\"3.00000e+00\",\"4.00000e+00\",\"1.00000e+00\",\"3.00000e+00\",\"1.00000e+00\",\"NA\",\"3.00000e+00\",\"6.00000e+00\",\"2.00000e+00\",\"3.00000e+00\",\"2.00000e+00\",\"3.00000e+00\",\"3.00000e+00\",\"3.00000e+00\",\"3.00000e+00\",\"3.00000e+00\",\"2.00000e+00\",\"3.00000e+00\",\"4.00000e+00\",\"NA\",\"NA\",\"5.00000e+00\",\"3.00000e+00\",\"2.00000e+00\",\"3.00000e+00\",\"4.00000e+00\",\"2.00000e+00\",\"1.00000e+00\",\"1.00000e+00\",\"3.00000e+00\",\"2.00000e+00\",\"4.00000e+00\",\"NA\",\"3.00000e+00\",\"1.00000e+00\",\"3.00000e+00\",\"2.00000e+00\",\"3.00000e+00\",\"4.00000e+00\",\"3.00000e+00\",\"3.00000e+00\",\"3.00000e+00\",\"2.00000e+00\",\"NA\",\"3.00000e+00\",\"3.00000e+00\",\"4.00000e+00\",\"3.00000e+00\",\"3.00000e+00\",\"3.00000e+00\",\"2.00000e+00\",\"3.00000e+00\",\"2.00000e+00\",\"2.00000e+00\",\"3.00000e+00\",\"NA\",\"3.00000e+00\",\"NA\",\"NA\",\"2.00000e+00\",\"NA\",\"3.00000e+00\",\"1.00000e+00\",\"3.00000e+00\",\"3.00000e+00\",\"2.00000e+00\",\"3.00000e+00\",\"3.00000e+00\",\"4.00000e+00\",\"3.00000e+00\",\"2.00000e+00\",\"3.00000e+00\",\"3.00000e+00\",\"1.00000e+00\",\"3.00000e+00\",\"2.00000e+00\",\"3.00000e+00\",\"4.00000e+00\",\"3.00000e+00\",\"3.00000e+00\",\"NA\",\"3.00000e+00\",\"3.00000e+00\",\"4.00000e+00\",\"4.00000e+00\",\"2.00000e+00\",\"6.00000e+00\",\"3.00000e+00\",\"3.00000e+00\",\"NA\",\"4.00000e+00\",\"3.00000e+00\",\"2.00000e+00\",\"4.00000e+00\",\"3.00000e+00\",\"2.00000e+00\",\"2.00000e+00\",\"3.00000e+00\",\"3.00000e+00\",\"3.00000e+00\",\"2.00000e+00\",\"1.00000e+00\",\"4.00000e+00\",\"2.00000e+00\",\"1.00000e+00\",\"NA\",\"2.00000e+00\",\"6.00000e+00\",\"2.00000e+00\",\"4.00000e+00\",\"3.00000e+00\",\"NA\",\"1.00000e+00\",\"2.00000e+00\",\"3.00000e+00\",\"1.00000e+00\",\"3.00000e+00\",\"1.00000e+00\",\"2.00000e+00\",\"2.00000e+00\",\"2.00000e+00\",\"1.00000e+00\",\"1.00000e+00\",\"3.00000e+00\",\"3.00000e+00\",\"2.00000e+00\",\"2.00000e+00\",\"3.00000e+00\",\"1.00000e+00\",\"NA\",\"2.00000e+00\",\"2.00000e+00\",\"1.00000e+00\",\"2.00000e+00\",\"3.00000e+00\",\"1.00000e+00\",\"1.00000e+00\",\"NA\",\"3.00000e+00\",\"2.00000e+00\",\"2.00000e+00\",\"3.00000e+00\",\"2.00000e+00\",\"3.00000e+00\",\"3.00000e+00\",\"2.00000e+00\",\"2.00000e+00\",\"2.00000e+00\",\"2.00000e+00\",\"3.00000e+00\",\"1.00000e+00\",\"3.00000e+00\",\"NA\",\"1.00000e+00\",\"2.00000e+00\",\"2.00000e+00\",\"3.00000e+00\",\"1.00000e+00\",\"2.00000e+00\",\"3.00000e+00\",\"3.00000e+00\",\"1.00000e+00\",\"2.00000e+00\",\"2.00000e+00\",\"3.00000e+00\",\"3.00000e+00\",\"1.00000e+00\",\"1.00000e+00\",\"2.00000e+00\",\"2.00000e+00\",\"3.00000e+00\",\"2.00000e+00\",\"3.00000e+00\",\"2.00000e+00\",\"NA\",\"3.00000e+00\",\"3.00000e+00\",\"2.00000e+00\",\"3.00000e+00\",\"3.00000e+00\",\"1.00000e+00\",\"2.00000e+00\",\"1.00000e+00\",\"NA\",\"2.00000e+00\",\"3.00000e+00\",\"3.00000e+00\",\"3.00000e+00\",\"3.00000e+00\",\"1.00000e+00\",\"3.00000e+00\",\"1.00000e+00\",\"2.00000e+00\",\"2.00000e+00\",\"NA\",\"2.00000e+00\",\"2.00000e+00\",\"2.00000e+00\",\"1.00000e+00\",\"2.00000e+00\",\"1.00000e+00\",\"2.00000e+00\",\"1.00000e+00\",\"1.00000e+00\",\"1.00000e+00\",\"2.00000e+00\",\"2.00000e+00\",\"3.00000e+00\",\"2.00000e+00\",\"1.00000e+00\",\"1.00000e+00\",\"1.00000e+00\",\"2.00000e+00\",\"2.00000e+00\",\"1.00000e+00\",\"2.00000e+00\",\"2.00000e+00\",\"4.00000e+00\",\"2.00000e+00\",\"1.00000e+00\",\"2.00000e+00\",\"1.00000e+00\",\"1.00000e+00\",\"1.00000e+00\",\"1.00000e+00\",\"3.00000e+00\",\"2.00000e+00\",\"1.00000e+00\",\"3.00000e+00\",\"1.00000e+00\",\"3.00000e+00\",\"1.00000e+00\",\"1.00000e+00\",\"1.00000e+00\"],\"x\":{\"__ndarray__\":\"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\",\"dtype\":\"float64\",\"shape\":[377]},\"y\":{\"__ndarray__\":\"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\",\"dtype\":\"float64\",\"shape\":[377]}},\"selected\":{\"id\":\"3013\",\"type\":\"Selection\"},\"selection_policy\":{\"id\":\"3014\",\"type\":\"UnionRenderers\"}},\"id\":\"2830\",\"type\":\"ColumnDataSource\"},{\"attributes\":{\"label\":{\"value\":\"2.00000e+00\"},\"renderers\":[{\"id\":\"2843\",\"type\":\"GlyphRenderer\"}]},\"id\":\"2875\",\"type\":\"LegendItem\"},{\"attributes\":{\"data_source\":{\"id\":\"2830\",\"type\":\"ColumnDataSource\"},\"glyph\":{\"id\":\"2847\",\"type\":\"Circle\"},\"hover_glyph\":null,\"muted_glyph\":null,\"nonselection_glyph\":{\"id\":\"2848\",\"type\":\"Circle\"},\"selection_glyph\":null,\"view\":{\"id\":\"2845\",\"type\":\"CDSView\"}},\"id\":\"2849\",\"type\":\"GlyphRenderer\"},{\"attributes\":{},\"id\":\"2818\",\"type\":\"SaveTool\"},{\"attributes\":{\"label\":{\"value\":\"4.00000e+00\"},\"renderers\":[{\"id\":\"2855\",\"type\":\"GlyphRenderer\"}]},\"id\":\"2877\",\"type\":\"LegendItem\"},{\"attributes\":{\"filters\":[{\"id\":\"2844\",\"type\":\"GroupFilter\"}],\"source\":{\"id\":\"2830\",\"type\":\"ColumnDataSource\"}},\"id\":\"2845\",\"type\":\"CDSView\"},{\"attributes\":{\"fill_alpha\":{\"value\":0.1},\"fill_color\":{\"value\":\"#1f77b4\"},\"line_alpha\":{\"value\":0.1},\"line_color\":{\"value\":\"#1f77b4\"},\"x\":{\"field\":\"x\"},\"y\":{\"field\":\"y\"}},\"id\":\"2848\",\"type\":\"Circle\"},{\"attributes\":{\"fill_color\":{\"field\":\"label\",\"transform\":{\"id\":\"2831\",\"type\":\"CategoricalColorMapper\"}},\"line_color\":{\"field\":\"label\",\"transform\":{\"id\":\"2831\",\"type\":\"CategoricalColorMapper\"}},\"x\":{\"field\":\"x\"},\"y\":{\"field\":\"y\"}},\"id\":\"2865\",\"type\":\"Circle\"},{\"attributes\":{},\"id\":\"3006\",\"type\":\"BasicTickFormatter\"},{\"attributes\":{},\"id\":\"2811\",\"type\":\"BasicTicker\"},{\"attributes\":{\"label\":{\"value\":\"5.00000e+00\"},\"renderers\":[{\"id\":\"2861\",\"type\":\"GlyphRenderer\"}]},\"id\":\"2878\",\"type\":\"LegendItem\"},{\"attributes\":{},\"id\":\"3010\",\"type\":\"BasicTickFormatter\"},{\"attributes\":{\"color_mapper\":null,\"formatter\":{\"id\":\"3010\",\"type\":\"BasicTickFormatter\"},\"ticker\":{\"id\":\"3011\",\"type\":\"BasicTicker\"},\"visible\":false},\"id\":\"2882\",\"type\":\"ColorBar\"},{\"attributes\":{\"callback\":null},\"id\":\"2797\",\"type\":\"DataRange1d\"},{\"attributes\":{\"label\":{\"value\":\"NA\"},\"renderers\":[{\"id\":\"2873\",\"type\":\"GlyphRenderer\"}]},\"id\":\"2880\",\"type\":\"LegendItem\"},{\"attributes\":{\"fill_alpha\":{\"value\":0.1},\"fill_color\":{\"value\":\"#1f77b4\"},\"line_alpha\":{\"value\":0.1},\"line_color\":{\"value\":\"#1f77b4\"},\"x\":{\"field\":\"x\"},\"y\":{\"field\":\"y\"}},\"id\":\"2860\",\"type\":\"Circle\"},{\"attributes\":{\"fill_alpha\":{\"value\":0.1},\"fill_color\":{\"value\":\"#1f77b4\"},\"line_alpha\":{\"value\":0.1},\"line_color\":{\"value\":\"#1f77b4\"},\"x\":{\"field\":\"x\"},\"y\":{\"field\":\"y\"}},\"id\":\"2872\",\"type\":\"Circle\"},{\"attributes\":{\"axis_label\":\"PC2\",\"formatter\":{\"id\":\"3008\",\"type\":\"BasicTickFormatter\"},\"ticker\":{\"id\":\"2811\",\"type\":\"BasicTicker\"}},\"id\":\"2810\",\"type\":\"LinearAxis\"},{\"attributes\":{\"filters\":[{\"id\":\"2856\",\"type\":\"GroupFilter\"}],\"source\":{\"id\":\"2830\",\"type\":\"ColumnDataSource\"}},\"id\":\"2857\",\"type\":\"CDSView\"},{\"attributes\":{},\"id\":\"3013\",\"type\":\"Selection\"},{\"attributes\":{\"axis_label\":\"PC1\",\"formatter\":{\"id\":\"3006\",\"type\":\"BasicTickFormatter\"},\"ticker\":{\"id\":\"2806\",\"type\":\"BasicTicker\"}},\"id\":\"2805\",\"type\":\"LinearAxis\"},{\"attributes\":{},\"id\":\"2801\",\"type\":\"LinearScale\"},{\"attributes\":{\"label\":{\"value\":\"3.00000e+00\"},\"renderers\":[{\"id\":\"2849\",\"type\":\"GlyphRenderer\"}]},\"id\":\"2876\",\"type\":\"LegendItem\"},{\"attributes\":{},\"id\":\"2816\",\"type\":\"WheelZoomTool\"},{\"attributes\":{\"fill_alpha\":{\"value\":0.1},\"fill_color\":{\"value\":\"#1f77b4\"},\"line_alpha\":{\"value\":0.1},\"line_color\":{\"value\":\"#1f77b4\"},\"x\":{\"field\":\"x\"},\"y\":{\"field\":\"y\"}},\"id\":\"2836\",\"type\":\"Circle\"},{\"attributes\":{\"fill_alpha\":{\"value\":0.1},\"fill_color\":{\"value\":\"#1f77b4\"},\"line_alpha\":{\"value\":0.1},\"line_color\":{\"value\":\"#1f77b4\"},\"x\":{\"field\":\"x\"},\"y\":{\"field\":\"y\"}},\"id\":\"2866\",\"type\":\"Circle\"},{\"attributes\":{\"column_name\":\"label\",\"group\":\"4.00000e+00\"},\"id\":\"2850\",\"type\":\"GroupFilter\"},{\"attributes\":{\"click_policy\":\"hide\",\"items\":[{\"id\":\"2874\",\"type\":\"LegendItem\"},{\"id\":\"2875\",\"type\":\"LegendItem\"},{\"id\":\"2876\",\"type\":\"LegendItem\"},{\"id\":\"2877\",\"type\":\"LegendItem\"},{\"id\":\"2878\",\"type\":\"LegendItem\"},{\"id\":\"2879\",\"type\":\"LegendItem\"},{\"id\":\"2880\",\"type\":\"LegendItem\"}]},\"id\":\"2881\",\"type\":\"Legend\"},{\"attributes\":{},\"id\":\"2803\",\"type\":\"LinearScale\"},{\"attributes\":{\"text\":\"PCA\"},\"id\":\"2795\",\"type\":\"Title\"},{\"attributes\":{\"fill_alpha\":{\"value\":0.1},\"fill_color\":{\"value\":\"#1f77b4\"},\"line_alpha\":{\"value\":0.1},\"line_color\":{\"value\":\"#1f77b4\"},\"x\":{\"field\":\"x\"},\"y\":{\"field\":\"y\"}},\"id\":\"2842\",\"type\":\"Circle\"},{\"attributes\":{\"data_source\":{\"id\":\"2830\",\"type\":\"ColumnDataSource\"},\"glyph\":{\"id\":\"2865\",\"type\":\"Circle\"},\"hover_glyph\":null,\"muted_glyph\":null,\"nonselection_glyph\":{\"id\":\"2866\",\"type\":\"Circle\"},\"selection_glyph\":null,\"view\":{\"id\":\"2863\",\"type\":\"CDSView\"}},\"id\":\"2867\",\"type\":\"GlyphRenderer\"},{\"attributes\":{\"data_source\":{\"id\":\"2830\",\"type\":\"ColumnDataSource\"},\"glyph\":{\"id\":\"2841\",\"type\":\"Circle\"},\"hover_glyph\":null,\"muted_glyph\":null,\"nonselection_glyph\":{\"id\":\"2842\",\"type\":\"Circle\"},\"selection_glyph\":null,\"view\":{\"id\":\"2839\",\"type\":\"CDSView\"}},\"id\":\"2843\",\"type\":\"GlyphRenderer\"},{\"attributes\":{},\"id\":\"3011\",\"type\":\"BasicTicker\"},{\"attributes\":{\"fill_color\":{\"field\":\"label\",\"transform\":{\"id\":\"2831\",\"type\":\"CategoricalColorMapper\"}},\"line_color\":{\"field\":\"label\",\"transform\":{\"id\":\"2831\",\"type\":\"CategoricalColorMapper\"}},\"x\":{\"field\":\"x\"},\"y\":{\"field\":\"y\"}},\"id\":\"2847\",\"type\":\"Circle\"},{\"attributes\":{\"active_drag\":\"auto\",\"active_inspect\":\"auto\",\"active_multi\":null,\"active_scroll\":\"auto\",\"active_tap\":\"auto\",\"tools\":[{\"id\":\"2815\",\"type\":\"PanTool\"},{\"id\":\"2816\",\"type\":\"WheelZoomTool\"},{\"id\":\"2817\",\"type\":\"BoxZoomTool\"},{\"id\":\"2818\",\"type\":\"SaveTool\"},{\"id\":\"2819\",\"type\":\"ResetTool\"},{\"id\":\"2820\",\"type\":\"HelpTool\"},{\"id\":\"2829\",\"type\":\"HoverTool\"}]},\"id\":\"2821\",\"type\":\"Toolbar\"},{\"attributes\":{\"data_source\":{\"id\":\"2830\",\"type\":\"ColumnDataSource\"},\"glyph\":{\"id\":\"2871\",\"type\":\"Circle\"},\"hover_glyph\":null,\"muted_glyph\":null,\"nonselection_glyph\":{\"id\":\"2872\",\"type\":\"Circle\"},\"selection_glyph\":null,\"view\":{\"id\":\"2869\",\"type\":\"CDSView\"}},\"id\":\"2873\",\"type\":\"GlyphRenderer\"},{\"attributes\":{\"fill_color\":{\"field\":\"label\",\"transform\":{\"id\":\"2831\",\"type\":\"CategoricalColorMapper\"}},\"line_color\":{\"field\":\"label\",\"transform\":{\"id\":\"2831\",\"type\":\"CategoricalColorMapper\"}},\"x\":{\"field\":\"x\"},\"y\":{\"field\":\"y\"}},\"id\":\"2835\",\"type\":\"Circle\"},{\"attributes\":{\"column_name\":\"label\",\"group\":\"NA\"},\"id\":\"2868\",\"type\":\"GroupFilter\"},{\"attributes\":{\"fill_alpha\":{\"value\":0.1},\"fill_color\":{\"value\":\"#1f77b4\"},\"line_alpha\":{\"value\":0.1},\"line_color\":{\"value\":\"#1f77b4\"},\"x\":{\"field\":\"x\"},\"y\":{\"field\":\"y\"}},\"id\":\"2854\",\"type\":\"Circle\"},{\"attributes\":{\"filters\":[{\"id\":\"2868\",\"type\":\"GroupFilter\"}],\"source\":{\"id\":\"2830\",\"type\":\"ColumnDataSource\"}},\"id\":\"2869\",\"type\":\"CDSView\"},{\"attributes\":{\"callback\":null,\"tooltips\":[[\"x\",\"@x\"],[\"y\",\"@y\"],[\"label\",\"@label\"]]},\"id\":\"2829\",\"type\":\"HoverTool\"},{\"attributes\":{\"filters\":[{\"id\":\"2838\",\"type\":\"GroupFilter\"}],\"source\":{\"id\":\"2830\",\"type\":\"ColumnDataSource\"}},\"id\":\"2839\",\"type\":\"CDSView\"},{\"attributes\":{},\"id\":\"3014\",\"type\":\"UnionRenderers\"},{\"attributes\":{\"column_name\":\"label\",\"group\":\"2.00000e+00\"},\"id\":\"2838\",\"type\":\"GroupFilter\"},{\"attributes\":{},\"id\":\"2806\",\"type\":\"BasicTicker\"},{\"attributes\":{\"filters\":[{\"id\":\"2850\",\"type\":\"GroupFilter\"}],\"source\":{\"id\":\"2830\",\"type\":\"ColumnDataSource\"}},\"id\":\"2851\",\"type\":\"CDSView\"},{\"attributes\":{\"overlay\":{\"id\":\"3012\",\"type\":\"BoxAnnotation\"}},\"id\":\"2817\",\"type\":\"BoxZoomTool\"},{\"attributes\":{\"column_name\":\"label\",\"group\":\"5.00000e+00\"},\"id\":\"2856\",\"type\":\"GroupFilter\"},{\"attributes\":{\"dimension\":1,\"ticker\":{\"id\":\"2811\",\"type\":\"BasicTicker\"}},\"id\":\"2814\",\"type\":\"Grid\"},{\"attributes\":{\"data_source\":{\"id\":\"2830\",\"type\":\"ColumnDataSource\"},\"glyph\":{\"id\":\"2835\",\"type\":\"Circle\"},\"hover_glyph\":null,\"muted_glyph\":null,\"nonselection_glyph\":{\"id\":\"2836\",\"type\":\"Circle\"},\"selection_glyph\":null,\"view\":{\"id\":\"2833\",\"type\":\"CDSView\"}},\"id\":\"2837\",\"type\":\"GlyphRenderer\"},{\"attributes\":{},\"id\":\"3008\",\"type\":\"BasicTickFormatter\"},{\"attributes\":{\"label\":{\"value\":\"6.00000e+00\"},\"renderers\":[{\"id\":\"2867\",\"type\":\"GlyphRenderer\"}]},\"id\":\"2879\",\"type\":\"LegendItem\"},{\"attributes\":{\"data_source\":{\"id\":\"2830\",\"type\":\"ColumnDataSource\"},\"glyph\":{\"id\":\"2859\",\"type\":\"Circle\"},\"hover_glyph\":null,\"muted_glyph\":null,\"nonselection_glyph\":{\"id\":\"2860\",\"type\":\"Circle\"},\"selection_glyph\":null,\"view\":{\"id\":\"2857\",\"type\":\"CDSView\"}},\"id\":\"2861\",\"type\":\"GlyphRenderer\"},{\"attributes\":{\"fill_color\":{\"field\":\"label\",\"transform\":{\"id\":\"2831\",\"type\":\"CategoricalColorMapper\"}},\"line_color\":{\"field\":\"label\",\"transform\":{\"id\":\"2831\",\"type\":\"CategoricalColorMapper\"}},\"x\":{\"field\":\"x\"},\"y\":{\"field\":\"y\"}},\"id\":\"2853\",\"type\":\"Circle\"},{\"attributes\":{\"fill_color\":{\"field\":\"label\",\"transform\":{\"id\":\"2831\",\"type\":\"CategoricalColorMapper\"}},\"line_color\":{\"field\":\"label\",\"transform\":{\"id\":\"2831\",\"type\":\"CategoricalColorMapper\"}},\"x\":{\"field\":\"x\"},\"y\":{\"field\":\"y\"}},\"id\":\"2859\",\"type\":\"Circle\"},{\"attributes\":{\"bottom_units\":\"screen\",\"fill_alpha\":{\"value\":0.5},\"fill_color\":{\"value\":\"lightgrey\"},\"left_units\":\"screen\",\"level\":\"overlay\",\"line_alpha\":{\"value\":1.0},\"line_color\":{\"value\":\"black\"},\"line_dash\":[4,4],\"line_width\":{\"value\":2},\"render_mode\":\"css\",\"right_units\":\"screen\",\"top_units\":\"screen\"},\"id\":\"3012\",\"type\":\"BoxAnnotation\"},{\"attributes\":{\"callback\":null},\"id\":\"2799\",\"type\":\"DataRange1d\"},{\"attributes\":{\"ticker\":{\"id\":\"2806\",\"type\":\"BasicTicker\"}},\"id\":\"2809\",\"type\":\"Grid\"},{\"attributes\":{\"filters\":[{\"id\":\"2832\",\"type\":\"GroupFilter\"}],\"source\":{\"id\":\"2830\",\"type\":\"ColumnDataSource\"}},\"id\":\"2833\",\"type\":\"CDSView\"},{\"attributes\":{\"fill_color\":{\"field\":\"label\",\"transform\":{\"id\":\"2831\",\"type\":\"CategoricalColorMapper\"}},\"line_color\":{\"field\":\"label\",\"transform\":{\"id\":\"2831\",\"type\":\"CategoricalColorMapper\"}},\"x\":{\"field\":\"x\"},\"y\":{\"field\":\"y\"}},\"id\":\"2841\",\"type\":\"Circle\"},{\"attributes\":{},\"id\":\"2815\",\"type\":\"PanTool\"},{\"attributes\":{\"filters\":[{\"id\":\"2862\",\"type\":\"GroupFilter\"}],\"source\":{\"id\":\"2830\",\"type\":\"ColumnDataSource\"}},\"id\":\"2863\",\"type\":\"CDSView\"},{\"attributes\":{\"factors\":[\"2.00000e+00\",\"NA\",\"1.00000e+00\",\"6.00000e+00\",\"3.00000e+00\",\"5.00000e+00\",\"4.00000e+00\"],\"palette\":[\"#1f77b4\",\"#ff7f0e\",\"#2ca02c\",\"#d62728\",\"#9467bd\",\"#8c564b\",\"#e377c2\",\"#7f7f7f\",\"#bcbd22\",\"#17becf\"]},\"id\":\"2831\",\"type\":\"CategoricalColorMapper\"},{\"attributes\":{\"column_name\":\"label\",\"group\":\"3.00000e+00\"},\"id\":\"2844\",\"type\":\"GroupFilter\"},{\"attributes\":{},\"id\":\"2819\",\"type\":\"ResetTool\"},{\"attributes\":{\"column_name\":\"label\",\"group\":\"6.00000e+00\"},\"id\":\"2862\",\"type\":\"GroupFilter\"},{\"attributes\":{},\"id\":\"2820\",\"type\":\"HelpTool\"},{\"attributes\":{\"fill_color\":{\"field\":\"label\",\"transform\":{\"id\":\"2831\",\"type\":\"CategoricalColorMapper\"}},\"line_color\":{\"field\":\"label\",\"transform\":{\"id\":\"2831\",\"type\":\"CategoricalColorMapper\"}},\"x\":{\"field\":\"x\"},\"y\":{\"field\":\"y\"}},\"id\":\"2871\",\"type\":\"Circle\"},{\"attributes\":{\"data_source\":{\"id\":\"2830\",\"type\":\"ColumnDataSource\"},\"glyph\":{\"id\":\"2853\",\"type\":\"Circle\"},\"hover_glyph\":null,\"muted_glyph\":null,\"nonselection_glyph\":{\"id\":\"2854\",\"type\":\"Circle\"},\"selection_glyph\":null,\"view\":{\"id\":\"2851\",\"type\":\"CDSView\"}},\"id\":\"2855\",\"type\":\"GlyphRenderer\"}],\"root_ids\":[\"2794\"]},\"title\":\"Bokeh Application\",\"version\":\"1.2.0\"}};\n",
       "  var render_items = [{\"docid\":\"ff160b2e-365f-4f74-ab67-c7de5bc25190\",\"roots\":{\"2794\":\"eb042e92-f6e9-4995-b98a-81e09722e572\"}}];\n",
       "  root.Bokeh.embed.embed_items_notebook(docs_json, render_items);\n",
       "\n",
       "  }\n",
       "  if (root.Bokeh !== undefined) {\n",
       "    embed_document(root);\n",
       "  } else {\n",
       "    var attempts = 0;\n",
       "    var timer = setInterval(function(root) {\n",
       "      if (root.Bokeh !== undefined) {\n",
       "        embed_document(root);\n",
       "        clearInterval(timer);\n",
       "      }\n",
       "      attempts++;\n",
       "      if (attempts > 100) {\n",
       "        console.log(\"Bokeh: ERROR: Unable to run BokehJS code because BokehJS library is missing\");\n",
       "        clearInterval(timer);\n",
       "      }\n",
       "    }, 10, root)\n",
       "  }\n",
       "})(window);"
      ],
      "application/vnd.bokehjs_exec.v0+json": ""
     },
     "metadata": {
      "application/vnd.bokehjs_exec.v0+json": {
       "id": "2794"
      }
     },
     "output_type": "display_data"
    }
   ],
   "source": [
    "p = hl.plot.scatter(mt.scores[0],\n",
    "                    mt.scores[1],\n",
    "                    label=hl.str(mt.birthplace),\n",
    "                    title='PCA', xlabel='PC1', ylabel='PC2')\n",
    "p.plot_width = 800\n",
    "p.plot_height = 600\n",
    "show(p)"
   ]
  },
  {
   "cell_type": "markdown",
   "metadata": {},
   "source": [
    "Region number | Region name(s)\n",
    "-----|-----\n",
    "1 | Norðoyggjar\n",
    "2 | Eysturoy og Norðstreymoy\n",
    "3 | Suðurstreymoy\n",
    "4 | Vágar og Mykines\n",
    "5 | Sandoy, Skúvoy, Stóra Dímun\n",
    "6 | Suðuroy"
   ]
  },
  {
   "cell_type": "markdown",
   "metadata": {},
   "source": [
    "From this PCA, it looks like there is very little population structure. But I'm not so convinced, I see this as a failure to detect population structure, not a success to show that there is no population structure."
   ]
  },
  {
   "cell_type": "markdown",
   "metadata": {},
   "source": [
    "## Summary\n",
    "\n",
    "In this notebook we have:\n",
    "\n",
    "* Investigate population structure in the cohort\n",
    "* Removed potential ancestry outliers from the data"
   ]
  }
 ],
 "metadata": {
  "kernelspec": {
   "display_name": "Python [conda env:fargen-1-exome]",
   "language": "python",
   "name": "conda-env-fargen-1-exome-py"
  },
  "language_info": {
   "codemirror_mode": {
    "name": "ipython",
    "version": 3
   },
   "file_extension": ".py",
   "mimetype": "text/x-python",
   "name": "python",
   "nbconvert_exporter": "python",
   "pygments_lexer": "ipython3",
   "version": "3.7.10"
  }
 },
 "nbformat": 4,
 "nbformat_minor": 4
}
