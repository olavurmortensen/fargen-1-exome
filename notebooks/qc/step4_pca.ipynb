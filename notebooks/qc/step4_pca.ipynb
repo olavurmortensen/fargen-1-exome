{
 "cells": [
  {
   "cell_type": "markdown",
   "metadata": {},
   "source": [
    "# Principal Component Analysis"
   ]
  },
  {
   "cell_type": "code",
   "execution_count": 1,
   "metadata": {},
   "outputs": [
    {
     "name": "stderr",
     "output_type": "stream",
     "text": [
      "Running on Apache Spark version 2.4.1\n",
      "SparkUI available at http://hms-beagle-848846b477-48ks9:4041\n",
      "Welcome to\n",
      "     __  __     <>__\n",
      "    / /_/ /__  __/ /\n",
      "   / __  / _ `/ / /\n",
      "  /_/ /_/\\_,_/_/_/   version 0.2.61-3c86d3ba497a\n",
      "LOGGING: writing to /home/olavur/experiments/2020-11-13_fargen1_exome_analysis/fargen-1-exome/notebooks/qc/hail-20210512-1305-0.2.61-3c86d3ba497a.log\n"
     ]
    }
   ],
   "source": [
    "import hail as hl\n",
    "hl.init(spark_conf={'spark.driver.memory': '10g'}, tmp_dir='/home/olavur/tmp')"
   ]
  },
  {
   "cell_type": "code",
   "execution_count": 2,
   "metadata": {},
   "outputs": [
    {
     "data": {
      "text/html": [
       "\n",
       "    <div class=\"bk-root\">\n",
       "        <a href=\"https://bokeh.pydata.org\" target=\"_blank\" class=\"bk-logo bk-logo-small bk-logo-notebook\"></a>\n",
       "        <span id=\"1001\">Loading BokehJS ...</span>\n",
       "    </div>"
      ]
     },
     "metadata": {},
     "output_type": "display_data"
    },
    {
     "data": {
      "application/javascript": [
       "\n",
       "(function(root) {\n",
       "  function now() {\n",
       "    return new Date();\n",
       "  }\n",
       "\n",
       "  var force = true;\n",
       "\n",
       "  if (typeof root._bokeh_onload_callbacks === \"undefined\" || force === true) {\n",
       "    root._bokeh_onload_callbacks = [];\n",
       "    root._bokeh_is_loading = undefined;\n",
       "  }\n",
       "\n",
       "  var JS_MIME_TYPE = 'application/javascript';\n",
       "  var HTML_MIME_TYPE = 'text/html';\n",
       "  var EXEC_MIME_TYPE = 'application/vnd.bokehjs_exec.v0+json';\n",
       "  var CLASS_NAME = 'output_bokeh rendered_html';\n",
       "\n",
       "  /**\n",
       "   * Render data to the DOM node\n",
       "   */\n",
       "  function render(props, node) {\n",
       "    var script = document.createElement(\"script\");\n",
       "    node.appendChild(script);\n",
       "  }\n",
       "\n",
       "  /**\n",
       "   * Handle when an output is cleared or removed\n",
       "   */\n",
       "  function handleClearOutput(event, handle) {\n",
       "    var cell = handle.cell;\n",
       "\n",
       "    var id = cell.output_area._bokeh_element_id;\n",
       "    var server_id = cell.output_area._bokeh_server_id;\n",
       "    // Clean up Bokeh references\n",
       "    if (id != null && id in Bokeh.index) {\n",
       "      Bokeh.index[id].model.document.clear();\n",
       "      delete Bokeh.index[id];\n",
       "    }\n",
       "\n",
       "    if (server_id !== undefined) {\n",
       "      // Clean up Bokeh references\n",
       "      var cmd = \"from bokeh.io.state import curstate; print(curstate().uuid_to_server['\" + server_id + \"'].get_sessions()[0].document.roots[0]._id)\";\n",
       "      cell.notebook.kernel.execute(cmd, {\n",
       "        iopub: {\n",
       "          output: function(msg) {\n",
       "            var id = msg.content.text.trim();\n",
       "            if (id in Bokeh.index) {\n",
       "              Bokeh.index[id].model.document.clear();\n",
       "              delete Bokeh.index[id];\n",
       "            }\n",
       "          }\n",
       "        }\n",
       "      });\n",
       "      // Destroy server and session\n",
       "      var cmd = \"import bokeh.io.notebook as ion; ion.destroy_server('\" + server_id + \"')\";\n",
       "      cell.notebook.kernel.execute(cmd);\n",
       "    }\n",
       "  }\n",
       "\n",
       "  /**\n",
       "   * Handle when a new output is added\n",
       "   */\n",
       "  function handleAddOutput(event, handle) {\n",
       "    var output_area = handle.output_area;\n",
       "    var output = handle.output;\n",
       "\n",
       "    // limit handleAddOutput to display_data with EXEC_MIME_TYPE content only\n",
       "    if ((output.output_type != \"display_data\") || (!output.data.hasOwnProperty(EXEC_MIME_TYPE))) {\n",
       "      return\n",
       "    }\n",
       "\n",
       "    var toinsert = output_area.element.find(\".\" + CLASS_NAME.split(' ')[0]);\n",
       "\n",
       "    if (output.metadata[EXEC_MIME_TYPE][\"id\"] !== undefined) {\n",
       "      toinsert[toinsert.length - 1].firstChild.textContent = output.data[JS_MIME_TYPE];\n",
       "      // store reference to embed id on output_area\n",
       "      output_area._bokeh_element_id = output.metadata[EXEC_MIME_TYPE][\"id\"];\n",
       "    }\n",
       "    if (output.metadata[EXEC_MIME_TYPE][\"server_id\"] !== undefined) {\n",
       "      var bk_div = document.createElement(\"div\");\n",
       "      bk_div.innerHTML = output.data[HTML_MIME_TYPE];\n",
       "      var script_attrs = bk_div.children[0].attributes;\n",
       "      for (var i = 0; i < script_attrs.length; i++) {\n",
       "        toinsert[toinsert.length - 1].firstChild.setAttribute(script_attrs[i].name, script_attrs[i].value);\n",
       "      }\n",
       "      // store reference to server id on output_area\n",
       "      output_area._bokeh_server_id = output.metadata[EXEC_MIME_TYPE][\"server_id\"];\n",
       "    }\n",
       "  }\n",
       "\n",
       "  function register_renderer(events, OutputArea) {\n",
       "\n",
       "    function append_mime(data, metadata, element) {\n",
       "      // create a DOM node to render to\n",
       "      var toinsert = this.create_output_subarea(\n",
       "        metadata,\n",
       "        CLASS_NAME,\n",
       "        EXEC_MIME_TYPE\n",
       "      );\n",
       "      this.keyboard_manager.register_events(toinsert);\n",
       "      // Render to node\n",
       "      var props = {data: data, metadata: metadata[EXEC_MIME_TYPE]};\n",
       "      render(props, toinsert[toinsert.length - 1]);\n",
       "      element.append(toinsert);\n",
       "      return toinsert\n",
       "    }\n",
       "\n",
       "    /* Handle when an output is cleared or removed */\n",
       "    events.on('clear_output.CodeCell', handleClearOutput);\n",
       "    events.on('delete.Cell', handleClearOutput);\n",
       "\n",
       "    /* Handle when a new output is added */\n",
       "    events.on('output_added.OutputArea', handleAddOutput);\n",
       "\n",
       "    /**\n",
       "     * Register the mime type and append_mime function with output_area\n",
       "     */\n",
       "    OutputArea.prototype.register_mime_type(EXEC_MIME_TYPE, append_mime, {\n",
       "      /* Is output safe? */\n",
       "      safe: true,\n",
       "      /* Index of renderer in `output_area.display_order` */\n",
       "      index: 0\n",
       "    });\n",
       "  }\n",
       "\n",
       "  // register the mime type if in Jupyter Notebook environment and previously unregistered\n",
       "  if (root.Jupyter !== undefined) {\n",
       "    var events = require('base/js/events');\n",
       "    var OutputArea = require('notebook/js/outputarea').OutputArea;\n",
       "\n",
       "    if (OutputArea.prototype.mime_types().indexOf(EXEC_MIME_TYPE) == -1) {\n",
       "      register_renderer(events, OutputArea);\n",
       "    }\n",
       "  }\n",
       "\n",
       "  \n",
       "  if (typeof (root._bokeh_timeout) === \"undefined\" || force === true) {\n",
       "    root._bokeh_timeout = Date.now() + 5000;\n",
       "    root._bokeh_failed_load = false;\n",
       "  }\n",
       "\n",
       "  var NB_LOAD_WARNING = {'data': {'text/html':\n",
       "     \"<div style='background-color: #fdd'>\\n\"+\n",
       "     \"<p>\\n\"+\n",
       "     \"BokehJS does not appear to have successfully loaded. If loading BokehJS from CDN, this \\n\"+\n",
       "     \"may be due to a slow or bad network connection. Possible fixes:\\n\"+\n",
       "     \"</p>\\n\"+\n",
       "     \"<ul>\\n\"+\n",
       "     \"<li>re-rerun `output_notebook()` to attempt to load from CDN again, or</li>\\n\"+\n",
       "     \"<li>use INLINE resources instead, as so:</li>\\n\"+\n",
       "     \"</ul>\\n\"+\n",
       "     \"<code>\\n\"+\n",
       "     \"from bokeh.resources import INLINE\\n\"+\n",
       "     \"output_notebook(resources=INLINE)\\n\"+\n",
       "     \"</code>\\n\"+\n",
       "     \"</div>\"}};\n",
       "\n",
       "  function display_loaded() {\n",
       "    var el = document.getElementById(\"1001\");\n",
       "    if (el != null) {\n",
       "      el.textContent = \"BokehJS is loading...\";\n",
       "    }\n",
       "    if (root.Bokeh !== undefined) {\n",
       "      if (el != null) {\n",
       "        el.textContent = \"BokehJS \" + root.Bokeh.version + \" successfully loaded.\";\n",
       "      }\n",
       "    } else if (Date.now() < root._bokeh_timeout) {\n",
       "      setTimeout(display_loaded, 100)\n",
       "    }\n",
       "  }\n",
       "\n",
       "\n",
       "  function run_callbacks() {\n",
       "    try {\n",
       "      root._bokeh_onload_callbacks.forEach(function(callback) {\n",
       "        if (callback != null)\n",
       "          callback();\n",
       "      });\n",
       "    } finally {\n",
       "      delete root._bokeh_onload_callbacks\n",
       "    }\n",
       "    console.debug(\"Bokeh: all callbacks have finished\");\n",
       "  }\n",
       "\n",
       "  function load_libs(css_urls, js_urls, callback) {\n",
       "    if (css_urls == null) css_urls = [];\n",
       "    if (js_urls == null) js_urls = [];\n",
       "\n",
       "    root._bokeh_onload_callbacks.push(callback);\n",
       "    if (root._bokeh_is_loading > 0) {\n",
       "      console.debug(\"Bokeh: BokehJS is being loaded, scheduling callback at\", now());\n",
       "      return null;\n",
       "    }\n",
       "    if (js_urls == null || js_urls.length === 0) {\n",
       "      run_callbacks();\n",
       "      return null;\n",
       "    }\n",
       "    console.debug(\"Bokeh: BokehJS not loaded, scheduling load and callback at\", now());\n",
       "    root._bokeh_is_loading = css_urls.length + js_urls.length;\n",
       "\n",
       "    function on_load() {\n",
       "      root._bokeh_is_loading--;\n",
       "      if (root._bokeh_is_loading === 0) {\n",
       "        console.debug(\"Bokeh: all BokehJS libraries/stylesheets loaded\");\n",
       "        run_callbacks()\n",
       "      }\n",
       "    }\n",
       "\n",
       "    function on_error() {\n",
       "      console.error(\"failed to load \" + url);\n",
       "    }\n",
       "\n",
       "    for (var i = 0; i < css_urls.length; i++) {\n",
       "      var url = css_urls[i];\n",
       "      const element = document.createElement(\"link\");\n",
       "      element.onload = on_load;\n",
       "      element.onerror = on_error;\n",
       "      element.rel = \"stylesheet\";\n",
       "      element.type = \"text/css\";\n",
       "      element.href = url;\n",
       "      console.debug(\"Bokeh: injecting link tag for BokehJS stylesheet: \", url);\n",
       "      document.body.appendChild(element);\n",
       "    }\n",
       "\n",
       "    for (var i = 0; i < js_urls.length; i++) {\n",
       "      var url = js_urls[i];\n",
       "      var element = document.createElement('script');\n",
       "      element.onload = on_load;\n",
       "      element.onerror = on_error;\n",
       "      element.async = false;\n",
       "      element.src = url;\n",
       "      console.debug(\"Bokeh: injecting script tag for BokehJS library: \", url);\n",
       "      document.head.appendChild(element);\n",
       "    }\n",
       "  };var element = document.getElementById(\"1001\");\n",
       "  if (element == null) {\n",
       "    console.error(\"Bokeh: ERROR: autoload.js configured with elementid '1001' but no matching script tag was found. \")\n",
       "    return false;\n",
       "  }\n",
       "\n",
       "  function inject_raw_css(css) {\n",
       "    const element = document.createElement(\"style\");\n",
       "    element.appendChild(document.createTextNode(css));\n",
       "    document.body.appendChild(element);\n",
       "  }\n",
       "\n",
       "  var js_urls = [\"https://cdn.pydata.org/bokeh/release/bokeh-1.2.0.min.js\", \"https://cdn.pydata.org/bokeh/release/bokeh-widgets-1.2.0.min.js\", \"https://cdn.pydata.org/bokeh/release/bokeh-tables-1.2.0.min.js\", \"https://cdn.pydata.org/bokeh/release/bokeh-gl-1.2.0.min.js\"];\n",
       "  var css_urls = [\"https://cdn.pydata.org/bokeh/release/bokeh-1.2.0.min.css\", \"https://cdn.pydata.org/bokeh/release/bokeh-widgets-1.2.0.min.css\", \"https://cdn.pydata.org/bokeh/release/bokeh-tables-1.2.0.min.css\"];\n",
       "\n",
       "  var inline_js = [\n",
       "    function(Bokeh) {\n",
       "      Bokeh.set_log_level(\"info\");\n",
       "    },\n",
       "    \n",
       "    function(Bokeh) {\n",
       "      \n",
       "    },\n",
       "    function(Bokeh) {} // ensure no trailing comma for IE\n",
       "  ];\n",
       "\n",
       "  function run_inline_js() {\n",
       "    \n",
       "    if ((root.Bokeh !== undefined) || (force === true)) {\n",
       "      for (var i = 0; i < inline_js.length; i++) {\n",
       "        inline_js[i].call(root, root.Bokeh);\n",
       "      }if (force === true) {\n",
       "        display_loaded();\n",
       "      }} else if (Date.now() < root._bokeh_timeout) {\n",
       "      setTimeout(run_inline_js, 100);\n",
       "    } else if (!root._bokeh_failed_load) {\n",
       "      console.log(\"Bokeh: BokehJS failed to load within specified timeout.\");\n",
       "      root._bokeh_failed_load = true;\n",
       "    } else if (force !== true) {\n",
       "      var cell = $(document.getElementById(\"1001\")).parents('.cell').data().cell;\n",
       "      cell.output_area.append_execute_result(NB_LOAD_WARNING)\n",
       "    }\n",
       "\n",
       "  }\n",
       "\n",
       "  if (root._bokeh_is_loading === 0) {\n",
       "    console.debug(\"Bokeh: BokehJS loaded, going straight to plotting\");\n",
       "    run_inline_js();\n",
       "  } else {\n",
       "    load_libs(css_urls, js_urls, function() {\n",
       "      console.debug(\"Bokeh: BokehJS plotting callback run at\", now());\n",
       "      run_inline_js();\n",
       "    });\n",
       "  }\n",
       "}(window));"
      ],
      "application/vnd.bokehjs_load.v0+json": "\n(function(root) {\n  function now() {\n    return new Date();\n  }\n\n  var force = true;\n\n  if (typeof root._bokeh_onload_callbacks === \"undefined\" || force === true) {\n    root._bokeh_onload_callbacks = [];\n    root._bokeh_is_loading = undefined;\n  }\n\n  \n\n  \n  if (typeof (root._bokeh_timeout) === \"undefined\" || force === true) {\n    root._bokeh_timeout = Date.now() + 5000;\n    root._bokeh_failed_load = false;\n  }\n\n  var NB_LOAD_WARNING = {'data': {'text/html':\n     \"<div style='background-color: #fdd'>\\n\"+\n     \"<p>\\n\"+\n     \"BokehJS does not appear to have successfully loaded. If loading BokehJS from CDN, this \\n\"+\n     \"may be due to a slow or bad network connection. Possible fixes:\\n\"+\n     \"</p>\\n\"+\n     \"<ul>\\n\"+\n     \"<li>re-rerun `output_notebook()` to attempt to load from CDN again, or</li>\\n\"+\n     \"<li>use INLINE resources instead, as so:</li>\\n\"+\n     \"</ul>\\n\"+\n     \"<code>\\n\"+\n     \"from bokeh.resources import INLINE\\n\"+\n     \"output_notebook(resources=INLINE)\\n\"+\n     \"</code>\\n\"+\n     \"</div>\"}};\n\n  function display_loaded() {\n    var el = document.getElementById(\"1001\");\n    if (el != null) {\n      el.textContent = \"BokehJS is loading...\";\n    }\n    if (root.Bokeh !== undefined) {\n      if (el != null) {\n        el.textContent = \"BokehJS \" + root.Bokeh.version + \" successfully loaded.\";\n      }\n    } else if (Date.now() < root._bokeh_timeout) {\n      setTimeout(display_loaded, 100)\n    }\n  }\n\n\n  function run_callbacks() {\n    try {\n      root._bokeh_onload_callbacks.forEach(function(callback) {\n        if (callback != null)\n          callback();\n      });\n    } finally {\n      delete root._bokeh_onload_callbacks\n    }\n    console.debug(\"Bokeh: all callbacks have finished\");\n  }\n\n  function load_libs(css_urls, js_urls, callback) {\n    if (css_urls == null) css_urls = [];\n    if (js_urls == null) js_urls = [];\n\n    root._bokeh_onload_callbacks.push(callback);\n    if (root._bokeh_is_loading > 0) {\n      console.debug(\"Bokeh: BokehJS is being loaded, scheduling callback at\", now());\n      return null;\n    }\n    if (js_urls == null || js_urls.length === 0) {\n      run_callbacks();\n      return null;\n    }\n    console.debug(\"Bokeh: BokehJS not loaded, scheduling load and callback at\", now());\n    root._bokeh_is_loading = css_urls.length + js_urls.length;\n\n    function on_load() {\n      root._bokeh_is_loading--;\n      if (root._bokeh_is_loading === 0) {\n        console.debug(\"Bokeh: all BokehJS libraries/stylesheets loaded\");\n        run_callbacks()\n      }\n    }\n\n    function on_error() {\n      console.error(\"failed to load \" + url);\n    }\n\n    for (var i = 0; i < css_urls.length; i++) {\n      var url = css_urls[i];\n      const element = document.createElement(\"link\");\n      element.onload = on_load;\n      element.onerror = on_error;\n      element.rel = \"stylesheet\";\n      element.type = \"text/css\";\n      element.href = url;\n      console.debug(\"Bokeh: injecting link tag for BokehJS stylesheet: \", url);\n      document.body.appendChild(element);\n    }\n\n    for (var i = 0; i < js_urls.length; i++) {\n      var url = js_urls[i];\n      var element = document.createElement('script');\n      element.onload = on_load;\n      element.onerror = on_error;\n      element.async = false;\n      element.src = url;\n      console.debug(\"Bokeh: injecting script tag for BokehJS library: \", url);\n      document.head.appendChild(element);\n    }\n  };var element = document.getElementById(\"1001\");\n  if (element == null) {\n    console.error(\"Bokeh: ERROR: autoload.js configured with elementid '1001' but no matching script tag was found. \")\n    return false;\n  }\n\n  function inject_raw_css(css) {\n    const element = document.createElement(\"style\");\n    element.appendChild(document.createTextNode(css));\n    document.body.appendChild(element);\n  }\n\n  var js_urls = [\"https://cdn.pydata.org/bokeh/release/bokeh-1.2.0.min.js\", \"https://cdn.pydata.org/bokeh/release/bokeh-widgets-1.2.0.min.js\", \"https://cdn.pydata.org/bokeh/release/bokeh-tables-1.2.0.min.js\", \"https://cdn.pydata.org/bokeh/release/bokeh-gl-1.2.0.min.js\"];\n  var css_urls = [\"https://cdn.pydata.org/bokeh/release/bokeh-1.2.0.min.css\", \"https://cdn.pydata.org/bokeh/release/bokeh-widgets-1.2.0.min.css\", \"https://cdn.pydata.org/bokeh/release/bokeh-tables-1.2.0.min.css\"];\n\n  var inline_js = [\n    function(Bokeh) {\n      Bokeh.set_log_level(\"info\");\n    },\n    \n    function(Bokeh) {\n      \n    },\n    function(Bokeh) {} // ensure no trailing comma for IE\n  ];\n\n  function run_inline_js() {\n    \n    if ((root.Bokeh !== undefined) || (force === true)) {\n      for (var i = 0; i < inline_js.length; i++) {\n        inline_js[i].call(root, root.Bokeh);\n      }if (force === true) {\n        display_loaded();\n      }} else if (Date.now() < root._bokeh_timeout) {\n      setTimeout(run_inline_js, 100);\n    } else if (!root._bokeh_failed_load) {\n      console.log(\"Bokeh: BokehJS failed to load within specified timeout.\");\n      root._bokeh_failed_load = true;\n    } else if (force !== true) {\n      var cell = $(document.getElementById(\"1001\")).parents('.cell').data().cell;\n      cell.output_area.append_execute_result(NB_LOAD_WARNING)\n    }\n\n  }\n\n  if (root._bokeh_is_loading === 0) {\n    console.debug(\"Bokeh: BokehJS loaded, going straight to plotting\");\n    run_inline_js();\n  } else {\n    load_libs(css_urls, js_urls, function() {\n      console.debug(\"Bokeh: BokehJS plotting callback run at\", now());\n      run_inline_js();\n    });\n  }\n}(window));"
     },
     "metadata": {},
     "output_type": "display_data"
    }
   ],
   "source": [
    "from bokeh.io import show, output_notebook\n",
    "from bokeh.layouts import gridplot\n",
    "from bokeh.models.scales import LogScale\n",
    "output_notebook()"
   ]
  },
  {
   "cell_type": "code",
   "execution_count": 36,
   "metadata": {},
   "outputs": [],
   "source": [
    "import pandas as pd"
   ]
  },
  {
   "cell_type": "markdown",
   "metadata": {},
   "source": [
    "## Load FarGen data\n",
    "\n",
    "Use LD pruned diallelic sites."
   ]
  },
  {
   "cell_type": "code",
   "execution_count": 3,
   "metadata": {},
   "outputs": [],
   "source": [
    "BASE_DIR = '/home/olavur/experiments/2020-11-13_fargen1_exome_analysis'\n",
    "mt = hl.read_matrix_table(BASE_DIR + '/data/mt/ld_pruned_diallelic_common.mt')"
   ]
  },
  {
   "cell_type": "code",
   "execution_count": 4,
   "metadata": {},
   "outputs": [
    {
     "name": "stdout",
     "output_type": "stream",
     "text": [
      "Number of variants: 134452\n",
      "Number of samples: 474\n"
     ]
    }
   ],
   "source": [
    "n_variants, n_samples = mt.count()\n",
    "print('Number of variants: ' + str(n_variants))\n",
    "print('Number of samples: ' + str(n_samples))"
   ]
  },
  {
   "cell_type": "markdown",
   "metadata": {},
   "source": [
    "## Annotate birth place region"
   ]
  },
  {
   "cell_type": "code",
   "execution_count": 7,
   "metadata": {},
   "outputs": [
    {
     "name": "stderr",
     "output_type": "stream",
     "text": [
      "2021-05-12 13:08:22 Hail: INFO: Reading table without type imputation\n",
      "  Loading field 'rin' as type str (not specified)\n",
      "  Loading field 'sample' as type str (not specified)\n"
     ]
    }
   ],
   "source": [
    "fargen_rin_ht = hl.import_table(BASE_DIR + '/data/metadata/birthplace/fargen_rin_samplename.csv', delimiter=',')\n",
    "fargen_rin_ht = fargen_rin_ht.key_by(fargen_rin_ht.rin)"
   ]
  },
  {
   "cell_type": "code",
   "execution_count": 8,
   "metadata": {},
   "outputs": [
    {
     "name": "stdout",
     "output_type": "stream",
     "text": [
      "----------------------------------------\n",
      "Global fields:\n",
      "    None\n",
      "----------------------------------------\n",
      "Row fields:\n",
      "    'rin': str \n",
      "    'sample': str \n",
      "----------------------------------------\n",
      "Key: ['rin']\n",
      "----------------------------------------\n"
     ]
    }
   ],
   "source": [
    "fargen_rin_ht.describe()"
   ]
  },
  {
   "cell_type": "code",
   "execution_count": 28,
   "metadata": {},
   "outputs": [
    {
     "name": "stderr",
     "output_type": "stream",
     "text": [
      "2021-05-12 13:19:27 Hail: INFO: Reading table without type imputation\n",
      "  Loading field 'ind' as type str (not specified)\n",
      "  Loading field 'region' as type str (not specified)\n"
     ]
    }
   ],
   "source": [
    "rin_birthplace_ht = hl.import_table(BASE_DIR + '/data/metadata/birthplace/rin_region.csv', delimiter=',')\n",
    "# Rename \"ind\" to \"rin\".\n",
    "# Convert the region variable to float.\n",
    "rin_birthplace_ht = rin_birthplace_ht.transmute(rin=rin_birthplace_ht.ind, birthplace=hl.float64(rin_birthplace_ht.region))\n",
    "\n",
    "rin_birthplace_ht = rin_birthplace_ht.key_by(rin_birthplace_ht.rin)"
   ]
  },
  {
   "cell_type": "code",
   "execution_count": 29,
   "metadata": {},
   "outputs": [
    {
     "name": "stdout",
     "output_type": "stream",
     "text": [
      "----------------------------------------\n",
      "Global fields:\n",
      "    None\n",
      "----------------------------------------\n",
      "Row fields:\n",
      "    'rin': str \n",
      "    'birthplace': float64 \n",
      "----------------------------------------\n",
      "Key: ['rin']\n",
      "----------------------------------------\n"
     ]
    }
   ],
   "source": [
    "rin_birthplace_ht.describe()"
   ]
  },
  {
   "cell_type": "code",
   "execution_count": 30,
   "metadata": {},
   "outputs": [],
   "source": [
    "# Annotate the table with the birthplace by the samplenames.\n",
    "samplename_birthplace_ht = rin_birthplace_ht.annotate(samplename=fargen_rin_ht[rin_birthplace_ht.rin].sample)\n",
    "samplename_birthplace_ht = samplename_birthplace_ht.key_by(samplename_birthplace_ht.samplename)"
   ]
  },
  {
   "cell_type": "code",
   "execution_count": 31,
   "metadata": {},
   "outputs": [
    {
     "name": "stdout",
     "output_type": "stream",
     "text": [
      "----------------------------------------\n",
      "Global fields:\n",
      "    None\n",
      "----------------------------------------\n",
      "Row fields:\n",
      "    'rin': str \n",
      "    'birthplace': float64 \n",
      "    'samplename': str \n",
      "----------------------------------------\n",
      "Key: ['samplename']\n",
      "----------------------------------------\n"
     ]
    }
   ],
   "source": [
    "samplename_birthplace_ht.describe()"
   ]
  },
  {
   "cell_type": "code",
   "execution_count": 34,
   "metadata": {},
   "outputs": [
    {
     "name": "stderr",
     "output_type": "stream",
     "text": [
      "2021-05-12 13:19:52 Hail: INFO: Ordering unsorted dataset with network shuffle\n",
      "2021-05-12 13:19:52 Hail: INFO: Ordering unsorted dataset with network shuffle\n",
      "2021-05-12 13:19:54 Hail: INFO: Ordering unsorted dataset with network shuffle\n",
      "2021-05-12 13:19:54 Hail: INFO: Ordering unsorted dataset with network shuffle\n",
      "2021-05-12 13:19:57 Hail: INFO: Ordering unsorted dataset with network shuffle\n",
      "2021-05-12 13:19:57 Hail: INFO: Ordering unsorted dataset with network shuffle\n"
     ]
    },
    {
     "data": {
      "text/html": [
       "\n",
       "\n",
       "\n",
       "\n",
       "\n",
       "\n",
       "  <div class=\"bk-root\" id=\"c6751588-b20d-4bd9-8bb1-48f08eabdda3\" data-root-id=\"1002\"></div>\n"
      ]
     },
     "metadata": {},
     "output_type": "display_data"
    },
    {
     "data": {
      "application/javascript": [
       "(function(root) {\n",
       "  function embed_document(root) {\n",
       "    \n",
       "  var docs_json = {\"b25d993f-1a89-4b8b-9b2b-2069754d9f64\":{\"roots\":{\"references\":[{\"attributes\":{\"background_fill_color\":{\"value\":\"#EEEEEE\"},\"below\":[{\"id\":\"1012\",\"type\":\"LinearAxis\"}],\"center\":[{\"id\":\"1016\",\"type\":\"Grid\"},{\"id\":\"1021\",\"type\":\"Grid\"}],\"left\":[{\"id\":\"1017\",\"type\":\"LinearAxis\"}],\"renderers\":[{\"id\":\"1038\",\"type\":\"GlyphRenderer\"}],\"title\":null,\"toolbar\":{\"id\":\"1028\",\"type\":\"Toolbar\"},\"x_range\":{\"id\":\"1004\",\"type\":\"Range1d\"},\"x_scale\":{\"id\":\"1008\",\"type\":\"LinearScale\"},\"y_range\":{\"id\":\"1006\",\"type\":\"DataRange1d\"},\"y_scale\":{\"id\":\"1010\",\"type\":\"LinearScale\"}},\"id\":\"1002\",\"subtype\":\"Figure\",\"type\":\"Plot\"},{\"attributes\":{\"overlay\":{\"id\":\"1047\",\"type\":\"BoxAnnotation\"}},\"id\":\"1024\",\"type\":\"BoxZoomTool\"},{\"attributes\":{},\"id\":\"1018\",\"type\":\"BasicTicker\"},{\"attributes\":{},\"id\":\"1022\",\"type\":\"PanTool\"},{\"attributes\":{},\"id\":\"1043\",\"type\":\"BasicTickFormatter\"},{\"attributes\":{\"formatter\":{\"id\":\"1043\",\"type\":\"BasicTickFormatter\"},\"ticker\":{\"id\":\"1013\",\"type\":\"BasicTicker\"}},\"id\":\"1012\",\"type\":\"LinearAxis\"},{\"attributes\":{\"data_source\":{\"id\":\"1035\",\"type\":\"ColumnDataSource\"},\"glyph\":{\"id\":\"1036\",\"type\":\"Quad\"},\"hover_glyph\":null,\"muted_glyph\":null,\"nonselection_glyph\":{\"id\":\"1037\",\"type\":\"Quad\"},\"selection_glyph\":null,\"view\":{\"id\":\"1039\",\"type\":\"CDSView\"}},\"id\":\"1038\",\"type\":\"GlyphRenderer\"},{\"attributes\":{\"active_drag\":\"auto\",\"active_inspect\":\"auto\",\"active_multi\":null,\"active_scroll\":\"auto\",\"active_tap\":\"auto\",\"tools\":[{\"id\":\"1022\",\"type\":\"PanTool\"},{\"id\":\"1023\",\"type\":\"WheelZoomTool\"},{\"id\":\"1024\",\"type\":\"BoxZoomTool\"},{\"id\":\"1025\",\"type\":\"SaveTool\"},{\"id\":\"1026\",\"type\":\"ResetTool\"},{\"id\":\"1027\",\"type\":\"HelpTool\"}]},\"id\":\"1028\",\"type\":\"Toolbar\"},{\"attributes\":{\"bottom_units\":\"screen\",\"fill_alpha\":{\"value\":0.5},\"fill_color\":{\"value\":\"lightgrey\"},\"left_units\":\"screen\",\"level\":\"overlay\",\"line_alpha\":{\"value\":1.0},\"line_color\":{\"value\":\"black\"},\"line_dash\":[4,4],\"line_width\":{\"value\":2},\"render_mode\":\"css\",\"right_units\":\"screen\",\"top_units\":\"screen\"},\"id\":\"1047\",\"type\":\"BoxAnnotation\"},{\"attributes\":{},\"id\":\"1008\",\"type\":\"LinearScale\"},{\"attributes\":{},\"id\":\"1027\",\"type\":\"HelpTool\"},{\"attributes\":{},\"id\":\"1010\",\"type\":\"LinearScale\"},{\"attributes\":{\"source\":{\"id\":\"1035\",\"type\":\"ColumnDataSource\"}},\"id\":\"1039\",\"type\":\"CDSView\"},{\"attributes\":{},\"id\":\"1013\",\"type\":\"BasicTicker\"},{\"attributes\":{},\"id\":\"1023\",\"type\":\"WheelZoomTool\"},{\"attributes\":{},\"id\":\"1026\",\"type\":\"ResetTool\"},{\"attributes\":{\"ticker\":{\"id\":\"1013\",\"type\":\"BasicTicker\"}},\"id\":\"1016\",\"type\":\"Grid\"},{\"attributes\":{\"callback\":null,\"end\":6.25,\"start\":0.75},\"id\":\"1004\",\"type\":\"Range1d\"},{\"attributes\":{},\"id\":\"1045\",\"type\":\"UnionRenderers\"},{\"attributes\":{\"callback\":null,\"data\":{\"left\":[1.0,1.1,1.2,1.3,1.4,1.5,1.6,1.7000000000000002,1.8,1.9,2.0,2.1,2.2,2.3,2.4000000000000004,2.5,2.6,2.7,2.8,2.9000000000000004,3.0,3.1,3.2,3.3000000000000003,3.4000000000000004,3.5,3.6,3.7,3.8000000000000003,3.9000000000000004,4.0,4.1,4.2,4.300000000000001,4.4,4.5,4.6,4.7,4.800000000000001,4.9,5.0,5.1000000000000005,5.2,5.3,5.4,5.5,5.6000000000000005,5.7,5.800000000000001,5.9],\"right\":[1.1,1.2,1.3,1.4,1.5,1.6,1.7000000000000002,1.8,1.9,2.0,2.1,2.2,2.3,2.4000000000000004,2.5,2.6,2.7,2.8,2.9000000000000004,3.0,3.1,3.2,3.3000000000000003,3.4000000000000004,3.5,3.6,3.7,3.8000000000000003,3.9000000000000004,4.0,4.1,4.2,4.300000000000001,4.4,4.5,4.6,4.7,4.800000000000001,4.9,5.0,5.1000000000000005,5.2,5.3,5.4,5.5,5.6000000000000005,5.7,5.800000000000001,5.9,6.0],\"top\":[69,0,0,0,0,0,0,0,0,0,101,0,0,0,0,0,0,0,0,0,181,0,0,0,0,0,0,0,0,0,28,0,0,0,0,0,0,0,0,0,17,0,0,0,0,0,0,0,0,34]},\"selected\":{\"id\":\"1046\",\"type\":\"Selection\"},\"selection_policy\":{\"id\":\"1045\",\"type\":\"UnionRenderers\"}},\"id\":\"1035\",\"type\":\"ColumnDataSource\"},{\"attributes\":{\"callback\":null},\"id\":\"1006\",\"type\":\"DataRange1d\"},{\"attributes\":{\"bottom\":{\"value\":0},\"fill_alpha\":{\"value\":0.1},\"fill_color\":{\"value\":\"#1f77b4\"},\"left\":{\"field\":\"left\"},\"line_alpha\":{\"value\":0.1},\"line_color\":{\"value\":\"#1f77b4\"},\"right\":{\"field\":\"right\"},\"top\":{\"field\":\"top\"}},\"id\":\"1037\",\"type\":\"Quad\"},{\"attributes\":{},\"id\":\"1025\",\"type\":\"SaveTool\"},{\"attributes\":{},\"id\":\"1041\",\"type\":\"BasicTickFormatter\"},{\"attributes\":{\"dimension\":1,\"ticker\":{\"id\":\"1018\",\"type\":\"BasicTicker\"}},\"id\":\"1021\",\"type\":\"Grid\"},{\"attributes\":{\"bottom\":{\"value\":0},\"fill_color\":{\"value\":\"#1f77b4\"},\"left\":{\"field\":\"left\"},\"right\":{\"field\":\"right\"},\"top\":{\"field\":\"top\"}},\"id\":\"1036\",\"type\":\"Quad\"},{\"attributes\":{},\"id\":\"1046\",\"type\":\"Selection\"},{\"attributes\":{\"axis_label\":\"Frequency\",\"formatter\":{\"id\":\"1041\",\"type\":\"BasicTickFormatter\"},\"ticker\":{\"id\":\"1018\",\"type\":\"BasicTicker\"}},\"id\":\"1017\",\"type\":\"LinearAxis\"}],\"root_ids\":[\"1002\"]},\"title\":\"Bokeh Application\",\"version\":\"1.2.0\"}};\n",
       "  var render_items = [{\"docid\":\"b25d993f-1a89-4b8b-9b2b-2069754d9f64\",\"roots\":{\"1002\":\"c6751588-b20d-4bd9-8bb1-48f08eabdda3\"}}];\n",
       "  root.Bokeh.embed.embed_items_notebook(docs_json, render_items);\n",
       "\n",
       "  }\n",
       "  if (root.Bokeh !== undefined) {\n",
       "    embed_document(root);\n",
       "  } else {\n",
       "    var attempts = 0;\n",
       "    var timer = setInterval(function(root) {\n",
       "      if (root.Bokeh !== undefined) {\n",
       "        embed_document(root);\n",
       "        clearInterval(timer);\n",
       "      }\n",
       "      attempts++;\n",
       "      if (attempts > 100) {\n",
       "        console.log(\"Bokeh: ERROR: Unable to run BokehJS code because BokehJS library is missing\");\n",
       "        clearInterval(timer);\n",
       "      }\n",
       "    }, 10, root)\n",
       "  }\n",
       "})(window);"
      ],
      "application/vnd.bokehjs_exec.v0+json": ""
     },
     "metadata": {
      "application/vnd.bokehjs_exec.v0+json": {
       "id": "1002"
      }
     },
     "output_type": "display_data"
    }
   ],
   "source": [
    "p = hl.plot.histogram(mt.birthplace)\n",
    "show(p)"
   ]
  },
  {
   "cell_type": "markdown",
   "metadata": {},
   "source": [
    "## Compute PCA"
   ]
  },
  {
   "cell_type": "code",
   "execution_count": 61,
   "metadata": {},
   "outputs": [
    {
     "name": "stderr",
     "output_type": "stream",
     "text": [
      "2021-05-12 13:28:23 Hail: INFO: hwe_normalized_pca: running PCA using 134452 variants.\n",
      "2021-05-12 13:28:25 Hail: INFO: pca: running PCA with 2 components...\n"
     ]
    }
   ],
   "source": [
    "eigenvalues, scores, loadings = hl.hwe_normalized_pca(mt.GT, k=2)"
   ]
  },
  {
   "cell_type": "code",
   "execution_count": 62,
   "metadata": {},
   "outputs": [],
   "source": [
    "mt = mt.annotate_cols(scores = scores[mt.s].scores)"
   ]
  },
  {
   "cell_type": "code",
   "execution_count": 64,
   "metadata": {},
   "outputs": [
    {
     "name": "stderr",
     "output_type": "stream",
     "text": [
      "2021-05-12 13:29:48 Hail: INFO: Ordering unsorted dataset with network shuffle\n",
      "2021-05-12 13:29:48 Hail: INFO: Ordering unsorted dataset with network shuffle\n",
      "2021-05-12 13:29:49 Hail: INFO: Ordering unsorted dataset with network shuffle\n",
      "2021-05-12 13:29:49 Hail: INFO: Ordering unsorted dataset with network shuffle\n"
     ]
    },
    {
     "data": {
      "text/html": [
       "\n",
       "\n",
       "\n",
       "\n",
       "\n",
       "\n",
       "  <div class=\"bk-root\" id=\"14ba3074-74a9-447a-a111-b70c8ff67708\" data-root-id=\"1219\"></div>\n"
      ]
     },
     "metadata": {},
     "output_type": "display_data"
    },
    {
     "data": {
      "application/javascript": [
       "(function(root) {\n",
       "  function embed_document(root) {\n",
       "    \n",
       "  var docs_json = {\"05b2d52d-75e1-45ad-ace4-2119bc2eee45\":{\"roots\":{\"references\":[{\"attributes\":{\"below\":[{\"id\":\"1230\",\"type\":\"LinearAxis\"}],\"center\":[{\"id\":\"1234\",\"type\":\"Grid\"},{\"id\":\"1239\",\"type\":\"Grid\"}],\"left\":[{\"id\":\"1235\",\"type\":\"LinearAxis\"},{\"id\":\"1306\",\"type\":\"Legend\"},{\"id\":\"1307\",\"type\":\"ColorBar\"}],\"plot_height\":600,\"plot_width\":800,\"renderers\":[{\"id\":\"1262\",\"type\":\"GlyphRenderer\"},{\"id\":\"1268\",\"type\":\"GlyphRenderer\"},{\"id\":\"1274\",\"type\":\"GlyphRenderer\"},{\"id\":\"1280\",\"type\":\"GlyphRenderer\"},{\"id\":\"1286\",\"type\":\"GlyphRenderer\"},{\"id\":\"1292\",\"type\":\"GlyphRenderer\"},{\"id\":\"1298\",\"type\":\"GlyphRenderer\"}],\"title\":{\"id\":\"1220\",\"type\":\"Title\"},\"toolbar\":{\"id\":\"1246\",\"type\":\"Toolbar\"},\"x_range\":{\"id\":\"1222\",\"type\":\"DataRange1d\"},\"x_scale\":{\"id\":\"1226\",\"type\":\"LinearScale\"},\"y_range\":{\"id\":\"1224\",\"type\":\"DataRange1d\"},\"y_scale\":{\"id\":\"1228\",\"type\":\"LinearScale\"}},\"id\":\"1219\",\"subtype\":\"Figure\",\"type\":\"Plot\"},{\"attributes\":{\"data_source\":{\"id\":\"1255\",\"type\":\"ColumnDataSource\"},\"glyph\":{\"id\":\"1290\",\"type\":\"Circle\"},\"hover_glyph\":null,\"muted_glyph\":null,\"nonselection_glyph\":{\"id\":\"1291\",\"type\":\"Circle\"},\"selection_glyph\":null,\"view\":{\"id\":\"1288\",\"type\":\"CDSView\"}},\"id\":\"1292\",\"type\":\"GlyphRenderer\"},{\"attributes\":{\"callback\":null},\"id\":\"1224\",\"type\":\"DataRange1d\"},{\"attributes\":{\"fill_alpha\":{\"value\":0.1},\"fill_color\":{\"value\":\"#1f77b4\"},\"line_alpha\":{\"value\":0.1},\"line_color\":{\"value\":\"#1f77b4\"},\"x\":{\"field\":\"x\"},\"y\":{\"field\":\"y\"}},\"id\":\"1285\",\"type\":\"Circle\"},{\"attributes\":{},\"id\":\"1245\",\"type\":\"HelpTool\"},{\"attributes\":{\"click_policy\":\"hide\",\"items\":[{\"id\":\"1299\",\"type\":\"LegendItem\"},{\"id\":\"1300\",\"type\":\"LegendItem\"},{\"id\":\"1301\",\"type\":\"LegendItem\"},{\"id\":\"1302\",\"type\":\"LegendItem\"},{\"id\":\"1303\",\"type\":\"LegendItem\"},{\"id\":\"1304\",\"type\":\"LegendItem\"},{\"id\":\"1305\",\"type\":\"LegendItem\"}]},\"id\":\"1306\",\"type\":\"Legend\"},{\"attributes\":{\"callback\":null,\"data\":{\"index\":[0,1,2,3,4,5,6,7,8,9,10,11,12,13,14,15,16,17,18,19,20,21,22,23,24,25,26,27,28,29,30,31,32,33,34,35,36,37,38,39,40,41,42,43,44,45,46,47,48,49,50,51,52,53,54,55,56,57,58,59,60,61,62,63,64,65,66,67,68,69,70,71,72,73,74,75,76,77,78,79,80,81,82,83,84,85,86,87,88,89,90,91,92,93,94,95,96,97,98,99,100,101,102,103,104,105,106,107,108,109,110,111,112,113,114,115,116,117,118,119,120,121,122,123,124,125,126,127,128,129,130,131,132,133,134,135,136,137,138,139,140,141,142,143,144,145,146,147,148,149,150,151,152,153,154,155,156,157,158,159,160,161,162,163,164,165,166,167,168,169,170,171,172,173,174,175,176,177,178,179,180,181,182,183,184,185,186,187,188,189,190,191,192,193,194,195,196,197,198,199,200,201,202,203,204,205,206,207,208,209,210,211,212,213,214,215,216,217,218,219,220,221,222,223,224,225,226,227,228,229,230,231,232,233,234,235,236,237,238,239,240,241,242,243,244,245,246,247,248,249,250,251,252,253,254,255,256,257,258,259,260,261,262,263,264,265,266,267,268,269,270,271,272,273,274,275,276,277,278,279,280,281,282,283,284,285,286,287,288,289,290,291,292,293,294,295,296,297,298,299,300,301,302,303,304,305,306,307,308,309,310,311,312,313,314,315,316,317,318,319,320,321,322,323,324,325,326,327,328,329,330,331,332,333,334,335,336,337,338,339,340,341,342,343,344,345,346,347,348,349,350,351,352,353,354,355,356,357,358,359,360,361,362,363,364,365,366,367,368,369,370,371,372,373,374,375,376,377,378,379,380,381,382,383,384,385,386,387,388,389,390,391,392,393,394,395,396,397,398,399,400,401,402,403,404,405,406,407,408,409,410,411,412,413,414,415,416,417,418,419,420,421,422,423,424,425,426,427,428,429,430,431,432,433,434,435,436,437,438,439,440,441,442,443,444,445,446,447,448,449,450,451,452,453,454,455,456,457,458,459,460,461,462,463,464,465],\"label\":[\"5.00000e+00\",\"5.00000e+00\",\"3.00000e+00\",\"5.00000e+00\",\"4.00000e+00\",\"1.00000e+00\",\"1.00000e+00\",\"4.00000e+00\",\"NA\",\"3.00000e+00\",\"2.00000e+00\",\"6.00000e+00\",\"3.00000e+00\",\"2.00000e+00\",\"4.00000e+00\",\"1.00000e+00\",\"2.00000e+00\",\"4.00000e+00\",\"1.00000e+00\",\"1.00000e+00\",\"NA\",\"3.00000e+00\",\"5.00000e+00\",\"3.00000e+00\",\"2.00000e+00\",\"3.00000e+00\",\"3.00000e+00\",\"6.00000e+00\",\"1.00000e+00\",\"3.00000e+00\",\"4.00000e+00\",\"1.00000e+00\",\"4.00000e+00\",\"3.00000e+00\",\"3.00000e+00\",\"3.00000e+00\",\"4.00000e+00\",\"1.00000e+00\",\"3.00000e+00\",\"3.00000e+00\",\"1.00000e+00\",\"2.00000e+00\",\"2.00000e+00\",\"1.00000e+00\",\"1.00000e+00\",\"2.00000e+00\",\"3.00000e+00\",\"5.00000e+00\",\"6.00000e+00\",\"2.00000e+00\",\"2.00000e+00\",\"3.00000e+00\",\"NA\",\"3.00000e+00\",\"3.00000e+00\",\"4.00000e+00\",\"3.00000e+00\",\"3.00000e+00\",\"3.00000e+00\",\"1.00000e+00\",\"NA\",\"2.00000e+00\",\"3.00000e+00\",\"3.00000e+00\",\"4.00000e+00\",\"NA\",\"3.00000e+00\",\"2.00000e+00\",\"3.00000e+00\",\"2.00000e+00\",\"NA\",\"2.00000e+00\",\"NA\",\"NA\",\"5.00000e+00\",\"4.00000e+00\",\"3.00000e+00\",\"2.00000e+00\",\"2.00000e+00\",\"3.00000e+00\",\"2.00000e+00\",\"3.00000e+00\",\"3.00000e+00\",\"3.00000e+00\",\"3.00000e+00\",\"2.00000e+00\",\"3.00000e+00\",\"3.00000e+00\",\"1.00000e+00\",\"3.00000e+00\",\"1.00000e+00\",\"3.00000e+00\",\"2.00000e+00\",\"2.00000e+00\",\"NA\",\"4.00000e+00\",\"3.00000e+00\",\"3.00000e+00\",\"4.00000e+00\",\"NA\",\"4.00000e+00\",\"NA\",\"3.00000e+00\",\"2.00000e+00\",\"6.00000e+00\",\"1.00000e+00\",\"2.00000e+00\",\"3.00000e+00\",\"3.00000e+00\",\"3.00000e+00\",\"3.00000e+00\",\"1.00000e+00\",\"2.00000e+00\",\"2.00000e+00\",\"6.00000e+00\",\"NA\",\"NA\",\"3.00000e+00\",\"2.00000e+00\",\"1.00000e+00\",\"2.00000e+00\",\"NA\",\"2.00000e+00\",\"2.00000e+00\",\"3.00000e+00\",\"3.00000e+00\",\"3.00000e+00\",\"2.00000e+00\",\"3.00000e+00\",\"NA\",\"6.00000e+00\",\"3.00000e+00\",\"2.00000e+00\",\"NA\",\"3.00000e+00\",\"NA\",\"6.00000e+00\",\"2.00000e+00\",\"2.00000e+00\",\"1.00000e+00\",\"2.00000e+00\",\"3.00000e+00\",\"3.00000e+00\",\"2.00000e+00\",\"1.00000e+00\",\"5.00000e+00\",\"3.00000e+00\",\"3.00000e+00\",\"2.00000e+00\",\"3.00000e+00\",\"NA\",\"3.00000e+00\",\"6.00000e+00\",\"3.00000e+00\",\"3.00000e+00\",\"3.00000e+00\",\"2.00000e+00\",\"NA\",\"3.00000e+00\",\"2.00000e+00\",\"1.00000e+00\",\"3.00000e+00\",\"2.00000e+00\",\"3.00000e+00\",\"2.00000e+00\",\"2.00000e+00\",\"2.00000e+00\",\"2.00000e+00\",\"2.00000e+00\",\"NA\",\"4.00000e+00\",\"NA\",\"3.00000e+00\",\"2.00000e+00\",\"3.00000e+00\",\"3.00000e+00\",\"2.00000e+00\",\"3.00000e+00\",\"3.00000e+00\",\"3.00000e+00\",\"1.00000e+00\",\"3.00000e+00\",\"2.00000e+00\",\"3.00000e+00\",\"1.00000e+00\",\"1.00000e+00\",\"3.00000e+00\",\"NA\",\"3.00000e+00\",\"1.00000e+00\",\"2.00000e+00\",\"3.00000e+00\",\"4.00000e+00\",\"1.00000e+00\",\"3.00000e+00\",\"NA\",\"3.00000e+00\",\"1.00000e+00\",\"3.00000e+00\",\"3.00000e+00\",\"1.00000e+00\",\"1.00000e+00\",\"2.00000e+00\",\"5.00000e+00\",\"3.00000e+00\",\"NA\",\"1.00000e+00\",\"2.00000e+00\",\"1.00000e+00\",\"2.00000e+00\",\"6.00000e+00\",\"1.00000e+00\",\"2.00000e+00\",\"1.00000e+00\",\"2.00000e+00\",\"1.00000e+00\",\"3.00000e+00\",\"2.00000e+00\",\"3.00000e+00\",\"6.00000e+00\",\"2.00000e+00\",\"3.00000e+00\",\"2.00000e+00\",\"3.00000e+00\",\"5.00000e+00\",\"4.00000e+00\",\"4.00000e+00\",\"4.00000e+00\",\"3.00000e+00\",\"3.00000e+00\",\"2.00000e+00\",\"2.00000e+00\",\"4.00000e+00\",\"3.00000e+00\",\"3.00000e+00\",\"2.00000e+00\",\"3.00000e+00\",\"1.00000e+00\",\"4.00000e+00\",\"1.00000e+00\",\"NA\",\"1.00000e+00\",\"5.00000e+00\",\"1.00000e+00\",\"5.00000e+00\",\"6.00000e+00\",\"2.00000e+00\",\"1.00000e+00\",\"2.00000e+00\",\"3.00000e+00\",\"3.00000e+00\",\"4.00000e+00\",\"1.00000e+00\",\"3.00000e+00\",\"3.00000e+00\",\"3.00000e+00\",\"1.00000e+00\",\"3.00000e+00\",\"5.00000e+00\",\"3.00000e+00\",\"3.00000e+00\",\"6.00000e+00\",\"3.00000e+00\",\"3.00000e+00\",\"3.00000e+00\",\"6.00000e+00\",\"6.00000e+00\",\"6.00000e+00\",\"1.00000e+00\",\"2.00000e+00\",\"6.00000e+00\",\"1.00000e+00\",\"2.00000e+00\",\"2.00000e+00\",\"4.00000e+00\",\"3.00000e+00\",\"3.00000e+00\",\"2.00000e+00\",\"NA\",\"3.00000e+00\",\"3.00000e+00\",\"1.00000e+00\",\"2.00000e+00\",\"4.00000e+00\",\"3.00000e+00\",\"2.00000e+00\",\"1.00000e+00\",\"3.00000e+00\",\"3.00000e+00\",\"NA\",\"3.00000e+00\",\"1.00000e+00\",\"2.00000e+00\",\"3.00000e+00\",\"1.00000e+00\",\"1.00000e+00\",\"3.00000e+00\",\"3.00000e+00\",\"3.00000e+00\",\"3.00000e+00\",\"3.00000e+00\",\"3.00000e+00\",\"2.00000e+00\",\"1.00000e+00\",\"2.00000e+00\",\"2.00000e+00\",\"1.00000e+00\",\"4.00000e+00\",\"NA\",\"3.00000e+00\",\"4.00000e+00\",\"2.00000e+00\",\"2.00000e+00\",\"2.00000e+00\",\"NA\",\"6.00000e+00\",\"2.00000e+00\",\"3.00000e+00\",\"1.00000e+00\",\"6.00000e+00\",\"3.00000e+00\",\"6.00000e+00\",\"1.00000e+00\",\"6.00000e+00\",\"2.00000e+00\",\"NA\",\"3.00000e+00\",\"1.00000e+00\",\"2.00000e+00\",\"3.00000e+00\",\"1.00000e+00\",\"3.00000e+00\",\"6.00000e+00\",\"2.00000e+00\",\"5.00000e+00\",\"1.00000e+00\",\"4.00000e+00\",\"2.00000e+00\",\"3.00000e+00\",\"2.00000e+00\",\"3.00000e+00\",\"3.00000e+00\",\"3.00000e+00\",\"3.00000e+00\",\"4.00000e+00\",\"3.00000e+00\",\"3.00000e+00\",\"2.00000e+00\",\"NA\",\"NA\",\"5.00000e+00\",\"1.00000e+00\",\"1.00000e+00\",\"2.00000e+00\",\"6.00000e+00\",\"3.00000e+00\",\"6.00000e+00\",\"3.00000e+00\",\"3.00000e+00\",\"2.00000e+00\",\"2.00000e+00\",\"NA\",\"2.00000e+00\",\"2.00000e+00\",\"3.00000e+00\",\"2.00000e+00\",\"3.00000e+00\",\"3.00000e+00\",\"3.00000e+00\",\"2.00000e+00\",\"3.00000e+00\",\"NA\",\"3.00000e+00\",\"1.00000e+00\",\"3.00000e+00\",\"3.00000e+00\",\"3.00000e+00\",\"NA\",\"3.00000e+00\",\"2.00000e+00\",\"6.00000e+00\",\"3.00000e+00\",\"3.00000e+00\",\"3.00000e+00\",\"3.00000e+00\",\"6.00000e+00\",\"2.00000e+00\",\"2.00000e+00\",\"2.00000e+00\",\"3.00000e+00\",\"2.00000e+00\",\"3.00000e+00\",\"2.00000e+00\",\"3.00000e+00\",\"3.00000e+00\",\"1.00000e+00\",\"3.00000e+00\",\"3.00000e+00\",\"3.00000e+00\",\"NA\",\"3.00000e+00\",\"3.00000e+00\",\"1.00000e+00\",\"2.00000e+00\",\"3.00000e+00\",\"5.00000e+00\",\"2.00000e+00\",\"3.00000e+00\",\"1.00000e+00\",\"3.00000e+00\",\"3.00000e+00\",\"3.00000e+00\",\"2.00000e+00\",\"1.00000e+00\",\"4.00000e+00\",\"3.00000e+00\",\"1.00000e+00\",\"3.00000e+00\",\"6.00000e+00\",\"1.00000e+00\",\"3.00000e+00\",\"3.00000e+00\",\"6.00000e+00\",\"1.00000e+00\",\"6.00000e+00\",\"3.00000e+00\",\"6.00000e+00\",\"3.00000e+00\",\"3.00000e+00\",\"3.00000e+00\",\"3.00000e+00\",\"NA\",\"3.00000e+00\",\"NA\",\"1.00000e+00\",\"3.00000e+00\",\"NA\",\"5.00000e+00\",\"6.00000e+00\",\"3.00000e+00\",\"3.00000e+00\",\"3.00000e+00\",\"1.00000e+00\",\"3.00000e+00\",\"3.00000e+00\",\"3.00000e+00\",\"NA\",\"3.00000e+00\",\"3.00000e+00\",\"1.00000e+00\",\"NA\",\"NA\",\"6.00000e+00\",\"NA\",\"3.00000e+00\",\"3.00000e+00\",\"3.00000e+00\",\"3.00000e+00\",\"3.00000e+00\",\"NA\",\"5.00000e+00\",\"2.00000e+00\",\"3.00000e+00\",\"1.00000e+00\",\"2.00000e+00\",\"3.00000e+00\"],\"x\":{\"__ndarray__\":\"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\",\"dtype\":\"float64\",\"shape\":[466]},\"y\":{\"__ndarray__\":\"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\",\"dtype\":\"float64\",\"shape\":[466]}},\"selected\":{\"id\":\"1334\",\"type\":\"Selection\"},\"selection_policy\":{\"id\":\"1333\",\"type\":\"UnionRenderers\"}},\"id\":\"1255\",\"type\":\"ColumnDataSource\"},{\"attributes\":{\"column_name\":\"label\",\"group\":\"1.00000e+00\"},\"id\":\"1257\",\"type\":\"GroupFilter\"},{\"attributes\":{},\"id\":\"1334\",\"type\":\"Selection\"},{\"attributes\":{\"filters\":[{\"id\":\"1287\",\"type\":\"GroupFilter\"}],\"source\":{\"id\":\"1255\",\"type\":\"ColumnDataSource\"}},\"id\":\"1288\",\"type\":\"CDSView\"},{\"attributes\":{},\"id\":\"1333\",\"type\":\"UnionRenderers\"},{\"attributes\":{\"filters\":[{\"id\":\"1269\",\"type\":\"GroupFilter\"}],\"source\":{\"id\":\"1255\",\"type\":\"ColumnDataSource\"}},\"id\":\"1270\",\"type\":\"CDSView\"},{\"attributes\":{},\"id\":\"1241\",\"type\":\"WheelZoomTool\"},{\"attributes\":{\"column_name\":\"label\",\"group\":\"6.00000e+00\"},\"id\":\"1287\",\"type\":\"GroupFilter\"},{\"attributes\":{},\"id\":\"1240\",\"type\":\"PanTool\"},{\"attributes\":{\"label\":{\"value\":\"1.00000e+00\"},\"renderers\":[{\"id\":\"1262\",\"type\":\"GlyphRenderer\"}]},\"id\":\"1299\",\"type\":\"LegendItem\"},{\"attributes\":{\"label\":{\"value\":\"NA\"},\"renderers\":[{\"id\":\"1298\",\"type\":\"GlyphRenderer\"}]},\"id\":\"1305\",\"type\":\"LegendItem\"},{\"attributes\":{\"dimension\":1,\"ticker\":{\"id\":\"1236\",\"type\":\"BasicTicker\"}},\"id\":\"1239\",\"type\":\"Grid\"},{\"attributes\":{\"data_source\":{\"id\":\"1255\",\"type\":\"ColumnDataSource\"},\"glyph\":{\"id\":\"1266\",\"type\":\"Circle\"},\"hover_glyph\":null,\"muted_glyph\":null,\"nonselection_glyph\":{\"id\":\"1267\",\"type\":\"Circle\"},\"selection_glyph\":null,\"view\":{\"id\":\"1264\",\"type\":\"CDSView\"}},\"id\":\"1268\",\"type\":\"GlyphRenderer\"},{\"attributes\":{\"ticker\":{\"id\":\"1231\",\"type\":\"BasicTicker\"}},\"id\":\"1234\",\"type\":\"Grid\"},{\"attributes\":{\"fill_color\":{\"field\":\"label\",\"transform\":{\"id\":\"1256\",\"type\":\"CategoricalColorMapper\"}},\"line_color\":{\"field\":\"label\",\"transform\":{\"id\":\"1256\",\"type\":\"CategoricalColorMapper\"}},\"x\":{\"field\":\"x\"},\"y\":{\"field\":\"y\"}},\"id\":\"1260\",\"type\":\"Circle\"},{\"attributes\":{\"fill_alpha\":{\"value\":0.1},\"fill_color\":{\"value\":\"#1f77b4\"},\"line_alpha\":{\"value\":0.1},\"line_color\":{\"value\":\"#1f77b4\"},\"x\":{\"field\":\"x\"},\"y\":{\"field\":\"y\"}},\"id\":\"1297\",\"type\":\"Circle\"},{\"attributes\":{\"fill_color\":{\"field\":\"label\",\"transform\":{\"id\":\"1256\",\"type\":\"CategoricalColorMapper\"}},\"line_color\":{\"field\":\"label\",\"transform\":{\"id\":\"1256\",\"type\":\"CategoricalColorMapper\"}},\"x\":{\"field\":\"x\"},\"y\":{\"field\":\"y\"}},\"id\":\"1284\",\"type\":\"Circle\"},{\"attributes\":{},\"id\":\"1231\",\"type\":\"BasicTicker\"},{\"attributes\":{},\"id\":\"1228\",\"type\":\"LinearScale\"},{\"attributes\":{\"fill_color\":{\"field\":\"label\",\"transform\":{\"id\":\"1256\",\"type\":\"CategoricalColorMapper\"}},\"line_color\":{\"field\":\"label\",\"transform\":{\"id\":\"1256\",\"type\":\"CategoricalColorMapper\"}},\"x\":{\"field\":\"x\"},\"y\":{\"field\":\"y\"}},\"id\":\"1290\",\"type\":\"Circle\"},{\"attributes\":{},\"id\":\"1243\",\"type\":\"SaveTool\"},{\"attributes\":{},\"id\":\"1327\",\"type\":\"BasicTickFormatter\"},{\"attributes\":{\"filters\":[{\"id\":\"1257\",\"type\":\"GroupFilter\"}],\"source\":{\"id\":\"1255\",\"type\":\"ColumnDataSource\"}},\"id\":\"1258\",\"type\":\"CDSView\"},{\"attributes\":{\"filters\":[{\"id\":\"1293\",\"type\":\"GroupFilter\"}],\"source\":{\"id\":\"1255\",\"type\":\"ColumnDataSource\"}},\"id\":\"1294\",\"type\":\"CDSView\"},{\"attributes\":{\"label\":{\"value\":\"3.00000e+00\"},\"renderers\":[{\"id\":\"1274\",\"type\":\"GlyphRenderer\"}]},\"id\":\"1301\",\"type\":\"LegendItem\"},{\"attributes\":{\"column_name\":\"label\",\"group\":\"3.00000e+00\"},\"id\":\"1269\",\"type\":\"GroupFilter\"},{\"attributes\":{\"color_mapper\":null,\"formatter\":{\"id\":\"1329\",\"type\":\"BasicTickFormatter\"},\"ticker\":{\"id\":\"1330\",\"type\":\"BasicTicker\"},\"visible\":false},\"id\":\"1307\",\"type\":\"ColorBar\"},{\"attributes\":{\"fill_alpha\":{\"value\":0.1},\"fill_color\":{\"value\":\"#1f77b4\"},\"line_alpha\":{\"value\":0.1},\"line_color\":{\"value\":\"#1f77b4\"},\"x\":{\"field\":\"x\"},\"y\":{\"field\":\"y\"}},\"id\":\"1261\",\"type\":\"Circle\"},{\"attributes\":{},\"id\":\"1244\",\"type\":\"ResetTool\"},{\"attributes\":{},\"id\":\"1236\",\"type\":\"BasicTicker\"},{\"attributes\":{\"data_source\":{\"id\":\"1255\",\"type\":\"ColumnDataSource\"},\"glyph\":{\"id\":\"1260\",\"type\":\"Circle\"},\"hover_glyph\":null,\"muted_glyph\":null,\"nonselection_glyph\":{\"id\":\"1261\",\"type\":\"Circle\"},\"selection_glyph\":null,\"view\":{\"id\":\"1258\",\"type\":\"CDSView\"}},\"id\":\"1262\",\"type\":\"GlyphRenderer\"},{\"attributes\":{\"fill_alpha\":{\"value\":0.1},\"fill_color\":{\"value\":\"#1f77b4\"},\"line_alpha\":{\"value\":0.1},\"line_color\":{\"value\":\"#1f77b4\"},\"x\":{\"field\":\"x\"},\"y\":{\"field\":\"y\"}},\"id\":\"1291\",\"type\":\"Circle\"},{\"attributes\":{\"column_name\":\"label\",\"group\":\"2.00000e+00\"},\"id\":\"1263\",\"type\":\"GroupFilter\"},{\"attributes\":{\"filters\":[{\"id\":\"1275\",\"type\":\"GroupFilter\"}],\"source\":{\"id\":\"1255\",\"type\":\"ColumnDataSource\"}},\"id\":\"1276\",\"type\":\"CDSView\"},{\"attributes\":{\"filters\":[{\"id\":\"1281\",\"type\":\"GroupFilter\"}],\"source\":{\"id\":\"1255\",\"type\":\"ColumnDataSource\"}},\"id\":\"1282\",\"type\":\"CDSView\"},{\"attributes\":{},\"id\":\"1331\",\"type\":\"BasicTickFormatter\"},{\"attributes\":{\"fill_color\":{\"field\":\"label\",\"transform\":{\"id\":\"1256\",\"type\":\"CategoricalColorMapper\"}},\"line_color\":{\"field\":\"label\",\"transform\":{\"id\":\"1256\",\"type\":\"CategoricalColorMapper\"}},\"x\":{\"field\":\"x\"},\"y\":{\"field\":\"y\"}},\"id\":\"1266\",\"type\":\"Circle\"},{\"attributes\":{\"fill_color\":{\"field\":\"label\",\"transform\":{\"id\":\"1256\",\"type\":\"CategoricalColorMapper\"}},\"line_color\":{\"field\":\"label\",\"transform\":{\"id\":\"1256\",\"type\":\"CategoricalColorMapper\"}},\"x\":{\"field\":\"x\"},\"y\":{\"field\":\"y\"}},\"id\":\"1278\",\"type\":\"Circle\"},{\"attributes\":{\"overlay\":{\"id\":\"1335\",\"type\":\"BoxAnnotation\"}},\"id\":\"1242\",\"type\":\"BoxZoomTool\"},{\"attributes\":{\"label\":{\"value\":\"4.00000e+00\"},\"renderers\":[{\"id\":\"1280\",\"type\":\"GlyphRenderer\"}]},\"id\":\"1302\",\"type\":\"LegendItem\"},{\"attributes\":{\"fill_color\":{\"field\":\"label\",\"transform\":{\"id\":\"1256\",\"type\":\"CategoricalColorMapper\"}},\"line_color\":{\"field\":\"label\",\"transform\":{\"id\":\"1256\",\"type\":\"CategoricalColorMapper\"}},\"x\":{\"field\":\"x\"},\"y\":{\"field\":\"y\"}},\"id\":\"1272\",\"type\":\"Circle\"},{\"attributes\":{\"label\":{\"value\":\"6.00000e+00\"},\"renderers\":[{\"id\":\"1292\",\"type\":\"GlyphRenderer\"}]},\"id\":\"1304\",\"type\":\"LegendItem\"},{\"attributes\":{\"column_name\":\"label\",\"group\":\"4.00000e+00\"},\"id\":\"1275\",\"type\":\"GroupFilter\"},{\"attributes\":{\"data_source\":{\"id\":\"1255\",\"type\":\"ColumnDataSource\"},\"glyph\":{\"id\":\"1272\",\"type\":\"Circle\"},\"hover_glyph\":null,\"muted_glyph\":null,\"nonselection_glyph\":{\"id\":\"1273\",\"type\":\"Circle\"},\"selection_glyph\":null,\"view\":{\"id\":\"1270\",\"type\":\"CDSView\"}},\"id\":\"1274\",\"type\":\"GlyphRenderer\"},{\"attributes\":{\"fill_alpha\":{\"value\":0.1},\"fill_color\":{\"value\":\"#1f77b4\"},\"line_alpha\":{\"value\":0.1},\"line_color\":{\"value\":\"#1f77b4\"},\"x\":{\"field\":\"x\"},\"y\":{\"field\":\"y\"}},\"id\":\"1267\",\"type\":\"Circle\"},{\"attributes\":{\"fill_color\":{\"field\":\"label\",\"transform\":{\"id\":\"1256\",\"type\":\"CategoricalColorMapper\"}},\"line_color\":{\"field\":\"label\",\"transform\":{\"id\":\"1256\",\"type\":\"CategoricalColorMapper\"}},\"x\":{\"field\":\"x\"},\"y\":{\"field\":\"y\"}},\"id\":\"1296\",\"type\":\"Circle\"},{\"attributes\":{\"label\":{\"value\":\"2.00000e+00\"},\"renderers\":[{\"id\":\"1268\",\"type\":\"GlyphRenderer\"}]},\"id\":\"1300\",\"type\":\"LegendItem\"},{\"attributes\":{\"label\":{\"value\":\"5.00000e+00\"},\"renderers\":[{\"id\":\"1286\",\"type\":\"GlyphRenderer\"}]},\"id\":\"1303\",\"type\":\"LegendItem\"},{\"attributes\":{\"column_name\":\"label\",\"group\":\"5.00000e+00\"},\"id\":\"1281\",\"type\":\"GroupFilter\"},{\"attributes\":{\"data_source\":{\"id\":\"1255\",\"type\":\"ColumnDataSource\"},\"glyph\":{\"id\":\"1284\",\"type\":\"Circle\"},\"hover_glyph\":null,\"muted_glyph\":null,\"nonselection_glyph\":{\"id\":\"1285\",\"type\":\"Circle\"},\"selection_glyph\":null,\"view\":{\"id\":\"1282\",\"type\":\"CDSView\"}},\"id\":\"1286\",\"type\":\"GlyphRenderer\"},{\"attributes\":{\"callback\":null,\"tooltips\":[[\"x\",\"@x\"],[\"y\",\"@y\"],[\"label\",\"@label\"]]},\"id\":\"1254\",\"type\":\"HoverTool\"},{\"attributes\":{\"column_name\":\"label\",\"group\":\"NA\"},\"id\":\"1293\",\"type\":\"GroupFilter\"},{\"attributes\":{\"bottom_units\":\"screen\",\"fill_alpha\":{\"value\":0.5},\"fill_color\":{\"value\":\"lightgrey\"},\"left_units\":\"screen\",\"level\":\"overlay\",\"line_alpha\":{\"value\":1.0},\"line_color\":{\"value\":\"black\"},\"line_dash\":[4,4],\"line_width\":{\"value\":2},\"render_mode\":\"css\",\"right_units\":\"screen\",\"top_units\":\"screen\"},\"id\":\"1335\",\"type\":\"BoxAnnotation\"},{\"attributes\":{\"axis_label\":\"PC1\",\"formatter\":{\"id\":\"1331\",\"type\":\"BasicTickFormatter\"},\"ticker\":{\"id\":\"1231\",\"type\":\"BasicTicker\"}},\"id\":\"1230\",\"type\":\"LinearAxis\"},{\"attributes\":{\"axis_label\":\"PC2\",\"formatter\":{\"id\":\"1327\",\"type\":\"BasicTickFormatter\"},\"ticker\":{\"id\":\"1236\",\"type\":\"BasicTicker\"}},\"id\":\"1235\",\"type\":\"LinearAxis\"},{\"attributes\":{\"fill_alpha\":{\"value\":0.1},\"fill_color\":{\"value\":\"#1f77b4\"},\"line_alpha\":{\"value\":0.1},\"line_color\":{\"value\":\"#1f77b4\"},\"x\":{\"field\":\"x\"},\"y\":{\"field\":\"y\"}},\"id\":\"1279\",\"type\":\"Circle\"},{\"attributes\":{},\"id\":\"1226\",\"type\":\"LinearScale\"},{\"attributes\":{\"active_drag\":\"auto\",\"active_inspect\":\"auto\",\"active_multi\":null,\"active_scroll\":\"auto\",\"active_tap\":\"auto\",\"tools\":[{\"id\":\"1240\",\"type\":\"PanTool\"},{\"id\":\"1241\",\"type\":\"WheelZoomTool\"},{\"id\":\"1242\",\"type\":\"BoxZoomTool\"},{\"id\":\"1243\",\"type\":\"SaveTool\"},{\"id\":\"1244\",\"type\":\"ResetTool\"},{\"id\":\"1245\",\"type\":\"HelpTool\"},{\"id\":\"1254\",\"type\":\"HoverTool\"}]},\"id\":\"1246\",\"type\":\"Toolbar\"},{\"attributes\":{\"factors\":[\"4.00000e+00\",\"1.00000e+00\",\"3.00000e+00\",\"NA\",\"6.00000e+00\",\"5.00000e+00\",\"2.00000e+00\"],\"palette\":[\"#1f77b4\",\"#ff7f0e\",\"#2ca02c\",\"#d62728\",\"#9467bd\",\"#8c564b\",\"#e377c2\",\"#7f7f7f\",\"#bcbd22\",\"#17becf\"]},\"id\":\"1256\",\"type\":\"CategoricalColorMapper\"},{\"attributes\":{\"text\":\"PCA\"},\"id\":\"1220\",\"type\":\"Title\"},{\"attributes\":{},\"id\":\"1329\",\"type\":\"BasicTickFormatter\"},{\"attributes\":{\"data_source\":{\"id\":\"1255\",\"type\":\"ColumnDataSource\"},\"glyph\":{\"id\":\"1278\",\"type\":\"Circle\"},\"hover_glyph\":null,\"muted_glyph\":null,\"nonselection_glyph\":{\"id\":\"1279\",\"type\":\"Circle\"},\"selection_glyph\":null,\"view\":{\"id\":\"1276\",\"type\":\"CDSView\"}},\"id\":\"1280\",\"type\":\"GlyphRenderer\"},{\"attributes\":{\"callback\":null},\"id\":\"1222\",\"type\":\"DataRange1d\"},{\"attributes\":{\"fill_alpha\":{\"value\":0.1},\"fill_color\":{\"value\":\"#1f77b4\"},\"line_alpha\":{\"value\":0.1},\"line_color\":{\"value\":\"#1f77b4\"},\"x\":{\"field\":\"x\"},\"y\":{\"field\":\"y\"}},\"id\":\"1273\",\"type\":\"Circle\"},{\"attributes\":{},\"id\":\"1330\",\"type\":\"BasicTicker\"},{\"attributes\":{\"filters\":[{\"id\":\"1263\",\"type\":\"GroupFilter\"}],\"source\":{\"id\":\"1255\",\"type\":\"ColumnDataSource\"}},\"id\":\"1264\",\"type\":\"CDSView\"},{\"attributes\":{\"data_source\":{\"id\":\"1255\",\"type\":\"ColumnDataSource\"},\"glyph\":{\"id\":\"1296\",\"type\":\"Circle\"},\"hover_glyph\":null,\"muted_glyph\":null,\"nonselection_glyph\":{\"id\":\"1297\",\"type\":\"Circle\"},\"selection_glyph\":null,\"view\":{\"id\":\"1294\",\"type\":\"CDSView\"}},\"id\":\"1298\",\"type\":\"GlyphRenderer\"}],\"root_ids\":[\"1219\"]},\"title\":\"Bokeh Application\",\"version\":\"1.2.0\"}};\n",
       "  var render_items = [{\"docid\":\"05b2d52d-75e1-45ad-ace4-2119bc2eee45\",\"roots\":{\"1219\":\"14ba3074-74a9-447a-a111-b70c8ff67708\"}}];\n",
       "  root.Bokeh.embed.embed_items_notebook(docs_json, render_items);\n",
       "\n",
       "  }\n",
       "  if (root.Bokeh !== undefined) {\n",
       "    embed_document(root);\n",
       "  } else {\n",
       "    var attempts = 0;\n",
       "    var timer = setInterval(function(root) {\n",
       "      if (root.Bokeh !== undefined) {\n",
       "        embed_document(root);\n",
       "        clearInterval(timer);\n",
       "      }\n",
       "      attempts++;\n",
       "      if (attempts > 100) {\n",
       "        console.log(\"Bokeh: ERROR: Unable to run BokehJS code because BokehJS library is missing\");\n",
       "        clearInterval(timer);\n",
       "      }\n",
       "    }, 10, root)\n",
       "  }\n",
       "})(window);"
      ],
      "application/vnd.bokehjs_exec.v0+json": ""
     },
     "metadata": {
      "application/vnd.bokehjs_exec.v0+json": {
       "id": "1219"
      }
     },
     "output_type": "display_data"
    }
   ],
   "source": [
    "p = hl.plot.scatter(mt.scores[0],\n",
    "                    mt.scores[1],\n",
    "                    label=hl.str(mt.birthplace),\n",
    "                    title='PCA', xlabel='PC1', ylabel='PC2')\n",
    "p.plot_width = 800\n",
    "p.plot_height = 600\n",
    "show(p)"
   ]
  },
  {
   "cell_type": "code",
   "execution_count": null,
   "metadata": {},
   "outputs": [],
   "source": []
  }
 ],
 "metadata": {
  "kernelspec": {
   "display_name": "Python [conda env:fargen-1-exome]",
   "language": "python",
   "name": "conda-env-fargen-1-exome-py"
  },
  "language_info": {
   "codemirror_mode": {
    "name": "ipython",
    "version": 3
   },
   "file_extension": ".py",
   "mimetype": "text/x-python",
   "name": "python",
   "nbconvert_exporter": "python",
   "pygments_lexer": "ipython3",
   "version": "3.7.10"
  }
 },
 "nbformat": 4,
 "nbformat_minor": 4
}
