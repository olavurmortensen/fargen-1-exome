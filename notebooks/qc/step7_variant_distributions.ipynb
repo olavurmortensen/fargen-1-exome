{
 "cells": [
  {
   "cell_type": "markdown",
   "id": "b0ad220f-8db8-40bd-8c69-803f0b01b153",
   "metadata": {},
   "source": [
    "# Variant distributions"
   ]
  },
  {
   "cell_type": "code",
   "execution_count": 1,
   "id": "6d490832-7263-4d5a-b8ed-c7703a9b524e",
   "metadata": {},
   "outputs": [
    {
     "name": "stderr",
     "output_type": "stream",
     "text": [
      "Running on Apache Spark version 2.4.1\n",
      "SparkUI available at http://hms-beagle-848846b477-48ks9:4040\n",
      "Welcome to\n",
      "     __  __     <>__\n",
      "    / /_/ /__  __/ /\n",
      "   / __  / _ `/ / /\n",
      "  /_/ /_/\\_,_/_/_/   version 0.2.61-3c86d3ba497a\n",
      "LOGGING: writing to /home/olavur/experiments/2020-11-13_fargen1_exome_analysis/fargen-1-exome/notebooks/qc/hail-20210617-1202-0.2.61-3c86d3ba497a.log\n"
     ]
    }
   ],
   "source": [
    "import hail as hl\n",
    "hl.init(spark_conf={'spark.driver.memory': '100g'}, tmp_dir='/home/olavur/tmp')"
   ]
  },
  {
   "cell_type": "code",
   "execution_count": 2,
   "id": "8ef6d6c8-704e-46f7-8096-59e23b588dc2",
   "metadata": {},
   "outputs": [
    {
     "data": {
      "text/html": [
       "\n",
       "    <div class=\"bk-root\">\n",
       "        <a href=\"https://bokeh.pydata.org\" target=\"_blank\" class=\"bk-logo bk-logo-small bk-logo-notebook\"></a>\n",
       "        <span id=\"1001\">Loading BokehJS ...</span>\n",
       "    </div>"
      ]
     },
     "metadata": {},
     "output_type": "display_data"
    },
    {
     "data": {
      "application/javascript": [
       "\n",
       "(function(root) {\n",
       "  function now() {\n",
       "    return new Date();\n",
       "  }\n",
       "\n",
       "  var force = true;\n",
       "\n",
       "  if (typeof root._bokeh_onload_callbacks === \"undefined\" || force === true) {\n",
       "    root._bokeh_onload_callbacks = [];\n",
       "    root._bokeh_is_loading = undefined;\n",
       "  }\n",
       "\n",
       "  var JS_MIME_TYPE = 'application/javascript';\n",
       "  var HTML_MIME_TYPE = 'text/html';\n",
       "  var EXEC_MIME_TYPE = 'application/vnd.bokehjs_exec.v0+json';\n",
       "  var CLASS_NAME = 'output_bokeh rendered_html';\n",
       "\n",
       "  /**\n",
       "   * Render data to the DOM node\n",
       "   */\n",
       "  function render(props, node) {\n",
       "    var script = document.createElement(\"script\");\n",
       "    node.appendChild(script);\n",
       "  }\n",
       "\n",
       "  /**\n",
       "   * Handle when an output is cleared or removed\n",
       "   */\n",
       "  function handleClearOutput(event, handle) {\n",
       "    var cell = handle.cell;\n",
       "\n",
       "    var id = cell.output_area._bokeh_element_id;\n",
       "    var server_id = cell.output_area._bokeh_server_id;\n",
       "    // Clean up Bokeh references\n",
       "    if (id != null && id in Bokeh.index) {\n",
       "      Bokeh.index[id].model.document.clear();\n",
       "      delete Bokeh.index[id];\n",
       "    }\n",
       "\n",
       "    if (server_id !== undefined) {\n",
       "      // Clean up Bokeh references\n",
       "      var cmd = \"from bokeh.io.state import curstate; print(curstate().uuid_to_server['\" + server_id + \"'].get_sessions()[0].document.roots[0]._id)\";\n",
       "      cell.notebook.kernel.execute(cmd, {\n",
       "        iopub: {\n",
       "          output: function(msg) {\n",
       "            var id = msg.content.text.trim();\n",
       "            if (id in Bokeh.index) {\n",
       "              Bokeh.index[id].model.document.clear();\n",
       "              delete Bokeh.index[id];\n",
       "            }\n",
       "          }\n",
       "        }\n",
       "      });\n",
       "      // Destroy server and session\n",
       "      var cmd = \"import bokeh.io.notebook as ion; ion.destroy_server('\" + server_id + \"')\";\n",
       "      cell.notebook.kernel.execute(cmd);\n",
       "    }\n",
       "  }\n",
       "\n",
       "  /**\n",
       "   * Handle when a new output is added\n",
       "   */\n",
       "  function handleAddOutput(event, handle) {\n",
       "    var output_area = handle.output_area;\n",
       "    var output = handle.output;\n",
       "\n",
       "    // limit handleAddOutput to display_data with EXEC_MIME_TYPE content only\n",
       "    if ((output.output_type != \"display_data\") || (!output.data.hasOwnProperty(EXEC_MIME_TYPE))) {\n",
       "      return\n",
       "    }\n",
       "\n",
       "    var toinsert = output_area.element.find(\".\" + CLASS_NAME.split(' ')[0]);\n",
       "\n",
       "    if (output.metadata[EXEC_MIME_TYPE][\"id\"] !== undefined) {\n",
       "      toinsert[toinsert.length - 1].firstChild.textContent = output.data[JS_MIME_TYPE];\n",
       "      // store reference to embed id on output_area\n",
       "      output_area._bokeh_element_id = output.metadata[EXEC_MIME_TYPE][\"id\"];\n",
       "    }\n",
       "    if (output.metadata[EXEC_MIME_TYPE][\"server_id\"] !== undefined) {\n",
       "      var bk_div = document.createElement(\"div\");\n",
       "      bk_div.innerHTML = output.data[HTML_MIME_TYPE];\n",
       "      var script_attrs = bk_div.children[0].attributes;\n",
       "      for (var i = 0; i < script_attrs.length; i++) {\n",
       "        toinsert[toinsert.length - 1].firstChild.setAttribute(script_attrs[i].name, script_attrs[i].value);\n",
       "      }\n",
       "      // store reference to server id on output_area\n",
       "      output_area._bokeh_server_id = output.metadata[EXEC_MIME_TYPE][\"server_id\"];\n",
       "    }\n",
       "  }\n",
       "\n",
       "  function register_renderer(events, OutputArea) {\n",
       "\n",
       "    function append_mime(data, metadata, element) {\n",
       "      // create a DOM node to render to\n",
       "      var toinsert = this.create_output_subarea(\n",
       "        metadata,\n",
       "        CLASS_NAME,\n",
       "        EXEC_MIME_TYPE\n",
       "      );\n",
       "      this.keyboard_manager.register_events(toinsert);\n",
       "      // Render to node\n",
       "      var props = {data: data, metadata: metadata[EXEC_MIME_TYPE]};\n",
       "      render(props, toinsert[toinsert.length - 1]);\n",
       "      element.append(toinsert);\n",
       "      return toinsert\n",
       "    }\n",
       "\n",
       "    /* Handle when an output is cleared or removed */\n",
       "    events.on('clear_output.CodeCell', handleClearOutput);\n",
       "    events.on('delete.Cell', handleClearOutput);\n",
       "\n",
       "    /* Handle when a new output is added */\n",
       "    events.on('output_added.OutputArea', handleAddOutput);\n",
       "\n",
       "    /**\n",
       "     * Register the mime type and append_mime function with output_area\n",
       "     */\n",
       "    OutputArea.prototype.register_mime_type(EXEC_MIME_TYPE, append_mime, {\n",
       "      /* Is output safe? */\n",
       "      safe: true,\n",
       "      /* Index of renderer in `output_area.display_order` */\n",
       "      index: 0\n",
       "    });\n",
       "  }\n",
       "\n",
       "  // register the mime type if in Jupyter Notebook environment and previously unregistered\n",
       "  if (root.Jupyter !== undefined) {\n",
       "    var events = require('base/js/events');\n",
       "    var OutputArea = require('notebook/js/outputarea').OutputArea;\n",
       "\n",
       "    if (OutputArea.prototype.mime_types().indexOf(EXEC_MIME_TYPE) == -1) {\n",
       "      register_renderer(events, OutputArea);\n",
       "    }\n",
       "  }\n",
       "\n",
       "  \n",
       "  if (typeof (root._bokeh_timeout) === \"undefined\" || force === true) {\n",
       "    root._bokeh_timeout = Date.now() + 5000;\n",
       "    root._bokeh_failed_load = false;\n",
       "  }\n",
       "\n",
       "  var NB_LOAD_WARNING = {'data': {'text/html':\n",
       "     \"<div style='background-color: #fdd'>\\n\"+\n",
       "     \"<p>\\n\"+\n",
       "     \"BokehJS does not appear to have successfully loaded. If loading BokehJS from CDN, this \\n\"+\n",
       "     \"may be due to a slow or bad network connection. Possible fixes:\\n\"+\n",
       "     \"</p>\\n\"+\n",
       "     \"<ul>\\n\"+\n",
       "     \"<li>re-rerun `output_notebook()` to attempt to load from CDN again, or</li>\\n\"+\n",
       "     \"<li>use INLINE resources instead, as so:</li>\\n\"+\n",
       "     \"</ul>\\n\"+\n",
       "     \"<code>\\n\"+\n",
       "     \"from bokeh.resources import INLINE\\n\"+\n",
       "     \"output_notebook(resources=INLINE)\\n\"+\n",
       "     \"</code>\\n\"+\n",
       "     \"</div>\"}};\n",
       "\n",
       "  function display_loaded() {\n",
       "    var el = document.getElementById(\"1001\");\n",
       "    if (el != null) {\n",
       "      el.textContent = \"BokehJS is loading...\";\n",
       "    }\n",
       "    if (root.Bokeh !== undefined) {\n",
       "      if (el != null) {\n",
       "        el.textContent = \"BokehJS \" + root.Bokeh.version + \" successfully loaded.\";\n",
       "      }\n",
       "    } else if (Date.now() < root._bokeh_timeout) {\n",
       "      setTimeout(display_loaded, 100)\n",
       "    }\n",
       "  }\n",
       "\n",
       "\n",
       "  function run_callbacks() {\n",
       "    try {\n",
       "      root._bokeh_onload_callbacks.forEach(function(callback) {\n",
       "        if (callback != null)\n",
       "          callback();\n",
       "      });\n",
       "    } finally {\n",
       "      delete root._bokeh_onload_callbacks\n",
       "    }\n",
       "    console.debug(\"Bokeh: all callbacks have finished\");\n",
       "  }\n",
       "\n",
       "  function load_libs(css_urls, js_urls, callback) {\n",
       "    if (css_urls == null) css_urls = [];\n",
       "    if (js_urls == null) js_urls = [];\n",
       "\n",
       "    root._bokeh_onload_callbacks.push(callback);\n",
       "    if (root._bokeh_is_loading > 0) {\n",
       "      console.debug(\"Bokeh: BokehJS is being loaded, scheduling callback at\", now());\n",
       "      return null;\n",
       "    }\n",
       "    if (js_urls == null || js_urls.length === 0) {\n",
       "      run_callbacks();\n",
       "      return null;\n",
       "    }\n",
       "    console.debug(\"Bokeh: BokehJS not loaded, scheduling load and callback at\", now());\n",
       "    root._bokeh_is_loading = css_urls.length + js_urls.length;\n",
       "\n",
       "    function on_load() {\n",
       "      root._bokeh_is_loading--;\n",
       "      if (root._bokeh_is_loading === 0) {\n",
       "        console.debug(\"Bokeh: all BokehJS libraries/stylesheets loaded\");\n",
       "        run_callbacks()\n",
       "      }\n",
       "    }\n",
       "\n",
       "    function on_error() {\n",
       "      console.error(\"failed to load \" + url);\n",
       "    }\n",
       "\n",
       "    for (var i = 0; i < css_urls.length; i++) {\n",
       "      var url = css_urls[i];\n",
       "      const element = document.createElement(\"link\");\n",
       "      element.onload = on_load;\n",
       "      element.onerror = on_error;\n",
       "      element.rel = \"stylesheet\";\n",
       "      element.type = \"text/css\";\n",
       "      element.href = url;\n",
       "      console.debug(\"Bokeh: injecting link tag for BokehJS stylesheet: \", url);\n",
       "      document.body.appendChild(element);\n",
       "    }\n",
       "\n",
       "    for (var i = 0; i < js_urls.length; i++) {\n",
       "      var url = js_urls[i];\n",
       "      var element = document.createElement('script');\n",
       "      element.onload = on_load;\n",
       "      element.onerror = on_error;\n",
       "      element.async = false;\n",
       "      element.src = url;\n",
       "      console.debug(\"Bokeh: injecting script tag for BokehJS library: \", url);\n",
       "      document.head.appendChild(element);\n",
       "    }\n",
       "  };var element = document.getElementById(\"1001\");\n",
       "  if (element == null) {\n",
       "    console.error(\"Bokeh: ERROR: autoload.js configured with elementid '1001' but no matching script tag was found. \")\n",
       "    return false;\n",
       "  }\n",
       "\n",
       "  function inject_raw_css(css) {\n",
       "    const element = document.createElement(\"style\");\n",
       "    element.appendChild(document.createTextNode(css));\n",
       "    document.body.appendChild(element);\n",
       "  }\n",
       "\n",
       "  var js_urls = [\"https://cdn.pydata.org/bokeh/release/bokeh-1.2.0.min.js\", \"https://cdn.pydata.org/bokeh/release/bokeh-widgets-1.2.0.min.js\", \"https://cdn.pydata.org/bokeh/release/bokeh-tables-1.2.0.min.js\", \"https://cdn.pydata.org/bokeh/release/bokeh-gl-1.2.0.min.js\"];\n",
       "  var css_urls = [\"https://cdn.pydata.org/bokeh/release/bokeh-1.2.0.min.css\", \"https://cdn.pydata.org/bokeh/release/bokeh-widgets-1.2.0.min.css\", \"https://cdn.pydata.org/bokeh/release/bokeh-tables-1.2.0.min.css\"];\n",
       "\n",
       "  var inline_js = [\n",
       "    function(Bokeh) {\n",
       "      Bokeh.set_log_level(\"info\");\n",
       "    },\n",
       "    \n",
       "    function(Bokeh) {\n",
       "      \n",
       "    },\n",
       "    function(Bokeh) {} // ensure no trailing comma for IE\n",
       "  ];\n",
       "\n",
       "  function run_inline_js() {\n",
       "    \n",
       "    if ((root.Bokeh !== undefined) || (force === true)) {\n",
       "      for (var i = 0; i < inline_js.length; i++) {\n",
       "        inline_js[i].call(root, root.Bokeh);\n",
       "      }if (force === true) {\n",
       "        display_loaded();\n",
       "      }} else if (Date.now() < root._bokeh_timeout) {\n",
       "      setTimeout(run_inline_js, 100);\n",
       "    } else if (!root._bokeh_failed_load) {\n",
       "      console.log(\"Bokeh: BokehJS failed to load within specified timeout.\");\n",
       "      root._bokeh_failed_load = true;\n",
       "    } else if (force !== true) {\n",
       "      var cell = $(document.getElementById(\"1001\")).parents('.cell').data().cell;\n",
       "      cell.output_area.append_execute_result(NB_LOAD_WARNING)\n",
       "    }\n",
       "\n",
       "  }\n",
       "\n",
       "  if (root._bokeh_is_loading === 0) {\n",
       "    console.debug(\"Bokeh: BokehJS loaded, going straight to plotting\");\n",
       "    run_inline_js();\n",
       "  } else {\n",
       "    load_libs(css_urls, js_urls, function() {\n",
       "      console.debug(\"Bokeh: BokehJS plotting callback run at\", now());\n",
       "      run_inline_js();\n",
       "    });\n",
       "  }\n",
       "}(window));"
      ],
      "application/vnd.bokehjs_load.v0+json": "\n(function(root) {\n  function now() {\n    return new Date();\n  }\n\n  var force = true;\n\n  if (typeof root._bokeh_onload_callbacks === \"undefined\" || force === true) {\n    root._bokeh_onload_callbacks = [];\n    root._bokeh_is_loading = undefined;\n  }\n\n  \n\n  \n  if (typeof (root._bokeh_timeout) === \"undefined\" || force === true) {\n    root._bokeh_timeout = Date.now() + 5000;\n    root._bokeh_failed_load = false;\n  }\n\n  var NB_LOAD_WARNING = {'data': {'text/html':\n     \"<div style='background-color: #fdd'>\\n\"+\n     \"<p>\\n\"+\n     \"BokehJS does not appear to have successfully loaded. If loading BokehJS from CDN, this \\n\"+\n     \"may be due to a slow or bad network connection. Possible fixes:\\n\"+\n     \"</p>\\n\"+\n     \"<ul>\\n\"+\n     \"<li>re-rerun `output_notebook()` to attempt to load from CDN again, or</li>\\n\"+\n     \"<li>use INLINE resources instead, as so:</li>\\n\"+\n     \"</ul>\\n\"+\n     \"<code>\\n\"+\n     \"from bokeh.resources import INLINE\\n\"+\n     \"output_notebook(resources=INLINE)\\n\"+\n     \"</code>\\n\"+\n     \"</div>\"}};\n\n  function display_loaded() {\n    var el = document.getElementById(\"1001\");\n    if (el != null) {\n      el.textContent = \"BokehJS is loading...\";\n    }\n    if (root.Bokeh !== undefined) {\n      if (el != null) {\n        el.textContent = \"BokehJS \" + root.Bokeh.version + \" successfully loaded.\";\n      }\n    } else if (Date.now() < root._bokeh_timeout) {\n      setTimeout(display_loaded, 100)\n    }\n  }\n\n\n  function run_callbacks() {\n    try {\n      root._bokeh_onload_callbacks.forEach(function(callback) {\n        if (callback != null)\n          callback();\n      });\n    } finally {\n      delete root._bokeh_onload_callbacks\n    }\n    console.debug(\"Bokeh: all callbacks have finished\");\n  }\n\n  function load_libs(css_urls, js_urls, callback) {\n    if (css_urls == null) css_urls = [];\n    if (js_urls == null) js_urls = [];\n\n    root._bokeh_onload_callbacks.push(callback);\n    if (root._bokeh_is_loading > 0) {\n      console.debug(\"Bokeh: BokehJS is being loaded, scheduling callback at\", now());\n      return null;\n    }\n    if (js_urls == null || js_urls.length === 0) {\n      run_callbacks();\n      return null;\n    }\n    console.debug(\"Bokeh: BokehJS not loaded, scheduling load and callback at\", now());\n    root._bokeh_is_loading = css_urls.length + js_urls.length;\n\n    function on_load() {\n      root._bokeh_is_loading--;\n      if (root._bokeh_is_loading === 0) {\n        console.debug(\"Bokeh: all BokehJS libraries/stylesheets loaded\");\n        run_callbacks()\n      }\n    }\n\n    function on_error() {\n      console.error(\"failed to load \" + url);\n    }\n\n    for (var i = 0; i < css_urls.length; i++) {\n      var url = css_urls[i];\n      const element = document.createElement(\"link\");\n      element.onload = on_load;\n      element.onerror = on_error;\n      element.rel = \"stylesheet\";\n      element.type = \"text/css\";\n      element.href = url;\n      console.debug(\"Bokeh: injecting link tag for BokehJS stylesheet: \", url);\n      document.body.appendChild(element);\n    }\n\n    for (var i = 0; i < js_urls.length; i++) {\n      var url = js_urls[i];\n      var element = document.createElement('script');\n      element.onload = on_load;\n      element.onerror = on_error;\n      element.async = false;\n      element.src = url;\n      console.debug(\"Bokeh: injecting script tag for BokehJS library: \", url);\n      document.head.appendChild(element);\n    }\n  };var element = document.getElementById(\"1001\");\n  if (element == null) {\n    console.error(\"Bokeh: ERROR: autoload.js configured with elementid '1001' but no matching script tag was found. \")\n    return false;\n  }\n\n  function inject_raw_css(css) {\n    const element = document.createElement(\"style\");\n    element.appendChild(document.createTextNode(css));\n    document.body.appendChild(element);\n  }\n\n  var js_urls = [\"https://cdn.pydata.org/bokeh/release/bokeh-1.2.0.min.js\", \"https://cdn.pydata.org/bokeh/release/bokeh-widgets-1.2.0.min.js\", \"https://cdn.pydata.org/bokeh/release/bokeh-tables-1.2.0.min.js\", \"https://cdn.pydata.org/bokeh/release/bokeh-gl-1.2.0.min.js\"];\n  var css_urls = [\"https://cdn.pydata.org/bokeh/release/bokeh-1.2.0.min.css\", \"https://cdn.pydata.org/bokeh/release/bokeh-widgets-1.2.0.min.css\", \"https://cdn.pydata.org/bokeh/release/bokeh-tables-1.2.0.min.css\"];\n\n  var inline_js = [\n    function(Bokeh) {\n      Bokeh.set_log_level(\"info\");\n    },\n    \n    function(Bokeh) {\n      \n    },\n    function(Bokeh) {} // ensure no trailing comma for IE\n  ];\n\n  function run_inline_js() {\n    \n    if ((root.Bokeh !== undefined) || (force === true)) {\n      for (var i = 0; i < inline_js.length; i++) {\n        inline_js[i].call(root, root.Bokeh);\n      }if (force === true) {\n        display_loaded();\n      }} else if (Date.now() < root._bokeh_timeout) {\n      setTimeout(run_inline_js, 100);\n    } else if (!root._bokeh_failed_load) {\n      console.log(\"Bokeh: BokehJS failed to load within specified timeout.\");\n      root._bokeh_failed_load = true;\n    } else if (force !== true) {\n      var cell = $(document.getElementById(\"1001\")).parents('.cell').data().cell;\n      cell.output_area.append_execute_result(NB_LOAD_WARNING)\n    }\n\n  }\n\n  if (root._bokeh_is_loading === 0) {\n    console.debug(\"Bokeh: BokehJS loaded, going straight to plotting\");\n    run_inline_js();\n  } else {\n    load_libs(css_urls, js_urls, function() {\n      console.debug(\"Bokeh: BokehJS plotting callback run at\", now());\n      run_inline_js();\n    });\n  }\n}(window));"
     },
     "metadata": {},
     "output_type": "display_data"
    }
   ],
   "source": [
    "from bokeh.io import show, output_notebook\n",
    "from bokeh.layouts import gridplot\n",
    "from bokeh.models.scales import LogScale\n",
    "output_notebook()"
   ]
  },
  {
   "cell_type": "markdown",
   "id": "13bf97b9-8d6d-4f53-b14f-c8b3e1b23909",
   "metadata": {},
   "source": [
    "## Read data"
   ]
  },
  {
   "cell_type": "code",
   "execution_count": 3,
   "id": "1d38501a-ec87-4ddf-a3fe-b56009f44ec1",
   "metadata": {},
   "outputs": [],
   "source": [
    "BASE_DIR = '/home/olavur/experiments/2020-11-13_fargen1_exome_analysis'\n",
    "RESOURCES_DIR = '/data/other/resources'"
   ]
  },
  {
   "cell_type": "code",
   "execution_count": 9,
   "id": "f2a47e57-2881-40f4-b246-a23a9a60129e",
   "metadata": {},
   "outputs": [],
   "source": [
    "import pandas as pd\n",
    "import numpy as np"
   ]
  },
  {
   "cell_type": "markdown",
   "id": "f953ef01-8e81-4b91-ae2c-be0d68dd754a",
   "metadata": {},
   "source": [
    "Read high quality variants."
   ]
  },
  {
   "cell_type": "code",
   "execution_count": 59,
   "id": "db32c25d-e561-4a1e-8e52-169cc880091b",
   "metadata": {},
   "outputs": [],
   "source": [
    "mt = hl.read_matrix_table(BASE_DIR + '/data/mt/high_quality_variants.mt/')"
   ]
  },
  {
   "cell_type": "code",
   "execution_count": 60,
   "id": "19a6dabc-aa90-4e9a-a865-d744226a66ac",
   "metadata": {},
   "outputs": [
    {
     "name": "stdout",
     "output_type": "stream",
     "text": [
      "Number of variants: 1146382\n",
      "Number of samples: 468\n"
     ]
    }
   ],
   "source": [
    "n_variants, n_samples = mt.count()\n",
    "print('Number of variants: ' + str(n_variants))\n",
    "print('Number of samples: ' + str(n_samples))"
   ]
  },
  {
   "cell_type": "markdown",
   "id": "48fdf441-520f-4bea-9dd1-68573463cd2c",
   "metadata": {},
   "source": [
    "## Count variants\n",
    "\n",
    "Annotate variants with variant effect, impact and gene. These annotations are obtained from SnpEff.\n",
    "\n",
    "If multiple transcripts overlap a site, the first in the list is arbitrarily chosen.\n",
    "\n",
    "For multi-allelic sites, only one of the alternate alleles is considered.\n",
    "\n",
    "**NOTE:** use [split_multi()](https://hail.is/docs/0.2/methods/genetics.html#hail.methods.split_multi) to count multi-allelic sites.\n",
    "\n",
    "**NOTE:** is it possible to use [split_multi()](https://hail.is/docs/0.2/methods/genetics.html#hail.methods.split_multi) to count overlapping transcripts separately?"
   ]
  },
  {
   "cell_type": "code",
   "execution_count": 61,
   "id": "696af18e-73cd-4870-be03-428c657ccc9a",
   "metadata": {},
   "outputs": [],
   "source": [
    "# Get variant impact, effect and gene name.\n",
    "# Split overlapping transcripts into a list.\n",
    "mt = mt.annotate_rows(effect=mt.info.ANN.map(lambda x: x.split('\\|')[1]),\n",
    "                      impact=mt.info.ANN.map(lambda x: x.split('\\|')[2]),\n",
    "                      gene=mt.info.ANN.map(lambda x: x.split('\\|')[3]))\n",
    "# Use only the first transcript.\n",
    "mt = mt.annotate_rows(impact1=mt.impact[0], effect1=mt.effect[0], gene1=mt.gene[0])"
   ]
  },
  {
   "cell_type": "code",
   "execution_count": 58,
   "id": "423e8534-f662-45f7-bb0f-1f72b8d404c2",
   "metadata": {},
   "outputs": [],
   "source": [
    "# Count number of variants, SNPs and indels. Only first allele in alternate allele list is considered.\n",
    "variant_counts_struct = mt.aggregate_rows(hl.struct(\n",
    "    n_variants = hl.agg.count(),\n",
    "    n_snps = hl.agg.count_where(hl.is_snp(mt.alleles[0], mt.alleles[1])),\n",
    "    n_indels = hl.agg.count_where(hl.is_indel(mt.alleles[0], mt.alleles[1]))))\n",
    "\n",
    "# Count variant impact types.\n",
    "impact_counts_struct = mt.aggregate_rows(\n",
    "    hl.struct(\n",
    "        LOW = hl.agg.count_where(mt.impact1 == 'LOW'),\n",
    "        MODIFIER = hl.agg.count_where(mt.impact1 == 'MODIFIER'),\n",
    "        MODERATE = hl.agg.count_where(mt.impact1 == 'MODERATE'),\n",
    "        HIGH = hl.agg.count_where(mt.impact1 == 'HIGH')))\n",
    "\n",
    "# Count variant effect types.\n",
    "# There are many more effect types, these are some of the more interesting ones.\n",
    "effect_counts_struct = mt.aggregate_rows(\n",
    "    hl.struct(\n",
    "        synonymous_variant = hl.agg.count_where(mt.effect1 == 'synonymous_variant'),\n",
    "        missense_variant = hl.agg.count_where(mt.effect1 == 'missense_variant'),\n",
    "        frameshift_variant = hl.agg.count_where(mt.effect1 == 'frameshift_variant'),              \n",
    "        stop_lost = hl.agg.count_where(mt.effect1 == 'stop_lost')))"
   ]
  },
  {
   "cell_type": "code",
   "execution_count": 78,
   "id": "c083a4d6-e693-4a9d-a0e5-96312c3e15b3",
   "metadata": {},
   "outputs": [
    {
     "data": {
      "text/html": [
       "<div>\n",
       "<style scoped>\n",
       "    .dataframe tbody tr th:only-of-type {\n",
       "        vertical-align: middle;\n",
       "    }\n",
       "\n",
       "    .dataframe tbody tr th {\n",
       "        vertical-align: top;\n",
       "    }\n",
       "\n",
       "    .dataframe thead th {\n",
       "        text-align: right;\n",
       "    }\n",
       "</style>\n",
       "<table border=\"1\" class=\"dataframe\">\n",
       "  <thead>\n",
       "    <tr style=\"text-align: right;\">\n",
       "      <th></th>\n",
       "      <th>Count</th>\n",
       "    </tr>\n",
       "  </thead>\n",
       "  <tbody>\n",
       "    <tr>\n",
       "      <th>n_variants</th>\n",
       "      <td>1146382</td>\n",
       "    </tr>\n",
       "    <tr>\n",
       "      <th>n_snps</th>\n",
       "      <td>429044</td>\n",
       "    </tr>\n",
       "    <tr>\n",
       "      <th>n_indels</th>\n",
       "      <td>717314</td>\n",
       "    </tr>\n",
       "  </tbody>\n",
       "</table>\n",
       "</div>"
      ],
      "text/plain": [
       "              Count\n",
       "n_variants  1146382\n",
       "n_snps       429044\n",
       "n_indels     717314"
      ]
     },
     "execution_count": 78,
     "metadata": {},
     "output_type": "execute_result"
    }
   ],
   "source": [
    "pd.DataFrame(variant_counts_struct.values(), index=variant_counts_struct.keys(), columns=['Count'])"
   ]
  },
  {
   "cell_type": "code",
   "execution_count": 79,
   "id": "9989183d-951d-4d23-878a-6810445d5cd5",
   "metadata": {},
   "outputs": [
    {
     "data": {
      "text/html": [
       "<div>\n",
       "<style scoped>\n",
       "    .dataframe tbody tr th:only-of-type {\n",
       "        vertical-align: middle;\n",
       "    }\n",
       "\n",
       "    .dataframe tbody tr th {\n",
       "        vertical-align: top;\n",
       "    }\n",
       "\n",
       "    .dataframe thead th {\n",
       "        text-align: right;\n",
       "    }\n",
       "</style>\n",
       "<table border=\"1\" class=\"dataframe\">\n",
       "  <thead>\n",
       "    <tr style=\"text-align: right;\">\n",
       "      <th></th>\n",
       "      <th>Count</th>\n",
       "    </tr>\n",
       "  </thead>\n",
       "  <tbody>\n",
       "    <tr>\n",
       "      <th>LOW</th>\n",
       "      <td>75420</td>\n",
       "    </tr>\n",
       "    <tr>\n",
       "      <th>MODIFIER</th>\n",
       "      <td>916641</td>\n",
       "    </tr>\n",
       "    <tr>\n",
       "      <th>MODERATE</th>\n",
       "      <td>54417</td>\n",
       "    </tr>\n",
       "    <tr>\n",
       "      <th>HIGH</th>\n",
       "      <td>99904</td>\n",
       "    </tr>\n",
       "  </tbody>\n",
       "</table>\n",
       "</div>"
      ],
      "text/plain": [
       "           Count\n",
       "LOW        75420\n",
       "MODIFIER  916641\n",
       "MODERATE   54417\n",
       "HIGH       99904"
      ]
     },
     "execution_count": 79,
     "metadata": {},
     "output_type": "execute_result"
    }
   ],
   "source": [
    "pd.DataFrame(impact_counts_struct.values(), index=impact_counts_struct.keys(), columns=['Count'])"
   ]
  },
  {
   "cell_type": "code",
   "execution_count": 80,
   "id": "5df987ee-96b7-4edf-a573-1f10621031ce",
   "metadata": {},
   "outputs": [
    {
     "data": {
      "text/html": [
       "<div>\n",
       "<style scoped>\n",
       "    .dataframe tbody tr th:only-of-type {\n",
       "        vertical-align: middle;\n",
       "    }\n",
       "\n",
       "    .dataframe tbody tr th {\n",
       "        vertical-align: top;\n",
       "    }\n",
       "\n",
       "    .dataframe thead th {\n",
       "        text-align: right;\n",
       "    }\n",
       "</style>\n",
       "<table border=\"1\" class=\"dataframe\">\n",
       "  <thead>\n",
       "    <tr style=\"text-align: right;\">\n",
       "      <th></th>\n",
       "      <th>Count</th>\n",
       "    </tr>\n",
       "  </thead>\n",
       "  <tbody>\n",
       "    <tr>\n",
       "      <th>synonymous_variant</th>\n",
       "      <td>37396</td>\n",
       "    </tr>\n",
       "    <tr>\n",
       "      <th>missense_variant</th>\n",
       "      <td>44908</td>\n",
       "    </tr>\n",
       "    <tr>\n",
       "      <th>frameshift_variant</th>\n",
       "      <td>89744</td>\n",
       "    </tr>\n",
       "    <tr>\n",
       "      <th>stop_lost</th>\n",
       "      <td>49</td>\n",
       "    </tr>\n",
       "  </tbody>\n",
       "</table>\n",
       "</div>"
      ],
      "text/plain": [
       "                    Count\n",
       "synonymous_variant  37396\n",
       "missense_variant    44908\n",
       "frameshift_variant  89744\n",
       "stop_lost              49"
      ]
     },
     "execution_count": 80,
     "metadata": {},
     "output_type": "execute_result"
    }
   ],
   "source": [
    "pd.DataFrame(effect_counts_struct.values(), index=effect_counts_struct.keys(), columns=['Count'])"
   ]
  },
  {
   "cell_type": "markdown",
   "id": "b7b64e75-c071-47ed-b3e8-d5ca9348fe7d",
   "metadata": {},
   "source": [
    "## Folded Site Frequency Spectrum (FFS)\n",
    "\n",
    "Let $f_i$ be the *site frequency* of bin $i$, where bin $i$ corresponds to some range of *allele frequencies*. We are going to compute the folded frequencies $f^*_i = f_i + f_{n-i}$.\n",
    "\n",
    "Example: if we have 10 bins, then $f^*_1 = f_1 + f_{10}$.\n",
    "\n",
    "First we calculate the allele frequency."
   ]
  },
  {
   "cell_type": "code",
   "execution_count": 64,
   "id": "9b6ce604-b32c-4f6d-8e36-74870ae89c9f",
   "metadata": {},
   "outputs": [],
   "source": [
    "mt = mt.annotate_rows(gt_stats = hl.agg.call_stats(mt.GT, mt.alleles))"
   ]
  },
  {
   "cell_type": "markdown",
   "id": "cd35fa25-3619-45ec-bcb1-ec7dff1fa688",
   "metadata": {},
   "source": [
    "Below a function that computes the FFS is defined."
   ]
  },
  {
   "cell_type": "code",
   "execution_count": 7,
   "id": "e98c0fd1-b3b4-41c5-9d03-11e47307fe6b",
   "metadata": {},
   "outputs": [],
   "source": [
    "def ffs(n_bins, mt, af_exprs):\n",
    "    # Make sure the number of bins is an even number.\n",
    "    assert n_bins % 2 == 0, 'Number of bins must be an even number.'\n",
    "    hist_struct = mt.aggregate_rows(hl.agg.hist(af_exprs, 0, 1, n_bins))\n",
    "\n",
    "    # Allele frequency.\n",
    "    allele_freq = hist_struct.bin_edges\n",
    "\n",
    "    # The site count is the number of times frequencies in each bin is observed.\n",
    "    site_counts = np.array(hist_struct.bin_freq)\n",
    "\n",
    "    # Calculate site frequencies.\n",
    "    n_sites = sum(site_counts)\n",
    "    site_freq = site_counts / n_sites\n",
    "\n",
    "    # Calculate folded site-frequencies.\n",
    "    half = int(n_bins/2)\n",
    "    folded_site_freq = site_freq[:half] + site_freq[:half-1:-1]\n",
    "\n",
    "    # Make a Hail table with the allele counts and site frequencies.\n",
    "    ffs_table = []\n",
    "    for ac, fc in zip(allele_freq, folded_site_freq):\n",
    "        row = {'af': ac, 'ff': fc}\n",
    "        ffs_table.append(row)\n",
    "\n",
    "    # Make a table where each row is a bin, and each row contains the allele frequency and the folded site-frequency.\n",
    "    ht_ffs = hl.Table.parallelize(hl.literal(ffs_table, 'array<struct{af:float32,ff:float32}>'))\n",
    "\n",
    "    return ht_ffs"
   ]
  },
  {
   "cell_type": "markdown",
   "id": "d6d2dfca-bebc-4945-9a3a-30a288c8d7b3",
   "metadata": {},
   "source": [
    "We compute a simple FFS and plot it. Note that singletons have a frequency of about 0.65."
   ]
  },
  {
   "cell_type": "code",
   "execution_count": 51,
   "id": "f45668dd-5ea9-45b4-9523-53f0a4bd28b5",
   "metadata": {},
   "outputs": [],
   "source": [
    "ffs_ht = ffs(100, mt, mt.gt_stats.AF[0])"
   ]
  },
  {
   "cell_type": "code",
   "execution_count": 54,
   "id": "03839c74-9c5a-44ef-801d-0e6c9d075549",
   "metadata": {},
   "outputs": [
    {
     "data": {
      "text/html": [
       "\n",
       "\n",
       "\n",
       "\n",
       "\n",
       "\n",
       "  <div class=\"bk-root\" id=\"9046e160-8862-4325-9405-5e5b8dca303e\" data-root-id=\"2670\"></div>\n"
      ]
     },
     "metadata": {},
     "output_type": "display_data"
    },
    {
     "data": {
      "application/javascript": [
       "(function(root) {\n",
       "  function embed_document(root) {\n",
       "    \n",
       "  var docs_json = {\"90c75f8e-e077-4efa-bd84-b04a28e32eac\":{\"roots\":{\"references\":[{\"attributes\":{\"below\":[{\"id\":\"2680\",\"type\":\"LinearAxis\"}],\"center\":[{\"id\":\"2684\",\"type\":\"Grid\"},{\"id\":\"2689\",\"type\":\"Grid\"}],\"left\":[{\"id\":\"2685\",\"type\":\"LinearAxis\"}],\"plot_height\":400,\"plot_width\":800,\"renderers\":[{\"id\":\"2709\",\"type\":\"GlyphRenderer\"}],\"title\":null,\"toolbar\":{\"id\":\"2696\",\"type\":\"Toolbar\"},\"x_range\":{\"id\":\"2672\",\"type\":\"DataRange1d\"},\"x_scale\":{\"id\":\"2676\",\"type\":\"LinearScale\"},\"y_range\":{\"id\":\"2674\",\"type\":\"DataRange1d\"},\"y_scale\":{\"id\":\"2678\",\"type\":\"LinearScale\"}},\"id\":\"2670\",\"subtype\":\"Figure\",\"type\":\"Plot\"},{\"attributes\":{\"data_source\":{\"id\":\"2705\",\"type\":\"ColumnDataSource\"},\"glyph\":{\"id\":\"2707\",\"type\":\"Circle\"},\"hover_glyph\":null,\"muted_glyph\":null,\"nonselection_glyph\":{\"id\":\"2708\",\"type\":\"Circle\"},\"selection_glyph\":null,\"view\":{\"id\":\"2710\",\"type\":\"CDSView\"}},\"id\":\"2709\",\"type\":\"GlyphRenderer\"},{\"attributes\":{},\"id\":\"2686\",\"type\":\"BasicTicker\"},{\"attributes\":{},\"id\":\"2808\",\"type\":\"BasicTickFormatter\"},{\"attributes\":{\"callback\":null},\"id\":\"2672\",\"type\":\"DataRange1d\"},{\"attributes\":{},\"id\":\"2676\",\"type\":\"LinearScale\"},{\"attributes\":{\"overlay\":{\"id\":\"2814\",\"type\":\"BoxAnnotation\"}},\"id\":\"2692\",\"type\":\"BoxZoomTool\"},{\"attributes\":{},\"id\":\"2693\",\"type\":\"SaveTool\"},{\"attributes\":{\"callback\":null},\"id\":\"2674\",\"type\":\"DataRange1d\"},{\"attributes\":{\"dimension\":1,\"ticker\":{\"id\":\"2686\",\"type\":\"BasicTicker\"}},\"id\":\"2689\",\"type\":\"Grid\"},{\"attributes\":{\"callback\":null,\"tooltips\":[[\"x\",\"@x\"],[\"y\",\"@y\"]]},\"id\":\"2704\",\"type\":\"HoverTool\"},{\"attributes\":{},\"id\":\"2810\",\"type\":\"BasicTickFormatter\"},{\"attributes\":{},\"id\":\"2812\",\"type\":\"UnionRenderers\"},{\"attributes\":{\"active_drag\":\"auto\",\"active_inspect\":\"auto\",\"active_multi\":null,\"active_scroll\":\"auto\",\"active_tap\":\"auto\",\"tools\":[{\"id\":\"2690\",\"type\":\"PanTool\"},{\"id\":\"2691\",\"type\":\"WheelZoomTool\"},{\"id\":\"2692\",\"type\":\"BoxZoomTool\"},{\"id\":\"2693\",\"type\":\"SaveTool\"},{\"id\":\"2694\",\"type\":\"ResetTool\"},{\"id\":\"2695\",\"type\":\"HelpTool\"},{\"id\":\"2704\",\"type\":\"HoverTool\"}]},\"id\":\"2696\",\"type\":\"Toolbar\"},{\"attributes\":{\"bottom_units\":\"screen\",\"fill_alpha\":{\"value\":0.5},\"fill_color\":{\"value\":\"lightgrey\"},\"left_units\":\"screen\",\"level\":\"overlay\",\"line_alpha\":{\"value\":1.0},\"line_color\":{\"value\":\"black\"},\"line_dash\":[4,4],\"line_width\":{\"value\":2},\"render_mode\":\"css\",\"right_units\":\"screen\",\"top_units\":\"screen\"},\"id\":\"2814\",\"type\":\"BoxAnnotation\"},{\"attributes\":{},\"id\":\"2678\",\"type\":\"LinearScale\"},{\"attributes\":{\"source\":{\"id\":\"2705\",\"type\":\"ColumnDataSource\"}},\"id\":\"2710\",\"type\":\"CDSView\"},{\"attributes\":{},\"id\":\"2691\",\"type\":\"WheelZoomTool\"},{\"attributes\":{\"ticker\":{\"id\":\"2681\",\"type\":\"BasicTicker\"}},\"id\":\"2684\",\"type\":\"Grid\"},{\"attributes\":{},\"id\":\"2813\",\"type\":\"Selection\"},{\"attributes\":{\"callback\":null,\"data\":{\"index\":[0,1,2,3,4,5,6,7,8,9,10,11,12,13,14,15,16,17,18,19,20,21,22,23,24,25,26,27,28,29,30,31,32,33,34,35,36,37,38,39,40,41,42,43,44,45,46,47,48,49],\"x\":{\"__ndarray__\":\"AAAAAAAAAAAAAABA4XqEPwAAAEDhepQ/AAAA4FG4nj8AAABA4XqkPwAAAKCZmak/AAAA4FG4rj8AAAAgheuxPwAAAEDherQ/AAAAgD0Ktz8AAACgmZm5PwAAAMD1KLw/AAAA4FG4vj8AAAAA16PAPwAAACCF68E/AAAAQDMzwz8AAABA4XrEPwAAAGCPwsU/AAAAgD0Kxz8AAACA61HIPwAAAKCZmck/AAAAoEfhyj8AAADA9SjMPwAAAOCjcM0/AAAA4FG4zj8AAAAAAADQPwAAAADXo9A/AAAAIK5H0T8AAAAghevRPwAAACBcj9I/AAAAQDMz0z8AAABACtfTPwAAAEDhetQ/AAAAYLge1T8AAABgj8LVPwAAAGBmZtY/AAAAgD0K1z8AAACAFK7XPwAAAIDrUdg/AAAAgML12D8AAACgmZnZPwAAAKBwPdo/AAAAoEfh2j8AAADAHoXbPwAAAMD1KNw/AAAAwMzM3D8AAADgo3DdPwAAAOB6FN4/AAAA4FG43j8AAAAAKVzfPw==\",\"dtype\":\"float64\",\"shape\":[50]},\"y\":{\"__ndarray__\":\"AAAA4JSn5D8AAACAGRexPwAAAKC9iqQ/AAAAIKwKmD8AAADAqtKRPwAAAKDWKI4/AAAAYKXGhj8AAABg6kmDPwAAAEASooI/AAAAwF/lfz8AAABABwR8PwAAAABTIn0/AAAAIET8dz8AAABgUnx4PwAAAICa4HU/AAAAAONQdD8AAABAz+d0PwAAAKCM0nI/AAAAIK/6cT8AAAAg6w5zPwAAACCKMHE/AAAAYLxicD8AAADAFKpwPwAAAMDBdG4/AAAAAEyvbj8AAABA41FtPwAAACDcRGs/AAAAQGLtbT8AAACAsydsPwAAAMAHQ2s/AAAAwEIMbD8AAADgFN5nPwAAAKBA3Gc/AAAAIN+LaD8AAADAxrdoPwAAAKB+hmk/AAAA4Mx5aj8AAADgDCBpPwAAAEAj+Gs/AAAAwMoWaD8AAABgLsppPwAAAICy3Gs/AAAAQGtcaT8AAABg7QtpPwAAAMDIGms/AAAAgHpaaD8AAACgwQ1pPwAAAKA7zGs/AAAAYDCTaD8AAAAAGddqPw==\",\"dtype\":\"float64\",\"shape\":[50]}},\"selected\":{\"id\":\"2813\",\"type\":\"Selection\"},\"selection_policy\":{\"id\":\"2812\",\"type\":\"UnionRenderers\"}},\"id\":\"2705\",\"type\":\"ColumnDataSource\"},{\"attributes\":{},\"id\":\"2690\",\"type\":\"PanTool\"},{\"attributes\":{\"axis_label\":\"Allele counts\",\"formatter\":{\"id\":\"2808\",\"type\":\"BasicTickFormatter\"},\"ticker\":{\"id\":\"2681\",\"type\":\"BasicTicker\"}},\"id\":\"2680\",\"type\":\"LinearAxis\"},{\"attributes\":{\"axis_label\":\"Frequency in population\",\"formatter\":{\"id\":\"2810\",\"type\":\"BasicTickFormatter\"},\"ticker\":{\"id\":\"2686\",\"type\":\"BasicTicker\"}},\"id\":\"2685\",\"type\":\"LinearAxis\"},{\"attributes\":{},\"id\":\"2681\",\"type\":\"BasicTicker\"},{\"attributes\":{\"fill_alpha\":{\"value\":0.1},\"fill_color\":{\"value\":\"#1f77b4\"},\"line_alpha\":{\"value\":0.1},\"line_color\":{\"value\":\"#1f77b4\"},\"x\":{\"field\":\"x\"},\"y\":{\"field\":\"y\"}},\"id\":\"2708\",\"type\":\"Circle\"},{\"attributes\":{},\"id\":\"2695\",\"type\":\"HelpTool\"},{\"attributes\":{\"fill_color\":{\"value\":\"#1f77b4\"},\"line_color\":{\"value\":\"#1f77b4\"},\"x\":{\"field\":\"x\"},\"y\":{\"field\":\"y\"}},\"id\":\"2707\",\"type\":\"Circle\"},{\"attributes\":{},\"id\":\"2694\",\"type\":\"ResetTool\"}],\"root_ids\":[\"2670\"]},\"title\":\"Bokeh Application\",\"version\":\"1.2.0\"}};\n",
       "  var render_items = [{\"docid\":\"90c75f8e-e077-4efa-bd84-b04a28e32eac\",\"roots\":{\"2670\":\"9046e160-8862-4325-9405-5e5b8dca303e\"}}];\n",
       "  root.Bokeh.embed.embed_items_notebook(docs_json, render_items);\n",
       "\n",
       "  }\n",
       "  if (root.Bokeh !== undefined) {\n",
       "    embed_document(root);\n",
       "  } else {\n",
       "    var attempts = 0;\n",
       "    var timer = setInterval(function(root) {\n",
       "      if (root.Bokeh !== undefined) {\n",
       "        embed_document(root);\n",
       "        clearInterval(timer);\n",
       "      }\n",
       "      attempts++;\n",
       "      if (attempts > 100) {\n",
       "        console.log(\"Bokeh: ERROR: Unable to run BokehJS code because BokehJS library is missing\");\n",
       "        clearInterval(timer);\n",
       "      }\n",
       "    }, 10, root)\n",
       "  }\n",
       "})(window);"
      ],
      "application/vnd.bokehjs_exec.v0+json": ""
     },
     "metadata": {
      "application/vnd.bokehjs_exec.v0+json": {
       "id": "2670"
      }
     },
     "output_type": "display_data"
    }
   ],
   "source": [
    "p = hl.plot.scatter(ffs_ht.af, ffs_ht.ff,\n",
    "                    xlabel='Allele counts', ylabel='Frequency in population')\n",
    "p.plot_width = 800\n",
    "p.plot_height = 400\n",
    "show(p)"
   ]
  },
  {
   "cell_type": "markdown",
   "id": "84ce541d-f718-41f0-b2c0-78b6f7e6721c",
   "metadata": {},
   "source": [
    "### FFS stratified by variant impact"
   ]
  },
  {
   "cell_type": "code",
   "execution_count": 79,
   "id": "678572d8-4bcf-43fc-b62e-86cf8d923aa3",
   "metadata": {},
   "outputs": [],
   "source": [
    "n_bins = 100\n",
    "first = True\n",
    "for impact in ['LOW', 'MODIFIER', 'MODERATE', 'HIGH']:\n",
    "    temp_ht = mt.filter_rows(mt.impact1 == impact)\n",
    "    temp_ffs_ht = ffs(n_bins, temp_ht, temp_ht.gt_stats.AF[0])\n",
    "    temp_ffs_ht = temp_ffs_ht.annotate(strata=impact)\n",
    "    \n",
    "    if first:\n",
    "        ffs_ht = temp_ffs_ht\n",
    "        first = False\n",
    "    else:\n",
    "        ffs_ht = ffs_ht.union(temp_ffs_ht)"
   ]
  },
  {
   "cell_type": "code",
   "execution_count": 80,
   "id": "105c2db5-a647-461f-91e2-97446a1f3dbb",
   "metadata": {},
   "outputs": [
    {
     "data": {
      "text/html": [
       "\n",
       "\n",
       "\n",
       "\n",
       "\n",
       "\n",
       "  <div class=\"bk-root\" id=\"921e4dc5-d139-4f3e-a411-b2546763e97d\" data-root-id=\"4442\"></div>\n"
      ]
     },
     "metadata": {},
     "output_type": "display_data"
    },
    {
     "data": {
      "application/javascript": [
       "(function(root) {\n",
       "  function embed_document(root) {\n",
       "    \n",
       "  var docs_json = {\"11fa8f4e-2b5c-431b-9752-d14dd33d0833\":{\"roots\":{\"references\":[{\"attributes\":{\"below\":[{\"id\":\"4452\",\"type\":\"LinearAxis\"}],\"center\":[{\"id\":\"4456\",\"type\":\"Grid\"},{\"id\":\"4461\",\"type\":\"Grid\"}],\"left\":[{\"id\":\"4457\",\"type\":\"LinearAxis\"},{\"id\":\"4507\",\"type\":\"Legend\"},{\"id\":\"4508\",\"type\":\"ColorBar\"}],\"plot_height\":400,\"plot_width\":800,\"renderers\":[{\"id\":\"4484\",\"type\":\"GlyphRenderer\"},{\"id\":\"4490\",\"type\":\"GlyphRenderer\"},{\"id\":\"4496\",\"type\":\"GlyphRenderer\"},{\"id\":\"4502\",\"type\":\"GlyphRenderer\"}],\"title\":null,\"toolbar\":{\"id\":\"4468\",\"type\":\"Toolbar\"},\"x_range\":{\"id\":\"4444\",\"type\":\"DataRange1d\"},\"x_scale\":{\"id\":\"4448\",\"type\":\"LinearScale\"},\"y_range\":{\"id\":\"4446\",\"type\":\"DataRange1d\"},\"y_scale\":{\"id\":\"4509\",\"type\":\"LogScale\"}},\"id\":\"4442\",\"subtype\":\"Figure\",\"type\":\"Plot\"},{\"attributes\":{\"data_source\":{\"id\":\"4477\",\"type\":\"ColumnDataSource\"},\"glyph\":{\"id\":\"4500\",\"type\":\"Circle\"},\"hover_glyph\":null,\"muted_glyph\":null,\"nonselection_glyph\":{\"id\":\"4501\",\"type\":\"Circle\"},\"selection_glyph\":null,\"view\":{\"id\":\"4498\",\"type\":\"CDSView\"}},\"id\":\"4502\",\"type\":\"GlyphRenderer\"},{\"attributes\":{\"axis_label\":\"Frequency in population\",\"formatter\":{\"id\":\"4677\",\"type\":\"BasicTickFormatter\"},\"ticker\":{\"id\":\"4458\",\"type\":\"BasicTicker\"}},\"id\":\"4457\",\"type\":\"LinearAxis\"},{\"attributes\":{\"fill_alpha\":{\"value\":0.1},\"fill_color\":{\"value\":\"#1f77b4\"},\"line_alpha\":{\"value\":0.1},\"line_color\":{\"value\":\"#1f77b4\"},\"x\":{\"field\":\"x\"},\"y\":{\"field\":\"y\"}},\"id\":\"4489\",\"type\":\"Circle\"},{\"attributes\":{},\"id\":\"4466\",\"type\":\"ResetTool\"},{\"attributes\":{\"fill_color\":{\"field\":\"label\",\"transform\":{\"id\":\"4478\",\"type\":\"CategoricalColorMapper\"}},\"line_color\":{\"field\":\"label\",\"transform\":{\"id\":\"4478\",\"type\":\"CategoricalColorMapper\"}},\"x\":{\"field\":\"x\"},\"y\":{\"field\":\"y\"}},\"id\":\"4500\",\"type\":\"Circle\"},{\"attributes\":{\"fill_alpha\":{\"value\":0.1},\"fill_color\":{\"value\":\"#1f77b4\"},\"line_alpha\":{\"value\":0.1},\"line_color\":{\"value\":\"#1f77b4\"},\"x\":{\"field\":\"x\"},\"y\":{\"field\":\"y\"}},\"id\":\"4483\",\"type\":\"Circle\"},{\"attributes\":{},\"id\":\"4681\",\"type\":\"UnionRenderers\"},{\"attributes\":{},\"id\":\"4463\",\"type\":\"WheelZoomTool\"},{\"attributes\":{\"factors\":[\"LOW\",\"MODIFIER\",\"MODERATE\",\"HIGH\"],\"palette\":[\"#1f77b4\",\"#ff7f0e\",\"#2ca02c\",\"#d62728\",\"#9467bd\",\"#8c564b\",\"#e377c2\",\"#7f7f7f\",\"#bcbd22\",\"#17becf\"]},\"id\":\"4478\",\"type\":\"CategoricalColorMapper\"},{\"attributes\":{\"ticker\":{\"id\":\"4453\",\"type\":\"BasicTicker\"}},\"id\":\"4456\",\"type\":\"Grid\"},{\"attributes\":{\"callback\":null},\"id\":\"4446\",\"type\":\"DataRange1d\"},{\"attributes\":{},\"id\":\"4453\",\"type\":\"BasicTicker\"},{\"attributes\":{},\"id\":\"4680\",\"type\":\"BasicTicker\"},{\"attributes\":{\"color_mapper\":null,\"formatter\":{\"id\":\"4679\",\"type\":\"BasicTickFormatter\"},\"ticker\":{\"id\":\"4680\",\"type\":\"BasicTicker\"},\"visible\":false},\"id\":\"4508\",\"type\":\"ColorBar\"},{\"attributes\":{\"fill_color\":{\"field\":\"label\",\"transform\":{\"id\":\"4478\",\"type\":\"CategoricalColorMapper\"}},\"line_color\":{\"field\":\"label\",\"transform\":{\"id\":\"4478\",\"type\":\"CategoricalColorMapper\"}},\"x\":{\"field\":\"x\"},\"y\":{\"field\":\"y\"}},\"id\":\"4482\",\"type\":\"Circle\"},{\"attributes\":{\"filters\":[{\"id\":\"4491\",\"type\":\"GroupFilter\"}],\"source\":{\"id\":\"4477\",\"type\":\"ColumnDataSource\"}},\"id\":\"4492\",\"type\":\"CDSView\"},{\"attributes\":{},\"id\":\"4679\",\"type\":\"BasicTickFormatter\"},{\"attributes\":{},\"id\":\"4509\",\"type\":\"LogScale\"},{\"attributes\":{\"fill_alpha\":{\"value\":0.1},\"fill_color\":{\"value\":\"#1f77b4\"},\"line_alpha\":{\"value\":0.1},\"line_color\":{\"value\":\"#1f77b4\"},\"x\":{\"field\":\"x\"},\"y\":{\"field\":\"y\"}},\"id\":\"4501\",\"type\":\"Circle\"},{\"attributes\":{\"label\":{\"value\":\"MODIFIER\"},\"renderers\":[{\"id\":\"4502\",\"type\":\"GlyphRenderer\"}]},\"id\":\"4506\",\"type\":\"LegendItem\"},{\"attributes\":{\"callback\":null,\"data\":{\"index\":[0,1,2,3,4,5,6,7,8,9,10,11,12,13,14,15,16,17,18,19,20,21,22,23,24,25,26,27,28,29,30,31,32,33,34,35,36,37,38,39,40,41,42,43,44,45,46,47,48,49,50,51,52,53,54,55,56,57,58,59,60,61,62,63,64,65,66,67,68,69,70,71,72,73,74,75,76,77,78,79,80,81,82,83,84,85,86,87,88,89,90,91,92,93,94,95,96,97,98,99,100,101,102,103,104,105,106,107,108,109,110,111,112,113,114,115,116,117,118,119,120,121,122,123,124,125,126,127,128,129,130,131,132,133,134,135,136,137,138,139,140,141,142,143,144,145,146,147,148,149,150,151,152,153,154,155,156,157,158,159,160,161,162,163,164,165,166,167,168,169,170,171,172,173,174,175,176,177,178,179,180,181,182,183,184,185,186,187,188,189,190,191,192,193,194,195,196,197,198,199],\"label\":[\"LOW\",\"LOW\",\"LOW\",\"LOW\",\"LOW\",\"LOW\",\"LOW\",\"LOW\",\"LOW\",\"LOW\",\"LOW\",\"LOW\",\"LOW\",\"LOW\",\"LOW\",\"LOW\",\"LOW\",\"LOW\",\"LOW\",\"LOW\",\"LOW\",\"LOW\",\"LOW\",\"LOW\",\"LOW\",\"LOW\",\"LOW\",\"LOW\",\"LOW\",\"LOW\",\"LOW\",\"LOW\",\"LOW\",\"LOW\",\"LOW\",\"LOW\",\"LOW\",\"LOW\",\"LOW\",\"LOW\",\"LOW\",\"LOW\",\"LOW\",\"LOW\",\"LOW\",\"LOW\",\"LOW\",\"LOW\",\"LOW\",\"LOW\",\"MODIFIER\",\"MODIFIER\",\"MODIFIER\",\"MODIFIER\",\"MODIFIER\",\"MODIFIER\",\"MODIFIER\",\"MODIFIER\",\"MODIFIER\",\"MODIFIER\",\"MODIFIER\",\"MODIFIER\",\"MODIFIER\",\"MODIFIER\",\"MODIFIER\",\"MODIFIER\",\"MODIFIER\",\"MODIFIER\",\"MODIFIER\",\"MODIFIER\",\"MODIFIER\",\"MODIFIER\",\"MODIFIER\",\"MODIFIER\",\"MODIFIER\",\"MODIFIER\",\"MODIFIER\",\"MODIFIER\",\"MODIFIER\",\"MODIFIER\",\"MODIFIER\",\"MODIFIER\",\"MODIFIER\",\"MODIFIER\",\"MODIFIER\",\"MODIFIER\",\"MODIFIER\",\"MODIFIER\",\"MODIFIER\",\"MODIFIER\",\"MODIFIER\",\"MODIFIER\",\"MODIFIER\",\"MODIFIER\",\"MODIFIER\",\"MODIFIER\",\"MODIFIER\",\"MODIFIER\",\"MODIFIER\",\"MODIFIER\",\"MODERATE\",\"MODERATE\",\"MODERATE\",\"MODERATE\",\"MODERATE\",\"MODERATE\",\"MODERATE\",\"MODERATE\",\"MODERATE\",\"MODERATE\",\"MODERATE\",\"MODERATE\",\"MODERATE\",\"MODERATE\",\"MODERATE\",\"MODERATE\",\"MODERATE\",\"MODERATE\",\"MODERATE\",\"MODERATE\",\"MODERATE\",\"MODERATE\",\"MODERATE\",\"MODERATE\",\"MODERATE\",\"MODERATE\",\"MODERATE\",\"MODERATE\",\"MODERATE\",\"MODERATE\",\"MODERATE\",\"MODERATE\",\"MODERATE\",\"MODERATE\",\"MODERATE\",\"MODERATE\",\"MODERATE\",\"MODERATE\",\"MODERATE\",\"MODERATE\",\"MODERATE\",\"MODERATE\",\"MODERATE\",\"MODERATE\",\"MODERATE\",\"MODERATE\",\"MODERATE\",\"MODERATE\",\"MODERATE\",\"MODERATE\",\"HIGH\",\"HIGH\",\"HIGH\",\"HIGH\",\"HIGH\",\"HIGH\",\"HIGH\",\"HIGH\",\"HIGH\",\"HIGH\",\"HIGH\",\"HIGH\",\"HIGH\",\"HIGH\",\"HIGH\",\"HIGH\",\"HIGH\",\"HIGH\",\"HIGH\",\"HIGH\",\"HIGH\",\"HIGH\",\"HIGH\",\"HIGH\",\"HIGH\",\"HIGH\",\"HIGH\",\"HIGH\",\"HIGH\",\"HIGH\",\"HIGH\",\"HIGH\",\"HIGH\",\"HIGH\",\"HIGH\",\"HIGH\",\"HIGH\",\"HIGH\",\"HIGH\",\"HIGH\",\"HIGH\",\"HIGH\",\"HIGH\",\"HIGH\",\"HIGH\",\"HIGH\",\"HIGH\",\"HIGH\",\"HIGH\",\"HIGH\"],\"x\":{\"__ndarray__\":\"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\",\"dtype\":\"float64\",\"shape\":[200]},\"y\":{\"__ndarray__\":\"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\",\"dtype\":\"float64\",\"shape\":[200]}},\"selected\":{\"id\":\"4682\",\"type\":\"Selection\"},\"selection_policy\":{\"id\":\"4681\",\"type\":\"UnionRenderers\"}},\"id\":\"4477\",\"type\":\"ColumnDataSource\"},{\"attributes\":{\"fill_color\":{\"field\":\"label\",\"transform\":{\"id\":\"4478\",\"type\":\"CategoricalColorMapper\"}},\"line_color\":{\"field\":\"label\",\"transform\":{\"id\":\"4478\",\"type\":\"CategoricalColorMapper\"}},\"x\":{\"field\":\"x\"},\"y\":{\"field\":\"y\"}},\"id\":\"4488\",\"type\":\"Circle\"},{\"attributes\":{\"label\":{\"value\":\"MODERATE\"},\"renderers\":[{\"id\":\"4496\",\"type\":\"GlyphRenderer\"}]},\"id\":\"4505\",\"type\":\"LegendItem\"},{\"attributes\":{\"column_name\":\"label\",\"group\":\"MODERATE\"},\"id\":\"4491\",\"type\":\"GroupFilter\"},{\"attributes\":{},\"id\":\"4467\",\"type\":\"HelpTool\"},{\"attributes\":{\"column_name\":\"label\",\"group\":\"LOW\"},\"id\":\"4485\",\"type\":\"GroupFilter\"},{\"attributes\":{\"filters\":[{\"id\":\"4485\",\"type\":\"GroupFilter\"}],\"source\":{\"id\":\"4477\",\"type\":\"ColumnDataSource\"}},\"id\":\"4486\",\"type\":\"CDSView\"},{\"attributes\":{\"column_name\":\"label\",\"group\":\"MODIFIER\"},\"id\":\"4497\",\"type\":\"GroupFilter\"},{\"attributes\":{\"label\":{\"value\":\"LOW\"},\"renderers\":[{\"id\":\"4490\",\"type\":\"GlyphRenderer\"}]},\"id\":\"4504\",\"type\":\"LegendItem\"},{\"attributes\":{\"data_source\":{\"id\":\"4477\",\"type\":\"ColumnDataSource\"},\"glyph\":{\"id\":\"4488\",\"type\":\"Circle\"},\"hover_glyph\":null,\"muted_glyph\":null,\"nonselection_glyph\":{\"id\":\"4489\",\"type\":\"Circle\"},\"selection_glyph\":null,\"view\":{\"id\":\"4486\",\"type\":\"CDSView\"}},\"id\":\"4490\",\"type\":\"GlyphRenderer\"},{\"attributes\":{\"fill_color\":{\"field\":\"label\",\"transform\":{\"id\":\"4478\",\"type\":\"CategoricalColorMapper\"}},\"line_color\":{\"field\":\"label\",\"transform\":{\"id\":\"4478\",\"type\":\"CategoricalColorMapper\"}},\"x\":{\"field\":\"x\"},\"y\":{\"field\":\"y\"}},\"id\":\"4494\",\"type\":\"Circle\"},{\"attributes\":{},\"id\":\"4462\",\"type\":\"PanTool\"},{\"attributes\":{\"data_source\":{\"id\":\"4477\",\"type\":\"ColumnDataSource\"},\"glyph\":{\"id\":\"4482\",\"type\":\"Circle\"},\"hover_glyph\":null,\"muted_glyph\":null,\"nonselection_glyph\":{\"id\":\"4483\",\"type\":\"Circle\"},\"selection_glyph\":null,\"view\":{\"id\":\"4480\",\"type\":\"CDSView\"}},\"id\":\"4484\",\"type\":\"GlyphRenderer\"},{\"attributes\":{\"filters\":[{\"id\":\"4479\",\"type\":\"GroupFilter\"}],\"source\":{\"id\":\"4477\",\"type\":\"ColumnDataSource\"}},\"id\":\"4480\",\"type\":\"CDSView\"},{\"attributes\":{\"active_drag\":\"auto\",\"active_inspect\":\"auto\",\"active_multi\":null,\"active_scroll\":\"auto\",\"active_tap\":\"auto\",\"tools\":[{\"id\":\"4462\",\"type\":\"PanTool\"},{\"id\":\"4463\",\"type\":\"WheelZoomTool\"},{\"id\":\"4464\",\"type\":\"BoxZoomTool\"},{\"id\":\"4465\",\"type\":\"SaveTool\"},{\"id\":\"4466\",\"type\":\"ResetTool\"},{\"id\":\"4467\",\"type\":\"HelpTool\"},{\"id\":\"4476\",\"type\":\"HoverTool\"}]},\"id\":\"4468\",\"type\":\"Toolbar\"},{\"attributes\":{},\"id\":\"4465\",\"type\":\"SaveTool\"},{\"attributes\":{},\"id\":\"4458\",\"type\":\"BasicTicker\"},{\"attributes\":{\"data_source\":{\"id\":\"4477\",\"type\":\"ColumnDataSource\"},\"glyph\":{\"id\":\"4494\",\"type\":\"Circle\"},\"hover_glyph\":null,\"muted_glyph\":null,\"nonselection_glyph\":{\"id\":\"4495\",\"type\":\"Circle\"},\"selection_glyph\":null,\"view\":{\"id\":\"4492\",\"type\":\"CDSView\"}},\"id\":\"4496\",\"type\":\"GlyphRenderer\"},{\"attributes\":{},\"id\":\"4448\",\"type\":\"LinearScale\"},{\"attributes\":{\"filters\":[{\"id\":\"4497\",\"type\":\"GroupFilter\"}],\"source\":{\"id\":\"4477\",\"type\":\"ColumnDataSource\"}},\"id\":\"4498\",\"type\":\"CDSView\"},{\"attributes\":{},\"id\":\"4682\",\"type\":\"Selection\"},{\"attributes\":{},\"id\":\"4675\",\"type\":\"BasicTickFormatter\"},{\"attributes\":{\"callback\":null,\"tooltips\":[[\"x\",\"@x\"],[\"y\",\"@y\"],[\"label\",\"@label\"]]},\"id\":\"4476\",\"type\":\"HoverTool\"},{\"attributes\":{\"column_name\":\"label\",\"group\":\"HIGH\"},\"id\":\"4479\",\"type\":\"GroupFilter\"},{\"attributes\":{\"bottom_units\":\"screen\",\"fill_alpha\":{\"value\":0.5},\"fill_color\":{\"value\":\"lightgrey\"},\"left_units\":\"screen\",\"level\":\"overlay\",\"line_alpha\":{\"value\":1.0},\"line_color\":{\"value\":\"black\"},\"line_dash\":[4,4],\"line_width\":{\"value\":2},\"render_mode\":\"css\",\"right_units\":\"screen\",\"top_units\":\"screen\"},\"id\":\"4683\",\"type\":\"BoxAnnotation\"},{\"attributes\":{\"axis_label\":\"Allele counts\",\"formatter\":{\"id\":\"4675\",\"type\":\"BasicTickFormatter\"},\"ticker\":{\"id\":\"4453\",\"type\":\"BasicTicker\"}},\"id\":\"4452\",\"type\":\"LinearAxis\"},{\"attributes\":{\"callback\":null},\"id\":\"4444\",\"type\":\"DataRange1d\"},{\"attributes\":{\"dimension\":1,\"ticker\":{\"id\":\"4458\",\"type\":\"BasicTicker\"}},\"id\":\"4461\",\"type\":\"Grid\"},{\"attributes\":{\"fill_alpha\":{\"value\":0.1},\"fill_color\":{\"value\":\"#1f77b4\"},\"line_alpha\":{\"value\":0.1},\"line_color\":{\"value\":\"#1f77b4\"},\"x\":{\"field\":\"x\"},\"y\":{\"field\":\"y\"}},\"id\":\"4495\",\"type\":\"Circle\"},{\"attributes\":{\"overlay\":{\"id\":\"4683\",\"type\":\"BoxAnnotation\"}},\"id\":\"4464\",\"type\":\"BoxZoomTool\"},{\"attributes\":{},\"id\":\"4677\",\"type\":\"BasicTickFormatter\"},{\"attributes\":{\"label\":{\"value\":\"HIGH\"},\"renderers\":[{\"id\":\"4484\",\"type\":\"GlyphRenderer\"}]},\"id\":\"4503\",\"type\":\"LegendItem\"},{\"attributes\":{\"click_policy\":\"hide\",\"items\":[{\"id\":\"4503\",\"type\":\"LegendItem\"},{\"id\":\"4504\",\"type\":\"LegendItem\"},{\"id\":\"4505\",\"type\":\"LegendItem\"},{\"id\":\"4506\",\"type\":\"LegendItem\"}]},\"id\":\"4507\",\"type\":\"Legend\"}],\"root_ids\":[\"4442\"]},\"title\":\"Bokeh Application\",\"version\":\"1.2.0\"}};\n",
       "  var render_items = [{\"docid\":\"11fa8f4e-2b5c-431b-9752-d14dd33d0833\",\"roots\":{\"4442\":\"921e4dc5-d139-4f3e-a411-b2546763e97d\"}}];\n",
       "  root.Bokeh.embed.embed_items_notebook(docs_json, render_items);\n",
       "\n",
       "  }\n",
       "  if (root.Bokeh !== undefined) {\n",
       "    embed_document(root);\n",
       "  } else {\n",
       "    var attempts = 0;\n",
       "    var timer = setInterval(function(root) {\n",
       "      if (root.Bokeh !== undefined) {\n",
       "        embed_document(root);\n",
       "        clearInterval(timer);\n",
       "      }\n",
       "      attempts++;\n",
       "      if (attempts > 100) {\n",
       "        console.log(\"Bokeh: ERROR: Unable to run BokehJS code because BokehJS library is missing\");\n",
       "        clearInterval(timer);\n",
       "      }\n",
       "    }, 10, root)\n",
       "  }\n",
       "})(window);"
      ],
      "application/vnd.bokehjs_exec.v0+json": ""
     },
     "metadata": {
      "application/vnd.bokehjs_exec.v0+json": {
       "id": "4442"
      }
     },
     "output_type": "display_data"
    }
   ],
   "source": [
    "p = hl.plot.scatter(ffs_ht.af, ffs_ht.ff, label=ffs_ht.strata,\n",
    "                    xlabel='Allele counts', ylabel='Frequency in population',\n",
    "                    collect_all=True)\n",
    "p.plot_width = 800\n",
    "p.plot_height = 400\n",
    "p.y_scale = LogScale()\n",
    "show(p)"
   ]
  },
  {
   "cell_type": "markdown",
   "id": "eb2ccd4c-d8ba-4f92-b3f8-7bbb3120f149",
   "metadata": {},
   "source": [
    "### FFS stratified by variant effect"
   ]
  },
  {
   "cell_type": "code",
   "execution_count": 83,
   "id": "15ec19ef-665e-4645-8047-21d86baa97b0",
   "metadata": {},
   "outputs": [],
   "source": [
    "n_bins = 100\n",
    "first = True\n",
    "for effect in ['synonymous_variant', 'missense_variant', 'frameshift_variant']:\n",
    "    temp_ht = mt.filter_rows(mt.effect1 == effect)\n",
    "    temp_ffs_ht = ffs(n_bins, temp_ht, temp_ht.gt_stats.AF[0])\n",
    "    temp_ffs_ht = temp_ffs_ht.annotate(strata=effect)\n",
    "    \n",
    "    if first:\n",
    "        ffs_ht = temp_ffs_ht\n",
    "        first = False\n",
    "    else:\n",
    "        ffs_ht = ffs_ht.union(temp_ffs_ht)"
   ]
  },
  {
   "cell_type": "code",
   "execution_count": 85,
   "id": "68cbe8b3-2780-4443-9902-a4c626ede8b3",
   "metadata": {},
   "outputs": [
    {
     "data": {
      "text/html": [
       "\n",
       "\n",
       "\n",
       "\n",
       "\n",
       "\n",
       "  <div class=\"bk-root\" id=\"2595becb-a1b5-4de3-bd83-ba69032cd857\" data-root-id=\"5371\"></div>\n"
      ]
     },
     "metadata": {},
     "output_type": "display_data"
    },
    {
     "data": {
      "application/javascript": [
       "(function(root) {\n",
       "  function embed_document(root) {\n",
       "    \n",
       "  var docs_json = {\"d1b98fc5-d45d-4138-93ef-10bdf4014c79\":{\"roots\":{\"references\":[{\"attributes\":{\"below\":[{\"id\":\"5381\",\"type\":\"LinearAxis\"}],\"center\":[{\"id\":\"5385\",\"type\":\"Grid\"},{\"id\":\"5390\",\"type\":\"Grid\"}],\"left\":[{\"id\":\"5386\",\"type\":\"LinearAxis\"},{\"id\":\"5429\",\"type\":\"Legend\"},{\"id\":\"5430\",\"type\":\"ColorBar\"}],\"plot_height\":400,\"plot_width\":800,\"renderers\":[{\"id\":\"5413\",\"type\":\"GlyphRenderer\"},{\"id\":\"5419\",\"type\":\"GlyphRenderer\"},{\"id\":\"5425\",\"type\":\"GlyphRenderer\"}],\"title\":null,\"toolbar\":{\"id\":\"5397\",\"type\":\"Toolbar\"},\"x_range\":{\"id\":\"5373\",\"type\":\"DataRange1d\"},\"x_scale\":{\"id\":\"5377\",\"type\":\"LinearScale\"},\"y_range\":{\"id\":\"5375\",\"type\":\"DataRange1d\"},\"y_scale\":{\"id\":\"5431\",\"type\":\"LogScale\"}},\"id\":\"5371\",\"subtype\":\"Figure\",\"type\":\"Plot\"},{\"attributes\":{\"data_source\":{\"id\":\"5406\",\"type\":\"ColumnDataSource\"},\"glyph\":{\"id\":\"5417\",\"type\":\"Circle\"},\"hover_glyph\":null,\"muted_glyph\":null,\"nonselection_glyph\":{\"id\":\"5418\",\"type\":\"Circle\"},\"selection_glyph\":null,\"view\":{\"id\":\"5415\",\"type\":\"CDSView\"}},\"id\":\"5419\",\"type\":\"GlyphRenderer\"},{\"attributes\":{\"dimension\":1,\"ticker\":{\"id\":\"5387\",\"type\":\"BasicTicker\"}},\"id\":\"5390\",\"type\":\"Grid\"},{\"attributes\":{\"callback\":null},\"id\":\"5373\",\"type\":\"DataRange1d\"},{\"attributes\":{},\"id\":\"5629\",\"type\":\"BasicTickFormatter\"},{\"attributes\":{\"active_drag\":\"auto\",\"active_inspect\":\"auto\",\"active_multi\":null,\"active_scroll\":\"auto\",\"active_tap\":\"auto\",\"tools\":[{\"id\":\"5391\",\"type\":\"PanTool\"},{\"id\":\"5392\",\"type\":\"WheelZoomTool\"},{\"id\":\"5393\",\"type\":\"BoxZoomTool\"},{\"id\":\"5394\",\"type\":\"SaveTool\"},{\"id\":\"5395\",\"type\":\"ResetTool\"},{\"id\":\"5396\",\"type\":\"HelpTool\"},{\"id\":\"5405\",\"type\":\"HoverTool\"}]},\"id\":\"5397\",\"type\":\"Toolbar\"},{\"attributes\":{\"filters\":[{\"id\":\"5408\",\"type\":\"GroupFilter\"}],\"source\":{\"id\":\"5406\",\"type\":\"ColumnDataSource\"}},\"id\":\"5409\",\"type\":\"CDSView\"},{\"attributes\":{},\"id\":\"5627\",\"type\":\"BasicTickFormatter\"},{\"attributes\":{\"label\":{\"value\":\"synonymous_variant\"},\"renderers\":[{\"id\":\"5425\",\"type\":\"GlyphRenderer\"}]},\"id\":\"5428\",\"type\":\"LegendItem\"},{\"attributes\":{},\"id\":\"5382\",\"type\":\"BasicTicker\"},{\"attributes\":{\"column_name\":\"label\",\"group\":\"missense_variant\"},\"id\":\"5414\",\"type\":\"GroupFilter\"},{\"attributes\":{\"column_name\":\"label\",\"group\":\"synonymous_variant\"},\"id\":\"5420\",\"type\":\"GroupFilter\"},{\"attributes\":{\"ticker\":{\"id\":\"5382\",\"type\":\"BasicTicker\"}},\"id\":\"5385\",\"type\":\"Grid\"},{\"attributes\":{\"data_source\":{\"id\":\"5406\",\"type\":\"ColumnDataSource\"},\"glyph\":{\"id\":\"5423\",\"type\":\"Circle\"},\"hover_glyph\":null,\"muted_glyph\":null,\"nonselection_glyph\":{\"id\":\"5424\",\"type\":\"Circle\"},\"selection_glyph\":null,\"view\":{\"id\":\"5421\",\"type\":\"CDSView\"}},\"id\":\"5425\",\"type\":\"GlyphRenderer\"},{\"attributes\":{},\"id\":\"5632\",\"type\":\"BasicTicker\"},{\"attributes\":{},\"id\":\"5634\",\"type\":\"Selection\"},{\"attributes\":{\"callback\":null},\"id\":\"5375\",\"type\":\"DataRange1d\"},{\"attributes\":{\"callback\":null,\"data\":{\"index\":[0,1,2,3,4,5,6,7,8,9,10,11,12,13,14,15,16,17,18,19,20,21,22,23,24,25,26,27,28,29,30,31,32,33,34,35,36,37,38,39,40,41,42,43,44,45,46,47,48,49,50,51,52,53,54,55,56,57,58,59,60,61,62,63,64,65,66,67,68,69,70,71,72,73,74,75,76,77,78,79,80,81,82,83,84,85,86,87,88,89,90,91,92,93,94,95,96,97,98,99,100,101,102,103,104,105,106,107,108,109,110,111,112,113,114,115,116,117,118,119,120,121,122,123,124,125,126,127,128,129,130,131,132,133,134,135,136,137,138,139,140,141,142,143,144,145,146,147,148,149],\"label\":[\"synonymous_variant\",\"synonymous_variant\",\"synonymous_variant\",\"synonymous_variant\",\"synonymous_variant\",\"synonymous_variant\",\"synonymous_variant\",\"synonymous_variant\",\"synonymous_variant\",\"synonymous_variant\",\"synonymous_variant\",\"synonymous_variant\",\"synonymous_variant\",\"synonymous_variant\",\"synonymous_variant\",\"synonymous_variant\",\"synonymous_variant\",\"synonymous_variant\",\"synonymous_variant\",\"synonymous_variant\",\"synonymous_variant\",\"synonymous_variant\",\"synonymous_variant\",\"synonymous_variant\",\"synonymous_variant\",\"synonymous_variant\",\"synonymous_variant\",\"synonymous_variant\",\"synonymous_variant\",\"synonymous_variant\",\"synonymous_variant\",\"synonymous_variant\",\"synonymous_variant\",\"synonymous_variant\",\"synonymous_variant\",\"synonymous_variant\",\"synonymous_variant\",\"synonymous_variant\",\"synonymous_variant\",\"synonymous_variant\",\"synonymous_variant\",\"synonymous_variant\",\"synonymous_variant\",\"synonymous_variant\",\"synonymous_variant\",\"synonymous_variant\",\"synonymous_variant\",\"synonymous_variant\",\"synonymous_variant\",\"synonymous_variant\",\"missense_variant\",\"missense_variant\",\"missense_variant\",\"missense_variant\",\"missense_variant\",\"missense_variant\",\"missense_variant\",\"missense_variant\",\"missense_variant\",\"missense_variant\",\"missense_variant\",\"missense_variant\",\"missense_variant\",\"missense_variant\",\"missense_variant\",\"missense_variant\",\"missense_variant\",\"missense_variant\",\"missense_variant\",\"missense_variant\",\"missense_variant\",\"missense_variant\",\"missense_variant\",\"missense_variant\",\"missense_variant\",\"missense_variant\",\"missense_variant\",\"missense_variant\",\"missense_variant\",\"missense_variant\",\"missense_variant\",\"missense_variant\",\"missense_variant\",\"missense_variant\",\"missense_variant\",\"missense_variant\",\"missense_variant\",\"missense_variant\",\"missense_variant\",\"missense_variant\",\"missense_variant\",\"missense_variant\",\"missense_variant\",\"missense_variant\",\"missense_variant\",\"missense_variant\",\"missense_variant\",\"missense_variant\",\"missense_variant\",\"missense_variant\",\"frameshift_variant\",\"frameshift_variant\",\"frameshift_variant\",\"frameshift_variant\",\"frameshift_variant\",\"frameshift_variant\",\"frameshift_variant\",\"frameshift_variant\",\"frameshift_variant\",\"frameshift_variant\",\"frameshift_variant\",\"frameshift_variant\",\"frameshift_variant\",\"frameshift_variant\",\"frameshift_variant\",\"frameshift_variant\",\"frameshift_variant\",\"frameshift_variant\",\"frameshift_variant\",\"frameshift_variant\",\"frameshift_variant\",\"frameshift_variant\",\"frameshift_variant\",\"frameshift_variant\",\"frameshift_variant\",\"frameshift_variant\",\"frameshift_variant\",\"frameshift_variant\",\"frameshift_variant\",\"frameshift_variant\",\"frameshift_variant\",\"frameshift_variant\",\"frameshift_variant\",\"frameshift_variant\",\"frameshift_variant\",\"frameshift_variant\",\"frameshift_variant\",\"frameshift_variant\",\"frameshift_variant\",\"frameshift_variant\",\"frameshift_variant\",\"frameshift_variant\",\"frameshift_variant\",\"frameshift_variant\",\"frameshift_variant\",\"frameshift_variant\",\"frameshift_variant\",\"frameshift_variant\",\"frameshift_variant\",\"frameshift_variant\"],\"x\":{\"__ndarray__\":\"AAAAAAAAAAAAAABA4XqEPwAAAEDhepQ/AAAA4FG4nj8AAABA4XqkPwAAAKCZmak/AAAA4FG4rj8AAAAgheuxPwAAAEDherQ/AAAAgD0Ktz8AAACgmZm5PwAAAMD1KLw/AAAA4FG4vj8AAAAA16PAPwAAACCF68E/AAAAQDMzwz8AAABA4XrEPwAAAGCPwsU/AAAAgD0Kxz8AAACA61HIPwAAAKCZmck/AAAAoEfhyj8AAADA9SjMPwAAAOCjcM0/AAAA4FG4zj8AAAAAAADQPwAAAADXo9A/AAAAIK5H0T8AAAAghevRPwAAACBcj9I/AAAAQDMz0z8AAABACtfTPwAAAEDhetQ/AAAAYLge1T8AAABgj8LVPwAAAGBmZtY/AAAAgD0K1z8AAACAFK7XPwAAAIDrUdg/AAAAgML12D8AAACgmZnZPwAAAKBwPdo/AAAAoEfh2j8AAADAHoXbPwAAAMD1KNw/AAAAwMzM3D8AAADgo3DdPwAAAOB6FN4/AAAA4FG43j8AAAAAKVzfPwAAAAAAAAAAAAAAQOF6hD8AAABA4XqUPwAAAOBRuJ4/AAAAQOF6pD8AAACgmZmpPwAAAOBRuK4/AAAAIIXrsT8AAABA4Xq0PwAAAIA9Crc/AAAAoJmZuT8AAADA9Si8PwAAAOBRuL4/AAAAANejwD8AAAAghevBPwAAAEAzM8M/AAAAQOF6xD8AAABgj8LFPwAAAIA9Csc/AAAAgOtRyD8AAACgmZnJPwAAAKBH4co/AAAAwPUozD8AAADgo3DNPwAAAOBRuM4/AAAAAAAA0D8AAAAA16PQPwAAACCuR9E/AAAAIIXr0T8AAAAgXI/SPwAAAEAzM9M/AAAAQArX0z8AAABA4XrUPwAAAGC4HtU/AAAAYI/C1T8AAABgZmbWPwAAAIA9Ctc/AAAAgBSu1z8AAACA61HYPwAAAIDC9dg/AAAAoJmZ2T8AAACgcD3aPwAAAKBH4do/AAAAwB6F2z8AAADA9SjcPwAAAMDMzNw/AAAA4KNw3T8AAADgehTePwAAAOBRuN4/AAAAAClc3z8AAAAAAAAAAAAAAEDheoQ/AAAAQOF6lD8AAADgUbiePwAAAEDheqQ/AAAAoJmZqT8AAADgUbiuPwAAACCF67E/AAAAQOF6tD8AAACAPQq3PwAAAKCZmbk/AAAAwPUovD8AAADgUbi+PwAAAADXo8A/AAAAIIXrwT8AAABAMzPDPwAAAEDhesQ/AAAAYI/CxT8AAACAPQrHPwAAAIDrUcg/AAAAoJmZyT8AAACgR+HKPwAAAMD1KMw/AAAA4KNwzT8AAADgUbjOPwAAAAAAANA/AAAAANej0D8AAAAgrkfRPwAAACCF69E/AAAAIFyP0j8AAABAMzPTPwAAAEAK19M/AAAAQOF61D8AAABguB7VPwAAAGCPwtU/AAAAYGZm1j8AAACAPQrXPwAAAIAUrtc/AAAAgOtR2D8AAACAwvXYPwAAAKCZmdk/AAAAoHA92j8AAACgR+HaPwAAAMAehds/AAAAwPUo3D8AAADAzMzcPwAAAOCjcN0/AAAA4HoU3j8AAADgUbjePwAAAAApXN8/\",\"dtype\":\"float64\",\"shape\":[150]},\"y\":{\"__ndarray__\":\"AAAAQLgL1D8AAABgD5C3PwAAAKDiVq8/AAAAoGZfpD8AAADgZDmgPwAAAACTG50/AAAAQC2Clj8AAAAAhO+RPwAAAGDnAJM/AAAAoFNqkT8AAADgFIGOPwAAAGD1ZpA/AAAAQOM3iz8AAAAgNluJPwAAAEAodIY/AAAAoAkghj8AAAAgI2aGPwAAAID/A4Y/AAAAQE0ZhD8AAADAoweFPwAAAOBdhoE/AAAAYOwOgz8AAACgZl+EPwAAACByvoE/AAAAgPEcgz8AAADAkBKCPwAAAKAFV34/AAAAQD8ygT8AAAAAMAiBPwAAAEBhU38/AAAAQKpYgj8AAACg0sp9PwAAAKB1i38/AAAAYPs6fj8AAABAvpJ9PwAAAGCLBn0/AAAAIG2wgT8AAABgiwZ9PwAAAOBdhoE/AAAAQPEefj8AAABAvpJ9PwAAACC0dn0/AAAAYIsGfT8AAADgbLJ8PwAAAGAMpoA/AAAAwA9zfj8AAADgqVp9PwAAAKAb0IA/AAAAQE5efD8AAABgRECBPwAAAGDT0do/AAAAgHa2uj8AAAAA7iGwPwAAAIALn6M/AAAAoOm7nT8AAADgFRqYPwAAAIBc/5M/AAAAQFw2kD8AAABgKkeNPwAAACAqfok/AAAAYKVxiD8AAAAg5vyHPwAAAIBFboQ/AAAAIH2phT8AAADAVOGCPwAAAMDDjoE/AAAAYLdIgT8AAADggDF/PwAAAIB0634/AAAAQI13fz8AAACAnOp9PwAAAGAFdXw/AAAAwIaLez8AAACAykN5PwAAAODWiXk/AAAAAJkreD8AAACARW50PwAAACBD030/AAAAoGcTdz8AAADgS1p4PwAAAODWiXk/AAAAIDb7dT8AAADAKbV1PwAAAMAptXU/AAAAgGpAdT8AAACgjxJ2PwAAAOCehXQ/AAAAABRWcz8AAABg9W92PwAAAICVbHI/AAAAAOxWdD8AAADAAbZ2PwAAAKCPEnY/AAAAIIkmcj8AAABAW812PwAAACBhJ3M/AAAA4J6FdD8AAADgTod2PwAAAOCehXQ/AAAAoLTkdj8AAABgqtrrPwAAACB0N6k/AAAAgNDomz8AAADgcvOKPwAAAOCHroA/AAAAoJwxeT8AAADAvctwPwAAAOBXHGs/AAAA4OwDaj8AAAAAlUBhPwAAACA91lo/AAAAIGelWD8AAACAOk5OPwAAAIDPNU0/AAAAgCwJTz8AAACgFY9JPwAAAKC4u0c/AAAAgMHwPT8AAACAs6s+PwAAAMDLEEA/AAAAoPkEOz8AAACAs6s+PwAAAKD5BDs/AAAAgOu/Kz8AAADAvcswPwAAAKAHSio/AAAAgOu/Kz8AAADAr4YxPwAAAMDLECA/AAAAgM81LT8AAACgd3IkPwAAAMCvhiE/AAAAoAdKGj8AAADAr4YBPwAAAIDPNQ0/AAAAgM81DT8AAADAr4YBPwAAAIDPNR0/AAAAoHdyFD8AAACgP14XPwAAAKB3chQ/AAAAwK+GET8AAADAr4YBPwAAAIDPNQ0/AAAAgM81DT8AAACgP173PgAAAIDPNQ0/AAAAwK+GAT8AAACgP17nPgAAAMCvhgE/\",\"dtype\":\"float64\",\"shape\":[150]}},\"selected\":{\"id\":\"5634\",\"type\":\"Selection\"},\"selection_policy\":{\"id\":\"5633\",\"type\":\"UnionRenderers\"}},\"id\":\"5406\",\"type\":\"ColumnDataSource\"},{\"attributes\":{\"bottom_units\":\"screen\",\"fill_alpha\":{\"value\":0.5},\"fill_color\":{\"value\":\"lightgrey\"},\"left_units\":\"screen\",\"level\":\"overlay\",\"line_alpha\":{\"value\":1.0},\"line_color\":{\"value\":\"black\"},\"line_dash\":[4,4],\"line_width\":{\"value\":2},\"render_mode\":\"css\",\"right_units\":\"screen\",\"top_units\":\"screen\"},\"id\":\"5635\",\"type\":\"BoxAnnotation\"},{\"attributes\":{\"fill_color\":{\"field\":\"label\",\"transform\":{\"id\":\"5407\",\"type\":\"CategoricalColorMapper\"}},\"line_color\":{\"field\":\"label\",\"transform\":{\"id\":\"5407\",\"type\":\"CategoricalColorMapper\"}},\"x\":{\"field\":\"x\"},\"y\":{\"field\":\"y\"}},\"id\":\"5423\",\"type\":\"Circle\"},{\"attributes\":{},\"id\":\"5391\",\"type\":\"PanTool\"},{\"attributes\":{\"factors\":[\"synonymous_variant\",\"frameshift_variant\",\"missense_variant\"],\"palette\":[\"#1f77b4\",\"#ff7f0e\",\"#2ca02c\",\"#d62728\",\"#9467bd\",\"#8c564b\",\"#e377c2\",\"#7f7f7f\",\"#bcbd22\",\"#17becf\"]},\"id\":\"5407\",\"type\":\"CategoricalColorMapper\"},{\"attributes\":{\"data_source\":{\"id\":\"5406\",\"type\":\"ColumnDataSource\"},\"glyph\":{\"id\":\"5411\",\"type\":\"Circle\"},\"hover_glyph\":null,\"muted_glyph\":null,\"nonselection_glyph\":{\"id\":\"5412\",\"type\":\"Circle\"},\"selection_glyph\":null,\"view\":{\"id\":\"5409\",\"type\":\"CDSView\"}},\"id\":\"5413\",\"type\":\"GlyphRenderer\"},{\"attributes\":{\"click_policy\":\"hide\",\"items\":[{\"id\":\"5426\",\"type\":\"LegendItem\"},{\"id\":\"5427\",\"type\":\"LegendItem\"},{\"id\":\"5428\",\"type\":\"LegendItem\"}]},\"id\":\"5429\",\"type\":\"Legend\"},{\"attributes\":{},\"id\":\"5387\",\"type\":\"BasicTicker\"},{\"attributes\":{\"fill_alpha\":{\"value\":0.1},\"fill_color\":{\"value\":\"#1f77b4\"},\"line_alpha\":{\"value\":0.1},\"line_color\":{\"value\":\"#1f77b4\"},\"x\":{\"field\":\"x\"},\"y\":{\"field\":\"y\"}},\"id\":\"5424\",\"type\":\"Circle\"},{\"attributes\":{\"axis_label\":\"Frequency in population\",\"formatter\":{\"id\":\"5629\",\"type\":\"BasicTickFormatter\"},\"ticker\":{\"id\":\"5387\",\"type\":\"BasicTicker\"}},\"id\":\"5386\",\"type\":\"LinearAxis\"},{\"attributes\":{},\"id\":\"5431\",\"type\":\"LogScale\"},{\"attributes\":{\"label\":{\"value\":\"frameshift_variant\"},\"renderers\":[{\"id\":\"5413\",\"type\":\"GlyphRenderer\"}]},\"id\":\"5426\",\"type\":\"LegendItem\"},{\"attributes\":{},\"id\":\"5392\",\"type\":\"WheelZoomTool\"},{\"attributes\":{},\"id\":\"5631\",\"type\":\"BasicTickFormatter\"},{\"attributes\":{\"filters\":[{\"id\":\"5414\",\"type\":\"GroupFilter\"}],\"source\":{\"id\":\"5406\",\"type\":\"ColumnDataSource\"}},\"id\":\"5415\",\"type\":\"CDSView\"},{\"attributes\":{\"overlay\":{\"id\":\"5635\",\"type\":\"BoxAnnotation\"}},\"id\":\"5393\",\"type\":\"BoxZoomTool\"},{\"attributes\":{\"filters\":[{\"id\":\"5420\",\"type\":\"GroupFilter\"}],\"source\":{\"id\":\"5406\",\"type\":\"ColumnDataSource\"}},\"id\":\"5421\",\"type\":\"CDSView\"},{\"attributes\":{},\"id\":\"5396\",\"type\":\"HelpTool\"},{\"attributes\":{\"label\":{\"value\":\"missense_variant\"},\"renderers\":[{\"id\":\"5419\",\"type\":\"GlyphRenderer\"}]},\"id\":\"5427\",\"type\":\"LegendItem\"},{\"attributes\":{},\"id\":\"5377\",\"type\":\"LinearScale\"},{\"attributes\":{},\"id\":\"5394\",\"type\":\"SaveTool\"},{\"attributes\":{\"fill_alpha\":{\"value\":0.1},\"fill_color\":{\"value\":\"#1f77b4\"},\"line_alpha\":{\"value\":0.1},\"line_color\":{\"value\":\"#1f77b4\"},\"x\":{\"field\":\"x\"},\"y\":{\"field\":\"y\"}},\"id\":\"5412\",\"type\":\"Circle\"},{\"attributes\":{\"fill_color\":{\"field\":\"label\",\"transform\":{\"id\":\"5407\",\"type\":\"CategoricalColorMapper\"}},\"line_color\":{\"field\":\"label\",\"transform\":{\"id\":\"5407\",\"type\":\"CategoricalColorMapper\"}},\"x\":{\"field\":\"x\"},\"y\":{\"field\":\"y\"}},\"id\":\"5417\",\"type\":\"Circle\"},{\"attributes\":{},\"id\":\"5395\",\"type\":\"ResetTool\"},{\"attributes\":{},\"id\":\"5633\",\"type\":\"UnionRenderers\"},{\"attributes\":{\"fill_color\":{\"field\":\"label\",\"transform\":{\"id\":\"5407\",\"type\":\"CategoricalColorMapper\"}},\"line_color\":{\"field\":\"label\",\"transform\":{\"id\":\"5407\",\"type\":\"CategoricalColorMapper\"}},\"x\":{\"field\":\"x\"},\"y\":{\"field\":\"y\"}},\"id\":\"5411\",\"type\":\"Circle\"},{\"attributes\":{\"fill_alpha\":{\"value\":0.1},\"fill_color\":{\"value\":\"#1f77b4\"},\"line_alpha\":{\"value\":0.1},\"line_color\":{\"value\":\"#1f77b4\"},\"x\":{\"field\":\"x\"},\"y\":{\"field\":\"y\"}},\"id\":\"5418\",\"type\":\"Circle\"},{\"attributes\":{\"column_name\":\"label\",\"group\":\"frameshift_variant\"},\"id\":\"5408\",\"type\":\"GroupFilter\"},{\"attributes\":{\"color_mapper\":null,\"formatter\":{\"id\":\"5631\",\"type\":\"BasicTickFormatter\"},\"ticker\":{\"id\":\"5632\",\"type\":\"BasicTicker\"},\"visible\":false},\"id\":\"5430\",\"type\":\"ColorBar\"},{\"attributes\":{\"axis_label\":\"Allele counts\",\"formatter\":{\"id\":\"5627\",\"type\":\"BasicTickFormatter\"},\"ticker\":{\"id\":\"5382\",\"type\":\"BasicTicker\"}},\"id\":\"5381\",\"type\":\"LinearAxis\"},{\"attributes\":{\"callback\":null,\"tooltips\":[[\"x\",\"@x\"],[\"y\",\"@y\"],[\"label\",\"@label\"]]},\"id\":\"5405\",\"type\":\"HoverTool\"}],\"root_ids\":[\"5371\"]},\"title\":\"Bokeh Application\",\"version\":\"1.2.0\"}};\n",
       "  var render_items = [{\"docid\":\"d1b98fc5-d45d-4138-93ef-10bdf4014c79\",\"roots\":{\"5371\":\"2595becb-a1b5-4de3-bd83-ba69032cd857\"}}];\n",
       "  root.Bokeh.embed.embed_items_notebook(docs_json, render_items);\n",
       "\n",
       "  }\n",
       "  if (root.Bokeh !== undefined) {\n",
       "    embed_document(root);\n",
       "  } else {\n",
       "    var attempts = 0;\n",
       "    var timer = setInterval(function(root) {\n",
       "      if (root.Bokeh !== undefined) {\n",
       "        embed_document(root);\n",
       "        clearInterval(timer);\n",
       "      }\n",
       "      attempts++;\n",
       "      if (attempts > 100) {\n",
       "        console.log(\"Bokeh: ERROR: Unable to run BokehJS code because BokehJS library is missing\");\n",
       "        clearInterval(timer);\n",
       "      }\n",
       "    }, 10, root)\n",
       "  }\n",
       "})(window);"
      ],
      "application/vnd.bokehjs_exec.v0+json": ""
     },
     "metadata": {
      "application/vnd.bokehjs_exec.v0+json": {
       "id": "5371"
      }
     },
     "output_type": "display_data"
    }
   ],
   "source": [
    "p = hl.plot.scatter(ffs_ht.af, ffs_ht.ff, label=ffs_ht.strata,\n",
    "                    xlabel='Allele counts', ylabel='Frequency in population',\n",
    "                    collect_all=True)\n",
    "p.plot_width = 800\n",
    "p.plot_height = 400\n",
    "p.y_scale = LogScale()\n",
    "show(p)"
   ]
  },
  {
   "cell_type": "code",
   "execution_count": null,
   "id": "8e095d65-3b85-487f-8a0d-735019bdd71f",
   "metadata": {},
   "outputs": [],
   "source": []
  }
 ],
 "metadata": {
  "kernelspec": {
   "display_name": "Python [conda env:fargen-1-exome]",
   "language": "python",
   "name": "conda-env-fargen-1-exome-py"
  },
  "language_info": {
   "codemirror_mode": {
    "name": "ipython",
    "version": 3
   },
   "file_extension": ".py",
   "mimetype": "text/x-python",
   "name": "python",
   "nbconvert_exporter": "python",
   "pygments_lexer": "ipython3",
   "version": "3.7.10"
  }
 },
 "nbformat": 4,
 "nbformat_minor": 5
}
