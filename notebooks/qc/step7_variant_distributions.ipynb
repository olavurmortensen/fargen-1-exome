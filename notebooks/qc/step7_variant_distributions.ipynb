{
 "cells": [
  {
   "cell_type": "markdown",
   "id": "b0ad220f-8db8-40bd-8c69-803f0b01b153",
   "metadata": {},
   "source": [
    "# Variant distributions"
   ]
  },
  {
   "cell_type": "code",
   "execution_count": 1,
   "id": "6d490832-7263-4d5a-b8ed-c7703a9b524e",
   "metadata": {},
   "outputs": [
    {
     "name": "stderr",
     "output_type": "stream",
     "text": [
      "Running on Apache Spark version 2.4.1\n",
      "SparkUI available at http://hms-beagle-848846b477-48ks9:4044\n",
      "Welcome to\n",
      "     __  __     <>__\n",
      "    / /_/ /__  __/ /\n",
      "   / __  / _ `/ / /\n",
      "  /_/ /_/\\_,_/_/_/   version 0.2.61-3c86d3ba497a\n",
      "LOGGING: writing to /home/olavur/experiments/2020-11-13_fargen1_exome_analysis/fargen-1-exome/notebooks/qc/hail-20210628-1454-0.2.61-3c86d3ba497a.log\n"
     ]
    }
   ],
   "source": [
    "import hail as hl\n",
    "hl.init(spark_conf={'spark.driver.memory': '100g'}, tmp_dir='/home/olavur/tmp')"
   ]
  },
  {
   "cell_type": "code",
   "execution_count": 2,
   "id": "8ef6d6c8-704e-46f7-8096-59e23b588dc2",
   "metadata": {},
   "outputs": [
    {
     "data": {
      "text/html": [
       "\n",
       "    <div class=\"bk-root\">\n",
       "        <a href=\"https://bokeh.pydata.org\" target=\"_blank\" class=\"bk-logo bk-logo-small bk-logo-notebook\"></a>\n",
       "        <span id=\"1001\">Loading BokehJS ...</span>\n",
       "    </div>"
      ]
     },
     "metadata": {},
     "output_type": "display_data"
    },
    {
     "data": {
      "application/javascript": [
       "\n",
       "(function(root) {\n",
       "  function now() {\n",
       "    return new Date();\n",
       "  }\n",
       "\n",
       "  var force = true;\n",
       "\n",
       "  if (typeof root._bokeh_onload_callbacks === \"undefined\" || force === true) {\n",
       "    root._bokeh_onload_callbacks = [];\n",
       "    root._bokeh_is_loading = undefined;\n",
       "  }\n",
       "\n",
       "  var JS_MIME_TYPE = 'application/javascript';\n",
       "  var HTML_MIME_TYPE = 'text/html';\n",
       "  var EXEC_MIME_TYPE = 'application/vnd.bokehjs_exec.v0+json';\n",
       "  var CLASS_NAME = 'output_bokeh rendered_html';\n",
       "\n",
       "  /**\n",
       "   * Render data to the DOM node\n",
       "   */\n",
       "  function render(props, node) {\n",
       "    var script = document.createElement(\"script\");\n",
       "    node.appendChild(script);\n",
       "  }\n",
       "\n",
       "  /**\n",
       "   * Handle when an output is cleared or removed\n",
       "   */\n",
       "  function handleClearOutput(event, handle) {\n",
       "    var cell = handle.cell;\n",
       "\n",
       "    var id = cell.output_area._bokeh_element_id;\n",
       "    var server_id = cell.output_area._bokeh_server_id;\n",
       "    // Clean up Bokeh references\n",
       "    if (id != null && id in Bokeh.index) {\n",
       "      Bokeh.index[id].model.document.clear();\n",
       "      delete Bokeh.index[id];\n",
       "    }\n",
       "\n",
       "    if (server_id !== undefined) {\n",
       "      // Clean up Bokeh references\n",
       "      var cmd = \"from bokeh.io.state import curstate; print(curstate().uuid_to_server['\" + server_id + \"'].get_sessions()[0].document.roots[0]._id)\";\n",
       "      cell.notebook.kernel.execute(cmd, {\n",
       "        iopub: {\n",
       "          output: function(msg) {\n",
       "            var id = msg.content.text.trim();\n",
       "            if (id in Bokeh.index) {\n",
       "              Bokeh.index[id].model.document.clear();\n",
       "              delete Bokeh.index[id];\n",
       "            }\n",
       "          }\n",
       "        }\n",
       "      });\n",
       "      // Destroy server and session\n",
       "      var cmd = \"import bokeh.io.notebook as ion; ion.destroy_server('\" + server_id + \"')\";\n",
       "      cell.notebook.kernel.execute(cmd);\n",
       "    }\n",
       "  }\n",
       "\n",
       "  /**\n",
       "   * Handle when a new output is added\n",
       "   */\n",
       "  function handleAddOutput(event, handle) {\n",
       "    var output_area = handle.output_area;\n",
       "    var output = handle.output;\n",
       "\n",
       "    // limit handleAddOutput to display_data with EXEC_MIME_TYPE content only\n",
       "    if ((output.output_type != \"display_data\") || (!output.data.hasOwnProperty(EXEC_MIME_TYPE))) {\n",
       "      return\n",
       "    }\n",
       "\n",
       "    var toinsert = output_area.element.find(\".\" + CLASS_NAME.split(' ')[0]);\n",
       "\n",
       "    if (output.metadata[EXEC_MIME_TYPE][\"id\"] !== undefined) {\n",
       "      toinsert[toinsert.length - 1].firstChild.textContent = output.data[JS_MIME_TYPE];\n",
       "      // store reference to embed id on output_area\n",
       "      output_area._bokeh_element_id = output.metadata[EXEC_MIME_TYPE][\"id\"];\n",
       "    }\n",
       "    if (output.metadata[EXEC_MIME_TYPE][\"server_id\"] !== undefined) {\n",
       "      var bk_div = document.createElement(\"div\");\n",
       "      bk_div.innerHTML = output.data[HTML_MIME_TYPE];\n",
       "      var script_attrs = bk_div.children[0].attributes;\n",
       "      for (var i = 0; i < script_attrs.length; i++) {\n",
       "        toinsert[toinsert.length - 1].firstChild.setAttribute(script_attrs[i].name, script_attrs[i].value);\n",
       "      }\n",
       "      // store reference to server id on output_area\n",
       "      output_area._bokeh_server_id = output.metadata[EXEC_MIME_TYPE][\"server_id\"];\n",
       "    }\n",
       "  }\n",
       "\n",
       "  function register_renderer(events, OutputArea) {\n",
       "\n",
       "    function append_mime(data, metadata, element) {\n",
       "      // create a DOM node to render to\n",
       "      var toinsert = this.create_output_subarea(\n",
       "        metadata,\n",
       "        CLASS_NAME,\n",
       "        EXEC_MIME_TYPE\n",
       "      );\n",
       "      this.keyboard_manager.register_events(toinsert);\n",
       "      // Render to node\n",
       "      var props = {data: data, metadata: metadata[EXEC_MIME_TYPE]};\n",
       "      render(props, toinsert[toinsert.length - 1]);\n",
       "      element.append(toinsert);\n",
       "      return toinsert\n",
       "    }\n",
       "\n",
       "    /* Handle when an output is cleared or removed */\n",
       "    events.on('clear_output.CodeCell', handleClearOutput);\n",
       "    events.on('delete.Cell', handleClearOutput);\n",
       "\n",
       "    /* Handle when a new output is added */\n",
       "    events.on('output_added.OutputArea', handleAddOutput);\n",
       "\n",
       "    /**\n",
       "     * Register the mime type and append_mime function with output_area\n",
       "     */\n",
       "    OutputArea.prototype.register_mime_type(EXEC_MIME_TYPE, append_mime, {\n",
       "      /* Is output safe? */\n",
       "      safe: true,\n",
       "      /* Index of renderer in `output_area.display_order` */\n",
       "      index: 0\n",
       "    });\n",
       "  }\n",
       "\n",
       "  // register the mime type if in Jupyter Notebook environment and previously unregistered\n",
       "  if (root.Jupyter !== undefined) {\n",
       "    var events = require('base/js/events');\n",
       "    var OutputArea = require('notebook/js/outputarea').OutputArea;\n",
       "\n",
       "    if (OutputArea.prototype.mime_types().indexOf(EXEC_MIME_TYPE) == -1) {\n",
       "      register_renderer(events, OutputArea);\n",
       "    }\n",
       "  }\n",
       "\n",
       "  \n",
       "  if (typeof (root._bokeh_timeout) === \"undefined\" || force === true) {\n",
       "    root._bokeh_timeout = Date.now() + 5000;\n",
       "    root._bokeh_failed_load = false;\n",
       "  }\n",
       "\n",
       "  var NB_LOAD_WARNING = {'data': {'text/html':\n",
       "     \"<div style='background-color: #fdd'>\\n\"+\n",
       "     \"<p>\\n\"+\n",
       "     \"BokehJS does not appear to have successfully loaded. If loading BokehJS from CDN, this \\n\"+\n",
       "     \"may be due to a slow or bad network connection. Possible fixes:\\n\"+\n",
       "     \"</p>\\n\"+\n",
       "     \"<ul>\\n\"+\n",
       "     \"<li>re-rerun `output_notebook()` to attempt to load from CDN again, or</li>\\n\"+\n",
       "     \"<li>use INLINE resources instead, as so:</li>\\n\"+\n",
       "     \"</ul>\\n\"+\n",
       "     \"<code>\\n\"+\n",
       "     \"from bokeh.resources import INLINE\\n\"+\n",
       "     \"output_notebook(resources=INLINE)\\n\"+\n",
       "     \"</code>\\n\"+\n",
       "     \"</div>\"}};\n",
       "\n",
       "  function display_loaded() {\n",
       "    var el = document.getElementById(\"1001\");\n",
       "    if (el != null) {\n",
       "      el.textContent = \"BokehJS is loading...\";\n",
       "    }\n",
       "    if (root.Bokeh !== undefined) {\n",
       "      if (el != null) {\n",
       "        el.textContent = \"BokehJS \" + root.Bokeh.version + \" successfully loaded.\";\n",
       "      }\n",
       "    } else if (Date.now() < root._bokeh_timeout) {\n",
       "      setTimeout(display_loaded, 100)\n",
       "    }\n",
       "  }\n",
       "\n",
       "\n",
       "  function run_callbacks() {\n",
       "    try {\n",
       "      root._bokeh_onload_callbacks.forEach(function(callback) {\n",
       "        if (callback != null)\n",
       "          callback();\n",
       "      });\n",
       "    } finally {\n",
       "      delete root._bokeh_onload_callbacks\n",
       "    }\n",
       "    console.debug(\"Bokeh: all callbacks have finished\");\n",
       "  }\n",
       "\n",
       "  function load_libs(css_urls, js_urls, callback) {\n",
       "    if (css_urls == null) css_urls = [];\n",
       "    if (js_urls == null) js_urls = [];\n",
       "\n",
       "    root._bokeh_onload_callbacks.push(callback);\n",
       "    if (root._bokeh_is_loading > 0) {\n",
       "      console.debug(\"Bokeh: BokehJS is being loaded, scheduling callback at\", now());\n",
       "      return null;\n",
       "    }\n",
       "    if (js_urls == null || js_urls.length === 0) {\n",
       "      run_callbacks();\n",
       "      return null;\n",
       "    }\n",
       "    console.debug(\"Bokeh: BokehJS not loaded, scheduling load and callback at\", now());\n",
       "    root._bokeh_is_loading = css_urls.length + js_urls.length;\n",
       "\n",
       "    function on_load() {\n",
       "      root._bokeh_is_loading--;\n",
       "      if (root._bokeh_is_loading === 0) {\n",
       "        console.debug(\"Bokeh: all BokehJS libraries/stylesheets loaded\");\n",
       "        run_callbacks()\n",
       "      }\n",
       "    }\n",
       "\n",
       "    function on_error() {\n",
       "      console.error(\"failed to load \" + url);\n",
       "    }\n",
       "\n",
       "    for (var i = 0; i < css_urls.length; i++) {\n",
       "      var url = css_urls[i];\n",
       "      const element = document.createElement(\"link\");\n",
       "      element.onload = on_load;\n",
       "      element.onerror = on_error;\n",
       "      element.rel = \"stylesheet\";\n",
       "      element.type = \"text/css\";\n",
       "      element.href = url;\n",
       "      console.debug(\"Bokeh: injecting link tag for BokehJS stylesheet: \", url);\n",
       "      document.body.appendChild(element);\n",
       "    }\n",
       "\n",
       "    for (var i = 0; i < js_urls.length; i++) {\n",
       "      var url = js_urls[i];\n",
       "      var element = document.createElement('script');\n",
       "      element.onload = on_load;\n",
       "      element.onerror = on_error;\n",
       "      element.async = false;\n",
       "      element.src = url;\n",
       "      console.debug(\"Bokeh: injecting script tag for BokehJS library: \", url);\n",
       "      document.head.appendChild(element);\n",
       "    }\n",
       "  };var element = document.getElementById(\"1001\");\n",
       "  if (element == null) {\n",
       "    console.error(\"Bokeh: ERROR: autoload.js configured with elementid '1001' but no matching script tag was found. \")\n",
       "    return false;\n",
       "  }\n",
       "\n",
       "  function inject_raw_css(css) {\n",
       "    const element = document.createElement(\"style\");\n",
       "    element.appendChild(document.createTextNode(css));\n",
       "    document.body.appendChild(element);\n",
       "  }\n",
       "\n",
       "  var js_urls = [\"https://cdn.pydata.org/bokeh/release/bokeh-1.2.0.min.js\", \"https://cdn.pydata.org/bokeh/release/bokeh-widgets-1.2.0.min.js\", \"https://cdn.pydata.org/bokeh/release/bokeh-tables-1.2.0.min.js\", \"https://cdn.pydata.org/bokeh/release/bokeh-gl-1.2.0.min.js\"];\n",
       "  var css_urls = [\"https://cdn.pydata.org/bokeh/release/bokeh-1.2.0.min.css\", \"https://cdn.pydata.org/bokeh/release/bokeh-widgets-1.2.0.min.css\", \"https://cdn.pydata.org/bokeh/release/bokeh-tables-1.2.0.min.css\"];\n",
       "\n",
       "  var inline_js = [\n",
       "    function(Bokeh) {\n",
       "      Bokeh.set_log_level(\"info\");\n",
       "    },\n",
       "    \n",
       "    function(Bokeh) {\n",
       "      \n",
       "    },\n",
       "    function(Bokeh) {} // ensure no trailing comma for IE\n",
       "  ];\n",
       "\n",
       "  function run_inline_js() {\n",
       "    \n",
       "    if ((root.Bokeh !== undefined) || (force === true)) {\n",
       "      for (var i = 0; i < inline_js.length; i++) {\n",
       "        inline_js[i].call(root, root.Bokeh);\n",
       "      }if (force === true) {\n",
       "        display_loaded();\n",
       "      }} else if (Date.now() < root._bokeh_timeout) {\n",
       "      setTimeout(run_inline_js, 100);\n",
       "    } else if (!root._bokeh_failed_load) {\n",
       "      console.log(\"Bokeh: BokehJS failed to load within specified timeout.\");\n",
       "      root._bokeh_failed_load = true;\n",
       "    } else if (force !== true) {\n",
       "      var cell = $(document.getElementById(\"1001\")).parents('.cell').data().cell;\n",
       "      cell.output_area.append_execute_result(NB_LOAD_WARNING)\n",
       "    }\n",
       "\n",
       "  }\n",
       "\n",
       "  if (root._bokeh_is_loading === 0) {\n",
       "    console.debug(\"Bokeh: BokehJS loaded, going straight to plotting\");\n",
       "    run_inline_js();\n",
       "  } else {\n",
       "    load_libs(css_urls, js_urls, function() {\n",
       "      console.debug(\"Bokeh: BokehJS plotting callback run at\", now());\n",
       "      run_inline_js();\n",
       "    });\n",
       "  }\n",
       "}(window));"
      ],
      "application/vnd.bokehjs_load.v0+json": "\n(function(root) {\n  function now() {\n    return new Date();\n  }\n\n  var force = true;\n\n  if (typeof root._bokeh_onload_callbacks === \"undefined\" || force === true) {\n    root._bokeh_onload_callbacks = [];\n    root._bokeh_is_loading = undefined;\n  }\n\n  \n\n  \n  if (typeof (root._bokeh_timeout) === \"undefined\" || force === true) {\n    root._bokeh_timeout = Date.now() + 5000;\n    root._bokeh_failed_load = false;\n  }\n\n  var NB_LOAD_WARNING = {'data': {'text/html':\n     \"<div style='background-color: #fdd'>\\n\"+\n     \"<p>\\n\"+\n     \"BokehJS does not appear to have successfully loaded. If loading BokehJS from CDN, this \\n\"+\n     \"may be due to a slow or bad network connection. Possible fixes:\\n\"+\n     \"</p>\\n\"+\n     \"<ul>\\n\"+\n     \"<li>re-rerun `output_notebook()` to attempt to load from CDN again, or</li>\\n\"+\n     \"<li>use INLINE resources instead, as so:</li>\\n\"+\n     \"</ul>\\n\"+\n     \"<code>\\n\"+\n     \"from bokeh.resources import INLINE\\n\"+\n     \"output_notebook(resources=INLINE)\\n\"+\n     \"</code>\\n\"+\n     \"</div>\"}};\n\n  function display_loaded() {\n    var el = document.getElementById(\"1001\");\n    if (el != null) {\n      el.textContent = \"BokehJS is loading...\";\n    }\n    if (root.Bokeh !== undefined) {\n      if (el != null) {\n        el.textContent = \"BokehJS \" + root.Bokeh.version + \" successfully loaded.\";\n      }\n    } else if (Date.now() < root._bokeh_timeout) {\n      setTimeout(display_loaded, 100)\n    }\n  }\n\n\n  function run_callbacks() {\n    try {\n      root._bokeh_onload_callbacks.forEach(function(callback) {\n        if (callback != null)\n          callback();\n      });\n    } finally {\n      delete root._bokeh_onload_callbacks\n    }\n    console.debug(\"Bokeh: all callbacks have finished\");\n  }\n\n  function load_libs(css_urls, js_urls, callback) {\n    if (css_urls == null) css_urls = [];\n    if (js_urls == null) js_urls = [];\n\n    root._bokeh_onload_callbacks.push(callback);\n    if (root._bokeh_is_loading > 0) {\n      console.debug(\"Bokeh: BokehJS is being loaded, scheduling callback at\", now());\n      return null;\n    }\n    if (js_urls == null || js_urls.length === 0) {\n      run_callbacks();\n      return null;\n    }\n    console.debug(\"Bokeh: BokehJS not loaded, scheduling load and callback at\", now());\n    root._bokeh_is_loading = css_urls.length + js_urls.length;\n\n    function on_load() {\n      root._bokeh_is_loading--;\n      if (root._bokeh_is_loading === 0) {\n        console.debug(\"Bokeh: all BokehJS libraries/stylesheets loaded\");\n        run_callbacks()\n      }\n    }\n\n    function on_error() {\n      console.error(\"failed to load \" + url);\n    }\n\n    for (var i = 0; i < css_urls.length; i++) {\n      var url = css_urls[i];\n      const element = document.createElement(\"link\");\n      element.onload = on_load;\n      element.onerror = on_error;\n      element.rel = \"stylesheet\";\n      element.type = \"text/css\";\n      element.href = url;\n      console.debug(\"Bokeh: injecting link tag for BokehJS stylesheet: \", url);\n      document.body.appendChild(element);\n    }\n\n    for (var i = 0; i < js_urls.length; i++) {\n      var url = js_urls[i];\n      var element = document.createElement('script');\n      element.onload = on_load;\n      element.onerror = on_error;\n      element.async = false;\n      element.src = url;\n      console.debug(\"Bokeh: injecting script tag for BokehJS library: \", url);\n      document.head.appendChild(element);\n    }\n  };var element = document.getElementById(\"1001\");\n  if (element == null) {\n    console.error(\"Bokeh: ERROR: autoload.js configured with elementid '1001' but no matching script tag was found. \")\n    return false;\n  }\n\n  function inject_raw_css(css) {\n    const element = document.createElement(\"style\");\n    element.appendChild(document.createTextNode(css));\n    document.body.appendChild(element);\n  }\n\n  var js_urls = [\"https://cdn.pydata.org/bokeh/release/bokeh-1.2.0.min.js\", \"https://cdn.pydata.org/bokeh/release/bokeh-widgets-1.2.0.min.js\", \"https://cdn.pydata.org/bokeh/release/bokeh-tables-1.2.0.min.js\", \"https://cdn.pydata.org/bokeh/release/bokeh-gl-1.2.0.min.js\"];\n  var css_urls = [\"https://cdn.pydata.org/bokeh/release/bokeh-1.2.0.min.css\", \"https://cdn.pydata.org/bokeh/release/bokeh-widgets-1.2.0.min.css\", \"https://cdn.pydata.org/bokeh/release/bokeh-tables-1.2.0.min.css\"];\n\n  var inline_js = [\n    function(Bokeh) {\n      Bokeh.set_log_level(\"info\");\n    },\n    \n    function(Bokeh) {\n      \n    },\n    function(Bokeh) {} // ensure no trailing comma for IE\n  ];\n\n  function run_inline_js() {\n    \n    if ((root.Bokeh !== undefined) || (force === true)) {\n      for (var i = 0; i < inline_js.length; i++) {\n        inline_js[i].call(root, root.Bokeh);\n      }if (force === true) {\n        display_loaded();\n      }} else if (Date.now() < root._bokeh_timeout) {\n      setTimeout(run_inline_js, 100);\n    } else if (!root._bokeh_failed_load) {\n      console.log(\"Bokeh: BokehJS failed to load within specified timeout.\");\n      root._bokeh_failed_load = true;\n    } else if (force !== true) {\n      var cell = $(document.getElementById(\"1001\")).parents('.cell').data().cell;\n      cell.output_area.append_execute_result(NB_LOAD_WARNING)\n    }\n\n  }\n\n  if (root._bokeh_is_loading === 0) {\n    console.debug(\"Bokeh: BokehJS loaded, going straight to plotting\");\n    run_inline_js();\n  } else {\n    load_libs(css_urls, js_urls, function() {\n      console.debug(\"Bokeh: BokehJS plotting callback run at\", now());\n      run_inline_js();\n    });\n  }\n}(window));"
     },
     "metadata": {},
     "output_type": "display_data"
    }
   ],
   "source": [
    "from bokeh.io import show, output_notebook\n",
    "from bokeh.layouts import gridplot\n",
    "from bokeh.models.scales import LogScale\n",
    "output_notebook()"
   ]
  },
  {
   "cell_type": "markdown",
   "id": "13bf97b9-8d6d-4f53-b14f-c8b3e1b23909",
   "metadata": {},
   "source": [
    "## Read data"
   ]
  },
  {
   "cell_type": "code",
   "execution_count": 3,
   "id": "1d38501a-ec87-4ddf-a3fe-b56009f44ec1",
   "metadata": {},
   "outputs": [],
   "source": [
    "BASE_DIR = '/home/olavur/experiments/2020-11-13_fargen1_exome_analysis'\n",
    "RESOURCES_DIR = '/data/other/resources'"
   ]
  },
  {
   "cell_type": "code",
   "execution_count": 4,
   "id": "f2a47e57-2881-40f4-b246-a23a9a60129e",
   "metadata": {},
   "outputs": [],
   "source": [
    "import pandas as pd\n",
    "import numpy as np"
   ]
  },
  {
   "cell_type": "markdown",
   "id": "f953ef01-8e81-4b91-ae2c-be0d68dd754a",
   "metadata": {},
   "source": [
    "Merged FarGen and gnomAD sites. This dataset only contains the population frequency of variants and SnpEff annotations. See the notebooks in the `gnomad_exome_sites` folder."
   ]
  },
  {
   "cell_type": "code",
   "execution_count": 10,
   "id": "a8d46694-46c6-4ccb-9305-736918f0cbd9",
   "metadata": {},
   "outputs": [],
   "source": [
    "ht = hl.read_table(BASE_DIR + '/data/resources/gnomad_exome_sites/fargen_gnomad_union_annotated.ht')"
   ]
  },
  {
   "cell_type": "code",
   "execution_count": 12,
   "id": "b14be202-b77f-4157-8874-1a717d807e5f",
   "metadata": {},
   "outputs": [
    {
     "name": "stdout",
     "output_type": "stream",
     "text": [
      "Number of variants: 15904432\n"
     ]
    }
   ],
   "source": [
    "n_variants = ht.count()\n",
    "print('Number of variants: ' + str(n_variants))"
   ]
  },
  {
   "cell_type": "code",
   "execution_count": 13,
   "id": "1109a3a5-bbe8-427c-aeb8-a68409156145",
   "metadata": {},
   "outputs": [
    {
     "name": "stdout",
     "output_type": "stream",
     "text": [
      "----------------------------------------\n",
      "Global fields:\n",
      "    None\n",
      "----------------------------------------\n",
      "Row fields:\n",
      "    'locus': locus<GRCh38> \n",
      "    'alleles': array<str> \n",
      "    'rsid': str \n",
      "    'qual': float64 \n",
      "    'filters': set<str> \n",
      "    'info': struct {\n",
      "        fae: float64, \n",
      "        gnomad_all: float64, \n",
      "        afr: float64, \n",
      "        sas: float64, \n",
      "        amr: float64, \n",
      "        eas: float64, \n",
      "        nfe: float64, \n",
      "        fin: float64, \n",
      "        nfe_nwe: float64, \n",
      "        nfe_seu: float64, \n",
      "        ANN: array<str>, \n",
      "        LOF: array<str>, \n",
      "        NMD: array<str>\n",
      "    } \n",
      "----------------------------------------\n",
      "Key: ['locus', 'alleles']\n",
      "----------------------------------------\n"
     ]
    }
   ],
   "source": [
    "ht.describe()"
   ]
  },
  {
   "cell_type": "markdown",
   "id": "48fdf441-520f-4bea-9dd1-68573463cd2c",
   "metadata": {},
   "source": [
    "## Count variants\n",
    "\n",
    "Annotate variants with variant effect, impact and gene. These annotations are obtained from SnpEff.\n",
    "\n",
    "If multiple transcripts overlap a site, the first in the list is arbitrarily chosen.\n",
    "\n",
    "For multi-allelic sites, only one of the alternate alleles is considered.\n",
    "\n",
    "**NOTE:** use [split_multi()](https://hail.is/docs/0.2/methods/genetics.html#hail.methods.split_multi) to count multi-allelic sites.\n",
    "\n",
    "**NOTE:** is it possible to use [split_multi()](https://hail.is/docs/0.2/methods/genetics.html#hail.methods.split_multi) to count overlapping transcripts separately?"
   ]
  },
  {
   "cell_type": "code",
   "execution_count": 14,
   "id": "696af18e-73cd-4870-be03-428c657ccc9a",
   "metadata": {},
   "outputs": [],
   "source": [
    "# Get variant impact, effect and gene name.\n",
    "# Split overlapping transcripts into a list.\n",
    "ht = ht.annotate(effect=ht.info.ANN.map(lambda x: x.split('\\|')[1]),\n",
    "                      impact=ht.info.ANN.map(lambda x: x.split('\\|')[2]),\n",
    "                      gene=ht.info.ANN.map(lambda x: x.split('\\|')[3]))\n",
    "# Use only the first transcript.\n",
    "ht = ht.annotate(impact1=ht.impact[0], effect1=ht.effect[0], gene1=ht.gene[0])"
   ]
  },
  {
   "cell_type": "code",
   "execution_count": 99,
   "id": "79a37a5c-2c5f-4c26-b325-bbfa2a587125",
   "metadata": {},
   "outputs": [],
   "source": [
    "def variant_counts(ht):\n",
    "    # Count number of variants, SNPs and indels. Only first allele in alternate allele list is considered.\n",
    "    variant_counts_struct = ht.aggregate(hl.struct(\n",
    "        n_variants = hl.agg.count(),\n",
    "        n_snps = hl.agg.count_where(hl.is_snp(ht.alleles[0], ht.alleles[1])) / hl.agg.count(),\n",
    "        n_indels = hl.agg.count_where(hl.is_indel(ht.alleles[0], ht.alleles[1])) / hl.agg.count()))\n",
    "    \n",
    "    variant_counts_pd = pd.DataFrame(variant_counts_struct.values(), index=variant_counts_struct.keys(), columns=[''])\n",
    "    return variant_counts_pd\n",
    "\n",
    "def impact_counts(ht):\n",
    "    # Count variant impact types.\n",
    "    impact_counts_struct = ht.aggregate(\n",
    "        hl.struct(\n",
    "            LOW = hl.agg.count_where(ht.impact1 == 'LOW') / hl.agg.count(),\n",
    "            MODIFIER = hl.agg.count_where(ht.impact1 == 'MODIFIER') / hl.agg.count(),\n",
    "            MODERATE = hl.agg.count_where(ht.impact1 == 'MODERATE') / hl.agg.count(),\n",
    "            HIGH = hl.agg.count_where(ht.impact1 == 'HIGH') / hl.agg.count()))\n",
    "    \n",
    "    impact_counts_pd = pd.DataFrame(impact_counts_struct.values(), index=impact_counts_struct.keys(), columns=[''])\n",
    "    return impact_counts_pd\n",
    "\n",
    "def effect_counts(ht):\n",
    "    # Count variant effect types.\n",
    "    # There are many more effect types, these are some of the more interesting ones.\n",
    "    effect_counts_struct = ht.aggregate(\n",
    "        hl.struct(\n",
    "            synonymous_variant = hl.agg.count_where(ht.effect1 == 'synonymous_variant') / hl.agg.count(),\n",
    "            missense_variant = hl.agg.count_where(ht.effect1 == 'missense_variant') / hl.agg.count(),\n",
    "            frameshift_variant = hl.agg.count_where(ht.effect1 == 'frameshift_variant') / hl.agg.count(),              \n",
    "            stop_gained = hl.agg.count_where(ht.effect1 == 'stop_gained') / hl.agg.count()))\n",
    "    \n",
    "    effect_counts_pd = pd.DataFrame(effect_counts_struct.values(), index=effect_counts_struct.keys(), columns=[''])\n",
    "    return effect_counts_pd"
   ]
  },
  {
   "cell_type": "code",
   "execution_count": 100,
   "id": "967a4af2-001a-4377-b4f5-72488c2fa984",
   "metadata": {},
   "outputs": [],
   "source": [
    "fae_ht = ht.filter(ht.info.fae != 0)\n",
    "fae_variant_counts_pd = variant_counts(fae_ht)\n",
    "fae_effect_counts_pd = effect_counts(fae_ht)\n",
    "fae_impact_counts_pd = impact_counts(fae_ht)"
   ]
  },
  {
   "cell_type": "code",
   "execution_count": 101,
   "id": "77841111-acd9-4d0e-9d27-90a9f533b7ff",
   "metadata": {},
   "outputs": [],
   "source": [
    "gnomad_ht = ht.filter(ht.info.gnomad_all != 0)\n",
    "gnomad_variant_counts_pd = variant_counts(gnomad_ht)\n",
    "gnomad_effect_counts_pd = effect_counts(gnomad_ht)\n",
    "gnomad_impact_counts_pd = impact_counts(gnomad_ht)"
   ]
  },
  {
   "cell_type": "code",
   "execution_count": 120,
   "id": "ca5488c9-f32e-40df-8624-0b7850a22286",
   "metadata": {},
   "outputs": [],
   "source": [
    "variant_counts_pd = pd.merge(fae_variant_counts_pd, gnomad_variant_counts_pd, left_index=True, right_index=True, suffixes=['FarGen', 'gnomAD'])\n",
    "effect_counts_pd = pd.merge(fae_effect_counts_pd, gnomad_effect_counts_pd, left_index=True, right_index=True, suffixes=['FarGen', 'gnomAD'])\n",
    "impact_counts_pd = pd.merge(fae_impact_counts_pd, gnomad_impact_counts_pd, left_index=True, right_index=True, suffixes=['FarGen', 'gnomAD'])"
   ]
  },
  {
   "cell_type": "code",
   "execution_count": 121,
   "id": "459778bb-b0b2-4125-9b50-b07394a70488",
   "metadata": {},
   "outputs": [],
   "source": [
    "counts_pd = pd.concat([variant_counts_pd, effect_counts_pd, impact_counts_pd])"
   ]
  },
  {
   "cell_type": "code",
   "execution_count": 122,
   "id": "7b4a12f8-5630-4ecd-ae0b-fa1853423484",
   "metadata": {},
   "outputs": [],
   "source": [
    "pd.set_option('display.float_format', lambda x: '%g' % x)"
   ]
  },
  {
   "cell_type": "code",
   "execution_count": 123,
   "id": "122a3736-f0d8-4275-8226-8e6ad6dc7df5",
   "metadata": {},
   "outputs": [
    {
     "data": {
      "text/html": [
       "<div>\n",
       "<style scoped>\n",
       "    .dataframe tbody tr th:only-of-type {\n",
       "        vertical-align: middle;\n",
       "    }\n",
       "\n",
       "    .dataframe tbody tr th {\n",
       "        vertical-align: top;\n",
       "    }\n",
       "\n",
       "    .dataframe thead th {\n",
       "        text-align: right;\n",
       "    }\n",
       "</style>\n",
       "<table border=\"1\" class=\"dataframe\">\n",
       "  <thead>\n",
       "    <tr style=\"text-align: right;\">\n",
       "      <th></th>\n",
       "      <th>FarGen</th>\n",
       "      <th>gnomAD</th>\n",
       "    </tr>\n",
       "  </thead>\n",
       "  <tbody>\n",
       "    <tr>\n",
       "      <th>n_variants</th>\n",
       "      <td>387045</td>\n",
       "      <td>1.4946e+07</td>\n",
       "    </tr>\n",
       "    <tr>\n",
       "      <th>n_snps</th>\n",
       "      <td>0.419822</td>\n",
       "      <td>0.937682</td>\n",
       "    </tr>\n",
       "    <tr>\n",
       "      <th>n_indels</th>\n",
       "      <td>0.580163</td>\n",
       "      <td>0.0623182</td>\n",
       "    </tr>\n",
       "    <tr>\n",
       "      <th>synonymous_variant</th>\n",
       "      <td>0.0936222</td>\n",
       "      <td>0.166956</td>\n",
       "    </tr>\n",
       "    <tr>\n",
       "      <th>missense_variant</th>\n",
       "      <td>0.112039</td>\n",
       "      <td>0.345944</td>\n",
       "    </tr>\n",
       "    <tr>\n",
       "      <th>frameshift_variant</th>\n",
       "      <td>0.224966</td>\n",
       "      <td>0.0156443</td>\n",
       "    </tr>\n",
       "    <tr>\n",
       "      <th>stop_gained</th>\n",
       "      <td>0.00183958</td>\n",
       "      <td>0.0104211</td>\n",
       "    </tr>\n",
       "    <tr>\n",
       "      <th>LOW</th>\n",
       "      <td>0.1587</td>\n",
       "      <td>0.217375</td>\n",
       "    </tr>\n",
       "    <tr>\n",
       "      <th>MODIFIER</th>\n",
       "      <td>0.463437</td>\n",
       "      <td>0.36904</td>\n",
       "    </tr>\n",
       "    <tr>\n",
       "      <th>MODERATE</th>\n",
       "      <td>0.12853</td>\n",
       "      <td>0.36583</td>\n",
       "    </tr>\n",
       "    <tr>\n",
       "      <th>HIGH</th>\n",
       "      <td>0.24932</td>\n",
       "      <td>0.0477551</td>\n",
       "    </tr>\n",
       "  </tbody>\n",
       "</table>\n",
       "</div>"
      ],
      "text/plain": [
       "                       FarGen     gnomAD\n",
       "n_variants             387045 1.4946e+07\n",
       "n_snps               0.419822   0.937682\n",
       "n_indels             0.580163  0.0623182\n",
       "synonymous_variant  0.0936222   0.166956\n",
       "missense_variant     0.112039   0.345944\n",
       "frameshift_variant   0.224966  0.0156443\n",
       "stop_gained        0.00183958  0.0104211\n",
       "LOW                    0.1587   0.217375\n",
       "MODIFIER             0.463437    0.36904\n",
       "MODERATE              0.12853    0.36583\n",
       "HIGH                  0.24932  0.0477551"
      ]
     },
     "execution_count": 123,
     "metadata": {},
     "output_type": "execute_result"
    }
   ],
   "source": [
    "counts_pd"
   ]
  },
  {
   "cell_type": "markdown",
   "id": "b7b64e75-c071-47ed-b3e8-d5ca9348fe7d",
   "metadata": {},
   "source": [
    "## Folded Site Frequency Spectrum (FFS)\n",
    "\n",
    "Let $f_i$ be the *site frequency* of bin $i$, where bin $i$ corresponds to some range of *allele frequencies*. We are going to compute the folded frequencies $f^*_i = f_i + f_{n-i}$.\n",
    "\n",
    "Example: if we have 10 bins, then $f^*_1 = f_1 + f_{10}$.\n",
    "\n",
    "Below a function that computes the FFS is defined."
   ]
  },
  {
   "cell_type": "code",
   "execution_count": 125,
   "id": "e98c0fd1-b3b4-41c5-9d03-11e47307fe6b",
   "metadata": {},
   "outputs": [],
   "source": [
    "def ffs(n_bins, ht, af_exprs):\n",
    "    # Make sure the number of bins is an even number.\n",
    "    assert n_bins % 2 == 0, 'Number of bins must be an even number.'\n",
    "    hist_struct = ht.aggregate(hl.agg.hist(af_exprs, 0, 1, n_bins))\n",
    "\n",
    "    # Allele frequency.\n",
    "    allele_freq = hist_struct.bin_edges\n",
    "\n",
    "    # The site count is the number of times frequencies in each bin is observed.\n",
    "    site_counts = np.array(hist_struct.bin_freq)\n",
    "\n",
    "    # Calculate site frequencies.\n",
    "    n_sites = sum(site_counts)\n",
    "    site_freq = site_counts / n_sites\n",
    "\n",
    "    # Calculate folded site-frequencies.\n",
    "    half = int(n_bins/2)\n",
    "    folded_site_freq = site_freq[:half] + site_freq[:half-1:-1]\n",
    "\n",
    "    # Make a Hail table with the allele counts and site frequencies.\n",
    "    ffs_table = []\n",
    "    for ac, fc in zip(allele_freq, folded_site_freq):\n",
    "        row = {'af': ac, 'ff': fc}\n",
    "        ffs_table.append(row)\n",
    "\n",
    "    # Make a table where each row is a bin, and each row contains the allele frequency and the folded site-frequency.\n",
    "    ht_ffs = hl.Table.parallelize(hl.literal(ffs_table, 'array<struct{af:float32,ff:float32}>'))\n",
    "\n",
    "    return ht_ffs"
   ]
  },
  {
   "cell_type": "markdown",
   "id": "d6d2dfca-bebc-4945-9a3a-30a288c8d7b3",
   "metadata": {},
   "source": [
    "We compute a simple FFS and plot it. Note that singletons have a frequency of about 0.65."
   ]
  },
  {
   "cell_type": "code",
   "execution_count": 126,
   "id": "f45668dd-5ea9-45b4-9523-53f0a4bd28b5",
   "metadata": {},
   "outputs": [],
   "source": [
    "fae_ffs_ht = ffs(100, ht, ht.info.fae)"
   ]
  },
  {
   "cell_type": "code",
   "execution_count": 127,
   "id": "03839c74-9c5a-44ef-801d-0e6c9d075549",
   "metadata": {},
   "outputs": [
    {
     "data": {
      "text/html": [
       "\n",
       "\n",
       "\n",
       "\n",
       "\n",
       "\n",
       "  <div class=\"bk-root\" id=\"75929791-e4db-44ce-a74a-7122c74d5f2b\" data-root-id=\"1198\"></div>\n"
      ]
     },
     "metadata": {},
     "output_type": "display_data"
    },
    {
     "data": {
      "application/javascript": [
       "(function(root) {\n",
       "  function embed_document(root) {\n",
       "    \n",
       "  var docs_json = {\"edb04908-2eec-4f2f-9ade-c599644fae11\":{\"roots\":{\"references\":[{\"attributes\":{\"below\":[{\"id\":\"1208\",\"type\":\"LinearAxis\"}],\"center\":[{\"id\":\"1212\",\"type\":\"Grid\"},{\"id\":\"1217\",\"type\":\"Grid\"}],\"left\":[{\"id\":\"1213\",\"type\":\"LinearAxis\"}],\"plot_height\":400,\"plot_width\":800,\"renderers\":[{\"id\":\"1237\",\"type\":\"GlyphRenderer\"}],\"title\":null,\"toolbar\":{\"id\":\"1224\",\"type\":\"Toolbar\"},\"x_range\":{\"id\":\"1200\",\"type\":\"DataRange1d\"},\"x_scale\":{\"id\":\"1204\",\"type\":\"LinearScale\"},\"y_range\":{\"id\":\"1202\",\"type\":\"DataRange1d\"},\"y_scale\":{\"id\":\"1206\",\"type\":\"LinearScale\"}},\"id\":\"1198\",\"subtype\":\"Figure\",\"type\":\"Plot\"},{\"attributes\":{\"dimension\":1,\"ticker\":{\"id\":\"1214\",\"type\":\"BasicTicker\"}},\"id\":\"1217\",\"type\":\"Grid\"},{\"attributes\":{\"bottom_units\":\"screen\",\"fill_alpha\":{\"value\":0.5},\"fill_color\":{\"value\":\"lightgrey\"},\"left_units\":\"screen\",\"level\":\"overlay\",\"line_alpha\":{\"value\":1.0},\"line_color\":{\"value\":\"black\"},\"line_dash\":[4,4],\"line_width\":{\"value\":2},\"render_mode\":\"css\",\"right_units\":\"screen\",\"top_units\":\"screen\"},\"id\":\"1262\",\"type\":\"BoxAnnotation\"},{\"attributes\":{\"callback\":null,\"data\":{\"index\":[0,1,2,3,4,5,6,7,8,9,10,11,12,13,14,15,16,17,18,19,20,21,22,23,24,25,26,27,28,29,30,31,32,33,34,35,36,37,38,39,40,41,42,43,44,45,46,47,48,49],\"x\":{\"__ndarray__\":\"AAAAAAAAAAAAAABA4XqEPwAAAEDhepQ/AAAA4FG4nj8AAABA4XqkPwAAAKCZmak/AAAA4FG4rj8AAAAgheuxPwAAAEDherQ/AAAAgD0Ktz8AAACgmZm5PwAAAMD1KLw/AAAA4FG4vj8AAAAA16PAPwAAACCF68E/AAAAQDMzwz8AAABA4XrEPwAAAGCPwsU/AAAAgD0Kxz8AAACA61HIPwAAAKCZmck/AAAAoEfhyj8AAADA9SjMPwAAAOCjcM0/AAAA4FG4zj8AAAAAAADQPwAAAADXo9A/AAAAIK5H0T8AAAAghevRPwAAACBcj9I/AAAAQDMz0z8AAABACtfTPwAAAEDhetQ/AAAAYLge1T8AAABgj8LVPwAAAGBmZtY/AAAAgD0K1z8AAACAFK7XPwAAAIDrUdg/AAAAgML12D8AAACgmZnZPwAAAKBwPdo/AAAAoEfh2j8AAADAHoXbPwAAAMD1KNw/AAAAwMzM3D8AAADgo3DdPwAAAOB6FN4/AAAA4FG43j8AAAAAKVzfPw==\",\"dtype\":\"float64\",\"shape\":[50]},\"y\":{\"__ndarray__\":\"AAAAwOne4z8AAADgAOayPwAAAODD9qQ/AAAAgOTjnT8AAACgmUCTPwAAAGDRGY0/AAAAAFO6iD8AAACgx32GPwAAAIB/0YE/AAAAIOEzgT8AAADgDiGAPwAAAIDwIXw/AAAAAGnGeT8AAABAwwF4PwAAAEAXg3g/AAAAADTkdT8AAADgK7lzPwAAAGBo9HQ/AAAAQAupcj8AAACAuMZxPwAAAIDyWnE/AAAA4CxYcz8AAABABB1wPwAAAIDDZXA/AAAAgG5FcD8AAAAgbn1vPwAAAMCvamw/AAAAQE0EbD8AAAAgkZNwPwAAAAC7cm0/AAAAoK7LbD8AAACgNVVqPwAAAEBMZWw/AAAA4B2maD8AAAAALV1tPwAAAKA84Ww/AAAAwOHTaT8AAAAgmvlpPwAAAEBpL2w/AAAAwHcUbD8AAAAg0k9qPwAAAMAayWk/AAAAAPRnbT8AAABga21rPwAAAAB1BGg/AAAAAFebaD8AAABgo8NrPwAAAOBV/Gg/AAAAQEZ4aT8AAAAAs0drPw==\",\"dtype\":\"float64\",\"shape\":[50]}},\"selected\":{\"id\":\"1260\",\"type\":\"Selection\"},\"selection_policy\":{\"id\":\"1261\",\"type\":\"UnionRenderers\"}},\"id\":\"1233\",\"type\":\"ColumnDataSource\"},{\"attributes\":{},\"id\":\"1259\",\"type\":\"BasicTickFormatter\"},{\"attributes\":{},\"id\":\"1209\",\"type\":\"BasicTicker\"},{\"attributes\":{\"overlay\":{\"id\":\"1262\",\"type\":\"BoxAnnotation\"}},\"id\":\"1220\",\"type\":\"BoxZoomTool\"},{\"attributes\":{\"fill_color\":{\"value\":\"#1f77b4\"},\"line_color\":{\"value\":\"#1f77b4\"},\"x\":{\"field\":\"x\"},\"y\":{\"field\":\"y\"}},\"id\":\"1235\",\"type\":\"Circle\"},{\"attributes\":{\"axis_label\":\"Allele counts\",\"formatter\":{\"id\":\"1259\",\"type\":\"BasicTickFormatter\"},\"ticker\":{\"id\":\"1209\",\"type\":\"BasicTicker\"}},\"id\":\"1208\",\"type\":\"LinearAxis\"},{\"attributes\":{},\"id\":\"1261\",\"type\":\"UnionRenderers\"},{\"attributes\":{},\"id\":\"1206\",\"type\":\"LinearScale\"},{\"attributes\":{},\"id\":\"1214\",\"type\":\"BasicTicker\"},{\"attributes\":{},\"id\":\"1222\",\"type\":\"ResetTool\"},{\"attributes\":{\"callback\":null,\"tooltips\":[[\"x\",\"@x\"],[\"y\",\"@y\"]]},\"id\":\"1232\",\"type\":\"HoverTool\"},{\"attributes\":{},\"id\":\"1218\",\"type\":\"PanTool\"},{\"attributes\":{\"ticker\":{\"id\":\"1209\",\"type\":\"BasicTicker\"}},\"id\":\"1212\",\"type\":\"Grid\"},{\"attributes\":{},\"id\":\"1257\",\"type\":\"BasicTickFormatter\"},{\"attributes\":{},\"id\":\"1204\",\"type\":\"LinearScale\"},{\"attributes\":{},\"id\":\"1260\",\"type\":\"Selection\"},{\"attributes\":{\"callback\":null},\"id\":\"1200\",\"type\":\"DataRange1d\"},{\"attributes\":{\"active_drag\":\"auto\",\"active_inspect\":\"auto\",\"active_multi\":null,\"active_scroll\":\"auto\",\"active_tap\":\"auto\",\"tools\":[{\"id\":\"1218\",\"type\":\"PanTool\"},{\"id\":\"1219\",\"type\":\"WheelZoomTool\"},{\"id\":\"1220\",\"type\":\"BoxZoomTool\"},{\"id\":\"1221\",\"type\":\"SaveTool\"},{\"id\":\"1222\",\"type\":\"ResetTool\"},{\"id\":\"1223\",\"type\":\"HelpTool\"},{\"id\":\"1232\",\"type\":\"HoverTool\"}]},\"id\":\"1224\",\"type\":\"Toolbar\"},{\"attributes\":{\"fill_alpha\":{\"value\":0.1},\"fill_color\":{\"value\":\"#1f77b4\"},\"line_alpha\":{\"value\":0.1},\"line_color\":{\"value\":\"#1f77b4\"},\"x\":{\"field\":\"x\"},\"y\":{\"field\":\"y\"}},\"id\":\"1236\",\"type\":\"Circle\"},{\"attributes\":{\"callback\":null},\"id\":\"1202\",\"type\":\"DataRange1d\"},{\"attributes\":{\"axis_label\":\"Frequency in population\",\"formatter\":{\"id\":\"1257\",\"type\":\"BasicTickFormatter\"},\"ticker\":{\"id\":\"1214\",\"type\":\"BasicTicker\"}},\"id\":\"1213\",\"type\":\"LinearAxis\"},{\"attributes\":{},\"id\":\"1219\",\"type\":\"WheelZoomTool\"},{\"attributes\":{},\"id\":\"1223\",\"type\":\"HelpTool\"},{\"attributes\":{},\"id\":\"1221\",\"type\":\"SaveTool\"},{\"attributes\":{\"source\":{\"id\":\"1233\",\"type\":\"ColumnDataSource\"}},\"id\":\"1238\",\"type\":\"CDSView\"},{\"attributes\":{\"data_source\":{\"id\":\"1233\",\"type\":\"ColumnDataSource\"},\"glyph\":{\"id\":\"1235\",\"type\":\"Circle\"},\"hover_glyph\":null,\"muted_glyph\":null,\"nonselection_glyph\":{\"id\":\"1236\",\"type\":\"Circle\"},\"selection_glyph\":null,\"view\":{\"id\":\"1238\",\"type\":\"CDSView\"}},\"id\":\"1237\",\"type\":\"GlyphRenderer\"}],\"root_ids\":[\"1198\"]},\"title\":\"Bokeh Application\",\"version\":\"1.2.0\"}};\n",
       "  var render_items = [{\"docid\":\"edb04908-2eec-4f2f-9ade-c599644fae11\",\"roots\":{\"1198\":\"75929791-e4db-44ce-a74a-7122c74d5f2b\"}}];\n",
       "  root.Bokeh.embed.embed_items_notebook(docs_json, render_items);\n",
       "\n",
       "  }\n",
       "  if (root.Bokeh !== undefined) {\n",
       "    embed_document(root);\n",
       "  } else {\n",
       "    var attempts = 0;\n",
       "    var timer = setInterval(function(root) {\n",
       "      if (root.Bokeh !== undefined) {\n",
       "        embed_document(root);\n",
       "        clearInterval(timer);\n",
       "      }\n",
       "      attempts++;\n",
       "      if (attempts > 100) {\n",
       "        console.log(\"Bokeh: ERROR: Unable to run BokehJS code because BokehJS library is missing\");\n",
       "        clearInterval(timer);\n",
       "      }\n",
       "    }, 10, root)\n",
       "  }\n",
       "})(window);"
      ],
      "application/vnd.bokehjs_exec.v0+json": ""
     },
     "metadata": {
      "application/vnd.bokehjs_exec.v0+json": {
       "id": "1198"
      }
     },
     "output_type": "display_data"
    }
   ],
   "source": [
    "p = hl.plot.scatter(fae_ffs_ht.af, fae_ffs_ht.ff,\n",
    "                    xlabel='Allele counts', ylabel='Frequency in population')\n",
    "p.plot_width = 800\n",
    "p.plot_height = 400\n",
    "show(p)"
   ]
  },
  {
   "cell_type": "markdown",
   "id": "7b76db85-0c1b-44a2-bf22-f832e77cda58",
   "metadata": {},
   "source": [
    "## FFS strafified by population"
   ]
  },
  {
   "cell_type": "code",
   "execution_count": 138,
   "id": "c4758df6-a422-4230-ba6e-fc3d4f82c9f3",
   "metadata": {},
   "outputs": [],
   "source": [
    "n_bins = 200\n",
    "\n",
    "fae_ht = ht.filter(ht.info.fae != 0)\n",
    "fae_ffs_ht = ffs(n_bins, fae_ht, fae_ht.info.fae)\n",
    "fae_ffs_ht = fae_ffs_ht.annotate(strata='FarGen')\n",
    "\n",
    "gnomad_ht = ht.filter(ht.info.gnomad_all != 0)\n",
    "gnomad_ffs_ht = ffs(n_bins, gnomad_ht, gnomad_ht.info.gnomad_all)\n",
    "gnomad_ffs_ht = gnomad_ffs_ht.annotate(strata='gnomAD')\n",
    "\n",
    "ffs_ht = fae_ffs_ht.union(gnomad_ffs_ht)"
   ]
  },
  {
   "cell_type": "code",
   "execution_count": 139,
   "id": "9ad0201d-8deb-426c-b87f-9f1d78121ab7",
   "metadata": {},
   "outputs": [
    {
     "data": {
      "text/html": [
       "\n",
       "\n",
       "\n",
       "\n",
       "\n",
       "\n",
       "  <div class=\"bk-root\" id=\"0893b8f6-aef2-4c2d-810c-c99fbea08bf0\" data-root-id=\"1970\"></div>\n"
      ]
     },
     "metadata": {},
     "output_type": "display_data"
    },
    {
     "data": {
      "application/javascript": [
       "(function(root) {\n",
       "  function embed_document(root) {\n",
       "    \n",
       "  var docs_json = {\"e16f2854-6689-4bf3-a512-5915ac8df30d\":{\"roots\":{\"references\":[{\"attributes\":{\"below\":[{\"id\":\"1980\",\"type\":\"LinearAxis\"}],\"center\":[{\"id\":\"1984\",\"type\":\"Grid\"},{\"id\":\"1989\",\"type\":\"Grid\"}],\"left\":[{\"id\":\"1985\",\"type\":\"LinearAxis\"},{\"id\":\"2021\",\"type\":\"Legend\"},{\"id\":\"2022\",\"type\":\"ColorBar\"}],\"plot_height\":400,\"plot_width\":800,\"renderers\":[{\"id\":\"2012\",\"type\":\"GlyphRenderer\"},{\"id\":\"2018\",\"type\":\"GlyphRenderer\"}],\"title\":null,\"toolbar\":{\"id\":\"1996\",\"type\":\"Toolbar\"},\"x_range\":{\"id\":\"1972\",\"type\":\"DataRange1d\"},\"x_scale\":{\"id\":\"1976\",\"type\":\"LinearScale\"},\"y_range\":{\"id\":\"1974\",\"type\":\"DataRange1d\"},\"y_scale\":{\"id\":\"2023\",\"type\":\"LogScale\"}},\"id\":\"1970\",\"subtype\":\"Figure\",\"type\":\"Plot\"},{\"attributes\":{\"data_source\":{\"id\":\"2005\",\"type\":\"ColumnDataSource\"},\"glyph\":{\"id\":\"2010\",\"type\":\"Circle\"},\"hover_glyph\":null,\"muted_glyph\":null,\"nonselection_glyph\":{\"id\":\"2011\",\"type\":\"Circle\"},\"selection_glyph\":null,\"view\":{\"id\":\"2008\",\"type\":\"CDSView\"}},\"id\":\"2012\",\"type\":\"GlyphRenderer\"},{\"attributes\":{\"dimension\":1,\"ticker\":{\"id\":\"1986\",\"type\":\"BasicTicker\"}},\"id\":\"1989\",\"type\":\"Grid\"},{\"attributes\":{\"axis_label\":\"Allele counts\",\"formatter\":{\"id\":\"2094\",\"type\":\"BasicTickFormatter\"},\"ticker\":{\"id\":\"1981\",\"type\":\"BasicTicker\"}},\"id\":\"1980\",\"type\":\"LinearAxis\"},{\"attributes\":{\"label\":{\"value\":\"FarGen\"},\"renderers\":[{\"id\":\"2012\",\"type\":\"GlyphRenderer\"}]},\"id\":\"2019\",\"type\":\"LegendItem\"},{\"attributes\":{\"column_name\":\"label\",\"group\":\"gnomAD\"},\"id\":\"2013\",\"type\":\"GroupFilter\"},{\"attributes\":{\"fill_alpha\":{\"value\":0.1},\"fill_color\":{\"value\":\"#1f77b4\"},\"line_alpha\":{\"value\":0.1},\"line_color\":{\"value\":\"#1f77b4\"},\"x\":{\"field\":\"x\"},\"y\":{\"field\":\"y\"}},\"id\":\"2011\",\"type\":\"Circle\"},{\"attributes\":{},\"id\":\"1990\",\"type\":\"PanTool\"},{\"attributes\":{\"callback\":null},\"id\":\"1974\",\"type\":\"DataRange1d\"},{\"attributes\":{\"filters\":[{\"id\":\"2007\",\"type\":\"GroupFilter\"}],\"source\":{\"id\":\"2005\",\"type\":\"ColumnDataSource\"}},\"id\":\"2008\",\"type\":\"CDSView\"},{\"attributes\":{\"fill_alpha\":{\"value\":0.1},\"fill_color\":{\"value\":\"#1f77b4\"},\"line_alpha\":{\"value\":0.1},\"line_color\":{\"value\":\"#1f77b4\"},\"x\":{\"field\":\"x\"},\"y\":{\"field\":\"y\"}},\"id\":\"2017\",\"type\":\"Circle\"},{\"attributes\":{\"click_policy\":\"hide\",\"items\":[{\"id\":\"2019\",\"type\":\"LegendItem\"},{\"id\":\"2020\",\"type\":\"LegendItem\"}]},\"id\":\"2021\",\"type\":\"Legend\"},{\"attributes\":{\"column_name\":\"label\",\"group\":\"FarGen\"},\"id\":\"2007\",\"type\":\"GroupFilter\"},{\"attributes\":{\"factors\":[\"gnomAD\",\"FarGen\"],\"palette\":[\"#1f77b4\",\"#ff7f0e\",\"#2ca02c\",\"#d62728\",\"#9467bd\",\"#8c564b\",\"#e377c2\",\"#7f7f7f\",\"#bcbd22\",\"#17becf\"]},\"id\":\"2006\",\"type\":\"CategoricalColorMapper\"},{\"attributes\":{},\"id\":\"2090\",\"type\":\"BasicTickFormatter\"},{\"attributes\":{\"label\":{\"value\":\"gnomAD\"},\"renderers\":[{\"id\":\"2018\",\"type\":\"GlyphRenderer\"}]},\"id\":\"2020\",\"type\":\"LegendItem\"},{\"attributes\":{\"color_mapper\":null,\"formatter\":{\"id\":\"2092\",\"type\":\"BasicTickFormatter\"},\"ticker\":{\"id\":\"2091\",\"type\":\"BasicTicker\"},\"visible\":false},\"id\":\"2022\",\"type\":\"ColorBar\"},{\"attributes\":{},\"id\":\"2094\",\"type\":\"BasicTickFormatter\"},{\"attributes\":{},\"id\":\"1981\",\"type\":\"BasicTicker\"},{\"attributes\":{},\"id\":\"2023\",\"type\":\"LogScale\"},{\"attributes\":{\"active_drag\":\"auto\",\"active_inspect\":\"auto\",\"active_multi\":null,\"active_scroll\":\"auto\",\"active_tap\":\"auto\",\"tools\":[{\"id\":\"1990\",\"type\":\"PanTool\"},{\"id\":\"1991\",\"type\":\"WheelZoomTool\"},{\"id\":\"1992\",\"type\":\"BoxZoomTool\"},{\"id\":\"1993\",\"type\":\"SaveTool\"},{\"id\":\"1994\",\"type\":\"ResetTool\"},{\"id\":\"1995\",\"type\":\"HelpTool\"},{\"id\":\"2004\",\"type\":\"HoverTool\"}]},\"id\":\"1996\",\"type\":\"Toolbar\"},{\"attributes\":{},\"id\":\"1995\",\"type\":\"HelpTool\"},{\"attributes\":{\"callback\":null,\"tooltips\":[[\"x\",\"@x\"],[\"y\",\"@y\"],[\"label\",\"@label\"]]},\"id\":\"2004\",\"type\":\"HoverTool\"},{\"attributes\":{},\"id\":\"2096\",\"type\":\"UnionRenderers\"},{\"attributes\":{},\"id\":\"1991\",\"type\":\"WheelZoomTool\"},{\"attributes\":{},\"id\":\"1993\",\"type\":\"SaveTool\"},{\"attributes\":{\"data_source\":{\"id\":\"2005\",\"type\":\"ColumnDataSource\"},\"glyph\":{\"id\":\"2016\",\"type\":\"Circle\"},\"hover_glyph\":null,\"muted_glyph\":null,\"nonselection_glyph\":{\"id\":\"2017\",\"type\":\"Circle\"},\"selection_glyph\":null,\"view\":{\"id\":\"2014\",\"type\":\"CDSView\"}},\"id\":\"2018\",\"type\":\"GlyphRenderer\"},{\"attributes\":{\"ticker\":{\"id\":\"1981\",\"type\":\"BasicTicker\"}},\"id\":\"1984\",\"type\":\"Grid\"},{\"attributes\":{},\"id\":\"2092\",\"type\":\"BasicTickFormatter\"},{\"attributes\":{\"overlay\":{\"id\":\"2097\",\"type\":\"BoxAnnotation\"}},\"id\":\"1992\",\"type\":\"BoxZoomTool\"},{\"attributes\":{},\"id\":\"2095\",\"type\":\"Selection\"},{\"attributes\":{\"fill_color\":{\"field\":\"label\",\"transform\":{\"id\":\"2006\",\"type\":\"CategoricalColorMapper\"}},\"line_color\":{\"field\":\"label\",\"transform\":{\"id\":\"2006\",\"type\":\"CategoricalColorMapper\"}},\"x\":{\"field\":\"x\"},\"y\":{\"field\":\"y\"}},\"id\":\"2016\",\"type\":\"Circle\"},{\"attributes\":{},\"id\":\"1994\",\"type\":\"ResetTool\"},{\"attributes\":{\"fill_color\":{\"field\":\"label\",\"transform\":{\"id\":\"2006\",\"type\":\"CategoricalColorMapper\"}},\"line_color\":{\"field\":\"label\",\"transform\":{\"id\":\"2006\",\"type\":\"CategoricalColorMapper\"}},\"x\":{\"field\":\"x\"},\"y\":{\"field\":\"y\"}},\"id\":\"2010\",\"type\":\"Circle\"},{\"attributes\":{\"filters\":[{\"id\":\"2013\",\"type\":\"GroupFilter\"}],\"source\":{\"id\":\"2005\",\"type\":\"ColumnDataSource\"}},\"id\":\"2014\",\"type\":\"CDSView\"},{\"attributes\":{\"axis_label\":\"Frequency in population\",\"formatter\":{\"id\":\"2090\",\"type\":\"BasicTickFormatter\"},\"ticker\":{\"id\":\"1986\",\"type\":\"BasicTicker\"}},\"id\":\"1985\",\"type\":\"LinearAxis\"},{\"attributes\":{},\"id\":\"1986\",\"type\":\"BasicTicker\"},{\"attributes\":{},\"id\":\"2091\",\"type\":\"BasicTicker\"},{\"attributes\":{\"callback\":null,\"data\":{\"index\":[0,1,2,3,4,5,6,7,8,9,10,11,12,13,14,15,16,17,18,19,20,21,22,23,24,25,26,27,28,29,30,31,32,33,34,35,36,37,38,39,40,41,42,43,44,45,46,47,48,49,50,51,52,53,54,55,56,57,58,59,60,61,62,63,64,65,66,67,68,69,70,71,72,73,74,75,76,77,78,79,80,81,82,83,84,85,86,87,88,89,90,91,92,93,94,95,96,97,98,99,100,101,102,103,104,105,106,107,108,109,110,111,112,113,114,115,116,117,118,119,120,121,122,123,124,125,126,127,128,129,130,131,132,133,134,135,136,137,138,139,140,141,142,143,144,145,146,147,148,149,150,151,152,153,154,155,156,157,158,159,160,161,162,163,164,165,166,167,168,169,170,171,172,173,174,175,176,177,178,179,180,181,182,183,184,185,186,187,188,189,190,191,192,193,194,195,196,197,198,199],\"label\":[\"FarGen\",\"FarGen\",\"FarGen\",\"FarGen\",\"FarGen\",\"FarGen\",\"FarGen\",\"FarGen\",\"FarGen\",\"FarGen\",\"FarGen\",\"FarGen\",\"FarGen\",\"FarGen\",\"FarGen\",\"FarGen\",\"FarGen\",\"FarGen\",\"FarGen\",\"FarGen\",\"FarGen\",\"FarGen\",\"FarGen\",\"FarGen\",\"FarGen\",\"FarGen\",\"FarGen\",\"FarGen\",\"FarGen\",\"FarGen\",\"FarGen\",\"FarGen\",\"FarGen\",\"FarGen\",\"FarGen\",\"FarGen\",\"FarGen\",\"FarGen\",\"FarGen\",\"FarGen\",\"FarGen\",\"FarGen\",\"FarGen\",\"FarGen\",\"FarGen\",\"FarGen\",\"FarGen\",\"FarGen\",\"FarGen\",\"FarGen\",\"FarGen\",\"FarGen\",\"FarGen\",\"FarGen\",\"FarGen\",\"FarGen\",\"FarGen\",\"FarGen\",\"FarGen\",\"FarGen\",\"FarGen\",\"FarGen\",\"FarGen\",\"FarGen\",\"FarGen\",\"FarGen\",\"FarGen\",\"FarGen\",\"FarGen\",\"FarGen\",\"FarGen\",\"FarGen\",\"FarGen\",\"FarGen\",\"FarGen\",\"FarGen\",\"FarGen\",\"FarGen\",\"FarGen\",\"FarGen\",\"FarGen\",\"FarGen\",\"FarGen\",\"FarGen\",\"FarGen\",\"FarGen\",\"FarGen\",\"FarGen\",\"FarGen\",\"FarGen\",\"FarGen\",\"FarGen\",\"FarGen\",\"FarGen\",\"FarGen\",\"FarGen\",\"FarGen\",\"FarGen\",\"FarGen\",\"FarGen\",\"gnomAD\",\"gnomAD\",\"gnomAD\",\"gnomAD\",\"gnomAD\",\"gnomAD\",\"gnomAD\",\"gnomAD\",\"gnomAD\",\"gnomAD\",\"gnomAD\",\"gnomAD\",\"gnomAD\",\"gnomAD\",\"gnomAD\",\"gnomAD\",\"gnomAD\",\"gnomAD\",\"gnomAD\",\"gnomAD\",\"gnomAD\",\"gnomAD\",\"gnomAD\",\"gnomAD\",\"gnomAD\",\"gnomAD\",\"gnomAD\",\"gnomAD\",\"gnomAD\",\"gnomAD\",\"gnomAD\",\"gnomAD\",\"gnomAD\",\"gnomAD\",\"gnomAD\",\"gnomAD\",\"gnomAD\",\"gnomAD\",\"gnomAD\",\"gnomAD\",\"gnomAD\",\"gnomAD\",\"gnomAD\",\"gnomAD\",\"gnomAD\",\"gnomAD\",\"gnomAD\",\"gnomAD\",\"gnomAD\",\"gnomAD\",\"gnomAD\",\"gnomAD\",\"gnomAD\",\"gnomAD\",\"gnomAD\",\"gnomAD\",\"gnomAD\",\"gnomAD\",\"gnomAD\",\"gnomAD\",\"gnomAD\",\"gnomAD\",\"gnomAD\",\"gnomAD\",\"gnomAD\",\"gnomAD\",\"gnomAD\",\"gnomAD\",\"gnomAD\",\"gnomAD\",\"gnomAD\",\"gnomAD\",\"gnomAD\",\"gnomAD\",\"gnomAD\",\"gnomAD\",\"gnomAD\",\"gnomAD\",\"gnomAD\",\"gnomAD\",\"gnomAD\",\"gnomAD\",\"gnomAD\",\"gnomAD\",\"gnomAD\",\"gnomAD\",\"gnomAD\",\"gnomAD\",\"gnomAD\",\"gnomAD\",\"gnomAD\",\"gnomAD\",\"gnomAD\",\"gnomAD\",\"gnomAD\",\"gnomAD\",\"gnomAD\",\"gnomAD\",\"gnomAD\",\"gnomAD\"],\"x\":{\"__ndarray__\":\"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\",\"dtype\":\"float64\",\"shape\":[200]},\"y\":{\"__ndarray__\":\"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\",\"dtype\":\"float64\",\"shape\":[200]}},\"selected\":{\"id\":\"2095\",\"type\":\"Selection\"},\"selection_policy\":{\"id\":\"2096\",\"type\":\"UnionRenderers\"}},\"id\":\"2005\",\"type\":\"ColumnDataSource\"},{\"attributes\":{\"bottom_units\":\"screen\",\"fill_alpha\":{\"value\":0.5},\"fill_color\":{\"value\":\"lightgrey\"},\"left_units\":\"screen\",\"level\":\"overlay\",\"line_alpha\":{\"value\":1.0},\"line_color\":{\"value\":\"black\"},\"line_dash\":[4,4],\"line_width\":{\"value\":2},\"render_mode\":\"css\",\"right_units\":\"screen\",\"top_units\":\"screen\"},\"id\":\"2097\",\"type\":\"BoxAnnotation\"},{\"attributes\":{},\"id\":\"1976\",\"type\":\"LinearScale\"},{\"attributes\":{\"callback\":null},\"id\":\"1972\",\"type\":\"DataRange1d\"}],\"root_ids\":[\"1970\"]},\"title\":\"Bokeh Application\",\"version\":\"1.2.0\"}};\n",
       "  var render_items = [{\"docid\":\"e16f2854-6689-4bf3-a512-5915ac8df30d\",\"roots\":{\"1970\":\"0893b8f6-aef2-4c2d-810c-c99fbea08bf0\"}}];\n",
       "  root.Bokeh.embed.embed_items_notebook(docs_json, render_items);\n",
       "\n",
       "  }\n",
       "  if (root.Bokeh !== undefined) {\n",
       "    embed_document(root);\n",
       "  } else {\n",
       "    var attempts = 0;\n",
       "    var timer = setInterval(function(root) {\n",
       "      if (root.Bokeh !== undefined) {\n",
       "        embed_document(root);\n",
       "        clearInterval(timer);\n",
       "      }\n",
       "      attempts++;\n",
       "      if (attempts > 100) {\n",
       "        console.log(\"Bokeh: ERROR: Unable to run BokehJS code because BokehJS library is missing\");\n",
       "        clearInterval(timer);\n",
       "      }\n",
       "    }, 10, root)\n",
       "  }\n",
       "})(window);"
      ],
      "application/vnd.bokehjs_exec.v0+json": ""
     },
     "metadata": {
      "application/vnd.bokehjs_exec.v0+json": {
       "id": "1970"
      }
     },
     "output_type": "display_data"
    }
   ],
   "source": [
    "p = hl.plot.scatter(ffs_ht.af, ffs_ht.ff, label=ffs_ht.strata,\n",
    "                    xlabel='Allele counts', ylabel='Frequency in population',\n",
    "                    collect_all=True)\n",
    "p.plot_width = 800\n",
    "p.plot_height = 400\n",
    "p.y_scale = LogScale()\n",
    "show(p)"
   ]
  },
  {
   "cell_type": "markdown",
   "id": "84ce541d-f718-41f0-b2c0-78b6f7e6721c",
   "metadata": {},
   "source": [
    "### FFS stratified by variant impact"
   ]
  },
  {
   "cell_type": "code",
   "execution_count": 129,
   "id": "678572d8-4bcf-43fc-b62e-86cf8d923aa3",
   "metadata": {},
   "outputs": [],
   "source": [
    "n_bins = 100\n",
    "first = True\n",
    "for impact in ['LOW', 'MODIFIER', 'MODERATE', 'HIGH']:\n",
    "    temp_ht = ht.filter(ht.impact1 == impact)\n",
    "    temp_ffs_ht = ffs(n_bins, temp_ht, temp_ht.info.fae)\n",
    "    temp_ffs_ht = temp_ffs_ht.annotate(strata=impact)\n",
    "    \n",
    "    if first:\n",
    "        ffs_ht = temp_ffs_ht\n",
    "        first = False\n",
    "    else:\n",
    "        ffs_ht = ffs_ht.union(temp_ffs_ht)"
   ]
  },
  {
   "cell_type": "code",
   "execution_count": 130,
   "id": "105c2db5-a647-461f-91e2-97446a1f3dbb",
   "metadata": {},
   "outputs": [
    {
     "data": {
      "text/html": [
       "\n",
       "\n",
       "\n",
       "\n",
       "\n",
       "\n",
       "  <div class=\"bk-root\" id=\"f1c7be81-4732-4e90-ada7-dd8e7542160a\" data-root-id=\"1311\"></div>\n"
      ]
     },
     "metadata": {},
     "output_type": "display_data"
    },
    {
     "data": {
      "application/javascript": [
       "(function(root) {\n",
       "  function embed_document(root) {\n",
       "    \n",
       "  var docs_json = {\"d66ee508-e068-417d-91bc-e53c1252e70c\":{\"roots\":{\"references\":[{\"attributes\":{\"below\":[{\"id\":\"1321\",\"type\":\"LinearAxis\"}],\"center\":[{\"id\":\"1325\",\"type\":\"Grid\"},{\"id\":\"1330\",\"type\":\"Grid\"}],\"left\":[{\"id\":\"1326\",\"type\":\"LinearAxis\"},{\"id\":\"1376\",\"type\":\"Legend\"},{\"id\":\"1377\",\"type\":\"ColorBar\"}],\"plot_height\":400,\"plot_width\":800,\"renderers\":[{\"id\":\"1353\",\"type\":\"GlyphRenderer\"},{\"id\":\"1359\",\"type\":\"GlyphRenderer\"},{\"id\":\"1365\",\"type\":\"GlyphRenderer\"},{\"id\":\"1371\",\"type\":\"GlyphRenderer\"}],\"title\":null,\"toolbar\":{\"id\":\"1337\",\"type\":\"Toolbar\"},\"x_range\":{\"id\":\"1313\",\"type\":\"DataRange1d\"},\"x_scale\":{\"id\":\"1317\",\"type\":\"LinearScale\"},\"y_range\":{\"id\":\"1315\",\"type\":\"DataRange1d\"},\"y_scale\":{\"id\":\"1378\",\"type\":\"LogScale\"}},\"id\":\"1311\",\"subtype\":\"Figure\",\"type\":\"Plot\"},{\"attributes\":{\"data_source\":{\"id\":\"1346\",\"type\":\"ColumnDataSource\"},\"glyph\":{\"id\":\"1369\",\"type\":\"Circle\"},\"hover_glyph\":null,\"muted_glyph\":null,\"nonselection_glyph\":{\"id\":\"1370\",\"type\":\"Circle\"},\"selection_glyph\":null,\"view\":{\"id\":\"1367\",\"type\":\"CDSView\"}},\"id\":\"1371\",\"type\":\"GlyphRenderer\"},{\"attributes\":{},\"id\":\"1406\",\"type\":\"BasicTicker\"},{\"attributes\":{\"factors\":[\"MODIFIER\",\"LOW\",\"HIGH\",\"MODERATE\"],\"palette\":[\"#1f77b4\",\"#ff7f0e\",\"#2ca02c\",\"#d62728\",\"#9467bd\",\"#8c564b\",\"#e377c2\",\"#7f7f7f\",\"#bcbd22\",\"#17becf\"]},\"id\":\"1347\",\"type\":\"CategoricalColorMapper\"},{\"attributes\":{\"color_mapper\":null,\"formatter\":{\"id\":\"1407\",\"type\":\"BasicTickFormatter\"},\"ticker\":{\"id\":\"1406\",\"type\":\"BasicTicker\"},\"visible\":false},\"id\":\"1377\",\"type\":\"ColorBar\"},{\"attributes\":{},\"id\":\"1331\",\"type\":\"PanTool\"},{\"attributes\":{\"column_name\":\"label\",\"group\":\"HIGH\"},\"id\":\"1348\",\"type\":\"GroupFilter\"},{\"attributes\":{\"dimension\":1,\"ticker\":{\"id\":\"1327\",\"type\":\"BasicTicker\"}},\"id\":\"1330\",\"type\":\"Grid\"},{\"attributes\":{\"label\":{\"value\":\"HIGH\"},\"renderers\":[{\"id\":\"1353\",\"type\":\"GlyphRenderer\"}]},\"id\":\"1372\",\"type\":\"LegendItem\"},{\"attributes\":{},\"id\":\"1407\",\"type\":\"BasicTickFormatter\"},{\"attributes\":{},\"id\":\"1334\",\"type\":\"SaveTool\"},{\"attributes\":{\"callback\":null},\"id\":\"1313\",\"type\":\"DataRange1d\"},{\"attributes\":{\"label\":{\"value\":\"MODERATE\"},\"renderers\":[{\"id\":\"1365\",\"type\":\"GlyphRenderer\"}]},\"id\":\"1374\",\"type\":\"LegendItem\"},{\"attributes\":{\"callback\":null,\"tooltips\":[[\"x\",\"@x\"],[\"y\",\"@y\"],[\"label\",\"@label\"]]},\"id\":\"1345\",\"type\":\"HoverTool\"},{\"attributes\":{\"label\":{\"value\":\"LOW\"},\"renderers\":[{\"id\":\"1359\",\"type\":\"GlyphRenderer\"}]},\"id\":\"1373\",\"type\":\"LegendItem\"},{\"attributes\":{},\"id\":\"1409\",\"type\":\"BasicTickFormatter\"},{\"attributes\":{\"column_name\":\"label\",\"group\":\"MODERATE\"},\"id\":\"1360\",\"type\":\"GroupFilter\"},{\"attributes\":{\"label\":{\"value\":\"MODIFIER\"},\"renderers\":[{\"id\":\"1371\",\"type\":\"GlyphRenderer\"}]},\"id\":\"1375\",\"type\":\"LegendItem\"},{\"attributes\":{\"filters\":[{\"id\":\"1354\",\"type\":\"GroupFilter\"}],\"source\":{\"id\":\"1346\",\"type\":\"ColumnDataSource\"}},\"id\":\"1355\",\"type\":\"CDSView\"},{\"attributes\":{},\"id\":\"1317\",\"type\":\"LinearScale\"},{\"attributes\":{},\"id\":\"1378\",\"type\":\"LogScale\"},{\"attributes\":{\"filters\":[{\"id\":\"1348\",\"type\":\"GroupFilter\"}],\"source\":{\"id\":\"1346\",\"type\":\"ColumnDataSource\"}},\"id\":\"1349\",\"type\":\"CDSView\"},{\"attributes\":{\"fill_color\":{\"field\":\"label\",\"transform\":{\"id\":\"1347\",\"type\":\"CategoricalColorMapper\"}},\"line_color\":{\"field\":\"label\",\"transform\":{\"id\":\"1347\",\"type\":\"CategoricalColorMapper\"}},\"x\":{\"field\":\"x\"},\"y\":{\"field\":\"y\"}},\"id\":\"1363\",\"type\":\"Circle\"},{\"attributes\":{\"ticker\":{\"id\":\"1322\",\"type\":\"BasicTicker\"}},\"id\":\"1325\",\"type\":\"Grid\"},{\"attributes\":{\"click_policy\":\"hide\",\"items\":[{\"id\":\"1372\",\"type\":\"LegendItem\"},{\"id\":\"1373\",\"type\":\"LegendItem\"},{\"id\":\"1374\",\"type\":\"LegendItem\"},{\"id\":\"1375\",\"type\":\"LegendItem\"}]},\"id\":\"1376\",\"type\":\"Legend\"},{\"attributes\":{\"callback\":null,\"data\":{\"index\":[0,1,2,3,4,5,6,7,8,9,10,11,12,13,14,15,16,17,18,19,20,21,22,23,24,25,26,27,28,29,30,31,32,33,34,35,36,37,38,39,40,41,42,43,44,45,46,47,48,49,50,51,52,53,54,55,56,57,58,59,60,61,62,63,64,65,66,67,68,69,70,71,72,73,74,75,76,77,78,79,80,81,82,83,84,85,86,87,88,89,90,91,92,93,94,95,96,97,98,99,100,101,102,103,104,105,106,107,108,109,110,111,112,113,114,115,116,117,118,119,120,121,122,123,124,125,126,127,128,129,130,131,132,133,134,135,136,137,138,139,140,141,142,143,144,145,146,147,148,149,150,151,152,153,154,155,156,157,158,159,160,161,162,163,164,165,166,167,168,169,170,171,172,173,174,175,176,177,178,179,180,181,182,183,184,185,186,187,188,189,190,191,192,193,194,195,196,197,198,199],\"label\":[\"LOW\",\"LOW\",\"LOW\",\"LOW\",\"LOW\",\"LOW\",\"LOW\",\"LOW\",\"LOW\",\"LOW\",\"LOW\",\"LOW\",\"LOW\",\"LOW\",\"LOW\",\"LOW\",\"LOW\",\"LOW\",\"LOW\",\"LOW\",\"LOW\",\"LOW\",\"LOW\",\"LOW\",\"LOW\",\"LOW\",\"LOW\",\"LOW\",\"LOW\",\"LOW\",\"LOW\",\"LOW\",\"LOW\",\"LOW\",\"LOW\",\"LOW\",\"LOW\",\"LOW\",\"LOW\",\"LOW\",\"LOW\",\"LOW\",\"LOW\",\"LOW\",\"LOW\",\"LOW\",\"LOW\",\"LOW\",\"LOW\",\"LOW\",\"MODIFIER\",\"MODIFIER\",\"MODIFIER\",\"MODIFIER\",\"MODIFIER\",\"MODIFIER\",\"MODIFIER\",\"MODIFIER\",\"MODIFIER\",\"MODIFIER\",\"MODIFIER\",\"MODIFIER\",\"MODIFIER\",\"MODIFIER\",\"MODIFIER\",\"MODIFIER\",\"MODIFIER\",\"MODIFIER\",\"MODIFIER\",\"MODIFIER\",\"MODIFIER\",\"MODIFIER\",\"MODIFIER\",\"MODIFIER\",\"MODIFIER\",\"MODIFIER\",\"MODIFIER\",\"MODIFIER\",\"MODIFIER\",\"MODIFIER\",\"MODIFIER\",\"MODIFIER\",\"MODIFIER\",\"MODIFIER\",\"MODIFIER\",\"MODIFIER\",\"MODIFIER\",\"MODIFIER\",\"MODIFIER\",\"MODIFIER\",\"MODIFIER\",\"MODIFIER\",\"MODIFIER\",\"MODIFIER\",\"MODIFIER\",\"MODIFIER\",\"MODIFIER\",\"MODIFIER\",\"MODIFIER\",\"MODIFIER\",\"MODERATE\",\"MODERATE\",\"MODERATE\",\"MODERATE\",\"MODERATE\",\"MODERATE\",\"MODERATE\",\"MODERATE\",\"MODERATE\",\"MODERATE\",\"MODERATE\",\"MODERATE\",\"MODERATE\",\"MODERATE\",\"MODERATE\",\"MODERATE\",\"MODERATE\",\"MODERATE\",\"MODERATE\",\"MODERATE\",\"MODERATE\",\"MODERATE\",\"MODERATE\",\"MODERATE\",\"MODERATE\",\"MODERATE\",\"MODERATE\",\"MODERATE\",\"MODERATE\",\"MODERATE\",\"MODERATE\",\"MODERATE\",\"MODERATE\",\"MODERATE\",\"MODERATE\",\"MODERATE\",\"MODERATE\",\"MODERATE\",\"MODERATE\",\"MODERATE\",\"MODERATE\",\"MODERATE\",\"MODERATE\",\"MODERATE\",\"MODERATE\",\"MODERATE\",\"MODERATE\",\"MODERATE\",\"MODERATE\",\"MODERATE\",\"HIGH\",\"HIGH\",\"HIGH\",\"HIGH\",\"HIGH\",\"HIGH\",\"HIGH\",\"HIGH\",\"HIGH\",\"HIGH\",\"HIGH\",\"HIGH\",\"HIGH\",\"HIGH\",\"HIGH\",\"HIGH\",\"HIGH\",\"HIGH\",\"HIGH\",\"HIGH\",\"HIGH\",\"HIGH\",\"HIGH\",\"HIGH\",\"HIGH\",\"HIGH\",\"HIGH\",\"HIGH\",\"HIGH\",\"HIGH\",\"HIGH\",\"HIGH\",\"HIGH\",\"HIGH\",\"HIGH\",\"HIGH\",\"HIGH\",\"HIGH\",\"HIGH\",\"HIGH\",\"HIGH\",\"HIGH\",\"HIGH\",\"HIGH\",\"HIGH\",\"HIGH\",\"HIGH\",\"HIGH\",\"HIGH\",\"HIGH\"],\"x\":{\"__ndarray__\":\"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\",\"dtype\":\"float64\",\"shape\":[200]},\"y\":{\"__ndarray__\":\"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\",\"dtype\":\"float64\",\"shape\":[200]}},\"selected\":{\"id\":\"1410\",\"type\":\"Selection\"},\"selection_policy\":{\"id\":\"1411\",\"type\":\"UnionRenderers\"}},\"id\":\"1346\",\"type\":\"ColumnDataSource\"},{\"attributes\":{\"column_name\":\"label\",\"group\":\"LOW\"},\"id\":\"1354\",\"type\":\"GroupFilter\"},{\"attributes\":{\"axis_label\":\"Frequency in population\",\"formatter\":{\"id\":\"1405\",\"type\":\"BasicTickFormatter\"},\"ticker\":{\"id\":\"1327\",\"type\":\"BasicTicker\"}},\"id\":\"1326\",\"type\":\"LinearAxis\"},{\"attributes\":{\"filters\":[{\"id\":\"1366\",\"type\":\"GroupFilter\"}],\"source\":{\"id\":\"1346\",\"type\":\"ColumnDataSource\"}},\"id\":\"1367\",\"type\":\"CDSView\"},{\"attributes\":{},\"id\":\"1411\",\"type\":\"UnionRenderers\"},{\"attributes\":{},\"id\":\"1405\",\"type\":\"BasicTickFormatter\"},{\"attributes\":{},\"id\":\"1322\",\"type\":\"BasicTicker\"},{\"attributes\":{\"column_name\":\"label\",\"group\":\"MODIFIER\"},\"id\":\"1366\",\"type\":\"GroupFilter\"},{\"attributes\":{\"data_source\":{\"id\":\"1346\",\"type\":\"ColumnDataSource\"},\"glyph\":{\"id\":\"1363\",\"type\":\"Circle\"},\"hover_glyph\":null,\"muted_glyph\":null,\"nonselection_glyph\":{\"id\":\"1364\",\"type\":\"Circle\"},\"selection_glyph\":null,\"view\":{\"id\":\"1361\",\"type\":\"CDSView\"}},\"id\":\"1365\",\"type\":\"GlyphRenderer\"},{\"attributes\":{\"callback\":null},\"id\":\"1315\",\"type\":\"DataRange1d\"},{\"attributes\":{},\"id\":\"1332\",\"type\":\"WheelZoomTool\"},{\"attributes\":{\"fill_alpha\":{\"value\":0.1},\"fill_color\":{\"value\":\"#1f77b4\"},\"line_alpha\":{\"value\":0.1},\"line_color\":{\"value\":\"#1f77b4\"},\"x\":{\"field\":\"x\"},\"y\":{\"field\":\"y\"}},\"id\":\"1352\",\"type\":\"Circle\"},{\"attributes\":{\"fill_color\":{\"field\":\"label\",\"transform\":{\"id\":\"1347\",\"type\":\"CategoricalColorMapper\"}},\"line_color\":{\"field\":\"label\",\"transform\":{\"id\":\"1347\",\"type\":\"CategoricalColorMapper\"}},\"x\":{\"field\":\"x\"},\"y\":{\"field\":\"y\"}},\"id\":\"1369\",\"type\":\"Circle\"},{\"attributes\":{\"data_source\":{\"id\":\"1346\",\"type\":\"ColumnDataSource\"},\"glyph\":{\"id\":\"1351\",\"type\":\"Circle\"},\"hover_glyph\":null,\"muted_glyph\":null,\"nonselection_glyph\":{\"id\":\"1352\",\"type\":\"Circle\"},\"selection_glyph\":null,\"view\":{\"id\":\"1349\",\"type\":\"CDSView\"}},\"id\":\"1353\",\"type\":\"GlyphRenderer\"},{\"attributes\":{\"filters\":[{\"id\":\"1360\",\"type\":\"GroupFilter\"}],\"source\":{\"id\":\"1346\",\"type\":\"ColumnDataSource\"}},\"id\":\"1361\",\"type\":\"CDSView\"},{\"attributes\":{\"axis_label\":\"Allele counts\",\"formatter\":{\"id\":\"1409\",\"type\":\"BasicTickFormatter\"},\"ticker\":{\"id\":\"1322\",\"type\":\"BasicTicker\"}},\"id\":\"1321\",\"type\":\"LinearAxis\"},{\"attributes\":{\"data_source\":{\"id\":\"1346\",\"type\":\"ColumnDataSource\"},\"glyph\":{\"id\":\"1357\",\"type\":\"Circle\"},\"hover_glyph\":null,\"muted_glyph\":null,\"nonselection_glyph\":{\"id\":\"1358\",\"type\":\"Circle\"},\"selection_glyph\":null,\"view\":{\"id\":\"1355\",\"type\":\"CDSView\"}},\"id\":\"1359\",\"type\":\"GlyphRenderer\"},{\"attributes\":{\"bottom_units\":\"screen\",\"fill_alpha\":{\"value\":0.5},\"fill_color\":{\"value\":\"lightgrey\"},\"left_units\":\"screen\",\"level\":\"overlay\",\"line_alpha\":{\"value\":1.0},\"line_color\":{\"value\":\"black\"},\"line_dash\":[4,4],\"line_width\":{\"value\":2},\"render_mode\":\"css\",\"right_units\":\"screen\",\"top_units\":\"screen\"},\"id\":\"1412\",\"type\":\"BoxAnnotation\"},{\"attributes\":{\"fill_color\":{\"field\":\"label\",\"transform\":{\"id\":\"1347\",\"type\":\"CategoricalColorMapper\"}},\"line_color\":{\"field\":\"label\",\"transform\":{\"id\":\"1347\",\"type\":\"CategoricalColorMapper\"}},\"x\":{\"field\":\"x\"},\"y\":{\"field\":\"y\"}},\"id\":\"1351\",\"type\":\"Circle\"},{\"attributes\":{\"fill_alpha\":{\"value\":0.1},\"fill_color\":{\"value\":\"#1f77b4\"},\"line_alpha\":{\"value\":0.1},\"line_color\":{\"value\":\"#1f77b4\"},\"x\":{\"field\":\"x\"},\"y\":{\"field\":\"y\"}},\"id\":\"1370\",\"type\":\"Circle\"},{\"attributes\":{},\"id\":\"1336\",\"type\":\"HelpTool\"},{\"attributes\":{},\"id\":\"1410\",\"type\":\"Selection\"},{\"attributes\":{\"fill_alpha\":{\"value\":0.1},\"fill_color\":{\"value\":\"#1f77b4\"},\"line_alpha\":{\"value\":0.1},\"line_color\":{\"value\":\"#1f77b4\"},\"x\":{\"field\":\"x\"},\"y\":{\"field\":\"y\"}},\"id\":\"1358\",\"type\":\"Circle\"},{\"attributes\":{},\"id\":\"1327\",\"type\":\"BasicTicker\"},{\"attributes\":{},\"id\":\"1335\",\"type\":\"ResetTool\"},{\"attributes\":{\"active_drag\":\"auto\",\"active_inspect\":\"auto\",\"active_multi\":null,\"active_scroll\":\"auto\",\"active_tap\":\"auto\",\"tools\":[{\"id\":\"1331\",\"type\":\"PanTool\"},{\"id\":\"1332\",\"type\":\"WheelZoomTool\"},{\"id\":\"1333\",\"type\":\"BoxZoomTool\"},{\"id\":\"1334\",\"type\":\"SaveTool\"},{\"id\":\"1335\",\"type\":\"ResetTool\"},{\"id\":\"1336\",\"type\":\"HelpTool\"},{\"id\":\"1345\",\"type\":\"HoverTool\"}]},\"id\":\"1337\",\"type\":\"Toolbar\"},{\"attributes\":{\"fill_color\":{\"field\":\"label\",\"transform\":{\"id\":\"1347\",\"type\":\"CategoricalColorMapper\"}},\"line_color\":{\"field\":\"label\",\"transform\":{\"id\":\"1347\",\"type\":\"CategoricalColorMapper\"}},\"x\":{\"field\":\"x\"},\"y\":{\"field\":\"y\"}},\"id\":\"1357\",\"type\":\"Circle\"},{\"attributes\":{\"fill_alpha\":{\"value\":0.1},\"fill_color\":{\"value\":\"#1f77b4\"},\"line_alpha\":{\"value\":0.1},\"line_color\":{\"value\":\"#1f77b4\"},\"x\":{\"field\":\"x\"},\"y\":{\"field\":\"y\"}},\"id\":\"1364\",\"type\":\"Circle\"},{\"attributes\":{\"overlay\":{\"id\":\"1412\",\"type\":\"BoxAnnotation\"}},\"id\":\"1333\",\"type\":\"BoxZoomTool\"}],\"root_ids\":[\"1311\"]},\"title\":\"Bokeh Application\",\"version\":\"1.2.0\"}};\n",
       "  var render_items = [{\"docid\":\"d66ee508-e068-417d-91bc-e53c1252e70c\",\"roots\":{\"1311\":\"f1c7be81-4732-4e90-ada7-dd8e7542160a\"}}];\n",
       "  root.Bokeh.embed.embed_items_notebook(docs_json, render_items);\n",
       "\n",
       "  }\n",
       "  if (root.Bokeh !== undefined) {\n",
       "    embed_document(root);\n",
       "  } else {\n",
       "    var attempts = 0;\n",
       "    var timer = setInterval(function(root) {\n",
       "      if (root.Bokeh !== undefined) {\n",
       "        embed_document(root);\n",
       "        clearInterval(timer);\n",
       "      }\n",
       "      attempts++;\n",
       "      if (attempts > 100) {\n",
       "        console.log(\"Bokeh: ERROR: Unable to run BokehJS code because BokehJS library is missing\");\n",
       "        clearInterval(timer);\n",
       "      }\n",
       "    }, 10, root)\n",
       "  }\n",
       "})(window);"
      ],
      "application/vnd.bokehjs_exec.v0+json": ""
     },
     "metadata": {
      "application/vnd.bokehjs_exec.v0+json": {
       "id": "1311"
      }
     },
     "output_type": "display_data"
    }
   ],
   "source": [
    "p = hl.plot.scatter(ffs_ht.af, ffs_ht.ff, label=ffs_ht.strata,\n",
    "                    xlabel='Allele counts', ylabel='Frequency in population',\n",
    "                    collect_all=True)\n",
    "p.plot_width = 800\n",
    "p.plot_height = 400\n",
    "p.y_scale = LogScale()\n",
    "show(p)"
   ]
  },
  {
   "cell_type": "markdown",
   "id": "eb2ccd4c-d8ba-4f92-b3f8-7bbb3120f149",
   "metadata": {},
   "source": [
    "### FFS stratified by variant effect"
   ]
  },
  {
   "cell_type": "code",
   "execution_count": 142,
   "id": "15ec19ef-665e-4645-8047-21d86baa97b0",
   "metadata": {},
   "outputs": [],
   "source": [
    "n_bins = 100\n",
    "first = True\n",
    "for effect in ['synonymous_variant', 'missense_variant', 'frameshift_variant']:\n",
    "    temp_ht = ht.filter(ht.effect1 == effect)\n",
    "    temp_ffs_ht = ffs(n_bins, temp_ht, temp_ht.info.fae)\n",
    "    temp_ffs_ht = temp_ffs_ht.annotate(strata=effect)\n",
    "    \n",
    "    if first:\n",
    "        ffs_ht = temp_ffs_ht\n",
    "        first = False\n",
    "    else:\n",
    "        ffs_ht = ffs_ht.union(temp_ffs_ht)"
   ]
  },
  {
   "cell_type": "code",
   "execution_count": 141,
   "id": "68cbe8b3-2780-4443-9902-a4c626ede8b3",
   "metadata": {},
   "outputs": [
    {
     "data": {
      "text/html": [
       "\n",
       "\n",
       "\n",
       "\n",
       "\n",
       "\n",
       "  <div class=\"bk-root\" id=\"636916e8-e5d4-40e0-af69-1f196bba7261\" data-root-id=\"2158\"></div>\n"
      ]
     },
     "metadata": {},
     "output_type": "display_data"
    },
    {
     "data": {
      "application/javascript": [
       "(function(root) {\n",
       "  function embed_document(root) {\n",
       "    \n",
       "  var docs_json = {\"2954c776-dab2-408a-b6d9-044909b5bacc\":{\"roots\":{\"references\":[{\"attributes\":{\"below\":[{\"id\":\"2168\",\"type\":\"LinearAxis\"}],\"center\":[{\"id\":\"2172\",\"type\":\"Grid\"},{\"id\":\"2177\",\"type\":\"Grid\"}],\"left\":[{\"id\":\"2173\",\"type\":\"LinearAxis\"},{\"id\":\"2209\",\"type\":\"Legend\"},{\"id\":\"2210\",\"type\":\"ColorBar\"}],\"plot_height\":400,\"plot_width\":800,\"renderers\":[{\"id\":\"2200\",\"type\":\"GlyphRenderer\"},{\"id\":\"2206\",\"type\":\"GlyphRenderer\"}],\"title\":null,\"toolbar\":{\"id\":\"2184\",\"type\":\"Toolbar\"},\"x_range\":{\"id\":\"2160\",\"type\":\"DataRange1d\"},\"x_scale\":{\"id\":\"2164\",\"type\":\"LinearScale\"},\"y_range\":{\"id\":\"2162\",\"type\":\"DataRange1d\"},\"y_scale\":{\"id\":\"2211\",\"type\":\"LogScale\"}},\"id\":\"2158\",\"subtype\":\"Figure\",\"type\":\"Plot\"},{\"attributes\":{},\"id\":\"2289\",\"type\":\"BasicTicker\"},{\"attributes\":{},\"id\":\"2211\",\"type\":\"LogScale\"},{\"attributes\":{\"fill_color\":{\"field\":\"label\",\"transform\":{\"id\":\"2194\",\"type\":\"CategoricalColorMapper\"}},\"line_color\":{\"field\":\"label\",\"transform\":{\"id\":\"2194\",\"type\":\"CategoricalColorMapper\"}},\"x\":{\"field\":\"x\"},\"y\":{\"field\":\"y\"}},\"id\":\"2204\",\"type\":\"Circle\"},{\"attributes\":{},\"id\":\"2178\",\"type\":\"PanTool\"},{\"attributes\":{\"filters\":[{\"id\":\"2201\",\"type\":\"GroupFilter\"}],\"source\":{\"id\":\"2193\",\"type\":\"ColumnDataSource\"}},\"id\":\"2202\",\"type\":\"CDSView\"},{\"attributes\":{},\"id\":\"2293\",\"type\":\"Selection\"},{\"attributes\":{\"bottom_units\":\"screen\",\"fill_alpha\":{\"value\":0.5},\"fill_color\":{\"value\":\"lightgrey\"},\"left_units\":\"screen\",\"level\":\"overlay\",\"line_alpha\":{\"value\":1.0},\"line_color\":{\"value\":\"black\"},\"line_dash\":[4,4],\"line_width\":{\"value\":2},\"render_mode\":\"css\",\"right_units\":\"screen\",\"top_units\":\"screen\"},\"id\":\"2295\",\"type\":\"BoxAnnotation\"},{\"attributes\":{},\"id\":\"2288\",\"type\":\"BasicTickFormatter\"},{\"attributes\":{\"data_source\":{\"id\":\"2193\",\"type\":\"ColumnDataSource\"},\"glyph\":{\"id\":\"2204\",\"type\":\"Circle\"},\"hover_glyph\":null,\"muted_glyph\":null,\"nonselection_glyph\":{\"id\":\"2205\",\"type\":\"Circle\"},\"selection_glyph\":null,\"view\":{\"id\":\"2202\",\"type\":\"CDSView\"}},\"id\":\"2206\",\"type\":\"GlyphRenderer\"},{\"attributes\":{\"callback\":null},\"id\":\"2160\",\"type\":\"DataRange1d\"},{\"attributes\":{\"overlay\":{\"id\":\"2295\",\"type\":\"BoxAnnotation\"}},\"id\":\"2180\",\"type\":\"BoxZoomTool\"},{\"attributes\":{},\"id\":\"2179\",\"type\":\"WheelZoomTool\"},{\"attributes\":{\"click_policy\":\"hide\",\"items\":[{\"id\":\"2207\",\"type\":\"LegendItem\"},{\"id\":\"2208\",\"type\":\"LegendItem\"}]},\"id\":\"2209\",\"type\":\"Legend\"},{\"attributes\":{},\"id\":\"2290\",\"type\":\"BasicTickFormatter\"},{\"attributes\":{},\"id\":\"2182\",\"type\":\"ResetTool\"},{\"attributes\":{},\"id\":\"2292\",\"type\":\"BasicTickFormatter\"},{\"attributes\":{},\"id\":\"2164\",\"type\":\"LinearScale\"},{\"attributes\":{\"fill_alpha\":{\"value\":0.1},\"fill_color\":{\"value\":\"#1f77b4\"},\"line_alpha\":{\"value\":0.1},\"line_color\":{\"value\":\"#1f77b4\"},\"x\":{\"field\":\"x\"},\"y\":{\"field\":\"y\"}},\"id\":\"2205\",\"type\":\"Circle\"},{\"attributes\":{},\"id\":\"2183\",\"type\":\"HelpTool\"},{\"attributes\":{},\"id\":\"2181\",\"type\":\"SaveTool\"},{\"attributes\":{\"callback\":null},\"id\":\"2162\",\"type\":\"DataRange1d\"},{\"attributes\":{\"callback\":null,\"tooltips\":[[\"x\",\"@x\"],[\"y\",\"@y\"],[\"label\",\"@label\"]]},\"id\":\"2192\",\"type\":\"HoverTool\"},{\"attributes\":{\"axis_label\":\"Allele counts\",\"formatter\":{\"id\":\"2292\",\"type\":\"BasicTickFormatter\"},\"ticker\":{\"id\":\"2169\",\"type\":\"BasicTicker\"}},\"id\":\"2168\",\"type\":\"LinearAxis\"},{\"attributes\":{\"dimension\":1,\"ticker\":{\"id\":\"2174\",\"type\":\"BasicTicker\"}},\"id\":\"2177\",\"type\":\"Grid\"},{\"attributes\":{\"label\":{\"value\":\"gnomAD\"},\"renderers\":[{\"id\":\"2206\",\"type\":\"GlyphRenderer\"}]},\"id\":\"2208\",\"type\":\"LegendItem\"},{\"attributes\":{},\"id\":\"2169\",\"type\":\"BasicTicker\"},{\"attributes\":{\"filters\":[{\"id\":\"2195\",\"type\":\"GroupFilter\"}],\"source\":{\"id\":\"2193\",\"type\":\"ColumnDataSource\"}},\"id\":\"2196\",\"type\":\"CDSView\"},{\"attributes\":{\"ticker\":{\"id\":\"2169\",\"type\":\"BasicTicker\"}},\"id\":\"2172\",\"type\":\"Grid\"},{\"attributes\":{\"data_source\":{\"id\":\"2193\",\"type\":\"ColumnDataSource\"},\"glyph\":{\"id\":\"2198\",\"type\":\"Circle\"},\"hover_glyph\":null,\"muted_glyph\":null,\"nonselection_glyph\":{\"id\":\"2199\",\"type\":\"Circle\"},\"selection_glyph\":null,\"view\":{\"id\":\"2196\",\"type\":\"CDSView\"}},\"id\":\"2200\",\"type\":\"GlyphRenderer\"},{\"attributes\":{\"callback\":null,\"data\":{\"index\":[0,1,2,3,4,5,6,7,8,9,10,11,12,13,14,15,16,17,18,19,20,21,22,23,24,25,26,27,28,29,30,31,32,33,34,35,36,37,38,39,40,41,42,43,44,45,46,47,48,49,50,51,52,53,54,55,56,57,58,59,60,61,62,63,64,65,66,67,68,69,70,71,72,73,74,75,76,77,78,79,80,81,82,83,84,85,86,87,88,89,90,91,92,93,94,95,96,97,98,99,100,101,102,103,104,105,106,107,108,109,110,111,112,113,114,115,116,117,118,119,120,121,122,123,124,125,126,127,128,129,130,131,132,133,134,135,136,137,138,139,140,141,142,143,144,145,146,147,148,149,150,151,152,153,154,155,156,157,158,159,160,161,162,163,164,165,166,167,168,169,170,171,172,173,174,175,176,177,178,179,180,181,182,183,184,185,186,187,188,189,190,191,192,193,194,195,196,197,198,199],\"label\":[\"FarGen\",\"FarGen\",\"FarGen\",\"FarGen\",\"FarGen\",\"FarGen\",\"FarGen\",\"FarGen\",\"FarGen\",\"FarGen\",\"FarGen\",\"FarGen\",\"FarGen\",\"FarGen\",\"FarGen\",\"FarGen\",\"FarGen\",\"FarGen\",\"FarGen\",\"FarGen\",\"FarGen\",\"FarGen\",\"FarGen\",\"FarGen\",\"FarGen\",\"FarGen\",\"FarGen\",\"FarGen\",\"FarGen\",\"FarGen\",\"FarGen\",\"FarGen\",\"FarGen\",\"FarGen\",\"FarGen\",\"FarGen\",\"FarGen\",\"FarGen\",\"FarGen\",\"FarGen\",\"FarGen\",\"FarGen\",\"FarGen\",\"FarGen\",\"FarGen\",\"FarGen\",\"FarGen\",\"FarGen\",\"FarGen\",\"FarGen\",\"FarGen\",\"FarGen\",\"FarGen\",\"FarGen\",\"FarGen\",\"FarGen\",\"FarGen\",\"FarGen\",\"FarGen\",\"FarGen\",\"FarGen\",\"FarGen\",\"FarGen\",\"FarGen\",\"FarGen\",\"FarGen\",\"FarGen\",\"FarGen\",\"FarGen\",\"FarGen\",\"FarGen\",\"FarGen\",\"FarGen\",\"FarGen\",\"FarGen\",\"FarGen\",\"FarGen\",\"FarGen\",\"FarGen\",\"FarGen\",\"FarGen\",\"FarGen\",\"FarGen\",\"FarGen\",\"FarGen\",\"FarGen\",\"FarGen\",\"FarGen\",\"FarGen\",\"FarGen\",\"FarGen\",\"FarGen\",\"FarGen\",\"FarGen\",\"FarGen\",\"FarGen\",\"FarGen\",\"FarGen\",\"FarGen\",\"FarGen\",\"gnomAD\",\"gnomAD\",\"gnomAD\",\"gnomAD\",\"gnomAD\",\"gnomAD\",\"gnomAD\",\"gnomAD\",\"gnomAD\",\"gnomAD\",\"gnomAD\",\"gnomAD\",\"gnomAD\",\"gnomAD\",\"gnomAD\",\"gnomAD\",\"gnomAD\",\"gnomAD\",\"gnomAD\",\"gnomAD\",\"gnomAD\",\"gnomAD\",\"gnomAD\",\"gnomAD\",\"gnomAD\",\"gnomAD\",\"gnomAD\",\"gnomAD\",\"gnomAD\",\"gnomAD\",\"gnomAD\",\"gnomAD\",\"gnomAD\",\"gnomAD\",\"gnomAD\",\"gnomAD\",\"gnomAD\",\"gnomAD\",\"gnomAD\",\"gnomAD\",\"gnomAD\",\"gnomAD\",\"gnomAD\",\"gnomAD\",\"gnomAD\",\"gnomAD\",\"gnomAD\",\"gnomAD\",\"gnomAD\",\"gnomAD\",\"gnomAD\",\"gnomAD\",\"gnomAD\",\"gnomAD\",\"gnomAD\",\"gnomAD\",\"gnomAD\",\"gnomAD\",\"gnomAD\",\"gnomAD\",\"gnomAD\",\"gnomAD\",\"gnomAD\",\"gnomAD\",\"gnomAD\",\"gnomAD\",\"gnomAD\",\"gnomAD\",\"gnomAD\",\"gnomAD\",\"gnomAD\",\"gnomAD\",\"gnomAD\",\"gnomAD\",\"gnomAD\",\"gnomAD\",\"gnomAD\",\"gnomAD\",\"gnomAD\",\"gnomAD\",\"gnomAD\",\"gnomAD\",\"gnomAD\",\"gnomAD\",\"gnomAD\",\"gnomAD\",\"gnomAD\",\"gnomAD\",\"gnomAD\",\"gnomAD\",\"gnomAD\",\"gnomAD\",\"gnomAD\",\"gnomAD\",\"gnomAD\",\"gnomAD\",\"gnomAD\",\"gnomAD\",\"gnomAD\",\"gnomAD\"],\"x\":{\"__ndarray__\":\"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\",\"dtype\":\"float64\",\"shape\":[200]},\"y\":{\"__ndarray__\":\"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\",\"dtype\":\"float64\",\"shape\":[200]}},\"selected\":{\"id\":\"2293\",\"type\":\"Selection\"},\"selection_policy\":{\"id\":\"2294\",\"type\":\"UnionRenderers\"}},\"id\":\"2193\",\"type\":\"ColumnDataSource\"},{\"attributes\":{\"label\":{\"value\":\"FarGen\"},\"renderers\":[{\"id\":\"2200\",\"type\":\"GlyphRenderer\"}]},\"id\":\"2207\",\"type\":\"LegendItem\"},{\"attributes\":{\"factors\":[\"gnomAD\",\"FarGen\"],\"palette\":[\"#1f77b4\",\"#ff7f0e\",\"#2ca02c\",\"#d62728\",\"#9467bd\",\"#8c564b\",\"#e377c2\",\"#7f7f7f\",\"#bcbd22\",\"#17becf\"]},\"id\":\"2194\",\"type\":\"CategoricalColorMapper\"},{\"attributes\":{\"axis_label\":\"Frequency in population\",\"formatter\":{\"id\":\"2288\",\"type\":\"BasicTickFormatter\"},\"ticker\":{\"id\":\"2174\",\"type\":\"BasicTicker\"}},\"id\":\"2173\",\"type\":\"LinearAxis\"},{\"attributes\":{\"column_name\":\"label\",\"group\":\"gnomAD\"},\"id\":\"2201\",\"type\":\"GroupFilter\"},{\"attributes\":{\"fill_color\":{\"field\":\"label\",\"transform\":{\"id\":\"2194\",\"type\":\"CategoricalColorMapper\"}},\"line_color\":{\"field\":\"label\",\"transform\":{\"id\":\"2194\",\"type\":\"CategoricalColorMapper\"}},\"x\":{\"field\":\"x\"},\"y\":{\"field\":\"y\"}},\"id\":\"2198\",\"type\":\"Circle\"},{\"attributes\":{},\"id\":\"2174\",\"type\":\"BasicTicker\"},{\"attributes\":{\"column_name\":\"label\",\"group\":\"FarGen\"},\"id\":\"2195\",\"type\":\"GroupFilter\"},{\"attributes\":{\"fill_alpha\":{\"value\":0.1},\"fill_color\":{\"value\":\"#1f77b4\"},\"line_alpha\":{\"value\":0.1},\"line_color\":{\"value\":\"#1f77b4\"},\"x\":{\"field\":\"x\"},\"y\":{\"field\":\"y\"}},\"id\":\"2199\",\"type\":\"Circle\"},{\"attributes\":{},\"id\":\"2294\",\"type\":\"UnionRenderers\"},{\"attributes\":{\"color_mapper\":null,\"formatter\":{\"id\":\"2290\",\"type\":\"BasicTickFormatter\"},\"ticker\":{\"id\":\"2289\",\"type\":\"BasicTicker\"},\"visible\":false},\"id\":\"2210\",\"type\":\"ColorBar\"},{\"attributes\":{\"active_drag\":\"auto\",\"active_inspect\":\"auto\",\"active_multi\":null,\"active_scroll\":\"auto\",\"active_tap\":\"auto\",\"tools\":[{\"id\":\"2178\",\"type\":\"PanTool\"},{\"id\":\"2179\",\"type\":\"WheelZoomTool\"},{\"id\":\"2180\",\"type\":\"BoxZoomTool\"},{\"id\":\"2181\",\"type\":\"SaveTool\"},{\"id\":\"2182\",\"type\":\"ResetTool\"},{\"id\":\"2183\",\"type\":\"HelpTool\"},{\"id\":\"2192\",\"type\":\"HoverTool\"}]},\"id\":\"2184\",\"type\":\"Toolbar\"}],\"root_ids\":[\"2158\"]},\"title\":\"Bokeh Application\",\"version\":\"1.2.0\"}};\n",
       "  var render_items = [{\"docid\":\"2954c776-dab2-408a-b6d9-044909b5bacc\",\"roots\":{\"2158\":\"636916e8-e5d4-40e0-af69-1f196bba7261\"}}];\n",
       "  root.Bokeh.embed.embed_items_notebook(docs_json, render_items);\n",
       "\n",
       "  }\n",
       "  if (root.Bokeh !== undefined) {\n",
       "    embed_document(root);\n",
       "  } else {\n",
       "    var attempts = 0;\n",
       "    var timer = setInterval(function(root) {\n",
       "      if (root.Bokeh !== undefined) {\n",
       "        embed_document(root);\n",
       "        clearInterval(timer);\n",
       "      }\n",
       "      attempts++;\n",
       "      if (attempts > 100) {\n",
       "        console.log(\"Bokeh: ERROR: Unable to run BokehJS code because BokehJS library is missing\");\n",
       "        clearInterval(timer);\n",
       "      }\n",
       "    }, 10, root)\n",
       "  }\n",
       "})(window);"
      ],
      "application/vnd.bokehjs_exec.v0+json": ""
     },
     "metadata": {
      "application/vnd.bokehjs_exec.v0+json": {
       "id": "2158"
      }
     },
     "output_type": "display_data"
    }
   ],
   "source": [
    "p = hl.plot.scatter(ffs_ht.af, ffs_ht.ff, label=ffs_ht.strata,\n",
    "                    xlabel='Allele counts', ylabel='Frequency in population',\n",
    "                    collect_all=True)\n",
    "p.plot_width = 800\n",
    "p.plot_height = 400\n",
    "p.y_scale = LogScale()\n",
    "show(p)"
   ]
  },
  {
   "cell_type": "code",
   "execution_count": null,
   "id": "fab46aa4-3407-4643-bb29-578440209f30",
   "metadata": {},
   "outputs": [],
   "source": []
  }
 ],
 "metadata": {
  "kernelspec": {
   "display_name": "Python [conda env:fargen-1-exome]",
   "language": "python",
   "name": "conda-env-fargen-1-exome-py"
  },
  "language_info": {
   "codemirror_mode": {
    "name": "ipython",
    "version": 3
   },
   "file_extension": ".py",
   "mimetype": "text/x-python",
   "name": "python",
   "nbconvert_exporter": "python",
   "pygments_lexer": "ipython3",
   "version": "3.7.10"
  }
 },
 "nbformat": 4,
 "nbformat_minor": 5
}
