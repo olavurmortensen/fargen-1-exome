{
 "cells": [
  {
   "cell_type": "markdown",
   "id": "b0ad220f-8db8-40bd-8c69-803f0b01b153",
   "metadata": {},
   "source": [
    "# Site-Frequency Spectrum"
   ]
  },
  {
   "cell_type": "code",
   "execution_count": 1,
   "id": "6d490832-7263-4d5a-b8ed-c7703a9b524e",
   "metadata": {},
   "outputs": [
    {
     "name": "stderr",
     "output_type": "stream",
     "text": [
      "Running on Apache Spark version 2.4.1\n",
      "SparkUI available at http://hms-beagle-848846b477-48ks9:4042\n",
      "Welcome to\n",
      "     __  __     <>__\n",
      "    / /_/ /__  __/ /\n",
      "   / __  / _ `/ / /\n",
      "  /_/ /_/\\_,_/_/_/   version 0.2.61-3c86d3ba497a\n",
      "LOGGING: writing to /home/olavur/experiments/2020-11-13_fargen1_exome_analysis/fargen-1-exome/notebooks/qc/hail-20210630-1321-0.2.61-3c86d3ba497a.log\n"
     ]
    }
   ],
   "source": [
    "import hail as hl\n",
    "hl.init(spark_conf={'spark.driver.memory': '100g'}, tmp_dir='/home/olavur/tmp')"
   ]
  },
  {
   "cell_type": "code",
   "execution_count": 2,
   "id": "8ef6d6c8-704e-46f7-8096-59e23b588dc2",
   "metadata": {},
   "outputs": [
    {
     "data": {
      "text/html": [
       "\n",
       "    <div class=\"bk-root\">\n",
       "        <a href=\"https://bokeh.pydata.org\" target=\"_blank\" class=\"bk-logo bk-logo-small bk-logo-notebook\"></a>\n",
       "        <span id=\"1001\">Loading BokehJS ...</span>\n",
       "    </div>"
      ]
     },
     "metadata": {},
     "output_type": "display_data"
    },
    {
     "data": {
      "application/javascript": [
       "\n",
       "(function(root) {\n",
       "  function now() {\n",
       "    return new Date();\n",
       "  }\n",
       "\n",
       "  var force = true;\n",
       "\n",
       "  if (typeof root._bokeh_onload_callbacks === \"undefined\" || force === true) {\n",
       "    root._bokeh_onload_callbacks = [];\n",
       "    root._bokeh_is_loading = undefined;\n",
       "  }\n",
       "\n",
       "  var JS_MIME_TYPE = 'application/javascript';\n",
       "  var HTML_MIME_TYPE = 'text/html';\n",
       "  var EXEC_MIME_TYPE = 'application/vnd.bokehjs_exec.v0+json';\n",
       "  var CLASS_NAME = 'output_bokeh rendered_html';\n",
       "\n",
       "  /**\n",
       "   * Render data to the DOM node\n",
       "   */\n",
       "  function render(props, node) {\n",
       "    var script = document.createElement(\"script\");\n",
       "    node.appendChild(script);\n",
       "  }\n",
       "\n",
       "  /**\n",
       "   * Handle when an output is cleared or removed\n",
       "   */\n",
       "  function handleClearOutput(event, handle) {\n",
       "    var cell = handle.cell;\n",
       "\n",
       "    var id = cell.output_area._bokeh_element_id;\n",
       "    var server_id = cell.output_area._bokeh_server_id;\n",
       "    // Clean up Bokeh references\n",
       "    if (id != null && id in Bokeh.index) {\n",
       "      Bokeh.index[id].model.document.clear();\n",
       "      delete Bokeh.index[id];\n",
       "    }\n",
       "\n",
       "    if (server_id !== undefined) {\n",
       "      // Clean up Bokeh references\n",
       "      var cmd = \"from bokeh.io.state import curstate; print(curstate().uuid_to_server['\" + server_id + \"'].get_sessions()[0].document.roots[0]._id)\";\n",
       "      cell.notebook.kernel.execute(cmd, {\n",
       "        iopub: {\n",
       "          output: function(msg) {\n",
       "            var id = msg.content.text.trim();\n",
       "            if (id in Bokeh.index) {\n",
       "              Bokeh.index[id].model.document.clear();\n",
       "              delete Bokeh.index[id];\n",
       "            }\n",
       "          }\n",
       "        }\n",
       "      });\n",
       "      // Destroy server and session\n",
       "      var cmd = \"import bokeh.io.notebook as ion; ion.destroy_server('\" + server_id + \"')\";\n",
       "      cell.notebook.kernel.execute(cmd);\n",
       "    }\n",
       "  }\n",
       "\n",
       "  /**\n",
       "   * Handle when a new output is added\n",
       "   */\n",
       "  function handleAddOutput(event, handle) {\n",
       "    var output_area = handle.output_area;\n",
       "    var output = handle.output;\n",
       "\n",
       "    // limit handleAddOutput to display_data with EXEC_MIME_TYPE content only\n",
       "    if ((output.output_type != \"display_data\") || (!output.data.hasOwnProperty(EXEC_MIME_TYPE))) {\n",
       "      return\n",
       "    }\n",
       "\n",
       "    var toinsert = output_area.element.find(\".\" + CLASS_NAME.split(' ')[0]);\n",
       "\n",
       "    if (output.metadata[EXEC_MIME_TYPE][\"id\"] !== undefined) {\n",
       "      toinsert[toinsert.length - 1].firstChild.textContent = output.data[JS_MIME_TYPE];\n",
       "      // store reference to embed id on output_area\n",
       "      output_area._bokeh_element_id = output.metadata[EXEC_MIME_TYPE][\"id\"];\n",
       "    }\n",
       "    if (output.metadata[EXEC_MIME_TYPE][\"server_id\"] !== undefined) {\n",
       "      var bk_div = document.createElement(\"div\");\n",
       "      bk_div.innerHTML = output.data[HTML_MIME_TYPE];\n",
       "      var script_attrs = bk_div.children[0].attributes;\n",
       "      for (var i = 0; i < script_attrs.length; i++) {\n",
       "        toinsert[toinsert.length - 1].firstChild.setAttribute(script_attrs[i].name, script_attrs[i].value);\n",
       "      }\n",
       "      // store reference to server id on output_area\n",
       "      output_area._bokeh_server_id = output.metadata[EXEC_MIME_TYPE][\"server_id\"];\n",
       "    }\n",
       "  }\n",
       "\n",
       "  function register_renderer(events, OutputArea) {\n",
       "\n",
       "    function append_mime(data, metadata, element) {\n",
       "      // create a DOM node to render to\n",
       "      var toinsert = this.create_output_subarea(\n",
       "        metadata,\n",
       "        CLASS_NAME,\n",
       "        EXEC_MIME_TYPE\n",
       "      );\n",
       "      this.keyboard_manager.register_events(toinsert);\n",
       "      // Render to node\n",
       "      var props = {data: data, metadata: metadata[EXEC_MIME_TYPE]};\n",
       "      render(props, toinsert[toinsert.length - 1]);\n",
       "      element.append(toinsert);\n",
       "      return toinsert\n",
       "    }\n",
       "\n",
       "    /* Handle when an output is cleared or removed */\n",
       "    events.on('clear_output.CodeCell', handleClearOutput);\n",
       "    events.on('delete.Cell', handleClearOutput);\n",
       "\n",
       "    /* Handle when a new output is added */\n",
       "    events.on('output_added.OutputArea', handleAddOutput);\n",
       "\n",
       "    /**\n",
       "     * Register the mime type and append_mime function with output_area\n",
       "     */\n",
       "    OutputArea.prototype.register_mime_type(EXEC_MIME_TYPE, append_mime, {\n",
       "      /* Is output safe? */\n",
       "      safe: true,\n",
       "      /* Index of renderer in `output_area.display_order` */\n",
       "      index: 0\n",
       "    });\n",
       "  }\n",
       "\n",
       "  // register the mime type if in Jupyter Notebook environment and previously unregistered\n",
       "  if (root.Jupyter !== undefined) {\n",
       "    var events = require('base/js/events');\n",
       "    var OutputArea = require('notebook/js/outputarea').OutputArea;\n",
       "\n",
       "    if (OutputArea.prototype.mime_types().indexOf(EXEC_MIME_TYPE) == -1) {\n",
       "      register_renderer(events, OutputArea);\n",
       "    }\n",
       "  }\n",
       "\n",
       "  \n",
       "  if (typeof (root._bokeh_timeout) === \"undefined\" || force === true) {\n",
       "    root._bokeh_timeout = Date.now() + 5000;\n",
       "    root._bokeh_failed_load = false;\n",
       "  }\n",
       "\n",
       "  var NB_LOAD_WARNING = {'data': {'text/html':\n",
       "     \"<div style='background-color: #fdd'>\\n\"+\n",
       "     \"<p>\\n\"+\n",
       "     \"BokehJS does not appear to have successfully loaded. If loading BokehJS from CDN, this \\n\"+\n",
       "     \"may be due to a slow or bad network connection. Possible fixes:\\n\"+\n",
       "     \"</p>\\n\"+\n",
       "     \"<ul>\\n\"+\n",
       "     \"<li>re-rerun `output_notebook()` to attempt to load from CDN again, or</li>\\n\"+\n",
       "     \"<li>use INLINE resources instead, as so:</li>\\n\"+\n",
       "     \"</ul>\\n\"+\n",
       "     \"<code>\\n\"+\n",
       "     \"from bokeh.resources import INLINE\\n\"+\n",
       "     \"output_notebook(resources=INLINE)\\n\"+\n",
       "     \"</code>\\n\"+\n",
       "     \"</div>\"}};\n",
       "\n",
       "  function display_loaded() {\n",
       "    var el = document.getElementById(\"1001\");\n",
       "    if (el != null) {\n",
       "      el.textContent = \"BokehJS is loading...\";\n",
       "    }\n",
       "    if (root.Bokeh !== undefined) {\n",
       "      if (el != null) {\n",
       "        el.textContent = \"BokehJS \" + root.Bokeh.version + \" successfully loaded.\";\n",
       "      }\n",
       "    } else if (Date.now() < root._bokeh_timeout) {\n",
       "      setTimeout(display_loaded, 100)\n",
       "    }\n",
       "  }\n",
       "\n",
       "\n",
       "  function run_callbacks() {\n",
       "    try {\n",
       "      root._bokeh_onload_callbacks.forEach(function(callback) {\n",
       "        if (callback != null)\n",
       "          callback();\n",
       "      });\n",
       "    } finally {\n",
       "      delete root._bokeh_onload_callbacks\n",
       "    }\n",
       "    console.debug(\"Bokeh: all callbacks have finished\");\n",
       "  }\n",
       "\n",
       "  function load_libs(css_urls, js_urls, callback) {\n",
       "    if (css_urls == null) css_urls = [];\n",
       "    if (js_urls == null) js_urls = [];\n",
       "\n",
       "    root._bokeh_onload_callbacks.push(callback);\n",
       "    if (root._bokeh_is_loading > 0) {\n",
       "      console.debug(\"Bokeh: BokehJS is being loaded, scheduling callback at\", now());\n",
       "      return null;\n",
       "    }\n",
       "    if (js_urls == null || js_urls.length === 0) {\n",
       "      run_callbacks();\n",
       "      return null;\n",
       "    }\n",
       "    console.debug(\"Bokeh: BokehJS not loaded, scheduling load and callback at\", now());\n",
       "    root._bokeh_is_loading = css_urls.length + js_urls.length;\n",
       "\n",
       "    function on_load() {\n",
       "      root._bokeh_is_loading--;\n",
       "      if (root._bokeh_is_loading === 0) {\n",
       "        console.debug(\"Bokeh: all BokehJS libraries/stylesheets loaded\");\n",
       "        run_callbacks()\n",
       "      }\n",
       "    }\n",
       "\n",
       "    function on_error() {\n",
       "      console.error(\"failed to load \" + url);\n",
       "    }\n",
       "\n",
       "    for (var i = 0; i < css_urls.length; i++) {\n",
       "      var url = css_urls[i];\n",
       "      const element = document.createElement(\"link\");\n",
       "      element.onload = on_load;\n",
       "      element.onerror = on_error;\n",
       "      element.rel = \"stylesheet\";\n",
       "      element.type = \"text/css\";\n",
       "      element.href = url;\n",
       "      console.debug(\"Bokeh: injecting link tag for BokehJS stylesheet: \", url);\n",
       "      document.body.appendChild(element);\n",
       "    }\n",
       "\n",
       "    for (var i = 0; i < js_urls.length; i++) {\n",
       "      var url = js_urls[i];\n",
       "      var element = document.createElement('script');\n",
       "      element.onload = on_load;\n",
       "      element.onerror = on_error;\n",
       "      element.async = false;\n",
       "      element.src = url;\n",
       "      console.debug(\"Bokeh: injecting script tag for BokehJS library: \", url);\n",
       "      document.head.appendChild(element);\n",
       "    }\n",
       "  };var element = document.getElementById(\"1001\");\n",
       "  if (element == null) {\n",
       "    console.error(\"Bokeh: ERROR: autoload.js configured with elementid '1001' but no matching script tag was found. \")\n",
       "    return false;\n",
       "  }\n",
       "\n",
       "  function inject_raw_css(css) {\n",
       "    const element = document.createElement(\"style\");\n",
       "    element.appendChild(document.createTextNode(css));\n",
       "    document.body.appendChild(element);\n",
       "  }\n",
       "\n",
       "  var js_urls = [\"https://cdn.pydata.org/bokeh/release/bokeh-1.2.0.min.js\", \"https://cdn.pydata.org/bokeh/release/bokeh-widgets-1.2.0.min.js\", \"https://cdn.pydata.org/bokeh/release/bokeh-tables-1.2.0.min.js\", \"https://cdn.pydata.org/bokeh/release/bokeh-gl-1.2.0.min.js\"];\n",
       "  var css_urls = [\"https://cdn.pydata.org/bokeh/release/bokeh-1.2.0.min.css\", \"https://cdn.pydata.org/bokeh/release/bokeh-widgets-1.2.0.min.css\", \"https://cdn.pydata.org/bokeh/release/bokeh-tables-1.2.0.min.css\"];\n",
       "\n",
       "  var inline_js = [\n",
       "    function(Bokeh) {\n",
       "      Bokeh.set_log_level(\"info\");\n",
       "    },\n",
       "    \n",
       "    function(Bokeh) {\n",
       "      \n",
       "    },\n",
       "    function(Bokeh) {} // ensure no trailing comma for IE\n",
       "  ];\n",
       "\n",
       "  function run_inline_js() {\n",
       "    \n",
       "    if ((root.Bokeh !== undefined) || (force === true)) {\n",
       "      for (var i = 0; i < inline_js.length; i++) {\n",
       "        inline_js[i].call(root, root.Bokeh);\n",
       "      }if (force === true) {\n",
       "        display_loaded();\n",
       "      }} else if (Date.now() < root._bokeh_timeout) {\n",
       "      setTimeout(run_inline_js, 100);\n",
       "    } else if (!root._bokeh_failed_load) {\n",
       "      console.log(\"Bokeh: BokehJS failed to load within specified timeout.\");\n",
       "      root._bokeh_failed_load = true;\n",
       "    } else if (force !== true) {\n",
       "      var cell = $(document.getElementById(\"1001\")).parents('.cell').data().cell;\n",
       "      cell.output_area.append_execute_result(NB_LOAD_WARNING)\n",
       "    }\n",
       "\n",
       "  }\n",
       "\n",
       "  if (root._bokeh_is_loading === 0) {\n",
       "    console.debug(\"Bokeh: BokehJS loaded, going straight to plotting\");\n",
       "    run_inline_js();\n",
       "  } else {\n",
       "    load_libs(css_urls, js_urls, function() {\n",
       "      console.debug(\"Bokeh: BokehJS plotting callback run at\", now());\n",
       "      run_inline_js();\n",
       "    });\n",
       "  }\n",
       "}(window));"
      ],
      "application/vnd.bokehjs_load.v0+json": "\n(function(root) {\n  function now() {\n    return new Date();\n  }\n\n  var force = true;\n\n  if (typeof root._bokeh_onload_callbacks === \"undefined\" || force === true) {\n    root._bokeh_onload_callbacks = [];\n    root._bokeh_is_loading = undefined;\n  }\n\n  \n\n  \n  if (typeof (root._bokeh_timeout) === \"undefined\" || force === true) {\n    root._bokeh_timeout = Date.now() + 5000;\n    root._bokeh_failed_load = false;\n  }\n\n  var NB_LOAD_WARNING = {'data': {'text/html':\n     \"<div style='background-color: #fdd'>\\n\"+\n     \"<p>\\n\"+\n     \"BokehJS does not appear to have successfully loaded. If loading BokehJS from CDN, this \\n\"+\n     \"may be due to a slow or bad network connection. Possible fixes:\\n\"+\n     \"</p>\\n\"+\n     \"<ul>\\n\"+\n     \"<li>re-rerun `output_notebook()` to attempt to load from CDN again, or</li>\\n\"+\n     \"<li>use INLINE resources instead, as so:</li>\\n\"+\n     \"</ul>\\n\"+\n     \"<code>\\n\"+\n     \"from bokeh.resources import INLINE\\n\"+\n     \"output_notebook(resources=INLINE)\\n\"+\n     \"</code>\\n\"+\n     \"</div>\"}};\n\n  function display_loaded() {\n    var el = document.getElementById(\"1001\");\n    if (el != null) {\n      el.textContent = \"BokehJS is loading...\";\n    }\n    if (root.Bokeh !== undefined) {\n      if (el != null) {\n        el.textContent = \"BokehJS \" + root.Bokeh.version + \" successfully loaded.\";\n      }\n    } else if (Date.now() < root._bokeh_timeout) {\n      setTimeout(display_loaded, 100)\n    }\n  }\n\n\n  function run_callbacks() {\n    try {\n      root._bokeh_onload_callbacks.forEach(function(callback) {\n        if (callback != null)\n          callback();\n      });\n    } finally {\n      delete root._bokeh_onload_callbacks\n    }\n    console.debug(\"Bokeh: all callbacks have finished\");\n  }\n\n  function load_libs(css_urls, js_urls, callback) {\n    if (css_urls == null) css_urls = [];\n    if (js_urls == null) js_urls = [];\n\n    root._bokeh_onload_callbacks.push(callback);\n    if (root._bokeh_is_loading > 0) {\n      console.debug(\"Bokeh: BokehJS is being loaded, scheduling callback at\", now());\n      return null;\n    }\n    if (js_urls == null || js_urls.length === 0) {\n      run_callbacks();\n      return null;\n    }\n    console.debug(\"Bokeh: BokehJS not loaded, scheduling load and callback at\", now());\n    root._bokeh_is_loading = css_urls.length + js_urls.length;\n\n    function on_load() {\n      root._bokeh_is_loading--;\n      if (root._bokeh_is_loading === 0) {\n        console.debug(\"Bokeh: all BokehJS libraries/stylesheets loaded\");\n        run_callbacks()\n      }\n    }\n\n    function on_error() {\n      console.error(\"failed to load \" + url);\n    }\n\n    for (var i = 0; i < css_urls.length; i++) {\n      var url = css_urls[i];\n      const element = document.createElement(\"link\");\n      element.onload = on_load;\n      element.onerror = on_error;\n      element.rel = \"stylesheet\";\n      element.type = \"text/css\";\n      element.href = url;\n      console.debug(\"Bokeh: injecting link tag for BokehJS stylesheet: \", url);\n      document.body.appendChild(element);\n    }\n\n    for (var i = 0; i < js_urls.length; i++) {\n      var url = js_urls[i];\n      var element = document.createElement('script');\n      element.onload = on_load;\n      element.onerror = on_error;\n      element.async = false;\n      element.src = url;\n      console.debug(\"Bokeh: injecting script tag for BokehJS library: \", url);\n      document.head.appendChild(element);\n    }\n  };var element = document.getElementById(\"1001\");\n  if (element == null) {\n    console.error(\"Bokeh: ERROR: autoload.js configured with elementid '1001' but no matching script tag was found. \")\n    return false;\n  }\n\n  function inject_raw_css(css) {\n    const element = document.createElement(\"style\");\n    element.appendChild(document.createTextNode(css));\n    document.body.appendChild(element);\n  }\n\n  var js_urls = [\"https://cdn.pydata.org/bokeh/release/bokeh-1.2.0.min.js\", \"https://cdn.pydata.org/bokeh/release/bokeh-widgets-1.2.0.min.js\", \"https://cdn.pydata.org/bokeh/release/bokeh-tables-1.2.0.min.js\", \"https://cdn.pydata.org/bokeh/release/bokeh-gl-1.2.0.min.js\"];\n  var css_urls = [\"https://cdn.pydata.org/bokeh/release/bokeh-1.2.0.min.css\", \"https://cdn.pydata.org/bokeh/release/bokeh-widgets-1.2.0.min.css\", \"https://cdn.pydata.org/bokeh/release/bokeh-tables-1.2.0.min.css\"];\n\n  var inline_js = [\n    function(Bokeh) {\n      Bokeh.set_log_level(\"info\");\n    },\n    \n    function(Bokeh) {\n      \n    },\n    function(Bokeh) {} // ensure no trailing comma for IE\n  ];\n\n  function run_inline_js() {\n    \n    if ((root.Bokeh !== undefined) || (force === true)) {\n      for (var i = 0; i < inline_js.length; i++) {\n        inline_js[i].call(root, root.Bokeh);\n      }if (force === true) {\n        display_loaded();\n      }} else if (Date.now() < root._bokeh_timeout) {\n      setTimeout(run_inline_js, 100);\n    } else if (!root._bokeh_failed_load) {\n      console.log(\"Bokeh: BokehJS failed to load within specified timeout.\");\n      root._bokeh_failed_load = true;\n    } else if (force !== true) {\n      var cell = $(document.getElementById(\"1001\")).parents('.cell').data().cell;\n      cell.output_area.append_execute_result(NB_LOAD_WARNING)\n    }\n\n  }\n\n  if (root._bokeh_is_loading === 0) {\n    console.debug(\"Bokeh: BokehJS loaded, going straight to plotting\");\n    run_inline_js();\n  } else {\n    load_libs(css_urls, js_urls, function() {\n      console.debug(\"Bokeh: BokehJS plotting callback run at\", now());\n      run_inline_js();\n    });\n  }\n}(window));"
     },
     "metadata": {},
     "output_type": "display_data"
    }
   ],
   "source": [
    "from bokeh.io import show, output_notebook\n",
    "from bokeh.layouts import gridplot\n",
    "from bokeh.models.scales import LogScale\n",
    "output_notebook()"
   ]
  },
  {
   "cell_type": "markdown",
   "id": "13bf97b9-8d6d-4f53-b14f-c8b3e1b23909",
   "metadata": {},
   "source": [
    "## Read data"
   ]
  },
  {
   "cell_type": "code",
   "execution_count": 3,
   "id": "1d38501a-ec87-4ddf-a3fe-b56009f44ec1",
   "metadata": {},
   "outputs": [],
   "source": [
    "BASE_DIR = '/home/olavur/experiments/2020-11-13_fargen1_exome_analysis'"
   ]
  },
  {
   "cell_type": "code",
   "execution_count": 4,
   "id": "f2a47e57-2881-40f4-b246-a23a9a60129e",
   "metadata": {},
   "outputs": [],
   "source": [
    "import pandas as pd\n",
    "import numpy as np"
   ]
  },
  {
   "cell_type": "code",
   "execution_count": 5,
   "id": "a8d46694-46c6-4ccb-9305-736918f0cbd9",
   "metadata": {},
   "outputs": [],
   "source": [
    "mt = hl.read_matrix_table(BASE_DIR + '/data/mt/high_quality_variants_pao_removed.mt/')"
   ]
  },
  {
   "cell_type": "code",
   "execution_count": 7,
   "id": "b14be202-b77f-4157-8874-1a717d807e5f",
   "metadata": {},
   "outputs": [
    {
     "name": "stdout",
     "output_type": "stream",
     "text": [
      "Number of variants: 1146382\n",
      "Number of samples: 464\n"
     ]
    }
   ],
   "source": [
    "n_variants, n_samples = mt.count()\n",
    "print('Number of variants: {n}\\nNumber of samples: {m}'.format(n=n_variants, m=n_samples))"
   ]
  },
  {
   "cell_type": "markdown",
   "id": "b7b64e75-c071-47ed-b3e8-d5ca9348fe7d",
   "metadata": {},
   "source": [
    "## Folded Site Frequency Spectrum (FFS)\n",
    "\n",
    "Let $f_i$ be the *site frequency* of bin $i$, where bin $i$ corresponds to some range of *allele frequencies*. We are going to compute the folded frequencies $f^*_i = f_i + f_{n-i}$.\n",
    "\n",
    "Example: if we have 10 bins, then $f^*_1 = f_1 + f_{10}$.\n",
    "\n",
    "Below a function that computes the FFS is defined."
   ]
  },
  {
   "cell_type": "code",
   "execution_count": 54,
   "id": "7c1da990-7bad-4bb7-a6a7-6008b1652c1b",
   "metadata": {},
   "outputs": [],
   "source": [
    "def ffs(mt, ac_exprs, n_alleles):\n",
    "    hist_struct = mt.aggregate_rows(hl.agg.hist(ac_exprs, 0, n_alleles, n_alleles))\n",
    "\n",
    "    # Get the allele counts.\n",
    "    allele_counts = [int(ac) for ac in hist_struct.bin_edges]\n",
    "\n",
    "    # The site count is the number of times frequencies in each bin is observed.\n",
    "    site_counts = np.array(hist_struct.bin_freq)\n",
    "\n",
    "    # Calculate site frequencies.\n",
    "    n_sites = sum(site_counts)\n",
    "    site_freq = site_counts / n_sites\n",
    "\n",
    "    # Calculate folded site-frequencies.\n",
    "    half = int(n_alleles / 2)\n",
    "    folded_site_freq = site_freq[:half] + site_freq[:half-1:-1]\n",
    "\n",
    "    # Make a Hail table with the allele counts and site frequencies.\n",
    "    ffs_table = []\n",
    "    for ac, fc in zip(allele_counts, folded_site_freq):\n",
    "        # Don't add the frequency for 0 alternate alleles.\n",
    "        if allele_counts == 0:\n",
    "            continue\n",
    "        row = {'ac': ac, 'ff': fc}\n",
    "        ffs_table.append(row)\n",
    "\n",
    "    # Make a table where each row is a bin, and each row contains the allele count and the folded site-frequency.\n",
    "    ht_ffs = hl.Table.parallelize(hl.literal(ffs_table, 'array<struct{ac:int32,ff:float32}>'))\n",
    "\n",
    "    return ht_ffs"
   ]
  },
  {
   "cell_type": "code",
   "execution_count": 55,
   "id": "111a0f11-0d31-432e-9991-b86c866a6703",
   "metadata": {},
   "outputs": [],
   "source": [
    "# The number of alleles at each site is twice the sample size\n",
    "n_samples = mt.count_cols()\n",
    "n_alleles = 2 * n_samples\n",
    "\n",
    "# We use only autosomal and pseudoautosomal regions, as other regions will not have 2 * n_samples alleles.\n",
    "auto_mt = mt.filter_rows(mt.locus.in_autosome_or_par())\n",
    "\n",
    "ffs_ht = ffs(auto_mt, auto_mt.variant_qc.AC[1], n_alleles)"
   ]
  },
  {
   "cell_type": "code",
   "execution_count": 56,
   "id": "7fe01901-b164-4023-a914-d5b0e8c91ef2",
   "metadata": {},
   "outputs": [
    {
     "data": {
      "text/html": [
       "\n",
       "\n",
       "\n",
       "\n",
       "\n",
       "\n",
       "  <div class=\"bk-root\" id=\"12e4f6b1-51bf-49e3-b0ef-f75458b0fbfa\" data-root-id=\"1870\"></div>\n"
      ]
     },
     "metadata": {},
     "output_type": "display_data"
    },
    {
     "data": {
      "application/javascript": [
       "(function(root) {\n",
       "  function embed_document(root) {\n",
       "    \n",
       "  var docs_json = {\"bb9d0abd-283c-4d23-824c-a68bace82c4b\":{\"roots\":{\"references\":[{\"attributes\":{\"below\":[{\"id\":\"1880\",\"type\":\"LinearAxis\"}],\"center\":[{\"id\":\"1884\",\"type\":\"Grid\"},{\"id\":\"1889\",\"type\":\"Grid\"}],\"left\":[{\"id\":\"1885\",\"type\":\"LinearAxis\"}],\"plot_height\":400,\"plot_width\":800,\"renderers\":[{\"id\":\"1909\",\"type\":\"GlyphRenderer\"}],\"title\":null,\"toolbar\":{\"id\":\"1896\",\"type\":\"Toolbar\"},\"x_range\":{\"id\":\"1872\",\"type\":\"DataRange1d\"},\"x_scale\":{\"id\":\"1876\",\"type\":\"LinearScale\"},\"y_range\":{\"id\":\"1874\",\"type\":\"DataRange1d\"},\"y_scale\":{\"id\":\"1878\",\"type\":\"LinearScale\"}},\"id\":\"1870\",\"subtype\":\"Figure\",\"type\":\"Plot\"},{\"attributes\":{},\"id\":\"1893\",\"type\":\"SaveTool\"},{\"attributes\":{},\"id\":\"1895\",\"type\":\"HelpTool\"},{\"attributes\":{\"dimension\":1,\"ticker\":{\"id\":\"1886\",\"type\":\"BasicTicker\"}},\"id\":\"1889\",\"type\":\"Grid\"},{\"attributes\":{\"fill_alpha\":{\"value\":0.1},\"fill_color\":{\"value\":\"#1f77b4\"},\"line_alpha\":{\"value\":0.1},\"line_color\":{\"value\":\"#1f77b4\"},\"x\":{\"field\":\"x\"},\"y\":{\"field\":\"y\"}},\"id\":\"1908\",\"type\":\"Circle\"},{\"attributes\":{},\"id\":\"1971\",\"type\":\"BasicTickFormatter\"},{\"attributes\":{\"overlay\":{\"id\":\"1974\",\"type\":\"BoxAnnotation\"}},\"id\":\"1892\",\"type\":\"BoxZoomTool\"},{\"attributes\":{},\"id\":\"1894\",\"type\":\"ResetTool\"},{\"attributes\":{\"fill_color\":{\"value\":\"#1f77b4\"},\"line_color\":{\"value\":\"#1f77b4\"},\"x\":{\"field\":\"x\"},\"y\":{\"field\":\"y\"}},\"id\":\"1907\",\"type\":\"Circle\"},{\"attributes\":{\"data_source\":{\"id\":\"1905\",\"type\":\"ColumnDataSource\"},\"glyph\":{\"id\":\"1907\",\"type\":\"Circle\"},\"hover_glyph\":null,\"muted_glyph\":null,\"nonselection_glyph\":{\"id\":\"1908\",\"type\":\"Circle\"},\"selection_glyph\":null,\"view\":{\"id\":\"1910\",\"type\":\"CDSView\"}},\"id\":\"1909\",\"type\":\"GlyphRenderer\"},{\"attributes\":{\"axis_label\":\"Frequency in population\",\"formatter\":{\"id\":\"1971\",\"type\":\"BasicTickFormatter\"},\"ticker\":{\"id\":\"1886\",\"type\":\"BasicTicker\"}},\"id\":\"1885\",\"type\":\"LinearAxis\"},{\"attributes\":{},\"id\":\"1969\",\"type\":\"BasicTickFormatter\"},{\"attributes\":{\"callback\":null,\"tooltips\":[[\"x\",\"@x\"],[\"y\",\"@y\"]]},\"id\":\"1904\",\"type\":\"HoverTool\"},{\"attributes\":{\"ticker\":{\"id\":\"1881\",\"type\":\"BasicTicker\"}},\"id\":\"1884\",\"type\":\"Grid\"},{\"attributes\":{\"source\":{\"id\":\"1905\",\"type\":\"ColumnDataSource\"}},\"id\":\"1910\",\"type\":\"CDSView\"},{\"attributes\":{},\"id\":\"1972\",\"type\":\"UnionRenderers\"},{\"attributes\":{},\"id\":\"1878\",\"type\":\"LinearScale\"},{\"attributes\":{},\"id\":\"1881\",\"type\":\"BasicTicker\"},{\"attributes\":{},\"id\":\"1890\",\"type\":\"PanTool\"},{\"attributes\":{},\"id\":\"1891\",\"type\":\"WheelZoomTool\"},{\"attributes\":{},\"id\":\"1886\",\"type\":\"BasicTicker\"},{\"attributes\":{\"axis_label\":\"Allele counts\",\"formatter\":{\"id\":\"1969\",\"type\":\"BasicTickFormatter\"},\"ticker\":{\"id\":\"1881\",\"type\":\"BasicTicker\"}},\"id\":\"1880\",\"type\":\"LinearAxis\"},{\"attributes\":{\"callback\":null},\"id\":\"1872\",\"type\":\"DataRange1d\"},{\"attributes\":{\"callback\":null,\"data\":{\"index\":[0,1,2,3,4,5,6,7,8,9,10,11,12,13,14,15,16,17,18,19,20,21,22,23,24,25,26,27,28,29,30,31,32,33,34,35,36,37,38,39,40,41,42,43,44,45,46,47,48,49,50,51,52,53,54,55,56,57,58,59,60,61,62,63,64,65,66,67,68,69,70,71,72,73,74,75,76,77,78,79,80,81,82,83,84,85,86,87,88,89,90,91,92,93,94,95,96,97,98,99,100,101,102,103,104,105,106,107,108,109,110,111,112,113,114,115,116,117,118,119,120,121,122,123,124,125,126,127,128,129,130,131,132,133,134,135,136,137,138,139,140,141,142,143,144,145,146,147,148,149,150,151,152,153,154,155,156,157,158,159,160,161,162,163,164,165,166,167,168,169,170,171,172,173,174,175,176,177,178,179,180,181,182,183,184,185,186,187,188,189,190,191,192,193,194,195,196,197,198,199,200,201,202,203,204,205,206,207,208,209,210,211,212,213,214,215,216,217,218,219,220,221,222,223,224,225,226,227,228,229,230,231,232,233,234,235,236,237,238,239,240,241,242,243,244,245,246,247,248,249,250,251,252,253,254,255,256,257,258,259,260,261,262,263,264,265,266,267,268,269,270,271,272,273,274,275,276,277,278,279,280,281,282,283,284,285,286,287,288,289,290,291,292,293,294,295,296,297,298,299,300,301,302,303,304,305,306,307,308,309,310,311,312,313,314,315,316,317,318,319,320,321,322,323,324,325,326,327,328,329,330,331,332,333,334,335,336,337,338,339,340,341,342,343,344,345,346,347,348,349,350,351,352,353,354,355,356,357,358,359,360,361,362,363,364,365,366,367,368,369,370,371,372,373,374,375,376,377,378,379,380,381,382,383,384,385,386,387,388,389,390,391,392,393,394,395,396,397,398,399,400,401,402,403,404,405,406,407,408,409,410,411,412,413,414,415,416,417,418,419,420,421,422,423,424,425,426,427,428,429,430,431,432,433,434,435,436,437,438,439,440,441,442,443,444,445,446,447,448,449,450,451,452,453,454,455,456,457,458,459,460,461,462,463],\"x\":{\"__ndarray__\":\"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\",\"dtype\":\"float64\",\"shape\":[464]},\"y\":{\"__ndarray__\":\"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\",\"dtype\":\"float64\",\"shape\":[464]}},\"selected\":{\"id\":\"1973\",\"type\":\"Selection\"},\"selection_policy\":{\"id\":\"1972\",\"type\":\"UnionRenderers\"}},\"id\":\"1905\",\"type\":\"ColumnDataSource\"},{\"attributes\":{\"active_drag\":\"auto\",\"active_inspect\":\"auto\",\"active_multi\":null,\"active_scroll\":\"auto\",\"active_tap\":\"auto\",\"tools\":[{\"id\":\"1890\",\"type\":\"PanTool\"},{\"id\":\"1891\",\"type\":\"WheelZoomTool\"},{\"id\":\"1892\",\"type\":\"BoxZoomTool\"},{\"id\":\"1893\",\"type\":\"SaveTool\"},{\"id\":\"1894\",\"type\":\"ResetTool\"},{\"id\":\"1895\",\"type\":\"HelpTool\"},{\"id\":\"1904\",\"type\":\"HoverTool\"}]},\"id\":\"1896\",\"type\":\"Toolbar\"},{\"attributes\":{},\"id\":\"1973\",\"type\":\"Selection\"},{\"attributes\":{\"callback\":null},\"id\":\"1874\",\"type\":\"DataRange1d\"},{\"attributes\":{\"bottom_units\":\"screen\",\"fill_alpha\":{\"value\":0.5},\"fill_color\":{\"value\":\"lightgrey\"},\"left_units\":\"screen\",\"level\":\"overlay\",\"line_alpha\":{\"value\":1.0},\"line_color\":{\"value\":\"black\"},\"line_dash\":[4,4],\"line_width\":{\"value\":2},\"render_mode\":\"css\",\"right_units\":\"screen\",\"top_units\":\"screen\"},\"id\":\"1974\",\"type\":\"BoxAnnotation\"},{\"attributes\":{},\"id\":\"1876\",\"type\":\"LinearScale\"}],\"root_ids\":[\"1870\"]},\"title\":\"Bokeh Application\",\"version\":\"1.2.0\"}};\n",
       "  var render_items = [{\"docid\":\"bb9d0abd-283c-4d23-824c-a68bace82c4b\",\"roots\":{\"1870\":\"12e4f6b1-51bf-49e3-b0ef-f75458b0fbfa\"}}];\n",
       "  root.Bokeh.embed.embed_items_notebook(docs_json, render_items);\n",
       "\n",
       "  }\n",
       "  if (root.Bokeh !== undefined) {\n",
       "    embed_document(root);\n",
       "  } else {\n",
       "    var attempts = 0;\n",
       "    var timer = setInterval(function(root) {\n",
       "      if (root.Bokeh !== undefined) {\n",
       "        embed_document(root);\n",
       "        clearInterval(timer);\n",
       "      }\n",
       "      attempts++;\n",
       "      if (attempts > 100) {\n",
       "        console.log(\"Bokeh: ERROR: Unable to run BokehJS code because BokehJS library is missing\");\n",
       "        clearInterval(timer);\n",
       "      }\n",
       "    }, 10, root)\n",
       "  }\n",
       "})(window);"
      ],
      "application/vnd.bokehjs_exec.v0+json": ""
     },
     "metadata": {
      "application/vnd.bokehjs_exec.v0+json": {
       "id": "1870"
      }
     },
     "output_type": "display_data"
    }
   ],
   "source": [
    "p = hl.plot.scatter(ffs_ht.ac, ffs_ht.ff,\n",
    "                    xlabel='Allele counts', ylabel='Frequency in population')\n",
    "p.plot_width = 800\n",
    "p.plot_height = 400\n",
    "show(p)"
   ]
  },
  {
   "cell_type": "markdown",
   "id": "84ce541d-f718-41f0-b2c0-78b6f7e6721c",
   "metadata": {},
   "source": [
    "### FFS stratified by variant impact"
   ]
  },
  {
   "cell_type": "code",
   "execution_count": 129,
   "id": "678572d8-4bcf-43fc-b62e-86cf8d923aa3",
   "metadata": {},
   "outputs": [],
   "source": [
    "n_bins = 100\n",
    "first = True\n",
    "for impact in ['LOW', 'MODIFIER', 'MODERATE', 'HIGH']:\n",
    "    temp_ht = ht.filter(ht.impact1 == impact)\n",
    "    temp_ffs_ht = ffs(n_bins, temp_ht, temp_ht.info.fae)\n",
    "    temp_ffs_ht = temp_ffs_ht.annotate(strata=impact)\n",
    "    \n",
    "    if first:\n",
    "        ffs_ht = temp_ffs_ht\n",
    "        first = False\n",
    "    else:\n",
    "        ffs_ht = ffs_ht.union(temp_ffs_ht)"
   ]
  },
  {
   "cell_type": "code",
   "execution_count": 130,
   "id": "105c2db5-a647-461f-91e2-97446a1f3dbb",
   "metadata": {},
   "outputs": [
    {
     "data": {
      "text/html": [
       "\n",
       "\n",
       "\n",
       "\n",
       "\n",
       "\n",
       "  <div class=\"bk-root\" id=\"f1c7be81-4732-4e90-ada7-dd8e7542160a\" data-root-id=\"1311\"></div>\n"
      ]
     },
     "metadata": {},
     "output_type": "display_data"
    },
    {
     "data": {
      "application/javascript": [
       "(function(root) {\n",
       "  function embed_document(root) {\n",
       "    \n",
       "  var docs_json = {\"d66ee508-e068-417d-91bc-e53c1252e70c\":{\"roots\":{\"references\":[{\"attributes\":{\"below\":[{\"id\":\"1321\",\"type\":\"LinearAxis\"}],\"center\":[{\"id\":\"1325\",\"type\":\"Grid\"},{\"id\":\"1330\",\"type\":\"Grid\"}],\"left\":[{\"id\":\"1326\",\"type\":\"LinearAxis\"},{\"id\":\"1376\",\"type\":\"Legend\"},{\"id\":\"1377\",\"type\":\"ColorBar\"}],\"plot_height\":400,\"plot_width\":800,\"renderers\":[{\"id\":\"1353\",\"type\":\"GlyphRenderer\"},{\"id\":\"1359\",\"type\":\"GlyphRenderer\"},{\"id\":\"1365\",\"type\":\"GlyphRenderer\"},{\"id\":\"1371\",\"type\":\"GlyphRenderer\"}],\"title\":null,\"toolbar\":{\"id\":\"1337\",\"type\":\"Toolbar\"},\"x_range\":{\"id\":\"1313\",\"type\":\"DataRange1d\"},\"x_scale\":{\"id\":\"1317\",\"type\":\"LinearScale\"},\"y_range\":{\"id\":\"1315\",\"type\":\"DataRange1d\"},\"y_scale\":{\"id\":\"1378\",\"type\":\"LogScale\"}},\"id\":\"1311\",\"subtype\":\"Figure\",\"type\":\"Plot\"},{\"attributes\":{\"data_source\":{\"id\":\"1346\",\"type\":\"ColumnDataSource\"},\"glyph\":{\"id\":\"1369\",\"type\":\"Circle\"},\"hover_glyph\":null,\"muted_glyph\":null,\"nonselection_glyph\":{\"id\":\"1370\",\"type\":\"Circle\"},\"selection_glyph\":null,\"view\":{\"id\":\"1367\",\"type\":\"CDSView\"}},\"id\":\"1371\",\"type\":\"GlyphRenderer\"},{\"attributes\":{},\"id\":\"1406\",\"type\":\"BasicTicker\"},{\"attributes\":{\"factors\":[\"MODIFIER\",\"LOW\",\"HIGH\",\"MODERATE\"],\"palette\":[\"#1f77b4\",\"#ff7f0e\",\"#2ca02c\",\"#d62728\",\"#9467bd\",\"#8c564b\",\"#e377c2\",\"#7f7f7f\",\"#bcbd22\",\"#17becf\"]},\"id\":\"1347\",\"type\":\"CategoricalColorMapper\"},{\"attributes\":{\"color_mapper\":null,\"formatter\":{\"id\":\"1407\",\"type\":\"BasicTickFormatter\"},\"ticker\":{\"id\":\"1406\",\"type\":\"BasicTicker\"},\"visible\":false},\"id\":\"1377\",\"type\":\"ColorBar\"},{\"attributes\":{},\"id\":\"1331\",\"type\":\"PanTool\"},{\"attributes\":{\"column_name\":\"label\",\"group\":\"HIGH\"},\"id\":\"1348\",\"type\":\"GroupFilter\"},{\"attributes\":{\"dimension\":1,\"ticker\":{\"id\":\"1327\",\"type\":\"BasicTicker\"}},\"id\":\"1330\",\"type\":\"Grid\"},{\"attributes\":{\"label\":{\"value\":\"HIGH\"},\"renderers\":[{\"id\":\"1353\",\"type\":\"GlyphRenderer\"}]},\"id\":\"1372\",\"type\":\"LegendItem\"},{\"attributes\":{},\"id\":\"1407\",\"type\":\"BasicTickFormatter\"},{\"attributes\":{},\"id\":\"1334\",\"type\":\"SaveTool\"},{\"attributes\":{\"callback\":null},\"id\":\"1313\",\"type\":\"DataRange1d\"},{\"attributes\":{\"label\":{\"value\":\"MODERATE\"},\"renderers\":[{\"id\":\"1365\",\"type\":\"GlyphRenderer\"}]},\"id\":\"1374\",\"type\":\"LegendItem\"},{\"attributes\":{\"callback\":null,\"tooltips\":[[\"x\",\"@x\"],[\"y\",\"@y\"],[\"label\",\"@label\"]]},\"id\":\"1345\",\"type\":\"HoverTool\"},{\"attributes\":{\"label\":{\"value\":\"LOW\"},\"renderers\":[{\"id\":\"1359\",\"type\":\"GlyphRenderer\"}]},\"id\":\"1373\",\"type\":\"LegendItem\"},{\"attributes\":{},\"id\":\"1409\",\"type\":\"BasicTickFormatter\"},{\"attributes\":{\"column_name\":\"label\",\"group\":\"MODERATE\"},\"id\":\"1360\",\"type\":\"GroupFilter\"},{\"attributes\":{\"label\":{\"value\":\"MODIFIER\"},\"renderers\":[{\"id\":\"1371\",\"type\":\"GlyphRenderer\"}]},\"id\":\"1375\",\"type\":\"LegendItem\"},{\"attributes\":{\"filters\":[{\"id\":\"1354\",\"type\":\"GroupFilter\"}],\"source\":{\"id\":\"1346\",\"type\":\"ColumnDataSource\"}},\"id\":\"1355\",\"type\":\"CDSView\"},{\"attributes\":{},\"id\":\"1317\",\"type\":\"LinearScale\"},{\"attributes\":{},\"id\":\"1378\",\"type\":\"LogScale\"},{\"attributes\":{\"filters\":[{\"id\":\"1348\",\"type\":\"GroupFilter\"}],\"source\":{\"id\":\"1346\",\"type\":\"ColumnDataSource\"}},\"id\":\"1349\",\"type\":\"CDSView\"},{\"attributes\":{\"fill_color\":{\"field\":\"label\",\"transform\":{\"id\":\"1347\",\"type\":\"CategoricalColorMapper\"}},\"line_color\":{\"field\":\"label\",\"transform\":{\"id\":\"1347\",\"type\":\"CategoricalColorMapper\"}},\"x\":{\"field\":\"x\"},\"y\":{\"field\":\"y\"}},\"id\":\"1363\",\"type\":\"Circle\"},{\"attributes\":{\"ticker\":{\"id\":\"1322\",\"type\":\"BasicTicker\"}},\"id\":\"1325\",\"type\":\"Grid\"},{\"attributes\":{\"click_policy\":\"hide\",\"items\":[{\"id\":\"1372\",\"type\":\"LegendItem\"},{\"id\":\"1373\",\"type\":\"LegendItem\"},{\"id\":\"1374\",\"type\":\"LegendItem\"},{\"id\":\"1375\",\"type\":\"LegendItem\"}]},\"id\":\"1376\",\"type\":\"Legend\"},{\"attributes\":{\"callback\":null,\"data\":{\"index\":[0,1,2,3,4,5,6,7,8,9,10,11,12,13,14,15,16,17,18,19,20,21,22,23,24,25,26,27,28,29,30,31,32,33,34,35,36,37,38,39,40,41,42,43,44,45,46,47,48,49,50,51,52,53,54,55,56,57,58,59,60,61,62,63,64,65,66,67,68,69,70,71,72,73,74,75,76,77,78,79,80,81,82,83,84,85,86,87,88,89,90,91,92,93,94,95,96,97,98,99,100,101,102,103,104,105,106,107,108,109,110,111,112,113,114,115,116,117,118,119,120,121,122,123,124,125,126,127,128,129,130,131,132,133,134,135,136,137,138,139,140,141,142,143,144,145,146,147,148,149,150,151,152,153,154,155,156,157,158,159,160,161,162,163,164,165,166,167,168,169,170,171,172,173,174,175,176,177,178,179,180,181,182,183,184,185,186,187,188,189,190,191,192,193,194,195,196,197,198,199],\"label\":[\"LOW\",\"LOW\",\"LOW\",\"LOW\",\"LOW\",\"LOW\",\"LOW\",\"LOW\",\"LOW\",\"LOW\",\"LOW\",\"LOW\",\"LOW\",\"LOW\",\"LOW\",\"LOW\",\"LOW\",\"LOW\",\"LOW\",\"LOW\",\"LOW\",\"LOW\",\"LOW\",\"LOW\",\"LOW\",\"LOW\",\"LOW\",\"LOW\",\"LOW\",\"LOW\",\"LOW\",\"LOW\",\"LOW\",\"LOW\",\"LOW\",\"LOW\",\"LOW\",\"LOW\",\"LOW\",\"LOW\",\"LOW\",\"LOW\",\"LOW\",\"LOW\",\"LOW\",\"LOW\",\"LOW\",\"LOW\",\"LOW\",\"LOW\",\"MODIFIER\",\"MODIFIER\",\"MODIFIER\",\"MODIFIER\",\"MODIFIER\",\"MODIFIER\",\"MODIFIER\",\"MODIFIER\",\"MODIFIER\",\"MODIFIER\",\"MODIFIER\",\"MODIFIER\",\"MODIFIER\",\"MODIFIER\",\"MODIFIER\",\"MODIFIER\",\"MODIFIER\",\"MODIFIER\",\"MODIFIER\",\"MODIFIER\",\"MODIFIER\",\"MODIFIER\",\"MODIFIER\",\"MODIFIER\",\"MODIFIER\",\"MODIFIER\",\"MODIFIER\",\"MODIFIER\",\"MODIFIER\",\"MODIFIER\",\"MODIFIER\",\"MODIFIER\",\"MODIFIER\",\"MODIFIER\",\"MODIFIER\",\"MODIFIER\",\"MODIFIER\",\"MODIFIER\",\"MODIFIER\",\"MODIFIER\",\"MODIFIER\",\"MODIFIER\",\"MODIFIER\",\"MODIFIER\",\"MODIFIER\",\"MODIFIER\",\"MODIFIER\",\"MODIFIER\",\"MODIFIER\",\"MODIFIER\",\"MODERATE\",\"MODERATE\",\"MODERATE\",\"MODERATE\",\"MODERATE\",\"MODERATE\",\"MODERATE\",\"MODERATE\",\"MODERATE\",\"MODERATE\",\"MODERATE\",\"MODERATE\",\"MODERATE\",\"MODERATE\",\"MODERATE\",\"MODERATE\",\"MODERATE\",\"MODERATE\",\"MODERATE\",\"MODERATE\",\"MODERATE\",\"MODERATE\",\"MODERATE\",\"MODERATE\",\"MODERATE\",\"MODERATE\",\"MODERATE\",\"MODERATE\",\"MODERATE\",\"MODERATE\",\"MODERATE\",\"MODERATE\",\"MODERATE\",\"MODERATE\",\"MODERATE\",\"MODERATE\",\"MODERATE\",\"MODERATE\",\"MODERATE\",\"MODERATE\",\"MODERATE\",\"MODERATE\",\"MODERATE\",\"MODERATE\",\"MODERATE\",\"MODERATE\",\"MODERATE\",\"MODERATE\",\"MODERATE\",\"MODERATE\",\"HIGH\",\"HIGH\",\"HIGH\",\"HIGH\",\"HIGH\",\"HIGH\",\"HIGH\",\"HIGH\",\"HIGH\",\"HIGH\",\"HIGH\",\"HIGH\",\"HIGH\",\"HIGH\",\"HIGH\",\"HIGH\",\"HIGH\",\"HIGH\",\"HIGH\",\"HIGH\",\"HIGH\",\"HIGH\",\"HIGH\",\"HIGH\",\"HIGH\",\"HIGH\",\"HIGH\",\"HIGH\",\"HIGH\",\"HIGH\",\"HIGH\",\"HIGH\",\"HIGH\",\"HIGH\",\"HIGH\",\"HIGH\",\"HIGH\",\"HIGH\",\"HIGH\",\"HIGH\",\"HIGH\",\"HIGH\",\"HIGH\",\"HIGH\",\"HIGH\",\"HIGH\",\"HIGH\",\"HIGH\",\"HIGH\",\"HIGH\"],\"x\":{\"__ndarray__\":\"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\",\"dtype\":\"float64\",\"shape\":[200]},\"y\":{\"__ndarray__\":\"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\",\"dtype\":\"float64\",\"shape\":[200]}},\"selected\":{\"id\":\"1410\",\"type\":\"Selection\"},\"selection_policy\":{\"id\":\"1411\",\"type\":\"UnionRenderers\"}},\"id\":\"1346\",\"type\":\"ColumnDataSource\"},{\"attributes\":{\"column_name\":\"label\",\"group\":\"LOW\"},\"id\":\"1354\",\"type\":\"GroupFilter\"},{\"attributes\":{\"axis_label\":\"Frequency in population\",\"formatter\":{\"id\":\"1405\",\"type\":\"BasicTickFormatter\"},\"ticker\":{\"id\":\"1327\",\"type\":\"BasicTicker\"}},\"id\":\"1326\",\"type\":\"LinearAxis\"},{\"attributes\":{\"filters\":[{\"id\":\"1366\",\"type\":\"GroupFilter\"}],\"source\":{\"id\":\"1346\",\"type\":\"ColumnDataSource\"}},\"id\":\"1367\",\"type\":\"CDSView\"},{\"attributes\":{},\"id\":\"1411\",\"type\":\"UnionRenderers\"},{\"attributes\":{},\"id\":\"1405\",\"type\":\"BasicTickFormatter\"},{\"attributes\":{},\"id\":\"1322\",\"type\":\"BasicTicker\"},{\"attributes\":{\"column_name\":\"label\",\"group\":\"MODIFIER\"},\"id\":\"1366\",\"type\":\"GroupFilter\"},{\"attributes\":{\"data_source\":{\"id\":\"1346\",\"type\":\"ColumnDataSource\"},\"glyph\":{\"id\":\"1363\",\"type\":\"Circle\"},\"hover_glyph\":null,\"muted_glyph\":null,\"nonselection_glyph\":{\"id\":\"1364\",\"type\":\"Circle\"},\"selection_glyph\":null,\"view\":{\"id\":\"1361\",\"type\":\"CDSView\"}},\"id\":\"1365\",\"type\":\"GlyphRenderer\"},{\"attributes\":{\"callback\":null},\"id\":\"1315\",\"type\":\"DataRange1d\"},{\"attributes\":{},\"id\":\"1332\",\"type\":\"WheelZoomTool\"},{\"attributes\":{\"fill_alpha\":{\"value\":0.1},\"fill_color\":{\"value\":\"#1f77b4\"},\"line_alpha\":{\"value\":0.1},\"line_color\":{\"value\":\"#1f77b4\"},\"x\":{\"field\":\"x\"},\"y\":{\"field\":\"y\"}},\"id\":\"1352\",\"type\":\"Circle\"},{\"attributes\":{\"fill_color\":{\"field\":\"label\",\"transform\":{\"id\":\"1347\",\"type\":\"CategoricalColorMapper\"}},\"line_color\":{\"field\":\"label\",\"transform\":{\"id\":\"1347\",\"type\":\"CategoricalColorMapper\"}},\"x\":{\"field\":\"x\"},\"y\":{\"field\":\"y\"}},\"id\":\"1369\",\"type\":\"Circle\"},{\"attributes\":{\"data_source\":{\"id\":\"1346\",\"type\":\"ColumnDataSource\"},\"glyph\":{\"id\":\"1351\",\"type\":\"Circle\"},\"hover_glyph\":null,\"muted_glyph\":null,\"nonselection_glyph\":{\"id\":\"1352\",\"type\":\"Circle\"},\"selection_glyph\":null,\"view\":{\"id\":\"1349\",\"type\":\"CDSView\"}},\"id\":\"1353\",\"type\":\"GlyphRenderer\"},{\"attributes\":{\"filters\":[{\"id\":\"1360\",\"type\":\"GroupFilter\"}],\"source\":{\"id\":\"1346\",\"type\":\"ColumnDataSource\"}},\"id\":\"1361\",\"type\":\"CDSView\"},{\"attributes\":{\"axis_label\":\"Allele counts\",\"formatter\":{\"id\":\"1409\",\"type\":\"BasicTickFormatter\"},\"ticker\":{\"id\":\"1322\",\"type\":\"BasicTicker\"}},\"id\":\"1321\",\"type\":\"LinearAxis\"},{\"attributes\":{\"data_source\":{\"id\":\"1346\",\"type\":\"ColumnDataSource\"},\"glyph\":{\"id\":\"1357\",\"type\":\"Circle\"},\"hover_glyph\":null,\"muted_glyph\":null,\"nonselection_glyph\":{\"id\":\"1358\",\"type\":\"Circle\"},\"selection_glyph\":null,\"view\":{\"id\":\"1355\",\"type\":\"CDSView\"}},\"id\":\"1359\",\"type\":\"GlyphRenderer\"},{\"attributes\":{\"bottom_units\":\"screen\",\"fill_alpha\":{\"value\":0.5},\"fill_color\":{\"value\":\"lightgrey\"},\"left_units\":\"screen\",\"level\":\"overlay\",\"line_alpha\":{\"value\":1.0},\"line_color\":{\"value\":\"black\"},\"line_dash\":[4,4],\"line_width\":{\"value\":2},\"render_mode\":\"css\",\"right_units\":\"screen\",\"top_units\":\"screen\"},\"id\":\"1412\",\"type\":\"BoxAnnotation\"},{\"attributes\":{\"fill_color\":{\"field\":\"label\",\"transform\":{\"id\":\"1347\",\"type\":\"CategoricalColorMapper\"}},\"line_color\":{\"field\":\"label\",\"transform\":{\"id\":\"1347\",\"type\":\"CategoricalColorMapper\"}},\"x\":{\"field\":\"x\"},\"y\":{\"field\":\"y\"}},\"id\":\"1351\",\"type\":\"Circle\"},{\"attributes\":{\"fill_alpha\":{\"value\":0.1},\"fill_color\":{\"value\":\"#1f77b4\"},\"line_alpha\":{\"value\":0.1},\"line_color\":{\"value\":\"#1f77b4\"},\"x\":{\"field\":\"x\"},\"y\":{\"field\":\"y\"}},\"id\":\"1370\",\"type\":\"Circle\"},{\"attributes\":{},\"id\":\"1336\",\"type\":\"HelpTool\"},{\"attributes\":{},\"id\":\"1410\",\"type\":\"Selection\"},{\"attributes\":{\"fill_alpha\":{\"value\":0.1},\"fill_color\":{\"value\":\"#1f77b4\"},\"line_alpha\":{\"value\":0.1},\"line_color\":{\"value\":\"#1f77b4\"},\"x\":{\"field\":\"x\"},\"y\":{\"field\":\"y\"}},\"id\":\"1358\",\"type\":\"Circle\"},{\"attributes\":{},\"id\":\"1327\",\"type\":\"BasicTicker\"},{\"attributes\":{},\"id\":\"1335\",\"type\":\"ResetTool\"},{\"attributes\":{\"active_drag\":\"auto\",\"active_inspect\":\"auto\",\"active_multi\":null,\"active_scroll\":\"auto\",\"active_tap\":\"auto\",\"tools\":[{\"id\":\"1331\",\"type\":\"PanTool\"},{\"id\":\"1332\",\"type\":\"WheelZoomTool\"},{\"id\":\"1333\",\"type\":\"BoxZoomTool\"},{\"id\":\"1334\",\"type\":\"SaveTool\"},{\"id\":\"1335\",\"type\":\"ResetTool\"},{\"id\":\"1336\",\"type\":\"HelpTool\"},{\"id\":\"1345\",\"type\":\"HoverTool\"}]},\"id\":\"1337\",\"type\":\"Toolbar\"},{\"attributes\":{\"fill_color\":{\"field\":\"label\",\"transform\":{\"id\":\"1347\",\"type\":\"CategoricalColorMapper\"}},\"line_color\":{\"field\":\"label\",\"transform\":{\"id\":\"1347\",\"type\":\"CategoricalColorMapper\"}},\"x\":{\"field\":\"x\"},\"y\":{\"field\":\"y\"}},\"id\":\"1357\",\"type\":\"Circle\"},{\"attributes\":{\"fill_alpha\":{\"value\":0.1},\"fill_color\":{\"value\":\"#1f77b4\"},\"line_alpha\":{\"value\":0.1},\"line_color\":{\"value\":\"#1f77b4\"},\"x\":{\"field\":\"x\"},\"y\":{\"field\":\"y\"}},\"id\":\"1364\",\"type\":\"Circle\"},{\"attributes\":{\"overlay\":{\"id\":\"1412\",\"type\":\"BoxAnnotation\"}},\"id\":\"1333\",\"type\":\"BoxZoomTool\"}],\"root_ids\":[\"1311\"]},\"title\":\"Bokeh Application\",\"version\":\"1.2.0\"}};\n",
       "  var render_items = [{\"docid\":\"d66ee508-e068-417d-91bc-e53c1252e70c\",\"roots\":{\"1311\":\"f1c7be81-4732-4e90-ada7-dd8e7542160a\"}}];\n",
       "  root.Bokeh.embed.embed_items_notebook(docs_json, render_items);\n",
       "\n",
       "  }\n",
       "  if (root.Bokeh !== undefined) {\n",
       "    embed_document(root);\n",
       "  } else {\n",
       "    var attempts = 0;\n",
       "    var timer = setInterval(function(root) {\n",
       "      if (root.Bokeh !== undefined) {\n",
       "        embed_document(root);\n",
       "        clearInterval(timer);\n",
       "      }\n",
       "      attempts++;\n",
       "      if (attempts > 100) {\n",
       "        console.log(\"Bokeh: ERROR: Unable to run BokehJS code because BokehJS library is missing\");\n",
       "        clearInterval(timer);\n",
       "      }\n",
       "    }, 10, root)\n",
       "  }\n",
       "})(window);"
      ],
      "application/vnd.bokehjs_exec.v0+json": ""
     },
     "metadata": {
      "application/vnd.bokehjs_exec.v0+json": {
       "id": "1311"
      }
     },
     "output_type": "display_data"
    }
   ],
   "source": [
    "p = hl.plot.scatter(ffs_ht.af, ffs_ht.ff, label=ffs_ht.strata,\n",
    "                    xlabel='Allele counts', ylabel='Frequency in population',\n",
    "                    collect_all=True)\n",
    "p.plot_width = 800\n",
    "p.plot_height = 400\n",
    "p.y_scale = LogScale()\n",
    "show(p)"
   ]
  },
  {
   "cell_type": "markdown",
   "id": "eb2ccd4c-d8ba-4f92-b3f8-7bbb3120f149",
   "metadata": {},
   "source": [
    "### FFS stratified by variant effect"
   ]
  },
  {
   "cell_type": "code",
   "execution_count": 142,
   "id": "15ec19ef-665e-4645-8047-21d86baa97b0",
   "metadata": {},
   "outputs": [],
   "source": [
    "n_bins = 100\n",
    "first = True\n",
    "for effect in ['synonymous_variant', 'missense_variant', 'frameshift_variant']:\n",
    "    temp_ht = ht.filter(ht.effect1 == effect)\n",
    "    temp_ffs_ht = ffs(n_bins, temp_ht, temp_ht.info.fae)\n",
    "    temp_ffs_ht = temp_ffs_ht.annotate(strata=effect)\n",
    "    \n",
    "    if first:\n",
    "        ffs_ht = temp_ffs_ht\n",
    "        first = False\n",
    "    else:\n",
    "        ffs_ht = ffs_ht.union(temp_ffs_ht)"
   ]
  },
  {
   "cell_type": "code",
   "execution_count": 141,
   "id": "68cbe8b3-2780-4443-9902-a4c626ede8b3",
   "metadata": {},
   "outputs": [
    {
     "data": {
      "text/html": [
       "\n",
       "\n",
       "\n",
       "\n",
       "\n",
       "\n",
       "  <div class=\"bk-root\" id=\"636916e8-e5d4-40e0-af69-1f196bba7261\" data-root-id=\"2158\"></div>\n"
      ]
     },
     "metadata": {},
     "output_type": "display_data"
    },
    {
     "data": {
      "application/javascript": [
       "(function(root) {\n",
       "  function embed_document(root) {\n",
       "    \n",
       "  var docs_json = {\"2954c776-dab2-408a-b6d9-044909b5bacc\":{\"roots\":{\"references\":[{\"attributes\":{\"below\":[{\"id\":\"2168\",\"type\":\"LinearAxis\"}],\"center\":[{\"id\":\"2172\",\"type\":\"Grid\"},{\"id\":\"2177\",\"type\":\"Grid\"}],\"left\":[{\"id\":\"2173\",\"type\":\"LinearAxis\"},{\"id\":\"2209\",\"type\":\"Legend\"},{\"id\":\"2210\",\"type\":\"ColorBar\"}],\"plot_height\":400,\"plot_width\":800,\"renderers\":[{\"id\":\"2200\",\"type\":\"GlyphRenderer\"},{\"id\":\"2206\",\"type\":\"GlyphRenderer\"}],\"title\":null,\"toolbar\":{\"id\":\"2184\",\"type\":\"Toolbar\"},\"x_range\":{\"id\":\"2160\",\"type\":\"DataRange1d\"},\"x_scale\":{\"id\":\"2164\",\"type\":\"LinearScale\"},\"y_range\":{\"id\":\"2162\",\"type\":\"DataRange1d\"},\"y_scale\":{\"id\":\"2211\",\"type\":\"LogScale\"}},\"id\":\"2158\",\"subtype\":\"Figure\",\"type\":\"Plot\"},{\"attributes\":{},\"id\":\"2289\",\"type\":\"BasicTicker\"},{\"attributes\":{},\"id\":\"2211\",\"type\":\"LogScale\"},{\"attributes\":{\"fill_color\":{\"field\":\"label\",\"transform\":{\"id\":\"2194\",\"type\":\"CategoricalColorMapper\"}},\"line_color\":{\"field\":\"label\",\"transform\":{\"id\":\"2194\",\"type\":\"CategoricalColorMapper\"}},\"x\":{\"field\":\"x\"},\"y\":{\"field\":\"y\"}},\"id\":\"2204\",\"type\":\"Circle\"},{\"attributes\":{},\"id\":\"2178\",\"type\":\"PanTool\"},{\"attributes\":{\"filters\":[{\"id\":\"2201\",\"type\":\"GroupFilter\"}],\"source\":{\"id\":\"2193\",\"type\":\"ColumnDataSource\"}},\"id\":\"2202\",\"type\":\"CDSView\"},{\"attributes\":{},\"id\":\"2293\",\"type\":\"Selection\"},{\"attributes\":{\"bottom_units\":\"screen\",\"fill_alpha\":{\"value\":0.5},\"fill_color\":{\"value\":\"lightgrey\"},\"left_units\":\"screen\",\"level\":\"overlay\",\"line_alpha\":{\"value\":1.0},\"line_color\":{\"value\":\"black\"},\"line_dash\":[4,4],\"line_width\":{\"value\":2},\"render_mode\":\"css\",\"right_units\":\"screen\",\"top_units\":\"screen\"},\"id\":\"2295\",\"type\":\"BoxAnnotation\"},{\"attributes\":{},\"id\":\"2288\",\"type\":\"BasicTickFormatter\"},{\"attributes\":{\"data_source\":{\"id\":\"2193\",\"type\":\"ColumnDataSource\"},\"glyph\":{\"id\":\"2204\",\"type\":\"Circle\"},\"hover_glyph\":null,\"muted_glyph\":null,\"nonselection_glyph\":{\"id\":\"2205\",\"type\":\"Circle\"},\"selection_glyph\":null,\"view\":{\"id\":\"2202\",\"type\":\"CDSView\"}},\"id\":\"2206\",\"type\":\"GlyphRenderer\"},{\"attributes\":{\"callback\":null},\"id\":\"2160\",\"type\":\"DataRange1d\"},{\"attributes\":{\"overlay\":{\"id\":\"2295\",\"type\":\"BoxAnnotation\"}},\"id\":\"2180\",\"type\":\"BoxZoomTool\"},{\"attributes\":{},\"id\":\"2179\",\"type\":\"WheelZoomTool\"},{\"attributes\":{\"click_policy\":\"hide\",\"items\":[{\"id\":\"2207\",\"type\":\"LegendItem\"},{\"id\":\"2208\",\"type\":\"LegendItem\"}]},\"id\":\"2209\",\"type\":\"Legend\"},{\"attributes\":{},\"id\":\"2290\",\"type\":\"BasicTickFormatter\"},{\"attributes\":{},\"id\":\"2182\",\"type\":\"ResetTool\"},{\"attributes\":{},\"id\":\"2292\",\"type\":\"BasicTickFormatter\"},{\"attributes\":{},\"id\":\"2164\",\"type\":\"LinearScale\"},{\"attributes\":{\"fill_alpha\":{\"value\":0.1},\"fill_color\":{\"value\":\"#1f77b4\"},\"line_alpha\":{\"value\":0.1},\"line_color\":{\"value\":\"#1f77b4\"},\"x\":{\"field\":\"x\"},\"y\":{\"field\":\"y\"}},\"id\":\"2205\",\"type\":\"Circle\"},{\"attributes\":{},\"id\":\"2183\",\"type\":\"HelpTool\"},{\"attributes\":{},\"id\":\"2181\",\"type\":\"SaveTool\"},{\"attributes\":{\"callback\":null},\"id\":\"2162\",\"type\":\"DataRange1d\"},{\"attributes\":{\"callback\":null,\"tooltips\":[[\"x\",\"@x\"],[\"y\",\"@y\"],[\"label\",\"@label\"]]},\"id\":\"2192\",\"type\":\"HoverTool\"},{\"attributes\":{\"axis_label\":\"Allele counts\",\"formatter\":{\"id\":\"2292\",\"type\":\"BasicTickFormatter\"},\"ticker\":{\"id\":\"2169\",\"type\":\"BasicTicker\"}},\"id\":\"2168\",\"type\":\"LinearAxis\"},{\"attributes\":{\"dimension\":1,\"ticker\":{\"id\":\"2174\",\"type\":\"BasicTicker\"}},\"id\":\"2177\",\"type\":\"Grid\"},{\"attributes\":{\"label\":{\"value\":\"gnomAD\"},\"renderers\":[{\"id\":\"2206\",\"type\":\"GlyphRenderer\"}]},\"id\":\"2208\",\"type\":\"LegendItem\"},{\"attributes\":{},\"id\":\"2169\",\"type\":\"BasicTicker\"},{\"attributes\":{\"filters\":[{\"id\":\"2195\",\"type\":\"GroupFilter\"}],\"source\":{\"id\":\"2193\",\"type\":\"ColumnDataSource\"}},\"id\":\"2196\",\"type\":\"CDSView\"},{\"attributes\":{\"ticker\":{\"id\":\"2169\",\"type\":\"BasicTicker\"}},\"id\":\"2172\",\"type\":\"Grid\"},{\"attributes\":{\"data_source\":{\"id\":\"2193\",\"type\":\"ColumnDataSource\"},\"glyph\":{\"id\":\"2198\",\"type\":\"Circle\"},\"hover_glyph\":null,\"muted_glyph\":null,\"nonselection_glyph\":{\"id\":\"2199\",\"type\":\"Circle\"},\"selection_glyph\":null,\"view\":{\"id\":\"2196\",\"type\":\"CDSView\"}},\"id\":\"2200\",\"type\":\"GlyphRenderer\"},{\"attributes\":{\"callback\":null,\"data\":{\"index\":[0,1,2,3,4,5,6,7,8,9,10,11,12,13,14,15,16,17,18,19,20,21,22,23,24,25,26,27,28,29,30,31,32,33,34,35,36,37,38,39,40,41,42,43,44,45,46,47,48,49,50,51,52,53,54,55,56,57,58,59,60,61,62,63,64,65,66,67,68,69,70,71,72,73,74,75,76,77,78,79,80,81,82,83,84,85,86,87,88,89,90,91,92,93,94,95,96,97,98,99,100,101,102,103,104,105,106,107,108,109,110,111,112,113,114,115,116,117,118,119,120,121,122,123,124,125,126,127,128,129,130,131,132,133,134,135,136,137,138,139,140,141,142,143,144,145,146,147,148,149,150,151,152,153,154,155,156,157,158,159,160,161,162,163,164,165,166,167,168,169,170,171,172,173,174,175,176,177,178,179,180,181,182,183,184,185,186,187,188,189,190,191,192,193,194,195,196,197,198,199],\"label\":[\"FarGen\",\"FarGen\",\"FarGen\",\"FarGen\",\"FarGen\",\"FarGen\",\"FarGen\",\"FarGen\",\"FarGen\",\"FarGen\",\"FarGen\",\"FarGen\",\"FarGen\",\"FarGen\",\"FarGen\",\"FarGen\",\"FarGen\",\"FarGen\",\"FarGen\",\"FarGen\",\"FarGen\",\"FarGen\",\"FarGen\",\"FarGen\",\"FarGen\",\"FarGen\",\"FarGen\",\"FarGen\",\"FarGen\",\"FarGen\",\"FarGen\",\"FarGen\",\"FarGen\",\"FarGen\",\"FarGen\",\"FarGen\",\"FarGen\",\"FarGen\",\"FarGen\",\"FarGen\",\"FarGen\",\"FarGen\",\"FarGen\",\"FarGen\",\"FarGen\",\"FarGen\",\"FarGen\",\"FarGen\",\"FarGen\",\"FarGen\",\"FarGen\",\"FarGen\",\"FarGen\",\"FarGen\",\"FarGen\",\"FarGen\",\"FarGen\",\"FarGen\",\"FarGen\",\"FarGen\",\"FarGen\",\"FarGen\",\"FarGen\",\"FarGen\",\"FarGen\",\"FarGen\",\"FarGen\",\"FarGen\",\"FarGen\",\"FarGen\",\"FarGen\",\"FarGen\",\"FarGen\",\"FarGen\",\"FarGen\",\"FarGen\",\"FarGen\",\"FarGen\",\"FarGen\",\"FarGen\",\"FarGen\",\"FarGen\",\"FarGen\",\"FarGen\",\"FarGen\",\"FarGen\",\"FarGen\",\"FarGen\",\"FarGen\",\"FarGen\",\"FarGen\",\"FarGen\",\"FarGen\",\"FarGen\",\"FarGen\",\"FarGen\",\"FarGen\",\"FarGen\",\"FarGen\",\"FarGen\",\"gnomAD\",\"gnomAD\",\"gnomAD\",\"gnomAD\",\"gnomAD\",\"gnomAD\",\"gnomAD\",\"gnomAD\",\"gnomAD\",\"gnomAD\",\"gnomAD\",\"gnomAD\",\"gnomAD\",\"gnomAD\",\"gnomAD\",\"gnomAD\",\"gnomAD\",\"gnomAD\",\"gnomAD\",\"gnomAD\",\"gnomAD\",\"gnomAD\",\"gnomAD\",\"gnomAD\",\"gnomAD\",\"gnomAD\",\"gnomAD\",\"gnomAD\",\"gnomAD\",\"gnomAD\",\"gnomAD\",\"gnomAD\",\"gnomAD\",\"gnomAD\",\"gnomAD\",\"gnomAD\",\"gnomAD\",\"gnomAD\",\"gnomAD\",\"gnomAD\",\"gnomAD\",\"gnomAD\",\"gnomAD\",\"gnomAD\",\"gnomAD\",\"gnomAD\",\"gnomAD\",\"gnomAD\",\"gnomAD\",\"gnomAD\",\"gnomAD\",\"gnomAD\",\"gnomAD\",\"gnomAD\",\"gnomAD\",\"gnomAD\",\"gnomAD\",\"gnomAD\",\"gnomAD\",\"gnomAD\",\"gnomAD\",\"gnomAD\",\"gnomAD\",\"gnomAD\",\"gnomAD\",\"gnomAD\",\"gnomAD\",\"gnomAD\",\"gnomAD\",\"gnomAD\",\"gnomAD\",\"gnomAD\",\"gnomAD\",\"gnomAD\",\"gnomAD\",\"gnomAD\",\"gnomAD\",\"gnomAD\",\"gnomAD\",\"gnomAD\",\"gnomAD\",\"gnomAD\",\"gnomAD\",\"gnomAD\",\"gnomAD\",\"gnomAD\",\"gnomAD\",\"gnomAD\",\"gnomAD\",\"gnomAD\",\"gnomAD\",\"gnomAD\",\"gnomAD\",\"gnomAD\",\"gnomAD\",\"gnomAD\",\"gnomAD\",\"gnomAD\",\"gnomAD\",\"gnomAD\"],\"x\":{\"__ndarray__\":\"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\",\"dtype\":\"float64\",\"shape\":[200]},\"y\":{\"__ndarray__\":\"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\",\"dtype\":\"float64\",\"shape\":[200]}},\"selected\":{\"id\":\"2293\",\"type\":\"Selection\"},\"selection_policy\":{\"id\":\"2294\",\"type\":\"UnionRenderers\"}},\"id\":\"2193\",\"type\":\"ColumnDataSource\"},{\"attributes\":{\"label\":{\"value\":\"FarGen\"},\"renderers\":[{\"id\":\"2200\",\"type\":\"GlyphRenderer\"}]},\"id\":\"2207\",\"type\":\"LegendItem\"},{\"attributes\":{\"factors\":[\"gnomAD\",\"FarGen\"],\"palette\":[\"#1f77b4\",\"#ff7f0e\",\"#2ca02c\",\"#d62728\",\"#9467bd\",\"#8c564b\",\"#e377c2\",\"#7f7f7f\",\"#bcbd22\",\"#17becf\"]},\"id\":\"2194\",\"type\":\"CategoricalColorMapper\"},{\"attributes\":{\"axis_label\":\"Frequency in population\",\"formatter\":{\"id\":\"2288\",\"type\":\"BasicTickFormatter\"},\"ticker\":{\"id\":\"2174\",\"type\":\"BasicTicker\"}},\"id\":\"2173\",\"type\":\"LinearAxis\"},{\"attributes\":{\"column_name\":\"label\",\"group\":\"gnomAD\"},\"id\":\"2201\",\"type\":\"GroupFilter\"},{\"attributes\":{\"fill_color\":{\"field\":\"label\",\"transform\":{\"id\":\"2194\",\"type\":\"CategoricalColorMapper\"}},\"line_color\":{\"field\":\"label\",\"transform\":{\"id\":\"2194\",\"type\":\"CategoricalColorMapper\"}},\"x\":{\"field\":\"x\"},\"y\":{\"field\":\"y\"}},\"id\":\"2198\",\"type\":\"Circle\"},{\"attributes\":{},\"id\":\"2174\",\"type\":\"BasicTicker\"},{\"attributes\":{\"column_name\":\"label\",\"group\":\"FarGen\"},\"id\":\"2195\",\"type\":\"GroupFilter\"},{\"attributes\":{\"fill_alpha\":{\"value\":0.1},\"fill_color\":{\"value\":\"#1f77b4\"},\"line_alpha\":{\"value\":0.1},\"line_color\":{\"value\":\"#1f77b4\"},\"x\":{\"field\":\"x\"},\"y\":{\"field\":\"y\"}},\"id\":\"2199\",\"type\":\"Circle\"},{\"attributes\":{},\"id\":\"2294\",\"type\":\"UnionRenderers\"},{\"attributes\":{\"color_mapper\":null,\"formatter\":{\"id\":\"2290\",\"type\":\"BasicTickFormatter\"},\"ticker\":{\"id\":\"2289\",\"type\":\"BasicTicker\"},\"visible\":false},\"id\":\"2210\",\"type\":\"ColorBar\"},{\"attributes\":{\"active_drag\":\"auto\",\"active_inspect\":\"auto\",\"active_multi\":null,\"active_scroll\":\"auto\",\"active_tap\":\"auto\",\"tools\":[{\"id\":\"2178\",\"type\":\"PanTool\"},{\"id\":\"2179\",\"type\":\"WheelZoomTool\"},{\"id\":\"2180\",\"type\":\"BoxZoomTool\"},{\"id\":\"2181\",\"type\":\"SaveTool\"},{\"id\":\"2182\",\"type\":\"ResetTool\"},{\"id\":\"2183\",\"type\":\"HelpTool\"},{\"id\":\"2192\",\"type\":\"HoverTool\"}]},\"id\":\"2184\",\"type\":\"Toolbar\"}],\"root_ids\":[\"2158\"]},\"title\":\"Bokeh Application\",\"version\":\"1.2.0\"}};\n",
       "  var render_items = [{\"docid\":\"2954c776-dab2-408a-b6d9-044909b5bacc\",\"roots\":{\"2158\":\"636916e8-e5d4-40e0-af69-1f196bba7261\"}}];\n",
       "  root.Bokeh.embed.embed_items_notebook(docs_json, render_items);\n",
       "\n",
       "  }\n",
       "  if (root.Bokeh !== undefined) {\n",
       "    embed_document(root);\n",
       "  } else {\n",
       "    var attempts = 0;\n",
       "    var timer = setInterval(function(root) {\n",
       "      if (root.Bokeh !== undefined) {\n",
       "        embed_document(root);\n",
       "        clearInterval(timer);\n",
       "      }\n",
       "      attempts++;\n",
       "      if (attempts > 100) {\n",
       "        console.log(\"Bokeh: ERROR: Unable to run BokehJS code because BokehJS library is missing\");\n",
       "        clearInterval(timer);\n",
       "      }\n",
       "    }, 10, root)\n",
       "  }\n",
       "})(window);"
      ],
      "application/vnd.bokehjs_exec.v0+json": ""
     },
     "metadata": {
      "application/vnd.bokehjs_exec.v0+json": {
       "id": "2158"
      }
     },
     "output_type": "display_data"
    }
   ],
   "source": [
    "p = hl.plot.scatter(ffs_ht.af, ffs_ht.ff, label=ffs_ht.strata,\n",
    "                    xlabel='Allele counts', ylabel='Frequency in population',\n",
    "                    collect_all=True)\n",
    "p.plot_width = 800\n",
    "p.plot_height = 400\n",
    "p.y_scale = LogScale()\n",
    "show(p)"
   ]
  },
  {
   "cell_type": "code",
   "execution_count": null,
   "id": "ca5c5d65-7e7c-4a80-b913-d98d0940b33c",
   "metadata": {},
   "outputs": [],
   "source": []
  }
 ],
 "metadata": {
  "kernelspec": {
   "display_name": "Python [conda env:fargen-1-exome]",
   "language": "python",
   "name": "conda-env-fargen-1-exome-py"
  },
  "language_info": {
   "codemirror_mode": {
    "name": "ipython",
    "version": 3
   },
   "file_extension": ".py",
   "mimetype": "text/x-python",
   "name": "python",
   "nbconvert_exporter": "python",
   "pygments_lexer": "ipython3",
   "version": "3.7.10"
  }
 },
 "nbformat": 4,
 "nbformat_minor": 5
}
