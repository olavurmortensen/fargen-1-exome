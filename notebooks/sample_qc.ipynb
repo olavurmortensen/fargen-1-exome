{
 "cells": [
  {
   "cell_type": "markdown",
   "metadata": {},
   "source": [
    "# Sample QC"
   ]
  },
  {
   "cell_type": "code",
   "execution_count": 54,
   "metadata": {},
   "outputs": [],
   "source": [
    "# TODO: filtrera allelic balance (allelic depth)"
   ]
  },
  {
   "cell_type": "code",
   "execution_count": 2,
   "metadata": {},
   "outputs": [
    {
     "name": "stderr",
     "output_type": "stream",
     "text": [
      "Running on Apache Spark version 2.4.6\n",
      "SparkUI available at http://hms-beagle-5466c684ff-2l8nm:4040\n",
      "Welcome to\n",
      "     __  __     <>__\n",
      "    / /_/ /__  __/ /\n",
      "   / __  / _ `/ / /\n",
      "  /_/ /_/\\_,_/_/_/   version 0.2.58-3f304aae6ce2\n",
      "LOGGING: writing to /home/olavur/experiments/2020-11-13_fargen1_exome_analysis/fargen-1-exome/notebooks/hail-20201217-0953-0.2.58-3f304aae6ce2.log\n"
     ]
    }
   ],
   "source": [
    "import hail as hl\n",
    "hl.init()"
   ]
  },
  {
   "cell_type": "code",
   "execution_count": 3,
   "metadata": {},
   "outputs": [
    {
     "data": {
      "text/html": [
       "\n",
       "    <div class=\"bk-root\">\n",
       "        <a href=\"https://bokeh.pydata.org\" target=\"_blank\" class=\"bk-logo bk-logo-small bk-logo-notebook\"></a>\n",
       "        <span id=\"1001\">Loading BokehJS ...</span>\n",
       "    </div>"
      ]
     },
     "metadata": {},
     "output_type": "display_data"
    },
    {
     "data": {
      "application/javascript": [
       "\n",
       "(function(root) {\n",
       "  function now() {\n",
       "    return new Date();\n",
       "  }\n",
       "\n",
       "  var force = true;\n",
       "\n",
       "  if (typeof root._bokeh_onload_callbacks === \"undefined\" || force === true) {\n",
       "    root._bokeh_onload_callbacks = [];\n",
       "    root._bokeh_is_loading = undefined;\n",
       "  }\n",
       "\n",
       "  var JS_MIME_TYPE = 'application/javascript';\n",
       "  var HTML_MIME_TYPE = 'text/html';\n",
       "  var EXEC_MIME_TYPE = 'application/vnd.bokehjs_exec.v0+json';\n",
       "  var CLASS_NAME = 'output_bokeh rendered_html';\n",
       "\n",
       "  /**\n",
       "   * Render data to the DOM node\n",
       "   */\n",
       "  function render(props, node) {\n",
       "    var script = document.createElement(\"script\");\n",
       "    node.appendChild(script);\n",
       "  }\n",
       "\n",
       "  /**\n",
       "   * Handle when an output is cleared or removed\n",
       "   */\n",
       "  function handleClearOutput(event, handle) {\n",
       "    var cell = handle.cell;\n",
       "\n",
       "    var id = cell.output_area._bokeh_element_id;\n",
       "    var server_id = cell.output_area._bokeh_server_id;\n",
       "    // Clean up Bokeh references\n",
       "    if (id != null && id in Bokeh.index) {\n",
       "      Bokeh.index[id].model.document.clear();\n",
       "      delete Bokeh.index[id];\n",
       "    }\n",
       "\n",
       "    if (server_id !== undefined) {\n",
       "      // Clean up Bokeh references\n",
       "      var cmd = \"from bokeh.io.state import curstate; print(curstate().uuid_to_server['\" + server_id + \"'].get_sessions()[0].document.roots[0]._id)\";\n",
       "      cell.notebook.kernel.execute(cmd, {\n",
       "        iopub: {\n",
       "          output: function(msg) {\n",
       "            var id = msg.content.text.trim();\n",
       "            if (id in Bokeh.index) {\n",
       "              Bokeh.index[id].model.document.clear();\n",
       "              delete Bokeh.index[id];\n",
       "            }\n",
       "          }\n",
       "        }\n",
       "      });\n",
       "      // Destroy server and session\n",
       "      var cmd = \"import bokeh.io.notebook as ion; ion.destroy_server('\" + server_id + \"')\";\n",
       "      cell.notebook.kernel.execute(cmd);\n",
       "    }\n",
       "  }\n",
       "\n",
       "  /**\n",
       "   * Handle when a new output is added\n",
       "   */\n",
       "  function handleAddOutput(event, handle) {\n",
       "    var output_area = handle.output_area;\n",
       "    var output = handle.output;\n",
       "\n",
       "    // limit handleAddOutput to display_data with EXEC_MIME_TYPE content only\n",
       "    if ((output.output_type != \"display_data\") || (!output.data.hasOwnProperty(EXEC_MIME_TYPE))) {\n",
       "      return\n",
       "    }\n",
       "\n",
       "    var toinsert = output_area.element.find(\".\" + CLASS_NAME.split(' ')[0]);\n",
       "\n",
       "    if (output.metadata[EXEC_MIME_TYPE][\"id\"] !== undefined) {\n",
       "      toinsert[toinsert.length - 1].firstChild.textContent = output.data[JS_MIME_TYPE];\n",
       "      // store reference to embed id on output_area\n",
       "      output_area._bokeh_element_id = output.metadata[EXEC_MIME_TYPE][\"id\"];\n",
       "    }\n",
       "    if (output.metadata[EXEC_MIME_TYPE][\"server_id\"] !== undefined) {\n",
       "      var bk_div = document.createElement(\"div\");\n",
       "      bk_div.innerHTML = output.data[HTML_MIME_TYPE];\n",
       "      var script_attrs = bk_div.children[0].attributes;\n",
       "      for (var i = 0; i < script_attrs.length; i++) {\n",
       "        toinsert[toinsert.length - 1].firstChild.setAttribute(script_attrs[i].name, script_attrs[i].value);\n",
       "      }\n",
       "      // store reference to server id on output_area\n",
       "      output_area._bokeh_server_id = output.metadata[EXEC_MIME_TYPE][\"server_id\"];\n",
       "    }\n",
       "  }\n",
       "\n",
       "  function register_renderer(events, OutputArea) {\n",
       "\n",
       "    function append_mime(data, metadata, element) {\n",
       "      // create a DOM node to render to\n",
       "      var toinsert = this.create_output_subarea(\n",
       "        metadata,\n",
       "        CLASS_NAME,\n",
       "        EXEC_MIME_TYPE\n",
       "      );\n",
       "      this.keyboard_manager.register_events(toinsert);\n",
       "      // Render to node\n",
       "      var props = {data: data, metadata: metadata[EXEC_MIME_TYPE]};\n",
       "      render(props, toinsert[toinsert.length - 1]);\n",
       "      element.append(toinsert);\n",
       "      return toinsert\n",
       "    }\n",
       "\n",
       "    /* Handle when an output is cleared or removed */\n",
       "    events.on('clear_output.CodeCell', handleClearOutput);\n",
       "    events.on('delete.Cell', handleClearOutput);\n",
       "\n",
       "    /* Handle when a new output is added */\n",
       "    events.on('output_added.OutputArea', handleAddOutput);\n",
       "\n",
       "    /**\n",
       "     * Register the mime type and append_mime function with output_area\n",
       "     */\n",
       "    OutputArea.prototype.register_mime_type(EXEC_MIME_TYPE, append_mime, {\n",
       "      /* Is output safe? */\n",
       "      safe: true,\n",
       "      /* Index of renderer in `output_area.display_order` */\n",
       "      index: 0\n",
       "    });\n",
       "  }\n",
       "\n",
       "  // register the mime type if in Jupyter Notebook environment and previously unregistered\n",
       "  if (root.Jupyter !== undefined) {\n",
       "    var events = require('base/js/events');\n",
       "    var OutputArea = require('notebook/js/outputarea').OutputArea;\n",
       "\n",
       "    if (OutputArea.prototype.mime_types().indexOf(EXEC_MIME_TYPE) == -1) {\n",
       "      register_renderer(events, OutputArea);\n",
       "    }\n",
       "  }\n",
       "\n",
       "  \n",
       "  if (typeof (root._bokeh_timeout) === \"undefined\" || force === true) {\n",
       "    root._bokeh_timeout = Date.now() + 5000;\n",
       "    root._bokeh_failed_load = false;\n",
       "  }\n",
       "\n",
       "  var NB_LOAD_WARNING = {'data': {'text/html':\n",
       "     \"<div style='background-color: #fdd'>\\n\"+\n",
       "     \"<p>\\n\"+\n",
       "     \"BokehJS does not appear to have successfully loaded. If loading BokehJS from CDN, this \\n\"+\n",
       "     \"may be due to a slow or bad network connection. Possible fixes:\\n\"+\n",
       "     \"</p>\\n\"+\n",
       "     \"<ul>\\n\"+\n",
       "     \"<li>re-rerun `output_notebook()` to attempt to load from CDN again, or</li>\\n\"+\n",
       "     \"<li>use INLINE resources instead, as so:</li>\\n\"+\n",
       "     \"</ul>\\n\"+\n",
       "     \"<code>\\n\"+\n",
       "     \"from bokeh.resources import INLINE\\n\"+\n",
       "     \"output_notebook(resources=INLINE)\\n\"+\n",
       "     \"</code>\\n\"+\n",
       "     \"</div>\"}};\n",
       "\n",
       "  function display_loaded() {\n",
       "    var el = document.getElementById(\"1001\");\n",
       "    if (el != null) {\n",
       "      el.textContent = \"BokehJS is loading...\";\n",
       "    }\n",
       "    if (root.Bokeh !== undefined) {\n",
       "      if (el != null) {\n",
       "        el.textContent = \"BokehJS \" + root.Bokeh.version + \" successfully loaded.\";\n",
       "      }\n",
       "    } else if (Date.now() < root._bokeh_timeout) {\n",
       "      setTimeout(display_loaded, 100)\n",
       "    }\n",
       "  }\n",
       "\n",
       "\n",
       "  function run_callbacks() {\n",
       "    try {\n",
       "      root._bokeh_onload_callbacks.forEach(function(callback) {\n",
       "        if (callback != null)\n",
       "          callback();\n",
       "      });\n",
       "    } finally {\n",
       "      delete root._bokeh_onload_callbacks\n",
       "    }\n",
       "    console.debug(\"Bokeh: all callbacks have finished\");\n",
       "  }\n",
       "\n",
       "  function load_libs(css_urls, js_urls, callback) {\n",
       "    if (css_urls == null) css_urls = [];\n",
       "    if (js_urls == null) js_urls = [];\n",
       "\n",
       "    root._bokeh_onload_callbacks.push(callback);\n",
       "    if (root._bokeh_is_loading > 0) {\n",
       "      console.debug(\"Bokeh: BokehJS is being loaded, scheduling callback at\", now());\n",
       "      return null;\n",
       "    }\n",
       "    if (js_urls == null || js_urls.length === 0) {\n",
       "      run_callbacks();\n",
       "      return null;\n",
       "    }\n",
       "    console.debug(\"Bokeh: BokehJS not loaded, scheduling load and callback at\", now());\n",
       "    root._bokeh_is_loading = css_urls.length + js_urls.length;\n",
       "\n",
       "    function on_load() {\n",
       "      root._bokeh_is_loading--;\n",
       "      if (root._bokeh_is_loading === 0) {\n",
       "        console.debug(\"Bokeh: all BokehJS libraries/stylesheets loaded\");\n",
       "        run_callbacks()\n",
       "      }\n",
       "    }\n",
       "\n",
       "    function on_error() {\n",
       "      console.error(\"failed to load \" + url);\n",
       "    }\n",
       "\n",
       "    for (var i = 0; i < css_urls.length; i++) {\n",
       "      var url = css_urls[i];\n",
       "      const element = document.createElement(\"link\");\n",
       "      element.onload = on_load;\n",
       "      element.onerror = on_error;\n",
       "      element.rel = \"stylesheet\";\n",
       "      element.type = \"text/css\";\n",
       "      element.href = url;\n",
       "      console.debug(\"Bokeh: injecting link tag for BokehJS stylesheet: \", url);\n",
       "      document.body.appendChild(element);\n",
       "    }\n",
       "\n",
       "    for (var i = 0; i < js_urls.length; i++) {\n",
       "      var url = js_urls[i];\n",
       "      var element = document.createElement('script');\n",
       "      element.onload = on_load;\n",
       "      element.onerror = on_error;\n",
       "      element.async = false;\n",
       "      element.src = url;\n",
       "      console.debug(\"Bokeh: injecting script tag for BokehJS library: \", url);\n",
       "      document.head.appendChild(element);\n",
       "    }\n",
       "  };var element = document.getElementById(\"1001\");\n",
       "  if (element == null) {\n",
       "    console.error(\"Bokeh: ERROR: autoload.js configured with elementid '1001' but no matching script tag was found. \")\n",
       "    return false;\n",
       "  }\n",
       "\n",
       "  function inject_raw_css(css) {\n",
       "    const element = document.createElement(\"style\");\n",
       "    element.appendChild(document.createTextNode(css));\n",
       "    document.body.appendChild(element);\n",
       "  }\n",
       "\n",
       "  var js_urls = [\"https://cdn.pydata.org/bokeh/release/bokeh-1.2.0.min.js\", \"https://cdn.pydata.org/bokeh/release/bokeh-widgets-1.2.0.min.js\", \"https://cdn.pydata.org/bokeh/release/bokeh-tables-1.2.0.min.js\", \"https://cdn.pydata.org/bokeh/release/bokeh-gl-1.2.0.min.js\"];\n",
       "  var css_urls = [\"https://cdn.pydata.org/bokeh/release/bokeh-1.2.0.min.css\", \"https://cdn.pydata.org/bokeh/release/bokeh-widgets-1.2.0.min.css\", \"https://cdn.pydata.org/bokeh/release/bokeh-tables-1.2.0.min.css\"];\n",
       "\n",
       "  var inline_js = [\n",
       "    function(Bokeh) {\n",
       "      Bokeh.set_log_level(\"info\");\n",
       "    },\n",
       "    \n",
       "    function(Bokeh) {\n",
       "      \n",
       "    },\n",
       "    function(Bokeh) {} // ensure no trailing comma for IE\n",
       "  ];\n",
       "\n",
       "  function run_inline_js() {\n",
       "    \n",
       "    if ((root.Bokeh !== undefined) || (force === true)) {\n",
       "      for (var i = 0; i < inline_js.length; i++) {\n",
       "        inline_js[i].call(root, root.Bokeh);\n",
       "      }if (force === true) {\n",
       "        display_loaded();\n",
       "      }} else if (Date.now() < root._bokeh_timeout) {\n",
       "      setTimeout(run_inline_js, 100);\n",
       "    } else if (!root._bokeh_failed_load) {\n",
       "      console.log(\"Bokeh: BokehJS failed to load within specified timeout.\");\n",
       "      root._bokeh_failed_load = true;\n",
       "    } else if (force !== true) {\n",
       "      var cell = $(document.getElementById(\"1001\")).parents('.cell').data().cell;\n",
       "      cell.output_area.append_execute_result(NB_LOAD_WARNING)\n",
       "    }\n",
       "\n",
       "  }\n",
       "\n",
       "  if (root._bokeh_is_loading === 0) {\n",
       "    console.debug(\"Bokeh: BokehJS loaded, going straight to plotting\");\n",
       "    run_inline_js();\n",
       "  } else {\n",
       "    load_libs(css_urls, js_urls, function() {\n",
       "      console.debug(\"Bokeh: BokehJS plotting callback run at\", now());\n",
       "      run_inline_js();\n",
       "    });\n",
       "  }\n",
       "}(window));"
      ],
      "application/vnd.bokehjs_load.v0+json": "\n(function(root) {\n  function now() {\n    return new Date();\n  }\n\n  var force = true;\n\n  if (typeof root._bokeh_onload_callbacks === \"undefined\" || force === true) {\n    root._bokeh_onload_callbacks = [];\n    root._bokeh_is_loading = undefined;\n  }\n\n  \n\n  \n  if (typeof (root._bokeh_timeout) === \"undefined\" || force === true) {\n    root._bokeh_timeout = Date.now() + 5000;\n    root._bokeh_failed_load = false;\n  }\n\n  var NB_LOAD_WARNING = {'data': {'text/html':\n     \"<div style='background-color: #fdd'>\\n\"+\n     \"<p>\\n\"+\n     \"BokehJS does not appear to have successfully loaded. If loading BokehJS from CDN, this \\n\"+\n     \"may be due to a slow or bad network connection. Possible fixes:\\n\"+\n     \"</p>\\n\"+\n     \"<ul>\\n\"+\n     \"<li>re-rerun `output_notebook()` to attempt to load from CDN again, or</li>\\n\"+\n     \"<li>use INLINE resources instead, as so:</li>\\n\"+\n     \"</ul>\\n\"+\n     \"<code>\\n\"+\n     \"from bokeh.resources import INLINE\\n\"+\n     \"output_notebook(resources=INLINE)\\n\"+\n     \"</code>\\n\"+\n     \"</div>\"}};\n\n  function display_loaded() {\n    var el = document.getElementById(\"1001\");\n    if (el != null) {\n      el.textContent = \"BokehJS is loading...\";\n    }\n    if (root.Bokeh !== undefined) {\n      if (el != null) {\n        el.textContent = \"BokehJS \" + root.Bokeh.version + \" successfully loaded.\";\n      }\n    } else if (Date.now() < root._bokeh_timeout) {\n      setTimeout(display_loaded, 100)\n    }\n  }\n\n\n  function run_callbacks() {\n    try {\n      root._bokeh_onload_callbacks.forEach(function(callback) {\n        if (callback != null)\n          callback();\n      });\n    } finally {\n      delete root._bokeh_onload_callbacks\n    }\n    console.debug(\"Bokeh: all callbacks have finished\");\n  }\n\n  function load_libs(css_urls, js_urls, callback) {\n    if (css_urls == null) css_urls = [];\n    if (js_urls == null) js_urls = [];\n\n    root._bokeh_onload_callbacks.push(callback);\n    if (root._bokeh_is_loading > 0) {\n      console.debug(\"Bokeh: BokehJS is being loaded, scheduling callback at\", now());\n      return null;\n    }\n    if (js_urls == null || js_urls.length === 0) {\n      run_callbacks();\n      return null;\n    }\n    console.debug(\"Bokeh: BokehJS not loaded, scheduling load and callback at\", now());\n    root._bokeh_is_loading = css_urls.length + js_urls.length;\n\n    function on_load() {\n      root._bokeh_is_loading--;\n      if (root._bokeh_is_loading === 0) {\n        console.debug(\"Bokeh: all BokehJS libraries/stylesheets loaded\");\n        run_callbacks()\n      }\n    }\n\n    function on_error() {\n      console.error(\"failed to load \" + url);\n    }\n\n    for (var i = 0; i < css_urls.length; i++) {\n      var url = css_urls[i];\n      const element = document.createElement(\"link\");\n      element.onload = on_load;\n      element.onerror = on_error;\n      element.rel = \"stylesheet\";\n      element.type = \"text/css\";\n      element.href = url;\n      console.debug(\"Bokeh: injecting link tag for BokehJS stylesheet: \", url);\n      document.body.appendChild(element);\n    }\n\n    for (var i = 0; i < js_urls.length; i++) {\n      var url = js_urls[i];\n      var element = document.createElement('script');\n      element.onload = on_load;\n      element.onerror = on_error;\n      element.async = false;\n      element.src = url;\n      console.debug(\"Bokeh: injecting script tag for BokehJS library: \", url);\n      document.head.appendChild(element);\n    }\n  };var element = document.getElementById(\"1001\");\n  if (element == null) {\n    console.error(\"Bokeh: ERROR: autoload.js configured with elementid '1001' but no matching script tag was found. \")\n    return false;\n  }\n\n  function inject_raw_css(css) {\n    const element = document.createElement(\"style\");\n    element.appendChild(document.createTextNode(css));\n    document.body.appendChild(element);\n  }\n\n  var js_urls = [\"https://cdn.pydata.org/bokeh/release/bokeh-1.2.0.min.js\", \"https://cdn.pydata.org/bokeh/release/bokeh-widgets-1.2.0.min.js\", \"https://cdn.pydata.org/bokeh/release/bokeh-tables-1.2.0.min.js\", \"https://cdn.pydata.org/bokeh/release/bokeh-gl-1.2.0.min.js\"];\n  var css_urls = [\"https://cdn.pydata.org/bokeh/release/bokeh-1.2.0.min.css\", \"https://cdn.pydata.org/bokeh/release/bokeh-widgets-1.2.0.min.css\", \"https://cdn.pydata.org/bokeh/release/bokeh-tables-1.2.0.min.css\"];\n\n  var inline_js = [\n    function(Bokeh) {\n      Bokeh.set_log_level(\"info\");\n    },\n    \n    function(Bokeh) {\n      \n    },\n    function(Bokeh) {} // ensure no trailing comma for IE\n  ];\n\n  function run_inline_js() {\n    \n    if ((root.Bokeh !== undefined) || (force === true)) {\n      for (var i = 0; i < inline_js.length; i++) {\n        inline_js[i].call(root, root.Bokeh);\n      }if (force === true) {\n        display_loaded();\n      }} else if (Date.now() < root._bokeh_timeout) {\n      setTimeout(run_inline_js, 100);\n    } else if (!root._bokeh_failed_load) {\n      console.log(\"Bokeh: BokehJS failed to load within specified timeout.\");\n      root._bokeh_failed_load = true;\n    } else if (force !== true) {\n      var cell = $(document.getElementById(\"1001\")).parents('.cell').data().cell;\n      cell.output_area.append_execute_result(NB_LOAD_WARNING)\n    }\n\n  }\n\n  if (root._bokeh_is_loading === 0) {\n    console.debug(\"Bokeh: BokehJS loaded, going straight to plotting\");\n    run_inline_js();\n  } else {\n    load_libs(css_urls, js_urls, function() {\n      console.debug(\"Bokeh: BokehJS plotting callback run at\", now());\n      run_inline_js();\n    });\n  }\n}(window));"
     },
     "metadata": {},
     "output_type": "display_data"
    }
   ],
   "source": [
    "import numpy as np\n",
    "from bokeh.io import show, output_notebook\n",
    "from bokeh.layouts import gridplot\n",
    "output_notebook()"
   ]
  },
  {
   "cell_type": "markdown",
   "metadata": {},
   "source": [
    "Load high quality variants."
   ]
  },
  {
   "cell_type": "code",
   "execution_count": 4,
   "metadata": {},
   "outputs": [],
   "source": [
    "mt = hl.read_matrix_table('/home/olavur/experiments/2020-11-13_fargen1_exome_analysis/data/mt/filtered.mt')"
   ]
  },
  {
   "cell_type": "code",
   "execution_count": 5,
   "metadata": {},
   "outputs": [
    {
     "name": "stdout",
     "output_type": "stream",
     "text": [
      "185771 variants and 48 samples.\n"
     ]
    }
   ],
   "source": [
    "n_sites, n_samples = mt.count()\n",
    "print('{n_sites} variants and {n_samples} samples.'.format(n_sites=n_sites, n_samples=n_samples))"
   ]
  },
  {
   "cell_type": "markdown",
   "metadata": {},
   "source": [
    "## Filter variants"
   ]
  },
  {
   "cell_type": "code",
   "execution_count": 8,
   "metadata": {},
   "outputs": [
    {
     "data": {
      "text/plain": [
       "(25712, 48)"
      ]
     },
     "execution_count": 8,
     "metadata": {},
     "output_type": "execute_result"
    }
   ],
   "source": [
    "maf_filter = 0.05\n",
    "mt = mt.filter_rows(mt.info.AF[0] > maf_filter)\n",
    "mt = mt.filter_rows(mt.info.AF[0] < (1 - maf_filter))\n",
    "mt.count()"
   ]
  },
  {
   "cell_type": "code",
   "execution_count": 6,
   "metadata": {},
   "outputs": [],
   "source": [
    "#mt = mt.annotate_rows(hwe=hl.agg.hardy_weinberg_test(mt.GT))\n",
    "#mt = mt.filter_rows(mt.hwe.p_value > 10e-8)\n",
    "#mt.count()"
   ]
  },
  {
   "cell_type": "code",
   "execution_count": 7,
   "metadata": {},
   "outputs": [],
   "source": [
    "#n_samples = mt.count_cols()\n",
    "#mt = mt.filter_rows(mt.info.AC[0] > 1)\n",
    "#mt = mt.filter_rows(mt.info.AC[0] < 2 * n_samples - 1)\n",
    "#mt.count()"
   ]
  },
  {
   "cell_type": "code",
   "execution_count": 9,
   "metadata": {},
   "outputs": [
    {
     "data": {
      "text/plain": [
       "0.052"
      ]
     },
     "execution_count": 9,
     "metadata": {},
     "output_type": "execute_result"
    }
   ],
   "source": [
    "mt.aggregate_rows(hl.agg.min(mt.info.AF[0]))"
   ]
  },
  {
   "cell_type": "code",
   "execution_count": 10,
   "metadata": {},
   "outputs": [
    {
     "data": {
      "text/plain": [
       "0.948"
      ]
     },
     "execution_count": 10,
     "metadata": {},
     "output_type": "execute_result"
    }
   ],
   "source": [
    "mt.aggregate_rows(hl.agg.max(mt.info.AF[0]))"
   ]
  },
  {
   "cell_type": "markdown",
   "metadata": {},
   "source": [
    "## Distributions"
   ]
  },
  {
   "cell_type": "code",
   "execution_count": 11,
   "metadata": {},
   "outputs": [],
   "source": [
    "mt = hl.sample_qc(mt)"
   ]
  },
  {
   "cell_type": "code",
   "execution_count": 12,
   "metadata": {},
   "outputs": [
    {
     "data": {
      "text/html": [
       "\n",
       "\n",
       "\n",
       "\n",
       "\n",
       "\n",
       "  <div class=\"bk-root\" id=\"ccf4dc63-c4d8-4e21-bd64-6109417d9063\" data-root-id=\"1002\"></div>\n"
      ]
     },
     "metadata": {},
     "output_type": "display_data"
    },
    {
     "data": {
      "application/javascript": [
       "(function(root) {\n",
       "  function embed_document(root) {\n",
       "    \n",
       "  var docs_json = {\"3d2324a0-3b5a-4115-a5c9-fe1ae9af2926\":{\"roots\":{\"references\":[{\"attributes\":{\"background_fill_color\":{\"value\":\"#EEEEEE\"},\"below\":[{\"id\":\"1012\",\"type\":\"LinearAxis\"}],\"center\":[{\"id\":\"1016\",\"type\":\"Grid\"},{\"id\":\"1021\",\"type\":\"Grid\"},{\"id\":\"1046\",\"type\":\"Legend\"}],\"left\":[{\"id\":\"1017\",\"type\":\"LinearAxis\"}],\"renderers\":[{\"id\":\"1038\",\"type\":\"GlyphRenderer\"}],\"title\":null,\"toolbar\":{\"id\":\"1028\",\"type\":\"Toolbar\"},\"x_range\":{\"id\":\"1004\",\"type\":\"Range1d\"},\"x_scale\":{\"id\":\"1008\",\"type\":\"LinearScale\"},\"y_range\":{\"id\":\"1006\",\"type\":\"DataRange1d\"},\"y_scale\":{\"id\":\"1010\",\"type\":\"LinearScale\"}},\"id\":\"1002\",\"subtype\":\"Figure\",\"type\":\"Plot\"},{\"attributes\":{},\"id\":\"1054\",\"type\":\"UnionRenderers\"},{\"attributes\":{\"bottom_units\":\"screen\",\"fill_alpha\":{\"value\":0.5},\"fill_color\":{\"value\":\"lightgrey\"},\"left_units\":\"screen\",\"level\":\"overlay\",\"line_alpha\":{\"value\":1.0},\"line_color\":{\"value\":\"black\"},\"line_dash\":[4,4],\"line_width\":{\"value\":2},\"render_mode\":\"css\",\"right_units\":\"screen\",\"top_units\":\"screen\"},\"id\":\"1045\",\"type\":\"BoxAnnotation\"},{\"attributes\":{\"overlay\":{\"id\":\"1045\",\"type\":\"BoxAnnotation\"}},\"id\":\"1024\",\"type\":\"BoxZoomTool\"},{\"attributes\":{},\"id\":\"1010\",\"type\":\"LinearScale\"},{\"attributes\":{},\"id\":\"1055\",\"type\":\"Selection\"},{\"attributes\":{\"axis_label\":\"Mean DP per sample histogram\",\"formatter\":{\"id\":\"1042\",\"type\":\"BasicTickFormatter\"},\"ticker\":{\"id\":\"1013\",\"type\":\"BasicTicker\"}},\"id\":\"1012\",\"type\":\"LinearAxis\"},{\"attributes\":{},\"id\":\"1008\",\"type\":\"LinearScale\"},{\"attributes\":{\"source\":{\"id\":\"1035\",\"type\":\"ColumnDataSource\"}},\"id\":\"1039\",\"type\":\"CDSView\"},{\"attributes\":{\"data_source\":{\"id\":\"1035\",\"type\":\"ColumnDataSource\"},\"glyph\":{\"id\":\"1036\",\"type\":\"Quad\"},\"hover_glyph\":null,\"muted_glyph\":null,\"nonselection_glyph\":{\"id\":\"1037\",\"type\":\"Quad\"},\"selection_glyph\":null,\"view\":{\"id\":\"1039\",\"type\":\"CDSView\"}},\"id\":\"1038\",\"type\":\"GlyphRenderer\"},{\"attributes\":{\"callback\":null},\"id\":\"1006\",\"type\":\"DataRange1d\"},{\"attributes\":{},\"id\":\"1027\",\"type\":\"HelpTool\"},{\"attributes\":{\"callback\":null,\"data\":{\"left\":[0.0,2.0,4.0,6.0,8.0,10.0,12.0,14.0,16.0,18.0,20.0,22.0,24.0,26.0,28.0,30.0,32.0,34.0,36.0,38.0,40.0,42.0,44.0,46.0,48.0,50.0,52.0,54.0,56.0,58.0,60.0,62.0,64.0,66.0,68.0,70.0,72.0,74.0,76.0,78.0,80.0,82.0,84.0,86.0,88.0,90.0,92.0,94.0,96.0,98.0],\"right\":[2.0,4.0,6.0,8.0,10.0,12.0,14.0,16.0,18.0,20.0,22.0,24.0,26.0,28.0,30.0,32.0,34.0,36.0,38.0,40.0,42.0,44.0,46.0,48.0,50.0,52.0,54.0,56.0,58.0,60.0,62.0,64.0,66.0,68.0,70.0,72.0,74.0,76.0,78.0,80.0,82.0,84.0,86.0,88.0,90.0,92.0,94.0,96.0,98.0,100.0],\"top\":[0,0,1,0,0,0,1,1,2,0,3,0,1,2,3,3,6,2,5,5,2,3,1,4,0,0,0,1,0,1,1,0,0,0,0,0,0,0,0,0,0,0,0,0,0,0,0,0,0,0]},\"selected\":{\"id\":\"1055\",\"type\":\"Selection\"},\"selection_policy\":{\"id\":\"1054\",\"type\":\"UnionRenderers\"}},\"id\":\"1035\",\"type\":\"ColumnDataSource\"},{\"attributes\":{\"dimension\":1,\"ticker\":{\"id\":\"1018\",\"type\":\"BasicTicker\"}},\"id\":\"1021\",\"type\":\"Grid\"},{\"attributes\":{},\"id\":\"1018\",\"type\":\"BasicTicker\"},{\"attributes\":{},\"id\":\"1026\",\"type\":\"ResetTool\"},{\"attributes\":{\"axis_label\":\"Frequency\",\"formatter\":{\"id\":\"1044\",\"type\":\"BasicTickFormatter\"},\"ticker\":{\"id\":\"1018\",\"type\":\"BasicTicker\"}},\"id\":\"1017\",\"type\":\"LinearAxis\"},{\"attributes\":{\"bottom\":{\"value\":0},\"fill_alpha\":{\"value\":0.1},\"fill_color\":{\"value\":\"#1f77b4\"},\"left\":{\"field\":\"left\"},\"line_alpha\":{\"value\":0.1},\"line_color\":{\"value\":\"#1f77b4\"},\"right\":{\"field\":\"right\"},\"top\":{\"field\":\"top\"}},\"id\":\"1037\",\"type\":\"Quad\"},{\"attributes\":{\"active_drag\":\"auto\",\"active_inspect\":\"auto\",\"active_multi\":null,\"active_scroll\":\"auto\",\"active_tap\":\"auto\",\"tools\":[{\"id\":\"1022\",\"type\":\"PanTool\"},{\"id\":\"1023\",\"type\":\"WheelZoomTool\"},{\"id\":\"1024\",\"type\":\"BoxZoomTool\"},{\"id\":\"1025\",\"type\":\"SaveTool\"},{\"id\":\"1026\",\"type\":\"ResetTool\"},{\"id\":\"1027\",\"type\":\"HelpTool\"}]},\"id\":\"1028\",\"type\":\"Toolbar\"},{\"attributes\":{\"label\":{\"value\":\"Mean DP per sample histogram\"},\"renderers\":[{\"id\":\"1038\",\"type\":\"GlyphRenderer\"}]},\"id\":\"1047\",\"type\":\"LegendItem\"},{\"attributes\":{\"callback\":null,\"end\":105.0,\"start\":-5.0},\"id\":\"1004\",\"type\":\"Range1d\"},{\"attributes\":{},\"id\":\"1022\",\"type\":\"PanTool\"},{\"attributes\":{},\"id\":\"1023\",\"type\":\"WheelZoomTool\"},{\"attributes\":{\"bottom\":{\"value\":0},\"fill_color\":{\"value\":\"#1f77b4\"},\"left\":{\"field\":\"left\"},\"right\":{\"field\":\"right\"},\"top\":{\"field\":\"top\"}},\"id\":\"1036\",\"type\":\"Quad\"},{\"attributes\":{\"items\":[{\"id\":\"1047\",\"type\":\"LegendItem\"}]},\"id\":\"1046\",\"type\":\"Legend\"},{\"attributes\":{},\"id\":\"1013\",\"type\":\"BasicTicker\"},{\"attributes\":{},\"id\":\"1044\",\"type\":\"BasicTickFormatter\"},{\"attributes\":{},\"id\":\"1025\",\"type\":\"SaveTool\"},{\"attributes\":{},\"id\":\"1042\",\"type\":\"BasicTickFormatter\"},{\"attributes\":{\"ticker\":{\"id\":\"1013\",\"type\":\"BasicTicker\"}},\"id\":\"1016\",\"type\":\"Grid\"}],\"root_ids\":[\"1002\"]},\"title\":\"Bokeh Application\",\"version\":\"1.2.0\"}};\n",
       "  var render_items = [{\"docid\":\"3d2324a0-3b5a-4115-a5c9-fe1ae9af2926\",\"roots\":{\"1002\":\"ccf4dc63-c4d8-4e21-bd64-6109417d9063\"}}];\n",
       "  root.Bokeh.embed.embed_items_notebook(docs_json, render_items);\n",
       "\n",
       "  }\n",
       "  if (root.Bokeh !== undefined) {\n",
       "    embed_document(root);\n",
       "  } else {\n",
       "    var attempts = 0;\n",
       "    var timer = setInterval(function(root) {\n",
       "      if (root.Bokeh !== undefined) {\n",
       "        embed_document(root);\n",
       "        clearInterval(timer);\n",
       "      }\n",
       "      attempts++;\n",
       "      if (attempts > 100) {\n",
       "        console.log(\"Bokeh: ERROR: Unable to run BokehJS code because BokehJS library is missing\");\n",
       "        clearInterval(timer);\n",
       "      }\n",
       "    }, 10, root)\n",
       "  }\n",
       "})(window);"
      ],
      "application/vnd.bokehjs_exec.v0+json": ""
     },
     "metadata": {
      "application/vnd.bokehjs_exec.v0+json": {
       "id": "1002"
      }
     },
     "output_type": "display_data"
    }
   ],
   "source": [
    "p = hl.plot.histogram(mt.sample_qc.dp_stats.mean, range=(0,100), legend='Mean DP per sample histogram')\n",
    "show(p)"
   ]
  },
  {
   "cell_type": "code",
   "execution_count": 13,
   "metadata": {},
   "outputs": [
    {
     "data": {
      "text/html": [
       "\n",
       "\n",
       "\n",
       "\n",
       "\n",
       "\n",
       "  <div class=\"bk-root\" id=\"0fd755bc-b613-4ff0-8857-deee66ecf982\" data-root-id=\"1104\"></div>\n"
      ]
     },
     "metadata": {},
     "output_type": "display_data"
    },
    {
     "data": {
      "application/javascript": [
       "(function(root) {\n",
       "  function embed_document(root) {\n",
       "    \n",
       "  var docs_json = {\"e82aab4b-7b83-47f2-9c11-a2c987a43925\":{\"roots\":{\"references\":[{\"attributes\":{\"background_fill_color\":{\"value\":\"#EEEEEE\"},\"below\":[{\"id\":\"1114\",\"type\":\"LinearAxis\"}],\"center\":[{\"id\":\"1118\",\"type\":\"Grid\"},{\"id\":\"1123\",\"type\":\"Grid\"},{\"id\":\"1148\",\"type\":\"Legend\"}],\"left\":[{\"id\":\"1119\",\"type\":\"LinearAxis\"}],\"renderers\":[{\"id\":\"1140\",\"type\":\"GlyphRenderer\"}],\"title\":null,\"toolbar\":{\"id\":\"1130\",\"type\":\"Toolbar\"},\"x_range\":{\"id\":\"1106\",\"type\":\"Range1d\"},\"x_scale\":{\"id\":\"1110\",\"type\":\"LinearScale\"},\"y_range\":{\"id\":\"1108\",\"type\":\"DataRange1d\"},\"y_scale\":{\"id\":\"1112\",\"type\":\"LinearScale\"}},\"id\":\"1104\",\"subtype\":\"Figure\",\"type\":\"Plot\"},{\"attributes\":{},\"id\":\"1124\",\"type\":\"PanTool\"},{\"attributes\":{\"axis_label\":\"Frequency\",\"formatter\":{\"id\":\"1146\",\"type\":\"BasicTickFormatter\"},\"ticker\":{\"id\":\"1120\",\"type\":\"BasicTicker\"}},\"id\":\"1119\",\"type\":\"LinearAxis\"},{\"attributes\":{\"ticker\":{\"id\":\"1115\",\"type\":\"BasicTicker\"}},\"id\":\"1118\",\"type\":\"Grid\"},{\"attributes\":{},\"id\":\"1125\",\"type\":\"WheelZoomTool\"},{\"attributes\":{\"bottom\":{\"value\":0},\"fill_color\":{\"value\":\"#1f77b4\"},\"left\":{\"field\":\"left\"},\"right\":{\"field\":\"right\"},\"top\":{\"field\":\"top\"}},\"id\":\"1138\",\"type\":\"Quad\"},{\"attributes\":{},\"id\":\"1128\",\"type\":\"ResetTool\"},{\"attributes\":{\"callback\":null,\"end\":104.5,\"start\":5.5},\"id\":\"1106\",\"type\":\"Range1d\"},{\"attributes\":{},\"id\":\"1164\",\"type\":\"UnionRenderers\"},{\"attributes\":{\"active_drag\":\"auto\",\"active_inspect\":\"auto\",\"active_multi\":null,\"active_scroll\":\"auto\",\"active_tap\":\"auto\",\"tools\":[{\"id\":\"1124\",\"type\":\"PanTool\"},{\"id\":\"1125\",\"type\":\"WheelZoomTool\"},{\"id\":\"1126\",\"type\":\"BoxZoomTool\"},{\"id\":\"1127\",\"type\":\"SaveTool\"},{\"id\":\"1128\",\"type\":\"ResetTool\"},{\"id\":\"1129\",\"type\":\"HelpTool\"}]},\"id\":\"1130\",\"type\":\"Toolbar\"},{\"attributes\":{\"overlay\":{\"id\":\"1147\",\"type\":\"BoxAnnotation\"}},\"id\":\"1126\",\"type\":\"BoxZoomTool\"},{\"attributes\":{\"bottom_units\":\"screen\",\"fill_alpha\":{\"value\":0.5},\"fill_color\":{\"value\":\"lightgrey\"},\"left_units\":\"screen\",\"level\":\"overlay\",\"line_alpha\":{\"value\":1.0},\"line_color\":{\"value\":\"black\"},\"line_dash\":[4,4],\"line_width\":{\"value\":2},\"render_mode\":\"css\",\"right_units\":\"screen\",\"top_units\":\"screen\"},\"id\":\"1147\",\"type\":\"BoxAnnotation\"},{\"attributes\":{},\"id\":\"1112\",\"type\":\"LinearScale\"},{\"attributes\":{\"label\":{\"value\":\"Mean Sample GQ\"},\"renderers\":[{\"id\":\"1140\",\"type\":\"GlyphRenderer\"}]},\"id\":\"1149\",\"type\":\"LegendItem\"},{\"attributes\":{},\"id\":\"1115\",\"type\":\"BasicTicker\"},{\"attributes\":{\"source\":{\"id\":\"1137\",\"type\":\"ColumnDataSource\"}},\"id\":\"1141\",\"type\":\"CDSView\"},{\"attributes\":{},\"id\":\"1144\",\"type\":\"BasicTickFormatter\"},{\"attributes\":{},\"id\":\"1165\",\"type\":\"Selection\"},{\"attributes\":{\"dimension\":1,\"ticker\":{\"id\":\"1120\",\"type\":\"BasicTicker\"}},\"id\":\"1123\",\"type\":\"Grid\"},{\"attributes\":{},\"id\":\"1110\",\"type\":\"LinearScale\"},{\"attributes\":{\"items\":[{\"id\":\"1149\",\"type\":\"LegendItem\"}]},\"id\":\"1148\",\"type\":\"Legend\"},{\"attributes\":{\"axis_label\":\"Mean Sample GQ\",\"formatter\":{\"id\":\"1144\",\"type\":\"BasicTickFormatter\"},\"ticker\":{\"id\":\"1115\",\"type\":\"BasicTicker\"}},\"id\":\"1114\",\"type\":\"LinearAxis\"},{\"attributes\":{},\"id\":\"1146\",\"type\":\"BasicTickFormatter\"},{\"attributes\":{},\"id\":\"1127\",\"type\":\"SaveTool\"},{\"attributes\":{\"data_source\":{\"id\":\"1137\",\"type\":\"ColumnDataSource\"},\"glyph\":{\"id\":\"1138\",\"type\":\"Quad\"},\"hover_glyph\":null,\"muted_glyph\":null,\"nonselection_glyph\":{\"id\":\"1139\",\"type\":\"Quad\"},\"selection_glyph\":null,\"view\":{\"id\":\"1141\",\"type\":\"CDSView\"}},\"id\":\"1140\",\"type\":\"GlyphRenderer\"},{\"attributes\":{\"bottom\":{\"value\":0},\"fill_alpha\":{\"value\":0.1},\"fill_color\":{\"value\":\"#1f77b4\"},\"left\":{\"field\":\"left\"},\"line_alpha\":{\"value\":0.1},\"line_color\":{\"value\":\"#1f77b4\"},\"right\":{\"field\":\"right\"},\"top\":{\"field\":\"top\"}},\"id\":\"1139\",\"type\":\"Quad\"},{\"attributes\":{},\"id\":\"1129\",\"type\":\"HelpTool\"},{\"attributes\":{\"callback\":null},\"id\":\"1108\",\"type\":\"DataRange1d\"},{\"attributes\":{\"callback\":null,\"data\":{\"left\":[10.0,11.8,13.6,15.4,17.2,19.0,20.8,22.6,24.4,26.2,28.0,29.8,31.6,33.400000000000006,35.2,37.0,38.8,40.6,42.4,44.2,46.0,47.800000000000004,49.6,51.4,53.2,55.0,56.800000000000004,58.6,60.4,62.2,64.0,65.80000000000001,67.6,69.4,71.2,73.0,74.8,76.60000000000001,78.4,80.2,82.0,83.8,85.60000000000001,87.4,89.2,91.0,92.8,94.60000000000001,96.4,98.2],\"right\":[11.8,13.6,15.4,17.2,19.0,20.8,22.6,24.4,26.2,28.0,29.8,31.6,33.400000000000006,35.2,37.0,38.8,40.6,42.4,44.2,46.0,47.800000000000004,49.6,51.4,53.2,55.0,56.800000000000004,58.6,60.4,62.2,64.0,65.80000000000001,67.6,69.4,71.2,73.0,74.8,76.60000000000001,78.4,80.2,82.0,83.8,85.60000000000001,87.4,89.2,91.0,92.8,94.60000000000001,96.4,98.2,100.0],\"top\":[0,0,0,1,0,0,0,0,0,1,1,0,1,1,1,1,1,0,2,6,3,6,5,9,3,1,3,2,0,0,0,0,0,0,0,0,0,0,0,0,0,0,0,0,0,0,0,0,0,0]},\"selected\":{\"id\":\"1165\",\"type\":\"Selection\"},\"selection_policy\":{\"id\":\"1164\",\"type\":\"UnionRenderers\"}},\"id\":\"1137\",\"type\":\"ColumnDataSource\"},{\"attributes\":{},\"id\":\"1120\",\"type\":\"BasicTicker\"}],\"root_ids\":[\"1104\"]},\"title\":\"Bokeh Application\",\"version\":\"1.2.0\"}};\n",
       "  var render_items = [{\"docid\":\"e82aab4b-7b83-47f2-9c11-a2c987a43925\",\"roots\":{\"1104\":\"0fd755bc-b613-4ff0-8857-deee66ecf982\"}}];\n",
       "  root.Bokeh.embed.embed_items_notebook(docs_json, render_items);\n",
       "\n",
       "  }\n",
       "  if (root.Bokeh !== undefined) {\n",
       "    embed_document(root);\n",
       "  } else {\n",
       "    var attempts = 0;\n",
       "    var timer = setInterval(function(root) {\n",
       "      if (root.Bokeh !== undefined) {\n",
       "        embed_document(root);\n",
       "        clearInterval(timer);\n",
       "      }\n",
       "      attempts++;\n",
       "      if (attempts > 100) {\n",
       "        console.log(\"Bokeh: ERROR: Unable to run BokehJS code because BokehJS library is missing\");\n",
       "        clearInterval(timer);\n",
       "      }\n",
       "    }, 10, root)\n",
       "  }\n",
       "})(window);"
      ],
      "application/vnd.bokehjs_exec.v0+json": ""
     },
     "metadata": {
      "application/vnd.bokehjs_exec.v0+json": {
       "id": "1104"
      }
     },
     "output_type": "display_data"
    }
   ],
   "source": [
    "p = hl.plot.histogram(mt.sample_qc.gq_stats.mean, range=(10,100), legend='Mean Sample GQ')\n",
    "show(p)"
   ]
  },
  {
   "cell_type": "code",
   "execution_count": 14,
   "metadata": {},
   "outputs": [
    {
     "data": {
      "text/html": [
       "\n",
       "\n",
       "\n",
       "\n",
       "\n",
       "\n",
       "  <div class=\"bk-root\" id=\"6e788155-c448-4cd8-a34e-85ff26bd94a2\" data-root-id=\"1214\"></div>\n"
      ]
     },
     "metadata": {},
     "output_type": "display_data"
    },
    {
     "data": {
      "application/javascript": [
       "(function(root) {\n",
       "  function embed_document(root) {\n",
       "    \n",
       "  var docs_json = {\"76a9a345-e5ea-41f9-a417-48e970bf3bd4\":{\"roots\":{\"references\":[{\"attributes\":{\"background_fill_color\":{\"value\":\"#EEEEEE\"},\"below\":[{\"id\":\"1224\",\"type\":\"LinearAxis\"}],\"center\":[{\"id\":\"1228\",\"type\":\"Grid\"},{\"id\":\"1233\",\"type\":\"Grid\"},{\"id\":\"1258\",\"type\":\"Legend\"}],\"left\":[{\"id\":\"1229\",\"type\":\"LinearAxis\"}],\"renderers\":[{\"id\":\"1250\",\"type\":\"GlyphRenderer\"}],\"title\":null,\"toolbar\":{\"id\":\"1240\",\"type\":\"Toolbar\"},\"x_range\":{\"id\":\"1216\",\"type\":\"Range1d\"},\"x_scale\":{\"id\":\"1220\",\"type\":\"LinearScale\"},\"y_range\":{\"id\":\"1218\",\"type\":\"DataRange1d\"},\"y_scale\":{\"id\":\"1222\",\"type\":\"LinearScale\"}},\"id\":\"1214\",\"subtype\":\"Figure\",\"type\":\"Plot\"},{\"attributes\":{},\"id\":\"1225\",\"type\":\"BasicTicker\"},{\"attributes\":{\"axis_label\":\"Het/hom rate\",\"formatter\":{\"id\":\"1254\",\"type\":\"BasicTickFormatter\"},\"ticker\":{\"id\":\"1225\",\"type\":\"BasicTicker\"}},\"id\":\"1224\",\"type\":\"LinearAxis\"},{\"attributes\":{},\"id\":\"1254\",\"type\":\"BasicTickFormatter\"},{\"attributes\":{\"source\":{\"id\":\"1247\",\"type\":\"ColumnDataSource\"}},\"id\":\"1251\",\"type\":\"CDSView\"},{\"attributes\":{},\"id\":\"1222\",\"type\":\"LinearScale\"},{\"attributes\":{\"bottom\":{\"value\":0},\"fill_alpha\":{\"value\":0.1},\"fill_color\":{\"value\":\"#1f77b4\"},\"left\":{\"field\":\"left\"},\"line_alpha\":{\"value\":0.1},\"line_color\":{\"value\":\"#1f77b4\"},\"right\":{\"field\":\"right\"},\"top\":{\"field\":\"top\"}},\"id\":\"1249\",\"type\":\"Quad\"},{\"attributes\":{},\"id\":\"1283\",\"type\":\"Selection\"},{\"attributes\":{\"bottom\":{\"value\":0},\"fill_color\":{\"value\":\"#1f77b4\"},\"left\":{\"field\":\"left\"},\"right\":{\"field\":\"right\"},\"top\":{\"field\":\"top\"}},\"id\":\"1248\",\"type\":\"Quad\"},{\"attributes\":{\"data_source\":{\"id\":\"1247\",\"type\":\"ColumnDataSource\"},\"glyph\":{\"id\":\"1248\",\"type\":\"Quad\"},\"hover_glyph\":null,\"muted_glyph\":null,\"nonselection_glyph\":{\"id\":\"1249\",\"type\":\"Quad\"},\"selection_glyph\":null,\"view\":{\"id\":\"1251\",\"type\":\"CDSView\"}},\"id\":\"1250\",\"type\":\"GlyphRenderer\"},{\"attributes\":{\"axis_label\":\"Frequency\",\"formatter\":{\"id\":\"1256\",\"type\":\"BasicTickFormatter\"},\"ticker\":{\"id\":\"1230\",\"type\":\"BasicTicker\"}},\"id\":\"1229\",\"type\":\"LinearAxis\"},{\"attributes\":{},\"id\":\"1282\",\"type\":\"UnionRenderers\"},{\"attributes\":{},\"id\":\"1237\",\"type\":\"SaveTool\"},{\"attributes\":{},\"id\":\"1256\",\"type\":\"BasicTickFormatter\"},{\"attributes\":{},\"id\":\"1238\",\"type\":\"ResetTool\"},{\"attributes\":{\"callback\":null},\"id\":\"1218\",\"type\":\"DataRange1d\"},{\"attributes\":{},\"id\":\"1234\",\"type\":\"PanTool\"},{\"attributes\":{\"dimension\":1,\"ticker\":{\"id\":\"1230\",\"type\":\"BasicTicker\"}},\"id\":\"1233\",\"type\":\"Grid\"},{\"attributes\":{\"overlay\":{\"id\":\"1257\",\"type\":\"BoxAnnotation\"}},\"id\":\"1236\",\"type\":\"BoxZoomTool\"},{\"attributes\":{\"active_drag\":\"auto\",\"active_inspect\":\"auto\",\"active_multi\":null,\"active_scroll\":\"auto\",\"active_tap\":\"auto\",\"tools\":[{\"id\":\"1234\",\"type\":\"PanTool\"},{\"id\":\"1235\",\"type\":\"WheelZoomTool\"},{\"id\":\"1236\",\"type\":\"BoxZoomTool\"},{\"id\":\"1237\",\"type\":\"SaveTool\"},{\"id\":\"1238\",\"type\":\"ResetTool\"},{\"id\":\"1239\",\"type\":\"HelpTool\"}]},\"id\":\"1240\",\"type\":\"Toolbar\"},{\"attributes\":{\"bottom_units\":\"screen\",\"fill_alpha\":{\"value\":0.5},\"fill_color\":{\"value\":\"lightgrey\"},\"left_units\":\"screen\",\"level\":\"overlay\",\"line_alpha\":{\"value\":1.0},\"line_color\":{\"value\":\"black\"},\"line_dash\":[4,4],\"line_width\":{\"value\":2},\"render_mode\":\"css\",\"right_units\":\"screen\",\"top_units\":\"screen\"},\"id\":\"1257\",\"type\":\"BoxAnnotation\"},{\"attributes\":{\"label\":{\"value\":\"Het/hom rate\"},\"renderers\":[{\"id\":\"1250\",\"type\":\"GlyphRenderer\"}]},\"id\":\"1259\",\"type\":\"LegendItem\"},{\"attributes\":{\"callback\":null,\"end\":23.0,\"start\":1.0},\"id\":\"1216\",\"type\":\"Range1d\"},{\"attributes\":{},\"id\":\"1230\",\"type\":\"BasicTicker\"},{\"attributes\":{\"callback\":null,\"data\":{\"left\":[2.0,2.4,2.8,3.2,3.6,4.0,4.4,4.800000000000001,5.2,5.6,6.0,6.4,6.800000000000001,7.2,7.6000000000000005,8.0,8.4,8.8,9.2,9.600000000000001,10.0,10.4,10.8,11.200000000000001,11.600000000000001,12.0,12.4,12.8,13.200000000000001,13.600000000000001,14.0,14.4,14.8,15.200000000000001,15.600000000000001,16.0,16.4,16.8,17.200000000000003,17.6,18.0,18.400000000000002,18.8,19.2,19.6,20.0,20.400000000000002,20.8,21.200000000000003,21.6],\"right\":[2.4,2.8,3.2,3.6,4.0,4.4,4.800000000000001,5.2,5.6,6.0,6.4,6.800000000000001,7.2,7.6000000000000005,8.0,8.4,8.8,9.2,9.600000000000001,10.0,10.4,10.8,11.200000000000001,11.600000000000001,12.0,12.4,12.8,13.200000000000001,13.600000000000001,14.0,14.4,14.8,15.200000000000001,15.600000000000001,16.0,16.4,16.8,17.200000000000003,17.6,18.0,18.400000000000002,18.8,19.2,19.6,20.0,20.400000000000002,20.8,21.200000000000003,21.6,22.0],\"top\":[0,0,0,0,1,0,0,1,0,0,1,1,0,1,1,4,0,3,1,2,3,1,1,5,3,5,3,3,2,0,3,2,0,1,0,0,0,0,0,0,0,0,0,0,0,0,0,0,0,0]},\"selected\":{\"id\":\"1283\",\"type\":\"Selection\"},\"selection_policy\":{\"id\":\"1282\",\"type\":\"UnionRenderers\"}},\"id\":\"1247\",\"type\":\"ColumnDataSource\"},{\"attributes\":{\"ticker\":{\"id\":\"1225\",\"type\":\"BasicTicker\"}},\"id\":\"1228\",\"type\":\"Grid\"},{\"attributes\":{\"items\":[{\"id\":\"1259\",\"type\":\"LegendItem\"}]},\"id\":\"1258\",\"type\":\"Legend\"},{\"attributes\":{},\"id\":\"1239\",\"type\":\"HelpTool\"},{\"attributes\":{},\"id\":\"1220\",\"type\":\"LinearScale\"},{\"attributes\":{},\"id\":\"1235\",\"type\":\"WheelZoomTool\"}],\"root_ids\":[\"1214\"]},\"title\":\"Bokeh Application\",\"version\":\"1.2.0\"}};\n",
       "  var render_items = [{\"docid\":\"76a9a345-e5ea-41f9-a417-48e970bf3bd4\",\"roots\":{\"1214\":\"6e788155-c448-4cd8-a34e-85ff26bd94a2\"}}];\n",
       "  root.Bokeh.embed.embed_items_notebook(docs_json, render_items);\n",
       "\n",
       "  }\n",
       "  if (root.Bokeh !== undefined) {\n",
       "    embed_document(root);\n",
       "  } else {\n",
       "    var attempts = 0;\n",
       "    var timer = setInterval(function(root) {\n",
       "      if (root.Bokeh !== undefined) {\n",
       "        embed_document(root);\n",
       "        clearInterval(timer);\n",
       "      }\n",
       "      attempts++;\n",
       "      if (attempts > 100) {\n",
       "        console.log(\"Bokeh: ERROR: Unable to run BokehJS code because BokehJS library is missing\");\n",
       "        clearInterval(timer);\n",
       "      }\n",
       "    }, 10, root)\n",
       "  }\n",
       "})(window);"
      ],
      "application/vnd.bokehjs_exec.v0+json": ""
     },
     "metadata": {
      "application/vnd.bokehjs_exec.v0+json": {
       "id": "1214"
      }
     },
     "output_type": "display_data"
    }
   ],
   "source": [
    "p = hl.plot.histogram(mt.sample_qc.r_het_hom_var, range=(2,22), legend='Het/hom rate')\n",
    "show(p)"
   ]
  },
  {
   "cell_type": "code",
   "execution_count": 15,
   "metadata": {},
   "outputs": [
    {
     "data": {
      "text/html": [
       "\n",
       "\n",
       "\n",
       "\n",
       "\n",
       "\n",
       "  <div class=\"bk-root\" id=\"c6499f17-bd23-412d-8765-ce32e03b09cf\" data-root-id=\"1332\"></div>\n"
      ]
     },
     "metadata": {},
     "output_type": "display_data"
    },
    {
     "data": {
      "application/javascript": [
       "(function(root) {\n",
       "  function embed_document(root) {\n",
       "    \n",
       "  var docs_json = {\"9b97e369-fddb-45d9-a639-1b32c664344d\":{\"roots\":{\"references\":[{\"attributes\":{\"background_fill_color\":{\"value\":\"#EEEEEE\"},\"below\":[{\"id\":\"1342\",\"type\":\"LinearAxis\"}],\"center\":[{\"id\":\"1346\",\"type\":\"Grid\"},{\"id\":\"1351\",\"type\":\"Grid\"},{\"id\":\"1376\",\"type\":\"Legend\"}],\"left\":[{\"id\":\"1347\",\"type\":\"LinearAxis\"}],\"renderers\":[{\"id\":\"1368\",\"type\":\"GlyphRenderer\"}],\"title\":null,\"toolbar\":{\"id\":\"1358\",\"type\":\"Toolbar\"},\"x_range\":{\"id\":\"1334\",\"type\":\"Range1d\"},\"x_scale\":{\"id\":\"1338\",\"type\":\"LinearScale\"},\"y_range\":{\"id\":\"1336\",\"type\":\"DataRange1d\"},\"y_scale\":{\"id\":\"1340\",\"type\":\"LinearScale\"}},\"id\":\"1332\",\"subtype\":\"Figure\",\"type\":\"Plot\"},{\"attributes\":{},\"id\":\"1348\",\"type\":\"BasicTicker\"},{\"attributes\":{\"active_drag\":\"auto\",\"active_inspect\":\"auto\",\"active_multi\":null,\"active_scroll\":\"auto\",\"active_tap\":\"auto\",\"tools\":[{\"id\":\"1352\",\"type\":\"PanTool\"},{\"id\":\"1353\",\"type\":\"WheelZoomTool\"},{\"id\":\"1354\",\"type\":\"BoxZoomTool\"},{\"id\":\"1355\",\"type\":\"SaveTool\"},{\"id\":\"1356\",\"type\":\"ResetTool\"},{\"id\":\"1357\",\"type\":\"HelpTool\"}]},\"id\":\"1358\",\"type\":\"Toolbar\"},{\"attributes\":{},\"id\":\"1355\",\"type\":\"SaveTool\"},{\"attributes\":{\"bottom_units\":\"screen\",\"fill_alpha\":{\"value\":0.5},\"fill_color\":{\"value\":\"lightgrey\"},\"left_units\":\"screen\",\"level\":\"overlay\",\"line_alpha\":{\"value\":1.0},\"line_color\":{\"value\":\"black\"},\"line_dash\":[4,4],\"line_width\":{\"value\":2},\"render_mode\":\"css\",\"right_units\":\"screen\",\"top_units\":\"screen\"},\"id\":\"1375\",\"type\":\"BoxAnnotation\"},{\"attributes\":{\"source\":{\"id\":\"1365\",\"type\":\"ColumnDataSource\"}},\"id\":\"1369\",\"type\":\"CDSView\"},{\"attributes\":{},\"id\":\"1353\",\"type\":\"WheelZoomTool\"},{\"attributes\":{\"data_source\":{\"id\":\"1365\",\"type\":\"ColumnDataSource\"},\"glyph\":{\"id\":\"1366\",\"type\":\"Quad\"},\"hover_glyph\":null,\"muted_glyph\":null,\"nonselection_glyph\":{\"id\":\"1367\",\"type\":\"Quad\"},\"selection_glyph\":null,\"view\":{\"id\":\"1369\",\"type\":\"CDSView\"}},\"id\":\"1368\",\"type\":\"GlyphRenderer\"},{\"attributes\":{\"items\":[{\"id\":\"1377\",\"type\":\"LegendItem\"}]},\"id\":\"1376\",\"type\":\"Legend\"},{\"attributes\":{},\"id\":\"1372\",\"type\":\"BasicTickFormatter\"},{\"attributes\":{},\"id\":\"1357\",\"type\":\"HelpTool\"},{\"attributes\":{},\"id\":\"1408\",\"type\":\"UnionRenderers\"},{\"attributes\":{\"ticker\":{\"id\":\"1343\",\"type\":\"BasicTicker\"}},\"id\":\"1346\",\"type\":\"Grid\"},{\"attributes\":{\"overlay\":{\"id\":\"1375\",\"type\":\"BoxAnnotation\"}},\"id\":\"1354\",\"type\":\"BoxZoomTool\"},{\"attributes\":{},\"id\":\"1340\",\"type\":\"LinearScale\"},{\"attributes\":{\"label\":{\"value\":\"Ti/Tv rate\"},\"renderers\":[{\"id\":\"1368\",\"type\":\"GlyphRenderer\"}]},\"id\":\"1377\",\"type\":\"LegendItem\"},{\"attributes\":{\"callback\":null},\"id\":\"1336\",\"type\":\"DataRange1d\"},{\"attributes\":{\"axis_label\":\"Ti/Tv rate\",\"formatter\":{\"id\":\"1372\",\"type\":\"BasicTickFormatter\"},\"ticker\":{\"id\":\"1343\",\"type\":\"BasicTicker\"}},\"id\":\"1342\",\"type\":\"LinearAxis\"},{\"attributes\":{},\"id\":\"1352\",\"type\":\"PanTool\"},{\"attributes\":{\"callback\":null,\"data\":{\"left\":[0.4,0.41600000000000004,0.43200000000000005,0.448,0.464,0.48000000000000004,0.496,0.512,0.528,0.544,0.56,0.5760000000000001,0.5920000000000001,0.6080000000000001,0.624,0.64,0.656,0.672,0.6880000000000001,0.704,0.72,0.736,0.752,0.768,0.784,0.8,0.8160000000000001,0.8320000000000001,0.8480000000000001,0.8640000000000001,0.88,0.896,0.912,0.928,0.9440000000000001,0.9600000000000001,0.9760000000000001,0.992,1.008,1.024,1.04,1.056,1.072,1.088,1.104,1.12,1.1360000000000001,1.1520000000000001,1.1680000000000001,1.1840000000000002],\"right\":[0.41600000000000004,0.43200000000000005,0.448,0.464,0.48000000000000004,0.496,0.512,0.528,0.544,0.56,0.5760000000000001,0.5920000000000001,0.6080000000000001,0.624,0.64,0.656,0.672,0.6880000000000001,0.704,0.72,0.736,0.752,0.768,0.784,0.8,0.8160000000000001,0.8320000000000001,0.8480000000000001,0.8640000000000001,0.88,0.896,0.912,0.928,0.9440000000000001,0.9600000000000001,0.9760000000000001,0.992,1.008,1.024,1.04,1.056,1.072,1.088,1.104,1.12,1.1360000000000001,1.1520000000000001,1.1680000000000001,1.1840000000000002,1.2000000000000002],\"top\":[0,0,0,0,0,0,0,0,0,0,0,1,3,1,1,2,5,8,8,2,0,0,1,2,1,2,1,1,2,0,4,0,1,0,0,0,0,1,0,0,0,0,1,0,0,0,0,0,0,0]},\"selected\":{\"id\":\"1409\",\"type\":\"Selection\"},\"selection_policy\":{\"id\":\"1408\",\"type\":\"UnionRenderers\"}},\"id\":\"1365\",\"type\":\"ColumnDataSource\"},{\"attributes\":{},\"id\":\"1343\",\"type\":\"BasicTicker\"},{\"attributes\":{},\"id\":\"1409\",\"type\":\"Selection\"},{\"attributes\":{\"callback\":null,\"end\":1.2400000000000002,\"start\":0.36},\"id\":\"1334\",\"type\":\"Range1d\"},{\"attributes\":{},\"id\":\"1356\",\"type\":\"ResetTool\"},{\"attributes\":{\"bottom\":{\"value\":0},\"fill_color\":{\"value\":\"#1f77b4\"},\"left\":{\"field\":\"left\"},\"right\":{\"field\":\"right\"},\"top\":{\"field\":\"top\"}},\"id\":\"1366\",\"type\":\"Quad\"},{\"attributes\":{\"dimension\":1,\"ticker\":{\"id\":\"1348\",\"type\":\"BasicTicker\"}},\"id\":\"1351\",\"type\":\"Grid\"},{\"attributes\":{\"bottom\":{\"value\":0},\"fill_alpha\":{\"value\":0.1},\"fill_color\":{\"value\":\"#1f77b4\"},\"left\":{\"field\":\"left\"},\"line_alpha\":{\"value\":0.1},\"line_color\":{\"value\":\"#1f77b4\"},\"right\":{\"field\":\"right\"},\"top\":{\"field\":\"top\"}},\"id\":\"1367\",\"type\":\"Quad\"},{\"attributes\":{},\"id\":\"1374\",\"type\":\"BasicTickFormatter\"},{\"attributes\":{\"axis_label\":\"Frequency\",\"formatter\":{\"id\":\"1374\",\"type\":\"BasicTickFormatter\"},\"ticker\":{\"id\":\"1348\",\"type\":\"BasicTicker\"}},\"id\":\"1347\",\"type\":\"LinearAxis\"},{\"attributes\":{},\"id\":\"1338\",\"type\":\"LinearScale\"}],\"root_ids\":[\"1332\"]},\"title\":\"Bokeh Application\",\"version\":\"1.2.0\"}};\n",
       "  var render_items = [{\"docid\":\"9b97e369-fddb-45d9-a639-1b32c664344d\",\"roots\":{\"1332\":\"c6499f17-bd23-412d-8765-ce32e03b09cf\"}}];\n",
       "  root.Bokeh.embed.embed_items_notebook(docs_json, render_items);\n",
       "\n",
       "  }\n",
       "  if (root.Bokeh !== undefined) {\n",
       "    embed_document(root);\n",
       "  } else {\n",
       "    var attempts = 0;\n",
       "    var timer = setInterval(function(root) {\n",
       "      if (root.Bokeh !== undefined) {\n",
       "        embed_document(root);\n",
       "        clearInterval(timer);\n",
       "      }\n",
       "      attempts++;\n",
       "      if (attempts > 100) {\n",
       "        console.log(\"Bokeh: ERROR: Unable to run BokehJS code because BokehJS library is missing\");\n",
       "        clearInterval(timer);\n",
       "      }\n",
       "    }, 10, root)\n",
       "  }\n",
       "})(window);"
      ],
      "application/vnd.bokehjs_exec.v0+json": ""
     },
     "metadata": {
      "application/vnd.bokehjs_exec.v0+json": {
       "id": "1332"
      }
     },
     "output_type": "display_data"
    }
   ],
   "source": [
    "p = hl.plot.histogram(mt.sample_qc.r_ti_tv, range=(0.4,1.2), legend='Ti/Tv rate')\n",
    "show(p)"
   ]
  },
  {
   "cell_type": "code",
   "execution_count": 16,
   "metadata": {},
   "outputs": [],
   "source": [
    "min_singl = mt.aggregate_cols(hl.agg.min(mt.sample_qc.n_singleton))\n",
    "max_singl = mt.aggregate_cols(hl.agg.max(mt.sample_qc.n_singleton))"
   ]
  },
  {
   "cell_type": "code",
   "execution_count": 17,
   "metadata": {},
   "outputs": [
    {
     "data": {
      "text/html": [
       "\n",
       "\n",
       "\n",
       "\n",
       "\n",
       "\n",
       "  <div class=\"bk-root\" id=\"25715ded-d83b-4962-8083-02e5f99e2f65\" data-root-id=\"1458\"></div>\n"
      ]
     },
     "metadata": {},
     "output_type": "display_data"
    },
    {
     "data": {
      "application/javascript": [
       "(function(root) {\n",
       "  function embed_document(root) {\n",
       "    \n",
       "  var docs_json = {\"d493ab3c-9980-4b8b-a2cf-738ee89b775d\":{\"roots\":{\"references\":[{\"attributes\":{\"background_fill_color\":{\"value\":\"#EEEEEE\"},\"below\":[{\"id\":\"1468\",\"type\":\"LinearAxis\"}],\"center\":[{\"id\":\"1472\",\"type\":\"Grid\"},{\"id\":\"1477\",\"type\":\"Grid\"},{\"id\":\"1502\",\"type\":\"Legend\"}],\"left\":[{\"id\":\"1473\",\"type\":\"LinearAxis\"}],\"renderers\":[{\"id\":\"1494\",\"type\":\"GlyphRenderer\"}],\"title\":null,\"toolbar\":{\"id\":\"1484\",\"type\":\"Toolbar\"},\"x_range\":{\"id\":\"1460\",\"type\":\"Range1d\"},\"x_scale\":{\"id\":\"1464\",\"type\":\"LinearScale\"},\"y_range\":{\"id\":\"1462\",\"type\":\"DataRange1d\"},\"y_scale\":{\"id\":\"1466\",\"type\":\"LinearScale\"}},\"id\":\"1458\",\"subtype\":\"Figure\",\"type\":\"Plot\"},{\"attributes\":{},\"id\":\"1464\",\"type\":\"LinearScale\"},{\"attributes\":{\"bottom\":{\"value\":0},\"fill_alpha\":{\"value\":0.1},\"fill_color\":{\"value\":\"#1f77b4\"},\"left\":{\"field\":\"left\"},\"line_alpha\":{\"value\":0.1},\"line_color\":{\"value\":\"#1f77b4\"},\"right\":{\"field\":\"right\"},\"top\":{\"field\":\"top\"}},\"id\":\"1493\",\"type\":\"Quad\"},{\"attributes\":{},\"id\":\"1481\",\"type\":\"SaveTool\"},{\"attributes\":{\"callback\":null,\"data\":{\"left\":[4.0,4.66,5.32,5.98,6.640000000000001,7.300000000000001,7.96,8.620000000000001,9.280000000000001,9.940000000000001,10.600000000000001,11.260000000000002,11.92,12.58,13.24,13.9,14.56,15.22,15.88,16.54,17.200000000000003,17.86,18.520000000000003,19.18,19.84,20.5,21.16,21.82,22.48,23.14,23.8,24.46,25.12,25.78,26.44,27.1,27.76,28.42,29.080000000000002,29.740000000000002,30.400000000000002,31.060000000000002,31.720000000000002,32.38,33.040000000000006,33.7,34.36,35.02,35.68,36.34],\"right\":[4.66,5.32,5.98,6.640000000000001,7.300000000000001,7.96,8.620000000000001,9.280000000000001,9.940000000000001,10.600000000000001,11.260000000000002,11.92,12.58,13.24,13.9,14.56,15.22,15.88,16.54,17.200000000000003,17.86,18.520000000000003,19.18,19.84,20.5,21.16,21.82,22.48,23.14,23.8,24.46,25.12,25.78,26.44,27.1,27.76,28.42,29.080000000000002,29.740000000000002,30.400000000000002,31.060000000000002,31.720000000000002,32.38,33.040000000000006,33.7,34.36,35.02,35.68,36.34,37.0],\"top\":[1,0,0,1,1,0,0,1,0,1,2,0,0,1,0,1,1,0,1,2,0,0,1,0,1,1,0,4,2,0,4,4,0,0,1,0,3,3,0,3,1,0,0,2,0,2,1,0,0,2]},\"selected\":{\"id\":\"1543\",\"type\":\"Selection\"},\"selection_policy\":{\"id\":\"1542\",\"type\":\"UnionRenderers\"}},\"id\":\"1491\",\"type\":\"ColumnDataSource\"},{\"attributes\":{},\"id\":\"1478\",\"type\":\"PanTool\"},{\"attributes\":{},\"id\":\"1500\",\"type\":\"BasicTickFormatter\"},{\"attributes\":{\"ticker\":{\"id\":\"1469\",\"type\":\"BasicTicker\"}},\"id\":\"1472\",\"type\":\"Grid\"},{\"attributes\":{\"data_source\":{\"id\":\"1491\",\"type\":\"ColumnDataSource\"},\"glyph\":{\"id\":\"1492\",\"type\":\"Quad\"},\"hover_glyph\":null,\"muted_glyph\":null,\"nonselection_glyph\":{\"id\":\"1493\",\"type\":\"Quad\"},\"selection_glyph\":null,\"view\":{\"id\":\"1495\",\"type\":\"CDSView\"}},\"id\":\"1494\",\"type\":\"GlyphRenderer\"},{\"attributes\":{\"bottom\":{\"value\":0},\"fill_color\":{\"value\":\"#1f77b4\"},\"left\":{\"field\":\"left\"},\"right\":{\"field\":\"right\"},\"top\":{\"field\":\"top\"}},\"id\":\"1492\",\"type\":\"Quad\"},{\"attributes\":{},\"id\":\"1474\",\"type\":\"BasicTicker\"},{\"attributes\":{\"source\":{\"id\":\"1491\",\"type\":\"ColumnDataSource\"}},\"id\":\"1495\",\"type\":\"CDSView\"},{\"attributes\":{\"dimension\":1,\"ticker\":{\"id\":\"1474\",\"type\":\"BasicTicker\"}},\"id\":\"1477\",\"type\":\"Grid\"},{\"attributes\":{},\"id\":\"1543\",\"type\":\"Selection\"},{\"attributes\":{},\"id\":\"1466\",\"type\":\"LinearScale\"},{\"attributes\":{\"overlay\":{\"id\":\"1501\",\"type\":\"BoxAnnotation\"}},\"id\":\"1480\",\"type\":\"BoxZoomTool\"},{\"attributes\":{},\"id\":\"1498\",\"type\":\"BasicTickFormatter\"},{\"attributes\":{\"items\":[{\"id\":\"1503\",\"type\":\"LegendItem\"}]},\"id\":\"1502\",\"type\":\"Legend\"},{\"attributes\":{},\"id\":\"1483\",\"type\":\"HelpTool\"},{\"attributes\":{\"callback\":null},\"id\":\"1462\",\"type\":\"DataRange1d\"},{\"attributes\":{},\"id\":\"1482\",\"type\":\"ResetTool\"},{\"attributes\":{\"active_drag\":\"auto\",\"active_inspect\":\"auto\",\"active_multi\":null,\"active_scroll\":\"auto\",\"active_tap\":\"auto\",\"tools\":[{\"id\":\"1478\",\"type\":\"PanTool\"},{\"id\":\"1479\",\"type\":\"WheelZoomTool\"},{\"id\":\"1480\",\"type\":\"BoxZoomTool\"},{\"id\":\"1481\",\"type\":\"SaveTool\"},{\"id\":\"1482\",\"type\":\"ResetTool\"},{\"id\":\"1483\",\"type\":\"HelpTool\"}]},\"id\":\"1484\",\"type\":\"Toolbar\"},{\"attributes\":{\"bottom_units\":\"screen\",\"fill_alpha\":{\"value\":0.5},\"fill_color\":{\"value\":\"lightgrey\"},\"left_units\":\"screen\",\"level\":\"overlay\",\"line_alpha\":{\"value\":1.0},\"line_color\":{\"value\":\"black\"},\"line_dash\":[4,4],\"line_width\":{\"value\":2},\"render_mode\":\"css\",\"right_units\":\"screen\",\"top_units\":\"screen\"},\"id\":\"1501\",\"type\":\"BoxAnnotation\"},{\"attributes\":{},\"id\":\"1479\",\"type\":\"WheelZoomTool\"},{\"attributes\":{},\"id\":\"1542\",\"type\":\"UnionRenderers\"},{\"attributes\":{},\"id\":\"1469\",\"type\":\"BasicTicker\"},{\"attributes\":{\"label\":{\"value\":\"Number of singletons per sample\"},\"renderers\":[{\"id\":\"1494\",\"type\":\"GlyphRenderer\"}]},\"id\":\"1503\",\"type\":\"LegendItem\"},{\"attributes\":{\"callback\":null,\"end\":38.65,\"start\":2.3499999999999996},\"id\":\"1460\",\"type\":\"Range1d\"},{\"attributes\":{\"axis_label\":\"Number of singletons per sample\",\"formatter\":{\"id\":\"1498\",\"type\":\"BasicTickFormatter\"},\"ticker\":{\"id\":\"1469\",\"type\":\"BasicTicker\"}},\"id\":\"1468\",\"type\":\"LinearAxis\"},{\"attributes\":{\"axis_label\":\"Frequency\",\"formatter\":{\"id\":\"1500\",\"type\":\"BasicTickFormatter\"},\"ticker\":{\"id\":\"1474\",\"type\":\"BasicTicker\"}},\"id\":\"1473\",\"type\":\"LinearAxis\"}],\"root_ids\":[\"1458\"]},\"title\":\"Bokeh Application\",\"version\":\"1.2.0\"}};\n",
       "  var render_items = [{\"docid\":\"d493ab3c-9980-4b8b-a2cf-738ee89b775d\",\"roots\":{\"1458\":\"25715ded-d83b-4962-8083-02e5f99e2f65\"}}];\n",
       "  root.Bokeh.embed.embed_items_notebook(docs_json, render_items);\n",
       "\n",
       "  }\n",
       "  if (root.Bokeh !== undefined) {\n",
       "    embed_document(root);\n",
       "  } else {\n",
       "    var attempts = 0;\n",
       "    var timer = setInterval(function(root) {\n",
       "      if (root.Bokeh !== undefined) {\n",
       "        embed_document(root);\n",
       "        clearInterval(timer);\n",
       "      }\n",
       "      attempts++;\n",
       "      if (attempts > 100) {\n",
       "        console.log(\"Bokeh: ERROR: Unable to run BokehJS code because BokehJS library is missing\");\n",
       "        clearInterval(timer);\n",
       "      }\n",
       "    }, 10, root)\n",
       "  }\n",
       "})(window);"
      ],
      "application/vnd.bokehjs_exec.v0+json": ""
     },
     "metadata": {
      "application/vnd.bokehjs_exec.v0+json": {
       "id": "1458"
      }
     },
     "output_type": "display_data"
    }
   ],
   "source": [
    "p = hl.plot.histogram(mt.sample_qc.n_singleton, range=(min_singl, max_singl), legend='Number of singletons per sample')\n",
    "show(p)"
   ]
  },
  {
   "cell_type": "markdown",
   "metadata": {},
   "source": [
    "## Inbreeding"
   ]
  },
  {
   "cell_type": "code",
   "execution_count": 18,
   "metadata": {},
   "outputs": [],
   "source": [
    "mt = hl.variant_qc(mt)"
   ]
  },
  {
   "cell_type": "code",
   "execution_count": 19,
   "metadata": {},
   "outputs": [],
   "source": [
    "mt_diallelic = mt.filter_rows(hl.len(mt.alleles) == 2)"
   ]
  },
  {
   "cell_type": "code",
   "execution_count": 20,
   "metadata": {},
   "outputs": [],
   "source": [
    "mt_diallelic = mt_diallelic.annotate_cols(IB = hl.agg.inbreeding(mt_diallelic.GT, mt_diallelic.variant_qc.AF[1]))\n",
    "#mt_diallelic.IB.show(width=100)"
   ]
  },
  {
   "cell_type": "code",
   "execution_count": 21,
   "metadata": {},
   "outputs": [
    {
     "data": {
      "text/html": [
       "\n",
       "\n",
       "\n",
       "\n",
       "\n",
       "\n",
       "  <div class=\"bk-root\" id=\"69dac370-3407-4c6a-8ada-c3358119f466\" data-root-id=\"1592\"></div>\n"
      ]
     },
     "metadata": {},
     "output_type": "display_data"
    },
    {
     "data": {
      "application/javascript": [
       "(function(root) {\n",
       "  function embed_document(root) {\n",
       "    \n",
       "  var docs_json = {\"9a0b97af-58ba-4007-8715-746f55dc2378\":{\"roots\":{\"references\":[{\"attributes\":{\"background_fill_color\":{\"value\":\"#EEEEEE\"},\"below\":[{\"id\":\"1602\",\"type\":\"LinearAxis\"}],\"center\":[{\"id\":\"1606\",\"type\":\"Grid\"},{\"id\":\"1611\",\"type\":\"Grid\"},{\"id\":\"1636\",\"type\":\"Legend\"}],\"left\":[{\"id\":\"1607\",\"type\":\"LinearAxis\"}],\"renderers\":[{\"id\":\"1628\",\"type\":\"GlyphRenderer\"}],\"title\":null,\"toolbar\":{\"id\":\"1618\",\"type\":\"Toolbar\"},\"x_range\":{\"id\":\"1594\",\"type\":\"Range1d\"},\"x_scale\":{\"id\":\"1598\",\"type\":\"LinearScale\"},\"y_range\":{\"id\":\"1596\",\"type\":\"DataRange1d\"},\"y_scale\":{\"id\":\"1600\",\"type\":\"LinearScale\"}},\"id\":\"1592\",\"subtype\":\"Figure\",\"type\":\"Plot\"},{\"attributes\":{},\"id\":\"1608\",\"type\":\"BasicTicker\"},{\"attributes\":{\"bottom\":{\"value\":0},\"fill_color\":{\"value\":\"#1f77b4\"},\"left\":{\"field\":\"left\"},\"right\":{\"field\":\"right\"},\"top\":{\"field\":\"top\"}},\"id\":\"1626\",\"type\":\"Quad\"},{\"attributes\":{\"source\":{\"id\":\"1625\",\"type\":\"ColumnDataSource\"}},\"id\":\"1629\",\"type\":\"CDSView\"},{\"attributes\":{},\"id\":\"1603\",\"type\":\"BasicTicker\"},{\"attributes\":{},\"id\":\"1600\",\"type\":\"LinearScale\"},{\"attributes\":{},\"id\":\"1617\",\"type\":\"HelpTool\"},{\"attributes\":{},\"id\":\"1632\",\"type\":\"BasicTickFormatter\"},{\"attributes\":{\"label\":{\"value\":\"F (inbreeding)\"},\"renderers\":[{\"id\":\"1628\",\"type\":\"GlyphRenderer\"}]},\"id\":\"1637\",\"type\":\"LegendItem\"},{\"attributes\":{\"callback\":null},\"id\":\"1596\",\"type\":\"DataRange1d\"},{\"attributes\":{\"axis_label\":\"Frequency\",\"formatter\":{\"id\":\"1634\",\"type\":\"BasicTickFormatter\"},\"ticker\":{\"id\":\"1608\",\"type\":\"BasicTicker\"}},\"id\":\"1607\",\"type\":\"LinearAxis\"},{\"attributes\":{\"data_source\":{\"id\":\"1625\",\"type\":\"ColumnDataSource\"},\"glyph\":{\"id\":\"1626\",\"type\":\"Quad\"},\"hover_glyph\":null,\"muted_glyph\":null,\"nonselection_glyph\":{\"id\":\"1627\",\"type\":\"Quad\"},\"selection_glyph\":null,\"view\":{\"id\":\"1629\",\"type\":\"CDSView\"}},\"id\":\"1628\",\"type\":\"GlyphRenderer\"},{\"attributes\":{\"axis_label\":\"F (inbreeding)\",\"formatter\":{\"id\":\"1632\",\"type\":\"BasicTickFormatter\"},\"ticker\":{\"id\":\"1603\",\"type\":\"BasicTicker\"}},\"id\":\"1602\",\"type\":\"LinearAxis\"},{\"attributes\":{},\"id\":\"1684\",\"type\":\"UnionRenderers\"},{\"attributes\":{\"callback\":null,\"end\":0.6801704530692156,\"start\":-0.8359317315053112},\"id\":\"1594\",\"type\":\"Range1d\"},{\"attributes\":{},\"id\":\"1616\",\"type\":\"ResetTool\"},{\"attributes\":{\"overlay\":{\"id\":\"1635\",\"type\":\"BoxAnnotation\"}},\"id\":\"1614\",\"type\":\"BoxZoomTool\"},{\"attributes\":{},\"id\":\"1615\",\"type\":\"SaveTool\"},{\"attributes\":{\"bottom\":{\"value\":0},\"fill_alpha\":{\"value\":0.1},\"fill_color\":{\"value\":\"#1f77b4\"},\"left\":{\"field\":\"left\"},\"line_alpha\":{\"value\":0.1},\"line_color\":{\"value\":\"#1f77b4\"},\"right\":{\"field\":\"right\"},\"top\":{\"field\":\"top\"}},\"id\":\"1627\",\"type\":\"Quad\"},{\"attributes\":{\"active_drag\":\"auto\",\"active_inspect\":\"auto\",\"active_multi\":null,\"active_scroll\":\"auto\",\"active_tap\":\"auto\",\"tools\":[{\"id\":\"1612\",\"type\":\"PanTool\"},{\"id\":\"1613\",\"type\":\"WheelZoomTool\"},{\"id\":\"1614\",\"type\":\"BoxZoomTool\"},{\"id\":\"1615\",\"type\":\"SaveTool\"},{\"id\":\"1616\",\"type\":\"ResetTool\"},{\"id\":\"1617\",\"type\":\"HelpTool\"}]},\"id\":\"1618\",\"type\":\"Toolbar\"},{\"attributes\":{\"ticker\":{\"id\":\"1603\",\"type\":\"BasicTicker\"}},\"id\":\"1606\",\"type\":\"Grid\"},{\"attributes\":{\"items\":[{\"id\":\"1637\",\"type\":\"LegendItem\"}]},\"id\":\"1636\",\"type\":\"Legend\"},{\"attributes\":{\"callback\":null,\"data\":{\"left\":[-0.7670179958428327,-0.7394525015778413,-0.7118870073128499,-0.6843215130478585,-0.6567560187828672,-0.6291905245178757,-0.6016250302528843,-0.5740595359878929,-0.5464940417229015,-0.5189285474579102,-0.49136305319291873,-0.46379755892792734,-0.43623206466293596,-0.4086665703979446,-0.38110107613295313,-0.35353558186796175,-0.32597008760297036,-0.298404593337979,-0.2708390990729876,-0.2432736048079962,-0.21570811054300476,-0.18814261627801343,-0.160577122013022,-0.13301162774803055,-0.10544613348303922,-0.07788063921804778,-0.050315144953056445,-0.022749650688065004,0.004815843576926437,0.03238133784191777,0.05994683210690921,0.08751232637190054,0.11507782063689198,0.14264331490188342,0.17020880916687475,0.1977743034318662,0.22533979769685752,0.25290529196184885,0.2804707862268403,0.30803628049183174,0.3356017747568232,0.3631672690218146,0.39073276328680584,0.4182982575517973,0.4458637518167887,0.47342924608178016,0.5009947403467716,0.5285602346117628,0.5561257288767543,0.5836912231417457],\"right\":[-0.7394525015778413,-0.7118870073128499,-0.6843215130478585,-0.6567560187828672,-0.6291905245178757,-0.6016250302528843,-0.5740595359878929,-0.5464940417229015,-0.5189285474579102,-0.49136305319291873,-0.46379755892792734,-0.43623206466293596,-0.4086665703979446,-0.38110107613295313,-0.35353558186796175,-0.32597008760297036,-0.298404593337979,-0.2708390990729876,-0.2432736048079962,-0.21570811054300476,-0.18814261627801343,-0.160577122013022,-0.13301162774803055,-0.10544613348303922,-0.07788063921804778,-0.050315144953056445,-0.022749650688065004,0.004815843576926437,0.03238133784191777,0.05994683210690921,0.08751232637190054,0.11507782063689198,0.14264331490188342,0.17020880916687475,0.1977743034318662,0.22533979769685752,0.25290529196184885,0.2804707862268403,0.30803628049183174,0.3356017747568232,0.3631672690218146,0.39073276328680584,0.4182982575517973,0.4458637518167887,0.47342924608178016,0.5009947403467716,0.5285602346117628,0.5561257288767543,0.5836912231417457,0.6112567174067371],\"top\":[2,1,0,1,0,0,0,3,0,2,0,2,3,4,2,3,2,3,0,0,2,0,0,0,1,1,1,0,2,1,2,3,0,2,0,0,1,0,1,0,1,0,0,0,0,1,0,0,0,1]},\"selected\":{\"id\":\"1685\",\"type\":\"Selection\"},\"selection_policy\":{\"id\":\"1684\",\"type\":\"UnionRenderers\"}},\"id\":\"1625\",\"type\":\"ColumnDataSource\"},{\"attributes\":{},\"id\":\"1613\",\"type\":\"WheelZoomTool\"},{\"attributes\":{\"bottom_units\":\"screen\",\"fill_alpha\":{\"value\":0.5},\"fill_color\":{\"value\":\"lightgrey\"},\"left_units\":\"screen\",\"level\":\"overlay\",\"line_alpha\":{\"value\":1.0},\"line_color\":{\"value\":\"black\"},\"line_dash\":[4,4],\"line_width\":{\"value\":2},\"render_mode\":\"css\",\"right_units\":\"screen\",\"top_units\":\"screen\"},\"id\":\"1635\",\"type\":\"BoxAnnotation\"},{\"attributes\":{},\"id\":\"1685\",\"type\":\"Selection\"},{\"attributes\":{},\"id\":\"1612\",\"type\":\"PanTool\"},{\"attributes\":{},\"id\":\"1598\",\"type\":\"LinearScale\"},{\"attributes\":{},\"id\":\"1634\",\"type\":\"BasicTickFormatter\"},{\"attributes\":{\"dimension\":1,\"ticker\":{\"id\":\"1608\",\"type\":\"BasicTicker\"}},\"id\":\"1611\",\"type\":\"Grid\"}],\"root_ids\":[\"1592\"]},\"title\":\"Bokeh Application\",\"version\":\"1.2.0\"}};\n",
       "  var render_items = [{\"docid\":\"9a0b97af-58ba-4007-8715-746f55dc2378\",\"roots\":{\"1592\":\"69dac370-3407-4c6a-8ada-c3358119f466\"}}];\n",
       "  root.Bokeh.embed.embed_items_notebook(docs_json, render_items);\n",
       "\n",
       "  }\n",
       "  if (root.Bokeh !== undefined) {\n",
       "    embed_document(root);\n",
       "  } else {\n",
       "    var attempts = 0;\n",
       "    var timer = setInterval(function(root) {\n",
       "      if (root.Bokeh !== undefined) {\n",
       "        embed_document(root);\n",
       "        clearInterval(timer);\n",
       "      }\n",
       "      attempts++;\n",
       "      if (attempts > 100) {\n",
       "        console.log(\"Bokeh: ERROR: Unable to run BokehJS code because BokehJS library is missing\");\n",
       "        clearInterval(timer);\n",
       "      }\n",
       "    }, 10, root)\n",
       "  }\n",
       "})(window);"
      ],
      "application/vnd.bokehjs_exec.v0+json": ""
     },
     "metadata": {
      "application/vnd.bokehjs_exec.v0+json": {
       "id": "1592"
      }
     },
     "output_type": "display_data"
    }
   ],
   "source": [
    "min_f = mt_diallelic.aggregate_cols(hl.agg.min(mt_diallelic.IB.f_stat))\n",
    "max_f = mt_diallelic.aggregate_cols(hl.agg.max(mt_diallelic.IB.f_stat))\n",
    "p = hl.plot.histogram(mt_diallelic.IB.f_stat, range=(min_f, max_f), legend='F (inbreeding)')\n",
    "show(p)"
   ]
  },
  {
   "cell_type": "code",
   "execution_count": 22,
   "metadata": {},
   "outputs": [
    {
     "data": {
      "text/html": [
       "\n",
       "\n",
       "\n",
       "\n",
       "\n",
       "\n",
       "  <div class=\"bk-root\" id=\"bc7e1539-d307-45ba-a0f5-fd3deea98e5f\" data-root-id=\"1734\"></div>\n"
      ]
     },
     "metadata": {},
     "output_type": "display_data"
    },
    {
     "data": {
      "application/javascript": [
       "(function(root) {\n",
       "  function embed_document(root) {\n",
       "    \n",
       "  var docs_json = {\"6c2e0402-2a4b-42bd-bf6c-ab81e3649688\":{\"roots\":{\"references\":[{\"attributes\":{\"below\":[{\"id\":\"1744\",\"type\":\"LinearAxis\"}],\"center\":[{\"id\":\"1748\",\"type\":\"Grid\"},{\"id\":\"1753\",\"type\":\"Grid\"}],\"left\":[{\"id\":\"1749\",\"type\":\"LinearAxis\"}],\"plot_height\":500,\"plot_width\":700,\"renderers\":[{\"id\":\"1773\",\"type\":\"GlyphRenderer\"}],\"title\":null,\"toolbar\":{\"id\":\"1760\",\"type\":\"Toolbar\"},\"x_range\":{\"id\":\"1736\",\"type\":\"DataRange1d\"},\"x_scale\":{\"id\":\"1740\",\"type\":\"LinearScale\"},\"y_range\":{\"id\":\"1738\",\"type\":\"DataRange1d\"},\"y_scale\":{\"id\":\"1742\",\"type\":\"LinearScale\"}},\"id\":\"1734\",\"subtype\":\"Figure\",\"type\":\"Plot\"},{\"attributes\":{},\"id\":\"1740\",\"type\":\"LinearScale\"},{\"attributes\":{\"fill_color\":{\"value\":\"#1f77b4\"},\"line_color\":{\"value\":\"#1f77b4\"},\"x\":{\"field\":\"x\"},\"y\":{\"field\":\"y\"}},\"id\":\"1771\",\"type\":\"Circle\"},{\"attributes\":{},\"id\":\"1759\",\"type\":\"HelpTool\"},{\"attributes\":{},\"id\":\"1755\",\"type\":\"WheelZoomTool\"},{\"attributes\":{\"callback\":null},\"id\":\"1736\",\"type\":\"DataRange1d\"},{\"attributes\":{},\"id\":\"1745\",\"type\":\"BasicTicker\"},{\"attributes\":{},\"id\":\"1757\",\"type\":\"SaveTool\"},{\"attributes\":{\"overlay\":{\"id\":\"1828\",\"type\":\"BoxAnnotation\"}},\"id\":\"1756\",\"type\":\"BoxZoomTool\"},{\"attributes\":{\"axis_label\":\"# Singletons\",\"formatter\":{\"id\":\"1825\",\"type\":\"BasicTickFormatter\"},\"ticker\":{\"id\":\"1745\",\"type\":\"BasicTicker\"}},\"id\":\"1744\",\"type\":\"LinearAxis\"},{\"attributes\":{\"fill_alpha\":{\"value\":0.1},\"fill_color\":{\"value\":\"#1f77b4\"},\"line_alpha\":{\"value\":0.1},\"line_color\":{\"value\":\"#1f77b4\"},\"x\":{\"field\":\"x\"},\"y\":{\"field\":\"y\"}},\"id\":\"1772\",\"type\":\"Circle\"},{\"attributes\":{},\"id\":\"1830\",\"type\":\"Selection\"},{\"attributes\":{},\"id\":\"1829\",\"type\":\"UnionRenderers\"},{\"attributes\":{\"callback\":null},\"id\":\"1738\",\"type\":\"DataRange1d\"},{\"attributes\":{\"axis_label\":\"F\",\"formatter\":{\"id\":\"1827\",\"type\":\"BasicTickFormatter\"},\"ticker\":{\"id\":\"1750\",\"type\":\"BasicTicker\"}},\"id\":\"1749\",\"type\":\"LinearAxis\"},{\"attributes\":{},\"id\":\"1825\",\"type\":\"BasicTickFormatter\"},{\"attributes\":{},\"id\":\"1742\",\"type\":\"LinearScale\"},{\"attributes\":{\"data_source\":{\"id\":\"1769\",\"type\":\"ColumnDataSource\"},\"glyph\":{\"id\":\"1771\",\"type\":\"Circle\"},\"hover_glyph\":null,\"muted_glyph\":null,\"nonselection_glyph\":{\"id\":\"1772\",\"type\":\"Circle\"},\"selection_glyph\":null,\"view\":{\"id\":\"1774\",\"type\":\"CDSView\"}},\"id\":\"1773\",\"type\":\"GlyphRenderer\"},{\"attributes\":{\"callback\":null,\"data\":{\"Sample\":[\"FN000538\",\"FN000009\",\"FN000544\",\"FN000526\",\"FN000925\",\"FN000011\",\"FN000534\",\"FN000549\",\"FN000953\",\"FN000039\",\"FN000530\",\"FN000528\",\"FN000934\",\"FN000562\",\"FN000531\",\"FN000035\",\"FN000523\",\"FN000037\",\"FN000038\",\"FN000525\",\"FN000036\",\"FN000952\",\"FN000022\",\"FN000034\",\"FN000671\",\"FN000933\",\"FN000546\",\"FN000040\",\"FN000924\",\"FN000527\",\"FN000563\",\"FN000519\",\"FN000529\",\"FN000931\",\"FN000021\",\"FN000951\",\"FN000521\",\"FN000545\",\"FN000518\",\"FN000932\",\"FN000472\",\"FN000950\",\"FN000522\",\"FN000024\",\"FN000473\",\"FN000023\",\"FN000033\",\"FN000807\"],\"index\":[0,1,2,3,4,5,6,7,8,9,10,11,12,13,14,15,16,17,18,19,20,21,22,23,24,25,26,27,28,29,30,31,32,33,34,35,36,37,38,39,40,41,42,43,44,45,46,47],\"x\":{\"__ndarray__\":\"AAAAAAAAEEAAAAAAAAAYQAAAAAAAABxAAAAAAAAAIkAAAAAAAAAkQAAAAAAAACZAAAAAAAAAJkAAAAAAAAAqQAAAAAAAACxAAAAAAAAALkAAAAAAAAAwQAAAAAAAADFAAAAAAAAAMUAAAAAAAAAzQAAAAAAAADRAAAAAAAAANUAAAAAAAAA2QAAAAAAAADZAAAAAAAAANkAAAAAAAAA2QAAAAAAAADdAAAAAAAAAN0AAAAAAAAA4QAAAAAAAADhAAAAAAAAAOEAAAAAAAAA4QAAAAAAAADlAAAAAAAAAOUAAAAAAAAA5QAAAAAAAADlAAAAAAAAAO0AAAAAAAAA8QAAAAAAAADxAAAAAAAAAPEAAAAAAAAA9QAAAAAAAAD1AAAAAAAAAPUAAAAAAAAA+QAAAAAAAAD5AAAAAAAAAPkAAAAAAAAA/QAAAAAAAgEBAAAAAAACAQEAAAAAAAABBQAAAAAAAAEFAAAAAAACAQUAAAAAAAIBCQAAAAAAAgEJA\",\"dtype\":\"float64\",\"shape\":[48]},\"y\":{\"__ndarray__\":\"rRxXP2qP4z/6VVQtcFziv5Sua1Pn+t4/oLbZ/c63uT9tc5NLTPuzPxWn0HtLBeK/ZnoNcFw4zz8ocKJqECfWPzkD5pMOi9I/o0UWQ7iS1b8trEx8JDCeP3+MEERxd5q/s8ZLENdSuD/bW74X7uy3v3tp5pOuS5U/h98+IIuvyr+Rbf7pk/Tcv/O+shFBl9i/ucz7C8gA0r/4YuxLNKzFPw+W9l7b79S/RxHksI4i0r8OqspthybovwQHrD7UWta/so7GiY+W078DuS2b4fyyP8WeUZRZvdu/npQfGEQN178TkDdISJjRv3KdHOTIcas/y+34uC+d2b/ZlopkYJLZv3fbHsiaKbk/BFOKL1WQwj87Xva0KhPnv6IlkYYE4tu/Q5wlcw9z179852UlQYfhvyHgY3b2Hd2/7NDdQx10sr8IQdru9/bav3KEIdaRduC/iNH8wK8a2r9s1PJSaYvov1yuSEiEB8u/rm0457dK5b97+p+Zp17gv9Ab5VM3S9S/\",\"dtype\":\"float64\",\"shape\":[48]}},\"selected\":{\"id\":\"1830\",\"type\":\"Selection\"},\"selection_policy\":{\"id\":\"1829\",\"type\":\"UnionRenderers\"}},\"id\":\"1769\",\"type\":\"ColumnDataSource\"},{\"attributes\":{\"dimension\":1,\"ticker\":{\"id\":\"1750\",\"type\":\"BasicTicker\"}},\"id\":\"1753\",\"type\":\"Grid\"},{\"attributes\":{},\"id\":\"1750\",\"type\":\"BasicTicker\"},{\"attributes\":{},\"id\":\"1758\",\"type\":\"ResetTool\"},{\"attributes\":{\"source\":{\"id\":\"1769\",\"type\":\"ColumnDataSource\"}},\"id\":\"1774\",\"type\":\"CDSView\"},{\"attributes\":{},\"id\":\"1827\",\"type\":\"BasicTickFormatter\"},{\"attributes\":{\"ticker\":{\"id\":\"1745\",\"type\":\"BasicTicker\"}},\"id\":\"1748\",\"type\":\"Grid\"},{\"attributes\":{\"bottom_units\":\"screen\",\"fill_alpha\":{\"value\":0.5},\"fill_color\":{\"value\":\"lightgrey\"},\"left_units\":\"screen\",\"level\":\"overlay\",\"line_alpha\":{\"value\":1.0},\"line_color\":{\"value\":\"black\"},\"line_dash\":[4,4],\"line_width\":{\"value\":2},\"render_mode\":\"css\",\"right_units\":\"screen\",\"top_units\":\"screen\"},\"id\":\"1828\",\"type\":\"BoxAnnotation\"},{\"attributes\":{\"callback\":null,\"tooltips\":[[\"x\",\"@x\"],[\"y\",\"@y\"],[\"Sample\",\"@Sample\"]]},\"id\":\"1768\",\"type\":\"HoverTool\"},{\"attributes\":{},\"id\":\"1754\",\"type\":\"PanTool\"},{\"attributes\":{\"active_drag\":\"auto\",\"active_inspect\":\"auto\",\"active_multi\":null,\"active_scroll\":\"auto\",\"active_tap\":\"auto\",\"tools\":[{\"id\":\"1754\",\"type\":\"PanTool\"},{\"id\":\"1755\",\"type\":\"WheelZoomTool\"},{\"id\":\"1756\",\"type\":\"BoxZoomTool\"},{\"id\":\"1757\",\"type\":\"SaveTool\"},{\"id\":\"1758\",\"type\":\"ResetTool\"},{\"id\":\"1759\",\"type\":\"HelpTool\"},{\"id\":\"1768\",\"type\":\"HoverTool\"}]},\"id\":\"1760\",\"type\":\"Toolbar\"}],\"root_ids\":[\"1734\"]},\"title\":\"Bokeh Application\",\"version\":\"1.2.0\"}};\n",
       "  var render_items = [{\"docid\":\"6c2e0402-2a4b-42bd-bf6c-ab81e3649688\",\"roots\":{\"1734\":\"bc7e1539-d307-45ba-a0f5-fd3deea98e5f\"}}];\n",
       "  root.Bokeh.embed.embed_items_notebook(docs_json, render_items);\n",
       "\n",
       "  }\n",
       "  if (root.Bokeh !== undefined) {\n",
       "    embed_document(root);\n",
       "  } else {\n",
       "    var attempts = 0;\n",
       "    var timer = setInterval(function(root) {\n",
       "      if (root.Bokeh !== undefined) {\n",
       "        embed_document(root);\n",
       "        clearInterval(timer);\n",
       "      }\n",
       "      attempts++;\n",
       "      if (attempts > 100) {\n",
       "        console.log(\"Bokeh: ERROR: Unable to run BokehJS code because BokehJS library is missing\");\n",
       "        clearInterval(timer);\n",
       "      }\n",
       "    }, 10, root)\n",
       "  }\n",
       "})(window);"
      ],
      "application/vnd.bokehjs_exec.v0+json": ""
     },
     "metadata": {
      "application/vnd.bokehjs_exec.v0+json": {
       "id": "1734"
      }
     },
     "output_type": "display_data"
    }
   ],
   "source": [
    "p = hl.plot.scatter(mt_diallelic.sample_qc.n_singleton, mt_diallelic.IB.f_stat,\n",
    "                    xlabel='# Singletons', ylabel='F', hover_fields={'Sample': mt_diallelic.s})\n",
    "p.plot_width = 700\n",
    "p.plot_height = 500\n",
    "show(p)"
   ]
  },
  {
   "cell_type": "markdown",
   "metadata": {},
   "source": [
    "## Relatedness\n",
    "\n",
    "Use diallelic LD pruned variants."
   ]
  },
  {
   "cell_type": "code",
   "execution_count": 23,
   "metadata": {},
   "outputs": [
    {
     "data": {
      "text/plain": [
       "(54738, 48)"
      ]
     },
     "execution_count": 23,
     "metadata": {},
     "output_type": "execute_result"
    }
   ],
   "source": [
    "mt_indep = hl.read_matrix_table('/home/olavur/experiments/2020-11-13_fargen1_exome_analysis/data/mt/ld_pruned_diallelic.mt/')\n",
    "mt_indep.count()"
   ]
  },
  {
   "cell_type": "code",
   "execution_count": 41,
   "metadata": {},
   "outputs": [
    {
     "data": {
      "text/plain": [
       "(10837, 48)"
      ]
     },
     "execution_count": 41,
     "metadata": {},
     "output_type": "execute_result"
    }
   ],
   "source": [
    "maf_filter = 0.05\n",
    "mt_indep = mt_indep.filter_rows(mt_indep.info.AF[0] > maf_filter)\n",
    "mt_indep = mt_indep.filter_rows(mt_indep.info.AF[0] < (1 - maf_filter))\n",
    "mt_indep.count()"
   ]
  },
  {
   "cell_type": "code",
   "execution_count": 42,
   "metadata": {},
   "outputs": [
    {
     "data": {
      "text/plain": [
       "0.052"
      ]
     },
     "execution_count": 42,
     "metadata": {},
     "output_type": "execute_result"
    }
   ],
   "source": [
    "mt_indep.aggregate_rows(hl.agg.min(mt_indep.info.AF[0]))"
   ]
  },
  {
   "cell_type": "code",
   "execution_count": 43,
   "metadata": {},
   "outputs": [
    {
     "data": {
      "text/plain": [
       "0.948"
      ]
     },
     "execution_count": 43,
     "metadata": {},
     "output_type": "execute_result"
    }
   ],
   "source": [
    "mt_indep.aggregate_rows(hl.agg.max(mt_indep.info.AF[0]))"
   ]
  },
  {
   "cell_type": "code",
   "execution_count": 44,
   "metadata": {},
   "outputs": [
    {
     "name": "stderr",
     "output_type": "stream",
     "text": [
      "2020-12-17 10:04:16 Hail: INFO: hwe_normalized_pca: running PCA using 10837 variants.\n",
      "2020-12-17 10:04:17 Hail: INFO: pca: running PCA with 10 components...\n",
      "2020-12-17 10:04:20 Hail: INFO: Wrote all 3 blocks of 10837 x 48 matrix with block size 4096.\n"
     ]
    }
   ],
   "source": [
    "rel = hl.pc_relate(mt_indep.GT, 0.01, k=10)"
   ]
  },
  {
   "cell_type": "code",
   "execution_count": 45,
   "metadata": {},
   "outputs": [
    {
     "name": "stderr",
     "output_type": "stream",
     "text": [
      "2020-12-17 10:04:20 Hail: INFO: wrote matrix with 11 rows and 10837 columns as 3 blocks of size 4096 to /tmp/pcrelate-write-read-SLbgM069jRaUr3aUGBK65u.bm\n",
      "2020-12-17 10:04:21 Hail: INFO: wrote matrix with 10837 rows and 48 columns as 3 blocks of size 4096 to /tmp/pcrelate-write-read-yhjYPmkYFfyBtOVtG67Dyc.bm\n",
      "2020-12-17 10:04:21 Hail: INFO: wrote matrix with 10837 rows and 48 columns as 3 blocks of size 4096 to /tmp/pcrelate-write-read-XrlNyhz2pREywwBKmpoX0r.bm\n",
      "2020-12-17 10:04:21 Hail: INFO: wrote matrix with 48 rows and 48 columns as 1 block of size 4096 to /tmp/pcrelate-write-read-2SFXbOdqm7QQmjfs4HNKRh.bm\n",
      "2020-12-17 10:04:21 Hail: INFO: wrote matrix with 48 rows and 48 columns as 1 block of size 4096 to /tmp/pcrelate-write-read-vkpLDlOm3qnEJz2sl2HlpR.bm\n",
      "2020-12-17 10:04:21 Hail: INFO: wrote matrix with 48 rows and 48 columns as 1 block of size 4096 to /tmp/pcrelate-write-read-jsXG9OaHKJT69O6FxopIVp.bm\n",
      "2020-12-17 10:04:21 Hail: INFO: wrote matrix with 48 rows and 48 columns as 1 block of size 4096 to /tmp/pcrelate-write-read-lHVjLItRmAxEuCI1vUWvCX.bm\n",
      "2020-12-17 10:04:21 Hail: INFO: wrote matrix with 48 rows and 48 columns as 1 block of size 4096 to /tmp/pcrelate-write-read-i6BnIIrvG4OfJs88AKXLXn.bm\n",
      "2020-12-17 10:04:21 Hail: INFO: wrote matrix with 48 rows and 48 columns as 1 block of size 4096 to /tmp/pcrelate-write-read-Vezp5lecpU9hpXtPkJEOcw.bm\n",
      "2020-12-17 10:04:22 Hail: INFO: wrote matrix with 48 rows and 48 columns as 1 block of size 4096 to /tmp/pcrelate-write-read-IYT7XFz04fin5KDZjwXdKR.bm\n",
      "2020-12-17 10:04:22 Hail: INFO: wrote matrix with 48 rows and 48 columns as 1 block of size 4096 to /tmp/pcrelate-write-read-rz9Mj4I92pXLswRB8r8iDl.bm\n",
      "2020-12-17 10:04:22 Hail: INFO: wrote matrix with 48 rows and 48 columns as 1 block of size 4096 to /tmp/pcrelate-write-read-Kwb1MtRegQMhQq3vnbo7ZM.bm\n",
      "2020-12-17 10:04:22 Hail: INFO: Ordering unsorted dataset with network shuffle\n"
     ]
    },
    {
     "data": {
      "text/html": [
       "\n",
       "\n",
       "\n",
       "\n",
       "\n",
       "\n",
       "  <div class=\"bk-root\" id=\"20527674-7e73-4613-9a06-e2d5e02ddd25\" data-root-id=\"2768\"></div>\n"
      ]
     },
     "metadata": {},
     "output_type": "display_data"
    },
    {
     "data": {
      "application/javascript": [
       "(function(root) {\n",
       "  function embed_document(root) {\n",
       "    \n",
       "  var docs_json = {\"d5f50e6b-98da-42db-b915-665899860263\":{\"roots\":{\"references\":[{\"attributes\":{\"background_fill_color\":{\"value\":\"#EEEEEE\"},\"below\":[{\"id\":\"2778\",\"type\":\"LinearAxis\"}],\"center\":[{\"id\":\"2782\",\"type\":\"Grid\"},{\"id\":\"2787\",\"type\":\"Grid\"},{\"id\":\"2812\",\"type\":\"Legend\"}],\"left\":[{\"id\":\"2783\",\"type\":\"LinearAxis\"}],\"renderers\":[{\"id\":\"2804\",\"type\":\"GlyphRenderer\"},{\"id\":\"2817\",\"type\":\"GlyphRenderer\"},{\"id\":\"2831\",\"type\":\"GlyphRenderer\"}],\"title\":null,\"toolbar\":{\"id\":\"2794\",\"type\":\"Toolbar\"},\"x_range\":{\"id\":\"2770\",\"type\":\"Range1d\"},\"x_scale\":{\"id\":\"2774\",\"type\":\"LinearScale\"},\"y_range\":{\"id\":\"2772\",\"type\":\"DataRange1d\"},\"y_scale\":{\"id\":\"2776\",\"type\":\"LinearScale\"}},\"id\":\"2768\",\"subtype\":\"Figure\",\"type\":\"Plot\"},{\"attributes\":{},\"id\":\"2788\",\"type\":\"PanTool\"},{\"attributes\":{\"items\":[{\"id\":\"2813\",\"type\":\"LegendItem\"},{\"id\":\"2827\",\"type\":\"LegendItem\"},{\"id\":\"2843\",\"type\":\"LegendItem\"}]},\"id\":\"2812\",\"type\":\"Legend\"},{\"attributes\":{\"callback\":null,\"end\":0.0655,\"start\":-0.0555},\"id\":\"2770\",\"type\":\"Range1d\"},{\"attributes\":{},\"id\":\"2789\",\"type\":\"WheelZoomTool\"},{\"attributes\":{\"overlay\":{\"id\":\"2811\",\"type\":\"BoxAnnotation\"}},\"id\":\"2790\",\"type\":\"BoxZoomTool\"},{\"attributes\":{\"source\":{\"id\":\"2801\",\"type\":\"ColumnDataSource\"}},\"id\":\"2805\",\"type\":\"CDSView\"},{\"attributes\":{\"data_source\":{\"id\":\"2801\",\"type\":\"ColumnDataSource\"},\"glyph\":{\"id\":\"2802\",\"type\":\"Quad\"},\"hover_glyph\":null,\"muted_glyph\":null,\"nonselection_glyph\":{\"id\":\"2803\",\"type\":\"Quad\"},\"selection_glyph\":null,\"view\":{\"id\":\"2805\",\"type\":\"CDSView\"}},\"id\":\"2804\",\"type\":\"GlyphRenderer\"},{\"attributes\":{\"data_source\":{\"id\":\"2828\",\"type\":\"ColumnDataSource\"},\"glyph\":{\"id\":\"2829\",\"type\":\"Quad\"},\"hover_glyph\":null,\"muted_glyph\":null,\"nonselection_glyph\":{\"id\":\"2830\",\"type\":\"Quad\"},\"selection_glyph\":null,\"view\":{\"id\":\"2832\",\"type\":\"CDSView\"}},\"id\":\"2831\",\"type\":\"GlyphRenderer\"},{\"attributes\":{\"ticker\":{\"id\":\"2779\",\"type\":\"BasicTicker\"}},\"id\":\"2782\",\"type\":\"Grid\"},{\"attributes\":{\"label\":{\"value\":\"Kinship coefficient\"},\"renderers\":[{\"id\":\"2804\",\"type\":\"GlyphRenderer\"}]},\"id\":\"2813\",\"type\":\"LegendItem\"},{\"attributes\":{},\"id\":\"2953\",\"type\":\"Selection\"},{\"attributes\":{\"axis_label\":\"Frequency\",\"formatter\":{\"id\":\"2810\",\"type\":\"BasicTickFormatter\"},\"ticker\":{\"id\":\"2784\",\"type\":\"BasicTicker\"}},\"id\":\"2783\",\"type\":\"LinearAxis\"},{\"attributes\":{\"bottom\":{\"value\":0},\"fill_color\":{\"value\":\"#1f77b4\"},\"left\":{\"field\":\"left\"},\"right\":{\"field\":\"right\"},\"top\":{\"field\":\"top\"}},\"id\":\"2802\",\"type\":\"Quad\"},{\"attributes\":{\"dimension\":1,\"ticker\":{\"id\":\"2784\",\"type\":\"BasicTicker\"}},\"id\":\"2787\",\"type\":\"Grid\"},{\"attributes\":{\"axis_label\":\"Kinship coefficient\",\"formatter\":{\"id\":\"2808\",\"type\":\"BasicTickFormatter\"},\"ticker\":{\"id\":\"2779\",\"type\":\"BasicTicker\"}},\"id\":\"2778\",\"type\":\"LinearAxis\"},{\"attributes\":{\"label\":{\"value\":\"Outliers Below\"},\"renderers\":[{\"id\":\"2831\",\"type\":\"GlyphRenderer\"}]},\"id\":\"2843\",\"type\":\"LegendItem\"},{\"attributes\":{\"callback\":null},\"id\":\"2772\",\"type\":\"DataRange1d\"},{\"attributes\":{\"bottom_units\":\"screen\",\"fill_alpha\":{\"value\":0.5},\"fill_color\":{\"value\":\"lightgrey\"},\"left_units\":\"screen\",\"level\":\"overlay\",\"line_alpha\":{\"value\":1.0},\"line_color\":{\"value\":\"black\"},\"line_dash\":[4,4],\"line_width\":{\"value\":2},\"render_mode\":\"css\",\"right_units\":\"screen\",\"top_units\":\"screen\"},\"id\":\"2811\",\"type\":\"BoxAnnotation\"},{\"attributes\":{},\"id\":\"2808\",\"type\":\"BasicTickFormatter\"},{\"attributes\":{},\"id\":\"2793\",\"type\":\"HelpTool\"},{\"attributes\":{},\"id\":\"2810\",\"type\":\"BasicTickFormatter\"},{\"attributes\":{\"callback\":null,\"data\":{\"left\":[-0.05,-0.0478,-0.0456,-0.0434,-0.0412,-0.039,-0.0368,-0.034600000000000006,-0.0324,-0.0302,-0.028,-0.0258,-0.023600000000000003,-0.021400000000000002,-0.019200000000000002,-0.017,-0.0148,-0.0126,-0.0104,-0.008199999999999999,-0.005999999999999998,-0.003799999999999998,-0.0015999999999999973,0.0006000000000000033,0.002799999999999997,0.0049999999999999975,0.007199999999999998,0.009399999999999999,0.0116,0.013800000000000007,0.016,0.018200000000000008,0.0204,0.022599999999999995,0.024800000000000003,0.026999999999999996,0.029200000000000004,0.0314,0.033600000000000005,0.0358,0.038000000000000006,0.0402,0.04240000000000001,0.0446,0.04680000000000001,0.049,0.05120000000000001,0.0534,0.0556,0.057800000000000004],\"right\":[-0.0478,-0.0456,-0.0434,-0.0412,-0.039,-0.0368,-0.034600000000000006,-0.0324,-0.0302,-0.028,-0.0258,-0.023600000000000003,-0.021400000000000002,-0.019200000000000002,-0.017,-0.0148,-0.0126,-0.0104,-0.008199999999999999,-0.005999999999999998,-0.003799999999999998,-0.0015999999999999973,0.0006000000000000033,0.002799999999999997,0.0049999999999999975,0.007199999999999998,0.009399999999999999,0.0116,0.013800000000000007,0.016,0.018200000000000008,0.0204,0.022599999999999995,0.024800000000000003,0.026999999999999996,0.029200000000000004,0.0314,0.033600000000000005,0.0358,0.038000000000000006,0.0402,0.04240000000000001,0.0446,0.04680000000000001,0.049,0.05120000000000001,0.0534,0.0556,0.057800000000000004,0.06],\"top\":[2,3,1,9,6,1,4,8,10,20,30,24,37,36,35,47,59,67,57,76,81,63,70,53,47,35,40,27,33,26,16,15,11,8,5,6,1,9,3,1,4,4,1,3,2,1,0,0,0,1]},\"selected\":{\"id\":\"2826\",\"type\":\"Selection\"},\"selection_policy\":{\"id\":\"2825\",\"type\":\"UnionRenderers\"}},\"id\":\"2801\",\"type\":\"ColumnDataSource\"},{\"attributes\":{},\"id\":\"2774\",\"type\":\"LinearScale\"},{\"attributes\":{},\"id\":\"2776\",\"type\":\"LinearScale\"},{\"attributes\":{\"callback\":null,\"data\":{},\"selected\":{\"id\":\"2953\",\"type\":\"Selection\"},\"selection_policy\":{\"id\":\"2952\",\"type\":\"UnionRenderers\"}},\"id\":\"2828\",\"type\":\"ColumnDataSource\"},{\"attributes\":{},\"id\":\"2825\",\"type\":\"UnionRenderers\"},{\"attributes\":{\"active_drag\":\"auto\",\"active_inspect\":\"auto\",\"active_multi\":null,\"active_scroll\":\"auto\",\"active_tap\":\"auto\",\"tools\":[{\"id\":\"2788\",\"type\":\"PanTool\"},{\"id\":\"2789\",\"type\":\"WheelZoomTool\"},{\"id\":\"2790\",\"type\":\"BoxZoomTool\"},{\"id\":\"2791\",\"type\":\"SaveTool\"},{\"id\":\"2792\",\"type\":\"ResetTool\"},{\"id\":\"2793\",\"type\":\"HelpTool\"}]},\"id\":\"2794\",\"type\":\"Toolbar\"},{\"attributes\":{},\"id\":\"2826\",\"type\":\"Selection\"},{\"attributes\":{},\"id\":\"2952\",\"type\":\"UnionRenderers\"},{\"attributes\":{\"data_source\":{\"id\":\"2814\",\"type\":\"ColumnDataSource\"},\"glyph\":{\"id\":\"2815\",\"type\":\"Quad\"},\"hover_glyph\":null,\"muted_glyph\":null,\"nonselection_glyph\":{\"id\":\"2816\",\"type\":\"Quad\"},\"selection_glyph\":null,\"view\":{\"id\":\"2818\",\"type\":\"CDSView\"}},\"id\":\"2817\",\"type\":\"GlyphRenderer\"},{\"attributes\":{},\"id\":\"2791\",\"type\":\"SaveTool\"},{\"attributes\":{\"source\":{\"id\":\"2814\",\"type\":\"ColumnDataSource\"}},\"id\":\"2818\",\"type\":\"CDSView\"},{\"attributes\":{\"bottom\":{\"value\":0},\"fill_alpha\":{\"value\":0.1},\"fill_color\":{\"value\":\"#1f77b4\"},\"left\":{\"value\":-0.0522},\"line_alpha\":{\"value\":0.1},\"line_color\":{\"value\":\"#1f77b4\"},\"right\":{\"value\":-0.05},\"top\":{\"value\":25}},\"id\":\"2830\",\"type\":\"Quad\"},{\"attributes\":{},\"id\":\"2784\",\"type\":\"BasicTicker\"},{\"attributes\":{\"bottom\":{\"value\":0},\"fill_alpha\":{\"value\":0.1},\"fill_color\":{\"value\":\"#1f77b4\"},\"left\":{\"value\":0.06},\"line_alpha\":{\"value\":0.1},\"line_color\":{\"value\":\"#1f77b4\"},\"right\":{\"value\":0.0622},\"top\":{\"value\":5}},\"id\":\"2816\",\"type\":\"Quad\"},{\"attributes\":{\"bottom\":{\"value\":0},\"fill_color\":{\"value\":\"green\"},\"left\":{\"value\":0.06},\"right\":{\"value\":0.0622},\"top\":{\"value\":5}},\"id\":\"2815\",\"type\":\"Quad\"},{\"attributes\":{},\"id\":\"2842\",\"type\":\"Selection\"},{\"attributes\":{\"bottom\":{\"value\":0},\"fill_color\":{\"value\":\"red\"},\"left\":{\"value\":-0.0522},\"right\":{\"value\":-0.05},\"top\":{\"value\":25}},\"id\":\"2829\",\"type\":\"Quad\"},{\"attributes\":{\"bottom\":{\"value\":0},\"fill_alpha\":{\"value\":0.1},\"fill_color\":{\"value\":\"#1f77b4\"},\"left\":{\"field\":\"left\"},\"line_alpha\":{\"value\":0.1},\"line_color\":{\"value\":\"#1f77b4\"},\"right\":{\"field\":\"right\"},\"top\":{\"field\":\"top\"}},\"id\":\"2803\",\"type\":\"Quad\"},{\"attributes\":{\"source\":{\"id\":\"2828\",\"type\":\"ColumnDataSource\"}},\"id\":\"2832\",\"type\":\"CDSView\"},{\"attributes\":{\"callback\":null,\"data\":{},\"selected\":{\"id\":\"2842\",\"type\":\"Selection\"},\"selection_policy\":{\"id\":\"2841\",\"type\":\"UnionRenderers\"}},\"id\":\"2814\",\"type\":\"ColumnDataSource\"},{\"attributes\":{},\"id\":\"2792\",\"type\":\"ResetTool\"},{\"attributes\":{},\"id\":\"2841\",\"type\":\"UnionRenderers\"},{\"attributes\":{\"label\":{\"value\":\"Outliers Above\"},\"renderers\":[{\"id\":\"2817\",\"type\":\"GlyphRenderer\"}]},\"id\":\"2827\",\"type\":\"LegendItem\"},{\"attributes\":{},\"id\":\"2779\",\"type\":\"BasicTicker\"}],\"root_ids\":[\"2768\"]},\"title\":\"Bokeh Application\",\"version\":\"1.2.0\"}};\n",
       "  var render_items = [{\"docid\":\"d5f50e6b-98da-42db-b915-665899860263\",\"roots\":{\"2768\":\"20527674-7e73-4613-9a06-e2d5e02ddd25\"}}];\n",
       "  root.Bokeh.embed.embed_items_notebook(docs_json, render_items);\n",
       "\n",
       "  }\n",
       "  if (root.Bokeh !== undefined) {\n",
       "    embed_document(root);\n",
       "  } else {\n",
       "    var attempts = 0;\n",
       "    var timer = setInterval(function(root) {\n",
       "      if (root.Bokeh !== undefined) {\n",
       "        embed_document(root);\n",
       "        clearInterval(timer);\n",
       "      }\n",
       "      attempts++;\n",
       "      if (attempts > 100) {\n",
       "        console.log(\"Bokeh: ERROR: Unable to run BokehJS code because BokehJS library is missing\");\n",
       "        clearInterval(timer);\n",
       "      }\n",
       "    }, 10, root)\n",
       "  }\n",
       "})(window);"
      ],
      "application/vnd.bokehjs_exec.v0+json": ""
     },
     "metadata": {
      "application/vnd.bokehjs_exec.v0+json": {
       "id": "2768"
      }
     },
     "output_type": "display_data"
    }
   ],
   "source": [
    "p = hl.plot.histogram(rel.kin, range=(-0.05, 0.06), legend='Kinship coefficient')\n",
    "show(p)"
   ]
  },
  {
   "cell_type": "code",
   "execution_count": 46,
   "metadata": {},
   "outputs": [
    {
     "name": "stderr",
     "output_type": "stream",
     "text": [
      "2020-12-17 10:04:22 Hail: INFO: wrote matrix with 11 rows and 10837 columns as 3 blocks of size 4096 to /tmp/pcrelate-write-read-G0loKsJ9mpZ9FqNRTkQCaP.bm\n",
      "2020-12-17 10:04:22 Hail: INFO: wrote matrix with 10837 rows and 48 columns as 3 blocks of size 4096 to /tmp/pcrelate-write-read-BoXhoaa0v3Nln1NBz3XZRy.bm\n",
      "2020-12-17 10:04:23 Hail: INFO: wrote matrix with 10837 rows and 48 columns as 3 blocks of size 4096 to /tmp/pcrelate-write-read-JJdekuMAMBFGB9D0I2TmHD.bm\n",
      "2020-12-17 10:04:23 Hail: INFO: wrote matrix with 48 rows and 48 columns as 1 block of size 4096 to /tmp/pcrelate-write-read-mZW1FQBnc0Y8FyhjgiPjNH.bm\n",
      "2020-12-17 10:04:23 Hail: INFO: wrote matrix with 48 rows and 48 columns as 1 block of size 4096 to /tmp/pcrelate-write-read-WtOh8feBUs3FP35Vqy43Zg.bm\n",
      "2020-12-17 10:04:23 Hail: INFO: wrote matrix with 48 rows and 48 columns as 1 block of size 4096 to /tmp/pcrelate-write-read-CtDhJ1BLrNkDY9Aa3DGWU8.bm\n",
      "2020-12-17 10:04:23 Hail: INFO: wrote matrix with 48 rows and 48 columns as 1 block of size 4096 to /tmp/pcrelate-write-read-kI5weRF88nOEvRQuSuxAxq.bm\n",
      "2020-12-17 10:04:23 Hail: INFO: wrote matrix with 48 rows and 48 columns as 1 block of size 4096 to /tmp/pcrelate-write-read-nMqp9Fu3aBJnuzN27kGyut.bm\n",
      "2020-12-17 10:04:23 Hail: INFO: wrote matrix with 48 rows and 48 columns as 1 block of size 4096 to /tmp/pcrelate-write-read-75qmmJhANJREwGOfslh8b7.bm\n",
      "2020-12-17 10:04:23 Hail: INFO: wrote matrix with 48 rows and 48 columns as 1 block of size 4096 to /tmp/pcrelate-write-read-MExUsgB7CDX73KEs5GrHRH.bm\n",
      "2020-12-17 10:04:23 Hail: INFO: wrote matrix with 48 rows and 48 columns as 1 block of size 4096 to /tmp/pcrelate-write-read-sYaQY9vpFlNJhRt0KMMDjC.bm\n",
      "2020-12-17 10:04:24 Hail: INFO: wrote matrix with 48 rows and 48 columns as 1 block of size 4096 to /tmp/pcrelate-write-read-ZWPNXgcHatEtaisN2VHDkS.bm\n",
      "2020-12-17 10:04:24 Hail: INFO: Ordering unsorted dataset with network shuffle\n"
     ]
    },
    {
     "data": {
      "text/html": [
       "\n",
       "\n",
       "\n",
       "\n",
       "\n",
       "\n",
       "  <div class=\"bk-root\" id=\"a9a77743-a985-4dc2-96cf-cb78db8d6bbd\" data-root-id=\"3026\"></div>\n"
      ]
     },
     "metadata": {},
     "output_type": "display_data"
    },
    {
     "data": {
      "application/javascript": [
       "(function(root) {\n",
       "  function embed_document(root) {\n",
       "    \n",
       "  var docs_json = {\"6df6a9b2-e415-4be4-9e75-042fe0aa7704\":{\"roots\":{\"references\":[{\"attributes\":{\"below\":[{\"id\":\"3036\",\"type\":\"LinearAxis\"}],\"center\":[{\"id\":\"3040\",\"type\":\"Grid\"},{\"id\":\"3045\",\"type\":\"Grid\"}],\"left\":[{\"id\":\"3041\",\"type\":\"LinearAxis\"}],\"plot_height\":500,\"plot_width\":700,\"renderers\":[{\"id\":\"3065\",\"type\":\"GlyphRenderer\"}],\"title\":null,\"toolbar\":{\"id\":\"3052\",\"type\":\"Toolbar\"},\"x_range\":{\"id\":\"3028\",\"type\":\"DataRange1d\"},\"x_scale\":{\"id\":\"3032\",\"type\":\"LinearScale\"},\"y_range\":{\"id\":\"3030\",\"type\":\"DataRange1d\"},\"y_scale\":{\"id\":\"3034\",\"type\":\"LinearScale\"}},\"id\":\"3026\",\"subtype\":\"Figure\",\"type\":\"Plot\"},{\"attributes\":{},\"id\":\"3050\",\"type\":\"ResetTool\"},{\"attributes\":{\"fill_alpha\":{\"value\":0.1},\"fill_color\":{\"value\":\"#1f77b4\"},\"line_alpha\":{\"value\":0.1},\"line_color\":{\"value\":\"#1f77b4\"},\"x\":{\"field\":\"x\"},\"y\":{\"field\":\"y\"}},\"id\":\"3064\",\"type\":\"Circle\"},{\"attributes\":{},\"id\":\"3034\",\"type\":\"LinearScale\"},{\"attributes\":{},\"id\":\"3051\",\"type\":\"HelpTool\"},{\"attributes\":{},\"id\":\"3046\",\"type\":\"PanTool\"},{\"attributes\":{},\"id\":\"3032\",\"type\":\"LinearScale\"},{\"attributes\":{},\"id\":\"3042\",\"type\":\"BasicTicker\"},{\"attributes\":{},\"id\":\"3179\",\"type\":\"BasicTickFormatter\"},{\"attributes\":{},\"id\":\"3037\",\"type\":\"BasicTicker\"},{\"attributes\":{},\"id\":\"3181\",\"type\":\"BasicTickFormatter\"},{\"attributes\":{\"callback\":null,\"data\":{\"index\":[0,1,2,3,4,5,6,7,8,9,10,11,12,13,14,15,16,17,18,19,20,21,22,23,24,25,26,27,28,29,30,31,32,33,34,35,36,37,38,39,40,41,42,43,44,45,46,47,48,49,50,51,52,53,54,55,56,57,58,59,60,61,62,63,64,65,66,67,68,69,70,71,72,73,74,75,76,77,78,79,80,81,82,83,84,85,86,87,88,89,90,91,92,93,94,95,96,97,98,99,100,101,102,103,104,105,106,107,108,109,110,111,112,113,114,115,116,117,118,119,120,121,122,123,124,125,126,127,128,129,130,131,132,133,134,135,136,137,138,139,140,141,142,143,144,145,146,147,148,149,150,151,152,153,154,155,156,157,158,159,160,161,162,163,164,165,166,167,168,169,170,171,172,173,174,175,176,177,178,179,180,181,182,183,184,185,186,187,188,189,190,191,192,193,194,195,196,197,198,199,200,201,202,203,204,205,206,207,208,209,210,211,212,213,214,215,216,217,218,219,220,221,222,223,224,225,226,227,228,229,230,231,232,233,234,235,236,237,238,239,240,241,242,243,244,245,246,247,248,249,250,251,252,253,254,255,256,257,258,259,260,261,262,263,264,265,266,267,268,269,270,271,272,273,274,275,276,277,278,279,280,281,282,283,284,285,286,287,288,289,290,291,292,293,294,295,296,297,298,299,300,301,302,303,304,305,306,307,308,309,310,311,312,313,314,315,316,317,318,319,320,321,322,323,324,325,326,327,328,329,330,331,332,333,334,335,336,337,338,339,340,341,342,343,344,345,346,347,348,349,350,351,352,353,354,355,356,357,358,359,360,361,362,363,364,365,366,367,368,369,370,371,372,373,374,375,376,377,378,379,380,381,382,383,384,385,386,387,388,389,390,391,392,393,394,395,396,397,398,399,400,401,402,403,404,405,406,407,408,409,410,411,412,413,414,415,416,417,418,419,420,421,422,423,424,425,426,427,428,429,430,431,432,433,434,435,436,437,438,439,440,441,442,443,444,445,446,447,448,449,450,451,452,453,454,455,456,457,458,459,460,461,462,463,464,465,466,467,468,469,470,471,472,473,474,475,476,477,478,479,480,481,482,483,484,485,486,487,488,489,490,491,492,493,494,495,496,497,498,499,500,501,502,503,504,505,506,507,508,509,510,511,512,513,514,515,516,517,518,519,520,521,522,523,524,525,526,527,528,529,530,531,532,533,534,535,536,537,538,539,540,541,542,543,544,545,546,547,548,549,550,551,552,553,554,555,556,557,558,559,560,561,562,563,564,565,566,567,568,569,570,571,572,573,574,575,576,577,578,579,580,581,582,583,584,585,586,587,588,589,590,591,592,593,594,595,596,597,598,599,600,601,602,603,604,605,606,607,608,609,610,611,612,613,614,615,616,617,618,619,620,621,622,623,624,625,626,627,628,629,630,631,632,633,634,635,636,637,638,639,640,641,642,643,644,645,646,647,648,649,650,651,652,653,654,655,656,657,658,659,660,661,662,663,664,665,666,667,668,669,670,671,672,673,674,675,676,677,678,679,680,681,682,683,684,685,686,687,688,689,690,691,692,693,694,695,696,697,698,699,700,701,702,703,704,705,706,707,708,709,710,711,712,713,714,715,716,717,718,719,720,721,722,723,724,725,726,727,728,729,730,731,732,733,734,735,736,737,738,739,740,741,742,743,744,745,746,747,748,749,750,751,752,753,754,755,756,757,758,759,760,761,762,763,764,765,766,767,768,769,770,771,772,773,774,775,776,777,778,779,780,781,782,783,784,785,786,787,788,789,790,791,792,793,794,795,796,797,798,799,800,801,802,803,804,805,806,807,808,809,810,811,812,813,814,815,816,817,818,819,820,821,822,823,824,825,826,827,828,829,830,831,832,833,834,835,836,837,838,839,840,841,842,843,844,845,846,847,848,849,850,851,852,853,854,855,856,857,858,859,860,861,862,863,864,865,866,867,868,869,870,871,872,873,874,875,876,877,878,879,880,881,882,883,884,885,886,887,888,889,890,891,892,893,894,895,896,897,898,899,900,901,902,903,904,905,906,907,908,909,910,911,912,913,914,915,916,917,918,919,920,921,922,923,924,925,926,927,928,929,930,931,932,933,934,935,936,937,938,939,940,941,942,943,944,945,946,947,948,949,950,951,952,953,954,955,956,957,958,959,960,961,962,963,964,965,966,967,968,969,970,971,972,973,974,975,976,977,978,979,980,981,982,983,984,985,986,987,988,989,990,991,992,993,994,995,996,997,998,999,1000,1001,1002,1003,1004,1005,1006,1007,1008,1009,1010,1011,1012,1013,1014,1015,1016,1017,1018,1019],\"x\":{\"__ndarray__\":\"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\",\"dtype\":\"float64\",\"shape\":[1020]},\"y\":{\"__ndarray__\":\"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\",\"dtype\":\"float64\",\"shape\":[1020]}},\"selected\":{\"id\":\"3184\",\"type\":\"Selection\"},\"selection_policy\":{\"id\":\"3183\",\"type\":\"UnionRenderers\"}},\"id\":\"3061\",\"type\":\"ColumnDataSource\"},{\"attributes\":{},\"id\":\"3184\",\"type\":\"Selection\"},{\"attributes\":{\"active_drag\":\"auto\",\"active_inspect\":\"auto\",\"active_multi\":null,\"active_scroll\":\"auto\",\"active_tap\":\"auto\",\"tools\":[{\"id\":\"3046\",\"type\":\"PanTool\"},{\"id\":\"3047\",\"type\":\"WheelZoomTool\"},{\"id\":\"3048\",\"type\":\"BoxZoomTool\"},{\"id\":\"3049\",\"type\":\"SaveTool\"},{\"id\":\"3050\",\"type\":\"ResetTool\"},{\"id\":\"3051\",\"type\":\"HelpTool\"},{\"id\":\"3060\",\"type\":\"HoverTool\"}]},\"id\":\"3052\",\"type\":\"Toolbar\"},{\"attributes\":{\"callback\":null,\"tooltips\":[[\"x\",\"@x\"],[\"y\",\"@y\"]]},\"id\":\"3060\",\"type\":\"HoverTool\"},{\"attributes\":{},\"id\":\"3183\",\"type\":\"UnionRenderers\"},{\"attributes\":{\"data_source\":{\"id\":\"3061\",\"type\":\"ColumnDataSource\"},\"glyph\":{\"id\":\"3063\",\"type\":\"Circle\"},\"hover_glyph\":null,\"muted_glyph\":null,\"nonselection_glyph\":{\"id\":\"3064\",\"type\":\"Circle\"},\"selection_glyph\":null,\"view\":{\"id\":\"3066\",\"type\":\"CDSView\"}},\"id\":\"3065\",\"type\":\"GlyphRenderer\"},{\"attributes\":{},\"id\":\"3049\",\"type\":\"SaveTool\"},{\"attributes\":{\"fill_color\":{\"value\":\"#1f77b4\"},\"line_color\":{\"value\":\"#1f77b4\"},\"x\":{\"field\":\"x\"},\"y\":{\"field\":\"y\"}},\"id\":\"3063\",\"type\":\"Circle\"},{\"attributes\":{\"ticker\":{\"id\":\"3037\",\"type\":\"BasicTicker\"}},\"id\":\"3040\",\"type\":\"Grid\"},{\"attributes\":{\"overlay\":{\"id\":\"3182\",\"type\":\"BoxAnnotation\"}},\"id\":\"3048\",\"type\":\"BoxZoomTool\"},{\"attributes\":{\"callback\":null},\"id\":\"3028\",\"type\":\"DataRange1d\"},{\"attributes\":{\"bottom_units\":\"screen\",\"fill_alpha\":{\"value\":0.5},\"fill_color\":{\"value\":\"lightgrey\"},\"left_units\":\"screen\",\"level\":\"overlay\",\"line_alpha\":{\"value\":1.0},\"line_color\":{\"value\":\"black\"},\"line_dash\":[4,4],\"line_width\":{\"value\":2},\"render_mode\":\"css\",\"right_units\":\"screen\",\"top_units\":\"screen\"},\"id\":\"3182\",\"type\":\"BoxAnnotation\"},{\"attributes\":{\"dimension\":1,\"ticker\":{\"id\":\"3042\",\"type\":\"BasicTicker\"}},\"id\":\"3045\",\"type\":\"Grid\"},{\"attributes\":{\"formatter\":{\"id\":\"3181\",\"type\":\"BasicTickFormatter\"},\"ticker\":{\"id\":\"3042\",\"type\":\"BasicTicker\"}},\"id\":\"3041\",\"type\":\"LinearAxis\"},{\"attributes\":{\"formatter\":{\"id\":\"3179\",\"type\":\"BasicTickFormatter\"},\"ticker\":{\"id\":\"3037\",\"type\":\"BasicTicker\"}},\"id\":\"3036\",\"type\":\"LinearAxis\"},{\"attributes\":{\"source\":{\"id\":\"3061\",\"type\":\"ColumnDataSource\"}},\"id\":\"3066\",\"type\":\"CDSView\"},{\"attributes\":{\"callback\":null},\"id\":\"3030\",\"type\":\"DataRange1d\"},{\"attributes\":{},\"id\":\"3047\",\"type\":\"WheelZoomTool\"}],\"root_ids\":[\"3026\"]},\"title\":\"Bokeh Application\",\"version\":\"1.2.0\"}};\n",
       "  var render_items = [{\"docid\":\"6df6a9b2-e415-4be4-9e75-042fe0aa7704\",\"roots\":{\"3026\":\"a9a77743-a985-4dc2-96cf-cb78db8d6bbd\"}}];\n",
       "  root.Bokeh.embed.embed_items_notebook(docs_json, render_items);\n",
       "\n",
       "  }\n",
       "  if (root.Bokeh !== undefined) {\n",
       "    embed_document(root);\n",
       "  } else {\n",
       "    var attempts = 0;\n",
       "    var timer = setInterval(function(root) {\n",
       "      if (root.Bokeh !== undefined) {\n",
       "        embed_document(root);\n",
       "        clearInterval(timer);\n",
       "      }\n",
       "      attempts++;\n",
       "      if (attempts > 100) {\n",
       "        console.log(\"Bokeh: ERROR: Unable to run BokehJS code because BokehJS library is missing\");\n",
       "        clearInterval(timer);\n",
       "      }\n",
       "    }, 10, root)\n",
       "  }\n",
       "})(window);"
      ],
      "application/vnd.bokehjs_exec.v0+json": ""
     },
     "metadata": {
      "application/vnd.bokehjs_exec.v0+json": {
       "id": "3026"
      }
     },
     "output_type": "display_data"
    }
   ],
   "source": [
    "p = hl.plot.scatter(rel.ibd0, rel.ibd1,\n",
    "                    xlabel='', ylabel='')\n",
    "p.plot_width = 700\n",
    "p.plot_height = 500\n",
    "show(p)"
   ]
  },
  {
   "cell_type": "markdown",
   "metadata": {},
   "source": [
    "### IBD"
   ]
  },
  {
   "cell_type": "code",
   "execution_count": 47,
   "metadata": {},
   "outputs": [
    {
     "name": "stderr",
     "output_type": "stream",
     "text": [
      "2020-12-17 10:04:40 Hail: INFO: Coerced sorted dataset\n"
     ]
    },
    {
     "data": {
      "text/plain": [
       "1128"
      ]
     },
     "execution_count": 47,
     "metadata": {},
     "output_type": "execute_result"
    }
   ],
   "source": [
    "ht_ibd = hl.identity_by_descent(mt_indep)\n",
    "ht_ibd.count()"
   ]
  },
  {
   "cell_type": "code",
   "execution_count": 48,
   "metadata": {},
   "outputs": [
    {
     "name": "stdout",
     "output_type": "stream",
     "text": [
      "----------------------------------------\n",
      "Global fields:\n",
      "    None\n",
      "----------------------------------------\n",
      "Row fields:\n",
      "    'i': str \n",
      "    'j': str \n",
      "    'ibd': struct {\n",
      "        Z0: float64, \n",
      "        Z1: float64, \n",
      "        Z2: float64, \n",
      "        PI_HAT: float64\n",
      "    } \n",
      "    'ibs0': int64 \n",
      "    'ibs1': int64 \n",
      "    'ibs2': int64 \n",
      "----------------------------------------\n",
      "Key: ['i', 'j']\n",
      "----------------------------------------\n"
     ]
    }
   ],
   "source": [
    "ht_ibd.describe()"
   ]
  },
  {
   "cell_type": "code",
   "execution_count": 49,
   "metadata": {},
   "outputs": [
    {
     "name": "stderr",
     "output_type": "stream",
     "text": [
      "2020-12-17 10:04:48 Hail: INFO: Coerced sorted dataset\n"
     ]
    },
    {
     "data": {
      "text/html": [
       "<p>1128 records.</p><b>PI_HAT</b> (<i>float64</i>):<ul><table><tbody><tr><td>Non-missing</td><td>1128 (100.00%)</td></tr><tr><td>Missing</td><td>0</td></tr><tr><td>Minimum</td><td>0.35</td></tr><tr><td>Maximum</td><td>0.74</td></tr><tr><td>Mean</td><td>0.48</td></tr><tr><td>Std Dev</td><td>0.04</td></tr></tbody></table></ul>"
      ],
      "text/plain": [
       "\n",
       "1128 records.\n",
       "\n",
       "- PI_HAT (float64):\n",
       "  Non-missing: 1128 (100.00%)\n",
       "      Missing: 0\n",
       "      Minimum: 0.35\n",
       "      Maximum: 0.74\n",
       "         Mean: 0.48\n",
       "      Std Dev: 0.04"
      ]
     },
     "metadata": {},
     "output_type": "display_data"
    }
   ],
   "source": [
    "ht_ibd.ibd.PI_HAT.summarize()"
   ]
  },
  {
   "cell_type": "code",
   "execution_count": 50,
   "metadata": {},
   "outputs": [
    {
     "name": "stderr",
     "output_type": "stream",
     "text": [
      "2020-12-17 10:04:56 Hail: INFO: Coerced sorted dataset\n"
     ]
    },
    {
     "data": {
      "text/html": [
       "\n",
       "\n",
       "\n",
       "\n",
       "\n",
       "\n",
       "  <div class=\"bk-root\" id=\"bc3c7a5c-afe3-406d-b845-5fbd48b8c21e\" data-root-id=\"3233\"></div>\n"
      ]
     },
     "metadata": {},
     "output_type": "display_data"
    },
    {
     "data": {
      "application/javascript": [
       "(function(root) {\n",
       "  function embed_document(root) {\n",
       "    \n",
       "  var docs_json = {\"d7c7abce-fd75-4143-a7cd-6c4661f4f4ba\":{\"roots\":{\"references\":[{\"attributes\":{\"background_fill_color\":{\"value\":\"#EEEEEE\"},\"below\":[{\"id\":\"3243\",\"type\":\"LinearAxis\"}],\"center\":[{\"id\":\"3247\",\"type\":\"Grid\"},{\"id\":\"3252\",\"type\":\"Grid\"},{\"id\":\"3277\",\"type\":\"Legend\"}],\"left\":[{\"id\":\"3248\",\"type\":\"LinearAxis\"}],\"renderers\":[{\"id\":\"3269\",\"type\":\"GlyphRenderer\"},{\"id\":\"3282\",\"type\":\"GlyphRenderer\"}],\"title\":null,\"toolbar\":{\"id\":\"3259\",\"type\":\"Toolbar\"},\"x_range\":{\"id\":\"3235\",\"type\":\"Range1d\"},\"x_scale\":{\"id\":\"3239\",\"type\":\"LinearScale\"},\"y_range\":{\"id\":\"3237\",\"type\":\"DataRange1d\"},\"y_scale\":{\"id\":\"3241\",\"type\":\"LinearScale\"}},\"id\":\"3233\",\"subtype\":\"Figure\",\"type\":\"Plot\"},{\"attributes\":{\"items\":[{\"id\":\"3278\",\"type\":\"LegendItem\"},{\"id\":\"3292\",\"type\":\"LegendItem\"}]},\"id\":\"3277\",\"type\":\"Legend\"},{\"attributes\":{},\"id\":\"3253\",\"type\":\"PanTool\"},{\"attributes\":{\"callback\":null,\"data\":{\"left\":[0.35,0.3576,0.36519999999999997,0.37279999999999996,0.38039999999999996,0.38799999999999996,0.39559999999999995,0.4032,0.4108,0.4184,0.426,0.4336,0.4412,0.4488,0.4564,0.46399999999999997,0.47159999999999996,0.47919999999999996,0.4868,0.49439999999999995,0.502,0.5095999999999999,0.5172,0.5247999999999999,0.5324,0.54,0.5476,0.5551999999999999,0.5628,0.5704,0.578,0.5856,0.5932,0.6008,0.6084,0.616,0.6235999999999999,0.6312,0.6388,0.6464,0.6539999999999999,0.6616,0.6692,0.6768,0.6843999999999999,0.692,0.6996,0.7072,0.7148,0.7223999999999999],\"right\":[0.3576,0.36519999999999997,0.37279999999999996,0.38039999999999996,0.38799999999999996,0.39559999999999995,0.4032,0.4108,0.4184,0.426,0.4336,0.4412,0.4488,0.4564,0.46399999999999997,0.47159999999999996,0.47919999999999996,0.4868,0.49439999999999995,0.502,0.5095999999999999,0.5172,0.5247999999999999,0.5324,0.54,0.5476,0.5551999999999999,0.5628,0.5704,0.578,0.5856,0.5932,0.6008,0.6084,0.616,0.6235999999999999,0.6312,0.6388,0.6464,0.6539999999999999,0.6616,0.6692,0.6768,0.6843999999999999,0.692,0.6996,0.7072,0.7148,0.7223999999999999,0.73],\"top\":[1,3,7,13,22,35,43,38,23,11,9,8,2,2,4,2,5,4,2,878,0,3,3,0,1,0,1,1,0,1,1,0,1,0,1,0,0,0,0,0,0,1,1,0,0,0,0,0,0,0]},\"selected\":{\"id\":\"3291\",\"type\":\"Selection\"},\"selection_policy\":{\"id\":\"3290\",\"type\":\"UnionRenderers\"}},\"id\":\"3266\",\"type\":\"ColumnDataSource\"},{\"attributes\":{\"bottom\":{\"value\":0},\"fill_color\":{\"value\":\"#1f77b4\"},\"left\":{\"field\":\"left\"},\"right\":{\"field\":\"right\"},\"top\":{\"field\":\"top\"}},\"id\":\"3267\",\"type\":\"Quad\"},{\"attributes\":{\"data_source\":{\"id\":\"3279\",\"type\":\"ColumnDataSource\"},\"glyph\":{\"id\":\"3280\",\"type\":\"Quad\"},\"hover_glyph\":null,\"muted_glyph\":null,\"nonselection_glyph\":{\"id\":\"3281\",\"type\":\"Quad\"},\"selection_glyph\":null,\"view\":{\"id\":\"3283\",\"type\":\"CDSView\"}},\"id\":\"3282\",\"type\":\"GlyphRenderer\"},{\"attributes\":{},\"id\":\"3244\",\"type\":\"BasicTicker\"},{\"attributes\":{\"data_source\":{\"id\":\"3266\",\"type\":\"ColumnDataSource\"},\"glyph\":{\"id\":\"3267\",\"type\":\"Quad\"},\"hover_glyph\":null,\"muted_glyph\":null,\"nonselection_glyph\":{\"id\":\"3268\",\"type\":\"Quad\"},\"selection_glyph\":null,\"view\":{\"id\":\"3270\",\"type\":\"CDSView\"}},\"id\":\"3269\",\"type\":\"GlyphRenderer\"},{\"attributes\":{},\"id\":\"3239\",\"type\":\"LinearScale\"},{\"attributes\":{\"active_drag\":\"auto\",\"active_inspect\":\"auto\",\"active_multi\":null,\"active_scroll\":\"auto\",\"active_tap\":\"auto\",\"tools\":[{\"id\":\"3253\",\"type\":\"PanTool\"},{\"id\":\"3254\",\"type\":\"WheelZoomTool\"},{\"id\":\"3255\",\"type\":\"BoxZoomTool\"},{\"id\":\"3256\",\"type\":\"SaveTool\"},{\"id\":\"3257\",\"type\":\"ResetTool\"},{\"id\":\"3258\",\"type\":\"HelpTool\"}]},\"id\":\"3259\",\"type\":\"Toolbar\"},{\"attributes\":{},\"id\":\"3291\",\"type\":\"Selection\"},{\"attributes\":{},\"id\":\"3258\",\"type\":\"HelpTool\"},{\"attributes\":{},\"id\":\"3241\",\"type\":\"LinearScale\"},{\"attributes\":{\"source\":{\"id\":\"3266\",\"type\":\"ColumnDataSource\"}},\"id\":\"3270\",\"type\":\"CDSView\"},{\"attributes\":{\"callback\":null,\"end\":0.749,\"start\":0.33099999999999996},\"id\":\"3235\",\"type\":\"Range1d\"},{\"attributes\":{},\"id\":\"3290\",\"type\":\"UnionRenderers\"},{\"attributes\":{},\"id\":\"3254\",\"type\":\"WheelZoomTool\"},{\"attributes\":{},\"id\":\"3257\",\"type\":\"ResetTool\"},{\"attributes\":{\"ticker\":{\"id\":\"3244\",\"type\":\"BasicTicker\"}},\"id\":\"3247\",\"type\":\"Grid\"},{\"attributes\":{},\"id\":\"3256\",\"type\":\"SaveTool\"},{\"attributes\":{\"bottom_units\":\"screen\",\"fill_alpha\":{\"value\":0.5},\"fill_color\":{\"value\":\"lightgrey\"},\"left_units\":\"screen\",\"level\":\"overlay\",\"line_alpha\":{\"value\":1.0},\"line_color\":{\"value\":\"black\"},\"line_dash\":[4,4],\"line_width\":{\"value\":2},\"render_mode\":\"css\",\"right_units\":\"screen\",\"top_units\":\"screen\"},\"id\":\"3276\",\"type\":\"BoxAnnotation\"},{\"attributes\":{\"dimension\":1,\"ticker\":{\"id\":\"3249\",\"type\":\"BasicTicker\"}},\"id\":\"3252\",\"type\":\"Grid\"},{\"attributes\":{\"axis_label\":\"pi_hat\",\"formatter\":{\"id\":\"3273\",\"type\":\"BasicTickFormatter\"},\"ticker\":{\"id\":\"3244\",\"type\":\"BasicTicker\"}},\"id\":\"3243\",\"type\":\"LinearAxis\"},{\"attributes\":{\"callback\":null,\"data\":{},\"selected\":{\"id\":\"3420\",\"type\":\"Selection\"},\"selection_policy\":{\"id\":\"3419\",\"type\":\"UnionRenderers\"}},\"id\":\"3279\",\"type\":\"ColumnDataSource\"},{\"attributes\":{},\"id\":\"3273\",\"type\":\"BasicTickFormatter\"},{\"attributes\":{\"callback\":null},\"id\":\"3237\",\"type\":\"DataRange1d\"},{\"attributes\":{\"source\":{\"id\":\"3279\",\"type\":\"ColumnDataSource\"}},\"id\":\"3283\",\"type\":\"CDSView\"},{\"attributes\":{},\"id\":\"3275\",\"type\":\"BasicTickFormatter\"},{\"attributes\":{},\"id\":\"3420\",\"type\":\"Selection\"},{\"attributes\":{\"axis_label\":\"Frequency\",\"formatter\":{\"id\":\"3275\",\"type\":\"BasicTickFormatter\"},\"ticker\":{\"id\":\"3249\",\"type\":\"BasicTicker\"}},\"id\":\"3248\",\"type\":\"LinearAxis\"},{\"attributes\":{\"bottom\":{\"value\":0},\"fill_alpha\":{\"value\":0.1},\"fill_color\":{\"value\":\"#1f77b4\"},\"left\":{\"value\":0.73},\"line_alpha\":{\"value\":0.1},\"line_color\":{\"value\":\"#1f77b4\"},\"right\":{\"value\":0.7376},\"top\":{\"value\":1}},\"id\":\"3281\",\"type\":\"Quad\"},{\"attributes\":{},\"id\":\"3419\",\"type\":\"UnionRenderers\"},{\"attributes\":{\"bottom\":{\"value\":0},\"fill_alpha\":{\"value\":0.1},\"fill_color\":{\"value\":\"#1f77b4\"},\"left\":{\"field\":\"left\"},\"line_alpha\":{\"value\":0.1},\"line_color\":{\"value\":\"#1f77b4\"},\"right\":{\"field\":\"right\"},\"top\":{\"field\":\"top\"}},\"id\":\"3268\",\"type\":\"Quad\"},{\"attributes\":{\"bottom\":{\"value\":0},\"fill_color\":{\"value\":\"green\"},\"left\":{\"value\":0.73},\"right\":{\"value\":0.7376},\"top\":{\"value\":1}},\"id\":\"3280\",\"type\":\"Quad\"},{\"attributes\":{\"label\":{\"value\":\"Outliers Above\"},\"renderers\":[{\"id\":\"3282\",\"type\":\"GlyphRenderer\"}]},\"id\":\"3292\",\"type\":\"LegendItem\"},{\"attributes\":{\"label\":{\"value\":\"pi_hat\"},\"renderers\":[{\"id\":\"3269\",\"type\":\"GlyphRenderer\"}]},\"id\":\"3278\",\"type\":\"LegendItem\"},{\"attributes\":{},\"id\":\"3249\",\"type\":\"BasicTicker\"},{\"attributes\":{\"overlay\":{\"id\":\"3276\",\"type\":\"BoxAnnotation\"}},\"id\":\"3255\",\"type\":\"BoxZoomTool\"}],\"root_ids\":[\"3233\"]},\"title\":\"Bokeh Application\",\"version\":\"1.2.0\"}};\n",
       "  var render_items = [{\"docid\":\"d7c7abce-fd75-4143-a7cd-6c4661f4f4ba\",\"roots\":{\"3233\":\"bc3c7a5c-afe3-406d-b845-5fbd48b8c21e\"}}];\n",
       "  root.Bokeh.embed.embed_items_notebook(docs_json, render_items);\n",
       "\n",
       "  }\n",
       "  if (root.Bokeh !== undefined) {\n",
       "    embed_document(root);\n",
       "  } else {\n",
       "    var attempts = 0;\n",
       "    var timer = setInterval(function(root) {\n",
       "      if (root.Bokeh !== undefined) {\n",
       "        embed_document(root);\n",
       "        clearInterval(timer);\n",
       "      }\n",
       "      attempts++;\n",
       "      if (attempts > 100) {\n",
       "        console.log(\"Bokeh: ERROR: Unable to run BokehJS code because BokehJS library is missing\");\n",
       "        clearInterval(timer);\n",
       "      }\n",
       "    }, 10, root)\n",
       "  }\n",
       "})(window);"
      ],
      "application/vnd.bokehjs_exec.v0+json": ""
     },
     "metadata": {
      "application/vnd.bokehjs_exec.v0+json": {
       "id": "3233"
      }
     },
     "output_type": "display_data"
    }
   ],
   "source": [
    "p = hl.plot.histogram(ht_ibd.ibd.PI_HAT, range=(0.35, 0.73), legend='pi_hat')\n",
    "show(p)"
   ]
  },
  {
   "cell_type": "code",
   "execution_count": 51,
   "metadata": {},
   "outputs": [],
   "source": [
    "ht_ibd0_5 = ht_ibd.filter(ht_ibd.ibd.PI_HAT == 0.5)"
   ]
  },
  {
   "cell_type": "code",
   "execution_count": 52,
   "metadata": {},
   "outputs": [
    {
     "name": "stderr",
     "output_type": "stream",
     "text": [
      "2020-12-17 10:05:04 Hail: INFO: Coerced sorted dataset\n"
     ]
    },
    {
     "data": {
      "text/plain": [
       "877"
      ]
     },
     "execution_count": 52,
     "metadata": {},
     "output_type": "execute_result"
    }
   ],
   "source": [
    "ht_ibd0_5.count()"
   ]
  },
  {
   "cell_type": "markdown",
   "metadata": {},
   "source": [
    "### King"
   ]
  },
  {
   "cell_type": "code",
   "execution_count": 33,
   "metadata": {},
   "outputs": [
    {
     "name": "stderr",
     "output_type": "stream",
     "text": [
      "2020-12-17 09:57:00 Hail: INFO: Wrote all 14 blocks of 54738 x 48 matrix with block size 4096.\n",
      "2020-12-17 09:57:03 Hail: INFO: Wrote all 14 blocks of 54738 x 48 matrix with block size 4096.\n",
      "2020-12-17 09:57:06 Hail: INFO: Wrote all 14 blocks of 54738 x 48 matrix with block size 4096.\n",
      "2020-12-17 09:57:09 Hail: INFO: Wrote all 14 blocks of 54738 x 48 matrix with block size 4096.\n",
      "2020-12-17 09:57:09 Hail: INFO: wrote matrix with 48 rows and 48 columns as 1 block of size 4096 to /tmp/nYTwpQz0aQZnboLK9b4LCQ\n",
      "2020-12-17 09:57:10 Hail: INFO: wrote matrix with 48 rows and 48 columns as 1 block of size 4096 to /tmp/zVXcSJYNR1TSpeNnvXpH5l\n",
      "2020-12-17 09:57:10 Hail: INFO: wrote matrix with 48 rows and 48 columns as 1 block of size 4096 to /tmp/M5QQ7fuOaDZbNXFWaKAtbA\n",
      "2020-12-17 09:57:10 Hail: INFO: wrote matrix with 48 rows and 48 columns as 1 block of size 4096 to /tmp/EQHJWI8XsZKhP1HRZRY6tX\n",
      "2020-12-17 09:57:10 Hail: INFO: wrote matrix with 48 rows and 48 columns as 1 block of size 4096 to /tmp/hujL8Rp7EjK45oCgKcIIo7\n",
      "2020-12-17 09:57:10 Hail: INFO: wrote matrix with 48 rows and 48 columns as 1 block of size 4096 to /tmp/tDVYX2Kx5rvRNwdUj3707N\n",
      "2020-12-17 09:57:10 Hail: WARN: cols(): Resulting column table is sorted by 'col_key'.\n",
      "    To preserve matrix table column order, first unkey columns with 'key_cols_by()'\n"
     ]
    },
    {
     "data": {
      "text/plain": [
       "(48, 48)"
      ]
     },
     "execution_count": 33,
     "metadata": {},
     "output_type": "execute_result"
    }
   ],
   "source": [
    "mt_king = hl.king(mt_indep.GT)\n",
    "mt_king.count()"
   ]
  },
  {
   "cell_type": "code",
   "execution_count": 34,
   "metadata": {},
   "outputs": [
    {
     "data": {
      "text/html": [
       "<p>2304 records.</p><b>phi</b> (<i>float64</i>):<ul><table><tbody><tr><td>Non-missing</td><td>2304 (100.00%)</td></tr><tr><td>Missing</td><td>0</td></tr><tr><td>Minimum</td><td>-0.73</td></tr><tr><td>Maximum</td><td>0.50</td></tr><tr><td>Mean</td><td>0.04</td></tr><tr><td>Std Dev</td><td>0.14</td></tr></tbody></table></ul>"
      ],
      "text/plain": [
       "\n",
       "2304 records.\n",
       "\n",
       "- phi (float64):\n",
       "  Non-missing: 2304 (100.00%)\n",
       "      Missing: 0\n",
       "      Minimum: -0.73\n",
       "      Maximum: 0.50\n",
       "         Mean: 0.04\n",
       "      Std Dev: 0.14"
      ]
     },
     "metadata": {},
     "output_type": "display_data"
    }
   ],
   "source": [
    "mt_king.phi.summarize()"
   ]
  },
  {
   "cell_type": "code",
   "execution_count": 35,
   "metadata": {},
   "outputs": [
    {
     "data": {
      "text/html": [
       "\n",
       "\n",
       "\n",
       "\n",
       "\n",
       "\n",
       "  <div class=\"bk-root\" id=\"c242bef8-c208-48c1-8828-8c0afb1ab41c\" data-root-id=\"2400\"></div>\n"
      ]
     },
     "metadata": {},
     "output_type": "display_data"
    },
    {
     "data": {
      "application/javascript": [
       "(function(root) {\n",
       "  function embed_document(root) {\n",
       "    \n",
       "  var docs_json = {\"f32c1de2-4fb8-42a0-8927-0d9835cdcebc\":{\"roots\":{\"references\":[{\"attributes\":{\"background_fill_color\":{\"value\":\"#EEEEEE\"},\"below\":[{\"id\":\"2410\",\"type\":\"LinearAxis\"}],\"center\":[{\"id\":\"2414\",\"type\":\"Grid\"},{\"id\":\"2419\",\"type\":\"Grid\"},{\"id\":\"2444\",\"type\":\"Legend\"}],\"left\":[{\"id\":\"2415\",\"type\":\"LinearAxis\"}],\"renderers\":[{\"id\":\"2436\",\"type\":\"GlyphRenderer\"}],\"title\":null,\"toolbar\":{\"id\":\"2426\",\"type\":\"Toolbar\"},\"x_range\":{\"id\":\"2402\",\"type\":\"Range1d\"},\"x_scale\":{\"id\":\"2406\",\"type\":\"LinearScale\"},\"y_range\":{\"id\":\"2404\",\"type\":\"DataRange1d\"},\"y_scale\":{\"id\":\"2408\",\"type\":\"LinearScale\"}},\"id\":\"2400\",\"subtype\":\"Figure\",\"type\":\"Plot\"},{\"attributes\":{\"callback\":null,\"data\":{\"left\":[-0.74,-0.7152,-0.6904,-0.6656,-0.6408,-0.616,-0.5912,-0.5664,-0.5416,-0.5168,-0.492,-0.4672,-0.4424,-0.4176,-0.3928,-0.368,-0.3432,-0.3184,-0.2936,-0.2688,-0.244,-0.21920000000000006,-0.19440000000000002,-0.16959999999999997,-0.14480000000000004,-0.12,-0.09520000000000006,-0.07040000000000002,-0.045599999999999974,-0.02080000000000004,0.0040000000000000036,0.028799999999999937,0.05359999999999998,0.07840000000000003,0.10319999999999996,0.128,0.15279999999999994,0.17759999999999998,0.20240000000000002,0.22719999999999996,0.252,0.27679999999999993,0.30159999999999987,0.3264,0.35119999999999996,0.3759999999999999,0.40080000000000005,0.4256,0.4503999999999999,0.47520000000000007],\"right\":[-0.7152,-0.6904,-0.6656,-0.6408,-0.616,-0.5912,-0.5664,-0.5416,-0.5168,-0.492,-0.4672,-0.4424,-0.4176,-0.3928,-0.368,-0.3432,-0.3184,-0.2936,-0.2688,-0.244,-0.21920000000000006,-0.19440000000000002,-0.16959999999999997,-0.14480000000000004,-0.12,-0.09520000000000006,-0.07040000000000002,-0.045599999999999974,-0.02080000000000004,0.0040000000000000036,0.028799999999999937,0.05359999999999998,0.07840000000000003,0.10319999999999996,0.128,0.15279999999999994,0.17759999999999998,0.20240000000000002,0.22719999999999996,0.252,0.27679999999999993,0.30159999999999987,0.3264,0.35119999999999996,0.3759999999999999,0.40080000000000005,0.4256,0.4503999999999999,0.47520000000000007,0.5],\"top\":[6,0,0,2,0,2,2,2,6,8,2,12,8,10,6,6,6,4,18,16,14,18,10,18,22,36,30,34,78,100,154,230,380,426,472,114,4,0,0,0,0,0,0,0,0,0,0,0,0,48]},\"selected\":{\"id\":\"2535\",\"type\":\"Selection\"},\"selection_policy\":{\"id\":\"2534\",\"type\":\"UnionRenderers\"}},\"id\":\"2433\",\"type\":\"ColumnDataSource\"},{\"attributes\":{},\"id\":\"2440\",\"type\":\"BasicTickFormatter\"},{\"attributes\":{},\"id\":\"2442\",\"type\":\"BasicTickFormatter\"},{\"attributes\":{},\"id\":\"2406\",\"type\":\"LinearScale\"},{\"attributes\":{},\"id\":\"2411\",\"type\":\"BasicTicker\"},{\"attributes\":{\"axis_label\":\"Frequency\",\"formatter\":{\"id\":\"2442\",\"type\":\"BasicTickFormatter\"},\"ticker\":{\"id\":\"2416\",\"type\":\"BasicTicker\"}},\"id\":\"2415\",\"type\":\"LinearAxis\"},{\"attributes\":{},\"id\":\"2421\",\"type\":\"WheelZoomTool\"},{\"attributes\":{\"active_drag\":\"auto\",\"active_inspect\":\"auto\",\"active_multi\":null,\"active_scroll\":\"auto\",\"active_tap\":\"auto\",\"tools\":[{\"id\":\"2420\",\"type\":\"PanTool\"},{\"id\":\"2421\",\"type\":\"WheelZoomTool\"},{\"id\":\"2422\",\"type\":\"BoxZoomTool\"},{\"id\":\"2423\",\"type\":\"SaveTool\"},{\"id\":\"2424\",\"type\":\"ResetTool\"},{\"id\":\"2425\",\"type\":\"HelpTool\"}]},\"id\":\"2426\",\"type\":\"Toolbar\"},{\"attributes\":{\"overlay\":{\"id\":\"2443\",\"type\":\"BoxAnnotation\"}},\"id\":\"2422\",\"type\":\"BoxZoomTool\"},{\"attributes\":{\"data_source\":{\"id\":\"2433\",\"type\":\"ColumnDataSource\"},\"glyph\":{\"id\":\"2434\",\"type\":\"Quad\"},\"hover_glyph\":null,\"muted_glyph\":null,\"nonselection_glyph\":{\"id\":\"2435\",\"type\":\"Quad\"},\"selection_glyph\":null,\"view\":{\"id\":\"2437\",\"type\":\"CDSView\"}},\"id\":\"2436\",\"type\":\"GlyphRenderer\"},{\"attributes\":{},\"id\":\"2535\",\"type\":\"Selection\"},{\"attributes\":{\"bottom\":{\"value\":0},\"fill_alpha\":{\"value\":0.1},\"fill_color\":{\"value\":\"#1f77b4\"},\"left\":{\"field\":\"left\"},\"line_alpha\":{\"value\":0.1},\"line_color\":{\"value\":\"#1f77b4\"},\"right\":{\"field\":\"right\"},\"top\":{\"field\":\"top\"}},\"id\":\"2435\",\"type\":\"Quad\"},{\"attributes\":{\"bottom\":{\"value\":0},\"fill_color\":{\"value\":\"#1f77b4\"},\"left\":{\"field\":\"left\"},\"right\":{\"field\":\"right\"},\"top\":{\"field\":\"top\"}},\"id\":\"2434\",\"type\":\"Quad\"},{\"attributes\":{},\"id\":\"2423\",\"type\":\"SaveTool\"},{\"attributes\":{\"source\":{\"id\":\"2433\",\"type\":\"ColumnDataSource\"}},\"id\":\"2437\",\"type\":\"CDSView\"},{\"attributes\":{},\"id\":\"2534\",\"type\":\"UnionRenderers\"},{\"attributes\":{},\"id\":\"2424\",\"type\":\"ResetTool\"},{\"attributes\":{\"dimension\":1,\"ticker\":{\"id\":\"2416\",\"type\":\"BasicTicker\"}},\"id\":\"2419\",\"type\":\"Grid\"},{\"attributes\":{\"label\":{\"value\":\"phi\"},\"renderers\":[{\"id\":\"2436\",\"type\":\"GlyphRenderer\"}]},\"id\":\"2445\",\"type\":\"LegendItem\"},{\"attributes\":{\"axis_label\":\"phi\",\"formatter\":{\"id\":\"2440\",\"type\":\"BasicTickFormatter\"},\"ticker\":{\"id\":\"2411\",\"type\":\"BasicTicker\"}},\"id\":\"2410\",\"type\":\"LinearAxis\"},{\"attributes\":{},\"id\":\"2416\",\"type\":\"BasicTicker\"},{\"attributes\":{},\"id\":\"2425\",\"type\":\"HelpTool\"},{\"attributes\":{\"items\":[{\"id\":\"2445\",\"type\":\"LegendItem\"}]},\"id\":\"2444\",\"type\":\"Legend\"},{\"attributes\":{\"callback\":null},\"id\":\"2404\",\"type\":\"DataRange1d\"},{\"attributes\":{\"ticker\":{\"id\":\"2411\",\"type\":\"BasicTicker\"}},\"id\":\"2414\",\"type\":\"Grid\"},{\"attributes\":{},\"id\":\"2408\",\"type\":\"LinearScale\"},{\"attributes\":{\"bottom_units\":\"screen\",\"fill_alpha\":{\"value\":0.5},\"fill_color\":{\"value\":\"lightgrey\"},\"left_units\":\"screen\",\"level\":\"overlay\",\"line_alpha\":{\"value\":1.0},\"line_color\":{\"value\":\"black\"},\"line_dash\":[4,4],\"line_width\":{\"value\":2},\"render_mode\":\"css\",\"right_units\":\"screen\",\"top_units\":\"screen\"},\"id\":\"2443\",\"type\":\"BoxAnnotation\"},{\"attributes\":{},\"id\":\"2420\",\"type\":\"PanTool\"},{\"attributes\":{\"callback\":null,\"end\":0.562,\"start\":-0.802},\"id\":\"2402\",\"type\":\"Range1d\"}],\"root_ids\":[\"2400\"]},\"title\":\"Bokeh Application\",\"version\":\"1.2.0\"}};\n",
       "  var render_items = [{\"docid\":\"f32c1de2-4fb8-42a0-8927-0d9835cdcebc\",\"roots\":{\"2400\":\"c242bef8-c208-48c1-8828-8c0afb1ab41c\"}}];\n",
       "  root.Bokeh.embed.embed_items_notebook(docs_json, render_items);\n",
       "\n",
       "  }\n",
       "  if (root.Bokeh !== undefined) {\n",
       "    embed_document(root);\n",
       "  } else {\n",
       "    var attempts = 0;\n",
       "    var timer = setInterval(function(root) {\n",
       "      if (root.Bokeh !== undefined) {\n",
       "        embed_document(root);\n",
       "        clearInterval(timer);\n",
       "      }\n",
       "      attempts++;\n",
       "      if (attempts > 100) {\n",
       "        console.log(\"Bokeh: ERROR: Unable to run BokehJS code because BokehJS library is missing\");\n",
       "        clearInterval(timer);\n",
       "      }\n",
       "    }, 10, root)\n",
       "  }\n",
       "})(window);"
      ],
      "application/vnd.bokehjs_exec.v0+json": ""
     },
     "metadata": {
      "application/vnd.bokehjs_exec.v0+json": {
       "id": "2400"
      }
     },
     "output_type": "display_data"
    }
   ],
   "source": [
    "p = hl.plot.histogram(mt_king.phi, range=(-0.74, 0.5), legend='phi')\n",
    "show(p)"
   ]
  },
  {
   "cell_type": "markdown",
   "metadata": {},
   "source": [
    "## GRM"
   ]
  },
  {
   "cell_type": "code",
   "execution_count": 36,
   "metadata": {},
   "outputs": [
    {
     "name": "stderr",
     "output_type": "stream",
     "text": [
      "2020-12-17 09:57:17 Hail: INFO: Wrote all 14 blocks of 54738 x 48 matrix with block size 4096.\n"
     ]
    }
   ],
   "source": [
    "bm_grm = hl.genetic_relatedness_matrix(mt_indep.GT)\n",
    "grm = bm_grm.to_numpy()"
   ]
  },
  {
   "cell_type": "code",
   "execution_count": 37,
   "metadata": {},
   "outputs": [
    {
     "data": {
      "text/plain": [
       "(48, 48)"
      ]
     },
     "execution_count": 37,
     "metadata": {},
     "output_type": "execute_result"
    }
   ],
   "source": [
    "grm.shape"
   ]
  },
  {
   "cell_type": "code",
   "execution_count": 38,
   "metadata": {},
   "outputs": [],
   "source": [
    "avg_rel = grm.mean(1)\n",
    "rel_min, rel_max = (avg_rel.min(), avg_rel.max())"
   ]
  },
  {
   "cell_type": "code",
   "execution_count": 39,
   "metadata": {},
   "outputs": [],
   "source": [
    "# Make a Hail table with the allele counts and site frequencies.\n",
    "table = []\n",
    "for i, rel in enumerate(avg_rel):\n",
    "    row = {'rel': rel}\n",
    "    table.append(row)\n",
    "\n",
    "ht = hl.Table.parallelize(hl.literal(table, 'array<struct{rel:float32}>'))"
   ]
  },
  {
   "cell_type": "code",
   "execution_count": 40,
   "metadata": {},
   "outputs": [
    {
     "data": {
      "text/html": [
       "\n",
       "\n",
       "\n",
       "\n",
       "\n",
       "\n",
       "  <div class=\"bk-root\" id=\"2d7408a1-3040-459e-a6c7-5db88017197d\" data-root-id=\"2584\"></div>\n"
      ]
     },
     "metadata": {},
     "output_type": "display_data"
    },
    {
     "data": {
      "application/javascript": [
       "(function(root) {\n",
       "  function embed_document(root) {\n",
       "    \n",
       "  var docs_json = {\"2354675e-cf0c-4104-942c-ff8a324f383a\":{\"roots\":{\"references\":[{\"attributes\":{\"background_fill_color\":{\"value\":\"#EEEEEE\"},\"below\":[{\"id\":\"2594\",\"type\":\"LinearAxis\"}],\"center\":[{\"id\":\"2598\",\"type\":\"Grid\"},{\"id\":\"2603\",\"type\":\"Grid\"}],\"left\":[{\"id\":\"2599\",\"type\":\"LinearAxis\"}],\"renderers\":[{\"id\":\"2620\",\"type\":\"GlyphRenderer\"}],\"title\":null,\"toolbar\":{\"id\":\"2610\",\"type\":\"Toolbar\"},\"x_range\":{\"id\":\"2586\",\"type\":\"Range1d\"},\"x_scale\":{\"id\":\"2590\",\"type\":\"LinearScale\"},\"y_range\":{\"id\":\"2588\",\"type\":\"DataRange1d\"},\"y_scale\":{\"id\":\"2592\",\"type\":\"LinearScale\"}},\"id\":\"2584\",\"subtype\":\"Figure\",\"type\":\"Plot\"},{\"attributes\":{},\"id\":\"2716\",\"type\":\"BasicTickFormatter\"},{\"attributes\":{},\"id\":\"2719\",\"type\":\"Selection\"},{\"attributes\":{\"axis_label\":\"Frequency\",\"formatter\":{\"id\":\"2716\",\"type\":\"BasicTickFormatter\"},\"ticker\":{\"id\":\"2600\",\"type\":\"BasicTicker\"}},\"id\":\"2599\",\"type\":\"LinearAxis\"},{\"attributes\":{},\"id\":\"2600\",\"type\":\"BasicTicker\"},{\"attributes\":{\"callback\":null,\"data\":{\"left\":[-2.6375277193772345e-10,-2.1300369367621697e-10,-1.622546154147105e-10,-1.1150553715320405e-10,-6.075645889169756e-11,-1.0007380630191077e-11,4.0741697631315356e-11,9.149077589282184e-11,1.4223985415432833e-10,1.929889324158348e-10],\"right\":[-2.1300369367621697e-10,-1.622546154147105e-10,-1.1150553715320405e-10,-6.075645889169756e-11,-1.0007380630191077e-11,4.0741697631315356e-11,9.149077589282184e-11,1.4223985415432833e-10,1.929889324158348e-10,2.437380106773413e-10],\"top\":[2,3,1,2,14,10,10,2,1,3]},\"selected\":{\"id\":\"2719\",\"type\":\"Selection\"},\"selection_policy\":{\"id\":\"2718\",\"type\":\"UnionRenderers\"}},\"id\":\"2617\",\"type\":\"ColumnDataSource\"},{\"attributes\":{\"formatter\":{\"id\":\"2714\",\"type\":\"BasicTickFormatter\"},\"ticker\":{\"id\":\"2595\",\"type\":\"BasicTicker\"}},\"id\":\"2594\",\"type\":\"LinearAxis\"},{\"attributes\":{},\"id\":\"2592\",\"type\":\"LinearScale\"},{\"attributes\":{\"overlay\":{\"id\":\"2717\",\"type\":\"BoxAnnotation\"}},\"id\":\"2606\",\"type\":\"BoxZoomTool\"},{\"attributes\":{},\"id\":\"2718\",\"type\":\"UnionRenderers\"},{\"attributes\":{},\"id\":\"2590\",\"type\":\"LinearScale\"},{\"attributes\":{\"bottom\":{\"value\":0},\"fill_alpha\":{\"value\":0.1},\"fill_color\":{\"value\":\"#1f77b4\"},\"left\":{\"field\":\"left\"},\"line_alpha\":{\"value\":0.1},\"line_color\":{\"value\":\"#1f77b4\"},\"right\":{\"field\":\"right\"},\"top\":{\"field\":\"top\"}},\"id\":\"2619\",\"type\":\"Quad\"},{\"attributes\":{\"callback\":null,\"end\":2.691125498080945e-10,\"start\":-2.8912731106847667e-10},\"id\":\"2586\",\"type\":\"Range1d\"},{\"attributes\":{},\"id\":\"2605\",\"type\":\"WheelZoomTool\"},{\"attributes\":{\"ticker\":{\"id\":\"2595\",\"type\":\"BasicTicker\"}},\"id\":\"2598\",\"type\":\"Grid\"},{\"attributes\":{\"bottom\":{\"value\":0},\"fill_color\":{\"value\":\"#1f77b4\"},\"left\":{\"field\":\"left\"},\"right\":{\"field\":\"right\"},\"top\":{\"field\":\"top\"}},\"id\":\"2618\",\"type\":\"Quad\"},{\"attributes\":{\"active_drag\":\"auto\",\"active_inspect\":\"auto\",\"active_multi\":null,\"active_scroll\":\"auto\",\"active_tap\":\"auto\",\"tools\":[{\"id\":\"2604\",\"type\":\"PanTool\"},{\"id\":\"2605\",\"type\":\"WheelZoomTool\"},{\"id\":\"2606\",\"type\":\"BoxZoomTool\"},{\"id\":\"2607\",\"type\":\"SaveTool\"},{\"id\":\"2608\",\"type\":\"ResetTool\"},{\"id\":\"2609\",\"type\":\"HelpTool\"}]},\"id\":\"2610\",\"type\":\"Toolbar\"},{\"attributes\":{},\"id\":\"2607\",\"type\":\"SaveTool\"},{\"attributes\":{},\"id\":\"2714\",\"type\":\"BasicTickFormatter\"},{\"attributes\":{\"source\":{\"id\":\"2617\",\"type\":\"ColumnDataSource\"}},\"id\":\"2621\",\"type\":\"CDSView\"},{\"attributes\":{\"callback\":null},\"id\":\"2588\",\"type\":\"DataRange1d\"},{\"attributes\":{\"bottom_units\":\"screen\",\"fill_alpha\":{\"value\":0.5},\"fill_color\":{\"value\":\"lightgrey\"},\"left_units\":\"screen\",\"level\":\"overlay\",\"line_alpha\":{\"value\":1.0},\"line_color\":{\"value\":\"black\"},\"line_dash\":[4,4],\"line_width\":{\"value\":2},\"render_mode\":\"css\",\"right_units\":\"screen\",\"top_units\":\"screen\"},\"id\":\"2717\",\"type\":\"BoxAnnotation\"},{\"attributes\":{\"dimension\":1,\"ticker\":{\"id\":\"2600\",\"type\":\"BasicTicker\"}},\"id\":\"2603\",\"type\":\"Grid\"},{\"attributes\":{},\"id\":\"2604\",\"type\":\"PanTool\"},{\"attributes\":{\"data_source\":{\"id\":\"2617\",\"type\":\"ColumnDataSource\"},\"glyph\":{\"id\":\"2618\",\"type\":\"Quad\"},\"hover_glyph\":null,\"muted_glyph\":null,\"nonselection_glyph\":{\"id\":\"2619\",\"type\":\"Quad\"},\"selection_glyph\":null,\"view\":{\"id\":\"2621\",\"type\":\"CDSView\"}},\"id\":\"2620\",\"type\":\"GlyphRenderer\"},{\"attributes\":{},\"id\":\"2608\",\"type\":\"ResetTool\"},{\"attributes\":{},\"id\":\"2595\",\"type\":\"BasicTicker\"},{\"attributes\":{},\"id\":\"2609\",\"type\":\"HelpTool\"}],\"root_ids\":[\"2584\"]},\"title\":\"Bokeh Application\",\"version\":\"1.2.0\"}};\n",
       "  var render_items = [{\"docid\":\"2354675e-cf0c-4104-942c-ff8a324f383a\",\"roots\":{\"2584\":\"2d7408a1-3040-459e-a6c7-5db88017197d\"}}];\n",
       "  root.Bokeh.embed.embed_items_notebook(docs_json, render_items);\n",
       "\n",
       "  }\n",
       "  if (root.Bokeh !== undefined) {\n",
       "    embed_document(root);\n",
       "  } else {\n",
       "    var attempts = 0;\n",
       "    var timer = setInterval(function(root) {\n",
       "      if (root.Bokeh !== undefined) {\n",
       "        embed_document(root);\n",
       "        clearInterval(timer);\n",
       "      }\n",
       "      attempts++;\n",
       "      if (attempts > 100) {\n",
       "        console.log(\"Bokeh: ERROR: Unable to run BokehJS code because BokehJS library is missing\");\n",
       "        clearInterval(timer);\n",
       "      }\n",
       "    }, 10, root)\n",
       "  }\n",
       "})(window);"
      ],
      "application/vnd.bokehjs_exec.v0+json": ""
     },
     "metadata": {
      "application/vnd.bokehjs_exec.v0+json": {
       "id": "2584"
      }
     },
     "output_type": "display_data"
    }
   ],
   "source": [
    "p = hl.plot.histogram(ht.rel, range=(rel_min, rel_max), bins=10)\n",
    "show(p)"
   ]
  },
  {
   "cell_type": "code",
   "execution_count": null,
   "metadata": {},
   "outputs": [],
   "source": []
  }
 ],
 "metadata": {
  "kernelspec": {
   "display_name": "Python 3",
   "language": "python",
   "name": "python3"
  },
  "language_info": {
   "codemirror_mode": {
    "name": "ipython",
    "version": 3
   },
   "file_extension": ".py",
   "mimetype": "text/x-python",
   "name": "python",
   "nbconvert_exporter": "python",
   "pygments_lexer": "ipython3",
   "version": "3.6.12"
  }
 },
 "nbformat": 4,
 "nbformat_minor": 4
}
