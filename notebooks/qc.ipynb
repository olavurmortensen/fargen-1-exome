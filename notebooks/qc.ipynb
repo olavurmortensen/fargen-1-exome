{
 "cells": [
  {
   "cell_type": "code",
   "execution_count": 1,
   "metadata": {},
   "outputs": [
    {
     "name": "stderr",
     "output_type": "stream",
     "text": [
      "Running on Apache Spark version 2.4.6\n",
      "SparkUI available at http://hms-beagle-5466c684ff-d8mgh:4042\n",
      "Welcome to\n",
      "     __  __     <>__\n",
      "    / /_/ /__  __/ /\n",
      "   / __  / _ `/ / /\n",
      "  /_/ /_/\\_,_/_/_/   version 0.2.58-3f304aae6ce2\n",
      "LOGGING: writing to /home/olavur/experiments/2020-11-13_fargen1_exome_analysis/notebooks/hail-20201124-1119-0.2.58-3f304aae6ce2.log\n"
     ]
    }
   ],
   "source": [
    "import hail as hl\n",
    "hl.init()"
   ]
  },
  {
   "cell_type": "code",
   "execution_count": 2,
   "metadata": {},
   "outputs": [
    {
     "data": {
      "text/html": [
       "\n",
       "    <div class=\"bk-root\">\n",
       "        <a href=\"https://bokeh.pydata.org\" target=\"_blank\" class=\"bk-logo bk-logo-small bk-logo-notebook\"></a>\n",
       "        <span id=\"1001\">Loading BokehJS ...</span>\n",
       "    </div>"
      ]
     },
     "metadata": {},
     "output_type": "display_data"
    },
    {
     "data": {
      "application/javascript": [
       "\n",
       "(function(root) {\n",
       "  function now() {\n",
       "    return new Date();\n",
       "  }\n",
       "\n",
       "  var force = true;\n",
       "\n",
       "  if (typeof root._bokeh_onload_callbacks === \"undefined\" || force === true) {\n",
       "    root._bokeh_onload_callbacks = [];\n",
       "    root._bokeh_is_loading = undefined;\n",
       "  }\n",
       "\n",
       "  var JS_MIME_TYPE = 'application/javascript';\n",
       "  var HTML_MIME_TYPE = 'text/html';\n",
       "  var EXEC_MIME_TYPE = 'application/vnd.bokehjs_exec.v0+json';\n",
       "  var CLASS_NAME = 'output_bokeh rendered_html';\n",
       "\n",
       "  /**\n",
       "   * Render data to the DOM node\n",
       "   */\n",
       "  function render(props, node) {\n",
       "    var script = document.createElement(\"script\");\n",
       "    node.appendChild(script);\n",
       "  }\n",
       "\n",
       "  /**\n",
       "   * Handle when an output is cleared or removed\n",
       "   */\n",
       "  function handleClearOutput(event, handle) {\n",
       "    var cell = handle.cell;\n",
       "\n",
       "    var id = cell.output_area._bokeh_element_id;\n",
       "    var server_id = cell.output_area._bokeh_server_id;\n",
       "    // Clean up Bokeh references\n",
       "    if (id != null && id in Bokeh.index) {\n",
       "      Bokeh.index[id].model.document.clear();\n",
       "      delete Bokeh.index[id];\n",
       "    }\n",
       "\n",
       "    if (server_id !== undefined) {\n",
       "      // Clean up Bokeh references\n",
       "      var cmd = \"from bokeh.io.state import curstate; print(curstate().uuid_to_server['\" + server_id + \"'].get_sessions()[0].document.roots[0]._id)\";\n",
       "      cell.notebook.kernel.execute(cmd, {\n",
       "        iopub: {\n",
       "          output: function(msg) {\n",
       "            var id = msg.content.text.trim();\n",
       "            if (id in Bokeh.index) {\n",
       "              Bokeh.index[id].model.document.clear();\n",
       "              delete Bokeh.index[id];\n",
       "            }\n",
       "          }\n",
       "        }\n",
       "      });\n",
       "      // Destroy server and session\n",
       "      var cmd = \"import bokeh.io.notebook as ion; ion.destroy_server('\" + server_id + \"')\";\n",
       "      cell.notebook.kernel.execute(cmd);\n",
       "    }\n",
       "  }\n",
       "\n",
       "  /**\n",
       "   * Handle when a new output is added\n",
       "   */\n",
       "  function handleAddOutput(event, handle) {\n",
       "    var output_area = handle.output_area;\n",
       "    var output = handle.output;\n",
       "\n",
       "    // limit handleAddOutput to display_data with EXEC_MIME_TYPE content only\n",
       "    if ((output.output_type != \"display_data\") || (!output.data.hasOwnProperty(EXEC_MIME_TYPE))) {\n",
       "      return\n",
       "    }\n",
       "\n",
       "    var toinsert = output_area.element.find(\".\" + CLASS_NAME.split(' ')[0]);\n",
       "\n",
       "    if (output.metadata[EXEC_MIME_TYPE][\"id\"] !== undefined) {\n",
       "      toinsert[toinsert.length - 1].firstChild.textContent = output.data[JS_MIME_TYPE];\n",
       "      // store reference to embed id on output_area\n",
       "      output_area._bokeh_element_id = output.metadata[EXEC_MIME_TYPE][\"id\"];\n",
       "    }\n",
       "    if (output.metadata[EXEC_MIME_TYPE][\"server_id\"] !== undefined) {\n",
       "      var bk_div = document.createElement(\"div\");\n",
       "      bk_div.innerHTML = output.data[HTML_MIME_TYPE];\n",
       "      var script_attrs = bk_div.children[0].attributes;\n",
       "      for (var i = 0; i < script_attrs.length; i++) {\n",
       "        toinsert[toinsert.length - 1].firstChild.setAttribute(script_attrs[i].name, script_attrs[i].value);\n",
       "      }\n",
       "      // store reference to server id on output_area\n",
       "      output_area._bokeh_server_id = output.metadata[EXEC_MIME_TYPE][\"server_id\"];\n",
       "    }\n",
       "  }\n",
       "\n",
       "  function register_renderer(events, OutputArea) {\n",
       "\n",
       "    function append_mime(data, metadata, element) {\n",
       "      // create a DOM node to render to\n",
       "      var toinsert = this.create_output_subarea(\n",
       "        metadata,\n",
       "        CLASS_NAME,\n",
       "        EXEC_MIME_TYPE\n",
       "      );\n",
       "      this.keyboard_manager.register_events(toinsert);\n",
       "      // Render to node\n",
       "      var props = {data: data, metadata: metadata[EXEC_MIME_TYPE]};\n",
       "      render(props, toinsert[toinsert.length - 1]);\n",
       "      element.append(toinsert);\n",
       "      return toinsert\n",
       "    }\n",
       "\n",
       "    /* Handle when an output is cleared or removed */\n",
       "    events.on('clear_output.CodeCell', handleClearOutput);\n",
       "    events.on('delete.Cell', handleClearOutput);\n",
       "\n",
       "    /* Handle when a new output is added */\n",
       "    events.on('output_added.OutputArea', handleAddOutput);\n",
       "\n",
       "    /**\n",
       "     * Register the mime type and append_mime function with output_area\n",
       "     */\n",
       "    OutputArea.prototype.register_mime_type(EXEC_MIME_TYPE, append_mime, {\n",
       "      /* Is output safe? */\n",
       "      safe: true,\n",
       "      /* Index of renderer in `output_area.display_order` */\n",
       "      index: 0\n",
       "    });\n",
       "  }\n",
       "\n",
       "  // register the mime type if in Jupyter Notebook environment and previously unregistered\n",
       "  if (root.Jupyter !== undefined) {\n",
       "    var events = require('base/js/events');\n",
       "    var OutputArea = require('notebook/js/outputarea').OutputArea;\n",
       "\n",
       "    if (OutputArea.prototype.mime_types().indexOf(EXEC_MIME_TYPE) == -1) {\n",
       "      register_renderer(events, OutputArea);\n",
       "    }\n",
       "  }\n",
       "\n",
       "  \n",
       "  if (typeof (root._bokeh_timeout) === \"undefined\" || force === true) {\n",
       "    root._bokeh_timeout = Date.now() + 5000;\n",
       "    root._bokeh_failed_load = false;\n",
       "  }\n",
       "\n",
       "  var NB_LOAD_WARNING = {'data': {'text/html':\n",
       "     \"<div style='background-color: #fdd'>\\n\"+\n",
       "     \"<p>\\n\"+\n",
       "     \"BokehJS does not appear to have successfully loaded. If loading BokehJS from CDN, this \\n\"+\n",
       "     \"may be due to a slow or bad network connection. Possible fixes:\\n\"+\n",
       "     \"</p>\\n\"+\n",
       "     \"<ul>\\n\"+\n",
       "     \"<li>re-rerun `output_notebook()` to attempt to load from CDN again, or</li>\\n\"+\n",
       "     \"<li>use INLINE resources instead, as so:</li>\\n\"+\n",
       "     \"</ul>\\n\"+\n",
       "     \"<code>\\n\"+\n",
       "     \"from bokeh.resources import INLINE\\n\"+\n",
       "     \"output_notebook(resources=INLINE)\\n\"+\n",
       "     \"</code>\\n\"+\n",
       "     \"</div>\"}};\n",
       "\n",
       "  function display_loaded() {\n",
       "    var el = document.getElementById(\"1001\");\n",
       "    if (el != null) {\n",
       "      el.textContent = \"BokehJS is loading...\";\n",
       "    }\n",
       "    if (root.Bokeh !== undefined) {\n",
       "      if (el != null) {\n",
       "        el.textContent = \"BokehJS \" + root.Bokeh.version + \" successfully loaded.\";\n",
       "      }\n",
       "    } else if (Date.now() < root._bokeh_timeout) {\n",
       "      setTimeout(display_loaded, 100)\n",
       "    }\n",
       "  }\n",
       "\n",
       "\n",
       "  function run_callbacks() {\n",
       "    try {\n",
       "      root._bokeh_onload_callbacks.forEach(function(callback) {\n",
       "        if (callback != null)\n",
       "          callback();\n",
       "      });\n",
       "    } finally {\n",
       "      delete root._bokeh_onload_callbacks\n",
       "    }\n",
       "    console.debug(\"Bokeh: all callbacks have finished\");\n",
       "  }\n",
       "\n",
       "  function load_libs(css_urls, js_urls, callback) {\n",
       "    if (css_urls == null) css_urls = [];\n",
       "    if (js_urls == null) js_urls = [];\n",
       "\n",
       "    root._bokeh_onload_callbacks.push(callback);\n",
       "    if (root._bokeh_is_loading > 0) {\n",
       "      console.debug(\"Bokeh: BokehJS is being loaded, scheduling callback at\", now());\n",
       "      return null;\n",
       "    }\n",
       "    if (js_urls == null || js_urls.length === 0) {\n",
       "      run_callbacks();\n",
       "      return null;\n",
       "    }\n",
       "    console.debug(\"Bokeh: BokehJS not loaded, scheduling load and callback at\", now());\n",
       "    root._bokeh_is_loading = css_urls.length + js_urls.length;\n",
       "\n",
       "    function on_load() {\n",
       "      root._bokeh_is_loading--;\n",
       "      if (root._bokeh_is_loading === 0) {\n",
       "        console.debug(\"Bokeh: all BokehJS libraries/stylesheets loaded\");\n",
       "        run_callbacks()\n",
       "      }\n",
       "    }\n",
       "\n",
       "    function on_error() {\n",
       "      console.error(\"failed to load \" + url);\n",
       "    }\n",
       "\n",
       "    for (var i = 0; i < css_urls.length; i++) {\n",
       "      var url = css_urls[i];\n",
       "      const element = document.createElement(\"link\");\n",
       "      element.onload = on_load;\n",
       "      element.onerror = on_error;\n",
       "      element.rel = \"stylesheet\";\n",
       "      element.type = \"text/css\";\n",
       "      element.href = url;\n",
       "      console.debug(\"Bokeh: injecting link tag for BokehJS stylesheet: \", url);\n",
       "      document.body.appendChild(element);\n",
       "    }\n",
       "\n",
       "    for (var i = 0; i < js_urls.length; i++) {\n",
       "      var url = js_urls[i];\n",
       "      var element = document.createElement('script');\n",
       "      element.onload = on_load;\n",
       "      element.onerror = on_error;\n",
       "      element.async = false;\n",
       "      element.src = url;\n",
       "      console.debug(\"Bokeh: injecting script tag for BokehJS library: \", url);\n",
       "      document.head.appendChild(element);\n",
       "    }\n",
       "  };var element = document.getElementById(\"1001\");\n",
       "  if (element == null) {\n",
       "    console.error(\"Bokeh: ERROR: autoload.js configured with elementid '1001' but no matching script tag was found. \")\n",
       "    return false;\n",
       "  }\n",
       "\n",
       "  function inject_raw_css(css) {\n",
       "    const element = document.createElement(\"style\");\n",
       "    element.appendChild(document.createTextNode(css));\n",
       "    document.body.appendChild(element);\n",
       "  }\n",
       "\n",
       "  var js_urls = [\"https://cdn.pydata.org/bokeh/release/bokeh-1.2.0.min.js\", \"https://cdn.pydata.org/bokeh/release/bokeh-widgets-1.2.0.min.js\", \"https://cdn.pydata.org/bokeh/release/bokeh-tables-1.2.0.min.js\", \"https://cdn.pydata.org/bokeh/release/bokeh-gl-1.2.0.min.js\"];\n",
       "  var css_urls = [\"https://cdn.pydata.org/bokeh/release/bokeh-1.2.0.min.css\", \"https://cdn.pydata.org/bokeh/release/bokeh-widgets-1.2.0.min.css\", \"https://cdn.pydata.org/bokeh/release/bokeh-tables-1.2.0.min.css\"];\n",
       "\n",
       "  var inline_js = [\n",
       "    function(Bokeh) {\n",
       "      Bokeh.set_log_level(\"info\");\n",
       "    },\n",
       "    \n",
       "    function(Bokeh) {\n",
       "      \n",
       "    },\n",
       "    function(Bokeh) {} // ensure no trailing comma for IE\n",
       "  ];\n",
       "\n",
       "  function run_inline_js() {\n",
       "    \n",
       "    if ((root.Bokeh !== undefined) || (force === true)) {\n",
       "      for (var i = 0; i < inline_js.length; i++) {\n",
       "        inline_js[i].call(root, root.Bokeh);\n",
       "      }if (force === true) {\n",
       "        display_loaded();\n",
       "      }} else if (Date.now() < root._bokeh_timeout) {\n",
       "      setTimeout(run_inline_js, 100);\n",
       "    } else if (!root._bokeh_failed_load) {\n",
       "      console.log(\"Bokeh: BokehJS failed to load within specified timeout.\");\n",
       "      root._bokeh_failed_load = true;\n",
       "    } else if (force !== true) {\n",
       "      var cell = $(document.getElementById(\"1001\")).parents('.cell').data().cell;\n",
       "      cell.output_area.append_execute_result(NB_LOAD_WARNING)\n",
       "    }\n",
       "\n",
       "  }\n",
       "\n",
       "  if (root._bokeh_is_loading === 0) {\n",
       "    console.debug(\"Bokeh: BokehJS loaded, going straight to plotting\");\n",
       "    run_inline_js();\n",
       "  } else {\n",
       "    load_libs(css_urls, js_urls, function() {\n",
       "      console.debug(\"Bokeh: BokehJS plotting callback run at\", now());\n",
       "      run_inline_js();\n",
       "    });\n",
       "  }\n",
       "}(window));"
      ],
      "application/vnd.bokehjs_load.v0+json": "\n(function(root) {\n  function now() {\n    return new Date();\n  }\n\n  var force = true;\n\n  if (typeof root._bokeh_onload_callbacks === \"undefined\" || force === true) {\n    root._bokeh_onload_callbacks = [];\n    root._bokeh_is_loading = undefined;\n  }\n\n  \n\n  \n  if (typeof (root._bokeh_timeout) === \"undefined\" || force === true) {\n    root._bokeh_timeout = Date.now() + 5000;\n    root._bokeh_failed_load = false;\n  }\n\n  var NB_LOAD_WARNING = {'data': {'text/html':\n     \"<div style='background-color: #fdd'>\\n\"+\n     \"<p>\\n\"+\n     \"BokehJS does not appear to have successfully loaded. If loading BokehJS from CDN, this \\n\"+\n     \"may be due to a slow or bad network connection. Possible fixes:\\n\"+\n     \"</p>\\n\"+\n     \"<ul>\\n\"+\n     \"<li>re-rerun `output_notebook()` to attempt to load from CDN again, or</li>\\n\"+\n     \"<li>use INLINE resources instead, as so:</li>\\n\"+\n     \"</ul>\\n\"+\n     \"<code>\\n\"+\n     \"from bokeh.resources import INLINE\\n\"+\n     \"output_notebook(resources=INLINE)\\n\"+\n     \"</code>\\n\"+\n     \"</div>\"}};\n\n  function display_loaded() {\n    var el = document.getElementById(\"1001\");\n    if (el != null) {\n      el.textContent = \"BokehJS is loading...\";\n    }\n    if (root.Bokeh !== undefined) {\n      if (el != null) {\n        el.textContent = \"BokehJS \" + root.Bokeh.version + \" successfully loaded.\";\n      }\n    } else if (Date.now() < root._bokeh_timeout) {\n      setTimeout(display_loaded, 100)\n    }\n  }\n\n\n  function run_callbacks() {\n    try {\n      root._bokeh_onload_callbacks.forEach(function(callback) {\n        if (callback != null)\n          callback();\n      });\n    } finally {\n      delete root._bokeh_onload_callbacks\n    }\n    console.debug(\"Bokeh: all callbacks have finished\");\n  }\n\n  function load_libs(css_urls, js_urls, callback) {\n    if (css_urls == null) css_urls = [];\n    if (js_urls == null) js_urls = [];\n\n    root._bokeh_onload_callbacks.push(callback);\n    if (root._bokeh_is_loading > 0) {\n      console.debug(\"Bokeh: BokehJS is being loaded, scheduling callback at\", now());\n      return null;\n    }\n    if (js_urls == null || js_urls.length === 0) {\n      run_callbacks();\n      return null;\n    }\n    console.debug(\"Bokeh: BokehJS not loaded, scheduling load and callback at\", now());\n    root._bokeh_is_loading = css_urls.length + js_urls.length;\n\n    function on_load() {\n      root._bokeh_is_loading--;\n      if (root._bokeh_is_loading === 0) {\n        console.debug(\"Bokeh: all BokehJS libraries/stylesheets loaded\");\n        run_callbacks()\n      }\n    }\n\n    function on_error() {\n      console.error(\"failed to load \" + url);\n    }\n\n    for (var i = 0; i < css_urls.length; i++) {\n      var url = css_urls[i];\n      const element = document.createElement(\"link\");\n      element.onload = on_load;\n      element.onerror = on_error;\n      element.rel = \"stylesheet\";\n      element.type = \"text/css\";\n      element.href = url;\n      console.debug(\"Bokeh: injecting link tag for BokehJS stylesheet: \", url);\n      document.body.appendChild(element);\n    }\n\n    for (var i = 0; i < js_urls.length; i++) {\n      var url = js_urls[i];\n      var element = document.createElement('script');\n      element.onload = on_load;\n      element.onerror = on_error;\n      element.async = false;\n      element.src = url;\n      console.debug(\"Bokeh: injecting script tag for BokehJS library: \", url);\n      document.head.appendChild(element);\n    }\n  };var element = document.getElementById(\"1001\");\n  if (element == null) {\n    console.error(\"Bokeh: ERROR: autoload.js configured with elementid '1001' but no matching script tag was found. \")\n    return false;\n  }\n\n  function inject_raw_css(css) {\n    const element = document.createElement(\"style\");\n    element.appendChild(document.createTextNode(css));\n    document.body.appendChild(element);\n  }\n\n  var js_urls = [\"https://cdn.pydata.org/bokeh/release/bokeh-1.2.0.min.js\", \"https://cdn.pydata.org/bokeh/release/bokeh-widgets-1.2.0.min.js\", \"https://cdn.pydata.org/bokeh/release/bokeh-tables-1.2.0.min.js\", \"https://cdn.pydata.org/bokeh/release/bokeh-gl-1.2.0.min.js\"];\n  var css_urls = [\"https://cdn.pydata.org/bokeh/release/bokeh-1.2.0.min.css\", \"https://cdn.pydata.org/bokeh/release/bokeh-widgets-1.2.0.min.css\", \"https://cdn.pydata.org/bokeh/release/bokeh-tables-1.2.0.min.css\"];\n\n  var inline_js = [\n    function(Bokeh) {\n      Bokeh.set_log_level(\"info\");\n    },\n    \n    function(Bokeh) {\n      \n    },\n    function(Bokeh) {} // ensure no trailing comma for IE\n  ];\n\n  function run_inline_js() {\n    \n    if ((root.Bokeh !== undefined) || (force === true)) {\n      for (var i = 0; i < inline_js.length; i++) {\n        inline_js[i].call(root, root.Bokeh);\n      }if (force === true) {\n        display_loaded();\n      }} else if (Date.now() < root._bokeh_timeout) {\n      setTimeout(run_inline_js, 100);\n    } else if (!root._bokeh_failed_load) {\n      console.log(\"Bokeh: BokehJS failed to load within specified timeout.\");\n      root._bokeh_failed_load = true;\n    } else if (force !== true) {\n      var cell = $(document.getElementById(\"1001\")).parents('.cell').data().cell;\n      cell.output_area.append_execute_result(NB_LOAD_WARNING)\n    }\n\n  }\n\n  if (root._bokeh_is_loading === 0) {\n    console.debug(\"Bokeh: BokehJS loaded, going straight to plotting\");\n    run_inline_js();\n  } else {\n    load_libs(css_urls, js_urls, function() {\n      console.debug(\"Bokeh: BokehJS plotting callback run at\", now());\n      run_inline_js();\n    });\n  }\n}(window));"
     },
     "metadata": {},
     "output_type": "display_data"
    }
   ],
   "source": [
    "from bokeh.io import show, output_notebook\n",
    "from bokeh.layouts import gridplot\n",
    "output_notebook()"
   ]
  },
  {
   "cell_type": "code",
   "execution_count": 4,
   "metadata": {},
   "outputs": [],
   "source": [
    "mt = hl.read_matrix_table('/home/olavur/experiments/2020-11-13_fargen1_exome_analysis/data/mt/variants.mt')"
   ]
  },
  {
   "cell_type": "code",
   "execution_count": 45,
   "metadata": {},
   "outputs": [],
   "source": [
    "mt = hl.variant_qc(mt)\n",
    "mt = hl.sample_qc(mt)"
   ]
  },
  {
   "cell_type": "code",
   "execution_count": 46,
   "metadata": {},
   "outputs": [
    {
     "name": "stdout",
     "output_type": "stream",
     "text": [
      "----------------------------------------\n",
      "Global fields:\n",
      "    None\n",
      "----------------------------------------\n",
      "Column fields:\n",
      "    's': str\n",
      "    'sample_qc': struct {\n",
      "        dp_stats: struct {\n",
      "            mean: float64, \n",
      "            stdev: float64, \n",
      "            min: float64, \n",
      "            max: float64\n",
      "        }, \n",
      "        gq_stats: struct {\n",
      "            mean: float64, \n",
      "            stdev: float64, \n",
      "            min: float64, \n",
      "            max: float64\n",
      "        }, \n",
      "        call_rate: float64, \n",
      "        n_called: int64, \n",
      "        n_not_called: int64, \n",
      "        n_filtered: int64, \n",
      "        n_hom_ref: int64, \n",
      "        n_het: int64, \n",
      "        n_hom_var: int64, \n",
      "        n_non_ref: int64, \n",
      "        n_singleton: int64, \n",
      "        n_snp: int64, \n",
      "        n_insertion: int64, \n",
      "        n_deletion: int64, \n",
      "        n_transition: int64, \n",
      "        n_transversion: int64, \n",
      "        n_star: int64, \n",
      "        r_ti_tv: float64, \n",
      "        r_het_hom_var: float64, \n",
      "        r_insertion_deletion: float64\n",
      "    }\n",
      "----------------------------------------\n",
      "Row fields:\n",
      "    'locus': locus<GRCh38>\n",
      "    'alleles': array<str>\n",
      "    'rsid': str\n",
      "    'qual': float64\n",
      "    'filters': str\n",
      "    'info': struct {\n",
      "        AC: array<int32>, \n",
      "        AF: array<float64>, \n",
      "        AN: int32, \n",
      "        BaseQRankSum: float64, \n",
      "        DB: bool, \n",
      "        DP: int32, \n",
      "        DS: bool, \n",
      "        END: int32, \n",
      "        ExcessHet: float64, \n",
      "        FS: float64, \n",
      "        InbreedingCoeff: float64, \n",
      "        MLEAC: array<int32>, \n",
      "        MLEAF: array<float64>, \n",
      "        MQ: float64, \n",
      "        MQRankSum: float64, \n",
      "        NEGATIVE_TRAIN_SITE: bool, \n",
      "        PG: array<int32>, \n",
      "        POSITIVE_TRAIN_SITE: bool, \n",
      "        QD: float64, \n",
      "        RAW_MQandDP: array<int32>, \n",
      "        ReadPosRankSum: float64, \n",
      "        SOR: float64, \n",
      "        VQSLOD: float64, \n",
      "        culprit: str, \n",
      "        ANN: array<str>, \n",
      "        LOF: array<str>, \n",
      "        NMD: array<str>\n",
      "    }\n",
      "    'variant_qc': struct {\n",
      "        dp_stats: struct {\n",
      "            mean: float64, \n",
      "            stdev: float64, \n",
      "            min: float64, \n",
      "            max: float64\n",
      "        }, \n",
      "        gq_stats: struct {\n",
      "            mean: float64, \n",
      "            stdev: float64, \n",
      "            min: float64, \n",
      "            max: float64\n",
      "        }, \n",
      "        AC: array<int32>, \n",
      "        AF: array<float64>, \n",
      "        AN: int32, \n",
      "        homozygote_count: array<int32>, \n",
      "        call_rate: float64, \n",
      "        n_called: int64, \n",
      "        n_not_called: int64, \n",
      "        n_filtered: int64, \n",
      "        n_het: int64, \n",
      "        n_non_ref: int64, \n",
      "        het_freq_hwe: float64, \n",
      "        p_value_hwe: float64\n",
      "    }\n",
      "----------------------------------------\n",
      "Entry fields:\n",
      "    'AD': array<int32>\n",
      "    'DP': int32\n",
      "    'GQ': int32\n",
      "    'GT': call\n",
      "    'MIN_DP': int32\n",
      "    'PGT': call\n",
      "    'PID': str\n",
      "    'PL': array<int32>\n",
      "    'PP': array<int32>\n",
      "    'PS': int32\n",
      "    'RGQ': int32\n",
      "    'SB': array<int32>\n",
      "----------------------------------------\n",
      "Column key: ['s']\n",
      "Row key: ['locus', 'alleles']\n",
      "----------------------------------------\n"
     ]
    }
   ],
   "source": [
    "mt.describe()"
   ]
  },
  {
   "cell_type": "markdown",
   "metadata": {},
   "source": [
    "## VQSR filter"
   ]
  },
  {
   "cell_type": "code",
   "execution_count": 38,
   "metadata": {},
   "outputs": [],
   "source": [
    "mt = mt.transmute_rows(filters=hl.delimit(mt.filters, ','))"
   ]
  },
  {
   "cell_type": "code",
   "execution_count": 39,
   "metadata": {},
   "outputs": [
    {
     "data": {
      "text/plain": [
       "{'': 572780,\n",
       " 'VQSRTrancheINDEL99.90to100.00': 48589,\n",
       " 'VQSRTrancheINDEL99.00to99.90': 82523,\n",
       " 'VQSRTrancheSNP99.90to100.00': 137182,\n",
       " 'VQSRTrancheSNP99.00to99.90': 107475}"
      ]
     },
     "execution_count": 39,
     "metadata": {},
     "output_type": "execute_result"
    }
   ],
   "source": [
    "mt.aggregate_rows(hl.agg.counter(mt.filters))"
   ]
  },
  {
   "cell_type": "markdown",
   "metadata": {},
   "source": [
    "## Variant QC"
   ]
  },
  {
   "cell_type": "code",
   "execution_count": 2,
   "metadata": {},
   "outputs": [
    {
     "ename": "NameError",
     "evalue": "name 'hl' is not defined",
     "output_type": "error",
     "traceback": [
      "\u001b[0;31m---------------------------------------------------------------------------\u001b[0m",
      "\u001b[0;31mNameError\u001b[0m                                 Traceback (most recent call last)",
      "\u001b[0;32m<ipython-input-2-0faed9cce668>\u001b[0m in \u001b[0;36m<module>\u001b[0;34m\u001b[0m\n\u001b[0;32m----> 1\u001b[0;31m \u001b[0mp\u001b[0m \u001b[0;34m=\u001b[0m \u001b[0mhl\u001b[0m\u001b[0;34m.\u001b[0m\u001b[0mplot\u001b[0m\u001b[0;34m.\u001b[0m\u001b[0mhistogram\u001b[0m\u001b[0;34m(\u001b[0m\u001b[0mmt\u001b[0m\u001b[0;34m.\u001b[0m\u001b[0mvariant_qc\u001b[0m\u001b[0;34m.\u001b[0m\u001b[0mdp_stats\u001b[0m\u001b[0;34m.\u001b[0m\u001b[0mmean\u001b[0m\u001b[0;34m,\u001b[0m \u001b[0mrange\u001b[0m\u001b[0;34m=\u001b[0m\u001b[0;34m(\u001b[0m\u001b[0;36m0\u001b[0m\u001b[0;34m,\u001b[0m\u001b[0;36m100\u001b[0m\u001b[0;34m)\u001b[0m\u001b[0;34m,\u001b[0m \u001b[0mlegend\u001b[0m\u001b[0;34m=\u001b[0m\u001b[0;34m'Mean DP per variant histogram'\u001b[0m\u001b[0;34m)\u001b[0m\u001b[0;34m\u001b[0m\u001b[0;34m\u001b[0m\u001b[0m\n\u001b[0m\u001b[1;32m      2\u001b[0m \u001b[0mshow\u001b[0m\u001b[0;34m(\u001b[0m\u001b[0mp\u001b[0m\u001b[0;34m)\u001b[0m\u001b[0;34m\u001b[0m\u001b[0;34m\u001b[0m\u001b[0m\n",
      "\u001b[0;31mNameError\u001b[0m: name 'hl' is not defined"
     ]
    }
   ],
   "source": [
    "p = hl.plot.histogram(mt.variant_qc.dp_stats.mean, range=(0,100), legend='Mean DP per variant histogram')\n",
    "show(p)"
   ]
  },
  {
   "cell_type": "code",
   "execution_count": 81,
   "metadata": {},
   "outputs": [
    {
     "data": {
      "text/html": [
       "\n",
       "\n",
       "\n",
       "\n",
       "\n",
       "\n",
       "  <div class=\"bk-root\" id=\"999fc15d-b298-413e-b0e7-82a66b977858\" data-root-id=\"3634\"></div>\n"
      ]
     },
     "metadata": {},
     "output_type": "display_data"
    },
    {
     "data": {
      "application/javascript": [
       "(function(root) {\n",
       "  function embed_document(root) {\n",
       "    \n",
       "  var docs_json = {\"ecfcc486-4e12-4286-8e14-f3be7a84fe25\":{\"roots\":{\"references\":[{\"attributes\":{\"background_fill_color\":{\"value\":\"#EEEEEE\"},\"below\":[{\"id\":\"3644\",\"type\":\"LinearAxis\"}],\"center\":[{\"id\":\"3648\",\"type\":\"Grid\"},{\"id\":\"3653\",\"type\":\"Grid\"},{\"id\":\"3678\",\"type\":\"Legend\"}],\"left\":[{\"id\":\"3649\",\"type\":\"LinearAxis\"}],\"renderers\":[{\"id\":\"3670\",\"type\":\"GlyphRenderer\"}],\"title\":null,\"toolbar\":{\"id\":\"3660\",\"type\":\"Toolbar\"},\"x_range\":{\"id\":\"3636\",\"type\":\"Range1d\"},\"x_scale\":{\"id\":\"3640\",\"type\":\"LinearScale\"},\"y_range\":{\"id\":\"3638\",\"type\":\"DataRange1d\"},\"y_scale\":{\"id\":\"3642\",\"type\":\"LinearScale\"}},\"id\":\"3634\",\"subtype\":\"Figure\",\"type\":\"Plot\"},{\"attributes\":{},\"id\":\"3655\",\"type\":\"WheelZoomTool\"},{\"attributes\":{},\"id\":\"3657\",\"type\":\"SaveTool\"},{\"attributes\":{\"bottom\":{\"value\":0},\"fill_color\":{\"value\":\"#1f77b4\"},\"left\":{\"field\":\"left\"},\"right\":{\"field\":\"right\"},\"top\":{\"field\":\"top\"}},\"id\":\"3668\",\"type\":\"Quad\"},{\"attributes\":{},\"id\":\"3675\",\"type\":\"BasicTickFormatter\"},{\"attributes\":{\"axis_label\":\"Mean GQ per variant histogram\",\"formatter\":{\"id\":\"3673\",\"type\":\"BasicTickFormatter\"},\"ticker\":{\"id\":\"3645\",\"type\":\"BasicTicker\"}},\"id\":\"3644\",\"type\":\"LinearAxis\"},{\"attributes\":{},\"id\":\"3659\",\"type\":\"HelpTool\"},{\"attributes\":{\"label\":{\"value\":\"Mean GQ per variant histogram\"},\"renderers\":[{\"id\":\"3670\",\"type\":\"GlyphRenderer\"}]},\"id\":\"3679\",\"type\":\"LegendItem\"},{\"attributes\":{},\"id\":\"3821\",\"type\":\"Selection\"},{\"attributes\":{},\"id\":\"3650\",\"type\":\"BasicTicker\"},{\"attributes\":{},\"id\":\"3645\",\"type\":\"BasicTicker\"},{\"attributes\":{\"callback\":null,\"data\":{\"left\":[0.0,2.0,4.0,6.0,8.0,10.0,12.0,14.0,16.0,18.0,20.0,22.0,24.0,26.0,28.0,30.0,32.0,34.0,36.0,38.0,40.0,42.0,44.0,46.0,48.0,50.0,52.0,54.0,56.0,58.0,60.0,62.0,64.0,66.0,68.0,70.0,72.0,74.0,76.0,78.0,80.0,82.0,84.0,86.0,88.0,90.0,92.0,94.0,96.0,98.0],\"right\":[2.0,4.0,6.0,8.0,10.0,12.0,14.0,16.0,18.0,20.0,22.0,24.0,26.0,28.0,30.0,32.0,34.0,36.0,38.0,40.0,42.0,44.0,46.0,48.0,50.0,52.0,54.0,56.0,58.0,60.0,62.0,64.0,66.0,68.0,70.0,72.0,74.0,76.0,78.0,80.0,82.0,84.0,86.0,88.0,90.0,92.0,94.0,96.0,98.0,100.0],\"top\":[711,2035,2719,3528,4227,5642,6474,7582,9790,11309,12083,11485,14326,16604,18568,20506,21888,23688,24475,24668,24634,24712,24182,23853,23748,22973,22431,22204,21672,21443,21103,21019,20502,20428,20123,20290,20433,20526,20900,21605,22138,23082,24328,25517,27624,30478,32109,32882,31375,17927]},\"selected\":{\"id\":\"3821\",\"type\":\"Selection\"},\"selection_policy\":{\"id\":\"3820\",\"type\":\"UnionRenderers\"}},\"id\":\"3667\",\"type\":\"ColumnDataSource\"},{\"attributes\":{},\"id\":\"3642\",\"type\":\"LinearScale\"},{\"attributes\":{\"source\":{\"id\":\"3667\",\"type\":\"ColumnDataSource\"}},\"id\":\"3671\",\"type\":\"CDSView\"},{\"attributes\":{\"bottom_units\":\"screen\",\"fill_alpha\":{\"value\":0.5},\"fill_color\":{\"value\":\"lightgrey\"},\"left_units\":\"screen\",\"level\":\"overlay\",\"line_alpha\":{\"value\":1.0},\"line_color\":{\"value\":\"black\"},\"line_dash\":[4,4],\"line_width\":{\"value\":2},\"render_mode\":\"css\",\"right_units\":\"screen\",\"top_units\":\"screen\"},\"id\":\"3677\",\"type\":\"BoxAnnotation\"},{\"attributes\":{\"dimension\":1,\"ticker\":{\"id\":\"3650\",\"type\":\"BasicTicker\"}},\"id\":\"3653\",\"type\":\"Grid\"},{\"attributes\":{\"ticker\":{\"id\":\"3645\",\"type\":\"BasicTicker\"}},\"id\":\"3648\",\"type\":\"Grid\"},{\"attributes\":{\"callback\":null,\"end\":105.0,\"start\":-5.0},\"id\":\"3636\",\"type\":\"Range1d\"},{\"attributes\":{\"bottom\":{\"value\":0},\"fill_alpha\":{\"value\":0.1},\"fill_color\":{\"value\":\"#1f77b4\"},\"left\":{\"field\":\"left\"},\"line_alpha\":{\"value\":0.1},\"line_color\":{\"value\":\"#1f77b4\"},\"right\":{\"field\":\"right\"},\"top\":{\"field\":\"top\"}},\"id\":\"3669\",\"type\":\"Quad\"},{\"attributes\":{\"axis_label\":\"Frequency\",\"formatter\":{\"id\":\"3675\",\"type\":\"BasicTickFormatter\"},\"ticker\":{\"id\":\"3650\",\"type\":\"BasicTicker\"}},\"id\":\"3649\",\"type\":\"LinearAxis\"},{\"attributes\":{\"overlay\":{\"id\":\"3677\",\"type\":\"BoxAnnotation\"}},\"id\":\"3656\",\"type\":\"BoxZoomTool\"},{\"attributes\":{},\"id\":\"3673\",\"type\":\"BasicTickFormatter\"},{\"attributes\":{\"callback\":null},\"id\":\"3638\",\"type\":\"DataRange1d\"},{\"attributes\":{},\"id\":\"3658\",\"type\":\"ResetTool\"},{\"attributes\":{},\"id\":\"3820\",\"type\":\"UnionRenderers\"},{\"attributes\":{\"items\":[{\"id\":\"3679\",\"type\":\"LegendItem\"}]},\"id\":\"3678\",\"type\":\"Legend\"},{\"attributes\":{\"data_source\":{\"id\":\"3667\",\"type\":\"ColumnDataSource\"},\"glyph\":{\"id\":\"3668\",\"type\":\"Quad\"},\"hover_glyph\":null,\"muted_glyph\":null,\"nonselection_glyph\":{\"id\":\"3669\",\"type\":\"Quad\"},\"selection_glyph\":null,\"view\":{\"id\":\"3671\",\"type\":\"CDSView\"}},\"id\":\"3670\",\"type\":\"GlyphRenderer\"},{\"attributes\":{},\"id\":\"3640\",\"type\":\"LinearScale\"},{\"attributes\":{\"active_drag\":\"auto\",\"active_inspect\":\"auto\",\"active_multi\":null,\"active_scroll\":\"auto\",\"active_tap\":\"auto\",\"tools\":[{\"id\":\"3654\",\"type\":\"PanTool\"},{\"id\":\"3655\",\"type\":\"WheelZoomTool\"},{\"id\":\"3656\",\"type\":\"BoxZoomTool\"},{\"id\":\"3657\",\"type\":\"SaveTool\"},{\"id\":\"3658\",\"type\":\"ResetTool\"},{\"id\":\"3659\",\"type\":\"HelpTool\"}]},\"id\":\"3660\",\"type\":\"Toolbar\"},{\"attributes\":{},\"id\":\"3654\",\"type\":\"PanTool\"}],\"root_ids\":[\"3634\"]},\"title\":\"Bokeh Application\",\"version\":\"1.2.0\"}};\n",
       "  var render_items = [{\"docid\":\"ecfcc486-4e12-4286-8e14-f3be7a84fe25\",\"roots\":{\"3634\":\"999fc15d-b298-413e-b0e7-82a66b977858\"}}];\n",
       "  root.Bokeh.embed.embed_items_notebook(docs_json, render_items);\n",
       "\n",
       "  }\n",
       "  if (root.Bokeh !== undefined) {\n",
       "    embed_document(root);\n",
       "  } else {\n",
       "    var attempts = 0;\n",
       "    var timer = setInterval(function(root) {\n",
       "      if (root.Bokeh !== undefined) {\n",
       "        embed_document(root);\n",
       "        clearInterval(timer);\n",
       "      }\n",
       "      attempts++;\n",
       "      if (attempts > 100) {\n",
       "        console.log(\"Bokeh: ERROR: Unable to run BokehJS code because BokehJS library is missing\");\n",
       "        clearInterval(timer);\n",
       "      }\n",
       "    }, 10, root)\n",
       "  }\n",
       "})(window);"
      ],
      "application/vnd.bokehjs_exec.v0+json": ""
     },
     "metadata": {
      "application/vnd.bokehjs_exec.v0+json": {
       "id": "3634"
      }
     },
     "output_type": "display_data"
    }
   ],
   "source": [
    "p = hl.plot.histogram(mt.variant_qc.gq_stats.mean, range=(0,100), legend='Mean GQ per variant histogram')\n",
    "show(p)"
   ]
  },
  {
   "cell_type": "code",
   "execution_count": null,
   "metadata": {},
   "outputs": [],
   "source": [
    "p = hl.plot.histogram(mt.variant_qc., range=(10,100), legend='Mean Sample GQ')\n",
    "show(p)"
   ]
  },
  {
   "cell_type": "markdown",
   "metadata": {},
   "source": [
    "## Sample QC"
   ]
  },
  {
   "cell_type": "markdown",
   "metadata": {},
   "source": [
    "### Depth"
   ]
  },
  {
   "cell_type": "code",
   "execution_count": 80,
   "metadata": {},
   "outputs": [
    {
     "data": {
      "text/html": [
       "\n",
       "\n",
       "\n",
       "\n",
       "\n",
       "\n",
       "  <div class=\"bk-root\" id=\"77804d38-7627-4f41-9afc-7a5de01eab83\" data-root-id=\"3406\"></div>\n"
      ]
     },
     "metadata": {},
     "output_type": "display_data"
    },
    {
     "data": {
      "application/javascript": [
       "(function(root) {\n",
       "  function embed_document(root) {\n",
       "    \n",
       "  var docs_json = {\"4e0c4de0-cc61-4dd4-84c6-4f1d79d15c8a\":{\"roots\":{\"references\":[{\"attributes\":{\"background_fill_color\":{\"value\":\"#EEEEEE\"},\"below\":[{\"id\":\"3416\",\"type\":\"LinearAxis\"}],\"center\":[{\"id\":\"3420\",\"type\":\"Grid\"},{\"id\":\"3425\",\"type\":\"Grid\"},{\"id\":\"3450\",\"type\":\"Legend\"}],\"left\":[{\"id\":\"3421\",\"type\":\"LinearAxis\"}],\"renderers\":[{\"id\":\"3442\",\"type\":\"GlyphRenderer\"}],\"title\":null,\"toolbar\":{\"id\":\"3432\",\"type\":\"Toolbar\"},\"x_range\":{\"id\":\"3408\",\"type\":\"Range1d\"},\"x_scale\":{\"id\":\"3412\",\"type\":\"LinearScale\"},\"y_range\":{\"id\":\"3410\",\"type\":\"DataRange1d\"},\"y_scale\":{\"id\":\"3414\",\"type\":\"LinearScale\"}},\"id\":\"3406\",\"subtype\":\"Figure\",\"type\":\"Plot\"},{\"attributes\":{\"callback\":null,\"data\":{\"left\":[0.0,2.0,4.0,6.0,8.0,10.0,12.0,14.0,16.0,18.0,20.0,22.0,24.0,26.0,28.0,30.0,32.0,34.0,36.0,38.0,40.0,42.0,44.0,46.0,48.0,50.0,52.0,54.0,56.0,58.0,60.0,62.0,64.0,66.0,68.0,70.0,72.0,74.0,76.0,78.0,80.0,82.0,84.0,86.0,88.0,90.0,92.0,94.0,96.0,98.0],\"right\":[2.0,4.0,6.0,8.0,10.0,12.0,14.0,16.0,18.0,20.0,22.0,24.0,26.0,28.0,30.0,32.0,34.0,36.0,38.0,40.0,42.0,44.0,46.0,48.0,50.0,52.0,54.0,56.0,58.0,60.0,62.0,64.0,66.0,68.0,70.0,72.0,74.0,76.0,78.0,80.0,82.0,84.0,86.0,88.0,90.0,92.0,94.0,96.0,98.0,100.0],\"top\":[0,0,1,0,1,2,1,1,2,2,5,3,8,5,8,2,4,1,0,1,1,0,0,0,0,0,0,0,0,0,0,0,0,0,0,0,0,0,0,0,0,0,0,0,0,0,0,0,0,0]},\"selected\":{\"id\":\"3585\",\"type\":\"Selection\"},\"selection_policy\":{\"id\":\"3584\",\"type\":\"UnionRenderers\"}},\"id\":\"3439\",\"type\":\"ColumnDataSource\"},{\"attributes\":{},\"id\":\"3447\",\"type\":\"BasicTickFormatter\"},{\"attributes\":{},\"id\":\"3445\",\"type\":\"BasicTickFormatter\"},{\"attributes\":{},\"id\":\"3585\",\"type\":\"Selection\"},{\"attributes\":{\"axis_label\":\"Frequency\",\"formatter\":{\"id\":\"3447\",\"type\":\"BasicTickFormatter\"},\"ticker\":{\"id\":\"3422\",\"type\":\"BasicTicker\"}},\"id\":\"3421\",\"type\":\"LinearAxis\"},{\"attributes\":{},\"id\":\"3431\",\"type\":\"HelpTool\"},{\"attributes\":{},\"id\":\"3414\",\"type\":\"LinearScale\"},{\"attributes\":{},\"id\":\"3427\",\"type\":\"WheelZoomTool\"},{\"attributes\":{\"active_drag\":\"auto\",\"active_inspect\":\"auto\",\"active_multi\":null,\"active_scroll\":\"auto\",\"active_tap\":\"auto\",\"tools\":[{\"id\":\"3426\",\"type\":\"PanTool\"},{\"id\":\"3427\",\"type\":\"WheelZoomTool\"},{\"id\":\"3428\",\"type\":\"BoxZoomTool\"},{\"id\":\"3429\",\"type\":\"SaveTool\"},{\"id\":\"3430\",\"type\":\"ResetTool\"},{\"id\":\"3431\",\"type\":\"HelpTool\"}]},\"id\":\"3432\",\"type\":\"Toolbar\"},{\"attributes\":{},\"id\":\"3412\",\"type\":\"LinearScale\"},{\"attributes\":{\"bottom\":{\"value\":0},\"fill_color\":{\"value\":\"#1f77b4\"},\"left\":{\"field\":\"left\"},\"right\":{\"field\":\"right\"},\"top\":{\"field\":\"top\"}},\"id\":\"3440\",\"type\":\"Quad\"},{\"attributes\":{},\"id\":\"3429\",\"type\":\"SaveTool\"},{\"attributes\":{},\"id\":\"3426\",\"type\":\"PanTool\"},{\"attributes\":{},\"id\":\"3430\",\"type\":\"ResetTool\"},{\"attributes\":{},\"id\":\"3422\",\"type\":\"BasicTicker\"},{\"attributes\":{\"bottom\":{\"value\":0},\"fill_alpha\":{\"value\":0.1},\"fill_color\":{\"value\":\"#1f77b4\"},\"left\":{\"field\":\"left\"},\"line_alpha\":{\"value\":0.1},\"line_color\":{\"value\":\"#1f77b4\"},\"right\":{\"field\":\"right\"},\"top\":{\"field\":\"top\"}},\"id\":\"3441\",\"type\":\"Quad\"},{\"attributes\":{\"dimension\":1,\"ticker\":{\"id\":\"3422\",\"type\":\"BasicTicker\"}},\"id\":\"3425\",\"type\":\"Grid\"},{\"attributes\":{\"overlay\":{\"id\":\"3449\",\"type\":\"BoxAnnotation\"}},\"id\":\"3428\",\"type\":\"BoxZoomTool\"},{\"attributes\":{\"callback\":null},\"id\":\"3410\",\"type\":\"DataRange1d\"},{\"attributes\":{},\"id\":\"3584\",\"type\":\"UnionRenderers\"},{\"attributes\":{\"axis_label\":\"Mean DP per sample histogram\",\"formatter\":{\"id\":\"3445\",\"type\":\"BasicTickFormatter\"},\"ticker\":{\"id\":\"3417\",\"type\":\"BasicTicker\"}},\"id\":\"3416\",\"type\":\"LinearAxis\"},{\"attributes\":{\"bottom_units\":\"screen\",\"fill_alpha\":{\"value\":0.5},\"fill_color\":{\"value\":\"lightgrey\"},\"left_units\":\"screen\",\"level\":\"overlay\",\"line_alpha\":{\"value\":1.0},\"line_color\":{\"value\":\"black\"},\"line_dash\":[4,4],\"line_width\":{\"value\":2},\"render_mode\":\"css\",\"right_units\":\"screen\",\"top_units\":\"screen\"},\"id\":\"3449\",\"type\":\"BoxAnnotation\"},{\"attributes\":{\"ticker\":{\"id\":\"3417\",\"type\":\"BasicTicker\"}},\"id\":\"3420\",\"type\":\"Grid\"},{\"attributes\":{\"label\":{\"value\":\"Mean DP per sample histogram\"},\"renderers\":[{\"id\":\"3442\",\"type\":\"GlyphRenderer\"}]},\"id\":\"3451\",\"type\":\"LegendItem\"},{\"attributes\":{\"data_source\":{\"id\":\"3439\",\"type\":\"ColumnDataSource\"},\"glyph\":{\"id\":\"3440\",\"type\":\"Quad\"},\"hover_glyph\":null,\"muted_glyph\":null,\"nonselection_glyph\":{\"id\":\"3441\",\"type\":\"Quad\"},\"selection_glyph\":null,\"view\":{\"id\":\"3443\",\"type\":\"CDSView\"}},\"id\":\"3442\",\"type\":\"GlyphRenderer\"},{\"attributes\":{\"items\":[{\"id\":\"3451\",\"type\":\"LegendItem\"}]},\"id\":\"3450\",\"type\":\"Legend\"},{\"attributes\":{\"source\":{\"id\":\"3439\",\"type\":\"ColumnDataSource\"}},\"id\":\"3443\",\"type\":\"CDSView\"},{\"attributes\":{\"callback\":null,\"end\":105.0,\"start\":-5.0},\"id\":\"3408\",\"type\":\"Range1d\"},{\"attributes\":{},\"id\":\"3417\",\"type\":\"BasicTicker\"}],\"root_ids\":[\"3406\"]},\"title\":\"Bokeh Application\",\"version\":\"1.2.0\"}};\n",
       "  var render_items = [{\"docid\":\"4e0c4de0-cc61-4dd4-84c6-4f1d79d15c8a\",\"roots\":{\"3406\":\"77804d38-7627-4f41-9afc-7a5de01eab83\"}}];\n",
       "  root.Bokeh.embed.embed_items_notebook(docs_json, render_items);\n",
       "\n",
       "  }\n",
       "  if (root.Bokeh !== undefined) {\n",
       "    embed_document(root);\n",
       "  } else {\n",
       "    var attempts = 0;\n",
       "    var timer = setInterval(function(root) {\n",
       "      if (root.Bokeh !== undefined) {\n",
       "        embed_document(root);\n",
       "        clearInterval(timer);\n",
       "      }\n",
       "      attempts++;\n",
       "      if (attempts > 100) {\n",
       "        console.log(\"Bokeh: ERROR: Unable to run BokehJS code because BokehJS library is missing\");\n",
       "        clearInterval(timer);\n",
       "      }\n",
       "    }, 10, root)\n",
       "  }\n",
       "})(window);"
      ],
      "application/vnd.bokehjs_exec.v0+json": ""
     },
     "metadata": {
      "application/vnd.bokehjs_exec.v0+json": {
       "id": "3406"
      }
     },
     "output_type": "display_data"
    }
   ],
   "source": [
    "p = hl.plot.histogram(mt.sample_qc.dp_stats.mean, range=(0,100), legend='Mean DP per sample histogram')\n",
    "show(p)"
   ]
  },
  {
   "cell_type": "markdown",
   "metadata": {},
   "source": [
    "### Call rate"
   ]
  },
  {
   "cell_type": "code",
   "execution_count": 69,
   "metadata": {},
   "outputs": [
    {
     "data": {
      "text/html": [
       "\n",
       "\n",
       "\n",
       "\n",
       "\n",
       "\n",
       "  <div class=\"bk-root\" id=\"7874c006-e49e-4f24-97b8-4296164954d5\" data-root-id=\"2508\"></div>\n"
      ]
     },
     "metadata": {},
     "output_type": "display_data"
    },
    {
     "data": {
      "application/javascript": [
       "(function(root) {\n",
       "  function embed_document(root) {\n",
       "    \n",
       "  var docs_json = {\"5ee9e7ac-dc2a-41c7-8d3c-2b3eee763b1e\":{\"roots\":{\"references\":[{\"attributes\":{\"background_fill_color\":{\"value\":\"#EEEEEE\"},\"below\":[{\"id\":\"2518\",\"type\":\"LinearAxis\"}],\"center\":[{\"id\":\"2522\",\"type\":\"Grid\"},{\"id\":\"2527\",\"type\":\"Grid\"},{\"id\":\"2552\",\"type\":\"Legend\"}],\"left\":[{\"id\":\"2523\",\"type\":\"LinearAxis\"}],\"renderers\":[{\"id\":\"2544\",\"type\":\"GlyphRenderer\"}],\"title\":null,\"toolbar\":{\"id\":\"2534\",\"type\":\"Toolbar\"},\"x_range\":{\"id\":\"2510\",\"type\":\"Range1d\"},\"x_scale\":{\"id\":\"2514\",\"type\":\"LinearScale\"},\"y_range\":{\"id\":\"2512\",\"type\":\"DataRange1d\"},\"y_scale\":{\"id\":\"2516\",\"type\":\"LinearScale\"}},\"id\":\"2508\",\"subtype\":\"Figure\",\"type\":\"Plot\"},{\"attributes\":{\"dimension\":1,\"ticker\":{\"id\":\"2524\",\"type\":\"BasicTicker\"}},\"id\":\"2527\",\"type\":\"Grid\"},{\"attributes\":{},\"id\":\"2524\",\"type\":\"BasicTicker\"},{\"attributes\":{\"bottom\":{\"value\":0},\"fill_alpha\":{\"value\":0.1},\"fill_color\":{\"value\":\"#1f77b4\"},\"left\":{\"field\":\"left\"},\"line_alpha\":{\"value\":0.1},\"line_color\":{\"value\":\"#1f77b4\"},\"right\":{\"field\":\"right\"},\"top\":{\"field\":\"top\"}},\"id\":\"2543\",\"type\":\"Quad\"},{\"attributes\":{\"axis_label\":\"Frequency\",\"formatter\":{\"id\":\"2549\",\"type\":\"BasicTickFormatter\"},\"ticker\":{\"id\":\"2524\",\"type\":\"BasicTicker\"}},\"id\":\"2523\",\"type\":\"LinearAxis\"},{\"attributes\":{},\"id\":\"2649\",\"type\":\"Selection\"},{\"attributes\":{},\"id\":\"2549\",\"type\":\"BasicTickFormatter\"},{\"attributes\":{},\"id\":\"2528\",\"type\":\"PanTool\"},{\"attributes\":{},\"id\":\"2547\",\"type\":\"BasicTickFormatter\"},{\"attributes\":{},\"id\":\"2531\",\"type\":\"SaveTool\"},{\"attributes\":{},\"id\":\"2519\",\"type\":\"BasicTicker\"},{\"attributes\":{\"source\":{\"id\":\"2541\",\"type\":\"ColumnDataSource\"}},\"id\":\"2545\",\"type\":\"CDSView\"},{\"attributes\":{},\"id\":\"2514\",\"type\":\"LinearScale\"},{\"attributes\":{\"label\":{\"value\":\"Call Rate\"},\"renderers\":[{\"id\":\"2544\",\"type\":\"GlyphRenderer\"}]},\"id\":\"2553\",\"type\":\"LegendItem\"},{\"attributes\":{\"ticker\":{\"id\":\"2519\",\"type\":\"BasicTicker\"}},\"id\":\"2522\",\"type\":\"Grid\"},{\"attributes\":{\"callback\":null,\"end\":1.05,\"start\":-0.05},\"id\":\"2510\",\"type\":\"Range1d\"},{\"attributes\":{\"callback\":null},\"id\":\"2512\",\"type\":\"DataRange1d\"},{\"attributes\":{},\"id\":\"2648\",\"type\":\"UnionRenderers\"},{\"attributes\":{},\"id\":\"2532\",\"type\":\"ResetTool\"},{\"attributes\":{\"active_drag\":\"auto\",\"active_inspect\":\"auto\",\"active_multi\":null,\"active_scroll\":\"auto\",\"active_tap\":\"auto\",\"tools\":[{\"id\":\"2528\",\"type\":\"PanTool\"},{\"id\":\"2529\",\"type\":\"WheelZoomTool\"},{\"id\":\"2530\",\"type\":\"BoxZoomTool\"},{\"id\":\"2531\",\"type\":\"SaveTool\"},{\"id\":\"2532\",\"type\":\"ResetTool\"},{\"id\":\"2533\",\"type\":\"HelpTool\"}]},\"id\":\"2534\",\"type\":\"Toolbar\"},{\"attributes\":{},\"id\":\"2533\",\"type\":\"HelpTool\"},{\"attributes\":{\"axis_label\":\"Call Rate\",\"formatter\":{\"id\":\"2547\",\"type\":\"BasicTickFormatter\"},\"ticker\":{\"id\":\"2519\",\"type\":\"BasicTicker\"}},\"id\":\"2518\",\"type\":\"LinearAxis\"},{\"attributes\":{\"bottom\":{\"value\":0},\"fill_color\":{\"value\":\"#1f77b4\"},\"left\":{\"field\":\"left\"},\"right\":{\"field\":\"right\"},\"top\":{\"field\":\"top\"}},\"id\":\"2542\",\"type\":\"Quad\"},{\"attributes\":{},\"id\":\"2529\",\"type\":\"WheelZoomTool\"},{\"attributes\":{\"data_source\":{\"id\":\"2541\",\"type\":\"ColumnDataSource\"},\"glyph\":{\"id\":\"2542\",\"type\":\"Quad\"},\"hover_glyph\":null,\"muted_glyph\":null,\"nonselection_glyph\":{\"id\":\"2543\",\"type\":\"Quad\"},\"selection_glyph\":null,\"view\":{\"id\":\"2545\",\"type\":\"CDSView\"}},\"id\":\"2544\",\"type\":\"GlyphRenderer\"},{\"attributes\":{},\"id\":\"2516\",\"type\":\"LinearScale\"},{\"attributes\":{\"callback\":null,\"data\":{\"left\":[0.0,0.02,0.04,0.06,0.08,0.1,0.12,0.14,0.16,0.18,0.2,0.22,0.24,0.26,0.28,0.3,0.32,0.34,0.36,0.38,0.4,0.42,0.44,0.46,0.48,0.5,0.52,0.54,0.56,0.58,0.6,0.62,0.64,0.66,0.68,0.7000000000000001,0.72,0.74,0.76,0.78,0.8,0.8200000000000001,0.84,0.86,0.88,0.9,0.92,0.9400000000000001,0.96,0.98],\"right\":[0.02,0.04,0.06,0.08,0.1,0.12,0.14,0.16,0.18,0.2,0.22,0.24,0.26,0.28,0.3,0.32,0.34,0.36,0.38,0.4,0.42,0.44,0.46,0.48,0.5,0.52,0.54,0.56,0.58,0.6,0.62,0.64,0.66,0.68,0.7000000000000001,0.72,0.74,0.76,0.78,0.8,0.8200000000000001,0.84,0.86,0.88,0.9,0.92,0.9400000000000001,0.96,0.98,1.0],\"top\":[0,0,0,0,0,0,0,0,0,0,0,0,0,0,0,0,0,0,0,0,0,0,0,0,0,0,0,0,0,0,0,0,0,0,0,0,0,0,0,0,0,0,0,0,0,0,0,0,0,48]},\"selected\":{\"id\":\"2649\",\"type\":\"Selection\"},\"selection_policy\":{\"id\":\"2648\",\"type\":\"UnionRenderers\"}},\"id\":\"2541\",\"type\":\"ColumnDataSource\"},{\"attributes\":{\"overlay\":{\"id\":\"2551\",\"type\":\"BoxAnnotation\"}},\"id\":\"2530\",\"type\":\"BoxZoomTool\"},{\"attributes\":{\"items\":[{\"id\":\"2553\",\"type\":\"LegendItem\"}]},\"id\":\"2552\",\"type\":\"Legend\"},{\"attributes\":{\"bottom_units\":\"screen\",\"fill_alpha\":{\"value\":0.5},\"fill_color\":{\"value\":\"lightgrey\"},\"left_units\":\"screen\",\"level\":\"overlay\",\"line_alpha\":{\"value\":1.0},\"line_color\":{\"value\":\"black\"},\"line_dash\":[4,4],\"line_width\":{\"value\":2},\"render_mode\":\"css\",\"right_units\":\"screen\",\"top_units\":\"screen\"},\"id\":\"2551\",\"type\":\"BoxAnnotation\"}],\"root_ids\":[\"2508\"]},\"title\":\"Bokeh Application\",\"version\":\"1.2.0\"}};\n",
       "  var render_items = [{\"docid\":\"5ee9e7ac-dc2a-41c7-8d3c-2b3eee763b1e\",\"roots\":{\"2508\":\"7874c006-e49e-4f24-97b8-4296164954d5\"}}];\n",
       "  root.Bokeh.embed.embed_items_notebook(docs_json, render_items);\n",
       "\n",
       "  }\n",
       "  if (root.Bokeh !== undefined) {\n",
       "    embed_document(root);\n",
       "  } else {\n",
       "    var attempts = 0;\n",
       "    var timer = setInterval(function(root) {\n",
       "      if (root.Bokeh !== undefined) {\n",
       "        embed_document(root);\n",
       "        clearInterval(timer);\n",
       "      }\n",
       "      attempts++;\n",
       "      if (attempts > 100) {\n",
       "        console.log(\"Bokeh: ERROR: Unable to run BokehJS code because BokehJS library is missing\");\n",
       "        clearInterval(timer);\n",
       "      }\n",
       "    }, 10, root)\n",
       "  }\n",
       "})(window);"
      ],
      "application/vnd.bokehjs_exec.v0+json": ""
     },
     "metadata": {
      "application/vnd.bokehjs_exec.v0+json": {
       "id": "2508"
      }
     },
     "output_type": "display_data"
    }
   ],
   "source": [
    "p = hl.plot.histogram(mt.sample_qc.call_rate, range=(0,1), legend='Call Rate')\n",
    "show(p)"
   ]
  },
  {
   "cell_type": "markdown",
   "metadata": {},
   "source": [
    "### Genotype quality"
   ]
  },
  {
   "cell_type": "code",
   "execution_count": 16,
   "metadata": {},
   "outputs": [
    {
     "data": {
      "text/html": [
       "\n",
       "\n",
       "\n",
       "\n",
       "\n",
       "\n",
       "  <div class=\"bk-root\" id=\"dea29693-056e-4c6e-b5a4-8a0011de1819\" data-root-id=\"1554\"></div>\n"
      ]
     },
     "metadata": {},
     "output_type": "display_data"
    },
    {
     "data": {
      "application/javascript": [
       "(function(root) {\n",
       "  function embed_document(root) {\n",
       "    \n",
       "  var docs_json = {\"27c778bc-788c-475f-982d-be372c348d1e\":{\"roots\":{\"references\":[{\"attributes\":{\"background_fill_color\":{\"value\":\"#EEEEEE\"},\"below\":[{\"id\":\"1564\",\"type\":\"LinearAxis\"}],\"center\":[{\"id\":\"1568\",\"type\":\"Grid\"},{\"id\":\"1573\",\"type\":\"Grid\"},{\"id\":\"1598\",\"type\":\"Legend\"}],\"left\":[{\"id\":\"1569\",\"type\":\"LinearAxis\"}],\"renderers\":[{\"id\":\"1590\",\"type\":\"GlyphRenderer\"}],\"title\":null,\"toolbar\":{\"id\":\"1580\",\"type\":\"Toolbar\"},\"x_range\":{\"id\":\"1556\",\"type\":\"Range1d\"},\"x_scale\":{\"id\":\"1560\",\"type\":\"LinearScale\"},\"y_range\":{\"id\":\"1558\",\"type\":\"DataRange1d\"},\"y_scale\":{\"id\":\"1562\",\"type\":\"LinearScale\"}},\"id\":\"1554\",\"subtype\":\"Figure\",\"type\":\"Plot\"},{\"attributes\":{\"active_drag\":\"auto\",\"active_inspect\":\"auto\",\"active_multi\":null,\"active_scroll\":\"auto\",\"active_tap\":\"auto\",\"tools\":[{\"id\":\"1574\",\"type\":\"PanTool\"},{\"id\":\"1575\",\"type\":\"WheelZoomTool\"},{\"id\":\"1576\",\"type\":\"BoxZoomTool\"},{\"id\":\"1577\",\"type\":\"SaveTool\"},{\"id\":\"1578\",\"type\":\"ResetTool\"},{\"id\":\"1579\",\"type\":\"HelpTool\"}]},\"id\":\"1580\",\"type\":\"Toolbar\"},{\"attributes\":{},\"id\":\"1570\",\"type\":\"BasicTicker\"},{\"attributes\":{},\"id\":\"1579\",\"type\":\"HelpTool\"},{\"attributes\":{\"bottom_units\":\"screen\",\"fill_alpha\":{\"value\":0.5},\"fill_color\":{\"value\":\"lightgrey\"},\"left_units\":\"screen\",\"level\":\"overlay\",\"line_alpha\":{\"value\":1.0},\"line_color\":{\"value\":\"black\"},\"line_dash\":[4,4],\"line_width\":{\"value\":2},\"render_mode\":\"css\",\"right_units\":\"screen\",\"top_units\":\"screen\"},\"id\":\"1597\",\"type\":\"BoxAnnotation\"},{\"attributes\":{},\"id\":\"1594\",\"type\":\"BasicTickFormatter\"},{\"attributes\":{},\"id\":\"1596\",\"type\":\"BasicTickFormatter\"},{\"attributes\":{},\"id\":\"1574\",\"type\":\"PanTool\"},{\"attributes\":{},\"id\":\"1578\",\"type\":\"ResetTool\"},{\"attributes\":{},\"id\":\"1562\",\"type\":\"LinearScale\"},{\"attributes\":{\"overlay\":{\"id\":\"1597\",\"type\":\"BoxAnnotation\"}},\"id\":\"1576\",\"type\":\"BoxZoomTool\"},{\"attributes\":{\"bottom\":{\"value\":0},\"fill_alpha\":{\"value\":0.1},\"fill_color\":{\"value\":\"#1f77b4\"},\"left\":{\"field\":\"left\"},\"line_alpha\":{\"value\":0.1},\"line_color\":{\"value\":\"#1f77b4\"},\"right\":{\"field\":\"right\"},\"top\":{\"field\":\"top\"}},\"id\":\"1589\",\"type\":\"Quad\"},{\"attributes\":{\"bottom\":{\"value\":0},\"fill_color\":{\"value\":\"#1f77b4\"},\"left\":{\"field\":\"left\"},\"right\":{\"field\":\"right\"},\"top\":{\"field\":\"top\"}},\"id\":\"1588\",\"type\":\"Quad\"},{\"attributes\":{},\"id\":\"1575\",\"type\":\"WheelZoomTool\"},{\"attributes\":{},\"id\":\"1565\",\"type\":\"BasicTicker\"},{\"attributes\":{},\"id\":\"1644\",\"type\":\"Selection\"},{\"attributes\":{\"dimension\":1,\"ticker\":{\"id\":\"1570\",\"type\":\"BasicTicker\"}},\"id\":\"1573\",\"type\":\"Grid\"},{\"attributes\":{\"ticker\":{\"id\":\"1565\",\"type\":\"BasicTicker\"}},\"id\":\"1568\",\"type\":\"Grid\"},{\"attributes\":{},\"id\":\"1560\",\"type\":\"LinearScale\"},{\"attributes\":{\"label\":{\"value\":\"Mean Sample GQ\"},\"renderers\":[{\"id\":\"1590\",\"type\":\"GlyphRenderer\"}]},\"id\":\"1599\",\"type\":\"LegendItem\"},{\"attributes\":{\"axis_label\":\"Mean Sample GQ\",\"formatter\":{\"id\":\"1594\",\"type\":\"BasicTickFormatter\"},\"ticker\":{\"id\":\"1565\",\"type\":\"BasicTicker\"}},\"id\":\"1564\",\"type\":\"LinearAxis\"},{\"attributes\":{},\"id\":\"1643\",\"type\":\"UnionRenderers\"},{\"attributes\":{\"callback\":null},\"id\":\"1558\",\"type\":\"DataRange1d\"},{\"attributes\":{\"callback\":null,\"data\":{\"left\":[10.0,11.8,13.6,15.4,17.2,19.0,20.8,22.6,24.4,26.2,28.0,29.8,31.6,33.400000000000006,35.2,37.0,38.8,40.6,42.4,44.2,46.0,47.800000000000004,49.6,51.4,53.2,55.0,56.800000000000004,58.6,60.4,62.2,64.0,65.80000000000001,67.6,69.4,71.2,73.0,74.8,76.60000000000001,78.4,80.2,82.0,83.8,85.60000000000001,87.4,89.2,91.0,92.8,94.60000000000001,96.4,98.2],\"right\":[11.8,13.6,15.4,17.2,19.0,20.8,22.6,24.4,26.2,28.0,29.8,31.6,33.400000000000006,35.2,37.0,38.8,40.6,42.4,44.2,46.0,47.800000000000004,49.6,51.4,53.2,55.0,56.800000000000004,58.6,60.4,62.2,64.0,65.80000000000001,67.6,69.4,71.2,73.0,74.8,76.60000000000001,78.4,80.2,82.0,83.8,85.60000000000001,87.4,89.2,91.0,92.8,94.60000000000001,96.4,98.2,100.0],\"top\":[0,0,0,0,0,0,0,1,0,0,0,0,0,1,0,1,0,1,0,1,1,0,1,1,3,4,2,1,8,2,4,7,3,3,1,0,2,0,0,0,0,0,0,0,0,0,0,0,0,0]},\"selected\":{\"id\":\"1644\",\"type\":\"Selection\"},\"selection_policy\":{\"id\":\"1643\",\"type\":\"UnionRenderers\"}},\"id\":\"1587\",\"type\":\"ColumnDataSource\"},{\"attributes\":{\"axis_label\":\"Frequency\",\"formatter\":{\"id\":\"1596\",\"type\":\"BasicTickFormatter\"},\"ticker\":{\"id\":\"1570\",\"type\":\"BasicTicker\"}},\"id\":\"1569\",\"type\":\"LinearAxis\"},{\"attributes\":{},\"id\":\"1577\",\"type\":\"SaveTool\"},{\"attributes\":{\"source\":{\"id\":\"1587\",\"type\":\"ColumnDataSource\"}},\"id\":\"1591\",\"type\":\"CDSView\"},{\"attributes\":{\"callback\":null,\"end\":104.5,\"start\":5.5},\"id\":\"1556\",\"type\":\"Range1d\"},{\"attributes\":{\"items\":[{\"id\":\"1599\",\"type\":\"LegendItem\"}]},\"id\":\"1598\",\"type\":\"Legend\"},{\"attributes\":{\"data_source\":{\"id\":\"1587\",\"type\":\"ColumnDataSource\"},\"glyph\":{\"id\":\"1588\",\"type\":\"Quad\"},\"hover_glyph\":null,\"muted_glyph\":null,\"nonselection_glyph\":{\"id\":\"1589\",\"type\":\"Quad\"},\"selection_glyph\":null,\"view\":{\"id\":\"1591\",\"type\":\"CDSView\"}},\"id\":\"1590\",\"type\":\"GlyphRenderer\"}],\"root_ids\":[\"1554\"]},\"title\":\"Bokeh Application\",\"version\":\"1.2.0\"}};\n",
       "  var render_items = [{\"docid\":\"27c778bc-788c-475f-982d-be372c348d1e\",\"roots\":{\"1554\":\"dea29693-056e-4c6e-b5a4-8a0011de1819\"}}];\n",
       "  root.Bokeh.embed.embed_items_notebook(docs_json, render_items);\n",
       "\n",
       "  }\n",
       "  if (root.Bokeh !== undefined) {\n",
       "    embed_document(root);\n",
       "  } else {\n",
       "    var attempts = 0;\n",
       "    var timer = setInterval(function(root) {\n",
       "      if (root.Bokeh !== undefined) {\n",
       "        embed_document(root);\n",
       "        clearInterval(timer);\n",
       "      }\n",
       "      attempts++;\n",
       "      if (attempts > 100) {\n",
       "        console.log(\"Bokeh: ERROR: Unable to run BokehJS code because BokehJS library is missing\");\n",
       "        clearInterval(timer);\n",
       "      }\n",
       "    }, 10, root)\n",
       "  }\n",
       "})(window);"
      ],
      "application/vnd.bokehjs_exec.v0+json": ""
     },
     "metadata": {
      "application/vnd.bokehjs_exec.v0+json": {
       "id": "1554"
      }
     },
     "output_type": "display_data"
    }
   ],
   "source": [
    "p = hl.plot.histogram(mt.sample_qc.gq_stats.mean, range=(10,100), legend='Mean Sample GQ')\n",
    "show(p)"
   ]
  },
  {
   "cell_type": "markdown",
   "metadata": {},
   "source": [
    "### Het/hom rate"
   ]
  },
  {
   "cell_type": "code",
   "execution_count": 92,
   "metadata": {},
   "outputs": [
    {
     "data": {
      "text/html": [
       "\n",
       "\n",
       "\n",
       "\n",
       "\n",
       "\n",
       "  <div class=\"bk-root\" id=\"801be72f-911b-4930-83a7-b3ee2c0b3311\" data-root-id=\"4920\"></div>\n"
      ]
     },
     "metadata": {},
     "output_type": "display_data"
    },
    {
     "data": {
      "application/javascript": [
       "(function(root) {\n",
       "  function embed_document(root) {\n",
       "    \n",
       "  var docs_json = {\"0ff0c2fa-a976-472a-bf4e-4a2a50639835\":{\"roots\":{\"references\":[{\"attributes\":{\"background_fill_color\":{\"value\":\"#EEEEEE\"},\"below\":[{\"id\":\"4930\",\"type\":\"LinearAxis\"}],\"center\":[{\"id\":\"4934\",\"type\":\"Grid\"},{\"id\":\"4939\",\"type\":\"Grid\"},{\"id\":\"4964\",\"type\":\"Legend\"}],\"left\":[{\"id\":\"4935\",\"type\":\"LinearAxis\"}],\"renderers\":[{\"id\":\"4956\",\"type\":\"GlyphRenderer\"}],\"title\":null,\"toolbar\":{\"id\":\"4946\",\"type\":\"Toolbar\"},\"x_range\":{\"id\":\"4922\",\"type\":\"Range1d\"},\"x_scale\":{\"id\":\"4926\",\"type\":\"LinearScale\"},\"y_range\":{\"id\":\"4924\",\"type\":\"DataRange1d\"},\"y_scale\":{\"id\":\"4928\",\"type\":\"LinearScale\"}},\"id\":\"4920\",\"subtype\":\"Figure\",\"type\":\"Plot\"},{\"attributes\":{},\"id\":\"5149\",\"type\":\"Selection\"},{\"attributes\":{},\"id\":\"4959\",\"type\":\"BasicTickFormatter\"},{\"attributes\":{},\"id\":\"4943\",\"type\":\"SaveTool\"},{\"attributes\":{\"callback\":null,\"end\":2.6,\"start\":0.4},\"id\":\"4922\",\"type\":\"Range1d\"},{\"attributes\":{},\"id\":\"4926\",\"type\":\"LinearScale\"},{\"attributes\":{\"axis_label\":\"Frequency\",\"formatter\":{\"id\":\"4961\",\"type\":\"BasicTickFormatter\"},\"ticker\":{\"id\":\"4936\",\"type\":\"BasicTicker\"}},\"id\":\"4935\",\"type\":\"LinearAxis\"},{\"attributes\":{\"bottom_units\":\"screen\",\"fill_alpha\":{\"value\":0.5},\"fill_color\":{\"value\":\"lightgrey\"},\"left_units\":\"screen\",\"level\":\"overlay\",\"line_alpha\":{\"value\":1.0},\"line_color\":{\"value\":\"black\"},\"line_dash\":[4,4],\"line_width\":{\"value\":2},\"render_mode\":\"css\",\"right_units\":\"screen\",\"top_units\":\"screen\"},\"id\":\"4963\",\"type\":\"BoxAnnotation\"},{\"attributes\":{},\"id\":\"4945\",\"type\":\"HelpTool\"},{\"attributes\":{},\"id\":\"5148\",\"type\":\"UnionRenderers\"},{\"attributes\":{\"data_source\":{\"id\":\"4953\",\"type\":\"ColumnDataSource\"},\"glyph\":{\"id\":\"4954\",\"type\":\"Quad\"},\"hover_glyph\":null,\"muted_glyph\":null,\"nonselection_glyph\":{\"id\":\"4955\",\"type\":\"Quad\"},\"selection_glyph\":null,\"view\":{\"id\":\"4957\",\"type\":\"CDSView\"}},\"id\":\"4956\",\"type\":\"GlyphRenderer\"},{\"attributes\":{\"source\":{\"id\":\"4953\",\"type\":\"ColumnDataSource\"}},\"id\":\"4957\",\"type\":\"CDSView\"},{\"attributes\":{},\"id\":\"4961\",\"type\":\"BasicTickFormatter\"},{\"attributes\":{\"active_drag\":\"auto\",\"active_inspect\":\"auto\",\"active_multi\":null,\"active_scroll\":\"auto\",\"active_tap\":\"auto\",\"tools\":[{\"id\":\"4940\",\"type\":\"PanTool\"},{\"id\":\"4941\",\"type\":\"WheelZoomTool\"},{\"id\":\"4942\",\"type\":\"BoxZoomTool\"},{\"id\":\"4943\",\"type\":\"SaveTool\"},{\"id\":\"4944\",\"type\":\"ResetTool\"},{\"id\":\"4945\",\"type\":\"HelpTool\"}]},\"id\":\"4946\",\"type\":\"Toolbar\"},{\"attributes\":{},\"id\":\"4931\",\"type\":\"BasicTicker\"},{\"attributes\":{\"callback\":null,\"data\":{\"left\":[0.5,0.54,0.58,0.62,0.66,0.7,0.74,0.78,0.8200000000000001,0.86,0.9,0.94,0.98,1.02,1.06,1.1,1.1400000000000001,1.1800000000000002,1.22,1.26,1.3,1.3399999999999999,1.38,1.42,1.46,1.5,1.54,1.58,1.62,1.66,1.7,1.74,1.78,1.82,1.86,1.9000000000000001,1.94,1.98,2.02,2.06,2.1,2.14,2.1799999999999997,2.2199999999999998,2.26,2.3,2.34,2.38,2.42,2.46],\"right\":[0.54,0.58,0.62,0.66,0.7,0.74,0.78,0.8200000000000001,0.86,0.9,0.94,0.98,1.02,1.06,1.1,1.1400000000000001,1.1800000000000002,1.22,1.26,1.3,1.3399999999999999,1.38,1.42,1.46,1.5,1.54,1.58,1.62,1.66,1.7,1.74,1.78,1.82,1.86,1.9000000000000001,1.94,1.98,2.02,2.06,2.1,2.14,2.1799999999999997,2.2199999999999998,2.26,2.3,2.34,2.38,2.42,2.46,2.5],\"top\":[0,0,0,0,0,0,0,0,0,0,0,0,0,0,0,0,0,0,0,0,0,0,0,0,1,0,1,0,0,0,0,1,2,1,1,3,4,7,5,3,7,4,2,2,0,1,1,2,0,0]},\"selected\":{\"id\":\"5149\",\"type\":\"Selection\"},\"selection_policy\":{\"id\":\"5148\",\"type\":\"UnionRenderers\"}},\"id\":\"4953\",\"type\":\"ColumnDataSource\"},{\"attributes\":{\"items\":[{\"id\":\"4965\",\"type\":\"LegendItem\"}]},\"id\":\"4964\",\"type\":\"Legend\"},{\"attributes\":{\"bottom\":{\"value\":0},\"fill_alpha\":{\"value\":0.1},\"fill_color\":{\"value\":\"#1f77b4\"},\"left\":{\"field\":\"left\"},\"line_alpha\":{\"value\":0.1},\"line_color\":{\"value\":\"#1f77b4\"},\"right\":{\"field\":\"right\"},\"top\":{\"field\":\"top\"}},\"id\":\"4955\",\"type\":\"Quad\"},{\"attributes\":{},\"id\":\"4928\",\"type\":\"LinearScale\"},{\"attributes\":{\"overlay\":{\"id\":\"4963\",\"type\":\"BoxAnnotation\"}},\"id\":\"4942\",\"type\":\"BoxZoomTool\"},{\"attributes\":{},\"id\":\"4936\",\"type\":\"BasicTicker\"},{\"attributes\":{\"label\":{\"value\":\"Het/hom rate\"},\"renderers\":[{\"id\":\"4956\",\"type\":\"GlyphRenderer\"}]},\"id\":\"4965\",\"type\":\"LegendItem\"},{\"attributes\":{\"callback\":null},\"id\":\"4924\",\"type\":\"DataRange1d\"},{\"attributes\":{\"bottom\":{\"value\":0},\"fill_color\":{\"value\":\"#1f77b4\"},\"left\":{\"field\":\"left\"},\"right\":{\"field\":\"right\"},\"top\":{\"field\":\"top\"}},\"id\":\"4954\",\"type\":\"Quad\"},{\"attributes\":{},\"id\":\"4940\",\"type\":\"PanTool\"},{\"attributes\":{\"ticker\":{\"id\":\"4931\",\"type\":\"BasicTicker\"}},\"id\":\"4934\",\"type\":\"Grid\"},{\"attributes\":{},\"id\":\"4941\",\"type\":\"WheelZoomTool\"},{\"attributes\":{},\"id\":\"4944\",\"type\":\"ResetTool\"},{\"attributes\":{\"dimension\":1,\"ticker\":{\"id\":\"4936\",\"type\":\"BasicTicker\"}},\"id\":\"4939\",\"type\":\"Grid\"},{\"attributes\":{\"axis_label\":\"Het/hom rate\",\"formatter\":{\"id\":\"4959\",\"type\":\"BasicTickFormatter\"},\"ticker\":{\"id\":\"4931\",\"type\":\"BasicTicker\"}},\"id\":\"4930\",\"type\":\"LinearAxis\"}],\"root_ids\":[\"4920\"]},\"title\":\"Bokeh Application\",\"version\":\"1.2.0\"}};\n",
       "  var render_items = [{\"docid\":\"0ff0c2fa-a976-472a-bf4e-4a2a50639835\",\"roots\":{\"4920\":\"801be72f-911b-4930-83a7-b3ee2c0b3311\"}}];\n",
       "  root.Bokeh.embed.embed_items_notebook(docs_json, render_items);\n",
       "\n",
       "  }\n",
       "  if (root.Bokeh !== undefined) {\n",
       "    embed_document(root);\n",
       "  } else {\n",
       "    var attempts = 0;\n",
       "    var timer = setInterval(function(root) {\n",
       "      if (root.Bokeh !== undefined) {\n",
       "        embed_document(root);\n",
       "        clearInterval(timer);\n",
       "      }\n",
       "      attempts++;\n",
       "      if (attempts > 100) {\n",
       "        console.log(\"Bokeh: ERROR: Unable to run BokehJS code because BokehJS library is missing\");\n",
       "        clearInterval(timer);\n",
       "      }\n",
       "    }, 10, root)\n",
       "  }\n",
       "})(window);"
      ],
      "application/vnd.bokehjs_exec.v0+json": ""
     },
     "metadata": {
      "application/vnd.bokehjs_exec.v0+json": {
       "id": "4920"
      }
     },
     "output_type": "display_data"
    }
   ],
   "source": [
    "p = hl.plot.histogram(mt.sample_qc.r_het_hom_var, range=(0.5,2.5), legend='Het/hom rate')\n",
    "show(p)"
   ]
  },
  {
   "cell_type": "markdown",
   "metadata": {},
   "source": [
    "### DP-call rate scatter"
   ]
  },
  {
   "cell_type": "code",
   "execution_count": 19,
   "metadata": {},
   "outputs": [
    {
     "data": {
      "text/html": [
       "\n",
       "\n",
       "\n",
       "\n",
       "\n",
       "\n",
       "  <div class=\"bk-root\" id=\"05c482ae-f939-47ec-9482-87e685255208\" data-root-id=\"1837\"></div>\n"
      ]
     },
     "metadata": {},
     "output_type": "display_data"
    },
    {
     "data": {
      "application/javascript": [
       "(function(root) {\n",
       "  function embed_document(root) {\n",
       "    \n",
       "  var docs_json = {\"04103bb8-df4e-4cc1-a01d-d1bc71a15565\":{\"roots\":{\"references\":[{\"attributes\":{\"below\":[{\"id\":\"1847\",\"type\":\"LinearAxis\"}],\"center\":[{\"id\":\"1851\",\"type\":\"Grid\"},{\"id\":\"1856\",\"type\":\"Grid\"}],\"left\":[{\"id\":\"1852\",\"type\":\"LinearAxis\"}],\"plot_height\":800,\"plot_width\":800,\"renderers\":[{\"id\":\"1876\",\"type\":\"GlyphRenderer\"}],\"title\":null,\"toolbar\":{\"id\":\"1863\",\"type\":\"Toolbar\"},\"x_range\":{\"id\":\"1839\",\"type\":\"DataRange1d\"},\"x_scale\":{\"id\":\"1843\",\"type\":\"LinearScale\"},\"y_range\":{\"id\":\"1841\",\"type\":\"DataRange1d\"},\"y_scale\":{\"id\":\"1845\",\"type\":\"LinearScale\"}},\"id\":\"1837\",\"subtype\":\"Figure\",\"type\":\"Plot\"},{\"attributes\":{},\"id\":\"1938\",\"type\":\"Selection\"},{\"attributes\":{\"ticker\":{\"id\":\"1848\",\"type\":\"BasicTicker\"}},\"id\":\"1851\",\"type\":\"Grid\"},{\"attributes\":{},\"id\":\"1848\",\"type\":\"BasicTicker\"},{\"attributes\":{\"callback\":null,\"data\":{\"index\":[0,1,2,3,4,5,6,7,8,9,10,11,12,13,14,15,16,17,18,19,20,21,22,23,24,25,26,27,28,29,30,31,32,33,34,35,36,37,38,39,40,41,42,43,44],\"x\":{\"__ndarray__\":\"5Mlc8rhEEEBeEDikdhcjQAp6e7ZlaSVA2y4l+sn5J0BMXk85hckrQD4FGbewqy5AN6vqrvVJMEBFS9Ig+hExQO6T/zCPgjNAd7teykH+M0DbBcYxXSc0QKRUdWAFXzRA8Dj8hufcNECme3K22U81QIRGR5cZqjVAj1peX6NtNkAhwp8zf3o2QLlncEr4mDdAXqdCG5FQOEACQWvy83A4QKZudiCtmThAi+uiK7fmOECrtnQjcG45QBTQU/E3tDlAaEN+IIz/OUBzmoZIQws6QEmZ2V18wjpAreuImULZOkCDASygAgA7QLmVPrCvSDtAr4MfOvR5PEAr2UG/sJg8QMvEiLKW2jxAU1/6ToD/PEDaDyJfhmE9QFKWL0Gprz1AlMV/3FLJPUCumPFThAE+QDPQBs0uDD9A/jEpM/UnQEC8rn2UlltAQPI8r8c5sUBAAR7nEvDbQUBxCWNnkN9DQE+HV8d/RkRA\",\"dtype\":\"float64\",\"shape\":[45]},\"y\":{\"__ndarray__\":\"gzY0Nb3+7z+DNjQ1vf7vP83EKw3G/u8/+f6EtnT/7z+EbyWvzP7vP9gbTjKu/+8/Y8XfpBX/7z/0b+xgCP/vP/Wo3doX/+8/RP9egpz/7z+NVGXglf/vPxj+9lL9/u8/OxofUdP+7z9DjXyOff/vP7Hib9KK/+8/+3BnqpP/7z+0xjS6yP/vP9VwesR//+8/IDhjFpj/7z+sU9d8Hv/vP2VwsxJE/+8/s1RSxqn/7z9j/tAeJf/vP4eM2xAa/+8/ZxuHgHL/7z+OjVZapf/vP9KMtdxB/+8/aI1pdJH/7z9B4qggT//vPxviuzo7/+8/acZa7qD/7z+LqZFyZ//vP/0bOxjC/+8/QKm3pj//7z/8qVgko//vPz3F8r4B/+8/HButtEr/7z9kN8KYNP/vP4pwoPhX/+8//OJJnrL/7z+u/qrqTP/vP/YawM42/+8/Pv7jOBH/7z9ojWl0kf/vPx7GgCJ5/+8/\",\"dtype\":\"float64\",\"shape\":[45]}},\"selected\":{\"id\":\"1938\",\"type\":\"Selection\"},\"selection_policy\":{\"id\":\"1937\",\"type\":\"UnionRenderers\"}},\"id\":\"1872\",\"type\":\"ColumnDataSource\"},{\"attributes\":{\"axis_label\":\"Call Rate\",\"formatter\":{\"id\":\"1936\",\"type\":\"BasicTickFormatter\"},\"ticker\":{\"id\":\"1853\",\"type\":\"BasicTicker\"}},\"id\":\"1852\",\"type\":\"LinearAxis\"},{\"attributes\":{\"axis_label\":\"Mean DP\",\"formatter\":{\"id\":\"1934\",\"type\":\"BasicTickFormatter\"},\"ticker\":{\"id\":\"1848\",\"type\":\"BasicTicker\"}},\"id\":\"1847\",\"type\":\"LinearAxis\"},{\"attributes\":{\"callback\":null,\"tooltips\":[[\"x\",\"@x\"],[\"y\",\"@y\"]]},\"id\":\"1871\",\"type\":\"HoverTool\"},{\"attributes\":{},\"id\":\"1853\",\"type\":\"BasicTicker\"},{\"attributes\":{\"overlay\":{\"id\":\"1939\",\"type\":\"BoxAnnotation\"}},\"id\":\"1859\",\"type\":\"BoxZoomTool\"},{\"attributes\":{\"data_source\":{\"id\":\"1872\",\"type\":\"ColumnDataSource\"},\"glyph\":{\"id\":\"1874\",\"type\":\"Circle\"},\"hover_glyph\":null,\"muted_glyph\":null,\"nonselection_glyph\":{\"id\":\"1875\",\"type\":\"Circle\"},\"selection_glyph\":null,\"view\":{\"id\":\"1877\",\"type\":\"CDSView\"}},\"id\":\"1876\",\"type\":\"GlyphRenderer\"},{\"attributes\":{\"callback\":null},\"id\":\"1841\",\"type\":\"DataRange1d\"},{\"attributes\":{\"dimension\":1,\"ticker\":{\"id\":\"1853\",\"type\":\"BasicTicker\"}},\"id\":\"1856\",\"type\":\"Grid\"},{\"attributes\":{\"active_drag\":\"auto\",\"active_inspect\":\"auto\",\"active_multi\":null,\"active_scroll\":\"auto\",\"active_tap\":\"auto\",\"tools\":[{\"id\":\"1857\",\"type\":\"PanTool\"},{\"id\":\"1858\",\"type\":\"WheelZoomTool\"},{\"id\":\"1859\",\"type\":\"BoxZoomTool\"},{\"id\":\"1860\",\"type\":\"SaveTool\"},{\"id\":\"1861\",\"type\":\"ResetTool\"},{\"id\":\"1862\",\"type\":\"HelpTool\"},{\"id\":\"1871\",\"type\":\"HoverTool\"}]},\"id\":\"1863\",\"type\":\"Toolbar\"},{\"attributes\":{},\"id\":\"1936\",\"type\":\"BasicTickFormatter\"},{\"attributes\":{\"fill_alpha\":{\"value\":0.1},\"fill_color\":{\"value\":\"#1f77b4\"},\"line_alpha\":{\"value\":0.1},\"line_color\":{\"value\":\"#1f77b4\"},\"x\":{\"field\":\"x\"},\"y\":{\"field\":\"y\"}},\"id\":\"1875\",\"type\":\"Circle\"},{\"attributes\":{\"callback\":null},\"id\":\"1839\",\"type\":\"DataRange1d\"},{\"attributes\":{},\"id\":\"1860\",\"type\":\"SaveTool\"},{\"attributes\":{},\"id\":\"1857\",\"type\":\"PanTool\"},{\"attributes\":{},\"id\":\"1843\",\"type\":\"LinearScale\"},{\"attributes\":{},\"id\":\"1862\",\"type\":\"HelpTool\"},{\"attributes\":{},\"id\":\"1845\",\"type\":\"LinearScale\"},{\"attributes\":{},\"id\":\"1861\",\"type\":\"ResetTool\"},{\"attributes\":{},\"id\":\"1934\",\"type\":\"BasicTickFormatter\"},{\"attributes\":{\"bottom_units\":\"screen\",\"fill_alpha\":{\"value\":0.5},\"fill_color\":{\"value\":\"lightgrey\"},\"left_units\":\"screen\",\"level\":\"overlay\",\"line_alpha\":{\"value\":1.0},\"line_color\":{\"value\":\"black\"},\"line_dash\":[4,4],\"line_width\":{\"value\":2},\"render_mode\":\"css\",\"right_units\":\"screen\",\"top_units\":\"screen\"},\"id\":\"1939\",\"type\":\"BoxAnnotation\"},{\"attributes\":{\"source\":{\"id\":\"1872\",\"type\":\"ColumnDataSource\"}},\"id\":\"1877\",\"type\":\"CDSView\"},{\"attributes\":{},\"id\":\"1937\",\"type\":\"UnionRenderers\"},{\"attributes\":{},\"id\":\"1858\",\"type\":\"WheelZoomTool\"},{\"attributes\":{\"fill_color\":{\"value\":\"#1f77b4\"},\"line_color\":{\"value\":\"#1f77b4\"},\"x\":{\"field\":\"x\"},\"y\":{\"field\":\"y\"}},\"id\":\"1874\",\"type\":\"Circle\"}],\"root_ids\":[\"1837\"]},\"title\":\"Bokeh Application\",\"version\":\"1.2.0\"}};\n",
       "  var render_items = [{\"docid\":\"04103bb8-df4e-4cc1-a01d-d1bc71a15565\",\"roots\":{\"1837\":\"05c482ae-f939-47ec-9482-87e685255208\"}}];\n",
       "  root.Bokeh.embed.embed_items_notebook(docs_json, render_items);\n",
       "\n",
       "  }\n",
       "  if (root.Bokeh !== undefined) {\n",
       "    embed_document(root);\n",
       "  } else {\n",
       "    var attempts = 0;\n",
       "    var timer = setInterval(function(root) {\n",
       "      if (root.Bokeh !== undefined) {\n",
       "        embed_document(root);\n",
       "        clearInterval(timer);\n",
       "      }\n",
       "      attempts++;\n",
       "      if (attempts > 100) {\n",
       "        console.log(\"Bokeh: ERROR: Unable to run BokehJS code because BokehJS library is missing\");\n",
       "        clearInterval(timer);\n",
       "      }\n",
       "    }, 10, root)\n",
       "  }\n",
       "})(window);"
      ],
      "application/vnd.bokehjs_exec.v0+json": ""
     },
     "metadata": {
      "application/vnd.bokehjs_exec.v0+json": {
       "id": "1837"
      }
     },
     "output_type": "display_data"
    }
   ],
   "source": [
    "p = hl.plot.scatter(mt.sample_qc.dp_stats.mean, mt.sample_qc.call_rate, xlabel='Mean DP', ylabel='Call Rate')\n",
    "show(p)"
   ]
  },
  {
   "cell_type": "markdown",
   "metadata": {},
   "source": [
    "## Ti/tv rate vs het/hom rate"
   ]
  },
  {
   "cell_type": "code",
   "execution_count": 28,
   "metadata": {},
   "outputs": [
    {
     "data": {
      "text/html": [
       "\n",
       "\n",
       "\n",
       "\n",
       "\n",
       "\n",
       "  <div class=\"bk-root\" id=\"db17bb58-35b9-4bfc-a6db-c434c2469656\" data-root-id=\"2147\"></div>\n"
      ]
     },
     "metadata": {},
     "output_type": "display_data"
    },
    {
     "data": {
      "application/javascript": [
       "(function(root) {\n",
       "  function embed_document(root) {\n",
       "    \n",
       "  var docs_json = {\"5ba51128-ce27-4687-8e09-bb83db388126\":{\"roots\":{\"references\":[{\"attributes\":{\"below\":[{\"id\":\"2157\",\"type\":\"LinearAxis\"}],\"center\":[{\"id\":\"2161\",\"type\":\"Grid\"},{\"id\":\"2166\",\"type\":\"Grid\"}],\"left\":[{\"id\":\"2162\",\"type\":\"LinearAxis\"}],\"plot_height\":800,\"plot_width\":800,\"renderers\":[{\"id\":\"2186\",\"type\":\"GlyphRenderer\"}],\"title\":null,\"toolbar\":{\"id\":\"2173\",\"type\":\"Toolbar\"},\"x_range\":{\"id\":\"2149\",\"type\":\"DataRange1d\"},\"x_scale\":{\"id\":\"2153\",\"type\":\"LinearScale\"},\"y_range\":{\"id\":\"2151\",\"type\":\"DataRange1d\"},\"y_scale\":{\"id\":\"2155\",\"type\":\"LinearScale\"}},\"id\":\"2147\",\"subtype\":\"Figure\",\"type\":\"Plot\"},{\"attributes\":{\"callback\":null,\"data\":{\"index\":[0,1,2,3,4,5,6,7,8,9,10,11,12,13,14,15,16,17,18,19,20,21,22,23,24,25,26,27,28,29,30,31,32,33,34,35,36,37,38,39,40,41,42,43,44,45,46,47],\"x\":{\"__ndarray__\":\"IxShCEUo/j9FHTKWjFz+P/7GGu8Pf/4/lVf4zdrD/j/1l5ndflv/P7FTrtMOh/8/gq0sGra2/z9/lMt4XcH/P/eeNsP04/8/jmsSyrEHAEBnapZlqwYAQJLNJmCMEABAbIOl3YcIAEB1C/J1wxkAQIT2syLFEgBAG64kXFEbAECHFxIvNioAQN9KvSv/NABAnbYlN4MuAECm8rtmXTUAQBUHr9T9PwBA9zK7Tg5DAECbVxlsr0AAQHCqNR1NSQBA98BG74pMAEB55Ihw6EgAQJBDZhqYVQBALpLAPrlhAEAd6/2GdV8AQGRmL3HLYwBAhUAZnEJtAECUwDMbbm8AQH7zPyxEcABA/WBfwDhuAEBolNo6QHwAQAhkDkeTkwBAcOz/rpugAECE2EvNNK4AQPIuwELpqgBARrN9KDGzAEB5BcNqWLYAQG6skDcewQBAASaHU67TAEAntOf+keEAQCNoOKn78gBACQ0/fDwrAUC7O+4EzW0BQOmN+ULjgAFA\",\"dtype\":\"float64\",\"shape\":[48]},\"y\":{\"__ndarray__\":\"er5DswwkA0AImSle2r8CQFEogQWdIwNAMR0MVWqJAkDj8diOs9gBQGp3Np2DzAFAvsq/oMjVAEBEDS/VqBL/P5B8NyQhTAFAuoffIN0JAECK+eKEnKgBQEi9uL0Ywv8/Crc8+R4zAUBcP/RaVpsAQPRoLOAsBgFAjQzgkDhMAEBN7i0h+doAQC5uEMg4hv8/OgRpMYT1/z/TVOPj634AQMdyRaGl5v4/MWVzy1PU/z+ot3T/av3/P++k/vNO6v8/cuVYvPbmAEAljmhifw0BQPD4wwGPPwBAuoN+kvAH/T/ZvEksyikAQIwFgZ7FBwFAGol9DcGY/j9nI+1i4u7+PxwigFh7i/8/QM87x+AjAUCdv9H7vR/+PzuLCLwmoQFAHqIroJajAEAGuDDAxrj9PyoMnpD0VgFAiVEIpVl4AEArZ12na+8AQAmis7iIGgBATiXeDhQ9AEAOO98hH+P8P4Z1TW05ff8/oCm8cl3e+z9uNt/twfD3P/koLvriRvk/\",\"dtype\":\"float64\",\"shape\":[48]}},\"selected\":{\"id\":\"2264\",\"type\":\"Selection\"},\"selection_policy\":{\"id\":\"2263\",\"type\":\"UnionRenderers\"}},\"id\":\"2182\",\"type\":\"ColumnDataSource\"},{\"attributes\":{\"fill_color\":{\"value\":\"#1f77b4\"},\"line_color\":{\"value\":\"#1f77b4\"},\"x\":{\"field\":\"x\"},\"y\":{\"field\":\"y\"}},\"id\":\"2184\",\"type\":\"Circle\"},{\"attributes\":{\"callback\":null},\"id\":\"2149\",\"type\":\"DataRange1d\"},{\"attributes\":{},\"id\":\"2263\",\"type\":\"UnionRenderers\"},{\"attributes\":{},\"id\":\"2262\",\"type\":\"BasicTickFormatter\"},{\"attributes\":{\"callback\":null,\"tooltips\":[[\"x\",\"@x\"],[\"y\",\"@y\"]]},\"id\":\"2181\",\"type\":\"HoverTool\"},{\"attributes\":{},\"id\":\"2167\",\"type\":\"PanTool\"},{\"attributes\":{\"data_source\":{\"id\":\"2182\",\"type\":\"ColumnDataSource\"},\"glyph\":{\"id\":\"2184\",\"type\":\"Circle\"},\"hover_glyph\":null,\"muted_glyph\":null,\"nonselection_glyph\":{\"id\":\"2185\",\"type\":\"Circle\"},\"selection_glyph\":null,\"view\":{\"id\":\"2187\",\"type\":\"CDSView\"}},\"id\":\"2186\",\"type\":\"GlyphRenderer\"},{\"attributes\":{},\"id\":\"2260\",\"type\":\"BasicTickFormatter\"},{\"attributes\":{\"axis_label\":\"het/hom rate\",\"formatter\":{\"id\":\"2262\",\"type\":\"BasicTickFormatter\"},\"ticker\":{\"id\":\"2163\",\"type\":\"BasicTicker\"}},\"id\":\"2162\",\"type\":\"LinearAxis\"},{\"attributes\":{\"dimension\":1,\"ticker\":{\"id\":\"2163\",\"type\":\"BasicTicker\"}},\"id\":\"2166\",\"type\":\"Grid\"},{\"attributes\":{\"active_drag\":\"auto\",\"active_inspect\":\"auto\",\"active_multi\":null,\"active_scroll\":\"auto\",\"active_tap\":\"auto\",\"tools\":[{\"id\":\"2167\",\"type\":\"PanTool\"},{\"id\":\"2168\",\"type\":\"WheelZoomTool\"},{\"id\":\"2169\",\"type\":\"BoxZoomTool\"},{\"id\":\"2170\",\"type\":\"SaveTool\"},{\"id\":\"2171\",\"type\":\"ResetTool\"},{\"id\":\"2172\",\"type\":\"HelpTool\"},{\"id\":\"2181\",\"type\":\"HoverTool\"}]},\"id\":\"2173\",\"type\":\"Toolbar\"},{\"attributes\":{\"overlay\":{\"id\":\"2265\",\"type\":\"BoxAnnotation\"}},\"id\":\"2169\",\"type\":\"BoxZoomTool\"},{\"attributes\":{\"ticker\":{\"id\":\"2158\",\"type\":\"BasicTicker\"}},\"id\":\"2161\",\"type\":\"Grid\"},{\"attributes\":{},\"id\":\"2153\",\"type\":\"LinearScale\"},{\"attributes\":{},\"id\":\"2171\",\"type\":\"ResetTool\"},{\"attributes\":{\"callback\":null},\"id\":\"2151\",\"type\":\"DataRange1d\"},{\"attributes\":{},\"id\":\"2170\",\"type\":\"SaveTool\"},{\"attributes\":{},\"id\":\"2163\",\"type\":\"BasicTicker\"},{\"attributes\":{},\"id\":\"2172\",\"type\":\"HelpTool\"},{\"attributes\":{},\"id\":\"2155\",\"type\":\"LinearScale\"},{\"attributes\":{\"fill_alpha\":{\"value\":0.1},\"fill_color\":{\"value\":\"#1f77b4\"},\"line_alpha\":{\"value\":0.1},\"line_color\":{\"value\":\"#1f77b4\"},\"x\":{\"field\":\"x\"},\"y\":{\"field\":\"y\"}},\"id\":\"2185\",\"type\":\"Circle\"},{\"attributes\":{},\"id\":\"2158\",\"type\":\"BasicTicker\"},{\"attributes\":{},\"id\":\"2168\",\"type\":\"WheelZoomTool\"},{\"attributes\":{\"source\":{\"id\":\"2182\",\"type\":\"ColumnDataSource\"}},\"id\":\"2187\",\"type\":\"CDSView\"},{\"attributes\":{},\"id\":\"2264\",\"type\":\"Selection\"},{\"attributes\":{\"axis_label\":\"ti/tv rate\",\"formatter\":{\"id\":\"2260\",\"type\":\"BasicTickFormatter\"},\"ticker\":{\"id\":\"2158\",\"type\":\"BasicTicker\"}},\"id\":\"2157\",\"type\":\"LinearAxis\"},{\"attributes\":{\"bottom_units\":\"screen\",\"fill_alpha\":{\"value\":0.5},\"fill_color\":{\"value\":\"lightgrey\"},\"left_units\":\"screen\",\"level\":\"overlay\",\"line_alpha\":{\"value\":1.0},\"line_color\":{\"value\":\"black\"},\"line_dash\":[4,4],\"line_width\":{\"value\":2},\"render_mode\":\"css\",\"right_units\":\"screen\",\"top_units\":\"screen\"},\"id\":\"2265\",\"type\":\"BoxAnnotation\"}],\"root_ids\":[\"2147\"]},\"title\":\"Bokeh Application\",\"version\":\"1.2.0\"}};\n",
       "  var render_items = [{\"docid\":\"5ba51128-ce27-4687-8e09-bb83db388126\",\"roots\":{\"2147\":\"db17bb58-35b9-4bfc-a6db-c434c2469656\"}}];\n",
       "  root.Bokeh.embed.embed_items_notebook(docs_json, render_items);\n",
       "\n",
       "  }\n",
       "  if (root.Bokeh !== undefined) {\n",
       "    embed_document(root);\n",
       "  } else {\n",
       "    var attempts = 0;\n",
       "    var timer = setInterval(function(root) {\n",
       "      if (root.Bokeh !== undefined) {\n",
       "        embed_document(root);\n",
       "        clearInterval(timer);\n",
       "      }\n",
       "      attempts++;\n",
       "      if (attempts > 100) {\n",
       "        console.log(\"Bokeh: ERROR: Unable to run BokehJS code because BokehJS library is missing\");\n",
       "        clearInterval(timer);\n",
       "      }\n",
       "    }, 10, root)\n",
       "  }\n",
       "})(window);"
      ],
      "application/vnd.bokehjs_exec.v0+json": ""
     },
     "metadata": {
      "application/vnd.bokehjs_exec.v0+json": {
       "id": "2147"
      }
     },
     "output_type": "display_data"
    }
   ],
   "source": [
    "p = hl.plot.scatter(mt.sample_qc.r_ti_tv, mt.sample_qc.r_het_hom_var, xlabel='ti/tv rate', ylabel='het/hom rate')\n",
    "show(p)"
   ]
  },
  {
   "cell_type": "markdown",
   "metadata": {},
   "source": [
    "## Sites where all samples are hom.alt."
   ]
  },
  {
   "cell_type": "code",
   "execution_count": 57,
   "metadata": {},
   "outputs": [
    {
     "name": "stdout",
     "output_type": "stream",
     "text": [
      "9953\n"
     ]
    }
   ],
   "source": [
    "mt_hom_alt = mt.filter_rows(mt.variant_qc.AC[0] == 0)\n",
    "n_all_hom_alt = mt_hom_alt.count_rows()\n",
    "print(n_all_hom_alt)"
   ]
  },
  {
   "cell_type": "markdown",
   "metadata": {},
   "source": [
    "Note that there are no sites where all samples are hom.ref., because these have been filtered out."
   ]
  },
  {
   "cell_type": "code",
   "execution_count": 56,
   "metadata": {},
   "outputs": [
    {
     "name": "stdout",
     "output_type": "stream",
     "text": [
      "0\n"
     ]
    }
   ],
   "source": [
    "n_all_hom_ref = mt.filter_rows(mt.variant_qc.AC[1] == 0).count_rows()\n",
    "print(n_all_hom_ref)"
   ]
  },
  {
   "cell_type": "code",
   "execution_count": 77,
   "metadata": {},
   "outputs": [
    {
     "data": {
      "text/html": [
       "\n",
       "\n",
       "\n",
       "\n",
       "\n",
       "\n",
       "  <div class=\"bk-root\" id=\"e2a29ab5-4878-4994-bae2-798db23e0e02\" data-root-id=\"2924\"></div>\n"
      ]
     },
     "metadata": {},
     "output_type": "display_data"
    },
    {
     "data": {
      "application/javascript": [
       "(function(root) {\n",
       "  function embed_document(root) {\n",
       "    \n",
       "  var docs_json = {\"9d78466c-7219-4ace-ad37-d309216f6c45\":{\"roots\":{\"references\":[{\"attributes\":{\"background_fill_color\":{\"value\":\"#EEEEEE\"},\"below\":[{\"id\":\"2934\",\"type\":\"LinearAxis\"}],\"center\":[{\"id\":\"2938\",\"type\":\"Grid\"},{\"id\":\"2943\",\"type\":\"Grid\"},{\"id\":\"2968\",\"type\":\"Legend\"}],\"left\":[{\"id\":\"2939\",\"type\":\"LinearAxis\"}],\"renderers\":[{\"id\":\"2960\",\"type\":\"GlyphRenderer\"},{\"id\":\"2973\",\"type\":\"GlyphRenderer\"}],\"title\":null,\"toolbar\":{\"id\":\"2950\",\"type\":\"Toolbar\"},\"x_range\":{\"id\":\"2926\",\"type\":\"Range1d\"},\"x_scale\":{\"id\":\"2930\",\"type\":\"LinearScale\"},\"y_range\":{\"id\":\"2928\",\"type\":\"DataRange1d\"},\"y_scale\":{\"id\":\"2932\",\"type\":\"LinearScale\"}},\"id\":\"2924\",\"subtype\":\"Figure\",\"type\":\"Plot\"},{\"attributes\":{\"label\":{\"value\":\"Mean DP per variant histogram\"},\"renderers\":[{\"id\":\"2960\",\"type\":\"GlyphRenderer\"}]},\"id\":\"2969\",\"type\":\"LegendItem\"},{\"attributes\":{\"callback\":null,\"data\":{\"left\":[0.0,2.0,4.0,6.0,8.0,10.0,12.0,14.0,16.0,18.0,20.0,22.0,24.0,26.0,28.0,30.0,32.0,34.0,36.0,38.0,40.0,42.0,44.0,46.0,48.0,50.0,52.0,54.0,56.0,58.0,60.0,62.0,64.0,66.0,68.0,70.0,72.0,74.0,76.0,78.0,80.0,82.0,84.0,86.0,88.0,90.0,92.0,94.0,96.0,98.0],\"right\":[2.0,4.0,6.0,8.0,10.0,12.0,14.0,16.0,18.0,20.0,22.0,24.0,26.0,28.0,30.0,32.0,34.0,36.0,38.0,40.0,42.0,44.0,46.0,48.0,50.0,52.0,54.0,56.0,58.0,60.0,62.0,64.0,66.0,68.0,70.0,72.0,74.0,76.0,78.0,80.0,82.0,84.0,86.0,88.0,90.0,92.0,94.0,96.0,98.0,100.0],\"top\":[611,579,546,558,502,527,521,462,428,359,329,351,314,290,293,252,241,224,208,192,162,152,142,122,95,102,115,78,85,58,70,70,42,55,47,52,42,34,31,31,30,27,30,25,25,15,16,21,18,23]},\"selected\":{\"id\":\"2982\",\"type\":\"Selection\"},\"selection_policy\":{\"id\":\"2981\",\"type\":\"UnionRenderers\"}},\"id\":\"2957\",\"type\":\"ColumnDataSource\"},{\"attributes\":{\"source\":{\"id\":\"2970\",\"type\":\"ColumnDataSource\"}},\"id\":\"2974\",\"type\":\"CDSView\"},{\"attributes\":{},\"id\":\"2935\",\"type\":\"BasicTicker\"},{\"attributes\":{\"bottom\":{\"value\":0},\"fill_color\":{\"value\":\"green\"},\"left\":{\"value\":100.0},\"right\":{\"value\":102.0},\"top\":{\"value\":351}},\"id\":\"2971\",\"type\":\"Quad\"},{\"attributes\":{\"bottom_units\":\"screen\",\"fill_alpha\":{\"value\":0.5},\"fill_color\":{\"value\":\"lightgrey\"},\"left_units\":\"screen\",\"level\":\"overlay\",\"line_alpha\":{\"value\":1.0},\"line_color\":{\"value\":\"black\"},\"line_dash\":[4,4],\"line_width\":{\"value\":2},\"render_mode\":\"css\",\"right_units\":\"screen\",\"top_units\":\"screen\"},\"id\":\"2967\",\"type\":\"BoxAnnotation\"},{\"attributes\":{\"data_source\":{\"id\":\"2957\",\"type\":\"ColumnDataSource\"},\"glyph\":{\"id\":\"2958\",\"type\":\"Quad\"},\"hover_glyph\":null,\"muted_glyph\":null,\"nonselection_glyph\":{\"id\":\"2959\",\"type\":\"Quad\"},\"selection_glyph\":null,\"view\":{\"id\":\"2961\",\"type\":\"CDSView\"}},\"id\":\"2960\",\"type\":\"GlyphRenderer\"},{\"attributes\":{\"data_source\":{\"id\":\"2970\",\"type\":\"ColumnDataSource\"},\"glyph\":{\"id\":\"2971\",\"type\":\"Quad\"},\"hover_glyph\":null,\"muted_glyph\":null,\"nonselection_glyph\":{\"id\":\"2972\",\"type\":\"Quad\"},\"selection_glyph\":null,\"view\":{\"id\":\"2974\",\"type\":\"CDSView\"}},\"id\":\"2973\",\"type\":\"GlyphRenderer\"},{\"attributes\":{\"bottom\":{\"value\":0},\"fill_color\":{\"value\":\"#1f77b4\"},\"left\":{\"field\":\"left\"},\"right\":{\"field\":\"right\"},\"top\":{\"field\":\"top\"}},\"id\":\"2958\",\"type\":\"Quad\"},{\"attributes\":{},\"id\":\"2932\",\"type\":\"LinearScale\"},{\"attributes\":{\"bottom\":{\"value\":0},\"fill_alpha\":{\"value\":0.1},\"fill_color\":{\"value\":\"#1f77b4\"},\"left\":{\"value\":100.0},\"line_alpha\":{\"value\":0.1},\"line_color\":{\"value\":\"#1f77b4\"},\"right\":{\"value\":102.0},\"top\":{\"value\":351}},\"id\":\"2972\",\"type\":\"Quad\"},{\"attributes\":{},\"id\":\"2949\",\"type\":\"HelpTool\"},{\"attributes\":{},\"id\":\"2944\",\"type\":\"PanTool\"},{\"attributes\":{},\"id\":\"2963\",\"type\":\"BasicTickFormatter\"},{\"attributes\":{\"items\":[{\"id\":\"2969\",\"type\":\"LegendItem\"},{\"id\":\"2983\",\"type\":\"LegendItem\"}]},\"id\":\"2968\",\"type\":\"Legend\"},{\"attributes\":{},\"id\":\"3098\",\"type\":\"UnionRenderers\"},{\"attributes\":{\"callback\":null},\"id\":\"2928\",\"type\":\"DataRange1d\"},{\"attributes\":{\"ticker\":{\"id\":\"2935\",\"type\":\"BasicTicker\"}},\"id\":\"2938\",\"type\":\"Grid\"},{\"attributes\":{},\"id\":\"2982\",\"type\":\"Selection\"},{\"attributes\":{},\"id\":\"2940\",\"type\":\"BasicTicker\"},{\"attributes\":{},\"id\":\"2930\",\"type\":\"LinearScale\"},{\"attributes\":{},\"id\":\"2948\",\"type\":\"ResetTool\"},{\"attributes\":{\"overlay\":{\"id\":\"2967\",\"type\":\"BoxAnnotation\"}},\"id\":\"2946\",\"type\":\"BoxZoomTool\"},{\"attributes\":{},\"id\":\"2981\",\"type\":\"UnionRenderers\"},{\"attributes\":{\"axis_label\":\"Frequency\",\"formatter\":{\"id\":\"2965\",\"type\":\"BasicTickFormatter\"},\"ticker\":{\"id\":\"2940\",\"type\":\"BasicTicker\"}},\"id\":\"2939\",\"type\":\"LinearAxis\"},{\"attributes\":{},\"id\":\"2965\",\"type\":\"BasicTickFormatter\"},{\"attributes\":{},\"id\":\"2947\",\"type\":\"SaveTool\"},{\"attributes\":{\"bottom\":{\"value\":0},\"fill_alpha\":{\"value\":0.1},\"fill_color\":{\"value\":\"#1f77b4\"},\"left\":{\"field\":\"left\"},\"line_alpha\":{\"value\":0.1},\"line_color\":{\"value\":\"#1f77b4\"},\"right\":{\"field\":\"right\"},\"top\":{\"field\":\"top\"}},\"id\":\"2959\",\"type\":\"Quad\"},{\"attributes\":{\"callback\":null,\"end\":105.0,\"start\":-5.0},\"id\":\"2926\",\"type\":\"Range1d\"},{\"attributes\":{\"active_drag\":\"auto\",\"active_inspect\":\"auto\",\"active_multi\":null,\"active_scroll\":\"auto\",\"active_tap\":\"auto\",\"tools\":[{\"id\":\"2944\",\"type\":\"PanTool\"},{\"id\":\"2945\",\"type\":\"WheelZoomTool\"},{\"id\":\"2946\",\"type\":\"BoxZoomTool\"},{\"id\":\"2947\",\"type\":\"SaveTool\"},{\"id\":\"2948\",\"type\":\"ResetTool\"},{\"id\":\"2949\",\"type\":\"HelpTool\"}]},\"id\":\"2950\",\"type\":\"Toolbar\"},{\"attributes\":{\"axis_label\":\"Mean DP per variant histogram\",\"formatter\":{\"id\":\"2963\",\"type\":\"BasicTickFormatter\"},\"ticker\":{\"id\":\"2935\",\"type\":\"BasicTicker\"}},\"id\":\"2934\",\"type\":\"LinearAxis\"},{\"attributes\":{\"dimension\":1,\"ticker\":{\"id\":\"2940\",\"type\":\"BasicTicker\"}},\"id\":\"2943\",\"type\":\"Grid\"},{\"attributes\":{\"label\":{\"value\":\"Outliers Above\"},\"renderers\":[{\"id\":\"2973\",\"type\":\"GlyphRenderer\"}]},\"id\":\"2983\",\"type\":\"LegendItem\"},{\"attributes\":{},\"id\":\"2945\",\"type\":\"WheelZoomTool\"},{\"attributes\":{\"source\":{\"id\":\"2957\",\"type\":\"ColumnDataSource\"}},\"id\":\"2961\",\"type\":\"CDSView\"},{\"attributes\":{},\"id\":\"3099\",\"type\":\"Selection\"},{\"attributes\":{\"callback\":null,\"data\":{},\"selected\":{\"id\":\"3099\",\"type\":\"Selection\"},\"selection_policy\":{\"id\":\"3098\",\"type\":\"UnionRenderers\"}},\"id\":\"2970\",\"type\":\"ColumnDataSource\"}],\"root_ids\":[\"2924\"]},\"title\":\"Bokeh Application\",\"version\":\"1.2.0\"}};\n",
       "  var render_items = [{\"docid\":\"9d78466c-7219-4ace-ad37-d309216f6c45\",\"roots\":{\"2924\":\"e2a29ab5-4878-4994-bae2-798db23e0e02\"}}];\n",
       "  root.Bokeh.embed.embed_items_notebook(docs_json, render_items);\n",
       "\n",
       "  }\n",
       "  if (root.Bokeh !== undefined) {\n",
       "    embed_document(root);\n",
       "  } else {\n",
       "    var attempts = 0;\n",
       "    var timer = setInterval(function(root) {\n",
       "      if (root.Bokeh !== undefined) {\n",
       "        embed_document(root);\n",
       "        clearInterval(timer);\n",
       "      }\n",
       "      attempts++;\n",
       "      if (attempts > 100) {\n",
       "        console.log(\"Bokeh: ERROR: Unable to run BokehJS code because BokehJS library is missing\");\n",
       "        clearInterval(timer);\n",
       "      }\n",
       "    }, 10, root)\n",
       "  }\n",
       "})(window);"
      ],
      "application/vnd.bokehjs_exec.v0+json": ""
     },
     "metadata": {
      "application/vnd.bokehjs_exec.v0+json": {
       "id": "2924"
      }
     },
     "output_type": "display_data"
    }
   ],
   "source": [
    "p = hl.plot.histogram(mt_hom_alt.variant_qc.dp_stats.mean, range=(0,100), legend='Mean DP per variant histogram')\n",
    "show(p)"
   ]
  },
  {
   "cell_type": "markdown",
   "metadata": {},
   "source": [
    "Looks like the variants have poor depth, but the shape of the distribution is similar to that of all the variants (above). The genotype quality looks much better."
   ]
  },
  {
   "cell_type": "code",
   "execution_count": 68,
   "metadata": {},
   "outputs": [
    {
     "data": {
      "text/html": [
       "\n",
       "\n",
       "\n",
       "\n",
       "\n",
       "\n",
       "  <div class=\"bk-root\" id=\"dd2152ae-ec70-4c4f-b61c-f22323b40e24\" data-root-id=\"2326\"></div>\n"
      ]
     },
     "metadata": {},
     "output_type": "display_data"
    },
    {
     "data": {
      "application/javascript": [
       "(function(root) {\n",
       "  function embed_document(root) {\n",
       "    \n",
       "  var docs_json = {\"065884d2-73d5-4e9b-a9b1-1687f4fddf8f\":{\"roots\":{\"references\":[{\"attributes\":{\"background_fill_color\":{\"value\":\"#EEEEEE\"},\"below\":[{\"id\":\"2336\",\"type\":\"LinearAxis\"}],\"center\":[{\"id\":\"2340\",\"type\":\"Grid\"},{\"id\":\"2345\",\"type\":\"Grid\"},{\"id\":\"2370\",\"type\":\"Legend\"}],\"left\":[{\"id\":\"2341\",\"type\":\"LinearAxis\"}],\"renderers\":[{\"id\":\"2362\",\"type\":\"GlyphRenderer\"}],\"title\":null,\"toolbar\":{\"id\":\"2352\",\"type\":\"Toolbar\"},\"x_range\":{\"id\":\"2328\",\"type\":\"Range1d\"},\"x_scale\":{\"id\":\"2332\",\"type\":\"LinearScale\"},\"y_range\":{\"id\":\"2330\",\"type\":\"DataRange1d\"},\"y_scale\":{\"id\":\"2334\",\"type\":\"LinearScale\"}},\"id\":\"2326\",\"subtype\":\"Figure\",\"type\":\"Plot\"},{\"attributes\":{\"bottom\":{\"value\":0},\"fill_color\":{\"value\":\"#1f77b4\"},\"left\":{\"field\":\"left\"},\"right\":{\"field\":\"right\"},\"top\":{\"field\":\"top\"}},\"id\":\"2360\",\"type\":\"Quad\"},{\"attributes\":{\"data_source\":{\"id\":\"2359\",\"type\":\"ColumnDataSource\"},\"glyph\":{\"id\":\"2360\",\"type\":\"Quad\"},\"hover_glyph\":null,\"muted_glyph\":null,\"nonselection_glyph\":{\"id\":\"2361\",\"type\":\"Quad\"},\"selection_glyph\":null,\"view\":{\"id\":\"2363\",\"type\":\"CDSView\"}},\"id\":\"2362\",\"type\":\"GlyphRenderer\"},{\"attributes\":{\"bottom\":{\"value\":0},\"fill_alpha\":{\"value\":0.1},\"fill_color\":{\"value\":\"#1f77b4\"},\"left\":{\"field\":\"left\"},\"line_alpha\":{\"value\":0.1},\"line_color\":{\"value\":\"#1f77b4\"},\"right\":{\"field\":\"right\"},\"top\":{\"field\":\"top\"}},\"id\":\"2361\",\"type\":\"Quad\"},{\"attributes\":{\"axis_label\":\"Frequency\",\"formatter\":{\"id\":\"2367\",\"type\":\"BasicTickFormatter\"},\"ticker\":{\"id\":\"2342\",\"type\":\"BasicTicker\"}},\"id\":\"2341\",\"type\":\"LinearAxis\"},{\"attributes\":{},\"id\":\"2350\",\"type\":\"ResetTool\"},{\"attributes\":{},\"id\":\"2332\",\"type\":\"LinearScale\"},{\"attributes\":{\"overlay\":{\"id\":\"2369\",\"type\":\"BoxAnnotation\"}},\"id\":\"2348\",\"type\":\"BoxZoomTool\"},{\"attributes\":{},\"id\":\"2337\",\"type\":\"BasicTicker\"},{\"attributes\":{},\"id\":\"2367\",\"type\":\"BasicTickFormatter\"},{\"attributes\":{},\"id\":\"2365\",\"type\":\"BasicTickFormatter\"},{\"attributes\":{\"ticker\":{\"id\":\"2337\",\"type\":\"BasicTicker\"}},\"id\":\"2340\",\"type\":\"Grid\"},{\"attributes\":{},\"id\":\"2342\",\"type\":\"BasicTicker\"},{\"attributes\":{\"label\":{\"value\":\"Mean GQ per variant histogram\"},\"renderers\":[{\"id\":\"2362\",\"type\":\"GlyphRenderer\"}]},\"id\":\"2371\",\"type\":\"LegendItem\"},{\"attributes\":{\"source\":{\"id\":\"2359\",\"type\":\"ColumnDataSource\"}},\"id\":\"2363\",\"type\":\"CDSView\"},{\"attributes\":{\"dimension\":1,\"ticker\":{\"id\":\"2342\",\"type\":\"BasicTicker\"}},\"id\":\"2345\",\"type\":\"Grid\"},{\"attributes\":{},\"id\":\"2351\",\"type\":\"HelpTool\"},{\"attributes\":{\"callback\":null},\"id\":\"2330\",\"type\":\"DataRange1d\"},{\"attributes\":{\"callback\":null,\"end\":105.0,\"start\":-5.0},\"id\":\"2328\",\"type\":\"Range1d\"},{\"attributes\":{},\"id\":\"2458\",\"type\":\"UnionRenderers\"},{\"attributes\":{\"items\":[{\"id\":\"2371\",\"type\":\"LegendItem\"}]},\"id\":\"2370\",\"type\":\"Legend\"},{\"attributes\":{},\"id\":\"2334\",\"type\":\"LinearScale\"},{\"attributes\":{},\"id\":\"2459\",\"type\":\"Selection\"},{\"attributes\":{\"bottom_units\":\"screen\",\"fill_alpha\":{\"value\":0.5},\"fill_color\":{\"value\":\"lightgrey\"},\"left_units\":\"screen\",\"level\":\"overlay\",\"line_alpha\":{\"value\":1.0},\"line_color\":{\"value\":\"black\"},\"line_dash\":[4,4],\"line_width\":{\"value\":2},\"render_mode\":\"css\",\"right_units\":\"screen\",\"top_units\":\"screen\"},\"id\":\"2369\",\"type\":\"BoxAnnotation\"},{\"attributes\":{},\"id\":\"2347\",\"type\":\"WheelZoomTool\"},{\"attributes\":{\"axis_label\":\"Mean GQ per variant histogram\",\"formatter\":{\"id\":\"2365\",\"type\":\"BasicTickFormatter\"},\"ticker\":{\"id\":\"2337\",\"type\":\"BasicTicker\"}},\"id\":\"2336\",\"type\":\"LinearAxis\"},{\"attributes\":{\"callback\":null,\"data\":{\"left\":[0.0,2.0,4.0,6.0,8.0,10.0,12.0,14.0,16.0,18.0,20.0,22.0,24.0,26.0,28.0,30.0,32.0,34.0,36.0,38.0,40.0,42.0,44.0,46.0,48.0,50.0,52.0,54.0,56.0,58.0,60.0,62.0,64.0,66.0,68.0,70.0,72.0,74.0,76.0,78.0,80.0,82.0,84.0,86.0,88.0,90.0,92.0,94.0,96.0,98.0],\"right\":[2.0,4.0,6.0,8.0,10.0,12.0,14.0,16.0,18.0,20.0,22.0,24.0,26.0,28.0,30.0,32.0,34.0,36.0,38.0,40.0,42.0,44.0,46.0,48.0,50.0,52.0,54.0,56.0,58.0,60.0,62.0,64.0,66.0,68.0,70.0,72.0,74.0,76.0,78.0,80.0,82.0,84.0,86.0,88.0,90.0,92.0,94.0,96.0,98.0,100.0],\"top\":[3,19,18,24,37,35,35,62,74,50,71,84,78,95,87,101,121,120,175,183,146,184,179,206,201,192,156,160,186,183,186,174,203,193,203,177,188,219,228,222,250,272,276,309,389,442,543,703,882,629]},\"selected\":{\"id\":\"2459\",\"type\":\"Selection\"},\"selection_policy\":{\"id\":\"2458\",\"type\":\"UnionRenderers\"}},\"id\":\"2359\",\"type\":\"ColumnDataSource\"},{\"attributes\":{},\"id\":\"2346\",\"type\":\"PanTool\"},{\"attributes\":{},\"id\":\"2349\",\"type\":\"SaveTool\"},{\"attributes\":{\"active_drag\":\"auto\",\"active_inspect\":\"auto\",\"active_multi\":null,\"active_scroll\":\"auto\",\"active_tap\":\"auto\",\"tools\":[{\"id\":\"2346\",\"type\":\"PanTool\"},{\"id\":\"2347\",\"type\":\"WheelZoomTool\"},{\"id\":\"2348\",\"type\":\"BoxZoomTool\"},{\"id\":\"2349\",\"type\":\"SaveTool\"},{\"id\":\"2350\",\"type\":\"ResetTool\"},{\"id\":\"2351\",\"type\":\"HelpTool\"}]},\"id\":\"2352\",\"type\":\"Toolbar\"}],\"root_ids\":[\"2326\"]},\"title\":\"Bokeh Application\",\"version\":\"1.2.0\"}};\n",
       "  var render_items = [{\"docid\":\"065884d2-73d5-4e9b-a9b1-1687f4fddf8f\",\"roots\":{\"2326\":\"dd2152ae-ec70-4c4f-b61c-f22323b40e24\"}}];\n",
       "  root.Bokeh.embed.embed_items_notebook(docs_json, render_items);\n",
       "\n",
       "  }\n",
       "  if (root.Bokeh !== undefined) {\n",
       "    embed_document(root);\n",
       "  } else {\n",
       "    var attempts = 0;\n",
       "    var timer = setInterval(function(root) {\n",
       "      if (root.Bokeh !== undefined) {\n",
       "        embed_document(root);\n",
       "        clearInterval(timer);\n",
       "      }\n",
       "      attempts++;\n",
       "      if (attempts > 100) {\n",
       "        console.log(\"Bokeh: ERROR: Unable to run BokehJS code because BokehJS library is missing\");\n",
       "        clearInterval(timer);\n",
       "      }\n",
       "    }, 10, root)\n",
       "  }\n",
       "})(window);"
      ],
      "application/vnd.bokehjs_exec.v0+json": ""
     },
     "metadata": {
      "application/vnd.bokehjs_exec.v0+json": {
       "id": "2326"
      }
     },
     "output_type": "display_data"
    }
   ],
   "source": [
    "p = hl.plot.histogram(mt_hom_alt.variant_qc.gq_stats.mean, range=(0,100), legend='Mean GQ per variant histogram')\n",
    "show(p)"
   ]
  },
  {
   "cell_type": "markdown",
   "metadata": {},
   "source": [
    "Are any of the variants novel?"
   ]
  },
  {
   "cell_type": "code",
   "execution_count": 75,
   "metadata": {},
   "outputs": [
    {
     "name": "stdout",
     "output_type": "stream",
     "text": [
      "388 out of the 9953 variants are novel\n"
     ]
    }
   ],
   "source": [
    "n_novel = mt_hom_alt.aggregate_rows(hl.agg.count_where(hl.is_missing(mt_hom_alt.rsid)))\n",
    "print('{n_novel} out of the {n_all_hom_alt} variants are novel'.format(n_novel=n_novel, n_all_hom_alt=n_all_hom_alt))"
   ]
  },
  {
   "cell_type": "markdown",
   "metadata": {},
   "source": [
    "Would be interesting to see what the allele frequency of these variants is in other populations."
   ]
  },
  {
   "cell_type": "code",
   "execution_count": null,
   "metadata": {},
   "outputs": [],
   "source": []
  }
 ],
 "metadata": {
  "kernelspec": {
   "display_name": "Python 3",
   "language": "python",
   "name": "python3"
  },
  "language_info": {
   "codemirror_mode": {
    "name": "ipython",
    "version": 3
   },
   "file_extension": ".py",
   "mimetype": "text/x-python",
   "name": "python",
   "nbconvert_exporter": "python",
   "pygments_lexer": "ipython3",
   "version": "3.6.11"
  }
 },
 "nbformat": 4,
 "nbformat_minor": 4
}
