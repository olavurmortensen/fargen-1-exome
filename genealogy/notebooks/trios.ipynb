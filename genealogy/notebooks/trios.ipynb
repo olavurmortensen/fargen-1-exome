{
 "cells": [
  {
   "cell_type": "markdown",
   "metadata": {},
   "source": [
    "# Create trio pedigrees in the FarGen cohort tree\n",
    "\n",
    "## Setup\n",
    "\n",
    "Connect to the Neo4j DB."
   ]
  },
  {
   "cell_type": "code",
   "execution_count": 73,
   "metadata": {},
   "outputs": [],
   "source": [
    "from neo4j import GraphDatabase\n",
    "import logging\n",
    "logging.basicConfig(level=logging.INFO)"
   ]
  },
  {
   "cell_type": "code",
   "execution_count": 9,
   "metadata": {},
   "outputs": [],
   "source": [
    "# URL to connect to the Neo4j database where the genealogy is stored.\n",
    "neo4j_url = 'bolt://aebs-db:7687'\n",
    "\n",
    "# Connect to the DB.\n",
    "driver = GraphDatabase.driver(neo4j_url)\n",
    "session = driver.session()"
   ]
  },
  {
   "cell_type": "markdown",
   "metadata": {},
   "source": [
    "## Label FarGen participants\n",
    "\n",
    "Get the samplenames from a CSV file."
   ]
  },
  {
   "cell_type": "code",
   "execution_count": 86,
   "metadata": {},
   "outputs": [],
   "source": [
    "# CSV file\n",
    "samplenames_fn = '/home/olavur/experiments/2020-11-13_fargen1_exome_analysis/data/genealogy/fargen_rin_samplename.csv'\n",
    "with open(samplenames_fn) as fid:\n",
    "    sample_list = []  # List of sample names.\n",
    "    rin_list = []  # List of RIN (genealogy) IDs.\n",
    "    output_data = dict()  # Data to write to CSV will be stored in this dictionary.\n",
    "    _ = fid.readline()  # Discard header.\n",
    "    for line in fid:\n",
    "        # Get the RIN and samplename from this line.\n",
    "        rin, sample = line.strip().split(',')\n",
    "        rin_list.append(rin)\n",
    "        output_data[rin] = {'sample': sample}\n",
    "        sample_list.append([rin, sample])"
   ]
  },
  {
   "cell_type": "code",
   "execution_count": 87,
   "metadata": {},
   "outputs": [
    {
     "name": "stdout",
     "output_type": "stream",
     "text": [
      "Number of samples: 1534\n"
     ]
    }
   ],
   "source": [
    "print('Number of samples: {n}'.format(n=len(rin_list)))"
   ]
  },
  {
   "cell_type": "markdown",
   "metadata": {},
   "source": [
    "Look-up all probands in database."
   ]
  },
  {
   "cell_type": "code",
   "execution_count": 35,
   "metadata": {},
   "outputs": [
    {
     "name": "stdout",
     "output_type": "stream",
     "text": [
      "Found 1534 out of 1534 probands.\n"
     ]
    }
   ],
   "source": [
    "# Label all FarGen participants.\n",
    "_ = session.run('UNWIND $inds AS x MATCH (proband:Person {ind: x}) SET proband:FarGen', inds=rin_list)\n",
    "# Count the number of participants found in database.\n",
    "result = session.run('MATCH (p:FarGen) RETURN COUNT(p)')\n",
    "print('Found {n} out of {m} probands.'.format(n=result.value()[0], m=len(rin_list)))"
   ]
  },
  {
   "cell_type": "markdown",
   "metadata": {},
   "source": [
    "Label all probands with FN number."
   ]
  },
  {
   "cell_type": "code",
   "execution_count": 124,
   "metadata": {},
   "outputs": [
    {
     "name": "stdout",
     "output_type": "stream",
     "text": [
      "Set FN number of 1534 probands.\n"
     ]
    }
   ],
   "source": [
    "# Label all FarGen participants.\n",
    "result = session.run('UNWIND $sample AS x MATCH (proband:Person {ind: x[0]}) SET proband.FN = x[1] RETURN count(*)', sample=sample_list)\n",
    "value = result.value()\n",
    "print('Set FN number of {n} probands.'.format(n=value[0]))"
   ]
  },
  {
   "cell_type": "markdown",
   "metadata": {},
   "source": [
    "## Find trios"
   ]
  },
  {
   "cell_type": "code",
   "execution_count": 126,
   "metadata": {},
   "outputs": [],
   "source": [
    "result = session.run('MATCH path = (mother:FarGen)-[:is_mother]->(child:FarGen)<-[:is_father]-(father:FarGen) RETURN child.FN, father.FN, mother.FN, child.sex')\n",
    "trio_ind_list = result.values()"
   ]
  },
  {
   "cell_type": "code",
   "execution_count": 127,
   "metadata": {},
   "outputs": [],
   "source": [
    "child_inds = [x[0] for x in trio_ind_list]\n",
    "child_inds = list(set(child_inds))\n",
    "\n",
    "father_inds = [x[1] for x in trio_ind_list]\n",
    "father_inds = list(set(father_inds))\n",
    "\n",
    "mother_inds = [x[2] for x in trio_ind_list]\n",
    "mother_inds = list(set(mother_inds))"
   ]
  },
  {
   "cell_type": "code",
   "execution_count": 128,
   "metadata": {},
   "outputs": [
    {
     "name": "stdout",
     "output_type": "stream",
     "text": [
      "101 trios with 73 fathers, 73 mothers and 101 children.\n"
     ]
    }
   ],
   "source": [
    "print('{t} trios with {f} fathers, {m} mothers and {c} children.'.format(t=len(trio_ind_list), f=len(father_inds), m=len(mother_inds), c=len(child_inds)))"
   ]
  },
  {
   "cell_type": "markdown",
   "metadata": {},
   "source": [
    "## Write fam file"
   ]
  },
  {
   "cell_type": "code",
   "execution_count": 129,
   "metadata": {},
   "outputs": [],
   "source": [
    "with open('/home/olavur/experiments/2020-11-13_fargen1_exome_analysis/data/genealogy/trios.fam', 'w') as fid:\n",
    "    for c, f, m, s in trio_ind_list:\n",
    "        assert (s == 'F') or (s == 'M'), \"Sex must be one of 'F' or 'M'. Offending value: {s}\".format(s=s)\n",
    "        if s == 'M':\n",
    "            s = 1\n",
    "        elif s == 'F':\n",
    "            s = 2\n",
    "        fid.write('1\\t{c}\\t{f}\\t{m}\\t{s}\\t0\\n'.format(c=c, f=f, m=m, s=s))"
   ]
  }
 ],
 "metadata": {
  "kernelspec": {
   "display_name": "Python [conda env:fargen-1-genealogy]",
   "language": "python",
   "name": "conda-env-fargen-1-genealogy-py"
  },
  "language_info": {
   "codemirror_mode": {
    "name": "ipython",
    "version": 3
   },
   "file_extension": ".py",
   "mimetype": "text/x-python",
   "name": "python",
   "nbconvert_exporter": "python",
   "pygments_lexer": "ipython3",
   "version": "3.9.7"
  }
 },
 "nbformat": 4,
 "nbformat_minor": 4
}
