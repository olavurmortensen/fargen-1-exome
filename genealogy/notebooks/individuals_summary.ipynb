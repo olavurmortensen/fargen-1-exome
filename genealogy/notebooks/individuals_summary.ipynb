{
 "cells": [
  {
   "cell_type": "markdown",
   "metadata": {},
   "source": [
    "# Summarize the genealogies of individuals\n",
    "\n",
    "Compute simple statistics for each FarGen participant.\n",
    "\n",
    "## Setup\n",
    "\n",
    "Connect to the Neo4j DB."
   ]
  },
  {
   "cell_type": "code",
   "execution_count": 91,
   "metadata": {},
   "outputs": [],
   "source": [
    "from neo4j import GraphDatabase\n",
    "\n",
    "# URL to connect to the Neo4j database where the genealogy is stored.\n",
    "neo4j_url = 'bolt://aebs-db:7687'\n",
    "\n",
    "# Connect to the DB.\n",
    "driver = GraphDatabase.driver(neo4j_url)\n",
    "session = driver.session()"
   ]
  },
  {
   "cell_type": "markdown",
   "metadata": {},
   "source": [
    "Get the samplenames from a CSV file."
   ]
  },
  {
   "cell_type": "code",
   "execution_count": 156,
   "metadata": {},
   "outputs": [],
   "source": [
    "# CSV file\n",
    "samplenames_fn = '/home/olavur/experiments/2020-11-13_fargen1_exome_analysis/data/genealogy/fargen_rin_samplename.csv'\n",
    "with open(samplenames_fn) as fid:\n",
    "    sample_list = []  # List of sample names.\n",
    "    rin_list = []  # List of RIN (genealogy) IDs.\n",
    "    output_data = dict()  # Data to write to CSV will be stored in this dictionary.\n",
    "    _ = fid.readline()  # Discard header.\n",
    "    for line in fid:\n",
    "        # Get the RIN and samplename from this line.\n",
    "        rin, sample = line.strip().split(',')\n",
    "        rin_list.append(rin)\n",
    "        output_data[rin] = {'sample': sample}\n",
    "        sample_list.append(sample)"
   ]
  },
  {
   "cell_type": "code",
   "execution_count": 157,
   "metadata": {},
   "outputs": [
    {
     "name": "stdout",
     "output_type": "stream",
     "text": [
      "Number of samples: 1534\n"
     ]
    }
   ],
   "source": [
    "print('Number of samples: {n}'.format(n=len(rin_list)))"
   ]
  },
  {
   "cell_type": "markdown",
   "metadata": {},
   "source": [
    "Look-up all probands in database."
   ]
  },
  {
   "cell_type": "code",
   "execution_count": 20,
   "metadata": {},
   "outputs": [
    {
     "name": "stdout",
     "output_type": "stream",
     "text": [
      "Found 1534 out of 1534 probands.\n"
     ]
    }
   ],
   "source": [
    "# For each RIN, find an individual matching that RIN.\n",
    "result = session.run('UNWIND $inds AS x MATCH (proband:Person {ind: x}) RETURN proband.ind', inds=rin_list)\n",
    "values = result.values()\n",
    "print('Found {n} out of {m} probands.'.format(n=len(values), m=len(rin_list)))"
   ]
  },
  {
   "cell_type": "markdown",
   "metadata": {},
   "source": [
    "## Genealogy size\n",
    "\n",
    "Below we compute the size of the genealogy. We calculate both the total number of individuals in each probands tree, and the distinct number of individuals (as ancestors may occur in multiple lineages). The proband is included in both these numbers, so a proband that is also a founder will have a genealogy size of 1."
   ]
  },
  {
   "cell_type": "code",
   "execution_count": 207,
   "metadata": {},
   "outputs": [
    {
     "name": "stdout",
     "output_type": "stream",
     "text": [
      "CPU times: user 75.6 ms, sys: 0 ns, total: 75.6 ms\n",
      "Wall time: 1min 10s\n"
     ]
    }
   ],
   "source": [
    "%%time\n",
    "results = session.run('UNWIND $inds AS x MATCH (p:Person {ind: x})-[:is_child*0..]->(a) RETURN x, count(a), count(DISTINCT a)', inds=rin_list)\n",
    "gen_sizes = results.values()"
   ]
  },
  {
   "cell_type": "code",
   "execution_count": 206,
   "metadata": {},
   "outputs": [
    {
     "name": "stdout",
     "output_type": "stream",
     "text": [
      "Calculated the genealogy sizes for 1512 probands.\n"
     ]
    }
   ],
   "source": [
    "print('Calculated the genealogy sizes for {n} probands.'.format(n=len(gen_sizes)))"
   ]
  },
  {
   "cell_type": "code",
   "execution_count": 190,
   "metadata": {},
   "outputs": [],
   "source": [
    "for rin, count, distinct_count in gen_sizes:\n",
    "    output_data[rin]['gen_size'] = count\n",
    "    output_data[rin]['gen_size_unique'] = distinct_count"
   ]
  },
  {
   "cell_type": "markdown",
   "metadata": {},
   "source": [
    "## Lineage lengths\n",
    "\n",
    "For each proband, calculate the length of all paths to all founders. Note that probands with no ancestors in the genealogy will not yield a result here."
   ]
  },
  {
   "cell_type": "code",
   "execution_count": 194,
   "metadata": {},
   "outputs": [
    {
     "name": "stdout",
     "output_type": "stream",
     "text": [
      "CPU times: user 8min 32s, sys: 32.9 s, total: 9min 5s\n",
      "Wall time: 11min 3s\n"
     ]
    }
   ],
   "source": [
    "%%time\n",
    "results = session.run('UNWIND $inds AS x MATCH path = (p:Person {ind: x})-[:is_child*]->(a:Founder) RETURN x, a.ind, length(path)', inds=rin_list)\n",
    "values = results.values()"
   ]
  },
  {
   "cell_type": "markdown",
   "metadata": {},
   "source": [
    "The result is a list where each item is a path from one particular proband to one particular founder. Convert this so we have one dict per proband."
   ]
  },
  {
   "cell_type": "code",
   "execution_count": 195,
   "metadata": {},
   "outputs": [],
   "source": [
    "path_sum_dict = dict()\n",
    "for ind, anc, path_len in values:\n",
    "    if path_sum_dict.get(ind) is None:\n",
    "        # Initialize list for current individual.\n",
    "        path_sum_dict[ind] = []\n",
    "    \n",
    "    # Add the current path to this individual.\n",
    "    path_sum_dict[ind].append([anc, path_len])"
   ]
  },
  {
   "cell_type": "markdown",
   "metadata": {},
   "source": [
    "Calculate the shortest and longest paths and add this information to the `output_data` dictionary."
   ]
  },
  {
   "cell_type": "code",
   "execution_count": 196,
   "metadata": {},
   "outputs": [],
   "source": [
    "for rin, path_list in path_sum_dict.items():\n",
    "    oldest_ancestors, longest_path = max(path_list, key=lambda x: x[1])\n",
    "    youngest_ancestors, shortest_path = min(path_list, key=lambda x: x[1])\n",
    "    \n",
    "    output_data[rin]['longest_lineage'] = longest_path\n",
    "    output_data[rin]['shortest_lineage'] = shortest_path"
   ]
  },
  {
   "cell_type": "markdown",
   "metadata": {},
   "source": [
    "## Write results to CSV"
   ]
  },
  {
   "cell_type": "code",
   "execution_count": 214,
   "metadata": {},
   "outputs": [],
   "source": [
    "# Path to write CSV to.\n",
    "csv_path = '/home/olavur/experiments/2020-11-13_fargen1_exome_analysis/data/genealogy/individuals_summary.csv'\n",
    "with open(csv_path, 'w') as fid:\n",
    "    # Header of CSV.\n",
    "    header = 'ind,sample,gen_size,gen_size_unique,shortest_lineage,longest_lineage'\n",
    "    fid.write(header + '\\n')\n",
    "    # Loop over individuals in output data dictionary.\n",
    "    for ind in output_data.keys():\n",
    "        # Get each value to write to the current line.\n",
    "        sample = output_data[ind].get('sample')\n",
    "        gen_size = output_data[ind].get('gen_size')\n",
    "        gen_size_unique = output_data[ind].get('gen_size_unique')\n",
    "        shortest_lineage = output_data[ind].get('shortest_lineage')\n",
    "        longest_lineage = output_data[ind].get('longest_lineage')\n",
    "        \n",
    "        # Probands with no ancestors in the genealogy will have path lengths \"None\". Set these to zero.\n",
    "        if shortest_lineage is None:\n",
    "            shortest_lineage = 0\n",
    "        if longest_lineage is None:\n",
    "            longest_lineage = 0\n",
    "            \n",
    "        # Write a line.\n",
    "        line = '{ind},{sample},{gen_size},{gen_size_unique},{shortest_lineage},{longest_lineage}'.format(\n",
    "                    ind=ind,sample=sample,gen_size=gen_size,gen_size_unique=gen_size_unique,\n",
    "                    shortest_lineage=shortest_lineage,longest_lineage=longest_lineage)\n",
    "        row = line + '\\n'\n",
    "        fid.write(row)"
   ]
  }
 ],
 "metadata": {
  "kernelspec": {
   "display_name": "Python 3",
   "language": "python",
   "name": "python3"
  },
  "language_info": {
   "codemirror_mode": {
    "name": "ipython",
    "version": 3
   },
   "file_extension": ".py",
   "mimetype": "text/x-python",
   "name": "python",
   "nbconvert_exporter": "python",
   "pygments_lexer": "ipython3",
   "version": "3.9.2"
  }
 },
 "nbformat": 4,
 "nbformat_minor": 4
}
